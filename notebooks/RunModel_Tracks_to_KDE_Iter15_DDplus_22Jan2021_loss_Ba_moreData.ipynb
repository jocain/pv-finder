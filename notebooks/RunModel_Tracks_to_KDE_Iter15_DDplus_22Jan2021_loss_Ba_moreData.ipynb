{
 "cells": [
  {
   "cell_type": "code",
   "execution_count": 1,
   "metadata": {},
   "outputs": [],
   "source": [
    "##%matplotlib widget\n",
    "## with %matplotlib notebook: seems to require ipympl as part of environment, either\n",
    "## part of the conda environment or \"pip install ipympl\"\n",
    "## otherwise, does not show ANY plots in note\"book, plt.savefig() works\n",
    "%matplotlib notebook  \n",
    "##%matplotlib inline    ## --plt.savefig()  works, but re-sizing does NOT\n"
   ]
  },
  {
   "cell_type": "markdown",
   "metadata": {},
   "source": [
    "This notebook is the second attempt to read in track information and use it to predict the KDE used as input to PvFinder. This time, we are reading in poca KDEs rather than the original KDEs. \n",
    "\n",
    "collectdata_kde_C.py uses poca_z, poca_x, poca_y, major_axis_x, major_axis_y, and major_axis_z as the six track parameters (for the moment)\n"
   ]
  },
  {
   "cell_type": "markdown",
   "metadata": {},
   "source": [
    "Check the current GPU usage. Please try to be nice!"
   ]
  },
  {
   "cell_type": "code",
   "execution_count": 2,
   "metadata": {},
   "outputs": [
    {
     "name": "stdout",
     "output_type": "stream",
     "text": [
      "Fri Jan 22 20:36:44 2021       \n",
      "+-----------------------------------------------------------------------------+\n",
      "| NVIDIA-SMI 440.64.00    Driver Version: 440.64.00    CUDA Version: 10.2     |\n",
      "|-------------------------------+----------------------+----------------------+\n",
      "| GPU  Name        Persistence-M| Bus-Id        Disp.A | Volatile Uncorr. ECC |\n",
      "| Fan  Temp  Perf  Pwr:Usage/Cap|         Memory-Usage | GPU-Util  Compute M. |\n",
      "|===============================+======================+======================|\n",
      "|   0  TITAN V             Off  | 00000000:03:00.0 Off |                  N/A |\n",
      "| 28%   31C    P8    23W / 250W |   6021MiB / 12066MiB |      0%      Default |\n",
      "+-------------------------------+----------------------+----------------------+\n",
      "|   1  Tesla P100-PCIE...  Off  | 00000000:83:00.0 Off |                    0 |\n",
      "| N/A   31C    P0    26W / 250W |     10MiB / 16280MiB |      0%      Default |\n",
      "+-------------------------------+----------------------+----------------------+\n",
      "|   2  TITAN V             Off  | 00000000:84:00.0 Off |                  N/A |\n",
      "| 28%   34C    P8    25W / 250W |     12MiB / 12066MiB |      0%      Default |\n",
      "+-------------------------------+----------------------+----------------------+\n",
      "                                                                               \n",
      "+-----------------------------------------------------------------------------+\n",
      "| Processes:                                                       GPU Memory |\n",
      "|  GPU       PID   Type   Process name                             Usage      |\n",
      "|=============================================================================|\n",
      "|    0     10694      C   ...a/conda/envs/goofit-june2020/bin/python  2457MiB |\n",
      "|    0     10716      C   ...a/conda/envs/goofit-june2020/bin/python  2457MiB |\n",
      "|    0     42274      C   ...a/conda/envs/goofit-june2020/bin/python  1095MiB |\n",
      "+-----------------------------------------------------------------------------+\n"
     ]
    }
   ],
   "source": [
    "!nvidia-smi"
   ]
  },
  {
   "cell_type": "markdown",
   "metadata": {},
   "source": [
    "> **WARNING**: The card numbers here are *not* the same as in CUDA. You have been warned."
   ]
  },
  {
   "cell_type": "markdown",
   "metadata": {},
   "source": [
    "This notebook is first attempt to read in track information and use it to predict the KDE used as input to PvFinder.\n"
   ]
  },
  {
   "cell_type": "markdown",
   "metadata": {},
   "source": [
    "## Imports"
   ]
  },
  {
   "cell_type": "code",
   "execution_count": 3,
   "metadata": {},
   "outputs": [],
   "source": [
    "import matplotlib.pyplot as plt\n",
    "import numpy as np\n",
    "import time\n",
    "import torch\n",
    "import pandas as pd\n",
    "\n",
    "# Python 3 standard library\n",
    "from pathlib import Path\n",
    "\n",
    "##from torchsummary import summary"
   ]
  },
  {
   "cell_type": "markdown",
   "metadata": {},
   "source": [
    "### Set up local parameters"
   ]
  },
  {
   "cell_type": "code",
   "execution_count": 4,
   "metadata": {},
   "outputs": [],
   "source": [
    "n_epochs = 100\n",
    "\n",
    "# Name is the output file name\n",
    "\n",
    "\n",
    "##  201027 -- about to go to bed, so try 2500 epochs with lr = 1e55\n",
    "##  previous iteration had l4 = 3e-5 and cost dropped almost linearly\n",
    "##  for 100 epochs -- final training costs ~ 2.02, validation cost ~ 2.01\n",
    "\n",
    "## for iter 4, try 10 epochs with lr = 3e-6\n",
    "## usually have a big jump down at epoch 0; want to try a\n",
    "## small number of epochs per iteration and see what happens (iter4: 10 epochs gave\n",
    "## traiing cost dropping from 1.54 to 1.50 immediately, then dropping very slowly)\n",
    "\n",
    "## For iter12, let's try increaseing the learning rate from 1em5 to 1p5em5 as the\n",
    "## training costs have been dropping almost \"linearlY\" on the semilog plot\n",
    "## for several iterations, suggesting that we can afford to take the risk\n",
    "## For good measure, we'll try this for 10 epochs as a test \n",
    "##  Iter12 seems to have worked we4ll, so start iter13 for 60 epochs\n",
    "## so it will run over night\n",
    "folder = '22Jan_DDplus_loss_Ba_iter15_floatAll_100epochs_1p5em5_4xwill'\n",
    "name   = folder\n",
    "\n",
    "# Make an output folder named \"name\" (change if you want)\n",
    "\n",
    "## Special instructions for those working on goofy at UC\n",
    "## Please be very careful to make sure that your folder\n",
    "## does not live in a subdirectory of your home directory\n",
    "## this disk has very little capacity. Instead, use \n",
    "## a subdirectory in /share/lazy with a symbolic link to\n",
    "## it in this (the notebooks) subdirectory\n",
    "folder = 'ML/' + folder\n",
    "output = Path(folder)\n",
    "\n",
    "\n",
    "# Size of batches\n",
    "batch_size = 48 ## batch_size = 24 ---> 4763MiB / 12066MiB on Titan V\n",
    "# How fast to learn\n",
    "learning_rate = 1.5e-5"
   ]
  },
  {
   "cell_type": "markdown",
   "metadata": {},
   "source": [
    "Make the output directory if it does not exist:"
   ]
  },
  {
   "cell_type": "code",
   "execution_count": 5,
   "metadata": {},
   "outputs": [],
   "source": [
    "output.mkdir(exist_ok=True)"
   ]
  },
  {
   "cell_type": "markdown",
   "metadata": {},
   "source": [
    "## Get the helper functions\n",
    "\n",
    "Add the directory with the model\n",
    "definitions to the path so we can import from it:\n",
    "\n",
    "> When you type `import X`,\n",
    "Python searches `sys.path` for a python\n",
    "file named `X.py` to import. So we need to add the model directory to the path."
   ]
  },
  {
   "cell_type": "code",
   "execution_count": 6,
   "metadata": {
    "scrolled": true
   },
   "outputs": [],
   "source": [
    "# From model/collectdata.py\n",
    "##from model.collectdata_kde_B import collect_t2kde_data\n",
    "## collectdata_kde_C should use the new poca KDE rather than the original kernel KDE\n",
    "from model.collectdata_kde_Ellipsoids import collect_t2kde_data\n",
    "\n",
    "\n",
    "# From model/loss.py\n",
    "##from loss import Loss\n",
    "## kde_loss_D includes botha ratio term and a chisq term, 98% ave_chisq\n",
    "## kde_loss_E adds a chi^4 term to the kde_loss_D return value\n",
    "## this is intended to emphasize the importance of values significantly different than zero\n",
    "from model.kde_loss_Ba import Loss\n",
    "\n",
    "##  TracksToKDE_Ellipsoids_SevenLayerCake has 7 hidden layers producing the 4000-bin KDE historgram\n",
    "##  It takes 9 input features (pocca centers + (A,B,C,D,E,F) . \n",
    "from model.models_kde import TracksToKDE_Ellipsoids_DDplus as Model\n",
    "\n",
    "\n",
    "from model.training_kde import trainNet, select_gpu, Results\n",
    "from model.plots import dual_train_plots, replace_in_ax"
   ]
  },
  {
   "cell_type": "code",
   "execution_count": 7,
   "metadata": {},
   "outputs": [],
   "source": [
    "# This gets built up during the run - do not rerun this cell\n",
    "results = pd.DataFrame([], columns=Results._fields)"
   ]
  },
  {
   "cell_type": "markdown",
   "metadata": {},
   "source": [
    "Set up Torch device configuration. All tensors and model parameters need to know where to be put.\n",
    "This takes a BUS ID number: The BUS ID is the same as the listing at the top of this script."
   ]
  },
  {
   "cell_type": "code",
   "execution_count": 8,
   "metadata": {},
   "outputs": [
    {
     "name": "stdout",
     "output_type": "stream",
     "text": [
      "1 available GPUs (initially using device 0):\n",
      "  0 TITAN V\n"
     ]
    }
   ],
   "source": [
    "device = select_gpu(2)\n",
    "##device = \"cpu\""
   ]
  },
  {
   "cell_type": "markdown",
   "metadata": {},
   "source": [
    "## Loading data\n",
    "\n",
    "Load the dataset, split into parts, then move to device (see `collectdata.py` in the `../model` directory)"
   ]
  },
  {
   "cell_type": "markdown",
   "metadata": {},
   "source": [
    "# Preparing the model"
   ]
  },
  {
   "cell_type": "markdown",
   "metadata": {},
   "source": [
    "Prepare a model, use multiple GPUs if they are VISIBLE, and move the model to the device."
   ]
  },
  {
   "cell_type": "code",
   "execution_count": 9,
   "metadata": {
    "scrolled": true
   },
   "outputs": [],
   "source": [
    "##print(\"Let's use\", torch.cuda.device_count(), \"GPUs!\")\n",
    "##if torch.cuda.device_count() > 1:\n",
    "##    model = torch.nn.DataParallel(model)"
   ]
  },
  {
   "cell_type": "code",
   "execution_count": 10,
   "metadata": {},
   "outputs": [
    {
     "name": "stdout",
     "output_type": "stream",
     "text": [
      "ct, child =  0    Linear(in_features=9, out_features=50, bias=True)\n",
      "ct, child =  1    Linear(in_features=50, out_features=50, bias=True)\n",
      "ct, child =  2    Linear(in_features=50, out_features=50, bias=True)\n",
      "ct, child =  3    Linear(in_features=50, out_features=50, bias=True)\n",
      "ct, child =  4    Linear(in_features=50, out_features=50, bias=True)\n",
      "ct, child =  5    Linear(in_features=50, out_features=50, bias=True)\n",
      "ct, child =  6    Linear(in_features=50, out_features=50, bias=True)\n",
      "ct, child =  7    Linear(in_features=50, out_features=50, bias=True)\n",
      "ct, child =  8    Linear(in_features=50, out_features=50, bias=True)\n",
      "ct, child =  9    Linear(in_features=50, out_features=50, bias=True)\n",
      "ct, child =  10    Linear(in_features=50, out_features=50, bias=True)\n",
      "ct, child =  11    Linear(in_features=50, out_features=16000, bias=True)\n",
      "ct, child =  12    Conv1d(4, 25, kernel_size=(25,), stride=(1,), padding=(12,))\n",
      "ct, child =  13    Conv1d(25, 1, kernel_size=(5,), stride=(1,), padding=(2,))\n",
      "ct, child =  14    Linear(in_features=4000, out_features=4000, bias=True)\n",
      "ct, child =  15    Conv1d(25, 1, kernel_size=(15,), stride=(1,), padding=(7,))\n",
      "ct, child =  16    Dropout(p=0.15, inplace=False)\n",
      "ct, child =  17    Dropout(p=0.15, inplace=False)\n"
     ]
    }
   ],
   "source": [
    "## a comment on the web at https://pytorch.org/docs/stable/optim.html says\n",
    "\"\"\"\n",
    "If you need to move a model to GPU via .cuda(), please do so before constructing optimizers for it. \n",
    "Parameters of a model after .cuda() will be different objects with those before the call.\n",
    "\n",
    "In general, you should make sure that optimized parameters live in consistent locations when \n",
    "optimizers are constructed and used.\n",
    "\"\"\"\n",
    "## so move this here (although we are using model.to(device) not explicitly using .cuda()\n",
    "\n",
    "nOut1 = 50\n",
    "nOut2 = 50\n",
    "nOut3 = 50\n",
    "nOut4 = 50\n",
    "nOut5 = 50\n",
    "nOut6 = 50\n",
    "nOut7 = 50\n",
    "nOut8 = 50\n",
    "nOut9 = 50\n",
    "nOut10 = 50\n",
    "nOut11 = 50\n",
    "latentChannels = 4\n",
    "model = Model(nOut1,nOut2,nOut3,nOut4,nOut5,nOut6,nOut7,nOut8,nOut9,nOut10,nOut11,latentChannels)\n",
    "\n",
    "##summary(model, input_size=(4, 4000))\n",
    "##print(model.parameters)\n",
    "\n",
    "## add the following code to allow the user to freeze the some of the weights corresponding \n",
    "## to those taken from an earlier model trained with the original target histograms\n",
    "## presumably -- this leaves either the perturbative filter \"fixed\" and lets the \n",
    "## learning focus on the non-perturbative features, so get started faster, or vice versa\n",
    "ct = 0\n",
    "for child in model.children():\n",
    "  print('ct, child = ',ct, \"  \", child)\n",
    "  if ct < 0:\n",
    "    print(\"     About to set param.requires_grad=False for ct = \", ct, \"params\")\n",
    "    for param in child.parameters():\n",
    "        param.requires_grad = False \n",
    "  ct += 1\n",
    "##  mds 200121 loss = Loss(epsilon=1e-5,coefficient=1.0)\n",
    "##  loss = Loss(epsilon=1e-5,coefficient=2.5)\n",
    "##loss = Loss(epsilon=3e-5, debug=False)\n",
    "loss = Loss(epsilon=3e-5)"
   ]
  },
  {
   "cell_type": "markdown",
   "metadata": {},
   "source": [
    "Let's move the model's weight matricies to the GPU:"
   ]
  },
  {
   "cell_type": "code",
   "execution_count": 11,
   "metadata": {
    "scrolled": true
   },
   "outputs": [],
   "source": [
    "model = model.to(device)"
   ]
  },
  {
   "cell_type": "code",
   "execution_count": 12,
   "metadata": {
    "scrolled": true
   },
   "outputs": [],
   "source": [
    "optimizer = torch.optim.Adam(model.parameters(), lr=learning_rate)\n",
    "##optimizer = torch.optim.SGD(model.parameters(), lr=learning_rate)"
   ]
  },
  {
   "cell_type": "code",
   "execution_count": 13,
   "metadata": {
    "scrolled": false
   },
   "outputs": [
    {
     "name": "stdout",
     "output_type": "stream",
     "text": [
      "output =  ML/22Jan_DDplus_loss_Ba_iter15_floatAll_100epochs_1p5em5_4xwill\n",
      "for model_dict\n",
      "index, k =   0    layer1.weight\n",
      "index, k =   1    layer1.bias\n",
      "index, k =   2    layer2.weight\n",
      "index, k =   3    layer2.bias\n",
      "index, k =   4    layer3.weight\n",
      "index, k =   5    layer3.bias\n",
      "index, k =   6    layer4.weight\n",
      "index, k =   7    layer4.bias\n",
      "index, k =   8    layer5.weight\n",
      "index, k =   9    layer5.bias\n",
      "index, k =   10    layer6.weight\n",
      "index, k =   11    layer6.bias\n",
      "index, k =   12    layer7.weight\n",
      "index, k =   13    layer7.bias\n",
      "index, k =   14    layer8.weight\n",
      "index, k =   15    layer8.bias\n",
      "index, k =   16    layer9.weight\n",
      "index, k =   17    layer9.bias\n",
      "index, k =   18    layer10.weight\n",
      "index, k =   19    layer10.bias\n",
      "index, k =   20    layer11.weight\n",
      "index, k =   21    layer11.bias\n",
      "index, k =   22    layer12new.weight\n",
      "index, k =   23    layer12new.bias\n",
      "index, k =   24    conv1.weight\n",
      "index, k =   25    conv1.bias\n",
      "index, k =   26    conv2.weight\n",
      "index, k =   27    conv2.bias\n",
      "index, k =   28    fc1.weight\n",
      "index, k =   29    fc1.bias\n",
      "index, k =   30    finalFilter.weight\n",
      "index, k =   31    finalFilter.bias\n",
      "dict_name =  ML/22Jan_DDplus_loss_Ba_iter14_floatAll_60epochs_1p5em5_4xwill/22Jan_DDplus_loss_Ba_iter14_floatAll_60epochs_1p5em5_4xwill_final.pyt\n",
      " \n",
      "  for pretrained_dict\n",
      "index, k =   0    layer1.weight\n",
      "index, k =   1    layer1.bias\n",
      "index, k =   2    layer2.weight\n",
      "index, k =   3    layer2.bias\n",
      "index, k =   4    layer3.weight\n",
      "index, k =   5    layer3.bias\n",
      "index, k =   6    layer4.weight\n",
      "index, k =   7    layer4.bias\n",
      "index, k =   8    layer5.weight\n",
      "index, k =   9    layer5.bias\n",
      "index, k =   10    layer6.weight\n",
      "index, k =   11    layer6.bias\n",
      "index, k =   12    layer7.weight\n",
      "index, k =   13    layer7.bias\n",
      "index, k =   14    layer8.weight\n",
      "index, k =   15    layer8.bias\n",
      "index, k =   16    layer9.weight\n",
      "index, k =   17    layer9.bias\n",
      "index, k =   18    layer10.weight\n",
      "index, k =   19    layer10.bias\n",
      "index, k =   20    layer11.weight\n",
      "index, k =   21    layer11.bias\n",
      "index, k =   22    layer12new.weight\n",
      "index, k =   23    layer12new.bias\n",
      "index, k =   24    conv1.weight\n",
      "index, k =   25    conv1.bias\n",
      "index, k =   26    conv2.weight\n",
      "index, k =   27    conv2.bias\n",
      "index, k =   28    fc1.weight\n",
      "index, k =   29    fc1.bias\n",
      "index, k =   30    finalFilter.weight\n",
      "index, k =   31    finalFilter.bias\n",
      "pretrained_dict iterated\n"
     ]
    },
    {
     "data": {
      "text/plain": [
       "<All keys matched successfully>"
      ]
     },
     "execution_count": 13,
     "metadata": {},
     "output_type": "execute_result"
    }
   ],
   "source": [
    "print('output = ',output)\n",
    "##print('oldOutput = ',oldOutput)\n",
    "##  use the first four layers from a pre-existing model\n",
    "##  see example at https://discuss.pytorch.org/t/how-to-load-part-of-pre-trained-model/1113\n",
    "\n",
    "##   ML -> /share/lazy/sokoloff/ML\n",
    "model_dict = model.state_dict()\n",
    "## mds 190725 for debugging\n",
    "print(\"for model_dict\")\n",
    "index = 0\n",
    "for k,v in model_dict.items():\n",
    "    print(\"index, k =  \",index,\"  \",k)\n",
    "    index = index+1\n",
    "##    print(\"value = \", v)\n",
    " \n",
    "updated_dict = model_dict\n",
    "##print(\"updated_dict = \",updated_dict)\n",
    "## when starting \"ab initio\", reduce biases as the bias gets summed for each track\n",
    "## contributing to the predicted KDE\n",
    "updated_dict[\"layer1.bias\"] = 0.005*model_dict[\"layer1.bias\"]\n",
    "updated_dict[\"layer2.bias\"] = 0.005*model_dict[\"layer2.bias\"]\n",
    "updated_dict[\"layer3.bias\"] = 0.005*model_dict[\"layer3.bias\"]\n",
    "updated_dict[\"layer4.bias\"] = 0.005*model_dict[\"layer4.bias\"]\n",
    "updated_dict[\"layer5.bias\"] = 0.005*model_dict[\"layer5.bias\"]\n",
    "updated_dict[\"layer6.bias\"] = 0.005*model_dict[\"layer6.bias\"]\n",
    "updated_dict[\"layer7.bias\"] = 0.005*model_dict[\"layer7.bias\"]\n",
    "updated_dict[\"layer8.bias\"] = 0.005*model_dict[\"layer8.bias\"]\n",
    "updated_dict[\"layer9.bias\"] = 0.005*model_dict[\"layer9.bias\"]\n",
    "updated_dict[\"layer10.bias\"] = 0.005*model_dict[\"layer10.bias\"]\n",
    "updated_dict[\"layer11.bias\"] = 0.005*model_dict[\"layer11.bias\"]\n",
    "\n",
    "model.load_state_dict(updated_dict,strict=False)\n",
    "\n",
    "model_dict = model.state_dict()\n",
    "##print(\"updated model_dict = \",model_dict)\n",
    "\n",
    "## print(\" \\n\",\"  for pretrained_dict\")\n",
    "## index = 0\n",
    "##for k,v in pretrained_dict.items():\n",
    "##    print(\"index, k =  \",index,\"  \",k)\n",
    "##    index = index+1\n",
    "## mds  \n",
    "\n",
    "##pretrained_dict = torch.load('ML/29July2020_Trks_to_KDE_C_lossB_100epochs_b64_1m3_nOut_50x50/29July2020_Trks_to_KDE_C_lossB_100epochs_b64_1m3_nOut_50x50_final.pyt')\n",
    "##print(\"model_dict instantiated\")\n",
    "# 1. filter out unnecessary keys\n",
    "##pretrained_dict = {k: v for k, v in pretrained_dict.items() if k in model_dict}\n",
    "##print(\"pretrained_dict iterated\")\n",
    "# 2. overwrite entries in the existing state dict\n",
    "##model_dict.update(pretrained_dict) \n",
    "##\n",
    "#   when starting from a model with a fully connected last layer rather than a convolutional layer\n",
    "# 3. load the new state dict\n",
    "#   need to use strict=False as the two models state model attributes do not agree exactly\n",
    "#   see https://pytorch.org/docs/master/_modules/torch/nn/modules/module.html#Module.load_state_dict\n",
    "\n",
    "##model.load_state_dict(pretrained_dict,strict=False)\n",
    "\n",
    "## print('model_dict =    ', model_dict)\n",
    "\n",
    "## finished at training cost = 1.46, validation cost = 1.50\n",
    "##d_folder = '25December__DDplus_loss_Ba_iter7_floatAll_800epochs_4em6'\n",
    "d_folder = '22Jan_DDplus_loss_Ba_iter14_floatAll_60epochs_1p5em5_4xwill'\n",
    "d_name = d_folder\n",
    "suffix = 'final'\n",
    "dict_name = 'ML/' + d_folder + '/' + d_name + '_'+ suffix + '.pyt'\n",
    "print('dict_name = ',dict_name)\n",
    "pretrained_dict = torch.load(dict_name)\n",
    "\n",
    "print(\" \")\n",
    "print(\"  for pretrained_dict\")\n",
    "index = 0\n",
    "for k,v in pretrained_dict.items():\n",
    "    print(\"index, k =  \",index,\"  \",k)\n",
    "    index = index+1\n",
    " \n",
    "\n",
    "##print(\"model_dict instantiated\")\n",
    "# 1. filter out unnecessary keys\n",
    "pretrained_dict = {k: v for k, v in pretrained_dict.items() if k in model_dict}\n",
    "print(\"pretrained_dict iterated\")\n",
    "# 2. overwrite entries in the existing state dict\n",
    "model_dict.update(pretrained_dict) \n",
    "##\n",
    "#   when starting from a model with a fully connected last layer rather than a convolutional layer\n",
    "# 3. load the new state dict\n",
    "#   need to use strict=False as the two models state model attributes do not agree exactly\n",
    "#   see https://pytorch.org/docs/master/_modules/torch/nn/modules/module.html#Module.load_state_dict\n",
    "\n",
    "model.load_state_dict(pretrained_dict,strict=False)\n",
    "\n"
   ]
  },
  {
   "cell_type": "code",
   "execution_count": 14,
   "metadata": {},
   "outputs": [],
   "source": [
    "##print('validation.dataset.tensors = ',validation.dataset.tensors)\n",
    "fig_size = plt.rcParams[\"figure.figsize\"]\n",
    "fig_size[0] = 10\n",
    "fig_size[1] = 4\n",
    "plt.rcParams[\"figure.figsize\"] = fig_size"
   ]
  },
  {
   "cell_type": "code",
   "execution_count": 15,
   "metadata": {
    "scrolled": false
   },
   "outputs": [
    {
     "name": "stdout",
     "output_type": "stream",
     "text": [
      "Loading data...\n",
      "pocaMx.shape =  (80000,)\n",
      "nEvts =  80000\n",
      "len(pocaMx[0]) =  199\n",
      "len(pocaMx[1]) =  25\n",
      "len(pocaMx[2]) =  369\n",
      "len(pocaMx[3]) =  143\n",
      "len(pocaMx[4]) =  160\n",
      "majorAxis.shape =  (80000, 3)\n",
      "minorAxis_1.shape =  (80000, 3)\n",
      "minorAxis_2.shape =  (80000, 3)\n",
      "have entered six_ellipsoid_parameters\n",
      "  \n",
      " \n",
      "  nEvts =  80000\n",
      " iEvt, nTrks =  0 199\n",
      " iEvt, nTrks =  1 25\n",
      " iEvt, nTrks =  2 369\n",
      " iEvt, nTrks =  3 143\n",
      " iEvt, nTrks =  4 160\n",
      " iEvt, nTrks =  5 260\n",
      " iEvt, nTrks =  6 237\n",
      " iEvt, nTrks =  7 327\n",
      " iEvt, nTrks =  8 178\n",
      " iEvt, nTrks =  9 106\n",
      "A.shape =  (80000,)\n",
      "majorAxis[iTrk][0][0] =  0.00045611936\n",
      "majorAxis[iTrk][1][0] =  -4.8292455e-05\n",
      "majorAxis[iTrk][2][0] =  0.090019904\n",
      "minorAxis_1[iTrk][0][0] =  -1.8602173\n",
      "minorAxis_1[iTrk][1][0] =  -17.569641\n",
      "minorAxis_1[iTrk][2][0] =  4.7891795e-08\n",
      "minorAxis_2[iTrk][0][0] =  -17.569414\n",
      "minorAxis_2[iTrk][1][0] =  1.8601931\n",
      "minorAxis_2[iTrk][2][0] =  0.0900199\n",
      "  \n",
      "majorAxis[iTrk][0][0] =  0.002360258\n",
      "majorAxis[iTrk][1][0] =  -0.007426616\n",
      "majorAxis[iTrk][2][0] =  0.3710108\n",
      "minorAxis_1[iTrk][0][0] =  -16.837948\n",
      "minorAxis_1[iTrk][1][0] =  -5.3512807\n",
      "minorAxis_1[iTrk][2][0] =  8.157131e-09\n",
      "minorAxis_2[iTrk][0][0] =  -5.3501005\n",
      "minorAxis_2[iTrk][1][0] =  16.834236\n",
      "minorAxis_2[iTrk][2][0] =  0.3710108\n",
      "  \n",
      "majorAxis[iTrk][0][0] =  6.220712e-05\n",
      "majorAxis[iTrk][1][0] =  -4.4594188e-05\n",
      "majorAxis[iTrk][2][0] =  0.036773544\n",
      "minorAxis_1[iTrk][0][0] =  10.293747\n",
      "minorAxis_1[iTrk][1][0] =  14.359369\n",
      "minorAxis_1[iTrk][2][0] =  1.571041e-06\n",
      "minorAxis_2[iTrk][0][0] =  14.359338\n",
      "minorAxis_2[iTrk][1][0] =  -10.293725\n",
      "minorAxis_2[iTrk][2][0] =  -0.03677354\n",
      "  \n",
      "majorAxis[iTrk][0][0] =  0.0033452737\n",
      "majorAxis[iTrk][1][0] =  0.00013028442\n",
      "majorAxis[iTrk][2][0] =  0.2431933\n",
      "minorAxis_1[iTrk][0][0] =  0.6875674\n",
      "minorAxis_1[iTrk][1][0] =  -17.65446\n",
      "minorAxis_1[iTrk][2][0] =  -6.6602626e-09\n",
      "minorAxis_2[iTrk][0][0] =  -17.652788\n",
      "minorAxis_2[iTrk][1][0] =  -0.68750226\n",
      "minorAxis_2[iTrk][2][0] =  0.2431933\n",
      "  \n",
      "majorAxis[iTrk][0][0] =  -0.00068196515\n",
      "majorAxis[iTrk][1][0] =  -0.00044562915\n",
      "majorAxis[iTrk][2][0] =  0.119970225\n",
      "minorAxis_1[iTrk][0][0] =  9.664597\n",
      "minorAxis_1[iTrk][1][0] =  -14.790141\n",
      "minorAxis_1[iTrk][2][0] =  1.9819232e-08\n",
      "minorAxis_2[iTrk][0][0] =  -14.789802\n",
      "minorAxis_2[iTrk][1][0] =  -9.664374\n",
      "minorAxis_2[iTrk][2][0] =  -0.11997023\n",
      "  \n",
      "majorAxis[iTrk][0][0] =  -8.245073e-05\n",
      "majorAxis[iTrk][1][0] =  0.00015860004\n",
      "majorAxis[iTrk][2][0] =  0.05619731\n",
      "minorAxis_1[iTrk][0][0] =  -15.676071\n",
      "minorAxis_1[iTrk][1][0] =  -8.149452\n",
      "minorAxis_1[iTrk][2][0] =  4.1105773e-07\n",
      "minorAxis_2[iTrk][0][0] =  -8.14941\n",
      "minorAxis_2[iTrk][1][0] =  15.675991\n",
      "minorAxis_2[iTrk][2][0] =  -0.056197315\n",
      "  \n",
      "majorAxis[iTrk][0][0] =  -0.00015151131\n",
      "majorAxis[iTrk][1][0] =  0.00067339616\n",
      "majorAxis[iTrk][2][0] =  0.11042937\n",
      "minorAxis_1[iTrk][0][0] =  17.236937\n",
      "minorAxis_1[iTrk][1][0] =  3.8782384\n",
      "minorAxis_1[iTrk][2][0] =  2.3217373e-08\n",
      "minorAxis_2[iTrk][0][0] =  3.8781626\n",
      "minorAxis_2[iTrk][1][0] =  -17.236599\n",
      "minorAxis_2[iTrk][2][0] =  0.11042936\n",
      "  \n",
      "majorAxis[iTrk][0][0] =  -7.577422e-05\n",
      "majorAxis[iTrk][1][0] =  -0.00036802414\n",
      "majorAxis[iTrk][2][0] =  0.08147708\n",
      "minorAxis_1[iTrk][0][0] =  -17.304853\n",
      "minorAxis_1[iTrk][1][0] =  3.5629773\n",
      "minorAxis_1[iTrk][2][0] =  5.80501e-09\n",
      "minorAxis_2[iTrk][0][0] =  3.5629392\n",
      "minorAxis_2[iTrk][1][0] =  17.304668\n",
      "minorAxis_2[iTrk][2][0] =  0.081477076\n",
      "  \n",
      "majorAxis[iTrk][0][0] =  0.00013397264\n",
      "majorAxis[iTrk][1][0] =  0.00094400026\n",
      "majorAxis[iTrk][2][0] =  0.12978876\n",
      "minorAxis_1[iTrk][0][0] =  17.492561\n",
      "minorAxis_1[iTrk][1][0] =  -2.4825466\n",
      "minorAxis_1[iTrk][2][0] =  1.1329301e-08\n",
      "minorAxis_2[iTrk][0][0] =  -2.4824798\n",
      "minorAxis_2[iTrk][1][0] =  -17.492088\n",
      "minorAxis_2[iTrk][2][0] =  0.12978874\n",
      "  \n",
      "majorAxis[iTrk][0][0] =  0.00043501743\n",
      "majorAxis[iTrk][1][0] =  -0.0016521378\n",
      "majorAxis[iTrk][2][0] =  0.17373301\n",
      "minorAxis_1[iTrk][0][0] =  -17.0855\n",
      "minorAxis_1[iTrk][1][0] =  -4.4987106\n",
      "minorAxis_1[iTrk][2][0] =  -7.7275175e-08\n",
      "minorAxis_2[iTrk][0][0] =  -4.4984937\n",
      "minorAxis_2[iTrk][1][0] =  17.084677\n",
      "minorAxis_2[iTrk][2][0] =  0.17373303\n",
      "  \n",
      "len(X) =  80000\n",
      "len(Xlist) =  1\n",
      "Loaded /share/lazy/will/data/June30_2020_80k_1.h5 in 153.0 s\n",
      "pocaMx.shape =  (80000,)\n",
      "nEvts =  80000\n",
      "len(pocaMx[0]) =  222\n",
      "len(pocaMx[1]) =  133\n",
      "len(pocaMx[2]) =  259\n",
      "len(pocaMx[3]) =  114\n",
      "len(pocaMx[4]) =  143\n",
      "majorAxis.shape =  (80000, 3)\n",
      "minorAxis_1.shape =  (80000, 3)\n",
      "minorAxis_2.shape =  (80000, 3)\n",
      "have entered six_ellipsoid_parameters\n",
      "  \n",
      " \n",
      "  nEvts =  80000\n",
      " iEvt, nTrks =  0 222\n",
      " iEvt, nTrks =  1 133\n",
      " iEvt, nTrks =  2 259\n",
      " iEvt, nTrks =  3 114\n",
      " iEvt, nTrks =  4 143\n",
      " iEvt, nTrks =  5 136\n",
      " iEvt, nTrks =  6 397\n",
      " iEvt, nTrks =  7 370\n",
      " iEvt, nTrks =  8 97\n",
      " iEvt, nTrks =  9 67\n",
      "A.shape =  (80000,)\n",
      "majorAxis[iTrk][0][0] =  -0.001036478\n",
      "majorAxis[iTrk][1][0] =  0.0009833863\n",
      "majorAxis[iTrk][2][0] =  0.15887721\n",
      "minorAxis_1[iTrk][0][0] =  -12.160475\n",
      "minorAxis_1[iTrk][1][0] =  -12.817002\n",
      "minorAxis_1[iTrk][2][0] =  0.0\n",
      "minorAxis_2[iTrk][0][0] =  -12.816484\n",
      "minorAxis_2[iTrk][1][0] =  12.159985\n",
      "minorAxis_2[iTrk][2][0] =  -0.15887721\n",
      "  \n",
      "majorAxis[iTrk][0][0] =  0.0016579849\n",
      "majorAxis[iTrk][1][0] =  0.0020989499\n",
      "majorAxis[iTrk][2][0] =  0.21738033\n",
      "minorAxis_1[iTrk][0][0] =  -13.864233\n",
      "minorAxis_1[iTrk][1][0] =  10.95152\n",
      "minorAxis_1[iTrk][2][0] =  -3.3017489e-09\n",
      "minorAxis_2[iTrk][0][0] =  10.95069\n",
      "minorAxis_2[iTrk][1][0] =  13.863184\n",
      "minorAxis_2[iTrk][2][0] =  -0.21738033\n",
      "  \n",
      "majorAxis[iTrk][0][0] =  0.00012481198\n",
      "majorAxis[iTrk][1][0] =  -0.00028747538\n",
      "majorAxis[iTrk][2][0] =  0.07441149\n",
      "minorAxis_1[iTrk][0][0] =  -16.206305\n",
      "minorAxis_1[iTrk][1][0] =  -7.036224\n",
      "minorAxis_1[iTrk][2][0] =  5.3456716e-08\n",
      "minorAxis_2[iTrk][0][0] =  -7.0361605\n",
      "minorAxis_2[iTrk][1][0] =  16.20616\n",
      "minorAxis_2[iTrk][2][0] =  0.07441148\n",
      "  \n",
      "majorAxis[iTrk][0][0] =  -0.007920195\n",
      "majorAxis[iTrk][1][0] =  -0.009694931\n",
      "majorAxis[iTrk][2][0] =  0.47021532\n",
      "minorAxis_1[iTrk][0][0] =  -13.682467\n",
      "minorAxis_1[iTrk][1][0] =  11.177781\n",
      "minorAxis_1[iTrk][2][0] =  1.8638048e-10\n",
      "minorAxis_2[iTrk][0][0] =  11.173822\n",
      "minorAxis_2[iTrk][1][0] =  13.677622\n",
      "minorAxis_2[iTrk][2][0] =  0.47021535\n",
      "  \n",
      "majorAxis[iTrk][0][0] =  0.00038854493\n",
      "majorAxis[iTrk][1][0] =  0.0009230774\n",
      "majorAxis[iTrk][2][0] =  0.13301943\n",
      "minorAxis_1[iTrk][0][0] =  -16.284061\n",
      "minorAxis_1[iTrk][1][0] =  6.854344\n",
      "minorAxis_1[iTrk][2][0] =  2.2469074e-07\n",
      "minorAxis_2[iTrk][0][0] =  6.8541493\n",
      "minorAxis_2[iTrk][1][0] =  16.283602\n",
      "minorAxis_2[iTrk][2][0] =  -0.13301945\n",
      "  \n",
      "majorAxis[iTrk][0][0] =  -5.6093595e-05\n",
      "majorAxis[iTrk][1][0] =  0.000114469876\n",
      "majorAxis[iTrk][2][0] =  0.04745733\n",
      "minorAxis_1[iTrk][0][0] =  15.865369\n",
      "minorAxis_1[iTrk][1][0] =  7.774496\n",
      "minorAxis_1[iTrk][2][0] =  1.8465234e-06\n",
      "minorAxis_2[iTrk][0][0] =  7.774468\n",
      "minorAxis_2[iTrk][1][0] =  -15.865313\n",
      "minorAxis_2[iTrk][2][0] =  0.04745733\n",
      "  \n",
      "majorAxis[iTrk][0][0] =  9.375396e-05\n",
      "majorAxis[iTrk][1][0] =  0.0002926058\n",
      "majorAxis[iTrk][2][0] =  0.07367872\n",
      "minorAxis_1[iTrk][0][0] =  -16.825275\n",
      "minorAxis_1[iTrk][1][0] =  5.390994\n",
      "minorAxis_1[iTrk][2][0] =  -2.1861728e-08\n",
      "minorAxis_2[iTrk][0][0] =  5.3909473\n",
      "minorAxis_2[iTrk][1][0] =  16.825129\n",
      "minorAxis_2[iTrk][2][0] =  -0.07367872\n",
      "  \n",
      "majorAxis[iTrk][0][0] =  -1.1543522e-06\n",
      "majorAxis[iTrk][1][0] =  2.8112001e-05\n",
      "majorAxis[iTrk][2][0] =  0.022295665\n",
      "minorAxis_1[iTrk][0][0] =  -17.652967\n",
      "minorAxis_1[iTrk][1][0] =  -0.7248769\n",
      "minorAxis_1[iTrk][2][0] =  1.7815448e-07\n",
      "minorAxis_2[iTrk][0][0] =  -0.7248763\n",
      "minorAxis_2[iTrk][1][0] =  17.652954\n",
      "minorAxis_2[iTrk][2][0] =  -0.022295661\n",
      "  \n",
      "majorAxis[iTrk][0][0] =  -0.2612214\n",
      "majorAxis[iTrk][1][0] =  0.83076316\n",
      "majorAxis[iTrk][2][0] =  3.8745012\n",
      "minorAxis_1[iTrk][0][0] =  -16.85429\n",
      "minorAxis_1[iTrk][1][0] =  -5.299587\n",
      "minorAxis_1[iTrk][2][0] =  2.0865195e-11\n",
      "minorAxis_2[iTrk][0][0] =  -5.1705856\n",
      "minorAxis_2[iTrk][1][0] =  16.444027\n",
      "minorAxis_2[iTrk][2][0] =  -3.874501\n",
      "  \n",
      "majorAxis[iTrk][0][0] =  -0.057592034\n",
      "majorAxis[iTrk][1][0] =  0.06503555\n",
      "majorAxis[iTrk][2][0] =  1.2373537\n",
      "minorAxis_1[iTrk][0][0] =  13.227038\n",
      "minorAxis_1[iTrk][1][0] =  11.713163\n",
      "minorAxis_1[iTrk][2][0] =  1.7679876e-10\n",
      "minorAxis_2[iTrk][0][0] =  11.684402\n",
      "minorAxis_2[iTrk][1][0] =  -13.194561\n",
      "minorAxis_2[iTrk][2][0] =  1.2373537\n",
      "  \n",
      "len(X) =  80000\n",
      "len(Xlist) =  2\n",
      "Loaded /share/lazy/will/data/June30_2020_80k_2.h5 in 154.9 s\n",
      "pocaMx.shape =  (80000,)\n"
     ]
    },
    {
     "name": "stdout",
     "output_type": "stream",
     "text": [
      "nEvts =  80000\n",
      "len(pocaMx[0]) =  196\n",
      "len(pocaMx[1]) =  35\n",
      "len(pocaMx[2]) =  265\n",
      "len(pocaMx[3]) =  128\n",
      "len(pocaMx[4]) =  124\n",
      "majorAxis.shape =  (80000, 3)\n",
      "minorAxis_1.shape =  (80000, 3)\n",
      "minorAxis_2.shape =  (80000, 3)\n",
      "have entered six_ellipsoid_parameters\n",
      "  \n",
      " \n",
      "  nEvts =  80000\n",
      " iEvt, nTrks =  0 196\n",
      " iEvt, nTrks =  1 35\n",
      " iEvt, nTrks =  2 265\n",
      " iEvt, nTrks =  3 128\n",
      " iEvt, nTrks =  4 124\n",
      " iEvt, nTrks =  5 122\n",
      " iEvt, nTrks =  6 300\n",
      " iEvt, nTrks =  7 179\n",
      " iEvt, nTrks =  8 243\n",
      " iEvt, nTrks =  9 112\n",
      "A.shape =  (80000,)\n",
      "majorAxis[iTrk][0][0] =  -2.440992e-05\n",
      "majorAxis[iTrk][1][0] =  -0.00038087237\n",
      "majorAxis[iTrk][2][0] =  0.08211532\n",
      "minorAxis_1[iTrk][0][0] =  -17.631672\n",
      "minorAxis_1[iTrk][1][0] =  1.130005\n",
      "minorAxis_1[iTrk][2][0] =  4.7444193e-08\n",
      "minorAxis_2[iTrk][0][0] =  1.1299927\n",
      "minorAxis_2[iTrk][1][0] =  17.631481\n",
      "minorAxis_2[iTrk][2][0] =  0.08211532\n",
      "  \n",
      "majorAxis[iTrk][0][0] =  -0.02277395\n",
      "majorAxis[iTrk][1][0] =  0.0014473597\n",
      "majorAxis[iTrk][2][0] =  0.6347583\n",
      "minorAxis_1[iTrk][0][0] =  -1.1205891\n",
      "minorAxis_1[iTrk][1][0] =  -17.632273\n",
      "minorAxis_1[iTrk][2][0] =  2.1543272e-09\n",
      "minorAxis_2[iTrk][0][0] =  -17.620888\n",
      "minorAxis_2[iTrk][1][0] =  1.1198657\n",
      "minorAxis_2[iTrk][2][0] =  -0.63475823\n",
      "  \n",
      "majorAxis[iTrk][0][0] =  0.0004024825\n",
      "majorAxis[iTrk][1][0] =  -0.00023784715\n",
      "majorAxis[iTrk][2][0] =  0.090883136\n",
      "minorAxis_1[iTrk][0][0] =  -8.988615\n",
      "minorAxis_1[iTrk][1][0] =  -15.210441\n",
      "minorAxis_1[iTrk][2][0] =  -6.56547e-08\n",
      "minorAxis_2[iTrk][0][0] =  -15.21024\n",
      "minorAxis_2[iTrk][1][0] =  8.988497\n",
      "minorAxis_2[iTrk][2][0] =  0.090883136\n",
      "  \n",
      "majorAxis[iTrk][0][0] =  0.0068744724\n",
      "majorAxis[iTrk][1][0] =  0.0017050834\n",
      "majorAxis[iTrk][2][0] =  0.3537121\n",
      "minorAxis_1[iTrk][0][0] =  4.2532983\n",
      "minorAxis_1[iTrk][1][0] =  -17.148241\n",
      "minorAxis_1[iTrk][2][0] =  1.1939819e-09\n",
      "minorAxis_2[iTrk][0][0] =  -17.144806\n",
      "minorAxis_2[iTrk][1][0] =  -4.252446\n",
      "minorAxis_2[iTrk][2][0] =  0.3537121\n",
      "  \n",
      "majorAxis[iTrk][0][0] =  -0.004920899\n",
      "majorAxis[iTrk][1][0] =  0.0009170567\n",
      "majorAxis[iTrk][2][0] =  0.2973651\n",
      "minorAxis_1[iTrk][0][0] =  -3.236844\n",
      "minorAxis_1[iTrk][1][0] =  -17.36881\n",
      "minorAxis_1[iTrk][2][0] =  -4.7397712e-09\n",
      "minorAxis_2[iTrk][0][0] =  -17.36635\n",
      "minorAxis_2[iTrk][1][0] =  3.2363856\n",
      "minorAxis_2[iTrk][2][0] =  -0.29736507\n",
      "  \n",
      "majorAxis[iTrk][0][0] =  -0.0001240533\n",
      "majorAxis[iTrk][1][0] =  0.00033394952\n",
      "majorAxis[iTrk][2][0] =  0.079335004\n",
      "minorAxis_1[iTrk][0][0] =  -16.562042\n",
      "minorAxis_1[iTrk][1][0] =  -6.1523557\n",
      "minorAxis_1[iTrk][2][0] =  3.1261713e-08\n",
      "minorAxis_2[iTrk][0][0] =  -6.1522937\n",
      "minorAxis_2[iTrk][1][0] =  16.561876\n",
      "minorAxis_2[iTrk][2][0] =  -0.079335004\n",
      "  \n",
      "majorAxis[iTrk][0][0] =  0.00010132754\n",
      "majorAxis[iTrk][1][0] =  6.684385e-05\n",
      "majorAxis[iTrk][2][0] =  0.046310693\n",
      "minorAxis_1[iTrk][0][0] =  -9.728917\n",
      "minorAxis_1[iTrk][1][0] =  14.747911\n",
      "minorAxis_1[iTrk][2][0] =  -2.3591362e-07\n",
      "minorAxis_2[iTrk][0][0] =  14.74786\n",
      "minorAxis_2[iTrk][1][0] =  9.728883\n",
      "minorAxis_2[iTrk][2][0] =  -0.04631069\n",
      "  \n",
      "majorAxis[iTrk][0][0] =  0.0042806785\n",
      "majorAxis[iTrk][1][0] =  0.004939851\n",
      "majorAxis[iTrk][2][0] =  0.3398017\n",
      "minorAxis_1[iTrk][0][0] =  13.3521\n",
      "minorAxis_1[iTrk][1][0] =  -11.5704\n",
      "minorAxis_1[iTrk][2][0] =  1.21654296e-08\n",
      "minorAxis_2[iTrk][0][0] =  -11.56826\n",
      "minorAxis_2[iTrk][1][0] =  -13.349631\n",
      "minorAxis_2[iTrk][2][0] =  0.33980173\n",
      "  \n",
      "majorAxis[iTrk][0][0] =  -0.00013103899\n",
      "majorAxis[iTrk][1][0] =  -0.0006021903\n",
      "majorAxis[iTrk][2][0] =  0.10434653\n",
      "minorAxis_1[iTrk][0][0] =  -17.26384\n",
      "minorAxis_1[iTrk][1][0] =  3.7566798\n",
      "minorAxis_1[iTrk][2][0] =  -9.616703e-08\n",
      "minorAxis_2[iTrk][0][0] =  3.7566135\n",
      "minorAxis_2[iTrk][1][0] =  17.263535\n",
      "minorAxis_2[iTrk][2][0] =  0.10434652\n",
      "  \n",
      "majorAxis[iTrk][0][0] =  0.0016481678\n",
      "majorAxis[iTrk][1][0] =  -0.0019788505\n",
      "majorAxis[iTrk][2][0] =  0.21330062\n",
      "minorAxis_1[iTrk][0][0] =  -13.575765\n",
      "minorAxis_1[iTrk][1][0] =  -11.307139\n",
      "minorAxis_1[iTrk][2][0] =  8.543098e-09\n",
      "minorAxis_2[iTrk][0][0] =  -11.306314\n",
      "minorAxis_2[iTrk][1][0] =  13.574774\n",
      "minorAxis_2[iTrk][2][0] =  0.21330062\n",
      "  \n",
      "len(X) =  80000\n",
      "len(Xlist) =  3\n",
      "Loaded /share/lazy/will/data/June30_2020_80k_3.h5 in 154.1 s\n",
      "pocaMx.shape =  (80000,)\n",
      "nEvts =  80000\n",
      "len(pocaMx[0]) =  204\n",
      "len(pocaMx[1]) =  33\n",
      "len(pocaMx[2]) =  206\n",
      "len(pocaMx[3]) =  150\n",
      "len(pocaMx[4]) =  96\n",
      "majorAxis.shape =  (80000, 3)\n",
      "minorAxis_1.shape =  (80000, 3)\n",
      "minorAxis_2.shape =  (80000, 3)\n",
      "have entered six_ellipsoid_parameters\n",
      "  \n",
      " \n",
      "  nEvts =  80000\n",
      " iEvt, nTrks =  0 204\n",
      " iEvt, nTrks =  1 33\n",
      " iEvt, nTrks =  2 206\n",
      " iEvt, nTrks =  3 150\n",
      " iEvt, nTrks =  4 96\n",
      " iEvt, nTrks =  5 10\n",
      " iEvt, nTrks =  6 174\n",
      " iEvt, nTrks =  7 320\n",
      " iEvt, nTrks =  8 164\n",
      " iEvt, nTrks =  9 119\n",
      "A.shape =  (80000,)\n",
      "majorAxis[iTrk][0][0] =  0.00057876867\n",
      "majorAxis[iTrk][1][0] =  0.00037603904\n",
      "majorAxis[iTrk][2][0] =  0.110427074\n",
      "minorAxis_1[iTrk][0][0] =  9.62588\n",
      "minorAxis_1[iTrk][1][0] =  -14.81537\n",
      "minorAxis_1[iTrk][2][0] =  8.391163e-09\n",
      "minorAxis_2[iTrk][0][0] =  -14.815081\n",
      "minorAxis_2[iTrk][1][0] =  -9.625692\n",
      "minorAxis_2[iTrk][2][0] =  0.11042709\n",
      "  \n",
      "majorAxis[iTrk][0][0] =  -7.687664e-05\n",
      "majorAxis[iTrk][1][0] =  -0.0017985329\n",
      "majorAxis[iTrk][2][0] =  0.17833562\n",
      "minorAxis_1[iTrk][0][0] =  -17.651728\n",
      "minorAxis_1[iTrk][1][0] =  0.7545069\n",
      "minorAxis_1[iTrk][2][0] =  -7.932265e-09\n",
      "minorAxis_2[iTrk][0][0] =  0.75446844\n",
      "minorAxis_2[iTrk][1][0] =  17.650827\n",
      "minorAxis_2[iTrk][2][0] =  0.17833562\n",
      "  \n",
      "majorAxis[iTrk][0][0] =  4.5855802e-05\n",
      "majorAxis[iTrk][1][0] =  -0.00054240844\n",
      "majorAxis[iTrk][2][0] =  0.098067455\n",
      "minorAxis_1[iTrk][0][0] =  17.605043\n",
      "minorAxis_1[iTrk][1][0] =  1.4883496\n",
      "minorAxis_1[iTrk][2][0] =  -2.7847218e-08\n",
      "minorAxis_2[iTrk][0][0] =  1.4883265\n",
      "minorAxis_2[iTrk][1][0] =  -17.604773\n",
      "minorAxis_2[iTrk][2][0] =  -0.098067455\n",
      "  \n",
      "majorAxis[iTrk][0][0] =  -0.0013144773\n",
      "majorAxis[iTrk][1][0] =  0.0008680699\n",
      "majorAxis[iTrk][2][0] =  0.16682307\n",
      "minorAxis_1[iTrk][0][0] =  -9.736217\n",
      "minorAxis_1[iTrk][1][0] =  -14.743094\n",
      "minorAxis_1[iTrk][2][0] =  -1.7552136e-08\n",
      "minorAxis_2[iTrk][0][0] =  -14.742435\n",
      "minorAxis_2[iTrk][1][0] =  9.735782\n",
      "minorAxis_2[iTrk][2][0] =  -0.16682304\n",
      "  \n",
      "majorAxis[iTrk][0][0] =  0.032227762\n",
      "majorAxis[iTrk][1][0] =  0.007741693\n",
      "majorAxis[iTrk][2][0] =  0.76488173\n",
      "minorAxis_1[iTrk][0][0] =  -4.1267405\n",
      "minorAxis_1[iTrk][1][0] =  17.179138\n",
      "minorAxis_1[iTrk][2][0] =  -2.3529467e-10\n",
      "minorAxis_2[iTrk][0][0] =  17.16303\n",
      "minorAxis_2[iTrk][1][0] =  4.122871\n",
      "minorAxis_2[iTrk][2][0] =  -0.7648817\n",
      "  \n",
      "majorAxis[iTrk][0][0] =  1.9753945\n",
      "majorAxis[iTrk][1][0] =  2.5669005\n",
      "majorAxis[iTrk][2][0] =  7.226382\n",
      "minorAxis_1[iTrk][0][0] =  14.0017\n",
      "minorAxis_1[iTrk][1][0] =  -10.7752075\n",
      "minorAxis_1[iTrk][2][0] =  5.3286344e-11\n",
      "minorAxis_2[iTrk][0][0] =  -9.832683\n",
      "minorAxis_2[iTrk][1][0] =  -12.776951\n",
      "minorAxis_2[iTrk][2][0] =  7.226381\n",
      "  \n",
      "majorAxis[iTrk][0][0] =  -0.0026900356\n",
      "majorAxis[iTrk][1][0] =  -0.0015841618\n",
      "majorAxis[iTrk][2][0] =  0.234843\n",
      "minorAxis_1[iTrk][0][0] =  -8.965469\n",
      "minorAxis_1[iTrk][1][0] =  15.224096\n",
      "minorAxis_1[iTrk][2][0] =  2.8236277e-08\n",
      "minorAxis_2[iTrk][0][0] =  15.222751\n",
      "minorAxis_2[iTrk][1][0] =  8.964677\n",
      "minorAxis_2[iTrk][2][0] =  0.234843\n",
      "  \n",
      "majorAxis[iTrk][0][0] =  -0.0001692281\n",
      "majorAxis[iTrk][1][0] =  0.0003505444\n",
      "majorAxis[iTrk][2][0] =  0.08292902\n",
      "minorAxis_1[iTrk][0][0] =  -15.910811\n",
      "minorAxis_1[iTrk][1][0] =  -7.68107\n",
      "minorAxis_1[iTrk][2][0] =  1.587002e-08\n",
      "minorAxis_2[iTrk][0][0] =  -7.680986\n",
      "minorAxis_2[iTrk][1][0] =  15.910635\n",
      "minorAxis_2[iTrk][2][0] =  -0.08292903\n",
      "  \n",
      "majorAxis[iTrk][0][0] =  0.0017714669\n",
      "majorAxis[iTrk][1][0] =  -0.001515166\n",
      "majorAxis[iTrk][2][0] =  0.20293355\n",
      "minorAxis_1[iTrk][0][0] =  11.483943\n",
      "minorAxis_1[iTrk][1][0] =  13.426532\n",
      "minorAxis_1[iTrk][2][0] =  -2.7840934e-09\n",
      "minorAxis_2[iTrk][0][0] =  13.425648\n",
      "minorAxis_2[iTrk][1][0] =  -11.483187\n",
      "minorAxis_2[iTrk][2][0] =  -0.20293356\n",
      "  \n",
      "majorAxis[iTrk][0][0] =  0.0006359923\n",
      "majorAxis[iTrk][1][0] =  -0.0003371759\n",
      "majorAxis[iTrk][2][0] =  0.112773284\n",
      "minorAxis_1[iTrk][0][0] =  8.275655\n",
      "minorAxis_1[iTrk][1][0] =  15.609813\n",
      "minorAxis_1[iTrk][2][0] =  -5.6373224e-08\n",
      "minorAxis_2[iTrk][0][0] =  15.609494\n",
      "minorAxis_2[iTrk][1][0] =  -8.275486\n",
      "minorAxis_2[iTrk][2][0] =  -0.11277328\n",
      "  \n",
      "len(X) =  80000\n",
      "len(Xlist) =  4\n",
      "Loaded /share/lazy/will/data/June30_2020_80k_4.h5 in 155.2 s\n",
      "outer loop X.shape =  (320000, 9, 600)\n",
      "Constructing 320000 event dataset took 2.833 s\n",
      "x_t.shape =  torch.Size([320000, 9, 600])\n",
      "x_t.shape[0] =  320000\n",
      "x_t.shape[1] =  9\n",
      "x_t.shape =  torch.Size([320000, 9, 600])\n"
     ]
    },
    {
     "name": "stdout",
     "output_type": "stream",
     "text": [
      "Loading data...\n",
      "pocaMx.shape =  (20000,)\n",
      "nEvts =  20000\n",
      "len(pocaMx[0]) =  211\n",
      "len(pocaMx[1]) =  21\n",
      "len(pocaMx[2]) =  20\n",
      "len(pocaMx[3]) =  198\n",
      "len(pocaMx[4]) =  233\n",
      "majorAxis.shape =  (20000, 3)\n",
      "minorAxis_1.shape =  (20000, 3)\n",
      "minorAxis_2.shape =  (20000, 3)\n",
      "have entered six_ellipsoid_parameters\n",
      "  \n",
      " \n",
      "  nEvts =  20000\n",
      " iEvt, nTrks =  0 211\n",
      " iEvt, nTrks =  1 21\n",
      " iEvt, nTrks =  2 20\n",
      " iEvt, nTrks =  3 198\n",
      " iEvt, nTrks =  4 233\n",
      " iEvt, nTrks =  5 85\n",
      " iEvt, nTrks =  6 223\n",
      " iEvt, nTrks =  7 425\n",
      " iEvt, nTrks =  8 252\n",
      " iEvt, nTrks =  9 169\n",
      "A.shape =  (20000,)\n",
      "majorAxis[iTrk][0][0] =  -0.00023452607\n",
      "majorAxis[iTrk][1][0] =  -0.00047206535\n",
      "majorAxis[iTrk][2][0] =  0.096502915\n",
      "minorAxis_1[iTrk][0][0] =  -15.822749\n",
      "minorAxis_1[iTrk][1][0] =  7.8608756\n",
      "minorAxis_1[iTrk][2][0] =  -2.6228399e-08\n",
      "minorAxis_2[iTrk][0][0] =  7.860759\n",
      "minorAxis_2[iTrk][1][0] =  15.822513\n",
      "minorAxis_2[iTrk][2][0] =  0.096502915\n",
      "  \n",
      "majorAxis[iTrk][0][0] =  -0.37655562\n",
      "majorAxis[iTrk][1][0] =  0.2768704\n",
      "majorAxis[iTrk][2][0] =  2.8546858\n",
      "minorAxis_1[iTrk][0][0] =  -10.466048\n",
      "minorAxis_1[iTrk][1][0] =  -14.234274\n",
      "minorAxis_1[iTrk][2][0] =  2.2974699e-11\n",
      "minorAxis_2[iTrk][0][0] =  -14.04724\n",
      "minorAxis_2[iTrk][1][0] =  10.328527\n",
      "minorAxis_2[iTrk][2][0] =  -2.8546853\n",
      "  \n",
      "majorAxis[iTrk][0][0] =  -0.024279848\n",
      "majorAxis[iTrk][1][0] =  0.0019689242\n",
      "majorAxis[iTrk][2][0] =  0.65580803\n",
      "minorAxis_1[iTrk][0][0] =  -1.4280497\n",
      "minorAxis_1[iTrk][1][0] =  -17.610037\n",
      "minorAxis_1[iTrk][2][0] =  -6.123401e-10\n",
      "minorAxis_2[iTrk][0][0] =  -17.597902\n",
      "minorAxis_2[iTrk][1][0] =  1.4270656\n",
      "minorAxis_2[iTrk][2][0] =  -0.6558081\n",
      "  \n",
      "majorAxis[iTrk][0][0] =  -0.007825993\n",
      "majorAxis[iTrk][1][0] =  0.004052097\n",
      "majorAxis[iTrk][2][0] =  0.3945435\n",
      "minorAxis_1[iTrk][0][0] =  8.123606\n",
      "minorAxis_1[iTrk][1][0] =  15.689478\n",
      "minorAxis_1[iTrk][2][0] =  -2.4940747e-10\n",
      "minorAxis_2[iTrk][0][0] =  15.685566\n",
      "minorAxis_2[iTrk][1][0] =  -8.12158\n",
      "minorAxis_2[iTrk][2][0] =  0.3945435\n",
      "  \n",
      "majorAxis[iTrk][0][0] =  0.0046102717\n",
      "majorAxis[iTrk][1][0] =  -0.0016007021\n",
      "majorAxis[iTrk][2][0] =  0.29361814\n",
      "minorAxis_1[iTrk][0][0] =  -5.794979\n",
      "minorAxis_1[iTrk][1][0] =  -16.690445\n",
      "minorAxis_1[iTrk][2][0] =  2.4897104e-09\n",
      "minorAxis_2[iTrk][0][0] =  -16.688139\n",
      "minorAxis_2[iTrk][1][0] =  5.794179\n",
      "minorAxis_2[iTrk][2][0] =  0.2936181\n",
      "  \n",
      "majorAxis[iTrk][0][0] =  -0.00020041714\n",
      "majorAxis[iTrk][1][0] =  0.00010468164\n",
      "majorAxis[iTrk][2][0] =  0.06320469\n",
      "minorAxis_1[iTrk][0][0] =  8.179679\n",
      "minorAxis_1[iTrk][1][0] =  15.660318\n",
      "minorAxis_1[iTrk][2][0] =  7.40176e-08\n",
      "minorAxis_2[iTrk][0][0] =  15.660218\n",
      "minorAxis_2[iTrk][1][0] =  -8.179626\n",
      "minorAxis_2[iTrk][2][0] =  0.06320469\n",
      "  \n",
      "majorAxis[iTrk][0][0] =  -0.00020603223\n",
      "majorAxis[iTrk][1][0] =  -0.0005662605\n",
      "majorAxis[iTrk][2][0] =  0.10317981\n",
      "minorAxis_1[iTrk][0][0] =  -16.603\n",
      "minorAxis_1[iTrk][1][0] =  6.040953\n",
      "minorAxis_1[iTrk][2][0] =  4.5812504e-07\n",
      "minorAxis_2[iTrk][0][0] =  6.0408506\n",
      "minorAxis_2[iTrk][1][0] =  16.602718\n",
      "minorAxis_2[iTrk][2][0] =  0.10317982\n",
      "  \n",
      "majorAxis[iTrk][0][0] =  -0.00040561036\n",
      "majorAxis[iTrk][1][0] =  0.00014461782\n",
      "majorAxis[iTrk][2][0] =  0.0872241\n",
      "minorAxis_1[iTrk][0][0] =  -5.933496\n",
      "minorAxis_1[iTrk][1][0] =  -16.641706\n",
      "minorAxis_1[iTrk][2][0] =  1.0720762e-08\n",
      "minorAxis_2[iTrk][0][0] =  -16.641502\n",
      "minorAxis_2[iTrk][1][0] =  5.9334235\n",
      "minorAxis_2[iTrk][2][0] =  -0.0872241\n",
      "  \n",
      "majorAxis[iTrk][0][0] =  0.00038461428\n",
      "majorAxis[iTrk][1][0] =  -3.4232737e-05\n",
      "majorAxis[iTrk][2][0] =  0.08259597\n",
      "minorAxis_1[iTrk][0][0] =  -1.5663412\n",
      "minorAxis_1[iTrk][1][0] =  -17.598276\n",
      "minorAxis_1[iTrk][2][0] =  3.2106848e-07\n",
      "minorAxis_2[iTrk][0][0] =  -17.598082\n",
      "minorAxis_2[iTrk][1][0] =  1.5663238\n",
      "minorAxis_2[iTrk][2][0] =  0.08259596\n",
      "  \n",
      "majorAxis[iTrk][0][0] =  -0.022277953\n",
      "majorAxis[iTrk][1][0] =  -0.0046837274\n",
      "majorAxis[iTrk][2][0] =  0.63399464\n",
      "minorAxis_1[iTrk][0][0] =  -3.6350286\n",
      "minorAxis_1[iTrk][1][0] =  17.289862\n",
      "minorAxis_1[iTrk][2][0] =  9.566169e-10\n",
      "minorAxis_2[iTrk][0][0] =  17.278727\n",
      "minorAxis_2[iTrk][1][0] =  3.6326876\n",
      "minorAxis_2[iTrk][2][0] =  0.6339946\n",
      "  \n",
      "len(X) =  20000\n",
      "len(Xlist) =  1\n",
      "Loaded dataAA/20K_POCA_kernel_evts_200926.h5 in 39.0 s\n",
      "outer loop X.shape =  (20000, 9, 600)\n",
      "Constructing 10000 event dataset took 0.05083 s\n",
      "x_t.shape =  torch.Size([10000, 9, 600])\n",
      "x_t.shape[0] =  10000\n",
      "x_t.shape[1] =  9\n",
      "x_t.shape =  torch.Size([10000, 9, 600])\n"
     ]
    }
   ],
   "source": [
    "\n",
    "## Training dataset. You can put as many files here as desired.\n",
    "\n",
    "##train_loader = collect_t2kde_data('/share/lazy/pv-finder/20k_evts_for_KDE_learning_200716.h5',\n",
    "train_loader = collect_t2kde_data('/share/lazy/will/data/June30_2020_80k_1.h5', \n",
    "                                    '/share/lazy/will/data/June30_2020_80k_2.h5',\n",
    "                                    '/share/lazy/will/data/June30_2020_80k_3.h5',\n",
    "                                    '/share/lazy/will/data/June30_2020_80k_4.h5',\n",
    "                             batch_size=batch_size,\n",
    "## if we are using a larger dataset (240K events, with the datasets above, and 11 GB  of GPU memory),\n",
    "## the dataset will overflow the GPU memory; device=device will allow the data to move back\n",
    "## and forth between the CPU and GPU memory. While this allows use of a larger dataset, it slows\n",
    "## down performance by about 10%.  So comment out when not needed.\n",
    "##                          device=device,\n",
    "##                           slice = slice(None,18000)\n",
    "                           )\n",
    "                            \n",
    "# Validation dataset. You can slice to reduce the size.\n",
    "## mds no separate validation set yet,\n",
    "\n",
    "## For iter12, change slice(18000,None) to slice(10000,None)\n",
    "## First, we'll see if this changes the validation cost significantly\n",
    "##  Second, we will see if this reduces the validation cost fluctuations\n",
    "val_loader = collect_t2kde_data('dataAA/20K_POCA_kernel_evts_200926.h5',\n",
    "                            batch_size=batch_size,\n",
    "##                            device=device,\n",
    "                            slice = slice(10000,None)\n",
    "                           )\n"
   ]
  },
  {
   "cell_type": "code",
   "execution_count": 16,
   "metadata": {
    "scrolled": false
   },
   "outputs": [
    {
     "data": {
      "application/javascript": [
       "/* Put everything inside the global mpl namespace */\n",
       "window.mpl = {};\n",
       "\n",
       "\n",
       "mpl.get_websocket_type = function() {\n",
       "    if (typeof(WebSocket) !== 'undefined') {\n",
       "        return WebSocket;\n",
       "    } else if (typeof(MozWebSocket) !== 'undefined') {\n",
       "        return MozWebSocket;\n",
       "    } else {\n",
       "        alert('Your browser does not have WebSocket support. ' +\n",
       "              'Please try Chrome, Safari or Firefox ≥ 6. ' +\n",
       "              'Firefox 4 and 5 are also supported but you ' +\n",
       "              'have to enable WebSockets in about:config.');\n",
       "    };\n",
       "}\n",
       "\n",
       "mpl.figure = function(figure_id, websocket, ondownload, parent_element) {\n",
       "    this.id = figure_id;\n",
       "\n",
       "    this.ws = websocket;\n",
       "\n",
       "    this.supports_binary = (this.ws.binaryType != undefined);\n",
       "\n",
       "    if (!this.supports_binary) {\n",
       "        var warnings = document.getElementById(\"mpl-warnings\");\n",
       "        if (warnings) {\n",
       "            warnings.style.display = 'block';\n",
       "            warnings.textContent = (\n",
       "                \"This browser does not support binary websocket messages. \" +\n",
       "                    \"Performance may be slow.\");\n",
       "        }\n",
       "    }\n",
       "\n",
       "    this.imageObj = new Image();\n",
       "\n",
       "    this.context = undefined;\n",
       "    this.message = undefined;\n",
       "    this.canvas = undefined;\n",
       "    this.rubberband_canvas = undefined;\n",
       "    this.rubberband_context = undefined;\n",
       "    this.format_dropdown = undefined;\n",
       "\n",
       "    this.image_mode = 'full';\n",
       "\n",
       "    this.root = $('<div/>');\n",
       "    this._root_extra_style(this.root)\n",
       "    this.root.attr('style', 'display: inline-block');\n",
       "\n",
       "    $(parent_element).append(this.root);\n",
       "\n",
       "    this._init_header(this);\n",
       "    this._init_canvas(this);\n",
       "    this._init_toolbar(this);\n",
       "\n",
       "    var fig = this;\n",
       "\n",
       "    this.waiting = false;\n",
       "\n",
       "    this.ws.onopen =  function () {\n",
       "            fig.send_message(\"supports_binary\", {value: fig.supports_binary});\n",
       "            fig.send_message(\"send_image_mode\", {});\n",
       "            if (mpl.ratio != 1) {\n",
       "                fig.send_message(\"set_dpi_ratio\", {'dpi_ratio': mpl.ratio});\n",
       "            }\n",
       "            fig.send_message(\"refresh\", {});\n",
       "        }\n",
       "\n",
       "    this.imageObj.onload = function() {\n",
       "            if (fig.image_mode == 'full') {\n",
       "                // Full images could contain transparency (where diff images\n",
       "                // almost always do), so we need to clear the canvas so that\n",
       "                // there is no ghosting.\n",
       "                fig.context.clearRect(0, 0, fig.canvas.width, fig.canvas.height);\n",
       "            }\n",
       "            fig.context.drawImage(fig.imageObj, 0, 0);\n",
       "        };\n",
       "\n",
       "    this.imageObj.onunload = function() {\n",
       "        fig.ws.close();\n",
       "    }\n",
       "\n",
       "    this.ws.onmessage = this._make_on_message_function(this);\n",
       "\n",
       "    this.ondownload = ondownload;\n",
       "}\n",
       "\n",
       "mpl.figure.prototype._init_header = function() {\n",
       "    var titlebar = $(\n",
       "        '<div class=\"ui-dialog-titlebar ui-widget-header ui-corner-all ' +\n",
       "        'ui-helper-clearfix\"/>');\n",
       "    var titletext = $(\n",
       "        '<div class=\"ui-dialog-title\" style=\"width: 100%; ' +\n",
       "        'text-align: center; padding: 3px;\"/>');\n",
       "    titlebar.append(titletext)\n",
       "    this.root.append(titlebar);\n",
       "    this.header = titletext[0];\n",
       "}\n",
       "\n",
       "\n",
       "\n",
       "mpl.figure.prototype._canvas_extra_style = function(canvas_div) {\n",
       "\n",
       "}\n",
       "\n",
       "\n",
       "mpl.figure.prototype._root_extra_style = function(canvas_div) {\n",
       "\n",
       "}\n",
       "\n",
       "mpl.figure.prototype._init_canvas = function() {\n",
       "    var fig = this;\n",
       "\n",
       "    var canvas_div = $('<div/>');\n",
       "\n",
       "    canvas_div.attr('style', 'position: relative; clear: both; outline: 0');\n",
       "\n",
       "    function canvas_keyboard_event(event) {\n",
       "        return fig.key_event(event, event['data']);\n",
       "    }\n",
       "\n",
       "    canvas_div.keydown('key_press', canvas_keyboard_event);\n",
       "    canvas_div.keyup('key_release', canvas_keyboard_event);\n",
       "    this.canvas_div = canvas_div\n",
       "    this._canvas_extra_style(canvas_div)\n",
       "    this.root.append(canvas_div);\n",
       "\n",
       "    var canvas = $('<canvas/>');\n",
       "    canvas.addClass('mpl-canvas');\n",
       "    canvas.attr('style', \"left: 0; top: 0; z-index: 0; outline: 0\")\n",
       "\n",
       "    this.canvas = canvas[0];\n",
       "    this.context = canvas[0].getContext(\"2d\");\n",
       "\n",
       "    var backingStore = this.context.backingStorePixelRatio ||\n",
       "\tthis.context.webkitBackingStorePixelRatio ||\n",
       "\tthis.context.mozBackingStorePixelRatio ||\n",
       "\tthis.context.msBackingStorePixelRatio ||\n",
       "\tthis.context.oBackingStorePixelRatio ||\n",
       "\tthis.context.backingStorePixelRatio || 1;\n",
       "\n",
       "    mpl.ratio = (window.devicePixelRatio || 1) / backingStore;\n",
       "\n",
       "    var rubberband = $('<canvas/>');\n",
       "    rubberband.attr('style', \"position: absolute; left: 0; top: 0; z-index: 1;\")\n",
       "\n",
       "    var pass_mouse_events = true;\n",
       "\n",
       "    canvas_div.resizable({\n",
       "        start: function(event, ui) {\n",
       "            pass_mouse_events = false;\n",
       "        },\n",
       "        resize: function(event, ui) {\n",
       "            fig.request_resize(ui.size.width, ui.size.height);\n",
       "        },\n",
       "        stop: function(event, ui) {\n",
       "            pass_mouse_events = true;\n",
       "            fig.request_resize(ui.size.width, ui.size.height);\n",
       "        },\n",
       "    });\n",
       "\n",
       "    function mouse_event_fn(event) {\n",
       "        if (pass_mouse_events)\n",
       "            return fig.mouse_event(event, event['data']);\n",
       "    }\n",
       "\n",
       "    rubberband.mousedown('button_press', mouse_event_fn);\n",
       "    rubberband.mouseup('button_release', mouse_event_fn);\n",
       "    // Throttle sequential mouse events to 1 every 20ms.\n",
       "    rubberband.mousemove('motion_notify', mouse_event_fn);\n",
       "\n",
       "    rubberband.mouseenter('figure_enter', mouse_event_fn);\n",
       "    rubberband.mouseleave('figure_leave', mouse_event_fn);\n",
       "\n",
       "    canvas_div.on(\"wheel\", function (event) {\n",
       "        event = event.originalEvent;\n",
       "        event['data'] = 'scroll'\n",
       "        if (event.deltaY < 0) {\n",
       "            event.step = 1;\n",
       "        } else {\n",
       "            event.step = -1;\n",
       "        }\n",
       "        mouse_event_fn(event);\n",
       "    });\n",
       "\n",
       "    canvas_div.append(canvas);\n",
       "    canvas_div.append(rubberband);\n",
       "\n",
       "    this.rubberband = rubberband;\n",
       "    this.rubberband_canvas = rubberband[0];\n",
       "    this.rubberband_context = rubberband[0].getContext(\"2d\");\n",
       "    this.rubberband_context.strokeStyle = \"#000000\";\n",
       "\n",
       "    this._resize_canvas = function(width, height) {\n",
       "        // Keep the size of the canvas, canvas container, and rubber band\n",
       "        // canvas in synch.\n",
       "        canvas_div.css('width', width)\n",
       "        canvas_div.css('height', height)\n",
       "\n",
       "        canvas.attr('width', width * mpl.ratio);\n",
       "        canvas.attr('height', height * mpl.ratio);\n",
       "        canvas.attr('style', 'width: ' + width + 'px; height: ' + height + 'px;');\n",
       "\n",
       "        rubberband.attr('width', width);\n",
       "        rubberband.attr('height', height);\n",
       "    }\n",
       "\n",
       "    // Set the figure to an initial 600x600px, this will subsequently be updated\n",
       "    // upon first draw.\n",
       "    this._resize_canvas(600, 600);\n",
       "\n",
       "    // Disable right mouse context menu.\n",
       "    $(this.rubberband_canvas).bind(\"contextmenu\",function(e){\n",
       "        return false;\n",
       "    });\n",
       "\n",
       "    function set_focus () {\n",
       "        canvas.focus();\n",
       "        canvas_div.focus();\n",
       "    }\n",
       "\n",
       "    window.setTimeout(set_focus, 100);\n",
       "}\n",
       "\n",
       "mpl.figure.prototype._init_toolbar = function() {\n",
       "    var fig = this;\n",
       "\n",
       "    var nav_element = $('<div/>');\n",
       "    nav_element.attr('style', 'width: 100%');\n",
       "    this.root.append(nav_element);\n",
       "\n",
       "    // Define a callback function for later on.\n",
       "    function toolbar_event(event) {\n",
       "        return fig.toolbar_button_onclick(event['data']);\n",
       "    }\n",
       "    function toolbar_mouse_event(event) {\n",
       "        return fig.toolbar_button_onmouseover(event['data']);\n",
       "    }\n",
       "\n",
       "    for(var toolbar_ind in mpl.toolbar_items) {\n",
       "        var name = mpl.toolbar_items[toolbar_ind][0];\n",
       "        var tooltip = mpl.toolbar_items[toolbar_ind][1];\n",
       "        var image = mpl.toolbar_items[toolbar_ind][2];\n",
       "        var method_name = mpl.toolbar_items[toolbar_ind][3];\n",
       "\n",
       "        if (!name) {\n",
       "            // put a spacer in here.\n",
       "            continue;\n",
       "        }\n",
       "        var button = $('<button/>');\n",
       "        button.addClass('ui-button ui-widget ui-state-default ui-corner-all ' +\n",
       "                        'ui-button-icon-only');\n",
       "        button.attr('role', 'button');\n",
       "        button.attr('aria-disabled', 'false');\n",
       "        button.click(method_name, toolbar_event);\n",
       "        button.mouseover(tooltip, toolbar_mouse_event);\n",
       "\n",
       "        var icon_img = $('<span/>');\n",
       "        icon_img.addClass('ui-button-icon-primary ui-icon');\n",
       "        icon_img.addClass(image);\n",
       "        icon_img.addClass('ui-corner-all');\n",
       "\n",
       "        var tooltip_span = $('<span/>');\n",
       "        tooltip_span.addClass('ui-button-text');\n",
       "        tooltip_span.html(tooltip);\n",
       "\n",
       "        button.append(icon_img);\n",
       "        button.append(tooltip_span);\n",
       "\n",
       "        nav_element.append(button);\n",
       "    }\n",
       "\n",
       "    var fmt_picker_span = $('<span/>');\n",
       "\n",
       "    var fmt_picker = $('<select/>');\n",
       "    fmt_picker.addClass('mpl-toolbar-option ui-widget ui-widget-content');\n",
       "    fmt_picker_span.append(fmt_picker);\n",
       "    nav_element.append(fmt_picker_span);\n",
       "    this.format_dropdown = fmt_picker[0];\n",
       "\n",
       "    for (var ind in mpl.extensions) {\n",
       "        var fmt = mpl.extensions[ind];\n",
       "        var option = $(\n",
       "            '<option/>', {selected: fmt === mpl.default_extension}).html(fmt);\n",
       "        fmt_picker.append(option);\n",
       "    }\n",
       "\n",
       "    // Add hover states to the ui-buttons\n",
       "    $( \".ui-button\" ).hover(\n",
       "        function() { $(this).addClass(\"ui-state-hover\");},\n",
       "        function() { $(this).removeClass(\"ui-state-hover\");}\n",
       "    );\n",
       "\n",
       "    var status_bar = $('<span class=\"mpl-message\"/>');\n",
       "    nav_element.append(status_bar);\n",
       "    this.message = status_bar[0];\n",
       "}\n",
       "\n",
       "mpl.figure.prototype.request_resize = function(x_pixels, y_pixels) {\n",
       "    // Request matplotlib to resize the figure. Matplotlib will then trigger a resize in the client,\n",
       "    // which will in turn request a refresh of the image.\n",
       "    this.send_message('resize', {'width': x_pixels, 'height': y_pixels});\n",
       "}\n",
       "\n",
       "mpl.figure.prototype.send_message = function(type, properties) {\n",
       "    properties['type'] = type;\n",
       "    properties['figure_id'] = this.id;\n",
       "    this.ws.send(JSON.stringify(properties));\n",
       "}\n",
       "\n",
       "mpl.figure.prototype.send_draw_message = function() {\n",
       "    if (!this.waiting) {\n",
       "        this.waiting = true;\n",
       "        this.ws.send(JSON.stringify({type: \"draw\", figure_id: this.id}));\n",
       "    }\n",
       "}\n",
       "\n",
       "\n",
       "mpl.figure.prototype.handle_save = function(fig, msg) {\n",
       "    var format_dropdown = fig.format_dropdown;\n",
       "    var format = format_dropdown.options[format_dropdown.selectedIndex].value;\n",
       "    fig.ondownload(fig, format);\n",
       "}\n",
       "\n",
       "\n",
       "mpl.figure.prototype.handle_resize = function(fig, msg) {\n",
       "    var size = msg['size'];\n",
       "    if (size[0] != fig.canvas.width || size[1] != fig.canvas.height) {\n",
       "        fig._resize_canvas(size[0], size[1]);\n",
       "        fig.send_message(\"refresh\", {});\n",
       "    };\n",
       "}\n",
       "\n",
       "mpl.figure.prototype.handle_rubberband = function(fig, msg) {\n",
       "    var x0 = msg['x0'] / mpl.ratio;\n",
       "    var y0 = (fig.canvas.height - msg['y0']) / mpl.ratio;\n",
       "    var x1 = msg['x1'] / mpl.ratio;\n",
       "    var y1 = (fig.canvas.height - msg['y1']) / mpl.ratio;\n",
       "    x0 = Math.floor(x0) + 0.5;\n",
       "    y0 = Math.floor(y0) + 0.5;\n",
       "    x1 = Math.floor(x1) + 0.5;\n",
       "    y1 = Math.floor(y1) + 0.5;\n",
       "    var min_x = Math.min(x0, x1);\n",
       "    var min_y = Math.min(y0, y1);\n",
       "    var width = Math.abs(x1 - x0);\n",
       "    var height = Math.abs(y1 - y0);\n",
       "\n",
       "    fig.rubberband_context.clearRect(\n",
       "        0, 0, fig.canvas.width / mpl.ratio, fig.canvas.height / mpl.ratio);\n",
       "\n",
       "    fig.rubberband_context.strokeRect(min_x, min_y, width, height);\n",
       "}\n",
       "\n",
       "mpl.figure.prototype.handle_figure_label = function(fig, msg) {\n",
       "    // Updates the figure title.\n",
       "    fig.header.textContent = msg['label'];\n",
       "}\n",
       "\n",
       "mpl.figure.prototype.handle_cursor = function(fig, msg) {\n",
       "    var cursor = msg['cursor'];\n",
       "    switch(cursor)\n",
       "    {\n",
       "    case 0:\n",
       "        cursor = 'pointer';\n",
       "        break;\n",
       "    case 1:\n",
       "        cursor = 'default';\n",
       "        break;\n",
       "    case 2:\n",
       "        cursor = 'crosshair';\n",
       "        break;\n",
       "    case 3:\n",
       "        cursor = 'move';\n",
       "        break;\n",
       "    }\n",
       "    fig.rubberband_canvas.style.cursor = cursor;\n",
       "}\n",
       "\n",
       "mpl.figure.prototype.handle_message = function(fig, msg) {\n",
       "    fig.message.textContent = msg['message'];\n",
       "}\n",
       "\n",
       "mpl.figure.prototype.handle_draw = function(fig, msg) {\n",
       "    // Request the server to send over a new figure.\n",
       "    fig.send_draw_message();\n",
       "}\n",
       "\n",
       "mpl.figure.prototype.handle_image_mode = function(fig, msg) {\n",
       "    fig.image_mode = msg['mode'];\n",
       "}\n",
       "\n",
       "mpl.figure.prototype.updated_canvas_event = function() {\n",
       "    // Called whenever the canvas gets updated.\n",
       "    this.send_message(\"ack\", {});\n",
       "}\n",
       "\n",
       "// A function to construct a web socket function for onmessage handling.\n",
       "// Called in the figure constructor.\n",
       "mpl.figure.prototype._make_on_message_function = function(fig) {\n",
       "    return function socket_on_message(evt) {\n",
       "        if (evt.data instanceof Blob) {\n",
       "            /* FIXME: We get \"Resource interpreted as Image but\n",
       "             * transferred with MIME type text/plain:\" errors on\n",
       "             * Chrome.  But how to set the MIME type?  It doesn't seem\n",
       "             * to be part of the websocket stream */\n",
       "            evt.data.type = \"image/png\";\n",
       "\n",
       "            /* Free the memory for the previous frames */\n",
       "            if (fig.imageObj.src) {\n",
       "                (window.URL || window.webkitURL).revokeObjectURL(\n",
       "                    fig.imageObj.src);\n",
       "            }\n",
       "\n",
       "            fig.imageObj.src = (window.URL || window.webkitURL).createObjectURL(\n",
       "                evt.data);\n",
       "            fig.updated_canvas_event();\n",
       "            fig.waiting = false;\n",
       "            return;\n",
       "        }\n",
       "        else if (typeof evt.data === 'string' && evt.data.slice(0, 21) == \"data:image/png;base64\") {\n",
       "            fig.imageObj.src = evt.data;\n",
       "            fig.updated_canvas_event();\n",
       "            fig.waiting = false;\n",
       "            return;\n",
       "        }\n",
       "\n",
       "        var msg = JSON.parse(evt.data);\n",
       "        var msg_type = msg['type'];\n",
       "\n",
       "        // Call the  \"handle_{type}\" callback, which takes\n",
       "        // the figure and JSON message as its only arguments.\n",
       "        try {\n",
       "            var callback = fig[\"handle_\" + msg_type];\n",
       "        } catch (e) {\n",
       "            console.log(\"No handler for the '\" + msg_type + \"' message type: \", msg);\n",
       "            return;\n",
       "        }\n",
       "\n",
       "        if (callback) {\n",
       "            try {\n",
       "                // console.log(\"Handling '\" + msg_type + \"' message: \", msg);\n",
       "                callback(fig, msg);\n",
       "            } catch (e) {\n",
       "                console.log(\"Exception inside the 'handler_\" + msg_type + \"' callback:\", e, e.stack, msg);\n",
       "            }\n",
       "        }\n",
       "    };\n",
       "}\n",
       "\n",
       "// from http://stackoverflow.com/questions/1114465/getting-mouse-location-in-canvas\n",
       "mpl.findpos = function(e) {\n",
       "    //this section is from http://www.quirksmode.org/js/events_properties.html\n",
       "    var targ;\n",
       "    if (!e)\n",
       "        e = window.event;\n",
       "    if (e.target)\n",
       "        targ = e.target;\n",
       "    else if (e.srcElement)\n",
       "        targ = e.srcElement;\n",
       "    if (targ.nodeType == 3) // defeat Safari bug\n",
       "        targ = targ.parentNode;\n",
       "\n",
       "    // jQuery normalizes the pageX and pageY\n",
       "    // pageX,Y are the mouse positions relative to the document\n",
       "    // offset() returns the position of the element relative to the document\n",
       "    var x = e.pageX - $(targ).offset().left;\n",
       "    var y = e.pageY - $(targ).offset().top;\n",
       "\n",
       "    return {\"x\": x, \"y\": y};\n",
       "};\n",
       "\n",
       "/*\n",
       " * return a copy of an object with only non-object keys\n",
       " * we need this to avoid circular references\n",
       " * http://stackoverflow.com/a/24161582/3208463\n",
       " */\n",
       "function simpleKeys (original) {\n",
       "  return Object.keys(original).reduce(function (obj, key) {\n",
       "    if (typeof original[key] !== 'object')\n",
       "        obj[key] = original[key]\n",
       "    return obj;\n",
       "  }, {});\n",
       "}\n",
       "\n",
       "mpl.figure.prototype.mouse_event = function(event, name) {\n",
       "    var canvas_pos = mpl.findpos(event)\n",
       "\n",
       "    if (name === 'button_press')\n",
       "    {\n",
       "        this.canvas.focus();\n",
       "        this.canvas_div.focus();\n",
       "    }\n",
       "\n",
       "    var x = canvas_pos.x * mpl.ratio;\n",
       "    var y = canvas_pos.y * mpl.ratio;\n",
       "\n",
       "    this.send_message(name, {x: x, y: y, button: event.button,\n",
       "                             step: event.step,\n",
       "                             guiEvent: simpleKeys(event)});\n",
       "\n",
       "    /* This prevents the web browser from automatically changing to\n",
       "     * the text insertion cursor when the button is pressed.  We want\n",
       "     * to control all of the cursor setting manually through the\n",
       "     * 'cursor' event from matplotlib */\n",
       "    event.preventDefault();\n",
       "    return false;\n",
       "}\n",
       "\n",
       "mpl.figure.prototype._key_event_extra = function(event, name) {\n",
       "    // Handle any extra behaviour associated with a key event\n",
       "}\n",
       "\n",
       "mpl.figure.prototype.key_event = function(event, name) {\n",
       "\n",
       "    // Prevent repeat events\n",
       "    if (name == 'key_press')\n",
       "    {\n",
       "        if (event.which === this._key)\n",
       "            return;\n",
       "        else\n",
       "            this._key = event.which;\n",
       "    }\n",
       "    if (name == 'key_release')\n",
       "        this._key = null;\n",
       "\n",
       "    var value = '';\n",
       "    if (event.ctrlKey && event.which != 17)\n",
       "        value += \"ctrl+\";\n",
       "    if (event.altKey && event.which != 18)\n",
       "        value += \"alt+\";\n",
       "    if (event.shiftKey && event.which != 16)\n",
       "        value += \"shift+\";\n",
       "\n",
       "    value += 'k';\n",
       "    value += event.which.toString();\n",
       "\n",
       "    this._key_event_extra(event, name);\n",
       "\n",
       "    this.send_message(name, {key: value,\n",
       "                             guiEvent: simpleKeys(event)});\n",
       "    return false;\n",
       "}\n",
       "\n",
       "mpl.figure.prototype.toolbar_button_onclick = function(name) {\n",
       "    if (name == 'download') {\n",
       "        this.handle_save(this, null);\n",
       "    } else {\n",
       "        this.send_message(\"toolbar_button\", {name: name});\n",
       "    }\n",
       "};\n",
       "\n",
       "mpl.figure.prototype.toolbar_button_onmouseover = function(tooltip) {\n",
       "    this.message.textContent = tooltip;\n",
       "};\n",
       "mpl.toolbar_items = [[\"Home\", \"Reset original view\", \"fa fa-home icon-home\", \"home\"], [\"Back\", \"Back to previous view\", \"fa fa-arrow-left icon-arrow-left\", \"back\"], [\"Forward\", \"Forward to next view\", \"fa fa-arrow-right icon-arrow-right\", \"forward\"], [\"\", \"\", \"\", \"\"], [\"Pan\", \"Pan axes with left mouse, zoom with right\", \"fa fa-arrows icon-move\", \"pan\"], [\"Zoom\", \"Zoom to rectangle\", \"fa fa-square-o icon-check-empty\", \"zoom\"], [\"\", \"\", \"\", \"\"], [\"Download\", \"Download plot\", \"fa fa-floppy-o icon-save\", \"download\"]];\n",
       "\n",
       "mpl.extensions = [\"eps\", \"jpeg\", \"pdf\", \"png\", \"ps\", \"raw\", \"svg\", \"tif\"];\n",
       "\n",
       "mpl.default_extension = \"png\";var comm_websocket_adapter = function(comm) {\n",
       "    // Create a \"websocket\"-like object which calls the given IPython comm\n",
       "    // object with the appropriate methods. Currently this is a non binary\n",
       "    // socket, so there is still some room for performance tuning.\n",
       "    var ws = {};\n",
       "\n",
       "    ws.close = function() {\n",
       "        comm.close()\n",
       "    };\n",
       "    ws.send = function(m) {\n",
       "        //console.log('sending', m);\n",
       "        comm.send(m);\n",
       "    };\n",
       "    // Register the callback with on_msg.\n",
       "    comm.on_msg(function(msg) {\n",
       "        //console.log('receiving', msg['content']['data'], msg);\n",
       "        // Pass the mpl event to the overridden (by mpl) onmessage function.\n",
       "        ws.onmessage(msg['content']['data'])\n",
       "    });\n",
       "    return ws;\n",
       "}\n",
       "\n",
       "mpl.mpl_figure_comm = function(comm, msg) {\n",
       "    // This is the function which gets called when the mpl process\n",
       "    // starts-up an IPython Comm through the \"matplotlib\" channel.\n",
       "\n",
       "    var id = msg.content.data.id;\n",
       "    // Get hold of the div created by the display call when the Comm\n",
       "    // socket was opened in Python.\n",
       "    var element = $(\"#\" + id);\n",
       "    var ws_proxy = comm_websocket_adapter(comm)\n",
       "\n",
       "    function ondownload(figure, format) {\n",
       "        window.open(figure.imageObj.src);\n",
       "    }\n",
       "\n",
       "    var fig = new mpl.figure(id, ws_proxy,\n",
       "                           ondownload,\n",
       "                           element.get(0));\n",
       "\n",
       "    // Call onopen now - mpl needs it, as it is assuming we've passed it a real\n",
       "    // web socket which is closed, not our websocket->open comm proxy.\n",
       "    ws_proxy.onopen();\n",
       "\n",
       "    fig.parent_element = element.get(0);\n",
       "    fig.cell_info = mpl.find_output_cell(\"<div id='\" + id + \"'></div>\");\n",
       "    if (!fig.cell_info) {\n",
       "        console.error(\"Failed to find cell for figure\", id, fig);\n",
       "        return;\n",
       "    }\n",
       "\n",
       "    var output_index = fig.cell_info[2]\n",
       "    var cell = fig.cell_info[0];\n",
       "\n",
       "};\n",
       "\n",
       "mpl.figure.prototype.handle_close = function(fig, msg) {\n",
       "    var width = fig.canvas.width/mpl.ratio\n",
       "    fig.root.unbind('remove')\n",
       "\n",
       "    // Update the output cell to use the data from the current canvas.\n",
       "    fig.push_to_output();\n",
       "    var dataURL = fig.canvas.toDataURL();\n",
       "    // Re-enable the keyboard manager in IPython - without this line, in FF,\n",
       "    // the notebook keyboard shortcuts fail.\n",
       "    IPython.keyboard_manager.enable()\n",
       "    $(fig.parent_element).html('<img src=\"' + dataURL + '\" width=\"' + width + '\">');\n",
       "    fig.close_ws(fig, msg);\n",
       "}\n",
       "\n",
       "mpl.figure.prototype.close_ws = function(fig, msg){\n",
       "    fig.send_message('closing', msg);\n",
       "    // fig.ws.close()\n",
       "}\n",
       "\n",
       "mpl.figure.prototype.push_to_output = function(remove_interactive) {\n",
       "    // Turn the data on the canvas into data in the output cell.\n",
       "    var width = this.canvas.width/mpl.ratio\n",
       "    var dataURL = this.canvas.toDataURL();\n",
       "    this.cell_info[1]['text/html'] = '<img src=\"' + dataURL + '\" width=\"' + width + '\">';\n",
       "}\n",
       "\n",
       "mpl.figure.prototype.updated_canvas_event = function() {\n",
       "    // Tell IPython that the notebook contents must change.\n",
       "    IPython.notebook.set_dirty(true);\n",
       "    this.send_message(\"ack\", {});\n",
       "    var fig = this;\n",
       "    // Wait a second, then push the new image to the DOM so\n",
       "    // that it is saved nicely (might be nice to debounce this).\n",
       "    setTimeout(function () { fig.push_to_output() }, 1000);\n",
       "}\n",
       "\n",
       "mpl.figure.prototype._init_toolbar = function() {\n",
       "    var fig = this;\n",
       "\n",
       "    var nav_element = $('<div/>');\n",
       "    nav_element.attr('style', 'width: 100%');\n",
       "    this.root.append(nav_element);\n",
       "\n",
       "    // Define a callback function for later on.\n",
       "    function toolbar_event(event) {\n",
       "        return fig.toolbar_button_onclick(event['data']);\n",
       "    }\n",
       "    function toolbar_mouse_event(event) {\n",
       "        return fig.toolbar_button_onmouseover(event['data']);\n",
       "    }\n",
       "\n",
       "    for(var toolbar_ind in mpl.toolbar_items){\n",
       "        var name = mpl.toolbar_items[toolbar_ind][0];\n",
       "        var tooltip = mpl.toolbar_items[toolbar_ind][1];\n",
       "        var image = mpl.toolbar_items[toolbar_ind][2];\n",
       "        var method_name = mpl.toolbar_items[toolbar_ind][3];\n",
       "\n",
       "        if (!name) { continue; };\n",
       "\n",
       "        var button = $('<button class=\"btn btn-default\" href=\"#\" title=\"' + name + '\"><i class=\"fa ' + image + ' fa-lg\"></i></button>');\n",
       "        button.click(method_name, toolbar_event);\n",
       "        button.mouseover(tooltip, toolbar_mouse_event);\n",
       "        nav_element.append(button);\n",
       "    }\n",
       "\n",
       "    // Add the status bar.\n",
       "    var status_bar = $('<span class=\"mpl-message\" style=\"text-align:right; float: right;\"/>');\n",
       "    nav_element.append(status_bar);\n",
       "    this.message = status_bar[0];\n",
       "\n",
       "    // Add the close button to the window.\n",
       "    var buttongrp = $('<div class=\"btn-group inline pull-right\"></div>');\n",
       "    var button = $('<button class=\"btn btn-mini btn-primary\" href=\"#\" title=\"Stop Interaction\"><i class=\"fa fa-power-off icon-remove icon-large\"></i></button>');\n",
       "    button.click(function (evt) { fig.handle_close(fig, {}); } );\n",
       "    button.mouseover('Stop Interaction', toolbar_mouse_event);\n",
       "    buttongrp.append(button);\n",
       "    var titlebar = this.root.find($('.ui-dialog-titlebar'));\n",
       "    titlebar.prepend(buttongrp);\n",
       "}\n",
       "\n",
       "mpl.figure.prototype._root_extra_style = function(el){\n",
       "    var fig = this\n",
       "    el.on(\"remove\", function(){\n",
       "\tfig.close_ws(fig, {});\n",
       "    });\n",
       "}\n",
       "\n",
       "mpl.figure.prototype._canvas_extra_style = function(el){\n",
       "    // this is important to make the div 'focusable\n",
       "    el.attr('tabindex', 0)\n",
       "    // reach out to IPython and tell the keyboard manager to turn it's self\n",
       "    // off when our div gets focus\n",
       "\n",
       "    // location in version 3\n",
       "    if (IPython.notebook.keyboard_manager) {\n",
       "        IPython.notebook.keyboard_manager.register_events(el);\n",
       "    }\n",
       "    else {\n",
       "        // location in version 2\n",
       "        IPython.keyboard_manager.register_events(el);\n",
       "    }\n",
       "\n",
       "}\n",
       "\n",
       "mpl.figure.prototype._key_event_extra = function(event, name) {\n",
       "    var manager = IPython.notebook.keyboard_manager;\n",
       "    if (!manager)\n",
       "        manager = IPython.keyboard_manager;\n",
       "\n",
       "    // Check for shift+enter\n",
       "    if (event.shiftKey && event.which == 13) {\n",
       "        this.canvas_div.blur();\n",
       "        // select the cell after this one\n",
       "        var index = IPython.notebook.find_cell_index(this.cell_info[0]);\n",
       "        IPython.notebook.select(index + 1);\n",
       "    }\n",
       "}\n",
       "\n",
       "mpl.figure.prototype.handle_save = function(fig, msg) {\n",
       "    fig.ondownload(fig, null);\n",
       "}\n",
       "\n",
       "\n",
       "mpl.find_output_cell = function(html_output) {\n",
       "    // Return the cell and output element which can be found *uniquely* in the notebook.\n",
       "    // Note - this is a bit hacky, but it is done because the \"notebook_saving.Notebook\"\n",
       "    // IPython event is triggered only after the cells have been serialised, which for\n",
       "    // our purposes (turning an active figure into a static one), is too late.\n",
       "    var cells = IPython.notebook.get_cells();\n",
       "    var ncells = cells.length;\n",
       "    for (var i=0; i<ncells; i++) {\n",
       "        var cell = cells[i];\n",
       "        if (cell.cell_type === 'code'){\n",
       "            for (var j=0; j<cell.output_area.outputs.length; j++) {\n",
       "                var data = cell.output_area.outputs[j];\n",
       "                if (data.data) {\n",
       "                    // IPython >= 3 moved mimebundle to data attribute of output\n",
       "                    data = data.data;\n",
       "                }\n",
       "                if (data['text/html'] == html_output) {\n",
       "                    return [cell, data, j];\n",
       "                }\n",
       "            }\n",
       "        }\n",
       "    }\n",
       "}\n",
       "\n",
       "// Register the function which deals with the matplotlib target/channel.\n",
       "// The kernel may be null if the page has been refreshed.\n",
       "if (IPython.notebook.kernel != null) {\n",
       "    IPython.notebook.kernel.comm_manager.register_target('matplotlib', mpl.mpl_figure_comm);\n",
       "}\n"
      ],
      "text/plain": [
       "<IPython.core.display.Javascript object>"
      ]
     },
     "metadata": {},
     "output_type": "display_data"
    },
    {
     "data": {
      "text/html": [
       "<img src=\"data:image/png;base64,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\" width=\"999.75\">"
      ],
      "text/plain": [
       "<IPython.core.display.HTML object>"
      ]
     },
     "metadata": {},
     "output_type": "display_data"
    }
   ],
   "source": [
    "ax, tax, lax, lines = dual_train_plots()\n",
    "fig = ax.figure\n",
    "plt.tight_layout()"
   ]
  },
  {
   "cell_type": "code",
   "execution_count": 17,
   "metadata": {
    "scrolled": false
   },
   "outputs": [
    {
     "name": "stdout",
     "output_type": "stream",
     "text": [
      "Number of batches: train = 6667, val = 209\n"
     ]
    },
    {
     "data": {
      "application/vnd.jupyter.widget-view+json": {
       "model_id": "45f7911a955f450fbebff77ec40dc0ee",
       "version_major": 2,
       "version_minor": 0
      },
      "text/plain": [
       "HBox(children=(FloatProgress(value=0.0, description='Epochs', layout=Layout(flex='2'), style=ProgressStyle(des…"
      ]
     },
     "metadata": {},
     "output_type": "display_data"
    },
    {
     "name": "stdout",
     "output_type": "stream",
     "text": [
      "Number of batches: train = 6667, val = 209\n"
     ]
    },
    {
     "data": {
      "application/vnd.jupyter.widget-view+json": {
       "model_id": "",
       "version_major": 2,
       "version_minor": 0
      },
      "text/plain": [
       "HBox(children=(FloatProgress(value=0.0, description='Training', layout=Layout(flex='2'), max=6667.0, style=Pro…"
      ]
     },
     "metadata": {},
     "output_type": "display_data"
    },
    {
     "name": "stdout",
     "output_type": "stream",
     "text": [
      "Epoch 0: train=0.794598, val=0.546055, took 607.22 s\n"
     ]
    },
    {
     "data": {
      "application/vnd.jupyter.widget-view+json": {
       "model_id": "",
       "version_major": 2,
       "version_minor": 0
      },
      "text/plain": [
       "HBox(children=(FloatProgress(value=0.0, description='Training', layout=Layout(flex='2'), max=6667.0, style=Pro…"
      ]
     },
     "metadata": {},
     "output_type": "display_data"
    },
    {
     "name": "stdout",
     "output_type": "stream",
     "text": [
      "Epoch 1: train=0.793012, val=0.540714, took 609.41 s\n"
     ]
    },
    {
     "data": {
      "application/vnd.jupyter.widget-view+json": {
       "model_id": "",
       "version_major": 2,
       "version_minor": 0
      },
      "text/plain": [
       "HBox(children=(FloatProgress(value=0.0, description='Training', layout=Layout(flex='2'), max=6667.0, style=Pro…"
      ]
     },
     "metadata": {},
     "output_type": "display_data"
    },
    {
     "name": "stdout",
     "output_type": "stream",
     "text": [
      "Epoch 2: train=0.788738, val=0.545302, took 608.34 s\n"
     ]
    },
    {
     "data": {
      "application/vnd.jupyter.widget-view+json": {
       "model_id": "",
       "version_major": 2,
       "version_minor": 0
      },
      "text/plain": [
       "HBox(children=(FloatProgress(value=0.0, description='Training', layout=Layout(flex='2'), max=6667.0, style=Pro…"
      ]
     },
     "metadata": {},
     "output_type": "display_data"
    },
    {
     "name": "stdout",
     "output_type": "stream",
     "text": [
      "Epoch 3: train=0.790043, val=0.552976, took 607.15 s\n"
     ]
    },
    {
     "data": {
      "application/vnd.jupyter.widget-view+json": {
       "model_id": "",
       "version_major": 2,
       "version_minor": 0
      },
      "text/plain": [
       "HBox(children=(FloatProgress(value=0.0, description='Training', layout=Layout(flex='2'), max=6667.0, style=Pro…"
      ]
     },
     "metadata": {},
     "output_type": "display_data"
    },
    {
     "name": "stdout",
     "output_type": "stream",
     "text": [
      "Epoch 4: train=0.790305, val=0.551714, took 605.05 s\n"
     ]
    },
    {
     "data": {
      "application/vnd.jupyter.widget-view+json": {
       "model_id": "",
       "version_major": 2,
       "version_minor": 0
      },
      "text/plain": [
       "HBox(children=(FloatProgress(value=0.0, description='Training', layout=Layout(flex='2'), max=6667.0, style=Pro…"
      ]
     },
     "metadata": {},
     "output_type": "display_data"
    },
    {
     "name": "stdout",
     "output_type": "stream",
     "text": [
      "Epoch 5: train=0.78972, val=0.551176, took 606.09 s\n"
     ]
    },
    {
     "data": {
      "application/vnd.jupyter.widget-view+json": {
       "model_id": "",
       "version_major": 2,
       "version_minor": 0
      },
      "text/plain": [
       "HBox(children=(FloatProgress(value=0.0, description='Training', layout=Layout(flex='2'), max=6667.0, style=Pro…"
      ]
     },
     "metadata": {},
     "output_type": "display_data"
    },
    {
     "name": "stdout",
     "output_type": "stream",
     "text": [
      "Epoch 6: train=0.787351, val=0.544817, took 604.68 s\n"
     ]
    },
    {
     "data": {
      "application/vnd.jupyter.widget-view+json": {
       "model_id": "",
       "version_major": 2,
       "version_minor": 0
      },
      "text/plain": [
       "HBox(children=(FloatProgress(value=0.0, description='Training', layout=Layout(flex='2'), max=6667.0, style=Pro…"
      ]
     },
     "metadata": {},
     "output_type": "display_data"
    },
    {
     "name": "stdout",
     "output_type": "stream",
     "text": [
      "Epoch 7: train=0.789128, val=0.55083, took 604.27 s\n"
     ]
    },
    {
     "data": {
      "application/vnd.jupyter.widget-view+json": {
       "model_id": "",
       "version_major": 2,
       "version_minor": 0
      },
      "text/plain": [
       "HBox(children=(FloatProgress(value=0.0, description='Training', layout=Layout(flex='2'), max=6667.0, style=Pro…"
      ]
     },
     "metadata": {},
     "output_type": "display_data"
    },
    {
     "name": "stdout",
     "output_type": "stream",
     "text": [
      "Epoch 8: train=0.786985, val=0.540027, took 603.64 s\n"
     ]
    },
    {
     "data": {
      "application/vnd.jupyter.widget-view+json": {
       "model_id": "",
       "version_major": 2,
       "version_minor": 0
      },
      "text/plain": [
       "HBox(children=(FloatProgress(value=0.0, description='Training', layout=Layout(flex='2'), max=6667.0, style=Pro…"
      ]
     },
     "metadata": {},
     "output_type": "display_data"
    },
    {
     "name": "stdout",
     "output_type": "stream",
     "text": [
      "Epoch 9: train=0.787613, val=0.553939, took 604.61 s\n"
     ]
    },
    {
     "data": {
      "application/vnd.jupyter.widget-view+json": {
       "model_id": "",
       "version_major": 2,
       "version_minor": 0
      },
      "text/plain": [
       "HBox(children=(FloatProgress(value=0.0, description='Training', layout=Layout(flex='2'), max=6667.0, style=Pro…"
      ]
     },
     "metadata": {},
     "output_type": "display_data"
    },
    {
     "name": "stdout",
     "output_type": "stream",
     "text": [
      "Epoch 10: train=0.788552, val=0.547024, took 605.36 s\n"
     ]
    },
    {
     "data": {
      "application/vnd.jupyter.widget-view+json": {
       "model_id": "",
       "version_major": 2,
       "version_minor": 0
      },
      "text/plain": [
       "HBox(children=(FloatProgress(value=0.0, description='Training', layout=Layout(flex='2'), max=6667.0, style=Pro…"
      ]
     },
     "metadata": {},
     "output_type": "display_data"
    },
    {
     "name": "stdout",
     "output_type": "stream",
     "text": [
      "Epoch 11: train=0.786124, val=0.574955, took 604.63 s\n"
     ]
    },
    {
     "data": {
      "application/vnd.jupyter.widget-view+json": {
       "model_id": "",
       "version_major": 2,
       "version_minor": 0
      },
      "text/plain": [
       "HBox(children=(FloatProgress(value=0.0, description='Training', layout=Layout(flex='2'), max=6667.0, style=Pro…"
      ]
     },
     "metadata": {},
     "output_type": "display_data"
    },
    {
     "name": "stdout",
     "output_type": "stream",
     "text": [
      "Epoch 12: train=0.787176, val=0.557414, took 604.81 s\n"
     ]
    },
    {
     "data": {
      "application/vnd.jupyter.widget-view+json": {
       "model_id": "",
       "version_major": 2,
       "version_minor": 0
      },
      "text/plain": [
       "HBox(children=(FloatProgress(value=0.0, description='Training', layout=Layout(flex='2'), max=6667.0, style=Pro…"
      ]
     },
     "metadata": {},
     "output_type": "display_data"
    },
    {
     "name": "stdout",
     "output_type": "stream",
     "text": [
      "Epoch 13: train=0.787129, val=0.566307, took 605.48 s\n"
     ]
    },
    {
     "data": {
      "application/vnd.jupyter.widget-view+json": {
       "model_id": "",
       "version_major": 2,
       "version_minor": 0
      },
      "text/plain": [
       "HBox(children=(FloatProgress(value=0.0, description='Training', layout=Layout(flex='2'), max=6667.0, style=Pro…"
      ]
     },
     "metadata": {},
     "output_type": "display_data"
    },
    {
     "name": "stdout",
     "output_type": "stream",
     "text": [
      "Epoch 14: train=0.785305, val=0.53931, took 605.17 s\n"
     ]
    },
    {
     "data": {
      "application/vnd.jupyter.widget-view+json": {
       "model_id": "",
       "version_major": 2,
       "version_minor": 0
      },
      "text/plain": [
       "HBox(children=(FloatProgress(value=0.0, description='Training', layout=Layout(flex='2'), max=6667.0, style=Pro…"
      ]
     },
     "metadata": {},
     "output_type": "display_data"
    },
    {
     "name": "stdout",
     "output_type": "stream",
     "text": [
      "Epoch 15: train=0.783561, val=0.540298, took 606.09 s\n"
     ]
    },
    {
     "data": {
      "application/vnd.jupyter.widget-view+json": {
       "model_id": "",
       "version_major": 2,
       "version_minor": 0
      },
      "text/plain": [
       "HBox(children=(FloatProgress(value=0.0, description='Training', layout=Layout(flex='2'), max=6667.0, style=Pro…"
      ]
     },
     "metadata": {},
     "output_type": "display_data"
    },
    {
     "name": "stdout",
     "output_type": "stream",
     "text": [
      "Epoch 16: train=0.784264, val=0.543464, took 605.17 s\n"
     ]
    },
    {
     "data": {
      "application/vnd.jupyter.widget-view+json": {
       "model_id": "",
       "version_major": 2,
       "version_minor": 0
      },
      "text/plain": [
       "HBox(children=(FloatProgress(value=0.0, description='Training', layout=Layout(flex='2'), max=6667.0, style=Pro…"
      ]
     },
     "metadata": {},
     "output_type": "display_data"
    },
    {
     "name": "stdout",
     "output_type": "stream",
     "text": [
      "Epoch 17: train=0.783234, val=0.541573, took 605.18 s\n"
     ]
    },
    {
     "data": {
      "application/vnd.jupyter.widget-view+json": {
       "model_id": "",
       "version_major": 2,
       "version_minor": 0
      },
      "text/plain": [
       "HBox(children=(FloatProgress(value=0.0, description='Training', layout=Layout(flex='2'), max=6667.0, style=Pro…"
      ]
     },
     "metadata": {},
     "output_type": "display_data"
    },
    {
     "name": "stdout",
     "output_type": "stream",
     "text": [
      "Epoch 18: train=0.780546, val=0.589172, took 605.02 s\n"
     ]
    },
    {
     "data": {
      "application/vnd.jupyter.widget-view+json": {
       "model_id": "",
       "version_major": 2,
       "version_minor": 0
      },
      "text/plain": [
       "HBox(children=(FloatProgress(value=0.0, description='Training', layout=Layout(flex='2'), max=6667.0, style=Pro…"
      ]
     },
     "metadata": {},
     "output_type": "display_data"
    },
    {
     "name": "stdout",
     "output_type": "stream",
     "text": [
      "Epoch 19: train=0.780978, val=0.558108, took 604.26 s\n"
     ]
    },
    {
     "data": {
      "application/vnd.jupyter.widget-view+json": {
       "model_id": "",
       "version_major": 2,
       "version_minor": 0
      },
      "text/plain": [
       "HBox(children=(FloatProgress(value=0.0, description='Training', layout=Layout(flex='2'), max=6667.0, style=Pro…"
      ]
     },
     "metadata": {},
     "output_type": "display_data"
    },
    {
     "name": "stdout",
     "output_type": "stream",
     "text": [
      "Epoch 20: train=0.781957, val=0.545792, took 605.71 s\n"
     ]
    },
    {
     "data": {
      "application/vnd.jupyter.widget-view+json": {
       "model_id": "",
       "version_major": 2,
       "version_minor": 0
      },
      "text/plain": [
       "HBox(children=(FloatProgress(value=0.0, description='Training', layout=Layout(flex='2'), max=6667.0, style=Pro…"
      ]
     },
     "metadata": {},
     "output_type": "display_data"
    },
    {
     "name": "stdout",
     "output_type": "stream",
     "text": [
      "Epoch 21: train=0.779235, val=0.554501, took 606.6 s\n"
     ]
    },
    {
     "data": {
      "application/vnd.jupyter.widget-view+json": {
       "model_id": "",
       "version_major": 2,
       "version_minor": 0
      },
      "text/plain": [
       "HBox(children=(FloatProgress(value=0.0, description='Training', layout=Layout(flex='2'), max=6667.0, style=Pro…"
      ]
     },
     "metadata": {},
     "output_type": "display_data"
    },
    {
     "name": "stdout",
     "output_type": "stream",
     "text": [
      "Epoch 22: train=0.779595, val=0.535777, took 604.54 s\n"
     ]
    },
    {
     "data": {
      "application/vnd.jupyter.widget-view+json": {
       "model_id": "",
       "version_major": 2,
       "version_minor": 0
      },
      "text/plain": [
       "HBox(children=(FloatProgress(value=0.0, description='Training', layout=Layout(flex='2'), max=6667.0, style=Pro…"
      ]
     },
     "metadata": {},
     "output_type": "display_data"
    },
    {
     "name": "stdout",
     "output_type": "stream",
     "text": [
      "Epoch 23: train=0.778122, val=0.558024, took 604.73 s\n"
     ]
    },
    {
     "data": {
      "application/vnd.jupyter.widget-view+json": {
       "model_id": "",
       "version_major": 2,
       "version_minor": 0
      },
      "text/plain": [
       "HBox(children=(FloatProgress(value=0.0, description='Training', layout=Layout(flex='2'), max=6667.0, style=Pro…"
      ]
     },
     "metadata": {},
     "output_type": "display_data"
    },
    {
     "name": "stdout",
     "output_type": "stream",
     "text": [
      "Epoch 24: train=0.780105, val=0.553539, took 605.44 s\n"
     ]
    },
    {
     "data": {
      "application/vnd.jupyter.widget-view+json": {
       "model_id": "",
       "version_major": 2,
       "version_minor": 0
      },
      "text/plain": [
       "HBox(children=(FloatProgress(value=0.0, description='Training', layout=Layout(flex='2'), max=6667.0, style=Pro…"
      ]
     },
     "metadata": {},
     "output_type": "display_data"
    },
    {
     "name": "stdout",
     "output_type": "stream",
     "text": [
      "Epoch 25: train=0.780379, val=0.560528, took 605.38 s\n"
     ]
    },
    {
     "data": {
      "application/vnd.jupyter.widget-view+json": {
       "model_id": "",
       "version_major": 2,
       "version_minor": 0
      },
      "text/plain": [
       "HBox(children=(FloatProgress(value=0.0, description='Training', layout=Layout(flex='2'), max=6667.0, style=Pro…"
      ]
     },
     "metadata": {},
     "output_type": "display_data"
    },
    {
     "name": "stdout",
     "output_type": "stream",
     "text": [
      "Epoch 26: train=0.777646, val=0.563381, took 605.35 s\n"
     ]
    },
    {
     "data": {
      "application/vnd.jupyter.widget-view+json": {
       "model_id": "",
       "version_major": 2,
       "version_minor": 0
      },
      "text/plain": [
       "HBox(children=(FloatProgress(value=0.0, description='Training', layout=Layout(flex='2'), max=6667.0, style=Pro…"
      ]
     },
     "metadata": {},
     "output_type": "display_data"
    },
    {
     "name": "stdout",
     "output_type": "stream",
     "text": [
      "Epoch 27: train=0.777855, val=0.569514, took 605.42 s\n"
     ]
    },
    {
     "data": {
      "application/vnd.jupyter.widget-view+json": {
       "model_id": "",
       "version_major": 2,
       "version_minor": 0
      },
      "text/plain": [
       "HBox(children=(FloatProgress(value=0.0, description='Training', layout=Layout(flex='2'), max=6667.0, style=Pro…"
      ]
     },
     "metadata": {},
     "output_type": "display_data"
    },
    {
     "name": "stdout",
     "output_type": "stream",
     "text": [
      "Epoch 28: train=0.778817, val=0.529993, took 604.98 s\n"
     ]
    },
    {
     "data": {
      "application/vnd.jupyter.widget-view+json": {
       "model_id": "",
       "version_major": 2,
       "version_minor": 0
      },
      "text/plain": [
       "HBox(children=(FloatProgress(value=0.0, description='Training', layout=Layout(flex='2'), max=6667.0, style=Pro…"
      ]
     },
     "metadata": {},
     "output_type": "display_data"
    },
    {
     "name": "stdout",
     "output_type": "stream",
     "text": [
      "Epoch 29: train=0.778651, val=0.559657, took 605.94 s\n"
     ]
    },
    {
     "data": {
      "application/vnd.jupyter.widget-view+json": {
       "model_id": "",
       "version_major": 2,
       "version_minor": 0
      },
      "text/plain": [
       "HBox(children=(FloatProgress(value=0.0, description='Training', layout=Layout(flex='2'), max=6667.0, style=Pro…"
      ]
     },
     "metadata": {},
     "output_type": "display_data"
    },
    {
     "name": "stdout",
     "output_type": "stream",
     "text": [
      "Epoch 30: train=0.776534, val=0.536372, took 607.26 s\n"
     ]
    },
    {
     "data": {
      "application/vnd.jupyter.widget-view+json": {
       "model_id": "",
       "version_major": 2,
       "version_minor": 0
      },
      "text/plain": [
       "HBox(children=(FloatProgress(value=0.0, description='Training', layout=Layout(flex='2'), max=6667.0, style=Pro…"
      ]
     },
     "metadata": {},
     "output_type": "display_data"
    },
    {
     "name": "stdout",
     "output_type": "stream",
     "text": [
      "Epoch 31: train=0.778099, val=0.532182, took 604.65 s\n"
     ]
    },
    {
     "data": {
      "application/vnd.jupyter.widget-view+json": {
       "model_id": "",
       "version_major": 2,
       "version_minor": 0
      },
      "text/plain": [
       "HBox(children=(FloatProgress(value=0.0, description='Training', layout=Layout(flex='2'), max=6667.0, style=Pro…"
      ]
     },
     "metadata": {},
     "output_type": "display_data"
    },
    {
     "name": "stdout",
     "output_type": "stream",
     "text": [
      "Epoch 32: train=0.776904, val=0.536707, took 603.8 s\n"
     ]
    },
    {
     "data": {
      "application/vnd.jupyter.widget-view+json": {
       "model_id": "",
       "version_major": 2,
       "version_minor": 0
      },
      "text/plain": [
       "HBox(children=(FloatProgress(value=0.0, description='Training', layout=Layout(flex='2'), max=6667.0, style=Pro…"
      ]
     },
     "metadata": {},
     "output_type": "display_data"
    },
    {
     "name": "stdout",
     "output_type": "stream",
     "text": [
      "Epoch 33: train=0.77602, val=0.579702, took 602.71 s\n"
     ]
    },
    {
     "data": {
      "application/vnd.jupyter.widget-view+json": {
       "model_id": "",
       "version_major": 2,
       "version_minor": 0
      },
      "text/plain": [
       "HBox(children=(FloatProgress(value=0.0, description='Training', layout=Layout(flex='2'), max=6667.0, style=Pro…"
      ]
     },
     "metadata": {},
     "output_type": "display_data"
    },
    {
     "name": "stdout",
     "output_type": "stream",
     "text": [
      "Epoch 34: train=0.773893, val=0.534166, took 604.45 s\n"
     ]
    },
    {
     "data": {
      "application/vnd.jupyter.widget-view+json": {
       "model_id": "",
       "version_major": 2,
       "version_minor": 0
      },
      "text/plain": [
       "HBox(children=(FloatProgress(value=0.0, description='Training', layout=Layout(flex='2'), max=6667.0, style=Pro…"
      ]
     },
     "metadata": {},
     "output_type": "display_data"
    },
    {
     "name": "stdout",
     "output_type": "stream",
     "text": [
      "Epoch 35: train=0.774303, val=0.529899, took 605.11 s\n"
     ]
    },
    {
     "data": {
      "application/vnd.jupyter.widget-view+json": {
       "model_id": "",
       "version_major": 2,
       "version_minor": 0
      },
      "text/plain": [
       "HBox(children=(FloatProgress(value=0.0, description='Training', layout=Layout(flex='2'), max=6667.0, style=Pro…"
      ]
     },
     "metadata": {},
     "output_type": "display_data"
    },
    {
     "name": "stdout",
     "output_type": "stream",
     "text": [
      "Epoch 36: train=0.773849, val=0.532644, took 604.84 s\n"
     ]
    },
    {
     "data": {
      "application/vnd.jupyter.widget-view+json": {
       "model_id": "",
       "version_major": 2,
       "version_minor": 0
      },
      "text/plain": [
       "HBox(children=(FloatProgress(value=0.0, description='Training', layout=Layout(flex='2'), max=6667.0, style=Pro…"
      ]
     },
     "metadata": {},
     "output_type": "display_data"
    },
    {
     "name": "stdout",
     "output_type": "stream",
     "text": [
      "Epoch 37: train=0.775331, val=0.549949, took 600.96 s\n"
     ]
    },
    {
     "data": {
      "application/vnd.jupyter.widget-view+json": {
       "model_id": "",
       "version_major": 2,
       "version_minor": 0
      },
      "text/plain": [
       "HBox(children=(FloatProgress(value=0.0, description='Training', layout=Layout(flex='2'), max=6667.0, style=Pro…"
      ]
     },
     "metadata": {},
     "output_type": "display_data"
    },
    {
     "name": "stdout",
     "output_type": "stream",
     "text": [
      "Epoch 38: train=0.773342, val=0.54363, took 601.48 s\n"
     ]
    },
    {
     "data": {
      "application/vnd.jupyter.widget-view+json": {
       "model_id": "",
       "version_major": 2,
       "version_minor": 0
      },
      "text/plain": [
       "HBox(children=(FloatProgress(value=0.0, description='Training', layout=Layout(flex='2'), max=6667.0, style=Pro…"
      ]
     },
     "metadata": {},
     "output_type": "display_data"
    },
    {
     "name": "stdout",
     "output_type": "stream",
     "text": [
      "Epoch 39: train=0.77413, val=0.58037, took 602.59 s\n"
     ]
    },
    {
     "data": {
      "application/vnd.jupyter.widget-view+json": {
       "model_id": "",
       "version_major": 2,
       "version_minor": 0
      },
      "text/plain": [
       "HBox(children=(FloatProgress(value=0.0, description='Training', layout=Layout(flex='2'), max=6667.0, style=Pro…"
      ]
     },
     "metadata": {},
     "output_type": "display_data"
    },
    {
     "name": "stdout",
     "output_type": "stream",
     "text": [
      "Epoch 40: train=0.772388, val=0.549902, took 601.12 s\n"
     ]
    },
    {
     "data": {
      "application/vnd.jupyter.widget-view+json": {
       "model_id": "",
       "version_major": 2,
       "version_minor": 0
      },
      "text/plain": [
       "HBox(children=(FloatProgress(value=0.0, description='Training', layout=Layout(flex='2'), max=6667.0, style=Pro…"
      ]
     },
     "metadata": {},
     "output_type": "display_data"
    },
    {
     "name": "stdout",
     "output_type": "stream",
     "text": [
      "Epoch 41: train=0.770201, val=0.529334, took 601.91 s\n"
     ]
    },
    {
     "data": {
      "application/vnd.jupyter.widget-view+json": {
       "model_id": "",
       "version_major": 2,
       "version_minor": 0
      },
      "text/plain": [
       "HBox(children=(FloatProgress(value=0.0, description='Training', layout=Layout(flex='2'), max=6667.0, style=Pro…"
      ]
     },
     "metadata": {},
     "output_type": "display_data"
    },
    {
     "name": "stdout",
     "output_type": "stream",
     "text": [
      "Epoch 42: train=0.772402, val=0.527917, took 601.32 s\n"
     ]
    },
    {
     "data": {
      "application/vnd.jupyter.widget-view+json": {
       "model_id": "",
       "version_major": 2,
       "version_minor": 0
      },
      "text/plain": [
       "HBox(children=(FloatProgress(value=0.0, description='Training', layout=Layout(flex='2'), max=6667.0, style=Pro…"
      ]
     },
     "metadata": {},
     "output_type": "display_data"
    },
    {
     "name": "stdout",
     "output_type": "stream",
     "text": [
      "Epoch 43: train=0.769507, val=0.539353, took 601.12 s\n"
     ]
    },
    {
     "data": {
      "application/vnd.jupyter.widget-view+json": {
       "model_id": "",
       "version_major": 2,
       "version_minor": 0
      },
      "text/plain": [
       "HBox(children=(FloatProgress(value=0.0, description='Training', layout=Layout(flex='2'), max=6667.0, style=Pro…"
      ]
     },
     "metadata": {},
     "output_type": "display_data"
    },
    {
     "name": "stdout",
     "output_type": "stream",
     "text": [
      "Epoch 44: train=0.770313, val=0.55698, took 601.07 s\n"
     ]
    },
    {
     "data": {
      "application/vnd.jupyter.widget-view+json": {
       "model_id": "",
       "version_major": 2,
       "version_minor": 0
      },
      "text/plain": [
       "HBox(children=(FloatProgress(value=0.0, description='Training', layout=Layout(flex='2'), max=6667.0, style=Pro…"
      ]
     },
     "metadata": {},
     "output_type": "display_data"
    },
    {
     "name": "stdout",
     "output_type": "stream",
     "text": [
      "Epoch 45: train=0.770625, val=0.545941, took 600.54 s\n"
     ]
    },
    {
     "data": {
      "application/vnd.jupyter.widget-view+json": {
       "model_id": "",
       "version_major": 2,
       "version_minor": 0
      },
      "text/plain": [
       "HBox(children=(FloatProgress(value=0.0, description='Training', layout=Layout(flex='2'), max=6667.0, style=Pro…"
      ]
     },
     "metadata": {},
     "output_type": "display_data"
    },
    {
     "name": "stdout",
     "output_type": "stream",
     "text": [
      "Epoch 46: train=0.77006, val=0.530293, took 601.79 s\n"
     ]
    },
    {
     "data": {
      "application/vnd.jupyter.widget-view+json": {
       "model_id": "",
       "version_major": 2,
       "version_minor": 0
      },
      "text/plain": [
       "HBox(children=(FloatProgress(value=0.0, description='Training', layout=Layout(flex='2'), max=6667.0, style=Pro…"
      ]
     },
     "metadata": {},
     "output_type": "display_data"
    },
    {
     "name": "stdout",
     "output_type": "stream",
     "text": [
      "Epoch 47: train=0.768905, val=0.545509, took 602.76 s\n"
     ]
    },
    {
     "data": {
      "application/vnd.jupyter.widget-view+json": {
       "model_id": "",
       "version_major": 2,
       "version_minor": 0
      },
      "text/plain": [
       "HBox(children=(FloatProgress(value=0.0, description='Training', layout=Layout(flex='2'), max=6667.0, style=Pro…"
      ]
     },
     "metadata": {},
     "output_type": "display_data"
    },
    {
     "name": "stdout",
     "output_type": "stream",
     "text": [
      "Epoch 48: train=0.767679, val=0.527827, took 606.32 s\n"
     ]
    },
    {
     "data": {
      "application/vnd.jupyter.widget-view+json": {
       "model_id": "",
       "version_major": 2,
       "version_minor": 0
      },
      "text/plain": [
       "HBox(children=(FloatProgress(value=0.0, description='Training', layout=Layout(flex='2'), max=6667.0, style=Pro…"
      ]
     },
     "metadata": {},
     "output_type": "display_data"
    },
    {
     "name": "stdout",
     "output_type": "stream",
     "text": [
      "Epoch 49: train=0.767984, val=0.566273, took 608.35 s\n"
     ]
    },
    {
     "data": {
      "application/vnd.jupyter.widget-view+json": {
       "model_id": "",
       "version_major": 2,
       "version_minor": 0
      },
      "text/plain": [
       "HBox(children=(FloatProgress(value=0.0, description='Training', layout=Layout(flex='2'), max=6667.0, style=Pro…"
      ]
     },
     "metadata": {},
     "output_type": "display_data"
    },
    {
     "name": "stdout",
     "output_type": "stream",
     "text": [
      "Epoch 50: train=0.769524, val=0.537329, took 605.75 s\n"
     ]
    },
    {
     "data": {
      "application/vnd.jupyter.widget-view+json": {
       "model_id": "",
       "version_major": 2,
       "version_minor": 0
      },
      "text/plain": [
       "HBox(children=(FloatProgress(value=0.0, description='Training', layout=Layout(flex='2'), max=6667.0, style=Pro…"
      ]
     },
     "metadata": {},
     "output_type": "display_data"
    },
    {
     "name": "stdout",
     "output_type": "stream",
     "text": [
      "Epoch 51: train=0.767711, val=0.545593, took 608.99 s\n"
     ]
    },
    {
     "data": {
      "application/vnd.jupyter.widget-view+json": {
       "model_id": "",
       "version_major": 2,
       "version_minor": 0
      },
      "text/plain": [
       "HBox(children=(FloatProgress(value=0.0, description='Training', layout=Layout(flex='2'), max=6667.0, style=Pro…"
      ]
     },
     "metadata": {},
     "output_type": "display_data"
    },
    {
     "name": "stdout",
     "output_type": "stream",
     "text": [
      "Epoch 52: train=0.765615, val=0.518647, took 613.08 s\n"
     ]
    },
    {
     "data": {
      "application/vnd.jupyter.widget-view+json": {
       "model_id": "",
       "version_major": 2,
       "version_minor": 0
      },
      "text/plain": [
       "HBox(children=(FloatProgress(value=0.0, description='Training', layout=Layout(flex='2'), max=6667.0, style=Pro…"
      ]
     },
     "metadata": {},
     "output_type": "display_data"
    },
    {
     "name": "stdout",
     "output_type": "stream",
     "text": [
      "Epoch 53: train=0.766843, val=0.539378, took 601.66 s\n"
     ]
    },
    {
     "data": {
      "application/vnd.jupyter.widget-view+json": {
       "model_id": "",
       "version_major": 2,
       "version_minor": 0
      },
      "text/plain": [
       "HBox(children=(FloatProgress(value=0.0, description='Training', layout=Layout(flex='2'), max=6667.0, style=Pro…"
      ]
     },
     "metadata": {},
     "output_type": "display_data"
    },
    {
     "name": "stdout",
     "output_type": "stream",
     "text": [
      "Epoch 54: train=0.766231, val=0.527787, took 600.65 s\n"
     ]
    },
    {
     "data": {
      "application/vnd.jupyter.widget-view+json": {
       "model_id": "",
       "version_major": 2,
       "version_minor": 0
      },
      "text/plain": [
       "HBox(children=(FloatProgress(value=0.0, description='Training', layout=Layout(flex='2'), max=6667.0, style=Pro…"
      ]
     },
     "metadata": {},
     "output_type": "display_data"
    },
    {
     "name": "stdout",
     "output_type": "stream",
     "text": [
      "Epoch 55: train=0.765081, val=0.544204, took 600.5 s\n"
     ]
    },
    {
     "data": {
      "application/vnd.jupyter.widget-view+json": {
       "model_id": "",
       "version_major": 2,
       "version_minor": 0
      },
      "text/plain": [
       "HBox(children=(FloatProgress(value=0.0, description='Training', layout=Layout(flex='2'), max=6667.0, style=Pro…"
      ]
     },
     "metadata": {},
     "output_type": "display_data"
    },
    {
     "name": "stdout",
     "output_type": "stream",
     "text": [
      "Epoch 56: train=0.765021, val=0.529467, took 599.86 s\n"
     ]
    },
    {
     "data": {
      "application/vnd.jupyter.widget-view+json": {
       "model_id": "",
       "version_major": 2,
       "version_minor": 0
      },
      "text/plain": [
       "HBox(children=(FloatProgress(value=0.0, description='Training', layout=Layout(flex='2'), max=6667.0, style=Pro…"
      ]
     },
     "metadata": {},
     "output_type": "display_data"
    },
    {
     "name": "stdout",
     "output_type": "stream",
     "text": [
      "Epoch 57: train=0.765621, val=0.527038, took 600.61 s\n"
     ]
    },
    {
     "data": {
      "application/vnd.jupyter.widget-view+json": {
       "model_id": "",
       "version_major": 2,
       "version_minor": 0
      },
      "text/plain": [
       "HBox(children=(FloatProgress(value=0.0, description='Training', layout=Layout(flex='2'), max=6667.0, style=Pro…"
      ]
     },
     "metadata": {},
     "output_type": "display_data"
    },
    {
     "name": "stdout",
     "output_type": "stream",
     "text": [
      "Epoch 58: train=0.763552, val=0.545503, took 602.36 s\n"
     ]
    },
    {
     "data": {
      "application/vnd.jupyter.widget-view+json": {
       "model_id": "",
       "version_major": 2,
       "version_minor": 0
      },
      "text/plain": [
       "HBox(children=(FloatProgress(value=0.0, description='Training', layout=Layout(flex='2'), max=6667.0, style=Pro…"
      ]
     },
     "metadata": {},
     "output_type": "display_data"
    },
    {
     "name": "stdout",
     "output_type": "stream",
     "text": [
      "Epoch 59: train=0.764074, val=0.524406, took 603.12 s\n"
     ]
    },
    {
     "data": {
      "application/vnd.jupyter.widget-view+json": {
       "model_id": "",
       "version_major": 2,
       "version_minor": 0
      },
      "text/plain": [
       "HBox(children=(FloatProgress(value=0.0, description='Training', layout=Layout(flex='2'), max=6667.0, style=Pro…"
      ]
     },
     "metadata": {},
     "output_type": "display_data"
    },
    {
     "name": "stdout",
     "output_type": "stream",
     "text": [
      "Epoch 60: train=0.76242, val=0.533931, took 600.27 s\n"
     ]
    },
    {
     "data": {
      "application/vnd.jupyter.widget-view+json": {
       "model_id": "",
       "version_major": 2,
       "version_minor": 0
      },
      "text/plain": [
       "HBox(children=(FloatProgress(value=0.0, description='Training', layout=Layout(flex='2'), max=6667.0, style=Pro…"
      ]
     },
     "metadata": {},
     "output_type": "display_data"
    },
    {
     "name": "stdout",
     "output_type": "stream",
     "text": [
      "Epoch 61: train=0.762363, val=0.549245, took 600.55 s\n"
     ]
    },
    {
     "data": {
      "application/vnd.jupyter.widget-view+json": {
       "model_id": "",
       "version_major": 2,
       "version_minor": 0
      },
      "text/plain": [
       "HBox(children=(FloatProgress(value=0.0, description='Training', layout=Layout(flex='2'), max=6667.0, style=Pro…"
      ]
     },
     "metadata": {},
     "output_type": "display_data"
    },
    {
     "name": "stdout",
     "output_type": "stream",
     "text": [
      "Epoch 62: train=0.762311, val=0.544929, took 600.56 s\n"
     ]
    },
    {
     "data": {
      "application/vnd.jupyter.widget-view+json": {
       "model_id": "",
       "version_major": 2,
       "version_minor": 0
      },
      "text/plain": [
       "HBox(children=(FloatProgress(value=0.0, description='Training', layout=Layout(flex='2'), max=6667.0, style=Pro…"
      ]
     },
     "metadata": {},
     "output_type": "display_data"
    },
    {
     "name": "stdout",
     "output_type": "stream",
     "text": [
      "Epoch 63: train=0.762703, val=0.591161, took 600.34 s\n"
     ]
    },
    {
     "data": {
      "application/vnd.jupyter.widget-view+json": {
       "model_id": "",
       "version_major": 2,
       "version_minor": 0
      },
      "text/plain": [
       "HBox(children=(FloatProgress(value=0.0, description='Training', layout=Layout(flex='2'), max=6667.0, style=Pro…"
      ]
     },
     "metadata": {},
     "output_type": "display_data"
    },
    {
     "name": "stdout",
     "output_type": "stream",
     "text": [
      "Epoch 64: train=0.760676, val=0.527605, took 600.42 s\n"
     ]
    },
    {
     "data": {
      "application/vnd.jupyter.widget-view+json": {
       "model_id": "",
       "version_major": 2,
       "version_minor": 0
      },
      "text/plain": [
       "HBox(children=(FloatProgress(value=0.0, description='Training', layout=Layout(flex='2'), max=6667.0, style=Pro…"
      ]
     },
     "metadata": {},
     "output_type": "display_data"
    },
    {
     "name": "stdout",
     "output_type": "stream",
     "text": [
      "Epoch 65: train=0.761174, val=0.526102, took 602.26 s\n"
     ]
    },
    {
     "data": {
      "application/vnd.jupyter.widget-view+json": {
       "model_id": "",
       "version_major": 2,
       "version_minor": 0
      },
      "text/plain": [
       "HBox(children=(FloatProgress(value=0.0, description='Training', layout=Layout(flex='2'), max=6667.0, style=Pro…"
      ]
     },
     "metadata": {},
     "output_type": "display_data"
    },
    {
     "name": "stdout",
     "output_type": "stream",
     "text": [
      "Epoch 66: train=0.762578, val=0.519592, took 601.35 s\n"
     ]
    },
    {
     "data": {
      "application/vnd.jupyter.widget-view+json": {
       "model_id": "",
       "version_major": 2,
       "version_minor": 0
      },
      "text/plain": [
       "HBox(children=(FloatProgress(value=0.0, description='Training', layout=Layout(flex='2'), max=6667.0, style=Pro…"
      ]
     },
     "metadata": {},
     "output_type": "display_data"
    },
    {
     "name": "stdout",
     "output_type": "stream",
     "text": [
      "Epoch 67: train=0.758951, val=0.541672, took 602.9 s\n"
     ]
    },
    {
     "data": {
      "application/vnd.jupyter.widget-view+json": {
       "model_id": "",
       "version_major": 2,
       "version_minor": 0
      },
      "text/plain": [
       "HBox(children=(FloatProgress(value=0.0, description='Training', layout=Layout(flex='2'), max=6667.0, style=Pro…"
      ]
     },
     "metadata": {},
     "output_type": "display_data"
    },
    {
     "name": "stdout",
     "output_type": "stream",
     "text": [
      "Epoch 68: train=0.759425, val=0.526241, took 600.73 s\n"
     ]
    },
    {
     "data": {
      "application/vnd.jupyter.widget-view+json": {
       "model_id": "",
       "version_major": 2,
       "version_minor": 0
      },
      "text/plain": [
       "HBox(children=(FloatProgress(value=0.0, description='Training', layout=Layout(flex='2'), max=6667.0, style=Pro…"
      ]
     },
     "metadata": {},
     "output_type": "display_data"
    },
    {
     "name": "stdout",
     "output_type": "stream",
     "text": [
      "Epoch 69: train=0.758114, val=0.576503, took 601.62 s\n"
     ]
    },
    {
     "data": {
      "application/vnd.jupyter.widget-view+json": {
       "model_id": "",
       "version_major": 2,
       "version_minor": 0
      },
      "text/plain": [
       "HBox(children=(FloatProgress(value=0.0, description='Training', layout=Layout(flex='2'), max=6667.0, style=Pro…"
      ]
     },
     "metadata": {},
     "output_type": "display_data"
    },
    {
     "name": "stdout",
     "output_type": "stream",
     "text": [
      "Epoch 70: train=0.759311, val=0.532501, took 598.8 s\n"
     ]
    },
    {
     "data": {
      "application/vnd.jupyter.widget-view+json": {
       "model_id": "",
       "version_major": 2,
       "version_minor": 0
      },
      "text/plain": [
       "HBox(children=(FloatProgress(value=0.0, description='Training', layout=Layout(flex='2'), max=6667.0, style=Pro…"
      ]
     },
     "metadata": {},
     "output_type": "display_data"
    },
    {
     "name": "stdout",
     "output_type": "stream",
     "text": [
      "Epoch 71: train=0.75972, val=0.521216, took 602.08 s\n"
     ]
    },
    {
     "data": {
      "application/vnd.jupyter.widget-view+json": {
       "model_id": "",
       "version_major": 2,
       "version_minor": 0
      },
      "text/plain": [
       "HBox(children=(FloatProgress(value=0.0, description='Training', layout=Layout(flex='2'), max=6667.0, style=Pro…"
      ]
     },
     "metadata": {},
     "output_type": "display_data"
    },
    {
     "name": "stdout",
     "output_type": "stream",
     "text": [
      "Epoch 72: train=0.758127, val=0.579144, took 599.51 s\n"
     ]
    },
    {
     "data": {
      "application/vnd.jupyter.widget-view+json": {
       "model_id": "",
       "version_major": 2,
       "version_minor": 0
      },
      "text/plain": [
       "HBox(children=(FloatProgress(value=0.0, description='Training', layout=Layout(flex='2'), max=6667.0, style=Pro…"
      ]
     },
     "metadata": {},
     "output_type": "display_data"
    },
    {
     "name": "stdout",
     "output_type": "stream",
     "text": [
      "Epoch 73: train=0.75614, val=0.529433, took 601.85 s\n"
     ]
    },
    {
     "data": {
      "application/vnd.jupyter.widget-view+json": {
       "model_id": "",
       "version_major": 2,
       "version_minor": 0
      },
      "text/plain": [
       "HBox(children=(FloatProgress(value=0.0, description='Training', layout=Layout(flex='2'), max=6667.0, style=Pro…"
      ]
     },
     "metadata": {},
     "output_type": "display_data"
    },
    {
     "name": "stdout",
     "output_type": "stream",
     "text": [
      "Epoch 74: train=0.757765, val=0.524661, took 604.2 s\n"
     ]
    },
    {
     "data": {
      "application/vnd.jupyter.widget-view+json": {
       "model_id": "",
       "version_major": 2,
       "version_minor": 0
      },
      "text/plain": [
       "HBox(children=(FloatProgress(value=0.0, description='Training', layout=Layout(flex='2'), max=6667.0, style=Pro…"
      ]
     },
     "metadata": {},
     "output_type": "display_data"
    },
    {
     "name": "stdout",
     "output_type": "stream",
     "text": [
      "Epoch 75: train=0.75674, val=0.534154, took 601.65 s\n"
     ]
    },
    {
     "data": {
      "application/vnd.jupyter.widget-view+json": {
       "model_id": "",
       "version_major": 2,
       "version_minor": 0
      },
      "text/plain": [
       "HBox(children=(FloatProgress(value=0.0, description='Training', layout=Layout(flex='2'), max=6667.0, style=Pro…"
      ]
     },
     "metadata": {},
     "output_type": "display_data"
    },
    {
     "name": "stdout",
     "output_type": "stream",
     "text": [
      "Epoch 76: train=0.755346, val=0.520978, took 602.14 s\n"
     ]
    },
    {
     "data": {
      "application/vnd.jupyter.widget-view+json": {
       "model_id": "",
       "version_major": 2,
       "version_minor": 0
      },
      "text/plain": [
       "HBox(children=(FloatProgress(value=0.0, description='Training', layout=Layout(flex='2'), max=6667.0, style=Pro…"
      ]
     },
     "metadata": {},
     "output_type": "display_data"
    },
    {
     "name": "stdout",
     "output_type": "stream",
     "text": [
      "Epoch 77: train=0.757288, val=0.514956, took 603.58 s\n"
     ]
    },
    {
     "data": {
      "application/vnd.jupyter.widget-view+json": {
       "model_id": "",
       "version_major": 2,
       "version_minor": 0
      },
      "text/plain": [
       "HBox(children=(FloatProgress(value=0.0, description='Training', layout=Layout(flex='2'), max=6667.0, style=Pro…"
      ]
     },
     "metadata": {},
     "output_type": "display_data"
    },
    {
     "name": "stdout",
     "output_type": "stream",
     "text": [
      "Epoch 78: train=0.754691, val=0.517052, took 601.8 s\n"
     ]
    },
    {
     "data": {
      "application/vnd.jupyter.widget-view+json": {
       "model_id": "",
       "version_major": 2,
       "version_minor": 0
      },
      "text/plain": [
       "HBox(children=(FloatProgress(value=0.0, description='Training', layout=Layout(flex='2'), max=6667.0, style=Pro…"
      ]
     },
     "metadata": {},
     "output_type": "display_data"
    },
    {
     "name": "stdout",
     "output_type": "stream",
     "text": [
      "Epoch 79: train=0.755807, val=0.565674, took 602.12 s\n"
     ]
    },
    {
     "data": {
      "application/vnd.jupyter.widget-view+json": {
       "model_id": "",
       "version_major": 2,
       "version_minor": 0
      },
      "text/plain": [
       "HBox(children=(FloatProgress(value=0.0, description='Training', layout=Layout(flex='2'), max=6667.0, style=Pro…"
      ]
     },
     "metadata": {},
     "output_type": "display_data"
    },
    {
     "name": "stdout",
     "output_type": "stream",
     "text": [
      "Epoch 80: train=0.752881, val=0.516794, took 603.32 s\n"
     ]
    },
    {
     "data": {
      "application/vnd.jupyter.widget-view+json": {
       "model_id": "",
       "version_major": 2,
       "version_minor": 0
      },
      "text/plain": [
       "HBox(children=(FloatProgress(value=0.0, description='Training', layout=Layout(flex='2'), max=6667.0, style=Pro…"
      ]
     },
     "metadata": {},
     "output_type": "display_data"
    },
    {
     "name": "stdout",
     "output_type": "stream",
     "text": [
      "Epoch 81: train=0.755148, val=0.515853, took 602.8 s\n"
     ]
    },
    {
     "data": {
      "application/vnd.jupyter.widget-view+json": {
       "model_id": "",
       "version_major": 2,
       "version_minor": 0
      },
      "text/plain": [
       "HBox(children=(FloatProgress(value=0.0, description='Training', layout=Layout(flex='2'), max=6667.0, style=Pro…"
      ]
     },
     "metadata": {},
     "output_type": "display_data"
    },
    {
     "name": "stdout",
     "output_type": "stream",
     "text": [
      "Epoch 82: train=0.75339, val=0.52025, took 603.12 s\n"
     ]
    },
    {
     "data": {
      "application/vnd.jupyter.widget-view+json": {
       "model_id": "",
       "version_major": 2,
       "version_minor": 0
      },
      "text/plain": [
       "HBox(children=(FloatProgress(value=0.0, description='Training', layout=Layout(flex='2'), max=6667.0, style=Pro…"
      ]
     },
     "metadata": {},
     "output_type": "display_data"
    },
    {
     "name": "stdout",
     "output_type": "stream",
     "text": [
      "Epoch 83: train=0.754074, val=0.542949, took 602.03 s\n"
     ]
    },
    {
     "data": {
      "application/vnd.jupyter.widget-view+json": {
       "model_id": "",
       "version_major": 2,
       "version_minor": 0
      },
      "text/plain": [
       "HBox(children=(FloatProgress(value=0.0, description='Training', layout=Layout(flex='2'), max=6667.0, style=Pro…"
      ]
     },
     "metadata": {},
     "output_type": "display_data"
    },
    {
     "name": "stdout",
     "output_type": "stream",
     "text": [
      "Epoch 84: train=0.753928, val=0.515936, took 601.03 s\n"
     ]
    },
    {
     "data": {
      "application/vnd.jupyter.widget-view+json": {
       "model_id": "",
       "version_major": 2,
       "version_minor": 0
      },
      "text/plain": [
       "HBox(children=(FloatProgress(value=0.0, description='Training', layout=Layout(flex='2'), max=6667.0, style=Pro…"
      ]
     },
     "metadata": {},
     "output_type": "display_data"
    },
    {
     "name": "stdout",
     "output_type": "stream",
     "text": [
      "Epoch 85: train=0.752071, val=0.515862, took 602.18 s\n"
     ]
    },
    {
     "data": {
      "application/vnd.jupyter.widget-view+json": {
       "model_id": "",
       "version_major": 2,
       "version_minor": 0
      },
      "text/plain": [
       "HBox(children=(FloatProgress(value=0.0, description='Training', layout=Layout(flex='2'), max=6667.0, style=Pro…"
      ]
     },
     "metadata": {},
     "output_type": "display_data"
    },
    {
     "name": "stdout",
     "output_type": "stream",
     "text": [
      "Epoch 86: train=0.752675, val=0.510981, took 601.73 s\n"
     ]
    },
    {
     "data": {
      "application/vnd.jupyter.widget-view+json": {
       "model_id": "",
       "version_major": 2,
       "version_minor": 0
      },
      "text/plain": [
       "HBox(children=(FloatProgress(value=0.0, description='Training', layout=Layout(flex='2'), max=6667.0, style=Pro…"
      ]
     },
     "metadata": {},
     "output_type": "display_data"
    },
    {
     "name": "stdout",
     "output_type": "stream",
     "text": [
      "Epoch 87: train=0.753188, val=0.515984, took 1111.9 s\n"
     ]
    },
    {
     "data": {
      "application/vnd.jupyter.widget-view+json": {
       "model_id": "",
       "version_major": 2,
       "version_minor": 0
      },
      "text/plain": [
       "HBox(children=(FloatProgress(value=0.0, description='Training', layout=Layout(flex='2'), max=6667.0, style=Pro…"
      ]
     },
     "metadata": {},
     "output_type": "display_data"
    },
    {
     "name": "stdout",
     "output_type": "stream",
     "text": [
      "Epoch 88: train=0.750482, val=0.514164, took 1312.0 s\n"
     ]
    },
    {
     "data": {
      "application/vnd.jupyter.widget-view+json": {
       "model_id": "",
       "version_major": 2,
       "version_minor": 0
      },
      "text/plain": [
       "HBox(children=(FloatProgress(value=0.0, description='Training', layout=Layout(flex='2'), max=6667.0, style=Pro…"
      ]
     },
     "metadata": {},
     "output_type": "display_data"
    },
    {
     "name": "stdout",
     "output_type": "stream",
     "text": [
      "Epoch 89: train=0.750124, val=0.508001, took 1312.3 s\n"
     ]
    },
    {
     "data": {
      "application/vnd.jupyter.widget-view+json": {
       "model_id": "",
       "version_major": 2,
       "version_minor": 0
      },
      "text/plain": [
       "HBox(children=(FloatProgress(value=0.0, description='Training', layout=Layout(flex='2'), max=6667.0, style=Pro…"
      ]
     },
     "metadata": {},
     "output_type": "display_data"
    },
    {
     "name": "stdout",
     "output_type": "stream",
     "text": [
      "Epoch 90: train=0.749835, val=0.516823, took 1309.7 s\n"
     ]
    },
    {
     "data": {
      "application/vnd.jupyter.widget-view+json": {
       "model_id": "",
       "version_major": 2,
       "version_minor": 0
      },
      "text/plain": [
       "HBox(children=(FloatProgress(value=0.0, description='Training', layout=Layout(flex='2'), max=6667.0, style=Pro…"
      ]
     },
     "metadata": {},
     "output_type": "display_data"
    },
    {
     "name": "stdout",
     "output_type": "stream",
     "text": [
      "Epoch 91: train=0.749614, val=0.521519, took 1311.0 s\n"
     ]
    },
    {
     "data": {
      "application/vnd.jupyter.widget-view+json": {
       "model_id": "",
       "version_major": 2,
       "version_minor": 0
      },
      "text/plain": [
       "HBox(children=(FloatProgress(value=0.0, description='Training', layout=Layout(flex='2'), max=6667.0, style=Pro…"
      ]
     },
     "metadata": {},
     "output_type": "display_data"
    },
    {
     "name": "stdout",
     "output_type": "stream",
     "text": [
      "Epoch 92: train=0.749254, val=0.512604, took 1309.8 s\n"
     ]
    },
    {
     "data": {
      "application/vnd.jupyter.widget-view+json": {
       "model_id": "",
       "version_major": 2,
       "version_minor": 0
      },
      "text/plain": [
       "HBox(children=(FloatProgress(value=0.0, description='Training', layout=Layout(flex='2'), max=6667.0, style=Pro…"
      ]
     },
     "metadata": {},
     "output_type": "display_data"
    },
    {
     "name": "stdout",
     "output_type": "stream",
     "text": [
      "Epoch 93: train=0.750227, val=0.517309, took 1310.5 s\n"
     ]
    },
    {
     "data": {
      "application/vnd.jupyter.widget-view+json": {
       "model_id": "",
       "version_major": 2,
       "version_minor": 0
      },
      "text/plain": [
       "HBox(children=(FloatProgress(value=0.0, description='Training', layout=Layout(flex='2'), max=6667.0, style=Pro…"
      ]
     },
     "metadata": {},
     "output_type": "display_data"
    },
    {
     "name": "stdout",
     "output_type": "stream",
     "text": [
      "Epoch 94: train=0.748773, val=0.541077, took 1309.9 s\n"
     ]
    },
    {
     "data": {
      "application/vnd.jupyter.widget-view+json": {
       "model_id": "",
       "version_major": 2,
       "version_minor": 0
      },
      "text/plain": [
       "HBox(children=(FloatProgress(value=0.0, description='Training', layout=Layout(flex='2'), max=6667.0, style=Pro…"
      ]
     },
     "metadata": {},
     "output_type": "display_data"
    },
    {
     "name": "stdout",
     "output_type": "stream",
     "text": [
      "Epoch 95: train=0.745852, val=0.542121, took 1310.0 s\n"
     ]
    },
    {
     "data": {
      "application/vnd.jupyter.widget-view+json": {
       "model_id": "",
       "version_major": 2,
       "version_minor": 0
      },
      "text/plain": [
       "HBox(children=(FloatProgress(value=0.0, description='Training', layout=Layout(flex='2'), max=6667.0, style=Pro…"
      ]
     },
     "metadata": {},
     "output_type": "display_data"
    },
    {
     "name": "stdout",
     "output_type": "stream",
     "text": [
      "Epoch 96: train=0.749665, val=0.518558, took 1309.2 s\n"
     ]
    },
    {
     "data": {
      "application/vnd.jupyter.widget-view+json": {
       "model_id": "",
       "version_major": 2,
       "version_minor": 0
      },
      "text/plain": [
       "HBox(children=(FloatProgress(value=0.0, description='Training', layout=Layout(flex='2'), max=6667.0, style=Pro…"
      ]
     },
     "metadata": {},
     "output_type": "display_data"
    },
    {
     "name": "stdout",
     "output_type": "stream",
     "text": [
      "Epoch 97: train=0.7484, val=0.517192, took 1309.8 s\n"
     ]
    },
    {
     "data": {
      "application/vnd.jupyter.widget-view+json": {
       "model_id": "",
       "version_major": 2,
       "version_minor": 0
      },
      "text/plain": [
       "HBox(children=(FloatProgress(value=0.0, description='Training', layout=Layout(flex='2'), max=6667.0, style=Pro…"
      ]
     },
     "metadata": {},
     "output_type": "display_data"
    },
    {
     "name": "stdout",
     "output_type": "stream",
     "text": [
      "Epoch 98: train=0.745447, val=0.514138, took 1308.4 s\n"
     ]
    },
    {
     "data": {
      "application/vnd.jupyter.widget-view+json": {
       "model_id": "",
       "version_major": 2,
       "version_minor": 0
      },
      "text/plain": [
       "HBox(children=(FloatProgress(value=0.0, description='Training', layout=Layout(flex='2'), max=6667.0, style=Pro…"
      ]
     },
     "metadata": {},
     "output_type": "display_data"
    },
    {
     "name": "stdout",
     "output_type": "stream",
     "text": [
      "Epoch 99: train=0.745188, val=0.550391, took 1311.1 s\n",
      "\n"
     ]
    }
   ],
   "source": [
    "for result in trainNet(model, optimizer, loss,\n",
    "                        train_loader, val_loader,\n",
    "                        n_epochs, epoch_start=len(results),\n",
    "                        notebook=True):\n",
    "    \n",
    "    results = results.append(pd.Series(result._asdict()), ignore_index=True)\n",
    "    xs = results.index\n",
    "    \n",
    "    # Update the plot above\n",
    "    lines['train'].set_data(results.index,results.cost)\n",
    "    lines['val'].set_data(results.index,results.val)\n",
    "    \n",
    "    #filter first cost epoch (can be really large)\n",
    "    max_cost = max(max(results.cost if len(results.cost)<2 else results.cost[1:]), max(results.val))\n",
    "    min_cost = min(min(results.cost), min(results.val))\n",
    "    \n",
    "    # The plot limits need updating too\n",
    "    \n",
    "    \n",
    "    \n",
    "    ax.set_ylim(min_cost*.9, max_cost*1.1)  \n",
    "    ax.set_xlim(-.5, len(results.cost) - .5)\n",
    "\n",
    "    \n",
    "    # Redraw the figure\n",
    "    fig.canvas.draw()\n",
    "\n",
    "    # Save each model state dictionary\n",
    "    torch.save(model.state_dict(), output / f'{name}_{result.epoch}.pyt')"
   ]
  },
  {
   "cell_type": "markdown",
   "metadata": {},
   "source": [
    "Go ahead and save the final model (even though it was also saved above):"
   ]
  },
  {
   "cell_type": "code",
   "execution_count": 18,
   "metadata": {},
   "outputs": [],
   "source": [
    "torch.save(model.state_dict(), output / f'{name}_final.pyt')"
   ]
  },
  {
   "cell_type": "markdown",
   "metadata": {},
   "source": [
    "Save the output results:"
   ]
  },
  {
   "cell_type": "code",
   "execution_count": 19,
   "metadata": {},
   "outputs": [],
   "source": [
    "results.to_hdf(f'{name}_stats.hdf5', 'results')"
   ]
  },
  {
   "cell_type": "markdown",
   "metadata": {},
   "source": [
    "Save the plot above:"
   ]
  },
  {
   "cell_type": "code",
   "execution_count": 20,
   "metadata": {},
   "outputs": [
    {
     "data": {
      "application/javascript": [
       "/* Put everything inside the global mpl namespace */\n",
       "window.mpl = {};\n",
       "\n",
       "\n",
       "mpl.get_websocket_type = function() {\n",
       "    if (typeof(WebSocket) !== 'undefined') {\n",
       "        return WebSocket;\n",
       "    } else if (typeof(MozWebSocket) !== 'undefined') {\n",
       "        return MozWebSocket;\n",
       "    } else {\n",
       "        alert('Your browser does not have WebSocket support. ' +\n",
       "              'Please try Chrome, Safari or Firefox ≥ 6. ' +\n",
       "              'Firefox 4 and 5 are also supported but you ' +\n",
       "              'have to enable WebSockets in about:config.');\n",
       "    };\n",
       "}\n",
       "\n",
       "mpl.figure = function(figure_id, websocket, ondownload, parent_element) {\n",
       "    this.id = figure_id;\n",
       "\n",
       "    this.ws = websocket;\n",
       "\n",
       "    this.supports_binary = (this.ws.binaryType != undefined);\n",
       "\n",
       "    if (!this.supports_binary) {\n",
       "        var warnings = document.getElementById(\"mpl-warnings\");\n",
       "        if (warnings) {\n",
       "            warnings.style.display = 'block';\n",
       "            warnings.textContent = (\n",
       "                \"This browser does not support binary websocket messages. \" +\n",
       "                    \"Performance may be slow.\");\n",
       "        }\n",
       "    }\n",
       "\n",
       "    this.imageObj = new Image();\n",
       "\n",
       "    this.context = undefined;\n",
       "    this.message = undefined;\n",
       "    this.canvas = undefined;\n",
       "    this.rubberband_canvas = undefined;\n",
       "    this.rubberband_context = undefined;\n",
       "    this.format_dropdown = undefined;\n",
       "\n",
       "    this.image_mode = 'full';\n",
       "\n",
       "    this.root = $('<div/>');\n",
       "    this._root_extra_style(this.root)\n",
       "    this.root.attr('style', 'display: inline-block');\n",
       "\n",
       "    $(parent_element).append(this.root);\n",
       "\n",
       "    this._init_header(this);\n",
       "    this._init_canvas(this);\n",
       "    this._init_toolbar(this);\n",
       "\n",
       "    var fig = this;\n",
       "\n",
       "    this.waiting = false;\n",
       "\n",
       "    this.ws.onopen =  function () {\n",
       "            fig.send_message(\"supports_binary\", {value: fig.supports_binary});\n",
       "            fig.send_message(\"send_image_mode\", {});\n",
       "            if (mpl.ratio != 1) {\n",
       "                fig.send_message(\"set_dpi_ratio\", {'dpi_ratio': mpl.ratio});\n",
       "            }\n",
       "            fig.send_message(\"refresh\", {});\n",
       "        }\n",
       "\n",
       "    this.imageObj.onload = function() {\n",
       "            if (fig.image_mode == 'full') {\n",
       "                // Full images could contain transparency (where diff images\n",
       "                // almost always do), so we need to clear the canvas so that\n",
       "                // there is no ghosting.\n",
       "                fig.context.clearRect(0, 0, fig.canvas.width, fig.canvas.height);\n",
       "            }\n",
       "            fig.context.drawImage(fig.imageObj, 0, 0);\n",
       "        };\n",
       "\n",
       "    this.imageObj.onunload = function() {\n",
       "        fig.ws.close();\n",
       "    }\n",
       "\n",
       "    this.ws.onmessage = this._make_on_message_function(this);\n",
       "\n",
       "    this.ondownload = ondownload;\n",
       "}\n",
       "\n",
       "mpl.figure.prototype._init_header = function() {\n",
       "    var titlebar = $(\n",
       "        '<div class=\"ui-dialog-titlebar ui-widget-header ui-corner-all ' +\n",
       "        'ui-helper-clearfix\"/>');\n",
       "    var titletext = $(\n",
       "        '<div class=\"ui-dialog-title\" style=\"width: 100%; ' +\n",
       "        'text-align: center; padding: 3px;\"/>');\n",
       "    titlebar.append(titletext)\n",
       "    this.root.append(titlebar);\n",
       "    this.header = titletext[0];\n",
       "}\n",
       "\n",
       "\n",
       "\n",
       "mpl.figure.prototype._canvas_extra_style = function(canvas_div) {\n",
       "\n",
       "}\n",
       "\n",
       "\n",
       "mpl.figure.prototype._root_extra_style = function(canvas_div) {\n",
       "\n",
       "}\n",
       "\n",
       "mpl.figure.prototype._init_canvas = function() {\n",
       "    var fig = this;\n",
       "\n",
       "    var canvas_div = $('<div/>');\n",
       "\n",
       "    canvas_div.attr('style', 'position: relative; clear: both; outline: 0');\n",
       "\n",
       "    function canvas_keyboard_event(event) {\n",
       "        return fig.key_event(event, event['data']);\n",
       "    }\n",
       "\n",
       "    canvas_div.keydown('key_press', canvas_keyboard_event);\n",
       "    canvas_div.keyup('key_release', canvas_keyboard_event);\n",
       "    this.canvas_div = canvas_div\n",
       "    this._canvas_extra_style(canvas_div)\n",
       "    this.root.append(canvas_div);\n",
       "\n",
       "    var canvas = $('<canvas/>');\n",
       "    canvas.addClass('mpl-canvas');\n",
       "    canvas.attr('style', \"left: 0; top: 0; z-index: 0; outline: 0\")\n",
       "\n",
       "    this.canvas = canvas[0];\n",
       "    this.context = canvas[0].getContext(\"2d\");\n",
       "\n",
       "    var backingStore = this.context.backingStorePixelRatio ||\n",
       "\tthis.context.webkitBackingStorePixelRatio ||\n",
       "\tthis.context.mozBackingStorePixelRatio ||\n",
       "\tthis.context.msBackingStorePixelRatio ||\n",
       "\tthis.context.oBackingStorePixelRatio ||\n",
       "\tthis.context.backingStorePixelRatio || 1;\n",
       "\n",
       "    mpl.ratio = (window.devicePixelRatio || 1) / backingStore;\n",
       "\n",
       "    var rubberband = $('<canvas/>');\n",
       "    rubberband.attr('style', \"position: absolute; left: 0; top: 0; z-index: 1;\")\n",
       "\n",
       "    var pass_mouse_events = true;\n",
       "\n",
       "    canvas_div.resizable({\n",
       "        start: function(event, ui) {\n",
       "            pass_mouse_events = false;\n",
       "        },\n",
       "        resize: function(event, ui) {\n",
       "            fig.request_resize(ui.size.width, ui.size.height);\n",
       "        },\n",
       "        stop: function(event, ui) {\n",
       "            pass_mouse_events = true;\n",
       "            fig.request_resize(ui.size.width, ui.size.height);\n",
       "        },\n",
       "    });\n",
       "\n",
       "    function mouse_event_fn(event) {\n",
       "        if (pass_mouse_events)\n",
       "            return fig.mouse_event(event, event['data']);\n",
       "    }\n",
       "\n",
       "    rubberband.mousedown('button_press', mouse_event_fn);\n",
       "    rubberband.mouseup('button_release', mouse_event_fn);\n",
       "    // Throttle sequential mouse events to 1 every 20ms.\n",
       "    rubberband.mousemove('motion_notify', mouse_event_fn);\n",
       "\n",
       "    rubberband.mouseenter('figure_enter', mouse_event_fn);\n",
       "    rubberband.mouseleave('figure_leave', mouse_event_fn);\n",
       "\n",
       "    canvas_div.on(\"wheel\", function (event) {\n",
       "        event = event.originalEvent;\n",
       "        event['data'] = 'scroll'\n",
       "        if (event.deltaY < 0) {\n",
       "            event.step = 1;\n",
       "        } else {\n",
       "            event.step = -1;\n",
       "        }\n",
       "        mouse_event_fn(event);\n",
       "    });\n",
       "\n",
       "    canvas_div.append(canvas);\n",
       "    canvas_div.append(rubberband);\n",
       "\n",
       "    this.rubberband = rubberband;\n",
       "    this.rubberband_canvas = rubberband[0];\n",
       "    this.rubberband_context = rubberband[0].getContext(\"2d\");\n",
       "    this.rubberband_context.strokeStyle = \"#000000\";\n",
       "\n",
       "    this._resize_canvas = function(width, height) {\n",
       "        // Keep the size of the canvas, canvas container, and rubber band\n",
       "        // canvas in synch.\n",
       "        canvas_div.css('width', width)\n",
       "        canvas_div.css('height', height)\n",
       "\n",
       "        canvas.attr('width', width * mpl.ratio);\n",
       "        canvas.attr('height', height * mpl.ratio);\n",
       "        canvas.attr('style', 'width: ' + width + 'px; height: ' + height + 'px;');\n",
       "\n",
       "        rubberband.attr('width', width);\n",
       "        rubberband.attr('height', height);\n",
       "    }\n",
       "\n",
       "    // Set the figure to an initial 600x600px, this will subsequently be updated\n",
       "    // upon first draw.\n",
       "    this._resize_canvas(600, 600);\n",
       "\n",
       "    // Disable right mouse context menu.\n",
       "    $(this.rubberband_canvas).bind(\"contextmenu\",function(e){\n",
       "        return false;\n",
       "    });\n",
       "\n",
       "    function set_focus () {\n",
       "        canvas.focus();\n",
       "        canvas_div.focus();\n",
       "    }\n",
       "\n",
       "    window.setTimeout(set_focus, 100);\n",
       "}\n",
       "\n",
       "mpl.figure.prototype._init_toolbar = function() {\n",
       "    var fig = this;\n",
       "\n",
       "    var nav_element = $('<div/>');\n",
       "    nav_element.attr('style', 'width: 100%');\n",
       "    this.root.append(nav_element);\n",
       "\n",
       "    // Define a callback function for later on.\n",
       "    function toolbar_event(event) {\n",
       "        return fig.toolbar_button_onclick(event['data']);\n",
       "    }\n",
       "    function toolbar_mouse_event(event) {\n",
       "        return fig.toolbar_button_onmouseover(event['data']);\n",
       "    }\n",
       "\n",
       "    for(var toolbar_ind in mpl.toolbar_items) {\n",
       "        var name = mpl.toolbar_items[toolbar_ind][0];\n",
       "        var tooltip = mpl.toolbar_items[toolbar_ind][1];\n",
       "        var image = mpl.toolbar_items[toolbar_ind][2];\n",
       "        var method_name = mpl.toolbar_items[toolbar_ind][3];\n",
       "\n",
       "        if (!name) {\n",
       "            // put a spacer in here.\n",
       "            continue;\n",
       "        }\n",
       "        var button = $('<button/>');\n",
       "        button.addClass('ui-button ui-widget ui-state-default ui-corner-all ' +\n",
       "                        'ui-button-icon-only');\n",
       "        button.attr('role', 'button');\n",
       "        button.attr('aria-disabled', 'false');\n",
       "        button.click(method_name, toolbar_event);\n",
       "        button.mouseover(tooltip, toolbar_mouse_event);\n",
       "\n",
       "        var icon_img = $('<span/>');\n",
       "        icon_img.addClass('ui-button-icon-primary ui-icon');\n",
       "        icon_img.addClass(image);\n",
       "        icon_img.addClass('ui-corner-all');\n",
       "\n",
       "        var tooltip_span = $('<span/>');\n",
       "        tooltip_span.addClass('ui-button-text');\n",
       "        tooltip_span.html(tooltip);\n",
       "\n",
       "        button.append(icon_img);\n",
       "        button.append(tooltip_span);\n",
       "\n",
       "        nav_element.append(button);\n",
       "    }\n",
       "\n",
       "    var fmt_picker_span = $('<span/>');\n",
       "\n",
       "    var fmt_picker = $('<select/>');\n",
       "    fmt_picker.addClass('mpl-toolbar-option ui-widget ui-widget-content');\n",
       "    fmt_picker_span.append(fmt_picker);\n",
       "    nav_element.append(fmt_picker_span);\n",
       "    this.format_dropdown = fmt_picker[0];\n",
       "\n",
       "    for (var ind in mpl.extensions) {\n",
       "        var fmt = mpl.extensions[ind];\n",
       "        var option = $(\n",
       "            '<option/>', {selected: fmt === mpl.default_extension}).html(fmt);\n",
       "        fmt_picker.append(option);\n",
       "    }\n",
       "\n",
       "    // Add hover states to the ui-buttons\n",
       "    $( \".ui-button\" ).hover(\n",
       "        function() { $(this).addClass(\"ui-state-hover\");},\n",
       "        function() { $(this).removeClass(\"ui-state-hover\");}\n",
       "    );\n",
       "\n",
       "    var status_bar = $('<span class=\"mpl-message\"/>');\n",
       "    nav_element.append(status_bar);\n",
       "    this.message = status_bar[0];\n",
       "}\n",
       "\n",
       "mpl.figure.prototype.request_resize = function(x_pixels, y_pixels) {\n",
       "    // Request matplotlib to resize the figure. Matplotlib will then trigger a resize in the client,\n",
       "    // which will in turn request a refresh of the image.\n",
       "    this.send_message('resize', {'width': x_pixels, 'height': y_pixels});\n",
       "}\n",
       "\n",
       "mpl.figure.prototype.send_message = function(type, properties) {\n",
       "    properties['type'] = type;\n",
       "    properties['figure_id'] = this.id;\n",
       "    this.ws.send(JSON.stringify(properties));\n",
       "}\n",
       "\n",
       "mpl.figure.prototype.send_draw_message = function() {\n",
       "    if (!this.waiting) {\n",
       "        this.waiting = true;\n",
       "        this.ws.send(JSON.stringify({type: \"draw\", figure_id: this.id}));\n",
       "    }\n",
       "}\n",
       "\n",
       "\n",
       "mpl.figure.prototype.handle_save = function(fig, msg) {\n",
       "    var format_dropdown = fig.format_dropdown;\n",
       "    var format = format_dropdown.options[format_dropdown.selectedIndex].value;\n",
       "    fig.ondownload(fig, format);\n",
       "}\n",
       "\n",
       "\n",
       "mpl.figure.prototype.handle_resize = function(fig, msg) {\n",
       "    var size = msg['size'];\n",
       "    if (size[0] != fig.canvas.width || size[1] != fig.canvas.height) {\n",
       "        fig._resize_canvas(size[0], size[1]);\n",
       "        fig.send_message(\"refresh\", {});\n",
       "    };\n",
       "}\n",
       "\n",
       "mpl.figure.prototype.handle_rubberband = function(fig, msg) {\n",
       "    var x0 = msg['x0'] / mpl.ratio;\n",
       "    var y0 = (fig.canvas.height - msg['y0']) / mpl.ratio;\n",
       "    var x1 = msg['x1'] / mpl.ratio;\n",
       "    var y1 = (fig.canvas.height - msg['y1']) / mpl.ratio;\n",
       "    x0 = Math.floor(x0) + 0.5;\n",
       "    y0 = Math.floor(y0) + 0.5;\n",
       "    x1 = Math.floor(x1) + 0.5;\n",
       "    y1 = Math.floor(y1) + 0.5;\n",
       "    var min_x = Math.min(x0, x1);\n",
       "    var min_y = Math.min(y0, y1);\n",
       "    var width = Math.abs(x1 - x0);\n",
       "    var height = Math.abs(y1 - y0);\n",
       "\n",
       "    fig.rubberband_context.clearRect(\n",
       "        0, 0, fig.canvas.width / mpl.ratio, fig.canvas.height / mpl.ratio);\n",
       "\n",
       "    fig.rubberband_context.strokeRect(min_x, min_y, width, height);\n",
       "}\n",
       "\n",
       "mpl.figure.prototype.handle_figure_label = function(fig, msg) {\n",
       "    // Updates the figure title.\n",
       "    fig.header.textContent = msg['label'];\n",
       "}\n",
       "\n",
       "mpl.figure.prototype.handle_cursor = function(fig, msg) {\n",
       "    var cursor = msg['cursor'];\n",
       "    switch(cursor)\n",
       "    {\n",
       "    case 0:\n",
       "        cursor = 'pointer';\n",
       "        break;\n",
       "    case 1:\n",
       "        cursor = 'default';\n",
       "        break;\n",
       "    case 2:\n",
       "        cursor = 'crosshair';\n",
       "        break;\n",
       "    case 3:\n",
       "        cursor = 'move';\n",
       "        break;\n",
       "    }\n",
       "    fig.rubberband_canvas.style.cursor = cursor;\n",
       "}\n",
       "\n",
       "mpl.figure.prototype.handle_message = function(fig, msg) {\n",
       "    fig.message.textContent = msg['message'];\n",
       "}\n",
       "\n",
       "mpl.figure.prototype.handle_draw = function(fig, msg) {\n",
       "    // Request the server to send over a new figure.\n",
       "    fig.send_draw_message();\n",
       "}\n",
       "\n",
       "mpl.figure.prototype.handle_image_mode = function(fig, msg) {\n",
       "    fig.image_mode = msg['mode'];\n",
       "}\n",
       "\n",
       "mpl.figure.prototype.updated_canvas_event = function() {\n",
       "    // Called whenever the canvas gets updated.\n",
       "    this.send_message(\"ack\", {});\n",
       "}\n",
       "\n",
       "// A function to construct a web socket function for onmessage handling.\n",
       "// Called in the figure constructor.\n",
       "mpl.figure.prototype._make_on_message_function = function(fig) {\n",
       "    return function socket_on_message(evt) {\n",
       "        if (evt.data instanceof Blob) {\n",
       "            /* FIXME: We get \"Resource interpreted as Image but\n",
       "             * transferred with MIME type text/plain:\" errors on\n",
       "             * Chrome.  But how to set the MIME type?  It doesn't seem\n",
       "             * to be part of the websocket stream */\n",
       "            evt.data.type = \"image/png\";\n",
       "\n",
       "            /* Free the memory for the previous frames */\n",
       "            if (fig.imageObj.src) {\n",
       "                (window.URL || window.webkitURL).revokeObjectURL(\n",
       "                    fig.imageObj.src);\n",
       "            }\n",
       "\n",
       "            fig.imageObj.src = (window.URL || window.webkitURL).createObjectURL(\n",
       "                evt.data);\n",
       "            fig.updated_canvas_event();\n",
       "            fig.waiting = false;\n",
       "            return;\n",
       "        }\n",
       "        else if (typeof evt.data === 'string' && evt.data.slice(0, 21) == \"data:image/png;base64\") {\n",
       "            fig.imageObj.src = evt.data;\n",
       "            fig.updated_canvas_event();\n",
       "            fig.waiting = false;\n",
       "            return;\n",
       "        }\n",
       "\n",
       "        var msg = JSON.parse(evt.data);\n",
       "        var msg_type = msg['type'];\n",
       "\n",
       "        // Call the  \"handle_{type}\" callback, which takes\n",
       "        // the figure and JSON message as its only arguments.\n",
       "        try {\n",
       "            var callback = fig[\"handle_\" + msg_type];\n",
       "        } catch (e) {\n",
       "            console.log(\"No handler for the '\" + msg_type + \"' message type: \", msg);\n",
       "            return;\n",
       "        }\n",
       "\n",
       "        if (callback) {\n",
       "            try {\n",
       "                // console.log(\"Handling '\" + msg_type + \"' message: \", msg);\n",
       "                callback(fig, msg);\n",
       "            } catch (e) {\n",
       "                console.log(\"Exception inside the 'handler_\" + msg_type + \"' callback:\", e, e.stack, msg);\n",
       "            }\n",
       "        }\n",
       "    };\n",
       "}\n",
       "\n",
       "// from http://stackoverflow.com/questions/1114465/getting-mouse-location-in-canvas\n",
       "mpl.findpos = function(e) {\n",
       "    //this section is from http://www.quirksmode.org/js/events_properties.html\n",
       "    var targ;\n",
       "    if (!e)\n",
       "        e = window.event;\n",
       "    if (e.target)\n",
       "        targ = e.target;\n",
       "    else if (e.srcElement)\n",
       "        targ = e.srcElement;\n",
       "    if (targ.nodeType == 3) // defeat Safari bug\n",
       "        targ = targ.parentNode;\n",
       "\n",
       "    // jQuery normalizes the pageX and pageY\n",
       "    // pageX,Y are the mouse positions relative to the document\n",
       "    // offset() returns the position of the element relative to the document\n",
       "    var x = e.pageX - $(targ).offset().left;\n",
       "    var y = e.pageY - $(targ).offset().top;\n",
       "\n",
       "    return {\"x\": x, \"y\": y};\n",
       "};\n",
       "\n",
       "/*\n",
       " * return a copy of an object with only non-object keys\n",
       " * we need this to avoid circular references\n",
       " * http://stackoverflow.com/a/24161582/3208463\n",
       " */\n",
       "function simpleKeys (original) {\n",
       "  return Object.keys(original).reduce(function (obj, key) {\n",
       "    if (typeof original[key] !== 'object')\n",
       "        obj[key] = original[key]\n",
       "    return obj;\n",
       "  }, {});\n",
       "}\n",
       "\n",
       "mpl.figure.prototype.mouse_event = function(event, name) {\n",
       "    var canvas_pos = mpl.findpos(event)\n",
       "\n",
       "    if (name === 'button_press')\n",
       "    {\n",
       "        this.canvas.focus();\n",
       "        this.canvas_div.focus();\n",
       "    }\n",
       "\n",
       "    var x = canvas_pos.x * mpl.ratio;\n",
       "    var y = canvas_pos.y * mpl.ratio;\n",
       "\n",
       "    this.send_message(name, {x: x, y: y, button: event.button,\n",
       "                             step: event.step,\n",
       "                             guiEvent: simpleKeys(event)});\n",
       "\n",
       "    /* This prevents the web browser from automatically changing to\n",
       "     * the text insertion cursor when the button is pressed.  We want\n",
       "     * to control all of the cursor setting manually through the\n",
       "     * 'cursor' event from matplotlib */\n",
       "    event.preventDefault();\n",
       "    return false;\n",
       "}\n",
       "\n",
       "mpl.figure.prototype._key_event_extra = function(event, name) {\n",
       "    // Handle any extra behaviour associated with a key event\n",
       "}\n",
       "\n",
       "mpl.figure.prototype.key_event = function(event, name) {\n",
       "\n",
       "    // Prevent repeat events\n",
       "    if (name == 'key_press')\n",
       "    {\n",
       "        if (event.which === this._key)\n",
       "            return;\n",
       "        else\n",
       "            this._key = event.which;\n",
       "    }\n",
       "    if (name == 'key_release')\n",
       "        this._key = null;\n",
       "\n",
       "    var value = '';\n",
       "    if (event.ctrlKey && event.which != 17)\n",
       "        value += \"ctrl+\";\n",
       "    if (event.altKey && event.which != 18)\n",
       "        value += \"alt+\";\n",
       "    if (event.shiftKey && event.which != 16)\n",
       "        value += \"shift+\";\n",
       "\n",
       "    value += 'k';\n",
       "    value += event.which.toString();\n",
       "\n",
       "    this._key_event_extra(event, name);\n",
       "\n",
       "    this.send_message(name, {key: value,\n",
       "                             guiEvent: simpleKeys(event)});\n",
       "    return false;\n",
       "}\n",
       "\n",
       "mpl.figure.prototype.toolbar_button_onclick = function(name) {\n",
       "    if (name == 'download') {\n",
       "        this.handle_save(this, null);\n",
       "    } else {\n",
       "        this.send_message(\"toolbar_button\", {name: name});\n",
       "    }\n",
       "};\n",
       "\n",
       "mpl.figure.prototype.toolbar_button_onmouseover = function(tooltip) {\n",
       "    this.message.textContent = tooltip;\n",
       "};\n",
       "mpl.toolbar_items = [[\"Home\", \"Reset original view\", \"fa fa-home icon-home\", \"home\"], [\"Back\", \"Back to previous view\", \"fa fa-arrow-left icon-arrow-left\", \"back\"], [\"Forward\", \"Forward to next view\", \"fa fa-arrow-right icon-arrow-right\", \"forward\"], [\"\", \"\", \"\", \"\"], [\"Pan\", \"Pan axes with left mouse, zoom with right\", \"fa fa-arrows icon-move\", \"pan\"], [\"Zoom\", \"Zoom to rectangle\", \"fa fa-square-o icon-check-empty\", \"zoom\"], [\"\", \"\", \"\", \"\"], [\"Download\", \"Download plot\", \"fa fa-floppy-o icon-save\", \"download\"]];\n",
       "\n",
       "mpl.extensions = [\"eps\", \"jpeg\", \"pdf\", \"png\", \"ps\", \"raw\", \"svg\", \"tif\"];\n",
       "\n",
       "mpl.default_extension = \"png\";var comm_websocket_adapter = function(comm) {\n",
       "    // Create a \"websocket\"-like object which calls the given IPython comm\n",
       "    // object with the appropriate methods. Currently this is a non binary\n",
       "    // socket, so there is still some room for performance tuning.\n",
       "    var ws = {};\n",
       "\n",
       "    ws.close = function() {\n",
       "        comm.close()\n",
       "    };\n",
       "    ws.send = function(m) {\n",
       "        //console.log('sending', m);\n",
       "        comm.send(m);\n",
       "    };\n",
       "    // Register the callback with on_msg.\n",
       "    comm.on_msg(function(msg) {\n",
       "        //console.log('receiving', msg['content']['data'], msg);\n",
       "        // Pass the mpl event to the overridden (by mpl) onmessage function.\n",
       "        ws.onmessage(msg['content']['data'])\n",
       "    });\n",
       "    return ws;\n",
       "}\n",
       "\n",
       "mpl.mpl_figure_comm = function(comm, msg) {\n",
       "    // This is the function which gets called when the mpl process\n",
       "    // starts-up an IPython Comm through the \"matplotlib\" channel.\n",
       "\n",
       "    var id = msg.content.data.id;\n",
       "    // Get hold of the div created by the display call when the Comm\n",
       "    // socket was opened in Python.\n",
       "    var element = $(\"#\" + id);\n",
       "    var ws_proxy = comm_websocket_adapter(comm)\n",
       "\n",
       "    function ondownload(figure, format) {\n",
       "        window.open(figure.imageObj.src);\n",
       "    }\n",
       "\n",
       "    var fig = new mpl.figure(id, ws_proxy,\n",
       "                           ondownload,\n",
       "                           element.get(0));\n",
       "\n",
       "    // Call onopen now - mpl needs it, as it is assuming we've passed it a real\n",
       "    // web socket which is closed, not our websocket->open comm proxy.\n",
       "    ws_proxy.onopen();\n",
       "\n",
       "    fig.parent_element = element.get(0);\n",
       "    fig.cell_info = mpl.find_output_cell(\"<div id='\" + id + \"'></div>\");\n",
       "    if (!fig.cell_info) {\n",
       "        console.error(\"Failed to find cell for figure\", id, fig);\n",
       "        return;\n",
       "    }\n",
       "\n",
       "    var output_index = fig.cell_info[2]\n",
       "    var cell = fig.cell_info[0];\n",
       "\n",
       "};\n",
       "\n",
       "mpl.figure.prototype.handle_close = function(fig, msg) {\n",
       "    var width = fig.canvas.width/mpl.ratio\n",
       "    fig.root.unbind('remove')\n",
       "\n",
       "    // Update the output cell to use the data from the current canvas.\n",
       "    fig.push_to_output();\n",
       "    var dataURL = fig.canvas.toDataURL();\n",
       "    // Re-enable the keyboard manager in IPython - without this line, in FF,\n",
       "    // the notebook keyboard shortcuts fail.\n",
       "    IPython.keyboard_manager.enable()\n",
       "    $(fig.parent_element).html('<img src=\"' + dataURL + '\" width=\"' + width + '\">');\n",
       "    fig.close_ws(fig, msg);\n",
       "}\n",
       "\n",
       "mpl.figure.prototype.close_ws = function(fig, msg){\n",
       "    fig.send_message('closing', msg);\n",
       "    // fig.ws.close()\n",
       "}\n",
       "\n",
       "mpl.figure.prototype.push_to_output = function(remove_interactive) {\n",
       "    // Turn the data on the canvas into data in the output cell.\n",
       "    var width = this.canvas.width/mpl.ratio\n",
       "    var dataURL = this.canvas.toDataURL();\n",
       "    this.cell_info[1]['text/html'] = '<img src=\"' + dataURL + '\" width=\"' + width + '\">';\n",
       "}\n",
       "\n",
       "mpl.figure.prototype.updated_canvas_event = function() {\n",
       "    // Tell IPython that the notebook contents must change.\n",
       "    IPython.notebook.set_dirty(true);\n",
       "    this.send_message(\"ack\", {});\n",
       "    var fig = this;\n",
       "    // Wait a second, then push the new image to the DOM so\n",
       "    // that it is saved nicely (might be nice to debounce this).\n",
       "    setTimeout(function () { fig.push_to_output() }, 1000);\n",
       "}\n",
       "\n",
       "mpl.figure.prototype._init_toolbar = function() {\n",
       "    var fig = this;\n",
       "\n",
       "    var nav_element = $('<div/>');\n",
       "    nav_element.attr('style', 'width: 100%');\n",
       "    this.root.append(nav_element);\n",
       "\n",
       "    // Define a callback function for later on.\n",
       "    function toolbar_event(event) {\n",
       "        return fig.toolbar_button_onclick(event['data']);\n",
       "    }\n",
       "    function toolbar_mouse_event(event) {\n",
       "        return fig.toolbar_button_onmouseover(event['data']);\n",
       "    }\n",
       "\n",
       "    for(var toolbar_ind in mpl.toolbar_items){\n",
       "        var name = mpl.toolbar_items[toolbar_ind][0];\n",
       "        var tooltip = mpl.toolbar_items[toolbar_ind][1];\n",
       "        var image = mpl.toolbar_items[toolbar_ind][2];\n",
       "        var method_name = mpl.toolbar_items[toolbar_ind][3];\n",
       "\n",
       "        if (!name) { continue; };\n",
       "\n",
       "        var button = $('<button class=\"btn btn-default\" href=\"#\" title=\"' + name + '\"><i class=\"fa ' + image + ' fa-lg\"></i></button>');\n",
       "        button.click(method_name, toolbar_event);\n",
       "        button.mouseover(tooltip, toolbar_mouse_event);\n",
       "        nav_element.append(button);\n",
       "    }\n",
       "\n",
       "    // Add the status bar.\n",
       "    var status_bar = $('<span class=\"mpl-message\" style=\"text-align:right; float: right;\"/>');\n",
       "    nav_element.append(status_bar);\n",
       "    this.message = status_bar[0];\n",
       "\n",
       "    // Add the close button to the window.\n",
       "    var buttongrp = $('<div class=\"btn-group inline pull-right\"></div>');\n",
       "    var button = $('<button class=\"btn btn-mini btn-primary\" href=\"#\" title=\"Stop Interaction\"><i class=\"fa fa-power-off icon-remove icon-large\"></i></button>');\n",
       "    button.click(function (evt) { fig.handle_close(fig, {}); } );\n",
       "    button.mouseover('Stop Interaction', toolbar_mouse_event);\n",
       "    buttongrp.append(button);\n",
       "    var titlebar = this.root.find($('.ui-dialog-titlebar'));\n",
       "    titlebar.prepend(buttongrp);\n",
       "}\n",
       "\n",
       "mpl.figure.prototype._root_extra_style = function(el){\n",
       "    var fig = this\n",
       "    el.on(\"remove\", function(){\n",
       "\tfig.close_ws(fig, {});\n",
       "    });\n",
       "}\n",
       "\n",
       "mpl.figure.prototype._canvas_extra_style = function(el){\n",
       "    // this is important to make the div 'focusable\n",
       "    el.attr('tabindex', 0)\n",
       "    // reach out to IPython and tell the keyboard manager to turn it's self\n",
       "    // off when our div gets focus\n",
       "\n",
       "    // location in version 3\n",
       "    if (IPython.notebook.keyboard_manager) {\n",
       "        IPython.notebook.keyboard_manager.register_events(el);\n",
       "    }\n",
       "    else {\n",
       "        // location in version 2\n",
       "        IPython.keyboard_manager.register_events(el);\n",
       "    }\n",
       "\n",
       "}\n",
       "\n",
       "mpl.figure.prototype._key_event_extra = function(event, name) {\n",
       "    var manager = IPython.notebook.keyboard_manager;\n",
       "    if (!manager)\n",
       "        manager = IPython.keyboard_manager;\n",
       "\n",
       "    // Check for shift+enter\n",
       "    if (event.shiftKey && event.which == 13) {\n",
       "        this.canvas_div.blur();\n",
       "        // select the cell after this one\n",
       "        var index = IPython.notebook.find_cell_index(this.cell_info[0]);\n",
       "        IPython.notebook.select(index + 1);\n",
       "    }\n",
       "}\n",
       "\n",
       "mpl.figure.prototype.handle_save = function(fig, msg) {\n",
       "    fig.ondownload(fig, null);\n",
       "}\n",
       "\n",
       "\n",
       "mpl.find_output_cell = function(html_output) {\n",
       "    // Return the cell and output element which can be found *uniquely* in the notebook.\n",
       "    // Note - this is a bit hacky, but it is done because the \"notebook_saving.Notebook\"\n",
       "    // IPython event is triggered only after the cells have been serialised, which for\n",
       "    // our purposes (turning an active figure into a static one), is too late.\n",
       "    var cells = IPython.notebook.get_cells();\n",
       "    var ncells = cells.length;\n",
       "    for (var i=0; i<ncells; i++) {\n",
       "        var cell = cells[i];\n",
       "        if (cell.cell_type === 'code'){\n",
       "            for (var j=0; j<cell.output_area.outputs.length; j++) {\n",
       "                var data = cell.output_area.outputs[j];\n",
       "                if (data.data) {\n",
       "                    // IPython >= 3 moved mimebundle to data attribute of output\n",
       "                    data = data.data;\n",
       "                }\n",
       "                if (data['text/html'] == html_output) {\n",
       "                    return [cell, data, j];\n",
       "                }\n",
       "            }\n",
       "        }\n",
       "    }\n",
       "}\n",
       "\n",
       "// Register the function which deals with the matplotlib target/channel.\n",
       "// The kernel may be null if the page has been refreshed.\n",
       "if (IPython.notebook.kernel != null) {\n",
       "    IPython.notebook.kernel.comm_manager.register_target('matplotlib', mpl.mpl_figure_comm);\n",
       "}\n"
      ],
      "text/plain": [
       "<IPython.core.display.Javascript object>"
      ]
     },
     "metadata": {},
     "output_type": "display_data"
    },
    {
     "data": {
      "text/html": [
       "<img src=\"data:image/png;base64,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\" width=\"999.75\">"
      ],
      "text/plain": [
       "<IPython.core.display.HTML object>"
      ]
     },
     "metadata": {},
     "output_type": "display_data"
    }
   ],
   "source": [
    "dual_train_plots(results.index,\n",
    "                 results.cost, results.val,\n",
    "                 results.cost, results.val)\n",
    "plt.tight_layout()\n",
    "plt.savefig(str(output / f'{name}_stats_a.png'))"
   ]
  },
  {
   "cell_type": "code",
   "execution_count": 1,
   "metadata": {},
   "outputs": [],
   "source": [
    "##quit()"
   ]
  },
  {
   "cell_type": "code",
   "execution_count": null,
   "metadata": {},
   "outputs": [],
   "source": []
  },
  {
   "cell_type": "code",
   "execution_count": null,
   "metadata": {},
   "outputs": [],
   "source": []
  }
 ],
 "metadata": {
  "kernelspec": {
   "display_name": "goofit-june2020",
   "language": "python",
   "name": "goofit-june2020"
  },
  "language_info": {
   "codemirror_mode": {
    "name": "ipython",
    "version": 3
   },
   "file_extension": ".py",
   "mimetype": "text/x-python",
   "name": "python",
   "nbconvert_exporter": "python",
   "pygments_lexer": "ipython3",
   "version": "3.7.6"
  }
 },
 "nbformat": 4,
 "nbformat_minor": 2
}
