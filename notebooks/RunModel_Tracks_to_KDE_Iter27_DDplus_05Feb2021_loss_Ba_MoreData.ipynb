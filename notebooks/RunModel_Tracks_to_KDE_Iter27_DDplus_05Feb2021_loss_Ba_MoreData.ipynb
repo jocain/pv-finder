{
 "cells": [
  {
   "cell_type": "code",
   "execution_count": 1,
   "metadata": {},
   "outputs": [],
   "source": [
    "##%matplotlib widget\n",
    "## with %matplotlib notebook: seems to require ipympl as part of environment, either\n",
    "## part of the conda environment or \"pip install ipympl\"\n",
    "## otherwise, does not show ANY plots in note\"book, plt.savefig() works\n",
    "%matplotlib notebook  \n",
    "##%matplotlib inline    ## --plt.savefig()  works, but re-sizing does NOT\n"
   ]
  },
  {
   "cell_type": "markdown",
   "metadata": {},
   "source": [
    "This notebook is the second attempt to read in track information and use it to predict the KDE used as input to PvFinder. This time, we are reading in poca KDEs rather than the original KDEs. \n",
    "\n",
    "collectdata_kde_C.py uses poca_z, poca_x, poca_y, major_axis_x, major_axis_y, and major_axis_z as the six track parameters (for the moment)\n"
   ]
  },
  {
   "cell_type": "markdown",
   "metadata": {},
   "source": [
    "Check the current GPU usage. Please try to be nice!"
   ]
  },
  {
   "cell_type": "code",
   "execution_count": 2,
   "metadata": {},
   "outputs": [
    {
     "name": "stdout",
     "output_type": "stream",
     "text": [
      "Fri Feb  5 06:09:18 2021       \r\n",
      "+-----------------------------------------------------------------------------+\r\n",
      "| NVIDIA-SMI 440.64.00    Driver Version: 440.64.00    CUDA Version: 10.2     |\r\n",
      "|-------------------------------+----------------------+----------------------+\r\n",
      "| GPU  Name        Persistence-M| Bus-Id        Disp.A | Volatile Uncorr. ECC |\r\n",
      "| Fan  Temp  Perf  Pwr:Usage/Cap|         Memory-Usage | GPU-Util  Compute M. |\r\n",
      "|===============================+======================+======================|\r\n",
      "|   0  TITAN V             Off  | 00000000:03:00.0 Off |                  N/A |\r\n",
      "| 28%   31C    P8    23W / 250W |   1045MiB / 12066MiB |      0%      Default |\r\n",
      "+-------------------------------+----------------------+----------------------+\r\n",
      "|   1  Tesla P100-PCIE...  Off  | 00000000:83:00.0 Off |                    0 |\r\n",
      "| N/A   31C    P0    26W / 250W |     10MiB / 16280MiB |      0%      Default |\r\n",
      "+-------------------------------+----------------------+----------------------+\r\n",
      "|   2  TITAN V             Off  | 00000000:84:00.0 Off |                  N/A |\r\n",
      "| 28%   35C    P2    26W / 250W |     12MiB / 12066MiB |      0%      Default |\r\n",
      "+-------------------------------+----------------------+----------------------+\r\n",
      "                                                                               \r\n",
      "+-----------------------------------------------------------------------------+\r\n",
      "| Processes:                                                       GPU Memory |\r\n",
      "|  GPU       PID   Type   Process name                             Usage      |\r\n",
      "|=============================================================================|\r\n",
      "|    0     47872      C   ...a/conda/envs/goofit-june2020/bin/python  1033MiB |\r\n",
      "+-----------------------------------------------------------------------------+\r\n"
     ]
    }
   ],
   "source": [
    "!nvidia-smi"
   ]
  },
  {
   "cell_type": "markdown",
   "metadata": {},
   "source": [
    "> **WARNING**: The card numbers here are *not* the same as in CUDA. You have been warned."
   ]
  },
  {
   "cell_type": "markdown",
   "metadata": {},
   "source": [
    "This notebook is first attempt to read in track information and use it to predict the KDE used as input to PvFinder.\n"
   ]
  },
  {
   "cell_type": "markdown",
   "metadata": {},
   "source": [
    "## Imports"
   ]
  },
  {
   "cell_type": "code",
   "execution_count": 3,
   "metadata": {},
   "outputs": [],
   "source": [
    "import matplotlib.pyplot as plt\n",
    "import numpy as np\n",
    "import time\n",
    "import torch\n",
    "import pandas as pd\n",
    "\n",
    "# Python 3 standard library\n",
    "from pathlib import Path\n",
    "\n",
    "##from torchsummary import summary"
   ]
  },
  {
   "cell_type": "markdown",
   "metadata": {},
   "source": [
    "### Set up local parameters"
   ]
  },
  {
   "cell_type": "code",
   "execution_count": 4,
   "metadata": {},
   "outputs": [],
   "source": [
    "n_epochs = 100\n",
    "\n",
    "folder = '05Feb_DDplus_loss_Ba_iter27_floatAll_100epochs_1p5em5_4xwill'\n",
    "name   = folder\n",
    "\n",
    "# Make an output folder named \"name\" (change if you want)\n",
    "\n",
    "## Special instructions for those working on goofy at UC\n",
    "## Please be very careful to make sure that your folder\n",
    "## does not live in a subdirectory of your home directory\n",
    "## this disk has very little capacity. Instead, use \n",
    "## a subdirectory in /share/lazy with a symbolic link to\n",
    "## it in this (the notebooks) subdirectory\n",
    "folder = 'ML_dir/' + folder\n",
    "output = Path(folder)\n",
    "\n",
    "\n",
    "# Size of batches\n",
    "batch_size = 64 ## batch_size = 24 ---> 4763MiB / 12066MiB on Titan V\n",
    "# How fast to learn\n",
    "learning_rate = 1.5e-5"
   ]
  },
  {
   "cell_type": "markdown",
   "metadata": {},
   "source": [
    "Make the output directory if it does not exist:"
   ]
  },
  {
   "cell_type": "code",
   "execution_count": 5,
   "metadata": {},
   "outputs": [],
   "source": [
    "output.mkdir(exist_ok=True)"
   ]
  },
  {
   "cell_type": "markdown",
   "metadata": {},
   "source": [
    "## Get the helper functions\n",
    "\n",
    "Add the directory with the model\n",
    "definitions to the path so we can import from it:\n",
    "\n",
    "> When you type `import X`,\n",
    "Python searches `sys.path` for a python\n",
    "file named `X.py` to import. So we need to add the model directory to the path."
   ]
  },
  {
   "cell_type": "code",
   "execution_count": 6,
   "metadata": {
    "scrolled": true
   },
   "outputs": [],
   "source": [
    "from model.collectdata_kde_Ellipsoids import collect_t2kde_data\n",
    "\n",
    "##  It takes 9 input features (poca centers + (A,B,C,D,E,F)) . \n",
    "from model.models_kde import TracksToKDE_Ellipsoids_DDplus as Model\n",
    "\n",
    "# kde_loss_Ba is a Chi2 loss (go and look at it!)\n",
    "from model.kde_loss_Ba import Loss\n",
    "\n",
    "from model.training_kde import trainNet, select_gpu, Results\n",
    "from model.plots import dual_train_plots, dual_train_plots_tracks_to_KDE, replace_in_ax"
   ]
  },
  {
   "cell_type": "code",
   "execution_count": 7,
   "metadata": {},
   "outputs": [],
   "source": [
    "# This gets built up during the run - do not rerun this cell\n",
    "results = pd.DataFrame([], columns=Results._fields)"
   ]
  },
  {
   "cell_type": "markdown",
   "metadata": {},
   "source": [
    "Set up Torch device configuration. All tensors and model parameters need to know where to be put.\n",
    "This takes a BUS ID number: The BUS ID is the same as the listing at the top of this script."
   ]
  },
  {
   "cell_type": "code",
   "execution_count": 8,
   "metadata": {},
   "outputs": [
    {
     "name": "stdout",
     "output_type": "stream",
     "text": [
      "1 available GPUs (initially using device 0):\n",
      "  0 TITAN V\n"
     ]
    }
   ],
   "source": [
    "# either 0 or 2 on goofy (i.e. TITAN V) [1 or 2 on sleepy RTX 2080TI]\n",
    "device = select_gpu(2)\n",
    "##device = \"cpu\""
   ]
  },
  {
   "cell_type": "markdown",
   "metadata": {},
   "source": [
    "## Loading data\n",
    "\n",
    "Load the dataset, split into parts, then move to device (see `collectdata.py` in the `../model` directory)"
   ]
  },
  {
   "cell_type": "markdown",
   "metadata": {},
   "source": [
    "# Preparing the model"
   ]
  },
  {
   "cell_type": "markdown",
   "metadata": {},
   "source": [
    "Prepare a model, use multiple GPUs if they are VISIBLE, and move the model to the device."
   ]
  },
  {
   "cell_type": "code",
   "execution_count": 9,
   "metadata": {
    "scrolled": true
   },
   "outputs": [],
   "source": [
    "##print(\"Let's use\", torch.cuda.device_count(), \"GPUs!\")\n",
    "##if torch.cuda.device_count() > 1:\n",
    "##    model = torch.nn.DataParallel(model)"
   ]
  },
  {
   "cell_type": "code",
   "execution_count": 10,
   "metadata": {},
   "outputs": [
    {
     "name": "stdout",
     "output_type": "stream",
     "text": [
      "ct, child =  0    Linear(in_features=9, out_features=50, bias=True)\n",
      "ct, child =  1    Linear(in_features=50, out_features=50, bias=True)\n",
      "ct, child =  2    Linear(in_features=50, out_features=50, bias=True)\n",
      "ct, child =  3    Linear(in_features=50, out_features=50, bias=True)\n",
      "ct, child =  4    Linear(in_features=50, out_features=50, bias=True)\n",
      "ct, child =  5    Linear(in_features=50, out_features=50, bias=True)\n",
      "ct, child =  6    Linear(in_features=50, out_features=50, bias=True)\n",
      "ct, child =  7    Linear(in_features=50, out_features=50, bias=True)\n",
      "ct, child =  8    Linear(in_features=50, out_features=50, bias=True)\n",
      "ct, child =  9    Linear(in_features=50, out_features=50, bias=True)\n",
      "ct, child =  10    Linear(in_features=50, out_features=50, bias=True)\n",
      "ct, child =  11    Linear(in_features=50, out_features=16000, bias=True)\n",
      "ct, child =  12    Conv1d(4, 25, kernel_size=(25,), stride=(1,), padding=(12,))\n",
      "ct, child =  13    Conv1d(25, 1, kernel_size=(5,), stride=(1,), padding=(2,))\n",
      "ct, child =  14    Linear(in_features=4000, out_features=4000, bias=True)\n",
      "ct, child =  15    Conv1d(25, 1, kernel_size=(15,), stride=(1,), padding=(7,))\n",
      "ct, child =  16    Dropout(p=0.15, inplace=False)\n",
      "ct, child =  17    Dropout(p=0.15, inplace=False)\n"
     ]
    }
   ],
   "source": [
    "## a comment on the web at https://pytorch.org/docs/stable/optim.html says\n",
    "\"\"\"\n",
    "If you need to move a model to GPU via .cuda(), please do so before constructing optimizers for it. \n",
    "Parameters of a model after .cuda() will be different objects with those before the call.\n",
    "\n",
    "In general, you should make sure that optimized parameters live in consistent locations when \n",
    "optimizers are constructed and used.\n",
    "\"\"\"\n",
    "## so move this here (although we are using model.to(device) not explicitly using .cuda()\n",
    "\n",
    "nOut1 = 50\n",
    "nOut2 = 50\n",
    "nOut3 = 50\n",
    "nOut4 = 50\n",
    "nOut5 = 50\n",
    "nOut6 = 50\n",
    "nOut7 = 50\n",
    "nOut8 = 50\n",
    "nOut9 = 50\n",
    "nOut10 = 50\n",
    "nOut11 = 50\n",
    "latentChannels = 4\n",
    "model = Model(nOut1,nOut2,nOut3,nOut4,nOut5,nOut6,nOut7,nOut8,nOut9,nOut10,nOut11,latentChannels)\n",
    "\n",
    "##summary(model, input_size=(4, 4000))\n",
    "##print(model.parameters)\n",
    "\n",
    "## add the following code to allow the user to freeze the some of the weights corresponding \n",
    "## to those taken from an earlier model trained with the original target histograms\n",
    "## presumably -- this leaves either the perturbative filter \"fixed\" and lets the \n",
    "## learning focus on the non-perturbative features, so get started faster, or vice versa\n",
    "ct = 0\n",
    "for child in model.children():\n",
    "  print('ct, child = ',ct, \"  \", child)\n",
    "  if ct < 0:\n",
    "    print(\"     About to set param.requires_grad=False for ct = \", ct, \"params\")\n",
    "    for param in child.parameters():\n",
    "        # fixing parameters\n",
    "        param.requires_grad = False \n",
    "  ct += 1\n",
    "##  mds 200121 loss = Loss(epsilon=1e-5,coefficient=1.0)\n",
    "##  loss = Loss(epsilon=1e-5,coefficient=2.5)\n",
    "##loss = Loss(epsilon=3e-5, debug=False)\n",
    "loss = Loss(epsilon=3e-5)"
   ]
  },
  {
   "cell_type": "markdown",
   "metadata": {},
   "source": [
    "Let's move the model's weight matricies to the GPU:"
   ]
  },
  {
   "cell_type": "code",
   "execution_count": 11,
   "metadata": {
    "scrolled": true
   },
   "outputs": [],
   "source": [
    "model = model.to(device)"
   ]
  },
  {
   "cell_type": "code",
   "execution_count": 12,
   "metadata": {
    "scrolled": true
   },
   "outputs": [],
   "source": [
    "optimizer = torch.optim.Adam(model.parameters(), lr=learning_rate)\n",
    "##optimizer = torch.optim.SGD(model.parameters(), lr=learning_rate)"
   ]
  },
  {
   "cell_type": "code",
   "execution_count": 13,
   "metadata": {
    "scrolled": true
   },
   "outputs": [
    {
     "name": "stdout",
     "output_type": "stream",
     "text": [
      "output =  ML_dir/05Feb_DDplus_loss_Ba_iter27_floatAll_100epochs_1p5em5_4xwill\n",
      "for model_dict\n",
      "index, k =   0    layer1.weight\n",
      "index, k =   1    layer1.bias\n",
      "index, k =   2    layer2.weight\n",
      "index, k =   3    layer2.bias\n",
      "index, k =   4    layer3.weight\n",
      "index, k =   5    layer3.bias\n",
      "index, k =   6    layer4.weight\n",
      "index, k =   7    layer4.bias\n",
      "index, k =   8    layer5.weight\n",
      "index, k =   9    layer5.bias\n",
      "index, k =   10    layer6.weight\n",
      "index, k =   11    layer6.bias\n",
      "index, k =   12    layer7.weight\n",
      "index, k =   13    layer7.bias\n",
      "index, k =   14    layer8.weight\n",
      "index, k =   15    layer8.bias\n",
      "index, k =   16    layer9.weight\n",
      "index, k =   17    layer9.bias\n",
      "index, k =   18    layer10.weight\n",
      "index, k =   19    layer10.bias\n",
      "index, k =   20    layer11.weight\n",
      "index, k =   21    layer11.bias\n",
      "index, k =   22    layer12new.weight\n",
      "index, k =   23    layer12new.bias\n",
      "index, k =   24    conv1.weight\n",
      "index, k =   25    conv1.bias\n",
      "index, k =   26    conv2.weight\n",
      "index, k =   27    conv2.bias\n",
      "index, k =   28    fc1.weight\n",
      "index, k =   29    fc1.bias\n",
      "index, k =   30    finalFilter.weight\n",
      "index, k =   31    finalFilter.bias\n",
      "dict_name =  ML_dir/04Feb_DDplus_loss_Ba_iter26_floatAll_80epochs_1p5em5_4xwill/04Feb_DDplus_loss_Ba_iter26_floatAll_80epochs_1p5em5_4xwill_final.pyt\n",
      " \n",
      "  for pretrained_dict\n",
      "index, k =   0    layer1.weight\n",
      "index, k =   1    layer1.bias\n",
      "index, k =   2    layer2.weight\n",
      "index, k =   3    layer2.bias\n",
      "index, k =   4    layer3.weight\n",
      "index, k =   5    layer3.bias\n",
      "index, k =   6    layer4.weight\n",
      "index, k =   7    layer4.bias\n",
      "index, k =   8    layer5.weight\n",
      "index, k =   9    layer5.bias\n",
      "index, k =   10    layer6.weight\n",
      "index, k =   11    layer6.bias\n",
      "index, k =   12    layer7.weight\n",
      "index, k =   13    layer7.bias\n",
      "index, k =   14    layer8.weight\n",
      "index, k =   15    layer8.bias\n",
      "index, k =   16    layer9.weight\n",
      "index, k =   17    layer9.bias\n",
      "index, k =   18    layer10.weight\n",
      "index, k =   19    layer10.bias\n",
      "index, k =   20    layer11.weight\n",
      "index, k =   21    layer11.bias\n",
      "index, k =   22    layer12new.weight\n",
      "index, k =   23    layer12new.bias\n",
      "index, k =   24    conv1.weight\n",
      "index, k =   25    conv1.bias\n",
      "index, k =   26    conv2.weight\n",
      "index, k =   27    conv2.bias\n",
      "index, k =   28    fc1.weight\n",
      "index, k =   29    fc1.bias\n",
      "index, k =   30    finalFilter.weight\n",
      "index, k =   31    finalFilter.bias\n",
      "pretrained_dict iterated\n"
     ]
    },
    {
     "data": {
      "text/plain": [
       "<All keys matched successfully>"
      ]
     },
     "execution_count": 13,
     "metadata": {},
     "output_type": "execute_result"
    }
   ],
   "source": [
    "print('output = ',output)\n",
    "##print('oldOutput = ',oldOutput)\n",
    "##  use the first four layers from a pre-existing model\n",
    "##  see example at https://discuss.pytorch.org/t/how-to-load-part-of-pre-trained-model/1113\n",
    "\n",
    "##   ML -> /share/lazy/sokoloff/ML\n",
    "model_dict = model.state_dict()\n",
    "## mds 190725 for debugging\n",
    "print(\"for model_dict\")\n",
    "index = 0\n",
    "for k,v in model_dict.items():\n",
    "    print(\"index, k =  \",index,\"  \",k)\n",
    "    index = index+1\n",
    "##    print(\"value = \", v)\n",
    " \n",
    "updated_dict = model_dict\n",
    "##print(\"updated_dict = \",updated_dict)\n",
    "## when starting \"ab initio\", reduce biases as the bias gets summed for each track\n",
    "## contributing to the predicted KDE\n",
    "updated_dict[\"layer1.bias\"] = 0.005*model_dict[\"layer1.bias\"]\n",
    "updated_dict[\"layer2.bias\"] = 0.005*model_dict[\"layer2.bias\"]\n",
    "updated_dict[\"layer3.bias\"] = 0.005*model_dict[\"layer3.bias\"]\n",
    "updated_dict[\"layer4.bias\"] = 0.005*model_dict[\"layer4.bias\"]\n",
    "updated_dict[\"layer5.bias\"] = 0.005*model_dict[\"layer5.bias\"]\n",
    "updated_dict[\"layer6.bias\"] = 0.005*model_dict[\"layer6.bias\"]\n",
    "updated_dict[\"layer7.bias\"] = 0.005*model_dict[\"layer7.bias\"]\n",
    "updated_dict[\"layer8.bias\"] = 0.005*model_dict[\"layer8.bias\"]\n",
    "updated_dict[\"layer9.bias\"] = 0.005*model_dict[\"layer9.bias\"]\n",
    "updated_dict[\"layer10.bias\"] = 0.005*model_dict[\"layer10.bias\"]\n",
    "updated_dict[\"layer11.bias\"] = 0.005*model_dict[\"layer11.bias\"]\n",
    "\n",
    "model.load_state_dict(updated_dict,strict=False)\n",
    "\n",
    "model_dict = model.state_dict()\n",
    "##print(\"updated model_dict = \",model_dict)\n",
    "\n",
    "## print(\" \\n\",\"  for pretrained_dict\")\n",
    "## index = 0\n",
    "##for k,v in pretrained_dict.items():\n",
    "##    print(\"index, k =  \",index,\"  \",k)\n",
    "##    index = index+1\n",
    "## mds  \n",
    "\n",
    "##pretrained_dict = torch.load('ML/29July2020_Trks_to_KDE_C_lossB_100epochs_b64_1m3_nOut_50x50/29July2020_Trks_to_KDE_C_lossB_100epochs_b64_1m3_nOut_50x50_final.pyt')\n",
    "##print(\"model_dict instantiated\")\n",
    "# 1. filter out unnecessary keys\n",
    "##pretrained_dict = {k: v for k, v in pretrained_dict.items() if k in model_dict}\n",
    "##print(\"pretrained_dict iterated\")\n",
    "# 2. overwrite entries in the existing state dict\n",
    "##model_dict.update(pretrained_dict) \n",
    "##\n",
    "#   when starting from a model with a fully connected last layer rather than a convolutional layer\n",
    "# 3. load the new state dict\n",
    "#   need to use strict=False as the two models state model attributes do not agree exactly\n",
    "#   see https://pytorch.org/docs/master/_modules/torch/nn/modules/module.html#Module.load_state_dict\n",
    "\n",
    "##model.load_state_dict(pretrained_dict,strict=False)\n",
    "\n",
    "## print('model_dict =    ', model_dict)\n",
    "\n",
    "## finished at training cost = 1.46, validation cost = 1.50\n",
    "##d_folder = '25December__DDplus_loss_Ba_iter7_floatAll_800epochs_4em6'\n",
    "d_folder = '04Feb_DDplus_loss_Ba_iter26_floatAll_80epochs_1p5em5_4xwill'\n",
    "d_name = d_folder\n",
    "##  for 24Jan_DDplus_loss_Ba_iter17_floatAll_150epochs_1p5em5_4xwill use suffix 87\n",
    "##  as this is the last epoch that ran before I killed the job (don't ask)\n",
    "suffix = 'final'\n",
    "dict_name = 'ML_dir/' + d_folder + '/' + d_name + '_'+ suffix + '.pyt'\n",
    "print('dict_name = ',dict_name)\n",
    "pretrained_dict = torch.load(dict_name)\n",
    "\n",
    "print(\" \")\n",
    "print(\"  for pretrained_dict\")\n",
    "index = 0\n",
    "for k,v in pretrained_dict.items():\n",
    "    print(\"index, k =  \",index,\"  \",k)\n",
    "    index = index+1\n",
    " \n",
    "\n",
    "##print(\"model_dict instantiated\")\n",
    "# 1. filter out unnecessary keys\n",
    "pretrained_dict = {k: v for k, v in pretrained_dict.items() if k in model_dict}\n",
    "print(\"pretrained_dict iterated\")\n",
    "# 2. overwrite entries in the existing state dict\n",
    "model_dict.update(pretrained_dict) \n",
    "##\n",
    "#   when starting from a model with a fully connected last layer rather than a convolutional layer\n",
    "# 3. load the new state dict\n",
    "#   need to use strict=False as the two models state model attributes do not agree exactly\n",
    "#   see https://pytorch.org/docs/master/_modules/torch/nn/modules/module.html#Module.load_state_dict\n",
    "\n",
    "model.load_state_dict(pretrained_dict,strict=False)\n",
    "\n"
   ]
  },
  {
   "cell_type": "code",
   "execution_count": 14,
   "metadata": {},
   "outputs": [],
   "source": [
    "##print('validation.dataset.tensors = ',validation.dataset.tensors)\n",
    "fig_size = plt.rcParams[\"figure.figsize\"]\n",
    "fig_size[0] = 10\n",
    "fig_size[1] = 4\n",
    "plt.rcParams[\"figure.figsize\"] = fig_size"
   ]
  },
  {
   "cell_type": "code",
   "execution_count": 15,
   "metadata": {},
   "outputs": [
    {
     "name": "stdout",
     "output_type": "stream",
     "text": [
      "Loading data...\n",
      "pocaMx.shape =  (80000,)\n",
      "nEvts =  80000\n",
      "len(pocaMx[0]) =  199\n",
      "len(pocaMx[1]) =  25\n",
      "len(pocaMx[2]) =  369\n",
      "len(pocaMx[3]) =  143\n",
      "len(pocaMx[4]) =  160\n",
      "majorAxis.shape =  (80000, 3)\n",
      "minorAxis_1.shape =  (80000, 3)\n",
      "minorAxis_2.shape =  (80000, 3)\n",
      "have entered six_ellipsoid_parameters\n",
      "  \n",
      " \n",
      "  nEvts =  80000\n",
      " iEvt, nTrks =  0 199\n",
      " iEvt, nTrks =  1 25\n",
      " iEvt, nTrks =  2 369\n",
      " iEvt, nTrks =  3 143\n",
      " iEvt, nTrks =  4 160\n",
      " iEvt, nTrks =  5 260\n",
      " iEvt, nTrks =  6 237\n",
      " iEvt, nTrks =  7 327\n",
      " iEvt, nTrks =  8 178\n",
      " iEvt, nTrks =  9 106\n",
      "A.shape =  (80000,)\n",
      "majorAxis[iTrk][0][0] =  0.00045611936\n",
      "majorAxis[iTrk][1][0] =  -4.8292455e-05\n",
      "majorAxis[iTrk][2][0] =  0.090019904\n",
      "minorAxis_1[iTrk][0][0] =  -1.8602173\n",
      "minorAxis_1[iTrk][1][0] =  -17.569641\n",
      "minorAxis_1[iTrk][2][0] =  4.7891795e-08\n",
      "minorAxis_2[iTrk][0][0] =  -17.569414\n",
      "minorAxis_2[iTrk][1][0] =  1.8601931\n",
      "minorAxis_2[iTrk][2][0] =  0.0900199\n",
      "  \n",
      "majorAxis[iTrk][0][0] =  0.002360258\n",
      "majorAxis[iTrk][1][0] =  -0.007426616\n",
      "majorAxis[iTrk][2][0] =  0.3710108\n",
      "minorAxis_1[iTrk][0][0] =  -16.837948\n",
      "minorAxis_1[iTrk][1][0] =  -5.3512807\n",
      "minorAxis_1[iTrk][2][0] =  8.157131e-09\n",
      "minorAxis_2[iTrk][0][0] =  -5.3501005\n",
      "minorAxis_2[iTrk][1][0] =  16.834236\n",
      "minorAxis_2[iTrk][2][0] =  0.3710108\n",
      "  \n",
      "majorAxis[iTrk][0][0] =  6.220712e-05\n",
      "majorAxis[iTrk][1][0] =  -4.4594188e-05\n",
      "majorAxis[iTrk][2][0] =  0.036773544\n",
      "minorAxis_1[iTrk][0][0] =  10.293747\n",
      "minorAxis_1[iTrk][1][0] =  14.359369\n",
      "minorAxis_1[iTrk][2][0] =  1.571041e-06\n",
      "minorAxis_2[iTrk][0][0] =  14.359338\n",
      "minorAxis_2[iTrk][1][0] =  -10.293725\n",
      "minorAxis_2[iTrk][2][0] =  -0.03677354\n",
      "  \n",
      "majorAxis[iTrk][0][0] =  0.0033452737\n",
      "majorAxis[iTrk][1][0] =  0.00013028442\n",
      "majorAxis[iTrk][2][0] =  0.2431933\n",
      "minorAxis_1[iTrk][0][0] =  0.6875674\n",
      "minorAxis_1[iTrk][1][0] =  -17.65446\n",
      "minorAxis_1[iTrk][2][0] =  -6.6602626e-09\n",
      "minorAxis_2[iTrk][0][0] =  -17.652788\n",
      "minorAxis_2[iTrk][1][0] =  -0.68750226\n",
      "minorAxis_2[iTrk][2][0] =  0.2431933\n",
      "  \n",
      "majorAxis[iTrk][0][0] =  -0.00068196515\n",
      "majorAxis[iTrk][1][0] =  -0.00044562915\n",
      "majorAxis[iTrk][2][0] =  0.119970225\n",
      "minorAxis_1[iTrk][0][0] =  9.664597\n",
      "minorAxis_1[iTrk][1][0] =  -14.790141\n",
      "minorAxis_1[iTrk][2][0] =  1.9819232e-08\n",
      "minorAxis_2[iTrk][0][0] =  -14.789802\n",
      "minorAxis_2[iTrk][1][0] =  -9.664374\n",
      "minorAxis_2[iTrk][2][0] =  -0.11997023\n",
      "  \n",
      "majorAxis[iTrk][0][0] =  -8.245073e-05\n",
      "majorAxis[iTrk][1][0] =  0.00015860004\n",
      "majorAxis[iTrk][2][0] =  0.05619731\n",
      "minorAxis_1[iTrk][0][0] =  -15.676071\n",
      "minorAxis_1[iTrk][1][0] =  -8.149452\n",
      "minorAxis_1[iTrk][2][0] =  4.1105773e-07\n",
      "minorAxis_2[iTrk][0][0] =  -8.14941\n",
      "minorAxis_2[iTrk][1][0] =  15.675991\n",
      "minorAxis_2[iTrk][2][0] =  -0.056197315\n",
      "  \n",
      "majorAxis[iTrk][0][0] =  -0.00015151131\n",
      "majorAxis[iTrk][1][0] =  0.00067339616\n",
      "majorAxis[iTrk][2][0] =  0.11042937\n",
      "minorAxis_1[iTrk][0][0] =  17.236937\n",
      "minorAxis_1[iTrk][1][0] =  3.8782384\n",
      "minorAxis_1[iTrk][2][0] =  2.3217373e-08\n",
      "minorAxis_2[iTrk][0][0] =  3.8781626\n",
      "minorAxis_2[iTrk][1][0] =  -17.236599\n",
      "minorAxis_2[iTrk][2][0] =  0.11042936\n",
      "  \n",
      "majorAxis[iTrk][0][0] =  -7.577422e-05\n",
      "majorAxis[iTrk][1][0] =  -0.00036802414\n",
      "majorAxis[iTrk][2][0] =  0.08147708\n",
      "minorAxis_1[iTrk][0][0] =  -17.304853\n",
      "minorAxis_1[iTrk][1][0] =  3.5629773\n",
      "minorAxis_1[iTrk][2][0] =  5.80501e-09\n",
      "minorAxis_2[iTrk][0][0] =  3.5629392\n",
      "minorAxis_2[iTrk][1][0] =  17.304668\n",
      "minorAxis_2[iTrk][2][0] =  0.081477076\n",
      "  \n",
      "majorAxis[iTrk][0][0] =  0.00013397264\n",
      "majorAxis[iTrk][1][0] =  0.00094400026\n",
      "majorAxis[iTrk][2][0] =  0.12978876\n",
      "minorAxis_1[iTrk][0][0] =  17.492561\n",
      "minorAxis_1[iTrk][1][0] =  -2.4825466\n",
      "minorAxis_1[iTrk][2][0] =  1.1329301e-08\n",
      "minorAxis_2[iTrk][0][0] =  -2.4824798\n",
      "minorAxis_2[iTrk][1][0] =  -17.492088\n",
      "minorAxis_2[iTrk][2][0] =  0.12978874\n",
      "  \n",
      "majorAxis[iTrk][0][0] =  0.00043501743\n",
      "majorAxis[iTrk][1][0] =  -0.0016521378\n",
      "majorAxis[iTrk][2][0] =  0.17373301\n",
      "minorAxis_1[iTrk][0][0] =  -17.0855\n",
      "minorAxis_1[iTrk][1][0] =  -4.4987106\n",
      "minorAxis_1[iTrk][2][0] =  -7.7275175e-08\n",
      "minorAxis_2[iTrk][0][0] =  -4.4984937\n",
      "minorAxis_2[iTrk][1][0] =  17.084677\n",
      "minorAxis_2[iTrk][2][0] =  0.17373303\n",
      "  \n",
      "len(X) =  80000\n",
      "len(Xlist) =  1\n",
      "Loaded /share/lazy/will/data/June30_2020_80k_1.h5 in 151.9 s\n",
      "pocaMx.shape =  (80000,)\n",
      "nEvts =  80000\n",
      "len(pocaMx[0]) =  222\n",
      "len(pocaMx[1]) =  133\n",
      "len(pocaMx[2]) =  259\n",
      "len(pocaMx[3]) =  114\n",
      "len(pocaMx[4]) =  143\n",
      "majorAxis.shape =  (80000, 3)\n",
      "minorAxis_1.shape =  (80000, 3)\n",
      "minorAxis_2.shape =  (80000, 3)\n",
      "have entered six_ellipsoid_parameters\n",
      "  \n",
      " \n",
      "  nEvts =  80000\n",
      " iEvt, nTrks =  0 222\n",
      " iEvt, nTrks =  1 133\n",
      " iEvt, nTrks =  2 259\n",
      " iEvt, nTrks =  3 114\n",
      " iEvt, nTrks =  4 143\n",
      " iEvt, nTrks =  5 136\n",
      " iEvt, nTrks =  6 397\n",
      " iEvt, nTrks =  7 370\n",
      " iEvt, nTrks =  8 97\n",
      " iEvt, nTrks =  9 67\n",
      "A.shape =  (80000,)\n",
      "majorAxis[iTrk][0][0] =  -0.001036478\n",
      "majorAxis[iTrk][1][0] =  0.0009833863\n",
      "majorAxis[iTrk][2][0] =  0.15887721\n",
      "minorAxis_1[iTrk][0][0] =  -12.160475\n",
      "minorAxis_1[iTrk][1][0] =  -12.817002\n",
      "minorAxis_1[iTrk][2][0] =  0.0\n",
      "minorAxis_2[iTrk][0][0] =  -12.816484\n",
      "minorAxis_2[iTrk][1][0] =  12.159985\n",
      "minorAxis_2[iTrk][2][0] =  -0.15887721\n",
      "  \n",
      "majorAxis[iTrk][0][0] =  0.0016579849\n",
      "majorAxis[iTrk][1][0] =  0.0020989499\n",
      "majorAxis[iTrk][2][0] =  0.21738033\n",
      "minorAxis_1[iTrk][0][0] =  -13.864233\n",
      "minorAxis_1[iTrk][1][0] =  10.95152\n",
      "minorAxis_1[iTrk][2][0] =  -3.3017489e-09\n",
      "minorAxis_2[iTrk][0][0] =  10.95069\n",
      "minorAxis_2[iTrk][1][0] =  13.863184\n",
      "minorAxis_2[iTrk][2][0] =  -0.21738033\n",
      "  \n",
      "majorAxis[iTrk][0][0] =  0.00012481198\n",
      "majorAxis[iTrk][1][0] =  -0.00028747538\n",
      "majorAxis[iTrk][2][0] =  0.07441149\n",
      "minorAxis_1[iTrk][0][0] =  -16.206305\n",
      "minorAxis_1[iTrk][1][0] =  -7.036224\n",
      "minorAxis_1[iTrk][2][0] =  5.3456716e-08\n",
      "minorAxis_2[iTrk][0][0] =  -7.0361605\n",
      "minorAxis_2[iTrk][1][0] =  16.20616\n",
      "minorAxis_2[iTrk][2][0] =  0.07441148\n",
      "  \n",
      "majorAxis[iTrk][0][0] =  -0.007920195\n",
      "majorAxis[iTrk][1][0] =  -0.009694931\n",
      "majorAxis[iTrk][2][0] =  0.47021532\n",
      "minorAxis_1[iTrk][0][0] =  -13.682467\n",
      "minorAxis_1[iTrk][1][0] =  11.177781\n",
      "minorAxis_1[iTrk][2][0] =  1.8638048e-10\n",
      "minorAxis_2[iTrk][0][0] =  11.173822\n",
      "minorAxis_2[iTrk][1][0] =  13.677622\n",
      "minorAxis_2[iTrk][2][0] =  0.47021535\n",
      "  \n",
      "majorAxis[iTrk][0][0] =  0.00038854493\n",
      "majorAxis[iTrk][1][0] =  0.0009230774\n",
      "majorAxis[iTrk][2][0] =  0.13301943\n",
      "minorAxis_1[iTrk][0][0] =  -16.284061\n",
      "minorAxis_1[iTrk][1][0] =  6.854344\n",
      "minorAxis_1[iTrk][2][0] =  2.2469074e-07\n",
      "minorAxis_2[iTrk][0][0] =  6.8541493\n",
      "minorAxis_2[iTrk][1][0] =  16.283602\n",
      "minorAxis_2[iTrk][2][0] =  -0.13301945\n",
      "  \n",
      "majorAxis[iTrk][0][0] =  -5.6093595e-05\n",
      "majorAxis[iTrk][1][0] =  0.000114469876\n",
      "majorAxis[iTrk][2][0] =  0.04745733\n",
      "minorAxis_1[iTrk][0][0] =  15.865369\n",
      "minorAxis_1[iTrk][1][0] =  7.774496\n",
      "minorAxis_1[iTrk][2][0] =  1.8465234e-06\n",
      "minorAxis_2[iTrk][0][0] =  7.774468\n",
      "minorAxis_2[iTrk][1][0] =  -15.865313\n",
      "minorAxis_2[iTrk][2][0] =  0.04745733\n",
      "  \n",
      "majorAxis[iTrk][0][0] =  9.375396e-05\n",
      "majorAxis[iTrk][1][0] =  0.0002926058\n",
      "majorAxis[iTrk][2][0] =  0.07367872\n",
      "minorAxis_1[iTrk][0][0] =  -16.825275\n",
      "minorAxis_1[iTrk][1][0] =  5.390994\n",
      "minorAxis_1[iTrk][2][0] =  -2.1861728e-08\n",
      "minorAxis_2[iTrk][0][0] =  5.3909473\n",
      "minorAxis_2[iTrk][1][0] =  16.825129\n",
      "minorAxis_2[iTrk][2][0] =  -0.07367872\n",
      "  \n",
      "majorAxis[iTrk][0][0] =  -1.1543522e-06\n",
      "majorAxis[iTrk][1][0] =  2.8112001e-05\n",
      "majorAxis[iTrk][2][0] =  0.022295665\n",
      "minorAxis_1[iTrk][0][0] =  -17.652967\n",
      "minorAxis_1[iTrk][1][0] =  -0.7248769\n",
      "minorAxis_1[iTrk][2][0] =  1.7815448e-07\n",
      "minorAxis_2[iTrk][0][0] =  -0.7248763\n",
      "minorAxis_2[iTrk][1][0] =  17.652954\n",
      "minorAxis_2[iTrk][2][0] =  -0.022295661\n",
      "  \n",
      "majorAxis[iTrk][0][0] =  -0.2612214\n",
      "majorAxis[iTrk][1][0] =  0.83076316\n",
      "majorAxis[iTrk][2][0] =  3.8745012\n",
      "minorAxis_1[iTrk][0][0] =  -16.85429\n",
      "minorAxis_1[iTrk][1][0] =  -5.299587\n",
      "minorAxis_1[iTrk][2][0] =  2.0865195e-11\n",
      "minorAxis_2[iTrk][0][0] =  -5.1705856\n",
      "minorAxis_2[iTrk][1][0] =  16.444027\n",
      "minorAxis_2[iTrk][2][0] =  -3.874501\n",
      "  \n",
      "majorAxis[iTrk][0][0] =  -0.057592034\n",
      "majorAxis[iTrk][1][0] =  0.06503555\n",
      "majorAxis[iTrk][2][0] =  1.2373537\n",
      "minorAxis_1[iTrk][0][0] =  13.227038\n",
      "minorAxis_1[iTrk][1][0] =  11.713163\n",
      "minorAxis_1[iTrk][2][0] =  1.7679876e-10\n",
      "minorAxis_2[iTrk][0][0] =  11.684402\n",
      "minorAxis_2[iTrk][1][0] =  -13.194561\n",
      "minorAxis_2[iTrk][2][0] =  1.2373537\n",
      "  \n",
      "len(X) =  80000\n",
      "len(Xlist) =  2\n",
      "Loaded /share/lazy/will/data/June30_2020_80k_2.h5 in 152.9 s\n",
      "pocaMx.shape =  (80000,)\n"
     ]
    },
    {
     "name": "stdout",
     "output_type": "stream",
     "text": [
      "nEvts =  80000\n",
      "len(pocaMx[0]) =  196\n",
      "len(pocaMx[1]) =  35\n",
      "len(pocaMx[2]) =  265\n",
      "len(pocaMx[3]) =  128\n",
      "len(pocaMx[4]) =  124\n",
      "majorAxis.shape =  (80000, 3)\n",
      "minorAxis_1.shape =  (80000, 3)\n",
      "minorAxis_2.shape =  (80000, 3)\n",
      "have entered six_ellipsoid_parameters\n",
      "  \n",
      " \n",
      "  nEvts =  80000\n",
      " iEvt, nTrks =  0 196\n",
      " iEvt, nTrks =  1 35\n",
      " iEvt, nTrks =  2 265\n",
      " iEvt, nTrks =  3 128\n",
      " iEvt, nTrks =  4 124\n",
      " iEvt, nTrks =  5 122\n",
      " iEvt, nTrks =  6 300\n",
      " iEvt, nTrks =  7 179\n",
      " iEvt, nTrks =  8 243\n",
      " iEvt, nTrks =  9 112\n",
      "A.shape =  (80000,)\n",
      "majorAxis[iTrk][0][0] =  -2.440992e-05\n",
      "majorAxis[iTrk][1][0] =  -0.00038087237\n",
      "majorAxis[iTrk][2][0] =  0.08211532\n",
      "minorAxis_1[iTrk][0][0] =  -17.631672\n",
      "minorAxis_1[iTrk][1][0] =  1.130005\n",
      "minorAxis_1[iTrk][2][0] =  4.7444193e-08\n",
      "minorAxis_2[iTrk][0][0] =  1.1299927\n",
      "minorAxis_2[iTrk][1][0] =  17.631481\n",
      "minorAxis_2[iTrk][2][0] =  0.08211532\n",
      "  \n",
      "majorAxis[iTrk][0][0] =  -0.02277395\n",
      "majorAxis[iTrk][1][0] =  0.0014473597\n",
      "majorAxis[iTrk][2][0] =  0.6347583\n",
      "minorAxis_1[iTrk][0][0] =  -1.1205891\n",
      "minorAxis_1[iTrk][1][0] =  -17.632273\n",
      "minorAxis_1[iTrk][2][0] =  2.1543272e-09\n",
      "minorAxis_2[iTrk][0][0] =  -17.620888\n",
      "minorAxis_2[iTrk][1][0] =  1.1198657\n",
      "minorAxis_2[iTrk][2][0] =  -0.63475823\n",
      "  \n",
      "majorAxis[iTrk][0][0] =  0.0004024825\n",
      "majorAxis[iTrk][1][0] =  -0.00023784715\n",
      "majorAxis[iTrk][2][0] =  0.090883136\n",
      "minorAxis_1[iTrk][0][0] =  -8.988615\n",
      "minorAxis_1[iTrk][1][0] =  -15.210441\n",
      "minorAxis_1[iTrk][2][0] =  -6.56547e-08\n",
      "minorAxis_2[iTrk][0][0] =  -15.21024\n",
      "minorAxis_2[iTrk][1][0] =  8.988497\n",
      "minorAxis_2[iTrk][2][0] =  0.090883136\n",
      "  \n",
      "majorAxis[iTrk][0][0] =  0.0068744724\n",
      "majorAxis[iTrk][1][0] =  0.0017050834\n",
      "majorAxis[iTrk][2][0] =  0.3537121\n",
      "minorAxis_1[iTrk][0][0] =  4.2532983\n",
      "minorAxis_1[iTrk][1][0] =  -17.148241\n",
      "minorAxis_1[iTrk][2][0] =  1.1939819e-09\n",
      "minorAxis_2[iTrk][0][0] =  -17.144806\n",
      "minorAxis_2[iTrk][1][0] =  -4.252446\n",
      "minorAxis_2[iTrk][2][0] =  0.3537121\n",
      "  \n",
      "majorAxis[iTrk][0][0] =  -0.004920899\n",
      "majorAxis[iTrk][1][0] =  0.0009170567\n",
      "majorAxis[iTrk][2][0] =  0.2973651\n",
      "minorAxis_1[iTrk][0][0] =  -3.236844\n",
      "minorAxis_1[iTrk][1][0] =  -17.36881\n",
      "minorAxis_1[iTrk][2][0] =  -4.7397712e-09\n",
      "minorAxis_2[iTrk][0][0] =  -17.36635\n",
      "minorAxis_2[iTrk][1][0] =  3.2363856\n",
      "minorAxis_2[iTrk][2][0] =  -0.29736507\n",
      "  \n",
      "majorAxis[iTrk][0][0] =  -0.0001240533\n",
      "majorAxis[iTrk][1][0] =  0.00033394952\n",
      "majorAxis[iTrk][2][0] =  0.079335004\n",
      "minorAxis_1[iTrk][0][0] =  -16.562042\n",
      "minorAxis_1[iTrk][1][0] =  -6.1523557\n",
      "minorAxis_1[iTrk][2][0] =  3.1261713e-08\n",
      "minorAxis_2[iTrk][0][0] =  -6.1522937\n",
      "minorAxis_2[iTrk][1][0] =  16.561876\n",
      "minorAxis_2[iTrk][2][0] =  -0.079335004\n",
      "  \n",
      "majorAxis[iTrk][0][0] =  0.00010132754\n",
      "majorAxis[iTrk][1][0] =  6.684385e-05\n",
      "majorAxis[iTrk][2][0] =  0.046310693\n",
      "minorAxis_1[iTrk][0][0] =  -9.728917\n",
      "minorAxis_1[iTrk][1][0] =  14.747911\n",
      "minorAxis_1[iTrk][2][0] =  -2.3591362e-07\n",
      "minorAxis_2[iTrk][0][0] =  14.74786\n",
      "minorAxis_2[iTrk][1][0] =  9.728883\n",
      "minorAxis_2[iTrk][2][0] =  -0.04631069\n",
      "  \n",
      "majorAxis[iTrk][0][0] =  0.0042806785\n",
      "majorAxis[iTrk][1][0] =  0.004939851\n",
      "majorAxis[iTrk][2][0] =  0.3398017\n",
      "minorAxis_1[iTrk][0][0] =  13.3521\n",
      "minorAxis_1[iTrk][1][0] =  -11.5704\n",
      "minorAxis_1[iTrk][2][0] =  1.21654296e-08\n",
      "minorAxis_2[iTrk][0][0] =  -11.56826\n",
      "minorAxis_2[iTrk][1][0] =  -13.349631\n",
      "minorAxis_2[iTrk][2][0] =  0.33980173\n",
      "  \n",
      "majorAxis[iTrk][0][0] =  -0.00013103899\n",
      "majorAxis[iTrk][1][0] =  -0.0006021903\n",
      "majorAxis[iTrk][2][0] =  0.10434653\n",
      "minorAxis_1[iTrk][0][0] =  -17.26384\n",
      "minorAxis_1[iTrk][1][0] =  3.7566798\n",
      "minorAxis_1[iTrk][2][0] =  -9.616703e-08\n",
      "minorAxis_2[iTrk][0][0] =  3.7566135\n",
      "minorAxis_2[iTrk][1][0] =  17.263535\n",
      "minorAxis_2[iTrk][2][0] =  0.10434652\n",
      "  \n",
      "majorAxis[iTrk][0][0] =  0.0016481678\n",
      "majorAxis[iTrk][1][0] =  -0.0019788505\n",
      "majorAxis[iTrk][2][0] =  0.21330062\n",
      "minorAxis_1[iTrk][0][0] =  -13.575765\n",
      "minorAxis_1[iTrk][1][0] =  -11.307139\n",
      "minorAxis_1[iTrk][2][0] =  8.543098e-09\n",
      "minorAxis_2[iTrk][0][0] =  -11.306314\n",
      "minorAxis_2[iTrk][1][0] =  13.574774\n",
      "minorAxis_2[iTrk][2][0] =  0.21330062\n",
      "  \n",
      "len(X) =  80000\n",
      "len(Xlist) =  3\n",
      "Loaded /share/lazy/will/data/June30_2020_80k_3.h5 in 152.8 s\n",
      "pocaMx.shape =  (80000,)\n",
      "nEvts =  80000\n",
      "len(pocaMx[0]) =  204\n",
      "len(pocaMx[1]) =  33\n",
      "len(pocaMx[2]) =  206\n",
      "len(pocaMx[3]) =  150\n",
      "len(pocaMx[4]) =  96\n",
      "majorAxis.shape =  (80000, 3)\n",
      "minorAxis_1.shape =  (80000, 3)\n",
      "minorAxis_2.shape =  (80000, 3)\n",
      "have entered six_ellipsoid_parameters\n",
      "  \n",
      " \n",
      "  nEvts =  80000\n",
      " iEvt, nTrks =  0 204\n",
      " iEvt, nTrks =  1 33\n",
      " iEvt, nTrks =  2 206\n",
      " iEvt, nTrks =  3 150\n",
      " iEvt, nTrks =  4 96\n",
      " iEvt, nTrks =  5 10\n",
      " iEvt, nTrks =  6 174\n",
      " iEvt, nTrks =  7 320\n",
      " iEvt, nTrks =  8 164\n",
      " iEvt, nTrks =  9 119\n",
      "A.shape =  (80000,)\n",
      "majorAxis[iTrk][0][0] =  0.00057876867\n",
      "majorAxis[iTrk][1][0] =  0.00037603904\n",
      "majorAxis[iTrk][2][0] =  0.110427074\n",
      "minorAxis_1[iTrk][0][0] =  9.62588\n",
      "minorAxis_1[iTrk][1][0] =  -14.81537\n",
      "minorAxis_1[iTrk][2][0] =  8.391163e-09\n",
      "minorAxis_2[iTrk][0][0] =  -14.815081\n",
      "minorAxis_2[iTrk][1][0] =  -9.625692\n",
      "minorAxis_2[iTrk][2][0] =  0.11042709\n",
      "  \n",
      "majorAxis[iTrk][0][0] =  -7.687664e-05\n",
      "majorAxis[iTrk][1][0] =  -0.0017985329\n",
      "majorAxis[iTrk][2][0] =  0.17833562\n",
      "minorAxis_1[iTrk][0][0] =  -17.651728\n",
      "minorAxis_1[iTrk][1][0] =  0.7545069\n",
      "minorAxis_1[iTrk][2][0] =  -7.932265e-09\n",
      "minorAxis_2[iTrk][0][0] =  0.75446844\n",
      "minorAxis_2[iTrk][1][0] =  17.650827\n",
      "minorAxis_2[iTrk][2][0] =  0.17833562\n",
      "  \n",
      "majorAxis[iTrk][0][0] =  4.5855802e-05\n",
      "majorAxis[iTrk][1][0] =  -0.00054240844\n",
      "majorAxis[iTrk][2][0] =  0.098067455\n",
      "minorAxis_1[iTrk][0][0] =  17.605043\n",
      "minorAxis_1[iTrk][1][0] =  1.4883496\n",
      "minorAxis_1[iTrk][2][0] =  -2.7847218e-08\n",
      "minorAxis_2[iTrk][0][0] =  1.4883265\n",
      "minorAxis_2[iTrk][1][0] =  -17.604773\n",
      "minorAxis_2[iTrk][2][0] =  -0.098067455\n",
      "  \n",
      "majorAxis[iTrk][0][0] =  -0.0013144773\n",
      "majorAxis[iTrk][1][0] =  0.0008680699\n",
      "majorAxis[iTrk][2][0] =  0.16682307\n",
      "minorAxis_1[iTrk][0][0] =  -9.736217\n",
      "minorAxis_1[iTrk][1][0] =  -14.743094\n",
      "minorAxis_1[iTrk][2][0] =  -1.7552136e-08\n",
      "minorAxis_2[iTrk][0][0] =  -14.742435\n",
      "minorAxis_2[iTrk][1][0] =  9.735782\n",
      "minorAxis_2[iTrk][2][0] =  -0.16682304\n",
      "  \n",
      "majorAxis[iTrk][0][0] =  0.032227762\n",
      "majorAxis[iTrk][1][0] =  0.007741693\n",
      "majorAxis[iTrk][2][0] =  0.76488173\n",
      "minorAxis_1[iTrk][0][0] =  -4.1267405\n",
      "minorAxis_1[iTrk][1][0] =  17.179138\n",
      "minorAxis_1[iTrk][2][0] =  -2.3529467e-10\n",
      "minorAxis_2[iTrk][0][0] =  17.16303\n",
      "minorAxis_2[iTrk][1][0] =  4.122871\n",
      "minorAxis_2[iTrk][2][0] =  -0.7648817\n",
      "  \n",
      "majorAxis[iTrk][0][0] =  1.9753945\n",
      "majorAxis[iTrk][1][0] =  2.5669005\n",
      "majorAxis[iTrk][2][0] =  7.226382\n",
      "minorAxis_1[iTrk][0][0] =  14.0017\n",
      "minorAxis_1[iTrk][1][0] =  -10.7752075\n",
      "minorAxis_1[iTrk][2][0] =  5.3286344e-11\n",
      "minorAxis_2[iTrk][0][0] =  -9.832683\n",
      "minorAxis_2[iTrk][1][0] =  -12.776951\n",
      "minorAxis_2[iTrk][2][0] =  7.226381\n",
      "  \n",
      "majorAxis[iTrk][0][0] =  -0.0026900356\n",
      "majorAxis[iTrk][1][0] =  -0.0015841618\n",
      "majorAxis[iTrk][2][0] =  0.234843\n",
      "minorAxis_1[iTrk][0][0] =  -8.965469\n",
      "minorAxis_1[iTrk][1][0] =  15.224096\n",
      "minorAxis_1[iTrk][2][0] =  2.8236277e-08\n",
      "minorAxis_2[iTrk][0][0] =  15.222751\n",
      "minorAxis_2[iTrk][1][0] =  8.964677\n",
      "minorAxis_2[iTrk][2][0] =  0.234843\n",
      "  \n",
      "majorAxis[iTrk][0][0] =  -0.0001692281\n",
      "majorAxis[iTrk][1][0] =  0.0003505444\n",
      "majorAxis[iTrk][2][0] =  0.08292902\n",
      "minorAxis_1[iTrk][0][0] =  -15.910811\n",
      "minorAxis_1[iTrk][1][0] =  -7.68107\n",
      "minorAxis_1[iTrk][2][0] =  1.587002e-08\n",
      "minorAxis_2[iTrk][0][0] =  -7.680986\n",
      "minorAxis_2[iTrk][1][0] =  15.910635\n",
      "minorAxis_2[iTrk][2][0] =  -0.08292903\n",
      "  \n",
      "majorAxis[iTrk][0][0] =  0.0017714669\n",
      "majorAxis[iTrk][1][0] =  -0.001515166\n",
      "majorAxis[iTrk][2][0] =  0.20293355\n",
      "minorAxis_1[iTrk][0][0] =  11.483943\n",
      "minorAxis_1[iTrk][1][0] =  13.426532\n",
      "minorAxis_1[iTrk][2][0] =  -2.7840934e-09\n",
      "minorAxis_2[iTrk][0][0] =  13.425648\n",
      "minorAxis_2[iTrk][1][0] =  -11.483187\n",
      "minorAxis_2[iTrk][2][0] =  -0.20293356\n",
      "  \n",
      "majorAxis[iTrk][0][0] =  0.0006359923\n",
      "majorAxis[iTrk][1][0] =  -0.0003371759\n",
      "majorAxis[iTrk][2][0] =  0.112773284\n",
      "minorAxis_1[iTrk][0][0] =  8.275655\n",
      "minorAxis_1[iTrk][1][0] =  15.609813\n",
      "minorAxis_1[iTrk][2][0] =  -5.6373224e-08\n",
      "minorAxis_2[iTrk][0][0] =  15.609494\n",
      "minorAxis_2[iTrk][1][0] =  -8.275486\n",
      "minorAxis_2[iTrk][2][0] =  -0.11277328\n",
      "  \n",
      "len(X) =  80000\n",
      "len(Xlist) =  4\n",
      "Loaded /share/lazy/will/data/June30_2020_80k_4.h5 in 153.5 s\n",
      "outer loop X.shape =  (320000, 9, 600)\n",
      "Constructing 320000 event dataset took 2.339 s\n",
      "x_t.shape =  torch.Size([320000, 9, 600])\n",
      "x_t.shape[0] =  320000\n",
      "x_t.shape[1] =  9\n",
      "x_t.shape =  torch.Size([320000, 9, 600])\n"
     ]
    }
   ],
   "source": [
    "## Training dataset. You can put as many files here as desired.\n",
    "\n",
    "##train_loader = collect_t2kde_data('/share/lazy/pv-finder/20k_evts_for_KDE_learning_200716.h5',\n",
    "train_loader = collect_t2kde_data('/share/lazy/will/data/June30_2020_80k_1.h5', \n",
    "                                  '/share/lazy/will/data/June30_2020_80k_2.h5',\n",
    "                                  '/share/lazy/will/data/June30_2020_80k_3.h5',\n",
    "                                  '/share/lazy/will/data/June30_2020_80k_4.h5',\n",
    "                                  #'/share/lazy/will/data/June30_2020_80k_5.h5',\n",
    "                                  #'/share/lazy/will/data/June30_2020_80k_6.h5',\n",
    "                                  #'/share/lazy/will/data/June30_2020_80k_7.h5',\n",
    "                             batch_size=batch_size,\n",
    "## if we are using a larger dataset (240K events, with the datasets above, and 11 GB  of GPU memory),\n",
    "## the dataset will overflow the GPU memory; device=device will allow the data to move back\n",
    "## and forth between the CPU and GPU memory. While this allows use of a larger dataset, it slows\n",
    "## down performance by about 10%.  So comment out when not needed.\n",
    "#                          device=device,\n",
    "##                           slice = slice(None,18000)\n",
    "                           )"
   ]
  },
  {
   "cell_type": "code",
   "execution_count": 16,
   "metadata": {
    "scrolled": false
   },
   "outputs": [
    {
     "name": "stdout",
     "output_type": "stream",
     "text": [
      "Loading data...\n",
      "pocaMx.shape =  (20000,)\n",
      "nEvts =  20000\n",
      "len(pocaMx[0]) =  211\n",
      "len(pocaMx[1]) =  21\n",
      "len(pocaMx[2]) =  20\n",
      "len(pocaMx[3]) =  198\n",
      "len(pocaMx[4]) =  233\n",
      "majorAxis.shape =  (20000, 3)\n",
      "minorAxis_1.shape =  (20000, 3)\n",
      "minorAxis_2.shape =  (20000, 3)\n",
      "have entered six_ellipsoid_parameters\n",
      "  \n",
      " \n",
      "  nEvts =  20000\n",
      " iEvt, nTrks =  0 211\n",
      " iEvt, nTrks =  1 21\n",
      " iEvt, nTrks =  2 20\n",
      " iEvt, nTrks =  3 198\n",
      " iEvt, nTrks =  4 233\n",
      " iEvt, nTrks =  5 85\n",
      " iEvt, nTrks =  6 223\n",
      " iEvt, nTrks =  7 425\n",
      " iEvt, nTrks =  8 252\n",
      " iEvt, nTrks =  9 169\n",
      "A.shape =  (20000,)\n",
      "majorAxis[iTrk][0][0] =  -0.00023452607\n",
      "majorAxis[iTrk][1][0] =  -0.00047206535\n",
      "majorAxis[iTrk][2][0] =  0.096502915\n",
      "minorAxis_1[iTrk][0][0] =  -15.822749\n",
      "minorAxis_1[iTrk][1][0] =  7.8608756\n",
      "minorAxis_1[iTrk][2][0] =  -2.6228399e-08\n",
      "minorAxis_2[iTrk][0][0] =  7.860759\n",
      "minorAxis_2[iTrk][1][0] =  15.822513\n",
      "minorAxis_2[iTrk][2][0] =  0.096502915\n",
      "  \n",
      "majorAxis[iTrk][0][0] =  -0.37655562\n",
      "majorAxis[iTrk][1][0] =  0.2768704\n",
      "majorAxis[iTrk][2][0] =  2.8546858\n",
      "minorAxis_1[iTrk][0][0] =  -10.466048\n",
      "minorAxis_1[iTrk][1][0] =  -14.234274\n",
      "minorAxis_1[iTrk][2][0] =  2.2974699e-11\n",
      "minorAxis_2[iTrk][0][0] =  -14.04724\n",
      "minorAxis_2[iTrk][1][0] =  10.328527\n",
      "minorAxis_2[iTrk][2][0] =  -2.8546853\n",
      "  \n",
      "majorAxis[iTrk][0][0] =  -0.024279848\n",
      "majorAxis[iTrk][1][0] =  0.0019689242\n",
      "majorAxis[iTrk][2][0] =  0.65580803\n",
      "minorAxis_1[iTrk][0][0] =  -1.4280497\n",
      "minorAxis_1[iTrk][1][0] =  -17.610037\n",
      "minorAxis_1[iTrk][2][0] =  -6.123401e-10\n",
      "minorAxis_2[iTrk][0][0] =  -17.597902\n",
      "minorAxis_2[iTrk][1][0] =  1.4270656\n",
      "minorAxis_2[iTrk][2][0] =  -0.6558081\n",
      "  \n",
      "majorAxis[iTrk][0][0] =  -0.007825993\n",
      "majorAxis[iTrk][1][0] =  0.004052097\n",
      "majorAxis[iTrk][2][0] =  0.3945435\n",
      "minorAxis_1[iTrk][0][0] =  8.123606\n",
      "minorAxis_1[iTrk][1][0] =  15.689478\n",
      "minorAxis_1[iTrk][2][0] =  -2.4940747e-10\n",
      "minorAxis_2[iTrk][0][0] =  15.685566\n",
      "minorAxis_2[iTrk][1][0] =  -8.12158\n",
      "minorAxis_2[iTrk][2][0] =  0.3945435\n",
      "  \n",
      "majorAxis[iTrk][0][0] =  0.0046102717\n",
      "majorAxis[iTrk][1][0] =  -0.0016007021\n",
      "majorAxis[iTrk][2][0] =  0.29361814\n",
      "minorAxis_1[iTrk][0][0] =  -5.794979\n",
      "minorAxis_1[iTrk][1][0] =  -16.690445\n",
      "minorAxis_1[iTrk][2][0] =  2.4897104e-09\n",
      "minorAxis_2[iTrk][0][0] =  -16.688139\n",
      "minorAxis_2[iTrk][1][0] =  5.794179\n",
      "minorAxis_2[iTrk][2][0] =  0.2936181\n",
      "  \n",
      "majorAxis[iTrk][0][0] =  -0.00020041714\n",
      "majorAxis[iTrk][1][0] =  0.00010468164\n",
      "majorAxis[iTrk][2][0] =  0.06320469\n",
      "minorAxis_1[iTrk][0][0] =  8.179679\n",
      "minorAxis_1[iTrk][1][0] =  15.660318\n",
      "minorAxis_1[iTrk][2][0] =  7.40176e-08\n",
      "minorAxis_2[iTrk][0][0] =  15.660218\n",
      "minorAxis_2[iTrk][1][0] =  -8.179626\n",
      "minorAxis_2[iTrk][2][0] =  0.06320469\n",
      "  \n",
      "majorAxis[iTrk][0][0] =  -0.00020603223\n",
      "majorAxis[iTrk][1][0] =  -0.0005662605\n",
      "majorAxis[iTrk][2][0] =  0.10317981\n",
      "minorAxis_1[iTrk][0][0] =  -16.603\n",
      "minorAxis_1[iTrk][1][0] =  6.040953\n",
      "minorAxis_1[iTrk][2][0] =  4.5812504e-07\n",
      "minorAxis_2[iTrk][0][0] =  6.0408506\n",
      "minorAxis_2[iTrk][1][0] =  16.602718\n",
      "minorAxis_2[iTrk][2][0] =  0.10317982\n",
      "  \n",
      "majorAxis[iTrk][0][0] =  -0.00040561036\n",
      "majorAxis[iTrk][1][0] =  0.00014461782\n",
      "majorAxis[iTrk][2][0] =  0.0872241\n",
      "minorAxis_1[iTrk][0][0] =  -5.933496\n",
      "minorAxis_1[iTrk][1][0] =  -16.641706\n",
      "minorAxis_1[iTrk][2][0] =  1.0720762e-08\n",
      "minorAxis_2[iTrk][0][0] =  -16.641502\n",
      "minorAxis_2[iTrk][1][0] =  5.9334235\n",
      "minorAxis_2[iTrk][2][0] =  -0.0872241\n",
      "  \n",
      "majorAxis[iTrk][0][0] =  0.00038461428\n",
      "majorAxis[iTrk][1][0] =  -3.4232737e-05\n",
      "majorAxis[iTrk][2][0] =  0.08259597\n",
      "minorAxis_1[iTrk][0][0] =  -1.5663412\n",
      "minorAxis_1[iTrk][1][0] =  -17.598276\n",
      "minorAxis_1[iTrk][2][0] =  3.2106848e-07\n",
      "minorAxis_2[iTrk][0][0] =  -17.598082\n",
      "minorAxis_2[iTrk][1][0] =  1.5663238\n",
      "minorAxis_2[iTrk][2][0] =  0.08259596\n",
      "  \n",
      "majorAxis[iTrk][0][0] =  -0.022277953\n",
      "majorAxis[iTrk][1][0] =  -0.0046837274\n",
      "majorAxis[iTrk][2][0] =  0.63399464\n",
      "minorAxis_1[iTrk][0][0] =  -3.6350286\n",
      "minorAxis_1[iTrk][1][0] =  17.289862\n",
      "minorAxis_1[iTrk][2][0] =  9.566169e-10\n",
      "minorAxis_2[iTrk][0][0] =  17.278727\n",
      "minorAxis_2[iTrk][1][0] =  3.6326876\n",
      "minorAxis_2[iTrk][2][0] =  0.6339946\n",
      "  \n",
      "len(X) =  20000\n",
      "len(Xlist) =  1\n",
      "Loaded dataAA/20K_POCA_kernel_evts_200926.h5 in 36.81 s\n",
      "outer loop X.shape =  (20000, 9, 600)\n",
      "Constructing 10000 event dataset took 0.05317 s\n",
      "x_t.shape =  torch.Size([10000, 9, 600])\n",
      "x_t.shape[0] =  10000\n",
      "x_t.shape[1] =  9\n",
      "x_t.shape =  torch.Size([10000, 9, 600])\n"
     ]
    }
   ],
   "source": [
    "                            \n",
    "# Validation dataset. You can slice to reduce the size.\n",
    "## mds no separate validation set yet,\n",
    "\n",
    "## For iter12, change slice(18000,None) to slice(10000,None)\n",
    "## First, we'll see if this changes the validation cost significantly\n",
    "##  Second, we will see if this reduces the validation cost fluctuations\n",
    "val_loader = collect_t2kde_data('dataAA/20K_POCA_kernel_evts_200926.h5',\n",
    "                            batch_size=batch_size,\n",
    "##                            device=device,\n",
    "                            slice = slice(10000,None)\n",
    "                           )"
   ]
  },
  {
   "cell_type": "code",
   "execution_count": 17,
   "metadata": {
    "scrolled": false
   },
   "outputs": [
    {
     "data": {
      "application/javascript": [
       "/* Put everything inside the global mpl namespace */\n",
       "window.mpl = {};\n",
       "\n",
       "\n",
       "mpl.get_websocket_type = function() {\n",
       "    if (typeof(WebSocket) !== 'undefined') {\n",
       "        return WebSocket;\n",
       "    } else if (typeof(MozWebSocket) !== 'undefined') {\n",
       "        return MozWebSocket;\n",
       "    } else {\n",
       "        alert('Your browser does not have WebSocket support. ' +\n",
       "              'Please try Chrome, Safari or Firefox ≥ 6. ' +\n",
       "              'Firefox 4 and 5 are also supported but you ' +\n",
       "              'have to enable WebSockets in about:config.');\n",
       "    };\n",
       "}\n",
       "\n",
       "mpl.figure = function(figure_id, websocket, ondownload, parent_element) {\n",
       "    this.id = figure_id;\n",
       "\n",
       "    this.ws = websocket;\n",
       "\n",
       "    this.supports_binary = (this.ws.binaryType != undefined);\n",
       "\n",
       "    if (!this.supports_binary) {\n",
       "        var warnings = document.getElementById(\"mpl-warnings\");\n",
       "        if (warnings) {\n",
       "            warnings.style.display = 'block';\n",
       "            warnings.textContent = (\n",
       "                \"This browser does not support binary websocket messages. \" +\n",
       "                    \"Performance may be slow.\");\n",
       "        }\n",
       "    }\n",
       "\n",
       "    this.imageObj = new Image();\n",
       "\n",
       "    this.context = undefined;\n",
       "    this.message = undefined;\n",
       "    this.canvas = undefined;\n",
       "    this.rubberband_canvas = undefined;\n",
       "    this.rubberband_context = undefined;\n",
       "    this.format_dropdown = undefined;\n",
       "\n",
       "    this.image_mode = 'full';\n",
       "\n",
       "    this.root = $('<div/>');\n",
       "    this._root_extra_style(this.root)\n",
       "    this.root.attr('style', 'display: inline-block');\n",
       "\n",
       "    $(parent_element).append(this.root);\n",
       "\n",
       "    this._init_header(this);\n",
       "    this._init_canvas(this);\n",
       "    this._init_toolbar(this);\n",
       "\n",
       "    var fig = this;\n",
       "\n",
       "    this.waiting = false;\n",
       "\n",
       "    this.ws.onopen =  function () {\n",
       "            fig.send_message(\"supports_binary\", {value: fig.supports_binary});\n",
       "            fig.send_message(\"send_image_mode\", {});\n",
       "            if (mpl.ratio != 1) {\n",
       "                fig.send_message(\"set_dpi_ratio\", {'dpi_ratio': mpl.ratio});\n",
       "            }\n",
       "            fig.send_message(\"refresh\", {});\n",
       "        }\n",
       "\n",
       "    this.imageObj.onload = function() {\n",
       "            if (fig.image_mode == 'full') {\n",
       "                // Full images could contain transparency (where diff images\n",
       "                // almost always do), so we need to clear the canvas so that\n",
       "                // there is no ghosting.\n",
       "                fig.context.clearRect(0, 0, fig.canvas.width, fig.canvas.height);\n",
       "            }\n",
       "            fig.context.drawImage(fig.imageObj, 0, 0);\n",
       "        };\n",
       "\n",
       "    this.imageObj.onunload = function() {\n",
       "        fig.ws.close();\n",
       "    }\n",
       "\n",
       "    this.ws.onmessage = this._make_on_message_function(this);\n",
       "\n",
       "    this.ondownload = ondownload;\n",
       "}\n",
       "\n",
       "mpl.figure.prototype._init_header = function() {\n",
       "    var titlebar = $(\n",
       "        '<div class=\"ui-dialog-titlebar ui-widget-header ui-corner-all ' +\n",
       "        'ui-helper-clearfix\"/>');\n",
       "    var titletext = $(\n",
       "        '<div class=\"ui-dialog-title\" style=\"width: 100%; ' +\n",
       "        'text-align: center; padding: 3px;\"/>');\n",
       "    titlebar.append(titletext)\n",
       "    this.root.append(titlebar);\n",
       "    this.header = titletext[0];\n",
       "}\n",
       "\n",
       "\n",
       "\n",
       "mpl.figure.prototype._canvas_extra_style = function(canvas_div) {\n",
       "\n",
       "}\n",
       "\n",
       "\n",
       "mpl.figure.prototype._root_extra_style = function(canvas_div) {\n",
       "\n",
       "}\n",
       "\n",
       "mpl.figure.prototype._init_canvas = function() {\n",
       "    var fig = this;\n",
       "\n",
       "    var canvas_div = $('<div/>');\n",
       "\n",
       "    canvas_div.attr('style', 'position: relative; clear: both; outline: 0');\n",
       "\n",
       "    function canvas_keyboard_event(event) {\n",
       "        return fig.key_event(event, event['data']);\n",
       "    }\n",
       "\n",
       "    canvas_div.keydown('key_press', canvas_keyboard_event);\n",
       "    canvas_div.keyup('key_release', canvas_keyboard_event);\n",
       "    this.canvas_div = canvas_div\n",
       "    this._canvas_extra_style(canvas_div)\n",
       "    this.root.append(canvas_div);\n",
       "\n",
       "    var canvas = $('<canvas/>');\n",
       "    canvas.addClass('mpl-canvas');\n",
       "    canvas.attr('style', \"left: 0; top: 0; z-index: 0; outline: 0\")\n",
       "\n",
       "    this.canvas = canvas[0];\n",
       "    this.context = canvas[0].getContext(\"2d\");\n",
       "\n",
       "    var backingStore = this.context.backingStorePixelRatio ||\n",
       "\tthis.context.webkitBackingStorePixelRatio ||\n",
       "\tthis.context.mozBackingStorePixelRatio ||\n",
       "\tthis.context.msBackingStorePixelRatio ||\n",
       "\tthis.context.oBackingStorePixelRatio ||\n",
       "\tthis.context.backingStorePixelRatio || 1;\n",
       "\n",
       "    mpl.ratio = (window.devicePixelRatio || 1) / backingStore;\n",
       "\n",
       "    var rubberband = $('<canvas/>');\n",
       "    rubberband.attr('style', \"position: absolute; left: 0; top: 0; z-index: 1;\")\n",
       "\n",
       "    var pass_mouse_events = true;\n",
       "\n",
       "    canvas_div.resizable({\n",
       "        start: function(event, ui) {\n",
       "            pass_mouse_events = false;\n",
       "        },\n",
       "        resize: function(event, ui) {\n",
       "            fig.request_resize(ui.size.width, ui.size.height);\n",
       "        },\n",
       "        stop: function(event, ui) {\n",
       "            pass_mouse_events = true;\n",
       "            fig.request_resize(ui.size.width, ui.size.height);\n",
       "        },\n",
       "    });\n",
       "\n",
       "    function mouse_event_fn(event) {\n",
       "        if (pass_mouse_events)\n",
       "            return fig.mouse_event(event, event['data']);\n",
       "    }\n",
       "\n",
       "    rubberband.mousedown('button_press', mouse_event_fn);\n",
       "    rubberband.mouseup('button_release', mouse_event_fn);\n",
       "    // Throttle sequential mouse events to 1 every 20ms.\n",
       "    rubberband.mousemove('motion_notify', mouse_event_fn);\n",
       "\n",
       "    rubberband.mouseenter('figure_enter', mouse_event_fn);\n",
       "    rubberband.mouseleave('figure_leave', mouse_event_fn);\n",
       "\n",
       "    canvas_div.on(\"wheel\", function (event) {\n",
       "        event = event.originalEvent;\n",
       "        event['data'] = 'scroll'\n",
       "        if (event.deltaY < 0) {\n",
       "            event.step = 1;\n",
       "        } else {\n",
       "            event.step = -1;\n",
       "        }\n",
       "        mouse_event_fn(event);\n",
       "    });\n",
       "\n",
       "    canvas_div.append(canvas);\n",
       "    canvas_div.append(rubberband);\n",
       "\n",
       "    this.rubberband = rubberband;\n",
       "    this.rubberband_canvas = rubberband[0];\n",
       "    this.rubberband_context = rubberband[0].getContext(\"2d\");\n",
       "    this.rubberband_context.strokeStyle = \"#000000\";\n",
       "\n",
       "    this._resize_canvas = function(width, height) {\n",
       "        // Keep the size of the canvas, canvas container, and rubber band\n",
       "        // canvas in synch.\n",
       "        canvas_div.css('width', width)\n",
       "        canvas_div.css('height', height)\n",
       "\n",
       "        canvas.attr('width', width * mpl.ratio);\n",
       "        canvas.attr('height', height * mpl.ratio);\n",
       "        canvas.attr('style', 'width: ' + width + 'px; height: ' + height + 'px;');\n",
       "\n",
       "        rubberband.attr('width', width);\n",
       "        rubberband.attr('height', height);\n",
       "    }\n",
       "\n",
       "    // Set the figure to an initial 600x600px, this will subsequently be updated\n",
       "    // upon first draw.\n",
       "    this._resize_canvas(600, 600);\n",
       "\n",
       "    // Disable right mouse context menu.\n",
       "    $(this.rubberband_canvas).bind(\"contextmenu\",function(e){\n",
       "        return false;\n",
       "    });\n",
       "\n",
       "    function set_focus () {\n",
       "        canvas.focus();\n",
       "        canvas_div.focus();\n",
       "    }\n",
       "\n",
       "    window.setTimeout(set_focus, 100);\n",
       "}\n",
       "\n",
       "mpl.figure.prototype._init_toolbar = function() {\n",
       "    var fig = this;\n",
       "\n",
       "    var nav_element = $('<div/>');\n",
       "    nav_element.attr('style', 'width: 100%');\n",
       "    this.root.append(nav_element);\n",
       "\n",
       "    // Define a callback function for later on.\n",
       "    function toolbar_event(event) {\n",
       "        return fig.toolbar_button_onclick(event['data']);\n",
       "    }\n",
       "    function toolbar_mouse_event(event) {\n",
       "        return fig.toolbar_button_onmouseover(event['data']);\n",
       "    }\n",
       "\n",
       "    for(var toolbar_ind in mpl.toolbar_items) {\n",
       "        var name = mpl.toolbar_items[toolbar_ind][0];\n",
       "        var tooltip = mpl.toolbar_items[toolbar_ind][1];\n",
       "        var image = mpl.toolbar_items[toolbar_ind][2];\n",
       "        var method_name = mpl.toolbar_items[toolbar_ind][3];\n",
       "\n",
       "        if (!name) {\n",
       "            // put a spacer in here.\n",
       "            continue;\n",
       "        }\n",
       "        var button = $('<button/>');\n",
       "        button.addClass('ui-button ui-widget ui-state-default ui-corner-all ' +\n",
       "                        'ui-button-icon-only');\n",
       "        button.attr('role', 'button');\n",
       "        button.attr('aria-disabled', 'false');\n",
       "        button.click(method_name, toolbar_event);\n",
       "        button.mouseover(tooltip, toolbar_mouse_event);\n",
       "\n",
       "        var icon_img = $('<span/>');\n",
       "        icon_img.addClass('ui-button-icon-primary ui-icon');\n",
       "        icon_img.addClass(image);\n",
       "        icon_img.addClass('ui-corner-all');\n",
       "\n",
       "        var tooltip_span = $('<span/>');\n",
       "        tooltip_span.addClass('ui-button-text');\n",
       "        tooltip_span.html(tooltip);\n",
       "\n",
       "        button.append(icon_img);\n",
       "        button.append(tooltip_span);\n",
       "\n",
       "        nav_element.append(button);\n",
       "    }\n",
       "\n",
       "    var fmt_picker_span = $('<span/>');\n",
       "\n",
       "    var fmt_picker = $('<select/>');\n",
       "    fmt_picker.addClass('mpl-toolbar-option ui-widget ui-widget-content');\n",
       "    fmt_picker_span.append(fmt_picker);\n",
       "    nav_element.append(fmt_picker_span);\n",
       "    this.format_dropdown = fmt_picker[0];\n",
       "\n",
       "    for (var ind in mpl.extensions) {\n",
       "        var fmt = mpl.extensions[ind];\n",
       "        var option = $(\n",
       "            '<option/>', {selected: fmt === mpl.default_extension}).html(fmt);\n",
       "        fmt_picker.append(option);\n",
       "    }\n",
       "\n",
       "    // Add hover states to the ui-buttons\n",
       "    $( \".ui-button\" ).hover(\n",
       "        function() { $(this).addClass(\"ui-state-hover\");},\n",
       "        function() { $(this).removeClass(\"ui-state-hover\");}\n",
       "    );\n",
       "\n",
       "    var status_bar = $('<span class=\"mpl-message\"/>');\n",
       "    nav_element.append(status_bar);\n",
       "    this.message = status_bar[0];\n",
       "}\n",
       "\n",
       "mpl.figure.prototype.request_resize = function(x_pixels, y_pixels) {\n",
       "    // Request matplotlib to resize the figure. Matplotlib will then trigger a resize in the client,\n",
       "    // which will in turn request a refresh of the image.\n",
       "    this.send_message('resize', {'width': x_pixels, 'height': y_pixels});\n",
       "}\n",
       "\n",
       "mpl.figure.prototype.send_message = function(type, properties) {\n",
       "    properties['type'] = type;\n",
       "    properties['figure_id'] = this.id;\n",
       "    this.ws.send(JSON.stringify(properties));\n",
       "}\n",
       "\n",
       "mpl.figure.prototype.send_draw_message = function() {\n",
       "    if (!this.waiting) {\n",
       "        this.waiting = true;\n",
       "        this.ws.send(JSON.stringify({type: \"draw\", figure_id: this.id}));\n",
       "    }\n",
       "}\n",
       "\n",
       "\n",
       "mpl.figure.prototype.handle_save = function(fig, msg) {\n",
       "    var format_dropdown = fig.format_dropdown;\n",
       "    var format = format_dropdown.options[format_dropdown.selectedIndex].value;\n",
       "    fig.ondownload(fig, format);\n",
       "}\n",
       "\n",
       "\n",
       "mpl.figure.prototype.handle_resize = function(fig, msg) {\n",
       "    var size = msg['size'];\n",
       "    if (size[0] != fig.canvas.width || size[1] != fig.canvas.height) {\n",
       "        fig._resize_canvas(size[0], size[1]);\n",
       "        fig.send_message(\"refresh\", {});\n",
       "    };\n",
       "}\n",
       "\n",
       "mpl.figure.prototype.handle_rubberband = function(fig, msg) {\n",
       "    var x0 = msg['x0'] / mpl.ratio;\n",
       "    var y0 = (fig.canvas.height - msg['y0']) / mpl.ratio;\n",
       "    var x1 = msg['x1'] / mpl.ratio;\n",
       "    var y1 = (fig.canvas.height - msg['y1']) / mpl.ratio;\n",
       "    x0 = Math.floor(x0) + 0.5;\n",
       "    y0 = Math.floor(y0) + 0.5;\n",
       "    x1 = Math.floor(x1) + 0.5;\n",
       "    y1 = Math.floor(y1) + 0.5;\n",
       "    var min_x = Math.min(x0, x1);\n",
       "    var min_y = Math.min(y0, y1);\n",
       "    var width = Math.abs(x1 - x0);\n",
       "    var height = Math.abs(y1 - y0);\n",
       "\n",
       "    fig.rubberband_context.clearRect(\n",
       "        0, 0, fig.canvas.width / mpl.ratio, fig.canvas.height / mpl.ratio);\n",
       "\n",
       "    fig.rubberband_context.strokeRect(min_x, min_y, width, height);\n",
       "}\n",
       "\n",
       "mpl.figure.prototype.handle_figure_label = function(fig, msg) {\n",
       "    // Updates the figure title.\n",
       "    fig.header.textContent = msg['label'];\n",
       "}\n",
       "\n",
       "mpl.figure.prototype.handle_cursor = function(fig, msg) {\n",
       "    var cursor = msg['cursor'];\n",
       "    switch(cursor)\n",
       "    {\n",
       "    case 0:\n",
       "        cursor = 'pointer';\n",
       "        break;\n",
       "    case 1:\n",
       "        cursor = 'default';\n",
       "        break;\n",
       "    case 2:\n",
       "        cursor = 'crosshair';\n",
       "        break;\n",
       "    case 3:\n",
       "        cursor = 'move';\n",
       "        break;\n",
       "    }\n",
       "    fig.rubberband_canvas.style.cursor = cursor;\n",
       "}\n",
       "\n",
       "mpl.figure.prototype.handle_message = function(fig, msg) {\n",
       "    fig.message.textContent = msg['message'];\n",
       "}\n",
       "\n",
       "mpl.figure.prototype.handle_draw = function(fig, msg) {\n",
       "    // Request the server to send over a new figure.\n",
       "    fig.send_draw_message();\n",
       "}\n",
       "\n",
       "mpl.figure.prototype.handle_image_mode = function(fig, msg) {\n",
       "    fig.image_mode = msg['mode'];\n",
       "}\n",
       "\n",
       "mpl.figure.prototype.updated_canvas_event = function() {\n",
       "    // Called whenever the canvas gets updated.\n",
       "    this.send_message(\"ack\", {});\n",
       "}\n",
       "\n",
       "// A function to construct a web socket function for onmessage handling.\n",
       "// Called in the figure constructor.\n",
       "mpl.figure.prototype._make_on_message_function = function(fig) {\n",
       "    return function socket_on_message(evt) {\n",
       "        if (evt.data instanceof Blob) {\n",
       "            /* FIXME: We get \"Resource interpreted as Image but\n",
       "             * transferred with MIME type text/plain:\" errors on\n",
       "             * Chrome.  But how to set the MIME type?  It doesn't seem\n",
       "             * to be part of the websocket stream */\n",
       "            evt.data.type = \"image/png\";\n",
       "\n",
       "            /* Free the memory for the previous frames */\n",
       "            if (fig.imageObj.src) {\n",
       "                (window.URL || window.webkitURL).revokeObjectURL(\n",
       "                    fig.imageObj.src);\n",
       "            }\n",
       "\n",
       "            fig.imageObj.src = (window.URL || window.webkitURL).createObjectURL(\n",
       "                evt.data);\n",
       "            fig.updated_canvas_event();\n",
       "            fig.waiting = false;\n",
       "            return;\n",
       "        }\n",
       "        else if (typeof evt.data === 'string' && evt.data.slice(0, 21) == \"data:image/png;base64\") {\n",
       "            fig.imageObj.src = evt.data;\n",
       "            fig.updated_canvas_event();\n",
       "            fig.waiting = false;\n",
       "            return;\n",
       "        }\n",
       "\n",
       "        var msg = JSON.parse(evt.data);\n",
       "        var msg_type = msg['type'];\n",
       "\n",
       "        // Call the  \"handle_{type}\" callback, which takes\n",
       "        // the figure and JSON message as its only arguments.\n",
       "        try {\n",
       "            var callback = fig[\"handle_\" + msg_type];\n",
       "        } catch (e) {\n",
       "            console.log(\"No handler for the '\" + msg_type + \"' message type: \", msg);\n",
       "            return;\n",
       "        }\n",
       "\n",
       "        if (callback) {\n",
       "            try {\n",
       "                // console.log(\"Handling '\" + msg_type + \"' message: \", msg);\n",
       "                callback(fig, msg);\n",
       "            } catch (e) {\n",
       "                console.log(\"Exception inside the 'handler_\" + msg_type + \"' callback:\", e, e.stack, msg);\n",
       "            }\n",
       "        }\n",
       "    };\n",
       "}\n",
       "\n",
       "// from http://stackoverflow.com/questions/1114465/getting-mouse-location-in-canvas\n",
       "mpl.findpos = function(e) {\n",
       "    //this section is from http://www.quirksmode.org/js/events_properties.html\n",
       "    var targ;\n",
       "    if (!e)\n",
       "        e = window.event;\n",
       "    if (e.target)\n",
       "        targ = e.target;\n",
       "    else if (e.srcElement)\n",
       "        targ = e.srcElement;\n",
       "    if (targ.nodeType == 3) // defeat Safari bug\n",
       "        targ = targ.parentNode;\n",
       "\n",
       "    // jQuery normalizes the pageX and pageY\n",
       "    // pageX,Y are the mouse positions relative to the document\n",
       "    // offset() returns the position of the element relative to the document\n",
       "    var x = e.pageX - $(targ).offset().left;\n",
       "    var y = e.pageY - $(targ).offset().top;\n",
       "\n",
       "    return {\"x\": x, \"y\": y};\n",
       "};\n",
       "\n",
       "/*\n",
       " * return a copy of an object with only non-object keys\n",
       " * we need this to avoid circular references\n",
       " * http://stackoverflow.com/a/24161582/3208463\n",
       " */\n",
       "function simpleKeys (original) {\n",
       "  return Object.keys(original).reduce(function (obj, key) {\n",
       "    if (typeof original[key] !== 'object')\n",
       "        obj[key] = original[key]\n",
       "    return obj;\n",
       "  }, {});\n",
       "}\n",
       "\n",
       "mpl.figure.prototype.mouse_event = function(event, name) {\n",
       "    var canvas_pos = mpl.findpos(event)\n",
       "\n",
       "    if (name === 'button_press')\n",
       "    {\n",
       "        this.canvas.focus();\n",
       "        this.canvas_div.focus();\n",
       "    }\n",
       "\n",
       "    var x = canvas_pos.x * mpl.ratio;\n",
       "    var y = canvas_pos.y * mpl.ratio;\n",
       "\n",
       "    this.send_message(name, {x: x, y: y, button: event.button,\n",
       "                             step: event.step,\n",
       "                             guiEvent: simpleKeys(event)});\n",
       "\n",
       "    /* This prevents the web browser from automatically changing to\n",
       "     * the text insertion cursor when the button is pressed.  We want\n",
       "     * to control all of the cursor setting manually through the\n",
       "     * 'cursor' event from matplotlib */\n",
       "    event.preventDefault();\n",
       "    return false;\n",
       "}\n",
       "\n",
       "mpl.figure.prototype._key_event_extra = function(event, name) {\n",
       "    // Handle any extra behaviour associated with a key event\n",
       "}\n",
       "\n",
       "mpl.figure.prototype.key_event = function(event, name) {\n",
       "\n",
       "    // Prevent repeat events\n",
       "    if (name == 'key_press')\n",
       "    {\n",
       "        if (event.which === this._key)\n",
       "            return;\n",
       "        else\n",
       "            this._key = event.which;\n",
       "    }\n",
       "    if (name == 'key_release')\n",
       "        this._key = null;\n",
       "\n",
       "    var value = '';\n",
       "    if (event.ctrlKey && event.which != 17)\n",
       "        value += \"ctrl+\";\n",
       "    if (event.altKey && event.which != 18)\n",
       "        value += \"alt+\";\n",
       "    if (event.shiftKey && event.which != 16)\n",
       "        value += \"shift+\";\n",
       "\n",
       "    value += 'k';\n",
       "    value += event.which.toString();\n",
       "\n",
       "    this._key_event_extra(event, name);\n",
       "\n",
       "    this.send_message(name, {key: value,\n",
       "                             guiEvent: simpleKeys(event)});\n",
       "    return false;\n",
       "}\n",
       "\n",
       "mpl.figure.prototype.toolbar_button_onclick = function(name) {\n",
       "    if (name == 'download') {\n",
       "        this.handle_save(this, null);\n",
       "    } else {\n",
       "        this.send_message(\"toolbar_button\", {name: name});\n",
       "    }\n",
       "};\n",
       "\n",
       "mpl.figure.prototype.toolbar_button_onmouseover = function(tooltip) {\n",
       "    this.message.textContent = tooltip;\n",
       "};\n",
       "mpl.toolbar_items = [[\"Home\", \"Reset original view\", \"fa fa-home icon-home\", \"home\"], [\"Back\", \"Back to previous view\", \"fa fa-arrow-left icon-arrow-left\", \"back\"], [\"Forward\", \"Forward to next view\", \"fa fa-arrow-right icon-arrow-right\", \"forward\"], [\"\", \"\", \"\", \"\"], [\"Pan\", \"Pan axes with left mouse, zoom with right\", \"fa fa-arrows icon-move\", \"pan\"], [\"Zoom\", \"Zoom to rectangle\", \"fa fa-square-o icon-check-empty\", \"zoom\"], [\"\", \"\", \"\", \"\"], [\"Download\", \"Download plot\", \"fa fa-floppy-o icon-save\", \"download\"]];\n",
       "\n",
       "mpl.extensions = [\"eps\", \"jpeg\", \"pdf\", \"png\", \"ps\", \"raw\", \"svg\", \"tif\"];\n",
       "\n",
       "mpl.default_extension = \"png\";var comm_websocket_adapter = function(comm) {\n",
       "    // Create a \"websocket\"-like object which calls the given IPython comm\n",
       "    // object with the appropriate methods. Currently this is a non binary\n",
       "    // socket, so there is still some room for performance tuning.\n",
       "    var ws = {};\n",
       "\n",
       "    ws.close = function() {\n",
       "        comm.close()\n",
       "    };\n",
       "    ws.send = function(m) {\n",
       "        //console.log('sending', m);\n",
       "        comm.send(m);\n",
       "    };\n",
       "    // Register the callback with on_msg.\n",
       "    comm.on_msg(function(msg) {\n",
       "        //console.log('receiving', msg['content']['data'], msg);\n",
       "        // Pass the mpl event to the overridden (by mpl) onmessage function.\n",
       "        ws.onmessage(msg['content']['data'])\n",
       "    });\n",
       "    return ws;\n",
       "}\n",
       "\n",
       "mpl.mpl_figure_comm = function(comm, msg) {\n",
       "    // This is the function which gets called when the mpl process\n",
       "    // starts-up an IPython Comm through the \"matplotlib\" channel.\n",
       "\n",
       "    var id = msg.content.data.id;\n",
       "    // Get hold of the div created by the display call when the Comm\n",
       "    // socket was opened in Python.\n",
       "    var element = $(\"#\" + id);\n",
       "    var ws_proxy = comm_websocket_adapter(comm)\n",
       "\n",
       "    function ondownload(figure, format) {\n",
       "        window.open(figure.imageObj.src);\n",
       "    }\n",
       "\n",
       "    var fig = new mpl.figure(id, ws_proxy,\n",
       "                           ondownload,\n",
       "                           element.get(0));\n",
       "\n",
       "    // Call onopen now - mpl needs it, as it is assuming we've passed it a real\n",
       "    // web socket which is closed, not our websocket->open comm proxy.\n",
       "    ws_proxy.onopen();\n",
       "\n",
       "    fig.parent_element = element.get(0);\n",
       "    fig.cell_info = mpl.find_output_cell(\"<div id='\" + id + \"'></div>\");\n",
       "    if (!fig.cell_info) {\n",
       "        console.error(\"Failed to find cell for figure\", id, fig);\n",
       "        return;\n",
       "    }\n",
       "\n",
       "    var output_index = fig.cell_info[2]\n",
       "    var cell = fig.cell_info[0];\n",
       "\n",
       "};\n",
       "\n",
       "mpl.figure.prototype.handle_close = function(fig, msg) {\n",
       "    var width = fig.canvas.width/mpl.ratio\n",
       "    fig.root.unbind('remove')\n",
       "\n",
       "    // Update the output cell to use the data from the current canvas.\n",
       "    fig.push_to_output();\n",
       "    var dataURL = fig.canvas.toDataURL();\n",
       "    // Re-enable the keyboard manager in IPython - without this line, in FF,\n",
       "    // the notebook keyboard shortcuts fail.\n",
       "    IPython.keyboard_manager.enable()\n",
       "    $(fig.parent_element).html('<img src=\"' + dataURL + '\" width=\"' + width + '\">');\n",
       "    fig.close_ws(fig, msg);\n",
       "}\n",
       "\n",
       "mpl.figure.prototype.close_ws = function(fig, msg){\n",
       "    fig.send_message('closing', msg);\n",
       "    // fig.ws.close()\n",
       "}\n",
       "\n",
       "mpl.figure.prototype.push_to_output = function(remove_interactive) {\n",
       "    // Turn the data on the canvas into data in the output cell.\n",
       "    var width = this.canvas.width/mpl.ratio\n",
       "    var dataURL = this.canvas.toDataURL();\n",
       "    this.cell_info[1]['text/html'] = '<img src=\"' + dataURL + '\" width=\"' + width + '\">';\n",
       "}\n",
       "\n",
       "mpl.figure.prototype.updated_canvas_event = function() {\n",
       "    // Tell IPython that the notebook contents must change.\n",
       "    IPython.notebook.set_dirty(true);\n",
       "    this.send_message(\"ack\", {});\n",
       "    var fig = this;\n",
       "    // Wait a second, then push the new image to the DOM so\n",
       "    // that it is saved nicely (might be nice to debounce this).\n",
       "    setTimeout(function () { fig.push_to_output() }, 1000);\n",
       "}\n",
       "\n",
       "mpl.figure.prototype._init_toolbar = function() {\n",
       "    var fig = this;\n",
       "\n",
       "    var nav_element = $('<div/>');\n",
       "    nav_element.attr('style', 'width: 100%');\n",
       "    this.root.append(nav_element);\n",
       "\n",
       "    // Define a callback function for later on.\n",
       "    function toolbar_event(event) {\n",
       "        return fig.toolbar_button_onclick(event['data']);\n",
       "    }\n",
       "    function toolbar_mouse_event(event) {\n",
       "        return fig.toolbar_button_onmouseover(event['data']);\n",
       "    }\n",
       "\n",
       "    for(var toolbar_ind in mpl.toolbar_items){\n",
       "        var name = mpl.toolbar_items[toolbar_ind][0];\n",
       "        var tooltip = mpl.toolbar_items[toolbar_ind][1];\n",
       "        var image = mpl.toolbar_items[toolbar_ind][2];\n",
       "        var method_name = mpl.toolbar_items[toolbar_ind][3];\n",
       "\n",
       "        if (!name) { continue; };\n",
       "\n",
       "        var button = $('<button class=\"btn btn-default\" href=\"#\" title=\"' + name + '\"><i class=\"fa ' + image + ' fa-lg\"></i></button>');\n",
       "        button.click(method_name, toolbar_event);\n",
       "        button.mouseover(tooltip, toolbar_mouse_event);\n",
       "        nav_element.append(button);\n",
       "    }\n",
       "\n",
       "    // Add the status bar.\n",
       "    var status_bar = $('<span class=\"mpl-message\" style=\"text-align:right; float: right;\"/>');\n",
       "    nav_element.append(status_bar);\n",
       "    this.message = status_bar[0];\n",
       "\n",
       "    // Add the close button to the window.\n",
       "    var buttongrp = $('<div class=\"btn-group inline pull-right\"></div>');\n",
       "    var button = $('<button class=\"btn btn-mini btn-primary\" href=\"#\" title=\"Stop Interaction\"><i class=\"fa fa-power-off icon-remove icon-large\"></i></button>');\n",
       "    button.click(function (evt) { fig.handle_close(fig, {}); } );\n",
       "    button.mouseover('Stop Interaction', toolbar_mouse_event);\n",
       "    buttongrp.append(button);\n",
       "    var titlebar = this.root.find($('.ui-dialog-titlebar'));\n",
       "    titlebar.prepend(buttongrp);\n",
       "}\n",
       "\n",
       "mpl.figure.prototype._root_extra_style = function(el){\n",
       "    var fig = this\n",
       "    el.on(\"remove\", function(){\n",
       "\tfig.close_ws(fig, {});\n",
       "    });\n",
       "}\n",
       "\n",
       "mpl.figure.prototype._canvas_extra_style = function(el){\n",
       "    // this is important to make the div 'focusable\n",
       "    el.attr('tabindex', 0)\n",
       "    // reach out to IPython and tell the keyboard manager to turn it's self\n",
       "    // off when our div gets focus\n",
       "\n",
       "    // location in version 3\n",
       "    if (IPython.notebook.keyboard_manager) {\n",
       "        IPython.notebook.keyboard_manager.register_events(el);\n",
       "    }\n",
       "    else {\n",
       "        // location in version 2\n",
       "        IPython.keyboard_manager.register_events(el);\n",
       "    }\n",
       "\n",
       "}\n",
       "\n",
       "mpl.figure.prototype._key_event_extra = function(event, name) {\n",
       "    var manager = IPython.notebook.keyboard_manager;\n",
       "    if (!manager)\n",
       "        manager = IPython.keyboard_manager;\n",
       "\n",
       "    // Check for shift+enter\n",
       "    if (event.shiftKey && event.which == 13) {\n",
       "        this.canvas_div.blur();\n",
       "        // select the cell after this one\n",
       "        var index = IPython.notebook.find_cell_index(this.cell_info[0]);\n",
       "        IPython.notebook.select(index + 1);\n",
       "    }\n",
       "}\n",
       "\n",
       "mpl.figure.prototype.handle_save = function(fig, msg) {\n",
       "    fig.ondownload(fig, null);\n",
       "}\n",
       "\n",
       "\n",
       "mpl.find_output_cell = function(html_output) {\n",
       "    // Return the cell and output element which can be found *uniquely* in the notebook.\n",
       "    // Note - this is a bit hacky, but it is done because the \"notebook_saving.Notebook\"\n",
       "    // IPython event is triggered only after the cells have been serialised, which for\n",
       "    // our purposes (turning an active figure into a static one), is too late.\n",
       "    var cells = IPython.notebook.get_cells();\n",
       "    var ncells = cells.length;\n",
       "    for (var i=0; i<ncells; i++) {\n",
       "        var cell = cells[i];\n",
       "        if (cell.cell_type === 'code'){\n",
       "            for (var j=0; j<cell.output_area.outputs.length; j++) {\n",
       "                var data = cell.output_area.outputs[j];\n",
       "                if (data.data) {\n",
       "                    // IPython >= 3 moved mimebundle to data attribute of output\n",
       "                    data = data.data;\n",
       "                }\n",
       "                if (data['text/html'] == html_output) {\n",
       "                    return [cell, data, j];\n",
       "                }\n",
       "            }\n",
       "        }\n",
       "    }\n",
       "}\n",
       "\n",
       "// Register the function which deals with the matplotlib target/channel.\n",
       "// The kernel may be null if the page has been refreshed.\n",
       "if (IPython.notebook.kernel != null) {\n",
       "    IPython.notebook.kernel.comm_manager.register_target('matplotlib', mpl.mpl_figure_comm);\n",
       "}\n"
      ],
      "text/plain": [
       "<IPython.core.display.Javascript object>"
      ]
     },
     "metadata": {},
     "output_type": "display_data"
    },
    {
     "data": {
      "text/html": [
       "<img src=\"data:image/png;base64,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\" width=\"1000\">"
      ],
      "text/plain": [
       "<IPython.core.display.HTML object>"
      ]
     },
     "metadata": {},
     "output_type": "display_data"
    }
   ],
   "source": [
    "ax, lax, lines = dual_train_plots_tracks_to_KDE()\n",
    "fig = ax.figure\n",
    "plt.tight_layout()"
   ]
  },
  {
   "cell_type": "code",
   "execution_count": 18,
   "metadata": {
    "scrolled": false
   },
   "outputs": [
    {
     "name": "stdout",
     "output_type": "stream",
     "text": [
      "Number of batches: train = 5000, val = 157\n"
     ]
    },
    {
     "data": {
      "application/vnd.jupyter.widget-view+json": {
       "model_id": "4412181293f04b28932a1b742e729847",
       "version_major": 2,
       "version_minor": 0
      },
      "text/plain": [
       "HBox(children=(FloatProgress(value=0.0, description='Epochs', layout=Layout(flex='2'), style=ProgressStyle(des…"
      ]
     },
     "metadata": {},
     "output_type": "display_data"
    },
    {
     "name": "stdout",
     "output_type": "stream",
     "text": [
      "Number of batches: train = 5000, val = 157\n"
     ]
    },
    {
     "data": {
      "application/vnd.jupyter.widget-view+json": {
       "model_id": "",
       "version_major": 2,
       "version_minor": 0
      },
      "text/plain": [
       "HBox(children=(FloatProgress(value=0.0, description='Training', layout=Layout(flex='2'), max=5000.0, style=Pro…"
      ]
     },
     "metadata": {},
     "output_type": "display_data"
    },
    {
     "name": "stdout",
     "output_type": "stream",
     "text": [
      "Epoch 0: train=0.553952, val=0.361971, took 582.58 s\n"
     ]
    },
    {
     "data": {
      "application/vnd.jupyter.widget-view+json": {
       "model_id": "",
       "version_major": 2,
       "version_minor": 0
      },
      "text/plain": [
       "HBox(children=(FloatProgress(value=0.0, description='Training', layout=Layout(flex='2'), max=5000.0, style=Pro…"
      ]
     },
     "metadata": {},
     "output_type": "display_data"
    },
    {
     "name": "stdout",
     "output_type": "stream",
     "text": [
      "Epoch 1: train=0.554156, val=0.359324, took 582.32 s\n"
     ]
    },
    {
     "data": {
      "application/vnd.jupyter.widget-view+json": {
       "model_id": "",
       "version_major": 2,
       "version_minor": 0
      },
      "text/plain": [
       "HBox(children=(FloatProgress(value=0.0, description='Training', layout=Layout(flex='2'), max=5000.0, style=Pro…"
      ]
     },
     "metadata": {},
     "output_type": "display_data"
    },
    {
     "name": "stdout",
     "output_type": "stream",
     "text": [
      "Epoch 2: train=0.551602, val=0.356836, took 581.29 s\n"
     ]
    },
    {
     "data": {
      "application/vnd.jupyter.widget-view+json": {
       "model_id": "",
       "version_major": 2,
       "version_minor": 0
      },
      "text/plain": [
       "HBox(children=(FloatProgress(value=0.0, description='Training', layout=Layout(flex='2'), max=5000.0, style=Pro…"
      ]
     },
     "metadata": {},
     "output_type": "display_data"
    },
    {
     "name": "stdout",
     "output_type": "stream",
     "text": [
      "Epoch 3: train=0.554207, val=0.359302, took 578.69 s\n"
     ]
    },
    {
     "data": {
      "application/vnd.jupyter.widget-view+json": {
       "model_id": "",
       "version_major": 2,
       "version_minor": 0
      },
      "text/plain": [
       "HBox(children=(FloatProgress(value=0.0, description='Training', layout=Layout(flex='2'), max=5000.0, style=Pro…"
      ]
     },
     "metadata": {},
     "output_type": "display_data"
    },
    {
     "name": "stdout",
     "output_type": "stream",
     "text": [
      "Epoch 4: train=0.551893, val=0.359356, took 579.34 s\n"
     ]
    },
    {
     "data": {
      "application/vnd.jupyter.widget-view+json": {
       "model_id": "",
       "version_major": 2,
       "version_minor": 0
      },
      "text/plain": [
       "HBox(children=(FloatProgress(value=0.0, description='Training', layout=Layout(flex='2'), max=5000.0, style=Pro…"
      ]
     },
     "metadata": {},
     "output_type": "display_data"
    },
    {
     "name": "stdout",
     "output_type": "stream",
     "text": [
      "Epoch 5: train=0.551391, val=0.366976, took 579.45 s\n"
     ]
    },
    {
     "data": {
      "application/vnd.jupyter.widget-view+json": {
       "model_id": "",
       "version_major": 2,
       "version_minor": 0
      },
      "text/plain": [
       "HBox(children=(FloatProgress(value=0.0, description='Training', layout=Layout(flex='2'), max=5000.0, style=Pro…"
      ]
     },
     "metadata": {},
     "output_type": "display_data"
    },
    {
     "name": "stdout",
     "output_type": "stream",
     "text": [
      "Epoch 6: train=0.551289, val=0.359711, took 578.79 s\n"
     ]
    },
    {
     "data": {
      "application/vnd.jupyter.widget-view+json": {
       "model_id": "",
       "version_major": 2,
       "version_minor": 0
      },
      "text/plain": [
       "HBox(children=(FloatProgress(value=0.0, description='Training', layout=Layout(flex='2'), max=5000.0, style=Pro…"
      ]
     },
     "metadata": {},
     "output_type": "display_data"
    },
    {
     "name": "stdout",
     "output_type": "stream",
     "text": [
      "Epoch 7: train=0.552806, val=0.369493, took 578.48 s\n"
     ]
    },
    {
     "data": {
      "application/vnd.jupyter.widget-view+json": {
       "model_id": "",
       "version_major": 2,
       "version_minor": 0
      },
      "text/plain": [
       "HBox(children=(FloatProgress(value=0.0, description='Training', layout=Layout(flex='2'), max=5000.0, style=Pro…"
      ]
     },
     "metadata": {},
     "output_type": "display_data"
    },
    {
     "name": "stdout",
     "output_type": "stream",
     "text": [
      "Epoch 8: train=0.55281, val=0.361319, took 579.03 s\n"
     ]
    },
    {
     "data": {
      "application/vnd.jupyter.widget-view+json": {
       "model_id": "",
       "version_major": 2,
       "version_minor": 0
      },
      "text/plain": [
       "HBox(children=(FloatProgress(value=0.0, description='Training', layout=Layout(flex='2'), max=5000.0, style=Pro…"
      ]
     },
     "metadata": {},
     "output_type": "display_data"
    },
    {
     "name": "stdout",
     "output_type": "stream",
     "text": [
      "Epoch 9: train=0.552071, val=0.361416, took 578.78 s\n"
     ]
    },
    {
     "data": {
      "application/vnd.jupyter.widget-view+json": {
       "model_id": "",
       "version_major": 2,
       "version_minor": 0
      },
      "text/plain": [
       "HBox(children=(FloatProgress(value=0.0, description='Training', layout=Layout(flex='2'), max=5000.0, style=Pro…"
      ]
     },
     "metadata": {},
     "output_type": "display_data"
    },
    {
     "name": "stdout",
     "output_type": "stream",
     "text": [
      "Epoch 10: train=0.553195, val=0.355465, took 578.82 s\n"
     ]
    },
    {
     "data": {
      "application/vnd.jupyter.widget-view+json": {
       "model_id": "",
       "version_major": 2,
       "version_minor": 0
      },
      "text/plain": [
       "HBox(children=(FloatProgress(value=0.0, description='Training', layout=Layout(flex='2'), max=5000.0, style=Pro…"
      ]
     },
     "metadata": {},
     "output_type": "display_data"
    },
    {
     "name": "stdout",
     "output_type": "stream",
     "text": [
      "Epoch 11: train=0.551538, val=0.363339, took 578.96 s\n"
     ]
    },
    {
     "data": {
      "application/vnd.jupyter.widget-view+json": {
       "model_id": "",
       "version_major": 2,
       "version_minor": 0
      },
      "text/plain": [
       "HBox(children=(FloatProgress(value=0.0, description='Training', layout=Layout(flex='2'), max=5000.0, style=Pro…"
      ]
     },
     "metadata": {},
     "output_type": "display_data"
    },
    {
     "name": "stdout",
     "output_type": "stream",
     "text": [
      "Epoch 12: train=0.550556, val=0.366017, took 578.5 s\n"
     ]
    },
    {
     "data": {
      "application/vnd.jupyter.widget-view+json": {
       "model_id": "",
       "version_major": 2,
       "version_minor": 0
      },
      "text/plain": [
       "HBox(children=(FloatProgress(value=0.0, description='Training', layout=Layout(flex='2'), max=5000.0, style=Pro…"
      ]
     },
     "metadata": {},
     "output_type": "display_data"
    },
    {
     "name": "stdout",
     "output_type": "stream",
     "text": [
      "Epoch 13: train=0.551913, val=0.358329, took 578.55 s\n"
     ]
    },
    {
     "data": {
      "application/vnd.jupyter.widget-view+json": {
       "model_id": "",
       "version_major": 2,
       "version_minor": 0
      },
      "text/plain": [
       "HBox(children=(FloatProgress(value=0.0, description='Training', layout=Layout(flex='2'), max=5000.0, style=Pro…"
      ]
     },
     "metadata": {},
     "output_type": "display_data"
    },
    {
     "name": "stdout",
     "output_type": "stream",
     "text": [
      "Epoch 14: train=0.551414, val=0.363682, took 578.94 s\n"
     ]
    },
    {
     "data": {
      "application/vnd.jupyter.widget-view+json": {
       "model_id": "",
       "version_major": 2,
       "version_minor": 0
      },
      "text/plain": [
       "HBox(children=(FloatProgress(value=0.0, description='Training', layout=Layout(flex='2'), max=5000.0, style=Pro…"
      ]
     },
     "metadata": {},
     "output_type": "display_data"
    },
    {
     "name": "stdout",
     "output_type": "stream",
     "text": [
      "Epoch 15: train=0.551986, val=0.360036, took 578.88 s\n"
     ]
    },
    {
     "data": {
      "application/vnd.jupyter.widget-view+json": {
       "model_id": "",
       "version_major": 2,
       "version_minor": 0
      },
      "text/plain": [
       "HBox(children=(FloatProgress(value=0.0, description='Training', layout=Layout(flex='2'), max=5000.0, style=Pro…"
      ]
     },
     "metadata": {},
     "output_type": "display_data"
    },
    {
     "name": "stdout",
     "output_type": "stream",
     "text": [
      "Epoch 16: train=0.552247, val=0.397293, took 578.38 s\n"
     ]
    },
    {
     "data": {
      "application/vnd.jupyter.widget-view+json": {
       "model_id": "",
       "version_major": 2,
       "version_minor": 0
      },
      "text/plain": [
       "HBox(children=(FloatProgress(value=0.0, description='Training', layout=Layout(flex='2'), max=5000.0, style=Pro…"
      ]
     },
     "metadata": {},
     "output_type": "display_data"
    },
    {
     "name": "stdout",
     "output_type": "stream",
     "text": [
      "Epoch 17: train=0.551174, val=0.361107, took 578.99 s\n"
     ]
    },
    {
     "data": {
      "application/vnd.jupyter.widget-view+json": {
       "model_id": "",
       "version_major": 2,
       "version_minor": 0
      },
      "text/plain": [
       "HBox(children=(FloatProgress(value=0.0, description='Training', layout=Layout(flex='2'), max=5000.0, style=Pro…"
      ]
     },
     "metadata": {},
     "output_type": "display_data"
    },
    {
     "name": "stdout",
     "output_type": "stream",
     "text": [
      "Epoch 18: train=0.551205, val=0.361048, took 578.52 s\n"
     ]
    },
    {
     "data": {
      "application/vnd.jupyter.widget-view+json": {
       "model_id": "",
       "version_major": 2,
       "version_minor": 0
      },
      "text/plain": [
       "HBox(children=(FloatProgress(value=0.0, description='Training', layout=Layout(flex='2'), max=5000.0, style=Pro…"
      ]
     },
     "metadata": {},
     "output_type": "display_data"
    },
    {
     "name": "stdout",
     "output_type": "stream",
     "text": [
      "Epoch 19: train=0.551504, val=0.367717, took 578.59 s\n"
     ]
    },
    {
     "data": {
      "application/vnd.jupyter.widget-view+json": {
       "model_id": "",
       "version_major": 2,
       "version_minor": 0
      },
      "text/plain": [
       "HBox(children=(FloatProgress(value=0.0, description='Training', layout=Layout(flex='2'), max=5000.0, style=Pro…"
      ]
     },
     "metadata": {},
     "output_type": "display_data"
    },
    {
     "name": "stdout",
     "output_type": "stream",
     "text": [
      "Epoch 20: train=0.550379, val=0.363891, took 578.13 s\n"
     ]
    },
    {
     "data": {
      "application/vnd.jupyter.widget-view+json": {
       "model_id": "",
       "version_major": 2,
       "version_minor": 0
      },
      "text/plain": [
       "HBox(children=(FloatProgress(value=0.0, description='Training', layout=Layout(flex='2'), max=5000.0, style=Pro…"
      ]
     },
     "metadata": {},
     "output_type": "display_data"
    },
    {
     "name": "stdout",
     "output_type": "stream",
     "text": [
      "Epoch 21: train=0.550619, val=0.366832, took 578.66 s\n"
     ]
    },
    {
     "data": {
      "application/vnd.jupyter.widget-view+json": {
       "model_id": "",
       "version_major": 2,
       "version_minor": 0
      },
      "text/plain": [
       "HBox(children=(FloatProgress(value=0.0, description='Training', layout=Layout(flex='2'), max=5000.0, style=Pro…"
      ]
     },
     "metadata": {},
     "output_type": "display_data"
    },
    {
     "name": "stdout",
     "output_type": "stream",
     "text": [
      "Epoch 22: train=0.549502, val=0.361363, took 578.46 s\n"
     ]
    },
    {
     "data": {
      "application/vnd.jupyter.widget-view+json": {
       "model_id": "",
       "version_major": 2,
       "version_minor": 0
      },
      "text/plain": [
       "HBox(children=(FloatProgress(value=0.0, description='Training', layout=Layout(flex='2'), max=5000.0, style=Pro…"
      ]
     },
     "metadata": {},
     "output_type": "display_data"
    },
    {
     "name": "stdout",
     "output_type": "stream",
     "text": [
      "Epoch 23: train=0.550464, val=0.376958, took 577.74 s\n"
     ]
    },
    {
     "data": {
      "application/vnd.jupyter.widget-view+json": {
       "model_id": "",
       "version_major": 2,
       "version_minor": 0
      },
      "text/plain": [
       "HBox(children=(FloatProgress(value=0.0, description='Training', layout=Layout(flex='2'), max=5000.0, style=Pro…"
      ]
     },
     "metadata": {},
     "output_type": "display_data"
    },
    {
     "name": "stdout",
     "output_type": "stream",
     "text": [
      "Epoch 24: train=0.550091, val=0.359995, took 578.45 s\n"
     ]
    },
    {
     "data": {
      "application/vnd.jupyter.widget-view+json": {
       "model_id": "",
       "version_major": 2,
       "version_minor": 0
      },
      "text/plain": [
       "HBox(children=(FloatProgress(value=0.0, description='Training', layout=Layout(flex='2'), max=5000.0, style=Pro…"
      ]
     },
     "metadata": {},
     "output_type": "display_data"
    },
    {
     "name": "stdout",
     "output_type": "stream",
     "text": [
      "Epoch 25: train=0.550616, val=0.391587, took 577.3 s\n"
     ]
    },
    {
     "data": {
      "application/vnd.jupyter.widget-view+json": {
       "model_id": "",
       "version_major": 2,
       "version_minor": 0
      },
      "text/plain": [
       "HBox(children=(FloatProgress(value=0.0, description='Training', layout=Layout(flex='2'), max=5000.0, style=Pro…"
      ]
     },
     "metadata": {},
     "output_type": "display_data"
    },
    {
     "name": "stdout",
     "output_type": "stream",
     "text": [
      "Epoch 26: train=0.55148, val=0.374938, took 578.07 s\n"
     ]
    },
    {
     "data": {
      "application/vnd.jupyter.widget-view+json": {
       "model_id": "",
       "version_major": 2,
       "version_minor": 0
      },
      "text/plain": [
       "HBox(children=(FloatProgress(value=0.0, description='Training', layout=Layout(flex='2'), max=5000.0, style=Pro…"
      ]
     },
     "metadata": {},
     "output_type": "display_data"
    },
    {
     "name": "stdout",
     "output_type": "stream",
     "text": [
      "Epoch 27: train=0.550966, val=0.358658, took 578.46 s\n"
     ]
    },
    {
     "data": {
      "application/vnd.jupyter.widget-view+json": {
       "model_id": "",
       "version_major": 2,
       "version_minor": 0
      },
      "text/plain": [
       "HBox(children=(FloatProgress(value=0.0, description='Training', layout=Layout(flex='2'), max=5000.0, style=Pro…"
      ]
     },
     "metadata": {},
     "output_type": "display_data"
    },
    {
     "name": "stdout",
     "output_type": "stream",
     "text": [
      "Epoch 28: train=0.550677, val=0.358105, took 578.74 s\n"
     ]
    },
    {
     "data": {
      "application/vnd.jupyter.widget-view+json": {
       "model_id": "",
       "version_major": 2,
       "version_minor": 0
      },
      "text/plain": [
       "HBox(children=(FloatProgress(value=0.0, description='Training', layout=Layout(flex='2'), max=5000.0, style=Pro…"
      ]
     },
     "metadata": {},
     "output_type": "display_data"
    },
    {
     "name": "stdout",
     "output_type": "stream",
     "text": [
      "Epoch 29: train=0.55012, val=0.358748, took 578.37 s\n"
     ]
    },
    {
     "data": {
      "application/vnd.jupyter.widget-view+json": {
       "model_id": "",
       "version_major": 2,
       "version_minor": 0
      },
      "text/plain": [
       "HBox(children=(FloatProgress(value=0.0, description='Training', layout=Layout(flex='2'), max=5000.0, style=Pro…"
      ]
     },
     "metadata": {},
     "output_type": "display_data"
    },
    {
     "name": "stdout",
     "output_type": "stream",
     "text": [
      "Epoch 30: train=0.549786, val=0.365544, took 579.74 s\n"
     ]
    },
    {
     "data": {
      "application/vnd.jupyter.widget-view+json": {
       "model_id": "",
       "version_major": 2,
       "version_minor": 0
      },
      "text/plain": [
       "HBox(children=(FloatProgress(value=0.0, description='Training', layout=Layout(flex='2'), max=5000.0, style=Pro…"
      ]
     },
     "metadata": {},
     "output_type": "display_data"
    },
    {
     "name": "stdout",
     "output_type": "stream",
     "text": [
      "Epoch 31: train=0.549061, val=0.365739, took 590.24 s\n"
     ]
    },
    {
     "data": {
      "application/vnd.jupyter.widget-view+json": {
       "model_id": "",
       "version_major": 2,
       "version_minor": 0
      },
      "text/plain": [
       "HBox(children=(FloatProgress(value=0.0, description='Training', layout=Layout(flex='2'), max=5000.0, style=Pro…"
      ]
     },
     "metadata": {},
     "output_type": "display_data"
    },
    {
     "name": "stdout",
     "output_type": "stream",
     "text": [
      "Epoch 32: train=0.548645, val=0.375924, took 592.32 s\n"
     ]
    },
    {
     "data": {
      "application/vnd.jupyter.widget-view+json": {
       "model_id": "",
       "version_major": 2,
       "version_minor": 0
      },
      "text/plain": [
       "HBox(children=(FloatProgress(value=0.0, description='Training', layout=Layout(flex='2'), max=5000.0, style=Pro…"
      ]
     },
     "metadata": {},
     "output_type": "display_data"
    },
    {
     "name": "stdout",
     "output_type": "stream",
     "text": [
      "Epoch 33: train=0.548566, val=0.364394, took 593.01 s\n"
     ]
    },
    {
     "data": {
      "application/vnd.jupyter.widget-view+json": {
       "model_id": "",
       "version_major": 2,
       "version_minor": 0
      },
      "text/plain": [
       "HBox(children=(FloatProgress(value=0.0, description='Training', layout=Layout(flex='2'), max=5000.0, style=Pro…"
      ]
     },
     "metadata": {},
     "output_type": "display_data"
    },
    {
     "name": "stdout",
     "output_type": "stream",
     "text": [
      "Epoch 34: train=0.550316, val=0.366155, took 592.17 s\n"
     ]
    },
    {
     "data": {
      "application/vnd.jupyter.widget-view+json": {
       "model_id": "",
       "version_major": 2,
       "version_minor": 0
      },
      "text/plain": [
       "HBox(children=(FloatProgress(value=0.0, description='Training', layout=Layout(flex='2'), max=5000.0, style=Pro…"
      ]
     },
     "metadata": {},
     "output_type": "display_data"
    },
    {
     "name": "stdout",
     "output_type": "stream",
     "text": [
      "Epoch 35: train=0.549863, val=0.357898, took 592.43 s\n"
     ]
    },
    {
     "data": {
      "application/vnd.jupyter.widget-view+json": {
       "model_id": "",
       "version_major": 2,
       "version_minor": 0
      },
      "text/plain": [
       "HBox(children=(FloatProgress(value=0.0, description='Training', layout=Layout(flex='2'), max=5000.0, style=Pro…"
      ]
     },
     "metadata": {},
     "output_type": "display_data"
    },
    {
     "name": "stdout",
     "output_type": "stream",
     "text": [
      "Epoch 36: train=0.550413, val=0.424433, took 578.81 s\n"
     ]
    },
    {
     "data": {
      "application/vnd.jupyter.widget-view+json": {
       "model_id": "",
       "version_major": 2,
       "version_minor": 0
      },
      "text/plain": [
       "HBox(children=(FloatProgress(value=0.0, description='Training', layout=Layout(flex='2'), max=5000.0, style=Pro…"
      ]
     },
     "metadata": {},
     "output_type": "display_data"
    },
    {
     "name": "stdout",
     "output_type": "stream",
     "text": [
      "Epoch 37: train=0.548326, val=0.370475, took 577.29 s\n"
     ]
    },
    {
     "data": {
      "application/vnd.jupyter.widget-view+json": {
       "model_id": "",
       "version_major": 2,
       "version_minor": 0
      },
      "text/plain": [
       "HBox(children=(FloatProgress(value=0.0, description='Training', layout=Layout(flex='2'), max=5000.0, style=Pro…"
      ]
     },
     "metadata": {},
     "output_type": "display_data"
    },
    {
     "name": "stdout",
     "output_type": "stream",
     "text": [
      "Epoch 38: train=0.549851, val=0.366992, took 577.39 s\n"
     ]
    },
    {
     "data": {
      "application/vnd.jupyter.widget-view+json": {
       "model_id": "",
       "version_major": 2,
       "version_minor": 0
      },
      "text/plain": [
       "HBox(children=(FloatProgress(value=0.0, description='Training', layout=Layout(flex='2'), max=5000.0, style=Pro…"
      ]
     },
     "metadata": {},
     "output_type": "display_data"
    },
    {
     "name": "stdout",
     "output_type": "stream",
     "text": [
      "Epoch 39: train=0.548037, val=0.360431, took 578.17 s\n"
     ]
    },
    {
     "data": {
      "application/vnd.jupyter.widget-view+json": {
       "model_id": "",
       "version_major": 2,
       "version_minor": 0
      },
      "text/plain": [
       "HBox(children=(FloatProgress(value=0.0, description='Training', layout=Layout(flex='2'), max=5000.0, style=Pro…"
      ]
     },
     "metadata": {},
     "output_type": "display_data"
    },
    {
     "name": "stdout",
     "output_type": "stream",
     "text": [
      "Epoch 40: train=0.549886, val=0.358744, took 578.3 s\n"
     ]
    },
    {
     "data": {
      "application/vnd.jupyter.widget-view+json": {
       "model_id": "",
       "version_major": 2,
       "version_minor": 0
      },
      "text/plain": [
       "HBox(children=(FloatProgress(value=0.0, description='Training', layout=Layout(flex='2'), max=5000.0, style=Pro…"
      ]
     },
     "metadata": {},
     "output_type": "display_data"
    },
    {
     "name": "stdout",
     "output_type": "stream",
     "text": [
      "Epoch 41: train=0.548404, val=0.362034, took 578.35 s\n"
     ]
    },
    {
     "data": {
      "application/vnd.jupyter.widget-view+json": {
       "model_id": "",
       "version_major": 2,
       "version_minor": 0
      },
      "text/plain": [
       "HBox(children=(FloatProgress(value=0.0, description='Training', layout=Layout(flex='2'), max=5000.0, style=Pro…"
      ]
     },
     "metadata": {},
     "output_type": "display_data"
    },
    {
     "name": "stdout",
     "output_type": "stream",
     "text": [
      "Epoch 42: train=0.547804, val=0.412367, took 606.28 s\n"
     ]
    },
    {
     "data": {
      "application/vnd.jupyter.widget-view+json": {
       "model_id": "",
       "version_major": 2,
       "version_minor": 0
      },
      "text/plain": [
       "HBox(children=(FloatProgress(value=0.0, description='Training', layout=Layout(flex='2'), max=5000.0, style=Pro…"
      ]
     },
     "metadata": {},
     "output_type": "display_data"
    },
    {
     "name": "stdout",
     "output_type": "stream",
     "text": [
      "Epoch 43: train=0.550171, val=0.363038, took 665.51 s\n"
     ]
    },
    {
     "data": {
      "application/vnd.jupyter.widget-view+json": {
       "model_id": "",
       "version_major": 2,
       "version_minor": 0
      },
      "text/plain": [
       "HBox(children=(FloatProgress(value=0.0, description='Training', layout=Layout(flex='2'), max=5000.0, style=Pro…"
      ]
     },
     "metadata": {},
     "output_type": "display_data"
    },
    {
     "name": "stdout",
     "output_type": "stream",
     "text": [
      "Epoch 44: train=0.549569, val=0.406348, took 671.4 s\n"
     ]
    },
    {
     "data": {
      "application/vnd.jupyter.widget-view+json": {
       "model_id": "",
       "version_major": 2,
       "version_minor": 0
      },
      "text/plain": [
       "HBox(children=(FloatProgress(value=0.0, description='Training', layout=Layout(flex='2'), max=5000.0, style=Pro…"
      ]
     },
     "metadata": {},
     "output_type": "display_data"
    },
    {
     "name": "stdout",
     "output_type": "stream",
     "text": [
      "Epoch 45: train=0.549932, val=0.394224, took 674.23 s\n"
     ]
    },
    {
     "data": {
      "application/vnd.jupyter.widget-view+json": {
       "model_id": "",
       "version_major": 2,
       "version_minor": 0
      },
      "text/plain": [
       "HBox(children=(FloatProgress(value=0.0, description='Training', layout=Layout(flex='2'), max=5000.0, style=Pro…"
      ]
     },
     "metadata": {},
     "output_type": "display_data"
    },
    {
     "name": "stdout",
     "output_type": "stream",
     "text": [
      "Epoch 46: train=0.549918, val=0.386772, took 669.98 s\n"
     ]
    },
    {
     "data": {
      "application/vnd.jupyter.widget-view+json": {
       "model_id": "",
       "version_major": 2,
       "version_minor": 0
      },
      "text/plain": [
       "HBox(children=(FloatProgress(value=0.0, description='Training', layout=Layout(flex='2'), max=5000.0, style=Pro…"
      ]
     },
     "metadata": {},
     "output_type": "display_data"
    },
    {
     "name": "stdout",
     "output_type": "stream",
     "text": [
      "Epoch 47: train=0.550183, val=0.358432, took 676.84 s\n"
     ]
    },
    {
     "data": {
      "application/vnd.jupyter.widget-view+json": {
       "model_id": "",
       "version_major": 2,
       "version_minor": 0
      },
      "text/plain": [
       "HBox(children=(FloatProgress(value=0.0, description='Training', layout=Layout(flex='2'), max=5000.0, style=Pro…"
      ]
     },
     "metadata": {},
     "output_type": "display_data"
    },
    {
     "name": "stdout",
     "output_type": "stream",
     "text": [
      "Epoch 48: train=0.548918, val=0.358834, took 676.92 s\n"
     ]
    },
    {
     "data": {
      "application/vnd.jupyter.widget-view+json": {
       "model_id": "",
       "version_major": 2,
       "version_minor": 0
      },
      "text/plain": [
       "HBox(children=(FloatProgress(value=0.0, description='Training', layout=Layout(flex='2'), max=5000.0, style=Pro…"
      ]
     },
     "metadata": {},
     "output_type": "display_data"
    },
    {
     "name": "stdout",
     "output_type": "stream",
     "text": [
      "Epoch 49: train=0.547659, val=0.356709, took 676.72 s\n"
     ]
    },
    {
     "data": {
      "application/vnd.jupyter.widget-view+json": {
       "model_id": "",
       "version_major": 2,
       "version_minor": 0
      },
      "text/plain": [
       "HBox(children=(FloatProgress(value=0.0, description='Training', layout=Layout(flex='2'), max=5000.0, style=Pro…"
      ]
     },
     "metadata": {},
     "output_type": "display_data"
    },
    {
     "name": "stdout",
     "output_type": "stream",
     "text": [
      "Epoch 50: train=0.547644, val=0.387457, took 675.59 s\n"
     ]
    },
    {
     "data": {
      "application/vnd.jupyter.widget-view+json": {
       "model_id": "",
       "version_major": 2,
       "version_minor": 0
      },
      "text/plain": [
       "HBox(children=(FloatProgress(value=0.0, description='Training', layout=Layout(flex='2'), max=5000.0, style=Pro…"
      ]
     },
     "metadata": {},
     "output_type": "display_data"
    },
    {
     "name": "stdout",
     "output_type": "stream",
     "text": [
      "Epoch 51: train=0.548622, val=0.353056, took 678.92 s\n"
     ]
    },
    {
     "data": {
      "application/vnd.jupyter.widget-view+json": {
       "model_id": "",
       "version_major": 2,
       "version_minor": 0
      },
      "text/plain": [
       "HBox(children=(FloatProgress(value=0.0, description='Training', layout=Layout(flex='2'), max=5000.0, style=Pro…"
      ]
     },
     "metadata": {},
     "output_type": "display_data"
    },
    {
     "name": "stdout",
     "output_type": "stream",
     "text": [
      "Epoch 52: train=0.547834, val=0.374849, took 672.91 s\n"
     ]
    },
    {
     "data": {
      "application/vnd.jupyter.widget-view+json": {
       "model_id": "",
       "version_major": 2,
       "version_minor": 0
      },
      "text/plain": [
       "HBox(children=(FloatProgress(value=0.0, description='Training', layout=Layout(flex='2'), max=5000.0, style=Pro…"
      ]
     },
     "metadata": {},
     "output_type": "display_data"
    },
    {
     "name": "stdout",
     "output_type": "stream",
     "text": [
      "Epoch 53: train=0.549519, val=0.360151, took 673.29 s\n"
     ]
    },
    {
     "data": {
      "application/vnd.jupyter.widget-view+json": {
       "model_id": "",
       "version_major": 2,
       "version_minor": 0
      },
      "text/plain": [
       "HBox(children=(FloatProgress(value=0.0, description='Training', layout=Layout(flex='2'), max=5000.0, style=Pro…"
      ]
     },
     "metadata": {},
     "output_type": "display_data"
    },
    {
     "name": "stdout",
     "output_type": "stream",
     "text": [
      "Epoch 54: train=0.547452, val=0.355886, took 675.86 s\n"
     ]
    },
    {
     "data": {
      "application/vnd.jupyter.widget-view+json": {
       "model_id": "",
       "version_major": 2,
       "version_minor": 0
      },
      "text/plain": [
       "HBox(children=(FloatProgress(value=0.0, description='Training', layout=Layout(flex='2'), max=5000.0, style=Pro…"
      ]
     },
     "metadata": {},
     "output_type": "display_data"
    },
    {
     "name": "stdout",
     "output_type": "stream",
     "text": [
      "Epoch 55: train=0.549806, val=0.359919, took 669.75 s\n"
     ]
    },
    {
     "data": {
      "application/vnd.jupyter.widget-view+json": {
       "model_id": "",
       "version_major": 2,
       "version_minor": 0
      },
      "text/plain": [
       "HBox(children=(FloatProgress(value=0.0, description='Training', layout=Layout(flex='2'), max=5000.0, style=Pro…"
      ]
     },
     "metadata": {},
     "output_type": "display_data"
    },
    {
     "name": "stdout",
     "output_type": "stream",
     "text": [
      "Epoch 56: train=0.548914, val=0.405422, took 670.14 s\n"
     ]
    },
    {
     "data": {
      "application/vnd.jupyter.widget-view+json": {
       "model_id": "",
       "version_major": 2,
       "version_minor": 0
      },
      "text/plain": [
       "HBox(children=(FloatProgress(value=0.0, description='Training', layout=Layout(flex='2'), max=5000.0, style=Pro…"
      ]
     },
     "metadata": {},
     "output_type": "display_data"
    },
    {
     "name": "stdout",
     "output_type": "stream",
     "text": [
      "Epoch 57: train=0.548127, val=0.356244, took 678.45 s\n"
     ]
    },
    {
     "data": {
      "application/vnd.jupyter.widget-view+json": {
       "model_id": "",
       "version_major": 2,
       "version_minor": 0
      },
      "text/plain": [
       "HBox(children=(FloatProgress(value=0.0, description='Training', layout=Layout(flex='2'), max=5000.0, style=Pro…"
      ]
     },
     "metadata": {},
     "output_type": "display_data"
    },
    {
     "name": "stdout",
     "output_type": "stream",
     "text": [
      "Epoch 58: train=0.547938, val=0.357024, took 682.27 s\n"
     ]
    },
    {
     "data": {
      "application/vnd.jupyter.widget-view+json": {
       "model_id": "",
       "version_major": 2,
       "version_minor": 0
      },
      "text/plain": [
       "HBox(children=(FloatProgress(value=0.0, description='Training', layout=Layout(flex='2'), max=5000.0, style=Pro…"
      ]
     },
     "metadata": {},
     "output_type": "display_data"
    },
    {
     "name": "stdout",
     "output_type": "stream",
     "text": [
      "Epoch 59: train=0.546108, val=0.354754, took 579.22 s\n"
     ]
    },
    {
     "data": {
      "application/vnd.jupyter.widget-view+json": {
       "model_id": "",
       "version_major": 2,
       "version_minor": 0
      },
      "text/plain": [
       "HBox(children=(FloatProgress(value=0.0, description='Training', layout=Layout(flex='2'), max=5000.0, style=Pro…"
      ]
     },
     "metadata": {},
     "output_type": "display_data"
    },
    {
     "name": "stdout",
     "output_type": "stream",
     "text": [
      "Epoch 60: train=0.547429, val=0.387776, took 578.98 s\n"
     ]
    },
    {
     "data": {
      "application/vnd.jupyter.widget-view+json": {
       "model_id": "",
       "version_major": 2,
       "version_minor": 0
      },
      "text/plain": [
       "HBox(children=(FloatProgress(value=0.0, description='Training', layout=Layout(flex='2'), max=5000.0, style=Pro…"
      ]
     },
     "metadata": {},
     "output_type": "display_data"
    },
    {
     "name": "stdout",
     "output_type": "stream",
     "text": [
      "Epoch 61: train=0.547288, val=0.353442, took 578.95 s\n"
     ]
    },
    {
     "data": {
      "application/vnd.jupyter.widget-view+json": {
       "model_id": "",
       "version_major": 2,
       "version_minor": 0
      },
      "text/plain": [
       "HBox(children=(FloatProgress(value=0.0, description='Training', layout=Layout(flex='2'), max=5000.0, style=Pro…"
      ]
     },
     "metadata": {},
     "output_type": "display_data"
    },
    {
     "name": "stdout",
     "output_type": "stream",
     "text": [
      "Epoch 62: train=0.546638, val=0.408789, took 578.33 s\n"
     ]
    },
    {
     "data": {
      "application/vnd.jupyter.widget-view+json": {
       "model_id": "",
       "version_major": 2,
       "version_minor": 0
      },
      "text/plain": [
       "HBox(children=(FloatProgress(value=0.0, description='Training', layout=Layout(flex='2'), max=5000.0, style=Pro…"
      ]
     },
     "metadata": {},
     "output_type": "display_data"
    },
    {
     "name": "stdout",
     "output_type": "stream",
     "text": [
      "Epoch 63: train=0.548418, val=0.353909, took 578.7 s\n"
     ]
    },
    {
     "data": {
      "application/vnd.jupyter.widget-view+json": {
       "model_id": "",
       "version_major": 2,
       "version_minor": 0
      },
      "text/plain": [
       "HBox(children=(FloatProgress(value=0.0, description='Training', layout=Layout(flex='2'), max=5000.0, style=Pro…"
      ]
     },
     "metadata": {},
     "output_type": "display_data"
    },
    {
     "name": "stdout",
     "output_type": "stream",
     "text": [
      "Epoch 64: train=0.54615, val=0.365474, took 577.36 s\n"
     ]
    },
    {
     "data": {
      "application/vnd.jupyter.widget-view+json": {
       "model_id": "",
       "version_major": 2,
       "version_minor": 0
      },
      "text/plain": [
       "HBox(children=(FloatProgress(value=0.0, description='Training', layout=Layout(flex='2'), max=5000.0, style=Pro…"
      ]
     },
     "metadata": {},
     "output_type": "display_data"
    },
    {
     "name": "stdout",
     "output_type": "stream",
     "text": [
      "Epoch 65: train=0.547742, val=0.399669, took 577.67 s\n"
     ]
    },
    {
     "data": {
      "application/vnd.jupyter.widget-view+json": {
       "model_id": "",
       "version_major": 2,
       "version_minor": 0
      },
      "text/plain": [
       "HBox(children=(FloatProgress(value=0.0, description='Training', layout=Layout(flex='2'), max=5000.0, style=Pro…"
      ]
     },
     "metadata": {},
     "output_type": "display_data"
    },
    {
     "name": "stdout",
     "output_type": "stream",
     "text": [
      "Epoch 66: train=0.546687, val=0.389067, took 578.49 s\n"
     ]
    },
    {
     "data": {
      "application/vnd.jupyter.widget-view+json": {
       "model_id": "",
       "version_major": 2,
       "version_minor": 0
      },
      "text/plain": [
       "HBox(children=(FloatProgress(value=0.0, description='Training', layout=Layout(flex='2'), max=5000.0, style=Pro…"
      ]
     },
     "metadata": {},
     "output_type": "display_data"
    },
    {
     "name": "stdout",
     "output_type": "stream",
     "text": [
      "Epoch 67: train=0.544768, val=0.372459, took 578.16 s\n"
     ]
    },
    {
     "data": {
      "application/vnd.jupyter.widget-view+json": {
       "model_id": "",
       "version_major": 2,
       "version_minor": 0
      },
      "text/plain": [
       "HBox(children=(FloatProgress(value=0.0, description='Training', layout=Layout(flex='2'), max=5000.0, style=Pro…"
      ]
     },
     "metadata": {},
     "output_type": "display_data"
    },
    {
     "name": "stdout",
     "output_type": "stream",
     "text": [
      "Epoch 68: train=0.546676, val=0.38108, took 578.02 s\n"
     ]
    },
    {
     "data": {
      "application/vnd.jupyter.widget-view+json": {
       "model_id": "",
       "version_major": 2,
       "version_minor": 0
      },
      "text/plain": [
       "HBox(children=(FloatProgress(value=0.0, description='Training', layout=Layout(flex='2'), max=5000.0, style=Pro…"
      ]
     },
     "metadata": {},
     "output_type": "display_data"
    },
    {
     "name": "stdout",
     "output_type": "stream",
     "text": [
      "Epoch 69: train=0.547119, val=0.354958, took 577.47 s\n"
     ]
    },
    {
     "data": {
      "application/vnd.jupyter.widget-view+json": {
       "model_id": "",
       "version_major": 2,
       "version_minor": 0
      },
      "text/plain": [
       "HBox(children=(FloatProgress(value=0.0, description='Training', layout=Layout(flex='2'), max=5000.0, style=Pro…"
      ]
     },
     "metadata": {},
     "output_type": "display_data"
    },
    {
     "name": "stdout",
     "output_type": "stream",
     "text": [
      "Epoch 70: train=0.547166, val=0.365455, took 577.72 s\n"
     ]
    },
    {
     "data": {
      "application/vnd.jupyter.widget-view+json": {
       "model_id": "",
       "version_major": 2,
       "version_minor": 0
      },
      "text/plain": [
       "HBox(children=(FloatProgress(value=0.0, description='Training', layout=Layout(flex='2'), max=5000.0, style=Pro…"
      ]
     },
     "metadata": {},
     "output_type": "display_data"
    },
    {
     "name": "stdout",
     "output_type": "stream",
     "text": [
      "Epoch 71: train=0.548003, val=0.369666, took 577.9 s\n"
     ]
    },
    {
     "data": {
      "application/vnd.jupyter.widget-view+json": {
       "model_id": "",
       "version_major": 2,
       "version_minor": 0
      },
      "text/plain": [
       "HBox(children=(FloatProgress(value=0.0, description='Training', layout=Layout(flex='2'), max=5000.0, style=Pro…"
      ]
     },
     "metadata": {},
     "output_type": "display_data"
    },
    {
     "name": "stdout",
     "output_type": "stream",
     "text": [
      "Epoch 72: train=0.546807, val=0.362836, took 577.92 s\n"
     ]
    },
    {
     "data": {
      "application/vnd.jupyter.widget-view+json": {
       "model_id": "",
       "version_major": 2,
       "version_minor": 0
      },
      "text/plain": [
       "HBox(children=(FloatProgress(value=0.0, description='Training', layout=Layout(flex='2'), max=5000.0, style=Pro…"
      ]
     },
     "metadata": {},
     "output_type": "display_data"
    },
    {
     "name": "stdout",
     "output_type": "stream",
     "text": [
      "Epoch 73: train=0.545916, val=0.35482, took 578.41 s\n"
     ]
    },
    {
     "data": {
      "application/vnd.jupyter.widget-view+json": {
       "model_id": "",
       "version_major": 2,
       "version_minor": 0
      },
      "text/plain": [
       "HBox(children=(FloatProgress(value=0.0, description='Training', layout=Layout(flex='2'), max=5000.0, style=Pro…"
      ]
     },
     "metadata": {},
     "output_type": "display_data"
    },
    {
     "name": "stdout",
     "output_type": "stream",
     "text": [
      "Epoch 74: train=0.546218, val=0.363959, took 577.01 s\n"
     ]
    },
    {
     "data": {
      "application/vnd.jupyter.widget-view+json": {
       "model_id": "",
       "version_major": 2,
       "version_minor": 0
      },
      "text/plain": [
       "HBox(children=(FloatProgress(value=0.0, description='Training', layout=Layout(flex='2'), max=5000.0, style=Pro…"
      ]
     },
     "metadata": {},
     "output_type": "display_data"
    },
    {
     "name": "stdout",
     "output_type": "stream",
     "text": [
      "Epoch 75: train=0.547884, val=0.355958, took 577.06 s\n"
     ]
    },
    {
     "data": {
      "application/vnd.jupyter.widget-view+json": {
       "model_id": "",
       "version_major": 2,
       "version_minor": 0
      },
      "text/plain": [
       "HBox(children=(FloatProgress(value=0.0, description='Training', layout=Layout(flex='2'), max=5000.0, style=Pro…"
      ]
     },
     "metadata": {},
     "output_type": "display_data"
    },
    {
     "name": "stdout",
     "output_type": "stream",
     "text": [
      "Epoch 76: train=0.544515, val=0.357424, took 578.16 s\n"
     ]
    },
    {
     "data": {
      "application/vnd.jupyter.widget-view+json": {
       "model_id": "",
       "version_major": 2,
       "version_minor": 0
      },
      "text/plain": [
       "HBox(children=(FloatProgress(value=0.0, description='Training', layout=Layout(flex='2'), max=5000.0, style=Pro…"
      ]
     },
     "metadata": {},
     "output_type": "display_data"
    },
    {
     "name": "stdout",
     "output_type": "stream",
     "text": [
      "Epoch 77: train=0.546718, val=0.356519, took 577.01 s\n"
     ]
    },
    {
     "data": {
      "application/vnd.jupyter.widget-view+json": {
       "model_id": "",
       "version_major": 2,
       "version_minor": 0
      },
      "text/plain": [
       "HBox(children=(FloatProgress(value=0.0, description='Training', layout=Layout(flex='2'), max=5000.0, style=Pro…"
      ]
     },
     "metadata": {},
     "output_type": "display_data"
    },
    {
     "name": "stdout",
     "output_type": "stream",
     "text": [
      "Epoch 78: train=0.544799, val=0.357415, took 578.31 s\n"
     ]
    },
    {
     "data": {
      "application/vnd.jupyter.widget-view+json": {
       "model_id": "",
       "version_major": 2,
       "version_minor": 0
      },
      "text/plain": [
       "HBox(children=(FloatProgress(value=0.0, description='Training', layout=Layout(flex='2'), max=5000.0, style=Pro…"
      ]
     },
     "metadata": {},
     "output_type": "display_data"
    },
    {
     "name": "stdout",
     "output_type": "stream",
     "text": [
      "Epoch 79: train=0.545956, val=0.361476, took 577.22 s\n"
     ]
    },
    {
     "data": {
      "application/vnd.jupyter.widget-view+json": {
       "model_id": "",
       "version_major": 2,
       "version_minor": 0
      },
      "text/plain": [
       "HBox(children=(FloatProgress(value=0.0, description='Training', layout=Layout(flex='2'), max=5000.0, style=Pro…"
      ]
     },
     "metadata": {},
     "output_type": "display_data"
    },
    {
     "name": "stdout",
     "output_type": "stream",
     "text": [
      "Epoch 80: train=0.544822, val=0.360896, took 577.71 s\n"
     ]
    },
    {
     "data": {
      "application/vnd.jupyter.widget-view+json": {
       "model_id": "",
       "version_major": 2,
       "version_minor": 0
      },
      "text/plain": [
       "HBox(children=(FloatProgress(value=0.0, description='Training', layout=Layout(flex='2'), max=5000.0, style=Pro…"
      ]
     },
     "metadata": {},
     "output_type": "display_data"
    },
    {
     "name": "stdout",
     "output_type": "stream",
     "text": [
      "Epoch 81: train=0.543471, val=0.355626, took 578.38 s\n"
     ]
    },
    {
     "data": {
      "application/vnd.jupyter.widget-view+json": {
       "model_id": "",
       "version_major": 2,
       "version_minor": 0
      },
      "text/plain": [
       "HBox(children=(FloatProgress(value=0.0, description='Training', layout=Layout(flex='2'), max=5000.0, style=Pro…"
      ]
     },
     "metadata": {},
     "output_type": "display_data"
    },
    {
     "name": "stdout",
     "output_type": "stream",
     "text": [
      "Epoch 82: train=0.548969, val=0.353844, took 578.38 s\n"
     ]
    },
    {
     "data": {
      "application/vnd.jupyter.widget-view+json": {
       "model_id": "",
       "version_major": 2,
       "version_minor": 0
      },
      "text/plain": [
       "HBox(children=(FloatProgress(value=0.0, description='Training', layout=Layout(flex='2'), max=5000.0, style=Pro…"
      ]
     },
     "metadata": {},
     "output_type": "display_data"
    },
    {
     "name": "stdout",
     "output_type": "stream",
     "text": [
      "Epoch 83: train=0.544389, val=0.359302, took 578.1 s\n"
     ]
    },
    {
     "data": {
      "application/vnd.jupyter.widget-view+json": {
       "model_id": "",
       "version_major": 2,
       "version_minor": 0
      },
      "text/plain": [
       "HBox(children=(FloatProgress(value=0.0, description='Training', layout=Layout(flex='2'), max=5000.0, style=Pro…"
      ]
     },
     "metadata": {},
     "output_type": "display_data"
    },
    {
     "name": "stdout",
     "output_type": "stream",
     "text": [
      "Epoch 84: train=0.545816, val=0.361039, took 578.55 s\n"
     ]
    },
    {
     "data": {
      "application/vnd.jupyter.widget-view+json": {
       "model_id": "",
       "version_major": 2,
       "version_minor": 0
      },
      "text/plain": [
       "HBox(children=(FloatProgress(value=0.0, description='Training', layout=Layout(flex='2'), max=5000.0, style=Pro…"
      ]
     },
     "metadata": {},
     "output_type": "display_data"
    },
    {
     "name": "stdout",
     "output_type": "stream",
     "text": [
      "Epoch 85: train=0.544348, val=0.359565, took 576.97 s\n"
     ]
    },
    {
     "data": {
      "application/vnd.jupyter.widget-view+json": {
       "model_id": "",
       "version_major": 2,
       "version_minor": 0
      },
      "text/plain": [
       "HBox(children=(FloatProgress(value=0.0, description='Training', layout=Layout(flex='2'), max=5000.0, style=Pro…"
      ]
     },
     "metadata": {},
     "output_type": "display_data"
    },
    {
     "name": "stdout",
     "output_type": "stream",
     "text": [
      "Epoch 86: train=0.545426, val=0.365301, took 578.29 s\n"
     ]
    },
    {
     "data": {
      "application/vnd.jupyter.widget-view+json": {
       "model_id": "",
       "version_major": 2,
       "version_minor": 0
      },
      "text/plain": [
       "HBox(children=(FloatProgress(value=0.0, description='Training', layout=Layout(flex='2'), max=5000.0, style=Pro…"
      ]
     },
     "metadata": {},
     "output_type": "display_data"
    },
    {
     "name": "stdout",
     "output_type": "stream",
     "text": [
      "Epoch 87: train=0.545567, val=0.35271, took 576.7 s\n"
     ]
    },
    {
     "data": {
      "application/vnd.jupyter.widget-view+json": {
       "model_id": "",
       "version_major": 2,
       "version_minor": 0
      },
      "text/plain": [
       "HBox(children=(FloatProgress(value=0.0, description='Training', layout=Layout(flex='2'), max=5000.0, style=Pro…"
      ]
     },
     "metadata": {},
     "output_type": "display_data"
    },
    {
     "name": "stdout",
     "output_type": "stream",
     "text": [
      "Epoch 88: train=0.543624, val=0.376328, took 578.17 s\n"
     ]
    },
    {
     "data": {
      "application/vnd.jupyter.widget-view+json": {
       "model_id": "",
       "version_major": 2,
       "version_minor": 0
      },
      "text/plain": [
       "HBox(children=(FloatProgress(value=0.0, description='Training', layout=Layout(flex='2'), max=5000.0, style=Pro…"
      ]
     },
     "metadata": {},
     "output_type": "display_data"
    },
    {
     "name": "stdout",
     "output_type": "stream",
     "text": [
      "Epoch 89: train=0.545669, val=0.363589, took 576.5 s\n"
     ]
    },
    {
     "data": {
      "application/vnd.jupyter.widget-view+json": {
       "model_id": "",
       "version_major": 2,
       "version_minor": 0
      },
      "text/plain": [
       "HBox(children=(FloatProgress(value=0.0, description='Training', layout=Layout(flex='2'), max=5000.0, style=Pro…"
      ]
     },
     "metadata": {},
     "output_type": "display_data"
    },
    {
     "name": "stdout",
     "output_type": "stream",
     "text": [
      "Epoch 90: train=0.548078, val=0.357202, took 576.57 s\n"
     ]
    },
    {
     "data": {
      "application/vnd.jupyter.widget-view+json": {
       "model_id": "",
       "version_major": 2,
       "version_minor": 0
      },
      "text/plain": [
       "HBox(children=(FloatProgress(value=0.0, description='Training', layout=Layout(flex='2'), max=5000.0, style=Pro…"
      ]
     },
     "metadata": {},
     "output_type": "display_data"
    },
    {
     "name": "stdout",
     "output_type": "stream",
     "text": [
      "Epoch 91: train=0.544181, val=0.378615, took 576.88 s\n"
     ]
    },
    {
     "data": {
      "application/vnd.jupyter.widget-view+json": {
       "model_id": "",
       "version_major": 2,
       "version_minor": 0
      },
      "text/plain": [
       "HBox(children=(FloatProgress(value=0.0, description='Training', layout=Layout(flex='2'), max=5000.0, style=Pro…"
      ]
     },
     "metadata": {},
     "output_type": "display_data"
    },
    {
     "name": "stdout",
     "output_type": "stream",
     "text": [
      "Epoch 92: train=0.543135, val=0.40137, took 577.83 s\n"
     ]
    },
    {
     "data": {
      "application/vnd.jupyter.widget-view+json": {
       "model_id": "",
       "version_major": 2,
       "version_minor": 0
      },
      "text/plain": [
       "HBox(children=(FloatProgress(value=0.0, description='Training', layout=Layout(flex='2'), max=5000.0, style=Pro…"
      ]
     },
     "metadata": {},
     "output_type": "display_data"
    },
    {
     "name": "stdout",
     "output_type": "stream",
     "text": [
      "Epoch 93: train=0.544782, val=0.363997, took 577.73 s\n"
     ]
    },
    {
     "data": {
      "application/vnd.jupyter.widget-view+json": {
       "model_id": "",
       "version_major": 2,
       "version_minor": 0
      },
      "text/plain": [
       "HBox(children=(FloatProgress(value=0.0, description='Training', layout=Layout(flex='2'), max=5000.0, style=Pro…"
      ]
     },
     "metadata": {},
     "output_type": "display_data"
    },
    {
     "name": "stdout",
     "output_type": "stream",
     "text": [
      "Epoch 94: train=0.546288, val=0.361826, took 578.28 s\n"
     ]
    },
    {
     "data": {
      "application/vnd.jupyter.widget-view+json": {
       "model_id": "",
       "version_major": 2,
       "version_minor": 0
      },
      "text/plain": [
       "HBox(children=(FloatProgress(value=0.0, description='Training', layout=Layout(flex='2'), max=5000.0, style=Pro…"
      ]
     },
     "metadata": {},
     "output_type": "display_data"
    },
    {
     "name": "stdout",
     "output_type": "stream",
     "text": [
      "Epoch 95: train=0.543812, val=0.372022, took 578.23 s\n"
     ]
    },
    {
     "data": {
      "application/vnd.jupyter.widget-view+json": {
       "model_id": "",
       "version_major": 2,
       "version_minor": 0
      },
      "text/plain": [
       "HBox(children=(FloatProgress(value=0.0, description='Training', layout=Layout(flex='2'), max=5000.0, style=Pro…"
      ]
     },
     "metadata": {},
     "output_type": "display_data"
    },
    {
     "name": "stdout",
     "output_type": "stream",
     "text": [
      "Epoch 96: train=0.543404, val=0.371378, took 578.02 s\n"
     ]
    },
    {
     "data": {
      "application/vnd.jupyter.widget-view+json": {
       "model_id": "",
       "version_major": 2,
       "version_minor": 0
      },
      "text/plain": [
       "HBox(children=(FloatProgress(value=0.0, description='Training', layout=Layout(flex='2'), max=5000.0, style=Pro…"
      ]
     },
     "metadata": {},
     "output_type": "display_data"
    },
    {
     "name": "stdout",
     "output_type": "stream",
     "text": [
      "Epoch 97: train=0.544344, val=0.35437, took 577.7 s\n"
     ]
    },
    {
     "data": {
      "application/vnd.jupyter.widget-view+json": {
       "model_id": "",
       "version_major": 2,
       "version_minor": 0
      },
      "text/plain": [
       "HBox(children=(FloatProgress(value=0.0, description='Training', layout=Layout(flex='2'), max=5000.0, style=Pro…"
      ]
     },
     "metadata": {},
     "output_type": "display_data"
    },
    {
     "name": "stdout",
     "output_type": "stream",
     "text": [
      "Epoch 98: train=0.544982, val=0.360071, took 578.2 s\n"
     ]
    },
    {
     "data": {
      "application/vnd.jupyter.widget-view+json": {
       "model_id": "",
       "version_major": 2,
       "version_minor": 0
      },
      "text/plain": [
       "HBox(children=(FloatProgress(value=0.0, description='Training', layout=Layout(flex='2'), max=5000.0, style=Pro…"
      ]
     },
     "metadata": {},
     "output_type": "display_data"
    },
    {
     "name": "stdout",
     "output_type": "stream",
     "text": [
      "Epoch 99: train=0.544275, val=0.353593, took 578.38 s\n",
      "\n"
     ]
    }
   ],
   "source": [
    "for result in trainNet(model, optimizer, loss,\n",
    "                        train_loader, val_loader,\n",
    "                        n_epochs, epoch_start=len(results),\n",
    "                        notebook=True):\n",
    "    \n",
    "    results = results.append(pd.Series(result._asdict()), ignore_index=True)\n",
    "    xs = results.index\n",
    "    \n",
    "    # Update the plot above\n",
    "    lines['train'].set_data(results.index,results.cost)\n",
    "    lines['val'].set_data(results.index,results.val)\n",
    "    \n",
    "    #filter first cost epoch (can be really large)\n",
    "    max_cost = max(max(results.cost if len(results.cost)<2 else results.cost[1:]), max(results.val))\n",
    "    min_cost = min(min(results.cost), min(results.val))\n",
    "    \n",
    "    # The plot limits need updating too\n",
    "    \n",
    "    \n",
    "    \n",
    "    ax.set_ylim(min_cost*.9, max_cost*1.1)  \n",
    "    ax.set_xlim(-.5, len(results.cost) - .5)\n",
    "\n",
    "    \n",
    "    # Redraw the figure\n",
    "    fig.canvas.draw()\n",
    "\n",
    "    # Save each model state dictionary\n",
    "    torch.save(model.state_dict(), output / f'{name}_{result.epoch}.pyt')"
   ]
  },
  {
   "cell_type": "markdown",
   "metadata": {},
   "source": [
    "Go ahead and save the final model (even though it was also saved above):"
   ]
  },
  {
   "cell_type": "code",
   "execution_count": 19,
   "metadata": {},
   "outputs": [],
   "source": [
    "torch.save(model.state_dict(), output / f'{name}_final.pyt')"
   ]
  },
  {
   "cell_type": "markdown",
   "metadata": {},
   "source": [
    "Save the output results:"
   ]
  },
  {
   "cell_type": "code",
   "execution_count": 20,
   "metadata": {},
   "outputs": [],
   "source": [
    "results.to_hdf(output / f'{name}_stats.hdf5', 'results')"
   ]
  },
  {
   "cell_type": "markdown",
   "metadata": {},
   "source": [
    "Save the plot above:"
   ]
  },
  {
   "cell_type": "code",
   "execution_count": 21,
   "metadata": {},
   "outputs": [
    {
     "data": {
      "application/javascript": [
       "/* Put everything inside the global mpl namespace */\n",
       "window.mpl = {};\n",
       "\n",
       "\n",
       "mpl.get_websocket_type = function() {\n",
       "    if (typeof(WebSocket) !== 'undefined') {\n",
       "        return WebSocket;\n",
       "    } else if (typeof(MozWebSocket) !== 'undefined') {\n",
       "        return MozWebSocket;\n",
       "    } else {\n",
       "        alert('Your browser does not have WebSocket support. ' +\n",
       "              'Please try Chrome, Safari or Firefox ≥ 6. ' +\n",
       "              'Firefox 4 and 5 are also supported but you ' +\n",
       "              'have to enable WebSockets in about:config.');\n",
       "    };\n",
       "}\n",
       "\n",
       "mpl.figure = function(figure_id, websocket, ondownload, parent_element) {\n",
       "    this.id = figure_id;\n",
       "\n",
       "    this.ws = websocket;\n",
       "\n",
       "    this.supports_binary = (this.ws.binaryType != undefined);\n",
       "\n",
       "    if (!this.supports_binary) {\n",
       "        var warnings = document.getElementById(\"mpl-warnings\");\n",
       "        if (warnings) {\n",
       "            warnings.style.display = 'block';\n",
       "            warnings.textContent = (\n",
       "                \"This browser does not support binary websocket messages. \" +\n",
       "                    \"Performance may be slow.\");\n",
       "        }\n",
       "    }\n",
       "\n",
       "    this.imageObj = new Image();\n",
       "\n",
       "    this.context = undefined;\n",
       "    this.message = undefined;\n",
       "    this.canvas = undefined;\n",
       "    this.rubberband_canvas = undefined;\n",
       "    this.rubberband_context = undefined;\n",
       "    this.format_dropdown = undefined;\n",
       "\n",
       "    this.image_mode = 'full';\n",
       "\n",
       "    this.root = $('<div/>');\n",
       "    this._root_extra_style(this.root)\n",
       "    this.root.attr('style', 'display: inline-block');\n",
       "\n",
       "    $(parent_element).append(this.root);\n",
       "\n",
       "    this._init_header(this);\n",
       "    this._init_canvas(this);\n",
       "    this._init_toolbar(this);\n",
       "\n",
       "    var fig = this;\n",
       "\n",
       "    this.waiting = false;\n",
       "\n",
       "    this.ws.onopen =  function () {\n",
       "            fig.send_message(\"supports_binary\", {value: fig.supports_binary});\n",
       "            fig.send_message(\"send_image_mode\", {});\n",
       "            if (mpl.ratio != 1) {\n",
       "                fig.send_message(\"set_dpi_ratio\", {'dpi_ratio': mpl.ratio});\n",
       "            }\n",
       "            fig.send_message(\"refresh\", {});\n",
       "        }\n",
       "\n",
       "    this.imageObj.onload = function() {\n",
       "            if (fig.image_mode == 'full') {\n",
       "                // Full images could contain transparency (where diff images\n",
       "                // almost always do), so we need to clear the canvas so that\n",
       "                // there is no ghosting.\n",
       "                fig.context.clearRect(0, 0, fig.canvas.width, fig.canvas.height);\n",
       "            }\n",
       "            fig.context.drawImage(fig.imageObj, 0, 0);\n",
       "        };\n",
       "\n",
       "    this.imageObj.onunload = function() {\n",
       "        fig.ws.close();\n",
       "    }\n",
       "\n",
       "    this.ws.onmessage = this._make_on_message_function(this);\n",
       "\n",
       "    this.ondownload = ondownload;\n",
       "}\n",
       "\n",
       "mpl.figure.prototype._init_header = function() {\n",
       "    var titlebar = $(\n",
       "        '<div class=\"ui-dialog-titlebar ui-widget-header ui-corner-all ' +\n",
       "        'ui-helper-clearfix\"/>');\n",
       "    var titletext = $(\n",
       "        '<div class=\"ui-dialog-title\" style=\"width: 100%; ' +\n",
       "        'text-align: center; padding: 3px;\"/>');\n",
       "    titlebar.append(titletext)\n",
       "    this.root.append(titlebar);\n",
       "    this.header = titletext[0];\n",
       "}\n",
       "\n",
       "\n",
       "\n",
       "mpl.figure.prototype._canvas_extra_style = function(canvas_div) {\n",
       "\n",
       "}\n",
       "\n",
       "\n",
       "mpl.figure.prototype._root_extra_style = function(canvas_div) {\n",
       "\n",
       "}\n",
       "\n",
       "mpl.figure.prototype._init_canvas = function() {\n",
       "    var fig = this;\n",
       "\n",
       "    var canvas_div = $('<div/>');\n",
       "\n",
       "    canvas_div.attr('style', 'position: relative; clear: both; outline: 0');\n",
       "\n",
       "    function canvas_keyboard_event(event) {\n",
       "        return fig.key_event(event, event['data']);\n",
       "    }\n",
       "\n",
       "    canvas_div.keydown('key_press', canvas_keyboard_event);\n",
       "    canvas_div.keyup('key_release', canvas_keyboard_event);\n",
       "    this.canvas_div = canvas_div\n",
       "    this._canvas_extra_style(canvas_div)\n",
       "    this.root.append(canvas_div);\n",
       "\n",
       "    var canvas = $('<canvas/>');\n",
       "    canvas.addClass('mpl-canvas');\n",
       "    canvas.attr('style', \"left: 0; top: 0; z-index: 0; outline: 0\")\n",
       "\n",
       "    this.canvas = canvas[0];\n",
       "    this.context = canvas[0].getContext(\"2d\");\n",
       "\n",
       "    var backingStore = this.context.backingStorePixelRatio ||\n",
       "\tthis.context.webkitBackingStorePixelRatio ||\n",
       "\tthis.context.mozBackingStorePixelRatio ||\n",
       "\tthis.context.msBackingStorePixelRatio ||\n",
       "\tthis.context.oBackingStorePixelRatio ||\n",
       "\tthis.context.backingStorePixelRatio || 1;\n",
       "\n",
       "    mpl.ratio = (window.devicePixelRatio || 1) / backingStore;\n",
       "\n",
       "    var rubberband = $('<canvas/>');\n",
       "    rubberband.attr('style', \"position: absolute; left: 0; top: 0; z-index: 1;\")\n",
       "\n",
       "    var pass_mouse_events = true;\n",
       "\n",
       "    canvas_div.resizable({\n",
       "        start: function(event, ui) {\n",
       "            pass_mouse_events = false;\n",
       "        },\n",
       "        resize: function(event, ui) {\n",
       "            fig.request_resize(ui.size.width, ui.size.height);\n",
       "        },\n",
       "        stop: function(event, ui) {\n",
       "            pass_mouse_events = true;\n",
       "            fig.request_resize(ui.size.width, ui.size.height);\n",
       "        },\n",
       "    });\n",
       "\n",
       "    function mouse_event_fn(event) {\n",
       "        if (pass_mouse_events)\n",
       "            return fig.mouse_event(event, event['data']);\n",
       "    }\n",
       "\n",
       "    rubberband.mousedown('button_press', mouse_event_fn);\n",
       "    rubberband.mouseup('button_release', mouse_event_fn);\n",
       "    // Throttle sequential mouse events to 1 every 20ms.\n",
       "    rubberband.mousemove('motion_notify', mouse_event_fn);\n",
       "\n",
       "    rubberband.mouseenter('figure_enter', mouse_event_fn);\n",
       "    rubberband.mouseleave('figure_leave', mouse_event_fn);\n",
       "\n",
       "    canvas_div.on(\"wheel\", function (event) {\n",
       "        event = event.originalEvent;\n",
       "        event['data'] = 'scroll'\n",
       "        if (event.deltaY < 0) {\n",
       "            event.step = 1;\n",
       "        } else {\n",
       "            event.step = -1;\n",
       "        }\n",
       "        mouse_event_fn(event);\n",
       "    });\n",
       "\n",
       "    canvas_div.append(canvas);\n",
       "    canvas_div.append(rubberband);\n",
       "\n",
       "    this.rubberband = rubberband;\n",
       "    this.rubberband_canvas = rubberband[0];\n",
       "    this.rubberband_context = rubberband[0].getContext(\"2d\");\n",
       "    this.rubberband_context.strokeStyle = \"#000000\";\n",
       "\n",
       "    this._resize_canvas = function(width, height) {\n",
       "        // Keep the size of the canvas, canvas container, and rubber band\n",
       "        // canvas in synch.\n",
       "        canvas_div.css('width', width)\n",
       "        canvas_div.css('height', height)\n",
       "\n",
       "        canvas.attr('width', width * mpl.ratio);\n",
       "        canvas.attr('height', height * mpl.ratio);\n",
       "        canvas.attr('style', 'width: ' + width + 'px; height: ' + height + 'px;');\n",
       "\n",
       "        rubberband.attr('width', width);\n",
       "        rubberband.attr('height', height);\n",
       "    }\n",
       "\n",
       "    // Set the figure to an initial 600x600px, this will subsequently be updated\n",
       "    // upon first draw.\n",
       "    this._resize_canvas(600, 600);\n",
       "\n",
       "    // Disable right mouse context menu.\n",
       "    $(this.rubberband_canvas).bind(\"contextmenu\",function(e){\n",
       "        return false;\n",
       "    });\n",
       "\n",
       "    function set_focus () {\n",
       "        canvas.focus();\n",
       "        canvas_div.focus();\n",
       "    }\n",
       "\n",
       "    window.setTimeout(set_focus, 100);\n",
       "}\n",
       "\n",
       "mpl.figure.prototype._init_toolbar = function() {\n",
       "    var fig = this;\n",
       "\n",
       "    var nav_element = $('<div/>');\n",
       "    nav_element.attr('style', 'width: 100%');\n",
       "    this.root.append(nav_element);\n",
       "\n",
       "    // Define a callback function for later on.\n",
       "    function toolbar_event(event) {\n",
       "        return fig.toolbar_button_onclick(event['data']);\n",
       "    }\n",
       "    function toolbar_mouse_event(event) {\n",
       "        return fig.toolbar_button_onmouseover(event['data']);\n",
       "    }\n",
       "\n",
       "    for(var toolbar_ind in mpl.toolbar_items) {\n",
       "        var name = mpl.toolbar_items[toolbar_ind][0];\n",
       "        var tooltip = mpl.toolbar_items[toolbar_ind][1];\n",
       "        var image = mpl.toolbar_items[toolbar_ind][2];\n",
       "        var method_name = mpl.toolbar_items[toolbar_ind][3];\n",
       "\n",
       "        if (!name) {\n",
       "            // put a spacer in here.\n",
       "            continue;\n",
       "        }\n",
       "        var button = $('<button/>');\n",
       "        button.addClass('ui-button ui-widget ui-state-default ui-corner-all ' +\n",
       "                        'ui-button-icon-only');\n",
       "        button.attr('role', 'button');\n",
       "        button.attr('aria-disabled', 'false');\n",
       "        button.click(method_name, toolbar_event);\n",
       "        button.mouseover(tooltip, toolbar_mouse_event);\n",
       "\n",
       "        var icon_img = $('<span/>');\n",
       "        icon_img.addClass('ui-button-icon-primary ui-icon');\n",
       "        icon_img.addClass(image);\n",
       "        icon_img.addClass('ui-corner-all');\n",
       "\n",
       "        var tooltip_span = $('<span/>');\n",
       "        tooltip_span.addClass('ui-button-text');\n",
       "        tooltip_span.html(tooltip);\n",
       "\n",
       "        button.append(icon_img);\n",
       "        button.append(tooltip_span);\n",
       "\n",
       "        nav_element.append(button);\n",
       "    }\n",
       "\n",
       "    var fmt_picker_span = $('<span/>');\n",
       "\n",
       "    var fmt_picker = $('<select/>');\n",
       "    fmt_picker.addClass('mpl-toolbar-option ui-widget ui-widget-content');\n",
       "    fmt_picker_span.append(fmt_picker);\n",
       "    nav_element.append(fmt_picker_span);\n",
       "    this.format_dropdown = fmt_picker[0];\n",
       "\n",
       "    for (var ind in mpl.extensions) {\n",
       "        var fmt = mpl.extensions[ind];\n",
       "        var option = $(\n",
       "            '<option/>', {selected: fmt === mpl.default_extension}).html(fmt);\n",
       "        fmt_picker.append(option);\n",
       "    }\n",
       "\n",
       "    // Add hover states to the ui-buttons\n",
       "    $( \".ui-button\" ).hover(\n",
       "        function() { $(this).addClass(\"ui-state-hover\");},\n",
       "        function() { $(this).removeClass(\"ui-state-hover\");}\n",
       "    );\n",
       "\n",
       "    var status_bar = $('<span class=\"mpl-message\"/>');\n",
       "    nav_element.append(status_bar);\n",
       "    this.message = status_bar[0];\n",
       "}\n",
       "\n",
       "mpl.figure.prototype.request_resize = function(x_pixels, y_pixels) {\n",
       "    // Request matplotlib to resize the figure. Matplotlib will then trigger a resize in the client,\n",
       "    // which will in turn request a refresh of the image.\n",
       "    this.send_message('resize', {'width': x_pixels, 'height': y_pixels});\n",
       "}\n",
       "\n",
       "mpl.figure.prototype.send_message = function(type, properties) {\n",
       "    properties['type'] = type;\n",
       "    properties['figure_id'] = this.id;\n",
       "    this.ws.send(JSON.stringify(properties));\n",
       "}\n",
       "\n",
       "mpl.figure.prototype.send_draw_message = function() {\n",
       "    if (!this.waiting) {\n",
       "        this.waiting = true;\n",
       "        this.ws.send(JSON.stringify({type: \"draw\", figure_id: this.id}));\n",
       "    }\n",
       "}\n",
       "\n",
       "\n",
       "mpl.figure.prototype.handle_save = function(fig, msg) {\n",
       "    var format_dropdown = fig.format_dropdown;\n",
       "    var format = format_dropdown.options[format_dropdown.selectedIndex].value;\n",
       "    fig.ondownload(fig, format);\n",
       "}\n",
       "\n",
       "\n",
       "mpl.figure.prototype.handle_resize = function(fig, msg) {\n",
       "    var size = msg['size'];\n",
       "    if (size[0] != fig.canvas.width || size[1] != fig.canvas.height) {\n",
       "        fig._resize_canvas(size[0], size[1]);\n",
       "        fig.send_message(\"refresh\", {});\n",
       "    };\n",
       "}\n",
       "\n",
       "mpl.figure.prototype.handle_rubberband = function(fig, msg) {\n",
       "    var x0 = msg['x0'] / mpl.ratio;\n",
       "    var y0 = (fig.canvas.height - msg['y0']) / mpl.ratio;\n",
       "    var x1 = msg['x1'] / mpl.ratio;\n",
       "    var y1 = (fig.canvas.height - msg['y1']) / mpl.ratio;\n",
       "    x0 = Math.floor(x0) + 0.5;\n",
       "    y0 = Math.floor(y0) + 0.5;\n",
       "    x1 = Math.floor(x1) + 0.5;\n",
       "    y1 = Math.floor(y1) + 0.5;\n",
       "    var min_x = Math.min(x0, x1);\n",
       "    var min_y = Math.min(y0, y1);\n",
       "    var width = Math.abs(x1 - x0);\n",
       "    var height = Math.abs(y1 - y0);\n",
       "\n",
       "    fig.rubberband_context.clearRect(\n",
       "        0, 0, fig.canvas.width / mpl.ratio, fig.canvas.height / mpl.ratio);\n",
       "\n",
       "    fig.rubberband_context.strokeRect(min_x, min_y, width, height);\n",
       "}\n",
       "\n",
       "mpl.figure.prototype.handle_figure_label = function(fig, msg) {\n",
       "    // Updates the figure title.\n",
       "    fig.header.textContent = msg['label'];\n",
       "}\n",
       "\n",
       "mpl.figure.prototype.handle_cursor = function(fig, msg) {\n",
       "    var cursor = msg['cursor'];\n",
       "    switch(cursor)\n",
       "    {\n",
       "    case 0:\n",
       "        cursor = 'pointer';\n",
       "        break;\n",
       "    case 1:\n",
       "        cursor = 'default';\n",
       "        break;\n",
       "    case 2:\n",
       "        cursor = 'crosshair';\n",
       "        break;\n",
       "    case 3:\n",
       "        cursor = 'move';\n",
       "        break;\n",
       "    }\n",
       "    fig.rubberband_canvas.style.cursor = cursor;\n",
       "}\n",
       "\n",
       "mpl.figure.prototype.handle_message = function(fig, msg) {\n",
       "    fig.message.textContent = msg['message'];\n",
       "}\n",
       "\n",
       "mpl.figure.prototype.handle_draw = function(fig, msg) {\n",
       "    // Request the server to send over a new figure.\n",
       "    fig.send_draw_message();\n",
       "}\n",
       "\n",
       "mpl.figure.prototype.handle_image_mode = function(fig, msg) {\n",
       "    fig.image_mode = msg['mode'];\n",
       "}\n",
       "\n",
       "mpl.figure.prototype.updated_canvas_event = function() {\n",
       "    // Called whenever the canvas gets updated.\n",
       "    this.send_message(\"ack\", {});\n",
       "}\n",
       "\n",
       "// A function to construct a web socket function for onmessage handling.\n",
       "// Called in the figure constructor.\n",
       "mpl.figure.prototype._make_on_message_function = function(fig) {\n",
       "    return function socket_on_message(evt) {\n",
       "        if (evt.data instanceof Blob) {\n",
       "            /* FIXME: We get \"Resource interpreted as Image but\n",
       "             * transferred with MIME type text/plain:\" errors on\n",
       "             * Chrome.  But how to set the MIME type?  It doesn't seem\n",
       "             * to be part of the websocket stream */\n",
       "            evt.data.type = \"image/png\";\n",
       "\n",
       "            /* Free the memory for the previous frames */\n",
       "            if (fig.imageObj.src) {\n",
       "                (window.URL || window.webkitURL).revokeObjectURL(\n",
       "                    fig.imageObj.src);\n",
       "            }\n",
       "\n",
       "            fig.imageObj.src = (window.URL || window.webkitURL).createObjectURL(\n",
       "                evt.data);\n",
       "            fig.updated_canvas_event();\n",
       "            fig.waiting = false;\n",
       "            return;\n",
       "        }\n",
       "        else if (typeof evt.data === 'string' && evt.data.slice(0, 21) == \"data:image/png;base64\") {\n",
       "            fig.imageObj.src = evt.data;\n",
       "            fig.updated_canvas_event();\n",
       "            fig.waiting = false;\n",
       "            return;\n",
       "        }\n",
       "\n",
       "        var msg = JSON.parse(evt.data);\n",
       "        var msg_type = msg['type'];\n",
       "\n",
       "        // Call the  \"handle_{type}\" callback, which takes\n",
       "        // the figure and JSON message as its only arguments.\n",
       "        try {\n",
       "            var callback = fig[\"handle_\" + msg_type];\n",
       "        } catch (e) {\n",
       "            console.log(\"No handler for the '\" + msg_type + \"' message type: \", msg);\n",
       "            return;\n",
       "        }\n",
       "\n",
       "        if (callback) {\n",
       "            try {\n",
       "                // console.log(\"Handling '\" + msg_type + \"' message: \", msg);\n",
       "                callback(fig, msg);\n",
       "            } catch (e) {\n",
       "                console.log(\"Exception inside the 'handler_\" + msg_type + \"' callback:\", e, e.stack, msg);\n",
       "            }\n",
       "        }\n",
       "    };\n",
       "}\n",
       "\n",
       "// from http://stackoverflow.com/questions/1114465/getting-mouse-location-in-canvas\n",
       "mpl.findpos = function(e) {\n",
       "    //this section is from http://www.quirksmode.org/js/events_properties.html\n",
       "    var targ;\n",
       "    if (!e)\n",
       "        e = window.event;\n",
       "    if (e.target)\n",
       "        targ = e.target;\n",
       "    else if (e.srcElement)\n",
       "        targ = e.srcElement;\n",
       "    if (targ.nodeType == 3) // defeat Safari bug\n",
       "        targ = targ.parentNode;\n",
       "\n",
       "    // jQuery normalizes the pageX and pageY\n",
       "    // pageX,Y are the mouse positions relative to the document\n",
       "    // offset() returns the position of the element relative to the document\n",
       "    var x = e.pageX - $(targ).offset().left;\n",
       "    var y = e.pageY - $(targ).offset().top;\n",
       "\n",
       "    return {\"x\": x, \"y\": y};\n",
       "};\n",
       "\n",
       "/*\n",
       " * return a copy of an object with only non-object keys\n",
       " * we need this to avoid circular references\n",
       " * http://stackoverflow.com/a/24161582/3208463\n",
       " */\n",
       "function simpleKeys (original) {\n",
       "  return Object.keys(original).reduce(function (obj, key) {\n",
       "    if (typeof original[key] !== 'object')\n",
       "        obj[key] = original[key]\n",
       "    return obj;\n",
       "  }, {});\n",
       "}\n",
       "\n",
       "mpl.figure.prototype.mouse_event = function(event, name) {\n",
       "    var canvas_pos = mpl.findpos(event)\n",
       "\n",
       "    if (name === 'button_press')\n",
       "    {\n",
       "        this.canvas.focus();\n",
       "        this.canvas_div.focus();\n",
       "    }\n",
       "\n",
       "    var x = canvas_pos.x * mpl.ratio;\n",
       "    var y = canvas_pos.y * mpl.ratio;\n",
       "\n",
       "    this.send_message(name, {x: x, y: y, button: event.button,\n",
       "                             step: event.step,\n",
       "                             guiEvent: simpleKeys(event)});\n",
       "\n",
       "    /* This prevents the web browser from automatically changing to\n",
       "     * the text insertion cursor when the button is pressed.  We want\n",
       "     * to control all of the cursor setting manually through the\n",
       "     * 'cursor' event from matplotlib */\n",
       "    event.preventDefault();\n",
       "    return false;\n",
       "}\n",
       "\n",
       "mpl.figure.prototype._key_event_extra = function(event, name) {\n",
       "    // Handle any extra behaviour associated with a key event\n",
       "}\n",
       "\n",
       "mpl.figure.prototype.key_event = function(event, name) {\n",
       "\n",
       "    // Prevent repeat events\n",
       "    if (name == 'key_press')\n",
       "    {\n",
       "        if (event.which === this._key)\n",
       "            return;\n",
       "        else\n",
       "            this._key = event.which;\n",
       "    }\n",
       "    if (name == 'key_release')\n",
       "        this._key = null;\n",
       "\n",
       "    var value = '';\n",
       "    if (event.ctrlKey && event.which != 17)\n",
       "        value += \"ctrl+\";\n",
       "    if (event.altKey && event.which != 18)\n",
       "        value += \"alt+\";\n",
       "    if (event.shiftKey && event.which != 16)\n",
       "        value += \"shift+\";\n",
       "\n",
       "    value += 'k';\n",
       "    value += event.which.toString();\n",
       "\n",
       "    this._key_event_extra(event, name);\n",
       "\n",
       "    this.send_message(name, {key: value,\n",
       "                             guiEvent: simpleKeys(event)});\n",
       "    return false;\n",
       "}\n",
       "\n",
       "mpl.figure.prototype.toolbar_button_onclick = function(name) {\n",
       "    if (name == 'download') {\n",
       "        this.handle_save(this, null);\n",
       "    } else {\n",
       "        this.send_message(\"toolbar_button\", {name: name});\n",
       "    }\n",
       "};\n",
       "\n",
       "mpl.figure.prototype.toolbar_button_onmouseover = function(tooltip) {\n",
       "    this.message.textContent = tooltip;\n",
       "};\n",
       "mpl.toolbar_items = [[\"Home\", \"Reset original view\", \"fa fa-home icon-home\", \"home\"], [\"Back\", \"Back to previous view\", \"fa fa-arrow-left icon-arrow-left\", \"back\"], [\"Forward\", \"Forward to next view\", \"fa fa-arrow-right icon-arrow-right\", \"forward\"], [\"\", \"\", \"\", \"\"], [\"Pan\", \"Pan axes with left mouse, zoom with right\", \"fa fa-arrows icon-move\", \"pan\"], [\"Zoom\", \"Zoom to rectangle\", \"fa fa-square-o icon-check-empty\", \"zoom\"], [\"\", \"\", \"\", \"\"], [\"Download\", \"Download plot\", \"fa fa-floppy-o icon-save\", \"download\"]];\n",
       "\n",
       "mpl.extensions = [\"eps\", \"jpeg\", \"pdf\", \"png\", \"ps\", \"raw\", \"svg\", \"tif\"];\n",
       "\n",
       "mpl.default_extension = \"png\";var comm_websocket_adapter = function(comm) {\n",
       "    // Create a \"websocket\"-like object which calls the given IPython comm\n",
       "    // object with the appropriate methods. Currently this is a non binary\n",
       "    // socket, so there is still some room for performance tuning.\n",
       "    var ws = {};\n",
       "\n",
       "    ws.close = function() {\n",
       "        comm.close()\n",
       "    };\n",
       "    ws.send = function(m) {\n",
       "        //console.log('sending', m);\n",
       "        comm.send(m);\n",
       "    };\n",
       "    // Register the callback with on_msg.\n",
       "    comm.on_msg(function(msg) {\n",
       "        //console.log('receiving', msg['content']['data'], msg);\n",
       "        // Pass the mpl event to the overridden (by mpl) onmessage function.\n",
       "        ws.onmessage(msg['content']['data'])\n",
       "    });\n",
       "    return ws;\n",
       "}\n",
       "\n",
       "mpl.mpl_figure_comm = function(comm, msg) {\n",
       "    // This is the function which gets called when the mpl process\n",
       "    // starts-up an IPython Comm through the \"matplotlib\" channel.\n",
       "\n",
       "    var id = msg.content.data.id;\n",
       "    // Get hold of the div created by the display call when the Comm\n",
       "    // socket was opened in Python.\n",
       "    var element = $(\"#\" + id);\n",
       "    var ws_proxy = comm_websocket_adapter(comm)\n",
       "\n",
       "    function ondownload(figure, format) {\n",
       "        window.open(figure.imageObj.src);\n",
       "    }\n",
       "\n",
       "    var fig = new mpl.figure(id, ws_proxy,\n",
       "                           ondownload,\n",
       "                           element.get(0));\n",
       "\n",
       "    // Call onopen now - mpl needs it, as it is assuming we've passed it a real\n",
       "    // web socket which is closed, not our websocket->open comm proxy.\n",
       "    ws_proxy.onopen();\n",
       "\n",
       "    fig.parent_element = element.get(0);\n",
       "    fig.cell_info = mpl.find_output_cell(\"<div id='\" + id + \"'></div>\");\n",
       "    if (!fig.cell_info) {\n",
       "        console.error(\"Failed to find cell for figure\", id, fig);\n",
       "        return;\n",
       "    }\n",
       "\n",
       "    var output_index = fig.cell_info[2]\n",
       "    var cell = fig.cell_info[0];\n",
       "\n",
       "};\n",
       "\n",
       "mpl.figure.prototype.handle_close = function(fig, msg) {\n",
       "    var width = fig.canvas.width/mpl.ratio\n",
       "    fig.root.unbind('remove')\n",
       "\n",
       "    // Update the output cell to use the data from the current canvas.\n",
       "    fig.push_to_output();\n",
       "    var dataURL = fig.canvas.toDataURL();\n",
       "    // Re-enable the keyboard manager in IPython - without this line, in FF,\n",
       "    // the notebook keyboard shortcuts fail.\n",
       "    IPython.keyboard_manager.enable()\n",
       "    $(fig.parent_element).html('<img src=\"' + dataURL + '\" width=\"' + width + '\">');\n",
       "    fig.close_ws(fig, msg);\n",
       "}\n",
       "\n",
       "mpl.figure.prototype.close_ws = function(fig, msg){\n",
       "    fig.send_message('closing', msg);\n",
       "    // fig.ws.close()\n",
       "}\n",
       "\n",
       "mpl.figure.prototype.push_to_output = function(remove_interactive) {\n",
       "    // Turn the data on the canvas into data in the output cell.\n",
       "    var width = this.canvas.width/mpl.ratio\n",
       "    var dataURL = this.canvas.toDataURL();\n",
       "    this.cell_info[1]['text/html'] = '<img src=\"' + dataURL + '\" width=\"' + width + '\">';\n",
       "}\n",
       "\n",
       "mpl.figure.prototype.updated_canvas_event = function() {\n",
       "    // Tell IPython that the notebook contents must change.\n",
       "    IPython.notebook.set_dirty(true);\n",
       "    this.send_message(\"ack\", {});\n",
       "    var fig = this;\n",
       "    // Wait a second, then push the new image to the DOM so\n",
       "    // that it is saved nicely (might be nice to debounce this).\n",
       "    setTimeout(function () { fig.push_to_output() }, 1000);\n",
       "}\n",
       "\n",
       "mpl.figure.prototype._init_toolbar = function() {\n",
       "    var fig = this;\n",
       "\n",
       "    var nav_element = $('<div/>');\n",
       "    nav_element.attr('style', 'width: 100%');\n",
       "    this.root.append(nav_element);\n",
       "\n",
       "    // Define a callback function for later on.\n",
       "    function toolbar_event(event) {\n",
       "        return fig.toolbar_button_onclick(event['data']);\n",
       "    }\n",
       "    function toolbar_mouse_event(event) {\n",
       "        return fig.toolbar_button_onmouseover(event['data']);\n",
       "    }\n",
       "\n",
       "    for(var toolbar_ind in mpl.toolbar_items){\n",
       "        var name = mpl.toolbar_items[toolbar_ind][0];\n",
       "        var tooltip = mpl.toolbar_items[toolbar_ind][1];\n",
       "        var image = mpl.toolbar_items[toolbar_ind][2];\n",
       "        var method_name = mpl.toolbar_items[toolbar_ind][3];\n",
       "\n",
       "        if (!name) { continue; };\n",
       "\n",
       "        var button = $('<button class=\"btn btn-default\" href=\"#\" title=\"' + name + '\"><i class=\"fa ' + image + ' fa-lg\"></i></button>');\n",
       "        button.click(method_name, toolbar_event);\n",
       "        button.mouseover(tooltip, toolbar_mouse_event);\n",
       "        nav_element.append(button);\n",
       "    }\n",
       "\n",
       "    // Add the status bar.\n",
       "    var status_bar = $('<span class=\"mpl-message\" style=\"text-align:right; float: right;\"/>');\n",
       "    nav_element.append(status_bar);\n",
       "    this.message = status_bar[0];\n",
       "\n",
       "    // Add the close button to the window.\n",
       "    var buttongrp = $('<div class=\"btn-group inline pull-right\"></div>');\n",
       "    var button = $('<button class=\"btn btn-mini btn-primary\" href=\"#\" title=\"Stop Interaction\"><i class=\"fa fa-power-off icon-remove icon-large\"></i></button>');\n",
       "    button.click(function (evt) { fig.handle_close(fig, {}); } );\n",
       "    button.mouseover('Stop Interaction', toolbar_mouse_event);\n",
       "    buttongrp.append(button);\n",
       "    var titlebar = this.root.find($('.ui-dialog-titlebar'));\n",
       "    titlebar.prepend(buttongrp);\n",
       "}\n",
       "\n",
       "mpl.figure.prototype._root_extra_style = function(el){\n",
       "    var fig = this\n",
       "    el.on(\"remove\", function(){\n",
       "\tfig.close_ws(fig, {});\n",
       "    });\n",
       "}\n",
       "\n",
       "mpl.figure.prototype._canvas_extra_style = function(el){\n",
       "    // this is important to make the div 'focusable\n",
       "    el.attr('tabindex', 0)\n",
       "    // reach out to IPython and tell the keyboard manager to turn it's self\n",
       "    // off when our div gets focus\n",
       "\n",
       "    // location in version 3\n",
       "    if (IPython.notebook.keyboard_manager) {\n",
       "        IPython.notebook.keyboard_manager.register_events(el);\n",
       "    }\n",
       "    else {\n",
       "        // location in version 2\n",
       "        IPython.keyboard_manager.register_events(el);\n",
       "    }\n",
       "\n",
       "}\n",
       "\n",
       "mpl.figure.prototype._key_event_extra = function(event, name) {\n",
       "    var manager = IPython.notebook.keyboard_manager;\n",
       "    if (!manager)\n",
       "        manager = IPython.keyboard_manager;\n",
       "\n",
       "    // Check for shift+enter\n",
       "    if (event.shiftKey && event.which == 13) {\n",
       "        this.canvas_div.blur();\n",
       "        // select the cell after this one\n",
       "        var index = IPython.notebook.find_cell_index(this.cell_info[0]);\n",
       "        IPython.notebook.select(index + 1);\n",
       "    }\n",
       "}\n",
       "\n",
       "mpl.figure.prototype.handle_save = function(fig, msg) {\n",
       "    fig.ondownload(fig, null);\n",
       "}\n",
       "\n",
       "\n",
       "mpl.find_output_cell = function(html_output) {\n",
       "    // Return the cell and output element which can be found *uniquely* in the notebook.\n",
       "    // Note - this is a bit hacky, but it is done because the \"notebook_saving.Notebook\"\n",
       "    // IPython event is triggered only after the cells have been serialised, which for\n",
       "    // our purposes (turning an active figure into a static one), is too late.\n",
       "    var cells = IPython.notebook.get_cells();\n",
       "    var ncells = cells.length;\n",
       "    for (var i=0; i<ncells; i++) {\n",
       "        var cell = cells[i];\n",
       "        if (cell.cell_type === 'code'){\n",
       "            for (var j=0; j<cell.output_area.outputs.length; j++) {\n",
       "                var data = cell.output_area.outputs[j];\n",
       "                if (data.data) {\n",
       "                    // IPython >= 3 moved mimebundle to data attribute of output\n",
       "                    data = data.data;\n",
       "                }\n",
       "                if (data['text/html'] == html_output) {\n",
       "                    return [cell, data, j];\n",
       "                }\n",
       "            }\n",
       "        }\n",
       "    }\n",
       "}\n",
       "\n",
       "// Register the function which deals with the matplotlib target/channel.\n",
       "// The kernel may be null if the page has been refreshed.\n",
       "if (IPython.notebook.kernel != null) {\n",
       "    IPython.notebook.kernel.comm_manager.register_target('matplotlib', mpl.mpl_figure_comm);\n",
       "}\n"
      ],
      "text/plain": [
       "<IPython.core.display.Javascript object>"
      ]
     },
     "metadata": {},
     "output_type": "display_data"
    },
    {
     "data": {
      "text/html": [
       "<img src=\"data:image/png;base64,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\" width=\"1000\">"
      ],
      "text/plain": [
       "<IPython.core.display.HTML object>"
      ]
     },
     "metadata": {},
     "output_type": "display_data"
    }
   ],
   "source": [
    "dual_train_plots_tracks_to_KDE(results.index,\n",
    "                               results.cost, results.val,\n",
    "                               results.cost, results.val)\n",
    "plt.tight_layout()\n",
    "plt.savefig(str(output / f'{name}_stats_a.png'))"
   ]
  },
  {
   "cell_type": "code",
   "execution_count": 22,
   "metadata": {},
   "outputs": [],
   "source": [
    "#quit()"
   ]
  },
  {
   "cell_type": "code",
   "execution_count": null,
   "metadata": {},
   "outputs": [],
   "source": []
  },
  {
   "cell_type": "code",
   "execution_count": null,
   "metadata": {},
   "outputs": [],
   "source": []
  }
 ],
 "metadata": {
  "kernelspec": {
   "display_name": "goofit-june2020",
   "language": "python",
   "name": "goofit-june2020"
  },
  "language_info": {
   "codemirror_mode": {
    "name": "ipython",
    "version": 3
   },
   "file_extension": ".py",
   "mimetype": "text/x-python",
   "name": "python",
   "nbconvert_exporter": "python",
   "pygments_lexer": "ipython3",
   "version": "3.7.6"
  }
 },
 "nbformat": 4,
 "nbformat_minor": 2
}
