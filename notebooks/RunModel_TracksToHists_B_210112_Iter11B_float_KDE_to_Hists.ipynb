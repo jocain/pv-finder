{
 "cells": [
  {
   "cell_type": "code",
   "execution_count": 1,
   "metadata": {},
   "outputs": [],
   "source": [
    "##%matplotlib widget\n",
    "## with %matplotlib notebook: seems to require ipympl as part of environment, either\n",
    "## part of the conda environment or \"pip install ipympl\"\n",
    "## otherwise, does not show ANY plots in notebook, plt.savefig() works\n",
    "%matplotlib notebook  \n",
    "##%matplotlib inline    ## --plt.savefig()  works, but re-sizing does NOT\n"
   ]
  },
  {
   "cell_type": "markdown",
   "metadata": {},
   "source": [
    "This notebook is a first attempt to read in track information and use it to predict the the full target histrograms.\n",
    "\n",
    "It will read in the TracksToDKE__Ellipsoids_DDPlus model to predict the KDE, and then feed it into a SimpleCNN model to predict the target histograms.  Initially, it will use previously trained weights.\n"
   ]
  },
  {
   "cell_type": "markdown",
   "metadata": {},
   "source": [
    "Check the current GPU usage. Please try to be nice!"
   ]
  },
  {
   "cell_type": "code",
   "execution_count": 2,
   "metadata": {},
   "outputs": [
    {
     "name": "stdout",
     "output_type": "stream",
     "text": [
      "Tue Jan 12 17:16:31 2021       \r\n",
      "+-----------------------------------------------------------------------------+\r\n",
      "| NVIDIA-SMI 450.36.06    Driver Version: 450.36.06    CUDA Version: 11.0     |\r\n",
      "|-------------------------------+----------------------+----------------------+\r\n",
      "| GPU  Name        Persistence-M| Bus-Id        Disp.A | Volatile Uncorr. ECC |\r\n",
      "| Fan  Temp  Perf  Pwr:Usage/Cap|         Memory-Usage | GPU-Util  Compute M. |\r\n",
      "|                               |                      |               MIG M. |\r\n",
      "|===============================+======================+======================|\r\n",
      "|   0  GeForce RTX 208...  On   | 00000000:18:00.0 Off |                  N/A |\r\n",
      "| 29%   35C    P8    38W / 250W |  10778MiB / 11019MiB |      0%      Default |\r\n",
      "|                               |                      |                  N/A |\r\n",
      "+-------------------------------+----------------------+----------------------+\r\n",
      "|   1  GeForce RTX 208...  On   | 00000000:3B:00.0 Off |                  N/A |\r\n",
      "| 29%   35C    P8    39W / 250W |     61MiB / 11019MiB |      0%      Default |\r\n",
      "|                               |                      |                  N/A |\r\n",
      "+-------------------------------+----------------------+----------------------+\r\n",
      "                                                                               \r\n",
      "+-----------------------------------------------------------------------------+\r\n",
      "| Processes:                                                                  |\r\n",
      "|  GPU   GI   CI        PID   Type   Process name                  GPU Memory |\r\n",
      "|        ID   ID                                                   Usage      |\r\n",
      "|=============================================================================|\r\n",
      "|    0   N/A  N/A     10361      C   ...s/june2020-gpu/bin/python     4215MiB |\r\n",
      "|    0   N/A  N/A    244396      C   ...s/june2020-gpu/bin/python     6559MiB |\r\n",
      "|    1   N/A  N/A      3736      G   /usr/bin/X                         33MiB |\r\n",
      "|    1   N/A  N/A      3790      G   /usr/bin/gnome-shell               25MiB |\r\n",
      "+-----------------------------------------------------------------------------+\r\n"
     ]
    }
   ],
   "source": [
    "!nvidia-smi"
   ]
  },
  {
   "cell_type": "markdown",
   "metadata": {},
   "source": [
    "> **WARNING**: The card numbers here are *not* the same as in CUDA. You have been warned."
   ]
  },
  {
   "cell_type": "markdown",
   "metadata": {},
   "source": [
    "## Imports"
   ]
  },
  {
   "cell_type": "code",
   "execution_count": 3,
   "metadata": {},
   "outputs": [],
   "source": [
    "import matplotlib.pyplot as plt\n",
    "import numpy as np\n",
    "import time\n",
    "import torch\n",
    "import pandas as pd\n",
    "\n",
    "# Python 3 standard library\n",
    "from pathlib import Path\n",
    "\n",
    "from model.efficiency import pv_locations, efficiency\n",
    "\n",
    "##from torchsummary import summary"
   ]
  },
  {
   "cell_type": "markdown",
   "metadata": {},
   "source": [
    "### Set up local parameters"
   ]
  },
  {
   "cell_type": "code",
   "execution_count": 4,
   "metadata": {},
   "outputs": [],
   "source": [
    "n_epochs = 100\n",
    "\n",
    "# Name is the output file name\n",
    "\n",
    "\n",
    "##  200719  mds\n",
    "##folder = '20December_Tracks_to_KDE_TestTrainedModel'\n",
    "##folder = '22December_testing_DDplus_loss_Bb_iter2_floatAll_100epochs_3em6'\n",
    "## 50 epochs using 4 of Will's files with batch_size = 48 should take\n",
    "##  just over 8 hours\n",
    "folder = '11Jan2021_TracksToHists_B_Iter11B_100epochs_lr_3em5_b48_2p5_kde2hists_float_all_4x_will'\n",
    "name = folder\n",
    "\n",
    "# Make an output folder named \"name\" (change if you want)\n",
    "\n",
    "## Special instructions for those working on goofy at UC\n",
    "## Please be very careful to make sure that your folder\n",
    "## does not live in a subdirectory of your home directory\n",
    "## this disk has very little capacity. Instead, use \n",
    "## a subdirectory in /share/lazy with a symbolic link to\n",
    "## it in this (the notebooks) subdirectory\n",
    "folder = 'ML/' + folder\n",
    "output = Path(folder)\n",
    "\n",
    "\n",
    "# Size of batches\n",
    "## reduce batch size from 64 to 32 when floating all the parameters\n",
    "##  it *appears* that storing the gradients requires extra memory\n",
    "##  batch_size = 32 --> 6623MiB / 11019 MiB on sleepy RTX2081 Ti\n",
    "batch_size = 48\n",
    "# How fast to learn\n",
    "## learning rate was 1e-7 for all layers in TracksToHists_A\n",
    "## here we want to learn only weights in the finalFilter layer\n",
    "## of TracksToHists_B, so try a high learning rate, at least initially\n",
    "## 1e-3 did well for the first 10 epochs; let's increase it for the next 40\n",
    "## reduce to 1e-3 for iteration with KDE_to_Hists weights floated\n",
    "##  cost decreased monotonically in previous run, so increase lr to 2e-3\n",
    "##  tried running with lr = 2e-3 and the validation cost function \n",
    "##  bounced around.  Want to try using a lower learning rate and\n",
    "##  a larger training sample\n",
    "##  Iter5B --  float all, leave learning rate = 5e-4\n",
    "##  Iter6C, with lr = 1e-5 rather than 1e-6, seems to be learning more quickly,\n",
    "##  so increase the learning rate to 1e-5 for Iter7B\n",
    "##  training sample xost decreased almost monotonically for Iter8B, so increase to 3e-5 for Iter9B\n",
    "##  (recalling that a higher learning rate introduced many fluctuations around a decreasing trend line\n",
    "##    in a past experiment, but also produced a greater decrease altogether)\n",
    "\n",
    "## for Iter11B, continue with learning_rate = 3e-5 as the cost function continued to frop almost monotonically\n",
    "## in Iter10B; \n",
    "learning_rate = 3e-5"
   ]
  },
  {
   "cell_type": "markdown",
   "metadata": {},
   "source": [
    "Make the output directory if it does not exist:"
   ]
  },
  {
   "cell_type": "code",
   "execution_count": 5,
   "metadata": {},
   "outputs": [],
   "source": [
    "output.mkdir(exist_ok=True)"
   ]
  },
  {
   "cell_type": "markdown",
   "metadata": {},
   "source": [
    "## Get the helper functions\n",
    "\n",
    "Add the directory with the model\n",
    "definitions to the path so we can import from it:\n",
    "\n",
    "> When you type `import X`,\n",
    "Python searches `sys.path` for a python\n",
    "file named `X.py` to import. So we need to add the model directory to the path."
   ]
  },
  {
   "cell_type": "code",
   "execution_count": 6,
   "metadata": {
    "scrolled": true
   },
   "outputs": [],
   "source": [
    "# From model/collectdata.py\n",
    "##from model.collectdata_kde_Ellipsoids import collect_t2kde_data\n",
    "from model.collectdata_t2hists import collect_t2hists_data\n",
    "from model.collectdata_mdsA  import collect_truth\n",
    "\n",
    "# From model/loss.py\n",
    "##from loss import Loss\n",
    "##from model.kde_loss_D import Loss\n",
    "## from model.kde_loss_B import Loss  ## Tracks_to_KDE loss, not for target hists\n",
    "\n",
    "##  \"standard\" ratios loss for hists training\n",
    "from model.alt_loss_A import Loss  ## loss used to train RunModel_Demo_28November2020-SimpleCNNLayer_Ca-Restart_5\n",
    "\n",
    "\n",
    "##from model.models_kde import TracksToKDE_Ellipsoids_DirtyDozen as Model\n",
    "from model.models_kde import TracksToKDE_Ellipsoids_DDplus as t2kde_model\n",
    "##from model.models_mds_G import SimpleCNN5Layer_Ca as kde2hists_model\n",
    "from model.models_mds_28Dec20 import SimpleCNN5Layer_Ca as kde2hists_model  ## copy of models_mds_01June20 for debugging\n",
    "from model.models_t2hists import TracksToHists_B as t2hists_model\n",
    "\n",
    "\n",
    "##from model.training_kde import trainNet, select_gpu, Results\n",
    "## training_t2hists_A.py increases \"difference\" for accepting found\n",
    "## peaks as matched from 5 bins to 7.5 bins (compmared to original training.py)\n",
    "from model.training_t2hists_A import trainNet, select_gpu, Results\n",
    "from model.plots import dual_train_plots, replace_in_ax"
   ]
  },
  {
   "cell_type": "code",
   "execution_count": 7,
   "metadata": {},
   "outputs": [],
   "source": [
    "# This gets built up during the run - do not rerun this cell\n",
    "results = pd.DataFrame([], columns=Results._fields)"
   ]
  },
  {
   "cell_type": "markdown",
   "metadata": {},
   "source": [
    "Set up Torch device configuration. All tensors and model parameters need to know where to be put.\n",
    "This takes a BUS ID number: The BUS ID is the same as the listing at the top of this script."
   ]
  },
  {
   "cell_type": "code",
   "execution_count": 8,
   "metadata": {},
   "outputs": [
    {
     "name": "stdout",
     "output_type": "stream",
     "text": [
      "1 available GPUs (initially using device 0):\n",
      "  0 GeForce RTX 2080 Ti\n"
     ]
    }
   ],
   "source": [
    "device = select_gpu(1)\n",
    "##device = \"cpu\""
   ]
  },
  {
   "cell_type": "markdown",
   "metadata": {},
   "source": [
    "## Loading data\n",
    "\n",
    "Load the dataset, split into parts, then move to device (see `collectdata.py` in the `../model` directory)"
   ]
  },
  {
   "cell_type": "code",
   "execution_count": 9,
   "metadata": {
    "scrolled": false
   },
   "outputs": [
    {
     "name": "stdout",
     "output_type": "stream",
     "text": [
      "Loading data...\n",
      "pocaMx.shape =  (80000,)\n",
      "nEvts =  80000\n",
      "len(pocaMx[0]) =  199\n",
      "len(pocaMx[1]) =  25\n",
      "len(pocaMx[2]) =  369\n",
      "len(pocaMx[3]) =  143\n",
      "len(pocaMx[4]) =  160\n",
      "have entered six_ellipsoid_parameters\n",
      "  \n",
      " \n",
      "  nEvts =  80000\n",
      " iEvt, nTrks =  0 199\n",
      " iEvt, nTrks =  1 25\n",
      " iEvt, nTrks =  2 369\n",
      " iEvt, nTrks =  3 143\n",
      " iEvt, nTrks =  4 160\n",
      " iEvt, nTrks =  5 260\n",
      " iEvt, nTrks =  6 237\n",
      " iEvt, nTrks =  7 327\n",
      " iEvt, nTrks =  8 178\n",
      " iEvt, nTrks =  9 106\n",
      "len(X) =  80000\n",
      "len(Xlist) =  1\n",
      "Loaded /share/lazy/will/data/June30_2020_80k_1.h5 in 107.1 s\n",
      "pocaMx.shape =  (80000,)\n",
      "nEvts =  80000\n",
      "len(pocaMx[0]) =  222\n",
      "len(pocaMx[1]) =  133\n",
      "len(pocaMx[2]) =  259\n",
      "len(pocaMx[3]) =  114\n",
      "len(pocaMx[4]) =  143\n",
      "have entered six_ellipsoid_parameters\n",
      "  \n",
      " \n",
      "  nEvts =  80000\n",
      " iEvt, nTrks =  0 222\n",
      " iEvt, nTrks =  1 133\n",
      " iEvt, nTrks =  2 259\n",
      " iEvt, nTrks =  3 114\n",
      " iEvt, nTrks =  4 143\n",
      " iEvt, nTrks =  5 136\n",
      " iEvt, nTrks =  6 397\n",
      " iEvt, nTrks =  7 370\n",
      " iEvt, nTrks =  8 97\n",
      " iEvt, nTrks =  9 67\n",
      "len(X) =  80000\n",
      "len(Xlist) =  2\n",
      "Loaded /share/lazy/will/data/June30_2020_80k_2.h5 in 105.3 s\n",
      "pocaMx.shape =  (80000,)\n",
      "nEvts =  80000\n",
      "len(pocaMx[0]) =  196\n",
      "len(pocaMx[1]) =  35\n",
      "len(pocaMx[2]) =  265\n",
      "len(pocaMx[3]) =  128\n",
      "len(pocaMx[4]) =  124\n",
      "have entered six_ellipsoid_parameters\n",
      "  \n",
      " \n",
      "  nEvts =  80000\n",
      " iEvt, nTrks =  0 196\n",
      " iEvt, nTrks =  1 35\n",
      " iEvt, nTrks =  2 265\n",
      " iEvt, nTrks =  3 128\n",
      " iEvt, nTrks =  4 124\n",
      " iEvt, nTrks =  5 122\n",
      " iEvt, nTrks =  6 300\n",
      " iEvt, nTrks =  7 179\n",
      " iEvt, nTrks =  8 243\n",
      " iEvt, nTrks =  9 112\n",
      "len(X) =  80000\n",
      "len(Xlist) =  3\n",
      "Loaded /share/lazy/will/data/June30_2020_80k_3.h5 in 104.6 s\n",
      "pocaMx.shape =  (80000,)\n",
      "nEvts =  80000\n",
      "len(pocaMx[0]) =  204\n",
      "len(pocaMx[1]) =  33\n",
      "len(pocaMx[2]) =  206\n",
      "len(pocaMx[3]) =  150\n",
      "len(pocaMx[4]) =  96\n",
      "have entered six_ellipsoid_parameters\n",
      "  \n",
      " \n",
      "  nEvts =  80000\n",
      " iEvt, nTrks =  0 204\n",
      " iEvt, nTrks =  1 33\n",
      " iEvt, nTrks =  2 206\n",
      " iEvt, nTrks =  3 150\n",
      " iEvt, nTrks =  4 96\n",
      " iEvt, nTrks =  5 10\n",
      " iEvt, nTrks =  6 174\n",
      " iEvt, nTrks =  7 320\n",
      " iEvt, nTrks =  8 164\n",
      " iEvt, nTrks =  9 119\n",
      "len(X) =  80000\n",
      "len(Xlist) =  4\n",
      "Loaded /share/lazy/will/data/June30_2020_80k_4.h5 in 103.6 s\n",
      "outer loop X.shape =  (320000, 9, 600)\n",
      "Constructing 320000 event dataset took 0.9677 s\n",
      "x_t.shape =  torch.Size([320000, 9, 600])\n",
      "x_t.shape[0] =  320000\n",
      "x_t.shape[1] =  9\n",
      "x_t.shape =  torch.Size([320000, 9, 600])\n",
      "Loading data...\n",
      "pocaMx.shape =  (20000,)\n",
      "nEvts =  20000\n",
      "len(pocaMx[0]) =  211\n",
      "len(pocaMx[1]) =  21\n",
      "len(pocaMx[2]) =  20\n",
      "len(pocaMx[3]) =  198\n",
      "len(pocaMx[4]) =  233\n",
      "have entered six_ellipsoid_parameters\n",
      "  \n",
      " \n",
      "  nEvts =  20000\n",
      " iEvt, nTrks =  0 211\n",
      " iEvt, nTrks =  1 21\n",
      " iEvt, nTrks =  2 20\n",
      " iEvt, nTrks =  3 198\n",
      " iEvt, nTrks =  4 233\n",
      " iEvt, nTrks =  5 85\n",
      " iEvt, nTrks =  6 223\n",
      " iEvt, nTrks =  7 425\n",
      " iEvt, nTrks =  8 252\n",
      " iEvt, nTrks =  9 169\n",
      "len(X) =  20000\n",
      "len(Xlist) =  1\n",
      "Loaded dataAA/20K_POCA_kernel_evts_200926.h5 in 24.6 s\n",
      "outer loop X.shape =  (20000, 9, 600)\n",
      "Constructing 20000 event dataset took 2.155 s\n",
      "x_t.shape =  torch.Size([20000, 9, 600])\n",
      "x_t.shape[0] =  20000\n",
      "x_t.shape[1] =  9\n",
      "x_t.shape =  torch.Size([20000, 9, 600])\n",
      "Loaded dataAA/20K_POCA_kernel_evts_200926.h5 in 0.01472 s\n",
      "PV.n.shape =     (20000,)\n",
      "PV.n[0].shape =  6\n",
      "PV.x[0] =        -0.06039733 0.034324445 0.032115813 0.0021888595 -0.035334907 -0.013019809\n",
      "PV.y[0] =        -0.09381338 -0.013181885 -0.030898828 -0.08940365 -0.0058297813 0.062288247\n",
      "PV.z[0] =        97.82085 61.021088 -0.15807877 134.26784 -29.881668 79.19783\n",
      "PV.n[0] =        24 26 10 7 24 19\n",
      "PV.cat[0] =      1 1 1 1 1 1\n",
      "Loaded dataAA/20K_POCA_kernel_evts_200926.h5 in 0.01267 s\n",
      "SV.n.shape =     (20000,)\n",
      "SV.n[0].shape =  2\n",
      "SV.x[0] =        -0.014751727 0.03923173\n",
      "SV.y[0] =        0.050640453 0.08648109\n",
      "SV.z[0] =        78.924194 79.170876\n",
      "SV.n[0] =        2 0\n",
      "SV.cat[0] =      1 -1\n"
     ]
    }
   ],
   "source": [
    "## 210109 let's use some of Will's toy MC for training rather than the 20K sample I've been using\n",
    "\n",
    "##train_loader = collect_t2hists_data('dataAA/20K_POCA_kernel_evts_200926.h5',\n",
    "train_loader = collect_t2hists_data('/share/lazy/will/data/June30_2020_80k_1.h5', \n",
    "                                    '/share/lazy/will/data/June30_2020_80k_2.h5',\n",
    "                                    '/share/lazy/will/data/June30_2020_80k_3.h5',\n",
    "                                    '/share/lazy/will/data/June30_2020_80k_4.h5',\n",
    "                             batch_size=batch_size,\n",
    "## if we are using a larger dataset (240K events, with the datasets above, and 11 GB  of GPU memory),\n",
    "## not the dataset will overflow the GPU memory; device=device will allow the data to move back\n",
    "## and forth between the CPU and GPU memory. While this allows use of a larger dataset, it slows\n",
    "## down performance by about 10%.  So comment out when not needed.\n",
    "##                           device=device,\n",
    "##                             slice = slice(0,18000)\n",
    "                           )\n",
    "\n",
    "\n",
    "\n",
    "                            \n",
    "# Validation dataset. You can slice to reduce the size.\n",
    "## mds no separate validation set yet,\n",
    "\n",
    "## 210109 and use everything in this 20K file for validation\n",
    "val_loader = collect_t2hists_data('dataAA/20K_POCA_kernel_evts_200926.h5',\n",
    "                            batch_size=batch_size,\n",
    "                            device=device,\n",
    "##                           slice = slice(18000,None)\n",
    "                           )\n",
    "\n",
    "PV = collect_truth('dataAA/20K_POCA_kernel_evts_200926.h5', pvs=True)\n",
    "print('PV.n.shape =    ',  PV.n.shape)\n",
    "print('PV.n[0].shape = ', *PV.n[0].shape)\n",
    "print('PV.x[0] =       ', *PV.x[0])\n",
    "print('PV.y[0] =       ', *PV.y[0])\n",
    "print('PV.z[0] =       ', *PV.z[0])\n",
    "print('PV.n[0] =       ', *PV.n[0])\n",
    "print('PV.cat[0] =     ', *PV.cat[0])\n",
    "\n",
    "SV = collect_truth('dataAA/20K_POCA_kernel_evts_200926.h5', pvs=False)\n",
    "print('SV.n.shape =    ', SV.n.shape)\n",
    "print('SV.n[0].shape = ', *SV.n[0].shape)\n",
    "print('SV.x[0] =       ', *SV.x[0])\n",
    "print('SV.y[0] =       ', *SV.y[0])\n",
    "print('SV.z[0] =       ', *SV.z[0])\n",
    "print('SV.n[0] =       ', *SV.n[0])\n",
    "print('SV.cat[0] =     ', *SV.cat[0])\n"
   ]
  },
  {
   "cell_type": "markdown",
   "metadata": {},
   "source": [
    "# Preparing the model"
   ]
  },
  {
   "cell_type": "markdown",
   "metadata": {},
   "source": [
    "Prepare a model, use multiple GPUs if they are VISIBLE, and move the model to the device."
   ]
  },
  {
   "cell_type": "code",
   "execution_count": 10,
   "metadata": {
    "scrolled": false
   },
   "outputs": [
    {
     "name": "stdout",
     "output_type": "stream",
     "text": [
      "ct, child =  0    Linear(in_features=9, out_features=50, bias=True)\n",
      "ct, child =  1    Linear(in_features=50, out_features=50, bias=True)\n",
      "ct, child =  2    Linear(in_features=50, out_features=50, bias=True)\n",
      "ct, child =  3    Linear(in_features=50, out_features=50, bias=True)\n",
      "ct, child =  4    Linear(in_features=50, out_features=50, bias=True)\n",
      "ct, child =  5    Linear(in_features=50, out_features=50, bias=True)\n",
      "ct, child =  6    Linear(in_features=50, out_features=50, bias=True)\n",
      "ct, child =  7    Linear(in_features=50, out_features=50, bias=True)\n",
      "ct, child =  8    Linear(in_features=50, out_features=50, bias=True)\n",
      "ct, child =  9    Linear(in_features=50, out_features=50, bias=True)\n",
      "ct, child =  10    Linear(in_features=50, out_features=50, bias=True)\n",
      "ct, child =  11    Linear(in_features=50, out_features=16000, bias=True)\n",
      "ct, child =  12    Conv1d(4, 25, kernel_size=(25,), stride=(1,), padding=(12,))\n",
      "ct, child =  13    Conv1d(25, 1, kernel_size=(5,), stride=(1,), padding=(2,))\n",
      "ct, child =  14    Linear(in_features=4000, out_features=4000, bias=True)\n",
      "ct, child =  15    Dropout(p=0.15, inplace=False)\n",
      "ct, child =  16    Dropout(p=0.15, inplace=False)\n",
      "ct, child =  17    Conv1d(1, 20, kernel_size=(25,), stride=(1,), padding=(12,))\n",
      "ct, child =  18    Conv1d(20, 10, kernel_size=(15,), stride=(1,), padding=(7,))\n",
      "ct, child =  19    Conv1d(10, 10, kernel_size=(15,), stride=(1,), padding=(7,))\n",
      "ct, child =  20    Conv1d(10, 10, kernel_size=(15,), stride=(1,), padding=(7,))\n",
      "ct, child =  21    Conv1d(10, 1, kernel_size=(5,), stride=(1,), padding=(2,))\n",
      "ct, child =  22    Dropout(p=0.15, inplace=False)\n",
      "ct, child =  23    Dropout(p=0.15, inplace=False)\n",
      "ct, child =  24    Dropout(p=0.15, inplace=False)\n",
      "ct, child =  25    Dropout(p=0.15, inplace=False)\n",
      "ct, child =  26    Dropout(p=0.35, inplace=False)\n",
      "ct, child =  27    Linear(in_features=4000, out_features=4000, bias=True)\n",
      "ct, child =  28    Conv1d(1, 1, kernel_size=(91,), stride=(1,), padding=(45,))\n"
     ]
    }
   ],
   "source": [
    "nOut1 = 50\n",
    "nOut2 = 50\n",
    "nOut3 = 50\n",
    "nOut4 = 50\n",
    "nOut5 = 50\n",
    "nOut6 = 50\n",
    "nOut7 = 50\n",
    "nOut8 = 50\n",
    "nOut9 = 50\n",
    "nOut10 = 50\n",
    "nOut11 = 50\n",
    "latentChannels = 4\n",
    "model_t2kde = t2kde_model(nOut1,nOut2,nOut3,nOut4,nOut5,nOut6,nOut7,nOut8,nOut9,nOut10,nOut11,latentChannels)\n",
    "model_kde2hists = kde2hists_model()\n",
    "model_t2hists = t2hists_model(nOut1,nOut2,nOut3,nOut4,nOut5,nOut6,nOut7,nOut8,nOut9,nOut10,nOut11,latentChannels)\n",
    "\n",
    "##summary(model, input_size=(4, 4000))\n",
    "##print(model.parameters)\n",
    "\n",
    "## add the following code to allow the user to freeze the some of the weights corresponding \n",
    "## to those taken from an earlier model trained with the original target histograms\n",
    "## presumably -- this leaves either the perturbative filter \"fixed\" and lets the \n",
    "## learning focus on the non-perturbative features, so get started faster, or vice versa\n",
    "\n",
    "## 210110 For Iter0, freeze all weights other than those asociated with\n",
    "## the finalFilter added in moving from TracksToHists_A to TracksToHists_B\n",
    "\n",
    "## for \"float_KDE_to_Hists\" loop over ct<17\n",
    "## for float_all loope over ct < 0\n",
    "ct = 0\n",
    "for child in model_t2hists.children():\n",
    "  print('ct, child = ',ct, \"  \", child)\n",
    "  if (ct < 0) :\n",
    "    print(\"     About to set param.requires_grad=False for ct = \", ct, \"params\")\n",
    "    for param in child.parameters():\n",
    "        param.requires_grad = False \n",
    "  ct += 1\n",
    "\n",
    "loss = Loss(epsilon=1e-5,coefficient=2.5)\n",
    "optimizer = torch.optim.Adam(model_t2hists.parameters(), lr=learning_rate)"
   ]
  },
  {
   "cell_type": "markdown",
   "metadata": {},
   "source": [
    "Let's move the model's weight matricies to the GPU:"
   ]
  },
  {
   "cell_type": "code",
   "execution_count": 11,
   "metadata": {
    "scrolled": false
   },
   "outputs": [
    {
     "data": {
      "text/plain": [
       "<All keys matched successfully>"
      ]
     },
     "execution_count": 11,
     "metadata": {},
     "output_type": "execute_result"
    }
   ],
   "source": [
    "## want to look at all three dictionaries to start:\n",
    "##  t2kde\n",
    "##  kde2hists\n",
    "##  t2hists\n",
    "## the plan is to (initially) copy weights from separate dictionaries into th t2hists dictionary\n",
    "\n",
    "##   ML -> /share/lazy/sokoloff/ML\n",
    "'''\n",
    "model_t2kde_dict = model_t2kde.state_dict()\n",
    "## mds 190725 for debugging\n",
    "print(\"for model_t2kde_dict\")\n",
    "index = 0\n",
    "for k,v in model_t2kde_dict.items():\n",
    "    print(\"index, k =  \",index,\"  \",k)\n",
    "    index = index+1\n",
    "#\n",
    "model_kde2hists_dict = model_kde2hists.state_dict()\n",
    "## mds 190725 for debugging\n",
    "print(\"for model_hists_2kde_dict\")\n",
    "index = 0\n",
    "for k,v in model_kde2hists_dict.items():\n",
    "    print(\"index, k =  \",index,\"  \",k)\n",
    "    index = index+1\n",
    "#\n",
    "model_t2hists_dict = model_t2hists.state_dict()\n",
    "## mds 190725 for debugging\n",
    "print(\"for model_hists_2kde_dict\")\n",
    "index = 0\n",
    "for k,v in model_t2hists_dict.items():\n",
    "    print(\"index, k =  \",index,\"  \",k)\n",
    "    index = index+1\n",
    "#\n",
    "\n",
    "##  build the \"updated_dict\" to become the t2hists_dictionary from the\n",
    "##  t2kde and kde2hist dictionaries\n",
    "update_dict = model_t2hists_dict\n",
    "##print(\"updated_dict = \",updated_dict)\n",
    "## when starting \"ab initio\", reduce biases as the bias gets summed for each track\n",
    "## contributing to the predicted KDE\n",
    "'''\n",
    "\n",
    "\n",
    "'''\n",
    "updated_dict[\"layer1.bias\"] = 0.005*model_dict[\"layer1.bias\"]\n",
    "updated_dict[\"layer2.bias\"] = 0.005*model_dict[\"layer2.bias\"]\n",
    "updated_dict[\"layer3.bias\"] = 0.005*model_dict[\"layer3.bias\"]\n",
    "updated_dict[\"layer4.bias\"] = 0.005*model_dict[\"layer4.bias\"]\n",
    "updated_dict[\"layer5.bias\"] = 0.005*model_dict[\"layer5.bias\"]\n",
    "updated_dict[\"layer6.bias\"] = 0.005*model_dict[\"layer6.bias\"]\n",
    "updated_dict[\"layer7.bias\"] = 0.005*model_dict[\"layer7.bias\"]\n",
    "updated_dict[\"layer8.bias\"] = 0.005*model_dict[\"layer8.bias\"]\n",
    "updated_dict[\"layer9.bias\"] = 0.005*model_dict[\"layer9.bias\"]\n",
    "updated_dict[\"layer10.bias\"] = 0.005*model_dict[\"layer10.bias\"]\n",
    "updated_dict[\"layer11.bias\"] = 0.005*model_dict[\"layer11.bias\"]\n",
    "'''\n",
    "\n",
    "'''\n",
    "##model_t2hists.load_state_dict(updated_dict,strict=False)\n",
    "\n",
    "##model__t2hists_dict = model_t2hists.state_dict()\n",
    "\n",
    "## let's get the tracks-to-kde model here\n",
    "t2kde_folder = '25December__DDplus_loss_Ba_iter5_floatAll_800epochs_5em6'  ## really iter6, really Dec. 27\n",
    "t2kde_folder = '25December__DDplus_loss_Ba_iter7_floatAll_800epochs_4em6'\n",
    "t2kde_name = t2kde_folder\n",
    "suffix = 'final'\n",
    "t2kde_dict_name = 'ML/' + t2kde_folder + '/' + t2kde_name + '_'+ suffix + '.pyt'\n",
    "print('t2kde_dict_name = ',t2kde_dict_name)\n",
    "pretrained_t2kde_dict = torch.load(t2kde_dict_name)\n",
    "\n",
    "print(\" \\n\",\"  for t2kde_pretrained_dict\")\n",
    "index = 0\n",
    "for k,v in pretrained_t2kde_dict.items():\n",
    "    print(\"index, k =  \",index,\"  \",k)\n",
    "    index = index+1\n",
    "    \n",
    "    \n",
    "## let's get the hists-to-kde model here   \n",
    "kde2hists_folder = '02June2020_CNN5Layer_Ca_another200epochs_K'\n",
    "kde2hists_name = kde2hists_folder\n",
    "suffix = 'final'\n",
    "kde2hists_dict_name = 'ML/' + kde2hists_folder + '/' + kde2hists_name + '_'+ suffix + '.pyt'\n",
    "## mds dec28 print('kde2hists_dict_name = ',kde2hists_dict_name)\n",
    "pretrained_kde2hists_dict = torch.load(kde2hists_dict_name)\n",
    "\n",
    "print(\" \\n\",\"  for kde2hists_pretrained_dict\")\n",
    "index = 0\n",
    "for k,v in pretrained_kde2hists_dict.items():\n",
    "    print(\"index, k =  \",index,\"  \",k)\n",
    "    index = index+1\n",
    " \n",
    "\n",
    "\n",
    "##print(\"model_dict instantiated\")\n",
    "# 1. filter out unnecessary keys\n",
    "pretrained_dict = {k: v for k, v in pretrained_t2kde_dict.items() if k in model_t2hists_dict}\n",
    "## mds dec28 print(\"pretrained_dict iterated\")\n",
    "# 2. overwrite entries in the existing state dict\n",
    "model_t2hists_dict.update(pretrained_dict) \n",
    "\n",
    "update_dict[\"hist_conv1.weight\"] = pretrained_kde2hists_dict[\"conv1.weight\"]\n",
    "update_dict[\"hist_conv1.bias\"]   = pretrained_kde2hists_dict[\"conv1.bias\"]\n",
    "update_dict[\"hist_conv2.weight\"] = pretrained_kde2hists_dict[\"conv2.weight\"]\n",
    "update_dict[\"hist_conv2.bias\"]   = pretrained_kde2hists_dict[\"conv2.bias\"]\n",
    "update_dict[\"hist_conv3.weight\"] = pretrained_kde2hists_dict[\"conv3.weight\"]\n",
    "update_dict[\"hist_conv3.bias\"]   = pretrained_kde2hists_dict[\"conv3.bias\"]\n",
    "update_dict[\"hist_conv4.weight\"] = pretrained_kde2hists_dict[\"conv4.weight\"]\n",
    "update_dict[\"hist_conv4.bias\"]   = pretrained_kde2hists_dict[\"conv4.bias\"]\n",
    "update_dict[\"hist_conv5.weight\"] = pretrained_kde2hists_dict[\"conv5.weight\"]\n",
    "update_dict[\"hist_conv5.bias\"]   = pretrained_kde2hists_dict[\"conv5.bias\"]\n",
    "update_dict[\"hist_fc1.weight\"]   = pretrained_kde2hists_dict[\"fc1.weight\"]\n",
    "update_dict[\"hist_fc1.bias\"]     = pretrained_kde2hists_dict[\"fc1.bias\"]\n",
    "\n",
    "##model_t2hists.update(update_dict,strict=False)\n",
    "model_t2hists.load_state_dict(update_dict,strict=False)\n",
    "model_t2hists_dict = model_t2hists.state_dict()\n",
    "'''\n",
    "\n",
    "##\n",
    "#   when starting from a model with a fully connected last layer rather than a convolutional layer\n",
    "# 3. load the new state dict\n",
    "#   need to use strict=False as the two models state model attributes do not agree exactly\n",
    "#   see https://pytorch.org/docs/master/_modules/torch/nn/modules/module.html#Module.load_state_dict\n",
    "\n",
    "t2hists_folder ='11Jan2021_TracksToHists_B_Ite10B_50epochs_lr_3em5_b48_2p5_kde2hists_float_all_4x_will'\n",
    "t2hists_name = t2hists_folder\n",
    "suffix = 'final'\n",
    "t2hists_dict_name = 'ML/' + t2hists_folder + '/' +t2hists_name + '_'+ suffix + '.pyt'\n",
    "## mds dec28 print('kde2hists_dict_name = ',kde2hists_dict_name)\n",
    "pretrained_t2hists_dict = torch.load(t2hists_dict_name) \n",
    "\n",
    "model_t2hists.load_state_dict(pretrained_t2hists_dict,strict=False)\n",
    "\n",
    "##  print('model_t2hists_dict =    ', model_t2hists_dict)\n"
   ]
  },
  {
   "cell_type": "code",
   "execution_count": 12,
   "metadata": {},
   "outputs": [],
   "source": [
    "##print('validation.dataset.tensors = ',validation.dataset.tensors)\n",
    "fig_size = plt.rcParams[\"figure.figsize\"]\n",
    "fig_size[0] = 10\n",
    "fig_size[1] = 4\n",
    "plt.rcParams[\"figure.figsize\"] = fig_size"
   ]
  },
  {
   "cell_type": "code",
   "execution_count": 13,
   "metadata": {
    "scrolled": true
   },
   "outputs": [],
   "source": [
    "model = model_t2hists.to(device)"
   ]
  },
  {
   "cell_type": "code",
   "execution_count": 14,
   "metadata": {},
   "outputs": [
    {
     "data": {
      "application/javascript": [
       "/* Put everything inside the global mpl namespace */\n",
       "window.mpl = {};\n",
       "\n",
       "\n",
       "mpl.get_websocket_type = function() {\n",
       "    if (typeof(WebSocket) !== 'undefined') {\n",
       "        return WebSocket;\n",
       "    } else if (typeof(MozWebSocket) !== 'undefined') {\n",
       "        return MozWebSocket;\n",
       "    } else {\n",
       "        alert('Your browser does not have WebSocket support. ' +\n",
       "              'Please try Chrome, Safari or Firefox ≥ 6. ' +\n",
       "              'Firefox 4 and 5 are also supported but you ' +\n",
       "              'have to enable WebSockets in about:config.');\n",
       "    };\n",
       "}\n",
       "\n",
       "mpl.figure = function(figure_id, websocket, ondownload, parent_element) {\n",
       "    this.id = figure_id;\n",
       "\n",
       "    this.ws = websocket;\n",
       "\n",
       "    this.supports_binary = (this.ws.binaryType != undefined);\n",
       "\n",
       "    if (!this.supports_binary) {\n",
       "        var warnings = document.getElementById(\"mpl-warnings\");\n",
       "        if (warnings) {\n",
       "            warnings.style.display = 'block';\n",
       "            warnings.textContent = (\n",
       "                \"This browser does not support binary websocket messages. \" +\n",
       "                    \"Performance may be slow.\");\n",
       "        }\n",
       "    }\n",
       "\n",
       "    this.imageObj = new Image();\n",
       "\n",
       "    this.context = undefined;\n",
       "    this.message = undefined;\n",
       "    this.canvas = undefined;\n",
       "    this.rubberband_canvas = undefined;\n",
       "    this.rubberband_context = undefined;\n",
       "    this.format_dropdown = undefined;\n",
       "\n",
       "    this.image_mode = 'full';\n",
       "\n",
       "    this.root = $('<div/>');\n",
       "    this._root_extra_style(this.root)\n",
       "    this.root.attr('style', 'display: inline-block');\n",
       "\n",
       "    $(parent_element).append(this.root);\n",
       "\n",
       "    this._init_header(this);\n",
       "    this._init_canvas(this);\n",
       "    this._init_toolbar(this);\n",
       "\n",
       "    var fig = this;\n",
       "\n",
       "    this.waiting = false;\n",
       "\n",
       "    this.ws.onopen =  function () {\n",
       "            fig.send_message(\"supports_binary\", {value: fig.supports_binary});\n",
       "            fig.send_message(\"send_image_mode\", {});\n",
       "            if (mpl.ratio != 1) {\n",
       "                fig.send_message(\"set_dpi_ratio\", {'dpi_ratio': mpl.ratio});\n",
       "            }\n",
       "            fig.send_message(\"refresh\", {});\n",
       "        }\n",
       "\n",
       "    this.imageObj.onload = function() {\n",
       "            if (fig.image_mode == 'full') {\n",
       "                // Full images could contain transparency (where diff images\n",
       "                // almost always do), so we need to clear the canvas so that\n",
       "                // there is no ghosting.\n",
       "                fig.context.clearRect(0, 0, fig.canvas.width, fig.canvas.height);\n",
       "            }\n",
       "            fig.context.drawImage(fig.imageObj, 0, 0);\n",
       "        };\n",
       "\n",
       "    this.imageObj.onunload = function() {\n",
       "        fig.ws.close();\n",
       "    }\n",
       "\n",
       "    this.ws.onmessage = this._make_on_message_function(this);\n",
       "\n",
       "    this.ondownload = ondownload;\n",
       "}\n",
       "\n",
       "mpl.figure.prototype._init_header = function() {\n",
       "    var titlebar = $(\n",
       "        '<div class=\"ui-dialog-titlebar ui-widget-header ui-corner-all ' +\n",
       "        'ui-helper-clearfix\"/>');\n",
       "    var titletext = $(\n",
       "        '<div class=\"ui-dialog-title\" style=\"width: 100%; ' +\n",
       "        'text-align: center; padding: 3px;\"/>');\n",
       "    titlebar.append(titletext)\n",
       "    this.root.append(titlebar);\n",
       "    this.header = titletext[0];\n",
       "}\n",
       "\n",
       "\n",
       "\n",
       "mpl.figure.prototype._canvas_extra_style = function(canvas_div) {\n",
       "\n",
       "}\n",
       "\n",
       "\n",
       "mpl.figure.prototype._root_extra_style = function(canvas_div) {\n",
       "\n",
       "}\n",
       "\n",
       "mpl.figure.prototype._init_canvas = function() {\n",
       "    var fig = this;\n",
       "\n",
       "    var canvas_div = $('<div/>');\n",
       "\n",
       "    canvas_div.attr('style', 'position: relative; clear: both; outline: 0');\n",
       "\n",
       "    function canvas_keyboard_event(event) {\n",
       "        return fig.key_event(event, event['data']);\n",
       "    }\n",
       "\n",
       "    canvas_div.keydown('key_press', canvas_keyboard_event);\n",
       "    canvas_div.keyup('key_release', canvas_keyboard_event);\n",
       "    this.canvas_div = canvas_div\n",
       "    this._canvas_extra_style(canvas_div)\n",
       "    this.root.append(canvas_div);\n",
       "\n",
       "    var canvas = $('<canvas/>');\n",
       "    canvas.addClass('mpl-canvas');\n",
       "    canvas.attr('style', \"left: 0; top: 0; z-index: 0; outline: 0\")\n",
       "\n",
       "    this.canvas = canvas[0];\n",
       "    this.context = canvas[0].getContext(\"2d\");\n",
       "\n",
       "    var backingStore = this.context.backingStorePixelRatio ||\n",
       "\tthis.context.webkitBackingStorePixelRatio ||\n",
       "\tthis.context.mozBackingStorePixelRatio ||\n",
       "\tthis.context.msBackingStorePixelRatio ||\n",
       "\tthis.context.oBackingStorePixelRatio ||\n",
       "\tthis.context.backingStorePixelRatio || 1;\n",
       "\n",
       "    mpl.ratio = (window.devicePixelRatio || 1) / backingStore;\n",
       "\n",
       "    var rubberband = $('<canvas/>');\n",
       "    rubberband.attr('style', \"position: absolute; left: 0; top: 0; z-index: 1;\")\n",
       "\n",
       "    var pass_mouse_events = true;\n",
       "\n",
       "    canvas_div.resizable({\n",
       "        start: function(event, ui) {\n",
       "            pass_mouse_events = false;\n",
       "        },\n",
       "        resize: function(event, ui) {\n",
       "            fig.request_resize(ui.size.width, ui.size.height);\n",
       "        },\n",
       "        stop: function(event, ui) {\n",
       "            pass_mouse_events = true;\n",
       "            fig.request_resize(ui.size.width, ui.size.height);\n",
       "        },\n",
       "    });\n",
       "\n",
       "    function mouse_event_fn(event) {\n",
       "        if (pass_mouse_events)\n",
       "            return fig.mouse_event(event, event['data']);\n",
       "    }\n",
       "\n",
       "    rubberband.mousedown('button_press', mouse_event_fn);\n",
       "    rubberband.mouseup('button_release', mouse_event_fn);\n",
       "    // Throttle sequential mouse events to 1 every 20ms.\n",
       "    rubberband.mousemove('motion_notify', mouse_event_fn);\n",
       "\n",
       "    rubberband.mouseenter('figure_enter', mouse_event_fn);\n",
       "    rubberband.mouseleave('figure_leave', mouse_event_fn);\n",
       "\n",
       "    canvas_div.on(\"wheel\", function (event) {\n",
       "        event = event.originalEvent;\n",
       "        event['data'] = 'scroll'\n",
       "        if (event.deltaY < 0) {\n",
       "            event.step = 1;\n",
       "        } else {\n",
       "            event.step = -1;\n",
       "        }\n",
       "        mouse_event_fn(event);\n",
       "    });\n",
       "\n",
       "    canvas_div.append(canvas);\n",
       "    canvas_div.append(rubberband);\n",
       "\n",
       "    this.rubberband = rubberband;\n",
       "    this.rubberband_canvas = rubberband[0];\n",
       "    this.rubberband_context = rubberband[0].getContext(\"2d\");\n",
       "    this.rubberband_context.strokeStyle = \"#000000\";\n",
       "\n",
       "    this._resize_canvas = function(width, height) {\n",
       "        // Keep the size of the canvas, canvas container, and rubber band\n",
       "        // canvas in synch.\n",
       "        canvas_div.css('width', width)\n",
       "        canvas_div.css('height', height)\n",
       "\n",
       "        canvas.attr('width', width * mpl.ratio);\n",
       "        canvas.attr('height', height * mpl.ratio);\n",
       "        canvas.attr('style', 'width: ' + width + 'px; height: ' + height + 'px;');\n",
       "\n",
       "        rubberband.attr('width', width);\n",
       "        rubberband.attr('height', height);\n",
       "    }\n",
       "\n",
       "    // Set the figure to an initial 600x600px, this will subsequently be updated\n",
       "    // upon first draw.\n",
       "    this._resize_canvas(600, 600);\n",
       "\n",
       "    // Disable right mouse context menu.\n",
       "    $(this.rubberband_canvas).bind(\"contextmenu\",function(e){\n",
       "        return false;\n",
       "    });\n",
       "\n",
       "    function set_focus () {\n",
       "        canvas.focus();\n",
       "        canvas_div.focus();\n",
       "    }\n",
       "\n",
       "    window.setTimeout(set_focus, 100);\n",
       "}\n",
       "\n",
       "mpl.figure.prototype._init_toolbar = function() {\n",
       "    var fig = this;\n",
       "\n",
       "    var nav_element = $('<div/>');\n",
       "    nav_element.attr('style', 'width: 100%');\n",
       "    this.root.append(nav_element);\n",
       "\n",
       "    // Define a callback function for later on.\n",
       "    function toolbar_event(event) {\n",
       "        return fig.toolbar_button_onclick(event['data']);\n",
       "    }\n",
       "    function toolbar_mouse_event(event) {\n",
       "        return fig.toolbar_button_onmouseover(event['data']);\n",
       "    }\n",
       "\n",
       "    for(var toolbar_ind in mpl.toolbar_items) {\n",
       "        var name = mpl.toolbar_items[toolbar_ind][0];\n",
       "        var tooltip = mpl.toolbar_items[toolbar_ind][1];\n",
       "        var image = mpl.toolbar_items[toolbar_ind][2];\n",
       "        var method_name = mpl.toolbar_items[toolbar_ind][3];\n",
       "\n",
       "        if (!name) {\n",
       "            // put a spacer in here.\n",
       "            continue;\n",
       "        }\n",
       "        var button = $('<button/>');\n",
       "        button.addClass('ui-button ui-widget ui-state-default ui-corner-all ' +\n",
       "                        'ui-button-icon-only');\n",
       "        button.attr('role', 'button');\n",
       "        button.attr('aria-disabled', 'false');\n",
       "        button.click(method_name, toolbar_event);\n",
       "        button.mouseover(tooltip, toolbar_mouse_event);\n",
       "\n",
       "        var icon_img = $('<span/>');\n",
       "        icon_img.addClass('ui-button-icon-primary ui-icon');\n",
       "        icon_img.addClass(image);\n",
       "        icon_img.addClass('ui-corner-all');\n",
       "\n",
       "        var tooltip_span = $('<span/>');\n",
       "        tooltip_span.addClass('ui-button-text');\n",
       "        tooltip_span.html(tooltip);\n",
       "\n",
       "        button.append(icon_img);\n",
       "        button.append(tooltip_span);\n",
       "\n",
       "        nav_element.append(button);\n",
       "    }\n",
       "\n",
       "    var fmt_picker_span = $('<span/>');\n",
       "\n",
       "    var fmt_picker = $('<select/>');\n",
       "    fmt_picker.addClass('mpl-toolbar-option ui-widget ui-widget-content');\n",
       "    fmt_picker_span.append(fmt_picker);\n",
       "    nav_element.append(fmt_picker_span);\n",
       "    this.format_dropdown = fmt_picker[0];\n",
       "\n",
       "    for (var ind in mpl.extensions) {\n",
       "        var fmt = mpl.extensions[ind];\n",
       "        var option = $(\n",
       "            '<option/>', {selected: fmt === mpl.default_extension}).html(fmt);\n",
       "        fmt_picker.append(option);\n",
       "    }\n",
       "\n",
       "    // Add hover states to the ui-buttons\n",
       "    $( \".ui-button\" ).hover(\n",
       "        function() { $(this).addClass(\"ui-state-hover\");},\n",
       "        function() { $(this).removeClass(\"ui-state-hover\");}\n",
       "    );\n",
       "\n",
       "    var status_bar = $('<span class=\"mpl-message\"/>');\n",
       "    nav_element.append(status_bar);\n",
       "    this.message = status_bar[0];\n",
       "}\n",
       "\n",
       "mpl.figure.prototype.request_resize = function(x_pixels, y_pixels) {\n",
       "    // Request matplotlib to resize the figure. Matplotlib will then trigger a resize in the client,\n",
       "    // which will in turn request a refresh of the image.\n",
       "    this.send_message('resize', {'width': x_pixels, 'height': y_pixels});\n",
       "}\n",
       "\n",
       "mpl.figure.prototype.send_message = function(type, properties) {\n",
       "    properties['type'] = type;\n",
       "    properties['figure_id'] = this.id;\n",
       "    this.ws.send(JSON.stringify(properties));\n",
       "}\n",
       "\n",
       "mpl.figure.prototype.send_draw_message = function() {\n",
       "    if (!this.waiting) {\n",
       "        this.waiting = true;\n",
       "        this.ws.send(JSON.stringify({type: \"draw\", figure_id: this.id}));\n",
       "    }\n",
       "}\n",
       "\n",
       "\n",
       "mpl.figure.prototype.handle_save = function(fig, msg) {\n",
       "    var format_dropdown = fig.format_dropdown;\n",
       "    var format = format_dropdown.options[format_dropdown.selectedIndex].value;\n",
       "    fig.ondownload(fig, format);\n",
       "}\n",
       "\n",
       "\n",
       "mpl.figure.prototype.handle_resize = function(fig, msg) {\n",
       "    var size = msg['size'];\n",
       "    if (size[0] != fig.canvas.width || size[1] != fig.canvas.height) {\n",
       "        fig._resize_canvas(size[0], size[1]);\n",
       "        fig.send_message(\"refresh\", {});\n",
       "    };\n",
       "}\n",
       "\n",
       "mpl.figure.prototype.handle_rubberband = function(fig, msg) {\n",
       "    var x0 = msg['x0'] / mpl.ratio;\n",
       "    var y0 = (fig.canvas.height - msg['y0']) / mpl.ratio;\n",
       "    var x1 = msg['x1'] / mpl.ratio;\n",
       "    var y1 = (fig.canvas.height - msg['y1']) / mpl.ratio;\n",
       "    x0 = Math.floor(x0) + 0.5;\n",
       "    y0 = Math.floor(y0) + 0.5;\n",
       "    x1 = Math.floor(x1) + 0.5;\n",
       "    y1 = Math.floor(y1) + 0.5;\n",
       "    var min_x = Math.min(x0, x1);\n",
       "    var min_y = Math.min(y0, y1);\n",
       "    var width = Math.abs(x1 - x0);\n",
       "    var height = Math.abs(y1 - y0);\n",
       "\n",
       "    fig.rubberband_context.clearRect(\n",
       "        0, 0, fig.canvas.width / mpl.ratio, fig.canvas.height / mpl.ratio);\n",
       "\n",
       "    fig.rubberband_context.strokeRect(min_x, min_y, width, height);\n",
       "}\n",
       "\n",
       "mpl.figure.prototype.handle_figure_label = function(fig, msg) {\n",
       "    // Updates the figure title.\n",
       "    fig.header.textContent = msg['label'];\n",
       "}\n",
       "\n",
       "mpl.figure.prototype.handle_cursor = function(fig, msg) {\n",
       "    var cursor = msg['cursor'];\n",
       "    switch(cursor)\n",
       "    {\n",
       "    case 0:\n",
       "        cursor = 'pointer';\n",
       "        break;\n",
       "    case 1:\n",
       "        cursor = 'default';\n",
       "        break;\n",
       "    case 2:\n",
       "        cursor = 'crosshair';\n",
       "        break;\n",
       "    case 3:\n",
       "        cursor = 'move';\n",
       "        break;\n",
       "    }\n",
       "    fig.rubberband_canvas.style.cursor = cursor;\n",
       "}\n",
       "\n",
       "mpl.figure.prototype.handle_message = function(fig, msg) {\n",
       "    fig.message.textContent = msg['message'];\n",
       "}\n",
       "\n",
       "mpl.figure.prototype.handle_draw = function(fig, msg) {\n",
       "    // Request the server to send over a new figure.\n",
       "    fig.send_draw_message();\n",
       "}\n",
       "\n",
       "mpl.figure.prototype.handle_image_mode = function(fig, msg) {\n",
       "    fig.image_mode = msg['mode'];\n",
       "}\n",
       "\n",
       "mpl.figure.prototype.updated_canvas_event = function() {\n",
       "    // Called whenever the canvas gets updated.\n",
       "    this.send_message(\"ack\", {});\n",
       "}\n",
       "\n",
       "// A function to construct a web socket function for onmessage handling.\n",
       "// Called in the figure constructor.\n",
       "mpl.figure.prototype._make_on_message_function = function(fig) {\n",
       "    return function socket_on_message(evt) {\n",
       "        if (evt.data instanceof Blob) {\n",
       "            /* FIXME: We get \"Resource interpreted as Image but\n",
       "             * transferred with MIME type text/plain:\" errors on\n",
       "             * Chrome.  But how to set the MIME type?  It doesn't seem\n",
       "             * to be part of the websocket stream */\n",
       "            evt.data.type = \"image/png\";\n",
       "\n",
       "            /* Free the memory for the previous frames */\n",
       "            if (fig.imageObj.src) {\n",
       "                (window.URL || window.webkitURL).revokeObjectURL(\n",
       "                    fig.imageObj.src);\n",
       "            }\n",
       "\n",
       "            fig.imageObj.src = (window.URL || window.webkitURL).createObjectURL(\n",
       "                evt.data);\n",
       "            fig.updated_canvas_event();\n",
       "            fig.waiting = false;\n",
       "            return;\n",
       "        }\n",
       "        else if (typeof evt.data === 'string' && evt.data.slice(0, 21) == \"data:image/png;base64\") {\n",
       "            fig.imageObj.src = evt.data;\n",
       "            fig.updated_canvas_event();\n",
       "            fig.waiting = false;\n",
       "            return;\n",
       "        }\n",
       "\n",
       "        var msg = JSON.parse(evt.data);\n",
       "        var msg_type = msg['type'];\n",
       "\n",
       "        // Call the  \"handle_{type}\" callback, which takes\n",
       "        // the figure and JSON message as its only arguments.\n",
       "        try {\n",
       "            var callback = fig[\"handle_\" + msg_type];\n",
       "        } catch (e) {\n",
       "            console.log(\"No handler for the '\" + msg_type + \"' message type: \", msg);\n",
       "            return;\n",
       "        }\n",
       "\n",
       "        if (callback) {\n",
       "            try {\n",
       "                // console.log(\"Handling '\" + msg_type + \"' message: \", msg);\n",
       "                callback(fig, msg);\n",
       "            } catch (e) {\n",
       "                console.log(\"Exception inside the 'handler_\" + msg_type + \"' callback:\", e, e.stack, msg);\n",
       "            }\n",
       "        }\n",
       "    };\n",
       "}\n",
       "\n",
       "// from http://stackoverflow.com/questions/1114465/getting-mouse-location-in-canvas\n",
       "mpl.findpos = function(e) {\n",
       "    //this section is from http://www.quirksmode.org/js/events_properties.html\n",
       "    var targ;\n",
       "    if (!e)\n",
       "        e = window.event;\n",
       "    if (e.target)\n",
       "        targ = e.target;\n",
       "    else if (e.srcElement)\n",
       "        targ = e.srcElement;\n",
       "    if (targ.nodeType == 3) // defeat Safari bug\n",
       "        targ = targ.parentNode;\n",
       "\n",
       "    // jQuery normalizes the pageX and pageY\n",
       "    // pageX,Y are the mouse positions relative to the document\n",
       "    // offset() returns the position of the element relative to the document\n",
       "    var x = e.pageX - $(targ).offset().left;\n",
       "    var y = e.pageY - $(targ).offset().top;\n",
       "\n",
       "    return {\"x\": x, \"y\": y};\n",
       "};\n",
       "\n",
       "/*\n",
       " * return a copy of an object with only non-object keys\n",
       " * we need this to avoid circular references\n",
       " * http://stackoverflow.com/a/24161582/3208463\n",
       " */\n",
       "function simpleKeys (original) {\n",
       "  return Object.keys(original).reduce(function (obj, key) {\n",
       "    if (typeof original[key] !== 'object')\n",
       "        obj[key] = original[key]\n",
       "    return obj;\n",
       "  }, {});\n",
       "}\n",
       "\n",
       "mpl.figure.prototype.mouse_event = function(event, name) {\n",
       "    var canvas_pos = mpl.findpos(event)\n",
       "\n",
       "    if (name === 'button_press')\n",
       "    {\n",
       "        this.canvas.focus();\n",
       "        this.canvas_div.focus();\n",
       "    }\n",
       "\n",
       "    var x = canvas_pos.x * mpl.ratio;\n",
       "    var y = canvas_pos.y * mpl.ratio;\n",
       "\n",
       "    this.send_message(name, {x: x, y: y, button: event.button,\n",
       "                             step: event.step,\n",
       "                             guiEvent: simpleKeys(event)});\n",
       "\n",
       "    /* This prevents the web browser from automatically changing to\n",
       "     * the text insertion cursor when the button is pressed.  We want\n",
       "     * to control all of the cursor setting manually through the\n",
       "     * 'cursor' event from matplotlib */\n",
       "    event.preventDefault();\n",
       "    return false;\n",
       "}\n",
       "\n",
       "mpl.figure.prototype._key_event_extra = function(event, name) {\n",
       "    // Handle any extra behaviour associated with a key event\n",
       "}\n",
       "\n",
       "mpl.figure.prototype.key_event = function(event, name) {\n",
       "\n",
       "    // Prevent repeat events\n",
       "    if (name == 'key_press')\n",
       "    {\n",
       "        if (event.which === this._key)\n",
       "            return;\n",
       "        else\n",
       "            this._key = event.which;\n",
       "    }\n",
       "    if (name == 'key_release')\n",
       "        this._key = null;\n",
       "\n",
       "    var value = '';\n",
       "    if (event.ctrlKey && event.which != 17)\n",
       "        value += \"ctrl+\";\n",
       "    if (event.altKey && event.which != 18)\n",
       "        value += \"alt+\";\n",
       "    if (event.shiftKey && event.which != 16)\n",
       "        value += \"shift+\";\n",
       "\n",
       "    value += 'k';\n",
       "    value += event.which.toString();\n",
       "\n",
       "    this._key_event_extra(event, name);\n",
       "\n",
       "    this.send_message(name, {key: value,\n",
       "                             guiEvent: simpleKeys(event)});\n",
       "    return false;\n",
       "}\n",
       "\n",
       "mpl.figure.prototype.toolbar_button_onclick = function(name) {\n",
       "    if (name == 'download') {\n",
       "        this.handle_save(this, null);\n",
       "    } else {\n",
       "        this.send_message(\"toolbar_button\", {name: name});\n",
       "    }\n",
       "};\n",
       "\n",
       "mpl.figure.prototype.toolbar_button_onmouseover = function(tooltip) {\n",
       "    this.message.textContent = tooltip;\n",
       "};\n",
       "mpl.toolbar_items = [[\"Home\", \"Reset original view\", \"fa fa-home icon-home\", \"home\"], [\"Back\", \"Back to previous view\", \"fa fa-arrow-left icon-arrow-left\", \"back\"], [\"Forward\", \"Forward to next view\", \"fa fa-arrow-right icon-arrow-right\", \"forward\"], [\"\", \"\", \"\", \"\"], [\"Pan\", \"Pan axes with left mouse, zoom with right\", \"fa fa-arrows icon-move\", \"pan\"], [\"Zoom\", \"Zoom to rectangle\", \"fa fa-square-o icon-check-empty\", \"zoom\"], [\"\", \"\", \"\", \"\"], [\"Download\", \"Download plot\", \"fa fa-floppy-o icon-save\", \"download\"]];\n",
       "\n",
       "mpl.extensions = [\"eps\", \"jpeg\", \"pdf\", \"png\", \"ps\", \"raw\", \"svg\", \"tif\"];\n",
       "\n",
       "mpl.default_extension = \"png\";var comm_websocket_adapter = function(comm) {\n",
       "    // Create a \"websocket\"-like object which calls the given IPython comm\n",
       "    // object with the appropriate methods. Currently this is a non binary\n",
       "    // socket, so there is still some room for performance tuning.\n",
       "    var ws = {};\n",
       "\n",
       "    ws.close = function() {\n",
       "        comm.close()\n",
       "    };\n",
       "    ws.send = function(m) {\n",
       "        //console.log('sending', m);\n",
       "        comm.send(m);\n",
       "    };\n",
       "    // Register the callback with on_msg.\n",
       "    comm.on_msg(function(msg) {\n",
       "        //console.log('receiving', msg['content']['data'], msg);\n",
       "        // Pass the mpl event to the overridden (by mpl) onmessage function.\n",
       "        ws.onmessage(msg['content']['data'])\n",
       "    });\n",
       "    return ws;\n",
       "}\n",
       "\n",
       "mpl.mpl_figure_comm = function(comm, msg) {\n",
       "    // This is the function which gets called when the mpl process\n",
       "    // starts-up an IPython Comm through the \"matplotlib\" channel.\n",
       "\n",
       "    var id = msg.content.data.id;\n",
       "    // Get hold of the div created by the display call when the Comm\n",
       "    // socket was opened in Python.\n",
       "    var element = $(\"#\" + id);\n",
       "    var ws_proxy = comm_websocket_adapter(comm)\n",
       "\n",
       "    function ondownload(figure, format) {\n",
       "        window.open(figure.imageObj.src);\n",
       "    }\n",
       "\n",
       "    var fig = new mpl.figure(id, ws_proxy,\n",
       "                           ondownload,\n",
       "                           element.get(0));\n",
       "\n",
       "    // Call onopen now - mpl needs it, as it is assuming we've passed it a real\n",
       "    // web socket which is closed, not our websocket->open comm proxy.\n",
       "    ws_proxy.onopen();\n",
       "\n",
       "    fig.parent_element = element.get(0);\n",
       "    fig.cell_info = mpl.find_output_cell(\"<div id='\" + id + \"'></div>\");\n",
       "    if (!fig.cell_info) {\n",
       "        console.error(\"Failed to find cell for figure\", id, fig);\n",
       "        return;\n",
       "    }\n",
       "\n",
       "    var output_index = fig.cell_info[2]\n",
       "    var cell = fig.cell_info[0];\n",
       "\n",
       "};\n",
       "\n",
       "mpl.figure.prototype.handle_close = function(fig, msg) {\n",
       "    var width = fig.canvas.width/mpl.ratio\n",
       "    fig.root.unbind('remove')\n",
       "\n",
       "    // Update the output cell to use the data from the current canvas.\n",
       "    fig.push_to_output();\n",
       "    var dataURL = fig.canvas.toDataURL();\n",
       "    // Re-enable the keyboard manager in IPython - without this line, in FF,\n",
       "    // the notebook keyboard shortcuts fail.\n",
       "    IPython.keyboard_manager.enable()\n",
       "    $(fig.parent_element).html('<img src=\"' + dataURL + '\" width=\"' + width + '\">');\n",
       "    fig.close_ws(fig, msg);\n",
       "}\n",
       "\n",
       "mpl.figure.prototype.close_ws = function(fig, msg){\n",
       "    fig.send_message('closing', msg);\n",
       "    // fig.ws.close()\n",
       "}\n",
       "\n",
       "mpl.figure.prototype.push_to_output = function(remove_interactive) {\n",
       "    // Turn the data on the canvas into data in the output cell.\n",
       "    var width = this.canvas.width/mpl.ratio\n",
       "    var dataURL = this.canvas.toDataURL();\n",
       "    this.cell_info[1]['text/html'] = '<img src=\"' + dataURL + '\" width=\"' + width + '\">';\n",
       "}\n",
       "\n",
       "mpl.figure.prototype.updated_canvas_event = function() {\n",
       "    // Tell IPython that the notebook contents must change.\n",
       "    IPython.notebook.set_dirty(true);\n",
       "    this.send_message(\"ack\", {});\n",
       "    var fig = this;\n",
       "    // Wait a second, then push the new image to the DOM so\n",
       "    // that it is saved nicely (might be nice to debounce this).\n",
       "    setTimeout(function () { fig.push_to_output() }, 1000);\n",
       "}\n",
       "\n",
       "mpl.figure.prototype._init_toolbar = function() {\n",
       "    var fig = this;\n",
       "\n",
       "    var nav_element = $('<div/>');\n",
       "    nav_element.attr('style', 'width: 100%');\n",
       "    this.root.append(nav_element);\n",
       "\n",
       "    // Define a callback function for later on.\n",
       "    function toolbar_event(event) {\n",
       "        return fig.toolbar_button_onclick(event['data']);\n",
       "    }\n",
       "    function toolbar_mouse_event(event) {\n",
       "        return fig.toolbar_button_onmouseover(event['data']);\n",
       "    }\n",
       "\n",
       "    for(var toolbar_ind in mpl.toolbar_items){\n",
       "        var name = mpl.toolbar_items[toolbar_ind][0];\n",
       "        var tooltip = mpl.toolbar_items[toolbar_ind][1];\n",
       "        var image = mpl.toolbar_items[toolbar_ind][2];\n",
       "        var method_name = mpl.toolbar_items[toolbar_ind][3];\n",
       "\n",
       "        if (!name) { continue; };\n",
       "\n",
       "        var button = $('<button class=\"btn btn-default\" href=\"#\" title=\"' + name + '\"><i class=\"fa ' + image + ' fa-lg\"></i></button>');\n",
       "        button.click(method_name, toolbar_event);\n",
       "        button.mouseover(tooltip, toolbar_mouse_event);\n",
       "        nav_element.append(button);\n",
       "    }\n",
       "\n",
       "    // Add the status bar.\n",
       "    var status_bar = $('<span class=\"mpl-message\" style=\"text-align:right; float: right;\"/>');\n",
       "    nav_element.append(status_bar);\n",
       "    this.message = status_bar[0];\n",
       "\n",
       "    // Add the close button to the window.\n",
       "    var buttongrp = $('<div class=\"btn-group inline pull-right\"></div>');\n",
       "    var button = $('<button class=\"btn btn-mini btn-primary\" href=\"#\" title=\"Stop Interaction\"><i class=\"fa fa-power-off icon-remove icon-large\"></i></button>');\n",
       "    button.click(function (evt) { fig.handle_close(fig, {}); } );\n",
       "    button.mouseover('Stop Interaction', toolbar_mouse_event);\n",
       "    buttongrp.append(button);\n",
       "    var titlebar = this.root.find($('.ui-dialog-titlebar'));\n",
       "    titlebar.prepend(buttongrp);\n",
       "}\n",
       "\n",
       "mpl.figure.prototype._root_extra_style = function(el){\n",
       "    var fig = this\n",
       "    el.on(\"remove\", function(){\n",
       "\tfig.close_ws(fig, {});\n",
       "    });\n",
       "}\n",
       "\n",
       "mpl.figure.prototype._canvas_extra_style = function(el){\n",
       "    // this is important to make the div 'focusable\n",
       "    el.attr('tabindex', 0)\n",
       "    // reach out to IPython and tell the keyboard manager to turn it's self\n",
       "    // off when our div gets focus\n",
       "\n",
       "    // location in version 3\n",
       "    if (IPython.notebook.keyboard_manager) {\n",
       "        IPython.notebook.keyboard_manager.register_events(el);\n",
       "    }\n",
       "    else {\n",
       "        // location in version 2\n",
       "        IPython.keyboard_manager.register_events(el);\n",
       "    }\n",
       "\n",
       "}\n",
       "\n",
       "mpl.figure.prototype._key_event_extra = function(event, name) {\n",
       "    var manager = IPython.notebook.keyboard_manager;\n",
       "    if (!manager)\n",
       "        manager = IPython.keyboard_manager;\n",
       "\n",
       "    // Check for shift+enter\n",
       "    if (event.shiftKey && event.which == 13) {\n",
       "        this.canvas_div.blur();\n",
       "        // select the cell after this one\n",
       "        var index = IPython.notebook.find_cell_index(this.cell_info[0]);\n",
       "        IPython.notebook.select(index + 1);\n",
       "    }\n",
       "}\n",
       "\n",
       "mpl.figure.prototype.handle_save = function(fig, msg) {\n",
       "    fig.ondownload(fig, null);\n",
       "}\n",
       "\n",
       "\n",
       "mpl.find_output_cell = function(html_output) {\n",
       "    // Return the cell and output element which can be found *uniquely* in the notebook.\n",
       "    // Note - this is a bit hacky, but it is done because the \"notebook_saving.Notebook\"\n",
       "    // IPython event is triggered only after the cells have been serialised, which for\n",
       "    // our purposes (turning an active figure into a static one), is too late.\n",
       "    var cells = IPython.notebook.get_cells();\n",
       "    var ncells = cells.length;\n",
       "    for (var i=0; i<ncells; i++) {\n",
       "        var cell = cells[i];\n",
       "        if (cell.cell_type === 'code'){\n",
       "            for (var j=0; j<cell.output_area.outputs.length; j++) {\n",
       "                var data = cell.output_area.outputs[j];\n",
       "                if (data.data) {\n",
       "                    // IPython >= 3 moved mimebundle to data attribute of output\n",
       "                    data = data.data;\n",
       "                }\n",
       "                if (data['text/html'] == html_output) {\n",
       "                    return [cell, data, j];\n",
       "                }\n",
       "            }\n",
       "        }\n",
       "    }\n",
       "}\n",
       "\n",
       "// Register the function which deals with the matplotlib target/channel.\n",
       "// The kernel may be null if the page has been refreshed.\n",
       "if (IPython.notebook.kernel != null) {\n",
       "    IPython.notebook.kernel.comm_manager.register_target('matplotlib', mpl.mpl_figure_comm);\n",
       "}\n"
      ],
      "text/plain": [
       "<IPython.core.display.Javascript object>"
      ]
     },
     "metadata": {},
     "output_type": "display_data"
    },
    {
     "data": {
      "text/html": [
       "<img src=\"data:image/png;base64,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\" width=\"1000\">"
      ],
      "text/plain": [
       "<IPython.core.display.HTML object>"
      ]
     },
     "metadata": {},
     "output_type": "display_data"
    }
   ],
   "source": [
    "ax, tax, lax, lines = dual_train_plots()\n",
    "fig = ax.figure\n",
    "plt.tight_layout()"
   ]
  },
  {
   "cell_type": "code",
   "execution_count": 15,
   "metadata": {
    "scrolled": false
   },
   "outputs": [
    {
     "name": "stdout",
     "output_type": "stream",
     "text": [
      "Number of batches: train = 6667, val = 417\n"
     ]
    },
    {
     "data": {
      "application/vnd.jupyter.widget-view+json": {
       "model_id": "fba8d8750ddf45baa25696420e8af134",
       "version_major": 2,
       "version_minor": 0
      },
      "text/plain": [
       "HBox(children=(FloatProgress(value=0.0, description='Epochs', layout=Layout(flex='2'), style=ProgressStyle(des…"
      ]
     },
     "metadata": {},
     "output_type": "display_data"
    },
    {
     "data": {
      "application/vnd.jupyter.widget-view+json": {
       "model_id": "",
       "version_major": 2,
       "version_minor": 0
      },
      "text/plain": [
       "HBox(children=(FloatProgress(value=0.0, description='Training', layout=Layout(flex='2'), max=6667.0, style=Pro…"
      ]
     },
     "metadata": {},
     "output_type": "display_data"
    },
    {
     "name": "stdout",
     "output_type": "stream",
     "text": [
      "Epoch 0: train=10.8546, val=10.0951, took 590.56 s\n",
      "  Validation Found 51947 of 108024, added 6104 (eff 48.09%) (0.305 FP/event)\n"
     ]
    },
    {
     "data": {
      "application/vnd.jupyter.widget-view+json": {
       "model_id": "",
       "version_major": 2,
       "version_minor": 0
      },
      "text/plain": [
       "HBox(children=(FloatProgress(value=0.0, description='Training', layout=Layout(flex='2'), max=6667.0, style=Pro…"
      ]
     },
     "metadata": {},
     "output_type": "display_data"
    },
    {
     "name": "stdout",
     "output_type": "stream",
     "text": [
      "Epoch 1: train=10.3926, val=10.0303, took 594.95 s\n",
      "  Validation Found 52689 of 108024, added 6314 (eff 48.78%) (0.316 FP/event)\n"
     ]
    },
    {
     "data": {
      "application/vnd.jupyter.widget-view+json": {
       "model_id": "",
       "version_major": 2,
       "version_minor": 0
      },
      "text/plain": [
       "HBox(children=(FloatProgress(value=0.0, description='Training', layout=Layout(flex='2'), max=6667.0, style=Pro…"
      ]
     },
     "metadata": {},
     "output_type": "display_data"
    },
    {
     "name": "stdout",
     "output_type": "stream",
     "text": [
      "Epoch 2: train=10.3895, val=10.0704, took 591.45 s\n",
      "  Validation Found 53140 of 108024, added 6482 (eff 49.19%) (0.324 FP/event)\n"
     ]
    },
    {
     "data": {
      "application/vnd.jupyter.widget-view+json": {
       "model_id": "",
       "version_major": 2,
       "version_minor": 0
      },
      "text/plain": [
       "HBox(children=(FloatProgress(value=0.0, description='Training', layout=Layout(flex='2'), max=6667.0, style=Pro…"
      ]
     },
     "metadata": {},
     "output_type": "display_data"
    },
    {
     "name": "stdout",
     "output_type": "stream",
     "text": [
      "Epoch 3: train=10.3898, val=10.7363, took 590.94 s\n",
      "  Validation Found 54017 of 108024, added 7263 (eff 50.00%) (0.363 FP/event)\n"
     ]
    },
    {
     "data": {
      "application/vnd.jupyter.widget-view+json": {
       "model_id": "",
       "version_major": 2,
       "version_minor": 0
      },
      "text/plain": [
       "HBox(children=(FloatProgress(value=0.0, description='Training', layout=Layout(flex='2'), max=6667.0, style=Pro…"
      ]
     },
     "metadata": {},
     "output_type": "display_data"
    },
    {
     "name": "stdout",
     "output_type": "stream",
     "text": [
      "Epoch 4: train=10.3694, val=10.1897, took 590.8 s\n",
      "  Validation Found 52690 of 108024, added 6511 (eff 48.78%) (0.326 FP/event)\n"
     ]
    },
    {
     "data": {
      "application/vnd.jupyter.widget-view+json": {
       "model_id": "",
       "version_major": 2,
       "version_minor": 0
      },
      "text/plain": [
       "HBox(children=(FloatProgress(value=0.0, description='Training', layout=Layout(flex='2'), max=6667.0, style=Pro…"
      ]
     },
     "metadata": {},
     "output_type": "display_data"
    },
    {
     "name": "stdout",
     "output_type": "stream",
     "text": [
      "Epoch 5: train=10.3737, val=10.2981, took 590.66 s\n",
      "  Validation Found 52773 of 108024, added 6421 (eff 48.85%) (0.321 FP/event)\n"
     ]
    },
    {
     "data": {
      "application/vnd.jupyter.widget-view+json": {
       "model_id": "",
       "version_major": 2,
       "version_minor": 0
      },
      "text/plain": [
       "HBox(children=(FloatProgress(value=0.0, description='Training', layout=Layout(flex='2'), max=6667.0, style=Pro…"
      ]
     },
     "metadata": {},
     "output_type": "display_data"
    },
    {
     "name": "stdout",
     "output_type": "stream",
     "text": [
      "Epoch 6: train=10.3688, val=10.0602, took 591.54 s\n",
      "  Validation Found 53556 of 108024, added 6644 (eff 49.58%) (0.332 FP/event)\n"
     ]
    },
    {
     "data": {
      "application/vnd.jupyter.widget-view+json": {
       "model_id": "",
       "version_major": 2,
       "version_minor": 0
      },
      "text/plain": [
       "HBox(children=(FloatProgress(value=0.0, description='Training', layout=Layout(flex='2'), max=6667.0, style=Pro…"
      ]
     },
     "metadata": {},
     "output_type": "display_data"
    },
    {
     "name": "stdout",
     "output_type": "stream",
     "text": [
      "Epoch 7: train=10.3569, val=9.99597, took 590.49 s\n",
      "  Validation Found 52522 of 108024, added 6090 (eff 48.62%) (0.304 FP/event)\n"
     ]
    },
    {
     "data": {
      "application/vnd.jupyter.widget-view+json": {
       "model_id": "",
       "version_major": 2,
       "version_minor": 0
      },
      "text/plain": [
       "HBox(children=(FloatProgress(value=0.0, description='Training', layout=Layout(flex='2'), max=6667.0, style=Pro…"
      ]
     },
     "metadata": {},
     "output_type": "display_data"
    },
    {
     "name": "stdout",
     "output_type": "stream",
     "text": [
      "Epoch 8: train=10.3615, val=10.2938, took 590.72 s\n",
      "  Validation Found 53118 of 108024, added 6639 (eff 49.17%) (0.332 FP/event)\n"
     ]
    },
    {
     "data": {
      "application/vnd.jupyter.widget-view+json": {
       "model_id": "",
       "version_major": 2,
       "version_minor": 0
      },
      "text/plain": [
       "HBox(children=(FloatProgress(value=0.0, description='Training', layout=Layout(flex='2'), max=6667.0, style=Pro…"
      ]
     },
     "metadata": {},
     "output_type": "display_data"
    },
    {
     "name": "stdout",
     "output_type": "stream",
     "text": [
      "Epoch 9: train=10.345, val=10.0115, took 591.08 s\n",
      "  Validation Found 52641 of 108024, added 6247 (eff 48.73%) (0.312 FP/event)\n"
     ]
    },
    {
     "data": {
      "application/vnd.jupyter.widget-view+json": {
       "model_id": "",
       "version_major": 2,
       "version_minor": 0
      },
      "text/plain": [
       "HBox(children=(FloatProgress(value=0.0, description='Training', layout=Layout(flex='2'), max=6667.0, style=Pro…"
      ]
     },
     "metadata": {},
     "output_type": "display_data"
    },
    {
     "name": "stdout",
     "output_type": "stream",
     "text": [
      "Epoch 10: train=10.3494, val=10.1739, took 590.79 s\n",
      "  Validation Found 53221 of 108024, added 6440 (eff 49.27%) (0.322 FP/event)\n"
     ]
    },
    {
     "data": {
      "application/vnd.jupyter.widget-view+json": {
       "model_id": "",
       "version_major": 2,
       "version_minor": 0
      },
      "text/plain": [
       "HBox(children=(FloatProgress(value=0.0, description='Training', layout=Layout(flex='2'), max=6667.0, style=Pro…"
      ]
     },
     "metadata": {},
     "output_type": "display_data"
    },
    {
     "name": "stdout",
     "output_type": "stream",
     "text": [
      "Epoch 11: train=10.3356, val=10.0022, took 590.56 s\n",
      "  Validation Found 52786 of 108024, added 6313 (eff 48.87%) (0.316 FP/event)\n"
     ]
    },
    {
     "data": {
      "application/vnd.jupyter.widget-view+json": {
       "model_id": "",
       "version_major": 2,
       "version_minor": 0
      },
      "text/plain": [
       "HBox(children=(FloatProgress(value=0.0, description='Training', layout=Layout(flex='2'), max=6667.0, style=Pro…"
      ]
     },
     "metadata": {},
     "output_type": "display_data"
    },
    {
     "name": "stdout",
     "output_type": "stream",
     "text": [
      "Epoch 12: train=10.3395, val=9.9626, took 590.98 s\n",
      "  Validation Found 53344 of 108024, added 6471 (eff 49.38%) (0.324 FP/event)\n"
     ]
    },
    {
     "data": {
      "application/vnd.jupyter.widget-view+json": {
       "model_id": "",
       "version_major": 2,
       "version_minor": 0
      },
      "text/plain": [
       "HBox(children=(FloatProgress(value=0.0, description='Training', layout=Layout(flex='2'), max=6667.0, style=Pro…"
      ]
     },
     "metadata": {},
     "output_type": "display_data"
    },
    {
     "name": "stdout",
     "output_type": "stream",
     "text": [
      "Epoch 13: train=10.3153, val=9.93495, took 591.28 s\n",
      "  Validation Found 53429 of 108024, added 6538 (eff 49.46%) (0.327 FP/event)\n"
     ]
    },
    {
     "data": {
      "application/vnd.jupyter.widget-view+json": {
       "model_id": "",
       "version_major": 2,
       "version_minor": 0
      },
      "text/plain": [
       "HBox(children=(FloatProgress(value=0.0, description='Training', layout=Layout(flex='2'), max=6667.0, style=Pro…"
      ]
     },
     "metadata": {},
     "output_type": "display_data"
    },
    {
     "name": "stdout",
     "output_type": "stream",
     "text": [
      "Epoch 14: train=10.3179, val=9.9613, took 591.44 s\n",
      "  Validation Found 52713 of 108024, added 6265 (eff 48.80%) (0.313 FP/event)\n"
     ]
    },
    {
     "data": {
      "application/vnd.jupyter.widget-view+json": {
       "model_id": "",
       "version_major": 2,
       "version_minor": 0
      },
      "text/plain": [
       "HBox(children=(FloatProgress(value=0.0, description='Training', layout=Layout(flex='2'), max=6667.0, style=Pro…"
      ]
     },
     "metadata": {},
     "output_type": "display_data"
    },
    {
     "name": "stdout",
     "output_type": "stream",
     "text": [
      "Epoch 15: train=10.3169, val=9.93543, took 590.86 s\n",
      "  Validation Found 53530 of 108024, added 6563 (eff 49.55%) (0.328 FP/event)\n"
     ]
    },
    {
     "data": {
      "application/vnd.jupyter.widget-view+json": {
       "model_id": "",
       "version_major": 2,
       "version_minor": 0
      },
      "text/plain": [
       "HBox(children=(FloatProgress(value=0.0, description='Training', layout=Layout(flex='2'), max=6667.0, style=Pro…"
      ]
     },
     "metadata": {},
     "output_type": "display_data"
    },
    {
     "name": "stdout",
     "output_type": "stream",
     "text": [
      "Epoch 16: train=10.3062, val=9.96064, took 591.2 s\n",
      "  Validation Found 52673 of 108024, added 6141 (eff 48.76%) (0.307 FP/event)\n"
     ]
    },
    {
     "data": {
      "application/vnd.jupyter.widget-view+json": {
       "model_id": "",
       "version_major": 2,
       "version_minor": 0
      },
      "text/plain": [
       "HBox(children=(FloatProgress(value=0.0, description='Training', layout=Layout(flex='2'), max=6667.0, style=Pro…"
      ]
     },
     "metadata": {},
     "output_type": "display_data"
    },
    {
     "name": "stdout",
     "output_type": "stream",
     "text": [
      "Epoch 17: train=10.3103, val=9.91254, took 590.91 s\n",
      "  Validation Found 53395 of 108024, added 6358 (eff 49.43%) (0.318 FP/event)\n"
     ]
    },
    {
     "data": {
      "application/vnd.jupyter.widget-view+json": {
       "model_id": "",
       "version_major": 2,
       "version_minor": 0
      },
      "text/plain": [
       "HBox(children=(FloatProgress(value=0.0, description='Training', layout=Layout(flex='2'), max=6667.0, style=Pro…"
      ]
     },
     "metadata": {},
     "output_type": "display_data"
    },
    {
     "name": "stdout",
     "output_type": "stream",
     "text": [
      "Epoch 18: train=10.3038, val=9.93849, took 590.58 s\n",
      "  Validation Found 52810 of 108024, added 6167 (eff 48.89%) (0.308 FP/event)\n"
     ]
    },
    {
     "data": {
      "application/vnd.jupyter.widget-view+json": {
       "model_id": "",
       "version_major": 2,
       "version_minor": 0
      },
      "text/plain": [
       "HBox(children=(FloatProgress(value=0.0, description='Training', layout=Layout(flex='2'), max=6667.0, style=Pro…"
      ]
     },
     "metadata": {},
     "output_type": "display_data"
    },
    {
     "name": "stdout",
     "output_type": "stream",
     "text": [
      "Epoch 19: train=10.2922, val=9.96462, took 590.74 s\n",
      "  Validation Found 53322 of 108024, added 6371 (eff 49.36%) (0.319 FP/event)\n"
     ]
    },
    {
     "data": {
      "application/vnd.jupyter.widget-view+json": {
       "model_id": "",
       "version_major": 2,
       "version_minor": 0
      },
      "text/plain": [
       "HBox(children=(FloatProgress(value=0.0, description='Training', layout=Layout(flex='2'), max=6667.0, style=Pro…"
      ]
     },
     "metadata": {},
     "output_type": "display_data"
    },
    {
     "name": "stdout",
     "output_type": "stream",
     "text": [
      "Epoch 20: train=10.2843, val=9.99426, took 590.64 s\n",
      "  Validation Found 53079 of 108024, added 6204 (eff 49.14%) (0.31 FP/event)\n"
     ]
    },
    {
     "data": {
      "application/vnd.jupyter.widget-view+json": {
       "model_id": "",
       "version_major": 2,
       "version_minor": 0
      },
      "text/plain": [
       "HBox(children=(FloatProgress(value=0.0, description='Training', layout=Layout(flex='2'), max=6667.0, style=Pro…"
      ]
     },
     "metadata": {},
     "output_type": "display_data"
    },
    {
     "name": "stdout",
     "output_type": "stream",
     "text": [
      "Epoch 21: train=10.2886, val=10.2512, took 590.96 s\n",
      "  Validation Found 53324 of 108024, added 6446 (eff 49.36%) (0.322 FP/event)\n"
     ]
    },
    {
     "data": {
      "application/vnd.jupyter.widget-view+json": {
       "model_id": "",
       "version_major": 2,
       "version_minor": 0
      },
      "text/plain": [
       "HBox(children=(FloatProgress(value=0.0, description='Training', layout=Layout(flex='2'), max=6667.0, style=Pro…"
      ]
     },
     "metadata": {},
     "output_type": "display_data"
    },
    {
     "name": "stdout",
     "output_type": "stream",
     "text": [
      "Epoch 22: train=10.2751, val=9.94576, took 590.65 s\n",
      "  Validation Found 53701 of 108024, added 6512 (eff 49.71%) (0.326 FP/event)\n"
     ]
    },
    {
     "data": {
      "application/vnd.jupyter.widget-view+json": {
       "model_id": "",
       "version_major": 2,
       "version_minor": 0
      },
      "text/plain": [
       "HBox(children=(FloatProgress(value=0.0, description='Training', layout=Layout(flex='2'), max=6667.0, style=Pro…"
      ]
     },
     "metadata": {},
     "output_type": "display_data"
    },
    {
     "name": "stdout",
     "output_type": "stream",
     "text": [
      "Epoch 23: train=10.2595, val=10.0244, took 591.23 s\n",
      "  Validation Found 54901 of 108024, added 7125 (eff 50.82%) (0.356 FP/event)\n"
     ]
    },
    {
     "data": {
      "application/vnd.jupyter.widget-view+json": {
       "model_id": "",
       "version_major": 2,
       "version_minor": 0
      },
      "text/plain": [
       "HBox(children=(FloatProgress(value=0.0, description='Training', layout=Layout(flex='2'), max=6667.0, style=Pro…"
      ]
     },
     "metadata": {},
     "output_type": "display_data"
    },
    {
     "name": "stdout",
     "output_type": "stream",
     "text": [
      "Epoch 24: train=10.2726, val=9.96775, took 591.03 s\n",
      "  Validation Found 53789 of 108024, added 6340 (eff 49.79%) (0.317 FP/event)\n"
     ]
    },
    {
     "data": {
      "application/vnd.jupyter.widget-view+json": {
       "model_id": "",
       "version_major": 2,
       "version_minor": 0
      },
      "text/plain": [
       "HBox(children=(FloatProgress(value=0.0, description='Training', layout=Layout(flex='2'), max=6667.0, style=Pro…"
      ]
     },
     "metadata": {},
     "output_type": "display_data"
    },
    {
     "name": "stdout",
     "output_type": "stream",
     "text": [
      "Epoch 25: train=10.2643, val=10.1439, took 591.06 s\n",
      "  Validation Found 53944 of 108024, added 6631 (eff 49.94%) (0.332 FP/event)\n"
     ]
    },
    {
     "data": {
      "application/vnd.jupyter.widget-view+json": {
       "model_id": "",
       "version_major": 2,
       "version_minor": 0
      },
      "text/plain": [
       "HBox(children=(FloatProgress(value=0.0, description='Training', layout=Layout(flex='2'), max=6667.0, style=Pro…"
      ]
     },
     "metadata": {},
     "output_type": "display_data"
    },
    {
     "name": "stdout",
     "output_type": "stream",
     "text": [
      "Epoch 26: train=10.2526, val=9.94172, took 590.93 s\n",
      "  Validation Found 53260 of 108024, added 6061 (eff 49.30%) (0.303 FP/event)\n"
     ]
    },
    {
     "data": {
      "application/vnd.jupyter.widget-view+json": {
       "model_id": "",
       "version_major": 2,
       "version_minor": 0
      },
      "text/plain": [
       "HBox(children=(FloatProgress(value=0.0, description='Training', layout=Layout(flex='2'), max=6667.0, style=Pro…"
      ]
     },
     "metadata": {},
     "output_type": "display_data"
    },
    {
     "name": "stdout",
     "output_type": "stream",
     "text": [
      "Epoch 27: train=10.2438, val=10.3798, took 591.65 s\n",
      "  Validation Found 54215 of 108024, added 6589 (eff 50.19%) (0.329 FP/event)\n"
     ]
    },
    {
     "data": {
      "application/vnd.jupyter.widget-view+json": {
       "model_id": "",
       "version_major": 2,
       "version_minor": 0
      },
      "text/plain": [
       "HBox(children=(FloatProgress(value=0.0, description='Training', layout=Layout(flex='2'), max=6667.0, style=Pro…"
      ]
     },
     "metadata": {},
     "output_type": "display_data"
    },
    {
     "name": "stdout",
     "output_type": "stream",
     "text": [
      "Epoch 28: train=10.2366, val=9.85851, took 591.06 s\n",
      "  Validation Found 54154 of 108024, added 6539 (eff 50.13%) (0.327 FP/event)\n"
     ]
    },
    {
     "data": {
      "application/vnd.jupyter.widget-view+json": {
       "model_id": "",
       "version_major": 2,
       "version_minor": 0
      },
      "text/plain": [
       "HBox(children=(FloatProgress(value=0.0, description='Training', layout=Layout(flex='2'), max=6667.0, style=Pro…"
      ]
     },
     "metadata": {},
     "output_type": "display_data"
    },
    {
     "name": "stdout",
     "output_type": "stream",
     "text": [
      "Epoch 29: train=10.2295, val=9.87013, took 591.09 s\n",
      "  Validation Found 53684 of 108024, added 6078 (eff 49.70%) (0.304 FP/event)\n"
     ]
    },
    {
     "data": {
      "application/vnd.jupyter.widget-view+json": {
       "model_id": "",
       "version_major": 2,
       "version_minor": 0
      },
      "text/plain": [
       "HBox(children=(FloatProgress(value=0.0, description='Training', layout=Layout(flex='2'), max=6667.0, style=Pro…"
      ]
     },
     "metadata": {},
     "output_type": "display_data"
    },
    {
     "name": "stdout",
     "output_type": "stream",
     "text": [
      "Epoch 30: train=10.2192, val=10.4239, took 590.96 s\n",
      "  Validation Found 54078 of 108024, added 6575 (eff 50.06%) (0.329 FP/event)\n"
     ]
    },
    {
     "data": {
      "application/vnd.jupyter.widget-view+json": {
       "model_id": "",
       "version_major": 2,
       "version_minor": 0
      },
      "text/plain": [
       "HBox(children=(FloatProgress(value=0.0, description='Training', layout=Layout(flex='2'), max=6667.0, style=Pro…"
      ]
     },
     "metadata": {},
     "output_type": "display_data"
    },
    {
     "name": "stdout",
     "output_type": "stream",
     "text": [
      "Epoch 31: train=10.2092, val=10.039, took 590.91 s\n",
      "  Validation Found 53764 of 108024, added 6392 (eff 49.77%) (0.32 FP/event)\n"
     ]
    },
    {
     "data": {
      "application/vnd.jupyter.widget-view+json": {
       "model_id": "",
       "version_major": 2,
       "version_minor": 0
      },
      "text/plain": [
       "HBox(children=(FloatProgress(value=0.0, description='Training', layout=Layout(flex='2'), max=6667.0, style=Pro…"
      ]
     },
     "metadata": {},
     "output_type": "display_data"
    },
    {
     "name": "stdout",
     "output_type": "stream",
     "text": [
      "Epoch 32: train=10.208, val=10.6394, took 591.68 s\n",
      "  Validation Found 54166 of 108024, added 6813 (eff 50.14%) (0.341 FP/event)\n"
     ]
    },
    {
     "data": {
      "application/vnd.jupyter.widget-view+json": {
       "model_id": "",
       "version_major": 2,
       "version_minor": 0
      },
      "text/plain": [
       "HBox(children=(FloatProgress(value=0.0, description='Training', layout=Layout(flex='2'), max=6667.0, style=Pro…"
      ]
     },
     "metadata": {},
     "output_type": "display_data"
    },
    {
     "name": "stdout",
     "output_type": "stream",
     "text": [
      "Epoch 33: train=10.1971, val=9.82146, took 591.4 s\n",
      "  Validation Found 54694 of 108024, added 6576 (eff 50.63%) (0.329 FP/event)\n"
     ]
    },
    {
     "data": {
      "application/vnd.jupyter.widget-view+json": {
       "model_id": "",
       "version_major": 2,
       "version_minor": 0
      },
      "text/plain": [
       "HBox(children=(FloatProgress(value=0.0, description='Training', layout=Layout(flex='2'), max=6667.0, style=Pro…"
      ]
     },
     "metadata": {},
     "output_type": "display_data"
    },
    {
     "name": "stdout",
     "output_type": "stream",
     "text": [
      "Epoch 34: train=10.2021, val=10.2715, took 590.7 s\n",
      "  Validation Found 53770 of 108024, added 6198 (eff 49.78%) (0.31 FP/event)\n"
     ]
    },
    {
     "data": {
      "application/vnd.jupyter.widget-view+json": {
       "model_id": "",
       "version_major": 2,
       "version_minor": 0
      },
      "text/plain": [
       "HBox(children=(FloatProgress(value=0.0, description='Training', layout=Layout(flex='2'), max=6667.0, style=Pro…"
      ]
     },
     "metadata": {},
     "output_type": "display_data"
    },
    {
     "name": "stdout",
     "output_type": "stream",
     "text": [
      "Epoch 35: train=10.1874, val=10.0509, took 591.39 s\n",
      "  Validation Found 54526 of 108024, added 6622 (eff 50.48%) (0.331 FP/event)\n"
     ]
    },
    {
     "data": {
      "application/vnd.jupyter.widget-view+json": {
       "model_id": "",
       "version_major": 2,
       "version_minor": 0
      },
      "text/plain": [
       "HBox(children=(FloatProgress(value=0.0, description='Training', layout=Layout(flex='2'), max=6667.0, style=Pro…"
      ]
     },
     "metadata": {},
     "output_type": "display_data"
    },
    {
     "name": "stdout",
     "output_type": "stream",
     "text": [
      "Epoch 36: train=10.187, val=9.82989, took 591.7 s\n",
      "  Validation Found 54725 of 108024, added 6739 (eff 50.66%) (0.337 FP/event)\n"
     ]
    },
    {
     "data": {
      "application/vnd.jupyter.widget-view+json": {
       "model_id": "",
       "version_major": 2,
       "version_minor": 0
      },
      "text/plain": [
       "HBox(children=(FloatProgress(value=0.0, description='Training', layout=Layout(flex='2'), max=6667.0, style=Pro…"
      ]
     },
     "metadata": {},
     "output_type": "display_data"
    },
    {
     "name": "stdout",
     "output_type": "stream",
     "text": [
      "Epoch 37: train=10.1746, val=10.2997, took 591.08 s\n",
      "  Validation Found 55223 of 108024, added 6996 (eff 51.12%) (0.35 FP/event)\n"
     ]
    },
    {
     "data": {
      "application/vnd.jupyter.widget-view+json": {
       "model_id": "",
       "version_major": 2,
       "version_minor": 0
      },
      "text/plain": [
       "HBox(children=(FloatProgress(value=0.0, description='Training', layout=Layout(flex='2'), max=6667.0, style=Pro…"
      ]
     },
     "metadata": {},
     "output_type": "display_data"
    },
    {
     "name": "stdout",
     "output_type": "stream",
     "text": [
      "Epoch 38: train=10.1759, val=9.82654, took 591.81 s\n",
      "  Validation Found 54866 of 108024, added 6629 (eff 50.79%) (0.331 FP/event)\n"
     ]
    },
    {
     "data": {
      "application/vnd.jupyter.widget-view+json": {
       "model_id": "",
       "version_major": 2,
       "version_minor": 0
      },
      "text/plain": [
       "HBox(children=(FloatProgress(value=0.0, description='Training', layout=Layout(flex='2'), max=6667.0, style=Pro…"
      ]
     },
     "metadata": {},
     "output_type": "display_data"
    },
    {
     "name": "stdout",
     "output_type": "stream",
     "text": [
      "Epoch 39: train=10.1637, val=9.92496, took 590.9 s\n",
      "  Validation Found 54632 of 108024, added 6549 (eff 50.57%) (0.327 FP/event)\n"
     ]
    },
    {
     "data": {
      "application/vnd.jupyter.widget-view+json": {
       "model_id": "",
       "version_major": 2,
       "version_minor": 0
      },
      "text/plain": [
       "HBox(children=(FloatProgress(value=0.0, description='Training', layout=Layout(flex='2'), max=6667.0, style=Pro…"
      ]
     },
     "metadata": {},
     "output_type": "display_data"
    },
    {
     "name": "stdout",
     "output_type": "stream",
     "text": [
      "Epoch 40: train=10.1556, val=9.7944, took 590.5 s\n",
      "  Validation Found 54415 of 108024, added 6442 (eff 50.37%) (0.322 FP/event)\n"
     ]
    },
    {
     "data": {
      "application/vnd.jupyter.widget-view+json": {
       "model_id": "",
       "version_major": 2,
       "version_minor": 0
      },
      "text/plain": [
       "HBox(children=(FloatProgress(value=0.0, description='Training', layout=Layout(flex='2'), max=6667.0, style=Pro…"
      ]
     },
     "metadata": {},
     "output_type": "display_data"
    },
    {
     "name": "stdout",
     "output_type": "stream",
     "text": [
      "Epoch 41: train=10.1558, val=9.79366, took 591.19 s\n",
      "  Validation Found 54499 of 108024, added 6338 (eff 50.45%) (0.317 FP/event)\n"
     ]
    },
    {
     "data": {
      "application/vnd.jupyter.widget-view+json": {
       "model_id": "",
       "version_major": 2,
       "version_minor": 0
      },
      "text/plain": [
       "HBox(children=(FloatProgress(value=0.0, description='Training', layout=Layout(flex='2'), max=6667.0, style=Pro…"
      ]
     },
     "metadata": {},
     "output_type": "display_data"
    },
    {
     "name": "stdout",
     "output_type": "stream",
     "text": [
      "Epoch 42: train=10.1547, val=9.95295, took 591.09 s\n",
      "  Validation Found 54098 of 108024, added 6287 (eff 50.08%) (0.314 FP/event)\n"
     ]
    },
    {
     "data": {
      "application/vnd.jupyter.widget-view+json": {
       "model_id": "",
       "version_major": 2,
       "version_minor": 0
      },
      "text/plain": [
       "HBox(children=(FloatProgress(value=0.0, description='Training', layout=Layout(flex='2'), max=6667.0, style=Pro…"
      ]
     },
     "metadata": {},
     "output_type": "display_data"
    },
    {
     "name": "stdout",
     "output_type": "stream",
     "text": [
      "Epoch 43: train=10.1523, val=10.4637, took 591.02 s\n",
      "  Validation Found 54365 of 108024, added 6626 (eff 50.33%) (0.331 FP/event)\n"
     ]
    },
    {
     "data": {
      "application/vnd.jupyter.widget-view+json": {
       "model_id": "",
       "version_major": 2,
       "version_minor": 0
      },
      "text/plain": [
       "HBox(children=(FloatProgress(value=0.0, description='Training', layout=Layout(flex='2'), max=6667.0, style=Pro…"
      ]
     },
     "metadata": {},
     "output_type": "display_data"
    },
    {
     "name": "stdout",
     "output_type": "stream",
     "text": [
      "Epoch 44: train=10.1337, val=9.95798, took 591.46 s\n",
      "  Validation Found 54719 of 108024, added 6558 (eff 50.65%) (0.328 FP/event)\n"
     ]
    },
    {
     "data": {
      "application/vnd.jupyter.widget-view+json": {
       "model_id": "",
       "version_major": 2,
       "version_minor": 0
      },
      "text/plain": [
       "HBox(children=(FloatProgress(value=0.0, description='Training', layout=Layout(flex='2'), max=6667.0, style=Pro…"
      ]
     },
     "metadata": {},
     "output_type": "display_data"
    },
    {
     "name": "stdout",
     "output_type": "stream",
     "text": [
      "Epoch 45: train=10.1428, val=9.8, took 590.96 s\n",
      "  Validation Found 54378 of 108024, added 6409 (eff 50.34%) (0.32 FP/event)\n"
     ]
    },
    {
     "data": {
      "application/vnd.jupyter.widget-view+json": {
       "model_id": "",
       "version_major": 2,
       "version_minor": 0
      },
      "text/plain": [
       "HBox(children=(FloatProgress(value=0.0, description='Training', layout=Layout(flex='2'), max=6667.0, style=Pro…"
      ]
     },
     "metadata": {},
     "output_type": "display_data"
    },
    {
     "name": "stdout",
     "output_type": "stream",
     "text": [
      "Epoch 46: train=10.1311, val=9.87154, took 591.35 s\n",
      "  Validation Found 54550 of 108024, added 6358 (eff 50.50%) (0.318 FP/event)\n"
     ]
    },
    {
     "data": {
      "application/vnd.jupyter.widget-view+json": {
       "model_id": "",
       "version_major": 2,
       "version_minor": 0
      },
      "text/plain": [
       "HBox(children=(FloatProgress(value=0.0, description='Training', layout=Layout(flex='2'), max=6667.0, style=Pro…"
      ]
     },
     "metadata": {},
     "output_type": "display_data"
    },
    {
     "name": "stdout",
     "output_type": "stream",
     "text": [
      "Epoch 47: train=10.1235, val=9.82199, took 591.09 s\n",
      "  Validation Found 53938 of 108024, added 6070 (eff 49.93%) (0.303 FP/event)\n"
     ]
    },
    {
     "data": {
      "application/vnd.jupyter.widget-view+json": {
       "model_id": "",
       "version_major": 2,
       "version_minor": 0
      },
      "text/plain": [
       "HBox(children=(FloatProgress(value=0.0, description='Training', layout=Layout(flex='2'), max=6667.0, style=Pro…"
      ]
     },
     "metadata": {},
     "output_type": "display_data"
    },
    {
     "name": "stdout",
     "output_type": "stream",
     "text": [
      "Epoch 48: train=10.1247, val=9.93722, took 591.07 s\n",
      "  Validation Found 54725 of 108024, added 6460 (eff 50.66%) (0.323 FP/event)\n"
     ]
    },
    {
     "data": {
      "application/vnd.jupyter.widget-view+json": {
       "model_id": "",
       "version_major": 2,
       "version_minor": 0
      },
      "text/plain": [
       "HBox(children=(FloatProgress(value=0.0, description='Training', layout=Layout(flex='2'), max=6667.0, style=Pro…"
      ]
     },
     "metadata": {},
     "output_type": "display_data"
    },
    {
     "name": "stdout",
     "output_type": "stream",
     "text": [
      "Epoch 49: train=10.1172, val=10.4009, took 591.0 s\n",
      "  Validation Found 54416 of 108024, added 6510 (eff 50.37%) (0.325 FP/event)\n"
     ]
    },
    {
     "data": {
      "application/vnd.jupyter.widget-view+json": {
       "model_id": "",
       "version_major": 2,
       "version_minor": 0
      },
      "text/plain": [
       "HBox(children=(FloatProgress(value=0.0, description='Training', layout=Layout(flex='2'), max=6667.0, style=Pro…"
      ]
     },
     "metadata": {},
     "output_type": "display_data"
    },
    {
     "name": "stdout",
     "output_type": "stream",
     "text": [
      "Epoch 50: train=10.112, val=9.74775, took 590.94 s\n",
      "  Validation Found 54932 of 108024, added 6426 (eff 50.85%) (0.321 FP/event)\n"
     ]
    },
    {
     "data": {
      "application/vnd.jupyter.widget-view+json": {
       "model_id": "",
       "version_major": 2,
       "version_minor": 0
      },
      "text/plain": [
       "HBox(children=(FloatProgress(value=0.0, description='Training', layout=Layout(flex='2'), max=6667.0, style=Pro…"
      ]
     },
     "metadata": {},
     "output_type": "display_data"
    },
    {
     "name": "stdout",
     "output_type": "stream",
     "text": [
      "Epoch 51: train=10.1034, val=10.0895, took 591.29 s\n",
      "  Validation Found 55035 of 108024, added 6587 (eff 50.95%) (0.329 FP/event)\n"
     ]
    },
    {
     "data": {
      "application/vnd.jupyter.widget-view+json": {
       "model_id": "",
       "version_major": 2,
       "version_minor": 0
      },
      "text/plain": [
       "HBox(children=(FloatProgress(value=0.0, description='Training', layout=Layout(flex='2'), max=6667.0, style=Pro…"
      ]
     },
     "metadata": {},
     "output_type": "display_data"
    },
    {
     "name": "stdout",
     "output_type": "stream",
     "text": [
      "Epoch 52: train=10.0986, val=9.76707, took 591.76 s\n",
      "  Validation Found 54710 of 108024, added 6343 (eff 50.65%) (0.317 FP/event)\n"
     ]
    },
    {
     "data": {
      "application/vnd.jupyter.widget-view+json": {
       "model_id": "",
       "version_major": 2,
       "version_minor": 0
      },
      "text/plain": [
       "HBox(children=(FloatProgress(value=0.0, description='Training', layout=Layout(flex='2'), max=6667.0, style=Pro…"
      ]
     },
     "metadata": {},
     "output_type": "display_data"
    },
    {
     "name": "stdout",
     "output_type": "stream",
     "text": [
      "Epoch 53: train=10.0981, val=10.229, took 590.57 s\n",
      "  Validation Found 54853 of 108024, added 6786 (eff 50.78%) (0.339 FP/event)\n"
     ]
    },
    {
     "data": {
      "application/vnd.jupyter.widget-view+json": {
       "model_id": "",
       "version_major": 2,
       "version_minor": 0
      },
      "text/plain": [
       "HBox(children=(FloatProgress(value=0.0, description='Training', layout=Layout(flex='2'), max=6667.0, style=Pro…"
      ]
     },
     "metadata": {},
     "output_type": "display_data"
    },
    {
     "name": "stdout",
     "output_type": "stream",
     "text": [
      "Epoch 54: train=10.0858, val=9.88242, took 591.0 s\n",
      "  Validation Found 55152 of 108024, added 6554 (eff 51.06%) (0.328 FP/event)\n"
     ]
    },
    {
     "data": {
      "application/vnd.jupyter.widget-view+json": {
       "model_id": "",
       "version_major": 2,
       "version_minor": 0
      },
      "text/plain": [
       "HBox(children=(FloatProgress(value=0.0, description='Training', layout=Layout(flex='2'), max=6667.0, style=Pro…"
      ]
     },
     "metadata": {},
     "output_type": "display_data"
    },
    {
     "name": "stdout",
     "output_type": "stream",
     "text": [
      "Epoch 55: train=10.0959, val=10.0218, took 591.37 s\n",
      "  Validation Found 54847 of 108024, added 6462 (eff 50.77%) (0.323 FP/event)\n"
     ]
    },
    {
     "data": {
      "application/vnd.jupyter.widget-view+json": {
       "model_id": "",
       "version_major": 2,
       "version_minor": 0
      },
      "text/plain": [
       "HBox(children=(FloatProgress(value=0.0, description='Training', layout=Layout(flex='2'), max=6667.0, style=Pro…"
      ]
     },
     "metadata": {},
     "output_type": "display_data"
    },
    {
     "name": "stdout",
     "output_type": "stream",
     "text": [
      "Epoch 56: train=10.0797, val=10.0132, took 591.39 s\n",
      "  Validation Found 54667 of 108024, added 6273 (eff 50.61%) (0.314 FP/event)\n"
     ]
    },
    {
     "data": {
      "application/vnd.jupyter.widget-view+json": {
       "model_id": "",
       "version_major": 2,
       "version_minor": 0
      },
      "text/plain": [
       "HBox(children=(FloatProgress(value=0.0, description='Training', layout=Layout(flex='2'), max=6667.0, style=Pro…"
      ]
     },
     "metadata": {},
     "output_type": "display_data"
    },
    {
     "name": "stdout",
     "output_type": "stream",
     "text": [
      "Epoch 57: train=10.0739, val=9.75105, took 590.95 s\n",
      "  Validation Found 54753 of 108024, added 6321 (eff 50.69%) (0.316 FP/event)\n"
     ]
    },
    {
     "data": {
      "application/vnd.jupyter.widget-view+json": {
       "model_id": "",
       "version_major": 2,
       "version_minor": 0
      },
      "text/plain": [
       "HBox(children=(FloatProgress(value=0.0, description='Training', layout=Layout(flex='2'), max=6667.0, style=Pro…"
      ]
     },
     "metadata": {},
     "output_type": "display_data"
    },
    {
     "name": "stdout",
     "output_type": "stream",
     "text": [
      "Epoch 58: train=10.0607, val=10.613, took 590.89 s\n",
      "  Validation Found 55845 of 108024, added 7480 (eff 51.70%) (0.374 FP/event)\n"
     ]
    },
    {
     "data": {
      "application/vnd.jupyter.widget-view+json": {
       "model_id": "",
       "version_major": 2,
       "version_minor": 0
      },
      "text/plain": [
       "HBox(children=(FloatProgress(value=0.0, description='Training', layout=Layout(flex='2'), max=6667.0, style=Pro…"
      ]
     },
     "metadata": {},
     "output_type": "display_data"
    },
    {
     "name": "stdout",
     "output_type": "stream",
     "text": [
      "Epoch 59: train=10.0566, val=10.063, took 591.49 s\n",
      "  Validation Found 55333 of 108024, added 6813 (eff 51.22%) (0.341 FP/event)\n"
     ]
    },
    {
     "data": {
      "application/vnd.jupyter.widget-view+json": {
       "model_id": "",
       "version_major": 2,
       "version_minor": 0
      },
      "text/plain": [
       "HBox(children=(FloatProgress(value=0.0, description='Training', layout=Layout(flex='2'), max=6667.0, style=Pro…"
      ]
     },
     "metadata": {},
     "output_type": "display_data"
    },
    {
     "name": "stdout",
     "output_type": "stream",
     "text": [
      "Epoch 60: train=10.0495, val=9.78892, took 591.15 s\n",
      "  Validation Found 55253 of 108024, added 6426 (eff 51.15%) (0.321 FP/event)\n"
     ]
    },
    {
     "data": {
      "application/vnd.jupyter.widget-view+json": {
       "model_id": "",
       "version_major": 2,
       "version_minor": 0
      },
      "text/plain": [
       "HBox(children=(FloatProgress(value=0.0, description='Training', layout=Layout(flex='2'), max=6667.0, style=Pro…"
      ]
     },
     "metadata": {},
     "output_type": "display_data"
    },
    {
     "name": "stdout",
     "output_type": "stream",
     "text": [
      "Epoch 61: train=10.0623, val=9.73117, took 591.05 s\n",
      "  Validation Found 54652 of 108024, added 6153 (eff 50.59%) (0.308 FP/event)\n"
     ]
    },
    {
     "data": {
      "application/vnd.jupyter.widget-view+json": {
       "model_id": "",
       "version_major": 2,
       "version_minor": 0
      },
      "text/plain": [
       "HBox(children=(FloatProgress(value=0.0, description='Training', layout=Layout(flex='2'), max=6667.0, style=Pro…"
      ]
     },
     "metadata": {},
     "output_type": "display_data"
    },
    {
     "name": "stdout",
     "output_type": "stream",
     "text": [
      "Epoch 62: train=10.0523, val=9.73964, took 591.53 s\n",
      "  Validation Found 54690 of 108024, added 6091 (eff 50.63%) (0.305 FP/event)\n"
     ]
    },
    {
     "data": {
      "application/vnd.jupyter.widget-view+json": {
       "model_id": "",
       "version_major": 2,
       "version_minor": 0
      },
      "text/plain": [
       "HBox(children=(FloatProgress(value=0.0, description='Training', layout=Layout(flex='2'), max=6667.0, style=Pro…"
      ]
     },
     "metadata": {},
     "output_type": "display_data"
    },
    {
     "name": "stdout",
     "output_type": "stream",
     "text": [
      "Epoch 63: train=10.0443, val=9.7973, took 590.72 s\n",
      "  Validation Found 54767 of 108024, added 6114 (eff 50.70%) (0.306 FP/event)\n"
     ]
    },
    {
     "data": {
      "application/vnd.jupyter.widget-view+json": {
       "model_id": "",
       "version_major": 2,
       "version_minor": 0
      },
      "text/plain": [
       "HBox(children=(FloatProgress(value=0.0, description='Training', layout=Layout(flex='2'), max=6667.0, style=Pro…"
      ]
     },
     "metadata": {},
     "output_type": "display_data"
    },
    {
     "name": "stdout",
     "output_type": "stream",
     "text": [
      "Epoch 64: train=10.0448, val=9.85562, took 591.74 s\n",
      "  Validation Found 54922 of 108024, added 6176 (eff 50.84%) (0.309 FP/event)\n"
     ]
    },
    {
     "data": {
      "application/vnd.jupyter.widget-view+json": {
       "model_id": "",
       "version_major": 2,
       "version_minor": 0
      },
      "text/plain": [
       "HBox(children=(FloatProgress(value=0.0, description='Training', layout=Layout(flex='2'), max=6667.0, style=Pro…"
      ]
     },
     "metadata": {},
     "output_type": "display_data"
    },
    {
     "name": "stdout",
     "output_type": "stream",
     "text": [
      "Epoch 65: train=10.049, val=9.73981, took 590.67 s\n",
      "  Validation Found 54821 of 108024, added 6126 (eff 50.75%) (0.306 FP/event)\n"
     ]
    },
    {
     "data": {
      "application/vnd.jupyter.widget-view+json": {
       "model_id": "",
       "version_major": 2,
       "version_minor": 0
      },
      "text/plain": [
       "HBox(children=(FloatProgress(value=0.0, description='Training', layout=Layout(flex='2'), max=6667.0, style=Pro…"
      ]
     },
     "metadata": {},
     "output_type": "display_data"
    },
    {
     "name": "stdout",
     "output_type": "stream",
     "text": [
      "Epoch 66: train=10.0365, val=10.1516, took 591.22 s\n",
      "  Validation Found 55493 of 108024, added 6709 (eff 51.37%) (0.335 FP/event)\n"
     ]
    },
    {
     "data": {
      "application/vnd.jupyter.widget-view+json": {
       "model_id": "",
       "version_major": 2,
       "version_minor": 0
      },
      "text/plain": [
       "HBox(children=(FloatProgress(value=0.0, description='Training', layout=Layout(flex='2'), max=6667.0, style=Pro…"
      ]
     },
     "metadata": {},
     "output_type": "display_data"
    },
    {
     "name": "stdout",
     "output_type": "stream",
     "text": [
      "Epoch 67: train=10.0261, val=9.70067, took 591.12 s\n",
      "  Validation Found 55347 of 108024, added 6486 (eff 51.24%) (0.324 FP/event)\n"
     ]
    },
    {
     "data": {
      "application/vnd.jupyter.widget-view+json": {
       "model_id": "",
       "version_major": 2,
       "version_minor": 0
      },
      "text/plain": [
       "HBox(children=(FloatProgress(value=0.0, description='Training', layout=Layout(flex='2'), max=6667.0, style=Pro…"
      ]
     },
     "metadata": {},
     "output_type": "display_data"
    },
    {
     "name": "stdout",
     "output_type": "stream",
     "text": [
      "Epoch 68: train=10.0261, val=9.6743, took 591.06 s\n",
      "  Validation Found 55179 of 108024, added 6454 (eff 51.08%) (0.323 FP/event)\n"
     ]
    },
    {
     "data": {
      "application/vnd.jupyter.widget-view+json": {
       "model_id": "",
       "version_major": 2,
       "version_minor": 0
      },
      "text/plain": [
       "HBox(children=(FloatProgress(value=0.0, description='Training', layout=Layout(flex='2'), max=6667.0, style=Pro…"
      ]
     },
     "metadata": {},
     "output_type": "display_data"
    },
    {
     "name": "stdout",
     "output_type": "stream",
     "text": [
      "Epoch 69: train=10.0144, val=9.94078, took 590.62 s\n",
      "  Validation Found 55505 of 108024, added 6564 (eff 51.38%) (0.328 FP/event)\n"
     ]
    },
    {
     "data": {
      "application/vnd.jupyter.widget-view+json": {
       "model_id": "",
       "version_major": 2,
       "version_minor": 0
      },
      "text/plain": [
       "HBox(children=(FloatProgress(value=0.0, description='Training', layout=Layout(flex='2'), max=6667.0, style=Pro…"
      ]
     },
     "metadata": {},
     "output_type": "display_data"
    },
    {
     "name": "stdout",
     "output_type": "stream",
     "text": [
      "Epoch 70: train=10.0197, val=9.7177, took 590.7 s\n",
      "  Validation Found 55263 of 108024, added 6412 (eff 51.16%) (0.321 FP/event)\n"
     ]
    },
    {
     "data": {
      "application/vnd.jupyter.widget-view+json": {
       "model_id": "",
       "version_major": 2,
       "version_minor": 0
      },
      "text/plain": [
       "HBox(children=(FloatProgress(value=0.0, description='Training', layout=Layout(flex='2'), max=6667.0, style=Pro…"
      ]
     },
     "metadata": {},
     "output_type": "display_data"
    },
    {
     "name": "stdout",
     "output_type": "stream",
     "text": [
      "Epoch 71: train=10.0205, val=9.95709, took 590.43 s\n",
      "  Validation Found 54937 of 108024, added 6365 (eff 50.86%) (0.318 FP/event)\n"
     ]
    },
    {
     "data": {
      "application/vnd.jupyter.widget-view+json": {
       "model_id": "",
       "version_major": 2,
       "version_minor": 0
      },
      "text/plain": [
       "HBox(children=(FloatProgress(value=0.0, description='Training', layout=Layout(flex='2'), max=6667.0, style=Pro…"
      ]
     },
     "metadata": {},
     "output_type": "display_data"
    },
    {
     "name": "stdout",
     "output_type": "stream",
     "text": [
      "Epoch 72: train=10.0193, val=9.69163, took 590.69 s\n",
      "  Validation Found 55816 of 108024, added 6498 (eff 51.67%) (0.325 FP/event)\n"
     ]
    },
    {
     "data": {
      "application/vnd.jupyter.widget-view+json": {
       "model_id": "",
       "version_major": 2,
       "version_minor": 0
      },
      "text/plain": [
       "HBox(children=(FloatProgress(value=0.0, description='Training', layout=Layout(flex='2'), max=6667.0, style=Pro…"
      ]
     },
     "metadata": {},
     "output_type": "display_data"
    },
    {
     "name": "stdout",
     "output_type": "stream",
     "text": [
      "Epoch 73: train=10.0095, val=9.75092, took 590.96 s\n",
      "  Validation Found 54637 of 108024, added 5805 (eff 50.58%) (0.29 FP/event)\n"
     ]
    },
    {
     "data": {
      "application/vnd.jupyter.widget-view+json": {
       "model_id": "",
       "version_major": 2,
       "version_minor": 0
      },
      "text/plain": [
       "HBox(children=(FloatProgress(value=0.0, description='Training', layout=Layout(flex='2'), max=6667.0, style=Pro…"
      ]
     },
     "metadata": {},
     "output_type": "display_data"
    },
    {
     "name": "stdout",
     "output_type": "stream",
     "text": [
      "Epoch 74: train=10.0026, val=9.66953, took 591.27 s\n",
      "  Validation Found 56015 of 108024, added 6935 (eff 51.85%) (0.347 FP/event)\n"
     ]
    },
    {
     "data": {
      "application/vnd.jupyter.widget-view+json": {
       "model_id": "",
       "version_major": 2,
       "version_minor": 0
      },
      "text/plain": [
       "HBox(children=(FloatProgress(value=0.0, description='Training', layout=Layout(flex='2'), max=6667.0, style=Pro…"
      ]
     },
     "metadata": {},
     "output_type": "display_data"
    },
    {
     "name": "stdout",
     "output_type": "stream",
     "text": [
      "Epoch 75: train=9.99667, val=9.74436, took 590.25 s\n",
      "  Validation Found 55451 of 108024, added 6609 (eff 51.33%) (0.33 FP/event)\n"
     ]
    },
    {
     "data": {
      "application/vnd.jupyter.widget-view+json": {
       "model_id": "",
       "version_major": 2,
       "version_minor": 0
      },
      "text/plain": [
       "HBox(children=(FloatProgress(value=0.0, description='Training', layout=Layout(flex='2'), max=6667.0, style=Pro…"
      ]
     },
     "metadata": {},
     "output_type": "display_data"
    },
    {
     "name": "stdout",
     "output_type": "stream",
     "text": [
      "Epoch 76: train=9.99825, val=9.68347, took 591.02 s\n",
      "  Validation Found 55557 of 108024, added 6523 (eff 51.43%) (0.326 FP/event)\n"
     ]
    },
    {
     "data": {
      "application/vnd.jupyter.widget-view+json": {
       "model_id": "",
       "version_major": 2,
       "version_minor": 0
      },
      "text/plain": [
       "HBox(children=(FloatProgress(value=0.0, description='Training', layout=Layout(flex='2'), max=6667.0, style=Pro…"
      ]
     },
     "metadata": {},
     "output_type": "display_data"
    },
    {
     "name": "stdout",
     "output_type": "stream",
     "text": [
      "Epoch 77: train=9.99016, val=9.8041, took 591.13 s\n",
      "  Validation Found 55529 of 108024, added 6591 (eff 51.40%) (0.33 FP/event)\n"
     ]
    },
    {
     "data": {
      "application/vnd.jupyter.widget-view+json": {
       "model_id": "",
       "version_major": 2,
       "version_minor": 0
      },
      "text/plain": [
       "HBox(children=(FloatProgress(value=0.0, description='Training', layout=Layout(flex='2'), max=6667.0, style=Pro…"
      ]
     },
     "metadata": {},
     "output_type": "display_data"
    },
    {
     "name": "stdout",
     "output_type": "stream",
     "text": [
      "Epoch 78: train=9.9872, val=9.63991, took 590.76 s\n",
      "  Validation Found 55545 of 108024, added 6551 (eff 51.42%) (0.328 FP/event)\n"
     ]
    },
    {
     "data": {
      "application/vnd.jupyter.widget-view+json": {
       "model_id": "",
       "version_major": 2,
       "version_minor": 0
      },
      "text/plain": [
       "HBox(children=(FloatProgress(value=0.0, description='Training', layout=Layout(flex='2'), max=6667.0, style=Pro…"
      ]
     },
     "metadata": {},
     "output_type": "display_data"
    },
    {
     "name": "stdout",
     "output_type": "stream",
     "text": [
      "Epoch 79: train=9.99465, val=9.75614, took 590.94 s\n",
      "  Validation Found 55370 of 108024, added 6440 (eff 51.26%) (0.322 FP/event)\n"
     ]
    },
    {
     "data": {
      "application/vnd.jupyter.widget-view+json": {
       "model_id": "",
       "version_major": 2,
       "version_minor": 0
      },
      "text/plain": [
       "HBox(children=(FloatProgress(value=0.0, description='Training', layout=Layout(flex='2'), max=6667.0, style=Pro…"
      ]
     },
     "metadata": {},
     "output_type": "display_data"
    },
    {
     "name": "stdout",
     "output_type": "stream",
     "text": [
      "Epoch 80: train=9.98656, val=9.91693, took 590.79 s\n",
      "  Validation Found 55944 of 108024, added 6688 (eff 51.79%) (0.334 FP/event)\n"
     ]
    },
    {
     "data": {
      "application/vnd.jupyter.widget-view+json": {
       "model_id": "",
       "version_major": 2,
       "version_minor": 0
      },
      "text/plain": [
       "HBox(children=(FloatProgress(value=0.0, description='Training', layout=Layout(flex='2'), max=6667.0, style=Pro…"
      ]
     },
     "metadata": {},
     "output_type": "display_data"
    },
    {
     "name": "stdout",
     "output_type": "stream",
     "text": [
      "Epoch 81: train=9.97824, val=9.75001, took 590.68 s\n",
      "  Validation Found 55457 of 108024, added 6285 (eff 51.34%) (0.314 FP/event)\n"
     ]
    },
    {
     "data": {
      "application/vnd.jupyter.widget-view+json": {
       "model_id": "",
       "version_major": 2,
       "version_minor": 0
      },
      "text/plain": [
       "HBox(children=(FloatProgress(value=0.0, description='Training', layout=Layout(flex='2'), max=6667.0, style=Pro…"
      ]
     },
     "metadata": {},
     "output_type": "display_data"
    },
    {
     "name": "stdout",
     "output_type": "stream",
     "text": [
      "Epoch 82: train=9.97302, val=10.0416, took 590.46 s\n",
      "  Validation Found 55358 of 108024, added 6432 (eff 51.25%) (0.322 FP/event)\n"
     ]
    },
    {
     "data": {
      "application/vnd.jupyter.widget-view+json": {
       "model_id": "",
       "version_major": 2,
       "version_minor": 0
      },
      "text/plain": [
       "HBox(children=(FloatProgress(value=0.0, description='Training', layout=Layout(flex='2'), max=6667.0, style=Pro…"
      ]
     },
     "metadata": {},
     "output_type": "display_data"
    },
    {
     "name": "stdout",
     "output_type": "stream",
     "text": [
      "Epoch 83: train=9.98168, val=9.66981, took 590.69 s\n",
      "  Validation Found 55112 of 108024, added 6047 (eff 51.02%) (0.302 FP/event)\n"
     ]
    },
    {
     "data": {
      "application/vnd.jupyter.widget-view+json": {
       "model_id": "",
       "version_major": 2,
       "version_minor": 0
      },
      "text/plain": [
       "HBox(children=(FloatProgress(value=0.0, description='Training', layout=Layout(flex='2'), max=6667.0, style=Pro…"
      ]
     },
     "metadata": {},
     "output_type": "display_data"
    },
    {
     "name": "stdout",
     "output_type": "stream",
     "text": [
      "Epoch 84: train=9.97319, val=9.77911, took 590.73 s\n",
      "  Validation Found 55630 of 108024, added 6395 (eff 51.50%) (0.32 FP/event)\n"
     ]
    },
    {
     "data": {
      "application/vnd.jupyter.widget-view+json": {
       "model_id": "",
       "version_major": 2,
       "version_minor": 0
      },
      "text/plain": [
       "HBox(children=(FloatProgress(value=0.0, description='Training', layout=Layout(flex='2'), max=6667.0, style=Pro…"
      ]
     },
     "metadata": {},
     "output_type": "display_data"
    },
    {
     "name": "stdout",
     "output_type": "stream",
     "text": [
      "Epoch 85: train=9.9703, val=10.9854, took 590.84 s\n",
      "  Validation Found 55919 of 108024, added 6982 (eff 51.77%) (0.349 FP/event)\n"
     ]
    },
    {
     "data": {
      "application/vnd.jupyter.widget-view+json": {
       "model_id": "",
       "version_major": 2,
       "version_minor": 0
      },
      "text/plain": [
       "HBox(children=(FloatProgress(value=0.0, description='Training', layout=Layout(flex='2'), max=6667.0, style=Pro…"
      ]
     },
     "metadata": {},
     "output_type": "display_data"
    },
    {
     "name": "stdout",
     "output_type": "stream",
     "text": [
      "Epoch 86: train=9.96305, val=9.71419, took 591.37 s\n",
      "  Validation Found 54915 of 108024, added 6270 (eff 50.84%) (0.313 FP/event)\n"
     ]
    },
    {
     "data": {
      "application/vnd.jupyter.widget-view+json": {
       "model_id": "",
       "version_major": 2,
       "version_minor": 0
      },
      "text/plain": [
       "HBox(children=(FloatProgress(value=0.0, description='Training', layout=Layout(flex='2'), max=6667.0, style=Pro…"
      ]
     },
     "metadata": {},
     "output_type": "display_data"
    },
    {
     "name": "stdout",
     "output_type": "stream",
     "text": [
      "Epoch 87: train=9.97124, val=9.71654, took 591.09 s\n",
      "  Validation Found 55194 of 108024, added 6171 (eff 51.09%) (0.309 FP/event)\n"
     ]
    },
    {
     "data": {
      "application/vnd.jupyter.widget-view+json": {
       "model_id": "",
       "version_major": 2,
       "version_minor": 0
      },
      "text/plain": [
       "HBox(children=(FloatProgress(value=0.0, description='Training', layout=Layout(flex='2'), max=6667.0, style=Pro…"
      ]
     },
     "metadata": {},
     "output_type": "display_data"
    },
    {
     "name": "stdout",
     "output_type": "stream",
     "text": [
      "Epoch 88: train=9.96706, val=9.65887, took 590.89 s\n",
      "  Validation Found 55654 of 108024, added 6390 (eff 51.52%) (0.319 FP/event)\n"
     ]
    },
    {
     "data": {
      "application/vnd.jupyter.widget-view+json": {
       "model_id": "",
       "version_major": 2,
       "version_minor": 0
      },
      "text/plain": [
       "HBox(children=(FloatProgress(value=0.0, description='Training', layout=Layout(flex='2'), max=6667.0, style=Pro…"
      ]
     },
     "metadata": {},
     "output_type": "display_data"
    },
    {
     "name": "stdout",
     "output_type": "stream",
     "text": [
      "Epoch 89: train=9.96838, val=9.83886, took 591.29 s\n",
      "  Validation Found 55637 of 108024, added 6361 (eff 51.50%) (0.318 FP/event)\n"
     ]
    },
    {
     "data": {
      "application/vnd.jupyter.widget-view+json": {
       "model_id": "",
       "version_major": 2,
       "version_minor": 0
      },
      "text/plain": [
       "HBox(children=(FloatProgress(value=0.0, description='Training', layout=Layout(flex='2'), max=6667.0, style=Pro…"
      ]
     },
     "metadata": {},
     "output_type": "display_data"
    },
    {
     "name": "stdout",
     "output_type": "stream",
     "text": [
      "Epoch 90: train=9.95465, val=9.8014, took 590.54 s\n",
      "  Validation Found 55305 of 108024, added 6338 (eff 51.20%) (0.317 FP/event)\n"
     ]
    },
    {
     "data": {
      "application/vnd.jupyter.widget-view+json": {
       "model_id": "",
       "version_major": 2,
       "version_minor": 0
      },
      "text/plain": [
       "HBox(children=(FloatProgress(value=0.0, description='Training', layout=Layout(flex='2'), max=6667.0, style=Pro…"
      ]
     },
     "metadata": {},
     "output_type": "display_data"
    },
    {
     "name": "stdout",
     "output_type": "stream",
     "text": [
      "Epoch 91: train=9.95486, val=9.73474, took 590.97 s\n",
      "  Validation Found 56463 of 108024, added 6718 (eff 52.27%) (0.336 FP/event)\n"
     ]
    },
    {
     "data": {
      "application/vnd.jupyter.widget-view+json": {
       "model_id": "",
       "version_major": 2,
       "version_minor": 0
      },
      "text/plain": [
       "HBox(children=(FloatProgress(value=0.0, description='Training', layout=Layout(flex='2'), max=6667.0, style=Pro…"
      ]
     },
     "metadata": {},
     "output_type": "display_data"
    },
    {
     "name": "stdout",
     "output_type": "stream",
     "text": [
      "Epoch 92: train=9.94478, val=9.6426, took 591.93 s\n",
      "  Validation Found 55642 of 108024, added 6290 (eff 51.51%) (0.314 FP/event)\n"
     ]
    },
    {
     "data": {
      "application/vnd.jupyter.widget-view+json": {
       "model_id": "",
       "version_major": 2,
       "version_minor": 0
      },
      "text/plain": [
       "HBox(children=(FloatProgress(value=0.0, description='Training', layout=Layout(flex='2'), max=6667.0, style=Pro…"
      ]
     },
     "metadata": {},
     "output_type": "display_data"
    },
    {
     "name": "stdout",
     "output_type": "stream",
     "text": [
      "Epoch 93: train=9.94324, val=9.63087, took 591.64 s\n",
      "  Validation Found 55420 of 108024, added 6223 (eff 51.30%) (0.311 FP/event)\n"
     ]
    },
    {
     "data": {
      "application/vnd.jupyter.widget-view+json": {
       "model_id": "",
       "version_major": 2,
       "version_minor": 0
      },
      "text/plain": [
       "HBox(children=(FloatProgress(value=0.0, description='Training', layout=Layout(flex='2'), max=6667.0, style=Pro…"
      ]
     },
     "metadata": {},
     "output_type": "display_data"
    },
    {
     "name": "stdout",
     "output_type": "stream",
     "text": [
      "Epoch 94: train=9.94664, val=9.64306, took 590.94 s\n",
      "  Validation Found 54983 of 108024, added 5996 (eff 50.90%) (0.3 FP/event)\n"
     ]
    },
    {
     "data": {
      "application/vnd.jupyter.widget-view+json": {
       "model_id": "",
       "version_major": 2,
       "version_minor": 0
      },
      "text/plain": [
       "HBox(children=(FloatProgress(value=0.0, description='Training', layout=Layout(flex='2'), max=6667.0, style=Pro…"
      ]
     },
     "metadata": {},
     "output_type": "display_data"
    },
    {
     "name": "stdout",
     "output_type": "stream",
     "text": [
      "Epoch 95: train=9.95593, val=10.5266, took 591.05 s\n",
      "  Validation Found 55568 of 108024, added 6744 (eff 51.44%) (0.337 FP/event)\n"
     ]
    },
    {
     "data": {
      "application/vnd.jupyter.widget-view+json": {
       "model_id": "",
       "version_major": 2,
       "version_minor": 0
      },
      "text/plain": [
       "HBox(children=(FloatProgress(value=0.0, description='Training', layout=Layout(flex='2'), max=6667.0, style=Pro…"
      ]
     },
     "metadata": {},
     "output_type": "display_data"
    },
    {
     "name": "stdout",
     "output_type": "stream",
     "text": [
      "Epoch 96: train=9.94627, val=9.64067, took 591.1 s\n",
      "  Validation Found 55543 of 108024, added 6229 (eff 51.42%) (0.311 FP/event)\n"
     ]
    },
    {
     "data": {
      "application/vnd.jupyter.widget-view+json": {
       "model_id": "",
       "version_major": 2,
       "version_minor": 0
      },
      "text/plain": [
       "HBox(children=(FloatProgress(value=0.0, description='Training', layout=Layout(flex='2'), max=6667.0, style=Pro…"
      ]
     },
     "metadata": {},
     "output_type": "display_data"
    },
    {
     "name": "stdout",
     "output_type": "stream",
     "text": [
      "Epoch 97: train=9.95318, val=10.4583, took 590.9 s\n",
      "  Validation Found 55464 of 108024, added 6358 (eff 51.34%) (0.318 FP/event)\n"
     ]
    },
    {
     "data": {
      "application/vnd.jupyter.widget-view+json": {
       "model_id": "",
       "version_major": 2,
       "version_minor": 0
      },
      "text/plain": [
       "HBox(children=(FloatProgress(value=0.0, description='Training', layout=Layout(flex='2'), max=6667.0, style=Pro…"
      ]
     },
     "metadata": {},
     "output_type": "display_data"
    },
    {
     "name": "stdout",
     "output_type": "stream",
     "text": [
      "Epoch 98: train=9.93016, val=9.77372, took 591.17 s\n",
      "  Validation Found 54929 of 108024, added 6049 (eff 50.85%) (0.302 FP/event)\n"
     ]
    },
    {
     "data": {
      "application/vnd.jupyter.widget-view+json": {
       "model_id": "",
       "version_major": 2,
       "version_minor": 0
      },
      "text/plain": [
       "HBox(children=(FloatProgress(value=0.0, description='Training', layout=Layout(flex='2'), max=6667.0, style=Pro…"
      ]
     },
     "metadata": {},
     "output_type": "display_data"
    },
    {
     "name": "stdout",
     "output_type": "stream",
     "text": [
      "Epoch 99: train=9.94789, val=9.65196, took 590.89 s\n",
      "  Validation Found 55556 of 108024, added 6265 (eff 51.43%) (0.313 FP/event)\n",
      "\n"
     ]
    }
   ],
   "source": [
    "for result in trainNet(model, optimizer, loss,\n",
    "                        train_loader, val_loader,\n",
    "                        n_epochs, epoch_start=len(results),\n",
    "                        notebook=True):\n",
    "    \n",
    "    results = results.append(pd.Series(result._asdict()), ignore_index=True)\n",
    "    \n",
    "    xs = results.index\n",
    "##    print(\"xs = \",xs)\n",
    "    \n",
    "    # Update the plot above\n",
    "##    print(\"results.index = \",results.index,\"  results.cost\", results.cost)\n",
    "##    print(\"results.index = \",results.index,\"  results.val\", results.val)\n",
    "    lines['train'].set_data(results.index,results.cost)\n",
    "    lines['val'].set_data(results.index,results.val)\n",
    "    \n",
    "    #filter first cost epoch (can be really large)\n",
    "    max_cost = max(max(results.cost if len(results.cost)<2 else results.cost[1:]), max(results.val))\n",
    "    min_cost = min(min(results.cost), min(results.val))\n",
    "    \n",
    "    # The plot limits need updating too\n",
    "    \n",
    "    \n",
    "    \n",
    "    ax.set_ylim(min_cost*.9, max_cost*1.1)  \n",
    "    ax.set_xlim(-.5, len(results.cost) - .5)\n",
    "    \n",
    "    replace_in_ax(lax, lines['eff'], xs, results['eff_val'].apply(lambda x: x.eff_rate))\n",
    "    replace_in_ax(tax, lines['fp'], xs, results['eff_val'].apply(lambda x: x.fp_rate))\n",
    "    \n",
    "    # Redraw the figure\n",
    "    fig.canvas.draw()\n",
    "\n",
    "    # Save each model state dictionary\n",
    "    torch.save(model.state_dict(), output / f'{name}_{result.epoch}.pyt')"
   ]
  },
  {
   "cell_type": "code",
   "execution_count": 16,
   "metadata": {},
   "outputs": [],
   "source": [
    "torch.save(model.state_dict(), output / f'{name}_final.pyt')"
   ]
  },
  {
   "cell_type": "code",
   "execution_count": 17,
   "metadata": {},
   "outputs": [
    {
     "name": "stderr",
     "output_type": "stream",
     "text": [
      "/apps/miniconda3/envs/june2020-gpu/lib/python3.7/site-packages/pandas/core/generic.py:2505: PerformanceWarning: \n",
      "your performance may suffer as PyTables will pickle object types that it cannot\n",
      "map directly to c-types [inferred_type->mixed-integer,key->block1_values] [items->Index(['epoch', 'eff_val'], dtype='object')]\n",
      "\n",
      "  encoding=encoding,\n"
     ]
    }
   ],
   "source": [
    "results.to_hdf(f'{name}_stats.hdf5', 'results')"
   ]
  },
  {
   "cell_type": "code",
   "execution_count": 18,
   "metadata": {},
   "outputs": [
    {
     "data": {
      "application/javascript": [
       "/* Put everything inside the global mpl namespace */\n",
       "window.mpl = {};\n",
       "\n",
       "\n",
       "mpl.get_websocket_type = function() {\n",
       "    if (typeof(WebSocket) !== 'undefined') {\n",
       "        return WebSocket;\n",
       "    } else if (typeof(MozWebSocket) !== 'undefined') {\n",
       "        return MozWebSocket;\n",
       "    } else {\n",
       "        alert('Your browser does not have WebSocket support. ' +\n",
       "              'Please try Chrome, Safari or Firefox ≥ 6. ' +\n",
       "              'Firefox 4 and 5 are also supported but you ' +\n",
       "              'have to enable WebSockets in about:config.');\n",
       "    };\n",
       "}\n",
       "\n",
       "mpl.figure = function(figure_id, websocket, ondownload, parent_element) {\n",
       "    this.id = figure_id;\n",
       "\n",
       "    this.ws = websocket;\n",
       "\n",
       "    this.supports_binary = (this.ws.binaryType != undefined);\n",
       "\n",
       "    if (!this.supports_binary) {\n",
       "        var warnings = document.getElementById(\"mpl-warnings\");\n",
       "        if (warnings) {\n",
       "            warnings.style.display = 'block';\n",
       "            warnings.textContent = (\n",
       "                \"This browser does not support binary websocket messages. \" +\n",
       "                    \"Performance may be slow.\");\n",
       "        }\n",
       "    }\n",
       "\n",
       "    this.imageObj = new Image();\n",
       "\n",
       "    this.context = undefined;\n",
       "    this.message = undefined;\n",
       "    this.canvas = undefined;\n",
       "    this.rubberband_canvas = undefined;\n",
       "    this.rubberband_context = undefined;\n",
       "    this.format_dropdown = undefined;\n",
       "\n",
       "    this.image_mode = 'full';\n",
       "\n",
       "    this.root = $('<div/>');\n",
       "    this._root_extra_style(this.root)\n",
       "    this.root.attr('style', 'display: inline-block');\n",
       "\n",
       "    $(parent_element).append(this.root);\n",
       "\n",
       "    this._init_header(this);\n",
       "    this._init_canvas(this);\n",
       "    this._init_toolbar(this);\n",
       "\n",
       "    var fig = this;\n",
       "\n",
       "    this.waiting = false;\n",
       "\n",
       "    this.ws.onopen =  function () {\n",
       "            fig.send_message(\"supports_binary\", {value: fig.supports_binary});\n",
       "            fig.send_message(\"send_image_mode\", {});\n",
       "            if (mpl.ratio != 1) {\n",
       "                fig.send_message(\"set_dpi_ratio\", {'dpi_ratio': mpl.ratio});\n",
       "            }\n",
       "            fig.send_message(\"refresh\", {});\n",
       "        }\n",
       "\n",
       "    this.imageObj.onload = function() {\n",
       "            if (fig.image_mode == 'full') {\n",
       "                // Full images could contain transparency (where diff images\n",
       "                // almost always do), so we need to clear the canvas so that\n",
       "                // there is no ghosting.\n",
       "                fig.context.clearRect(0, 0, fig.canvas.width, fig.canvas.height);\n",
       "            }\n",
       "            fig.context.drawImage(fig.imageObj, 0, 0);\n",
       "        };\n",
       "\n",
       "    this.imageObj.onunload = function() {\n",
       "        fig.ws.close();\n",
       "    }\n",
       "\n",
       "    this.ws.onmessage = this._make_on_message_function(this);\n",
       "\n",
       "    this.ondownload = ondownload;\n",
       "}\n",
       "\n",
       "mpl.figure.prototype._init_header = function() {\n",
       "    var titlebar = $(\n",
       "        '<div class=\"ui-dialog-titlebar ui-widget-header ui-corner-all ' +\n",
       "        'ui-helper-clearfix\"/>');\n",
       "    var titletext = $(\n",
       "        '<div class=\"ui-dialog-title\" style=\"width: 100%; ' +\n",
       "        'text-align: center; padding: 3px;\"/>');\n",
       "    titlebar.append(titletext)\n",
       "    this.root.append(titlebar);\n",
       "    this.header = titletext[0];\n",
       "}\n",
       "\n",
       "\n",
       "\n",
       "mpl.figure.prototype._canvas_extra_style = function(canvas_div) {\n",
       "\n",
       "}\n",
       "\n",
       "\n",
       "mpl.figure.prototype._root_extra_style = function(canvas_div) {\n",
       "\n",
       "}\n",
       "\n",
       "mpl.figure.prototype._init_canvas = function() {\n",
       "    var fig = this;\n",
       "\n",
       "    var canvas_div = $('<div/>');\n",
       "\n",
       "    canvas_div.attr('style', 'position: relative; clear: both; outline: 0');\n",
       "\n",
       "    function canvas_keyboard_event(event) {\n",
       "        return fig.key_event(event, event['data']);\n",
       "    }\n",
       "\n",
       "    canvas_div.keydown('key_press', canvas_keyboard_event);\n",
       "    canvas_div.keyup('key_release', canvas_keyboard_event);\n",
       "    this.canvas_div = canvas_div\n",
       "    this._canvas_extra_style(canvas_div)\n",
       "    this.root.append(canvas_div);\n",
       "\n",
       "    var canvas = $('<canvas/>');\n",
       "    canvas.addClass('mpl-canvas');\n",
       "    canvas.attr('style', \"left: 0; top: 0; z-index: 0; outline: 0\")\n",
       "\n",
       "    this.canvas = canvas[0];\n",
       "    this.context = canvas[0].getContext(\"2d\");\n",
       "\n",
       "    var backingStore = this.context.backingStorePixelRatio ||\n",
       "\tthis.context.webkitBackingStorePixelRatio ||\n",
       "\tthis.context.mozBackingStorePixelRatio ||\n",
       "\tthis.context.msBackingStorePixelRatio ||\n",
       "\tthis.context.oBackingStorePixelRatio ||\n",
       "\tthis.context.backingStorePixelRatio || 1;\n",
       "\n",
       "    mpl.ratio = (window.devicePixelRatio || 1) / backingStore;\n",
       "\n",
       "    var rubberband = $('<canvas/>');\n",
       "    rubberband.attr('style', \"position: absolute; left: 0; top: 0; z-index: 1;\")\n",
       "\n",
       "    var pass_mouse_events = true;\n",
       "\n",
       "    canvas_div.resizable({\n",
       "        start: function(event, ui) {\n",
       "            pass_mouse_events = false;\n",
       "        },\n",
       "        resize: function(event, ui) {\n",
       "            fig.request_resize(ui.size.width, ui.size.height);\n",
       "        },\n",
       "        stop: function(event, ui) {\n",
       "            pass_mouse_events = true;\n",
       "            fig.request_resize(ui.size.width, ui.size.height);\n",
       "        },\n",
       "    });\n",
       "\n",
       "    function mouse_event_fn(event) {\n",
       "        if (pass_mouse_events)\n",
       "            return fig.mouse_event(event, event['data']);\n",
       "    }\n",
       "\n",
       "    rubberband.mousedown('button_press', mouse_event_fn);\n",
       "    rubberband.mouseup('button_release', mouse_event_fn);\n",
       "    // Throttle sequential mouse events to 1 every 20ms.\n",
       "    rubberband.mousemove('motion_notify', mouse_event_fn);\n",
       "\n",
       "    rubberband.mouseenter('figure_enter', mouse_event_fn);\n",
       "    rubberband.mouseleave('figure_leave', mouse_event_fn);\n",
       "\n",
       "    canvas_div.on(\"wheel\", function (event) {\n",
       "        event = event.originalEvent;\n",
       "        event['data'] = 'scroll'\n",
       "        if (event.deltaY < 0) {\n",
       "            event.step = 1;\n",
       "        } else {\n",
       "            event.step = -1;\n",
       "        }\n",
       "        mouse_event_fn(event);\n",
       "    });\n",
       "\n",
       "    canvas_div.append(canvas);\n",
       "    canvas_div.append(rubberband);\n",
       "\n",
       "    this.rubberband = rubberband;\n",
       "    this.rubberband_canvas = rubberband[0];\n",
       "    this.rubberband_context = rubberband[0].getContext(\"2d\");\n",
       "    this.rubberband_context.strokeStyle = \"#000000\";\n",
       "\n",
       "    this._resize_canvas = function(width, height) {\n",
       "        // Keep the size of the canvas, canvas container, and rubber band\n",
       "        // canvas in synch.\n",
       "        canvas_div.css('width', width)\n",
       "        canvas_div.css('height', height)\n",
       "\n",
       "        canvas.attr('width', width * mpl.ratio);\n",
       "        canvas.attr('height', height * mpl.ratio);\n",
       "        canvas.attr('style', 'width: ' + width + 'px; height: ' + height + 'px;');\n",
       "\n",
       "        rubberband.attr('width', width);\n",
       "        rubberband.attr('height', height);\n",
       "    }\n",
       "\n",
       "    // Set the figure to an initial 600x600px, this will subsequently be updated\n",
       "    // upon first draw.\n",
       "    this._resize_canvas(600, 600);\n",
       "\n",
       "    // Disable right mouse context menu.\n",
       "    $(this.rubberband_canvas).bind(\"contextmenu\",function(e){\n",
       "        return false;\n",
       "    });\n",
       "\n",
       "    function set_focus () {\n",
       "        canvas.focus();\n",
       "        canvas_div.focus();\n",
       "    }\n",
       "\n",
       "    window.setTimeout(set_focus, 100);\n",
       "}\n",
       "\n",
       "mpl.figure.prototype._init_toolbar = function() {\n",
       "    var fig = this;\n",
       "\n",
       "    var nav_element = $('<div/>');\n",
       "    nav_element.attr('style', 'width: 100%');\n",
       "    this.root.append(nav_element);\n",
       "\n",
       "    // Define a callback function for later on.\n",
       "    function toolbar_event(event) {\n",
       "        return fig.toolbar_button_onclick(event['data']);\n",
       "    }\n",
       "    function toolbar_mouse_event(event) {\n",
       "        return fig.toolbar_button_onmouseover(event['data']);\n",
       "    }\n",
       "\n",
       "    for(var toolbar_ind in mpl.toolbar_items) {\n",
       "        var name = mpl.toolbar_items[toolbar_ind][0];\n",
       "        var tooltip = mpl.toolbar_items[toolbar_ind][1];\n",
       "        var image = mpl.toolbar_items[toolbar_ind][2];\n",
       "        var method_name = mpl.toolbar_items[toolbar_ind][3];\n",
       "\n",
       "        if (!name) {\n",
       "            // put a spacer in here.\n",
       "            continue;\n",
       "        }\n",
       "        var button = $('<button/>');\n",
       "        button.addClass('ui-button ui-widget ui-state-default ui-corner-all ' +\n",
       "                        'ui-button-icon-only');\n",
       "        button.attr('role', 'button');\n",
       "        button.attr('aria-disabled', 'false');\n",
       "        button.click(method_name, toolbar_event);\n",
       "        button.mouseover(tooltip, toolbar_mouse_event);\n",
       "\n",
       "        var icon_img = $('<span/>');\n",
       "        icon_img.addClass('ui-button-icon-primary ui-icon');\n",
       "        icon_img.addClass(image);\n",
       "        icon_img.addClass('ui-corner-all');\n",
       "\n",
       "        var tooltip_span = $('<span/>');\n",
       "        tooltip_span.addClass('ui-button-text');\n",
       "        tooltip_span.html(tooltip);\n",
       "\n",
       "        button.append(icon_img);\n",
       "        button.append(tooltip_span);\n",
       "\n",
       "        nav_element.append(button);\n",
       "    }\n",
       "\n",
       "    var fmt_picker_span = $('<span/>');\n",
       "\n",
       "    var fmt_picker = $('<select/>');\n",
       "    fmt_picker.addClass('mpl-toolbar-option ui-widget ui-widget-content');\n",
       "    fmt_picker_span.append(fmt_picker);\n",
       "    nav_element.append(fmt_picker_span);\n",
       "    this.format_dropdown = fmt_picker[0];\n",
       "\n",
       "    for (var ind in mpl.extensions) {\n",
       "        var fmt = mpl.extensions[ind];\n",
       "        var option = $(\n",
       "            '<option/>', {selected: fmt === mpl.default_extension}).html(fmt);\n",
       "        fmt_picker.append(option);\n",
       "    }\n",
       "\n",
       "    // Add hover states to the ui-buttons\n",
       "    $( \".ui-button\" ).hover(\n",
       "        function() { $(this).addClass(\"ui-state-hover\");},\n",
       "        function() { $(this).removeClass(\"ui-state-hover\");}\n",
       "    );\n",
       "\n",
       "    var status_bar = $('<span class=\"mpl-message\"/>');\n",
       "    nav_element.append(status_bar);\n",
       "    this.message = status_bar[0];\n",
       "}\n",
       "\n",
       "mpl.figure.prototype.request_resize = function(x_pixels, y_pixels) {\n",
       "    // Request matplotlib to resize the figure. Matplotlib will then trigger a resize in the client,\n",
       "    // which will in turn request a refresh of the image.\n",
       "    this.send_message('resize', {'width': x_pixels, 'height': y_pixels});\n",
       "}\n",
       "\n",
       "mpl.figure.prototype.send_message = function(type, properties) {\n",
       "    properties['type'] = type;\n",
       "    properties['figure_id'] = this.id;\n",
       "    this.ws.send(JSON.stringify(properties));\n",
       "}\n",
       "\n",
       "mpl.figure.prototype.send_draw_message = function() {\n",
       "    if (!this.waiting) {\n",
       "        this.waiting = true;\n",
       "        this.ws.send(JSON.stringify({type: \"draw\", figure_id: this.id}));\n",
       "    }\n",
       "}\n",
       "\n",
       "\n",
       "mpl.figure.prototype.handle_save = function(fig, msg) {\n",
       "    var format_dropdown = fig.format_dropdown;\n",
       "    var format = format_dropdown.options[format_dropdown.selectedIndex].value;\n",
       "    fig.ondownload(fig, format);\n",
       "}\n",
       "\n",
       "\n",
       "mpl.figure.prototype.handle_resize = function(fig, msg) {\n",
       "    var size = msg['size'];\n",
       "    if (size[0] != fig.canvas.width || size[1] != fig.canvas.height) {\n",
       "        fig._resize_canvas(size[0], size[1]);\n",
       "        fig.send_message(\"refresh\", {});\n",
       "    };\n",
       "}\n",
       "\n",
       "mpl.figure.prototype.handle_rubberband = function(fig, msg) {\n",
       "    var x0 = msg['x0'] / mpl.ratio;\n",
       "    var y0 = (fig.canvas.height - msg['y0']) / mpl.ratio;\n",
       "    var x1 = msg['x1'] / mpl.ratio;\n",
       "    var y1 = (fig.canvas.height - msg['y1']) / mpl.ratio;\n",
       "    x0 = Math.floor(x0) + 0.5;\n",
       "    y0 = Math.floor(y0) + 0.5;\n",
       "    x1 = Math.floor(x1) + 0.5;\n",
       "    y1 = Math.floor(y1) + 0.5;\n",
       "    var min_x = Math.min(x0, x1);\n",
       "    var min_y = Math.min(y0, y1);\n",
       "    var width = Math.abs(x1 - x0);\n",
       "    var height = Math.abs(y1 - y0);\n",
       "\n",
       "    fig.rubberband_context.clearRect(\n",
       "        0, 0, fig.canvas.width / mpl.ratio, fig.canvas.height / mpl.ratio);\n",
       "\n",
       "    fig.rubberband_context.strokeRect(min_x, min_y, width, height);\n",
       "}\n",
       "\n",
       "mpl.figure.prototype.handle_figure_label = function(fig, msg) {\n",
       "    // Updates the figure title.\n",
       "    fig.header.textContent = msg['label'];\n",
       "}\n",
       "\n",
       "mpl.figure.prototype.handle_cursor = function(fig, msg) {\n",
       "    var cursor = msg['cursor'];\n",
       "    switch(cursor)\n",
       "    {\n",
       "    case 0:\n",
       "        cursor = 'pointer';\n",
       "        break;\n",
       "    case 1:\n",
       "        cursor = 'default';\n",
       "        break;\n",
       "    case 2:\n",
       "        cursor = 'crosshair';\n",
       "        break;\n",
       "    case 3:\n",
       "        cursor = 'move';\n",
       "        break;\n",
       "    }\n",
       "    fig.rubberband_canvas.style.cursor = cursor;\n",
       "}\n",
       "\n",
       "mpl.figure.prototype.handle_message = function(fig, msg) {\n",
       "    fig.message.textContent = msg['message'];\n",
       "}\n",
       "\n",
       "mpl.figure.prototype.handle_draw = function(fig, msg) {\n",
       "    // Request the server to send over a new figure.\n",
       "    fig.send_draw_message();\n",
       "}\n",
       "\n",
       "mpl.figure.prototype.handle_image_mode = function(fig, msg) {\n",
       "    fig.image_mode = msg['mode'];\n",
       "}\n",
       "\n",
       "mpl.figure.prototype.updated_canvas_event = function() {\n",
       "    // Called whenever the canvas gets updated.\n",
       "    this.send_message(\"ack\", {});\n",
       "}\n",
       "\n",
       "// A function to construct a web socket function for onmessage handling.\n",
       "// Called in the figure constructor.\n",
       "mpl.figure.prototype._make_on_message_function = function(fig) {\n",
       "    return function socket_on_message(evt) {\n",
       "        if (evt.data instanceof Blob) {\n",
       "            /* FIXME: We get \"Resource interpreted as Image but\n",
       "             * transferred with MIME type text/plain:\" errors on\n",
       "             * Chrome.  But how to set the MIME type?  It doesn't seem\n",
       "             * to be part of the websocket stream */\n",
       "            evt.data.type = \"image/png\";\n",
       "\n",
       "            /* Free the memory for the previous frames */\n",
       "            if (fig.imageObj.src) {\n",
       "                (window.URL || window.webkitURL).revokeObjectURL(\n",
       "                    fig.imageObj.src);\n",
       "            }\n",
       "\n",
       "            fig.imageObj.src = (window.URL || window.webkitURL).createObjectURL(\n",
       "                evt.data);\n",
       "            fig.updated_canvas_event();\n",
       "            fig.waiting = false;\n",
       "            return;\n",
       "        }\n",
       "        else if (typeof evt.data === 'string' && evt.data.slice(0, 21) == \"data:image/png;base64\") {\n",
       "            fig.imageObj.src = evt.data;\n",
       "            fig.updated_canvas_event();\n",
       "            fig.waiting = false;\n",
       "            return;\n",
       "        }\n",
       "\n",
       "        var msg = JSON.parse(evt.data);\n",
       "        var msg_type = msg['type'];\n",
       "\n",
       "        // Call the  \"handle_{type}\" callback, which takes\n",
       "        // the figure and JSON message as its only arguments.\n",
       "        try {\n",
       "            var callback = fig[\"handle_\" + msg_type];\n",
       "        } catch (e) {\n",
       "            console.log(\"No handler for the '\" + msg_type + \"' message type: \", msg);\n",
       "            return;\n",
       "        }\n",
       "\n",
       "        if (callback) {\n",
       "            try {\n",
       "                // console.log(\"Handling '\" + msg_type + \"' message: \", msg);\n",
       "                callback(fig, msg);\n",
       "            } catch (e) {\n",
       "                console.log(\"Exception inside the 'handler_\" + msg_type + \"' callback:\", e, e.stack, msg);\n",
       "            }\n",
       "        }\n",
       "    };\n",
       "}\n",
       "\n",
       "// from http://stackoverflow.com/questions/1114465/getting-mouse-location-in-canvas\n",
       "mpl.findpos = function(e) {\n",
       "    //this section is from http://www.quirksmode.org/js/events_properties.html\n",
       "    var targ;\n",
       "    if (!e)\n",
       "        e = window.event;\n",
       "    if (e.target)\n",
       "        targ = e.target;\n",
       "    else if (e.srcElement)\n",
       "        targ = e.srcElement;\n",
       "    if (targ.nodeType == 3) // defeat Safari bug\n",
       "        targ = targ.parentNode;\n",
       "\n",
       "    // jQuery normalizes the pageX and pageY\n",
       "    // pageX,Y are the mouse positions relative to the document\n",
       "    // offset() returns the position of the element relative to the document\n",
       "    var x = e.pageX - $(targ).offset().left;\n",
       "    var y = e.pageY - $(targ).offset().top;\n",
       "\n",
       "    return {\"x\": x, \"y\": y};\n",
       "};\n",
       "\n",
       "/*\n",
       " * return a copy of an object with only non-object keys\n",
       " * we need this to avoid circular references\n",
       " * http://stackoverflow.com/a/24161582/3208463\n",
       " */\n",
       "function simpleKeys (original) {\n",
       "  return Object.keys(original).reduce(function (obj, key) {\n",
       "    if (typeof original[key] !== 'object')\n",
       "        obj[key] = original[key]\n",
       "    return obj;\n",
       "  }, {});\n",
       "}\n",
       "\n",
       "mpl.figure.prototype.mouse_event = function(event, name) {\n",
       "    var canvas_pos = mpl.findpos(event)\n",
       "\n",
       "    if (name === 'button_press')\n",
       "    {\n",
       "        this.canvas.focus();\n",
       "        this.canvas_div.focus();\n",
       "    }\n",
       "\n",
       "    var x = canvas_pos.x * mpl.ratio;\n",
       "    var y = canvas_pos.y * mpl.ratio;\n",
       "\n",
       "    this.send_message(name, {x: x, y: y, button: event.button,\n",
       "                             step: event.step,\n",
       "                             guiEvent: simpleKeys(event)});\n",
       "\n",
       "    /* This prevents the web browser from automatically changing to\n",
       "     * the text insertion cursor when the button is pressed.  We want\n",
       "     * to control all of the cursor setting manually through the\n",
       "     * 'cursor' event from matplotlib */\n",
       "    event.preventDefault();\n",
       "    return false;\n",
       "}\n",
       "\n",
       "mpl.figure.prototype._key_event_extra = function(event, name) {\n",
       "    // Handle any extra behaviour associated with a key event\n",
       "}\n",
       "\n",
       "mpl.figure.prototype.key_event = function(event, name) {\n",
       "\n",
       "    // Prevent repeat events\n",
       "    if (name == 'key_press')\n",
       "    {\n",
       "        if (event.which === this._key)\n",
       "            return;\n",
       "        else\n",
       "            this._key = event.which;\n",
       "    }\n",
       "    if (name == 'key_release')\n",
       "        this._key = null;\n",
       "\n",
       "    var value = '';\n",
       "    if (event.ctrlKey && event.which != 17)\n",
       "        value += \"ctrl+\";\n",
       "    if (event.altKey && event.which != 18)\n",
       "        value += \"alt+\";\n",
       "    if (event.shiftKey && event.which != 16)\n",
       "        value += \"shift+\";\n",
       "\n",
       "    value += 'k';\n",
       "    value += event.which.toString();\n",
       "\n",
       "    this._key_event_extra(event, name);\n",
       "\n",
       "    this.send_message(name, {key: value,\n",
       "                             guiEvent: simpleKeys(event)});\n",
       "    return false;\n",
       "}\n",
       "\n",
       "mpl.figure.prototype.toolbar_button_onclick = function(name) {\n",
       "    if (name == 'download') {\n",
       "        this.handle_save(this, null);\n",
       "    } else {\n",
       "        this.send_message(\"toolbar_button\", {name: name});\n",
       "    }\n",
       "};\n",
       "\n",
       "mpl.figure.prototype.toolbar_button_onmouseover = function(tooltip) {\n",
       "    this.message.textContent = tooltip;\n",
       "};\n",
       "mpl.toolbar_items = [[\"Home\", \"Reset original view\", \"fa fa-home icon-home\", \"home\"], [\"Back\", \"Back to previous view\", \"fa fa-arrow-left icon-arrow-left\", \"back\"], [\"Forward\", \"Forward to next view\", \"fa fa-arrow-right icon-arrow-right\", \"forward\"], [\"\", \"\", \"\", \"\"], [\"Pan\", \"Pan axes with left mouse, zoom with right\", \"fa fa-arrows icon-move\", \"pan\"], [\"Zoom\", \"Zoom to rectangle\", \"fa fa-square-o icon-check-empty\", \"zoom\"], [\"\", \"\", \"\", \"\"], [\"Download\", \"Download plot\", \"fa fa-floppy-o icon-save\", \"download\"]];\n",
       "\n",
       "mpl.extensions = [\"eps\", \"jpeg\", \"pdf\", \"png\", \"ps\", \"raw\", \"svg\", \"tif\"];\n",
       "\n",
       "mpl.default_extension = \"png\";var comm_websocket_adapter = function(comm) {\n",
       "    // Create a \"websocket\"-like object which calls the given IPython comm\n",
       "    // object with the appropriate methods. Currently this is a non binary\n",
       "    // socket, so there is still some room for performance tuning.\n",
       "    var ws = {};\n",
       "\n",
       "    ws.close = function() {\n",
       "        comm.close()\n",
       "    };\n",
       "    ws.send = function(m) {\n",
       "        //console.log('sending', m);\n",
       "        comm.send(m);\n",
       "    };\n",
       "    // Register the callback with on_msg.\n",
       "    comm.on_msg(function(msg) {\n",
       "        //console.log('receiving', msg['content']['data'], msg);\n",
       "        // Pass the mpl event to the overridden (by mpl) onmessage function.\n",
       "        ws.onmessage(msg['content']['data'])\n",
       "    });\n",
       "    return ws;\n",
       "}\n",
       "\n",
       "mpl.mpl_figure_comm = function(comm, msg) {\n",
       "    // This is the function which gets called when the mpl process\n",
       "    // starts-up an IPython Comm through the \"matplotlib\" channel.\n",
       "\n",
       "    var id = msg.content.data.id;\n",
       "    // Get hold of the div created by the display call when the Comm\n",
       "    // socket was opened in Python.\n",
       "    var element = $(\"#\" + id);\n",
       "    var ws_proxy = comm_websocket_adapter(comm)\n",
       "\n",
       "    function ondownload(figure, format) {\n",
       "        window.open(figure.imageObj.src);\n",
       "    }\n",
       "\n",
       "    var fig = new mpl.figure(id, ws_proxy,\n",
       "                           ondownload,\n",
       "                           element.get(0));\n",
       "\n",
       "    // Call onopen now - mpl needs it, as it is assuming we've passed it a real\n",
       "    // web socket which is closed, not our websocket->open comm proxy.\n",
       "    ws_proxy.onopen();\n",
       "\n",
       "    fig.parent_element = element.get(0);\n",
       "    fig.cell_info = mpl.find_output_cell(\"<div id='\" + id + \"'></div>\");\n",
       "    if (!fig.cell_info) {\n",
       "        console.error(\"Failed to find cell for figure\", id, fig);\n",
       "        return;\n",
       "    }\n",
       "\n",
       "    var output_index = fig.cell_info[2]\n",
       "    var cell = fig.cell_info[0];\n",
       "\n",
       "};\n",
       "\n",
       "mpl.figure.prototype.handle_close = function(fig, msg) {\n",
       "    var width = fig.canvas.width/mpl.ratio\n",
       "    fig.root.unbind('remove')\n",
       "\n",
       "    // Update the output cell to use the data from the current canvas.\n",
       "    fig.push_to_output();\n",
       "    var dataURL = fig.canvas.toDataURL();\n",
       "    // Re-enable the keyboard manager in IPython - without this line, in FF,\n",
       "    // the notebook keyboard shortcuts fail.\n",
       "    IPython.keyboard_manager.enable()\n",
       "    $(fig.parent_element).html('<img src=\"' + dataURL + '\" width=\"' + width + '\">');\n",
       "    fig.close_ws(fig, msg);\n",
       "}\n",
       "\n",
       "mpl.figure.prototype.close_ws = function(fig, msg){\n",
       "    fig.send_message('closing', msg);\n",
       "    // fig.ws.close()\n",
       "}\n",
       "\n",
       "mpl.figure.prototype.push_to_output = function(remove_interactive) {\n",
       "    // Turn the data on the canvas into data in the output cell.\n",
       "    var width = this.canvas.width/mpl.ratio\n",
       "    var dataURL = this.canvas.toDataURL();\n",
       "    this.cell_info[1]['text/html'] = '<img src=\"' + dataURL + '\" width=\"' + width + '\">';\n",
       "}\n",
       "\n",
       "mpl.figure.prototype.updated_canvas_event = function() {\n",
       "    // Tell IPython that the notebook contents must change.\n",
       "    IPython.notebook.set_dirty(true);\n",
       "    this.send_message(\"ack\", {});\n",
       "    var fig = this;\n",
       "    // Wait a second, then push the new image to the DOM so\n",
       "    // that it is saved nicely (might be nice to debounce this).\n",
       "    setTimeout(function () { fig.push_to_output() }, 1000);\n",
       "}\n",
       "\n",
       "mpl.figure.prototype._init_toolbar = function() {\n",
       "    var fig = this;\n",
       "\n",
       "    var nav_element = $('<div/>');\n",
       "    nav_element.attr('style', 'width: 100%');\n",
       "    this.root.append(nav_element);\n",
       "\n",
       "    // Define a callback function for later on.\n",
       "    function toolbar_event(event) {\n",
       "        return fig.toolbar_button_onclick(event['data']);\n",
       "    }\n",
       "    function toolbar_mouse_event(event) {\n",
       "        return fig.toolbar_button_onmouseover(event['data']);\n",
       "    }\n",
       "\n",
       "    for(var toolbar_ind in mpl.toolbar_items){\n",
       "        var name = mpl.toolbar_items[toolbar_ind][0];\n",
       "        var tooltip = mpl.toolbar_items[toolbar_ind][1];\n",
       "        var image = mpl.toolbar_items[toolbar_ind][2];\n",
       "        var method_name = mpl.toolbar_items[toolbar_ind][3];\n",
       "\n",
       "        if (!name) { continue; };\n",
       "\n",
       "        var button = $('<button class=\"btn btn-default\" href=\"#\" title=\"' + name + '\"><i class=\"fa ' + image + ' fa-lg\"></i></button>');\n",
       "        button.click(method_name, toolbar_event);\n",
       "        button.mouseover(tooltip, toolbar_mouse_event);\n",
       "        nav_element.append(button);\n",
       "    }\n",
       "\n",
       "    // Add the status bar.\n",
       "    var status_bar = $('<span class=\"mpl-message\" style=\"text-align:right; float: right;\"/>');\n",
       "    nav_element.append(status_bar);\n",
       "    this.message = status_bar[0];\n",
       "\n",
       "    // Add the close button to the window.\n",
       "    var buttongrp = $('<div class=\"btn-group inline pull-right\"></div>');\n",
       "    var button = $('<button class=\"btn btn-mini btn-primary\" href=\"#\" title=\"Stop Interaction\"><i class=\"fa fa-power-off icon-remove icon-large\"></i></button>');\n",
       "    button.click(function (evt) { fig.handle_close(fig, {}); } );\n",
       "    button.mouseover('Stop Interaction', toolbar_mouse_event);\n",
       "    buttongrp.append(button);\n",
       "    var titlebar = this.root.find($('.ui-dialog-titlebar'));\n",
       "    titlebar.prepend(buttongrp);\n",
       "}\n",
       "\n",
       "mpl.figure.prototype._root_extra_style = function(el){\n",
       "    var fig = this\n",
       "    el.on(\"remove\", function(){\n",
       "\tfig.close_ws(fig, {});\n",
       "    });\n",
       "}\n",
       "\n",
       "mpl.figure.prototype._canvas_extra_style = function(el){\n",
       "    // this is important to make the div 'focusable\n",
       "    el.attr('tabindex', 0)\n",
       "    // reach out to IPython and tell the keyboard manager to turn it's self\n",
       "    // off when our div gets focus\n",
       "\n",
       "    // location in version 3\n",
       "    if (IPython.notebook.keyboard_manager) {\n",
       "        IPython.notebook.keyboard_manager.register_events(el);\n",
       "    }\n",
       "    else {\n",
       "        // location in version 2\n",
       "        IPython.keyboard_manager.register_events(el);\n",
       "    }\n",
       "\n",
       "}\n",
       "\n",
       "mpl.figure.prototype._key_event_extra = function(event, name) {\n",
       "    var manager = IPython.notebook.keyboard_manager;\n",
       "    if (!manager)\n",
       "        manager = IPython.keyboard_manager;\n",
       "\n",
       "    // Check for shift+enter\n",
       "    if (event.shiftKey && event.which == 13) {\n",
       "        this.canvas_div.blur();\n",
       "        // select the cell after this one\n",
       "        var index = IPython.notebook.find_cell_index(this.cell_info[0]);\n",
       "        IPython.notebook.select(index + 1);\n",
       "    }\n",
       "}\n",
       "\n",
       "mpl.figure.prototype.handle_save = function(fig, msg) {\n",
       "    fig.ondownload(fig, null);\n",
       "}\n",
       "\n",
       "\n",
       "mpl.find_output_cell = function(html_output) {\n",
       "    // Return the cell and output element which can be found *uniquely* in the notebook.\n",
       "    // Note - this is a bit hacky, but it is done because the \"notebook_saving.Notebook\"\n",
       "    // IPython event is triggered only after the cells have been serialised, which for\n",
       "    // our purposes (turning an active figure into a static one), is too late.\n",
       "    var cells = IPython.notebook.get_cells();\n",
       "    var ncells = cells.length;\n",
       "    for (var i=0; i<ncells; i++) {\n",
       "        var cell = cells[i];\n",
       "        if (cell.cell_type === 'code'){\n",
       "            for (var j=0; j<cell.output_area.outputs.length; j++) {\n",
       "                var data = cell.output_area.outputs[j];\n",
       "                if (data.data) {\n",
       "                    // IPython >= 3 moved mimebundle to data attribute of output\n",
       "                    data = data.data;\n",
       "                }\n",
       "                if (data['text/html'] == html_output) {\n",
       "                    return [cell, data, j];\n",
       "                }\n",
       "            }\n",
       "        }\n",
       "    }\n",
       "}\n",
       "\n",
       "// Register the function which deals with the matplotlib target/channel.\n",
       "// The kernel may be null if the page has been refreshed.\n",
       "if (IPython.notebook.kernel != null) {\n",
       "    IPython.notebook.kernel.comm_manager.register_target('matplotlib', mpl.mpl_figure_comm);\n",
       "}\n"
      ],
      "text/plain": [
       "<IPython.core.display.Javascript object>"
      ]
     },
     "metadata": {},
     "output_type": "display_data"
    },
    {
     "data": {
      "text/html": [
       "<img src=\"data:image/png;base64,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\" width=\"1000\">"
      ],
      "text/plain": [
       "<IPython.core.display.HTML object>"
      ]
     },
     "metadata": {},
     "output_type": "display_data"
    }
   ],
   "source": [
    "dual_train_plots(results.index,\n",
    "                 results.cost, results.val, \n",
    "                 results['eff_val'].apply(lambda x: x.eff_rate),\n",
    "                 results['eff_val'].apply(lambda x: x.fp_rate))\n",
    "plt.tight_layout()\n",
    "plt.savefig(str(output / f'{name}_stats_a.png'))"
   ]
  },
  {
   "cell_type": "markdown",
   "metadata": {},
   "source": [
    "Go ahead and save the final model (even though it was also saved above):"
   ]
  },
  {
   "cell_type": "markdown",
   "metadata": {},
   "source": [
    "Save the output results:"
   ]
  },
  {
   "cell_type": "code",
   "execution_count": 20,
   "metadata": {},
   "outputs": [],
   "source": [
    "##torch.cuda.empty_cache()\"\n",
    "##quit()\n",
    "\n"
   ]
  },
  {
   "cell_type": "code",
   "execution_count": null,
   "metadata": {},
   "outputs": [],
   "source": []
  }
 ],
 "metadata": {
  "kernelspec": {
   "display_name": "june2020-gpu",
   "language": "python",
   "name": "june2020-gpu"
  },
  "language_info": {
   "codemirror_mode": {
    "name": "ipython",
    "version": 3
   },
   "file_extension": ".py",
   "mimetype": "text/x-python",
   "name": "python",
   "nbconvert_exporter": "python",
   "pygments_lexer": "ipython3",
   "version": "3.7.6"
  }
 },
 "nbformat": 4,
 "nbformat_minor": 2
}
