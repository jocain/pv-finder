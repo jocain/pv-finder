{
 "cells": [
  {
   "cell_type": "code",
   "execution_count": 1,
   "metadata": {},
   "outputs": [],
   "source": [
    "##%matplotlib widget\n",
    "## with %matplotlib notebook: seems to require ipympl as part of environment, either\n",
    "## part of the conda environment or \"pip install ipympl\"\n",
    "## otherwise, does not show ANY plots in notebook, plt.savefig() works\n",
    "%matplotlib notebook  \n",
    "##%matplotlib inline    ## --plt.savefig()  works, but re-sizing does NOT\n"
   ]
  },
  {
   "cell_type": "markdown",
   "metadata": {},
   "source": [
    "This notebook is first attempt to read in track information and use it to predict the KDE used as input to PvFinder.\n"
   ]
  },
  {
   "cell_type": "markdown",
   "metadata": {},
   "source": [
    "Check the current GPU usage. Please try to be nice!"
   ]
  },
  {
   "cell_type": "code",
   "execution_count": 2,
   "metadata": {},
   "outputs": [
    {
     "name": "stdout",
     "output_type": "stream",
     "text": [
      "Sun Sep 20 19:57:34 2020       \r\n",
      "+-----------------------------------------------------------------------------+\r\n",
      "| NVIDIA-SMI 440.64.00    Driver Version: 440.64.00    CUDA Version: 10.2     |\r\n",
      "|-------------------------------+----------------------+----------------------+\r\n",
      "| GPU  Name        Persistence-M| Bus-Id        Disp.A | Volatile Uncorr. ECC |\r\n",
      "| Fan  Temp  Perf  Pwr:Usage/Cap|         Memory-Usage | GPU-Util  Compute M. |\r\n",
      "|===============================+======================+======================|\r\n",
      "|   0  TITAN V             Off  | 00000000:03:00.0 Off |                  N/A |\r\n",
      "| 40%   56C    P2    94W / 250W |   6517MiB / 12066MiB |     88%      Default |\r\n",
      "+-------------------------------+----------------------+----------------------+\r\n",
      "|   1  Tesla P100-PCIE...  Off  | 00000000:83:00.0 Off |                    0 |\r\n",
      "| N/A   33C    P0    29W / 250W |      0MiB / 16280MiB |      0%      Default |\r\n",
      "+-------------------------------+----------------------+----------------------+\r\n",
      "|   2  TITAN V             Off  | 00000000:84:00.0 Off |                  N/A |\r\n",
      "| 28%   36C    P8    25W / 250W |     12MiB / 12066MiB |      0%      Default |\r\n",
      "+-------------------------------+----------------------+----------------------+\r\n",
      "                                                                               \r\n",
      "+-----------------------------------------------------------------------------+\r\n",
      "| Processes:                                                       GPU Memory |\r\n",
      "|  GPU       PID   Type   Process name                             Usage      |\r\n",
      "|=============================================================================|\r\n",
      "|    0     22092      C   ...a/conda/envs/goofit-june2020/bin/python  6505MiB |\r\n",
      "+-----------------------------------------------------------------------------+\r\n"
     ]
    }
   ],
   "source": [
    "!nvidia-smi"
   ]
  },
  {
   "cell_type": "markdown",
   "metadata": {},
   "source": [
    "> **WARNING**: The card numbers here are *not* the same as in CUDA. You have been warned."
   ]
  },
  {
   "cell_type": "markdown",
   "metadata": {},
   "source": [
    "## Imports"
   ]
  },
  {
   "cell_type": "code",
   "execution_count": 3,
   "metadata": {},
   "outputs": [],
   "source": [
    "import matplotlib.pyplot as plt\n",
    "import numpy as np\n",
    "import time\n",
    "import torch\n",
    "import pandas as pd\n",
    "\n",
    "# Python 3 standard library\n",
    "from pathlib import Path\n",
    "\n",
    "##from torchsummary import summary"
   ]
  },
  {
   "cell_type": "markdown",
   "metadata": {},
   "source": [
    "### Set up local parameters"
   ]
  },
  {
   "cell_type": "code",
   "execution_count": 4,
   "metadata": {},
   "outputs": [],
   "source": [
    "n_epochs = 300\n",
    "\n",
    "# Name is the output file name\n",
    "\n",
    "\n",
    "##  200719  mds\n",
    "folder = '30July2020_Trks_to_KDE_C_A_lossC_yetAnother_300_epochs_b64_1m3_nOut_50x50'\n",
    "name = '30July2020_Trks_to_KDE_C_A_lossC_yetAnother_300_epochs_b64_1m3_nOut_50x50'\n",
    "\n",
    "# Make an output folder named \"name\" (change if you want)\n",
    "\n",
    "## Special instructions for those working on goofy at UC\n",
    "## Please be very careful to make sure that your folder\n",
    "## does not live in a subdirectory of your home directory\n",
    "## this disk has very little capacity. Instead, use \n",
    "## a subdirectory in /share/lazy with a symbolic link to\n",
    "## it in this (the notebooks) subdirectory\n",
    "folder = 'ML/' + folder\n",
    "output = Path(folder)\n",
    "\n",
    "\n",
    "# Size of batches\n",
    "batch_size = 64\n",
    "# How fast to learn\n",
    "learning_rate = 1e-3"
   ]
  },
  {
   "cell_type": "markdown",
   "metadata": {},
   "source": [
    "Make the output directory if it does not exist:"
   ]
  },
  {
   "cell_type": "code",
   "execution_count": 5,
   "metadata": {},
   "outputs": [],
   "source": [
    "output.mkdir(exist_ok=True)"
   ]
  },
  {
   "cell_type": "markdown",
   "metadata": {},
   "source": [
    "## Get the helper functions\n",
    "\n",
    "Add the directory with the model\n",
    "definitions to the path so we can import from it:\n",
    "\n",
    "> When you type `import X`,\n",
    "Python searches `sys.path` for a python\n",
    "file named `X.py` to import. So we need to add the model directory to the path."
   ]
  },
  {
   "cell_type": "code",
   "execution_count": 6,
   "metadata": {
    "scrolled": true
   },
   "outputs": [],
   "source": [
    "# From model/collectdata.py\n",
    "from model.collectdata_kde_A import collect_t2kde_data\n",
    "\n",
    "# From model/loss.py\n",
    "##from loss import Loss\n",
    "from model.kde_loss_C import Loss\n",
    "\n",
    "\n",
    "from model.models_kde import TracksToKDE_C as Model\n",
    "\n",
    "\n",
    "from model.training_kde import trainNet, select_gpu, Results\n",
    "from model.plots import dual_train_plots, replace_in_ax"
   ]
  },
  {
   "cell_type": "code",
   "execution_count": 7,
   "metadata": {},
   "outputs": [],
   "source": [
    "# This gets built up during the run - do not rerun this cell\n",
    "results = pd.DataFrame([], columns=Results._fields)"
   ]
  },
  {
   "cell_type": "markdown",
   "metadata": {},
   "source": [
    "Set up Torch device configuration. All tensors and model parameters need to know where to be put.\n",
    "This takes a BUS ID number: The BUS ID is the same as the listing at the top of this script."
   ]
  },
  {
   "cell_type": "code",
   "execution_count": 8,
   "metadata": {},
   "outputs": [
    {
     "name": "stdout",
     "output_type": "stream",
     "text": [
      "1 available GPUs (initially using device 0):\n",
      "  0 TITAN V\n"
     ]
    }
   ],
   "source": [
    "device = select_gpu(2)\n",
    "##device = \"cpu\""
   ]
  },
  {
   "cell_type": "markdown",
   "metadata": {},
   "source": [
    "## Loading data\n",
    "\n",
    "Load the dataset, split into parts, then move to device (see `collectdata.py` in the `../model` directory)"
   ]
  },
  {
   "cell_type": "code",
   "execution_count": 9,
   "metadata": {
    "scrolled": false
   },
   "outputs": [
    {
     "name": "stdout",
     "output_type": "stream",
     "text": [
      "Loading data...\n",
      "len(X) =  20000\n",
      "len(Xlist) =  1\n",
      "Loaded /share/lazy/pv-finder/20k_evts_for_KDE_learning_200716.h5 in 7.755 s\n",
      "outer loop X.shape =  (20000, 6, 600)\n",
      "Constructing 18000 event dataset took 2.437 s\n",
      "x_t.shape =  torch.Size([18000, 6, 600])\n",
      "x_t.shape[0] =  18000\n",
      "x_t.shape[1] =  6\n",
      "x_t.shape =  torch.Size([18000, 6, 600])\n",
      "Loading data...\n",
      "len(X) =  20000\n",
      "len(Xlist) =  1\n",
      "Loaded /share/lazy/pv-finder/20k_evts_for_KDE_learning_200716.h5 in 7.087 s\n",
      "outer loop X.shape =  (20000, 6, 600)\n",
      "Constructing 2000 event dataset took 0.04923 s\n",
      "x_t.shape =  torch.Size([2000, 6, 600])\n",
      "x_t.shape[0] =  2000\n",
      "x_t.shape[1] =  6\n",
      "x_t.shape =  torch.Size([2000, 6, 600])\n"
     ]
    }
   ],
   "source": [
    "\n",
    "## Training dataset. You can put as many files here as desired.\n",
    "\n",
    "## in this DEMO example we use only one 80K training set -- the model starts with well-trained weights,\n",
    "## and using a smaller training set reduces both the time to load the data and the time to train an epoch\n",
    "\n",
    "train_loader = collect_t2kde_data('/share/lazy/pv-finder/20k_evts_for_KDE_learning_200716.h5',\n",
    "##train_loader = collect_t2kde_data('/share/lazy/pv-finder/test_data_for_KDE_learning_BastilleDay20.h5',\n",
    "                            batch_size=batch_size,\n",
    "## if we are using a larger dataset (240K events, with the datasets above, and 11 GB  of GPU memory),\n",
    "## the dataset will overflow the GPU memory; device=device will allow the data to move back\n",
    "## and forth between the CPU and GPU memory. While this allows use of a larger dataset, it slows\n",
    "## down performance by about 10%.  So comment out when not needed.\n",
    "                           device=device,\n",
    "                           slice = slice(None,18000)\n",
    "                           )\n",
    "                            \n",
    "# Validation dataset. You can slice to reduce the size.\n",
    "## mds no separate validation set yet,\n",
    "val_loader = collect_t2kde_data('/share/lazy/pv-finder/20k_evts_for_KDE_learning_200716.h5',\n",
    "                            batch_size=batch_size,\n",
    "                            device=device,\n",
    "                            slice = slice(18000,None)\n",
    "                           )"
   ]
  },
  {
   "cell_type": "markdown",
   "metadata": {},
   "source": [
    "# Preparing the model"
   ]
  },
  {
   "cell_type": "markdown",
   "metadata": {},
   "source": [
    "Prepare a model, use multiple GPUs if they are VISIBLE, and move the model to the device."
   ]
  },
  {
   "cell_type": "code",
   "execution_count": 10,
   "metadata": {
    "scrolled": true
   },
   "outputs": [
    {
     "name": "stdout",
     "output_type": "stream",
     "text": [
      "ct, child =  0    Linear(in_features=6, out_features=50, bias=True)\n",
      "ct, child =  1    Linear(in_features=50, out_features=50, bias=True)\n",
      "ct, child =  2    Linear(in_features=50, out_features=4000, bias=True)\n"
     ]
    }
   ],
   "source": [
    "nOut1 = 50\n",
    "nOut2 = 50\n",
    "model = Model(nOut1,nOut2)\n",
    "\n",
    "##summary(model, input_size=(4, 4000))\n",
    "##print(model.parameters)\n",
    "\n",
    "## add the following code to allow the user to freeze the some of the weights corresponding \n",
    "## to those taken from an earlier model trained with the original target histograms\n",
    "## presumably -- this leaves either the perturbative filter \"fixed\" and lets the \n",
    "## learning focus on the non-perturbative features, so get started faster, or vice versa\n",
    "ct = 0\n",
    "for child in model.children():\n",
    "  print('ct, child = ',ct, \"  \", child)\n",
    "  if ct < 0:\n",
    "    print(\"     About to set param.requires_grad=False for ct = \", ct, \"params\")\n",
    "    for param in child.parameters():\n",
    "        param.requires_grad = False \n",
    "  ct += 1\n",
    "##  mds 200121 loss = Loss(epsilon=1e-5,coefficient=1.0)\n",
    "##  loss = Loss(epsilon=1e-5,coefficient=2.5)\n",
    "loss = Loss(epsilon=1e-5)\n",
    "optimizer = torch.optim.Adam(model.parameters(), lr=learning_rate)"
   ]
  },
  {
   "cell_type": "code",
   "execution_count": 11,
   "metadata": {
    "scrolled": true
   },
   "outputs": [],
   "source": [
    "##print(\"Let's use\", torch.cuda.device_count(), \"GPUs!\")\n",
    "##if torch.cuda.device_count() > 1:\n",
    "##    model = torch.nn.DataParallel(model)"
   ]
  },
  {
   "cell_type": "markdown",
   "metadata": {},
   "source": [
    "Let's move the model's weight matricies to the GPU:"
   ]
  },
  {
   "cell_type": "code",
   "execution_count": 12,
   "metadata": {
    "scrolled": false
   },
   "outputs": [
    {
     "name": "stdout",
     "output_type": "stream",
     "text": [
      "output =  ML/30July2020_Trks_to_KDE_C_A_lossC_yetAnother_300_epochs_b64_1m3_nOut_50x50\n",
      "for model_dict\n",
      "index, k =   0    layer1.weight\n",
      "index, k =   1    layer1.bias\n",
      "index, k =   2    layer2.weight\n",
      "index, k =   3    layer2.bias\n",
      "index, k =   4    layer3.weight\n",
      "index, k =   5    layer3.bias\n",
      " \n",
      "   for pretrained_dict\n",
      "pretrained_dict instantiated\n"
     ]
    },
    {
     "data": {
      "text/plain": [
       "<All keys matched successfully>"
      ]
     },
     "execution_count": 12,
     "metadata": {},
     "output_type": "execute_result"
    }
   ],
   "source": [
    "print('output = ',output)\n",
    "##print('oldOutput = ',oldOutput)\n",
    "##  use the first four layers from a pre-existing model\n",
    "##  see example at https://discuss.pytorch.org/t/how-to-load-part-of-pre-trained-model/1113\n",
    "\n",
    "##   ML -> /share/lazy/sokoloff/ML\n",
    "model_dict = model.state_dict()\n",
    "## mds 190725 for debugging\n",
    "print(\"for model_dict\")\n",
    "index = 0\n",
    "for k,v in model_dict.items():\n",
    "    print(\"index, k =  \",index,\"  \",k)\n",
    "    index = index+1\n",
    "##    print(\"value = \", v)\n",
    " \n",
    "updated_dict = model_dict\n",
    "##print(\"updated_dict = \",updated_dict)\n",
    "## when starting \"ab initio\", reduce biases as the bias gets summed for each track\n",
    "## contributing to the predicted KDE\n",
    "updated_dict[\"layer1.bias\"] = 0.005*model_dict[\"layer1.bias\"]\n",
    "updated_dict[\"layer2.bias\"] = 0.005*model_dict[\"layer2.bias\"]\n",
    "updated_dict[\"layer3.bias\"] = 0.005*model_dict[\"layer3.bias\"]\n",
    "\n",
    "model.load_state_dict(updated_dict,strict=False)\n",
    "\n",
    "model_dict = model.state_dict()\n",
    "##print(\"updated model_dict = \",model_dict)\n",
    "\n",
    "print(\" \\n\",\"  for pretrained_dict\")\n",
    "index = 0\n",
    "##for k,v in pretrained_dict.items():\n",
    "##    print(\"index, k =  \",index,\"  \",k)\n",
    "##    index = index+1\n",
    "## mds  \n",
    "\n",
    "##pretrained_dict = torch.load('ML/29July2020_Trks_to_KDE_C_lossB_100epochs_b64_1m3_nOut_50x50/29July2020_Trks_to_KDE_C_lossB_100epochs_b64_1m3_nOut_50x50_final.pyt')\n",
    "pretrained_dict = torch.load('ML/30July2020_Trks_to_KDE_C__A_lossB_another_300_epochs_b64_3m4_nOut_50x50/30July2020_Trks_to_KDE_C_A_lossc_another_300_epochs_b64_3m4_nOut_50x50_final.pyt')\n",
    "##print(\"model_dict instantiated\")\n",
    "# 1. filter out unnecessary keys\n",
    "pretrained_dict = {k: v for k, v in pretrained_dict.items() if k in model_dict}\n",
    "print(\"pretrained_dict instantiated\")\n",
    "# 2. overwrite entries in the existing state dict\n",
    "model_dict.update(pretrained_dict) \n",
    "##\n",
    "#   when starting from a model with a fully connected last layer rather than a convolutional layer\n",
    "# 3. load the new state dict\n",
    "#   need to use strict=False as the two models state model attributes do not agree exactly\n",
    "#   see https://pytorch.org/docs/master/_modules/torch/nn/modules/module.html#Module.load_state_dict\n",
    "\n",
    "model.load_state_dict(pretrained_dict,strict=False)\n",
    "\n",
    "## print('model_dict =    ', model_dict)\n"
   ]
  },
  {
   "cell_type": "code",
   "execution_count": 13,
   "metadata": {},
   "outputs": [],
   "source": [
    "##print('validation.dataset.tensors = ',validation.dataset.tensors)\n",
    "fig_size = plt.rcParams[\"figure.figsize\"]\n",
    "fig_size[0] = 10\n",
    "fig_size[1] = 4\n",
    "plt.rcParams[\"figure.figsize\"] = fig_size"
   ]
  },
  {
   "cell_type": "code",
   "execution_count": 14,
   "metadata": {
    "scrolled": true
   },
   "outputs": [],
   "source": [
    "model = model.to(device)"
   ]
  },
  {
   "cell_type": "markdown",
   "metadata": {
    "scrolled": false
   },
   "source": [
    "with torch.no_grad():\n",
    "    counter = 0\n",
    "    event = 0\n",
    "    print(\"train_loader = \",train_loader)\n",
    "    for inputs, labels in train_loader:\n",
    "##        print(\"counter = \",counter)\n",
    "##        print(\"inputs = \",inputs)\n",
    "        print(\"inputs.shape = \",inputs.shape)\n",
    "        if inputs.device != device:\n",
    "            inputs, labels = inputs.to(device), labels.to(device)\n",
    "            \n",
    "        outputs = model(inputs)\n",
    "##        print(\"outputs.shape = \",outputs.shape)\n",
    "        nEvts = outputs.shape[0]\n",
    "        for iEvt in range(nEvts):\n",
    "            y_pred = outputs[iEvt,:]\n",
    "            y_pred = y_pred.cpu().numpy()\n",
    "            \n",
    "            event = event +1\n",
    "##            print(\"event = \",event)\n",
    "            if (event<5):\n",
    "                plt.figure()\n",
    "                plt.plot(y_pred[0:50])\n",
    "                plt.show()\n",
    "                \n",
    "##                print(\"  point AA \")\n",
    "                features = inputs[iEvt,:]\n",
    "                features = features[np.newaxis,:,:]\n",
    "                \n",
    "                \n",
    "                print(\"features.shape = \",features.shape)\n",
    "                \n",
    "                output_A = model(features)\n",
    "                y_prime = output_A[0,:]\n",
    "                y_prime = y_prime.cpu().numpy()\n",
    "                plt.figure()\n",
    "                plt.plot(y_prime[0:50], color=\"r\")\n",
    "                plt.show()\n",
    "                \n",
    "            \n",
    "\n",
    "##        print(\"nEvts = \",nEvts)\n",
    "        \n",
    "        counter = counter+1\n",
    "        \n",
    "        \n",
    "        "
   ]
  },
  {
   "cell_type": "code",
   "execution_count": 15,
   "metadata": {
    "scrolled": false
   },
   "outputs": [
    {
     "data": {
      "application/javascript": [
       "/* Put everything inside the global mpl namespace */\n",
       "window.mpl = {};\n",
       "\n",
       "\n",
       "mpl.get_websocket_type = function() {\n",
       "    if (typeof(WebSocket) !== 'undefined') {\n",
       "        return WebSocket;\n",
       "    } else if (typeof(MozWebSocket) !== 'undefined') {\n",
       "        return MozWebSocket;\n",
       "    } else {\n",
       "        alert('Your browser does not have WebSocket support. ' +\n",
       "              'Please try Chrome, Safari or Firefox ≥ 6. ' +\n",
       "              'Firefox 4 and 5 are also supported but you ' +\n",
       "              'have to enable WebSockets in about:config.');\n",
       "    };\n",
       "}\n",
       "\n",
       "mpl.figure = function(figure_id, websocket, ondownload, parent_element) {\n",
       "    this.id = figure_id;\n",
       "\n",
       "    this.ws = websocket;\n",
       "\n",
       "    this.supports_binary = (this.ws.binaryType != undefined);\n",
       "\n",
       "    if (!this.supports_binary) {\n",
       "        var warnings = document.getElementById(\"mpl-warnings\");\n",
       "        if (warnings) {\n",
       "            warnings.style.display = 'block';\n",
       "            warnings.textContent = (\n",
       "                \"This browser does not support binary websocket messages. \" +\n",
       "                    \"Performance may be slow.\");\n",
       "        }\n",
       "    }\n",
       "\n",
       "    this.imageObj = new Image();\n",
       "\n",
       "    this.context = undefined;\n",
       "    this.message = undefined;\n",
       "    this.canvas = undefined;\n",
       "    this.rubberband_canvas = undefined;\n",
       "    this.rubberband_context = undefined;\n",
       "    this.format_dropdown = undefined;\n",
       "\n",
       "    this.image_mode = 'full';\n",
       "\n",
       "    this.root = $('<div/>');\n",
       "    this._root_extra_style(this.root)\n",
       "    this.root.attr('style', 'display: inline-block');\n",
       "\n",
       "    $(parent_element).append(this.root);\n",
       "\n",
       "    this._init_header(this);\n",
       "    this._init_canvas(this);\n",
       "    this._init_toolbar(this);\n",
       "\n",
       "    var fig = this;\n",
       "\n",
       "    this.waiting = false;\n",
       "\n",
       "    this.ws.onopen =  function () {\n",
       "            fig.send_message(\"supports_binary\", {value: fig.supports_binary});\n",
       "            fig.send_message(\"send_image_mode\", {});\n",
       "            if (mpl.ratio != 1) {\n",
       "                fig.send_message(\"set_dpi_ratio\", {'dpi_ratio': mpl.ratio});\n",
       "            }\n",
       "            fig.send_message(\"refresh\", {});\n",
       "        }\n",
       "\n",
       "    this.imageObj.onload = function() {\n",
       "            if (fig.image_mode == 'full') {\n",
       "                // Full images could contain transparency (where diff images\n",
       "                // almost always do), so we need to clear the canvas so that\n",
       "                // there is no ghosting.\n",
       "                fig.context.clearRect(0, 0, fig.canvas.width, fig.canvas.height);\n",
       "            }\n",
       "            fig.context.drawImage(fig.imageObj, 0, 0);\n",
       "        };\n",
       "\n",
       "    this.imageObj.onunload = function() {\n",
       "        fig.ws.close();\n",
       "    }\n",
       "\n",
       "    this.ws.onmessage = this._make_on_message_function(this);\n",
       "\n",
       "    this.ondownload = ondownload;\n",
       "}\n",
       "\n",
       "mpl.figure.prototype._init_header = function() {\n",
       "    var titlebar = $(\n",
       "        '<div class=\"ui-dialog-titlebar ui-widget-header ui-corner-all ' +\n",
       "        'ui-helper-clearfix\"/>');\n",
       "    var titletext = $(\n",
       "        '<div class=\"ui-dialog-title\" style=\"width: 100%; ' +\n",
       "        'text-align: center; padding: 3px;\"/>');\n",
       "    titlebar.append(titletext)\n",
       "    this.root.append(titlebar);\n",
       "    this.header = titletext[0];\n",
       "}\n",
       "\n",
       "\n",
       "\n",
       "mpl.figure.prototype._canvas_extra_style = function(canvas_div) {\n",
       "\n",
       "}\n",
       "\n",
       "\n",
       "mpl.figure.prototype._root_extra_style = function(canvas_div) {\n",
       "\n",
       "}\n",
       "\n",
       "mpl.figure.prototype._init_canvas = function() {\n",
       "    var fig = this;\n",
       "\n",
       "    var canvas_div = $('<div/>');\n",
       "\n",
       "    canvas_div.attr('style', 'position: relative; clear: both; outline: 0');\n",
       "\n",
       "    function canvas_keyboard_event(event) {\n",
       "        return fig.key_event(event, event['data']);\n",
       "    }\n",
       "\n",
       "    canvas_div.keydown('key_press', canvas_keyboard_event);\n",
       "    canvas_div.keyup('key_release', canvas_keyboard_event);\n",
       "    this.canvas_div = canvas_div\n",
       "    this._canvas_extra_style(canvas_div)\n",
       "    this.root.append(canvas_div);\n",
       "\n",
       "    var canvas = $('<canvas/>');\n",
       "    canvas.addClass('mpl-canvas');\n",
       "    canvas.attr('style', \"left: 0; top: 0; z-index: 0; outline: 0\")\n",
       "\n",
       "    this.canvas = canvas[0];\n",
       "    this.context = canvas[0].getContext(\"2d\");\n",
       "\n",
       "    var backingStore = this.context.backingStorePixelRatio ||\n",
       "\tthis.context.webkitBackingStorePixelRatio ||\n",
       "\tthis.context.mozBackingStorePixelRatio ||\n",
       "\tthis.context.msBackingStorePixelRatio ||\n",
       "\tthis.context.oBackingStorePixelRatio ||\n",
       "\tthis.context.backingStorePixelRatio || 1;\n",
       "\n",
       "    mpl.ratio = (window.devicePixelRatio || 1) / backingStore;\n",
       "\n",
       "    var rubberband = $('<canvas/>');\n",
       "    rubberband.attr('style', \"position: absolute; left: 0; top: 0; z-index: 1;\")\n",
       "\n",
       "    var pass_mouse_events = true;\n",
       "\n",
       "    canvas_div.resizable({\n",
       "        start: function(event, ui) {\n",
       "            pass_mouse_events = false;\n",
       "        },\n",
       "        resize: function(event, ui) {\n",
       "            fig.request_resize(ui.size.width, ui.size.height);\n",
       "        },\n",
       "        stop: function(event, ui) {\n",
       "            pass_mouse_events = true;\n",
       "            fig.request_resize(ui.size.width, ui.size.height);\n",
       "        },\n",
       "    });\n",
       "\n",
       "    function mouse_event_fn(event) {\n",
       "        if (pass_mouse_events)\n",
       "            return fig.mouse_event(event, event['data']);\n",
       "    }\n",
       "\n",
       "    rubberband.mousedown('button_press', mouse_event_fn);\n",
       "    rubberband.mouseup('button_release', mouse_event_fn);\n",
       "    // Throttle sequential mouse events to 1 every 20ms.\n",
       "    rubberband.mousemove('motion_notify', mouse_event_fn);\n",
       "\n",
       "    rubberband.mouseenter('figure_enter', mouse_event_fn);\n",
       "    rubberband.mouseleave('figure_leave', mouse_event_fn);\n",
       "\n",
       "    canvas_div.on(\"wheel\", function (event) {\n",
       "        event = event.originalEvent;\n",
       "        event['data'] = 'scroll'\n",
       "        if (event.deltaY < 0) {\n",
       "            event.step = 1;\n",
       "        } else {\n",
       "            event.step = -1;\n",
       "        }\n",
       "        mouse_event_fn(event);\n",
       "    });\n",
       "\n",
       "    canvas_div.append(canvas);\n",
       "    canvas_div.append(rubberband);\n",
       "\n",
       "    this.rubberband = rubberband;\n",
       "    this.rubberband_canvas = rubberband[0];\n",
       "    this.rubberband_context = rubberband[0].getContext(\"2d\");\n",
       "    this.rubberband_context.strokeStyle = \"#000000\";\n",
       "\n",
       "    this._resize_canvas = function(width, height) {\n",
       "        // Keep the size of the canvas, canvas container, and rubber band\n",
       "        // canvas in synch.\n",
       "        canvas_div.css('width', width)\n",
       "        canvas_div.css('height', height)\n",
       "\n",
       "        canvas.attr('width', width * mpl.ratio);\n",
       "        canvas.attr('height', height * mpl.ratio);\n",
       "        canvas.attr('style', 'width: ' + width + 'px; height: ' + height + 'px;');\n",
       "\n",
       "        rubberband.attr('width', width);\n",
       "        rubberband.attr('height', height);\n",
       "    }\n",
       "\n",
       "    // Set the figure to an initial 600x600px, this will subsequently be updated\n",
       "    // upon first draw.\n",
       "    this._resize_canvas(600, 600);\n",
       "\n",
       "    // Disable right mouse context menu.\n",
       "    $(this.rubberband_canvas).bind(\"contextmenu\",function(e){\n",
       "        return false;\n",
       "    });\n",
       "\n",
       "    function set_focus () {\n",
       "        canvas.focus();\n",
       "        canvas_div.focus();\n",
       "    }\n",
       "\n",
       "    window.setTimeout(set_focus, 100);\n",
       "}\n",
       "\n",
       "mpl.figure.prototype._init_toolbar = function() {\n",
       "    var fig = this;\n",
       "\n",
       "    var nav_element = $('<div/>');\n",
       "    nav_element.attr('style', 'width: 100%');\n",
       "    this.root.append(nav_element);\n",
       "\n",
       "    // Define a callback function for later on.\n",
       "    function toolbar_event(event) {\n",
       "        return fig.toolbar_button_onclick(event['data']);\n",
       "    }\n",
       "    function toolbar_mouse_event(event) {\n",
       "        return fig.toolbar_button_onmouseover(event['data']);\n",
       "    }\n",
       "\n",
       "    for(var toolbar_ind in mpl.toolbar_items) {\n",
       "        var name = mpl.toolbar_items[toolbar_ind][0];\n",
       "        var tooltip = mpl.toolbar_items[toolbar_ind][1];\n",
       "        var image = mpl.toolbar_items[toolbar_ind][2];\n",
       "        var method_name = mpl.toolbar_items[toolbar_ind][3];\n",
       "\n",
       "        if (!name) {\n",
       "            // put a spacer in here.\n",
       "            continue;\n",
       "        }\n",
       "        var button = $('<button/>');\n",
       "        button.addClass('ui-button ui-widget ui-state-default ui-corner-all ' +\n",
       "                        'ui-button-icon-only');\n",
       "        button.attr('role', 'button');\n",
       "        button.attr('aria-disabled', 'false');\n",
       "        button.click(method_name, toolbar_event);\n",
       "        button.mouseover(tooltip, toolbar_mouse_event);\n",
       "\n",
       "        var icon_img = $('<span/>');\n",
       "        icon_img.addClass('ui-button-icon-primary ui-icon');\n",
       "        icon_img.addClass(image);\n",
       "        icon_img.addClass('ui-corner-all');\n",
       "\n",
       "        var tooltip_span = $('<span/>');\n",
       "        tooltip_span.addClass('ui-button-text');\n",
       "        tooltip_span.html(tooltip);\n",
       "\n",
       "        button.append(icon_img);\n",
       "        button.append(tooltip_span);\n",
       "\n",
       "        nav_element.append(button);\n",
       "    }\n",
       "\n",
       "    var fmt_picker_span = $('<span/>');\n",
       "\n",
       "    var fmt_picker = $('<select/>');\n",
       "    fmt_picker.addClass('mpl-toolbar-option ui-widget ui-widget-content');\n",
       "    fmt_picker_span.append(fmt_picker);\n",
       "    nav_element.append(fmt_picker_span);\n",
       "    this.format_dropdown = fmt_picker[0];\n",
       "\n",
       "    for (var ind in mpl.extensions) {\n",
       "        var fmt = mpl.extensions[ind];\n",
       "        var option = $(\n",
       "            '<option/>', {selected: fmt === mpl.default_extension}).html(fmt);\n",
       "        fmt_picker.append(option);\n",
       "    }\n",
       "\n",
       "    // Add hover states to the ui-buttons\n",
       "    $( \".ui-button\" ).hover(\n",
       "        function() { $(this).addClass(\"ui-state-hover\");},\n",
       "        function() { $(this).removeClass(\"ui-state-hover\");}\n",
       "    );\n",
       "\n",
       "    var status_bar = $('<span class=\"mpl-message\"/>');\n",
       "    nav_element.append(status_bar);\n",
       "    this.message = status_bar[0];\n",
       "}\n",
       "\n",
       "mpl.figure.prototype.request_resize = function(x_pixels, y_pixels) {\n",
       "    // Request matplotlib to resize the figure. Matplotlib will then trigger a resize in the client,\n",
       "    // which will in turn request a refresh of the image.\n",
       "    this.send_message('resize', {'width': x_pixels, 'height': y_pixels});\n",
       "}\n",
       "\n",
       "mpl.figure.prototype.send_message = function(type, properties) {\n",
       "    properties['type'] = type;\n",
       "    properties['figure_id'] = this.id;\n",
       "    this.ws.send(JSON.stringify(properties));\n",
       "}\n",
       "\n",
       "mpl.figure.prototype.send_draw_message = function() {\n",
       "    if (!this.waiting) {\n",
       "        this.waiting = true;\n",
       "        this.ws.send(JSON.stringify({type: \"draw\", figure_id: this.id}));\n",
       "    }\n",
       "}\n",
       "\n",
       "\n",
       "mpl.figure.prototype.handle_save = function(fig, msg) {\n",
       "    var format_dropdown = fig.format_dropdown;\n",
       "    var format = format_dropdown.options[format_dropdown.selectedIndex].value;\n",
       "    fig.ondownload(fig, format);\n",
       "}\n",
       "\n",
       "\n",
       "mpl.figure.prototype.handle_resize = function(fig, msg) {\n",
       "    var size = msg['size'];\n",
       "    if (size[0] != fig.canvas.width || size[1] != fig.canvas.height) {\n",
       "        fig._resize_canvas(size[0], size[1]);\n",
       "        fig.send_message(\"refresh\", {});\n",
       "    };\n",
       "}\n",
       "\n",
       "mpl.figure.prototype.handle_rubberband = function(fig, msg) {\n",
       "    var x0 = msg['x0'] / mpl.ratio;\n",
       "    var y0 = (fig.canvas.height - msg['y0']) / mpl.ratio;\n",
       "    var x1 = msg['x1'] / mpl.ratio;\n",
       "    var y1 = (fig.canvas.height - msg['y1']) / mpl.ratio;\n",
       "    x0 = Math.floor(x0) + 0.5;\n",
       "    y0 = Math.floor(y0) + 0.5;\n",
       "    x1 = Math.floor(x1) + 0.5;\n",
       "    y1 = Math.floor(y1) + 0.5;\n",
       "    var min_x = Math.min(x0, x1);\n",
       "    var min_y = Math.min(y0, y1);\n",
       "    var width = Math.abs(x1 - x0);\n",
       "    var height = Math.abs(y1 - y0);\n",
       "\n",
       "    fig.rubberband_context.clearRect(\n",
       "        0, 0, fig.canvas.width / mpl.ratio, fig.canvas.height / mpl.ratio);\n",
       "\n",
       "    fig.rubberband_context.strokeRect(min_x, min_y, width, height);\n",
       "}\n",
       "\n",
       "mpl.figure.prototype.handle_figure_label = function(fig, msg) {\n",
       "    // Updates the figure title.\n",
       "    fig.header.textContent = msg['label'];\n",
       "}\n",
       "\n",
       "mpl.figure.prototype.handle_cursor = function(fig, msg) {\n",
       "    var cursor = msg['cursor'];\n",
       "    switch(cursor)\n",
       "    {\n",
       "    case 0:\n",
       "        cursor = 'pointer';\n",
       "        break;\n",
       "    case 1:\n",
       "        cursor = 'default';\n",
       "        break;\n",
       "    case 2:\n",
       "        cursor = 'crosshair';\n",
       "        break;\n",
       "    case 3:\n",
       "        cursor = 'move';\n",
       "        break;\n",
       "    }\n",
       "    fig.rubberband_canvas.style.cursor = cursor;\n",
       "}\n",
       "\n",
       "mpl.figure.prototype.handle_message = function(fig, msg) {\n",
       "    fig.message.textContent = msg['message'];\n",
       "}\n",
       "\n",
       "mpl.figure.prototype.handle_draw = function(fig, msg) {\n",
       "    // Request the server to send over a new figure.\n",
       "    fig.send_draw_message();\n",
       "}\n",
       "\n",
       "mpl.figure.prototype.handle_image_mode = function(fig, msg) {\n",
       "    fig.image_mode = msg['mode'];\n",
       "}\n",
       "\n",
       "mpl.figure.prototype.updated_canvas_event = function() {\n",
       "    // Called whenever the canvas gets updated.\n",
       "    this.send_message(\"ack\", {});\n",
       "}\n",
       "\n",
       "// A function to construct a web socket function for onmessage handling.\n",
       "// Called in the figure constructor.\n",
       "mpl.figure.prototype._make_on_message_function = function(fig) {\n",
       "    return function socket_on_message(evt) {\n",
       "        if (evt.data instanceof Blob) {\n",
       "            /* FIXME: We get \"Resource interpreted as Image but\n",
       "             * transferred with MIME type text/plain:\" errors on\n",
       "             * Chrome.  But how to set the MIME type?  It doesn't seem\n",
       "             * to be part of the websocket stream */\n",
       "            evt.data.type = \"image/png\";\n",
       "\n",
       "            /* Free the memory for the previous frames */\n",
       "            if (fig.imageObj.src) {\n",
       "                (window.URL || window.webkitURL).revokeObjectURL(\n",
       "                    fig.imageObj.src);\n",
       "            }\n",
       "\n",
       "            fig.imageObj.src = (window.URL || window.webkitURL).createObjectURL(\n",
       "                evt.data);\n",
       "            fig.updated_canvas_event();\n",
       "            fig.waiting = false;\n",
       "            return;\n",
       "        }\n",
       "        else if (typeof evt.data === 'string' && evt.data.slice(0, 21) == \"data:image/png;base64\") {\n",
       "            fig.imageObj.src = evt.data;\n",
       "            fig.updated_canvas_event();\n",
       "            fig.waiting = false;\n",
       "            return;\n",
       "        }\n",
       "\n",
       "        var msg = JSON.parse(evt.data);\n",
       "        var msg_type = msg['type'];\n",
       "\n",
       "        // Call the  \"handle_{type}\" callback, which takes\n",
       "        // the figure and JSON message as its only arguments.\n",
       "        try {\n",
       "            var callback = fig[\"handle_\" + msg_type];\n",
       "        } catch (e) {\n",
       "            console.log(\"No handler for the '\" + msg_type + \"' message type: \", msg);\n",
       "            return;\n",
       "        }\n",
       "\n",
       "        if (callback) {\n",
       "            try {\n",
       "                // console.log(\"Handling '\" + msg_type + \"' message: \", msg);\n",
       "                callback(fig, msg);\n",
       "            } catch (e) {\n",
       "                console.log(\"Exception inside the 'handler_\" + msg_type + \"' callback:\", e, e.stack, msg);\n",
       "            }\n",
       "        }\n",
       "    };\n",
       "}\n",
       "\n",
       "// from http://stackoverflow.com/questions/1114465/getting-mouse-location-in-canvas\n",
       "mpl.findpos = function(e) {\n",
       "    //this section is from http://www.quirksmode.org/js/events_properties.html\n",
       "    var targ;\n",
       "    if (!e)\n",
       "        e = window.event;\n",
       "    if (e.target)\n",
       "        targ = e.target;\n",
       "    else if (e.srcElement)\n",
       "        targ = e.srcElement;\n",
       "    if (targ.nodeType == 3) // defeat Safari bug\n",
       "        targ = targ.parentNode;\n",
       "\n",
       "    // jQuery normalizes the pageX and pageY\n",
       "    // pageX,Y are the mouse positions relative to the document\n",
       "    // offset() returns the position of the element relative to the document\n",
       "    var x = e.pageX - $(targ).offset().left;\n",
       "    var y = e.pageY - $(targ).offset().top;\n",
       "\n",
       "    return {\"x\": x, \"y\": y};\n",
       "};\n",
       "\n",
       "/*\n",
       " * return a copy of an object with only non-object keys\n",
       " * we need this to avoid circular references\n",
       " * http://stackoverflow.com/a/24161582/3208463\n",
       " */\n",
       "function simpleKeys (original) {\n",
       "  return Object.keys(original).reduce(function (obj, key) {\n",
       "    if (typeof original[key] !== 'object')\n",
       "        obj[key] = original[key]\n",
       "    return obj;\n",
       "  }, {});\n",
       "}\n",
       "\n",
       "mpl.figure.prototype.mouse_event = function(event, name) {\n",
       "    var canvas_pos = mpl.findpos(event)\n",
       "\n",
       "    if (name === 'button_press')\n",
       "    {\n",
       "        this.canvas.focus();\n",
       "        this.canvas_div.focus();\n",
       "    }\n",
       "\n",
       "    var x = canvas_pos.x * mpl.ratio;\n",
       "    var y = canvas_pos.y * mpl.ratio;\n",
       "\n",
       "    this.send_message(name, {x: x, y: y, button: event.button,\n",
       "                             step: event.step,\n",
       "                             guiEvent: simpleKeys(event)});\n",
       "\n",
       "    /* This prevents the web browser from automatically changing to\n",
       "     * the text insertion cursor when the button is pressed.  We want\n",
       "     * to control all of the cursor setting manually through the\n",
       "     * 'cursor' event from matplotlib */\n",
       "    event.preventDefault();\n",
       "    return false;\n",
       "}\n",
       "\n",
       "mpl.figure.prototype._key_event_extra = function(event, name) {\n",
       "    // Handle any extra behaviour associated with a key event\n",
       "}\n",
       "\n",
       "mpl.figure.prototype.key_event = function(event, name) {\n",
       "\n",
       "    // Prevent repeat events\n",
       "    if (name == 'key_press')\n",
       "    {\n",
       "        if (event.which === this._key)\n",
       "            return;\n",
       "        else\n",
       "            this._key = event.which;\n",
       "    }\n",
       "    if (name == 'key_release')\n",
       "        this._key = null;\n",
       "\n",
       "    var value = '';\n",
       "    if (event.ctrlKey && event.which != 17)\n",
       "        value += \"ctrl+\";\n",
       "    if (event.altKey && event.which != 18)\n",
       "        value += \"alt+\";\n",
       "    if (event.shiftKey && event.which != 16)\n",
       "        value += \"shift+\";\n",
       "\n",
       "    value += 'k';\n",
       "    value += event.which.toString();\n",
       "\n",
       "    this._key_event_extra(event, name);\n",
       "\n",
       "    this.send_message(name, {key: value,\n",
       "                             guiEvent: simpleKeys(event)});\n",
       "    return false;\n",
       "}\n",
       "\n",
       "mpl.figure.prototype.toolbar_button_onclick = function(name) {\n",
       "    if (name == 'download') {\n",
       "        this.handle_save(this, null);\n",
       "    } else {\n",
       "        this.send_message(\"toolbar_button\", {name: name});\n",
       "    }\n",
       "};\n",
       "\n",
       "mpl.figure.prototype.toolbar_button_onmouseover = function(tooltip) {\n",
       "    this.message.textContent = tooltip;\n",
       "};\n",
       "mpl.toolbar_items = [[\"Home\", \"Reset original view\", \"fa fa-home icon-home\", \"home\"], [\"Back\", \"Back to previous view\", \"fa fa-arrow-left icon-arrow-left\", \"back\"], [\"Forward\", \"Forward to next view\", \"fa fa-arrow-right icon-arrow-right\", \"forward\"], [\"\", \"\", \"\", \"\"], [\"Pan\", \"Pan axes with left mouse, zoom with right\", \"fa fa-arrows icon-move\", \"pan\"], [\"Zoom\", \"Zoom to rectangle\", \"fa fa-square-o icon-check-empty\", \"zoom\"], [\"\", \"\", \"\", \"\"], [\"Download\", \"Download plot\", \"fa fa-floppy-o icon-save\", \"download\"]];\n",
       "\n",
       "mpl.extensions = [\"eps\", \"jpeg\", \"pdf\", \"png\", \"ps\", \"raw\", \"svg\", \"tif\"];\n",
       "\n",
       "mpl.default_extension = \"png\";var comm_websocket_adapter = function(comm) {\n",
       "    // Create a \"websocket\"-like object which calls the given IPython comm\n",
       "    // object with the appropriate methods. Currently this is a non binary\n",
       "    // socket, so there is still some room for performance tuning.\n",
       "    var ws = {};\n",
       "\n",
       "    ws.close = function() {\n",
       "        comm.close()\n",
       "    };\n",
       "    ws.send = function(m) {\n",
       "        //console.log('sending', m);\n",
       "        comm.send(m);\n",
       "    };\n",
       "    // Register the callback with on_msg.\n",
       "    comm.on_msg(function(msg) {\n",
       "        //console.log('receiving', msg['content']['data'], msg);\n",
       "        // Pass the mpl event to the overridden (by mpl) onmessage function.\n",
       "        ws.onmessage(msg['content']['data'])\n",
       "    });\n",
       "    return ws;\n",
       "}\n",
       "\n",
       "mpl.mpl_figure_comm = function(comm, msg) {\n",
       "    // This is the function which gets called when the mpl process\n",
       "    // starts-up an IPython Comm through the \"matplotlib\" channel.\n",
       "\n",
       "    var id = msg.content.data.id;\n",
       "    // Get hold of the div created by the display call when the Comm\n",
       "    // socket was opened in Python.\n",
       "    var element = $(\"#\" + id);\n",
       "    var ws_proxy = comm_websocket_adapter(comm)\n",
       "\n",
       "    function ondownload(figure, format) {\n",
       "        window.open(figure.imageObj.src);\n",
       "    }\n",
       "\n",
       "    var fig = new mpl.figure(id, ws_proxy,\n",
       "                           ondownload,\n",
       "                           element.get(0));\n",
       "\n",
       "    // Call onopen now - mpl needs it, as it is assuming we've passed it a real\n",
       "    // web socket which is closed, not our websocket->open comm proxy.\n",
       "    ws_proxy.onopen();\n",
       "\n",
       "    fig.parent_element = element.get(0);\n",
       "    fig.cell_info = mpl.find_output_cell(\"<div id='\" + id + \"'></div>\");\n",
       "    if (!fig.cell_info) {\n",
       "        console.error(\"Failed to find cell for figure\", id, fig);\n",
       "        return;\n",
       "    }\n",
       "\n",
       "    var output_index = fig.cell_info[2]\n",
       "    var cell = fig.cell_info[0];\n",
       "\n",
       "};\n",
       "\n",
       "mpl.figure.prototype.handle_close = function(fig, msg) {\n",
       "    var width = fig.canvas.width/mpl.ratio\n",
       "    fig.root.unbind('remove')\n",
       "\n",
       "    // Update the output cell to use the data from the current canvas.\n",
       "    fig.push_to_output();\n",
       "    var dataURL = fig.canvas.toDataURL();\n",
       "    // Re-enable the keyboard manager in IPython - without this line, in FF,\n",
       "    // the notebook keyboard shortcuts fail.\n",
       "    IPython.keyboard_manager.enable()\n",
       "    $(fig.parent_element).html('<img src=\"' + dataURL + '\" width=\"' + width + '\">');\n",
       "    fig.close_ws(fig, msg);\n",
       "}\n",
       "\n",
       "mpl.figure.prototype.close_ws = function(fig, msg){\n",
       "    fig.send_message('closing', msg);\n",
       "    // fig.ws.close()\n",
       "}\n",
       "\n",
       "mpl.figure.prototype.push_to_output = function(remove_interactive) {\n",
       "    // Turn the data on the canvas into data in the output cell.\n",
       "    var width = this.canvas.width/mpl.ratio\n",
       "    var dataURL = this.canvas.toDataURL();\n",
       "    this.cell_info[1]['text/html'] = '<img src=\"' + dataURL + '\" width=\"' + width + '\">';\n",
       "}\n",
       "\n",
       "mpl.figure.prototype.updated_canvas_event = function() {\n",
       "    // Tell IPython that the notebook contents must change.\n",
       "    IPython.notebook.set_dirty(true);\n",
       "    this.send_message(\"ack\", {});\n",
       "    var fig = this;\n",
       "    // Wait a second, then push the new image to the DOM so\n",
       "    // that it is saved nicely (might be nice to debounce this).\n",
       "    setTimeout(function () { fig.push_to_output() }, 1000);\n",
       "}\n",
       "\n",
       "mpl.figure.prototype._init_toolbar = function() {\n",
       "    var fig = this;\n",
       "\n",
       "    var nav_element = $('<div/>');\n",
       "    nav_element.attr('style', 'width: 100%');\n",
       "    this.root.append(nav_element);\n",
       "\n",
       "    // Define a callback function for later on.\n",
       "    function toolbar_event(event) {\n",
       "        return fig.toolbar_button_onclick(event['data']);\n",
       "    }\n",
       "    function toolbar_mouse_event(event) {\n",
       "        return fig.toolbar_button_onmouseover(event['data']);\n",
       "    }\n",
       "\n",
       "    for(var toolbar_ind in mpl.toolbar_items){\n",
       "        var name = mpl.toolbar_items[toolbar_ind][0];\n",
       "        var tooltip = mpl.toolbar_items[toolbar_ind][1];\n",
       "        var image = mpl.toolbar_items[toolbar_ind][2];\n",
       "        var method_name = mpl.toolbar_items[toolbar_ind][3];\n",
       "\n",
       "        if (!name) { continue; };\n",
       "\n",
       "        var button = $('<button class=\"btn btn-default\" href=\"#\" title=\"' + name + '\"><i class=\"fa ' + image + ' fa-lg\"></i></button>');\n",
       "        button.click(method_name, toolbar_event);\n",
       "        button.mouseover(tooltip, toolbar_mouse_event);\n",
       "        nav_element.append(button);\n",
       "    }\n",
       "\n",
       "    // Add the status bar.\n",
       "    var status_bar = $('<span class=\"mpl-message\" style=\"text-align:right; float: right;\"/>');\n",
       "    nav_element.append(status_bar);\n",
       "    this.message = status_bar[0];\n",
       "\n",
       "    // Add the close button to the window.\n",
       "    var buttongrp = $('<div class=\"btn-group inline pull-right\"></div>');\n",
       "    var button = $('<button class=\"btn btn-mini btn-primary\" href=\"#\" title=\"Stop Interaction\"><i class=\"fa fa-power-off icon-remove icon-large\"></i></button>');\n",
       "    button.click(function (evt) { fig.handle_close(fig, {}); } );\n",
       "    button.mouseover('Stop Interaction', toolbar_mouse_event);\n",
       "    buttongrp.append(button);\n",
       "    var titlebar = this.root.find($('.ui-dialog-titlebar'));\n",
       "    titlebar.prepend(buttongrp);\n",
       "}\n",
       "\n",
       "mpl.figure.prototype._root_extra_style = function(el){\n",
       "    var fig = this\n",
       "    el.on(\"remove\", function(){\n",
       "\tfig.close_ws(fig, {});\n",
       "    });\n",
       "}\n",
       "\n",
       "mpl.figure.prototype._canvas_extra_style = function(el){\n",
       "    // this is important to make the div 'focusable\n",
       "    el.attr('tabindex', 0)\n",
       "    // reach out to IPython and tell the keyboard manager to turn it's self\n",
       "    // off when our div gets focus\n",
       "\n",
       "    // location in version 3\n",
       "    if (IPython.notebook.keyboard_manager) {\n",
       "        IPython.notebook.keyboard_manager.register_events(el);\n",
       "    }\n",
       "    else {\n",
       "        // location in version 2\n",
       "        IPython.keyboard_manager.register_events(el);\n",
       "    }\n",
       "\n",
       "}\n",
       "\n",
       "mpl.figure.prototype._key_event_extra = function(event, name) {\n",
       "    var manager = IPython.notebook.keyboard_manager;\n",
       "    if (!manager)\n",
       "        manager = IPython.keyboard_manager;\n",
       "\n",
       "    // Check for shift+enter\n",
       "    if (event.shiftKey && event.which == 13) {\n",
       "        this.canvas_div.blur();\n",
       "        // select the cell after this one\n",
       "        var index = IPython.notebook.find_cell_index(this.cell_info[0]);\n",
       "        IPython.notebook.select(index + 1);\n",
       "    }\n",
       "}\n",
       "\n",
       "mpl.figure.prototype.handle_save = function(fig, msg) {\n",
       "    fig.ondownload(fig, null);\n",
       "}\n",
       "\n",
       "\n",
       "mpl.find_output_cell = function(html_output) {\n",
       "    // Return the cell and output element which can be found *uniquely* in the notebook.\n",
       "    // Note - this is a bit hacky, but it is done because the \"notebook_saving.Notebook\"\n",
       "    // IPython event is triggered only after the cells have been serialised, which for\n",
       "    // our purposes (turning an active figure into a static one), is too late.\n",
       "    var cells = IPython.notebook.get_cells();\n",
       "    var ncells = cells.length;\n",
       "    for (var i=0; i<ncells; i++) {\n",
       "        var cell = cells[i];\n",
       "        if (cell.cell_type === 'code'){\n",
       "            for (var j=0; j<cell.output_area.outputs.length; j++) {\n",
       "                var data = cell.output_area.outputs[j];\n",
       "                if (data.data) {\n",
       "                    // IPython >= 3 moved mimebundle to data attribute of output\n",
       "                    data = data.data;\n",
       "                }\n",
       "                if (data['text/html'] == html_output) {\n",
       "                    return [cell, data, j];\n",
       "                }\n",
       "            }\n",
       "        }\n",
       "    }\n",
       "}\n",
       "\n",
       "// Register the function which deals with the matplotlib target/channel.\n",
       "// The kernel may be null if the page has been refreshed.\n",
       "if (IPython.notebook.kernel != null) {\n",
       "    IPython.notebook.kernel.comm_manager.register_target('matplotlib', mpl.mpl_figure_comm);\n",
       "}\n"
      ],
      "text/plain": [
       "<IPython.core.display.Javascript object>"
      ]
     },
     "metadata": {},
     "output_type": "display_data"
    },
    {
     "data": {
      "text/html": [
       "<img src=\"data:image/png;base64,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\" width=\"1000\">"
      ],
      "text/plain": [
       "<IPython.core.display.HTML object>"
      ]
     },
     "metadata": {},
     "output_type": "display_data"
    }
   ],
   "source": [
    "ax, tax, lax, lines = dual_train_plots()\n",
    "fig = ax.figure\n",
    "plt.tight_layout()"
   ]
  },
  {
   "cell_type": "code",
   "execution_count": 16,
   "metadata": {
    "scrolled": false
   },
   "outputs": [
    {
     "name": "stdout",
     "output_type": "stream",
     "text": [
      "Number of batches: train = 282, val = 32\n"
     ]
    },
    {
     "data": {
      "application/vnd.jupyter.widget-view+json": {
       "model_id": "6fd706fd9cd84b87805e42607b2a7855",
       "version_major": 2,
       "version_minor": 0
      },
      "text/plain": [
       "HBox(children=(FloatProgress(value=0.0, description='Epochs', layout=Layout(flex='2'), max=300.0, style=Progre…"
      ]
     },
     "metadata": {},
     "output_type": "display_data"
    },
    {
     "name": "stdout",
     "output_type": "stream",
     "text": [
      "Number of batches: train = 282, val = 32\n"
     ]
    },
    {
     "data": {
      "application/vnd.jupyter.widget-view+json": {
       "model_id": "",
       "version_major": 2,
       "version_minor": 0
      },
      "text/plain": [
       "HBox(children=(FloatProgress(value=0.0, description='Training', layout=Layout(flex='2'), max=282.0, style=Prog…"
      ]
     },
     "metadata": {},
     "output_type": "display_data"
    },
    {
     "name": "stdout",
     "output_type": "stream",
     "text": [
      "Epoch 0: train=24433.1, val=24175.3, took 6.809 s\n"
     ]
    },
    {
     "data": {
      "application/vnd.jupyter.widget-view+json": {
       "model_id": "",
       "version_major": 2,
       "version_minor": 0
      },
      "text/plain": [
       "HBox(children=(FloatProgress(value=0.0, description='Training', layout=Layout(flex='2'), max=282.0, style=Prog…"
      ]
     },
     "metadata": {},
     "output_type": "display_data"
    },
    {
     "name": "stdout",
     "output_type": "stream",
     "text": [
      "Epoch 1: train=24372.9, val=24119.8, took 6.6044 s\n"
     ]
    },
    {
     "data": {
      "application/vnd.jupyter.widget-view+json": {
       "model_id": "",
       "version_major": 2,
       "version_minor": 0
      },
      "text/plain": [
       "HBox(children=(FloatProgress(value=0.0, description='Training', layout=Layout(flex='2'), max=282.0, style=Prog…"
      ]
     },
     "metadata": {},
     "output_type": "display_data"
    },
    {
     "name": "stdout",
     "output_type": "stream",
     "text": [
      "Epoch 2: train=24350.0, val=24108.3, took 6.6194 s\n"
     ]
    },
    {
     "data": {
      "application/vnd.jupyter.widget-view+json": {
       "model_id": "",
       "version_major": 2,
       "version_minor": 0
      },
      "text/plain": [
       "HBox(children=(FloatProgress(value=0.0, description='Training', layout=Layout(flex='2'), max=282.0, style=Prog…"
      ]
     },
     "metadata": {},
     "output_type": "display_data"
    },
    {
     "name": "stdout",
     "output_type": "stream",
     "text": [
      "Epoch 3: train=24333.4, val=24084.0, took 6.608 s\n"
     ]
    },
    {
     "data": {
      "application/vnd.jupyter.widget-view+json": {
       "model_id": "",
       "version_major": 2,
       "version_minor": 0
      },
      "text/plain": [
       "HBox(children=(FloatProgress(value=0.0, description='Training', layout=Layout(flex='2'), max=282.0, style=Prog…"
      ]
     },
     "metadata": {},
     "output_type": "display_data"
    },
    {
     "name": "stdout",
     "output_type": "stream",
     "text": [
      "Epoch 4: train=24312.9, val=24062.8, took 6.663 s\n"
     ]
    },
    {
     "data": {
      "application/vnd.jupyter.widget-view+json": {
       "model_id": "",
       "version_major": 2,
       "version_minor": 0
      },
      "text/plain": [
       "HBox(children=(FloatProgress(value=0.0, description='Training', layout=Layout(flex='2'), max=282.0, style=Prog…"
      ]
     },
     "metadata": {},
     "output_type": "display_data"
    },
    {
     "name": "stdout",
     "output_type": "stream",
     "text": [
      "Epoch 5: train=24289.2, val=24037.6, took 6.6207 s\n"
     ]
    },
    {
     "data": {
      "application/vnd.jupyter.widget-view+json": {
       "model_id": "",
       "version_major": 2,
       "version_minor": 0
      },
      "text/plain": [
       "HBox(children=(FloatProgress(value=0.0, description='Training', layout=Layout(flex='2'), max=282.0, style=Prog…"
      ]
     },
     "metadata": {},
     "output_type": "display_data"
    },
    {
     "name": "stdout",
     "output_type": "stream",
     "text": [
      "Epoch 6: train=24269.3, val=24013.5, took 6.6108 s\n"
     ]
    },
    {
     "data": {
      "application/vnd.jupyter.widget-view+json": {
       "model_id": "",
       "version_major": 2,
       "version_minor": 0
      },
      "text/plain": [
       "HBox(children=(FloatProgress(value=0.0, description='Training', layout=Layout(flex='2'), max=282.0, style=Prog…"
      ]
     },
     "metadata": {},
     "output_type": "display_data"
    },
    {
     "name": "stdout",
     "output_type": "stream",
     "text": [
      "Epoch 7: train=24246.3, val=23991.0, took 6.6394 s\n"
     ]
    },
    {
     "data": {
      "application/vnd.jupyter.widget-view+json": {
       "model_id": "",
       "version_major": 2,
       "version_minor": 0
      },
      "text/plain": [
       "HBox(children=(FloatProgress(value=0.0, description='Training', layout=Layout(flex='2'), max=282.0, style=Prog…"
      ]
     },
     "metadata": {},
     "output_type": "display_data"
    },
    {
     "name": "stdout",
     "output_type": "stream",
     "text": [
      "Epoch 8: train=24224.5, val=23967.8, took 6.5837 s\n"
     ]
    },
    {
     "data": {
      "application/vnd.jupyter.widget-view+json": {
       "model_id": "",
       "version_major": 2,
       "version_minor": 0
      },
      "text/plain": [
       "HBox(children=(FloatProgress(value=0.0, description='Training', layout=Layout(flex='2'), max=282.0, style=Prog…"
      ]
     },
     "metadata": {},
     "output_type": "display_data"
    },
    {
     "name": "stdout",
     "output_type": "stream",
     "text": [
      "Epoch 9: train=24202.9, val=23945.7, took 6.5988 s\n"
     ]
    },
    {
     "data": {
      "application/vnd.jupyter.widget-view+json": {
       "model_id": "",
       "version_major": 2,
       "version_minor": 0
      },
      "text/plain": [
       "HBox(children=(FloatProgress(value=0.0, description='Training', layout=Layout(flex='2'), max=282.0, style=Prog…"
      ]
     },
     "metadata": {},
     "output_type": "display_data"
    },
    {
     "name": "stdout",
     "output_type": "stream",
     "text": [
      "Epoch 10: train=24177.8, val=23918.9, took 6.634 s\n"
     ]
    },
    {
     "data": {
      "application/vnd.jupyter.widget-view+json": {
       "model_id": "",
       "version_major": 2,
       "version_minor": 0
      },
      "text/plain": [
       "HBox(children=(FloatProgress(value=0.0, description='Training', layout=Layout(flex='2'), max=282.0, style=Prog…"
      ]
     },
     "metadata": {},
     "output_type": "display_data"
    },
    {
     "name": "stdout",
     "output_type": "stream",
     "text": [
      "Epoch 11: train=24154.3, val=23891.2, took 6.5925 s\n"
     ]
    },
    {
     "data": {
      "application/vnd.jupyter.widget-view+json": {
       "model_id": "",
       "version_major": 2,
       "version_minor": 0
      },
      "text/plain": [
       "HBox(children=(FloatProgress(value=0.0, description='Training', layout=Layout(flex='2'), max=282.0, style=Prog…"
      ]
     },
     "metadata": {},
     "output_type": "display_data"
    },
    {
     "name": "stdout",
     "output_type": "stream",
     "text": [
      "Epoch 12: train=24133.6, val=23871.1, took 6.6276 s\n"
     ]
    },
    {
     "data": {
      "application/vnd.jupyter.widget-view+json": {
       "model_id": "",
       "version_major": 2,
       "version_minor": 0
      },
      "text/plain": [
       "HBox(children=(FloatProgress(value=0.0, description='Training', layout=Layout(flex='2'), max=282.0, style=Prog…"
      ]
     },
     "metadata": {},
     "output_type": "display_data"
    },
    {
     "name": "stdout",
     "output_type": "stream",
     "text": [
      "Epoch 13: train=24112.5, val=23852.8, took 6.6321 s\n"
     ]
    },
    {
     "data": {
      "application/vnd.jupyter.widget-view+json": {
       "model_id": "",
       "version_major": 2,
       "version_minor": 0
      },
      "text/plain": [
       "HBox(children=(FloatProgress(value=0.0, description='Training', layout=Layout(flex='2'), max=282.0, style=Prog…"
      ]
     },
     "metadata": {},
     "output_type": "display_data"
    },
    {
     "name": "stdout",
     "output_type": "stream",
     "text": [
      "Epoch 14: train=24089.9, val=23826.9, took 6.6768 s\n"
     ]
    },
    {
     "data": {
      "application/vnd.jupyter.widget-view+json": {
       "model_id": "",
       "version_major": 2,
       "version_minor": 0
      },
      "text/plain": [
       "HBox(children=(FloatProgress(value=0.0, description='Training', layout=Layout(flex='2'), max=282.0, style=Prog…"
      ]
     },
     "metadata": {},
     "output_type": "display_data"
    },
    {
     "name": "stdout",
     "output_type": "stream",
     "text": [
      "Epoch 15: train=24066.8, val=23804.4, took 6.5839 s\n"
     ]
    },
    {
     "data": {
      "application/vnd.jupyter.widget-view+json": {
       "model_id": "",
       "version_major": 2,
       "version_minor": 0
      },
      "text/plain": [
       "HBox(children=(FloatProgress(value=0.0, description='Training', layout=Layout(flex='2'), max=282.0, style=Prog…"
      ]
     },
     "metadata": {},
     "output_type": "display_data"
    },
    {
     "name": "stdout",
     "output_type": "stream",
     "text": [
      "Epoch 16: train=24045.1, val=23781.8, took 6.6167 s\n"
     ]
    },
    {
     "data": {
      "application/vnd.jupyter.widget-view+json": {
       "model_id": "",
       "version_major": 2,
       "version_minor": 0
      },
      "text/plain": [
       "HBox(children=(FloatProgress(value=0.0, description='Training', layout=Layout(flex='2'), max=282.0, style=Prog…"
      ]
     },
     "metadata": {},
     "output_type": "display_data"
    },
    {
     "name": "stdout",
     "output_type": "stream",
     "text": [
      "Epoch 17: train=24021.8, val=23758.4, took 6.5915 s\n"
     ]
    },
    {
     "data": {
      "application/vnd.jupyter.widget-view+json": {
       "model_id": "",
       "version_major": 2,
       "version_minor": 0
      },
      "text/plain": [
       "HBox(children=(FloatProgress(value=0.0, description='Training', layout=Layout(flex='2'), max=282.0, style=Prog…"
      ]
     },
     "metadata": {},
     "output_type": "display_data"
    },
    {
     "name": "stdout",
     "output_type": "stream",
     "text": [
      "Epoch 18: train=23997.7, val=23738.1, took 6.616 s\n"
     ]
    },
    {
     "data": {
      "application/vnd.jupyter.widget-view+json": {
       "model_id": "",
       "version_major": 2,
       "version_minor": 0
      },
      "text/plain": [
       "HBox(children=(FloatProgress(value=0.0, description='Training', layout=Layout(flex='2'), max=282.0, style=Prog…"
      ]
     },
     "metadata": {},
     "output_type": "display_data"
    },
    {
     "name": "stdout",
     "output_type": "stream",
     "text": [
      "Epoch 19: train=23974.8, val=23711.4, took 6.6759 s\n"
     ]
    },
    {
     "data": {
      "application/vnd.jupyter.widget-view+json": {
       "model_id": "",
       "version_major": 2,
       "version_minor": 0
      },
      "text/plain": [
       "HBox(children=(FloatProgress(value=0.0, description='Training', layout=Layout(flex='2'), max=282.0, style=Prog…"
      ]
     },
     "metadata": {},
     "output_type": "display_data"
    },
    {
     "name": "stdout",
     "output_type": "stream",
     "text": [
      "Epoch 20: train=23952.0, val=23690.3, took 6.5916 s\n"
     ]
    },
    {
     "data": {
      "application/vnd.jupyter.widget-view+json": {
       "model_id": "",
       "version_major": 2,
       "version_minor": 0
      },
      "text/plain": [
       "HBox(children=(FloatProgress(value=0.0, description='Training', layout=Layout(flex='2'), max=282.0, style=Prog…"
      ]
     },
     "metadata": {},
     "output_type": "display_data"
    },
    {
     "name": "stdout",
     "output_type": "stream",
     "text": [
      "Epoch 21: train=23926.8, val=23665.5, took 6.5844 s\n"
     ]
    },
    {
     "data": {
      "application/vnd.jupyter.widget-view+json": {
       "model_id": "",
       "version_major": 2,
       "version_minor": 0
      },
      "text/plain": [
       "HBox(children=(FloatProgress(value=0.0, description='Training', layout=Layout(flex='2'), max=282.0, style=Prog…"
      ]
     },
     "metadata": {},
     "output_type": "display_data"
    },
    {
     "name": "stdout",
     "output_type": "stream",
     "text": [
      "Epoch 22: train=23905.8, val=23639.9, took 6.5863 s\n"
     ]
    },
    {
     "data": {
      "application/vnd.jupyter.widget-view+json": {
       "model_id": "",
       "version_major": 2,
       "version_minor": 0
      },
      "text/plain": [
       "HBox(children=(FloatProgress(value=0.0, description='Training', layout=Layout(flex='2'), max=282.0, style=Prog…"
      ]
     },
     "metadata": {},
     "output_type": "display_data"
    },
    {
     "name": "stdout",
     "output_type": "stream",
     "text": [
      "Epoch 23: train=23881.5, val=23615.8, took 6.5866 s\n"
     ]
    },
    {
     "data": {
      "application/vnd.jupyter.widget-view+json": {
       "model_id": "",
       "version_major": 2,
       "version_minor": 0
      },
      "text/plain": [
       "HBox(children=(FloatProgress(value=0.0, description='Training', layout=Layout(flex='2'), max=282.0, style=Prog…"
      ]
     },
     "metadata": {},
     "output_type": "display_data"
    },
    {
     "name": "stdout",
     "output_type": "stream",
     "text": [
      "Epoch 24: train=23857.6, val=23594.8, took 6.6264 s\n"
     ]
    },
    {
     "data": {
      "application/vnd.jupyter.widget-view+json": {
       "model_id": "",
       "version_major": 2,
       "version_minor": 0
      },
      "text/plain": [
       "HBox(children=(FloatProgress(value=0.0, description='Training', layout=Layout(flex='2'), max=282.0, style=Prog…"
      ]
     },
     "metadata": {},
     "output_type": "display_data"
    },
    {
     "name": "stdout",
     "output_type": "stream",
     "text": [
      "Epoch 25: train=23833.9, val=23569.2, took 6.6649 s\n"
     ]
    },
    {
     "data": {
      "application/vnd.jupyter.widget-view+json": {
       "model_id": "",
       "version_major": 2,
       "version_minor": 0
      },
      "text/plain": [
       "HBox(children=(FloatProgress(value=0.0, description='Training', layout=Layout(flex='2'), max=282.0, style=Prog…"
      ]
     },
     "metadata": {},
     "output_type": "display_data"
    },
    {
     "name": "stdout",
     "output_type": "stream",
     "text": [
      "Epoch 26: train=23810.2, val=23542.3, took 6.6103 s\n"
     ]
    },
    {
     "data": {
      "application/vnd.jupyter.widget-view+json": {
       "model_id": "",
       "version_major": 2,
       "version_minor": 0
      },
      "text/plain": [
       "HBox(children=(FloatProgress(value=0.0, description='Training', layout=Layout(flex='2'), max=282.0, style=Prog…"
      ]
     },
     "metadata": {},
     "output_type": "display_data"
    },
    {
     "name": "stdout",
     "output_type": "stream",
     "text": [
      "Epoch 27: train=23785.8, val=23519.3, took 6.6311 s\n"
     ]
    },
    {
     "data": {
      "application/vnd.jupyter.widget-view+json": {
       "model_id": "",
       "version_major": 2,
       "version_minor": 0
      },
      "text/plain": [
       "HBox(children=(FloatProgress(value=0.0, description='Training', layout=Layout(flex='2'), max=282.0, style=Prog…"
      ]
     },
     "metadata": {},
     "output_type": "display_data"
    },
    {
     "name": "stdout",
     "output_type": "stream",
     "text": [
      "Epoch 28: train=23763.0, val=23493.8, took 6.6167 s\n"
     ]
    },
    {
     "data": {
      "application/vnd.jupyter.widget-view+json": {
       "model_id": "",
       "version_major": 2,
       "version_minor": 0
      },
      "text/plain": [
       "HBox(children=(FloatProgress(value=0.0, description='Training', layout=Layout(flex='2'), max=282.0, style=Prog…"
      ]
     },
     "metadata": {},
     "output_type": "display_data"
    },
    {
     "name": "stdout",
     "output_type": "stream",
     "text": [
      "Epoch 29: train=23738.6, val=23469.7, took 6.6052 s\n"
     ]
    },
    {
     "data": {
      "application/vnd.jupyter.widget-view+json": {
       "model_id": "",
       "version_major": 2,
       "version_minor": 0
      },
      "text/plain": [
       "HBox(children=(FloatProgress(value=0.0, description='Training', layout=Layout(flex='2'), max=282.0, style=Prog…"
      ]
     },
     "metadata": {},
     "output_type": "display_data"
    },
    {
     "name": "stdout",
     "output_type": "stream",
     "text": [
      "Epoch 30: train=23714.8, val=23441.9, took 6.5748 s\n"
     ]
    },
    {
     "data": {
      "application/vnd.jupyter.widget-view+json": {
       "model_id": "",
       "version_major": 2,
       "version_minor": 0
      },
      "text/plain": [
       "HBox(children=(FloatProgress(value=0.0, description='Training', layout=Layout(flex='2'), max=282.0, style=Prog…"
      ]
     },
     "metadata": {},
     "output_type": "display_data"
    },
    {
     "name": "stdout",
     "output_type": "stream",
     "text": [
      "Epoch 31: train=23689.9, val=23419.4, took 6.5994 s\n"
     ]
    },
    {
     "data": {
      "application/vnd.jupyter.widget-view+json": {
       "model_id": "",
       "version_major": 2,
       "version_minor": 0
      },
      "text/plain": [
       "HBox(children=(FloatProgress(value=0.0, description='Training', layout=Layout(flex='2'), max=282.0, style=Prog…"
      ]
     },
     "metadata": {},
     "output_type": "display_data"
    },
    {
     "name": "stdout",
     "output_type": "stream",
     "text": [
      "Epoch 32: train=23666.7, val=23394.1, took 6.6299 s\n"
     ]
    },
    {
     "data": {
      "application/vnd.jupyter.widget-view+json": {
       "model_id": "",
       "version_major": 2,
       "version_minor": 0
      },
      "text/plain": [
       "HBox(children=(FloatProgress(value=0.0, description='Training', layout=Layout(flex='2'), max=282.0, style=Prog…"
      ]
     },
     "metadata": {},
     "output_type": "display_data"
    },
    {
     "name": "stdout",
     "output_type": "stream",
     "text": [
      "Epoch 33: train=23642.8, val=23368.8, took 6.5809 s\n"
     ]
    },
    {
     "data": {
      "application/vnd.jupyter.widget-view+json": {
       "model_id": "",
       "version_major": 2,
       "version_minor": 0
      },
      "text/plain": [
       "HBox(children=(FloatProgress(value=0.0, description='Training', layout=Layout(flex='2'), max=282.0, style=Prog…"
      ]
     },
     "metadata": {},
     "output_type": "display_data"
    },
    {
     "name": "stdout",
     "output_type": "stream",
     "text": [
      "Epoch 34: train=23619.7, val=23347.0, took 6.6001 s\n"
     ]
    },
    {
     "data": {
      "application/vnd.jupyter.widget-view+json": {
       "model_id": "",
       "version_major": 2,
       "version_minor": 0
      },
      "text/plain": [
       "HBox(children=(FloatProgress(value=0.0, description='Training', layout=Layout(flex='2'), max=282.0, style=Prog…"
      ]
     },
     "metadata": {},
     "output_type": "display_data"
    },
    {
     "name": "stdout",
     "output_type": "stream",
     "text": [
      "Epoch 35: train=23597.3, val=23321.9, took 6.6052 s\n"
     ]
    },
    {
     "data": {
      "application/vnd.jupyter.widget-view+json": {
       "model_id": "",
       "version_major": 2,
       "version_minor": 0
      },
      "text/plain": [
       "HBox(children=(FloatProgress(value=0.0, description='Training', layout=Layout(flex='2'), max=282.0, style=Prog…"
      ]
     },
     "metadata": {},
     "output_type": "display_data"
    },
    {
     "name": "stdout",
     "output_type": "stream",
     "text": [
      "Epoch 36: train=23573.5, val=23298.0, took 6.5751 s\n"
     ]
    },
    {
     "data": {
      "application/vnd.jupyter.widget-view+json": {
       "model_id": "",
       "version_major": 2,
       "version_minor": 0
      },
      "text/plain": [
       "HBox(children=(FloatProgress(value=0.0, description='Training', layout=Layout(flex='2'), max=282.0, style=Prog…"
      ]
     },
     "metadata": {},
     "output_type": "display_data"
    },
    {
     "name": "stdout",
     "output_type": "stream",
     "text": [
      "Epoch 37: train=23550.6, val=23273.8, took 6.5896 s\n"
     ]
    },
    {
     "data": {
      "application/vnd.jupyter.widget-view+json": {
       "model_id": "",
       "version_major": 2,
       "version_minor": 0
      },
      "text/plain": [
       "HBox(children=(FloatProgress(value=0.0, description='Training', layout=Layout(flex='2'), max=282.0, style=Prog…"
      ]
     },
     "metadata": {},
     "output_type": "display_data"
    },
    {
     "name": "stdout",
     "output_type": "stream",
     "text": [
      "Epoch 38: train=23527.4, val=23250.2, took 6.5951 s\n"
     ]
    },
    {
     "data": {
      "application/vnd.jupyter.widget-view+json": {
       "model_id": "",
       "version_major": 2,
       "version_minor": 0
      },
      "text/plain": [
       "HBox(children=(FloatProgress(value=0.0, description='Training', layout=Layout(flex='2'), max=282.0, style=Prog…"
      ]
     },
     "metadata": {},
     "output_type": "display_data"
    },
    {
     "name": "stdout",
     "output_type": "stream",
     "text": [
      "Epoch 39: train=23503.6, val=23227.6, took 6.6411 s\n"
     ]
    },
    {
     "data": {
      "application/vnd.jupyter.widget-view+json": {
       "model_id": "",
       "version_major": 2,
       "version_minor": 0
      },
      "text/plain": [
       "HBox(children=(FloatProgress(value=0.0, description='Training', layout=Layout(flex='2'), max=282.0, style=Prog…"
      ]
     },
     "metadata": {},
     "output_type": "display_data"
    },
    {
     "name": "stdout",
     "output_type": "stream",
     "text": [
      "Epoch 40: train=23482.4, val=23204.6, took 6.5778 s\n"
     ]
    },
    {
     "data": {
      "application/vnd.jupyter.widget-view+json": {
       "model_id": "",
       "version_major": 2,
       "version_minor": 0
      },
      "text/plain": [
       "HBox(children=(FloatProgress(value=0.0, description='Training', layout=Layout(flex='2'), max=282.0, style=Prog…"
      ]
     },
     "metadata": {},
     "output_type": "display_data"
    },
    {
     "name": "stdout",
     "output_type": "stream",
     "text": [
      "Epoch 41: train=23459.6, val=23184.5, took 6.6076 s\n"
     ]
    },
    {
     "data": {
      "application/vnd.jupyter.widget-view+json": {
       "model_id": "",
       "version_major": 2,
       "version_minor": 0
      },
      "text/plain": [
       "HBox(children=(FloatProgress(value=0.0, description='Training', layout=Layout(flex='2'), max=282.0, style=Prog…"
      ]
     },
     "metadata": {},
     "output_type": "display_data"
    },
    {
     "name": "stdout",
     "output_type": "stream",
     "text": [
      "Epoch 42: train=23437.9, val=23159.0, took 6.5737 s\n"
     ]
    },
    {
     "data": {
      "application/vnd.jupyter.widget-view+json": {
       "model_id": "",
       "version_major": 2,
       "version_minor": 0
      },
      "text/plain": [
       "HBox(children=(FloatProgress(value=0.0, description='Training', layout=Layout(flex='2'), max=282.0, style=Prog…"
      ]
     },
     "metadata": {},
     "output_type": "display_data"
    },
    {
     "name": "stdout",
     "output_type": "stream",
     "text": [
      "Epoch 43: train=23416.7, val=23136.3, took 6.5904 s\n"
     ]
    },
    {
     "data": {
      "application/vnd.jupyter.widget-view+json": {
       "model_id": "",
       "version_major": 2,
       "version_minor": 0
      },
      "text/plain": [
       "HBox(children=(FloatProgress(value=0.0, description='Training', layout=Layout(flex='2'), max=282.0, style=Prog…"
      ]
     },
     "metadata": {},
     "output_type": "display_data"
    },
    {
     "name": "stdout",
     "output_type": "stream",
     "text": [
      "Epoch 44: train=23395.2, val=23113.3, took 6.5697 s\n"
     ]
    },
    {
     "data": {
      "application/vnd.jupyter.widget-view+json": {
       "model_id": "",
       "version_major": 2,
       "version_minor": 0
      },
      "text/plain": [
       "HBox(children=(FloatProgress(value=0.0, description='Training', layout=Layout(flex='2'), max=282.0, style=Prog…"
      ]
     },
     "metadata": {},
     "output_type": "display_data"
    },
    {
     "name": "stdout",
     "output_type": "stream",
     "text": [
      "Epoch 45: train=23372.5, val=23089.1, took 6.6145 s\n"
     ]
    },
    {
     "data": {
      "application/vnd.jupyter.widget-view+json": {
       "model_id": "",
       "version_major": 2,
       "version_minor": 0
      },
      "text/plain": [
       "HBox(children=(FloatProgress(value=0.0, description='Training', layout=Layout(flex='2'), max=282.0, style=Prog…"
      ]
     },
     "metadata": {},
     "output_type": "display_data"
    },
    {
     "name": "stdout",
     "output_type": "stream",
     "text": [
      "Epoch 46: train=23349.2, val=23070.0, took 6.593 s\n"
     ]
    },
    {
     "data": {
      "application/vnd.jupyter.widget-view+json": {
       "model_id": "",
       "version_major": 2,
       "version_minor": 0
      },
      "text/plain": [
       "HBox(children=(FloatProgress(value=0.0, description='Training', layout=Layout(flex='2'), max=282.0, style=Prog…"
      ]
     },
     "metadata": {},
     "output_type": "display_data"
    },
    {
     "name": "stdout",
     "output_type": "stream",
     "text": [
      "Epoch 47: train=23329.6, val=23043.6, took 6.605 s\n"
     ]
    },
    {
     "data": {
      "application/vnd.jupyter.widget-view+json": {
       "model_id": "",
       "version_major": 2,
       "version_minor": 0
      },
      "text/plain": [
       "HBox(children=(FloatProgress(value=0.0, description='Training', layout=Layout(flex='2'), max=282.0, style=Prog…"
      ]
     },
     "metadata": {},
     "output_type": "display_data"
    },
    {
     "name": "stdout",
     "output_type": "stream",
     "text": [
      "Epoch 48: train=23308.0, val=23024.9, took 6.6684 s\n"
     ]
    },
    {
     "data": {
      "application/vnd.jupyter.widget-view+json": {
       "model_id": "",
       "version_major": 2,
       "version_minor": 0
      },
      "text/plain": [
       "HBox(children=(FloatProgress(value=0.0, description='Training', layout=Layout(flex='2'), max=282.0, style=Prog…"
      ]
     },
     "metadata": {},
     "output_type": "display_data"
    },
    {
     "name": "stdout",
     "output_type": "stream",
     "text": [
      "Epoch 49: train=23286.9, val=23002.6, took 6.6009 s\n"
     ]
    },
    {
     "data": {
      "application/vnd.jupyter.widget-view+json": {
       "model_id": "",
       "version_major": 2,
       "version_minor": 0
      },
      "text/plain": [
       "HBox(children=(FloatProgress(value=0.0, description='Training', layout=Layout(flex='2'), max=282.0, style=Prog…"
      ]
     },
     "metadata": {},
     "output_type": "display_data"
    },
    {
     "name": "stdout",
     "output_type": "stream",
     "text": [
      "Epoch 50: train=23266.1, val=22983.9, took 6.5997 s\n"
     ]
    },
    {
     "data": {
      "application/vnd.jupyter.widget-view+json": {
       "model_id": "",
       "version_major": 2,
       "version_minor": 0
      },
      "text/plain": [
       "HBox(children=(FloatProgress(value=0.0, description='Training', layout=Layout(flex='2'), max=282.0, style=Prog…"
      ]
     },
     "metadata": {},
     "output_type": "display_data"
    },
    {
     "name": "stdout",
     "output_type": "stream",
     "text": [
      "Epoch 51: train=23246.9, val=22961.2, took 6.6418 s\n"
     ]
    },
    {
     "data": {
      "application/vnd.jupyter.widget-view+json": {
       "model_id": "",
       "version_major": 2,
       "version_minor": 0
      },
      "text/plain": [
       "HBox(children=(FloatProgress(value=0.0, description='Training', layout=Layout(flex='2'), max=282.0, style=Prog…"
      ]
     },
     "metadata": {},
     "output_type": "display_data"
    },
    {
     "name": "stdout",
     "output_type": "stream",
     "text": [
      "Epoch 52: train=23225.5, val=22943.5, took 6.6097 s\n"
     ]
    },
    {
     "data": {
      "application/vnd.jupyter.widget-view+json": {
       "model_id": "",
       "version_major": 2,
       "version_minor": 0
      },
      "text/plain": [
       "HBox(children=(FloatProgress(value=0.0, description='Training', layout=Layout(flex='2'), max=282.0, style=Prog…"
      ]
     },
     "metadata": {},
     "output_type": "display_data"
    },
    {
     "name": "stdout",
     "output_type": "stream",
     "text": [
      "Epoch 53: train=23205.1, val=22919.2, took 6.7078 s\n"
     ]
    },
    {
     "data": {
      "application/vnd.jupyter.widget-view+json": {
       "model_id": "",
       "version_major": 2,
       "version_minor": 0
      },
      "text/plain": [
       "HBox(children=(FloatProgress(value=0.0, description='Training', layout=Layout(flex='2'), max=282.0, style=Prog…"
      ]
     },
     "metadata": {},
     "output_type": "display_data"
    },
    {
     "name": "stdout",
     "output_type": "stream",
     "text": [
      "Epoch 54: train=23183.8, val=22906.4, took 6.6092 s\n"
     ]
    },
    {
     "data": {
      "application/vnd.jupyter.widget-view+json": {
       "model_id": "",
       "version_major": 2,
       "version_minor": 0
      },
      "text/plain": [
       "HBox(children=(FloatProgress(value=0.0, description='Training', layout=Layout(flex='2'), max=282.0, style=Prog…"
      ]
     },
     "metadata": {},
     "output_type": "display_data"
    },
    {
     "name": "stdout",
     "output_type": "stream",
     "text": [
      "Epoch 55: train=23166.0, val=22884.1, took 6.686 s\n"
     ]
    },
    {
     "data": {
      "application/vnd.jupyter.widget-view+json": {
       "model_id": "",
       "version_major": 2,
       "version_minor": 0
      },
      "text/plain": [
       "HBox(children=(FloatProgress(value=0.0, description='Training', layout=Layout(flex='2'), max=282.0, style=Prog…"
      ]
     },
     "metadata": {},
     "output_type": "display_data"
    },
    {
     "name": "stdout",
     "output_type": "stream",
     "text": [
      "Epoch 56: train=23146.1, val=22861.8, took 6.6175 s\n"
     ]
    },
    {
     "data": {
      "application/vnd.jupyter.widget-view+json": {
       "model_id": "",
       "version_major": 2,
       "version_minor": 0
      },
      "text/plain": [
       "HBox(children=(FloatProgress(value=0.0, description='Training', layout=Layout(flex='2'), max=282.0, style=Prog…"
      ]
     },
     "metadata": {},
     "output_type": "display_data"
    },
    {
     "name": "stdout",
     "output_type": "stream",
     "text": [
      "Epoch 57: train=23125.2, val=22865.4, took 6.5914 s\n"
     ]
    },
    {
     "data": {
      "application/vnd.jupyter.widget-view+json": {
       "model_id": "",
       "version_major": 2,
       "version_minor": 0
      },
      "text/plain": [
       "HBox(children=(FloatProgress(value=0.0, description='Training', layout=Layout(flex='2'), max=282.0, style=Prog…"
      ]
     },
     "metadata": {},
     "output_type": "display_data"
    },
    {
     "name": "stdout",
     "output_type": "stream",
     "text": [
      "Epoch 58: train=23107.1, val=22828.7, took 6.6023 s\n"
     ]
    },
    {
     "data": {
      "application/vnd.jupyter.widget-view+json": {
       "model_id": "",
       "version_major": 2,
       "version_minor": 0
      },
      "text/plain": [
       "HBox(children=(FloatProgress(value=0.0, description='Training', layout=Layout(flex='2'), max=282.0, style=Prog…"
      ]
     },
     "metadata": {},
     "output_type": "display_data"
    },
    {
     "name": "stdout",
     "output_type": "stream",
     "text": [
      "Epoch 59: train=23089.0, val=22809.8, took 6.5807 s\n"
     ]
    },
    {
     "data": {
      "application/vnd.jupyter.widget-view+json": {
       "model_id": "",
       "version_major": 2,
       "version_minor": 0
      },
      "text/plain": [
       "HBox(children=(FloatProgress(value=0.0, description='Training', layout=Layout(flex='2'), max=282.0, style=Prog…"
      ]
     },
     "metadata": {},
     "output_type": "display_data"
    },
    {
     "name": "stdout",
     "output_type": "stream",
     "text": [
      "Epoch 60: train=23070.0, val=22787.6, took 6.6067 s\n"
     ]
    },
    {
     "data": {
      "application/vnd.jupyter.widget-view+json": {
       "model_id": "",
       "version_major": 2,
       "version_minor": 0
      },
      "text/plain": [
       "HBox(children=(FloatProgress(value=0.0, description='Training', layout=Layout(flex='2'), max=282.0, style=Prog…"
      ]
     },
     "metadata": {},
     "output_type": "display_data"
    },
    {
     "name": "stdout",
     "output_type": "stream",
     "text": [
      "Epoch 61: train=23050.5, val=22773.3, took 6.5934 s\n"
     ]
    },
    {
     "data": {
      "application/vnd.jupyter.widget-view+json": {
       "model_id": "",
       "version_major": 2,
       "version_minor": 0
      },
      "text/plain": [
       "HBox(children=(FloatProgress(value=0.0, description='Training', layout=Layout(flex='2'), max=282.0, style=Prog…"
      ]
     },
     "metadata": {},
     "output_type": "display_data"
    },
    {
     "name": "stdout",
     "output_type": "stream",
     "text": [
      "Epoch 62: train=23032.3, val=22753.3, took 6.6529 s\n"
     ]
    },
    {
     "data": {
      "application/vnd.jupyter.widget-view+json": {
       "model_id": "",
       "version_major": 2,
       "version_minor": 0
      },
      "text/plain": [
       "HBox(children=(FloatProgress(value=0.0, description='Training', layout=Layout(flex='2'), max=282.0, style=Prog…"
      ]
     },
     "metadata": {},
     "output_type": "display_data"
    },
    {
     "name": "stdout",
     "output_type": "stream",
     "text": [
      "Epoch 63: train=23014.2, val=22738.8, took 6.7241 s\n"
     ]
    },
    {
     "data": {
      "application/vnd.jupyter.widget-view+json": {
       "model_id": "",
       "version_major": 2,
       "version_minor": 0
      },
      "text/plain": [
       "HBox(children=(FloatProgress(value=0.0, description='Training', layout=Layout(flex='2'), max=282.0, style=Prog…"
      ]
     },
     "metadata": {},
     "output_type": "display_data"
    },
    {
     "name": "stdout",
     "output_type": "stream",
     "text": [
      "Epoch 64: train=22995.4, val=22719.4, took 6.6222 s\n"
     ]
    },
    {
     "data": {
      "application/vnd.jupyter.widget-view+json": {
       "model_id": "",
       "version_major": 2,
       "version_minor": 0
      },
      "text/plain": [
       "HBox(children=(FloatProgress(value=0.0, description='Training', layout=Layout(flex='2'), max=282.0, style=Prog…"
      ]
     },
     "metadata": {},
     "output_type": "display_data"
    },
    {
     "name": "stdout",
     "output_type": "stream",
     "text": [
      "Epoch 65: train=22976.5, val=22701.4, took 6.6156 s\n"
     ]
    },
    {
     "data": {
      "application/vnd.jupyter.widget-view+json": {
       "model_id": "",
       "version_major": 2,
       "version_minor": 0
      },
      "text/plain": [
       "HBox(children=(FloatProgress(value=0.0, description='Training', layout=Layout(flex='2'), max=282.0, style=Prog…"
      ]
     },
     "metadata": {},
     "output_type": "display_data"
    },
    {
     "name": "stdout",
     "output_type": "stream",
     "text": [
      "Epoch 66: train=22960.0, val=22683.8, took 6.581 s\n"
     ]
    },
    {
     "data": {
      "application/vnd.jupyter.widget-view+json": {
       "model_id": "",
       "version_major": 2,
       "version_minor": 0
      },
      "text/plain": [
       "HBox(children=(FloatProgress(value=0.0, description='Training', layout=Layout(flex='2'), max=282.0, style=Prog…"
      ]
     },
     "metadata": {},
     "output_type": "display_data"
    },
    {
     "name": "stdout",
     "output_type": "stream",
     "text": [
      "Epoch 67: train=22941.7, val=22665.7, took 6.653 s\n"
     ]
    },
    {
     "data": {
      "application/vnd.jupyter.widget-view+json": {
       "model_id": "",
       "version_major": 2,
       "version_minor": 0
      },
      "text/plain": [
       "HBox(children=(FloatProgress(value=0.0, description='Training', layout=Layout(flex='2'), max=282.0, style=Prog…"
      ]
     },
     "metadata": {},
     "output_type": "display_data"
    },
    {
     "name": "stdout",
     "output_type": "stream",
     "text": [
      "Epoch 68: train=22923.8, val=22650.0, took 6.6273 s\n"
     ]
    },
    {
     "data": {
      "application/vnd.jupyter.widget-view+json": {
       "model_id": "",
       "version_major": 2,
       "version_minor": 0
      },
      "text/plain": [
       "HBox(children=(FloatProgress(value=0.0, description='Training', layout=Layout(flex='2'), max=282.0, style=Prog…"
      ]
     },
     "metadata": {},
     "output_type": "display_data"
    },
    {
     "name": "stdout",
     "output_type": "stream",
     "text": [
      "Epoch 69: train=22905.4, val=22632.8, took 6.5884 s\n"
     ]
    },
    {
     "data": {
      "application/vnd.jupyter.widget-view+json": {
       "model_id": "",
       "version_major": 2,
       "version_minor": 0
      },
      "text/plain": [
       "HBox(children=(FloatProgress(value=0.0, description='Training', layout=Layout(flex='2'), max=282.0, style=Prog…"
      ]
     },
     "metadata": {},
     "output_type": "display_data"
    },
    {
     "name": "stdout",
     "output_type": "stream",
     "text": [
      "Epoch 70: train=22887.4, val=22614.2, took 6.6341 s\n"
     ]
    },
    {
     "data": {
      "application/vnd.jupyter.widget-view+json": {
       "model_id": "",
       "version_major": 2,
       "version_minor": 0
      },
      "text/plain": [
       "HBox(children=(FloatProgress(value=0.0, description='Training', layout=Layout(flex='2'), max=282.0, style=Prog…"
      ]
     },
     "metadata": {},
     "output_type": "display_data"
    },
    {
     "name": "stdout",
     "output_type": "stream",
     "text": [
      "Epoch 71: train=22867.5, val=22599.5, took 6.5996 s\n"
     ]
    },
    {
     "data": {
      "application/vnd.jupyter.widget-view+json": {
       "model_id": "",
       "version_major": 2,
       "version_minor": 0
      },
      "text/plain": [
       "HBox(children=(FloatProgress(value=0.0, description='Training', layout=Layout(flex='2'), max=282.0, style=Prog…"
      ]
     },
     "metadata": {},
     "output_type": "display_data"
    },
    {
     "name": "stdout",
     "output_type": "stream",
     "text": [
      "Epoch 72: train=22852.0, val=22582.5, took 6.583 s\n"
     ]
    },
    {
     "data": {
      "application/vnd.jupyter.widget-view+json": {
       "model_id": "",
       "version_major": 2,
       "version_minor": 0
      },
      "text/plain": [
       "HBox(children=(FloatProgress(value=0.0, description='Training', layout=Layout(flex='2'), max=282.0, style=Prog…"
      ]
     },
     "metadata": {},
     "output_type": "display_data"
    },
    {
     "name": "stdout",
     "output_type": "stream",
     "text": [
      "Epoch 73: train=22834.7, val=22563.7, took 6.5936 s\n"
     ]
    },
    {
     "data": {
      "application/vnd.jupyter.widget-view+json": {
       "model_id": "",
       "version_major": 2,
       "version_minor": 0
      },
      "text/plain": [
       "HBox(children=(FloatProgress(value=0.0, description='Training', layout=Layout(flex='2'), max=282.0, style=Prog…"
      ]
     },
     "metadata": {},
     "output_type": "display_data"
    },
    {
     "name": "stdout",
     "output_type": "stream",
     "text": [
      "Epoch 74: train=22817.9, val=22552.4, took 6.6094 s\n"
     ]
    },
    {
     "data": {
      "application/vnd.jupyter.widget-view+json": {
       "model_id": "",
       "version_major": 2,
       "version_minor": 0
      },
      "text/plain": [
       "HBox(children=(FloatProgress(value=0.0, description='Training', layout=Layout(flex='2'), max=282.0, style=Prog…"
      ]
     },
     "metadata": {},
     "output_type": "display_data"
    },
    {
     "name": "stdout",
     "output_type": "stream",
     "text": [
      "Epoch 75: train=22802.3, val=22539.1, took 6.618 s\n"
     ]
    },
    {
     "data": {
      "application/vnd.jupyter.widget-view+json": {
       "model_id": "",
       "version_major": 2,
       "version_minor": 0
      },
      "text/plain": [
       "HBox(children=(FloatProgress(value=0.0, description='Training', layout=Layout(flex='2'), max=282.0, style=Prog…"
      ]
     },
     "metadata": {},
     "output_type": "display_data"
    },
    {
     "name": "stdout",
     "output_type": "stream",
     "text": [
      "Epoch 76: train=22785.7, val=22519.5, took 6.6636 s\n"
     ]
    },
    {
     "data": {
      "application/vnd.jupyter.widget-view+json": {
       "model_id": "",
       "version_major": 2,
       "version_minor": 0
      },
      "text/plain": [
       "HBox(children=(FloatProgress(value=0.0, description='Training', layout=Layout(flex='2'), max=282.0, style=Prog…"
      ]
     },
     "metadata": {},
     "output_type": "display_data"
    },
    {
     "name": "stdout",
     "output_type": "stream",
     "text": [
      "Epoch 77: train=22767.7, val=22503.9, took 6.5903 s\n"
     ]
    },
    {
     "data": {
      "application/vnd.jupyter.widget-view+json": {
       "model_id": "",
       "version_major": 2,
       "version_minor": 0
      },
      "text/plain": [
       "HBox(children=(FloatProgress(value=0.0, description='Training', layout=Layout(flex='2'), max=282.0, style=Prog…"
      ]
     },
     "metadata": {},
     "output_type": "display_data"
    },
    {
     "name": "stdout",
     "output_type": "stream",
     "text": [
      "Epoch 78: train=22752.4, val=22486.8, took 6.564 s\n"
     ]
    },
    {
     "data": {
      "application/vnd.jupyter.widget-view+json": {
       "model_id": "",
       "version_major": 2,
       "version_minor": 0
      },
      "text/plain": [
       "HBox(children=(FloatProgress(value=0.0, description='Training', layout=Layout(flex='2'), max=282.0, style=Prog…"
      ]
     },
     "metadata": {},
     "output_type": "display_data"
    },
    {
     "name": "stdout",
     "output_type": "stream",
     "text": [
      "Epoch 79: train=22734.6, val=22473.9, took 6.5992 s\n"
     ]
    },
    {
     "data": {
      "application/vnd.jupyter.widget-view+json": {
       "model_id": "",
       "version_major": 2,
       "version_minor": 0
      },
      "text/plain": [
       "HBox(children=(FloatProgress(value=0.0, description='Training', layout=Layout(flex='2'), max=282.0, style=Prog…"
      ]
     },
     "metadata": {},
     "output_type": "display_data"
    },
    {
     "name": "stdout",
     "output_type": "stream",
     "text": [
      "Epoch 80: train=22718.9, val=22456.9, took 6.5845 s\n"
     ]
    },
    {
     "data": {
      "application/vnd.jupyter.widget-view+json": {
       "model_id": "",
       "version_major": 2,
       "version_minor": 0
      },
      "text/plain": [
       "HBox(children=(FloatProgress(value=0.0, description='Training', layout=Layout(flex='2'), max=282.0, style=Prog…"
      ]
     },
     "metadata": {},
     "output_type": "display_data"
    },
    {
     "name": "stdout",
     "output_type": "stream",
     "text": [
      "Epoch 81: train=22701.7, val=22443.4, took 6.6102 s\n"
     ]
    },
    {
     "data": {
      "application/vnd.jupyter.widget-view+json": {
       "model_id": "",
       "version_major": 2,
       "version_minor": 0
      },
      "text/plain": [
       "HBox(children=(FloatProgress(value=0.0, description='Training', layout=Layout(flex='2'), max=282.0, style=Prog…"
      ]
     },
     "metadata": {},
     "output_type": "display_data"
    },
    {
     "name": "stdout",
     "output_type": "stream",
     "text": [
      "Epoch 82: train=22686.9, val=22430.9, took 6.5565 s\n"
     ]
    },
    {
     "data": {
      "application/vnd.jupyter.widget-view+json": {
       "model_id": "",
       "version_major": 2,
       "version_minor": 0
      },
      "text/plain": [
       "HBox(children=(FloatProgress(value=0.0, description='Training', layout=Layout(flex='2'), max=282.0, style=Prog…"
      ]
     },
     "metadata": {},
     "output_type": "display_data"
    },
    {
     "name": "stdout",
     "output_type": "stream",
     "text": [
      "Epoch 83: train=22671.4, val=22414.7, took 6.5953 s\n"
     ]
    },
    {
     "data": {
      "application/vnd.jupyter.widget-view+json": {
       "model_id": "",
       "version_major": 2,
       "version_minor": 0
      },
      "text/plain": [
       "HBox(children=(FloatProgress(value=0.0, description='Training', layout=Layout(flex='2'), max=282.0, style=Prog…"
      ]
     },
     "metadata": {},
     "output_type": "display_data"
    },
    {
     "name": "stdout",
     "output_type": "stream",
     "text": [
      "Epoch 84: train=22655.4, val=22397.9, took 6.645 s\n"
     ]
    },
    {
     "data": {
      "application/vnd.jupyter.widget-view+json": {
       "model_id": "",
       "version_major": 2,
       "version_minor": 0
      },
      "text/plain": [
       "HBox(children=(FloatProgress(value=0.0, description='Training', layout=Layout(flex='2'), max=282.0, style=Prog…"
      ]
     },
     "metadata": {},
     "output_type": "display_data"
    },
    {
     "name": "stdout",
     "output_type": "stream",
     "text": [
      "Epoch 85: train=22638.7, val=22388.2, took 6.5674 s\n"
     ]
    },
    {
     "data": {
      "application/vnd.jupyter.widget-view+json": {
       "model_id": "",
       "version_major": 2,
       "version_minor": 0
      },
      "text/plain": [
       "HBox(children=(FloatProgress(value=0.0, description='Training', layout=Layout(flex='2'), max=282.0, style=Prog…"
      ]
     },
     "metadata": {},
     "output_type": "display_data"
    },
    {
     "name": "stdout",
     "output_type": "stream",
     "text": [
      "Epoch 86: train=22625.0, val=22376.0, took 6.6008 s\n"
     ]
    },
    {
     "data": {
      "application/vnd.jupyter.widget-view+json": {
       "model_id": "",
       "version_major": 2,
       "version_minor": 0
      },
      "text/plain": [
       "HBox(children=(FloatProgress(value=0.0, description='Training', layout=Layout(flex='2'), max=282.0, style=Prog…"
      ]
     },
     "metadata": {},
     "output_type": "display_data"
    },
    {
     "name": "stdout",
     "output_type": "stream",
     "text": [
      "Epoch 87: train=22609.2, val=22360.5, took 6.5893 s\n"
     ]
    },
    {
     "data": {
      "application/vnd.jupyter.widget-view+json": {
       "model_id": "",
       "version_major": 2,
       "version_minor": 0
      },
      "text/plain": [
       "HBox(children=(FloatProgress(value=0.0, description='Training', layout=Layout(flex='2'), max=282.0, style=Prog…"
      ]
     },
     "metadata": {},
     "output_type": "display_data"
    },
    {
     "name": "stdout",
     "output_type": "stream",
     "text": [
      "Epoch 88: train=22594.3, val=22344.0, took 6.5904 s\n"
     ]
    },
    {
     "data": {
      "application/vnd.jupyter.widget-view+json": {
       "model_id": "",
       "version_major": 2,
       "version_minor": 0
      },
      "text/plain": [
       "HBox(children=(FloatProgress(value=0.0, description='Training', layout=Layout(flex='2'), max=282.0, style=Prog…"
      ]
     },
     "metadata": {},
     "output_type": "display_data"
    },
    {
     "name": "stdout",
     "output_type": "stream",
     "text": [
      "Epoch 89: train=22577.6, val=22331.4, took 6.5737 s\n"
     ]
    },
    {
     "data": {
      "application/vnd.jupyter.widget-view+json": {
       "model_id": "",
       "version_major": 2,
       "version_minor": 0
      },
      "text/plain": [
       "HBox(children=(FloatProgress(value=0.0, description='Training', layout=Layout(flex='2'), max=282.0, style=Prog…"
      ]
     },
     "metadata": {},
     "output_type": "display_data"
    },
    {
     "name": "stdout",
     "output_type": "stream",
     "text": [
      "Epoch 90: train=22563.7, val=22317.6, took 6.5684 s\n"
     ]
    },
    {
     "data": {
      "application/vnd.jupyter.widget-view+json": {
       "model_id": "",
       "version_major": 2,
       "version_minor": 0
      },
      "text/plain": [
       "HBox(children=(FloatProgress(value=0.0, description='Training', layout=Layout(flex='2'), max=282.0, style=Prog…"
      ]
     },
     "metadata": {},
     "output_type": "display_data"
    },
    {
     "name": "stdout",
     "output_type": "stream",
     "text": [
      "Epoch 91: train=22549.4, val=22301.8, took 6.5881 s\n"
     ]
    },
    {
     "data": {
      "application/vnd.jupyter.widget-view+json": {
       "model_id": "",
       "version_major": 2,
       "version_minor": 0
      },
      "text/plain": [
       "HBox(children=(FloatProgress(value=0.0, description='Training', layout=Layout(flex='2'), max=282.0, style=Prog…"
      ]
     },
     "metadata": {},
     "output_type": "display_data"
    },
    {
     "name": "stdout",
     "output_type": "stream",
     "text": [
      "Epoch 92: train=22533.2, val=22283.3, took 6.6489 s\n"
     ]
    },
    {
     "data": {
      "application/vnd.jupyter.widget-view+json": {
       "model_id": "",
       "version_major": 2,
       "version_minor": 0
      },
      "text/plain": [
       "HBox(children=(FloatProgress(value=0.0, description='Training', layout=Layout(flex='2'), max=282.0, style=Prog…"
      ]
     },
     "metadata": {},
     "output_type": "display_data"
    },
    {
     "name": "stdout",
     "output_type": "stream",
     "text": [
      "Epoch 93: train=22519.1, val=22271.4, took 6.6363 s\n"
     ]
    },
    {
     "data": {
      "application/vnd.jupyter.widget-view+json": {
       "model_id": "",
       "version_major": 2,
       "version_minor": 0
      },
      "text/plain": [
       "HBox(children=(FloatProgress(value=0.0, description='Training', layout=Layout(flex='2'), max=282.0, style=Prog…"
      ]
     },
     "metadata": {},
     "output_type": "display_data"
    },
    {
     "name": "stdout",
     "output_type": "stream",
     "text": [
      "Epoch 94: train=22505.4, val=22259.0, took 6.5788 s\n"
     ]
    },
    {
     "data": {
      "application/vnd.jupyter.widget-view+json": {
       "model_id": "",
       "version_major": 2,
       "version_minor": 0
      },
      "text/plain": [
       "HBox(children=(FloatProgress(value=0.0, description='Training', layout=Layout(flex='2'), max=282.0, style=Prog…"
      ]
     },
     "metadata": {},
     "output_type": "display_data"
    },
    {
     "name": "stdout",
     "output_type": "stream",
     "text": [
      "Epoch 95: train=22490.7, val=22244.8, took 6.5855 s\n"
     ]
    },
    {
     "data": {
      "application/vnd.jupyter.widget-view+json": {
       "model_id": "",
       "version_major": 2,
       "version_minor": 0
      },
      "text/plain": [
       "HBox(children=(FloatProgress(value=0.0, description='Training', layout=Layout(flex='2'), max=282.0, style=Prog…"
      ]
     },
     "metadata": {},
     "output_type": "display_data"
    },
    {
     "name": "stdout",
     "output_type": "stream",
     "text": [
      "Epoch 96: train=22476.3, val=22233.0, took 6.626 s\n"
     ]
    },
    {
     "data": {
      "application/vnd.jupyter.widget-view+json": {
       "model_id": "",
       "version_major": 2,
       "version_minor": 0
      },
      "text/plain": [
       "HBox(children=(FloatProgress(value=0.0, description='Training', layout=Layout(flex='2'), max=282.0, style=Prog…"
      ]
     },
     "metadata": {},
     "output_type": "display_data"
    },
    {
     "name": "stdout",
     "output_type": "stream",
     "text": [
      "Epoch 97: train=22460.5, val=22219.6, took 6.6162 s\n"
     ]
    },
    {
     "data": {
      "application/vnd.jupyter.widget-view+json": {
       "model_id": "",
       "version_major": 2,
       "version_minor": 0
      },
      "text/plain": [
       "HBox(children=(FloatProgress(value=0.0, description='Training', layout=Layout(flex='2'), max=282.0, style=Prog…"
      ]
     },
     "metadata": {},
     "output_type": "display_data"
    },
    {
     "name": "stdout",
     "output_type": "stream",
     "text": [
      "Epoch 98: train=22447.7, val=22205.6, took 6.5814 s\n"
     ]
    },
    {
     "data": {
      "application/vnd.jupyter.widget-view+json": {
       "model_id": "",
       "version_major": 2,
       "version_minor": 0
      },
      "text/plain": [
       "HBox(children=(FloatProgress(value=0.0, description='Training', layout=Layout(flex='2'), max=282.0, style=Prog…"
      ]
     },
     "metadata": {},
     "output_type": "display_data"
    },
    {
     "name": "stdout",
     "output_type": "stream",
     "text": [
      "Epoch 99: train=22433.0, val=22193.0, took 6.5754 s\n"
     ]
    },
    {
     "data": {
      "application/vnd.jupyter.widget-view+json": {
       "model_id": "",
       "version_major": 2,
       "version_minor": 0
      },
      "text/plain": [
       "HBox(children=(FloatProgress(value=0.0, description='Training', layout=Layout(flex='2'), max=282.0, style=Prog…"
      ]
     },
     "metadata": {},
     "output_type": "display_data"
    },
    {
     "name": "stdout",
     "output_type": "stream",
     "text": [
      "Epoch 100: train=22419.0, val=22178.5, took 6.5936 s\n"
     ]
    },
    {
     "data": {
      "application/vnd.jupyter.widget-view+json": {
       "model_id": "",
       "version_major": 2,
       "version_minor": 0
      },
      "text/plain": [
       "HBox(children=(FloatProgress(value=0.0, description='Training', layout=Layout(flex='2'), max=282.0, style=Prog…"
      ]
     },
     "metadata": {},
     "output_type": "display_data"
    },
    {
     "name": "stdout",
     "output_type": "stream",
     "text": [
      "Epoch 101: train=22405.8, val=22167.2, took 6.6073 s\n"
     ]
    },
    {
     "data": {
      "application/vnd.jupyter.widget-view+json": {
       "model_id": "",
       "version_major": 2,
       "version_minor": 0
      },
      "text/plain": [
       "HBox(children=(FloatProgress(value=0.0, description='Training', layout=Layout(flex='2'), max=282.0, style=Prog…"
      ]
     },
     "metadata": {},
     "output_type": "display_data"
    },
    {
     "name": "stdout",
     "output_type": "stream",
     "text": [
      "Epoch 102: train=22392.3, val=22153.1, took 6.5908 s\n"
     ]
    },
    {
     "data": {
      "application/vnd.jupyter.widget-view+json": {
       "model_id": "",
       "version_major": 2,
       "version_minor": 0
      },
      "text/plain": [
       "HBox(children=(FloatProgress(value=0.0, description='Training', layout=Layout(flex='2'), max=282.0, style=Prog…"
      ]
     },
     "metadata": {},
     "output_type": "display_data"
    },
    {
     "name": "stdout",
     "output_type": "stream",
     "text": [
      "Epoch 103: train=22379.2, val=22139.9, took 6.5882 s\n"
     ]
    },
    {
     "data": {
      "application/vnd.jupyter.widget-view+json": {
       "model_id": "",
       "version_major": 2,
       "version_minor": 0
      },
      "text/plain": [
       "HBox(children=(FloatProgress(value=0.0, description='Training', layout=Layout(flex='2'), max=282.0, style=Prog…"
      ]
     },
     "metadata": {},
     "output_type": "display_data"
    },
    {
     "name": "stdout",
     "output_type": "stream",
     "text": [
      "Epoch 104: train=22365.3, val=22127.9, took 6.5625 s\n"
     ]
    },
    {
     "data": {
      "application/vnd.jupyter.widget-view+json": {
       "model_id": "",
       "version_major": 2,
       "version_minor": 0
      },
      "text/plain": [
       "HBox(children=(FloatProgress(value=0.0, description='Training', layout=Layout(flex='2'), max=282.0, style=Prog…"
      ]
     },
     "metadata": {},
     "output_type": "display_data"
    },
    {
     "name": "stdout",
     "output_type": "stream",
     "text": [
      "Epoch 105: train=22351.7, val=22114.7, took 6.5533 s\n"
     ]
    },
    {
     "data": {
      "application/vnd.jupyter.widget-view+json": {
       "model_id": "",
       "version_major": 2,
       "version_minor": 0
      },
      "text/plain": [
       "HBox(children=(FloatProgress(value=0.0, description='Training', layout=Layout(flex='2'), max=282.0, style=Prog…"
      ]
     },
     "metadata": {},
     "output_type": "display_data"
    },
    {
     "name": "stdout",
     "output_type": "stream",
     "text": [
      "Epoch 106: train=22336.6, val=22101.9, took 6.5679 s\n"
     ]
    },
    {
     "data": {
      "application/vnd.jupyter.widget-view+json": {
       "model_id": "",
       "version_major": 2,
       "version_minor": 0
      },
      "text/plain": [
       "HBox(children=(FloatProgress(value=0.0, description='Training', layout=Layout(flex='2'), max=282.0, style=Prog…"
      ]
     },
     "metadata": {},
     "output_type": "display_data"
    },
    {
     "name": "stdout",
     "output_type": "stream",
     "text": [
      "Epoch 107: train=22324.6, val=22091.1, took 6.632 s\n"
     ]
    },
    {
     "data": {
      "application/vnd.jupyter.widget-view+json": {
       "model_id": "",
       "version_major": 2,
       "version_minor": 0
      },
      "text/plain": [
       "HBox(children=(FloatProgress(value=0.0, description='Training', layout=Layout(flex='2'), max=282.0, style=Prog…"
      ]
     },
     "metadata": {},
     "output_type": "display_data"
    },
    {
     "name": "stdout",
     "output_type": "stream",
     "text": [
      "Epoch 108: train=22310.4, val=22075.3, took 6.6261 s\n"
     ]
    },
    {
     "data": {
      "application/vnd.jupyter.widget-view+json": {
       "model_id": "",
       "version_major": 2,
       "version_minor": 0
      },
      "text/plain": [
       "HBox(children=(FloatProgress(value=0.0, description='Training', layout=Layout(flex='2'), max=282.0, style=Prog…"
      ]
     },
     "metadata": {},
     "output_type": "display_data"
    },
    {
     "name": "stdout",
     "output_type": "stream",
     "text": [
      "Epoch 109: train=22297.7, val=22065.9, took 6.5835 s\n"
     ]
    },
    {
     "data": {
      "application/vnd.jupyter.widget-view+json": {
       "model_id": "",
       "version_major": 2,
       "version_minor": 0
      },
      "text/plain": [
       "HBox(children=(FloatProgress(value=0.0, description='Training', layout=Layout(flex='2'), max=282.0, style=Prog…"
      ]
     },
     "metadata": {},
     "output_type": "display_data"
    },
    {
     "name": "stdout",
     "output_type": "stream",
     "text": [
      "Epoch 110: train=22284.8, val=22055.3, took 6.6373 s\n"
     ]
    },
    {
     "data": {
      "application/vnd.jupyter.widget-view+json": {
       "model_id": "",
       "version_major": 2,
       "version_minor": 0
      },
      "text/plain": [
       "HBox(children=(FloatProgress(value=0.0, description='Training', layout=Layout(flex='2'), max=282.0, style=Prog…"
      ]
     },
     "metadata": {},
     "output_type": "display_data"
    },
    {
     "name": "stdout",
     "output_type": "stream",
     "text": [
      "Epoch 111: train=22272.5, val=22041.6, took 6.6081 s\n"
     ]
    },
    {
     "data": {
      "application/vnd.jupyter.widget-view+json": {
       "model_id": "",
       "version_major": 2,
       "version_minor": 0
      },
      "text/plain": [
       "HBox(children=(FloatProgress(value=0.0, description='Training', layout=Layout(flex='2'), max=282.0, style=Prog…"
      ]
     },
     "metadata": {},
     "output_type": "display_data"
    },
    {
     "name": "stdout",
     "output_type": "stream",
     "text": [
      "Epoch 112: train=22258.8, val=22030.2, took 6.5874 s\n"
     ]
    },
    {
     "data": {
      "application/vnd.jupyter.widget-view+json": {
       "model_id": "",
       "version_major": 2,
       "version_minor": 0
      },
      "text/plain": [
       "HBox(children=(FloatProgress(value=0.0, description='Training', layout=Layout(flex='2'), max=282.0, style=Prog…"
      ]
     },
     "metadata": {},
     "output_type": "display_data"
    },
    {
     "name": "stdout",
     "output_type": "stream",
     "text": [
      "Epoch 113: train=22245.6, val=22019.4, took 6.6264 s\n"
     ]
    },
    {
     "data": {
      "application/vnd.jupyter.widget-view+json": {
       "model_id": "",
       "version_major": 2,
       "version_minor": 0
      },
      "text/plain": [
       "HBox(children=(FloatProgress(value=0.0, description='Training', layout=Layout(flex='2'), max=282.0, style=Prog…"
      ]
     },
     "metadata": {},
     "output_type": "display_data"
    },
    {
     "name": "stdout",
     "output_type": "stream",
     "text": [
      "Epoch 114: train=22233.5, val=22005.6, took 6.5696 s\n"
     ]
    },
    {
     "data": {
      "application/vnd.jupyter.widget-view+json": {
       "model_id": "",
       "version_major": 2,
       "version_minor": 0
      },
      "text/plain": [
       "HBox(children=(FloatProgress(value=0.0, description='Training', layout=Layout(flex='2'), max=282.0, style=Prog…"
      ]
     },
     "metadata": {},
     "output_type": "display_data"
    },
    {
     "name": "stdout",
     "output_type": "stream",
     "text": [
      "Epoch 115: train=22221.2, val=21997.2, took 6.5981 s\n"
     ]
    },
    {
     "data": {
      "application/vnd.jupyter.widget-view+json": {
       "model_id": "",
       "version_major": 2,
       "version_minor": 0
      },
      "text/plain": [
       "HBox(children=(FloatProgress(value=0.0, description='Training', layout=Layout(flex='2'), max=282.0, style=Prog…"
      ]
     },
     "metadata": {},
     "output_type": "display_data"
    },
    {
     "name": "stdout",
     "output_type": "stream",
     "text": [
      "Epoch 116: train=22209.2, val=21988.2, took 6.5901 s\n"
     ]
    },
    {
     "data": {
      "application/vnd.jupyter.widget-view+json": {
       "model_id": "",
       "version_major": 2,
       "version_minor": 0
      },
      "text/plain": [
       "HBox(children=(FloatProgress(value=0.0, description='Training', layout=Layout(flex='2'), max=282.0, style=Prog…"
      ]
     },
     "metadata": {},
     "output_type": "display_data"
    },
    {
     "name": "stdout",
     "output_type": "stream",
     "text": [
      "Epoch 117: train=22198.0, val=21975.5, took 6.568 s\n"
     ]
    },
    {
     "data": {
      "application/vnd.jupyter.widget-view+json": {
       "model_id": "",
       "version_major": 2,
       "version_minor": 0
      },
      "text/plain": [
       "HBox(children=(FloatProgress(value=0.0, description='Training', layout=Layout(flex='2'), max=282.0, style=Prog…"
      ]
     },
     "metadata": {},
     "output_type": "display_data"
    },
    {
     "name": "stdout",
     "output_type": "stream",
     "text": [
      "Epoch 118: train=22184.3, val=21964.2, took 6.5973 s\n"
     ]
    },
    {
     "data": {
      "application/vnd.jupyter.widget-view+json": {
       "model_id": "",
       "version_major": 2,
       "version_minor": 0
      },
      "text/plain": [
       "HBox(children=(FloatProgress(value=0.0, description='Training', layout=Layout(flex='2'), max=282.0, style=Prog…"
      ]
     },
     "metadata": {},
     "output_type": "display_data"
    },
    {
     "name": "stdout",
     "output_type": "stream",
     "text": [
      "Epoch 119: train=22173.6, val=21952.7, took 6.6009 s\n"
     ]
    },
    {
     "data": {
      "application/vnd.jupyter.widget-view+json": {
       "model_id": "",
       "version_major": 2,
       "version_minor": 0
      },
      "text/plain": [
       "HBox(children=(FloatProgress(value=0.0, description='Training', layout=Layout(flex='2'), max=282.0, style=Prog…"
      ]
     },
     "metadata": {},
     "output_type": "display_data"
    },
    {
     "name": "stdout",
     "output_type": "stream",
     "text": [
      "Epoch 120: train=22160.2, val=21941.1, took 6.6109 s\n"
     ]
    },
    {
     "data": {
      "application/vnd.jupyter.widget-view+json": {
       "model_id": "",
       "version_major": 2,
       "version_minor": 0
      },
      "text/plain": [
       "HBox(children=(FloatProgress(value=0.0, description='Training', layout=Layout(flex='2'), max=282.0, style=Prog…"
      ]
     },
     "metadata": {},
     "output_type": "display_data"
    },
    {
     "name": "stdout",
     "output_type": "stream",
     "text": [
      "Epoch 121: train=22148.5, val=21927.2, took 6.5593 s\n"
     ]
    },
    {
     "data": {
      "application/vnd.jupyter.widget-view+json": {
       "model_id": "",
       "version_major": 2,
       "version_minor": 0
      },
      "text/plain": [
       "HBox(children=(FloatProgress(value=0.0, description='Training', layout=Layout(flex='2'), max=282.0, style=Prog…"
      ]
     },
     "metadata": {},
     "output_type": "display_data"
    },
    {
     "name": "stdout",
     "output_type": "stream",
     "text": [
      "Epoch 122: train=22136.2, val=21918.5, took 6.573 s\n"
     ]
    },
    {
     "data": {
      "application/vnd.jupyter.widget-view+json": {
       "model_id": "",
       "version_major": 2,
       "version_minor": 0
      },
      "text/plain": [
       "HBox(children=(FloatProgress(value=0.0, description='Training', layout=Layout(flex='2'), max=282.0, style=Prog…"
      ]
     },
     "metadata": {},
     "output_type": "display_data"
    },
    {
     "name": "stdout",
     "output_type": "stream",
     "text": [
      "Epoch 123: train=22126.3, val=21907.5, took 6.6433 s\n"
     ]
    },
    {
     "data": {
      "application/vnd.jupyter.widget-view+json": {
       "model_id": "",
       "version_major": 2,
       "version_minor": 0
      },
      "text/plain": [
       "HBox(children=(FloatProgress(value=0.0, description='Training', layout=Layout(flex='2'), max=282.0, style=Prog…"
      ]
     },
     "metadata": {},
     "output_type": "display_data"
    },
    {
     "name": "stdout",
     "output_type": "stream",
     "text": [
      "Epoch 124: train=22114.7, val=21897.0, took 6.6269 s\n"
     ]
    },
    {
     "data": {
      "application/vnd.jupyter.widget-view+json": {
       "model_id": "",
       "version_major": 2,
       "version_minor": 0
      },
      "text/plain": [
       "HBox(children=(FloatProgress(value=0.0, description='Training', layout=Layout(flex='2'), max=282.0, style=Prog…"
      ]
     },
     "metadata": {},
     "output_type": "display_data"
    },
    {
     "name": "stdout",
     "output_type": "stream",
     "text": [
      "Epoch 125: train=22103.7, val=21885.0, took 6.59 s\n"
     ]
    },
    {
     "data": {
      "application/vnd.jupyter.widget-view+json": {
       "model_id": "",
       "version_major": 2,
       "version_minor": 0
      },
      "text/plain": [
       "HBox(children=(FloatProgress(value=0.0, description='Training', layout=Layout(flex='2'), max=282.0, style=Prog…"
      ]
     },
     "metadata": {},
     "output_type": "display_data"
    },
    {
     "name": "stdout",
     "output_type": "stream",
     "text": [
      "Epoch 126: train=22092.0, val=21873.4, took 6.5897 s\n"
     ]
    },
    {
     "data": {
      "application/vnd.jupyter.widget-view+json": {
       "model_id": "",
       "version_major": 2,
       "version_minor": 0
      },
      "text/plain": [
       "HBox(children=(FloatProgress(value=0.0, description='Training', layout=Layout(flex='2'), max=282.0, style=Prog…"
      ]
     },
     "metadata": {},
     "output_type": "display_data"
    },
    {
     "name": "stdout",
     "output_type": "stream",
     "text": [
      "Epoch 127: train=22080.9, val=21862.4, took 6.6343 s\n"
     ]
    },
    {
     "data": {
      "application/vnd.jupyter.widget-view+json": {
       "model_id": "",
       "version_major": 2,
       "version_minor": 0
      },
      "text/plain": [
       "HBox(children=(FloatProgress(value=0.0, description='Training', layout=Layout(flex='2'), max=282.0, style=Prog…"
      ]
     },
     "metadata": {},
     "output_type": "display_data"
    },
    {
     "name": "stdout",
     "output_type": "stream",
     "text": [
      "Epoch 128: train=22066.1, val=21850.9, took 6.6394 s\n"
     ]
    },
    {
     "data": {
      "application/vnd.jupyter.widget-view+json": {
       "model_id": "",
       "version_major": 2,
       "version_minor": 0
      },
      "text/plain": [
       "HBox(children=(FloatProgress(value=0.0, description='Training', layout=Layout(flex='2'), max=282.0, style=Prog…"
      ]
     },
     "metadata": {},
     "output_type": "display_data"
    },
    {
     "name": "stdout",
     "output_type": "stream",
     "text": [
      "Epoch 129: train=22055.7, val=21842.2, took 6.6192 s\n"
     ]
    },
    {
     "data": {
      "application/vnd.jupyter.widget-view+json": {
       "model_id": "",
       "version_major": 2,
       "version_minor": 0
      },
      "text/plain": [
       "HBox(children=(FloatProgress(value=0.0, description='Training', layout=Layout(flex='2'), max=282.0, style=Prog…"
      ]
     },
     "metadata": {},
     "output_type": "display_data"
    },
    {
     "name": "stdout",
     "output_type": "stream",
     "text": [
      "Epoch 130: train=22048.6, val=21831.5, took 6.5858 s\n"
     ]
    },
    {
     "data": {
      "application/vnd.jupyter.widget-view+json": {
       "model_id": "",
       "version_major": 2,
       "version_minor": 0
      },
      "text/plain": [
       "HBox(children=(FloatProgress(value=0.0, description='Training', layout=Layout(flex='2'), max=282.0, style=Prog…"
      ]
     },
     "metadata": {},
     "output_type": "display_data"
    },
    {
     "name": "stdout",
     "output_type": "stream",
     "text": [
      "Epoch 131: train=22036.9, val=21822.6, took 6.6306 s\n"
     ]
    },
    {
     "data": {
      "application/vnd.jupyter.widget-view+json": {
       "model_id": "",
       "version_major": 2,
       "version_minor": 0
      },
      "text/plain": [
       "HBox(children=(FloatProgress(value=0.0, description='Training', layout=Layout(flex='2'), max=282.0, style=Prog…"
      ]
     },
     "metadata": {},
     "output_type": "display_data"
    },
    {
     "name": "stdout",
     "output_type": "stream",
     "text": [
      "Epoch 132: train=22025.8, val=21809.3, took 6.613 s\n"
     ]
    },
    {
     "data": {
      "application/vnd.jupyter.widget-view+json": {
       "model_id": "",
       "version_major": 2,
       "version_minor": 0
      },
      "text/plain": [
       "HBox(children=(FloatProgress(value=0.0, description='Training', layout=Layout(flex='2'), max=282.0, style=Prog…"
      ]
     },
     "metadata": {},
     "output_type": "display_data"
    },
    {
     "name": "stdout",
     "output_type": "stream",
     "text": [
      "Epoch 133: train=22014.3, val=21809.3, took 6.6085 s\n"
     ]
    },
    {
     "data": {
      "application/vnd.jupyter.widget-view+json": {
       "model_id": "",
       "version_major": 2,
       "version_minor": 0
      },
      "text/plain": [
       "HBox(children=(FloatProgress(value=0.0, description='Training', layout=Layout(flex='2'), max=282.0, style=Prog…"
      ]
     },
     "metadata": {},
     "output_type": "display_data"
    },
    {
     "name": "stdout",
     "output_type": "stream",
     "text": [
      "Epoch 134: train=22004.4, val=21788.3, took 6.6026 s\n"
     ]
    },
    {
     "data": {
      "application/vnd.jupyter.widget-view+json": {
       "model_id": "",
       "version_major": 2,
       "version_minor": 0
      },
      "text/plain": [
       "HBox(children=(FloatProgress(value=0.0, description='Training', layout=Layout(flex='2'), max=282.0, style=Prog…"
      ]
     },
     "metadata": {},
     "output_type": "display_data"
    },
    {
     "name": "stdout",
     "output_type": "stream",
     "text": [
      "Epoch 135: train=21992.8, val=21779.2, took 6.5713 s\n"
     ]
    },
    {
     "data": {
      "application/vnd.jupyter.widget-view+json": {
       "model_id": "",
       "version_major": 2,
       "version_minor": 0
      },
      "text/plain": [
       "HBox(children=(FloatProgress(value=0.0, description='Training', layout=Layout(flex='2'), max=282.0, style=Prog…"
      ]
     },
     "metadata": {},
     "output_type": "display_data"
    },
    {
     "name": "stdout",
     "output_type": "stream",
     "text": [
      "Epoch 136: train=21983.4, val=21770.5, took 6.5691 s\n"
     ]
    },
    {
     "data": {
      "application/vnd.jupyter.widget-view+json": {
       "model_id": "",
       "version_major": 2,
       "version_minor": 0
      },
      "text/plain": [
       "HBox(children=(FloatProgress(value=0.0, description='Training', layout=Layout(flex='2'), max=282.0, style=Prog…"
      ]
     },
     "metadata": {},
     "output_type": "display_data"
    },
    {
     "name": "stdout",
     "output_type": "stream",
     "text": [
      "Epoch 137: train=21972.1, val=21756.8, took 6.582 s\n"
     ]
    },
    {
     "data": {
      "application/vnd.jupyter.widget-view+json": {
       "model_id": "",
       "version_major": 2,
       "version_minor": 0
      },
      "text/plain": [
       "HBox(children=(FloatProgress(value=0.0, description='Training', layout=Layout(flex='2'), max=282.0, style=Prog…"
      ]
     },
     "metadata": {},
     "output_type": "display_data"
    },
    {
     "name": "stdout",
     "output_type": "stream",
     "text": [
      "Epoch 138: train=21962.2, val=21752.5, took 6.5985 s\n"
     ]
    },
    {
     "data": {
      "application/vnd.jupyter.widget-view+json": {
       "model_id": "",
       "version_major": 2,
       "version_minor": 0
      },
      "text/plain": [
       "HBox(children=(FloatProgress(value=0.0, description='Training', layout=Layout(flex='2'), max=282.0, style=Prog…"
      ]
     },
     "metadata": {},
     "output_type": "display_data"
    },
    {
     "name": "stdout",
     "output_type": "stream",
     "text": [
      "Epoch 139: train=21952.5, val=21738.7, took 6.612 s\n"
     ]
    },
    {
     "data": {
      "application/vnd.jupyter.widget-view+json": {
       "model_id": "",
       "version_major": 2,
       "version_minor": 0
      },
      "text/plain": [
       "HBox(children=(FloatProgress(value=0.0, description='Training', layout=Layout(flex='2'), max=282.0, style=Prog…"
      ]
     },
     "metadata": {},
     "output_type": "display_data"
    },
    {
     "name": "stdout",
     "output_type": "stream",
     "text": [
      "Epoch 140: train=21941.2, val=21727.8, took 6.6463 s\n"
     ]
    },
    {
     "data": {
      "application/vnd.jupyter.widget-view+json": {
       "model_id": "",
       "version_major": 2,
       "version_minor": 0
      },
      "text/plain": [
       "HBox(children=(FloatProgress(value=0.0, description='Training', layout=Layout(flex='2'), max=282.0, style=Prog…"
      ]
     },
     "metadata": {},
     "output_type": "display_data"
    },
    {
     "name": "stdout",
     "output_type": "stream",
     "text": [
      "Epoch 141: train=21929.5, val=21716.7, took 6.6286 s\n"
     ]
    },
    {
     "data": {
      "application/vnd.jupyter.widget-view+json": {
       "model_id": "",
       "version_major": 2,
       "version_minor": 0
      },
      "text/plain": [
       "HBox(children=(FloatProgress(value=0.0, description='Training', layout=Layout(flex='2'), max=282.0, style=Prog…"
      ]
     },
     "metadata": {},
     "output_type": "display_data"
    },
    {
     "name": "stdout",
     "output_type": "stream",
     "text": [
      "Epoch 142: train=21920.1, val=21709.4, took 6.5962 s\n"
     ]
    },
    {
     "data": {
      "application/vnd.jupyter.widget-view+json": {
       "model_id": "",
       "version_major": 2,
       "version_minor": 0
      },
      "text/plain": [
       "HBox(children=(FloatProgress(value=0.0, description='Training', layout=Layout(flex='2'), max=282.0, style=Prog…"
      ]
     },
     "metadata": {},
     "output_type": "display_data"
    },
    {
     "name": "stdout",
     "output_type": "stream",
     "text": [
      "Epoch 143: train=21909.7, val=21692.8, took 6.5549 s\n"
     ]
    },
    {
     "data": {
      "application/vnd.jupyter.widget-view+json": {
       "model_id": "",
       "version_major": 2,
       "version_minor": 0
      },
      "text/plain": [
       "HBox(children=(FloatProgress(value=0.0, description='Training', layout=Layout(flex='2'), max=282.0, style=Prog…"
      ]
     },
     "metadata": {},
     "output_type": "display_data"
    },
    {
     "name": "stdout",
     "output_type": "stream",
     "text": [
      "Epoch 144: train=21897.2, val=21688.7, took 6.5886 s\n"
     ]
    },
    {
     "data": {
      "application/vnd.jupyter.widget-view+json": {
       "model_id": "",
       "version_major": 2,
       "version_minor": 0
      },
      "text/plain": [
       "HBox(children=(FloatProgress(value=0.0, description='Training', layout=Layout(flex='2'), max=282.0, style=Prog…"
      ]
     },
     "metadata": {},
     "output_type": "display_data"
    },
    {
     "name": "stdout",
     "output_type": "stream",
     "text": [
      "Epoch 145: train=21887.4, val=21681.6, took 6.5839 s\n"
     ]
    },
    {
     "data": {
      "application/vnd.jupyter.widget-view+json": {
       "model_id": "",
       "version_major": 2,
       "version_minor": 0
      },
      "text/plain": [
       "HBox(children=(FloatProgress(value=0.0, description='Training', layout=Layout(flex='2'), max=282.0, style=Prog…"
      ]
     },
     "metadata": {},
     "output_type": "display_data"
    },
    {
     "name": "stdout",
     "output_type": "stream",
     "text": [
      "Epoch 146: train=21879.2, val=21670.7, took 6.5878 s\n"
     ]
    },
    {
     "data": {
      "application/vnd.jupyter.widget-view+json": {
       "model_id": "",
       "version_major": 2,
       "version_minor": 0
      },
      "text/plain": [
       "HBox(children=(FloatProgress(value=0.0, description='Training', layout=Layout(flex='2'), max=282.0, style=Prog…"
      ]
     },
     "metadata": {},
     "output_type": "display_data"
    },
    {
     "name": "stdout",
     "output_type": "stream",
     "text": [
      "Epoch 147: train=21870.1, val=21665.8, took 6.6386 s\n"
     ]
    },
    {
     "data": {
      "application/vnd.jupyter.widget-view+json": {
       "model_id": "",
       "version_major": 2,
       "version_minor": 0
      },
      "text/plain": [
       "HBox(children=(FloatProgress(value=0.0, description='Training', layout=Layout(flex='2'), max=282.0, style=Prog…"
      ]
     },
     "metadata": {},
     "output_type": "display_data"
    },
    {
     "name": "stdout",
     "output_type": "stream",
     "text": [
      "Epoch 148: train=21859.8, val=21658.1, took 6.5662 s\n"
     ]
    },
    {
     "data": {
      "application/vnd.jupyter.widget-view+json": {
       "model_id": "",
       "version_major": 2,
       "version_minor": 0
      },
      "text/plain": [
       "HBox(children=(FloatProgress(value=0.0, description='Training', layout=Layout(flex='2'), max=282.0, style=Prog…"
      ]
     },
     "metadata": {},
     "output_type": "display_data"
    },
    {
     "name": "stdout",
     "output_type": "stream",
     "text": [
      "Epoch 149: train=21849.6, val=21644.4, took 6.5656 s\n"
     ]
    },
    {
     "data": {
      "application/vnd.jupyter.widget-view+json": {
       "model_id": "",
       "version_major": 2,
       "version_minor": 0
      },
      "text/plain": [
       "HBox(children=(FloatProgress(value=0.0, description='Training', layout=Layout(flex='2'), max=282.0, style=Prog…"
      ]
     },
     "metadata": {},
     "output_type": "display_data"
    },
    {
     "name": "stdout",
     "output_type": "stream",
     "text": [
      "Epoch 150: train=21841.0, val=21636.5, took 6.5782 s\n"
     ]
    },
    {
     "data": {
      "application/vnd.jupyter.widget-view+json": {
       "model_id": "",
       "version_major": 2,
       "version_minor": 0
      },
      "text/plain": [
       "HBox(children=(FloatProgress(value=0.0, description='Training', layout=Layout(flex='2'), max=282.0, style=Prog…"
      ]
     },
     "metadata": {},
     "output_type": "display_data"
    },
    {
     "name": "stdout",
     "output_type": "stream",
     "text": [
      "Epoch 151: train=21831.4, val=21625.0, took 6.6695 s\n"
     ]
    },
    {
     "data": {
      "application/vnd.jupyter.widget-view+json": {
       "model_id": "",
       "version_major": 2,
       "version_minor": 0
      },
      "text/plain": [
       "HBox(children=(FloatProgress(value=0.0, description='Training', layout=Layout(flex='2'), max=282.0, style=Prog…"
      ]
     },
     "metadata": {},
     "output_type": "display_data"
    },
    {
     "name": "stdout",
     "output_type": "stream",
     "text": [
      "Epoch 152: train=21821.4, val=21614.8, took 6.5824 s\n"
     ]
    },
    {
     "data": {
      "application/vnd.jupyter.widget-view+json": {
       "model_id": "",
       "version_major": 2,
       "version_minor": 0
      },
      "text/plain": [
       "HBox(children=(FloatProgress(value=0.0, description='Training', layout=Layout(flex='2'), max=282.0, style=Prog…"
      ]
     },
     "metadata": {},
     "output_type": "display_data"
    },
    {
     "name": "stdout",
     "output_type": "stream",
     "text": [
      "Epoch 153: train=21811.0, val=21604.4, took 6.5913 s\n"
     ]
    },
    {
     "data": {
      "application/vnd.jupyter.widget-view+json": {
       "model_id": "",
       "version_major": 2,
       "version_minor": 0
      },
      "text/plain": [
       "HBox(children=(FloatProgress(value=0.0, description='Training', layout=Layout(flex='2'), max=282.0, style=Prog…"
      ]
     },
     "metadata": {},
     "output_type": "display_data"
    },
    {
     "name": "stdout",
     "output_type": "stream",
     "text": [
      "Epoch 154: train=21799.7, val=21594.1, took 6.612 s\n"
     ]
    },
    {
     "data": {
      "application/vnd.jupyter.widget-view+json": {
       "model_id": "",
       "version_major": 2,
       "version_minor": 0
      },
      "text/plain": [
       "HBox(children=(FloatProgress(value=0.0, description='Training', layout=Layout(flex='2'), max=282.0, style=Prog…"
      ]
     },
     "metadata": {},
     "output_type": "display_data"
    },
    {
     "name": "stdout",
     "output_type": "stream",
     "text": [
      "Epoch 155: train=21789.8, val=21586.9, took 6.5792 s\n"
     ]
    },
    {
     "data": {
      "application/vnd.jupyter.widget-view+json": {
       "model_id": "",
       "version_major": 2,
       "version_minor": 0
      },
      "text/plain": [
       "HBox(children=(FloatProgress(value=0.0, description='Training', layout=Layout(flex='2'), max=282.0, style=Prog…"
      ]
     },
     "metadata": {},
     "output_type": "display_data"
    },
    {
     "name": "stdout",
     "output_type": "stream",
     "text": [
      "Epoch 156: train=21781.9, val=21578.4, took 6.6036 s\n"
     ]
    },
    {
     "data": {
      "application/vnd.jupyter.widget-view+json": {
       "model_id": "",
       "version_major": 2,
       "version_minor": 0
      },
      "text/plain": [
       "HBox(children=(FloatProgress(value=0.0, description='Training', layout=Layout(flex='2'), max=282.0, style=Prog…"
      ]
     },
     "metadata": {},
     "output_type": "display_data"
    },
    {
     "name": "stdout",
     "output_type": "stream",
     "text": [
      "Epoch 157: train=21773.6, val=21571.9, took 6.5781 s\n"
     ]
    },
    {
     "data": {
      "application/vnd.jupyter.widget-view+json": {
       "model_id": "",
       "version_major": 2,
       "version_minor": 0
      },
      "text/plain": [
       "HBox(children=(FloatProgress(value=0.0, description='Training', layout=Layout(flex='2'), max=282.0, style=Prog…"
      ]
     },
     "metadata": {},
     "output_type": "display_data"
    },
    {
     "name": "stdout",
     "output_type": "stream",
     "text": [
      "Epoch 158: train=21763.6, val=21559.3, took 6.57 s\n"
     ]
    },
    {
     "data": {
      "application/vnd.jupyter.widget-view+json": {
       "model_id": "",
       "version_major": 2,
       "version_minor": 0
      },
      "text/plain": [
       "HBox(children=(FloatProgress(value=0.0, description='Training', layout=Layout(flex='2'), max=282.0, style=Prog…"
      ]
     },
     "metadata": {},
     "output_type": "display_data"
    },
    {
     "name": "stdout",
     "output_type": "stream",
     "text": [
      "Epoch 159: train=21753.2, val=21557.5, took 6.5704 s\n"
     ]
    },
    {
     "data": {
      "application/vnd.jupyter.widget-view+json": {
       "model_id": "",
       "version_major": 2,
       "version_minor": 0
      },
      "text/plain": [
       "HBox(children=(FloatProgress(value=0.0, description='Training', layout=Layout(flex='2'), max=282.0, style=Prog…"
      ]
     },
     "metadata": {},
     "output_type": "display_data"
    },
    {
     "name": "stdout",
     "output_type": "stream",
     "text": [
      "Epoch 160: train=21746.4, val=21547.1, took 6.5749 s\n"
     ]
    },
    {
     "data": {
      "application/vnd.jupyter.widget-view+json": {
       "model_id": "",
       "version_major": 2,
       "version_minor": 0
      },
      "text/plain": [
       "HBox(children=(FloatProgress(value=0.0, description='Training', layout=Layout(flex='2'), max=282.0, style=Prog…"
      ]
     },
     "metadata": {},
     "output_type": "display_data"
    },
    {
     "name": "stdout",
     "output_type": "stream",
     "text": [
      "Epoch 161: train=21737.2, val=21535.0, took 6.5678 s\n"
     ]
    },
    {
     "data": {
      "application/vnd.jupyter.widget-view+json": {
       "model_id": "",
       "version_major": 2,
       "version_minor": 0
      },
      "text/plain": [
       "HBox(children=(FloatProgress(value=0.0, description='Training', layout=Layout(flex='2'), max=282.0, style=Prog…"
      ]
     },
     "metadata": {},
     "output_type": "display_data"
    },
    {
     "name": "stdout",
     "output_type": "stream",
     "text": [
      "Epoch 162: train=21727.2, val=21530.1, took 6.6013 s\n"
     ]
    },
    {
     "data": {
      "application/vnd.jupyter.widget-view+json": {
       "model_id": "",
       "version_major": 2,
       "version_minor": 0
      },
      "text/plain": [
       "HBox(children=(FloatProgress(value=0.0, description='Training', layout=Layout(flex='2'), max=282.0, style=Prog…"
      ]
     },
     "metadata": {},
     "output_type": "display_data"
    },
    {
     "name": "stdout",
     "output_type": "stream",
     "text": [
      "Epoch 163: train=21719.8, val=21523.3, took 6.595 s\n"
     ]
    },
    {
     "data": {
      "application/vnd.jupyter.widget-view+json": {
       "model_id": "",
       "version_major": 2,
       "version_minor": 0
      },
      "text/plain": [
       "HBox(children=(FloatProgress(value=0.0, description='Training', layout=Layout(flex='2'), max=282.0, style=Prog…"
      ]
     },
     "metadata": {},
     "output_type": "display_data"
    },
    {
     "name": "stdout",
     "output_type": "stream",
     "text": [
      "Epoch 164: train=21710.0, val=21506.8, took 6.6882 s\n"
     ]
    },
    {
     "data": {
      "application/vnd.jupyter.widget-view+json": {
       "model_id": "",
       "version_major": 2,
       "version_minor": 0
      },
      "text/plain": [
       "HBox(children=(FloatProgress(value=0.0, description='Training', layout=Layout(flex='2'), max=282.0, style=Prog…"
      ]
     },
     "metadata": {},
     "output_type": "display_data"
    },
    {
     "name": "stdout",
     "output_type": "stream",
     "text": [
      "Epoch 165: train=21699.6, val=21502.8, took 6.5764 s\n"
     ]
    },
    {
     "data": {
      "application/vnd.jupyter.widget-view+json": {
       "model_id": "",
       "version_major": 2,
       "version_minor": 0
      },
      "text/plain": [
       "HBox(children=(FloatProgress(value=0.0, description='Training', layout=Layout(flex='2'), max=282.0, style=Prog…"
      ]
     },
     "metadata": {},
     "output_type": "display_data"
    },
    {
     "name": "stdout",
     "output_type": "stream",
     "text": [
      "Epoch 166: train=21691.6, val=21490.9, took 6.6253 s\n"
     ]
    },
    {
     "data": {
      "application/vnd.jupyter.widget-view+json": {
       "model_id": "",
       "version_major": 2,
       "version_minor": 0
      },
      "text/plain": [
       "HBox(children=(FloatProgress(value=0.0, description='Training', layout=Layout(flex='2'), max=282.0, style=Prog…"
      ]
     },
     "metadata": {},
     "output_type": "display_data"
    },
    {
     "name": "stdout",
     "output_type": "stream",
     "text": [
      "Epoch 167: train=21683.2, val=21485.1, took 6.5833 s\n"
     ]
    },
    {
     "data": {
      "application/vnd.jupyter.widget-view+json": {
       "model_id": "",
       "version_major": 2,
       "version_minor": 0
      },
      "text/plain": [
       "HBox(children=(FloatProgress(value=0.0, description='Training', layout=Layout(flex='2'), max=282.0, style=Prog…"
      ]
     },
     "metadata": {},
     "output_type": "display_data"
    },
    {
     "name": "stdout",
     "output_type": "stream",
     "text": [
      "Epoch 168: train=21675.0, val=21478.4, took 6.614 s\n"
     ]
    },
    {
     "data": {
      "application/vnd.jupyter.widget-view+json": {
       "model_id": "",
       "version_major": 2,
       "version_minor": 0
      },
      "text/plain": [
       "HBox(children=(FloatProgress(value=0.0, description='Training', layout=Layout(flex='2'), max=282.0, style=Prog…"
      ]
     },
     "metadata": {},
     "output_type": "display_data"
    },
    {
     "name": "stdout",
     "output_type": "stream",
     "text": [
      "Epoch 169: train=21666.6, val=21469.3, took 6.5804 s\n"
     ]
    },
    {
     "data": {
      "application/vnd.jupyter.widget-view+json": {
       "model_id": "",
       "version_major": 2,
       "version_minor": 0
      },
      "text/plain": [
       "HBox(children=(FloatProgress(value=0.0, description='Training', layout=Layout(flex='2'), max=282.0, style=Prog…"
      ]
     },
     "metadata": {},
     "output_type": "display_data"
    },
    {
     "name": "stdout",
     "output_type": "stream",
     "text": [
      "Epoch 170: train=21655.6, val=21458.9, took 6.5985 s\n"
     ]
    },
    {
     "data": {
      "application/vnd.jupyter.widget-view+json": {
       "model_id": "",
       "version_major": 2,
       "version_minor": 0
      },
      "text/plain": [
       "HBox(children=(FloatProgress(value=0.0, description='Training', layout=Layout(flex='2'), max=282.0, style=Prog…"
      ]
     },
     "metadata": {},
     "output_type": "display_data"
    },
    {
     "name": "stdout",
     "output_type": "stream",
     "text": [
      "Epoch 171: train=21647.8, val=21450.3, took 6.5722 s\n"
     ]
    },
    {
     "data": {
      "application/vnd.jupyter.widget-view+json": {
       "model_id": "",
       "version_major": 2,
       "version_minor": 0
      },
      "text/plain": [
       "HBox(children=(FloatProgress(value=0.0, description='Training', layout=Layout(flex='2'), max=282.0, style=Prog…"
      ]
     },
     "metadata": {},
     "output_type": "display_data"
    },
    {
     "name": "stdout",
     "output_type": "stream",
     "text": [
      "Epoch 172: train=21639.0, val=21443.8, took 6.6192 s\n"
     ]
    },
    {
     "data": {
      "application/vnd.jupyter.widget-view+json": {
       "model_id": "",
       "version_major": 2,
       "version_minor": 0
      },
      "text/plain": [
       "HBox(children=(FloatProgress(value=0.0, description='Training', layout=Layout(flex='2'), max=282.0, style=Prog…"
      ]
     },
     "metadata": {},
     "output_type": "display_data"
    },
    {
     "name": "stdout",
     "output_type": "stream",
     "text": [
      "Epoch 173: train=21632.6, val=21436.2, took 6.608 s\n"
     ]
    },
    {
     "data": {
      "application/vnd.jupyter.widget-view+json": {
       "model_id": "",
       "version_major": 2,
       "version_minor": 0
      },
      "text/plain": [
       "HBox(children=(FloatProgress(value=0.0, description='Training', layout=Layout(flex='2'), max=282.0, style=Prog…"
      ]
     },
     "metadata": {},
     "output_type": "display_data"
    },
    {
     "name": "stdout",
     "output_type": "stream",
     "text": [
      "Epoch 174: train=21622.9, val=21428.5, took 6.6395 s\n"
     ]
    },
    {
     "data": {
      "application/vnd.jupyter.widget-view+json": {
       "model_id": "",
       "version_major": 2,
       "version_minor": 0
      },
      "text/plain": [
       "HBox(children=(FloatProgress(value=0.0, description='Training', layout=Layout(flex='2'), max=282.0, style=Prog…"
      ]
     },
     "metadata": {},
     "output_type": "display_data"
    },
    {
     "name": "stdout",
     "output_type": "stream",
     "text": [
      "Epoch 175: train=21615.5, val=21419.7, took 6.5867 s\n"
     ]
    },
    {
     "data": {
      "application/vnd.jupyter.widget-view+json": {
       "model_id": "",
       "version_major": 2,
       "version_minor": 0
      },
      "text/plain": [
       "HBox(children=(FloatProgress(value=0.0, description='Training', layout=Layout(flex='2'), max=282.0, style=Prog…"
      ]
     },
     "metadata": {},
     "output_type": "display_data"
    },
    {
     "name": "stdout",
     "output_type": "stream",
     "text": [
      "Epoch 176: train=21606.1, val=21413.4, took 6.627 s\n"
     ]
    },
    {
     "data": {
      "application/vnd.jupyter.widget-view+json": {
       "model_id": "",
       "version_major": 2,
       "version_minor": 0
      },
      "text/plain": [
       "HBox(children=(FloatProgress(value=0.0, description='Training', layout=Layout(flex='2'), max=282.0, style=Prog…"
      ]
     },
     "metadata": {},
     "output_type": "display_data"
    },
    {
     "name": "stdout",
     "output_type": "stream",
     "text": [
      "Epoch 177: train=21599.2, val=21406.6, took 6.6112 s\n"
     ]
    },
    {
     "data": {
      "application/vnd.jupyter.widget-view+json": {
       "model_id": "",
       "version_major": 2,
       "version_minor": 0
      },
      "text/plain": [
       "HBox(children=(FloatProgress(value=0.0, description='Training', layout=Layout(flex='2'), max=282.0, style=Prog…"
      ]
     },
     "metadata": {},
     "output_type": "display_data"
    },
    {
     "name": "stdout",
     "output_type": "stream",
     "text": [
      "Epoch 178: train=21590.9, val=21398.5, took 6.6034 s\n"
     ]
    },
    {
     "data": {
      "application/vnd.jupyter.widget-view+json": {
       "model_id": "",
       "version_major": 2,
       "version_minor": 0
      },
      "text/plain": [
       "HBox(children=(FloatProgress(value=0.0, description='Training', layout=Layout(flex='2'), max=282.0, style=Prog…"
      ]
     },
     "metadata": {},
     "output_type": "display_data"
    },
    {
     "name": "stdout",
     "output_type": "stream",
     "text": [
      "Epoch 179: train=21581.8, val=21394.5, took 6.5834 s\n"
     ]
    },
    {
     "data": {
      "application/vnd.jupyter.widget-view+json": {
       "model_id": "",
       "version_major": 2,
       "version_minor": 0
      },
      "text/plain": [
       "HBox(children=(FloatProgress(value=0.0, description='Training', layout=Layout(flex='2'), max=282.0, style=Prog…"
      ]
     },
     "metadata": {},
     "output_type": "display_data"
    },
    {
     "name": "stdout",
     "output_type": "stream",
     "text": [
      "Epoch 180: train=21573.4, val=21381.0, took 6.5744 s\n"
     ]
    },
    {
     "data": {
      "application/vnd.jupyter.widget-view+json": {
       "model_id": "",
       "version_major": 2,
       "version_minor": 0
      },
      "text/plain": [
       "HBox(children=(FloatProgress(value=0.0, description='Training', layout=Layout(flex='2'), max=282.0, style=Prog…"
      ]
     },
     "metadata": {},
     "output_type": "display_data"
    },
    {
     "name": "stdout",
     "output_type": "stream",
     "text": [
      "Epoch 181: train=21564.3, val=21377.7, took 6.6478 s\n"
     ]
    },
    {
     "data": {
      "application/vnd.jupyter.widget-view+json": {
       "model_id": "",
       "version_major": 2,
       "version_minor": 0
      },
      "text/plain": [
       "HBox(children=(FloatProgress(value=0.0, description='Training', layout=Layout(flex='2'), max=282.0, style=Prog…"
      ]
     },
     "metadata": {},
     "output_type": "display_data"
    },
    {
     "name": "stdout",
     "output_type": "stream",
     "text": [
      "Epoch 182: train=21557.3, val=21367.8, took 6.5904 s\n"
     ]
    },
    {
     "data": {
      "application/vnd.jupyter.widget-view+json": {
       "model_id": "",
       "version_major": 2,
       "version_minor": 0
      },
      "text/plain": [
       "HBox(children=(FloatProgress(value=0.0, description='Training', layout=Layout(flex='2'), max=282.0, style=Prog…"
      ]
     },
     "metadata": {},
     "output_type": "display_data"
    },
    {
     "name": "stdout",
     "output_type": "stream",
     "text": [
      "Epoch 183: train=21550.8, val=21356.6, took 6.6132 s\n"
     ]
    },
    {
     "data": {
      "application/vnd.jupyter.widget-view+json": {
       "model_id": "",
       "version_major": 2,
       "version_minor": 0
      },
      "text/plain": [
       "HBox(children=(FloatProgress(value=0.0, description='Training', layout=Layout(flex='2'), max=282.0, style=Prog…"
      ]
     },
     "metadata": {},
     "output_type": "display_data"
    },
    {
     "name": "stdout",
     "output_type": "stream",
     "text": [
      "Epoch 184: train=21540.6, val=21352.8, took 6.6212 s\n"
     ]
    },
    {
     "data": {
      "application/vnd.jupyter.widget-view+json": {
       "model_id": "",
       "version_major": 2,
       "version_minor": 0
      },
      "text/plain": [
       "HBox(children=(FloatProgress(value=0.0, description='Training', layout=Layout(flex='2'), max=282.0, style=Prog…"
      ]
     },
     "metadata": {},
     "output_type": "display_data"
    },
    {
     "name": "stdout",
     "output_type": "stream",
     "text": [
      "Epoch 185: train=21534.3, val=21344.3, took 6.6248 s\n"
     ]
    },
    {
     "data": {
      "application/vnd.jupyter.widget-view+json": {
       "model_id": "",
       "version_major": 2,
       "version_minor": 0
      },
      "text/plain": [
       "HBox(children=(FloatProgress(value=0.0, description='Training', layout=Layout(flex='2'), max=282.0, style=Prog…"
      ]
     },
     "metadata": {},
     "output_type": "display_data"
    },
    {
     "name": "stdout",
     "output_type": "stream",
     "text": [
      "Epoch 186: train=21526.2, val=21336.2, took 6.6151 s\n"
     ]
    },
    {
     "data": {
      "application/vnd.jupyter.widget-view+json": {
       "model_id": "",
       "version_major": 2,
       "version_minor": 0
      },
      "text/plain": [
       "HBox(children=(FloatProgress(value=0.0, description='Training', layout=Layout(flex='2'), max=282.0, style=Prog…"
      ]
     },
     "metadata": {},
     "output_type": "display_data"
    },
    {
     "name": "stdout",
     "output_type": "stream",
     "text": [
      "Epoch 187: train=21516.7, val=21330.3, took 6.6007 s\n"
     ]
    },
    {
     "data": {
      "application/vnd.jupyter.widget-view+json": {
       "model_id": "",
       "version_major": 2,
       "version_minor": 0
      },
      "text/plain": [
       "HBox(children=(FloatProgress(value=0.0, description='Training', layout=Layout(flex='2'), max=282.0, style=Prog…"
      ]
     },
     "metadata": {},
     "output_type": "display_data"
    },
    {
     "name": "stdout",
     "output_type": "stream",
     "text": [
      "Epoch 188: train=21511.3, val=21325.2, took 6.5981 s\n"
     ]
    },
    {
     "data": {
      "application/vnd.jupyter.widget-view+json": {
       "model_id": "",
       "version_major": 2,
       "version_minor": 0
      },
      "text/plain": [
       "HBox(children=(FloatProgress(value=0.0, description='Training', layout=Layout(flex='2'), max=282.0, style=Prog…"
      ]
     },
     "metadata": {},
     "output_type": "display_data"
    },
    {
     "name": "stdout",
     "output_type": "stream",
     "text": [
      "Epoch 189: train=21501.0, val=21310.2, took 6.5694 s\n"
     ]
    },
    {
     "data": {
      "application/vnd.jupyter.widget-view+json": {
       "model_id": "",
       "version_major": 2,
       "version_minor": 0
      },
      "text/plain": [
       "HBox(children=(FloatProgress(value=0.0, description='Training', layout=Layout(flex='2'), max=282.0, style=Prog…"
      ]
     },
     "metadata": {},
     "output_type": "display_data"
    },
    {
     "name": "stdout",
     "output_type": "stream",
     "text": [
      "Epoch 190: train=21491.9, val=21308.3, took 6.5956 s\n"
     ]
    },
    {
     "data": {
      "application/vnd.jupyter.widget-view+json": {
       "model_id": "",
       "version_major": 2,
       "version_minor": 0
      },
      "text/plain": [
       "HBox(children=(FloatProgress(value=0.0, description='Training', layout=Layout(flex='2'), max=282.0, style=Prog…"
      ]
     },
     "metadata": {},
     "output_type": "display_data"
    },
    {
     "name": "stdout",
     "output_type": "stream",
     "text": [
      "Epoch 191: train=21487.2, val=21300.3, took 6.615 s\n"
     ]
    },
    {
     "data": {
      "application/vnd.jupyter.widget-view+json": {
       "model_id": "",
       "version_major": 2,
       "version_minor": 0
      },
      "text/plain": [
       "HBox(children=(FloatProgress(value=0.0, description='Training', layout=Layout(flex='2'), max=282.0, style=Prog…"
      ]
     },
     "metadata": {},
     "output_type": "display_data"
    },
    {
     "name": "stdout",
     "output_type": "stream",
     "text": [
      "Epoch 192: train=21478.3, val=21290.7, took 6.5735 s\n"
     ]
    },
    {
     "data": {
      "application/vnd.jupyter.widget-view+json": {
       "model_id": "",
       "version_major": 2,
       "version_minor": 0
      },
      "text/plain": [
       "HBox(children=(FloatProgress(value=0.0, description='Training', layout=Layout(flex='2'), max=282.0, style=Prog…"
      ]
     },
     "metadata": {},
     "output_type": "display_data"
    },
    {
     "name": "stdout",
     "output_type": "stream",
     "text": [
      "Epoch 193: train=21470.1, val=21289.3, took 6.5972 s\n"
     ]
    },
    {
     "data": {
      "application/vnd.jupyter.widget-view+json": {
       "model_id": "",
       "version_major": 2,
       "version_minor": 0
      },
      "text/plain": [
       "HBox(children=(FloatProgress(value=0.0, description='Training', layout=Layout(flex='2'), max=282.0, style=Prog…"
      ]
     },
     "metadata": {},
     "output_type": "display_data"
    },
    {
     "name": "stdout",
     "output_type": "stream",
     "text": [
      "Epoch 194: train=21463.5, val=21275.9, took 6.5961 s\n"
     ]
    },
    {
     "data": {
      "application/vnd.jupyter.widget-view+json": {
       "model_id": "",
       "version_major": 2,
       "version_minor": 0
      },
      "text/plain": [
       "HBox(children=(FloatProgress(value=0.0, description='Training', layout=Layout(flex='2'), max=282.0, style=Prog…"
      ]
     },
     "metadata": {},
     "output_type": "display_data"
    },
    {
     "name": "stdout",
     "output_type": "stream",
     "text": [
      "Epoch 195: train=21454.5, val=21264.1, took 6.6118 s\n"
     ]
    },
    {
     "data": {
      "application/vnd.jupyter.widget-view+json": {
       "model_id": "",
       "version_major": 2,
       "version_minor": 0
      },
      "text/plain": [
       "HBox(children=(FloatProgress(value=0.0, description='Training', layout=Layout(flex='2'), max=282.0, style=Prog…"
      ]
     },
     "metadata": {},
     "output_type": "display_data"
    },
    {
     "name": "stdout",
     "output_type": "stream",
     "text": [
      "Epoch 196: train=21445.1, val=21261.3, took 6.624 s\n"
     ]
    },
    {
     "data": {
      "application/vnd.jupyter.widget-view+json": {
       "model_id": "",
       "version_major": 2,
       "version_minor": 0
      },
      "text/plain": [
       "HBox(children=(FloatProgress(value=0.0, description='Training', layout=Layout(flex='2'), max=282.0, style=Prog…"
      ]
     },
     "metadata": {},
     "output_type": "display_data"
    },
    {
     "name": "stdout",
     "output_type": "stream",
     "text": [
      "Epoch 197: train=21441.6, val=21254.7, took 6.6547 s\n"
     ]
    },
    {
     "data": {
      "application/vnd.jupyter.widget-view+json": {
       "model_id": "",
       "version_major": 2,
       "version_minor": 0
      },
      "text/plain": [
       "HBox(children=(FloatProgress(value=0.0, description='Training', layout=Layout(flex='2'), max=282.0, style=Prog…"
      ]
     },
     "metadata": {},
     "output_type": "display_data"
    },
    {
     "name": "stdout",
     "output_type": "stream",
     "text": [
      "Epoch 198: train=21432.1, val=21244.7, took 6.6337 s\n"
     ]
    },
    {
     "data": {
      "application/vnd.jupyter.widget-view+json": {
       "model_id": "",
       "version_major": 2,
       "version_minor": 0
      },
      "text/plain": [
       "HBox(children=(FloatProgress(value=0.0, description='Training', layout=Layout(flex='2'), max=282.0, style=Prog…"
      ]
     },
     "metadata": {},
     "output_type": "display_data"
    },
    {
     "name": "stdout",
     "output_type": "stream",
     "text": [
      "Epoch 199: train=21424.6, val=21242.6, took 6.6732 s\n"
     ]
    },
    {
     "data": {
      "application/vnd.jupyter.widget-view+json": {
       "model_id": "",
       "version_major": 2,
       "version_minor": 0
      },
      "text/plain": [
       "HBox(children=(FloatProgress(value=0.0, description='Training', layout=Layout(flex='2'), max=282.0, style=Prog…"
      ]
     },
     "metadata": {},
     "output_type": "display_data"
    },
    {
     "name": "stdout",
     "output_type": "stream",
     "text": [
      "Epoch 200: train=21417.6, val=21232.6, took 6.6229 s\n"
     ]
    },
    {
     "data": {
      "application/vnd.jupyter.widget-view+json": {
       "model_id": "",
       "version_major": 2,
       "version_minor": 0
      },
      "text/plain": [
       "HBox(children=(FloatProgress(value=0.0, description='Training', layout=Layout(flex='2'), max=282.0, style=Prog…"
      ]
     },
     "metadata": {},
     "output_type": "display_data"
    },
    {
     "name": "stdout",
     "output_type": "stream",
     "text": [
      "Epoch 201: train=21410.3, val=21224.9, took 6.6161 s\n"
     ]
    },
    {
     "data": {
      "application/vnd.jupyter.widget-view+json": {
       "model_id": "",
       "version_major": 2,
       "version_minor": 0
      },
      "text/plain": [
       "HBox(children=(FloatProgress(value=0.0, description='Training', layout=Layout(flex='2'), max=282.0, style=Prog…"
      ]
     },
     "metadata": {},
     "output_type": "display_data"
    },
    {
     "name": "stdout",
     "output_type": "stream",
     "text": [
      "Epoch 202: train=21402.2, val=21220.3, took 6.5966 s\n"
     ]
    },
    {
     "data": {
      "application/vnd.jupyter.widget-view+json": {
       "model_id": "",
       "version_major": 2,
       "version_minor": 0
      },
      "text/plain": [
       "HBox(children=(FloatProgress(value=0.0, description='Training', layout=Layout(flex='2'), max=282.0, style=Prog…"
      ]
     },
     "metadata": {},
     "output_type": "display_data"
    },
    {
     "name": "stdout",
     "output_type": "stream",
     "text": [
      "Epoch 203: train=21395.7, val=21214.9, took 6.5946 s\n"
     ]
    },
    {
     "data": {
      "application/vnd.jupyter.widget-view+json": {
       "model_id": "",
       "version_major": 2,
       "version_minor": 0
      },
      "text/plain": [
       "HBox(children=(FloatProgress(value=0.0, description='Training', layout=Layout(flex='2'), max=282.0, style=Prog…"
      ]
     },
     "metadata": {},
     "output_type": "display_data"
    },
    {
     "name": "stdout",
     "output_type": "stream",
     "text": [
      "Epoch 204: train=21387.4, val=21202.9, took 6.5978 s\n"
     ]
    },
    {
     "data": {
      "application/vnd.jupyter.widget-view+json": {
       "model_id": "",
       "version_major": 2,
       "version_minor": 0
      },
      "text/plain": [
       "HBox(children=(FloatProgress(value=0.0, description='Training', layout=Layout(flex='2'), max=282.0, style=Prog…"
      ]
     },
     "metadata": {},
     "output_type": "display_data"
    },
    {
     "name": "stdout",
     "output_type": "stream",
     "text": [
      "Epoch 205: train=21380.1, val=21198.7, took 6.6128 s\n"
     ]
    },
    {
     "data": {
      "application/vnd.jupyter.widget-view+json": {
       "model_id": "",
       "version_major": 2,
       "version_minor": 0
      },
      "text/plain": [
       "HBox(children=(FloatProgress(value=0.0, description='Training', layout=Layout(flex='2'), max=282.0, style=Prog…"
      ]
     },
     "metadata": {},
     "output_type": "display_data"
    },
    {
     "name": "stdout",
     "output_type": "stream",
     "text": [
      "Epoch 206: train=21373.0, val=21187.7, took 6.6481 s\n"
     ]
    },
    {
     "data": {
      "application/vnd.jupyter.widget-view+json": {
       "model_id": "",
       "version_major": 2,
       "version_minor": 0
      },
      "text/plain": [
       "HBox(children=(FloatProgress(value=0.0, description='Training', layout=Layout(flex='2'), max=282.0, style=Prog…"
      ]
     },
     "metadata": {},
     "output_type": "display_data"
    },
    {
     "name": "stdout",
     "output_type": "stream",
     "text": [
      "Epoch 207: train=21364.5, val=21182.6, took 6.6829 s\n"
     ]
    },
    {
     "data": {
      "application/vnd.jupyter.widget-view+json": {
       "model_id": "",
       "version_major": 2,
       "version_minor": 0
      },
      "text/plain": [
       "HBox(children=(FloatProgress(value=0.0, description='Training', layout=Layout(flex='2'), max=282.0, style=Prog…"
      ]
     },
     "metadata": {},
     "output_type": "display_data"
    },
    {
     "name": "stdout",
     "output_type": "stream",
     "text": [
      "Epoch 208: train=21356.8, val=21173.9, took 6.6264 s\n"
     ]
    },
    {
     "data": {
      "application/vnd.jupyter.widget-view+json": {
       "model_id": "",
       "version_major": 2,
       "version_minor": 0
      },
      "text/plain": [
       "HBox(children=(FloatProgress(value=0.0, description='Training', layout=Layout(flex='2'), max=282.0, style=Prog…"
      ]
     },
     "metadata": {},
     "output_type": "display_data"
    },
    {
     "name": "stdout",
     "output_type": "stream",
     "text": [
      "Epoch 209: train=21347.3, val=21167.3, took 6.5684 s\n"
     ]
    },
    {
     "data": {
      "application/vnd.jupyter.widget-view+json": {
       "model_id": "",
       "version_major": 2,
       "version_minor": 0
      },
      "text/plain": [
       "HBox(children=(FloatProgress(value=0.0, description='Training', layout=Layout(flex='2'), max=282.0, style=Prog…"
      ]
     },
     "metadata": {},
     "output_type": "display_data"
    },
    {
     "name": "stdout",
     "output_type": "stream",
     "text": [
      "Epoch 210: train=21341.8, val=21160.5, took 6.6172 s\n"
     ]
    },
    {
     "data": {
      "application/vnd.jupyter.widget-view+json": {
       "model_id": "",
       "version_major": 2,
       "version_minor": 0
      },
      "text/plain": [
       "HBox(children=(FloatProgress(value=0.0, description='Training', layout=Layout(flex='2'), max=282.0, style=Prog…"
      ]
     },
     "metadata": {},
     "output_type": "display_data"
    },
    {
     "name": "stdout",
     "output_type": "stream",
     "text": [
      "Epoch 211: train=21334.3, val=21153.1, took 6.6085 s\n"
     ]
    },
    {
     "data": {
      "application/vnd.jupyter.widget-view+json": {
       "model_id": "",
       "version_major": 2,
       "version_minor": 0
      },
      "text/plain": [
       "HBox(children=(FloatProgress(value=0.0, description='Training', layout=Layout(flex='2'), max=282.0, style=Prog…"
      ]
     },
     "metadata": {},
     "output_type": "display_data"
    },
    {
     "name": "stdout",
     "output_type": "stream",
     "text": [
      "Epoch 212: train=21326.7, val=21146.4, took 6.6152 s\n"
     ]
    },
    {
     "data": {
      "application/vnd.jupyter.widget-view+json": {
       "model_id": "",
       "version_major": 2,
       "version_minor": 0
      },
      "text/plain": [
       "HBox(children=(FloatProgress(value=0.0, description='Training', layout=Layout(flex='2'), max=282.0, style=Prog…"
      ]
     },
     "metadata": {},
     "output_type": "display_data"
    },
    {
     "name": "stdout",
     "output_type": "stream",
     "text": [
      "Epoch 213: train=21319.2, val=21139.6, took 6.6474 s\n"
     ]
    },
    {
     "data": {
      "application/vnd.jupyter.widget-view+json": {
       "model_id": "",
       "version_major": 2,
       "version_minor": 0
      },
      "text/plain": [
       "HBox(children=(FloatProgress(value=0.0, description='Training', layout=Layout(flex='2'), max=282.0, style=Prog…"
      ]
     },
     "metadata": {},
     "output_type": "display_data"
    },
    {
     "name": "stdout",
     "output_type": "stream",
     "text": [
      "Epoch 214: train=21312.0, val=21131.5, took 6.6236 s\n"
     ]
    },
    {
     "data": {
      "application/vnd.jupyter.widget-view+json": {
       "model_id": "",
       "version_major": 2,
       "version_minor": 0
      },
      "text/plain": [
       "HBox(children=(FloatProgress(value=0.0, description='Training', layout=Layout(flex='2'), max=282.0, style=Prog…"
      ]
     },
     "metadata": {},
     "output_type": "display_data"
    },
    {
     "name": "stdout",
     "output_type": "stream",
     "text": [
      "Epoch 215: train=21304.7, val=21124.3, took 6.6174 s\n"
     ]
    },
    {
     "data": {
      "application/vnd.jupyter.widget-view+json": {
       "model_id": "",
       "version_major": 2,
       "version_minor": 0
      },
      "text/plain": [
       "HBox(children=(FloatProgress(value=0.0, description='Training', layout=Layout(flex='2'), max=282.0, style=Prog…"
      ]
     },
     "metadata": {},
     "output_type": "display_data"
    },
    {
     "name": "stdout",
     "output_type": "stream",
     "text": [
      "Epoch 216: train=21296.5, val=21118.7, took 6.6086 s\n"
     ]
    },
    {
     "data": {
      "application/vnd.jupyter.widget-view+json": {
       "model_id": "",
       "version_major": 2,
       "version_minor": 0
      },
      "text/plain": [
       "HBox(children=(FloatProgress(value=0.0, description='Training', layout=Layout(flex='2'), max=282.0, style=Prog…"
      ]
     },
     "metadata": {},
     "output_type": "display_data"
    },
    {
     "name": "stdout",
     "output_type": "stream",
     "text": [
      "Epoch 217: train=21290.2, val=21112.7, took 6.633 s\n"
     ]
    },
    {
     "data": {
      "application/vnd.jupyter.widget-view+json": {
       "model_id": "",
       "version_major": 2,
       "version_minor": 0
      },
      "text/plain": [
       "HBox(children=(FloatProgress(value=0.0, description='Training', layout=Layout(flex='2'), max=282.0, style=Prog…"
      ]
     },
     "metadata": {},
     "output_type": "display_data"
    },
    {
     "name": "stdout",
     "output_type": "stream",
     "text": [
      "Epoch 218: train=21281.9, val=21104.8, took 6.579 s\n"
     ]
    },
    {
     "data": {
      "application/vnd.jupyter.widget-view+json": {
       "model_id": "",
       "version_major": 2,
       "version_minor": 0
      },
      "text/plain": [
       "HBox(children=(FloatProgress(value=0.0, description='Training', layout=Layout(flex='2'), max=282.0, style=Prog…"
      ]
     },
     "metadata": {},
     "output_type": "display_data"
    },
    {
     "name": "stdout",
     "output_type": "stream",
     "text": [
      "Epoch 219: train=21274.2, val=21098.9, took 6.5896 s\n"
     ]
    },
    {
     "data": {
      "application/vnd.jupyter.widget-view+json": {
       "model_id": "",
       "version_major": 2,
       "version_minor": 0
      },
      "text/plain": [
       "HBox(children=(FloatProgress(value=0.0, description='Training', layout=Layout(flex='2'), max=282.0, style=Prog…"
      ]
     },
     "metadata": {},
     "output_type": "display_data"
    },
    {
     "name": "stdout",
     "output_type": "stream",
     "text": [
      "Epoch 220: train=21266.5, val=21090.2, took 6.5939 s\n"
     ]
    },
    {
     "data": {
      "application/vnd.jupyter.widget-view+json": {
       "model_id": "",
       "version_major": 2,
       "version_minor": 0
      },
      "text/plain": [
       "HBox(children=(FloatProgress(value=0.0, description='Training', layout=Layout(flex='2'), max=282.0, style=Prog…"
      ]
     },
     "metadata": {},
     "output_type": "display_data"
    },
    {
     "name": "stdout",
     "output_type": "stream",
     "text": [
      "Epoch 221: train=21258.4, val=21083.1, took 6.6048 s\n"
     ]
    },
    {
     "data": {
      "application/vnd.jupyter.widget-view+json": {
       "model_id": "",
       "version_major": 2,
       "version_minor": 0
      },
      "text/plain": [
       "HBox(children=(FloatProgress(value=0.0, description='Training', layout=Layout(flex='2'), max=282.0, style=Prog…"
      ]
     },
     "metadata": {},
     "output_type": "display_data"
    },
    {
     "name": "stdout",
     "output_type": "stream",
     "text": [
      "Epoch 222: train=21251.8, val=21075.6, took 6.6383 s\n"
     ]
    },
    {
     "data": {
      "application/vnd.jupyter.widget-view+json": {
       "model_id": "",
       "version_major": 2,
       "version_minor": 0
      },
      "text/plain": [
       "HBox(children=(FloatProgress(value=0.0, description='Training', layout=Layout(flex='2'), max=282.0, style=Prog…"
      ]
     },
     "metadata": {},
     "output_type": "display_data"
    },
    {
     "name": "stdout",
     "output_type": "stream",
     "text": [
      "Epoch 223: train=21244.8, val=21067.6, took 6.5973 s\n"
     ]
    },
    {
     "data": {
      "application/vnd.jupyter.widget-view+json": {
       "model_id": "",
       "version_major": 2,
       "version_minor": 0
      },
      "text/plain": [
       "HBox(children=(FloatProgress(value=0.0, description='Training', layout=Layout(flex='2'), max=282.0, style=Prog…"
      ]
     },
     "metadata": {},
     "output_type": "display_data"
    },
    {
     "name": "stdout",
     "output_type": "stream",
     "text": [
      "Epoch 224: train=21236.9, val=21059.5, took 6.592 s\n"
     ]
    },
    {
     "data": {
      "application/vnd.jupyter.widget-view+json": {
       "model_id": "",
       "version_major": 2,
       "version_minor": 0
      },
      "text/plain": [
       "HBox(children=(FloatProgress(value=0.0, description='Training', layout=Layout(flex='2'), max=282.0, style=Prog…"
      ]
     },
     "metadata": {},
     "output_type": "display_data"
    },
    {
     "name": "stdout",
     "output_type": "stream",
     "text": [
      "Epoch 225: train=21230.0, val=21052.3, took 6.5756 s\n"
     ]
    },
    {
     "data": {
      "application/vnd.jupyter.widget-view+json": {
       "model_id": "",
       "version_major": 2,
       "version_minor": 0
      },
      "text/plain": [
       "HBox(children=(FloatProgress(value=0.0, description='Training', layout=Layout(flex='2'), max=282.0, style=Prog…"
      ]
     },
     "metadata": {},
     "output_type": "display_data"
    },
    {
     "name": "stdout",
     "output_type": "stream",
     "text": [
      "Epoch 226: train=21222.3, val=21045.4, took 6.5752 s\n"
     ]
    },
    {
     "data": {
      "application/vnd.jupyter.widget-view+json": {
       "model_id": "",
       "version_major": 2,
       "version_minor": 0
      },
      "text/plain": [
       "HBox(children=(FloatProgress(value=0.0, description='Training', layout=Layout(flex='2'), max=282.0, style=Prog…"
      ]
     },
     "metadata": {},
     "output_type": "display_data"
    },
    {
     "name": "stdout",
     "output_type": "stream",
     "text": [
      "Epoch 227: train=21215.0, val=21037.8, took 6.575 s\n"
     ]
    },
    {
     "data": {
      "application/vnd.jupyter.widget-view+json": {
       "model_id": "",
       "version_major": 2,
       "version_minor": 0
      },
      "text/plain": [
       "HBox(children=(FloatProgress(value=0.0, description='Training', layout=Layout(flex='2'), max=282.0, style=Prog…"
      ]
     },
     "metadata": {},
     "output_type": "display_data"
    },
    {
     "name": "stdout",
     "output_type": "stream",
     "text": [
      "Epoch 228: train=21207.7, val=21030.3, took 6.5896 s\n"
     ]
    },
    {
     "data": {
      "application/vnd.jupyter.widget-view+json": {
       "model_id": "",
       "version_major": 2,
       "version_minor": 0
      },
      "text/plain": [
       "HBox(children=(FloatProgress(value=0.0, description='Training', layout=Layout(flex='2'), max=282.0, style=Prog…"
      ]
     },
     "metadata": {},
     "output_type": "display_data"
    },
    {
     "name": "stdout",
     "output_type": "stream",
     "text": [
      "Epoch 229: train=21200.6, val=21024.3, took 6.5599 s\n"
     ]
    },
    {
     "data": {
      "application/vnd.jupyter.widget-view+json": {
       "model_id": "",
       "version_major": 2,
       "version_minor": 0
      },
      "text/plain": [
       "HBox(children=(FloatProgress(value=0.0, description='Training', layout=Layout(flex='2'), max=282.0, style=Prog…"
      ]
     },
     "metadata": {},
     "output_type": "display_data"
    },
    {
     "name": "stdout",
     "output_type": "stream",
     "text": [
      "Epoch 230: train=21193.5, val=21016.7, took 6.6025 s\n"
     ]
    },
    {
     "data": {
      "application/vnd.jupyter.widget-view+json": {
       "model_id": "",
       "version_major": 2,
       "version_minor": 0
      },
      "text/plain": [
       "HBox(children=(FloatProgress(value=0.0, description='Training', layout=Layout(flex='2'), max=282.0, style=Prog…"
      ]
     },
     "metadata": {},
     "output_type": "display_data"
    },
    {
     "name": "stdout",
     "output_type": "stream",
     "text": [
      "Epoch 231: train=21185.7, val=21004.2, took 6.6092 s\n"
     ]
    },
    {
     "data": {
      "application/vnd.jupyter.widget-view+json": {
       "model_id": "",
       "version_major": 2,
       "version_minor": 0
      },
      "text/plain": [
       "HBox(children=(FloatProgress(value=0.0, description='Training', layout=Layout(flex='2'), max=282.0, style=Prog…"
      ]
     },
     "metadata": {},
     "output_type": "display_data"
    },
    {
     "name": "stdout",
     "output_type": "stream",
     "text": [
      "Epoch 232: train=21177.6, val=21002.8, took 6.6067 s\n"
     ]
    },
    {
     "data": {
      "application/vnd.jupyter.widget-view+json": {
       "model_id": "",
       "version_major": 2,
       "version_minor": 0
      },
      "text/plain": [
       "HBox(children=(FloatProgress(value=0.0, description='Training', layout=Layout(flex='2'), max=282.0, style=Prog…"
      ]
     },
     "metadata": {},
     "output_type": "display_data"
    },
    {
     "name": "stdout",
     "output_type": "stream",
     "text": [
      "Epoch 233: train=21172.3, val=20996.3, took 6.5847 s\n"
     ]
    },
    {
     "data": {
      "application/vnd.jupyter.widget-view+json": {
       "model_id": "",
       "version_major": 2,
       "version_minor": 0
      },
      "text/plain": [
       "HBox(children=(FloatProgress(value=0.0, description='Training', layout=Layout(flex='2'), max=282.0, style=Prog…"
      ]
     },
     "metadata": {},
     "output_type": "display_data"
    },
    {
     "name": "stdout",
     "output_type": "stream",
     "text": [
      "Epoch 234: train=21165.6, val=20988.3, took 6.5828 s\n"
     ]
    },
    {
     "data": {
      "application/vnd.jupyter.widget-view+json": {
       "model_id": "",
       "version_major": 2,
       "version_minor": 0
      },
      "text/plain": [
       "HBox(children=(FloatProgress(value=0.0, description='Training', layout=Layout(flex='2'), max=282.0, style=Prog…"
      ]
     },
     "metadata": {},
     "output_type": "display_data"
    },
    {
     "name": "stdout",
     "output_type": "stream",
     "text": [
      "Epoch 235: train=21158.2, val=20981.6, took 6.5809 s\n"
     ]
    },
    {
     "data": {
      "application/vnd.jupyter.widget-view+json": {
       "model_id": "",
       "version_major": 2,
       "version_minor": 0
      },
      "text/plain": [
       "HBox(children=(FloatProgress(value=0.0, description='Training', layout=Layout(flex='2'), max=282.0, style=Prog…"
      ]
     },
     "metadata": {},
     "output_type": "display_data"
    },
    {
     "name": "stdout",
     "output_type": "stream",
     "text": [
      "Epoch 236: train=21151.6, val=20973.6, took 6.5601 s\n"
     ]
    },
    {
     "data": {
      "application/vnd.jupyter.widget-view+json": {
       "model_id": "",
       "version_major": 2,
       "version_minor": 0
      },
      "text/plain": [
       "HBox(children=(FloatProgress(value=0.0, description='Training', layout=Layout(flex='2'), max=282.0, style=Prog…"
      ]
     },
     "metadata": {},
     "output_type": "display_data"
    },
    {
     "name": "stdout",
     "output_type": "stream",
     "text": [
      "Epoch 237: train=21144.3, val=20967.5, took 6.5857 s\n"
     ]
    },
    {
     "data": {
      "application/vnd.jupyter.widget-view+json": {
       "model_id": "",
       "version_major": 2,
       "version_minor": 0
      },
      "text/plain": [
       "HBox(children=(FloatProgress(value=0.0, description='Training', layout=Layout(flex='2'), max=282.0, style=Prog…"
      ]
     },
     "metadata": {},
     "output_type": "display_data"
    },
    {
     "name": "stdout",
     "output_type": "stream",
     "text": [
      "Epoch 238: train=21137.4, val=20960.8, took 6.564 s\n"
     ]
    },
    {
     "data": {
      "application/vnd.jupyter.widget-view+json": {
       "model_id": "",
       "version_major": 2,
       "version_minor": 0
      },
      "text/plain": [
       "HBox(children=(FloatProgress(value=0.0, description='Training', layout=Layout(flex='2'), max=282.0, style=Prog…"
      ]
     },
     "metadata": {},
     "output_type": "display_data"
    },
    {
     "name": "stdout",
     "output_type": "stream",
     "text": [
      "Epoch 239: train=21130.0, val=20953.9, took 6.6225 s\n"
     ]
    },
    {
     "data": {
      "application/vnd.jupyter.widget-view+json": {
       "model_id": "",
       "version_major": 2,
       "version_minor": 0
      },
      "text/plain": [
       "HBox(children=(FloatProgress(value=0.0, description='Training', layout=Layout(flex='2'), max=282.0, style=Prog…"
      ]
     },
     "metadata": {},
     "output_type": "display_data"
    },
    {
     "name": "stdout",
     "output_type": "stream",
     "text": [
      "Epoch 240: train=21122.1, val=20945.4, took 6.6068 s\n"
     ]
    },
    {
     "data": {
      "application/vnd.jupyter.widget-view+json": {
       "model_id": "",
       "version_major": 2,
       "version_minor": 0
      },
      "text/plain": [
       "HBox(children=(FloatProgress(value=0.0, description='Training', layout=Layout(flex='2'), max=282.0, style=Prog…"
      ]
     },
     "metadata": {},
     "output_type": "display_data"
    },
    {
     "name": "stdout",
     "output_type": "stream",
     "text": [
      "Epoch 241: train=21114.7, val=20937.6, took 6.6142 s\n"
     ]
    },
    {
     "data": {
      "application/vnd.jupyter.widget-view+json": {
       "model_id": "",
       "version_major": 2,
       "version_minor": 0
      },
      "text/plain": [
       "HBox(children=(FloatProgress(value=0.0, description='Training', layout=Layout(flex='2'), max=282.0, style=Prog…"
      ]
     },
     "metadata": {},
     "output_type": "display_data"
    },
    {
     "name": "stdout",
     "output_type": "stream",
     "text": [
      "Epoch 242: train=21106.8, val=20929.0, took 6.5886 s\n"
     ]
    },
    {
     "data": {
      "application/vnd.jupyter.widget-view+json": {
       "model_id": "",
       "version_major": 2,
       "version_minor": 0
      },
      "text/plain": [
       "HBox(children=(FloatProgress(value=0.0, description='Training', layout=Layout(flex='2'), max=282.0, style=Prog…"
      ]
     },
     "metadata": {},
     "output_type": "display_data"
    },
    {
     "name": "stdout",
     "output_type": "stream",
     "text": [
      "Epoch 243: train=21098.7, val=20920.6, took 6.5759 s\n"
     ]
    },
    {
     "data": {
      "application/vnd.jupyter.widget-view+json": {
       "model_id": "",
       "version_major": 2,
       "version_minor": 0
      },
      "text/plain": [
       "HBox(children=(FloatProgress(value=0.0, description='Training', layout=Layout(flex='2'), max=282.0, style=Prog…"
      ]
     },
     "metadata": {},
     "output_type": "display_data"
    },
    {
     "name": "stdout",
     "output_type": "stream",
     "text": [
      "Epoch 244: train=21089.9, val=20909.8, took 6.6126 s\n"
     ]
    },
    {
     "data": {
      "application/vnd.jupyter.widget-view+json": {
       "model_id": "",
       "version_major": 2,
       "version_minor": 0
      },
      "text/plain": [
       "HBox(children=(FloatProgress(value=0.0, description='Training', layout=Layout(flex='2'), max=282.0, style=Prog…"
      ]
     },
     "metadata": {},
     "output_type": "display_data"
    },
    {
     "name": "stdout",
     "output_type": "stream",
     "text": [
      "Epoch 245: train=21081.5, val=20901.9, took 6.5703 s\n"
     ]
    },
    {
     "data": {
      "application/vnd.jupyter.widget-view+json": {
       "model_id": "",
       "version_major": 2,
       "version_minor": 0
      },
      "text/plain": [
       "HBox(children=(FloatProgress(value=0.0, description='Training', layout=Layout(flex='2'), max=282.0, style=Prog…"
      ]
     },
     "metadata": {},
     "output_type": "display_data"
    },
    {
     "name": "stdout",
     "output_type": "stream",
     "text": [
      "Epoch 246: train=21072.4, val=20892.0, took 6.5415 s\n"
     ]
    },
    {
     "data": {
      "application/vnd.jupyter.widget-view+json": {
       "model_id": "",
       "version_major": 2,
       "version_minor": 0
      },
      "text/plain": [
       "HBox(children=(FloatProgress(value=0.0, description='Training', layout=Layout(flex='2'), max=282.0, style=Prog…"
      ]
     },
     "metadata": {},
     "output_type": "display_data"
    },
    {
     "name": "stdout",
     "output_type": "stream",
     "text": [
      "Epoch 247: train=21063.4, val=20883.5, took 6.5904 s\n"
     ]
    },
    {
     "data": {
      "application/vnd.jupyter.widget-view+json": {
       "model_id": "",
       "version_major": 2,
       "version_minor": 0
      },
      "text/plain": [
       "HBox(children=(FloatProgress(value=0.0, description='Training', layout=Layout(flex='2'), max=282.0, style=Prog…"
      ]
     },
     "metadata": {},
     "output_type": "display_data"
    },
    {
     "name": "stdout",
     "output_type": "stream",
     "text": [
      "Epoch 248: train=21054.3, val=20872.8, took 6.6072 s\n"
     ]
    },
    {
     "data": {
      "application/vnd.jupyter.widget-view+json": {
       "model_id": "",
       "version_major": 2,
       "version_minor": 0
      },
      "text/plain": [
       "HBox(children=(FloatProgress(value=0.0, description='Training', layout=Layout(flex='2'), max=282.0, style=Prog…"
      ]
     },
     "metadata": {},
     "output_type": "display_data"
    },
    {
     "name": "stdout",
     "output_type": "stream",
     "text": [
      "Epoch 249: train=21044.8, val=20864.4, took 6.5848 s\n"
     ]
    },
    {
     "data": {
      "application/vnd.jupyter.widget-view+json": {
       "model_id": "",
       "version_major": 2,
       "version_minor": 0
      },
      "text/plain": [
       "HBox(children=(FloatProgress(value=0.0, description='Training', layout=Layout(flex='2'), max=282.0, style=Prog…"
      ]
     },
     "metadata": {},
     "output_type": "display_data"
    },
    {
     "name": "stdout",
     "output_type": "stream",
     "text": [
      "Epoch 250: train=21036.2, val=20854.7, took 6.5813 s\n"
     ]
    },
    {
     "data": {
      "application/vnd.jupyter.widget-view+json": {
       "model_id": "",
       "version_major": 2,
       "version_minor": 0
      },
      "text/plain": [
       "HBox(children=(FloatProgress(value=0.0, description='Training', layout=Layout(flex='2'), max=282.0, style=Prog…"
      ]
     },
     "metadata": {},
     "output_type": "display_data"
    },
    {
     "name": "stdout",
     "output_type": "stream",
     "text": [
      "Epoch 251: train=21028.1, val=20847.0, took 6.6168 s\n"
     ]
    },
    {
     "data": {
      "application/vnd.jupyter.widget-view+json": {
       "model_id": "",
       "version_major": 2,
       "version_minor": 0
      },
      "text/plain": [
       "HBox(children=(FloatProgress(value=0.0, description='Training', layout=Layout(flex='2'), max=282.0, style=Prog…"
      ]
     },
     "metadata": {},
     "output_type": "display_data"
    },
    {
     "name": "stdout",
     "output_type": "stream",
     "text": [
      "Epoch 252: train=21020.0, val=20837.0, took 6.5908 s\n"
     ]
    },
    {
     "data": {
      "application/vnd.jupyter.widget-view+json": {
       "model_id": "",
       "version_major": 2,
       "version_minor": 0
      },
      "text/plain": [
       "HBox(children=(FloatProgress(value=0.0, description='Training', layout=Layout(flex='2'), max=282.0, style=Prog…"
      ]
     },
     "metadata": {},
     "output_type": "display_data"
    },
    {
     "name": "stdout",
     "output_type": "stream",
     "text": [
      "Epoch 253: train=21011.8, val=20828.7, took 6.6073 s\n"
     ]
    },
    {
     "data": {
      "application/vnd.jupyter.widget-view+json": {
       "model_id": "",
       "version_major": 2,
       "version_minor": 0
      },
      "text/plain": [
       "HBox(children=(FloatProgress(value=0.0, description='Training', layout=Layout(flex='2'), max=282.0, style=Prog…"
      ]
     },
     "metadata": {},
     "output_type": "display_data"
    },
    {
     "name": "stdout",
     "output_type": "stream",
     "text": [
      "Epoch 254: train=21003.8, val=20821.1, took 6.5485 s\n"
     ]
    },
    {
     "data": {
      "application/vnd.jupyter.widget-view+json": {
       "model_id": "",
       "version_major": 2,
       "version_minor": 0
      },
      "text/plain": [
       "HBox(children=(FloatProgress(value=0.0, description='Training', layout=Layout(flex='2'), max=282.0, style=Prog…"
      ]
     },
     "metadata": {},
     "output_type": "display_data"
    },
    {
     "name": "stdout",
     "output_type": "stream",
     "text": [
      "Epoch 255: train=20995.5, val=20813.4, took 6.5831 s\n"
     ]
    },
    {
     "data": {
      "application/vnd.jupyter.widget-view+json": {
       "model_id": "",
       "version_major": 2,
       "version_minor": 0
      },
      "text/plain": [
       "HBox(children=(FloatProgress(value=0.0, description='Training', layout=Layout(flex='2'), max=282.0, style=Prog…"
      ]
     },
     "metadata": {},
     "output_type": "display_data"
    },
    {
     "name": "stdout",
     "output_type": "stream",
     "text": [
      "Epoch 256: train=20987.9, val=20805.2, took 6.5983 s\n"
     ]
    },
    {
     "data": {
      "application/vnd.jupyter.widget-view+json": {
       "model_id": "",
       "version_major": 2,
       "version_minor": 0
      },
      "text/plain": [
       "HBox(children=(FloatProgress(value=0.0, description='Training', layout=Layout(flex='2'), max=282.0, style=Prog…"
      ]
     },
     "metadata": {},
     "output_type": "display_data"
    },
    {
     "name": "stdout",
     "output_type": "stream",
     "text": [
      "Epoch 257: train=20979.7, val=20798.3, took 6.6147 s\n"
     ]
    },
    {
     "data": {
      "application/vnd.jupyter.widget-view+json": {
       "model_id": "",
       "version_major": 2,
       "version_minor": 0
      },
      "text/plain": [
       "HBox(children=(FloatProgress(value=0.0, description='Training', layout=Layout(flex='2'), max=282.0, style=Prog…"
      ]
     },
     "metadata": {},
     "output_type": "display_data"
    },
    {
     "name": "stdout",
     "output_type": "stream",
     "text": [
      "Epoch 258: train=20971.8, val=20790.5, took 6.5797 s\n"
     ]
    },
    {
     "data": {
      "application/vnd.jupyter.widget-view+json": {
       "model_id": "",
       "version_major": 2,
       "version_minor": 0
      },
      "text/plain": [
       "HBox(children=(FloatProgress(value=0.0, description='Training', layout=Layout(flex='2'), max=282.0, style=Prog…"
      ]
     },
     "metadata": {},
     "output_type": "display_data"
    },
    {
     "name": "stdout",
     "output_type": "stream",
     "text": [
      "Epoch 259: train=20963.9, val=20784.4, took 6.6536 s\n"
     ]
    },
    {
     "data": {
      "application/vnd.jupyter.widget-view+json": {
       "model_id": "",
       "version_major": 2,
       "version_minor": 0
      },
      "text/plain": [
       "HBox(children=(FloatProgress(value=0.0, description='Training', layout=Layout(flex='2'), max=282.0, style=Prog…"
      ]
     },
     "metadata": {},
     "output_type": "display_data"
    },
    {
     "name": "stdout",
     "output_type": "stream",
     "text": [
      "Epoch 260: train=20956.6, val=20777.2, took 6.624 s\n"
     ]
    },
    {
     "data": {
      "application/vnd.jupyter.widget-view+json": {
       "model_id": "",
       "version_major": 2,
       "version_minor": 0
      },
      "text/plain": [
       "HBox(children=(FloatProgress(value=0.0, description='Training', layout=Layout(flex='2'), max=282.0, style=Prog…"
      ]
     },
     "metadata": {},
     "output_type": "display_data"
    },
    {
     "name": "stdout",
     "output_type": "stream",
     "text": [
      "Epoch 261: train=20948.3, val=20768.7, took 6.584 s\n"
     ]
    },
    {
     "data": {
      "application/vnd.jupyter.widget-view+json": {
       "model_id": "",
       "version_major": 2,
       "version_minor": 0
      },
      "text/plain": [
       "HBox(children=(FloatProgress(value=0.0, description='Training', layout=Layout(flex='2'), max=282.0, style=Prog…"
      ]
     },
     "metadata": {},
     "output_type": "display_data"
    },
    {
     "name": "stdout",
     "output_type": "stream",
     "text": [
      "Epoch 262: train=20940.9, val=20763.0, took 6.5999 s\n"
     ]
    },
    {
     "data": {
      "application/vnd.jupyter.widget-view+json": {
       "model_id": "",
       "version_major": 2,
       "version_minor": 0
      },
      "text/plain": [
       "HBox(children=(FloatProgress(value=0.0, description='Training', layout=Layout(flex='2'), max=282.0, style=Prog…"
      ]
     },
     "metadata": {},
     "output_type": "display_data"
    },
    {
     "name": "stdout",
     "output_type": "stream",
     "text": [
      "Epoch 263: train=20933.2, val=20755.8, took 6.6262 s\n"
     ]
    },
    {
     "data": {
      "application/vnd.jupyter.widget-view+json": {
       "model_id": "",
       "version_major": 2,
       "version_minor": 0
      },
      "text/plain": [
       "HBox(children=(FloatProgress(value=0.0, description='Training', layout=Layout(flex='2'), max=282.0, style=Prog…"
      ]
     },
     "metadata": {},
     "output_type": "display_data"
    },
    {
     "name": "stdout",
     "output_type": "stream",
     "text": [
      "Epoch 264: train=20925.8, val=20750.6, took 6.6039 s\n"
     ]
    },
    {
     "data": {
      "application/vnd.jupyter.widget-view+json": {
       "model_id": "",
       "version_major": 2,
       "version_minor": 0
      },
      "text/plain": [
       "HBox(children=(FloatProgress(value=0.0, description='Training', layout=Layout(flex='2'), max=282.0, style=Prog…"
      ]
     },
     "metadata": {},
     "output_type": "display_data"
    },
    {
     "name": "stdout",
     "output_type": "stream",
     "text": [
      "Epoch 265: train=20918.8, val=20743.7, took 6.6027 s\n"
     ]
    },
    {
     "data": {
      "application/vnd.jupyter.widget-view+json": {
       "model_id": "",
       "version_major": 2,
       "version_minor": 0
      },
      "text/plain": [
       "HBox(children=(FloatProgress(value=0.0, description='Training', layout=Layout(flex='2'), max=282.0, style=Prog…"
      ]
     },
     "metadata": {},
     "output_type": "display_data"
    },
    {
     "name": "stdout",
     "output_type": "stream",
     "text": [
      "Epoch 266: train=20911.5, val=20736.9, took 6.6601 s\n"
     ]
    },
    {
     "data": {
      "application/vnd.jupyter.widget-view+json": {
       "model_id": "",
       "version_major": 2,
       "version_minor": 0
      },
      "text/plain": [
       "HBox(children=(FloatProgress(value=0.0, description='Training', layout=Layout(flex='2'), max=282.0, style=Prog…"
      ]
     },
     "metadata": {},
     "output_type": "display_data"
    },
    {
     "name": "stdout",
     "output_type": "stream",
     "text": [
      "Epoch 267: train=20904.0, val=20731.3, took 6.6169 s\n"
     ]
    },
    {
     "data": {
      "application/vnd.jupyter.widget-view+json": {
       "model_id": "",
       "version_major": 2,
       "version_minor": 0
      },
      "text/plain": [
       "HBox(children=(FloatProgress(value=0.0, description='Training', layout=Layout(flex='2'), max=282.0, style=Prog…"
      ]
     },
     "metadata": {},
     "output_type": "display_data"
    },
    {
     "name": "stdout",
     "output_type": "stream",
     "text": [
      "Epoch 268: train=20896.3, val=20725.6, took 6.6037 s\n"
     ]
    },
    {
     "data": {
      "application/vnd.jupyter.widget-view+json": {
       "model_id": "",
       "version_major": 2,
       "version_minor": 0
      },
      "text/plain": [
       "HBox(children=(FloatProgress(value=0.0, description='Training', layout=Layout(flex='2'), max=282.0, style=Prog…"
      ]
     },
     "metadata": {},
     "output_type": "display_data"
    },
    {
     "name": "stdout",
     "output_type": "stream",
     "text": [
      "Epoch 269: train=20889.5, val=20720.4, took 6.6054 s\n"
     ]
    },
    {
     "data": {
      "application/vnd.jupyter.widget-view+json": {
       "model_id": "",
       "version_major": 2,
       "version_minor": 0
      },
      "text/plain": [
       "HBox(children=(FloatProgress(value=0.0, description='Training', layout=Layout(flex='2'), max=282.0, style=Prog…"
      ]
     },
     "metadata": {},
     "output_type": "display_data"
    },
    {
     "name": "stdout",
     "output_type": "stream",
     "text": [
      "Epoch 270: train=20882.0, val=20712.5, took 6.6081 s\n"
     ]
    },
    {
     "data": {
      "application/vnd.jupyter.widget-view+json": {
       "model_id": "",
       "version_major": 2,
       "version_minor": 0
      },
      "text/plain": [
       "HBox(children=(FloatProgress(value=0.0, description='Training', layout=Layout(flex='2'), max=282.0, style=Prog…"
      ]
     },
     "metadata": {},
     "output_type": "display_data"
    },
    {
     "name": "stdout",
     "output_type": "stream",
     "text": [
      "Epoch 271: train=20876.0, val=20706.2, took 6.6136 s\n"
     ]
    },
    {
     "data": {
      "application/vnd.jupyter.widget-view+json": {
       "model_id": "",
       "version_major": 2,
       "version_minor": 0
      },
      "text/plain": [
       "HBox(children=(FloatProgress(value=0.0, description='Training', layout=Layout(flex='2'), max=282.0, style=Prog…"
      ]
     },
     "metadata": {},
     "output_type": "display_data"
    },
    {
     "name": "stdout",
     "output_type": "stream",
     "text": [
      "Epoch 272: train=20869.0, val=20700.6, took 6.583 s\n"
     ]
    },
    {
     "data": {
      "application/vnd.jupyter.widget-view+json": {
       "model_id": "",
       "version_major": 2,
       "version_minor": 0
      },
      "text/plain": [
       "HBox(children=(FloatProgress(value=0.0, description='Training', layout=Layout(flex='2'), max=282.0, style=Prog…"
      ]
     },
     "metadata": {},
     "output_type": "display_data"
    },
    {
     "name": "stdout",
     "output_type": "stream",
     "text": [
      "Epoch 273: train=20862.3, val=20695.4, took 6.5769 s\n"
     ]
    },
    {
     "data": {
      "application/vnd.jupyter.widget-view+json": {
       "model_id": "",
       "version_major": 2,
       "version_minor": 0
      },
      "text/plain": [
       "HBox(children=(FloatProgress(value=0.0, description='Training', layout=Layout(flex='2'), max=282.0, style=Prog…"
      ]
     },
     "metadata": {},
     "output_type": "display_data"
    },
    {
     "name": "stdout",
     "output_type": "stream",
     "text": [
      "Epoch 274: train=20855.4, val=20689.4, took 6.5939 s\n"
     ]
    },
    {
     "data": {
      "application/vnd.jupyter.widget-view+json": {
       "model_id": "",
       "version_major": 2,
       "version_minor": 0
      },
      "text/plain": [
       "HBox(children=(FloatProgress(value=0.0, description='Training', layout=Layout(flex='2'), max=282.0, style=Prog…"
      ]
     },
     "metadata": {},
     "output_type": "display_data"
    },
    {
     "name": "stdout",
     "output_type": "stream",
     "text": [
      "Epoch 275: train=20848.8, val=20683.6, took 6.6428 s\n"
     ]
    },
    {
     "data": {
      "application/vnd.jupyter.widget-view+json": {
       "model_id": "",
       "version_major": 2,
       "version_minor": 0
      },
      "text/plain": [
       "HBox(children=(FloatProgress(value=0.0, description='Training', layout=Layout(flex='2'), max=282.0, style=Prog…"
      ]
     },
     "metadata": {},
     "output_type": "display_data"
    },
    {
     "name": "stdout",
     "output_type": "stream",
     "text": [
      "Epoch 276: train=20839.8, val=20675.0, took 6.6085 s\n"
     ]
    },
    {
     "data": {
      "application/vnd.jupyter.widget-view+json": {
       "model_id": "",
       "version_major": 2,
       "version_minor": 0
      },
      "text/plain": [
       "HBox(children=(FloatProgress(value=0.0, description='Training', layout=Layout(flex='2'), max=282.0, style=Prog…"
      ]
     },
     "metadata": {},
     "output_type": "display_data"
    },
    {
     "name": "stdout",
     "output_type": "stream",
     "text": [
      "Epoch 277: train=20833.6, val=20670.9, took 6.6468 s\n"
     ]
    },
    {
     "data": {
      "application/vnd.jupyter.widget-view+json": {
       "model_id": "",
       "version_major": 2,
       "version_minor": 0
      },
      "text/plain": [
       "HBox(children=(FloatProgress(value=0.0, description='Training', layout=Layout(flex='2'), max=282.0, style=Prog…"
      ]
     },
     "metadata": {},
     "output_type": "display_data"
    },
    {
     "name": "stdout",
     "output_type": "stream",
     "text": [
      "Epoch 278: train=20827.2, val=20665.7, took 6.5983 s\n"
     ]
    },
    {
     "data": {
      "application/vnd.jupyter.widget-view+json": {
       "model_id": "",
       "version_major": 2,
       "version_minor": 0
      },
      "text/plain": [
       "HBox(children=(FloatProgress(value=0.0, description='Training', layout=Layout(flex='2'), max=282.0, style=Prog…"
      ]
     },
     "metadata": {},
     "output_type": "display_data"
    },
    {
     "name": "stdout",
     "output_type": "stream",
     "text": [
      "Epoch 279: train=20821.2, val=20661.9, took 6.6367 s\n"
     ]
    },
    {
     "data": {
      "application/vnd.jupyter.widget-view+json": {
       "model_id": "",
       "version_major": 2,
       "version_minor": 0
      },
      "text/plain": [
       "HBox(children=(FloatProgress(value=0.0, description='Training', layout=Layout(flex='2'), max=282.0, style=Prog…"
      ]
     },
     "metadata": {},
     "output_type": "display_data"
    },
    {
     "name": "stdout",
     "output_type": "stream",
     "text": [
      "Epoch 280: train=20814.5, val=20654.5, took 6.5677 s\n"
     ]
    },
    {
     "data": {
      "application/vnd.jupyter.widget-view+json": {
       "model_id": "",
       "version_major": 2,
       "version_minor": 0
      },
      "text/plain": [
       "HBox(children=(FloatProgress(value=0.0, description='Training', layout=Layout(flex='2'), max=282.0, style=Prog…"
      ]
     },
     "metadata": {},
     "output_type": "display_data"
    },
    {
     "name": "stdout",
     "output_type": "stream",
     "text": [
      "Epoch 281: train=20806.7, val=20646.6, took 6.7135 s\n"
     ]
    },
    {
     "data": {
      "application/vnd.jupyter.widget-view+json": {
       "model_id": "",
       "version_major": 2,
       "version_minor": 0
      },
      "text/plain": [
       "HBox(children=(FloatProgress(value=0.0, description='Training', layout=Layout(flex='2'), max=282.0, style=Prog…"
      ]
     },
     "metadata": {},
     "output_type": "display_data"
    },
    {
     "name": "stdout",
     "output_type": "stream",
     "text": [
      "Epoch 282: train=20800.0, val=20643.7, took 6.6315 s\n"
     ]
    },
    {
     "data": {
      "application/vnd.jupyter.widget-view+json": {
       "model_id": "",
       "version_major": 2,
       "version_minor": 0
      },
      "text/plain": [
       "HBox(children=(FloatProgress(value=0.0, description='Training', layout=Layout(flex='2'), max=282.0, style=Prog…"
      ]
     },
     "metadata": {},
     "output_type": "display_data"
    },
    {
     "name": "stdout",
     "output_type": "stream",
     "text": [
      "Epoch 283: train=20794.4, val=20639.9, took 6.5947 s\n"
     ]
    },
    {
     "data": {
      "application/vnd.jupyter.widget-view+json": {
       "model_id": "",
       "version_major": 2,
       "version_minor": 0
      },
      "text/plain": [
       "HBox(children=(FloatProgress(value=0.0, description='Training', layout=Layout(flex='2'), max=282.0, style=Prog…"
      ]
     },
     "metadata": {},
     "output_type": "display_data"
    },
    {
     "name": "stdout",
     "output_type": "stream",
     "text": [
      "Epoch 284: train=20788.1, val=20633.3, took 6.6312 s\n"
     ]
    },
    {
     "data": {
      "application/vnd.jupyter.widget-view+json": {
       "model_id": "",
       "version_major": 2,
       "version_minor": 0
      },
      "text/plain": [
       "HBox(children=(FloatProgress(value=0.0, description='Training', layout=Layout(flex='2'), max=282.0, style=Prog…"
      ]
     },
     "metadata": {},
     "output_type": "display_data"
    },
    {
     "name": "stdout",
     "output_type": "stream",
     "text": [
      "Epoch 285: train=20781.8, val=20628.3, took 6.5791 s\n"
     ]
    },
    {
     "data": {
      "application/vnd.jupyter.widget-view+json": {
       "model_id": "",
       "version_major": 2,
       "version_minor": 0
      },
      "text/plain": [
       "HBox(children=(FloatProgress(value=0.0, description='Training', layout=Layout(flex='2'), max=282.0, style=Prog…"
      ]
     },
     "metadata": {},
     "output_type": "display_data"
    },
    {
     "name": "stdout",
     "output_type": "stream",
     "text": [
      "Epoch 286: train=20774.7, val=20620.9, took 6.6789 s\n"
     ]
    },
    {
     "data": {
      "application/vnd.jupyter.widget-view+json": {
       "model_id": "",
       "version_major": 2,
       "version_minor": 0
      },
      "text/plain": [
       "HBox(children=(FloatProgress(value=0.0, description='Training', layout=Layout(flex='2'), max=282.0, style=Prog…"
      ]
     },
     "metadata": {},
     "output_type": "display_data"
    },
    {
     "name": "stdout",
     "output_type": "stream",
     "text": [
      "Epoch 287: train=20767.6, val=20618.2, took 6.6025 s\n"
     ]
    },
    {
     "data": {
      "application/vnd.jupyter.widget-view+json": {
       "model_id": "",
       "version_major": 2,
       "version_minor": 0
      },
      "text/plain": [
       "HBox(children=(FloatProgress(value=0.0, description='Training', layout=Layout(flex='2'), max=282.0, style=Prog…"
      ]
     },
     "metadata": {},
     "output_type": "display_data"
    },
    {
     "name": "stdout",
     "output_type": "stream",
     "text": [
      "Epoch 288: train=20761.0, val=20611.8, took 6.6288 s\n"
     ]
    },
    {
     "data": {
      "application/vnd.jupyter.widget-view+json": {
       "model_id": "",
       "version_major": 2,
       "version_minor": 0
      },
      "text/plain": [
       "HBox(children=(FloatProgress(value=0.0, description='Training', layout=Layout(flex='2'), max=282.0, style=Prog…"
      ]
     },
     "metadata": {},
     "output_type": "display_data"
    },
    {
     "name": "stdout",
     "output_type": "stream",
     "text": [
      "Epoch 289: train=20755.0, val=20606.8, took 6.6748 s\n"
     ]
    },
    {
     "data": {
      "application/vnd.jupyter.widget-view+json": {
       "model_id": "",
       "version_major": 2,
       "version_minor": 0
      },
      "text/plain": [
       "HBox(children=(FloatProgress(value=0.0, description='Training', layout=Layout(flex='2'), max=282.0, style=Prog…"
      ]
     },
     "metadata": {},
     "output_type": "display_data"
    },
    {
     "name": "stdout",
     "output_type": "stream",
     "text": [
      "Epoch 290: train=20749.4, val=20603.4, took 6.592 s\n"
     ]
    },
    {
     "data": {
      "application/vnd.jupyter.widget-view+json": {
       "model_id": "",
       "version_major": 2,
       "version_minor": 0
      },
      "text/plain": [
       "HBox(children=(FloatProgress(value=0.0, description='Training', layout=Layout(flex='2'), max=282.0, style=Prog…"
      ]
     },
     "metadata": {},
     "output_type": "display_data"
    },
    {
     "name": "stdout",
     "output_type": "stream",
     "text": [
      "Epoch 291: train=20743.0, val=20594.9, took 6.621 s\n"
     ]
    },
    {
     "data": {
      "application/vnd.jupyter.widget-view+json": {
       "model_id": "",
       "version_major": 2,
       "version_minor": 0
      },
      "text/plain": [
       "HBox(children=(FloatProgress(value=0.0, description='Training', layout=Layout(flex='2'), max=282.0, style=Prog…"
      ]
     },
     "metadata": {},
     "output_type": "display_data"
    },
    {
     "name": "stdout",
     "output_type": "stream",
     "text": [
      "Epoch 292: train=20736.8, val=20587.4, took 6.6219 s\n"
     ]
    },
    {
     "data": {
      "application/vnd.jupyter.widget-view+json": {
       "model_id": "",
       "version_major": 2,
       "version_minor": 0
      },
      "text/plain": [
       "HBox(children=(FloatProgress(value=0.0, description='Training', layout=Layout(flex='2'), max=282.0, style=Prog…"
      ]
     },
     "metadata": {},
     "output_type": "display_data"
    },
    {
     "name": "stdout",
     "output_type": "stream",
     "text": [
      "Epoch 293: train=20728.5, val=20578.8, took 6.5867 s\n"
     ]
    },
    {
     "data": {
      "application/vnd.jupyter.widget-view+json": {
       "model_id": "",
       "version_major": 2,
       "version_minor": 0
      },
      "text/plain": [
       "HBox(children=(FloatProgress(value=0.0, description='Training', layout=Layout(flex='2'), max=282.0, style=Prog…"
      ]
     },
     "metadata": {},
     "output_type": "display_data"
    },
    {
     "name": "stdout",
     "output_type": "stream",
     "text": [
      "Epoch 294: train=20721.9, val=20579.6, took 6.6088 s\n"
     ]
    },
    {
     "data": {
      "application/vnd.jupyter.widget-view+json": {
       "model_id": "",
       "version_major": 2,
       "version_minor": 0
      },
      "text/plain": [
       "HBox(children=(FloatProgress(value=0.0, description='Training', layout=Layout(flex='2'), max=282.0, style=Prog…"
      ]
     },
     "metadata": {},
     "output_type": "display_data"
    },
    {
     "name": "stdout",
     "output_type": "stream",
     "text": [
      "Epoch 295: train=20718.6, val=20573.9, took 6.5989 s\n"
     ]
    },
    {
     "data": {
      "application/vnd.jupyter.widget-view+json": {
       "model_id": "",
       "version_major": 2,
       "version_minor": 0
      },
      "text/plain": [
       "HBox(children=(FloatProgress(value=0.0, description='Training', layout=Layout(flex='2'), max=282.0, style=Prog…"
      ]
     },
     "metadata": {},
     "output_type": "display_data"
    },
    {
     "name": "stdout",
     "output_type": "stream",
     "text": [
      "Epoch 296: train=20712.2, val=20568.3, took 6.5973 s\n"
     ]
    },
    {
     "data": {
      "application/vnd.jupyter.widget-view+json": {
       "model_id": "",
       "version_major": 2,
       "version_minor": 0
      },
      "text/plain": [
       "HBox(children=(FloatProgress(value=0.0, description='Training', layout=Layout(flex='2'), max=282.0, style=Prog…"
      ]
     },
     "metadata": {},
     "output_type": "display_data"
    },
    {
     "name": "stdout",
     "output_type": "stream",
     "text": [
      "Epoch 297: train=20705.9, val=20562.2, took 6.5809 s\n"
     ]
    },
    {
     "data": {
      "application/vnd.jupyter.widget-view+json": {
       "model_id": "",
       "version_major": 2,
       "version_minor": 0
      },
      "text/plain": [
       "HBox(children=(FloatProgress(value=0.0, description='Training', layout=Layout(flex='2'), max=282.0, style=Prog…"
      ]
     },
     "metadata": {},
     "output_type": "display_data"
    },
    {
     "name": "stdout",
     "output_type": "stream",
     "text": [
      "Epoch 298: train=20700.2, val=20558.0, took 6.5723 s\n"
     ]
    },
    {
     "data": {
      "application/vnd.jupyter.widget-view+json": {
       "model_id": "",
       "version_major": 2,
       "version_minor": 0
      },
      "text/plain": [
       "HBox(children=(FloatProgress(value=0.0, description='Training', layout=Layout(flex='2'), max=282.0, style=Prog…"
      ]
     },
     "metadata": {},
     "output_type": "display_data"
    },
    {
     "name": "stdout",
     "output_type": "stream",
     "text": [
      "Epoch 299: train=20694.5, val=20552.8, took 6.6397 s\n",
      "\n"
     ]
    }
   ],
   "source": [
    "for result in trainNet(model, optimizer, loss,\n",
    "                        train_loader, val_loader,\n",
    "                        n_epochs, epoch_start=len(results),\n",
    "                        notebook=True):\n",
    "    \n",
    "    results = results.append(pd.Series(result._asdict()), ignore_index=True)\n",
    "    xs = results.index\n",
    "    \n",
    "    # Update the plot above\n",
    "    lines['train'].set_data(results.index,results.cost)\n",
    "    lines['val'].set_data(results.index,results.val)\n",
    "    \n",
    "    #filter first cost epoch (can be really large)\n",
    "    max_cost = max(max(results.cost if len(results.cost)<2 else results.cost[1:]), max(results.val))\n",
    "    min_cost = min(min(results.cost), min(results.val))\n",
    "    \n",
    "    # The plot limits need updating too\n",
    "    \n",
    "    \n",
    "    \n",
    "    ax.set_ylim(min_cost*.9, max_cost*1.1)  \n",
    "    ax.set_xlim(-.5, len(results.cost) - .5)\n",
    "\n",
    "    \n",
    "    # Redraw the figure\n",
    "    fig.canvas.draw()\n",
    "\n",
    "    # Save each model state dictionary\n",
    "    torch.save(model.state_dict(), output / f'{name}_{result.epoch}.pyt')"
   ]
  },
  {
   "cell_type": "markdown",
   "metadata": {},
   "source": [
    "Go ahead and save the final model (even though it was also saved above):"
   ]
  },
  {
   "cell_type": "code",
   "execution_count": 17,
   "metadata": {},
   "outputs": [],
   "source": [
    "torch.save(model.state_dict(), output / f'{name}_final.pyt')"
   ]
  },
  {
   "cell_type": "markdown",
   "metadata": {},
   "source": [
    "Save the output results:"
   ]
  },
  {
   "cell_type": "code",
   "execution_count": 18,
   "metadata": {},
   "outputs": [],
   "source": [
    "results.to_hdf(f'{name}_stats.hdf5', 'results')"
   ]
  },
  {
   "cell_type": "markdown",
   "metadata": {},
   "source": [
    "Save the plot above:"
   ]
  },
  {
   "cell_type": "code",
   "execution_count": 19,
   "metadata": {
    "scrolled": false
   },
   "outputs": [
    {
     "data": {
      "application/javascript": [
       "/* Put everything inside the global mpl namespace */\n",
       "window.mpl = {};\n",
       "\n",
       "\n",
       "mpl.get_websocket_type = function() {\n",
       "    if (typeof(WebSocket) !== 'undefined') {\n",
       "        return WebSocket;\n",
       "    } else if (typeof(MozWebSocket) !== 'undefined') {\n",
       "        return MozWebSocket;\n",
       "    } else {\n",
       "        alert('Your browser does not have WebSocket support. ' +\n",
       "              'Please try Chrome, Safari or Firefox ≥ 6. ' +\n",
       "              'Firefox 4 and 5 are also supported but you ' +\n",
       "              'have to enable WebSockets in about:config.');\n",
       "    };\n",
       "}\n",
       "\n",
       "mpl.figure = function(figure_id, websocket, ondownload, parent_element) {\n",
       "    this.id = figure_id;\n",
       "\n",
       "    this.ws = websocket;\n",
       "\n",
       "    this.supports_binary = (this.ws.binaryType != undefined);\n",
       "\n",
       "    if (!this.supports_binary) {\n",
       "        var warnings = document.getElementById(\"mpl-warnings\");\n",
       "        if (warnings) {\n",
       "            warnings.style.display = 'block';\n",
       "            warnings.textContent = (\n",
       "                \"This browser does not support binary websocket messages. \" +\n",
       "                    \"Performance may be slow.\");\n",
       "        }\n",
       "    }\n",
       "\n",
       "    this.imageObj = new Image();\n",
       "\n",
       "    this.context = undefined;\n",
       "    this.message = undefined;\n",
       "    this.canvas = undefined;\n",
       "    this.rubberband_canvas = undefined;\n",
       "    this.rubberband_context = undefined;\n",
       "    this.format_dropdown = undefined;\n",
       "\n",
       "    this.image_mode = 'full';\n",
       "\n",
       "    this.root = $('<div/>');\n",
       "    this._root_extra_style(this.root)\n",
       "    this.root.attr('style', 'display: inline-block');\n",
       "\n",
       "    $(parent_element).append(this.root);\n",
       "\n",
       "    this._init_header(this);\n",
       "    this._init_canvas(this);\n",
       "    this._init_toolbar(this);\n",
       "\n",
       "    var fig = this;\n",
       "\n",
       "    this.waiting = false;\n",
       "\n",
       "    this.ws.onopen =  function () {\n",
       "            fig.send_message(\"supports_binary\", {value: fig.supports_binary});\n",
       "            fig.send_message(\"send_image_mode\", {});\n",
       "            if (mpl.ratio != 1) {\n",
       "                fig.send_message(\"set_dpi_ratio\", {'dpi_ratio': mpl.ratio});\n",
       "            }\n",
       "            fig.send_message(\"refresh\", {});\n",
       "        }\n",
       "\n",
       "    this.imageObj.onload = function() {\n",
       "            if (fig.image_mode == 'full') {\n",
       "                // Full images could contain transparency (where diff images\n",
       "                // almost always do), so we need to clear the canvas so that\n",
       "                // there is no ghosting.\n",
       "                fig.context.clearRect(0, 0, fig.canvas.width, fig.canvas.height);\n",
       "            }\n",
       "            fig.context.drawImage(fig.imageObj, 0, 0);\n",
       "        };\n",
       "\n",
       "    this.imageObj.onunload = function() {\n",
       "        fig.ws.close();\n",
       "    }\n",
       "\n",
       "    this.ws.onmessage = this._make_on_message_function(this);\n",
       "\n",
       "    this.ondownload = ondownload;\n",
       "}\n",
       "\n",
       "mpl.figure.prototype._init_header = function() {\n",
       "    var titlebar = $(\n",
       "        '<div class=\"ui-dialog-titlebar ui-widget-header ui-corner-all ' +\n",
       "        'ui-helper-clearfix\"/>');\n",
       "    var titletext = $(\n",
       "        '<div class=\"ui-dialog-title\" style=\"width: 100%; ' +\n",
       "        'text-align: center; padding: 3px;\"/>');\n",
       "    titlebar.append(titletext)\n",
       "    this.root.append(titlebar);\n",
       "    this.header = titletext[0];\n",
       "}\n",
       "\n",
       "\n",
       "\n",
       "mpl.figure.prototype._canvas_extra_style = function(canvas_div) {\n",
       "\n",
       "}\n",
       "\n",
       "\n",
       "mpl.figure.prototype._root_extra_style = function(canvas_div) {\n",
       "\n",
       "}\n",
       "\n",
       "mpl.figure.prototype._init_canvas = function() {\n",
       "    var fig = this;\n",
       "\n",
       "    var canvas_div = $('<div/>');\n",
       "\n",
       "    canvas_div.attr('style', 'position: relative; clear: both; outline: 0');\n",
       "\n",
       "    function canvas_keyboard_event(event) {\n",
       "        return fig.key_event(event, event['data']);\n",
       "    }\n",
       "\n",
       "    canvas_div.keydown('key_press', canvas_keyboard_event);\n",
       "    canvas_div.keyup('key_release', canvas_keyboard_event);\n",
       "    this.canvas_div = canvas_div\n",
       "    this._canvas_extra_style(canvas_div)\n",
       "    this.root.append(canvas_div);\n",
       "\n",
       "    var canvas = $('<canvas/>');\n",
       "    canvas.addClass('mpl-canvas');\n",
       "    canvas.attr('style', \"left: 0; top: 0; z-index: 0; outline: 0\")\n",
       "\n",
       "    this.canvas = canvas[0];\n",
       "    this.context = canvas[0].getContext(\"2d\");\n",
       "\n",
       "    var backingStore = this.context.backingStorePixelRatio ||\n",
       "\tthis.context.webkitBackingStorePixelRatio ||\n",
       "\tthis.context.mozBackingStorePixelRatio ||\n",
       "\tthis.context.msBackingStorePixelRatio ||\n",
       "\tthis.context.oBackingStorePixelRatio ||\n",
       "\tthis.context.backingStorePixelRatio || 1;\n",
       "\n",
       "    mpl.ratio = (window.devicePixelRatio || 1) / backingStore;\n",
       "\n",
       "    var rubberband = $('<canvas/>');\n",
       "    rubberband.attr('style', \"position: absolute; left: 0; top: 0; z-index: 1;\")\n",
       "\n",
       "    var pass_mouse_events = true;\n",
       "\n",
       "    canvas_div.resizable({\n",
       "        start: function(event, ui) {\n",
       "            pass_mouse_events = false;\n",
       "        },\n",
       "        resize: function(event, ui) {\n",
       "            fig.request_resize(ui.size.width, ui.size.height);\n",
       "        },\n",
       "        stop: function(event, ui) {\n",
       "            pass_mouse_events = true;\n",
       "            fig.request_resize(ui.size.width, ui.size.height);\n",
       "        },\n",
       "    });\n",
       "\n",
       "    function mouse_event_fn(event) {\n",
       "        if (pass_mouse_events)\n",
       "            return fig.mouse_event(event, event['data']);\n",
       "    }\n",
       "\n",
       "    rubberband.mousedown('button_press', mouse_event_fn);\n",
       "    rubberband.mouseup('button_release', mouse_event_fn);\n",
       "    // Throttle sequential mouse events to 1 every 20ms.\n",
       "    rubberband.mousemove('motion_notify', mouse_event_fn);\n",
       "\n",
       "    rubberband.mouseenter('figure_enter', mouse_event_fn);\n",
       "    rubberband.mouseleave('figure_leave', mouse_event_fn);\n",
       "\n",
       "    canvas_div.on(\"wheel\", function (event) {\n",
       "        event = event.originalEvent;\n",
       "        event['data'] = 'scroll'\n",
       "        if (event.deltaY < 0) {\n",
       "            event.step = 1;\n",
       "        } else {\n",
       "            event.step = -1;\n",
       "        }\n",
       "        mouse_event_fn(event);\n",
       "    });\n",
       "\n",
       "    canvas_div.append(canvas);\n",
       "    canvas_div.append(rubberband);\n",
       "\n",
       "    this.rubberband = rubberband;\n",
       "    this.rubberband_canvas = rubberband[0];\n",
       "    this.rubberband_context = rubberband[0].getContext(\"2d\");\n",
       "    this.rubberband_context.strokeStyle = \"#000000\";\n",
       "\n",
       "    this._resize_canvas = function(width, height) {\n",
       "        // Keep the size of the canvas, canvas container, and rubber band\n",
       "        // canvas in synch.\n",
       "        canvas_div.css('width', width)\n",
       "        canvas_div.css('height', height)\n",
       "\n",
       "        canvas.attr('width', width * mpl.ratio);\n",
       "        canvas.attr('height', height * mpl.ratio);\n",
       "        canvas.attr('style', 'width: ' + width + 'px; height: ' + height + 'px;');\n",
       "\n",
       "        rubberband.attr('width', width);\n",
       "        rubberband.attr('height', height);\n",
       "    }\n",
       "\n",
       "    // Set the figure to an initial 600x600px, this will subsequently be updated\n",
       "    // upon first draw.\n",
       "    this._resize_canvas(600, 600);\n",
       "\n",
       "    // Disable right mouse context menu.\n",
       "    $(this.rubberband_canvas).bind(\"contextmenu\",function(e){\n",
       "        return false;\n",
       "    });\n",
       "\n",
       "    function set_focus () {\n",
       "        canvas.focus();\n",
       "        canvas_div.focus();\n",
       "    }\n",
       "\n",
       "    window.setTimeout(set_focus, 100);\n",
       "}\n",
       "\n",
       "mpl.figure.prototype._init_toolbar = function() {\n",
       "    var fig = this;\n",
       "\n",
       "    var nav_element = $('<div/>');\n",
       "    nav_element.attr('style', 'width: 100%');\n",
       "    this.root.append(nav_element);\n",
       "\n",
       "    // Define a callback function for later on.\n",
       "    function toolbar_event(event) {\n",
       "        return fig.toolbar_button_onclick(event['data']);\n",
       "    }\n",
       "    function toolbar_mouse_event(event) {\n",
       "        return fig.toolbar_button_onmouseover(event['data']);\n",
       "    }\n",
       "\n",
       "    for(var toolbar_ind in mpl.toolbar_items) {\n",
       "        var name = mpl.toolbar_items[toolbar_ind][0];\n",
       "        var tooltip = mpl.toolbar_items[toolbar_ind][1];\n",
       "        var image = mpl.toolbar_items[toolbar_ind][2];\n",
       "        var method_name = mpl.toolbar_items[toolbar_ind][3];\n",
       "\n",
       "        if (!name) {\n",
       "            // put a spacer in here.\n",
       "            continue;\n",
       "        }\n",
       "        var button = $('<button/>');\n",
       "        button.addClass('ui-button ui-widget ui-state-default ui-corner-all ' +\n",
       "                        'ui-button-icon-only');\n",
       "        button.attr('role', 'button');\n",
       "        button.attr('aria-disabled', 'false');\n",
       "        button.click(method_name, toolbar_event);\n",
       "        button.mouseover(tooltip, toolbar_mouse_event);\n",
       "\n",
       "        var icon_img = $('<span/>');\n",
       "        icon_img.addClass('ui-button-icon-primary ui-icon');\n",
       "        icon_img.addClass(image);\n",
       "        icon_img.addClass('ui-corner-all');\n",
       "\n",
       "        var tooltip_span = $('<span/>');\n",
       "        tooltip_span.addClass('ui-button-text');\n",
       "        tooltip_span.html(tooltip);\n",
       "\n",
       "        button.append(icon_img);\n",
       "        button.append(tooltip_span);\n",
       "\n",
       "        nav_element.append(button);\n",
       "    }\n",
       "\n",
       "    var fmt_picker_span = $('<span/>');\n",
       "\n",
       "    var fmt_picker = $('<select/>');\n",
       "    fmt_picker.addClass('mpl-toolbar-option ui-widget ui-widget-content');\n",
       "    fmt_picker_span.append(fmt_picker);\n",
       "    nav_element.append(fmt_picker_span);\n",
       "    this.format_dropdown = fmt_picker[0];\n",
       "\n",
       "    for (var ind in mpl.extensions) {\n",
       "        var fmt = mpl.extensions[ind];\n",
       "        var option = $(\n",
       "            '<option/>', {selected: fmt === mpl.default_extension}).html(fmt);\n",
       "        fmt_picker.append(option);\n",
       "    }\n",
       "\n",
       "    // Add hover states to the ui-buttons\n",
       "    $( \".ui-button\" ).hover(\n",
       "        function() { $(this).addClass(\"ui-state-hover\");},\n",
       "        function() { $(this).removeClass(\"ui-state-hover\");}\n",
       "    );\n",
       "\n",
       "    var status_bar = $('<span class=\"mpl-message\"/>');\n",
       "    nav_element.append(status_bar);\n",
       "    this.message = status_bar[0];\n",
       "}\n",
       "\n",
       "mpl.figure.prototype.request_resize = function(x_pixels, y_pixels) {\n",
       "    // Request matplotlib to resize the figure. Matplotlib will then trigger a resize in the client,\n",
       "    // which will in turn request a refresh of the image.\n",
       "    this.send_message('resize', {'width': x_pixels, 'height': y_pixels});\n",
       "}\n",
       "\n",
       "mpl.figure.prototype.send_message = function(type, properties) {\n",
       "    properties['type'] = type;\n",
       "    properties['figure_id'] = this.id;\n",
       "    this.ws.send(JSON.stringify(properties));\n",
       "}\n",
       "\n",
       "mpl.figure.prototype.send_draw_message = function() {\n",
       "    if (!this.waiting) {\n",
       "        this.waiting = true;\n",
       "        this.ws.send(JSON.stringify({type: \"draw\", figure_id: this.id}));\n",
       "    }\n",
       "}\n",
       "\n",
       "\n",
       "mpl.figure.prototype.handle_save = function(fig, msg) {\n",
       "    var format_dropdown = fig.format_dropdown;\n",
       "    var format = format_dropdown.options[format_dropdown.selectedIndex].value;\n",
       "    fig.ondownload(fig, format);\n",
       "}\n",
       "\n",
       "\n",
       "mpl.figure.prototype.handle_resize = function(fig, msg) {\n",
       "    var size = msg['size'];\n",
       "    if (size[0] != fig.canvas.width || size[1] != fig.canvas.height) {\n",
       "        fig._resize_canvas(size[0], size[1]);\n",
       "        fig.send_message(\"refresh\", {});\n",
       "    };\n",
       "}\n",
       "\n",
       "mpl.figure.prototype.handle_rubberband = function(fig, msg) {\n",
       "    var x0 = msg['x0'] / mpl.ratio;\n",
       "    var y0 = (fig.canvas.height - msg['y0']) / mpl.ratio;\n",
       "    var x1 = msg['x1'] / mpl.ratio;\n",
       "    var y1 = (fig.canvas.height - msg['y1']) / mpl.ratio;\n",
       "    x0 = Math.floor(x0) + 0.5;\n",
       "    y0 = Math.floor(y0) + 0.5;\n",
       "    x1 = Math.floor(x1) + 0.5;\n",
       "    y1 = Math.floor(y1) + 0.5;\n",
       "    var min_x = Math.min(x0, x1);\n",
       "    var min_y = Math.min(y0, y1);\n",
       "    var width = Math.abs(x1 - x0);\n",
       "    var height = Math.abs(y1 - y0);\n",
       "\n",
       "    fig.rubberband_context.clearRect(\n",
       "        0, 0, fig.canvas.width / mpl.ratio, fig.canvas.height / mpl.ratio);\n",
       "\n",
       "    fig.rubberband_context.strokeRect(min_x, min_y, width, height);\n",
       "}\n",
       "\n",
       "mpl.figure.prototype.handle_figure_label = function(fig, msg) {\n",
       "    // Updates the figure title.\n",
       "    fig.header.textContent = msg['label'];\n",
       "}\n",
       "\n",
       "mpl.figure.prototype.handle_cursor = function(fig, msg) {\n",
       "    var cursor = msg['cursor'];\n",
       "    switch(cursor)\n",
       "    {\n",
       "    case 0:\n",
       "        cursor = 'pointer';\n",
       "        break;\n",
       "    case 1:\n",
       "        cursor = 'default';\n",
       "        break;\n",
       "    case 2:\n",
       "        cursor = 'crosshair';\n",
       "        break;\n",
       "    case 3:\n",
       "        cursor = 'move';\n",
       "        break;\n",
       "    }\n",
       "    fig.rubberband_canvas.style.cursor = cursor;\n",
       "}\n",
       "\n",
       "mpl.figure.prototype.handle_message = function(fig, msg) {\n",
       "    fig.message.textContent = msg['message'];\n",
       "}\n",
       "\n",
       "mpl.figure.prototype.handle_draw = function(fig, msg) {\n",
       "    // Request the server to send over a new figure.\n",
       "    fig.send_draw_message();\n",
       "}\n",
       "\n",
       "mpl.figure.prototype.handle_image_mode = function(fig, msg) {\n",
       "    fig.image_mode = msg['mode'];\n",
       "}\n",
       "\n",
       "mpl.figure.prototype.updated_canvas_event = function() {\n",
       "    // Called whenever the canvas gets updated.\n",
       "    this.send_message(\"ack\", {});\n",
       "}\n",
       "\n",
       "// A function to construct a web socket function for onmessage handling.\n",
       "// Called in the figure constructor.\n",
       "mpl.figure.prototype._make_on_message_function = function(fig) {\n",
       "    return function socket_on_message(evt) {\n",
       "        if (evt.data instanceof Blob) {\n",
       "            /* FIXME: We get \"Resource interpreted as Image but\n",
       "             * transferred with MIME type text/plain:\" errors on\n",
       "             * Chrome.  But how to set the MIME type?  It doesn't seem\n",
       "             * to be part of the websocket stream */\n",
       "            evt.data.type = \"image/png\";\n",
       "\n",
       "            /* Free the memory for the previous frames */\n",
       "            if (fig.imageObj.src) {\n",
       "                (window.URL || window.webkitURL).revokeObjectURL(\n",
       "                    fig.imageObj.src);\n",
       "            }\n",
       "\n",
       "            fig.imageObj.src = (window.URL || window.webkitURL).createObjectURL(\n",
       "                evt.data);\n",
       "            fig.updated_canvas_event();\n",
       "            fig.waiting = false;\n",
       "            return;\n",
       "        }\n",
       "        else if (typeof evt.data === 'string' && evt.data.slice(0, 21) == \"data:image/png;base64\") {\n",
       "            fig.imageObj.src = evt.data;\n",
       "            fig.updated_canvas_event();\n",
       "            fig.waiting = false;\n",
       "            return;\n",
       "        }\n",
       "\n",
       "        var msg = JSON.parse(evt.data);\n",
       "        var msg_type = msg['type'];\n",
       "\n",
       "        // Call the  \"handle_{type}\" callback, which takes\n",
       "        // the figure and JSON message as its only arguments.\n",
       "        try {\n",
       "            var callback = fig[\"handle_\" + msg_type];\n",
       "        } catch (e) {\n",
       "            console.log(\"No handler for the '\" + msg_type + \"' message type: \", msg);\n",
       "            return;\n",
       "        }\n",
       "\n",
       "        if (callback) {\n",
       "            try {\n",
       "                // console.log(\"Handling '\" + msg_type + \"' message: \", msg);\n",
       "                callback(fig, msg);\n",
       "            } catch (e) {\n",
       "                console.log(\"Exception inside the 'handler_\" + msg_type + \"' callback:\", e, e.stack, msg);\n",
       "            }\n",
       "        }\n",
       "    };\n",
       "}\n",
       "\n",
       "// from http://stackoverflow.com/questions/1114465/getting-mouse-location-in-canvas\n",
       "mpl.findpos = function(e) {\n",
       "    //this section is from http://www.quirksmode.org/js/events_properties.html\n",
       "    var targ;\n",
       "    if (!e)\n",
       "        e = window.event;\n",
       "    if (e.target)\n",
       "        targ = e.target;\n",
       "    else if (e.srcElement)\n",
       "        targ = e.srcElement;\n",
       "    if (targ.nodeType == 3) // defeat Safari bug\n",
       "        targ = targ.parentNode;\n",
       "\n",
       "    // jQuery normalizes the pageX and pageY\n",
       "    // pageX,Y are the mouse positions relative to the document\n",
       "    // offset() returns the position of the element relative to the document\n",
       "    var x = e.pageX - $(targ).offset().left;\n",
       "    var y = e.pageY - $(targ).offset().top;\n",
       "\n",
       "    return {\"x\": x, \"y\": y};\n",
       "};\n",
       "\n",
       "/*\n",
       " * return a copy of an object with only non-object keys\n",
       " * we need this to avoid circular references\n",
       " * http://stackoverflow.com/a/24161582/3208463\n",
       " */\n",
       "function simpleKeys (original) {\n",
       "  return Object.keys(original).reduce(function (obj, key) {\n",
       "    if (typeof original[key] !== 'object')\n",
       "        obj[key] = original[key]\n",
       "    return obj;\n",
       "  }, {});\n",
       "}\n",
       "\n",
       "mpl.figure.prototype.mouse_event = function(event, name) {\n",
       "    var canvas_pos = mpl.findpos(event)\n",
       "\n",
       "    if (name === 'button_press')\n",
       "    {\n",
       "        this.canvas.focus();\n",
       "        this.canvas_div.focus();\n",
       "    }\n",
       "\n",
       "    var x = canvas_pos.x * mpl.ratio;\n",
       "    var y = canvas_pos.y * mpl.ratio;\n",
       "\n",
       "    this.send_message(name, {x: x, y: y, button: event.button,\n",
       "                             step: event.step,\n",
       "                             guiEvent: simpleKeys(event)});\n",
       "\n",
       "    /* This prevents the web browser from automatically changing to\n",
       "     * the text insertion cursor when the button is pressed.  We want\n",
       "     * to control all of the cursor setting manually through the\n",
       "     * 'cursor' event from matplotlib */\n",
       "    event.preventDefault();\n",
       "    return false;\n",
       "}\n",
       "\n",
       "mpl.figure.prototype._key_event_extra = function(event, name) {\n",
       "    // Handle any extra behaviour associated with a key event\n",
       "}\n",
       "\n",
       "mpl.figure.prototype.key_event = function(event, name) {\n",
       "\n",
       "    // Prevent repeat events\n",
       "    if (name == 'key_press')\n",
       "    {\n",
       "        if (event.which === this._key)\n",
       "            return;\n",
       "        else\n",
       "            this._key = event.which;\n",
       "    }\n",
       "    if (name == 'key_release')\n",
       "        this._key = null;\n",
       "\n",
       "    var value = '';\n",
       "    if (event.ctrlKey && event.which != 17)\n",
       "        value += \"ctrl+\";\n",
       "    if (event.altKey && event.which != 18)\n",
       "        value += \"alt+\";\n",
       "    if (event.shiftKey && event.which != 16)\n",
       "        value += \"shift+\";\n",
       "\n",
       "    value += 'k';\n",
       "    value += event.which.toString();\n",
       "\n",
       "    this._key_event_extra(event, name);\n",
       "\n",
       "    this.send_message(name, {key: value,\n",
       "                             guiEvent: simpleKeys(event)});\n",
       "    return false;\n",
       "}\n",
       "\n",
       "mpl.figure.prototype.toolbar_button_onclick = function(name) {\n",
       "    if (name == 'download') {\n",
       "        this.handle_save(this, null);\n",
       "    } else {\n",
       "        this.send_message(\"toolbar_button\", {name: name});\n",
       "    }\n",
       "};\n",
       "\n",
       "mpl.figure.prototype.toolbar_button_onmouseover = function(tooltip) {\n",
       "    this.message.textContent = tooltip;\n",
       "};\n",
       "mpl.toolbar_items = [[\"Home\", \"Reset original view\", \"fa fa-home icon-home\", \"home\"], [\"Back\", \"Back to previous view\", \"fa fa-arrow-left icon-arrow-left\", \"back\"], [\"Forward\", \"Forward to next view\", \"fa fa-arrow-right icon-arrow-right\", \"forward\"], [\"\", \"\", \"\", \"\"], [\"Pan\", \"Pan axes with left mouse, zoom with right\", \"fa fa-arrows icon-move\", \"pan\"], [\"Zoom\", \"Zoom to rectangle\", \"fa fa-square-o icon-check-empty\", \"zoom\"], [\"\", \"\", \"\", \"\"], [\"Download\", \"Download plot\", \"fa fa-floppy-o icon-save\", \"download\"]];\n",
       "\n",
       "mpl.extensions = [\"eps\", \"jpeg\", \"pdf\", \"png\", \"ps\", \"raw\", \"svg\", \"tif\"];\n",
       "\n",
       "mpl.default_extension = \"png\";var comm_websocket_adapter = function(comm) {\n",
       "    // Create a \"websocket\"-like object which calls the given IPython comm\n",
       "    // object with the appropriate methods. Currently this is a non binary\n",
       "    // socket, so there is still some room for performance tuning.\n",
       "    var ws = {};\n",
       "\n",
       "    ws.close = function() {\n",
       "        comm.close()\n",
       "    };\n",
       "    ws.send = function(m) {\n",
       "        //console.log('sending', m);\n",
       "        comm.send(m);\n",
       "    };\n",
       "    // Register the callback with on_msg.\n",
       "    comm.on_msg(function(msg) {\n",
       "        //console.log('receiving', msg['content']['data'], msg);\n",
       "        // Pass the mpl event to the overridden (by mpl) onmessage function.\n",
       "        ws.onmessage(msg['content']['data'])\n",
       "    });\n",
       "    return ws;\n",
       "}\n",
       "\n",
       "mpl.mpl_figure_comm = function(comm, msg) {\n",
       "    // This is the function which gets called when the mpl process\n",
       "    // starts-up an IPython Comm through the \"matplotlib\" channel.\n",
       "\n",
       "    var id = msg.content.data.id;\n",
       "    // Get hold of the div created by the display call when the Comm\n",
       "    // socket was opened in Python.\n",
       "    var element = $(\"#\" + id);\n",
       "    var ws_proxy = comm_websocket_adapter(comm)\n",
       "\n",
       "    function ondownload(figure, format) {\n",
       "        window.open(figure.imageObj.src);\n",
       "    }\n",
       "\n",
       "    var fig = new mpl.figure(id, ws_proxy,\n",
       "                           ondownload,\n",
       "                           element.get(0));\n",
       "\n",
       "    // Call onopen now - mpl needs it, as it is assuming we've passed it a real\n",
       "    // web socket which is closed, not our websocket->open comm proxy.\n",
       "    ws_proxy.onopen();\n",
       "\n",
       "    fig.parent_element = element.get(0);\n",
       "    fig.cell_info = mpl.find_output_cell(\"<div id='\" + id + \"'></div>\");\n",
       "    if (!fig.cell_info) {\n",
       "        console.error(\"Failed to find cell for figure\", id, fig);\n",
       "        return;\n",
       "    }\n",
       "\n",
       "    var output_index = fig.cell_info[2]\n",
       "    var cell = fig.cell_info[0];\n",
       "\n",
       "};\n",
       "\n",
       "mpl.figure.prototype.handle_close = function(fig, msg) {\n",
       "    var width = fig.canvas.width/mpl.ratio\n",
       "    fig.root.unbind('remove')\n",
       "\n",
       "    // Update the output cell to use the data from the current canvas.\n",
       "    fig.push_to_output();\n",
       "    var dataURL = fig.canvas.toDataURL();\n",
       "    // Re-enable the keyboard manager in IPython - without this line, in FF,\n",
       "    // the notebook keyboard shortcuts fail.\n",
       "    IPython.keyboard_manager.enable()\n",
       "    $(fig.parent_element).html('<img src=\"' + dataURL + '\" width=\"' + width + '\">');\n",
       "    fig.close_ws(fig, msg);\n",
       "}\n",
       "\n",
       "mpl.figure.prototype.close_ws = function(fig, msg){\n",
       "    fig.send_message('closing', msg);\n",
       "    // fig.ws.close()\n",
       "}\n",
       "\n",
       "mpl.figure.prototype.push_to_output = function(remove_interactive) {\n",
       "    // Turn the data on the canvas into data in the output cell.\n",
       "    var width = this.canvas.width/mpl.ratio\n",
       "    var dataURL = this.canvas.toDataURL();\n",
       "    this.cell_info[1]['text/html'] = '<img src=\"' + dataURL + '\" width=\"' + width + '\">';\n",
       "}\n",
       "\n",
       "mpl.figure.prototype.updated_canvas_event = function() {\n",
       "    // Tell IPython that the notebook contents must change.\n",
       "    IPython.notebook.set_dirty(true);\n",
       "    this.send_message(\"ack\", {});\n",
       "    var fig = this;\n",
       "    // Wait a second, then push the new image to the DOM so\n",
       "    // that it is saved nicely (might be nice to debounce this).\n",
       "    setTimeout(function () { fig.push_to_output() }, 1000);\n",
       "}\n",
       "\n",
       "mpl.figure.prototype._init_toolbar = function() {\n",
       "    var fig = this;\n",
       "\n",
       "    var nav_element = $('<div/>');\n",
       "    nav_element.attr('style', 'width: 100%');\n",
       "    this.root.append(nav_element);\n",
       "\n",
       "    // Define a callback function for later on.\n",
       "    function toolbar_event(event) {\n",
       "        return fig.toolbar_button_onclick(event['data']);\n",
       "    }\n",
       "    function toolbar_mouse_event(event) {\n",
       "        return fig.toolbar_button_onmouseover(event['data']);\n",
       "    }\n",
       "\n",
       "    for(var toolbar_ind in mpl.toolbar_items){\n",
       "        var name = mpl.toolbar_items[toolbar_ind][0];\n",
       "        var tooltip = mpl.toolbar_items[toolbar_ind][1];\n",
       "        var image = mpl.toolbar_items[toolbar_ind][2];\n",
       "        var method_name = mpl.toolbar_items[toolbar_ind][3];\n",
       "\n",
       "        if (!name) { continue; };\n",
       "\n",
       "        var button = $('<button class=\"btn btn-default\" href=\"#\" title=\"' + name + '\"><i class=\"fa ' + image + ' fa-lg\"></i></button>');\n",
       "        button.click(method_name, toolbar_event);\n",
       "        button.mouseover(tooltip, toolbar_mouse_event);\n",
       "        nav_element.append(button);\n",
       "    }\n",
       "\n",
       "    // Add the status bar.\n",
       "    var status_bar = $('<span class=\"mpl-message\" style=\"text-align:right; float: right;\"/>');\n",
       "    nav_element.append(status_bar);\n",
       "    this.message = status_bar[0];\n",
       "\n",
       "    // Add the close button to the window.\n",
       "    var buttongrp = $('<div class=\"btn-group inline pull-right\"></div>');\n",
       "    var button = $('<button class=\"btn btn-mini btn-primary\" href=\"#\" title=\"Stop Interaction\"><i class=\"fa fa-power-off icon-remove icon-large\"></i></button>');\n",
       "    button.click(function (evt) { fig.handle_close(fig, {}); } );\n",
       "    button.mouseover('Stop Interaction', toolbar_mouse_event);\n",
       "    buttongrp.append(button);\n",
       "    var titlebar = this.root.find($('.ui-dialog-titlebar'));\n",
       "    titlebar.prepend(buttongrp);\n",
       "}\n",
       "\n",
       "mpl.figure.prototype._root_extra_style = function(el){\n",
       "    var fig = this\n",
       "    el.on(\"remove\", function(){\n",
       "\tfig.close_ws(fig, {});\n",
       "    });\n",
       "}\n",
       "\n",
       "mpl.figure.prototype._canvas_extra_style = function(el){\n",
       "    // this is important to make the div 'focusable\n",
       "    el.attr('tabindex', 0)\n",
       "    // reach out to IPython and tell the keyboard manager to turn it's self\n",
       "    // off when our div gets focus\n",
       "\n",
       "    // location in version 3\n",
       "    if (IPython.notebook.keyboard_manager) {\n",
       "        IPython.notebook.keyboard_manager.register_events(el);\n",
       "    }\n",
       "    else {\n",
       "        // location in version 2\n",
       "        IPython.keyboard_manager.register_events(el);\n",
       "    }\n",
       "\n",
       "}\n",
       "\n",
       "mpl.figure.prototype._key_event_extra = function(event, name) {\n",
       "    var manager = IPython.notebook.keyboard_manager;\n",
       "    if (!manager)\n",
       "        manager = IPython.keyboard_manager;\n",
       "\n",
       "    // Check for shift+enter\n",
       "    if (event.shiftKey && event.which == 13) {\n",
       "        this.canvas_div.blur();\n",
       "        // select the cell after this one\n",
       "        var index = IPython.notebook.find_cell_index(this.cell_info[0]);\n",
       "        IPython.notebook.select(index + 1);\n",
       "    }\n",
       "}\n",
       "\n",
       "mpl.figure.prototype.handle_save = function(fig, msg) {\n",
       "    fig.ondownload(fig, null);\n",
       "}\n",
       "\n",
       "\n",
       "mpl.find_output_cell = function(html_output) {\n",
       "    // Return the cell and output element which can be found *uniquely* in the notebook.\n",
       "    // Note - this is a bit hacky, but it is done because the \"notebook_saving.Notebook\"\n",
       "    // IPython event is triggered only after the cells have been serialised, which for\n",
       "    // our purposes (turning an active figure into a static one), is too late.\n",
       "    var cells = IPython.notebook.get_cells();\n",
       "    var ncells = cells.length;\n",
       "    for (var i=0; i<ncells; i++) {\n",
       "        var cell = cells[i];\n",
       "        if (cell.cell_type === 'code'){\n",
       "            for (var j=0; j<cell.output_area.outputs.length; j++) {\n",
       "                var data = cell.output_area.outputs[j];\n",
       "                if (data.data) {\n",
       "                    // IPython >= 3 moved mimebundle to data attribute of output\n",
       "                    data = data.data;\n",
       "                }\n",
       "                if (data['text/html'] == html_output) {\n",
       "                    return [cell, data, j];\n",
       "                }\n",
       "            }\n",
       "        }\n",
       "    }\n",
       "}\n",
       "\n",
       "// Register the function which deals with the matplotlib target/channel.\n",
       "// The kernel may be null if the page has been refreshed.\n",
       "if (IPython.notebook.kernel != null) {\n",
       "    IPython.notebook.kernel.comm_manager.register_target('matplotlib', mpl.mpl_figure_comm);\n",
       "}\n"
      ],
      "text/plain": [
       "<IPython.core.display.Javascript object>"
      ]
     },
     "metadata": {},
     "output_type": "display_data"
    },
    {
     "data": {
      "text/html": [
       "<img src=\"data:image/png;base64,iVBORw0KGgoAAAANSUhEUgAABdwAAALuCAYAAAC0INRMAAARLElEQVR4nOzBAQEAAACAkP6v7ggKAAAAAAAAAAAAAAAAAAAAAAAAAAAAAAAAAAAAAAAAAAAAAAAAAAAAAAAAAAAAAAAAAAAAAAAAAAAAAAAAAAAAAAAAAAAAAAAAAAAAAAAAAAAAAAAAAAAAAAAAAAAAAAAAAAAAAAAAAAAAAAAAAAAAAAAAAAAAAAAAAAAAAAAAAAAAAAAAAAAAAAAAAAAAAAAAAAAAAAAAAAAAAAAAAAAAAAAAAAAAAAAAAAAAAAAAAAAAAAAAAAAAAAAAAAAAAAAAAAAAAAAAAAAAAAAAAAAAAAAAAAAAAAAAAAAAAAAAAAAAAAAAAAAAAAAAAAAAAAAAAAAAAAAAAAAAAAAAAAAAAAAAAAAAAAAAAAAAAAAAAAAAAAAAAAAAAAAAAAAAAAAAAAAAAAAAAAAAAAAAAAAAAAAAAAAAAAAAAAAAAAAAAAAAAAAAAAAAAAAAAAAAAAAAAAAAAAAAAAAAAAAAAAAAAAAAAAAAAAAAAAAAAAAAAAAAAAAAAAAAAAAAAAAAAAAAAAAAAAAAAAAAAAAAAAAAAAAAAAAAAAAAAAAAAAAAAAAAAAAAAAAAAAAAAAAAAAAAAAAAAAAAAAAAAAAAAAAAAAAAAAAAAAAAAAAAAAAAAAAAAAAAAAAAAAAAAAAAAAAAAAAAAAAAAAAAAAAAAAAAAAAAAAAAAAAAAAAAAAAAAAAAAAAAAAAAAAAAAAAAAAAAAAAAAAAAAAAAAAAAAAAAAAAAAAAAAAAAAAAAAAAAAAAAAAAAAAAAAAAAAAAAAAAAAAAAAAAAAAAAAAAAAAAAAAAAAAAAAAAAAAAAAAAAAAAAAAAAAAAAAAAAAAAAAAAAAAAAAAAAAAAAAAAAAAAAAAAAAAAAAAAAAAAAAAAAAAAAAAAAAAAAAAAAAAAAAAAAAAAAAAAAAAAAAAAAAAAAAAAAAAAAAAAAAAAAAAAAAAAAAAAAAAAAAAAAAAAAAAAAAAAAAAAAAAAAAAAAAAAAAAAAAAAAAAAAAAAAAAAAAAAAAAAAAAAAAAAAAAAAAAAAAAAAAAAAAAAAAAAAAAAAAAAAAAAAAAAAAAAAAAAAAAAAAAAAAAAAAAAAAAAAAAAAAAAAAAAAAAAAAAAAAAAAAAAAAAAAAAAAAAAAAAAAAAAAAAAAAAAAAAAAAAAAAAAAAAAAAAAAAAAAAAAAAAAAAAAAAAAAAAAAAAAAAAAAAAAAAAAAAAAAAAAAAAAAAAAAAAAAAAAAAAAAAAAAAAAAAAAAAAAAAAAAAAAAAAAAAAAAAAAAAAAAAAAAAAAAAAAAAAAAAAAAAAAAAAAAAAAAAAAAAAAAAAAAAAAAAAAAAAAAAAAAAAAAAAAAAAAAAAAAAAAAAAAAAAAAAAAAAAAAAAAAAAAAAAAAAAAAAAAAAAAAAAAAAAAAAAAAAAAAAAAAAAAAAAAAAAAAAAAAAAAAAAAAAAAAAAAAAAAAAAAAAAAAAAAAAAAAAAAAAAAAAAAAAAAAAAAAAAAAAAAAAAAAAAAAAAAAAAAAAAAAAAAAAAAAAAAAAAAAAAAAAAAAAAAAAAAAAAAAAAAAAAAAAAAAAAAAAAAAAAAAAAAAAAAAAAAAAAAAAAAAAAAAAAAAAAAAAAAAAAAAAAAAAAAAAAAAAAAAAAAAAAAAAAAAAAAAAAAAAAAAAAAAAAAAAAAAAAAAAAAAAAAAAAAAAAAAAAAAAAAAAAAAAAAAAAAAAAAAAAAAAAAAAAAAAAAAAAAAAAAAAAAAAAAAAAAAAAAAAAAAAAAAAAAAAAAAAAAAAAAAAAAAAAAAAAAAAAAAAAAAAAAAAAAAAAAAAAAAAAAAAAAAAAAAAAAAAAAAAAAAAAAAAAAAAAAAAAAAAAAAAAAAAAAAAAAAAAAAAAAAAAAAAAAAAAAAAAAAAAAAAAAAAAAAAAAAAAAAAAAAAAAAAAAAAAAAAAAAAAAAAAAAAAAAAAAAAAAAAAAAAAAAAAAAAAAAAAAAAAAAAAAAAAAAAAAAAAAAAAAAAAAAAAAAAAAAAAAAAAAAAAAAAAAAAAAAAAAAAAAAAAAAAAAAAAAAAAAAAAAAAAAAAAAAAAAAAAAAAAAAAAAAAAAAAAAAAAAAAAAAAAAAAAAAAAAAAAAAAAAAAAAAAAAAAAAAAAAAAAAAAAAAAAAAAAAAAAAAAAAAAAAAAAAAAAAAAAAAAAAAAAAAAAAAAAAAAAAAAAAAAAAAAAAAAAAAAAAAAAAAAAAAAAAAAAAAAAAAAAAAAAAAAAAAAAAAAAAAAAAAAAAAAAAAAAAAAAAAAAAAAAAAAAAAAAAAAAAAAAAAAAAAAAAAAAAAAAAAAAAAAAAAAAAAAAAAAAAAAAAAAAAAAAAAAAAAAAAAAAAAAAAAAAAAAAAAAAAAAAAAAAAAAAAAAAAAAAAAAAAAAAAAAAAAAAAAAAAAAAAAAAAAAAAAAAAAAAAAAAAAAAAAAAAAAAAAAAAAAAAAAAAAAAAAAAAAAAAAAAAAAAAAAAAAAAAAAAAAAAAAAAAAAAAAAAAAAAAAAAAAAAAAAAAAAAAAAAAAAAAAAAAAAAAAAAAAAAAAAAAAAAAAAAAAAAAAAAAAAAAAAAAAAAAAAAAAAAAAAAAAAAAAAAAAAAAAAAAAAAAAAAAAAAAAAAAAAAAAAAAAAAAAAAAAAAAAAAAAAAAAAAAAAAAAAAAAAAAAAAAAAAAAAAAAAAAAAAAAAAAAAAAAAAAAAAAAAAAAAAAAAAAAAAAAAAAAAAAAAAAAAAAAAAAAAAAAAAAAAAAAAAAAAAAAAAAAAAAAAAAAAAAAAAAAAAAAAAAAAAAAAAAAAAAAAAAAAAAAAAAAAAAAAAAAAAAAAAAAAAAAAAAAAAAAAAAAAAAAAAAAAAAAAAAAAAAAAAAAAAAAAAAAAAAAAAAAAAAAAAAAAAAAAAAAAAAAAAAAAAAAAAAAAAAAAAAAAAAAAAAAAAAAAAAAAAAAAAAAAAAAAAAAAAAAAAAAAAAAAAAAAAAAAAAAAAAAAAAAAAAAAAAAAAAAAAAAAAAAAAAAAAAAAAAAAAAAAAAAAAAAAAAAAAAAAAAAAAAAAAAAAAAAAAAAAAAAAAAAAAAAAAAAAAAAAAAAAAAAAAAAAAAAAAAAAAAAAAAAAAAAAAAAAAAAAAAAAAAAAAAAAAAAAAAAAAAAAAAAAAAAAAAAAAAAAAAAAAAAAAAAAAAAAAAAAAAAAAAAAAAAAAAAAAAAAAAAAAAAAAAAAAAAAAAAAAAAAAAAAAAAAAAAAAAAAAAAAAAAAAAAAAAAAAAAAAAAAAAAAAAAAAAAAAAAAAAAAAAAAAAAAAAAAAAAAAAAAAAAAAAAAAAAAAAAAAAAAAAAAAAAAAAAAAAAAAAAAAAAAAAAAAAAAAAAAAAAAAAAAAAAAAAAAAAAAAAAAAAAAAAAAAAAAAAAAAAAAAAAAAAAAAAAAAAAAAAAAAAAAAAAAAAAAAAAAAAAAAAAAAAAAAAAAAAAAAAAAAAAAAAAAAAAAAAAAAAAAAAAAAAAAAAAAAAAAAAAAAAAAAAAAAAAAAAAAAAAAAAAAAAAAAAAAAAAAAAAAAAAAAAAAAAAAAAAAAAAAAAAAAAAAAAAAAAAAAAAAAAAAAAAAAAAAAAAAAAAAAAAAAAAAAAAAAAAAAAAAAAAAAAAAAAAAAAAAAAAAAAAAAAAAAAAAAAAAAAAAAAAAAAAAAAAAAAAAAAAAAAAAAAAAAAAAAAAAAAAAAAAAAAAAAAAAAAAAAAAAAAAAAAAAAAAAAAAAAAAAAAAAAAAAAAAAAAAAAAAAAAAAAAAAAAAAAAAAAAAAAAAAAAAAAAAAAAAAAAAAAAAAAAAAAAAAAAAAAAAAAAAAAAAAAAAAAAAAAAAAAAAAAAAAAAAAAAAAAAAAAAAAAAAAAAAAAAAAAAAAAAAAAAAAAAAAAAAAAAAAAAAAAAAAAAAAAAAAAAAAAAAAAAAAAAAAAAAAAAAAAAAAAAAAAAAAAAAAAAAAAAAAAAAAAAAAAAAAAAAAAAAAAAAAAAAAAAAAAAAAAAAAAAAAAAAAAAAAAAAAAAAAAAAAAAAAAAAAAAAAAAAAAAAAAAAAAAAAAAAAAAAAAAAAAAAAAAAAAAAAAAAAAAAAAAAAAAAAAAAAAAAAAAAAAAAAAAAAAAAAAAAAAAAAAAAAAAAAAAAAAAAAAAAAAAAAAAAAAAAAAAAAAAAAAAAAAAAAAAAAAAAAAAAAAAAAAAAAAAAAAAAAAAAAAAAAAAAAAAAAAAAAAAAAAAAAAAAAAAAAAAAAAAAAAAAAAAAAAAAAAAAAAAAAAAAAAAAAAAAAAAAAAAAAAAAAAAAAAAAAAAAAAAAAAAAAAAAAAAAAAAAAAAAAAAAAAAAAAAAAAAAAAAAAAAAAAAAAAAAAAAAAAAAAAAAAAAAAAAAAAAAAAAAAAAAAAAAAAAAAAAAAAAAAAAAAAAAAAAAAAAAAAAAAAAAAAAAAAAAAAAAAAAAAAAAAAAAAAAAAAAAAAAAAAAAAAAAAAAAAAAAAAAAAAAAAAAAAAAAAAAAAAAAAAAAAAAAAAAAAAAAAAAAAAAAAAAAAAAAAAAAAAAAAAAAAAAAAAAAAAAAAAAAAAAAAAAAAAAAAAAAAAAAAAAAAAAAAAAAAAAAAAAAAAAAAAAAAAAAAAAAAAAAAAAAAAAAAAAAAAAAAAAAAAAAAAAAAAAAAAAAAAAAAAAAAAAAAAAAAAAAAAAAAAAAAAAAAAAAAAAAAAAAAAAAAAAAAAAAAAAAAAAAAAAAAAAAAAAAAAAAAAAAAAAAAAAAAAAAAAAAAAAAAAAAAAAAAAAAAAAAAAAAAAAAAAAAAAAAAAAAAAAAAAAAAAAAAAAAAAAAAAAAAAAAAAAAAAAAAAAAAAAAAAAAAAAAAAAAAAAAAAAAAAAAAAAAAAAAAAAAAAAAAAAAAAAAAAAAAAAAAAAAAAAAAAAAAAAAAAAAAAAAAAAAAAAAAAAAAAAAAAAAAAAAAAAAAAAAAAAAAAAAAAAAAAAAAAAAAAAAAAAAAAAAAAAAAAAAAAAAAAAAAAAAAAAAAAAAAAAAAAAAAAAAAAAAAAAAAAAAAAAAAAAAAAAAAAAAAAAAAAAAAAAAAAAAAAAAAAAAAAAAAAAAAAAAAAAAAAAAAAAAAAAAAAAAAAAAAAAAAAAAAAAAAAAAAAAAAAAAAAAAAAAAAAAAAAAAAAAAAAAAAAAAAAAAAAAAAAAAAAAAAAAAAAAAAAAAAAAAAAAAAAAAAAAAAAAAAAAAAAAAAAAAAAAAAAAAAAAAAAAAAAAAAAAAAAAAAAAAAAAAAAAAAAAAAAAAAAAAAAAAAAAAAAAAAAAAAAAAAAAAAAAAAAAAAAAAAAAAAAAAAAAAAAAAAAAAAAAAAAAAAAAAAAAAAAAAAAAAAAAAAAAAAAAAAAAAAAAAAAAAAAAAAAAAAAAAAAAAAAAAAAAAAAAAAAAAAAAAAAAAAAAAAAAAAAAAAAAAAAAAAAAAAAAAAACA24MDEgAAAABB/1/3I1QAAAAAAAAAAAAAAAAAAAAAAAAAAAAAAAAAAAAAAAAAAAAAAAAAAAAAAAAAAAAAAAAAAAAAAAAAAAAAAAAAAAAAAAAAAAAAAAAAAAAAAAAAAAAAAAAAAAAAAAAAAAAAAAAAAAAAAAAAAAAAAAAAAAAAAAAAAAAAAAAAAAAAAAAAAAAAAAAAAAAAAAAAAAAAAAAAAAAAAAAAAAAAAAAAAAAAAAAAAAAAAAAAAAAAAAAAAAAAAAAAAAAAAAAAAAAAAAAAAAAAAAAAAAAAAAAAAAAAAAAAAAAAAAAAAAAAAAAAAAAAAAAAAAAAAAAAAAAAAAAAAAAAAAAAAAAAAAAAAAAAAAAAAAAAAAAA4CCxCgAB+V/kzwAAAABJRU5ErkJggg==\" width=\"1000\">"
      ],
      "text/plain": [
       "<IPython.core.display.HTML object>"
      ]
     },
     "metadata": {},
     "output_type": "display_data"
    }
   ],
   "source": [
    "dual_train_plots(results.index,\n",
    "                 results.cost, results.val,\n",
    "                 results.cost, results.val)\n",
    "plt.tight_layout()\n",
    "plt.savefig(str(output / f'{name}_stats_a.png'))"
   ]
  },
  {
   "cell_type": "code",
   "execution_count": 20,
   "metadata": {},
   "outputs": [],
   "source": [
    "quit()"
   ]
  },
  {
   "cell_type": "code",
   "execution_count": null,
   "metadata": {},
   "outputs": [],
   "source": []
  }
 ],
 "metadata": {
  "kernelspec": {
   "display_name": "goofit-june2020",
   "language": "python",
   "name": "goofit-june2020"
  },
  "language_info": {
   "codemirror_mode": {
    "name": "ipython",
    "version": 3
   },
   "file_extension": ".py",
   "mimetype": "text/x-python",
   "name": "python",
   "nbconvert_exporter": "python",
   "pygments_lexer": "ipython3",
   "version": "3.7.6"
  }
 },
 "nbformat": 4,
 "nbformat_minor": 2
}
