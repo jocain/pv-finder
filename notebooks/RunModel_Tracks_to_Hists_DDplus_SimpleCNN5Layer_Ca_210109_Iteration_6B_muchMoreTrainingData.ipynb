{
 "cells": [
  {
   "cell_type": "code",
   "execution_count": 1,
   "metadata": {},
   "outputs": [],
   "source": [
    "##%matplotlib widget\n",
    "## with %matplotlib notebook: seems to require ipympl as part of environment, either\n",
    "## part of the conda environment or \"pip install ipympl\"\n",
    "## otherwise, does not show ANY plots in notebook, plt.savefig() works\n",
    "%matplotlib notebook  \n",
    "##%matplotlib inline    ## --plt.savefig()  works, but re-sizing does NOT\n"
   ]
  },
  {
   "cell_type": "markdown",
   "metadata": {},
   "source": [
    "This notebook is a first attempt to read in track information and use it to predict the the full target histrograms.\n",
    "\n",
    "It will read in the TracksToDKE__Ellipsoids_DDPlus model to predict the KDE, and then feed it into a SimpleCNN model to predict the target histograms.  Initially, it will use previously trained weights.\n"
   ]
  },
  {
   "cell_type": "markdown",
   "metadata": {},
   "source": [
    "Check the current GPU usage. Please try to be nice!"
   ]
  },
  {
   "cell_type": "code",
   "execution_count": 2,
   "metadata": {},
   "outputs": [
    {
     "name": "stdout",
     "output_type": "stream",
     "text": [
      "Mon Jan 11 23:44:33 2021       \r\n",
      "+-----------------------------------------------------------------------------+\r\n",
      "| NVIDIA-SMI 450.36.06    Driver Version: 450.36.06    CUDA Version: 11.0     |\r\n",
      "|-------------------------------+----------------------+----------------------+\r\n",
      "| GPU  Name        Persistence-M| Bus-Id        Disp.A | Volatile Uncorr. ECC |\r\n",
      "| Fan  Temp  Perf  Pwr:Usage/Cap|         Memory-Usage | GPU-Util  Compute M. |\r\n",
      "|                               |                      |               MIG M. |\r\n",
      "|===============================+======================+======================|\r\n",
      "|   0  GeForce RTX 208...  On   | 00000000:18:00.0 Off |                  N/A |\r\n",
      "| 29%   36C    P8    38W / 250W |   4219MiB / 11019MiB |      0%      Default |\r\n",
      "|                               |                      |                  N/A |\r\n",
      "+-------------------------------+----------------------+----------------------+\r\n",
      "|   1  GeForce RTX 208...  On   | 00000000:3B:00.0 Off |                  N/A |\r\n",
      "| 52%   84C    P2   207W / 250W |   9037MiB / 11019MiB |     93%      Default |\r\n",
      "|                               |                      |                  N/A |\r\n",
      "+-------------------------------+----------------------+----------------------+\r\n",
      "                                                                               \r\n",
      "+-----------------------------------------------------------------------------+\r\n",
      "| Processes:                                                                  |\r\n",
      "|  GPU   GI   CI        PID   Type   Process name                  GPU Memory |\r\n",
      "|        ID   ID                                                   Usage      |\r\n",
      "|=============================================================================|\r\n",
      "|    0   N/A  N/A     10361      C   ...s/june2020-gpu/bin/python     4215MiB |\r\n",
      "|    1   N/A  N/A      3736      G   /usr/bin/X                         33MiB |\r\n",
      "|    1   N/A  N/A      3790      G   /usr/bin/gnome-shell               25MiB |\r\n",
      "|    1   N/A  N/A    208219      C   ...s/june2020-gpu/bin/python     8973MiB |\r\n",
      "+-----------------------------------------------------------------------------+\r\n"
     ]
    }
   ],
   "source": [
    "!nvidia-smi"
   ]
  },
  {
   "cell_type": "markdown",
   "metadata": {},
   "source": [
    "> **WARNING**: The card numbers here are *not* the same as in CUDA. You have been warned."
   ]
  },
  {
   "cell_type": "markdown",
   "metadata": {},
   "source": [
    "## Imports"
   ]
  },
  {
   "cell_type": "code",
   "execution_count": 3,
   "metadata": {},
   "outputs": [],
   "source": [
    "import matplotlib.pyplot as plt\n",
    "import numpy as np\n",
    "import time\n",
    "import torch\n",
    "import pandas as pd\n",
    "\n",
    "# Python 3 standard library\n",
    "from pathlib import Path\n",
    "\n",
    "from model.efficiency import pv_locations, efficiency\n",
    "\n",
    "##from torchsummary import summary"
   ]
  },
  {
   "cell_type": "markdown",
   "metadata": {},
   "source": [
    "### Set up local parameters"
   ]
  },
  {
   "cell_type": "code",
   "execution_count": 4,
   "metadata": {},
   "outputs": [],
   "source": [
    "n_epochs = 60\n",
    "\n",
    "# Name is the output file name\n",
    "\n",
    "\n",
    "##  200719  mds\n",
    "##folder = '20December_Tracks_to_KDE_TestTrainedModel'\n",
    "##folder = '22December_testing_DDplus_loss_Bb_iter2_floatAll_100epochs_3em6'\n",
    "folder = '11Jan2021_Tracks_to_Hists_Iteration_6B_60epochs_lr_1em7_2p5_kde2hists_allFloat_4xwill'\n",
    "name = folder\n",
    "\n",
    "# Make an output folder named \"name\" (change if you want)\n",
    "\n",
    "## Special instructions for those working on goofy at UC\n",
    "## Please be very careful to make sure that your folder\n",
    "## does not live in a subdirectory of your home directory\n",
    "## this disk has very little capacity. Instead, use \n",
    "## a subdirectory in /share/lazy with a symbolic link to\n",
    "## it in this (the notebooks) subdirectory\n",
    "folder = 'ML/' + folder\n",
    "output = Path(folder)\n",
    "\n",
    "\n",
    "# Size of batches\n",
    "batch_size = 32\n",
    "# How fast to learn\n",
    "learning_rate = 1e-7"
   ]
  },
  {
   "cell_type": "markdown",
   "metadata": {},
   "source": [
    "Make the output directory if it does not exist:"
   ]
  },
  {
   "cell_type": "code",
   "execution_count": 5,
   "metadata": {},
   "outputs": [],
   "source": [
    "output.mkdir(exist_ok=True)"
   ]
  },
  {
   "cell_type": "markdown",
   "metadata": {},
   "source": [
    "## Get the helper functions\n",
    "\n",
    "Add the directory with the model\n",
    "definitions to the path so we can import from it:\n",
    "\n",
    "> When you type `import X`,\n",
    "Python searches `sys.path` for a python\n",
    "file named `X.py` to import. So we need to add the model directory to the path."
   ]
  },
  {
   "cell_type": "code",
   "execution_count": 6,
   "metadata": {
    "scrolled": true
   },
   "outputs": [],
   "source": [
    "# From model/collectdata.py\n",
    "##from model.collectdata_kde_Ellipsoids import collect_t2kde_data\n",
    "from model.collectdata_t2hists import collect_t2hists_data\n",
    "from model.collectdata_mdsA  import collect_truth\n",
    "\n",
    "# From model/loss.py\n",
    "##from loss import Loss\n",
    "##from model.kde_loss_D import Loss\n",
    "## from model.kde_loss_B import Loss  ## Tracks_to_KDE loss, not for target hists\n",
    "\n",
    "##  \"standard\" ratios loss for hists training\n",
    "from model.alt_loss_A import Loss  ## loss used to train RunModel_Demo_28November2020-SimpleCNNLayer_Ca-Restart_5\n",
    "\n",
    "\n",
    "##from model.models_kde import TracksToKDE_Ellipsoids_DirtyDozen as Model\n",
    "from model.models_kde import TracksToKDE_Ellipsoids_DDplus as t2kde_model\n",
    "##from model.models_mds_G import SimpleCNN5Layer_Ca as kde2hists_model\n",
    "from model.models_mds_28Dec20 import SimpleCNN5Layer_Ca as kde2hists_model  ## copy of models_mds_01June20 for debugging\n",
    "from model.models_t2hists import TracksToHists_A as t2hists_model\n",
    "\n",
    "\n",
    "##from model.training_kde import trainNet, select_gpu, Results\n",
    "## training_t2hists_A.py increases \"difference\" for accepting found\n",
    "## peaks as matched from 5 bins to 7.5 bins (compmared to original training.py)\n",
    "from model.training_t2hists_A import trainNet, select_gpu, Results\n",
    "from model.plots import dual_train_plots, replace_in_ax"
   ]
  },
  {
   "cell_type": "code",
   "execution_count": 7,
   "metadata": {},
   "outputs": [],
   "source": [
    "# This gets built up during the run - do not rerun this cell\n",
    "results = pd.DataFrame([], columns=Results._fields)"
   ]
  },
  {
   "cell_type": "markdown",
   "metadata": {},
   "source": [
    "Set up Torch device configuration. All tensors and model parameters need to know where to be put.\n",
    "This takes a BUS ID number: The BUS ID is the same as the listing at the top of this script."
   ]
  },
  {
   "cell_type": "code",
   "execution_count": 8,
   "metadata": {},
   "outputs": [
    {
     "name": "stdout",
     "output_type": "stream",
     "text": [
      "1 available GPUs (initially using device 0):\n",
      "  0 GeForce RTX 2080 Ti\n"
     ]
    }
   ],
   "source": [
    "device = select_gpu(0)\n",
    "##device = \"cpu\""
   ]
  },
  {
   "cell_type": "markdown",
   "metadata": {},
   "source": [
    "## Loading data\n",
    "\n",
    "Load the dataset, split into parts, then move to device (see `collectdata.py` in the `../model` directory)"
   ]
  },
  {
   "cell_type": "code",
   "execution_count": 9,
   "metadata": {
    "scrolled": false
   },
   "outputs": [
    {
     "name": "stdout",
     "output_type": "stream",
     "text": [
      "Loading data...\n",
      "pocaMx.shape =  (80000,)\n",
      "nEvts =  80000\n",
      "len(pocaMx[0]) =  199\n",
      "len(pocaMx[1]) =  25\n",
      "len(pocaMx[2]) =  369\n",
      "len(pocaMx[3]) =  143\n",
      "len(pocaMx[4]) =  160\n",
      "have entered six_ellipsoid_parameters\n",
      "  \n",
      " \n",
      "  nEvts =  80000\n",
      " iEvt, nTrks =  0 199\n",
      " iEvt, nTrks =  1 25\n",
      " iEvt, nTrks =  2 369\n",
      " iEvt, nTrks =  3 143\n",
      " iEvt, nTrks =  4 160\n",
      " iEvt, nTrks =  5 260\n",
      " iEvt, nTrks =  6 237\n",
      " iEvt, nTrks =  7 327\n",
      " iEvt, nTrks =  8 178\n",
      " iEvt, nTrks =  9 106\n",
      "len(X) =  80000\n",
      "len(Xlist) =  1\n",
      "Loaded /share/lazy/will/data/June30_2020_80k_1.h5 in 154.0 s\n",
      "pocaMx.shape =  (80000,)\n",
      "nEvts =  80000\n",
      "len(pocaMx[0]) =  222\n",
      "len(pocaMx[1]) =  133\n",
      "len(pocaMx[2]) =  259\n",
      "len(pocaMx[3]) =  114\n",
      "len(pocaMx[4]) =  143\n",
      "have entered six_ellipsoid_parameters\n",
      "  \n",
      " \n",
      "  nEvts =  80000\n",
      " iEvt, nTrks =  0 222\n",
      " iEvt, nTrks =  1 133\n",
      " iEvt, nTrks =  2 259\n",
      " iEvt, nTrks =  3 114\n",
      " iEvt, nTrks =  4 143\n",
      " iEvt, nTrks =  5 136\n",
      " iEvt, nTrks =  6 397\n",
      " iEvt, nTrks =  7 370\n",
      " iEvt, nTrks =  8 97\n",
      " iEvt, nTrks =  9 67\n",
      "len(X) =  80000\n",
      "len(Xlist) =  2\n",
      "Loaded /share/lazy/will/data/June30_2020_80k_2.h5 in 151.5 s\n",
      "pocaMx.shape =  (80000,)\n",
      "nEvts =  80000\n",
      "len(pocaMx[0]) =  196\n",
      "len(pocaMx[1]) =  35\n",
      "len(pocaMx[2]) =  265\n",
      "len(pocaMx[3]) =  128\n",
      "len(pocaMx[4]) =  124\n",
      "have entered six_ellipsoid_parameters\n",
      "  \n",
      " \n",
      "  nEvts =  80000\n",
      " iEvt, nTrks =  0 196\n",
      " iEvt, nTrks =  1 35\n",
      " iEvt, nTrks =  2 265\n",
      " iEvt, nTrks =  3 128\n",
      " iEvt, nTrks =  4 124\n",
      " iEvt, nTrks =  5 122\n",
      " iEvt, nTrks =  6 300\n",
      " iEvt, nTrks =  7 179\n",
      " iEvt, nTrks =  8 243\n",
      " iEvt, nTrks =  9 112\n",
      "len(X) =  80000\n",
      "len(Xlist) =  3\n",
      "Loaded /share/lazy/will/data/June30_2020_80k_3.h5 in 155.5 s\n",
      "pocaMx.shape =  (80000,)\n",
      "nEvts =  80000\n",
      "len(pocaMx[0]) =  204\n",
      "len(pocaMx[1]) =  33\n",
      "len(pocaMx[2]) =  206\n",
      "len(pocaMx[3]) =  150\n",
      "len(pocaMx[4]) =  96\n",
      "have entered six_ellipsoid_parameters\n",
      "  \n",
      " \n",
      "  nEvts =  80000\n",
      " iEvt, nTrks =  0 204\n",
      " iEvt, nTrks =  1 33\n",
      " iEvt, nTrks =  2 206\n",
      " iEvt, nTrks =  3 150\n",
      " iEvt, nTrks =  4 96\n",
      " iEvt, nTrks =  5 10\n",
      " iEvt, nTrks =  6 174\n",
      " iEvt, nTrks =  7 320\n",
      " iEvt, nTrks =  8 164\n",
      " iEvt, nTrks =  9 119\n",
      "len(X) =  80000\n",
      "len(Xlist) =  4\n",
      "Loaded /share/lazy/will/data/June30_2020_80k_4.h5 in 154.3 s\n",
      "outer loop X.shape =  (320000, 9, 600)\n",
      "Constructing 320000 event dataset took 1.439 s\n",
      "x_t.shape =  torch.Size([320000, 9, 600])\n",
      "x_t.shape[0] =  320000\n",
      "x_t.shape[1] =  9\n",
      "x_t.shape =  torch.Size([320000, 9, 600])\n",
      "Loading data...\n",
      "pocaMx.shape =  (20000,)\n",
      "nEvts =  20000\n",
      "len(pocaMx[0]) =  211\n",
      "len(pocaMx[1]) =  21\n",
      "len(pocaMx[2]) =  20\n",
      "len(pocaMx[3]) =  198\n",
      "len(pocaMx[4]) =  233\n",
      "have entered six_ellipsoid_parameters\n",
      "  \n",
      " \n",
      "  nEvts =  20000\n",
      " iEvt, nTrks =  0 211\n",
      " iEvt, nTrks =  1 21\n",
      " iEvt, nTrks =  2 20\n",
      " iEvt, nTrks =  3 198\n",
      " iEvt, nTrks =  4 233\n",
      " iEvt, nTrks =  5 85\n",
      " iEvt, nTrks =  6 223\n",
      " iEvt, nTrks =  7 425\n",
      " iEvt, nTrks =  8 252\n",
      " iEvt, nTrks =  9 169\n",
      "len(X) =  20000\n",
      "len(Xlist) =  1\n",
      "Loaded dataAA/20K_POCA_kernel_evts_200926.h5 in 37.75 s\n",
      "outer loop X.shape =  (20000, 9, 600)\n",
      "Constructing 20000 event dataset took 2.196 s\n",
      "x_t.shape =  torch.Size([20000, 9, 600])\n",
      "x_t.shape[0] =  20000\n",
      "x_t.shape[1] =  9\n",
      "x_t.shape =  torch.Size([20000, 9, 600])\n",
      "Loaded dataAA/20K_POCA_kernel_evts_200926.h5 in 0.01579 s\n",
      "PV.n.shape =     (20000,)\n",
      "PV.n[0].shape =  6\n",
      "PV.x[0] =        -0.06039733 0.034324445 0.032115813 0.0021888595 -0.035334907 -0.013019809\n",
      "PV.y[0] =        -0.09381338 -0.013181885 -0.030898828 -0.08940365 -0.0058297813 0.062288247\n",
      "PV.z[0] =        97.82085 61.021088 -0.15807877 134.26784 -29.881668 79.19783\n",
      "PV.n[0] =        24 26 10 7 24 19\n",
      "PV.cat[0] =      1 1 1 1 1 1\n",
      "Loaded dataAA/20K_POCA_kernel_evts_200926.h5 in 0.0124 s\n",
      "SV.n.shape =     (20000,)\n",
      "SV.n[0].shape =  2\n",
      "SV.x[0] =        -0.014751727 0.03923173\n",
      "SV.y[0] =        0.050640453 0.08648109\n",
      "SV.z[0] =        78.924194 79.170876\n",
      "SV.n[0] =        2 0\n",
      "SV.cat[0] =      1 -1\n"
     ]
    }
   ],
   "source": [
    "## 210109 let's use some of Will's toy MC for training rather than the 20K sample I've been using\n",
    "\n",
    "##train_loader = collect_t2hists_data('dataAA/20K_POCA_kernel_evts_200926.h5',\n",
    "train_loader = collect_t2hists_data('/share/lazy/will/data/June30_2020_80k_1.h5', \n",
    "                                    '/share/lazy/will/data/June30_2020_80k_2.h5', \n",
    "                                    '/share/lazy/will/data/June30_2020_80k_3.h5', \n",
    "                                    '/share/lazy/will/data/June30_2020_80k_4.h5', \n",
    "                             batch_size=batch_size,\n",
    "## if we are using a larger dataset (240K events, with the datasets above, and 11 GB  of GPU memory),\n",
    "## not the dataset will overflow the GPU memory; device=device will allow the data to move back\n",
    "## and forth between the CPU and GPU memory. While this allows use of a larger dataset, it slows\n",
    "## down performance by about 10%.  So comment out when not needed.\n",
    "##                           device=device,\n",
    "##                             slice = slice(0,18000)\n",
    "                           )\n",
    "\n",
    "\n",
    "\n",
    "                            \n",
    "# Validation dataset. You can slice to reduce the size.\n",
    "## mds no separate validation set yet,\n",
    "\n",
    "## 210109 and use everything in this 20K file for validation\n",
    "val_loader = collect_t2hists_data('dataAA/20K_POCA_kernel_evts_200926.h5',\n",
    "                            batch_size=batch_size,\n",
    "                            device=device,\n",
    "##                           slice = slice(18000,None)\n",
    "                           )\n",
    "\n",
    "PV = collect_truth('dataAA/20K_POCA_kernel_evts_200926.h5', pvs=True)\n",
    "print('PV.n.shape =    ',  PV.n.shape)\n",
    "print('PV.n[0].shape = ', *PV.n[0].shape)\n",
    "print('PV.x[0] =       ', *PV.x[0])\n",
    "print('PV.y[0] =       ', *PV.y[0])\n",
    "print('PV.z[0] =       ', *PV.z[0])\n",
    "print('PV.n[0] =       ', *PV.n[0])\n",
    "print('PV.cat[0] =     ', *PV.cat[0])\n",
    "\n",
    "SV = collect_truth('dataAA/20K_POCA_kernel_evts_200926.h5', pvs=False)\n",
    "print('SV.n.shape =    ', SV.n.shape)\n",
    "print('SV.n[0].shape = ', *SV.n[0].shape)\n",
    "print('SV.x[0] =       ', *SV.x[0])\n",
    "print('SV.y[0] =       ', *SV.y[0])\n",
    "print('SV.z[0] =       ', *SV.z[0])\n",
    "print('SV.n[0] =       ', *SV.n[0])\n",
    "print('SV.cat[0] =     ', *SV.cat[0])\n"
   ]
  },
  {
   "cell_type": "markdown",
   "metadata": {},
   "source": [
    "# Preparing the model"
   ]
  },
  {
   "cell_type": "markdown",
   "metadata": {},
   "source": [
    "Prepare a model, use multiple GPUs if they are VISIBLE, and move the model to the device."
   ]
  },
  {
   "cell_type": "code",
   "execution_count": 10,
   "metadata": {
    "scrolled": false
   },
   "outputs": [
    {
     "name": "stdout",
     "output_type": "stream",
     "text": [
      "ct, child =  0    Linear(in_features=9, out_features=50, bias=True)\n",
      "ct, child =  1    Linear(in_features=50, out_features=50, bias=True)\n",
      "ct, child =  2    Linear(in_features=50, out_features=50, bias=True)\n",
      "ct, child =  3    Linear(in_features=50, out_features=50, bias=True)\n",
      "ct, child =  4    Linear(in_features=50, out_features=50, bias=True)\n",
      "ct, child =  5    Linear(in_features=50, out_features=50, bias=True)\n",
      "ct, child =  6    Linear(in_features=50, out_features=50, bias=True)\n",
      "ct, child =  7    Linear(in_features=50, out_features=50, bias=True)\n",
      "ct, child =  8    Linear(in_features=50, out_features=50, bias=True)\n",
      "ct, child =  9    Linear(in_features=50, out_features=50, bias=True)\n",
      "ct, child =  10    Linear(in_features=50, out_features=50, bias=True)\n",
      "ct, child =  11    Linear(in_features=50, out_features=16000, bias=True)\n",
      "ct, child =  12    Conv1d(4, 25, kernel_size=(25,), stride=(1,), padding=(12,))\n",
      "ct, child =  13    Conv1d(25, 1, kernel_size=(5,), stride=(1,), padding=(2,))\n",
      "ct, child =  14    Linear(in_features=4000, out_features=4000, bias=True)\n",
      "ct, child =  15    Dropout(p=0.15, inplace=False)\n",
      "ct, child =  16    Dropout(p=0.15, inplace=False)\n",
      "ct, child =  17    Conv1d(1, 20, kernel_size=(25,), stride=(1,), padding=(12,))\n",
      "ct, child =  18    Conv1d(20, 10, kernel_size=(15,), stride=(1,), padding=(7,))\n",
      "ct, child =  19    Conv1d(10, 10, kernel_size=(15,), stride=(1,), padding=(7,))\n",
      "ct, child =  20    Conv1d(10, 10, kernel_size=(15,), stride=(1,), padding=(7,))\n",
      "ct, child =  21    Conv1d(10, 1, kernel_size=(5,), stride=(1,), padding=(2,))\n",
      "ct, child =  22    Dropout(p=0.15, inplace=False)\n",
      "ct, child =  23    Dropout(p=0.15, inplace=False)\n",
      "ct, child =  24    Dropout(p=0.15, inplace=False)\n",
      "ct, child =  25    Dropout(p=0.15, inplace=False)\n",
      "ct, child =  26    Dropout(p=0.35, inplace=False)\n",
      "ct, child =  27    Linear(in_features=4000, out_features=4000, bias=True)\n"
     ]
    }
   ],
   "source": [
    "nOut1 = 50\n",
    "nOut2 = 50\n",
    "nOut3 = 50\n",
    "nOut4 = 50\n",
    "nOut5 = 50\n",
    "nOut6 = 50\n",
    "nOut7 = 50\n",
    "nOut8 = 50\n",
    "nOut9 = 50\n",
    "nOut10 = 50\n",
    "nOut11 = 50\n",
    "latentChannels = 4\n",
    "model_t2kde = t2kde_model(nOut1,nOut2,nOut3,nOut4,nOut5,nOut6,nOut7,nOut8,nOut9,nOut10,nOut11,latentChannels)\n",
    "model_kde2hists = kde2hists_model()\n",
    "model_t2hists = t2hists_model(nOut1,nOut2,nOut3,nOut4,nOut5,nOut6,nOut7,nOut8,nOut9,nOut10,nOut11,latentChannels)\n",
    "\n",
    "##summary(model, input_size=(4, 4000))\n",
    "##print(model.parameters)\n",
    "\n",
    "## add the following code to allow the user to freeze the some of the weights corresponding \n",
    "## to those taken from an earlier model trained with the original target histograms\n",
    "## presumably -- this leaves either the perturbative filter \"fixed\" and lets the \n",
    "## learning focus on the non-perturbative features, so get started faster, or vice versa\n",
    "ct = 0\n",
    "for child in model_t2hists.children():\n",
    "  print('ct, child = ',ct, \"  \", child)\n",
    "  if (ct < 0) :\n",
    "    print(\"     About to set param.requires_grad=False for ct = \", ct, \"params\")\n",
    "    for param in child.parameters():\n",
    "        param.requires_grad = False \n",
    "  ct += 1\n",
    "\n",
    "loss = Loss(epsilon=1e-5,coefficient=2.5)\n",
    "optimizer = torch.optim.Adam(model_t2hists.parameters(), lr=learning_rate)"
   ]
  },
  {
   "cell_type": "markdown",
   "metadata": {},
   "source": [
    "Let's move the model's weight matricies to the GPU:"
   ]
  },
  {
   "cell_type": "code",
   "execution_count": 11,
   "metadata": {
    "scrolled": false
   },
   "outputs": [
    {
     "data": {
      "text/plain": [
       "<All keys matched successfully>"
      ]
     },
     "execution_count": 11,
     "metadata": {},
     "output_type": "execute_result"
    }
   ],
   "source": [
    "## want to look at all three dictionaries to start:\n",
    "##  t2kde\n",
    "##  kde2hists\n",
    "##  t2hists\n",
    "## the plan is to (initially) copy weights from separate dictionaries into th t2hists dictionary\n",
    "\n",
    "##   ML -> /share/lazy/sokoloff/ML\n",
    "'''\n",
    "model_t2kde_dict = model_t2kde.state_dict()\n",
    "## mds 190725 for debugging\n",
    "print(\"for model_t2kde_dict\")\n",
    "index = 0\n",
    "for k,v in model_t2kde_dict.items():\n",
    "    print(\"index, k =  \",index,\"  \",k)\n",
    "    index = index+1\n",
    "#\n",
    "model_kde2hists_dict = model_kde2hists.state_dict()\n",
    "## mds 190725 for debugging\n",
    "print(\"for model_hists_2kde_dict\")\n",
    "index = 0\n",
    "for k,v in model_kde2hists_dict.items():\n",
    "    print(\"index, k =  \",index,\"  \",k)\n",
    "    index = index+1\n",
    "#\n",
    "model_t2hists_dict = model_t2hists.state_dict()\n",
    "## mds 190725 for debugging\n",
    "print(\"for model_hists_2kde_dict\")\n",
    "index = 0\n",
    "for k,v in model_t2hists_dict.items():\n",
    "    print(\"index, k =  \",index,\"  \",k)\n",
    "    index = index+1\n",
    "#\n",
    "\n",
    "##  build the \"updated_dict\" to become the t2hists_dictionary from the\n",
    "##  t2kde and kde2hist dictionaries\n",
    "update_dict = model_t2hists_dict\n",
    "##print(\"updated_dict = \",updated_dict)\n",
    "## when starting \"ab initio\", reduce biases as the bias gets summed for each track\n",
    "## contributing to the predicted KDE\n",
    "'''\n",
    "\n",
    "\n",
    "'''\n",
    "updated_dict[\"layer1.bias\"] = 0.005*model_dict[\"layer1.bias\"]\n",
    "updated_dict[\"layer2.bias\"] = 0.005*model_dict[\"layer2.bias\"]\n",
    "updated_dict[\"layer3.bias\"] = 0.005*model_dict[\"layer3.bias\"]\n",
    "updated_dict[\"layer4.bias\"] = 0.005*model_dict[\"layer4.bias\"]\n",
    "updated_dict[\"layer5.bias\"] = 0.005*model_dict[\"layer5.bias\"]\n",
    "updated_dict[\"layer6.bias\"] = 0.005*model_dict[\"layer6.bias\"]\n",
    "updated_dict[\"layer7.bias\"] = 0.005*model_dict[\"layer7.bias\"]\n",
    "updated_dict[\"layer8.bias\"] = 0.005*model_dict[\"layer8.bias\"]\n",
    "updated_dict[\"layer9.bias\"] = 0.005*model_dict[\"layer9.bias\"]\n",
    "updated_dict[\"layer10.bias\"] = 0.005*model_dict[\"layer10.bias\"]\n",
    "updated_dict[\"layer11.bias\"] = 0.005*model_dict[\"layer11.bias\"]\n",
    "'''\n",
    "\n",
    "'''\n",
    "##model_t2hists.load_state_dict(updated_dict,strict=False)\n",
    "\n",
    "##model__t2hists_dict = model_t2hists.state_dict()\n",
    "\n",
    "## let's get the tracks-to-kde model here\n",
    "t2kde_folder = '25December__DDplus_loss_Ba_iter5_floatAll_800epochs_5em6'  ## really iter6, really Dec. 27\n",
    "t2kde_folder = '25December__DDplus_loss_Ba_iter7_floatAll_800epochs_4em6'\n",
    "t2kde_name = t2kde_folder\n",
    "suffix = 'final'\n",
    "t2kde_dict_name = 'ML/' + t2kde_folder + '/' + t2kde_name + '_'+ suffix + '.pyt'\n",
    "print('t2kde_dict_name = ',t2kde_dict_name)\n",
    "pretrained_t2kde_dict = torch.load(t2kde_dict_name)\n",
    "\n",
    "print(\" \\n\",\"  for t2kde_pretrained_dict\")\n",
    "index = 0\n",
    "for k,v in pretrained_t2kde_dict.items():\n",
    "    print(\"index, k =  \",index,\"  \",k)\n",
    "    index = index+1\n",
    "    \n",
    "    \n",
    "## let's get the hists-to-kde model here   \n",
    "kde2hists_folder = '02June2020_CNN5Layer_Ca_another200epochs_K'\n",
    "kde2hists_name = kde2hists_folder\n",
    "suffix = 'final'\n",
    "kde2hists_dict_name = 'ML/' + kde2hists_folder + '/' + kde2hists_name + '_'+ suffix + '.pyt'\n",
    "## mds dec28 print('kde2hists_dict_name = ',kde2hists_dict_name)\n",
    "pretrained_kde2hists_dict = torch.load(kde2hists_dict_name)\n",
    "\n",
    "print(\" \\n\",\"  for kde2hists_pretrained_dict\")\n",
    "index = 0\n",
    "for k,v in pretrained_kde2hists_dict.items():\n",
    "    print(\"index, k =  \",index,\"  \",k)\n",
    "    index = index+1\n",
    " \n",
    "\n",
    "\n",
    "##print(\"model_dict instantiated\")\n",
    "# 1. filter out unnecessary keys\n",
    "pretrained_dict = {k: v for k, v in pretrained_t2kde_dict.items() if k in model_t2hists_dict}\n",
    "## mds dec28 print(\"pretrained_dict iterated\")\n",
    "# 2. overwrite entries in the existing state dict\n",
    "model_t2hists_dict.update(pretrained_dict) \n",
    "\n",
    "update_dict[\"hist_conv1.weight\"] = pretrained_kde2hists_dict[\"conv1.weight\"]\n",
    "update_dict[\"hist_conv1.bias\"]   = pretrained_kde2hists_dict[\"conv1.bias\"]\n",
    "update_dict[\"hist_conv2.weight\"] = pretrained_kde2hists_dict[\"conv2.weight\"]\n",
    "update_dict[\"hist_conv2.bias\"]   = pretrained_kde2hists_dict[\"conv2.bias\"]\n",
    "update_dict[\"hist_conv3.weight\"] = pretrained_kde2hists_dict[\"conv3.weight\"]\n",
    "update_dict[\"hist_conv3.bias\"]   = pretrained_kde2hists_dict[\"conv3.bias\"]\n",
    "update_dict[\"hist_conv4.weight\"] = pretrained_kde2hists_dict[\"conv4.weight\"]\n",
    "update_dict[\"hist_conv4.bias\"]   = pretrained_kde2hists_dict[\"conv4.bias\"]\n",
    "update_dict[\"hist_conv5.weight\"] = pretrained_kde2hists_dict[\"conv5.weight\"]\n",
    "update_dict[\"hist_conv5.bias\"]   = pretrained_kde2hists_dict[\"conv5.bias\"]\n",
    "update_dict[\"hist_fc1.weight\"]   = pretrained_kde2hists_dict[\"fc1.weight\"]\n",
    "update_dict[\"hist_fc1.bias\"]     = pretrained_kde2hists_dict[\"fc1.bias\"]\n",
    "\n",
    "##model_t2hists.update(update_dict,strict=False)\n",
    "model_t2hists.load_state_dict(update_dict,strict=False)\n",
    "model_t2hists_dict = model_t2hists.state_dict()\n",
    "'''\n",
    "\n",
    "##\n",
    "#   when starting from a model with a fully connected last layer rather than a convolutional layer\n",
    "# 3. load the new state dict\n",
    "#   need to use strict=False as the two models state model attributes do not agree exactly\n",
    "#   see https://pytorch.org/docs/master/_modules/torch/nn/modules/module.html#Module.load_state_dict\n",
    "\n",
    "t2hists_folder = '11Jan2021_Tracks_to_Hists_Iteration_5B_25epochs_lr_1em7_2p5_kde2hists_allFloat_4xwill'\n",
    "t2hists_name = t2hists_folder\n",
    "suffix = 'final'\n",
    "t2hists_dict_name = 'ML/' + t2hists_folder + '/' +t2hists_name + '_'+ suffix + '.pyt'\n",
    "## mds dec28 print('kde2hists_dict_name = ',kde2hists_dict_name)\n",
    "pretrained_t2hists_dict = torch.load(t2hists_dict_name) \n",
    "\n",
    "model_t2hists.load_state_dict(pretrained_t2hists_dict,strict=False)\n",
    "\n",
    "##  print('model_t2hists_dict =    ', model_t2hists_dict)\n"
   ]
  },
  {
   "cell_type": "code",
   "execution_count": 12,
   "metadata": {},
   "outputs": [],
   "source": [
    "##print('validation.dataset.tensors = ',validation.dataset.tensors)\n",
    "fig_size = plt.rcParams[\"figure.figsize\"]\n",
    "fig_size[0] = 10\n",
    "fig_size[1] = 4\n",
    "plt.rcParams[\"figure.figsize\"] = fig_size"
   ]
  },
  {
   "cell_type": "code",
   "execution_count": 13,
   "metadata": {
    "scrolled": true
   },
   "outputs": [],
   "source": [
    "model = model_t2hists.to(device)"
   ]
  },
  {
   "cell_type": "code",
   "execution_count": 14,
   "metadata": {},
   "outputs": [
    {
     "data": {
      "application/javascript": [
       "/* Put everything inside the global mpl namespace */\n",
       "window.mpl = {};\n",
       "\n",
       "\n",
       "mpl.get_websocket_type = function() {\n",
       "    if (typeof(WebSocket) !== 'undefined') {\n",
       "        return WebSocket;\n",
       "    } else if (typeof(MozWebSocket) !== 'undefined') {\n",
       "        return MozWebSocket;\n",
       "    } else {\n",
       "        alert('Your browser does not have WebSocket support. ' +\n",
       "              'Please try Chrome, Safari or Firefox ≥ 6. ' +\n",
       "              'Firefox 4 and 5 are also supported but you ' +\n",
       "              'have to enable WebSockets in about:config.');\n",
       "    };\n",
       "}\n",
       "\n",
       "mpl.figure = function(figure_id, websocket, ondownload, parent_element) {\n",
       "    this.id = figure_id;\n",
       "\n",
       "    this.ws = websocket;\n",
       "\n",
       "    this.supports_binary = (this.ws.binaryType != undefined);\n",
       "\n",
       "    if (!this.supports_binary) {\n",
       "        var warnings = document.getElementById(\"mpl-warnings\");\n",
       "        if (warnings) {\n",
       "            warnings.style.display = 'block';\n",
       "            warnings.textContent = (\n",
       "                \"This browser does not support binary websocket messages. \" +\n",
       "                    \"Performance may be slow.\");\n",
       "        }\n",
       "    }\n",
       "\n",
       "    this.imageObj = new Image();\n",
       "\n",
       "    this.context = undefined;\n",
       "    this.message = undefined;\n",
       "    this.canvas = undefined;\n",
       "    this.rubberband_canvas = undefined;\n",
       "    this.rubberband_context = undefined;\n",
       "    this.format_dropdown = undefined;\n",
       "\n",
       "    this.image_mode = 'full';\n",
       "\n",
       "    this.root = $('<div/>');\n",
       "    this._root_extra_style(this.root)\n",
       "    this.root.attr('style', 'display: inline-block');\n",
       "\n",
       "    $(parent_element).append(this.root);\n",
       "\n",
       "    this._init_header(this);\n",
       "    this._init_canvas(this);\n",
       "    this._init_toolbar(this);\n",
       "\n",
       "    var fig = this;\n",
       "\n",
       "    this.waiting = false;\n",
       "\n",
       "    this.ws.onopen =  function () {\n",
       "            fig.send_message(\"supports_binary\", {value: fig.supports_binary});\n",
       "            fig.send_message(\"send_image_mode\", {});\n",
       "            if (mpl.ratio != 1) {\n",
       "                fig.send_message(\"set_dpi_ratio\", {'dpi_ratio': mpl.ratio});\n",
       "            }\n",
       "            fig.send_message(\"refresh\", {});\n",
       "        }\n",
       "\n",
       "    this.imageObj.onload = function() {\n",
       "            if (fig.image_mode == 'full') {\n",
       "                // Full images could contain transparency (where diff images\n",
       "                // almost always do), so we need to clear the canvas so that\n",
       "                // there is no ghosting.\n",
       "                fig.context.clearRect(0, 0, fig.canvas.width, fig.canvas.height);\n",
       "            }\n",
       "            fig.context.drawImage(fig.imageObj, 0, 0);\n",
       "        };\n",
       "\n",
       "    this.imageObj.onunload = function() {\n",
       "        fig.ws.close();\n",
       "    }\n",
       "\n",
       "    this.ws.onmessage = this._make_on_message_function(this);\n",
       "\n",
       "    this.ondownload = ondownload;\n",
       "}\n",
       "\n",
       "mpl.figure.prototype._init_header = function() {\n",
       "    var titlebar = $(\n",
       "        '<div class=\"ui-dialog-titlebar ui-widget-header ui-corner-all ' +\n",
       "        'ui-helper-clearfix\"/>');\n",
       "    var titletext = $(\n",
       "        '<div class=\"ui-dialog-title\" style=\"width: 100%; ' +\n",
       "        'text-align: center; padding: 3px;\"/>');\n",
       "    titlebar.append(titletext)\n",
       "    this.root.append(titlebar);\n",
       "    this.header = titletext[0];\n",
       "}\n",
       "\n",
       "\n",
       "\n",
       "mpl.figure.prototype._canvas_extra_style = function(canvas_div) {\n",
       "\n",
       "}\n",
       "\n",
       "\n",
       "mpl.figure.prototype._root_extra_style = function(canvas_div) {\n",
       "\n",
       "}\n",
       "\n",
       "mpl.figure.prototype._init_canvas = function() {\n",
       "    var fig = this;\n",
       "\n",
       "    var canvas_div = $('<div/>');\n",
       "\n",
       "    canvas_div.attr('style', 'position: relative; clear: both; outline: 0');\n",
       "\n",
       "    function canvas_keyboard_event(event) {\n",
       "        return fig.key_event(event, event['data']);\n",
       "    }\n",
       "\n",
       "    canvas_div.keydown('key_press', canvas_keyboard_event);\n",
       "    canvas_div.keyup('key_release', canvas_keyboard_event);\n",
       "    this.canvas_div = canvas_div\n",
       "    this._canvas_extra_style(canvas_div)\n",
       "    this.root.append(canvas_div);\n",
       "\n",
       "    var canvas = $('<canvas/>');\n",
       "    canvas.addClass('mpl-canvas');\n",
       "    canvas.attr('style', \"left: 0; top: 0; z-index: 0; outline: 0\")\n",
       "\n",
       "    this.canvas = canvas[0];\n",
       "    this.context = canvas[0].getContext(\"2d\");\n",
       "\n",
       "    var backingStore = this.context.backingStorePixelRatio ||\n",
       "\tthis.context.webkitBackingStorePixelRatio ||\n",
       "\tthis.context.mozBackingStorePixelRatio ||\n",
       "\tthis.context.msBackingStorePixelRatio ||\n",
       "\tthis.context.oBackingStorePixelRatio ||\n",
       "\tthis.context.backingStorePixelRatio || 1;\n",
       "\n",
       "    mpl.ratio = (window.devicePixelRatio || 1) / backingStore;\n",
       "\n",
       "    var rubberband = $('<canvas/>');\n",
       "    rubberband.attr('style', \"position: absolute; left: 0; top: 0; z-index: 1;\")\n",
       "\n",
       "    var pass_mouse_events = true;\n",
       "\n",
       "    canvas_div.resizable({\n",
       "        start: function(event, ui) {\n",
       "            pass_mouse_events = false;\n",
       "        },\n",
       "        resize: function(event, ui) {\n",
       "            fig.request_resize(ui.size.width, ui.size.height);\n",
       "        },\n",
       "        stop: function(event, ui) {\n",
       "            pass_mouse_events = true;\n",
       "            fig.request_resize(ui.size.width, ui.size.height);\n",
       "        },\n",
       "    });\n",
       "\n",
       "    function mouse_event_fn(event) {\n",
       "        if (pass_mouse_events)\n",
       "            return fig.mouse_event(event, event['data']);\n",
       "    }\n",
       "\n",
       "    rubberband.mousedown('button_press', mouse_event_fn);\n",
       "    rubberband.mouseup('button_release', mouse_event_fn);\n",
       "    // Throttle sequential mouse events to 1 every 20ms.\n",
       "    rubberband.mousemove('motion_notify', mouse_event_fn);\n",
       "\n",
       "    rubberband.mouseenter('figure_enter', mouse_event_fn);\n",
       "    rubberband.mouseleave('figure_leave', mouse_event_fn);\n",
       "\n",
       "    canvas_div.on(\"wheel\", function (event) {\n",
       "        event = event.originalEvent;\n",
       "        event['data'] = 'scroll'\n",
       "        if (event.deltaY < 0) {\n",
       "            event.step = 1;\n",
       "        } else {\n",
       "            event.step = -1;\n",
       "        }\n",
       "        mouse_event_fn(event);\n",
       "    });\n",
       "\n",
       "    canvas_div.append(canvas);\n",
       "    canvas_div.append(rubberband);\n",
       "\n",
       "    this.rubberband = rubberband;\n",
       "    this.rubberband_canvas = rubberband[0];\n",
       "    this.rubberband_context = rubberband[0].getContext(\"2d\");\n",
       "    this.rubberband_context.strokeStyle = \"#000000\";\n",
       "\n",
       "    this._resize_canvas = function(width, height) {\n",
       "        // Keep the size of the canvas, canvas container, and rubber band\n",
       "        // canvas in synch.\n",
       "        canvas_div.css('width', width)\n",
       "        canvas_div.css('height', height)\n",
       "\n",
       "        canvas.attr('width', width * mpl.ratio);\n",
       "        canvas.attr('height', height * mpl.ratio);\n",
       "        canvas.attr('style', 'width: ' + width + 'px; height: ' + height + 'px;');\n",
       "\n",
       "        rubberband.attr('width', width);\n",
       "        rubberband.attr('height', height);\n",
       "    }\n",
       "\n",
       "    // Set the figure to an initial 600x600px, this will subsequently be updated\n",
       "    // upon first draw.\n",
       "    this._resize_canvas(600, 600);\n",
       "\n",
       "    // Disable right mouse context menu.\n",
       "    $(this.rubberband_canvas).bind(\"contextmenu\",function(e){\n",
       "        return false;\n",
       "    });\n",
       "\n",
       "    function set_focus () {\n",
       "        canvas.focus();\n",
       "        canvas_div.focus();\n",
       "    }\n",
       "\n",
       "    window.setTimeout(set_focus, 100);\n",
       "}\n",
       "\n",
       "mpl.figure.prototype._init_toolbar = function() {\n",
       "    var fig = this;\n",
       "\n",
       "    var nav_element = $('<div/>');\n",
       "    nav_element.attr('style', 'width: 100%');\n",
       "    this.root.append(nav_element);\n",
       "\n",
       "    // Define a callback function for later on.\n",
       "    function toolbar_event(event) {\n",
       "        return fig.toolbar_button_onclick(event['data']);\n",
       "    }\n",
       "    function toolbar_mouse_event(event) {\n",
       "        return fig.toolbar_button_onmouseover(event['data']);\n",
       "    }\n",
       "\n",
       "    for(var toolbar_ind in mpl.toolbar_items) {\n",
       "        var name = mpl.toolbar_items[toolbar_ind][0];\n",
       "        var tooltip = mpl.toolbar_items[toolbar_ind][1];\n",
       "        var image = mpl.toolbar_items[toolbar_ind][2];\n",
       "        var method_name = mpl.toolbar_items[toolbar_ind][3];\n",
       "\n",
       "        if (!name) {\n",
       "            // put a spacer in here.\n",
       "            continue;\n",
       "        }\n",
       "        var button = $('<button/>');\n",
       "        button.addClass('ui-button ui-widget ui-state-default ui-corner-all ' +\n",
       "                        'ui-button-icon-only');\n",
       "        button.attr('role', 'button');\n",
       "        button.attr('aria-disabled', 'false');\n",
       "        button.click(method_name, toolbar_event);\n",
       "        button.mouseover(tooltip, toolbar_mouse_event);\n",
       "\n",
       "        var icon_img = $('<span/>');\n",
       "        icon_img.addClass('ui-button-icon-primary ui-icon');\n",
       "        icon_img.addClass(image);\n",
       "        icon_img.addClass('ui-corner-all');\n",
       "\n",
       "        var tooltip_span = $('<span/>');\n",
       "        tooltip_span.addClass('ui-button-text');\n",
       "        tooltip_span.html(tooltip);\n",
       "\n",
       "        button.append(icon_img);\n",
       "        button.append(tooltip_span);\n",
       "\n",
       "        nav_element.append(button);\n",
       "    }\n",
       "\n",
       "    var fmt_picker_span = $('<span/>');\n",
       "\n",
       "    var fmt_picker = $('<select/>');\n",
       "    fmt_picker.addClass('mpl-toolbar-option ui-widget ui-widget-content');\n",
       "    fmt_picker_span.append(fmt_picker);\n",
       "    nav_element.append(fmt_picker_span);\n",
       "    this.format_dropdown = fmt_picker[0];\n",
       "\n",
       "    for (var ind in mpl.extensions) {\n",
       "        var fmt = mpl.extensions[ind];\n",
       "        var option = $(\n",
       "            '<option/>', {selected: fmt === mpl.default_extension}).html(fmt);\n",
       "        fmt_picker.append(option);\n",
       "    }\n",
       "\n",
       "    // Add hover states to the ui-buttons\n",
       "    $( \".ui-button\" ).hover(\n",
       "        function() { $(this).addClass(\"ui-state-hover\");},\n",
       "        function() { $(this).removeClass(\"ui-state-hover\");}\n",
       "    );\n",
       "\n",
       "    var status_bar = $('<span class=\"mpl-message\"/>');\n",
       "    nav_element.append(status_bar);\n",
       "    this.message = status_bar[0];\n",
       "}\n",
       "\n",
       "mpl.figure.prototype.request_resize = function(x_pixels, y_pixels) {\n",
       "    // Request matplotlib to resize the figure. Matplotlib will then trigger a resize in the client,\n",
       "    // which will in turn request a refresh of the image.\n",
       "    this.send_message('resize', {'width': x_pixels, 'height': y_pixels});\n",
       "}\n",
       "\n",
       "mpl.figure.prototype.send_message = function(type, properties) {\n",
       "    properties['type'] = type;\n",
       "    properties['figure_id'] = this.id;\n",
       "    this.ws.send(JSON.stringify(properties));\n",
       "}\n",
       "\n",
       "mpl.figure.prototype.send_draw_message = function() {\n",
       "    if (!this.waiting) {\n",
       "        this.waiting = true;\n",
       "        this.ws.send(JSON.stringify({type: \"draw\", figure_id: this.id}));\n",
       "    }\n",
       "}\n",
       "\n",
       "\n",
       "mpl.figure.prototype.handle_save = function(fig, msg) {\n",
       "    var format_dropdown = fig.format_dropdown;\n",
       "    var format = format_dropdown.options[format_dropdown.selectedIndex].value;\n",
       "    fig.ondownload(fig, format);\n",
       "}\n",
       "\n",
       "\n",
       "mpl.figure.prototype.handle_resize = function(fig, msg) {\n",
       "    var size = msg['size'];\n",
       "    if (size[0] != fig.canvas.width || size[1] != fig.canvas.height) {\n",
       "        fig._resize_canvas(size[0], size[1]);\n",
       "        fig.send_message(\"refresh\", {});\n",
       "    };\n",
       "}\n",
       "\n",
       "mpl.figure.prototype.handle_rubberband = function(fig, msg) {\n",
       "    var x0 = msg['x0'] / mpl.ratio;\n",
       "    var y0 = (fig.canvas.height - msg['y0']) / mpl.ratio;\n",
       "    var x1 = msg['x1'] / mpl.ratio;\n",
       "    var y1 = (fig.canvas.height - msg['y1']) / mpl.ratio;\n",
       "    x0 = Math.floor(x0) + 0.5;\n",
       "    y0 = Math.floor(y0) + 0.5;\n",
       "    x1 = Math.floor(x1) + 0.5;\n",
       "    y1 = Math.floor(y1) + 0.5;\n",
       "    var min_x = Math.min(x0, x1);\n",
       "    var min_y = Math.min(y0, y1);\n",
       "    var width = Math.abs(x1 - x0);\n",
       "    var height = Math.abs(y1 - y0);\n",
       "\n",
       "    fig.rubberband_context.clearRect(\n",
       "        0, 0, fig.canvas.width / mpl.ratio, fig.canvas.height / mpl.ratio);\n",
       "\n",
       "    fig.rubberband_context.strokeRect(min_x, min_y, width, height);\n",
       "}\n",
       "\n",
       "mpl.figure.prototype.handle_figure_label = function(fig, msg) {\n",
       "    // Updates the figure title.\n",
       "    fig.header.textContent = msg['label'];\n",
       "}\n",
       "\n",
       "mpl.figure.prototype.handle_cursor = function(fig, msg) {\n",
       "    var cursor = msg['cursor'];\n",
       "    switch(cursor)\n",
       "    {\n",
       "    case 0:\n",
       "        cursor = 'pointer';\n",
       "        break;\n",
       "    case 1:\n",
       "        cursor = 'default';\n",
       "        break;\n",
       "    case 2:\n",
       "        cursor = 'crosshair';\n",
       "        break;\n",
       "    case 3:\n",
       "        cursor = 'move';\n",
       "        break;\n",
       "    }\n",
       "    fig.rubberband_canvas.style.cursor = cursor;\n",
       "}\n",
       "\n",
       "mpl.figure.prototype.handle_message = function(fig, msg) {\n",
       "    fig.message.textContent = msg['message'];\n",
       "}\n",
       "\n",
       "mpl.figure.prototype.handle_draw = function(fig, msg) {\n",
       "    // Request the server to send over a new figure.\n",
       "    fig.send_draw_message();\n",
       "}\n",
       "\n",
       "mpl.figure.prototype.handle_image_mode = function(fig, msg) {\n",
       "    fig.image_mode = msg['mode'];\n",
       "}\n",
       "\n",
       "mpl.figure.prototype.updated_canvas_event = function() {\n",
       "    // Called whenever the canvas gets updated.\n",
       "    this.send_message(\"ack\", {});\n",
       "}\n",
       "\n",
       "// A function to construct a web socket function for onmessage handling.\n",
       "// Called in the figure constructor.\n",
       "mpl.figure.prototype._make_on_message_function = function(fig) {\n",
       "    return function socket_on_message(evt) {\n",
       "        if (evt.data instanceof Blob) {\n",
       "            /* FIXME: We get \"Resource interpreted as Image but\n",
       "             * transferred with MIME type text/plain:\" errors on\n",
       "             * Chrome.  But how to set the MIME type?  It doesn't seem\n",
       "             * to be part of the websocket stream */\n",
       "            evt.data.type = \"image/png\";\n",
       "\n",
       "            /* Free the memory for the previous frames */\n",
       "            if (fig.imageObj.src) {\n",
       "                (window.URL || window.webkitURL).revokeObjectURL(\n",
       "                    fig.imageObj.src);\n",
       "            }\n",
       "\n",
       "            fig.imageObj.src = (window.URL || window.webkitURL).createObjectURL(\n",
       "                evt.data);\n",
       "            fig.updated_canvas_event();\n",
       "            fig.waiting = false;\n",
       "            return;\n",
       "        }\n",
       "        else if (typeof evt.data === 'string' && evt.data.slice(0, 21) == \"data:image/png;base64\") {\n",
       "            fig.imageObj.src = evt.data;\n",
       "            fig.updated_canvas_event();\n",
       "            fig.waiting = false;\n",
       "            return;\n",
       "        }\n",
       "\n",
       "        var msg = JSON.parse(evt.data);\n",
       "        var msg_type = msg['type'];\n",
       "\n",
       "        // Call the  \"handle_{type}\" callback, which takes\n",
       "        // the figure and JSON message as its only arguments.\n",
       "        try {\n",
       "            var callback = fig[\"handle_\" + msg_type];\n",
       "        } catch (e) {\n",
       "            console.log(\"No handler for the '\" + msg_type + \"' message type: \", msg);\n",
       "            return;\n",
       "        }\n",
       "\n",
       "        if (callback) {\n",
       "            try {\n",
       "                // console.log(\"Handling '\" + msg_type + \"' message: \", msg);\n",
       "                callback(fig, msg);\n",
       "            } catch (e) {\n",
       "                console.log(\"Exception inside the 'handler_\" + msg_type + \"' callback:\", e, e.stack, msg);\n",
       "            }\n",
       "        }\n",
       "    };\n",
       "}\n",
       "\n",
       "// from http://stackoverflow.com/questions/1114465/getting-mouse-location-in-canvas\n",
       "mpl.findpos = function(e) {\n",
       "    //this section is from http://www.quirksmode.org/js/events_properties.html\n",
       "    var targ;\n",
       "    if (!e)\n",
       "        e = window.event;\n",
       "    if (e.target)\n",
       "        targ = e.target;\n",
       "    else if (e.srcElement)\n",
       "        targ = e.srcElement;\n",
       "    if (targ.nodeType == 3) // defeat Safari bug\n",
       "        targ = targ.parentNode;\n",
       "\n",
       "    // jQuery normalizes the pageX and pageY\n",
       "    // pageX,Y are the mouse positions relative to the document\n",
       "    // offset() returns the position of the element relative to the document\n",
       "    var x = e.pageX - $(targ).offset().left;\n",
       "    var y = e.pageY - $(targ).offset().top;\n",
       "\n",
       "    return {\"x\": x, \"y\": y};\n",
       "};\n",
       "\n",
       "/*\n",
       " * return a copy of an object with only non-object keys\n",
       " * we need this to avoid circular references\n",
       " * http://stackoverflow.com/a/24161582/3208463\n",
       " */\n",
       "function simpleKeys (original) {\n",
       "  return Object.keys(original).reduce(function (obj, key) {\n",
       "    if (typeof original[key] !== 'object')\n",
       "        obj[key] = original[key]\n",
       "    return obj;\n",
       "  }, {});\n",
       "}\n",
       "\n",
       "mpl.figure.prototype.mouse_event = function(event, name) {\n",
       "    var canvas_pos = mpl.findpos(event)\n",
       "\n",
       "    if (name === 'button_press')\n",
       "    {\n",
       "        this.canvas.focus();\n",
       "        this.canvas_div.focus();\n",
       "    }\n",
       "\n",
       "    var x = canvas_pos.x * mpl.ratio;\n",
       "    var y = canvas_pos.y * mpl.ratio;\n",
       "\n",
       "    this.send_message(name, {x: x, y: y, button: event.button,\n",
       "                             step: event.step,\n",
       "                             guiEvent: simpleKeys(event)});\n",
       "\n",
       "    /* This prevents the web browser from automatically changing to\n",
       "     * the text insertion cursor when the button is pressed.  We want\n",
       "     * to control all of the cursor setting manually through the\n",
       "     * 'cursor' event from matplotlib */\n",
       "    event.preventDefault();\n",
       "    return false;\n",
       "}\n",
       "\n",
       "mpl.figure.prototype._key_event_extra = function(event, name) {\n",
       "    // Handle any extra behaviour associated with a key event\n",
       "}\n",
       "\n",
       "mpl.figure.prototype.key_event = function(event, name) {\n",
       "\n",
       "    // Prevent repeat events\n",
       "    if (name == 'key_press')\n",
       "    {\n",
       "        if (event.which === this._key)\n",
       "            return;\n",
       "        else\n",
       "            this._key = event.which;\n",
       "    }\n",
       "    if (name == 'key_release')\n",
       "        this._key = null;\n",
       "\n",
       "    var value = '';\n",
       "    if (event.ctrlKey && event.which != 17)\n",
       "        value += \"ctrl+\";\n",
       "    if (event.altKey && event.which != 18)\n",
       "        value += \"alt+\";\n",
       "    if (event.shiftKey && event.which != 16)\n",
       "        value += \"shift+\";\n",
       "\n",
       "    value += 'k';\n",
       "    value += event.which.toString();\n",
       "\n",
       "    this._key_event_extra(event, name);\n",
       "\n",
       "    this.send_message(name, {key: value,\n",
       "                             guiEvent: simpleKeys(event)});\n",
       "    return false;\n",
       "}\n",
       "\n",
       "mpl.figure.prototype.toolbar_button_onclick = function(name) {\n",
       "    if (name == 'download') {\n",
       "        this.handle_save(this, null);\n",
       "    } else {\n",
       "        this.send_message(\"toolbar_button\", {name: name});\n",
       "    }\n",
       "};\n",
       "\n",
       "mpl.figure.prototype.toolbar_button_onmouseover = function(tooltip) {\n",
       "    this.message.textContent = tooltip;\n",
       "};\n",
       "mpl.toolbar_items = [[\"Home\", \"Reset original view\", \"fa fa-home icon-home\", \"home\"], [\"Back\", \"Back to previous view\", \"fa fa-arrow-left icon-arrow-left\", \"back\"], [\"Forward\", \"Forward to next view\", \"fa fa-arrow-right icon-arrow-right\", \"forward\"], [\"\", \"\", \"\", \"\"], [\"Pan\", \"Pan axes with left mouse, zoom with right\", \"fa fa-arrows icon-move\", \"pan\"], [\"Zoom\", \"Zoom to rectangle\", \"fa fa-square-o icon-check-empty\", \"zoom\"], [\"\", \"\", \"\", \"\"], [\"Download\", \"Download plot\", \"fa fa-floppy-o icon-save\", \"download\"]];\n",
       "\n",
       "mpl.extensions = [\"eps\", \"jpeg\", \"pdf\", \"png\", \"ps\", \"raw\", \"svg\", \"tif\"];\n",
       "\n",
       "mpl.default_extension = \"png\";var comm_websocket_adapter = function(comm) {\n",
       "    // Create a \"websocket\"-like object which calls the given IPython comm\n",
       "    // object with the appropriate methods. Currently this is a non binary\n",
       "    // socket, so there is still some room for performance tuning.\n",
       "    var ws = {};\n",
       "\n",
       "    ws.close = function() {\n",
       "        comm.close()\n",
       "    };\n",
       "    ws.send = function(m) {\n",
       "        //console.log('sending', m);\n",
       "        comm.send(m);\n",
       "    };\n",
       "    // Register the callback with on_msg.\n",
       "    comm.on_msg(function(msg) {\n",
       "        //console.log('receiving', msg['content']['data'], msg);\n",
       "        // Pass the mpl event to the overridden (by mpl) onmessage function.\n",
       "        ws.onmessage(msg['content']['data'])\n",
       "    });\n",
       "    return ws;\n",
       "}\n",
       "\n",
       "mpl.mpl_figure_comm = function(comm, msg) {\n",
       "    // This is the function which gets called when the mpl process\n",
       "    // starts-up an IPython Comm through the \"matplotlib\" channel.\n",
       "\n",
       "    var id = msg.content.data.id;\n",
       "    // Get hold of the div created by the display call when the Comm\n",
       "    // socket was opened in Python.\n",
       "    var element = $(\"#\" + id);\n",
       "    var ws_proxy = comm_websocket_adapter(comm)\n",
       "\n",
       "    function ondownload(figure, format) {\n",
       "        window.open(figure.imageObj.src);\n",
       "    }\n",
       "\n",
       "    var fig = new mpl.figure(id, ws_proxy,\n",
       "                           ondownload,\n",
       "                           element.get(0));\n",
       "\n",
       "    // Call onopen now - mpl needs it, as it is assuming we've passed it a real\n",
       "    // web socket which is closed, not our websocket->open comm proxy.\n",
       "    ws_proxy.onopen();\n",
       "\n",
       "    fig.parent_element = element.get(0);\n",
       "    fig.cell_info = mpl.find_output_cell(\"<div id='\" + id + \"'></div>\");\n",
       "    if (!fig.cell_info) {\n",
       "        console.error(\"Failed to find cell for figure\", id, fig);\n",
       "        return;\n",
       "    }\n",
       "\n",
       "    var output_index = fig.cell_info[2]\n",
       "    var cell = fig.cell_info[0];\n",
       "\n",
       "};\n",
       "\n",
       "mpl.figure.prototype.handle_close = function(fig, msg) {\n",
       "    var width = fig.canvas.width/mpl.ratio\n",
       "    fig.root.unbind('remove')\n",
       "\n",
       "    // Update the output cell to use the data from the current canvas.\n",
       "    fig.push_to_output();\n",
       "    var dataURL = fig.canvas.toDataURL();\n",
       "    // Re-enable the keyboard manager in IPython - without this line, in FF,\n",
       "    // the notebook keyboard shortcuts fail.\n",
       "    IPython.keyboard_manager.enable()\n",
       "    $(fig.parent_element).html('<img src=\"' + dataURL + '\" width=\"' + width + '\">');\n",
       "    fig.close_ws(fig, msg);\n",
       "}\n",
       "\n",
       "mpl.figure.prototype.close_ws = function(fig, msg){\n",
       "    fig.send_message('closing', msg);\n",
       "    // fig.ws.close()\n",
       "}\n",
       "\n",
       "mpl.figure.prototype.push_to_output = function(remove_interactive) {\n",
       "    // Turn the data on the canvas into data in the output cell.\n",
       "    var width = this.canvas.width/mpl.ratio\n",
       "    var dataURL = this.canvas.toDataURL();\n",
       "    this.cell_info[1]['text/html'] = '<img src=\"' + dataURL + '\" width=\"' + width + '\">';\n",
       "}\n",
       "\n",
       "mpl.figure.prototype.updated_canvas_event = function() {\n",
       "    // Tell IPython that the notebook contents must change.\n",
       "    IPython.notebook.set_dirty(true);\n",
       "    this.send_message(\"ack\", {});\n",
       "    var fig = this;\n",
       "    // Wait a second, then push the new image to the DOM so\n",
       "    // that it is saved nicely (might be nice to debounce this).\n",
       "    setTimeout(function () { fig.push_to_output() }, 1000);\n",
       "}\n",
       "\n",
       "mpl.figure.prototype._init_toolbar = function() {\n",
       "    var fig = this;\n",
       "\n",
       "    var nav_element = $('<div/>');\n",
       "    nav_element.attr('style', 'width: 100%');\n",
       "    this.root.append(nav_element);\n",
       "\n",
       "    // Define a callback function for later on.\n",
       "    function toolbar_event(event) {\n",
       "        return fig.toolbar_button_onclick(event['data']);\n",
       "    }\n",
       "    function toolbar_mouse_event(event) {\n",
       "        return fig.toolbar_button_onmouseover(event['data']);\n",
       "    }\n",
       "\n",
       "    for(var toolbar_ind in mpl.toolbar_items){\n",
       "        var name = mpl.toolbar_items[toolbar_ind][0];\n",
       "        var tooltip = mpl.toolbar_items[toolbar_ind][1];\n",
       "        var image = mpl.toolbar_items[toolbar_ind][2];\n",
       "        var method_name = mpl.toolbar_items[toolbar_ind][3];\n",
       "\n",
       "        if (!name) { continue; };\n",
       "\n",
       "        var button = $('<button class=\"btn btn-default\" href=\"#\" title=\"' + name + '\"><i class=\"fa ' + image + ' fa-lg\"></i></button>');\n",
       "        button.click(method_name, toolbar_event);\n",
       "        button.mouseover(tooltip, toolbar_mouse_event);\n",
       "        nav_element.append(button);\n",
       "    }\n",
       "\n",
       "    // Add the status bar.\n",
       "    var status_bar = $('<span class=\"mpl-message\" style=\"text-align:right; float: right;\"/>');\n",
       "    nav_element.append(status_bar);\n",
       "    this.message = status_bar[0];\n",
       "\n",
       "    // Add the close button to the window.\n",
       "    var buttongrp = $('<div class=\"btn-group inline pull-right\"></div>');\n",
       "    var button = $('<button class=\"btn btn-mini btn-primary\" href=\"#\" title=\"Stop Interaction\"><i class=\"fa fa-power-off icon-remove icon-large\"></i></button>');\n",
       "    button.click(function (evt) { fig.handle_close(fig, {}); } );\n",
       "    button.mouseover('Stop Interaction', toolbar_mouse_event);\n",
       "    buttongrp.append(button);\n",
       "    var titlebar = this.root.find($('.ui-dialog-titlebar'));\n",
       "    titlebar.prepend(buttongrp);\n",
       "}\n",
       "\n",
       "mpl.figure.prototype._root_extra_style = function(el){\n",
       "    var fig = this\n",
       "    el.on(\"remove\", function(){\n",
       "\tfig.close_ws(fig, {});\n",
       "    });\n",
       "}\n",
       "\n",
       "mpl.figure.prototype._canvas_extra_style = function(el){\n",
       "    // this is important to make the div 'focusable\n",
       "    el.attr('tabindex', 0)\n",
       "    // reach out to IPython and tell the keyboard manager to turn it's self\n",
       "    // off when our div gets focus\n",
       "\n",
       "    // location in version 3\n",
       "    if (IPython.notebook.keyboard_manager) {\n",
       "        IPython.notebook.keyboard_manager.register_events(el);\n",
       "    }\n",
       "    else {\n",
       "        // location in version 2\n",
       "        IPython.keyboard_manager.register_events(el);\n",
       "    }\n",
       "\n",
       "}\n",
       "\n",
       "mpl.figure.prototype._key_event_extra = function(event, name) {\n",
       "    var manager = IPython.notebook.keyboard_manager;\n",
       "    if (!manager)\n",
       "        manager = IPython.keyboard_manager;\n",
       "\n",
       "    // Check for shift+enter\n",
       "    if (event.shiftKey && event.which == 13) {\n",
       "        this.canvas_div.blur();\n",
       "        // select the cell after this one\n",
       "        var index = IPython.notebook.find_cell_index(this.cell_info[0]);\n",
       "        IPython.notebook.select(index + 1);\n",
       "    }\n",
       "}\n",
       "\n",
       "mpl.figure.prototype.handle_save = function(fig, msg) {\n",
       "    fig.ondownload(fig, null);\n",
       "}\n",
       "\n",
       "\n",
       "mpl.find_output_cell = function(html_output) {\n",
       "    // Return the cell and output element which can be found *uniquely* in the notebook.\n",
       "    // Note - this is a bit hacky, but it is done because the \"notebook_saving.Notebook\"\n",
       "    // IPython event is triggered only after the cells have been serialised, which for\n",
       "    // our purposes (turning an active figure into a static one), is too late.\n",
       "    var cells = IPython.notebook.get_cells();\n",
       "    var ncells = cells.length;\n",
       "    for (var i=0; i<ncells; i++) {\n",
       "        var cell = cells[i];\n",
       "        if (cell.cell_type === 'code'){\n",
       "            for (var j=0; j<cell.output_area.outputs.length; j++) {\n",
       "                var data = cell.output_area.outputs[j];\n",
       "                if (data.data) {\n",
       "                    // IPython >= 3 moved mimebundle to data attribute of output\n",
       "                    data = data.data;\n",
       "                }\n",
       "                if (data['text/html'] == html_output) {\n",
       "                    return [cell, data, j];\n",
       "                }\n",
       "            }\n",
       "        }\n",
       "    }\n",
       "}\n",
       "\n",
       "// Register the function which deals with the matplotlib target/channel.\n",
       "// The kernel may be null if the page has been refreshed.\n",
       "if (IPython.notebook.kernel != null) {\n",
       "    IPython.notebook.kernel.comm_manager.register_target('matplotlib', mpl.mpl_figure_comm);\n",
       "}\n"
      ],
      "text/plain": [
       "<IPython.core.display.Javascript object>"
      ]
     },
     "metadata": {},
     "output_type": "display_data"
    },
    {
     "data": {
      "text/html": [
       "<img src=\"data:image/png;base64,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\" width=\"1000\">"
      ],
      "text/plain": [
       "<IPython.core.display.HTML object>"
      ]
     },
     "metadata": {},
     "output_type": "display_data"
    }
   ],
   "source": [
    "ax, tax, lax, lines = dual_train_plots()\n",
    "fig = ax.figure\n",
    "plt.tight_layout()"
   ]
  },
  {
   "cell_type": "code",
   "execution_count": 15,
   "metadata": {
    "scrolled": false
   },
   "outputs": [
    {
     "name": "stdout",
     "output_type": "stream",
     "text": [
      "Number of batches: train = 10000, val = 625\n"
     ]
    },
    {
     "data": {
      "application/vnd.jupyter.widget-view+json": {
       "model_id": "45aad4701b0646e384ab36bbef02b03c",
       "version_major": 2,
       "version_minor": 0
      },
      "text/plain": [
       "HBox(children=(FloatProgress(value=0.0, description='Epochs', layout=Layout(flex='2'), max=60.0, style=Progres…"
      ]
     },
     "metadata": {},
     "output_type": "display_data"
    },
    {
     "data": {
      "application/vnd.jupyter.widget-view+json": {
       "model_id": "",
       "version_major": 2,
       "version_minor": 0
      },
      "text/plain": [
       "HBox(children=(FloatProgress(value=0.0, description='Training', layout=Layout(flex='2'), max=10000.0, style=Pr…"
      ]
     },
     "metadata": {},
     "output_type": "display_data"
    },
    {
     "name": "stdout",
     "output_type": "stream",
     "text": [
      "Epoch 0: train=4.66352, val=3.64151, took 666.44 s\n",
      "  Validation Found 93423 of 108024, added 9087 (eff 86.48%) (0.454 FP/event)\n"
     ]
    },
    {
     "data": {
      "application/vnd.jupyter.widget-view+json": {
       "model_id": "",
       "version_major": 2,
       "version_minor": 0
      },
      "text/plain": [
       "HBox(children=(FloatProgress(value=0.0, description='Training', layout=Layout(flex='2'), max=10000.0, style=Pr…"
      ]
     },
     "metadata": {},
     "output_type": "display_data"
    },
    {
     "name": "stdout",
     "output_type": "stream",
     "text": [
      "Epoch 1: train=4.66204, val=3.6408, took 664.29 s\n",
      "  Validation Found 93456 of 108024, added 9137 (eff 86.51%) (0.457 FP/event)\n"
     ]
    },
    {
     "data": {
      "application/vnd.jupyter.widget-view+json": {
       "model_id": "",
       "version_major": 2,
       "version_minor": 0
      },
      "text/plain": [
       "HBox(children=(FloatProgress(value=0.0, description='Training', layout=Layout(flex='2'), max=10000.0, style=Pr…"
      ]
     },
     "metadata": {},
     "output_type": "display_data"
    },
    {
     "name": "stdout",
     "output_type": "stream",
     "text": [
      "Epoch 2: train=4.65928, val=3.64098, took 664.48 s\n",
      "  Validation Found 93427 of 108024, added 9160 (eff 86.49%) (0.458 FP/event)\n"
     ]
    },
    {
     "data": {
      "application/vnd.jupyter.widget-view+json": {
       "model_id": "",
       "version_major": 2,
       "version_minor": 0
      },
      "text/plain": [
       "HBox(children=(FloatProgress(value=0.0, description='Training', layout=Layout(flex='2'), max=10000.0, style=Pr…"
      ]
     },
     "metadata": {},
     "output_type": "display_data"
    },
    {
     "name": "stdout",
     "output_type": "stream",
     "text": [
      "Epoch 3: train=4.65841, val=3.64377, took 654.44 s\n",
      "  Validation Found 93418 of 108024, added 9159 (eff 86.48%) (0.458 FP/event)\n"
     ]
    },
    {
     "data": {
      "application/vnd.jupyter.widget-view+json": {
       "model_id": "",
       "version_major": 2,
       "version_minor": 0
      },
      "text/plain": [
       "HBox(children=(FloatProgress(value=0.0, description='Training', layout=Layout(flex='2'), max=10000.0, style=Pr…"
      ]
     },
     "metadata": {},
     "output_type": "display_data"
    },
    {
     "name": "stdout",
     "output_type": "stream",
     "text": [
      "Epoch 4: train=4.65707, val=3.64197, took 653.4 s\n",
      "  Validation Found 93385 of 108024, added 9100 (eff 86.45%) (0.455 FP/event)\n"
     ]
    },
    {
     "data": {
      "application/vnd.jupyter.widget-view+json": {
       "model_id": "",
       "version_major": 2,
       "version_minor": 0
      },
      "text/plain": [
       "HBox(children=(FloatProgress(value=0.0, description='Training', layout=Layout(flex='2'), max=10000.0, style=Pr…"
      ]
     },
     "metadata": {},
     "output_type": "display_data"
    },
    {
     "name": "stdout",
     "output_type": "stream",
     "text": [
      "Epoch 5: train=4.65577, val=3.64441, took 649.6 s\n",
      "  Validation Found 93400 of 108024, added 9122 (eff 86.46%) (0.456 FP/event)\n"
     ]
    },
    {
     "data": {
      "application/vnd.jupyter.widget-view+json": {
       "model_id": "",
       "version_major": 2,
       "version_minor": 0
      },
      "text/plain": [
       "HBox(children=(FloatProgress(value=0.0, description='Training', layout=Layout(flex='2'), max=10000.0, style=Pr…"
      ]
     },
     "metadata": {},
     "output_type": "display_data"
    },
    {
     "name": "stdout",
     "output_type": "stream",
     "text": [
      "Epoch 6: train=4.65227, val=3.64449, took 656.85 s\n",
      "  Validation Found 93406 of 108024, added 9142 (eff 86.47%) (0.457 FP/event)\n"
     ]
    },
    {
     "data": {
      "application/vnd.jupyter.widget-view+json": {
       "model_id": "",
       "version_major": 2,
       "version_minor": 0
      },
      "text/plain": [
       "HBox(children=(FloatProgress(value=0.0, description='Training', layout=Layout(flex='2'), max=10000.0, style=Pr…"
      ]
     },
     "metadata": {},
     "output_type": "display_data"
    },
    {
     "name": "stdout",
     "output_type": "stream",
     "text": [
      "Epoch 7: train=4.64974, val=3.64305, took 654.61 s\n",
      "  Validation Found 93354 of 108024, added 9157 (eff 86.42%) (0.458 FP/event)\n"
     ]
    },
    {
     "data": {
      "application/vnd.jupyter.widget-view+json": {
       "model_id": "",
       "version_major": 2,
       "version_minor": 0
      },
      "text/plain": [
       "HBox(children=(FloatProgress(value=0.0, description='Training', layout=Layout(flex='2'), max=10000.0, style=Pr…"
      ]
     },
     "metadata": {},
     "output_type": "display_data"
    },
    {
     "name": "stdout",
     "output_type": "stream",
     "text": [
      "Epoch 8: train=4.64861, val=3.64339, took 651.91 s\n",
      "  Validation Found 93368 of 108024, added 9177 (eff 86.43%) (0.459 FP/event)\n"
     ]
    },
    {
     "data": {
      "application/vnd.jupyter.widget-view+json": {
       "model_id": "",
       "version_major": 2,
       "version_minor": 0
      },
      "text/plain": [
       "HBox(children=(FloatProgress(value=0.0, description='Training', layout=Layout(flex='2'), max=10000.0, style=Pr…"
      ]
     },
     "metadata": {},
     "output_type": "display_data"
    },
    {
     "name": "stdout",
     "output_type": "stream",
     "text": [
      "Epoch 9: train=4.64869, val=3.64357, took 649.01 s\n",
      "  Validation Found 93381 of 108024, added 9170 (eff 86.44%) (0.458 FP/event)\n"
     ]
    },
    {
     "data": {
      "application/vnd.jupyter.widget-view+json": {
       "model_id": "",
       "version_major": 2,
       "version_minor": 0
      },
      "text/plain": [
       "HBox(children=(FloatProgress(value=0.0, description='Training', layout=Layout(flex='2'), max=10000.0, style=Pr…"
      ]
     },
     "metadata": {},
     "output_type": "display_data"
    },
    {
     "name": "stdout",
     "output_type": "stream",
     "text": [
      "Epoch 10: train=4.6474, val=3.64644, took 649.85 s\n",
      "  Validation Found 93331 of 108024, added 9113 (eff 86.40%) (0.456 FP/event)\n"
     ]
    },
    {
     "data": {
      "application/vnd.jupyter.widget-view+json": {
       "model_id": "",
       "version_major": 2,
       "version_minor": 0
      },
      "text/plain": [
       "HBox(children=(FloatProgress(value=0.0, description='Training', layout=Layout(flex='2'), max=10000.0, style=Pr…"
      ]
     },
     "metadata": {},
     "output_type": "display_data"
    },
    {
     "name": "stdout",
     "output_type": "stream",
     "text": [
      "Epoch 11: train=4.64341, val=3.64524, took 652.17 s\n",
      "  Validation Found 93383 of 108024, added 9160 (eff 86.45%) (0.458 FP/event)\n"
     ]
    },
    {
     "data": {
      "application/vnd.jupyter.widget-view+json": {
       "model_id": "",
       "version_major": 2,
       "version_minor": 0
      },
      "text/plain": [
       "HBox(children=(FloatProgress(value=0.0, description='Training', layout=Layout(flex='2'), max=10000.0, style=Pr…"
      ]
     },
     "metadata": {},
     "output_type": "display_data"
    },
    {
     "name": "stdout",
     "output_type": "stream",
     "text": [
      "Epoch 12: train=4.64297, val=3.64379, took 689.21 s\n",
      "  Validation Found 93381 of 108024, added 9127 (eff 86.44%) (0.456 FP/event)\n"
     ]
    },
    {
     "data": {
      "application/vnd.jupyter.widget-view+json": {
       "model_id": "",
       "version_major": 2,
       "version_minor": 0
      },
      "text/plain": [
       "HBox(children=(FloatProgress(value=0.0, description='Training', layout=Layout(flex='2'), max=10000.0, style=Pr…"
      ]
     },
     "metadata": {},
     "output_type": "display_data"
    },
    {
     "name": "stdout",
     "output_type": "stream",
     "text": [
      "Epoch 13: train=4.64331, val=3.64533, took 661.03 s\n",
      "  Validation Found 93398 of 108024, added 9152 (eff 86.46%) (0.458 FP/event)\n"
     ]
    },
    {
     "data": {
      "application/vnd.jupyter.widget-view+json": {
       "model_id": "",
       "version_major": 2,
       "version_minor": 0
      },
      "text/plain": [
       "HBox(children=(FloatProgress(value=0.0, description='Training', layout=Layout(flex='2'), max=10000.0, style=Pr…"
      ]
     },
     "metadata": {},
     "output_type": "display_data"
    },
    {
     "name": "stdout",
     "output_type": "stream",
     "text": [
      "Epoch 14: train=4.63776, val=3.64528, took 656.0 s\n",
      "  Validation Found 93377 of 108024, added 9181 (eff 86.44%) (0.459 FP/event)\n"
     ]
    },
    {
     "data": {
      "application/vnd.jupyter.widget-view+json": {
       "model_id": "",
       "version_major": 2,
       "version_minor": 0
      },
      "text/plain": [
       "HBox(children=(FloatProgress(value=0.0, description='Training', layout=Layout(flex='2'), max=10000.0, style=Pr…"
      ]
     },
     "metadata": {},
     "output_type": "display_data"
    },
    {
     "name": "stdout",
     "output_type": "stream",
     "text": [
      "Epoch 15: train=4.63631, val=3.64657, took 659.33 s\n",
      "  Validation Found 93377 of 108024, added 9182 (eff 86.44%) (0.459 FP/event)\n"
     ]
    },
    {
     "data": {
      "application/vnd.jupyter.widget-view+json": {
       "model_id": "",
       "version_major": 2,
       "version_minor": 0
      },
      "text/plain": [
       "HBox(children=(FloatProgress(value=0.0, description='Training', layout=Layout(flex='2'), max=10000.0, style=Pr…"
      ]
     },
     "metadata": {},
     "output_type": "display_data"
    },
    {
     "name": "stdout",
     "output_type": "stream",
     "text": [
      "Epoch 16: train=4.63588, val=3.64446, took 650.11 s\n",
      "  Validation Found 93388 of 108024, added 9202 (eff 86.45%) (0.46 FP/event)\n"
     ]
    },
    {
     "data": {
      "application/vnd.jupyter.widget-view+json": {
       "model_id": "",
       "version_major": 2,
       "version_minor": 0
      },
      "text/plain": [
       "HBox(children=(FloatProgress(value=0.0, description='Training', layout=Layout(flex='2'), max=10000.0, style=Pr…"
      ]
     },
     "metadata": {},
     "output_type": "display_data"
    },
    {
     "name": "stdout",
     "output_type": "stream",
     "text": [
      "Epoch 17: train=4.63363, val=3.64521, took 651.8 s\n",
      "  Validation Found 93394 of 108024, added 9185 (eff 86.46%) (0.459 FP/event)\n"
     ]
    },
    {
     "data": {
      "application/vnd.jupyter.widget-view+json": {
       "model_id": "",
       "version_major": 2,
       "version_minor": 0
      },
      "text/plain": [
       "HBox(children=(FloatProgress(value=0.0, description='Training', layout=Layout(flex='2'), max=10000.0, style=Pr…"
      ]
     },
     "metadata": {},
     "output_type": "display_data"
    },
    {
     "name": "stdout",
     "output_type": "stream",
     "text": [
      "Epoch 18: train=4.6344, val=3.6479, took 651.35 s\n",
      "  Validation Found 93413 of 108024, added 9212 (eff 86.47%) (0.461 FP/event)\n"
     ]
    },
    {
     "data": {
      "application/vnd.jupyter.widget-view+json": {
       "model_id": "",
       "version_major": 2,
       "version_minor": 0
      },
      "text/plain": [
       "HBox(children=(FloatProgress(value=0.0, description='Training', layout=Layout(flex='2'), max=10000.0, style=Pr…"
      ]
     },
     "metadata": {},
     "output_type": "display_data"
    },
    {
     "name": "stdout",
     "output_type": "stream",
     "text": [
      "Epoch 19: train=4.63071, val=3.65203, took 653.02 s\n",
      "  Validation Found 93381 of 108024, added 9228 (eff 86.44%) (0.461 FP/event)\n"
     ]
    },
    {
     "data": {
      "application/vnd.jupyter.widget-view+json": {
       "model_id": "",
       "version_major": 2,
       "version_minor": 0
      },
      "text/plain": [
       "HBox(children=(FloatProgress(value=0.0, description='Training', layout=Layout(flex='2'), max=10000.0, style=Pr…"
      ]
     },
     "metadata": {},
     "output_type": "display_data"
    },
    {
     "name": "stdout",
     "output_type": "stream",
     "text": [
      "Epoch 20: train=4.62963, val=3.64587, took 651.71 s\n",
      "  Validation Found 93375 of 108024, added 9190 (eff 86.44%) (0.459 FP/event)\n"
     ]
    },
    {
     "data": {
      "application/vnd.jupyter.widget-view+json": {
       "model_id": "",
       "version_major": 2,
       "version_minor": 0
      },
      "text/plain": [
       "HBox(children=(FloatProgress(value=0.0, description='Training', layout=Layout(flex='2'), max=10000.0, style=Pr…"
      ]
     },
     "metadata": {},
     "output_type": "display_data"
    },
    {
     "name": "stdout",
     "output_type": "stream",
     "text": [
      "Epoch 21: train=4.62834, val=3.64543, took 651.91 s\n",
      "  Validation Found 93360 of 108024, added 9174 (eff 86.43%) (0.459 FP/event)\n"
     ]
    },
    {
     "data": {
      "application/vnd.jupyter.widget-view+json": {
       "model_id": "",
       "version_major": 2,
       "version_minor": 0
      },
      "text/plain": [
       "HBox(children=(FloatProgress(value=0.0, description='Training', layout=Layout(flex='2'), max=10000.0, style=Pr…"
      ]
     },
     "metadata": {},
     "output_type": "display_data"
    },
    {
     "name": "stdout",
     "output_type": "stream",
     "text": [
      "Epoch 22: train=4.62791, val=3.65119, took 651.98 s\n",
      "  Validation Found 93354 of 108024, added 9183 (eff 86.42%) (0.459 FP/event)\n"
     ]
    },
    {
     "data": {
      "application/vnd.jupyter.widget-view+json": {
       "model_id": "",
       "version_major": 2,
       "version_minor": 0
      },
      "text/plain": [
       "HBox(children=(FloatProgress(value=0.0, description='Training', layout=Layout(flex='2'), max=10000.0, style=Pr…"
      ]
     },
     "metadata": {},
     "output_type": "display_data"
    },
    {
     "name": "stdout",
     "output_type": "stream",
     "text": [
      "Epoch 23: train=4.62646, val=3.64699, took 649.53 s\n",
      "  Validation Found 93377 of 108024, added 9217 (eff 86.44%) (0.461 FP/event)\n"
     ]
    },
    {
     "data": {
      "application/vnd.jupyter.widget-view+json": {
       "model_id": "",
       "version_major": 2,
       "version_minor": 0
      },
      "text/plain": [
       "HBox(children=(FloatProgress(value=0.0, description='Training', layout=Layout(flex='2'), max=10000.0, style=Pr…"
      ]
     },
     "metadata": {},
     "output_type": "display_data"
    },
    {
     "name": "stdout",
     "output_type": "stream",
     "text": [
      "Epoch 24: train=4.62458, val=3.64725, took 649.34 s\n",
      "  Validation Found 93391 of 108024, added 9226 (eff 86.45%) (0.461 FP/event)\n"
     ]
    },
    {
     "data": {
      "application/vnd.jupyter.widget-view+json": {
       "model_id": "",
       "version_major": 2,
       "version_minor": 0
      },
      "text/plain": [
       "HBox(children=(FloatProgress(value=0.0, description='Training', layout=Layout(flex='2'), max=10000.0, style=Pr…"
      ]
     },
     "metadata": {},
     "output_type": "display_data"
    },
    {
     "name": "stdout",
     "output_type": "stream",
     "text": [
      "Epoch 25: train=4.62122, val=3.64604, took 651.33 s\n",
      "  Validation Found 93397 of 108024, added 9270 (eff 86.46%) (0.463 FP/event)\n"
     ]
    },
    {
     "data": {
      "application/vnd.jupyter.widget-view+json": {
       "model_id": "",
       "version_major": 2,
       "version_minor": 0
      },
      "text/plain": [
       "HBox(children=(FloatProgress(value=0.0, description='Training', layout=Layout(flex='2'), max=10000.0, style=Pr…"
      ]
     },
     "metadata": {},
     "output_type": "display_data"
    },
    {
     "name": "stdout",
     "output_type": "stream",
     "text": [
      "Epoch 26: train=4.62216, val=3.64699, took 651.31 s\n",
      "  Validation Found 93411 of 108024, added 9276 (eff 86.47%) (0.464 FP/event)\n"
     ]
    },
    {
     "data": {
      "application/vnd.jupyter.widget-view+json": {
       "model_id": "",
       "version_major": 2,
       "version_minor": 0
      },
      "text/plain": [
       "HBox(children=(FloatProgress(value=0.0, description='Training', layout=Layout(flex='2'), max=10000.0, style=Pr…"
      ]
     },
     "metadata": {},
     "output_type": "display_data"
    },
    {
     "name": "stdout",
     "output_type": "stream",
     "text": [
      "Epoch 27: train=4.6209, val=3.64668, took 652.2 s\n",
      "  Validation Found 93417 of 108024, added 9250 (eff 86.48%) (0.462 FP/event)\n"
     ]
    },
    {
     "data": {
      "application/vnd.jupyter.widget-view+json": {
       "model_id": "",
       "version_major": 2,
       "version_minor": 0
      },
      "text/plain": [
       "HBox(children=(FloatProgress(value=0.0, description='Training', layout=Layout(flex='2'), max=10000.0, style=Pr…"
      ]
     },
     "metadata": {},
     "output_type": "display_data"
    },
    {
     "name": "stdout",
     "output_type": "stream",
     "text": [
      "Epoch 28: train=4.62075, val=3.64661, took 653.08 s\n",
      "  Validation Found 93387 of 108024, added 9253 (eff 86.45%) (0.463 FP/event)\n"
     ]
    },
    {
     "data": {
      "application/vnd.jupyter.widget-view+json": {
       "model_id": "",
       "version_major": 2,
       "version_minor": 0
      },
      "text/plain": [
       "HBox(children=(FloatProgress(value=0.0, description='Training', layout=Layout(flex='2'), max=10000.0, style=Pr…"
      ]
     },
     "metadata": {},
     "output_type": "display_data"
    },
    {
     "name": "stdout",
     "output_type": "stream",
     "text": [
      "Epoch 29: train=4.61619, val=3.6466, took 647.08 s\n",
      "  Validation Found 93378 of 108024, added 9252 (eff 86.44%) (0.463 FP/event)\n"
     ]
    },
    {
     "data": {
      "application/vnd.jupyter.widget-view+json": {
       "model_id": "",
       "version_major": 2,
       "version_minor": 0
      },
      "text/plain": [
       "HBox(children=(FloatProgress(value=0.0, description='Training', layout=Layout(flex='2'), max=10000.0, style=Pr…"
      ]
     },
     "metadata": {},
     "output_type": "display_data"
    },
    {
     "name": "stdout",
     "output_type": "stream",
     "text": [
      "Epoch 30: train=4.61671, val=3.64729, took 647.7 s\n",
      "  Validation Found 93398 of 108024, added 9230 (eff 86.46%) (0.461 FP/event)\n"
     ]
    },
    {
     "data": {
      "application/vnd.jupyter.widget-view+json": {
       "model_id": "",
       "version_major": 2,
       "version_minor": 0
      },
      "text/plain": [
       "HBox(children=(FloatProgress(value=0.0, description='Training', layout=Layout(flex='2'), max=10000.0, style=Pr…"
      ]
     },
     "metadata": {},
     "output_type": "display_data"
    },
    {
     "name": "stdout",
     "output_type": "stream",
     "text": [
      "Epoch 31: train=4.61396, val=3.64704, took 651.5 s\n",
      "  Validation Found 93384 of 108024, added 9214 (eff 86.45%) (0.461 FP/event)\n"
     ]
    },
    {
     "data": {
      "application/vnd.jupyter.widget-view+json": {
       "model_id": "",
       "version_major": 2,
       "version_minor": 0
      },
      "text/plain": [
       "HBox(children=(FloatProgress(value=0.0, description='Training', layout=Layout(flex='2'), max=10000.0, style=Pr…"
      ]
     },
     "metadata": {},
     "output_type": "display_data"
    },
    {
     "name": "stdout",
     "output_type": "stream",
     "text": [
      "Epoch 32: train=4.61356, val=3.64691, took 646.92 s\n",
      "  Validation Found 93409 of 108024, added 9246 (eff 86.47%) (0.462 FP/event)\n"
     ]
    },
    {
     "data": {
      "application/vnd.jupyter.widget-view+json": {
       "model_id": "",
       "version_major": 2,
       "version_minor": 0
      },
      "text/plain": [
       "HBox(children=(FloatProgress(value=0.0, description='Training', layout=Layout(flex='2'), max=10000.0, style=Pr…"
      ]
     },
     "metadata": {},
     "output_type": "display_data"
    },
    {
     "name": "stdout",
     "output_type": "stream",
     "text": [
      "Epoch 33: train=4.6119, val=3.64616, took 647.62 s\n",
      "  Validation Found 93418 of 108024, added 9279 (eff 86.48%) (0.464 FP/event)\n"
     ]
    },
    {
     "data": {
      "application/vnd.jupyter.widget-view+json": {
       "model_id": "",
       "version_major": 2,
       "version_minor": 0
      },
      "text/plain": [
       "HBox(children=(FloatProgress(value=0.0, description='Training', layout=Layout(flex='2'), max=10000.0, style=Pr…"
      ]
     },
     "metadata": {},
     "output_type": "display_data"
    },
    {
     "name": "stdout",
     "output_type": "stream",
     "text": [
      "Epoch 34: train=4.61118, val=3.64702, took 652.25 s\n",
      "  Validation Found 93414 of 108024, added 9287 (eff 86.48%) (0.464 FP/event)\n"
     ]
    },
    {
     "data": {
      "application/vnd.jupyter.widget-view+json": {
       "model_id": "",
       "version_major": 2,
       "version_minor": 0
      },
      "text/plain": [
       "HBox(children=(FloatProgress(value=0.0, description='Training', layout=Layout(flex='2'), max=10000.0, style=Pr…"
      ]
     },
     "metadata": {},
     "output_type": "display_data"
    },
    {
     "name": "stdout",
     "output_type": "stream",
     "text": [
      "Epoch 35: train=4.61035, val=3.64797, took 650.81 s\n",
      "  Validation Found 93400 of 108024, added 9284 (eff 86.46%) (0.464 FP/event)\n"
     ]
    },
    {
     "data": {
      "application/vnd.jupyter.widget-view+json": {
       "model_id": "",
       "version_major": 2,
       "version_minor": 0
      },
      "text/plain": [
       "HBox(children=(FloatProgress(value=0.0, description='Training', layout=Layout(flex='2'), max=10000.0, style=Pr…"
      ]
     },
     "metadata": {},
     "output_type": "display_data"
    },
    {
     "name": "stdout",
     "output_type": "stream",
     "text": [
      "Epoch 36: train=4.60765, val=3.64751, took 649.2 s\n",
      "  Validation Found 93420 of 108024, added 9257 (eff 86.48%) (0.463 FP/event)\n"
     ]
    },
    {
     "data": {
      "application/vnd.jupyter.widget-view+json": {
       "model_id": "",
       "version_major": 2,
       "version_minor": 0
      },
      "text/plain": [
       "HBox(children=(FloatProgress(value=0.0, description='Training', layout=Layout(flex='2'), max=10000.0, style=Pr…"
      ]
     },
     "metadata": {},
     "output_type": "display_data"
    },
    {
     "name": "stdout",
     "output_type": "stream",
     "text": [
      "Epoch 37: train=4.6059, val=3.6484, took 646.41 s\n",
      "  Validation Found 93414 of 108024, added 9277 (eff 86.48%) (0.464 FP/event)\n"
     ]
    },
    {
     "data": {
      "application/vnd.jupyter.widget-view+json": {
       "model_id": "",
       "version_major": 2,
       "version_minor": 0
      },
      "text/plain": [
       "HBox(children=(FloatProgress(value=0.0, description='Training', layout=Layout(flex='2'), max=10000.0, style=Pr…"
      ]
     },
     "metadata": {},
     "output_type": "display_data"
    },
    {
     "name": "stdout",
     "output_type": "stream",
     "text": [
      "Epoch 38: train=4.60633, val=3.6472, took 649.3 s\n",
      "  Validation Found 93420 of 108024, added 9276 (eff 86.48%) (0.464 FP/event)\n"
     ]
    },
    {
     "data": {
      "application/vnd.jupyter.widget-view+json": {
       "model_id": "",
       "version_major": 2,
       "version_minor": 0
      },
      "text/plain": [
       "HBox(children=(FloatProgress(value=0.0, description='Training', layout=Layout(flex='2'), max=10000.0, style=Pr…"
      ]
     },
     "metadata": {},
     "output_type": "display_data"
    },
    {
     "name": "stdout",
     "output_type": "stream",
     "text": [
      "Epoch 39: train=4.60439, val=3.64723, took 652.09 s\n",
      "  Validation Found 93428 of 108024, added 9264 (eff 86.49%) (0.463 FP/event)\n"
     ]
    },
    {
     "data": {
      "application/vnd.jupyter.widget-view+json": {
       "model_id": "",
       "version_major": 2,
       "version_minor": 0
      },
      "text/plain": [
       "HBox(children=(FloatProgress(value=0.0, description='Training', layout=Layout(flex='2'), max=10000.0, style=Pr…"
      ]
     },
     "metadata": {},
     "output_type": "display_data"
    },
    {
     "name": "stdout",
     "output_type": "stream",
     "text": [
      "Epoch 40: train=4.60262, val=3.64821, took 652.32 s\n",
      "  Validation Found 93415 of 108024, added 9276 (eff 86.48%) (0.464 FP/event)\n"
     ]
    },
    {
     "data": {
      "application/vnd.jupyter.widget-view+json": {
       "model_id": "",
       "version_major": 2,
       "version_minor": 0
      },
      "text/plain": [
       "HBox(children=(FloatProgress(value=0.0, description='Training', layout=Layout(flex='2'), max=10000.0, style=Pr…"
      ]
     },
     "metadata": {},
     "output_type": "display_data"
    },
    {
     "name": "stdout",
     "output_type": "stream",
     "text": [
      "Epoch 41: train=4.60068, val=3.64673, took 639.14 s\n",
      "  Validation Found 93410 of 108024, added 9248 (eff 86.47%) (0.462 FP/event)\n"
     ]
    },
    {
     "data": {
      "application/vnd.jupyter.widget-view+json": {
       "model_id": "",
       "version_major": 2,
       "version_minor": 0
      },
      "text/plain": [
       "HBox(children=(FloatProgress(value=0.0, description='Training', layout=Layout(flex='2'), max=10000.0, style=Pr…"
      ]
     },
     "metadata": {},
     "output_type": "display_data"
    },
    {
     "name": "stdout",
     "output_type": "stream",
     "text": [
      "Epoch 42: train=4.60378, val=3.64803, took 638.68 s\n",
      "  Validation Found 93434 of 108024, added 9286 (eff 86.49%) (0.464 FP/event)\n"
     ]
    },
    {
     "data": {
      "application/vnd.jupyter.widget-view+json": {
       "model_id": "",
       "version_major": 2,
       "version_minor": 0
      },
      "text/plain": [
       "HBox(children=(FloatProgress(value=0.0, description='Training', layout=Layout(flex='2'), max=10000.0, style=Pr…"
      ]
     },
     "metadata": {},
     "output_type": "display_data"
    },
    {
     "name": "stdout",
     "output_type": "stream",
     "text": [
      "Epoch 43: train=4.59927, val=3.64822, took 638.08 s\n",
      "  Validation Found 93435 of 108024, added 9286 (eff 86.49%) (0.464 FP/event)\n"
     ]
    },
    {
     "data": {
      "application/vnd.jupyter.widget-view+json": {
       "model_id": "",
       "version_major": 2,
       "version_minor": 0
      },
      "text/plain": [
       "HBox(children=(FloatProgress(value=0.0, description='Training', layout=Layout(flex='2'), max=10000.0, style=Pr…"
      ]
     },
     "metadata": {},
     "output_type": "display_data"
    },
    {
     "name": "stdout",
     "output_type": "stream",
     "text": [
      "Epoch 44: train=4.60196, val=3.64692, took 639.27 s\n",
      "  Validation Found 93429 of 108024, added 9300 (eff 86.49%) (0.465 FP/event)\n"
     ]
    },
    {
     "data": {
      "application/vnd.jupyter.widget-view+json": {
       "model_id": "",
       "version_major": 2,
       "version_minor": 0
      },
      "text/plain": [
       "HBox(children=(FloatProgress(value=0.0, description='Training', layout=Layout(flex='2'), max=10000.0, style=Pr…"
      ]
     },
     "metadata": {},
     "output_type": "display_data"
    },
    {
     "name": "stdout",
     "output_type": "stream",
     "text": [
      "Epoch 45: train=4.59821, val=3.64657, took 640.84 s\n",
      "  Validation Found 93428 of 108024, added 9309 (eff 86.49%) (0.465 FP/event)\n"
     ]
    },
    {
     "data": {
      "application/vnd.jupyter.widget-view+json": {
       "model_id": "",
       "version_major": 2,
       "version_minor": 0
      },
      "text/plain": [
       "HBox(children=(FloatProgress(value=0.0, description='Training', layout=Layout(flex='2'), max=10000.0, style=Pr…"
      ]
     },
     "metadata": {},
     "output_type": "display_data"
    },
    {
     "name": "stdout",
     "output_type": "stream",
     "text": [
      "Epoch 46: train=4.59622, val=3.64567, took 650.79 s\n",
      "  Validation Found 93448 of 108024, added 9311 (eff 86.51%) (0.466 FP/event)\n"
     ]
    },
    {
     "data": {
      "application/vnd.jupyter.widget-view+json": {
       "model_id": "",
       "version_major": 2,
       "version_minor": 0
      },
      "text/plain": [
       "HBox(children=(FloatProgress(value=0.0, description='Training', layout=Layout(flex='2'), max=10000.0, style=Pr…"
      ]
     },
     "metadata": {},
     "output_type": "display_data"
    },
    {
     "name": "stdout",
     "output_type": "stream",
     "text": [
      "Epoch 47: train=4.59802, val=3.65112, took 648.69 s\n",
      "  Validation Found 93412 of 108024, added 9321 (eff 86.47%) (0.466 FP/event)\n"
     ]
    },
    {
     "data": {
      "application/vnd.jupyter.widget-view+json": {
       "model_id": "",
       "version_major": 2,
       "version_minor": 0
      },
      "text/plain": [
       "HBox(children=(FloatProgress(value=0.0, description='Training', layout=Layout(flex='2'), max=10000.0, style=Pr…"
      ]
     },
     "metadata": {},
     "output_type": "display_data"
    },
    {
     "name": "stdout",
     "output_type": "stream",
     "text": [
      "Epoch 48: train=4.59458, val=3.64727, took 654.18 s\n",
      "  Validation Found 93445 of 108024, added 9343 (eff 86.50%) (0.467 FP/event)\n"
     ]
    },
    {
     "data": {
      "application/vnd.jupyter.widget-view+json": {
       "model_id": "",
       "version_major": 2,
       "version_minor": 0
      },
      "text/plain": [
       "HBox(children=(FloatProgress(value=0.0, description='Training', layout=Layout(flex='2'), max=10000.0, style=Pr…"
      ]
     },
     "metadata": {},
     "output_type": "display_data"
    },
    {
     "name": "stdout",
     "output_type": "stream",
     "text": [
      "Epoch 49: train=4.59255, val=3.64765, took 695.58 s\n",
      "  Validation Found 93451 of 108024, added 9349 (eff 86.51%) (0.467 FP/event)\n"
     ]
    },
    {
     "data": {
      "application/vnd.jupyter.widget-view+json": {
       "model_id": "",
       "version_major": 2,
       "version_minor": 0
      },
      "text/plain": [
       "HBox(children=(FloatProgress(value=0.0, description='Training', layout=Layout(flex='2'), max=10000.0, style=Pr…"
      ]
     },
     "metadata": {},
     "output_type": "display_data"
    },
    {
     "name": "stdout",
     "output_type": "stream",
     "text": [
      "Epoch 50: train=4.59072, val=3.64673, took 661.32 s\n",
      "  Validation Found 93406 of 108024, added 9305 (eff 86.47%) (0.465 FP/event)\n"
     ]
    },
    {
     "data": {
      "application/vnd.jupyter.widget-view+json": {
       "model_id": "",
       "version_major": 2,
       "version_minor": 0
      },
      "text/plain": [
       "HBox(children=(FloatProgress(value=0.0, description='Training', layout=Layout(flex='2'), max=10000.0, style=Pr…"
      ]
     },
     "metadata": {},
     "output_type": "display_data"
    },
    {
     "name": "stdout",
     "output_type": "stream",
     "text": [
      "Epoch 51: train=4.59152, val=3.64859, took 654.71 s\n",
      "  Validation Found 93440 of 108024, added 9356 (eff 86.50%) (0.468 FP/event)\n"
     ]
    },
    {
     "data": {
      "application/vnd.jupyter.widget-view+json": {
       "model_id": "",
       "version_major": 2,
       "version_minor": 0
      },
      "text/plain": [
       "HBox(children=(FloatProgress(value=0.0, description='Training', layout=Layout(flex='2'), max=10000.0, style=Pr…"
      ]
     },
     "metadata": {},
     "output_type": "display_data"
    },
    {
     "name": "stdout",
     "output_type": "stream",
     "text": [
      "Epoch 52: train=4.58972, val=3.6466, took 655.71 s\n",
      "  Validation Found 93441 of 108024, added 9375 (eff 86.50%) (0.469 FP/event)\n"
     ]
    },
    {
     "data": {
      "application/vnd.jupyter.widget-view+json": {
       "model_id": "",
       "version_major": 2,
       "version_minor": 0
      },
      "text/plain": [
       "HBox(children=(FloatProgress(value=0.0, description='Training', layout=Layout(flex='2'), max=10000.0, style=Pr…"
      ]
     },
     "metadata": {},
     "output_type": "display_data"
    },
    {
     "name": "stdout",
     "output_type": "stream",
     "text": [
      "Epoch 53: train=4.58928, val=3.64642, took 654.41 s\n",
      "  Validation Found 93452 of 108024, added 9364 (eff 86.51%) (0.468 FP/event)\n"
     ]
    },
    {
     "data": {
      "application/vnd.jupyter.widget-view+json": {
       "model_id": "",
       "version_major": 2,
       "version_minor": 0
      },
      "text/plain": [
       "HBox(children=(FloatProgress(value=0.0, description='Training', layout=Layout(flex='2'), max=10000.0, style=Pr…"
      ]
     },
     "metadata": {},
     "output_type": "display_data"
    },
    {
     "name": "stdout",
     "output_type": "stream",
     "text": [
      "Epoch 54: train=4.58925, val=3.64855, took 655.96 s\n",
      "  Validation Found 93453 of 108024, added 9373 (eff 86.51%) (0.469 FP/event)\n"
     ]
    },
    {
     "data": {
      "application/vnd.jupyter.widget-view+json": {
       "model_id": "",
       "version_major": 2,
       "version_minor": 0
      },
      "text/plain": [
       "HBox(children=(FloatProgress(value=0.0, description='Training', layout=Layout(flex='2'), max=10000.0, style=Pr…"
      ]
     },
     "metadata": {},
     "output_type": "display_data"
    },
    {
     "name": "stdout",
     "output_type": "stream",
     "text": [
      "Epoch 55: train=4.58863, val=3.64625, took 670.58 s\n",
      "  Validation Found 93431 of 108024, added 9379 (eff 86.49%) (0.469 FP/event)\n"
     ]
    },
    {
     "data": {
      "application/vnd.jupyter.widget-view+json": {
       "model_id": "",
       "version_major": 2,
       "version_minor": 0
      },
      "text/plain": [
       "HBox(children=(FloatProgress(value=0.0, description='Training', layout=Layout(flex='2'), max=10000.0, style=Pr…"
      ]
     },
     "metadata": {},
     "output_type": "display_data"
    },
    {
     "name": "stdout",
     "output_type": "stream",
     "text": [
      "Epoch 56: train=4.58709, val=3.64609, took 655.36 s\n",
      "  Validation Found 93466 of 108024, added 9385 (eff 86.52%) (0.469 FP/event)\n"
     ]
    },
    {
     "data": {
      "application/vnd.jupyter.widget-view+json": {
       "model_id": "",
       "version_major": 2,
       "version_minor": 0
      },
      "text/plain": [
       "HBox(children=(FloatProgress(value=0.0, description='Training', layout=Layout(flex='2'), max=10000.0, style=Pr…"
      ]
     },
     "metadata": {},
     "output_type": "display_data"
    },
    {
     "name": "stdout",
     "output_type": "stream",
     "text": [
      "Epoch 57: train=4.58419, val=3.6487, took 658.07 s\n",
      "  Validation Found 93475 of 108024, added 9413 (eff 86.53%) (0.471 FP/event)\n"
     ]
    },
    {
     "data": {
      "application/vnd.jupyter.widget-view+json": {
       "model_id": "",
       "version_major": 2,
       "version_minor": 0
      },
      "text/plain": [
       "HBox(children=(FloatProgress(value=0.0, description='Training', layout=Layout(flex='2'), max=10000.0, style=Pr…"
      ]
     },
     "metadata": {},
     "output_type": "display_data"
    },
    {
     "name": "stdout",
     "output_type": "stream",
     "text": [
      "Epoch 58: train=4.58656, val=3.64753, took 653.26 s\n",
      "  Validation Found 93446 of 108024, added 9414 (eff 86.50%) (0.471 FP/event)\n"
     ]
    },
    {
     "data": {
      "application/vnd.jupyter.widget-view+json": {
       "model_id": "",
       "version_major": 2,
       "version_minor": 0
      },
      "text/plain": [
       "HBox(children=(FloatProgress(value=0.0, description='Training', layout=Layout(flex='2'), max=10000.0, style=Pr…"
      ]
     },
     "metadata": {},
     "output_type": "display_data"
    },
    {
     "name": "stdout",
     "output_type": "stream",
     "text": [
      "Epoch 59: train=4.5858, val=3.64781, took 648.61 s\n",
      "  Validation Found 93438 of 108024, added 9389 (eff 86.50%) (0.469 FP/event)\n",
      "\n"
     ]
    }
   ],
   "source": [
    "for result in trainNet(model, optimizer, loss,\n",
    "                        train_loader, val_loader,\n",
    "                        n_epochs, epoch_start=len(results),\n",
    "                        notebook=True):\n",
    "    \n",
    "    results = results.append(pd.Series(result._asdict()), ignore_index=True)\n",
    "    \n",
    "    xs = results.index\n",
    "##    print(\"xs = \",xs)\n",
    "    \n",
    "    # Update the plot above\n",
    "##    print(\"results.index = \",results.index,\"  results.cost\", results.cost)\n",
    "##    print(\"results.index = \",results.index,\"  results.val\", results.val)\n",
    "    lines['train'].set_data(results.index,results.cost)\n",
    "    lines['val'].set_data(results.index,results.val)\n",
    "    \n",
    "    #filter first cost epoch (can be really large)\n",
    "    max_cost = max(max(results.cost if len(results.cost)<2 else results.cost[1:]), max(results.val))\n",
    "    min_cost = min(min(results.cost), min(results.val))\n",
    "    \n",
    "    # The plot limits need updating too\n",
    "    \n",
    "    \n",
    "    \n",
    "    ax.set_ylim(min_cost*.9, max_cost*1.1)  \n",
    "    ax.set_xlim(-.5, len(results.cost) - .5)\n",
    "    \n",
    "    replace_in_ax(lax, lines['eff'], xs, results['eff_val'].apply(lambda x: x.eff_rate))\n",
    "    replace_in_ax(tax, lines['fp'], xs, results['eff_val'].apply(lambda x: x.fp_rate))\n",
    "    \n",
    "    # Redraw the figure\n",
    "    fig.canvas.draw()\n",
    "\n",
    "    # Save each model state dictionary\n",
    "    torch.save(model.state_dict(), output / f'{name}_{result.epoch}.pyt')"
   ]
  },
  {
   "cell_type": "code",
   "execution_count": 16,
   "metadata": {},
   "outputs": [],
   "source": [
    "torch.save(model.state_dict(), output / f'{name}_final.pyt')"
   ]
  },
  {
   "cell_type": "code",
   "execution_count": 17,
   "metadata": {},
   "outputs": [
    {
     "name": "stderr",
     "output_type": "stream",
     "text": [
      "/apps/miniconda3/envs/june2020-gpu/lib/python3.7/site-packages/pandas/core/generic.py:2505: PerformanceWarning: \n",
      "your performance may suffer as PyTables will pickle object types that it cannot\n",
      "map directly to c-types [inferred_type->mixed-integer,key->block1_values] [items->Index(['epoch', 'eff_val'], dtype='object')]\n",
      "\n",
      "  encoding=encoding,\n"
     ]
    }
   ],
   "source": [
    "results.to_hdf(f'{name}_stats.hdf5', 'results')"
   ]
  },
  {
   "cell_type": "code",
   "execution_count": 18,
   "metadata": {},
   "outputs": [
    {
     "data": {
      "application/javascript": [
       "/* Put everything inside the global mpl namespace */\n",
       "window.mpl = {};\n",
       "\n",
       "\n",
       "mpl.get_websocket_type = function() {\n",
       "    if (typeof(WebSocket) !== 'undefined') {\n",
       "        return WebSocket;\n",
       "    } else if (typeof(MozWebSocket) !== 'undefined') {\n",
       "        return MozWebSocket;\n",
       "    } else {\n",
       "        alert('Your browser does not have WebSocket support. ' +\n",
       "              'Please try Chrome, Safari or Firefox ≥ 6. ' +\n",
       "              'Firefox 4 and 5 are also supported but you ' +\n",
       "              'have to enable WebSockets in about:config.');\n",
       "    };\n",
       "}\n",
       "\n",
       "mpl.figure = function(figure_id, websocket, ondownload, parent_element) {\n",
       "    this.id = figure_id;\n",
       "\n",
       "    this.ws = websocket;\n",
       "\n",
       "    this.supports_binary = (this.ws.binaryType != undefined);\n",
       "\n",
       "    if (!this.supports_binary) {\n",
       "        var warnings = document.getElementById(\"mpl-warnings\");\n",
       "        if (warnings) {\n",
       "            warnings.style.display = 'block';\n",
       "            warnings.textContent = (\n",
       "                \"This browser does not support binary websocket messages. \" +\n",
       "                    \"Performance may be slow.\");\n",
       "        }\n",
       "    }\n",
       "\n",
       "    this.imageObj = new Image();\n",
       "\n",
       "    this.context = undefined;\n",
       "    this.message = undefined;\n",
       "    this.canvas = undefined;\n",
       "    this.rubberband_canvas = undefined;\n",
       "    this.rubberband_context = undefined;\n",
       "    this.format_dropdown = undefined;\n",
       "\n",
       "    this.image_mode = 'full';\n",
       "\n",
       "    this.root = $('<div/>');\n",
       "    this._root_extra_style(this.root)\n",
       "    this.root.attr('style', 'display: inline-block');\n",
       "\n",
       "    $(parent_element).append(this.root);\n",
       "\n",
       "    this._init_header(this);\n",
       "    this._init_canvas(this);\n",
       "    this._init_toolbar(this);\n",
       "\n",
       "    var fig = this;\n",
       "\n",
       "    this.waiting = false;\n",
       "\n",
       "    this.ws.onopen =  function () {\n",
       "            fig.send_message(\"supports_binary\", {value: fig.supports_binary});\n",
       "            fig.send_message(\"send_image_mode\", {});\n",
       "            if (mpl.ratio != 1) {\n",
       "                fig.send_message(\"set_dpi_ratio\", {'dpi_ratio': mpl.ratio});\n",
       "            }\n",
       "            fig.send_message(\"refresh\", {});\n",
       "        }\n",
       "\n",
       "    this.imageObj.onload = function() {\n",
       "            if (fig.image_mode == 'full') {\n",
       "                // Full images could contain transparency (where diff images\n",
       "                // almost always do), so we need to clear the canvas so that\n",
       "                // there is no ghosting.\n",
       "                fig.context.clearRect(0, 0, fig.canvas.width, fig.canvas.height);\n",
       "            }\n",
       "            fig.context.drawImage(fig.imageObj, 0, 0);\n",
       "        };\n",
       "\n",
       "    this.imageObj.onunload = function() {\n",
       "        fig.ws.close();\n",
       "    }\n",
       "\n",
       "    this.ws.onmessage = this._make_on_message_function(this);\n",
       "\n",
       "    this.ondownload = ondownload;\n",
       "}\n",
       "\n",
       "mpl.figure.prototype._init_header = function() {\n",
       "    var titlebar = $(\n",
       "        '<div class=\"ui-dialog-titlebar ui-widget-header ui-corner-all ' +\n",
       "        'ui-helper-clearfix\"/>');\n",
       "    var titletext = $(\n",
       "        '<div class=\"ui-dialog-title\" style=\"width: 100%; ' +\n",
       "        'text-align: center; padding: 3px;\"/>');\n",
       "    titlebar.append(titletext)\n",
       "    this.root.append(titlebar);\n",
       "    this.header = titletext[0];\n",
       "}\n",
       "\n",
       "\n",
       "\n",
       "mpl.figure.prototype._canvas_extra_style = function(canvas_div) {\n",
       "\n",
       "}\n",
       "\n",
       "\n",
       "mpl.figure.prototype._root_extra_style = function(canvas_div) {\n",
       "\n",
       "}\n",
       "\n",
       "mpl.figure.prototype._init_canvas = function() {\n",
       "    var fig = this;\n",
       "\n",
       "    var canvas_div = $('<div/>');\n",
       "\n",
       "    canvas_div.attr('style', 'position: relative; clear: both; outline: 0');\n",
       "\n",
       "    function canvas_keyboard_event(event) {\n",
       "        return fig.key_event(event, event['data']);\n",
       "    }\n",
       "\n",
       "    canvas_div.keydown('key_press', canvas_keyboard_event);\n",
       "    canvas_div.keyup('key_release', canvas_keyboard_event);\n",
       "    this.canvas_div = canvas_div\n",
       "    this._canvas_extra_style(canvas_div)\n",
       "    this.root.append(canvas_div);\n",
       "\n",
       "    var canvas = $('<canvas/>');\n",
       "    canvas.addClass('mpl-canvas');\n",
       "    canvas.attr('style', \"left: 0; top: 0; z-index: 0; outline: 0\")\n",
       "\n",
       "    this.canvas = canvas[0];\n",
       "    this.context = canvas[0].getContext(\"2d\");\n",
       "\n",
       "    var backingStore = this.context.backingStorePixelRatio ||\n",
       "\tthis.context.webkitBackingStorePixelRatio ||\n",
       "\tthis.context.mozBackingStorePixelRatio ||\n",
       "\tthis.context.msBackingStorePixelRatio ||\n",
       "\tthis.context.oBackingStorePixelRatio ||\n",
       "\tthis.context.backingStorePixelRatio || 1;\n",
       "\n",
       "    mpl.ratio = (window.devicePixelRatio || 1) / backingStore;\n",
       "\n",
       "    var rubberband = $('<canvas/>');\n",
       "    rubberband.attr('style', \"position: absolute; left: 0; top: 0; z-index: 1;\")\n",
       "\n",
       "    var pass_mouse_events = true;\n",
       "\n",
       "    canvas_div.resizable({\n",
       "        start: function(event, ui) {\n",
       "            pass_mouse_events = false;\n",
       "        },\n",
       "        resize: function(event, ui) {\n",
       "            fig.request_resize(ui.size.width, ui.size.height);\n",
       "        },\n",
       "        stop: function(event, ui) {\n",
       "            pass_mouse_events = true;\n",
       "            fig.request_resize(ui.size.width, ui.size.height);\n",
       "        },\n",
       "    });\n",
       "\n",
       "    function mouse_event_fn(event) {\n",
       "        if (pass_mouse_events)\n",
       "            return fig.mouse_event(event, event['data']);\n",
       "    }\n",
       "\n",
       "    rubberband.mousedown('button_press', mouse_event_fn);\n",
       "    rubberband.mouseup('button_release', mouse_event_fn);\n",
       "    // Throttle sequential mouse events to 1 every 20ms.\n",
       "    rubberband.mousemove('motion_notify', mouse_event_fn);\n",
       "\n",
       "    rubberband.mouseenter('figure_enter', mouse_event_fn);\n",
       "    rubberband.mouseleave('figure_leave', mouse_event_fn);\n",
       "\n",
       "    canvas_div.on(\"wheel\", function (event) {\n",
       "        event = event.originalEvent;\n",
       "        event['data'] = 'scroll'\n",
       "        if (event.deltaY < 0) {\n",
       "            event.step = 1;\n",
       "        } else {\n",
       "            event.step = -1;\n",
       "        }\n",
       "        mouse_event_fn(event);\n",
       "    });\n",
       "\n",
       "    canvas_div.append(canvas);\n",
       "    canvas_div.append(rubberband);\n",
       "\n",
       "    this.rubberband = rubberband;\n",
       "    this.rubberband_canvas = rubberband[0];\n",
       "    this.rubberband_context = rubberband[0].getContext(\"2d\");\n",
       "    this.rubberband_context.strokeStyle = \"#000000\";\n",
       "\n",
       "    this._resize_canvas = function(width, height) {\n",
       "        // Keep the size of the canvas, canvas container, and rubber band\n",
       "        // canvas in synch.\n",
       "        canvas_div.css('width', width)\n",
       "        canvas_div.css('height', height)\n",
       "\n",
       "        canvas.attr('width', width * mpl.ratio);\n",
       "        canvas.attr('height', height * mpl.ratio);\n",
       "        canvas.attr('style', 'width: ' + width + 'px; height: ' + height + 'px;');\n",
       "\n",
       "        rubberband.attr('width', width);\n",
       "        rubberband.attr('height', height);\n",
       "    }\n",
       "\n",
       "    // Set the figure to an initial 600x600px, this will subsequently be updated\n",
       "    // upon first draw.\n",
       "    this._resize_canvas(600, 600);\n",
       "\n",
       "    // Disable right mouse context menu.\n",
       "    $(this.rubberband_canvas).bind(\"contextmenu\",function(e){\n",
       "        return false;\n",
       "    });\n",
       "\n",
       "    function set_focus () {\n",
       "        canvas.focus();\n",
       "        canvas_div.focus();\n",
       "    }\n",
       "\n",
       "    window.setTimeout(set_focus, 100);\n",
       "}\n",
       "\n",
       "mpl.figure.prototype._init_toolbar = function() {\n",
       "    var fig = this;\n",
       "\n",
       "    var nav_element = $('<div/>');\n",
       "    nav_element.attr('style', 'width: 100%');\n",
       "    this.root.append(nav_element);\n",
       "\n",
       "    // Define a callback function for later on.\n",
       "    function toolbar_event(event) {\n",
       "        return fig.toolbar_button_onclick(event['data']);\n",
       "    }\n",
       "    function toolbar_mouse_event(event) {\n",
       "        return fig.toolbar_button_onmouseover(event['data']);\n",
       "    }\n",
       "\n",
       "    for(var toolbar_ind in mpl.toolbar_items) {\n",
       "        var name = mpl.toolbar_items[toolbar_ind][0];\n",
       "        var tooltip = mpl.toolbar_items[toolbar_ind][1];\n",
       "        var image = mpl.toolbar_items[toolbar_ind][2];\n",
       "        var method_name = mpl.toolbar_items[toolbar_ind][3];\n",
       "\n",
       "        if (!name) {\n",
       "            // put a spacer in here.\n",
       "            continue;\n",
       "        }\n",
       "        var button = $('<button/>');\n",
       "        button.addClass('ui-button ui-widget ui-state-default ui-corner-all ' +\n",
       "                        'ui-button-icon-only');\n",
       "        button.attr('role', 'button');\n",
       "        button.attr('aria-disabled', 'false');\n",
       "        button.click(method_name, toolbar_event);\n",
       "        button.mouseover(tooltip, toolbar_mouse_event);\n",
       "\n",
       "        var icon_img = $('<span/>');\n",
       "        icon_img.addClass('ui-button-icon-primary ui-icon');\n",
       "        icon_img.addClass(image);\n",
       "        icon_img.addClass('ui-corner-all');\n",
       "\n",
       "        var tooltip_span = $('<span/>');\n",
       "        tooltip_span.addClass('ui-button-text');\n",
       "        tooltip_span.html(tooltip);\n",
       "\n",
       "        button.append(icon_img);\n",
       "        button.append(tooltip_span);\n",
       "\n",
       "        nav_element.append(button);\n",
       "    }\n",
       "\n",
       "    var fmt_picker_span = $('<span/>');\n",
       "\n",
       "    var fmt_picker = $('<select/>');\n",
       "    fmt_picker.addClass('mpl-toolbar-option ui-widget ui-widget-content');\n",
       "    fmt_picker_span.append(fmt_picker);\n",
       "    nav_element.append(fmt_picker_span);\n",
       "    this.format_dropdown = fmt_picker[0];\n",
       "\n",
       "    for (var ind in mpl.extensions) {\n",
       "        var fmt = mpl.extensions[ind];\n",
       "        var option = $(\n",
       "            '<option/>', {selected: fmt === mpl.default_extension}).html(fmt);\n",
       "        fmt_picker.append(option);\n",
       "    }\n",
       "\n",
       "    // Add hover states to the ui-buttons\n",
       "    $( \".ui-button\" ).hover(\n",
       "        function() { $(this).addClass(\"ui-state-hover\");},\n",
       "        function() { $(this).removeClass(\"ui-state-hover\");}\n",
       "    );\n",
       "\n",
       "    var status_bar = $('<span class=\"mpl-message\"/>');\n",
       "    nav_element.append(status_bar);\n",
       "    this.message = status_bar[0];\n",
       "}\n",
       "\n",
       "mpl.figure.prototype.request_resize = function(x_pixels, y_pixels) {\n",
       "    // Request matplotlib to resize the figure. Matplotlib will then trigger a resize in the client,\n",
       "    // which will in turn request a refresh of the image.\n",
       "    this.send_message('resize', {'width': x_pixels, 'height': y_pixels});\n",
       "}\n",
       "\n",
       "mpl.figure.prototype.send_message = function(type, properties) {\n",
       "    properties['type'] = type;\n",
       "    properties['figure_id'] = this.id;\n",
       "    this.ws.send(JSON.stringify(properties));\n",
       "}\n",
       "\n",
       "mpl.figure.prototype.send_draw_message = function() {\n",
       "    if (!this.waiting) {\n",
       "        this.waiting = true;\n",
       "        this.ws.send(JSON.stringify({type: \"draw\", figure_id: this.id}));\n",
       "    }\n",
       "}\n",
       "\n",
       "\n",
       "mpl.figure.prototype.handle_save = function(fig, msg) {\n",
       "    var format_dropdown = fig.format_dropdown;\n",
       "    var format = format_dropdown.options[format_dropdown.selectedIndex].value;\n",
       "    fig.ondownload(fig, format);\n",
       "}\n",
       "\n",
       "\n",
       "mpl.figure.prototype.handle_resize = function(fig, msg) {\n",
       "    var size = msg['size'];\n",
       "    if (size[0] != fig.canvas.width || size[1] != fig.canvas.height) {\n",
       "        fig._resize_canvas(size[0], size[1]);\n",
       "        fig.send_message(\"refresh\", {});\n",
       "    };\n",
       "}\n",
       "\n",
       "mpl.figure.prototype.handle_rubberband = function(fig, msg) {\n",
       "    var x0 = msg['x0'] / mpl.ratio;\n",
       "    var y0 = (fig.canvas.height - msg['y0']) / mpl.ratio;\n",
       "    var x1 = msg['x1'] / mpl.ratio;\n",
       "    var y1 = (fig.canvas.height - msg['y1']) / mpl.ratio;\n",
       "    x0 = Math.floor(x0) + 0.5;\n",
       "    y0 = Math.floor(y0) + 0.5;\n",
       "    x1 = Math.floor(x1) + 0.5;\n",
       "    y1 = Math.floor(y1) + 0.5;\n",
       "    var min_x = Math.min(x0, x1);\n",
       "    var min_y = Math.min(y0, y1);\n",
       "    var width = Math.abs(x1 - x0);\n",
       "    var height = Math.abs(y1 - y0);\n",
       "\n",
       "    fig.rubberband_context.clearRect(\n",
       "        0, 0, fig.canvas.width / mpl.ratio, fig.canvas.height / mpl.ratio);\n",
       "\n",
       "    fig.rubberband_context.strokeRect(min_x, min_y, width, height);\n",
       "}\n",
       "\n",
       "mpl.figure.prototype.handle_figure_label = function(fig, msg) {\n",
       "    // Updates the figure title.\n",
       "    fig.header.textContent = msg['label'];\n",
       "}\n",
       "\n",
       "mpl.figure.prototype.handle_cursor = function(fig, msg) {\n",
       "    var cursor = msg['cursor'];\n",
       "    switch(cursor)\n",
       "    {\n",
       "    case 0:\n",
       "        cursor = 'pointer';\n",
       "        break;\n",
       "    case 1:\n",
       "        cursor = 'default';\n",
       "        break;\n",
       "    case 2:\n",
       "        cursor = 'crosshair';\n",
       "        break;\n",
       "    case 3:\n",
       "        cursor = 'move';\n",
       "        break;\n",
       "    }\n",
       "    fig.rubberband_canvas.style.cursor = cursor;\n",
       "}\n",
       "\n",
       "mpl.figure.prototype.handle_message = function(fig, msg) {\n",
       "    fig.message.textContent = msg['message'];\n",
       "}\n",
       "\n",
       "mpl.figure.prototype.handle_draw = function(fig, msg) {\n",
       "    // Request the server to send over a new figure.\n",
       "    fig.send_draw_message();\n",
       "}\n",
       "\n",
       "mpl.figure.prototype.handle_image_mode = function(fig, msg) {\n",
       "    fig.image_mode = msg['mode'];\n",
       "}\n",
       "\n",
       "mpl.figure.prototype.updated_canvas_event = function() {\n",
       "    // Called whenever the canvas gets updated.\n",
       "    this.send_message(\"ack\", {});\n",
       "}\n",
       "\n",
       "// A function to construct a web socket function for onmessage handling.\n",
       "// Called in the figure constructor.\n",
       "mpl.figure.prototype._make_on_message_function = function(fig) {\n",
       "    return function socket_on_message(evt) {\n",
       "        if (evt.data instanceof Blob) {\n",
       "            /* FIXME: We get \"Resource interpreted as Image but\n",
       "             * transferred with MIME type text/plain:\" errors on\n",
       "             * Chrome.  But how to set the MIME type?  It doesn't seem\n",
       "             * to be part of the websocket stream */\n",
       "            evt.data.type = \"image/png\";\n",
       "\n",
       "            /* Free the memory for the previous frames */\n",
       "            if (fig.imageObj.src) {\n",
       "                (window.URL || window.webkitURL).revokeObjectURL(\n",
       "                    fig.imageObj.src);\n",
       "            }\n",
       "\n",
       "            fig.imageObj.src = (window.URL || window.webkitURL).createObjectURL(\n",
       "                evt.data);\n",
       "            fig.updated_canvas_event();\n",
       "            fig.waiting = false;\n",
       "            return;\n",
       "        }\n",
       "        else if (typeof evt.data === 'string' && evt.data.slice(0, 21) == \"data:image/png;base64\") {\n",
       "            fig.imageObj.src = evt.data;\n",
       "            fig.updated_canvas_event();\n",
       "            fig.waiting = false;\n",
       "            return;\n",
       "        }\n",
       "\n",
       "        var msg = JSON.parse(evt.data);\n",
       "        var msg_type = msg['type'];\n",
       "\n",
       "        // Call the  \"handle_{type}\" callback, which takes\n",
       "        // the figure and JSON message as its only arguments.\n",
       "        try {\n",
       "            var callback = fig[\"handle_\" + msg_type];\n",
       "        } catch (e) {\n",
       "            console.log(\"No handler for the '\" + msg_type + \"' message type: \", msg);\n",
       "            return;\n",
       "        }\n",
       "\n",
       "        if (callback) {\n",
       "            try {\n",
       "                // console.log(\"Handling '\" + msg_type + \"' message: \", msg);\n",
       "                callback(fig, msg);\n",
       "            } catch (e) {\n",
       "                console.log(\"Exception inside the 'handler_\" + msg_type + \"' callback:\", e, e.stack, msg);\n",
       "            }\n",
       "        }\n",
       "    };\n",
       "}\n",
       "\n",
       "// from http://stackoverflow.com/questions/1114465/getting-mouse-location-in-canvas\n",
       "mpl.findpos = function(e) {\n",
       "    //this section is from http://www.quirksmode.org/js/events_properties.html\n",
       "    var targ;\n",
       "    if (!e)\n",
       "        e = window.event;\n",
       "    if (e.target)\n",
       "        targ = e.target;\n",
       "    else if (e.srcElement)\n",
       "        targ = e.srcElement;\n",
       "    if (targ.nodeType == 3) // defeat Safari bug\n",
       "        targ = targ.parentNode;\n",
       "\n",
       "    // jQuery normalizes the pageX and pageY\n",
       "    // pageX,Y are the mouse positions relative to the document\n",
       "    // offset() returns the position of the element relative to the document\n",
       "    var x = e.pageX - $(targ).offset().left;\n",
       "    var y = e.pageY - $(targ).offset().top;\n",
       "\n",
       "    return {\"x\": x, \"y\": y};\n",
       "};\n",
       "\n",
       "/*\n",
       " * return a copy of an object with only non-object keys\n",
       " * we need this to avoid circular references\n",
       " * http://stackoverflow.com/a/24161582/3208463\n",
       " */\n",
       "function simpleKeys (original) {\n",
       "  return Object.keys(original).reduce(function (obj, key) {\n",
       "    if (typeof original[key] !== 'object')\n",
       "        obj[key] = original[key]\n",
       "    return obj;\n",
       "  }, {});\n",
       "}\n",
       "\n",
       "mpl.figure.prototype.mouse_event = function(event, name) {\n",
       "    var canvas_pos = mpl.findpos(event)\n",
       "\n",
       "    if (name === 'button_press')\n",
       "    {\n",
       "        this.canvas.focus();\n",
       "        this.canvas_div.focus();\n",
       "    }\n",
       "\n",
       "    var x = canvas_pos.x * mpl.ratio;\n",
       "    var y = canvas_pos.y * mpl.ratio;\n",
       "\n",
       "    this.send_message(name, {x: x, y: y, button: event.button,\n",
       "                             step: event.step,\n",
       "                             guiEvent: simpleKeys(event)});\n",
       "\n",
       "    /* This prevents the web browser from automatically changing to\n",
       "     * the text insertion cursor when the button is pressed.  We want\n",
       "     * to control all of the cursor setting manually through the\n",
       "     * 'cursor' event from matplotlib */\n",
       "    event.preventDefault();\n",
       "    return false;\n",
       "}\n",
       "\n",
       "mpl.figure.prototype._key_event_extra = function(event, name) {\n",
       "    // Handle any extra behaviour associated with a key event\n",
       "}\n",
       "\n",
       "mpl.figure.prototype.key_event = function(event, name) {\n",
       "\n",
       "    // Prevent repeat events\n",
       "    if (name == 'key_press')\n",
       "    {\n",
       "        if (event.which === this._key)\n",
       "            return;\n",
       "        else\n",
       "            this._key = event.which;\n",
       "    }\n",
       "    if (name == 'key_release')\n",
       "        this._key = null;\n",
       "\n",
       "    var value = '';\n",
       "    if (event.ctrlKey && event.which != 17)\n",
       "        value += \"ctrl+\";\n",
       "    if (event.altKey && event.which != 18)\n",
       "        value += \"alt+\";\n",
       "    if (event.shiftKey && event.which != 16)\n",
       "        value += \"shift+\";\n",
       "\n",
       "    value += 'k';\n",
       "    value += event.which.toString();\n",
       "\n",
       "    this._key_event_extra(event, name);\n",
       "\n",
       "    this.send_message(name, {key: value,\n",
       "                             guiEvent: simpleKeys(event)});\n",
       "    return false;\n",
       "}\n",
       "\n",
       "mpl.figure.prototype.toolbar_button_onclick = function(name) {\n",
       "    if (name == 'download') {\n",
       "        this.handle_save(this, null);\n",
       "    } else {\n",
       "        this.send_message(\"toolbar_button\", {name: name});\n",
       "    }\n",
       "};\n",
       "\n",
       "mpl.figure.prototype.toolbar_button_onmouseover = function(tooltip) {\n",
       "    this.message.textContent = tooltip;\n",
       "};\n",
       "mpl.toolbar_items = [[\"Home\", \"Reset original view\", \"fa fa-home icon-home\", \"home\"], [\"Back\", \"Back to previous view\", \"fa fa-arrow-left icon-arrow-left\", \"back\"], [\"Forward\", \"Forward to next view\", \"fa fa-arrow-right icon-arrow-right\", \"forward\"], [\"\", \"\", \"\", \"\"], [\"Pan\", \"Pan axes with left mouse, zoom with right\", \"fa fa-arrows icon-move\", \"pan\"], [\"Zoom\", \"Zoom to rectangle\", \"fa fa-square-o icon-check-empty\", \"zoom\"], [\"\", \"\", \"\", \"\"], [\"Download\", \"Download plot\", \"fa fa-floppy-o icon-save\", \"download\"]];\n",
       "\n",
       "mpl.extensions = [\"eps\", \"jpeg\", \"pdf\", \"png\", \"ps\", \"raw\", \"svg\", \"tif\"];\n",
       "\n",
       "mpl.default_extension = \"png\";var comm_websocket_adapter = function(comm) {\n",
       "    // Create a \"websocket\"-like object which calls the given IPython comm\n",
       "    // object with the appropriate methods. Currently this is a non binary\n",
       "    // socket, so there is still some room for performance tuning.\n",
       "    var ws = {};\n",
       "\n",
       "    ws.close = function() {\n",
       "        comm.close()\n",
       "    };\n",
       "    ws.send = function(m) {\n",
       "        //console.log('sending', m);\n",
       "        comm.send(m);\n",
       "    };\n",
       "    // Register the callback with on_msg.\n",
       "    comm.on_msg(function(msg) {\n",
       "        //console.log('receiving', msg['content']['data'], msg);\n",
       "        // Pass the mpl event to the overridden (by mpl) onmessage function.\n",
       "        ws.onmessage(msg['content']['data'])\n",
       "    });\n",
       "    return ws;\n",
       "}\n",
       "\n",
       "mpl.mpl_figure_comm = function(comm, msg) {\n",
       "    // This is the function which gets called when the mpl process\n",
       "    // starts-up an IPython Comm through the \"matplotlib\" channel.\n",
       "\n",
       "    var id = msg.content.data.id;\n",
       "    // Get hold of the div created by the display call when the Comm\n",
       "    // socket was opened in Python.\n",
       "    var element = $(\"#\" + id);\n",
       "    var ws_proxy = comm_websocket_adapter(comm)\n",
       "\n",
       "    function ondownload(figure, format) {\n",
       "        window.open(figure.imageObj.src);\n",
       "    }\n",
       "\n",
       "    var fig = new mpl.figure(id, ws_proxy,\n",
       "                           ondownload,\n",
       "                           element.get(0));\n",
       "\n",
       "    // Call onopen now - mpl needs it, as it is assuming we've passed it a real\n",
       "    // web socket which is closed, not our websocket->open comm proxy.\n",
       "    ws_proxy.onopen();\n",
       "\n",
       "    fig.parent_element = element.get(0);\n",
       "    fig.cell_info = mpl.find_output_cell(\"<div id='\" + id + \"'></div>\");\n",
       "    if (!fig.cell_info) {\n",
       "        console.error(\"Failed to find cell for figure\", id, fig);\n",
       "        return;\n",
       "    }\n",
       "\n",
       "    var output_index = fig.cell_info[2]\n",
       "    var cell = fig.cell_info[0];\n",
       "\n",
       "};\n",
       "\n",
       "mpl.figure.prototype.handle_close = function(fig, msg) {\n",
       "    var width = fig.canvas.width/mpl.ratio\n",
       "    fig.root.unbind('remove')\n",
       "\n",
       "    // Update the output cell to use the data from the current canvas.\n",
       "    fig.push_to_output();\n",
       "    var dataURL = fig.canvas.toDataURL();\n",
       "    // Re-enable the keyboard manager in IPython - without this line, in FF,\n",
       "    // the notebook keyboard shortcuts fail.\n",
       "    IPython.keyboard_manager.enable()\n",
       "    $(fig.parent_element).html('<img src=\"' + dataURL + '\" width=\"' + width + '\">');\n",
       "    fig.close_ws(fig, msg);\n",
       "}\n",
       "\n",
       "mpl.figure.prototype.close_ws = function(fig, msg){\n",
       "    fig.send_message('closing', msg);\n",
       "    // fig.ws.close()\n",
       "}\n",
       "\n",
       "mpl.figure.prototype.push_to_output = function(remove_interactive) {\n",
       "    // Turn the data on the canvas into data in the output cell.\n",
       "    var width = this.canvas.width/mpl.ratio\n",
       "    var dataURL = this.canvas.toDataURL();\n",
       "    this.cell_info[1]['text/html'] = '<img src=\"' + dataURL + '\" width=\"' + width + '\">';\n",
       "}\n",
       "\n",
       "mpl.figure.prototype.updated_canvas_event = function() {\n",
       "    // Tell IPython that the notebook contents must change.\n",
       "    IPython.notebook.set_dirty(true);\n",
       "    this.send_message(\"ack\", {});\n",
       "    var fig = this;\n",
       "    // Wait a second, then push the new image to the DOM so\n",
       "    // that it is saved nicely (might be nice to debounce this).\n",
       "    setTimeout(function () { fig.push_to_output() }, 1000);\n",
       "}\n",
       "\n",
       "mpl.figure.prototype._init_toolbar = function() {\n",
       "    var fig = this;\n",
       "\n",
       "    var nav_element = $('<div/>');\n",
       "    nav_element.attr('style', 'width: 100%');\n",
       "    this.root.append(nav_element);\n",
       "\n",
       "    // Define a callback function for later on.\n",
       "    function toolbar_event(event) {\n",
       "        return fig.toolbar_button_onclick(event['data']);\n",
       "    }\n",
       "    function toolbar_mouse_event(event) {\n",
       "        return fig.toolbar_button_onmouseover(event['data']);\n",
       "    }\n",
       "\n",
       "    for(var toolbar_ind in mpl.toolbar_items){\n",
       "        var name = mpl.toolbar_items[toolbar_ind][0];\n",
       "        var tooltip = mpl.toolbar_items[toolbar_ind][1];\n",
       "        var image = mpl.toolbar_items[toolbar_ind][2];\n",
       "        var method_name = mpl.toolbar_items[toolbar_ind][3];\n",
       "\n",
       "        if (!name) { continue; };\n",
       "\n",
       "        var button = $('<button class=\"btn btn-default\" href=\"#\" title=\"' + name + '\"><i class=\"fa ' + image + ' fa-lg\"></i></button>');\n",
       "        button.click(method_name, toolbar_event);\n",
       "        button.mouseover(tooltip, toolbar_mouse_event);\n",
       "        nav_element.append(button);\n",
       "    }\n",
       "\n",
       "    // Add the status bar.\n",
       "    var status_bar = $('<span class=\"mpl-message\" style=\"text-align:right; float: right;\"/>');\n",
       "    nav_element.append(status_bar);\n",
       "    this.message = status_bar[0];\n",
       "\n",
       "    // Add the close button to the window.\n",
       "    var buttongrp = $('<div class=\"btn-group inline pull-right\"></div>');\n",
       "    var button = $('<button class=\"btn btn-mini btn-primary\" href=\"#\" title=\"Stop Interaction\"><i class=\"fa fa-power-off icon-remove icon-large\"></i></button>');\n",
       "    button.click(function (evt) { fig.handle_close(fig, {}); } );\n",
       "    button.mouseover('Stop Interaction', toolbar_mouse_event);\n",
       "    buttongrp.append(button);\n",
       "    var titlebar = this.root.find($('.ui-dialog-titlebar'));\n",
       "    titlebar.prepend(buttongrp);\n",
       "}\n",
       "\n",
       "mpl.figure.prototype._root_extra_style = function(el){\n",
       "    var fig = this\n",
       "    el.on(\"remove\", function(){\n",
       "\tfig.close_ws(fig, {});\n",
       "    });\n",
       "}\n",
       "\n",
       "mpl.figure.prototype._canvas_extra_style = function(el){\n",
       "    // this is important to make the div 'focusable\n",
       "    el.attr('tabindex', 0)\n",
       "    // reach out to IPython and tell the keyboard manager to turn it's self\n",
       "    // off when our div gets focus\n",
       "\n",
       "    // location in version 3\n",
       "    if (IPython.notebook.keyboard_manager) {\n",
       "        IPython.notebook.keyboard_manager.register_events(el);\n",
       "    }\n",
       "    else {\n",
       "        // location in version 2\n",
       "        IPython.keyboard_manager.register_events(el);\n",
       "    }\n",
       "\n",
       "}\n",
       "\n",
       "mpl.figure.prototype._key_event_extra = function(event, name) {\n",
       "    var manager = IPython.notebook.keyboard_manager;\n",
       "    if (!manager)\n",
       "        manager = IPython.keyboard_manager;\n",
       "\n",
       "    // Check for shift+enter\n",
       "    if (event.shiftKey && event.which == 13) {\n",
       "        this.canvas_div.blur();\n",
       "        // select the cell after this one\n",
       "        var index = IPython.notebook.find_cell_index(this.cell_info[0]);\n",
       "        IPython.notebook.select(index + 1);\n",
       "    }\n",
       "}\n",
       "\n",
       "mpl.figure.prototype.handle_save = function(fig, msg) {\n",
       "    fig.ondownload(fig, null);\n",
       "}\n",
       "\n",
       "\n",
       "mpl.find_output_cell = function(html_output) {\n",
       "    // Return the cell and output element which can be found *uniquely* in the notebook.\n",
       "    // Note - this is a bit hacky, but it is done because the \"notebook_saving.Notebook\"\n",
       "    // IPython event is triggered only after the cells have been serialised, which for\n",
       "    // our purposes (turning an active figure into a static one), is too late.\n",
       "    var cells = IPython.notebook.get_cells();\n",
       "    var ncells = cells.length;\n",
       "    for (var i=0; i<ncells; i++) {\n",
       "        var cell = cells[i];\n",
       "        if (cell.cell_type === 'code'){\n",
       "            for (var j=0; j<cell.output_area.outputs.length; j++) {\n",
       "                var data = cell.output_area.outputs[j];\n",
       "                if (data.data) {\n",
       "                    // IPython >= 3 moved mimebundle to data attribute of output\n",
       "                    data = data.data;\n",
       "                }\n",
       "                if (data['text/html'] == html_output) {\n",
       "                    return [cell, data, j];\n",
       "                }\n",
       "            }\n",
       "        }\n",
       "    }\n",
       "}\n",
       "\n",
       "// Register the function which deals with the matplotlib target/channel.\n",
       "// The kernel may be null if the page has been refreshed.\n",
       "if (IPython.notebook.kernel != null) {\n",
       "    IPython.notebook.kernel.comm_manager.register_target('matplotlib', mpl.mpl_figure_comm);\n",
       "}\n"
      ],
      "text/plain": [
       "<IPython.core.display.Javascript object>"
      ]
     },
     "metadata": {},
     "output_type": "display_data"
    },
    {
     "data": {
      "text/html": [
       "<img src=\"data:image/png;base64,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\" width=\"1000\">"
      ],
      "text/plain": [
       "<IPython.core.display.HTML object>"
      ]
     },
     "metadata": {},
     "output_type": "display_data"
    }
   ],
   "source": [
    "dual_train_plots(results.index,\n",
    "                 results.cost, results.val, \n",
    "                 results['eff_val'].apply(lambda x: x.eff_rate),\n",
    "                 results['eff_val'].apply(lambda x: x.fp_rate))\n",
    "plt.tight_layout()\n",
    "plt.savefig(str(output / f'{name}_stats_a.png'))"
   ]
  },
  {
   "cell_type": "markdown",
   "metadata": {},
   "source": [
    "Go ahead and save the final model (even though it was also saved above):"
   ]
  },
  {
   "cell_type": "markdown",
   "metadata": {},
   "source": [
    "Save the output results:"
   ]
  },
  {
   "cell_type": "code",
   "execution_count": 19,
   "metadata": {},
   "outputs": [],
   "source": [
    "##torch.cuda.empty_cache()\"\n",
    "##quit()\n",
    "\n"
   ]
  },
  {
   "cell_type": "code",
   "execution_count": null,
   "metadata": {},
   "outputs": [],
   "source": []
  }
 ],
 "metadata": {
  "kernelspec": {
   "display_name": "june2020-gpu",
   "language": "python",
   "name": "june2020-gpu"
  },
  "language_info": {
   "codemirror_mode": {
    "name": "ipython",
    "version": 3
   },
   "file_extension": ".py",
   "mimetype": "text/x-python",
   "name": "python",
   "nbconvert_exporter": "python",
   "pygments_lexer": "ipython3",
   "version": "3.7.6"
  }
 },
 "nbformat": 4,
 "nbformat_minor": 2
}
