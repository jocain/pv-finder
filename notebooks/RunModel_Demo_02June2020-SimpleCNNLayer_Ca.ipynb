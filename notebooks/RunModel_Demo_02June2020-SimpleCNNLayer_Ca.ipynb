{
 "cells": [
  {
   "cell_type": "code",
   "execution_count": 1,
   "metadata": {},
   "outputs": [],
   "source": [
    "##%matplotlib widget\n",
    "## with %matplotlib notebook: seems to require ipympl as part of environment, either\n",
    "## part of the conda environment or \"pip install ipympl\"\n",
    "## otherwise, does not show ANY plots in notebook, plt.savefig() works\n",
    "%matplotlib notebook  \n",
    "##%matplotlib inline    ## --plt.savefig()  works, but re-sizing does NOT\n"
   ]
  },
  {
   "cell_type": "markdown",
   "metadata": {},
   "source": [
    "This notebook is a short demo to illustrate execution.   For odd historical reasons, it uses \"toy Monte Carlo\" (simulated data)for \"training\" and \"full LHCB MC\" for validation.\n",
    "\n",
    "The network architecture is a \"simple\" model that uses 1 input channel (the KDE [kernel density estimator] but from the track parameters) feeding 5 convolutional layers followed by a fully connected layer.\n",
    "\n",
    "In today's version, the network will start with weights from a previously trained version.\n",
    " "
   ]
  },
  {
   "cell_type": "markdown",
   "metadata": {},
   "source": [
    "Check the current GPU usage. Please try to be nice!"
   ]
  },
  {
   "cell_type": "code",
   "execution_count": 2,
   "metadata": {},
   "outputs": [
    {
     "name": "stdout",
     "output_type": "stream",
     "text": [
      "Fri Sep 25 22:12:18 2020       \r\n",
      "+-----------------------------------------------------------------------------+\r\n",
      "| NVIDIA-SMI 440.64.00    Driver Version: 440.64.00    CUDA Version: 10.2     |\r\n",
      "|-------------------------------+----------------------+----------------------+\r\n",
      "| GPU  Name        Persistence-M| Bus-Id        Disp.A | Volatile Uncorr. ECC |\r\n",
      "| Fan  Temp  Perf  Pwr:Usage/Cap|         Memory-Usage | GPU-Util  Compute M. |\r\n",
      "|===============================+======================+======================|\r\n",
      "|   0  TITAN V             Off  | 00000000:03:00.0 Off |                  N/A |\r\n",
      "| 19%   35C    P0    32W / 250W |      0MiB / 12066MiB |      0%      Default |\r\n",
      "+-------------------------------+----------------------+----------------------+\r\n",
      "|   1  Tesla P100-PCIE...  Off  | 00000000:83:00.0 Off |                    0 |\r\n",
      "| N/A   32C    P0    30W / 250W |      0MiB / 16280MiB |      3%      Default |\r\n",
      "+-------------------------------+----------------------+----------------------+\r\n",
      "|   2  TITAN V             Off  | 00000000:84:00.0 Off |                  N/A |\r\n",
      "| 28%   37C    P8    26W / 250W |   2016MiB / 12066MiB |      0%      Default |\r\n",
      "+-------------------------------+----------------------+----------------------+\r\n",
      "                                                                               \r\n",
      "+-----------------------------------------------------------------------------+\r\n",
      "| Processes:                                                       GPU Memory |\r\n",
      "|  GPU       PID   Type   Process name                             Usage      |\r\n",
      "|=============================================================================|\r\n",
      "|    2     18229      C   ...a/conda/envs/goofit-june2020/bin/python  1003MiB |\r\n",
      "|    2     23934      C   ...a/conda/envs/goofit-june2020/bin/python  1001MiB |\r\n",
      "+-----------------------------------------------------------------------------+\r\n"
     ]
    }
   ],
   "source": [
    "!nvidia-smi"
   ]
  },
  {
   "cell_type": "markdown",
   "metadata": {},
   "source": [
    "> **WARNING**: The card numbers here are *not* the same as in CUDA. You have been warned."
   ]
  },
  {
   "cell_type": "markdown",
   "metadata": {},
   "source": [
    "## Imports"
   ]
  },
  {
   "cell_type": "code",
   "execution_count": 3,
   "metadata": {},
   "outputs": [],
   "source": [
    "import matplotlib.pyplot as plt\n",
    "import numpy as np\n",
    "import time\n",
    "import torch\n",
    "import pandas as pd\n",
    "\n",
    "# Python 3 standard library\n",
    "from pathlib import Path\n",
    "\n",
    "from torchsummary import summary"
   ]
  },
  {
   "cell_type": "markdown",
   "metadata": {},
   "source": [
    "### Set up local parameters"
   ]
  },
  {
   "cell_type": "code",
   "execution_count": 4,
   "metadata": {},
   "outputs": [],
   "source": [
    "n_epochs = 5\n",
    "\n",
    "# Name is the output file name\n",
    "\n",
    "\n",
    "##  190810  mds\n",
    "folder = '02June2020_CNN5Layer_Ca_another200epochs_K'\n",
    "name = '02June2020_CNN5Layer_Ca_another200epochs_K'\n",
    "\n",
    "# Make an output folder named \"name\" (change if you want)\n",
    "\n",
    "## Special instructions for those working on goofy at UC\n",
    "## Please be very careful to make sure that your folder\n",
    "## does not live in a subdirectory of your home directory\n",
    "## this disk has very little capacity. Instead, use \n",
    "## a subdirectory in /share/lazy with a symbolic link to\n",
    "## it in this (the notebooks) subdirectory\n",
    "folder = 'ML/' + folder\n",
    "output = Path(folder)\n",
    "\n",
    "\n",
    "# Size of batches\n",
    "batch_size = 128\n",
    "\n",
    "# How fast to learn\n",
    "learning_rate = 3e-4"
   ]
  },
  {
   "cell_type": "markdown",
   "metadata": {},
   "source": [
    "Make the output directory if it does not exist:"
   ]
  },
  {
   "cell_type": "code",
   "execution_count": 5,
   "metadata": {},
   "outputs": [],
   "source": [
    "output.mkdir(exist_ok=True)"
   ]
  },
  {
   "cell_type": "markdown",
   "metadata": {},
   "source": [
    "## Get the helper functions\n",
    "\n",
    "Add the directory with the model\n",
    "definitions to the path so we can import from it:\n",
    "\n",
    "> When you type `import X`,\n",
    "Python searches `sys.path` for a python\n",
    "file named `X.py` to import. So we need to add the model directory to the path."
   ]
  },
  {
   "cell_type": "code",
   "execution_count": 6,
   "metadata": {
    "scrolled": true
   },
   "outputs": [],
   "source": [
    "# From model/collectdata.py\n",
    "from model.collectdata_mdsA import collect_data\n",
    "\n",
    "# From model/loss.py\n",
    "##from loss import Loss\n",
    "from model.alt_loss_A import Loss\n",
    "\n",
    "# From model/training.py\n",
    "from model.training import trainNet, select_gpu\n",
    "\n",
    "# From model/models.py\n",
    "##  will start with model from TwoFeatures_CNN6Layer_A in the first instance\n",
    "##  see relevant cell below\n",
    "\n",
    "\n",
    "from model.models_mds_01June20 import SimpleCNN5Layer_Ca as Model\n",
    "\n",
    "from model.training import trainNet, select_gpu, Results\n",
    "from model.plots import dual_train_plots, replace_in_ax"
   ]
  },
  {
   "cell_type": "code",
   "execution_count": 7,
   "metadata": {},
   "outputs": [],
   "source": [
    "# This gets built up during the run - do not rerun this cell\n",
    "results = pd.DataFrame([], columns=Results._fields)"
   ]
  },
  {
   "cell_type": "markdown",
   "metadata": {},
   "source": [
    "Set up Torch device configuration. All tensors and model parameters need to know where to be put.\n",
    "This takes a BUS ID number: The BUS ID is the same as the listing at the top of this script."
   ]
  },
  {
   "cell_type": "code",
   "execution_count": 8,
   "metadata": {},
   "outputs": [
    {
     "name": "stdout",
     "output_type": "stream",
     "text": [
      "1 available GPUs (initially using device 0):\n",
      "  0 TITAN V\n"
     ]
    }
   ],
   "source": [
    "device = select_gpu(2)"
   ]
  },
  {
   "cell_type": "markdown",
   "metadata": {},
   "source": [
    "## Loading data\n",
    "\n",
    "Load the dataset, split into parts, then move to device (see `collectdata.py` in the `../model` directory)"
   ]
  },
  {
   "cell_type": "code",
   "execution_count": 9,
   "metadata": {
    "scrolled": true
   },
   "outputs": [
    {
     "name": "stdout",
     "output_type": "stream",
     "text": [
      "Loading data...\n",
      "Loaded dataAA/Aug14_80K_train.h5 in 13.11 s\n",
      "Loaded dataAA/Oct03_80K_train.h5 in 12.93 s\n",
      "Constructing 160000 event dataset took 0.4175 s\n",
      "Loading data...\n",
      "Loaded dataAA/Oct03_20K_val.h5 in 2.631 s\n",
      "Constructing 9984 event dataset took 3.537 s\n"
     ]
    }
   ],
   "source": [
    "## newer vernacular\n",
    "## Training dataset. You can put as many files here as desired.\n",
    "\n",
    "## in this DEMO example we use only one 80K training set -- the model starts with well-trained weights,\n",
    "## and using a smaller training set reduces both the time to load the data and the time to train an epoch\n",
    "##  set the option load_XandXsq = True to use both DKE and KDE^2 as input features\n",
    "train_loader = collect_data('dataAA/Aug14_80K_train.h5',\n",
    "                            'dataAA/Oct03_80K_train.h5',\n",
    "##                            'dataAA/Oct03_80K2_train.h5',\n",
    "                             batch_size=batch_size,\n",
    "## if we are using a larger dataset (240K events, with the datasets above, and 11 GB  of GPU memory),\n",
    "## not the dataset will overflow the GPU memory; device=device will allow the data to move back\n",
    "## and forth between the CPU and GPU memory. While this allows use of a larger dataset, it slows\n",
    "## down performance by about 10%.  So comment out when not needed.\n",
    "##                           device=device,\n",
    "                            masking=True, shuffle=True,\n",
    "                            load_XandXsq=False,\n",
    "                            load_xy=False)\n",
    "\n",
    "# Validation dataset. You can slice to reduce the size.\n",
    "## dataAA -> /share/lazy/sokoloff/ML-data_AA/\n",
    "val_loader = collect_data('dataAA/Oct03_20K_val.h5',\n",
    "## mds val_loader = collect_data('dataAA/HLT1CPU_1kevts_val.h5',\n",
    "\n",
    "                          batch_size=batch_size,\n",
    "                          slice=slice(256 * 39),\n",
    "                          device=device,\n",
    "                          masking=True, shuffle=False,\n",
    "                          load_XandXsq=False,\n",
    "                          load_xy=False)"
   ]
  },
  {
   "cell_type": "markdown",
   "metadata": {},
   "source": [
    "# Preparing the model"
   ]
  },
  {
   "cell_type": "markdown",
   "metadata": {},
   "source": [
    "Prepare a model, use multiple GPUs if they are VISIBLE, and move the model to the device."
   ]
  },
  {
   "cell_type": "code",
   "execution_count": 10,
   "metadata": {
    "scrolled": true
   },
   "outputs": [
    {
     "name": "stdout",
     "output_type": "stream",
     "text": [
      "ct, child =  0    Conv1d(1, 20, kernel_size=(25,), stride=(1,), padding=(12,))\n",
      "ct, child =  1    Conv1d(20, 10, kernel_size=(15,), stride=(1,), padding=(7,))\n",
      "ct, child =  2    Conv1d(10, 10, kernel_size=(15,), stride=(1,), padding=(7,))\n",
      "ct, child =  3    Conv1d(10, 10, kernel_size=(15,), stride=(1,), padding=(7,))\n",
      "ct, child =  4    Conv1d(10, 1, kernel_size=(5,), stride=(1,), padding=(2,))\n",
      "ct, child =  5    Dropout(p=0.15, inplace=False)\n",
      "ct, child =  6    Dropout(p=0.15, inplace=False)\n",
      "ct, child =  7    Dropout(p=0.15, inplace=False)\n",
      "ct, child =  8    Dropout(p=0.15, inplace=False)\n",
      "ct, child =  9    Dropout(p=0.35, inplace=False)\n",
      "ct, child =  10    Linear(in_features=4000, out_features=4000, bias=True)\n"
     ]
    }
   ],
   "source": [
    "model = Model()\n",
    "\n",
    "##summary(model, input_size=(4, 4000))\n",
    "##print(model.parameters)\n",
    "\n",
    "## add the following code to allow the user to freeze the some of the weights corresponding \n",
    "## to those taken from an earlier model trained with the original target histograms\n",
    "## presumably -- this leaves either the perturbative filter \"fixed\" and lets the \n",
    "## learning focus on the non-perturbative features, so get started faster, or vice versa\n",
    "ct = 0\n",
    "for child in model.children():\n",
    "  print('ct, child = ',ct, \"  \", child)\n",
    "  if ct < 0:\n",
    "    print(\"     About to set param.requires_grad=False for ct = \", ct, \"params\")\n",
    "    for param in child.parameters():\n",
    "        param.requires_grad = False \n",
    "  ct += 1\n",
    "##  mds 200121 loss = Loss(epsilon=1e-5,coefficient=1.0)\n",
    "loss = Loss(epsilon=1e-5,coefficient=2.5)\n",
    "optimizer = torch.optim.Adam(model.parameters(), lr=learning_rate)"
   ]
  },
  {
   "cell_type": "code",
   "execution_count": 11,
   "metadata": {
    "scrolled": true
   },
   "outputs": [
    {
     "name": "stdout",
     "output_type": "stream",
     "text": [
      "Let's use 1 GPUs!\n"
     ]
    }
   ],
   "source": [
    "print(\"Let's use\", torch.cuda.device_count(), \"GPUs!\")\n",
    "if torch.cuda.device_count() > 1:\n",
    "    model = torch.nn.DataParallel(model)"
   ]
  },
  {
   "cell_type": "markdown",
   "metadata": {},
   "source": [
    "Let's move the model's weight matricies to the GPU:"
   ]
  },
  {
   "cell_type": "code",
   "execution_count": 12,
   "metadata": {},
   "outputs": [
    {
     "name": "stdout",
     "output_type": "stream",
     "text": [
      "output =  ML/02June2020_CNN5Layer_Ca_another200epochs_K\n",
      "for model_dict\n",
      "index, k =   0    conv1.weight\n",
      "index, k =   1    conv1.bias\n",
      "index, k =   2    conv2.weight\n",
      "index, k =   3    conv2.bias\n",
      "index, k =   4    conv3.weight\n",
      "index, k =   5    conv3.bias\n",
      "index, k =   6    conv4.weight\n",
      "index, k =   7    conv4.bias\n",
      "index, k =   8    conv5.weight\n",
      "index, k =   9    conv5.bias\n",
      "index, k =   10    fc1.weight\n",
      "index, k =   11    fc1.bias\n"
     ]
    }
   ],
   "source": [
    "print('output = ',output)\n",
    "##print('oldOutput = ',oldOutput)\n",
    "##  use the first four layers from a pre-existing model\n",
    "##  see example at https://discuss.pytorch.org/t/how-to-load-part-of-pre-trained-model/1113\n",
    "\n",
    "##   ML -> /share/lazy/sokoloff/ML\n",
    "pretrained_dict = torch.load('ML/02June2020_CNN5Layer_Ca_another40epochs_K/02June2020_CNN5Layer_Ca_another40epochs_K_final.pyt')\n",
    "model_dict = model.state_dict()\n",
    "## mds 190725 for debugging\n",
    "print(\"for model_dict\")\n",
    "index = 0\n",
    "for k,v in model_dict.items():\n",
    "    print(\"index, k =  \",index,\"  \",k)\n",
    "    index = index+1\n",
    " "
   ]
  },
  {
   "cell_type": "code",
   "execution_count": 13,
   "metadata": {},
   "outputs": [
    {
     "name": "stdout",
     "output_type": "stream",
     "text": [
      " \n",
      "   for pretrained_dict\n",
      "index, k =   0    conv1.weight\n",
      "index, k =   1    conv1.bias\n",
      "index, k =   2    conv2.weight\n",
      "index, k =   3    conv2.bias\n",
      "index, k =   4    conv3.weight\n",
      "index, k =   5    conv3.bias\n",
      "index, k =   6    conv4.weight\n",
      "index, k =   7    conv4.bias\n",
      "index, k =   8    conv5.weight\n",
      "index, k =   9    conv5.bias\n",
      "index, k =   10    fc1.weight\n",
      "index, k =   11    fc1.bias\n"
     ]
    }
   ],
   "source": [
    "   \n",
    "print(\" \\n\",\"  for pretrained_dict\")\n",
    "index = 0\n",
    "for k,v in pretrained_dict.items():\n",
    "    print(\"index, k =  \",index,\"  \",k)\n",
    "    index = index+1\n",
    "## mds  "
   ]
  },
  {
   "cell_type": "code",
   "execution_count": 14,
   "metadata": {},
   "outputs": [
    {
     "name": "stdout",
     "output_type": "stream",
     "text": [
      "model_dict instantiated\n"
     ]
    },
    {
     "data": {
      "text/plain": [
       "<All keys matched successfully>"
      ]
     },
     "execution_count": 14,
     "metadata": {},
     "output_type": "execute_result"
    }
   ],
   "source": [
    "print(\"model_dict instantiated\")\n",
    "# 1. filter out unnecessary keys\n",
    "pretrained_dict = {k: v for k, v in pretrained_dict.items() if k in model_dict}\n",
    "## print(\"pretrained_dict iterated\")\n",
    "# 2. overwrite entries in the existing state dict\n",
    "model_dict.update(pretrained_dict) \n",
    "##\n",
    "#   when starting from a model with a fully connected last layer rather than a convolutional layer\n",
    "# 3. load the new state dict\n",
    "#   need to use strict=False as the two models state model attributes do not agree exactly\n",
    "#   see https://pytorch.org/docs/master/_modules/torch/nn/modules/module.html#Module.load_state_dict\n",
    "\n",
    "model.load_state_dict(pretrained_dict,strict=False)\n",
    "\n",
    "## print('model_dict =    ', model_dict)"
   ]
  },
  {
   "cell_type": "code",
   "execution_count": 15,
   "metadata": {
    "scrolled": true
   },
   "outputs": [],
   "source": [
    "model = model.to(device)"
   ]
  },
  {
   "cell_type": "markdown",
   "metadata": {},
   "source": [
    "## Train \n",
    "\n",
    "\n",
    "\n",
    "The body of this loop runs once per epoch. Results is a named tuple of values (loss per epoch for training and validation, time each). Start by setting up a plot first:"
   ]
  },
  {
   "cell_type": "code",
   "execution_count": 18,
   "metadata": {
    "scrolled": false
   },
   "outputs": [
    {
     "data": {
      "application/javascript": [
       "/* Put everything inside the global mpl namespace */\n",
       "window.mpl = {};\n",
       "\n",
       "\n",
       "mpl.get_websocket_type = function() {\n",
       "    if (typeof(WebSocket) !== 'undefined') {\n",
       "        return WebSocket;\n",
       "    } else if (typeof(MozWebSocket) !== 'undefined') {\n",
       "        return MozWebSocket;\n",
       "    } else {\n",
       "        alert('Your browser does not have WebSocket support. ' +\n",
       "              'Please try Chrome, Safari or Firefox ≥ 6. ' +\n",
       "              'Firefox 4 and 5 are also supported but you ' +\n",
       "              'have to enable WebSockets in about:config.');\n",
       "    };\n",
       "}\n",
       "\n",
       "mpl.figure = function(figure_id, websocket, ondownload, parent_element) {\n",
       "    this.id = figure_id;\n",
       "\n",
       "    this.ws = websocket;\n",
       "\n",
       "    this.supports_binary = (this.ws.binaryType != undefined);\n",
       "\n",
       "    if (!this.supports_binary) {\n",
       "        var warnings = document.getElementById(\"mpl-warnings\");\n",
       "        if (warnings) {\n",
       "            warnings.style.display = 'block';\n",
       "            warnings.textContent = (\n",
       "                \"This browser does not support binary websocket messages. \" +\n",
       "                    \"Performance may be slow.\");\n",
       "        }\n",
       "    }\n",
       "\n",
       "    this.imageObj = new Image();\n",
       "\n",
       "    this.context = undefined;\n",
       "    this.message = undefined;\n",
       "    this.canvas = undefined;\n",
       "    this.rubberband_canvas = undefined;\n",
       "    this.rubberband_context = undefined;\n",
       "    this.format_dropdown = undefined;\n",
       "\n",
       "    this.image_mode = 'full';\n",
       "\n",
       "    this.root = $('<div/>');\n",
       "    this._root_extra_style(this.root)\n",
       "    this.root.attr('style', 'display: inline-block');\n",
       "\n",
       "    $(parent_element).append(this.root);\n",
       "\n",
       "    this._init_header(this);\n",
       "    this._init_canvas(this);\n",
       "    this._init_toolbar(this);\n",
       "\n",
       "    var fig = this;\n",
       "\n",
       "    this.waiting = false;\n",
       "\n",
       "    this.ws.onopen =  function () {\n",
       "            fig.send_message(\"supports_binary\", {value: fig.supports_binary});\n",
       "            fig.send_message(\"send_image_mode\", {});\n",
       "            if (mpl.ratio != 1) {\n",
       "                fig.send_message(\"set_dpi_ratio\", {'dpi_ratio': mpl.ratio});\n",
       "            }\n",
       "            fig.send_message(\"refresh\", {});\n",
       "        }\n",
       "\n",
       "    this.imageObj.onload = function() {\n",
       "            if (fig.image_mode == 'full') {\n",
       "                // Full images could contain transparency (where diff images\n",
       "                // almost always do), so we need to clear the canvas so that\n",
       "                // there is no ghosting.\n",
       "                fig.context.clearRect(0, 0, fig.canvas.width, fig.canvas.height);\n",
       "            }\n",
       "            fig.context.drawImage(fig.imageObj, 0, 0);\n",
       "        };\n",
       "\n",
       "    this.imageObj.onunload = function() {\n",
       "        fig.ws.close();\n",
       "    }\n",
       "\n",
       "    this.ws.onmessage = this._make_on_message_function(this);\n",
       "\n",
       "    this.ondownload = ondownload;\n",
       "}\n",
       "\n",
       "mpl.figure.prototype._init_header = function() {\n",
       "    var titlebar = $(\n",
       "        '<div class=\"ui-dialog-titlebar ui-widget-header ui-corner-all ' +\n",
       "        'ui-helper-clearfix\"/>');\n",
       "    var titletext = $(\n",
       "        '<div class=\"ui-dialog-title\" style=\"width: 100%; ' +\n",
       "        'text-align: center; padding: 3px;\"/>');\n",
       "    titlebar.append(titletext)\n",
       "    this.root.append(titlebar);\n",
       "    this.header = titletext[0];\n",
       "}\n",
       "\n",
       "\n",
       "\n",
       "mpl.figure.prototype._canvas_extra_style = function(canvas_div) {\n",
       "\n",
       "}\n",
       "\n",
       "\n",
       "mpl.figure.prototype._root_extra_style = function(canvas_div) {\n",
       "\n",
       "}\n",
       "\n",
       "mpl.figure.prototype._init_canvas = function() {\n",
       "    var fig = this;\n",
       "\n",
       "    var canvas_div = $('<div/>');\n",
       "\n",
       "    canvas_div.attr('style', 'position: relative; clear: both; outline: 0');\n",
       "\n",
       "    function canvas_keyboard_event(event) {\n",
       "        return fig.key_event(event, event['data']);\n",
       "    }\n",
       "\n",
       "    canvas_div.keydown('key_press', canvas_keyboard_event);\n",
       "    canvas_div.keyup('key_release', canvas_keyboard_event);\n",
       "    this.canvas_div = canvas_div\n",
       "    this._canvas_extra_style(canvas_div)\n",
       "    this.root.append(canvas_div);\n",
       "\n",
       "    var canvas = $('<canvas/>');\n",
       "    canvas.addClass('mpl-canvas');\n",
       "    canvas.attr('style', \"left: 0; top: 0; z-index: 0; outline: 0\")\n",
       "\n",
       "    this.canvas = canvas[0];\n",
       "    this.context = canvas[0].getContext(\"2d\");\n",
       "\n",
       "    var backingStore = this.context.backingStorePixelRatio ||\n",
       "\tthis.context.webkitBackingStorePixelRatio ||\n",
       "\tthis.context.mozBackingStorePixelRatio ||\n",
       "\tthis.context.msBackingStorePixelRatio ||\n",
       "\tthis.context.oBackingStorePixelRatio ||\n",
       "\tthis.context.backingStorePixelRatio || 1;\n",
       "\n",
       "    mpl.ratio = (window.devicePixelRatio || 1) / backingStore;\n",
       "\n",
       "    var rubberband = $('<canvas/>');\n",
       "    rubberband.attr('style', \"position: absolute; left: 0; top: 0; z-index: 1;\")\n",
       "\n",
       "    var pass_mouse_events = true;\n",
       "\n",
       "    canvas_div.resizable({\n",
       "        start: function(event, ui) {\n",
       "            pass_mouse_events = false;\n",
       "        },\n",
       "        resize: function(event, ui) {\n",
       "            fig.request_resize(ui.size.width, ui.size.height);\n",
       "        },\n",
       "        stop: function(event, ui) {\n",
       "            pass_mouse_events = true;\n",
       "            fig.request_resize(ui.size.width, ui.size.height);\n",
       "        },\n",
       "    });\n",
       "\n",
       "    function mouse_event_fn(event) {\n",
       "        if (pass_mouse_events)\n",
       "            return fig.mouse_event(event, event['data']);\n",
       "    }\n",
       "\n",
       "    rubberband.mousedown('button_press', mouse_event_fn);\n",
       "    rubberband.mouseup('button_release', mouse_event_fn);\n",
       "    // Throttle sequential mouse events to 1 every 20ms.\n",
       "    rubberband.mousemove('motion_notify', mouse_event_fn);\n",
       "\n",
       "    rubberband.mouseenter('figure_enter', mouse_event_fn);\n",
       "    rubberband.mouseleave('figure_leave', mouse_event_fn);\n",
       "\n",
       "    canvas_div.on(\"wheel\", function (event) {\n",
       "        event = event.originalEvent;\n",
       "        event['data'] = 'scroll'\n",
       "        if (event.deltaY < 0) {\n",
       "            event.step = 1;\n",
       "        } else {\n",
       "            event.step = -1;\n",
       "        }\n",
       "        mouse_event_fn(event);\n",
       "    });\n",
       "\n",
       "    canvas_div.append(canvas);\n",
       "    canvas_div.append(rubberband);\n",
       "\n",
       "    this.rubberband = rubberband;\n",
       "    this.rubberband_canvas = rubberband[0];\n",
       "    this.rubberband_context = rubberband[0].getContext(\"2d\");\n",
       "    this.rubberband_context.strokeStyle = \"#000000\";\n",
       "\n",
       "    this._resize_canvas = function(width, height) {\n",
       "        // Keep the size of the canvas, canvas container, and rubber band\n",
       "        // canvas in synch.\n",
       "        canvas_div.css('width', width)\n",
       "        canvas_div.css('height', height)\n",
       "\n",
       "        canvas.attr('width', width * mpl.ratio);\n",
       "        canvas.attr('height', height * mpl.ratio);\n",
       "        canvas.attr('style', 'width: ' + width + 'px; height: ' + height + 'px;');\n",
       "\n",
       "        rubberband.attr('width', width);\n",
       "        rubberband.attr('height', height);\n",
       "    }\n",
       "\n",
       "    // Set the figure to an initial 600x600px, this will subsequently be updated\n",
       "    // upon first draw.\n",
       "    this._resize_canvas(600, 600);\n",
       "\n",
       "    // Disable right mouse context menu.\n",
       "    $(this.rubberband_canvas).bind(\"contextmenu\",function(e){\n",
       "        return false;\n",
       "    });\n",
       "\n",
       "    function set_focus () {\n",
       "        canvas.focus();\n",
       "        canvas_div.focus();\n",
       "    }\n",
       "\n",
       "    window.setTimeout(set_focus, 100);\n",
       "}\n",
       "\n",
       "mpl.figure.prototype._init_toolbar = function() {\n",
       "    var fig = this;\n",
       "\n",
       "    var nav_element = $('<div/>');\n",
       "    nav_element.attr('style', 'width: 100%');\n",
       "    this.root.append(nav_element);\n",
       "\n",
       "    // Define a callback function for later on.\n",
       "    function toolbar_event(event) {\n",
       "        return fig.toolbar_button_onclick(event['data']);\n",
       "    }\n",
       "    function toolbar_mouse_event(event) {\n",
       "        return fig.toolbar_button_onmouseover(event['data']);\n",
       "    }\n",
       "\n",
       "    for(var toolbar_ind in mpl.toolbar_items) {\n",
       "        var name = mpl.toolbar_items[toolbar_ind][0];\n",
       "        var tooltip = mpl.toolbar_items[toolbar_ind][1];\n",
       "        var image = mpl.toolbar_items[toolbar_ind][2];\n",
       "        var method_name = mpl.toolbar_items[toolbar_ind][3];\n",
       "\n",
       "        if (!name) {\n",
       "            // put a spacer in here.\n",
       "            continue;\n",
       "        }\n",
       "        var button = $('<button/>');\n",
       "        button.addClass('ui-button ui-widget ui-state-default ui-corner-all ' +\n",
       "                        'ui-button-icon-only');\n",
       "        button.attr('role', 'button');\n",
       "        button.attr('aria-disabled', 'false');\n",
       "        button.click(method_name, toolbar_event);\n",
       "        button.mouseover(tooltip, toolbar_mouse_event);\n",
       "\n",
       "        var icon_img = $('<span/>');\n",
       "        icon_img.addClass('ui-button-icon-primary ui-icon');\n",
       "        icon_img.addClass(image);\n",
       "        icon_img.addClass('ui-corner-all');\n",
       "\n",
       "        var tooltip_span = $('<span/>');\n",
       "        tooltip_span.addClass('ui-button-text');\n",
       "        tooltip_span.html(tooltip);\n",
       "\n",
       "        button.append(icon_img);\n",
       "        button.append(tooltip_span);\n",
       "\n",
       "        nav_element.append(button);\n",
       "    }\n",
       "\n",
       "    var fmt_picker_span = $('<span/>');\n",
       "\n",
       "    var fmt_picker = $('<select/>');\n",
       "    fmt_picker.addClass('mpl-toolbar-option ui-widget ui-widget-content');\n",
       "    fmt_picker_span.append(fmt_picker);\n",
       "    nav_element.append(fmt_picker_span);\n",
       "    this.format_dropdown = fmt_picker[0];\n",
       "\n",
       "    for (var ind in mpl.extensions) {\n",
       "        var fmt = mpl.extensions[ind];\n",
       "        var option = $(\n",
       "            '<option/>', {selected: fmt === mpl.default_extension}).html(fmt);\n",
       "        fmt_picker.append(option);\n",
       "    }\n",
       "\n",
       "    // Add hover states to the ui-buttons\n",
       "    $( \".ui-button\" ).hover(\n",
       "        function() { $(this).addClass(\"ui-state-hover\");},\n",
       "        function() { $(this).removeClass(\"ui-state-hover\");}\n",
       "    );\n",
       "\n",
       "    var status_bar = $('<span class=\"mpl-message\"/>');\n",
       "    nav_element.append(status_bar);\n",
       "    this.message = status_bar[0];\n",
       "}\n",
       "\n",
       "mpl.figure.prototype.request_resize = function(x_pixels, y_pixels) {\n",
       "    // Request matplotlib to resize the figure. Matplotlib will then trigger a resize in the client,\n",
       "    // which will in turn request a refresh of the image.\n",
       "    this.send_message('resize', {'width': x_pixels, 'height': y_pixels});\n",
       "}\n",
       "\n",
       "mpl.figure.prototype.send_message = function(type, properties) {\n",
       "    properties['type'] = type;\n",
       "    properties['figure_id'] = this.id;\n",
       "    this.ws.send(JSON.stringify(properties));\n",
       "}\n",
       "\n",
       "mpl.figure.prototype.send_draw_message = function() {\n",
       "    if (!this.waiting) {\n",
       "        this.waiting = true;\n",
       "        this.ws.send(JSON.stringify({type: \"draw\", figure_id: this.id}));\n",
       "    }\n",
       "}\n",
       "\n",
       "\n",
       "mpl.figure.prototype.handle_save = function(fig, msg) {\n",
       "    var format_dropdown = fig.format_dropdown;\n",
       "    var format = format_dropdown.options[format_dropdown.selectedIndex].value;\n",
       "    fig.ondownload(fig, format);\n",
       "}\n",
       "\n",
       "\n",
       "mpl.figure.prototype.handle_resize = function(fig, msg) {\n",
       "    var size = msg['size'];\n",
       "    if (size[0] != fig.canvas.width || size[1] != fig.canvas.height) {\n",
       "        fig._resize_canvas(size[0], size[1]);\n",
       "        fig.send_message(\"refresh\", {});\n",
       "    };\n",
       "}\n",
       "\n",
       "mpl.figure.prototype.handle_rubberband = function(fig, msg) {\n",
       "    var x0 = msg['x0'] / mpl.ratio;\n",
       "    var y0 = (fig.canvas.height - msg['y0']) / mpl.ratio;\n",
       "    var x1 = msg['x1'] / mpl.ratio;\n",
       "    var y1 = (fig.canvas.height - msg['y1']) / mpl.ratio;\n",
       "    x0 = Math.floor(x0) + 0.5;\n",
       "    y0 = Math.floor(y0) + 0.5;\n",
       "    x1 = Math.floor(x1) + 0.5;\n",
       "    y1 = Math.floor(y1) + 0.5;\n",
       "    var min_x = Math.min(x0, x1);\n",
       "    var min_y = Math.min(y0, y1);\n",
       "    var width = Math.abs(x1 - x0);\n",
       "    var height = Math.abs(y1 - y0);\n",
       "\n",
       "    fig.rubberband_context.clearRect(\n",
       "        0, 0, fig.canvas.width / mpl.ratio, fig.canvas.height / mpl.ratio);\n",
       "\n",
       "    fig.rubberband_context.strokeRect(min_x, min_y, width, height);\n",
       "}\n",
       "\n",
       "mpl.figure.prototype.handle_figure_label = function(fig, msg) {\n",
       "    // Updates the figure title.\n",
       "    fig.header.textContent = msg['label'];\n",
       "}\n",
       "\n",
       "mpl.figure.prototype.handle_cursor = function(fig, msg) {\n",
       "    var cursor = msg['cursor'];\n",
       "    switch(cursor)\n",
       "    {\n",
       "    case 0:\n",
       "        cursor = 'pointer';\n",
       "        break;\n",
       "    case 1:\n",
       "        cursor = 'default';\n",
       "        break;\n",
       "    case 2:\n",
       "        cursor = 'crosshair';\n",
       "        break;\n",
       "    case 3:\n",
       "        cursor = 'move';\n",
       "        break;\n",
       "    }\n",
       "    fig.rubberband_canvas.style.cursor = cursor;\n",
       "}\n",
       "\n",
       "mpl.figure.prototype.handle_message = function(fig, msg) {\n",
       "    fig.message.textContent = msg['message'];\n",
       "}\n",
       "\n",
       "mpl.figure.prototype.handle_draw = function(fig, msg) {\n",
       "    // Request the server to send over a new figure.\n",
       "    fig.send_draw_message();\n",
       "}\n",
       "\n",
       "mpl.figure.prototype.handle_image_mode = function(fig, msg) {\n",
       "    fig.image_mode = msg['mode'];\n",
       "}\n",
       "\n",
       "mpl.figure.prototype.updated_canvas_event = function() {\n",
       "    // Called whenever the canvas gets updated.\n",
       "    this.send_message(\"ack\", {});\n",
       "}\n",
       "\n",
       "// A function to construct a web socket function for onmessage handling.\n",
       "// Called in the figure constructor.\n",
       "mpl.figure.prototype._make_on_message_function = function(fig) {\n",
       "    return function socket_on_message(evt) {\n",
       "        if (evt.data instanceof Blob) {\n",
       "            /* FIXME: We get \"Resource interpreted as Image but\n",
       "             * transferred with MIME type text/plain:\" errors on\n",
       "             * Chrome.  But how to set the MIME type?  It doesn't seem\n",
       "             * to be part of the websocket stream */\n",
       "            evt.data.type = \"image/png\";\n",
       "\n",
       "            /* Free the memory for the previous frames */\n",
       "            if (fig.imageObj.src) {\n",
       "                (window.URL || window.webkitURL).revokeObjectURL(\n",
       "                    fig.imageObj.src);\n",
       "            }\n",
       "\n",
       "            fig.imageObj.src = (window.URL || window.webkitURL).createObjectURL(\n",
       "                evt.data);\n",
       "            fig.updated_canvas_event();\n",
       "            fig.waiting = false;\n",
       "            return;\n",
       "        }\n",
       "        else if (typeof evt.data === 'string' && evt.data.slice(0, 21) == \"data:image/png;base64\") {\n",
       "            fig.imageObj.src = evt.data;\n",
       "            fig.updated_canvas_event();\n",
       "            fig.waiting = false;\n",
       "            return;\n",
       "        }\n",
       "\n",
       "        var msg = JSON.parse(evt.data);\n",
       "        var msg_type = msg['type'];\n",
       "\n",
       "        // Call the  \"handle_{type}\" callback, which takes\n",
       "        // the figure and JSON message as its only arguments.\n",
       "        try {\n",
       "            var callback = fig[\"handle_\" + msg_type];\n",
       "        } catch (e) {\n",
       "            console.log(\"No handler for the '\" + msg_type + \"' message type: \", msg);\n",
       "            return;\n",
       "        }\n",
       "\n",
       "        if (callback) {\n",
       "            try {\n",
       "                // console.log(\"Handling '\" + msg_type + \"' message: \", msg);\n",
       "                callback(fig, msg);\n",
       "            } catch (e) {\n",
       "                console.log(\"Exception inside the 'handler_\" + msg_type + \"' callback:\", e, e.stack, msg);\n",
       "            }\n",
       "        }\n",
       "    };\n",
       "}\n",
       "\n",
       "// from http://stackoverflow.com/questions/1114465/getting-mouse-location-in-canvas\n",
       "mpl.findpos = function(e) {\n",
       "    //this section is from http://www.quirksmode.org/js/events_properties.html\n",
       "    var targ;\n",
       "    if (!e)\n",
       "        e = window.event;\n",
       "    if (e.target)\n",
       "        targ = e.target;\n",
       "    else if (e.srcElement)\n",
       "        targ = e.srcElement;\n",
       "    if (targ.nodeType == 3) // defeat Safari bug\n",
       "        targ = targ.parentNode;\n",
       "\n",
       "    // jQuery normalizes the pageX and pageY\n",
       "    // pageX,Y are the mouse positions relative to the document\n",
       "    // offset() returns the position of the element relative to the document\n",
       "    var x = e.pageX - $(targ).offset().left;\n",
       "    var y = e.pageY - $(targ).offset().top;\n",
       "\n",
       "    return {\"x\": x, \"y\": y};\n",
       "};\n",
       "\n",
       "/*\n",
       " * return a copy of an object with only non-object keys\n",
       " * we need this to avoid circular references\n",
       " * http://stackoverflow.com/a/24161582/3208463\n",
       " */\n",
       "function simpleKeys (original) {\n",
       "  return Object.keys(original).reduce(function (obj, key) {\n",
       "    if (typeof original[key] !== 'object')\n",
       "        obj[key] = original[key]\n",
       "    return obj;\n",
       "  }, {});\n",
       "}\n",
       "\n",
       "mpl.figure.prototype.mouse_event = function(event, name) {\n",
       "    var canvas_pos = mpl.findpos(event)\n",
       "\n",
       "    if (name === 'button_press')\n",
       "    {\n",
       "        this.canvas.focus();\n",
       "        this.canvas_div.focus();\n",
       "    }\n",
       "\n",
       "    var x = canvas_pos.x * mpl.ratio;\n",
       "    var y = canvas_pos.y * mpl.ratio;\n",
       "\n",
       "    this.send_message(name, {x: x, y: y, button: event.button,\n",
       "                             step: event.step,\n",
       "                             guiEvent: simpleKeys(event)});\n",
       "\n",
       "    /* This prevents the web browser from automatically changing to\n",
       "     * the text insertion cursor when the button is pressed.  We want\n",
       "     * to control all of the cursor setting manually through the\n",
       "     * 'cursor' event from matplotlib */\n",
       "    event.preventDefault();\n",
       "    return false;\n",
       "}\n",
       "\n",
       "mpl.figure.prototype._key_event_extra = function(event, name) {\n",
       "    // Handle any extra behaviour associated with a key event\n",
       "}\n",
       "\n",
       "mpl.figure.prototype.key_event = function(event, name) {\n",
       "\n",
       "    // Prevent repeat events\n",
       "    if (name == 'key_press')\n",
       "    {\n",
       "        if (event.which === this._key)\n",
       "            return;\n",
       "        else\n",
       "            this._key = event.which;\n",
       "    }\n",
       "    if (name == 'key_release')\n",
       "        this._key = null;\n",
       "\n",
       "    var value = '';\n",
       "    if (event.ctrlKey && event.which != 17)\n",
       "        value += \"ctrl+\";\n",
       "    if (event.altKey && event.which != 18)\n",
       "        value += \"alt+\";\n",
       "    if (event.shiftKey && event.which != 16)\n",
       "        value += \"shift+\";\n",
       "\n",
       "    value += 'k';\n",
       "    value += event.which.toString();\n",
       "\n",
       "    this._key_event_extra(event, name);\n",
       "\n",
       "    this.send_message(name, {key: value,\n",
       "                             guiEvent: simpleKeys(event)});\n",
       "    return false;\n",
       "}\n",
       "\n",
       "mpl.figure.prototype.toolbar_button_onclick = function(name) {\n",
       "    if (name == 'download') {\n",
       "        this.handle_save(this, null);\n",
       "    } else {\n",
       "        this.send_message(\"toolbar_button\", {name: name});\n",
       "    }\n",
       "};\n",
       "\n",
       "mpl.figure.prototype.toolbar_button_onmouseover = function(tooltip) {\n",
       "    this.message.textContent = tooltip;\n",
       "};\n",
       "mpl.toolbar_items = [[\"Home\", \"Reset original view\", \"fa fa-home icon-home\", \"home\"], [\"Back\", \"Back to previous view\", \"fa fa-arrow-left icon-arrow-left\", \"back\"], [\"Forward\", \"Forward to next view\", \"fa fa-arrow-right icon-arrow-right\", \"forward\"], [\"\", \"\", \"\", \"\"], [\"Pan\", \"Pan axes with left mouse, zoom with right\", \"fa fa-arrows icon-move\", \"pan\"], [\"Zoom\", \"Zoom to rectangle\", \"fa fa-square-o icon-check-empty\", \"zoom\"], [\"\", \"\", \"\", \"\"], [\"Download\", \"Download plot\", \"fa fa-floppy-o icon-save\", \"download\"]];\n",
       "\n",
       "mpl.extensions = [\"eps\", \"jpeg\", \"pdf\", \"png\", \"ps\", \"raw\", \"svg\", \"tif\"];\n",
       "\n",
       "mpl.default_extension = \"png\";var comm_websocket_adapter = function(comm) {\n",
       "    // Create a \"websocket\"-like object which calls the given IPython comm\n",
       "    // object with the appropriate methods. Currently this is a non binary\n",
       "    // socket, so there is still some room for performance tuning.\n",
       "    var ws = {};\n",
       "\n",
       "    ws.close = function() {\n",
       "        comm.close()\n",
       "    };\n",
       "    ws.send = function(m) {\n",
       "        //console.log('sending', m);\n",
       "        comm.send(m);\n",
       "    };\n",
       "    // Register the callback with on_msg.\n",
       "    comm.on_msg(function(msg) {\n",
       "        //console.log('receiving', msg['content']['data'], msg);\n",
       "        // Pass the mpl event to the overridden (by mpl) onmessage function.\n",
       "        ws.onmessage(msg['content']['data'])\n",
       "    });\n",
       "    return ws;\n",
       "}\n",
       "\n",
       "mpl.mpl_figure_comm = function(comm, msg) {\n",
       "    // This is the function which gets called when the mpl process\n",
       "    // starts-up an IPython Comm through the \"matplotlib\" channel.\n",
       "\n",
       "    var id = msg.content.data.id;\n",
       "    // Get hold of the div created by the display call when the Comm\n",
       "    // socket was opened in Python.\n",
       "    var element = $(\"#\" + id);\n",
       "    var ws_proxy = comm_websocket_adapter(comm)\n",
       "\n",
       "    function ondownload(figure, format) {\n",
       "        window.open(figure.imageObj.src);\n",
       "    }\n",
       "\n",
       "    var fig = new mpl.figure(id, ws_proxy,\n",
       "                           ondownload,\n",
       "                           element.get(0));\n",
       "\n",
       "    // Call onopen now - mpl needs it, as it is assuming we've passed it a real\n",
       "    // web socket which is closed, not our websocket->open comm proxy.\n",
       "    ws_proxy.onopen();\n",
       "\n",
       "    fig.parent_element = element.get(0);\n",
       "    fig.cell_info = mpl.find_output_cell(\"<div id='\" + id + \"'></div>\");\n",
       "    if (!fig.cell_info) {\n",
       "        console.error(\"Failed to find cell for figure\", id, fig);\n",
       "        return;\n",
       "    }\n",
       "\n",
       "    var output_index = fig.cell_info[2]\n",
       "    var cell = fig.cell_info[0];\n",
       "\n",
       "};\n",
       "\n",
       "mpl.figure.prototype.handle_close = function(fig, msg) {\n",
       "    var width = fig.canvas.width/mpl.ratio\n",
       "    fig.root.unbind('remove')\n",
       "\n",
       "    // Update the output cell to use the data from the current canvas.\n",
       "    fig.push_to_output();\n",
       "    var dataURL = fig.canvas.toDataURL();\n",
       "    // Re-enable the keyboard manager in IPython - without this line, in FF,\n",
       "    // the notebook keyboard shortcuts fail.\n",
       "    IPython.keyboard_manager.enable()\n",
       "    $(fig.parent_element).html('<img src=\"' + dataURL + '\" width=\"' + width + '\">');\n",
       "    fig.close_ws(fig, msg);\n",
       "}\n",
       "\n",
       "mpl.figure.prototype.close_ws = function(fig, msg){\n",
       "    fig.send_message('closing', msg);\n",
       "    // fig.ws.close()\n",
       "}\n",
       "\n",
       "mpl.figure.prototype.push_to_output = function(remove_interactive) {\n",
       "    // Turn the data on the canvas into data in the output cell.\n",
       "    var width = this.canvas.width/mpl.ratio\n",
       "    var dataURL = this.canvas.toDataURL();\n",
       "    this.cell_info[1]['text/html'] = '<img src=\"' + dataURL + '\" width=\"' + width + '\">';\n",
       "}\n",
       "\n",
       "mpl.figure.prototype.updated_canvas_event = function() {\n",
       "    // Tell IPython that the notebook contents must change.\n",
       "    IPython.notebook.set_dirty(true);\n",
       "    this.send_message(\"ack\", {});\n",
       "    var fig = this;\n",
       "    // Wait a second, then push the new image to the DOM so\n",
       "    // that it is saved nicely (might be nice to debounce this).\n",
       "    setTimeout(function () { fig.push_to_output() }, 1000);\n",
       "}\n",
       "\n",
       "mpl.figure.prototype._init_toolbar = function() {\n",
       "    var fig = this;\n",
       "\n",
       "    var nav_element = $('<div/>');\n",
       "    nav_element.attr('style', 'width: 100%');\n",
       "    this.root.append(nav_element);\n",
       "\n",
       "    // Define a callback function for later on.\n",
       "    function toolbar_event(event) {\n",
       "        return fig.toolbar_button_onclick(event['data']);\n",
       "    }\n",
       "    function toolbar_mouse_event(event) {\n",
       "        return fig.toolbar_button_onmouseover(event['data']);\n",
       "    }\n",
       "\n",
       "    for(var toolbar_ind in mpl.toolbar_items){\n",
       "        var name = mpl.toolbar_items[toolbar_ind][0];\n",
       "        var tooltip = mpl.toolbar_items[toolbar_ind][1];\n",
       "        var image = mpl.toolbar_items[toolbar_ind][2];\n",
       "        var method_name = mpl.toolbar_items[toolbar_ind][3];\n",
       "\n",
       "        if (!name) { continue; };\n",
       "\n",
       "        var button = $('<button class=\"btn btn-default\" href=\"#\" title=\"' + name + '\"><i class=\"fa ' + image + ' fa-lg\"></i></button>');\n",
       "        button.click(method_name, toolbar_event);\n",
       "        button.mouseover(tooltip, toolbar_mouse_event);\n",
       "        nav_element.append(button);\n",
       "    }\n",
       "\n",
       "    // Add the status bar.\n",
       "    var status_bar = $('<span class=\"mpl-message\" style=\"text-align:right; float: right;\"/>');\n",
       "    nav_element.append(status_bar);\n",
       "    this.message = status_bar[0];\n",
       "\n",
       "    // Add the close button to the window.\n",
       "    var buttongrp = $('<div class=\"btn-group inline pull-right\"></div>');\n",
       "    var button = $('<button class=\"btn btn-mini btn-primary\" href=\"#\" title=\"Stop Interaction\"><i class=\"fa fa-power-off icon-remove icon-large\"></i></button>');\n",
       "    button.click(function (evt) { fig.handle_close(fig, {}); } );\n",
       "    button.mouseover('Stop Interaction', toolbar_mouse_event);\n",
       "    buttongrp.append(button);\n",
       "    var titlebar = this.root.find($('.ui-dialog-titlebar'));\n",
       "    titlebar.prepend(buttongrp);\n",
       "}\n",
       "\n",
       "mpl.figure.prototype._root_extra_style = function(el){\n",
       "    var fig = this\n",
       "    el.on(\"remove\", function(){\n",
       "\tfig.close_ws(fig, {});\n",
       "    });\n",
       "}\n",
       "\n",
       "mpl.figure.prototype._canvas_extra_style = function(el){\n",
       "    // this is important to make the div 'focusable\n",
       "    el.attr('tabindex', 0)\n",
       "    // reach out to IPython and tell the keyboard manager to turn it's self\n",
       "    // off when our div gets focus\n",
       "\n",
       "    // location in version 3\n",
       "    if (IPython.notebook.keyboard_manager) {\n",
       "        IPython.notebook.keyboard_manager.register_events(el);\n",
       "    }\n",
       "    else {\n",
       "        // location in version 2\n",
       "        IPython.keyboard_manager.register_events(el);\n",
       "    }\n",
       "\n",
       "}\n",
       "\n",
       "mpl.figure.prototype._key_event_extra = function(event, name) {\n",
       "    var manager = IPython.notebook.keyboard_manager;\n",
       "    if (!manager)\n",
       "        manager = IPython.keyboard_manager;\n",
       "\n",
       "    // Check for shift+enter\n",
       "    if (event.shiftKey && event.which == 13) {\n",
       "        this.canvas_div.blur();\n",
       "        // select the cell after this one\n",
       "        var index = IPython.notebook.find_cell_index(this.cell_info[0]);\n",
       "        IPython.notebook.select(index + 1);\n",
       "    }\n",
       "}\n",
       "\n",
       "mpl.figure.prototype.handle_save = function(fig, msg) {\n",
       "    fig.ondownload(fig, null);\n",
       "}\n",
       "\n",
       "\n",
       "mpl.find_output_cell = function(html_output) {\n",
       "    // Return the cell and output element which can be found *uniquely* in the notebook.\n",
       "    // Note - this is a bit hacky, but it is done because the \"notebook_saving.Notebook\"\n",
       "    // IPython event is triggered only after the cells have been serialised, which for\n",
       "    // our purposes (turning an active figure into a static one), is too late.\n",
       "    var cells = IPython.notebook.get_cells();\n",
       "    var ncells = cells.length;\n",
       "    for (var i=0; i<ncells; i++) {\n",
       "        var cell = cells[i];\n",
       "        if (cell.cell_type === 'code'){\n",
       "            for (var j=0; j<cell.output_area.outputs.length; j++) {\n",
       "                var data = cell.output_area.outputs[j];\n",
       "                if (data.data) {\n",
       "                    // IPython >= 3 moved mimebundle to data attribute of output\n",
       "                    data = data.data;\n",
       "                }\n",
       "                if (data['text/html'] == html_output) {\n",
       "                    return [cell, data, j];\n",
       "                }\n",
       "            }\n",
       "        }\n",
       "    }\n",
       "}\n",
       "\n",
       "// Register the function which deals with the matplotlib target/channel.\n",
       "// The kernel may be null if the page has been refreshed.\n",
       "if (IPython.notebook.kernel != null) {\n",
       "    IPython.notebook.kernel.comm_manager.register_target('matplotlib', mpl.mpl_figure_comm);\n",
       "}\n"
      ],
      "text/plain": [
       "<IPython.core.display.Javascript object>"
      ]
     },
     "metadata": {},
     "output_type": "display_data"
    },
    {
     "data": {
      "text/html": [
       "<img src=\"data:image/png;base64,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\" width=\"1000\">"
      ],
      "text/plain": [
       "<IPython.core.display.HTML object>"
      ]
     },
     "metadata": {},
     "output_type": "display_data"
    }
   ],
   "source": [
    "ax, tax, lax, lines = dual_train_plots()\n",
    "fig = ax.figure\n",
    "plt.tight_layout()"
   ]
  },
  {
   "cell_type": "code",
   "execution_count": 19,
   "metadata": {
    "scrolled": false
   },
   "outputs": [
    {
     "name": "stdout",
     "output_type": "stream",
     "text": [
      "Number of batches: train = 1250, val = 78\n"
     ]
    },
    {
     "data": {
      "application/vnd.jupyter.widget-view+json": {
       "model_id": "4addee26c5ce432bb826ca3ec70c387d",
       "version_major": 2,
       "version_minor": 0
      },
      "text/plain": [
       "HBox(children=(FloatProgress(value=0.0, description='Epochs', layout=Layout(flex='2'), max=5.0, style=Progress…"
      ]
     },
     "metadata": {},
     "output_type": "display_data"
    },
    {
     "data": {
      "application/vnd.jupyter.widget-view+json": {
       "model_id": "",
       "version_major": 2,
       "version_minor": 0
      },
      "text/plain": [
       "HBox(children=(FloatProgress(value=0.0, description='Training', layout=Layout(flex='2'), max=1250.0, style=Pro…"
      ]
     },
     "metadata": {},
     "output_type": "display_data"
    },
    {
     "name": "stdout",
     "output_type": "stream",
     "text": [
      "Epoch 0: train=16.3318, val=14.9978, took 25.471 s\n",
      "  Validation Found 41837 of 54504, added 1164 (eff 76.76%) (0.117 FP/event)\n"
     ]
    },
    {
     "data": {
      "application/vnd.jupyter.widget-view+json": {
       "model_id": "",
       "version_major": 2,
       "version_minor": 0
      },
      "text/plain": [
       "HBox(children=(FloatProgress(value=0.0, description='Training', layout=Layout(flex='2'), max=1250.0, style=Pro…"
      ]
     },
     "metadata": {},
     "output_type": "display_data"
    },
    {
     "name": "stdout",
     "output_type": "stream",
     "text": [
      "Epoch 1: train=16.2847, val=14.9555, took 25.403 s\n",
      "  Validation Found 41884 of 54504, added 1163 (eff 76.85%) (0.116 FP/event)\n"
     ]
    },
    {
     "data": {
      "application/vnd.jupyter.widget-view+json": {
       "model_id": "",
       "version_major": 2,
       "version_minor": 0
      },
      "text/plain": [
       "HBox(children=(FloatProgress(value=0.0, description='Training', layout=Layout(flex='2'), max=1250.0, style=Pro…"
      ]
     },
     "metadata": {},
     "output_type": "display_data"
    },
    {
     "name": "stdout",
     "output_type": "stream",
     "text": [
      "Epoch 2: train=16.231, val=14.8355, took 24.438 s\n",
      "  Validation Found 41848 of 54504, added 1121 (eff 76.78%) (0.112 FP/event)\n"
     ]
    },
    {
     "data": {
      "application/vnd.jupyter.widget-view+json": {
       "model_id": "",
       "version_major": 2,
       "version_minor": 0
      },
      "text/plain": [
       "HBox(children=(FloatProgress(value=0.0, description='Training', layout=Layout(flex='2'), max=1250.0, style=Pro…"
      ]
     },
     "metadata": {},
     "output_type": "display_data"
    },
    {
     "name": "stdout",
     "output_type": "stream",
     "text": [
      "Epoch 3: train=16.1833, val=14.9244, took 24.36 s\n",
      "  Validation Found 41990 of 54504, added 1177 (eff 77.04%) (0.118 FP/event)\n"
     ]
    },
    {
     "data": {
      "application/vnd.jupyter.widget-view+json": {
       "model_id": "",
       "version_major": 2,
       "version_minor": 0
      },
      "text/plain": [
       "HBox(children=(FloatProgress(value=0.0, description='Training', layout=Layout(flex='2'), max=1250.0, style=Pro…"
      ]
     },
     "metadata": {},
     "output_type": "display_data"
    },
    {
     "name": "stdout",
     "output_type": "stream",
     "text": [
      "Epoch 4: train=16.1321, val=14.7492, took 24.27 s\n",
      "  Validation Found 41853 of 54504, added 1086 (eff 76.79%) (0.109 FP/event)\n",
      "\n"
     ]
    }
   ],
   "source": [
    "for result in trainNet(model, optimizer, loss,\n",
    "                        train_loader, val_loader,\n",
    "                        n_epochs, epoch_start=len(results),\n",
    "                        notebook=True):\n",
    "    \n",
    "    results = results.append(pd.Series(result._asdict()), ignore_index=True)\n",
    "    \n",
    "    xs = results.index\n",
    "    \n",
    "    # Update the plot above\n",
    "    lines['train'].set_data(results.index,results.cost)\n",
    "    lines['val'].set_data(results.index,results.val)\n",
    "    \n",
    "    #filter first cost epoch (can be really large)\n",
    "    max_cost = max(max(results.cost if len(results.cost)<2 else results.cost[1:]), max(results.val))\n",
    "    min_cost = min(min(results.cost), min(results.val))\n",
    "    \n",
    "    # The plot limits need updating too\n",
    "    \n",
    "    \n",
    "    \n",
    "    ax.set_ylim(min_cost*.9, max_cost*1.1)  \n",
    "    ax.set_xlim(-.5, len(results.cost) - .5)\n",
    "    \n",
    "    replace_in_ax(lax, lines['eff'], xs, results['eff_val'].apply(lambda x: x.eff_rate))\n",
    "    replace_in_ax(tax, lines['fp'], xs, results['eff_val'].apply(lambda x: x.fp_rate))\n",
    "    \n",
    "    # Redraw the figure\n",
    "    fig.canvas.draw()\n",
    "\n",
    "    # Save each model state dictionary\n",
    "    torch.save(model.state_dict(), output / f'{name}_{result.epoch}.pyt')"
   ]
  },
  {
   "cell_type": "markdown",
   "metadata": {},
   "source": [
    "# Results\n",
    "\n",
    "Let's save some results: (even though if you have not changed the code above, it saves the model every epoch)"
   ]
  },
  {
   "cell_type": "markdown",
   "metadata": {},
   "source": [
    "Go ahead and save the final model (even though it was also saved above):"
   ]
  },
  {
   "cell_type": "code",
   "execution_count": null,
   "metadata": {},
   "outputs": [],
   "source": [
    "torch.save(model.state_dict(), output / f'{name}_final.pyt')"
   ]
  },
  {
   "cell_type": "markdown",
   "metadata": {},
   "source": [
    "Save the output results:"
   ]
  },
  {
   "cell_type": "code",
   "execution_count": null,
   "metadata": {},
   "outputs": [],
   "source": [
    "results.to_hdf(f'{name}_stats.hdf5', 'results')"
   ]
  },
  {
   "cell_type": "markdown",
   "metadata": {},
   "source": [
    "Save the plot above:"
   ]
  },
  {
   "cell_type": "code",
   "execution_count": null,
   "metadata": {
    "scrolled": false
   },
   "outputs": [],
   "source": [
    "dual_train_plots(results.index,\n",
    "                 results.cost, results.val, \n",
    "                 results['eff_val'].apply(lambda x: x.eff_rate),\n",
    "                 results['eff_val'].apply(lambda x: x.fp_rate))\n",
    "plt.tight_layout()\n",
    "plt.savefig(str(output / f'{name}_stats_a.png'))"
   ]
  },
  {
   "cell_type": "code",
   "execution_count": null,
   "metadata": {},
   "outputs": [],
   "source": [
    "##quit()"
   ]
  }
 ],
 "metadata": {
  "kernelspec": {
   "display_name": "goofit",
   "language": "python",
   "name": "goofit"
  },
  "language_info": {
   "codemirror_mode": {
    "name": "ipython",
    "version": 3
   },
   "file_extension": ".py",
   "mimetype": "text/x-python",
   "name": "python",
   "nbconvert_exporter": "python",
   "pygments_lexer": "ipython3",
   "version": "3.7.6"
  }
 },
 "nbformat": 4,
 "nbformat_minor": 2
}
