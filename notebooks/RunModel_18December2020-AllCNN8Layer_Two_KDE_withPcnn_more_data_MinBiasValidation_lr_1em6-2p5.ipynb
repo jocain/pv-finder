{
 "cells": [
  {
   "cell_type": "code",
   "execution_count": 1,
   "metadata": {},
   "outputs": [],
   "source": [
    "##%matplotlib widget\n",
    "## with %matplotlib notebook: seems to require ipympl as part of environment, either\n",
    "## part of the conda environment or \"pip install ipympl\"\n",
    "## otherwise, does not show ANY plots in notebook, plt.savefig() works\n",
    "%matplotlib notebook  \n",
    "##%matplotlib inline    ## --plt.savefig()  works, but re-sizing does NOT\n",
    "\n"
   ]
  },
  {
   "cell_type": "markdown",
   "metadata": {},
   "source": [
    "This notebook is derived from RunModel_Demo_28November2020-SimpleCNNLayer_Ca which \"worked\", but did not reach as high efficiency as earlier models. Here, the number of hidden convolutional layers is increased by 2 and the number of output channels per layer is increased by using SimpleCNN7Layer_Ca_Two_KDE in place of SimpleCNN5Layer_Ca_Two_KDE\n",
    "\n",
    "The goal is to use two channels of input -- poca_KDE_A and poca_KDE_B to see if this improves the performance of the algorithm, all else being equal.\n",
    "\n",
    "\"withPfc\" denotes using poca_KDE_A_xMax & poca_KDE_A_yMax as perturbative features\n",
    "\n",
    "We use full LHCb MC for both training and validation here, albeit a training sample slightly less than 100K events.\n"
   ]
  },
  {
   "cell_type": "markdown",
   "metadata": {},
   "source": [
    "Check the current GPU usage. Please try to be nice!"
   ]
  },
  {
   "cell_type": "code",
   "execution_count": 2,
   "metadata": {},
   "outputs": [
    {
     "name": "stdout",
     "output_type": "stream",
     "text": [
      "Fri Dec 18 06:54:33 2020       \n",
      "+-----------------------------------------------------------------------------+\n",
      "| NVIDIA-SMI 440.64.00    Driver Version: 440.64.00    CUDA Version: 10.2     |\n",
      "|-------------------------------+----------------------+----------------------+\n",
      "| GPU  Name        Persistence-M| Bus-Id        Disp.A | Volatile Uncorr. ECC |\n",
      "| Fan  Temp  Perf  Pwr:Usage/Cap|         Memory-Usage | GPU-Util  Compute M. |\n",
      "|===============================+======================+======================|\n",
      "|   0  TITAN V             Off  | 00000000:03:00.0 Off |                  N/A |\n",
      "| 28%   38C    P8    24W / 250W |   3221MiB / 12066MiB |      0%      Default |\n",
      "+-------------------------------+----------------------+----------------------+\n",
      "|   1  Tesla P100-PCIE...  Off  | 00000000:83:00.0 Off |                    0 |\n",
      "| N/A   38C    P0    28W / 250W |      0MiB / 16280MiB |      0%      Default |\n",
      "+-------------------------------+----------------------+----------------------+\n",
      "|   2  TITAN V             Off  | 00000000:84:00.0 Off |                  N/A |\n",
      "| 51%   70C    P2   110W / 250W |   3992MiB / 12066MiB |     86%      Default |\n",
      "+-------------------------------+----------------------+----------------------+\n",
      "                                                                               \n",
      "+-----------------------------------------------------------------------------+\n",
      "| Processes:                                                       GPU Memory |\n",
      "|  GPU       PID   Type   Process name                             Usage      |\n",
      "|=============================================================================|\n",
      "|    0     44398      C   /data/conda/envs/goofit/bin/python          3209MiB |\n",
      "|    2      4304      C   ...a/conda/envs/goofit-june2020/bin/python  1629MiB |\n",
      "|    2     37087      C   /data/conda/envs/goofit/bin/python          2351MiB |\n",
      "+-----------------------------------------------------------------------------+\n"
     ]
    }
   ],
   "source": [
    "!nvidia-smi"
   ]
  },
  {
   "cell_type": "markdown",
   "metadata": {},
   "source": [
    "> **WARNING**: The card numbers here are *not* the same as in CUDA. You have been warned."
   ]
  },
  {
   "cell_type": "markdown",
   "metadata": {},
   "source": [
    "## Imports"
   ]
  },
  {
   "cell_type": "code",
   "execution_count": 3,
   "metadata": {},
   "outputs": [],
   "source": [
    "import matplotlib.pyplot as plt\n",
    "import numpy as np\n",
    "import time\n",
    "import torch\n",
    "import pandas as pd\n",
    "\n",
    "# Python 3 standard library\n",
    "from pathlib import Path\n",
    "\n",
    "from torchsummary import summary"
   ]
  },
  {
   "cell_type": "markdown",
   "metadata": {},
   "source": [
    "### Set up local parameters"
   ]
  },
  {
   "cell_type": "code",
   "execution_count": 4,
   "metadata": {},
   "outputs": [],
   "source": [
    "n_epochs = 50\n",
    "\n",
    "# Name is the output file name\n",
    "\n",
    "\n",
    "##  201128  mds\n",
    "##  iter2 follows from iter0 (only last layer weights allowed to be learned)\n",
    "##  due to operator error, the file/folder name was iter1 rather than iter2\n",
    "##  so the labeling is slightly mis-leading.  This is the first iteration\n",
    "##  when all weights are allowed to vary\n",
    "folder = '17December2020_AllCNN8Layer_withPcnn_50epochs_moreDataIter1_lr_1em6_aymm_2p5'\n",
    "name = folder\n",
    "\n",
    "# Make an output folder named \"name\" (change if you want)\n",
    "\n",
    "## Special instructions for those working on goofy at UC\n",
    "## Please be very careful to make sure that your folder\n",
    "## does not live in a subdirectory of your home directory\n",
    "## this disk has very little capacity. Instead, use \n",
    "## a subdirectory in /share/lazy with a symbolic link to\n",
    "## it in this (the notebooks) subdirectory\n",
    "folder = 'ML/' + folder\n",
    "output = Path(folder)\n",
    "\n",
    "\n",
    "# Size of batches\n",
    "batch_size = 128\n",
    "\n",
    "# How fast to learn\n",
    "learning_rate = 1e-6"
   ]
  },
  {
   "cell_type": "markdown",
   "metadata": {},
   "source": [
    "Make the output directory if it does not exist:"
   ]
  },
  {
   "cell_type": "code",
   "execution_count": 5,
   "metadata": {},
   "outputs": [],
   "source": [
    "output.mkdir(exist_ok=True)"
   ]
  },
  {
   "cell_type": "markdown",
   "metadata": {},
   "source": [
    "## Get the helper functions\n",
    "\n",
    "Add the directory with the model\n",
    "definitions to the path so we can import from it:\n",
    "\n",
    "> When you type `import X`,\n",
    "Python searches `sys.path` for a python\n",
    "file named `X.py` to import. So we need to add the model directory to the path."
   ]
  },
  {
   "cell_type": "code",
   "execution_count": 6,
   "metadata": {
    "scrolled": true
   },
   "outputs": [],
   "source": [
    "# From model/collectdata.py\n",
    "from model.collectdata_poca_KDE import collect_data_poca\n",
    "\n",
    "# From model/loss.py\n",
    "##from loss import Loss\n",
    "from model.alt_loss_A import Loss\n",
    "\n",
    "# From model/training.py\n",
    "from model.training import trainNet, select_gpu\n",
    "\n",
    "# From model/models.py\n",
    "##  will start with model from TwoFeatures_CNN6Layer_A in the first instance\n",
    "##  see relevant cell below\n",
    "\n",
    "\n",
    "from model.models_mds_G import AllCNN8Layer_Ca_Two_KDE_withPcnn as Model\n",
    "\n",
    "from model.training import trainNet, select_gpu, Results\n",
    "from model.plots import dual_train_plots, replace_in_ax"
   ]
  },
  {
   "cell_type": "code",
   "execution_count": 7,
   "metadata": {},
   "outputs": [],
   "source": [
    "# This gets built up during the run - do not rerun this cell\n",
    "results = pd.DataFrame([], columns=Results._fields)"
   ]
  },
  {
   "cell_type": "markdown",
   "metadata": {},
   "source": [
    "Set up Torch device configuration. All tensors and model parameters need to know where to be put.\n",
    "This takes a BUS ID number: The BUS ID is the same as the listing at the top of this script."
   ]
  },
  {
   "cell_type": "code",
   "execution_count": 8,
   "metadata": {},
   "outputs": [
    {
     "name": "stdout",
     "output_type": "stream",
     "text": [
      "1 available GPUs (initially using device 0):\n",
      "  0 TITAN V\n"
     ]
    }
   ],
   "source": [
    "device = select_gpu(0)"
   ]
  },
  {
   "cell_type": "markdown",
   "metadata": {},
   "source": [
    "## Loading data\n",
    "\n",
    "Load the dataset, split into parts, then move to device (see `collectdata.py` in the `../model` directory)"
   ]
  },
  {
   "cell_type": "code",
   "execution_count": 9,
   "metadata": {
    "scrolled": true
   },
   "outputs": [
    {
     "name": "stdout",
     "output_type": "stream",
     "text": [
      "Loading data...\n",
      "Loaded dataAA/pv_HLT1CPU_MinBiasMagDown_14Nov.h5 in 19.19 s\n",
      "Loaded dataAA/pv_HLT1CPU_JpsiPhiMagDown_12Dec.h5 in 35.17 s\n",
      "Loaded dataAA/pv_HLT1CPU_D0piMagUp_12Dec.h5 in 33.95 s\n",
      "Loaded dataAA/pv_HLT1CPU_MinBiasMagUp_14Nov.h5 in 18.13 s\n",
      "Constructing 260000 event dataset took 2.835 s\n",
      "Loading data...\n",
      "Loaded dataAA/pv_HLT1CPU_MinBiasMagUp_14Nov.h5 in 17.57 s\n",
      "Constructing 18349 event dataset took 0.1668 s\n"
     ]
    }
   ],
   "source": [
    "## newer vernacular\n",
    "## Training dataset. You can put as many files here as desired.\n",
    "\n",
    "## in this DEMO example we use only one 80K training set -- the model starts with well-trained weights,\n",
    "## and using a smaller training set reduces both the time to load the data and the time to train an epoch\n",
    "##  set the option load_XandXsq = True to use both DKE and KDE^2 as input features\n",
    "##  added dataAA/pv_HLT1CPU_D0piMagUp_12Dec.h5  201212\n",
    "\n",
    "##  pv_HLT1CPU_D0piMagUp_12Dec.h5 + pv_HLT1CPU_MinBiasMagDown_14Nov.h5 contain 138810 events\n",
    "##  pv_HLT1CPU_MinBiasMagUp_14Nov.h5 contains 51349\n",
    "##  choose which to \"load\" and slices to produce 180K event training sample\n",
    "##   and 10159 event validation sample\n",
    "train_loader = collect_data_poca(\n",
    "                              'dataAA/pv_HLT1CPU_MinBiasMagDown_14Nov.h5',\n",
    "                              'dataAA/pv_HLT1CPU_JpsiPhiMagDown_12Dec.h5',\n",
    "                              'dataAA/pv_HLT1CPU_D0piMagUp_12Dec.h5',\n",
    "                              'dataAA/pv_HLT1CPU_MinBiasMagUp_14Nov.h5',\n",
    "                               slice = slice(None,260000),\n",
    "##                             device = device,\n",
    "                             batch_size=batch_size,\n",
    "## if we are using a larger dataset (240K events, with the datasets above, and 11 GB  of GPU memory),\n",
    "## not the dataset will overflow the GPU memory; device=device will allow the data to move back\n",
    "## and forth between the CPU and GPU memory. While this allows use of a larger dataset, it slows\n",
    "## down performance by about 10%.  So comment out when not needed.\n",
    "##                           device=device,\n",
    "                            masking=True, shuffle=True,\n",
    "                            load_XandXsq=False,\n",
    "                            load_A_and_B = True,\n",
    "                            load_xy=True)\n",
    "\n",
    "# Validation dataset. You can slice to reduce the size.\n",
    "## dataAA -> /share/lazy/sokoloff/ML-data_AA/\n",
    "val_loader = collect_data_poca(\n",
    "##                          'dataAA/pv_HLT1CPU_MinBiasMagDown_14Nov.h5',\n",
    "                            'dataAA/pv_HLT1CPU_MinBiasMagUp_14Nov.h5',\n",
    "##                            'dataAA/pv_HLT1CPU_D0piMagUp_12Dec.h5',\n",
    "                          batch_size=batch_size,\n",
    "                          slice=slice(33000,None),\n",
    "##                          device=device,\n",
    "                          masking=True, shuffle=False,\n",
    "                          load_XandXsq=False,\n",
    "                          load_A_and_B = True,\n",
    "                          load_xy=True)"
   ]
  },
  {
   "cell_type": "markdown",
   "metadata": {},
   "source": [
    "# Preparing the model"
   ]
  },
  {
   "cell_type": "markdown",
   "metadata": {},
   "source": [
    "Prepare a model, use multiple GPUs if they are VISIBLE, and move the model to the device."
   ]
  },
  {
   "cell_type": "code",
   "execution_count": 10,
   "metadata": {
    "scrolled": true
   },
   "outputs": [
    {
     "name": "stdout",
     "output_type": "stream",
     "text": [
      "ct, child =  0    Conv1d(2, 25, kernel_size=(25,), stride=(1,), padding=(12,))\n",
      "ct, child =  1    Conv1d(25, 25, kernel_size=(15,), stride=(1,), padding=(7,))\n",
      "ct, child =  2    Conv1d(25, 25, kernel_size=(15,), stride=(1,), padding=(7,))\n",
      "ct, child =  3    Conv1d(25, 25, kernel_size=(15,), stride=(1,), padding=(7,))\n",
      "ct, child =  4    Conv1d(25, 25, kernel_size=(15,), stride=(1,), padding=(7,))\n",
      "ct, child =  5    Conv1d(25, 25, kernel_size=(15,), stride=(1,), padding=(7,))\n",
      "ct, child =  6    Conv1d(25, 1, kernel_size=(5,), stride=(1,), padding=(2,))\n",
      "ct, child =  7    Dropout(p=0.15, inplace=False)\n",
      "ct, child =  8    Dropout(p=0.15, inplace=False)\n",
      "ct, child =  9    Dropout(p=0.15, inplace=False)\n",
      "ct, child =  10    Dropout(p=0.15, inplace=False)\n",
      "ct, child =  11    Dropout(p=0.15, inplace=False)\n",
      "ct, child =  12    Dropout(p=0.15, inplace=False)\n",
      "ct, child =  13    Dropout(p=0.15, inplace=False)\n",
      "ct, child =  14    Linear(in_features=4000, out_features=4000, bias=True)\n",
      "ct, child =  15    Conv1d(1, 1, kernel_size=(91,), stride=(1,), padding=(45,))\n",
      "ct, child =  16    Conv1d(2, 20, kernel_size=(25,), stride=(1,), padding=(12,))\n",
      "ct, child =  17    Conv1d(20, 15, kernel_size=(15,), stride=(1,), padding=(7,))\n",
      "ct, child =  18    Conv1d(15, 1, kernel_size=(5,), stride=(1,), padding=(2,))\n",
      "ct, child =  19    Linear(in_features=4000, out_features=4000, bias=True)\n",
      "ct, child =  20    Conv1d(1, 1, kernel_size=(31,), stride=(1,), padding=(15,))\n"
     ]
    }
   ],
   "source": [
    "model = Model()\n",
    "\n",
    "##summary(model, input_size=(4, 4000))\n",
    "##print(model.parameters)\n",
    "\n",
    "## add the following code to allow the user to freeze the some of the weights corresponding \n",
    "## to those taken from an earlier model trained with the original target histograms\n",
    "## presumably -- this leaves either the perturbative filter \"fixed\" and lets the \n",
    "## learning focus on the non-perturbative features, so get started faster, or vice versa\n",
    "ct = 0\n",
    "for child in model.children():\n",
    "  print('ct, child = ',ct, \"  \", child)\n",
    "  if ct < 0:\n",
    "    print(\"     About to set param.requires_grad=False for ct = \", ct, \"params\")\n",
    "    for param in child.parameters():\n",
    "        param.requires_grad = False \n",
    "  ct += 1\n",
    "##  mds 200121 loss = Loss(epsilon=1e-5,coefficient=1.0)\n",
    "loss = Loss(epsilon=1e-5,coefficient=2.5)\n",
    "optimizer = torch.optim.Adam(model.parameters(), lr=learning_rate)"
   ]
  },
  {
   "cell_type": "code",
   "execution_count": 11,
   "metadata": {
    "scrolled": true
   },
   "outputs": [
    {
     "name": "stdout",
     "output_type": "stream",
     "text": [
      "Let's use 1 GPUs!\n"
     ]
    }
   ],
   "source": [
    "print(\"Let's use\", torch.cuda.device_count(), \"GPUs!\")\n",
    "if torch.cuda.device_count() > 1:\n",
    "    model = torch.nn.DataParallel(model)"
   ]
  },
  {
   "cell_type": "markdown",
   "metadata": {},
   "source": [
    "Let's move the model's weight matricies to the GPU:"
   ]
  },
  {
   "cell_type": "code",
   "execution_count": 12,
   "metadata": {},
   "outputs": [
    {
     "name": "stdout",
     "output_type": "stream",
     "text": [
      "dictName =  ML/17December2020_AllCNN8Layer_withPcnn_200epochs_moreDataIter1_lr_1em6_aymm_1p0_majorTesting/17December2020_AllCNN8Layer_withPcnn_200epochs_moreDataIter1_lr_1em6_aymm_1p0_majorTesting_final.pyt\n",
      "for model_dict\n",
      "index, k =   0    conv1.weight\n",
      "index, k =   1    conv1.bias\n",
      "index, k =   2    conv2.weight\n",
      "index, k =   3    conv2.bias\n",
      "index, k =   4    conv3.weight\n",
      "index, k =   5    conv3.bias\n",
      "index, k =   6    conv4.weight\n",
      "index, k =   7    conv4.bias\n",
      "index, k =   8    conv5.weight\n",
      "index, k =   9    conv5.bias\n",
      "index, k =   10    conv6.weight\n",
      "index, k =   11    conv6.bias\n",
      "index, k =   12    conv7.weight\n",
      "index, k =   13    conv7.bias\n",
      "index, k =   14    fc1.weight\n",
      "index, k =   15    fc1.bias\n",
      "index, k =   16    finalFilter.weight\n",
      "index, k =   17    finalFilter.bias\n",
      "index, k =   18    ppConv1.weight\n",
      "index, k =   19    ppConv1.bias\n",
      "index, k =   20    ppConv2.weight\n",
      "index, k =   21    ppConv2.bias\n",
      "index, k =   22    ppConv3.weight\n",
      "index, k =   23    ppConv3.bias\n",
      "index, k =   24    ppFc1.weight\n",
      "index, k =   25    ppFc1.bias\n",
      "index, k =   26    ppFinalFilter.weight\n",
      "index, k =   27    ppFinalFilter.bias\n",
      " \n",
      "   for pretrained_dict\n",
      "index, k =   0    conv1.weight\n",
      "index, k =   1    conv1.bias\n",
      "index, k =   2    conv2.weight\n",
      "index, k =   3    conv2.bias\n",
      "index, k =   4    conv3.weight\n",
      "index, k =   5    conv3.bias\n",
      "index, k =   6    conv4.weight\n",
      "index, k =   7    conv4.bias\n",
      "index, k =   8    conv5.weight\n",
      "index, k =   9    conv5.bias\n",
      "index, k =   10    conv6.weight\n",
      "index, k =   11    conv6.bias\n",
      "index, k =   12    conv7.weight\n",
      "index, k =   13    conv7.bias\n",
      "index, k =   14    fc1.weight\n",
      "index, k =   15    fc1.bias\n",
      "index, k =   16    finalFilter.weight\n",
      "index, k =   17    finalFilter.bias\n",
      "index, k =   18    ppConv1.weight\n",
      "index, k =   19    ppConv1.bias\n",
      "index, k =   20    ppConv2.weight\n",
      "index, k =   21    ppConv2.bias\n",
      "index, k =   22    ppConv3.weight\n",
      "index, k =   23    ppConv3.bias\n",
      "index, k =   24    ppFc1.weight\n",
      "index, k =   25    ppFc1.bias\n",
      "index, k =   26    ppFinalFilter.weight\n",
      "index, k =   27    ppFinalFilter.bias\n",
      "model_dict instantiated\n"
     ]
    },
    {
     "data": {
      "text/plain": [
       "<All keys matched successfully>"
      ]
     },
     "execution_count": 12,
     "metadata": {},
     "output_type": "execute_result"
    }
   ],
   "source": [
    "##print('output = ',output)\n",
    "##print('oldOutput = ',oldOutput)\n",
    "##  use the first four layers from a pre-existing model\n",
    "##  see example at https://discuss.pytorch.org/t/how-to-load-part-of-pre-trained-model/1113\n",
    "\n",
    "##   ML -> /share/lazy/sokoloff/ML\n",
    "## not that m1p0 in file name is mis-leading  201212\n",
    "oldName = '17December2020_AllCNN8Layer_withPcnn_200epochs_moreDataIter1_lr_1em6_aymm_1p0_majorTesting'\n",
    "oldFolder = oldName\n",
    "suffix = 'final'\n",
    "dictName = 'ML/'+oldFolder+'/'+oldName+'_'+suffix+'.pyt'\n",
    "print('dictName = ',dictName)\n",
    "pretrained_dict = torch.load(dictName)\n",
    "model_dict = model.state_dict()\n",
    "## mds 190725 for debugging\n",
    "print(\"for model_dict\")\n",
    "index = 0\n",
    "for k,v in model_dict.items():\n",
    "    print(\"index, k =  \",index,\"  \",k)\n",
    "    index = index+1\n",
    "    \n",
    "print(\" \\n\",\"  for pretrained_dict\")\n",
    "index = 0\n",
    "for k,v in pretrained_dict.items():\n",
    "    print(\"index, k =  \",index,\"  \",k)\n",
    "    index = index+1\n",
    "## mds  \n",
    "\n",
    "print(\"model_dict instantiated\")\n",
    "# 1. filter out unnecessary keys\n",
    "pretrained_dict = {k: v for k, v in pretrained_dict.items() if k in model_dict}\n",
    "## print(\"pretrained_dict iterated\")\n",
    "# 2. overwrite entries in the existing state dict\n",
    "model_dict.update(pretrained_dict) \n",
    "##\n",
    "#   when starting from a model with a fully connected last layer rather than a convolutional layer\n",
    "# 3. load the new state dict\n",
    "#   need to use strict=False as the two models state model attributes do not agree exactly\n",
    "#   see https://pytorch.org/docs/master/_modules/torch/nn/modules/module.html#Module.load_state_dict\n",
    "\n",
    "model.load_state_dict(pretrained_dict,strict=False)\n",
    "\n",
    "## print('model_dict =    ', model_dict)\n"
   ]
  },
  {
   "cell_type": "code",
   "execution_count": 13,
   "metadata": {
    "scrolled": true
   },
   "outputs": [],
   "source": [
    "model = model.to(device)"
   ]
  },
  {
   "cell_type": "markdown",
   "metadata": {},
   "source": [
    "## Train \n",
    "\n",
    "\n",
    "\n",
    "The body of this loop runs once per epoch. Results is a named tuple of values (loss per epoch for training and validation, time each). Start by setting up a plot first:"
   ]
  },
  {
   "cell_type": "code",
   "execution_count": 14,
   "metadata": {
    "scrolled": false
   },
   "outputs": [
    {
     "data": {
      "application/javascript": [
       "/* Put everything inside the global mpl namespace */\n",
       "window.mpl = {};\n",
       "\n",
       "\n",
       "mpl.get_websocket_type = function() {\n",
       "    if (typeof(WebSocket) !== 'undefined') {\n",
       "        return WebSocket;\n",
       "    } else if (typeof(MozWebSocket) !== 'undefined') {\n",
       "        return MozWebSocket;\n",
       "    } else {\n",
       "        alert('Your browser does not have WebSocket support. ' +\n",
       "              'Please try Chrome, Safari or Firefox ≥ 6. ' +\n",
       "              'Firefox 4 and 5 are also supported but you ' +\n",
       "              'have to enable WebSockets in about:config.');\n",
       "    };\n",
       "}\n",
       "\n",
       "mpl.figure = function(figure_id, websocket, ondownload, parent_element) {\n",
       "    this.id = figure_id;\n",
       "\n",
       "    this.ws = websocket;\n",
       "\n",
       "    this.supports_binary = (this.ws.binaryType != undefined);\n",
       "\n",
       "    if (!this.supports_binary) {\n",
       "        var warnings = document.getElementById(\"mpl-warnings\");\n",
       "        if (warnings) {\n",
       "            warnings.style.display = 'block';\n",
       "            warnings.textContent = (\n",
       "                \"This browser does not support binary websocket messages. \" +\n",
       "                    \"Performance may be slow.\");\n",
       "        }\n",
       "    }\n",
       "\n",
       "    this.imageObj = new Image();\n",
       "\n",
       "    this.context = undefined;\n",
       "    this.message = undefined;\n",
       "    this.canvas = undefined;\n",
       "    this.rubberband_canvas = undefined;\n",
       "    this.rubberband_context = undefined;\n",
       "    this.format_dropdown = undefined;\n",
       "\n",
       "    this.image_mode = 'full';\n",
       "\n",
       "    this.root = $('<div/>');\n",
       "    this._root_extra_style(this.root)\n",
       "    this.root.attr('style', 'display: inline-block');\n",
       "\n",
       "    $(parent_element).append(this.root);\n",
       "\n",
       "    this._init_header(this);\n",
       "    this._init_canvas(this);\n",
       "    this._init_toolbar(this);\n",
       "\n",
       "    var fig = this;\n",
       "\n",
       "    this.waiting = false;\n",
       "\n",
       "    this.ws.onopen =  function () {\n",
       "            fig.send_message(\"supports_binary\", {value: fig.supports_binary});\n",
       "            fig.send_message(\"send_image_mode\", {});\n",
       "            if (mpl.ratio != 1) {\n",
       "                fig.send_message(\"set_dpi_ratio\", {'dpi_ratio': mpl.ratio});\n",
       "            }\n",
       "            fig.send_message(\"refresh\", {});\n",
       "        }\n",
       "\n",
       "    this.imageObj.onload = function() {\n",
       "            if (fig.image_mode == 'full') {\n",
       "                // Full images could contain transparency (where diff images\n",
       "                // almost always do), so we need to clear the canvas so that\n",
       "                // there is no ghosting.\n",
       "                fig.context.clearRect(0, 0, fig.canvas.width, fig.canvas.height);\n",
       "            }\n",
       "            fig.context.drawImage(fig.imageObj, 0, 0);\n",
       "        };\n",
       "\n",
       "    this.imageObj.onunload = function() {\n",
       "        fig.ws.close();\n",
       "    }\n",
       "\n",
       "    this.ws.onmessage = this._make_on_message_function(this);\n",
       "\n",
       "    this.ondownload = ondownload;\n",
       "}\n",
       "\n",
       "mpl.figure.prototype._init_header = function() {\n",
       "    var titlebar = $(\n",
       "        '<div class=\"ui-dialog-titlebar ui-widget-header ui-corner-all ' +\n",
       "        'ui-helper-clearfix\"/>');\n",
       "    var titletext = $(\n",
       "        '<div class=\"ui-dialog-title\" style=\"width: 100%; ' +\n",
       "        'text-align: center; padding: 3px;\"/>');\n",
       "    titlebar.append(titletext)\n",
       "    this.root.append(titlebar);\n",
       "    this.header = titletext[0];\n",
       "}\n",
       "\n",
       "\n",
       "\n",
       "mpl.figure.prototype._canvas_extra_style = function(canvas_div) {\n",
       "\n",
       "}\n",
       "\n",
       "\n",
       "mpl.figure.prototype._root_extra_style = function(canvas_div) {\n",
       "\n",
       "}\n",
       "\n",
       "mpl.figure.prototype._init_canvas = function() {\n",
       "    var fig = this;\n",
       "\n",
       "    var canvas_div = $('<div/>');\n",
       "\n",
       "    canvas_div.attr('style', 'position: relative; clear: both; outline: 0');\n",
       "\n",
       "    function canvas_keyboard_event(event) {\n",
       "        return fig.key_event(event, event['data']);\n",
       "    }\n",
       "\n",
       "    canvas_div.keydown('key_press', canvas_keyboard_event);\n",
       "    canvas_div.keyup('key_release', canvas_keyboard_event);\n",
       "    this.canvas_div = canvas_div\n",
       "    this._canvas_extra_style(canvas_div)\n",
       "    this.root.append(canvas_div);\n",
       "\n",
       "    var canvas = $('<canvas/>');\n",
       "    canvas.addClass('mpl-canvas');\n",
       "    canvas.attr('style', \"left: 0; top: 0; z-index: 0; outline: 0\")\n",
       "\n",
       "    this.canvas = canvas[0];\n",
       "    this.context = canvas[0].getContext(\"2d\");\n",
       "\n",
       "    var backingStore = this.context.backingStorePixelRatio ||\n",
       "\tthis.context.webkitBackingStorePixelRatio ||\n",
       "\tthis.context.mozBackingStorePixelRatio ||\n",
       "\tthis.context.msBackingStorePixelRatio ||\n",
       "\tthis.context.oBackingStorePixelRatio ||\n",
       "\tthis.context.backingStorePixelRatio || 1;\n",
       "\n",
       "    mpl.ratio = (window.devicePixelRatio || 1) / backingStore;\n",
       "\n",
       "    var rubberband = $('<canvas/>');\n",
       "    rubberband.attr('style', \"position: absolute; left: 0; top: 0; z-index: 1;\")\n",
       "\n",
       "    var pass_mouse_events = true;\n",
       "\n",
       "    canvas_div.resizable({\n",
       "        start: function(event, ui) {\n",
       "            pass_mouse_events = false;\n",
       "        },\n",
       "        resize: function(event, ui) {\n",
       "            fig.request_resize(ui.size.width, ui.size.height);\n",
       "        },\n",
       "        stop: function(event, ui) {\n",
       "            pass_mouse_events = true;\n",
       "            fig.request_resize(ui.size.width, ui.size.height);\n",
       "        },\n",
       "    });\n",
       "\n",
       "    function mouse_event_fn(event) {\n",
       "        if (pass_mouse_events)\n",
       "            return fig.mouse_event(event, event['data']);\n",
       "    }\n",
       "\n",
       "    rubberband.mousedown('button_press', mouse_event_fn);\n",
       "    rubberband.mouseup('button_release', mouse_event_fn);\n",
       "    // Throttle sequential mouse events to 1 every 20ms.\n",
       "    rubberband.mousemove('motion_notify', mouse_event_fn);\n",
       "\n",
       "    rubberband.mouseenter('figure_enter', mouse_event_fn);\n",
       "    rubberband.mouseleave('figure_leave', mouse_event_fn);\n",
       "\n",
       "    canvas_div.on(\"wheel\", function (event) {\n",
       "        event = event.originalEvent;\n",
       "        event['data'] = 'scroll'\n",
       "        if (event.deltaY < 0) {\n",
       "            event.step = 1;\n",
       "        } else {\n",
       "            event.step = -1;\n",
       "        }\n",
       "        mouse_event_fn(event);\n",
       "    });\n",
       "\n",
       "    canvas_div.append(canvas);\n",
       "    canvas_div.append(rubberband);\n",
       "\n",
       "    this.rubberband = rubberband;\n",
       "    this.rubberband_canvas = rubberband[0];\n",
       "    this.rubberband_context = rubberband[0].getContext(\"2d\");\n",
       "    this.rubberband_context.strokeStyle = \"#000000\";\n",
       "\n",
       "    this._resize_canvas = function(width, height) {\n",
       "        // Keep the size of the canvas, canvas container, and rubber band\n",
       "        // canvas in synch.\n",
       "        canvas_div.css('width', width)\n",
       "        canvas_div.css('height', height)\n",
       "\n",
       "        canvas.attr('width', width * mpl.ratio);\n",
       "        canvas.attr('height', height * mpl.ratio);\n",
       "        canvas.attr('style', 'width: ' + width + 'px; height: ' + height + 'px;');\n",
       "\n",
       "        rubberband.attr('width', width);\n",
       "        rubberband.attr('height', height);\n",
       "    }\n",
       "\n",
       "    // Set the figure to an initial 600x600px, this will subsequently be updated\n",
       "    // upon first draw.\n",
       "    this._resize_canvas(600, 600);\n",
       "\n",
       "    // Disable right mouse context menu.\n",
       "    $(this.rubberband_canvas).bind(\"contextmenu\",function(e){\n",
       "        return false;\n",
       "    });\n",
       "\n",
       "    function set_focus () {\n",
       "        canvas.focus();\n",
       "        canvas_div.focus();\n",
       "    }\n",
       "\n",
       "    window.setTimeout(set_focus, 100);\n",
       "}\n",
       "\n",
       "mpl.figure.prototype._init_toolbar = function() {\n",
       "    var fig = this;\n",
       "\n",
       "    var nav_element = $('<div/>');\n",
       "    nav_element.attr('style', 'width: 100%');\n",
       "    this.root.append(nav_element);\n",
       "\n",
       "    // Define a callback function for later on.\n",
       "    function toolbar_event(event) {\n",
       "        return fig.toolbar_button_onclick(event['data']);\n",
       "    }\n",
       "    function toolbar_mouse_event(event) {\n",
       "        return fig.toolbar_button_onmouseover(event['data']);\n",
       "    }\n",
       "\n",
       "    for(var toolbar_ind in mpl.toolbar_items) {\n",
       "        var name = mpl.toolbar_items[toolbar_ind][0];\n",
       "        var tooltip = mpl.toolbar_items[toolbar_ind][1];\n",
       "        var image = mpl.toolbar_items[toolbar_ind][2];\n",
       "        var method_name = mpl.toolbar_items[toolbar_ind][3];\n",
       "\n",
       "        if (!name) {\n",
       "            // put a spacer in here.\n",
       "            continue;\n",
       "        }\n",
       "        var button = $('<button/>');\n",
       "        button.addClass('ui-button ui-widget ui-state-default ui-corner-all ' +\n",
       "                        'ui-button-icon-only');\n",
       "        button.attr('role', 'button');\n",
       "        button.attr('aria-disabled', 'false');\n",
       "        button.click(method_name, toolbar_event);\n",
       "        button.mouseover(tooltip, toolbar_mouse_event);\n",
       "\n",
       "        var icon_img = $('<span/>');\n",
       "        icon_img.addClass('ui-button-icon-primary ui-icon');\n",
       "        icon_img.addClass(image);\n",
       "        icon_img.addClass('ui-corner-all');\n",
       "\n",
       "        var tooltip_span = $('<span/>');\n",
       "        tooltip_span.addClass('ui-button-text');\n",
       "        tooltip_span.html(tooltip);\n",
       "\n",
       "        button.append(icon_img);\n",
       "        button.append(tooltip_span);\n",
       "\n",
       "        nav_element.append(button);\n",
       "    }\n",
       "\n",
       "    var fmt_picker_span = $('<span/>');\n",
       "\n",
       "    var fmt_picker = $('<select/>');\n",
       "    fmt_picker.addClass('mpl-toolbar-option ui-widget ui-widget-content');\n",
       "    fmt_picker_span.append(fmt_picker);\n",
       "    nav_element.append(fmt_picker_span);\n",
       "    this.format_dropdown = fmt_picker[0];\n",
       "\n",
       "    for (var ind in mpl.extensions) {\n",
       "        var fmt = mpl.extensions[ind];\n",
       "        var option = $(\n",
       "            '<option/>', {selected: fmt === mpl.default_extension}).html(fmt);\n",
       "        fmt_picker.append(option);\n",
       "    }\n",
       "\n",
       "    // Add hover states to the ui-buttons\n",
       "    $( \".ui-button\" ).hover(\n",
       "        function() { $(this).addClass(\"ui-state-hover\");},\n",
       "        function() { $(this).removeClass(\"ui-state-hover\");}\n",
       "    );\n",
       "\n",
       "    var status_bar = $('<span class=\"mpl-message\"/>');\n",
       "    nav_element.append(status_bar);\n",
       "    this.message = status_bar[0];\n",
       "}\n",
       "\n",
       "mpl.figure.prototype.request_resize = function(x_pixels, y_pixels) {\n",
       "    // Request matplotlib to resize the figure. Matplotlib will then trigger a resize in the client,\n",
       "    // which will in turn request a refresh of the image.\n",
       "    this.send_message('resize', {'width': x_pixels, 'height': y_pixels});\n",
       "}\n",
       "\n",
       "mpl.figure.prototype.send_message = function(type, properties) {\n",
       "    properties['type'] = type;\n",
       "    properties['figure_id'] = this.id;\n",
       "    this.ws.send(JSON.stringify(properties));\n",
       "}\n",
       "\n",
       "mpl.figure.prototype.send_draw_message = function() {\n",
       "    if (!this.waiting) {\n",
       "        this.waiting = true;\n",
       "        this.ws.send(JSON.stringify({type: \"draw\", figure_id: this.id}));\n",
       "    }\n",
       "}\n",
       "\n",
       "\n",
       "mpl.figure.prototype.handle_save = function(fig, msg) {\n",
       "    var format_dropdown = fig.format_dropdown;\n",
       "    var format = format_dropdown.options[format_dropdown.selectedIndex].value;\n",
       "    fig.ondownload(fig, format);\n",
       "}\n",
       "\n",
       "\n",
       "mpl.figure.prototype.handle_resize = function(fig, msg) {\n",
       "    var size = msg['size'];\n",
       "    if (size[0] != fig.canvas.width || size[1] != fig.canvas.height) {\n",
       "        fig._resize_canvas(size[0], size[1]);\n",
       "        fig.send_message(\"refresh\", {});\n",
       "    };\n",
       "}\n",
       "\n",
       "mpl.figure.prototype.handle_rubberband = function(fig, msg) {\n",
       "    var x0 = msg['x0'] / mpl.ratio;\n",
       "    var y0 = (fig.canvas.height - msg['y0']) / mpl.ratio;\n",
       "    var x1 = msg['x1'] / mpl.ratio;\n",
       "    var y1 = (fig.canvas.height - msg['y1']) / mpl.ratio;\n",
       "    x0 = Math.floor(x0) + 0.5;\n",
       "    y0 = Math.floor(y0) + 0.5;\n",
       "    x1 = Math.floor(x1) + 0.5;\n",
       "    y1 = Math.floor(y1) + 0.5;\n",
       "    var min_x = Math.min(x0, x1);\n",
       "    var min_y = Math.min(y0, y1);\n",
       "    var width = Math.abs(x1 - x0);\n",
       "    var height = Math.abs(y1 - y0);\n",
       "\n",
       "    fig.rubberband_context.clearRect(\n",
       "        0, 0, fig.canvas.width / mpl.ratio, fig.canvas.height / mpl.ratio);\n",
       "\n",
       "    fig.rubberband_context.strokeRect(min_x, min_y, width, height);\n",
       "}\n",
       "\n",
       "mpl.figure.prototype.handle_figure_label = function(fig, msg) {\n",
       "    // Updates the figure title.\n",
       "    fig.header.textContent = msg['label'];\n",
       "}\n",
       "\n",
       "mpl.figure.prototype.handle_cursor = function(fig, msg) {\n",
       "    var cursor = msg['cursor'];\n",
       "    switch(cursor)\n",
       "    {\n",
       "    case 0:\n",
       "        cursor = 'pointer';\n",
       "        break;\n",
       "    case 1:\n",
       "        cursor = 'default';\n",
       "        break;\n",
       "    case 2:\n",
       "        cursor = 'crosshair';\n",
       "        break;\n",
       "    case 3:\n",
       "        cursor = 'move';\n",
       "        break;\n",
       "    }\n",
       "    fig.rubberband_canvas.style.cursor = cursor;\n",
       "}\n",
       "\n",
       "mpl.figure.prototype.handle_message = function(fig, msg) {\n",
       "    fig.message.textContent = msg['message'];\n",
       "}\n",
       "\n",
       "mpl.figure.prototype.handle_draw = function(fig, msg) {\n",
       "    // Request the server to send over a new figure.\n",
       "    fig.send_draw_message();\n",
       "}\n",
       "\n",
       "mpl.figure.prototype.handle_image_mode = function(fig, msg) {\n",
       "    fig.image_mode = msg['mode'];\n",
       "}\n",
       "\n",
       "mpl.figure.prototype.updated_canvas_event = function() {\n",
       "    // Called whenever the canvas gets updated.\n",
       "    this.send_message(\"ack\", {});\n",
       "}\n",
       "\n",
       "// A function to construct a web socket function for onmessage handling.\n",
       "// Called in the figure constructor.\n",
       "mpl.figure.prototype._make_on_message_function = function(fig) {\n",
       "    return function socket_on_message(evt) {\n",
       "        if (evt.data instanceof Blob) {\n",
       "            /* FIXME: We get \"Resource interpreted as Image but\n",
       "             * transferred with MIME type text/plain:\" errors on\n",
       "             * Chrome.  But how to set the MIME type?  It doesn't seem\n",
       "             * to be part of the websocket stream */\n",
       "            evt.data.type = \"image/png\";\n",
       "\n",
       "            /* Free the memory for the previous frames */\n",
       "            if (fig.imageObj.src) {\n",
       "                (window.URL || window.webkitURL).revokeObjectURL(\n",
       "                    fig.imageObj.src);\n",
       "            }\n",
       "\n",
       "            fig.imageObj.src = (window.URL || window.webkitURL).createObjectURL(\n",
       "                evt.data);\n",
       "            fig.updated_canvas_event();\n",
       "            fig.waiting = false;\n",
       "            return;\n",
       "        }\n",
       "        else if (typeof evt.data === 'string' && evt.data.slice(0, 21) == \"data:image/png;base64\") {\n",
       "            fig.imageObj.src = evt.data;\n",
       "            fig.updated_canvas_event();\n",
       "            fig.waiting = false;\n",
       "            return;\n",
       "        }\n",
       "\n",
       "        var msg = JSON.parse(evt.data);\n",
       "        var msg_type = msg['type'];\n",
       "\n",
       "        // Call the  \"handle_{type}\" callback, which takes\n",
       "        // the figure and JSON message as its only arguments.\n",
       "        try {\n",
       "            var callback = fig[\"handle_\" + msg_type];\n",
       "        } catch (e) {\n",
       "            console.log(\"No handler for the '\" + msg_type + \"' message type: \", msg);\n",
       "            return;\n",
       "        }\n",
       "\n",
       "        if (callback) {\n",
       "            try {\n",
       "                // console.log(\"Handling '\" + msg_type + \"' message: \", msg);\n",
       "                callback(fig, msg);\n",
       "            } catch (e) {\n",
       "                console.log(\"Exception inside the 'handler_\" + msg_type + \"' callback:\", e, e.stack, msg);\n",
       "            }\n",
       "        }\n",
       "    };\n",
       "}\n",
       "\n",
       "// from http://stackoverflow.com/questions/1114465/getting-mouse-location-in-canvas\n",
       "mpl.findpos = function(e) {\n",
       "    //this section is from http://www.quirksmode.org/js/events_properties.html\n",
       "    var targ;\n",
       "    if (!e)\n",
       "        e = window.event;\n",
       "    if (e.target)\n",
       "        targ = e.target;\n",
       "    else if (e.srcElement)\n",
       "        targ = e.srcElement;\n",
       "    if (targ.nodeType == 3) // defeat Safari bug\n",
       "        targ = targ.parentNode;\n",
       "\n",
       "    // jQuery normalizes the pageX and pageY\n",
       "    // pageX,Y are the mouse positions relative to the document\n",
       "    // offset() returns the position of the element relative to the document\n",
       "    var x = e.pageX - $(targ).offset().left;\n",
       "    var y = e.pageY - $(targ).offset().top;\n",
       "\n",
       "    return {\"x\": x, \"y\": y};\n",
       "};\n",
       "\n",
       "/*\n",
       " * return a copy of an object with only non-object keys\n",
       " * we need this to avoid circular references\n",
       " * http://stackoverflow.com/a/24161582/3208463\n",
       " */\n",
       "function simpleKeys (original) {\n",
       "  return Object.keys(original).reduce(function (obj, key) {\n",
       "    if (typeof original[key] !== 'object')\n",
       "        obj[key] = original[key]\n",
       "    return obj;\n",
       "  }, {});\n",
       "}\n",
       "\n",
       "mpl.figure.prototype.mouse_event = function(event, name) {\n",
       "    var canvas_pos = mpl.findpos(event)\n",
       "\n",
       "    if (name === 'button_press')\n",
       "    {\n",
       "        this.canvas.focus();\n",
       "        this.canvas_div.focus();\n",
       "    }\n",
       "\n",
       "    var x = canvas_pos.x * mpl.ratio;\n",
       "    var y = canvas_pos.y * mpl.ratio;\n",
       "\n",
       "    this.send_message(name, {x: x, y: y, button: event.button,\n",
       "                             step: event.step,\n",
       "                             guiEvent: simpleKeys(event)});\n",
       "\n",
       "    /* This prevents the web browser from automatically changing to\n",
       "     * the text insertion cursor when the button is pressed.  We want\n",
       "     * to control all of the cursor setting manually through the\n",
       "     * 'cursor' event from matplotlib */\n",
       "    event.preventDefault();\n",
       "    return false;\n",
       "}\n",
       "\n",
       "mpl.figure.prototype._key_event_extra = function(event, name) {\n",
       "    // Handle any extra behaviour associated with a key event\n",
       "}\n",
       "\n",
       "mpl.figure.prototype.key_event = function(event, name) {\n",
       "\n",
       "    // Prevent repeat events\n",
       "    if (name == 'key_press')\n",
       "    {\n",
       "        if (event.which === this._key)\n",
       "            return;\n",
       "        else\n",
       "            this._key = event.which;\n",
       "    }\n",
       "    if (name == 'key_release')\n",
       "        this._key = null;\n",
       "\n",
       "    var value = '';\n",
       "    if (event.ctrlKey && event.which != 17)\n",
       "        value += \"ctrl+\";\n",
       "    if (event.altKey && event.which != 18)\n",
       "        value += \"alt+\";\n",
       "    if (event.shiftKey && event.which != 16)\n",
       "        value += \"shift+\";\n",
       "\n",
       "    value += 'k';\n",
       "    value += event.which.toString();\n",
       "\n",
       "    this._key_event_extra(event, name);\n",
       "\n",
       "    this.send_message(name, {key: value,\n",
       "                             guiEvent: simpleKeys(event)});\n",
       "    return false;\n",
       "}\n",
       "\n",
       "mpl.figure.prototype.toolbar_button_onclick = function(name) {\n",
       "    if (name == 'download') {\n",
       "        this.handle_save(this, null);\n",
       "    } else {\n",
       "        this.send_message(\"toolbar_button\", {name: name});\n",
       "    }\n",
       "};\n",
       "\n",
       "mpl.figure.prototype.toolbar_button_onmouseover = function(tooltip) {\n",
       "    this.message.textContent = tooltip;\n",
       "};\n",
       "mpl.toolbar_items = [[\"Home\", \"Reset original view\", \"fa fa-home icon-home\", \"home\"], [\"Back\", \"Back to previous view\", \"fa fa-arrow-left icon-arrow-left\", \"back\"], [\"Forward\", \"Forward to next view\", \"fa fa-arrow-right icon-arrow-right\", \"forward\"], [\"\", \"\", \"\", \"\"], [\"Pan\", \"Pan axes with left mouse, zoom with right\", \"fa fa-arrows icon-move\", \"pan\"], [\"Zoom\", \"Zoom to rectangle\", \"fa fa-square-o icon-check-empty\", \"zoom\"], [\"\", \"\", \"\", \"\"], [\"Download\", \"Download plot\", \"fa fa-floppy-o icon-save\", \"download\"]];\n",
       "\n",
       "mpl.extensions = [\"eps\", \"jpeg\", \"pdf\", \"png\", \"ps\", \"raw\", \"svg\", \"tif\"];\n",
       "\n",
       "mpl.default_extension = \"png\";var comm_websocket_adapter = function(comm) {\n",
       "    // Create a \"websocket\"-like object which calls the given IPython comm\n",
       "    // object with the appropriate methods. Currently this is a non binary\n",
       "    // socket, so there is still some room for performance tuning.\n",
       "    var ws = {};\n",
       "\n",
       "    ws.close = function() {\n",
       "        comm.close()\n",
       "    };\n",
       "    ws.send = function(m) {\n",
       "        //console.log('sending', m);\n",
       "        comm.send(m);\n",
       "    };\n",
       "    // Register the callback with on_msg.\n",
       "    comm.on_msg(function(msg) {\n",
       "        //console.log('receiving', msg['content']['data'], msg);\n",
       "        // Pass the mpl event to the overridden (by mpl) onmessage function.\n",
       "        ws.onmessage(msg['content']['data'])\n",
       "    });\n",
       "    return ws;\n",
       "}\n",
       "\n",
       "mpl.mpl_figure_comm = function(comm, msg) {\n",
       "    // This is the function which gets called when the mpl process\n",
       "    // starts-up an IPython Comm through the \"matplotlib\" channel.\n",
       "\n",
       "    var id = msg.content.data.id;\n",
       "    // Get hold of the div created by the display call when the Comm\n",
       "    // socket was opened in Python.\n",
       "    var element = $(\"#\" + id);\n",
       "    var ws_proxy = comm_websocket_adapter(comm)\n",
       "\n",
       "    function ondownload(figure, format) {\n",
       "        window.open(figure.imageObj.src);\n",
       "    }\n",
       "\n",
       "    var fig = new mpl.figure(id, ws_proxy,\n",
       "                           ondownload,\n",
       "                           element.get(0));\n",
       "\n",
       "    // Call onopen now - mpl needs it, as it is assuming we've passed it a real\n",
       "    // web socket which is closed, not our websocket->open comm proxy.\n",
       "    ws_proxy.onopen();\n",
       "\n",
       "    fig.parent_element = element.get(0);\n",
       "    fig.cell_info = mpl.find_output_cell(\"<div id='\" + id + \"'></div>\");\n",
       "    if (!fig.cell_info) {\n",
       "        console.error(\"Failed to find cell for figure\", id, fig);\n",
       "        return;\n",
       "    }\n",
       "\n",
       "    var output_index = fig.cell_info[2]\n",
       "    var cell = fig.cell_info[0];\n",
       "\n",
       "};\n",
       "\n",
       "mpl.figure.prototype.handle_close = function(fig, msg) {\n",
       "    var width = fig.canvas.width/mpl.ratio\n",
       "    fig.root.unbind('remove')\n",
       "\n",
       "    // Update the output cell to use the data from the current canvas.\n",
       "    fig.push_to_output();\n",
       "    var dataURL = fig.canvas.toDataURL();\n",
       "    // Re-enable the keyboard manager in IPython - without this line, in FF,\n",
       "    // the notebook keyboard shortcuts fail.\n",
       "    IPython.keyboard_manager.enable()\n",
       "    $(fig.parent_element).html('<img src=\"' + dataURL + '\" width=\"' + width + '\">');\n",
       "    fig.close_ws(fig, msg);\n",
       "}\n",
       "\n",
       "mpl.figure.prototype.close_ws = function(fig, msg){\n",
       "    fig.send_message('closing', msg);\n",
       "    // fig.ws.close()\n",
       "}\n",
       "\n",
       "mpl.figure.prototype.push_to_output = function(remove_interactive) {\n",
       "    // Turn the data on the canvas into data in the output cell.\n",
       "    var width = this.canvas.width/mpl.ratio\n",
       "    var dataURL = this.canvas.toDataURL();\n",
       "    this.cell_info[1]['text/html'] = '<img src=\"' + dataURL + '\" width=\"' + width + '\">';\n",
       "}\n",
       "\n",
       "mpl.figure.prototype.updated_canvas_event = function() {\n",
       "    // Tell IPython that the notebook contents must change.\n",
       "    IPython.notebook.set_dirty(true);\n",
       "    this.send_message(\"ack\", {});\n",
       "    var fig = this;\n",
       "    // Wait a second, then push the new image to the DOM so\n",
       "    // that it is saved nicely (might be nice to debounce this).\n",
       "    setTimeout(function () { fig.push_to_output() }, 1000);\n",
       "}\n",
       "\n",
       "mpl.figure.prototype._init_toolbar = function() {\n",
       "    var fig = this;\n",
       "\n",
       "    var nav_element = $('<div/>');\n",
       "    nav_element.attr('style', 'width: 100%');\n",
       "    this.root.append(nav_element);\n",
       "\n",
       "    // Define a callback function for later on.\n",
       "    function toolbar_event(event) {\n",
       "        return fig.toolbar_button_onclick(event['data']);\n",
       "    }\n",
       "    function toolbar_mouse_event(event) {\n",
       "        return fig.toolbar_button_onmouseover(event['data']);\n",
       "    }\n",
       "\n",
       "    for(var toolbar_ind in mpl.toolbar_items){\n",
       "        var name = mpl.toolbar_items[toolbar_ind][0];\n",
       "        var tooltip = mpl.toolbar_items[toolbar_ind][1];\n",
       "        var image = mpl.toolbar_items[toolbar_ind][2];\n",
       "        var method_name = mpl.toolbar_items[toolbar_ind][3];\n",
       "\n",
       "        if (!name) { continue; };\n",
       "\n",
       "        var button = $('<button class=\"btn btn-default\" href=\"#\" title=\"' + name + '\"><i class=\"fa ' + image + ' fa-lg\"></i></button>');\n",
       "        button.click(method_name, toolbar_event);\n",
       "        button.mouseover(tooltip, toolbar_mouse_event);\n",
       "        nav_element.append(button);\n",
       "    }\n",
       "\n",
       "    // Add the status bar.\n",
       "    var status_bar = $('<span class=\"mpl-message\" style=\"text-align:right; float: right;\"/>');\n",
       "    nav_element.append(status_bar);\n",
       "    this.message = status_bar[0];\n",
       "\n",
       "    // Add the close button to the window.\n",
       "    var buttongrp = $('<div class=\"btn-group inline pull-right\"></div>');\n",
       "    var button = $('<button class=\"btn btn-mini btn-primary\" href=\"#\" title=\"Stop Interaction\"><i class=\"fa fa-power-off icon-remove icon-large\"></i></button>');\n",
       "    button.click(function (evt) { fig.handle_close(fig, {}); } );\n",
       "    button.mouseover('Stop Interaction', toolbar_mouse_event);\n",
       "    buttongrp.append(button);\n",
       "    var titlebar = this.root.find($('.ui-dialog-titlebar'));\n",
       "    titlebar.prepend(buttongrp);\n",
       "}\n",
       "\n",
       "mpl.figure.prototype._root_extra_style = function(el){\n",
       "    var fig = this\n",
       "    el.on(\"remove\", function(){\n",
       "\tfig.close_ws(fig, {});\n",
       "    });\n",
       "}\n",
       "\n",
       "mpl.figure.prototype._canvas_extra_style = function(el){\n",
       "    // this is important to make the div 'focusable\n",
       "    el.attr('tabindex', 0)\n",
       "    // reach out to IPython and tell the keyboard manager to turn it's self\n",
       "    // off when our div gets focus\n",
       "\n",
       "    // location in version 3\n",
       "    if (IPython.notebook.keyboard_manager) {\n",
       "        IPython.notebook.keyboard_manager.register_events(el);\n",
       "    }\n",
       "    else {\n",
       "        // location in version 2\n",
       "        IPython.keyboard_manager.register_events(el);\n",
       "    }\n",
       "\n",
       "}\n",
       "\n",
       "mpl.figure.prototype._key_event_extra = function(event, name) {\n",
       "    var manager = IPython.notebook.keyboard_manager;\n",
       "    if (!manager)\n",
       "        manager = IPython.keyboard_manager;\n",
       "\n",
       "    // Check for shift+enter\n",
       "    if (event.shiftKey && event.which == 13) {\n",
       "        this.canvas_div.blur();\n",
       "        // select the cell after this one\n",
       "        var index = IPython.notebook.find_cell_index(this.cell_info[0]);\n",
       "        IPython.notebook.select(index + 1);\n",
       "    }\n",
       "}\n",
       "\n",
       "mpl.figure.prototype.handle_save = function(fig, msg) {\n",
       "    fig.ondownload(fig, null);\n",
       "}\n",
       "\n",
       "\n",
       "mpl.find_output_cell = function(html_output) {\n",
       "    // Return the cell and output element which can be found *uniquely* in the notebook.\n",
       "    // Note - this is a bit hacky, but it is done because the \"notebook_saving.Notebook\"\n",
       "    // IPython event is triggered only after the cells have been serialised, which for\n",
       "    // our purposes (turning an active figure into a static one), is too late.\n",
       "    var cells = IPython.notebook.get_cells();\n",
       "    var ncells = cells.length;\n",
       "    for (var i=0; i<ncells; i++) {\n",
       "        var cell = cells[i];\n",
       "        if (cell.cell_type === 'code'){\n",
       "            for (var j=0; j<cell.output_area.outputs.length; j++) {\n",
       "                var data = cell.output_area.outputs[j];\n",
       "                if (data.data) {\n",
       "                    // IPython >= 3 moved mimebundle to data attribute of output\n",
       "                    data = data.data;\n",
       "                }\n",
       "                if (data['text/html'] == html_output) {\n",
       "                    return [cell, data, j];\n",
       "                }\n",
       "            }\n",
       "        }\n",
       "    }\n",
       "}\n",
       "\n",
       "// Register the function which deals with the matplotlib target/channel.\n",
       "// The kernel may be null if the page has been refreshed.\n",
       "if (IPython.notebook.kernel != null) {\n",
       "    IPython.notebook.kernel.comm_manager.register_target('matplotlib', mpl.mpl_figure_comm);\n",
       "}\n"
      ],
      "text/plain": [
       "<IPython.core.display.Javascript object>"
      ]
     },
     "metadata": {},
     "output_type": "display_data"
    },
    {
     "data": {
      "text/html": [
       "<img src=\"data:image/png;base64,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\" width=\"999.75\">"
      ],
      "text/plain": [
       "<IPython.core.display.HTML object>"
      ]
     },
     "metadata": {},
     "output_type": "display_data"
    }
   ],
   "source": [
    "ax, tax, lax, lines = dual_train_plots()\n",
    "fig = ax.figure\n",
    "plt.tight_layout()"
   ]
  },
  {
   "cell_type": "code",
   "execution_count": 15,
   "metadata": {
    "scrolled": false
   },
   "outputs": [
    {
     "name": "stdout",
     "output_type": "stream",
     "text": [
      "Number of batches: train = 2032, val = 144\n"
     ]
    },
    {
     "data": {
      "application/vnd.jupyter.widget-view+json": {
       "model_id": "26bf42b3684c45b987e50e3d1d61e649",
       "version_major": 2,
       "version_minor": 0
      },
      "text/plain": [
       "HBox(children=(FloatProgress(value=0.0, description='Epochs', layout=Layout(flex='2'), max=50.0, style=Progres…"
      ]
     },
     "metadata": {},
     "output_type": "display_data"
    },
    {
     "data": {
      "application/vnd.jupyter.widget-view+json": {
       "model_id": "",
       "version_major": 2,
       "version_minor": 0
      },
      "text/plain": [
       "HBox(children=(FloatProgress(value=0.0, description='Training', layout=Layout(flex='2'), max=2032.0, style=Pro…"
      ]
     },
     "metadata": {},
     "output_type": "display_data"
    },
    {
     "name": "stdout",
     "output_type": "stream",
     "text": [
      "x0 =  tensor([[8.7707e-42, 0.0000e+00, 0.0000e+00,  ..., 1.0640e-20, 6.7305e-17,\n",
      "         1.1038e-07],\n",
      "        [8.7950e-21, 1.4704e-23, 3.1602e-33,  ..., 1.6121e-18, 1.9015e-24,\n",
      "         1.2413e-24],\n",
      "        [1.8804e-31, 3.4167e-40, 0.0000e+00,  ..., 4.3580e-20, 4.6197e-21,\n",
      "         1.0371e-21],\n",
      "        ...,\n",
      "        [1.4784e-42, 1.2612e-44, 0.0000e+00,  ..., 4.2885e-16, 3.0541e-10,\n",
      "         1.3855e-15],\n",
      "        [0.0000e+00, 5.3628e-42, 9.4396e-39,  ..., 1.1412e-28, 7.4472e-26,\n",
      "         3.1288e-23],\n",
      "        [2.0520e-13, 2.7190e-14, 1.4864e-13,  ..., 2.9218e-16, 2.3522e-18,\n",
      "         5.2278e-11]], device='cuda:0', grad_fn=<SoftplusBackward>)\n",
      "x1 =  tensor([[ 0.0463,  0.0325,  0.0125,  ..., -0.0576, -0.0216,  0.0066],\n",
      "        [ 0.0493,  0.0397,  0.0214,  ..., -0.1111, -0.0771, -0.0432],\n",
      "        [ 0.0271, -0.0079, -0.0441,  ..., -0.0789, -0.0479, -0.0198],\n",
      "        ...,\n",
      "        [ 0.0980,  0.0981,  0.0985,  ..., -0.0400, -0.0198,  0.0054],\n",
      "        [ 0.0198, -0.0095, -0.0421,  ..., -0.0319, -0.0123,  0.0044],\n",
      "        [ 0.0945,  0.0943,  0.0942,  ..., -0.0817, -0.0551, -0.0293]],\n",
      "       device='cuda:0', grad_fn=<ViewBackward>)\n",
      "neuronValues =  tensor([[4.0638e-43, 0.0000e+00, 0.0000e+00,  ..., -0.0000e+00, -0.0000e+00,\n",
      "         7.3074e-10],\n",
      "        [4.3354e-22, 5.8303e-25, 6.7551e-35,  ..., -0.0000e+00, -0.0000e+00,\n",
      "         -0.0000e+00],\n",
      "        [5.0866e-33, -0.0000e+00, -0.0000e+00,  ..., -0.0000e+00, -0.0000e+00,\n",
      "         -0.0000e+00],\n",
      "        ...,\n",
      "        [1.4433e-43, 1.4013e-45, 0.0000e+00,  ..., -0.0000e+00, -0.0000e+00,\n",
      "         7.5360e-18],\n",
      "        [0.0000e+00, -0.0000e+00, -0.0000e+00,  ..., -0.0000e+00, -0.0000e+00,\n",
      "         1.3763e-25],\n",
      "        [1.9389e-14, 2.5636e-15, 1.4000e-14,  ..., -0.0000e+00, -0.0000e+00,\n",
      "         -0.0000e+00]], device='cuda:0', grad_fn=<LeakyReluBackward0>)\n",
      "Epoch 0: train=4.3041, val=3.92378, took 105.81 s\n",
      "  Validation Found 91645 of 93880, added 3092 (eff 97.62%) (0.169 FP/event)\n"
     ]
    },
    {
     "data": {
      "application/vnd.jupyter.widget-view+json": {
       "model_id": "",
       "version_major": 2,
       "version_minor": 0
      },
      "text/plain": [
       "HBox(children=(FloatProgress(value=0.0, description='Training', layout=Layout(flex='2'), max=2032.0, style=Pro…"
      ]
     },
     "metadata": {},
     "output_type": "display_data"
    },
    {
     "name": "stdout",
     "output_type": "stream",
     "text": [
      "Epoch 1: train=4.27384, val=3.91572, took 94.702 s\n",
      "  Validation Found 91648 of 93880, added 3109 (eff 97.62%) (0.169 FP/event)\n"
     ]
    },
    {
     "data": {
      "application/vnd.jupyter.widget-view+json": {
       "model_id": "",
       "version_major": 2,
       "version_minor": 0
      },
      "text/plain": [
       "HBox(children=(FloatProgress(value=0.0, description='Training', layout=Layout(flex='2'), max=2032.0, style=Pro…"
      ]
     },
     "metadata": {},
     "output_type": "display_data"
    },
    {
     "name": "stdout",
     "output_type": "stream",
     "text": [
      "Epoch 2: train=4.26813, val=3.91256, took 94.383 s\n",
      "  Validation Found 91636 of 93880, added 3082 (eff 97.61%) (0.168 FP/event)\n"
     ]
    },
    {
     "data": {
      "application/vnd.jupyter.widget-view+json": {
       "model_id": "",
       "version_major": 2,
       "version_minor": 0
      },
      "text/plain": [
       "HBox(children=(FloatProgress(value=0.0, description='Training', layout=Layout(flex='2'), max=2032.0, style=Pro…"
      ]
     },
     "metadata": {},
     "output_type": "display_data"
    },
    {
     "name": "stdout",
     "output_type": "stream",
     "text": [
      "Epoch 3: train=4.26712, val=3.9079, took 95.287 s\n",
      "  Validation Found 91649 of 93880, added 3108 (eff 97.62%) (0.169 FP/event)\n"
     ]
    },
    {
     "data": {
      "application/vnd.jupyter.widget-view+json": {
       "model_id": "",
       "version_major": 2,
       "version_minor": 0
      },
      "text/plain": [
       "HBox(children=(FloatProgress(value=0.0, description='Training', layout=Layout(flex='2'), max=2032.0, style=Pro…"
      ]
     },
     "metadata": {},
     "output_type": "display_data"
    },
    {
     "name": "stdout",
     "output_type": "stream",
     "text": [
      "Epoch 4: train=4.26685, val=3.90661, took 95.754 s\n",
      "  Validation Found 91644 of 93880, added 3095 (eff 97.62%) (0.169 FP/event)\n"
     ]
    },
    {
     "data": {
      "application/vnd.jupyter.widget-view+json": {
       "model_id": "",
       "version_major": 2,
       "version_minor": 0
      },
      "text/plain": [
       "HBox(children=(FloatProgress(value=0.0, description='Training', layout=Layout(flex='2'), max=2032.0, style=Pro…"
      ]
     },
     "metadata": {},
     "output_type": "display_data"
    },
    {
     "name": "stdout",
     "output_type": "stream",
     "text": [
      "Epoch 5: train=4.26344, val=3.90548, took 95.799 s\n",
      "  Validation Found 91635 of 93880, added 3101 (eff 97.61%) (0.169 FP/event)\n"
     ]
    },
    {
     "data": {
      "application/vnd.jupyter.widget-view+json": {
       "model_id": "",
       "version_major": 2,
       "version_minor": 0
      },
      "text/plain": [
       "HBox(children=(FloatProgress(value=0.0, description='Training', layout=Layout(flex='2'), max=2032.0, style=Pro…"
      ]
     },
     "metadata": {},
     "output_type": "display_data"
    },
    {
     "name": "stdout",
     "output_type": "stream",
     "text": [
      "Epoch 6: train=4.26208, val=3.90427, took 95.508 s\n",
      "  Validation Found 91633 of 93880, added 3089 (eff 97.61%) (0.168 FP/event)\n"
     ]
    },
    {
     "data": {
      "application/vnd.jupyter.widget-view+json": {
       "model_id": "",
       "version_major": 2,
       "version_minor": 0
      },
      "text/plain": [
       "HBox(children=(FloatProgress(value=0.0, description='Training', layout=Layout(flex='2'), max=2032.0, style=Pro…"
      ]
     },
     "metadata": {},
     "output_type": "display_data"
    },
    {
     "name": "stdout",
     "output_type": "stream",
     "text": [
      "Epoch 7: train=4.26512, val=3.90294, took 95.451 s\n",
      "  Validation Found 91638 of 93880, added 3108 (eff 97.61%) (0.169 FP/event)\n"
     ]
    },
    {
     "data": {
      "application/vnd.jupyter.widget-view+json": {
       "model_id": "",
       "version_major": 2,
       "version_minor": 0
      },
      "text/plain": [
       "HBox(children=(FloatProgress(value=0.0, description='Training', layout=Layout(flex='2'), max=2032.0, style=Pro…"
      ]
     },
     "metadata": {},
     "output_type": "display_data"
    },
    {
     "name": "stdout",
     "output_type": "stream",
     "text": [
      "Epoch 8: train=4.26158, val=3.90371, took 95.417 s\n",
      "  Validation Found 91626 of 93880, added 3073 (eff 97.60%) (0.167 FP/event)\n"
     ]
    },
    {
     "data": {
      "application/vnd.jupyter.widget-view+json": {
       "model_id": "",
       "version_major": 2,
       "version_minor": 0
      },
      "text/plain": [
       "HBox(children=(FloatProgress(value=0.0, description='Training', layout=Layout(flex='2'), max=2032.0, style=Pro…"
      ]
     },
     "metadata": {},
     "output_type": "display_data"
    },
    {
     "name": "stdout",
     "output_type": "stream",
     "text": [
      "Epoch 9: train=4.26149, val=3.90245, took 96.063 s\n",
      "  Validation Found 91628 of 93880, added 3087 (eff 97.60%) (0.168 FP/event)\n"
     ]
    },
    {
     "data": {
      "application/vnd.jupyter.widget-view+json": {
       "model_id": "",
       "version_major": 2,
       "version_minor": 0
      },
      "text/plain": [
       "HBox(children=(FloatProgress(value=0.0, description='Training', layout=Layout(flex='2'), max=2032.0, style=Pro…"
      ]
     },
     "metadata": {},
     "output_type": "display_data"
    },
    {
     "name": "stdout",
     "output_type": "stream",
     "text": [
      "Epoch 10: train=4.26144, val=3.90076, took 96.048 s\n",
      "  Validation Found 91633 of 93880, added 3096 (eff 97.61%) (0.169 FP/event)\n"
     ]
    },
    {
     "data": {
      "application/vnd.jupyter.widget-view+json": {
       "model_id": "",
       "version_major": 2,
       "version_minor": 0
      },
      "text/plain": [
       "HBox(children=(FloatProgress(value=0.0, description='Training', layout=Layout(flex='2'), max=2032.0, style=Pro…"
      ]
     },
     "metadata": {},
     "output_type": "display_data"
    },
    {
     "name": "stdout",
     "output_type": "stream",
     "text": [
      "Epoch 11: train=4.26083, val=3.90023, took 95.578 s\n",
      "  Validation Found 91633 of 93880, added 3097 (eff 97.61%) (0.169 FP/event)\n"
     ]
    },
    {
     "data": {
      "application/vnd.jupyter.widget-view+json": {
       "model_id": "",
       "version_major": 2,
       "version_minor": 0
      },
      "text/plain": [
       "HBox(children=(FloatProgress(value=0.0, description='Training', layout=Layout(flex='2'), max=2032.0, style=Pro…"
      ]
     },
     "metadata": {},
     "output_type": "display_data"
    },
    {
     "name": "stdout",
     "output_type": "stream",
     "text": [
      "Epoch 12: train=4.26035, val=3.89915, took 95.982 s\n",
      "  Validation Found 91632 of 93880, added 3097 (eff 97.61%) (0.169 FP/event)\n"
     ]
    },
    {
     "data": {
      "application/vnd.jupyter.widget-view+json": {
       "model_id": "",
       "version_major": 2,
       "version_minor": 0
      },
      "text/plain": [
       "HBox(children=(FloatProgress(value=0.0, description='Training', layout=Layout(flex='2'), max=2032.0, style=Pro…"
      ]
     },
     "metadata": {},
     "output_type": "display_data"
    },
    {
     "name": "stdout",
     "output_type": "stream",
     "text": [
      "Epoch 13: train=4.25966, val=3.89868, took 95.73 s\n",
      "  Validation Found 91639 of 93880, added 3119 (eff 97.61%) (0.17 FP/event)\n"
     ]
    },
    {
     "data": {
      "application/vnd.jupyter.widget-view+json": {
       "model_id": "",
       "version_major": 2,
       "version_minor": 0
      },
      "text/plain": [
       "HBox(children=(FloatProgress(value=0.0, description='Training', layout=Layout(flex='2'), max=2032.0, style=Pro…"
      ]
     },
     "metadata": {},
     "output_type": "display_data"
    },
    {
     "name": "stdout",
     "output_type": "stream",
     "text": [
      "Epoch 14: train=4.26075, val=3.90069, took 95.364 s\n",
      "  Validation Found 91627 of 93880, added 3085 (eff 97.60%) (0.168 FP/event)\n"
     ]
    },
    {
     "data": {
      "application/vnd.jupyter.widget-view+json": {
       "model_id": "",
       "version_major": 2,
       "version_minor": 0
      },
      "text/plain": [
       "HBox(children=(FloatProgress(value=0.0, description='Training', layout=Layout(flex='2'), max=2032.0, style=Pro…"
      ]
     },
     "metadata": {},
     "output_type": "display_data"
    },
    {
     "name": "stdout",
     "output_type": "stream",
     "text": [
      "Epoch 15: train=4.26022, val=3.90134, took 97.018 s\n",
      "  Validation Found 91628 of 93880, added 3090 (eff 97.60%) (0.168 FP/event)\n"
     ]
    },
    {
     "data": {
      "application/vnd.jupyter.widget-view+json": {
       "model_id": "",
       "version_major": 2,
       "version_minor": 0
      },
      "text/plain": [
       "HBox(children=(FloatProgress(value=0.0, description='Training', layout=Layout(flex='2'), max=2032.0, style=Pro…"
      ]
     },
     "metadata": {},
     "output_type": "display_data"
    },
    {
     "name": "stdout",
     "output_type": "stream",
     "text": [
      "Epoch 16: train=4.25931, val=3.90021, took 96.744 s\n",
      "  Validation Found 91628 of 93880, added 3082 (eff 97.60%) (0.168 FP/event)\n"
     ]
    },
    {
     "data": {
      "application/vnd.jupyter.widget-view+json": {
       "model_id": "",
       "version_major": 2,
       "version_minor": 0
      },
      "text/plain": [
       "HBox(children=(FloatProgress(value=0.0, description='Training', layout=Layout(flex='2'), max=2032.0, style=Pro…"
      ]
     },
     "metadata": {},
     "output_type": "display_data"
    },
    {
     "name": "stdout",
     "output_type": "stream",
     "text": [
      "Epoch 17: train=4.26165, val=3.89789, took 96.811 s\n",
      "  Validation Found 91628 of 93880, added 3104 (eff 97.60%) (0.169 FP/event)\n"
     ]
    },
    {
     "data": {
      "application/vnd.jupyter.widget-view+json": {
       "model_id": "",
       "version_major": 2,
       "version_minor": 0
      },
      "text/plain": [
       "HBox(children=(FloatProgress(value=0.0, description='Training', layout=Layout(flex='2'), max=2032.0, style=Pro…"
      ]
     },
     "metadata": {},
     "output_type": "display_data"
    },
    {
     "name": "stdout",
     "output_type": "stream",
     "text": [
      "Epoch 18: train=4.25927, val=3.8998, took 96.805 s\n",
      "  Validation Found 91627 of 93880, added 3096 (eff 97.60%) (0.169 FP/event)\n"
     ]
    },
    {
     "data": {
      "application/vnd.jupyter.widget-view+json": {
       "model_id": "",
       "version_major": 2,
       "version_minor": 0
      },
      "text/plain": [
       "HBox(children=(FloatProgress(value=0.0, description='Training', layout=Layout(flex='2'), max=2032.0, style=Pro…"
      ]
     },
     "metadata": {},
     "output_type": "display_data"
    },
    {
     "name": "stdout",
     "output_type": "stream",
     "text": [
      "Epoch 19: train=4.26188, val=3.89859, took 96.78 s\n",
      "  Validation Found 91626 of 93880, added 3101 (eff 97.60%) (0.169 FP/event)\n"
     ]
    },
    {
     "data": {
      "application/vnd.jupyter.widget-view+json": {
       "model_id": "",
       "version_major": 2,
       "version_minor": 0
      },
      "text/plain": [
       "HBox(children=(FloatProgress(value=0.0, description='Training', layout=Layout(flex='2'), max=2032.0, style=Pro…"
      ]
     },
     "metadata": {},
     "output_type": "display_data"
    },
    {
     "name": "stdout",
     "output_type": "stream",
     "text": [
      "Epoch 20: train=4.26077, val=3.89825, took 96.818 s\n",
      "  Validation Found 91635 of 93880, added 3109 (eff 97.61%) (0.169 FP/event)\n"
     ]
    },
    {
     "data": {
      "application/vnd.jupyter.widget-view+json": {
       "model_id": "",
       "version_major": 2,
       "version_minor": 0
      },
      "text/plain": [
       "HBox(children=(FloatProgress(value=0.0, description='Training', layout=Layout(flex='2'), max=2032.0, style=Pro…"
      ]
     },
     "metadata": {},
     "output_type": "display_data"
    },
    {
     "name": "stdout",
     "output_type": "stream",
     "text": [
      "Epoch 21: train=4.25703, val=3.898, took 96.769 s\n",
      "  Validation Found 91627 of 93880, added 3094 (eff 97.60%) (0.169 FP/event)\n"
     ]
    },
    {
     "data": {
      "application/vnd.jupyter.widget-view+json": {
       "model_id": "",
       "version_major": 2,
       "version_minor": 0
      },
      "text/plain": [
       "HBox(children=(FloatProgress(value=0.0, description='Training', layout=Layout(flex='2'), max=2032.0, style=Pro…"
      ]
     },
     "metadata": {},
     "output_type": "display_data"
    },
    {
     "name": "stdout",
     "output_type": "stream",
     "text": [
      "Epoch 22: train=4.26089, val=3.89896, took 96.761 s\n",
      "  Validation Found 91627 of 93880, added 3070 (eff 97.60%) (0.167 FP/event)\n"
     ]
    },
    {
     "data": {
      "application/vnd.jupyter.widget-view+json": {
       "model_id": "",
       "version_major": 2,
       "version_minor": 0
      },
      "text/plain": [
       "HBox(children=(FloatProgress(value=0.0, description='Training', layout=Layout(flex='2'), max=2032.0, style=Pro…"
      ]
     },
     "metadata": {},
     "output_type": "display_data"
    },
    {
     "name": "stdout",
     "output_type": "stream",
     "text": [
      "Epoch 23: train=4.25796, val=3.89837, took 97.173 s\n",
      "  Validation Found 91629 of 93880, added 3101 (eff 97.60%) (0.169 FP/event)\n"
     ]
    },
    {
     "data": {
      "application/vnd.jupyter.widget-view+json": {
       "model_id": "",
       "version_major": 2,
       "version_minor": 0
      },
      "text/plain": [
       "HBox(children=(FloatProgress(value=0.0, description='Training', layout=Layout(flex='2'), max=2032.0, style=Pro…"
      ]
     },
     "metadata": {},
     "output_type": "display_data"
    },
    {
     "name": "stdout",
     "output_type": "stream",
     "text": [
      "Epoch 24: train=4.25894, val=3.89683, took 97.016 s\n",
      "  Validation Found 91632 of 93880, added 3089 (eff 97.61%) (0.168 FP/event)\n"
     ]
    },
    {
     "data": {
      "application/vnd.jupyter.widget-view+json": {
       "model_id": "",
       "version_major": 2,
       "version_minor": 0
      },
      "text/plain": [
       "HBox(children=(FloatProgress(value=0.0, description='Training', layout=Layout(flex='2'), max=2032.0, style=Pro…"
      ]
     },
     "metadata": {},
     "output_type": "display_data"
    },
    {
     "name": "stdout",
     "output_type": "stream",
     "text": [
      "Epoch 25: train=4.25937, val=3.89912, took 97.014 s\n",
      "  Validation Found 91620 of 93880, added 3078 (eff 97.59%) (0.168 FP/event)\n"
     ]
    },
    {
     "data": {
      "application/vnd.jupyter.widget-view+json": {
       "model_id": "",
       "version_major": 2,
       "version_minor": 0
      },
      "text/plain": [
       "HBox(children=(FloatProgress(value=0.0, description='Training', layout=Layout(flex='2'), max=2032.0, style=Pro…"
      ]
     },
     "metadata": {},
     "output_type": "display_data"
    },
    {
     "name": "stdout",
     "output_type": "stream",
     "text": [
      "Epoch 26: train=4.2616, val=3.8987, took 94.896 s\n",
      "  Validation Found 91626 of 93880, added 3087 (eff 97.60%) (0.168 FP/event)\n"
     ]
    },
    {
     "data": {
      "application/vnd.jupyter.widget-view+json": {
       "model_id": "",
       "version_major": 2,
       "version_minor": 0
      },
      "text/plain": [
       "HBox(children=(FloatProgress(value=0.0, description='Training', layout=Layout(flex='2'), max=2032.0, style=Pro…"
      ]
     },
     "metadata": {},
     "output_type": "display_data"
    },
    {
     "name": "stdout",
     "output_type": "stream",
     "text": [
      "Epoch 27: train=4.2585, val=3.89731, took 96.5 s\n",
      "  Validation Found 91633 of 93880, added 3096 (eff 97.61%) (0.169 FP/event)\n"
     ]
    },
    {
     "data": {
      "application/vnd.jupyter.widget-view+json": {
       "model_id": "",
       "version_major": 2,
       "version_minor": 0
      },
      "text/plain": [
       "HBox(children=(FloatProgress(value=0.0, description='Training', layout=Layout(flex='2'), max=2032.0, style=Pro…"
      ]
     },
     "metadata": {},
     "output_type": "display_data"
    },
    {
     "name": "stdout",
     "output_type": "stream",
     "text": [
      "Epoch 28: train=4.25752, val=3.89813, took 95.503 s\n",
      "  Validation Found 91623 of 93880, added 3085 (eff 97.60%) (0.168 FP/event)\n"
     ]
    },
    {
     "data": {
      "application/vnd.jupyter.widget-view+json": {
       "model_id": "",
       "version_major": 2,
       "version_minor": 0
      },
      "text/plain": [
       "HBox(children=(FloatProgress(value=0.0, description='Training', layout=Layout(flex='2'), max=2032.0, style=Pro…"
      ]
     },
     "metadata": {},
     "output_type": "display_data"
    },
    {
     "name": "stdout",
     "output_type": "stream",
     "text": [
      "Epoch 29: train=4.25824, val=3.89739, took 95.303 s\n",
      "  Validation Found 91631 of 93880, added 3111 (eff 97.60%) (0.17 FP/event)\n"
     ]
    },
    {
     "data": {
      "application/vnd.jupyter.widget-view+json": {
       "model_id": "",
       "version_major": 2,
       "version_minor": 0
      },
      "text/plain": [
       "HBox(children=(FloatProgress(value=0.0, description='Training', layout=Layout(flex='2'), max=2032.0, style=Pro…"
      ]
     },
     "metadata": {},
     "output_type": "display_data"
    },
    {
     "name": "stdout",
     "output_type": "stream",
     "text": [
      "Epoch 30: train=4.25782, val=3.89684, took 96.192 s\n",
      "  Validation Found 91634 of 93880, added 3101 (eff 97.61%) (0.169 FP/event)\n"
     ]
    },
    {
     "data": {
      "application/vnd.jupyter.widget-view+json": {
       "model_id": "",
       "version_major": 2,
       "version_minor": 0
      },
      "text/plain": [
       "HBox(children=(FloatProgress(value=0.0, description='Training', layout=Layout(flex='2'), max=2032.0, style=Pro…"
      ]
     },
     "metadata": {},
     "output_type": "display_data"
    },
    {
     "name": "stdout",
     "output_type": "stream",
     "text": [
      "Epoch 31: train=4.25819, val=3.89668, took 95.861 s\n",
      "  Validation Found 91630 of 93880, added 3094 (eff 97.60%) (0.169 FP/event)\n"
     ]
    },
    {
     "data": {
      "application/vnd.jupyter.widget-view+json": {
       "model_id": "",
       "version_major": 2,
       "version_minor": 0
      },
      "text/plain": [
       "HBox(children=(FloatProgress(value=0.0, description='Training', layout=Layout(flex='2'), max=2032.0, style=Pro…"
      ]
     },
     "metadata": {},
     "output_type": "display_data"
    },
    {
     "name": "stdout",
     "output_type": "stream",
     "text": [
      "Epoch 32: train=4.25601, val=3.89745, took 95.58 s\n",
      "  Validation Found 91637 of 93880, added 3091 (eff 97.61%) (0.168 FP/event)\n"
     ]
    },
    {
     "data": {
      "application/vnd.jupyter.widget-view+json": {
       "model_id": "",
       "version_major": 2,
       "version_minor": 0
      },
      "text/plain": [
       "HBox(children=(FloatProgress(value=0.0, description='Training', layout=Layout(flex='2'), max=2032.0, style=Pro…"
      ]
     },
     "metadata": {},
     "output_type": "display_data"
    },
    {
     "name": "stdout",
     "output_type": "stream",
     "text": [
      "Epoch 33: train=4.25721, val=3.89701, took 96.254 s\n",
      "  Validation Found 91630 of 93880, added 3085 (eff 97.60%) (0.168 FP/event)\n"
     ]
    },
    {
     "data": {
      "application/vnd.jupyter.widget-view+json": {
       "model_id": "",
       "version_major": 2,
       "version_minor": 0
      },
      "text/plain": [
       "HBox(children=(FloatProgress(value=0.0, description='Training', layout=Layout(flex='2'), max=2032.0, style=Pro…"
      ]
     },
     "metadata": {},
     "output_type": "display_data"
    },
    {
     "name": "stdout",
     "output_type": "stream",
     "text": [
      "Epoch 34: train=4.25878, val=3.89708, took 96.534 s\n",
      "  Validation Found 91624 of 93880, added 3081 (eff 97.60%) (0.168 FP/event)\n"
     ]
    },
    {
     "data": {
      "application/vnd.jupyter.widget-view+json": {
       "model_id": "",
       "version_major": 2,
       "version_minor": 0
      },
      "text/plain": [
       "HBox(children=(FloatProgress(value=0.0, description='Training', layout=Layout(flex='2'), max=2032.0, style=Pro…"
      ]
     },
     "metadata": {},
     "output_type": "display_data"
    },
    {
     "name": "stdout",
     "output_type": "stream",
     "text": [
      "Epoch 35: train=4.25589, val=3.89518, took 95.672 s\n",
      "  Validation Found 91641 of 93880, added 3130 (eff 97.62%) (0.171 FP/event)\n"
     ]
    },
    {
     "data": {
      "application/vnd.jupyter.widget-view+json": {
       "model_id": "",
       "version_major": 2,
       "version_minor": 0
      },
      "text/plain": [
       "HBox(children=(FloatProgress(value=0.0, description='Training', layout=Layout(flex='2'), max=2032.0, style=Pro…"
      ]
     },
     "metadata": {},
     "output_type": "display_data"
    },
    {
     "name": "stdout",
     "output_type": "stream",
     "text": [
      "Epoch 36: train=4.25788, val=3.89497, took 95.657 s\n",
      "  Validation Found 91631 of 93880, added 3102 (eff 97.60%) (0.169 FP/event)\n"
     ]
    },
    {
     "data": {
      "application/vnd.jupyter.widget-view+json": {
       "model_id": "",
       "version_major": 2,
       "version_minor": 0
      },
      "text/plain": [
       "HBox(children=(FloatProgress(value=0.0, description='Training', layout=Layout(flex='2'), max=2032.0, style=Pro…"
      ]
     },
     "metadata": {},
     "output_type": "display_data"
    },
    {
     "name": "stdout",
     "output_type": "stream",
     "text": [
      "Epoch 37: train=4.25721, val=3.89515, took 95.979 s\n",
      "  Validation Found 91634 of 93880, added 3104 (eff 97.61%) (0.169 FP/event)\n"
     ]
    },
    {
     "data": {
      "application/vnd.jupyter.widget-view+json": {
       "model_id": "",
       "version_major": 2,
       "version_minor": 0
      },
      "text/plain": [
       "HBox(children=(FloatProgress(value=0.0, description='Training', layout=Layout(flex='2'), max=2032.0, style=Pro…"
      ]
     },
     "metadata": {},
     "output_type": "display_data"
    },
    {
     "name": "stdout",
     "output_type": "stream",
     "text": [
      "Epoch 38: train=4.25883, val=3.89695, took 95.622 s\n",
      "  Validation Found 91630 of 93880, added 3093 (eff 97.60%) (0.169 FP/event)\n"
     ]
    },
    {
     "data": {
      "application/vnd.jupyter.widget-view+json": {
       "model_id": "",
       "version_major": 2,
       "version_minor": 0
      },
      "text/plain": [
       "HBox(children=(FloatProgress(value=0.0, description='Training', layout=Layout(flex='2'), max=2032.0, style=Pro…"
      ]
     },
     "metadata": {},
     "output_type": "display_data"
    },
    {
     "name": "stdout",
     "output_type": "stream",
     "text": [
      "Epoch 39: train=4.25729, val=3.89644, took 94.995 s\n",
      "  Validation Found 91633 of 93880, added 3096 (eff 97.61%) (0.169 FP/event)\n"
     ]
    },
    {
     "data": {
      "application/vnd.jupyter.widget-view+json": {
       "model_id": "",
       "version_major": 2,
       "version_minor": 0
      },
      "text/plain": [
       "HBox(children=(FloatProgress(value=0.0, description='Training', layout=Layout(flex='2'), max=2032.0, style=Pro…"
      ]
     },
     "metadata": {},
     "output_type": "display_data"
    },
    {
     "name": "stdout",
     "output_type": "stream",
     "text": [
      "Epoch 40: train=4.2567, val=3.89602, took 95.026 s\n",
      "  Validation Found 91639 of 93880, added 3109 (eff 97.61%) (0.169 FP/event)\n"
     ]
    },
    {
     "data": {
      "application/vnd.jupyter.widget-view+json": {
       "model_id": "",
       "version_major": 2,
       "version_minor": 0
      },
      "text/plain": [
       "HBox(children=(FloatProgress(value=0.0, description='Training', layout=Layout(flex='2'), max=2032.0, style=Pro…"
      ]
     },
     "metadata": {},
     "output_type": "display_data"
    },
    {
     "name": "stdout",
     "output_type": "stream",
     "text": [
      "Epoch 41: train=4.25529, val=3.89513, took 94.145 s\n",
      "  Validation Found 91633 of 93880, added 3108 (eff 97.61%) (0.169 FP/event)\n"
     ]
    },
    {
     "data": {
      "application/vnd.jupyter.widget-view+json": {
       "model_id": "",
       "version_major": 2,
       "version_minor": 0
      },
      "text/plain": [
       "HBox(children=(FloatProgress(value=0.0, description='Training', layout=Layout(flex='2'), max=2032.0, style=Pro…"
      ]
     },
     "metadata": {},
     "output_type": "display_data"
    },
    {
     "name": "stdout",
     "output_type": "stream",
     "text": [
      "Epoch 42: train=4.25655, val=3.89481, took 95.133 s\n",
      "  Validation Found 91642 of 93880, added 3115 (eff 97.62%) (0.17 FP/event)\n"
     ]
    },
    {
     "data": {
      "application/vnd.jupyter.widget-view+json": {
       "model_id": "",
       "version_major": 2,
       "version_minor": 0
      },
      "text/plain": [
       "HBox(children=(FloatProgress(value=0.0, description='Training', layout=Layout(flex='2'), max=2032.0, style=Pro…"
      ]
     },
     "metadata": {},
     "output_type": "display_data"
    },
    {
     "name": "stdout",
     "output_type": "stream",
     "text": [
      "Epoch 43: train=4.25935, val=3.89515, took 95.446 s\n",
      "  Validation Found 91634 of 93880, added 3094 (eff 97.61%) (0.169 FP/event)\n"
     ]
    },
    {
     "data": {
      "application/vnd.jupyter.widget-view+json": {
       "model_id": "",
       "version_major": 2,
       "version_minor": 0
      },
      "text/plain": [
       "HBox(children=(FloatProgress(value=0.0, description='Training', layout=Layout(flex='2'), max=2032.0, style=Pro…"
      ]
     },
     "metadata": {},
     "output_type": "display_data"
    },
    {
     "name": "stdout",
     "output_type": "stream",
     "text": [
      "Epoch 44: train=4.25733, val=3.89649, took 95.552 s\n",
      "  Validation Found 91628 of 93880, added 3085 (eff 97.60%) (0.168 FP/event)\n"
     ]
    },
    {
     "data": {
      "application/vnd.jupyter.widget-view+json": {
       "model_id": "",
       "version_major": 2,
       "version_minor": 0
      },
      "text/plain": [
       "HBox(children=(FloatProgress(value=0.0, description='Training', layout=Layout(flex='2'), max=2032.0, style=Pro…"
      ]
     },
     "metadata": {},
     "output_type": "display_data"
    },
    {
     "name": "stdout",
     "output_type": "stream",
     "text": [
      "Epoch 45: train=4.25856, val=3.89652, took 94.806 s\n",
      "  Validation Found 91634 of 93880, added 3084 (eff 97.61%) (0.168 FP/event)\n"
     ]
    },
    {
     "data": {
      "application/vnd.jupyter.widget-view+json": {
       "model_id": "",
       "version_major": 2,
       "version_minor": 0
      },
      "text/plain": [
       "HBox(children=(FloatProgress(value=0.0, description='Training', layout=Layout(flex='2'), max=2032.0, style=Pro…"
      ]
     },
     "metadata": {},
     "output_type": "display_data"
    },
    {
     "name": "stdout",
     "output_type": "stream",
     "text": [
      "Epoch 46: train=4.25922, val=3.89612, took 94.209 s\n",
      "  Validation Found 91626 of 93880, added 3078 (eff 97.60%) (0.168 FP/event)\n"
     ]
    },
    {
     "data": {
      "application/vnd.jupyter.widget-view+json": {
       "model_id": "",
       "version_major": 2,
       "version_minor": 0
      },
      "text/plain": [
       "HBox(children=(FloatProgress(value=0.0, description='Training', layout=Layout(flex='2'), max=2032.0, style=Pro…"
      ]
     },
     "metadata": {},
     "output_type": "display_data"
    },
    {
     "name": "stdout",
     "output_type": "stream",
     "text": [
      "Epoch 47: train=4.2578, val=3.89536, took 94.146 s\n",
      "  Validation Found 91639 of 93880, added 3110 (eff 97.61%) (0.169 FP/event)\n"
     ]
    },
    {
     "data": {
      "application/vnd.jupyter.widget-view+json": {
       "model_id": "",
       "version_major": 2,
       "version_minor": 0
      },
      "text/plain": [
       "HBox(children=(FloatProgress(value=0.0, description='Training', layout=Layout(flex='2'), max=2032.0, style=Pro…"
      ]
     },
     "metadata": {},
     "output_type": "display_data"
    },
    {
     "name": "stdout",
     "output_type": "stream",
     "text": [
      "Epoch 48: train=4.25509, val=3.89568, took 94.449 s\n",
      "  Validation Found 91629 of 93880, added 3073 (eff 97.60%) (0.167 FP/event)\n"
     ]
    },
    {
     "data": {
      "application/vnd.jupyter.widget-view+json": {
       "model_id": "",
       "version_major": 2,
       "version_minor": 0
      },
      "text/plain": [
       "HBox(children=(FloatProgress(value=0.0, description='Training', layout=Layout(flex='2'), max=2032.0, style=Pro…"
      ]
     },
     "metadata": {},
     "output_type": "display_data"
    },
    {
     "name": "stdout",
     "output_type": "stream",
     "text": [
      "Epoch 49: train=4.25588, val=3.8951, took 94.007 s\n",
      "  Validation Found 91640 of 93880, added 3101 (eff 97.61%) (0.169 FP/event)\n",
      "\n"
     ]
    }
   ],
   "source": [
    "for result in trainNet(model, optimizer, loss,\n",
    "                        train_loader, val_loader,\n",
    "                        n_epochs, epoch_start=len(results),\n",
    "                        notebook=True):\n",
    "    \n",
    "    results = results.append(pd.Series(result._asdict()), ignore_index=True)\n",
    "    \n",
    "    xs = results.index\n",
    "    \n",
    "    # Update the plot above\n",
    "    lines['train'].set_data(results.index,results.cost)\n",
    "    lines['val'].set_data(results.index,results.val)\n",
    "    \n",
    "    #filter first cost epoch (can be really large)\n",
    "    max_cost = max(max(results.cost if len(results.cost)<2 else results.cost[1:]), max(results.val))\n",
    "    min_cost = min(min(results.cost), min(results.val))\n",
    "    \n",
    "    # The plot limits need updating too\n",
    "    \n",
    "    \n",
    "    \n",
    "    ax.set_ylim(min_cost*.9, max_cost*1.1)  \n",
    "    ax.set_xlim(-.5, len(results.cost) - .5)\n",
    "    \n",
    "    replace_in_ax(lax, lines['eff'], xs, results['eff_val'].apply(lambda x: x.eff_rate))\n",
    "    replace_in_ax(tax, lines['fp'], xs, results['eff_val'].apply(lambda x: x.fp_rate))\n",
    "    \n",
    "    # Redraw the figure\n",
    "    fig.canvas.draw()\n",
    "\n",
    "    # Save each model state dictionary\n",
    "    torch.save(model.state_dict(), output / f'{name}_{result.epoch}.pyt')"
   ]
  },
  {
   "cell_type": "markdown",
   "metadata": {},
   "source": [
    "# Results\n",
    "\n",
    "Let's save some results: (even though if you have not changed the code above, it saves the model every epoch)"
   ]
  },
  {
   "cell_type": "markdown",
   "metadata": {},
   "source": [
    "Go ahead and save the final model (even though it was also saved above):"
   ]
  },
  {
   "cell_type": "code",
   "execution_count": 16,
   "metadata": {},
   "outputs": [],
   "source": [
    "torch.save(model.state_dict(), output / f'{name}_final.pyt')"
   ]
  },
  {
   "cell_type": "markdown",
   "metadata": {},
   "source": [
    "Save the output results:"
   ]
  },
  {
   "cell_type": "code",
   "execution_count": 17,
   "metadata": {},
   "outputs": [
    {
     "name": "stderr",
     "output_type": "stream",
     "text": [
      "/data/conda/envs/goofit/lib/python3.7/site-packages/pandas/core/generic.py:2505: PerformanceWarning: \n",
      "your performance may suffer as PyTables will pickle object types that it cannot\n",
      "map directly to c-types [inferred_type->mixed-integer,key->block1_values] [items->Index(['epoch', 'eff_val'], dtype='object')]\n",
      "\n",
      "  encoding=encoding,\n"
     ]
    }
   ],
   "source": [
    "results.to_hdf(f'{name}_stats.hdf5', 'results')"
   ]
  },
  {
   "cell_type": "markdown",
   "metadata": {},
   "source": [
    "Save the plot above:"
   ]
  },
  {
   "cell_type": "code",
   "execution_count": 18,
   "metadata": {
    "scrolled": false
   },
   "outputs": [
    {
     "data": {
      "application/javascript": [
       "/* Put everything inside the global mpl namespace */\n",
       "window.mpl = {};\n",
       "\n",
       "\n",
       "mpl.get_websocket_type = function() {\n",
       "    if (typeof(WebSocket) !== 'undefined') {\n",
       "        return WebSocket;\n",
       "    } else if (typeof(MozWebSocket) !== 'undefined') {\n",
       "        return MozWebSocket;\n",
       "    } else {\n",
       "        alert('Your browser does not have WebSocket support. ' +\n",
       "              'Please try Chrome, Safari or Firefox ≥ 6. ' +\n",
       "              'Firefox 4 and 5 are also supported but you ' +\n",
       "              'have to enable WebSockets in about:config.');\n",
       "    };\n",
       "}\n",
       "\n",
       "mpl.figure = function(figure_id, websocket, ondownload, parent_element) {\n",
       "    this.id = figure_id;\n",
       "\n",
       "    this.ws = websocket;\n",
       "\n",
       "    this.supports_binary = (this.ws.binaryType != undefined);\n",
       "\n",
       "    if (!this.supports_binary) {\n",
       "        var warnings = document.getElementById(\"mpl-warnings\");\n",
       "        if (warnings) {\n",
       "            warnings.style.display = 'block';\n",
       "            warnings.textContent = (\n",
       "                \"This browser does not support binary websocket messages. \" +\n",
       "                    \"Performance may be slow.\");\n",
       "        }\n",
       "    }\n",
       "\n",
       "    this.imageObj = new Image();\n",
       "\n",
       "    this.context = undefined;\n",
       "    this.message = undefined;\n",
       "    this.canvas = undefined;\n",
       "    this.rubberband_canvas = undefined;\n",
       "    this.rubberband_context = undefined;\n",
       "    this.format_dropdown = undefined;\n",
       "\n",
       "    this.image_mode = 'full';\n",
       "\n",
       "    this.root = $('<div/>');\n",
       "    this._root_extra_style(this.root)\n",
       "    this.root.attr('style', 'display: inline-block');\n",
       "\n",
       "    $(parent_element).append(this.root);\n",
       "\n",
       "    this._init_header(this);\n",
       "    this._init_canvas(this);\n",
       "    this._init_toolbar(this);\n",
       "\n",
       "    var fig = this;\n",
       "\n",
       "    this.waiting = false;\n",
       "\n",
       "    this.ws.onopen =  function () {\n",
       "            fig.send_message(\"supports_binary\", {value: fig.supports_binary});\n",
       "            fig.send_message(\"send_image_mode\", {});\n",
       "            if (mpl.ratio != 1) {\n",
       "                fig.send_message(\"set_dpi_ratio\", {'dpi_ratio': mpl.ratio});\n",
       "            }\n",
       "            fig.send_message(\"refresh\", {});\n",
       "        }\n",
       "\n",
       "    this.imageObj.onload = function() {\n",
       "            if (fig.image_mode == 'full') {\n",
       "                // Full images could contain transparency (where diff images\n",
       "                // almost always do), so we need to clear the canvas so that\n",
       "                // there is no ghosting.\n",
       "                fig.context.clearRect(0, 0, fig.canvas.width, fig.canvas.height);\n",
       "            }\n",
       "            fig.context.drawImage(fig.imageObj, 0, 0);\n",
       "        };\n",
       "\n",
       "    this.imageObj.onunload = function() {\n",
       "        fig.ws.close();\n",
       "    }\n",
       "\n",
       "    this.ws.onmessage = this._make_on_message_function(this);\n",
       "\n",
       "    this.ondownload = ondownload;\n",
       "}\n",
       "\n",
       "mpl.figure.prototype._init_header = function() {\n",
       "    var titlebar = $(\n",
       "        '<div class=\"ui-dialog-titlebar ui-widget-header ui-corner-all ' +\n",
       "        'ui-helper-clearfix\"/>');\n",
       "    var titletext = $(\n",
       "        '<div class=\"ui-dialog-title\" style=\"width: 100%; ' +\n",
       "        'text-align: center; padding: 3px;\"/>');\n",
       "    titlebar.append(titletext)\n",
       "    this.root.append(titlebar);\n",
       "    this.header = titletext[0];\n",
       "}\n",
       "\n",
       "\n",
       "\n",
       "mpl.figure.prototype._canvas_extra_style = function(canvas_div) {\n",
       "\n",
       "}\n",
       "\n",
       "\n",
       "mpl.figure.prototype._root_extra_style = function(canvas_div) {\n",
       "\n",
       "}\n",
       "\n",
       "mpl.figure.prototype._init_canvas = function() {\n",
       "    var fig = this;\n",
       "\n",
       "    var canvas_div = $('<div/>');\n",
       "\n",
       "    canvas_div.attr('style', 'position: relative; clear: both; outline: 0');\n",
       "\n",
       "    function canvas_keyboard_event(event) {\n",
       "        return fig.key_event(event, event['data']);\n",
       "    }\n",
       "\n",
       "    canvas_div.keydown('key_press', canvas_keyboard_event);\n",
       "    canvas_div.keyup('key_release', canvas_keyboard_event);\n",
       "    this.canvas_div = canvas_div\n",
       "    this._canvas_extra_style(canvas_div)\n",
       "    this.root.append(canvas_div);\n",
       "\n",
       "    var canvas = $('<canvas/>');\n",
       "    canvas.addClass('mpl-canvas');\n",
       "    canvas.attr('style', \"left: 0; top: 0; z-index: 0; outline: 0\")\n",
       "\n",
       "    this.canvas = canvas[0];\n",
       "    this.context = canvas[0].getContext(\"2d\");\n",
       "\n",
       "    var backingStore = this.context.backingStorePixelRatio ||\n",
       "\tthis.context.webkitBackingStorePixelRatio ||\n",
       "\tthis.context.mozBackingStorePixelRatio ||\n",
       "\tthis.context.msBackingStorePixelRatio ||\n",
       "\tthis.context.oBackingStorePixelRatio ||\n",
       "\tthis.context.backingStorePixelRatio || 1;\n",
       "\n",
       "    mpl.ratio = (window.devicePixelRatio || 1) / backingStore;\n",
       "\n",
       "    var rubberband = $('<canvas/>');\n",
       "    rubberband.attr('style', \"position: absolute; left: 0; top: 0; z-index: 1;\")\n",
       "\n",
       "    var pass_mouse_events = true;\n",
       "\n",
       "    canvas_div.resizable({\n",
       "        start: function(event, ui) {\n",
       "            pass_mouse_events = false;\n",
       "        },\n",
       "        resize: function(event, ui) {\n",
       "            fig.request_resize(ui.size.width, ui.size.height);\n",
       "        },\n",
       "        stop: function(event, ui) {\n",
       "            pass_mouse_events = true;\n",
       "            fig.request_resize(ui.size.width, ui.size.height);\n",
       "        },\n",
       "    });\n",
       "\n",
       "    function mouse_event_fn(event) {\n",
       "        if (pass_mouse_events)\n",
       "            return fig.mouse_event(event, event['data']);\n",
       "    }\n",
       "\n",
       "    rubberband.mousedown('button_press', mouse_event_fn);\n",
       "    rubberband.mouseup('button_release', mouse_event_fn);\n",
       "    // Throttle sequential mouse events to 1 every 20ms.\n",
       "    rubberband.mousemove('motion_notify', mouse_event_fn);\n",
       "\n",
       "    rubberband.mouseenter('figure_enter', mouse_event_fn);\n",
       "    rubberband.mouseleave('figure_leave', mouse_event_fn);\n",
       "\n",
       "    canvas_div.on(\"wheel\", function (event) {\n",
       "        event = event.originalEvent;\n",
       "        event['data'] = 'scroll'\n",
       "        if (event.deltaY < 0) {\n",
       "            event.step = 1;\n",
       "        } else {\n",
       "            event.step = -1;\n",
       "        }\n",
       "        mouse_event_fn(event);\n",
       "    });\n",
       "\n",
       "    canvas_div.append(canvas);\n",
       "    canvas_div.append(rubberband);\n",
       "\n",
       "    this.rubberband = rubberband;\n",
       "    this.rubberband_canvas = rubberband[0];\n",
       "    this.rubberband_context = rubberband[0].getContext(\"2d\");\n",
       "    this.rubberband_context.strokeStyle = \"#000000\";\n",
       "\n",
       "    this._resize_canvas = function(width, height) {\n",
       "        // Keep the size of the canvas, canvas container, and rubber band\n",
       "        // canvas in synch.\n",
       "        canvas_div.css('width', width)\n",
       "        canvas_div.css('height', height)\n",
       "\n",
       "        canvas.attr('width', width * mpl.ratio);\n",
       "        canvas.attr('height', height * mpl.ratio);\n",
       "        canvas.attr('style', 'width: ' + width + 'px; height: ' + height + 'px;');\n",
       "\n",
       "        rubberband.attr('width', width);\n",
       "        rubberband.attr('height', height);\n",
       "    }\n",
       "\n",
       "    // Set the figure to an initial 600x600px, this will subsequently be updated\n",
       "    // upon first draw.\n",
       "    this._resize_canvas(600, 600);\n",
       "\n",
       "    // Disable right mouse context menu.\n",
       "    $(this.rubberband_canvas).bind(\"contextmenu\",function(e){\n",
       "        return false;\n",
       "    });\n",
       "\n",
       "    function set_focus () {\n",
       "        canvas.focus();\n",
       "        canvas_div.focus();\n",
       "    }\n",
       "\n",
       "    window.setTimeout(set_focus, 100);\n",
       "}\n",
       "\n",
       "mpl.figure.prototype._init_toolbar = function() {\n",
       "    var fig = this;\n",
       "\n",
       "    var nav_element = $('<div/>');\n",
       "    nav_element.attr('style', 'width: 100%');\n",
       "    this.root.append(nav_element);\n",
       "\n",
       "    // Define a callback function for later on.\n",
       "    function toolbar_event(event) {\n",
       "        return fig.toolbar_button_onclick(event['data']);\n",
       "    }\n",
       "    function toolbar_mouse_event(event) {\n",
       "        return fig.toolbar_button_onmouseover(event['data']);\n",
       "    }\n",
       "\n",
       "    for(var toolbar_ind in mpl.toolbar_items) {\n",
       "        var name = mpl.toolbar_items[toolbar_ind][0];\n",
       "        var tooltip = mpl.toolbar_items[toolbar_ind][1];\n",
       "        var image = mpl.toolbar_items[toolbar_ind][2];\n",
       "        var method_name = mpl.toolbar_items[toolbar_ind][3];\n",
       "\n",
       "        if (!name) {\n",
       "            // put a spacer in here.\n",
       "            continue;\n",
       "        }\n",
       "        var button = $('<button/>');\n",
       "        button.addClass('ui-button ui-widget ui-state-default ui-corner-all ' +\n",
       "                        'ui-button-icon-only');\n",
       "        button.attr('role', 'button');\n",
       "        button.attr('aria-disabled', 'false');\n",
       "        button.click(method_name, toolbar_event);\n",
       "        button.mouseover(tooltip, toolbar_mouse_event);\n",
       "\n",
       "        var icon_img = $('<span/>');\n",
       "        icon_img.addClass('ui-button-icon-primary ui-icon');\n",
       "        icon_img.addClass(image);\n",
       "        icon_img.addClass('ui-corner-all');\n",
       "\n",
       "        var tooltip_span = $('<span/>');\n",
       "        tooltip_span.addClass('ui-button-text');\n",
       "        tooltip_span.html(tooltip);\n",
       "\n",
       "        button.append(icon_img);\n",
       "        button.append(tooltip_span);\n",
       "\n",
       "        nav_element.append(button);\n",
       "    }\n",
       "\n",
       "    var fmt_picker_span = $('<span/>');\n",
       "\n",
       "    var fmt_picker = $('<select/>');\n",
       "    fmt_picker.addClass('mpl-toolbar-option ui-widget ui-widget-content');\n",
       "    fmt_picker_span.append(fmt_picker);\n",
       "    nav_element.append(fmt_picker_span);\n",
       "    this.format_dropdown = fmt_picker[0];\n",
       "\n",
       "    for (var ind in mpl.extensions) {\n",
       "        var fmt = mpl.extensions[ind];\n",
       "        var option = $(\n",
       "            '<option/>', {selected: fmt === mpl.default_extension}).html(fmt);\n",
       "        fmt_picker.append(option);\n",
       "    }\n",
       "\n",
       "    // Add hover states to the ui-buttons\n",
       "    $( \".ui-button\" ).hover(\n",
       "        function() { $(this).addClass(\"ui-state-hover\");},\n",
       "        function() { $(this).removeClass(\"ui-state-hover\");}\n",
       "    );\n",
       "\n",
       "    var status_bar = $('<span class=\"mpl-message\"/>');\n",
       "    nav_element.append(status_bar);\n",
       "    this.message = status_bar[0];\n",
       "}\n",
       "\n",
       "mpl.figure.prototype.request_resize = function(x_pixels, y_pixels) {\n",
       "    // Request matplotlib to resize the figure. Matplotlib will then trigger a resize in the client,\n",
       "    // which will in turn request a refresh of the image.\n",
       "    this.send_message('resize', {'width': x_pixels, 'height': y_pixels});\n",
       "}\n",
       "\n",
       "mpl.figure.prototype.send_message = function(type, properties) {\n",
       "    properties['type'] = type;\n",
       "    properties['figure_id'] = this.id;\n",
       "    this.ws.send(JSON.stringify(properties));\n",
       "}\n",
       "\n",
       "mpl.figure.prototype.send_draw_message = function() {\n",
       "    if (!this.waiting) {\n",
       "        this.waiting = true;\n",
       "        this.ws.send(JSON.stringify({type: \"draw\", figure_id: this.id}));\n",
       "    }\n",
       "}\n",
       "\n",
       "\n",
       "mpl.figure.prototype.handle_save = function(fig, msg) {\n",
       "    var format_dropdown = fig.format_dropdown;\n",
       "    var format = format_dropdown.options[format_dropdown.selectedIndex].value;\n",
       "    fig.ondownload(fig, format);\n",
       "}\n",
       "\n",
       "\n",
       "mpl.figure.prototype.handle_resize = function(fig, msg) {\n",
       "    var size = msg['size'];\n",
       "    if (size[0] != fig.canvas.width || size[1] != fig.canvas.height) {\n",
       "        fig._resize_canvas(size[0], size[1]);\n",
       "        fig.send_message(\"refresh\", {});\n",
       "    };\n",
       "}\n",
       "\n",
       "mpl.figure.prototype.handle_rubberband = function(fig, msg) {\n",
       "    var x0 = msg['x0'] / mpl.ratio;\n",
       "    var y0 = (fig.canvas.height - msg['y0']) / mpl.ratio;\n",
       "    var x1 = msg['x1'] / mpl.ratio;\n",
       "    var y1 = (fig.canvas.height - msg['y1']) / mpl.ratio;\n",
       "    x0 = Math.floor(x0) + 0.5;\n",
       "    y0 = Math.floor(y0) + 0.5;\n",
       "    x1 = Math.floor(x1) + 0.5;\n",
       "    y1 = Math.floor(y1) + 0.5;\n",
       "    var min_x = Math.min(x0, x1);\n",
       "    var min_y = Math.min(y0, y1);\n",
       "    var width = Math.abs(x1 - x0);\n",
       "    var height = Math.abs(y1 - y0);\n",
       "\n",
       "    fig.rubberband_context.clearRect(\n",
       "        0, 0, fig.canvas.width / mpl.ratio, fig.canvas.height / mpl.ratio);\n",
       "\n",
       "    fig.rubberband_context.strokeRect(min_x, min_y, width, height);\n",
       "}\n",
       "\n",
       "mpl.figure.prototype.handle_figure_label = function(fig, msg) {\n",
       "    // Updates the figure title.\n",
       "    fig.header.textContent = msg['label'];\n",
       "}\n",
       "\n",
       "mpl.figure.prototype.handle_cursor = function(fig, msg) {\n",
       "    var cursor = msg['cursor'];\n",
       "    switch(cursor)\n",
       "    {\n",
       "    case 0:\n",
       "        cursor = 'pointer';\n",
       "        break;\n",
       "    case 1:\n",
       "        cursor = 'default';\n",
       "        break;\n",
       "    case 2:\n",
       "        cursor = 'crosshair';\n",
       "        break;\n",
       "    case 3:\n",
       "        cursor = 'move';\n",
       "        break;\n",
       "    }\n",
       "    fig.rubberband_canvas.style.cursor = cursor;\n",
       "}\n",
       "\n",
       "mpl.figure.prototype.handle_message = function(fig, msg) {\n",
       "    fig.message.textContent = msg['message'];\n",
       "}\n",
       "\n",
       "mpl.figure.prototype.handle_draw = function(fig, msg) {\n",
       "    // Request the server to send over a new figure.\n",
       "    fig.send_draw_message();\n",
       "}\n",
       "\n",
       "mpl.figure.prototype.handle_image_mode = function(fig, msg) {\n",
       "    fig.image_mode = msg['mode'];\n",
       "}\n",
       "\n",
       "mpl.figure.prototype.updated_canvas_event = function() {\n",
       "    // Called whenever the canvas gets updated.\n",
       "    this.send_message(\"ack\", {});\n",
       "}\n",
       "\n",
       "// A function to construct a web socket function for onmessage handling.\n",
       "// Called in the figure constructor.\n",
       "mpl.figure.prototype._make_on_message_function = function(fig) {\n",
       "    return function socket_on_message(evt) {\n",
       "        if (evt.data instanceof Blob) {\n",
       "            /* FIXME: We get \"Resource interpreted as Image but\n",
       "             * transferred with MIME type text/plain:\" errors on\n",
       "             * Chrome.  But how to set the MIME type?  It doesn't seem\n",
       "             * to be part of the websocket stream */\n",
       "            evt.data.type = \"image/png\";\n",
       "\n",
       "            /* Free the memory for the previous frames */\n",
       "            if (fig.imageObj.src) {\n",
       "                (window.URL || window.webkitURL).revokeObjectURL(\n",
       "                    fig.imageObj.src);\n",
       "            }\n",
       "\n",
       "            fig.imageObj.src = (window.URL || window.webkitURL).createObjectURL(\n",
       "                evt.data);\n",
       "            fig.updated_canvas_event();\n",
       "            fig.waiting = false;\n",
       "            return;\n",
       "        }\n",
       "        else if (typeof evt.data === 'string' && evt.data.slice(0, 21) == \"data:image/png;base64\") {\n",
       "            fig.imageObj.src = evt.data;\n",
       "            fig.updated_canvas_event();\n",
       "            fig.waiting = false;\n",
       "            return;\n",
       "        }\n",
       "\n",
       "        var msg = JSON.parse(evt.data);\n",
       "        var msg_type = msg['type'];\n",
       "\n",
       "        // Call the  \"handle_{type}\" callback, which takes\n",
       "        // the figure and JSON message as its only arguments.\n",
       "        try {\n",
       "            var callback = fig[\"handle_\" + msg_type];\n",
       "        } catch (e) {\n",
       "            console.log(\"No handler for the '\" + msg_type + \"' message type: \", msg);\n",
       "            return;\n",
       "        }\n",
       "\n",
       "        if (callback) {\n",
       "            try {\n",
       "                // console.log(\"Handling '\" + msg_type + \"' message: \", msg);\n",
       "                callback(fig, msg);\n",
       "            } catch (e) {\n",
       "                console.log(\"Exception inside the 'handler_\" + msg_type + \"' callback:\", e, e.stack, msg);\n",
       "            }\n",
       "        }\n",
       "    };\n",
       "}\n",
       "\n",
       "// from http://stackoverflow.com/questions/1114465/getting-mouse-location-in-canvas\n",
       "mpl.findpos = function(e) {\n",
       "    //this section is from http://www.quirksmode.org/js/events_properties.html\n",
       "    var targ;\n",
       "    if (!e)\n",
       "        e = window.event;\n",
       "    if (e.target)\n",
       "        targ = e.target;\n",
       "    else if (e.srcElement)\n",
       "        targ = e.srcElement;\n",
       "    if (targ.nodeType == 3) // defeat Safari bug\n",
       "        targ = targ.parentNode;\n",
       "\n",
       "    // jQuery normalizes the pageX and pageY\n",
       "    // pageX,Y are the mouse positions relative to the document\n",
       "    // offset() returns the position of the element relative to the document\n",
       "    var x = e.pageX - $(targ).offset().left;\n",
       "    var y = e.pageY - $(targ).offset().top;\n",
       "\n",
       "    return {\"x\": x, \"y\": y};\n",
       "};\n",
       "\n",
       "/*\n",
       " * return a copy of an object with only non-object keys\n",
       " * we need this to avoid circular references\n",
       " * http://stackoverflow.com/a/24161582/3208463\n",
       " */\n",
       "function simpleKeys (original) {\n",
       "  return Object.keys(original).reduce(function (obj, key) {\n",
       "    if (typeof original[key] !== 'object')\n",
       "        obj[key] = original[key]\n",
       "    return obj;\n",
       "  }, {});\n",
       "}\n",
       "\n",
       "mpl.figure.prototype.mouse_event = function(event, name) {\n",
       "    var canvas_pos = mpl.findpos(event)\n",
       "\n",
       "    if (name === 'button_press')\n",
       "    {\n",
       "        this.canvas.focus();\n",
       "        this.canvas_div.focus();\n",
       "    }\n",
       "\n",
       "    var x = canvas_pos.x * mpl.ratio;\n",
       "    var y = canvas_pos.y * mpl.ratio;\n",
       "\n",
       "    this.send_message(name, {x: x, y: y, button: event.button,\n",
       "                             step: event.step,\n",
       "                             guiEvent: simpleKeys(event)});\n",
       "\n",
       "    /* This prevents the web browser from automatically changing to\n",
       "     * the text insertion cursor when the button is pressed.  We want\n",
       "     * to control all of the cursor setting manually through the\n",
       "     * 'cursor' event from matplotlib */\n",
       "    event.preventDefault();\n",
       "    return false;\n",
       "}\n",
       "\n",
       "mpl.figure.prototype._key_event_extra = function(event, name) {\n",
       "    // Handle any extra behaviour associated with a key event\n",
       "}\n",
       "\n",
       "mpl.figure.prototype.key_event = function(event, name) {\n",
       "\n",
       "    // Prevent repeat events\n",
       "    if (name == 'key_press')\n",
       "    {\n",
       "        if (event.which === this._key)\n",
       "            return;\n",
       "        else\n",
       "            this._key = event.which;\n",
       "    }\n",
       "    if (name == 'key_release')\n",
       "        this._key = null;\n",
       "\n",
       "    var value = '';\n",
       "    if (event.ctrlKey && event.which != 17)\n",
       "        value += \"ctrl+\";\n",
       "    if (event.altKey && event.which != 18)\n",
       "        value += \"alt+\";\n",
       "    if (event.shiftKey && event.which != 16)\n",
       "        value += \"shift+\";\n",
       "\n",
       "    value += 'k';\n",
       "    value += event.which.toString();\n",
       "\n",
       "    this._key_event_extra(event, name);\n",
       "\n",
       "    this.send_message(name, {key: value,\n",
       "                             guiEvent: simpleKeys(event)});\n",
       "    return false;\n",
       "}\n",
       "\n",
       "mpl.figure.prototype.toolbar_button_onclick = function(name) {\n",
       "    if (name == 'download') {\n",
       "        this.handle_save(this, null);\n",
       "    } else {\n",
       "        this.send_message(\"toolbar_button\", {name: name});\n",
       "    }\n",
       "};\n",
       "\n",
       "mpl.figure.prototype.toolbar_button_onmouseover = function(tooltip) {\n",
       "    this.message.textContent = tooltip;\n",
       "};\n",
       "mpl.toolbar_items = [[\"Home\", \"Reset original view\", \"fa fa-home icon-home\", \"home\"], [\"Back\", \"Back to previous view\", \"fa fa-arrow-left icon-arrow-left\", \"back\"], [\"Forward\", \"Forward to next view\", \"fa fa-arrow-right icon-arrow-right\", \"forward\"], [\"\", \"\", \"\", \"\"], [\"Pan\", \"Pan axes with left mouse, zoom with right\", \"fa fa-arrows icon-move\", \"pan\"], [\"Zoom\", \"Zoom to rectangle\", \"fa fa-square-o icon-check-empty\", \"zoom\"], [\"\", \"\", \"\", \"\"], [\"Download\", \"Download plot\", \"fa fa-floppy-o icon-save\", \"download\"]];\n",
       "\n",
       "mpl.extensions = [\"eps\", \"jpeg\", \"pdf\", \"png\", \"ps\", \"raw\", \"svg\", \"tif\"];\n",
       "\n",
       "mpl.default_extension = \"png\";var comm_websocket_adapter = function(comm) {\n",
       "    // Create a \"websocket\"-like object which calls the given IPython comm\n",
       "    // object with the appropriate methods. Currently this is a non binary\n",
       "    // socket, so there is still some room for performance tuning.\n",
       "    var ws = {};\n",
       "\n",
       "    ws.close = function() {\n",
       "        comm.close()\n",
       "    };\n",
       "    ws.send = function(m) {\n",
       "        //console.log('sending', m);\n",
       "        comm.send(m);\n",
       "    };\n",
       "    // Register the callback with on_msg.\n",
       "    comm.on_msg(function(msg) {\n",
       "        //console.log('receiving', msg['content']['data'], msg);\n",
       "        // Pass the mpl event to the overridden (by mpl) onmessage function.\n",
       "        ws.onmessage(msg['content']['data'])\n",
       "    });\n",
       "    return ws;\n",
       "}\n",
       "\n",
       "mpl.mpl_figure_comm = function(comm, msg) {\n",
       "    // This is the function which gets called when the mpl process\n",
       "    // starts-up an IPython Comm through the \"matplotlib\" channel.\n",
       "\n",
       "    var id = msg.content.data.id;\n",
       "    // Get hold of the div created by the display call when the Comm\n",
       "    // socket was opened in Python.\n",
       "    var element = $(\"#\" + id);\n",
       "    var ws_proxy = comm_websocket_adapter(comm)\n",
       "\n",
       "    function ondownload(figure, format) {\n",
       "        window.open(figure.imageObj.src);\n",
       "    }\n",
       "\n",
       "    var fig = new mpl.figure(id, ws_proxy,\n",
       "                           ondownload,\n",
       "                           element.get(0));\n",
       "\n",
       "    // Call onopen now - mpl needs it, as it is assuming we've passed it a real\n",
       "    // web socket which is closed, not our websocket->open comm proxy.\n",
       "    ws_proxy.onopen();\n",
       "\n",
       "    fig.parent_element = element.get(0);\n",
       "    fig.cell_info = mpl.find_output_cell(\"<div id='\" + id + \"'></div>\");\n",
       "    if (!fig.cell_info) {\n",
       "        console.error(\"Failed to find cell for figure\", id, fig);\n",
       "        return;\n",
       "    }\n",
       "\n",
       "    var output_index = fig.cell_info[2]\n",
       "    var cell = fig.cell_info[0];\n",
       "\n",
       "};\n",
       "\n",
       "mpl.figure.prototype.handle_close = function(fig, msg) {\n",
       "    var width = fig.canvas.width/mpl.ratio\n",
       "    fig.root.unbind('remove')\n",
       "\n",
       "    // Update the output cell to use the data from the current canvas.\n",
       "    fig.push_to_output();\n",
       "    var dataURL = fig.canvas.toDataURL();\n",
       "    // Re-enable the keyboard manager in IPython - without this line, in FF,\n",
       "    // the notebook keyboard shortcuts fail.\n",
       "    IPython.keyboard_manager.enable()\n",
       "    $(fig.parent_element).html('<img src=\"' + dataURL + '\" width=\"' + width + '\">');\n",
       "    fig.close_ws(fig, msg);\n",
       "}\n",
       "\n",
       "mpl.figure.prototype.close_ws = function(fig, msg){\n",
       "    fig.send_message('closing', msg);\n",
       "    // fig.ws.close()\n",
       "}\n",
       "\n",
       "mpl.figure.prototype.push_to_output = function(remove_interactive) {\n",
       "    // Turn the data on the canvas into data in the output cell.\n",
       "    var width = this.canvas.width/mpl.ratio\n",
       "    var dataURL = this.canvas.toDataURL();\n",
       "    this.cell_info[1]['text/html'] = '<img src=\"' + dataURL + '\" width=\"' + width + '\">';\n",
       "}\n",
       "\n",
       "mpl.figure.prototype.updated_canvas_event = function() {\n",
       "    // Tell IPython that the notebook contents must change.\n",
       "    IPython.notebook.set_dirty(true);\n",
       "    this.send_message(\"ack\", {});\n",
       "    var fig = this;\n",
       "    // Wait a second, then push the new image to the DOM so\n",
       "    // that it is saved nicely (might be nice to debounce this).\n",
       "    setTimeout(function () { fig.push_to_output() }, 1000);\n",
       "}\n",
       "\n",
       "mpl.figure.prototype._init_toolbar = function() {\n",
       "    var fig = this;\n",
       "\n",
       "    var nav_element = $('<div/>');\n",
       "    nav_element.attr('style', 'width: 100%');\n",
       "    this.root.append(nav_element);\n",
       "\n",
       "    // Define a callback function for later on.\n",
       "    function toolbar_event(event) {\n",
       "        return fig.toolbar_button_onclick(event['data']);\n",
       "    }\n",
       "    function toolbar_mouse_event(event) {\n",
       "        return fig.toolbar_button_onmouseover(event['data']);\n",
       "    }\n",
       "\n",
       "    for(var toolbar_ind in mpl.toolbar_items){\n",
       "        var name = mpl.toolbar_items[toolbar_ind][0];\n",
       "        var tooltip = mpl.toolbar_items[toolbar_ind][1];\n",
       "        var image = mpl.toolbar_items[toolbar_ind][2];\n",
       "        var method_name = mpl.toolbar_items[toolbar_ind][3];\n",
       "\n",
       "        if (!name) { continue; };\n",
       "\n",
       "        var button = $('<button class=\"btn btn-default\" href=\"#\" title=\"' + name + '\"><i class=\"fa ' + image + ' fa-lg\"></i></button>');\n",
       "        button.click(method_name, toolbar_event);\n",
       "        button.mouseover(tooltip, toolbar_mouse_event);\n",
       "        nav_element.append(button);\n",
       "    }\n",
       "\n",
       "    // Add the status bar.\n",
       "    var status_bar = $('<span class=\"mpl-message\" style=\"text-align:right; float: right;\"/>');\n",
       "    nav_element.append(status_bar);\n",
       "    this.message = status_bar[0];\n",
       "\n",
       "    // Add the close button to the window.\n",
       "    var buttongrp = $('<div class=\"btn-group inline pull-right\"></div>');\n",
       "    var button = $('<button class=\"btn btn-mini btn-primary\" href=\"#\" title=\"Stop Interaction\"><i class=\"fa fa-power-off icon-remove icon-large\"></i></button>');\n",
       "    button.click(function (evt) { fig.handle_close(fig, {}); } );\n",
       "    button.mouseover('Stop Interaction', toolbar_mouse_event);\n",
       "    buttongrp.append(button);\n",
       "    var titlebar = this.root.find($('.ui-dialog-titlebar'));\n",
       "    titlebar.prepend(buttongrp);\n",
       "}\n",
       "\n",
       "mpl.figure.prototype._root_extra_style = function(el){\n",
       "    var fig = this\n",
       "    el.on(\"remove\", function(){\n",
       "\tfig.close_ws(fig, {});\n",
       "    });\n",
       "}\n",
       "\n",
       "mpl.figure.prototype._canvas_extra_style = function(el){\n",
       "    // this is important to make the div 'focusable\n",
       "    el.attr('tabindex', 0)\n",
       "    // reach out to IPython and tell the keyboard manager to turn it's self\n",
       "    // off when our div gets focus\n",
       "\n",
       "    // location in version 3\n",
       "    if (IPython.notebook.keyboard_manager) {\n",
       "        IPython.notebook.keyboard_manager.register_events(el);\n",
       "    }\n",
       "    else {\n",
       "        // location in version 2\n",
       "        IPython.keyboard_manager.register_events(el);\n",
       "    }\n",
       "\n",
       "}\n",
       "\n",
       "mpl.figure.prototype._key_event_extra = function(event, name) {\n",
       "    var manager = IPython.notebook.keyboard_manager;\n",
       "    if (!manager)\n",
       "        manager = IPython.keyboard_manager;\n",
       "\n",
       "    // Check for shift+enter\n",
       "    if (event.shiftKey && event.which == 13) {\n",
       "        this.canvas_div.blur();\n",
       "        // select the cell after this one\n",
       "        var index = IPython.notebook.find_cell_index(this.cell_info[0]);\n",
       "        IPython.notebook.select(index + 1);\n",
       "    }\n",
       "}\n",
       "\n",
       "mpl.figure.prototype.handle_save = function(fig, msg) {\n",
       "    fig.ondownload(fig, null);\n",
       "}\n",
       "\n",
       "\n",
       "mpl.find_output_cell = function(html_output) {\n",
       "    // Return the cell and output element which can be found *uniquely* in the notebook.\n",
       "    // Note - this is a bit hacky, but it is done because the \"notebook_saving.Notebook\"\n",
       "    // IPython event is triggered only after the cells have been serialised, which for\n",
       "    // our purposes (turning an active figure into a static one), is too late.\n",
       "    var cells = IPython.notebook.get_cells();\n",
       "    var ncells = cells.length;\n",
       "    for (var i=0; i<ncells; i++) {\n",
       "        var cell = cells[i];\n",
       "        if (cell.cell_type === 'code'){\n",
       "            for (var j=0; j<cell.output_area.outputs.length; j++) {\n",
       "                var data = cell.output_area.outputs[j];\n",
       "                if (data.data) {\n",
       "                    // IPython >= 3 moved mimebundle to data attribute of output\n",
       "                    data = data.data;\n",
       "                }\n",
       "                if (data['text/html'] == html_output) {\n",
       "                    return [cell, data, j];\n",
       "                }\n",
       "            }\n",
       "        }\n",
       "    }\n",
       "}\n",
       "\n",
       "// Register the function which deals with the matplotlib target/channel.\n",
       "// The kernel may be null if the page has been refreshed.\n",
       "if (IPython.notebook.kernel != null) {\n",
       "    IPython.notebook.kernel.comm_manager.register_target('matplotlib', mpl.mpl_figure_comm);\n",
       "}\n"
      ],
      "text/plain": [
       "<IPython.core.display.Javascript object>"
      ]
     },
     "metadata": {},
     "output_type": "display_data"
    },
    {
     "data": {
      "text/html": [
       "<img src=\"data:image/png;base64,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\" width=\"999.75\">"
      ],
      "text/plain": [
       "<IPython.core.display.HTML object>"
      ]
     },
     "metadata": {},
     "output_type": "display_data"
    }
   ],
   "source": [
    "dual_train_plots(results.index,\n",
    "                 results.cost, results.val, \n",
    "                 results['eff_val'].apply(lambda x: x.eff_rate),\n",
    "                 results['eff_val'].apply(lambda x: x.fp_rate))\n",
    "plt.tight_layout()\n",
    "plt.savefig(str(output / f'{name}_stats_a.png'))"
   ]
  },
  {
   "cell_type": "code",
   "execution_count": 20,
   "metadata": {},
   "outputs": [],
   "source": [
    "##quit()"
   ]
  },
  {
   "cell_type": "code",
   "execution_count": null,
   "metadata": {},
   "outputs": [],
   "source": []
  }
 ],
 "metadata": {
  "kernelspec": {
   "display_name": "goofit",
   "language": "python",
   "name": "goofit"
  },
  "language_info": {
   "codemirror_mode": {
    "name": "ipython",
    "version": 3
   },
   "file_extension": ".py",
   "mimetype": "text/x-python",
   "name": "python",
   "nbconvert_exporter": "python",
   "pygments_lexer": "ipython3",
   "version": "3.7.6"
  }
 },
 "nbformat": 4,
 "nbformat_minor": 2
}
