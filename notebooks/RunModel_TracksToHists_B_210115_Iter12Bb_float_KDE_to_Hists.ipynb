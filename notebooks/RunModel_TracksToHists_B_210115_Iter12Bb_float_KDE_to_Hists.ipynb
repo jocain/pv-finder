{
 "cells": [
  {
   "cell_type": "code",
   "execution_count": 1,
   "metadata": {},
   "outputs": [],
   "source": [
    "##%matplotlib widget\n",
    "## with %matplotlib notebook: seems to require ipympl as part of environment, either\n",
    "## part of the conda environment or \"pip install ipympl\"\n",
    "## otherwise, does not show ANY plots in notebook, plt.savefig() works\n",
    "%matplotlib notebook  \n",
    "##%matplotlib inline    ## --plt.savefig()  works, but re-sizing does NOT\n"
   ]
  },
  {
   "cell_type": "markdown",
   "metadata": {},
   "source": [
    "This notebook is a first attempt to read in track information and use it to predict the the full target histrograms.\n",
    "\n",
    "It will read in the TracksToDKE__Ellipsoids_DDPlus model to predict the KDE, and then feed it into a SimpleCNN model to predict the target histograms.  Initially, it will use previously trained weights.\n"
   ]
  },
  {
   "cell_type": "markdown",
   "metadata": {},
   "source": [
    "Check the current GPU usage. Please try to be nice!"
   ]
  },
  {
   "cell_type": "code",
   "execution_count": 2,
   "metadata": {},
   "outputs": [
    {
     "name": "stdout",
     "output_type": "stream",
     "text": [
      "Fri Jan 15 20:06:50 2021       \r\n",
      "+-----------------------------------------------------------------------------+\r\n",
      "| NVIDIA-SMI 450.36.06    Driver Version: 450.36.06    CUDA Version: 11.0     |\r\n",
      "|-------------------------------+----------------------+----------------------+\r\n",
      "| GPU  Name        Persistence-M| Bus-Id        Disp.A | Volatile Uncorr. ECC |\r\n",
      "| Fan  Temp  Perf  Pwr:Usage/Cap|         Memory-Usage | GPU-Util  Compute M. |\r\n",
      "|                               |                      |               MIG M. |\r\n",
      "|===============================+======================+======================|\r\n",
      "|   0  GeForce RTX 208...  On   | 00000000:18:00.0 Off |                  N/A |\r\n",
      "| 29%   35C    P8    39W / 250W |  10778MiB / 11019MiB |      0%      Default |\r\n",
      "|                               |                      |                  N/A |\r\n",
      "+-------------------------------+----------------------+----------------------+\r\n",
      "|   1  GeForce RTX 208...  On   | 00000000:3B:00.0 Off |                  N/A |\r\n",
      "| 29%   36C    P8    39W / 250W |     61MiB / 11019MiB |      0%      Default |\r\n",
      "|                               |                      |                  N/A |\r\n",
      "+-------------------------------+----------------------+----------------------+\r\n",
      "                                                                               \r\n",
      "+-----------------------------------------------------------------------------+\r\n",
      "| Processes:                                                                  |\r\n",
      "|  GPU   GI   CI        PID   Type   Process name                  GPU Memory |\r\n",
      "|        ID   ID                                                   Usage      |\r\n",
      "|=============================================================================|\r\n",
      "|    0   N/A  N/A     10361      C   ...s/june2020-gpu/bin/python     4215MiB |\r\n",
      "|    0   N/A  N/A    244396      C   ...s/june2020-gpu/bin/python     6559MiB |\r\n",
      "|    1   N/A  N/A      3736      G   /usr/bin/X                         33MiB |\r\n",
      "|    1   N/A  N/A      3790      G   /usr/bin/gnome-shell               25MiB |\r\n",
      "+-----------------------------------------------------------------------------+\r\n"
     ]
    }
   ],
   "source": [
    "!nvidia-smi"
   ]
  },
  {
   "cell_type": "markdown",
   "metadata": {},
   "source": [
    "> **WARNING**: The card numbers here are *not* the same as in CUDA. You have been warned."
   ]
  },
  {
   "cell_type": "markdown",
   "metadata": {},
   "source": [
    "## Imports"
   ]
  },
  {
   "cell_type": "code",
   "execution_count": 3,
   "metadata": {},
   "outputs": [],
   "source": [
    "import matplotlib.pyplot as plt\n",
    "import numpy as np\n",
    "import time\n",
    "import torch\n",
    "import pandas as pd\n",
    "\n",
    "# Python 3 standard library\n",
    "from pathlib import Path\n",
    "\n",
    "from model.efficiency import pv_locations, efficiency\n",
    "\n",
    "##from torchsummary import summary"
   ]
  },
  {
   "cell_type": "markdown",
   "metadata": {},
   "source": [
    "### Set up local parameters"
   ]
  },
  {
   "cell_type": "code",
   "execution_count": 4,
   "metadata": {},
   "outputs": [],
   "source": [
    "n_epochs = 150\n",
    "\n",
    "# Name is the output file name\n",
    "\n",
    "\n",
    "##  200719  mds\n",
    "##folder = '20December_Tracks_to_KDE_TestTrainedModel'\n",
    "##folder = '22December_testing_DDplus_loss_Bb_iter2_floatAll_100epochs_3em6'\n",
    "## 50 epochs using 4 of Will's files with batch_size = 48 should take\n",
    "##  just over 8 hours\n",
    "folder = '15Jan2021_TracksToHists_B_Iter12Bb_150epochs_lr_1p5em5_b48_2p5_kde2hists_float_all_4x_will'\n",
    "name = folder\n",
    "\n",
    "# Make an output folder named \"name\" (change if you want)\n",
    "\n",
    "## Special instructions for those working on goofy at UC\n",
    "## Please be very careful to make sure that your folder\n",
    "## does not live in a subdirectory of your home directory\n",
    "## this disk has very little capacity. Instead, use \n",
    "## a subdirectory in /share/lazy with a symbolic link to\n",
    "## it in this (the notebooks) subdirectory\n",
    "folder = 'ML/' + folder\n",
    "output = Path(folder)\n",
    "\n",
    "\n",
    "# Size of batches\n",
    "## reduce batch size from 64 to 32 when floating all the parameters\n",
    "##  it *appears* that storing the gradients requires extra memory\n",
    "##  batch_size = 32 --> 6623MiB / 11019 MiB on sleepy RTX2081 Ti\n",
    "batch_size = 48\n",
    "# How fast to learn\n",
    "## learning rate was 1e-7 for all layers in TracksToHists_A\n",
    "## here we want to learn only weights in the finalFilter layer\n",
    "## of TracksToHists_B, so try a high learning rate, at least initially\n",
    "## 1e-3 did well for the first 10 epochs; let's increase it for the next 40\n",
    "## reduce to 1e-3 for iteration with KDE_to_Hists weights floated\n",
    "##  cost decreased monotonically in previous run, so increase lr to 2e-3\n",
    "##  tried running with lr = 2e-3 and the validation cost function \n",
    "##  bounced around.  Want to try using a lower learning rate and\n",
    "##  a larger training sample\n",
    "##  Iter5B --  float all, leave learning rate = 5e-4\n",
    "##  Iter6C, with lr = 1e-5 rather than 1e-6, seems to be learning more quickly,\n",
    "##  so increase the learning rate to 1e-5 for Iter7B\n",
    "learning_rate = 1.5e-5"
   ]
  },
  {
   "cell_type": "markdown",
   "metadata": {},
   "source": [
    "Make the output directory if it does not exist:"
   ]
  },
  {
   "cell_type": "code",
   "execution_count": 5,
   "metadata": {},
   "outputs": [],
   "source": [
    "output.mkdir(exist_ok=True)"
   ]
  },
  {
   "cell_type": "markdown",
   "metadata": {},
   "source": [
    "## Get the helper functions\n",
    "\n",
    "Add the directory with the model\n",
    "definitions to the path so we can import from it:\n",
    "\n",
    "> When you type `import X`,\n",
    "Python searches `sys.path` for a python\n",
    "file named `X.py` to import. So we need to add the model directory to the path."
   ]
  },
  {
   "cell_type": "code",
   "execution_count": 6,
   "metadata": {
    "scrolled": true
   },
   "outputs": [],
   "source": [
    "# From model/collectdata.py\n",
    "##from model.collectdata_kde_Ellipsoids import collect_t2kde_data\n",
    "from model.collectdata_t2hists import collect_t2hists_data\n",
    "from model.collectdata_mdsA  import collect_truth\n",
    "\n",
    "# From model/loss.py\n",
    "##from loss import Loss\n",
    "##from model.kde_loss_D import Loss\n",
    "## from model.kde_loss_B import Loss  ## Tracks_to_KDE loss, not for target hists\n",
    "\n",
    "##  \"standard\" ratios loss for hists training\n",
    "from model.alt_loss_A import Loss  ## loss used to train RunModel_Demo_28November2020-SimpleCNNLayer_Ca-Restart_5\n",
    "\n",
    "\n",
    "##from model.models_kde import TracksToKDE_Ellipsoids_DirtyDozen as Model\n",
    "from model.models_kde import TracksToKDE_Ellipsoids_DDplus as t2kde_model\n",
    "##from model.models_mds_G import SimpleCNN5Layer_Ca as kde2hists_model\n",
    "from model.models_mds_28Dec20 import SimpleCNN5Layer_Ca as kde2hists_model  ## copy of models_mds_01June20 for debugging\n",
    "from model.models_t2hists import TracksToHists_B as t2hists_model\n",
    "\n",
    "\n",
    "##from model.training_kde import trainNet, select_gpu, Results\n",
    "## training_t2hists_A.py increases \"difference\" for accepting found\n",
    "## peaks as matched from 5 bins to 7.5 bins (compmared to original training.py)\n",
    "from model.training_t2hists_A import trainNet, select_gpu, Results\n",
    "from model.plots import dual_train_plots, replace_in_ax"
   ]
  },
  {
   "cell_type": "code",
   "execution_count": 7,
   "metadata": {},
   "outputs": [],
   "source": [
    "# This gets built up during the run - do not rerun this cell\n",
    "results = pd.DataFrame([], columns=Results._fields)"
   ]
  },
  {
   "cell_type": "markdown",
   "metadata": {},
   "source": [
    "Set up Torch device configuration. All tensors and model parameters need to know where to be put.\n",
    "This takes a BUS ID number: The BUS ID is the same as the listing at the top of this script."
   ]
  },
  {
   "cell_type": "code",
   "execution_count": 8,
   "metadata": {},
   "outputs": [
    {
     "name": "stdout",
     "output_type": "stream",
     "text": [
      "1 available GPUs (initially using device 0):\n",
      "  0 GeForce RTX 2080 Ti\n"
     ]
    }
   ],
   "source": [
    "device = select_gpu(1)\n",
    "##device = \"cpu\""
   ]
  },
  {
   "cell_type": "markdown",
   "metadata": {},
   "source": [
    "## Loading data\n",
    "\n",
    "Load the dataset, split into parts, then move to device (see `collectdata.py` in the `../model` directory)"
   ]
  },
  {
   "cell_type": "code",
   "execution_count": 9,
   "metadata": {
    "scrolled": false
   },
   "outputs": [
    {
     "name": "stdout",
     "output_type": "stream",
     "text": [
      "Loading data...\n",
      "pocaMx.shape =  (80000,)\n",
      "nEvts =  80000\n",
      "len(pocaMx[0]) =  199\n",
      "len(pocaMx[1]) =  25\n",
      "len(pocaMx[2]) =  369\n",
      "len(pocaMx[3]) =  143\n",
      "len(pocaMx[4]) =  160\n",
      "have entered six_ellipsoid_parameters\n",
      "  \n",
      " \n",
      "  nEvts =  80000\n",
      " iEvt, nTrks =  0 199\n",
      " iEvt, nTrks =  1 25\n",
      " iEvt, nTrks =  2 369\n",
      " iEvt, nTrks =  3 143\n",
      " iEvt, nTrks =  4 160\n",
      " iEvt, nTrks =  5 260\n",
      " iEvt, nTrks =  6 237\n",
      " iEvt, nTrks =  7 327\n",
      " iEvt, nTrks =  8 178\n",
      " iEvt, nTrks =  9 106\n",
      "len(X) =  80000\n",
      "len(Xlist) =  1\n",
      "Loaded /share/lazy/will/data/June30_2020_80k_1.h5 in 107.2 s\n",
      "pocaMx.shape =  (80000,)\n",
      "nEvts =  80000\n",
      "len(pocaMx[0]) =  222\n",
      "len(pocaMx[1]) =  133\n",
      "len(pocaMx[2]) =  259\n",
      "len(pocaMx[3]) =  114\n",
      "len(pocaMx[4]) =  143\n",
      "have entered six_ellipsoid_parameters\n",
      "  \n",
      " \n",
      "  nEvts =  80000\n",
      " iEvt, nTrks =  0 222\n",
      " iEvt, nTrks =  1 133\n",
      " iEvt, nTrks =  2 259\n",
      " iEvt, nTrks =  3 114\n",
      " iEvt, nTrks =  4 143\n",
      " iEvt, nTrks =  5 136\n",
      " iEvt, nTrks =  6 397\n",
      " iEvt, nTrks =  7 370\n",
      " iEvt, nTrks =  8 97\n",
      " iEvt, nTrks =  9 67\n",
      "len(X) =  80000\n",
      "len(Xlist) =  2\n",
      "Loaded /share/lazy/will/data/June30_2020_80k_2.h5 in 104.7 s\n",
      "pocaMx.shape =  (80000,)\n",
      "nEvts =  80000\n",
      "len(pocaMx[0]) =  196\n",
      "len(pocaMx[1]) =  35\n",
      "len(pocaMx[2]) =  265\n",
      "len(pocaMx[3]) =  128\n",
      "len(pocaMx[4]) =  124\n",
      "have entered six_ellipsoid_parameters\n",
      "  \n",
      " \n",
      "  nEvts =  80000\n",
      " iEvt, nTrks =  0 196\n",
      " iEvt, nTrks =  1 35\n",
      " iEvt, nTrks =  2 265\n",
      " iEvt, nTrks =  3 128\n",
      " iEvt, nTrks =  4 124\n",
      " iEvt, nTrks =  5 122\n",
      " iEvt, nTrks =  6 300\n",
      " iEvt, nTrks =  7 179\n",
      " iEvt, nTrks =  8 243\n",
      " iEvt, nTrks =  9 112\n",
      "len(X) =  80000\n",
      "len(Xlist) =  3\n",
      "Loaded /share/lazy/will/data/June30_2020_80k_3.h5 in 105.7 s\n",
      "pocaMx.shape =  (80000,)\n",
      "nEvts =  80000\n",
      "len(pocaMx[0]) =  204\n",
      "len(pocaMx[1]) =  33\n",
      "len(pocaMx[2]) =  206\n",
      "len(pocaMx[3]) =  150\n",
      "len(pocaMx[4]) =  96\n",
      "have entered six_ellipsoid_parameters\n",
      "  \n",
      " \n",
      "  nEvts =  80000\n",
      " iEvt, nTrks =  0 204\n",
      " iEvt, nTrks =  1 33\n",
      " iEvt, nTrks =  2 206\n",
      " iEvt, nTrks =  3 150\n",
      " iEvt, nTrks =  4 96\n",
      " iEvt, nTrks =  5 10\n",
      " iEvt, nTrks =  6 174\n",
      " iEvt, nTrks =  7 320\n",
      " iEvt, nTrks =  8 164\n",
      " iEvt, nTrks =  9 119\n",
      "len(X) =  80000\n",
      "len(Xlist) =  4\n",
      "Loaded /share/lazy/will/data/June30_2020_80k_4.h5 in 103.5 s\n",
      "outer loop X.shape =  (320000, 9, 600)\n",
      "Constructing 320000 event dataset took 1.678 s\n",
      "x_t.shape =  torch.Size([320000, 9, 600])\n",
      "x_t.shape[0] =  320000\n",
      "x_t.shape[1] =  9\n",
      "x_t.shape =  torch.Size([320000, 9, 600])\n",
      "Loading data...\n",
      "pocaMx.shape =  (20000,)\n",
      "nEvts =  20000\n",
      "len(pocaMx[0]) =  211\n",
      "len(pocaMx[1]) =  21\n",
      "len(pocaMx[2]) =  20\n",
      "len(pocaMx[3]) =  198\n",
      "len(pocaMx[4]) =  233\n",
      "have entered six_ellipsoid_parameters\n",
      "  \n",
      " \n",
      "  nEvts =  20000\n",
      " iEvt, nTrks =  0 211\n",
      " iEvt, nTrks =  1 21\n",
      " iEvt, nTrks =  2 20\n",
      " iEvt, nTrks =  3 198\n",
      " iEvt, nTrks =  4 233\n",
      " iEvt, nTrks =  5 85\n",
      " iEvt, nTrks =  6 223\n",
      " iEvt, nTrks =  7 425\n",
      " iEvt, nTrks =  8 252\n",
      " iEvt, nTrks =  9 169\n",
      "len(X) =  20000\n",
      "len(Xlist) =  1\n",
      "Loaded dataAA/20K_POCA_kernel_evts_200926.h5 in 24.46 s\n",
      "outer loop X.shape =  (20000, 9, 600)\n",
      "Constructing 20000 event dataset took 2.33 s\n",
      "x_t.shape =  torch.Size([20000, 9, 600])\n",
      "x_t.shape[0] =  20000\n",
      "x_t.shape[1] =  9\n",
      "x_t.shape =  torch.Size([20000, 9, 600])\n",
      "Loaded dataAA/20K_POCA_kernel_evts_200926.h5 in 0.01113 s\n",
      "PV.n.shape =     (20000,)\n",
      "PV.n[0].shape =  6\n",
      "PV.x[0] =        -0.06039733 0.034324445 0.032115813 0.0021888595 -0.035334907 -0.013019809\n",
      "PV.y[0] =        -0.09381338 -0.013181885 -0.030898828 -0.08940365 -0.0058297813 0.062288247\n",
      "PV.z[0] =        97.82085 61.021088 -0.15807877 134.26784 -29.881668 79.19783\n",
      "PV.n[0] =        24 26 10 7 24 19\n",
      "PV.cat[0] =      1 1 1 1 1 1\n",
      "Loaded dataAA/20K_POCA_kernel_evts_200926.h5 in 0.01005 s\n",
      "SV.n.shape =     (20000,)\n",
      "SV.n[0].shape =  2\n",
      "SV.x[0] =        -0.014751727 0.03923173\n",
      "SV.y[0] =        0.050640453 0.08648109\n",
      "SV.z[0] =        78.924194 79.170876\n",
      "SV.n[0] =        2 0\n",
      "SV.cat[0] =      1 -1\n"
     ]
    }
   ],
   "source": [
    "## 210109 let's use some of Will's toy MC for training rather than the 20K sample I've been using\n",
    "\n",
    "##train_loader = collect_t2hists_data('dataAA/20K_POCA_kernel_evts_200926.h5',\n",
    "train_loader = collect_t2hists_data('/share/lazy/will/data/June30_2020_80k_1.h5', \n",
    "                                    '/share/lazy/will/data/June30_2020_80k_2.h5',\n",
    "                                    '/share/lazy/will/data/June30_2020_80k_3.h5',\n",
    "                                    '/share/lazy/will/data/June30_2020_80k_4.h5',\n",
    "                             batch_size=batch_size,\n",
    "## if we are using a larger dataset (240K events, with the datasets above, and 11 GB  of GPU memory),\n",
    "## not the dataset will overflow the GPU memory; device=device will allow the data to move back\n",
    "## and forth between the CPU and GPU memory. While this allows use of a larger dataset, it slows\n",
    "## down performance by about 10%.  So comment out when not needed.\n",
    "##                           device=device,\n",
    "##                             slice = slice(0,18000)\n",
    "                           )\n",
    "\n",
    "\n",
    "\n",
    "                            \n",
    "# Validation dataset. You can slice to reduce the size.\n",
    "## mds no separate validation set yet,\n",
    "\n",
    "## 210109 and use everything in this 20K file for validation\n",
    "val_loader = collect_t2hists_data('dataAA/20K_POCA_kernel_evts_200926.h5',\n",
    "                            batch_size=batch_size,\n",
    "                            device=device,\n",
    "##                           slice = slice(18000,None)\n",
    "                           )\n",
    "\n",
    "PV = collect_truth('dataAA/20K_POCA_kernel_evts_200926.h5', pvs=True)\n",
    "print('PV.n.shape =    ',  PV.n.shape)\n",
    "print('PV.n[0].shape = ', *PV.n[0].shape)\n",
    "print('PV.x[0] =       ', *PV.x[0])\n",
    "print('PV.y[0] =       ', *PV.y[0])\n",
    "print('PV.z[0] =       ', *PV.z[0])\n",
    "print('PV.n[0] =       ', *PV.n[0])\n",
    "print('PV.cat[0] =     ', *PV.cat[0])\n",
    "\n",
    "SV = collect_truth('dataAA/20K_POCA_kernel_evts_200926.h5', pvs=False)\n",
    "print('SV.n.shape =    ', SV.n.shape)\n",
    "print('SV.n[0].shape = ', *SV.n[0].shape)\n",
    "print('SV.x[0] =       ', *SV.x[0])\n",
    "print('SV.y[0] =       ', *SV.y[0])\n",
    "print('SV.z[0] =       ', *SV.z[0])\n",
    "print('SV.n[0] =       ', *SV.n[0])\n",
    "print('SV.cat[0] =     ', *SV.cat[0])\n"
   ]
  },
  {
   "cell_type": "markdown",
   "metadata": {},
   "source": [
    "# Preparing the model"
   ]
  },
  {
   "cell_type": "markdown",
   "metadata": {},
   "source": [
    "Prepare a model, use multiple GPUs if they are VISIBLE, and move the model to the device."
   ]
  },
  {
   "cell_type": "code",
   "execution_count": 10,
   "metadata": {
    "scrolled": false
   },
   "outputs": [
    {
     "name": "stdout",
     "output_type": "stream",
     "text": [
      "ct, child =  0    Linear(in_features=9, out_features=50, bias=True)\n",
      "ct, child =  1    Linear(in_features=50, out_features=50, bias=True)\n",
      "ct, child =  2    Linear(in_features=50, out_features=50, bias=True)\n",
      "ct, child =  3    Linear(in_features=50, out_features=50, bias=True)\n",
      "ct, child =  4    Linear(in_features=50, out_features=50, bias=True)\n",
      "ct, child =  5    Linear(in_features=50, out_features=50, bias=True)\n",
      "ct, child =  6    Linear(in_features=50, out_features=50, bias=True)\n",
      "ct, child =  7    Linear(in_features=50, out_features=50, bias=True)\n",
      "ct, child =  8    Linear(in_features=50, out_features=50, bias=True)\n",
      "ct, child =  9    Linear(in_features=50, out_features=50, bias=True)\n",
      "ct, child =  10    Linear(in_features=50, out_features=50, bias=True)\n",
      "ct, child =  11    Linear(in_features=50, out_features=16000, bias=True)\n",
      "ct, child =  12    Conv1d(4, 25, kernel_size=(25,), stride=(1,), padding=(12,))\n",
      "ct, child =  13    Conv1d(25, 1, kernel_size=(5,), stride=(1,), padding=(2,))\n",
      "ct, child =  14    Linear(in_features=4000, out_features=4000, bias=True)\n",
      "ct, child =  15    Dropout(p=0.15, inplace=False)\n",
      "ct, child =  16    Dropout(p=0.15, inplace=False)\n",
      "ct, child =  17    Conv1d(1, 20, kernel_size=(25,), stride=(1,), padding=(12,))\n",
      "ct, child =  18    Conv1d(20, 10, kernel_size=(15,), stride=(1,), padding=(7,))\n",
      "ct, child =  19    Conv1d(10, 10, kernel_size=(15,), stride=(1,), padding=(7,))\n",
      "ct, child =  20    Conv1d(10, 10, kernel_size=(15,), stride=(1,), padding=(7,))\n",
      "ct, child =  21    Conv1d(10, 1, kernel_size=(5,), stride=(1,), padding=(2,))\n",
      "ct, child =  22    Dropout(p=0.15, inplace=False)\n",
      "ct, child =  23    Dropout(p=0.15, inplace=False)\n",
      "ct, child =  24    Dropout(p=0.15, inplace=False)\n",
      "ct, child =  25    Dropout(p=0.15, inplace=False)\n",
      "ct, child =  26    Dropout(p=0.35, inplace=False)\n",
      "ct, child =  27    Linear(in_features=4000, out_features=4000, bias=True)\n",
      "ct, child =  28    Conv1d(1, 1, kernel_size=(91,), stride=(1,), padding=(45,))\n"
     ]
    }
   ],
   "source": [
    "nOut1 = 50\n",
    "nOut2 = 50\n",
    "nOut3 = 50\n",
    "nOut4 = 50\n",
    "nOut5 = 50\n",
    "nOut6 = 50\n",
    "nOut7 = 50\n",
    "nOut8 = 50\n",
    "nOut9 = 50\n",
    "nOut10 = 50\n",
    "nOut11 = 50\n",
    "latentChannels = 4\n",
    "model_t2kde = t2kde_model(nOut1,nOut2,nOut3,nOut4,nOut5,nOut6,nOut7,nOut8,nOut9,nOut10,nOut11,latentChannels)\n",
    "model_kde2hists = kde2hists_model()\n",
    "model_t2hists = t2hists_model(nOut1,nOut2,nOut3,nOut4,nOut5,nOut6,nOut7,nOut8,nOut9,nOut10,nOut11,latentChannels)\n",
    "\n",
    "##summary(model, input_size=(4, 4000))\n",
    "##print(model.parameters)\n",
    "\n",
    "## add the following code to allow the user to freeze the some of the weights corresponding \n",
    "## to those taken from an earlier model trained with the original target histograms\n",
    "## presumably -- this leaves either the perturbative filter \"fixed\" and lets the \n",
    "## learning focus on the non-perturbative features, so get started faster, or vice versa\n",
    "\n",
    "## 210110 For Iter0, freeze all weights other than those asociated with\n",
    "## the finalFilter added in moving from TracksToHists_A to TracksToHists_B\n",
    "\n",
    "## for \"float_KDE_to_Hists\" loop over ct<17\n",
    "## for float_all loope over ct < 0\n",
    "ct = 0\n",
    "for child in model_t2hists.children():\n",
    "  print('ct, child = ',ct, \"  \", child)\n",
    "  if (ct < 0) :\n",
    "    print(\"     About to set param.requires_grad=False for ct = \", ct, \"params\")\n",
    "    for param in child.parameters():\n",
    "        param.requires_grad = False \n",
    "  ct += 1\n",
    "\n",
    "loss = Loss(epsilon=1e-5,coefficient=2.5)\n",
    "optimizer = torch.optim.Adam(model_t2hists.parameters(), lr=learning_rate)"
   ]
  },
  {
   "cell_type": "markdown",
   "metadata": {},
   "source": [
    "Let's move the model's weight matricies to the GPU:"
   ]
  },
  {
   "cell_type": "code",
   "execution_count": 11,
   "metadata": {
    "scrolled": false
   },
   "outputs": [
    {
     "data": {
      "text/plain": [
       "<All keys matched successfully>"
      ]
     },
     "execution_count": 11,
     "metadata": {},
     "output_type": "execute_result"
    }
   ],
   "source": [
    "## want to look at all three dictionaries to start:\n",
    "##  t2kde\n",
    "##  kde2hists\n",
    "##  t2hists\n",
    "## the plan is to (initially) copy weights from separate dictionaries into th t2hists dictionary\n",
    "\n",
    "##   ML -> /share/lazy/sokoloff/ML\n",
    "'''\n",
    "model_t2kde_dict = model_t2kde.state_dict()\n",
    "## mds 190725 for debugging\n",
    "print(\"for model_t2kde_dict\")\n",
    "index = 0\n",
    "for k,v in model_t2kde_dict.items():\n",
    "    print(\"index, k =  \",index,\"  \",k)\n",
    "    index = index+1\n",
    "#\n",
    "model_kde2hists_dict = model_kde2hists.state_dict()\n",
    "## mds 190725 for debugging\n",
    "print(\"for model_hists_2kde_dict\")\n",
    "index = 0\n",
    "for k,v in model_kde2hists_dict.items():\n",
    "    print(\"index, k =  \",index,\"  \",k)\n",
    "    index = index+1\n",
    "#\n",
    "model_t2hists_dict = model_t2hists.state_dict()\n",
    "## mds 190725 for debugging\n",
    "print(\"for model_hists_2kde_dict\")\n",
    "index = 0\n",
    "for k,v in model_t2hists_dict.items():\n",
    "    print(\"index, k =  \",index,\"  \",k)\n",
    "    index = index+1\n",
    "#\n",
    "\n",
    "##  build the \"updated_dict\" to become the t2hists_dictionary from the\n",
    "##  t2kde and kde2hist dictionaries\n",
    "update_dict = model_t2hists_dict\n",
    "##print(\"updated_dict = \",updated_dict)\n",
    "## when starting \"ab initio\", reduce biases as the bias gets summed for each track\n",
    "## contributing to the predicted KDE\n",
    "'''\n",
    "\n",
    "\n",
    "'''\n",
    "updated_dict[\"layer1.bias\"] = 0.005*model_dict[\"layer1.bias\"]\n",
    "updated_dict[\"layer2.bias\"] = 0.005*model_dict[\"layer2.bias\"]\n",
    "updated_dict[\"layer3.bias\"] = 0.005*model_dict[\"layer3.bias\"]\n",
    "updated_dict[\"layer4.bias\"] = 0.005*model_dict[\"layer4.bias\"]\n",
    "updated_dict[\"layer5.bias\"] = 0.005*model_dict[\"layer5.bias\"]\n",
    "updated_dict[\"layer6.bias\"] = 0.005*model_dict[\"layer6.bias\"]\n",
    "updated_dict[\"layer7.bias\"] = 0.005*model_dict[\"layer7.bias\"]\n",
    "updated_dict[\"layer8.bias\"] = 0.005*model_dict[\"layer8.bias\"]\n",
    "updated_dict[\"layer9.bias\"] = 0.005*model_dict[\"layer9.bias\"]\n",
    "updated_dict[\"layer10.bias\"] = 0.005*model_dict[\"layer10.bias\"]\n",
    "updated_dict[\"layer11.bias\"] = 0.005*model_dict[\"layer11.bias\"]\n",
    "'''\n",
    "\n",
    "'''\n",
    "##model_t2hists.load_state_dict(updated_dict,strict=False)\n",
    "\n",
    "##model__t2hists_dict = model_t2hists.state_dict()\n",
    "\n",
    "## let's get the tracks-to-kde model here\n",
    "t2kde_folder = '25December__DDplus_loss_Ba_iter5_floatAll_800epochs_5em6'  ## really iter6, really Dec. 27\n",
    "t2kde_folder = '25December__DDplus_loss_Ba_iter7_floatAll_800epochs_4em6'\n",
    "t2kde_name = t2kde_folder\n",
    "suffix = 'final'\n",
    "t2kde_dict_name = 'ML/' + t2kde_folder + '/' + t2kde_name + '_'+ suffix + '.pyt'\n",
    "print('t2kde_dict_name = ',t2kde_dict_name)\n",
    "pretrained_t2kde_dict = torch.load(t2kde_dict_name)\n",
    "\n",
    "print(\" \\n\",\"  for t2kde_pretrained_dict\")\n",
    "index = 0\n",
    "for k,v in pretrained_t2kde_dict.items():\n",
    "    print(\"index, k =  \",index,\"  \",k)\n",
    "    index = index+1\n",
    "    \n",
    "    \n",
    "## let's get the hists-to-kde model here   \n",
    "kde2hists_folder = '02June2020_CNN5Layer_Ca_another200epochs_K'\n",
    "kde2hists_name = kde2hists_folder\n",
    "suffix = 'final'\n",
    "kde2hists_dict_name = 'ML/' + kde2hists_folder + '/' + kde2hists_name + '_'+ suffix + '.pyt'\n",
    "## mds dec28 print('kde2hists_dict_name = ',kde2hists_dict_name)\n",
    "pretrained_kde2hists_dict = torch.load(kde2hists_dict_name)\n",
    "\n",
    "print(\" \\n\",\"  for kde2hists_pretrained_dict\")\n",
    "index = 0\n",
    "for k,v in pretrained_kde2hists_dict.items():\n",
    "    print(\"index, k =  \",index,\"  \",k)\n",
    "    index = index+1\n",
    " \n",
    "\n",
    "\n",
    "##print(\"model_dict instantiated\")\n",
    "# 1. filter out unnecessary keys\n",
    "pretrained_dict = {k: v for k, v in pretrained_t2kde_dict.items() if k in model_t2hists_dict}\n",
    "## mds dec28 print(\"pretrained_dict iterated\")\n",
    "# 2. overwrite entries in the existing state dict\n",
    "model_t2hists_dict.update(pretrained_dict) \n",
    "\n",
    "update_dict[\"hist_conv1.weight\"] = pretrained_kde2hists_dict[\"conv1.weight\"]\n",
    "update_dict[\"hist_conv1.bias\"]   = pretrained_kde2hists_dict[\"conv1.bias\"]\n",
    "update_dict[\"hist_conv2.weight\"] = pretrained_kde2hists_dict[\"conv2.weight\"]\n",
    "update_dict[\"hist_conv2.bias\"]   = pretrained_kde2hists_dict[\"conv2.bias\"]\n",
    "update_dict[\"hist_conv3.weight\"] = pretrained_kde2hists_dict[\"conv3.weight\"]\n",
    "update_dict[\"hist_conv3.bias\"]   = pretrained_kde2hists_dict[\"conv3.bias\"]\n",
    "update_dict[\"hist_conv4.weight\"] = pretrained_kde2hists_dict[\"conv4.weight\"]\n",
    "update_dict[\"hist_conv4.bias\"]   = pretrained_kde2hists_dict[\"conv4.bias\"]\n",
    "update_dict[\"hist_conv5.weight\"] = pretrained_kde2hists_dict[\"conv5.weight\"]\n",
    "update_dict[\"hist_conv5.bias\"]   = pretrained_kde2hists_dict[\"conv5.bias\"]\n",
    "update_dict[\"hist_fc1.weight\"]   = pretrained_kde2hists_dict[\"fc1.weight\"]\n",
    "update_dict[\"hist_fc1.bias\"]     = pretrained_kde2hists_dict[\"fc1.bias\"]\n",
    "\n",
    "##model_t2hists.update(update_dict,strict=False)\n",
    "model_t2hists.load_state_dict(update_dict,strict=False)\n",
    "model_t2hists_dict = model_t2hists.state_dict()\n",
    "'''\n",
    "\n",
    "##\n",
    "#   when starting from a model with a fully connected last layer rather than a convolutional layer\n",
    "# 3. load the new state dict\n",
    "#   need to use strict=False as the two models state model attributes do not agree exactly\n",
    "#   see https://pytorch.org/docs/master/_modules/torch/nn/modules/module.html#Module.load_state_dict\n",
    "\n",
    "t2hists_folder = '15Jan2021_TracksToHists_B_Iter11Bb_50epochs_lr_1p5em5_b48_2p5_kde2hists_float_all_4x_will'\n",
    "t2hists_name = t2hists_folder\n",
    "suffix = 'final'\n",
    "t2hists_dict_name = 'ML/' + t2hists_folder + '/' +t2hists_name + '_'+ suffix + '.pyt'\n",
    "## mds dec28 print('kde2hists_dict_name = ',kde2hists_dict_name)\n",
    "pretrained_t2hists_dict = torch.load(t2hists_dict_name) \n",
    "\n",
    "model_t2hists.load_state_dict(pretrained_t2hists_dict,strict=False)\n",
    "\n",
    "##  print('model_t2hists_dict =    ', model_t2hists_dict)\n"
   ]
  },
  {
   "cell_type": "code",
   "execution_count": 12,
   "metadata": {},
   "outputs": [],
   "source": [
    "##print('validation.dataset.tensors = ',validation.dataset.tensors)\n",
    "fig_size = plt.rcParams[\"figure.figsize\"]\n",
    "fig_size[0] = 10\n",
    "fig_size[1] = 4\n",
    "plt.rcParams[\"figure.figsize\"] = fig_size"
   ]
  },
  {
   "cell_type": "code",
   "execution_count": 13,
   "metadata": {
    "scrolled": true
   },
   "outputs": [],
   "source": [
    "model = model_t2hists.to(device)"
   ]
  },
  {
   "cell_type": "code",
   "execution_count": 14,
   "metadata": {
    "scrolled": false
   },
   "outputs": [
    {
     "data": {
      "application/javascript": [
       "/* Put everything inside the global mpl namespace */\n",
       "window.mpl = {};\n",
       "\n",
       "\n",
       "mpl.get_websocket_type = function() {\n",
       "    if (typeof(WebSocket) !== 'undefined') {\n",
       "        return WebSocket;\n",
       "    } else if (typeof(MozWebSocket) !== 'undefined') {\n",
       "        return MozWebSocket;\n",
       "    } else {\n",
       "        alert('Your browser does not have WebSocket support. ' +\n",
       "              'Please try Chrome, Safari or Firefox ≥ 6. ' +\n",
       "              'Firefox 4 and 5 are also supported but you ' +\n",
       "              'have to enable WebSockets in about:config.');\n",
       "    };\n",
       "}\n",
       "\n",
       "mpl.figure = function(figure_id, websocket, ondownload, parent_element) {\n",
       "    this.id = figure_id;\n",
       "\n",
       "    this.ws = websocket;\n",
       "\n",
       "    this.supports_binary = (this.ws.binaryType != undefined);\n",
       "\n",
       "    if (!this.supports_binary) {\n",
       "        var warnings = document.getElementById(\"mpl-warnings\");\n",
       "        if (warnings) {\n",
       "            warnings.style.display = 'block';\n",
       "            warnings.textContent = (\n",
       "                \"This browser does not support binary websocket messages. \" +\n",
       "                    \"Performance may be slow.\");\n",
       "        }\n",
       "    }\n",
       "\n",
       "    this.imageObj = new Image();\n",
       "\n",
       "    this.context = undefined;\n",
       "    this.message = undefined;\n",
       "    this.canvas = undefined;\n",
       "    this.rubberband_canvas = undefined;\n",
       "    this.rubberband_context = undefined;\n",
       "    this.format_dropdown = undefined;\n",
       "\n",
       "    this.image_mode = 'full';\n",
       "\n",
       "    this.root = $('<div/>');\n",
       "    this._root_extra_style(this.root)\n",
       "    this.root.attr('style', 'display: inline-block');\n",
       "\n",
       "    $(parent_element).append(this.root);\n",
       "\n",
       "    this._init_header(this);\n",
       "    this._init_canvas(this);\n",
       "    this._init_toolbar(this);\n",
       "\n",
       "    var fig = this;\n",
       "\n",
       "    this.waiting = false;\n",
       "\n",
       "    this.ws.onopen =  function () {\n",
       "            fig.send_message(\"supports_binary\", {value: fig.supports_binary});\n",
       "            fig.send_message(\"send_image_mode\", {});\n",
       "            if (mpl.ratio != 1) {\n",
       "                fig.send_message(\"set_dpi_ratio\", {'dpi_ratio': mpl.ratio});\n",
       "            }\n",
       "            fig.send_message(\"refresh\", {});\n",
       "        }\n",
       "\n",
       "    this.imageObj.onload = function() {\n",
       "            if (fig.image_mode == 'full') {\n",
       "                // Full images could contain transparency (where diff images\n",
       "                // almost always do), so we need to clear the canvas so that\n",
       "                // there is no ghosting.\n",
       "                fig.context.clearRect(0, 0, fig.canvas.width, fig.canvas.height);\n",
       "            }\n",
       "            fig.context.drawImage(fig.imageObj, 0, 0);\n",
       "        };\n",
       "\n",
       "    this.imageObj.onunload = function() {\n",
       "        fig.ws.close();\n",
       "    }\n",
       "\n",
       "    this.ws.onmessage = this._make_on_message_function(this);\n",
       "\n",
       "    this.ondownload = ondownload;\n",
       "}\n",
       "\n",
       "mpl.figure.prototype._init_header = function() {\n",
       "    var titlebar = $(\n",
       "        '<div class=\"ui-dialog-titlebar ui-widget-header ui-corner-all ' +\n",
       "        'ui-helper-clearfix\"/>');\n",
       "    var titletext = $(\n",
       "        '<div class=\"ui-dialog-title\" style=\"width: 100%; ' +\n",
       "        'text-align: center; padding: 3px;\"/>');\n",
       "    titlebar.append(titletext)\n",
       "    this.root.append(titlebar);\n",
       "    this.header = titletext[0];\n",
       "}\n",
       "\n",
       "\n",
       "\n",
       "mpl.figure.prototype._canvas_extra_style = function(canvas_div) {\n",
       "\n",
       "}\n",
       "\n",
       "\n",
       "mpl.figure.prototype._root_extra_style = function(canvas_div) {\n",
       "\n",
       "}\n",
       "\n",
       "mpl.figure.prototype._init_canvas = function() {\n",
       "    var fig = this;\n",
       "\n",
       "    var canvas_div = $('<div/>');\n",
       "\n",
       "    canvas_div.attr('style', 'position: relative; clear: both; outline: 0');\n",
       "\n",
       "    function canvas_keyboard_event(event) {\n",
       "        return fig.key_event(event, event['data']);\n",
       "    }\n",
       "\n",
       "    canvas_div.keydown('key_press', canvas_keyboard_event);\n",
       "    canvas_div.keyup('key_release', canvas_keyboard_event);\n",
       "    this.canvas_div = canvas_div\n",
       "    this._canvas_extra_style(canvas_div)\n",
       "    this.root.append(canvas_div);\n",
       "\n",
       "    var canvas = $('<canvas/>');\n",
       "    canvas.addClass('mpl-canvas');\n",
       "    canvas.attr('style', \"left: 0; top: 0; z-index: 0; outline: 0\")\n",
       "\n",
       "    this.canvas = canvas[0];\n",
       "    this.context = canvas[0].getContext(\"2d\");\n",
       "\n",
       "    var backingStore = this.context.backingStorePixelRatio ||\n",
       "\tthis.context.webkitBackingStorePixelRatio ||\n",
       "\tthis.context.mozBackingStorePixelRatio ||\n",
       "\tthis.context.msBackingStorePixelRatio ||\n",
       "\tthis.context.oBackingStorePixelRatio ||\n",
       "\tthis.context.backingStorePixelRatio || 1;\n",
       "\n",
       "    mpl.ratio = (window.devicePixelRatio || 1) / backingStore;\n",
       "\n",
       "    var rubberband = $('<canvas/>');\n",
       "    rubberband.attr('style', \"position: absolute; left: 0; top: 0; z-index: 1;\")\n",
       "\n",
       "    var pass_mouse_events = true;\n",
       "\n",
       "    canvas_div.resizable({\n",
       "        start: function(event, ui) {\n",
       "            pass_mouse_events = false;\n",
       "        },\n",
       "        resize: function(event, ui) {\n",
       "            fig.request_resize(ui.size.width, ui.size.height);\n",
       "        },\n",
       "        stop: function(event, ui) {\n",
       "            pass_mouse_events = true;\n",
       "            fig.request_resize(ui.size.width, ui.size.height);\n",
       "        },\n",
       "    });\n",
       "\n",
       "    function mouse_event_fn(event) {\n",
       "        if (pass_mouse_events)\n",
       "            return fig.mouse_event(event, event['data']);\n",
       "    }\n",
       "\n",
       "    rubberband.mousedown('button_press', mouse_event_fn);\n",
       "    rubberband.mouseup('button_release', mouse_event_fn);\n",
       "    // Throttle sequential mouse events to 1 every 20ms.\n",
       "    rubberband.mousemove('motion_notify', mouse_event_fn);\n",
       "\n",
       "    rubberband.mouseenter('figure_enter', mouse_event_fn);\n",
       "    rubberband.mouseleave('figure_leave', mouse_event_fn);\n",
       "\n",
       "    canvas_div.on(\"wheel\", function (event) {\n",
       "        event = event.originalEvent;\n",
       "        event['data'] = 'scroll'\n",
       "        if (event.deltaY < 0) {\n",
       "            event.step = 1;\n",
       "        } else {\n",
       "            event.step = -1;\n",
       "        }\n",
       "        mouse_event_fn(event);\n",
       "    });\n",
       "\n",
       "    canvas_div.append(canvas);\n",
       "    canvas_div.append(rubberband);\n",
       "\n",
       "    this.rubberband = rubberband;\n",
       "    this.rubberband_canvas = rubberband[0];\n",
       "    this.rubberband_context = rubberband[0].getContext(\"2d\");\n",
       "    this.rubberband_context.strokeStyle = \"#000000\";\n",
       "\n",
       "    this._resize_canvas = function(width, height) {\n",
       "        // Keep the size of the canvas, canvas container, and rubber band\n",
       "        // canvas in synch.\n",
       "        canvas_div.css('width', width)\n",
       "        canvas_div.css('height', height)\n",
       "\n",
       "        canvas.attr('width', width * mpl.ratio);\n",
       "        canvas.attr('height', height * mpl.ratio);\n",
       "        canvas.attr('style', 'width: ' + width + 'px; height: ' + height + 'px;');\n",
       "\n",
       "        rubberband.attr('width', width);\n",
       "        rubberband.attr('height', height);\n",
       "    }\n",
       "\n",
       "    // Set the figure to an initial 600x600px, this will subsequently be updated\n",
       "    // upon first draw.\n",
       "    this._resize_canvas(600, 600);\n",
       "\n",
       "    // Disable right mouse context menu.\n",
       "    $(this.rubberband_canvas).bind(\"contextmenu\",function(e){\n",
       "        return false;\n",
       "    });\n",
       "\n",
       "    function set_focus () {\n",
       "        canvas.focus();\n",
       "        canvas_div.focus();\n",
       "    }\n",
       "\n",
       "    window.setTimeout(set_focus, 100);\n",
       "}\n",
       "\n",
       "mpl.figure.prototype._init_toolbar = function() {\n",
       "    var fig = this;\n",
       "\n",
       "    var nav_element = $('<div/>');\n",
       "    nav_element.attr('style', 'width: 100%');\n",
       "    this.root.append(nav_element);\n",
       "\n",
       "    // Define a callback function for later on.\n",
       "    function toolbar_event(event) {\n",
       "        return fig.toolbar_button_onclick(event['data']);\n",
       "    }\n",
       "    function toolbar_mouse_event(event) {\n",
       "        return fig.toolbar_button_onmouseover(event['data']);\n",
       "    }\n",
       "\n",
       "    for(var toolbar_ind in mpl.toolbar_items) {\n",
       "        var name = mpl.toolbar_items[toolbar_ind][0];\n",
       "        var tooltip = mpl.toolbar_items[toolbar_ind][1];\n",
       "        var image = mpl.toolbar_items[toolbar_ind][2];\n",
       "        var method_name = mpl.toolbar_items[toolbar_ind][3];\n",
       "\n",
       "        if (!name) {\n",
       "            // put a spacer in here.\n",
       "            continue;\n",
       "        }\n",
       "        var button = $('<button/>');\n",
       "        button.addClass('ui-button ui-widget ui-state-default ui-corner-all ' +\n",
       "                        'ui-button-icon-only');\n",
       "        button.attr('role', 'button');\n",
       "        button.attr('aria-disabled', 'false');\n",
       "        button.click(method_name, toolbar_event);\n",
       "        button.mouseover(tooltip, toolbar_mouse_event);\n",
       "\n",
       "        var icon_img = $('<span/>');\n",
       "        icon_img.addClass('ui-button-icon-primary ui-icon');\n",
       "        icon_img.addClass(image);\n",
       "        icon_img.addClass('ui-corner-all');\n",
       "\n",
       "        var tooltip_span = $('<span/>');\n",
       "        tooltip_span.addClass('ui-button-text');\n",
       "        tooltip_span.html(tooltip);\n",
       "\n",
       "        button.append(icon_img);\n",
       "        button.append(tooltip_span);\n",
       "\n",
       "        nav_element.append(button);\n",
       "    }\n",
       "\n",
       "    var fmt_picker_span = $('<span/>');\n",
       "\n",
       "    var fmt_picker = $('<select/>');\n",
       "    fmt_picker.addClass('mpl-toolbar-option ui-widget ui-widget-content');\n",
       "    fmt_picker_span.append(fmt_picker);\n",
       "    nav_element.append(fmt_picker_span);\n",
       "    this.format_dropdown = fmt_picker[0];\n",
       "\n",
       "    for (var ind in mpl.extensions) {\n",
       "        var fmt = mpl.extensions[ind];\n",
       "        var option = $(\n",
       "            '<option/>', {selected: fmt === mpl.default_extension}).html(fmt);\n",
       "        fmt_picker.append(option);\n",
       "    }\n",
       "\n",
       "    // Add hover states to the ui-buttons\n",
       "    $( \".ui-button\" ).hover(\n",
       "        function() { $(this).addClass(\"ui-state-hover\");},\n",
       "        function() { $(this).removeClass(\"ui-state-hover\");}\n",
       "    );\n",
       "\n",
       "    var status_bar = $('<span class=\"mpl-message\"/>');\n",
       "    nav_element.append(status_bar);\n",
       "    this.message = status_bar[0];\n",
       "}\n",
       "\n",
       "mpl.figure.prototype.request_resize = function(x_pixels, y_pixels) {\n",
       "    // Request matplotlib to resize the figure. Matplotlib will then trigger a resize in the client,\n",
       "    // which will in turn request a refresh of the image.\n",
       "    this.send_message('resize', {'width': x_pixels, 'height': y_pixels});\n",
       "}\n",
       "\n",
       "mpl.figure.prototype.send_message = function(type, properties) {\n",
       "    properties['type'] = type;\n",
       "    properties['figure_id'] = this.id;\n",
       "    this.ws.send(JSON.stringify(properties));\n",
       "}\n",
       "\n",
       "mpl.figure.prototype.send_draw_message = function() {\n",
       "    if (!this.waiting) {\n",
       "        this.waiting = true;\n",
       "        this.ws.send(JSON.stringify({type: \"draw\", figure_id: this.id}));\n",
       "    }\n",
       "}\n",
       "\n",
       "\n",
       "mpl.figure.prototype.handle_save = function(fig, msg) {\n",
       "    var format_dropdown = fig.format_dropdown;\n",
       "    var format = format_dropdown.options[format_dropdown.selectedIndex].value;\n",
       "    fig.ondownload(fig, format);\n",
       "}\n",
       "\n",
       "\n",
       "mpl.figure.prototype.handle_resize = function(fig, msg) {\n",
       "    var size = msg['size'];\n",
       "    if (size[0] != fig.canvas.width || size[1] != fig.canvas.height) {\n",
       "        fig._resize_canvas(size[0], size[1]);\n",
       "        fig.send_message(\"refresh\", {});\n",
       "    };\n",
       "}\n",
       "\n",
       "mpl.figure.prototype.handle_rubberband = function(fig, msg) {\n",
       "    var x0 = msg['x0'] / mpl.ratio;\n",
       "    var y0 = (fig.canvas.height - msg['y0']) / mpl.ratio;\n",
       "    var x1 = msg['x1'] / mpl.ratio;\n",
       "    var y1 = (fig.canvas.height - msg['y1']) / mpl.ratio;\n",
       "    x0 = Math.floor(x0) + 0.5;\n",
       "    y0 = Math.floor(y0) + 0.5;\n",
       "    x1 = Math.floor(x1) + 0.5;\n",
       "    y1 = Math.floor(y1) + 0.5;\n",
       "    var min_x = Math.min(x0, x1);\n",
       "    var min_y = Math.min(y0, y1);\n",
       "    var width = Math.abs(x1 - x0);\n",
       "    var height = Math.abs(y1 - y0);\n",
       "\n",
       "    fig.rubberband_context.clearRect(\n",
       "        0, 0, fig.canvas.width / mpl.ratio, fig.canvas.height / mpl.ratio);\n",
       "\n",
       "    fig.rubberband_context.strokeRect(min_x, min_y, width, height);\n",
       "}\n",
       "\n",
       "mpl.figure.prototype.handle_figure_label = function(fig, msg) {\n",
       "    // Updates the figure title.\n",
       "    fig.header.textContent = msg['label'];\n",
       "}\n",
       "\n",
       "mpl.figure.prototype.handle_cursor = function(fig, msg) {\n",
       "    var cursor = msg['cursor'];\n",
       "    switch(cursor)\n",
       "    {\n",
       "    case 0:\n",
       "        cursor = 'pointer';\n",
       "        break;\n",
       "    case 1:\n",
       "        cursor = 'default';\n",
       "        break;\n",
       "    case 2:\n",
       "        cursor = 'crosshair';\n",
       "        break;\n",
       "    case 3:\n",
       "        cursor = 'move';\n",
       "        break;\n",
       "    }\n",
       "    fig.rubberband_canvas.style.cursor = cursor;\n",
       "}\n",
       "\n",
       "mpl.figure.prototype.handle_message = function(fig, msg) {\n",
       "    fig.message.textContent = msg['message'];\n",
       "}\n",
       "\n",
       "mpl.figure.prototype.handle_draw = function(fig, msg) {\n",
       "    // Request the server to send over a new figure.\n",
       "    fig.send_draw_message();\n",
       "}\n",
       "\n",
       "mpl.figure.prototype.handle_image_mode = function(fig, msg) {\n",
       "    fig.image_mode = msg['mode'];\n",
       "}\n",
       "\n",
       "mpl.figure.prototype.updated_canvas_event = function() {\n",
       "    // Called whenever the canvas gets updated.\n",
       "    this.send_message(\"ack\", {});\n",
       "}\n",
       "\n",
       "// A function to construct a web socket function for onmessage handling.\n",
       "// Called in the figure constructor.\n",
       "mpl.figure.prototype._make_on_message_function = function(fig) {\n",
       "    return function socket_on_message(evt) {\n",
       "        if (evt.data instanceof Blob) {\n",
       "            /* FIXME: We get \"Resource interpreted as Image but\n",
       "             * transferred with MIME type text/plain:\" errors on\n",
       "             * Chrome.  But how to set the MIME type?  It doesn't seem\n",
       "             * to be part of the websocket stream */\n",
       "            evt.data.type = \"image/png\";\n",
       "\n",
       "            /* Free the memory for the previous frames */\n",
       "            if (fig.imageObj.src) {\n",
       "                (window.URL || window.webkitURL).revokeObjectURL(\n",
       "                    fig.imageObj.src);\n",
       "            }\n",
       "\n",
       "            fig.imageObj.src = (window.URL || window.webkitURL).createObjectURL(\n",
       "                evt.data);\n",
       "            fig.updated_canvas_event();\n",
       "            fig.waiting = false;\n",
       "            return;\n",
       "        }\n",
       "        else if (typeof evt.data === 'string' && evt.data.slice(0, 21) == \"data:image/png;base64\") {\n",
       "            fig.imageObj.src = evt.data;\n",
       "            fig.updated_canvas_event();\n",
       "            fig.waiting = false;\n",
       "            return;\n",
       "        }\n",
       "\n",
       "        var msg = JSON.parse(evt.data);\n",
       "        var msg_type = msg['type'];\n",
       "\n",
       "        // Call the  \"handle_{type}\" callback, which takes\n",
       "        // the figure and JSON message as its only arguments.\n",
       "        try {\n",
       "            var callback = fig[\"handle_\" + msg_type];\n",
       "        } catch (e) {\n",
       "            console.log(\"No handler for the '\" + msg_type + \"' message type: \", msg);\n",
       "            return;\n",
       "        }\n",
       "\n",
       "        if (callback) {\n",
       "            try {\n",
       "                // console.log(\"Handling '\" + msg_type + \"' message: \", msg);\n",
       "                callback(fig, msg);\n",
       "            } catch (e) {\n",
       "                console.log(\"Exception inside the 'handler_\" + msg_type + \"' callback:\", e, e.stack, msg);\n",
       "            }\n",
       "        }\n",
       "    };\n",
       "}\n",
       "\n",
       "// from http://stackoverflow.com/questions/1114465/getting-mouse-location-in-canvas\n",
       "mpl.findpos = function(e) {\n",
       "    //this section is from http://www.quirksmode.org/js/events_properties.html\n",
       "    var targ;\n",
       "    if (!e)\n",
       "        e = window.event;\n",
       "    if (e.target)\n",
       "        targ = e.target;\n",
       "    else if (e.srcElement)\n",
       "        targ = e.srcElement;\n",
       "    if (targ.nodeType == 3) // defeat Safari bug\n",
       "        targ = targ.parentNode;\n",
       "\n",
       "    // jQuery normalizes the pageX and pageY\n",
       "    // pageX,Y are the mouse positions relative to the document\n",
       "    // offset() returns the position of the element relative to the document\n",
       "    var x = e.pageX - $(targ).offset().left;\n",
       "    var y = e.pageY - $(targ).offset().top;\n",
       "\n",
       "    return {\"x\": x, \"y\": y};\n",
       "};\n",
       "\n",
       "/*\n",
       " * return a copy of an object with only non-object keys\n",
       " * we need this to avoid circular references\n",
       " * http://stackoverflow.com/a/24161582/3208463\n",
       " */\n",
       "function simpleKeys (original) {\n",
       "  return Object.keys(original).reduce(function (obj, key) {\n",
       "    if (typeof original[key] !== 'object')\n",
       "        obj[key] = original[key]\n",
       "    return obj;\n",
       "  }, {});\n",
       "}\n",
       "\n",
       "mpl.figure.prototype.mouse_event = function(event, name) {\n",
       "    var canvas_pos = mpl.findpos(event)\n",
       "\n",
       "    if (name === 'button_press')\n",
       "    {\n",
       "        this.canvas.focus();\n",
       "        this.canvas_div.focus();\n",
       "    }\n",
       "\n",
       "    var x = canvas_pos.x * mpl.ratio;\n",
       "    var y = canvas_pos.y * mpl.ratio;\n",
       "\n",
       "    this.send_message(name, {x: x, y: y, button: event.button,\n",
       "                             step: event.step,\n",
       "                             guiEvent: simpleKeys(event)});\n",
       "\n",
       "    /* This prevents the web browser from automatically changing to\n",
       "     * the text insertion cursor when the button is pressed.  We want\n",
       "     * to control all of the cursor setting manually through the\n",
       "     * 'cursor' event from matplotlib */\n",
       "    event.preventDefault();\n",
       "    return false;\n",
       "}\n",
       "\n",
       "mpl.figure.prototype._key_event_extra = function(event, name) {\n",
       "    // Handle any extra behaviour associated with a key event\n",
       "}\n",
       "\n",
       "mpl.figure.prototype.key_event = function(event, name) {\n",
       "\n",
       "    // Prevent repeat events\n",
       "    if (name == 'key_press')\n",
       "    {\n",
       "        if (event.which === this._key)\n",
       "            return;\n",
       "        else\n",
       "            this._key = event.which;\n",
       "    }\n",
       "    if (name == 'key_release')\n",
       "        this._key = null;\n",
       "\n",
       "    var value = '';\n",
       "    if (event.ctrlKey && event.which != 17)\n",
       "        value += \"ctrl+\";\n",
       "    if (event.altKey && event.which != 18)\n",
       "        value += \"alt+\";\n",
       "    if (event.shiftKey && event.which != 16)\n",
       "        value += \"shift+\";\n",
       "\n",
       "    value += 'k';\n",
       "    value += event.which.toString();\n",
       "\n",
       "    this._key_event_extra(event, name);\n",
       "\n",
       "    this.send_message(name, {key: value,\n",
       "                             guiEvent: simpleKeys(event)});\n",
       "    return false;\n",
       "}\n",
       "\n",
       "mpl.figure.prototype.toolbar_button_onclick = function(name) {\n",
       "    if (name == 'download') {\n",
       "        this.handle_save(this, null);\n",
       "    } else {\n",
       "        this.send_message(\"toolbar_button\", {name: name});\n",
       "    }\n",
       "};\n",
       "\n",
       "mpl.figure.prototype.toolbar_button_onmouseover = function(tooltip) {\n",
       "    this.message.textContent = tooltip;\n",
       "};\n",
       "mpl.toolbar_items = [[\"Home\", \"Reset original view\", \"fa fa-home icon-home\", \"home\"], [\"Back\", \"Back to previous view\", \"fa fa-arrow-left icon-arrow-left\", \"back\"], [\"Forward\", \"Forward to next view\", \"fa fa-arrow-right icon-arrow-right\", \"forward\"], [\"\", \"\", \"\", \"\"], [\"Pan\", \"Pan axes with left mouse, zoom with right\", \"fa fa-arrows icon-move\", \"pan\"], [\"Zoom\", \"Zoom to rectangle\", \"fa fa-square-o icon-check-empty\", \"zoom\"], [\"\", \"\", \"\", \"\"], [\"Download\", \"Download plot\", \"fa fa-floppy-o icon-save\", \"download\"]];\n",
       "\n",
       "mpl.extensions = [\"eps\", \"jpeg\", \"pdf\", \"png\", \"ps\", \"raw\", \"svg\", \"tif\"];\n",
       "\n",
       "mpl.default_extension = \"png\";var comm_websocket_adapter = function(comm) {\n",
       "    // Create a \"websocket\"-like object which calls the given IPython comm\n",
       "    // object with the appropriate methods. Currently this is a non binary\n",
       "    // socket, so there is still some room for performance tuning.\n",
       "    var ws = {};\n",
       "\n",
       "    ws.close = function() {\n",
       "        comm.close()\n",
       "    };\n",
       "    ws.send = function(m) {\n",
       "        //console.log('sending', m);\n",
       "        comm.send(m);\n",
       "    };\n",
       "    // Register the callback with on_msg.\n",
       "    comm.on_msg(function(msg) {\n",
       "        //console.log('receiving', msg['content']['data'], msg);\n",
       "        // Pass the mpl event to the overridden (by mpl) onmessage function.\n",
       "        ws.onmessage(msg['content']['data'])\n",
       "    });\n",
       "    return ws;\n",
       "}\n",
       "\n",
       "mpl.mpl_figure_comm = function(comm, msg) {\n",
       "    // This is the function which gets called when the mpl process\n",
       "    // starts-up an IPython Comm through the \"matplotlib\" channel.\n",
       "\n",
       "    var id = msg.content.data.id;\n",
       "    // Get hold of the div created by the display call when the Comm\n",
       "    // socket was opened in Python.\n",
       "    var element = $(\"#\" + id);\n",
       "    var ws_proxy = comm_websocket_adapter(comm)\n",
       "\n",
       "    function ondownload(figure, format) {\n",
       "        window.open(figure.imageObj.src);\n",
       "    }\n",
       "\n",
       "    var fig = new mpl.figure(id, ws_proxy,\n",
       "                           ondownload,\n",
       "                           element.get(0));\n",
       "\n",
       "    // Call onopen now - mpl needs it, as it is assuming we've passed it a real\n",
       "    // web socket which is closed, not our websocket->open comm proxy.\n",
       "    ws_proxy.onopen();\n",
       "\n",
       "    fig.parent_element = element.get(0);\n",
       "    fig.cell_info = mpl.find_output_cell(\"<div id='\" + id + \"'></div>\");\n",
       "    if (!fig.cell_info) {\n",
       "        console.error(\"Failed to find cell for figure\", id, fig);\n",
       "        return;\n",
       "    }\n",
       "\n",
       "    var output_index = fig.cell_info[2]\n",
       "    var cell = fig.cell_info[0];\n",
       "\n",
       "};\n",
       "\n",
       "mpl.figure.prototype.handle_close = function(fig, msg) {\n",
       "    var width = fig.canvas.width/mpl.ratio\n",
       "    fig.root.unbind('remove')\n",
       "\n",
       "    // Update the output cell to use the data from the current canvas.\n",
       "    fig.push_to_output();\n",
       "    var dataURL = fig.canvas.toDataURL();\n",
       "    // Re-enable the keyboard manager in IPython - without this line, in FF,\n",
       "    // the notebook keyboard shortcuts fail.\n",
       "    IPython.keyboard_manager.enable()\n",
       "    $(fig.parent_element).html('<img src=\"' + dataURL + '\" width=\"' + width + '\">');\n",
       "    fig.close_ws(fig, msg);\n",
       "}\n",
       "\n",
       "mpl.figure.prototype.close_ws = function(fig, msg){\n",
       "    fig.send_message('closing', msg);\n",
       "    // fig.ws.close()\n",
       "}\n",
       "\n",
       "mpl.figure.prototype.push_to_output = function(remove_interactive) {\n",
       "    // Turn the data on the canvas into data in the output cell.\n",
       "    var width = this.canvas.width/mpl.ratio\n",
       "    var dataURL = this.canvas.toDataURL();\n",
       "    this.cell_info[1]['text/html'] = '<img src=\"' + dataURL + '\" width=\"' + width + '\">';\n",
       "}\n",
       "\n",
       "mpl.figure.prototype.updated_canvas_event = function() {\n",
       "    // Tell IPython that the notebook contents must change.\n",
       "    IPython.notebook.set_dirty(true);\n",
       "    this.send_message(\"ack\", {});\n",
       "    var fig = this;\n",
       "    // Wait a second, then push the new image to the DOM so\n",
       "    // that it is saved nicely (might be nice to debounce this).\n",
       "    setTimeout(function () { fig.push_to_output() }, 1000);\n",
       "}\n",
       "\n",
       "mpl.figure.prototype._init_toolbar = function() {\n",
       "    var fig = this;\n",
       "\n",
       "    var nav_element = $('<div/>');\n",
       "    nav_element.attr('style', 'width: 100%');\n",
       "    this.root.append(nav_element);\n",
       "\n",
       "    // Define a callback function for later on.\n",
       "    function toolbar_event(event) {\n",
       "        return fig.toolbar_button_onclick(event['data']);\n",
       "    }\n",
       "    function toolbar_mouse_event(event) {\n",
       "        return fig.toolbar_button_onmouseover(event['data']);\n",
       "    }\n",
       "\n",
       "    for(var toolbar_ind in mpl.toolbar_items){\n",
       "        var name = mpl.toolbar_items[toolbar_ind][0];\n",
       "        var tooltip = mpl.toolbar_items[toolbar_ind][1];\n",
       "        var image = mpl.toolbar_items[toolbar_ind][2];\n",
       "        var method_name = mpl.toolbar_items[toolbar_ind][3];\n",
       "\n",
       "        if (!name) { continue; };\n",
       "\n",
       "        var button = $('<button class=\"btn btn-default\" href=\"#\" title=\"' + name + '\"><i class=\"fa ' + image + ' fa-lg\"></i></button>');\n",
       "        button.click(method_name, toolbar_event);\n",
       "        button.mouseover(tooltip, toolbar_mouse_event);\n",
       "        nav_element.append(button);\n",
       "    }\n",
       "\n",
       "    // Add the status bar.\n",
       "    var status_bar = $('<span class=\"mpl-message\" style=\"text-align:right; float: right;\"/>');\n",
       "    nav_element.append(status_bar);\n",
       "    this.message = status_bar[0];\n",
       "\n",
       "    // Add the close button to the window.\n",
       "    var buttongrp = $('<div class=\"btn-group inline pull-right\"></div>');\n",
       "    var button = $('<button class=\"btn btn-mini btn-primary\" href=\"#\" title=\"Stop Interaction\"><i class=\"fa fa-power-off icon-remove icon-large\"></i></button>');\n",
       "    button.click(function (evt) { fig.handle_close(fig, {}); } );\n",
       "    button.mouseover('Stop Interaction', toolbar_mouse_event);\n",
       "    buttongrp.append(button);\n",
       "    var titlebar = this.root.find($('.ui-dialog-titlebar'));\n",
       "    titlebar.prepend(buttongrp);\n",
       "}\n",
       "\n",
       "mpl.figure.prototype._root_extra_style = function(el){\n",
       "    var fig = this\n",
       "    el.on(\"remove\", function(){\n",
       "\tfig.close_ws(fig, {});\n",
       "    });\n",
       "}\n",
       "\n",
       "mpl.figure.prototype._canvas_extra_style = function(el){\n",
       "    // this is important to make the div 'focusable\n",
       "    el.attr('tabindex', 0)\n",
       "    // reach out to IPython and tell the keyboard manager to turn it's self\n",
       "    // off when our div gets focus\n",
       "\n",
       "    // location in version 3\n",
       "    if (IPython.notebook.keyboard_manager) {\n",
       "        IPython.notebook.keyboard_manager.register_events(el);\n",
       "    }\n",
       "    else {\n",
       "        // location in version 2\n",
       "        IPython.keyboard_manager.register_events(el);\n",
       "    }\n",
       "\n",
       "}\n",
       "\n",
       "mpl.figure.prototype._key_event_extra = function(event, name) {\n",
       "    var manager = IPython.notebook.keyboard_manager;\n",
       "    if (!manager)\n",
       "        manager = IPython.keyboard_manager;\n",
       "\n",
       "    // Check for shift+enter\n",
       "    if (event.shiftKey && event.which == 13) {\n",
       "        this.canvas_div.blur();\n",
       "        // select the cell after this one\n",
       "        var index = IPython.notebook.find_cell_index(this.cell_info[0]);\n",
       "        IPython.notebook.select(index + 1);\n",
       "    }\n",
       "}\n",
       "\n",
       "mpl.figure.prototype.handle_save = function(fig, msg) {\n",
       "    fig.ondownload(fig, null);\n",
       "}\n",
       "\n",
       "\n",
       "mpl.find_output_cell = function(html_output) {\n",
       "    // Return the cell and output element which can be found *uniquely* in the notebook.\n",
       "    // Note - this is a bit hacky, but it is done because the \"notebook_saving.Notebook\"\n",
       "    // IPython event is triggered only after the cells have been serialised, which for\n",
       "    // our purposes (turning an active figure into a static one), is too late.\n",
       "    var cells = IPython.notebook.get_cells();\n",
       "    var ncells = cells.length;\n",
       "    for (var i=0; i<ncells; i++) {\n",
       "        var cell = cells[i];\n",
       "        if (cell.cell_type === 'code'){\n",
       "            for (var j=0; j<cell.output_area.outputs.length; j++) {\n",
       "                var data = cell.output_area.outputs[j];\n",
       "                if (data.data) {\n",
       "                    // IPython >= 3 moved mimebundle to data attribute of output\n",
       "                    data = data.data;\n",
       "                }\n",
       "                if (data['text/html'] == html_output) {\n",
       "                    return [cell, data, j];\n",
       "                }\n",
       "            }\n",
       "        }\n",
       "    }\n",
       "}\n",
       "\n",
       "// Register the function which deals with the matplotlib target/channel.\n",
       "// The kernel may be null if the page has been refreshed.\n",
       "if (IPython.notebook.kernel != null) {\n",
       "    IPython.notebook.kernel.comm_manager.register_target('matplotlib', mpl.mpl_figure_comm);\n",
       "}\n"
      ],
      "text/plain": [
       "<IPython.core.display.Javascript object>"
      ]
     },
     "metadata": {},
     "output_type": "display_data"
    },
    {
     "data": {
      "text/html": [
       "<img src=\"data:image/png;base64,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\" width=\"1000\">"
      ],
      "text/plain": [
       "<IPython.core.display.HTML object>"
      ]
     },
     "metadata": {},
     "output_type": "display_data"
    }
   ],
   "source": [
    "ax, tax, lax, lines = dual_train_plots()\n",
    "fig = ax.figure\n",
    "plt.tight_layout()"
   ]
  },
  {
   "cell_type": "code",
   "execution_count": null,
   "metadata": {
    "scrolled": false
   },
   "outputs": [
    {
     "name": "stdout",
     "output_type": "stream",
     "text": [
      "Number of batches: train = 6667, val = 417\n"
     ]
    },
    {
     "data": {
      "application/vnd.jupyter.widget-view+json": {
       "model_id": "d5fb136a92004f2c959443a51de05a24",
       "version_major": 2,
       "version_minor": 0
      },
      "text/plain": [
       "HBox(children=(FloatProgress(value=0.0, description='Epochs', layout=Layout(flex='2'), max=150.0, style=Progre…"
      ]
     },
     "metadata": {},
     "output_type": "display_data"
    },
    {
     "data": {
      "application/vnd.jupyter.widget-view+json": {
       "model_id": "",
       "version_major": 2,
       "version_minor": 0
      },
      "text/plain": [
       "HBox(children=(FloatProgress(value=0.0, description='Training', layout=Layout(flex='2'), max=6667.0, style=Pro…"
      ]
     },
     "metadata": {},
     "output_type": "display_data"
    },
    {
     "name": "stdout",
     "output_type": "stream",
     "text": [
      "Epoch 0: train=6.51436, val=5.9169, took 597.51 s\n",
      "  Validation Found 88344 of 108024, added 9004 (eff 81.78%) (0.45 FP/event)\n"
     ]
    },
    {
     "data": {
      "application/vnd.jupyter.widget-view+json": {
       "model_id": "",
       "version_major": 2,
       "version_minor": 0
      },
      "text/plain": [
       "HBox(children=(FloatProgress(value=0.0, description='Training', layout=Layout(flex='2'), max=6667.0, style=Pro…"
      ]
     },
     "metadata": {},
     "output_type": "display_data"
    },
    {
     "name": "stdout",
     "output_type": "stream",
     "text": [
      "Epoch 1: train=6.51051, val=5.89574, took 599.11 s\n",
      "  Validation Found 87861 of 108024, added 8604 (eff 81.33%) (0.43 FP/event)\n"
     ]
    },
    {
     "data": {
      "application/vnd.jupyter.widget-view+json": {
       "model_id": "",
       "version_major": 2,
       "version_minor": 0
      },
      "text/plain": [
       "HBox(children=(FloatProgress(value=0.0, description='Training', layout=Layout(flex='2'), max=6667.0, style=Pro…"
      ]
     },
     "metadata": {},
     "output_type": "display_data"
    },
    {
     "name": "stdout",
     "output_type": "stream",
     "text": [
      "Epoch 2: train=6.50798, val=6.39734, took 599.15 s\n",
      "  Validation Found 88033 of 108024, added 8980 (eff 81.49%) (0.449 FP/event)\n"
     ]
    },
    {
     "data": {
      "application/vnd.jupyter.widget-view+json": {
       "model_id": "",
       "version_major": 2,
       "version_minor": 0
      },
      "text/plain": [
       "HBox(children=(FloatProgress(value=0.0, description='Training', layout=Layout(flex='2'), max=6667.0, style=Pro…"
      ]
     },
     "metadata": {},
     "output_type": "display_data"
    },
    {
     "name": "stdout",
     "output_type": "stream",
     "text": [
      "Epoch 3: train=6.50343, val=5.94967, took 595.02 s\n",
      "  Validation Found 88038 of 108024, added 8843 (eff 81.50%) (0.442 FP/event)\n"
     ]
    },
    {
     "data": {
      "application/vnd.jupyter.widget-view+json": {
       "model_id": "",
       "version_major": 2,
       "version_minor": 0
      },
      "text/plain": [
       "HBox(children=(FloatProgress(value=0.0, description='Training', layout=Layout(flex='2'), max=6667.0, style=Pro…"
      ]
     },
     "metadata": {},
     "output_type": "display_data"
    },
    {
     "name": "stdout",
     "output_type": "stream",
     "text": [
      "Epoch 4: train=6.49484, val=5.99559, took 592.82 s\n",
      "  Validation Found 88408 of 108024, added 8945 (eff 81.84%) (0.447 FP/event)\n"
     ]
    },
    {
     "data": {
      "application/vnd.jupyter.widget-view+json": {
       "model_id": "",
       "version_major": 2,
       "version_minor": 0
      },
      "text/plain": [
       "HBox(children=(FloatProgress(value=0.0, description='Training', layout=Layout(flex='2'), max=6667.0, style=Pro…"
      ]
     },
     "metadata": {},
     "output_type": "display_data"
    },
    {
     "name": "stdout",
     "output_type": "stream",
     "text": [
      "Epoch 5: train=6.4945, val=6.24369, took 592.24 s\n",
      "  Validation Found 88005 of 108024, added 8783 (eff 81.47%) (0.439 FP/event)\n"
     ]
    },
    {
     "data": {
      "application/vnd.jupyter.widget-view+json": {
       "model_id": "",
       "version_major": 2,
       "version_minor": 0
      },
      "text/plain": [
       "HBox(children=(FloatProgress(value=0.0, description='Training', layout=Layout(flex='2'), max=6667.0, style=Pro…"
      ]
     },
     "metadata": {},
     "output_type": "display_data"
    },
    {
     "name": "stdout",
     "output_type": "stream",
     "text": [
      "Epoch 6: train=6.49523, val=6.2149, took 591.36 s\n",
      "  Validation Found 87724 of 108024, added 8683 (eff 81.21%) (0.434 FP/event)\n"
     ]
    },
    {
     "data": {
      "application/vnd.jupyter.widget-view+json": {
       "model_id": "",
       "version_major": 2,
       "version_minor": 0
      },
      "text/plain": [
       "HBox(children=(FloatProgress(value=0.0, description='Training', layout=Layout(flex='2'), max=6667.0, style=Pro…"
      ]
     },
     "metadata": {},
     "output_type": "display_data"
    },
    {
     "name": "stdout",
     "output_type": "stream",
     "text": [
      "Epoch 7: train=6.49034, val=5.92239, took 591.16 s\n",
      "  Validation Found 88404 of 108024, added 8723 (eff 81.84%) (0.436 FP/event)\n"
     ]
    },
    {
     "data": {
      "application/vnd.jupyter.widget-view+json": {
       "model_id": "",
       "version_major": 2,
       "version_minor": 0
      },
      "text/plain": [
       "HBox(children=(FloatProgress(value=0.0, description='Training', layout=Layout(flex='2'), max=6667.0, style=Pro…"
      ]
     },
     "metadata": {},
     "output_type": "display_data"
    },
    {
     "name": "stdout",
     "output_type": "stream",
     "text": [
      "Epoch 8: train=6.48903, val=5.9256, took 591.58 s\n",
      "  Validation Found 88206 of 108024, added 8763 (eff 81.65%) (0.438 FP/event)\n"
     ]
    },
    {
     "data": {
      "application/vnd.jupyter.widget-view+json": {
       "model_id": "",
       "version_major": 2,
       "version_minor": 0
      },
      "text/plain": [
       "HBox(children=(FloatProgress(value=0.0, description='Training', layout=Layout(flex='2'), max=6667.0, style=Pro…"
      ]
     },
     "metadata": {},
     "output_type": "display_data"
    },
    {
     "name": "stdout",
     "output_type": "stream",
     "text": [
      "Epoch 9: train=6.48885, val=5.95622, took 591.49 s\n",
      "  Validation Found 88025 of 108024, added 8691 (eff 81.49%) (0.435 FP/event)\n"
     ]
    },
    {
     "data": {
      "application/vnd.jupyter.widget-view+json": {
       "model_id": "",
       "version_major": 2,
       "version_minor": 0
      },
      "text/plain": [
       "HBox(children=(FloatProgress(value=0.0, description='Training', layout=Layout(flex='2'), max=6667.0, style=Pro…"
      ]
     },
     "metadata": {},
     "output_type": "display_data"
    },
    {
     "name": "stdout",
     "output_type": "stream",
     "text": [
      "Epoch 10: train=6.47991, val=5.91662, took 591.62 s\n",
      "  Validation Found 88170 of 108024, added 8826 (eff 81.62%) (0.441 FP/event)\n"
     ]
    },
    {
     "data": {
      "application/vnd.jupyter.widget-view+json": {
       "model_id": "",
       "version_major": 2,
       "version_minor": 0
      },
      "text/plain": [
       "HBox(children=(FloatProgress(value=0.0, description='Training', layout=Layout(flex='2'), max=6667.0, style=Pro…"
      ]
     },
     "metadata": {},
     "output_type": "display_data"
    },
    {
     "name": "stdout",
     "output_type": "stream",
     "text": [
      "Epoch 11: train=6.4769, val=6.10097, took 591.8 s\n",
      "  Validation Found 87835 of 108024, added 8665 (eff 81.31%) (0.433 FP/event)\n"
     ]
    },
    {
     "data": {
      "application/vnd.jupyter.widget-view+json": {
       "model_id": "",
       "version_major": 2,
       "version_minor": 0
      },
      "text/plain": [
       "HBox(children=(FloatProgress(value=0.0, description='Training', layout=Layout(flex='2'), max=6667.0, style=Pro…"
      ]
     },
     "metadata": {},
     "output_type": "display_data"
    },
    {
     "name": "stdout",
     "output_type": "stream",
     "text": [
      "Epoch 12: train=6.46977, val=5.90757, took 591.24 s\n",
      "  Validation Found 87911 of 108024, added 8566 (eff 81.38%) (0.428 FP/event)\n"
     ]
    },
    {
     "data": {
      "application/vnd.jupyter.widget-view+json": {
       "model_id": "",
       "version_major": 2,
       "version_minor": 0
      },
      "text/plain": [
       "HBox(children=(FloatProgress(value=0.0, description='Training', layout=Layout(flex='2'), max=6667.0, style=Pro…"
      ]
     },
     "metadata": {},
     "output_type": "display_data"
    },
    {
     "name": "stdout",
     "output_type": "stream",
     "text": [
      "Epoch 13: train=6.46492, val=5.92559, took 591.44 s\n",
      "  Validation Found 88252 of 108024, added 8861 (eff 81.70%) (0.443 FP/event)\n"
     ]
    },
    {
     "data": {
      "application/vnd.jupyter.widget-view+json": {
       "model_id": "",
       "version_major": 2,
       "version_minor": 0
      },
      "text/plain": [
       "HBox(children=(FloatProgress(value=0.0, description='Training', layout=Layout(flex='2'), max=6667.0, style=Pro…"
      ]
     },
     "metadata": {},
     "output_type": "display_data"
    },
    {
     "name": "stdout",
     "output_type": "stream",
     "text": [
      "Epoch 14: train=6.47856, val=6.27304, took 591.39 s\n",
      "  Validation Found 87943 of 108024, added 8817 (eff 81.41%) (0.441 FP/event)\n"
     ]
    },
    {
     "data": {
      "application/vnd.jupyter.widget-view+json": {
       "model_id": "",
       "version_major": 2,
       "version_minor": 0
      },
      "text/plain": [
       "HBox(children=(FloatProgress(value=0.0, description='Training', layout=Layout(flex='2'), max=6667.0, style=Pro…"
      ]
     },
     "metadata": {},
     "output_type": "display_data"
    },
    {
     "name": "stdout",
     "output_type": "stream",
     "text": [
      "Epoch 15: train=6.46586, val=5.86805, took 591.41 s\n",
      "  Validation Found 88308 of 108024, added 8848 (eff 81.75%) (0.442 FP/event)\n"
     ]
    },
    {
     "data": {
      "application/vnd.jupyter.widget-view+json": {
       "model_id": "",
       "version_major": 2,
       "version_minor": 0
      },
      "text/plain": [
       "HBox(children=(FloatProgress(value=0.0, description='Training', layout=Layout(flex='2'), max=6667.0, style=Pro…"
      ]
     },
     "metadata": {},
     "output_type": "display_data"
    },
    {
     "name": "stdout",
     "output_type": "stream",
     "text": [
      "Epoch 16: train=6.47251, val=5.85932, took 591.53 s\n",
      "  Validation Found 87958 of 108024, added 8587 (eff 81.42%) (0.429 FP/event)\n"
     ]
    },
    {
     "data": {
      "application/vnd.jupyter.widget-view+json": {
       "model_id": "",
       "version_major": 2,
       "version_minor": 0
      },
      "text/plain": [
       "HBox(children=(FloatProgress(value=0.0, description='Training', layout=Layout(flex='2'), max=6667.0, style=Pro…"
      ]
     },
     "metadata": {},
     "output_type": "display_data"
    },
    {
     "name": "stdout",
     "output_type": "stream",
     "text": [
      "Epoch 17: train=6.46351, val=5.84587, took 591.32 s\n",
      "  Validation Found 88851 of 108024, added 8922 (eff 82.25%) (0.446 FP/event)\n"
     ]
    },
    {
     "data": {
      "application/vnd.jupyter.widget-view+json": {
       "model_id": "",
       "version_major": 2,
       "version_minor": 0
      },
      "text/plain": [
       "HBox(children=(FloatProgress(value=0.0, description='Training', layout=Layout(flex='2'), max=6667.0, style=Pro…"
      ]
     },
     "metadata": {},
     "output_type": "display_data"
    },
    {
     "name": "stdout",
     "output_type": "stream",
     "text": [
      "Epoch 18: train=6.45923, val=5.88368, took 591.24 s\n",
      "  Validation Found 87984 of 108024, added 8644 (eff 81.45%) (0.432 FP/event)\n"
     ]
    },
    {
     "data": {
      "application/vnd.jupyter.widget-view+json": {
       "model_id": "",
       "version_major": 2,
       "version_minor": 0
      },
      "text/plain": [
       "HBox(children=(FloatProgress(value=0.0, description='Training', layout=Layout(flex='2'), max=6667.0, style=Pro…"
      ]
     },
     "metadata": {},
     "output_type": "display_data"
    },
    {
     "name": "stdout",
     "output_type": "stream",
     "text": [
      "Epoch 19: train=6.45121, val=5.90357, took 591.18 s\n",
      "  Validation Found 88224 of 108024, added 8902 (eff 81.67%) (0.445 FP/event)\n"
     ]
    },
    {
     "data": {
      "application/vnd.jupyter.widget-view+json": {
       "model_id": "",
       "version_major": 2,
       "version_minor": 0
      },
      "text/plain": [
       "HBox(children=(FloatProgress(value=0.0, description='Training', layout=Layout(flex='2'), max=6667.0, style=Pro…"
      ]
     },
     "metadata": {},
     "output_type": "display_data"
    },
    {
     "name": "stdout",
     "output_type": "stream",
     "text": [
      "Epoch 20: train=6.45638, val=5.86255, took 591.35 s\n",
      "  Validation Found 87821 of 108024, added 8633 (eff 81.30%) (0.432 FP/event)\n"
     ]
    },
    {
     "data": {
      "application/vnd.jupyter.widget-view+json": {
       "model_id": "",
       "version_major": 2,
       "version_minor": 0
      },
      "text/plain": [
       "HBox(children=(FloatProgress(value=0.0, description='Training', layout=Layout(flex='2'), max=6667.0, style=Pro…"
      ]
     },
     "metadata": {},
     "output_type": "display_data"
    },
    {
     "name": "stdout",
     "output_type": "stream",
     "text": [
      "Epoch 21: train=6.46065, val=6.07613, took 591.81 s\n",
      "  Validation Found 87842 of 108024, added 8728 (eff 81.32%) (0.436 FP/event)\n"
     ]
    },
    {
     "data": {
      "application/vnd.jupyter.widget-view+json": {
       "model_id": "",
       "version_major": 2,
       "version_minor": 0
      },
      "text/plain": [
       "HBox(children=(FloatProgress(value=0.0, description='Training', layout=Layout(flex='2'), max=6667.0, style=Pro…"
      ]
     },
     "metadata": {},
     "output_type": "display_data"
    },
    {
     "name": "stdout",
     "output_type": "stream",
     "text": [
      "Epoch 22: train=6.45523, val=5.92591, took 591.47 s\n",
      "  Validation Found 88284 of 108024, added 8765 (eff 81.73%) (0.438 FP/event)\n"
     ]
    },
    {
     "data": {
      "application/vnd.jupyter.widget-view+json": {
       "model_id": "",
       "version_major": 2,
       "version_minor": 0
      },
      "text/plain": [
       "HBox(children=(FloatProgress(value=0.0, description='Training', layout=Layout(flex='2'), max=6667.0, style=Pro…"
      ]
     },
     "metadata": {},
     "output_type": "display_data"
    },
    {
     "name": "stdout",
     "output_type": "stream",
     "text": [
      "Epoch 23: train=6.44775, val=5.94526, took 591.31 s\n",
      "  Validation Found 88720 of 108024, added 9138 (eff 82.13%) (0.457 FP/event)\n"
     ]
    },
    {
     "data": {
      "application/vnd.jupyter.widget-view+json": {
       "model_id": "",
       "version_major": 2,
       "version_minor": 0
      },
      "text/plain": [
       "HBox(children=(FloatProgress(value=0.0, description='Training', layout=Layout(flex='2'), max=6667.0, style=Pro…"
      ]
     },
     "metadata": {},
     "output_type": "display_data"
    },
    {
     "name": "stdout",
     "output_type": "stream",
     "text": [
      "Epoch 24: train=6.44975, val=5.84593, took 591.31 s\n",
      "  Validation Found 88693 of 108024, added 9176 (eff 82.10%) (0.459 FP/event)\n"
     ]
    },
    {
     "data": {
      "application/vnd.jupyter.widget-view+json": {
       "model_id": "",
       "version_major": 2,
       "version_minor": 0
      },
      "text/plain": [
       "HBox(children=(FloatProgress(value=0.0, description='Training', layout=Layout(flex='2'), max=6667.0, style=Pro…"
      ]
     },
     "metadata": {},
     "output_type": "display_data"
    },
    {
     "name": "stdout",
     "output_type": "stream",
     "text": [
      "Epoch 25: train=6.4373, val=5.86664, took 591.3 s\n",
      "  Validation Found 88906 of 108024, added 9058 (eff 82.30%) (0.453 FP/event)\n"
     ]
    },
    {
     "data": {
      "application/vnd.jupyter.widget-view+json": {
       "model_id": "",
       "version_major": 2,
       "version_minor": 0
      },
      "text/plain": [
       "HBox(children=(FloatProgress(value=0.0, description='Training', layout=Layout(flex='2'), max=6667.0, style=Pro…"
      ]
     },
     "metadata": {},
     "output_type": "display_data"
    },
    {
     "name": "stdout",
     "output_type": "stream",
     "text": [
      "Epoch 26: train=6.44076, val=5.83004, took 591.5 s\n",
      "  Validation Found 88340 of 108024, added 8726 (eff 81.78%) (0.436 FP/event)\n"
     ]
    },
    {
     "data": {
      "application/vnd.jupyter.widget-view+json": {
       "model_id": "",
       "version_major": 2,
       "version_minor": 0
      },
      "text/plain": [
       "HBox(children=(FloatProgress(value=0.0, description='Training', layout=Layout(flex='2'), max=6667.0, style=Pro…"
      ]
     },
     "metadata": {},
     "output_type": "display_data"
    },
    {
     "name": "stdout",
     "output_type": "stream",
     "text": [
      "Epoch 27: train=6.43014, val=5.9368, took 590.95 s\n",
      "  Validation Found 88638 of 108024, added 8895 (eff 82.05%) (0.445 FP/event)\n"
     ]
    },
    {
     "data": {
      "application/vnd.jupyter.widget-view+json": {
       "model_id": "",
       "version_major": 2,
       "version_minor": 0
      },
      "text/plain": [
       "HBox(children=(FloatProgress(value=0.0, description='Training', layout=Layout(flex='2'), max=6667.0, style=Pro…"
      ]
     },
     "metadata": {},
     "output_type": "display_data"
    },
    {
     "name": "stdout",
     "output_type": "stream",
     "text": [
      "Epoch 28: train=6.43605, val=5.82743, took 591.01 s\n",
      "  Validation Found 88309 of 108024, added 8776 (eff 81.75%) (0.439 FP/event)\n"
     ]
    },
    {
     "data": {
      "application/vnd.jupyter.widget-view+json": {
       "model_id": "",
       "version_major": 2,
       "version_minor": 0
      },
      "text/plain": [
       "HBox(children=(FloatProgress(value=0.0, description='Training', layout=Layout(flex='2'), max=6667.0, style=Pro…"
      ]
     },
     "metadata": {},
     "output_type": "display_data"
    },
    {
     "name": "stdout",
     "output_type": "stream",
     "text": [
      "Epoch 29: train=6.43489, val=5.88188, took 591.36 s\n",
      "  Validation Found 88048 of 108024, added 8570 (eff 81.51%) (0.428 FP/event)\n"
     ]
    },
    {
     "data": {
      "application/vnd.jupyter.widget-view+json": {
       "model_id": "",
       "version_major": 2,
       "version_minor": 0
      },
      "text/plain": [
       "HBox(children=(FloatProgress(value=0.0, description='Training', layout=Layout(flex='2'), max=6667.0, style=Pro…"
      ]
     },
     "metadata": {},
     "output_type": "display_data"
    },
    {
     "name": "stdout",
     "output_type": "stream",
     "text": [
      "Epoch 30: train=6.43011, val=5.90423, took 591.56 s\n",
      "  Validation Found 88726 of 108024, added 9074 (eff 82.14%) (0.454 FP/event)\n"
     ]
    },
    {
     "data": {
      "application/vnd.jupyter.widget-view+json": {
       "model_id": "",
       "version_major": 2,
       "version_minor": 0
      },
      "text/plain": [
       "HBox(children=(FloatProgress(value=0.0, description='Training', layout=Layout(flex='2'), max=6667.0, style=Pro…"
      ]
     },
     "metadata": {},
     "output_type": "display_data"
    },
    {
     "name": "stdout",
     "output_type": "stream",
     "text": [
      "Epoch 31: train=6.43033, val=5.95642, took 591.31 s\n",
      "  Validation Found 88783 of 108024, added 9074 (eff 82.19%) (0.454 FP/event)\n"
     ]
    },
    {
     "data": {
      "application/vnd.jupyter.widget-view+json": {
       "model_id": "",
       "version_major": 2,
       "version_minor": 0
      },
      "text/plain": [
       "HBox(children=(FloatProgress(value=0.0, description='Training', layout=Layout(flex='2'), max=6667.0, style=Pro…"
      ]
     },
     "metadata": {},
     "output_type": "display_data"
    },
    {
     "name": "stdout",
     "output_type": "stream",
     "text": [
      "Epoch 32: train=6.42918, val=6.01588, took 591.21 s\n",
      "  Validation Found 88552 of 108024, added 8891 (eff 81.97%) (0.445 FP/event)\n"
     ]
    },
    {
     "data": {
      "application/vnd.jupyter.widget-view+json": {
       "model_id": "",
       "version_major": 2,
       "version_minor": 0
      },
      "text/plain": [
       "HBox(children=(FloatProgress(value=0.0, description='Training', layout=Layout(flex='2'), max=6667.0, style=Pro…"
      ]
     },
     "metadata": {},
     "output_type": "display_data"
    },
    {
     "name": "stdout",
     "output_type": "stream",
     "text": [
      "Epoch 33: train=6.41798, val=5.85527, took 591.19 s\n",
      "  Validation Found 88596 of 108024, added 8825 (eff 82.02%) (0.441 FP/event)\n"
     ]
    },
    {
     "data": {
      "application/vnd.jupyter.widget-view+json": {
       "model_id": "",
       "version_major": 2,
       "version_minor": 0
      },
      "text/plain": [
       "HBox(children=(FloatProgress(value=0.0, description='Training', layout=Layout(flex='2'), max=6667.0, style=Pro…"
      ]
     },
     "metadata": {},
     "output_type": "display_data"
    },
    {
     "name": "stdout",
     "output_type": "stream",
     "text": [
      "Epoch 34: train=6.4192, val=5.87484, took 591.56 s\n",
      "  Validation Found 87834 of 108024, added 8436 (eff 81.31%) (0.422 FP/event)\n"
     ]
    },
    {
     "data": {
      "application/vnd.jupyter.widget-view+json": {
       "model_id": "",
       "version_major": 2,
       "version_minor": 0
      },
      "text/plain": [
       "HBox(children=(FloatProgress(value=0.0, description='Training', layout=Layout(flex='2'), max=6667.0, style=Pro…"
      ]
     },
     "metadata": {},
     "output_type": "display_data"
    },
    {
     "name": "stdout",
     "output_type": "stream",
     "text": [
      "Epoch 35: train=6.41164, val=5.96468, took 591.2 s\n",
      "  Validation Found 89055 of 108024, added 9295 (eff 82.44%) (0.465 FP/event)\n"
     ]
    },
    {
     "data": {
      "application/vnd.jupyter.widget-view+json": {
       "model_id": "",
       "version_major": 2,
       "version_minor": 0
      },
      "text/plain": [
       "HBox(children=(FloatProgress(value=0.0, description='Training', layout=Layout(flex='2'), max=6667.0, style=Pro…"
      ]
     },
     "metadata": {},
     "output_type": "display_data"
    },
    {
     "name": "stdout",
     "output_type": "stream",
     "text": [
      "Epoch 36: train=6.40696, val=5.8512, took 591.14 s\n",
      "  Validation Found 89156 of 108024, added 9139 (eff 82.53%) (0.457 FP/event)\n"
     ]
    },
    {
     "data": {
      "application/vnd.jupyter.widget-view+json": {
       "model_id": "",
       "version_major": 2,
       "version_minor": 0
      },
      "text/plain": [
       "HBox(children=(FloatProgress(value=0.0, description='Training', layout=Layout(flex='2'), max=6667.0, style=Pro…"
      ]
     },
     "metadata": {},
     "output_type": "display_data"
    },
    {
     "name": "stdout",
     "output_type": "stream",
     "text": [
      "Epoch 37: train=6.40221, val=5.86654, took 591.37 s\n",
      "  Validation Found 88781 of 108024, added 8967 (eff 82.19%) (0.448 FP/event)\n"
     ]
    },
    {
     "data": {
      "application/vnd.jupyter.widget-view+json": {
       "model_id": "",
       "version_major": 2,
       "version_minor": 0
      },
      "text/plain": [
       "HBox(children=(FloatProgress(value=0.0, description='Training', layout=Layout(flex='2'), max=6667.0, style=Pro…"
      ]
     },
     "metadata": {},
     "output_type": "display_data"
    },
    {
     "name": "stdout",
     "output_type": "stream",
     "text": [
      "Epoch 38: train=6.41435, val=5.92303, took 591.42 s\n",
      "  Validation Found 88635 of 108024, added 8914 (eff 82.05%) (0.446 FP/event)\n"
     ]
    },
    {
     "data": {
      "application/vnd.jupyter.widget-view+json": {
       "model_id": "",
       "version_major": 2,
       "version_minor": 0
      },
      "text/plain": [
       "HBox(children=(FloatProgress(value=0.0, description='Training', layout=Layout(flex='2'), max=6667.0, style=Pro…"
      ]
     },
     "metadata": {},
     "output_type": "display_data"
    },
    {
     "name": "stdout",
     "output_type": "stream",
     "text": [
      "Epoch 39: train=6.40409, val=6.45821, took 591.41 s\n",
      "  Validation Found 88082 of 108024, added 8705 (eff 81.54%) (0.435 FP/event)\n"
     ]
    },
    {
     "data": {
      "application/vnd.jupyter.widget-view+json": {
       "model_id": "",
       "version_major": 2,
       "version_minor": 0
      },
      "text/plain": [
       "HBox(children=(FloatProgress(value=0.0, description='Training', layout=Layout(flex='2'), max=6667.0, style=Pro…"
      ]
     },
     "metadata": {},
     "output_type": "display_data"
    },
    {
     "name": "stdout",
     "output_type": "stream",
     "text": [
      "Epoch 40: train=6.41127, val=5.90148, took 591.45 s\n",
      "  Validation Found 89236 of 108024, added 9245 (eff 82.61%) (0.462 FP/event)\n"
     ]
    },
    {
     "data": {
      "application/vnd.jupyter.widget-view+json": {
       "model_id": "",
       "version_major": 2,
       "version_minor": 0
      },
      "text/plain": [
       "HBox(children=(FloatProgress(value=0.0, description='Training', layout=Layout(flex='2'), max=6667.0, style=Pro…"
      ]
     },
     "metadata": {},
     "output_type": "display_data"
    },
    {
     "name": "stdout",
     "output_type": "stream",
     "text": [
      "Epoch 41: train=6.40022, val=5.83744, took 591.28 s\n",
      "  Validation Found 88958 of 108024, added 9088 (eff 82.35%) (0.454 FP/event)\n"
     ]
    },
    {
     "data": {
      "application/vnd.jupyter.widget-view+json": {
       "model_id": "",
       "version_major": 2,
       "version_minor": 0
      },
      "text/plain": [
       "HBox(children=(FloatProgress(value=0.0, description='Training', layout=Layout(flex='2'), max=6667.0, style=Pro…"
      ]
     },
     "metadata": {},
     "output_type": "display_data"
    },
    {
     "name": "stdout",
     "output_type": "stream",
     "text": [
      "Epoch 42: train=6.40062, val=5.80684, took 591.35 s\n",
      "  Validation Found 88434 of 108024, added 8752 (eff 81.87%) (0.438 FP/event)\n"
     ]
    },
    {
     "data": {
      "application/vnd.jupyter.widget-view+json": {
       "model_id": "",
       "version_major": 2,
       "version_minor": 0
      },
      "text/plain": [
       "HBox(children=(FloatProgress(value=0.0, description='Training', layout=Layout(flex='2'), max=6667.0, style=Pro…"
      ]
     },
     "metadata": {},
     "output_type": "display_data"
    },
    {
     "name": "stdout",
     "output_type": "stream",
     "text": [
      "Epoch 43: train=6.39296, val=6.02714, took 591.29 s\n",
      "  Validation Found 88731 of 108024, added 8859 (eff 82.14%) (0.443 FP/event)\n"
     ]
    },
    {
     "data": {
      "application/vnd.jupyter.widget-view+json": {
       "model_id": "",
       "version_major": 2,
       "version_minor": 0
      },
      "text/plain": [
       "HBox(children=(FloatProgress(value=0.0, description='Training', layout=Layout(flex='2'), max=6667.0, style=Pro…"
      ]
     },
     "metadata": {},
     "output_type": "display_data"
    },
    {
     "name": "stdout",
     "output_type": "stream",
     "text": [
      "Epoch 44: train=6.40497, val=6.24738, took 591.41 s\n",
      "  Validation Found 88251 of 108024, added 8602 (eff 81.70%) (0.43 FP/event)\n"
     ]
    },
    {
     "data": {
      "application/vnd.jupyter.widget-view+json": {
       "model_id": "",
       "version_major": 2,
       "version_minor": 0
      },
      "text/plain": [
       "HBox(children=(FloatProgress(value=0.0, description='Training', layout=Layout(flex='2'), max=6667.0, style=Pro…"
      ]
     },
     "metadata": {},
     "output_type": "display_data"
    },
    {
     "name": "stdout",
     "output_type": "stream",
     "text": [
      "Epoch 45: train=6.39349, val=5.81664, took 591.05 s\n",
      "  Validation Found 88085 of 108024, added 8591 (eff 81.54%) (0.43 FP/event)\n"
     ]
    },
    {
     "data": {
      "application/vnd.jupyter.widget-view+json": {
       "model_id": "",
       "version_major": 2,
       "version_minor": 0
      },
      "text/plain": [
       "HBox(children=(FloatProgress(value=0.0, description='Training', layout=Layout(flex='2'), max=6667.0, style=Pro…"
      ]
     },
     "metadata": {},
     "output_type": "display_data"
    },
    {
     "name": "stdout",
     "output_type": "stream",
     "text": [
      "Epoch 46: train=6.39302, val=5.82734, took 591.55 s\n",
      "  Validation Found 88242 of 108024, added 8561 (eff 81.69%) (0.428 FP/event)\n"
     ]
    },
    {
     "data": {
      "application/vnd.jupyter.widget-view+json": {
       "model_id": "",
       "version_major": 2,
       "version_minor": 0
      },
      "text/plain": [
       "HBox(children=(FloatProgress(value=0.0, description='Training', layout=Layout(flex='2'), max=6667.0, style=Pro…"
      ]
     },
     "metadata": {},
     "output_type": "display_data"
    },
    {
     "name": "stdout",
     "output_type": "stream",
     "text": [
      "Epoch 47: train=6.38737, val=5.82013, took 591.8 s\n",
      "  Validation Found 88859 of 108024, added 8869 (eff 82.26%) (0.443 FP/event)\n"
     ]
    },
    {
     "data": {
      "application/vnd.jupyter.widget-view+json": {
       "model_id": "",
       "version_major": 2,
       "version_minor": 0
      },
      "text/plain": [
       "HBox(children=(FloatProgress(value=0.0, description='Training', layout=Layout(flex='2'), max=6667.0, style=Pro…"
      ]
     },
     "metadata": {},
     "output_type": "display_data"
    },
    {
     "name": "stdout",
     "output_type": "stream",
     "text": [
      "Epoch 48: train=6.38856, val=5.89907, took 591.45 s\n",
      "  Validation Found 88929 of 108024, added 8946 (eff 82.32%) (0.447 FP/event)\n"
     ]
    },
    {
     "data": {
      "application/vnd.jupyter.widget-view+json": {
       "model_id": "",
       "version_major": 2,
       "version_minor": 0
      },
      "text/plain": [
       "HBox(children=(FloatProgress(value=0.0, description='Training', layout=Layout(flex='2'), max=6667.0, style=Pro…"
      ]
     },
     "metadata": {},
     "output_type": "display_data"
    },
    {
     "name": "stdout",
     "output_type": "stream",
     "text": [
      "Epoch 49: train=6.38192, val=5.83799, took 591.73 s\n",
      "  Validation Found 89307 of 108024, added 9218 (eff 82.67%) (0.461 FP/event)\n"
     ]
    },
    {
     "data": {
      "application/vnd.jupyter.widget-view+json": {
       "model_id": "",
       "version_major": 2,
       "version_minor": 0
      },
      "text/plain": [
       "HBox(children=(FloatProgress(value=0.0, description='Training', layout=Layout(flex='2'), max=6667.0, style=Pro…"
      ]
     },
     "metadata": {},
     "output_type": "display_data"
    },
    {
     "name": "stdout",
     "output_type": "stream",
     "text": [
      "Epoch 50: train=6.37701, val=5.98234, took 591.17 s\n",
      "  Validation Found 88528 of 108024, added 8793 (eff 81.95%) (0.44 FP/event)\n"
     ]
    },
    {
     "data": {
      "application/vnd.jupyter.widget-view+json": {
       "model_id": "",
       "version_major": 2,
       "version_minor": 0
      },
      "text/plain": [
       "HBox(children=(FloatProgress(value=0.0, description='Training', layout=Layout(flex='2'), max=6667.0, style=Pro…"
      ]
     },
     "metadata": {},
     "output_type": "display_data"
    },
    {
     "name": "stdout",
     "output_type": "stream",
     "text": [
      "Epoch 51: train=6.37866, val=6.00703, took 591.64 s\n",
      "  Validation Found 89033 of 108024, added 9109 (eff 82.42%) (0.455 FP/event)\n"
     ]
    },
    {
     "data": {
      "application/vnd.jupyter.widget-view+json": {
       "model_id": "",
       "version_major": 2,
       "version_minor": 0
      },
      "text/plain": [
       "HBox(children=(FloatProgress(value=0.0, description='Training', layout=Layout(flex='2'), max=6667.0, style=Pro…"
      ]
     },
     "metadata": {},
     "output_type": "display_data"
    },
    {
     "name": "stdout",
     "output_type": "stream",
     "text": [
      "Epoch 52: train=6.37758, val=6.41505, took 591.74 s\n",
      "  Validation Found 88402 of 108024, added 8753 (eff 81.84%) (0.438 FP/event)\n"
     ]
    },
    {
     "data": {
      "application/vnd.jupyter.widget-view+json": {
       "model_id": "",
       "version_major": 2,
       "version_minor": 0
      },
      "text/plain": [
       "HBox(children=(FloatProgress(value=0.0, description='Training', layout=Layout(flex='2'), max=6667.0, style=Pro…"
      ]
     },
     "metadata": {},
     "output_type": "display_data"
    },
    {
     "name": "stdout",
     "output_type": "stream",
     "text": [
      "Epoch 53: train=6.36873, val=6.03284, took 591.56 s\n",
      "  Validation Found 88826 of 108024, added 8979 (eff 82.23%) (0.449 FP/event)\n"
     ]
    },
    {
     "data": {
      "application/vnd.jupyter.widget-view+json": {
       "model_id": "",
       "version_major": 2,
       "version_minor": 0
      },
      "text/plain": [
       "HBox(children=(FloatProgress(value=0.0, description='Training', layout=Layout(flex='2'), max=6667.0, style=Pro…"
      ]
     },
     "metadata": {},
     "output_type": "display_data"
    },
    {
     "name": "stdout",
     "output_type": "stream",
     "text": [
      "Epoch 54: train=6.36912, val=5.80295, took 591.68 s\n",
      "  Validation Found 88806 of 108024, added 8898 (eff 82.21%) (0.445 FP/event)\n"
     ]
    },
    {
     "data": {
      "application/vnd.jupyter.widget-view+json": {
       "model_id": "",
       "version_major": 2,
       "version_minor": 0
      },
      "text/plain": [
       "HBox(children=(FloatProgress(value=0.0, description='Training', layout=Layout(flex='2'), max=6667.0, style=Pro…"
      ]
     },
     "metadata": {},
     "output_type": "display_data"
    },
    {
     "name": "stdout",
     "output_type": "stream",
     "text": [
      "Epoch 55: train=6.3712, val=5.94422, took 591.58 s\n",
      "  Validation Found 88849 of 108024, added 9059 (eff 82.25%) (0.453 FP/event)\n"
     ]
    },
    {
     "data": {
      "application/vnd.jupyter.widget-view+json": {
       "model_id": "",
       "version_major": 2,
       "version_minor": 0
      },
      "text/plain": [
       "HBox(children=(FloatProgress(value=0.0, description='Training', layout=Layout(flex='2'), max=6667.0, style=Pro…"
      ]
     },
     "metadata": {},
     "output_type": "display_data"
    },
    {
     "name": "stdout",
     "output_type": "stream",
     "text": [
      "Epoch 56: train=6.36651, val=5.8792, took 591.52 s\n",
      "  Validation Found 89167 of 108024, added 9076 (eff 82.54%) (0.454 FP/event)\n"
     ]
    },
    {
     "data": {
      "application/vnd.jupyter.widget-view+json": {
       "model_id": "",
       "version_major": 2,
       "version_minor": 0
      },
      "text/plain": [
       "HBox(children=(FloatProgress(value=0.0, description='Training', layout=Layout(flex='2'), max=6667.0, style=Pro…"
      ]
     },
     "metadata": {},
     "output_type": "display_data"
    },
    {
     "name": "stdout",
     "output_type": "stream",
     "text": [
      "Epoch 57: train=6.36139, val=6.0221, took 591.77 s\n",
      "  Validation Found 88854 of 108024, added 8988 (eff 82.25%) (0.449 FP/event)\n"
     ]
    },
    {
     "data": {
      "application/vnd.jupyter.widget-view+json": {
       "model_id": "",
       "version_major": 2,
       "version_minor": 0
      },
      "text/plain": [
       "HBox(children=(FloatProgress(value=0.0, description='Training', layout=Layout(flex='2'), max=6667.0, style=Pro…"
      ]
     },
     "metadata": {},
     "output_type": "display_data"
    },
    {
     "name": "stdout",
     "output_type": "stream",
     "text": [
      "Epoch 58: train=6.36468, val=5.77377, took 591.12 s\n",
      "  Validation Found 88763 of 108024, added 8733 (eff 82.17%) (0.437 FP/event)\n"
     ]
    },
    {
     "data": {
      "application/vnd.jupyter.widget-view+json": {
       "model_id": "",
       "version_major": 2,
       "version_minor": 0
      },
      "text/plain": [
       "HBox(children=(FloatProgress(value=0.0, description='Training', layout=Layout(flex='2'), max=6667.0, style=Pro…"
      ]
     },
     "metadata": {},
     "output_type": "display_data"
    },
    {
     "name": "stdout",
     "output_type": "stream",
     "text": [
      "Epoch 59: train=6.35846, val=5.78423, took 591.35 s\n",
      "  Validation Found 89481 of 108024, added 9234 (eff 82.83%) (0.462 FP/event)\n"
     ]
    },
    {
     "data": {
      "application/vnd.jupyter.widget-view+json": {
       "model_id": "",
       "version_major": 2,
       "version_minor": 0
      },
      "text/plain": [
       "HBox(children=(FloatProgress(value=0.0, description='Training', layout=Layout(flex='2'), max=6667.0, style=Pro…"
      ]
     },
     "metadata": {},
     "output_type": "display_data"
    },
    {
     "name": "stdout",
     "output_type": "stream",
     "text": [
      "Epoch 60: train=6.35703, val=5.81109, took 591.43 s\n",
      "  Validation Found 89189 of 108024, added 9025 (eff 82.56%) (0.451 FP/event)\n"
     ]
    },
    {
     "data": {
      "application/vnd.jupyter.widget-view+json": {
       "model_id": "",
       "version_major": 2,
       "version_minor": 0
      },
      "text/plain": [
       "HBox(children=(FloatProgress(value=0.0, description='Training', layout=Layout(flex='2'), max=6667.0, style=Pro…"
      ]
     },
     "metadata": {},
     "output_type": "display_data"
    },
    {
     "name": "stdout",
     "output_type": "stream",
     "text": [
      "Epoch 61: train=6.36473, val=5.76464, took 591.21 s\n",
      "  Validation Found 88492 of 108024, added 8489 (eff 81.92%) (0.424 FP/event)\n"
     ]
    },
    {
     "data": {
      "application/vnd.jupyter.widget-view+json": {
       "model_id": "",
       "version_major": 2,
       "version_minor": 0
      },
      "text/plain": [
       "HBox(children=(FloatProgress(value=0.0, description='Training', layout=Layout(flex='2'), max=6667.0, style=Pro…"
      ]
     },
     "metadata": {},
     "output_type": "display_data"
    },
    {
     "name": "stdout",
     "output_type": "stream",
     "text": [
      "Epoch 62: train=6.34848, val=5.86703, took 590.98 s\n",
      "  Validation Found 88814 of 108024, added 8816 (eff 82.22%) (0.441 FP/event)\n"
     ]
    },
    {
     "data": {
      "application/vnd.jupyter.widget-view+json": {
       "model_id": "",
       "version_major": 2,
       "version_minor": 0
      },
      "text/plain": [
       "HBox(children=(FloatProgress(value=0.0, description='Training', layout=Layout(flex='2'), max=6667.0, style=Pro…"
      ]
     },
     "metadata": {},
     "output_type": "display_data"
    },
    {
     "name": "stdout",
     "output_type": "stream",
     "text": [
      "Epoch 63: train=6.34374, val=5.90399, took 591.16 s\n",
      "  Validation Found 89201 of 108024, added 9049 (eff 82.58%) (0.452 FP/event)\n"
     ]
    },
    {
     "data": {
      "application/vnd.jupyter.widget-view+json": {
       "model_id": "",
       "version_major": 2,
       "version_minor": 0
      },
      "text/plain": [
       "HBox(children=(FloatProgress(value=0.0, description='Training', layout=Layout(flex='2'), max=6667.0, style=Pro…"
      ]
     },
     "metadata": {},
     "output_type": "display_data"
    },
    {
     "name": "stdout",
     "output_type": "stream",
     "text": [
      "Epoch 64: train=6.35065, val=5.92204, took 591.3 s\n",
      "  Validation Found 88435 of 108024, added 8673 (eff 81.87%) (0.434 FP/event)\n"
     ]
    },
    {
     "data": {
      "application/vnd.jupyter.widget-view+json": {
       "model_id": "",
       "version_major": 2,
       "version_minor": 0
      },
      "text/plain": [
       "HBox(children=(FloatProgress(value=0.0, description='Training', layout=Layout(flex='2'), max=6667.0, style=Pro…"
      ]
     },
     "metadata": {},
     "output_type": "display_data"
    },
    {
     "name": "stdout",
     "output_type": "stream",
     "text": [
      "Epoch 65: train=6.34599, val=5.77651, took 591.54 s\n",
      "  Validation Found 88571 of 108024, added 8656 (eff 81.99%) (0.433 FP/event)\n"
     ]
    },
    {
     "data": {
      "application/vnd.jupyter.widget-view+json": {
       "model_id": "",
       "version_major": 2,
       "version_minor": 0
      },
      "text/plain": [
       "HBox(children=(FloatProgress(value=0.0, description='Training', layout=Layout(flex='2'), max=6667.0, style=Pro…"
      ]
     },
     "metadata": {},
     "output_type": "display_data"
    },
    {
     "name": "stdout",
     "output_type": "stream",
     "text": [
      "Epoch 66: train=6.34696, val=6.14662, took 591.38 s\n",
      "  Validation Found 88946 of 108024, added 8924 (eff 82.34%) (0.446 FP/event)\n"
     ]
    },
    {
     "data": {
      "application/vnd.jupyter.widget-view+json": {
       "model_id": "",
       "version_major": 2,
       "version_minor": 0
      },
      "text/plain": [
       "HBox(children=(FloatProgress(value=0.0, description='Training', layout=Layout(flex='2'), max=6667.0, style=Pro…"
      ]
     },
     "metadata": {},
     "output_type": "display_data"
    },
    {
     "name": "stdout",
     "output_type": "stream",
     "text": [
      "Epoch 67: train=6.3376, val=5.88323, took 591.42 s\n",
      "  Validation Found 88896 of 108024, added 8808 (eff 82.29%) (0.44 FP/event)\n"
     ]
    },
    {
     "data": {
      "application/vnd.jupyter.widget-view+json": {
       "model_id": "",
       "version_major": 2,
       "version_minor": 0
      },
      "text/plain": [
       "HBox(children=(FloatProgress(value=0.0, description='Training', layout=Layout(flex='2'), max=6667.0, style=Pro…"
      ]
     },
     "metadata": {},
     "output_type": "display_data"
    },
    {
     "name": "stdout",
     "output_type": "stream",
     "text": [
      "Epoch 68: train=6.33491, val=5.88901, took 591.36 s\n",
      "  Validation Found 88900 of 108024, added 9009 (eff 82.30%) (0.45 FP/event)\n"
     ]
    },
    {
     "data": {
      "application/vnd.jupyter.widget-view+json": {
       "model_id": "",
       "version_major": 2,
       "version_minor": 0
      },
      "text/plain": [
       "HBox(children=(FloatProgress(value=0.0, description='Training', layout=Layout(flex='2'), max=6667.0, style=Pro…"
      ]
     },
     "metadata": {},
     "output_type": "display_data"
    },
    {
     "name": "stdout",
     "output_type": "stream",
     "text": [
      "Epoch 69: train=6.33701, val=5.78143, took 591.66 s\n",
      "  Validation Found 88200 of 108024, added 8541 (eff 81.65%) (0.427 FP/event)\n"
     ]
    },
    {
     "data": {
      "application/vnd.jupyter.widget-view+json": {
       "model_id": "",
       "version_major": 2,
       "version_minor": 0
      },
      "text/plain": [
       "HBox(children=(FloatProgress(value=0.0, description='Training', layout=Layout(flex='2'), max=6667.0, style=Pro…"
      ]
     },
     "metadata": {},
     "output_type": "display_data"
    },
    {
     "name": "stdout",
     "output_type": "stream",
     "text": [
      "Epoch 70: train=6.33501, val=5.75772, took 591.5 s\n",
      "  Validation Found 89040 of 108024, added 8726 (eff 82.43%) (0.436 FP/event)\n"
     ]
    },
    {
     "data": {
      "application/vnd.jupyter.widget-view+json": {
       "model_id": "",
       "version_major": 2,
       "version_minor": 0
      },
      "text/plain": [
       "HBox(children=(FloatProgress(value=0.0, description='Training', layout=Layout(flex='2'), max=6667.0, style=Pro…"
      ]
     },
     "metadata": {},
     "output_type": "display_data"
    },
    {
     "name": "stdout",
     "output_type": "stream",
     "text": [
      "Epoch 71: train=6.33566, val=5.83146, took 591.37 s\n",
      "  Validation Found 88657 of 108024, added 8839 (eff 82.07%) (0.442 FP/event)\n"
     ]
    },
    {
     "data": {
      "application/vnd.jupyter.widget-view+json": {
       "model_id": "",
       "version_major": 2,
       "version_minor": 0
      },
      "text/plain": [
       "HBox(children=(FloatProgress(value=0.0, description='Training', layout=Layout(flex='2'), max=6667.0, style=Pro…"
      ]
     },
     "metadata": {},
     "output_type": "display_data"
    },
    {
     "name": "stdout",
     "output_type": "stream",
     "text": [
      "Epoch 72: train=6.33293, val=5.75797, took 591.31 s\n",
      "  Validation Found 89391 of 108024, added 8964 (eff 82.75%) (0.448 FP/event)\n"
     ]
    },
    {
     "data": {
      "application/vnd.jupyter.widget-view+json": {
       "model_id": "",
       "version_major": 2,
       "version_minor": 0
      },
      "text/plain": [
       "HBox(children=(FloatProgress(value=0.0, description='Training', layout=Layout(flex='2'), max=6667.0, style=Pro…"
      ]
     },
     "metadata": {},
     "output_type": "display_data"
    },
    {
     "name": "stdout",
     "output_type": "stream",
     "text": [
      "Epoch 73: train=6.32681, val=5.78737, took 591.52 s\n",
      "  Validation Found 89054 of 108024, added 8928 (eff 82.44%) (0.446 FP/event)\n"
     ]
    },
    {
     "data": {
      "application/vnd.jupyter.widget-view+json": {
       "model_id": "",
       "version_major": 2,
       "version_minor": 0
      },
      "text/plain": [
       "HBox(children=(FloatProgress(value=0.0, description='Training', layout=Layout(flex='2'), max=6667.0, style=Pro…"
      ]
     },
     "metadata": {},
     "output_type": "display_data"
    },
    {
     "name": "stdout",
     "output_type": "stream",
     "text": [
      "Epoch 74: train=6.32103, val=5.96622, took 591.92 s\n",
      "  Validation Found 88993 of 108024, added 8792 (eff 82.38%) (0.44 FP/event)\n"
     ]
    },
    {
     "data": {
      "application/vnd.jupyter.widget-view+json": {
       "model_id": "",
       "version_major": 2,
       "version_minor": 0
      },
      "text/plain": [
       "HBox(children=(FloatProgress(value=0.0, description='Training', layout=Layout(flex='2'), max=6667.0, style=Pro…"
      ]
     },
     "metadata": {},
     "output_type": "display_data"
    },
    {
     "name": "stdout",
     "output_type": "stream",
     "text": [
      "Epoch 75: train=6.32072, val=5.92682, took 591.27 s\n",
      "  Validation Found 89102 of 108024, added 8873 (eff 82.48%) (0.444 FP/event)\n"
     ]
    },
    {
     "data": {
      "application/vnd.jupyter.widget-view+json": {
       "model_id": "",
       "version_major": 2,
       "version_minor": 0
      },
      "text/plain": [
       "HBox(children=(FloatProgress(value=0.0, description='Training', layout=Layout(flex='2'), max=6667.0, style=Pro…"
      ]
     },
     "metadata": {},
     "output_type": "display_data"
    },
    {
     "name": "stdout",
     "output_type": "stream",
     "text": [
      "Epoch 76: train=6.32584, val=5.84453, took 591.29 s\n",
      "  Validation Found 89065 of 108024, added 8913 (eff 82.45%) (0.446 FP/event)\n"
     ]
    },
    {
     "data": {
      "application/vnd.jupyter.widget-view+json": {
       "model_id": "",
       "version_major": 2,
       "version_minor": 0
      },
      "text/plain": [
       "HBox(children=(FloatProgress(value=0.0, description='Training', layout=Layout(flex='2'), max=6667.0, style=Pro…"
      ]
     },
     "metadata": {},
     "output_type": "display_data"
    },
    {
     "name": "stdout",
     "output_type": "stream",
     "text": [
      "Epoch 77: train=6.32423, val=5.75897, took 591.5 s\n",
      "  Validation Found 88902 of 108024, added 8898 (eff 82.30%) (0.445 FP/event)\n"
     ]
    },
    {
     "data": {
      "application/vnd.jupyter.widget-view+json": {
       "model_id": "",
       "version_major": 2,
       "version_minor": 0
      },
      "text/plain": [
       "HBox(children=(FloatProgress(value=0.0, description='Training', layout=Layout(flex='2'), max=6667.0, style=Pro…"
      ]
     },
     "metadata": {},
     "output_type": "display_data"
    },
    {
     "name": "stdout",
     "output_type": "stream",
     "text": [
      "Epoch 78: train=6.31555, val=5.74842, took 591.43 s\n",
      "  Validation Found 88244 of 108024, added 8404 (eff 81.69%) (0.42 FP/event)\n"
     ]
    },
    {
     "data": {
      "application/vnd.jupyter.widget-view+json": {
       "model_id": "",
       "version_major": 2,
       "version_minor": 0
      },
      "text/plain": [
       "HBox(children=(FloatProgress(value=0.0, description='Training', layout=Layout(flex='2'), max=6667.0, style=Pro…"
      ]
     },
     "metadata": {},
     "output_type": "display_data"
    },
    {
     "name": "stdout",
     "output_type": "stream",
     "text": [
      "Epoch 79: train=6.32205, val=6.02072, took 591.71 s\n",
      "  Validation Found 89343 of 108024, added 9055 (eff 82.71%) (0.453 FP/event)\n"
     ]
    },
    {
     "data": {
      "application/vnd.jupyter.widget-view+json": {
       "model_id": "",
       "version_major": 2,
       "version_minor": 0
      },
      "text/plain": [
       "HBox(children=(FloatProgress(value=0.0, description='Training', layout=Layout(flex='2'), max=6667.0, style=Pro…"
      ]
     },
     "metadata": {},
     "output_type": "display_data"
    },
    {
     "name": "stdout",
     "output_type": "stream",
     "text": [
      "Epoch 80: train=6.31469, val=5.98161, took 591.18 s\n",
      "  Validation Found 89077 of 108024, added 9022 (eff 82.46%) (0.451 FP/event)\n"
     ]
    },
    {
     "data": {
      "application/vnd.jupyter.widget-view+json": {
       "model_id": "",
       "version_major": 2,
       "version_minor": 0
      },
      "text/plain": [
       "HBox(children=(FloatProgress(value=0.0, description='Training', layout=Layout(flex='2'), max=6667.0, style=Pro…"
      ]
     },
     "metadata": {},
     "output_type": "display_data"
    },
    {
     "name": "stdout",
     "output_type": "stream",
     "text": [
      "Epoch 81: train=6.31927, val=5.89524, took 591.33 s\n",
      "  Validation Found 88873 of 108024, added 8877 (eff 82.27%) (0.444 FP/event)\n"
     ]
    },
    {
     "data": {
      "application/vnd.jupyter.widget-view+json": {
       "model_id": "",
       "version_major": 2,
       "version_minor": 0
      },
      "text/plain": [
       "HBox(children=(FloatProgress(value=0.0, description='Training', layout=Layout(flex='2'), max=6667.0, style=Pro…"
      ]
     },
     "metadata": {},
     "output_type": "display_data"
    },
    {
     "name": "stdout",
     "output_type": "stream",
     "text": [
      "Epoch 82: train=6.30824, val=5.85463, took 591.47 s\n",
      "  Validation Found 89180 of 108024, added 8932 (eff 82.56%) (0.447 FP/event)\n"
     ]
    },
    {
     "data": {
      "application/vnd.jupyter.widget-view+json": {
       "model_id": "",
       "version_major": 2,
       "version_minor": 0
      },
      "text/plain": [
       "HBox(children=(FloatProgress(value=0.0, description='Training', layout=Layout(flex='2'), max=6667.0, style=Pro…"
      ]
     },
     "metadata": {},
     "output_type": "display_data"
    },
    {
     "name": "stdout",
     "output_type": "stream",
     "text": [
      "Epoch 83: train=6.30504, val=5.94231, took 591.59 s\n",
      "  Validation Found 89023 of 108024, added 8838 (eff 82.41%) (0.442 FP/event)\n"
     ]
    },
    {
     "data": {
      "application/vnd.jupyter.widget-view+json": {
       "model_id": "",
       "version_major": 2,
       "version_minor": 0
      },
      "text/plain": [
       "HBox(children=(FloatProgress(value=0.0, description='Training', layout=Layout(flex='2'), max=6667.0, style=Pro…"
      ]
     },
     "metadata": {},
     "output_type": "display_data"
    },
    {
     "name": "stdout",
     "output_type": "stream",
     "text": [
      "Epoch 84: train=6.30479, val=5.90873, took 591.53 s\n",
      "  Validation Found 89390 of 108024, added 8917 (eff 82.75%) (0.446 FP/event)\n"
     ]
    },
    {
     "data": {
      "application/vnd.jupyter.widget-view+json": {
       "model_id": "",
       "version_major": 2,
       "version_minor": 0
      },
      "text/plain": [
       "HBox(children=(FloatProgress(value=0.0, description='Training', layout=Layout(flex='2'), max=6667.0, style=Pro…"
      ]
     },
     "metadata": {},
     "output_type": "display_data"
    },
    {
     "name": "stdout",
     "output_type": "stream",
     "text": [
      "Epoch 85: train=6.30838, val=5.95698, took 591.35 s\n",
      "  Validation Found 89845 of 108024, added 9470 (eff 83.17%) (0.473 FP/event)\n"
     ]
    },
    {
     "data": {
      "application/vnd.jupyter.widget-view+json": {
       "model_id": "",
       "version_major": 2,
       "version_minor": 0
      },
      "text/plain": [
       "HBox(children=(FloatProgress(value=0.0, description='Training', layout=Layout(flex='2'), max=6667.0, style=Pro…"
      ]
     },
     "metadata": {},
     "output_type": "display_data"
    },
    {
     "name": "stdout",
     "output_type": "stream",
     "text": [
      "Epoch 86: train=6.30376, val=5.74292, took 591.24 s\n",
      "  Validation Found 88970 of 108024, added 8684 (eff 82.36%) (0.434 FP/event)\n"
     ]
    },
    {
     "data": {
      "application/vnd.jupyter.widget-view+json": {
       "model_id": "",
       "version_major": 2,
       "version_minor": 0
      },
      "text/plain": [
       "HBox(children=(FloatProgress(value=0.0, description='Training', layout=Layout(flex='2'), max=6667.0, style=Pro…"
      ]
     },
     "metadata": {},
     "output_type": "display_data"
    },
    {
     "name": "stdout",
     "output_type": "stream",
     "text": [
      "Epoch 87: train=6.31246, val=6.12581, took 591.05 s\n",
      "  Validation Found 89647 of 108024, added 9155 (eff 82.99%) (0.458 FP/event)\n"
     ]
    },
    {
     "data": {
      "application/vnd.jupyter.widget-view+json": {
       "model_id": "",
       "version_major": 2,
       "version_minor": 0
      },
      "text/plain": [
       "HBox(children=(FloatProgress(value=0.0, description='Training', layout=Layout(flex='2'), max=6667.0, style=Pro…"
      ]
     },
     "metadata": {},
     "output_type": "display_data"
    },
    {
     "name": "stdout",
     "output_type": "stream",
     "text": [
      "Epoch 88: train=6.29806, val=6.11921, took 591.21 s\n",
      "  Validation Found 89490 of 108024, added 9208 (eff 82.84%) (0.46 FP/event)\n"
     ]
    },
    {
     "data": {
      "application/vnd.jupyter.widget-view+json": {
       "model_id": "",
       "version_major": 2,
       "version_minor": 0
      },
      "text/plain": [
       "HBox(children=(FloatProgress(value=0.0, description='Training', layout=Layout(flex='2'), max=6667.0, style=Pro…"
      ]
     },
     "metadata": {},
     "output_type": "display_data"
    },
    {
     "name": "stdout",
     "output_type": "stream",
     "text": [
      "Epoch 89: train=6.30416, val=6.16061, took 591.58 s\n",
      "  Validation Found 88816 of 108024, added 8888 (eff 82.22%) (0.444 FP/event)\n"
     ]
    },
    {
     "data": {
      "application/vnd.jupyter.widget-view+json": {
       "model_id": "",
       "version_major": 2,
       "version_minor": 0
      },
      "text/plain": [
       "HBox(children=(FloatProgress(value=0.0, description='Training', layout=Layout(flex='2'), max=6667.0, style=Pro…"
      ]
     },
     "metadata": {},
     "output_type": "display_data"
    },
    {
     "name": "stdout",
     "output_type": "stream",
     "text": [
      "Epoch 90: train=6.3047, val=5.8466, took 591.61 s\n",
      "  Validation Found 88977 of 108024, added 8801 (eff 82.37%) (0.44 FP/event)\n"
     ]
    },
    {
     "data": {
      "application/vnd.jupyter.widget-view+json": {
       "model_id": "",
       "version_major": 2,
       "version_minor": 0
      },
      "text/plain": [
       "HBox(children=(FloatProgress(value=0.0, description='Training', layout=Layout(flex='2'), max=6667.0, style=Pro…"
      ]
     },
     "metadata": {},
     "output_type": "display_data"
    },
    {
     "name": "stdout",
     "output_type": "stream",
     "text": [
      "Epoch 91: train=6.29212, val=5.84163, took 590.89 s\n",
      "  Validation Found 89203 of 108024, added 9041 (eff 82.58%) (0.452 FP/event)\n"
     ]
    },
    {
     "data": {
      "application/vnd.jupyter.widget-view+json": {
       "model_id": "",
       "version_major": 2,
       "version_minor": 0
      },
      "text/plain": [
       "HBox(children=(FloatProgress(value=0.0, description='Training', layout=Layout(flex='2'), max=6667.0, style=Pro…"
      ]
     },
     "metadata": {},
     "output_type": "display_data"
    },
    {
     "name": "stdout",
     "output_type": "stream",
     "text": [
      "Epoch 92: train=6.28635, val=5.80474, took 591.33 s\n",
      "  Validation Found 88935 of 108024, added 8774 (eff 82.33%) (0.439 FP/event)\n"
     ]
    },
    {
     "data": {
      "application/vnd.jupyter.widget-view+json": {
       "model_id": "",
       "version_major": 2,
       "version_minor": 0
      },
      "text/plain": [
       "HBox(children=(FloatProgress(value=0.0, description='Training', layout=Layout(flex='2'), max=6667.0, style=Pro…"
      ]
     },
     "metadata": {},
     "output_type": "display_data"
    },
    {
     "name": "stdout",
     "output_type": "stream",
     "text": [
      "Epoch 93: train=6.2881, val=5.74406, took 591.56 s\n",
      "  Validation Found 88453 of 108024, added 8401 (eff 81.88%) (0.42 FP/event)\n"
     ]
    },
    {
     "data": {
      "application/vnd.jupyter.widget-view+json": {
       "model_id": "",
       "version_major": 2,
       "version_minor": 0
      },
      "text/plain": [
       "HBox(children=(FloatProgress(value=0.0, description='Training', layout=Layout(flex='2'), max=6667.0, style=Pro…"
      ]
     },
     "metadata": {},
     "output_type": "display_data"
    },
    {
     "name": "stdout",
     "output_type": "stream",
     "text": [
      "Epoch 94: train=6.28831, val=6.35705, took 591.25 s\n",
      "  Validation Found 89374 of 108024, added 9185 (eff 82.74%) (0.459 FP/event)\n"
     ]
    },
    {
     "data": {
      "application/vnd.jupyter.widget-view+json": {
       "model_id": "",
       "version_major": 2,
       "version_minor": 0
      },
      "text/plain": [
       "HBox(children=(FloatProgress(value=0.0, description='Training', layout=Layout(flex='2'), max=6667.0, style=Pro…"
      ]
     },
     "metadata": {},
     "output_type": "display_data"
    },
    {
     "name": "stdout",
     "output_type": "stream",
     "text": [
      "Epoch 95: train=6.28617, val=5.73152, took 591.78 s\n",
      "  Validation Found 89894 of 108024, added 9256 (eff 83.22%) (0.463 FP/event)\n"
     ]
    },
    {
     "data": {
      "application/vnd.jupyter.widget-view+json": {
       "model_id": "",
       "version_major": 2,
       "version_minor": 0
      },
      "text/plain": [
       "HBox(children=(FloatProgress(value=0.0, description='Training', layout=Layout(flex='2'), max=6667.0, style=Pro…"
      ]
     },
     "metadata": {},
     "output_type": "display_data"
    },
    {
     "name": "stdout",
     "output_type": "stream",
     "text": [
      "Epoch 96: train=6.27781, val=5.74278, took 591.37 s\n",
      "  Validation Found 89545 of 108024, added 8825 (eff 82.89%) (0.441 FP/event)\n"
     ]
    },
    {
     "data": {
      "application/vnd.jupyter.widget-view+json": {
       "model_id": "",
       "version_major": 2,
       "version_minor": 0
      },
      "text/plain": [
       "HBox(children=(FloatProgress(value=0.0, description='Training', layout=Layout(flex='2'), max=6667.0, style=Pro…"
      ]
     },
     "metadata": {},
     "output_type": "display_data"
    },
    {
     "name": "stdout",
     "output_type": "stream",
     "text": [
      "Epoch 97: train=6.27643, val=6.07066, took 591.72 s\n",
      "  Validation Found 88854 of 108024, added 8737 (eff 82.25%) (0.437 FP/event)\n"
     ]
    },
    {
     "data": {
      "application/vnd.jupyter.widget-view+json": {
       "model_id": "",
       "version_major": 2,
       "version_minor": 0
      },
      "text/plain": [
       "HBox(children=(FloatProgress(value=0.0, description='Training', layout=Layout(flex='2'), max=6667.0, style=Pro…"
      ]
     },
     "metadata": {},
     "output_type": "display_data"
    },
    {
     "name": "stdout",
     "output_type": "stream",
     "text": [
      "Epoch 98: train=6.27415, val=6.11823, took 591.26 s\n",
      "  Validation Found 89330 of 108024, added 9220 (eff 82.69%) (0.461 FP/event)\n"
     ]
    },
    {
     "data": {
      "application/vnd.jupyter.widget-view+json": {
       "model_id": "",
       "version_major": 2,
       "version_minor": 0
      },
      "text/plain": [
       "HBox(children=(FloatProgress(value=0.0, description='Training', layout=Layout(flex='2'), max=6667.0, style=Pro…"
      ]
     },
     "metadata": {},
     "output_type": "display_data"
    },
    {
     "name": "stdout",
     "output_type": "stream",
     "text": [
      "Epoch 99: train=6.27752, val=5.77987, took 591.2 s\n",
      "  Validation Found 88896 of 108024, added 8852 (eff 82.29%) (0.443 FP/event)\n"
     ]
    },
    {
     "data": {
      "application/vnd.jupyter.widget-view+json": {
       "model_id": "",
       "version_major": 2,
       "version_minor": 0
      },
      "text/plain": [
       "HBox(children=(FloatProgress(value=0.0, description='Training', layout=Layout(flex='2'), max=6667.0, style=Pro…"
      ]
     },
     "metadata": {},
     "output_type": "display_data"
    },
    {
     "name": "stdout",
     "output_type": "stream",
     "text": [
      "Epoch 100: train=6.27461, val=5.88579, took 591.51 s\n",
      "  Validation Found 88911 of 108024, added 8692 (eff 82.31%) (0.435 FP/event)\n"
     ]
    },
    {
     "data": {
      "application/vnd.jupyter.widget-view+json": {
       "model_id": "",
       "version_major": 2,
       "version_minor": 0
      },
      "text/plain": [
       "HBox(children=(FloatProgress(value=0.0, description='Training', layout=Layout(flex='2'), max=6667.0, style=Pro…"
      ]
     },
     "metadata": {},
     "output_type": "display_data"
    },
    {
     "name": "stdout",
     "output_type": "stream",
     "text": [
      "Epoch 101: train=6.27532, val=5.76623, took 591.66 s\n",
      "  Validation Found 90073 of 108024, added 9262 (eff 83.38%) (0.463 FP/event)\n"
     ]
    },
    {
     "data": {
      "application/vnd.jupyter.widget-view+json": {
       "model_id": "",
       "version_major": 2,
       "version_minor": 0
      },
      "text/plain": [
       "HBox(children=(FloatProgress(value=0.0, description='Training', layout=Layout(flex='2'), max=6667.0, style=Pro…"
      ]
     },
     "metadata": {},
     "output_type": "display_data"
    },
    {
     "name": "stdout",
     "output_type": "stream",
     "text": [
      "Epoch 102: train=6.273, val=5.72155, took 591.3 s\n",
      "  Validation Found 88925 of 108024, added 8596 (eff 82.32%) (0.43 FP/event)\n"
     ]
    },
    {
     "data": {
      "application/vnd.jupyter.widget-view+json": {
       "model_id": "",
       "version_major": 2,
       "version_minor": 0
      },
      "text/plain": [
       "HBox(children=(FloatProgress(value=0.0, description='Training', layout=Layout(flex='2'), max=6667.0, style=Pro…"
      ]
     },
     "metadata": {},
     "output_type": "display_data"
    },
    {
     "name": "stdout",
     "output_type": "stream",
     "text": [
      "Epoch 103: train=6.26599, val=5.73103, took 591.28 s\n",
      "  Validation Found 89048 of 108024, added 8683 (eff 82.43%) (0.434 FP/event)\n"
     ]
    },
    {
     "data": {
      "application/vnd.jupyter.widget-view+json": {
       "model_id": "",
       "version_major": 2,
       "version_minor": 0
      },
      "text/plain": [
       "HBox(children=(FloatProgress(value=0.0, description='Training', layout=Layout(flex='2'), max=6667.0, style=Pro…"
      ]
     },
     "metadata": {},
     "output_type": "display_data"
    },
    {
     "name": "stdout",
     "output_type": "stream",
     "text": [
      "Epoch 104: train=6.2701, val=5.96479, took 591.49 s\n",
      "  Validation Found 89730 of 108024, added 9278 (eff 83.06%) (0.464 FP/event)\n"
     ]
    },
    {
     "data": {
      "application/vnd.jupyter.widget-view+json": {
       "model_id": "",
       "version_major": 2,
       "version_minor": 0
      },
      "text/plain": [
       "HBox(children=(FloatProgress(value=0.0, description='Training', layout=Layout(flex='2'), max=6667.0, style=Pro…"
      ]
     },
     "metadata": {},
     "output_type": "display_data"
    },
    {
     "name": "stdout",
     "output_type": "stream",
     "text": [
      "Epoch 105: train=6.26107, val=5.73714, took 591.12 s\n",
      "  Validation Found 89361 of 108024, added 8765 (eff 82.72%) (0.438 FP/event)\n"
     ]
    },
    {
     "data": {
      "application/vnd.jupyter.widget-view+json": {
       "model_id": "",
       "version_major": 2,
       "version_minor": 0
      },
      "text/plain": [
       "HBox(children=(FloatProgress(value=0.0, description='Training', layout=Layout(flex='2'), max=6667.0, style=Pro…"
      ]
     },
     "metadata": {},
     "output_type": "display_data"
    },
    {
     "name": "stdout",
     "output_type": "stream",
     "text": [
      "Epoch 106: train=6.26267, val=5.73754, took 591.53 s\n",
      "  Validation Found 89040 of 108024, added 8622 (eff 82.43%) (0.431 FP/event)\n"
     ]
    },
    {
     "data": {
      "application/vnd.jupyter.widget-view+json": {
       "model_id": "",
       "version_major": 2,
       "version_minor": 0
      },
      "text/plain": [
       "HBox(children=(FloatProgress(value=0.0, description='Training', layout=Layout(flex='2'), max=6667.0, style=Pro…"
      ]
     },
     "metadata": {},
     "output_type": "display_data"
    },
    {
     "name": "stdout",
     "output_type": "stream",
     "text": [
      "Epoch 107: train=6.26615, val=5.77627, took 591.85 s\n",
      "  Validation Found 89859 of 108024, added 9171 (eff 83.18%) (0.459 FP/event)\n"
     ]
    },
    {
     "data": {
      "application/vnd.jupyter.widget-view+json": {
       "model_id": "",
       "version_major": 2,
       "version_minor": 0
      },
      "text/plain": [
       "HBox(children=(FloatProgress(value=0.0, description='Training', layout=Layout(flex='2'), max=6667.0, style=Pro…"
      ]
     },
     "metadata": {},
     "output_type": "display_data"
    },
    {
     "name": "stdout",
     "output_type": "stream",
     "text": [
      "Epoch 108: train=6.25465, val=5.74072, took 591.18 s\n",
      "  Validation Found 89493 of 108024, added 8917 (eff 82.85%) (0.446 FP/event)\n"
     ]
    },
    {
     "data": {
      "application/vnd.jupyter.widget-view+json": {
       "model_id": "",
       "version_major": 2,
       "version_minor": 0
      },
      "text/plain": [
       "HBox(children=(FloatProgress(value=0.0, description='Training', layout=Layout(flex='2'), max=6667.0, style=Pro…"
      ]
     },
     "metadata": {},
     "output_type": "display_data"
    },
    {
     "name": "stdout",
     "output_type": "stream",
     "text": [
      "Epoch 109: train=6.25977, val=6.10317, took 591.68 s\n",
      "  Validation Found 89646 of 108024, added 8981 (eff 82.99%) (0.449 FP/event)\n"
     ]
    },
    {
     "data": {
      "application/vnd.jupyter.widget-view+json": {
       "model_id": "",
       "version_major": 2,
       "version_minor": 0
      },
      "text/plain": [
       "HBox(children=(FloatProgress(value=0.0, description='Training', layout=Layout(flex='2'), max=6667.0, style=Pro…"
      ]
     },
     "metadata": {},
     "output_type": "display_data"
    },
    {
     "name": "stdout",
     "output_type": "stream",
     "text": [
      "Epoch 110: train=6.2544, val=6.02756, took 591.6 s\n",
      "  Validation Found 89881 of 108024, added 9327 (eff 83.20%) (0.466 FP/event)\n"
     ]
    },
    {
     "data": {
      "application/vnd.jupyter.widget-view+json": {
       "model_id": "",
       "version_major": 2,
       "version_minor": 0
      },
      "text/plain": [
       "HBox(children=(FloatProgress(value=0.0, description='Training', layout=Layout(flex='2'), max=6667.0, style=Pro…"
      ]
     },
     "metadata": {},
     "output_type": "display_data"
    },
    {
     "name": "stdout",
     "output_type": "stream",
     "text": [
      "Epoch 111: train=6.2483, val=5.70951, took 591.36 s\n",
      "  Validation Found 89704 of 108024, added 8958 (eff 83.04%) (0.448 FP/event)\n"
     ]
    },
    {
     "data": {
      "application/vnd.jupyter.widget-view+json": {
       "model_id": "",
       "version_major": 2,
       "version_minor": 0
      },
      "text/plain": [
       "HBox(children=(FloatProgress(value=0.0, description='Training', layout=Layout(flex='2'), max=6667.0, style=Pro…"
      ]
     },
     "metadata": {},
     "output_type": "display_data"
    },
    {
     "name": "stdout",
     "output_type": "stream",
     "text": [
      "Epoch 112: train=6.24973, val=5.73082, took 591.43 s\n",
      "  Validation Found 89361 of 108024, added 8695 (eff 82.72%) (0.435 FP/event)\n"
     ]
    },
    {
     "data": {
      "application/vnd.jupyter.widget-view+json": {
       "model_id": "",
       "version_major": 2,
       "version_minor": 0
      },
      "text/plain": [
       "HBox(children=(FloatProgress(value=0.0, description='Training', layout=Layout(flex='2'), max=6667.0, style=Pro…"
      ]
     },
     "metadata": {},
     "output_type": "display_data"
    },
    {
     "name": "stdout",
     "output_type": "stream",
     "text": [
      "Epoch 113: train=6.24717, val=6.00729, took 591.05 s\n",
      "  Validation Found 89662 of 108024, added 9106 (eff 83.00%) (0.455 FP/event)\n"
     ]
    },
    {
     "data": {
      "application/vnd.jupyter.widget-view+json": {
       "model_id": "",
       "version_major": 2,
       "version_minor": 0
      },
      "text/plain": [
       "HBox(children=(FloatProgress(value=0.0, description='Training', layout=Layout(flex='2'), max=6667.0, style=Pro…"
      ]
     },
     "metadata": {},
     "output_type": "display_data"
    },
    {
     "name": "stdout",
     "output_type": "stream",
     "text": [
      "Epoch 114: train=6.24986, val=5.91065, took 591.53 s\n",
      "  Validation Found 89708 of 108024, added 9030 (eff 83.04%) (0.451 FP/event)\n"
     ]
    },
    {
     "data": {
      "application/vnd.jupyter.widget-view+json": {
       "model_id": "",
       "version_major": 2,
       "version_minor": 0
      },
      "text/plain": [
       "HBox(children=(FloatProgress(value=0.0, description='Training', layout=Layout(flex='2'), max=6667.0, style=Pro…"
      ]
     },
     "metadata": {},
     "output_type": "display_data"
    },
    {
     "name": "stdout",
     "output_type": "stream",
     "text": [
      "Epoch 115: train=6.24644, val=5.89027, took 591.25 s\n",
      "  Validation Found 89184 of 108024, added 8760 (eff 82.56%) (0.438 FP/event)\n"
     ]
    },
    {
     "data": {
      "application/vnd.jupyter.widget-view+json": {
       "model_id": "",
       "version_major": 2,
       "version_minor": 0
      },
      "text/plain": [
       "HBox(children=(FloatProgress(value=0.0, description='Training', layout=Layout(flex='2'), max=6667.0, style=Pro…"
      ]
     },
     "metadata": {},
     "output_type": "display_data"
    },
    {
     "name": "stdout",
     "output_type": "stream",
     "text": [
      "Epoch 116: train=6.25128, val=5.69743, took 591.04 s\n",
      "  Validation Found 89387 of 108024, added 8693 (eff 82.75%) (0.435 FP/event)\n"
     ]
    },
    {
     "data": {
      "application/vnd.jupyter.widget-view+json": {
       "model_id": "",
       "version_major": 2,
       "version_minor": 0
      },
      "text/plain": [
       "HBox(children=(FloatProgress(value=0.0, description='Training', layout=Layout(flex='2'), max=6667.0, style=Pro…"
      ]
     },
     "metadata": {},
     "output_type": "display_data"
    },
    {
     "name": "stdout",
     "output_type": "stream",
     "text": [
      "Epoch 117: train=6.242, val=5.7286, took 590.84 s\n",
      "  Validation Found 89882 of 108024, added 9131 (eff 83.21%) (0.457 FP/event)\n"
     ]
    },
    {
     "data": {
      "application/vnd.jupyter.widget-view+json": {
       "model_id": "",
       "version_major": 2,
       "version_minor": 0
      },
      "text/plain": [
       "HBox(children=(FloatProgress(value=0.0, description='Training', layout=Layout(flex='2'), max=6667.0, style=Pro…"
      ]
     },
     "metadata": {},
     "output_type": "display_data"
    },
    {
     "name": "stdout",
     "output_type": "stream",
     "text": [
      "Epoch 118: train=6.23866, val=5.73047, took 591.74 s\n",
      "  Validation Found 89578 of 108024, added 8928 (eff 82.92%) (0.446 FP/event)\n"
     ]
    },
    {
     "data": {
      "application/vnd.jupyter.widget-view+json": {
       "model_id": "",
       "version_major": 2,
       "version_minor": 0
      },
      "text/plain": [
       "HBox(children=(FloatProgress(value=0.0, description='Training', layout=Layout(flex='2'), max=6667.0, style=Pro…"
      ]
     },
     "metadata": {},
     "output_type": "display_data"
    },
    {
     "name": "stdout",
     "output_type": "stream",
     "text": [
      "Epoch 119: train=6.23218, val=5.96254, took 591.37 s\n",
      "  Validation Found 89550 of 108024, added 9109 (eff 82.90%) (0.455 FP/event)\n"
     ]
    },
    {
     "data": {
      "application/vnd.jupyter.widget-view+json": {
       "model_id": "",
       "version_major": 2,
       "version_minor": 0
      },
      "text/plain": [
       "HBox(children=(FloatProgress(value=0.0, description='Training', layout=Layout(flex='2'), max=6667.0, style=Pro…"
      ]
     },
     "metadata": {},
     "output_type": "display_data"
    },
    {
     "name": "stdout",
     "output_type": "stream",
     "text": [
      "Epoch 120: train=6.2359, val=5.75198, took 591.39 s\n",
      "  Validation Found 88805 of 108024, added 8603 (eff 82.21%) (0.43 FP/event)\n"
     ]
    },
    {
     "data": {
      "application/vnd.jupyter.widget-view+json": {
       "model_id": "",
       "version_major": 2,
       "version_minor": 0
      },
      "text/plain": [
       "HBox(children=(FloatProgress(value=0.0, description='Training', layout=Layout(flex='2'), max=6667.0, style=Pro…"
      ]
     },
     "metadata": {},
     "output_type": "display_data"
    },
    {
     "name": "stdout",
     "output_type": "stream",
     "text": [
      "Epoch 121: train=6.23692, val=5.86426, took 591.29 s\n",
      "  Validation Found 89396 of 108024, added 8873 (eff 82.76%) (0.444 FP/event)\n"
     ]
    },
    {
     "data": {
      "application/vnd.jupyter.widget-view+json": {
       "model_id": "",
       "version_major": 2,
       "version_minor": 0
      },
      "text/plain": [
       "HBox(children=(FloatProgress(value=0.0, description='Training', layout=Layout(flex='2'), max=6667.0, style=Pro…"
      ]
     },
     "metadata": {},
     "output_type": "display_data"
    },
    {
     "name": "stdout",
     "output_type": "stream",
     "text": [
      "Epoch 122: train=6.23566, val=5.73362, took 591.36 s\n",
      "  Validation Found 90073 of 108024, added 9109 (eff 83.38%) (0.455 FP/event)\n"
     ]
    },
    {
     "data": {
      "application/vnd.jupyter.widget-view+json": {
       "model_id": "",
       "version_major": 2,
       "version_minor": 0
      },
      "text/plain": [
       "HBox(children=(FloatProgress(value=0.0, description='Training', layout=Layout(flex='2'), max=6667.0, style=Pro…"
      ]
     },
     "metadata": {},
     "output_type": "display_data"
    },
    {
     "name": "stdout",
     "output_type": "stream",
     "text": [
      "Epoch 123: train=6.22761, val=5.85341, took 591.67 s\n",
      "  Validation Found 89582 of 108024, added 8933 (eff 82.93%) (0.447 FP/event)\n"
     ]
    },
    {
     "data": {
      "application/vnd.jupyter.widget-view+json": {
       "model_id": "",
       "version_major": 2,
       "version_minor": 0
      },
      "text/plain": [
       "HBox(children=(FloatProgress(value=0.0, description='Training', layout=Layout(flex='2'), max=6667.0, style=Pro…"
      ]
     },
     "metadata": {},
     "output_type": "display_data"
    },
    {
     "name": "stdout",
     "output_type": "stream",
     "text": [
      "Epoch 124: train=6.23617, val=5.76972, took 591.57 s\n",
      "  Validation Found 89401 of 108024, added 8832 (eff 82.76%) (0.442 FP/event)\n"
     ]
    },
    {
     "data": {
      "application/vnd.jupyter.widget-view+json": {
       "model_id": "",
       "version_major": 2,
       "version_minor": 0
      },
      "text/plain": [
       "HBox(children=(FloatProgress(value=0.0, description='Training', layout=Layout(flex='2'), max=6667.0, style=Pro…"
      ]
     },
     "metadata": {},
     "output_type": "display_data"
    },
    {
     "name": "stdout",
     "output_type": "stream",
     "text": [
      "Epoch 125: train=6.22775, val=5.82178, took 590.86 s\n",
      "  Validation Found 89407 of 108024, added 8640 (eff 82.77%) (0.432 FP/event)\n"
     ]
    },
    {
     "data": {
      "application/vnd.jupyter.widget-view+json": {
       "model_id": "",
       "version_major": 2,
       "version_minor": 0
      },
      "text/plain": [
       "HBox(children=(FloatProgress(value=0.0, description='Training', layout=Layout(flex='2'), max=6667.0, style=Pro…"
      ]
     },
     "metadata": {},
     "output_type": "display_data"
    },
    {
     "name": "stdout",
     "output_type": "stream",
     "text": [
      "Epoch 126: train=6.24933, val=5.69771, took 591.35 s\n",
      "  Validation Found 89306 of 108024, added 8775 (eff 82.67%) (0.439 FP/event)\n"
     ]
    },
    {
     "data": {
      "application/vnd.jupyter.widget-view+json": {
       "model_id": "",
       "version_major": 2,
       "version_minor": 0
      },
      "text/plain": [
       "HBox(children=(FloatProgress(value=0.0, description='Training', layout=Layout(flex='2'), max=6667.0, style=Pro…"
      ]
     },
     "metadata": {},
     "output_type": "display_data"
    },
    {
     "name": "stdout",
     "output_type": "stream",
     "text": [
      "Epoch 127: train=6.2193, val=5.92469, took 590.79 s\n",
      "  Validation Found 89377 of 108024, added 8951 (eff 82.74%) (0.448 FP/event)\n"
     ]
    },
    {
     "data": {
      "application/vnd.jupyter.widget-view+json": {
       "model_id": "",
       "version_major": 2,
       "version_minor": 0
      },
      "text/plain": [
       "HBox(children=(FloatProgress(value=0.0, description='Training', layout=Layout(flex='2'), max=6667.0, style=Pro…"
      ]
     },
     "metadata": {},
     "output_type": "display_data"
    },
    {
     "name": "stdout",
     "output_type": "stream",
     "text": [
      "Epoch 128: train=6.21921, val=5.96382, took 591.21 s\n",
      "  Validation Found 89345 of 108024, added 8836 (eff 82.71%) (0.442 FP/event)\n"
     ]
    },
    {
     "data": {
      "application/vnd.jupyter.widget-view+json": {
       "model_id": "",
       "version_major": 2,
       "version_minor": 0
      },
      "text/plain": [
       "HBox(children=(FloatProgress(value=0.0, description='Training', layout=Layout(flex='2'), max=6667.0, style=Pro…"
      ]
     },
     "metadata": {},
     "output_type": "display_data"
    },
    {
     "name": "stdout",
     "output_type": "stream",
     "text": [
      "Epoch 129: train=6.22148, val=6.67344, took 591.02 s\n",
      "  Validation Found 89360 of 108024, added 9189 (eff 82.72%) (0.459 FP/event)\n"
     ]
    },
    {
     "data": {
      "application/vnd.jupyter.widget-view+json": {
       "model_id": "",
       "version_major": 2,
       "version_minor": 0
      },
      "text/plain": [
       "HBox(children=(FloatProgress(value=0.0, description='Training', layout=Layout(flex='2'), max=6667.0, style=Pro…"
      ]
     },
     "metadata": {},
     "output_type": "display_data"
    },
    {
     "name": "stdout",
     "output_type": "stream",
     "text": [
      "Epoch 130: train=6.2199, val=6.3824, took 591.32 s\n",
      "  Validation Found 89504 of 108024, added 9035 (eff 82.86%) (0.452 FP/event)\n"
     ]
    },
    {
     "data": {
      "application/vnd.jupyter.widget-view+json": {
       "model_id": "",
       "version_major": 2,
       "version_minor": 0
      },
      "text/plain": [
       "HBox(children=(FloatProgress(value=0.0, description='Training', layout=Layout(flex='2'), max=6667.0, style=Pro…"
      ]
     },
     "metadata": {},
     "output_type": "display_data"
    },
    {
     "name": "stdout",
     "output_type": "stream",
     "text": [
      "Epoch 131: train=6.21724, val=6.11354, took 591.46 s\n",
      "  Validation Found 89428 of 108024, added 9009 (eff 82.79%) (0.45 FP/event)\n"
     ]
    },
    {
     "data": {
      "application/vnd.jupyter.widget-view+json": {
       "model_id": "",
       "version_major": 2,
       "version_minor": 0
      },
      "text/plain": [
       "HBox(children=(FloatProgress(value=0.0, description='Training', layout=Layout(flex='2'), max=6667.0, style=Pro…"
      ]
     },
     "metadata": {},
     "output_type": "display_data"
    },
    {
     "name": "stdout",
     "output_type": "stream",
     "text": [
      "Epoch 132: train=6.2159, val=5.71757, took 591.24 s\n",
      "  Validation Found 89507 of 108024, added 8827 (eff 82.86%) (0.441 FP/event)\n"
     ]
    },
    {
     "data": {
      "application/vnd.jupyter.widget-view+json": {
       "model_id": "",
       "version_major": 2,
       "version_minor": 0
      },
      "text/plain": [
       "HBox(children=(FloatProgress(value=0.0, description='Training', layout=Layout(flex='2'), max=6667.0, style=Pro…"
      ]
     },
     "metadata": {},
     "output_type": "display_data"
    },
    {
     "name": "stdout",
     "output_type": "stream",
     "text": [
      "Epoch 133: train=6.21159, val=5.68525, took 592.02 s\n",
      "  Validation Found 89428 of 108024, added 8565 (eff 82.79%) (0.428 FP/event)\n"
     ]
    },
    {
     "data": {
      "application/vnd.jupyter.widget-view+json": {
       "model_id": "",
       "version_major": 2,
       "version_minor": 0
      },
      "text/plain": [
       "HBox(children=(FloatProgress(value=0.0, description='Training', layout=Layout(flex='2'), max=6667.0, style=Pro…"
      ]
     },
     "metadata": {},
     "output_type": "display_data"
    },
    {
     "name": "stdout",
     "output_type": "stream",
     "text": [
      "Epoch 134: train=6.2111, val=5.85394, took 591.48 s\n",
      "  Validation Found 89790 of 108024, added 9095 (eff 83.12%) (0.455 FP/event)\n"
     ]
    },
    {
     "data": {
      "application/vnd.jupyter.widget-view+json": {
       "model_id": "bd24706f27fc47db80791c7c9255b91f",
       "version_major": 2,
       "version_minor": 0
      },
      "text/plain": [
       "HBox(children=(FloatProgress(value=0.0, description='Training', layout=Layout(flex='2'), max=6667.0, style=Pro…"
      ]
     },
     "metadata": {},
     "output_type": "display_data"
    }
   ],
   "source": [
    "for result in trainNet(model, optimizer, loss,\n",
    "                        train_loader, val_loader,\n",
    "                        n_epochs, epoch_start=len(results),\n",
    "                        notebook=True):\n",
    "    \n",
    "    results = results.append(pd.Series(result._asdict()), ignore_index=True)\n",
    "    \n",
    "    xs = results.index\n",
    "##    print(\"xs = \",xs)\n",
    "    \n",
    "    # Update the plot above\n",
    "##    print(\"results.index = \",results.index,\"  results.cost\", results.cost)\n",
    "##    print(\"results.index = \",results.index,\"  results.val\", results.val)\n",
    "    lines['train'].set_data(results.index,results.cost)\n",
    "    lines['val'].set_data(results.index,results.val)\n",
    "    \n",
    "    #filter first cost epoch (can be really large)\n",
    "    max_cost = max(max(results.cost if len(results.cost)<2 else results.cost[1:]), max(results.val))\n",
    "    min_cost = min(min(results.cost), min(results.val))\n",
    "    \n",
    "    # The plot limits need updating too\n",
    "    \n",
    "    \n",
    "    \n",
    "    ax.set_ylim(min_cost*.95, max_cost*1.05)  \n",
    "    ax.set_xlim(-.5, len(results.cost) - .5)\n",
    "    \n",
    "    replace_in_ax(lax, lines['eff'], xs, results['eff_val'].apply(lambda x: x.eff_rate))\n",
    "    replace_in_ax(tax, lines['fp'], xs, results['eff_val'].apply(lambda x: x.fp_rate))\n",
    "    \n",
    "    # Redraw the figure\n",
    "    fig.canvas.draw()\n",
    "\n",
    "    # Save each model state dictionary\n",
    "    torch.save(model.state_dict(), output / f'{name}_{result.epoch}.pyt')"
   ]
  },
  {
   "cell_type": "code",
   "execution_count": null,
   "metadata": {},
   "outputs": [],
   "source": [
    "torch.save(model.state_dict(), output / f'{name}_final.pyt')"
   ]
  },
  {
   "cell_type": "code",
   "execution_count": null,
   "metadata": {},
   "outputs": [],
   "source": [
    "results.to_hdf(f'{name}_stats.hdf5', 'results')"
   ]
  },
  {
   "cell_type": "code",
   "execution_count": null,
   "metadata": {},
   "outputs": [],
   "source": [
    "dual_train_plots(results.index,\n",
    "                 results.cost, results.val, \n",
    "                 results['eff_val'].apply(lambda x: x.eff_rate),\n",
    "                 results['eff_val'].apply(lambda x: x.fp_rate))\n",
    "plt.tight_layout()\n",
    "plt.savefig(str(output / f'{name}_stats_a.png'))"
   ]
  },
  {
   "cell_type": "markdown",
   "metadata": {},
   "source": [
    "Go ahead and save the final model (even though it was also saved above):"
   ]
  },
  {
   "cell_type": "markdown",
   "metadata": {},
   "source": [
    "Save the output results:"
   ]
  },
  {
   "cell_type": "code",
   "execution_count": null,
   "metadata": {},
   "outputs": [],
   "source": [
    "##torch.cuda.empty_cache()\"\n",
    "##\n",
    "quit()\n",
    "\n"
   ]
  },
  {
   "cell_type": "code",
   "execution_count": null,
   "metadata": {},
   "outputs": [],
   "source": []
  }
 ],
 "metadata": {
  "kernelspec": {
   "display_name": "goofit-june2020",
   "language": "python",
   "name": "goofit-june2020"
  },
  "language_info": {
   "codemirror_mode": {
    "name": "ipython",
    "version": 3
   },
   "file_extension": ".py",
   "mimetype": "text/x-python",
   "name": "python",
   "nbconvert_exporter": "python",
   "pygments_lexer": "ipython3",
   "version": "3.7.6"
  }
 },
 "nbformat": 4,
 "nbformat_minor": 2
}
