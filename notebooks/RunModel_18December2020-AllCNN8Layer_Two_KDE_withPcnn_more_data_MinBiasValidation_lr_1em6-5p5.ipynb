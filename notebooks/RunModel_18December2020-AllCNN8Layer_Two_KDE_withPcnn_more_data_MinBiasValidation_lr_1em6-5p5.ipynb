{
 "cells": [
  {
   "cell_type": "code",
   "execution_count": 1,
   "metadata": {},
   "outputs": [],
   "source": [
    "##%matplotlib widget\n",
    "## with %matplotlib notebook: seems to require ipympl as part of environment, either\n",
    "## part of the conda environment or \"pip install ipympl\"\n",
    "## otherwise, does not show ANY plots in notebook, plt.savefig() works\n",
    "%matplotlib notebook  \n",
    "##%matplotlib inline    ## --plt.savefig()  works, but re-sizing does NOT\n",
    "\n"
   ]
  },
  {
   "cell_type": "markdown",
   "metadata": {},
   "source": [
    "This notebook is derived from RunModel_Demo_28November2020-SimpleCNNLayer_Ca which \"worked\", but did not reach as high efficiency as earlier models. Here, the number of hidden convolutional layers is increased by 2 and the number of output channels per layer is increased by using SimpleCNN7Layer_Ca_Two_KDE in place of SimpleCNN5Layer_Ca_Two_KDE\n",
    "\n",
    "The goal is to use two channels of input -- poca_KDE_A and poca_KDE_B to see if this improves the performance of the algorithm, all else being equal.\n",
    "\n",
    "\"withPfc\" denotes using poca_KDE_A_xMax & poca_KDE_A_yMax as perturbative features\n",
    "\n",
    "We use full LHCb MC for both training and validation here, albeit a training sample slightly less than 100K events.\n"
   ]
  },
  {
   "cell_type": "markdown",
   "metadata": {},
   "source": [
    "Check the current GPU usage. Please try to be nice!"
   ]
  },
  {
   "cell_type": "code",
   "execution_count": 2,
   "metadata": {},
   "outputs": [
    {
     "name": "stdout",
     "output_type": "stream",
     "text": [
      "Fri Dec 18 08:00:48 2020       \r\n",
      "+-----------------------------------------------------------------------------+\r\n",
      "| NVIDIA-SMI 440.64.00    Driver Version: 440.64.00    CUDA Version: 10.2     |\r\n",
      "|-------------------------------+----------------------+----------------------+\r\n",
      "| GPU  Name        Persistence-M| Bus-Id        Disp.A | Volatile Uncorr. ECC |\r\n",
      "| Fan  Temp  Perf  Pwr:Usage/Cap|         Memory-Usage | GPU-Util  Compute M. |\r\n",
      "|===============================+======================+======================|\r\n",
      "|   0  TITAN V             Off  | 00000000:03:00.0 Off |                  N/A |\r\n",
      "| 50%   68C    P2   128W / 250W |   5572MiB / 12066MiB |     83%      Default |\r\n",
      "+-------------------------------+----------------------+----------------------+\r\n",
      "|   1  Tesla P100-PCIE...  Off  | 00000000:83:00.0 Off |                    0 |\r\n",
      "| N/A   37C    P0    28W / 250W |      0MiB / 16280MiB |      0%      Default |\r\n",
      "+-------------------------------+----------------------+----------------------+\r\n",
      "|   2  TITAN V             Off  | 00000000:84:00.0 Off |                  N/A |\r\n",
      "| 28%   42C    P8    27W / 250W |   1641MiB / 12066MiB |      0%      Default |\r\n",
      "+-------------------------------+----------------------+----------------------+\r\n",
      "                                                                               \r\n",
      "+-----------------------------------------------------------------------------+\r\n",
      "| Processes:                                                       GPU Memory |\r\n",
      "|  GPU       PID   Type   Process name                             Usage      |\r\n",
      "|=============================================================================|\r\n",
      "|    0     39823      C   /data/conda/envs/goofit/bin/python          2351MiB |\r\n",
      "|    0     44398      C   /data/conda/envs/goofit/bin/python          3209MiB |\r\n",
      "|    2      4304      C   ...a/conda/envs/goofit-june2020/bin/python  1629MiB |\r\n",
      "+-----------------------------------------------------------------------------+\r\n"
     ]
    }
   ],
   "source": [
    "!nvidia-smi"
   ]
  },
  {
   "cell_type": "markdown",
   "metadata": {},
   "source": [
    "> **WARNING**: The card numbers here are *not* the same as in CUDA. You have been warned."
   ]
  },
  {
   "cell_type": "markdown",
   "metadata": {},
   "source": [
    "## Imports"
   ]
  },
  {
   "cell_type": "code",
   "execution_count": 3,
   "metadata": {},
   "outputs": [],
   "source": [
    "import matplotlib.pyplot as plt\n",
    "import numpy as np\n",
    "import time\n",
    "import torch\n",
    "import pandas as pd\n",
    "\n",
    "# Python 3 standard library\n",
    "from pathlib import Path\n",
    "\n",
    "from torchsummary import summary"
   ]
  },
  {
   "cell_type": "markdown",
   "metadata": {},
   "source": [
    "### Set up local parameters"
   ]
  },
  {
   "cell_type": "code",
   "execution_count": 4,
   "metadata": {},
   "outputs": [],
   "source": [
    "n_epochs = 50\n",
    "\n",
    "# Name is the output file name\n",
    "\n",
    "\n",
    "##  201128  mds\n",
    "##  iter2 follows from iter0 (only last layer weights allowed to be learned)\n",
    "##  due to operator error, the file/folder name was iter1 rather than iter2\n",
    "##  so the labeling is slightly mis-leading.  This is the first iteration\n",
    "##  when all weights are allowed to vary\n",
    "folder = '17December2020_AllCNN8Layer_withPcnn_50epochs_moreDataIter1_lr_1em6_aymm_5p5'\n",
    "name = folder\n",
    "\n",
    "# Make an output folder named \"name\" (change if you want)\n",
    "\n",
    "## Special instructions for those working on goofy at UC\n",
    "## Please be very careful to make sure that your folder\n",
    "## does not live in a subdirectory of your home directory\n",
    "## this disk has very little capacity. Instead, use \n",
    "## a subdirectory in /share/lazy with a symbolic link to\n",
    "## it in this (the notebooks) subdirectory\n",
    "folder = 'ML/' + folder\n",
    "output = Path(folder)\n",
    "\n",
    "\n",
    "# Size of batches\n",
    "batch_size = 128\n",
    "\n",
    "# How fast to learn\n",
    "learning_rate = 1e-6"
   ]
  },
  {
   "cell_type": "markdown",
   "metadata": {},
   "source": [
    "Make the output directory if it does not exist:"
   ]
  },
  {
   "cell_type": "code",
   "execution_count": 5,
   "metadata": {},
   "outputs": [],
   "source": [
    "output.mkdir(exist_ok=True)"
   ]
  },
  {
   "cell_type": "markdown",
   "metadata": {},
   "source": [
    "## Get the helper functions\n",
    "\n",
    "Add the directory with the model\n",
    "definitions to the path so we can import from it:\n",
    "\n",
    "> When you type `import X`,\n",
    "Python searches `sys.path` for a python\n",
    "file named `X.py` to import. So we need to add the model directory to the path."
   ]
  },
  {
   "cell_type": "code",
   "execution_count": 6,
   "metadata": {
    "scrolled": true
   },
   "outputs": [],
   "source": [
    "# From model/collectdata.py\n",
    "from model.collectdata_poca_KDE import collect_data_poca\n",
    "\n",
    "# From model/loss.py\n",
    "##from loss import Loss\n",
    "from model.alt_loss_A import Loss\n",
    "\n",
    "# From model/training.py\n",
    "from model.training import trainNet, select_gpu\n",
    "\n",
    "# From model/models.py\n",
    "##  will start with model from TwoFeatures_CNN6Layer_A in the first instance\n",
    "##  see relevant cell below\n",
    "\n",
    "\n",
    "from model.models_mds_G import AllCNN8Layer_Ca_Two_KDE_withPcnn as Model\n",
    "\n",
    "from model.training import trainNet, select_gpu, Results\n",
    "from model.plots import dual_train_plots, replace_in_ax"
   ]
  },
  {
   "cell_type": "code",
   "execution_count": 7,
   "metadata": {},
   "outputs": [],
   "source": [
    "# This gets built up during the run - do not rerun this cell\n",
    "results = pd.DataFrame([], columns=Results._fields)"
   ]
  },
  {
   "cell_type": "markdown",
   "metadata": {},
   "source": [
    "Set up Torch device configuration. All tensors and model parameters need to know where to be put.\n",
    "This takes a BUS ID number: The BUS ID is the same as the listing at the top of this script."
   ]
  },
  {
   "cell_type": "code",
   "execution_count": 8,
   "metadata": {},
   "outputs": [
    {
     "name": "stdout",
     "output_type": "stream",
     "text": [
      "1 available GPUs (initially using device 0):\n",
      "  0 TITAN V\n"
     ]
    }
   ],
   "source": [
    "device = select_gpu(2)"
   ]
  },
  {
   "cell_type": "markdown",
   "metadata": {},
   "source": [
    "## Loading data\n",
    "\n",
    "Load the dataset, split into parts, then move to device (see `collectdata.py` in the `../model` directory)"
   ]
  },
  {
   "cell_type": "code",
   "execution_count": 9,
   "metadata": {
    "scrolled": true
   },
   "outputs": [
    {
     "name": "stdout",
     "output_type": "stream",
     "text": [
      "Loading data...\n",
      "Loaded dataAA/pv_HLT1CPU_MinBiasMagDown_14Nov.h5 in 19.89 s\n",
      "Loaded dataAA/pv_HLT1CPU_JpsiPhiMagDown_12Dec.h5 in 30.72 s\n",
      "Loaded dataAA/pv_HLT1CPU_D0piMagUp_12Dec.h5 in 30.39 s\n",
      "Loaded dataAA/pv_HLT1CPU_MinBiasMagUp_14Nov.h5 in 17.93 s\n",
      "Constructing 260000 event dataset took 2.979 s\n",
      "Loading data...\n",
      "Loaded dataAA/pv_HLT1CPU_MinBiasMagUp_14Nov.h5 in 17.55 s\n",
      "Constructing 18349 event dataset took 0.1507 s\n"
     ]
    }
   ],
   "source": [
    "## newer vernacular\n",
    "## Training dataset. You can put as many files here as desired.\n",
    "\n",
    "## in this DEMO example we use only one 80K training set -- the model starts with well-trained weights,\n",
    "## and using a smaller training set reduces both the time to load the data and the time to train an epoch\n",
    "##  set the option load_XandXsq = True to use both DKE and KDE^2 as input features\n",
    "##  added dataAA/pv_HLT1CPU_D0piMagUp_12Dec.h5  201212\n",
    "\n",
    "##  pv_HLT1CPU_D0piMagUp_12Dec.h5 + pv_HLT1CPU_MinBiasMagDown_14Nov.h5 contain 138810 events\n",
    "##  pv_HLT1CPU_MinBiasMagUp_14Nov.h5 contains 51349\n",
    "##  choose which to \"load\" and slices to produce 180K event training sample\n",
    "##   and 10159 event validation sample\n",
    "train_loader = collect_data_poca(\n",
    "                              'dataAA/pv_HLT1CPU_MinBiasMagDown_14Nov.h5',\n",
    "                              'dataAA/pv_HLT1CPU_JpsiPhiMagDown_12Dec.h5',\n",
    "                              'dataAA/pv_HLT1CPU_D0piMagUp_12Dec.h5',\n",
    "                              'dataAA/pv_HLT1CPU_MinBiasMagUp_14Nov.h5',\n",
    "                               slice = slice(None,260000),\n",
    "##                             device = device,\n",
    "                             batch_size=batch_size,\n",
    "## if we are using a larger dataset (240K events, with the datasets above, and 11 GB  of GPU memory),\n",
    "## not the dataset will overflow the GPU memory; device=device will allow the data to move back\n",
    "## and forth between the CPU and GPU memory. While this allows use of a larger dataset, it slows\n",
    "## down performance by about 10%.  So comment out when not needed.\n",
    "##                           device=device,\n",
    "                            masking=True, shuffle=True,\n",
    "                            load_XandXsq=False,\n",
    "                            load_A_and_B = True,\n",
    "                            load_xy=True)\n",
    "\n",
    "# Validation dataset. You can slice to reduce the size.\n",
    "## dataAA -> /share/lazy/sokoloff/ML-data_AA/\n",
    "val_loader = collect_data_poca(\n",
    "##                          'dataAA/pv_HLT1CPU_MinBiasMagDown_14Nov.h5',\n",
    "                            'dataAA/pv_HLT1CPU_MinBiasMagUp_14Nov.h5',\n",
    "##                            'dataAA/pv_HLT1CPU_D0piMagUp_12Dec.h5',\n",
    "                          batch_size=batch_size,\n",
    "                          slice=slice(33000,None),\n",
    "##                          device=device,\n",
    "                          masking=True, shuffle=False,\n",
    "                          load_XandXsq=False,\n",
    "                          load_A_and_B = True,\n",
    "                          load_xy=True)"
   ]
  },
  {
   "cell_type": "markdown",
   "metadata": {},
   "source": [
    "# Preparing the model"
   ]
  },
  {
   "cell_type": "markdown",
   "metadata": {},
   "source": [
    "Prepare a model, use multiple GPUs if they are VISIBLE, and move the model to the device."
   ]
  },
  {
   "cell_type": "code",
   "execution_count": 10,
   "metadata": {
    "scrolled": true
   },
   "outputs": [
    {
     "name": "stdout",
     "output_type": "stream",
     "text": [
      "ct, child =  0    Conv1d(2, 25, kernel_size=(25,), stride=(1,), padding=(12,))\n",
      "ct, child =  1    Conv1d(25, 25, kernel_size=(15,), stride=(1,), padding=(7,))\n",
      "ct, child =  2    Conv1d(25, 25, kernel_size=(15,), stride=(1,), padding=(7,))\n",
      "ct, child =  3    Conv1d(25, 25, kernel_size=(15,), stride=(1,), padding=(7,))\n",
      "ct, child =  4    Conv1d(25, 25, kernel_size=(15,), stride=(1,), padding=(7,))\n",
      "ct, child =  5    Conv1d(25, 25, kernel_size=(15,), stride=(1,), padding=(7,))\n",
      "ct, child =  6    Conv1d(25, 1, kernel_size=(5,), stride=(1,), padding=(2,))\n",
      "ct, child =  7    Dropout(p=0.15, inplace=False)\n",
      "ct, child =  8    Dropout(p=0.15, inplace=False)\n",
      "ct, child =  9    Dropout(p=0.15, inplace=False)\n",
      "ct, child =  10    Dropout(p=0.15, inplace=False)\n",
      "ct, child =  11    Dropout(p=0.15, inplace=False)\n",
      "ct, child =  12    Dropout(p=0.15, inplace=False)\n",
      "ct, child =  13    Dropout(p=0.15, inplace=False)\n",
      "ct, child =  14    Linear(in_features=4000, out_features=4000, bias=True)\n",
      "ct, child =  15    Conv1d(1, 1, kernel_size=(91,), stride=(1,), padding=(45,))\n",
      "ct, child =  16    Conv1d(2, 20, kernel_size=(25,), stride=(1,), padding=(12,))\n",
      "ct, child =  17    Conv1d(20, 15, kernel_size=(15,), stride=(1,), padding=(7,))\n",
      "ct, child =  18    Conv1d(15, 1, kernel_size=(5,), stride=(1,), padding=(2,))\n",
      "ct, child =  19    Linear(in_features=4000, out_features=4000, bias=True)\n",
      "ct, child =  20    Conv1d(1, 1, kernel_size=(31,), stride=(1,), padding=(15,))\n"
     ]
    }
   ],
   "source": [
    "model = Model()\n",
    "\n",
    "##summary(model, input_size=(4, 4000))\n",
    "##print(model.parameters)\n",
    "\n",
    "## add the following code to allow the user to freeze the some of the weights corresponding \n",
    "## to those taken from an earlier model trained with the original target histograms\n",
    "## presumably -- this leaves either the perturbative filter \"fixed\" and lets the \n",
    "## learning focus on the non-perturbative features, so get started faster, or vice versa\n",
    "ct = 0\n",
    "for child in model.children():\n",
    "  print('ct, child = ',ct, \"  \", child)\n",
    "  if ct < 0:\n",
    "    print(\"     About to set param.requires_grad=False for ct = \", ct, \"params\")\n",
    "    for param in child.parameters():\n",
    "        param.requires_grad = False \n",
    "  ct += 1\n",
    "##  mds 200121 loss = Loss(epsilon=1e-5,coefficient=1.0)\n",
    "loss = Loss(epsilon=1e-5,coefficient=5.5)\n",
    "optimizer = torch.optim.Adam(model.parameters(), lr=learning_rate)"
   ]
  },
  {
   "cell_type": "code",
   "execution_count": 11,
   "metadata": {
    "scrolled": true
   },
   "outputs": [
    {
     "name": "stdout",
     "output_type": "stream",
     "text": [
      "Let's use 1 GPUs!\n"
     ]
    }
   ],
   "source": [
    "print(\"Let's use\", torch.cuda.device_count(), \"GPUs!\")\n",
    "if torch.cuda.device_count() > 1:\n",
    "    model = torch.nn.DataParallel(model)"
   ]
  },
  {
   "cell_type": "markdown",
   "metadata": {},
   "source": [
    "Let's move the model's weight matricies to the GPU:"
   ]
  },
  {
   "cell_type": "code",
   "execution_count": 12,
   "metadata": {},
   "outputs": [
    {
     "name": "stdout",
     "output_type": "stream",
     "text": [
      "dictName =  ML/17December2020_AllCNN8Layer_withPcnn_200epochs_moreDataIter1_lr_1em6_aymm_1p0_majorTesting/17December2020_AllCNN8Layer_withPcnn_200epochs_moreDataIter1_lr_1em6_aymm_1p0_majorTesting_final.pyt\n",
      "for model_dict\n",
      "index, k =   0    conv1.weight\n",
      "index, k =   1    conv1.bias\n",
      "index, k =   2    conv2.weight\n",
      "index, k =   3    conv2.bias\n",
      "index, k =   4    conv3.weight\n",
      "index, k =   5    conv3.bias\n",
      "index, k =   6    conv4.weight\n",
      "index, k =   7    conv4.bias\n",
      "index, k =   8    conv5.weight\n",
      "index, k =   9    conv5.bias\n",
      "index, k =   10    conv6.weight\n",
      "index, k =   11    conv6.bias\n",
      "index, k =   12    conv7.weight\n",
      "index, k =   13    conv7.bias\n",
      "index, k =   14    fc1.weight\n",
      "index, k =   15    fc1.bias\n",
      "index, k =   16    finalFilter.weight\n",
      "index, k =   17    finalFilter.bias\n",
      "index, k =   18    ppConv1.weight\n",
      "index, k =   19    ppConv1.bias\n",
      "index, k =   20    ppConv2.weight\n",
      "index, k =   21    ppConv2.bias\n",
      "index, k =   22    ppConv3.weight\n",
      "index, k =   23    ppConv3.bias\n",
      "index, k =   24    ppFc1.weight\n",
      "index, k =   25    ppFc1.bias\n",
      "index, k =   26    ppFinalFilter.weight\n",
      "index, k =   27    ppFinalFilter.bias\n",
      " \n",
      "   for pretrained_dict\n",
      "index, k =   0    conv1.weight\n",
      "index, k =   1    conv1.bias\n",
      "index, k =   2    conv2.weight\n",
      "index, k =   3    conv2.bias\n",
      "index, k =   4    conv3.weight\n",
      "index, k =   5    conv3.bias\n",
      "index, k =   6    conv4.weight\n",
      "index, k =   7    conv4.bias\n",
      "index, k =   8    conv5.weight\n",
      "index, k =   9    conv5.bias\n",
      "index, k =   10    conv6.weight\n",
      "index, k =   11    conv6.bias\n",
      "index, k =   12    conv7.weight\n",
      "index, k =   13    conv7.bias\n",
      "index, k =   14    fc1.weight\n",
      "index, k =   15    fc1.bias\n",
      "index, k =   16    finalFilter.weight\n",
      "index, k =   17    finalFilter.bias\n",
      "index, k =   18    ppConv1.weight\n",
      "index, k =   19    ppConv1.bias\n",
      "index, k =   20    ppConv2.weight\n",
      "index, k =   21    ppConv2.bias\n",
      "index, k =   22    ppConv3.weight\n",
      "index, k =   23    ppConv3.bias\n",
      "index, k =   24    ppFc1.weight\n",
      "index, k =   25    ppFc1.bias\n",
      "index, k =   26    ppFinalFilter.weight\n",
      "index, k =   27    ppFinalFilter.bias\n",
      "model_dict instantiated\n"
     ]
    },
    {
     "data": {
      "text/plain": [
       "<All keys matched successfully>"
      ]
     },
     "execution_count": 12,
     "metadata": {},
     "output_type": "execute_result"
    }
   ],
   "source": [
    "##print('output = ',output)\n",
    "##print('oldOutput = ',oldOutput)\n",
    "##  use the first four layers from a pre-existing model\n",
    "##  see example at https://discuss.pytorch.org/t/how-to-load-part-of-pre-trained-model/1113\n",
    "\n",
    "##   ML -> /share/lazy/sokoloff/ML\n",
    "## not that m1p0 in file name is mis-leading  201212\n",
    "oldName = '17December2020_AllCNN8Layer_withPcnn_200epochs_moreDataIter1_lr_1em6_aymm_1p0_majorTesting'\n",
    "oldFolder = oldName\n",
    "suffix = 'final'\n",
    "dictName = 'ML/'+oldFolder+'/'+oldName+'_'+suffix+'.pyt'\n",
    "print('dictName = ',dictName)\n",
    "pretrained_dict = torch.load(dictName)\n",
    "model_dict = model.state_dict()\n",
    "## mds 190725 for debugging\n",
    "print(\"for model_dict\")\n",
    "index = 0\n",
    "for k,v in model_dict.items():\n",
    "    print(\"index, k =  \",index,\"  \",k)\n",
    "    index = index+1\n",
    "    \n",
    "print(\" \\n\",\"  for pretrained_dict\")\n",
    "index = 0\n",
    "for k,v in pretrained_dict.items():\n",
    "    print(\"index, k =  \",index,\"  \",k)\n",
    "    index = index+1\n",
    "## mds  \n",
    "\n",
    "print(\"model_dict instantiated\")\n",
    "# 1. filter out unnecessary keys\n",
    "pretrained_dict = {k: v for k, v in pretrained_dict.items() if k in model_dict}\n",
    "## print(\"pretrained_dict iterated\")\n",
    "# 2. overwrite entries in the existing state dict\n",
    "model_dict.update(pretrained_dict) \n",
    "##\n",
    "#   when starting from a model with a fully connected last layer rather than a convolutional layer\n",
    "# 3. load the new state dict\n",
    "#   need to use strict=False as the two models state model attributes do not agree exactly\n",
    "#   see https://pytorch.org/docs/master/_modules/torch/nn/modules/module.html#Module.load_state_dict\n",
    "\n",
    "model.load_state_dict(pretrained_dict,strict=False)\n",
    "\n",
    "## print('model_dict =    ', model_dict)\n"
   ]
  },
  {
   "cell_type": "code",
   "execution_count": 13,
   "metadata": {
    "scrolled": true
   },
   "outputs": [],
   "source": [
    "model = model.to(device)"
   ]
  },
  {
   "cell_type": "markdown",
   "metadata": {},
   "source": [
    "## Train \n",
    "\n",
    "\n",
    "\n",
    "The body of this loop runs once per epoch. Results is a named tuple of values (loss per epoch for training and validation, time each). Start by setting up a plot first:"
   ]
  },
  {
   "cell_type": "code",
   "execution_count": 14,
   "metadata": {
    "scrolled": false
   },
   "outputs": [
    {
     "data": {
      "application/javascript": [
       "/* Put everything inside the global mpl namespace */\n",
       "window.mpl = {};\n",
       "\n",
       "\n",
       "mpl.get_websocket_type = function() {\n",
       "    if (typeof(WebSocket) !== 'undefined') {\n",
       "        return WebSocket;\n",
       "    } else if (typeof(MozWebSocket) !== 'undefined') {\n",
       "        return MozWebSocket;\n",
       "    } else {\n",
       "        alert('Your browser does not have WebSocket support. ' +\n",
       "              'Please try Chrome, Safari or Firefox ≥ 6. ' +\n",
       "              'Firefox 4 and 5 are also supported but you ' +\n",
       "              'have to enable WebSockets in about:config.');\n",
       "    };\n",
       "}\n",
       "\n",
       "mpl.figure = function(figure_id, websocket, ondownload, parent_element) {\n",
       "    this.id = figure_id;\n",
       "\n",
       "    this.ws = websocket;\n",
       "\n",
       "    this.supports_binary = (this.ws.binaryType != undefined);\n",
       "\n",
       "    if (!this.supports_binary) {\n",
       "        var warnings = document.getElementById(\"mpl-warnings\");\n",
       "        if (warnings) {\n",
       "            warnings.style.display = 'block';\n",
       "            warnings.textContent = (\n",
       "                \"This browser does not support binary websocket messages. \" +\n",
       "                    \"Performance may be slow.\");\n",
       "        }\n",
       "    }\n",
       "\n",
       "    this.imageObj = new Image();\n",
       "\n",
       "    this.context = undefined;\n",
       "    this.message = undefined;\n",
       "    this.canvas = undefined;\n",
       "    this.rubberband_canvas = undefined;\n",
       "    this.rubberband_context = undefined;\n",
       "    this.format_dropdown = undefined;\n",
       "\n",
       "    this.image_mode = 'full';\n",
       "\n",
       "    this.root = $('<div/>');\n",
       "    this._root_extra_style(this.root)\n",
       "    this.root.attr('style', 'display: inline-block');\n",
       "\n",
       "    $(parent_element).append(this.root);\n",
       "\n",
       "    this._init_header(this);\n",
       "    this._init_canvas(this);\n",
       "    this._init_toolbar(this);\n",
       "\n",
       "    var fig = this;\n",
       "\n",
       "    this.waiting = false;\n",
       "\n",
       "    this.ws.onopen =  function () {\n",
       "            fig.send_message(\"supports_binary\", {value: fig.supports_binary});\n",
       "            fig.send_message(\"send_image_mode\", {});\n",
       "            if (mpl.ratio != 1) {\n",
       "                fig.send_message(\"set_dpi_ratio\", {'dpi_ratio': mpl.ratio});\n",
       "            }\n",
       "            fig.send_message(\"refresh\", {});\n",
       "        }\n",
       "\n",
       "    this.imageObj.onload = function() {\n",
       "            if (fig.image_mode == 'full') {\n",
       "                // Full images could contain transparency (where diff images\n",
       "                // almost always do), so we need to clear the canvas so that\n",
       "                // there is no ghosting.\n",
       "                fig.context.clearRect(0, 0, fig.canvas.width, fig.canvas.height);\n",
       "            }\n",
       "            fig.context.drawImage(fig.imageObj, 0, 0);\n",
       "        };\n",
       "\n",
       "    this.imageObj.onunload = function() {\n",
       "        fig.ws.close();\n",
       "    }\n",
       "\n",
       "    this.ws.onmessage = this._make_on_message_function(this);\n",
       "\n",
       "    this.ondownload = ondownload;\n",
       "}\n",
       "\n",
       "mpl.figure.prototype._init_header = function() {\n",
       "    var titlebar = $(\n",
       "        '<div class=\"ui-dialog-titlebar ui-widget-header ui-corner-all ' +\n",
       "        'ui-helper-clearfix\"/>');\n",
       "    var titletext = $(\n",
       "        '<div class=\"ui-dialog-title\" style=\"width: 100%; ' +\n",
       "        'text-align: center; padding: 3px;\"/>');\n",
       "    titlebar.append(titletext)\n",
       "    this.root.append(titlebar);\n",
       "    this.header = titletext[0];\n",
       "}\n",
       "\n",
       "\n",
       "\n",
       "mpl.figure.prototype._canvas_extra_style = function(canvas_div) {\n",
       "\n",
       "}\n",
       "\n",
       "\n",
       "mpl.figure.prototype._root_extra_style = function(canvas_div) {\n",
       "\n",
       "}\n",
       "\n",
       "mpl.figure.prototype._init_canvas = function() {\n",
       "    var fig = this;\n",
       "\n",
       "    var canvas_div = $('<div/>');\n",
       "\n",
       "    canvas_div.attr('style', 'position: relative; clear: both; outline: 0');\n",
       "\n",
       "    function canvas_keyboard_event(event) {\n",
       "        return fig.key_event(event, event['data']);\n",
       "    }\n",
       "\n",
       "    canvas_div.keydown('key_press', canvas_keyboard_event);\n",
       "    canvas_div.keyup('key_release', canvas_keyboard_event);\n",
       "    this.canvas_div = canvas_div\n",
       "    this._canvas_extra_style(canvas_div)\n",
       "    this.root.append(canvas_div);\n",
       "\n",
       "    var canvas = $('<canvas/>');\n",
       "    canvas.addClass('mpl-canvas');\n",
       "    canvas.attr('style', \"left: 0; top: 0; z-index: 0; outline: 0\")\n",
       "\n",
       "    this.canvas = canvas[0];\n",
       "    this.context = canvas[0].getContext(\"2d\");\n",
       "\n",
       "    var backingStore = this.context.backingStorePixelRatio ||\n",
       "\tthis.context.webkitBackingStorePixelRatio ||\n",
       "\tthis.context.mozBackingStorePixelRatio ||\n",
       "\tthis.context.msBackingStorePixelRatio ||\n",
       "\tthis.context.oBackingStorePixelRatio ||\n",
       "\tthis.context.backingStorePixelRatio || 1;\n",
       "\n",
       "    mpl.ratio = (window.devicePixelRatio || 1) / backingStore;\n",
       "\n",
       "    var rubberband = $('<canvas/>');\n",
       "    rubberband.attr('style', \"position: absolute; left: 0; top: 0; z-index: 1;\")\n",
       "\n",
       "    var pass_mouse_events = true;\n",
       "\n",
       "    canvas_div.resizable({\n",
       "        start: function(event, ui) {\n",
       "            pass_mouse_events = false;\n",
       "        },\n",
       "        resize: function(event, ui) {\n",
       "            fig.request_resize(ui.size.width, ui.size.height);\n",
       "        },\n",
       "        stop: function(event, ui) {\n",
       "            pass_mouse_events = true;\n",
       "            fig.request_resize(ui.size.width, ui.size.height);\n",
       "        },\n",
       "    });\n",
       "\n",
       "    function mouse_event_fn(event) {\n",
       "        if (pass_mouse_events)\n",
       "            return fig.mouse_event(event, event['data']);\n",
       "    }\n",
       "\n",
       "    rubberband.mousedown('button_press', mouse_event_fn);\n",
       "    rubberband.mouseup('button_release', mouse_event_fn);\n",
       "    // Throttle sequential mouse events to 1 every 20ms.\n",
       "    rubberband.mousemove('motion_notify', mouse_event_fn);\n",
       "\n",
       "    rubberband.mouseenter('figure_enter', mouse_event_fn);\n",
       "    rubberband.mouseleave('figure_leave', mouse_event_fn);\n",
       "\n",
       "    canvas_div.on(\"wheel\", function (event) {\n",
       "        event = event.originalEvent;\n",
       "        event['data'] = 'scroll'\n",
       "        if (event.deltaY < 0) {\n",
       "            event.step = 1;\n",
       "        } else {\n",
       "            event.step = -1;\n",
       "        }\n",
       "        mouse_event_fn(event);\n",
       "    });\n",
       "\n",
       "    canvas_div.append(canvas);\n",
       "    canvas_div.append(rubberband);\n",
       "\n",
       "    this.rubberband = rubberband;\n",
       "    this.rubberband_canvas = rubberband[0];\n",
       "    this.rubberband_context = rubberband[0].getContext(\"2d\");\n",
       "    this.rubberband_context.strokeStyle = \"#000000\";\n",
       "\n",
       "    this._resize_canvas = function(width, height) {\n",
       "        // Keep the size of the canvas, canvas container, and rubber band\n",
       "        // canvas in synch.\n",
       "        canvas_div.css('width', width)\n",
       "        canvas_div.css('height', height)\n",
       "\n",
       "        canvas.attr('width', width * mpl.ratio);\n",
       "        canvas.attr('height', height * mpl.ratio);\n",
       "        canvas.attr('style', 'width: ' + width + 'px; height: ' + height + 'px;');\n",
       "\n",
       "        rubberband.attr('width', width);\n",
       "        rubberband.attr('height', height);\n",
       "    }\n",
       "\n",
       "    // Set the figure to an initial 600x600px, this will subsequently be updated\n",
       "    // upon first draw.\n",
       "    this._resize_canvas(600, 600);\n",
       "\n",
       "    // Disable right mouse context menu.\n",
       "    $(this.rubberband_canvas).bind(\"contextmenu\",function(e){\n",
       "        return false;\n",
       "    });\n",
       "\n",
       "    function set_focus () {\n",
       "        canvas.focus();\n",
       "        canvas_div.focus();\n",
       "    }\n",
       "\n",
       "    window.setTimeout(set_focus, 100);\n",
       "}\n",
       "\n",
       "mpl.figure.prototype._init_toolbar = function() {\n",
       "    var fig = this;\n",
       "\n",
       "    var nav_element = $('<div/>');\n",
       "    nav_element.attr('style', 'width: 100%');\n",
       "    this.root.append(nav_element);\n",
       "\n",
       "    // Define a callback function for later on.\n",
       "    function toolbar_event(event) {\n",
       "        return fig.toolbar_button_onclick(event['data']);\n",
       "    }\n",
       "    function toolbar_mouse_event(event) {\n",
       "        return fig.toolbar_button_onmouseover(event['data']);\n",
       "    }\n",
       "\n",
       "    for(var toolbar_ind in mpl.toolbar_items) {\n",
       "        var name = mpl.toolbar_items[toolbar_ind][0];\n",
       "        var tooltip = mpl.toolbar_items[toolbar_ind][1];\n",
       "        var image = mpl.toolbar_items[toolbar_ind][2];\n",
       "        var method_name = mpl.toolbar_items[toolbar_ind][3];\n",
       "\n",
       "        if (!name) {\n",
       "            // put a spacer in here.\n",
       "            continue;\n",
       "        }\n",
       "        var button = $('<button/>');\n",
       "        button.addClass('ui-button ui-widget ui-state-default ui-corner-all ' +\n",
       "                        'ui-button-icon-only');\n",
       "        button.attr('role', 'button');\n",
       "        button.attr('aria-disabled', 'false');\n",
       "        button.click(method_name, toolbar_event);\n",
       "        button.mouseover(tooltip, toolbar_mouse_event);\n",
       "\n",
       "        var icon_img = $('<span/>');\n",
       "        icon_img.addClass('ui-button-icon-primary ui-icon');\n",
       "        icon_img.addClass(image);\n",
       "        icon_img.addClass('ui-corner-all');\n",
       "\n",
       "        var tooltip_span = $('<span/>');\n",
       "        tooltip_span.addClass('ui-button-text');\n",
       "        tooltip_span.html(tooltip);\n",
       "\n",
       "        button.append(icon_img);\n",
       "        button.append(tooltip_span);\n",
       "\n",
       "        nav_element.append(button);\n",
       "    }\n",
       "\n",
       "    var fmt_picker_span = $('<span/>');\n",
       "\n",
       "    var fmt_picker = $('<select/>');\n",
       "    fmt_picker.addClass('mpl-toolbar-option ui-widget ui-widget-content');\n",
       "    fmt_picker_span.append(fmt_picker);\n",
       "    nav_element.append(fmt_picker_span);\n",
       "    this.format_dropdown = fmt_picker[0];\n",
       "\n",
       "    for (var ind in mpl.extensions) {\n",
       "        var fmt = mpl.extensions[ind];\n",
       "        var option = $(\n",
       "            '<option/>', {selected: fmt === mpl.default_extension}).html(fmt);\n",
       "        fmt_picker.append(option);\n",
       "    }\n",
       "\n",
       "    // Add hover states to the ui-buttons\n",
       "    $( \".ui-button\" ).hover(\n",
       "        function() { $(this).addClass(\"ui-state-hover\");},\n",
       "        function() { $(this).removeClass(\"ui-state-hover\");}\n",
       "    );\n",
       "\n",
       "    var status_bar = $('<span class=\"mpl-message\"/>');\n",
       "    nav_element.append(status_bar);\n",
       "    this.message = status_bar[0];\n",
       "}\n",
       "\n",
       "mpl.figure.prototype.request_resize = function(x_pixels, y_pixels) {\n",
       "    // Request matplotlib to resize the figure. Matplotlib will then trigger a resize in the client,\n",
       "    // which will in turn request a refresh of the image.\n",
       "    this.send_message('resize', {'width': x_pixels, 'height': y_pixels});\n",
       "}\n",
       "\n",
       "mpl.figure.prototype.send_message = function(type, properties) {\n",
       "    properties['type'] = type;\n",
       "    properties['figure_id'] = this.id;\n",
       "    this.ws.send(JSON.stringify(properties));\n",
       "}\n",
       "\n",
       "mpl.figure.prototype.send_draw_message = function() {\n",
       "    if (!this.waiting) {\n",
       "        this.waiting = true;\n",
       "        this.ws.send(JSON.stringify({type: \"draw\", figure_id: this.id}));\n",
       "    }\n",
       "}\n",
       "\n",
       "\n",
       "mpl.figure.prototype.handle_save = function(fig, msg) {\n",
       "    var format_dropdown = fig.format_dropdown;\n",
       "    var format = format_dropdown.options[format_dropdown.selectedIndex].value;\n",
       "    fig.ondownload(fig, format);\n",
       "}\n",
       "\n",
       "\n",
       "mpl.figure.prototype.handle_resize = function(fig, msg) {\n",
       "    var size = msg['size'];\n",
       "    if (size[0] != fig.canvas.width || size[1] != fig.canvas.height) {\n",
       "        fig._resize_canvas(size[0], size[1]);\n",
       "        fig.send_message(\"refresh\", {});\n",
       "    };\n",
       "}\n",
       "\n",
       "mpl.figure.prototype.handle_rubberband = function(fig, msg) {\n",
       "    var x0 = msg['x0'] / mpl.ratio;\n",
       "    var y0 = (fig.canvas.height - msg['y0']) / mpl.ratio;\n",
       "    var x1 = msg['x1'] / mpl.ratio;\n",
       "    var y1 = (fig.canvas.height - msg['y1']) / mpl.ratio;\n",
       "    x0 = Math.floor(x0) + 0.5;\n",
       "    y0 = Math.floor(y0) + 0.5;\n",
       "    x1 = Math.floor(x1) + 0.5;\n",
       "    y1 = Math.floor(y1) + 0.5;\n",
       "    var min_x = Math.min(x0, x1);\n",
       "    var min_y = Math.min(y0, y1);\n",
       "    var width = Math.abs(x1 - x0);\n",
       "    var height = Math.abs(y1 - y0);\n",
       "\n",
       "    fig.rubberband_context.clearRect(\n",
       "        0, 0, fig.canvas.width / mpl.ratio, fig.canvas.height / mpl.ratio);\n",
       "\n",
       "    fig.rubberband_context.strokeRect(min_x, min_y, width, height);\n",
       "}\n",
       "\n",
       "mpl.figure.prototype.handle_figure_label = function(fig, msg) {\n",
       "    // Updates the figure title.\n",
       "    fig.header.textContent = msg['label'];\n",
       "}\n",
       "\n",
       "mpl.figure.prototype.handle_cursor = function(fig, msg) {\n",
       "    var cursor = msg['cursor'];\n",
       "    switch(cursor)\n",
       "    {\n",
       "    case 0:\n",
       "        cursor = 'pointer';\n",
       "        break;\n",
       "    case 1:\n",
       "        cursor = 'default';\n",
       "        break;\n",
       "    case 2:\n",
       "        cursor = 'crosshair';\n",
       "        break;\n",
       "    case 3:\n",
       "        cursor = 'move';\n",
       "        break;\n",
       "    }\n",
       "    fig.rubberband_canvas.style.cursor = cursor;\n",
       "}\n",
       "\n",
       "mpl.figure.prototype.handle_message = function(fig, msg) {\n",
       "    fig.message.textContent = msg['message'];\n",
       "}\n",
       "\n",
       "mpl.figure.prototype.handle_draw = function(fig, msg) {\n",
       "    // Request the server to send over a new figure.\n",
       "    fig.send_draw_message();\n",
       "}\n",
       "\n",
       "mpl.figure.prototype.handle_image_mode = function(fig, msg) {\n",
       "    fig.image_mode = msg['mode'];\n",
       "}\n",
       "\n",
       "mpl.figure.prototype.updated_canvas_event = function() {\n",
       "    // Called whenever the canvas gets updated.\n",
       "    this.send_message(\"ack\", {});\n",
       "}\n",
       "\n",
       "// A function to construct a web socket function for onmessage handling.\n",
       "// Called in the figure constructor.\n",
       "mpl.figure.prototype._make_on_message_function = function(fig) {\n",
       "    return function socket_on_message(evt) {\n",
       "        if (evt.data instanceof Blob) {\n",
       "            /* FIXME: We get \"Resource interpreted as Image but\n",
       "             * transferred with MIME type text/plain:\" errors on\n",
       "             * Chrome.  But how to set the MIME type?  It doesn't seem\n",
       "             * to be part of the websocket stream */\n",
       "            evt.data.type = \"image/png\";\n",
       "\n",
       "            /* Free the memory for the previous frames */\n",
       "            if (fig.imageObj.src) {\n",
       "                (window.URL || window.webkitURL).revokeObjectURL(\n",
       "                    fig.imageObj.src);\n",
       "            }\n",
       "\n",
       "            fig.imageObj.src = (window.URL || window.webkitURL).createObjectURL(\n",
       "                evt.data);\n",
       "            fig.updated_canvas_event();\n",
       "            fig.waiting = false;\n",
       "            return;\n",
       "        }\n",
       "        else if (typeof evt.data === 'string' && evt.data.slice(0, 21) == \"data:image/png;base64\") {\n",
       "            fig.imageObj.src = evt.data;\n",
       "            fig.updated_canvas_event();\n",
       "            fig.waiting = false;\n",
       "            return;\n",
       "        }\n",
       "\n",
       "        var msg = JSON.parse(evt.data);\n",
       "        var msg_type = msg['type'];\n",
       "\n",
       "        // Call the  \"handle_{type}\" callback, which takes\n",
       "        // the figure and JSON message as its only arguments.\n",
       "        try {\n",
       "            var callback = fig[\"handle_\" + msg_type];\n",
       "        } catch (e) {\n",
       "            console.log(\"No handler for the '\" + msg_type + \"' message type: \", msg);\n",
       "            return;\n",
       "        }\n",
       "\n",
       "        if (callback) {\n",
       "            try {\n",
       "                // console.log(\"Handling '\" + msg_type + \"' message: \", msg);\n",
       "                callback(fig, msg);\n",
       "            } catch (e) {\n",
       "                console.log(\"Exception inside the 'handler_\" + msg_type + \"' callback:\", e, e.stack, msg);\n",
       "            }\n",
       "        }\n",
       "    };\n",
       "}\n",
       "\n",
       "// from http://stackoverflow.com/questions/1114465/getting-mouse-location-in-canvas\n",
       "mpl.findpos = function(e) {\n",
       "    //this section is from http://www.quirksmode.org/js/events_properties.html\n",
       "    var targ;\n",
       "    if (!e)\n",
       "        e = window.event;\n",
       "    if (e.target)\n",
       "        targ = e.target;\n",
       "    else if (e.srcElement)\n",
       "        targ = e.srcElement;\n",
       "    if (targ.nodeType == 3) // defeat Safari bug\n",
       "        targ = targ.parentNode;\n",
       "\n",
       "    // jQuery normalizes the pageX and pageY\n",
       "    // pageX,Y are the mouse positions relative to the document\n",
       "    // offset() returns the position of the element relative to the document\n",
       "    var x = e.pageX - $(targ).offset().left;\n",
       "    var y = e.pageY - $(targ).offset().top;\n",
       "\n",
       "    return {\"x\": x, \"y\": y};\n",
       "};\n",
       "\n",
       "/*\n",
       " * return a copy of an object with only non-object keys\n",
       " * we need this to avoid circular references\n",
       " * http://stackoverflow.com/a/24161582/3208463\n",
       " */\n",
       "function simpleKeys (original) {\n",
       "  return Object.keys(original).reduce(function (obj, key) {\n",
       "    if (typeof original[key] !== 'object')\n",
       "        obj[key] = original[key]\n",
       "    return obj;\n",
       "  }, {});\n",
       "}\n",
       "\n",
       "mpl.figure.prototype.mouse_event = function(event, name) {\n",
       "    var canvas_pos = mpl.findpos(event)\n",
       "\n",
       "    if (name === 'button_press')\n",
       "    {\n",
       "        this.canvas.focus();\n",
       "        this.canvas_div.focus();\n",
       "    }\n",
       "\n",
       "    var x = canvas_pos.x * mpl.ratio;\n",
       "    var y = canvas_pos.y * mpl.ratio;\n",
       "\n",
       "    this.send_message(name, {x: x, y: y, button: event.button,\n",
       "                             step: event.step,\n",
       "                             guiEvent: simpleKeys(event)});\n",
       "\n",
       "    /* This prevents the web browser from automatically changing to\n",
       "     * the text insertion cursor when the button is pressed.  We want\n",
       "     * to control all of the cursor setting manually through the\n",
       "     * 'cursor' event from matplotlib */\n",
       "    event.preventDefault();\n",
       "    return false;\n",
       "}\n",
       "\n",
       "mpl.figure.prototype._key_event_extra = function(event, name) {\n",
       "    // Handle any extra behaviour associated with a key event\n",
       "}\n",
       "\n",
       "mpl.figure.prototype.key_event = function(event, name) {\n",
       "\n",
       "    // Prevent repeat events\n",
       "    if (name == 'key_press')\n",
       "    {\n",
       "        if (event.which === this._key)\n",
       "            return;\n",
       "        else\n",
       "            this._key = event.which;\n",
       "    }\n",
       "    if (name == 'key_release')\n",
       "        this._key = null;\n",
       "\n",
       "    var value = '';\n",
       "    if (event.ctrlKey && event.which != 17)\n",
       "        value += \"ctrl+\";\n",
       "    if (event.altKey && event.which != 18)\n",
       "        value += \"alt+\";\n",
       "    if (event.shiftKey && event.which != 16)\n",
       "        value += \"shift+\";\n",
       "\n",
       "    value += 'k';\n",
       "    value += event.which.toString();\n",
       "\n",
       "    this._key_event_extra(event, name);\n",
       "\n",
       "    this.send_message(name, {key: value,\n",
       "                             guiEvent: simpleKeys(event)});\n",
       "    return false;\n",
       "}\n",
       "\n",
       "mpl.figure.prototype.toolbar_button_onclick = function(name) {\n",
       "    if (name == 'download') {\n",
       "        this.handle_save(this, null);\n",
       "    } else {\n",
       "        this.send_message(\"toolbar_button\", {name: name});\n",
       "    }\n",
       "};\n",
       "\n",
       "mpl.figure.prototype.toolbar_button_onmouseover = function(tooltip) {\n",
       "    this.message.textContent = tooltip;\n",
       "};\n",
       "mpl.toolbar_items = [[\"Home\", \"Reset original view\", \"fa fa-home icon-home\", \"home\"], [\"Back\", \"Back to previous view\", \"fa fa-arrow-left icon-arrow-left\", \"back\"], [\"Forward\", \"Forward to next view\", \"fa fa-arrow-right icon-arrow-right\", \"forward\"], [\"\", \"\", \"\", \"\"], [\"Pan\", \"Pan axes with left mouse, zoom with right\", \"fa fa-arrows icon-move\", \"pan\"], [\"Zoom\", \"Zoom to rectangle\", \"fa fa-square-o icon-check-empty\", \"zoom\"], [\"\", \"\", \"\", \"\"], [\"Download\", \"Download plot\", \"fa fa-floppy-o icon-save\", \"download\"]];\n",
       "\n",
       "mpl.extensions = [\"eps\", \"jpeg\", \"pdf\", \"png\", \"ps\", \"raw\", \"svg\", \"tif\"];\n",
       "\n",
       "mpl.default_extension = \"png\";var comm_websocket_adapter = function(comm) {\n",
       "    // Create a \"websocket\"-like object which calls the given IPython comm\n",
       "    // object with the appropriate methods. Currently this is a non binary\n",
       "    // socket, so there is still some room for performance tuning.\n",
       "    var ws = {};\n",
       "\n",
       "    ws.close = function() {\n",
       "        comm.close()\n",
       "    };\n",
       "    ws.send = function(m) {\n",
       "        //console.log('sending', m);\n",
       "        comm.send(m);\n",
       "    };\n",
       "    // Register the callback with on_msg.\n",
       "    comm.on_msg(function(msg) {\n",
       "        //console.log('receiving', msg['content']['data'], msg);\n",
       "        // Pass the mpl event to the overridden (by mpl) onmessage function.\n",
       "        ws.onmessage(msg['content']['data'])\n",
       "    });\n",
       "    return ws;\n",
       "}\n",
       "\n",
       "mpl.mpl_figure_comm = function(comm, msg) {\n",
       "    // This is the function which gets called when the mpl process\n",
       "    // starts-up an IPython Comm through the \"matplotlib\" channel.\n",
       "\n",
       "    var id = msg.content.data.id;\n",
       "    // Get hold of the div created by the display call when the Comm\n",
       "    // socket was opened in Python.\n",
       "    var element = $(\"#\" + id);\n",
       "    var ws_proxy = comm_websocket_adapter(comm)\n",
       "\n",
       "    function ondownload(figure, format) {\n",
       "        window.open(figure.imageObj.src);\n",
       "    }\n",
       "\n",
       "    var fig = new mpl.figure(id, ws_proxy,\n",
       "                           ondownload,\n",
       "                           element.get(0));\n",
       "\n",
       "    // Call onopen now - mpl needs it, as it is assuming we've passed it a real\n",
       "    // web socket which is closed, not our websocket->open comm proxy.\n",
       "    ws_proxy.onopen();\n",
       "\n",
       "    fig.parent_element = element.get(0);\n",
       "    fig.cell_info = mpl.find_output_cell(\"<div id='\" + id + \"'></div>\");\n",
       "    if (!fig.cell_info) {\n",
       "        console.error(\"Failed to find cell for figure\", id, fig);\n",
       "        return;\n",
       "    }\n",
       "\n",
       "    var output_index = fig.cell_info[2]\n",
       "    var cell = fig.cell_info[0];\n",
       "\n",
       "};\n",
       "\n",
       "mpl.figure.prototype.handle_close = function(fig, msg) {\n",
       "    var width = fig.canvas.width/mpl.ratio\n",
       "    fig.root.unbind('remove')\n",
       "\n",
       "    // Update the output cell to use the data from the current canvas.\n",
       "    fig.push_to_output();\n",
       "    var dataURL = fig.canvas.toDataURL();\n",
       "    // Re-enable the keyboard manager in IPython - without this line, in FF,\n",
       "    // the notebook keyboard shortcuts fail.\n",
       "    IPython.keyboard_manager.enable()\n",
       "    $(fig.parent_element).html('<img src=\"' + dataURL + '\" width=\"' + width + '\">');\n",
       "    fig.close_ws(fig, msg);\n",
       "}\n",
       "\n",
       "mpl.figure.prototype.close_ws = function(fig, msg){\n",
       "    fig.send_message('closing', msg);\n",
       "    // fig.ws.close()\n",
       "}\n",
       "\n",
       "mpl.figure.prototype.push_to_output = function(remove_interactive) {\n",
       "    // Turn the data on the canvas into data in the output cell.\n",
       "    var width = this.canvas.width/mpl.ratio\n",
       "    var dataURL = this.canvas.toDataURL();\n",
       "    this.cell_info[1]['text/html'] = '<img src=\"' + dataURL + '\" width=\"' + width + '\">';\n",
       "}\n",
       "\n",
       "mpl.figure.prototype.updated_canvas_event = function() {\n",
       "    // Tell IPython that the notebook contents must change.\n",
       "    IPython.notebook.set_dirty(true);\n",
       "    this.send_message(\"ack\", {});\n",
       "    var fig = this;\n",
       "    // Wait a second, then push the new image to the DOM so\n",
       "    // that it is saved nicely (might be nice to debounce this).\n",
       "    setTimeout(function () { fig.push_to_output() }, 1000);\n",
       "}\n",
       "\n",
       "mpl.figure.prototype._init_toolbar = function() {\n",
       "    var fig = this;\n",
       "\n",
       "    var nav_element = $('<div/>');\n",
       "    nav_element.attr('style', 'width: 100%');\n",
       "    this.root.append(nav_element);\n",
       "\n",
       "    // Define a callback function for later on.\n",
       "    function toolbar_event(event) {\n",
       "        return fig.toolbar_button_onclick(event['data']);\n",
       "    }\n",
       "    function toolbar_mouse_event(event) {\n",
       "        return fig.toolbar_button_onmouseover(event['data']);\n",
       "    }\n",
       "\n",
       "    for(var toolbar_ind in mpl.toolbar_items){\n",
       "        var name = mpl.toolbar_items[toolbar_ind][0];\n",
       "        var tooltip = mpl.toolbar_items[toolbar_ind][1];\n",
       "        var image = mpl.toolbar_items[toolbar_ind][2];\n",
       "        var method_name = mpl.toolbar_items[toolbar_ind][3];\n",
       "\n",
       "        if (!name) { continue; };\n",
       "\n",
       "        var button = $('<button class=\"btn btn-default\" href=\"#\" title=\"' + name + '\"><i class=\"fa ' + image + ' fa-lg\"></i></button>');\n",
       "        button.click(method_name, toolbar_event);\n",
       "        button.mouseover(tooltip, toolbar_mouse_event);\n",
       "        nav_element.append(button);\n",
       "    }\n",
       "\n",
       "    // Add the status bar.\n",
       "    var status_bar = $('<span class=\"mpl-message\" style=\"text-align:right; float: right;\"/>');\n",
       "    nav_element.append(status_bar);\n",
       "    this.message = status_bar[0];\n",
       "\n",
       "    // Add the close button to the window.\n",
       "    var buttongrp = $('<div class=\"btn-group inline pull-right\"></div>');\n",
       "    var button = $('<button class=\"btn btn-mini btn-primary\" href=\"#\" title=\"Stop Interaction\"><i class=\"fa fa-power-off icon-remove icon-large\"></i></button>');\n",
       "    button.click(function (evt) { fig.handle_close(fig, {}); } );\n",
       "    button.mouseover('Stop Interaction', toolbar_mouse_event);\n",
       "    buttongrp.append(button);\n",
       "    var titlebar = this.root.find($('.ui-dialog-titlebar'));\n",
       "    titlebar.prepend(buttongrp);\n",
       "}\n",
       "\n",
       "mpl.figure.prototype._root_extra_style = function(el){\n",
       "    var fig = this\n",
       "    el.on(\"remove\", function(){\n",
       "\tfig.close_ws(fig, {});\n",
       "    });\n",
       "}\n",
       "\n",
       "mpl.figure.prototype._canvas_extra_style = function(el){\n",
       "    // this is important to make the div 'focusable\n",
       "    el.attr('tabindex', 0)\n",
       "    // reach out to IPython and tell the keyboard manager to turn it's self\n",
       "    // off when our div gets focus\n",
       "\n",
       "    // location in version 3\n",
       "    if (IPython.notebook.keyboard_manager) {\n",
       "        IPython.notebook.keyboard_manager.register_events(el);\n",
       "    }\n",
       "    else {\n",
       "        // location in version 2\n",
       "        IPython.keyboard_manager.register_events(el);\n",
       "    }\n",
       "\n",
       "}\n",
       "\n",
       "mpl.figure.prototype._key_event_extra = function(event, name) {\n",
       "    var manager = IPython.notebook.keyboard_manager;\n",
       "    if (!manager)\n",
       "        manager = IPython.keyboard_manager;\n",
       "\n",
       "    // Check for shift+enter\n",
       "    if (event.shiftKey && event.which == 13) {\n",
       "        this.canvas_div.blur();\n",
       "        // select the cell after this one\n",
       "        var index = IPython.notebook.find_cell_index(this.cell_info[0]);\n",
       "        IPython.notebook.select(index + 1);\n",
       "    }\n",
       "}\n",
       "\n",
       "mpl.figure.prototype.handle_save = function(fig, msg) {\n",
       "    fig.ondownload(fig, null);\n",
       "}\n",
       "\n",
       "\n",
       "mpl.find_output_cell = function(html_output) {\n",
       "    // Return the cell and output element which can be found *uniquely* in the notebook.\n",
       "    // Note - this is a bit hacky, but it is done because the \"notebook_saving.Notebook\"\n",
       "    // IPython event is triggered only after the cells have been serialised, which for\n",
       "    // our purposes (turning an active figure into a static one), is too late.\n",
       "    var cells = IPython.notebook.get_cells();\n",
       "    var ncells = cells.length;\n",
       "    for (var i=0; i<ncells; i++) {\n",
       "        var cell = cells[i];\n",
       "        if (cell.cell_type === 'code'){\n",
       "            for (var j=0; j<cell.output_area.outputs.length; j++) {\n",
       "                var data = cell.output_area.outputs[j];\n",
       "                if (data.data) {\n",
       "                    // IPython >= 3 moved mimebundle to data attribute of output\n",
       "                    data = data.data;\n",
       "                }\n",
       "                if (data['text/html'] == html_output) {\n",
       "                    return [cell, data, j];\n",
       "                }\n",
       "            }\n",
       "        }\n",
       "    }\n",
       "}\n",
       "\n",
       "// Register the function which deals with the matplotlib target/channel.\n",
       "// The kernel may be null if the page has been refreshed.\n",
       "if (IPython.notebook.kernel != null) {\n",
       "    IPython.notebook.kernel.comm_manager.register_target('matplotlib', mpl.mpl_figure_comm);\n",
       "}\n"
      ],
      "text/plain": [
       "<IPython.core.display.Javascript object>"
      ]
     },
     "metadata": {},
     "output_type": "display_data"
    },
    {
     "data": {
      "text/html": [
       "<img src=\"data:image/png;base64,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\" width=\"999.75\">"
      ],
      "text/plain": [
       "<IPython.core.display.HTML object>"
      ]
     },
     "metadata": {},
     "output_type": "display_data"
    }
   ],
   "source": [
    "ax, tax, lax, lines = dual_train_plots()\n",
    "fig = ax.figure\n",
    "plt.tight_layout()"
   ]
  },
  {
   "cell_type": "code",
   "execution_count": 15,
   "metadata": {
    "scrolled": false
   },
   "outputs": [
    {
     "name": "stdout",
     "output_type": "stream",
     "text": [
      "Number of batches: train = 2032, val = 144\n"
     ]
    },
    {
     "data": {
      "application/vnd.jupyter.widget-view+json": {
       "model_id": "6f76374b5879434da25dc0bf6b788692",
       "version_major": 2,
       "version_minor": 0
      },
      "text/plain": [
       "HBox(children=(FloatProgress(value=0.0, description='Epochs', layout=Layout(flex='2'), max=50.0, style=Progres…"
      ]
     },
     "metadata": {},
     "output_type": "display_data"
    },
    {
     "data": {
      "application/vnd.jupyter.widget-view+json": {
       "model_id": "",
       "version_major": 2,
       "version_minor": 0
      },
      "text/plain": [
       "HBox(children=(FloatProgress(value=0.0, description='Training', layout=Layout(flex='2'), max=2032.0, style=Pro…"
      ]
     },
     "metadata": {},
     "output_type": "display_data"
    },
    {
     "name": "stdout",
     "output_type": "stream",
     "text": [
      "x0 =  tensor([[9.1305e-32, 9.0908e-34, 7.4374e-36,  ..., 1.8294e-27, 9.8852e-28,\n",
      "         2.7093e-25],\n",
      "        [1.0269e-25, 9.0159e-32, 3.6580e-40,  ..., 6.2546e-24, 1.8802e-22,\n",
      "         7.0657e-21],\n",
      "        [1.8715e-37, 6.4503e-36, 9.3571e-31,  ..., 6.9612e-21, 1.7597e-25,\n",
      "         5.9086e-26],\n",
      "        ...,\n",
      "        [1.0445e-36, 7.4734e-41, 1.1771e-43,  ..., 1.9374e-20, 1.6844e-12,\n",
      "         4.4162e-18],\n",
      "        [7.6628e-34, 2.7933e-35, 6.2557e-36,  ..., 2.5227e-26, 7.8683e-24,\n",
      "         5.6505e-21],\n",
      "        [5.6767e-42, 2.8026e-45, 0.0000e+00,  ..., 3.3767e-30, 1.6854e-30,\n",
      "         5.4249e-29]], device='cuda:0', grad_fn=<SoftplusBackward>)\n",
      "x1 =  tensor([[ 0.0507,  0.0289,  0.0048,  ..., -0.0717, -0.0427, -0.0165],\n",
      "        [-0.0678, -0.0927, -0.1204,  ..., -0.0102,  0.0131,  0.0276],\n",
      "        [ 0.0973,  0.0982,  0.0990,  ..., -0.0214,  0.0038,  0.0325],\n",
      "        ...,\n",
      "        [ 0.1016,  0.1015,  0.1015,  ...,  0.0525,  0.0689,  0.0768],\n",
      "        [-0.0329, -0.0713, -0.1237,  ..., -0.0698, -0.0418, -0.0137],\n",
      "        [ 0.0366,  0.0207,  0.0009,  ..., -0.0225, -0.0027,  0.0147]],\n",
      "       device='cuda:0', grad_fn=<ViewBackward>)\n",
      "neuronValues =  tensor([[4.6291e-33, 2.6261e-35, 3.5443e-38,  ..., -0.0000e+00, -0.0000e+00,\n",
      "         -0.0000e+00],\n",
      "        [-0.0000e+00, -0.0000e+00, -0.0000e+00,  ..., -0.0000e+00, 2.4628e-24,\n",
      "         1.9472e-22],\n",
      "        [1.8219e-38, 6.3361e-37, 9.2613e-32,  ..., -0.0000e+00, 6.6851e-28,\n",
      "         1.9198e-27],\n",
      "        ...,\n",
      "        [1.0612e-37, 7.5894e-42, 1.2612e-44,  ..., 1.0177e-21, 1.1600e-13,\n",
      "         3.3910e-19],\n",
      "        [-0.0000e+00, -0.0000e+00, -0.0000e+00,  ..., -0.0000e+00, -0.0000e+00,\n",
      "         -0.0000e+00],\n",
      "        [2.0739e-43, 0.0000e+00, 0.0000e+00,  ..., -0.0000e+00, -0.0000e+00,\n",
      "         7.9888e-31]], device='cuda:0', grad_fn=<LeakyReluBackward0>)\n",
      "Epoch 0: train=6.28745, val=5.55905, took 108.62 s\n",
      "  Validation Found 91826 of 93880, added 3526 (eff 97.81%) (0.192 FP/event)\n"
     ]
    },
    {
     "data": {
      "application/vnd.jupyter.widget-view+json": {
       "model_id": "",
       "version_major": 2,
       "version_minor": 0
      },
      "text/plain": [
       "HBox(children=(FloatProgress(value=0.0, description='Training', layout=Layout(flex='2'), max=2032.0, style=Pro…"
      ]
     },
     "metadata": {},
     "output_type": "display_data"
    },
    {
     "name": "stdout",
     "output_type": "stream",
     "text": [
      "Epoch 1: train=6.03811, val=5.49526, took 95.383 s\n",
      "  Validation Found 91848 of 93880, added 3591 (eff 97.84%) (0.196 FP/event)\n"
     ]
    },
    {
     "data": {
      "application/vnd.jupyter.widget-view+json": {
       "model_id": "",
       "version_major": 2,
       "version_minor": 0
      },
      "text/plain": [
       "HBox(children=(FloatProgress(value=0.0, description='Training', layout=Layout(flex='2'), max=2032.0, style=Pro…"
      ]
     },
     "metadata": {},
     "output_type": "display_data"
    },
    {
     "name": "stdout",
     "output_type": "stream",
     "text": [
      "Epoch 2: train=5.99857, val=5.46531, took 94.344 s\n",
      "  Validation Found 91846 of 93880, added 3603 (eff 97.83%) (0.196 FP/event)\n"
     ]
    },
    {
     "data": {
      "application/vnd.jupyter.widget-view+json": {
       "model_id": "",
       "version_major": 2,
       "version_minor": 0
      },
      "text/plain": [
       "HBox(children=(FloatProgress(value=0.0, description='Training', layout=Layout(flex='2'), max=2032.0, style=Pro…"
      ]
     },
     "metadata": {},
     "output_type": "display_data"
    },
    {
     "name": "stdout",
     "output_type": "stream",
     "text": [
      "Epoch 3: train=5.97996, val=5.44717, took 94.954 s\n",
      "  Validation Found 91826 of 93880, added 3548 (eff 97.81%) (0.193 FP/event)\n"
     ]
    },
    {
     "data": {
      "application/vnd.jupyter.widget-view+json": {
       "model_id": "",
       "version_major": 2,
       "version_minor": 0
      },
      "text/plain": [
       "HBox(children=(FloatProgress(value=0.0, description='Training', layout=Layout(flex='2'), max=2032.0, style=Pro…"
      ]
     },
     "metadata": {},
     "output_type": "display_data"
    },
    {
     "name": "stdout",
     "output_type": "stream",
     "text": [
      "Epoch 4: train=5.96544, val=5.43266, took 95.085 s\n",
      "  Validation Found 91840 of 93880, added 3575 (eff 97.83%) (0.195 FP/event)\n"
     ]
    },
    {
     "data": {
      "application/vnd.jupyter.widget-view+json": {
       "model_id": "",
       "version_major": 2,
       "version_minor": 0
      },
      "text/plain": [
       "HBox(children=(FloatProgress(value=0.0, description='Training', layout=Layout(flex='2'), max=2032.0, style=Pro…"
      ]
     },
     "metadata": {},
     "output_type": "display_data"
    },
    {
     "name": "stdout",
     "output_type": "stream",
     "text": [
      "Epoch 5: train=5.95939, val=5.42593, took 95.368 s\n",
      "  Validation Found 91849 of 93880, added 3605 (eff 97.84%) (0.196 FP/event)\n"
     ]
    },
    {
     "data": {
      "application/vnd.jupyter.widget-view+json": {
       "model_id": "",
       "version_major": 2,
       "version_minor": 0
      },
      "text/plain": [
       "HBox(children=(FloatProgress(value=0.0, description='Training', layout=Layout(flex='2'), max=2032.0, style=Pro…"
      ]
     },
     "metadata": {},
     "output_type": "display_data"
    },
    {
     "name": "stdout",
     "output_type": "stream",
     "text": [
      "Epoch 6: train=5.95231, val=5.42053, took 95.47 s\n",
      "  Validation Found 91840 of 93880, added 3583 (eff 97.83%) (0.195 FP/event)\n"
     ]
    },
    {
     "data": {
      "application/vnd.jupyter.widget-view+json": {
       "model_id": "",
       "version_major": 2,
       "version_minor": 0
      },
      "text/plain": [
       "HBox(children=(FloatProgress(value=0.0, description='Training', layout=Layout(flex='2'), max=2032.0, style=Pro…"
      ]
     },
     "metadata": {},
     "output_type": "display_data"
    },
    {
     "name": "stdout",
     "output_type": "stream",
     "text": [
      "Epoch 7: train=5.94851, val=5.41401, took 95.637 s\n",
      "  Validation Found 91835 of 93880, added 3578 (eff 97.82%) (0.195 FP/event)\n"
     ]
    },
    {
     "data": {
      "application/vnd.jupyter.widget-view+json": {
       "model_id": "",
       "version_major": 2,
       "version_minor": 0
      },
      "text/plain": [
       "HBox(children=(FloatProgress(value=0.0, description='Training', layout=Layout(flex='2'), max=2032.0, style=Pro…"
      ]
     },
     "metadata": {},
     "output_type": "display_data"
    },
    {
     "name": "stdout",
     "output_type": "stream",
     "text": [
      "Epoch 8: train=5.9449, val=5.41467, took 95.823 s\n",
      "  Validation Found 91823 of 93880, added 3537 (eff 97.81%) (0.193 FP/event)\n"
     ]
    },
    {
     "data": {
      "application/vnd.jupyter.widget-view+json": {
       "model_id": "",
       "version_major": 2,
       "version_minor": 0
      },
      "text/plain": [
       "HBox(children=(FloatProgress(value=0.0, description='Training', layout=Layout(flex='2'), max=2032.0, style=Pro…"
      ]
     },
     "metadata": {},
     "output_type": "display_data"
    },
    {
     "name": "stdout",
     "output_type": "stream",
     "text": [
      "Epoch 9: train=5.94478, val=5.4075, took 96.146 s\n",
      "  Validation Found 91830 of 93880, added 3565 (eff 97.82%) (0.194 FP/event)\n"
     ]
    },
    {
     "data": {
      "application/vnd.jupyter.widget-view+json": {
       "model_id": "",
       "version_major": 2,
       "version_minor": 0
      },
      "text/plain": [
       "HBox(children=(FloatProgress(value=0.0, description='Training', layout=Layout(flex='2'), max=2032.0, style=Pro…"
      ]
     },
     "metadata": {},
     "output_type": "display_data"
    },
    {
     "name": "stdout",
     "output_type": "stream",
     "text": [
      "Epoch 10: train=5.94283, val=5.40598, took 95.9 s\n",
      "  Validation Found 91835 of 93880, added 3574 (eff 97.82%) (0.195 FP/event)\n"
     ]
    },
    {
     "data": {
      "application/vnd.jupyter.widget-view+json": {
       "model_id": "",
       "version_major": 2,
       "version_minor": 0
      },
      "text/plain": [
       "HBox(children=(FloatProgress(value=0.0, description='Training', layout=Layout(flex='2'), max=2032.0, style=Pro…"
      ]
     },
     "metadata": {},
     "output_type": "display_data"
    },
    {
     "name": "stdout",
     "output_type": "stream",
     "text": [
      "Epoch 11: train=5.93896, val=5.40122, took 95.925 s\n",
      "  Validation Found 91842 of 93880, added 3574 (eff 97.83%) (0.195 FP/event)\n"
     ]
    },
    {
     "data": {
      "application/vnd.jupyter.widget-view+json": {
       "model_id": "",
       "version_major": 2,
       "version_minor": 0
      },
      "text/plain": [
       "HBox(children=(FloatProgress(value=0.0, description='Training', layout=Layout(flex='2'), max=2032.0, style=Pro…"
      ]
     },
     "metadata": {},
     "output_type": "display_data"
    },
    {
     "name": "stdout",
     "output_type": "stream",
     "text": [
      "Epoch 12: train=5.9354, val=5.39865, took 95.774 s\n",
      "  Validation Found 91840 of 93880, added 3584 (eff 97.83%) (0.195 FP/event)\n"
     ]
    },
    {
     "data": {
      "application/vnd.jupyter.widget-view+json": {
       "model_id": "",
       "version_major": 2,
       "version_minor": 0
      },
      "text/plain": [
       "HBox(children=(FloatProgress(value=0.0, description='Training', layout=Layout(flex='2'), max=2032.0, style=Pro…"
      ]
     },
     "metadata": {},
     "output_type": "display_data"
    },
    {
     "name": "stdout",
     "output_type": "stream",
     "text": [
      "Epoch 13: train=5.93717, val=5.40103, took 95.313 s\n",
      "  Validation Found 91842 of 93880, added 3549 (eff 97.83%) (0.193 FP/event)\n"
     ]
    },
    {
     "data": {
      "application/vnd.jupyter.widget-view+json": {
       "model_id": "",
       "version_major": 2,
       "version_minor": 0
      },
      "text/plain": [
       "HBox(children=(FloatProgress(value=0.0, description='Training', layout=Layout(flex='2'), max=2032.0, style=Pro…"
      ]
     },
     "metadata": {},
     "output_type": "display_data"
    },
    {
     "name": "stdout",
     "output_type": "stream",
     "text": [
      "Epoch 14: train=5.93418, val=5.39942, took 95.671 s\n",
      "  Validation Found 91830 of 93880, added 3515 (eff 97.82%) (0.192 FP/event)\n"
     ]
    },
    {
     "data": {
      "application/vnd.jupyter.widget-view+json": {
       "model_id": "",
       "version_major": 2,
       "version_minor": 0
      },
      "text/plain": [
       "HBox(children=(FloatProgress(value=0.0, description='Training', layout=Layout(flex='2'), max=2032.0, style=Pro…"
      ]
     },
     "metadata": {},
     "output_type": "display_data"
    },
    {
     "name": "stdout",
     "output_type": "stream",
     "text": [
      "Epoch 15: train=5.93026, val=5.39184, took 96.517 s\n",
      "  Validation Found 91874 of 93880, added 3606 (eff 97.86%) (0.197 FP/event)\n"
     ]
    },
    {
     "data": {
      "application/vnd.jupyter.widget-view+json": {
       "model_id": "",
       "version_major": 2,
       "version_minor": 0
      },
      "text/plain": [
       "HBox(children=(FloatProgress(value=0.0, description='Training', layout=Layout(flex='2'), max=2032.0, style=Pro…"
      ]
     },
     "metadata": {},
     "output_type": "display_data"
    },
    {
     "name": "stdout",
     "output_type": "stream",
     "text": [
      "Epoch 16: train=5.92973, val=5.39259, took 96.133 s\n",
      "  Validation Found 91850 of 93880, added 3567 (eff 97.84%) (0.194 FP/event)\n"
     ]
    },
    {
     "data": {
      "application/vnd.jupyter.widget-view+json": {
       "model_id": "",
       "version_major": 2,
       "version_minor": 0
      },
      "text/plain": [
       "HBox(children=(FloatProgress(value=0.0, description='Training', layout=Layout(flex='2'), max=2032.0, style=Pro…"
      ]
     },
     "metadata": {},
     "output_type": "display_data"
    },
    {
     "name": "stdout",
     "output_type": "stream",
     "text": [
      "Epoch 17: train=5.9282, val=5.39123, took 95.445 s\n",
      "  Validation Found 91861 of 93880, added 3570 (eff 97.85%) (0.195 FP/event)\n"
     ]
    },
    {
     "data": {
      "application/vnd.jupyter.widget-view+json": {
       "model_id": "",
       "version_major": 2,
       "version_minor": 0
      },
      "text/plain": [
       "HBox(children=(FloatProgress(value=0.0, description='Training', layout=Layout(flex='2'), max=2032.0, style=Pro…"
      ]
     },
     "metadata": {},
     "output_type": "display_data"
    },
    {
     "name": "stdout",
     "output_type": "stream",
     "text": [
      "Epoch 18: train=5.92907, val=5.38728, took 95.631 s\n",
      "  Validation Found 91866 of 93880, added 3588 (eff 97.85%) (0.196 FP/event)\n"
     ]
    },
    {
     "data": {
      "application/vnd.jupyter.widget-view+json": {
       "model_id": "",
       "version_major": 2,
       "version_minor": 0
      },
      "text/plain": [
       "HBox(children=(FloatProgress(value=0.0, description='Training', layout=Layout(flex='2'), max=2032.0, style=Pro…"
      ]
     },
     "metadata": {},
     "output_type": "display_data"
    },
    {
     "name": "stdout",
     "output_type": "stream",
     "text": [
      "Epoch 19: train=5.92854, val=5.3826, took 95.47 s\n",
      "  Validation Found 91874 of 93880, added 3613 (eff 97.86%) (0.197 FP/event)\n"
     ]
    },
    {
     "data": {
      "application/vnd.jupyter.widget-view+json": {
       "model_id": "",
       "version_major": 2,
       "version_minor": 0
      },
      "text/plain": [
       "HBox(children=(FloatProgress(value=0.0, description='Training', layout=Layout(flex='2'), max=2032.0, style=Pro…"
      ]
     },
     "metadata": {},
     "output_type": "display_data"
    },
    {
     "name": "stdout",
     "output_type": "stream",
     "text": [
      "Epoch 20: train=5.92405, val=5.38715, took 95.438 s\n",
      "  Validation Found 91844 of 93880, added 3550 (eff 97.83%) (0.193 FP/event)\n"
     ]
    },
    {
     "data": {
      "application/vnd.jupyter.widget-view+json": {
       "model_id": "",
       "version_major": 2,
       "version_minor": 0
      },
      "text/plain": [
       "HBox(children=(FloatProgress(value=0.0, description='Training', layout=Layout(flex='2'), max=2032.0, style=Pro…"
      ]
     },
     "metadata": {},
     "output_type": "display_data"
    },
    {
     "name": "stdout",
     "output_type": "stream",
     "text": [
      "Epoch 21: train=5.92521, val=5.38712, took 95.431 s\n",
      "  Validation Found 91859 of 93880, added 3556 (eff 97.85%) (0.194 FP/event)\n"
     ]
    },
    {
     "data": {
      "application/vnd.jupyter.widget-view+json": {
       "model_id": "",
       "version_major": 2,
       "version_minor": 0
      },
      "text/plain": [
       "HBox(children=(FloatProgress(value=0.0, description='Training', layout=Layout(flex='2'), max=2032.0, style=Pro…"
      ]
     },
     "metadata": {},
     "output_type": "display_data"
    },
    {
     "name": "stdout",
     "output_type": "stream",
     "text": [
      "Epoch 22: train=5.92472, val=5.38705, took 95.354 s\n",
      "  Validation Found 91849 of 93880, added 3533 (eff 97.84%) (0.193 FP/event)\n"
     ]
    },
    {
     "data": {
      "application/vnd.jupyter.widget-view+json": {
       "model_id": "",
       "version_major": 2,
       "version_minor": 0
      },
      "text/plain": [
       "HBox(children=(FloatProgress(value=0.0, description='Training', layout=Layout(flex='2'), max=2032.0, style=Pro…"
      ]
     },
     "metadata": {},
     "output_type": "display_data"
    },
    {
     "name": "stdout",
     "output_type": "stream",
     "text": [
      "Epoch 23: train=5.9238, val=5.38243, took 95.648 s\n",
      "  Validation Found 91863 of 93880, added 3609 (eff 97.85%) (0.197 FP/event)\n"
     ]
    },
    {
     "data": {
      "application/vnd.jupyter.widget-view+json": {
       "model_id": "",
       "version_major": 2,
       "version_minor": 0
      },
      "text/plain": [
       "HBox(children=(FloatProgress(value=0.0, description='Training', layout=Layout(flex='2'), max=2032.0, style=Pro…"
      ]
     },
     "metadata": {},
     "output_type": "display_data"
    },
    {
     "name": "stdout",
     "output_type": "stream",
     "text": [
      "Epoch 24: train=5.9231, val=5.38617, took 95.575 s\n",
      "  Validation Found 91858 of 93880, added 3534 (eff 97.85%) (0.193 FP/event)\n"
     ]
    },
    {
     "data": {
      "application/vnd.jupyter.widget-view+json": {
       "model_id": "",
       "version_major": 2,
       "version_minor": 0
      },
      "text/plain": [
       "HBox(children=(FloatProgress(value=0.0, description='Training', layout=Layout(flex='2'), max=2032.0, style=Pro…"
      ]
     },
     "metadata": {},
     "output_type": "display_data"
    },
    {
     "name": "stdout",
     "output_type": "stream",
     "text": [
      "Epoch 25: train=5.92406, val=5.38514, took 95.498 s\n",
      "  Validation Found 91858 of 93880, added 3549 (eff 97.85%) (0.193 FP/event)\n"
     ]
    },
    {
     "data": {
      "application/vnd.jupyter.widget-view+json": {
       "model_id": "",
       "version_major": 2,
       "version_minor": 0
      },
      "text/plain": [
       "HBox(children=(FloatProgress(value=0.0, description='Training', layout=Layout(flex='2'), max=2032.0, style=Pro…"
      ]
     },
     "metadata": {},
     "output_type": "display_data"
    },
    {
     "name": "stdout",
     "output_type": "stream",
     "text": [
      "Epoch 26: train=5.92763, val=5.38368, took 95.461 s\n",
      "  Validation Found 91855 of 93880, added 3538 (eff 97.84%) (0.193 FP/event)\n"
     ]
    },
    {
     "data": {
      "application/vnd.jupyter.widget-view+json": {
       "model_id": "",
       "version_major": 2,
       "version_minor": 0
      },
      "text/plain": [
       "HBox(children=(FloatProgress(value=0.0, description='Training', layout=Layout(flex='2'), max=2032.0, style=Pro…"
      ]
     },
     "metadata": {},
     "output_type": "display_data"
    },
    {
     "name": "stdout",
     "output_type": "stream",
     "text": [
      "Epoch 27: train=5.91788, val=5.38229, took 95.434 s\n",
      "  Validation Found 91853 of 93880, added 3541 (eff 97.84%) (0.193 FP/event)\n"
     ]
    },
    {
     "data": {
      "application/vnd.jupyter.widget-view+json": {
       "model_id": "",
       "version_major": 2,
       "version_minor": 0
      },
      "text/plain": [
       "HBox(children=(FloatProgress(value=0.0, description='Training', layout=Layout(flex='2'), max=2032.0, style=Pro…"
      ]
     },
     "metadata": {},
     "output_type": "display_data"
    },
    {
     "name": "stdout",
     "output_type": "stream",
     "text": [
      "Epoch 28: train=5.92377, val=5.3842, took 95.263 s\n",
      "  Validation Found 91850 of 93880, added 3544 (eff 97.84%) (0.193 FP/event)\n"
     ]
    },
    {
     "data": {
      "application/vnd.jupyter.widget-view+json": {
       "model_id": "",
       "version_major": 2,
       "version_minor": 0
      },
      "text/plain": [
       "HBox(children=(FloatProgress(value=0.0, description='Training', layout=Layout(flex='2'), max=2032.0, style=Pro…"
      ]
     },
     "metadata": {},
     "output_type": "display_data"
    },
    {
     "name": "stdout",
     "output_type": "stream",
     "text": [
      "Epoch 29: train=5.9203, val=5.38224, took 95.638 s\n",
      "  Validation Found 91843 of 93880, added 3516 (eff 97.83%) (0.192 FP/event)\n"
     ]
    },
    {
     "data": {
      "application/vnd.jupyter.widget-view+json": {
       "model_id": "",
       "version_major": 2,
       "version_minor": 0
      },
      "text/plain": [
       "HBox(children=(FloatProgress(value=0.0, description='Training', layout=Layout(flex='2'), max=2032.0, style=Pro…"
      ]
     },
     "metadata": {},
     "output_type": "display_data"
    },
    {
     "name": "stdout",
     "output_type": "stream",
     "text": [
      "Epoch 30: train=5.92278, val=5.38364, took 95.519 s\n",
      "  Validation Found 91841 of 93880, added 3529 (eff 97.83%) (0.192 FP/event)\n"
     ]
    },
    {
     "data": {
      "application/vnd.jupyter.widget-view+json": {
       "model_id": "",
       "version_major": 2,
       "version_minor": 0
      },
      "text/plain": [
       "HBox(children=(FloatProgress(value=0.0, description='Training', layout=Layout(flex='2'), max=2032.0, style=Pro…"
      ]
     },
     "metadata": {},
     "output_type": "display_data"
    },
    {
     "name": "stdout",
     "output_type": "stream",
     "text": [
      "Epoch 31: train=5.91732, val=5.38614, took 95.638 s\n",
      "  Validation Found 91832 of 93880, added 3506 (eff 97.82%) (0.191 FP/event)\n"
     ]
    },
    {
     "data": {
      "application/vnd.jupyter.widget-view+json": {
       "model_id": "",
       "version_major": 2,
       "version_minor": 0
      },
      "text/plain": [
       "HBox(children=(FloatProgress(value=0.0, description='Training', layout=Layout(flex='2'), max=2032.0, style=Pro…"
      ]
     },
     "metadata": {},
     "output_type": "display_data"
    },
    {
     "name": "stdout",
     "output_type": "stream",
     "text": [
      "Epoch 32: train=5.91612, val=5.38303, took 95.694 s\n",
      "  Validation Found 91833 of 93880, added 3510 (eff 97.82%) (0.191 FP/event)\n"
     ]
    },
    {
     "data": {
      "application/vnd.jupyter.widget-view+json": {
       "model_id": "",
       "version_major": 2,
       "version_minor": 0
      },
      "text/plain": [
       "HBox(children=(FloatProgress(value=0.0, description='Training', layout=Layout(flex='2'), max=2032.0, style=Pro…"
      ]
     },
     "metadata": {},
     "output_type": "display_data"
    },
    {
     "name": "stdout",
     "output_type": "stream",
     "text": [
      "Epoch 33: train=5.92018, val=5.37604, took 95.329 s\n",
      "  Validation Found 91859 of 93880, added 3580 (eff 97.85%) (0.195 FP/event)\n"
     ]
    },
    {
     "data": {
      "application/vnd.jupyter.widget-view+json": {
       "model_id": "",
       "version_major": 2,
       "version_minor": 0
      },
      "text/plain": [
       "HBox(children=(FloatProgress(value=0.0, description='Training', layout=Layout(flex='2'), max=2032.0, style=Pro…"
      ]
     },
     "metadata": {},
     "output_type": "display_data"
    },
    {
     "name": "stdout",
     "output_type": "stream",
     "text": [
      "Epoch 34: train=5.92055, val=5.378, took 95.513 s\n",
      "  Validation Found 91856 of 93880, added 3563 (eff 97.84%) (0.194 FP/event)\n"
     ]
    },
    {
     "data": {
      "application/vnd.jupyter.widget-view+json": {
       "model_id": "",
       "version_major": 2,
       "version_minor": 0
      },
      "text/plain": [
       "HBox(children=(FloatProgress(value=0.0, description='Training', layout=Layout(flex='2'), max=2032.0, style=Pro…"
      ]
     },
     "metadata": {},
     "output_type": "display_data"
    },
    {
     "name": "stdout",
     "output_type": "stream",
     "text": [
      "Epoch 35: train=5.91705, val=5.37897, took 95.468 s\n",
      "  Validation Found 91853 of 93880, added 3567 (eff 97.84%) (0.194 FP/event)\n"
     ]
    },
    {
     "data": {
      "application/vnd.jupyter.widget-view+json": {
       "model_id": "",
       "version_major": 2,
       "version_minor": 0
      },
      "text/plain": [
       "HBox(children=(FloatProgress(value=0.0, description='Training', layout=Layout(flex='2'), max=2032.0, style=Pro…"
      ]
     },
     "metadata": {},
     "output_type": "display_data"
    },
    {
     "name": "stdout",
     "output_type": "stream",
     "text": [
      "Epoch 36: train=5.91785, val=5.37855, took 95.415 s\n",
      "  Validation Found 91843 of 93880, added 3563 (eff 97.83%) (0.194 FP/event)\n"
     ]
    },
    {
     "data": {
      "application/vnd.jupyter.widget-view+json": {
       "model_id": "",
       "version_major": 2,
       "version_minor": 0
      },
      "text/plain": [
       "HBox(children=(FloatProgress(value=0.0, description='Training', layout=Layout(flex='2'), max=2032.0, style=Pro…"
      ]
     },
     "metadata": {},
     "output_type": "display_data"
    },
    {
     "name": "stdout",
     "output_type": "stream",
     "text": [
      "Epoch 37: train=5.91856, val=5.37934, took 95.706 s\n",
      "  Validation Found 91855 of 93880, added 3572 (eff 97.84%) (0.195 FP/event)\n"
     ]
    },
    {
     "data": {
      "application/vnd.jupyter.widget-view+json": {
       "model_id": "",
       "version_major": 2,
       "version_minor": 0
      },
      "text/plain": [
       "HBox(children=(FloatProgress(value=0.0, description='Training', layout=Layout(flex='2'), max=2032.0, style=Pro…"
      ]
     },
     "metadata": {},
     "output_type": "display_data"
    },
    {
     "name": "stdout",
     "output_type": "stream",
     "text": [
      "Epoch 38: train=5.9131, val=5.3765, took 96.129 s\n",
      "  Validation Found 91845 of 93880, added 3551 (eff 97.83%) (0.194 FP/event)\n"
     ]
    },
    {
     "data": {
      "application/vnd.jupyter.widget-view+json": {
       "model_id": "",
       "version_major": 2,
       "version_minor": 0
      },
      "text/plain": [
       "HBox(children=(FloatProgress(value=0.0, description='Training', layout=Layout(flex='2'), max=2032.0, style=Pro…"
      ]
     },
     "metadata": {},
     "output_type": "display_data"
    },
    {
     "name": "stdout",
     "output_type": "stream",
     "text": [
      "Epoch 39: train=5.91633, val=5.3796, took 95.827 s\n",
      "  Validation Found 91841 of 93880, added 3551 (eff 97.83%) (0.194 FP/event)\n"
     ]
    },
    {
     "data": {
      "application/vnd.jupyter.widget-view+json": {
       "model_id": "",
       "version_major": 2,
       "version_minor": 0
      },
      "text/plain": [
       "HBox(children=(FloatProgress(value=0.0, description='Training', layout=Layout(flex='2'), max=2032.0, style=Pro…"
      ]
     },
     "metadata": {},
     "output_type": "display_data"
    },
    {
     "name": "stdout",
     "output_type": "stream",
     "text": [
      "Epoch 40: train=5.91528, val=5.38047, took 95.876 s\n",
      "  Validation Found 91845 of 93880, added 3531 (eff 97.83%) (0.192 FP/event)\n"
     ]
    },
    {
     "data": {
      "application/vnd.jupyter.widget-view+json": {
       "model_id": "",
       "version_major": 2,
       "version_minor": 0
      },
      "text/plain": [
       "HBox(children=(FloatProgress(value=0.0, description='Training', layout=Layout(flex='2'), max=2032.0, style=Pro…"
      ]
     },
     "metadata": {},
     "output_type": "display_data"
    },
    {
     "name": "stdout",
     "output_type": "stream",
     "text": [
      "Epoch 41: train=5.91362, val=5.37476, took 95.659 s\n",
      "  Validation Found 91858 of 93880, added 3588 (eff 97.85%) (0.196 FP/event)\n"
     ]
    },
    {
     "data": {
      "application/vnd.jupyter.widget-view+json": {
       "model_id": "",
       "version_major": 2,
       "version_minor": 0
      },
      "text/plain": [
       "HBox(children=(FloatProgress(value=0.0, description='Training', layout=Layout(flex='2'), max=2032.0, style=Pro…"
      ]
     },
     "metadata": {},
     "output_type": "display_data"
    },
    {
     "name": "stdout",
     "output_type": "stream",
     "text": [
      "Epoch 42: train=5.91344, val=5.37566, took 95.342 s\n",
      "  Validation Found 91846 of 93880, added 3561 (eff 97.83%) (0.194 FP/event)\n"
     ]
    },
    {
     "data": {
      "application/vnd.jupyter.widget-view+json": {
       "model_id": "",
       "version_major": 2,
       "version_minor": 0
      },
      "text/plain": [
       "HBox(children=(FloatProgress(value=0.0, description='Training', layout=Layout(flex='2'), max=2032.0, style=Pro…"
      ]
     },
     "metadata": {},
     "output_type": "display_data"
    },
    {
     "name": "stdout",
     "output_type": "stream",
     "text": [
      "Epoch 43: train=5.91134, val=5.37502, took 95.67 s\n",
      "  Validation Found 91846 of 93880, added 3533 (eff 97.83%) (0.193 FP/event)\n"
     ]
    },
    {
     "data": {
      "application/vnd.jupyter.widget-view+json": {
       "model_id": "",
       "version_major": 2,
       "version_minor": 0
      },
      "text/plain": [
       "HBox(children=(FloatProgress(value=0.0, description='Training', layout=Layout(flex='2'), max=2032.0, style=Pro…"
      ]
     },
     "metadata": {},
     "output_type": "display_data"
    },
    {
     "name": "stdout",
     "output_type": "stream",
     "text": [
      "Epoch 44: train=5.91476, val=5.37532, took 95.587 s\n",
      "  Validation Found 91851 of 93880, added 3575 (eff 97.84%) (0.195 FP/event)\n"
     ]
    },
    {
     "data": {
      "application/vnd.jupyter.widget-view+json": {
       "model_id": "",
       "version_major": 2,
       "version_minor": 0
      },
      "text/plain": [
       "HBox(children=(FloatProgress(value=0.0, description='Training', layout=Layout(flex='2'), max=2032.0, style=Pro…"
      ]
     },
     "metadata": {},
     "output_type": "display_data"
    },
    {
     "name": "stdout",
     "output_type": "stream",
     "text": [
      "Epoch 45: train=5.91439, val=5.37356, took 95.533 s\n",
      "  Validation Found 91852 of 93880, added 3590 (eff 97.84%) (0.196 FP/event)\n"
     ]
    },
    {
     "data": {
      "application/vnd.jupyter.widget-view+json": {
       "model_id": "",
       "version_major": 2,
       "version_minor": 0
      },
      "text/plain": [
       "HBox(children=(FloatProgress(value=0.0, description='Training', layout=Layout(flex='2'), max=2032.0, style=Pro…"
      ]
     },
     "metadata": {},
     "output_type": "display_data"
    },
    {
     "name": "stdout",
     "output_type": "stream",
     "text": [
      "Epoch 46: train=5.91274, val=5.37383, took 95.639 s\n",
      "  Validation Found 91861 of 93880, added 3594 (eff 97.85%) (0.196 FP/event)\n"
     ]
    },
    {
     "data": {
      "application/vnd.jupyter.widget-view+json": {
       "model_id": "",
       "version_major": 2,
       "version_minor": 0
      },
      "text/plain": [
       "HBox(children=(FloatProgress(value=0.0, description='Training', layout=Layout(flex='2'), max=2032.0, style=Pro…"
      ]
     },
     "metadata": {},
     "output_type": "display_data"
    },
    {
     "name": "stdout",
     "output_type": "stream",
     "text": [
      "Epoch 47: train=5.91506, val=5.37631, took 95.512 s\n",
      "  Validation Found 91843 of 93880, added 3540 (eff 97.83%) (0.193 FP/event)\n"
     ]
    },
    {
     "data": {
      "application/vnd.jupyter.widget-view+json": {
       "model_id": "",
       "version_major": 2,
       "version_minor": 0
      },
      "text/plain": [
       "HBox(children=(FloatProgress(value=0.0, description='Training', layout=Layout(flex='2'), max=2032.0, style=Pro…"
      ]
     },
     "metadata": {},
     "output_type": "display_data"
    },
    {
     "name": "stdout",
     "output_type": "stream",
     "text": [
      "Epoch 48: train=5.9123, val=5.37355, took 95.606 s\n",
      "  Validation Found 91853 of 93880, added 3560 (eff 97.84%) (0.194 FP/event)\n"
     ]
    },
    {
     "data": {
      "application/vnd.jupyter.widget-view+json": {
       "model_id": "",
       "version_major": 2,
       "version_minor": 0
      },
      "text/plain": [
       "HBox(children=(FloatProgress(value=0.0, description='Training', layout=Layout(flex='2'), max=2032.0, style=Pro…"
      ]
     },
     "metadata": {},
     "output_type": "display_data"
    },
    {
     "name": "stdout",
     "output_type": "stream",
     "text": [
      "Epoch 49: train=5.91251, val=5.37539, took 95.308 s\n",
      "  Validation Found 91850 of 93880, added 3538 (eff 97.84%) (0.193 FP/event)\n",
      "\n"
     ]
    }
   ],
   "source": [
    "for result in trainNet(model, optimizer, loss,\n",
    "                        train_loader, val_loader,\n",
    "                        n_epochs, epoch_start=len(results),\n",
    "                        notebook=True):\n",
    "    \n",
    "    results = results.append(pd.Series(result._asdict()), ignore_index=True)\n",
    "    \n",
    "    xs = results.index\n",
    "    \n",
    "    # Update the plot above\n",
    "    lines['train'].set_data(results.index,results.cost)\n",
    "    lines['val'].set_data(results.index,results.val)\n",
    "    \n",
    "    #filter first cost epoch (can be really large)\n",
    "    max_cost = max(max(results.cost if len(results.cost)<2 else results.cost[1:]), max(results.val))\n",
    "    min_cost = min(min(results.cost), min(results.val))\n",
    "    \n",
    "    # The plot limits need updating too\n",
    "    \n",
    "    \n",
    "    \n",
    "    ax.set_ylim(min_cost*.9, max_cost*1.1)  \n",
    "    ax.set_xlim(-.5, len(results.cost) - .5)\n",
    "    \n",
    "    replace_in_ax(lax, lines['eff'], xs, results['eff_val'].apply(lambda x: x.eff_rate))\n",
    "    replace_in_ax(tax, lines['fp'], xs, results['eff_val'].apply(lambda x: x.fp_rate))\n",
    "    \n",
    "    # Redraw the figure\n",
    "    fig.canvas.draw()\n",
    "\n",
    "    # Save each model state dictionary\n",
    "    torch.save(model.state_dict(), output / f'{name}_{result.epoch}.pyt')"
   ]
  },
  {
   "cell_type": "markdown",
   "metadata": {},
   "source": [
    "# Results\n",
    "\n",
    "Let's save some results: (even though if you have not changed the code above, it saves the model every epoch)"
   ]
  },
  {
   "cell_type": "markdown",
   "metadata": {},
   "source": [
    "Go ahead and save the final model (even though it was also saved above):"
   ]
  },
  {
   "cell_type": "code",
   "execution_count": 16,
   "metadata": {},
   "outputs": [],
   "source": [
    "torch.save(model.state_dict(), output / f'{name}_final.pyt')"
   ]
  },
  {
   "cell_type": "markdown",
   "metadata": {},
   "source": [
    "Save the output results:"
   ]
  },
  {
   "cell_type": "code",
   "execution_count": 17,
   "metadata": {},
   "outputs": [
    {
     "name": "stderr",
     "output_type": "stream",
     "text": [
      "/data/conda/envs/goofit/lib/python3.7/site-packages/pandas/core/generic.py:2505: PerformanceWarning: \n",
      "your performance may suffer as PyTables will pickle object types that it cannot\n",
      "map directly to c-types [inferred_type->mixed-integer,key->block1_values] [items->Index(['epoch', 'eff_val'], dtype='object')]\n",
      "\n",
      "  encoding=encoding,\n"
     ]
    }
   ],
   "source": [
    "results.to_hdf(f'{name}_stats.hdf5', 'results')"
   ]
  },
  {
   "cell_type": "markdown",
   "metadata": {},
   "source": [
    "Save the plot above:"
   ]
  },
  {
   "cell_type": "code",
   "execution_count": 18,
   "metadata": {
    "scrolled": false
   },
   "outputs": [
    {
     "data": {
      "application/javascript": [
       "/* Put everything inside the global mpl namespace */\n",
       "window.mpl = {};\n",
       "\n",
       "\n",
       "mpl.get_websocket_type = function() {\n",
       "    if (typeof(WebSocket) !== 'undefined') {\n",
       "        return WebSocket;\n",
       "    } else if (typeof(MozWebSocket) !== 'undefined') {\n",
       "        return MozWebSocket;\n",
       "    } else {\n",
       "        alert('Your browser does not have WebSocket support. ' +\n",
       "              'Please try Chrome, Safari or Firefox ≥ 6. ' +\n",
       "              'Firefox 4 and 5 are also supported but you ' +\n",
       "              'have to enable WebSockets in about:config.');\n",
       "    };\n",
       "}\n",
       "\n",
       "mpl.figure = function(figure_id, websocket, ondownload, parent_element) {\n",
       "    this.id = figure_id;\n",
       "\n",
       "    this.ws = websocket;\n",
       "\n",
       "    this.supports_binary = (this.ws.binaryType != undefined);\n",
       "\n",
       "    if (!this.supports_binary) {\n",
       "        var warnings = document.getElementById(\"mpl-warnings\");\n",
       "        if (warnings) {\n",
       "            warnings.style.display = 'block';\n",
       "            warnings.textContent = (\n",
       "                \"This browser does not support binary websocket messages. \" +\n",
       "                    \"Performance may be slow.\");\n",
       "        }\n",
       "    }\n",
       "\n",
       "    this.imageObj = new Image();\n",
       "\n",
       "    this.context = undefined;\n",
       "    this.message = undefined;\n",
       "    this.canvas = undefined;\n",
       "    this.rubberband_canvas = undefined;\n",
       "    this.rubberband_context = undefined;\n",
       "    this.format_dropdown = undefined;\n",
       "\n",
       "    this.image_mode = 'full';\n",
       "\n",
       "    this.root = $('<div/>');\n",
       "    this._root_extra_style(this.root)\n",
       "    this.root.attr('style', 'display: inline-block');\n",
       "\n",
       "    $(parent_element).append(this.root);\n",
       "\n",
       "    this._init_header(this);\n",
       "    this._init_canvas(this);\n",
       "    this._init_toolbar(this);\n",
       "\n",
       "    var fig = this;\n",
       "\n",
       "    this.waiting = false;\n",
       "\n",
       "    this.ws.onopen =  function () {\n",
       "            fig.send_message(\"supports_binary\", {value: fig.supports_binary});\n",
       "            fig.send_message(\"send_image_mode\", {});\n",
       "            if (mpl.ratio != 1) {\n",
       "                fig.send_message(\"set_dpi_ratio\", {'dpi_ratio': mpl.ratio});\n",
       "            }\n",
       "            fig.send_message(\"refresh\", {});\n",
       "        }\n",
       "\n",
       "    this.imageObj.onload = function() {\n",
       "            if (fig.image_mode == 'full') {\n",
       "                // Full images could contain transparency (where diff images\n",
       "                // almost always do), so we need to clear the canvas so that\n",
       "                // there is no ghosting.\n",
       "                fig.context.clearRect(0, 0, fig.canvas.width, fig.canvas.height);\n",
       "            }\n",
       "            fig.context.drawImage(fig.imageObj, 0, 0);\n",
       "        };\n",
       "\n",
       "    this.imageObj.onunload = function() {\n",
       "        fig.ws.close();\n",
       "    }\n",
       "\n",
       "    this.ws.onmessage = this._make_on_message_function(this);\n",
       "\n",
       "    this.ondownload = ondownload;\n",
       "}\n",
       "\n",
       "mpl.figure.prototype._init_header = function() {\n",
       "    var titlebar = $(\n",
       "        '<div class=\"ui-dialog-titlebar ui-widget-header ui-corner-all ' +\n",
       "        'ui-helper-clearfix\"/>');\n",
       "    var titletext = $(\n",
       "        '<div class=\"ui-dialog-title\" style=\"width: 100%; ' +\n",
       "        'text-align: center; padding: 3px;\"/>');\n",
       "    titlebar.append(titletext)\n",
       "    this.root.append(titlebar);\n",
       "    this.header = titletext[0];\n",
       "}\n",
       "\n",
       "\n",
       "\n",
       "mpl.figure.prototype._canvas_extra_style = function(canvas_div) {\n",
       "\n",
       "}\n",
       "\n",
       "\n",
       "mpl.figure.prototype._root_extra_style = function(canvas_div) {\n",
       "\n",
       "}\n",
       "\n",
       "mpl.figure.prototype._init_canvas = function() {\n",
       "    var fig = this;\n",
       "\n",
       "    var canvas_div = $('<div/>');\n",
       "\n",
       "    canvas_div.attr('style', 'position: relative; clear: both; outline: 0');\n",
       "\n",
       "    function canvas_keyboard_event(event) {\n",
       "        return fig.key_event(event, event['data']);\n",
       "    }\n",
       "\n",
       "    canvas_div.keydown('key_press', canvas_keyboard_event);\n",
       "    canvas_div.keyup('key_release', canvas_keyboard_event);\n",
       "    this.canvas_div = canvas_div\n",
       "    this._canvas_extra_style(canvas_div)\n",
       "    this.root.append(canvas_div);\n",
       "\n",
       "    var canvas = $('<canvas/>');\n",
       "    canvas.addClass('mpl-canvas');\n",
       "    canvas.attr('style', \"left: 0; top: 0; z-index: 0; outline: 0\")\n",
       "\n",
       "    this.canvas = canvas[0];\n",
       "    this.context = canvas[0].getContext(\"2d\");\n",
       "\n",
       "    var backingStore = this.context.backingStorePixelRatio ||\n",
       "\tthis.context.webkitBackingStorePixelRatio ||\n",
       "\tthis.context.mozBackingStorePixelRatio ||\n",
       "\tthis.context.msBackingStorePixelRatio ||\n",
       "\tthis.context.oBackingStorePixelRatio ||\n",
       "\tthis.context.backingStorePixelRatio || 1;\n",
       "\n",
       "    mpl.ratio = (window.devicePixelRatio || 1) / backingStore;\n",
       "\n",
       "    var rubberband = $('<canvas/>');\n",
       "    rubberband.attr('style', \"position: absolute; left: 0; top: 0; z-index: 1;\")\n",
       "\n",
       "    var pass_mouse_events = true;\n",
       "\n",
       "    canvas_div.resizable({\n",
       "        start: function(event, ui) {\n",
       "            pass_mouse_events = false;\n",
       "        },\n",
       "        resize: function(event, ui) {\n",
       "            fig.request_resize(ui.size.width, ui.size.height);\n",
       "        },\n",
       "        stop: function(event, ui) {\n",
       "            pass_mouse_events = true;\n",
       "            fig.request_resize(ui.size.width, ui.size.height);\n",
       "        },\n",
       "    });\n",
       "\n",
       "    function mouse_event_fn(event) {\n",
       "        if (pass_mouse_events)\n",
       "            return fig.mouse_event(event, event['data']);\n",
       "    }\n",
       "\n",
       "    rubberband.mousedown('button_press', mouse_event_fn);\n",
       "    rubberband.mouseup('button_release', mouse_event_fn);\n",
       "    // Throttle sequential mouse events to 1 every 20ms.\n",
       "    rubberband.mousemove('motion_notify', mouse_event_fn);\n",
       "\n",
       "    rubberband.mouseenter('figure_enter', mouse_event_fn);\n",
       "    rubberband.mouseleave('figure_leave', mouse_event_fn);\n",
       "\n",
       "    canvas_div.on(\"wheel\", function (event) {\n",
       "        event = event.originalEvent;\n",
       "        event['data'] = 'scroll'\n",
       "        if (event.deltaY < 0) {\n",
       "            event.step = 1;\n",
       "        } else {\n",
       "            event.step = -1;\n",
       "        }\n",
       "        mouse_event_fn(event);\n",
       "    });\n",
       "\n",
       "    canvas_div.append(canvas);\n",
       "    canvas_div.append(rubberband);\n",
       "\n",
       "    this.rubberband = rubberband;\n",
       "    this.rubberband_canvas = rubberband[0];\n",
       "    this.rubberband_context = rubberband[0].getContext(\"2d\");\n",
       "    this.rubberband_context.strokeStyle = \"#000000\";\n",
       "\n",
       "    this._resize_canvas = function(width, height) {\n",
       "        // Keep the size of the canvas, canvas container, and rubber band\n",
       "        // canvas in synch.\n",
       "        canvas_div.css('width', width)\n",
       "        canvas_div.css('height', height)\n",
       "\n",
       "        canvas.attr('width', width * mpl.ratio);\n",
       "        canvas.attr('height', height * mpl.ratio);\n",
       "        canvas.attr('style', 'width: ' + width + 'px; height: ' + height + 'px;');\n",
       "\n",
       "        rubberband.attr('width', width);\n",
       "        rubberband.attr('height', height);\n",
       "    }\n",
       "\n",
       "    // Set the figure to an initial 600x600px, this will subsequently be updated\n",
       "    // upon first draw.\n",
       "    this._resize_canvas(600, 600);\n",
       "\n",
       "    // Disable right mouse context menu.\n",
       "    $(this.rubberband_canvas).bind(\"contextmenu\",function(e){\n",
       "        return false;\n",
       "    });\n",
       "\n",
       "    function set_focus () {\n",
       "        canvas.focus();\n",
       "        canvas_div.focus();\n",
       "    }\n",
       "\n",
       "    window.setTimeout(set_focus, 100);\n",
       "}\n",
       "\n",
       "mpl.figure.prototype._init_toolbar = function() {\n",
       "    var fig = this;\n",
       "\n",
       "    var nav_element = $('<div/>');\n",
       "    nav_element.attr('style', 'width: 100%');\n",
       "    this.root.append(nav_element);\n",
       "\n",
       "    // Define a callback function for later on.\n",
       "    function toolbar_event(event) {\n",
       "        return fig.toolbar_button_onclick(event['data']);\n",
       "    }\n",
       "    function toolbar_mouse_event(event) {\n",
       "        return fig.toolbar_button_onmouseover(event['data']);\n",
       "    }\n",
       "\n",
       "    for(var toolbar_ind in mpl.toolbar_items) {\n",
       "        var name = mpl.toolbar_items[toolbar_ind][0];\n",
       "        var tooltip = mpl.toolbar_items[toolbar_ind][1];\n",
       "        var image = mpl.toolbar_items[toolbar_ind][2];\n",
       "        var method_name = mpl.toolbar_items[toolbar_ind][3];\n",
       "\n",
       "        if (!name) {\n",
       "            // put a spacer in here.\n",
       "            continue;\n",
       "        }\n",
       "        var button = $('<button/>');\n",
       "        button.addClass('ui-button ui-widget ui-state-default ui-corner-all ' +\n",
       "                        'ui-button-icon-only');\n",
       "        button.attr('role', 'button');\n",
       "        button.attr('aria-disabled', 'false');\n",
       "        button.click(method_name, toolbar_event);\n",
       "        button.mouseover(tooltip, toolbar_mouse_event);\n",
       "\n",
       "        var icon_img = $('<span/>');\n",
       "        icon_img.addClass('ui-button-icon-primary ui-icon');\n",
       "        icon_img.addClass(image);\n",
       "        icon_img.addClass('ui-corner-all');\n",
       "\n",
       "        var tooltip_span = $('<span/>');\n",
       "        tooltip_span.addClass('ui-button-text');\n",
       "        tooltip_span.html(tooltip);\n",
       "\n",
       "        button.append(icon_img);\n",
       "        button.append(tooltip_span);\n",
       "\n",
       "        nav_element.append(button);\n",
       "    }\n",
       "\n",
       "    var fmt_picker_span = $('<span/>');\n",
       "\n",
       "    var fmt_picker = $('<select/>');\n",
       "    fmt_picker.addClass('mpl-toolbar-option ui-widget ui-widget-content');\n",
       "    fmt_picker_span.append(fmt_picker);\n",
       "    nav_element.append(fmt_picker_span);\n",
       "    this.format_dropdown = fmt_picker[0];\n",
       "\n",
       "    for (var ind in mpl.extensions) {\n",
       "        var fmt = mpl.extensions[ind];\n",
       "        var option = $(\n",
       "            '<option/>', {selected: fmt === mpl.default_extension}).html(fmt);\n",
       "        fmt_picker.append(option);\n",
       "    }\n",
       "\n",
       "    // Add hover states to the ui-buttons\n",
       "    $( \".ui-button\" ).hover(\n",
       "        function() { $(this).addClass(\"ui-state-hover\");},\n",
       "        function() { $(this).removeClass(\"ui-state-hover\");}\n",
       "    );\n",
       "\n",
       "    var status_bar = $('<span class=\"mpl-message\"/>');\n",
       "    nav_element.append(status_bar);\n",
       "    this.message = status_bar[0];\n",
       "}\n",
       "\n",
       "mpl.figure.prototype.request_resize = function(x_pixels, y_pixels) {\n",
       "    // Request matplotlib to resize the figure. Matplotlib will then trigger a resize in the client,\n",
       "    // which will in turn request a refresh of the image.\n",
       "    this.send_message('resize', {'width': x_pixels, 'height': y_pixels});\n",
       "}\n",
       "\n",
       "mpl.figure.prototype.send_message = function(type, properties) {\n",
       "    properties['type'] = type;\n",
       "    properties['figure_id'] = this.id;\n",
       "    this.ws.send(JSON.stringify(properties));\n",
       "}\n",
       "\n",
       "mpl.figure.prototype.send_draw_message = function() {\n",
       "    if (!this.waiting) {\n",
       "        this.waiting = true;\n",
       "        this.ws.send(JSON.stringify({type: \"draw\", figure_id: this.id}));\n",
       "    }\n",
       "}\n",
       "\n",
       "\n",
       "mpl.figure.prototype.handle_save = function(fig, msg) {\n",
       "    var format_dropdown = fig.format_dropdown;\n",
       "    var format = format_dropdown.options[format_dropdown.selectedIndex].value;\n",
       "    fig.ondownload(fig, format);\n",
       "}\n",
       "\n",
       "\n",
       "mpl.figure.prototype.handle_resize = function(fig, msg) {\n",
       "    var size = msg['size'];\n",
       "    if (size[0] != fig.canvas.width || size[1] != fig.canvas.height) {\n",
       "        fig._resize_canvas(size[0], size[1]);\n",
       "        fig.send_message(\"refresh\", {});\n",
       "    };\n",
       "}\n",
       "\n",
       "mpl.figure.prototype.handle_rubberband = function(fig, msg) {\n",
       "    var x0 = msg['x0'] / mpl.ratio;\n",
       "    var y0 = (fig.canvas.height - msg['y0']) / mpl.ratio;\n",
       "    var x1 = msg['x1'] / mpl.ratio;\n",
       "    var y1 = (fig.canvas.height - msg['y1']) / mpl.ratio;\n",
       "    x0 = Math.floor(x0) + 0.5;\n",
       "    y0 = Math.floor(y0) + 0.5;\n",
       "    x1 = Math.floor(x1) + 0.5;\n",
       "    y1 = Math.floor(y1) + 0.5;\n",
       "    var min_x = Math.min(x0, x1);\n",
       "    var min_y = Math.min(y0, y1);\n",
       "    var width = Math.abs(x1 - x0);\n",
       "    var height = Math.abs(y1 - y0);\n",
       "\n",
       "    fig.rubberband_context.clearRect(\n",
       "        0, 0, fig.canvas.width / mpl.ratio, fig.canvas.height / mpl.ratio);\n",
       "\n",
       "    fig.rubberband_context.strokeRect(min_x, min_y, width, height);\n",
       "}\n",
       "\n",
       "mpl.figure.prototype.handle_figure_label = function(fig, msg) {\n",
       "    // Updates the figure title.\n",
       "    fig.header.textContent = msg['label'];\n",
       "}\n",
       "\n",
       "mpl.figure.prototype.handle_cursor = function(fig, msg) {\n",
       "    var cursor = msg['cursor'];\n",
       "    switch(cursor)\n",
       "    {\n",
       "    case 0:\n",
       "        cursor = 'pointer';\n",
       "        break;\n",
       "    case 1:\n",
       "        cursor = 'default';\n",
       "        break;\n",
       "    case 2:\n",
       "        cursor = 'crosshair';\n",
       "        break;\n",
       "    case 3:\n",
       "        cursor = 'move';\n",
       "        break;\n",
       "    }\n",
       "    fig.rubberband_canvas.style.cursor = cursor;\n",
       "}\n",
       "\n",
       "mpl.figure.prototype.handle_message = function(fig, msg) {\n",
       "    fig.message.textContent = msg['message'];\n",
       "}\n",
       "\n",
       "mpl.figure.prototype.handle_draw = function(fig, msg) {\n",
       "    // Request the server to send over a new figure.\n",
       "    fig.send_draw_message();\n",
       "}\n",
       "\n",
       "mpl.figure.prototype.handle_image_mode = function(fig, msg) {\n",
       "    fig.image_mode = msg['mode'];\n",
       "}\n",
       "\n",
       "mpl.figure.prototype.updated_canvas_event = function() {\n",
       "    // Called whenever the canvas gets updated.\n",
       "    this.send_message(\"ack\", {});\n",
       "}\n",
       "\n",
       "// A function to construct a web socket function for onmessage handling.\n",
       "// Called in the figure constructor.\n",
       "mpl.figure.prototype._make_on_message_function = function(fig) {\n",
       "    return function socket_on_message(evt) {\n",
       "        if (evt.data instanceof Blob) {\n",
       "            /* FIXME: We get \"Resource interpreted as Image but\n",
       "             * transferred with MIME type text/plain:\" errors on\n",
       "             * Chrome.  But how to set the MIME type?  It doesn't seem\n",
       "             * to be part of the websocket stream */\n",
       "            evt.data.type = \"image/png\";\n",
       "\n",
       "            /* Free the memory for the previous frames */\n",
       "            if (fig.imageObj.src) {\n",
       "                (window.URL || window.webkitURL).revokeObjectURL(\n",
       "                    fig.imageObj.src);\n",
       "            }\n",
       "\n",
       "            fig.imageObj.src = (window.URL || window.webkitURL).createObjectURL(\n",
       "                evt.data);\n",
       "            fig.updated_canvas_event();\n",
       "            fig.waiting = false;\n",
       "            return;\n",
       "        }\n",
       "        else if (typeof evt.data === 'string' && evt.data.slice(0, 21) == \"data:image/png;base64\") {\n",
       "            fig.imageObj.src = evt.data;\n",
       "            fig.updated_canvas_event();\n",
       "            fig.waiting = false;\n",
       "            return;\n",
       "        }\n",
       "\n",
       "        var msg = JSON.parse(evt.data);\n",
       "        var msg_type = msg['type'];\n",
       "\n",
       "        // Call the  \"handle_{type}\" callback, which takes\n",
       "        // the figure and JSON message as its only arguments.\n",
       "        try {\n",
       "            var callback = fig[\"handle_\" + msg_type];\n",
       "        } catch (e) {\n",
       "            console.log(\"No handler for the '\" + msg_type + \"' message type: \", msg);\n",
       "            return;\n",
       "        }\n",
       "\n",
       "        if (callback) {\n",
       "            try {\n",
       "                // console.log(\"Handling '\" + msg_type + \"' message: \", msg);\n",
       "                callback(fig, msg);\n",
       "            } catch (e) {\n",
       "                console.log(\"Exception inside the 'handler_\" + msg_type + \"' callback:\", e, e.stack, msg);\n",
       "            }\n",
       "        }\n",
       "    };\n",
       "}\n",
       "\n",
       "// from http://stackoverflow.com/questions/1114465/getting-mouse-location-in-canvas\n",
       "mpl.findpos = function(e) {\n",
       "    //this section is from http://www.quirksmode.org/js/events_properties.html\n",
       "    var targ;\n",
       "    if (!e)\n",
       "        e = window.event;\n",
       "    if (e.target)\n",
       "        targ = e.target;\n",
       "    else if (e.srcElement)\n",
       "        targ = e.srcElement;\n",
       "    if (targ.nodeType == 3) // defeat Safari bug\n",
       "        targ = targ.parentNode;\n",
       "\n",
       "    // jQuery normalizes the pageX and pageY\n",
       "    // pageX,Y are the mouse positions relative to the document\n",
       "    // offset() returns the position of the element relative to the document\n",
       "    var x = e.pageX - $(targ).offset().left;\n",
       "    var y = e.pageY - $(targ).offset().top;\n",
       "\n",
       "    return {\"x\": x, \"y\": y};\n",
       "};\n",
       "\n",
       "/*\n",
       " * return a copy of an object with only non-object keys\n",
       " * we need this to avoid circular references\n",
       " * http://stackoverflow.com/a/24161582/3208463\n",
       " */\n",
       "function simpleKeys (original) {\n",
       "  return Object.keys(original).reduce(function (obj, key) {\n",
       "    if (typeof original[key] !== 'object')\n",
       "        obj[key] = original[key]\n",
       "    return obj;\n",
       "  }, {});\n",
       "}\n",
       "\n",
       "mpl.figure.prototype.mouse_event = function(event, name) {\n",
       "    var canvas_pos = mpl.findpos(event)\n",
       "\n",
       "    if (name === 'button_press')\n",
       "    {\n",
       "        this.canvas.focus();\n",
       "        this.canvas_div.focus();\n",
       "    }\n",
       "\n",
       "    var x = canvas_pos.x * mpl.ratio;\n",
       "    var y = canvas_pos.y * mpl.ratio;\n",
       "\n",
       "    this.send_message(name, {x: x, y: y, button: event.button,\n",
       "                             step: event.step,\n",
       "                             guiEvent: simpleKeys(event)});\n",
       "\n",
       "    /* This prevents the web browser from automatically changing to\n",
       "     * the text insertion cursor when the button is pressed.  We want\n",
       "     * to control all of the cursor setting manually through the\n",
       "     * 'cursor' event from matplotlib */\n",
       "    event.preventDefault();\n",
       "    return false;\n",
       "}\n",
       "\n",
       "mpl.figure.prototype._key_event_extra = function(event, name) {\n",
       "    // Handle any extra behaviour associated with a key event\n",
       "}\n",
       "\n",
       "mpl.figure.prototype.key_event = function(event, name) {\n",
       "\n",
       "    // Prevent repeat events\n",
       "    if (name == 'key_press')\n",
       "    {\n",
       "        if (event.which === this._key)\n",
       "            return;\n",
       "        else\n",
       "            this._key = event.which;\n",
       "    }\n",
       "    if (name == 'key_release')\n",
       "        this._key = null;\n",
       "\n",
       "    var value = '';\n",
       "    if (event.ctrlKey && event.which != 17)\n",
       "        value += \"ctrl+\";\n",
       "    if (event.altKey && event.which != 18)\n",
       "        value += \"alt+\";\n",
       "    if (event.shiftKey && event.which != 16)\n",
       "        value += \"shift+\";\n",
       "\n",
       "    value += 'k';\n",
       "    value += event.which.toString();\n",
       "\n",
       "    this._key_event_extra(event, name);\n",
       "\n",
       "    this.send_message(name, {key: value,\n",
       "                             guiEvent: simpleKeys(event)});\n",
       "    return false;\n",
       "}\n",
       "\n",
       "mpl.figure.prototype.toolbar_button_onclick = function(name) {\n",
       "    if (name == 'download') {\n",
       "        this.handle_save(this, null);\n",
       "    } else {\n",
       "        this.send_message(\"toolbar_button\", {name: name});\n",
       "    }\n",
       "};\n",
       "\n",
       "mpl.figure.prototype.toolbar_button_onmouseover = function(tooltip) {\n",
       "    this.message.textContent = tooltip;\n",
       "};\n",
       "mpl.toolbar_items = [[\"Home\", \"Reset original view\", \"fa fa-home icon-home\", \"home\"], [\"Back\", \"Back to previous view\", \"fa fa-arrow-left icon-arrow-left\", \"back\"], [\"Forward\", \"Forward to next view\", \"fa fa-arrow-right icon-arrow-right\", \"forward\"], [\"\", \"\", \"\", \"\"], [\"Pan\", \"Pan axes with left mouse, zoom with right\", \"fa fa-arrows icon-move\", \"pan\"], [\"Zoom\", \"Zoom to rectangle\", \"fa fa-square-o icon-check-empty\", \"zoom\"], [\"\", \"\", \"\", \"\"], [\"Download\", \"Download plot\", \"fa fa-floppy-o icon-save\", \"download\"]];\n",
       "\n",
       "mpl.extensions = [\"eps\", \"jpeg\", \"pdf\", \"png\", \"ps\", \"raw\", \"svg\", \"tif\"];\n",
       "\n",
       "mpl.default_extension = \"png\";var comm_websocket_adapter = function(comm) {\n",
       "    // Create a \"websocket\"-like object which calls the given IPython comm\n",
       "    // object with the appropriate methods. Currently this is a non binary\n",
       "    // socket, so there is still some room for performance tuning.\n",
       "    var ws = {};\n",
       "\n",
       "    ws.close = function() {\n",
       "        comm.close()\n",
       "    };\n",
       "    ws.send = function(m) {\n",
       "        //console.log('sending', m);\n",
       "        comm.send(m);\n",
       "    };\n",
       "    // Register the callback with on_msg.\n",
       "    comm.on_msg(function(msg) {\n",
       "        //console.log('receiving', msg['content']['data'], msg);\n",
       "        // Pass the mpl event to the overridden (by mpl) onmessage function.\n",
       "        ws.onmessage(msg['content']['data'])\n",
       "    });\n",
       "    return ws;\n",
       "}\n",
       "\n",
       "mpl.mpl_figure_comm = function(comm, msg) {\n",
       "    // This is the function which gets called when the mpl process\n",
       "    // starts-up an IPython Comm through the \"matplotlib\" channel.\n",
       "\n",
       "    var id = msg.content.data.id;\n",
       "    // Get hold of the div created by the display call when the Comm\n",
       "    // socket was opened in Python.\n",
       "    var element = $(\"#\" + id);\n",
       "    var ws_proxy = comm_websocket_adapter(comm)\n",
       "\n",
       "    function ondownload(figure, format) {\n",
       "        window.open(figure.imageObj.src);\n",
       "    }\n",
       "\n",
       "    var fig = new mpl.figure(id, ws_proxy,\n",
       "                           ondownload,\n",
       "                           element.get(0));\n",
       "\n",
       "    // Call onopen now - mpl needs it, as it is assuming we've passed it a real\n",
       "    // web socket which is closed, not our websocket->open comm proxy.\n",
       "    ws_proxy.onopen();\n",
       "\n",
       "    fig.parent_element = element.get(0);\n",
       "    fig.cell_info = mpl.find_output_cell(\"<div id='\" + id + \"'></div>\");\n",
       "    if (!fig.cell_info) {\n",
       "        console.error(\"Failed to find cell for figure\", id, fig);\n",
       "        return;\n",
       "    }\n",
       "\n",
       "    var output_index = fig.cell_info[2]\n",
       "    var cell = fig.cell_info[0];\n",
       "\n",
       "};\n",
       "\n",
       "mpl.figure.prototype.handle_close = function(fig, msg) {\n",
       "    var width = fig.canvas.width/mpl.ratio\n",
       "    fig.root.unbind('remove')\n",
       "\n",
       "    // Update the output cell to use the data from the current canvas.\n",
       "    fig.push_to_output();\n",
       "    var dataURL = fig.canvas.toDataURL();\n",
       "    // Re-enable the keyboard manager in IPython - without this line, in FF,\n",
       "    // the notebook keyboard shortcuts fail.\n",
       "    IPython.keyboard_manager.enable()\n",
       "    $(fig.parent_element).html('<img src=\"' + dataURL + '\" width=\"' + width + '\">');\n",
       "    fig.close_ws(fig, msg);\n",
       "}\n",
       "\n",
       "mpl.figure.prototype.close_ws = function(fig, msg){\n",
       "    fig.send_message('closing', msg);\n",
       "    // fig.ws.close()\n",
       "}\n",
       "\n",
       "mpl.figure.prototype.push_to_output = function(remove_interactive) {\n",
       "    // Turn the data on the canvas into data in the output cell.\n",
       "    var width = this.canvas.width/mpl.ratio\n",
       "    var dataURL = this.canvas.toDataURL();\n",
       "    this.cell_info[1]['text/html'] = '<img src=\"' + dataURL + '\" width=\"' + width + '\">';\n",
       "}\n",
       "\n",
       "mpl.figure.prototype.updated_canvas_event = function() {\n",
       "    // Tell IPython that the notebook contents must change.\n",
       "    IPython.notebook.set_dirty(true);\n",
       "    this.send_message(\"ack\", {});\n",
       "    var fig = this;\n",
       "    // Wait a second, then push the new image to the DOM so\n",
       "    // that it is saved nicely (might be nice to debounce this).\n",
       "    setTimeout(function () { fig.push_to_output() }, 1000);\n",
       "}\n",
       "\n",
       "mpl.figure.prototype._init_toolbar = function() {\n",
       "    var fig = this;\n",
       "\n",
       "    var nav_element = $('<div/>');\n",
       "    nav_element.attr('style', 'width: 100%');\n",
       "    this.root.append(nav_element);\n",
       "\n",
       "    // Define a callback function for later on.\n",
       "    function toolbar_event(event) {\n",
       "        return fig.toolbar_button_onclick(event['data']);\n",
       "    }\n",
       "    function toolbar_mouse_event(event) {\n",
       "        return fig.toolbar_button_onmouseover(event['data']);\n",
       "    }\n",
       "\n",
       "    for(var toolbar_ind in mpl.toolbar_items){\n",
       "        var name = mpl.toolbar_items[toolbar_ind][0];\n",
       "        var tooltip = mpl.toolbar_items[toolbar_ind][1];\n",
       "        var image = mpl.toolbar_items[toolbar_ind][2];\n",
       "        var method_name = mpl.toolbar_items[toolbar_ind][3];\n",
       "\n",
       "        if (!name) { continue; };\n",
       "\n",
       "        var button = $('<button class=\"btn btn-default\" href=\"#\" title=\"' + name + '\"><i class=\"fa ' + image + ' fa-lg\"></i></button>');\n",
       "        button.click(method_name, toolbar_event);\n",
       "        button.mouseover(tooltip, toolbar_mouse_event);\n",
       "        nav_element.append(button);\n",
       "    }\n",
       "\n",
       "    // Add the status bar.\n",
       "    var status_bar = $('<span class=\"mpl-message\" style=\"text-align:right; float: right;\"/>');\n",
       "    nav_element.append(status_bar);\n",
       "    this.message = status_bar[0];\n",
       "\n",
       "    // Add the close button to the window.\n",
       "    var buttongrp = $('<div class=\"btn-group inline pull-right\"></div>');\n",
       "    var button = $('<button class=\"btn btn-mini btn-primary\" href=\"#\" title=\"Stop Interaction\"><i class=\"fa fa-power-off icon-remove icon-large\"></i></button>');\n",
       "    button.click(function (evt) { fig.handle_close(fig, {}); } );\n",
       "    button.mouseover('Stop Interaction', toolbar_mouse_event);\n",
       "    buttongrp.append(button);\n",
       "    var titlebar = this.root.find($('.ui-dialog-titlebar'));\n",
       "    titlebar.prepend(buttongrp);\n",
       "}\n",
       "\n",
       "mpl.figure.prototype._root_extra_style = function(el){\n",
       "    var fig = this\n",
       "    el.on(\"remove\", function(){\n",
       "\tfig.close_ws(fig, {});\n",
       "    });\n",
       "}\n",
       "\n",
       "mpl.figure.prototype._canvas_extra_style = function(el){\n",
       "    // this is important to make the div 'focusable\n",
       "    el.attr('tabindex', 0)\n",
       "    // reach out to IPython and tell the keyboard manager to turn it's self\n",
       "    // off when our div gets focus\n",
       "\n",
       "    // location in version 3\n",
       "    if (IPython.notebook.keyboard_manager) {\n",
       "        IPython.notebook.keyboard_manager.register_events(el);\n",
       "    }\n",
       "    else {\n",
       "        // location in version 2\n",
       "        IPython.keyboard_manager.register_events(el);\n",
       "    }\n",
       "\n",
       "}\n",
       "\n",
       "mpl.figure.prototype._key_event_extra = function(event, name) {\n",
       "    var manager = IPython.notebook.keyboard_manager;\n",
       "    if (!manager)\n",
       "        manager = IPython.keyboard_manager;\n",
       "\n",
       "    // Check for shift+enter\n",
       "    if (event.shiftKey && event.which == 13) {\n",
       "        this.canvas_div.blur();\n",
       "        // select the cell after this one\n",
       "        var index = IPython.notebook.find_cell_index(this.cell_info[0]);\n",
       "        IPython.notebook.select(index + 1);\n",
       "    }\n",
       "}\n",
       "\n",
       "mpl.figure.prototype.handle_save = function(fig, msg) {\n",
       "    fig.ondownload(fig, null);\n",
       "}\n",
       "\n",
       "\n",
       "mpl.find_output_cell = function(html_output) {\n",
       "    // Return the cell and output element which can be found *uniquely* in the notebook.\n",
       "    // Note - this is a bit hacky, but it is done because the \"notebook_saving.Notebook\"\n",
       "    // IPython event is triggered only after the cells have been serialised, which for\n",
       "    // our purposes (turning an active figure into a static one), is too late.\n",
       "    var cells = IPython.notebook.get_cells();\n",
       "    var ncells = cells.length;\n",
       "    for (var i=0; i<ncells; i++) {\n",
       "        var cell = cells[i];\n",
       "        if (cell.cell_type === 'code'){\n",
       "            for (var j=0; j<cell.output_area.outputs.length; j++) {\n",
       "                var data = cell.output_area.outputs[j];\n",
       "                if (data.data) {\n",
       "                    // IPython >= 3 moved mimebundle to data attribute of output\n",
       "                    data = data.data;\n",
       "                }\n",
       "                if (data['text/html'] == html_output) {\n",
       "                    return [cell, data, j];\n",
       "                }\n",
       "            }\n",
       "        }\n",
       "    }\n",
       "}\n",
       "\n",
       "// Register the function which deals with the matplotlib target/channel.\n",
       "// The kernel may be null if the page has been refreshed.\n",
       "if (IPython.notebook.kernel != null) {\n",
       "    IPython.notebook.kernel.comm_manager.register_target('matplotlib', mpl.mpl_figure_comm);\n",
       "}\n"
      ],
      "text/plain": [
       "<IPython.core.display.Javascript object>"
      ]
     },
     "metadata": {},
     "output_type": "display_data"
    },
    {
     "data": {
      "text/html": [
       "<img src=\"data:image/png;base64,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\" width=\"999.75\">"
      ],
      "text/plain": [
       "<IPython.core.display.HTML object>"
      ]
     },
     "metadata": {},
     "output_type": "display_data"
    }
   ],
   "source": [
    "dual_train_plots(results.index,\n",
    "                 results.cost, results.val, \n",
    "                 results['eff_val'].apply(lambda x: x.eff_rate),\n",
    "                 results['eff_val'].apply(lambda x: x.fp_rate))\n",
    "plt.tight_layout()\n",
    "plt.savefig(str(output / f'{name}_stats_a.png'))"
   ]
  },
  {
   "cell_type": "code",
   "execution_count": 20,
   "metadata": {},
   "outputs": [],
   "source": [
    "##quit()"
   ]
  },
  {
   "cell_type": "code",
   "execution_count": null,
   "metadata": {},
   "outputs": [],
   "source": []
  }
 ],
 "metadata": {
  "kernelspec": {
   "display_name": "goofit",
   "language": "python",
   "name": "goofit"
  },
  "language_info": {
   "codemirror_mode": {
    "name": "ipython",
    "version": 3
   },
   "file_extension": ".py",
   "mimetype": "text/x-python",
   "name": "python",
   "nbconvert_exporter": "python",
   "pygments_lexer": "ipython3",
   "version": "3.7.6"
  }
 },
 "nbformat": 4,
 "nbformat_minor": 2
}
