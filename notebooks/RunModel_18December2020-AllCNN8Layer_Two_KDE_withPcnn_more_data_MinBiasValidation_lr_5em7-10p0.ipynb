{
 "cells": [
  {
   "cell_type": "code",
   "execution_count": 1,
   "metadata": {},
   "outputs": [],
   "source": [
    "##%matplotlib widget\n",
    "## with %matplotlib notebook: seems to require ipympl as part of environment, either\n",
    "## part of the conda environment or \"pip install ipympl\"\n",
    "## otherwise, does not show ANY plots in notebook, plt.savefig() works\n",
    "%matplotlib notebook  \n",
    "##%matplotlib inline    ## --plt.savefig()  works, but re-sizing does NOT\n",
    "\n"
   ]
  },
  {
   "cell_type": "markdown",
   "metadata": {},
   "source": [
    "This notebook is derived from RunModel_Demo_28November2020-SimpleCNNLayer_Ca which \"worked\", but did not reach as high efficiency as earlier models. Here, the number of hidden convolutional layers is increased by 2 and the number of output channels per layer is increased by using SimpleCNN7Layer_Ca_Two_KDE in place of SimpleCNN5Layer_Ca_Two_KDE\n",
    "\n",
    "The goal is to use two channels of input -- poca_KDE_A and poca_KDE_B to see if this improves the performance of the algorithm, all else being equal.\n",
    "\n",
    "\"withPfc\" denotes using poca_KDE_A_xMax & poca_KDE_A_yMax as perturbative features\n",
    "\n",
    "We use full LHCb MC for both training and validation here, albeit a training sample slightly less than 100K events.\n"
   ]
  },
  {
   "cell_type": "markdown",
   "metadata": {},
   "source": [
    "Check the current GPU usage. Please try to be nice!"
   ]
  },
  {
   "cell_type": "code",
   "execution_count": 2,
   "metadata": {},
   "outputs": [
    {
     "name": "stdout",
     "output_type": "stream",
     "text": [
      "Fri Dec 18 12:05:39 2020       \r\n",
      "+-----------------------------------------------------------------------------+\r\n",
      "| NVIDIA-SMI 440.64.00    Driver Version: 440.64.00    CUDA Version: 10.2     |\r\n",
      "|-------------------------------+----------------------+----------------------+\r\n",
      "| GPU  Name        Persistence-M| Bus-Id        Disp.A | Volatile Uncorr. ECC |\r\n",
      "| Fan  Temp  Perf  Pwr:Usage/Cap|         Memory-Usage | GPU-Util  Compute M. |\r\n",
      "|===============================+======================+======================|\r\n",
      "|   0  TITAN V             Off  | 00000000:03:00.0 Off |                  N/A |\r\n",
      "| 28%   37C    P8    24W / 250W |   5572MiB / 12066MiB |      0%      Default |\r\n",
      "+-------------------------------+----------------------+----------------------+\r\n",
      "|   1  Tesla P100-PCIE...  Off  | 00000000:83:00.0 Off |                    0 |\r\n",
      "| N/A   37C    P0    28W / 250W |      0MiB / 16280MiB |      0%      Default |\r\n",
      "+-------------------------------+----------------------+----------------------+\r\n",
      "|   2  TITAN V             Off  | 00000000:84:00.0 Off |                  N/A |\r\n",
      "| 28%   41C    P8    27W / 250W |   1641MiB / 12066MiB |      0%      Default |\r\n",
      "+-------------------------------+----------------------+----------------------+\r\n",
      "                                                                               \r\n",
      "+-----------------------------------------------------------------------------+\r\n",
      "| Processes:                                                       GPU Memory |\r\n",
      "|  GPU       PID   Type   Process name                             Usage      |\r\n",
      "|=============================================================================|\r\n",
      "|    0     39823      C   /data/conda/envs/goofit/bin/python          2351MiB |\r\n",
      "|    0     44398      C   /data/conda/envs/goofit/bin/python          3209MiB |\r\n",
      "|    2      4304      C   ...a/conda/envs/goofit-june2020/bin/python  1629MiB |\r\n",
      "+-----------------------------------------------------------------------------+\r\n"
     ]
    }
   ],
   "source": [
    "!nvidia-smi"
   ]
  },
  {
   "cell_type": "markdown",
   "metadata": {},
   "source": [
    "> **WARNING**: The card numbers here are *not* the same as in CUDA. You have been warned."
   ]
  },
  {
   "cell_type": "markdown",
   "metadata": {},
   "source": [
    "## Imports"
   ]
  },
  {
   "cell_type": "code",
   "execution_count": 3,
   "metadata": {},
   "outputs": [],
   "source": [
    "import matplotlib.pyplot as plt\n",
    "import numpy as np\n",
    "import time\n",
    "import torch\n",
    "import pandas as pd\n",
    "\n",
    "# Python 3 standard library\n",
    "from pathlib import Path\n",
    "\n",
    "from torchsummary import summary"
   ]
  },
  {
   "cell_type": "markdown",
   "metadata": {},
   "source": [
    "### Set up local parameters"
   ]
  },
  {
   "cell_type": "code",
   "execution_count": 4,
   "metadata": {},
   "outputs": [],
   "source": [
    "n_epochs = 50\n",
    "\n",
    "# Name is the output file name\n",
    "\n",
    "\n",
    "##  201128  mds\n",
    "##  iter2 follows from iter0 (only last layer weights allowed to be learned)\n",
    "##  due to operator error, the file/folder name was iter1 rather than iter2\n",
    "##  so the labeling is slightly mis-leading.  This is the first iteration\n",
    "##  when all weights are allowed to vary\n",
    "folder = '18December2020_AllCNN8Layer_withPcnn_50epochs_moreDataIter1_lr_5em7_aymm_10p0'\n",
    "name = folder\n",
    "\n",
    "# Make an output folder named \"name\" (change if you want)\n",
    "\n",
    "## Special instructions for those working on goofy at UC\n",
    "## Please be very careful to make sure that your folder\n",
    "## does not live in a subdirectory of your home directory\n",
    "## this disk has very little capacity. Instead, use \n",
    "## a subdirectory in /share/lazy with a symbolic link to\n",
    "## it in this (the notebooks) subdirectory\n",
    "folder = 'ML/' + folder\n",
    "output = Path(folder)\n",
    "\n",
    "\n",
    "# Size of batches\n",
    "batch_size = 128\n",
    "\n",
    "# How fast to learn\n",
    "learning_rate = 5e-7"
   ]
  },
  {
   "cell_type": "markdown",
   "metadata": {},
   "source": [
    "Make the output directory if it does not exist:"
   ]
  },
  {
   "cell_type": "code",
   "execution_count": 5,
   "metadata": {},
   "outputs": [],
   "source": [
    "output.mkdir(exist_ok=True)"
   ]
  },
  {
   "cell_type": "markdown",
   "metadata": {},
   "source": [
    "## Get the helper functions\n",
    "\n",
    "Add the directory with the model\n",
    "definitions to the path so we can import from it:\n",
    "\n",
    "> When you type `import X`,\n",
    "Python searches `sys.path` for a python\n",
    "file named `X.py` to import. So we need to add the model directory to the path."
   ]
  },
  {
   "cell_type": "code",
   "execution_count": 6,
   "metadata": {
    "scrolled": true
   },
   "outputs": [],
   "source": [
    "# From model/collectdata.py\n",
    "from model.collectdata_poca_KDE import collect_data_poca\n",
    "\n",
    "# From model/loss.py\n",
    "##from loss import Loss\n",
    "from model.alt_loss_A import Loss\n",
    "\n",
    "# From model/training.py\n",
    "from model.training import trainNet, select_gpu\n",
    "\n",
    "# From model/models.py\n",
    "##  will start with model from TwoFeatures_CNN6Layer_A in the first instance\n",
    "##  see relevant cell below\n",
    "\n",
    "\n",
    "from model.models_mds_G import AllCNN8Layer_Ca_Two_KDE_withPcnn as Model\n",
    "\n",
    "from model.training import trainNet, select_gpu, Results\n",
    "from model.plots import dual_train_plots, replace_in_ax"
   ]
  },
  {
   "cell_type": "code",
   "execution_count": 7,
   "metadata": {},
   "outputs": [],
   "source": [
    "# This gets built up during the run - do not rerun this cell\n",
    "results = pd.DataFrame([], columns=Results._fields)"
   ]
  },
  {
   "cell_type": "markdown",
   "metadata": {},
   "source": [
    "Set up Torch device configuration. All tensors and model parameters need to know where to be put.\n",
    "This takes a BUS ID number: The BUS ID is the same as the listing at the top of this script."
   ]
  },
  {
   "cell_type": "code",
   "execution_count": 8,
   "metadata": {},
   "outputs": [
    {
     "name": "stdout",
     "output_type": "stream",
     "text": [
      "1 available GPUs (initially using device 0):\n",
      "  0 TITAN V\n"
     ]
    }
   ],
   "source": [
    "device = select_gpu(2)"
   ]
  },
  {
   "cell_type": "markdown",
   "metadata": {},
   "source": [
    "## Loading data\n",
    "\n",
    "Load the dataset, split into parts, then move to device (see `collectdata.py` in the `../model` directory)"
   ]
  },
  {
   "cell_type": "code",
   "execution_count": 9,
   "metadata": {
    "scrolled": true
   },
   "outputs": [
    {
     "name": "stdout",
     "output_type": "stream",
     "text": [
      "Loading data...\n",
      "Loaded dataAA/pv_HLT1CPU_MinBiasMagDown_14Nov.h5 in 18.08 s\n",
      "Loaded dataAA/pv_HLT1CPU_JpsiPhiMagDown_12Dec.h5 in 31.09 s\n",
      "Loaded dataAA/pv_HLT1CPU_D0piMagUp_12Dec.h5 in 30.36 s\n",
      "Loaded dataAA/pv_HLT1CPU_MinBiasMagUp_14Nov.h5 in 17.96 s\n",
      "Constructing 260000 event dataset took 1.717 s\n",
      "Loading data...\n",
      "Loaded dataAA/pv_HLT1CPU_MinBiasMagUp_14Nov.h5 in 17.83 s\n",
      "Constructing 18349 event dataset took 0.1767 s\n"
     ]
    }
   ],
   "source": [
    "## newer vernacular\n",
    "## Training dataset. You can put as many files here as desired.\n",
    "\n",
    "## in this DEMO example we use only one 80K training set -- the model starts with well-trained weights,\n",
    "## and using a smaller training set reduces both the time to load the data and the time to train an epoch\n",
    "##  set the option load_XandXsq = True to use both DKE and KDE^2 as input features\n",
    "##  added dataAA/pv_HLT1CPU_D0piMagUp_12Dec.h5  201212\n",
    "\n",
    "##  pv_HLT1CPU_D0piMagUp_12Dec.h5 + pv_HLT1CPU_MinBiasMagDown_14Nov.h5 contain 138810 events\n",
    "##  pv_HLT1CPU_MinBiasMagUp_14Nov.h5 contains 51349\n",
    "##  choose which to \"load\" and slices to produce 180K event training sample\n",
    "##   and 10159 event validation sample\n",
    "train_loader = collect_data_poca(\n",
    "                              'dataAA/pv_HLT1CPU_MinBiasMagDown_14Nov.h5',\n",
    "                              'dataAA/pv_HLT1CPU_JpsiPhiMagDown_12Dec.h5',\n",
    "                              'dataAA/pv_HLT1CPU_D0piMagUp_12Dec.h5',\n",
    "                              'dataAA/pv_HLT1CPU_MinBiasMagUp_14Nov.h5',\n",
    "                               slice = slice(None,260000),\n",
    "##                             device = device,\n",
    "                             batch_size=batch_size,\n",
    "## if we are using a larger dataset (240K events, with the datasets above, and 11 GB  of GPU memory),\n",
    "## not the dataset will overflow the GPU memory; device=device will allow the data to move back\n",
    "## and forth between the CPU and GPU memory. While this allows use of a larger dataset, it slows\n",
    "## down performance by about 10%.  So comment out when not needed.\n",
    "##                           device=device,\n",
    "                            masking=True, shuffle=True,\n",
    "                            load_XandXsq=False,\n",
    "                            load_A_and_B = True,\n",
    "                            load_xy=True)\n",
    "\n",
    "# Validation dataset. You can slice to reduce the size.\n",
    "## dataAA -> /share/lazy/sokoloff/ML-data_AA/\n",
    "val_loader = collect_data_poca(\n",
    "##                          'dataAA/pv_HLT1CPU_MinBiasMagDown_14Nov.h5',\n",
    "                            'dataAA/pv_HLT1CPU_MinBiasMagUp_14Nov.h5',\n",
    "##                            'dataAA/pv_HLT1CPU_D0piMagUp_12Dec.h5',\n",
    "                          batch_size=batch_size,\n",
    "                          slice=slice(33000,None),\n",
    "##                          device=device,\n",
    "                          masking=True, shuffle=False,\n",
    "                          load_XandXsq=False,\n",
    "                          load_A_and_B = True,\n",
    "                          load_xy=True)"
   ]
  },
  {
   "cell_type": "markdown",
   "metadata": {},
   "source": [
    "# Preparing the model"
   ]
  },
  {
   "cell_type": "markdown",
   "metadata": {},
   "source": [
    "Prepare a model, use multiple GPUs if they are VISIBLE, and move the model to the device."
   ]
  },
  {
   "cell_type": "code",
   "execution_count": 10,
   "metadata": {
    "scrolled": true
   },
   "outputs": [
    {
     "name": "stdout",
     "output_type": "stream",
     "text": [
      "ct, child =  0    Conv1d(2, 25, kernel_size=(25,), stride=(1,), padding=(12,))\n",
      "ct, child =  1    Conv1d(25, 25, kernel_size=(15,), stride=(1,), padding=(7,))\n",
      "ct, child =  2    Conv1d(25, 25, kernel_size=(15,), stride=(1,), padding=(7,))\n",
      "ct, child =  3    Conv1d(25, 25, kernel_size=(15,), stride=(1,), padding=(7,))\n",
      "ct, child =  4    Conv1d(25, 25, kernel_size=(15,), stride=(1,), padding=(7,))\n",
      "ct, child =  5    Conv1d(25, 25, kernel_size=(15,), stride=(1,), padding=(7,))\n",
      "ct, child =  6    Conv1d(25, 1, kernel_size=(5,), stride=(1,), padding=(2,))\n",
      "ct, child =  7    Dropout(p=0.15, inplace=False)\n",
      "ct, child =  8    Dropout(p=0.15, inplace=False)\n",
      "ct, child =  9    Dropout(p=0.15, inplace=False)\n",
      "ct, child =  10    Dropout(p=0.15, inplace=False)\n",
      "ct, child =  11    Dropout(p=0.15, inplace=False)\n",
      "ct, child =  12    Dropout(p=0.15, inplace=False)\n",
      "ct, child =  13    Dropout(p=0.15, inplace=False)\n",
      "ct, child =  14    Linear(in_features=4000, out_features=4000, bias=True)\n",
      "ct, child =  15    Conv1d(1, 1, kernel_size=(91,), stride=(1,), padding=(45,))\n",
      "ct, child =  16    Conv1d(2, 20, kernel_size=(25,), stride=(1,), padding=(12,))\n",
      "ct, child =  17    Conv1d(20, 15, kernel_size=(15,), stride=(1,), padding=(7,))\n",
      "ct, child =  18    Conv1d(15, 1, kernel_size=(5,), stride=(1,), padding=(2,))\n",
      "ct, child =  19    Linear(in_features=4000, out_features=4000, bias=True)\n",
      "ct, child =  20    Conv1d(1, 1, kernel_size=(31,), stride=(1,), padding=(15,))\n"
     ]
    }
   ],
   "source": [
    "model = Model()\n",
    "\n",
    "##summary(model, input_size=(4, 4000))\n",
    "##print(model.parameters)\n",
    "\n",
    "## add the following code to allow the user to freeze the some of the weights corresponding \n",
    "## to those taken from an earlier model trained with the original target histograms\n",
    "## presumably -- this leaves either the perturbative filter \"fixed\" and lets the \n",
    "## learning focus on the non-perturbative features, so get started faster, or vice versa\n",
    "ct = 0\n",
    "for child in model.children():\n",
    "  print('ct, child = ',ct, \"  \", child)\n",
    "  if ct < 0:\n",
    "    print(\"     About to set param.requires_grad=False for ct = \", ct, \"params\")\n",
    "    for param in child.parameters():\n",
    "        param.requires_grad = False \n",
    "  ct += 1\n",
    "##  mds 200121 loss = Loss(epsilon=1e-5,coefficient=1.0)\n",
    "loss = Loss(epsilon=1e-5,coefficient=10.0)\n",
    "optimizer = torch.optim.Adam(model.parameters(), lr=learning_rate)"
   ]
  },
  {
   "cell_type": "code",
   "execution_count": 11,
   "metadata": {
    "scrolled": true
   },
   "outputs": [
    {
     "name": "stdout",
     "output_type": "stream",
     "text": [
      "Let's use 1 GPUs!\n"
     ]
    }
   ],
   "source": [
    "print(\"Let's use\", torch.cuda.device_count(), \"GPUs!\")\n",
    "if torch.cuda.device_count() > 1:\n",
    "    model = torch.nn.DataParallel(model)"
   ]
  },
  {
   "cell_type": "markdown",
   "metadata": {},
   "source": [
    "Let's move the model's weight matricies to the GPU:"
   ]
  },
  {
   "cell_type": "code",
   "execution_count": 12,
   "metadata": {},
   "outputs": [
    {
     "name": "stdout",
     "output_type": "stream",
     "text": [
      "dictName =  ML/17December2020_AllCNN8Layer_withPcnn_50epochs_moreDataIter1_lr_1em6_aymm_5p5/17December2020_AllCNN8Layer_withPcnn_50epochs_moreDataIter1_lr_1em6_aymm_5p5_final.pyt\n",
      "for model_dict\n",
      "index, k =   0    conv1.weight\n",
      "index, k =   1    conv1.bias\n",
      "index, k =   2    conv2.weight\n",
      "index, k =   3    conv2.bias\n",
      "index, k =   4    conv3.weight\n",
      "index, k =   5    conv3.bias\n",
      "index, k =   6    conv4.weight\n",
      "index, k =   7    conv4.bias\n",
      "index, k =   8    conv5.weight\n",
      "index, k =   9    conv5.bias\n",
      "index, k =   10    conv6.weight\n",
      "index, k =   11    conv6.bias\n",
      "index, k =   12    conv7.weight\n",
      "index, k =   13    conv7.bias\n",
      "index, k =   14    fc1.weight\n",
      "index, k =   15    fc1.bias\n",
      "index, k =   16    finalFilter.weight\n",
      "index, k =   17    finalFilter.bias\n",
      "index, k =   18    ppConv1.weight\n",
      "index, k =   19    ppConv1.bias\n",
      "index, k =   20    ppConv2.weight\n",
      "index, k =   21    ppConv2.bias\n",
      "index, k =   22    ppConv3.weight\n",
      "index, k =   23    ppConv3.bias\n",
      "index, k =   24    ppFc1.weight\n",
      "index, k =   25    ppFc1.bias\n",
      "index, k =   26    ppFinalFilter.weight\n",
      "index, k =   27    ppFinalFilter.bias\n",
      " \n",
      "   for pretrained_dict\n",
      "index, k =   0    conv1.weight\n",
      "index, k =   1    conv1.bias\n",
      "index, k =   2    conv2.weight\n",
      "index, k =   3    conv2.bias\n",
      "index, k =   4    conv3.weight\n",
      "index, k =   5    conv3.bias\n",
      "index, k =   6    conv4.weight\n",
      "index, k =   7    conv4.bias\n",
      "index, k =   8    conv5.weight\n",
      "index, k =   9    conv5.bias\n",
      "index, k =   10    conv6.weight\n",
      "index, k =   11    conv6.bias\n",
      "index, k =   12    conv7.weight\n",
      "index, k =   13    conv7.bias\n",
      "index, k =   14    fc1.weight\n",
      "index, k =   15    fc1.bias\n",
      "index, k =   16    finalFilter.weight\n",
      "index, k =   17    finalFilter.bias\n",
      "index, k =   18    ppConv1.weight\n",
      "index, k =   19    ppConv1.bias\n",
      "index, k =   20    ppConv2.weight\n",
      "index, k =   21    ppConv2.bias\n",
      "index, k =   22    ppConv3.weight\n",
      "index, k =   23    ppConv3.bias\n",
      "index, k =   24    ppFc1.weight\n",
      "index, k =   25    ppFc1.bias\n",
      "index, k =   26    ppFinalFilter.weight\n",
      "index, k =   27    ppFinalFilter.bias\n",
      "model_dict instantiated\n"
     ]
    },
    {
     "data": {
      "text/plain": [
       "<All keys matched successfully>"
      ]
     },
     "execution_count": 12,
     "metadata": {},
     "output_type": "execute_result"
    }
   ],
   "source": [
    "##print('output = ',output)\n",
    "##print('oldOutput = ',oldOutput)\n",
    "##  use the first four layers from a pre-existing model\n",
    "##  see example at https://discuss.pytorch.org/t/how-to-load-part-of-pre-trained-model/1113\n",
    "\n",
    "##   ML -> /share/lazy/sokoloff/ML\n",
    "## not that m1p0 in file name is mis-leading  201212\n",
    "oldName = '17December2020_AllCNN8Layer_withPcnn_50epochs_moreDataIter1_lr_1em6_aymm_5p5'\n",
    "oldFolder = oldName\n",
    "suffix = 'final'\n",
    "dictName = 'ML/'+oldFolder+'/'+oldName+'_'+suffix+'.pyt'\n",
    "print('dictName = ',dictName)\n",
    "pretrained_dict = torch.load(dictName)\n",
    "model_dict = model.state_dict()\n",
    "## mds 190725 for debugging\n",
    "print(\"for model_dict\")\n",
    "index = 0\n",
    "for k,v in model_dict.items():\n",
    "    print(\"index, k =  \",index,\"  \",k)\n",
    "    index = index+1\n",
    "    \n",
    "print(\" \\n\",\"  for pretrained_dict\")\n",
    "index = 0\n",
    "for k,v in pretrained_dict.items():\n",
    "    print(\"index, k =  \",index,\"  \",k)\n",
    "    index = index+1\n",
    "## mds  \n",
    "\n",
    "print(\"model_dict instantiated\")\n",
    "# 1. filter out unnecessary keys\n",
    "pretrained_dict = {k: v for k, v in pretrained_dict.items() if k in model_dict}\n",
    "## print(\"pretrained_dict iterated\")\n",
    "# 2. overwrite entries in the existing state dict\n",
    "model_dict.update(pretrained_dict) \n",
    "##\n",
    "#   when starting from a model with a fully connected last layer rather than a convolutional layer\n",
    "# 3. load the new state dict\n",
    "#   need to use strict=False as the two models state model attributes do not agree exactly\n",
    "#   see https://pytorch.org/docs/master/_modules/torch/nn/modules/module.html#Module.load_state_dict\n",
    "\n",
    "model.load_state_dict(pretrained_dict,strict=False)\n",
    "\n",
    "## print('model_dict =    ', model_dict)\n"
   ]
  },
  {
   "cell_type": "code",
   "execution_count": 13,
   "metadata": {
    "scrolled": true
   },
   "outputs": [],
   "source": [
    "model = model.to(device)"
   ]
  },
  {
   "cell_type": "markdown",
   "metadata": {},
   "source": [
    "## Train \n",
    "\n",
    "\n",
    "\n",
    "The body of this loop runs once per epoch. Results is a named tuple of values (loss per epoch for training and validation, time each). Start by setting up a plot first:"
   ]
  },
  {
   "cell_type": "code",
   "execution_count": 14,
   "metadata": {
    "scrolled": false
   },
   "outputs": [
    {
     "data": {
      "application/javascript": [
       "/* Put everything inside the global mpl namespace */\n",
       "window.mpl = {};\n",
       "\n",
       "\n",
       "mpl.get_websocket_type = function() {\n",
       "    if (typeof(WebSocket) !== 'undefined') {\n",
       "        return WebSocket;\n",
       "    } else if (typeof(MozWebSocket) !== 'undefined') {\n",
       "        return MozWebSocket;\n",
       "    } else {\n",
       "        alert('Your browser does not have WebSocket support. ' +\n",
       "              'Please try Chrome, Safari or Firefox ≥ 6. ' +\n",
       "              'Firefox 4 and 5 are also supported but you ' +\n",
       "              'have to enable WebSockets in about:config.');\n",
       "    };\n",
       "}\n",
       "\n",
       "mpl.figure = function(figure_id, websocket, ondownload, parent_element) {\n",
       "    this.id = figure_id;\n",
       "\n",
       "    this.ws = websocket;\n",
       "\n",
       "    this.supports_binary = (this.ws.binaryType != undefined);\n",
       "\n",
       "    if (!this.supports_binary) {\n",
       "        var warnings = document.getElementById(\"mpl-warnings\");\n",
       "        if (warnings) {\n",
       "            warnings.style.display = 'block';\n",
       "            warnings.textContent = (\n",
       "                \"This browser does not support binary websocket messages. \" +\n",
       "                    \"Performance may be slow.\");\n",
       "        }\n",
       "    }\n",
       "\n",
       "    this.imageObj = new Image();\n",
       "\n",
       "    this.context = undefined;\n",
       "    this.message = undefined;\n",
       "    this.canvas = undefined;\n",
       "    this.rubberband_canvas = undefined;\n",
       "    this.rubberband_context = undefined;\n",
       "    this.format_dropdown = undefined;\n",
       "\n",
       "    this.image_mode = 'full';\n",
       "\n",
       "    this.root = $('<div/>');\n",
       "    this._root_extra_style(this.root)\n",
       "    this.root.attr('style', 'display: inline-block');\n",
       "\n",
       "    $(parent_element).append(this.root);\n",
       "\n",
       "    this._init_header(this);\n",
       "    this._init_canvas(this);\n",
       "    this._init_toolbar(this);\n",
       "\n",
       "    var fig = this;\n",
       "\n",
       "    this.waiting = false;\n",
       "\n",
       "    this.ws.onopen =  function () {\n",
       "            fig.send_message(\"supports_binary\", {value: fig.supports_binary});\n",
       "            fig.send_message(\"send_image_mode\", {});\n",
       "            if (mpl.ratio != 1) {\n",
       "                fig.send_message(\"set_dpi_ratio\", {'dpi_ratio': mpl.ratio});\n",
       "            }\n",
       "            fig.send_message(\"refresh\", {});\n",
       "        }\n",
       "\n",
       "    this.imageObj.onload = function() {\n",
       "            if (fig.image_mode == 'full') {\n",
       "                // Full images could contain transparency (where diff images\n",
       "                // almost always do), so we need to clear the canvas so that\n",
       "                // there is no ghosting.\n",
       "                fig.context.clearRect(0, 0, fig.canvas.width, fig.canvas.height);\n",
       "            }\n",
       "            fig.context.drawImage(fig.imageObj, 0, 0);\n",
       "        };\n",
       "\n",
       "    this.imageObj.onunload = function() {\n",
       "        fig.ws.close();\n",
       "    }\n",
       "\n",
       "    this.ws.onmessage = this._make_on_message_function(this);\n",
       "\n",
       "    this.ondownload = ondownload;\n",
       "}\n",
       "\n",
       "mpl.figure.prototype._init_header = function() {\n",
       "    var titlebar = $(\n",
       "        '<div class=\"ui-dialog-titlebar ui-widget-header ui-corner-all ' +\n",
       "        'ui-helper-clearfix\"/>');\n",
       "    var titletext = $(\n",
       "        '<div class=\"ui-dialog-title\" style=\"width: 100%; ' +\n",
       "        'text-align: center; padding: 3px;\"/>');\n",
       "    titlebar.append(titletext)\n",
       "    this.root.append(titlebar);\n",
       "    this.header = titletext[0];\n",
       "}\n",
       "\n",
       "\n",
       "\n",
       "mpl.figure.prototype._canvas_extra_style = function(canvas_div) {\n",
       "\n",
       "}\n",
       "\n",
       "\n",
       "mpl.figure.prototype._root_extra_style = function(canvas_div) {\n",
       "\n",
       "}\n",
       "\n",
       "mpl.figure.prototype._init_canvas = function() {\n",
       "    var fig = this;\n",
       "\n",
       "    var canvas_div = $('<div/>');\n",
       "\n",
       "    canvas_div.attr('style', 'position: relative; clear: both; outline: 0');\n",
       "\n",
       "    function canvas_keyboard_event(event) {\n",
       "        return fig.key_event(event, event['data']);\n",
       "    }\n",
       "\n",
       "    canvas_div.keydown('key_press', canvas_keyboard_event);\n",
       "    canvas_div.keyup('key_release', canvas_keyboard_event);\n",
       "    this.canvas_div = canvas_div\n",
       "    this._canvas_extra_style(canvas_div)\n",
       "    this.root.append(canvas_div);\n",
       "\n",
       "    var canvas = $('<canvas/>');\n",
       "    canvas.addClass('mpl-canvas');\n",
       "    canvas.attr('style', \"left: 0; top: 0; z-index: 0; outline: 0\")\n",
       "\n",
       "    this.canvas = canvas[0];\n",
       "    this.context = canvas[0].getContext(\"2d\");\n",
       "\n",
       "    var backingStore = this.context.backingStorePixelRatio ||\n",
       "\tthis.context.webkitBackingStorePixelRatio ||\n",
       "\tthis.context.mozBackingStorePixelRatio ||\n",
       "\tthis.context.msBackingStorePixelRatio ||\n",
       "\tthis.context.oBackingStorePixelRatio ||\n",
       "\tthis.context.backingStorePixelRatio || 1;\n",
       "\n",
       "    mpl.ratio = (window.devicePixelRatio || 1) / backingStore;\n",
       "\n",
       "    var rubberband = $('<canvas/>');\n",
       "    rubberband.attr('style', \"position: absolute; left: 0; top: 0; z-index: 1;\")\n",
       "\n",
       "    var pass_mouse_events = true;\n",
       "\n",
       "    canvas_div.resizable({\n",
       "        start: function(event, ui) {\n",
       "            pass_mouse_events = false;\n",
       "        },\n",
       "        resize: function(event, ui) {\n",
       "            fig.request_resize(ui.size.width, ui.size.height);\n",
       "        },\n",
       "        stop: function(event, ui) {\n",
       "            pass_mouse_events = true;\n",
       "            fig.request_resize(ui.size.width, ui.size.height);\n",
       "        },\n",
       "    });\n",
       "\n",
       "    function mouse_event_fn(event) {\n",
       "        if (pass_mouse_events)\n",
       "            return fig.mouse_event(event, event['data']);\n",
       "    }\n",
       "\n",
       "    rubberband.mousedown('button_press', mouse_event_fn);\n",
       "    rubberband.mouseup('button_release', mouse_event_fn);\n",
       "    // Throttle sequential mouse events to 1 every 20ms.\n",
       "    rubberband.mousemove('motion_notify', mouse_event_fn);\n",
       "\n",
       "    rubberband.mouseenter('figure_enter', mouse_event_fn);\n",
       "    rubberband.mouseleave('figure_leave', mouse_event_fn);\n",
       "\n",
       "    canvas_div.on(\"wheel\", function (event) {\n",
       "        event = event.originalEvent;\n",
       "        event['data'] = 'scroll'\n",
       "        if (event.deltaY < 0) {\n",
       "            event.step = 1;\n",
       "        } else {\n",
       "            event.step = -1;\n",
       "        }\n",
       "        mouse_event_fn(event);\n",
       "    });\n",
       "\n",
       "    canvas_div.append(canvas);\n",
       "    canvas_div.append(rubberband);\n",
       "\n",
       "    this.rubberband = rubberband;\n",
       "    this.rubberband_canvas = rubberband[0];\n",
       "    this.rubberband_context = rubberband[0].getContext(\"2d\");\n",
       "    this.rubberband_context.strokeStyle = \"#000000\";\n",
       "\n",
       "    this._resize_canvas = function(width, height) {\n",
       "        // Keep the size of the canvas, canvas container, and rubber band\n",
       "        // canvas in synch.\n",
       "        canvas_div.css('width', width)\n",
       "        canvas_div.css('height', height)\n",
       "\n",
       "        canvas.attr('width', width * mpl.ratio);\n",
       "        canvas.attr('height', height * mpl.ratio);\n",
       "        canvas.attr('style', 'width: ' + width + 'px; height: ' + height + 'px;');\n",
       "\n",
       "        rubberband.attr('width', width);\n",
       "        rubberband.attr('height', height);\n",
       "    }\n",
       "\n",
       "    // Set the figure to an initial 600x600px, this will subsequently be updated\n",
       "    // upon first draw.\n",
       "    this._resize_canvas(600, 600);\n",
       "\n",
       "    // Disable right mouse context menu.\n",
       "    $(this.rubberband_canvas).bind(\"contextmenu\",function(e){\n",
       "        return false;\n",
       "    });\n",
       "\n",
       "    function set_focus () {\n",
       "        canvas.focus();\n",
       "        canvas_div.focus();\n",
       "    }\n",
       "\n",
       "    window.setTimeout(set_focus, 100);\n",
       "}\n",
       "\n",
       "mpl.figure.prototype._init_toolbar = function() {\n",
       "    var fig = this;\n",
       "\n",
       "    var nav_element = $('<div/>');\n",
       "    nav_element.attr('style', 'width: 100%');\n",
       "    this.root.append(nav_element);\n",
       "\n",
       "    // Define a callback function for later on.\n",
       "    function toolbar_event(event) {\n",
       "        return fig.toolbar_button_onclick(event['data']);\n",
       "    }\n",
       "    function toolbar_mouse_event(event) {\n",
       "        return fig.toolbar_button_onmouseover(event['data']);\n",
       "    }\n",
       "\n",
       "    for(var toolbar_ind in mpl.toolbar_items) {\n",
       "        var name = mpl.toolbar_items[toolbar_ind][0];\n",
       "        var tooltip = mpl.toolbar_items[toolbar_ind][1];\n",
       "        var image = mpl.toolbar_items[toolbar_ind][2];\n",
       "        var method_name = mpl.toolbar_items[toolbar_ind][3];\n",
       "\n",
       "        if (!name) {\n",
       "            // put a spacer in here.\n",
       "            continue;\n",
       "        }\n",
       "        var button = $('<button/>');\n",
       "        button.addClass('ui-button ui-widget ui-state-default ui-corner-all ' +\n",
       "                        'ui-button-icon-only');\n",
       "        button.attr('role', 'button');\n",
       "        button.attr('aria-disabled', 'false');\n",
       "        button.click(method_name, toolbar_event);\n",
       "        button.mouseover(tooltip, toolbar_mouse_event);\n",
       "\n",
       "        var icon_img = $('<span/>');\n",
       "        icon_img.addClass('ui-button-icon-primary ui-icon');\n",
       "        icon_img.addClass(image);\n",
       "        icon_img.addClass('ui-corner-all');\n",
       "\n",
       "        var tooltip_span = $('<span/>');\n",
       "        tooltip_span.addClass('ui-button-text');\n",
       "        tooltip_span.html(tooltip);\n",
       "\n",
       "        button.append(icon_img);\n",
       "        button.append(tooltip_span);\n",
       "\n",
       "        nav_element.append(button);\n",
       "    }\n",
       "\n",
       "    var fmt_picker_span = $('<span/>');\n",
       "\n",
       "    var fmt_picker = $('<select/>');\n",
       "    fmt_picker.addClass('mpl-toolbar-option ui-widget ui-widget-content');\n",
       "    fmt_picker_span.append(fmt_picker);\n",
       "    nav_element.append(fmt_picker_span);\n",
       "    this.format_dropdown = fmt_picker[0];\n",
       "\n",
       "    for (var ind in mpl.extensions) {\n",
       "        var fmt = mpl.extensions[ind];\n",
       "        var option = $(\n",
       "            '<option/>', {selected: fmt === mpl.default_extension}).html(fmt);\n",
       "        fmt_picker.append(option);\n",
       "    }\n",
       "\n",
       "    // Add hover states to the ui-buttons\n",
       "    $( \".ui-button\" ).hover(\n",
       "        function() { $(this).addClass(\"ui-state-hover\");},\n",
       "        function() { $(this).removeClass(\"ui-state-hover\");}\n",
       "    );\n",
       "\n",
       "    var status_bar = $('<span class=\"mpl-message\"/>');\n",
       "    nav_element.append(status_bar);\n",
       "    this.message = status_bar[0];\n",
       "}\n",
       "\n",
       "mpl.figure.prototype.request_resize = function(x_pixels, y_pixels) {\n",
       "    // Request matplotlib to resize the figure. Matplotlib will then trigger a resize in the client,\n",
       "    // which will in turn request a refresh of the image.\n",
       "    this.send_message('resize', {'width': x_pixels, 'height': y_pixels});\n",
       "}\n",
       "\n",
       "mpl.figure.prototype.send_message = function(type, properties) {\n",
       "    properties['type'] = type;\n",
       "    properties['figure_id'] = this.id;\n",
       "    this.ws.send(JSON.stringify(properties));\n",
       "}\n",
       "\n",
       "mpl.figure.prototype.send_draw_message = function() {\n",
       "    if (!this.waiting) {\n",
       "        this.waiting = true;\n",
       "        this.ws.send(JSON.stringify({type: \"draw\", figure_id: this.id}));\n",
       "    }\n",
       "}\n",
       "\n",
       "\n",
       "mpl.figure.prototype.handle_save = function(fig, msg) {\n",
       "    var format_dropdown = fig.format_dropdown;\n",
       "    var format = format_dropdown.options[format_dropdown.selectedIndex].value;\n",
       "    fig.ondownload(fig, format);\n",
       "}\n",
       "\n",
       "\n",
       "mpl.figure.prototype.handle_resize = function(fig, msg) {\n",
       "    var size = msg['size'];\n",
       "    if (size[0] != fig.canvas.width || size[1] != fig.canvas.height) {\n",
       "        fig._resize_canvas(size[0], size[1]);\n",
       "        fig.send_message(\"refresh\", {});\n",
       "    };\n",
       "}\n",
       "\n",
       "mpl.figure.prototype.handle_rubberband = function(fig, msg) {\n",
       "    var x0 = msg['x0'] / mpl.ratio;\n",
       "    var y0 = (fig.canvas.height - msg['y0']) / mpl.ratio;\n",
       "    var x1 = msg['x1'] / mpl.ratio;\n",
       "    var y1 = (fig.canvas.height - msg['y1']) / mpl.ratio;\n",
       "    x0 = Math.floor(x0) + 0.5;\n",
       "    y0 = Math.floor(y0) + 0.5;\n",
       "    x1 = Math.floor(x1) + 0.5;\n",
       "    y1 = Math.floor(y1) + 0.5;\n",
       "    var min_x = Math.min(x0, x1);\n",
       "    var min_y = Math.min(y0, y1);\n",
       "    var width = Math.abs(x1 - x0);\n",
       "    var height = Math.abs(y1 - y0);\n",
       "\n",
       "    fig.rubberband_context.clearRect(\n",
       "        0, 0, fig.canvas.width / mpl.ratio, fig.canvas.height / mpl.ratio);\n",
       "\n",
       "    fig.rubberband_context.strokeRect(min_x, min_y, width, height);\n",
       "}\n",
       "\n",
       "mpl.figure.prototype.handle_figure_label = function(fig, msg) {\n",
       "    // Updates the figure title.\n",
       "    fig.header.textContent = msg['label'];\n",
       "}\n",
       "\n",
       "mpl.figure.prototype.handle_cursor = function(fig, msg) {\n",
       "    var cursor = msg['cursor'];\n",
       "    switch(cursor)\n",
       "    {\n",
       "    case 0:\n",
       "        cursor = 'pointer';\n",
       "        break;\n",
       "    case 1:\n",
       "        cursor = 'default';\n",
       "        break;\n",
       "    case 2:\n",
       "        cursor = 'crosshair';\n",
       "        break;\n",
       "    case 3:\n",
       "        cursor = 'move';\n",
       "        break;\n",
       "    }\n",
       "    fig.rubberband_canvas.style.cursor = cursor;\n",
       "}\n",
       "\n",
       "mpl.figure.prototype.handle_message = function(fig, msg) {\n",
       "    fig.message.textContent = msg['message'];\n",
       "}\n",
       "\n",
       "mpl.figure.prototype.handle_draw = function(fig, msg) {\n",
       "    // Request the server to send over a new figure.\n",
       "    fig.send_draw_message();\n",
       "}\n",
       "\n",
       "mpl.figure.prototype.handle_image_mode = function(fig, msg) {\n",
       "    fig.image_mode = msg['mode'];\n",
       "}\n",
       "\n",
       "mpl.figure.prototype.updated_canvas_event = function() {\n",
       "    // Called whenever the canvas gets updated.\n",
       "    this.send_message(\"ack\", {});\n",
       "}\n",
       "\n",
       "// A function to construct a web socket function for onmessage handling.\n",
       "// Called in the figure constructor.\n",
       "mpl.figure.prototype._make_on_message_function = function(fig) {\n",
       "    return function socket_on_message(evt) {\n",
       "        if (evt.data instanceof Blob) {\n",
       "            /* FIXME: We get \"Resource interpreted as Image but\n",
       "             * transferred with MIME type text/plain:\" errors on\n",
       "             * Chrome.  But how to set the MIME type?  It doesn't seem\n",
       "             * to be part of the websocket stream */\n",
       "            evt.data.type = \"image/png\";\n",
       "\n",
       "            /* Free the memory for the previous frames */\n",
       "            if (fig.imageObj.src) {\n",
       "                (window.URL || window.webkitURL).revokeObjectURL(\n",
       "                    fig.imageObj.src);\n",
       "            }\n",
       "\n",
       "            fig.imageObj.src = (window.URL || window.webkitURL).createObjectURL(\n",
       "                evt.data);\n",
       "            fig.updated_canvas_event();\n",
       "            fig.waiting = false;\n",
       "            return;\n",
       "        }\n",
       "        else if (typeof evt.data === 'string' && evt.data.slice(0, 21) == \"data:image/png;base64\") {\n",
       "            fig.imageObj.src = evt.data;\n",
       "            fig.updated_canvas_event();\n",
       "            fig.waiting = false;\n",
       "            return;\n",
       "        }\n",
       "\n",
       "        var msg = JSON.parse(evt.data);\n",
       "        var msg_type = msg['type'];\n",
       "\n",
       "        // Call the  \"handle_{type}\" callback, which takes\n",
       "        // the figure and JSON message as its only arguments.\n",
       "        try {\n",
       "            var callback = fig[\"handle_\" + msg_type];\n",
       "        } catch (e) {\n",
       "            console.log(\"No handler for the '\" + msg_type + \"' message type: \", msg);\n",
       "            return;\n",
       "        }\n",
       "\n",
       "        if (callback) {\n",
       "            try {\n",
       "                // console.log(\"Handling '\" + msg_type + \"' message: \", msg);\n",
       "                callback(fig, msg);\n",
       "            } catch (e) {\n",
       "                console.log(\"Exception inside the 'handler_\" + msg_type + \"' callback:\", e, e.stack, msg);\n",
       "            }\n",
       "        }\n",
       "    };\n",
       "}\n",
       "\n",
       "// from http://stackoverflow.com/questions/1114465/getting-mouse-location-in-canvas\n",
       "mpl.findpos = function(e) {\n",
       "    //this section is from http://www.quirksmode.org/js/events_properties.html\n",
       "    var targ;\n",
       "    if (!e)\n",
       "        e = window.event;\n",
       "    if (e.target)\n",
       "        targ = e.target;\n",
       "    else if (e.srcElement)\n",
       "        targ = e.srcElement;\n",
       "    if (targ.nodeType == 3) // defeat Safari bug\n",
       "        targ = targ.parentNode;\n",
       "\n",
       "    // jQuery normalizes the pageX and pageY\n",
       "    // pageX,Y are the mouse positions relative to the document\n",
       "    // offset() returns the position of the element relative to the document\n",
       "    var x = e.pageX - $(targ).offset().left;\n",
       "    var y = e.pageY - $(targ).offset().top;\n",
       "\n",
       "    return {\"x\": x, \"y\": y};\n",
       "};\n",
       "\n",
       "/*\n",
       " * return a copy of an object with only non-object keys\n",
       " * we need this to avoid circular references\n",
       " * http://stackoverflow.com/a/24161582/3208463\n",
       " */\n",
       "function simpleKeys (original) {\n",
       "  return Object.keys(original).reduce(function (obj, key) {\n",
       "    if (typeof original[key] !== 'object')\n",
       "        obj[key] = original[key]\n",
       "    return obj;\n",
       "  }, {});\n",
       "}\n",
       "\n",
       "mpl.figure.prototype.mouse_event = function(event, name) {\n",
       "    var canvas_pos = mpl.findpos(event)\n",
       "\n",
       "    if (name === 'button_press')\n",
       "    {\n",
       "        this.canvas.focus();\n",
       "        this.canvas_div.focus();\n",
       "    }\n",
       "\n",
       "    var x = canvas_pos.x * mpl.ratio;\n",
       "    var y = canvas_pos.y * mpl.ratio;\n",
       "\n",
       "    this.send_message(name, {x: x, y: y, button: event.button,\n",
       "                             step: event.step,\n",
       "                             guiEvent: simpleKeys(event)});\n",
       "\n",
       "    /* This prevents the web browser from automatically changing to\n",
       "     * the text insertion cursor when the button is pressed.  We want\n",
       "     * to control all of the cursor setting manually through the\n",
       "     * 'cursor' event from matplotlib */\n",
       "    event.preventDefault();\n",
       "    return false;\n",
       "}\n",
       "\n",
       "mpl.figure.prototype._key_event_extra = function(event, name) {\n",
       "    // Handle any extra behaviour associated with a key event\n",
       "}\n",
       "\n",
       "mpl.figure.prototype.key_event = function(event, name) {\n",
       "\n",
       "    // Prevent repeat events\n",
       "    if (name == 'key_press')\n",
       "    {\n",
       "        if (event.which === this._key)\n",
       "            return;\n",
       "        else\n",
       "            this._key = event.which;\n",
       "    }\n",
       "    if (name == 'key_release')\n",
       "        this._key = null;\n",
       "\n",
       "    var value = '';\n",
       "    if (event.ctrlKey && event.which != 17)\n",
       "        value += \"ctrl+\";\n",
       "    if (event.altKey && event.which != 18)\n",
       "        value += \"alt+\";\n",
       "    if (event.shiftKey && event.which != 16)\n",
       "        value += \"shift+\";\n",
       "\n",
       "    value += 'k';\n",
       "    value += event.which.toString();\n",
       "\n",
       "    this._key_event_extra(event, name);\n",
       "\n",
       "    this.send_message(name, {key: value,\n",
       "                             guiEvent: simpleKeys(event)});\n",
       "    return false;\n",
       "}\n",
       "\n",
       "mpl.figure.prototype.toolbar_button_onclick = function(name) {\n",
       "    if (name == 'download') {\n",
       "        this.handle_save(this, null);\n",
       "    } else {\n",
       "        this.send_message(\"toolbar_button\", {name: name});\n",
       "    }\n",
       "};\n",
       "\n",
       "mpl.figure.prototype.toolbar_button_onmouseover = function(tooltip) {\n",
       "    this.message.textContent = tooltip;\n",
       "};\n",
       "mpl.toolbar_items = [[\"Home\", \"Reset original view\", \"fa fa-home icon-home\", \"home\"], [\"Back\", \"Back to previous view\", \"fa fa-arrow-left icon-arrow-left\", \"back\"], [\"Forward\", \"Forward to next view\", \"fa fa-arrow-right icon-arrow-right\", \"forward\"], [\"\", \"\", \"\", \"\"], [\"Pan\", \"Pan axes with left mouse, zoom with right\", \"fa fa-arrows icon-move\", \"pan\"], [\"Zoom\", \"Zoom to rectangle\", \"fa fa-square-o icon-check-empty\", \"zoom\"], [\"\", \"\", \"\", \"\"], [\"Download\", \"Download plot\", \"fa fa-floppy-o icon-save\", \"download\"]];\n",
       "\n",
       "mpl.extensions = [\"eps\", \"jpeg\", \"pdf\", \"png\", \"ps\", \"raw\", \"svg\", \"tif\"];\n",
       "\n",
       "mpl.default_extension = \"png\";var comm_websocket_adapter = function(comm) {\n",
       "    // Create a \"websocket\"-like object which calls the given IPython comm\n",
       "    // object with the appropriate methods. Currently this is a non binary\n",
       "    // socket, so there is still some room for performance tuning.\n",
       "    var ws = {};\n",
       "\n",
       "    ws.close = function() {\n",
       "        comm.close()\n",
       "    };\n",
       "    ws.send = function(m) {\n",
       "        //console.log('sending', m);\n",
       "        comm.send(m);\n",
       "    };\n",
       "    // Register the callback with on_msg.\n",
       "    comm.on_msg(function(msg) {\n",
       "        //console.log('receiving', msg['content']['data'], msg);\n",
       "        // Pass the mpl event to the overridden (by mpl) onmessage function.\n",
       "        ws.onmessage(msg['content']['data'])\n",
       "    });\n",
       "    return ws;\n",
       "}\n",
       "\n",
       "mpl.mpl_figure_comm = function(comm, msg) {\n",
       "    // This is the function which gets called when the mpl process\n",
       "    // starts-up an IPython Comm through the \"matplotlib\" channel.\n",
       "\n",
       "    var id = msg.content.data.id;\n",
       "    // Get hold of the div created by the display call when the Comm\n",
       "    // socket was opened in Python.\n",
       "    var element = $(\"#\" + id);\n",
       "    var ws_proxy = comm_websocket_adapter(comm)\n",
       "\n",
       "    function ondownload(figure, format) {\n",
       "        window.open(figure.imageObj.src);\n",
       "    }\n",
       "\n",
       "    var fig = new mpl.figure(id, ws_proxy,\n",
       "                           ondownload,\n",
       "                           element.get(0));\n",
       "\n",
       "    // Call onopen now - mpl needs it, as it is assuming we've passed it a real\n",
       "    // web socket which is closed, not our websocket->open comm proxy.\n",
       "    ws_proxy.onopen();\n",
       "\n",
       "    fig.parent_element = element.get(0);\n",
       "    fig.cell_info = mpl.find_output_cell(\"<div id='\" + id + \"'></div>\");\n",
       "    if (!fig.cell_info) {\n",
       "        console.error(\"Failed to find cell for figure\", id, fig);\n",
       "        return;\n",
       "    }\n",
       "\n",
       "    var output_index = fig.cell_info[2]\n",
       "    var cell = fig.cell_info[0];\n",
       "\n",
       "};\n",
       "\n",
       "mpl.figure.prototype.handle_close = function(fig, msg) {\n",
       "    var width = fig.canvas.width/mpl.ratio\n",
       "    fig.root.unbind('remove')\n",
       "\n",
       "    // Update the output cell to use the data from the current canvas.\n",
       "    fig.push_to_output();\n",
       "    var dataURL = fig.canvas.toDataURL();\n",
       "    // Re-enable the keyboard manager in IPython - without this line, in FF,\n",
       "    // the notebook keyboard shortcuts fail.\n",
       "    IPython.keyboard_manager.enable()\n",
       "    $(fig.parent_element).html('<img src=\"' + dataURL + '\" width=\"' + width + '\">');\n",
       "    fig.close_ws(fig, msg);\n",
       "}\n",
       "\n",
       "mpl.figure.prototype.close_ws = function(fig, msg){\n",
       "    fig.send_message('closing', msg);\n",
       "    // fig.ws.close()\n",
       "}\n",
       "\n",
       "mpl.figure.prototype.push_to_output = function(remove_interactive) {\n",
       "    // Turn the data on the canvas into data in the output cell.\n",
       "    var width = this.canvas.width/mpl.ratio\n",
       "    var dataURL = this.canvas.toDataURL();\n",
       "    this.cell_info[1]['text/html'] = '<img src=\"' + dataURL + '\" width=\"' + width + '\">';\n",
       "}\n",
       "\n",
       "mpl.figure.prototype.updated_canvas_event = function() {\n",
       "    // Tell IPython that the notebook contents must change.\n",
       "    IPython.notebook.set_dirty(true);\n",
       "    this.send_message(\"ack\", {});\n",
       "    var fig = this;\n",
       "    // Wait a second, then push the new image to the DOM so\n",
       "    // that it is saved nicely (might be nice to debounce this).\n",
       "    setTimeout(function () { fig.push_to_output() }, 1000);\n",
       "}\n",
       "\n",
       "mpl.figure.prototype._init_toolbar = function() {\n",
       "    var fig = this;\n",
       "\n",
       "    var nav_element = $('<div/>');\n",
       "    nav_element.attr('style', 'width: 100%');\n",
       "    this.root.append(nav_element);\n",
       "\n",
       "    // Define a callback function for later on.\n",
       "    function toolbar_event(event) {\n",
       "        return fig.toolbar_button_onclick(event['data']);\n",
       "    }\n",
       "    function toolbar_mouse_event(event) {\n",
       "        return fig.toolbar_button_onmouseover(event['data']);\n",
       "    }\n",
       "\n",
       "    for(var toolbar_ind in mpl.toolbar_items){\n",
       "        var name = mpl.toolbar_items[toolbar_ind][0];\n",
       "        var tooltip = mpl.toolbar_items[toolbar_ind][1];\n",
       "        var image = mpl.toolbar_items[toolbar_ind][2];\n",
       "        var method_name = mpl.toolbar_items[toolbar_ind][3];\n",
       "\n",
       "        if (!name) { continue; };\n",
       "\n",
       "        var button = $('<button class=\"btn btn-default\" href=\"#\" title=\"' + name + '\"><i class=\"fa ' + image + ' fa-lg\"></i></button>');\n",
       "        button.click(method_name, toolbar_event);\n",
       "        button.mouseover(tooltip, toolbar_mouse_event);\n",
       "        nav_element.append(button);\n",
       "    }\n",
       "\n",
       "    // Add the status bar.\n",
       "    var status_bar = $('<span class=\"mpl-message\" style=\"text-align:right; float: right;\"/>');\n",
       "    nav_element.append(status_bar);\n",
       "    this.message = status_bar[0];\n",
       "\n",
       "    // Add the close button to the window.\n",
       "    var buttongrp = $('<div class=\"btn-group inline pull-right\"></div>');\n",
       "    var button = $('<button class=\"btn btn-mini btn-primary\" href=\"#\" title=\"Stop Interaction\"><i class=\"fa fa-power-off icon-remove icon-large\"></i></button>');\n",
       "    button.click(function (evt) { fig.handle_close(fig, {}); } );\n",
       "    button.mouseover('Stop Interaction', toolbar_mouse_event);\n",
       "    buttongrp.append(button);\n",
       "    var titlebar = this.root.find($('.ui-dialog-titlebar'));\n",
       "    titlebar.prepend(buttongrp);\n",
       "}\n",
       "\n",
       "mpl.figure.prototype._root_extra_style = function(el){\n",
       "    var fig = this\n",
       "    el.on(\"remove\", function(){\n",
       "\tfig.close_ws(fig, {});\n",
       "    });\n",
       "}\n",
       "\n",
       "mpl.figure.prototype._canvas_extra_style = function(el){\n",
       "    // this is important to make the div 'focusable\n",
       "    el.attr('tabindex', 0)\n",
       "    // reach out to IPython and tell the keyboard manager to turn it's self\n",
       "    // off when our div gets focus\n",
       "\n",
       "    // location in version 3\n",
       "    if (IPython.notebook.keyboard_manager) {\n",
       "        IPython.notebook.keyboard_manager.register_events(el);\n",
       "    }\n",
       "    else {\n",
       "        // location in version 2\n",
       "        IPython.keyboard_manager.register_events(el);\n",
       "    }\n",
       "\n",
       "}\n",
       "\n",
       "mpl.figure.prototype._key_event_extra = function(event, name) {\n",
       "    var manager = IPython.notebook.keyboard_manager;\n",
       "    if (!manager)\n",
       "        manager = IPython.keyboard_manager;\n",
       "\n",
       "    // Check for shift+enter\n",
       "    if (event.shiftKey && event.which == 13) {\n",
       "        this.canvas_div.blur();\n",
       "        // select the cell after this one\n",
       "        var index = IPython.notebook.find_cell_index(this.cell_info[0]);\n",
       "        IPython.notebook.select(index + 1);\n",
       "    }\n",
       "}\n",
       "\n",
       "mpl.figure.prototype.handle_save = function(fig, msg) {\n",
       "    fig.ondownload(fig, null);\n",
       "}\n",
       "\n",
       "\n",
       "mpl.find_output_cell = function(html_output) {\n",
       "    // Return the cell and output element which can be found *uniquely* in the notebook.\n",
       "    // Note - this is a bit hacky, but it is done because the \"notebook_saving.Notebook\"\n",
       "    // IPython event is triggered only after the cells have been serialised, which for\n",
       "    // our purposes (turning an active figure into a static one), is too late.\n",
       "    var cells = IPython.notebook.get_cells();\n",
       "    var ncells = cells.length;\n",
       "    for (var i=0; i<ncells; i++) {\n",
       "        var cell = cells[i];\n",
       "        if (cell.cell_type === 'code'){\n",
       "            for (var j=0; j<cell.output_area.outputs.length; j++) {\n",
       "                var data = cell.output_area.outputs[j];\n",
       "                if (data.data) {\n",
       "                    // IPython >= 3 moved mimebundle to data attribute of output\n",
       "                    data = data.data;\n",
       "                }\n",
       "                if (data['text/html'] == html_output) {\n",
       "                    return [cell, data, j];\n",
       "                }\n",
       "            }\n",
       "        }\n",
       "    }\n",
       "}\n",
       "\n",
       "// Register the function which deals with the matplotlib target/channel.\n",
       "// The kernel may be null if the page has been refreshed.\n",
       "if (IPython.notebook.kernel != null) {\n",
       "    IPython.notebook.kernel.comm_manager.register_target('matplotlib', mpl.mpl_figure_comm);\n",
       "}\n"
      ],
      "text/plain": [
       "<IPython.core.display.Javascript object>"
      ]
     },
     "metadata": {},
     "output_type": "display_data"
    },
    {
     "data": {
      "text/html": [
       "<img src=\"data:image/png;base64,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\" width=\"999.75\">"
      ],
      "text/plain": [
       "<IPython.core.display.HTML object>"
      ]
     },
     "metadata": {},
     "output_type": "display_data"
    }
   ],
   "source": [
    "ax, tax, lax, lines = dual_train_plots()\n",
    "fig = ax.figure\n",
    "plt.tight_layout()"
   ]
  },
  {
   "cell_type": "code",
   "execution_count": 15,
   "metadata": {
    "scrolled": false
   },
   "outputs": [
    {
     "name": "stdout",
     "output_type": "stream",
     "text": [
      "Number of batches: train = 2032, val = 144\n"
     ]
    },
    {
     "data": {
      "application/vnd.jupyter.widget-view+json": {
       "model_id": "81b1155604ac4ebfa397e57bc2d121e3",
       "version_major": 2,
       "version_minor": 0
      },
      "text/plain": [
       "HBox(children=(FloatProgress(value=0.0, description='Epochs', layout=Layout(flex='2'), max=50.0, style=Progres…"
      ]
     },
     "metadata": {},
     "output_type": "display_data"
    },
    {
     "data": {
      "application/vnd.jupyter.widget-view+json": {
       "model_id": "",
       "version_major": 2,
       "version_minor": 0
      },
      "text/plain": [
       "HBox(children=(FloatProgress(value=0.0, description='Training', layout=Layout(flex='2'), max=2032.0, style=Pro…"
      ]
     },
     "metadata": {},
     "output_type": "display_data"
    },
    {
     "name": "stdout",
     "output_type": "stream",
     "text": [
      "x0 =  tensor([[5.6011e-33, 2.7108e-35, 1.2445e-37,  ..., 3.0754e-19, 7.4827e-10,\n",
      "         7.7467e-12],\n",
      "        [1.7973e-28, 3.2475e-36, 2.4583e-39,  ..., 2.1909e-10, 3.9337e-12,\n",
      "         4.0417e-09],\n",
      "        [5.5279e-34, 1.1809e-39, 4.9886e-43,  ..., 1.6952e-21, 2.5313e-19,\n",
      "         1.8526e-19],\n",
      "        ...,\n",
      "        [1.2253e-11, 3.7843e-14, 5.8268e-15,  ..., 3.0019e-23, 5.3335e-23,\n",
      "         1.0693e-20],\n",
      "        [2.4351e-30, 1.6476e-31, 1.4700e-34,  ..., 2.8780e-25, 1.9690e-26,\n",
      "         2.4843e-26],\n",
      "        [1.0899e-32, 1.3979e-39, 1.5954e-40,  ..., 8.4943e-19, 3.4474e-21,\n",
      "         4.6597e-19]], device='cuda:0', grad_fn=<SoftplusBackward>)\n",
      "x1 =  tensor([[ 0.0823,  0.0742,  0.0657,  ..., -0.0688, -0.0377, -0.0072],\n",
      "        [ 0.0203, -0.0047, -0.0272,  ..., -0.0980, -0.0638, -0.0321],\n",
      "        [ 0.1022,  0.1030,  0.1041,  ..., -0.0452, -0.0134,  0.0114],\n",
      "        ...,\n",
      "        [ 0.0983,  0.0983,  0.0978,  ..., -0.0336, -0.0048,  0.0209],\n",
      "        [ 0.0135, -0.0132, -0.0371,  ..., -0.0616, -0.0313, -0.0017],\n",
      "        [ 0.0407,  0.0194, -0.0080,  ..., -0.0112,  0.0099,  0.0329]],\n",
      "       device='cuda:0', grad_fn=<ViewBackward>)\n",
      "neuronValues =  tensor([[4.6078e-34, 2.0114e-36, 8.1785e-39,  ..., -0.0000e+00, -0.0000e+00,\n",
      "         -0.0000e+00],\n",
      "        [3.6459e-30, -0.0000e+00, -0.0000e+00,  ..., -0.0000e+00, -0.0000e+00,\n",
      "         -0.0000e+00],\n",
      "        [5.6520e-35, 1.2163e-40, 5.1848e-44,  ..., -0.0000e+00, -0.0000e+00,\n",
      "         2.1034e-21],\n",
      "        ...,\n",
      "        [1.2040e-12, 3.7182e-15, 5.6986e-16,  ..., -0.0000e+00, -0.0000e+00,\n",
      "         2.2317e-22],\n",
      "        [3.2814e-32, -0.0000e+00, -0.0000e+00,  ..., -0.0000e+00, -0.0000e+00,\n",
      "         -0.0000e+00],\n",
      "        [4.4322e-34, 2.7053e-41, -0.0000e+00,  ..., -0.0000e+00, 3.4228e-23,\n",
      "         1.5342e-20]], device='cuda:0', grad_fn=<LeakyReluBackward0>)\n",
      "Epoch 0: train=7.90115, val=7.10688, took 110.43 s\n",
      "  Validation Found 91966 of 93880, added 4126 (eff 97.96%) (0.225 FP/event)\n"
     ]
    },
    {
     "data": {
      "application/vnd.jupyter.widget-view+json": {
       "model_id": "",
       "version_major": 2,
       "version_minor": 0
      },
      "text/plain": [
       "HBox(children=(FloatProgress(value=0.0, description='Training', layout=Layout(flex='2'), max=2032.0, style=Pro…"
      ]
     },
     "metadata": {},
     "output_type": "display_data"
    },
    {
     "name": "stdout",
     "output_type": "stream",
     "text": [
      "Epoch 1: train=7.83714, val=7.0943, took 99.364 s\n",
      "  Validation Found 91964 of 93880, added 4171 (eff 97.96%) (0.227 FP/event)\n"
     ]
    },
    {
     "data": {
      "application/vnd.jupyter.widget-view+json": {
       "model_id": "",
       "version_major": 2,
       "version_minor": 0
      },
      "text/plain": [
       "HBox(children=(FloatProgress(value=0.0, description='Training', layout=Layout(flex='2'), max=2032.0, style=Pro…"
      ]
     },
     "metadata": {},
     "output_type": "display_data"
    },
    {
     "name": "stdout",
     "output_type": "stream",
     "text": [
      "Epoch 2: train=7.83302, val=7.08802, took 97.152 s\n",
      "  Validation Found 91960 of 93880, added 4142 (eff 97.95%) (0.226 FP/event)\n"
     ]
    },
    {
     "data": {
      "application/vnd.jupyter.widget-view+json": {
       "model_id": "",
       "version_major": 2,
       "version_minor": 0
      },
      "text/plain": [
       "HBox(children=(FloatProgress(value=0.0, description='Training', layout=Layout(flex='2'), max=2032.0, style=Pro…"
      ]
     },
     "metadata": {},
     "output_type": "display_data"
    },
    {
     "name": "stdout",
     "output_type": "stream",
     "text": [
      "Epoch 3: train=7.83105, val=7.08389, took 96.303 s\n",
      "  Validation Found 91961 of 93880, added 4151 (eff 97.96%) (0.226 FP/event)\n"
     ]
    },
    {
     "data": {
      "application/vnd.jupyter.widget-view+json": {
       "model_id": "",
       "version_major": 2,
       "version_minor": 0
      },
      "text/plain": [
       "HBox(children=(FloatProgress(value=0.0, description='Training', layout=Layout(flex='2'), max=2032.0, style=Pro…"
      ]
     },
     "metadata": {},
     "output_type": "display_data"
    },
    {
     "name": "stdout",
     "output_type": "stream",
     "text": [
      "Epoch 4: train=7.8284, val=7.08355, took 97.092 s\n",
      "  Validation Found 91960 of 93880, added 4122 (eff 97.95%) (0.225 FP/event)\n"
     ]
    },
    {
     "data": {
      "application/vnd.jupyter.widget-view+json": {
       "model_id": "",
       "version_major": 2,
       "version_minor": 0
      },
      "text/plain": [
       "HBox(children=(FloatProgress(value=0.0, description='Training', layout=Layout(flex='2'), max=2032.0, style=Pro…"
      ]
     },
     "metadata": {},
     "output_type": "display_data"
    },
    {
     "name": "stdout",
     "output_type": "stream",
     "text": [
      "Epoch 5: train=7.82669, val=7.07931, took 95.962 s\n",
      "  Validation Found 91957 of 93880, added 4144 (eff 97.95%) (0.226 FP/event)\n"
     ]
    },
    {
     "data": {
      "application/vnd.jupyter.widget-view+json": {
       "model_id": "",
       "version_major": 2,
       "version_minor": 0
      },
      "text/plain": [
       "HBox(children=(FloatProgress(value=0.0, description='Training', layout=Layout(flex='2'), max=2032.0, style=Pro…"
      ]
     },
     "metadata": {},
     "output_type": "display_data"
    },
    {
     "name": "stdout",
     "output_type": "stream",
     "text": [
      "Epoch 6: train=7.82605, val=7.08025, took 96.379 s\n",
      "  Validation Found 91953 of 93880, added 4099 (eff 97.95%) (0.223 FP/event)\n"
     ]
    },
    {
     "data": {
      "application/vnd.jupyter.widget-view+json": {
       "model_id": "",
       "version_major": 2,
       "version_minor": 0
      },
      "text/plain": [
       "HBox(children=(FloatProgress(value=0.0, description='Training', layout=Layout(flex='2'), max=2032.0, style=Pro…"
      ]
     },
     "metadata": {},
     "output_type": "display_data"
    },
    {
     "name": "stdout",
     "output_type": "stream",
     "text": [
      "Epoch 7: train=7.82059, val=7.0741, took 96.327 s\n",
      "  Validation Found 91956 of 93880, added 4164 (eff 97.95%) (0.227 FP/event)\n"
     ]
    },
    {
     "data": {
      "application/vnd.jupyter.widget-view+json": {
       "model_id": "",
       "version_major": 2,
       "version_minor": 0
      },
      "text/plain": [
       "HBox(children=(FloatProgress(value=0.0, description='Training', layout=Layout(flex='2'), max=2032.0, style=Pro…"
      ]
     },
     "metadata": {},
     "output_type": "display_data"
    },
    {
     "name": "stdout",
     "output_type": "stream",
     "text": [
      "Epoch 8: train=7.81703, val=7.07296, took 96.691 s\n",
      "  Validation Found 91949 of 93880, added 4107 (eff 97.94%) (0.224 FP/event)\n"
     ]
    },
    {
     "data": {
      "application/vnd.jupyter.widget-view+json": {
       "model_id": "",
       "version_major": 2,
       "version_minor": 0
      },
      "text/plain": [
       "HBox(children=(FloatProgress(value=0.0, description='Training', layout=Layout(flex='2'), max=2032.0, style=Pro…"
      ]
     },
     "metadata": {},
     "output_type": "display_data"
    },
    {
     "name": "stdout",
     "output_type": "stream",
     "text": [
      "Epoch 9: train=7.81748, val=7.07265, took 96.215 s\n",
      "  Validation Found 91960 of 93880, added 4101 (eff 97.95%) (0.223 FP/event)\n"
     ]
    },
    {
     "data": {
      "application/vnd.jupyter.widget-view+json": {
       "model_id": "",
       "version_major": 2,
       "version_minor": 0
      },
      "text/plain": [
       "HBox(children=(FloatProgress(value=0.0, description='Training', layout=Layout(flex='2'), max=2032.0, style=Pro…"
      ]
     },
     "metadata": {},
     "output_type": "display_data"
    },
    {
     "name": "stdout",
     "output_type": "stream",
     "text": [
      "Epoch 10: train=7.82261, val=7.069, took 96.102 s\n",
      "  Validation Found 91960 of 93880, added 4177 (eff 97.95%) (0.228 FP/event)\n"
     ]
    },
    {
     "data": {
      "application/vnd.jupyter.widget-view+json": {
       "model_id": "",
       "version_major": 2,
       "version_minor": 0
      },
      "text/plain": [
       "HBox(children=(FloatProgress(value=0.0, description='Training', layout=Layout(flex='2'), max=2032.0, style=Pro…"
      ]
     },
     "metadata": {},
     "output_type": "display_data"
    },
    {
     "name": "stdout",
     "output_type": "stream",
     "text": [
      "Epoch 11: train=7.82619, val=7.06985, took 96.925 s\n",
      "  Validation Found 91951 of 93880, added 4108 (eff 97.95%) (0.224 FP/event)\n"
     ]
    },
    {
     "data": {
      "application/vnd.jupyter.widget-view+json": {
       "model_id": "",
       "version_major": 2,
       "version_minor": 0
      },
      "text/plain": [
       "HBox(children=(FloatProgress(value=0.0, description='Training', layout=Layout(flex='2'), max=2032.0, style=Pro…"
      ]
     },
     "metadata": {},
     "output_type": "display_data"
    },
    {
     "name": "stdout",
     "output_type": "stream",
     "text": [
      "Epoch 12: train=7.81363, val=7.06694, took 96.012 s\n",
      "  Validation Found 91954 of 93880, added 4136 (eff 97.95%) (0.225 FP/event)\n"
     ]
    },
    {
     "data": {
      "application/vnd.jupyter.widget-view+json": {
       "model_id": "",
       "version_major": 2,
       "version_minor": 0
      },
      "text/plain": [
       "HBox(children=(FloatProgress(value=0.0, description='Training', layout=Layout(flex='2'), max=2032.0, style=Pro…"
      ]
     },
     "metadata": {},
     "output_type": "display_data"
    },
    {
     "name": "stdout",
     "output_type": "stream",
     "text": [
      "Epoch 13: train=7.81989, val=7.06631, took 96.775 s\n",
      "  Validation Found 91955 of 93880, added 4111 (eff 97.95%) (0.224 FP/event)\n"
     ]
    },
    {
     "data": {
      "application/vnd.jupyter.widget-view+json": {
       "model_id": "",
       "version_major": 2,
       "version_minor": 0
      },
      "text/plain": [
       "HBox(children=(FloatProgress(value=0.0, description='Training', layout=Layout(flex='2'), max=2032.0, style=Pro…"
      ]
     },
     "metadata": {},
     "output_type": "display_data"
    },
    {
     "name": "stdout",
     "output_type": "stream",
     "text": [
      "Epoch 14: train=7.81936, val=7.06613, took 96.828 s\n",
      "  Validation Found 91950 of 93880, added 4110 (eff 97.94%) (0.224 FP/event)\n"
     ]
    },
    {
     "data": {
      "application/vnd.jupyter.widget-view+json": {
       "model_id": "",
       "version_major": 2,
       "version_minor": 0
      },
      "text/plain": [
       "HBox(children=(FloatProgress(value=0.0, description='Training', layout=Layout(flex='2'), max=2032.0, style=Pro…"
      ]
     },
     "metadata": {},
     "output_type": "display_data"
    },
    {
     "name": "stdout",
     "output_type": "stream",
     "text": [
      "Epoch 15: train=7.81545, val=7.0652, took 96.401 s\n",
      "  Validation Found 91947 of 93880, added 4148 (eff 97.94%) (0.226 FP/event)\n"
     ]
    },
    {
     "data": {
      "application/vnd.jupyter.widget-view+json": {
       "model_id": "",
       "version_major": 2,
       "version_minor": 0
      },
      "text/plain": [
       "HBox(children=(FloatProgress(value=0.0, description='Training', layout=Layout(flex='2'), max=2032.0, style=Pro…"
      ]
     },
     "metadata": {},
     "output_type": "display_data"
    },
    {
     "name": "stdout",
     "output_type": "stream",
     "text": [
      "Epoch 16: train=7.81275, val=7.06383, took 96.22 s\n",
      "  Validation Found 91954 of 93880, added 4143 (eff 97.95%) (0.226 FP/event)\n"
     ]
    },
    {
     "data": {
      "application/vnd.jupyter.widget-view+json": {
       "model_id": "",
       "version_major": 2,
       "version_minor": 0
      },
      "text/plain": [
       "HBox(children=(FloatProgress(value=0.0, description='Training', layout=Layout(flex='2'), max=2032.0, style=Pro…"
      ]
     },
     "metadata": {},
     "output_type": "display_data"
    },
    {
     "name": "stdout",
     "output_type": "stream",
     "text": [
      "Epoch 17: train=7.8107, val=7.06641, took 97.442 s\n",
      "  Validation Found 91947 of 93880, added 4103 (eff 97.94%) (0.224 FP/event)\n"
     ]
    },
    {
     "data": {
      "application/vnd.jupyter.widget-view+json": {
       "model_id": "",
       "version_major": 2,
       "version_minor": 0
      },
      "text/plain": [
       "HBox(children=(FloatProgress(value=0.0, description='Training', layout=Layout(flex='2'), max=2032.0, style=Pro…"
      ]
     },
     "metadata": {},
     "output_type": "display_data"
    },
    {
     "name": "stdout",
     "output_type": "stream",
     "text": [
      "Epoch 18: train=7.81032, val=7.06661, took 97.261 s\n",
      "  Validation Found 91943 of 93880, added 4081 (eff 97.94%) (0.222 FP/event)\n"
     ]
    },
    {
     "data": {
      "application/vnd.jupyter.widget-view+json": {
       "model_id": "",
       "version_major": 2,
       "version_minor": 0
      },
      "text/plain": [
       "HBox(children=(FloatProgress(value=0.0, description='Training', layout=Layout(flex='2'), max=2032.0, style=Pro…"
      ]
     },
     "metadata": {},
     "output_type": "display_data"
    },
    {
     "name": "stdout",
     "output_type": "stream",
     "text": [
      "Epoch 19: train=7.81286, val=7.06373, took 96.205 s\n",
      "  Validation Found 91948 of 93880, added 4135 (eff 97.94%) (0.225 FP/event)\n"
     ]
    },
    {
     "data": {
      "application/vnd.jupyter.widget-view+json": {
       "model_id": "",
       "version_major": 2,
       "version_minor": 0
      },
      "text/plain": [
       "HBox(children=(FloatProgress(value=0.0, description='Training', layout=Layout(flex='2'), max=2032.0, style=Pro…"
      ]
     },
     "metadata": {},
     "output_type": "display_data"
    },
    {
     "name": "stdout",
     "output_type": "stream",
     "text": [
      "Epoch 20: train=7.81079, val=7.06541, took 96.044 s\n",
      "  Validation Found 91943 of 93880, added 4090 (eff 97.94%) (0.223 FP/event)\n"
     ]
    },
    {
     "data": {
      "application/vnd.jupyter.widget-view+json": {
       "model_id": "",
       "version_major": 2,
       "version_minor": 0
      },
      "text/plain": [
       "HBox(children=(FloatProgress(value=0.0, description='Training', layout=Layout(flex='2'), max=2032.0, style=Pro…"
      ]
     },
     "metadata": {},
     "output_type": "display_data"
    },
    {
     "name": "stdout",
     "output_type": "stream",
     "text": [
      "Epoch 21: train=7.8099, val=7.06633, took 96.286 s\n",
      "  Validation Found 91937 of 93880, added 4082 (eff 97.93%) (0.222 FP/event)\n"
     ]
    },
    {
     "data": {
      "application/vnd.jupyter.widget-view+json": {
       "model_id": "",
       "version_major": 2,
       "version_minor": 0
      },
      "text/plain": [
       "HBox(children=(FloatProgress(value=0.0, description='Training', layout=Layout(flex='2'), max=2032.0, style=Pro…"
      ]
     },
     "metadata": {},
     "output_type": "display_data"
    },
    {
     "name": "stdout",
     "output_type": "stream",
     "text": [
      "Epoch 22: train=7.80973, val=7.06325, took 96.299 s\n",
      "  Validation Found 91944 of 93880, added 4115 (eff 97.94%) (0.224 FP/event)\n"
     ]
    },
    {
     "data": {
      "application/vnd.jupyter.widget-view+json": {
       "model_id": "",
       "version_major": 2,
       "version_minor": 0
      },
      "text/plain": [
       "HBox(children=(FloatProgress(value=0.0, description='Training', layout=Layout(flex='2'), max=2032.0, style=Pro…"
      ]
     },
     "metadata": {},
     "output_type": "display_data"
    },
    {
     "name": "stdout",
     "output_type": "stream",
     "text": [
      "Epoch 23: train=7.80807, val=7.06071, took 96.155 s\n",
      "  Validation Found 91953 of 93880, added 4120 (eff 97.95%) (0.225 FP/event)\n"
     ]
    },
    {
     "data": {
      "application/vnd.jupyter.widget-view+json": {
       "model_id": "",
       "version_major": 2,
       "version_minor": 0
      },
      "text/plain": [
       "HBox(children=(FloatProgress(value=0.0, description='Training', layout=Layout(flex='2'), max=2032.0, style=Pro…"
      ]
     },
     "metadata": {},
     "output_type": "display_data"
    },
    {
     "name": "stdout",
     "output_type": "stream",
     "text": [
      "Epoch 24: train=7.80801, val=7.06129, took 96.299 s\n",
      "  Validation Found 91948 of 93880, added 4103 (eff 97.94%) (0.224 FP/event)\n"
     ]
    },
    {
     "data": {
      "application/vnd.jupyter.widget-view+json": {
       "model_id": "",
       "version_major": 2,
       "version_minor": 0
      },
      "text/plain": [
       "HBox(children=(FloatProgress(value=0.0, description='Training', layout=Layout(flex='2'), max=2032.0, style=Pro…"
      ]
     },
     "metadata": {},
     "output_type": "display_data"
    },
    {
     "name": "stdout",
     "output_type": "stream",
     "text": [
      "Epoch 25: train=7.80865, val=7.06172, took 96.013 s\n",
      "  Validation Found 91952 of 93880, added 4124 (eff 97.95%) (0.225 FP/event)\n"
     ]
    },
    {
     "data": {
      "application/vnd.jupyter.widget-view+json": {
       "model_id": "",
       "version_major": 2,
       "version_minor": 0
      },
      "text/plain": [
       "HBox(children=(FloatProgress(value=0.0, description='Training', layout=Layout(flex='2'), max=2032.0, style=Pro…"
      ]
     },
     "metadata": {},
     "output_type": "display_data"
    },
    {
     "name": "stdout",
     "output_type": "stream",
     "text": [
      "Epoch 26: train=7.80568, val=7.06128, took 96.277 s\n",
      "  Validation Found 91949 of 93880, added 4100 (eff 97.94%) (0.223 FP/event)\n"
     ]
    },
    {
     "data": {
      "application/vnd.jupyter.widget-view+json": {
       "model_id": "",
       "version_major": 2,
       "version_minor": 0
      },
      "text/plain": [
       "HBox(children=(FloatProgress(value=0.0, description='Training', layout=Layout(flex='2'), max=2032.0, style=Pro…"
      ]
     },
     "metadata": {},
     "output_type": "display_data"
    },
    {
     "name": "stdout",
     "output_type": "stream",
     "text": [
      "Epoch 27: train=7.80583, val=7.05851, took 96.021 s\n",
      "  Validation Found 91951 of 93880, added 4103 (eff 97.95%) (0.224 FP/event)\n"
     ]
    },
    {
     "data": {
      "application/vnd.jupyter.widget-view+json": {
       "model_id": "",
       "version_major": 2,
       "version_minor": 0
      },
      "text/plain": [
       "HBox(children=(FloatProgress(value=0.0, description='Training', layout=Layout(flex='2'), max=2032.0, style=Pro…"
      ]
     },
     "metadata": {},
     "output_type": "display_data"
    },
    {
     "name": "stdout",
     "output_type": "stream",
     "text": [
      "Epoch 28: train=7.80411, val=7.06006, took 96.922 s\n",
      "  Validation Found 91946 of 93880, added 4080 (eff 97.94%) (0.222 FP/event)\n"
     ]
    },
    {
     "data": {
      "application/vnd.jupyter.widget-view+json": {
       "model_id": "",
       "version_major": 2,
       "version_minor": 0
      },
      "text/plain": [
       "HBox(children=(FloatProgress(value=0.0, description='Training', layout=Layout(flex='2'), max=2032.0, style=Pro…"
      ]
     },
     "metadata": {},
     "output_type": "display_data"
    },
    {
     "name": "stdout",
     "output_type": "stream",
     "text": [
      "Epoch 29: train=7.80372, val=7.05949, took 97.315 s\n",
      "  Validation Found 91946 of 93880, added 4123 (eff 97.94%) (0.225 FP/event)\n"
     ]
    },
    {
     "data": {
      "application/vnd.jupyter.widget-view+json": {
       "model_id": "",
       "version_major": 2,
       "version_minor": 0
      },
      "text/plain": [
       "HBox(children=(FloatProgress(value=0.0, description='Training', layout=Layout(flex='2'), max=2032.0, style=Pro…"
      ]
     },
     "metadata": {},
     "output_type": "display_data"
    },
    {
     "name": "stdout",
     "output_type": "stream",
     "text": [
      "Epoch 30: train=7.8108, val=7.06136, took 97.231 s\n",
      "  Validation Found 91948 of 93880, added 4116 (eff 97.94%) (0.224 FP/event)\n"
     ]
    },
    {
     "data": {
      "application/vnd.jupyter.widget-view+json": {
       "model_id": "",
       "version_major": 2,
       "version_minor": 0
      },
      "text/plain": [
       "HBox(children=(FloatProgress(value=0.0, description='Training', layout=Layout(flex='2'), max=2032.0, style=Pro…"
      ]
     },
     "metadata": {},
     "output_type": "display_data"
    },
    {
     "name": "stdout",
     "output_type": "stream",
     "text": [
      "Epoch 31: train=7.81047, val=7.05902, took 96.171 s\n",
      "  Validation Found 91949 of 93880, added 4104 (eff 97.94%) (0.224 FP/event)\n"
     ]
    },
    {
     "data": {
      "application/vnd.jupyter.widget-view+json": {
       "model_id": "",
       "version_major": 2,
       "version_minor": 0
      },
      "text/plain": [
       "HBox(children=(FloatProgress(value=0.0, description='Training', layout=Layout(flex='2'), max=2032.0, style=Pro…"
      ]
     },
     "metadata": {},
     "output_type": "display_data"
    },
    {
     "name": "stdout",
     "output_type": "stream",
     "text": [
      "Epoch 32: train=7.80575, val=7.06078, took 96.177 s\n",
      "  Validation Found 91941 of 93880, added 4065 (eff 97.93%) (0.222 FP/event)\n"
     ]
    },
    {
     "data": {
      "application/vnd.jupyter.widget-view+json": {
       "model_id": "",
       "version_major": 2,
       "version_minor": 0
      },
      "text/plain": [
       "HBox(children=(FloatProgress(value=0.0, description='Training', layout=Layout(flex='2'), max=2032.0, style=Pro…"
      ]
     },
     "metadata": {},
     "output_type": "display_data"
    },
    {
     "name": "stdout",
     "output_type": "stream",
     "text": [
      "Epoch 33: train=7.80849, val=7.05715, took 96.174 s\n",
      "  Validation Found 91958 of 93880, added 4131 (eff 97.95%) (0.225 FP/event)\n"
     ]
    },
    {
     "data": {
      "application/vnd.jupyter.widget-view+json": {
       "model_id": "",
       "version_major": 2,
       "version_minor": 0
      },
      "text/plain": [
       "HBox(children=(FloatProgress(value=0.0, description='Training', layout=Layout(flex='2'), max=2032.0, style=Pro…"
      ]
     },
     "metadata": {},
     "output_type": "display_data"
    },
    {
     "name": "stdout",
     "output_type": "stream",
     "text": [
      "Epoch 34: train=7.80461, val=7.05617, took 96.199 s\n",
      "  Validation Found 91954 of 93880, added 4122 (eff 97.95%) (0.225 FP/event)\n"
     ]
    },
    {
     "data": {
      "application/vnd.jupyter.widget-view+json": {
       "model_id": "",
       "version_major": 2,
       "version_minor": 0
      },
      "text/plain": [
       "HBox(children=(FloatProgress(value=0.0, description='Training', layout=Layout(flex='2'), max=2032.0, style=Pro…"
      ]
     },
     "metadata": {},
     "output_type": "display_data"
    },
    {
     "name": "stdout",
     "output_type": "stream",
     "text": [
      "Epoch 35: train=7.80017, val=7.05664, took 96.041 s\n",
      "  Validation Found 91948 of 93880, added 4077 (eff 97.94%) (0.222 FP/event)\n"
     ]
    },
    {
     "data": {
      "application/vnd.jupyter.widget-view+json": {
       "model_id": "",
       "version_major": 2,
       "version_minor": 0
      },
      "text/plain": [
       "HBox(children=(FloatProgress(value=0.0, description='Training', layout=Layout(flex='2'), max=2032.0, style=Pro…"
      ]
     },
     "metadata": {},
     "output_type": "display_data"
    },
    {
     "name": "stdout",
     "output_type": "stream",
     "text": [
      "Epoch 36: train=7.80224, val=7.05583, took 96.351 s\n",
      "  Validation Found 91951 of 93880, added 4129 (eff 97.95%) (0.225 FP/event)\n"
     ]
    },
    {
     "data": {
      "application/vnd.jupyter.widget-view+json": {
       "model_id": "",
       "version_major": 2,
       "version_minor": 0
      },
      "text/plain": [
       "HBox(children=(FloatProgress(value=0.0, description='Training', layout=Layout(flex='2'), max=2032.0, style=Pro…"
      ]
     },
     "metadata": {},
     "output_type": "display_data"
    },
    {
     "name": "stdout",
     "output_type": "stream",
     "text": [
      "Epoch 37: train=7.80376, val=7.056, took 96.177 s\n",
      "  Validation Found 91952 of 93880, added 4141 (eff 97.95%) (0.226 FP/event)\n"
     ]
    },
    {
     "data": {
      "application/vnd.jupyter.widget-view+json": {
       "model_id": "",
       "version_major": 2,
       "version_minor": 0
      },
      "text/plain": [
       "HBox(children=(FloatProgress(value=0.0, description='Training', layout=Layout(flex='2'), max=2032.0, style=Pro…"
      ]
     },
     "metadata": {},
     "output_type": "display_data"
    },
    {
     "name": "stdout",
     "output_type": "stream",
     "text": [
      "Epoch 38: train=7.8022, val=7.05564, took 96.205 s\n",
      "  Validation Found 91949 of 93880, added 4101 (eff 97.94%) (0.223 FP/event)\n"
     ]
    },
    {
     "data": {
      "application/vnd.jupyter.widget-view+json": {
       "model_id": "",
       "version_major": 2,
       "version_minor": 0
      },
      "text/plain": [
       "HBox(children=(FloatProgress(value=0.0, description='Training', layout=Layout(flex='2'), max=2032.0, style=Pro…"
      ]
     },
     "metadata": {},
     "output_type": "display_data"
    },
    {
     "name": "stdout",
     "output_type": "stream",
     "text": [
      "Epoch 39: train=7.80051, val=7.0567, took 96.148 s\n",
      "  Validation Found 91952 of 93880, added 4093 (eff 97.95%) (0.223 FP/event)\n"
     ]
    },
    {
     "data": {
      "application/vnd.jupyter.widget-view+json": {
       "model_id": "",
       "version_major": 2,
       "version_minor": 0
      },
      "text/plain": [
       "HBox(children=(FloatProgress(value=0.0, description='Training', layout=Layout(flex='2'), max=2032.0, style=Pro…"
      ]
     },
     "metadata": {},
     "output_type": "display_data"
    },
    {
     "name": "stdout",
     "output_type": "stream",
     "text": [
      "Epoch 40: train=7.8042, val=7.0575, took 96.19 s\n",
      "  Validation Found 91942 of 93880, added 4080 (eff 97.94%) (0.222 FP/event)\n"
     ]
    },
    {
     "data": {
      "application/vnd.jupyter.widget-view+json": {
       "model_id": "",
       "version_major": 2,
       "version_minor": 0
      },
      "text/plain": [
       "HBox(children=(FloatProgress(value=0.0, description='Training', layout=Layout(flex='2'), max=2032.0, style=Pro…"
      ]
     },
     "metadata": {},
     "output_type": "display_data"
    },
    {
     "name": "stdout",
     "output_type": "stream",
     "text": [
      "Epoch 41: train=7.80061, val=7.05428, took 96.157 s\n",
      "  Validation Found 91951 of 93880, added 4135 (eff 97.95%) (0.225 FP/event)\n"
     ]
    },
    {
     "data": {
      "application/vnd.jupyter.widget-view+json": {
       "model_id": "",
       "version_major": 2,
       "version_minor": 0
      },
      "text/plain": [
       "HBox(children=(FloatProgress(value=0.0, description='Training', layout=Layout(flex='2'), max=2032.0, style=Pro…"
      ]
     },
     "metadata": {},
     "output_type": "display_data"
    },
    {
     "name": "stdout",
     "output_type": "stream",
     "text": [
      "Epoch 42: train=7.79871, val=7.05736, took 96.074 s\n",
      "  Validation Found 91937 of 93880, added 4074 (eff 97.93%) (0.222 FP/event)\n"
     ]
    },
    {
     "data": {
      "application/vnd.jupyter.widget-view+json": {
       "model_id": "",
       "version_major": 2,
       "version_minor": 0
      },
      "text/plain": [
       "HBox(children=(FloatProgress(value=0.0, description='Training', layout=Layout(flex='2'), max=2032.0, style=Pro…"
      ]
     },
     "metadata": {},
     "output_type": "display_data"
    },
    {
     "name": "stdout",
     "output_type": "stream",
     "text": [
      "Epoch 43: train=7.79996, val=7.05179, took 96.087 s\n",
      "  Validation Found 91954 of 93880, added 4141 (eff 97.95%) (0.226 FP/event)\n"
     ]
    },
    {
     "data": {
      "application/vnd.jupyter.widget-view+json": {
       "model_id": "",
       "version_major": 2,
       "version_minor": 0
      },
      "text/plain": [
       "HBox(children=(FloatProgress(value=0.0, description='Training', layout=Layout(flex='2'), max=2032.0, style=Pro…"
      ]
     },
     "metadata": {},
     "output_type": "display_data"
    },
    {
     "name": "stdout",
     "output_type": "stream",
     "text": [
      "Epoch 44: train=7.8042, val=7.05463, took 96.912 s\n",
      "  Validation Found 91944 of 93880, added 4066 (eff 97.94%) (0.222 FP/event)\n"
     ]
    },
    {
     "data": {
      "application/vnd.jupyter.widget-view+json": {
       "model_id": "",
       "version_major": 2,
       "version_minor": 0
      },
      "text/plain": [
       "HBox(children=(FloatProgress(value=0.0, description='Training', layout=Layout(flex='2'), max=2032.0, style=Pro…"
      ]
     },
     "metadata": {},
     "output_type": "display_data"
    },
    {
     "name": "stdout",
     "output_type": "stream",
     "text": [
      "Epoch 45: train=7.79907, val=7.05085, took 97.311 s\n",
      "  Validation Found 91956 of 93880, added 4151 (eff 97.95%) (0.226 FP/event)\n"
     ]
    },
    {
     "data": {
      "application/vnd.jupyter.widget-view+json": {
       "model_id": "",
       "version_major": 2,
       "version_minor": 0
      },
      "text/plain": [
       "HBox(children=(FloatProgress(value=0.0, description='Training', layout=Layout(flex='2'), max=2032.0, style=Pro…"
      ]
     },
     "metadata": {},
     "output_type": "display_data"
    },
    {
     "name": "stdout",
     "output_type": "stream",
     "text": [
      "Epoch 46: train=7.80094, val=7.05247, took 97.278 s\n",
      "  Validation Found 91955 of 93880, added 4123 (eff 97.95%) (0.225 FP/event)\n"
     ]
    },
    {
     "data": {
      "application/vnd.jupyter.widget-view+json": {
       "model_id": "",
       "version_major": 2,
       "version_minor": 0
      },
      "text/plain": [
       "HBox(children=(FloatProgress(value=0.0, description='Training', layout=Layout(flex='2'), max=2032.0, style=Pro…"
      ]
     },
     "metadata": {},
     "output_type": "display_data"
    },
    {
     "name": "stdout",
     "output_type": "stream",
     "text": [
      "Epoch 47: train=7.79874, val=7.0536, took 96.476 s\n",
      "  Validation Found 91944 of 93880, added 4080 (eff 97.94%) (0.222 FP/event)\n"
     ]
    },
    {
     "data": {
      "application/vnd.jupyter.widget-view+json": {
       "model_id": "",
       "version_major": 2,
       "version_minor": 0
      },
      "text/plain": [
       "HBox(children=(FloatProgress(value=0.0, description='Training', layout=Layout(flex='2'), max=2032.0, style=Pro…"
      ]
     },
     "metadata": {},
     "output_type": "display_data"
    },
    {
     "name": "stdout",
     "output_type": "stream",
     "text": [
      "Epoch 48: train=7.80032, val=7.0547, took 96.994 s\n",
      "  Validation Found 91947 of 93880, added 4083 (eff 97.94%) (0.223 FP/event)\n"
     ]
    },
    {
     "data": {
      "application/vnd.jupyter.widget-view+json": {
       "model_id": "",
       "version_major": 2,
       "version_minor": 0
      },
      "text/plain": [
       "HBox(children=(FloatProgress(value=0.0, description='Training', layout=Layout(flex='2'), max=2032.0, style=Pro…"
      ]
     },
     "metadata": {},
     "output_type": "display_data"
    },
    {
     "name": "stdout",
     "output_type": "stream",
     "text": [
      "Epoch 49: train=7.80043, val=7.05499, took 96.63 s\n",
      "  Validation Found 91945 of 93880, added 4071 (eff 97.94%) (0.222 FP/event)\n",
      "\n"
     ]
    }
   ],
   "source": [
    "for result in trainNet(model, optimizer, loss,\n",
    "                        train_loader, val_loader,\n",
    "                        n_epochs, epoch_start=len(results),\n",
    "                        notebook=True):\n",
    "    \n",
    "    results = results.append(pd.Series(result._asdict()), ignore_index=True)\n",
    "    \n",
    "    xs = results.index\n",
    "    \n",
    "    # Update the plot above\n",
    "    lines['train'].set_data(results.index,results.cost)\n",
    "    lines['val'].set_data(results.index,results.val)\n",
    "    \n",
    "    #filter first cost epoch (can be really large)\n",
    "    max_cost = max(max(results.cost if len(results.cost)<2 else results.cost[1:]), max(results.val))\n",
    "    min_cost = min(min(results.cost), min(results.val))\n",
    "    \n",
    "    # The plot limits need updating too\n",
    "    \n",
    "    \n",
    "    \n",
    "    ax.set_ylim(min_cost*.9, max_cost*1.1)  \n",
    "    ax.set_xlim(-.5, len(results.cost) - .5)\n",
    "    \n",
    "    replace_in_ax(lax, lines['eff'], xs, results['eff_val'].apply(lambda x: x.eff_rate))\n",
    "    replace_in_ax(tax, lines['fp'], xs, results['eff_val'].apply(lambda x: x.fp_rate))\n",
    "    \n",
    "    # Redraw the figure\n",
    "    fig.canvas.draw()\n",
    "\n",
    "    # Save each model state dictionary\n",
    "    torch.save(model.state_dict(), output / f'{name}_{result.epoch}.pyt')"
   ]
  },
  {
   "cell_type": "markdown",
   "metadata": {},
   "source": [
    "# Results\n",
    "\n",
    "Let's save some results: (even though if you have not changed the code above, it saves the model every epoch)"
   ]
  },
  {
   "cell_type": "markdown",
   "metadata": {},
   "source": [
    "Go ahead and save the final model (even though it was also saved above):"
   ]
  },
  {
   "cell_type": "code",
   "execution_count": 16,
   "metadata": {},
   "outputs": [],
   "source": [
    "torch.save(model.state_dict(), output / f'{name}_final.pyt')"
   ]
  },
  {
   "cell_type": "markdown",
   "metadata": {},
   "source": [
    "Save the output results:"
   ]
  },
  {
   "cell_type": "code",
   "execution_count": 17,
   "metadata": {},
   "outputs": [
    {
     "name": "stderr",
     "output_type": "stream",
     "text": [
      "/data/conda/envs/goofit/lib/python3.7/site-packages/pandas/core/generic.py:2505: PerformanceWarning: \n",
      "your performance may suffer as PyTables will pickle object types that it cannot\n",
      "map directly to c-types [inferred_type->mixed-integer,key->block1_values] [items->Index(['epoch', 'eff_val'], dtype='object')]\n",
      "\n",
      "  encoding=encoding,\n"
     ]
    }
   ],
   "source": [
    "results.to_hdf(f'{name}_stats.hdf5', 'results')"
   ]
  },
  {
   "cell_type": "markdown",
   "metadata": {},
   "source": [
    "Save the plot above:"
   ]
  },
  {
   "cell_type": "code",
   "execution_count": 18,
   "metadata": {
    "scrolled": false
   },
   "outputs": [
    {
     "data": {
      "application/javascript": [
       "/* Put everything inside the global mpl namespace */\n",
       "window.mpl = {};\n",
       "\n",
       "\n",
       "mpl.get_websocket_type = function() {\n",
       "    if (typeof(WebSocket) !== 'undefined') {\n",
       "        return WebSocket;\n",
       "    } else if (typeof(MozWebSocket) !== 'undefined') {\n",
       "        return MozWebSocket;\n",
       "    } else {\n",
       "        alert('Your browser does not have WebSocket support. ' +\n",
       "              'Please try Chrome, Safari or Firefox ≥ 6. ' +\n",
       "              'Firefox 4 and 5 are also supported but you ' +\n",
       "              'have to enable WebSockets in about:config.');\n",
       "    };\n",
       "}\n",
       "\n",
       "mpl.figure = function(figure_id, websocket, ondownload, parent_element) {\n",
       "    this.id = figure_id;\n",
       "\n",
       "    this.ws = websocket;\n",
       "\n",
       "    this.supports_binary = (this.ws.binaryType != undefined);\n",
       "\n",
       "    if (!this.supports_binary) {\n",
       "        var warnings = document.getElementById(\"mpl-warnings\");\n",
       "        if (warnings) {\n",
       "            warnings.style.display = 'block';\n",
       "            warnings.textContent = (\n",
       "                \"This browser does not support binary websocket messages. \" +\n",
       "                    \"Performance may be slow.\");\n",
       "        }\n",
       "    }\n",
       "\n",
       "    this.imageObj = new Image();\n",
       "\n",
       "    this.context = undefined;\n",
       "    this.message = undefined;\n",
       "    this.canvas = undefined;\n",
       "    this.rubberband_canvas = undefined;\n",
       "    this.rubberband_context = undefined;\n",
       "    this.format_dropdown = undefined;\n",
       "\n",
       "    this.image_mode = 'full';\n",
       "\n",
       "    this.root = $('<div/>');\n",
       "    this._root_extra_style(this.root)\n",
       "    this.root.attr('style', 'display: inline-block');\n",
       "\n",
       "    $(parent_element).append(this.root);\n",
       "\n",
       "    this._init_header(this);\n",
       "    this._init_canvas(this);\n",
       "    this._init_toolbar(this);\n",
       "\n",
       "    var fig = this;\n",
       "\n",
       "    this.waiting = false;\n",
       "\n",
       "    this.ws.onopen =  function () {\n",
       "            fig.send_message(\"supports_binary\", {value: fig.supports_binary});\n",
       "            fig.send_message(\"send_image_mode\", {});\n",
       "            if (mpl.ratio != 1) {\n",
       "                fig.send_message(\"set_dpi_ratio\", {'dpi_ratio': mpl.ratio});\n",
       "            }\n",
       "            fig.send_message(\"refresh\", {});\n",
       "        }\n",
       "\n",
       "    this.imageObj.onload = function() {\n",
       "            if (fig.image_mode == 'full') {\n",
       "                // Full images could contain transparency (where diff images\n",
       "                // almost always do), so we need to clear the canvas so that\n",
       "                // there is no ghosting.\n",
       "                fig.context.clearRect(0, 0, fig.canvas.width, fig.canvas.height);\n",
       "            }\n",
       "            fig.context.drawImage(fig.imageObj, 0, 0);\n",
       "        };\n",
       "\n",
       "    this.imageObj.onunload = function() {\n",
       "        fig.ws.close();\n",
       "    }\n",
       "\n",
       "    this.ws.onmessage = this._make_on_message_function(this);\n",
       "\n",
       "    this.ondownload = ondownload;\n",
       "}\n",
       "\n",
       "mpl.figure.prototype._init_header = function() {\n",
       "    var titlebar = $(\n",
       "        '<div class=\"ui-dialog-titlebar ui-widget-header ui-corner-all ' +\n",
       "        'ui-helper-clearfix\"/>');\n",
       "    var titletext = $(\n",
       "        '<div class=\"ui-dialog-title\" style=\"width: 100%; ' +\n",
       "        'text-align: center; padding: 3px;\"/>');\n",
       "    titlebar.append(titletext)\n",
       "    this.root.append(titlebar);\n",
       "    this.header = titletext[0];\n",
       "}\n",
       "\n",
       "\n",
       "\n",
       "mpl.figure.prototype._canvas_extra_style = function(canvas_div) {\n",
       "\n",
       "}\n",
       "\n",
       "\n",
       "mpl.figure.prototype._root_extra_style = function(canvas_div) {\n",
       "\n",
       "}\n",
       "\n",
       "mpl.figure.prototype._init_canvas = function() {\n",
       "    var fig = this;\n",
       "\n",
       "    var canvas_div = $('<div/>');\n",
       "\n",
       "    canvas_div.attr('style', 'position: relative; clear: both; outline: 0');\n",
       "\n",
       "    function canvas_keyboard_event(event) {\n",
       "        return fig.key_event(event, event['data']);\n",
       "    }\n",
       "\n",
       "    canvas_div.keydown('key_press', canvas_keyboard_event);\n",
       "    canvas_div.keyup('key_release', canvas_keyboard_event);\n",
       "    this.canvas_div = canvas_div\n",
       "    this._canvas_extra_style(canvas_div)\n",
       "    this.root.append(canvas_div);\n",
       "\n",
       "    var canvas = $('<canvas/>');\n",
       "    canvas.addClass('mpl-canvas');\n",
       "    canvas.attr('style', \"left: 0; top: 0; z-index: 0; outline: 0\")\n",
       "\n",
       "    this.canvas = canvas[0];\n",
       "    this.context = canvas[0].getContext(\"2d\");\n",
       "\n",
       "    var backingStore = this.context.backingStorePixelRatio ||\n",
       "\tthis.context.webkitBackingStorePixelRatio ||\n",
       "\tthis.context.mozBackingStorePixelRatio ||\n",
       "\tthis.context.msBackingStorePixelRatio ||\n",
       "\tthis.context.oBackingStorePixelRatio ||\n",
       "\tthis.context.backingStorePixelRatio || 1;\n",
       "\n",
       "    mpl.ratio = (window.devicePixelRatio || 1) / backingStore;\n",
       "\n",
       "    var rubberband = $('<canvas/>');\n",
       "    rubberband.attr('style', \"position: absolute; left: 0; top: 0; z-index: 1;\")\n",
       "\n",
       "    var pass_mouse_events = true;\n",
       "\n",
       "    canvas_div.resizable({\n",
       "        start: function(event, ui) {\n",
       "            pass_mouse_events = false;\n",
       "        },\n",
       "        resize: function(event, ui) {\n",
       "            fig.request_resize(ui.size.width, ui.size.height);\n",
       "        },\n",
       "        stop: function(event, ui) {\n",
       "            pass_mouse_events = true;\n",
       "            fig.request_resize(ui.size.width, ui.size.height);\n",
       "        },\n",
       "    });\n",
       "\n",
       "    function mouse_event_fn(event) {\n",
       "        if (pass_mouse_events)\n",
       "            return fig.mouse_event(event, event['data']);\n",
       "    }\n",
       "\n",
       "    rubberband.mousedown('button_press', mouse_event_fn);\n",
       "    rubberband.mouseup('button_release', mouse_event_fn);\n",
       "    // Throttle sequential mouse events to 1 every 20ms.\n",
       "    rubberband.mousemove('motion_notify', mouse_event_fn);\n",
       "\n",
       "    rubberband.mouseenter('figure_enter', mouse_event_fn);\n",
       "    rubberband.mouseleave('figure_leave', mouse_event_fn);\n",
       "\n",
       "    canvas_div.on(\"wheel\", function (event) {\n",
       "        event = event.originalEvent;\n",
       "        event['data'] = 'scroll'\n",
       "        if (event.deltaY < 0) {\n",
       "            event.step = 1;\n",
       "        } else {\n",
       "            event.step = -1;\n",
       "        }\n",
       "        mouse_event_fn(event);\n",
       "    });\n",
       "\n",
       "    canvas_div.append(canvas);\n",
       "    canvas_div.append(rubberband);\n",
       "\n",
       "    this.rubberband = rubberband;\n",
       "    this.rubberband_canvas = rubberband[0];\n",
       "    this.rubberband_context = rubberband[0].getContext(\"2d\");\n",
       "    this.rubberband_context.strokeStyle = \"#000000\";\n",
       "\n",
       "    this._resize_canvas = function(width, height) {\n",
       "        // Keep the size of the canvas, canvas container, and rubber band\n",
       "        // canvas in synch.\n",
       "        canvas_div.css('width', width)\n",
       "        canvas_div.css('height', height)\n",
       "\n",
       "        canvas.attr('width', width * mpl.ratio);\n",
       "        canvas.attr('height', height * mpl.ratio);\n",
       "        canvas.attr('style', 'width: ' + width + 'px; height: ' + height + 'px;');\n",
       "\n",
       "        rubberband.attr('width', width);\n",
       "        rubberband.attr('height', height);\n",
       "    }\n",
       "\n",
       "    // Set the figure to an initial 600x600px, this will subsequently be updated\n",
       "    // upon first draw.\n",
       "    this._resize_canvas(600, 600);\n",
       "\n",
       "    // Disable right mouse context menu.\n",
       "    $(this.rubberband_canvas).bind(\"contextmenu\",function(e){\n",
       "        return false;\n",
       "    });\n",
       "\n",
       "    function set_focus () {\n",
       "        canvas.focus();\n",
       "        canvas_div.focus();\n",
       "    }\n",
       "\n",
       "    window.setTimeout(set_focus, 100);\n",
       "}\n",
       "\n",
       "mpl.figure.prototype._init_toolbar = function() {\n",
       "    var fig = this;\n",
       "\n",
       "    var nav_element = $('<div/>');\n",
       "    nav_element.attr('style', 'width: 100%');\n",
       "    this.root.append(nav_element);\n",
       "\n",
       "    // Define a callback function for later on.\n",
       "    function toolbar_event(event) {\n",
       "        return fig.toolbar_button_onclick(event['data']);\n",
       "    }\n",
       "    function toolbar_mouse_event(event) {\n",
       "        return fig.toolbar_button_onmouseover(event['data']);\n",
       "    }\n",
       "\n",
       "    for(var toolbar_ind in mpl.toolbar_items) {\n",
       "        var name = mpl.toolbar_items[toolbar_ind][0];\n",
       "        var tooltip = mpl.toolbar_items[toolbar_ind][1];\n",
       "        var image = mpl.toolbar_items[toolbar_ind][2];\n",
       "        var method_name = mpl.toolbar_items[toolbar_ind][3];\n",
       "\n",
       "        if (!name) {\n",
       "            // put a spacer in here.\n",
       "            continue;\n",
       "        }\n",
       "        var button = $('<button/>');\n",
       "        button.addClass('ui-button ui-widget ui-state-default ui-corner-all ' +\n",
       "                        'ui-button-icon-only');\n",
       "        button.attr('role', 'button');\n",
       "        button.attr('aria-disabled', 'false');\n",
       "        button.click(method_name, toolbar_event);\n",
       "        button.mouseover(tooltip, toolbar_mouse_event);\n",
       "\n",
       "        var icon_img = $('<span/>');\n",
       "        icon_img.addClass('ui-button-icon-primary ui-icon');\n",
       "        icon_img.addClass(image);\n",
       "        icon_img.addClass('ui-corner-all');\n",
       "\n",
       "        var tooltip_span = $('<span/>');\n",
       "        tooltip_span.addClass('ui-button-text');\n",
       "        tooltip_span.html(tooltip);\n",
       "\n",
       "        button.append(icon_img);\n",
       "        button.append(tooltip_span);\n",
       "\n",
       "        nav_element.append(button);\n",
       "    }\n",
       "\n",
       "    var fmt_picker_span = $('<span/>');\n",
       "\n",
       "    var fmt_picker = $('<select/>');\n",
       "    fmt_picker.addClass('mpl-toolbar-option ui-widget ui-widget-content');\n",
       "    fmt_picker_span.append(fmt_picker);\n",
       "    nav_element.append(fmt_picker_span);\n",
       "    this.format_dropdown = fmt_picker[0];\n",
       "\n",
       "    for (var ind in mpl.extensions) {\n",
       "        var fmt = mpl.extensions[ind];\n",
       "        var option = $(\n",
       "            '<option/>', {selected: fmt === mpl.default_extension}).html(fmt);\n",
       "        fmt_picker.append(option);\n",
       "    }\n",
       "\n",
       "    // Add hover states to the ui-buttons\n",
       "    $( \".ui-button\" ).hover(\n",
       "        function() { $(this).addClass(\"ui-state-hover\");},\n",
       "        function() { $(this).removeClass(\"ui-state-hover\");}\n",
       "    );\n",
       "\n",
       "    var status_bar = $('<span class=\"mpl-message\"/>');\n",
       "    nav_element.append(status_bar);\n",
       "    this.message = status_bar[0];\n",
       "}\n",
       "\n",
       "mpl.figure.prototype.request_resize = function(x_pixels, y_pixels) {\n",
       "    // Request matplotlib to resize the figure. Matplotlib will then trigger a resize in the client,\n",
       "    // which will in turn request a refresh of the image.\n",
       "    this.send_message('resize', {'width': x_pixels, 'height': y_pixels});\n",
       "}\n",
       "\n",
       "mpl.figure.prototype.send_message = function(type, properties) {\n",
       "    properties['type'] = type;\n",
       "    properties['figure_id'] = this.id;\n",
       "    this.ws.send(JSON.stringify(properties));\n",
       "}\n",
       "\n",
       "mpl.figure.prototype.send_draw_message = function() {\n",
       "    if (!this.waiting) {\n",
       "        this.waiting = true;\n",
       "        this.ws.send(JSON.stringify({type: \"draw\", figure_id: this.id}));\n",
       "    }\n",
       "}\n",
       "\n",
       "\n",
       "mpl.figure.prototype.handle_save = function(fig, msg) {\n",
       "    var format_dropdown = fig.format_dropdown;\n",
       "    var format = format_dropdown.options[format_dropdown.selectedIndex].value;\n",
       "    fig.ondownload(fig, format);\n",
       "}\n",
       "\n",
       "\n",
       "mpl.figure.prototype.handle_resize = function(fig, msg) {\n",
       "    var size = msg['size'];\n",
       "    if (size[0] != fig.canvas.width || size[1] != fig.canvas.height) {\n",
       "        fig._resize_canvas(size[0], size[1]);\n",
       "        fig.send_message(\"refresh\", {});\n",
       "    };\n",
       "}\n",
       "\n",
       "mpl.figure.prototype.handle_rubberband = function(fig, msg) {\n",
       "    var x0 = msg['x0'] / mpl.ratio;\n",
       "    var y0 = (fig.canvas.height - msg['y0']) / mpl.ratio;\n",
       "    var x1 = msg['x1'] / mpl.ratio;\n",
       "    var y1 = (fig.canvas.height - msg['y1']) / mpl.ratio;\n",
       "    x0 = Math.floor(x0) + 0.5;\n",
       "    y0 = Math.floor(y0) + 0.5;\n",
       "    x1 = Math.floor(x1) + 0.5;\n",
       "    y1 = Math.floor(y1) + 0.5;\n",
       "    var min_x = Math.min(x0, x1);\n",
       "    var min_y = Math.min(y0, y1);\n",
       "    var width = Math.abs(x1 - x0);\n",
       "    var height = Math.abs(y1 - y0);\n",
       "\n",
       "    fig.rubberband_context.clearRect(\n",
       "        0, 0, fig.canvas.width / mpl.ratio, fig.canvas.height / mpl.ratio);\n",
       "\n",
       "    fig.rubberband_context.strokeRect(min_x, min_y, width, height);\n",
       "}\n",
       "\n",
       "mpl.figure.prototype.handle_figure_label = function(fig, msg) {\n",
       "    // Updates the figure title.\n",
       "    fig.header.textContent = msg['label'];\n",
       "}\n",
       "\n",
       "mpl.figure.prototype.handle_cursor = function(fig, msg) {\n",
       "    var cursor = msg['cursor'];\n",
       "    switch(cursor)\n",
       "    {\n",
       "    case 0:\n",
       "        cursor = 'pointer';\n",
       "        break;\n",
       "    case 1:\n",
       "        cursor = 'default';\n",
       "        break;\n",
       "    case 2:\n",
       "        cursor = 'crosshair';\n",
       "        break;\n",
       "    case 3:\n",
       "        cursor = 'move';\n",
       "        break;\n",
       "    }\n",
       "    fig.rubberband_canvas.style.cursor = cursor;\n",
       "}\n",
       "\n",
       "mpl.figure.prototype.handle_message = function(fig, msg) {\n",
       "    fig.message.textContent = msg['message'];\n",
       "}\n",
       "\n",
       "mpl.figure.prototype.handle_draw = function(fig, msg) {\n",
       "    // Request the server to send over a new figure.\n",
       "    fig.send_draw_message();\n",
       "}\n",
       "\n",
       "mpl.figure.prototype.handle_image_mode = function(fig, msg) {\n",
       "    fig.image_mode = msg['mode'];\n",
       "}\n",
       "\n",
       "mpl.figure.prototype.updated_canvas_event = function() {\n",
       "    // Called whenever the canvas gets updated.\n",
       "    this.send_message(\"ack\", {});\n",
       "}\n",
       "\n",
       "// A function to construct a web socket function for onmessage handling.\n",
       "// Called in the figure constructor.\n",
       "mpl.figure.prototype._make_on_message_function = function(fig) {\n",
       "    return function socket_on_message(evt) {\n",
       "        if (evt.data instanceof Blob) {\n",
       "            /* FIXME: We get \"Resource interpreted as Image but\n",
       "             * transferred with MIME type text/plain:\" errors on\n",
       "             * Chrome.  But how to set the MIME type?  It doesn't seem\n",
       "             * to be part of the websocket stream */\n",
       "            evt.data.type = \"image/png\";\n",
       "\n",
       "            /* Free the memory for the previous frames */\n",
       "            if (fig.imageObj.src) {\n",
       "                (window.URL || window.webkitURL).revokeObjectURL(\n",
       "                    fig.imageObj.src);\n",
       "            }\n",
       "\n",
       "            fig.imageObj.src = (window.URL || window.webkitURL).createObjectURL(\n",
       "                evt.data);\n",
       "            fig.updated_canvas_event();\n",
       "            fig.waiting = false;\n",
       "            return;\n",
       "        }\n",
       "        else if (typeof evt.data === 'string' && evt.data.slice(0, 21) == \"data:image/png;base64\") {\n",
       "            fig.imageObj.src = evt.data;\n",
       "            fig.updated_canvas_event();\n",
       "            fig.waiting = false;\n",
       "            return;\n",
       "        }\n",
       "\n",
       "        var msg = JSON.parse(evt.data);\n",
       "        var msg_type = msg['type'];\n",
       "\n",
       "        // Call the  \"handle_{type}\" callback, which takes\n",
       "        // the figure and JSON message as its only arguments.\n",
       "        try {\n",
       "            var callback = fig[\"handle_\" + msg_type];\n",
       "        } catch (e) {\n",
       "            console.log(\"No handler for the '\" + msg_type + \"' message type: \", msg);\n",
       "            return;\n",
       "        }\n",
       "\n",
       "        if (callback) {\n",
       "            try {\n",
       "                // console.log(\"Handling '\" + msg_type + \"' message: \", msg);\n",
       "                callback(fig, msg);\n",
       "            } catch (e) {\n",
       "                console.log(\"Exception inside the 'handler_\" + msg_type + \"' callback:\", e, e.stack, msg);\n",
       "            }\n",
       "        }\n",
       "    };\n",
       "}\n",
       "\n",
       "// from http://stackoverflow.com/questions/1114465/getting-mouse-location-in-canvas\n",
       "mpl.findpos = function(e) {\n",
       "    //this section is from http://www.quirksmode.org/js/events_properties.html\n",
       "    var targ;\n",
       "    if (!e)\n",
       "        e = window.event;\n",
       "    if (e.target)\n",
       "        targ = e.target;\n",
       "    else if (e.srcElement)\n",
       "        targ = e.srcElement;\n",
       "    if (targ.nodeType == 3) // defeat Safari bug\n",
       "        targ = targ.parentNode;\n",
       "\n",
       "    // jQuery normalizes the pageX and pageY\n",
       "    // pageX,Y are the mouse positions relative to the document\n",
       "    // offset() returns the position of the element relative to the document\n",
       "    var x = e.pageX - $(targ).offset().left;\n",
       "    var y = e.pageY - $(targ).offset().top;\n",
       "\n",
       "    return {\"x\": x, \"y\": y};\n",
       "};\n",
       "\n",
       "/*\n",
       " * return a copy of an object with only non-object keys\n",
       " * we need this to avoid circular references\n",
       " * http://stackoverflow.com/a/24161582/3208463\n",
       " */\n",
       "function simpleKeys (original) {\n",
       "  return Object.keys(original).reduce(function (obj, key) {\n",
       "    if (typeof original[key] !== 'object')\n",
       "        obj[key] = original[key]\n",
       "    return obj;\n",
       "  }, {});\n",
       "}\n",
       "\n",
       "mpl.figure.prototype.mouse_event = function(event, name) {\n",
       "    var canvas_pos = mpl.findpos(event)\n",
       "\n",
       "    if (name === 'button_press')\n",
       "    {\n",
       "        this.canvas.focus();\n",
       "        this.canvas_div.focus();\n",
       "    }\n",
       "\n",
       "    var x = canvas_pos.x * mpl.ratio;\n",
       "    var y = canvas_pos.y * mpl.ratio;\n",
       "\n",
       "    this.send_message(name, {x: x, y: y, button: event.button,\n",
       "                             step: event.step,\n",
       "                             guiEvent: simpleKeys(event)});\n",
       "\n",
       "    /* This prevents the web browser from automatically changing to\n",
       "     * the text insertion cursor when the button is pressed.  We want\n",
       "     * to control all of the cursor setting manually through the\n",
       "     * 'cursor' event from matplotlib */\n",
       "    event.preventDefault();\n",
       "    return false;\n",
       "}\n",
       "\n",
       "mpl.figure.prototype._key_event_extra = function(event, name) {\n",
       "    // Handle any extra behaviour associated with a key event\n",
       "}\n",
       "\n",
       "mpl.figure.prototype.key_event = function(event, name) {\n",
       "\n",
       "    // Prevent repeat events\n",
       "    if (name == 'key_press')\n",
       "    {\n",
       "        if (event.which === this._key)\n",
       "            return;\n",
       "        else\n",
       "            this._key = event.which;\n",
       "    }\n",
       "    if (name == 'key_release')\n",
       "        this._key = null;\n",
       "\n",
       "    var value = '';\n",
       "    if (event.ctrlKey && event.which != 17)\n",
       "        value += \"ctrl+\";\n",
       "    if (event.altKey && event.which != 18)\n",
       "        value += \"alt+\";\n",
       "    if (event.shiftKey && event.which != 16)\n",
       "        value += \"shift+\";\n",
       "\n",
       "    value += 'k';\n",
       "    value += event.which.toString();\n",
       "\n",
       "    this._key_event_extra(event, name);\n",
       "\n",
       "    this.send_message(name, {key: value,\n",
       "                             guiEvent: simpleKeys(event)});\n",
       "    return false;\n",
       "}\n",
       "\n",
       "mpl.figure.prototype.toolbar_button_onclick = function(name) {\n",
       "    if (name == 'download') {\n",
       "        this.handle_save(this, null);\n",
       "    } else {\n",
       "        this.send_message(\"toolbar_button\", {name: name});\n",
       "    }\n",
       "};\n",
       "\n",
       "mpl.figure.prototype.toolbar_button_onmouseover = function(tooltip) {\n",
       "    this.message.textContent = tooltip;\n",
       "};\n",
       "mpl.toolbar_items = [[\"Home\", \"Reset original view\", \"fa fa-home icon-home\", \"home\"], [\"Back\", \"Back to previous view\", \"fa fa-arrow-left icon-arrow-left\", \"back\"], [\"Forward\", \"Forward to next view\", \"fa fa-arrow-right icon-arrow-right\", \"forward\"], [\"\", \"\", \"\", \"\"], [\"Pan\", \"Pan axes with left mouse, zoom with right\", \"fa fa-arrows icon-move\", \"pan\"], [\"Zoom\", \"Zoom to rectangle\", \"fa fa-square-o icon-check-empty\", \"zoom\"], [\"\", \"\", \"\", \"\"], [\"Download\", \"Download plot\", \"fa fa-floppy-o icon-save\", \"download\"]];\n",
       "\n",
       "mpl.extensions = [\"eps\", \"jpeg\", \"pdf\", \"png\", \"ps\", \"raw\", \"svg\", \"tif\"];\n",
       "\n",
       "mpl.default_extension = \"png\";var comm_websocket_adapter = function(comm) {\n",
       "    // Create a \"websocket\"-like object which calls the given IPython comm\n",
       "    // object with the appropriate methods. Currently this is a non binary\n",
       "    // socket, so there is still some room for performance tuning.\n",
       "    var ws = {};\n",
       "\n",
       "    ws.close = function() {\n",
       "        comm.close()\n",
       "    };\n",
       "    ws.send = function(m) {\n",
       "        //console.log('sending', m);\n",
       "        comm.send(m);\n",
       "    };\n",
       "    // Register the callback with on_msg.\n",
       "    comm.on_msg(function(msg) {\n",
       "        //console.log('receiving', msg['content']['data'], msg);\n",
       "        // Pass the mpl event to the overridden (by mpl) onmessage function.\n",
       "        ws.onmessage(msg['content']['data'])\n",
       "    });\n",
       "    return ws;\n",
       "}\n",
       "\n",
       "mpl.mpl_figure_comm = function(comm, msg) {\n",
       "    // This is the function which gets called when the mpl process\n",
       "    // starts-up an IPython Comm through the \"matplotlib\" channel.\n",
       "\n",
       "    var id = msg.content.data.id;\n",
       "    // Get hold of the div created by the display call when the Comm\n",
       "    // socket was opened in Python.\n",
       "    var element = $(\"#\" + id);\n",
       "    var ws_proxy = comm_websocket_adapter(comm)\n",
       "\n",
       "    function ondownload(figure, format) {\n",
       "        window.open(figure.imageObj.src);\n",
       "    }\n",
       "\n",
       "    var fig = new mpl.figure(id, ws_proxy,\n",
       "                           ondownload,\n",
       "                           element.get(0));\n",
       "\n",
       "    // Call onopen now - mpl needs it, as it is assuming we've passed it a real\n",
       "    // web socket which is closed, not our websocket->open comm proxy.\n",
       "    ws_proxy.onopen();\n",
       "\n",
       "    fig.parent_element = element.get(0);\n",
       "    fig.cell_info = mpl.find_output_cell(\"<div id='\" + id + \"'></div>\");\n",
       "    if (!fig.cell_info) {\n",
       "        console.error(\"Failed to find cell for figure\", id, fig);\n",
       "        return;\n",
       "    }\n",
       "\n",
       "    var output_index = fig.cell_info[2]\n",
       "    var cell = fig.cell_info[0];\n",
       "\n",
       "};\n",
       "\n",
       "mpl.figure.prototype.handle_close = function(fig, msg) {\n",
       "    var width = fig.canvas.width/mpl.ratio\n",
       "    fig.root.unbind('remove')\n",
       "\n",
       "    // Update the output cell to use the data from the current canvas.\n",
       "    fig.push_to_output();\n",
       "    var dataURL = fig.canvas.toDataURL();\n",
       "    // Re-enable the keyboard manager in IPython - without this line, in FF,\n",
       "    // the notebook keyboard shortcuts fail.\n",
       "    IPython.keyboard_manager.enable()\n",
       "    $(fig.parent_element).html('<img src=\"' + dataURL + '\" width=\"' + width + '\">');\n",
       "    fig.close_ws(fig, msg);\n",
       "}\n",
       "\n",
       "mpl.figure.prototype.close_ws = function(fig, msg){\n",
       "    fig.send_message('closing', msg);\n",
       "    // fig.ws.close()\n",
       "}\n",
       "\n",
       "mpl.figure.prototype.push_to_output = function(remove_interactive) {\n",
       "    // Turn the data on the canvas into data in the output cell.\n",
       "    var width = this.canvas.width/mpl.ratio\n",
       "    var dataURL = this.canvas.toDataURL();\n",
       "    this.cell_info[1]['text/html'] = '<img src=\"' + dataURL + '\" width=\"' + width + '\">';\n",
       "}\n",
       "\n",
       "mpl.figure.prototype.updated_canvas_event = function() {\n",
       "    // Tell IPython that the notebook contents must change.\n",
       "    IPython.notebook.set_dirty(true);\n",
       "    this.send_message(\"ack\", {});\n",
       "    var fig = this;\n",
       "    // Wait a second, then push the new image to the DOM so\n",
       "    // that it is saved nicely (might be nice to debounce this).\n",
       "    setTimeout(function () { fig.push_to_output() }, 1000);\n",
       "}\n",
       "\n",
       "mpl.figure.prototype._init_toolbar = function() {\n",
       "    var fig = this;\n",
       "\n",
       "    var nav_element = $('<div/>');\n",
       "    nav_element.attr('style', 'width: 100%');\n",
       "    this.root.append(nav_element);\n",
       "\n",
       "    // Define a callback function for later on.\n",
       "    function toolbar_event(event) {\n",
       "        return fig.toolbar_button_onclick(event['data']);\n",
       "    }\n",
       "    function toolbar_mouse_event(event) {\n",
       "        return fig.toolbar_button_onmouseover(event['data']);\n",
       "    }\n",
       "\n",
       "    for(var toolbar_ind in mpl.toolbar_items){\n",
       "        var name = mpl.toolbar_items[toolbar_ind][0];\n",
       "        var tooltip = mpl.toolbar_items[toolbar_ind][1];\n",
       "        var image = mpl.toolbar_items[toolbar_ind][2];\n",
       "        var method_name = mpl.toolbar_items[toolbar_ind][3];\n",
       "\n",
       "        if (!name) { continue; };\n",
       "\n",
       "        var button = $('<button class=\"btn btn-default\" href=\"#\" title=\"' + name + '\"><i class=\"fa ' + image + ' fa-lg\"></i></button>');\n",
       "        button.click(method_name, toolbar_event);\n",
       "        button.mouseover(tooltip, toolbar_mouse_event);\n",
       "        nav_element.append(button);\n",
       "    }\n",
       "\n",
       "    // Add the status bar.\n",
       "    var status_bar = $('<span class=\"mpl-message\" style=\"text-align:right; float: right;\"/>');\n",
       "    nav_element.append(status_bar);\n",
       "    this.message = status_bar[0];\n",
       "\n",
       "    // Add the close button to the window.\n",
       "    var buttongrp = $('<div class=\"btn-group inline pull-right\"></div>');\n",
       "    var button = $('<button class=\"btn btn-mini btn-primary\" href=\"#\" title=\"Stop Interaction\"><i class=\"fa fa-power-off icon-remove icon-large\"></i></button>');\n",
       "    button.click(function (evt) { fig.handle_close(fig, {}); } );\n",
       "    button.mouseover('Stop Interaction', toolbar_mouse_event);\n",
       "    buttongrp.append(button);\n",
       "    var titlebar = this.root.find($('.ui-dialog-titlebar'));\n",
       "    titlebar.prepend(buttongrp);\n",
       "}\n",
       "\n",
       "mpl.figure.prototype._root_extra_style = function(el){\n",
       "    var fig = this\n",
       "    el.on(\"remove\", function(){\n",
       "\tfig.close_ws(fig, {});\n",
       "    });\n",
       "}\n",
       "\n",
       "mpl.figure.prototype._canvas_extra_style = function(el){\n",
       "    // this is important to make the div 'focusable\n",
       "    el.attr('tabindex', 0)\n",
       "    // reach out to IPython and tell the keyboard manager to turn it's self\n",
       "    // off when our div gets focus\n",
       "\n",
       "    // location in version 3\n",
       "    if (IPython.notebook.keyboard_manager) {\n",
       "        IPython.notebook.keyboard_manager.register_events(el);\n",
       "    }\n",
       "    else {\n",
       "        // location in version 2\n",
       "        IPython.keyboard_manager.register_events(el);\n",
       "    }\n",
       "\n",
       "}\n",
       "\n",
       "mpl.figure.prototype._key_event_extra = function(event, name) {\n",
       "    var manager = IPython.notebook.keyboard_manager;\n",
       "    if (!manager)\n",
       "        manager = IPython.keyboard_manager;\n",
       "\n",
       "    // Check for shift+enter\n",
       "    if (event.shiftKey && event.which == 13) {\n",
       "        this.canvas_div.blur();\n",
       "        // select the cell after this one\n",
       "        var index = IPython.notebook.find_cell_index(this.cell_info[0]);\n",
       "        IPython.notebook.select(index + 1);\n",
       "    }\n",
       "}\n",
       "\n",
       "mpl.figure.prototype.handle_save = function(fig, msg) {\n",
       "    fig.ondownload(fig, null);\n",
       "}\n",
       "\n",
       "\n",
       "mpl.find_output_cell = function(html_output) {\n",
       "    // Return the cell and output element which can be found *uniquely* in the notebook.\n",
       "    // Note - this is a bit hacky, but it is done because the \"notebook_saving.Notebook\"\n",
       "    // IPython event is triggered only after the cells have been serialised, which for\n",
       "    // our purposes (turning an active figure into a static one), is too late.\n",
       "    var cells = IPython.notebook.get_cells();\n",
       "    var ncells = cells.length;\n",
       "    for (var i=0; i<ncells; i++) {\n",
       "        var cell = cells[i];\n",
       "        if (cell.cell_type === 'code'){\n",
       "            for (var j=0; j<cell.output_area.outputs.length; j++) {\n",
       "                var data = cell.output_area.outputs[j];\n",
       "                if (data.data) {\n",
       "                    // IPython >= 3 moved mimebundle to data attribute of output\n",
       "                    data = data.data;\n",
       "                }\n",
       "                if (data['text/html'] == html_output) {\n",
       "                    return [cell, data, j];\n",
       "                }\n",
       "            }\n",
       "        }\n",
       "    }\n",
       "}\n",
       "\n",
       "// Register the function which deals with the matplotlib target/channel.\n",
       "// The kernel may be null if the page has been refreshed.\n",
       "if (IPython.notebook.kernel != null) {\n",
       "    IPython.notebook.kernel.comm_manager.register_target('matplotlib', mpl.mpl_figure_comm);\n",
       "}\n"
      ],
      "text/plain": [
       "<IPython.core.display.Javascript object>"
      ]
     },
     "metadata": {},
     "output_type": "display_data"
    },
    {
     "data": {
      "text/html": [
       "<img src=\"data:image/png;base64,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\" width=\"999.75\">"
      ],
      "text/plain": [
       "<IPython.core.display.HTML object>"
      ]
     },
     "metadata": {},
     "output_type": "display_data"
    }
   ],
   "source": [
    "dual_train_plots(results.index,\n",
    "                 results.cost, results.val, \n",
    "                 results['eff_val'].apply(lambda x: x.eff_rate),\n",
    "                 results['eff_val'].apply(lambda x: x.fp_rate))\n",
    "plt.tight_layout()\n",
    "plt.savefig(str(output / f'{name}_stats_a.png'))"
   ]
  },
  {
   "cell_type": "code",
   "execution_count": 20,
   "metadata": {},
   "outputs": [],
   "source": [
    "quit()"
   ]
  },
  {
   "cell_type": "code",
   "execution_count": null,
   "metadata": {},
   "outputs": [],
   "source": []
  }
 ],
 "metadata": {
  "kernelspec": {
   "display_name": "goofit",
   "language": "python",
   "name": "goofit"
  },
  "language_info": {
   "codemirror_mode": {
    "name": "ipython",
    "version": 3
   },
   "file_extension": ".py",
   "mimetype": "text/x-python",
   "name": "python",
   "nbconvert_exporter": "python",
   "pygments_lexer": "ipython3",
   "version": "3.7.6"
  }
 },
 "nbformat": 4,
 "nbformat_minor": 2
}
