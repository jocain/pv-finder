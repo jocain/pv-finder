{
 "cells": [
  {
   "cell_type": "code",
   "execution_count": 1,
   "metadata": {},
   "outputs": [],
   "source": [
    "##%matplotlib widget\n",
    "## with %matplotlib notebook: seems to require ipympl as part of environment, either\n",
    "## part of the conda environment or \"pip install ipympl\"\n",
    "## otherwise, does not show ANY plots in notebook, plt.savefig() works\n",
    "%matplotlib notebook  \n",
    "##%matplotlib inline    ## --plt.savefig()  works, but re-sizing does NOT\n",
    "\n"
   ]
  },
  {
   "cell_type": "markdown",
   "metadata": {},
   "source": [
    "This notebook is derived from RunModel_Demo_28November2020-SimpleCNNLayer_Ca which \"worked\", but did not reach as high efficiency as earlier models. Here, the number of hidden convolutional layers is increased by 2 and the number of output channels per layer is increased by using SimpleCNN7Layer_Ca_Two_KDE in place of SimpleCNN5Layer_Ca_Two_KDE\n",
    "\n",
    "The goal is to use two channels of input -- poca_KDE_A and poca_KDE_B to see if this improves the performance of the algorithm, all else being equal.\n",
    "\n",
    "\"withPfc\" denotes using poca_KDE_A_xMax & poca_KDE_A_yMax as perturbative features\n",
    "\n",
    "We use full LHCb MC for both training and validation here, albeit a training sample slightly less than 100K events.\n"
   ]
  },
  {
   "cell_type": "markdown",
   "metadata": {},
   "source": [
    "Check the current GPU usage. Please try to be nice!"
   ]
  },
  {
   "cell_type": "code",
   "execution_count": 2,
   "metadata": {},
   "outputs": [
    {
     "name": "stdout",
     "output_type": "stream",
     "text": [
      "Fri Dec 18 22:05:21 2020       \n",
      "+-----------------------------------------------------------------------------+\n",
      "| NVIDIA-SMI 440.64.00    Driver Version: 440.64.00    CUDA Version: 10.2     |\n",
      "|-------------------------------+----------------------+----------------------+\n",
      "| GPU  Name        Persistence-M| Bus-Id        Disp.A | Volatile Uncorr. ECC |\n",
      "| Fan  Temp  Perf  Pwr:Usage/Cap|         Memory-Usage | GPU-Util  Compute M. |\n",
      "|===============================+======================+======================|\n",
      "|   0  TITAN V             Off  | 00000000:03:00.0 Off |                  N/A |\n",
      "| 28%   38C    P8    24W / 250W |   3221MiB / 12066MiB |      0%      Default |\n",
      "+-------------------------------+----------------------+----------------------+\n",
      "|   1  Tesla P100-PCIE...  Off  | 00000000:83:00.0 Off |                    0 |\n",
      "| N/A   38C    P0    28W / 250W |      0MiB / 16280MiB |      0%      Default |\n",
      "+-------------------------------+----------------------+----------------------+\n",
      "|   2  TITAN V             Off  | 00000000:84:00.0 Off |                  N/A |\n",
      "| 61%   83C    P2   151W / 250W |   3992MiB / 12066MiB |     85%      Default |\n",
      "+-------------------------------+----------------------+----------------------+\n",
      "                                                                               \n",
      "+-----------------------------------------------------------------------------+\n",
      "| Processes:                                                       GPU Memory |\n",
      "|  GPU       PID   Type   Process name                             Usage      |\n",
      "|=============================================================================|\n",
      "|    0     44398      C   /data/conda/envs/goofit/bin/python          3209MiB |\n",
      "|    2      4304      C   ...a/conda/envs/goofit-june2020/bin/python  1629MiB |\n",
      "|    2     13208      C   /data/conda/envs/goofit/bin/python          2351MiB |\n",
      "+-----------------------------------------------------------------------------+\n"
     ]
    }
   ],
   "source": [
    "!nvidia-smi"
   ]
  },
  {
   "cell_type": "markdown",
   "metadata": {},
   "source": [
    "> **WARNING**: The card numbers here are *not* the same as in CUDA. You have been warned."
   ]
  },
  {
   "cell_type": "markdown",
   "metadata": {},
   "source": [
    "## Imports"
   ]
  },
  {
   "cell_type": "code",
   "execution_count": 3,
   "metadata": {},
   "outputs": [],
   "source": [
    "import matplotlib.pyplot as plt\n",
    "import numpy as np\n",
    "import time\n",
    "import torch\n",
    "import pandas as pd\n",
    "\n",
    "# Python 3 standard library\n",
    "from pathlib import Path\n",
    "\n",
    "from torchsummary import summary"
   ]
  },
  {
   "cell_type": "markdown",
   "metadata": {},
   "source": [
    "### Set up local parameters"
   ]
  },
  {
   "cell_type": "code",
   "execution_count": 4,
   "metadata": {},
   "outputs": [],
   "source": [
    "n_epochs = 50\n",
    "\n",
    "# Name is the output file name\n",
    "\n",
    "\n",
    "##  201128  mds\n",
    "##  iter2 follows from iter0 (only last layer weights allowed to be learned)\n",
    "##  due to operator error, the file/folder name was iter1 rather than iter2\n",
    "##  so the labeling is slightly mis-leading.  This is the first iteration\n",
    "##  when all weights are allowed to vary\n",
    "folder = '18December2020_AllCNN8Layer_withPcnn_50epochs_lr_1em6_aymm_0p0'\n",
    "name = folder\n",
    "\n",
    "# Make an output folder named \"name\" (change if you want)\n",
    "\n",
    "## Special instructions for those working on goofy at UC\n",
    "## Please be very careful to make sure that your folder\n",
    "## does not live in a subdirectory of your home directory\n",
    "## this disk has very little capacity. Instead, use \n",
    "## a subdirectory in /share/lazy with a symbolic link to\n",
    "## it in this (the notebooks) subdirectory\n",
    "folder = 'ML/' + folder\n",
    "output = Path(folder)\n",
    "\n",
    "\n",
    "# Size of batches\n",
    "batch_size = 128\n",
    "\n",
    "# How fast to learn\n",
    "learning_rate = 1e-6"
   ]
  },
  {
   "cell_type": "markdown",
   "metadata": {},
   "source": [
    "Make the output directory if it does not exist:"
   ]
  },
  {
   "cell_type": "code",
   "execution_count": 5,
   "metadata": {},
   "outputs": [],
   "source": [
    "output.mkdir(exist_ok=True)"
   ]
  },
  {
   "cell_type": "markdown",
   "metadata": {},
   "source": [
    "## Get the helper functions\n",
    "\n",
    "Add the directory with the model\n",
    "definitions to the path so we can import from it:\n",
    "\n",
    "> When you type `import X`,\n",
    "Python searches `sys.path` for a python\n",
    "file named `X.py` to import. So we need to add the model directory to the path."
   ]
  },
  {
   "cell_type": "code",
   "execution_count": 6,
   "metadata": {
    "scrolled": true
   },
   "outputs": [],
   "source": [
    "# From model/collectdata.py\n",
    "from model.collectdata_poca_KDE import collect_data_poca\n",
    "\n",
    "# From model/loss.py\n",
    "##from loss import Loss\n",
    "from model.alt_loss_A import Loss\n",
    "\n",
    "# From model/training.py\n",
    "from model.training import trainNet, select_gpu\n",
    "\n",
    "# From model/models.py\n",
    "##  will start with model from TwoFeatures_CNN6Layer_A in the first instance\n",
    "##  see relevant cell below\n",
    "\n",
    "\n",
    "from model.models_mds_G import AllCNN8Layer_Ca_Two_KDE_withPcnn as Model\n",
    "\n",
    "from model.training import trainNet, select_gpu, Results\n",
    "from model.plots import dual_train_plots, replace_in_ax"
   ]
  },
  {
   "cell_type": "code",
   "execution_count": 7,
   "metadata": {},
   "outputs": [],
   "source": [
    "# This gets built up during the run - do not rerun this cell\n",
    "results = pd.DataFrame([], columns=Results._fields)"
   ]
  },
  {
   "cell_type": "markdown",
   "metadata": {},
   "source": [
    "Set up Torch device configuration. All tensors and model parameters need to know where to be put.\n",
    "This takes a BUS ID number: The BUS ID is the same as the listing at the top of this script."
   ]
  },
  {
   "cell_type": "code",
   "execution_count": 8,
   "metadata": {},
   "outputs": [
    {
     "name": "stdout",
     "output_type": "stream",
     "text": [
      "1 available GPUs (initially using device 0):\n",
      "  0 TITAN V\n"
     ]
    }
   ],
   "source": [
    "device = select_gpu(0)"
   ]
  },
  {
   "cell_type": "markdown",
   "metadata": {},
   "source": [
    "## Loading data\n",
    "\n",
    "Load the dataset, split into parts, then move to device (see `collectdata.py` in the `../model` directory)"
   ]
  },
  {
   "cell_type": "code",
   "execution_count": 9,
   "metadata": {
    "scrolled": true
   },
   "outputs": [
    {
     "name": "stdout",
     "output_type": "stream",
     "text": [
      "Loading data...\n",
      "Loaded dataAA/pv_HLT1CPU_MinBiasMagDown_14Nov.h5 in 19.18 s\n",
      "Loaded dataAA/pv_HLT1CPU_JpsiPhiMagDown_12Dec.h5 in 35.18 s\n",
      "Loaded dataAA/pv_HLT1CPU_D0piMagUp_12Dec.h5 in 33.28 s\n",
      "Loaded dataAA/pv_HLT1CPU_MinBiasMagUp_14Nov.h5 in 18.62 s\n",
      "Constructing 260000 event dataset took 3.585 s\n",
      "Loading data...\n",
      "Loaded dataAA/pv_HLT1CPU_MinBiasMagUp_14Nov.h5 in 20.11 s\n",
      "Constructing 18349 event dataset took 0.148 s\n"
     ]
    }
   ],
   "source": [
    "## newer vernacular\n",
    "## Training dataset. You can put as many files here as desired.\n",
    "\n",
    "## in this DEMO example we use only one 80K training set -- the model starts with well-trained weights,\n",
    "## and using a smaller training set reduces both the time to load the data and the time to train an epoch\n",
    "##  set the option load_XandXsq = True to use both DKE and KDE^2 as input features\n",
    "##  added dataAA/pv_HLT1CPU_D0piMagUp_12Dec.h5  201212\n",
    "\n",
    "##  pv_HLT1CPU_D0piMagUp_12Dec.h5 + pv_HLT1CPU_MinBiasMagDown_14Nov.h5 contain 138810 events\n",
    "##  pv_HLT1CPU_MinBiasMagUp_14Nov.h5 contains 51349\n",
    "##  choose which to \"load\" and slices to produce 180K event training sample\n",
    "##   and 10159 event validation sample\n",
    "train_loader = collect_data_poca(\n",
    "                              'dataAA/pv_HLT1CPU_MinBiasMagDown_14Nov.h5',\n",
    "                              'dataAA/pv_HLT1CPU_JpsiPhiMagDown_12Dec.h5',\n",
    "                              'dataAA/pv_HLT1CPU_D0piMagUp_12Dec.h5',\n",
    "                              'dataAA/pv_HLT1CPU_MinBiasMagUp_14Nov.h5',\n",
    "                               slice = slice(None,260000),\n",
    "##                             device = device,\n",
    "                             batch_size=batch_size,\n",
    "## if we are using a larger dataset (240K events, with the datasets above, and 11 GB  of GPU memory),\n",
    "## not the dataset will overflow the GPU memory; device=device will allow the data to move back\n",
    "## and forth between the CPU and GPU memory. While this allows use of a larger dataset, it slows\n",
    "## down performance by about 10%.  So comment out when not needed.\n",
    "##                           device=device,\n",
    "                            masking=True, shuffle=True,\n",
    "                            load_XandXsq=False,\n",
    "                            load_A_and_B = True,\n",
    "                            load_xy=True)\n",
    "\n",
    "# Validation dataset. You can slice to reduce the size.\n",
    "## dataAA -> /share/lazy/sokoloff/ML-data_AA/\n",
    "val_loader = collect_data_poca(\n",
    "##                          'dataAA/pv_HLT1CPU_MinBiasMagDown_14Nov.h5',\n",
    "                            'dataAA/pv_HLT1CPU_MinBiasMagUp_14Nov.h5',\n",
    "##                            'dataAA/pv_HLT1CPU_D0piMagUp_12Dec.h5',\n",
    "                          batch_size=batch_size,\n",
    "                          slice=slice(33000,None),\n",
    "##                          device=device,\n",
    "                          masking=True, shuffle=False,\n",
    "                          load_XandXsq=False,\n",
    "                          load_A_and_B = True,\n",
    "                          load_xy=True)"
   ]
  },
  {
   "cell_type": "markdown",
   "metadata": {},
   "source": [
    "# Preparing the model"
   ]
  },
  {
   "cell_type": "markdown",
   "metadata": {},
   "source": [
    "Prepare a model, use multiple GPUs if they are VISIBLE, and move the model to the device."
   ]
  },
  {
   "cell_type": "code",
   "execution_count": 10,
   "metadata": {
    "scrolled": true
   },
   "outputs": [
    {
     "name": "stdout",
     "output_type": "stream",
     "text": [
      "ct, child =  0    Conv1d(2, 25, kernel_size=(25,), stride=(1,), padding=(12,))\n",
      "ct, child =  1    Conv1d(25, 25, kernel_size=(15,), stride=(1,), padding=(7,))\n",
      "ct, child =  2    Conv1d(25, 25, kernel_size=(15,), stride=(1,), padding=(7,))\n",
      "ct, child =  3    Conv1d(25, 25, kernel_size=(15,), stride=(1,), padding=(7,))\n",
      "ct, child =  4    Conv1d(25, 25, kernel_size=(15,), stride=(1,), padding=(7,))\n",
      "ct, child =  5    Conv1d(25, 25, kernel_size=(15,), stride=(1,), padding=(7,))\n",
      "ct, child =  6    Conv1d(25, 1, kernel_size=(5,), stride=(1,), padding=(2,))\n",
      "ct, child =  7    Dropout(p=0.15, inplace=False)\n",
      "ct, child =  8    Dropout(p=0.15, inplace=False)\n",
      "ct, child =  9    Dropout(p=0.15, inplace=False)\n",
      "ct, child =  10    Dropout(p=0.15, inplace=False)\n",
      "ct, child =  11    Dropout(p=0.15, inplace=False)\n",
      "ct, child =  12    Dropout(p=0.15, inplace=False)\n",
      "ct, child =  13    Dropout(p=0.15, inplace=False)\n",
      "ct, child =  14    Linear(in_features=4000, out_features=4000, bias=True)\n",
      "ct, child =  15    Conv1d(1, 1, kernel_size=(91,), stride=(1,), padding=(45,))\n",
      "ct, child =  16    Conv1d(2, 20, kernel_size=(25,), stride=(1,), padding=(12,))\n",
      "ct, child =  17    Conv1d(20, 15, kernel_size=(15,), stride=(1,), padding=(7,))\n",
      "ct, child =  18    Conv1d(15, 1, kernel_size=(5,), stride=(1,), padding=(2,))\n",
      "ct, child =  19    Linear(in_features=4000, out_features=4000, bias=True)\n",
      "ct, child =  20    Conv1d(1, 1, kernel_size=(31,), stride=(1,), padding=(15,))\n"
     ]
    }
   ],
   "source": [
    "model = Model()\n",
    "\n",
    "##summary(model, input_size=(4, 4000))\n",
    "##print(model.parameters)\n",
    "\n",
    "## add the following code to allow the user to freeze the some of the weights corresponding \n",
    "## to those taken from an earlier model trained with the original target histograms\n",
    "## presumably -- this leaves either the perturbative filter \"fixed\" and lets the \n",
    "## learning focus on the non-perturbative features, so get started faster, or vice versa\n",
    "ct = 0\n",
    "for child in model.children():\n",
    "  print('ct, child = ',ct, \"  \", child)\n",
    "  if ct < 0:\n",
    "    print(\"     About to set param.requires_grad=False for ct = \", ct, \"params\")\n",
    "    for param in child.parameters():\n",
    "        param.requires_grad = False \n",
    "  ct += 1\n",
    "##  mds 200121 loss = Loss(epsilon=1e-5,coefficient=1.0)\n",
    "loss = Loss(epsilon=1e-5,coefficient=0.0)\n",
    "optimizer = torch.optim.Adam(model.parameters(), lr=learning_rate)"
   ]
  },
  {
   "cell_type": "code",
   "execution_count": 11,
   "metadata": {
    "scrolled": true
   },
   "outputs": [
    {
     "name": "stdout",
     "output_type": "stream",
     "text": [
      "Let's use 1 GPUs!\n"
     ]
    }
   ],
   "source": [
    "print(\"Let's use\", torch.cuda.device_count(), \"GPUs!\")\n",
    "if torch.cuda.device_count() > 1:\n",
    "    model = torch.nn.DataParallel(model)"
   ]
  },
  {
   "cell_type": "markdown",
   "metadata": {},
   "source": [
    "Let's move the model's weight matricies to the GPU:"
   ]
  },
  {
   "cell_type": "code",
   "execution_count": 12,
   "metadata": {},
   "outputs": [
    {
     "name": "stdout",
     "output_type": "stream",
     "text": [
      "dictName =  ML/17December2020_AllCNN8Layer_withPcnn_200epochs_moreDataIter1_lr_1em6_aymm_1p0_majorTesting/17December2020_AllCNN8Layer_withPcnn_200epochs_moreDataIter1_lr_1em6_aymm_1p0_majorTesting_final.pyt\n",
      "for model_dict\n",
      "index, k =   0    conv1.weight\n",
      "index, k =   1    conv1.bias\n",
      "index, k =   2    conv2.weight\n",
      "index, k =   3    conv2.bias\n",
      "index, k =   4    conv3.weight\n",
      "index, k =   5    conv3.bias\n",
      "index, k =   6    conv4.weight\n",
      "index, k =   7    conv4.bias\n",
      "index, k =   8    conv5.weight\n",
      "index, k =   9    conv5.bias\n",
      "index, k =   10    conv6.weight\n",
      "index, k =   11    conv6.bias\n",
      "index, k =   12    conv7.weight\n",
      "index, k =   13    conv7.bias\n",
      "index, k =   14    fc1.weight\n",
      "index, k =   15    fc1.bias\n",
      "index, k =   16    finalFilter.weight\n",
      "index, k =   17    finalFilter.bias\n",
      "index, k =   18    ppConv1.weight\n",
      "index, k =   19    ppConv1.bias\n",
      "index, k =   20    ppConv2.weight\n",
      "index, k =   21    ppConv2.bias\n",
      "index, k =   22    ppConv3.weight\n",
      "index, k =   23    ppConv3.bias\n",
      "index, k =   24    ppFc1.weight\n",
      "index, k =   25    ppFc1.bias\n",
      "index, k =   26    ppFinalFilter.weight\n",
      "index, k =   27    ppFinalFilter.bias\n",
      " \n",
      "   for pretrained_dict\n",
      "index, k =   0    conv1.weight\n",
      "index, k =   1    conv1.bias\n",
      "index, k =   2    conv2.weight\n",
      "index, k =   3    conv2.bias\n",
      "index, k =   4    conv3.weight\n",
      "index, k =   5    conv3.bias\n",
      "index, k =   6    conv4.weight\n",
      "index, k =   7    conv4.bias\n",
      "index, k =   8    conv5.weight\n",
      "index, k =   9    conv5.bias\n",
      "index, k =   10    conv6.weight\n",
      "index, k =   11    conv6.bias\n",
      "index, k =   12    conv7.weight\n",
      "index, k =   13    conv7.bias\n",
      "index, k =   14    fc1.weight\n",
      "index, k =   15    fc1.bias\n",
      "index, k =   16    finalFilter.weight\n",
      "index, k =   17    finalFilter.bias\n",
      "index, k =   18    ppConv1.weight\n",
      "index, k =   19    ppConv1.bias\n",
      "index, k =   20    ppConv2.weight\n",
      "index, k =   21    ppConv2.bias\n",
      "index, k =   22    ppConv3.weight\n",
      "index, k =   23    ppConv3.bias\n",
      "index, k =   24    ppFc1.weight\n",
      "index, k =   25    ppFc1.bias\n",
      "index, k =   26    ppFinalFilter.weight\n",
      "index, k =   27    ppFinalFilter.bias\n",
      "model_dict instantiated\n"
     ]
    },
    {
     "data": {
      "text/plain": [
       "<All keys matched successfully>"
      ]
     },
     "execution_count": 12,
     "metadata": {},
     "output_type": "execute_result"
    }
   ],
   "source": [
    "##print('output = ',output)\n",
    "##print('oldOutput = ',oldOutput)\n",
    "##  use the first four layers from a pre-existing model\n",
    "##  see example at https://discuss.pytorch.org/t/how-to-load-part-of-pre-trained-model/1113\n",
    "\n",
    "##   ML -> /share/lazy/sokoloff/ML\n",
    "## not that m1p0 in file name is mis-leading  201212\n",
    "oldName = '17December2020_AllCNN8Layer_withPcnn_200epochs_moreDataIter1_lr_1em6_aymm_1p0_majorTesting'\n",
    "oldFolder = oldName\n",
    "suffix = 'final'\n",
    "dictName = 'ML/'+oldFolder+'/'+oldName+'_'+suffix+'.pyt'\n",
    "print('dictName = ',dictName)\n",
    "pretrained_dict = torch.load(dictName)\n",
    "model_dict = model.state_dict()\n",
    "## mds 190725 for debugging\n",
    "print(\"for model_dict\")\n",
    "index = 0\n",
    "for k,v in model_dict.items():\n",
    "    print(\"index, k =  \",index,\"  \",k)\n",
    "    index = index+1\n",
    "    \n",
    "print(\" \\n\",\"  for pretrained_dict\")\n",
    "index = 0\n",
    "for k,v in pretrained_dict.items():\n",
    "    print(\"index, k =  \",index,\"  \",k)\n",
    "    index = index+1\n",
    "## mds  \n",
    "\n",
    "print(\"model_dict instantiated\")\n",
    "# 1. filter out unnecessary keys\n",
    "pretrained_dict = {k: v for k, v in pretrained_dict.items() if k in model_dict}\n",
    "## print(\"pretrained_dict iterated\")\n",
    "# 2. overwrite entries in the existing state dict\n",
    "model_dict.update(pretrained_dict) \n",
    "##\n",
    "#   when starting from a model with a fully connected last layer rather than a convolutional layer\n",
    "# 3. load the new state dict\n",
    "#   need to use strict=False as the two models state model attributes do not agree exactly\n",
    "#   see https://pytorch.org/docs/master/_modules/torch/nn/modules/module.html#Module.load_state_dict\n",
    "\n",
    "model.load_state_dict(pretrained_dict,strict=False)\n",
    "\n",
    "## print('model_dict =    ', model_dict)\n"
   ]
  },
  {
   "cell_type": "code",
   "execution_count": 13,
   "metadata": {
    "scrolled": true
   },
   "outputs": [],
   "source": [
    "model = model.to(device)"
   ]
  },
  {
   "cell_type": "markdown",
   "metadata": {},
   "source": [
    "## Train \n",
    "\n",
    "\n",
    "\n",
    "The body of this loop runs once per epoch. Results is a named tuple of values (loss per epoch for training and validation, time each). Start by setting up a plot first:"
   ]
  },
  {
   "cell_type": "code",
   "execution_count": 14,
   "metadata": {
    "scrolled": false
   },
   "outputs": [
    {
     "data": {
      "application/javascript": [
       "/* Put everything inside the global mpl namespace */\n",
       "window.mpl = {};\n",
       "\n",
       "\n",
       "mpl.get_websocket_type = function() {\n",
       "    if (typeof(WebSocket) !== 'undefined') {\n",
       "        return WebSocket;\n",
       "    } else if (typeof(MozWebSocket) !== 'undefined') {\n",
       "        return MozWebSocket;\n",
       "    } else {\n",
       "        alert('Your browser does not have WebSocket support. ' +\n",
       "              'Please try Chrome, Safari or Firefox ≥ 6. ' +\n",
       "              'Firefox 4 and 5 are also supported but you ' +\n",
       "              'have to enable WebSockets in about:config.');\n",
       "    };\n",
       "}\n",
       "\n",
       "mpl.figure = function(figure_id, websocket, ondownload, parent_element) {\n",
       "    this.id = figure_id;\n",
       "\n",
       "    this.ws = websocket;\n",
       "\n",
       "    this.supports_binary = (this.ws.binaryType != undefined);\n",
       "\n",
       "    if (!this.supports_binary) {\n",
       "        var warnings = document.getElementById(\"mpl-warnings\");\n",
       "        if (warnings) {\n",
       "            warnings.style.display = 'block';\n",
       "            warnings.textContent = (\n",
       "                \"This browser does not support binary websocket messages. \" +\n",
       "                    \"Performance may be slow.\");\n",
       "        }\n",
       "    }\n",
       "\n",
       "    this.imageObj = new Image();\n",
       "\n",
       "    this.context = undefined;\n",
       "    this.message = undefined;\n",
       "    this.canvas = undefined;\n",
       "    this.rubberband_canvas = undefined;\n",
       "    this.rubberband_context = undefined;\n",
       "    this.format_dropdown = undefined;\n",
       "\n",
       "    this.image_mode = 'full';\n",
       "\n",
       "    this.root = $('<div/>');\n",
       "    this._root_extra_style(this.root)\n",
       "    this.root.attr('style', 'display: inline-block');\n",
       "\n",
       "    $(parent_element).append(this.root);\n",
       "\n",
       "    this._init_header(this);\n",
       "    this._init_canvas(this);\n",
       "    this._init_toolbar(this);\n",
       "\n",
       "    var fig = this;\n",
       "\n",
       "    this.waiting = false;\n",
       "\n",
       "    this.ws.onopen =  function () {\n",
       "            fig.send_message(\"supports_binary\", {value: fig.supports_binary});\n",
       "            fig.send_message(\"send_image_mode\", {});\n",
       "            if (mpl.ratio != 1) {\n",
       "                fig.send_message(\"set_dpi_ratio\", {'dpi_ratio': mpl.ratio});\n",
       "            }\n",
       "            fig.send_message(\"refresh\", {});\n",
       "        }\n",
       "\n",
       "    this.imageObj.onload = function() {\n",
       "            if (fig.image_mode == 'full') {\n",
       "                // Full images could contain transparency (where diff images\n",
       "                // almost always do), so we need to clear the canvas so that\n",
       "                // there is no ghosting.\n",
       "                fig.context.clearRect(0, 0, fig.canvas.width, fig.canvas.height);\n",
       "            }\n",
       "            fig.context.drawImage(fig.imageObj, 0, 0);\n",
       "        };\n",
       "\n",
       "    this.imageObj.onunload = function() {\n",
       "        fig.ws.close();\n",
       "    }\n",
       "\n",
       "    this.ws.onmessage = this._make_on_message_function(this);\n",
       "\n",
       "    this.ondownload = ondownload;\n",
       "}\n",
       "\n",
       "mpl.figure.prototype._init_header = function() {\n",
       "    var titlebar = $(\n",
       "        '<div class=\"ui-dialog-titlebar ui-widget-header ui-corner-all ' +\n",
       "        'ui-helper-clearfix\"/>');\n",
       "    var titletext = $(\n",
       "        '<div class=\"ui-dialog-title\" style=\"width: 100%; ' +\n",
       "        'text-align: center; padding: 3px;\"/>');\n",
       "    titlebar.append(titletext)\n",
       "    this.root.append(titlebar);\n",
       "    this.header = titletext[0];\n",
       "}\n",
       "\n",
       "\n",
       "\n",
       "mpl.figure.prototype._canvas_extra_style = function(canvas_div) {\n",
       "\n",
       "}\n",
       "\n",
       "\n",
       "mpl.figure.prototype._root_extra_style = function(canvas_div) {\n",
       "\n",
       "}\n",
       "\n",
       "mpl.figure.prototype._init_canvas = function() {\n",
       "    var fig = this;\n",
       "\n",
       "    var canvas_div = $('<div/>');\n",
       "\n",
       "    canvas_div.attr('style', 'position: relative; clear: both; outline: 0');\n",
       "\n",
       "    function canvas_keyboard_event(event) {\n",
       "        return fig.key_event(event, event['data']);\n",
       "    }\n",
       "\n",
       "    canvas_div.keydown('key_press', canvas_keyboard_event);\n",
       "    canvas_div.keyup('key_release', canvas_keyboard_event);\n",
       "    this.canvas_div = canvas_div\n",
       "    this._canvas_extra_style(canvas_div)\n",
       "    this.root.append(canvas_div);\n",
       "\n",
       "    var canvas = $('<canvas/>');\n",
       "    canvas.addClass('mpl-canvas');\n",
       "    canvas.attr('style', \"left: 0; top: 0; z-index: 0; outline: 0\")\n",
       "\n",
       "    this.canvas = canvas[0];\n",
       "    this.context = canvas[0].getContext(\"2d\");\n",
       "\n",
       "    var backingStore = this.context.backingStorePixelRatio ||\n",
       "\tthis.context.webkitBackingStorePixelRatio ||\n",
       "\tthis.context.mozBackingStorePixelRatio ||\n",
       "\tthis.context.msBackingStorePixelRatio ||\n",
       "\tthis.context.oBackingStorePixelRatio ||\n",
       "\tthis.context.backingStorePixelRatio || 1;\n",
       "\n",
       "    mpl.ratio = (window.devicePixelRatio || 1) / backingStore;\n",
       "\n",
       "    var rubberband = $('<canvas/>');\n",
       "    rubberband.attr('style', \"position: absolute; left: 0; top: 0; z-index: 1;\")\n",
       "\n",
       "    var pass_mouse_events = true;\n",
       "\n",
       "    canvas_div.resizable({\n",
       "        start: function(event, ui) {\n",
       "            pass_mouse_events = false;\n",
       "        },\n",
       "        resize: function(event, ui) {\n",
       "            fig.request_resize(ui.size.width, ui.size.height);\n",
       "        },\n",
       "        stop: function(event, ui) {\n",
       "            pass_mouse_events = true;\n",
       "            fig.request_resize(ui.size.width, ui.size.height);\n",
       "        },\n",
       "    });\n",
       "\n",
       "    function mouse_event_fn(event) {\n",
       "        if (pass_mouse_events)\n",
       "            return fig.mouse_event(event, event['data']);\n",
       "    }\n",
       "\n",
       "    rubberband.mousedown('button_press', mouse_event_fn);\n",
       "    rubberband.mouseup('button_release', mouse_event_fn);\n",
       "    // Throttle sequential mouse events to 1 every 20ms.\n",
       "    rubberband.mousemove('motion_notify', mouse_event_fn);\n",
       "\n",
       "    rubberband.mouseenter('figure_enter', mouse_event_fn);\n",
       "    rubberband.mouseleave('figure_leave', mouse_event_fn);\n",
       "\n",
       "    canvas_div.on(\"wheel\", function (event) {\n",
       "        event = event.originalEvent;\n",
       "        event['data'] = 'scroll'\n",
       "        if (event.deltaY < 0) {\n",
       "            event.step = 1;\n",
       "        } else {\n",
       "            event.step = -1;\n",
       "        }\n",
       "        mouse_event_fn(event);\n",
       "    });\n",
       "\n",
       "    canvas_div.append(canvas);\n",
       "    canvas_div.append(rubberband);\n",
       "\n",
       "    this.rubberband = rubberband;\n",
       "    this.rubberband_canvas = rubberband[0];\n",
       "    this.rubberband_context = rubberband[0].getContext(\"2d\");\n",
       "    this.rubberband_context.strokeStyle = \"#000000\";\n",
       "\n",
       "    this._resize_canvas = function(width, height) {\n",
       "        // Keep the size of the canvas, canvas container, and rubber band\n",
       "        // canvas in synch.\n",
       "        canvas_div.css('width', width)\n",
       "        canvas_div.css('height', height)\n",
       "\n",
       "        canvas.attr('width', width * mpl.ratio);\n",
       "        canvas.attr('height', height * mpl.ratio);\n",
       "        canvas.attr('style', 'width: ' + width + 'px; height: ' + height + 'px;');\n",
       "\n",
       "        rubberband.attr('width', width);\n",
       "        rubberband.attr('height', height);\n",
       "    }\n",
       "\n",
       "    // Set the figure to an initial 600x600px, this will subsequently be updated\n",
       "    // upon first draw.\n",
       "    this._resize_canvas(600, 600);\n",
       "\n",
       "    // Disable right mouse context menu.\n",
       "    $(this.rubberband_canvas).bind(\"contextmenu\",function(e){\n",
       "        return false;\n",
       "    });\n",
       "\n",
       "    function set_focus () {\n",
       "        canvas.focus();\n",
       "        canvas_div.focus();\n",
       "    }\n",
       "\n",
       "    window.setTimeout(set_focus, 100);\n",
       "}\n",
       "\n",
       "mpl.figure.prototype._init_toolbar = function() {\n",
       "    var fig = this;\n",
       "\n",
       "    var nav_element = $('<div/>');\n",
       "    nav_element.attr('style', 'width: 100%');\n",
       "    this.root.append(nav_element);\n",
       "\n",
       "    // Define a callback function for later on.\n",
       "    function toolbar_event(event) {\n",
       "        return fig.toolbar_button_onclick(event['data']);\n",
       "    }\n",
       "    function toolbar_mouse_event(event) {\n",
       "        return fig.toolbar_button_onmouseover(event['data']);\n",
       "    }\n",
       "\n",
       "    for(var toolbar_ind in mpl.toolbar_items) {\n",
       "        var name = mpl.toolbar_items[toolbar_ind][0];\n",
       "        var tooltip = mpl.toolbar_items[toolbar_ind][1];\n",
       "        var image = mpl.toolbar_items[toolbar_ind][2];\n",
       "        var method_name = mpl.toolbar_items[toolbar_ind][3];\n",
       "\n",
       "        if (!name) {\n",
       "            // put a spacer in here.\n",
       "            continue;\n",
       "        }\n",
       "        var button = $('<button/>');\n",
       "        button.addClass('ui-button ui-widget ui-state-default ui-corner-all ' +\n",
       "                        'ui-button-icon-only');\n",
       "        button.attr('role', 'button');\n",
       "        button.attr('aria-disabled', 'false');\n",
       "        button.click(method_name, toolbar_event);\n",
       "        button.mouseover(tooltip, toolbar_mouse_event);\n",
       "\n",
       "        var icon_img = $('<span/>');\n",
       "        icon_img.addClass('ui-button-icon-primary ui-icon');\n",
       "        icon_img.addClass(image);\n",
       "        icon_img.addClass('ui-corner-all');\n",
       "\n",
       "        var tooltip_span = $('<span/>');\n",
       "        tooltip_span.addClass('ui-button-text');\n",
       "        tooltip_span.html(tooltip);\n",
       "\n",
       "        button.append(icon_img);\n",
       "        button.append(tooltip_span);\n",
       "\n",
       "        nav_element.append(button);\n",
       "    }\n",
       "\n",
       "    var fmt_picker_span = $('<span/>');\n",
       "\n",
       "    var fmt_picker = $('<select/>');\n",
       "    fmt_picker.addClass('mpl-toolbar-option ui-widget ui-widget-content');\n",
       "    fmt_picker_span.append(fmt_picker);\n",
       "    nav_element.append(fmt_picker_span);\n",
       "    this.format_dropdown = fmt_picker[0];\n",
       "\n",
       "    for (var ind in mpl.extensions) {\n",
       "        var fmt = mpl.extensions[ind];\n",
       "        var option = $(\n",
       "            '<option/>', {selected: fmt === mpl.default_extension}).html(fmt);\n",
       "        fmt_picker.append(option);\n",
       "    }\n",
       "\n",
       "    // Add hover states to the ui-buttons\n",
       "    $( \".ui-button\" ).hover(\n",
       "        function() { $(this).addClass(\"ui-state-hover\");},\n",
       "        function() { $(this).removeClass(\"ui-state-hover\");}\n",
       "    );\n",
       "\n",
       "    var status_bar = $('<span class=\"mpl-message\"/>');\n",
       "    nav_element.append(status_bar);\n",
       "    this.message = status_bar[0];\n",
       "}\n",
       "\n",
       "mpl.figure.prototype.request_resize = function(x_pixels, y_pixels) {\n",
       "    // Request matplotlib to resize the figure. Matplotlib will then trigger a resize in the client,\n",
       "    // which will in turn request a refresh of the image.\n",
       "    this.send_message('resize', {'width': x_pixels, 'height': y_pixels});\n",
       "}\n",
       "\n",
       "mpl.figure.prototype.send_message = function(type, properties) {\n",
       "    properties['type'] = type;\n",
       "    properties['figure_id'] = this.id;\n",
       "    this.ws.send(JSON.stringify(properties));\n",
       "}\n",
       "\n",
       "mpl.figure.prototype.send_draw_message = function() {\n",
       "    if (!this.waiting) {\n",
       "        this.waiting = true;\n",
       "        this.ws.send(JSON.stringify({type: \"draw\", figure_id: this.id}));\n",
       "    }\n",
       "}\n",
       "\n",
       "\n",
       "mpl.figure.prototype.handle_save = function(fig, msg) {\n",
       "    var format_dropdown = fig.format_dropdown;\n",
       "    var format = format_dropdown.options[format_dropdown.selectedIndex].value;\n",
       "    fig.ondownload(fig, format);\n",
       "}\n",
       "\n",
       "\n",
       "mpl.figure.prototype.handle_resize = function(fig, msg) {\n",
       "    var size = msg['size'];\n",
       "    if (size[0] != fig.canvas.width || size[1] != fig.canvas.height) {\n",
       "        fig._resize_canvas(size[0], size[1]);\n",
       "        fig.send_message(\"refresh\", {});\n",
       "    };\n",
       "}\n",
       "\n",
       "mpl.figure.prototype.handle_rubberband = function(fig, msg) {\n",
       "    var x0 = msg['x0'] / mpl.ratio;\n",
       "    var y0 = (fig.canvas.height - msg['y0']) / mpl.ratio;\n",
       "    var x1 = msg['x1'] / mpl.ratio;\n",
       "    var y1 = (fig.canvas.height - msg['y1']) / mpl.ratio;\n",
       "    x0 = Math.floor(x0) + 0.5;\n",
       "    y0 = Math.floor(y0) + 0.5;\n",
       "    x1 = Math.floor(x1) + 0.5;\n",
       "    y1 = Math.floor(y1) + 0.5;\n",
       "    var min_x = Math.min(x0, x1);\n",
       "    var min_y = Math.min(y0, y1);\n",
       "    var width = Math.abs(x1 - x0);\n",
       "    var height = Math.abs(y1 - y0);\n",
       "\n",
       "    fig.rubberband_context.clearRect(\n",
       "        0, 0, fig.canvas.width / mpl.ratio, fig.canvas.height / mpl.ratio);\n",
       "\n",
       "    fig.rubberband_context.strokeRect(min_x, min_y, width, height);\n",
       "}\n",
       "\n",
       "mpl.figure.prototype.handle_figure_label = function(fig, msg) {\n",
       "    // Updates the figure title.\n",
       "    fig.header.textContent = msg['label'];\n",
       "}\n",
       "\n",
       "mpl.figure.prototype.handle_cursor = function(fig, msg) {\n",
       "    var cursor = msg['cursor'];\n",
       "    switch(cursor)\n",
       "    {\n",
       "    case 0:\n",
       "        cursor = 'pointer';\n",
       "        break;\n",
       "    case 1:\n",
       "        cursor = 'default';\n",
       "        break;\n",
       "    case 2:\n",
       "        cursor = 'crosshair';\n",
       "        break;\n",
       "    case 3:\n",
       "        cursor = 'move';\n",
       "        break;\n",
       "    }\n",
       "    fig.rubberband_canvas.style.cursor = cursor;\n",
       "}\n",
       "\n",
       "mpl.figure.prototype.handle_message = function(fig, msg) {\n",
       "    fig.message.textContent = msg['message'];\n",
       "}\n",
       "\n",
       "mpl.figure.prototype.handle_draw = function(fig, msg) {\n",
       "    // Request the server to send over a new figure.\n",
       "    fig.send_draw_message();\n",
       "}\n",
       "\n",
       "mpl.figure.prototype.handle_image_mode = function(fig, msg) {\n",
       "    fig.image_mode = msg['mode'];\n",
       "}\n",
       "\n",
       "mpl.figure.prototype.updated_canvas_event = function() {\n",
       "    // Called whenever the canvas gets updated.\n",
       "    this.send_message(\"ack\", {});\n",
       "}\n",
       "\n",
       "// A function to construct a web socket function for onmessage handling.\n",
       "// Called in the figure constructor.\n",
       "mpl.figure.prototype._make_on_message_function = function(fig) {\n",
       "    return function socket_on_message(evt) {\n",
       "        if (evt.data instanceof Blob) {\n",
       "            /* FIXME: We get \"Resource interpreted as Image but\n",
       "             * transferred with MIME type text/plain:\" errors on\n",
       "             * Chrome.  But how to set the MIME type?  It doesn't seem\n",
       "             * to be part of the websocket stream */\n",
       "            evt.data.type = \"image/png\";\n",
       "\n",
       "            /* Free the memory for the previous frames */\n",
       "            if (fig.imageObj.src) {\n",
       "                (window.URL || window.webkitURL).revokeObjectURL(\n",
       "                    fig.imageObj.src);\n",
       "            }\n",
       "\n",
       "            fig.imageObj.src = (window.URL || window.webkitURL).createObjectURL(\n",
       "                evt.data);\n",
       "            fig.updated_canvas_event();\n",
       "            fig.waiting = false;\n",
       "            return;\n",
       "        }\n",
       "        else if (typeof evt.data === 'string' && evt.data.slice(0, 21) == \"data:image/png;base64\") {\n",
       "            fig.imageObj.src = evt.data;\n",
       "            fig.updated_canvas_event();\n",
       "            fig.waiting = false;\n",
       "            return;\n",
       "        }\n",
       "\n",
       "        var msg = JSON.parse(evt.data);\n",
       "        var msg_type = msg['type'];\n",
       "\n",
       "        // Call the  \"handle_{type}\" callback, which takes\n",
       "        // the figure and JSON message as its only arguments.\n",
       "        try {\n",
       "            var callback = fig[\"handle_\" + msg_type];\n",
       "        } catch (e) {\n",
       "            console.log(\"No handler for the '\" + msg_type + \"' message type: \", msg);\n",
       "            return;\n",
       "        }\n",
       "\n",
       "        if (callback) {\n",
       "            try {\n",
       "                // console.log(\"Handling '\" + msg_type + \"' message: \", msg);\n",
       "                callback(fig, msg);\n",
       "            } catch (e) {\n",
       "                console.log(\"Exception inside the 'handler_\" + msg_type + \"' callback:\", e, e.stack, msg);\n",
       "            }\n",
       "        }\n",
       "    };\n",
       "}\n",
       "\n",
       "// from http://stackoverflow.com/questions/1114465/getting-mouse-location-in-canvas\n",
       "mpl.findpos = function(e) {\n",
       "    //this section is from http://www.quirksmode.org/js/events_properties.html\n",
       "    var targ;\n",
       "    if (!e)\n",
       "        e = window.event;\n",
       "    if (e.target)\n",
       "        targ = e.target;\n",
       "    else if (e.srcElement)\n",
       "        targ = e.srcElement;\n",
       "    if (targ.nodeType == 3) // defeat Safari bug\n",
       "        targ = targ.parentNode;\n",
       "\n",
       "    // jQuery normalizes the pageX and pageY\n",
       "    // pageX,Y are the mouse positions relative to the document\n",
       "    // offset() returns the position of the element relative to the document\n",
       "    var x = e.pageX - $(targ).offset().left;\n",
       "    var y = e.pageY - $(targ).offset().top;\n",
       "\n",
       "    return {\"x\": x, \"y\": y};\n",
       "};\n",
       "\n",
       "/*\n",
       " * return a copy of an object with only non-object keys\n",
       " * we need this to avoid circular references\n",
       " * http://stackoverflow.com/a/24161582/3208463\n",
       " */\n",
       "function simpleKeys (original) {\n",
       "  return Object.keys(original).reduce(function (obj, key) {\n",
       "    if (typeof original[key] !== 'object')\n",
       "        obj[key] = original[key]\n",
       "    return obj;\n",
       "  }, {});\n",
       "}\n",
       "\n",
       "mpl.figure.prototype.mouse_event = function(event, name) {\n",
       "    var canvas_pos = mpl.findpos(event)\n",
       "\n",
       "    if (name === 'button_press')\n",
       "    {\n",
       "        this.canvas.focus();\n",
       "        this.canvas_div.focus();\n",
       "    }\n",
       "\n",
       "    var x = canvas_pos.x * mpl.ratio;\n",
       "    var y = canvas_pos.y * mpl.ratio;\n",
       "\n",
       "    this.send_message(name, {x: x, y: y, button: event.button,\n",
       "                             step: event.step,\n",
       "                             guiEvent: simpleKeys(event)});\n",
       "\n",
       "    /* This prevents the web browser from automatically changing to\n",
       "     * the text insertion cursor when the button is pressed.  We want\n",
       "     * to control all of the cursor setting manually through the\n",
       "     * 'cursor' event from matplotlib */\n",
       "    event.preventDefault();\n",
       "    return false;\n",
       "}\n",
       "\n",
       "mpl.figure.prototype._key_event_extra = function(event, name) {\n",
       "    // Handle any extra behaviour associated with a key event\n",
       "}\n",
       "\n",
       "mpl.figure.prototype.key_event = function(event, name) {\n",
       "\n",
       "    // Prevent repeat events\n",
       "    if (name == 'key_press')\n",
       "    {\n",
       "        if (event.which === this._key)\n",
       "            return;\n",
       "        else\n",
       "            this._key = event.which;\n",
       "    }\n",
       "    if (name == 'key_release')\n",
       "        this._key = null;\n",
       "\n",
       "    var value = '';\n",
       "    if (event.ctrlKey && event.which != 17)\n",
       "        value += \"ctrl+\";\n",
       "    if (event.altKey && event.which != 18)\n",
       "        value += \"alt+\";\n",
       "    if (event.shiftKey && event.which != 16)\n",
       "        value += \"shift+\";\n",
       "\n",
       "    value += 'k';\n",
       "    value += event.which.toString();\n",
       "\n",
       "    this._key_event_extra(event, name);\n",
       "\n",
       "    this.send_message(name, {key: value,\n",
       "                             guiEvent: simpleKeys(event)});\n",
       "    return false;\n",
       "}\n",
       "\n",
       "mpl.figure.prototype.toolbar_button_onclick = function(name) {\n",
       "    if (name == 'download') {\n",
       "        this.handle_save(this, null);\n",
       "    } else {\n",
       "        this.send_message(\"toolbar_button\", {name: name});\n",
       "    }\n",
       "};\n",
       "\n",
       "mpl.figure.prototype.toolbar_button_onmouseover = function(tooltip) {\n",
       "    this.message.textContent = tooltip;\n",
       "};\n",
       "mpl.toolbar_items = [[\"Home\", \"Reset original view\", \"fa fa-home icon-home\", \"home\"], [\"Back\", \"Back to previous view\", \"fa fa-arrow-left icon-arrow-left\", \"back\"], [\"Forward\", \"Forward to next view\", \"fa fa-arrow-right icon-arrow-right\", \"forward\"], [\"\", \"\", \"\", \"\"], [\"Pan\", \"Pan axes with left mouse, zoom with right\", \"fa fa-arrows icon-move\", \"pan\"], [\"Zoom\", \"Zoom to rectangle\", \"fa fa-square-o icon-check-empty\", \"zoom\"], [\"\", \"\", \"\", \"\"], [\"Download\", \"Download plot\", \"fa fa-floppy-o icon-save\", \"download\"]];\n",
       "\n",
       "mpl.extensions = [\"eps\", \"jpeg\", \"pdf\", \"png\", \"ps\", \"raw\", \"svg\", \"tif\"];\n",
       "\n",
       "mpl.default_extension = \"png\";var comm_websocket_adapter = function(comm) {\n",
       "    // Create a \"websocket\"-like object which calls the given IPython comm\n",
       "    // object with the appropriate methods. Currently this is a non binary\n",
       "    // socket, so there is still some room for performance tuning.\n",
       "    var ws = {};\n",
       "\n",
       "    ws.close = function() {\n",
       "        comm.close()\n",
       "    };\n",
       "    ws.send = function(m) {\n",
       "        //console.log('sending', m);\n",
       "        comm.send(m);\n",
       "    };\n",
       "    // Register the callback with on_msg.\n",
       "    comm.on_msg(function(msg) {\n",
       "        //console.log('receiving', msg['content']['data'], msg);\n",
       "        // Pass the mpl event to the overridden (by mpl) onmessage function.\n",
       "        ws.onmessage(msg['content']['data'])\n",
       "    });\n",
       "    return ws;\n",
       "}\n",
       "\n",
       "mpl.mpl_figure_comm = function(comm, msg) {\n",
       "    // This is the function which gets called when the mpl process\n",
       "    // starts-up an IPython Comm through the \"matplotlib\" channel.\n",
       "\n",
       "    var id = msg.content.data.id;\n",
       "    // Get hold of the div created by the display call when the Comm\n",
       "    // socket was opened in Python.\n",
       "    var element = $(\"#\" + id);\n",
       "    var ws_proxy = comm_websocket_adapter(comm)\n",
       "\n",
       "    function ondownload(figure, format) {\n",
       "        window.open(figure.imageObj.src);\n",
       "    }\n",
       "\n",
       "    var fig = new mpl.figure(id, ws_proxy,\n",
       "                           ondownload,\n",
       "                           element.get(0));\n",
       "\n",
       "    // Call onopen now - mpl needs it, as it is assuming we've passed it a real\n",
       "    // web socket which is closed, not our websocket->open comm proxy.\n",
       "    ws_proxy.onopen();\n",
       "\n",
       "    fig.parent_element = element.get(0);\n",
       "    fig.cell_info = mpl.find_output_cell(\"<div id='\" + id + \"'></div>\");\n",
       "    if (!fig.cell_info) {\n",
       "        console.error(\"Failed to find cell for figure\", id, fig);\n",
       "        return;\n",
       "    }\n",
       "\n",
       "    var output_index = fig.cell_info[2]\n",
       "    var cell = fig.cell_info[0];\n",
       "\n",
       "};\n",
       "\n",
       "mpl.figure.prototype.handle_close = function(fig, msg) {\n",
       "    var width = fig.canvas.width/mpl.ratio\n",
       "    fig.root.unbind('remove')\n",
       "\n",
       "    // Update the output cell to use the data from the current canvas.\n",
       "    fig.push_to_output();\n",
       "    var dataURL = fig.canvas.toDataURL();\n",
       "    // Re-enable the keyboard manager in IPython - without this line, in FF,\n",
       "    // the notebook keyboard shortcuts fail.\n",
       "    IPython.keyboard_manager.enable()\n",
       "    $(fig.parent_element).html('<img src=\"' + dataURL + '\" width=\"' + width + '\">');\n",
       "    fig.close_ws(fig, msg);\n",
       "}\n",
       "\n",
       "mpl.figure.prototype.close_ws = function(fig, msg){\n",
       "    fig.send_message('closing', msg);\n",
       "    // fig.ws.close()\n",
       "}\n",
       "\n",
       "mpl.figure.prototype.push_to_output = function(remove_interactive) {\n",
       "    // Turn the data on the canvas into data in the output cell.\n",
       "    var width = this.canvas.width/mpl.ratio\n",
       "    var dataURL = this.canvas.toDataURL();\n",
       "    this.cell_info[1]['text/html'] = '<img src=\"' + dataURL + '\" width=\"' + width + '\">';\n",
       "}\n",
       "\n",
       "mpl.figure.prototype.updated_canvas_event = function() {\n",
       "    // Tell IPython that the notebook contents must change.\n",
       "    IPython.notebook.set_dirty(true);\n",
       "    this.send_message(\"ack\", {});\n",
       "    var fig = this;\n",
       "    // Wait a second, then push the new image to the DOM so\n",
       "    // that it is saved nicely (might be nice to debounce this).\n",
       "    setTimeout(function () { fig.push_to_output() }, 1000);\n",
       "}\n",
       "\n",
       "mpl.figure.prototype._init_toolbar = function() {\n",
       "    var fig = this;\n",
       "\n",
       "    var nav_element = $('<div/>');\n",
       "    nav_element.attr('style', 'width: 100%');\n",
       "    this.root.append(nav_element);\n",
       "\n",
       "    // Define a callback function for later on.\n",
       "    function toolbar_event(event) {\n",
       "        return fig.toolbar_button_onclick(event['data']);\n",
       "    }\n",
       "    function toolbar_mouse_event(event) {\n",
       "        return fig.toolbar_button_onmouseover(event['data']);\n",
       "    }\n",
       "\n",
       "    for(var toolbar_ind in mpl.toolbar_items){\n",
       "        var name = mpl.toolbar_items[toolbar_ind][0];\n",
       "        var tooltip = mpl.toolbar_items[toolbar_ind][1];\n",
       "        var image = mpl.toolbar_items[toolbar_ind][2];\n",
       "        var method_name = mpl.toolbar_items[toolbar_ind][3];\n",
       "\n",
       "        if (!name) { continue; };\n",
       "\n",
       "        var button = $('<button class=\"btn btn-default\" href=\"#\" title=\"' + name + '\"><i class=\"fa ' + image + ' fa-lg\"></i></button>');\n",
       "        button.click(method_name, toolbar_event);\n",
       "        button.mouseover(tooltip, toolbar_mouse_event);\n",
       "        nav_element.append(button);\n",
       "    }\n",
       "\n",
       "    // Add the status bar.\n",
       "    var status_bar = $('<span class=\"mpl-message\" style=\"text-align:right; float: right;\"/>');\n",
       "    nav_element.append(status_bar);\n",
       "    this.message = status_bar[0];\n",
       "\n",
       "    // Add the close button to the window.\n",
       "    var buttongrp = $('<div class=\"btn-group inline pull-right\"></div>');\n",
       "    var button = $('<button class=\"btn btn-mini btn-primary\" href=\"#\" title=\"Stop Interaction\"><i class=\"fa fa-power-off icon-remove icon-large\"></i></button>');\n",
       "    button.click(function (evt) { fig.handle_close(fig, {}); } );\n",
       "    button.mouseover('Stop Interaction', toolbar_mouse_event);\n",
       "    buttongrp.append(button);\n",
       "    var titlebar = this.root.find($('.ui-dialog-titlebar'));\n",
       "    titlebar.prepend(buttongrp);\n",
       "}\n",
       "\n",
       "mpl.figure.prototype._root_extra_style = function(el){\n",
       "    var fig = this\n",
       "    el.on(\"remove\", function(){\n",
       "\tfig.close_ws(fig, {});\n",
       "    });\n",
       "}\n",
       "\n",
       "mpl.figure.prototype._canvas_extra_style = function(el){\n",
       "    // this is important to make the div 'focusable\n",
       "    el.attr('tabindex', 0)\n",
       "    // reach out to IPython and tell the keyboard manager to turn it's self\n",
       "    // off when our div gets focus\n",
       "\n",
       "    // location in version 3\n",
       "    if (IPython.notebook.keyboard_manager) {\n",
       "        IPython.notebook.keyboard_manager.register_events(el);\n",
       "    }\n",
       "    else {\n",
       "        // location in version 2\n",
       "        IPython.keyboard_manager.register_events(el);\n",
       "    }\n",
       "\n",
       "}\n",
       "\n",
       "mpl.figure.prototype._key_event_extra = function(event, name) {\n",
       "    var manager = IPython.notebook.keyboard_manager;\n",
       "    if (!manager)\n",
       "        manager = IPython.keyboard_manager;\n",
       "\n",
       "    // Check for shift+enter\n",
       "    if (event.shiftKey && event.which == 13) {\n",
       "        this.canvas_div.blur();\n",
       "        // select the cell after this one\n",
       "        var index = IPython.notebook.find_cell_index(this.cell_info[0]);\n",
       "        IPython.notebook.select(index + 1);\n",
       "    }\n",
       "}\n",
       "\n",
       "mpl.figure.prototype.handle_save = function(fig, msg) {\n",
       "    fig.ondownload(fig, null);\n",
       "}\n",
       "\n",
       "\n",
       "mpl.find_output_cell = function(html_output) {\n",
       "    // Return the cell and output element which can be found *uniquely* in the notebook.\n",
       "    // Note - this is a bit hacky, but it is done because the \"notebook_saving.Notebook\"\n",
       "    // IPython event is triggered only after the cells have been serialised, which for\n",
       "    // our purposes (turning an active figure into a static one), is too late.\n",
       "    var cells = IPython.notebook.get_cells();\n",
       "    var ncells = cells.length;\n",
       "    for (var i=0; i<ncells; i++) {\n",
       "        var cell = cells[i];\n",
       "        if (cell.cell_type === 'code'){\n",
       "            for (var j=0; j<cell.output_area.outputs.length; j++) {\n",
       "                var data = cell.output_area.outputs[j];\n",
       "                if (data.data) {\n",
       "                    // IPython >= 3 moved mimebundle to data attribute of output\n",
       "                    data = data.data;\n",
       "                }\n",
       "                if (data['text/html'] == html_output) {\n",
       "                    return [cell, data, j];\n",
       "                }\n",
       "            }\n",
       "        }\n",
       "    }\n",
       "}\n",
       "\n",
       "// Register the function which deals with the matplotlib target/channel.\n",
       "// The kernel may be null if the page has been refreshed.\n",
       "if (IPython.notebook.kernel != null) {\n",
       "    IPython.notebook.kernel.comm_manager.register_target('matplotlib', mpl.mpl_figure_comm);\n",
       "}\n"
      ],
      "text/plain": [
       "<IPython.core.display.Javascript object>"
      ]
     },
     "metadata": {},
     "output_type": "display_data"
    },
    {
     "data": {
      "text/html": [
       "<img src=\"data:image/png;base64,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\" width=\"999.75\">"
      ],
      "text/plain": [
       "<IPython.core.display.HTML object>"
      ]
     },
     "metadata": {},
     "output_type": "display_data"
    }
   ],
   "source": [
    "ax, tax, lax, lines = dual_train_plots()\n",
    "fig = ax.figure\n",
    "plt.tight_layout()"
   ]
  },
  {
   "cell_type": "code",
   "execution_count": 15,
   "metadata": {
    "scrolled": false
   },
   "outputs": [
    {
     "name": "stdout",
     "output_type": "stream",
     "text": [
      "Number of batches: train = 2032, val = 144\n"
     ]
    },
    {
     "data": {
      "application/vnd.jupyter.widget-view+json": {
       "model_id": "ae08a738100143c795551d301d25cc62",
       "version_major": 2,
       "version_minor": 0
      },
      "text/plain": [
       "HBox(children=(FloatProgress(value=0.0, description='Epochs', layout=Layout(flex='2'), max=50.0, style=Progres…"
      ]
     },
     "metadata": {},
     "output_type": "display_data"
    },
    {
     "data": {
      "application/vnd.jupyter.widget-view+json": {
       "model_id": "",
       "version_major": 2,
       "version_minor": 0
      },
      "text/plain": [
       "HBox(children=(FloatProgress(value=0.0, description='Training', layout=Layout(flex='2'), max=2032.0, style=Pro…"
      ]
     },
     "metadata": {},
     "output_type": "display_data"
    },
    {
     "name": "stdout",
     "output_type": "stream",
     "text": [
      "x0 =  tensor([[5.1848e-44, 0.0000e+00, 0.0000e+00,  ..., 1.6819e-22, 1.2922e-20,\n",
      "         1.0340e-18],\n",
      "        [1.7717e-39, 0.0000e+00, 0.0000e+00,  ..., 7.0274e-15, 5.4490e-17,\n",
      "         2.3639e-14],\n",
      "        [0.0000e+00, 0.0000e+00, 0.0000e+00,  ..., 1.0862e-24, 1.0679e-22,\n",
      "         5.8030e-19],\n",
      "        ...,\n",
      "        [5.0932e-36, 1.1842e-28, 2.7227e-20,  ..., 3.2134e-18, 3.0007e-23,\n",
      "         1.5551e-25],\n",
      "        [3.1864e-33, 2.9207e-35, 3.3005e-38,  ..., 3.0394e-28, 2.4074e-23,\n",
      "         7.4892e-21],\n",
      "        [1.4575e-36, 9.1292e-38, 8.5294e-40,  ..., 1.3006e-18, 3.1764e-11,\n",
      "         8.3737e-18]], device='cuda:0', grad_fn=<SoftplusBackward>)\n",
      "x1 =  tensor([[ 0.0340,  0.0273,  0.0182,  ..., -0.0301, -0.0058,  0.0137],\n",
      "        [ 0.1016,  0.1016,  0.1018,  ..., -0.1016, -0.0678, -0.0366],\n",
      "        [ 0.0191, -0.0009, -0.0275,  ...,  0.0183,  0.0263,  0.0373],\n",
      "        ...,\n",
      "        [ 0.0835,  0.0833,  0.0820,  ..., -0.0377, -0.0149,  0.0028],\n",
      "        [ 0.0829,  0.0801,  0.0775,  ..., -0.0170,  0.0123,  0.0422],\n",
      "        [-0.0078, -0.0277, -0.0538,  ..., -0.0600, -0.0354, -0.0042]],\n",
      "       device='cuda:0', grad_fn=<ViewBackward>)\n",
      "neuronValues =  tensor([[1.4013e-45, 0.0000e+00, 0.0000e+00,  ..., -0.0000e+00, -0.0000e+00,\n",
      "         1.4127e-20],\n",
      "        [1.8007e-40, 0.0000e+00, 0.0000e+00,  ..., -0.0000e+00, -0.0000e+00,\n",
      "         -0.0000e+00],\n",
      "        [0.0000e+00, -0.0000e+00, -0.0000e+00,  ..., 1.9927e-26, 2.8103e-24,\n",
      "         2.1657e-20],\n",
      "        ...,\n",
      "        [4.2529e-37, 9.8582e-30, 2.2328e-21,  ..., -0.0000e+00, -0.0000e+00,\n",
      "         4.4231e-28],\n",
      "        [2.6407e-34, 2.3388e-36, 2.5583e-39,  ..., -0.0000e+00, 2.9628e-25,\n",
      "         3.1575e-22],\n",
      "        [-0.0000e+00, -0.0000e+00, -0.0000e+00,  ..., -0.0000e+00, -0.0000e+00,\n",
      "         -0.0000e+00]], device='cuda:0', grad_fn=<LeakyReluBackward0>)\n",
      "Epoch 0: train=2.17519, val=1.98887, took 98.358 s\n",
      "  Validation Found 89894 of 93880, added 1910 (eff 95.75%) (0.104 FP/event)\n"
     ]
    },
    {
     "data": {
      "application/vnd.jupyter.widget-view+json": {
       "model_id": "",
       "version_major": 2,
       "version_minor": 0
      },
      "text/plain": [
       "HBox(children=(FloatProgress(value=0.0, description='Training', layout=Layout(flex='2'), max=2032.0, style=Pro…"
      ]
     },
     "metadata": {},
     "output_type": "display_data"
    },
    {
     "name": "stdout",
     "output_type": "stream",
     "text": [
      "Epoch 1: train=2.14956, val=1.98371, took 99.263 s\n",
      "  Validation Found 89860 of 93880, added 1878 (eff 95.72%) (0.102 FP/event)\n"
     ]
    },
    {
     "data": {
      "application/vnd.jupyter.widget-view+json": {
       "model_id": "",
       "version_major": 2,
       "version_minor": 0
      },
      "text/plain": [
       "HBox(children=(FloatProgress(value=0.0, description='Training', layout=Layout(flex='2'), max=2032.0, style=Pro…"
      ]
     },
     "metadata": {},
     "output_type": "display_data"
    },
    {
     "name": "stdout",
     "output_type": "stream",
     "text": [
      "Epoch 2: train=2.14625, val=1.98127, took 95.6 s\n",
      "  Validation Found 89877 of 93880, added 1870 (eff 95.74%) (0.102 FP/event)\n"
     ]
    },
    {
     "data": {
      "application/vnd.jupyter.widget-view+json": {
       "model_id": "",
       "version_major": 2,
       "version_minor": 0
      },
      "text/plain": [
       "HBox(children=(FloatProgress(value=0.0, description='Training', layout=Layout(flex='2'), max=2032.0, style=Pro…"
      ]
     },
     "metadata": {},
     "output_type": "display_data"
    },
    {
     "name": "stdout",
     "output_type": "stream",
     "text": [
      "Epoch 3: train=2.14495, val=1.98034, took 93.571 s\n",
      "  Validation Found 89909 of 93880, added 1889 (eff 95.77%) (0.103 FP/event)\n"
     ]
    },
    {
     "data": {
      "application/vnd.jupyter.widget-view+json": {
       "model_id": "",
       "version_major": 2,
       "version_minor": 0
      },
      "text/plain": [
       "HBox(children=(FloatProgress(value=0.0, description='Training', layout=Layout(flex='2'), max=2032.0, style=Pro…"
      ]
     },
     "metadata": {},
     "output_type": "display_data"
    },
    {
     "name": "stdout",
     "output_type": "stream",
     "text": [
      "Epoch 4: train=2.14302, val=1.97931, took 92.02 s\n",
      "  Validation Found 89931 of 93880, added 1898 (eff 95.79%) (0.103 FP/event)\n"
     ]
    },
    {
     "data": {
      "application/vnd.jupyter.widget-view+json": {
       "model_id": "",
       "version_major": 2,
       "version_minor": 0
      },
      "text/plain": [
       "HBox(children=(FloatProgress(value=0.0, description='Training', layout=Layout(flex='2'), max=2032.0, style=Pro…"
      ]
     },
     "metadata": {},
     "output_type": "display_data"
    },
    {
     "name": "stdout",
     "output_type": "stream",
     "text": [
      "Epoch 5: train=2.14136, val=1.97875, took 91.574 s\n",
      "  Validation Found 89979 of 93880, added 1933 (eff 95.84%) (0.105 FP/event)\n"
     ]
    },
    {
     "data": {
      "application/vnd.jupyter.widget-view+json": {
       "model_id": "",
       "version_major": 2,
       "version_minor": 0
      },
      "text/plain": [
       "HBox(children=(FloatProgress(value=0.0, description='Training', layout=Layout(flex='2'), max=2032.0, style=Pro…"
      ]
     },
     "metadata": {},
     "output_type": "display_data"
    },
    {
     "name": "stdout",
     "output_type": "stream",
     "text": [
      "Epoch 6: train=2.14141, val=1.97867, took 91.562 s\n",
      "  Validation Found 89924 of 93880, added 1901 (eff 95.79%) (0.104 FP/event)\n"
     ]
    },
    {
     "data": {
      "application/vnd.jupyter.widget-view+json": {
       "model_id": "",
       "version_major": 2,
       "version_minor": 0
      },
      "text/plain": [
       "HBox(children=(FloatProgress(value=0.0, description='Training', layout=Layout(flex='2'), max=2032.0, style=Pro…"
      ]
     },
     "metadata": {},
     "output_type": "display_data"
    },
    {
     "name": "stdout",
     "output_type": "stream",
     "text": [
      "Epoch 7: train=2.14032, val=1.97825, took 91.487 s\n",
      "  Validation Found 89975 of 93880, added 1931 (eff 95.84%) (0.105 FP/event)\n"
     ]
    },
    {
     "data": {
      "application/vnd.jupyter.widget-view+json": {
       "model_id": "",
       "version_major": 2,
       "version_minor": 0
      },
      "text/plain": [
       "HBox(children=(FloatProgress(value=0.0, description='Training', layout=Layout(flex='2'), max=2032.0, style=Pro…"
      ]
     },
     "metadata": {},
     "output_type": "display_data"
    },
    {
     "name": "stdout",
     "output_type": "stream",
     "text": [
      "Epoch 8: train=2.14055, val=1.97797, took 95.484 s\n",
      "  Validation Found 89995 of 93880, added 1942 (eff 95.86%) (0.106 FP/event)\n"
     ]
    },
    {
     "data": {
      "application/vnd.jupyter.widget-view+json": {
       "model_id": "",
       "version_major": 2,
       "version_minor": 0
      },
      "text/plain": [
       "HBox(children=(FloatProgress(value=0.0, description='Training', layout=Layout(flex='2'), max=2032.0, style=Pro…"
      ]
     },
     "metadata": {},
     "output_type": "display_data"
    },
    {
     "name": "stdout",
     "output_type": "stream",
     "text": [
      "Epoch 9: train=2.14079, val=1.97814, took 96.385 s\n",
      "  Validation Found 89963 of 93880, added 1913 (eff 95.83%) (0.104 FP/event)\n"
     ]
    },
    {
     "data": {
      "application/vnd.jupyter.widget-view+json": {
       "model_id": "",
       "version_major": 2,
       "version_minor": 0
      },
      "text/plain": [
       "HBox(children=(FloatProgress(value=0.0, description='Training', layout=Layout(flex='2'), max=2032.0, style=Pro…"
      ]
     },
     "metadata": {},
     "output_type": "display_data"
    },
    {
     "name": "stdout",
     "output_type": "stream",
     "text": [
      "Epoch 10: train=2.13994, val=1.97773, took 96.064 s\n",
      "  Validation Found 89971 of 93880, added 1925 (eff 95.84%) (0.105 FP/event)\n"
     ]
    },
    {
     "data": {
      "application/vnd.jupyter.widget-view+json": {
       "model_id": "",
       "version_major": 2,
       "version_minor": 0
      },
      "text/plain": [
       "HBox(children=(FloatProgress(value=0.0, description='Training', layout=Layout(flex='2'), max=2032.0, style=Pro…"
      ]
     },
     "metadata": {},
     "output_type": "display_data"
    },
    {
     "name": "stdout",
     "output_type": "stream",
     "text": [
      "Epoch 11: train=2.13955, val=1.97748, took 94.861 s\n",
      "  Validation Found 90006 of 93880, added 1940 (eff 95.87%) (0.106 FP/event)\n"
     ]
    },
    {
     "data": {
      "application/vnd.jupyter.widget-view+json": {
       "model_id": "",
       "version_major": 2,
       "version_minor": 0
      },
      "text/plain": [
       "HBox(children=(FloatProgress(value=0.0, description='Training', layout=Layout(flex='2'), max=2032.0, style=Pro…"
      ]
     },
     "metadata": {},
     "output_type": "display_data"
    },
    {
     "name": "stdout",
     "output_type": "stream",
     "text": [
      "Epoch 12: train=2.13945, val=1.97781, took 95.213 s\n",
      "  Validation Found 89980 of 93880, added 1920 (eff 95.85%) (0.105 FP/event)\n"
     ]
    },
    {
     "data": {
      "application/vnd.jupyter.widget-view+json": {
       "model_id": "",
       "version_major": 2,
       "version_minor": 0
      },
      "text/plain": [
       "HBox(children=(FloatProgress(value=0.0, description='Training', layout=Layout(flex='2'), max=2032.0, style=Pro…"
      ]
     },
     "metadata": {},
     "output_type": "display_data"
    },
    {
     "name": "stdout",
     "output_type": "stream",
     "text": [
      "Epoch 13: train=2.13817, val=1.97708, took 93.539 s\n",
      "  Validation Found 89990 of 93880, added 1928 (eff 95.86%) (0.105 FP/event)\n"
     ]
    },
    {
     "data": {
      "application/vnd.jupyter.widget-view+json": {
       "model_id": "",
       "version_major": 2,
       "version_minor": 0
      },
      "text/plain": [
       "HBox(children=(FloatProgress(value=0.0, description='Training', layout=Layout(flex='2'), max=2032.0, style=Pro…"
      ]
     },
     "metadata": {},
     "output_type": "display_data"
    },
    {
     "name": "stdout",
     "output_type": "stream",
     "text": [
      "Epoch 14: train=2.13952, val=1.97727, took 93.381 s\n",
      "  Validation Found 89983 of 93880, added 1921 (eff 95.85%) (0.105 FP/event)\n"
     ]
    },
    {
     "data": {
      "application/vnd.jupyter.widget-view+json": {
       "model_id": "",
       "version_major": 2,
       "version_minor": 0
      },
      "text/plain": [
       "HBox(children=(FloatProgress(value=0.0, description='Training', layout=Layout(flex='2'), max=2032.0, style=Pro…"
      ]
     },
     "metadata": {},
     "output_type": "display_data"
    },
    {
     "name": "stdout",
     "output_type": "stream",
     "text": [
      "Epoch 15: train=2.13927, val=1.97689, took 93.349 s\n",
      "  Validation Found 90030 of 93880, added 1949 (eff 95.90%) (0.106 FP/event)\n"
     ]
    },
    {
     "data": {
      "application/vnd.jupyter.widget-view+json": {
       "model_id": "",
       "version_major": 2,
       "version_minor": 0
      },
      "text/plain": [
       "HBox(children=(FloatProgress(value=0.0, description='Training', layout=Layout(flex='2'), max=2032.0, style=Pro…"
      ]
     },
     "metadata": {},
     "output_type": "display_data"
    },
    {
     "name": "stdout",
     "output_type": "stream",
     "text": [
      "Epoch 16: train=2.13891, val=1.9774, took 93.396 s\n",
      "  Validation Found 89995 of 93880, added 1921 (eff 95.86%) (0.105 FP/event)\n"
     ]
    },
    {
     "data": {
      "application/vnd.jupyter.widget-view+json": {
       "model_id": "",
       "version_major": 2,
       "version_minor": 0
      },
      "text/plain": [
       "HBox(children=(FloatProgress(value=0.0, description='Training', layout=Layout(flex='2'), max=2032.0, style=Pro…"
      ]
     },
     "metadata": {},
     "output_type": "display_data"
    },
    {
     "name": "stdout",
     "output_type": "stream",
     "text": [
      "Epoch 17: train=2.13836, val=1.97702, took 93.362 s\n",
      "  Validation Found 89991 of 93880, added 1919 (eff 95.86%) (0.105 FP/event)\n"
     ]
    },
    {
     "data": {
      "application/vnd.jupyter.widget-view+json": {
       "model_id": "",
       "version_major": 2,
       "version_minor": 0
      },
      "text/plain": [
       "HBox(children=(FloatProgress(value=0.0, description='Training', layout=Layout(flex='2'), max=2032.0, style=Pro…"
      ]
     },
     "metadata": {},
     "output_type": "display_data"
    },
    {
     "name": "stdout",
     "output_type": "stream",
     "text": [
      "Epoch 18: train=2.13881, val=1.97652, took 93.411 s\n",
      "  Validation Found 90030 of 93880, added 1943 (eff 95.90%) (0.106 FP/event)\n"
     ]
    },
    {
     "data": {
      "application/vnd.jupyter.widget-view+json": {
       "model_id": "",
       "version_major": 2,
       "version_minor": 0
      },
      "text/plain": [
       "HBox(children=(FloatProgress(value=0.0, description='Training', layout=Layout(flex='2'), max=2032.0, style=Pro…"
      ]
     },
     "metadata": {},
     "output_type": "display_data"
    },
    {
     "name": "stdout",
     "output_type": "stream",
     "text": [
      "Epoch 19: train=2.13803, val=1.97685, took 93.351 s\n",
      "  Validation Found 90008 of 93880, added 1925 (eff 95.88%) (0.105 FP/event)\n"
     ]
    },
    {
     "data": {
      "application/vnd.jupyter.widget-view+json": {
       "model_id": "",
       "version_major": 2,
       "version_minor": 0
      },
      "text/plain": [
       "HBox(children=(FloatProgress(value=0.0, description='Training', layout=Layout(flex='2'), max=2032.0, style=Pro…"
      ]
     },
     "metadata": {},
     "output_type": "display_data"
    },
    {
     "name": "stdout",
     "output_type": "stream",
     "text": [
      "Epoch 20: train=2.13776, val=1.97681, took 93.486 s\n",
      "  Validation Found 90014 of 93880, added 1924 (eff 95.88%) (0.105 FP/event)\n"
     ]
    },
    {
     "data": {
      "application/vnd.jupyter.widget-view+json": {
       "model_id": "",
       "version_major": 2,
       "version_minor": 0
      },
      "text/plain": [
       "HBox(children=(FloatProgress(value=0.0, description='Training', layout=Layout(flex='2'), max=2032.0, style=Pro…"
      ]
     },
     "metadata": {},
     "output_type": "display_data"
    },
    {
     "name": "stdout",
     "output_type": "stream",
     "text": [
      "Epoch 21: train=2.13818, val=1.97675, took 93.444 s\n",
      "  Validation Found 89990 of 93880, added 1926 (eff 95.86%) (0.105 FP/event)\n"
     ]
    },
    {
     "data": {
      "application/vnd.jupyter.widget-view+json": {
       "model_id": "",
       "version_major": 2,
       "version_minor": 0
      },
      "text/plain": [
       "HBox(children=(FloatProgress(value=0.0, description='Training', layout=Layout(flex='2'), max=2032.0, style=Pro…"
      ]
     },
     "metadata": {},
     "output_type": "display_data"
    },
    {
     "name": "stdout",
     "output_type": "stream",
     "text": [
      "Epoch 22: train=2.13875, val=1.97668, took 93.206 s\n",
      "  Validation Found 89986 of 93880, added 1921 (eff 95.85%) (0.105 FP/event)\n"
     ]
    },
    {
     "data": {
      "application/vnd.jupyter.widget-view+json": {
       "model_id": "",
       "version_major": 2,
       "version_minor": 0
      },
      "text/plain": [
       "HBox(children=(FloatProgress(value=0.0, description='Training', layout=Layout(flex='2'), max=2032.0, style=Pro…"
      ]
     },
     "metadata": {},
     "output_type": "display_data"
    },
    {
     "name": "stdout",
     "output_type": "stream",
     "text": [
      "Epoch 23: train=2.13888, val=1.97642, took 93.128 s\n",
      "  Validation Found 90031 of 93880, added 1946 (eff 95.90%) (0.106 FP/event)\n"
     ]
    },
    {
     "data": {
      "application/vnd.jupyter.widget-view+json": {
       "model_id": "",
       "version_major": 2,
       "version_minor": 0
      },
      "text/plain": [
       "HBox(children=(FloatProgress(value=0.0, description='Training', layout=Layout(flex='2'), max=2032.0, style=Pro…"
      ]
     },
     "metadata": {},
     "output_type": "display_data"
    },
    {
     "name": "stdout",
     "output_type": "stream",
     "text": [
      "Epoch 24: train=2.13749, val=1.97651, took 93.525 s\n",
      "  Validation Found 90037 of 93880, added 1948 (eff 95.91%) (0.106 FP/event)\n"
     ]
    },
    {
     "data": {
      "application/vnd.jupyter.widget-view+json": {
       "model_id": "",
       "version_major": 2,
       "version_minor": 0
      },
      "text/plain": [
       "HBox(children=(FloatProgress(value=0.0, description='Training', layout=Layout(flex='2'), max=2032.0, style=Pro…"
      ]
     },
     "metadata": {},
     "output_type": "display_data"
    },
    {
     "name": "stdout",
     "output_type": "stream",
     "text": [
      "Epoch 25: train=2.1382, val=1.97629, took 93.368 s\n",
      "  Validation Found 90044 of 93880, added 1947 (eff 95.91%) (0.106 FP/event)\n"
     ]
    },
    {
     "data": {
      "application/vnd.jupyter.widget-view+json": {
       "model_id": "",
       "version_major": 2,
       "version_minor": 0
      },
      "text/plain": [
       "HBox(children=(FloatProgress(value=0.0, description='Training', layout=Layout(flex='2'), max=2032.0, style=Pro…"
      ]
     },
     "metadata": {},
     "output_type": "display_data"
    },
    {
     "name": "stdout",
     "output_type": "stream",
     "text": [
      "Epoch 26: train=2.13734, val=1.97669, took 93.476 s\n",
      "  Validation Found 89984 of 93880, added 1928 (eff 95.85%) (0.105 FP/event)\n"
     ]
    },
    {
     "data": {
      "application/vnd.jupyter.widget-view+json": {
       "model_id": "",
       "version_major": 2,
       "version_minor": 0
      },
      "text/plain": [
       "HBox(children=(FloatProgress(value=0.0, description='Training', layout=Layout(flex='2'), max=2032.0, style=Pro…"
      ]
     },
     "metadata": {},
     "output_type": "display_data"
    },
    {
     "name": "stdout",
     "output_type": "stream",
     "text": [
      "Epoch 27: train=2.13757, val=1.97628, took 93.271 s\n",
      "  Validation Found 90001 of 93880, added 1930 (eff 95.87%) (0.105 FP/event)\n"
     ]
    },
    {
     "data": {
      "application/vnd.jupyter.widget-view+json": {
       "model_id": "",
       "version_major": 2,
       "version_minor": 0
      },
      "text/plain": [
       "HBox(children=(FloatProgress(value=0.0, description='Training', layout=Layout(flex='2'), max=2032.0, style=Pro…"
      ]
     },
     "metadata": {},
     "output_type": "display_data"
    },
    {
     "name": "stdout",
     "output_type": "stream",
     "text": [
      "Epoch 28: train=2.13705, val=1.97653, took 93.441 s\n",
      "  Validation Found 90022 of 93880, added 1936 (eff 95.89%) (0.106 FP/event)\n"
     ]
    },
    {
     "data": {
      "application/vnd.jupyter.widget-view+json": {
       "model_id": "",
       "version_major": 2,
       "version_minor": 0
      },
      "text/plain": [
       "HBox(children=(FloatProgress(value=0.0, description='Training', layout=Layout(flex='2'), max=2032.0, style=Pro…"
      ]
     },
     "metadata": {},
     "output_type": "display_data"
    },
    {
     "name": "stdout",
     "output_type": "stream",
     "text": [
      "Epoch 29: train=2.13702, val=1.97601, took 94.085 s\n",
      "  Validation Found 90055 of 93880, added 1953 (eff 95.93%) (0.106 FP/event)\n"
     ]
    },
    {
     "data": {
      "application/vnd.jupyter.widget-view+json": {
       "model_id": "",
       "version_major": 2,
       "version_minor": 0
      },
      "text/plain": [
       "HBox(children=(FloatProgress(value=0.0, description='Training', layout=Layout(flex='2'), max=2032.0, style=Pro…"
      ]
     },
     "metadata": {},
     "output_type": "display_data"
    },
    {
     "name": "stdout",
     "output_type": "stream",
     "text": [
      "Epoch 30: train=2.1366, val=1.97622, took 94.992 s\n",
      "  Validation Found 90006 of 93880, added 1928 (eff 95.87%) (0.105 FP/event)\n"
     ]
    },
    {
     "data": {
      "application/vnd.jupyter.widget-view+json": {
       "model_id": "",
       "version_major": 2,
       "version_minor": 0
      },
      "text/plain": [
       "HBox(children=(FloatProgress(value=0.0, description='Training', layout=Layout(flex='2'), max=2032.0, style=Pro…"
      ]
     },
     "metadata": {},
     "output_type": "display_data"
    },
    {
     "name": "stdout",
     "output_type": "stream",
     "text": [
      "Epoch 31: train=2.13654, val=1.97606, took 96.525 s\n",
      "  Validation Found 90002 of 93880, added 1942 (eff 95.87%) (0.106 FP/event)\n"
     ]
    },
    {
     "data": {
      "application/vnd.jupyter.widget-view+json": {
       "model_id": "",
       "version_major": 2,
       "version_minor": 0
      },
      "text/plain": [
       "HBox(children=(FloatProgress(value=0.0, description='Training', layout=Layout(flex='2'), max=2032.0, style=Pro…"
      ]
     },
     "metadata": {},
     "output_type": "display_data"
    },
    {
     "name": "stdout",
     "output_type": "stream",
     "text": [
      "Epoch 32: train=2.13698, val=1.9759, took 95.306 s\n",
      "  Validation Found 90026 of 93880, added 1939 (eff 95.89%) (0.106 FP/event)\n"
     ]
    },
    {
     "data": {
      "application/vnd.jupyter.widget-view+json": {
       "model_id": "",
       "version_major": 2,
       "version_minor": 0
      },
      "text/plain": [
       "HBox(children=(FloatProgress(value=0.0, description='Training', layout=Layout(flex='2'), max=2032.0, style=Pro…"
      ]
     },
     "metadata": {},
     "output_type": "display_data"
    },
    {
     "name": "stdout",
     "output_type": "stream",
     "text": [
      "Epoch 33: train=2.138, val=1.97529, took 93.748 s\n",
      "  Validation Found 90027 of 93880, added 1931 (eff 95.90%) (0.105 FP/event)\n"
     ]
    },
    {
     "data": {
      "application/vnd.jupyter.widget-view+json": {
       "model_id": "",
       "version_major": 2,
       "version_minor": 0
      },
      "text/plain": [
       "HBox(children=(FloatProgress(value=0.0, description='Training', layout=Layout(flex='2'), max=2032.0, style=Pro…"
      ]
     },
     "metadata": {},
     "output_type": "display_data"
    },
    {
     "name": "stdout",
     "output_type": "stream",
     "text": [
      "Epoch 34: train=2.13717, val=1.97596, took 94.058 s\n",
      "  Validation Found 90001 of 93880, added 1921 (eff 95.87%) (0.105 FP/event)\n"
     ]
    },
    {
     "data": {
      "application/vnd.jupyter.widget-view+json": {
       "model_id": "",
       "version_major": 2,
       "version_minor": 0
      },
      "text/plain": [
       "HBox(children=(FloatProgress(value=0.0, description='Training', layout=Layout(flex='2'), max=2032.0, style=Pro…"
      ]
     },
     "metadata": {},
     "output_type": "display_data"
    },
    {
     "name": "stdout",
     "output_type": "stream",
     "text": [
      "Epoch 35: train=2.13701, val=1.97577, took 93.695 s\n",
      "  Validation Found 90003 of 93880, added 1924 (eff 95.87%) (0.105 FP/event)\n"
     ]
    },
    {
     "data": {
      "application/vnd.jupyter.widget-view+json": {
       "model_id": "",
       "version_major": 2,
       "version_minor": 0
      },
      "text/plain": [
       "HBox(children=(FloatProgress(value=0.0, description='Training', layout=Layout(flex='2'), max=2032.0, style=Pro…"
      ]
     },
     "metadata": {},
     "output_type": "display_data"
    },
    {
     "name": "stdout",
     "output_type": "stream",
     "text": [
      "Epoch 36: train=2.13712, val=1.97574, took 93.579 s\n",
      "  Validation Found 90023 of 93880, added 1933 (eff 95.89%) (0.105 FP/event)\n"
     ]
    },
    {
     "data": {
      "application/vnd.jupyter.widget-view+json": {
       "model_id": "",
       "version_major": 2,
       "version_minor": 0
      },
      "text/plain": [
       "HBox(children=(FloatProgress(value=0.0, description='Training', layout=Layout(flex='2'), max=2032.0, style=Pro…"
      ]
     },
     "metadata": {},
     "output_type": "display_data"
    },
    {
     "name": "stdout",
     "output_type": "stream",
     "text": [
      "Epoch 37: train=2.13734, val=1.9761, took 93.623 s\n",
      "  Validation Found 90026 of 93880, added 1936 (eff 95.89%) (0.106 FP/event)\n"
     ]
    },
    {
     "data": {
      "application/vnd.jupyter.widget-view+json": {
       "model_id": "",
       "version_major": 2,
       "version_minor": 0
      },
      "text/plain": [
       "HBox(children=(FloatProgress(value=0.0, description='Training', layout=Layout(flex='2'), max=2032.0, style=Pro…"
      ]
     },
     "metadata": {},
     "output_type": "display_data"
    },
    {
     "name": "stdout",
     "output_type": "stream",
     "text": [
      "Epoch 38: train=2.1376, val=1.97584, took 93.566 s\n",
      "  Validation Found 90029 of 93880, added 1942 (eff 95.90%) (0.106 FP/event)\n"
     ]
    },
    {
     "data": {
      "application/vnd.jupyter.widget-view+json": {
       "model_id": "",
       "version_major": 2,
       "version_minor": 0
      },
      "text/plain": [
       "HBox(children=(FloatProgress(value=0.0, description='Training', layout=Layout(flex='2'), max=2032.0, style=Pro…"
      ]
     },
     "metadata": {},
     "output_type": "display_data"
    },
    {
     "name": "stdout",
     "output_type": "stream",
     "text": [
      "Epoch 39: train=2.13716, val=1.97611, took 93.398 s\n",
      "  Validation Found 90032 of 93880, added 1939 (eff 95.90%) (0.106 FP/event)\n"
     ]
    },
    {
     "data": {
      "application/vnd.jupyter.widget-view+json": {
       "model_id": "",
       "version_major": 2,
       "version_minor": 0
      },
      "text/plain": [
       "HBox(children=(FloatProgress(value=0.0, description='Training', layout=Layout(flex='2'), max=2032.0, style=Pro…"
      ]
     },
     "metadata": {},
     "output_type": "display_data"
    },
    {
     "name": "stdout",
     "output_type": "stream",
     "text": [
      "Epoch 40: train=2.1371, val=1.97577, took 93.429 s\n",
      "  Validation Found 90046 of 93880, added 1943 (eff 95.92%) (0.106 FP/event)\n"
     ]
    },
    {
     "data": {
      "application/vnd.jupyter.widget-view+json": {
       "model_id": "",
       "version_major": 2,
       "version_minor": 0
      },
      "text/plain": [
       "HBox(children=(FloatProgress(value=0.0, description='Training', layout=Layout(flex='2'), max=2032.0, style=Pro…"
      ]
     },
     "metadata": {},
     "output_type": "display_data"
    },
    {
     "name": "stdout",
     "output_type": "stream",
     "text": [
      "Epoch 41: train=2.1371, val=1.97548, took 96.47 s\n",
      "  Validation Found 90048 of 93880, added 1944 (eff 95.92%) (0.106 FP/event)\n"
     ]
    },
    {
     "data": {
      "application/vnd.jupyter.widget-view+json": {
       "model_id": "",
       "version_major": 2,
       "version_minor": 0
      },
      "text/plain": [
       "HBox(children=(FloatProgress(value=0.0, description='Training', layout=Layout(flex='2'), max=2032.0, style=Pro…"
      ]
     },
     "metadata": {},
     "output_type": "display_data"
    },
    {
     "name": "stdout",
     "output_type": "stream",
     "text": [
      "Epoch 42: train=2.13684, val=1.97557, took 95.723 s\n",
      "  Validation Found 90043 of 93880, added 1940 (eff 95.91%) (0.106 FP/event)\n"
     ]
    },
    {
     "data": {
      "application/vnd.jupyter.widget-view+json": {
       "model_id": "",
       "version_major": 2,
       "version_minor": 0
      },
      "text/plain": [
       "HBox(children=(FloatProgress(value=0.0, description='Training', layout=Layout(flex='2'), max=2032.0, style=Pro…"
      ]
     },
     "metadata": {},
     "output_type": "display_data"
    },
    {
     "name": "stdout",
     "output_type": "stream",
     "text": [
      "Epoch 43: train=2.13705, val=1.97559, took 95.386 s\n",
      "  Validation Found 90011 of 93880, added 1939 (eff 95.88%) (0.106 FP/event)\n"
     ]
    },
    {
     "data": {
      "application/vnd.jupyter.widget-view+json": {
       "model_id": "",
       "version_major": 2,
       "version_minor": 0
      },
      "text/plain": [
       "HBox(children=(FloatProgress(value=0.0, description='Training', layout=Layout(flex='2'), max=2032.0, style=Pro…"
      ]
     },
     "metadata": {},
     "output_type": "display_data"
    },
    {
     "name": "stdout",
     "output_type": "stream",
     "text": [
      "Epoch 44: train=2.13679, val=1.97571, took 96.106 s\n",
      "  Validation Found 90059 of 93880, added 1959 (eff 95.93%) (0.107 FP/event)\n"
     ]
    },
    {
     "data": {
      "application/vnd.jupyter.widget-view+json": {
       "model_id": "",
       "version_major": 2,
       "version_minor": 0
      },
      "text/plain": [
       "HBox(children=(FloatProgress(value=0.0, description='Training', layout=Layout(flex='2'), max=2032.0, style=Pro…"
      ]
     },
     "metadata": {},
     "output_type": "display_data"
    },
    {
     "name": "stdout",
     "output_type": "stream",
     "text": [
      "Epoch 45: train=2.13566, val=1.97568, took 95.776 s\n",
      "  Validation Found 90036 of 93880, added 1950 (eff 95.91%) (0.106 FP/event)\n"
     ]
    },
    {
     "data": {
      "application/vnd.jupyter.widget-view+json": {
       "model_id": "",
       "version_major": 2,
       "version_minor": 0
      },
      "text/plain": [
       "HBox(children=(FloatProgress(value=0.0, description='Training', layout=Layout(flex='2'), max=2032.0, style=Pro…"
      ]
     },
     "metadata": {},
     "output_type": "display_data"
    },
    {
     "name": "stdout",
     "output_type": "stream",
     "text": [
      "Epoch 46: train=2.13659, val=1.97598, took 94.311 s\n",
      "  Validation Found 90008 of 93880, added 1937 (eff 95.88%) (0.106 FP/event)\n"
     ]
    },
    {
     "data": {
      "application/vnd.jupyter.widget-view+json": {
       "model_id": "",
       "version_major": 2,
       "version_minor": 0
      },
      "text/plain": [
       "HBox(children=(FloatProgress(value=0.0, description='Training', layout=Layout(flex='2'), max=2032.0, style=Pro…"
      ]
     },
     "metadata": {},
     "output_type": "display_data"
    },
    {
     "name": "stdout",
     "output_type": "stream",
     "text": [
      "Epoch 47: train=2.13684, val=1.97539, took 94.23 s\n",
      "  Validation Found 90027 of 93880, added 1940 (eff 95.90%) (0.106 FP/event)\n"
     ]
    },
    {
     "data": {
      "application/vnd.jupyter.widget-view+json": {
       "model_id": "",
       "version_major": 2,
       "version_minor": 0
      },
      "text/plain": [
       "HBox(children=(FloatProgress(value=0.0, description='Training', layout=Layout(flex='2'), max=2032.0, style=Pro…"
      ]
     },
     "metadata": {},
     "output_type": "display_data"
    },
    {
     "name": "stdout",
     "output_type": "stream",
     "text": [
      "Epoch 48: train=2.13595, val=1.97552, took 95.307 s\n",
      "  Validation Found 90049 of 93880, added 1949 (eff 95.92%) (0.106 FP/event)\n"
     ]
    },
    {
     "data": {
      "application/vnd.jupyter.widget-view+json": {
       "model_id": "",
       "version_major": 2,
       "version_minor": 0
      },
      "text/plain": [
       "HBox(children=(FloatProgress(value=0.0, description='Training', layout=Layout(flex='2'), max=2032.0, style=Pro…"
      ]
     },
     "metadata": {},
     "output_type": "display_data"
    },
    {
     "name": "stdout",
     "output_type": "stream",
     "text": [
      "Epoch 49: train=2.13642, val=1.97567, took 95.51 s\n",
      "  Validation Found 90012 of 93880, added 1933 (eff 95.88%) (0.105 FP/event)\n",
      "\n"
     ]
    }
   ],
   "source": [
    "for result in trainNet(model, optimizer, loss,\n",
    "                        train_loader, val_loader,\n",
    "                        n_epochs, epoch_start=len(results),\n",
    "                        notebook=True):\n",
    "    \n",
    "    results = results.append(pd.Series(result._asdict()), ignore_index=True)\n",
    "    \n",
    "    xs = results.index\n",
    "    \n",
    "    # Update the plot above\n",
    "    lines['train'].set_data(results.index,results.cost)\n",
    "    lines['val'].set_data(results.index,results.val)\n",
    "    \n",
    "    #filter first cost epoch (can be really large)\n",
    "    max_cost = max(max(results.cost if len(results.cost)<2 else results.cost[1:]), max(results.val))\n",
    "    min_cost = min(min(results.cost), min(results.val))\n",
    "    \n",
    "    # The plot limits need updating too\n",
    "    \n",
    "    \n",
    "    \n",
    "    ax.set_ylim(min_cost*.9, max_cost*1.1)  \n",
    "    ax.set_xlim(-.5, len(results.cost) - .5)\n",
    "    \n",
    "    replace_in_ax(lax, lines['eff'], xs, results['eff_val'].apply(lambda x: x.eff_rate))\n",
    "    replace_in_ax(tax, lines['fp'], xs, results['eff_val'].apply(lambda x: x.fp_rate))\n",
    "    \n",
    "    # Redraw the figure\n",
    "    fig.canvas.draw()\n",
    "\n",
    "    # Save each model state dictionary\n",
    "    torch.save(model.state_dict(), output / f'{name}_{result.epoch}.pyt')"
   ]
  },
  {
   "cell_type": "markdown",
   "metadata": {},
   "source": [
    "# Results\n",
    "\n",
    "Let's save some results: (even though if you have not changed the code above, it saves the model every epoch)"
   ]
  },
  {
   "cell_type": "markdown",
   "metadata": {},
   "source": [
    "Go ahead and save the final model (even though it was also saved above):"
   ]
  },
  {
   "cell_type": "code",
   "execution_count": 16,
   "metadata": {},
   "outputs": [],
   "source": [
    "torch.save(model.state_dict(), output / f'{name}_final.pyt')"
   ]
  },
  {
   "cell_type": "markdown",
   "metadata": {},
   "source": [
    "Save the output results:"
   ]
  },
  {
   "cell_type": "code",
   "execution_count": 17,
   "metadata": {},
   "outputs": [
    {
     "name": "stderr",
     "output_type": "stream",
     "text": [
      "/data/conda/envs/goofit/lib/python3.7/site-packages/pandas/core/generic.py:2505: PerformanceWarning: \n",
      "your performance may suffer as PyTables will pickle object types that it cannot\n",
      "map directly to c-types [inferred_type->mixed-integer,key->block1_values] [items->Index(['epoch', 'eff_val'], dtype='object')]\n",
      "\n",
      "  encoding=encoding,\n"
     ]
    }
   ],
   "source": [
    "results.to_hdf(f'{name}_stats.hdf5', 'results')"
   ]
  },
  {
   "cell_type": "markdown",
   "metadata": {},
   "source": [
    "Save the plot above:"
   ]
  },
  {
   "cell_type": "code",
   "execution_count": 18,
   "metadata": {
    "scrolled": false
   },
   "outputs": [
    {
     "data": {
      "application/javascript": [
       "/* Put everything inside the global mpl namespace */\n",
       "window.mpl = {};\n",
       "\n",
       "\n",
       "mpl.get_websocket_type = function() {\n",
       "    if (typeof(WebSocket) !== 'undefined') {\n",
       "        return WebSocket;\n",
       "    } else if (typeof(MozWebSocket) !== 'undefined') {\n",
       "        return MozWebSocket;\n",
       "    } else {\n",
       "        alert('Your browser does not have WebSocket support. ' +\n",
       "              'Please try Chrome, Safari or Firefox ≥ 6. ' +\n",
       "              'Firefox 4 and 5 are also supported but you ' +\n",
       "              'have to enable WebSockets in about:config.');\n",
       "    };\n",
       "}\n",
       "\n",
       "mpl.figure = function(figure_id, websocket, ondownload, parent_element) {\n",
       "    this.id = figure_id;\n",
       "\n",
       "    this.ws = websocket;\n",
       "\n",
       "    this.supports_binary = (this.ws.binaryType != undefined);\n",
       "\n",
       "    if (!this.supports_binary) {\n",
       "        var warnings = document.getElementById(\"mpl-warnings\");\n",
       "        if (warnings) {\n",
       "            warnings.style.display = 'block';\n",
       "            warnings.textContent = (\n",
       "                \"This browser does not support binary websocket messages. \" +\n",
       "                    \"Performance may be slow.\");\n",
       "        }\n",
       "    }\n",
       "\n",
       "    this.imageObj = new Image();\n",
       "\n",
       "    this.context = undefined;\n",
       "    this.message = undefined;\n",
       "    this.canvas = undefined;\n",
       "    this.rubberband_canvas = undefined;\n",
       "    this.rubberband_context = undefined;\n",
       "    this.format_dropdown = undefined;\n",
       "\n",
       "    this.image_mode = 'full';\n",
       "\n",
       "    this.root = $('<div/>');\n",
       "    this._root_extra_style(this.root)\n",
       "    this.root.attr('style', 'display: inline-block');\n",
       "\n",
       "    $(parent_element).append(this.root);\n",
       "\n",
       "    this._init_header(this);\n",
       "    this._init_canvas(this);\n",
       "    this._init_toolbar(this);\n",
       "\n",
       "    var fig = this;\n",
       "\n",
       "    this.waiting = false;\n",
       "\n",
       "    this.ws.onopen =  function () {\n",
       "            fig.send_message(\"supports_binary\", {value: fig.supports_binary});\n",
       "            fig.send_message(\"send_image_mode\", {});\n",
       "            if (mpl.ratio != 1) {\n",
       "                fig.send_message(\"set_dpi_ratio\", {'dpi_ratio': mpl.ratio});\n",
       "            }\n",
       "            fig.send_message(\"refresh\", {});\n",
       "        }\n",
       "\n",
       "    this.imageObj.onload = function() {\n",
       "            if (fig.image_mode == 'full') {\n",
       "                // Full images could contain transparency (where diff images\n",
       "                // almost always do), so we need to clear the canvas so that\n",
       "                // there is no ghosting.\n",
       "                fig.context.clearRect(0, 0, fig.canvas.width, fig.canvas.height);\n",
       "            }\n",
       "            fig.context.drawImage(fig.imageObj, 0, 0);\n",
       "        };\n",
       "\n",
       "    this.imageObj.onunload = function() {\n",
       "        fig.ws.close();\n",
       "    }\n",
       "\n",
       "    this.ws.onmessage = this._make_on_message_function(this);\n",
       "\n",
       "    this.ondownload = ondownload;\n",
       "}\n",
       "\n",
       "mpl.figure.prototype._init_header = function() {\n",
       "    var titlebar = $(\n",
       "        '<div class=\"ui-dialog-titlebar ui-widget-header ui-corner-all ' +\n",
       "        'ui-helper-clearfix\"/>');\n",
       "    var titletext = $(\n",
       "        '<div class=\"ui-dialog-title\" style=\"width: 100%; ' +\n",
       "        'text-align: center; padding: 3px;\"/>');\n",
       "    titlebar.append(titletext)\n",
       "    this.root.append(titlebar);\n",
       "    this.header = titletext[0];\n",
       "}\n",
       "\n",
       "\n",
       "\n",
       "mpl.figure.prototype._canvas_extra_style = function(canvas_div) {\n",
       "\n",
       "}\n",
       "\n",
       "\n",
       "mpl.figure.prototype._root_extra_style = function(canvas_div) {\n",
       "\n",
       "}\n",
       "\n",
       "mpl.figure.prototype._init_canvas = function() {\n",
       "    var fig = this;\n",
       "\n",
       "    var canvas_div = $('<div/>');\n",
       "\n",
       "    canvas_div.attr('style', 'position: relative; clear: both; outline: 0');\n",
       "\n",
       "    function canvas_keyboard_event(event) {\n",
       "        return fig.key_event(event, event['data']);\n",
       "    }\n",
       "\n",
       "    canvas_div.keydown('key_press', canvas_keyboard_event);\n",
       "    canvas_div.keyup('key_release', canvas_keyboard_event);\n",
       "    this.canvas_div = canvas_div\n",
       "    this._canvas_extra_style(canvas_div)\n",
       "    this.root.append(canvas_div);\n",
       "\n",
       "    var canvas = $('<canvas/>');\n",
       "    canvas.addClass('mpl-canvas');\n",
       "    canvas.attr('style', \"left: 0; top: 0; z-index: 0; outline: 0\")\n",
       "\n",
       "    this.canvas = canvas[0];\n",
       "    this.context = canvas[0].getContext(\"2d\");\n",
       "\n",
       "    var backingStore = this.context.backingStorePixelRatio ||\n",
       "\tthis.context.webkitBackingStorePixelRatio ||\n",
       "\tthis.context.mozBackingStorePixelRatio ||\n",
       "\tthis.context.msBackingStorePixelRatio ||\n",
       "\tthis.context.oBackingStorePixelRatio ||\n",
       "\tthis.context.backingStorePixelRatio || 1;\n",
       "\n",
       "    mpl.ratio = (window.devicePixelRatio || 1) / backingStore;\n",
       "\n",
       "    var rubberband = $('<canvas/>');\n",
       "    rubberband.attr('style', \"position: absolute; left: 0; top: 0; z-index: 1;\")\n",
       "\n",
       "    var pass_mouse_events = true;\n",
       "\n",
       "    canvas_div.resizable({\n",
       "        start: function(event, ui) {\n",
       "            pass_mouse_events = false;\n",
       "        },\n",
       "        resize: function(event, ui) {\n",
       "            fig.request_resize(ui.size.width, ui.size.height);\n",
       "        },\n",
       "        stop: function(event, ui) {\n",
       "            pass_mouse_events = true;\n",
       "            fig.request_resize(ui.size.width, ui.size.height);\n",
       "        },\n",
       "    });\n",
       "\n",
       "    function mouse_event_fn(event) {\n",
       "        if (pass_mouse_events)\n",
       "            return fig.mouse_event(event, event['data']);\n",
       "    }\n",
       "\n",
       "    rubberband.mousedown('button_press', mouse_event_fn);\n",
       "    rubberband.mouseup('button_release', mouse_event_fn);\n",
       "    // Throttle sequential mouse events to 1 every 20ms.\n",
       "    rubberband.mousemove('motion_notify', mouse_event_fn);\n",
       "\n",
       "    rubberband.mouseenter('figure_enter', mouse_event_fn);\n",
       "    rubberband.mouseleave('figure_leave', mouse_event_fn);\n",
       "\n",
       "    canvas_div.on(\"wheel\", function (event) {\n",
       "        event = event.originalEvent;\n",
       "        event['data'] = 'scroll'\n",
       "        if (event.deltaY < 0) {\n",
       "            event.step = 1;\n",
       "        } else {\n",
       "            event.step = -1;\n",
       "        }\n",
       "        mouse_event_fn(event);\n",
       "    });\n",
       "\n",
       "    canvas_div.append(canvas);\n",
       "    canvas_div.append(rubberband);\n",
       "\n",
       "    this.rubberband = rubberband;\n",
       "    this.rubberband_canvas = rubberband[0];\n",
       "    this.rubberband_context = rubberband[0].getContext(\"2d\");\n",
       "    this.rubberband_context.strokeStyle = \"#000000\";\n",
       "\n",
       "    this._resize_canvas = function(width, height) {\n",
       "        // Keep the size of the canvas, canvas container, and rubber band\n",
       "        // canvas in synch.\n",
       "        canvas_div.css('width', width)\n",
       "        canvas_div.css('height', height)\n",
       "\n",
       "        canvas.attr('width', width * mpl.ratio);\n",
       "        canvas.attr('height', height * mpl.ratio);\n",
       "        canvas.attr('style', 'width: ' + width + 'px; height: ' + height + 'px;');\n",
       "\n",
       "        rubberband.attr('width', width);\n",
       "        rubberband.attr('height', height);\n",
       "    }\n",
       "\n",
       "    // Set the figure to an initial 600x600px, this will subsequently be updated\n",
       "    // upon first draw.\n",
       "    this._resize_canvas(600, 600);\n",
       "\n",
       "    // Disable right mouse context menu.\n",
       "    $(this.rubberband_canvas).bind(\"contextmenu\",function(e){\n",
       "        return false;\n",
       "    });\n",
       "\n",
       "    function set_focus () {\n",
       "        canvas.focus();\n",
       "        canvas_div.focus();\n",
       "    }\n",
       "\n",
       "    window.setTimeout(set_focus, 100);\n",
       "}\n",
       "\n",
       "mpl.figure.prototype._init_toolbar = function() {\n",
       "    var fig = this;\n",
       "\n",
       "    var nav_element = $('<div/>');\n",
       "    nav_element.attr('style', 'width: 100%');\n",
       "    this.root.append(nav_element);\n",
       "\n",
       "    // Define a callback function for later on.\n",
       "    function toolbar_event(event) {\n",
       "        return fig.toolbar_button_onclick(event['data']);\n",
       "    }\n",
       "    function toolbar_mouse_event(event) {\n",
       "        return fig.toolbar_button_onmouseover(event['data']);\n",
       "    }\n",
       "\n",
       "    for(var toolbar_ind in mpl.toolbar_items) {\n",
       "        var name = mpl.toolbar_items[toolbar_ind][0];\n",
       "        var tooltip = mpl.toolbar_items[toolbar_ind][1];\n",
       "        var image = mpl.toolbar_items[toolbar_ind][2];\n",
       "        var method_name = mpl.toolbar_items[toolbar_ind][3];\n",
       "\n",
       "        if (!name) {\n",
       "            // put a spacer in here.\n",
       "            continue;\n",
       "        }\n",
       "        var button = $('<button/>');\n",
       "        button.addClass('ui-button ui-widget ui-state-default ui-corner-all ' +\n",
       "                        'ui-button-icon-only');\n",
       "        button.attr('role', 'button');\n",
       "        button.attr('aria-disabled', 'false');\n",
       "        button.click(method_name, toolbar_event);\n",
       "        button.mouseover(tooltip, toolbar_mouse_event);\n",
       "\n",
       "        var icon_img = $('<span/>');\n",
       "        icon_img.addClass('ui-button-icon-primary ui-icon');\n",
       "        icon_img.addClass(image);\n",
       "        icon_img.addClass('ui-corner-all');\n",
       "\n",
       "        var tooltip_span = $('<span/>');\n",
       "        tooltip_span.addClass('ui-button-text');\n",
       "        tooltip_span.html(tooltip);\n",
       "\n",
       "        button.append(icon_img);\n",
       "        button.append(tooltip_span);\n",
       "\n",
       "        nav_element.append(button);\n",
       "    }\n",
       "\n",
       "    var fmt_picker_span = $('<span/>');\n",
       "\n",
       "    var fmt_picker = $('<select/>');\n",
       "    fmt_picker.addClass('mpl-toolbar-option ui-widget ui-widget-content');\n",
       "    fmt_picker_span.append(fmt_picker);\n",
       "    nav_element.append(fmt_picker_span);\n",
       "    this.format_dropdown = fmt_picker[0];\n",
       "\n",
       "    for (var ind in mpl.extensions) {\n",
       "        var fmt = mpl.extensions[ind];\n",
       "        var option = $(\n",
       "            '<option/>', {selected: fmt === mpl.default_extension}).html(fmt);\n",
       "        fmt_picker.append(option);\n",
       "    }\n",
       "\n",
       "    // Add hover states to the ui-buttons\n",
       "    $( \".ui-button\" ).hover(\n",
       "        function() { $(this).addClass(\"ui-state-hover\");},\n",
       "        function() { $(this).removeClass(\"ui-state-hover\");}\n",
       "    );\n",
       "\n",
       "    var status_bar = $('<span class=\"mpl-message\"/>');\n",
       "    nav_element.append(status_bar);\n",
       "    this.message = status_bar[0];\n",
       "}\n",
       "\n",
       "mpl.figure.prototype.request_resize = function(x_pixels, y_pixels) {\n",
       "    // Request matplotlib to resize the figure. Matplotlib will then trigger a resize in the client,\n",
       "    // which will in turn request a refresh of the image.\n",
       "    this.send_message('resize', {'width': x_pixels, 'height': y_pixels});\n",
       "}\n",
       "\n",
       "mpl.figure.prototype.send_message = function(type, properties) {\n",
       "    properties['type'] = type;\n",
       "    properties['figure_id'] = this.id;\n",
       "    this.ws.send(JSON.stringify(properties));\n",
       "}\n",
       "\n",
       "mpl.figure.prototype.send_draw_message = function() {\n",
       "    if (!this.waiting) {\n",
       "        this.waiting = true;\n",
       "        this.ws.send(JSON.stringify({type: \"draw\", figure_id: this.id}));\n",
       "    }\n",
       "}\n",
       "\n",
       "\n",
       "mpl.figure.prototype.handle_save = function(fig, msg) {\n",
       "    var format_dropdown = fig.format_dropdown;\n",
       "    var format = format_dropdown.options[format_dropdown.selectedIndex].value;\n",
       "    fig.ondownload(fig, format);\n",
       "}\n",
       "\n",
       "\n",
       "mpl.figure.prototype.handle_resize = function(fig, msg) {\n",
       "    var size = msg['size'];\n",
       "    if (size[0] != fig.canvas.width || size[1] != fig.canvas.height) {\n",
       "        fig._resize_canvas(size[0], size[1]);\n",
       "        fig.send_message(\"refresh\", {});\n",
       "    };\n",
       "}\n",
       "\n",
       "mpl.figure.prototype.handle_rubberband = function(fig, msg) {\n",
       "    var x0 = msg['x0'] / mpl.ratio;\n",
       "    var y0 = (fig.canvas.height - msg['y0']) / mpl.ratio;\n",
       "    var x1 = msg['x1'] / mpl.ratio;\n",
       "    var y1 = (fig.canvas.height - msg['y1']) / mpl.ratio;\n",
       "    x0 = Math.floor(x0) + 0.5;\n",
       "    y0 = Math.floor(y0) + 0.5;\n",
       "    x1 = Math.floor(x1) + 0.5;\n",
       "    y1 = Math.floor(y1) + 0.5;\n",
       "    var min_x = Math.min(x0, x1);\n",
       "    var min_y = Math.min(y0, y1);\n",
       "    var width = Math.abs(x1 - x0);\n",
       "    var height = Math.abs(y1 - y0);\n",
       "\n",
       "    fig.rubberband_context.clearRect(\n",
       "        0, 0, fig.canvas.width / mpl.ratio, fig.canvas.height / mpl.ratio);\n",
       "\n",
       "    fig.rubberband_context.strokeRect(min_x, min_y, width, height);\n",
       "}\n",
       "\n",
       "mpl.figure.prototype.handle_figure_label = function(fig, msg) {\n",
       "    // Updates the figure title.\n",
       "    fig.header.textContent = msg['label'];\n",
       "}\n",
       "\n",
       "mpl.figure.prototype.handle_cursor = function(fig, msg) {\n",
       "    var cursor = msg['cursor'];\n",
       "    switch(cursor)\n",
       "    {\n",
       "    case 0:\n",
       "        cursor = 'pointer';\n",
       "        break;\n",
       "    case 1:\n",
       "        cursor = 'default';\n",
       "        break;\n",
       "    case 2:\n",
       "        cursor = 'crosshair';\n",
       "        break;\n",
       "    case 3:\n",
       "        cursor = 'move';\n",
       "        break;\n",
       "    }\n",
       "    fig.rubberband_canvas.style.cursor = cursor;\n",
       "}\n",
       "\n",
       "mpl.figure.prototype.handle_message = function(fig, msg) {\n",
       "    fig.message.textContent = msg['message'];\n",
       "}\n",
       "\n",
       "mpl.figure.prototype.handle_draw = function(fig, msg) {\n",
       "    // Request the server to send over a new figure.\n",
       "    fig.send_draw_message();\n",
       "}\n",
       "\n",
       "mpl.figure.prototype.handle_image_mode = function(fig, msg) {\n",
       "    fig.image_mode = msg['mode'];\n",
       "}\n",
       "\n",
       "mpl.figure.prototype.updated_canvas_event = function() {\n",
       "    // Called whenever the canvas gets updated.\n",
       "    this.send_message(\"ack\", {});\n",
       "}\n",
       "\n",
       "// A function to construct a web socket function for onmessage handling.\n",
       "// Called in the figure constructor.\n",
       "mpl.figure.prototype._make_on_message_function = function(fig) {\n",
       "    return function socket_on_message(evt) {\n",
       "        if (evt.data instanceof Blob) {\n",
       "            /* FIXME: We get \"Resource interpreted as Image but\n",
       "             * transferred with MIME type text/plain:\" errors on\n",
       "             * Chrome.  But how to set the MIME type?  It doesn't seem\n",
       "             * to be part of the websocket stream */\n",
       "            evt.data.type = \"image/png\";\n",
       "\n",
       "            /* Free the memory for the previous frames */\n",
       "            if (fig.imageObj.src) {\n",
       "                (window.URL || window.webkitURL).revokeObjectURL(\n",
       "                    fig.imageObj.src);\n",
       "            }\n",
       "\n",
       "            fig.imageObj.src = (window.URL || window.webkitURL).createObjectURL(\n",
       "                evt.data);\n",
       "            fig.updated_canvas_event();\n",
       "            fig.waiting = false;\n",
       "            return;\n",
       "        }\n",
       "        else if (typeof evt.data === 'string' && evt.data.slice(0, 21) == \"data:image/png;base64\") {\n",
       "            fig.imageObj.src = evt.data;\n",
       "            fig.updated_canvas_event();\n",
       "            fig.waiting = false;\n",
       "            return;\n",
       "        }\n",
       "\n",
       "        var msg = JSON.parse(evt.data);\n",
       "        var msg_type = msg['type'];\n",
       "\n",
       "        // Call the  \"handle_{type}\" callback, which takes\n",
       "        // the figure and JSON message as its only arguments.\n",
       "        try {\n",
       "            var callback = fig[\"handle_\" + msg_type];\n",
       "        } catch (e) {\n",
       "            console.log(\"No handler for the '\" + msg_type + \"' message type: \", msg);\n",
       "            return;\n",
       "        }\n",
       "\n",
       "        if (callback) {\n",
       "            try {\n",
       "                // console.log(\"Handling '\" + msg_type + \"' message: \", msg);\n",
       "                callback(fig, msg);\n",
       "            } catch (e) {\n",
       "                console.log(\"Exception inside the 'handler_\" + msg_type + \"' callback:\", e, e.stack, msg);\n",
       "            }\n",
       "        }\n",
       "    };\n",
       "}\n",
       "\n",
       "// from http://stackoverflow.com/questions/1114465/getting-mouse-location-in-canvas\n",
       "mpl.findpos = function(e) {\n",
       "    //this section is from http://www.quirksmode.org/js/events_properties.html\n",
       "    var targ;\n",
       "    if (!e)\n",
       "        e = window.event;\n",
       "    if (e.target)\n",
       "        targ = e.target;\n",
       "    else if (e.srcElement)\n",
       "        targ = e.srcElement;\n",
       "    if (targ.nodeType == 3) // defeat Safari bug\n",
       "        targ = targ.parentNode;\n",
       "\n",
       "    // jQuery normalizes the pageX and pageY\n",
       "    // pageX,Y are the mouse positions relative to the document\n",
       "    // offset() returns the position of the element relative to the document\n",
       "    var x = e.pageX - $(targ).offset().left;\n",
       "    var y = e.pageY - $(targ).offset().top;\n",
       "\n",
       "    return {\"x\": x, \"y\": y};\n",
       "};\n",
       "\n",
       "/*\n",
       " * return a copy of an object with only non-object keys\n",
       " * we need this to avoid circular references\n",
       " * http://stackoverflow.com/a/24161582/3208463\n",
       " */\n",
       "function simpleKeys (original) {\n",
       "  return Object.keys(original).reduce(function (obj, key) {\n",
       "    if (typeof original[key] !== 'object')\n",
       "        obj[key] = original[key]\n",
       "    return obj;\n",
       "  }, {});\n",
       "}\n",
       "\n",
       "mpl.figure.prototype.mouse_event = function(event, name) {\n",
       "    var canvas_pos = mpl.findpos(event)\n",
       "\n",
       "    if (name === 'button_press')\n",
       "    {\n",
       "        this.canvas.focus();\n",
       "        this.canvas_div.focus();\n",
       "    }\n",
       "\n",
       "    var x = canvas_pos.x * mpl.ratio;\n",
       "    var y = canvas_pos.y * mpl.ratio;\n",
       "\n",
       "    this.send_message(name, {x: x, y: y, button: event.button,\n",
       "                             step: event.step,\n",
       "                             guiEvent: simpleKeys(event)});\n",
       "\n",
       "    /* This prevents the web browser from automatically changing to\n",
       "     * the text insertion cursor when the button is pressed.  We want\n",
       "     * to control all of the cursor setting manually through the\n",
       "     * 'cursor' event from matplotlib */\n",
       "    event.preventDefault();\n",
       "    return false;\n",
       "}\n",
       "\n",
       "mpl.figure.prototype._key_event_extra = function(event, name) {\n",
       "    // Handle any extra behaviour associated with a key event\n",
       "}\n",
       "\n",
       "mpl.figure.prototype.key_event = function(event, name) {\n",
       "\n",
       "    // Prevent repeat events\n",
       "    if (name == 'key_press')\n",
       "    {\n",
       "        if (event.which === this._key)\n",
       "            return;\n",
       "        else\n",
       "            this._key = event.which;\n",
       "    }\n",
       "    if (name == 'key_release')\n",
       "        this._key = null;\n",
       "\n",
       "    var value = '';\n",
       "    if (event.ctrlKey && event.which != 17)\n",
       "        value += \"ctrl+\";\n",
       "    if (event.altKey && event.which != 18)\n",
       "        value += \"alt+\";\n",
       "    if (event.shiftKey && event.which != 16)\n",
       "        value += \"shift+\";\n",
       "\n",
       "    value += 'k';\n",
       "    value += event.which.toString();\n",
       "\n",
       "    this._key_event_extra(event, name);\n",
       "\n",
       "    this.send_message(name, {key: value,\n",
       "                             guiEvent: simpleKeys(event)});\n",
       "    return false;\n",
       "}\n",
       "\n",
       "mpl.figure.prototype.toolbar_button_onclick = function(name) {\n",
       "    if (name == 'download') {\n",
       "        this.handle_save(this, null);\n",
       "    } else {\n",
       "        this.send_message(\"toolbar_button\", {name: name});\n",
       "    }\n",
       "};\n",
       "\n",
       "mpl.figure.prototype.toolbar_button_onmouseover = function(tooltip) {\n",
       "    this.message.textContent = tooltip;\n",
       "};\n",
       "mpl.toolbar_items = [[\"Home\", \"Reset original view\", \"fa fa-home icon-home\", \"home\"], [\"Back\", \"Back to previous view\", \"fa fa-arrow-left icon-arrow-left\", \"back\"], [\"Forward\", \"Forward to next view\", \"fa fa-arrow-right icon-arrow-right\", \"forward\"], [\"\", \"\", \"\", \"\"], [\"Pan\", \"Pan axes with left mouse, zoom with right\", \"fa fa-arrows icon-move\", \"pan\"], [\"Zoom\", \"Zoom to rectangle\", \"fa fa-square-o icon-check-empty\", \"zoom\"], [\"\", \"\", \"\", \"\"], [\"Download\", \"Download plot\", \"fa fa-floppy-o icon-save\", \"download\"]];\n",
       "\n",
       "mpl.extensions = [\"eps\", \"jpeg\", \"pdf\", \"png\", \"ps\", \"raw\", \"svg\", \"tif\"];\n",
       "\n",
       "mpl.default_extension = \"png\";var comm_websocket_adapter = function(comm) {\n",
       "    // Create a \"websocket\"-like object which calls the given IPython comm\n",
       "    // object with the appropriate methods. Currently this is a non binary\n",
       "    // socket, so there is still some room for performance tuning.\n",
       "    var ws = {};\n",
       "\n",
       "    ws.close = function() {\n",
       "        comm.close()\n",
       "    };\n",
       "    ws.send = function(m) {\n",
       "        //console.log('sending', m);\n",
       "        comm.send(m);\n",
       "    };\n",
       "    // Register the callback with on_msg.\n",
       "    comm.on_msg(function(msg) {\n",
       "        //console.log('receiving', msg['content']['data'], msg);\n",
       "        // Pass the mpl event to the overridden (by mpl) onmessage function.\n",
       "        ws.onmessage(msg['content']['data'])\n",
       "    });\n",
       "    return ws;\n",
       "}\n",
       "\n",
       "mpl.mpl_figure_comm = function(comm, msg) {\n",
       "    // This is the function which gets called when the mpl process\n",
       "    // starts-up an IPython Comm through the \"matplotlib\" channel.\n",
       "\n",
       "    var id = msg.content.data.id;\n",
       "    // Get hold of the div created by the display call when the Comm\n",
       "    // socket was opened in Python.\n",
       "    var element = $(\"#\" + id);\n",
       "    var ws_proxy = comm_websocket_adapter(comm)\n",
       "\n",
       "    function ondownload(figure, format) {\n",
       "        window.open(figure.imageObj.src);\n",
       "    }\n",
       "\n",
       "    var fig = new mpl.figure(id, ws_proxy,\n",
       "                           ondownload,\n",
       "                           element.get(0));\n",
       "\n",
       "    // Call onopen now - mpl needs it, as it is assuming we've passed it a real\n",
       "    // web socket which is closed, not our websocket->open comm proxy.\n",
       "    ws_proxy.onopen();\n",
       "\n",
       "    fig.parent_element = element.get(0);\n",
       "    fig.cell_info = mpl.find_output_cell(\"<div id='\" + id + \"'></div>\");\n",
       "    if (!fig.cell_info) {\n",
       "        console.error(\"Failed to find cell for figure\", id, fig);\n",
       "        return;\n",
       "    }\n",
       "\n",
       "    var output_index = fig.cell_info[2]\n",
       "    var cell = fig.cell_info[0];\n",
       "\n",
       "};\n",
       "\n",
       "mpl.figure.prototype.handle_close = function(fig, msg) {\n",
       "    var width = fig.canvas.width/mpl.ratio\n",
       "    fig.root.unbind('remove')\n",
       "\n",
       "    // Update the output cell to use the data from the current canvas.\n",
       "    fig.push_to_output();\n",
       "    var dataURL = fig.canvas.toDataURL();\n",
       "    // Re-enable the keyboard manager in IPython - without this line, in FF,\n",
       "    // the notebook keyboard shortcuts fail.\n",
       "    IPython.keyboard_manager.enable()\n",
       "    $(fig.parent_element).html('<img src=\"' + dataURL + '\" width=\"' + width + '\">');\n",
       "    fig.close_ws(fig, msg);\n",
       "}\n",
       "\n",
       "mpl.figure.prototype.close_ws = function(fig, msg){\n",
       "    fig.send_message('closing', msg);\n",
       "    // fig.ws.close()\n",
       "}\n",
       "\n",
       "mpl.figure.prototype.push_to_output = function(remove_interactive) {\n",
       "    // Turn the data on the canvas into data in the output cell.\n",
       "    var width = this.canvas.width/mpl.ratio\n",
       "    var dataURL = this.canvas.toDataURL();\n",
       "    this.cell_info[1]['text/html'] = '<img src=\"' + dataURL + '\" width=\"' + width + '\">';\n",
       "}\n",
       "\n",
       "mpl.figure.prototype.updated_canvas_event = function() {\n",
       "    // Tell IPython that the notebook contents must change.\n",
       "    IPython.notebook.set_dirty(true);\n",
       "    this.send_message(\"ack\", {});\n",
       "    var fig = this;\n",
       "    // Wait a second, then push the new image to the DOM so\n",
       "    // that it is saved nicely (might be nice to debounce this).\n",
       "    setTimeout(function () { fig.push_to_output() }, 1000);\n",
       "}\n",
       "\n",
       "mpl.figure.prototype._init_toolbar = function() {\n",
       "    var fig = this;\n",
       "\n",
       "    var nav_element = $('<div/>');\n",
       "    nav_element.attr('style', 'width: 100%');\n",
       "    this.root.append(nav_element);\n",
       "\n",
       "    // Define a callback function for later on.\n",
       "    function toolbar_event(event) {\n",
       "        return fig.toolbar_button_onclick(event['data']);\n",
       "    }\n",
       "    function toolbar_mouse_event(event) {\n",
       "        return fig.toolbar_button_onmouseover(event['data']);\n",
       "    }\n",
       "\n",
       "    for(var toolbar_ind in mpl.toolbar_items){\n",
       "        var name = mpl.toolbar_items[toolbar_ind][0];\n",
       "        var tooltip = mpl.toolbar_items[toolbar_ind][1];\n",
       "        var image = mpl.toolbar_items[toolbar_ind][2];\n",
       "        var method_name = mpl.toolbar_items[toolbar_ind][3];\n",
       "\n",
       "        if (!name) { continue; };\n",
       "\n",
       "        var button = $('<button class=\"btn btn-default\" href=\"#\" title=\"' + name + '\"><i class=\"fa ' + image + ' fa-lg\"></i></button>');\n",
       "        button.click(method_name, toolbar_event);\n",
       "        button.mouseover(tooltip, toolbar_mouse_event);\n",
       "        nav_element.append(button);\n",
       "    }\n",
       "\n",
       "    // Add the status bar.\n",
       "    var status_bar = $('<span class=\"mpl-message\" style=\"text-align:right; float: right;\"/>');\n",
       "    nav_element.append(status_bar);\n",
       "    this.message = status_bar[0];\n",
       "\n",
       "    // Add the close button to the window.\n",
       "    var buttongrp = $('<div class=\"btn-group inline pull-right\"></div>');\n",
       "    var button = $('<button class=\"btn btn-mini btn-primary\" href=\"#\" title=\"Stop Interaction\"><i class=\"fa fa-power-off icon-remove icon-large\"></i></button>');\n",
       "    button.click(function (evt) { fig.handle_close(fig, {}); } );\n",
       "    button.mouseover('Stop Interaction', toolbar_mouse_event);\n",
       "    buttongrp.append(button);\n",
       "    var titlebar = this.root.find($('.ui-dialog-titlebar'));\n",
       "    titlebar.prepend(buttongrp);\n",
       "}\n",
       "\n",
       "mpl.figure.prototype._root_extra_style = function(el){\n",
       "    var fig = this\n",
       "    el.on(\"remove\", function(){\n",
       "\tfig.close_ws(fig, {});\n",
       "    });\n",
       "}\n",
       "\n",
       "mpl.figure.prototype._canvas_extra_style = function(el){\n",
       "    // this is important to make the div 'focusable\n",
       "    el.attr('tabindex', 0)\n",
       "    // reach out to IPython and tell the keyboard manager to turn it's self\n",
       "    // off when our div gets focus\n",
       "\n",
       "    // location in version 3\n",
       "    if (IPython.notebook.keyboard_manager) {\n",
       "        IPython.notebook.keyboard_manager.register_events(el);\n",
       "    }\n",
       "    else {\n",
       "        // location in version 2\n",
       "        IPython.keyboard_manager.register_events(el);\n",
       "    }\n",
       "\n",
       "}\n",
       "\n",
       "mpl.figure.prototype._key_event_extra = function(event, name) {\n",
       "    var manager = IPython.notebook.keyboard_manager;\n",
       "    if (!manager)\n",
       "        manager = IPython.keyboard_manager;\n",
       "\n",
       "    // Check for shift+enter\n",
       "    if (event.shiftKey && event.which == 13) {\n",
       "        this.canvas_div.blur();\n",
       "        // select the cell after this one\n",
       "        var index = IPython.notebook.find_cell_index(this.cell_info[0]);\n",
       "        IPython.notebook.select(index + 1);\n",
       "    }\n",
       "}\n",
       "\n",
       "mpl.figure.prototype.handle_save = function(fig, msg) {\n",
       "    fig.ondownload(fig, null);\n",
       "}\n",
       "\n",
       "\n",
       "mpl.find_output_cell = function(html_output) {\n",
       "    // Return the cell and output element which can be found *uniquely* in the notebook.\n",
       "    // Note - this is a bit hacky, but it is done because the \"notebook_saving.Notebook\"\n",
       "    // IPython event is triggered only after the cells have been serialised, which for\n",
       "    // our purposes (turning an active figure into a static one), is too late.\n",
       "    var cells = IPython.notebook.get_cells();\n",
       "    var ncells = cells.length;\n",
       "    for (var i=0; i<ncells; i++) {\n",
       "        var cell = cells[i];\n",
       "        if (cell.cell_type === 'code'){\n",
       "            for (var j=0; j<cell.output_area.outputs.length; j++) {\n",
       "                var data = cell.output_area.outputs[j];\n",
       "                if (data.data) {\n",
       "                    // IPython >= 3 moved mimebundle to data attribute of output\n",
       "                    data = data.data;\n",
       "                }\n",
       "                if (data['text/html'] == html_output) {\n",
       "                    return [cell, data, j];\n",
       "                }\n",
       "            }\n",
       "        }\n",
       "    }\n",
       "}\n",
       "\n",
       "// Register the function which deals with the matplotlib target/channel.\n",
       "// The kernel may be null if the page has been refreshed.\n",
       "if (IPython.notebook.kernel != null) {\n",
       "    IPython.notebook.kernel.comm_manager.register_target('matplotlib', mpl.mpl_figure_comm);\n",
       "}\n"
      ],
      "text/plain": [
       "<IPython.core.display.Javascript object>"
      ]
     },
     "metadata": {},
     "output_type": "display_data"
    },
    {
     "data": {
      "text/html": [
       "<img src=\"data:image/png;base64,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\" width=\"999.75\">"
      ],
      "text/plain": [
       "<IPython.core.display.HTML object>"
      ]
     },
     "metadata": {},
     "output_type": "display_data"
    }
   ],
   "source": [
    "dual_train_plots(results.index,\n",
    "                 results.cost, results.val, \n",
    "                 results['eff_val'].apply(lambda x: x.eff_rate),\n",
    "                 results['eff_val'].apply(lambda x: x.fp_rate))\n",
    "plt.tight_layout()\n",
    "plt.savefig(str(output / f'{name}_stats_a.png'))"
   ]
  },
  {
   "cell_type": "code",
   "execution_count": 19,
   "metadata": {},
   "outputs": [],
   "source": [
    "##quit()"
   ]
  },
  {
   "cell_type": "code",
   "execution_count": null,
   "metadata": {},
   "outputs": [],
   "source": []
  }
 ],
 "metadata": {
  "kernelspec": {
   "display_name": "goofit",
   "language": "python",
   "name": "goofit"
  },
  "language_info": {
   "codemirror_mode": {
    "name": "ipython",
    "version": 3
   },
   "file_extension": ".py",
   "mimetype": "text/x-python",
   "name": "python",
   "nbconvert_exporter": "python",
   "pygments_lexer": "ipython3",
   "version": "3.7.6"
  }
 },
 "nbformat": 4,
 "nbformat_minor": 2
}
