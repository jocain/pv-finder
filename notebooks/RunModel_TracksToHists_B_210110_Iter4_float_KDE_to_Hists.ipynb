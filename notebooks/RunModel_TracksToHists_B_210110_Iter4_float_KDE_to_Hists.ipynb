{
 "cells": [
  {
   "cell_type": "code",
   "execution_count": 1,
   "metadata": {},
   "outputs": [],
   "source": [
    "##%matplotlib widget\n",
    "## with %matplotlib notebook: seems to require ipympl as part of environment, either\n",
    "## part of the conda environment or \"pip install ipympl\"\n",
    "## otherwise, does not show ANY plots in notebook, plt.savefig() works\n",
    "%matplotlib notebook  \n",
    "##%matplotlib inline    ## --plt.savefig()  works, but re-sizing does NOT\n"
   ]
  },
  {
   "cell_type": "markdown",
   "metadata": {},
   "source": [
    "This notebook is a first attempt to read in track information and use it to predict the the full target histrograms.\n",
    "\n",
    "It will read in the TracksToDKE__Ellipsoids_DDPlus model to predict the KDE, and then feed it into a SimpleCNN model to predict the target histograms.  Initially, it will use previously trained weights.\n"
   ]
  },
  {
   "cell_type": "markdown",
   "metadata": {},
   "source": [
    "Check the current GPU usage. Please try to be nice!"
   ]
  },
  {
   "cell_type": "code",
   "execution_count": 2,
   "metadata": {},
   "outputs": [
    {
     "name": "stdout",
     "output_type": "stream",
     "text": [
      "Sun Jan 10 15:33:47 2021       \r\n",
      "+-----------------------------------------------------------------------------+\r\n",
      "| NVIDIA-SMI 450.36.06    Driver Version: 450.36.06    CUDA Version: 11.0     |\r\n",
      "|-------------------------------+----------------------+----------------------+\r\n",
      "| GPU  Name        Persistence-M| Bus-Id        Disp.A | Volatile Uncorr. ECC |\r\n",
      "| Fan  Temp  Perf  Pwr:Usage/Cap|         Memory-Usage | GPU-Util  Compute M. |\r\n",
      "|                               |                      |               MIG M. |\r\n",
      "|===============================+======================+======================|\r\n",
      "|   0  GeForce RTX 208...  On   | 00000000:18:00.0 Off |                  N/A |\r\n",
      "| 30%   42C    P8    41W / 250W |      1MiB / 11019MiB |      0%      Default |\r\n",
      "|                               |                      |                  N/A |\r\n",
      "+-------------------------------+----------------------+----------------------+\r\n",
      "|   1  GeForce RTX 208...  On   | 00000000:3B:00.0 Off |                  N/A |\r\n",
      "| 29%   42C    P8    39W / 250W |     61MiB / 11019MiB |      0%      Default |\r\n",
      "|                               |                      |                  N/A |\r\n",
      "+-------------------------------+----------------------+----------------------+\r\n",
      "                                                                               \r\n",
      "+-----------------------------------------------------------------------------+\r\n",
      "| Processes:                                                                  |\r\n",
      "|  GPU   GI   CI        PID   Type   Process name                  GPU Memory |\r\n",
      "|        ID   ID                                                   Usage      |\r\n",
      "|=============================================================================|\r\n",
      "|    1   N/A  N/A      3736      G   /usr/bin/X                         33MiB |\r\n",
      "|    1   N/A  N/A      3790      G   /usr/bin/gnome-shell               25MiB |\r\n",
      "+-----------------------------------------------------------------------------+\r\n"
     ]
    }
   ],
   "source": [
    "!nvidia-smi"
   ]
  },
  {
   "cell_type": "markdown",
   "metadata": {},
   "source": [
    "> **WARNING**: The card numbers here are *not* the same as in CUDA. You have been warned."
   ]
  },
  {
   "cell_type": "markdown",
   "metadata": {},
   "source": [
    "## Imports"
   ]
  },
  {
   "cell_type": "code",
   "execution_count": 3,
   "metadata": {},
   "outputs": [],
   "source": [
    "import matplotlib.pyplot as plt\n",
    "import numpy as np\n",
    "import time\n",
    "import torch\n",
    "import pandas as pd\n",
    "\n",
    "# Python 3 standard library\n",
    "from pathlib import Path\n",
    "\n",
    "from model.efficiency import pv_locations, efficiency\n",
    "\n",
    "##from torchsummary import summary"
   ]
  },
  {
   "cell_type": "markdown",
   "metadata": {},
   "source": [
    "### Set up local parameters"
   ]
  },
  {
   "cell_type": "code",
   "execution_count": 4,
   "metadata": {},
   "outputs": [],
   "source": [
    "n_epochs = 100\n",
    "\n",
    "# Name is the output file name\n",
    "\n",
    "\n",
    "##  200719  mds\n",
    "##folder = '20December_Tracks_to_KDE_TestTrainedModel'\n",
    "##folder = '22December_testing_DDplus_loss_Bb_iter2_floatAll_100epochs_3em6'\n",
    "folder = '10Jan2021_TracksToHists_B_Iter4_100epochs_lr_2em3_b32_2p5_kde2hists_float_KDE_to_Hists'\n",
    "name = folder\n",
    "\n",
    "# Make an output folder named \"name\" (change if you want)\n",
    "\n",
    "## Special instructions for those working on goofy at UC\n",
    "## Please be very careful to make sure that your folder\n",
    "## does not live in a subdirectory of your home directory\n",
    "## this disk has very little capacity. Instead, use \n",
    "## a subdirectory in /share/lazy with a symbolic link to\n",
    "## it in this (the notebooks) subdirectory\n",
    "folder = 'ML/' + folder\n",
    "output = Path(folder)\n",
    "\n",
    "\n",
    "# Size of batches\n",
    "batch_size = 64\n",
    "# How fast to learn\n",
    "## learning rate was 1e-7 for all layers in TracksToHists_A\n",
    "## here we want to learn only weights in the finalFilter layer\n",
    "## of TracksToHists_B, so try a high learning rate, at least initially\n",
    "## 1e-3 did well for the first 10 epochs; let's increase it for the next 40\n",
    "## reduce to 1e-3 for iteration with KDE_to_Hists weights floated\n",
    "##  cost decreased monotonically in previous run, so increase lr to 2e-3\n",
    "## iter 3 training cost still descreasing monotonically, so leave lr = 2e-3 for iter 4\n",
    "learning_rate = 2e-3"
   ]
  },
  {
   "cell_type": "markdown",
   "metadata": {},
   "source": [
    "Make the output directory if it does not exist:"
   ]
  },
  {
   "cell_type": "code",
   "execution_count": 5,
   "metadata": {},
   "outputs": [],
   "source": [
    "output.mkdir(exist_ok=True)"
   ]
  },
  {
   "cell_type": "markdown",
   "metadata": {},
   "source": [
    "## Get the helper functions\n",
    "\n",
    "Add the directory with the model\n",
    "definitions to the path so we can import from it:\n",
    "\n",
    "> When you type `import X`,\n",
    "Python searches `sys.path` for a python\n",
    "file named `X.py` to import. So we need to add the model directory to the path."
   ]
  },
  {
   "cell_type": "code",
   "execution_count": 6,
   "metadata": {
    "scrolled": true
   },
   "outputs": [],
   "source": [
    "# From model/collectdata.py\n",
    "##from model.collectdata_kde_Ellipsoids import collect_t2kde_data\n",
    "from model.collectdata_t2hists import collect_t2hists_data\n",
    "from model.collectdata_mdsA  import collect_truth\n",
    "\n",
    "# From model/loss.py\n",
    "##from loss import Loss\n",
    "##from model.kde_loss_D import Loss\n",
    "## from model.kde_loss_B import Loss  ## Tracks_to_KDE loss, not for target hists\n",
    "\n",
    "##  \"standard\" ratios loss for hists training\n",
    "from model.alt_loss_A import Loss  ## loss used to train RunModel_Demo_28November2020-SimpleCNNLayer_Ca-Restart_5\n",
    "\n",
    "\n",
    "##from model.models_kde import TracksToKDE_Ellipsoids_DirtyDozen as Model\n",
    "from model.models_kde import TracksToKDE_Ellipsoids_DDplus as t2kde_model\n",
    "##from model.models_mds_G import SimpleCNN5Layer_Ca as kde2hists_model\n",
    "from model.models_mds_28Dec20 import SimpleCNN5Layer_Ca as kde2hists_model  ## copy of models_mds_01June20 for debugging\n",
    "from model.models_t2hists import TracksToHists_B as t2hists_model\n",
    "\n",
    "\n",
    "##from model.training_kde import trainNet, select_gpu, Results\n",
    "## training_t2hists_A.py increases \"difference\" for accepting found\n",
    "## peaks as matched from 5 bins to 7.5 bins (compmared to original training.py)\n",
    "from model.training_t2hists_A import trainNet, select_gpu, Results\n",
    "from model.plots import dual_train_plots, replace_in_ax"
   ]
  },
  {
   "cell_type": "code",
   "execution_count": 7,
   "metadata": {},
   "outputs": [],
   "source": [
    "# This gets built up during the run - do not rerun this cell\n",
    "results = pd.DataFrame([], columns=Results._fields)"
   ]
  },
  {
   "cell_type": "markdown",
   "metadata": {},
   "source": [
    "Set up Torch device configuration. All tensors and model parameters need to know where to be put.\n",
    "This takes a BUS ID number: The BUS ID is the same as the listing at the top of this script."
   ]
  },
  {
   "cell_type": "code",
   "execution_count": 8,
   "metadata": {},
   "outputs": [
    {
     "name": "stdout",
     "output_type": "stream",
     "text": [
      "1 available GPUs (initially using device 0):\n",
      "  0 GeForce RTX 2080 Ti\n"
     ]
    }
   ],
   "source": [
    "device = select_gpu(0)\n",
    "##device = \"cpu\""
   ]
  },
  {
   "cell_type": "markdown",
   "metadata": {},
   "source": [
    "## Loading data\n",
    "\n",
    "Load the dataset, split into parts, then move to device (see `collectdata.py` in the `../model` directory)"
   ]
  },
  {
   "cell_type": "code",
   "execution_count": 9,
   "metadata": {
    "scrolled": false
   },
   "outputs": [
    {
     "name": "stdout",
     "output_type": "stream",
     "text": [
      "Loading data...\n",
      "pocaMx.shape =  (80000,)\n",
      "nEvts =  80000\n",
      "len(pocaMx[0]) =  199\n",
      "len(pocaMx[1]) =  25\n",
      "len(pocaMx[2]) =  369\n",
      "len(pocaMx[3]) =  143\n",
      "len(pocaMx[4]) =  160\n",
      "have entered six_ellipsoid_parameters\n",
      "  \n",
      " \n",
      "  nEvts =  80000\n",
      " iEvt, nTrks =  0 199\n",
      " iEvt, nTrks =  1 25\n",
      " iEvt, nTrks =  2 369\n",
      " iEvt, nTrks =  3 143\n",
      " iEvt, nTrks =  4 160\n",
      " iEvt, nTrks =  5 260\n",
      " iEvt, nTrks =  6 237\n",
      " iEvt, nTrks =  7 327\n",
      " iEvt, nTrks =  8 178\n",
      " iEvt, nTrks =  9 106\n",
      "len(X) =  80000\n",
      "len(Xlist) =  1\n",
      "Loaded /share/lazy/will/data/June30_2020_80k_1.h5 in 115.0 s\n",
      "outer loop X.shape =  (80000, 9, 600)\n",
      "Constructing 80000 event dataset took 0.7557 s\n",
      "x_t.shape =  torch.Size([80000, 9, 600])\n",
      "x_t.shape[0] =  80000\n",
      "x_t.shape[1] =  9\n",
      "x_t.shape =  torch.Size([80000, 9, 600])\n",
      "Loading data...\n",
      "pocaMx.shape =  (20000,)\n",
      "nEvts =  20000\n",
      "len(pocaMx[0]) =  211\n",
      "len(pocaMx[1]) =  21\n",
      "len(pocaMx[2]) =  20\n",
      "len(pocaMx[3]) =  198\n",
      "len(pocaMx[4]) =  233\n",
      "have entered six_ellipsoid_parameters\n",
      "  \n",
      " \n",
      "  nEvts =  20000\n",
      " iEvt, nTrks =  0 211\n",
      " iEvt, nTrks =  1 21\n",
      " iEvt, nTrks =  2 20\n",
      " iEvt, nTrks =  3 198\n",
      " iEvt, nTrks =  4 233\n",
      " iEvt, nTrks =  5 85\n",
      " iEvt, nTrks =  6 223\n",
      " iEvt, nTrks =  7 425\n",
      " iEvt, nTrks =  8 252\n",
      " iEvt, nTrks =  9 169\n",
      "len(X) =  20000\n",
      "len(Xlist) =  1\n",
      "Loaded dataAA/20K_POCA_kernel_evts_200926.h5 in 27.1 s\n",
      "outer loop X.shape =  (20000, 9, 600)\n",
      "Constructing 20000 event dataset took 2.387 s\n",
      "x_t.shape =  torch.Size([20000, 9, 600])\n",
      "x_t.shape[0] =  20000\n",
      "x_t.shape[1] =  9\n",
      "x_t.shape =  torch.Size([20000, 9, 600])\n",
      "Loaded dataAA/20K_POCA_kernel_evts_200926.h5 in 0.01186 s\n",
      "PV.n.shape =     (20000,)\n",
      "PV.n[0].shape =  6\n",
      "PV.x[0] =        -0.06039733 0.034324445 0.032115813 0.0021888595 -0.035334907 -0.013019809\n",
      "PV.y[0] =        -0.09381338 -0.013181885 -0.030898828 -0.08940365 -0.0058297813 0.062288247\n",
      "PV.z[0] =        97.82085 61.021088 -0.15807877 134.26784 -29.881668 79.19783\n",
      "PV.n[0] =        24 26 10 7 24 19\n",
      "PV.cat[0] =      1 1 1 1 1 1\n",
      "Loaded dataAA/20K_POCA_kernel_evts_200926.h5 in 0.008585 s\n",
      "SV.n.shape =     (20000,)\n",
      "SV.n[0].shape =  2\n",
      "SV.x[0] =        -0.014751727 0.03923173\n",
      "SV.y[0] =        0.050640453 0.08648109\n",
      "SV.z[0] =        78.924194 79.170876\n",
      "SV.n[0] =        2 0\n",
      "SV.cat[0] =      1 -1\n"
     ]
    }
   ],
   "source": [
    "## 210109 let's use some of Will's toy MC for training rather than the 20K sample I've been using\n",
    "\n",
    "##train_loader = collect_t2hists_data('dataAA/20K_POCA_kernel_evts_200926.h5',\n",
    "train_loader = collect_t2hists_data('/share/lazy/will/data/June30_2020_80k_1.h5',    \n",
    "                             batch_size=batch_size,\n",
    "## if we are using a larger dataset (240K events, with the datasets above, and 11 GB  of GPU memory),\n",
    "## not the dataset will overflow the GPU memory; device=device will allow the data to move back\n",
    "## and forth between the CPU and GPU memory. While this allows use of a larger dataset, it slows\n",
    "## down performance by about 10%.  So comment out when not needed.\n",
    "##                           device=device,\n",
    "##                             slice = slice(0,18000)\n",
    "                           )\n",
    "\n",
    "\n",
    "\n",
    "                            \n",
    "# Validation dataset. You can slice to reduce the size.\n",
    "## mds no separate validation set yet,\n",
    "\n",
    "## 210109 and use everything in this 20K file for validation\n",
    "val_loader = collect_t2hists_data('dataAA/20K_POCA_kernel_evts_200926.h5',\n",
    "                            batch_size=batch_size,\n",
    "                            device=device,\n",
    "##                           slice = slice(18000,None)\n",
    "                           )\n",
    "\n",
    "PV = collect_truth('dataAA/20K_POCA_kernel_evts_200926.h5', pvs=True)\n",
    "print('PV.n.shape =    ',  PV.n.shape)\n",
    "print('PV.n[0].shape = ', *PV.n[0].shape)\n",
    "print('PV.x[0] =       ', *PV.x[0])\n",
    "print('PV.y[0] =       ', *PV.y[0])\n",
    "print('PV.z[0] =       ', *PV.z[0])\n",
    "print('PV.n[0] =       ', *PV.n[0])\n",
    "print('PV.cat[0] =     ', *PV.cat[0])\n",
    "\n",
    "SV = collect_truth('dataAA/20K_POCA_kernel_evts_200926.h5', pvs=False)\n",
    "print('SV.n.shape =    ', SV.n.shape)\n",
    "print('SV.n[0].shape = ', *SV.n[0].shape)\n",
    "print('SV.x[0] =       ', *SV.x[0])\n",
    "print('SV.y[0] =       ', *SV.y[0])\n",
    "print('SV.z[0] =       ', *SV.z[0])\n",
    "print('SV.n[0] =       ', *SV.n[0])\n",
    "print('SV.cat[0] =     ', *SV.cat[0])\n"
   ]
  },
  {
   "cell_type": "markdown",
   "metadata": {},
   "source": [
    "# Preparing the model"
   ]
  },
  {
   "cell_type": "markdown",
   "metadata": {},
   "source": [
    "Prepare a model, use multiple GPUs if they are VISIBLE, and move the model to the device."
   ]
  },
  {
   "cell_type": "code",
   "execution_count": 10,
   "metadata": {
    "scrolled": false
   },
   "outputs": [
    {
     "name": "stdout",
     "output_type": "stream",
     "text": [
      "ct, child =  0    Linear(in_features=9, out_features=50, bias=True)\n",
      "     About to set param.requires_grad=False for ct =  0 params\n",
      "ct, child =  1    Linear(in_features=50, out_features=50, bias=True)\n",
      "     About to set param.requires_grad=False for ct =  1 params\n",
      "ct, child =  2    Linear(in_features=50, out_features=50, bias=True)\n",
      "     About to set param.requires_grad=False for ct =  2 params\n",
      "ct, child =  3    Linear(in_features=50, out_features=50, bias=True)\n",
      "     About to set param.requires_grad=False for ct =  3 params\n",
      "ct, child =  4    Linear(in_features=50, out_features=50, bias=True)\n",
      "     About to set param.requires_grad=False for ct =  4 params\n",
      "ct, child =  5    Linear(in_features=50, out_features=50, bias=True)\n",
      "     About to set param.requires_grad=False for ct =  5 params\n",
      "ct, child =  6    Linear(in_features=50, out_features=50, bias=True)\n",
      "     About to set param.requires_grad=False for ct =  6 params\n",
      "ct, child =  7    Linear(in_features=50, out_features=50, bias=True)\n",
      "     About to set param.requires_grad=False for ct =  7 params\n",
      "ct, child =  8    Linear(in_features=50, out_features=50, bias=True)\n",
      "     About to set param.requires_grad=False for ct =  8 params\n",
      "ct, child =  9    Linear(in_features=50, out_features=50, bias=True)\n",
      "     About to set param.requires_grad=False for ct =  9 params\n",
      "ct, child =  10    Linear(in_features=50, out_features=50, bias=True)\n",
      "     About to set param.requires_grad=False for ct =  10 params\n",
      "ct, child =  11    Linear(in_features=50, out_features=16000, bias=True)\n",
      "     About to set param.requires_grad=False for ct =  11 params\n",
      "ct, child =  12    Conv1d(4, 25, kernel_size=(25,), stride=(1,), padding=(12,))\n",
      "     About to set param.requires_grad=False for ct =  12 params\n",
      "ct, child =  13    Conv1d(25, 1, kernel_size=(5,), stride=(1,), padding=(2,))\n",
      "     About to set param.requires_grad=False for ct =  13 params\n",
      "ct, child =  14    Linear(in_features=4000, out_features=4000, bias=True)\n",
      "     About to set param.requires_grad=False for ct =  14 params\n",
      "ct, child =  15    Dropout(p=0.15, inplace=False)\n",
      "     About to set param.requires_grad=False for ct =  15 params\n",
      "ct, child =  16    Dropout(p=0.15, inplace=False)\n",
      "     About to set param.requires_grad=False for ct =  16 params\n",
      "ct, child =  17    Conv1d(1, 20, kernel_size=(25,), stride=(1,), padding=(12,))\n",
      "ct, child =  18    Conv1d(20, 10, kernel_size=(15,), stride=(1,), padding=(7,))\n",
      "ct, child =  19    Conv1d(10, 10, kernel_size=(15,), stride=(1,), padding=(7,))\n",
      "ct, child =  20    Conv1d(10, 10, kernel_size=(15,), stride=(1,), padding=(7,))\n",
      "ct, child =  21    Conv1d(10, 1, kernel_size=(5,), stride=(1,), padding=(2,))\n",
      "ct, child =  22    Dropout(p=0.15, inplace=False)\n",
      "ct, child =  23    Dropout(p=0.15, inplace=False)\n",
      "ct, child =  24    Dropout(p=0.15, inplace=False)\n",
      "ct, child =  25    Dropout(p=0.15, inplace=False)\n",
      "ct, child =  26    Dropout(p=0.35, inplace=False)\n",
      "ct, child =  27    Linear(in_features=4000, out_features=4000, bias=True)\n",
      "ct, child =  28    Conv1d(1, 1, kernel_size=(91,), stride=(1,), padding=(45,))\n"
     ]
    }
   ],
   "source": [
    "nOut1 = 50\n",
    "nOut2 = 50\n",
    "nOut3 = 50\n",
    "nOut4 = 50\n",
    "nOut5 = 50\n",
    "nOut6 = 50\n",
    "nOut7 = 50\n",
    "nOut8 = 50\n",
    "nOut9 = 50\n",
    "nOut10 = 50\n",
    "nOut11 = 50\n",
    "latentChannels = 4\n",
    "model_t2kde = t2kde_model(nOut1,nOut2,nOut3,nOut4,nOut5,nOut6,nOut7,nOut8,nOut9,nOut10,nOut11,latentChannels)\n",
    "model_kde2hists = kde2hists_model()\n",
    "model_t2hists = t2hists_model(nOut1,nOut2,nOut3,nOut4,nOut5,nOut6,nOut7,nOut8,nOut9,nOut10,nOut11,latentChannels)\n",
    "\n",
    "##summary(model, input_size=(4, 4000))\n",
    "##print(model.parameters)\n",
    "\n",
    "## add the following code to allow the user to freeze the some of the weights corresponding \n",
    "## to those taken from an earlier model trained with the original target histograms\n",
    "## presumably -- this leaves either the perturbative filter \"fixed\" and lets the \n",
    "## learning focus on the non-perturbative features, so get started faster, or vice versa\n",
    "\n",
    "## 210110 For Iter0, freeze all weights other than those asociated with\n",
    "## the finalFilter added in moving from TracksToHists_A to TracksToHists_B\n",
    "\n",
    "## for \"float_KDE_to_Hists\" loop over ct<17\n",
    "ct = 0\n",
    "for child in model_t2hists.children():\n",
    "  print('ct, child = ',ct, \"  \", child)\n",
    "  if (ct < 17) :\n",
    "    print(\"     About to set param.requires_grad=False for ct = \", ct, \"params\")\n",
    "    for param in child.parameters():\n",
    "        param.requires_grad = False \n",
    "  ct += 1\n",
    "\n",
    "loss = Loss(epsilon=1e-5,coefficient=2.5)\n",
    "optimizer = torch.optim.Adam(model_t2hists.parameters(), lr=learning_rate)"
   ]
  },
  {
   "cell_type": "markdown",
   "metadata": {},
   "source": [
    "Let's move the model's weight matricies to the GPU:"
   ]
  },
  {
   "cell_type": "code",
   "execution_count": 11,
   "metadata": {
    "scrolled": false
   },
   "outputs": [
    {
     "data": {
      "text/plain": [
       "<All keys matched successfully>"
      ]
     },
     "execution_count": 11,
     "metadata": {},
     "output_type": "execute_result"
    }
   ],
   "source": [
    "## want to look at all three dictionaries to start:\n",
    "##  t2kde\n",
    "##  kde2hists\n",
    "##  t2hists\n",
    "## the plan is to (initially) copy weights from separate dictionaries into th t2hists dictionary\n",
    "\n",
    "##   ML -> /share/lazy/sokoloff/ML\n",
    "'''\n",
    "model_t2kde_dict = model_t2kde.state_dict()\n",
    "## mds 190725 for debugging\n",
    "print(\"for model_t2kde_dict\")\n",
    "index = 0\n",
    "for k,v in model_t2kde_dict.items():\n",
    "    print(\"index, k =  \",index,\"  \",k)\n",
    "    index = index+1\n",
    "#\n",
    "model_kde2hists_dict = model_kde2hists.state_dict()\n",
    "## mds 190725 for debugging\n",
    "print(\"for model_hists_2kde_dict\")\n",
    "index = 0\n",
    "for k,v in model_kde2hists_dict.items():\n",
    "    print(\"index, k =  \",index,\"  \",k)\n",
    "    index = index+1\n",
    "#\n",
    "model_t2hists_dict = model_t2hists.state_dict()\n",
    "## mds 190725 for debugging\n",
    "print(\"for model_hists_2kde_dict\")\n",
    "index = 0\n",
    "for k,v in model_t2hists_dict.items():\n",
    "    print(\"index, k =  \",index,\"  \",k)\n",
    "    index = index+1\n",
    "#\n",
    "\n",
    "##  build the \"updated_dict\" to become the t2hists_dictionary from the\n",
    "##  t2kde and kde2hist dictionaries\n",
    "update_dict = model_t2hists_dict\n",
    "##print(\"updated_dict = \",updated_dict)\n",
    "## when starting \"ab initio\", reduce biases as the bias gets summed for each track\n",
    "## contributing to the predicted KDE\n",
    "'''\n",
    "\n",
    "\n",
    "'''\n",
    "updated_dict[\"layer1.bias\"] = 0.005*model_dict[\"layer1.bias\"]\n",
    "updated_dict[\"layer2.bias\"] = 0.005*model_dict[\"layer2.bias\"]\n",
    "updated_dict[\"layer3.bias\"] = 0.005*model_dict[\"layer3.bias\"]\n",
    "updated_dict[\"layer4.bias\"] = 0.005*model_dict[\"layer4.bias\"]\n",
    "updated_dict[\"layer5.bias\"] = 0.005*model_dict[\"layer5.bias\"]\n",
    "updated_dict[\"layer6.bias\"] = 0.005*model_dict[\"layer6.bias\"]\n",
    "updated_dict[\"layer7.bias\"] = 0.005*model_dict[\"layer7.bias\"]\n",
    "updated_dict[\"layer8.bias\"] = 0.005*model_dict[\"layer8.bias\"]\n",
    "updated_dict[\"layer9.bias\"] = 0.005*model_dict[\"layer9.bias\"]\n",
    "updated_dict[\"layer10.bias\"] = 0.005*model_dict[\"layer10.bias\"]\n",
    "updated_dict[\"layer11.bias\"] = 0.005*model_dict[\"layer11.bias\"]\n",
    "'''\n",
    "\n",
    "'''\n",
    "##model_t2hists.load_state_dict(updated_dict,strict=False)\n",
    "\n",
    "##model__t2hists_dict = model_t2hists.state_dict()\n",
    "\n",
    "## let's get the tracks-to-kde model here\n",
    "t2kde_folder = '25December__DDplus_loss_Ba_iter5_floatAll_800epochs_5em6'  ## really iter6, really Dec. 27\n",
    "t2kde_folder = '25December__DDplus_loss_Ba_iter7_floatAll_800epochs_4em6'\n",
    "t2kde_name = t2kde_folder\n",
    "suffix = 'final'\n",
    "t2kde_dict_name = 'ML/' + t2kde_folder + '/' + t2kde_name + '_'+ suffix + '.pyt'\n",
    "print('t2kde_dict_name = ',t2kde_dict_name)\n",
    "pretrained_t2kde_dict = torch.load(t2kde_dict_name)\n",
    "\n",
    "print(\" \\n\",\"  for t2kde_pretrained_dict\")\n",
    "index = 0\n",
    "for k,v in pretrained_t2kde_dict.items():\n",
    "    print(\"index, k =  \",index,\"  \",k)\n",
    "    index = index+1\n",
    "    \n",
    "    \n",
    "## let's get the hists-to-kde model here   \n",
    "kde2hists_folder = '02June2020_CNN5Layer_Ca_another200epochs_K'\n",
    "kde2hists_name = kde2hists_folder\n",
    "suffix = 'final'\n",
    "kde2hists_dict_name = 'ML/' + kde2hists_folder + '/' + kde2hists_name + '_'+ suffix + '.pyt'\n",
    "## mds dec28 print('kde2hists_dict_name = ',kde2hists_dict_name)\n",
    "pretrained_kde2hists_dict = torch.load(kde2hists_dict_name)\n",
    "\n",
    "print(\" \\n\",\"  for kde2hists_pretrained_dict\")\n",
    "index = 0\n",
    "for k,v in pretrained_kde2hists_dict.items():\n",
    "    print(\"index, k =  \",index,\"  \",k)\n",
    "    index = index+1\n",
    " \n",
    "\n",
    "\n",
    "##print(\"model_dict instantiated\")\n",
    "# 1. filter out unnecessary keys\n",
    "pretrained_dict = {k: v for k, v in pretrained_t2kde_dict.items() if k in model_t2hists_dict}\n",
    "## mds dec28 print(\"pretrained_dict iterated\")\n",
    "# 2. overwrite entries in the existing state dict\n",
    "model_t2hists_dict.update(pretrained_dict) \n",
    "\n",
    "update_dict[\"hist_conv1.weight\"] = pretrained_kde2hists_dict[\"conv1.weight\"]\n",
    "update_dict[\"hist_conv1.bias\"]   = pretrained_kde2hists_dict[\"conv1.bias\"]\n",
    "update_dict[\"hist_conv2.weight\"] = pretrained_kde2hists_dict[\"conv2.weight\"]\n",
    "update_dict[\"hist_conv2.bias\"]   = pretrained_kde2hists_dict[\"conv2.bias\"]\n",
    "update_dict[\"hist_conv3.weight\"] = pretrained_kde2hists_dict[\"conv3.weight\"]\n",
    "update_dict[\"hist_conv3.bias\"]   = pretrained_kde2hists_dict[\"conv3.bias\"]\n",
    "update_dict[\"hist_conv4.weight\"] = pretrained_kde2hists_dict[\"conv4.weight\"]\n",
    "update_dict[\"hist_conv4.bias\"]   = pretrained_kde2hists_dict[\"conv4.bias\"]\n",
    "update_dict[\"hist_conv5.weight\"] = pretrained_kde2hists_dict[\"conv5.weight\"]\n",
    "update_dict[\"hist_conv5.bias\"]   = pretrained_kde2hists_dict[\"conv5.bias\"]\n",
    "update_dict[\"hist_fc1.weight\"]   = pretrained_kde2hists_dict[\"fc1.weight\"]\n",
    "update_dict[\"hist_fc1.bias\"]     = pretrained_kde2hists_dict[\"fc1.bias\"]\n",
    "\n",
    "##model_t2hists.update(update_dict,strict=False)\n",
    "model_t2hists.load_state_dict(update_dict,strict=False)\n",
    "model_t2hists_dict = model_t2hists.state_dict()\n",
    "'''\n",
    "\n",
    "##\n",
    "#   when starting from a model with a fully connected last layer rather than a convolutional layer\n",
    "# 3. load the new state dict\n",
    "#   need to use strict=False as the two models state model attributes do not agree exactly\n",
    "#   see https://pytorch.org/docs/master/_modules/torch/nn/modules/module.html#Module.load_state_dict\n",
    "\n",
    "t2hists_folder = '10Jan2021_TracksToHists_B_Iter3_20epochs_lr_2em3_2p5_kde2hists_float_KDE_to_Hists'\n",
    "t2hists_name = t2hists_folder\n",
    "suffix = 'final'\n",
    "t2hists_dict_name = 'ML/' + t2hists_folder + '/' +t2hists_name + '_'+ suffix + '.pyt'\n",
    "## mds dec28 print('kde2hists_dict_name = ',kde2hists_dict_name)\n",
    "pretrained_t2hists_dict = torch.load(t2hists_dict_name) \n",
    "\n",
    "model_t2hists.load_state_dict(pretrained_t2hists_dict,strict=False)\n",
    "\n",
    "##  print('model_t2hists_dict =    ', model_t2hists_dict)\n"
   ]
  },
  {
   "cell_type": "code",
   "execution_count": 12,
   "metadata": {},
   "outputs": [],
   "source": [
    "##print('validation.dataset.tensors = ',validation.dataset.tensors)\n",
    "fig_size = plt.rcParams[\"figure.figsize\"]\n",
    "fig_size[0] = 10\n",
    "fig_size[1] = 4\n",
    "plt.rcParams[\"figure.figsize\"] = fig_size"
   ]
  },
  {
   "cell_type": "code",
   "execution_count": 13,
   "metadata": {
    "scrolled": true
   },
   "outputs": [],
   "source": [
    "model = model_t2hists.to(device)"
   ]
  },
  {
   "cell_type": "code",
   "execution_count": 14,
   "metadata": {},
   "outputs": [
    {
     "data": {
      "application/javascript": [
       "/* Put everything inside the global mpl namespace */\n",
       "window.mpl = {};\n",
       "\n",
       "\n",
       "mpl.get_websocket_type = function() {\n",
       "    if (typeof(WebSocket) !== 'undefined') {\n",
       "        return WebSocket;\n",
       "    } else if (typeof(MozWebSocket) !== 'undefined') {\n",
       "        return MozWebSocket;\n",
       "    } else {\n",
       "        alert('Your browser does not have WebSocket support. ' +\n",
       "              'Please try Chrome, Safari or Firefox ≥ 6. ' +\n",
       "              'Firefox 4 and 5 are also supported but you ' +\n",
       "              'have to enable WebSockets in about:config.');\n",
       "    };\n",
       "}\n",
       "\n",
       "mpl.figure = function(figure_id, websocket, ondownload, parent_element) {\n",
       "    this.id = figure_id;\n",
       "\n",
       "    this.ws = websocket;\n",
       "\n",
       "    this.supports_binary = (this.ws.binaryType != undefined);\n",
       "\n",
       "    if (!this.supports_binary) {\n",
       "        var warnings = document.getElementById(\"mpl-warnings\");\n",
       "        if (warnings) {\n",
       "            warnings.style.display = 'block';\n",
       "            warnings.textContent = (\n",
       "                \"This browser does not support binary websocket messages. \" +\n",
       "                    \"Performance may be slow.\");\n",
       "        }\n",
       "    }\n",
       "\n",
       "    this.imageObj = new Image();\n",
       "\n",
       "    this.context = undefined;\n",
       "    this.message = undefined;\n",
       "    this.canvas = undefined;\n",
       "    this.rubberband_canvas = undefined;\n",
       "    this.rubberband_context = undefined;\n",
       "    this.format_dropdown = undefined;\n",
       "\n",
       "    this.image_mode = 'full';\n",
       "\n",
       "    this.root = $('<div/>');\n",
       "    this._root_extra_style(this.root)\n",
       "    this.root.attr('style', 'display: inline-block');\n",
       "\n",
       "    $(parent_element).append(this.root);\n",
       "\n",
       "    this._init_header(this);\n",
       "    this._init_canvas(this);\n",
       "    this._init_toolbar(this);\n",
       "\n",
       "    var fig = this;\n",
       "\n",
       "    this.waiting = false;\n",
       "\n",
       "    this.ws.onopen =  function () {\n",
       "            fig.send_message(\"supports_binary\", {value: fig.supports_binary});\n",
       "            fig.send_message(\"send_image_mode\", {});\n",
       "            if (mpl.ratio != 1) {\n",
       "                fig.send_message(\"set_dpi_ratio\", {'dpi_ratio': mpl.ratio});\n",
       "            }\n",
       "            fig.send_message(\"refresh\", {});\n",
       "        }\n",
       "\n",
       "    this.imageObj.onload = function() {\n",
       "            if (fig.image_mode == 'full') {\n",
       "                // Full images could contain transparency (where diff images\n",
       "                // almost always do), so we need to clear the canvas so that\n",
       "                // there is no ghosting.\n",
       "                fig.context.clearRect(0, 0, fig.canvas.width, fig.canvas.height);\n",
       "            }\n",
       "            fig.context.drawImage(fig.imageObj, 0, 0);\n",
       "        };\n",
       "\n",
       "    this.imageObj.onunload = function() {\n",
       "        fig.ws.close();\n",
       "    }\n",
       "\n",
       "    this.ws.onmessage = this._make_on_message_function(this);\n",
       "\n",
       "    this.ondownload = ondownload;\n",
       "}\n",
       "\n",
       "mpl.figure.prototype._init_header = function() {\n",
       "    var titlebar = $(\n",
       "        '<div class=\"ui-dialog-titlebar ui-widget-header ui-corner-all ' +\n",
       "        'ui-helper-clearfix\"/>');\n",
       "    var titletext = $(\n",
       "        '<div class=\"ui-dialog-title\" style=\"width: 100%; ' +\n",
       "        'text-align: center; padding: 3px;\"/>');\n",
       "    titlebar.append(titletext)\n",
       "    this.root.append(titlebar);\n",
       "    this.header = titletext[0];\n",
       "}\n",
       "\n",
       "\n",
       "\n",
       "mpl.figure.prototype._canvas_extra_style = function(canvas_div) {\n",
       "\n",
       "}\n",
       "\n",
       "\n",
       "mpl.figure.prototype._root_extra_style = function(canvas_div) {\n",
       "\n",
       "}\n",
       "\n",
       "mpl.figure.prototype._init_canvas = function() {\n",
       "    var fig = this;\n",
       "\n",
       "    var canvas_div = $('<div/>');\n",
       "\n",
       "    canvas_div.attr('style', 'position: relative; clear: both; outline: 0');\n",
       "\n",
       "    function canvas_keyboard_event(event) {\n",
       "        return fig.key_event(event, event['data']);\n",
       "    }\n",
       "\n",
       "    canvas_div.keydown('key_press', canvas_keyboard_event);\n",
       "    canvas_div.keyup('key_release', canvas_keyboard_event);\n",
       "    this.canvas_div = canvas_div\n",
       "    this._canvas_extra_style(canvas_div)\n",
       "    this.root.append(canvas_div);\n",
       "\n",
       "    var canvas = $('<canvas/>');\n",
       "    canvas.addClass('mpl-canvas');\n",
       "    canvas.attr('style', \"left: 0; top: 0; z-index: 0; outline: 0\")\n",
       "\n",
       "    this.canvas = canvas[0];\n",
       "    this.context = canvas[0].getContext(\"2d\");\n",
       "\n",
       "    var backingStore = this.context.backingStorePixelRatio ||\n",
       "\tthis.context.webkitBackingStorePixelRatio ||\n",
       "\tthis.context.mozBackingStorePixelRatio ||\n",
       "\tthis.context.msBackingStorePixelRatio ||\n",
       "\tthis.context.oBackingStorePixelRatio ||\n",
       "\tthis.context.backingStorePixelRatio || 1;\n",
       "\n",
       "    mpl.ratio = (window.devicePixelRatio || 1) / backingStore;\n",
       "\n",
       "    var rubberband = $('<canvas/>');\n",
       "    rubberband.attr('style', \"position: absolute; left: 0; top: 0; z-index: 1;\")\n",
       "\n",
       "    var pass_mouse_events = true;\n",
       "\n",
       "    canvas_div.resizable({\n",
       "        start: function(event, ui) {\n",
       "            pass_mouse_events = false;\n",
       "        },\n",
       "        resize: function(event, ui) {\n",
       "            fig.request_resize(ui.size.width, ui.size.height);\n",
       "        },\n",
       "        stop: function(event, ui) {\n",
       "            pass_mouse_events = true;\n",
       "            fig.request_resize(ui.size.width, ui.size.height);\n",
       "        },\n",
       "    });\n",
       "\n",
       "    function mouse_event_fn(event) {\n",
       "        if (pass_mouse_events)\n",
       "            return fig.mouse_event(event, event['data']);\n",
       "    }\n",
       "\n",
       "    rubberband.mousedown('button_press', mouse_event_fn);\n",
       "    rubberband.mouseup('button_release', mouse_event_fn);\n",
       "    // Throttle sequential mouse events to 1 every 20ms.\n",
       "    rubberband.mousemove('motion_notify', mouse_event_fn);\n",
       "\n",
       "    rubberband.mouseenter('figure_enter', mouse_event_fn);\n",
       "    rubberband.mouseleave('figure_leave', mouse_event_fn);\n",
       "\n",
       "    canvas_div.on(\"wheel\", function (event) {\n",
       "        event = event.originalEvent;\n",
       "        event['data'] = 'scroll'\n",
       "        if (event.deltaY < 0) {\n",
       "            event.step = 1;\n",
       "        } else {\n",
       "            event.step = -1;\n",
       "        }\n",
       "        mouse_event_fn(event);\n",
       "    });\n",
       "\n",
       "    canvas_div.append(canvas);\n",
       "    canvas_div.append(rubberband);\n",
       "\n",
       "    this.rubberband = rubberband;\n",
       "    this.rubberband_canvas = rubberband[0];\n",
       "    this.rubberband_context = rubberband[0].getContext(\"2d\");\n",
       "    this.rubberband_context.strokeStyle = \"#000000\";\n",
       "\n",
       "    this._resize_canvas = function(width, height) {\n",
       "        // Keep the size of the canvas, canvas container, and rubber band\n",
       "        // canvas in synch.\n",
       "        canvas_div.css('width', width)\n",
       "        canvas_div.css('height', height)\n",
       "\n",
       "        canvas.attr('width', width * mpl.ratio);\n",
       "        canvas.attr('height', height * mpl.ratio);\n",
       "        canvas.attr('style', 'width: ' + width + 'px; height: ' + height + 'px;');\n",
       "\n",
       "        rubberband.attr('width', width);\n",
       "        rubberband.attr('height', height);\n",
       "    }\n",
       "\n",
       "    // Set the figure to an initial 600x600px, this will subsequently be updated\n",
       "    // upon first draw.\n",
       "    this._resize_canvas(600, 600);\n",
       "\n",
       "    // Disable right mouse context menu.\n",
       "    $(this.rubberband_canvas).bind(\"contextmenu\",function(e){\n",
       "        return false;\n",
       "    });\n",
       "\n",
       "    function set_focus () {\n",
       "        canvas.focus();\n",
       "        canvas_div.focus();\n",
       "    }\n",
       "\n",
       "    window.setTimeout(set_focus, 100);\n",
       "}\n",
       "\n",
       "mpl.figure.prototype._init_toolbar = function() {\n",
       "    var fig = this;\n",
       "\n",
       "    var nav_element = $('<div/>');\n",
       "    nav_element.attr('style', 'width: 100%');\n",
       "    this.root.append(nav_element);\n",
       "\n",
       "    // Define a callback function for later on.\n",
       "    function toolbar_event(event) {\n",
       "        return fig.toolbar_button_onclick(event['data']);\n",
       "    }\n",
       "    function toolbar_mouse_event(event) {\n",
       "        return fig.toolbar_button_onmouseover(event['data']);\n",
       "    }\n",
       "\n",
       "    for(var toolbar_ind in mpl.toolbar_items) {\n",
       "        var name = mpl.toolbar_items[toolbar_ind][0];\n",
       "        var tooltip = mpl.toolbar_items[toolbar_ind][1];\n",
       "        var image = mpl.toolbar_items[toolbar_ind][2];\n",
       "        var method_name = mpl.toolbar_items[toolbar_ind][3];\n",
       "\n",
       "        if (!name) {\n",
       "            // put a spacer in here.\n",
       "            continue;\n",
       "        }\n",
       "        var button = $('<button/>');\n",
       "        button.addClass('ui-button ui-widget ui-state-default ui-corner-all ' +\n",
       "                        'ui-button-icon-only');\n",
       "        button.attr('role', 'button');\n",
       "        button.attr('aria-disabled', 'false');\n",
       "        button.click(method_name, toolbar_event);\n",
       "        button.mouseover(tooltip, toolbar_mouse_event);\n",
       "\n",
       "        var icon_img = $('<span/>');\n",
       "        icon_img.addClass('ui-button-icon-primary ui-icon');\n",
       "        icon_img.addClass(image);\n",
       "        icon_img.addClass('ui-corner-all');\n",
       "\n",
       "        var tooltip_span = $('<span/>');\n",
       "        tooltip_span.addClass('ui-button-text');\n",
       "        tooltip_span.html(tooltip);\n",
       "\n",
       "        button.append(icon_img);\n",
       "        button.append(tooltip_span);\n",
       "\n",
       "        nav_element.append(button);\n",
       "    }\n",
       "\n",
       "    var fmt_picker_span = $('<span/>');\n",
       "\n",
       "    var fmt_picker = $('<select/>');\n",
       "    fmt_picker.addClass('mpl-toolbar-option ui-widget ui-widget-content');\n",
       "    fmt_picker_span.append(fmt_picker);\n",
       "    nav_element.append(fmt_picker_span);\n",
       "    this.format_dropdown = fmt_picker[0];\n",
       "\n",
       "    for (var ind in mpl.extensions) {\n",
       "        var fmt = mpl.extensions[ind];\n",
       "        var option = $(\n",
       "            '<option/>', {selected: fmt === mpl.default_extension}).html(fmt);\n",
       "        fmt_picker.append(option);\n",
       "    }\n",
       "\n",
       "    // Add hover states to the ui-buttons\n",
       "    $( \".ui-button\" ).hover(\n",
       "        function() { $(this).addClass(\"ui-state-hover\");},\n",
       "        function() { $(this).removeClass(\"ui-state-hover\");}\n",
       "    );\n",
       "\n",
       "    var status_bar = $('<span class=\"mpl-message\"/>');\n",
       "    nav_element.append(status_bar);\n",
       "    this.message = status_bar[0];\n",
       "}\n",
       "\n",
       "mpl.figure.prototype.request_resize = function(x_pixels, y_pixels) {\n",
       "    // Request matplotlib to resize the figure. Matplotlib will then trigger a resize in the client,\n",
       "    // which will in turn request a refresh of the image.\n",
       "    this.send_message('resize', {'width': x_pixels, 'height': y_pixels});\n",
       "}\n",
       "\n",
       "mpl.figure.prototype.send_message = function(type, properties) {\n",
       "    properties['type'] = type;\n",
       "    properties['figure_id'] = this.id;\n",
       "    this.ws.send(JSON.stringify(properties));\n",
       "}\n",
       "\n",
       "mpl.figure.prototype.send_draw_message = function() {\n",
       "    if (!this.waiting) {\n",
       "        this.waiting = true;\n",
       "        this.ws.send(JSON.stringify({type: \"draw\", figure_id: this.id}));\n",
       "    }\n",
       "}\n",
       "\n",
       "\n",
       "mpl.figure.prototype.handle_save = function(fig, msg) {\n",
       "    var format_dropdown = fig.format_dropdown;\n",
       "    var format = format_dropdown.options[format_dropdown.selectedIndex].value;\n",
       "    fig.ondownload(fig, format);\n",
       "}\n",
       "\n",
       "\n",
       "mpl.figure.prototype.handle_resize = function(fig, msg) {\n",
       "    var size = msg['size'];\n",
       "    if (size[0] != fig.canvas.width || size[1] != fig.canvas.height) {\n",
       "        fig._resize_canvas(size[0], size[1]);\n",
       "        fig.send_message(\"refresh\", {});\n",
       "    };\n",
       "}\n",
       "\n",
       "mpl.figure.prototype.handle_rubberband = function(fig, msg) {\n",
       "    var x0 = msg['x0'] / mpl.ratio;\n",
       "    var y0 = (fig.canvas.height - msg['y0']) / mpl.ratio;\n",
       "    var x1 = msg['x1'] / mpl.ratio;\n",
       "    var y1 = (fig.canvas.height - msg['y1']) / mpl.ratio;\n",
       "    x0 = Math.floor(x0) + 0.5;\n",
       "    y0 = Math.floor(y0) + 0.5;\n",
       "    x1 = Math.floor(x1) + 0.5;\n",
       "    y1 = Math.floor(y1) + 0.5;\n",
       "    var min_x = Math.min(x0, x1);\n",
       "    var min_y = Math.min(y0, y1);\n",
       "    var width = Math.abs(x1 - x0);\n",
       "    var height = Math.abs(y1 - y0);\n",
       "\n",
       "    fig.rubberband_context.clearRect(\n",
       "        0, 0, fig.canvas.width / mpl.ratio, fig.canvas.height / mpl.ratio);\n",
       "\n",
       "    fig.rubberband_context.strokeRect(min_x, min_y, width, height);\n",
       "}\n",
       "\n",
       "mpl.figure.prototype.handle_figure_label = function(fig, msg) {\n",
       "    // Updates the figure title.\n",
       "    fig.header.textContent = msg['label'];\n",
       "}\n",
       "\n",
       "mpl.figure.prototype.handle_cursor = function(fig, msg) {\n",
       "    var cursor = msg['cursor'];\n",
       "    switch(cursor)\n",
       "    {\n",
       "    case 0:\n",
       "        cursor = 'pointer';\n",
       "        break;\n",
       "    case 1:\n",
       "        cursor = 'default';\n",
       "        break;\n",
       "    case 2:\n",
       "        cursor = 'crosshair';\n",
       "        break;\n",
       "    case 3:\n",
       "        cursor = 'move';\n",
       "        break;\n",
       "    }\n",
       "    fig.rubberband_canvas.style.cursor = cursor;\n",
       "}\n",
       "\n",
       "mpl.figure.prototype.handle_message = function(fig, msg) {\n",
       "    fig.message.textContent = msg['message'];\n",
       "}\n",
       "\n",
       "mpl.figure.prototype.handle_draw = function(fig, msg) {\n",
       "    // Request the server to send over a new figure.\n",
       "    fig.send_draw_message();\n",
       "}\n",
       "\n",
       "mpl.figure.prototype.handle_image_mode = function(fig, msg) {\n",
       "    fig.image_mode = msg['mode'];\n",
       "}\n",
       "\n",
       "mpl.figure.prototype.updated_canvas_event = function() {\n",
       "    // Called whenever the canvas gets updated.\n",
       "    this.send_message(\"ack\", {});\n",
       "}\n",
       "\n",
       "// A function to construct a web socket function for onmessage handling.\n",
       "// Called in the figure constructor.\n",
       "mpl.figure.prototype._make_on_message_function = function(fig) {\n",
       "    return function socket_on_message(evt) {\n",
       "        if (evt.data instanceof Blob) {\n",
       "            /* FIXME: We get \"Resource interpreted as Image but\n",
       "             * transferred with MIME type text/plain:\" errors on\n",
       "             * Chrome.  But how to set the MIME type?  It doesn't seem\n",
       "             * to be part of the websocket stream */\n",
       "            evt.data.type = \"image/png\";\n",
       "\n",
       "            /* Free the memory for the previous frames */\n",
       "            if (fig.imageObj.src) {\n",
       "                (window.URL || window.webkitURL).revokeObjectURL(\n",
       "                    fig.imageObj.src);\n",
       "            }\n",
       "\n",
       "            fig.imageObj.src = (window.URL || window.webkitURL).createObjectURL(\n",
       "                evt.data);\n",
       "            fig.updated_canvas_event();\n",
       "            fig.waiting = false;\n",
       "            return;\n",
       "        }\n",
       "        else if (typeof evt.data === 'string' && evt.data.slice(0, 21) == \"data:image/png;base64\") {\n",
       "            fig.imageObj.src = evt.data;\n",
       "            fig.updated_canvas_event();\n",
       "            fig.waiting = false;\n",
       "            return;\n",
       "        }\n",
       "\n",
       "        var msg = JSON.parse(evt.data);\n",
       "        var msg_type = msg['type'];\n",
       "\n",
       "        // Call the  \"handle_{type}\" callback, which takes\n",
       "        // the figure and JSON message as its only arguments.\n",
       "        try {\n",
       "            var callback = fig[\"handle_\" + msg_type];\n",
       "        } catch (e) {\n",
       "            console.log(\"No handler for the '\" + msg_type + \"' message type: \", msg);\n",
       "            return;\n",
       "        }\n",
       "\n",
       "        if (callback) {\n",
       "            try {\n",
       "                // console.log(\"Handling '\" + msg_type + \"' message: \", msg);\n",
       "                callback(fig, msg);\n",
       "            } catch (e) {\n",
       "                console.log(\"Exception inside the 'handler_\" + msg_type + \"' callback:\", e, e.stack, msg);\n",
       "            }\n",
       "        }\n",
       "    };\n",
       "}\n",
       "\n",
       "// from http://stackoverflow.com/questions/1114465/getting-mouse-location-in-canvas\n",
       "mpl.findpos = function(e) {\n",
       "    //this section is from http://www.quirksmode.org/js/events_properties.html\n",
       "    var targ;\n",
       "    if (!e)\n",
       "        e = window.event;\n",
       "    if (e.target)\n",
       "        targ = e.target;\n",
       "    else if (e.srcElement)\n",
       "        targ = e.srcElement;\n",
       "    if (targ.nodeType == 3) // defeat Safari bug\n",
       "        targ = targ.parentNode;\n",
       "\n",
       "    // jQuery normalizes the pageX and pageY\n",
       "    // pageX,Y are the mouse positions relative to the document\n",
       "    // offset() returns the position of the element relative to the document\n",
       "    var x = e.pageX - $(targ).offset().left;\n",
       "    var y = e.pageY - $(targ).offset().top;\n",
       "\n",
       "    return {\"x\": x, \"y\": y};\n",
       "};\n",
       "\n",
       "/*\n",
       " * return a copy of an object with only non-object keys\n",
       " * we need this to avoid circular references\n",
       " * http://stackoverflow.com/a/24161582/3208463\n",
       " */\n",
       "function simpleKeys (original) {\n",
       "  return Object.keys(original).reduce(function (obj, key) {\n",
       "    if (typeof original[key] !== 'object')\n",
       "        obj[key] = original[key]\n",
       "    return obj;\n",
       "  }, {});\n",
       "}\n",
       "\n",
       "mpl.figure.prototype.mouse_event = function(event, name) {\n",
       "    var canvas_pos = mpl.findpos(event)\n",
       "\n",
       "    if (name === 'button_press')\n",
       "    {\n",
       "        this.canvas.focus();\n",
       "        this.canvas_div.focus();\n",
       "    }\n",
       "\n",
       "    var x = canvas_pos.x * mpl.ratio;\n",
       "    var y = canvas_pos.y * mpl.ratio;\n",
       "\n",
       "    this.send_message(name, {x: x, y: y, button: event.button,\n",
       "                             step: event.step,\n",
       "                             guiEvent: simpleKeys(event)});\n",
       "\n",
       "    /* This prevents the web browser from automatically changing to\n",
       "     * the text insertion cursor when the button is pressed.  We want\n",
       "     * to control all of the cursor setting manually through the\n",
       "     * 'cursor' event from matplotlib */\n",
       "    event.preventDefault();\n",
       "    return false;\n",
       "}\n",
       "\n",
       "mpl.figure.prototype._key_event_extra = function(event, name) {\n",
       "    // Handle any extra behaviour associated with a key event\n",
       "}\n",
       "\n",
       "mpl.figure.prototype.key_event = function(event, name) {\n",
       "\n",
       "    // Prevent repeat events\n",
       "    if (name == 'key_press')\n",
       "    {\n",
       "        if (event.which === this._key)\n",
       "            return;\n",
       "        else\n",
       "            this._key = event.which;\n",
       "    }\n",
       "    if (name == 'key_release')\n",
       "        this._key = null;\n",
       "\n",
       "    var value = '';\n",
       "    if (event.ctrlKey && event.which != 17)\n",
       "        value += \"ctrl+\";\n",
       "    if (event.altKey && event.which != 18)\n",
       "        value += \"alt+\";\n",
       "    if (event.shiftKey && event.which != 16)\n",
       "        value += \"shift+\";\n",
       "\n",
       "    value += 'k';\n",
       "    value += event.which.toString();\n",
       "\n",
       "    this._key_event_extra(event, name);\n",
       "\n",
       "    this.send_message(name, {key: value,\n",
       "                             guiEvent: simpleKeys(event)});\n",
       "    return false;\n",
       "}\n",
       "\n",
       "mpl.figure.prototype.toolbar_button_onclick = function(name) {\n",
       "    if (name == 'download') {\n",
       "        this.handle_save(this, null);\n",
       "    } else {\n",
       "        this.send_message(\"toolbar_button\", {name: name});\n",
       "    }\n",
       "};\n",
       "\n",
       "mpl.figure.prototype.toolbar_button_onmouseover = function(tooltip) {\n",
       "    this.message.textContent = tooltip;\n",
       "};\n",
       "mpl.toolbar_items = [[\"Home\", \"Reset original view\", \"fa fa-home icon-home\", \"home\"], [\"Back\", \"Back to previous view\", \"fa fa-arrow-left icon-arrow-left\", \"back\"], [\"Forward\", \"Forward to next view\", \"fa fa-arrow-right icon-arrow-right\", \"forward\"], [\"\", \"\", \"\", \"\"], [\"Pan\", \"Pan axes with left mouse, zoom with right\", \"fa fa-arrows icon-move\", \"pan\"], [\"Zoom\", \"Zoom to rectangle\", \"fa fa-square-o icon-check-empty\", \"zoom\"], [\"\", \"\", \"\", \"\"], [\"Download\", \"Download plot\", \"fa fa-floppy-o icon-save\", \"download\"]];\n",
       "\n",
       "mpl.extensions = [\"eps\", \"jpeg\", \"pdf\", \"png\", \"ps\", \"raw\", \"svg\", \"tif\"];\n",
       "\n",
       "mpl.default_extension = \"png\";var comm_websocket_adapter = function(comm) {\n",
       "    // Create a \"websocket\"-like object which calls the given IPython comm\n",
       "    // object with the appropriate methods. Currently this is a non binary\n",
       "    // socket, so there is still some room for performance tuning.\n",
       "    var ws = {};\n",
       "\n",
       "    ws.close = function() {\n",
       "        comm.close()\n",
       "    };\n",
       "    ws.send = function(m) {\n",
       "        //console.log('sending', m);\n",
       "        comm.send(m);\n",
       "    };\n",
       "    // Register the callback with on_msg.\n",
       "    comm.on_msg(function(msg) {\n",
       "        //console.log('receiving', msg['content']['data'], msg);\n",
       "        // Pass the mpl event to the overridden (by mpl) onmessage function.\n",
       "        ws.onmessage(msg['content']['data'])\n",
       "    });\n",
       "    return ws;\n",
       "}\n",
       "\n",
       "mpl.mpl_figure_comm = function(comm, msg) {\n",
       "    // This is the function which gets called when the mpl process\n",
       "    // starts-up an IPython Comm through the \"matplotlib\" channel.\n",
       "\n",
       "    var id = msg.content.data.id;\n",
       "    // Get hold of the div created by the display call when the Comm\n",
       "    // socket was opened in Python.\n",
       "    var element = $(\"#\" + id);\n",
       "    var ws_proxy = comm_websocket_adapter(comm)\n",
       "\n",
       "    function ondownload(figure, format) {\n",
       "        window.open(figure.imageObj.src);\n",
       "    }\n",
       "\n",
       "    var fig = new mpl.figure(id, ws_proxy,\n",
       "                           ondownload,\n",
       "                           element.get(0));\n",
       "\n",
       "    // Call onopen now - mpl needs it, as it is assuming we've passed it a real\n",
       "    // web socket which is closed, not our websocket->open comm proxy.\n",
       "    ws_proxy.onopen();\n",
       "\n",
       "    fig.parent_element = element.get(0);\n",
       "    fig.cell_info = mpl.find_output_cell(\"<div id='\" + id + \"'></div>\");\n",
       "    if (!fig.cell_info) {\n",
       "        console.error(\"Failed to find cell for figure\", id, fig);\n",
       "        return;\n",
       "    }\n",
       "\n",
       "    var output_index = fig.cell_info[2]\n",
       "    var cell = fig.cell_info[0];\n",
       "\n",
       "};\n",
       "\n",
       "mpl.figure.prototype.handle_close = function(fig, msg) {\n",
       "    var width = fig.canvas.width/mpl.ratio\n",
       "    fig.root.unbind('remove')\n",
       "\n",
       "    // Update the output cell to use the data from the current canvas.\n",
       "    fig.push_to_output();\n",
       "    var dataURL = fig.canvas.toDataURL();\n",
       "    // Re-enable the keyboard manager in IPython - without this line, in FF,\n",
       "    // the notebook keyboard shortcuts fail.\n",
       "    IPython.keyboard_manager.enable()\n",
       "    $(fig.parent_element).html('<img src=\"' + dataURL + '\" width=\"' + width + '\">');\n",
       "    fig.close_ws(fig, msg);\n",
       "}\n",
       "\n",
       "mpl.figure.prototype.close_ws = function(fig, msg){\n",
       "    fig.send_message('closing', msg);\n",
       "    // fig.ws.close()\n",
       "}\n",
       "\n",
       "mpl.figure.prototype.push_to_output = function(remove_interactive) {\n",
       "    // Turn the data on the canvas into data in the output cell.\n",
       "    var width = this.canvas.width/mpl.ratio\n",
       "    var dataURL = this.canvas.toDataURL();\n",
       "    this.cell_info[1]['text/html'] = '<img src=\"' + dataURL + '\" width=\"' + width + '\">';\n",
       "}\n",
       "\n",
       "mpl.figure.prototype.updated_canvas_event = function() {\n",
       "    // Tell IPython that the notebook contents must change.\n",
       "    IPython.notebook.set_dirty(true);\n",
       "    this.send_message(\"ack\", {});\n",
       "    var fig = this;\n",
       "    // Wait a second, then push the new image to the DOM so\n",
       "    // that it is saved nicely (might be nice to debounce this).\n",
       "    setTimeout(function () { fig.push_to_output() }, 1000);\n",
       "}\n",
       "\n",
       "mpl.figure.prototype._init_toolbar = function() {\n",
       "    var fig = this;\n",
       "\n",
       "    var nav_element = $('<div/>');\n",
       "    nav_element.attr('style', 'width: 100%');\n",
       "    this.root.append(nav_element);\n",
       "\n",
       "    // Define a callback function for later on.\n",
       "    function toolbar_event(event) {\n",
       "        return fig.toolbar_button_onclick(event['data']);\n",
       "    }\n",
       "    function toolbar_mouse_event(event) {\n",
       "        return fig.toolbar_button_onmouseover(event['data']);\n",
       "    }\n",
       "\n",
       "    for(var toolbar_ind in mpl.toolbar_items){\n",
       "        var name = mpl.toolbar_items[toolbar_ind][0];\n",
       "        var tooltip = mpl.toolbar_items[toolbar_ind][1];\n",
       "        var image = mpl.toolbar_items[toolbar_ind][2];\n",
       "        var method_name = mpl.toolbar_items[toolbar_ind][3];\n",
       "\n",
       "        if (!name) { continue; };\n",
       "\n",
       "        var button = $('<button class=\"btn btn-default\" href=\"#\" title=\"' + name + '\"><i class=\"fa ' + image + ' fa-lg\"></i></button>');\n",
       "        button.click(method_name, toolbar_event);\n",
       "        button.mouseover(tooltip, toolbar_mouse_event);\n",
       "        nav_element.append(button);\n",
       "    }\n",
       "\n",
       "    // Add the status bar.\n",
       "    var status_bar = $('<span class=\"mpl-message\" style=\"text-align:right; float: right;\"/>');\n",
       "    nav_element.append(status_bar);\n",
       "    this.message = status_bar[0];\n",
       "\n",
       "    // Add the close button to the window.\n",
       "    var buttongrp = $('<div class=\"btn-group inline pull-right\"></div>');\n",
       "    var button = $('<button class=\"btn btn-mini btn-primary\" href=\"#\" title=\"Stop Interaction\"><i class=\"fa fa-power-off icon-remove icon-large\"></i></button>');\n",
       "    button.click(function (evt) { fig.handle_close(fig, {}); } );\n",
       "    button.mouseover('Stop Interaction', toolbar_mouse_event);\n",
       "    buttongrp.append(button);\n",
       "    var titlebar = this.root.find($('.ui-dialog-titlebar'));\n",
       "    titlebar.prepend(buttongrp);\n",
       "}\n",
       "\n",
       "mpl.figure.prototype._root_extra_style = function(el){\n",
       "    var fig = this\n",
       "    el.on(\"remove\", function(){\n",
       "\tfig.close_ws(fig, {});\n",
       "    });\n",
       "}\n",
       "\n",
       "mpl.figure.prototype._canvas_extra_style = function(el){\n",
       "    // this is important to make the div 'focusable\n",
       "    el.attr('tabindex', 0)\n",
       "    // reach out to IPython and tell the keyboard manager to turn it's self\n",
       "    // off when our div gets focus\n",
       "\n",
       "    // location in version 3\n",
       "    if (IPython.notebook.keyboard_manager) {\n",
       "        IPython.notebook.keyboard_manager.register_events(el);\n",
       "    }\n",
       "    else {\n",
       "        // location in version 2\n",
       "        IPython.keyboard_manager.register_events(el);\n",
       "    }\n",
       "\n",
       "}\n",
       "\n",
       "mpl.figure.prototype._key_event_extra = function(event, name) {\n",
       "    var manager = IPython.notebook.keyboard_manager;\n",
       "    if (!manager)\n",
       "        manager = IPython.keyboard_manager;\n",
       "\n",
       "    // Check for shift+enter\n",
       "    if (event.shiftKey && event.which == 13) {\n",
       "        this.canvas_div.blur();\n",
       "        // select the cell after this one\n",
       "        var index = IPython.notebook.find_cell_index(this.cell_info[0]);\n",
       "        IPython.notebook.select(index + 1);\n",
       "    }\n",
       "}\n",
       "\n",
       "mpl.figure.prototype.handle_save = function(fig, msg) {\n",
       "    fig.ondownload(fig, null);\n",
       "}\n",
       "\n",
       "\n",
       "mpl.find_output_cell = function(html_output) {\n",
       "    // Return the cell and output element which can be found *uniquely* in the notebook.\n",
       "    // Note - this is a bit hacky, but it is done because the \"notebook_saving.Notebook\"\n",
       "    // IPython event is triggered only after the cells have been serialised, which for\n",
       "    // our purposes (turning an active figure into a static one), is too late.\n",
       "    var cells = IPython.notebook.get_cells();\n",
       "    var ncells = cells.length;\n",
       "    for (var i=0; i<ncells; i++) {\n",
       "        var cell = cells[i];\n",
       "        if (cell.cell_type === 'code'){\n",
       "            for (var j=0; j<cell.output_area.outputs.length; j++) {\n",
       "                var data = cell.output_area.outputs[j];\n",
       "                if (data.data) {\n",
       "                    // IPython >= 3 moved mimebundle to data attribute of output\n",
       "                    data = data.data;\n",
       "                }\n",
       "                if (data['text/html'] == html_output) {\n",
       "                    return [cell, data, j];\n",
       "                }\n",
       "            }\n",
       "        }\n",
       "    }\n",
       "}\n",
       "\n",
       "// Register the function which deals with the matplotlib target/channel.\n",
       "// The kernel may be null if the page has been refreshed.\n",
       "if (IPython.notebook.kernel != null) {\n",
       "    IPython.notebook.kernel.comm_manager.register_target('matplotlib', mpl.mpl_figure_comm);\n",
       "}\n"
      ],
      "text/plain": [
       "<IPython.core.display.Javascript object>"
      ]
     },
     "metadata": {},
     "output_type": "display_data"
    },
    {
     "data": {
      "text/html": [
       "<img src=\"data:image/png;base64,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\" width=\"1000\">"
      ],
      "text/plain": [
       "<IPython.core.display.HTML object>"
      ]
     },
     "metadata": {},
     "output_type": "display_data"
    }
   ],
   "source": [
    "ax, tax, lax, lines = dual_train_plots()\n",
    "fig = ax.figure\n",
    "plt.tight_layout()"
   ]
  },
  {
   "cell_type": "code",
   "execution_count": 15,
   "metadata": {
    "scrolled": false
   },
   "outputs": [
    {
     "name": "stdout",
     "output_type": "stream",
     "text": [
      "Number of batches: train = 1250, val = 313\n"
     ]
    },
    {
     "data": {
      "application/vnd.jupyter.widget-view+json": {
       "model_id": "3ec0f46c1968427d87dbae8863968861",
       "version_major": 2,
       "version_minor": 0
      },
      "text/plain": [
       "HBox(children=(FloatProgress(value=0.0, description='Epochs', layout=Layout(flex='2'), style=ProgressStyle(des…"
      ]
     },
     "metadata": {},
     "output_type": "display_data"
    },
    {
     "data": {
      "application/vnd.jupyter.widget-view+json": {
       "model_id": "",
       "version_major": 2,
       "version_minor": 0
      },
      "text/plain": [
       "HBox(children=(FloatProgress(value=0.0, description='Training', layout=Layout(flex='2'), max=1250.0, style=Pro…"
      ]
     },
     "metadata": {},
     "output_type": "display_data"
    },
    {
     "name": "stdout",
     "output_type": "stream",
     "text": [
      "Epoch 0: train=10.9543, val=10.5474, took 90.753 s\n",
      "  Validation Found 76828 of 108024, added 6776 (eff 71.12%) (0.339 FP/event)\n"
     ]
    },
    {
     "data": {
      "application/vnd.jupyter.widget-view+json": {
       "model_id": "",
       "version_major": 2,
       "version_minor": 0
      },
      "text/plain": [
       "HBox(children=(FloatProgress(value=0.0, description='Training', layout=Layout(flex='2'), max=1250.0, style=Pro…"
      ]
     },
     "metadata": {},
     "output_type": "display_data"
    },
    {
     "name": "stdout",
     "output_type": "stream",
     "text": [
      "Epoch 1: train=10.9102, val=10.5532, took 95.123 s\n",
      "  Validation Found 78912 of 108024, added 7677 (eff 73.05%) (0.384 FP/event)\n"
     ]
    },
    {
     "data": {
      "application/vnd.jupyter.widget-view+json": {
       "model_id": "",
       "version_major": 2,
       "version_minor": 0
      },
      "text/plain": [
       "HBox(children=(FloatProgress(value=0.0, description='Training', layout=Layout(flex='2'), max=1250.0, style=Pro…"
      ]
     },
     "metadata": {},
     "output_type": "display_data"
    },
    {
     "name": "stdout",
     "output_type": "stream",
     "text": [
      "Epoch 2: train=10.8322, val=10.5617, took 90.958 s\n",
      "  Validation Found 79153 of 108024, added 7765 (eff 73.27%) (0.388 FP/event)\n"
     ]
    },
    {
     "data": {
      "application/vnd.jupyter.widget-view+json": {
       "model_id": "",
       "version_major": 2,
       "version_minor": 0
      },
      "text/plain": [
       "HBox(children=(FloatProgress(value=0.0, description='Training', layout=Layout(flex='2'), max=1250.0, style=Pro…"
      ]
     },
     "metadata": {},
     "output_type": "display_data"
    },
    {
     "name": "stdout",
     "output_type": "stream",
     "text": [
      "Epoch 3: train=10.801, val=10.4949, took 90.605 s\n",
      "  Validation Found 67705 of 108024, added 4324 (eff 62.68%) (0.216 FP/event)\n"
     ]
    },
    {
     "data": {
      "application/vnd.jupyter.widget-view+json": {
       "model_id": "",
       "version_major": 2,
       "version_minor": 0
      },
      "text/plain": [
       "HBox(children=(FloatProgress(value=0.0, description='Training', layout=Layout(flex='2'), max=1250.0, style=Pro…"
      ]
     },
     "metadata": {},
     "output_type": "display_data"
    },
    {
     "name": "stdout",
     "output_type": "stream",
     "text": [
      "Epoch 4: train=10.724, val=10.3529, took 90.638 s\n",
      "  Validation Found 73895 of 108024, added 5967 (eff 68.41%) (0.298 FP/event)\n"
     ]
    },
    {
     "data": {
      "application/vnd.jupyter.widget-view+json": {
       "model_id": "",
       "version_major": 2,
       "version_minor": 0
      },
      "text/plain": [
       "HBox(children=(FloatProgress(value=0.0, description='Training', layout=Layout(flex='2'), max=1250.0, style=Pro…"
      ]
     },
     "metadata": {},
     "output_type": "display_data"
    },
    {
     "name": "stdout",
     "output_type": "stream",
     "text": [
      "Epoch 5: train=10.6963, val=10.5884, took 90.464 s\n",
      "  Validation Found 81379 of 108024, added 8559 (eff 75.33%) (0.428 FP/event)\n"
     ]
    },
    {
     "data": {
      "application/vnd.jupyter.widget-view+json": {
       "model_id": "",
       "version_major": 2,
       "version_minor": 0
      },
      "text/plain": [
       "HBox(children=(FloatProgress(value=0.0, description='Training', layout=Layout(flex='2'), max=1250.0, style=Pro…"
      ]
     },
     "metadata": {},
     "output_type": "display_data"
    },
    {
     "name": "stdout",
     "output_type": "stream",
     "text": [
      "Epoch 6: train=10.665, val=10.3906, took 90.386 s\n",
      "  Validation Found 77821 of 108024, added 7055 (eff 72.04%) (0.353 FP/event)\n"
     ]
    },
    {
     "data": {
      "application/vnd.jupyter.widget-view+json": {
       "model_id": "",
       "version_major": 2,
       "version_minor": 0
      },
      "text/plain": [
       "HBox(children=(FloatProgress(value=0.0, description='Training', layout=Layout(flex='2'), max=1250.0, style=Pro…"
      ]
     },
     "metadata": {},
     "output_type": "display_data"
    },
    {
     "name": "stdout",
     "output_type": "stream",
     "text": [
      "Epoch 7: train=10.6231, val=10.3291, took 90.908 s\n",
      "  Validation Found 76781 of 108024, added 6539 (eff 71.08%) (0.327 FP/event)\n"
     ]
    },
    {
     "data": {
      "application/vnd.jupyter.widget-view+json": {
       "model_id": "",
       "version_major": 2,
       "version_minor": 0
      },
      "text/plain": [
       "HBox(children=(FloatProgress(value=0.0, description='Training', layout=Layout(flex='2'), max=1250.0, style=Pro…"
      ]
     },
     "metadata": {},
     "output_type": "display_data"
    },
    {
     "name": "stdout",
     "output_type": "stream",
     "text": [
      "Epoch 8: train=10.5916, val=10.3932, took 90.629 s\n",
      "  Validation Found 72490 of 108024, added 5287 (eff 67.11%) (0.264 FP/event)\n"
     ]
    },
    {
     "data": {
      "application/vnd.jupyter.widget-view+json": {
       "model_id": "",
       "version_major": 2,
       "version_minor": 0
      },
      "text/plain": [
       "HBox(children=(FloatProgress(value=0.0, description='Training', layout=Layout(flex='2'), max=1250.0, style=Pro…"
      ]
     },
     "metadata": {},
     "output_type": "display_data"
    },
    {
     "name": "stdout",
     "output_type": "stream",
     "text": [
      "Epoch 9: train=10.5579, val=10.2906, took 90.966 s\n",
      "  Validation Found 76643 of 108024, added 7050 (eff 70.95%) (0.352 FP/event)\n"
     ]
    },
    {
     "data": {
      "application/vnd.jupyter.widget-view+json": {
       "model_id": "",
       "version_major": 2,
       "version_minor": 0
      },
      "text/plain": [
       "HBox(children=(FloatProgress(value=0.0, description='Training', layout=Layout(flex='2'), max=1250.0, style=Pro…"
      ]
     },
     "metadata": {},
     "output_type": "display_data"
    },
    {
     "name": "stdout",
     "output_type": "stream",
     "text": [
      "Epoch 10: train=10.5271, val=10.2746, took 90.688 s\n",
      "  Validation Found 72177 of 108024, added 5645 (eff 66.82%) (0.282 FP/event)\n"
     ]
    },
    {
     "data": {
      "application/vnd.jupyter.widget-view+json": {
       "model_id": "",
       "version_major": 2,
       "version_minor": 0
      },
      "text/plain": [
       "HBox(children=(FloatProgress(value=0.0, description='Training', layout=Layout(flex='2'), max=1250.0, style=Pro…"
      ]
     },
     "metadata": {},
     "output_type": "display_data"
    },
    {
     "name": "stdout",
     "output_type": "stream",
     "text": [
      "Epoch 11: train=10.4934, val=10.3158, took 90.607 s\n",
      "  Validation Found 72852 of 108024, added 5456 (eff 67.44%) (0.273 FP/event)\n"
     ]
    },
    {
     "data": {
      "application/vnd.jupyter.widget-view+json": {
       "model_id": "",
       "version_major": 2,
       "version_minor": 0
      },
      "text/plain": [
       "HBox(children=(FloatProgress(value=0.0, description='Training', layout=Layout(flex='2'), max=1250.0, style=Pro…"
      ]
     },
     "metadata": {},
     "output_type": "display_data"
    },
    {
     "name": "stdout",
     "output_type": "stream",
     "text": [
      "Epoch 12: train=10.4643, val=10.2625, took 90.899 s\n",
      "  Validation Found 74242 of 108024, added 6021 (eff 68.73%) (0.301 FP/event)\n"
     ]
    },
    {
     "data": {
      "application/vnd.jupyter.widget-view+json": {
       "model_id": "",
       "version_major": 2,
       "version_minor": 0
      },
      "text/plain": [
       "HBox(children=(FloatProgress(value=0.0, description='Training', layout=Layout(flex='2'), max=1250.0, style=Pro…"
      ]
     },
     "metadata": {},
     "output_type": "display_data"
    },
    {
     "name": "stdout",
     "output_type": "stream",
     "text": [
      "Epoch 13: train=10.4312, val=10.2643, took 90.645 s\n",
      "  Validation Found 71288 of 108024, added 5175 (eff 65.99%) (0.259 FP/event)\n"
     ]
    },
    {
     "data": {
      "application/vnd.jupyter.widget-view+json": {
       "model_id": "",
       "version_major": 2,
       "version_minor": 0
      },
      "text/plain": [
       "HBox(children=(FloatProgress(value=0.0, description='Training', layout=Layout(flex='2'), max=1250.0, style=Pro…"
      ]
     },
     "metadata": {},
     "output_type": "display_data"
    },
    {
     "name": "stdout",
     "output_type": "stream",
     "text": [
      "Epoch 14: train=10.3961, val=10.2588, took 90.549 s\n",
      "  Validation Found 70913 of 108024, added 5109 (eff 65.65%) (0.255 FP/event)\n"
     ]
    },
    {
     "data": {
      "application/vnd.jupyter.widget-view+json": {
       "model_id": "",
       "version_major": 2,
       "version_minor": 0
      },
      "text/plain": [
       "HBox(children=(FloatProgress(value=0.0, description='Training', layout=Layout(flex='2'), max=1250.0, style=Pro…"
      ]
     },
     "metadata": {},
     "output_type": "display_data"
    },
    {
     "name": "stdout",
     "output_type": "stream",
     "text": [
      "Epoch 15: train=10.3803, val=10.2418, took 90.489 s\n",
      "  Validation Found 71662 of 108024, added 5098 (eff 66.34%) (0.255 FP/event)\n"
     ]
    },
    {
     "data": {
      "application/vnd.jupyter.widget-view+json": {
       "model_id": "",
       "version_major": 2,
       "version_minor": 0
      },
      "text/plain": [
       "HBox(children=(FloatProgress(value=0.0, description='Training', layout=Layout(flex='2'), max=1250.0, style=Pro…"
      ]
     },
     "metadata": {},
     "output_type": "display_data"
    },
    {
     "name": "stdout",
     "output_type": "stream",
     "text": [
      "Epoch 16: train=10.3478, val=10.2173, took 90.662 s\n",
      "  Validation Found 77551 of 108024, added 6378 (eff 71.79%) (0.319 FP/event)\n"
     ]
    },
    {
     "data": {
      "application/vnd.jupyter.widget-view+json": {
       "model_id": "",
       "version_major": 2,
       "version_minor": 0
      },
      "text/plain": [
       "HBox(children=(FloatProgress(value=0.0, description='Training', layout=Layout(flex='2'), max=1250.0, style=Pro…"
      ]
     },
     "metadata": {},
     "output_type": "display_data"
    },
    {
     "name": "stdout",
     "output_type": "stream",
     "text": [
      "Epoch 17: train=10.3277, val=10.2531, took 90.688 s\n",
      "  Validation Found 73670 of 108024, added 5434 (eff 68.20%) (0.272 FP/event)\n"
     ]
    },
    {
     "data": {
      "application/vnd.jupyter.widget-view+json": {
       "model_id": "",
       "version_major": 2,
       "version_minor": 0
      },
      "text/plain": [
       "HBox(children=(FloatProgress(value=0.0, description='Training', layout=Layout(flex='2'), max=1250.0, style=Pro…"
      ]
     },
     "metadata": {},
     "output_type": "display_data"
    },
    {
     "name": "stdout",
     "output_type": "stream",
     "text": [
      "Epoch 18: train=10.3057, val=10.2741, took 90.643 s\n",
      "  Validation Found 70967 of 108024, added 5004 (eff 65.70%) (0.25 FP/event)\n"
     ]
    },
    {
     "data": {
      "application/vnd.jupyter.widget-view+json": {
       "model_id": "",
       "version_major": 2,
       "version_minor": 0
      },
      "text/plain": [
       "HBox(children=(FloatProgress(value=0.0, description='Training', layout=Layout(flex='2'), max=1250.0, style=Pro…"
      ]
     },
     "metadata": {},
     "output_type": "display_data"
    },
    {
     "name": "stdout",
     "output_type": "stream",
     "text": [
      "Epoch 19: train=10.2927, val=10.1772, took 90.673 s\n",
      "  Validation Found 73338 of 108024, added 5476 (eff 67.89%) (0.274 FP/event)\n"
     ]
    },
    {
     "data": {
      "application/vnd.jupyter.widget-view+json": {
       "model_id": "",
       "version_major": 2,
       "version_minor": 0
      },
      "text/plain": [
       "HBox(children=(FloatProgress(value=0.0, description='Training', layout=Layout(flex='2'), max=1250.0, style=Pro…"
      ]
     },
     "metadata": {},
     "output_type": "display_data"
    },
    {
     "name": "stdout",
     "output_type": "stream",
     "text": [
      "Epoch 20: train=10.2727, val=10.2536, took 90.681 s\n",
      "  Validation Found 69648 of 108024, added 4842 (eff 64.47%) (0.242 FP/event)\n"
     ]
    },
    {
     "data": {
      "application/vnd.jupyter.widget-view+json": {
       "model_id": "",
       "version_major": 2,
       "version_minor": 0
      },
      "text/plain": [
       "HBox(children=(FloatProgress(value=0.0, description='Training', layout=Layout(flex='2'), max=1250.0, style=Pro…"
      ]
     },
     "metadata": {},
     "output_type": "display_data"
    },
    {
     "name": "stdout",
     "output_type": "stream",
     "text": [
      "Epoch 21: train=10.2359, val=10.1751, took 90.689 s\n",
      "  Validation Found 72470 of 108024, added 5702 (eff 67.09%) (0.285 FP/event)\n"
     ]
    },
    {
     "data": {
      "application/vnd.jupyter.widget-view+json": {
       "model_id": "",
       "version_major": 2,
       "version_minor": 0
      },
      "text/plain": [
       "HBox(children=(FloatProgress(value=0.0, description='Training', layout=Layout(flex='2'), max=1250.0, style=Pro…"
      ]
     },
     "metadata": {},
     "output_type": "display_data"
    },
    {
     "name": "stdout",
     "output_type": "stream",
     "text": [
      "Epoch 22: train=10.2185, val=10.1994, took 90.65 s\n",
      "  Validation Found 70097 of 108024, added 5057 (eff 64.89%) (0.253 FP/event)\n"
     ]
    },
    {
     "data": {
      "application/vnd.jupyter.widget-view+json": {
       "model_id": "",
       "version_major": 2,
       "version_minor": 0
      },
      "text/plain": [
       "HBox(children=(FloatProgress(value=0.0, description='Training', layout=Layout(flex='2'), max=1250.0, style=Pro…"
      ]
     },
     "metadata": {},
     "output_type": "display_data"
    },
    {
     "name": "stdout",
     "output_type": "stream",
     "text": [
      "Epoch 23: train=10.1867, val=10.0723, took 90.715 s\n",
      "  Validation Found 75449 of 108024, added 6035 (eff 69.84%) (0.302 FP/event)\n"
     ]
    },
    {
     "data": {
      "application/vnd.jupyter.widget-view+json": {
       "model_id": "",
       "version_major": 2,
       "version_minor": 0
      },
      "text/plain": [
       "HBox(children=(FloatProgress(value=0.0, description='Training', layout=Layout(flex='2'), max=1250.0, style=Pro…"
      ]
     },
     "metadata": {},
     "output_type": "display_data"
    },
    {
     "name": "stdout",
     "output_type": "stream",
     "text": [
      "Epoch 24: train=10.1732, val=10.0838, took 90.599 s\n",
      "  Validation Found 74210 of 108024, added 6150 (eff 68.70%) (0.307 FP/event)\n"
     ]
    },
    {
     "data": {
      "application/vnd.jupyter.widget-view+json": {
       "model_id": "",
       "version_major": 2,
       "version_minor": 0
      },
      "text/plain": [
       "HBox(children=(FloatProgress(value=0.0, description='Training', layout=Layout(flex='2'), max=1250.0, style=Pro…"
      ]
     },
     "metadata": {},
     "output_type": "display_data"
    },
    {
     "name": "stdout",
     "output_type": "stream",
     "text": [
      "Epoch 25: train=10.1442, val=10.1292, took 90.48 s\n",
      "  Validation Found 73201 of 108024, added 5590 (eff 67.76%) (0.279 FP/event)\n"
     ]
    },
    {
     "data": {
      "application/vnd.jupyter.widget-view+json": {
       "model_id": "",
       "version_major": 2,
       "version_minor": 0
      },
      "text/plain": [
       "HBox(children=(FloatProgress(value=0.0, description='Training', layout=Layout(flex='2'), max=1250.0, style=Pro…"
      ]
     },
     "metadata": {},
     "output_type": "display_data"
    },
    {
     "name": "stdout",
     "output_type": "stream",
     "text": [
      "Epoch 26: train=10.1181, val=10.1241, took 90.672 s\n",
      "  Validation Found 79537 of 108024, added 7159 (eff 73.63%) (0.358 FP/event)\n"
     ]
    },
    {
     "data": {
      "application/vnd.jupyter.widget-view+json": {
       "model_id": "",
       "version_major": 2,
       "version_minor": 0
      },
      "text/plain": [
       "HBox(children=(FloatProgress(value=0.0, description='Training', layout=Layout(flex='2'), max=1250.0, style=Pro…"
      ]
     },
     "metadata": {},
     "output_type": "display_data"
    },
    {
     "name": "stdout",
     "output_type": "stream",
     "text": [
      "Epoch 27: train=10.1144, val=10.234, took 90.655 s\n",
      "  Validation Found 72041 of 108024, added 4712 (eff 66.69%) (0.236 FP/event)\n"
     ]
    },
    {
     "data": {
      "application/vnd.jupyter.widget-view+json": {
       "model_id": "",
       "version_major": 2,
       "version_minor": 0
      },
      "text/plain": [
       "HBox(children=(FloatProgress(value=0.0, description='Training', layout=Layout(flex='2'), max=1250.0, style=Pro…"
      ]
     },
     "metadata": {},
     "output_type": "display_data"
    },
    {
     "name": "stdout",
     "output_type": "stream",
     "text": [
      "Epoch 28: train=10.0935, val=10.1421, took 90.587 s\n",
      "  Validation Found 71618 of 108024, added 5387 (eff 66.30%) (0.269 FP/event)\n"
     ]
    },
    {
     "data": {
      "application/vnd.jupyter.widget-view+json": {
       "model_id": "",
       "version_major": 2,
       "version_minor": 0
      },
      "text/plain": [
       "HBox(children=(FloatProgress(value=0.0, description='Training', layout=Layout(flex='2'), max=1250.0, style=Pro…"
      ]
     },
     "metadata": {},
     "output_type": "display_data"
    },
    {
     "name": "stdout",
     "output_type": "stream",
     "text": [
      "Epoch 29: train=10.0811, val=10.304, took 90.558 s\n",
      "  Validation Found 67977 of 108024, added 4037 (eff 62.93%) (0.202 FP/event)\n"
     ]
    },
    {
     "data": {
      "application/vnd.jupyter.widget-view+json": {
       "model_id": "",
       "version_major": 2,
       "version_minor": 0
      },
      "text/plain": [
       "HBox(children=(FloatProgress(value=0.0, description='Training', layout=Layout(flex='2'), max=1250.0, style=Pro…"
      ]
     },
     "metadata": {},
     "output_type": "display_data"
    },
    {
     "name": "stdout",
     "output_type": "stream",
     "text": [
      "Epoch 30: train=10.0427, val=10.2045, took 90.609 s\n",
      "  Validation Found 68925 of 108024, added 4553 (eff 63.81%) (0.228 FP/event)\n"
     ]
    },
    {
     "data": {
      "application/vnd.jupyter.widget-view+json": {
       "model_id": "",
       "version_major": 2,
       "version_minor": 0
      },
      "text/plain": [
       "HBox(children=(FloatProgress(value=0.0, description='Training', layout=Layout(flex='2'), max=1250.0, style=Pro…"
      ]
     },
     "metadata": {},
     "output_type": "display_data"
    },
    {
     "name": "stdout",
     "output_type": "stream",
     "text": [
      "Epoch 31: train=10.0254, val=10.0764, took 90.632 s\n",
      "  Validation Found 75348 of 108024, added 5878 (eff 69.75%) (0.294 FP/event)\n"
     ]
    },
    {
     "data": {
      "application/vnd.jupyter.widget-view+json": {
       "model_id": "",
       "version_major": 2,
       "version_minor": 0
      },
      "text/plain": [
       "HBox(children=(FloatProgress(value=0.0, description='Training', layout=Layout(flex='2'), max=1250.0, style=Pro…"
      ]
     },
     "metadata": {},
     "output_type": "display_data"
    },
    {
     "name": "stdout",
     "output_type": "stream",
     "text": [
      "Epoch 32: train=9.99951, val=10.0933, took 90.601 s\n",
      "  Validation Found 69596 of 108024, added 5086 (eff 64.43%) (0.254 FP/event)\n"
     ]
    },
    {
     "data": {
      "application/vnd.jupyter.widget-view+json": {
       "model_id": "",
       "version_major": 2,
       "version_minor": 0
      },
      "text/plain": [
       "HBox(children=(FloatProgress(value=0.0, description='Training', layout=Layout(flex='2'), max=1250.0, style=Pro…"
      ]
     },
     "metadata": {},
     "output_type": "display_data"
    },
    {
     "name": "stdout",
     "output_type": "stream",
     "text": [
      "Epoch 33: train=9.97541, val=10.008, took 90.574 s\n",
      "  Validation Found 76322 of 108024, added 6157 (eff 70.65%) (0.308 FP/event)\n"
     ]
    },
    {
     "data": {
      "application/vnd.jupyter.widget-view+json": {
       "model_id": "",
       "version_major": 2,
       "version_minor": 0
      },
      "text/plain": [
       "HBox(children=(FloatProgress(value=0.0, description='Training', layout=Layout(flex='2'), max=1250.0, style=Pro…"
      ]
     },
     "metadata": {},
     "output_type": "display_data"
    },
    {
     "name": "stdout",
     "output_type": "stream",
     "text": [
      "Epoch 34: train=9.94859, val=10.0569, took 90.596 s\n",
      "  Validation Found 76574 of 108024, added 6350 (eff 70.89%) (0.317 FP/event)\n"
     ]
    },
    {
     "data": {
      "application/vnd.jupyter.widget-view+json": {
       "model_id": "",
       "version_major": 2,
       "version_minor": 0
      },
      "text/plain": [
       "HBox(children=(FloatProgress(value=0.0, description='Training', layout=Layout(flex='2'), max=1250.0, style=Pro…"
      ]
     },
     "metadata": {},
     "output_type": "display_data"
    },
    {
     "name": "stdout",
     "output_type": "stream",
     "text": [
      "Epoch 35: train=9.91912, val=10.0341, took 90.503 s\n",
      "  Validation Found 73677 of 108024, added 5288 (eff 68.20%) (0.264 FP/event)\n"
     ]
    },
    {
     "data": {
      "application/vnd.jupyter.widget-view+json": {
       "model_id": "",
       "version_major": 2,
       "version_minor": 0
      },
      "text/plain": [
       "HBox(children=(FloatProgress(value=0.0, description='Training', layout=Layout(flex='2'), max=1250.0, style=Pro…"
      ]
     },
     "metadata": {},
     "output_type": "display_data"
    },
    {
     "name": "stdout",
     "output_type": "stream",
     "text": [
      "Epoch 36: train=9.90622, val=10.01, took 90.721 s\n",
      "  Validation Found 74289 of 108024, added 6089 (eff 68.77%) (0.304 FP/event)\n"
     ]
    },
    {
     "data": {
      "application/vnd.jupyter.widget-view+json": {
       "model_id": "",
       "version_major": 2,
       "version_minor": 0
      },
      "text/plain": [
       "HBox(children=(FloatProgress(value=0.0, description='Training', layout=Layout(flex='2'), max=1250.0, style=Pro…"
      ]
     },
     "metadata": {},
     "output_type": "display_data"
    },
    {
     "name": "stdout",
     "output_type": "stream",
     "text": [
      "Epoch 37: train=9.89185, val=10.0088, took 90.926 s\n",
      "  Validation Found 72552 of 108024, added 5293 (eff 67.16%) (0.265 FP/event)\n"
     ]
    },
    {
     "data": {
      "application/vnd.jupyter.widget-view+json": {
       "model_id": "",
       "version_major": 2,
       "version_minor": 0
      },
      "text/plain": [
       "HBox(children=(FloatProgress(value=0.0, description='Training', layout=Layout(flex='2'), max=1250.0, style=Pro…"
      ]
     },
     "metadata": {},
     "output_type": "display_data"
    },
    {
     "name": "stdout",
     "output_type": "stream",
     "text": [
      "Epoch 38: train=9.87567, val=9.98686, took 90.758 s\n",
      "  Validation Found 73187 of 108024, added 5557 (eff 67.75%) (0.278 FP/event)\n"
     ]
    },
    {
     "data": {
      "application/vnd.jupyter.widget-view+json": {
       "model_id": "",
       "version_major": 2,
       "version_minor": 0
      },
      "text/plain": [
       "HBox(children=(FloatProgress(value=0.0, description='Training', layout=Layout(flex='2'), max=1250.0, style=Pro…"
      ]
     },
     "metadata": {},
     "output_type": "display_data"
    },
    {
     "name": "stdout",
     "output_type": "stream",
     "text": [
      "Epoch 39: train=9.85641, val=9.99005, took 90.775 s\n",
      "  Validation Found 78975 of 108024, added 6858 (eff 73.11%) (0.343 FP/event)\n"
     ]
    },
    {
     "data": {
      "application/vnd.jupyter.widget-view+json": {
       "model_id": "",
       "version_major": 2,
       "version_minor": 0
      },
      "text/plain": [
       "HBox(children=(FloatProgress(value=0.0, description='Training', layout=Layout(flex='2'), max=1250.0, style=Pro…"
      ]
     },
     "metadata": {},
     "output_type": "display_data"
    },
    {
     "name": "stdout",
     "output_type": "stream",
     "text": [
      "Epoch 40: train=9.835, val=10.0825, took 90.385 s\n",
      "  Validation Found 71185 of 108024, added 4859 (eff 65.90%) (0.243 FP/event)\n"
     ]
    },
    {
     "data": {
      "application/vnd.jupyter.widget-view+json": {
       "model_id": "",
       "version_major": 2,
       "version_minor": 0
      },
      "text/plain": [
       "HBox(children=(FloatProgress(value=0.0, description='Training', layout=Layout(flex='2'), max=1250.0, style=Pro…"
      ]
     },
     "metadata": {},
     "output_type": "display_data"
    },
    {
     "name": "stdout",
     "output_type": "stream",
     "text": [
      "Epoch 41: train=9.82413, val=9.94316, took 90.711 s\n",
      "  Validation Found 78594 of 108024, added 6686 (eff 72.76%) (0.334 FP/event)\n"
     ]
    },
    {
     "data": {
      "application/vnd.jupyter.widget-view+json": {
       "model_id": "",
       "version_major": 2,
       "version_minor": 0
      },
      "text/plain": [
       "HBox(children=(FloatProgress(value=0.0, description='Training', layout=Layout(flex='2'), max=1250.0, style=Pro…"
      ]
     },
     "metadata": {},
     "output_type": "display_data"
    },
    {
     "name": "stdout",
     "output_type": "stream",
     "text": [
      "Epoch 42: train=9.81362, val=9.99928, took 90.674 s\n",
      "  Validation Found 74506 of 108024, added 5469 (eff 68.97%) (0.273 FP/event)\n"
     ]
    },
    {
     "data": {
      "application/vnd.jupyter.widget-view+json": {
       "model_id": "",
       "version_major": 2,
       "version_minor": 0
      },
      "text/plain": [
       "HBox(children=(FloatProgress(value=0.0, description='Training', layout=Layout(flex='2'), max=1250.0, style=Pro…"
      ]
     },
     "metadata": {},
     "output_type": "display_data"
    },
    {
     "name": "stdout",
     "output_type": "stream",
     "text": [
      "Epoch 43: train=9.7982, val=9.98532, took 90.689 s\n",
      "  Validation Found 74195 of 108024, added 5509 (eff 68.68%) (0.275 FP/event)\n"
     ]
    },
    {
     "data": {
      "application/vnd.jupyter.widget-view+json": {
       "model_id": "",
       "version_major": 2,
       "version_minor": 0
      },
      "text/plain": [
       "HBox(children=(FloatProgress(value=0.0, description='Training', layout=Layout(flex='2'), max=1250.0, style=Pro…"
      ]
     },
     "metadata": {},
     "output_type": "display_data"
    },
    {
     "name": "stdout",
     "output_type": "stream",
     "text": [
      "Epoch 44: train=9.79008, val=9.92297, took 90.634 s\n",
      "  Validation Found 76161 of 108024, added 5971 (eff 70.50%) (0.299 FP/event)\n"
     ]
    },
    {
     "data": {
      "application/vnd.jupyter.widget-view+json": {
       "model_id": "",
       "version_major": 2,
       "version_minor": 0
      },
      "text/plain": [
       "HBox(children=(FloatProgress(value=0.0, description='Training', layout=Layout(flex='2'), max=1250.0, style=Pro…"
      ]
     },
     "metadata": {},
     "output_type": "display_data"
    },
    {
     "name": "stdout",
     "output_type": "stream",
     "text": [
      "Epoch 45: train=9.76824, val=10.0409, took 90.807 s\n",
      "  Validation Found 70513 of 108024, added 4846 (eff 65.28%) (0.242 FP/event)\n"
     ]
    },
    {
     "data": {
      "application/vnd.jupyter.widget-view+json": {
       "model_id": "",
       "version_major": 2,
       "version_minor": 0
      },
      "text/plain": [
       "HBox(children=(FloatProgress(value=0.0, description='Training', layout=Layout(flex='2'), max=1250.0, style=Pro…"
      ]
     },
     "metadata": {},
     "output_type": "display_data"
    },
    {
     "name": "stdout",
     "output_type": "stream",
     "text": [
      "Epoch 46: train=9.77627, val=10.0153, took 90.649 s\n",
      "  Validation Found 72757 of 108024, added 5051 (eff 67.35%) (0.253 FP/event)\n"
     ]
    },
    {
     "data": {
      "application/vnd.jupyter.widget-view+json": {
       "model_id": "",
       "version_major": 2,
       "version_minor": 0
      },
      "text/plain": [
       "HBox(children=(FloatProgress(value=0.0, description='Training', layout=Layout(flex='2'), max=1250.0, style=Pro…"
      ]
     },
     "metadata": {},
     "output_type": "display_data"
    },
    {
     "name": "stdout",
     "output_type": "stream",
     "text": [
      "Epoch 47: train=9.76272, val=9.96884, took 90.726 s\n",
      "  Validation Found 74638 of 108024, added 5609 (eff 69.09%) (0.28 FP/event)\n"
     ]
    },
    {
     "data": {
      "application/vnd.jupyter.widget-view+json": {
       "model_id": "",
       "version_major": 2,
       "version_minor": 0
      },
      "text/plain": [
       "HBox(children=(FloatProgress(value=0.0, description='Training', layout=Layout(flex='2'), max=1250.0, style=Pro…"
      ]
     },
     "metadata": {},
     "output_type": "display_data"
    },
    {
     "name": "stdout",
     "output_type": "stream",
     "text": [
      "Epoch 48: train=9.74644, val=10.017, took 90.759 s\n",
      "  Validation Found 70614 of 108024, added 4324 (eff 65.37%) (0.216 FP/event)\n"
     ]
    },
    {
     "data": {
      "application/vnd.jupyter.widget-view+json": {
       "model_id": "",
       "version_major": 2,
       "version_minor": 0
      },
      "text/plain": [
       "HBox(children=(FloatProgress(value=0.0, description='Training', layout=Layout(flex='2'), max=1250.0, style=Pro…"
      ]
     },
     "metadata": {},
     "output_type": "display_data"
    },
    {
     "name": "stdout",
     "output_type": "stream",
     "text": [
      "Epoch 49: train=9.74284, val=9.99892, took 90.693 s\n",
      "  Validation Found 71703 of 108024, added 5220 (eff 66.38%) (0.261 FP/event)\n"
     ]
    },
    {
     "data": {
      "application/vnd.jupyter.widget-view+json": {
       "model_id": "",
       "version_major": 2,
       "version_minor": 0
      },
      "text/plain": [
       "HBox(children=(FloatProgress(value=0.0, description='Training', layout=Layout(flex='2'), max=1250.0, style=Pro…"
      ]
     },
     "metadata": {},
     "output_type": "display_data"
    },
    {
     "name": "stdout",
     "output_type": "stream",
     "text": [
      "Epoch 50: train=9.71274, val=9.88251, took 90.621 s\n",
      "  Validation Found 77340 of 108024, added 6934 (eff 71.60%) (0.347 FP/event)\n"
     ]
    },
    {
     "data": {
      "application/vnd.jupyter.widget-view+json": {
       "model_id": "",
       "version_major": 2,
       "version_minor": 0
      },
      "text/plain": [
       "HBox(children=(FloatProgress(value=0.0, description='Training', layout=Layout(flex='2'), max=1250.0, style=Pro…"
      ]
     },
     "metadata": {},
     "output_type": "display_data"
    },
    {
     "name": "stdout",
     "output_type": "stream",
     "text": [
      "Epoch 51: train=9.70383, val=10.015, took 90.787 s\n",
      "  Validation Found 70715 of 108024, added 4873 (eff 65.46%) (0.244 FP/event)\n"
     ]
    },
    {
     "data": {
      "application/vnd.jupyter.widget-view+json": {
       "model_id": "",
       "version_major": 2,
       "version_minor": 0
      },
      "text/plain": [
       "HBox(children=(FloatProgress(value=0.0, description='Training', layout=Layout(flex='2'), max=1250.0, style=Pro…"
      ]
     },
     "metadata": {},
     "output_type": "display_data"
    },
    {
     "name": "stdout",
     "output_type": "stream",
     "text": [
      "Epoch 52: train=9.69408, val=9.97411, took 90.441 s\n",
      "  Validation Found 73956 of 108024, added 5432 (eff 68.46%) (0.272 FP/event)\n"
     ]
    },
    {
     "data": {
      "application/vnd.jupyter.widget-view+json": {
       "model_id": "",
       "version_major": 2,
       "version_minor": 0
      },
      "text/plain": [
       "HBox(children=(FloatProgress(value=0.0, description='Training', layout=Layout(flex='2'), max=1250.0, style=Pro…"
      ]
     },
     "metadata": {},
     "output_type": "display_data"
    },
    {
     "name": "stdout",
     "output_type": "stream",
     "text": [
      "Epoch 53: train=9.68206, val=9.88859, took 90.659 s\n",
      "  Validation Found 76382 of 108024, added 6696 (eff 70.71%) (0.335 FP/event)\n"
     ]
    },
    {
     "data": {
      "application/vnd.jupyter.widget-view+json": {
       "model_id": "",
       "version_major": 2,
       "version_minor": 0
      },
      "text/plain": [
       "HBox(children=(FloatProgress(value=0.0, description='Training', layout=Layout(flex='2'), max=1250.0, style=Pro…"
      ]
     },
     "metadata": {},
     "output_type": "display_data"
    },
    {
     "name": "stdout",
     "output_type": "stream",
     "text": [
      "Epoch 54: train=9.66578, val=9.93816, took 90.485 s\n",
      "  Validation Found 78242 of 108024, added 6716 (eff 72.43%) (0.336 FP/event)\n"
     ]
    },
    {
     "data": {
      "application/vnd.jupyter.widget-view+json": {
       "model_id": "",
       "version_major": 2,
       "version_minor": 0
      },
      "text/plain": [
       "HBox(children=(FloatProgress(value=0.0, description='Training', layout=Layout(flex='2'), max=1250.0, style=Pro…"
      ]
     },
     "metadata": {},
     "output_type": "display_data"
    },
    {
     "name": "stdout",
     "output_type": "stream",
     "text": [
      "Epoch 55: train=9.66049, val=9.89809, took 90.646 s\n",
      "  Validation Found 78150 of 108024, added 6297 (eff 72.35%) (0.315 FP/event)\n"
     ]
    },
    {
     "data": {
      "application/vnd.jupyter.widget-view+json": {
       "model_id": "",
       "version_major": 2,
       "version_minor": 0
      },
      "text/plain": [
       "HBox(children=(FloatProgress(value=0.0, description='Training', layout=Layout(flex='2'), max=1250.0, style=Pro…"
      ]
     },
     "metadata": {},
     "output_type": "display_data"
    },
    {
     "name": "stdout",
     "output_type": "stream",
     "text": [
      "Epoch 56: train=9.64753, val=9.91994, took 90.544 s\n",
      "  Validation Found 73744 of 108024, added 5516 (eff 68.27%) (0.276 FP/event)\n"
     ]
    },
    {
     "data": {
      "application/vnd.jupyter.widget-view+json": {
       "model_id": "",
       "version_major": 2,
       "version_minor": 0
      },
      "text/plain": [
       "HBox(children=(FloatProgress(value=0.0, description='Training', layout=Layout(flex='2'), max=1250.0, style=Pro…"
      ]
     },
     "metadata": {},
     "output_type": "display_data"
    },
    {
     "name": "stdout",
     "output_type": "stream",
     "text": [
      "Epoch 57: train=9.64499, val=9.99684, took 90.631 s\n",
      "  Validation Found 71176 of 108024, added 4702 (eff 65.89%) (0.235 FP/event)\n"
     ]
    },
    {
     "data": {
      "application/vnd.jupyter.widget-view+json": {
       "model_id": "",
       "version_major": 2,
       "version_minor": 0
      },
      "text/plain": [
       "HBox(children=(FloatProgress(value=0.0, description='Training', layout=Layout(flex='2'), max=1250.0, style=Pro…"
      ]
     },
     "metadata": {},
     "output_type": "display_data"
    },
    {
     "name": "stdout",
     "output_type": "stream",
     "text": [
      "Epoch 58: train=9.63273, val=9.86505, took 90.681 s\n",
      "  Validation Found 75161 of 108024, added 5656 (eff 69.58%) (0.283 FP/event)\n"
     ]
    },
    {
     "data": {
      "application/vnd.jupyter.widget-view+json": {
       "model_id": "",
       "version_major": 2,
       "version_minor": 0
      },
      "text/plain": [
       "HBox(children=(FloatProgress(value=0.0, description='Training', layout=Layout(flex='2'), max=1250.0, style=Pro…"
      ]
     },
     "metadata": {},
     "output_type": "display_data"
    },
    {
     "name": "stdout",
     "output_type": "stream",
     "text": [
      "Epoch 59: train=9.62764, val=9.98724, took 90.997 s\n",
      "  Validation Found 71403 of 108024, added 5463 (eff 66.10%) (0.273 FP/event)\n"
     ]
    },
    {
     "data": {
      "application/vnd.jupyter.widget-view+json": {
       "model_id": "",
       "version_major": 2,
       "version_minor": 0
      },
      "text/plain": [
       "HBox(children=(FloatProgress(value=0.0, description='Training', layout=Layout(flex='2'), max=1250.0, style=Pro…"
      ]
     },
     "metadata": {},
     "output_type": "display_data"
    },
    {
     "name": "stdout",
     "output_type": "stream",
     "text": [
      "Epoch 60: train=9.61728, val=9.87295, took 90.579 s\n",
      "  Validation Found 77318 of 108024, added 6064 (eff 71.57%) (0.303 FP/event)\n"
     ]
    },
    {
     "data": {
      "application/vnd.jupyter.widget-view+json": {
       "model_id": "",
       "version_major": 2,
       "version_minor": 0
      },
      "text/plain": [
       "HBox(children=(FloatProgress(value=0.0, description='Training', layout=Layout(flex='2'), max=1250.0, style=Pro…"
      ]
     },
     "metadata": {},
     "output_type": "display_data"
    },
    {
     "name": "stdout",
     "output_type": "stream",
     "text": [
      "Epoch 61: train=9.59945, val=9.94342, took 90.668 s\n",
      "  Validation Found 72898 of 108024, added 5635 (eff 67.48%) (0.282 FP/event)\n"
     ]
    },
    {
     "data": {
      "application/vnd.jupyter.widget-view+json": {
       "model_id": "",
       "version_major": 2,
       "version_minor": 0
      },
      "text/plain": [
       "HBox(children=(FloatProgress(value=0.0, description='Training', layout=Layout(flex='2'), max=1250.0, style=Pro…"
      ]
     },
     "metadata": {},
     "output_type": "display_data"
    },
    {
     "name": "stdout",
     "output_type": "stream",
     "text": [
      "Epoch 62: train=9.60493, val=10.0381, took 90.719 s\n",
      "  Validation Found 69976 of 108024, added 5325 (eff 64.78%) (0.266 FP/event)\n"
     ]
    },
    {
     "data": {
      "application/vnd.jupyter.widget-view+json": {
       "model_id": "",
       "version_major": 2,
       "version_minor": 0
      },
      "text/plain": [
       "HBox(children=(FloatProgress(value=0.0, description='Training', layout=Layout(flex='2'), max=1250.0, style=Pro…"
      ]
     },
     "metadata": {},
     "output_type": "display_data"
    },
    {
     "name": "stdout",
     "output_type": "stream",
     "text": [
      "Epoch 63: train=9.59408, val=9.99598, took 90.669 s\n",
      "  Validation Found 71046 of 108024, added 4686 (eff 65.77%) (0.234 FP/event)\n"
     ]
    },
    {
     "data": {
      "application/vnd.jupyter.widget-view+json": {
       "model_id": "",
       "version_major": 2,
       "version_minor": 0
      },
      "text/plain": [
       "HBox(children=(FloatProgress(value=0.0, description='Training', layout=Layout(flex='2'), max=1250.0, style=Pro…"
      ]
     },
     "metadata": {},
     "output_type": "display_data"
    },
    {
     "name": "stdout",
     "output_type": "stream",
     "text": [
      "Epoch 64: train=9.5653, val=9.83134, took 90.675 s\n",
      "  Validation Found 77650 of 108024, added 6187 (eff 71.88%) (0.309 FP/event)\n"
     ]
    },
    {
     "data": {
      "application/vnd.jupyter.widget-view+json": {
       "model_id": "",
       "version_major": 2,
       "version_minor": 0
      },
      "text/plain": [
       "HBox(children=(FloatProgress(value=0.0, description='Training', layout=Layout(flex='2'), max=1250.0, style=Pro…"
      ]
     },
     "metadata": {},
     "output_type": "display_data"
    },
    {
     "name": "stdout",
     "output_type": "stream",
     "text": [
      "Epoch 65: train=9.55354, val=10.0238, took 90.918 s\n",
      "  Validation Found 69739 of 108024, added 4594 (eff 64.56%) (0.23 FP/event)\n"
     ]
    },
    {
     "data": {
      "application/vnd.jupyter.widget-view+json": {
       "model_id": "",
       "version_major": 2,
       "version_minor": 0
      },
      "text/plain": [
       "HBox(children=(FloatProgress(value=0.0, description='Training', layout=Layout(flex='2'), max=1250.0, style=Pro…"
      ]
     },
     "metadata": {},
     "output_type": "display_data"
    },
    {
     "name": "stdout",
     "output_type": "stream",
     "text": [
      "Epoch 66: train=9.55381, val=10.0015, took 90.968 s\n",
      "  Validation Found 69698 of 108024, added 4741 (eff 64.52%) (0.237 FP/event)\n"
     ]
    },
    {
     "data": {
      "application/vnd.jupyter.widget-view+json": {
       "model_id": "",
       "version_major": 2,
       "version_minor": 0
      },
      "text/plain": [
       "HBox(children=(FloatProgress(value=0.0, description='Training', layout=Layout(flex='2'), max=1250.0, style=Pro…"
      ]
     },
     "metadata": {},
     "output_type": "display_data"
    },
    {
     "name": "stdout",
     "output_type": "stream",
     "text": [
      "Epoch 67: train=9.56159, val=10.0327, took 90.656 s\n",
      "  Validation Found 69303 of 108024, added 4748 (eff 64.16%) (0.237 FP/event)\n"
     ]
    },
    {
     "data": {
      "application/vnd.jupyter.widget-view+json": {
       "model_id": "",
       "version_major": 2,
       "version_minor": 0
      },
      "text/plain": [
       "HBox(children=(FloatProgress(value=0.0, description='Training', layout=Layout(flex='2'), max=1250.0, style=Pro…"
      ]
     },
     "metadata": {},
     "output_type": "display_data"
    },
    {
     "name": "stdout",
     "output_type": "stream",
     "text": [
      "Epoch 68: train=9.54846, val=9.82055, took 90.706 s\n",
      "  Validation Found 76936 of 108024, added 6327 (eff 71.22%) (0.316 FP/event)\n"
     ]
    },
    {
     "data": {
      "application/vnd.jupyter.widget-view+json": {
       "model_id": "",
       "version_major": 2,
       "version_minor": 0
      },
      "text/plain": [
       "HBox(children=(FloatProgress(value=0.0, description='Training', layout=Layout(flex='2'), max=1250.0, style=Pro…"
      ]
     },
     "metadata": {},
     "output_type": "display_data"
    },
    {
     "name": "stdout",
     "output_type": "stream",
     "text": [
      "Epoch 69: train=9.52876, val=10.0272, took 90.767 s\n",
      "  Validation Found 69550 of 108024, added 4731 (eff 64.38%) (0.237 FP/event)\n"
     ]
    },
    {
     "data": {
      "application/vnd.jupyter.widget-view+json": {
       "model_id": "",
       "version_major": 2,
       "version_minor": 0
      },
      "text/plain": [
       "HBox(children=(FloatProgress(value=0.0, description='Training', layout=Layout(flex='2'), max=1250.0, style=Pro…"
      ]
     },
     "metadata": {},
     "output_type": "display_data"
    },
    {
     "name": "stdout",
     "output_type": "stream",
     "text": [
      "Epoch 70: train=9.51673, val=9.85032, took 90.623 s\n",
      "  Validation Found 78834 of 108024, added 6513 (eff 72.98%) (0.326 FP/event)\n"
     ]
    },
    {
     "data": {
      "application/vnd.jupyter.widget-view+json": {
       "model_id": "",
       "version_major": 2,
       "version_minor": 0
      },
      "text/plain": [
       "HBox(children=(FloatProgress(value=0.0, description='Training', layout=Layout(flex='2'), max=1250.0, style=Pro…"
      ]
     },
     "metadata": {},
     "output_type": "display_data"
    },
    {
     "name": "stdout",
     "output_type": "stream",
     "text": [
      "Epoch 71: train=9.4987, val=9.95941, took 90.559 s\n",
      "  Validation Found 73773 of 108024, added 5437 (eff 68.29%) (0.272 FP/event)\n"
     ]
    },
    {
     "data": {
      "application/vnd.jupyter.widget-view+json": {
       "model_id": "",
       "version_major": 2,
       "version_minor": 0
      },
      "text/plain": [
       "HBox(children=(FloatProgress(value=0.0, description='Training', layout=Layout(flex='2'), max=1250.0, style=Pro…"
      ]
     },
     "metadata": {},
     "output_type": "display_data"
    },
    {
     "name": "stdout",
     "output_type": "stream",
     "text": [
      "Epoch 72: train=9.51361, val=9.8354, took 90.564 s\n",
      "  Validation Found 75072 of 108024, added 6146 (eff 69.50%) (0.307 FP/event)\n"
     ]
    },
    {
     "data": {
      "application/vnd.jupyter.widget-view+json": {
       "model_id": "",
       "version_major": 2,
       "version_minor": 0
      },
      "text/plain": [
       "HBox(children=(FloatProgress(value=0.0, description='Training', layout=Layout(flex='2'), max=1250.0, style=Pro…"
      ]
     },
     "metadata": {},
     "output_type": "display_data"
    },
    {
     "name": "stdout",
     "output_type": "stream",
     "text": [
      "Epoch 73: train=9.48747, val=9.97319, took 90.908 s\n",
      "  Validation Found 70717 of 108024, added 5038 (eff 65.46%) (0.252 FP/event)\n"
     ]
    },
    {
     "data": {
      "application/vnd.jupyter.widget-view+json": {
       "model_id": "",
       "version_major": 2,
       "version_minor": 0
      },
      "text/plain": [
       "HBox(children=(FloatProgress(value=0.0, description='Training', layout=Layout(flex='2'), max=1250.0, style=Pro…"
      ]
     },
     "metadata": {},
     "output_type": "display_data"
    },
    {
     "name": "stdout",
     "output_type": "stream",
     "text": [
      "Epoch 74: train=9.47521, val=9.84793, took 90.738 s\n",
      "  Validation Found 75546 of 108024, added 5310 (eff 69.93%) (0.265 FP/event)\n"
     ]
    },
    {
     "data": {
      "application/vnd.jupyter.widget-view+json": {
       "model_id": "",
       "version_major": 2,
       "version_minor": 0
      },
      "text/plain": [
       "HBox(children=(FloatProgress(value=0.0, description='Training', layout=Layout(flex='2'), max=1250.0, style=Pro…"
      ]
     },
     "metadata": {},
     "output_type": "display_data"
    },
    {
     "name": "stdout",
     "output_type": "stream",
     "text": [
      "Epoch 75: train=9.47643, val=9.84508, took 90.77 s\n",
      "  Validation Found 75958 of 108024, added 6054 (eff 70.32%) (0.303 FP/event)\n"
     ]
    },
    {
     "data": {
      "application/vnd.jupyter.widget-view+json": {
       "model_id": "",
       "version_major": 2,
       "version_minor": 0
      },
      "text/plain": [
       "HBox(children=(FloatProgress(value=0.0, description='Training', layout=Layout(flex='2'), max=1250.0, style=Pro…"
      ]
     },
     "metadata": {},
     "output_type": "display_data"
    },
    {
     "name": "stdout",
     "output_type": "stream",
     "text": [
      "Epoch 76: train=9.47779, val=9.86355, took 90.845 s\n",
      "  Validation Found 73989 of 108024, added 5471 (eff 68.49%) (0.274 FP/event)\n"
     ]
    },
    {
     "data": {
      "application/vnd.jupyter.widget-view+json": {
       "model_id": "",
       "version_major": 2,
       "version_minor": 0
      },
      "text/plain": [
       "HBox(children=(FloatProgress(value=0.0, description='Training', layout=Layout(flex='2'), max=1250.0, style=Pro…"
      ]
     },
     "metadata": {},
     "output_type": "display_data"
    },
    {
     "name": "stdout",
     "output_type": "stream",
     "text": [
      "Epoch 77: train=9.44989, val=9.89697, took 91.205 s\n",
      "  Validation Found 71807 of 108024, added 5274 (eff 66.47%) (0.264 FP/event)\n"
     ]
    },
    {
     "data": {
      "application/vnd.jupyter.widget-view+json": {
       "model_id": "",
       "version_major": 2,
       "version_minor": 0
      },
      "text/plain": [
       "HBox(children=(FloatProgress(value=0.0, description='Training', layout=Layout(flex='2'), max=1250.0, style=Pro…"
      ]
     },
     "metadata": {},
     "output_type": "display_data"
    },
    {
     "name": "stdout",
     "output_type": "stream",
     "text": [
      "Epoch 78: train=9.45816, val=9.86502, took 91.187 s\n",
      "  Validation Found 74588 of 108024, added 5125 (eff 69.05%) (0.256 FP/event)\n"
     ]
    },
    {
     "data": {
      "application/vnd.jupyter.widget-view+json": {
       "model_id": "",
       "version_major": 2,
       "version_minor": 0
      },
      "text/plain": [
       "HBox(children=(FloatProgress(value=0.0, description='Training', layout=Layout(flex='2'), max=1250.0, style=Pro…"
      ]
     },
     "metadata": {},
     "output_type": "display_data"
    },
    {
     "name": "stdout",
     "output_type": "stream",
     "text": [
      "Epoch 79: train=9.4413, val=9.9468, took 91.128 s\n",
      "  Validation Found 71477 of 108024, added 5187 (eff 66.17%) (0.259 FP/event)\n"
     ]
    },
    {
     "data": {
      "application/vnd.jupyter.widget-view+json": {
       "model_id": "",
       "version_major": 2,
       "version_minor": 0
      },
      "text/plain": [
       "HBox(children=(FloatProgress(value=0.0, description='Training', layout=Layout(flex='2'), max=1250.0, style=Pro…"
      ]
     },
     "metadata": {},
     "output_type": "display_data"
    },
    {
     "name": "stdout",
     "output_type": "stream",
     "text": [
      "Epoch 80: train=9.43824, val=10.0839, took 91.233 s\n",
      "  Validation Found 67699 of 108024, added 4080 (eff 62.67%) (0.204 FP/event)\n"
     ]
    },
    {
     "data": {
      "application/vnd.jupyter.widget-view+json": {
       "model_id": "",
       "version_major": 2,
       "version_minor": 0
      },
      "text/plain": [
       "HBox(children=(FloatProgress(value=0.0, description='Training', layout=Layout(flex='2'), max=1250.0, style=Pro…"
      ]
     },
     "metadata": {},
     "output_type": "display_data"
    },
    {
     "name": "stdout",
     "output_type": "stream",
     "text": [
      "Epoch 81: train=9.4441, val=9.9842, took 91.01 s\n",
      "  Validation Found 69604 of 108024, added 4524 (eff 64.43%) (0.226 FP/event)\n"
     ]
    },
    {
     "data": {
      "application/vnd.jupyter.widget-view+json": {
       "model_id": "",
       "version_major": 2,
       "version_minor": 0
      },
      "text/plain": [
       "HBox(children=(FloatProgress(value=0.0, description='Training', layout=Layout(flex='2'), max=1250.0, style=Pro…"
      ]
     },
     "metadata": {},
     "output_type": "display_data"
    },
    {
     "name": "stdout",
     "output_type": "stream",
     "text": [
      "Epoch 82: train=9.43237, val=9.79573, took 91.247 s\n",
      "  Validation Found 77969 of 108024, added 7079 (eff 72.18%) (0.354 FP/event)\n"
     ]
    },
    {
     "data": {
      "application/vnd.jupyter.widget-view+json": {
       "model_id": "",
       "version_major": 2,
       "version_minor": 0
      },
      "text/plain": [
       "HBox(children=(FloatProgress(value=0.0, description='Training', layout=Layout(flex='2'), max=1250.0, style=Pro…"
      ]
     },
     "metadata": {},
     "output_type": "display_data"
    },
    {
     "name": "stdout",
     "output_type": "stream",
     "text": [
      "Epoch 83: train=9.43328, val=9.85982, took 91.639 s\n",
      "  Validation Found 74589 of 108024, added 5563 (eff 69.05%) (0.278 FP/event)\n"
     ]
    },
    {
     "data": {
      "application/vnd.jupyter.widget-view+json": {
       "model_id": "",
       "version_major": 2,
       "version_minor": 0
      },
      "text/plain": [
       "HBox(children=(FloatProgress(value=0.0, description='Training', layout=Layout(flex='2'), max=1250.0, style=Pro…"
      ]
     },
     "metadata": {},
     "output_type": "display_data"
    },
    {
     "name": "stdout",
     "output_type": "stream",
     "text": [
      "Epoch 84: train=9.42281, val=9.77057, took 93.272 s\n",
      "  Validation Found 76787 of 108024, added 6252 (eff 71.08%) (0.313 FP/event)\n"
     ]
    },
    {
     "data": {
      "application/vnd.jupyter.widget-view+json": {
       "model_id": "",
       "version_major": 2,
       "version_minor": 0
      },
      "text/plain": [
       "HBox(children=(FloatProgress(value=0.0, description='Training', layout=Layout(flex='2'), max=1250.0, style=Pro…"
      ]
     },
     "metadata": {},
     "output_type": "display_data"
    },
    {
     "name": "stdout",
     "output_type": "stream",
     "text": [
      "Epoch 85: train=9.41769, val=9.82797, took 93.289 s\n",
      "  Validation Found 75120 of 108024, added 5820 (eff 69.54%) (0.291 FP/event)\n"
     ]
    },
    {
     "data": {
      "application/vnd.jupyter.widget-view+json": {
       "model_id": "",
       "version_major": 2,
       "version_minor": 0
      },
      "text/plain": [
       "HBox(children=(FloatProgress(value=0.0, description='Training', layout=Layout(flex='2'), max=1250.0, style=Pro…"
      ]
     },
     "metadata": {},
     "output_type": "display_data"
    },
    {
     "name": "stdout",
     "output_type": "stream",
     "text": [
      "Epoch 86: train=9.39479, val=9.81682, took 93.253 s\n",
      "  Validation Found 76908 of 108024, added 6149 (eff 71.20%) (0.307 FP/event)\n"
     ]
    },
    {
     "data": {
      "application/vnd.jupyter.widget-view+json": {
       "model_id": "",
       "version_major": 2,
       "version_minor": 0
      },
      "text/plain": [
       "HBox(children=(FloatProgress(value=0.0, description='Training', layout=Layout(flex='2'), max=1250.0, style=Pro…"
      ]
     },
     "metadata": {},
     "output_type": "display_data"
    },
    {
     "name": "stdout",
     "output_type": "stream",
     "text": [
      "Epoch 87: train=9.40395, val=9.74409, took 93.159 s\n",
      "  Validation Found 77486 of 108024, added 6647 (eff 71.73%) (0.332 FP/event)\n"
     ]
    },
    {
     "data": {
      "application/vnd.jupyter.widget-view+json": {
       "model_id": "",
       "version_major": 2,
       "version_minor": 0
      },
      "text/plain": [
       "HBox(children=(FloatProgress(value=0.0, description='Training', layout=Layout(flex='2'), max=1250.0, style=Pro…"
      ]
     },
     "metadata": {},
     "output_type": "display_data"
    },
    {
     "name": "stdout",
     "output_type": "stream",
     "text": [
      "Epoch 88: train=9.38472, val=9.86689, took 93.765 s\n",
      "  Validation Found 73621 of 108024, added 5369 (eff 68.15%) (0.268 FP/event)\n"
     ]
    },
    {
     "data": {
      "application/vnd.jupyter.widget-view+json": {
       "model_id": "",
       "version_major": 2,
       "version_minor": 0
      },
      "text/plain": [
       "HBox(children=(FloatProgress(value=0.0, description='Training', layout=Layout(flex='2'), max=1250.0, style=Pro…"
      ]
     },
     "metadata": {},
     "output_type": "display_data"
    },
    {
     "name": "stdout",
     "output_type": "stream",
     "text": [
      "Epoch 89: train=9.38214, val=9.85527, took 93.256 s\n",
      "  Validation Found 76087 of 108024, added 5757 (eff 70.44%) (0.288 FP/event)\n"
     ]
    },
    {
     "data": {
      "application/vnd.jupyter.widget-view+json": {
       "model_id": "",
       "version_major": 2,
       "version_minor": 0
      },
      "text/plain": [
       "HBox(children=(FloatProgress(value=0.0, description='Training', layout=Layout(flex='2'), max=1250.0, style=Pro…"
      ]
     },
     "metadata": {},
     "output_type": "display_data"
    },
    {
     "name": "stdout",
     "output_type": "stream",
     "text": [
      "Epoch 90: train=9.35813, val=9.83107, took 93.853 s\n",
      "  Validation Found 73101 of 108024, added 5195 (eff 67.67%) (0.26 FP/event)\n"
     ]
    },
    {
     "data": {
      "application/vnd.jupyter.widget-view+json": {
       "model_id": "",
       "version_major": 2,
       "version_minor": 0
      },
      "text/plain": [
       "HBox(children=(FloatProgress(value=0.0, description='Training', layout=Layout(flex='2'), max=1250.0, style=Pro…"
      ]
     },
     "metadata": {},
     "output_type": "display_data"
    },
    {
     "name": "stdout",
     "output_type": "stream",
     "text": [
      "Epoch 91: train=9.35771, val=9.806, took 93.492 s\n",
      "  Validation Found 77243 of 108024, added 5938 (eff 71.51%) (0.297 FP/event)\n"
     ]
    },
    {
     "data": {
      "application/vnd.jupyter.widget-view+json": {
       "model_id": "",
       "version_major": 2,
       "version_minor": 0
      },
      "text/plain": [
       "HBox(children=(FloatProgress(value=0.0, description='Training', layout=Layout(flex='2'), max=1250.0, style=Pro…"
      ]
     },
     "metadata": {},
     "output_type": "display_data"
    },
    {
     "name": "stdout",
     "output_type": "stream",
     "text": [
      "Epoch 92: train=9.35713, val=9.93103, took 92.414 s\n",
      "  Validation Found 69900 of 108024, added 4841 (eff 64.71%) (0.242 FP/event)\n"
     ]
    },
    {
     "data": {
      "application/vnd.jupyter.widget-view+json": {
       "model_id": "",
       "version_major": 2,
       "version_minor": 0
      },
      "text/plain": [
       "HBox(children=(FloatProgress(value=0.0, description='Training', layout=Layout(flex='2'), max=1250.0, style=Pro…"
      ]
     },
     "metadata": {},
     "output_type": "display_data"
    },
    {
     "name": "stdout",
     "output_type": "stream",
     "text": [
      "Epoch 93: train=9.35213, val=9.76467, took 92.109 s\n",
      "  Validation Found 76222 of 108024, added 6381 (eff 70.56%) (0.319 FP/event)\n"
     ]
    },
    {
     "data": {
      "application/vnd.jupyter.widget-view+json": {
       "model_id": "",
       "version_major": 2,
       "version_minor": 0
      },
      "text/plain": [
       "HBox(children=(FloatProgress(value=0.0, description='Training', layout=Layout(flex='2'), max=1250.0, style=Pro…"
      ]
     },
     "metadata": {},
     "output_type": "display_data"
    },
    {
     "name": "stdout",
     "output_type": "stream",
     "text": [
      "Epoch 94: train=9.34102, val=9.80862, took 93.654 s\n",
      "  Validation Found 75854 of 108024, added 5438 (eff 70.22%) (0.272 FP/event)\n"
     ]
    },
    {
     "data": {
      "application/vnd.jupyter.widget-view+json": {
       "model_id": "",
       "version_major": 2,
       "version_minor": 0
      },
      "text/plain": [
       "HBox(children=(FloatProgress(value=0.0, description='Training', layout=Layout(flex='2'), max=1250.0, style=Pro…"
      ]
     },
     "metadata": {},
     "output_type": "display_data"
    },
    {
     "name": "stdout",
     "output_type": "stream",
     "text": [
      "Epoch 95: train=9.32085, val=9.79976, took 92.518 s\n",
      "  Validation Found 73667 of 108024, added 5488 (eff 68.20%) (0.274 FP/event)\n"
     ]
    },
    {
     "data": {
      "application/vnd.jupyter.widget-view+json": {
       "model_id": "",
       "version_major": 2,
       "version_minor": 0
      },
      "text/plain": [
       "HBox(children=(FloatProgress(value=0.0, description='Training', layout=Layout(flex='2'), max=1250.0, style=Pro…"
      ]
     },
     "metadata": {},
     "output_type": "display_data"
    },
    {
     "name": "stdout",
     "output_type": "stream",
     "text": [
      "Epoch 96: train=9.31646, val=9.8324, took 92.492 s\n",
      "  Validation Found 72896 of 108024, added 5127 (eff 67.48%) (0.256 FP/event)\n"
     ]
    },
    {
     "data": {
      "application/vnd.jupyter.widget-view+json": {
       "model_id": "",
       "version_major": 2,
       "version_minor": 0
      },
      "text/plain": [
       "HBox(children=(FloatProgress(value=0.0, description='Training', layout=Layout(flex='2'), max=1250.0, style=Pro…"
      ]
     },
     "metadata": {},
     "output_type": "display_data"
    },
    {
     "name": "stdout",
     "output_type": "stream",
     "text": [
      "Epoch 97: train=9.31824, val=9.80195, took 92.311 s\n",
      "  Validation Found 76479 of 108024, added 5734 (eff 70.80%) (0.287 FP/event)\n"
     ]
    },
    {
     "data": {
      "application/vnd.jupyter.widget-view+json": {
       "model_id": "",
       "version_major": 2,
       "version_minor": 0
      },
      "text/plain": [
       "HBox(children=(FloatProgress(value=0.0, description='Training', layout=Layout(flex='2'), max=1250.0, style=Pro…"
      ]
     },
     "metadata": {},
     "output_type": "display_data"
    },
    {
     "name": "stdout",
     "output_type": "stream",
     "text": [
      "Epoch 98: train=9.30332, val=9.81914, took 92.352 s\n",
      "  Validation Found 73638 of 108024, added 5347 (eff 68.17%) (0.267 FP/event)\n"
     ]
    },
    {
     "data": {
      "application/vnd.jupyter.widget-view+json": {
       "model_id": "",
       "version_major": 2,
       "version_minor": 0
      },
      "text/plain": [
       "HBox(children=(FloatProgress(value=0.0, description='Training', layout=Layout(flex='2'), max=1250.0, style=Pro…"
      ]
     },
     "metadata": {},
     "output_type": "display_data"
    },
    {
     "name": "stdout",
     "output_type": "stream",
     "text": [
      "Epoch 99: train=9.29805, val=9.82621, took 92.359 s\n",
      "  Validation Found 76645 of 108024, added 5731 (eff 70.95%) (0.287 FP/event)\n",
      "\n"
     ]
    }
   ],
   "source": [
    "for result in trainNet(model, optimizer, loss,\n",
    "                        train_loader, val_loader,\n",
    "                        n_epochs, epoch_start=len(results),\n",
    "                        notebook=True):\n",
    "    \n",
    "    results = results.append(pd.Series(result._asdict()), ignore_index=True)\n",
    "    \n",
    "    xs = results.index\n",
    "##    print(\"xs = \",xs)\n",
    "    \n",
    "    # Update the plot above\n",
    "##    print(\"results.index = \",results.index,\"  results.cost\", results.cost)\n",
    "##    print(\"results.index = \",results.index,\"  results.val\", results.val)\n",
    "    lines['train'].set_data(results.index,results.cost)\n",
    "    lines['val'].set_data(results.index,results.val)\n",
    "    \n",
    "    #filter first cost epoch (can be really large)\n",
    "    max_cost = max(max(results.cost if len(results.cost)<2 else results.cost[1:]), max(results.val))\n",
    "    min_cost = min(min(results.cost), min(results.val))\n",
    "    \n",
    "    # The plot limits need updating too\n",
    "    \n",
    "    \n",
    "    \n",
    "    ax.set_ylim(min_cost*.9, max_cost*1.1)  \n",
    "    ax.set_xlim(-.5, len(results.cost) - .5)\n",
    "    \n",
    "    replace_in_ax(lax, lines['eff'], xs, results['eff_val'].apply(lambda x: x.eff_rate))\n",
    "    replace_in_ax(tax, lines['fp'], xs, results['eff_val'].apply(lambda x: x.fp_rate))\n",
    "    \n",
    "    # Redraw the figure\n",
    "    fig.canvas.draw()\n",
    "\n",
    "    # Save each model state dictionary\n",
    "    torch.save(model.state_dict(), output / f'{name}_{result.epoch}.pyt')"
   ]
  },
  {
   "cell_type": "code",
   "execution_count": 16,
   "metadata": {},
   "outputs": [],
   "source": [
    "torch.save(model.state_dict(), output / f'{name}_final.pyt')"
   ]
  },
  {
   "cell_type": "code",
   "execution_count": 17,
   "metadata": {},
   "outputs": [
    {
     "name": "stderr",
     "output_type": "stream",
     "text": [
      "/apps/miniconda3/envs/june2020-gpu/lib/python3.7/site-packages/pandas/core/generic.py:2505: PerformanceWarning: \n",
      "your performance may suffer as PyTables will pickle object types that it cannot\n",
      "map directly to c-types [inferred_type->mixed-integer,key->block1_values] [items->Index(['epoch', 'eff_val'], dtype='object')]\n",
      "\n",
      "  encoding=encoding,\n"
     ]
    }
   ],
   "source": [
    "results.to_hdf(f'{name}_stats.hdf5', 'results')"
   ]
  },
  {
   "cell_type": "code",
   "execution_count": 18,
   "metadata": {},
   "outputs": [
    {
     "data": {
      "application/javascript": [
       "/* Put everything inside the global mpl namespace */\n",
       "window.mpl = {};\n",
       "\n",
       "\n",
       "mpl.get_websocket_type = function() {\n",
       "    if (typeof(WebSocket) !== 'undefined') {\n",
       "        return WebSocket;\n",
       "    } else if (typeof(MozWebSocket) !== 'undefined') {\n",
       "        return MozWebSocket;\n",
       "    } else {\n",
       "        alert('Your browser does not have WebSocket support. ' +\n",
       "              'Please try Chrome, Safari or Firefox ≥ 6. ' +\n",
       "              'Firefox 4 and 5 are also supported but you ' +\n",
       "              'have to enable WebSockets in about:config.');\n",
       "    };\n",
       "}\n",
       "\n",
       "mpl.figure = function(figure_id, websocket, ondownload, parent_element) {\n",
       "    this.id = figure_id;\n",
       "\n",
       "    this.ws = websocket;\n",
       "\n",
       "    this.supports_binary = (this.ws.binaryType != undefined);\n",
       "\n",
       "    if (!this.supports_binary) {\n",
       "        var warnings = document.getElementById(\"mpl-warnings\");\n",
       "        if (warnings) {\n",
       "            warnings.style.display = 'block';\n",
       "            warnings.textContent = (\n",
       "                \"This browser does not support binary websocket messages. \" +\n",
       "                    \"Performance may be slow.\");\n",
       "        }\n",
       "    }\n",
       "\n",
       "    this.imageObj = new Image();\n",
       "\n",
       "    this.context = undefined;\n",
       "    this.message = undefined;\n",
       "    this.canvas = undefined;\n",
       "    this.rubberband_canvas = undefined;\n",
       "    this.rubberband_context = undefined;\n",
       "    this.format_dropdown = undefined;\n",
       "\n",
       "    this.image_mode = 'full';\n",
       "\n",
       "    this.root = $('<div/>');\n",
       "    this._root_extra_style(this.root)\n",
       "    this.root.attr('style', 'display: inline-block');\n",
       "\n",
       "    $(parent_element).append(this.root);\n",
       "\n",
       "    this._init_header(this);\n",
       "    this._init_canvas(this);\n",
       "    this._init_toolbar(this);\n",
       "\n",
       "    var fig = this;\n",
       "\n",
       "    this.waiting = false;\n",
       "\n",
       "    this.ws.onopen =  function () {\n",
       "            fig.send_message(\"supports_binary\", {value: fig.supports_binary});\n",
       "            fig.send_message(\"send_image_mode\", {});\n",
       "            if (mpl.ratio != 1) {\n",
       "                fig.send_message(\"set_dpi_ratio\", {'dpi_ratio': mpl.ratio});\n",
       "            }\n",
       "            fig.send_message(\"refresh\", {});\n",
       "        }\n",
       "\n",
       "    this.imageObj.onload = function() {\n",
       "            if (fig.image_mode == 'full') {\n",
       "                // Full images could contain transparency (where diff images\n",
       "                // almost always do), so we need to clear the canvas so that\n",
       "                // there is no ghosting.\n",
       "                fig.context.clearRect(0, 0, fig.canvas.width, fig.canvas.height);\n",
       "            }\n",
       "            fig.context.drawImage(fig.imageObj, 0, 0);\n",
       "        };\n",
       "\n",
       "    this.imageObj.onunload = function() {\n",
       "        fig.ws.close();\n",
       "    }\n",
       "\n",
       "    this.ws.onmessage = this._make_on_message_function(this);\n",
       "\n",
       "    this.ondownload = ondownload;\n",
       "}\n",
       "\n",
       "mpl.figure.prototype._init_header = function() {\n",
       "    var titlebar = $(\n",
       "        '<div class=\"ui-dialog-titlebar ui-widget-header ui-corner-all ' +\n",
       "        'ui-helper-clearfix\"/>');\n",
       "    var titletext = $(\n",
       "        '<div class=\"ui-dialog-title\" style=\"width: 100%; ' +\n",
       "        'text-align: center; padding: 3px;\"/>');\n",
       "    titlebar.append(titletext)\n",
       "    this.root.append(titlebar);\n",
       "    this.header = titletext[0];\n",
       "}\n",
       "\n",
       "\n",
       "\n",
       "mpl.figure.prototype._canvas_extra_style = function(canvas_div) {\n",
       "\n",
       "}\n",
       "\n",
       "\n",
       "mpl.figure.prototype._root_extra_style = function(canvas_div) {\n",
       "\n",
       "}\n",
       "\n",
       "mpl.figure.prototype._init_canvas = function() {\n",
       "    var fig = this;\n",
       "\n",
       "    var canvas_div = $('<div/>');\n",
       "\n",
       "    canvas_div.attr('style', 'position: relative; clear: both; outline: 0');\n",
       "\n",
       "    function canvas_keyboard_event(event) {\n",
       "        return fig.key_event(event, event['data']);\n",
       "    }\n",
       "\n",
       "    canvas_div.keydown('key_press', canvas_keyboard_event);\n",
       "    canvas_div.keyup('key_release', canvas_keyboard_event);\n",
       "    this.canvas_div = canvas_div\n",
       "    this._canvas_extra_style(canvas_div)\n",
       "    this.root.append(canvas_div);\n",
       "\n",
       "    var canvas = $('<canvas/>');\n",
       "    canvas.addClass('mpl-canvas');\n",
       "    canvas.attr('style', \"left: 0; top: 0; z-index: 0; outline: 0\")\n",
       "\n",
       "    this.canvas = canvas[0];\n",
       "    this.context = canvas[0].getContext(\"2d\");\n",
       "\n",
       "    var backingStore = this.context.backingStorePixelRatio ||\n",
       "\tthis.context.webkitBackingStorePixelRatio ||\n",
       "\tthis.context.mozBackingStorePixelRatio ||\n",
       "\tthis.context.msBackingStorePixelRatio ||\n",
       "\tthis.context.oBackingStorePixelRatio ||\n",
       "\tthis.context.backingStorePixelRatio || 1;\n",
       "\n",
       "    mpl.ratio = (window.devicePixelRatio || 1) / backingStore;\n",
       "\n",
       "    var rubberband = $('<canvas/>');\n",
       "    rubberband.attr('style', \"position: absolute; left: 0; top: 0; z-index: 1;\")\n",
       "\n",
       "    var pass_mouse_events = true;\n",
       "\n",
       "    canvas_div.resizable({\n",
       "        start: function(event, ui) {\n",
       "            pass_mouse_events = false;\n",
       "        },\n",
       "        resize: function(event, ui) {\n",
       "            fig.request_resize(ui.size.width, ui.size.height);\n",
       "        },\n",
       "        stop: function(event, ui) {\n",
       "            pass_mouse_events = true;\n",
       "            fig.request_resize(ui.size.width, ui.size.height);\n",
       "        },\n",
       "    });\n",
       "\n",
       "    function mouse_event_fn(event) {\n",
       "        if (pass_mouse_events)\n",
       "            return fig.mouse_event(event, event['data']);\n",
       "    }\n",
       "\n",
       "    rubberband.mousedown('button_press', mouse_event_fn);\n",
       "    rubberband.mouseup('button_release', mouse_event_fn);\n",
       "    // Throttle sequential mouse events to 1 every 20ms.\n",
       "    rubberband.mousemove('motion_notify', mouse_event_fn);\n",
       "\n",
       "    rubberband.mouseenter('figure_enter', mouse_event_fn);\n",
       "    rubberband.mouseleave('figure_leave', mouse_event_fn);\n",
       "\n",
       "    canvas_div.on(\"wheel\", function (event) {\n",
       "        event = event.originalEvent;\n",
       "        event['data'] = 'scroll'\n",
       "        if (event.deltaY < 0) {\n",
       "            event.step = 1;\n",
       "        } else {\n",
       "            event.step = -1;\n",
       "        }\n",
       "        mouse_event_fn(event);\n",
       "    });\n",
       "\n",
       "    canvas_div.append(canvas);\n",
       "    canvas_div.append(rubberband);\n",
       "\n",
       "    this.rubberband = rubberband;\n",
       "    this.rubberband_canvas = rubberband[0];\n",
       "    this.rubberband_context = rubberband[0].getContext(\"2d\");\n",
       "    this.rubberband_context.strokeStyle = \"#000000\";\n",
       "\n",
       "    this._resize_canvas = function(width, height) {\n",
       "        // Keep the size of the canvas, canvas container, and rubber band\n",
       "        // canvas in synch.\n",
       "        canvas_div.css('width', width)\n",
       "        canvas_div.css('height', height)\n",
       "\n",
       "        canvas.attr('width', width * mpl.ratio);\n",
       "        canvas.attr('height', height * mpl.ratio);\n",
       "        canvas.attr('style', 'width: ' + width + 'px; height: ' + height + 'px;');\n",
       "\n",
       "        rubberband.attr('width', width);\n",
       "        rubberband.attr('height', height);\n",
       "    }\n",
       "\n",
       "    // Set the figure to an initial 600x600px, this will subsequently be updated\n",
       "    // upon first draw.\n",
       "    this._resize_canvas(600, 600);\n",
       "\n",
       "    // Disable right mouse context menu.\n",
       "    $(this.rubberband_canvas).bind(\"contextmenu\",function(e){\n",
       "        return false;\n",
       "    });\n",
       "\n",
       "    function set_focus () {\n",
       "        canvas.focus();\n",
       "        canvas_div.focus();\n",
       "    }\n",
       "\n",
       "    window.setTimeout(set_focus, 100);\n",
       "}\n",
       "\n",
       "mpl.figure.prototype._init_toolbar = function() {\n",
       "    var fig = this;\n",
       "\n",
       "    var nav_element = $('<div/>');\n",
       "    nav_element.attr('style', 'width: 100%');\n",
       "    this.root.append(nav_element);\n",
       "\n",
       "    // Define a callback function for later on.\n",
       "    function toolbar_event(event) {\n",
       "        return fig.toolbar_button_onclick(event['data']);\n",
       "    }\n",
       "    function toolbar_mouse_event(event) {\n",
       "        return fig.toolbar_button_onmouseover(event['data']);\n",
       "    }\n",
       "\n",
       "    for(var toolbar_ind in mpl.toolbar_items) {\n",
       "        var name = mpl.toolbar_items[toolbar_ind][0];\n",
       "        var tooltip = mpl.toolbar_items[toolbar_ind][1];\n",
       "        var image = mpl.toolbar_items[toolbar_ind][2];\n",
       "        var method_name = mpl.toolbar_items[toolbar_ind][3];\n",
       "\n",
       "        if (!name) {\n",
       "            // put a spacer in here.\n",
       "            continue;\n",
       "        }\n",
       "        var button = $('<button/>');\n",
       "        button.addClass('ui-button ui-widget ui-state-default ui-corner-all ' +\n",
       "                        'ui-button-icon-only');\n",
       "        button.attr('role', 'button');\n",
       "        button.attr('aria-disabled', 'false');\n",
       "        button.click(method_name, toolbar_event);\n",
       "        button.mouseover(tooltip, toolbar_mouse_event);\n",
       "\n",
       "        var icon_img = $('<span/>');\n",
       "        icon_img.addClass('ui-button-icon-primary ui-icon');\n",
       "        icon_img.addClass(image);\n",
       "        icon_img.addClass('ui-corner-all');\n",
       "\n",
       "        var tooltip_span = $('<span/>');\n",
       "        tooltip_span.addClass('ui-button-text');\n",
       "        tooltip_span.html(tooltip);\n",
       "\n",
       "        button.append(icon_img);\n",
       "        button.append(tooltip_span);\n",
       "\n",
       "        nav_element.append(button);\n",
       "    }\n",
       "\n",
       "    var fmt_picker_span = $('<span/>');\n",
       "\n",
       "    var fmt_picker = $('<select/>');\n",
       "    fmt_picker.addClass('mpl-toolbar-option ui-widget ui-widget-content');\n",
       "    fmt_picker_span.append(fmt_picker);\n",
       "    nav_element.append(fmt_picker_span);\n",
       "    this.format_dropdown = fmt_picker[0];\n",
       "\n",
       "    for (var ind in mpl.extensions) {\n",
       "        var fmt = mpl.extensions[ind];\n",
       "        var option = $(\n",
       "            '<option/>', {selected: fmt === mpl.default_extension}).html(fmt);\n",
       "        fmt_picker.append(option);\n",
       "    }\n",
       "\n",
       "    // Add hover states to the ui-buttons\n",
       "    $( \".ui-button\" ).hover(\n",
       "        function() { $(this).addClass(\"ui-state-hover\");},\n",
       "        function() { $(this).removeClass(\"ui-state-hover\");}\n",
       "    );\n",
       "\n",
       "    var status_bar = $('<span class=\"mpl-message\"/>');\n",
       "    nav_element.append(status_bar);\n",
       "    this.message = status_bar[0];\n",
       "}\n",
       "\n",
       "mpl.figure.prototype.request_resize = function(x_pixels, y_pixels) {\n",
       "    // Request matplotlib to resize the figure. Matplotlib will then trigger a resize in the client,\n",
       "    // which will in turn request a refresh of the image.\n",
       "    this.send_message('resize', {'width': x_pixels, 'height': y_pixels});\n",
       "}\n",
       "\n",
       "mpl.figure.prototype.send_message = function(type, properties) {\n",
       "    properties['type'] = type;\n",
       "    properties['figure_id'] = this.id;\n",
       "    this.ws.send(JSON.stringify(properties));\n",
       "}\n",
       "\n",
       "mpl.figure.prototype.send_draw_message = function() {\n",
       "    if (!this.waiting) {\n",
       "        this.waiting = true;\n",
       "        this.ws.send(JSON.stringify({type: \"draw\", figure_id: this.id}));\n",
       "    }\n",
       "}\n",
       "\n",
       "\n",
       "mpl.figure.prototype.handle_save = function(fig, msg) {\n",
       "    var format_dropdown = fig.format_dropdown;\n",
       "    var format = format_dropdown.options[format_dropdown.selectedIndex].value;\n",
       "    fig.ondownload(fig, format);\n",
       "}\n",
       "\n",
       "\n",
       "mpl.figure.prototype.handle_resize = function(fig, msg) {\n",
       "    var size = msg['size'];\n",
       "    if (size[0] != fig.canvas.width || size[1] != fig.canvas.height) {\n",
       "        fig._resize_canvas(size[0], size[1]);\n",
       "        fig.send_message(\"refresh\", {});\n",
       "    };\n",
       "}\n",
       "\n",
       "mpl.figure.prototype.handle_rubberband = function(fig, msg) {\n",
       "    var x0 = msg['x0'] / mpl.ratio;\n",
       "    var y0 = (fig.canvas.height - msg['y0']) / mpl.ratio;\n",
       "    var x1 = msg['x1'] / mpl.ratio;\n",
       "    var y1 = (fig.canvas.height - msg['y1']) / mpl.ratio;\n",
       "    x0 = Math.floor(x0) + 0.5;\n",
       "    y0 = Math.floor(y0) + 0.5;\n",
       "    x1 = Math.floor(x1) + 0.5;\n",
       "    y1 = Math.floor(y1) + 0.5;\n",
       "    var min_x = Math.min(x0, x1);\n",
       "    var min_y = Math.min(y0, y1);\n",
       "    var width = Math.abs(x1 - x0);\n",
       "    var height = Math.abs(y1 - y0);\n",
       "\n",
       "    fig.rubberband_context.clearRect(\n",
       "        0, 0, fig.canvas.width / mpl.ratio, fig.canvas.height / mpl.ratio);\n",
       "\n",
       "    fig.rubberband_context.strokeRect(min_x, min_y, width, height);\n",
       "}\n",
       "\n",
       "mpl.figure.prototype.handle_figure_label = function(fig, msg) {\n",
       "    // Updates the figure title.\n",
       "    fig.header.textContent = msg['label'];\n",
       "}\n",
       "\n",
       "mpl.figure.prototype.handle_cursor = function(fig, msg) {\n",
       "    var cursor = msg['cursor'];\n",
       "    switch(cursor)\n",
       "    {\n",
       "    case 0:\n",
       "        cursor = 'pointer';\n",
       "        break;\n",
       "    case 1:\n",
       "        cursor = 'default';\n",
       "        break;\n",
       "    case 2:\n",
       "        cursor = 'crosshair';\n",
       "        break;\n",
       "    case 3:\n",
       "        cursor = 'move';\n",
       "        break;\n",
       "    }\n",
       "    fig.rubberband_canvas.style.cursor = cursor;\n",
       "}\n",
       "\n",
       "mpl.figure.prototype.handle_message = function(fig, msg) {\n",
       "    fig.message.textContent = msg['message'];\n",
       "}\n",
       "\n",
       "mpl.figure.prototype.handle_draw = function(fig, msg) {\n",
       "    // Request the server to send over a new figure.\n",
       "    fig.send_draw_message();\n",
       "}\n",
       "\n",
       "mpl.figure.prototype.handle_image_mode = function(fig, msg) {\n",
       "    fig.image_mode = msg['mode'];\n",
       "}\n",
       "\n",
       "mpl.figure.prototype.updated_canvas_event = function() {\n",
       "    // Called whenever the canvas gets updated.\n",
       "    this.send_message(\"ack\", {});\n",
       "}\n",
       "\n",
       "// A function to construct a web socket function for onmessage handling.\n",
       "// Called in the figure constructor.\n",
       "mpl.figure.prototype._make_on_message_function = function(fig) {\n",
       "    return function socket_on_message(evt) {\n",
       "        if (evt.data instanceof Blob) {\n",
       "            /* FIXME: We get \"Resource interpreted as Image but\n",
       "             * transferred with MIME type text/plain:\" errors on\n",
       "             * Chrome.  But how to set the MIME type?  It doesn't seem\n",
       "             * to be part of the websocket stream */\n",
       "            evt.data.type = \"image/png\";\n",
       "\n",
       "            /* Free the memory for the previous frames */\n",
       "            if (fig.imageObj.src) {\n",
       "                (window.URL || window.webkitURL).revokeObjectURL(\n",
       "                    fig.imageObj.src);\n",
       "            }\n",
       "\n",
       "            fig.imageObj.src = (window.URL || window.webkitURL).createObjectURL(\n",
       "                evt.data);\n",
       "            fig.updated_canvas_event();\n",
       "            fig.waiting = false;\n",
       "            return;\n",
       "        }\n",
       "        else if (typeof evt.data === 'string' && evt.data.slice(0, 21) == \"data:image/png;base64\") {\n",
       "            fig.imageObj.src = evt.data;\n",
       "            fig.updated_canvas_event();\n",
       "            fig.waiting = false;\n",
       "            return;\n",
       "        }\n",
       "\n",
       "        var msg = JSON.parse(evt.data);\n",
       "        var msg_type = msg['type'];\n",
       "\n",
       "        // Call the  \"handle_{type}\" callback, which takes\n",
       "        // the figure and JSON message as its only arguments.\n",
       "        try {\n",
       "            var callback = fig[\"handle_\" + msg_type];\n",
       "        } catch (e) {\n",
       "            console.log(\"No handler for the '\" + msg_type + \"' message type: \", msg);\n",
       "            return;\n",
       "        }\n",
       "\n",
       "        if (callback) {\n",
       "            try {\n",
       "                // console.log(\"Handling '\" + msg_type + \"' message: \", msg);\n",
       "                callback(fig, msg);\n",
       "            } catch (e) {\n",
       "                console.log(\"Exception inside the 'handler_\" + msg_type + \"' callback:\", e, e.stack, msg);\n",
       "            }\n",
       "        }\n",
       "    };\n",
       "}\n",
       "\n",
       "// from http://stackoverflow.com/questions/1114465/getting-mouse-location-in-canvas\n",
       "mpl.findpos = function(e) {\n",
       "    //this section is from http://www.quirksmode.org/js/events_properties.html\n",
       "    var targ;\n",
       "    if (!e)\n",
       "        e = window.event;\n",
       "    if (e.target)\n",
       "        targ = e.target;\n",
       "    else if (e.srcElement)\n",
       "        targ = e.srcElement;\n",
       "    if (targ.nodeType == 3) // defeat Safari bug\n",
       "        targ = targ.parentNode;\n",
       "\n",
       "    // jQuery normalizes the pageX and pageY\n",
       "    // pageX,Y are the mouse positions relative to the document\n",
       "    // offset() returns the position of the element relative to the document\n",
       "    var x = e.pageX - $(targ).offset().left;\n",
       "    var y = e.pageY - $(targ).offset().top;\n",
       "\n",
       "    return {\"x\": x, \"y\": y};\n",
       "};\n",
       "\n",
       "/*\n",
       " * return a copy of an object with only non-object keys\n",
       " * we need this to avoid circular references\n",
       " * http://stackoverflow.com/a/24161582/3208463\n",
       " */\n",
       "function simpleKeys (original) {\n",
       "  return Object.keys(original).reduce(function (obj, key) {\n",
       "    if (typeof original[key] !== 'object')\n",
       "        obj[key] = original[key]\n",
       "    return obj;\n",
       "  }, {});\n",
       "}\n",
       "\n",
       "mpl.figure.prototype.mouse_event = function(event, name) {\n",
       "    var canvas_pos = mpl.findpos(event)\n",
       "\n",
       "    if (name === 'button_press')\n",
       "    {\n",
       "        this.canvas.focus();\n",
       "        this.canvas_div.focus();\n",
       "    }\n",
       "\n",
       "    var x = canvas_pos.x * mpl.ratio;\n",
       "    var y = canvas_pos.y * mpl.ratio;\n",
       "\n",
       "    this.send_message(name, {x: x, y: y, button: event.button,\n",
       "                             step: event.step,\n",
       "                             guiEvent: simpleKeys(event)});\n",
       "\n",
       "    /* This prevents the web browser from automatically changing to\n",
       "     * the text insertion cursor when the button is pressed.  We want\n",
       "     * to control all of the cursor setting manually through the\n",
       "     * 'cursor' event from matplotlib */\n",
       "    event.preventDefault();\n",
       "    return false;\n",
       "}\n",
       "\n",
       "mpl.figure.prototype._key_event_extra = function(event, name) {\n",
       "    // Handle any extra behaviour associated with a key event\n",
       "}\n",
       "\n",
       "mpl.figure.prototype.key_event = function(event, name) {\n",
       "\n",
       "    // Prevent repeat events\n",
       "    if (name == 'key_press')\n",
       "    {\n",
       "        if (event.which === this._key)\n",
       "            return;\n",
       "        else\n",
       "            this._key = event.which;\n",
       "    }\n",
       "    if (name == 'key_release')\n",
       "        this._key = null;\n",
       "\n",
       "    var value = '';\n",
       "    if (event.ctrlKey && event.which != 17)\n",
       "        value += \"ctrl+\";\n",
       "    if (event.altKey && event.which != 18)\n",
       "        value += \"alt+\";\n",
       "    if (event.shiftKey && event.which != 16)\n",
       "        value += \"shift+\";\n",
       "\n",
       "    value += 'k';\n",
       "    value += event.which.toString();\n",
       "\n",
       "    this._key_event_extra(event, name);\n",
       "\n",
       "    this.send_message(name, {key: value,\n",
       "                             guiEvent: simpleKeys(event)});\n",
       "    return false;\n",
       "}\n",
       "\n",
       "mpl.figure.prototype.toolbar_button_onclick = function(name) {\n",
       "    if (name == 'download') {\n",
       "        this.handle_save(this, null);\n",
       "    } else {\n",
       "        this.send_message(\"toolbar_button\", {name: name});\n",
       "    }\n",
       "};\n",
       "\n",
       "mpl.figure.prototype.toolbar_button_onmouseover = function(tooltip) {\n",
       "    this.message.textContent = tooltip;\n",
       "};\n",
       "mpl.toolbar_items = [[\"Home\", \"Reset original view\", \"fa fa-home icon-home\", \"home\"], [\"Back\", \"Back to previous view\", \"fa fa-arrow-left icon-arrow-left\", \"back\"], [\"Forward\", \"Forward to next view\", \"fa fa-arrow-right icon-arrow-right\", \"forward\"], [\"\", \"\", \"\", \"\"], [\"Pan\", \"Pan axes with left mouse, zoom with right\", \"fa fa-arrows icon-move\", \"pan\"], [\"Zoom\", \"Zoom to rectangle\", \"fa fa-square-o icon-check-empty\", \"zoom\"], [\"\", \"\", \"\", \"\"], [\"Download\", \"Download plot\", \"fa fa-floppy-o icon-save\", \"download\"]];\n",
       "\n",
       "mpl.extensions = [\"eps\", \"jpeg\", \"pdf\", \"png\", \"ps\", \"raw\", \"svg\", \"tif\"];\n",
       "\n",
       "mpl.default_extension = \"png\";var comm_websocket_adapter = function(comm) {\n",
       "    // Create a \"websocket\"-like object which calls the given IPython comm\n",
       "    // object with the appropriate methods. Currently this is a non binary\n",
       "    // socket, so there is still some room for performance tuning.\n",
       "    var ws = {};\n",
       "\n",
       "    ws.close = function() {\n",
       "        comm.close()\n",
       "    };\n",
       "    ws.send = function(m) {\n",
       "        //console.log('sending', m);\n",
       "        comm.send(m);\n",
       "    };\n",
       "    // Register the callback with on_msg.\n",
       "    comm.on_msg(function(msg) {\n",
       "        //console.log('receiving', msg['content']['data'], msg);\n",
       "        // Pass the mpl event to the overridden (by mpl) onmessage function.\n",
       "        ws.onmessage(msg['content']['data'])\n",
       "    });\n",
       "    return ws;\n",
       "}\n",
       "\n",
       "mpl.mpl_figure_comm = function(comm, msg) {\n",
       "    // This is the function which gets called when the mpl process\n",
       "    // starts-up an IPython Comm through the \"matplotlib\" channel.\n",
       "\n",
       "    var id = msg.content.data.id;\n",
       "    // Get hold of the div created by the display call when the Comm\n",
       "    // socket was opened in Python.\n",
       "    var element = $(\"#\" + id);\n",
       "    var ws_proxy = comm_websocket_adapter(comm)\n",
       "\n",
       "    function ondownload(figure, format) {\n",
       "        window.open(figure.imageObj.src);\n",
       "    }\n",
       "\n",
       "    var fig = new mpl.figure(id, ws_proxy,\n",
       "                           ondownload,\n",
       "                           element.get(0));\n",
       "\n",
       "    // Call onopen now - mpl needs it, as it is assuming we've passed it a real\n",
       "    // web socket which is closed, not our websocket->open comm proxy.\n",
       "    ws_proxy.onopen();\n",
       "\n",
       "    fig.parent_element = element.get(0);\n",
       "    fig.cell_info = mpl.find_output_cell(\"<div id='\" + id + \"'></div>\");\n",
       "    if (!fig.cell_info) {\n",
       "        console.error(\"Failed to find cell for figure\", id, fig);\n",
       "        return;\n",
       "    }\n",
       "\n",
       "    var output_index = fig.cell_info[2]\n",
       "    var cell = fig.cell_info[0];\n",
       "\n",
       "};\n",
       "\n",
       "mpl.figure.prototype.handle_close = function(fig, msg) {\n",
       "    var width = fig.canvas.width/mpl.ratio\n",
       "    fig.root.unbind('remove')\n",
       "\n",
       "    // Update the output cell to use the data from the current canvas.\n",
       "    fig.push_to_output();\n",
       "    var dataURL = fig.canvas.toDataURL();\n",
       "    // Re-enable the keyboard manager in IPython - without this line, in FF,\n",
       "    // the notebook keyboard shortcuts fail.\n",
       "    IPython.keyboard_manager.enable()\n",
       "    $(fig.parent_element).html('<img src=\"' + dataURL + '\" width=\"' + width + '\">');\n",
       "    fig.close_ws(fig, msg);\n",
       "}\n",
       "\n",
       "mpl.figure.prototype.close_ws = function(fig, msg){\n",
       "    fig.send_message('closing', msg);\n",
       "    // fig.ws.close()\n",
       "}\n",
       "\n",
       "mpl.figure.prototype.push_to_output = function(remove_interactive) {\n",
       "    // Turn the data on the canvas into data in the output cell.\n",
       "    var width = this.canvas.width/mpl.ratio\n",
       "    var dataURL = this.canvas.toDataURL();\n",
       "    this.cell_info[1]['text/html'] = '<img src=\"' + dataURL + '\" width=\"' + width + '\">';\n",
       "}\n",
       "\n",
       "mpl.figure.prototype.updated_canvas_event = function() {\n",
       "    // Tell IPython that the notebook contents must change.\n",
       "    IPython.notebook.set_dirty(true);\n",
       "    this.send_message(\"ack\", {});\n",
       "    var fig = this;\n",
       "    // Wait a second, then push the new image to the DOM so\n",
       "    // that it is saved nicely (might be nice to debounce this).\n",
       "    setTimeout(function () { fig.push_to_output() }, 1000);\n",
       "}\n",
       "\n",
       "mpl.figure.prototype._init_toolbar = function() {\n",
       "    var fig = this;\n",
       "\n",
       "    var nav_element = $('<div/>');\n",
       "    nav_element.attr('style', 'width: 100%');\n",
       "    this.root.append(nav_element);\n",
       "\n",
       "    // Define a callback function for later on.\n",
       "    function toolbar_event(event) {\n",
       "        return fig.toolbar_button_onclick(event['data']);\n",
       "    }\n",
       "    function toolbar_mouse_event(event) {\n",
       "        return fig.toolbar_button_onmouseover(event['data']);\n",
       "    }\n",
       "\n",
       "    for(var toolbar_ind in mpl.toolbar_items){\n",
       "        var name = mpl.toolbar_items[toolbar_ind][0];\n",
       "        var tooltip = mpl.toolbar_items[toolbar_ind][1];\n",
       "        var image = mpl.toolbar_items[toolbar_ind][2];\n",
       "        var method_name = mpl.toolbar_items[toolbar_ind][3];\n",
       "\n",
       "        if (!name) { continue; };\n",
       "\n",
       "        var button = $('<button class=\"btn btn-default\" href=\"#\" title=\"' + name + '\"><i class=\"fa ' + image + ' fa-lg\"></i></button>');\n",
       "        button.click(method_name, toolbar_event);\n",
       "        button.mouseover(tooltip, toolbar_mouse_event);\n",
       "        nav_element.append(button);\n",
       "    }\n",
       "\n",
       "    // Add the status bar.\n",
       "    var status_bar = $('<span class=\"mpl-message\" style=\"text-align:right; float: right;\"/>');\n",
       "    nav_element.append(status_bar);\n",
       "    this.message = status_bar[0];\n",
       "\n",
       "    // Add the close button to the window.\n",
       "    var buttongrp = $('<div class=\"btn-group inline pull-right\"></div>');\n",
       "    var button = $('<button class=\"btn btn-mini btn-primary\" href=\"#\" title=\"Stop Interaction\"><i class=\"fa fa-power-off icon-remove icon-large\"></i></button>');\n",
       "    button.click(function (evt) { fig.handle_close(fig, {}); } );\n",
       "    button.mouseover('Stop Interaction', toolbar_mouse_event);\n",
       "    buttongrp.append(button);\n",
       "    var titlebar = this.root.find($('.ui-dialog-titlebar'));\n",
       "    titlebar.prepend(buttongrp);\n",
       "}\n",
       "\n",
       "mpl.figure.prototype._root_extra_style = function(el){\n",
       "    var fig = this\n",
       "    el.on(\"remove\", function(){\n",
       "\tfig.close_ws(fig, {});\n",
       "    });\n",
       "}\n",
       "\n",
       "mpl.figure.prototype._canvas_extra_style = function(el){\n",
       "    // this is important to make the div 'focusable\n",
       "    el.attr('tabindex', 0)\n",
       "    // reach out to IPython and tell the keyboard manager to turn it's self\n",
       "    // off when our div gets focus\n",
       "\n",
       "    // location in version 3\n",
       "    if (IPython.notebook.keyboard_manager) {\n",
       "        IPython.notebook.keyboard_manager.register_events(el);\n",
       "    }\n",
       "    else {\n",
       "        // location in version 2\n",
       "        IPython.keyboard_manager.register_events(el);\n",
       "    }\n",
       "\n",
       "}\n",
       "\n",
       "mpl.figure.prototype._key_event_extra = function(event, name) {\n",
       "    var manager = IPython.notebook.keyboard_manager;\n",
       "    if (!manager)\n",
       "        manager = IPython.keyboard_manager;\n",
       "\n",
       "    // Check for shift+enter\n",
       "    if (event.shiftKey && event.which == 13) {\n",
       "        this.canvas_div.blur();\n",
       "        // select the cell after this one\n",
       "        var index = IPython.notebook.find_cell_index(this.cell_info[0]);\n",
       "        IPython.notebook.select(index + 1);\n",
       "    }\n",
       "}\n",
       "\n",
       "mpl.figure.prototype.handle_save = function(fig, msg) {\n",
       "    fig.ondownload(fig, null);\n",
       "}\n",
       "\n",
       "\n",
       "mpl.find_output_cell = function(html_output) {\n",
       "    // Return the cell and output element which can be found *uniquely* in the notebook.\n",
       "    // Note - this is a bit hacky, but it is done because the \"notebook_saving.Notebook\"\n",
       "    // IPython event is triggered only after the cells have been serialised, which for\n",
       "    // our purposes (turning an active figure into a static one), is too late.\n",
       "    var cells = IPython.notebook.get_cells();\n",
       "    var ncells = cells.length;\n",
       "    for (var i=0; i<ncells; i++) {\n",
       "        var cell = cells[i];\n",
       "        if (cell.cell_type === 'code'){\n",
       "            for (var j=0; j<cell.output_area.outputs.length; j++) {\n",
       "                var data = cell.output_area.outputs[j];\n",
       "                if (data.data) {\n",
       "                    // IPython >= 3 moved mimebundle to data attribute of output\n",
       "                    data = data.data;\n",
       "                }\n",
       "                if (data['text/html'] == html_output) {\n",
       "                    return [cell, data, j];\n",
       "                }\n",
       "            }\n",
       "        }\n",
       "    }\n",
       "}\n",
       "\n",
       "// Register the function which deals with the matplotlib target/channel.\n",
       "// The kernel may be null if the page has been refreshed.\n",
       "if (IPython.notebook.kernel != null) {\n",
       "    IPython.notebook.kernel.comm_manager.register_target('matplotlib', mpl.mpl_figure_comm);\n",
       "}\n"
      ],
      "text/plain": [
       "<IPython.core.display.Javascript object>"
      ]
     },
     "metadata": {},
     "output_type": "display_data"
    },
    {
     "data": {
      "text/html": [
       "<img src=\"data:image/png;base64,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\" width=\"1000\">"
      ],
      "text/plain": [
       "<IPython.core.display.HTML object>"
      ]
     },
     "metadata": {},
     "output_type": "display_data"
    }
   ],
   "source": [
    "dual_train_plots(results.index,\n",
    "                 results.cost, results.val, \n",
    "                 results['eff_val'].apply(lambda x: x.eff_rate),\n",
    "                 results['eff_val'].apply(lambda x: x.fp_rate))\n",
    "plt.tight_layout()\n",
    "plt.savefig(str(output / f'{name}_stats_a.png'))"
   ]
  },
  {
   "cell_type": "markdown",
   "metadata": {},
   "source": [
    "Go ahead and save the final model (even though it was also saved above):"
   ]
  },
  {
   "cell_type": "markdown",
   "metadata": {},
   "source": [
    "Save the output results:"
   ]
  },
  {
   "cell_type": "code",
   "execution_count": 1,
   "metadata": {},
   "outputs": [],
   "source": [
    "##torch.cuda.empty_cache()\"\n",
    "##quit()\n",
    "\n"
   ]
  },
  {
   "cell_type": "code",
   "execution_count": null,
   "metadata": {},
   "outputs": [],
   "source": []
  }
 ],
 "metadata": {
  "kernelspec": {
   "display_name": "june2020-gpu",
   "language": "python",
   "name": "june2020-gpu"
  },
  "language_info": {
   "codemirror_mode": {
    "name": "ipython",
    "version": 3
   },
   "file_extension": ".py",
   "mimetype": "text/x-python",
   "name": "python",
   "nbconvert_exporter": "python",
   "pygments_lexer": "ipython3",
   "version": "3.7.6"
  }
 },
 "nbformat": 4,
 "nbformat_minor": 2
}
