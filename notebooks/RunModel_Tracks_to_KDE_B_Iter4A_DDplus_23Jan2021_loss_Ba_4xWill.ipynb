{
 "cells": [
  {
   "cell_type": "code",
   "execution_count": 1,
   "metadata": {},
   "outputs": [],
   "source": [
    "##%matplotlib widget\n",
    "## with %matplotlib notebook: seems to require ipympl as part of environment, either\n",
    "## part of the conda environment or \"pip install ipympl\"\n",
    "## otherwise, does not show ANY plots in note\"book, plt.savefig() works\n",
    "%matplotlib notebook  \n",
    "##%matplotlib inline    ## --plt.savefig()  works, but re-sizing does NOT\n"
   ]
  },
  {
   "cell_type": "markdown",
   "metadata": {},
   "source": [
    "This notebook is the second attempt to read in track information and use it to predict the KDE used as input to PvFinder. This time, we are reading in poca KDEs rather than the original KDEs. \n",
    "\n",
    "collectdata_kde_C.py uses poca_z, poca_x, poca_y, major_axis_x, major_axis_y, and major_axis_z as the six track parameters (for the moment)\n"
   ]
  },
  {
   "cell_type": "markdown",
   "metadata": {},
   "source": [
    "Check the current GPU usage. Please try to be nice!"
   ]
  },
  {
   "cell_type": "code",
   "execution_count": 2,
   "metadata": {},
   "outputs": [
    {
     "name": "stdout",
     "output_type": "stream",
     "text": [
      "Sat Jan 23 21:12:41 2021       \r\n",
      "+-----------------------------------------------------------------------------+\r\n",
      "| NVIDIA-SMI 450.36.06    Driver Version: 450.36.06    CUDA Version: 11.0     |\r\n",
      "|-------------------------------+----------------------+----------------------+\r\n",
      "| GPU  Name        Persistence-M| Bus-Id        Disp.A | Volatile Uncorr. ECC |\r\n",
      "| Fan  Temp  Perf  Pwr:Usage/Cap|         Memory-Usage | GPU-Util  Compute M. |\r\n",
      "|                               |                      |               MIG M. |\r\n",
      "|===============================+======================+======================|\r\n",
      "|   0  GeForce RTX 208...  On   | 00000000:18:00.0 Off |                  N/A |\r\n",
      "| 29%   35C    P8    38W / 250W |   8135MiB / 11019MiB |      0%      Default |\r\n",
      "|                               |                      |                  N/A |\r\n",
      "+-------------------------------+----------------------+----------------------+\r\n",
      "|   1  GeForce RTX 208...  On   | 00000000:3B:00.0 Off |                  N/A |\r\n",
      "| 29%   36C    P8    39W / 250W |     60MiB / 11019MiB |      0%      Default |\r\n",
      "|                               |                      |                  N/A |\r\n",
      "+-------------------------------+----------------------+----------------------+\r\n",
      "                                                                               \r\n",
      "+-----------------------------------------------------------------------------+\r\n",
      "| Processes:                                                                  |\r\n",
      "|  GPU   GI   CI        PID   Type   Process name                  GPU Memory |\r\n",
      "|        ID   ID                                                   Usage      |\r\n",
      "|=============================================================================|\r\n",
      "|    0   N/A  N/A    294245      C   ...s/june2020-gpu/bin/python     8131MiB |\r\n",
      "|    1   N/A  N/A      3736      G   /usr/bin/X                         33MiB |\r\n",
      "|    1   N/A  N/A      3790      G   /usr/bin/gnome-shell               24MiB |\r\n",
      "+-----------------------------------------------------------------------------+\r\n"
     ]
    }
   ],
   "source": [
    "!nvidia-smi"
   ]
  },
  {
   "cell_type": "markdown",
   "metadata": {},
   "source": [
    "> **WARNING**: The card numbers here are *not* the same as in CUDA. You have been warned."
   ]
  },
  {
   "cell_type": "markdown",
   "metadata": {},
   "source": [
    "This notebook is first attempt to read in track information and use it to predict the KDE used as input to PvFinder.\n"
   ]
  },
  {
   "cell_type": "markdown",
   "metadata": {},
   "source": [
    "## Imports"
   ]
  },
  {
   "cell_type": "code",
   "execution_count": 3,
   "metadata": {},
   "outputs": [],
   "source": [
    "import matplotlib.pyplot as plt\n",
    "import numpy as np\n",
    "import time\n",
    "import torch\n",
    "import pandas as pd\n",
    "\n",
    "# Python 3 standard library\n",
    "from pathlib import Path\n",
    "\n",
    "##from torchsummary import summary"
   ]
  },
  {
   "cell_type": "markdown",
   "metadata": {},
   "source": [
    "### Set up local parameters"
   ]
  },
  {
   "cell_type": "code",
   "execution_count": 4,
   "metadata": {},
   "outputs": [],
   "source": [
    "n_epochs = 75\n",
    "\n",
    "# Name is the output file name\n",
    "\n",
    "\n",
    "\n",
    "\n",
    "\n",
    "folder = '23Jan_DDplus_KDE_B_loss_Ba_ite4A_floatAll_75epochs_3em5_4xwill'\n",
    "name   = folder\n",
    "\n",
    "# Make an output folder named \"name\" (change if you want)\n",
    "\n",
    "## Special instructions for those working on goofy at UC\n",
    "## Please be very careful to make sure that your folder\n",
    "## does not live in a subdirectory of your home directory\n",
    "## this disk has very little capacity. Instead, use \n",
    "## a subdirectory in /share/lazy with a symbolic link to\n",
    "## it in this (the notebooks) subdirectory\n",
    "folder = 'ML/' + folder\n",
    "output = Path(folder)\n",
    "\n",
    "\n",
    "# Size of batches\n",
    "batch_size = 48 ## batch_size = 24 ---> 4763MiB / 12066MiB on Titan V\n",
    "# How fast to learn\n",
    "learning_rate = 3e-5"
   ]
  },
  {
   "cell_type": "markdown",
   "metadata": {},
   "source": [
    "Make the output directory if it does not exist:"
   ]
  },
  {
   "cell_type": "code",
   "execution_count": 5,
   "metadata": {},
   "outputs": [],
   "source": [
    "output.mkdir(exist_ok=True)"
   ]
  },
  {
   "cell_type": "markdown",
   "metadata": {},
   "source": [
    "## Get the helper functions\n",
    "\n",
    "Add the directory with the model\n",
    "definitions to the path so we can import from it:\n",
    "\n",
    "> When you type `import X`,\n",
    "Python searches `sys.path` for a python\n",
    "file named `X.py` to import. So we need to add the model directory to the path."
   ]
  },
  {
   "cell_type": "code",
   "execution_count": 6,
   "metadata": {
    "scrolled": true
   },
   "outputs": [],
   "source": [
    "# From model/collectdata.py\n",
    "##from model.collectdata_kde_B import collect_t2kde_data\n",
    "## collectdata_kde_C should use the new poca KDE rather than the original kernel KDE\n",
    "from model.collectdata_kdeB_Ellipsoids import collect_t2kde_data\n",
    "\n",
    "\n",
    "# From model/loss.py\n",
    "##from loss import Loss\n",
    "## kde_loss_D includes botha ratio term and a chisq term, 98% ave_chisq\n",
    "## kde_loss_E adds a chi^4 term to the kde_loss_D return value\n",
    "## this is intended to emphasize the importance of values significantly different than zero\n",
    "from model.kde_loss_Ba import Loss\n",
    "\n",
    "##  TracksToKDE_Ellipsoids_SevenLayerCake has 7 hidden layers producing the 4000-bin KDE historgram\n",
    "##  It takes 9 input features (pocca centers + (A,B,C,D,E,F) . \n",
    "from model.models_kde import TracksToKDE_Ellipsoids_DDplus as Model\n",
    "\n",
    "\n",
    "from model.training_kde import trainNet, select_gpu, Results\n",
    "from model.plots import dual_train_plots, replace_in_ax"
   ]
  },
  {
   "cell_type": "code",
   "execution_count": 7,
   "metadata": {},
   "outputs": [],
   "source": [
    "# This gets built up during the run - do not rerun this cell\n",
    "results = pd.DataFrame([], columns=Results._fields)"
   ]
  },
  {
   "cell_type": "markdown",
   "metadata": {},
   "source": [
    "Set up Torch device configuration. All tensors and model parameters need to know where to be put.\n",
    "This takes a BUS ID number: The BUS ID is the same as the listing at the top of this script."
   ]
  },
  {
   "cell_type": "code",
   "execution_count": 8,
   "metadata": {},
   "outputs": [
    {
     "name": "stdout",
     "output_type": "stream",
     "text": [
      "1 available GPUs (initially using device 0):\n",
      "  0 GeForce RTX 2080 Ti\n"
     ]
    }
   ],
   "source": [
    "device = select_gpu(1)\n",
    "##device = \"cpu\""
   ]
  },
  {
   "cell_type": "markdown",
   "metadata": {},
   "source": [
    "## Loading data\n",
    "\n",
    "Load the dataset, split into parts, then move to device (see `collectdata.py` in the `../model` directory)"
   ]
  },
  {
   "cell_type": "markdown",
   "metadata": {},
   "source": [
    "# Preparing the model"
   ]
  },
  {
   "cell_type": "markdown",
   "metadata": {},
   "source": [
    "Prepare a model, use multiple GPUs if they are VISIBLE, and move the model to the device."
   ]
  },
  {
   "cell_type": "code",
   "execution_count": 9,
   "metadata": {
    "scrolled": true
   },
   "outputs": [],
   "source": [
    "##print(\"Let's use\", torch.cuda.device_count(), \"GPUs!\")\n",
    "##if torch.cuda.device_count() > 1:\n",
    "##    model = torch.nn.DataParallel(model)"
   ]
  },
  {
   "cell_type": "code",
   "execution_count": 10,
   "metadata": {},
   "outputs": [
    {
     "name": "stdout",
     "output_type": "stream",
     "text": [
      "ct, child =  0    Linear(in_features=9, out_features=50, bias=True)\n",
      "ct, child =  1    Linear(in_features=50, out_features=50, bias=True)\n",
      "ct, child =  2    Linear(in_features=50, out_features=50, bias=True)\n",
      "ct, child =  3    Linear(in_features=50, out_features=50, bias=True)\n",
      "ct, child =  4    Linear(in_features=50, out_features=50, bias=True)\n",
      "ct, child =  5    Linear(in_features=50, out_features=50, bias=True)\n",
      "ct, child =  6    Linear(in_features=50, out_features=50, bias=True)\n",
      "ct, child =  7    Linear(in_features=50, out_features=50, bias=True)\n",
      "ct, child =  8    Linear(in_features=50, out_features=50, bias=True)\n",
      "ct, child =  9    Linear(in_features=50, out_features=50, bias=True)\n",
      "ct, child =  10    Linear(in_features=50, out_features=50, bias=True)\n",
      "ct, child =  11    Linear(in_features=50, out_features=16000, bias=True)\n",
      "ct, child =  12    Conv1d(4, 25, kernel_size=(25,), stride=(1,), padding=(12,))\n",
      "ct, child =  13    Conv1d(25, 1, kernel_size=(5,), stride=(1,), padding=(2,))\n",
      "ct, child =  14    Linear(in_features=4000, out_features=4000, bias=True)\n",
      "ct, child =  15    Conv1d(25, 1, kernel_size=(15,), stride=(1,), padding=(7,))\n",
      "ct, child =  16    Dropout(p=0.15, inplace=False)\n",
      "ct, child =  17    Dropout(p=0.15, inplace=False)\n"
     ]
    }
   ],
   "source": [
    "## a comment on the web at https://pytorch.org/docs/stable/optim.html says\n",
    "\"\"\"\n",
    "If you need to move a model to GPU via .cuda(), please do so before constructing optimizers for it. \n",
    "Parameters of a model after .cuda() will be different objects with those before the call.\n",
    "\n",
    "In general, you should make sure that optimized parameters live in consistent locations when \n",
    "optimizers are constructed and used.\n",
    "\"\"\"\n",
    "## so move this here (although we are using model.to(device) not explicitly using .cuda()\n",
    "\n",
    "nOut1 = 50\n",
    "nOut2 = 50\n",
    "nOut3 = 50\n",
    "nOut4 = 50\n",
    "nOut5 = 50\n",
    "nOut6 = 50\n",
    "nOut7 = 50\n",
    "nOut8 = 50\n",
    "nOut9 = 50\n",
    "nOut10 = 50\n",
    "nOut11 = 50\n",
    "latentChannels = 4\n",
    "model = Model(nOut1,nOut2,nOut3,nOut4,nOut5,nOut6,nOut7,nOut8,nOut9,nOut10,nOut11,latentChannels)\n",
    "\n",
    "##summary(model, input_size=(4, 4000))\n",
    "##print(model.parameters)\n",
    "\n",
    "## add the following code to allow the user to freeze the some of the weights corresponding \n",
    "## to those taken from an earlier model trained with the original target histograms\n",
    "## presumably -- this leaves either the perturbative filter \"fixed\" and lets the \n",
    "## learning focus on the non-perturbative features, so get started faster, or vice versa\n",
    "ct = 0\n",
    "for child in model.children():\n",
    "  print('ct, child = ',ct, \"  \", child)\n",
    "  if ct < 0:\n",
    "    print(\"     About to set param.requires_grad=False for ct = \", ct, \"params\")\n",
    "    for param in child.parameters():\n",
    "        param.requires_grad = False \n",
    "  ct += 1\n",
    "##  mds 200121 loss = Loss(epsilon=1e-5,coefficient=1.0)\n",
    "##  loss = Loss(epsilon=1e-5,coefficient=2.5)\n",
    "##loss = Loss(epsilon=3e-5, debug=False)\n",
    "loss = Loss(epsilon=3e-5)"
   ]
  },
  {
   "cell_type": "markdown",
   "metadata": {},
   "source": [
    "Let's move the model's weight matricies to the GPU:"
   ]
  },
  {
   "cell_type": "code",
   "execution_count": 11,
   "metadata": {
    "scrolled": true
   },
   "outputs": [],
   "source": [
    "model = model.to(device)"
   ]
  },
  {
   "cell_type": "code",
   "execution_count": 12,
   "metadata": {
    "scrolled": true
   },
   "outputs": [],
   "source": [
    "optimizer = torch.optim.Adam(model.parameters(), lr=learning_rate)\n",
    "##optimizer = torch.optim.SGD(model.parameters(), lr=learning_rate)"
   ]
  },
  {
   "cell_type": "code",
   "execution_count": 13,
   "metadata": {
    "scrolled": false
   },
   "outputs": [
    {
     "name": "stdout",
     "output_type": "stream",
     "text": [
      "output =  ML/23Jan_DDplus_KDE_B_loss_Ba_ite4A_floatAll_75epochs_3em5_4xwill\n",
      "for model_dict\n",
      "index, k =   0    layer1.weight\n",
      "index, k =   1    layer1.bias\n",
      "index, k =   2    layer2.weight\n",
      "index, k =   3    layer2.bias\n",
      "index, k =   4    layer3.weight\n",
      "index, k =   5    layer3.bias\n",
      "index, k =   6    layer4.weight\n",
      "index, k =   7    layer4.bias\n",
      "index, k =   8    layer5.weight\n",
      "index, k =   9    layer5.bias\n",
      "index, k =   10    layer6.weight\n",
      "index, k =   11    layer6.bias\n",
      "index, k =   12    layer7.weight\n",
      "index, k =   13    layer7.bias\n",
      "index, k =   14    layer8.weight\n",
      "index, k =   15    layer8.bias\n",
      "index, k =   16    layer9.weight\n",
      "index, k =   17    layer9.bias\n",
      "index, k =   18    layer10.weight\n",
      "index, k =   19    layer10.bias\n",
      "index, k =   20    layer11.weight\n",
      "index, k =   21    layer11.bias\n",
      "index, k =   22    layer12new.weight\n",
      "index, k =   23    layer12new.bias\n",
      "index, k =   24    conv1.weight\n",
      "index, k =   25    conv1.bias\n",
      "index, k =   26    conv2.weight\n",
      "index, k =   27    conv2.bias\n",
      "index, k =   28    fc1.weight\n",
      "index, k =   29    fc1.bias\n",
      "index, k =   30    finalFilter.weight\n",
      "index, k =   31    finalFilter.bias\n",
      "dict_name =  ML/23Jan_DDplus_KDE_B_loss_Ba_iter3A_floatAll_50epochs_3em5_4xwill/23Jan_DDplus_KDE_B_loss_Ba_iter3A_floatAll_50epochs_3em5_4xwill_final.pyt\n",
      " \n",
      "  for pretrained_dict\n",
      "index, k =   0    layer1.weight\n",
      "index, k =   1    layer1.bias\n",
      "index, k =   2    layer2.weight\n",
      "index, k =   3    layer2.bias\n",
      "index, k =   4    layer3.weight\n",
      "index, k =   5    layer3.bias\n",
      "index, k =   6    layer4.weight\n",
      "index, k =   7    layer4.bias\n",
      "index, k =   8    layer5.weight\n",
      "index, k =   9    layer5.bias\n",
      "index, k =   10    layer6.weight\n",
      "index, k =   11    layer6.bias\n",
      "index, k =   12    layer7.weight\n",
      "index, k =   13    layer7.bias\n",
      "index, k =   14    layer8.weight\n",
      "index, k =   15    layer8.bias\n",
      "index, k =   16    layer9.weight\n",
      "index, k =   17    layer9.bias\n",
      "index, k =   18    layer10.weight\n",
      "index, k =   19    layer10.bias\n",
      "index, k =   20    layer11.weight\n",
      "index, k =   21    layer11.bias\n",
      "index, k =   22    layer12new.weight\n",
      "index, k =   23    layer12new.bias\n",
      "index, k =   24    conv1.weight\n",
      "index, k =   25    conv1.bias\n",
      "index, k =   26    conv2.weight\n",
      "index, k =   27    conv2.bias\n",
      "index, k =   28    fc1.weight\n",
      "index, k =   29    fc1.bias\n",
      "index, k =   30    finalFilter.weight\n",
      "index, k =   31    finalFilter.bias\n",
      "pretrained_dict iterated\n"
     ]
    },
    {
     "data": {
      "text/plain": [
       "<All keys matched successfully>"
      ]
     },
     "execution_count": 13,
     "metadata": {},
     "output_type": "execute_result"
    }
   ],
   "source": [
    "print('output = ',output)\n",
    "##print('oldOutput = ',oldOutput)\n",
    "##  use the first four layers from a pre-existing model\n",
    "##  see example at https://discuss.pytorch.org/t/how-to-load-part-of-pre-trained-model/1113\n",
    "\n",
    "##   ML -> /share/lazy/sokoloff/ML\n",
    "model_dict = model.state_dict()\n",
    "## mds 190725 for debugging\n",
    "print(\"for model_dict\")\n",
    "index = 0\n",
    "for k,v in model_dict.items():\n",
    "    print(\"index, k =  \",index,\"  \",k)\n",
    "    index = index+1\n",
    "##    print(\"value = \", v)\n",
    " \n",
    "updated_dict = model_dict\n",
    "##print(\"updated_dict = \",updated_dict)\n",
    "## when starting \"ab initio\", reduce biases as the bias gets summed for each track\n",
    "## contributing to the predicted KDE\n",
    "updated_dict[\"layer1.bias\"] = 0.005*model_dict[\"layer1.bias\"]\n",
    "updated_dict[\"layer2.bias\"] = 0.005*model_dict[\"layer2.bias\"]\n",
    "updated_dict[\"layer3.bias\"] = 0.005*model_dict[\"layer3.bias\"]\n",
    "updated_dict[\"layer4.bias\"] = 0.005*model_dict[\"layer4.bias\"]\n",
    "updated_dict[\"layer5.bias\"] = 0.005*model_dict[\"layer5.bias\"]\n",
    "updated_dict[\"layer6.bias\"] = 0.005*model_dict[\"layer6.bias\"]\n",
    "updated_dict[\"layer7.bias\"] = 0.005*model_dict[\"layer7.bias\"]\n",
    "updated_dict[\"layer8.bias\"] = 0.005*model_dict[\"layer8.bias\"]\n",
    "updated_dict[\"layer9.bias\"] = 0.005*model_dict[\"layer9.bias\"]\n",
    "updated_dict[\"layer10.bias\"] = 0.005*model_dict[\"layer10.bias\"]\n",
    "updated_dict[\"layer11.bias\"] = 0.005*model_dict[\"layer11.bias\"]\n",
    "\n",
    "model.load_state_dict(updated_dict,strict=False)\n",
    "\n",
    "model_dict = model.state_dict()\n",
    "##print(\"updated model_dict = \",model_dict)\n",
    "\n",
    "## print(\" \\n\",\"  for pretrained_dict\")\n",
    "## index = 0\n",
    "##for k,v in pretrained_dict.items():\n",
    "##    print(\"index, k =  \",index,\"  \",k)\n",
    "##    index = index+1\n",
    "## mds  \n",
    "\n",
    "##pretrained_dict = torch.load('ML/29July2020_Trks_to_KDE_C_lossB_100epochs_b64_1m3_nOut_50x50/29July2020_Trks_to_KDE_C_lossB_100epochs_b64_1m3_nOut_50x50_final.pyt')\n",
    "##print(\"model_dict instantiated\")\n",
    "# 1. filter out unnecessary keys\n",
    "##pretrained_dict = {k: v for k, v in pretrained_dict.items() if k in model_dict}\n",
    "##print(\"pretrained_dict iterated\")\n",
    "# 2. overwrite entries in the existing state dict\n",
    "##model_dict.update(pretrained_dict) \n",
    "##\n",
    "#   when starting from a model with a fully connected last layer rather than a convolutional layer\n",
    "# 3. load the new state dict\n",
    "#   need to use strict=False as the two models state model attributes do not agree exactly\n",
    "#   see https://pytorch.org/docs/master/_modules/torch/nn/modules/module.html#Module.load_state_dict\n",
    "\n",
    "##model.load_state_dict(pretrained_dict,strict=False)\n",
    "\n",
    "## print('model_dict =    ', model_dict)\n",
    "\n",
    "## finished at training cost = 1.46, validation cost = 1.50\n",
    "##d_folder = '25December__DDplus_loss_Ba_iter7_floatAll_800epochs_4em6'\n",
    "d_folder = '23Jan_DDplus_KDE_B_loss_Ba_iter3A_floatAll_50epochs_3em5_4xwill'\n",
    "d_name = d_folder\n",
    "suffix = 'final'\n",
    "dict_name = 'ML/' + d_folder + '/' + d_name + '_'+ suffix + '.pyt'\n",
    "print('dict_name = ',dict_name)\n",
    "pretrained_dict = torch.load(dict_name)\n",
    "\n",
    "print(\" \")\n",
    "print(\"  for pretrained_dict\")\n",
    "index = 0\n",
    "for k,v in pretrained_dict.items():\n",
    "    print(\"index, k =  \",index,\"  \",k)\n",
    "    index = index+1\n",
    " \n",
    "\n",
    "##print(\"model_dict instantiated\")\n",
    "# 1. filter out unnecessary keys\n",
    "pretrained_dict = {k: v for k, v in pretrained_dict.items() if k in model_dict}\n",
    "print(\"pretrained_dict iterated\")\n",
    "# 2. overwrite entries in the existing state dict\n",
    "model_dict.update(pretrained_dict) \n",
    "##\n",
    "#   when starting from a model with a fully connected last layer rather than a convolutional layer\n",
    "# 3. load the new state dict\n",
    "#   need to use strict=False as the two models state model attributes do not agree exactly\n",
    "#   see https://pytorch.org/docs/master/_modules/torch/nn/modules/module.html#Module.load_state_dict\n",
    "\n",
    "model.load_state_dict(pretrained_dict,strict=False)\n",
    "\n"
   ]
  },
  {
   "cell_type": "code",
   "execution_count": 14,
   "metadata": {},
   "outputs": [],
   "source": [
    "##print('validation.dataset.tensors = ',validation.dataset.tensors)\n",
    "fig_size = plt.rcParams[\"figure.figsize\"]\n",
    "fig_size[0] = 10\n",
    "fig_size[1] = 4\n",
    "plt.rcParams[\"figure.figsize\"] = fig_size"
   ]
  },
  {
   "cell_type": "code",
   "execution_count": 15,
   "metadata": {
    "scrolled": false
   },
   "outputs": [
    {
     "name": "stdout",
     "output_type": "stream",
     "text": [
      "Loading data...\n",
      "pocaMx.shape =  (80000,)\n",
      "nEvts =  80000\n",
      "len(pocaMx[0]) =  199\n",
      "len(pocaMx[1]) =  25\n",
      "len(pocaMx[2]) =  369\n",
      "len(pocaMx[3]) =  143\n",
      "len(pocaMx[4]) =  160\n",
      "majorAxis.shape =  (80000, 3)\n",
      "minorAxis_1.shape =  (80000, 3)\n",
      "minorAxis_2.shape =  (80000, 3)\n",
      "have entered six_ellipsoid_parameters\n",
      "  \n",
      " \n",
      "  nEvts =  80000\n",
      " iEvt, nTrks =  0 199\n",
      " iEvt, nTrks =  1 25\n",
      " iEvt, nTrks =  2 369\n",
      " iEvt, nTrks =  3 143\n",
      " iEvt, nTrks =  4 160\n",
      " iEvt, nTrks =  5 260\n",
      " iEvt, nTrks =  6 237\n",
      " iEvt, nTrks =  7 327\n",
      " iEvt, nTrks =  8 178\n",
      " iEvt, nTrks =  9 106\n",
      "A.shape =  (80000,)\n",
      "majorAxis[iTrk][0][0] =  0.00045611936\n",
      "majorAxis[iTrk][1][0] =  -4.8292455e-05\n",
      "majorAxis[iTrk][2][0] =  0.090019904\n",
      "minorAxis_1[iTrk][0][0] =  -1.8602173\n",
      "minorAxis_1[iTrk][1][0] =  -17.569641\n",
      "minorAxis_1[iTrk][2][0] =  4.7891795e-08\n",
      "minorAxis_2[iTrk][0][0] =  -17.569414\n",
      "minorAxis_2[iTrk][1][0] =  1.8601931\n",
      "minorAxis_2[iTrk][2][0] =  0.0900199\n",
      "  \n",
      "majorAxis[iTrk][0][0] =  0.002360258\n",
      "majorAxis[iTrk][1][0] =  -0.007426616\n",
      "majorAxis[iTrk][2][0] =  0.3710108\n",
      "minorAxis_1[iTrk][0][0] =  -16.837948\n",
      "minorAxis_1[iTrk][1][0] =  -5.3512807\n",
      "minorAxis_1[iTrk][2][0] =  8.157131e-09\n",
      "minorAxis_2[iTrk][0][0] =  -5.3501005\n",
      "minorAxis_2[iTrk][1][0] =  16.834236\n",
      "minorAxis_2[iTrk][2][0] =  0.3710108\n",
      "  \n",
      "majorAxis[iTrk][0][0] =  6.220712e-05\n",
      "majorAxis[iTrk][1][0] =  -4.4594188e-05\n",
      "majorAxis[iTrk][2][0] =  0.036773544\n",
      "minorAxis_1[iTrk][0][0] =  10.293747\n",
      "minorAxis_1[iTrk][1][0] =  14.359369\n",
      "minorAxis_1[iTrk][2][0] =  1.571041e-06\n",
      "minorAxis_2[iTrk][0][0] =  14.359338\n",
      "minorAxis_2[iTrk][1][0] =  -10.293725\n",
      "minorAxis_2[iTrk][2][0] =  -0.03677354\n",
      "  \n",
      "len(X) =  80000\n",
      "len(Xlist) =  1\n",
      "Loaded /share/lazy/will/data/June30_2020_80k_1.h5 in 123.3 s\n",
      "pocaMx.shape =  (80000,)\n",
      "nEvts =  80000\n",
      "len(pocaMx[0]) =  222\n",
      "len(pocaMx[1]) =  133\n",
      "len(pocaMx[2]) =  259\n",
      "len(pocaMx[3]) =  114\n",
      "len(pocaMx[4]) =  143\n",
      "majorAxis.shape =  (80000, 3)\n",
      "minorAxis_1.shape =  (80000, 3)\n",
      "minorAxis_2.shape =  (80000, 3)\n",
      "have entered six_ellipsoid_parameters\n",
      "  \n",
      " \n",
      "  nEvts =  80000\n",
      " iEvt, nTrks =  0 222\n",
      " iEvt, nTrks =  1 133\n",
      " iEvt, nTrks =  2 259\n",
      " iEvt, nTrks =  3 114\n",
      " iEvt, nTrks =  4 143\n",
      " iEvt, nTrks =  5 136\n",
      " iEvt, nTrks =  6 397\n",
      " iEvt, nTrks =  7 370\n",
      " iEvt, nTrks =  8 97\n",
      " iEvt, nTrks =  9 67\n",
      "A.shape =  (80000,)\n",
      "majorAxis[iTrk][0][0] =  -0.001036478\n",
      "majorAxis[iTrk][1][0] =  0.0009833863\n",
      "majorAxis[iTrk][2][0] =  0.15887721\n",
      "minorAxis_1[iTrk][0][0] =  -12.160475\n",
      "minorAxis_1[iTrk][1][0] =  -12.817002\n",
      "minorAxis_1[iTrk][2][0] =  0.0\n",
      "minorAxis_2[iTrk][0][0] =  -12.816484\n",
      "minorAxis_2[iTrk][1][0] =  12.159985\n",
      "minorAxis_2[iTrk][2][0] =  -0.15887721\n",
      "  \n",
      "majorAxis[iTrk][0][0] =  0.0016579849\n",
      "majorAxis[iTrk][1][0] =  0.0020989499\n",
      "majorAxis[iTrk][2][0] =  0.21738033\n",
      "minorAxis_1[iTrk][0][0] =  -13.864233\n",
      "minorAxis_1[iTrk][1][0] =  10.95152\n",
      "minorAxis_1[iTrk][2][0] =  -3.3017489e-09\n",
      "minorAxis_2[iTrk][0][0] =  10.95069\n",
      "minorAxis_2[iTrk][1][0] =  13.863184\n",
      "minorAxis_2[iTrk][2][0] =  -0.21738033\n",
      "  \n",
      "majorAxis[iTrk][0][0] =  0.00012481198\n",
      "majorAxis[iTrk][1][0] =  -0.00028747538\n",
      "majorAxis[iTrk][2][0] =  0.07441149\n",
      "minorAxis_1[iTrk][0][0] =  -16.206305\n",
      "minorAxis_1[iTrk][1][0] =  -7.036224\n",
      "minorAxis_1[iTrk][2][0] =  5.3456716e-08\n",
      "minorAxis_2[iTrk][0][0] =  -7.0361605\n",
      "minorAxis_2[iTrk][1][0] =  16.20616\n",
      "minorAxis_2[iTrk][2][0] =  0.07441148\n",
      "  \n",
      "len(X) =  80000\n",
      "len(Xlist) =  2\n",
      "Loaded /share/lazy/will/data/June30_2020_80k_2.h5 in 121.2 s\n",
      "pocaMx.shape =  (80000,)\n",
      "nEvts =  80000\n",
      "len(pocaMx[0]) =  196\n",
      "len(pocaMx[1]) =  35\n",
      "len(pocaMx[2]) =  265\n",
      "len(pocaMx[3]) =  128\n",
      "len(pocaMx[4]) =  124\n",
      "majorAxis.shape =  (80000, 3)\n",
      "minorAxis_1.shape =  (80000, 3)\n",
      "minorAxis_2.shape =  (80000, 3)\n",
      "have entered six_ellipsoid_parameters\n",
      "  \n",
      " \n",
      "  nEvts =  80000\n",
      " iEvt, nTrks =  0 196\n",
      " iEvt, nTrks =  1 35\n",
      " iEvt, nTrks =  2 265\n",
      " iEvt, nTrks =  3 128\n",
      " iEvt, nTrks =  4 124\n",
      " iEvt, nTrks =  5 122\n",
      " iEvt, nTrks =  6 300\n",
      " iEvt, nTrks =  7 179\n",
      " iEvt, nTrks =  8 243\n",
      " iEvt, nTrks =  9 112\n",
      "A.shape =  (80000,)\n",
      "majorAxis[iTrk][0][0] =  -2.440992e-05\n",
      "majorAxis[iTrk][1][0] =  -0.00038087237\n",
      "majorAxis[iTrk][2][0] =  0.08211532\n",
      "minorAxis_1[iTrk][0][0] =  -17.631672\n",
      "minorAxis_1[iTrk][1][0] =  1.130005\n",
      "minorAxis_1[iTrk][2][0] =  4.7444193e-08\n",
      "minorAxis_2[iTrk][0][0] =  1.1299927\n",
      "minorAxis_2[iTrk][1][0] =  17.631481\n",
      "minorAxis_2[iTrk][2][0] =  0.08211532\n",
      "  \n",
      "majorAxis[iTrk][0][0] =  -0.02277395\n",
      "majorAxis[iTrk][1][0] =  0.0014473597\n",
      "majorAxis[iTrk][2][0] =  0.6347583\n",
      "minorAxis_1[iTrk][0][0] =  -1.1205891\n",
      "minorAxis_1[iTrk][1][0] =  -17.632273\n",
      "minorAxis_1[iTrk][2][0] =  2.1543272e-09\n",
      "minorAxis_2[iTrk][0][0] =  -17.620888\n",
      "minorAxis_2[iTrk][1][0] =  1.1198657\n",
      "minorAxis_2[iTrk][2][0] =  -0.63475823\n",
      "  \n",
      "majorAxis[iTrk][0][0] =  0.0004024825\n",
      "majorAxis[iTrk][1][0] =  -0.00023784715\n",
      "majorAxis[iTrk][2][0] =  0.090883136\n",
      "minorAxis_1[iTrk][0][0] =  -8.988615\n",
      "minorAxis_1[iTrk][1][0] =  -15.210441\n",
      "minorAxis_1[iTrk][2][0] =  -6.56547e-08\n",
      "minorAxis_2[iTrk][0][0] =  -15.21024\n",
      "minorAxis_2[iTrk][1][0] =  8.988497\n",
      "minorAxis_2[iTrk][2][0] =  0.090883136\n",
      "  \n",
      "len(X) =  80000\n",
      "len(Xlist) =  3\n",
      "Loaded /share/lazy/will/data/June30_2020_80k_3.h5 in 124.6 s\n",
      "pocaMx.shape =  (80000,)\n",
      "nEvts =  80000\n",
      "len(pocaMx[0]) =  204\n",
      "len(pocaMx[1]) =  33\n",
      "len(pocaMx[2]) =  206\n",
      "len(pocaMx[3]) =  150\n",
      "len(pocaMx[4]) =  96\n",
      "majorAxis.shape =  (80000, 3)\n",
      "minorAxis_1.shape =  (80000, 3)\n",
      "minorAxis_2.shape =  (80000, 3)\n",
      "have entered six_ellipsoid_parameters\n",
      "  \n",
      " \n",
      "  nEvts =  80000\n",
      " iEvt, nTrks =  0 204\n",
      " iEvt, nTrks =  1 33\n",
      " iEvt, nTrks =  2 206\n",
      " iEvt, nTrks =  3 150\n",
      " iEvt, nTrks =  4 96\n",
      " iEvt, nTrks =  5 10\n",
      " iEvt, nTrks =  6 174\n",
      " iEvt, nTrks =  7 320\n",
      " iEvt, nTrks =  8 164\n",
      " iEvt, nTrks =  9 119\n",
      "A.shape =  (80000,)\n",
      "majorAxis[iTrk][0][0] =  0.00057876867\n",
      "majorAxis[iTrk][1][0] =  0.00037603904\n",
      "majorAxis[iTrk][2][0] =  0.110427074\n",
      "minorAxis_1[iTrk][0][0] =  9.62588\n",
      "minorAxis_1[iTrk][1][0] =  -14.81537\n",
      "minorAxis_1[iTrk][2][0] =  8.391163e-09\n",
      "minorAxis_2[iTrk][0][0] =  -14.815081\n",
      "minorAxis_2[iTrk][1][0] =  -9.625692\n",
      "minorAxis_2[iTrk][2][0] =  0.11042709\n",
      "  \n",
      "majorAxis[iTrk][0][0] =  -7.687664e-05\n",
      "majorAxis[iTrk][1][0] =  -0.0017985329\n",
      "majorAxis[iTrk][2][0] =  0.17833562\n",
      "minorAxis_1[iTrk][0][0] =  -17.651728\n",
      "minorAxis_1[iTrk][1][0] =  0.7545069\n",
      "minorAxis_1[iTrk][2][0] =  -7.932265e-09\n",
      "minorAxis_2[iTrk][0][0] =  0.75446844\n",
      "minorAxis_2[iTrk][1][0] =  17.650827\n",
      "minorAxis_2[iTrk][2][0] =  0.17833562\n",
      "  \n",
      "majorAxis[iTrk][0][0] =  4.5855802e-05\n",
      "majorAxis[iTrk][1][0] =  -0.00054240844\n",
      "majorAxis[iTrk][2][0] =  0.098067455\n",
      "minorAxis_1[iTrk][0][0] =  17.605043\n",
      "minorAxis_1[iTrk][1][0] =  1.4883496\n",
      "minorAxis_1[iTrk][2][0] =  -2.7847218e-08\n",
      "minorAxis_2[iTrk][0][0] =  1.4883265\n",
      "minorAxis_2[iTrk][1][0] =  -17.604773\n",
      "minorAxis_2[iTrk][2][0] =  -0.098067455\n",
      "  \n",
      "len(X) =  80000\n",
      "len(Xlist) =  4\n",
      "Loaded /share/lazy/will/data/June30_2020_80k_4.h5 in 127.2 s\n",
      "outer loop X.shape =  (320000, 9, 600)\n",
      "Constructing 320000 event dataset took 2.9 s\n",
      "x_t.shape =  torch.Size([320000, 9, 600])\n",
      "x_t.shape[0] =  320000\n",
      "x_t.shape[1] =  9\n",
      "x_t.shape =  torch.Size([320000, 9, 600])\n",
      "Loading data...\n",
      "pocaMx.shape =  (20000,)\n",
      "nEvts =  20000\n",
      "len(pocaMx[0]) =  211\n",
      "len(pocaMx[1]) =  21\n",
      "len(pocaMx[2]) =  20\n",
      "len(pocaMx[3]) =  198\n",
      "len(pocaMx[4]) =  233\n",
      "majorAxis.shape =  (20000, 3)\n",
      "minorAxis_1.shape =  (20000, 3)\n",
      "minorAxis_2.shape =  (20000, 3)\n",
      "have entered six_ellipsoid_parameters\n",
      "  \n",
      " \n",
      "  nEvts =  20000\n",
      " iEvt, nTrks =  0 211\n",
      " iEvt, nTrks =  1 21\n",
      " iEvt, nTrks =  2 20\n",
      " iEvt, nTrks =  3 198\n",
      " iEvt, nTrks =  4 233\n",
      " iEvt, nTrks =  5 85\n",
      " iEvt, nTrks =  6 223\n",
      " iEvt, nTrks =  7 425\n",
      " iEvt, nTrks =  8 252\n",
      " iEvt, nTrks =  9 169\n",
      "A.shape =  (20000,)\n",
      "majorAxis[iTrk][0][0] =  -0.00023452607\n",
      "majorAxis[iTrk][1][0] =  -0.00047206535\n",
      "majorAxis[iTrk][2][0] =  0.096502915\n",
      "minorAxis_1[iTrk][0][0] =  -15.822749\n",
      "minorAxis_1[iTrk][1][0] =  7.8608756\n",
      "minorAxis_1[iTrk][2][0] =  -2.6228399e-08\n",
      "minorAxis_2[iTrk][0][0] =  7.860759\n",
      "minorAxis_2[iTrk][1][0] =  15.822513\n",
      "minorAxis_2[iTrk][2][0] =  0.096502915\n",
      "  \n",
      "majorAxis[iTrk][0][0] =  -0.37655562\n",
      "majorAxis[iTrk][1][0] =  0.2768704\n",
      "majorAxis[iTrk][2][0] =  2.8546858\n",
      "minorAxis_1[iTrk][0][0] =  -10.466048\n",
      "minorAxis_1[iTrk][1][0] =  -14.234274\n",
      "minorAxis_1[iTrk][2][0] =  2.2974699e-11\n",
      "minorAxis_2[iTrk][0][0] =  -14.04724\n",
      "minorAxis_2[iTrk][1][0] =  10.328527\n",
      "minorAxis_2[iTrk][2][0] =  -2.8546853\n",
      "  \n",
      "majorAxis[iTrk][0][0] =  -0.024279848\n",
      "majorAxis[iTrk][1][0] =  0.0019689242\n",
      "majorAxis[iTrk][2][0] =  0.65580803\n",
      "minorAxis_1[iTrk][0][0] =  -1.4280497\n",
      "minorAxis_1[iTrk][1][0] =  -17.610037\n",
      "minorAxis_1[iTrk][2][0] =  -6.123401e-10\n",
      "minorAxis_2[iTrk][0][0] =  -17.597902\n",
      "minorAxis_2[iTrk][1][0] =  1.4270656\n",
      "minorAxis_2[iTrk][2][0] =  -0.6558081\n",
      "  \n"
     ]
    },
    {
     "name": "stdout",
     "output_type": "stream",
     "text": [
      "len(X) =  20000\n",
      "len(Xlist) =  1\n",
      "Loaded dataAA/20K_POCA_kernel_evts_200926.h5 in 29.79 s\n",
      "outer loop X.shape =  (20000, 9, 600)\n",
      "Constructing 10000 event dataset took 0.08965 s\n",
      "x_t.shape =  torch.Size([10000, 9, 600])\n",
      "x_t.shape[0] =  10000\n",
      "x_t.shape[1] =  9\n",
      "x_t.shape =  torch.Size([10000, 9, 600])\n"
     ]
    }
   ],
   "source": [
    "\n",
    "## Training dataset. You can put as many files here as desired.\n",
    "\n",
    "##train_loader = collect_t2kde_data('/share/lazy/pv-finder/20k_evts_for_KDE_learning_200716.h5',\n",
    "train_loader = collect_t2kde_data('/share/lazy/will/data/June30_2020_80k_1.h5', \n",
    "                                    '/share/lazy/will/data/June30_2020_80k_2.h5',\n",
    "                                    '/share/lazy/will/data/June30_2020_80k_3.h5',\n",
    "                                    '/share/lazy/will/data/June30_2020_80k_4.h5',\n",
    "                             batch_size=batch_size,\n",
    "## if we are using a larger dataset (240K events, with the datasets above, and 11 GB  of GPU memory),\n",
    "## the dataset will overflow the GPU memory; device=device will allow the data to move back\n",
    "## and forth between the CPU and GPU memory. While this allows use of a larger dataset, it slows\n",
    "## down performance by about 10%.  So comment out when not needed.\n",
    "##                          device=device,\n",
    "##                           slice = slice(None,18000)\n",
    "                           )\n",
    "                            \n",
    "# Validation dataset. You can slice to reduce the size.\n",
    "## mds no separate validation set yet,\n",
    "\n",
    "## For iter12, change slice(18000,None) to slice(10000,None)\n",
    "## First, we'll see if this changes the validation cost significantly\n",
    "##  Second, we will see if this reduces the validation cost fluctuations\n",
    "val_loader = collect_t2kde_data('dataAA/20K_POCA_kernel_evts_200926.h5',\n",
    "                            batch_size=batch_size,\n",
    "##                            device=device,\n",
    "                            slice = slice(10000,None)\n",
    "                           )\n"
   ]
  },
  {
   "cell_type": "code",
   "execution_count": 16,
   "metadata": {
    "scrolled": false
   },
   "outputs": [
    {
     "data": {
      "application/javascript": [
       "/* Put everything inside the global mpl namespace */\n",
       "window.mpl = {};\n",
       "\n",
       "\n",
       "mpl.get_websocket_type = function() {\n",
       "    if (typeof(WebSocket) !== 'undefined') {\n",
       "        return WebSocket;\n",
       "    } else if (typeof(MozWebSocket) !== 'undefined') {\n",
       "        return MozWebSocket;\n",
       "    } else {\n",
       "        alert('Your browser does not have WebSocket support. ' +\n",
       "              'Please try Chrome, Safari or Firefox ≥ 6. ' +\n",
       "              'Firefox 4 and 5 are also supported but you ' +\n",
       "              'have to enable WebSockets in about:config.');\n",
       "    };\n",
       "}\n",
       "\n",
       "mpl.figure = function(figure_id, websocket, ondownload, parent_element) {\n",
       "    this.id = figure_id;\n",
       "\n",
       "    this.ws = websocket;\n",
       "\n",
       "    this.supports_binary = (this.ws.binaryType != undefined);\n",
       "\n",
       "    if (!this.supports_binary) {\n",
       "        var warnings = document.getElementById(\"mpl-warnings\");\n",
       "        if (warnings) {\n",
       "            warnings.style.display = 'block';\n",
       "            warnings.textContent = (\n",
       "                \"This browser does not support binary websocket messages. \" +\n",
       "                    \"Performance may be slow.\");\n",
       "        }\n",
       "    }\n",
       "\n",
       "    this.imageObj = new Image();\n",
       "\n",
       "    this.context = undefined;\n",
       "    this.message = undefined;\n",
       "    this.canvas = undefined;\n",
       "    this.rubberband_canvas = undefined;\n",
       "    this.rubberband_context = undefined;\n",
       "    this.format_dropdown = undefined;\n",
       "\n",
       "    this.image_mode = 'full';\n",
       "\n",
       "    this.root = $('<div/>');\n",
       "    this._root_extra_style(this.root)\n",
       "    this.root.attr('style', 'display: inline-block');\n",
       "\n",
       "    $(parent_element).append(this.root);\n",
       "\n",
       "    this._init_header(this);\n",
       "    this._init_canvas(this);\n",
       "    this._init_toolbar(this);\n",
       "\n",
       "    var fig = this;\n",
       "\n",
       "    this.waiting = false;\n",
       "\n",
       "    this.ws.onopen =  function () {\n",
       "            fig.send_message(\"supports_binary\", {value: fig.supports_binary});\n",
       "            fig.send_message(\"send_image_mode\", {});\n",
       "            if (mpl.ratio != 1) {\n",
       "                fig.send_message(\"set_dpi_ratio\", {'dpi_ratio': mpl.ratio});\n",
       "            }\n",
       "            fig.send_message(\"refresh\", {});\n",
       "        }\n",
       "\n",
       "    this.imageObj.onload = function() {\n",
       "            if (fig.image_mode == 'full') {\n",
       "                // Full images could contain transparency (where diff images\n",
       "                // almost always do), so we need to clear the canvas so that\n",
       "                // there is no ghosting.\n",
       "                fig.context.clearRect(0, 0, fig.canvas.width, fig.canvas.height);\n",
       "            }\n",
       "            fig.context.drawImage(fig.imageObj, 0, 0);\n",
       "        };\n",
       "\n",
       "    this.imageObj.onunload = function() {\n",
       "        fig.ws.close();\n",
       "    }\n",
       "\n",
       "    this.ws.onmessage = this._make_on_message_function(this);\n",
       "\n",
       "    this.ondownload = ondownload;\n",
       "}\n",
       "\n",
       "mpl.figure.prototype._init_header = function() {\n",
       "    var titlebar = $(\n",
       "        '<div class=\"ui-dialog-titlebar ui-widget-header ui-corner-all ' +\n",
       "        'ui-helper-clearfix\"/>');\n",
       "    var titletext = $(\n",
       "        '<div class=\"ui-dialog-title\" style=\"width: 100%; ' +\n",
       "        'text-align: center; padding: 3px;\"/>');\n",
       "    titlebar.append(titletext)\n",
       "    this.root.append(titlebar);\n",
       "    this.header = titletext[0];\n",
       "}\n",
       "\n",
       "\n",
       "\n",
       "mpl.figure.prototype._canvas_extra_style = function(canvas_div) {\n",
       "\n",
       "}\n",
       "\n",
       "\n",
       "mpl.figure.prototype._root_extra_style = function(canvas_div) {\n",
       "\n",
       "}\n",
       "\n",
       "mpl.figure.prototype._init_canvas = function() {\n",
       "    var fig = this;\n",
       "\n",
       "    var canvas_div = $('<div/>');\n",
       "\n",
       "    canvas_div.attr('style', 'position: relative; clear: both; outline: 0');\n",
       "\n",
       "    function canvas_keyboard_event(event) {\n",
       "        return fig.key_event(event, event['data']);\n",
       "    }\n",
       "\n",
       "    canvas_div.keydown('key_press', canvas_keyboard_event);\n",
       "    canvas_div.keyup('key_release', canvas_keyboard_event);\n",
       "    this.canvas_div = canvas_div\n",
       "    this._canvas_extra_style(canvas_div)\n",
       "    this.root.append(canvas_div);\n",
       "\n",
       "    var canvas = $('<canvas/>');\n",
       "    canvas.addClass('mpl-canvas');\n",
       "    canvas.attr('style', \"left: 0; top: 0; z-index: 0; outline: 0\")\n",
       "\n",
       "    this.canvas = canvas[0];\n",
       "    this.context = canvas[0].getContext(\"2d\");\n",
       "\n",
       "    var backingStore = this.context.backingStorePixelRatio ||\n",
       "\tthis.context.webkitBackingStorePixelRatio ||\n",
       "\tthis.context.mozBackingStorePixelRatio ||\n",
       "\tthis.context.msBackingStorePixelRatio ||\n",
       "\tthis.context.oBackingStorePixelRatio ||\n",
       "\tthis.context.backingStorePixelRatio || 1;\n",
       "\n",
       "    mpl.ratio = (window.devicePixelRatio || 1) / backingStore;\n",
       "\n",
       "    var rubberband = $('<canvas/>');\n",
       "    rubberband.attr('style', \"position: absolute; left: 0; top: 0; z-index: 1;\")\n",
       "\n",
       "    var pass_mouse_events = true;\n",
       "\n",
       "    canvas_div.resizable({\n",
       "        start: function(event, ui) {\n",
       "            pass_mouse_events = false;\n",
       "        },\n",
       "        resize: function(event, ui) {\n",
       "            fig.request_resize(ui.size.width, ui.size.height);\n",
       "        },\n",
       "        stop: function(event, ui) {\n",
       "            pass_mouse_events = true;\n",
       "            fig.request_resize(ui.size.width, ui.size.height);\n",
       "        },\n",
       "    });\n",
       "\n",
       "    function mouse_event_fn(event) {\n",
       "        if (pass_mouse_events)\n",
       "            return fig.mouse_event(event, event['data']);\n",
       "    }\n",
       "\n",
       "    rubberband.mousedown('button_press', mouse_event_fn);\n",
       "    rubberband.mouseup('button_release', mouse_event_fn);\n",
       "    // Throttle sequential mouse events to 1 every 20ms.\n",
       "    rubberband.mousemove('motion_notify', mouse_event_fn);\n",
       "\n",
       "    rubberband.mouseenter('figure_enter', mouse_event_fn);\n",
       "    rubberband.mouseleave('figure_leave', mouse_event_fn);\n",
       "\n",
       "    canvas_div.on(\"wheel\", function (event) {\n",
       "        event = event.originalEvent;\n",
       "        event['data'] = 'scroll'\n",
       "        if (event.deltaY < 0) {\n",
       "            event.step = 1;\n",
       "        } else {\n",
       "            event.step = -1;\n",
       "        }\n",
       "        mouse_event_fn(event);\n",
       "    });\n",
       "\n",
       "    canvas_div.append(canvas);\n",
       "    canvas_div.append(rubberband);\n",
       "\n",
       "    this.rubberband = rubberband;\n",
       "    this.rubberband_canvas = rubberband[0];\n",
       "    this.rubberband_context = rubberband[0].getContext(\"2d\");\n",
       "    this.rubberband_context.strokeStyle = \"#000000\";\n",
       "\n",
       "    this._resize_canvas = function(width, height) {\n",
       "        // Keep the size of the canvas, canvas container, and rubber band\n",
       "        // canvas in synch.\n",
       "        canvas_div.css('width', width)\n",
       "        canvas_div.css('height', height)\n",
       "\n",
       "        canvas.attr('width', width * mpl.ratio);\n",
       "        canvas.attr('height', height * mpl.ratio);\n",
       "        canvas.attr('style', 'width: ' + width + 'px; height: ' + height + 'px;');\n",
       "\n",
       "        rubberband.attr('width', width);\n",
       "        rubberband.attr('height', height);\n",
       "    }\n",
       "\n",
       "    // Set the figure to an initial 600x600px, this will subsequently be updated\n",
       "    // upon first draw.\n",
       "    this._resize_canvas(600, 600);\n",
       "\n",
       "    // Disable right mouse context menu.\n",
       "    $(this.rubberband_canvas).bind(\"contextmenu\",function(e){\n",
       "        return false;\n",
       "    });\n",
       "\n",
       "    function set_focus () {\n",
       "        canvas.focus();\n",
       "        canvas_div.focus();\n",
       "    }\n",
       "\n",
       "    window.setTimeout(set_focus, 100);\n",
       "}\n",
       "\n",
       "mpl.figure.prototype._init_toolbar = function() {\n",
       "    var fig = this;\n",
       "\n",
       "    var nav_element = $('<div/>');\n",
       "    nav_element.attr('style', 'width: 100%');\n",
       "    this.root.append(nav_element);\n",
       "\n",
       "    // Define a callback function for later on.\n",
       "    function toolbar_event(event) {\n",
       "        return fig.toolbar_button_onclick(event['data']);\n",
       "    }\n",
       "    function toolbar_mouse_event(event) {\n",
       "        return fig.toolbar_button_onmouseover(event['data']);\n",
       "    }\n",
       "\n",
       "    for(var toolbar_ind in mpl.toolbar_items) {\n",
       "        var name = mpl.toolbar_items[toolbar_ind][0];\n",
       "        var tooltip = mpl.toolbar_items[toolbar_ind][1];\n",
       "        var image = mpl.toolbar_items[toolbar_ind][2];\n",
       "        var method_name = mpl.toolbar_items[toolbar_ind][3];\n",
       "\n",
       "        if (!name) {\n",
       "            // put a spacer in here.\n",
       "            continue;\n",
       "        }\n",
       "        var button = $('<button/>');\n",
       "        button.addClass('ui-button ui-widget ui-state-default ui-corner-all ' +\n",
       "                        'ui-button-icon-only');\n",
       "        button.attr('role', 'button');\n",
       "        button.attr('aria-disabled', 'false');\n",
       "        button.click(method_name, toolbar_event);\n",
       "        button.mouseover(tooltip, toolbar_mouse_event);\n",
       "\n",
       "        var icon_img = $('<span/>');\n",
       "        icon_img.addClass('ui-button-icon-primary ui-icon');\n",
       "        icon_img.addClass(image);\n",
       "        icon_img.addClass('ui-corner-all');\n",
       "\n",
       "        var tooltip_span = $('<span/>');\n",
       "        tooltip_span.addClass('ui-button-text');\n",
       "        tooltip_span.html(tooltip);\n",
       "\n",
       "        button.append(icon_img);\n",
       "        button.append(tooltip_span);\n",
       "\n",
       "        nav_element.append(button);\n",
       "    }\n",
       "\n",
       "    var fmt_picker_span = $('<span/>');\n",
       "\n",
       "    var fmt_picker = $('<select/>');\n",
       "    fmt_picker.addClass('mpl-toolbar-option ui-widget ui-widget-content');\n",
       "    fmt_picker_span.append(fmt_picker);\n",
       "    nav_element.append(fmt_picker_span);\n",
       "    this.format_dropdown = fmt_picker[0];\n",
       "\n",
       "    for (var ind in mpl.extensions) {\n",
       "        var fmt = mpl.extensions[ind];\n",
       "        var option = $(\n",
       "            '<option/>', {selected: fmt === mpl.default_extension}).html(fmt);\n",
       "        fmt_picker.append(option);\n",
       "    }\n",
       "\n",
       "    // Add hover states to the ui-buttons\n",
       "    $( \".ui-button\" ).hover(\n",
       "        function() { $(this).addClass(\"ui-state-hover\");},\n",
       "        function() { $(this).removeClass(\"ui-state-hover\");}\n",
       "    );\n",
       "\n",
       "    var status_bar = $('<span class=\"mpl-message\"/>');\n",
       "    nav_element.append(status_bar);\n",
       "    this.message = status_bar[0];\n",
       "}\n",
       "\n",
       "mpl.figure.prototype.request_resize = function(x_pixels, y_pixels) {\n",
       "    // Request matplotlib to resize the figure. Matplotlib will then trigger a resize in the client,\n",
       "    // which will in turn request a refresh of the image.\n",
       "    this.send_message('resize', {'width': x_pixels, 'height': y_pixels});\n",
       "}\n",
       "\n",
       "mpl.figure.prototype.send_message = function(type, properties) {\n",
       "    properties['type'] = type;\n",
       "    properties['figure_id'] = this.id;\n",
       "    this.ws.send(JSON.stringify(properties));\n",
       "}\n",
       "\n",
       "mpl.figure.prototype.send_draw_message = function() {\n",
       "    if (!this.waiting) {\n",
       "        this.waiting = true;\n",
       "        this.ws.send(JSON.stringify({type: \"draw\", figure_id: this.id}));\n",
       "    }\n",
       "}\n",
       "\n",
       "\n",
       "mpl.figure.prototype.handle_save = function(fig, msg) {\n",
       "    var format_dropdown = fig.format_dropdown;\n",
       "    var format = format_dropdown.options[format_dropdown.selectedIndex].value;\n",
       "    fig.ondownload(fig, format);\n",
       "}\n",
       "\n",
       "\n",
       "mpl.figure.prototype.handle_resize = function(fig, msg) {\n",
       "    var size = msg['size'];\n",
       "    if (size[0] != fig.canvas.width || size[1] != fig.canvas.height) {\n",
       "        fig._resize_canvas(size[0], size[1]);\n",
       "        fig.send_message(\"refresh\", {});\n",
       "    };\n",
       "}\n",
       "\n",
       "mpl.figure.prototype.handle_rubberband = function(fig, msg) {\n",
       "    var x0 = msg['x0'] / mpl.ratio;\n",
       "    var y0 = (fig.canvas.height - msg['y0']) / mpl.ratio;\n",
       "    var x1 = msg['x1'] / mpl.ratio;\n",
       "    var y1 = (fig.canvas.height - msg['y1']) / mpl.ratio;\n",
       "    x0 = Math.floor(x0) + 0.5;\n",
       "    y0 = Math.floor(y0) + 0.5;\n",
       "    x1 = Math.floor(x1) + 0.5;\n",
       "    y1 = Math.floor(y1) + 0.5;\n",
       "    var min_x = Math.min(x0, x1);\n",
       "    var min_y = Math.min(y0, y1);\n",
       "    var width = Math.abs(x1 - x0);\n",
       "    var height = Math.abs(y1 - y0);\n",
       "\n",
       "    fig.rubberband_context.clearRect(\n",
       "        0, 0, fig.canvas.width / mpl.ratio, fig.canvas.height / mpl.ratio);\n",
       "\n",
       "    fig.rubberband_context.strokeRect(min_x, min_y, width, height);\n",
       "}\n",
       "\n",
       "mpl.figure.prototype.handle_figure_label = function(fig, msg) {\n",
       "    // Updates the figure title.\n",
       "    fig.header.textContent = msg['label'];\n",
       "}\n",
       "\n",
       "mpl.figure.prototype.handle_cursor = function(fig, msg) {\n",
       "    var cursor = msg['cursor'];\n",
       "    switch(cursor)\n",
       "    {\n",
       "    case 0:\n",
       "        cursor = 'pointer';\n",
       "        break;\n",
       "    case 1:\n",
       "        cursor = 'default';\n",
       "        break;\n",
       "    case 2:\n",
       "        cursor = 'crosshair';\n",
       "        break;\n",
       "    case 3:\n",
       "        cursor = 'move';\n",
       "        break;\n",
       "    }\n",
       "    fig.rubberband_canvas.style.cursor = cursor;\n",
       "}\n",
       "\n",
       "mpl.figure.prototype.handle_message = function(fig, msg) {\n",
       "    fig.message.textContent = msg['message'];\n",
       "}\n",
       "\n",
       "mpl.figure.prototype.handle_draw = function(fig, msg) {\n",
       "    // Request the server to send over a new figure.\n",
       "    fig.send_draw_message();\n",
       "}\n",
       "\n",
       "mpl.figure.prototype.handle_image_mode = function(fig, msg) {\n",
       "    fig.image_mode = msg['mode'];\n",
       "}\n",
       "\n",
       "mpl.figure.prototype.updated_canvas_event = function() {\n",
       "    // Called whenever the canvas gets updated.\n",
       "    this.send_message(\"ack\", {});\n",
       "}\n",
       "\n",
       "// A function to construct a web socket function for onmessage handling.\n",
       "// Called in the figure constructor.\n",
       "mpl.figure.prototype._make_on_message_function = function(fig) {\n",
       "    return function socket_on_message(evt) {\n",
       "        if (evt.data instanceof Blob) {\n",
       "            /* FIXME: We get \"Resource interpreted as Image but\n",
       "             * transferred with MIME type text/plain:\" errors on\n",
       "             * Chrome.  But how to set the MIME type?  It doesn't seem\n",
       "             * to be part of the websocket stream */\n",
       "            evt.data.type = \"image/png\";\n",
       "\n",
       "            /* Free the memory for the previous frames */\n",
       "            if (fig.imageObj.src) {\n",
       "                (window.URL || window.webkitURL).revokeObjectURL(\n",
       "                    fig.imageObj.src);\n",
       "            }\n",
       "\n",
       "            fig.imageObj.src = (window.URL || window.webkitURL).createObjectURL(\n",
       "                evt.data);\n",
       "            fig.updated_canvas_event();\n",
       "            fig.waiting = false;\n",
       "            return;\n",
       "        }\n",
       "        else if (typeof evt.data === 'string' && evt.data.slice(0, 21) == \"data:image/png;base64\") {\n",
       "            fig.imageObj.src = evt.data;\n",
       "            fig.updated_canvas_event();\n",
       "            fig.waiting = false;\n",
       "            return;\n",
       "        }\n",
       "\n",
       "        var msg = JSON.parse(evt.data);\n",
       "        var msg_type = msg['type'];\n",
       "\n",
       "        // Call the  \"handle_{type}\" callback, which takes\n",
       "        // the figure and JSON message as its only arguments.\n",
       "        try {\n",
       "            var callback = fig[\"handle_\" + msg_type];\n",
       "        } catch (e) {\n",
       "            console.log(\"No handler for the '\" + msg_type + \"' message type: \", msg);\n",
       "            return;\n",
       "        }\n",
       "\n",
       "        if (callback) {\n",
       "            try {\n",
       "                // console.log(\"Handling '\" + msg_type + \"' message: \", msg);\n",
       "                callback(fig, msg);\n",
       "            } catch (e) {\n",
       "                console.log(\"Exception inside the 'handler_\" + msg_type + \"' callback:\", e, e.stack, msg);\n",
       "            }\n",
       "        }\n",
       "    };\n",
       "}\n",
       "\n",
       "// from http://stackoverflow.com/questions/1114465/getting-mouse-location-in-canvas\n",
       "mpl.findpos = function(e) {\n",
       "    //this section is from http://www.quirksmode.org/js/events_properties.html\n",
       "    var targ;\n",
       "    if (!e)\n",
       "        e = window.event;\n",
       "    if (e.target)\n",
       "        targ = e.target;\n",
       "    else if (e.srcElement)\n",
       "        targ = e.srcElement;\n",
       "    if (targ.nodeType == 3) // defeat Safari bug\n",
       "        targ = targ.parentNode;\n",
       "\n",
       "    // jQuery normalizes the pageX and pageY\n",
       "    // pageX,Y are the mouse positions relative to the document\n",
       "    // offset() returns the position of the element relative to the document\n",
       "    var x = e.pageX - $(targ).offset().left;\n",
       "    var y = e.pageY - $(targ).offset().top;\n",
       "\n",
       "    return {\"x\": x, \"y\": y};\n",
       "};\n",
       "\n",
       "/*\n",
       " * return a copy of an object with only non-object keys\n",
       " * we need this to avoid circular references\n",
       " * http://stackoverflow.com/a/24161582/3208463\n",
       " */\n",
       "function simpleKeys (original) {\n",
       "  return Object.keys(original).reduce(function (obj, key) {\n",
       "    if (typeof original[key] !== 'object')\n",
       "        obj[key] = original[key]\n",
       "    return obj;\n",
       "  }, {});\n",
       "}\n",
       "\n",
       "mpl.figure.prototype.mouse_event = function(event, name) {\n",
       "    var canvas_pos = mpl.findpos(event)\n",
       "\n",
       "    if (name === 'button_press')\n",
       "    {\n",
       "        this.canvas.focus();\n",
       "        this.canvas_div.focus();\n",
       "    }\n",
       "\n",
       "    var x = canvas_pos.x * mpl.ratio;\n",
       "    var y = canvas_pos.y * mpl.ratio;\n",
       "\n",
       "    this.send_message(name, {x: x, y: y, button: event.button,\n",
       "                             step: event.step,\n",
       "                             guiEvent: simpleKeys(event)});\n",
       "\n",
       "    /* This prevents the web browser from automatically changing to\n",
       "     * the text insertion cursor when the button is pressed.  We want\n",
       "     * to control all of the cursor setting manually through the\n",
       "     * 'cursor' event from matplotlib */\n",
       "    event.preventDefault();\n",
       "    return false;\n",
       "}\n",
       "\n",
       "mpl.figure.prototype._key_event_extra = function(event, name) {\n",
       "    // Handle any extra behaviour associated with a key event\n",
       "}\n",
       "\n",
       "mpl.figure.prototype.key_event = function(event, name) {\n",
       "\n",
       "    // Prevent repeat events\n",
       "    if (name == 'key_press')\n",
       "    {\n",
       "        if (event.which === this._key)\n",
       "            return;\n",
       "        else\n",
       "            this._key = event.which;\n",
       "    }\n",
       "    if (name == 'key_release')\n",
       "        this._key = null;\n",
       "\n",
       "    var value = '';\n",
       "    if (event.ctrlKey && event.which != 17)\n",
       "        value += \"ctrl+\";\n",
       "    if (event.altKey && event.which != 18)\n",
       "        value += \"alt+\";\n",
       "    if (event.shiftKey && event.which != 16)\n",
       "        value += \"shift+\";\n",
       "\n",
       "    value += 'k';\n",
       "    value += event.which.toString();\n",
       "\n",
       "    this._key_event_extra(event, name);\n",
       "\n",
       "    this.send_message(name, {key: value,\n",
       "                             guiEvent: simpleKeys(event)});\n",
       "    return false;\n",
       "}\n",
       "\n",
       "mpl.figure.prototype.toolbar_button_onclick = function(name) {\n",
       "    if (name == 'download') {\n",
       "        this.handle_save(this, null);\n",
       "    } else {\n",
       "        this.send_message(\"toolbar_button\", {name: name});\n",
       "    }\n",
       "};\n",
       "\n",
       "mpl.figure.prototype.toolbar_button_onmouseover = function(tooltip) {\n",
       "    this.message.textContent = tooltip;\n",
       "};\n",
       "mpl.toolbar_items = [[\"Home\", \"Reset original view\", \"fa fa-home icon-home\", \"home\"], [\"Back\", \"Back to previous view\", \"fa fa-arrow-left icon-arrow-left\", \"back\"], [\"Forward\", \"Forward to next view\", \"fa fa-arrow-right icon-arrow-right\", \"forward\"], [\"\", \"\", \"\", \"\"], [\"Pan\", \"Pan axes with left mouse, zoom with right\", \"fa fa-arrows icon-move\", \"pan\"], [\"Zoom\", \"Zoom to rectangle\", \"fa fa-square-o icon-check-empty\", \"zoom\"], [\"\", \"\", \"\", \"\"], [\"Download\", \"Download plot\", \"fa fa-floppy-o icon-save\", \"download\"]];\n",
       "\n",
       "mpl.extensions = [\"eps\", \"jpeg\", \"pdf\", \"png\", \"ps\", \"raw\", \"svg\", \"tif\"];\n",
       "\n",
       "mpl.default_extension = \"png\";var comm_websocket_adapter = function(comm) {\n",
       "    // Create a \"websocket\"-like object which calls the given IPython comm\n",
       "    // object with the appropriate methods. Currently this is a non binary\n",
       "    // socket, so there is still some room for performance tuning.\n",
       "    var ws = {};\n",
       "\n",
       "    ws.close = function() {\n",
       "        comm.close()\n",
       "    };\n",
       "    ws.send = function(m) {\n",
       "        //console.log('sending', m);\n",
       "        comm.send(m);\n",
       "    };\n",
       "    // Register the callback with on_msg.\n",
       "    comm.on_msg(function(msg) {\n",
       "        //console.log('receiving', msg['content']['data'], msg);\n",
       "        // Pass the mpl event to the overridden (by mpl) onmessage function.\n",
       "        ws.onmessage(msg['content']['data'])\n",
       "    });\n",
       "    return ws;\n",
       "}\n",
       "\n",
       "mpl.mpl_figure_comm = function(comm, msg) {\n",
       "    // This is the function which gets called when the mpl process\n",
       "    // starts-up an IPython Comm through the \"matplotlib\" channel.\n",
       "\n",
       "    var id = msg.content.data.id;\n",
       "    // Get hold of the div created by the display call when the Comm\n",
       "    // socket was opened in Python.\n",
       "    var element = $(\"#\" + id);\n",
       "    var ws_proxy = comm_websocket_adapter(comm)\n",
       "\n",
       "    function ondownload(figure, format) {\n",
       "        window.open(figure.imageObj.src);\n",
       "    }\n",
       "\n",
       "    var fig = new mpl.figure(id, ws_proxy,\n",
       "                           ondownload,\n",
       "                           element.get(0));\n",
       "\n",
       "    // Call onopen now - mpl needs it, as it is assuming we've passed it a real\n",
       "    // web socket which is closed, not our websocket->open comm proxy.\n",
       "    ws_proxy.onopen();\n",
       "\n",
       "    fig.parent_element = element.get(0);\n",
       "    fig.cell_info = mpl.find_output_cell(\"<div id='\" + id + \"'></div>\");\n",
       "    if (!fig.cell_info) {\n",
       "        console.error(\"Failed to find cell for figure\", id, fig);\n",
       "        return;\n",
       "    }\n",
       "\n",
       "    var output_index = fig.cell_info[2]\n",
       "    var cell = fig.cell_info[0];\n",
       "\n",
       "};\n",
       "\n",
       "mpl.figure.prototype.handle_close = function(fig, msg) {\n",
       "    var width = fig.canvas.width/mpl.ratio\n",
       "    fig.root.unbind('remove')\n",
       "\n",
       "    // Update the output cell to use the data from the current canvas.\n",
       "    fig.push_to_output();\n",
       "    var dataURL = fig.canvas.toDataURL();\n",
       "    // Re-enable the keyboard manager in IPython - without this line, in FF,\n",
       "    // the notebook keyboard shortcuts fail.\n",
       "    IPython.keyboard_manager.enable()\n",
       "    $(fig.parent_element).html('<img src=\"' + dataURL + '\" width=\"' + width + '\">');\n",
       "    fig.close_ws(fig, msg);\n",
       "}\n",
       "\n",
       "mpl.figure.prototype.close_ws = function(fig, msg){\n",
       "    fig.send_message('closing', msg);\n",
       "    // fig.ws.close()\n",
       "}\n",
       "\n",
       "mpl.figure.prototype.push_to_output = function(remove_interactive) {\n",
       "    // Turn the data on the canvas into data in the output cell.\n",
       "    var width = this.canvas.width/mpl.ratio\n",
       "    var dataURL = this.canvas.toDataURL();\n",
       "    this.cell_info[1]['text/html'] = '<img src=\"' + dataURL + '\" width=\"' + width + '\">';\n",
       "}\n",
       "\n",
       "mpl.figure.prototype.updated_canvas_event = function() {\n",
       "    // Tell IPython that the notebook contents must change.\n",
       "    IPython.notebook.set_dirty(true);\n",
       "    this.send_message(\"ack\", {});\n",
       "    var fig = this;\n",
       "    // Wait a second, then push the new image to the DOM so\n",
       "    // that it is saved nicely (might be nice to debounce this).\n",
       "    setTimeout(function () { fig.push_to_output() }, 1000);\n",
       "}\n",
       "\n",
       "mpl.figure.prototype._init_toolbar = function() {\n",
       "    var fig = this;\n",
       "\n",
       "    var nav_element = $('<div/>');\n",
       "    nav_element.attr('style', 'width: 100%');\n",
       "    this.root.append(nav_element);\n",
       "\n",
       "    // Define a callback function for later on.\n",
       "    function toolbar_event(event) {\n",
       "        return fig.toolbar_button_onclick(event['data']);\n",
       "    }\n",
       "    function toolbar_mouse_event(event) {\n",
       "        return fig.toolbar_button_onmouseover(event['data']);\n",
       "    }\n",
       "\n",
       "    for(var toolbar_ind in mpl.toolbar_items){\n",
       "        var name = mpl.toolbar_items[toolbar_ind][0];\n",
       "        var tooltip = mpl.toolbar_items[toolbar_ind][1];\n",
       "        var image = mpl.toolbar_items[toolbar_ind][2];\n",
       "        var method_name = mpl.toolbar_items[toolbar_ind][3];\n",
       "\n",
       "        if (!name) { continue; };\n",
       "\n",
       "        var button = $('<button class=\"btn btn-default\" href=\"#\" title=\"' + name + '\"><i class=\"fa ' + image + ' fa-lg\"></i></button>');\n",
       "        button.click(method_name, toolbar_event);\n",
       "        button.mouseover(tooltip, toolbar_mouse_event);\n",
       "        nav_element.append(button);\n",
       "    }\n",
       "\n",
       "    // Add the status bar.\n",
       "    var status_bar = $('<span class=\"mpl-message\" style=\"text-align:right; float: right;\"/>');\n",
       "    nav_element.append(status_bar);\n",
       "    this.message = status_bar[0];\n",
       "\n",
       "    // Add the close button to the window.\n",
       "    var buttongrp = $('<div class=\"btn-group inline pull-right\"></div>');\n",
       "    var button = $('<button class=\"btn btn-mini btn-primary\" href=\"#\" title=\"Stop Interaction\"><i class=\"fa fa-power-off icon-remove icon-large\"></i></button>');\n",
       "    button.click(function (evt) { fig.handle_close(fig, {}); } );\n",
       "    button.mouseover('Stop Interaction', toolbar_mouse_event);\n",
       "    buttongrp.append(button);\n",
       "    var titlebar = this.root.find($('.ui-dialog-titlebar'));\n",
       "    titlebar.prepend(buttongrp);\n",
       "}\n",
       "\n",
       "mpl.figure.prototype._root_extra_style = function(el){\n",
       "    var fig = this\n",
       "    el.on(\"remove\", function(){\n",
       "\tfig.close_ws(fig, {});\n",
       "    });\n",
       "}\n",
       "\n",
       "mpl.figure.prototype._canvas_extra_style = function(el){\n",
       "    // this is important to make the div 'focusable\n",
       "    el.attr('tabindex', 0)\n",
       "    // reach out to IPython and tell the keyboard manager to turn it's self\n",
       "    // off when our div gets focus\n",
       "\n",
       "    // location in version 3\n",
       "    if (IPython.notebook.keyboard_manager) {\n",
       "        IPython.notebook.keyboard_manager.register_events(el);\n",
       "    }\n",
       "    else {\n",
       "        // location in version 2\n",
       "        IPython.keyboard_manager.register_events(el);\n",
       "    }\n",
       "\n",
       "}\n",
       "\n",
       "mpl.figure.prototype._key_event_extra = function(event, name) {\n",
       "    var manager = IPython.notebook.keyboard_manager;\n",
       "    if (!manager)\n",
       "        manager = IPython.keyboard_manager;\n",
       "\n",
       "    // Check for shift+enter\n",
       "    if (event.shiftKey && event.which == 13) {\n",
       "        this.canvas_div.blur();\n",
       "        // select the cell after this one\n",
       "        var index = IPython.notebook.find_cell_index(this.cell_info[0]);\n",
       "        IPython.notebook.select(index + 1);\n",
       "    }\n",
       "}\n",
       "\n",
       "mpl.figure.prototype.handle_save = function(fig, msg) {\n",
       "    fig.ondownload(fig, null);\n",
       "}\n",
       "\n",
       "\n",
       "mpl.find_output_cell = function(html_output) {\n",
       "    // Return the cell and output element which can be found *uniquely* in the notebook.\n",
       "    // Note - this is a bit hacky, but it is done because the \"notebook_saving.Notebook\"\n",
       "    // IPython event is triggered only after the cells have been serialised, which for\n",
       "    // our purposes (turning an active figure into a static one), is too late.\n",
       "    var cells = IPython.notebook.get_cells();\n",
       "    var ncells = cells.length;\n",
       "    for (var i=0; i<ncells; i++) {\n",
       "        var cell = cells[i];\n",
       "        if (cell.cell_type === 'code'){\n",
       "            for (var j=0; j<cell.output_area.outputs.length; j++) {\n",
       "                var data = cell.output_area.outputs[j];\n",
       "                if (data.data) {\n",
       "                    // IPython >= 3 moved mimebundle to data attribute of output\n",
       "                    data = data.data;\n",
       "                }\n",
       "                if (data['text/html'] == html_output) {\n",
       "                    return [cell, data, j];\n",
       "                }\n",
       "            }\n",
       "        }\n",
       "    }\n",
       "}\n",
       "\n",
       "// Register the function which deals with the matplotlib target/channel.\n",
       "// The kernel may be null if the page has been refreshed.\n",
       "if (IPython.notebook.kernel != null) {\n",
       "    IPython.notebook.kernel.comm_manager.register_target('matplotlib', mpl.mpl_figure_comm);\n",
       "}\n"
      ],
      "text/plain": [
       "<IPython.core.display.Javascript object>"
      ]
     },
     "metadata": {},
     "output_type": "display_data"
    },
    {
     "data": {
      "text/html": [
       "<img src=\"data:image/png;base64,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\" width=\"1000\">"
      ],
      "text/plain": [
       "<IPython.core.display.HTML object>"
      ]
     },
     "metadata": {},
     "output_type": "display_data"
    }
   ],
   "source": [
    "ax, tax, lax, lines = dual_train_plots()\n",
    "fig = ax.figure\n",
    "plt.tight_layout()"
   ]
  },
  {
   "cell_type": "code",
   "execution_count": 17,
   "metadata": {
    "scrolled": false
   },
   "outputs": [
    {
     "name": "stdout",
     "output_type": "stream",
     "text": [
      "Number of batches: train = 6667, val = 209\n"
     ]
    },
    {
     "data": {
      "application/vnd.jupyter.widget-view+json": {
       "model_id": "a097f3e542aa407abfeefbe56172702a",
       "version_major": 2,
       "version_minor": 0
      },
      "text/plain": [
       "HBox(children=(FloatProgress(value=0.0, description='Epochs', layout=Layout(flex='2'), max=75.0, style=Progres…"
      ]
     },
     "metadata": {},
     "output_type": "display_data"
    },
    {
     "name": "stdout",
     "output_type": "stream",
     "text": [
      "Number of batches: train = 6667, val = 209\n"
     ]
    },
    {
     "data": {
      "application/vnd.jupyter.widget-view+json": {
       "model_id": "",
       "version_major": 2,
       "version_minor": 0
      },
      "text/plain": [
       "HBox(children=(FloatProgress(value=0.0, description='Training', layout=Layout(flex='2'), max=6667.0, style=Pro…"
      ]
     },
     "metadata": {},
     "output_type": "display_data"
    },
    {
     "name": "stdout",
     "output_type": "stream",
     "text": [
      "Epoch 0: train=4.84055, val=3.68872, took 543.87 s\n"
     ]
    },
    {
     "data": {
      "application/vnd.jupyter.widget-view+json": {
       "model_id": "",
       "version_major": 2,
       "version_minor": 0
      },
      "text/plain": [
       "HBox(children=(FloatProgress(value=0.0, description='Training', layout=Layout(flex='2'), max=6667.0, style=Pro…"
      ]
     },
     "metadata": {},
     "output_type": "display_data"
    },
    {
     "name": "stdout",
     "output_type": "stream",
     "text": [
      "Epoch 1: train=4.82783, val=3.84977, took 555.14 s\n"
     ]
    },
    {
     "data": {
      "application/vnd.jupyter.widget-view+json": {
       "model_id": "",
       "version_major": 2,
       "version_minor": 0
      },
      "text/plain": [
       "HBox(children=(FloatProgress(value=0.0, description='Training', layout=Layout(flex='2'), max=6667.0, style=Pro…"
      ]
     },
     "metadata": {},
     "output_type": "display_data"
    },
    {
     "name": "stdout",
     "output_type": "stream",
     "text": [
      "Epoch 2: train=4.79796, val=3.76444, took 555.07 s\n"
     ]
    },
    {
     "data": {
      "application/vnd.jupyter.widget-view+json": {
       "model_id": "",
       "version_major": 2,
       "version_minor": 0
      },
      "text/plain": [
       "HBox(children=(FloatProgress(value=0.0, description='Training', layout=Layout(flex='2'), max=6667.0, style=Pro…"
      ]
     },
     "metadata": {},
     "output_type": "display_data"
    },
    {
     "name": "stdout",
     "output_type": "stream",
     "text": [
      "Epoch 3: train=4.80473, val=3.71269, took 563.38 s\n"
     ]
    },
    {
     "data": {
      "application/vnd.jupyter.widget-view+json": {
       "model_id": "",
       "version_major": 2,
       "version_minor": 0
      },
      "text/plain": [
       "HBox(children=(FloatProgress(value=0.0, description='Training', layout=Layout(flex='2'), max=6667.0, style=Pro…"
      ]
     },
     "metadata": {},
     "output_type": "display_data"
    },
    {
     "name": "stdout",
     "output_type": "stream",
     "text": [
      "Epoch 4: train=4.80608, val=4.25608, took 549.82 s\n"
     ]
    },
    {
     "data": {
      "application/vnd.jupyter.widget-view+json": {
       "model_id": "",
       "version_major": 2,
       "version_minor": 0
      },
      "text/plain": [
       "HBox(children=(FloatProgress(value=0.0, description='Training', layout=Layout(flex='2'), max=6667.0, style=Pro…"
      ]
     },
     "metadata": {},
     "output_type": "display_data"
    },
    {
     "name": "stdout",
     "output_type": "stream",
     "text": [
      "Epoch 5: train=4.79566, val=3.70765, took 549.9 s\n"
     ]
    },
    {
     "data": {
      "application/vnd.jupyter.widget-view+json": {
       "model_id": "",
       "version_major": 2,
       "version_minor": 0
      },
      "text/plain": [
       "HBox(children=(FloatProgress(value=0.0, description='Training', layout=Layout(flex='2'), max=6667.0, style=Pro…"
      ]
     },
     "metadata": {},
     "output_type": "display_data"
    },
    {
     "name": "stdout",
     "output_type": "stream",
     "text": [
      "Epoch 6: train=4.77666, val=3.80384, took 548.26 s\n"
     ]
    },
    {
     "data": {
      "application/vnd.jupyter.widget-view+json": {
       "model_id": "",
       "version_major": 2,
       "version_minor": 0
      },
      "text/plain": [
       "HBox(children=(FloatProgress(value=0.0, description='Training', layout=Layout(flex='2'), max=6667.0, style=Pro…"
      ]
     },
     "metadata": {},
     "output_type": "display_data"
    },
    {
     "name": "stdout",
     "output_type": "stream",
     "text": [
      "Epoch 7: train=4.78252, val=3.91937, took 549.6 s\n"
     ]
    },
    {
     "data": {
      "application/vnd.jupyter.widget-view+json": {
       "model_id": "",
       "version_major": 2,
       "version_minor": 0
      },
      "text/plain": [
       "HBox(children=(FloatProgress(value=0.0, description='Training', layout=Layout(flex='2'), max=6667.0, style=Pro…"
      ]
     },
     "metadata": {},
     "output_type": "display_data"
    },
    {
     "name": "stdout",
     "output_type": "stream",
     "text": [
      "Epoch 8: train=4.78417, val=3.65318, took 550.41 s\n"
     ]
    },
    {
     "data": {
      "application/vnd.jupyter.widget-view+json": {
       "model_id": "",
       "version_major": 2,
       "version_minor": 0
      },
      "text/plain": [
       "HBox(children=(FloatProgress(value=0.0, description='Training', layout=Layout(flex='2'), max=6667.0, style=Pro…"
      ]
     },
     "metadata": {},
     "output_type": "display_data"
    },
    {
     "name": "stdout",
     "output_type": "stream",
     "text": [
      "Epoch 9: train=4.78334, val=3.93853, took 549.77 s\n"
     ]
    },
    {
     "data": {
      "application/vnd.jupyter.widget-view+json": {
       "model_id": "",
       "version_major": 2,
       "version_minor": 0
      },
      "text/plain": [
       "HBox(children=(FloatProgress(value=0.0, description='Training', layout=Layout(flex='2'), max=6667.0, style=Pro…"
      ]
     },
     "metadata": {},
     "output_type": "display_data"
    },
    {
     "name": "stdout",
     "output_type": "stream",
     "text": [
      "Epoch 10: train=4.77432, val=3.84085, took 548.6 s\n"
     ]
    },
    {
     "data": {
      "application/vnd.jupyter.widget-view+json": {
       "model_id": "",
       "version_major": 2,
       "version_minor": 0
      },
      "text/plain": [
       "HBox(children=(FloatProgress(value=0.0, description='Training', layout=Layout(flex='2'), max=6667.0, style=Pro…"
      ]
     },
     "metadata": {},
     "output_type": "display_data"
    },
    {
     "name": "stdout",
     "output_type": "stream",
     "text": [
      "Epoch 11: train=4.74345, val=3.78675, took 552.56 s\n"
     ]
    },
    {
     "data": {
      "application/vnd.jupyter.widget-view+json": {
       "model_id": "",
       "version_major": 2,
       "version_minor": 0
      },
      "text/plain": [
       "HBox(children=(FloatProgress(value=0.0, description='Training', layout=Layout(flex='2'), max=6667.0, style=Pro…"
      ]
     },
     "metadata": {},
     "output_type": "display_data"
    },
    {
     "name": "stdout",
     "output_type": "stream",
     "text": [
      "Epoch 12: train=4.74568, val=3.85934, took 549.92 s\n"
     ]
    },
    {
     "data": {
      "application/vnd.jupyter.widget-view+json": {
       "model_id": "",
       "version_major": 2,
       "version_minor": 0
      },
      "text/plain": [
       "HBox(children=(FloatProgress(value=0.0, description='Training', layout=Layout(flex='2'), max=6667.0, style=Pro…"
      ]
     },
     "metadata": {},
     "output_type": "display_data"
    },
    {
     "name": "stdout",
     "output_type": "stream",
     "text": [
      "Epoch 13: train=4.76098, val=3.82864, took 545.32 s\n"
     ]
    },
    {
     "data": {
      "application/vnd.jupyter.widget-view+json": {
       "model_id": "",
       "version_major": 2,
       "version_minor": 0
      },
      "text/plain": [
       "HBox(children=(FloatProgress(value=0.0, description='Training', layout=Layout(flex='2'), max=6667.0, style=Pro…"
      ]
     },
     "metadata": {},
     "output_type": "display_data"
    },
    {
     "name": "stdout",
     "output_type": "stream",
     "text": [
      "Epoch 14: train=4.73336, val=3.65215, took 545.33 s\n"
     ]
    },
    {
     "data": {
      "application/vnd.jupyter.widget-view+json": {
       "model_id": "",
       "version_major": 2,
       "version_minor": 0
      },
      "text/plain": [
       "HBox(children=(FloatProgress(value=0.0, description='Training', layout=Layout(flex='2'), max=6667.0, style=Pro…"
      ]
     },
     "metadata": {},
     "output_type": "display_data"
    },
    {
     "name": "stdout",
     "output_type": "stream",
     "text": [
      "Epoch 15: train=4.76973, val=3.68, took 545.78 s\n"
     ]
    },
    {
     "data": {
      "application/vnd.jupyter.widget-view+json": {
       "model_id": "",
       "version_major": 2,
       "version_minor": 0
      },
      "text/plain": [
       "HBox(children=(FloatProgress(value=0.0, description='Training', layout=Layout(flex='2'), max=6667.0, style=Pro…"
      ]
     },
     "metadata": {},
     "output_type": "display_data"
    },
    {
     "name": "stdout",
     "output_type": "stream",
     "text": [
      "Epoch 16: train=4.75204, val=3.71906, took 546.53 s\n"
     ]
    },
    {
     "data": {
      "application/vnd.jupyter.widget-view+json": {
       "model_id": "",
       "version_major": 2,
       "version_minor": 0
      },
      "text/plain": [
       "HBox(children=(FloatProgress(value=0.0, description='Training', layout=Layout(flex='2'), max=6667.0, style=Pro…"
      ]
     },
     "metadata": {},
     "output_type": "display_data"
    },
    {
     "name": "stdout",
     "output_type": "stream",
     "text": [
      "Epoch 17: train=4.74866, val=3.88412, took 550.08 s\n"
     ]
    },
    {
     "data": {
      "application/vnd.jupyter.widget-view+json": {
       "model_id": "",
       "version_major": 2,
       "version_minor": 0
      },
      "text/plain": [
       "HBox(children=(FloatProgress(value=0.0, description='Training', layout=Layout(flex='2'), max=6667.0, style=Pro…"
      ]
     },
     "metadata": {},
     "output_type": "display_data"
    },
    {
     "name": "stdout",
     "output_type": "stream",
     "text": [
      "Epoch 18: train=4.70776, val=3.6076, took 548.63 s\n"
     ]
    },
    {
     "data": {
      "application/vnd.jupyter.widget-view+json": {
       "model_id": "",
       "version_major": 2,
       "version_minor": 0
      },
      "text/plain": [
       "HBox(children=(FloatProgress(value=0.0, description='Training', layout=Layout(flex='2'), max=6667.0, style=Pro…"
      ]
     },
     "metadata": {},
     "output_type": "display_data"
    },
    {
     "name": "stdout",
     "output_type": "stream",
     "text": [
      "Epoch 19: train=4.77442, val=3.64645, took 546.48 s\n"
     ]
    },
    {
     "data": {
      "application/vnd.jupyter.widget-view+json": {
       "model_id": "",
       "version_major": 2,
       "version_minor": 0
      },
      "text/plain": [
       "HBox(children=(FloatProgress(value=0.0, description='Training', layout=Layout(flex='2'), max=6667.0, style=Pro…"
      ]
     },
     "metadata": {},
     "output_type": "display_data"
    },
    {
     "name": "stdout",
     "output_type": "stream",
     "text": [
      "Epoch 20: train=4.72282, val=3.7366, took 545.47 s\n"
     ]
    },
    {
     "data": {
      "application/vnd.jupyter.widget-view+json": {
       "model_id": "",
       "version_major": 2,
       "version_minor": 0
      },
      "text/plain": [
       "HBox(children=(FloatProgress(value=0.0, description='Training', layout=Layout(flex='2'), max=6667.0, style=Pro…"
      ]
     },
     "metadata": {},
     "output_type": "display_data"
    },
    {
     "name": "stdout",
     "output_type": "stream",
     "text": [
      "Epoch 21: train=4.72523, val=4.65532, took 548.69 s\n"
     ]
    },
    {
     "data": {
      "application/vnd.jupyter.widget-view+json": {
       "model_id": "",
       "version_major": 2,
       "version_minor": 0
      },
      "text/plain": [
       "HBox(children=(FloatProgress(value=0.0, description='Training', layout=Layout(flex='2'), max=6667.0, style=Pro…"
      ]
     },
     "metadata": {},
     "output_type": "display_data"
    },
    {
     "name": "stdout",
     "output_type": "stream",
     "text": [
      "Epoch 22: train=4.71203, val=3.89496, took 547.93 s\n"
     ]
    },
    {
     "data": {
      "application/vnd.jupyter.widget-view+json": {
       "model_id": "",
       "version_major": 2,
       "version_minor": 0
      },
      "text/plain": [
       "HBox(children=(FloatProgress(value=0.0, description='Training', layout=Layout(flex='2'), max=6667.0, style=Pro…"
      ]
     },
     "metadata": {},
     "output_type": "display_data"
    },
    {
     "name": "stdout",
     "output_type": "stream",
     "text": [
      "Epoch 23: train=4.72238, val=3.66685, took 545.92 s\n"
     ]
    },
    {
     "data": {
      "application/vnd.jupyter.widget-view+json": {
       "model_id": "",
       "version_major": 2,
       "version_minor": 0
      },
      "text/plain": [
       "HBox(children=(FloatProgress(value=0.0, description='Training', layout=Layout(flex='2'), max=6667.0, style=Pro…"
      ]
     },
     "metadata": {},
     "output_type": "display_data"
    },
    {
     "name": "stdout",
     "output_type": "stream",
     "text": [
      "Epoch 24: train=4.69014, val=3.94105, took 551.06 s\n"
     ]
    },
    {
     "data": {
      "application/vnd.jupyter.widget-view+json": {
       "model_id": "",
       "version_major": 2,
       "version_minor": 0
      },
      "text/plain": [
       "HBox(children=(FloatProgress(value=0.0, description='Training', layout=Layout(flex='2'), max=6667.0, style=Pro…"
      ]
     },
     "metadata": {},
     "output_type": "display_data"
    },
    {
     "name": "stdout",
     "output_type": "stream",
     "text": [
      "Epoch 25: train=4.68045, val=3.63946, took 551.44 s\n"
     ]
    },
    {
     "data": {
      "application/vnd.jupyter.widget-view+json": {
       "model_id": "",
       "version_major": 2,
       "version_minor": 0
      },
      "text/plain": [
       "HBox(children=(FloatProgress(value=0.0, description='Training', layout=Layout(flex='2'), max=6667.0, style=Pro…"
      ]
     },
     "metadata": {},
     "output_type": "display_data"
    },
    {
     "name": "stdout",
     "output_type": "stream",
     "text": [
      "Epoch 26: train=4.70465, val=3.6426, took 551.41 s\n"
     ]
    },
    {
     "data": {
      "application/vnd.jupyter.widget-view+json": {
       "model_id": "",
       "version_major": 2,
       "version_minor": 0
      },
      "text/plain": [
       "HBox(children=(FloatProgress(value=0.0, description='Training', layout=Layout(flex='2'), max=6667.0, style=Pro…"
      ]
     },
     "metadata": {},
     "output_type": "display_data"
    },
    {
     "name": "stdout",
     "output_type": "stream",
     "text": [
      "Epoch 27: train=4.69873, val=3.59063, took 550.32 s\n"
     ]
    },
    {
     "data": {
      "application/vnd.jupyter.widget-view+json": {
       "model_id": "",
       "version_major": 2,
       "version_minor": 0
      },
      "text/plain": [
       "HBox(children=(FloatProgress(value=0.0, description='Training', layout=Layout(flex='2'), max=6667.0, style=Pro…"
      ]
     },
     "metadata": {},
     "output_type": "display_data"
    },
    {
     "name": "stdout",
     "output_type": "stream",
     "text": [
      "Epoch 28: train=4.70377, val=3.56358, took 548.09 s\n"
     ]
    },
    {
     "data": {
      "application/vnd.jupyter.widget-view+json": {
       "model_id": "",
       "version_major": 2,
       "version_minor": 0
      },
      "text/plain": [
       "HBox(children=(FloatProgress(value=0.0, description='Training', layout=Layout(flex='2'), max=6667.0, style=Pro…"
      ]
     },
     "metadata": {},
     "output_type": "display_data"
    },
    {
     "name": "stdout",
     "output_type": "stream",
     "text": [
      "Epoch 29: train=4.69812, val=4.21168, took 551.07 s\n"
     ]
    },
    {
     "data": {
      "application/vnd.jupyter.widget-view+json": {
       "model_id": "",
       "version_major": 2,
       "version_minor": 0
      },
      "text/plain": [
       "HBox(children=(FloatProgress(value=0.0, description='Training', layout=Layout(flex='2'), max=6667.0, style=Pro…"
      ]
     },
     "metadata": {},
     "output_type": "display_data"
    },
    {
     "name": "stdout",
     "output_type": "stream",
     "text": [
      "Epoch 30: train=4.66064, val=3.5904, took 572.12 s\n"
     ]
    },
    {
     "data": {
      "application/vnd.jupyter.widget-view+json": {
       "model_id": "",
       "version_major": 2,
       "version_minor": 0
      },
      "text/plain": [
       "HBox(children=(FloatProgress(value=0.0, description='Training', layout=Layout(flex='2'), max=6667.0, style=Pro…"
      ]
     },
     "metadata": {},
     "output_type": "display_data"
    },
    {
     "name": "stdout",
     "output_type": "stream",
     "text": [
      "Epoch 31: train=4.657, val=4.10812, took 608.54 s\n"
     ]
    },
    {
     "data": {
      "application/vnd.jupyter.widget-view+json": {
       "model_id": "",
       "version_major": 2,
       "version_minor": 0
      },
      "text/plain": [
       "HBox(children=(FloatProgress(value=0.0, description='Training', layout=Layout(flex='2'), max=6667.0, style=Pro…"
      ]
     },
     "metadata": {},
     "output_type": "display_data"
    },
    {
     "name": "stdout",
     "output_type": "stream",
     "text": [
      "Epoch 32: train=4.7264, val=3.56727, took 561.81 s\n"
     ]
    },
    {
     "data": {
      "application/vnd.jupyter.widget-view+json": {
       "model_id": "",
       "version_major": 2,
       "version_minor": 0
      },
      "text/plain": [
       "HBox(children=(FloatProgress(value=0.0, description='Training', layout=Layout(flex='2'), max=6667.0, style=Pro…"
      ]
     },
     "metadata": {},
     "output_type": "display_data"
    },
    {
     "name": "stdout",
     "output_type": "stream",
     "text": [
      "Epoch 33: train=4.64346, val=3.78384, took 559.4 s\n"
     ]
    },
    {
     "data": {
      "application/vnd.jupyter.widget-view+json": {
       "model_id": "",
       "version_major": 2,
       "version_minor": 0
      },
      "text/plain": [
       "HBox(children=(FloatProgress(value=0.0, description='Training', layout=Layout(flex='2'), max=6667.0, style=Pro…"
      ]
     },
     "metadata": {},
     "output_type": "display_data"
    },
    {
     "name": "stdout",
     "output_type": "stream",
     "text": [
      "Epoch 34: train=4.66776, val=3.7643, took 567.87 s\n"
     ]
    },
    {
     "data": {
      "application/vnd.jupyter.widget-view+json": {
       "model_id": "",
       "version_major": 2,
       "version_minor": 0
      },
      "text/plain": [
       "HBox(children=(FloatProgress(value=0.0, description='Training', layout=Layout(flex='2'), max=6667.0, style=Pro…"
      ]
     },
     "metadata": {},
     "output_type": "display_data"
    },
    {
     "name": "stdout",
     "output_type": "stream",
     "text": [
      "Epoch 35: train=4.64615, val=4.93747, took 562.69 s\n"
     ]
    },
    {
     "data": {
      "application/vnd.jupyter.widget-view+json": {
       "model_id": "",
       "version_major": 2,
       "version_minor": 0
      },
      "text/plain": [
       "HBox(children=(FloatProgress(value=0.0, description='Training', layout=Layout(flex='2'), max=6667.0, style=Pro…"
      ]
     },
     "metadata": {},
     "output_type": "display_data"
    },
    {
     "name": "stdout",
     "output_type": "stream",
     "text": [
      "Epoch 36: train=4.66632, val=4.2464, took 571.24 s\n"
     ]
    },
    {
     "data": {
      "application/vnd.jupyter.widget-view+json": {
       "model_id": "",
       "version_major": 2,
       "version_minor": 0
      },
      "text/plain": [
       "HBox(children=(FloatProgress(value=0.0, description='Training', layout=Layout(flex='2'), max=6667.0, style=Pro…"
      ]
     },
     "metadata": {},
     "output_type": "display_data"
    },
    {
     "name": "stdout",
     "output_type": "stream",
     "text": [
      "Epoch 37: train=4.66596, val=3.5466, took 591.63 s\n"
     ]
    },
    {
     "data": {
      "application/vnd.jupyter.widget-view+json": {
       "model_id": "",
       "version_major": 2,
       "version_minor": 0
      },
      "text/plain": [
       "HBox(children=(FloatProgress(value=0.0, description='Training', layout=Layout(flex='2'), max=6667.0, style=Pro…"
      ]
     },
     "metadata": {},
     "output_type": "display_data"
    },
    {
     "name": "stdout",
     "output_type": "stream",
     "text": [
      "Epoch 38: train=4.63344, val=3.79798, took 550.97 s\n"
     ]
    },
    {
     "data": {
      "application/vnd.jupyter.widget-view+json": {
       "model_id": "",
       "version_major": 2,
       "version_minor": 0
      },
      "text/plain": [
       "HBox(children=(FloatProgress(value=0.0, description='Training', layout=Layout(flex='2'), max=6667.0, style=Pro…"
      ]
     },
     "metadata": {},
     "output_type": "display_data"
    },
    {
     "name": "stdout",
     "output_type": "stream",
     "text": [
      "Epoch 39: train=4.63242, val=3.60807, took 550.61 s\n"
     ]
    },
    {
     "data": {
      "application/vnd.jupyter.widget-view+json": {
       "model_id": "",
       "version_major": 2,
       "version_minor": 0
      },
      "text/plain": [
       "HBox(children=(FloatProgress(value=0.0, description='Training', layout=Layout(flex='2'), max=6667.0, style=Pro…"
      ]
     },
     "metadata": {},
     "output_type": "display_data"
    },
    {
     "name": "stdout",
     "output_type": "stream",
     "text": [
      "Epoch 40: train=4.64717, val=3.72821, took 549.37 s\n"
     ]
    },
    {
     "data": {
      "application/vnd.jupyter.widget-view+json": {
       "model_id": "",
       "version_major": 2,
       "version_minor": 0
      },
      "text/plain": [
       "HBox(children=(FloatProgress(value=0.0, description='Training', layout=Layout(flex='2'), max=6667.0, style=Pro…"
      ]
     },
     "metadata": {},
     "output_type": "display_data"
    },
    {
     "name": "stdout",
     "output_type": "stream",
     "text": [
      "Epoch 41: train=4.65125, val=3.60605, took 550.43 s\n"
     ]
    },
    {
     "data": {
      "application/vnd.jupyter.widget-view+json": {
       "model_id": "",
       "version_major": 2,
       "version_minor": 0
      },
      "text/plain": [
       "HBox(children=(FloatProgress(value=0.0, description='Training', layout=Layout(flex='2'), max=6667.0, style=Pro…"
      ]
     },
     "metadata": {},
     "output_type": "display_data"
    },
    {
     "name": "stdout",
     "output_type": "stream",
     "text": [
      "Epoch 42: train=4.62387, val=4.51627, took 550.82 s\n"
     ]
    },
    {
     "data": {
      "application/vnd.jupyter.widget-view+json": {
       "model_id": "",
       "version_major": 2,
       "version_minor": 0
      },
      "text/plain": [
       "HBox(children=(FloatProgress(value=0.0, description='Training', layout=Layout(flex='2'), max=6667.0, style=Pro…"
      ]
     },
     "metadata": {},
     "output_type": "display_data"
    },
    {
     "name": "stdout",
     "output_type": "stream",
     "text": [
      "Epoch 43: train=4.62487, val=3.61108, took 553.59 s\n"
     ]
    },
    {
     "data": {
      "application/vnd.jupyter.widget-view+json": {
       "model_id": "",
       "version_major": 2,
       "version_minor": 0
      },
      "text/plain": [
       "HBox(children=(FloatProgress(value=0.0, description='Training', layout=Layout(flex='2'), max=6667.0, style=Pro…"
      ]
     },
     "metadata": {},
     "output_type": "display_data"
    },
    {
     "name": "stdout",
     "output_type": "stream",
     "text": [
      "Epoch 44: train=4.63388, val=3.68934, took 559.58 s\n"
     ]
    },
    {
     "data": {
      "application/vnd.jupyter.widget-view+json": {
       "model_id": "",
       "version_major": 2,
       "version_minor": 0
      },
      "text/plain": [
       "HBox(children=(FloatProgress(value=0.0, description='Training', layout=Layout(flex='2'), max=6667.0, style=Pro…"
      ]
     },
     "metadata": {},
     "output_type": "display_data"
    },
    {
     "name": "stdout",
     "output_type": "stream",
     "text": [
      "Epoch 45: train=4.62628, val=3.53103, took 550.97 s\n"
     ]
    },
    {
     "data": {
      "application/vnd.jupyter.widget-view+json": {
       "model_id": "",
       "version_major": 2,
       "version_minor": 0
      },
      "text/plain": [
       "HBox(children=(FloatProgress(value=0.0, description='Training', layout=Layout(flex='2'), max=6667.0, style=Pro…"
      ]
     },
     "metadata": {},
     "output_type": "display_data"
    },
    {
     "name": "stdout",
     "output_type": "stream",
     "text": [
      "Epoch 46: train=4.63886, val=3.54502, took 554.58 s\n"
     ]
    },
    {
     "data": {
      "application/vnd.jupyter.widget-view+json": {
       "model_id": "",
       "version_major": 2,
       "version_minor": 0
      },
      "text/plain": [
       "HBox(children=(FloatProgress(value=0.0, description='Training', layout=Layout(flex='2'), max=6667.0, style=Pro…"
      ]
     },
     "metadata": {},
     "output_type": "display_data"
    },
    {
     "name": "stdout",
     "output_type": "stream",
     "text": [
      "Epoch 47: train=4.62286, val=3.74194, took 548.82 s\n"
     ]
    },
    {
     "data": {
      "application/vnd.jupyter.widget-view+json": {
       "model_id": "",
       "version_major": 2,
       "version_minor": 0
      },
      "text/plain": [
       "HBox(children=(FloatProgress(value=0.0, description='Training', layout=Layout(flex='2'), max=6667.0, style=Pro…"
      ]
     },
     "metadata": {},
     "output_type": "display_data"
    },
    {
     "name": "stdout",
     "output_type": "stream",
     "text": [
      "Epoch 48: train=4.5776, val=3.59821, took 550.76 s\n"
     ]
    },
    {
     "data": {
      "application/vnd.jupyter.widget-view+json": {
       "model_id": "",
       "version_major": 2,
       "version_minor": 0
      },
      "text/plain": [
       "HBox(children=(FloatProgress(value=0.0, description='Training', layout=Layout(flex='2'), max=6667.0, style=Pro…"
      ]
     },
     "metadata": {},
     "output_type": "display_data"
    },
    {
     "name": "stdout",
     "output_type": "stream",
     "text": [
      "Epoch 49: train=4.60179, val=3.6278, took 549.54 s\n"
     ]
    },
    {
     "data": {
      "application/vnd.jupyter.widget-view+json": {
       "model_id": "",
       "version_major": 2,
       "version_minor": 0
      },
      "text/plain": [
       "HBox(children=(FloatProgress(value=0.0, description='Training', layout=Layout(flex='2'), max=6667.0, style=Pro…"
      ]
     },
     "metadata": {},
     "output_type": "display_data"
    },
    {
     "name": "stdout",
     "output_type": "stream",
     "text": [
      "Epoch 50: train=4.60285, val=4.81258, took 547.38 s\n"
     ]
    },
    {
     "data": {
      "application/vnd.jupyter.widget-view+json": {
       "model_id": "",
       "version_major": 2,
       "version_minor": 0
      },
      "text/plain": [
       "HBox(children=(FloatProgress(value=0.0, description='Training', layout=Layout(flex='2'), max=6667.0, style=Pro…"
      ]
     },
     "metadata": {},
     "output_type": "display_data"
    },
    {
     "name": "stdout",
     "output_type": "stream",
     "text": [
      "Epoch 51: train=4.59462, val=3.97215, took 550.69 s\n"
     ]
    },
    {
     "data": {
      "application/vnd.jupyter.widget-view+json": {
       "model_id": "",
       "version_major": 2,
       "version_minor": 0
      },
      "text/plain": [
       "HBox(children=(FloatProgress(value=0.0, description='Training', layout=Layout(flex='2'), max=6667.0, style=Pro…"
      ]
     },
     "metadata": {},
     "output_type": "display_data"
    },
    {
     "name": "stdout",
     "output_type": "stream",
     "text": [
      "Epoch 52: train=4.58787, val=4.21564, took 548.91 s\n"
     ]
    },
    {
     "data": {
      "application/vnd.jupyter.widget-view+json": {
       "model_id": "",
       "version_major": 2,
       "version_minor": 0
      },
      "text/plain": [
       "HBox(children=(FloatProgress(value=0.0, description='Training', layout=Layout(flex='2'), max=6667.0, style=Pro…"
      ]
     },
     "metadata": {},
     "output_type": "display_data"
    },
    {
     "name": "stdout",
     "output_type": "stream",
     "text": [
      "Epoch 53: train=4.57591, val=3.59454, took 548.46 s\n"
     ]
    },
    {
     "data": {
      "application/vnd.jupyter.widget-view+json": {
       "model_id": "",
       "version_major": 2,
       "version_minor": 0
      },
      "text/plain": [
       "HBox(children=(FloatProgress(value=0.0, description='Training', layout=Layout(flex='2'), max=6667.0, style=Pro…"
      ]
     },
     "metadata": {},
     "output_type": "display_data"
    },
    {
     "name": "stdout",
     "output_type": "stream",
     "text": [
      "Epoch 54: train=4.57699, val=4.14228, took 547.01 s\n"
     ]
    },
    {
     "data": {
      "application/vnd.jupyter.widget-view+json": {
       "model_id": "",
       "version_major": 2,
       "version_minor": 0
      },
      "text/plain": [
       "HBox(children=(FloatProgress(value=0.0, description='Training', layout=Layout(flex='2'), max=6667.0, style=Pro…"
      ]
     },
     "metadata": {},
     "output_type": "display_data"
    },
    {
     "name": "stdout",
     "output_type": "stream",
     "text": [
      "Epoch 55: train=4.58075, val=3.67045, took 547.55 s\n"
     ]
    },
    {
     "data": {
      "application/vnd.jupyter.widget-view+json": {
       "model_id": "",
       "version_major": 2,
       "version_minor": 0
      },
      "text/plain": [
       "HBox(children=(FloatProgress(value=0.0, description='Training', layout=Layout(flex='2'), max=6667.0, style=Pro…"
      ]
     },
     "metadata": {},
     "output_type": "display_data"
    },
    {
     "name": "stdout",
     "output_type": "stream",
     "text": [
      "Epoch 56: train=4.62747, val=3.57181, took 549.72 s\n"
     ]
    },
    {
     "data": {
      "application/vnd.jupyter.widget-view+json": {
       "model_id": "",
       "version_major": 2,
       "version_minor": 0
      },
      "text/plain": [
       "HBox(children=(FloatProgress(value=0.0, description='Training', layout=Layout(flex='2'), max=6667.0, style=Pro…"
      ]
     },
     "metadata": {},
     "output_type": "display_data"
    },
    {
     "name": "stdout",
     "output_type": "stream",
     "text": [
      "Epoch 57: train=4.5769, val=3.49676, took 549.2 s\n"
     ]
    },
    {
     "data": {
      "application/vnd.jupyter.widget-view+json": {
       "model_id": "",
       "version_major": 2,
       "version_minor": 0
      },
      "text/plain": [
       "HBox(children=(FloatProgress(value=0.0, description='Training', layout=Layout(flex='2'), max=6667.0, style=Pro…"
      ]
     },
     "metadata": {},
     "output_type": "display_data"
    },
    {
     "name": "stdout",
     "output_type": "stream",
     "text": [
      "Epoch 58: train=4.58799, val=3.47378, took 548.3 s\n"
     ]
    },
    {
     "data": {
      "application/vnd.jupyter.widget-view+json": {
       "model_id": "",
       "version_major": 2,
       "version_minor": 0
      },
      "text/plain": [
       "HBox(children=(FloatProgress(value=0.0, description='Training', layout=Layout(flex='2'), max=6667.0, style=Pro…"
      ]
     },
     "metadata": {},
     "output_type": "display_data"
    },
    {
     "name": "stdout",
     "output_type": "stream",
     "text": [
      "Epoch 59: train=4.56675, val=3.59587, took 549.13 s\n"
     ]
    },
    {
     "data": {
      "application/vnd.jupyter.widget-view+json": {
       "model_id": "",
       "version_major": 2,
       "version_minor": 0
      },
      "text/plain": [
       "HBox(children=(FloatProgress(value=0.0, description='Training', layout=Layout(flex='2'), max=6667.0, style=Pro…"
      ]
     },
     "metadata": {},
     "output_type": "display_data"
    },
    {
     "name": "stdout",
     "output_type": "stream",
     "text": [
      "Epoch 60: train=4.56577, val=3.48431, took 547.12 s\n"
     ]
    },
    {
     "data": {
      "application/vnd.jupyter.widget-view+json": {
       "model_id": "",
       "version_major": 2,
       "version_minor": 0
      },
      "text/plain": [
       "HBox(children=(FloatProgress(value=0.0, description='Training', layout=Layout(flex='2'), max=6667.0, style=Pro…"
      ]
     },
     "metadata": {},
     "output_type": "display_data"
    },
    {
     "name": "stdout",
     "output_type": "stream",
     "text": [
      "Epoch 61: train=4.55629, val=3.72319, took 549.94 s\n"
     ]
    },
    {
     "data": {
      "application/vnd.jupyter.widget-view+json": {
       "model_id": "",
       "version_major": 2,
       "version_minor": 0
      },
      "text/plain": [
       "HBox(children=(FloatProgress(value=0.0, description='Training', layout=Layout(flex='2'), max=6667.0, style=Pro…"
      ]
     },
     "metadata": {},
     "output_type": "display_data"
    },
    {
     "name": "stdout",
     "output_type": "stream",
     "text": [
      "Epoch 62: train=4.56462, val=3.52042, took 546.57 s\n"
     ]
    },
    {
     "data": {
      "application/vnd.jupyter.widget-view+json": {
       "model_id": "",
       "version_major": 2,
       "version_minor": 0
      },
      "text/plain": [
       "HBox(children=(FloatProgress(value=0.0, description='Training', layout=Layout(flex='2'), max=6667.0, style=Pro…"
      ]
     },
     "metadata": {},
     "output_type": "display_data"
    },
    {
     "name": "stdout",
     "output_type": "stream",
     "text": [
      "Epoch 63: train=4.57382, val=4.01091, took 546.58 s\n"
     ]
    },
    {
     "data": {
      "application/vnd.jupyter.widget-view+json": {
       "model_id": "",
       "version_major": 2,
       "version_minor": 0
      },
      "text/plain": [
       "HBox(children=(FloatProgress(value=0.0, description='Training', layout=Layout(flex='2'), max=6667.0, style=Pro…"
      ]
     },
     "metadata": {},
     "output_type": "display_data"
    },
    {
     "name": "stdout",
     "output_type": "stream",
     "text": [
      "Epoch 64: train=4.56036, val=3.51643, took 549.12 s\n"
     ]
    },
    {
     "data": {
      "application/vnd.jupyter.widget-view+json": {
       "model_id": "",
       "version_major": 2,
       "version_minor": 0
      },
      "text/plain": [
       "HBox(children=(FloatProgress(value=0.0, description='Training', layout=Layout(flex='2'), max=6667.0, style=Pro…"
      ]
     },
     "metadata": {},
     "output_type": "display_data"
    },
    {
     "name": "stdout",
     "output_type": "stream",
     "text": [
      "Epoch 65: train=4.54325, val=3.7555, took 549.31 s\n"
     ]
    },
    {
     "data": {
      "application/vnd.jupyter.widget-view+json": {
       "model_id": "",
       "version_major": 2,
       "version_minor": 0
      },
      "text/plain": [
       "HBox(children=(FloatProgress(value=0.0, description='Training', layout=Layout(flex='2'), max=6667.0, style=Pro…"
      ]
     },
     "metadata": {},
     "output_type": "display_data"
    },
    {
     "name": "stdout",
     "output_type": "stream",
     "text": [
      "Epoch 66: train=4.55414, val=3.91837, took 546.86 s\n"
     ]
    },
    {
     "data": {
      "application/vnd.jupyter.widget-view+json": {
       "model_id": "",
       "version_major": 2,
       "version_minor": 0
      },
      "text/plain": [
       "HBox(children=(FloatProgress(value=0.0, description='Training', layout=Layout(flex='2'), max=6667.0, style=Pro…"
      ]
     },
     "metadata": {},
     "output_type": "display_data"
    },
    {
     "name": "stdout",
     "output_type": "stream",
     "text": [
      "Epoch 67: train=4.54626, val=3.73349, took 553.87 s\n"
     ]
    },
    {
     "data": {
      "application/vnd.jupyter.widget-view+json": {
       "model_id": "",
       "version_major": 2,
       "version_minor": 0
      },
      "text/plain": [
       "HBox(children=(FloatProgress(value=0.0, description='Training', layout=Layout(flex='2'), max=6667.0, style=Pro…"
      ]
     },
     "metadata": {},
     "output_type": "display_data"
    },
    {
     "name": "stdout",
     "output_type": "stream",
     "text": [
      "Epoch 68: train=4.558, val=3.53143, took 551.24 s\n"
     ]
    },
    {
     "data": {
      "application/vnd.jupyter.widget-view+json": {
       "model_id": "",
       "version_major": 2,
       "version_minor": 0
      },
      "text/plain": [
       "HBox(children=(FloatProgress(value=0.0, description='Training', layout=Layout(flex='2'), max=6667.0, style=Pro…"
      ]
     },
     "metadata": {},
     "output_type": "display_data"
    },
    {
     "name": "stdout",
     "output_type": "stream",
     "text": [
      "Epoch 69: train=4.54513, val=3.59045, took 553.59 s\n"
     ]
    },
    {
     "data": {
      "application/vnd.jupyter.widget-view+json": {
       "model_id": "",
       "version_major": 2,
       "version_minor": 0
      },
      "text/plain": [
       "HBox(children=(FloatProgress(value=0.0, description='Training', layout=Layout(flex='2'), max=6667.0, style=Pro…"
      ]
     },
     "metadata": {},
     "output_type": "display_data"
    },
    {
     "name": "stdout",
     "output_type": "stream",
     "text": [
      "Epoch 70: train=4.55606, val=3.90308, took 547.0 s\n"
     ]
    },
    {
     "data": {
      "application/vnd.jupyter.widget-view+json": {
       "model_id": "",
       "version_major": 2,
       "version_minor": 0
      },
      "text/plain": [
       "HBox(children=(FloatProgress(value=0.0, description='Training', layout=Layout(flex='2'), max=6667.0, style=Pro…"
      ]
     },
     "metadata": {},
     "output_type": "display_data"
    },
    {
     "name": "stdout",
     "output_type": "stream",
     "text": [
      "Epoch 71: train=4.51581, val=3.59789, took 546.33 s\n"
     ]
    },
    {
     "data": {
      "application/vnd.jupyter.widget-view+json": {
       "model_id": "",
       "version_major": 2,
       "version_minor": 0
      },
      "text/plain": [
       "HBox(children=(FloatProgress(value=0.0, description='Training', layout=Layout(flex='2'), max=6667.0, style=Pro…"
      ]
     },
     "metadata": {},
     "output_type": "display_data"
    },
    {
     "name": "stdout",
     "output_type": "stream",
     "text": [
      "Epoch 72: train=4.53629, val=3.48542, took 550.09 s\n"
     ]
    },
    {
     "data": {
      "application/vnd.jupyter.widget-view+json": {
       "model_id": "",
       "version_major": 2,
       "version_minor": 0
      },
      "text/plain": [
       "HBox(children=(FloatProgress(value=0.0, description='Training', layout=Layout(flex='2'), max=6667.0, style=Pro…"
      ]
     },
     "metadata": {},
     "output_type": "display_data"
    },
    {
     "name": "stdout",
     "output_type": "stream",
     "text": [
      "Epoch 73: train=4.5174, val=5.1396, took 549.15 s\n"
     ]
    },
    {
     "data": {
      "application/vnd.jupyter.widget-view+json": {
       "model_id": "",
       "version_major": 2,
       "version_minor": 0
      },
      "text/plain": [
       "HBox(children=(FloatProgress(value=0.0, description='Training', layout=Layout(flex='2'), max=6667.0, style=Pro…"
      ]
     },
     "metadata": {},
     "output_type": "display_data"
    },
    {
     "name": "stdout",
     "output_type": "stream",
     "text": [
      "Epoch 74: train=4.51014, val=3.94571, took 549.31 s\n",
      "\n"
     ]
    }
   ],
   "source": [
    "for result in trainNet(model, optimizer, loss,\n",
    "                        train_loader, val_loader,\n",
    "                        n_epochs, epoch_start=len(results),\n",
    "                        notebook=True):\n",
    "    \n",
    "    results = results.append(pd.Series(result._asdict()), ignore_index=True)\n",
    "    xs = results.index\n",
    "    \n",
    "    # Update the plot above\n",
    "    lines['train'].set_data(results.index,results.cost)\n",
    "    lines['val'].set_data(results.index,results.val)\n",
    "    \n",
    "    #filter first cost epoch (can be really large)\n",
    "    max_cost = max(max(results.cost if len(results.cost)<2 else results.cost[1:]), max(results.val))\n",
    "    min_cost = min(min(results.cost), min(results.val))\n",
    "    \n",
    "    # The plot limits need updating too\n",
    "    \n",
    "    \n",
    "    \n",
    "    ax.set_ylim(min_cost*.9, max_cost*1.1)  \n",
    "    ax.set_xlim(-.5, len(results.cost) - .5)\n",
    "\n",
    "    \n",
    "    # Redraw the figure\n",
    "    fig.canvas.draw()\n",
    "\n",
    "    # Save each model state dictionary\n",
    "    torch.save(model.state_dict(), output / f'{name}_{result.epoch}.pyt')"
   ]
  },
  {
   "cell_type": "markdown",
   "metadata": {},
   "source": [
    "Go ahead and save the final model (even though it was also saved above):"
   ]
  },
  {
   "cell_type": "code",
   "execution_count": 18,
   "metadata": {},
   "outputs": [],
   "source": [
    "torch.save(model.state_dict(), output / f'{name}_final.pyt')"
   ]
  },
  {
   "cell_type": "markdown",
   "metadata": {},
   "source": [
    "Save the output results:"
   ]
  },
  {
   "cell_type": "code",
   "execution_count": 19,
   "metadata": {},
   "outputs": [],
   "source": [
    "results.to_hdf(f'{name}_stats.hdf5', 'results')"
   ]
  },
  {
   "cell_type": "markdown",
   "metadata": {},
   "source": [
    "Save the plot above:"
   ]
  },
  {
   "cell_type": "code",
   "execution_count": 20,
   "metadata": {},
   "outputs": [
    {
     "data": {
      "application/javascript": [
       "/* Put everything inside the global mpl namespace */\n",
       "window.mpl = {};\n",
       "\n",
       "\n",
       "mpl.get_websocket_type = function() {\n",
       "    if (typeof(WebSocket) !== 'undefined') {\n",
       "        return WebSocket;\n",
       "    } else if (typeof(MozWebSocket) !== 'undefined') {\n",
       "        return MozWebSocket;\n",
       "    } else {\n",
       "        alert('Your browser does not have WebSocket support. ' +\n",
       "              'Please try Chrome, Safari or Firefox ≥ 6. ' +\n",
       "              'Firefox 4 and 5 are also supported but you ' +\n",
       "              'have to enable WebSockets in about:config.');\n",
       "    };\n",
       "}\n",
       "\n",
       "mpl.figure = function(figure_id, websocket, ondownload, parent_element) {\n",
       "    this.id = figure_id;\n",
       "\n",
       "    this.ws = websocket;\n",
       "\n",
       "    this.supports_binary = (this.ws.binaryType != undefined);\n",
       "\n",
       "    if (!this.supports_binary) {\n",
       "        var warnings = document.getElementById(\"mpl-warnings\");\n",
       "        if (warnings) {\n",
       "            warnings.style.display = 'block';\n",
       "            warnings.textContent = (\n",
       "                \"This browser does not support binary websocket messages. \" +\n",
       "                    \"Performance may be slow.\");\n",
       "        }\n",
       "    }\n",
       "\n",
       "    this.imageObj = new Image();\n",
       "\n",
       "    this.context = undefined;\n",
       "    this.message = undefined;\n",
       "    this.canvas = undefined;\n",
       "    this.rubberband_canvas = undefined;\n",
       "    this.rubberband_context = undefined;\n",
       "    this.format_dropdown = undefined;\n",
       "\n",
       "    this.image_mode = 'full';\n",
       "\n",
       "    this.root = $('<div/>');\n",
       "    this._root_extra_style(this.root)\n",
       "    this.root.attr('style', 'display: inline-block');\n",
       "\n",
       "    $(parent_element).append(this.root);\n",
       "\n",
       "    this._init_header(this);\n",
       "    this._init_canvas(this);\n",
       "    this._init_toolbar(this);\n",
       "\n",
       "    var fig = this;\n",
       "\n",
       "    this.waiting = false;\n",
       "\n",
       "    this.ws.onopen =  function () {\n",
       "            fig.send_message(\"supports_binary\", {value: fig.supports_binary});\n",
       "            fig.send_message(\"send_image_mode\", {});\n",
       "            if (mpl.ratio != 1) {\n",
       "                fig.send_message(\"set_dpi_ratio\", {'dpi_ratio': mpl.ratio});\n",
       "            }\n",
       "            fig.send_message(\"refresh\", {});\n",
       "        }\n",
       "\n",
       "    this.imageObj.onload = function() {\n",
       "            if (fig.image_mode == 'full') {\n",
       "                // Full images could contain transparency (where diff images\n",
       "                // almost always do), so we need to clear the canvas so that\n",
       "                // there is no ghosting.\n",
       "                fig.context.clearRect(0, 0, fig.canvas.width, fig.canvas.height);\n",
       "            }\n",
       "            fig.context.drawImage(fig.imageObj, 0, 0);\n",
       "        };\n",
       "\n",
       "    this.imageObj.onunload = function() {\n",
       "        fig.ws.close();\n",
       "    }\n",
       "\n",
       "    this.ws.onmessage = this._make_on_message_function(this);\n",
       "\n",
       "    this.ondownload = ondownload;\n",
       "}\n",
       "\n",
       "mpl.figure.prototype._init_header = function() {\n",
       "    var titlebar = $(\n",
       "        '<div class=\"ui-dialog-titlebar ui-widget-header ui-corner-all ' +\n",
       "        'ui-helper-clearfix\"/>');\n",
       "    var titletext = $(\n",
       "        '<div class=\"ui-dialog-title\" style=\"width: 100%; ' +\n",
       "        'text-align: center; padding: 3px;\"/>');\n",
       "    titlebar.append(titletext)\n",
       "    this.root.append(titlebar);\n",
       "    this.header = titletext[0];\n",
       "}\n",
       "\n",
       "\n",
       "\n",
       "mpl.figure.prototype._canvas_extra_style = function(canvas_div) {\n",
       "\n",
       "}\n",
       "\n",
       "\n",
       "mpl.figure.prototype._root_extra_style = function(canvas_div) {\n",
       "\n",
       "}\n",
       "\n",
       "mpl.figure.prototype._init_canvas = function() {\n",
       "    var fig = this;\n",
       "\n",
       "    var canvas_div = $('<div/>');\n",
       "\n",
       "    canvas_div.attr('style', 'position: relative; clear: both; outline: 0');\n",
       "\n",
       "    function canvas_keyboard_event(event) {\n",
       "        return fig.key_event(event, event['data']);\n",
       "    }\n",
       "\n",
       "    canvas_div.keydown('key_press', canvas_keyboard_event);\n",
       "    canvas_div.keyup('key_release', canvas_keyboard_event);\n",
       "    this.canvas_div = canvas_div\n",
       "    this._canvas_extra_style(canvas_div)\n",
       "    this.root.append(canvas_div);\n",
       "\n",
       "    var canvas = $('<canvas/>');\n",
       "    canvas.addClass('mpl-canvas');\n",
       "    canvas.attr('style', \"left: 0; top: 0; z-index: 0; outline: 0\")\n",
       "\n",
       "    this.canvas = canvas[0];\n",
       "    this.context = canvas[0].getContext(\"2d\");\n",
       "\n",
       "    var backingStore = this.context.backingStorePixelRatio ||\n",
       "\tthis.context.webkitBackingStorePixelRatio ||\n",
       "\tthis.context.mozBackingStorePixelRatio ||\n",
       "\tthis.context.msBackingStorePixelRatio ||\n",
       "\tthis.context.oBackingStorePixelRatio ||\n",
       "\tthis.context.backingStorePixelRatio || 1;\n",
       "\n",
       "    mpl.ratio = (window.devicePixelRatio || 1) / backingStore;\n",
       "\n",
       "    var rubberband = $('<canvas/>');\n",
       "    rubberband.attr('style', \"position: absolute; left: 0; top: 0; z-index: 1;\")\n",
       "\n",
       "    var pass_mouse_events = true;\n",
       "\n",
       "    canvas_div.resizable({\n",
       "        start: function(event, ui) {\n",
       "            pass_mouse_events = false;\n",
       "        },\n",
       "        resize: function(event, ui) {\n",
       "            fig.request_resize(ui.size.width, ui.size.height);\n",
       "        },\n",
       "        stop: function(event, ui) {\n",
       "            pass_mouse_events = true;\n",
       "            fig.request_resize(ui.size.width, ui.size.height);\n",
       "        },\n",
       "    });\n",
       "\n",
       "    function mouse_event_fn(event) {\n",
       "        if (pass_mouse_events)\n",
       "            return fig.mouse_event(event, event['data']);\n",
       "    }\n",
       "\n",
       "    rubberband.mousedown('button_press', mouse_event_fn);\n",
       "    rubberband.mouseup('button_release', mouse_event_fn);\n",
       "    // Throttle sequential mouse events to 1 every 20ms.\n",
       "    rubberband.mousemove('motion_notify', mouse_event_fn);\n",
       "\n",
       "    rubberband.mouseenter('figure_enter', mouse_event_fn);\n",
       "    rubberband.mouseleave('figure_leave', mouse_event_fn);\n",
       "\n",
       "    canvas_div.on(\"wheel\", function (event) {\n",
       "        event = event.originalEvent;\n",
       "        event['data'] = 'scroll'\n",
       "        if (event.deltaY < 0) {\n",
       "            event.step = 1;\n",
       "        } else {\n",
       "            event.step = -1;\n",
       "        }\n",
       "        mouse_event_fn(event);\n",
       "    });\n",
       "\n",
       "    canvas_div.append(canvas);\n",
       "    canvas_div.append(rubberband);\n",
       "\n",
       "    this.rubberband = rubberband;\n",
       "    this.rubberband_canvas = rubberband[0];\n",
       "    this.rubberband_context = rubberband[0].getContext(\"2d\");\n",
       "    this.rubberband_context.strokeStyle = \"#000000\";\n",
       "\n",
       "    this._resize_canvas = function(width, height) {\n",
       "        // Keep the size of the canvas, canvas container, and rubber band\n",
       "        // canvas in synch.\n",
       "        canvas_div.css('width', width)\n",
       "        canvas_div.css('height', height)\n",
       "\n",
       "        canvas.attr('width', width * mpl.ratio);\n",
       "        canvas.attr('height', height * mpl.ratio);\n",
       "        canvas.attr('style', 'width: ' + width + 'px; height: ' + height + 'px;');\n",
       "\n",
       "        rubberband.attr('width', width);\n",
       "        rubberband.attr('height', height);\n",
       "    }\n",
       "\n",
       "    // Set the figure to an initial 600x600px, this will subsequently be updated\n",
       "    // upon first draw.\n",
       "    this._resize_canvas(600, 600);\n",
       "\n",
       "    // Disable right mouse context menu.\n",
       "    $(this.rubberband_canvas).bind(\"contextmenu\",function(e){\n",
       "        return false;\n",
       "    });\n",
       "\n",
       "    function set_focus () {\n",
       "        canvas.focus();\n",
       "        canvas_div.focus();\n",
       "    }\n",
       "\n",
       "    window.setTimeout(set_focus, 100);\n",
       "}\n",
       "\n",
       "mpl.figure.prototype._init_toolbar = function() {\n",
       "    var fig = this;\n",
       "\n",
       "    var nav_element = $('<div/>');\n",
       "    nav_element.attr('style', 'width: 100%');\n",
       "    this.root.append(nav_element);\n",
       "\n",
       "    // Define a callback function for later on.\n",
       "    function toolbar_event(event) {\n",
       "        return fig.toolbar_button_onclick(event['data']);\n",
       "    }\n",
       "    function toolbar_mouse_event(event) {\n",
       "        return fig.toolbar_button_onmouseover(event['data']);\n",
       "    }\n",
       "\n",
       "    for(var toolbar_ind in mpl.toolbar_items) {\n",
       "        var name = mpl.toolbar_items[toolbar_ind][0];\n",
       "        var tooltip = mpl.toolbar_items[toolbar_ind][1];\n",
       "        var image = mpl.toolbar_items[toolbar_ind][2];\n",
       "        var method_name = mpl.toolbar_items[toolbar_ind][3];\n",
       "\n",
       "        if (!name) {\n",
       "            // put a spacer in here.\n",
       "            continue;\n",
       "        }\n",
       "        var button = $('<button/>');\n",
       "        button.addClass('ui-button ui-widget ui-state-default ui-corner-all ' +\n",
       "                        'ui-button-icon-only');\n",
       "        button.attr('role', 'button');\n",
       "        button.attr('aria-disabled', 'false');\n",
       "        button.click(method_name, toolbar_event);\n",
       "        button.mouseover(tooltip, toolbar_mouse_event);\n",
       "\n",
       "        var icon_img = $('<span/>');\n",
       "        icon_img.addClass('ui-button-icon-primary ui-icon');\n",
       "        icon_img.addClass(image);\n",
       "        icon_img.addClass('ui-corner-all');\n",
       "\n",
       "        var tooltip_span = $('<span/>');\n",
       "        tooltip_span.addClass('ui-button-text');\n",
       "        tooltip_span.html(tooltip);\n",
       "\n",
       "        button.append(icon_img);\n",
       "        button.append(tooltip_span);\n",
       "\n",
       "        nav_element.append(button);\n",
       "    }\n",
       "\n",
       "    var fmt_picker_span = $('<span/>');\n",
       "\n",
       "    var fmt_picker = $('<select/>');\n",
       "    fmt_picker.addClass('mpl-toolbar-option ui-widget ui-widget-content');\n",
       "    fmt_picker_span.append(fmt_picker);\n",
       "    nav_element.append(fmt_picker_span);\n",
       "    this.format_dropdown = fmt_picker[0];\n",
       "\n",
       "    for (var ind in mpl.extensions) {\n",
       "        var fmt = mpl.extensions[ind];\n",
       "        var option = $(\n",
       "            '<option/>', {selected: fmt === mpl.default_extension}).html(fmt);\n",
       "        fmt_picker.append(option);\n",
       "    }\n",
       "\n",
       "    // Add hover states to the ui-buttons\n",
       "    $( \".ui-button\" ).hover(\n",
       "        function() { $(this).addClass(\"ui-state-hover\");},\n",
       "        function() { $(this).removeClass(\"ui-state-hover\");}\n",
       "    );\n",
       "\n",
       "    var status_bar = $('<span class=\"mpl-message\"/>');\n",
       "    nav_element.append(status_bar);\n",
       "    this.message = status_bar[0];\n",
       "}\n",
       "\n",
       "mpl.figure.prototype.request_resize = function(x_pixels, y_pixels) {\n",
       "    // Request matplotlib to resize the figure. Matplotlib will then trigger a resize in the client,\n",
       "    // which will in turn request a refresh of the image.\n",
       "    this.send_message('resize', {'width': x_pixels, 'height': y_pixels});\n",
       "}\n",
       "\n",
       "mpl.figure.prototype.send_message = function(type, properties) {\n",
       "    properties['type'] = type;\n",
       "    properties['figure_id'] = this.id;\n",
       "    this.ws.send(JSON.stringify(properties));\n",
       "}\n",
       "\n",
       "mpl.figure.prototype.send_draw_message = function() {\n",
       "    if (!this.waiting) {\n",
       "        this.waiting = true;\n",
       "        this.ws.send(JSON.stringify({type: \"draw\", figure_id: this.id}));\n",
       "    }\n",
       "}\n",
       "\n",
       "\n",
       "mpl.figure.prototype.handle_save = function(fig, msg) {\n",
       "    var format_dropdown = fig.format_dropdown;\n",
       "    var format = format_dropdown.options[format_dropdown.selectedIndex].value;\n",
       "    fig.ondownload(fig, format);\n",
       "}\n",
       "\n",
       "\n",
       "mpl.figure.prototype.handle_resize = function(fig, msg) {\n",
       "    var size = msg['size'];\n",
       "    if (size[0] != fig.canvas.width || size[1] != fig.canvas.height) {\n",
       "        fig._resize_canvas(size[0], size[1]);\n",
       "        fig.send_message(\"refresh\", {});\n",
       "    };\n",
       "}\n",
       "\n",
       "mpl.figure.prototype.handle_rubberband = function(fig, msg) {\n",
       "    var x0 = msg['x0'] / mpl.ratio;\n",
       "    var y0 = (fig.canvas.height - msg['y0']) / mpl.ratio;\n",
       "    var x1 = msg['x1'] / mpl.ratio;\n",
       "    var y1 = (fig.canvas.height - msg['y1']) / mpl.ratio;\n",
       "    x0 = Math.floor(x0) + 0.5;\n",
       "    y0 = Math.floor(y0) + 0.5;\n",
       "    x1 = Math.floor(x1) + 0.5;\n",
       "    y1 = Math.floor(y1) + 0.5;\n",
       "    var min_x = Math.min(x0, x1);\n",
       "    var min_y = Math.min(y0, y1);\n",
       "    var width = Math.abs(x1 - x0);\n",
       "    var height = Math.abs(y1 - y0);\n",
       "\n",
       "    fig.rubberband_context.clearRect(\n",
       "        0, 0, fig.canvas.width / mpl.ratio, fig.canvas.height / mpl.ratio);\n",
       "\n",
       "    fig.rubberband_context.strokeRect(min_x, min_y, width, height);\n",
       "}\n",
       "\n",
       "mpl.figure.prototype.handle_figure_label = function(fig, msg) {\n",
       "    // Updates the figure title.\n",
       "    fig.header.textContent = msg['label'];\n",
       "}\n",
       "\n",
       "mpl.figure.prototype.handle_cursor = function(fig, msg) {\n",
       "    var cursor = msg['cursor'];\n",
       "    switch(cursor)\n",
       "    {\n",
       "    case 0:\n",
       "        cursor = 'pointer';\n",
       "        break;\n",
       "    case 1:\n",
       "        cursor = 'default';\n",
       "        break;\n",
       "    case 2:\n",
       "        cursor = 'crosshair';\n",
       "        break;\n",
       "    case 3:\n",
       "        cursor = 'move';\n",
       "        break;\n",
       "    }\n",
       "    fig.rubberband_canvas.style.cursor = cursor;\n",
       "}\n",
       "\n",
       "mpl.figure.prototype.handle_message = function(fig, msg) {\n",
       "    fig.message.textContent = msg['message'];\n",
       "}\n",
       "\n",
       "mpl.figure.prototype.handle_draw = function(fig, msg) {\n",
       "    // Request the server to send over a new figure.\n",
       "    fig.send_draw_message();\n",
       "}\n",
       "\n",
       "mpl.figure.prototype.handle_image_mode = function(fig, msg) {\n",
       "    fig.image_mode = msg['mode'];\n",
       "}\n",
       "\n",
       "mpl.figure.prototype.updated_canvas_event = function() {\n",
       "    // Called whenever the canvas gets updated.\n",
       "    this.send_message(\"ack\", {});\n",
       "}\n",
       "\n",
       "// A function to construct a web socket function for onmessage handling.\n",
       "// Called in the figure constructor.\n",
       "mpl.figure.prototype._make_on_message_function = function(fig) {\n",
       "    return function socket_on_message(evt) {\n",
       "        if (evt.data instanceof Blob) {\n",
       "            /* FIXME: We get \"Resource interpreted as Image but\n",
       "             * transferred with MIME type text/plain:\" errors on\n",
       "             * Chrome.  But how to set the MIME type?  It doesn't seem\n",
       "             * to be part of the websocket stream */\n",
       "            evt.data.type = \"image/png\";\n",
       "\n",
       "            /* Free the memory for the previous frames */\n",
       "            if (fig.imageObj.src) {\n",
       "                (window.URL || window.webkitURL).revokeObjectURL(\n",
       "                    fig.imageObj.src);\n",
       "            }\n",
       "\n",
       "            fig.imageObj.src = (window.URL || window.webkitURL).createObjectURL(\n",
       "                evt.data);\n",
       "            fig.updated_canvas_event();\n",
       "            fig.waiting = false;\n",
       "            return;\n",
       "        }\n",
       "        else if (typeof evt.data === 'string' && evt.data.slice(0, 21) == \"data:image/png;base64\") {\n",
       "            fig.imageObj.src = evt.data;\n",
       "            fig.updated_canvas_event();\n",
       "            fig.waiting = false;\n",
       "            return;\n",
       "        }\n",
       "\n",
       "        var msg = JSON.parse(evt.data);\n",
       "        var msg_type = msg['type'];\n",
       "\n",
       "        // Call the  \"handle_{type}\" callback, which takes\n",
       "        // the figure and JSON message as its only arguments.\n",
       "        try {\n",
       "            var callback = fig[\"handle_\" + msg_type];\n",
       "        } catch (e) {\n",
       "            console.log(\"No handler for the '\" + msg_type + \"' message type: \", msg);\n",
       "            return;\n",
       "        }\n",
       "\n",
       "        if (callback) {\n",
       "            try {\n",
       "                // console.log(\"Handling '\" + msg_type + \"' message: \", msg);\n",
       "                callback(fig, msg);\n",
       "            } catch (e) {\n",
       "                console.log(\"Exception inside the 'handler_\" + msg_type + \"' callback:\", e, e.stack, msg);\n",
       "            }\n",
       "        }\n",
       "    };\n",
       "}\n",
       "\n",
       "// from http://stackoverflow.com/questions/1114465/getting-mouse-location-in-canvas\n",
       "mpl.findpos = function(e) {\n",
       "    //this section is from http://www.quirksmode.org/js/events_properties.html\n",
       "    var targ;\n",
       "    if (!e)\n",
       "        e = window.event;\n",
       "    if (e.target)\n",
       "        targ = e.target;\n",
       "    else if (e.srcElement)\n",
       "        targ = e.srcElement;\n",
       "    if (targ.nodeType == 3) // defeat Safari bug\n",
       "        targ = targ.parentNode;\n",
       "\n",
       "    // jQuery normalizes the pageX and pageY\n",
       "    // pageX,Y are the mouse positions relative to the document\n",
       "    // offset() returns the position of the element relative to the document\n",
       "    var x = e.pageX - $(targ).offset().left;\n",
       "    var y = e.pageY - $(targ).offset().top;\n",
       "\n",
       "    return {\"x\": x, \"y\": y};\n",
       "};\n",
       "\n",
       "/*\n",
       " * return a copy of an object with only non-object keys\n",
       " * we need this to avoid circular references\n",
       " * http://stackoverflow.com/a/24161582/3208463\n",
       " */\n",
       "function simpleKeys (original) {\n",
       "  return Object.keys(original).reduce(function (obj, key) {\n",
       "    if (typeof original[key] !== 'object')\n",
       "        obj[key] = original[key]\n",
       "    return obj;\n",
       "  }, {});\n",
       "}\n",
       "\n",
       "mpl.figure.prototype.mouse_event = function(event, name) {\n",
       "    var canvas_pos = mpl.findpos(event)\n",
       "\n",
       "    if (name === 'button_press')\n",
       "    {\n",
       "        this.canvas.focus();\n",
       "        this.canvas_div.focus();\n",
       "    }\n",
       "\n",
       "    var x = canvas_pos.x * mpl.ratio;\n",
       "    var y = canvas_pos.y * mpl.ratio;\n",
       "\n",
       "    this.send_message(name, {x: x, y: y, button: event.button,\n",
       "                             step: event.step,\n",
       "                             guiEvent: simpleKeys(event)});\n",
       "\n",
       "    /* This prevents the web browser from automatically changing to\n",
       "     * the text insertion cursor when the button is pressed.  We want\n",
       "     * to control all of the cursor setting manually through the\n",
       "     * 'cursor' event from matplotlib */\n",
       "    event.preventDefault();\n",
       "    return false;\n",
       "}\n",
       "\n",
       "mpl.figure.prototype._key_event_extra = function(event, name) {\n",
       "    // Handle any extra behaviour associated with a key event\n",
       "}\n",
       "\n",
       "mpl.figure.prototype.key_event = function(event, name) {\n",
       "\n",
       "    // Prevent repeat events\n",
       "    if (name == 'key_press')\n",
       "    {\n",
       "        if (event.which === this._key)\n",
       "            return;\n",
       "        else\n",
       "            this._key = event.which;\n",
       "    }\n",
       "    if (name == 'key_release')\n",
       "        this._key = null;\n",
       "\n",
       "    var value = '';\n",
       "    if (event.ctrlKey && event.which != 17)\n",
       "        value += \"ctrl+\";\n",
       "    if (event.altKey && event.which != 18)\n",
       "        value += \"alt+\";\n",
       "    if (event.shiftKey && event.which != 16)\n",
       "        value += \"shift+\";\n",
       "\n",
       "    value += 'k';\n",
       "    value += event.which.toString();\n",
       "\n",
       "    this._key_event_extra(event, name);\n",
       "\n",
       "    this.send_message(name, {key: value,\n",
       "                             guiEvent: simpleKeys(event)});\n",
       "    return false;\n",
       "}\n",
       "\n",
       "mpl.figure.prototype.toolbar_button_onclick = function(name) {\n",
       "    if (name == 'download') {\n",
       "        this.handle_save(this, null);\n",
       "    } else {\n",
       "        this.send_message(\"toolbar_button\", {name: name});\n",
       "    }\n",
       "};\n",
       "\n",
       "mpl.figure.prototype.toolbar_button_onmouseover = function(tooltip) {\n",
       "    this.message.textContent = tooltip;\n",
       "};\n",
       "mpl.toolbar_items = [[\"Home\", \"Reset original view\", \"fa fa-home icon-home\", \"home\"], [\"Back\", \"Back to previous view\", \"fa fa-arrow-left icon-arrow-left\", \"back\"], [\"Forward\", \"Forward to next view\", \"fa fa-arrow-right icon-arrow-right\", \"forward\"], [\"\", \"\", \"\", \"\"], [\"Pan\", \"Pan axes with left mouse, zoom with right\", \"fa fa-arrows icon-move\", \"pan\"], [\"Zoom\", \"Zoom to rectangle\", \"fa fa-square-o icon-check-empty\", \"zoom\"], [\"\", \"\", \"\", \"\"], [\"Download\", \"Download plot\", \"fa fa-floppy-o icon-save\", \"download\"]];\n",
       "\n",
       "mpl.extensions = [\"eps\", \"jpeg\", \"pdf\", \"png\", \"ps\", \"raw\", \"svg\", \"tif\"];\n",
       "\n",
       "mpl.default_extension = \"png\";var comm_websocket_adapter = function(comm) {\n",
       "    // Create a \"websocket\"-like object which calls the given IPython comm\n",
       "    // object with the appropriate methods. Currently this is a non binary\n",
       "    // socket, so there is still some room for performance tuning.\n",
       "    var ws = {};\n",
       "\n",
       "    ws.close = function() {\n",
       "        comm.close()\n",
       "    };\n",
       "    ws.send = function(m) {\n",
       "        //console.log('sending', m);\n",
       "        comm.send(m);\n",
       "    };\n",
       "    // Register the callback with on_msg.\n",
       "    comm.on_msg(function(msg) {\n",
       "        //console.log('receiving', msg['content']['data'], msg);\n",
       "        // Pass the mpl event to the overridden (by mpl) onmessage function.\n",
       "        ws.onmessage(msg['content']['data'])\n",
       "    });\n",
       "    return ws;\n",
       "}\n",
       "\n",
       "mpl.mpl_figure_comm = function(comm, msg) {\n",
       "    // This is the function which gets called when the mpl process\n",
       "    // starts-up an IPython Comm through the \"matplotlib\" channel.\n",
       "\n",
       "    var id = msg.content.data.id;\n",
       "    // Get hold of the div created by the display call when the Comm\n",
       "    // socket was opened in Python.\n",
       "    var element = $(\"#\" + id);\n",
       "    var ws_proxy = comm_websocket_adapter(comm)\n",
       "\n",
       "    function ondownload(figure, format) {\n",
       "        window.open(figure.imageObj.src);\n",
       "    }\n",
       "\n",
       "    var fig = new mpl.figure(id, ws_proxy,\n",
       "                           ondownload,\n",
       "                           element.get(0));\n",
       "\n",
       "    // Call onopen now - mpl needs it, as it is assuming we've passed it a real\n",
       "    // web socket which is closed, not our websocket->open comm proxy.\n",
       "    ws_proxy.onopen();\n",
       "\n",
       "    fig.parent_element = element.get(0);\n",
       "    fig.cell_info = mpl.find_output_cell(\"<div id='\" + id + \"'></div>\");\n",
       "    if (!fig.cell_info) {\n",
       "        console.error(\"Failed to find cell for figure\", id, fig);\n",
       "        return;\n",
       "    }\n",
       "\n",
       "    var output_index = fig.cell_info[2]\n",
       "    var cell = fig.cell_info[0];\n",
       "\n",
       "};\n",
       "\n",
       "mpl.figure.prototype.handle_close = function(fig, msg) {\n",
       "    var width = fig.canvas.width/mpl.ratio\n",
       "    fig.root.unbind('remove')\n",
       "\n",
       "    // Update the output cell to use the data from the current canvas.\n",
       "    fig.push_to_output();\n",
       "    var dataURL = fig.canvas.toDataURL();\n",
       "    // Re-enable the keyboard manager in IPython - without this line, in FF,\n",
       "    // the notebook keyboard shortcuts fail.\n",
       "    IPython.keyboard_manager.enable()\n",
       "    $(fig.parent_element).html('<img src=\"' + dataURL + '\" width=\"' + width + '\">');\n",
       "    fig.close_ws(fig, msg);\n",
       "}\n",
       "\n",
       "mpl.figure.prototype.close_ws = function(fig, msg){\n",
       "    fig.send_message('closing', msg);\n",
       "    // fig.ws.close()\n",
       "}\n",
       "\n",
       "mpl.figure.prototype.push_to_output = function(remove_interactive) {\n",
       "    // Turn the data on the canvas into data in the output cell.\n",
       "    var width = this.canvas.width/mpl.ratio\n",
       "    var dataURL = this.canvas.toDataURL();\n",
       "    this.cell_info[1]['text/html'] = '<img src=\"' + dataURL + '\" width=\"' + width + '\">';\n",
       "}\n",
       "\n",
       "mpl.figure.prototype.updated_canvas_event = function() {\n",
       "    // Tell IPython that the notebook contents must change.\n",
       "    IPython.notebook.set_dirty(true);\n",
       "    this.send_message(\"ack\", {});\n",
       "    var fig = this;\n",
       "    // Wait a second, then push the new image to the DOM so\n",
       "    // that it is saved nicely (might be nice to debounce this).\n",
       "    setTimeout(function () { fig.push_to_output() }, 1000);\n",
       "}\n",
       "\n",
       "mpl.figure.prototype._init_toolbar = function() {\n",
       "    var fig = this;\n",
       "\n",
       "    var nav_element = $('<div/>');\n",
       "    nav_element.attr('style', 'width: 100%');\n",
       "    this.root.append(nav_element);\n",
       "\n",
       "    // Define a callback function for later on.\n",
       "    function toolbar_event(event) {\n",
       "        return fig.toolbar_button_onclick(event['data']);\n",
       "    }\n",
       "    function toolbar_mouse_event(event) {\n",
       "        return fig.toolbar_button_onmouseover(event['data']);\n",
       "    }\n",
       "\n",
       "    for(var toolbar_ind in mpl.toolbar_items){\n",
       "        var name = mpl.toolbar_items[toolbar_ind][0];\n",
       "        var tooltip = mpl.toolbar_items[toolbar_ind][1];\n",
       "        var image = mpl.toolbar_items[toolbar_ind][2];\n",
       "        var method_name = mpl.toolbar_items[toolbar_ind][3];\n",
       "\n",
       "        if (!name) { continue; };\n",
       "\n",
       "        var button = $('<button class=\"btn btn-default\" href=\"#\" title=\"' + name + '\"><i class=\"fa ' + image + ' fa-lg\"></i></button>');\n",
       "        button.click(method_name, toolbar_event);\n",
       "        button.mouseover(tooltip, toolbar_mouse_event);\n",
       "        nav_element.append(button);\n",
       "    }\n",
       "\n",
       "    // Add the status bar.\n",
       "    var status_bar = $('<span class=\"mpl-message\" style=\"text-align:right; float: right;\"/>');\n",
       "    nav_element.append(status_bar);\n",
       "    this.message = status_bar[0];\n",
       "\n",
       "    // Add the close button to the window.\n",
       "    var buttongrp = $('<div class=\"btn-group inline pull-right\"></div>');\n",
       "    var button = $('<button class=\"btn btn-mini btn-primary\" href=\"#\" title=\"Stop Interaction\"><i class=\"fa fa-power-off icon-remove icon-large\"></i></button>');\n",
       "    button.click(function (evt) { fig.handle_close(fig, {}); } );\n",
       "    button.mouseover('Stop Interaction', toolbar_mouse_event);\n",
       "    buttongrp.append(button);\n",
       "    var titlebar = this.root.find($('.ui-dialog-titlebar'));\n",
       "    titlebar.prepend(buttongrp);\n",
       "}\n",
       "\n",
       "mpl.figure.prototype._root_extra_style = function(el){\n",
       "    var fig = this\n",
       "    el.on(\"remove\", function(){\n",
       "\tfig.close_ws(fig, {});\n",
       "    });\n",
       "}\n",
       "\n",
       "mpl.figure.prototype._canvas_extra_style = function(el){\n",
       "    // this is important to make the div 'focusable\n",
       "    el.attr('tabindex', 0)\n",
       "    // reach out to IPython and tell the keyboard manager to turn it's self\n",
       "    // off when our div gets focus\n",
       "\n",
       "    // location in version 3\n",
       "    if (IPython.notebook.keyboard_manager) {\n",
       "        IPython.notebook.keyboard_manager.register_events(el);\n",
       "    }\n",
       "    else {\n",
       "        // location in version 2\n",
       "        IPython.keyboard_manager.register_events(el);\n",
       "    }\n",
       "\n",
       "}\n",
       "\n",
       "mpl.figure.prototype._key_event_extra = function(event, name) {\n",
       "    var manager = IPython.notebook.keyboard_manager;\n",
       "    if (!manager)\n",
       "        manager = IPython.keyboard_manager;\n",
       "\n",
       "    // Check for shift+enter\n",
       "    if (event.shiftKey && event.which == 13) {\n",
       "        this.canvas_div.blur();\n",
       "        // select the cell after this one\n",
       "        var index = IPython.notebook.find_cell_index(this.cell_info[0]);\n",
       "        IPython.notebook.select(index + 1);\n",
       "    }\n",
       "}\n",
       "\n",
       "mpl.figure.prototype.handle_save = function(fig, msg) {\n",
       "    fig.ondownload(fig, null);\n",
       "}\n",
       "\n",
       "\n",
       "mpl.find_output_cell = function(html_output) {\n",
       "    // Return the cell and output element which can be found *uniquely* in the notebook.\n",
       "    // Note - this is a bit hacky, but it is done because the \"notebook_saving.Notebook\"\n",
       "    // IPython event is triggered only after the cells have been serialised, which for\n",
       "    // our purposes (turning an active figure into a static one), is too late.\n",
       "    var cells = IPython.notebook.get_cells();\n",
       "    var ncells = cells.length;\n",
       "    for (var i=0; i<ncells; i++) {\n",
       "        var cell = cells[i];\n",
       "        if (cell.cell_type === 'code'){\n",
       "            for (var j=0; j<cell.output_area.outputs.length; j++) {\n",
       "                var data = cell.output_area.outputs[j];\n",
       "                if (data.data) {\n",
       "                    // IPython >= 3 moved mimebundle to data attribute of output\n",
       "                    data = data.data;\n",
       "                }\n",
       "                if (data['text/html'] == html_output) {\n",
       "                    return [cell, data, j];\n",
       "                }\n",
       "            }\n",
       "        }\n",
       "    }\n",
       "}\n",
       "\n",
       "// Register the function which deals with the matplotlib target/channel.\n",
       "// The kernel may be null if the page has been refreshed.\n",
       "if (IPython.notebook.kernel != null) {\n",
       "    IPython.notebook.kernel.comm_manager.register_target('matplotlib', mpl.mpl_figure_comm);\n",
       "}\n"
      ],
      "text/plain": [
       "<IPython.core.display.Javascript object>"
      ]
     },
     "metadata": {},
     "output_type": "display_data"
    },
    {
     "data": {
      "text/html": [
       "<img src=\"data:image/png;base64,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\" width=\"1000\">"
      ],
      "text/plain": [
       "<IPython.core.display.HTML object>"
      ]
     },
     "metadata": {},
     "output_type": "display_data"
    }
   ],
   "source": [
    "dual_train_plots(results.index,\n",
    "                 results.cost, results.val,\n",
    "                 results.cost, results.val)\n",
    "plt.tight_layout()\n",
    "plt.savefig(str(output / f'{name}_stats_a.png'))"
   ]
  },
  {
   "cell_type": "code",
   "execution_count": 1,
   "metadata": {},
   "outputs": [],
   "source": [
    "##quit()"
   ]
  },
  {
   "cell_type": "code",
   "execution_count": null,
   "metadata": {},
   "outputs": [],
   "source": []
  },
  {
   "cell_type": "code",
   "execution_count": null,
   "metadata": {},
   "outputs": [],
   "source": []
  }
 ],
 "metadata": {
  "kernelspec": {
   "display_name": "june2020-gpu",
   "language": "python",
   "name": "june2020-gpu"
  },
  "language_info": {
   "codemirror_mode": {
    "name": "ipython",
    "version": 3
   },
   "file_extension": ".py",
   "mimetype": "text/x-python",
   "name": "python",
   "nbconvert_exporter": "python",
   "pygments_lexer": "ipython3",
   "version": "3.7.6"
  }
 },
 "nbformat": 4,
 "nbformat_minor": 2
}
