{
 "cells": [
  {
   "cell_type": "code",
   "execution_count": 1,
   "metadata": {},
   "outputs": [],
   "source": [
    "##%matplotlib widget\n",
    "## with %matplotlib notebook: seems to require ipympl as part of environment, either\n",
    "## part of the conda environment or \"pip install ipympl\"\n",
    "## otherwise, does not show ANY plots in note\"book, plt.savefig() works\n",
    "%matplotlib notebook  \n",
    "##%matplotlib inline    ## --plt.savefig()  works, but re-sizing does NOT\n"
   ]
  },
  {
   "cell_type": "markdown",
   "metadata": {},
   "source": [
    "This notebook is the second attempt to read in track information and use it to predict the KDE used as input to PvFinder. This time, we are reading in poca KDEs rather than the original KDEs. \n",
    "\n",
    "collectdata_kde_C.py uses poca_z, poca_x, poca_y, major_axis_x, major_axis_y, and major_axis_z as the six track parameters (for the moment)\n"
   ]
  },
  {
   "cell_type": "markdown",
   "metadata": {},
   "source": [
    "Check the current GPU usage. Please try to be nice!"
   ]
  },
  {
   "cell_type": "code",
   "execution_count": 2,
   "metadata": {},
   "outputs": [
    {
     "name": "stdout",
     "output_type": "stream",
     "text": [
      "Thu Feb  4 10:16:41 2021       \n",
      "+-----------------------------------------------------------------------------+\n",
      "| NVIDIA-SMI 440.64.00    Driver Version: 440.64.00    CUDA Version: 10.2     |\n",
      "|-------------------------------+----------------------+----------------------+\n",
      "| GPU  Name        Persistence-M| Bus-Id        Disp.A | Volatile Uncorr. ECC |\n",
      "| Fan  Temp  Perf  Pwr:Usage/Cap|         Memory-Usage | GPU-Util  Compute M. |\n",
      "|===============================+======================+======================|\n",
      "|   0  TITAN V             Off  | 00000000:03:00.0 Off |                  N/A |\n",
      "| 28%   31C    P8    23W / 250W |      0MiB / 12066MiB |      0%      Default |\n",
      "+-------------------------------+----------------------+----------------------+\n",
      "|   1  Tesla P100-PCIE...  Off  | 00000000:83:00.0 Off |                    0 |\n",
      "| N/A   31C    P0    27W / 250W |      0MiB / 16280MiB |      0%      Default |\n",
      "+-------------------------------+----------------------+----------------------+\n",
      "|   2  TITAN V             Off  | 00000000:84:00.0 Off |                  N/A |\n",
      "| 22%   37C    P0    34W / 250W |      0MiB / 12066MiB |      8%      Default |\n",
      "+-------------------------------+----------------------+----------------------+\n",
      "                                                                               \n",
      "+-----------------------------------------------------------------------------+\n",
      "| Processes:                                                       GPU Memory |\n",
      "|  GPU       PID   Type   Process name                             Usage      |\n",
      "|=============================================================================|\n",
      "|  No running processes found                                                 |\n",
      "+-----------------------------------------------------------------------------+\n"
     ]
    }
   ],
   "source": [
    "!nvidia-smi"
   ]
  },
  {
   "cell_type": "markdown",
   "metadata": {},
   "source": [
    "> **WARNING**: The card numbers here are *not* the same as in CUDA. You have been warned."
   ]
  },
  {
   "cell_type": "markdown",
   "metadata": {},
   "source": [
    "This notebook is first attempt to read in track information and use it to predict the KDE used as input to PvFinder.\n"
   ]
  },
  {
   "cell_type": "markdown",
   "metadata": {},
   "source": [
    "## Imports"
   ]
  },
  {
   "cell_type": "code",
   "execution_count": 3,
   "metadata": {},
   "outputs": [],
   "source": [
    "import matplotlib.pyplot as plt\n",
    "import numpy as np\n",
    "import time\n",
    "import torch\n",
    "import pandas as pd\n",
    "\n",
    "# Python 3 standard library\n",
    "from pathlib import Path\n",
    "\n",
    "##from torchsummary import summary"
   ]
  },
  {
   "cell_type": "markdown",
   "metadata": {},
   "source": [
    "### Set up local parameters"
   ]
  },
  {
   "cell_type": "code",
   "execution_count": 4,
   "metadata": {},
   "outputs": [],
   "source": [
    "n_epochs = 80\n",
    "\n",
    "folder = '04Feb_DDplus_loss_Ba_iter26_floatAll_80epochs_1p5em5_4xwill'\n",
    "name   = folder\n",
    "\n",
    "# Make an output folder named \"name\" (change if you want)\n",
    "\n",
    "## Special instructions for those working on goofy at UC\n",
    "## Please be very careful to make sure that your folder\n",
    "## does not live in a subdirectory of your home directory\n",
    "## this disk has very little capacity. Instead, use \n",
    "## a subdirectory in /share/lazy with a symbolic link to\n",
    "## it in this (the notebooks) subdirectory\n",
    "folder = 'ML_dir/' + folder\n",
    "output = Path(folder)\n",
    "\n",
    "\n",
    "# Size of batches\n",
    "batch_size = 64 ## batch_size = 24 ---> 4763MiB / 12066MiB on Titan V\n",
    "# How fast to learn\n",
    "learning_rate = 1.5e-5"
   ]
  },
  {
   "cell_type": "markdown",
   "metadata": {},
   "source": [
    "Make the output directory if it does not exist:"
   ]
  },
  {
   "cell_type": "code",
   "execution_count": 5,
   "metadata": {},
   "outputs": [],
   "source": [
    "output.mkdir(exist_ok=True)"
   ]
  },
  {
   "cell_type": "markdown",
   "metadata": {},
   "source": [
    "## Get the helper functions\n",
    "\n",
    "Add the directory with the model\n",
    "definitions to the path so we can import from it:\n",
    "\n",
    "> When you type `import X`,\n",
    "Python searches `sys.path` for a python\n",
    "file named `X.py` to import. So we need to add the model directory to the path."
   ]
  },
  {
   "cell_type": "code",
   "execution_count": 6,
   "metadata": {
    "scrolled": true
   },
   "outputs": [],
   "source": [
    "from model.collectdata_kde_Ellipsoids import collect_t2kde_data\n",
    "\n",
    "##  It takes 9 input features (poca centers + (A,B,C,D,E,F)) . \n",
    "from model.models_kde import TracksToKDE_Ellipsoids_DDplus as Model\n",
    "\n",
    "# kde_loss_Ba is a Chi2 loss (go and look at it!)\n",
    "from model.kde_loss_Ba import Loss\n",
    "\n",
    "from model.training_kde import trainNet, select_gpu, Results\n",
    "from model.plots import dual_train_plots, replace_in_ax"
   ]
  },
  {
   "cell_type": "code",
   "execution_count": 7,
   "metadata": {},
   "outputs": [],
   "source": [
    "# This gets built up during the run - do not rerun this cell\n",
    "results = pd.DataFrame([], columns=Results._fields)"
   ]
  },
  {
   "cell_type": "markdown",
   "metadata": {},
   "source": [
    "Set up Torch device configuration. All tensors and model parameters need to know where to be put.\n",
    "This takes a BUS ID number: The BUS ID is the same as the listing at the top of this script."
   ]
  },
  {
   "cell_type": "code",
   "execution_count": 8,
   "metadata": {},
   "outputs": [
    {
     "name": "stdout",
     "output_type": "stream",
     "text": [
      "1 available GPUs (initially using device 0):\n",
      "  0 TITAN V\n"
     ]
    }
   ],
   "source": [
    "# either 0 or 2 on goofy (i.e. TITAN V) [1 or 2 on sleepy RTX 2080TI]\n",
    "device = select_gpu(2)\n",
    "##device = \"cpu\""
   ]
  },
  {
   "cell_type": "markdown",
   "metadata": {},
   "source": [
    "## Loading data\n",
    "\n",
    "Load the dataset, split into parts, then move to device (see `collectdata.py` in the `../model` directory)"
   ]
  },
  {
   "cell_type": "markdown",
   "metadata": {},
   "source": [
    "# Preparing the model"
   ]
  },
  {
   "cell_type": "markdown",
   "metadata": {},
   "source": [
    "Prepare a model, use multiple GPUs if they are VISIBLE, and move the model to the device."
   ]
  },
  {
   "cell_type": "code",
   "execution_count": 9,
   "metadata": {
    "scrolled": true
   },
   "outputs": [],
   "source": [
    "##print(\"Let's use\", torch.cuda.device_count(), \"GPUs!\")\n",
    "##if torch.cuda.device_count() > 1:\n",
    "##    model = torch.nn.DataParallel(model)"
   ]
  },
  {
   "cell_type": "code",
   "execution_count": 10,
   "metadata": {},
   "outputs": [
    {
     "name": "stdout",
     "output_type": "stream",
     "text": [
      "ct, child =  0    Linear(in_features=9, out_features=50, bias=True)\n",
      "ct, child =  1    Linear(in_features=50, out_features=50, bias=True)\n",
      "ct, child =  2    Linear(in_features=50, out_features=50, bias=True)\n",
      "ct, child =  3    Linear(in_features=50, out_features=50, bias=True)\n",
      "ct, child =  4    Linear(in_features=50, out_features=50, bias=True)\n",
      "ct, child =  5    Linear(in_features=50, out_features=50, bias=True)\n",
      "ct, child =  6    Linear(in_features=50, out_features=50, bias=True)\n",
      "ct, child =  7    Linear(in_features=50, out_features=50, bias=True)\n",
      "ct, child =  8    Linear(in_features=50, out_features=50, bias=True)\n",
      "ct, child =  9    Linear(in_features=50, out_features=50, bias=True)\n",
      "ct, child =  10    Linear(in_features=50, out_features=50, bias=True)\n",
      "ct, child =  11    Linear(in_features=50, out_features=16000, bias=True)\n",
      "ct, child =  12    Conv1d(4, 25, kernel_size=(25,), stride=(1,), padding=(12,))\n",
      "ct, child =  13    Conv1d(25, 1, kernel_size=(5,), stride=(1,), padding=(2,))\n",
      "ct, child =  14    Linear(in_features=4000, out_features=4000, bias=True)\n",
      "ct, child =  15    Conv1d(25, 1, kernel_size=(15,), stride=(1,), padding=(7,))\n",
      "ct, child =  16    Dropout(p=0.15, inplace=False)\n",
      "ct, child =  17    Dropout(p=0.15, inplace=False)\n"
     ]
    }
   ],
   "source": [
    "## a comment on the web at https://pytorch.org/docs/stable/optim.html says\n",
    "\"\"\"\n",
    "If you need to move a model to GPU via .cuda(), please do so before constructing optimizers for it. \n",
    "Parameters of a model after .cuda() will be different objects with those before the call.\n",
    "\n",
    "In general, you should make sure that optimized parameters live in consistent locations when \n",
    "optimizers are constructed and used.\n",
    "\"\"\"\n",
    "## so move this here (although we are using model.to(device) not explicitly using .cuda()\n",
    "\n",
    "nOut1 = 50\n",
    "nOut2 = 50\n",
    "nOut3 = 50\n",
    "nOut4 = 50\n",
    "nOut5 = 50\n",
    "nOut6 = 50\n",
    "nOut7 = 50\n",
    "nOut8 = 50\n",
    "nOut9 = 50\n",
    "nOut10 = 50\n",
    "nOut11 = 50\n",
    "latentChannels = 4\n",
    "model = Model(nOut1,nOut2,nOut3,nOut4,nOut5,nOut6,nOut7,nOut8,nOut9,nOut10,nOut11,latentChannels)\n",
    "\n",
    "##summary(model, input_size=(4, 4000))\n",
    "##print(model.parameters)\n",
    "\n",
    "## add the following code to allow the user to freeze the some of the weights corresponding \n",
    "## to those taken from an earlier model trained with the original target histograms\n",
    "## presumably -- this leaves either the perturbative filter \"fixed\" and lets the \n",
    "## learning focus on the non-perturbative features, so get started faster, or vice versa\n",
    "ct = 0\n",
    "for child in model.children():\n",
    "  print('ct, child = ',ct, \"  \", child)\n",
    "  if ct < 0:\n",
    "    print(\"     About to set param.requires_grad=False for ct = \", ct, \"params\")\n",
    "    for param in child.parameters():\n",
    "        # fixing parameters\n",
    "        param.requires_grad = False \n",
    "  ct += 1\n",
    "##  mds 200121 loss = Loss(epsilon=1e-5,coefficient=1.0)\n",
    "##  loss = Loss(epsilon=1e-5,coefficient=2.5)\n",
    "##loss = Loss(epsilon=3e-5, debug=False)\n",
    "loss = Loss(epsilon=3e-5)"
   ]
  },
  {
   "cell_type": "markdown",
   "metadata": {},
   "source": [
    "Let's move the model's weight matricies to the GPU:"
   ]
  },
  {
   "cell_type": "code",
   "execution_count": 11,
   "metadata": {
    "scrolled": true
   },
   "outputs": [],
   "source": [
    "model = model.to(device)"
   ]
  },
  {
   "cell_type": "code",
   "execution_count": 12,
   "metadata": {
    "scrolled": true
   },
   "outputs": [],
   "source": [
    "optimizer = torch.optim.Adam(model.parameters(), lr=learning_rate)\n",
    "##optimizer = torch.optim.SGD(model.parameters(), lr=learning_rate)"
   ]
  },
  {
   "cell_type": "code",
   "execution_count": 13,
   "metadata": {
    "scrolled": true
   },
   "outputs": [
    {
     "name": "stdout",
     "output_type": "stream",
     "text": [
      "output =  ML_dir/04Feb_DDplus_loss_Ba_iter26_floatAll_80epochs_1p5em5_4xwill\n",
      "for model_dict\n",
      "index, k =   0    layer1.weight\n",
      "index, k =   1    layer1.bias\n",
      "index, k =   2    layer2.weight\n",
      "index, k =   3    layer2.bias\n",
      "index, k =   4    layer3.weight\n",
      "index, k =   5    layer3.bias\n",
      "index, k =   6    layer4.weight\n",
      "index, k =   7    layer4.bias\n",
      "index, k =   8    layer5.weight\n",
      "index, k =   9    layer5.bias\n",
      "index, k =   10    layer6.weight\n",
      "index, k =   11    layer6.bias\n",
      "index, k =   12    layer7.weight\n",
      "index, k =   13    layer7.bias\n",
      "index, k =   14    layer8.weight\n",
      "index, k =   15    layer8.bias\n",
      "index, k =   16    layer9.weight\n",
      "index, k =   17    layer9.bias\n",
      "index, k =   18    layer10.weight\n",
      "index, k =   19    layer10.bias\n",
      "index, k =   20    layer11.weight\n",
      "index, k =   21    layer11.bias\n",
      "index, k =   22    layer12new.weight\n",
      "index, k =   23    layer12new.bias\n",
      "index, k =   24    conv1.weight\n",
      "index, k =   25    conv1.bias\n",
      "index, k =   26    conv2.weight\n",
      "index, k =   27    conv2.bias\n",
      "index, k =   28    fc1.weight\n",
      "index, k =   29    fc1.bias\n",
      "index, k =   30    finalFilter.weight\n",
      "index, k =   31    finalFilter.bias\n",
      "dict_name =  ML_dir/03Feb_DDplus_loss_Ba_iter25_floatAll_150epochs_1p5em5_4xwill/03Feb_DDplus_loss_Ba_iter25_floatAll_150epochs_1p5em5_4xwill_final.pyt\n",
      " \n",
      "  for pretrained_dict\n",
      "index, k =   0    layer1.weight\n",
      "index, k =   1    layer1.bias\n",
      "index, k =   2    layer2.weight\n",
      "index, k =   3    layer2.bias\n",
      "index, k =   4    layer3.weight\n",
      "index, k =   5    layer3.bias\n",
      "index, k =   6    layer4.weight\n",
      "index, k =   7    layer4.bias\n",
      "index, k =   8    layer5.weight\n",
      "index, k =   9    layer5.bias\n",
      "index, k =   10    layer6.weight\n",
      "index, k =   11    layer6.bias\n",
      "index, k =   12    layer7.weight\n",
      "index, k =   13    layer7.bias\n",
      "index, k =   14    layer8.weight\n",
      "index, k =   15    layer8.bias\n",
      "index, k =   16    layer9.weight\n",
      "index, k =   17    layer9.bias\n",
      "index, k =   18    layer10.weight\n",
      "index, k =   19    layer10.bias\n",
      "index, k =   20    layer11.weight\n",
      "index, k =   21    layer11.bias\n",
      "index, k =   22    layer12new.weight\n",
      "index, k =   23    layer12new.bias\n",
      "index, k =   24    conv1.weight\n",
      "index, k =   25    conv1.bias\n",
      "index, k =   26    conv2.weight\n",
      "index, k =   27    conv2.bias\n",
      "index, k =   28    fc1.weight\n",
      "index, k =   29    fc1.bias\n",
      "index, k =   30    finalFilter.weight\n",
      "index, k =   31    finalFilter.bias\n",
      "pretrained_dict iterated\n"
     ]
    },
    {
     "data": {
      "text/plain": [
       "<All keys matched successfully>"
      ]
     },
     "execution_count": 13,
     "metadata": {},
     "output_type": "execute_result"
    }
   ],
   "source": [
    "print('output = ',output)\n",
    "##print('oldOutput = ',oldOutput)\n",
    "##  use the first four layers from a pre-existing model\n",
    "##  see example at https://discuss.pytorch.org/t/how-to-load-part-of-pre-trained-model/1113\n",
    "\n",
    "##   ML -> /share/lazy/sokoloff/ML\n",
    "model_dict = model.state_dict()\n",
    "## mds 190725 for debugging\n",
    "print(\"for model_dict\")\n",
    "index = 0\n",
    "for k,v in model_dict.items():\n",
    "    print(\"index, k =  \",index,\"  \",k)\n",
    "    index = index+1\n",
    "##    print(\"value = \", v)\n",
    " \n",
    "updated_dict = model_dict\n",
    "##print(\"updated_dict = \",updated_dict)\n",
    "## when starting \"ab initio\", reduce biases as the bias gets summed for each track\n",
    "## contributing to the predicted KDE\n",
    "updated_dict[\"layer1.bias\"] = 0.005*model_dict[\"layer1.bias\"]\n",
    "updated_dict[\"layer2.bias\"] = 0.005*model_dict[\"layer2.bias\"]\n",
    "updated_dict[\"layer3.bias\"] = 0.005*model_dict[\"layer3.bias\"]\n",
    "updated_dict[\"layer4.bias\"] = 0.005*model_dict[\"layer4.bias\"]\n",
    "updated_dict[\"layer5.bias\"] = 0.005*model_dict[\"layer5.bias\"]\n",
    "updated_dict[\"layer6.bias\"] = 0.005*model_dict[\"layer6.bias\"]\n",
    "updated_dict[\"layer7.bias\"] = 0.005*model_dict[\"layer7.bias\"]\n",
    "updated_dict[\"layer8.bias\"] = 0.005*model_dict[\"layer8.bias\"]\n",
    "updated_dict[\"layer9.bias\"] = 0.005*model_dict[\"layer9.bias\"]\n",
    "updated_dict[\"layer10.bias\"] = 0.005*model_dict[\"layer10.bias\"]\n",
    "updated_dict[\"layer11.bias\"] = 0.005*model_dict[\"layer11.bias\"]\n",
    "\n",
    "model.load_state_dict(updated_dict,strict=False)\n",
    "\n",
    "model_dict = model.state_dict()\n",
    "##print(\"updated model_dict = \",model_dict)\n",
    "\n",
    "## print(\" \\n\",\"  for pretrained_dict\")\n",
    "## index = 0\n",
    "##for k,v in pretrained_dict.items():\n",
    "##    print(\"index, k =  \",index,\"  \",k)\n",
    "##    index = index+1\n",
    "## mds  \n",
    "\n",
    "##pretrained_dict = torch.load('ML/29July2020_Trks_to_KDE_C_lossB_100epochs_b64_1m3_nOut_50x50/29July2020_Trks_to_KDE_C_lossB_100epochs_b64_1m3_nOut_50x50_final.pyt')\n",
    "##print(\"model_dict instantiated\")\n",
    "# 1. filter out unnecessary keys\n",
    "##pretrained_dict = {k: v for k, v in pretrained_dict.items() if k in model_dict}\n",
    "##print(\"pretrained_dict iterated\")\n",
    "# 2. overwrite entries in the existing state dict\n",
    "##model_dict.update(pretrained_dict) \n",
    "##\n",
    "#   when starting from a model with a fully connected last layer rather than a convolutional layer\n",
    "# 3. load the new state dict\n",
    "#   need to use strict=False as the two models state model attributes do not agree exactly\n",
    "#   see https://pytorch.org/docs/master/_modules/torch/nn/modules/module.html#Module.load_state_dict\n",
    "\n",
    "##model.load_state_dict(pretrained_dict,strict=False)\n",
    "\n",
    "## print('model_dict =    ', model_dict)\n",
    "\n",
    "## finished at training cost = 1.46, validation cost = 1.50\n",
    "##d_folder = '25December__DDplus_loss_Ba_iter7_floatAll_800epochs_4em6'\n",
    "d_folder = '03Feb_DDplus_loss_Ba_iter25_floatAll_150epochs_1p5em5_4xwill'\n",
    "d_name = d_folder\n",
    "##  for 24Jan_DDplus_loss_Ba_iter17_floatAll_150epochs_1p5em5_4xwill use suffix 87\n",
    "##  as this is the last epoch that ran before I killed the job (don't ask)\n",
    "suffix = 'final'\n",
    "dict_name = 'ML_dir/' + d_folder + '/' + d_name + '_'+ suffix + '.pyt'\n",
    "print('dict_name = ',dict_name)\n",
    "pretrained_dict = torch.load(dict_name)\n",
    "\n",
    "print(\" \")\n",
    "print(\"  for pretrained_dict\")\n",
    "index = 0\n",
    "for k,v in pretrained_dict.items():\n",
    "    print(\"index, k =  \",index,\"  \",k)\n",
    "    index = index+1\n",
    " \n",
    "\n",
    "##print(\"model_dict instantiated\")\n",
    "# 1. filter out unnecessary keys\n",
    "pretrained_dict = {k: v for k, v in pretrained_dict.items() if k in model_dict}\n",
    "print(\"pretrained_dict iterated\")\n",
    "# 2. overwrite entries in the existing state dict\n",
    "model_dict.update(pretrained_dict) \n",
    "##\n",
    "#   when starting from a model with a fully connected last layer rather than a convolutional layer\n",
    "# 3. load the new state dict\n",
    "#   need to use strict=False as the two models state model attributes do not agree exactly\n",
    "#   see https://pytorch.org/docs/master/_modules/torch/nn/modules/module.html#Module.load_state_dict\n",
    "\n",
    "model.load_state_dict(pretrained_dict,strict=False)\n",
    "\n"
   ]
  },
  {
   "cell_type": "code",
   "execution_count": 14,
   "metadata": {},
   "outputs": [],
   "source": [
    "##print('validation.dataset.tensors = ',validation.dataset.tensors)\n",
    "fig_size = plt.rcParams[\"figure.figsize\"]\n",
    "fig_size[0] = 10\n",
    "fig_size[1] = 4\n",
    "plt.rcParams[\"figure.figsize\"] = fig_size"
   ]
  },
  {
   "cell_type": "code",
   "execution_count": 15,
   "metadata": {},
   "outputs": [
    {
     "name": "stdout",
     "output_type": "stream",
     "text": [
      "Loading data...\n",
      "pocaMx.shape =  (80000,)\n",
      "nEvts =  80000\n",
      "len(pocaMx[0]) =  199\n",
      "len(pocaMx[1]) =  25\n",
      "len(pocaMx[2]) =  369\n",
      "len(pocaMx[3]) =  143\n",
      "len(pocaMx[4]) =  160\n",
      "majorAxis.shape =  (80000, 3)\n",
      "minorAxis_1.shape =  (80000, 3)\n",
      "minorAxis_2.shape =  (80000, 3)\n",
      "have entered six_ellipsoid_parameters\n",
      "  \n",
      " \n",
      "  nEvts =  80000\n",
      " iEvt, nTrks =  0 199\n",
      " iEvt, nTrks =  1 25\n",
      " iEvt, nTrks =  2 369\n",
      " iEvt, nTrks =  3 143\n",
      " iEvt, nTrks =  4 160\n",
      " iEvt, nTrks =  5 260\n",
      " iEvt, nTrks =  6 237\n",
      " iEvt, nTrks =  7 327\n",
      " iEvt, nTrks =  8 178\n",
      " iEvt, nTrks =  9 106\n",
      "A.shape =  (80000,)\n",
      "majorAxis[iTrk][0][0] =  0.00045611936\n",
      "majorAxis[iTrk][1][0] =  -4.8292455e-05\n",
      "majorAxis[iTrk][2][0] =  0.090019904\n",
      "minorAxis_1[iTrk][0][0] =  -1.8602173\n",
      "minorAxis_1[iTrk][1][0] =  -17.569641\n",
      "minorAxis_1[iTrk][2][0] =  4.7891795e-08\n",
      "minorAxis_2[iTrk][0][0] =  -17.569414\n",
      "minorAxis_2[iTrk][1][0] =  1.8601931\n",
      "minorAxis_2[iTrk][2][0] =  0.0900199\n",
      "  \n",
      "majorAxis[iTrk][0][0] =  0.002360258\n",
      "majorAxis[iTrk][1][0] =  -0.007426616\n",
      "majorAxis[iTrk][2][0] =  0.3710108\n",
      "minorAxis_1[iTrk][0][0] =  -16.837948\n",
      "minorAxis_1[iTrk][1][0] =  -5.3512807\n",
      "minorAxis_1[iTrk][2][0] =  8.157131e-09\n",
      "minorAxis_2[iTrk][0][0] =  -5.3501005\n",
      "minorAxis_2[iTrk][1][0] =  16.834236\n",
      "minorAxis_2[iTrk][2][0] =  0.3710108\n",
      "  \n",
      "majorAxis[iTrk][0][0] =  6.220712e-05\n",
      "majorAxis[iTrk][1][0] =  -4.4594188e-05\n",
      "majorAxis[iTrk][2][0] =  0.036773544\n",
      "minorAxis_1[iTrk][0][0] =  10.293747\n",
      "minorAxis_1[iTrk][1][0] =  14.359369\n",
      "minorAxis_1[iTrk][2][0] =  1.571041e-06\n",
      "minorAxis_2[iTrk][0][0] =  14.359338\n",
      "minorAxis_2[iTrk][1][0] =  -10.293725\n",
      "minorAxis_2[iTrk][2][0] =  -0.03677354\n",
      "  \n",
      "majorAxis[iTrk][0][0] =  0.0033452737\n",
      "majorAxis[iTrk][1][0] =  0.00013028442\n",
      "majorAxis[iTrk][2][0] =  0.2431933\n",
      "minorAxis_1[iTrk][0][0] =  0.6875674\n",
      "minorAxis_1[iTrk][1][0] =  -17.65446\n",
      "minorAxis_1[iTrk][2][0] =  -6.6602626e-09\n",
      "minorAxis_2[iTrk][0][0] =  -17.652788\n",
      "minorAxis_2[iTrk][1][0] =  -0.68750226\n",
      "minorAxis_2[iTrk][2][0] =  0.2431933\n",
      "  \n",
      "majorAxis[iTrk][0][0] =  -0.00068196515\n",
      "majorAxis[iTrk][1][0] =  -0.00044562915\n",
      "majorAxis[iTrk][2][0] =  0.119970225\n",
      "minorAxis_1[iTrk][0][0] =  9.664597\n",
      "minorAxis_1[iTrk][1][0] =  -14.790141\n",
      "minorAxis_1[iTrk][2][0] =  1.9819232e-08\n",
      "minorAxis_2[iTrk][0][0] =  -14.789802\n",
      "minorAxis_2[iTrk][1][0] =  -9.664374\n",
      "minorAxis_2[iTrk][2][0] =  -0.11997023\n",
      "  \n",
      "majorAxis[iTrk][0][0] =  -8.245073e-05\n",
      "majorAxis[iTrk][1][0] =  0.00015860004\n",
      "majorAxis[iTrk][2][0] =  0.05619731\n",
      "minorAxis_1[iTrk][0][0] =  -15.676071\n",
      "minorAxis_1[iTrk][1][0] =  -8.149452\n",
      "minorAxis_1[iTrk][2][0] =  4.1105773e-07\n",
      "minorAxis_2[iTrk][0][0] =  -8.14941\n",
      "minorAxis_2[iTrk][1][0] =  15.675991\n",
      "minorAxis_2[iTrk][2][0] =  -0.056197315\n",
      "  \n",
      "majorAxis[iTrk][0][0] =  -0.00015151131\n",
      "majorAxis[iTrk][1][0] =  0.00067339616\n",
      "majorAxis[iTrk][2][0] =  0.11042937\n",
      "minorAxis_1[iTrk][0][0] =  17.236937\n",
      "minorAxis_1[iTrk][1][0] =  3.8782384\n",
      "minorAxis_1[iTrk][2][0] =  2.3217373e-08\n",
      "minorAxis_2[iTrk][0][0] =  3.8781626\n",
      "minorAxis_2[iTrk][1][0] =  -17.236599\n",
      "minorAxis_2[iTrk][2][0] =  0.11042936\n",
      "  \n",
      "majorAxis[iTrk][0][0] =  -7.577422e-05\n",
      "majorAxis[iTrk][1][0] =  -0.00036802414\n",
      "majorAxis[iTrk][2][0] =  0.08147708\n",
      "minorAxis_1[iTrk][0][0] =  -17.304853\n",
      "minorAxis_1[iTrk][1][0] =  3.5629773\n",
      "minorAxis_1[iTrk][2][0] =  5.80501e-09\n",
      "minorAxis_2[iTrk][0][0] =  3.5629392\n",
      "minorAxis_2[iTrk][1][0] =  17.304668\n",
      "minorAxis_2[iTrk][2][0] =  0.081477076\n",
      "  \n",
      "majorAxis[iTrk][0][0] =  0.00013397264\n",
      "majorAxis[iTrk][1][0] =  0.00094400026\n",
      "majorAxis[iTrk][2][0] =  0.12978876\n",
      "minorAxis_1[iTrk][0][0] =  17.492561\n",
      "minorAxis_1[iTrk][1][0] =  -2.4825466\n",
      "minorAxis_1[iTrk][2][0] =  1.1329301e-08\n",
      "minorAxis_2[iTrk][0][0] =  -2.4824798\n",
      "minorAxis_2[iTrk][1][0] =  -17.492088\n",
      "minorAxis_2[iTrk][2][0] =  0.12978874\n",
      "  \n",
      "majorAxis[iTrk][0][0] =  0.00043501743\n",
      "majorAxis[iTrk][1][0] =  -0.0016521378\n",
      "majorAxis[iTrk][2][0] =  0.17373301\n",
      "minorAxis_1[iTrk][0][0] =  -17.0855\n",
      "minorAxis_1[iTrk][1][0] =  -4.4987106\n",
      "minorAxis_1[iTrk][2][0] =  -7.7275175e-08\n",
      "minorAxis_2[iTrk][0][0] =  -4.4984937\n",
      "minorAxis_2[iTrk][1][0] =  17.084677\n",
      "minorAxis_2[iTrk][2][0] =  0.17373303\n",
      "  \n",
      "len(X) =  80000\n",
      "len(Xlist) =  1\n",
      "Loaded /share/lazy/will/data/June30_2020_80k_1.h5 in 280.1 s\n",
      "pocaMx.shape =  (80000,)\n",
      "nEvts =  80000\n",
      "len(pocaMx[0]) =  222\n",
      "len(pocaMx[1]) =  133\n",
      "len(pocaMx[2]) =  259\n",
      "len(pocaMx[3]) =  114\n",
      "len(pocaMx[4]) =  143\n",
      "majorAxis.shape =  (80000, 3)\n",
      "minorAxis_1.shape =  (80000, 3)\n",
      "minorAxis_2.shape =  (80000, 3)\n",
      "have entered six_ellipsoid_parameters\n",
      "  \n",
      " \n",
      "  nEvts =  80000\n",
      " iEvt, nTrks =  0 222\n",
      " iEvt, nTrks =  1 133\n",
      " iEvt, nTrks =  2 259\n",
      " iEvt, nTrks =  3 114\n",
      " iEvt, nTrks =  4 143\n",
      " iEvt, nTrks =  5 136\n",
      " iEvt, nTrks =  6 397\n",
      " iEvt, nTrks =  7 370\n",
      " iEvt, nTrks =  8 97\n",
      " iEvt, nTrks =  9 67\n",
      "A.shape =  (80000,)\n",
      "majorAxis[iTrk][0][0] =  -0.001036478\n",
      "majorAxis[iTrk][1][0] =  0.0009833863\n",
      "majorAxis[iTrk][2][0] =  0.15887721\n",
      "minorAxis_1[iTrk][0][0] =  -12.160475\n",
      "minorAxis_1[iTrk][1][0] =  -12.817002\n",
      "minorAxis_1[iTrk][2][0] =  0.0\n",
      "minorAxis_2[iTrk][0][0] =  -12.816484\n",
      "minorAxis_2[iTrk][1][0] =  12.159985\n",
      "minorAxis_2[iTrk][2][0] =  -0.15887721\n",
      "  \n",
      "majorAxis[iTrk][0][0] =  0.0016579849\n",
      "majorAxis[iTrk][1][0] =  0.0020989499\n",
      "majorAxis[iTrk][2][0] =  0.21738033\n",
      "minorAxis_1[iTrk][0][0] =  -13.864233\n",
      "minorAxis_1[iTrk][1][0] =  10.95152\n",
      "minorAxis_1[iTrk][2][0] =  -3.3017489e-09\n",
      "minorAxis_2[iTrk][0][0] =  10.95069\n",
      "minorAxis_2[iTrk][1][0] =  13.863184\n",
      "minorAxis_2[iTrk][2][0] =  -0.21738033\n",
      "  \n",
      "majorAxis[iTrk][0][0] =  0.00012481198\n",
      "majorAxis[iTrk][1][0] =  -0.00028747538\n",
      "majorAxis[iTrk][2][0] =  0.07441149\n",
      "minorAxis_1[iTrk][0][0] =  -16.206305\n",
      "minorAxis_1[iTrk][1][0] =  -7.036224\n",
      "minorAxis_1[iTrk][2][0] =  5.3456716e-08\n",
      "minorAxis_2[iTrk][0][0] =  -7.0361605\n",
      "minorAxis_2[iTrk][1][0] =  16.20616\n",
      "minorAxis_2[iTrk][2][0] =  0.07441148\n",
      "  \n",
      "majorAxis[iTrk][0][0] =  -0.007920195\n",
      "majorAxis[iTrk][1][0] =  -0.009694931\n",
      "majorAxis[iTrk][2][0] =  0.47021532\n",
      "minorAxis_1[iTrk][0][0] =  -13.682467\n",
      "minorAxis_1[iTrk][1][0] =  11.177781\n",
      "minorAxis_1[iTrk][2][0] =  1.8638048e-10\n",
      "minorAxis_2[iTrk][0][0] =  11.173822\n",
      "minorAxis_2[iTrk][1][0] =  13.677622\n",
      "minorAxis_2[iTrk][2][0] =  0.47021535\n",
      "  \n",
      "majorAxis[iTrk][0][0] =  0.00038854493\n",
      "majorAxis[iTrk][1][0] =  0.0009230774\n",
      "majorAxis[iTrk][2][0] =  0.13301943\n",
      "minorAxis_1[iTrk][0][0] =  -16.284061\n",
      "minorAxis_1[iTrk][1][0] =  6.854344\n",
      "minorAxis_1[iTrk][2][0] =  2.2469074e-07\n",
      "minorAxis_2[iTrk][0][0] =  6.8541493\n",
      "minorAxis_2[iTrk][1][0] =  16.283602\n",
      "minorAxis_2[iTrk][2][0] =  -0.13301945\n",
      "  \n",
      "majorAxis[iTrk][0][0] =  -5.6093595e-05\n",
      "majorAxis[iTrk][1][0] =  0.000114469876\n",
      "majorAxis[iTrk][2][0] =  0.04745733\n",
      "minorAxis_1[iTrk][0][0] =  15.865369\n",
      "minorAxis_1[iTrk][1][0] =  7.774496\n",
      "minorAxis_1[iTrk][2][0] =  1.8465234e-06\n",
      "minorAxis_2[iTrk][0][0] =  7.774468\n",
      "minorAxis_2[iTrk][1][0] =  -15.865313\n",
      "minorAxis_2[iTrk][2][0] =  0.04745733\n",
      "  \n",
      "majorAxis[iTrk][0][0] =  9.375396e-05\n",
      "majorAxis[iTrk][1][0] =  0.0002926058\n",
      "majorAxis[iTrk][2][0] =  0.07367872\n",
      "minorAxis_1[iTrk][0][0] =  -16.825275\n",
      "minorAxis_1[iTrk][1][0] =  5.390994\n",
      "minorAxis_1[iTrk][2][0] =  -2.1861728e-08\n",
      "minorAxis_2[iTrk][0][0] =  5.3909473\n",
      "minorAxis_2[iTrk][1][0] =  16.825129\n",
      "minorAxis_2[iTrk][2][0] =  -0.07367872\n",
      "  \n",
      "majorAxis[iTrk][0][0] =  -1.1543522e-06\n",
      "majorAxis[iTrk][1][0] =  2.8112001e-05\n",
      "majorAxis[iTrk][2][0] =  0.022295665\n",
      "minorAxis_1[iTrk][0][0] =  -17.652967\n",
      "minorAxis_1[iTrk][1][0] =  -0.7248769\n",
      "minorAxis_1[iTrk][2][0] =  1.7815448e-07\n",
      "minorAxis_2[iTrk][0][0] =  -0.7248763\n",
      "minorAxis_2[iTrk][1][0] =  17.652954\n",
      "minorAxis_2[iTrk][2][0] =  -0.022295661\n",
      "  \n",
      "majorAxis[iTrk][0][0] =  -0.2612214\n",
      "majorAxis[iTrk][1][0] =  0.83076316\n",
      "majorAxis[iTrk][2][0] =  3.8745012\n",
      "minorAxis_1[iTrk][0][0] =  -16.85429\n",
      "minorAxis_1[iTrk][1][0] =  -5.299587\n",
      "minorAxis_1[iTrk][2][0] =  2.0865195e-11\n",
      "minorAxis_2[iTrk][0][0] =  -5.1705856\n",
      "minorAxis_2[iTrk][1][0] =  16.444027\n",
      "minorAxis_2[iTrk][2][0] =  -3.874501\n",
      "  \n",
      "majorAxis[iTrk][0][0] =  -0.057592034\n",
      "majorAxis[iTrk][1][0] =  0.06503555\n",
      "majorAxis[iTrk][2][0] =  1.2373537\n",
      "minorAxis_1[iTrk][0][0] =  13.227038\n",
      "minorAxis_1[iTrk][1][0] =  11.713163\n",
      "minorAxis_1[iTrk][2][0] =  1.7679876e-10\n",
      "minorAxis_2[iTrk][0][0] =  11.684402\n",
      "minorAxis_2[iTrk][1][0] =  -13.194561\n",
      "minorAxis_2[iTrk][2][0] =  1.2373537\n",
      "  \n",
      "len(X) =  80000\n",
      "len(Xlist) =  2\n",
      "Loaded /share/lazy/will/data/June30_2020_80k_2.h5 in 280.6 s\n",
      "pocaMx.shape =  (80000,)\n"
     ]
    },
    {
     "name": "stdout",
     "output_type": "stream",
     "text": [
      "nEvts =  80000\n",
      "len(pocaMx[0]) =  196\n",
      "len(pocaMx[1]) =  35\n",
      "len(pocaMx[2]) =  265\n",
      "len(pocaMx[3]) =  128\n",
      "len(pocaMx[4]) =  124\n",
      "majorAxis.shape =  (80000, 3)\n",
      "minorAxis_1.shape =  (80000, 3)\n",
      "minorAxis_2.shape =  (80000, 3)\n",
      "have entered six_ellipsoid_parameters\n",
      "  \n",
      " \n",
      "  nEvts =  80000\n",
      " iEvt, nTrks =  0 196\n",
      " iEvt, nTrks =  1 35\n",
      " iEvt, nTrks =  2 265\n",
      " iEvt, nTrks =  3 128\n",
      " iEvt, nTrks =  4 124\n",
      " iEvt, nTrks =  5 122\n",
      " iEvt, nTrks =  6 300\n",
      " iEvt, nTrks =  7 179\n",
      " iEvt, nTrks =  8 243\n",
      " iEvt, nTrks =  9 112\n",
      "A.shape =  (80000,)\n",
      "majorAxis[iTrk][0][0] =  -2.440992e-05\n",
      "majorAxis[iTrk][1][0] =  -0.00038087237\n",
      "majorAxis[iTrk][2][0] =  0.08211532\n",
      "minorAxis_1[iTrk][0][0] =  -17.631672\n",
      "minorAxis_1[iTrk][1][0] =  1.130005\n",
      "minorAxis_1[iTrk][2][0] =  4.7444193e-08\n",
      "minorAxis_2[iTrk][0][0] =  1.1299927\n",
      "minorAxis_2[iTrk][1][0] =  17.631481\n",
      "minorAxis_2[iTrk][2][0] =  0.08211532\n",
      "  \n",
      "majorAxis[iTrk][0][0] =  -0.02277395\n",
      "majorAxis[iTrk][1][0] =  0.0014473597\n",
      "majorAxis[iTrk][2][0] =  0.6347583\n",
      "minorAxis_1[iTrk][0][0] =  -1.1205891\n",
      "minorAxis_1[iTrk][1][0] =  -17.632273\n",
      "minorAxis_1[iTrk][2][0] =  2.1543272e-09\n",
      "minorAxis_2[iTrk][0][0] =  -17.620888\n",
      "minorAxis_2[iTrk][1][0] =  1.1198657\n",
      "minorAxis_2[iTrk][2][0] =  -0.63475823\n",
      "  \n",
      "majorAxis[iTrk][0][0] =  0.0004024825\n",
      "majorAxis[iTrk][1][0] =  -0.00023784715\n",
      "majorAxis[iTrk][2][0] =  0.090883136\n",
      "minorAxis_1[iTrk][0][0] =  -8.988615\n",
      "minorAxis_1[iTrk][1][0] =  -15.210441\n",
      "minorAxis_1[iTrk][2][0] =  -6.56547e-08\n",
      "minorAxis_2[iTrk][0][0] =  -15.21024\n",
      "minorAxis_2[iTrk][1][0] =  8.988497\n",
      "minorAxis_2[iTrk][2][0] =  0.090883136\n",
      "  \n",
      "majorAxis[iTrk][0][0] =  0.0068744724\n",
      "majorAxis[iTrk][1][0] =  0.0017050834\n",
      "majorAxis[iTrk][2][0] =  0.3537121\n",
      "minorAxis_1[iTrk][0][0] =  4.2532983\n",
      "minorAxis_1[iTrk][1][0] =  -17.148241\n",
      "minorAxis_1[iTrk][2][0] =  1.1939819e-09\n",
      "minorAxis_2[iTrk][0][0] =  -17.144806\n",
      "minorAxis_2[iTrk][1][0] =  -4.252446\n",
      "minorAxis_2[iTrk][2][0] =  0.3537121\n",
      "  \n",
      "majorAxis[iTrk][0][0] =  -0.004920899\n",
      "majorAxis[iTrk][1][0] =  0.0009170567\n",
      "majorAxis[iTrk][2][0] =  0.2973651\n",
      "minorAxis_1[iTrk][0][0] =  -3.236844\n",
      "minorAxis_1[iTrk][1][0] =  -17.36881\n",
      "minorAxis_1[iTrk][2][0] =  -4.7397712e-09\n",
      "minorAxis_2[iTrk][0][0] =  -17.36635\n",
      "minorAxis_2[iTrk][1][0] =  3.2363856\n",
      "minorAxis_2[iTrk][2][0] =  -0.29736507\n",
      "  \n",
      "majorAxis[iTrk][0][0] =  -0.0001240533\n",
      "majorAxis[iTrk][1][0] =  0.00033394952\n",
      "majorAxis[iTrk][2][0] =  0.079335004\n",
      "minorAxis_1[iTrk][0][0] =  -16.562042\n",
      "minorAxis_1[iTrk][1][0] =  -6.1523557\n",
      "minorAxis_1[iTrk][2][0] =  3.1261713e-08\n",
      "minorAxis_2[iTrk][0][0] =  -6.1522937\n",
      "minorAxis_2[iTrk][1][0] =  16.561876\n",
      "minorAxis_2[iTrk][2][0] =  -0.079335004\n",
      "  \n",
      "majorAxis[iTrk][0][0] =  0.00010132754\n",
      "majorAxis[iTrk][1][0] =  6.684385e-05\n",
      "majorAxis[iTrk][2][0] =  0.046310693\n",
      "minorAxis_1[iTrk][0][0] =  -9.728917\n",
      "minorAxis_1[iTrk][1][0] =  14.747911\n",
      "minorAxis_1[iTrk][2][0] =  -2.3591362e-07\n",
      "minorAxis_2[iTrk][0][0] =  14.74786\n",
      "minorAxis_2[iTrk][1][0] =  9.728883\n",
      "minorAxis_2[iTrk][2][0] =  -0.04631069\n",
      "  \n",
      "majorAxis[iTrk][0][0] =  0.0042806785\n",
      "majorAxis[iTrk][1][0] =  0.004939851\n",
      "majorAxis[iTrk][2][0] =  0.3398017\n",
      "minorAxis_1[iTrk][0][0] =  13.3521\n",
      "minorAxis_1[iTrk][1][0] =  -11.5704\n",
      "minorAxis_1[iTrk][2][0] =  1.21654296e-08\n",
      "minorAxis_2[iTrk][0][0] =  -11.56826\n",
      "minorAxis_2[iTrk][1][0] =  -13.349631\n",
      "minorAxis_2[iTrk][2][0] =  0.33980173\n",
      "  \n",
      "majorAxis[iTrk][0][0] =  -0.00013103899\n",
      "majorAxis[iTrk][1][0] =  -0.0006021903\n",
      "majorAxis[iTrk][2][0] =  0.10434653\n",
      "minorAxis_1[iTrk][0][0] =  -17.26384\n",
      "minorAxis_1[iTrk][1][0] =  3.7566798\n",
      "minorAxis_1[iTrk][2][0] =  -9.616703e-08\n",
      "minorAxis_2[iTrk][0][0] =  3.7566135\n",
      "minorAxis_2[iTrk][1][0] =  17.263535\n",
      "minorAxis_2[iTrk][2][0] =  0.10434652\n",
      "  \n",
      "majorAxis[iTrk][0][0] =  0.0016481678\n",
      "majorAxis[iTrk][1][0] =  -0.0019788505\n",
      "majorAxis[iTrk][2][0] =  0.21330062\n",
      "minorAxis_1[iTrk][0][0] =  -13.575765\n",
      "minorAxis_1[iTrk][1][0] =  -11.307139\n",
      "minorAxis_1[iTrk][2][0] =  8.543098e-09\n",
      "minorAxis_2[iTrk][0][0] =  -11.306314\n",
      "minorAxis_2[iTrk][1][0] =  13.574774\n",
      "minorAxis_2[iTrk][2][0] =  0.21330062\n",
      "  \n",
      "len(X) =  80000\n",
      "len(Xlist) =  3\n",
      "Loaded /share/lazy/will/data/June30_2020_80k_3.h5 in 291.6 s\n",
      "pocaMx.shape =  (80000,)\n",
      "nEvts =  80000\n",
      "len(pocaMx[0]) =  204\n",
      "len(pocaMx[1]) =  33\n",
      "len(pocaMx[2]) =  206\n",
      "len(pocaMx[3]) =  150\n",
      "len(pocaMx[4]) =  96\n",
      "majorAxis.shape =  (80000, 3)\n",
      "minorAxis_1.shape =  (80000, 3)\n",
      "minorAxis_2.shape =  (80000, 3)\n",
      "have entered six_ellipsoid_parameters\n",
      "  \n",
      " \n",
      "  nEvts =  80000\n",
      " iEvt, nTrks =  0 204\n",
      " iEvt, nTrks =  1 33\n",
      " iEvt, nTrks =  2 206\n",
      " iEvt, nTrks =  3 150\n",
      " iEvt, nTrks =  4 96\n",
      " iEvt, nTrks =  5 10\n",
      " iEvt, nTrks =  6 174\n",
      " iEvt, nTrks =  7 320\n",
      " iEvt, nTrks =  8 164\n",
      " iEvt, nTrks =  9 119\n",
      "A.shape =  (80000,)\n",
      "majorAxis[iTrk][0][0] =  0.00057876867\n",
      "majorAxis[iTrk][1][0] =  0.00037603904\n",
      "majorAxis[iTrk][2][0] =  0.110427074\n",
      "minorAxis_1[iTrk][0][0] =  9.62588\n",
      "minorAxis_1[iTrk][1][0] =  -14.81537\n",
      "minorAxis_1[iTrk][2][0] =  8.391163e-09\n",
      "minorAxis_2[iTrk][0][0] =  -14.815081\n",
      "minorAxis_2[iTrk][1][0] =  -9.625692\n",
      "minorAxis_2[iTrk][2][0] =  0.11042709\n",
      "  \n",
      "majorAxis[iTrk][0][0] =  -7.687664e-05\n",
      "majorAxis[iTrk][1][0] =  -0.0017985329\n",
      "majorAxis[iTrk][2][0] =  0.17833562\n",
      "minorAxis_1[iTrk][0][0] =  -17.651728\n",
      "minorAxis_1[iTrk][1][0] =  0.7545069\n",
      "minorAxis_1[iTrk][2][0] =  -7.932265e-09\n",
      "minorAxis_2[iTrk][0][0] =  0.75446844\n",
      "minorAxis_2[iTrk][1][0] =  17.650827\n",
      "minorAxis_2[iTrk][2][0] =  0.17833562\n",
      "  \n",
      "majorAxis[iTrk][0][0] =  4.5855802e-05\n",
      "majorAxis[iTrk][1][0] =  -0.00054240844\n",
      "majorAxis[iTrk][2][0] =  0.098067455\n",
      "minorAxis_1[iTrk][0][0] =  17.605043\n",
      "minorAxis_1[iTrk][1][0] =  1.4883496\n",
      "minorAxis_1[iTrk][2][0] =  -2.7847218e-08\n",
      "minorAxis_2[iTrk][0][0] =  1.4883265\n",
      "minorAxis_2[iTrk][1][0] =  -17.604773\n",
      "minorAxis_2[iTrk][2][0] =  -0.098067455\n",
      "  \n",
      "majorAxis[iTrk][0][0] =  -0.0013144773\n",
      "majorAxis[iTrk][1][0] =  0.0008680699\n",
      "majorAxis[iTrk][2][0] =  0.16682307\n",
      "minorAxis_1[iTrk][0][0] =  -9.736217\n",
      "minorAxis_1[iTrk][1][0] =  -14.743094\n",
      "minorAxis_1[iTrk][2][0] =  -1.7552136e-08\n",
      "minorAxis_2[iTrk][0][0] =  -14.742435\n",
      "minorAxis_2[iTrk][1][0] =  9.735782\n",
      "minorAxis_2[iTrk][2][0] =  -0.16682304\n",
      "  \n",
      "majorAxis[iTrk][0][0] =  0.032227762\n",
      "majorAxis[iTrk][1][0] =  0.007741693\n",
      "majorAxis[iTrk][2][0] =  0.76488173\n",
      "minorAxis_1[iTrk][0][0] =  -4.1267405\n",
      "minorAxis_1[iTrk][1][0] =  17.179138\n",
      "minorAxis_1[iTrk][2][0] =  -2.3529467e-10\n",
      "minorAxis_2[iTrk][0][0] =  17.16303\n",
      "minorAxis_2[iTrk][1][0] =  4.122871\n",
      "minorAxis_2[iTrk][2][0] =  -0.7648817\n",
      "  \n",
      "majorAxis[iTrk][0][0] =  1.9753945\n",
      "majorAxis[iTrk][1][0] =  2.5669005\n",
      "majorAxis[iTrk][2][0] =  7.226382\n",
      "minorAxis_1[iTrk][0][0] =  14.0017\n",
      "minorAxis_1[iTrk][1][0] =  -10.7752075\n",
      "minorAxis_1[iTrk][2][0] =  5.3286344e-11\n",
      "minorAxis_2[iTrk][0][0] =  -9.832683\n",
      "minorAxis_2[iTrk][1][0] =  -12.776951\n",
      "minorAxis_2[iTrk][2][0] =  7.226381\n",
      "  \n",
      "majorAxis[iTrk][0][0] =  -0.0026900356\n",
      "majorAxis[iTrk][1][0] =  -0.0015841618\n",
      "majorAxis[iTrk][2][0] =  0.234843\n",
      "minorAxis_1[iTrk][0][0] =  -8.965469\n",
      "minorAxis_1[iTrk][1][0] =  15.224096\n",
      "minorAxis_1[iTrk][2][0] =  2.8236277e-08\n",
      "minorAxis_2[iTrk][0][0] =  15.222751\n",
      "minorAxis_2[iTrk][1][0] =  8.964677\n",
      "minorAxis_2[iTrk][2][0] =  0.234843\n",
      "  \n",
      "majorAxis[iTrk][0][0] =  -0.0001692281\n",
      "majorAxis[iTrk][1][0] =  0.0003505444\n",
      "majorAxis[iTrk][2][0] =  0.08292902\n",
      "minorAxis_1[iTrk][0][0] =  -15.910811\n",
      "minorAxis_1[iTrk][1][0] =  -7.68107\n",
      "minorAxis_1[iTrk][2][0] =  1.587002e-08\n",
      "minorAxis_2[iTrk][0][0] =  -7.680986\n",
      "minorAxis_2[iTrk][1][0] =  15.910635\n",
      "minorAxis_2[iTrk][2][0] =  -0.08292903\n",
      "  \n",
      "majorAxis[iTrk][0][0] =  0.0017714669\n",
      "majorAxis[iTrk][1][0] =  -0.001515166\n",
      "majorAxis[iTrk][2][0] =  0.20293355\n",
      "minorAxis_1[iTrk][0][0] =  11.483943\n",
      "minorAxis_1[iTrk][1][0] =  13.426532\n",
      "minorAxis_1[iTrk][2][0] =  -2.7840934e-09\n",
      "minorAxis_2[iTrk][0][0] =  13.425648\n",
      "minorAxis_2[iTrk][1][0] =  -11.483187\n",
      "minorAxis_2[iTrk][2][0] =  -0.20293356\n",
      "  \n",
      "majorAxis[iTrk][0][0] =  0.0006359923\n",
      "majorAxis[iTrk][1][0] =  -0.0003371759\n",
      "majorAxis[iTrk][2][0] =  0.112773284\n",
      "minorAxis_1[iTrk][0][0] =  8.275655\n",
      "minorAxis_1[iTrk][1][0] =  15.609813\n",
      "minorAxis_1[iTrk][2][0] =  -5.6373224e-08\n",
      "minorAxis_2[iTrk][0][0] =  15.609494\n",
      "minorAxis_2[iTrk][1][0] =  -8.275486\n",
      "minorAxis_2[iTrk][2][0] =  -0.11277328\n",
      "  \n",
      "len(X) =  80000\n",
      "len(Xlist) =  4\n",
      "Loaded /share/lazy/will/data/June30_2020_80k_4.h5 in 286.3 s\n",
      "outer loop X.shape =  (320000, 9, 600)\n",
      "Constructing 320000 event dataset took 3.792 s\n",
      "x_t.shape =  torch.Size([320000, 9, 600])\n",
      "x_t.shape[0] =  320000\n",
      "x_t.shape[1] =  9\n",
      "x_t.shape =  torch.Size([320000, 9, 600])\n"
     ]
    }
   ],
   "source": [
    "## Training dataset. You can put as many files here as desired.\n",
    "\n",
    "##train_loader = collect_t2kde_data('/share/lazy/pv-finder/20k_evts_for_KDE_learning_200716.h5',\n",
    "train_loader = collect_t2kde_data('/share/lazy/will/data/June30_2020_80k_1.h5', \n",
    "                                  '/share/lazy/will/data/June30_2020_80k_2.h5',\n",
    "                                  '/share/lazy/will/data/June30_2020_80k_3.h5',\n",
    "                                  '/share/lazy/will/data/June30_2020_80k_4.h5',\n",
    "                                  #'/share/lazy/will/data/June30_2020_80k_5.h5',\n",
    "                                  #'/share/lazy/will/data/June30_2020_80k_6.h5',\n",
    "                                  #'/share/lazy/will/data/June30_2020_80k_7.h5',\n",
    "                             batch_size=batch_size,\n",
    "## if we are using a larger dataset (240K events, with the datasets above, and 11 GB  of GPU memory),\n",
    "## the dataset will overflow the GPU memory; device=device will allow the data to move back\n",
    "## and forth between the CPU and GPU memory. While this allows use of a larger dataset, it slows\n",
    "## down performance by about 10%.  So comment out when not needed.\n",
    "#                          device=device,\n",
    "##                           slice = slice(None,18000)\n",
    "                           )"
   ]
  },
  {
   "cell_type": "code",
   "execution_count": 16,
   "metadata": {
    "scrolled": false
   },
   "outputs": [
    {
     "name": "stdout",
     "output_type": "stream",
     "text": [
      "Loading data...\n",
      "pocaMx.shape =  (20000,)\n",
      "nEvts =  20000\n",
      "len(pocaMx[0]) =  211\n",
      "len(pocaMx[1]) =  21\n",
      "len(pocaMx[2]) =  20\n",
      "len(pocaMx[3]) =  198\n",
      "len(pocaMx[4]) =  233\n",
      "majorAxis.shape =  (20000, 3)\n",
      "minorAxis_1.shape =  (20000, 3)\n",
      "minorAxis_2.shape =  (20000, 3)\n",
      "have entered six_ellipsoid_parameters\n",
      "  \n",
      " \n",
      "  nEvts =  20000\n",
      " iEvt, nTrks =  0 211\n",
      " iEvt, nTrks =  1 21\n",
      " iEvt, nTrks =  2 20\n",
      " iEvt, nTrks =  3 198\n",
      " iEvt, nTrks =  4 233\n",
      " iEvt, nTrks =  5 85\n",
      " iEvt, nTrks =  6 223\n",
      " iEvt, nTrks =  7 425\n",
      " iEvt, nTrks =  8 252\n",
      " iEvt, nTrks =  9 169\n",
      "A.shape =  (20000,)\n",
      "majorAxis[iTrk][0][0] =  -0.00023452607\n",
      "majorAxis[iTrk][1][0] =  -0.00047206535\n",
      "majorAxis[iTrk][2][0] =  0.096502915\n",
      "minorAxis_1[iTrk][0][0] =  -15.822749\n",
      "minorAxis_1[iTrk][1][0] =  7.8608756\n",
      "minorAxis_1[iTrk][2][0] =  -2.6228399e-08\n",
      "minorAxis_2[iTrk][0][0] =  7.860759\n",
      "minorAxis_2[iTrk][1][0] =  15.822513\n",
      "minorAxis_2[iTrk][2][0] =  0.096502915\n",
      "  \n",
      "majorAxis[iTrk][0][0] =  -0.37655562\n",
      "majorAxis[iTrk][1][0] =  0.2768704\n",
      "majorAxis[iTrk][2][0] =  2.8546858\n",
      "minorAxis_1[iTrk][0][0] =  -10.466048\n",
      "minorAxis_1[iTrk][1][0] =  -14.234274\n",
      "minorAxis_1[iTrk][2][0] =  2.2974699e-11\n",
      "minorAxis_2[iTrk][0][0] =  -14.04724\n",
      "minorAxis_2[iTrk][1][0] =  10.328527\n",
      "minorAxis_2[iTrk][2][0] =  -2.8546853\n",
      "  \n",
      "majorAxis[iTrk][0][0] =  -0.024279848\n",
      "majorAxis[iTrk][1][0] =  0.0019689242\n",
      "majorAxis[iTrk][2][0] =  0.65580803\n",
      "minorAxis_1[iTrk][0][0] =  -1.4280497\n",
      "minorAxis_1[iTrk][1][0] =  -17.610037\n",
      "minorAxis_1[iTrk][2][0] =  -6.123401e-10\n",
      "minorAxis_2[iTrk][0][0] =  -17.597902\n",
      "minorAxis_2[iTrk][1][0] =  1.4270656\n",
      "minorAxis_2[iTrk][2][0] =  -0.6558081\n",
      "  \n",
      "majorAxis[iTrk][0][0] =  -0.007825993\n",
      "majorAxis[iTrk][1][0] =  0.004052097\n",
      "majorAxis[iTrk][2][0] =  0.3945435\n",
      "minorAxis_1[iTrk][0][0] =  8.123606\n",
      "minorAxis_1[iTrk][1][0] =  15.689478\n",
      "minorAxis_1[iTrk][2][0] =  -2.4940747e-10\n",
      "minorAxis_2[iTrk][0][0] =  15.685566\n",
      "minorAxis_2[iTrk][1][0] =  -8.12158\n",
      "minorAxis_2[iTrk][2][0] =  0.3945435\n",
      "  \n",
      "majorAxis[iTrk][0][0] =  0.0046102717\n",
      "majorAxis[iTrk][1][0] =  -0.0016007021\n",
      "majorAxis[iTrk][2][0] =  0.29361814\n",
      "minorAxis_1[iTrk][0][0] =  -5.794979\n",
      "minorAxis_1[iTrk][1][0] =  -16.690445\n",
      "minorAxis_1[iTrk][2][0] =  2.4897104e-09\n",
      "minorAxis_2[iTrk][0][0] =  -16.688139\n",
      "minorAxis_2[iTrk][1][0] =  5.794179\n",
      "minorAxis_2[iTrk][2][0] =  0.2936181\n",
      "  \n",
      "majorAxis[iTrk][0][0] =  -0.00020041714\n",
      "majorAxis[iTrk][1][0] =  0.00010468164\n",
      "majorAxis[iTrk][2][0] =  0.06320469\n",
      "minorAxis_1[iTrk][0][0] =  8.179679\n",
      "minorAxis_1[iTrk][1][0] =  15.660318\n",
      "minorAxis_1[iTrk][2][0] =  7.40176e-08\n",
      "minorAxis_2[iTrk][0][0] =  15.660218\n",
      "minorAxis_2[iTrk][1][0] =  -8.179626\n",
      "minorAxis_2[iTrk][2][0] =  0.06320469\n",
      "  \n",
      "majorAxis[iTrk][0][0] =  -0.00020603223\n",
      "majorAxis[iTrk][1][0] =  -0.0005662605\n",
      "majorAxis[iTrk][2][0] =  0.10317981\n",
      "minorAxis_1[iTrk][0][0] =  -16.603\n",
      "minorAxis_1[iTrk][1][0] =  6.040953\n",
      "minorAxis_1[iTrk][2][0] =  4.5812504e-07\n",
      "minorAxis_2[iTrk][0][0] =  6.0408506\n",
      "minorAxis_2[iTrk][1][0] =  16.602718\n",
      "minorAxis_2[iTrk][2][0] =  0.10317982\n",
      "  \n",
      "majorAxis[iTrk][0][0] =  -0.00040561036\n",
      "majorAxis[iTrk][1][0] =  0.00014461782\n",
      "majorAxis[iTrk][2][0] =  0.0872241\n",
      "minorAxis_1[iTrk][0][0] =  -5.933496\n",
      "minorAxis_1[iTrk][1][0] =  -16.641706\n",
      "minorAxis_1[iTrk][2][0] =  1.0720762e-08\n",
      "minorAxis_2[iTrk][0][0] =  -16.641502\n",
      "minorAxis_2[iTrk][1][0] =  5.9334235\n",
      "minorAxis_2[iTrk][2][0] =  -0.0872241\n",
      "  \n",
      "majorAxis[iTrk][0][0] =  0.00038461428\n",
      "majorAxis[iTrk][1][0] =  -3.4232737e-05\n",
      "majorAxis[iTrk][2][0] =  0.08259597\n",
      "minorAxis_1[iTrk][0][0] =  -1.5663412\n",
      "minorAxis_1[iTrk][1][0] =  -17.598276\n",
      "minorAxis_1[iTrk][2][0] =  3.2106848e-07\n",
      "minorAxis_2[iTrk][0][0] =  -17.598082\n",
      "minorAxis_2[iTrk][1][0] =  1.5663238\n",
      "minorAxis_2[iTrk][2][0] =  0.08259596\n",
      "  \n",
      "majorAxis[iTrk][0][0] =  -0.022277953\n",
      "majorAxis[iTrk][1][0] =  -0.0046837274\n",
      "majorAxis[iTrk][2][0] =  0.63399464\n",
      "minorAxis_1[iTrk][0][0] =  -3.6350286\n",
      "minorAxis_1[iTrk][1][0] =  17.289862\n",
      "minorAxis_1[iTrk][2][0] =  9.566169e-10\n",
      "minorAxis_2[iTrk][0][0] =  17.278727\n",
      "minorAxis_2[iTrk][1][0] =  3.6326876\n",
      "minorAxis_2[iTrk][2][0] =  0.6339946\n",
      "  \n",
      "len(X) =  20000\n",
      "len(Xlist) =  1\n",
      "Loaded dataAA/20K_POCA_kernel_evts_200926.h5 in 76.63 s\n",
      "outer loop X.shape =  (20000, 9, 600)\n",
      "Constructing 10000 event dataset took 0.1593 s\n",
      "x_t.shape =  torch.Size([10000, 9, 600])\n",
      "x_t.shape[0] =  10000\n",
      "x_t.shape[1] =  9\n",
      "x_t.shape =  torch.Size([10000, 9, 600])\n"
     ]
    }
   ],
   "source": [
    "                            \n",
    "# Validation dataset. You can slice to reduce the size.\n",
    "## mds no separate validation set yet,\n",
    "\n",
    "## For iter12, change slice(18000,None) to slice(10000,None)\n",
    "## First, we'll see if this changes the validation cost significantly\n",
    "##  Second, we will see if this reduces the validation cost fluctuations\n",
    "val_loader = collect_t2kde_data('dataAA/20K_POCA_kernel_evts_200926.h5',\n",
    "                            batch_size=batch_size,\n",
    "##                            device=device,\n",
    "                            slice = slice(10000,None)\n",
    "                           )"
   ]
  },
  {
   "cell_type": "code",
   "execution_count": 17,
   "metadata": {
    "scrolled": false
   },
   "outputs": [
    {
     "data": {
      "application/javascript": [
       "/* Put everything inside the global mpl namespace */\n",
       "window.mpl = {};\n",
       "\n",
       "\n",
       "mpl.get_websocket_type = function() {\n",
       "    if (typeof(WebSocket) !== 'undefined') {\n",
       "        return WebSocket;\n",
       "    } else if (typeof(MozWebSocket) !== 'undefined') {\n",
       "        return MozWebSocket;\n",
       "    } else {\n",
       "        alert('Your browser does not have WebSocket support. ' +\n",
       "              'Please try Chrome, Safari or Firefox ≥ 6. ' +\n",
       "              'Firefox 4 and 5 are also supported but you ' +\n",
       "              'have to enable WebSockets in about:config.');\n",
       "    };\n",
       "}\n",
       "\n",
       "mpl.figure = function(figure_id, websocket, ondownload, parent_element) {\n",
       "    this.id = figure_id;\n",
       "\n",
       "    this.ws = websocket;\n",
       "\n",
       "    this.supports_binary = (this.ws.binaryType != undefined);\n",
       "\n",
       "    if (!this.supports_binary) {\n",
       "        var warnings = document.getElementById(\"mpl-warnings\");\n",
       "        if (warnings) {\n",
       "            warnings.style.display = 'block';\n",
       "            warnings.textContent = (\n",
       "                \"This browser does not support binary websocket messages. \" +\n",
       "                    \"Performance may be slow.\");\n",
       "        }\n",
       "    }\n",
       "\n",
       "    this.imageObj = new Image();\n",
       "\n",
       "    this.context = undefined;\n",
       "    this.message = undefined;\n",
       "    this.canvas = undefined;\n",
       "    this.rubberband_canvas = undefined;\n",
       "    this.rubberband_context = undefined;\n",
       "    this.format_dropdown = undefined;\n",
       "\n",
       "    this.image_mode = 'full';\n",
       "\n",
       "    this.root = $('<div/>');\n",
       "    this._root_extra_style(this.root)\n",
       "    this.root.attr('style', 'display: inline-block');\n",
       "\n",
       "    $(parent_element).append(this.root);\n",
       "\n",
       "    this._init_header(this);\n",
       "    this._init_canvas(this);\n",
       "    this._init_toolbar(this);\n",
       "\n",
       "    var fig = this;\n",
       "\n",
       "    this.waiting = false;\n",
       "\n",
       "    this.ws.onopen =  function () {\n",
       "            fig.send_message(\"supports_binary\", {value: fig.supports_binary});\n",
       "            fig.send_message(\"send_image_mode\", {});\n",
       "            if (mpl.ratio != 1) {\n",
       "                fig.send_message(\"set_dpi_ratio\", {'dpi_ratio': mpl.ratio});\n",
       "            }\n",
       "            fig.send_message(\"refresh\", {});\n",
       "        }\n",
       "\n",
       "    this.imageObj.onload = function() {\n",
       "            if (fig.image_mode == 'full') {\n",
       "                // Full images could contain transparency (where diff images\n",
       "                // almost always do), so we need to clear the canvas so that\n",
       "                // there is no ghosting.\n",
       "                fig.context.clearRect(0, 0, fig.canvas.width, fig.canvas.height);\n",
       "            }\n",
       "            fig.context.drawImage(fig.imageObj, 0, 0);\n",
       "        };\n",
       "\n",
       "    this.imageObj.onunload = function() {\n",
       "        fig.ws.close();\n",
       "    }\n",
       "\n",
       "    this.ws.onmessage = this._make_on_message_function(this);\n",
       "\n",
       "    this.ondownload = ondownload;\n",
       "}\n",
       "\n",
       "mpl.figure.prototype._init_header = function() {\n",
       "    var titlebar = $(\n",
       "        '<div class=\"ui-dialog-titlebar ui-widget-header ui-corner-all ' +\n",
       "        'ui-helper-clearfix\"/>');\n",
       "    var titletext = $(\n",
       "        '<div class=\"ui-dialog-title\" style=\"width: 100%; ' +\n",
       "        'text-align: center; padding: 3px;\"/>');\n",
       "    titlebar.append(titletext)\n",
       "    this.root.append(titlebar);\n",
       "    this.header = titletext[0];\n",
       "}\n",
       "\n",
       "\n",
       "\n",
       "mpl.figure.prototype._canvas_extra_style = function(canvas_div) {\n",
       "\n",
       "}\n",
       "\n",
       "\n",
       "mpl.figure.prototype._root_extra_style = function(canvas_div) {\n",
       "\n",
       "}\n",
       "\n",
       "mpl.figure.prototype._init_canvas = function() {\n",
       "    var fig = this;\n",
       "\n",
       "    var canvas_div = $('<div/>');\n",
       "\n",
       "    canvas_div.attr('style', 'position: relative; clear: both; outline: 0');\n",
       "\n",
       "    function canvas_keyboard_event(event) {\n",
       "        return fig.key_event(event, event['data']);\n",
       "    }\n",
       "\n",
       "    canvas_div.keydown('key_press', canvas_keyboard_event);\n",
       "    canvas_div.keyup('key_release', canvas_keyboard_event);\n",
       "    this.canvas_div = canvas_div\n",
       "    this._canvas_extra_style(canvas_div)\n",
       "    this.root.append(canvas_div);\n",
       "\n",
       "    var canvas = $('<canvas/>');\n",
       "    canvas.addClass('mpl-canvas');\n",
       "    canvas.attr('style', \"left: 0; top: 0; z-index: 0; outline: 0\")\n",
       "\n",
       "    this.canvas = canvas[0];\n",
       "    this.context = canvas[0].getContext(\"2d\");\n",
       "\n",
       "    var backingStore = this.context.backingStorePixelRatio ||\n",
       "\tthis.context.webkitBackingStorePixelRatio ||\n",
       "\tthis.context.mozBackingStorePixelRatio ||\n",
       "\tthis.context.msBackingStorePixelRatio ||\n",
       "\tthis.context.oBackingStorePixelRatio ||\n",
       "\tthis.context.backingStorePixelRatio || 1;\n",
       "\n",
       "    mpl.ratio = (window.devicePixelRatio || 1) / backingStore;\n",
       "\n",
       "    var rubberband = $('<canvas/>');\n",
       "    rubberband.attr('style', \"position: absolute; left: 0; top: 0; z-index: 1;\")\n",
       "\n",
       "    var pass_mouse_events = true;\n",
       "\n",
       "    canvas_div.resizable({\n",
       "        start: function(event, ui) {\n",
       "            pass_mouse_events = false;\n",
       "        },\n",
       "        resize: function(event, ui) {\n",
       "            fig.request_resize(ui.size.width, ui.size.height);\n",
       "        },\n",
       "        stop: function(event, ui) {\n",
       "            pass_mouse_events = true;\n",
       "            fig.request_resize(ui.size.width, ui.size.height);\n",
       "        },\n",
       "    });\n",
       "\n",
       "    function mouse_event_fn(event) {\n",
       "        if (pass_mouse_events)\n",
       "            return fig.mouse_event(event, event['data']);\n",
       "    }\n",
       "\n",
       "    rubberband.mousedown('button_press', mouse_event_fn);\n",
       "    rubberband.mouseup('button_release', mouse_event_fn);\n",
       "    // Throttle sequential mouse events to 1 every 20ms.\n",
       "    rubberband.mousemove('motion_notify', mouse_event_fn);\n",
       "\n",
       "    rubberband.mouseenter('figure_enter', mouse_event_fn);\n",
       "    rubberband.mouseleave('figure_leave', mouse_event_fn);\n",
       "\n",
       "    canvas_div.on(\"wheel\", function (event) {\n",
       "        event = event.originalEvent;\n",
       "        event['data'] = 'scroll'\n",
       "        if (event.deltaY < 0) {\n",
       "            event.step = 1;\n",
       "        } else {\n",
       "            event.step = -1;\n",
       "        }\n",
       "        mouse_event_fn(event);\n",
       "    });\n",
       "\n",
       "    canvas_div.append(canvas);\n",
       "    canvas_div.append(rubberband);\n",
       "\n",
       "    this.rubberband = rubberband;\n",
       "    this.rubberband_canvas = rubberband[0];\n",
       "    this.rubberband_context = rubberband[0].getContext(\"2d\");\n",
       "    this.rubberband_context.strokeStyle = \"#000000\";\n",
       "\n",
       "    this._resize_canvas = function(width, height) {\n",
       "        // Keep the size of the canvas, canvas container, and rubber band\n",
       "        // canvas in synch.\n",
       "        canvas_div.css('width', width)\n",
       "        canvas_div.css('height', height)\n",
       "\n",
       "        canvas.attr('width', width * mpl.ratio);\n",
       "        canvas.attr('height', height * mpl.ratio);\n",
       "        canvas.attr('style', 'width: ' + width + 'px; height: ' + height + 'px;');\n",
       "\n",
       "        rubberband.attr('width', width);\n",
       "        rubberband.attr('height', height);\n",
       "    }\n",
       "\n",
       "    // Set the figure to an initial 600x600px, this will subsequently be updated\n",
       "    // upon first draw.\n",
       "    this._resize_canvas(600, 600);\n",
       "\n",
       "    // Disable right mouse context menu.\n",
       "    $(this.rubberband_canvas).bind(\"contextmenu\",function(e){\n",
       "        return false;\n",
       "    });\n",
       "\n",
       "    function set_focus () {\n",
       "        canvas.focus();\n",
       "        canvas_div.focus();\n",
       "    }\n",
       "\n",
       "    window.setTimeout(set_focus, 100);\n",
       "}\n",
       "\n",
       "mpl.figure.prototype._init_toolbar = function() {\n",
       "    var fig = this;\n",
       "\n",
       "    var nav_element = $('<div/>');\n",
       "    nav_element.attr('style', 'width: 100%');\n",
       "    this.root.append(nav_element);\n",
       "\n",
       "    // Define a callback function for later on.\n",
       "    function toolbar_event(event) {\n",
       "        return fig.toolbar_button_onclick(event['data']);\n",
       "    }\n",
       "    function toolbar_mouse_event(event) {\n",
       "        return fig.toolbar_button_onmouseover(event['data']);\n",
       "    }\n",
       "\n",
       "    for(var toolbar_ind in mpl.toolbar_items) {\n",
       "        var name = mpl.toolbar_items[toolbar_ind][0];\n",
       "        var tooltip = mpl.toolbar_items[toolbar_ind][1];\n",
       "        var image = mpl.toolbar_items[toolbar_ind][2];\n",
       "        var method_name = mpl.toolbar_items[toolbar_ind][3];\n",
       "\n",
       "        if (!name) {\n",
       "            // put a spacer in here.\n",
       "            continue;\n",
       "        }\n",
       "        var button = $('<button/>');\n",
       "        button.addClass('ui-button ui-widget ui-state-default ui-corner-all ' +\n",
       "                        'ui-button-icon-only');\n",
       "        button.attr('role', 'button');\n",
       "        button.attr('aria-disabled', 'false');\n",
       "        button.click(method_name, toolbar_event);\n",
       "        button.mouseover(tooltip, toolbar_mouse_event);\n",
       "\n",
       "        var icon_img = $('<span/>');\n",
       "        icon_img.addClass('ui-button-icon-primary ui-icon');\n",
       "        icon_img.addClass(image);\n",
       "        icon_img.addClass('ui-corner-all');\n",
       "\n",
       "        var tooltip_span = $('<span/>');\n",
       "        tooltip_span.addClass('ui-button-text');\n",
       "        tooltip_span.html(tooltip);\n",
       "\n",
       "        button.append(icon_img);\n",
       "        button.append(tooltip_span);\n",
       "\n",
       "        nav_element.append(button);\n",
       "    }\n",
       "\n",
       "    var fmt_picker_span = $('<span/>');\n",
       "\n",
       "    var fmt_picker = $('<select/>');\n",
       "    fmt_picker.addClass('mpl-toolbar-option ui-widget ui-widget-content');\n",
       "    fmt_picker_span.append(fmt_picker);\n",
       "    nav_element.append(fmt_picker_span);\n",
       "    this.format_dropdown = fmt_picker[0];\n",
       "\n",
       "    for (var ind in mpl.extensions) {\n",
       "        var fmt = mpl.extensions[ind];\n",
       "        var option = $(\n",
       "            '<option/>', {selected: fmt === mpl.default_extension}).html(fmt);\n",
       "        fmt_picker.append(option);\n",
       "    }\n",
       "\n",
       "    // Add hover states to the ui-buttons\n",
       "    $( \".ui-button\" ).hover(\n",
       "        function() { $(this).addClass(\"ui-state-hover\");},\n",
       "        function() { $(this).removeClass(\"ui-state-hover\");}\n",
       "    );\n",
       "\n",
       "    var status_bar = $('<span class=\"mpl-message\"/>');\n",
       "    nav_element.append(status_bar);\n",
       "    this.message = status_bar[0];\n",
       "}\n",
       "\n",
       "mpl.figure.prototype.request_resize = function(x_pixels, y_pixels) {\n",
       "    // Request matplotlib to resize the figure. Matplotlib will then trigger a resize in the client,\n",
       "    // which will in turn request a refresh of the image.\n",
       "    this.send_message('resize', {'width': x_pixels, 'height': y_pixels});\n",
       "}\n",
       "\n",
       "mpl.figure.prototype.send_message = function(type, properties) {\n",
       "    properties['type'] = type;\n",
       "    properties['figure_id'] = this.id;\n",
       "    this.ws.send(JSON.stringify(properties));\n",
       "}\n",
       "\n",
       "mpl.figure.prototype.send_draw_message = function() {\n",
       "    if (!this.waiting) {\n",
       "        this.waiting = true;\n",
       "        this.ws.send(JSON.stringify({type: \"draw\", figure_id: this.id}));\n",
       "    }\n",
       "}\n",
       "\n",
       "\n",
       "mpl.figure.prototype.handle_save = function(fig, msg) {\n",
       "    var format_dropdown = fig.format_dropdown;\n",
       "    var format = format_dropdown.options[format_dropdown.selectedIndex].value;\n",
       "    fig.ondownload(fig, format);\n",
       "}\n",
       "\n",
       "\n",
       "mpl.figure.prototype.handle_resize = function(fig, msg) {\n",
       "    var size = msg['size'];\n",
       "    if (size[0] != fig.canvas.width || size[1] != fig.canvas.height) {\n",
       "        fig._resize_canvas(size[0], size[1]);\n",
       "        fig.send_message(\"refresh\", {});\n",
       "    };\n",
       "}\n",
       "\n",
       "mpl.figure.prototype.handle_rubberband = function(fig, msg) {\n",
       "    var x0 = msg['x0'] / mpl.ratio;\n",
       "    var y0 = (fig.canvas.height - msg['y0']) / mpl.ratio;\n",
       "    var x1 = msg['x1'] / mpl.ratio;\n",
       "    var y1 = (fig.canvas.height - msg['y1']) / mpl.ratio;\n",
       "    x0 = Math.floor(x0) + 0.5;\n",
       "    y0 = Math.floor(y0) + 0.5;\n",
       "    x1 = Math.floor(x1) + 0.5;\n",
       "    y1 = Math.floor(y1) + 0.5;\n",
       "    var min_x = Math.min(x0, x1);\n",
       "    var min_y = Math.min(y0, y1);\n",
       "    var width = Math.abs(x1 - x0);\n",
       "    var height = Math.abs(y1 - y0);\n",
       "\n",
       "    fig.rubberband_context.clearRect(\n",
       "        0, 0, fig.canvas.width / mpl.ratio, fig.canvas.height / mpl.ratio);\n",
       "\n",
       "    fig.rubberband_context.strokeRect(min_x, min_y, width, height);\n",
       "}\n",
       "\n",
       "mpl.figure.prototype.handle_figure_label = function(fig, msg) {\n",
       "    // Updates the figure title.\n",
       "    fig.header.textContent = msg['label'];\n",
       "}\n",
       "\n",
       "mpl.figure.prototype.handle_cursor = function(fig, msg) {\n",
       "    var cursor = msg['cursor'];\n",
       "    switch(cursor)\n",
       "    {\n",
       "    case 0:\n",
       "        cursor = 'pointer';\n",
       "        break;\n",
       "    case 1:\n",
       "        cursor = 'default';\n",
       "        break;\n",
       "    case 2:\n",
       "        cursor = 'crosshair';\n",
       "        break;\n",
       "    case 3:\n",
       "        cursor = 'move';\n",
       "        break;\n",
       "    }\n",
       "    fig.rubberband_canvas.style.cursor = cursor;\n",
       "}\n",
       "\n",
       "mpl.figure.prototype.handle_message = function(fig, msg) {\n",
       "    fig.message.textContent = msg['message'];\n",
       "}\n",
       "\n",
       "mpl.figure.prototype.handle_draw = function(fig, msg) {\n",
       "    // Request the server to send over a new figure.\n",
       "    fig.send_draw_message();\n",
       "}\n",
       "\n",
       "mpl.figure.prototype.handle_image_mode = function(fig, msg) {\n",
       "    fig.image_mode = msg['mode'];\n",
       "}\n",
       "\n",
       "mpl.figure.prototype.updated_canvas_event = function() {\n",
       "    // Called whenever the canvas gets updated.\n",
       "    this.send_message(\"ack\", {});\n",
       "}\n",
       "\n",
       "// A function to construct a web socket function for onmessage handling.\n",
       "// Called in the figure constructor.\n",
       "mpl.figure.prototype._make_on_message_function = function(fig) {\n",
       "    return function socket_on_message(evt) {\n",
       "        if (evt.data instanceof Blob) {\n",
       "            /* FIXME: We get \"Resource interpreted as Image but\n",
       "             * transferred with MIME type text/plain:\" errors on\n",
       "             * Chrome.  But how to set the MIME type?  It doesn't seem\n",
       "             * to be part of the websocket stream */\n",
       "            evt.data.type = \"image/png\";\n",
       "\n",
       "            /* Free the memory for the previous frames */\n",
       "            if (fig.imageObj.src) {\n",
       "                (window.URL || window.webkitURL).revokeObjectURL(\n",
       "                    fig.imageObj.src);\n",
       "            }\n",
       "\n",
       "            fig.imageObj.src = (window.URL || window.webkitURL).createObjectURL(\n",
       "                evt.data);\n",
       "            fig.updated_canvas_event();\n",
       "            fig.waiting = false;\n",
       "            return;\n",
       "        }\n",
       "        else if (typeof evt.data === 'string' && evt.data.slice(0, 21) == \"data:image/png;base64\") {\n",
       "            fig.imageObj.src = evt.data;\n",
       "            fig.updated_canvas_event();\n",
       "            fig.waiting = false;\n",
       "            return;\n",
       "        }\n",
       "\n",
       "        var msg = JSON.parse(evt.data);\n",
       "        var msg_type = msg['type'];\n",
       "\n",
       "        // Call the  \"handle_{type}\" callback, which takes\n",
       "        // the figure and JSON message as its only arguments.\n",
       "        try {\n",
       "            var callback = fig[\"handle_\" + msg_type];\n",
       "        } catch (e) {\n",
       "            console.log(\"No handler for the '\" + msg_type + \"' message type: \", msg);\n",
       "            return;\n",
       "        }\n",
       "\n",
       "        if (callback) {\n",
       "            try {\n",
       "                // console.log(\"Handling '\" + msg_type + \"' message: \", msg);\n",
       "                callback(fig, msg);\n",
       "            } catch (e) {\n",
       "                console.log(\"Exception inside the 'handler_\" + msg_type + \"' callback:\", e, e.stack, msg);\n",
       "            }\n",
       "        }\n",
       "    };\n",
       "}\n",
       "\n",
       "// from http://stackoverflow.com/questions/1114465/getting-mouse-location-in-canvas\n",
       "mpl.findpos = function(e) {\n",
       "    //this section is from http://www.quirksmode.org/js/events_properties.html\n",
       "    var targ;\n",
       "    if (!e)\n",
       "        e = window.event;\n",
       "    if (e.target)\n",
       "        targ = e.target;\n",
       "    else if (e.srcElement)\n",
       "        targ = e.srcElement;\n",
       "    if (targ.nodeType == 3) // defeat Safari bug\n",
       "        targ = targ.parentNode;\n",
       "\n",
       "    // jQuery normalizes the pageX and pageY\n",
       "    // pageX,Y are the mouse positions relative to the document\n",
       "    // offset() returns the position of the element relative to the document\n",
       "    var x = e.pageX - $(targ).offset().left;\n",
       "    var y = e.pageY - $(targ).offset().top;\n",
       "\n",
       "    return {\"x\": x, \"y\": y};\n",
       "};\n",
       "\n",
       "/*\n",
       " * return a copy of an object with only non-object keys\n",
       " * we need this to avoid circular references\n",
       " * http://stackoverflow.com/a/24161582/3208463\n",
       " */\n",
       "function simpleKeys (original) {\n",
       "  return Object.keys(original).reduce(function (obj, key) {\n",
       "    if (typeof original[key] !== 'object')\n",
       "        obj[key] = original[key]\n",
       "    return obj;\n",
       "  }, {});\n",
       "}\n",
       "\n",
       "mpl.figure.prototype.mouse_event = function(event, name) {\n",
       "    var canvas_pos = mpl.findpos(event)\n",
       "\n",
       "    if (name === 'button_press')\n",
       "    {\n",
       "        this.canvas.focus();\n",
       "        this.canvas_div.focus();\n",
       "    }\n",
       "\n",
       "    var x = canvas_pos.x * mpl.ratio;\n",
       "    var y = canvas_pos.y * mpl.ratio;\n",
       "\n",
       "    this.send_message(name, {x: x, y: y, button: event.button,\n",
       "                             step: event.step,\n",
       "                             guiEvent: simpleKeys(event)});\n",
       "\n",
       "    /* This prevents the web browser from automatically changing to\n",
       "     * the text insertion cursor when the button is pressed.  We want\n",
       "     * to control all of the cursor setting manually through the\n",
       "     * 'cursor' event from matplotlib */\n",
       "    event.preventDefault();\n",
       "    return false;\n",
       "}\n",
       "\n",
       "mpl.figure.prototype._key_event_extra = function(event, name) {\n",
       "    // Handle any extra behaviour associated with a key event\n",
       "}\n",
       "\n",
       "mpl.figure.prototype.key_event = function(event, name) {\n",
       "\n",
       "    // Prevent repeat events\n",
       "    if (name == 'key_press')\n",
       "    {\n",
       "        if (event.which === this._key)\n",
       "            return;\n",
       "        else\n",
       "            this._key = event.which;\n",
       "    }\n",
       "    if (name == 'key_release')\n",
       "        this._key = null;\n",
       "\n",
       "    var value = '';\n",
       "    if (event.ctrlKey && event.which != 17)\n",
       "        value += \"ctrl+\";\n",
       "    if (event.altKey && event.which != 18)\n",
       "        value += \"alt+\";\n",
       "    if (event.shiftKey && event.which != 16)\n",
       "        value += \"shift+\";\n",
       "\n",
       "    value += 'k';\n",
       "    value += event.which.toString();\n",
       "\n",
       "    this._key_event_extra(event, name);\n",
       "\n",
       "    this.send_message(name, {key: value,\n",
       "                             guiEvent: simpleKeys(event)});\n",
       "    return false;\n",
       "}\n",
       "\n",
       "mpl.figure.prototype.toolbar_button_onclick = function(name) {\n",
       "    if (name == 'download') {\n",
       "        this.handle_save(this, null);\n",
       "    } else {\n",
       "        this.send_message(\"toolbar_button\", {name: name});\n",
       "    }\n",
       "};\n",
       "\n",
       "mpl.figure.prototype.toolbar_button_onmouseover = function(tooltip) {\n",
       "    this.message.textContent = tooltip;\n",
       "};\n",
       "mpl.toolbar_items = [[\"Home\", \"Reset original view\", \"fa fa-home icon-home\", \"home\"], [\"Back\", \"Back to previous view\", \"fa fa-arrow-left icon-arrow-left\", \"back\"], [\"Forward\", \"Forward to next view\", \"fa fa-arrow-right icon-arrow-right\", \"forward\"], [\"\", \"\", \"\", \"\"], [\"Pan\", \"Pan axes with left mouse, zoom with right\", \"fa fa-arrows icon-move\", \"pan\"], [\"Zoom\", \"Zoom to rectangle\", \"fa fa-square-o icon-check-empty\", \"zoom\"], [\"\", \"\", \"\", \"\"], [\"Download\", \"Download plot\", \"fa fa-floppy-o icon-save\", \"download\"]];\n",
       "\n",
       "mpl.extensions = [\"eps\", \"jpeg\", \"pdf\", \"png\", \"ps\", \"raw\", \"svg\", \"tif\"];\n",
       "\n",
       "mpl.default_extension = \"png\";var comm_websocket_adapter = function(comm) {\n",
       "    // Create a \"websocket\"-like object which calls the given IPython comm\n",
       "    // object with the appropriate methods. Currently this is a non binary\n",
       "    // socket, so there is still some room for performance tuning.\n",
       "    var ws = {};\n",
       "\n",
       "    ws.close = function() {\n",
       "        comm.close()\n",
       "    };\n",
       "    ws.send = function(m) {\n",
       "        //console.log('sending', m);\n",
       "        comm.send(m);\n",
       "    };\n",
       "    // Register the callback with on_msg.\n",
       "    comm.on_msg(function(msg) {\n",
       "        //console.log('receiving', msg['content']['data'], msg);\n",
       "        // Pass the mpl event to the overridden (by mpl) onmessage function.\n",
       "        ws.onmessage(msg['content']['data'])\n",
       "    });\n",
       "    return ws;\n",
       "}\n",
       "\n",
       "mpl.mpl_figure_comm = function(comm, msg) {\n",
       "    // This is the function which gets called when the mpl process\n",
       "    // starts-up an IPython Comm through the \"matplotlib\" channel.\n",
       "\n",
       "    var id = msg.content.data.id;\n",
       "    // Get hold of the div created by the display call when the Comm\n",
       "    // socket was opened in Python.\n",
       "    var element = $(\"#\" + id);\n",
       "    var ws_proxy = comm_websocket_adapter(comm)\n",
       "\n",
       "    function ondownload(figure, format) {\n",
       "        window.open(figure.imageObj.src);\n",
       "    }\n",
       "\n",
       "    var fig = new mpl.figure(id, ws_proxy,\n",
       "                           ondownload,\n",
       "                           element.get(0));\n",
       "\n",
       "    // Call onopen now - mpl needs it, as it is assuming we've passed it a real\n",
       "    // web socket which is closed, not our websocket->open comm proxy.\n",
       "    ws_proxy.onopen();\n",
       "\n",
       "    fig.parent_element = element.get(0);\n",
       "    fig.cell_info = mpl.find_output_cell(\"<div id='\" + id + \"'></div>\");\n",
       "    if (!fig.cell_info) {\n",
       "        console.error(\"Failed to find cell for figure\", id, fig);\n",
       "        return;\n",
       "    }\n",
       "\n",
       "    var output_index = fig.cell_info[2]\n",
       "    var cell = fig.cell_info[0];\n",
       "\n",
       "};\n",
       "\n",
       "mpl.figure.prototype.handle_close = function(fig, msg) {\n",
       "    var width = fig.canvas.width/mpl.ratio\n",
       "    fig.root.unbind('remove')\n",
       "\n",
       "    // Update the output cell to use the data from the current canvas.\n",
       "    fig.push_to_output();\n",
       "    var dataURL = fig.canvas.toDataURL();\n",
       "    // Re-enable the keyboard manager in IPython - without this line, in FF,\n",
       "    // the notebook keyboard shortcuts fail.\n",
       "    IPython.keyboard_manager.enable()\n",
       "    $(fig.parent_element).html('<img src=\"' + dataURL + '\" width=\"' + width + '\">');\n",
       "    fig.close_ws(fig, msg);\n",
       "}\n",
       "\n",
       "mpl.figure.prototype.close_ws = function(fig, msg){\n",
       "    fig.send_message('closing', msg);\n",
       "    // fig.ws.close()\n",
       "}\n",
       "\n",
       "mpl.figure.prototype.push_to_output = function(remove_interactive) {\n",
       "    // Turn the data on the canvas into data in the output cell.\n",
       "    var width = this.canvas.width/mpl.ratio\n",
       "    var dataURL = this.canvas.toDataURL();\n",
       "    this.cell_info[1]['text/html'] = '<img src=\"' + dataURL + '\" width=\"' + width + '\">';\n",
       "}\n",
       "\n",
       "mpl.figure.prototype.updated_canvas_event = function() {\n",
       "    // Tell IPython that the notebook contents must change.\n",
       "    IPython.notebook.set_dirty(true);\n",
       "    this.send_message(\"ack\", {});\n",
       "    var fig = this;\n",
       "    // Wait a second, then push the new image to the DOM so\n",
       "    // that it is saved nicely (might be nice to debounce this).\n",
       "    setTimeout(function () { fig.push_to_output() }, 1000);\n",
       "}\n",
       "\n",
       "mpl.figure.prototype._init_toolbar = function() {\n",
       "    var fig = this;\n",
       "\n",
       "    var nav_element = $('<div/>');\n",
       "    nav_element.attr('style', 'width: 100%');\n",
       "    this.root.append(nav_element);\n",
       "\n",
       "    // Define a callback function for later on.\n",
       "    function toolbar_event(event) {\n",
       "        return fig.toolbar_button_onclick(event['data']);\n",
       "    }\n",
       "    function toolbar_mouse_event(event) {\n",
       "        return fig.toolbar_button_onmouseover(event['data']);\n",
       "    }\n",
       "\n",
       "    for(var toolbar_ind in mpl.toolbar_items){\n",
       "        var name = mpl.toolbar_items[toolbar_ind][0];\n",
       "        var tooltip = mpl.toolbar_items[toolbar_ind][1];\n",
       "        var image = mpl.toolbar_items[toolbar_ind][2];\n",
       "        var method_name = mpl.toolbar_items[toolbar_ind][3];\n",
       "\n",
       "        if (!name) { continue; };\n",
       "\n",
       "        var button = $('<button class=\"btn btn-default\" href=\"#\" title=\"' + name + '\"><i class=\"fa ' + image + ' fa-lg\"></i></button>');\n",
       "        button.click(method_name, toolbar_event);\n",
       "        button.mouseover(tooltip, toolbar_mouse_event);\n",
       "        nav_element.append(button);\n",
       "    }\n",
       "\n",
       "    // Add the status bar.\n",
       "    var status_bar = $('<span class=\"mpl-message\" style=\"text-align:right; float: right;\"/>');\n",
       "    nav_element.append(status_bar);\n",
       "    this.message = status_bar[0];\n",
       "\n",
       "    // Add the close button to the window.\n",
       "    var buttongrp = $('<div class=\"btn-group inline pull-right\"></div>');\n",
       "    var button = $('<button class=\"btn btn-mini btn-primary\" href=\"#\" title=\"Stop Interaction\"><i class=\"fa fa-power-off icon-remove icon-large\"></i></button>');\n",
       "    button.click(function (evt) { fig.handle_close(fig, {}); } );\n",
       "    button.mouseover('Stop Interaction', toolbar_mouse_event);\n",
       "    buttongrp.append(button);\n",
       "    var titlebar = this.root.find($('.ui-dialog-titlebar'));\n",
       "    titlebar.prepend(buttongrp);\n",
       "}\n",
       "\n",
       "mpl.figure.prototype._root_extra_style = function(el){\n",
       "    var fig = this\n",
       "    el.on(\"remove\", function(){\n",
       "\tfig.close_ws(fig, {});\n",
       "    });\n",
       "}\n",
       "\n",
       "mpl.figure.prototype._canvas_extra_style = function(el){\n",
       "    // this is important to make the div 'focusable\n",
       "    el.attr('tabindex', 0)\n",
       "    // reach out to IPython and tell the keyboard manager to turn it's self\n",
       "    // off when our div gets focus\n",
       "\n",
       "    // location in version 3\n",
       "    if (IPython.notebook.keyboard_manager) {\n",
       "        IPython.notebook.keyboard_manager.register_events(el);\n",
       "    }\n",
       "    else {\n",
       "        // location in version 2\n",
       "        IPython.keyboard_manager.register_events(el);\n",
       "    }\n",
       "\n",
       "}\n",
       "\n",
       "mpl.figure.prototype._key_event_extra = function(event, name) {\n",
       "    var manager = IPython.notebook.keyboard_manager;\n",
       "    if (!manager)\n",
       "        manager = IPython.keyboard_manager;\n",
       "\n",
       "    // Check for shift+enter\n",
       "    if (event.shiftKey && event.which == 13) {\n",
       "        this.canvas_div.blur();\n",
       "        // select the cell after this one\n",
       "        var index = IPython.notebook.find_cell_index(this.cell_info[0]);\n",
       "        IPython.notebook.select(index + 1);\n",
       "    }\n",
       "}\n",
       "\n",
       "mpl.figure.prototype.handle_save = function(fig, msg) {\n",
       "    fig.ondownload(fig, null);\n",
       "}\n",
       "\n",
       "\n",
       "mpl.find_output_cell = function(html_output) {\n",
       "    // Return the cell and output element which can be found *uniquely* in the notebook.\n",
       "    // Note - this is a bit hacky, but it is done because the \"notebook_saving.Notebook\"\n",
       "    // IPython event is triggered only after the cells have been serialised, which for\n",
       "    // our purposes (turning an active figure into a static one), is too late.\n",
       "    var cells = IPython.notebook.get_cells();\n",
       "    var ncells = cells.length;\n",
       "    for (var i=0; i<ncells; i++) {\n",
       "        var cell = cells[i];\n",
       "        if (cell.cell_type === 'code'){\n",
       "            for (var j=0; j<cell.output_area.outputs.length; j++) {\n",
       "                var data = cell.output_area.outputs[j];\n",
       "                if (data.data) {\n",
       "                    // IPython >= 3 moved mimebundle to data attribute of output\n",
       "                    data = data.data;\n",
       "                }\n",
       "                if (data['text/html'] == html_output) {\n",
       "                    return [cell, data, j];\n",
       "                }\n",
       "            }\n",
       "        }\n",
       "    }\n",
       "}\n",
       "\n",
       "// Register the function which deals with the matplotlib target/channel.\n",
       "// The kernel may be null if the page has been refreshed.\n",
       "if (IPython.notebook.kernel != null) {\n",
       "    IPython.notebook.kernel.comm_manager.register_target('matplotlib', mpl.mpl_figure_comm);\n",
       "}\n"
      ],
      "text/plain": [
       "<IPython.core.display.Javascript object>"
      ]
     },
     "metadata": {},
     "output_type": "display_data"
    },
    {
     "data": {
      "text/html": [
       "<img src=\"data:image/png;base64,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\" width=\"1000\">"
      ],
      "text/plain": [
       "<IPython.core.display.HTML object>"
      ]
     },
     "metadata": {},
     "output_type": "display_data"
    }
   ],
   "source": [
    "ax, tax, lax, lines = dual_train_plots()\n",
    "fig = ax.figure\n",
    "plt.tight_layout()"
   ]
  },
  {
   "cell_type": "code",
   "execution_count": 18,
   "metadata": {
    "scrolled": false
   },
   "outputs": [
    {
     "name": "stdout",
     "output_type": "stream",
     "text": [
      "Number of batches: train = 5000, val = 157\n"
     ]
    },
    {
     "data": {
      "application/vnd.jupyter.widget-view+json": {
       "model_id": "9ee8056bd6264de5a87874075f088c96",
       "version_major": 2,
       "version_minor": 0
      },
      "text/plain": [
       "HBox(children=(FloatProgress(value=0.0, description='Epochs', layout=Layout(flex='2'), max=80.0, style=Progres…"
      ]
     },
     "metadata": {},
     "output_type": "display_data"
    },
    {
     "name": "stdout",
     "output_type": "stream",
     "text": [
      "Number of batches: train = 5000, val = 157\n"
     ]
    },
    {
     "data": {
      "application/vnd.jupyter.widget-view+json": {
       "model_id": "",
       "version_major": 2,
       "version_minor": 0
      },
      "text/plain": [
       "HBox(children=(FloatProgress(value=0.0, description='Training', layout=Layout(flex='2'), max=5000.0, style=Pro…"
      ]
     },
     "metadata": {},
     "output_type": "display_data"
    },
    {
     "name": "stdout",
     "output_type": "stream",
     "text": [
      "Epoch 0: train=0.562551, val=0.368648, took 692.91 s\n"
     ]
    },
    {
     "data": {
      "application/vnd.jupyter.widget-view+json": {
       "model_id": "",
       "version_major": 2,
       "version_minor": 0
      },
      "text/plain": [
       "HBox(children=(FloatProgress(value=0.0, description='Training', layout=Layout(flex='2'), max=5000.0, style=Pro…"
      ]
     },
     "metadata": {},
     "output_type": "display_data"
    },
    {
     "name": "stdout",
     "output_type": "stream",
     "text": [
      "Epoch 1: train=0.559955, val=0.374579, took 691.94 s\n"
     ]
    },
    {
     "data": {
      "application/vnd.jupyter.widget-view+json": {
       "model_id": "",
       "version_major": 2,
       "version_minor": 0
      },
      "text/plain": [
       "HBox(children=(FloatProgress(value=0.0, description='Training', layout=Layout(flex='2'), max=5000.0, style=Pro…"
      ]
     },
     "metadata": {},
     "output_type": "display_data"
    },
    {
     "name": "stdout",
     "output_type": "stream",
     "text": [
      "Epoch 2: train=0.562528, val=0.362641, took 678.47 s\n"
     ]
    },
    {
     "data": {
      "application/vnd.jupyter.widget-view+json": {
       "model_id": "",
       "version_major": 2,
       "version_minor": 0
      },
      "text/plain": [
       "HBox(children=(FloatProgress(value=0.0, description='Training', layout=Layout(flex='2'), max=5000.0, style=Pro…"
      ]
     },
     "metadata": {},
     "output_type": "display_data"
    },
    {
     "name": "stdout",
     "output_type": "stream",
     "text": [
      "Epoch 3: train=0.558692, val=0.39228, took 676.69 s\n"
     ]
    },
    {
     "data": {
      "application/vnd.jupyter.widget-view+json": {
       "model_id": "",
       "version_major": 2,
       "version_minor": 0
      },
      "text/plain": [
       "HBox(children=(FloatProgress(value=0.0, description='Training', layout=Layout(flex='2'), max=5000.0, style=Pro…"
      ]
     },
     "metadata": {},
     "output_type": "display_data"
    },
    {
     "name": "stdout",
     "output_type": "stream",
     "text": [
      "Epoch 4: train=0.558304, val=0.369894, took 684.7 s\n"
     ]
    },
    {
     "data": {
      "application/vnd.jupyter.widget-view+json": {
       "model_id": "",
       "version_major": 2,
       "version_minor": 0
      },
      "text/plain": [
       "HBox(children=(FloatProgress(value=0.0, description='Training', layout=Layout(flex='2'), max=5000.0, style=Pro…"
      ]
     },
     "metadata": {},
     "output_type": "display_data"
    },
    {
     "name": "stdout",
     "output_type": "stream",
     "text": [
      "Epoch 5: train=0.561819, val=0.378167, took 680.05 s\n"
     ]
    },
    {
     "data": {
      "application/vnd.jupyter.widget-view+json": {
       "model_id": "",
       "version_major": 2,
       "version_minor": 0
      },
      "text/plain": [
       "HBox(children=(FloatProgress(value=0.0, description='Training', layout=Layout(flex='2'), max=5000.0, style=Pro…"
      ]
     },
     "metadata": {},
     "output_type": "display_data"
    },
    {
     "name": "stdout",
     "output_type": "stream",
     "text": [
      "Epoch 6: train=0.559567, val=0.37769, took 680.58 s\n"
     ]
    },
    {
     "data": {
      "application/vnd.jupyter.widget-view+json": {
       "model_id": "",
       "version_major": 2,
       "version_minor": 0
      },
      "text/plain": [
       "HBox(children=(FloatProgress(value=0.0, description='Training', layout=Layout(flex='2'), max=5000.0, style=Pro…"
      ]
     },
     "metadata": {},
     "output_type": "display_data"
    },
    {
     "name": "stdout",
     "output_type": "stream",
     "text": [
      "Epoch 7: train=0.559669, val=0.365001, took 687.44 s\n"
     ]
    },
    {
     "data": {
      "application/vnd.jupyter.widget-view+json": {
       "model_id": "",
       "version_major": 2,
       "version_minor": 0
      },
      "text/plain": [
       "HBox(children=(FloatProgress(value=0.0, description='Training', layout=Layout(flex='2'), max=5000.0, style=Pro…"
      ]
     },
     "metadata": {},
     "output_type": "display_data"
    },
    {
     "name": "stdout",
     "output_type": "stream",
     "text": [
      "Epoch 8: train=0.562017, val=0.387061, took 678.42 s\n"
     ]
    },
    {
     "data": {
      "application/vnd.jupyter.widget-view+json": {
       "model_id": "",
       "version_major": 2,
       "version_minor": 0
      },
      "text/plain": [
       "HBox(children=(FloatProgress(value=0.0, description='Training', layout=Layout(flex='2'), max=5000.0, style=Pro…"
      ]
     },
     "metadata": {},
     "output_type": "display_data"
    },
    {
     "name": "stdout",
     "output_type": "stream",
     "text": [
      "Epoch 9: train=0.559541, val=0.381185, took 682.26 s\n"
     ]
    },
    {
     "data": {
      "application/vnd.jupyter.widget-view+json": {
       "model_id": "",
       "version_major": 2,
       "version_minor": 0
      },
      "text/plain": [
       "HBox(children=(FloatProgress(value=0.0, description='Training', layout=Layout(flex='2'), max=5000.0, style=Pro…"
      ]
     },
     "metadata": {},
     "output_type": "display_data"
    },
    {
     "name": "stdout",
     "output_type": "stream",
     "text": [
      "Epoch 10: train=0.56142, val=0.382454, took 675.52 s\n"
     ]
    },
    {
     "data": {
      "application/vnd.jupyter.widget-view+json": {
       "model_id": "",
       "version_major": 2,
       "version_minor": 0
      },
      "text/plain": [
       "HBox(children=(FloatProgress(value=0.0, description='Training', layout=Layout(flex='2'), max=5000.0, style=Pro…"
      ]
     },
     "metadata": {},
     "output_type": "display_data"
    },
    {
     "name": "stdout",
     "output_type": "stream",
     "text": [
      "Epoch 11: train=0.558543, val=0.368554, took 684.7 s\n"
     ]
    },
    {
     "data": {
      "application/vnd.jupyter.widget-view+json": {
       "model_id": "",
       "version_major": 2,
       "version_minor": 0
      },
      "text/plain": [
       "HBox(children=(FloatProgress(value=0.0, description='Training', layout=Layout(flex='2'), max=5000.0, style=Pro…"
      ]
     },
     "metadata": {},
     "output_type": "display_data"
    },
    {
     "name": "stdout",
     "output_type": "stream",
     "text": [
      "Epoch 12: train=0.56023, val=0.364035, took 678.56 s\n"
     ]
    },
    {
     "data": {
      "application/vnd.jupyter.widget-view+json": {
       "model_id": "",
       "version_major": 2,
       "version_minor": 0
      },
      "text/plain": [
       "HBox(children=(FloatProgress(value=0.0, description='Training', layout=Layout(flex='2'), max=5000.0, style=Pro…"
      ]
     },
     "metadata": {},
     "output_type": "display_data"
    },
    {
     "name": "stdout",
     "output_type": "stream",
     "text": [
      "Epoch 13: train=0.559772, val=0.377337, took 682.63 s\n"
     ]
    },
    {
     "data": {
      "application/vnd.jupyter.widget-view+json": {
       "model_id": "",
       "version_major": 2,
       "version_minor": 0
      },
      "text/plain": [
       "HBox(children=(FloatProgress(value=0.0, description='Training', layout=Layout(flex='2'), max=5000.0, style=Pro…"
      ]
     },
     "metadata": {},
     "output_type": "display_data"
    },
    {
     "name": "stdout",
     "output_type": "stream",
     "text": [
      "Epoch 14: train=0.559631, val=0.374722, took 685.15 s\n"
     ]
    },
    {
     "data": {
      "application/vnd.jupyter.widget-view+json": {
       "model_id": "",
       "version_major": 2,
       "version_minor": 0
      },
      "text/plain": [
       "HBox(children=(FloatProgress(value=0.0, description='Training', layout=Layout(flex='2'), max=5000.0, style=Pro…"
      ]
     },
     "metadata": {},
     "output_type": "display_data"
    },
    {
     "name": "stdout",
     "output_type": "stream",
     "text": [
      "Epoch 15: train=0.558761, val=0.366902, took 685.61 s\n"
     ]
    },
    {
     "data": {
      "application/vnd.jupyter.widget-view+json": {
       "model_id": "",
       "version_major": 2,
       "version_minor": 0
      },
      "text/plain": [
       "HBox(children=(FloatProgress(value=0.0, description='Training', layout=Layout(flex='2'), max=5000.0, style=Pro…"
      ]
     },
     "metadata": {},
     "output_type": "display_data"
    },
    {
     "name": "stdout",
     "output_type": "stream",
     "text": [
      "Epoch 16: train=0.558722, val=0.363223, took 710.9 s\n"
     ]
    },
    {
     "data": {
      "application/vnd.jupyter.widget-view+json": {
       "model_id": "",
       "version_major": 2,
       "version_minor": 0
      },
      "text/plain": [
       "HBox(children=(FloatProgress(value=0.0, description='Training', layout=Layout(flex='2'), max=5000.0, style=Pro…"
      ]
     },
     "metadata": {},
     "output_type": "display_data"
    },
    {
     "name": "stdout",
     "output_type": "stream",
     "text": [
      "Epoch 17: train=0.556704, val=0.391328, took 680.69 s\n"
     ]
    },
    {
     "data": {
      "application/vnd.jupyter.widget-view+json": {
       "model_id": "",
       "version_major": 2,
       "version_minor": 0
      },
      "text/plain": [
       "HBox(children=(FloatProgress(value=0.0, description='Training', layout=Layout(flex='2'), max=5000.0, style=Pro…"
      ]
     },
     "metadata": {},
     "output_type": "display_data"
    },
    {
     "name": "stdout",
     "output_type": "stream",
     "text": [
      "Epoch 18: train=0.55968, val=0.377092, took 677.75 s\n"
     ]
    },
    {
     "data": {
      "application/vnd.jupyter.widget-view+json": {
       "model_id": "",
       "version_major": 2,
       "version_minor": 0
      },
      "text/plain": [
       "HBox(children=(FloatProgress(value=0.0, description='Training', layout=Layout(flex='2'), max=5000.0, style=Pro…"
      ]
     },
     "metadata": {},
     "output_type": "display_data"
    },
    {
     "name": "stdout",
     "output_type": "stream",
     "text": [
      "Epoch 19: train=0.558697, val=0.368551, took 697.22 s\n"
     ]
    },
    {
     "data": {
      "application/vnd.jupyter.widget-view+json": {
       "model_id": "",
       "version_major": 2,
       "version_minor": 0
      },
      "text/plain": [
       "HBox(children=(FloatProgress(value=0.0, description='Training', layout=Layout(flex='2'), max=5000.0, style=Pro…"
      ]
     },
     "metadata": {},
     "output_type": "display_data"
    },
    {
     "name": "stdout",
     "output_type": "stream",
     "text": [
      "Epoch 20: train=0.558707, val=0.365581, took 699.32 s\n"
     ]
    },
    {
     "data": {
      "application/vnd.jupyter.widget-view+json": {
       "model_id": "",
       "version_major": 2,
       "version_minor": 0
      },
      "text/plain": [
       "HBox(children=(FloatProgress(value=0.0, description='Training', layout=Layout(flex='2'), max=5000.0, style=Pro…"
      ]
     },
     "metadata": {},
     "output_type": "display_data"
    },
    {
     "name": "stdout",
     "output_type": "stream",
     "text": [
      "Epoch 21: train=0.556799, val=0.367348, took 691.17 s\n"
     ]
    },
    {
     "data": {
      "application/vnd.jupyter.widget-view+json": {
       "model_id": "",
       "version_major": 2,
       "version_minor": 0
      },
      "text/plain": [
       "HBox(children=(FloatProgress(value=0.0, description='Training', layout=Layout(flex='2'), max=5000.0, style=Pro…"
      ]
     },
     "metadata": {},
     "output_type": "display_data"
    },
    {
     "name": "stdout",
     "output_type": "stream",
     "text": [
      "Epoch 22: train=0.558741, val=0.367637, took 679.37 s\n"
     ]
    },
    {
     "data": {
      "application/vnd.jupyter.widget-view+json": {
       "model_id": "",
       "version_major": 2,
       "version_minor": 0
      },
      "text/plain": [
       "HBox(children=(FloatProgress(value=0.0, description='Training', layout=Layout(flex='2'), max=5000.0, style=Pro…"
      ]
     },
     "metadata": {},
     "output_type": "display_data"
    },
    {
     "name": "stdout",
     "output_type": "stream",
     "text": [
      "Epoch 23: train=0.557557, val=0.368613, took 693.85 s\n"
     ]
    },
    {
     "data": {
      "application/vnd.jupyter.widget-view+json": {
       "model_id": "",
       "version_major": 2,
       "version_minor": 0
      },
      "text/plain": [
       "HBox(children=(FloatProgress(value=0.0, description='Training', layout=Layout(flex='2'), max=5000.0, style=Pro…"
      ]
     },
     "metadata": {},
     "output_type": "display_data"
    },
    {
     "name": "stdout",
     "output_type": "stream",
     "text": [
      "Epoch 24: train=0.557143, val=0.387674, took 682.88 s\n"
     ]
    },
    {
     "data": {
      "application/vnd.jupyter.widget-view+json": {
       "model_id": "",
       "version_major": 2,
       "version_minor": 0
      },
      "text/plain": [
       "HBox(children=(FloatProgress(value=0.0, description='Training', layout=Layout(flex='2'), max=5000.0, style=Pro…"
      ]
     },
     "metadata": {},
     "output_type": "display_data"
    },
    {
     "name": "stdout",
     "output_type": "stream",
     "text": [
      "Epoch 25: train=0.55759, val=0.36577, took 678.55 s\n"
     ]
    },
    {
     "data": {
      "application/vnd.jupyter.widget-view+json": {
       "model_id": "",
       "version_major": 2,
       "version_minor": 0
      },
      "text/plain": [
       "HBox(children=(FloatProgress(value=0.0, description='Training', layout=Layout(flex='2'), max=5000.0, style=Pro…"
      ]
     },
     "metadata": {},
     "output_type": "display_data"
    },
    {
     "name": "stdout",
     "output_type": "stream",
     "text": [
      "Epoch 26: train=0.558277, val=0.362254, took 692.73 s\n"
     ]
    },
    {
     "data": {
      "application/vnd.jupyter.widget-view+json": {
       "model_id": "",
       "version_major": 2,
       "version_minor": 0
      },
      "text/plain": [
       "HBox(children=(FloatProgress(value=0.0, description='Training', layout=Layout(flex='2'), max=5000.0, style=Pro…"
      ]
     },
     "metadata": {},
     "output_type": "display_data"
    },
    {
     "name": "stdout",
     "output_type": "stream",
     "text": [
      "Epoch 27: train=0.557204, val=0.371629, took 690.05 s\n"
     ]
    },
    {
     "data": {
      "application/vnd.jupyter.widget-view+json": {
       "model_id": "",
       "version_major": 2,
       "version_minor": 0
      },
      "text/plain": [
       "HBox(children=(FloatProgress(value=0.0, description='Training', layout=Layout(flex='2'), max=5000.0, style=Pro…"
      ]
     },
     "metadata": {},
     "output_type": "display_data"
    },
    {
     "name": "stdout",
     "output_type": "stream",
     "text": [
      "Epoch 28: train=0.557812, val=0.361672, took 684.59 s\n"
     ]
    },
    {
     "data": {
      "application/vnd.jupyter.widget-view+json": {
       "model_id": "",
       "version_major": 2,
       "version_minor": 0
      },
      "text/plain": [
       "HBox(children=(FloatProgress(value=0.0, description='Training', layout=Layout(flex='2'), max=5000.0, style=Pro…"
      ]
     },
     "metadata": {},
     "output_type": "display_data"
    },
    {
     "name": "stdout",
     "output_type": "stream",
     "text": [
      "Epoch 29: train=0.556297, val=0.36654, took 675.86 s\n"
     ]
    },
    {
     "data": {
      "application/vnd.jupyter.widget-view+json": {
       "model_id": "",
       "version_major": 2,
       "version_minor": 0
      },
      "text/plain": [
       "HBox(children=(FloatProgress(value=0.0, description='Training', layout=Layout(flex='2'), max=5000.0, style=Pro…"
      ]
     },
     "metadata": {},
     "output_type": "display_data"
    },
    {
     "name": "stdout",
     "output_type": "stream",
     "text": [
      "Epoch 30: train=0.557695, val=0.362616, took 674.03 s\n"
     ]
    },
    {
     "data": {
      "application/vnd.jupyter.widget-view+json": {
       "model_id": "",
       "version_major": 2,
       "version_minor": 0
      },
      "text/plain": [
       "HBox(children=(FloatProgress(value=0.0, description='Training', layout=Layout(flex='2'), max=5000.0, style=Pro…"
      ]
     },
     "metadata": {},
     "output_type": "display_data"
    },
    {
     "name": "stdout",
     "output_type": "stream",
     "text": [
      "Epoch 31: train=0.557329, val=0.365217, took 679.8 s\n"
     ]
    },
    {
     "data": {
      "application/vnd.jupyter.widget-view+json": {
       "model_id": "",
       "version_major": 2,
       "version_minor": 0
      },
      "text/plain": [
       "HBox(children=(FloatProgress(value=0.0, description='Training', layout=Layout(flex='2'), max=5000.0, style=Pro…"
      ]
     },
     "metadata": {},
     "output_type": "display_data"
    },
    {
     "name": "stdout",
     "output_type": "stream",
     "text": [
      "Epoch 32: train=0.559883, val=0.388693, took 674.3 s\n"
     ]
    },
    {
     "data": {
      "application/vnd.jupyter.widget-view+json": {
       "model_id": "",
       "version_major": 2,
       "version_minor": 0
      },
      "text/plain": [
       "HBox(children=(FloatProgress(value=0.0, description='Training', layout=Layout(flex='2'), max=5000.0, style=Pro…"
      ]
     },
     "metadata": {},
     "output_type": "display_data"
    },
    {
     "name": "stdout",
     "output_type": "stream",
     "text": [
      "Epoch 33: train=0.556074, val=0.370985, took 674.45 s\n"
     ]
    },
    {
     "data": {
      "application/vnd.jupyter.widget-view+json": {
       "model_id": "",
       "version_major": 2,
       "version_minor": 0
      },
      "text/plain": [
       "HBox(children=(FloatProgress(value=0.0, description='Training', layout=Layout(flex='2'), max=5000.0, style=Pro…"
      ]
     },
     "metadata": {},
     "output_type": "display_data"
    },
    {
     "name": "stdout",
     "output_type": "stream",
     "text": [
      "Epoch 34: train=0.558041, val=0.3699, took 672.14 s\n"
     ]
    },
    {
     "data": {
      "application/vnd.jupyter.widget-view+json": {
       "model_id": "",
       "version_major": 2,
       "version_minor": 0
      },
      "text/plain": [
       "HBox(children=(FloatProgress(value=0.0, description='Training', layout=Layout(flex='2'), max=5000.0, style=Pro…"
      ]
     },
     "metadata": {},
     "output_type": "display_data"
    },
    {
     "name": "stdout",
     "output_type": "stream",
     "text": [
      "Epoch 35: train=0.555651, val=0.382116, took 672.29 s\n"
     ]
    },
    {
     "data": {
      "application/vnd.jupyter.widget-view+json": {
       "model_id": "",
       "version_major": 2,
       "version_minor": 0
      },
      "text/plain": [
       "HBox(children=(FloatProgress(value=0.0, description='Training', layout=Layout(flex='2'), max=5000.0, style=Pro…"
      ]
     },
     "metadata": {},
     "output_type": "display_data"
    },
    {
     "name": "stdout",
     "output_type": "stream",
     "text": [
      "Epoch 36: train=0.557116, val=0.364253, took 686.62 s\n"
     ]
    },
    {
     "data": {
      "application/vnd.jupyter.widget-view+json": {
       "model_id": "",
       "version_major": 2,
       "version_minor": 0
      },
      "text/plain": [
       "HBox(children=(FloatProgress(value=0.0, description='Training', layout=Layout(flex='2'), max=5000.0, style=Pro…"
      ]
     },
     "metadata": {},
     "output_type": "display_data"
    },
    {
     "name": "stdout",
     "output_type": "stream",
     "text": [
      "Epoch 37: train=0.555727, val=0.371871, took 684.41 s\n"
     ]
    },
    {
     "data": {
      "application/vnd.jupyter.widget-view+json": {
       "model_id": "",
       "version_major": 2,
       "version_minor": 0
      },
      "text/plain": [
       "HBox(children=(FloatProgress(value=0.0, description='Training', layout=Layout(flex='2'), max=5000.0, style=Pro…"
      ]
     },
     "metadata": {},
     "output_type": "display_data"
    },
    {
     "name": "stdout",
     "output_type": "stream",
     "text": [
      "Epoch 38: train=0.558117, val=0.365433, took 676.16 s\n"
     ]
    },
    {
     "data": {
      "application/vnd.jupyter.widget-view+json": {
       "model_id": "",
       "version_major": 2,
       "version_minor": 0
      },
      "text/plain": [
       "HBox(children=(FloatProgress(value=0.0, description='Training', layout=Layout(flex='2'), max=5000.0, style=Pro…"
      ]
     },
     "metadata": {},
     "output_type": "display_data"
    },
    {
     "name": "stdout",
     "output_type": "stream",
     "text": [
      "Epoch 39: train=0.556298, val=0.362039, took 677.75 s\n"
     ]
    },
    {
     "data": {
      "application/vnd.jupyter.widget-view+json": {
       "model_id": "",
       "version_major": 2,
       "version_minor": 0
      },
      "text/plain": [
       "HBox(children=(FloatProgress(value=0.0, description='Training', layout=Layout(flex='2'), max=5000.0, style=Pro…"
      ]
     },
     "metadata": {},
     "output_type": "display_data"
    },
    {
     "name": "stdout",
     "output_type": "stream",
     "text": [
      "Epoch 40: train=0.557924, val=0.369591, took 677.22 s\n"
     ]
    },
    {
     "data": {
      "application/vnd.jupyter.widget-view+json": {
       "model_id": "",
       "version_major": 2,
       "version_minor": 0
      },
      "text/plain": [
       "HBox(children=(FloatProgress(value=0.0, description='Training', layout=Layout(flex='2'), max=5000.0, style=Pro…"
      ]
     },
     "metadata": {},
     "output_type": "display_data"
    },
    {
     "name": "stdout",
     "output_type": "stream",
     "text": [
      "Epoch 41: train=0.556689, val=0.371061, took 679.43 s\n"
     ]
    },
    {
     "data": {
      "application/vnd.jupyter.widget-view+json": {
       "model_id": "",
       "version_major": 2,
       "version_minor": 0
      },
      "text/plain": [
       "HBox(children=(FloatProgress(value=0.0, description='Training', layout=Layout(flex='2'), max=5000.0, style=Pro…"
      ]
     },
     "metadata": {},
     "output_type": "display_data"
    },
    {
     "name": "stdout",
     "output_type": "stream",
     "text": [
      "Epoch 42: train=0.55611, val=0.361648, took 675.16 s\n"
     ]
    },
    {
     "data": {
      "application/vnd.jupyter.widget-view+json": {
       "model_id": "",
       "version_major": 2,
       "version_minor": 0
      },
      "text/plain": [
       "HBox(children=(FloatProgress(value=0.0, description='Training', layout=Layout(flex='2'), max=5000.0, style=Pro…"
      ]
     },
     "metadata": {},
     "output_type": "display_data"
    },
    {
     "name": "stdout",
     "output_type": "stream",
     "text": [
      "Epoch 43: train=0.555846, val=0.396996, took 675.83 s\n"
     ]
    },
    {
     "data": {
      "application/vnd.jupyter.widget-view+json": {
       "model_id": "",
       "version_major": 2,
       "version_minor": 0
      },
      "text/plain": [
       "HBox(children=(FloatProgress(value=0.0, description='Training', layout=Layout(flex='2'), max=5000.0, style=Pro…"
      ]
     },
     "metadata": {},
     "output_type": "display_data"
    },
    {
     "name": "stdout",
     "output_type": "stream",
     "text": [
      "Epoch 44: train=0.556167, val=0.391935, took 673.38 s\n"
     ]
    },
    {
     "data": {
      "application/vnd.jupyter.widget-view+json": {
       "model_id": "",
       "version_major": 2,
       "version_minor": 0
      },
      "text/plain": [
       "HBox(children=(FloatProgress(value=0.0, description='Training', layout=Layout(flex='2'), max=5000.0, style=Pro…"
      ]
     },
     "metadata": {},
     "output_type": "display_data"
    },
    {
     "name": "stdout",
     "output_type": "stream",
     "text": [
      "Epoch 45: train=0.555843, val=0.400623, took 675.47 s\n"
     ]
    },
    {
     "data": {
      "application/vnd.jupyter.widget-view+json": {
       "model_id": "",
       "version_major": 2,
       "version_minor": 0
      },
      "text/plain": [
       "HBox(children=(FloatProgress(value=0.0, description='Training', layout=Layout(flex='2'), max=5000.0, style=Pro…"
      ]
     },
     "metadata": {},
     "output_type": "display_data"
    },
    {
     "name": "stdout",
     "output_type": "stream",
     "text": [
      "Epoch 46: train=0.555401, val=0.366335, took 680.13 s\n"
     ]
    },
    {
     "data": {
      "application/vnd.jupyter.widget-view+json": {
       "model_id": "",
       "version_major": 2,
       "version_minor": 0
      },
      "text/plain": [
       "HBox(children=(FloatProgress(value=0.0, description='Training', layout=Layout(flex='2'), max=5000.0, style=Pro…"
      ]
     },
     "metadata": {},
     "output_type": "display_data"
    },
    {
     "name": "stdout",
     "output_type": "stream",
     "text": [
      "Epoch 47: train=0.554992, val=0.384833, took 678.04 s\n"
     ]
    },
    {
     "data": {
      "application/vnd.jupyter.widget-view+json": {
       "model_id": "",
       "version_major": 2,
       "version_minor": 0
      },
      "text/plain": [
       "HBox(children=(FloatProgress(value=0.0, description='Training', layout=Layout(flex='2'), max=5000.0, style=Pro…"
      ]
     },
     "metadata": {},
     "output_type": "display_data"
    },
    {
     "name": "stdout",
     "output_type": "stream",
     "text": [
      "Epoch 48: train=0.556122, val=0.364716, took 674.8 s\n"
     ]
    },
    {
     "data": {
      "application/vnd.jupyter.widget-view+json": {
       "model_id": "",
       "version_major": 2,
       "version_minor": 0
      },
      "text/plain": [
       "HBox(children=(FloatProgress(value=0.0, description='Training', layout=Layout(flex='2'), max=5000.0, style=Pro…"
      ]
     },
     "metadata": {},
     "output_type": "display_data"
    },
    {
     "name": "stdout",
     "output_type": "stream",
     "text": [
      "Epoch 49: train=0.555281, val=0.383427, took 678.35 s\n"
     ]
    },
    {
     "data": {
      "application/vnd.jupyter.widget-view+json": {
       "model_id": "",
       "version_major": 2,
       "version_minor": 0
      },
      "text/plain": [
       "HBox(children=(FloatProgress(value=0.0, description='Training', layout=Layout(flex='2'), max=5000.0, style=Pro…"
      ]
     },
     "metadata": {},
     "output_type": "display_data"
    },
    {
     "name": "stdout",
     "output_type": "stream",
     "text": [
      "Epoch 50: train=0.554865, val=0.447067, took 680.12 s\n"
     ]
    },
    {
     "data": {
      "application/vnd.jupyter.widget-view+json": {
       "model_id": "",
       "version_major": 2,
       "version_minor": 0
      },
      "text/plain": [
       "HBox(children=(FloatProgress(value=0.0, description='Training', layout=Layout(flex='2'), max=5000.0, style=Pro…"
      ]
     },
     "metadata": {},
     "output_type": "display_data"
    },
    {
     "name": "stdout",
     "output_type": "stream",
     "text": [
      "Epoch 51: train=0.558339, val=0.366019, took 680.25 s\n"
     ]
    },
    {
     "data": {
      "application/vnd.jupyter.widget-view+json": {
       "model_id": "",
       "version_major": 2,
       "version_minor": 0
      },
      "text/plain": [
       "HBox(children=(FloatProgress(value=0.0, description='Training', layout=Layout(flex='2'), max=5000.0, style=Pro…"
      ]
     },
     "metadata": {},
     "output_type": "display_data"
    },
    {
     "name": "stdout",
     "output_type": "stream",
     "text": [
      "Epoch 52: train=0.555584, val=0.3617, took 673.18 s\n"
     ]
    },
    {
     "data": {
      "application/vnd.jupyter.widget-view+json": {
       "model_id": "",
       "version_major": 2,
       "version_minor": 0
      },
      "text/plain": [
       "HBox(children=(FloatProgress(value=0.0, description='Training', layout=Layout(flex='2'), max=5000.0, style=Pro…"
      ]
     },
     "metadata": {},
     "output_type": "display_data"
    },
    {
     "name": "stdout",
     "output_type": "stream",
     "text": [
      "Epoch 53: train=0.556223, val=0.382493, took 679.3 s\n"
     ]
    },
    {
     "data": {
      "application/vnd.jupyter.widget-view+json": {
       "model_id": "",
       "version_major": 2,
       "version_minor": 0
      },
      "text/plain": [
       "HBox(children=(FloatProgress(value=0.0, description='Training', layout=Layout(flex='2'), max=5000.0, style=Pro…"
      ]
     },
     "metadata": {},
     "output_type": "display_data"
    },
    {
     "name": "stdout",
     "output_type": "stream",
     "text": [
      "Epoch 54: train=0.557056, val=0.365453, took 685.43 s\n"
     ]
    },
    {
     "data": {
      "application/vnd.jupyter.widget-view+json": {
       "model_id": "",
       "version_major": 2,
       "version_minor": 0
      },
      "text/plain": [
       "HBox(children=(FloatProgress(value=0.0, description='Training', layout=Layout(flex='2'), max=5000.0, style=Pro…"
      ]
     },
     "metadata": {},
     "output_type": "display_data"
    },
    {
     "name": "stdout",
     "output_type": "stream",
     "text": [
      "Epoch 55: train=0.554488, val=0.363914, took 672.24 s\n"
     ]
    },
    {
     "data": {
      "application/vnd.jupyter.widget-view+json": {
       "model_id": "",
       "version_major": 2,
       "version_minor": 0
      },
      "text/plain": [
       "HBox(children=(FloatProgress(value=0.0, description='Training', layout=Layout(flex='2'), max=5000.0, style=Pro…"
      ]
     },
     "metadata": {},
     "output_type": "display_data"
    },
    {
     "name": "stdout",
     "output_type": "stream",
     "text": [
      "Epoch 56: train=0.555979, val=0.36511, took 673.07 s\n"
     ]
    },
    {
     "data": {
      "application/vnd.jupyter.widget-view+json": {
       "model_id": "",
       "version_major": 2,
       "version_minor": 0
      },
      "text/plain": [
       "HBox(children=(FloatProgress(value=0.0, description='Training', layout=Layout(flex='2'), max=5000.0, style=Pro…"
      ]
     },
     "metadata": {},
     "output_type": "display_data"
    },
    {
     "name": "stdout",
     "output_type": "stream",
     "text": [
      "Epoch 57: train=0.5533, val=0.403543, took 679.85 s\n"
     ]
    },
    {
     "data": {
      "application/vnd.jupyter.widget-view+json": {
       "model_id": "",
       "version_major": 2,
       "version_minor": 0
      },
      "text/plain": [
       "HBox(children=(FloatProgress(value=0.0, description='Training', layout=Layout(flex='2'), max=5000.0, style=Pro…"
      ]
     },
     "metadata": {},
     "output_type": "display_data"
    },
    {
     "name": "stdout",
     "output_type": "stream",
     "text": [
      "Epoch 58: train=0.553585, val=0.375031, took 681.45 s\n"
     ]
    },
    {
     "data": {
      "application/vnd.jupyter.widget-view+json": {
       "model_id": "",
       "version_major": 2,
       "version_minor": 0
      },
      "text/plain": [
       "HBox(children=(FloatProgress(value=0.0, description='Training', layout=Layout(flex='2'), max=5000.0, style=Pro…"
      ]
     },
     "metadata": {},
     "output_type": "display_data"
    },
    {
     "name": "stdout",
     "output_type": "stream",
     "text": [
      "Epoch 59: train=0.556019, val=0.372235, took 671.24 s\n"
     ]
    },
    {
     "data": {
      "application/vnd.jupyter.widget-view+json": {
       "model_id": "",
       "version_major": 2,
       "version_minor": 0
      },
      "text/plain": [
       "HBox(children=(FloatProgress(value=0.0, description='Training', layout=Layout(flex='2'), max=5000.0, style=Pro…"
      ]
     },
     "metadata": {},
     "output_type": "display_data"
    },
    {
     "name": "stdout",
     "output_type": "stream",
     "text": [
      "Epoch 60: train=0.553502, val=0.378635, took 671.05 s\n"
     ]
    },
    {
     "data": {
      "application/vnd.jupyter.widget-view+json": {
       "model_id": "",
       "version_major": 2,
       "version_minor": 0
      },
      "text/plain": [
       "HBox(children=(FloatProgress(value=0.0, description='Training', layout=Layout(flex='2'), max=5000.0, style=Pro…"
      ]
     },
     "metadata": {},
     "output_type": "display_data"
    },
    {
     "name": "stdout",
     "output_type": "stream",
     "text": [
      "Epoch 61: train=0.554786, val=0.360548, took 673.19 s\n"
     ]
    },
    {
     "data": {
      "application/vnd.jupyter.widget-view+json": {
       "model_id": "",
       "version_major": 2,
       "version_minor": 0
      },
      "text/plain": [
       "HBox(children=(FloatProgress(value=0.0, description='Training', layout=Layout(flex='2'), max=5000.0, style=Pro…"
      ]
     },
     "metadata": {},
     "output_type": "display_data"
    },
    {
     "name": "stdout",
     "output_type": "stream",
     "text": [
      "Epoch 62: train=0.555275, val=0.368997, took 668.84 s\n"
     ]
    },
    {
     "data": {
      "application/vnd.jupyter.widget-view+json": {
       "model_id": "",
       "version_major": 2,
       "version_minor": 0
      },
      "text/plain": [
       "HBox(children=(FloatProgress(value=0.0, description='Training', layout=Layout(flex='2'), max=5000.0, style=Pro…"
      ]
     },
     "metadata": {},
     "output_type": "display_data"
    },
    {
     "name": "stdout",
     "output_type": "stream",
     "text": [
      "Epoch 63: train=0.554637, val=0.394475, took 681.01 s\n"
     ]
    },
    {
     "data": {
      "application/vnd.jupyter.widget-view+json": {
       "model_id": "",
       "version_major": 2,
       "version_minor": 0
      },
      "text/plain": [
       "HBox(children=(FloatProgress(value=0.0, description='Training', layout=Layout(flex='2'), max=5000.0, style=Pro…"
      ]
     },
     "metadata": {},
     "output_type": "display_data"
    },
    {
     "name": "stdout",
     "output_type": "stream",
     "text": [
      "Epoch 64: train=0.554181, val=0.36029, took 697.05 s\n"
     ]
    },
    {
     "data": {
      "application/vnd.jupyter.widget-view+json": {
       "model_id": "",
       "version_major": 2,
       "version_minor": 0
      },
      "text/plain": [
       "HBox(children=(FloatProgress(value=0.0, description='Training', layout=Layout(flex='2'), max=5000.0, style=Pro…"
      ]
     },
     "metadata": {},
     "output_type": "display_data"
    },
    {
     "name": "stdout",
     "output_type": "stream",
     "text": [
      "Epoch 65: train=0.554409, val=0.373061, took 691.03 s\n"
     ]
    },
    {
     "data": {
      "application/vnd.jupyter.widget-view+json": {
       "model_id": "",
       "version_major": 2,
       "version_minor": 0
      },
      "text/plain": [
       "HBox(children=(FloatProgress(value=0.0, description='Training', layout=Layout(flex='2'), max=5000.0, style=Pro…"
      ]
     },
     "metadata": {},
     "output_type": "display_data"
    },
    {
     "name": "stdout",
     "output_type": "stream",
     "text": [
      "Epoch 66: train=0.553463, val=0.365557, took 685.08 s\n"
     ]
    },
    {
     "data": {
      "application/vnd.jupyter.widget-view+json": {
       "model_id": "",
       "version_major": 2,
       "version_minor": 0
      },
      "text/plain": [
       "HBox(children=(FloatProgress(value=0.0, description='Training', layout=Layout(flex='2'), max=5000.0, style=Pro…"
      ]
     },
     "metadata": {},
     "output_type": "display_data"
    },
    {
     "name": "stdout",
     "output_type": "stream",
     "text": [
      "Epoch 67: train=0.553422, val=0.358712, took 657.73 s\n"
     ]
    },
    {
     "data": {
      "application/vnd.jupyter.widget-view+json": {
       "model_id": "",
       "version_major": 2,
       "version_minor": 0
      },
      "text/plain": [
       "HBox(children=(FloatProgress(value=0.0, description='Training', layout=Layout(flex='2'), max=5000.0, style=Pro…"
      ]
     },
     "metadata": {},
     "output_type": "display_data"
    },
    {
     "name": "stdout",
     "output_type": "stream",
     "text": [
      "Epoch 68: train=0.5547, val=0.389228, took 588.4 s\n"
     ]
    },
    {
     "data": {
      "application/vnd.jupyter.widget-view+json": {
       "model_id": "",
       "version_major": 2,
       "version_minor": 0
      },
      "text/plain": [
       "HBox(children=(FloatProgress(value=0.0, description='Training', layout=Layout(flex='2'), max=5000.0, style=Pro…"
      ]
     },
     "metadata": {},
     "output_type": "display_data"
    },
    {
     "name": "stdout",
     "output_type": "stream",
     "text": [
      "Epoch 69: train=0.552971, val=0.401767, took 587.33 s\n"
     ]
    },
    {
     "data": {
      "application/vnd.jupyter.widget-view+json": {
       "model_id": "",
       "version_major": 2,
       "version_minor": 0
      },
      "text/plain": [
       "HBox(children=(FloatProgress(value=0.0, description='Training', layout=Layout(flex='2'), max=5000.0, style=Pro…"
      ]
     },
     "metadata": {},
     "output_type": "display_data"
    },
    {
     "name": "stdout",
     "output_type": "stream",
     "text": [
      "Epoch 70: train=0.555154, val=0.360432, took 587.23 s\n"
     ]
    },
    {
     "data": {
      "application/vnd.jupyter.widget-view+json": {
       "model_id": "",
       "version_major": 2,
       "version_minor": 0
      },
      "text/plain": [
       "HBox(children=(FloatProgress(value=0.0, description='Training', layout=Layout(flex='2'), max=5000.0, style=Pro…"
      ]
     },
     "metadata": {},
     "output_type": "display_data"
    },
    {
     "name": "stdout",
     "output_type": "stream",
     "text": [
      "Epoch 71: train=0.554352, val=0.377712, took 586.43 s\n"
     ]
    },
    {
     "data": {
      "application/vnd.jupyter.widget-view+json": {
       "model_id": "",
       "version_major": 2,
       "version_minor": 0
      },
      "text/plain": [
       "HBox(children=(FloatProgress(value=0.0, description='Training', layout=Layout(flex='2'), max=5000.0, style=Pro…"
      ]
     },
     "metadata": {},
     "output_type": "display_data"
    },
    {
     "name": "stdout",
     "output_type": "stream",
     "text": [
      "Epoch 72: train=0.553688, val=0.38129, took 588.6 s\n"
     ]
    },
    {
     "data": {
      "application/vnd.jupyter.widget-view+json": {
       "model_id": "",
       "version_major": 2,
       "version_minor": 0
      },
      "text/plain": [
       "HBox(children=(FloatProgress(value=0.0, description='Training', layout=Layout(flex='2'), max=5000.0, style=Pro…"
      ]
     },
     "metadata": {},
     "output_type": "display_data"
    },
    {
     "name": "stdout",
     "output_type": "stream",
     "text": [
      "Epoch 73: train=0.552311, val=0.385118, took 585.35 s\n"
     ]
    },
    {
     "data": {
      "application/vnd.jupyter.widget-view+json": {
       "model_id": "",
       "version_major": 2,
       "version_minor": 0
      },
      "text/plain": [
       "HBox(children=(FloatProgress(value=0.0, description='Training', layout=Layout(flex='2'), max=5000.0, style=Pro…"
      ]
     },
     "metadata": {},
     "output_type": "display_data"
    },
    {
     "name": "stdout",
     "output_type": "stream",
     "text": [
      "Epoch 74: train=0.551973, val=0.359259, took 586.79 s\n"
     ]
    },
    {
     "data": {
      "application/vnd.jupyter.widget-view+json": {
       "model_id": "",
       "version_major": 2,
       "version_minor": 0
      },
      "text/plain": [
       "HBox(children=(FloatProgress(value=0.0, description='Training', layout=Layout(flex='2'), max=5000.0, style=Pro…"
      ]
     },
     "metadata": {},
     "output_type": "display_data"
    },
    {
     "name": "stdout",
     "output_type": "stream",
     "text": [
      "Epoch 75: train=0.552479, val=0.360689, took 582.64 s\n"
     ]
    },
    {
     "data": {
      "application/vnd.jupyter.widget-view+json": {
       "model_id": "",
       "version_major": 2,
       "version_minor": 0
      },
      "text/plain": [
       "HBox(children=(FloatProgress(value=0.0, description='Training', layout=Layout(flex='2'), max=5000.0, style=Pro…"
      ]
     },
     "metadata": {},
     "output_type": "display_data"
    },
    {
     "name": "stdout",
     "output_type": "stream",
     "text": [
      "Epoch 76: train=0.554321, val=0.36102, took 583.34 s\n"
     ]
    },
    {
     "data": {
      "application/vnd.jupyter.widget-view+json": {
       "model_id": "",
       "version_major": 2,
       "version_minor": 0
      },
      "text/plain": [
       "HBox(children=(FloatProgress(value=0.0, description='Training', layout=Layout(flex='2'), max=5000.0, style=Pro…"
      ]
     },
     "metadata": {},
     "output_type": "display_data"
    },
    {
     "name": "stdout",
     "output_type": "stream",
     "text": [
      "Epoch 77: train=0.551463, val=0.378895, took 582.7 s\n"
     ]
    },
    {
     "data": {
      "application/vnd.jupyter.widget-view+json": {
       "model_id": "",
       "version_major": 2,
       "version_minor": 0
      },
      "text/plain": [
       "HBox(children=(FloatProgress(value=0.0, description='Training', layout=Layout(flex='2'), max=5000.0, style=Pro…"
      ]
     },
     "metadata": {},
     "output_type": "display_data"
    },
    {
     "name": "stdout",
     "output_type": "stream",
     "text": [
      "Epoch 78: train=0.554976, val=0.363169, took 583.99 s\n"
     ]
    },
    {
     "data": {
      "application/vnd.jupyter.widget-view+json": {
       "model_id": "",
       "version_major": 2,
       "version_minor": 0
      },
      "text/plain": [
       "HBox(children=(FloatProgress(value=0.0, description='Training', layout=Layout(flex='2'), max=5000.0, style=Pro…"
      ]
     },
     "metadata": {},
     "output_type": "display_data"
    },
    {
     "name": "stdout",
     "output_type": "stream",
     "text": [
      "Epoch 79: train=0.553646, val=0.366257, took 582.78 s\n",
      "\n"
     ]
    }
   ],
   "source": [
    "for result in trainNet(model, optimizer, loss,\n",
    "                        train_loader, val_loader,\n",
    "                        n_epochs, epoch_start=len(results),\n",
    "                        notebook=True):\n",
    "    \n",
    "    results = results.append(pd.Series(result._asdict()), ignore_index=True)\n",
    "    xs = results.index\n",
    "    \n",
    "    # Update the plot above\n",
    "    lines['train'].set_data(results.index,results.cost)\n",
    "    lines['val'].set_data(results.index,results.val)\n",
    "    \n",
    "    #filter first cost epoch (can be really large)\n",
    "    max_cost = max(max(results.cost if len(results.cost)<2 else results.cost[1:]), max(results.val))\n",
    "    min_cost = min(min(results.cost), min(results.val))\n",
    "    \n",
    "    # The plot limits need updating too\n",
    "    \n",
    "    \n",
    "    \n",
    "    ax.set_ylim(min_cost*.9, max_cost*1.1)  \n",
    "    ax.set_xlim(-.5, len(results.cost) - .5)\n",
    "\n",
    "    \n",
    "    # Redraw the figure\n",
    "    fig.canvas.draw()\n",
    "\n",
    "    # Save each model state dictionary\n",
    "    torch.save(model.state_dict(), output / f'{name}_{result.epoch}.pyt')"
   ]
  },
  {
   "cell_type": "markdown",
   "metadata": {},
   "source": [
    "Go ahead and save the final model (even though it was also saved above):"
   ]
  },
  {
   "cell_type": "code",
   "execution_count": 19,
   "metadata": {},
   "outputs": [],
   "source": [
    "torch.save(model.state_dict(), output / f'{name}_final.pyt')"
   ]
  },
  {
   "cell_type": "markdown",
   "metadata": {},
   "source": [
    "Save the output results:"
   ]
  },
  {
   "cell_type": "code",
   "execution_count": 20,
   "metadata": {},
   "outputs": [],
   "source": [
    "results.to_hdf(output / f'{name}_stats.hdf5', 'results')"
   ]
  },
  {
   "cell_type": "markdown",
   "metadata": {},
   "source": [
    "Save the plot above:"
   ]
  },
  {
   "cell_type": "code",
   "execution_count": 21,
   "metadata": {},
   "outputs": [
    {
     "data": {
      "application/javascript": [
       "/* Put everything inside the global mpl namespace */\n",
       "window.mpl = {};\n",
       "\n",
       "\n",
       "mpl.get_websocket_type = function() {\n",
       "    if (typeof(WebSocket) !== 'undefined') {\n",
       "        return WebSocket;\n",
       "    } else if (typeof(MozWebSocket) !== 'undefined') {\n",
       "        return MozWebSocket;\n",
       "    } else {\n",
       "        alert('Your browser does not have WebSocket support. ' +\n",
       "              'Please try Chrome, Safari or Firefox ≥ 6. ' +\n",
       "              'Firefox 4 and 5 are also supported but you ' +\n",
       "              'have to enable WebSockets in about:config.');\n",
       "    };\n",
       "}\n",
       "\n",
       "mpl.figure = function(figure_id, websocket, ondownload, parent_element) {\n",
       "    this.id = figure_id;\n",
       "\n",
       "    this.ws = websocket;\n",
       "\n",
       "    this.supports_binary = (this.ws.binaryType != undefined);\n",
       "\n",
       "    if (!this.supports_binary) {\n",
       "        var warnings = document.getElementById(\"mpl-warnings\");\n",
       "        if (warnings) {\n",
       "            warnings.style.display = 'block';\n",
       "            warnings.textContent = (\n",
       "                \"This browser does not support binary websocket messages. \" +\n",
       "                    \"Performance may be slow.\");\n",
       "        }\n",
       "    }\n",
       "\n",
       "    this.imageObj = new Image();\n",
       "\n",
       "    this.context = undefined;\n",
       "    this.message = undefined;\n",
       "    this.canvas = undefined;\n",
       "    this.rubberband_canvas = undefined;\n",
       "    this.rubberband_context = undefined;\n",
       "    this.format_dropdown = undefined;\n",
       "\n",
       "    this.image_mode = 'full';\n",
       "\n",
       "    this.root = $('<div/>');\n",
       "    this._root_extra_style(this.root)\n",
       "    this.root.attr('style', 'display: inline-block');\n",
       "\n",
       "    $(parent_element).append(this.root);\n",
       "\n",
       "    this._init_header(this);\n",
       "    this._init_canvas(this);\n",
       "    this._init_toolbar(this);\n",
       "\n",
       "    var fig = this;\n",
       "\n",
       "    this.waiting = false;\n",
       "\n",
       "    this.ws.onopen =  function () {\n",
       "            fig.send_message(\"supports_binary\", {value: fig.supports_binary});\n",
       "            fig.send_message(\"send_image_mode\", {});\n",
       "            if (mpl.ratio != 1) {\n",
       "                fig.send_message(\"set_dpi_ratio\", {'dpi_ratio': mpl.ratio});\n",
       "            }\n",
       "            fig.send_message(\"refresh\", {});\n",
       "        }\n",
       "\n",
       "    this.imageObj.onload = function() {\n",
       "            if (fig.image_mode == 'full') {\n",
       "                // Full images could contain transparency (where diff images\n",
       "                // almost always do), so we need to clear the canvas so that\n",
       "                // there is no ghosting.\n",
       "                fig.context.clearRect(0, 0, fig.canvas.width, fig.canvas.height);\n",
       "            }\n",
       "            fig.context.drawImage(fig.imageObj, 0, 0);\n",
       "        };\n",
       "\n",
       "    this.imageObj.onunload = function() {\n",
       "        fig.ws.close();\n",
       "    }\n",
       "\n",
       "    this.ws.onmessage = this._make_on_message_function(this);\n",
       "\n",
       "    this.ondownload = ondownload;\n",
       "}\n",
       "\n",
       "mpl.figure.prototype._init_header = function() {\n",
       "    var titlebar = $(\n",
       "        '<div class=\"ui-dialog-titlebar ui-widget-header ui-corner-all ' +\n",
       "        'ui-helper-clearfix\"/>');\n",
       "    var titletext = $(\n",
       "        '<div class=\"ui-dialog-title\" style=\"width: 100%; ' +\n",
       "        'text-align: center; padding: 3px;\"/>');\n",
       "    titlebar.append(titletext)\n",
       "    this.root.append(titlebar);\n",
       "    this.header = titletext[0];\n",
       "}\n",
       "\n",
       "\n",
       "\n",
       "mpl.figure.prototype._canvas_extra_style = function(canvas_div) {\n",
       "\n",
       "}\n",
       "\n",
       "\n",
       "mpl.figure.prototype._root_extra_style = function(canvas_div) {\n",
       "\n",
       "}\n",
       "\n",
       "mpl.figure.prototype._init_canvas = function() {\n",
       "    var fig = this;\n",
       "\n",
       "    var canvas_div = $('<div/>');\n",
       "\n",
       "    canvas_div.attr('style', 'position: relative; clear: both; outline: 0');\n",
       "\n",
       "    function canvas_keyboard_event(event) {\n",
       "        return fig.key_event(event, event['data']);\n",
       "    }\n",
       "\n",
       "    canvas_div.keydown('key_press', canvas_keyboard_event);\n",
       "    canvas_div.keyup('key_release', canvas_keyboard_event);\n",
       "    this.canvas_div = canvas_div\n",
       "    this._canvas_extra_style(canvas_div)\n",
       "    this.root.append(canvas_div);\n",
       "\n",
       "    var canvas = $('<canvas/>');\n",
       "    canvas.addClass('mpl-canvas');\n",
       "    canvas.attr('style', \"left: 0; top: 0; z-index: 0; outline: 0\")\n",
       "\n",
       "    this.canvas = canvas[0];\n",
       "    this.context = canvas[0].getContext(\"2d\");\n",
       "\n",
       "    var backingStore = this.context.backingStorePixelRatio ||\n",
       "\tthis.context.webkitBackingStorePixelRatio ||\n",
       "\tthis.context.mozBackingStorePixelRatio ||\n",
       "\tthis.context.msBackingStorePixelRatio ||\n",
       "\tthis.context.oBackingStorePixelRatio ||\n",
       "\tthis.context.backingStorePixelRatio || 1;\n",
       "\n",
       "    mpl.ratio = (window.devicePixelRatio || 1) / backingStore;\n",
       "\n",
       "    var rubberband = $('<canvas/>');\n",
       "    rubberband.attr('style', \"position: absolute; left: 0; top: 0; z-index: 1;\")\n",
       "\n",
       "    var pass_mouse_events = true;\n",
       "\n",
       "    canvas_div.resizable({\n",
       "        start: function(event, ui) {\n",
       "            pass_mouse_events = false;\n",
       "        },\n",
       "        resize: function(event, ui) {\n",
       "            fig.request_resize(ui.size.width, ui.size.height);\n",
       "        },\n",
       "        stop: function(event, ui) {\n",
       "            pass_mouse_events = true;\n",
       "            fig.request_resize(ui.size.width, ui.size.height);\n",
       "        },\n",
       "    });\n",
       "\n",
       "    function mouse_event_fn(event) {\n",
       "        if (pass_mouse_events)\n",
       "            return fig.mouse_event(event, event['data']);\n",
       "    }\n",
       "\n",
       "    rubberband.mousedown('button_press', mouse_event_fn);\n",
       "    rubberband.mouseup('button_release', mouse_event_fn);\n",
       "    // Throttle sequential mouse events to 1 every 20ms.\n",
       "    rubberband.mousemove('motion_notify', mouse_event_fn);\n",
       "\n",
       "    rubberband.mouseenter('figure_enter', mouse_event_fn);\n",
       "    rubberband.mouseleave('figure_leave', mouse_event_fn);\n",
       "\n",
       "    canvas_div.on(\"wheel\", function (event) {\n",
       "        event = event.originalEvent;\n",
       "        event['data'] = 'scroll'\n",
       "        if (event.deltaY < 0) {\n",
       "            event.step = 1;\n",
       "        } else {\n",
       "            event.step = -1;\n",
       "        }\n",
       "        mouse_event_fn(event);\n",
       "    });\n",
       "\n",
       "    canvas_div.append(canvas);\n",
       "    canvas_div.append(rubberband);\n",
       "\n",
       "    this.rubberband = rubberband;\n",
       "    this.rubberband_canvas = rubberband[0];\n",
       "    this.rubberband_context = rubberband[0].getContext(\"2d\");\n",
       "    this.rubberband_context.strokeStyle = \"#000000\";\n",
       "\n",
       "    this._resize_canvas = function(width, height) {\n",
       "        // Keep the size of the canvas, canvas container, and rubber band\n",
       "        // canvas in synch.\n",
       "        canvas_div.css('width', width)\n",
       "        canvas_div.css('height', height)\n",
       "\n",
       "        canvas.attr('width', width * mpl.ratio);\n",
       "        canvas.attr('height', height * mpl.ratio);\n",
       "        canvas.attr('style', 'width: ' + width + 'px; height: ' + height + 'px;');\n",
       "\n",
       "        rubberband.attr('width', width);\n",
       "        rubberband.attr('height', height);\n",
       "    }\n",
       "\n",
       "    // Set the figure to an initial 600x600px, this will subsequently be updated\n",
       "    // upon first draw.\n",
       "    this._resize_canvas(600, 600);\n",
       "\n",
       "    // Disable right mouse context menu.\n",
       "    $(this.rubberband_canvas).bind(\"contextmenu\",function(e){\n",
       "        return false;\n",
       "    });\n",
       "\n",
       "    function set_focus () {\n",
       "        canvas.focus();\n",
       "        canvas_div.focus();\n",
       "    }\n",
       "\n",
       "    window.setTimeout(set_focus, 100);\n",
       "}\n",
       "\n",
       "mpl.figure.prototype._init_toolbar = function() {\n",
       "    var fig = this;\n",
       "\n",
       "    var nav_element = $('<div/>');\n",
       "    nav_element.attr('style', 'width: 100%');\n",
       "    this.root.append(nav_element);\n",
       "\n",
       "    // Define a callback function for later on.\n",
       "    function toolbar_event(event) {\n",
       "        return fig.toolbar_button_onclick(event['data']);\n",
       "    }\n",
       "    function toolbar_mouse_event(event) {\n",
       "        return fig.toolbar_button_onmouseover(event['data']);\n",
       "    }\n",
       "\n",
       "    for(var toolbar_ind in mpl.toolbar_items) {\n",
       "        var name = mpl.toolbar_items[toolbar_ind][0];\n",
       "        var tooltip = mpl.toolbar_items[toolbar_ind][1];\n",
       "        var image = mpl.toolbar_items[toolbar_ind][2];\n",
       "        var method_name = mpl.toolbar_items[toolbar_ind][3];\n",
       "\n",
       "        if (!name) {\n",
       "            // put a spacer in here.\n",
       "            continue;\n",
       "        }\n",
       "        var button = $('<button/>');\n",
       "        button.addClass('ui-button ui-widget ui-state-default ui-corner-all ' +\n",
       "                        'ui-button-icon-only');\n",
       "        button.attr('role', 'button');\n",
       "        button.attr('aria-disabled', 'false');\n",
       "        button.click(method_name, toolbar_event);\n",
       "        button.mouseover(tooltip, toolbar_mouse_event);\n",
       "\n",
       "        var icon_img = $('<span/>');\n",
       "        icon_img.addClass('ui-button-icon-primary ui-icon');\n",
       "        icon_img.addClass(image);\n",
       "        icon_img.addClass('ui-corner-all');\n",
       "\n",
       "        var tooltip_span = $('<span/>');\n",
       "        tooltip_span.addClass('ui-button-text');\n",
       "        tooltip_span.html(tooltip);\n",
       "\n",
       "        button.append(icon_img);\n",
       "        button.append(tooltip_span);\n",
       "\n",
       "        nav_element.append(button);\n",
       "    }\n",
       "\n",
       "    var fmt_picker_span = $('<span/>');\n",
       "\n",
       "    var fmt_picker = $('<select/>');\n",
       "    fmt_picker.addClass('mpl-toolbar-option ui-widget ui-widget-content');\n",
       "    fmt_picker_span.append(fmt_picker);\n",
       "    nav_element.append(fmt_picker_span);\n",
       "    this.format_dropdown = fmt_picker[0];\n",
       "\n",
       "    for (var ind in mpl.extensions) {\n",
       "        var fmt = mpl.extensions[ind];\n",
       "        var option = $(\n",
       "            '<option/>', {selected: fmt === mpl.default_extension}).html(fmt);\n",
       "        fmt_picker.append(option);\n",
       "    }\n",
       "\n",
       "    // Add hover states to the ui-buttons\n",
       "    $( \".ui-button\" ).hover(\n",
       "        function() { $(this).addClass(\"ui-state-hover\");},\n",
       "        function() { $(this).removeClass(\"ui-state-hover\");}\n",
       "    );\n",
       "\n",
       "    var status_bar = $('<span class=\"mpl-message\"/>');\n",
       "    nav_element.append(status_bar);\n",
       "    this.message = status_bar[0];\n",
       "}\n",
       "\n",
       "mpl.figure.prototype.request_resize = function(x_pixels, y_pixels) {\n",
       "    // Request matplotlib to resize the figure. Matplotlib will then trigger a resize in the client,\n",
       "    // which will in turn request a refresh of the image.\n",
       "    this.send_message('resize', {'width': x_pixels, 'height': y_pixels});\n",
       "}\n",
       "\n",
       "mpl.figure.prototype.send_message = function(type, properties) {\n",
       "    properties['type'] = type;\n",
       "    properties['figure_id'] = this.id;\n",
       "    this.ws.send(JSON.stringify(properties));\n",
       "}\n",
       "\n",
       "mpl.figure.prototype.send_draw_message = function() {\n",
       "    if (!this.waiting) {\n",
       "        this.waiting = true;\n",
       "        this.ws.send(JSON.stringify({type: \"draw\", figure_id: this.id}));\n",
       "    }\n",
       "}\n",
       "\n",
       "\n",
       "mpl.figure.prototype.handle_save = function(fig, msg) {\n",
       "    var format_dropdown = fig.format_dropdown;\n",
       "    var format = format_dropdown.options[format_dropdown.selectedIndex].value;\n",
       "    fig.ondownload(fig, format);\n",
       "}\n",
       "\n",
       "\n",
       "mpl.figure.prototype.handle_resize = function(fig, msg) {\n",
       "    var size = msg['size'];\n",
       "    if (size[0] != fig.canvas.width || size[1] != fig.canvas.height) {\n",
       "        fig._resize_canvas(size[0], size[1]);\n",
       "        fig.send_message(\"refresh\", {});\n",
       "    };\n",
       "}\n",
       "\n",
       "mpl.figure.prototype.handle_rubberband = function(fig, msg) {\n",
       "    var x0 = msg['x0'] / mpl.ratio;\n",
       "    var y0 = (fig.canvas.height - msg['y0']) / mpl.ratio;\n",
       "    var x1 = msg['x1'] / mpl.ratio;\n",
       "    var y1 = (fig.canvas.height - msg['y1']) / mpl.ratio;\n",
       "    x0 = Math.floor(x0) + 0.5;\n",
       "    y0 = Math.floor(y0) + 0.5;\n",
       "    x1 = Math.floor(x1) + 0.5;\n",
       "    y1 = Math.floor(y1) + 0.5;\n",
       "    var min_x = Math.min(x0, x1);\n",
       "    var min_y = Math.min(y0, y1);\n",
       "    var width = Math.abs(x1 - x0);\n",
       "    var height = Math.abs(y1 - y0);\n",
       "\n",
       "    fig.rubberband_context.clearRect(\n",
       "        0, 0, fig.canvas.width / mpl.ratio, fig.canvas.height / mpl.ratio);\n",
       "\n",
       "    fig.rubberband_context.strokeRect(min_x, min_y, width, height);\n",
       "}\n",
       "\n",
       "mpl.figure.prototype.handle_figure_label = function(fig, msg) {\n",
       "    // Updates the figure title.\n",
       "    fig.header.textContent = msg['label'];\n",
       "}\n",
       "\n",
       "mpl.figure.prototype.handle_cursor = function(fig, msg) {\n",
       "    var cursor = msg['cursor'];\n",
       "    switch(cursor)\n",
       "    {\n",
       "    case 0:\n",
       "        cursor = 'pointer';\n",
       "        break;\n",
       "    case 1:\n",
       "        cursor = 'default';\n",
       "        break;\n",
       "    case 2:\n",
       "        cursor = 'crosshair';\n",
       "        break;\n",
       "    case 3:\n",
       "        cursor = 'move';\n",
       "        break;\n",
       "    }\n",
       "    fig.rubberband_canvas.style.cursor = cursor;\n",
       "}\n",
       "\n",
       "mpl.figure.prototype.handle_message = function(fig, msg) {\n",
       "    fig.message.textContent = msg['message'];\n",
       "}\n",
       "\n",
       "mpl.figure.prototype.handle_draw = function(fig, msg) {\n",
       "    // Request the server to send over a new figure.\n",
       "    fig.send_draw_message();\n",
       "}\n",
       "\n",
       "mpl.figure.prototype.handle_image_mode = function(fig, msg) {\n",
       "    fig.image_mode = msg['mode'];\n",
       "}\n",
       "\n",
       "mpl.figure.prototype.updated_canvas_event = function() {\n",
       "    // Called whenever the canvas gets updated.\n",
       "    this.send_message(\"ack\", {});\n",
       "}\n",
       "\n",
       "// A function to construct a web socket function for onmessage handling.\n",
       "// Called in the figure constructor.\n",
       "mpl.figure.prototype._make_on_message_function = function(fig) {\n",
       "    return function socket_on_message(evt) {\n",
       "        if (evt.data instanceof Blob) {\n",
       "            /* FIXME: We get \"Resource interpreted as Image but\n",
       "             * transferred with MIME type text/plain:\" errors on\n",
       "             * Chrome.  But how to set the MIME type?  It doesn't seem\n",
       "             * to be part of the websocket stream */\n",
       "            evt.data.type = \"image/png\";\n",
       "\n",
       "            /* Free the memory for the previous frames */\n",
       "            if (fig.imageObj.src) {\n",
       "                (window.URL || window.webkitURL).revokeObjectURL(\n",
       "                    fig.imageObj.src);\n",
       "            }\n",
       "\n",
       "            fig.imageObj.src = (window.URL || window.webkitURL).createObjectURL(\n",
       "                evt.data);\n",
       "            fig.updated_canvas_event();\n",
       "            fig.waiting = false;\n",
       "            return;\n",
       "        }\n",
       "        else if (typeof evt.data === 'string' && evt.data.slice(0, 21) == \"data:image/png;base64\") {\n",
       "            fig.imageObj.src = evt.data;\n",
       "            fig.updated_canvas_event();\n",
       "            fig.waiting = false;\n",
       "            return;\n",
       "        }\n",
       "\n",
       "        var msg = JSON.parse(evt.data);\n",
       "        var msg_type = msg['type'];\n",
       "\n",
       "        // Call the  \"handle_{type}\" callback, which takes\n",
       "        // the figure and JSON message as its only arguments.\n",
       "        try {\n",
       "            var callback = fig[\"handle_\" + msg_type];\n",
       "        } catch (e) {\n",
       "            console.log(\"No handler for the '\" + msg_type + \"' message type: \", msg);\n",
       "            return;\n",
       "        }\n",
       "\n",
       "        if (callback) {\n",
       "            try {\n",
       "                // console.log(\"Handling '\" + msg_type + \"' message: \", msg);\n",
       "                callback(fig, msg);\n",
       "            } catch (e) {\n",
       "                console.log(\"Exception inside the 'handler_\" + msg_type + \"' callback:\", e, e.stack, msg);\n",
       "            }\n",
       "        }\n",
       "    };\n",
       "}\n",
       "\n",
       "// from http://stackoverflow.com/questions/1114465/getting-mouse-location-in-canvas\n",
       "mpl.findpos = function(e) {\n",
       "    //this section is from http://www.quirksmode.org/js/events_properties.html\n",
       "    var targ;\n",
       "    if (!e)\n",
       "        e = window.event;\n",
       "    if (e.target)\n",
       "        targ = e.target;\n",
       "    else if (e.srcElement)\n",
       "        targ = e.srcElement;\n",
       "    if (targ.nodeType == 3) // defeat Safari bug\n",
       "        targ = targ.parentNode;\n",
       "\n",
       "    // jQuery normalizes the pageX and pageY\n",
       "    // pageX,Y are the mouse positions relative to the document\n",
       "    // offset() returns the position of the element relative to the document\n",
       "    var x = e.pageX - $(targ).offset().left;\n",
       "    var y = e.pageY - $(targ).offset().top;\n",
       "\n",
       "    return {\"x\": x, \"y\": y};\n",
       "};\n",
       "\n",
       "/*\n",
       " * return a copy of an object with only non-object keys\n",
       " * we need this to avoid circular references\n",
       " * http://stackoverflow.com/a/24161582/3208463\n",
       " */\n",
       "function simpleKeys (original) {\n",
       "  return Object.keys(original).reduce(function (obj, key) {\n",
       "    if (typeof original[key] !== 'object')\n",
       "        obj[key] = original[key]\n",
       "    return obj;\n",
       "  }, {});\n",
       "}\n",
       "\n",
       "mpl.figure.prototype.mouse_event = function(event, name) {\n",
       "    var canvas_pos = mpl.findpos(event)\n",
       "\n",
       "    if (name === 'button_press')\n",
       "    {\n",
       "        this.canvas.focus();\n",
       "        this.canvas_div.focus();\n",
       "    }\n",
       "\n",
       "    var x = canvas_pos.x * mpl.ratio;\n",
       "    var y = canvas_pos.y * mpl.ratio;\n",
       "\n",
       "    this.send_message(name, {x: x, y: y, button: event.button,\n",
       "                             step: event.step,\n",
       "                             guiEvent: simpleKeys(event)});\n",
       "\n",
       "    /* This prevents the web browser from automatically changing to\n",
       "     * the text insertion cursor when the button is pressed.  We want\n",
       "     * to control all of the cursor setting manually through the\n",
       "     * 'cursor' event from matplotlib */\n",
       "    event.preventDefault();\n",
       "    return false;\n",
       "}\n",
       "\n",
       "mpl.figure.prototype._key_event_extra = function(event, name) {\n",
       "    // Handle any extra behaviour associated with a key event\n",
       "}\n",
       "\n",
       "mpl.figure.prototype.key_event = function(event, name) {\n",
       "\n",
       "    // Prevent repeat events\n",
       "    if (name == 'key_press')\n",
       "    {\n",
       "        if (event.which === this._key)\n",
       "            return;\n",
       "        else\n",
       "            this._key = event.which;\n",
       "    }\n",
       "    if (name == 'key_release')\n",
       "        this._key = null;\n",
       "\n",
       "    var value = '';\n",
       "    if (event.ctrlKey && event.which != 17)\n",
       "        value += \"ctrl+\";\n",
       "    if (event.altKey && event.which != 18)\n",
       "        value += \"alt+\";\n",
       "    if (event.shiftKey && event.which != 16)\n",
       "        value += \"shift+\";\n",
       "\n",
       "    value += 'k';\n",
       "    value += event.which.toString();\n",
       "\n",
       "    this._key_event_extra(event, name);\n",
       "\n",
       "    this.send_message(name, {key: value,\n",
       "                             guiEvent: simpleKeys(event)});\n",
       "    return false;\n",
       "}\n",
       "\n",
       "mpl.figure.prototype.toolbar_button_onclick = function(name) {\n",
       "    if (name == 'download') {\n",
       "        this.handle_save(this, null);\n",
       "    } else {\n",
       "        this.send_message(\"toolbar_button\", {name: name});\n",
       "    }\n",
       "};\n",
       "\n",
       "mpl.figure.prototype.toolbar_button_onmouseover = function(tooltip) {\n",
       "    this.message.textContent = tooltip;\n",
       "};\n",
       "mpl.toolbar_items = [[\"Home\", \"Reset original view\", \"fa fa-home icon-home\", \"home\"], [\"Back\", \"Back to previous view\", \"fa fa-arrow-left icon-arrow-left\", \"back\"], [\"Forward\", \"Forward to next view\", \"fa fa-arrow-right icon-arrow-right\", \"forward\"], [\"\", \"\", \"\", \"\"], [\"Pan\", \"Pan axes with left mouse, zoom with right\", \"fa fa-arrows icon-move\", \"pan\"], [\"Zoom\", \"Zoom to rectangle\", \"fa fa-square-o icon-check-empty\", \"zoom\"], [\"\", \"\", \"\", \"\"], [\"Download\", \"Download plot\", \"fa fa-floppy-o icon-save\", \"download\"]];\n",
       "\n",
       "mpl.extensions = [\"eps\", \"jpeg\", \"pdf\", \"png\", \"ps\", \"raw\", \"svg\", \"tif\"];\n",
       "\n",
       "mpl.default_extension = \"png\";var comm_websocket_adapter = function(comm) {\n",
       "    // Create a \"websocket\"-like object which calls the given IPython comm\n",
       "    // object with the appropriate methods. Currently this is a non binary\n",
       "    // socket, so there is still some room for performance tuning.\n",
       "    var ws = {};\n",
       "\n",
       "    ws.close = function() {\n",
       "        comm.close()\n",
       "    };\n",
       "    ws.send = function(m) {\n",
       "        //console.log('sending', m);\n",
       "        comm.send(m);\n",
       "    };\n",
       "    // Register the callback with on_msg.\n",
       "    comm.on_msg(function(msg) {\n",
       "        //console.log('receiving', msg['content']['data'], msg);\n",
       "        // Pass the mpl event to the overridden (by mpl) onmessage function.\n",
       "        ws.onmessage(msg['content']['data'])\n",
       "    });\n",
       "    return ws;\n",
       "}\n",
       "\n",
       "mpl.mpl_figure_comm = function(comm, msg) {\n",
       "    // This is the function which gets called when the mpl process\n",
       "    // starts-up an IPython Comm through the \"matplotlib\" channel.\n",
       "\n",
       "    var id = msg.content.data.id;\n",
       "    // Get hold of the div created by the display call when the Comm\n",
       "    // socket was opened in Python.\n",
       "    var element = $(\"#\" + id);\n",
       "    var ws_proxy = comm_websocket_adapter(comm)\n",
       "\n",
       "    function ondownload(figure, format) {\n",
       "        window.open(figure.imageObj.src);\n",
       "    }\n",
       "\n",
       "    var fig = new mpl.figure(id, ws_proxy,\n",
       "                           ondownload,\n",
       "                           element.get(0));\n",
       "\n",
       "    // Call onopen now - mpl needs it, as it is assuming we've passed it a real\n",
       "    // web socket which is closed, not our websocket->open comm proxy.\n",
       "    ws_proxy.onopen();\n",
       "\n",
       "    fig.parent_element = element.get(0);\n",
       "    fig.cell_info = mpl.find_output_cell(\"<div id='\" + id + \"'></div>\");\n",
       "    if (!fig.cell_info) {\n",
       "        console.error(\"Failed to find cell for figure\", id, fig);\n",
       "        return;\n",
       "    }\n",
       "\n",
       "    var output_index = fig.cell_info[2]\n",
       "    var cell = fig.cell_info[0];\n",
       "\n",
       "};\n",
       "\n",
       "mpl.figure.prototype.handle_close = function(fig, msg) {\n",
       "    var width = fig.canvas.width/mpl.ratio\n",
       "    fig.root.unbind('remove')\n",
       "\n",
       "    // Update the output cell to use the data from the current canvas.\n",
       "    fig.push_to_output();\n",
       "    var dataURL = fig.canvas.toDataURL();\n",
       "    // Re-enable the keyboard manager in IPython - without this line, in FF,\n",
       "    // the notebook keyboard shortcuts fail.\n",
       "    IPython.keyboard_manager.enable()\n",
       "    $(fig.parent_element).html('<img src=\"' + dataURL + '\" width=\"' + width + '\">');\n",
       "    fig.close_ws(fig, msg);\n",
       "}\n",
       "\n",
       "mpl.figure.prototype.close_ws = function(fig, msg){\n",
       "    fig.send_message('closing', msg);\n",
       "    // fig.ws.close()\n",
       "}\n",
       "\n",
       "mpl.figure.prototype.push_to_output = function(remove_interactive) {\n",
       "    // Turn the data on the canvas into data in the output cell.\n",
       "    var width = this.canvas.width/mpl.ratio\n",
       "    var dataURL = this.canvas.toDataURL();\n",
       "    this.cell_info[1]['text/html'] = '<img src=\"' + dataURL + '\" width=\"' + width + '\">';\n",
       "}\n",
       "\n",
       "mpl.figure.prototype.updated_canvas_event = function() {\n",
       "    // Tell IPython that the notebook contents must change.\n",
       "    IPython.notebook.set_dirty(true);\n",
       "    this.send_message(\"ack\", {});\n",
       "    var fig = this;\n",
       "    // Wait a second, then push the new image to the DOM so\n",
       "    // that it is saved nicely (might be nice to debounce this).\n",
       "    setTimeout(function () { fig.push_to_output() }, 1000);\n",
       "}\n",
       "\n",
       "mpl.figure.prototype._init_toolbar = function() {\n",
       "    var fig = this;\n",
       "\n",
       "    var nav_element = $('<div/>');\n",
       "    nav_element.attr('style', 'width: 100%');\n",
       "    this.root.append(nav_element);\n",
       "\n",
       "    // Define a callback function for later on.\n",
       "    function toolbar_event(event) {\n",
       "        return fig.toolbar_button_onclick(event['data']);\n",
       "    }\n",
       "    function toolbar_mouse_event(event) {\n",
       "        return fig.toolbar_button_onmouseover(event['data']);\n",
       "    }\n",
       "\n",
       "    for(var toolbar_ind in mpl.toolbar_items){\n",
       "        var name = mpl.toolbar_items[toolbar_ind][0];\n",
       "        var tooltip = mpl.toolbar_items[toolbar_ind][1];\n",
       "        var image = mpl.toolbar_items[toolbar_ind][2];\n",
       "        var method_name = mpl.toolbar_items[toolbar_ind][3];\n",
       "\n",
       "        if (!name) { continue; };\n",
       "\n",
       "        var button = $('<button class=\"btn btn-default\" href=\"#\" title=\"' + name + '\"><i class=\"fa ' + image + ' fa-lg\"></i></button>');\n",
       "        button.click(method_name, toolbar_event);\n",
       "        button.mouseover(tooltip, toolbar_mouse_event);\n",
       "        nav_element.append(button);\n",
       "    }\n",
       "\n",
       "    // Add the status bar.\n",
       "    var status_bar = $('<span class=\"mpl-message\" style=\"text-align:right; float: right;\"/>');\n",
       "    nav_element.append(status_bar);\n",
       "    this.message = status_bar[0];\n",
       "\n",
       "    // Add the close button to the window.\n",
       "    var buttongrp = $('<div class=\"btn-group inline pull-right\"></div>');\n",
       "    var button = $('<button class=\"btn btn-mini btn-primary\" href=\"#\" title=\"Stop Interaction\"><i class=\"fa fa-power-off icon-remove icon-large\"></i></button>');\n",
       "    button.click(function (evt) { fig.handle_close(fig, {}); } );\n",
       "    button.mouseover('Stop Interaction', toolbar_mouse_event);\n",
       "    buttongrp.append(button);\n",
       "    var titlebar = this.root.find($('.ui-dialog-titlebar'));\n",
       "    titlebar.prepend(buttongrp);\n",
       "}\n",
       "\n",
       "mpl.figure.prototype._root_extra_style = function(el){\n",
       "    var fig = this\n",
       "    el.on(\"remove\", function(){\n",
       "\tfig.close_ws(fig, {});\n",
       "    });\n",
       "}\n",
       "\n",
       "mpl.figure.prototype._canvas_extra_style = function(el){\n",
       "    // this is important to make the div 'focusable\n",
       "    el.attr('tabindex', 0)\n",
       "    // reach out to IPython and tell the keyboard manager to turn it's self\n",
       "    // off when our div gets focus\n",
       "\n",
       "    // location in version 3\n",
       "    if (IPython.notebook.keyboard_manager) {\n",
       "        IPython.notebook.keyboard_manager.register_events(el);\n",
       "    }\n",
       "    else {\n",
       "        // location in version 2\n",
       "        IPython.keyboard_manager.register_events(el);\n",
       "    }\n",
       "\n",
       "}\n",
       "\n",
       "mpl.figure.prototype._key_event_extra = function(event, name) {\n",
       "    var manager = IPython.notebook.keyboard_manager;\n",
       "    if (!manager)\n",
       "        manager = IPython.keyboard_manager;\n",
       "\n",
       "    // Check for shift+enter\n",
       "    if (event.shiftKey && event.which == 13) {\n",
       "        this.canvas_div.blur();\n",
       "        // select the cell after this one\n",
       "        var index = IPython.notebook.find_cell_index(this.cell_info[0]);\n",
       "        IPython.notebook.select(index + 1);\n",
       "    }\n",
       "}\n",
       "\n",
       "mpl.figure.prototype.handle_save = function(fig, msg) {\n",
       "    fig.ondownload(fig, null);\n",
       "}\n",
       "\n",
       "\n",
       "mpl.find_output_cell = function(html_output) {\n",
       "    // Return the cell and output element which can be found *uniquely* in the notebook.\n",
       "    // Note - this is a bit hacky, but it is done because the \"notebook_saving.Notebook\"\n",
       "    // IPython event is triggered only after the cells have been serialised, which for\n",
       "    // our purposes (turning an active figure into a static one), is too late.\n",
       "    var cells = IPython.notebook.get_cells();\n",
       "    var ncells = cells.length;\n",
       "    for (var i=0; i<ncells; i++) {\n",
       "        var cell = cells[i];\n",
       "        if (cell.cell_type === 'code'){\n",
       "            for (var j=0; j<cell.output_area.outputs.length; j++) {\n",
       "                var data = cell.output_area.outputs[j];\n",
       "                if (data.data) {\n",
       "                    // IPython >= 3 moved mimebundle to data attribute of output\n",
       "                    data = data.data;\n",
       "                }\n",
       "                if (data['text/html'] == html_output) {\n",
       "                    return [cell, data, j];\n",
       "                }\n",
       "            }\n",
       "        }\n",
       "    }\n",
       "}\n",
       "\n",
       "// Register the function which deals with the matplotlib target/channel.\n",
       "// The kernel may be null if the page has been refreshed.\n",
       "if (IPython.notebook.kernel != null) {\n",
       "    IPython.notebook.kernel.comm_manager.register_target('matplotlib', mpl.mpl_figure_comm);\n",
       "}\n"
      ],
      "text/plain": [
       "<IPython.core.display.Javascript object>"
      ]
     },
     "metadata": {},
     "output_type": "display_data"
    },
    {
     "data": {
      "text/html": [
       "<img src=\"data:image/png;base64,iVBORw0KGgoAAAANSUhEUgAAB9AAAAPoCAYAAACGXmWqAAAebElEQVR4nOzBAQEAAACAkP6v7ggKAAAAAAAAAAAAAAAAAAAAAAAAAAAAAAAAAAAAAAAAAAAAAAAAAAAAAAAAAAAAAAAAAAAAAAAAAAAAAAAAAAAAAAAAAAAAAAAAAAAAAAAAAAAAAAAAAAAAAAAAAAAAAAAAAAAAAAAAAAAAAAAAAAAAAAAAAAAAAAAAAAAAAAAAAAAAAAAAAAAAAAAAAAAAAAAAAAAAAAAAAAAAAAAAAAAAAAAAAAAAAAAAAAAAAAAAAAAAAAAAAAAAAAAAAAAAAAAAAAAAAAAAAAAAAAAAAAAAAAAAAAAAAAAAAAAAAAAAAAAAAAAAAAAAAAAAAAAAAAAAAAAAAAAAAAAAAAAAAAAAAAAAAAAAAAAAAAAAAAAAAAAAAAAAAAAAAAAAAAAAAAAAAAAAAAAAAAAAAAAAAAAAAAAAAAAAAAAAAAAAAAAAAAAAAAAAAAAAAAAAAAAAAAAAAAAAAAAAAAAAAAAAAAAAAAAAAAAAAAAAAAAAAAAAAAAAAAAAAAAAAAAAAAAAAAAAAAAAAAAAAAAAAAAAAAAAAAAAAAAAAAAAAAAAAAAAAAAAAAAAAAAAAAAAAAAAAAAAAAAAAAAAAAAAAAAAAAAAAAAAAAAAAAAAAAAAAAAAAAAAAAAAAAAAAAAAAAAAAAAAAAAAAAAAAAAAAAAAAAAAAAAAAAAAAAAAAAAAAAAAAAAAAAAAAAAAAAAAAAAAAAAAAAAAAAAAAAAAAAAAAAAAAAAAAAAAAAAAAAAAAAAAAAAAAAAAAAAAAAAAAAAAAAAAAAAAAAAAAAAAAAAAAAAAAAAAAAAAAAAAAAAAAAAAAAAAAAAAAAAAAAAAAAAAAAAAAAAAAAAAAAAAAAAAAAAAAAAAAAAAAAAAAAAAAAAAAAAAAAAAAAAAAAAAAAAAAAAAAAAAAAAAAAAAAAAAAAAAAAAAAAAAAAAAAAAAAAAAAAAAAAAAAAAAAAAAAAAAAAAAAAAAAAAAAAAAAAAAAAAAAAAAAAAAAAAAAAAAAAAAAAAAAAAAAAAAAAAAAAAAAAAAAAAAAAAAAAAAAAAAAAAAAAAAAAAAAAAAAAAAAAAAAAAAAAAAAAAAAAAAAAAAAAAAAAAAAAAAAAAAAAAAAAAAAAAAAAAAAAAAAAAAAAAAAAAAAAAAAAAAAAAAAAAAAAAAAAAAAAAAAAAAAAAAAAAAAAAAAAAAAAAAAAAAAAAAAAAAAAAAAAAAAAAAAAAAAAAAAAAAAAAAAAAAAAAAAAAAAAAAAAAAAAAAAAAAAAAAAAAAAAAAAAAAAAAAAAAAAAAAAAAAAAAAAAAAAAAAAAAAAAAAAAAAAAAAAAAAAAAAAAAAAAAAAAAAAAAAAAAAAAAAAAAAAAAAAAAAAAAAAAAAAAAAAAAAAAAAAAAAAAAAAAAAAAAAAAAAAAAAAAAAAAAAAAAAAAAAAAAAAAAAAAAAAAAAAAAAAAAAAAAAAAAAAAAAAAAAAAAAAAAAAAAAAAAAAAAAAAAAAAAAAAAAAAAAAAAAAAAAAAAAAAAAAAAAAAAAAAAAAAAAAAAAAAAAAAAAAAAAAAAAAAAAAAAAAAAAAAAAAAAAAAAAAAAAAAAAAAAAAAAAAAAAAAAAAAAAAAAAAAAAAAAAAAAAAAAAAAAAAAAAAAAAAAAAAAAAAAAAAAAAAAAAAAAAAAAAAAAAAAAAAAAAAAAAAAAAAAAAAAAAAAAAAAAAAAAAAAAAAAAAAAAAAAAAAAAAAAAAAAAAAAAAAAAAAAAAAAAAAAAAAAAAAAAAAAAAAAAAAAAAAAAAAAAAAAAAAAAAAAAAAAAAAAAAAAAAAAAAAAAAAAAAAAAAAAAAAAAAAAAAAAAAAAAAAAAAAAAAAAAAAAAAAAAAAAAAAAAAAAAAAAAAAAAAAAAAAAAAAAAAAAAAAAAAAAAAAAAAAAAAAAAAAAAAAAAAAAAAAAAAAAAAAAAAAAAAAAAAAAAAAAAAAAAAAAAAAAAAAAAAAAAAAAAAAAAAAAAAAAAAAAAAAAAAAAAAAAAAAAAAAAAAAAAAAAAAAAAAAAAAAAAAAAAAAAAAAAAAAAAAAAAAAAAAAAAAAAAAAAAAAAAAAAAAAAAAAAAAAAAAAAAAAAAAAAAAAAAAAAAAAAAAAAAAAAAAAAAAAAAAAAAAAAAAAAAAAAAAAAAAAAAAAAAAAAAAAAAAAAAAAAAAAAAAAAAAAAAAAAAAAAAAAAAAAAAAAAAAAAAAAAAAAAAAAAAAAAAAAAAAAAAAAAAAAAAAAAAAAAAAAAAAAAAAAAAAAAAAAAAAAAAAAAAAAAAAAAAAAAAAAAAAAAAAAAAAAAAAAAAAAAAAAAAAAAAAAAAAAAAAAAAAAAAAAAAAAAAAAAAAAAAAAAAAAAAAAAAAAAAAAAAAAAAAAAAAAAAAAAAAAAAAAAAAAAAAAAAAAAAAAAAAAAAAAAAAAAAAAAAAAAAAAAAAAAAAAAAAAAAAAAAAAAAAAAAAAAAAAAAAAAAAAAAAAAAAAAAAAAAAAAAAAAAAAAAAAAAAAAAAAAAAAAAAAAAAAAAAAAAAAAAAAAAAAAAAAAAAAAAAAAAAAAAAAAAAAAAAAAAAAAAAAAAAAAAAAAAAAAAAAAAAAAAAAAAAAAAAAAAAAAAAAAAAAAAAAAAAAAAAAAAAAAAAAAAAAAAAAAAAAAAAAAAAAAAAAAAAAAAAAAAAAAAAAAAAAAAAAAAAAAAAAAAAAAAAAAAAAAAAAAAAAAAAAAAAAAAAAAAAAAAAAAAAAAAAAAAAAAAAAAAAAAAAAAAAAAAAAAAAAAAAAAAAAAAAAAAAAAAAAAAAAAAAAAAAAAAAAAAAAAAAAAAAAAAAAAAAAAAAAAAAAAAAAAAAAAAAAAAAAAAAAAAAAAAAAAAAAAAAAAAAAAAAAAAAAAAAAAAAAAAAAAAAAAAAAAAAAAAAAAAAAAAAAAAAAAAAAAAAAAAAAAAAAAAAAAAAAAAAAAAAAAAAAAAAAAAAAAAAAAAAAAAAAAAAAAAAAAAAAAAAAAAAAAAAAAAAAAAAAAAAAAAAAAAAAAAAAAAAAAAAAAAAAAAAAAAAAAAAAAAAAAAAAAAAAAAAAAAAAAAAAAAAAAAAAAAAAAAAAAAAAAAAAAAAAAAAAAAAAAAAAAAAAAAAAAAAAAAAAAAAAAAAAAAAAAAAAAAAAAAAAAAAAAAAAAAAAAAAAAAAAAAAAAAAAAAAAAAAAAAAAAAAAAAAAAAAAAAAAAAAAAAAAAAAAAAAAAAAAAAAAAAAAAAAAAAAAAAAAAAAAAAAAAAAAAAAAAAAAAAAAAAAAAAAAAAAAAAAAAAAAAAAAAAAAAAAAAAAAAAAAAAAAAAAAAAAAAAAAAAAAAAAAAAAAAAAAAAAAAAAAAAAAAAAAAAAAAAAAAAAAAAAAAAAAAAAAAAAAAAAAAAAAAAAAAAAAAAAAAAAAAAAAAAAAAAAAAAAAAAAAAAAAAAAAAAAAAAAAAAAAAAAAAAAAAAAAAAAAAAAAAAAAAAAAAAAAAAAAAAAAAAAAAAAAAAAAAAAAAAAAAAAAAAAAAAAAAAAAAAAAAAAAAAAAAAAAAAAAAAAAAAAAAAAAAAAAAAAAAAAAAAAAAAAAAAAAAAAAAAAAAAAAAAAAAAAAAAAAAAAAAAAAAAAAAAAAAAAAAAAAAAAAAAAAAAAAAAAAAAAAAAAAAAAAAAAAAAAAAAAAAAAAAAAAAAAAAAAAAAAAAAAAAAAAAAAAAAAAAAAAAAAAAAAAAAAAAAAAAAAAAAAAAAAAAAAAAAAAAAAAAAAAAAAAAAAAAAAAAAAAAAAAAAAAAAAAAAAAAAAAAAAAAAAAAAAAAAAAAAAAAAAAAAAAAAAAAAAAAAAAAAAAAAAAAAAAAAAAAAAAAAAAAAAAAAAAAAAAAAAAAAAAAAAAAAAAAAAAAAAAAAAAAAAAAAAAAAAAAAAAAAAAAAAAAAAAAAAAAAAAAAAAAAAAAAAAAAAAAAAAAAAAAAAAAAAAAAAAAAAAAAAAAAAAAAAAAAAAAAAAAAAAAAAAAAAAAAAAAAAAAAAAAAAAAAAAAAAAAAAAAAAAAAAAAAAAAAAAAAAAAAAAAAAAAAAAAAAAAAAAAAAAAAAAAAAAAAAAAAAAAAAAAAAAAAAAAAAAAAAAAAAAAAAAAAAAAAAAAAAAAAAAAAAAAAAAAAAAAAAAAAAAAAAAAAAAAAAAAAAAAAAAAAAAAAAAAAAAAAAAAAAAAAAAAAAAAAAAAAAAAAAAAAAAAAAAAAAAAAAAAAAAAAAAAAAAAAAAAAAAAAAAAAAAAAAAAAAAAAAAAAAAAAAAAAAAAAAAAAAAAAAAAAAAAAAAAAAAAAAAAAAAAAAAAAAAAAAAAAAAAAAAAAAAAAAAAAAAAAAAAAAAAAAAAAAAAAAAAAAAAAAAAAAAAAAAAAAAAAAAAAAAAAAAAAAAAAAAAAAAAAAAAAAAAAAAAAAAAAAAAAAAAAAAAAAAAAAAAAAAAAAAAAAAAAAAAAAAAAAAAAAAAAAAAAAAAAAAAAAAAAAAAAAAAAAAAAAAAAAAAAAAAAAAAAAAAAAAAAAAAAAAAAAAAAAAAAAAAAAAAAAAAAAAAAAAAAAAAAAAAAAAAAAAAAAAAAAAAAAAAAAAAAAAAAAAAAAAAAAAAAAAAAAAAAAAAAAAAAAAAAAAAAAAAAAAAAAAAAAAAAAAAAAAAAAAAAAAAAAAAAAAAAAAAAAAAAAAAAAAAAAAAAAAAAAAAAAAAAAAAAAAAAAAAAAAAAAAAAAAAAAAAAAAAAAAAAAAAAAAAAAAAAAAAAAAAAAAAAAAAAAAAAAAAAAAAAAAAAAAAAAAAAAAAAAAAAAAAAAAAAAAAAAAAAAAAAAAAAAAAAAAAAAAAAAAAAAAAAAAAAAAAAAAAAAAAAAAAAAAAAAAAAAAAAAAAAAAAAAAAAAAAAAAAAAAAAAAAAAAAAAAAAAAAAAAAAAAAAAAAAAAAAAAAAAAAAAAAAAAAAAAAAAAAAAAAAAAAAAAAAAAAAAAAAAAAAAAAAAAAAAAAAAAAAAAAAAAAAAAAAAAAAAAAAAAAAAAAAAAAAAAAAAAAAAAAAAAAAAAAAAAAAAAAAAAAAAAAAAAAAAAAAAAAAAAAAAAAAAAAAAAAAAAAAAAAAAAAAAAAAAAAAAAAAAAAAAAAAAAAAAAAAAAAAAAAAAAAAAAAAAAAAAAAAAAAAAAAAAAAAAAAAAAAAAAAAAAAAAAAAAAAAAAAAAAAAAAAAAAAAAAAAAAAAAAAAAAAAAAAAAAAAAAAAAAAAAAAAAAAAAAAAAAAAAAAAAAAAAAAAAAAAAAAAAAAAAAAAAAAAAAAAAAAAAAAAAAAAAAAAAAAAAAAAAAAAAAAAAAAAAAAAAAAAAAAAAAAAAAAAAAAAAAAAAAAAAAAAAAAAAAAAAAAAAAAAAAAAAAAAAAAAAAAAAAAAAAAAAAAAAAAAAAAAAAAAAAAAAAAAAAAAAAAAAAAAAAAAAAAAAAAAAAACA24NDAgAAAABB/197wwAAAAAAAAAAAAAAAAAAAAAAAAAAAAAAAAAAAAAAAAAAAAAAAAAAAAAAAAAAAAAAAAAAAAAAAAAAAAAAAAAAAAAAAAAAAAAAAAAAAAAAAAAAAAAAAAAAAAAAAAAAAAAAAAAAAAAAAAAAAAAAAAAAAAAAAAAAAAAAAAAAAAAAAAAAAAAAAAAAAAAAAAAAAAAAAAAAAAAAAAAAAAAAAAAAAAAAAAAAAAAAAAAAAAAAAAAAAAAAAAAAAAAAAAAAAAAAAAAAAAAAAAAAAAAAAAAAAAAAAAAAAAAAAAAAAAAAAAAAAAAAAAAAAAAAAAAAAAAAAAAAAAAAAAAAAAAAAAAAAAAAAAAAAAAAAAAAAAAAAAAAAAAAAAAAAAAAAAAAAAAAAAAAAAAAAAAAAAAAAAAAAAAAAAAAAAAAAAAAAAAAAAAAAAAAAAAAAAAAAAAAAAAAAAAAAAAAAAAAAAAAAAAAAAAAAAAAAAAAAAAAAAAAAAAAAAAAAAAAAAAAAAAAAAAAAAAAAAAAAAAAAAAAAAAAAAAAAAAAAAAAAAAAAAAAAAAAAAAAAAAAAAAAAAAAAAAAAAAAAAAAAAAAAAAAAAAAAAAAAAAAAAAAAAAAAAAAAAAAAAAAAAAAAAAAAAAAAAAAAAAAAAAAAAAAAAAAAAAAAAAAAAAAAAAAAAAAAAAAAAAAAAAAAAAAAAAAAAAAAAAAAAAAAAAAAAAAAAAAAAAAAAAAAAAAAAAAAAAAAAAAAAAAAAAAAAAAAAAAAAAAAAAAAAAAAAAAAAAAAAAAAAAAAAAAAAAAAAAAAAAAAAAAAAAAAAAAAAAAAAAAAAAAAAAAAAAAAAAAAAAAAAAAAAAAAAAAAAAAAAAAAAAAAAAAAAAAAAAAAAAAAAAAAAAAAAAAAAAAAAAAAAAAAAAAAAAAAAAAAAAAAAAAAAAAAAAAAAAAAAAAAAAAAAAAAAAAAAAAAAAAAAAAAAAAAAAAAAAAAAAAAAAAAAAAAAAAAAAAAAAAAAAAAAAAAAAAAAAAAAAAAAAAAAAAAAAAAAAAAAAAAAAAAAAAAAAAAAAAAAAAAAAAAAAAAAAAAAAAAAAAAAAAAAAAAAAAAAAAAAAAAAAAAAAAAAAAAAAAAAAAAAAAAAAAAAAAAAAAAAAAAAAAAAAAAAAAAAAAAAAAAAAAAAAAAAAAAAAAAAAAAAAAAAAAAAAAAAAAAAAAAAAAAAAAAAAAAAAAAAAAAAAAAAAAAAAAAAAAAAAAAAAAAAAAAAAAAAAAAAAAAAAAAAAAAAAAAAAAAAAAAAAAAAAAAAAAAAAAAAAAAAAAAAAAAAAAAAAAAAAAAAAAAAAAAAAAAAAAAAAAAAAAAAAAAAAAAAAAAAAAAAAAAAAAAAAAAAAAAAAAAAAAAAAAAAAAAAAAAAAAAAAAAAAAAAAAAAAAAAAAAAAAAAAAAAAAAAAAAAAAAAAAAAAAAAAAAAAAAAAAAAAAAAAAAAAAAAAAAAAAAAAAAAAAAAAAAAAAAAAAAAAAAAAAAAAAAAAAAAAAAAAAAAAAAAAAAAAAAAAAAAAAAAAAAAAAAAAAAAAAAAAAAAAAAAAAAAAAAAAAAAAAAAAAAAAAAAAAAAAAAAAAAAAAAAAAAAAAAAAAAAAAAAAAAAAAAAAAAAAAAAAAAAAAAAAAAAAAAAAAAAAAAAAAAAAAAAAAAAAAAAAAAAAAAAAAAAAAAAAAAAAAAAAAAAAAAAAAAAAAAAAAAAAAAAAAAAAAAAAAAAAAAAAAAAAAAAAAAAAAAAAAAAAAAAAAAAAAAAAAAAAAAAAAAAAAAAAAAAAAAAAAAAAAAAAAAAAAAAAAAAAAAAAAAAAAAAAAAAAAAAAAAAAAAAAAAAAAAAAAAAAAAAAAAAAAAAAAAAAAAAAAAAAAAAAAAAAAAAAAAAAAAAAAAAAAAAAAAAAAAAAAAAAAAAAAAAAAAAAAAAAAAAAAAAAAAAAAAAAAAAAAAAAAAAAAAAAAAAAAAAAAAAAAAAAAAAAAAAAAAAAAAAAAAAAAAAAAAAAAAAAAAAAAAAAAAAAAAAAAAAAAAAAAAAAAAAAAAAAAAAAAAAAAAAAAAAAAAAAAAAAAAAAAAAAAAAAAAAAAAAAAAAAAAAAAAAAAAAAAAAAAAAAAAAAAAAAAAAAAAAAAAAAAAAAAAAAAAAAAAAAAAAAAAAAAAAAAAAAAAAAAAAAAAAAAAAAAAAAAAAAAAAAAAAAAAAAAAAAAAAAAAAAAAAAAAAAAAAAAAAAAAAAAAAAAAAAAAAAAAAAAAAAAAAAAAAAAAAAAAAAAAAAAAAAAAAAAAAAAAAAAAAAAAAAAAAAAAAAAAAAAAAAAAAAAAAAAAAAAAAAAAAAAAAAAAAAAAAAAAAAAAAAAAAAAAAAAAAAAAAAAAAAAAAAAAAAAAAAAAAAAAAAAAAAAAAAAAAAAAAAAAAAAAAAAAAAAAAAAAAAAAAAAAAAAAAAAAAAAAAAAAAAAAAAAAAAAAAAAAAAAAAAAAAAAAAAAAAAAAAAAAAAAAAAAAAAAAAAAAAAAAAAAAAAAAAAAAAAAAAAAAAAAAAAAAAAAAAAAAAAAAAAAAAAAAAAAAAAAAAAAAAAAAAAAAAAAAAAAAAAAAAAAAAAAAAAAAAAAAAAAAAAAAAAAAAAAAAAAAAAAAAAAAAAAAAAAAAAAAAAAAAAAAAAAAAAAAAAAAAAAAAAAAAAAAAAAAAAAAAAAAAAAAAAAAAAAAAAAAAAAAAAAAAAAAAAAAAAAAAAAAAAAAAAAAAAAAAAAAAAAAAAAAAAAAAAAAAAAAAAAAAAAAAAAAAAAAAAAAAAAAAAAAAAAAAAAAAAAAAAAAAAAAAAAAAAAAAAAAAAAAAAAAAAAAAAAAAAAAAAAAAAAAAAAAAAAAAAAAAAAAAAAAAAAAAAAAAAAAAAAAAAAAAAAAAAAAAAAAAAAAAAAAAAAAAAAAAAAAAAAAAAAAAAAAAAAAAAAAAAAAAAAAAAAAAAAAAAAAAAAAAAAAAAAAAAAAAAAAAAAAAAAAAAAAAAAAAAAAAAAAAAAAAAAAAAAAAAAAAAAAAAAAAAAAAAAAAAAAAAAAAAAAAAAAAAAAAAAAAAAAAAAAAAAAAAAAAAAAAAAAAAAAAAAAAAAAAAAAAAAAAAAAAAAAAAAAAAAAAAAAAAAAAAAAAAAAAAAAAAAAAAAAAAAAAAAAAAAAAAAAAAAAAAAAAAAAAAAAAAAAAAAAAAAAAAAAAAAAAAAAAAAAAAAAAAAAAAAAAAAAAAAAAAAAAAAAAAAAAAAAAAAAAAAAAAAAAAAAAAAAAAAAAAAAAAAAAAAAAAAAAAAAAAAAAAAAAAAAAAAAAAAAAAAAAAAAAAAAAAAAAAAAAAAAAAAAAAAAAAAAAAAAAAAAAAAAAAAAAAAAAAAAAAAAAAAAAAAAAAAAAAAAAAAAAAAAAAAAAAAAAAAAAAAAAAAAAAAAAAAAAAAAAAAAAAAAAAAAAAAAAAAAAAAAAAAAAAAAAAAAAAAAAAAAAAAAAAAAAAAAAAAAAAAAAAAAAAAAAAAAAAAAAAAAAAAAAAAAAAAAAAAAAAAAAAAAAAAAAAAAAAAAAAAAAAAAAAAAAAAAAAAAAAAAAAAAAAAAAAAAAAAAAAAAAAAAAAAAAAAAAAAAAAAAAAAAAAAAAAAAAAAAAAAAAAAAAAAAAAAAAAAAAAAAAAAAAAAAAAAAAAAAAAAAAAAAAAAAAAAAAAAAAAAAAAAAAAAAAAAAAAAAAAAAAAAAAAAAAAAAAAAAAAAAAAAAAAAAAAAAAAAAAAAAAAAAAAAAAAAAAAAAAAAAAAAAAAAAAAAAAAAAAAAAAAAAAAAAAAAAAAAAAAAAAAAAAAAAAAAAAAAAAAAAAAAAAAAAAAAAAAAAAAAAAAAAAAAAAAAAAAAAAAAAAAAAAAAAAAAAAAAAAAAAAAAAAAAAAAAAAAAAAAAAAAAAAAAAAAAAAAAAAAAAAAAAAAAAAAAAAAAAAAAAAAAAAAAAAAAAAAAAAAAAAAAAAAAAAAAAAAAAAAAAAAAAAAAAAAAAAAAAAAAAAAAAAAAAAAAAAAAAAAAAAAAAAAAAAAAAAAAAAAAAAAAAAAAAAAAAAAAAAAAAAAAAAAAAAAAAAAAAAAAAAAAAAAAAAAAAAAAAAAAAAAAAAAAAAAAAAAAAAAAAAAAAAAAAAAAAAAAAAAAAAAAAAAAAAAAAAAAAAAAAAAAAAAAAAAAAAAAAAAAAAAAAAAAAAAAAAAAAAAAAAAAAAAAAAAAAAAAAAAAAAAAAAAAAAAAAAAAAAAAAAAAAAAAAAAAAAAAAAAAAAAAAAAAAAAAAAAAAAAAAAAAAAAAAAAAAAAAAAAAAAAAAAAAAAAAAAAAAAAAAAAAAAAAAAAAAAAAAAAAAAAAAAAAAAAAAAAAAAAAAAAAAAAAAAAAAAAAAAAAAAAAAAAAAAAAAAAAAAAAAAAAAAAAAAAAAAAAAAAAAAAAAAAAAAAAAAAAAAAAAAAAAAAAAAAAAAAAAAAAAAAAAAAAAAAAAAAAAAAAAAAAAAAAAAAAAAAAAAAAAAAAAAAAAAAAAAAAAAAAAAAAAAAAAAAAAAAAAAAAAAAAAAAAAAAAAAAAAAAAAAAAAAAAAAAAAAAAAAAAAAAAAAAAAAAAAAAAAAAAAAAAAAAAAAAAAAAAAAAAAAAAAAAAAAAAAAAAAAAAAAAAAAAAAAAAAAAAAAAAAAAAAAAAAAAAAAAAAAAAAAAAAAAAAAAAAAAAAAAAAAAAAAAAAAAAAAAAAAAAAAAAAAAAAAAAAAAAAAAAAAAAAAAAAAAAAAAAAAAAAAAAAAAAAAAAAAAAAAAAAAAAAAAAAAAAAAAAAAAAAAAAAAAAAAAAAAAAAAAAAAAAAAAAAAAAAAAAAAAAAADAXR0OAAETEuNqAAAAAElFTkSuQmCC\" width=\"1000\">"
      ],
      "text/plain": [
       "<IPython.core.display.HTML object>"
      ]
     },
     "metadata": {},
     "output_type": "display_data"
    }
   ],
   "source": [
    "dual_train_plots(results.index,\n",
    "                 results.cost, results.val,\n",
    "                 results.cost, results.val)\n",
    "plt.tight_layout()\n",
    "plt.savefig(str(output / f'{name}_stats_a.png'))"
   ]
  },
  {
   "cell_type": "code",
   "execution_count": 22,
   "metadata": {},
   "outputs": [],
   "source": [
    "quit()"
   ]
  },
  {
   "cell_type": "code",
   "execution_count": null,
   "metadata": {},
   "outputs": [],
   "source": []
  },
  {
   "cell_type": "code",
   "execution_count": null,
   "metadata": {},
   "outputs": [],
   "source": []
  }
 ],
 "metadata": {
  "kernelspec": {
   "display_name": "goofit-june2020",
   "language": "python",
   "name": "goofit-june2020"
  },
  "language_info": {
   "codemirror_mode": {
    "name": "ipython",
    "version": 3
   },
   "file_extension": ".py",
   "mimetype": "text/x-python",
   "name": "python",
   "nbconvert_exporter": "python",
   "pygments_lexer": "ipython3",
   "version": "3.7.6"
  }
 },
 "nbformat": 4,
 "nbformat_minor": 2
}
