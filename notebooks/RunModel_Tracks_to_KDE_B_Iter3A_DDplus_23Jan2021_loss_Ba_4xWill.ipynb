{
 "cells": [
  {
   "cell_type": "code",
   "execution_count": 1,
   "metadata": {},
   "outputs": [],
   "source": [
    "##%matplotlib widget\n",
    "## with %matplotlib notebook: seems to require ipympl as part of environment, either\n",
    "## part of the conda environment or \"pip install ipympl\"\n",
    "## otherwise, does not show ANY plots in note\"book, plt.savefig() works\n",
    "%matplotlib notebook  \n",
    "##%matplotlib inline    ## --plt.savefig()  works, but re-sizing does NOT\n"
   ]
  },
  {
   "cell_type": "markdown",
   "metadata": {},
   "source": [
    "This notebook is the second attempt to read in track information and use it to predict the KDE used as input to PvFinder. This time, we are reading in poca KDEs rather than the original KDEs. \n",
    "\n",
    "collectdata_kde_C.py uses poca_z, poca_x, poca_y, major_axis_x, major_axis_y, and major_axis_z as the six track parameters (for the moment)\n"
   ]
  },
  {
   "cell_type": "markdown",
   "metadata": {},
   "source": [
    "Check the current GPU usage. Please try to be nice!"
   ]
  },
  {
   "cell_type": "code",
   "execution_count": 2,
   "metadata": {},
   "outputs": [
    {
     "name": "stdout",
     "output_type": "stream",
     "text": [
      "Sat Jan 23 12:59:24 2021       \r\n",
      "+-----------------------------------------------------------------------------+\r\n",
      "| NVIDIA-SMI 450.36.06    Driver Version: 450.36.06    CUDA Version: 11.0     |\r\n",
      "|-------------------------------+----------------------+----------------------+\r\n",
      "| GPU  Name        Persistence-M| Bus-Id        Disp.A | Volatile Uncorr. ECC |\r\n",
      "| Fan  Temp  Perf  Pwr:Usage/Cap|         Memory-Usage | GPU-Util  Compute M. |\r\n",
      "|                               |                      |               MIG M. |\r\n",
      "|===============================+======================+======================|\r\n",
      "|   0  GeForce RTX 208...  On   | 00000000:18:00.0 Off |                  N/A |\r\n",
      "| 29%   35C    P8    38W / 250W |      1MiB / 11019MiB |      0%      Default |\r\n",
      "|                               |                      |                  N/A |\r\n",
      "+-------------------------------+----------------------+----------------------+\r\n",
      "|   1  GeForce RTX 208...  On   | 00000000:3B:00.0 Off |                  N/A |\r\n",
      "| 29%   35C    P8    39W / 250W |     61MiB / 11019MiB |      0%      Default |\r\n",
      "|                               |                      |                  N/A |\r\n",
      "+-------------------------------+----------------------+----------------------+\r\n",
      "                                                                               \r\n",
      "+-----------------------------------------------------------------------------+\r\n",
      "| Processes:                                                                  |\r\n",
      "|  GPU   GI   CI        PID   Type   Process name                  GPU Memory |\r\n",
      "|        ID   ID                                                   Usage      |\r\n",
      "|=============================================================================|\r\n",
      "|    1   N/A  N/A      3736      G   /usr/bin/X                         33MiB |\r\n",
      "|    1   N/A  N/A      3790      G   /usr/bin/gnome-shell               25MiB |\r\n",
      "+-----------------------------------------------------------------------------+\r\n"
     ]
    }
   ],
   "source": [
    "!nvidia-smi"
   ]
  },
  {
   "cell_type": "markdown",
   "metadata": {},
   "source": [
    "> **WARNING**: The card numbers here are *not* the same as in CUDA. You have been warned."
   ]
  },
  {
   "cell_type": "markdown",
   "metadata": {},
   "source": [
    "This notebook is first attempt to read in track information and use it to predict the KDE used as input to PvFinder.\n"
   ]
  },
  {
   "cell_type": "markdown",
   "metadata": {},
   "source": [
    "## Imports"
   ]
  },
  {
   "cell_type": "code",
   "execution_count": 3,
   "metadata": {},
   "outputs": [],
   "source": [
    "import matplotlib.pyplot as plt\n",
    "import numpy as np\n",
    "import time\n",
    "import torch\n",
    "import pandas as pd\n",
    "\n",
    "# Python 3 standard library\n",
    "from pathlib import Path\n",
    "\n",
    "##from torchsummary import summary"
   ]
  },
  {
   "cell_type": "markdown",
   "metadata": {},
   "source": [
    "### Set up local parameters"
   ]
  },
  {
   "cell_type": "code",
   "execution_count": 4,
   "metadata": {},
   "outputs": [],
   "source": [
    "n_epochs = 50\n",
    "\n",
    "# Name is the output file name\n",
    "\n",
    "\n",
    "\n",
    "\n",
    "\n",
    "folder = '23Jan_DDplus_KDE_B_loss_Ba_iter3A_floatAll_50epochs_3em5_4xwill'\n",
    "name   = folder\n",
    "\n",
    "# Make an output folder named \"name\" (change if you want)\n",
    "\n",
    "## Special instructions for those working on goofy at UC\n",
    "## Please be very careful to make sure that your folder\n",
    "## does not live in a subdirectory of your home directory\n",
    "## this disk has very little capacity. Instead, use \n",
    "## a subdirectory in /share/lazy with a symbolic link to\n",
    "## it in this (the notebooks) subdirectory\n",
    "folder = 'ML/' + folder\n",
    "output = Path(folder)\n",
    "\n",
    "\n",
    "# Size of batches\n",
    "batch_size = 48 ## batch_size = 24 ---> 4763MiB / 12066MiB on Titan V\n",
    "# How fast to learn\n",
    "learning_rate = 3e-5"
   ]
  },
  {
   "cell_type": "markdown",
   "metadata": {},
   "source": [
    "Make the output directory if it does not exist:"
   ]
  },
  {
   "cell_type": "code",
   "execution_count": 5,
   "metadata": {},
   "outputs": [],
   "source": [
    "output.mkdir(exist_ok=True)"
   ]
  },
  {
   "cell_type": "markdown",
   "metadata": {},
   "source": [
    "## Get the helper functions\n",
    "\n",
    "Add the directory with the model\n",
    "definitions to the path so we can import from it:\n",
    "\n",
    "> When you type `import X`,\n",
    "Python searches `sys.path` for a python\n",
    "file named `X.py` to import. So we need to add the model directory to the path."
   ]
  },
  {
   "cell_type": "code",
   "execution_count": 6,
   "metadata": {
    "scrolled": true
   },
   "outputs": [],
   "source": [
    "# From model/collectdata.py\n",
    "##from model.collectdata_kde_B import collect_t2kde_data\n",
    "## collectdata_kde_C should use the new poca KDE rather than the original kernel KDE\n",
    "from model.collectdata_kdeB_Ellipsoids import collect_t2kde_data\n",
    "\n",
    "\n",
    "# From model/loss.py\n",
    "##from loss import Loss\n",
    "## kde_loss_D includes botha ratio term and a chisq term, 98% ave_chisq\n",
    "## kde_loss_E adds a chi^4 term to the kde_loss_D return value\n",
    "## this is intended to emphasize the importance of values significantly different than zero\n",
    "from model.kde_loss_Ba import Loss\n",
    "\n",
    "##  TracksToKDE_Ellipsoids_SevenLayerCake has 7 hidden layers producing the 4000-bin KDE historgram\n",
    "##  It takes 9 input features (pocca centers + (A,B,C,D,E,F) . \n",
    "from model.models_kde import TracksToKDE_Ellipsoids_DDplus as Model\n",
    "\n",
    "\n",
    "from model.training_kde import trainNet, select_gpu, Results\n",
    "from model.plots import dual_train_plots, replace_in_ax"
   ]
  },
  {
   "cell_type": "code",
   "execution_count": 7,
   "metadata": {},
   "outputs": [],
   "source": [
    "# This gets built up during the run - do not rerun this cell\n",
    "results = pd.DataFrame([], columns=Results._fields)"
   ]
  },
  {
   "cell_type": "markdown",
   "metadata": {},
   "source": [
    "Set up Torch device configuration. All tensors and model parameters need to know where to be put.\n",
    "This takes a BUS ID number: The BUS ID is the same as the listing at the top of this script."
   ]
  },
  {
   "cell_type": "code",
   "execution_count": 8,
   "metadata": {},
   "outputs": [
    {
     "name": "stdout",
     "output_type": "stream",
     "text": [
      "1 available GPUs (initially using device 0):\n",
      "  0 GeForce RTX 2080 Ti\n"
     ]
    }
   ],
   "source": [
    "device = select_gpu(1)\n",
    "##device = \"cpu\""
   ]
  },
  {
   "cell_type": "markdown",
   "metadata": {},
   "source": [
    "## Loading data\n",
    "\n",
    "Load the dataset, split into parts, then move to device (see `collectdata.py` in the `../model` directory)"
   ]
  },
  {
   "cell_type": "markdown",
   "metadata": {},
   "source": [
    "# Preparing the model"
   ]
  },
  {
   "cell_type": "markdown",
   "metadata": {},
   "source": [
    "Prepare a model, use multiple GPUs if they are VISIBLE, and move the model to the device."
   ]
  },
  {
   "cell_type": "code",
   "execution_count": 9,
   "metadata": {
    "scrolled": true
   },
   "outputs": [],
   "source": [
    "##print(\"Let's use\", torch.cuda.device_count(), \"GPUs!\")\n",
    "##if torch.cuda.device_count() > 1:\n",
    "##    model = torch.nn.DataParallel(model)"
   ]
  },
  {
   "cell_type": "code",
   "execution_count": 10,
   "metadata": {},
   "outputs": [
    {
     "name": "stdout",
     "output_type": "stream",
     "text": [
      "ct, child =  0    Linear(in_features=9, out_features=50, bias=True)\n",
      "ct, child =  1    Linear(in_features=50, out_features=50, bias=True)\n",
      "ct, child =  2    Linear(in_features=50, out_features=50, bias=True)\n",
      "ct, child =  3    Linear(in_features=50, out_features=50, bias=True)\n",
      "ct, child =  4    Linear(in_features=50, out_features=50, bias=True)\n",
      "ct, child =  5    Linear(in_features=50, out_features=50, bias=True)\n",
      "ct, child =  6    Linear(in_features=50, out_features=50, bias=True)\n",
      "ct, child =  7    Linear(in_features=50, out_features=50, bias=True)\n",
      "ct, child =  8    Linear(in_features=50, out_features=50, bias=True)\n",
      "ct, child =  9    Linear(in_features=50, out_features=50, bias=True)\n",
      "ct, child =  10    Linear(in_features=50, out_features=50, bias=True)\n",
      "ct, child =  11    Linear(in_features=50, out_features=16000, bias=True)\n",
      "ct, child =  12    Conv1d(4, 25, kernel_size=(25,), stride=(1,), padding=(12,))\n",
      "ct, child =  13    Conv1d(25, 1, kernel_size=(5,), stride=(1,), padding=(2,))\n",
      "ct, child =  14    Linear(in_features=4000, out_features=4000, bias=True)\n",
      "ct, child =  15    Conv1d(25, 1, kernel_size=(15,), stride=(1,), padding=(7,))\n",
      "ct, child =  16    Dropout(p=0.15, inplace=False)\n",
      "ct, child =  17    Dropout(p=0.15, inplace=False)\n"
     ]
    }
   ],
   "source": [
    "## a comment on the web at https://pytorch.org/docs/stable/optim.html says\n",
    "\"\"\"\n",
    "If you need to move a model to GPU via .cuda(), please do so before constructing optimizers for it. \n",
    "Parameters of a model after .cuda() will be different objects with those before the call.\n",
    "\n",
    "In general, you should make sure that optimized parameters live in consistent locations when \n",
    "optimizers are constructed and used.\n",
    "\"\"\"\n",
    "## so move this here (although we are using model.to(device) not explicitly using .cuda()\n",
    "\n",
    "nOut1 = 50\n",
    "nOut2 = 50\n",
    "nOut3 = 50\n",
    "nOut4 = 50\n",
    "nOut5 = 50\n",
    "nOut6 = 50\n",
    "nOut7 = 50\n",
    "nOut8 = 50\n",
    "nOut9 = 50\n",
    "nOut10 = 50\n",
    "nOut11 = 50\n",
    "latentChannels = 4\n",
    "model = Model(nOut1,nOut2,nOut3,nOut4,nOut5,nOut6,nOut7,nOut8,nOut9,nOut10,nOut11,latentChannels)\n",
    "\n",
    "##summary(model, input_size=(4, 4000))\n",
    "##print(model.parameters)\n",
    "\n",
    "## add the following code to allow the user to freeze the some of the weights corresponding \n",
    "## to those taken from an earlier model trained with the original target histograms\n",
    "## presumably -- this leaves either the perturbative filter \"fixed\" and lets the \n",
    "## learning focus on the non-perturbative features, so get started faster, or vice versa\n",
    "ct = 0\n",
    "for child in model.children():\n",
    "  print('ct, child = ',ct, \"  \", child)\n",
    "  if ct < 0:\n",
    "    print(\"     About to set param.requires_grad=False for ct = \", ct, \"params\")\n",
    "    for param in child.parameters():\n",
    "        param.requires_grad = False \n",
    "  ct += 1\n",
    "##  mds 200121 loss = Loss(epsilon=1e-5,coefficient=1.0)\n",
    "##  loss = Loss(epsilon=1e-5,coefficient=2.5)\n",
    "##loss = Loss(epsilon=3e-5, debug=False)\n",
    "loss = Loss(epsilon=3e-5)"
   ]
  },
  {
   "cell_type": "markdown",
   "metadata": {},
   "source": [
    "Let's move the model's weight matricies to the GPU:"
   ]
  },
  {
   "cell_type": "code",
   "execution_count": 11,
   "metadata": {
    "scrolled": true
   },
   "outputs": [],
   "source": [
    "model = model.to(device)"
   ]
  },
  {
   "cell_type": "code",
   "execution_count": 12,
   "metadata": {
    "scrolled": true
   },
   "outputs": [],
   "source": [
    "optimizer = torch.optim.Adam(model.parameters(), lr=learning_rate)\n",
    "##optimizer = torch.optim.SGD(model.parameters(), lr=learning_rate)"
   ]
  },
  {
   "cell_type": "code",
   "execution_count": 13,
   "metadata": {
    "scrolled": false
   },
   "outputs": [
    {
     "name": "stdout",
     "output_type": "stream",
     "text": [
      "output =  ML/23Jan_DDplus_KDE_B_loss_Ba_iter3A_floatAll_50epochs_3em5_4xwill\n",
      "for model_dict\n",
      "index, k =   0    layer1.weight\n",
      "index, k =   1    layer1.bias\n",
      "index, k =   2    layer2.weight\n",
      "index, k =   3    layer2.bias\n",
      "index, k =   4    layer3.weight\n",
      "index, k =   5    layer3.bias\n",
      "index, k =   6    layer4.weight\n",
      "index, k =   7    layer4.bias\n",
      "index, k =   8    layer5.weight\n",
      "index, k =   9    layer5.bias\n",
      "index, k =   10    layer6.weight\n",
      "index, k =   11    layer6.bias\n",
      "index, k =   12    layer7.weight\n",
      "index, k =   13    layer7.bias\n",
      "index, k =   14    layer8.weight\n",
      "index, k =   15    layer8.bias\n",
      "index, k =   16    layer9.weight\n",
      "index, k =   17    layer9.bias\n",
      "index, k =   18    layer10.weight\n",
      "index, k =   19    layer10.bias\n",
      "index, k =   20    layer11.weight\n",
      "index, k =   21    layer11.bias\n",
      "index, k =   22    layer12new.weight\n",
      "index, k =   23    layer12new.bias\n",
      "index, k =   24    conv1.weight\n",
      "index, k =   25    conv1.bias\n",
      "index, k =   26    conv2.weight\n",
      "index, k =   27    conv2.bias\n",
      "index, k =   28    fc1.weight\n",
      "index, k =   29    fc1.bias\n",
      "index, k =   30    finalFilter.weight\n",
      "index, k =   31    finalFilter.bias\n",
      "dict_name =  ML/23Jan_DDplus_KDE_B_loss_Ba_iter2A_floatAll_6epochs_3em5_4xwill/23Jan_DDplus_KDE_B_loss_Ba_iter2A_floatAll_6epochs_3em5_4xwill_final.pyt\n",
      " \n",
      "  for pretrained_dict\n",
      "index, k =   0    layer1.weight\n",
      "index, k =   1    layer1.bias\n",
      "index, k =   2    layer2.weight\n",
      "index, k =   3    layer2.bias\n",
      "index, k =   4    layer3.weight\n",
      "index, k =   5    layer3.bias\n",
      "index, k =   6    layer4.weight\n",
      "index, k =   7    layer4.bias\n",
      "index, k =   8    layer5.weight\n",
      "index, k =   9    layer5.bias\n",
      "index, k =   10    layer6.weight\n",
      "index, k =   11    layer6.bias\n",
      "index, k =   12    layer7.weight\n",
      "index, k =   13    layer7.bias\n",
      "index, k =   14    layer8.weight\n",
      "index, k =   15    layer8.bias\n",
      "index, k =   16    layer9.weight\n",
      "index, k =   17    layer9.bias\n",
      "index, k =   18    layer10.weight\n",
      "index, k =   19    layer10.bias\n",
      "index, k =   20    layer11.weight\n",
      "index, k =   21    layer11.bias\n",
      "index, k =   22    layer12new.weight\n",
      "index, k =   23    layer12new.bias\n",
      "index, k =   24    conv1.weight\n",
      "index, k =   25    conv1.bias\n",
      "index, k =   26    conv2.weight\n",
      "index, k =   27    conv2.bias\n",
      "index, k =   28    fc1.weight\n",
      "index, k =   29    fc1.bias\n",
      "index, k =   30    finalFilter.weight\n",
      "index, k =   31    finalFilter.bias\n",
      "pretrained_dict iterated\n"
     ]
    },
    {
     "data": {
      "text/plain": [
       "<All keys matched successfully>"
      ]
     },
     "execution_count": 13,
     "metadata": {},
     "output_type": "execute_result"
    }
   ],
   "source": [
    "print('output = ',output)\n",
    "##print('oldOutput = ',oldOutput)\n",
    "##  use the first four layers from a pre-existing model\n",
    "##  see example at https://discuss.pytorch.org/t/how-to-load-part-of-pre-trained-model/1113\n",
    "\n",
    "##   ML -> /share/lazy/sokoloff/ML\n",
    "model_dict = model.state_dict()\n",
    "## mds 190725 for debugging\n",
    "print(\"for model_dict\")\n",
    "index = 0\n",
    "for k,v in model_dict.items():\n",
    "    print(\"index, k =  \",index,\"  \",k)\n",
    "    index = index+1\n",
    "##    print(\"value = \", v)\n",
    " \n",
    "updated_dict = model_dict\n",
    "##print(\"updated_dict = \",updated_dict)\n",
    "## when starting \"ab initio\", reduce biases as the bias gets summed for each track\n",
    "## contributing to the predicted KDE\n",
    "updated_dict[\"layer1.bias\"] = 0.005*model_dict[\"layer1.bias\"]\n",
    "updated_dict[\"layer2.bias\"] = 0.005*model_dict[\"layer2.bias\"]\n",
    "updated_dict[\"layer3.bias\"] = 0.005*model_dict[\"layer3.bias\"]\n",
    "updated_dict[\"layer4.bias\"] = 0.005*model_dict[\"layer4.bias\"]\n",
    "updated_dict[\"layer5.bias\"] = 0.005*model_dict[\"layer5.bias\"]\n",
    "updated_dict[\"layer6.bias\"] = 0.005*model_dict[\"layer6.bias\"]\n",
    "updated_dict[\"layer7.bias\"] = 0.005*model_dict[\"layer7.bias\"]\n",
    "updated_dict[\"layer8.bias\"] = 0.005*model_dict[\"layer8.bias\"]\n",
    "updated_dict[\"layer9.bias\"] = 0.005*model_dict[\"layer9.bias\"]\n",
    "updated_dict[\"layer10.bias\"] = 0.005*model_dict[\"layer10.bias\"]\n",
    "updated_dict[\"layer11.bias\"] = 0.005*model_dict[\"layer11.bias\"]\n",
    "\n",
    "model.load_state_dict(updated_dict,strict=False)\n",
    "\n",
    "model_dict = model.state_dict()\n",
    "##print(\"updated model_dict = \",model_dict)\n",
    "\n",
    "## print(\" \\n\",\"  for pretrained_dict\")\n",
    "## index = 0\n",
    "##for k,v in pretrained_dict.items():\n",
    "##    print(\"index, k =  \",index,\"  \",k)\n",
    "##    index = index+1\n",
    "## mds  \n",
    "\n",
    "##pretrained_dict = torch.load('ML/29July2020_Trks_to_KDE_C_lossB_100epochs_b64_1m3_nOut_50x50/29July2020_Trks_to_KDE_C_lossB_100epochs_b64_1m3_nOut_50x50_final.pyt')\n",
    "##print(\"model_dict instantiated\")\n",
    "# 1. filter out unnecessary keys\n",
    "##pretrained_dict = {k: v for k, v in pretrained_dict.items() if k in model_dict}\n",
    "##print(\"pretrained_dict iterated\")\n",
    "# 2. overwrite entries in the existing state dict\n",
    "##model_dict.update(pretrained_dict) \n",
    "##\n",
    "#   when starting from a model with a fully connected last layer rather than a convolutional layer\n",
    "# 3. load the new state dict\n",
    "#   need to use strict=False as the two models state model attributes do not agree exactly\n",
    "#   see https://pytorch.org/docs/master/_modules/torch/nn/modules/module.html#Module.load_state_dict\n",
    "\n",
    "##model.load_state_dict(pretrained_dict,strict=False)\n",
    "\n",
    "## print('model_dict =    ', model_dict)\n",
    "\n",
    "## finished at training cost = 1.46, validation cost = 1.50\n",
    "##d_folder = '25December__DDplus_loss_Ba_iter7_floatAll_800epochs_4em6'\n",
    "d_folder = '23Jan_DDplus_KDE_B_loss_Ba_iter2A_floatAll_6epochs_3em5_4xwill'\n",
    "d_name = d_folder\n",
    "suffix = 'final'\n",
    "dict_name = 'ML/' + d_folder + '/' + d_name + '_'+ suffix + '.pyt'\n",
    "print('dict_name = ',dict_name)\n",
    "pretrained_dict = torch.load(dict_name)\n",
    "\n",
    "print(\" \")\n",
    "print(\"  for pretrained_dict\")\n",
    "index = 0\n",
    "for k,v in pretrained_dict.items():\n",
    "    print(\"index, k =  \",index,\"  \",k)\n",
    "    index = index+1\n",
    " \n",
    "\n",
    "##print(\"model_dict instantiated\")\n",
    "# 1. filter out unnecessary keys\n",
    "pretrained_dict = {k: v for k, v in pretrained_dict.items() if k in model_dict}\n",
    "print(\"pretrained_dict iterated\")\n",
    "# 2. overwrite entries in the existing state dict\n",
    "model_dict.update(pretrained_dict) \n",
    "##\n",
    "#   when starting from a model with a fully connected last layer rather than a convolutional layer\n",
    "# 3. load the new state dict\n",
    "#   need to use strict=False as the two models state model attributes do not agree exactly\n",
    "#   see https://pytorch.org/docs/master/_modules/torch/nn/modules/module.html#Module.load_state_dict\n",
    "\n",
    "model.load_state_dict(pretrained_dict,strict=False)\n",
    "\n"
   ]
  },
  {
   "cell_type": "code",
   "execution_count": 14,
   "metadata": {},
   "outputs": [],
   "source": [
    "##print('validation.dataset.tensors = ',validation.dataset.tensors)\n",
    "fig_size = plt.rcParams[\"figure.figsize\"]\n",
    "fig_size[0] = 10\n",
    "fig_size[1] = 4\n",
    "plt.rcParams[\"figure.figsize\"] = fig_size"
   ]
  },
  {
   "cell_type": "code",
   "execution_count": 15,
   "metadata": {
    "scrolled": false
   },
   "outputs": [
    {
     "name": "stdout",
     "output_type": "stream",
     "text": [
      "Loading data...\n",
      "pocaMx.shape =  (80000,)\n",
      "nEvts =  80000\n",
      "len(pocaMx[0]) =  199\n",
      "len(pocaMx[1]) =  25\n",
      "len(pocaMx[2]) =  369\n",
      "len(pocaMx[3]) =  143\n",
      "len(pocaMx[4]) =  160\n",
      "majorAxis.shape =  (80000, 3)\n",
      "minorAxis_1.shape =  (80000, 3)\n",
      "minorAxis_2.shape =  (80000, 3)\n",
      "have entered six_ellipsoid_parameters\n",
      "  \n",
      " \n",
      "  nEvts =  80000\n",
      " iEvt, nTrks =  0 199\n",
      " iEvt, nTrks =  1 25\n",
      " iEvt, nTrks =  2 369\n",
      " iEvt, nTrks =  3 143\n",
      " iEvt, nTrks =  4 160\n",
      " iEvt, nTrks =  5 260\n",
      " iEvt, nTrks =  6 237\n",
      " iEvt, nTrks =  7 327\n",
      " iEvt, nTrks =  8 178\n",
      " iEvt, nTrks =  9 106\n",
      "A.shape =  (80000,)\n",
      "majorAxis[iTrk][0][0] =  0.00045611936\n",
      "majorAxis[iTrk][1][0] =  -4.8292455e-05\n",
      "majorAxis[iTrk][2][0] =  0.090019904\n",
      "minorAxis_1[iTrk][0][0] =  -1.8602173\n",
      "minorAxis_1[iTrk][1][0] =  -17.569641\n",
      "minorAxis_1[iTrk][2][0] =  4.7891795e-08\n",
      "minorAxis_2[iTrk][0][0] =  -17.569414\n",
      "minorAxis_2[iTrk][1][0] =  1.8601931\n",
      "minorAxis_2[iTrk][2][0] =  0.0900199\n",
      "  \n",
      "majorAxis[iTrk][0][0] =  0.002360258\n",
      "majorAxis[iTrk][1][0] =  -0.007426616\n",
      "majorAxis[iTrk][2][0] =  0.3710108\n",
      "minorAxis_1[iTrk][0][0] =  -16.837948\n",
      "minorAxis_1[iTrk][1][0] =  -5.3512807\n",
      "minorAxis_1[iTrk][2][0] =  8.157131e-09\n",
      "minorAxis_2[iTrk][0][0] =  -5.3501005\n",
      "minorAxis_2[iTrk][1][0] =  16.834236\n",
      "minorAxis_2[iTrk][2][0] =  0.3710108\n",
      "  \n",
      "majorAxis[iTrk][0][0] =  6.220712e-05\n",
      "majorAxis[iTrk][1][0] =  -4.4594188e-05\n",
      "majorAxis[iTrk][2][0] =  0.036773544\n",
      "minorAxis_1[iTrk][0][0] =  10.293747\n",
      "minorAxis_1[iTrk][1][0] =  14.359369\n",
      "minorAxis_1[iTrk][2][0] =  1.571041e-06\n",
      "minorAxis_2[iTrk][0][0] =  14.359338\n",
      "minorAxis_2[iTrk][1][0] =  -10.293725\n",
      "minorAxis_2[iTrk][2][0] =  -0.03677354\n",
      "  \n",
      "len(X) =  80000\n",
      "len(Xlist) =  1\n",
      "Loaded /share/lazy/will/data/June30_2020_80k_1.h5 in 123.2 s\n",
      "pocaMx.shape =  (80000,)\n",
      "nEvts =  80000\n",
      "len(pocaMx[0]) =  222\n",
      "len(pocaMx[1]) =  133\n",
      "len(pocaMx[2]) =  259\n",
      "len(pocaMx[3]) =  114\n",
      "len(pocaMx[4]) =  143\n",
      "majorAxis.shape =  (80000, 3)\n",
      "minorAxis_1.shape =  (80000, 3)\n",
      "minorAxis_2.shape =  (80000, 3)\n",
      "have entered six_ellipsoid_parameters\n",
      "  \n",
      " \n",
      "  nEvts =  80000\n",
      " iEvt, nTrks =  0 222\n",
      " iEvt, nTrks =  1 133\n",
      " iEvt, nTrks =  2 259\n",
      " iEvt, nTrks =  3 114\n",
      " iEvt, nTrks =  4 143\n",
      " iEvt, nTrks =  5 136\n",
      " iEvt, nTrks =  6 397\n",
      " iEvt, nTrks =  7 370\n",
      " iEvt, nTrks =  8 97\n",
      " iEvt, nTrks =  9 67\n",
      "A.shape =  (80000,)\n",
      "majorAxis[iTrk][0][0] =  -0.001036478\n",
      "majorAxis[iTrk][1][0] =  0.0009833863\n",
      "majorAxis[iTrk][2][0] =  0.15887721\n",
      "minorAxis_1[iTrk][0][0] =  -12.160475\n",
      "minorAxis_1[iTrk][1][0] =  -12.817002\n",
      "minorAxis_1[iTrk][2][0] =  0.0\n",
      "minorAxis_2[iTrk][0][0] =  -12.816484\n",
      "minorAxis_2[iTrk][1][0] =  12.159985\n",
      "minorAxis_2[iTrk][2][0] =  -0.15887721\n",
      "  \n",
      "majorAxis[iTrk][0][0] =  0.0016579849\n",
      "majorAxis[iTrk][1][0] =  0.0020989499\n",
      "majorAxis[iTrk][2][0] =  0.21738033\n",
      "minorAxis_1[iTrk][0][0] =  -13.864233\n",
      "minorAxis_1[iTrk][1][0] =  10.95152\n",
      "minorAxis_1[iTrk][2][0] =  -3.3017489e-09\n",
      "minorAxis_2[iTrk][0][0] =  10.95069\n",
      "minorAxis_2[iTrk][1][0] =  13.863184\n",
      "minorAxis_2[iTrk][2][0] =  -0.21738033\n",
      "  \n",
      "majorAxis[iTrk][0][0] =  0.00012481198\n",
      "majorAxis[iTrk][1][0] =  -0.00028747538\n",
      "majorAxis[iTrk][2][0] =  0.07441149\n",
      "minorAxis_1[iTrk][0][0] =  -16.206305\n",
      "minorAxis_1[iTrk][1][0] =  -7.036224\n",
      "minorAxis_1[iTrk][2][0] =  5.3456716e-08\n",
      "minorAxis_2[iTrk][0][0] =  -7.0361605\n",
      "minorAxis_2[iTrk][1][0] =  16.20616\n",
      "minorAxis_2[iTrk][2][0] =  0.07441148\n",
      "  \n",
      "len(X) =  80000\n",
      "len(Xlist) =  2\n",
      "Loaded /share/lazy/will/data/June30_2020_80k_2.h5 in 125.2 s\n",
      "pocaMx.shape =  (80000,)\n",
      "nEvts =  80000\n",
      "len(pocaMx[0]) =  196\n",
      "len(pocaMx[1]) =  35\n",
      "len(pocaMx[2]) =  265\n",
      "len(pocaMx[3]) =  128\n",
      "len(pocaMx[4]) =  124\n",
      "majorAxis.shape =  (80000, 3)\n",
      "minorAxis_1.shape =  (80000, 3)\n",
      "minorAxis_2.shape =  (80000, 3)\n",
      "have entered six_ellipsoid_parameters\n",
      "  \n",
      " \n",
      "  nEvts =  80000\n",
      " iEvt, nTrks =  0 196\n",
      " iEvt, nTrks =  1 35\n",
      " iEvt, nTrks =  2 265\n",
      " iEvt, nTrks =  3 128\n",
      " iEvt, nTrks =  4 124\n",
      " iEvt, nTrks =  5 122\n",
      " iEvt, nTrks =  6 300\n",
      " iEvt, nTrks =  7 179\n",
      " iEvt, nTrks =  8 243\n",
      " iEvt, nTrks =  9 112\n",
      "A.shape =  (80000,)\n",
      "majorAxis[iTrk][0][0] =  -2.440992e-05\n",
      "majorAxis[iTrk][1][0] =  -0.00038087237\n",
      "majorAxis[iTrk][2][0] =  0.08211532\n",
      "minorAxis_1[iTrk][0][0] =  -17.631672\n",
      "minorAxis_1[iTrk][1][0] =  1.130005\n",
      "minorAxis_1[iTrk][2][0] =  4.7444193e-08\n",
      "minorAxis_2[iTrk][0][0] =  1.1299927\n",
      "minorAxis_2[iTrk][1][0] =  17.631481\n",
      "minorAxis_2[iTrk][2][0] =  0.08211532\n",
      "  \n",
      "majorAxis[iTrk][0][0] =  -0.02277395\n",
      "majorAxis[iTrk][1][0] =  0.0014473597\n",
      "majorAxis[iTrk][2][0] =  0.6347583\n",
      "minorAxis_1[iTrk][0][0] =  -1.1205891\n",
      "minorAxis_1[iTrk][1][0] =  -17.632273\n",
      "minorAxis_1[iTrk][2][0] =  2.1543272e-09\n",
      "minorAxis_2[iTrk][0][0] =  -17.620888\n",
      "minorAxis_2[iTrk][1][0] =  1.1198657\n",
      "minorAxis_2[iTrk][2][0] =  -0.63475823\n",
      "  \n",
      "majorAxis[iTrk][0][0] =  0.0004024825\n",
      "majorAxis[iTrk][1][0] =  -0.00023784715\n",
      "majorAxis[iTrk][2][0] =  0.090883136\n",
      "minorAxis_1[iTrk][0][0] =  -8.988615\n",
      "minorAxis_1[iTrk][1][0] =  -15.210441\n",
      "minorAxis_1[iTrk][2][0] =  -6.56547e-08\n",
      "minorAxis_2[iTrk][0][0] =  -15.21024\n",
      "minorAxis_2[iTrk][1][0] =  8.988497\n",
      "minorAxis_2[iTrk][2][0] =  0.090883136\n",
      "  \n",
      "len(X) =  80000\n",
      "len(Xlist) =  3\n",
      "Loaded /share/lazy/will/data/June30_2020_80k_3.h5 in 124.7 s\n",
      "pocaMx.shape =  (80000,)\n",
      "nEvts =  80000\n",
      "len(pocaMx[0]) =  204\n",
      "len(pocaMx[1]) =  33\n",
      "len(pocaMx[2]) =  206\n",
      "len(pocaMx[3]) =  150\n",
      "len(pocaMx[4]) =  96\n",
      "majorAxis.shape =  (80000, 3)\n",
      "minorAxis_1.shape =  (80000, 3)\n",
      "minorAxis_2.shape =  (80000, 3)\n",
      "have entered six_ellipsoid_parameters\n",
      "  \n",
      " \n",
      "  nEvts =  80000\n",
      " iEvt, nTrks =  0 204\n",
      " iEvt, nTrks =  1 33\n",
      " iEvt, nTrks =  2 206\n",
      " iEvt, nTrks =  3 150\n",
      " iEvt, nTrks =  4 96\n",
      " iEvt, nTrks =  5 10\n",
      " iEvt, nTrks =  6 174\n",
      " iEvt, nTrks =  7 320\n",
      " iEvt, nTrks =  8 164\n",
      " iEvt, nTrks =  9 119\n",
      "A.shape =  (80000,)\n",
      "majorAxis[iTrk][0][0] =  0.00057876867\n",
      "majorAxis[iTrk][1][0] =  0.00037603904\n",
      "majorAxis[iTrk][2][0] =  0.110427074\n",
      "minorAxis_1[iTrk][0][0] =  9.62588\n",
      "minorAxis_1[iTrk][1][0] =  -14.81537\n",
      "minorAxis_1[iTrk][2][0] =  8.391163e-09\n",
      "minorAxis_2[iTrk][0][0] =  -14.815081\n",
      "minorAxis_2[iTrk][1][0] =  -9.625692\n",
      "minorAxis_2[iTrk][2][0] =  0.11042709\n",
      "  \n",
      "majorAxis[iTrk][0][0] =  -7.687664e-05\n",
      "majorAxis[iTrk][1][0] =  -0.0017985329\n",
      "majorAxis[iTrk][2][0] =  0.17833562\n",
      "minorAxis_1[iTrk][0][0] =  -17.651728\n",
      "minorAxis_1[iTrk][1][0] =  0.7545069\n",
      "minorAxis_1[iTrk][2][0] =  -7.932265e-09\n",
      "minorAxis_2[iTrk][0][0] =  0.75446844\n",
      "minorAxis_2[iTrk][1][0] =  17.650827\n",
      "minorAxis_2[iTrk][2][0] =  0.17833562\n",
      "  \n",
      "majorAxis[iTrk][0][0] =  4.5855802e-05\n",
      "majorAxis[iTrk][1][0] =  -0.00054240844\n",
      "majorAxis[iTrk][2][0] =  0.098067455\n",
      "minorAxis_1[iTrk][0][0] =  17.605043\n",
      "minorAxis_1[iTrk][1][0] =  1.4883496\n",
      "minorAxis_1[iTrk][2][0] =  -2.7847218e-08\n",
      "minorAxis_2[iTrk][0][0] =  1.4883265\n",
      "minorAxis_2[iTrk][1][0] =  -17.604773\n",
      "minorAxis_2[iTrk][2][0] =  -0.098067455\n",
      "  \n",
      "len(X) =  80000\n",
      "len(Xlist) =  4\n",
      "Loaded /share/lazy/will/data/June30_2020_80k_4.h5 in 124.4 s\n",
      "outer loop X.shape =  (320000, 9, 600)\n",
      "Constructing 320000 event dataset took 3.145 s\n",
      "x_t.shape =  torch.Size([320000, 9, 600])\n",
      "x_t.shape[0] =  320000\n",
      "x_t.shape[1] =  9\n",
      "x_t.shape =  torch.Size([320000, 9, 600])\n",
      "Loading data...\n",
      "pocaMx.shape =  (20000,)\n",
      "nEvts =  20000\n",
      "len(pocaMx[0]) =  211\n",
      "len(pocaMx[1]) =  21\n",
      "len(pocaMx[2]) =  20\n",
      "len(pocaMx[3]) =  198\n",
      "len(pocaMx[4]) =  233\n",
      "majorAxis.shape =  (20000, 3)\n",
      "minorAxis_1.shape =  (20000, 3)\n",
      "minorAxis_2.shape =  (20000, 3)\n",
      "have entered six_ellipsoid_parameters\n",
      "  \n",
      " \n",
      "  nEvts =  20000\n",
      " iEvt, nTrks =  0 211\n",
      " iEvt, nTrks =  1 21\n",
      " iEvt, nTrks =  2 20\n",
      " iEvt, nTrks =  3 198\n",
      " iEvt, nTrks =  4 233\n",
      " iEvt, nTrks =  5 85\n",
      " iEvt, nTrks =  6 223\n",
      " iEvt, nTrks =  7 425\n",
      " iEvt, nTrks =  8 252\n",
      " iEvt, nTrks =  9 169\n",
      "A.shape =  (20000,)\n",
      "majorAxis[iTrk][0][0] =  -0.00023452607\n",
      "majorAxis[iTrk][1][0] =  -0.00047206535\n",
      "majorAxis[iTrk][2][0] =  0.096502915\n",
      "minorAxis_1[iTrk][0][0] =  -15.822749\n",
      "minorAxis_1[iTrk][1][0] =  7.8608756\n",
      "minorAxis_1[iTrk][2][0] =  -2.6228399e-08\n",
      "minorAxis_2[iTrk][0][0] =  7.860759\n",
      "minorAxis_2[iTrk][1][0] =  15.822513\n",
      "minorAxis_2[iTrk][2][0] =  0.096502915\n",
      "  \n",
      "majorAxis[iTrk][0][0] =  -0.37655562\n",
      "majorAxis[iTrk][1][0] =  0.2768704\n",
      "majorAxis[iTrk][2][0] =  2.8546858\n",
      "minorAxis_1[iTrk][0][0] =  -10.466048\n",
      "minorAxis_1[iTrk][1][0] =  -14.234274\n",
      "minorAxis_1[iTrk][2][0] =  2.2974699e-11\n",
      "minorAxis_2[iTrk][0][0] =  -14.04724\n",
      "minorAxis_2[iTrk][1][0] =  10.328527\n",
      "minorAxis_2[iTrk][2][0] =  -2.8546853\n",
      "  \n",
      "majorAxis[iTrk][0][0] =  -0.024279848\n",
      "majorAxis[iTrk][1][0] =  0.0019689242\n",
      "majorAxis[iTrk][2][0] =  0.65580803\n",
      "minorAxis_1[iTrk][0][0] =  -1.4280497\n",
      "minorAxis_1[iTrk][1][0] =  -17.610037\n",
      "minorAxis_1[iTrk][2][0] =  -6.123401e-10\n",
      "minorAxis_2[iTrk][0][0] =  -17.597902\n",
      "minorAxis_2[iTrk][1][0] =  1.4270656\n",
      "minorAxis_2[iTrk][2][0] =  -0.6558081\n",
      "  \n"
     ]
    },
    {
     "name": "stdout",
     "output_type": "stream",
     "text": [
      "len(X) =  20000\n",
      "len(Xlist) =  1\n",
      "Loaded dataAA/20K_POCA_kernel_evts_200926.h5 in 28.88 s\n",
      "outer loop X.shape =  (20000, 9, 600)\n",
      "Constructing 10000 event dataset took 0.08808 s\n",
      "x_t.shape =  torch.Size([10000, 9, 600])\n",
      "x_t.shape[0] =  10000\n",
      "x_t.shape[1] =  9\n",
      "x_t.shape =  torch.Size([10000, 9, 600])\n"
     ]
    }
   ],
   "source": [
    "\n",
    "## Training dataset. You can put as many files here as desired.\n",
    "\n",
    "##train_loader = collect_t2kde_data('/share/lazy/pv-finder/20k_evts_for_KDE_learning_200716.h5',\n",
    "train_loader = collect_t2kde_data('/share/lazy/will/data/June30_2020_80k_1.h5', \n",
    "                                    '/share/lazy/will/data/June30_2020_80k_2.h5',\n",
    "                                    '/share/lazy/will/data/June30_2020_80k_3.h5',\n",
    "                                    '/share/lazy/will/data/June30_2020_80k_4.h5',\n",
    "                             batch_size=batch_size,\n",
    "## if we are using a larger dataset (240K events, with the datasets above, and 11 GB  of GPU memory),\n",
    "## the dataset will overflow the GPU memory; device=device will allow the data to move back\n",
    "## and forth between the CPU and GPU memory. While this allows use of a larger dataset, it slows\n",
    "## down performance by about 10%.  So comment out when not needed.\n",
    "##                          device=device,\n",
    "##                           slice = slice(None,18000)\n",
    "                           )\n",
    "                            \n",
    "# Validation dataset. You can slice to reduce the size.\n",
    "## mds no separate validation set yet,\n",
    "\n",
    "## For iter12, change slice(18000,None) to slice(10000,None)\n",
    "## First, we'll see if this changes the validation cost significantly\n",
    "##  Second, we will see if this reduces the validation cost fluctuations\n",
    "val_loader = collect_t2kde_data('dataAA/20K_POCA_kernel_evts_200926.h5',\n",
    "                            batch_size=batch_size,\n",
    "##                            device=device,\n",
    "                            slice = slice(10000,None)\n",
    "                           )\n"
   ]
  },
  {
   "cell_type": "code",
   "execution_count": 16,
   "metadata": {
    "scrolled": false
   },
   "outputs": [
    {
     "data": {
      "application/javascript": [
       "/* Put everything inside the global mpl namespace */\n",
       "window.mpl = {};\n",
       "\n",
       "\n",
       "mpl.get_websocket_type = function() {\n",
       "    if (typeof(WebSocket) !== 'undefined') {\n",
       "        return WebSocket;\n",
       "    } else if (typeof(MozWebSocket) !== 'undefined') {\n",
       "        return MozWebSocket;\n",
       "    } else {\n",
       "        alert('Your browser does not have WebSocket support. ' +\n",
       "              'Please try Chrome, Safari or Firefox ≥ 6. ' +\n",
       "              'Firefox 4 and 5 are also supported but you ' +\n",
       "              'have to enable WebSockets in about:config.');\n",
       "    };\n",
       "}\n",
       "\n",
       "mpl.figure = function(figure_id, websocket, ondownload, parent_element) {\n",
       "    this.id = figure_id;\n",
       "\n",
       "    this.ws = websocket;\n",
       "\n",
       "    this.supports_binary = (this.ws.binaryType != undefined);\n",
       "\n",
       "    if (!this.supports_binary) {\n",
       "        var warnings = document.getElementById(\"mpl-warnings\");\n",
       "        if (warnings) {\n",
       "            warnings.style.display = 'block';\n",
       "            warnings.textContent = (\n",
       "                \"This browser does not support binary websocket messages. \" +\n",
       "                    \"Performance may be slow.\");\n",
       "        }\n",
       "    }\n",
       "\n",
       "    this.imageObj = new Image();\n",
       "\n",
       "    this.context = undefined;\n",
       "    this.message = undefined;\n",
       "    this.canvas = undefined;\n",
       "    this.rubberband_canvas = undefined;\n",
       "    this.rubberband_context = undefined;\n",
       "    this.format_dropdown = undefined;\n",
       "\n",
       "    this.image_mode = 'full';\n",
       "\n",
       "    this.root = $('<div/>');\n",
       "    this._root_extra_style(this.root)\n",
       "    this.root.attr('style', 'display: inline-block');\n",
       "\n",
       "    $(parent_element).append(this.root);\n",
       "\n",
       "    this._init_header(this);\n",
       "    this._init_canvas(this);\n",
       "    this._init_toolbar(this);\n",
       "\n",
       "    var fig = this;\n",
       "\n",
       "    this.waiting = false;\n",
       "\n",
       "    this.ws.onopen =  function () {\n",
       "            fig.send_message(\"supports_binary\", {value: fig.supports_binary});\n",
       "            fig.send_message(\"send_image_mode\", {});\n",
       "            if (mpl.ratio != 1) {\n",
       "                fig.send_message(\"set_dpi_ratio\", {'dpi_ratio': mpl.ratio});\n",
       "            }\n",
       "            fig.send_message(\"refresh\", {});\n",
       "        }\n",
       "\n",
       "    this.imageObj.onload = function() {\n",
       "            if (fig.image_mode == 'full') {\n",
       "                // Full images could contain transparency (where diff images\n",
       "                // almost always do), so we need to clear the canvas so that\n",
       "                // there is no ghosting.\n",
       "                fig.context.clearRect(0, 0, fig.canvas.width, fig.canvas.height);\n",
       "            }\n",
       "            fig.context.drawImage(fig.imageObj, 0, 0);\n",
       "        };\n",
       "\n",
       "    this.imageObj.onunload = function() {\n",
       "        fig.ws.close();\n",
       "    }\n",
       "\n",
       "    this.ws.onmessage = this._make_on_message_function(this);\n",
       "\n",
       "    this.ondownload = ondownload;\n",
       "}\n",
       "\n",
       "mpl.figure.prototype._init_header = function() {\n",
       "    var titlebar = $(\n",
       "        '<div class=\"ui-dialog-titlebar ui-widget-header ui-corner-all ' +\n",
       "        'ui-helper-clearfix\"/>');\n",
       "    var titletext = $(\n",
       "        '<div class=\"ui-dialog-title\" style=\"width: 100%; ' +\n",
       "        'text-align: center; padding: 3px;\"/>');\n",
       "    titlebar.append(titletext)\n",
       "    this.root.append(titlebar);\n",
       "    this.header = titletext[0];\n",
       "}\n",
       "\n",
       "\n",
       "\n",
       "mpl.figure.prototype._canvas_extra_style = function(canvas_div) {\n",
       "\n",
       "}\n",
       "\n",
       "\n",
       "mpl.figure.prototype._root_extra_style = function(canvas_div) {\n",
       "\n",
       "}\n",
       "\n",
       "mpl.figure.prototype._init_canvas = function() {\n",
       "    var fig = this;\n",
       "\n",
       "    var canvas_div = $('<div/>');\n",
       "\n",
       "    canvas_div.attr('style', 'position: relative; clear: both; outline: 0');\n",
       "\n",
       "    function canvas_keyboard_event(event) {\n",
       "        return fig.key_event(event, event['data']);\n",
       "    }\n",
       "\n",
       "    canvas_div.keydown('key_press', canvas_keyboard_event);\n",
       "    canvas_div.keyup('key_release', canvas_keyboard_event);\n",
       "    this.canvas_div = canvas_div\n",
       "    this._canvas_extra_style(canvas_div)\n",
       "    this.root.append(canvas_div);\n",
       "\n",
       "    var canvas = $('<canvas/>');\n",
       "    canvas.addClass('mpl-canvas');\n",
       "    canvas.attr('style', \"left: 0; top: 0; z-index: 0; outline: 0\")\n",
       "\n",
       "    this.canvas = canvas[0];\n",
       "    this.context = canvas[0].getContext(\"2d\");\n",
       "\n",
       "    var backingStore = this.context.backingStorePixelRatio ||\n",
       "\tthis.context.webkitBackingStorePixelRatio ||\n",
       "\tthis.context.mozBackingStorePixelRatio ||\n",
       "\tthis.context.msBackingStorePixelRatio ||\n",
       "\tthis.context.oBackingStorePixelRatio ||\n",
       "\tthis.context.backingStorePixelRatio || 1;\n",
       "\n",
       "    mpl.ratio = (window.devicePixelRatio || 1) / backingStore;\n",
       "\n",
       "    var rubberband = $('<canvas/>');\n",
       "    rubberband.attr('style', \"position: absolute; left: 0; top: 0; z-index: 1;\")\n",
       "\n",
       "    var pass_mouse_events = true;\n",
       "\n",
       "    canvas_div.resizable({\n",
       "        start: function(event, ui) {\n",
       "            pass_mouse_events = false;\n",
       "        },\n",
       "        resize: function(event, ui) {\n",
       "            fig.request_resize(ui.size.width, ui.size.height);\n",
       "        },\n",
       "        stop: function(event, ui) {\n",
       "            pass_mouse_events = true;\n",
       "            fig.request_resize(ui.size.width, ui.size.height);\n",
       "        },\n",
       "    });\n",
       "\n",
       "    function mouse_event_fn(event) {\n",
       "        if (pass_mouse_events)\n",
       "            return fig.mouse_event(event, event['data']);\n",
       "    }\n",
       "\n",
       "    rubberband.mousedown('button_press', mouse_event_fn);\n",
       "    rubberband.mouseup('button_release', mouse_event_fn);\n",
       "    // Throttle sequential mouse events to 1 every 20ms.\n",
       "    rubberband.mousemove('motion_notify', mouse_event_fn);\n",
       "\n",
       "    rubberband.mouseenter('figure_enter', mouse_event_fn);\n",
       "    rubberband.mouseleave('figure_leave', mouse_event_fn);\n",
       "\n",
       "    canvas_div.on(\"wheel\", function (event) {\n",
       "        event = event.originalEvent;\n",
       "        event['data'] = 'scroll'\n",
       "        if (event.deltaY < 0) {\n",
       "            event.step = 1;\n",
       "        } else {\n",
       "            event.step = -1;\n",
       "        }\n",
       "        mouse_event_fn(event);\n",
       "    });\n",
       "\n",
       "    canvas_div.append(canvas);\n",
       "    canvas_div.append(rubberband);\n",
       "\n",
       "    this.rubberband = rubberband;\n",
       "    this.rubberband_canvas = rubberband[0];\n",
       "    this.rubberband_context = rubberband[0].getContext(\"2d\");\n",
       "    this.rubberband_context.strokeStyle = \"#000000\";\n",
       "\n",
       "    this._resize_canvas = function(width, height) {\n",
       "        // Keep the size of the canvas, canvas container, and rubber band\n",
       "        // canvas in synch.\n",
       "        canvas_div.css('width', width)\n",
       "        canvas_div.css('height', height)\n",
       "\n",
       "        canvas.attr('width', width * mpl.ratio);\n",
       "        canvas.attr('height', height * mpl.ratio);\n",
       "        canvas.attr('style', 'width: ' + width + 'px; height: ' + height + 'px;');\n",
       "\n",
       "        rubberband.attr('width', width);\n",
       "        rubberband.attr('height', height);\n",
       "    }\n",
       "\n",
       "    // Set the figure to an initial 600x600px, this will subsequently be updated\n",
       "    // upon first draw.\n",
       "    this._resize_canvas(600, 600);\n",
       "\n",
       "    // Disable right mouse context menu.\n",
       "    $(this.rubberband_canvas).bind(\"contextmenu\",function(e){\n",
       "        return false;\n",
       "    });\n",
       "\n",
       "    function set_focus () {\n",
       "        canvas.focus();\n",
       "        canvas_div.focus();\n",
       "    }\n",
       "\n",
       "    window.setTimeout(set_focus, 100);\n",
       "}\n",
       "\n",
       "mpl.figure.prototype._init_toolbar = function() {\n",
       "    var fig = this;\n",
       "\n",
       "    var nav_element = $('<div/>');\n",
       "    nav_element.attr('style', 'width: 100%');\n",
       "    this.root.append(nav_element);\n",
       "\n",
       "    // Define a callback function for later on.\n",
       "    function toolbar_event(event) {\n",
       "        return fig.toolbar_button_onclick(event['data']);\n",
       "    }\n",
       "    function toolbar_mouse_event(event) {\n",
       "        return fig.toolbar_button_onmouseover(event['data']);\n",
       "    }\n",
       "\n",
       "    for(var toolbar_ind in mpl.toolbar_items) {\n",
       "        var name = mpl.toolbar_items[toolbar_ind][0];\n",
       "        var tooltip = mpl.toolbar_items[toolbar_ind][1];\n",
       "        var image = mpl.toolbar_items[toolbar_ind][2];\n",
       "        var method_name = mpl.toolbar_items[toolbar_ind][3];\n",
       "\n",
       "        if (!name) {\n",
       "            // put a spacer in here.\n",
       "            continue;\n",
       "        }\n",
       "        var button = $('<button/>');\n",
       "        button.addClass('ui-button ui-widget ui-state-default ui-corner-all ' +\n",
       "                        'ui-button-icon-only');\n",
       "        button.attr('role', 'button');\n",
       "        button.attr('aria-disabled', 'false');\n",
       "        button.click(method_name, toolbar_event);\n",
       "        button.mouseover(tooltip, toolbar_mouse_event);\n",
       "\n",
       "        var icon_img = $('<span/>');\n",
       "        icon_img.addClass('ui-button-icon-primary ui-icon');\n",
       "        icon_img.addClass(image);\n",
       "        icon_img.addClass('ui-corner-all');\n",
       "\n",
       "        var tooltip_span = $('<span/>');\n",
       "        tooltip_span.addClass('ui-button-text');\n",
       "        tooltip_span.html(tooltip);\n",
       "\n",
       "        button.append(icon_img);\n",
       "        button.append(tooltip_span);\n",
       "\n",
       "        nav_element.append(button);\n",
       "    }\n",
       "\n",
       "    var fmt_picker_span = $('<span/>');\n",
       "\n",
       "    var fmt_picker = $('<select/>');\n",
       "    fmt_picker.addClass('mpl-toolbar-option ui-widget ui-widget-content');\n",
       "    fmt_picker_span.append(fmt_picker);\n",
       "    nav_element.append(fmt_picker_span);\n",
       "    this.format_dropdown = fmt_picker[0];\n",
       "\n",
       "    for (var ind in mpl.extensions) {\n",
       "        var fmt = mpl.extensions[ind];\n",
       "        var option = $(\n",
       "            '<option/>', {selected: fmt === mpl.default_extension}).html(fmt);\n",
       "        fmt_picker.append(option);\n",
       "    }\n",
       "\n",
       "    // Add hover states to the ui-buttons\n",
       "    $( \".ui-button\" ).hover(\n",
       "        function() { $(this).addClass(\"ui-state-hover\");},\n",
       "        function() { $(this).removeClass(\"ui-state-hover\");}\n",
       "    );\n",
       "\n",
       "    var status_bar = $('<span class=\"mpl-message\"/>');\n",
       "    nav_element.append(status_bar);\n",
       "    this.message = status_bar[0];\n",
       "}\n",
       "\n",
       "mpl.figure.prototype.request_resize = function(x_pixels, y_pixels) {\n",
       "    // Request matplotlib to resize the figure. Matplotlib will then trigger a resize in the client,\n",
       "    // which will in turn request a refresh of the image.\n",
       "    this.send_message('resize', {'width': x_pixels, 'height': y_pixels});\n",
       "}\n",
       "\n",
       "mpl.figure.prototype.send_message = function(type, properties) {\n",
       "    properties['type'] = type;\n",
       "    properties['figure_id'] = this.id;\n",
       "    this.ws.send(JSON.stringify(properties));\n",
       "}\n",
       "\n",
       "mpl.figure.prototype.send_draw_message = function() {\n",
       "    if (!this.waiting) {\n",
       "        this.waiting = true;\n",
       "        this.ws.send(JSON.stringify({type: \"draw\", figure_id: this.id}));\n",
       "    }\n",
       "}\n",
       "\n",
       "\n",
       "mpl.figure.prototype.handle_save = function(fig, msg) {\n",
       "    var format_dropdown = fig.format_dropdown;\n",
       "    var format = format_dropdown.options[format_dropdown.selectedIndex].value;\n",
       "    fig.ondownload(fig, format);\n",
       "}\n",
       "\n",
       "\n",
       "mpl.figure.prototype.handle_resize = function(fig, msg) {\n",
       "    var size = msg['size'];\n",
       "    if (size[0] != fig.canvas.width || size[1] != fig.canvas.height) {\n",
       "        fig._resize_canvas(size[0], size[1]);\n",
       "        fig.send_message(\"refresh\", {});\n",
       "    };\n",
       "}\n",
       "\n",
       "mpl.figure.prototype.handle_rubberband = function(fig, msg) {\n",
       "    var x0 = msg['x0'] / mpl.ratio;\n",
       "    var y0 = (fig.canvas.height - msg['y0']) / mpl.ratio;\n",
       "    var x1 = msg['x1'] / mpl.ratio;\n",
       "    var y1 = (fig.canvas.height - msg['y1']) / mpl.ratio;\n",
       "    x0 = Math.floor(x0) + 0.5;\n",
       "    y0 = Math.floor(y0) + 0.5;\n",
       "    x1 = Math.floor(x1) + 0.5;\n",
       "    y1 = Math.floor(y1) + 0.5;\n",
       "    var min_x = Math.min(x0, x1);\n",
       "    var min_y = Math.min(y0, y1);\n",
       "    var width = Math.abs(x1 - x0);\n",
       "    var height = Math.abs(y1 - y0);\n",
       "\n",
       "    fig.rubberband_context.clearRect(\n",
       "        0, 0, fig.canvas.width / mpl.ratio, fig.canvas.height / mpl.ratio);\n",
       "\n",
       "    fig.rubberband_context.strokeRect(min_x, min_y, width, height);\n",
       "}\n",
       "\n",
       "mpl.figure.prototype.handle_figure_label = function(fig, msg) {\n",
       "    // Updates the figure title.\n",
       "    fig.header.textContent = msg['label'];\n",
       "}\n",
       "\n",
       "mpl.figure.prototype.handle_cursor = function(fig, msg) {\n",
       "    var cursor = msg['cursor'];\n",
       "    switch(cursor)\n",
       "    {\n",
       "    case 0:\n",
       "        cursor = 'pointer';\n",
       "        break;\n",
       "    case 1:\n",
       "        cursor = 'default';\n",
       "        break;\n",
       "    case 2:\n",
       "        cursor = 'crosshair';\n",
       "        break;\n",
       "    case 3:\n",
       "        cursor = 'move';\n",
       "        break;\n",
       "    }\n",
       "    fig.rubberband_canvas.style.cursor = cursor;\n",
       "}\n",
       "\n",
       "mpl.figure.prototype.handle_message = function(fig, msg) {\n",
       "    fig.message.textContent = msg['message'];\n",
       "}\n",
       "\n",
       "mpl.figure.prototype.handle_draw = function(fig, msg) {\n",
       "    // Request the server to send over a new figure.\n",
       "    fig.send_draw_message();\n",
       "}\n",
       "\n",
       "mpl.figure.prototype.handle_image_mode = function(fig, msg) {\n",
       "    fig.image_mode = msg['mode'];\n",
       "}\n",
       "\n",
       "mpl.figure.prototype.updated_canvas_event = function() {\n",
       "    // Called whenever the canvas gets updated.\n",
       "    this.send_message(\"ack\", {});\n",
       "}\n",
       "\n",
       "// A function to construct a web socket function for onmessage handling.\n",
       "// Called in the figure constructor.\n",
       "mpl.figure.prototype._make_on_message_function = function(fig) {\n",
       "    return function socket_on_message(evt) {\n",
       "        if (evt.data instanceof Blob) {\n",
       "            /* FIXME: We get \"Resource interpreted as Image but\n",
       "             * transferred with MIME type text/plain:\" errors on\n",
       "             * Chrome.  But how to set the MIME type?  It doesn't seem\n",
       "             * to be part of the websocket stream */\n",
       "            evt.data.type = \"image/png\";\n",
       "\n",
       "            /* Free the memory for the previous frames */\n",
       "            if (fig.imageObj.src) {\n",
       "                (window.URL || window.webkitURL).revokeObjectURL(\n",
       "                    fig.imageObj.src);\n",
       "            }\n",
       "\n",
       "            fig.imageObj.src = (window.URL || window.webkitURL).createObjectURL(\n",
       "                evt.data);\n",
       "            fig.updated_canvas_event();\n",
       "            fig.waiting = false;\n",
       "            return;\n",
       "        }\n",
       "        else if (typeof evt.data === 'string' && evt.data.slice(0, 21) == \"data:image/png;base64\") {\n",
       "            fig.imageObj.src = evt.data;\n",
       "            fig.updated_canvas_event();\n",
       "            fig.waiting = false;\n",
       "            return;\n",
       "        }\n",
       "\n",
       "        var msg = JSON.parse(evt.data);\n",
       "        var msg_type = msg['type'];\n",
       "\n",
       "        // Call the  \"handle_{type}\" callback, which takes\n",
       "        // the figure and JSON message as its only arguments.\n",
       "        try {\n",
       "            var callback = fig[\"handle_\" + msg_type];\n",
       "        } catch (e) {\n",
       "            console.log(\"No handler for the '\" + msg_type + \"' message type: \", msg);\n",
       "            return;\n",
       "        }\n",
       "\n",
       "        if (callback) {\n",
       "            try {\n",
       "                // console.log(\"Handling '\" + msg_type + \"' message: \", msg);\n",
       "                callback(fig, msg);\n",
       "            } catch (e) {\n",
       "                console.log(\"Exception inside the 'handler_\" + msg_type + \"' callback:\", e, e.stack, msg);\n",
       "            }\n",
       "        }\n",
       "    };\n",
       "}\n",
       "\n",
       "// from http://stackoverflow.com/questions/1114465/getting-mouse-location-in-canvas\n",
       "mpl.findpos = function(e) {\n",
       "    //this section is from http://www.quirksmode.org/js/events_properties.html\n",
       "    var targ;\n",
       "    if (!e)\n",
       "        e = window.event;\n",
       "    if (e.target)\n",
       "        targ = e.target;\n",
       "    else if (e.srcElement)\n",
       "        targ = e.srcElement;\n",
       "    if (targ.nodeType == 3) // defeat Safari bug\n",
       "        targ = targ.parentNode;\n",
       "\n",
       "    // jQuery normalizes the pageX and pageY\n",
       "    // pageX,Y are the mouse positions relative to the document\n",
       "    // offset() returns the position of the element relative to the document\n",
       "    var x = e.pageX - $(targ).offset().left;\n",
       "    var y = e.pageY - $(targ).offset().top;\n",
       "\n",
       "    return {\"x\": x, \"y\": y};\n",
       "};\n",
       "\n",
       "/*\n",
       " * return a copy of an object with only non-object keys\n",
       " * we need this to avoid circular references\n",
       " * http://stackoverflow.com/a/24161582/3208463\n",
       " */\n",
       "function simpleKeys (original) {\n",
       "  return Object.keys(original).reduce(function (obj, key) {\n",
       "    if (typeof original[key] !== 'object')\n",
       "        obj[key] = original[key]\n",
       "    return obj;\n",
       "  }, {});\n",
       "}\n",
       "\n",
       "mpl.figure.prototype.mouse_event = function(event, name) {\n",
       "    var canvas_pos = mpl.findpos(event)\n",
       "\n",
       "    if (name === 'button_press')\n",
       "    {\n",
       "        this.canvas.focus();\n",
       "        this.canvas_div.focus();\n",
       "    }\n",
       "\n",
       "    var x = canvas_pos.x * mpl.ratio;\n",
       "    var y = canvas_pos.y * mpl.ratio;\n",
       "\n",
       "    this.send_message(name, {x: x, y: y, button: event.button,\n",
       "                             step: event.step,\n",
       "                             guiEvent: simpleKeys(event)});\n",
       "\n",
       "    /* This prevents the web browser from automatically changing to\n",
       "     * the text insertion cursor when the button is pressed.  We want\n",
       "     * to control all of the cursor setting manually through the\n",
       "     * 'cursor' event from matplotlib */\n",
       "    event.preventDefault();\n",
       "    return false;\n",
       "}\n",
       "\n",
       "mpl.figure.prototype._key_event_extra = function(event, name) {\n",
       "    // Handle any extra behaviour associated with a key event\n",
       "}\n",
       "\n",
       "mpl.figure.prototype.key_event = function(event, name) {\n",
       "\n",
       "    // Prevent repeat events\n",
       "    if (name == 'key_press')\n",
       "    {\n",
       "        if (event.which === this._key)\n",
       "            return;\n",
       "        else\n",
       "            this._key = event.which;\n",
       "    }\n",
       "    if (name == 'key_release')\n",
       "        this._key = null;\n",
       "\n",
       "    var value = '';\n",
       "    if (event.ctrlKey && event.which != 17)\n",
       "        value += \"ctrl+\";\n",
       "    if (event.altKey && event.which != 18)\n",
       "        value += \"alt+\";\n",
       "    if (event.shiftKey && event.which != 16)\n",
       "        value += \"shift+\";\n",
       "\n",
       "    value += 'k';\n",
       "    value += event.which.toString();\n",
       "\n",
       "    this._key_event_extra(event, name);\n",
       "\n",
       "    this.send_message(name, {key: value,\n",
       "                             guiEvent: simpleKeys(event)});\n",
       "    return false;\n",
       "}\n",
       "\n",
       "mpl.figure.prototype.toolbar_button_onclick = function(name) {\n",
       "    if (name == 'download') {\n",
       "        this.handle_save(this, null);\n",
       "    } else {\n",
       "        this.send_message(\"toolbar_button\", {name: name});\n",
       "    }\n",
       "};\n",
       "\n",
       "mpl.figure.prototype.toolbar_button_onmouseover = function(tooltip) {\n",
       "    this.message.textContent = tooltip;\n",
       "};\n",
       "mpl.toolbar_items = [[\"Home\", \"Reset original view\", \"fa fa-home icon-home\", \"home\"], [\"Back\", \"Back to previous view\", \"fa fa-arrow-left icon-arrow-left\", \"back\"], [\"Forward\", \"Forward to next view\", \"fa fa-arrow-right icon-arrow-right\", \"forward\"], [\"\", \"\", \"\", \"\"], [\"Pan\", \"Pan axes with left mouse, zoom with right\", \"fa fa-arrows icon-move\", \"pan\"], [\"Zoom\", \"Zoom to rectangle\", \"fa fa-square-o icon-check-empty\", \"zoom\"], [\"\", \"\", \"\", \"\"], [\"Download\", \"Download plot\", \"fa fa-floppy-o icon-save\", \"download\"]];\n",
       "\n",
       "mpl.extensions = [\"eps\", \"jpeg\", \"pdf\", \"png\", \"ps\", \"raw\", \"svg\", \"tif\"];\n",
       "\n",
       "mpl.default_extension = \"png\";var comm_websocket_adapter = function(comm) {\n",
       "    // Create a \"websocket\"-like object which calls the given IPython comm\n",
       "    // object with the appropriate methods. Currently this is a non binary\n",
       "    // socket, so there is still some room for performance tuning.\n",
       "    var ws = {};\n",
       "\n",
       "    ws.close = function() {\n",
       "        comm.close()\n",
       "    };\n",
       "    ws.send = function(m) {\n",
       "        //console.log('sending', m);\n",
       "        comm.send(m);\n",
       "    };\n",
       "    // Register the callback with on_msg.\n",
       "    comm.on_msg(function(msg) {\n",
       "        //console.log('receiving', msg['content']['data'], msg);\n",
       "        // Pass the mpl event to the overridden (by mpl) onmessage function.\n",
       "        ws.onmessage(msg['content']['data'])\n",
       "    });\n",
       "    return ws;\n",
       "}\n",
       "\n",
       "mpl.mpl_figure_comm = function(comm, msg) {\n",
       "    // This is the function which gets called when the mpl process\n",
       "    // starts-up an IPython Comm through the \"matplotlib\" channel.\n",
       "\n",
       "    var id = msg.content.data.id;\n",
       "    // Get hold of the div created by the display call when the Comm\n",
       "    // socket was opened in Python.\n",
       "    var element = $(\"#\" + id);\n",
       "    var ws_proxy = comm_websocket_adapter(comm)\n",
       "\n",
       "    function ondownload(figure, format) {\n",
       "        window.open(figure.imageObj.src);\n",
       "    }\n",
       "\n",
       "    var fig = new mpl.figure(id, ws_proxy,\n",
       "                           ondownload,\n",
       "                           element.get(0));\n",
       "\n",
       "    // Call onopen now - mpl needs it, as it is assuming we've passed it a real\n",
       "    // web socket which is closed, not our websocket->open comm proxy.\n",
       "    ws_proxy.onopen();\n",
       "\n",
       "    fig.parent_element = element.get(0);\n",
       "    fig.cell_info = mpl.find_output_cell(\"<div id='\" + id + \"'></div>\");\n",
       "    if (!fig.cell_info) {\n",
       "        console.error(\"Failed to find cell for figure\", id, fig);\n",
       "        return;\n",
       "    }\n",
       "\n",
       "    var output_index = fig.cell_info[2]\n",
       "    var cell = fig.cell_info[0];\n",
       "\n",
       "};\n",
       "\n",
       "mpl.figure.prototype.handle_close = function(fig, msg) {\n",
       "    var width = fig.canvas.width/mpl.ratio\n",
       "    fig.root.unbind('remove')\n",
       "\n",
       "    // Update the output cell to use the data from the current canvas.\n",
       "    fig.push_to_output();\n",
       "    var dataURL = fig.canvas.toDataURL();\n",
       "    // Re-enable the keyboard manager in IPython - without this line, in FF,\n",
       "    // the notebook keyboard shortcuts fail.\n",
       "    IPython.keyboard_manager.enable()\n",
       "    $(fig.parent_element).html('<img src=\"' + dataURL + '\" width=\"' + width + '\">');\n",
       "    fig.close_ws(fig, msg);\n",
       "}\n",
       "\n",
       "mpl.figure.prototype.close_ws = function(fig, msg){\n",
       "    fig.send_message('closing', msg);\n",
       "    // fig.ws.close()\n",
       "}\n",
       "\n",
       "mpl.figure.prototype.push_to_output = function(remove_interactive) {\n",
       "    // Turn the data on the canvas into data in the output cell.\n",
       "    var width = this.canvas.width/mpl.ratio\n",
       "    var dataURL = this.canvas.toDataURL();\n",
       "    this.cell_info[1]['text/html'] = '<img src=\"' + dataURL + '\" width=\"' + width + '\">';\n",
       "}\n",
       "\n",
       "mpl.figure.prototype.updated_canvas_event = function() {\n",
       "    // Tell IPython that the notebook contents must change.\n",
       "    IPython.notebook.set_dirty(true);\n",
       "    this.send_message(\"ack\", {});\n",
       "    var fig = this;\n",
       "    // Wait a second, then push the new image to the DOM so\n",
       "    // that it is saved nicely (might be nice to debounce this).\n",
       "    setTimeout(function () { fig.push_to_output() }, 1000);\n",
       "}\n",
       "\n",
       "mpl.figure.prototype._init_toolbar = function() {\n",
       "    var fig = this;\n",
       "\n",
       "    var nav_element = $('<div/>');\n",
       "    nav_element.attr('style', 'width: 100%');\n",
       "    this.root.append(nav_element);\n",
       "\n",
       "    // Define a callback function for later on.\n",
       "    function toolbar_event(event) {\n",
       "        return fig.toolbar_button_onclick(event['data']);\n",
       "    }\n",
       "    function toolbar_mouse_event(event) {\n",
       "        return fig.toolbar_button_onmouseover(event['data']);\n",
       "    }\n",
       "\n",
       "    for(var toolbar_ind in mpl.toolbar_items){\n",
       "        var name = mpl.toolbar_items[toolbar_ind][0];\n",
       "        var tooltip = mpl.toolbar_items[toolbar_ind][1];\n",
       "        var image = mpl.toolbar_items[toolbar_ind][2];\n",
       "        var method_name = mpl.toolbar_items[toolbar_ind][3];\n",
       "\n",
       "        if (!name) { continue; };\n",
       "\n",
       "        var button = $('<button class=\"btn btn-default\" href=\"#\" title=\"' + name + '\"><i class=\"fa ' + image + ' fa-lg\"></i></button>');\n",
       "        button.click(method_name, toolbar_event);\n",
       "        button.mouseover(tooltip, toolbar_mouse_event);\n",
       "        nav_element.append(button);\n",
       "    }\n",
       "\n",
       "    // Add the status bar.\n",
       "    var status_bar = $('<span class=\"mpl-message\" style=\"text-align:right; float: right;\"/>');\n",
       "    nav_element.append(status_bar);\n",
       "    this.message = status_bar[0];\n",
       "\n",
       "    // Add the close button to the window.\n",
       "    var buttongrp = $('<div class=\"btn-group inline pull-right\"></div>');\n",
       "    var button = $('<button class=\"btn btn-mini btn-primary\" href=\"#\" title=\"Stop Interaction\"><i class=\"fa fa-power-off icon-remove icon-large\"></i></button>');\n",
       "    button.click(function (evt) { fig.handle_close(fig, {}); } );\n",
       "    button.mouseover('Stop Interaction', toolbar_mouse_event);\n",
       "    buttongrp.append(button);\n",
       "    var titlebar = this.root.find($('.ui-dialog-titlebar'));\n",
       "    titlebar.prepend(buttongrp);\n",
       "}\n",
       "\n",
       "mpl.figure.prototype._root_extra_style = function(el){\n",
       "    var fig = this\n",
       "    el.on(\"remove\", function(){\n",
       "\tfig.close_ws(fig, {});\n",
       "    });\n",
       "}\n",
       "\n",
       "mpl.figure.prototype._canvas_extra_style = function(el){\n",
       "    // this is important to make the div 'focusable\n",
       "    el.attr('tabindex', 0)\n",
       "    // reach out to IPython and tell the keyboard manager to turn it's self\n",
       "    // off when our div gets focus\n",
       "\n",
       "    // location in version 3\n",
       "    if (IPython.notebook.keyboard_manager) {\n",
       "        IPython.notebook.keyboard_manager.register_events(el);\n",
       "    }\n",
       "    else {\n",
       "        // location in version 2\n",
       "        IPython.keyboard_manager.register_events(el);\n",
       "    }\n",
       "\n",
       "}\n",
       "\n",
       "mpl.figure.prototype._key_event_extra = function(event, name) {\n",
       "    var manager = IPython.notebook.keyboard_manager;\n",
       "    if (!manager)\n",
       "        manager = IPython.keyboard_manager;\n",
       "\n",
       "    // Check for shift+enter\n",
       "    if (event.shiftKey && event.which == 13) {\n",
       "        this.canvas_div.blur();\n",
       "        // select the cell after this one\n",
       "        var index = IPython.notebook.find_cell_index(this.cell_info[0]);\n",
       "        IPython.notebook.select(index + 1);\n",
       "    }\n",
       "}\n",
       "\n",
       "mpl.figure.prototype.handle_save = function(fig, msg) {\n",
       "    fig.ondownload(fig, null);\n",
       "}\n",
       "\n",
       "\n",
       "mpl.find_output_cell = function(html_output) {\n",
       "    // Return the cell and output element which can be found *uniquely* in the notebook.\n",
       "    // Note - this is a bit hacky, but it is done because the \"notebook_saving.Notebook\"\n",
       "    // IPython event is triggered only after the cells have been serialised, which for\n",
       "    // our purposes (turning an active figure into a static one), is too late.\n",
       "    var cells = IPython.notebook.get_cells();\n",
       "    var ncells = cells.length;\n",
       "    for (var i=0; i<ncells; i++) {\n",
       "        var cell = cells[i];\n",
       "        if (cell.cell_type === 'code'){\n",
       "            for (var j=0; j<cell.output_area.outputs.length; j++) {\n",
       "                var data = cell.output_area.outputs[j];\n",
       "                if (data.data) {\n",
       "                    // IPython >= 3 moved mimebundle to data attribute of output\n",
       "                    data = data.data;\n",
       "                }\n",
       "                if (data['text/html'] == html_output) {\n",
       "                    return [cell, data, j];\n",
       "                }\n",
       "            }\n",
       "        }\n",
       "    }\n",
       "}\n",
       "\n",
       "// Register the function which deals with the matplotlib target/channel.\n",
       "// The kernel may be null if the page has been refreshed.\n",
       "if (IPython.notebook.kernel != null) {\n",
       "    IPython.notebook.kernel.comm_manager.register_target('matplotlib', mpl.mpl_figure_comm);\n",
       "}\n"
      ],
      "text/plain": [
       "<IPython.core.display.Javascript object>"
      ]
     },
     "metadata": {},
     "output_type": "display_data"
    },
    {
     "data": {
      "text/html": [
       "<img src=\"data:image/png;base64,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\" width=\"1000\">"
      ],
      "text/plain": [
       "<IPython.core.display.HTML object>"
      ]
     },
     "metadata": {},
     "output_type": "display_data"
    }
   ],
   "source": [
    "ax, tax, lax, lines = dual_train_plots()\n",
    "fig = ax.figure\n",
    "plt.tight_layout()"
   ]
  },
  {
   "cell_type": "code",
   "execution_count": 17,
   "metadata": {
    "scrolled": false
   },
   "outputs": [
    {
     "name": "stdout",
     "output_type": "stream",
     "text": [
      "Number of batches: train = 6667, val = 209\n"
     ]
    },
    {
     "data": {
      "application/vnd.jupyter.widget-view+json": {
       "model_id": "bb9e13fefc0b4eaabae0df256bff4434",
       "version_major": 2,
       "version_minor": 0
      },
      "text/plain": [
       "HBox(children=(FloatProgress(value=0.0, description='Epochs', layout=Layout(flex='2'), max=50.0, style=Progres…"
      ]
     },
     "metadata": {},
     "output_type": "display_data"
    },
    {
     "name": "stdout",
     "output_type": "stream",
     "text": [
      "Number of batches: train = 6667, val = 209\n"
     ]
    },
    {
     "data": {
      "application/vnd.jupyter.widget-view+json": {
       "model_id": "",
       "version_major": 2,
       "version_minor": 0
      },
      "text/plain": [
       "HBox(children=(FloatProgress(value=0.0, description='Training', layout=Layout(flex='2'), max=6667.0, style=Pro…"
      ]
     },
     "metadata": {},
     "output_type": "display_data"
    },
    {
     "name": "stdout",
     "output_type": "stream",
     "text": [
      "Epoch 0: train=5.14354, val=4.34166, took 552.97 s\n"
     ]
    },
    {
     "data": {
      "application/vnd.jupyter.widget-view+json": {
       "model_id": "",
       "version_major": 2,
       "version_minor": 0
      },
      "text/plain": [
       "HBox(children=(FloatProgress(value=0.0, description='Training', layout=Layout(flex='2'), max=6667.0, style=Pro…"
      ]
     },
     "metadata": {},
     "output_type": "display_data"
    },
    {
     "name": "stdout",
     "output_type": "stream",
     "text": [
      "Epoch 1: train=5.08562, val=4.00123, took 574.05 s\n"
     ]
    },
    {
     "data": {
      "application/vnd.jupyter.widget-view+json": {
       "model_id": "",
       "version_major": 2,
       "version_minor": 0
      },
      "text/plain": [
       "HBox(children=(FloatProgress(value=0.0, description='Training', layout=Layout(flex='2'), max=6667.0, style=Pro…"
      ]
     },
     "metadata": {},
     "output_type": "display_data"
    },
    {
     "name": "stdout",
     "output_type": "stream",
     "text": [
      "Epoch 2: train=5.07338, val=4.15123, took 549.04 s\n"
     ]
    },
    {
     "data": {
      "application/vnd.jupyter.widget-view+json": {
       "model_id": "",
       "version_major": 2,
       "version_minor": 0
      },
      "text/plain": [
       "HBox(children=(FloatProgress(value=0.0, description='Training', layout=Layout(flex='2'), max=6667.0, style=Pro…"
      ]
     },
     "metadata": {},
     "output_type": "display_data"
    },
    {
     "name": "stdout",
     "output_type": "stream",
     "text": [
      "Epoch 3: train=5.08798, val=4.16114, took 549.73 s\n"
     ]
    },
    {
     "data": {
      "application/vnd.jupyter.widget-view+json": {
       "model_id": "",
       "version_major": 2,
       "version_minor": 0
      },
      "text/plain": [
       "HBox(children=(FloatProgress(value=0.0, description='Training', layout=Layout(flex='2'), max=6667.0, style=Pro…"
      ]
     },
     "metadata": {},
     "output_type": "display_data"
    },
    {
     "name": "stdout",
     "output_type": "stream",
     "text": [
      "Epoch 4: train=5.05075, val=4.03777, took 546.84 s\n"
     ]
    },
    {
     "data": {
      "application/vnd.jupyter.widget-view+json": {
       "model_id": "",
       "version_major": 2,
       "version_minor": 0
      },
      "text/plain": [
       "HBox(children=(FloatProgress(value=0.0, description='Training', layout=Layout(flex='2'), max=6667.0, style=Pro…"
      ]
     },
     "metadata": {},
     "output_type": "display_data"
    },
    {
     "name": "stdout",
     "output_type": "stream",
     "text": [
      "Epoch 5: train=5.07596, val=3.94366, took 546.39 s\n"
     ]
    },
    {
     "data": {
      "application/vnd.jupyter.widget-view+json": {
       "model_id": "",
       "version_major": 2,
       "version_minor": 0
      },
      "text/plain": [
       "HBox(children=(FloatProgress(value=0.0, description='Training', layout=Layout(flex='2'), max=6667.0, style=Pro…"
      ]
     },
     "metadata": {},
     "output_type": "display_data"
    },
    {
     "name": "stdout",
     "output_type": "stream",
     "text": [
      "Epoch 6: train=5.06845, val=3.99834, took 546.3 s\n"
     ]
    },
    {
     "data": {
      "application/vnd.jupyter.widget-view+json": {
       "model_id": "",
       "version_major": 2,
       "version_minor": 0
      },
      "text/plain": [
       "HBox(children=(FloatProgress(value=0.0, description='Training', layout=Layout(flex='2'), max=6667.0, style=Pro…"
      ]
     },
     "metadata": {},
     "output_type": "display_data"
    },
    {
     "name": "stdout",
     "output_type": "stream",
     "text": [
      "Epoch 7: train=5.0377, val=3.90903, took 548.89 s\n"
     ]
    },
    {
     "data": {
      "application/vnd.jupyter.widget-view+json": {
       "model_id": "",
       "version_major": 2,
       "version_minor": 0
      },
      "text/plain": [
       "HBox(children=(FloatProgress(value=0.0, description='Training', layout=Layout(flex='2'), max=6667.0, style=Pro…"
      ]
     },
     "metadata": {},
     "output_type": "display_data"
    },
    {
     "name": "stdout",
     "output_type": "stream",
     "text": [
      "Epoch 8: train=5.02552, val=4.00773, took 548.32 s\n"
     ]
    },
    {
     "data": {
      "application/vnd.jupyter.widget-view+json": {
       "model_id": "",
       "version_major": 2,
       "version_minor": 0
      },
      "text/plain": [
       "HBox(children=(FloatProgress(value=0.0, description='Training', layout=Layout(flex='2'), max=6667.0, style=Pro…"
      ]
     },
     "metadata": {},
     "output_type": "display_data"
    },
    {
     "name": "stdout",
     "output_type": "stream",
     "text": [
      "Epoch 9: train=5.02925, val=3.95004, took 545.85 s\n"
     ]
    },
    {
     "data": {
      "application/vnd.jupyter.widget-view+json": {
       "model_id": "",
       "version_major": 2,
       "version_minor": 0
      },
      "text/plain": [
       "HBox(children=(FloatProgress(value=0.0, description='Training', layout=Layout(flex='2'), max=6667.0, style=Pro…"
      ]
     },
     "metadata": {},
     "output_type": "display_data"
    },
    {
     "name": "stdout",
     "output_type": "stream",
     "text": [
      "Epoch 10: train=5.01208, val=3.88971, took 546.05 s\n"
     ]
    },
    {
     "data": {
      "application/vnd.jupyter.widget-view+json": {
       "model_id": "",
       "version_major": 2,
       "version_minor": 0
      },
      "text/plain": [
       "HBox(children=(FloatProgress(value=0.0, description='Training', layout=Layout(flex='2'), max=6667.0, style=Pro…"
      ]
     },
     "metadata": {},
     "output_type": "display_data"
    },
    {
     "name": "stdout",
     "output_type": "stream",
     "text": [
      "Epoch 11: train=5.01148, val=4.18072, took 545.91 s\n"
     ]
    },
    {
     "data": {
      "application/vnd.jupyter.widget-view+json": {
       "model_id": "",
       "version_major": 2,
       "version_minor": 0
      },
      "text/plain": [
       "HBox(children=(FloatProgress(value=0.0, description='Training', layout=Layout(flex='2'), max=6667.0, style=Pro…"
      ]
     },
     "metadata": {},
     "output_type": "display_data"
    },
    {
     "name": "stdout",
     "output_type": "stream",
     "text": [
      "Epoch 12: train=5.0459, val=4.45223, took 546.05 s\n"
     ]
    },
    {
     "data": {
      "application/vnd.jupyter.widget-view+json": {
       "model_id": "",
       "version_major": 2,
       "version_minor": 0
      },
      "text/plain": [
       "HBox(children=(FloatProgress(value=0.0, description='Training', layout=Layout(flex='2'), max=6667.0, style=Pro…"
      ]
     },
     "metadata": {},
     "output_type": "display_data"
    },
    {
     "name": "stdout",
     "output_type": "stream",
     "text": [
      "Epoch 13: train=4.99352, val=4.30155, took 546.31 s\n"
     ]
    },
    {
     "data": {
      "application/vnd.jupyter.widget-view+json": {
       "model_id": "",
       "version_major": 2,
       "version_minor": 0
      },
      "text/plain": [
       "HBox(children=(FloatProgress(value=0.0, description='Training', layout=Layout(flex='2'), max=6667.0, style=Pro…"
      ]
     },
     "metadata": {},
     "output_type": "display_data"
    },
    {
     "name": "stdout",
     "output_type": "stream",
     "text": [
      "Epoch 14: train=5.00068, val=4.14638, took 550.42 s\n"
     ]
    },
    {
     "data": {
      "application/vnd.jupyter.widget-view+json": {
       "model_id": "",
       "version_major": 2,
       "version_minor": 0
      },
      "text/plain": [
       "HBox(children=(FloatProgress(value=0.0, description='Training', layout=Layout(flex='2'), max=6667.0, style=Pro…"
      ]
     },
     "metadata": {},
     "output_type": "display_data"
    },
    {
     "name": "stdout",
     "output_type": "stream",
     "text": [
      "Epoch 15: train=5.00456, val=3.89517, took 548.56 s\n"
     ]
    },
    {
     "data": {
      "application/vnd.jupyter.widget-view+json": {
       "model_id": "",
       "version_major": 2,
       "version_minor": 0
      },
      "text/plain": [
       "HBox(children=(FloatProgress(value=0.0, description='Training', layout=Layout(flex='2'), max=6667.0, style=Pro…"
      ]
     },
     "metadata": {},
     "output_type": "display_data"
    },
    {
     "name": "stdout",
     "output_type": "stream",
     "text": [
      "Epoch 16: train=4.99638, val=7.07543, took 546.18 s\n"
     ]
    },
    {
     "data": {
      "application/vnd.jupyter.widget-view+json": {
       "model_id": "",
       "version_major": 2,
       "version_minor": 0
      },
      "text/plain": [
       "HBox(children=(FloatProgress(value=0.0, description='Training', layout=Layout(flex='2'), max=6667.0, style=Pro…"
      ]
     },
     "metadata": {},
     "output_type": "display_data"
    },
    {
     "name": "stdout",
     "output_type": "stream",
     "text": [
      "Epoch 17: train=4.97801, val=3.88573, took 545.93 s\n"
     ]
    },
    {
     "data": {
      "application/vnd.jupyter.widget-view+json": {
       "model_id": "",
       "version_major": 2,
       "version_minor": 0
      },
      "text/plain": [
       "HBox(children=(FloatProgress(value=0.0, description='Training', layout=Layout(flex='2'), max=6667.0, style=Pro…"
      ]
     },
     "metadata": {},
     "output_type": "display_data"
    },
    {
     "name": "stdout",
     "output_type": "stream",
     "text": [
      "Epoch 18: train=4.97758, val=4.38285, took 550.18 s\n"
     ]
    },
    {
     "data": {
      "application/vnd.jupyter.widget-view+json": {
       "model_id": "",
       "version_major": 2,
       "version_minor": 0
      },
      "text/plain": [
       "HBox(children=(FloatProgress(value=0.0, description='Training', layout=Layout(flex='2'), max=6667.0, style=Pro…"
      ]
     },
     "metadata": {},
     "output_type": "display_data"
    },
    {
     "name": "stdout",
     "output_type": "stream",
     "text": [
      "Epoch 19: train=4.98422, val=4.06327, took 546.04 s\n"
     ]
    },
    {
     "data": {
      "application/vnd.jupyter.widget-view+json": {
       "model_id": "",
       "version_major": 2,
       "version_minor": 0
      },
      "text/plain": [
       "HBox(children=(FloatProgress(value=0.0, description='Training', layout=Layout(flex='2'), max=6667.0, style=Pro…"
      ]
     },
     "metadata": {},
     "output_type": "display_data"
    },
    {
     "name": "stdout",
     "output_type": "stream",
     "text": [
      "Epoch 20: train=4.95562, val=3.89458, took 545.01 s\n"
     ]
    },
    {
     "data": {
      "application/vnd.jupyter.widget-view+json": {
       "model_id": "",
       "version_major": 2,
       "version_minor": 0
      },
      "text/plain": [
       "HBox(children=(FloatProgress(value=0.0, description='Training', layout=Layout(flex='2'), max=6667.0, style=Pro…"
      ]
     },
     "metadata": {},
     "output_type": "display_data"
    },
    {
     "name": "stdout",
     "output_type": "stream",
     "text": [
      "Epoch 21: train=4.97793, val=3.9012, took 549.21 s\n"
     ]
    },
    {
     "data": {
      "application/vnd.jupyter.widget-view+json": {
       "model_id": "",
       "version_major": 2,
       "version_minor": 0
      },
      "text/plain": [
       "HBox(children=(FloatProgress(value=0.0, description='Training', layout=Layout(flex='2'), max=6667.0, style=Pro…"
      ]
     },
     "metadata": {},
     "output_type": "display_data"
    },
    {
     "name": "stdout",
     "output_type": "stream",
     "text": [
      "Epoch 22: train=4.96404, val=4.60187, took 550.1 s\n"
     ]
    },
    {
     "data": {
      "application/vnd.jupyter.widget-view+json": {
       "model_id": "",
       "version_major": 2,
       "version_minor": 0
      },
      "text/plain": [
       "HBox(children=(FloatProgress(value=0.0, description='Training', layout=Layout(flex='2'), max=6667.0, style=Pro…"
      ]
     },
     "metadata": {},
     "output_type": "display_data"
    },
    {
     "name": "stdout",
     "output_type": "stream",
     "text": [
      "Epoch 23: train=4.93884, val=4.27697, took 550.61 s\n"
     ]
    },
    {
     "data": {
      "application/vnd.jupyter.widget-view+json": {
       "model_id": "",
       "version_major": 2,
       "version_minor": 0
      },
      "text/plain": [
       "HBox(children=(FloatProgress(value=0.0, description='Training', layout=Layout(flex='2'), max=6667.0, style=Pro…"
      ]
     },
     "metadata": {},
     "output_type": "display_data"
    },
    {
     "name": "stdout",
     "output_type": "stream",
     "text": [
      "Epoch 24: train=4.96111, val=3.81723, took 552.35 s\n"
     ]
    },
    {
     "data": {
      "application/vnd.jupyter.widget-view+json": {
       "model_id": "",
       "version_major": 2,
       "version_minor": 0
      },
      "text/plain": [
       "HBox(children=(FloatProgress(value=0.0, description='Training', layout=Layout(flex='2'), max=6667.0, style=Pro…"
      ]
     },
     "metadata": {},
     "output_type": "display_data"
    },
    {
     "name": "stdout",
     "output_type": "stream",
     "text": [
      "Epoch 25: train=4.93233, val=4.76556, took 550.32 s\n"
     ]
    },
    {
     "data": {
      "application/vnd.jupyter.widget-view+json": {
       "model_id": "",
       "version_major": 2,
       "version_minor": 0
      },
      "text/plain": [
       "HBox(children=(FloatProgress(value=0.0, description='Training', layout=Layout(flex='2'), max=6667.0, style=Pro…"
      ]
     },
     "metadata": {},
     "output_type": "display_data"
    },
    {
     "name": "stdout",
     "output_type": "stream",
     "text": [
      "Epoch 26: train=4.92515, val=3.78957, took 550.65 s\n"
     ]
    },
    {
     "data": {
      "application/vnd.jupyter.widget-view+json": {
       "model_id": "",
       "version_major": 2,
       "version_minor": 0
      },
      "text/plain": [
       "HBox(children=(FloatProgress(value=0.0, description='Training', layout=Layout(flex='2'), max=6667.0, style=Pro…"
      ]
     },
     "metadata": {},
     "output_type": "display_data"
    },
    {
     "name": "stdout",
     "output_type": "stream",
     "text": [
      "Epoch 27: train=4.94141, val=3.87346, took 552.18 s\n"
     ]
    },
    {
     "data": {
      "application/vnd.jupyter.widget-view+json": {
       "model_id": "",
       "version_major": 2,
       "version_minor": 0
      },
      "text/plain": [
       "HBox(children=(FloatProgress(value=0.0, description='Training', layout=Layout(flex='2'), max=6667.0, style=Pro…"
      ]
     },
     "metadata": {},
     "output_type": "display_data"
    },
    {
     "name": "stdout",
     "output_type": "stream",
     "text": [
      "Epoch 28: train=4.93523, val=3.83989, took 548.91 s\n"
     ]
    },
    {
     "data": {
      "application/vnd.jupyter.widget-view+json": {
       "model_id": "",
       "version_major": 2,
       "version_minor": 0
      },
      "text/plain": [
       "HBox(children=(FloatProgress(value=0.0, description='Training', layout=Layout(flex='2'), max=6667.0, style=Pro…"
      ]
     },
     "metadata": {},
     "output_type": "display_data"
    },
    {
     "name": "stdout",
     "output_type": "stream",
     "text": [
      "Epoch 29: train=4.90676, val=4.01658, took 546.85 s\n"
     ]
    },
    {
     "data": {
      "application/vnd.jupyter.widget-view+json": {
       "model_id": "",
       "version_major": 2,
       "version_minor": 0
      },
      "text/plain": [
       "HBox(children=(FloatProgress(value=0.0, description='Training', layout=Layout(flex='2'), max=6667.0, style=Pro…"
      ]
     },
     "metadata": {},
     "output_type": "display_data"
    },
    {
     "name": "stdout",
     "output_type": "stream",
     "text": [
      "Epoch 30: train=4.90608, val=3.78799, took 546.48 s\n"
     ]
    },
    {
     "data": {
      "application/vnd.jupyter.widget-view+json": {
       "model_id": "",
       "version_major": 2,
       "version_minor": 0
      },
      "text/plain": [
       "HBox(children=(FloatProgress(value=0.0, description='Training', layout=Layout(flex='2'), max=6667.0, style=Pro…"
      ]
     },
     "metadata": {},
     "output_type": "display_data"
    },
    {
     "name": "stdout",
     "output_type": "stream",
     "text": [
      "Epoch 31: train=4.91667, val=3.79682, took 556.68 s\n"
     ]
    },
    {
     "data": {
      "application/vnd.jupyter.widget-view+json": {
       "model_id": "",
       "version_major": 2,
       "version_minor": 0
      },
      "text/plain": [
       "HBox(children=(FloatProgress(value=0.0, description='Training', layout=Layout(flex='2'), max=6667.0, style=Pro…"
      ]
     },
     "metadata": {},
     "output_type": "display_data"
    },
    {
     "name": "stdout",
     "output_type": "stream",
     "text": [
      "Epoch 32: train=4.93913, val=3.83761, took 642.79 s\n"
     ]
    },
    {
     "data": {
      "application/vnd.jupyter.widget-view+json": {
       "model_id": "",
       "version_major": 2,
       "version_minor": 0
      },
      "text/plain": [
       "HBox(children=(FloatProgress(value=0.0, description='Training', layout=Layout(flex='2'), max=6667.0, style=Pro…"
      ]
     },
     "metadata": {},
     "output_type": "display_data"
    },
    {
     "name": "stdout",
     "output_type": "stream",
     "text": [
      "Epoch 33: train=4.87768, val=3.82539, took 555.87 s\n"
     ]
    },
    {
     "data": {
      "application/vnd.jupyter.widget-view+json": {
       "model_id": "",
       "version_major": 2,
       "version_minor": 0
      },
      "text/plain": [
       "HBox(children=(FloatProgress(value=0.0, description='Training', layout=Layout(flex='2'), max=6667.0, style=Pro…"
      ]
     },
     "metadata": {},
     "output_type": "display_data"
    },
    {
     "name": "stdout",
     "output_type": "stream",
     "text": [
      "Epoch 34: train=4.88804, val=3.96322, took 552.7 s\n"
     ]
    },
    {
     "data": {
      "application/vnd.jupyter.widget-view+json": {
       "model_id": "",
       "version_major": 2,
       "version_minor": 0
      },
      "text/plain": [
       "HBox(children=(FloatProgress(value=0.0, description='Training', layout=Layout(flex='2'), max=6667.0, style=Pro…"
      ]
     },
     "metadata": {},
     "output_type": "display_data"
    },
    {
     "name": "stdout",
     "output_type": "stream",
     "text": [
      "Epoch 35: train=4.89692, val=4.04517, took 553.59 s\n"
     ]
    },
    {
     "data": {
      "application/vnd.jupyter.widget-view+json": {
       "model_id": "",
       "version_major": 2,
       "version_minor": 0
      },
      "text/plain": [
       "HBox(children=(FloatProgress(value=0.0, description='Training', layout=Layout(flex='2'), max=6667.0, style=Pro…"
      ]
     },
     "metadata": {},
     "output_type": "display_data"
    },
    {
     "name": "stdout",
     "output_type": "stream",
     "text": [
      "Epoch 36: train=4.87572, val=4.34912, took 553.85 s\n"
     ]
    },
    {
     "data": {
      "application/vnd.jupyter.widget-view+json": {
       "model_id": "",
       "version_major": 2,
       "version_minor": 0
      },
      "text/plain": [
       "HBox(children=(FloatProgress(value=0.0, description='Training', layout=Layout(flex='2'), max=6667.0, style=Pro…"
      ]
     },
     "metadata": {},
     "output_type": "display_data"
    },
    {
     "name": "stdout",
     "output_type": "stream",
     "text": [
      "Epoch 37: train=4.89984, val=3.8168, took 553.22 s\n"
     ]
    },
    {
     "data": {
      "application/vnd.jupyter.widget-view+json": {
       "model_id": "",
       "version_major": 2,
       "version_minor": 0
      },
      "text/plain": [
       "HBox(children=(FloatProgress(value=0.0, description='Training', layout=Layout(flex='2'), max=6667.0, style=Pro…"
      ]
     },
     "metadata": {},
     "output_type": "display_data"
    },
    {
     "name": "stdout",
     "output_type": "stream",
     "text": [
      "Epoch 38: train=4.89242, val=3.79854, took 552.64 s\n"
     ]
    },
    {
     "data": {
      "application/vnd.jupyter.widget-view+json": {
       "model_id": "",
       "version_major": 2,
       "version_minor": 0
      },
      "text/plain": [
       "HBox(children=(FloatProgress(value=0.0, description='Training', layout=Layout(flex='2'), max=6667.0, style=Pro…"
      ]
     },
     "metadata": {},
     "output_type": "display_data"
    },
    {
     "name": "stdout",
     "output_type": "stream",
     "text": [
      "Epoch 39: train=4.85898, val=4.73158, took 557.53 s\n"
     ]
    },
    {
     "data": {
      "application/vnd.jupyter.widget-view+json": {
       "model_id": "",
       "version_major": 2,
       "version_minor": 0
      },
      "text/plain": [
       "HBox(children=(FloatProgress(value=0.0, description='Training', layout=Layout(flex='2'), max=6667.0, style=Pro…"
      ]
     },
     "metadata": {},
     "output_type": "display_data"
    },
    {
     "name": "stdout",
     "output_type": "stream",
     "text": [
      "Epoch 40: train=4.84505, val=3.74273, took 554.19 s\n"
     ]
    },
    {
     "data": {
      "application/vnd.jupyter.widget-view+json": {
       "model_id": "",
       "version_major": 2,
       "version_minor": 0
      },
      "text/plain": [
       "HBox(children=(FloatProgress(value=0.0, description='Training', layout=Layout(flex='2'), max=6667.0, style=Pro…"
      ]
     },
     "metadata": {},
     "output_type": "display_data"
    },
    {
     "name": "stdout",
     "output_type": "stream",
     "text": [
      "Epoch 41: train=4.86431, val=3.77244, took 553.69 s\n"
     ]
    },
    {
     "data": {
      "application/vnd.jupyter.widget-view+json": {
       "model_id": "",
       "version_major": 2,
       "version_minor": 0
      },
      "text/plain": [
       "HBox(children=(FloatProgress(value=0.0, description='Training', layout=Layout(flex='2'), max=6667.0, style=Pro…"
      ]
     },
     "metadata": {},
     "output_type": "display_data"
    },
    {
     "name": "stdout",
     "output_type": "stream",
     "text": [
      "Epoch 42: train=4.87637, val=4.03968, took 555.66 s\n"
     ]
    },
    {
     "data": {
      "application/vnd.jupyter.widget-view+json": {
       "model_id": "",
       "version_major": 2,
       "version_minor": 0
      },
      "text/plain": [
       "HBox(children=(FloatProgress(value=0.0, description='Training', layout=Layout(flex='2'), max=6667.0, style=Pro…"
      ]
     },
     "metadata": {},
     "output_type": "display_data"
    },
    {
     "name": "stdout",
     "output_type": "stream",
     "text": [
      "Epoch 43: train=4.82531, val=3.79362, took 556.23 s\n"
     ]
    },
    {
     "data": {
      "application/vnd.jupyter.widget-view+json": {
       "model_id": "",
       "version_major": 2,
       "version_minor": 0
      },
      "text/plain": [
       "HBox(children=(FloatProgress(value=0.0, description='Training', layout=Layout(flex='2'), max=6667.0, style=Pro…"
      ]
     },
     "metadata": {},
     "output_type": "display_data"
    },
    {
     "name": "stdout",
     "output_type": "stream",
     "text": [
      "Epoch 44: train=4.83862, val=3.85958, took 554.33 s\n"
     ]
    },
    {
     "data": {
      "application/vnd.jupyter.widget-view+json": {
       "model_id": "",
       "version_major": 2,
       "version_minor": 0
      },
      "text/plain": [
       "HBox(children=(FloatProgress(value=0.0, description='Training', layout=Layout(flex='2'), max=6667.0, style=Pro…"
      ]
     },
     "metadata": {},
     "output_type": "display_data"
    },
    {
     "name": "stdout",
     "output_type": "stream",
     "text": [
      "Epoch 45: train=4.86608, val=3.71208, took 552.68 s\n"
     ]
    },
    {
     "data": {
      "application/vnd.jupyter.widget-view+json": {
       "model_id": "",
       "version_major": 2,
       "version_minor": 0
      },
      "text/plain": [
       "HBox(children=(FloatProgress(value=0.0, description='Training', layout=Layout(flex='2'), max=6667.0, style=Pro…"
      ]
     },
     "metadata": {},
     "output_type": "display_data"
    },
    {
     "name": "stdout",
     "output_type": "stream",
     "text": [
      "Epoch 46: train=4.83139, val=4.04537, took 555.22 s\n"
     ]
    },
    {
     "data": {
      "application/vnd.jupyter.widget-view+json": {
       "model_id": "",
       "version_major": 2,
       "version_minor": 0
      },
      "text/plain": [
       "HBox(children=(FloatProgress(value=0.0, description='Training', layout=Layout(flex='2'), max=6667.0, style=Pro…"
      ]
     },
     "metadata": {},
     "output_type": "display_data"
    },
    {
     "name": "stdout",
     "output_type": "stream",
     "text": [
      "Epoch 47: train=4.82635, val=3.92757, took 555.64 s\n"
     ]
    },
    {
     "data": {
      "application/vnd.jupyter.widget-view+json": {
       "model_id": "",
       "version_major": 2,
       "version_minor": 0
      },
      "text/plain": [
       "HBox(children=(FloatProgress(value=0.0, description='Training', layout=Layout(flex='2'), max=6667.0, style=Pro…"
      ]
     },
     "metadata": {},
     "output_type": "display_data"
    },
    {
     "name": "stdout",
     "output_type": "stream",
     "text": [
      "Epoch 48: train=4.83391, val=3.82089, took 553.86 s\n"
     ]
    },
    {
     "data": {
      "application/vnd.jupyter.widget-view+json": {
       "model_id": "",
       "version_major": 2,
       "version_minor": 0
      },
      "text/plain": [
       "HBox(children=(FloatProgress(value=0.0, description='Training', layout=Layout(flex='2'), max=6667.0, style=Pro…"
      ]
     },
     "metadata": {},
     "output_type": "display_data"
    },
    {
     "name": "stdout",
     "output_type": "stream",
     "text": [
      "Epoch 49: train=4.82807, val=3.79717, took 553.62 s\n",
      "\n"
     ]
    }
   ],
   "source": [
    "for result in trainNet(model, optimizer, loss,\n",
    "                        train_loader, val_loader,\n",
    "                        n_epochs, epoch_start=len(results),\n",
    "                        notebook=True):\n",
    "    \n",
    "    results = results.append(pd.Series(result._asdict()), ignore_index=True)\n",
    "    xs = results.index\n",
    "    \n",
    "    # Update the plot above\n",
    "    lines['train'].set_data(results.index,results.cost)\n",
    "    lines['val'].set_data(results.index,results.val)\n",
    "    \n",
    "    #filter first cost epoch (can be really large)\n",
    "    max_cost = max(max(results.cost if len(results.cost)<2 else results.cost[1:]), max(results.val))\n",
    "    min_cost = min(min(results.cost), min(results.val))\n",
    "    \n",
    "    # The plot limits need updating too\n",
    "    \n",
    "    \n",
    "    \n",
    "    ax.set_ylim(min_cost*.9, max_cost*1.1)  \n",
    "    ax.set_xlim(-.5, len(results.cost) - .5)\n",
    "\n",
    "    \n",
    "    # Redraw the figure\n",
    "    fig.canvas.draw()\n",
    "\n",
    "    # Save each model state dictionary\n",
    "    torch.save(model.state_dict(), output / f'{name}_{result.epoch}.pyt')"
   ]
  },
  {
   "cell_type": "markdown",
   "metadata": {},
   "source": [
    "Go ahead and save the final model (even though it was also saved above):"
   ]
  },
  {
   "cell_type": "code",
   "execution_count": 18,
   "metadata": {},
   "outputs": [],
   "source": [
    "torch.save(model.state_dict(), output / f'{name}_final.pyt')"
   ]
  },
  {
   "cell_type": "markdown",
   "metadata": {},
   "source": [
    "Save the output results:"
   ]
  },
  {
   "cell_type": "code",
   "execution_count": 19,
   "metadata": {},
   "outputs": [],
   "source": [
    "results.to_hdf(f'{name}_stats.hdf5', 'results')"
   ]
  },
  {
   "cell_type": "markdown",
   "metadata": {},
   "source": [
    "Save the plot above:"
   ]
  },
  {
   "cell_type": "code",
   "execution_count": 20,
   "metadata": {},
   "outputs": [
    {
     "data": {
      "application/javascript": [
       "/* Put everything inside the global mpl namespace */\n",
       "window.mpl = {};\n",
       "\n",
       "\n",
       "mpl.get_websocket_type = function() {\n",
       "    if (typeof(WebSocket) !== 'undefined') {\n",
       "        return WebSocket;\n",
       "    } else if (typeof(MozWebSocket) !== 'undefined') {\n",
       "        return MozWebSocket;\n",
       "    } else {\n",
       "        alert('Your browser does not have WebSocket support. ' +\n",
       "              'Please try Chrome, Safari or Firefox ≥ 6. ' +\n",
       "              'Firefox 4 and 5 are also supported but you ' +\n",
       "              'have to enable WebSockets in about:config.');\n",
       "    };\n",
       "}\n",
       "\n",
       "mpl.figure = function(figure_id, websocket, ondownload, parent_element) {\n",
       "    this.id = figure_id;\n",
       "\n",
       "    this.ws = websocket;\n",
       "\n",
       "    this.supports_binary = (this.ws.binaryType != undefined);\n",
       "\n",
       "    if (!this.supports_binary) {\n",
       "        var warnings = document.getElementById(\"mpl-warnings\");\n",
       "        if (warnings) {\n",
       "            warnings.style.display = 'block';\n",
       "            warnings.textContent = (\n",
       "                \"This browser does not support binary websocket messages. \" +\n",
       "                    \"Performance may be slow.\");\n",
       "        }\n",
       "    }\n",
       "\n",
       "    this.imageObj = new Image();\n",
       "\n",
       "    this.context = undefined;\n",
       "    this.message = undefined;\n",
       "    this.canvas = undefined;\n",
       "    this.rubberband_canvas = undefined;\n",
       "    this.rubberband_context = undefined;\n",
       "    this.format_dropdown = undefined;\n",
       "\n",
       "    this.image_mode = 'full';\n",
       "\n",
       "    this.root = $('<div/>');\n",
       "    this._root_extra_style(this.root)\n",
       "    this.root.attr('style', 'display: inline-block');\n",
       "\n",
       "    $(parent_element).append(this.root);\n",
       "\n",
       "    this._init_header(this);\n",
       "    this._init_canvas(this);\n",
       "    this._init_toolbar(this);\n",
       "\n",
       "    var fig = this;\n",
       "\n",
       "    this.waiting = false;\n",
       "\n",
       "    this.ws.onopen =  function () {\n",
       "            fig.send_message(\"supports_binary\", {value: fig.supports_binary});\n",
       "            fig.send_message(\"send_image_mode\", {});\n",
       "            if (mpl.ratio != 1) {\n",
       "                fig.send_message(\"set_dpi_ratio\", {'dpi_ratio': mpl.ratio});\n",
       "            }\n",
       "            fig.send_message(\"refresh\", {});\n",
       "        }\n",
       "\n",
       "    this.imageObj.onload = function() {\n",
       "            if (fig.image_mode == 'full') {\n",
       "                // Full images could contain transparency (where diff images\n",
       "                // almost always do), so we need to clear the canvas so that\n",
       "                // there is no ghosting.\n",
       "                fig.context.clearRect(0, 0, fig.canvas.width, fig.canvas.height);\n",
       "            }\n",
       "            fig.context.drawImage(fig.imageObj, 0, 0);\n",
       "        };\n",
       "\n",
       "    this.imageObj.onunload = function() {\n",
       "        fig.ws.close();\n",
       "    }\n",
       "\n",
       "    this.ws.onmessage = this._make_on_message_function(this);\n",
       "\n",
       "    this.ondownload = ondownload;\n",
       "}\n",
       "\n",
       "mpl.figure.prototype._init_header = function() {\n",
       "    var titlebar = $(\n",
       "        '<div class=\"ui-dialog-titlebar ui-widget-header ui-corner-all ' +\n",
       "        'ui-helper-clearfix\"/>');\n",
       "    var titletext = $(\n",
       "        '<div class=\"ui-dialog-title\" style=\"width: 100%; ' +\n",
       "        'text-align: center; padding: 3px;\"/>');\n",
       "    titlebar.append(titletext)\n",
       "    this.root.append(titlebar);\n",
       "    this.header = titletext[0];\n",
       "}\n",
       "\n",
       "\n",
       "\n",
       "mpl.figure.prototype._canvas_extra_style = function(canvas_div) {\n",
       "\n",
       "}\n",
       "\n",
       "\n",
       "mpl.figure.prototype._root_extra_style = function(canvas_div) {\n",
       "\n",
       "}\n",
       "\n",
       "mpl.figure.prototype._init_canvas = function() {\n",
       "    var fig = this;\n",
       "\n",
       "    var canvas_div = $('<div/>');\n",
       "\n",
       "    canvas_div.attr('style', 'position: relative; clear: both; outline: 0');\n",
       "\n",
       "    function canvas_keyboard_event(event) {\n",
       "        return fig.key_event(event, event['data']);\n",
       "    }\n",
       "\n",
       "    canvas_div.keydown('key_press', canvas_keyboard_event);\n",
       "    canvas_div.keyup('key_release', canvas_keyboard_event);\n",
       "    this.canvas_div = canvas_div\n",
       "    this._canvas_extra_style(canvas_div)\n",
       "    this.root.append(canvas_div);\n",
       "\n",
       "    var canvas = $('<canvas/>');\n",
       "    canvas.addClass('mpl-canvas');\n",
       "    canvas.attr('style', \"left: 0; top: 0; z-index: 0; outline: 0\")\n",
       "\n",
       "    this.canvas = canvas[0];\n",
       "    this.context = canvas[0].getContext(\"2d\");\n",
       "\n",
       "    var backingStore = this.context.backingStorePixelRatio ||\n",
       "\tthis.context.webkitBackingStorePixelRatio ||\n",
       "\tthis.context.mozBackingStorePixelRatio ||\n",
       "\tthis.context.msBackingStorePixelRatio ||\n",
       "\tthis.context.oBackingStorePixelRatio ||\n",
       "\tthis.context.backingStorePixelRatio || 1;\n",
       "\n",
       "    mpl.ratio = (window.devicePixelRatio || 1) / backingStore;\n",
       "\n",
       "    var rubberband = $('<canvas/>');\n",
       "    rubberband.attr('style', \"position: absolute; left: 0; top: 0; z-index: 1;\")\n",
       "\n",
       "    var pass_mouse_events = true;\n",
       "\n",
       "    canvas_div.resizable({\n",
       "        start: function(event, ui) {\n",
       "            pass_mouse_events = false;\n",
       "        },\n",
       "        resize: function(event, ui) {\n",
       "            fig.request_resize(ui.size.width, ui.size.height);\n",
       "        },\n",
       "        stop: function(event, ui) {\n",
       "            pass_mouse_events = true;\n",
       "            fig.request_resize(ui.size.width, ui.size.height);\n",
       "        },\n",
       "    });\n",
       "\n",
       "    function mouse_event_fn(event) {\n",
       "        if (pass_mouse_events)\n",
       "            return fig.mouse_event(event, event['data']);\n",
       "    }\n",
       "\n",
       "    rubberband.mousedown('button_press', mouse_event_fn);\n",
       "    rubberband.mouseup('button_release', mouse_event_fn);\n",
       "    // Throttle sequential mouse events to 1 every 20ms.\n",
       "    rubberband.mousemove('motion_notify', mouse_event_fn);\n",
       "\n",
       "    rubberband.mouseenter('figure_enter', mouse_event_fn);\n",
       "    rubberband.mouseleave('figure_leave', mouse_event_fn);\n",
       "\n",
       "    canvas_div.on(\"wheel\", function (event) {\n",
       "        event = event.originalEvent;\n",
       "        event['data'] = 'scroll'\n",
       "        if (event.deltaY < 0) {\n",
       "            event.step = 1;\n",
       "        } else {\n",
       "            event.step = -1;\n",
       "        }\n",
       "        mouse_event_fn(event);\n",
       "    });\n",
       "\n",
       "    canvas_div.append(canvas);\n",
       "    canvas_div.append(rubberband);\n",
       "\n",
       "    this.rubberband = rubberband;\n",
       "    this.rubberband_canvas = rubberband[0];\n",
       "    this.rubberband_context = rubberband[0].getContext(\"2d\");\n",
       "    this.rubberband_context.strokeStyle = \"#000000\";\n",
       "\n",
       "    this._resize_canvas = function(width, height) {\n",
       "        // Keep the size of the canvas, canvas container, and rubber band\n",
       "        // canvas in synch.\n",
       "        canvas_div.css('width', width)\n",
       "        canvas_div.css('height', height)\n",
       "\n",
       "        canvas.attr('width', width * mpl.ratio);\n",
       "        canvas.attr('height', height * mpl.ratio);\n",
       "        canvas.attr('style', 'width: ' + width + 'px; height: ' + height + 'px;');\n",
       "\n",
       "        rubberband.attr('width', width);\n",
       "        rubberband.attr('height', height);\n",
       "    }\n",
       "\n",
       "    // Set the figure to an initial 600x600px, this will subsequently be updated\n",
       "    // upon first draw.\n",
       "    this._resize_canvas(600, 600);\n",
       "\n",
       "    // Disable right mouse context menu.\n",
       "    $(this.rubberband_canvas).bind(\"contextmenu\",function(e){\n",
       "        return false;\n",
       "    });\n",
       "\n",
       "    function set_focus () {\n",
       "        canvas.focus();\n",
       "        canvas_div.focus();\n",
       "    }\n",
       "\n",
       "    window.setTimeout(set_focus, 100);\n",
       "}\n",
       "\n",
       "mpl.figure.prototype._init_toolbar = function() {\n",
       "    var fig = this;\n",
       "\n",
       "    var nav_element = $('<div/>');\n",
       "    nav_element.attr('style', 'width: 100%');\n",
       "    this.root.append(nav_element);\n",
       "\n",
       "    // Define a callback function for later on.\n",
       "    function toolbar_event(event) {\n",
       "        return fig.toolbar_button_onclick(event['data']);\n",
       "    }\n",
       "    function toolbar_mouse_event(event) {\n",
       "        return fig.toolbar_button_onmouseover(event['data']);\n",
       "    }\n",
       "\n",
       "    for(var toolbar_ind in mpl.toolbar_items) {\n",
       "        var name = mpl.toolbar_items[toolbar_ind][0];\n",
       "        var tooltip = mpl.toolbar_items[toolbar_ind][1];\n",
       "        var image = mpl.toolbar_items[toolbar_ind][2];\n",
       "        var method_name = mpl.toolbar_items[toolbar_ind][3];\n",
       "\n",
       "        if (!name) {\n",
       "            // put a spacer in here.\n",
       "            continue;\n",
       "        }\n",
       "        var button = $('<button/>');\n",
       "        button.addClass('ui-button ui-widget ui-state-default ui-corner-all ' +\n",
       "                        'ui-button-icon-only');\n",
       "        button.attr('role', 'button');\n",
       "        button.attr('aria-disabled', 'false');\n",
       "        button.click(method_name, toolbar_event);\n",
       "        button.mouseover(tooltip, toolbar_mouse_event);\n",
       "\n",
       "        var icon_img = $('<span/>');\n",
       "        icon_img.addClass('ui-button-icon-primary ui-icon');\n",
       "        icon_img.addClass(image);\n",
       "        icon_img.addClass('ui-corner-all');\n",
       "\n",
       "        var tooltip_span = $('<span/>');\n",
       "        tooltip_span.addClass('ui-button-text');\n",
       "        tooltip_span.html(tooltip);\n",
       "\n",
       "        button.append(icon_img);\n",
       "        button.append(tooltip_span);\n",
       "\n",
       "        nav_element.append(button);\n",
       "    }\n",
       "\n",
       "    var fmt_picker_span = $('<span/>');\n",
       "\n",
       "    var fmt_picker = $('<select/>');\n",
       "    fmt_picker.addClass('mpl-toolbar-option ui-widget ui-widget-content');\n",
       "    fmt_picker_span.append(fmt_picker);\n",
       "    nav_element.append(fmt_picker_span);\n",
       "    this.format_dropdown = fmt_picker[0];\n",
       "\n",
       "    for (var ind in mpl.extensions) {\n",
       "        var fmt = mpl.extensions[ind];\n",
       "        var option = $(\n",
       "            '<option/>', {selected: fmt === mpl.default_extension}).html(fmt);\n",
       "        fmt_picker.append(option);\n",
       "    }\n",
       "\n",
       "    // Add hover states to the ui-buttons\n",
       "    $( \".ui-button\" ).hover(\n",
       "        function() { $(this).addClass(\"ui-state-hover\");},\n",
       "        function() { $(this).removeClass(\"ui-state-hover\");}\n",
       "    );\n",
       "\n",
       "    var status_bar = $('<span class=\"mpl-message\"/>');\n",
       "    nav_element.append(status_bar);\n",
       "    this.message = status_bar[0];\n",
       "}\n",
       "\n",
       "mpl.figure.prototype.request_resize = function(x_pixels, y_pixels) {\n",
       "    // Request matplotlib to resize the figure. Matplotlib will then trigger a resize in the client,\n",
       "    // which will in turn request a refresh of the image.\n",
       "    this.send_message('resize', {'width': x_pixels, 'height': y_pixels});\n",
       "}\n",
       "\n",
       "mpl.figure.prototype.send_message = function(type, properties) {\n",
       "    properties['type'] = type;\n",
       "    properties['figure_id'] = this.id;\n",
       "    this.ws.send(JSON.stringify(properties));\n",
       "}\n",
       "\n",
       "mpl.figure.prototype.send_draw_message = function() {\n",
       "    if (!this.waiting) {\n",
       "        this.waiting = true;\n",
       "        this.ws.send(JSON.stringify({type: \"draw\", figure_id: this.id}));\n",
       "    }\n",
       "}\n",
       "\n",
       "\n",
       "mpl.figure.prototype.handle_save = function(fig, msg) {\n",
       "    var format_dropdown = fig.format_dropdown;\n",
       "    var format = format_dropdown.options[format_dropdown.selectedIndex].value;\n",
       "    fig.ondownload(fig, format);\n",
       "}\n",
       "\n",
       "\n",
       "mpl.figure.prototype.handle_resize = function(fig, msg) {\n",
       "    var size = msg['size'];\n",
       "    if (size[0] != fig.canvas.width || size[1] != fig.canvas.height) {\n",
       "        fig._resize_canvas(size[0], size[1]);\n",
       "        fig.send_message(\"refresh\", {});\n",
       "    };\n",
       "}\n",
       "\n",
       "mpl.figure.prototype.handle_rubberband = function(fig, msg) {\n",
       "    var x0 = msg['x0'] / mpl.ratio;\n",
       "    var y0 = (fig.canvas.height - msg['y0']) / mpl.ratio;\n",
       "    var x1 = msg['x1'] / mpl.ratio;\n",
       "    var y1 = (fig.canvas.height - msg['y1']) / mpl.ratio;\n",
       "    x0 = Math.floor(x0) + 0.5;\n",
       "    y0 = Math.floor(y0) + 0.5;\n",
       "    x1 = Math.floor(x1) + 0.5;\n",
       "    y1 = Math.floor(y1) + 0.5;\n",
       "    var min_x = Math.min(x0, x1);\n",
       "    var min_y = Math.min(y0, y1);\n",
       "    var width = Math.abs(x1 - x0);\n",
       "    var height = Math.abs(y1 - y0);\n",
       "\n",
       "    fig.rubberband_context.clearRect(\n",
       "        0, 0, fig.canvas.width / mpl.ratio, fig.canvas.height / mpl.ratio);\n",
       "\n",
       "    fig.rubberband_context.strokeRect(min_x, min_y, width, height);\n",
       "}\n",
       "\n",
       "mpl.figure.prototype.handle_figure_label = function(fig, msg) {\n",
       "    // Updates the figure title.\n",
       "    fig.header.textContent = msg['label'];\n",
       "}\n",
       "\n",
       "mpl.figure.prototype.handle_cursor = function(fig, msg) {\n",
       "    var cursor = msg['cursor'];\n",
       "    switch(cursor)\n",
       "    {\n",
       "    case 0:\n",
       "        cursor = 'pointer';\n",
       "        break;\n",
       "    case 1:\n",
       "        cursor = 'default';\n",
       "        break;\n",
       "    case 2:\n",
       "        cursor = 'crosshair';\n",
       "        break;\n",
       "    case 3:\n",
       "        cursor = 'move';\n",
       "        break;\n",
       "    }\n",
       "    fig.rubberband_canvas.style.cursor = cursor;\n",
       "}\n",
       "\n",
       "mpl.figure.prototype.handle_message = function(fig, msg) {\n",
       "    fig.message.textContent = msg['message'];\n",
       "}\n",
       "\n",
       "mpl.figure.prototype.handle_draw = function(fig, msg) {\n",
       "    // Request the server to send over a new figure.\n",
       "    fig.send_draw_message();\n",
       "}\n",
       "\n",
       "mpl.figure.prototype.handle_image_mode = function(fig, msg) {\n",
       "    fig.image_mode = msg['mode'];\n",
       "}\n",
       "\n",
       "mpl.figure.prototype.updated_canvas_event = function() {\n",
       "    // Called whenever the canvas gets updated.\n",
       "    this.send_message(\"ack\", {});\n",
       "}\n",
       "\n",
       "// A function to construct a web socket function for onmessage handling.\n",
       "// Called in the figure constructor.\n",
       "mpl.figure.prototype._make_on_message_function = function(fig) {\n",
       "    return function socket_on_message(evt) {\n",
       "        if (evt.data instanceof Blob) {\n",
       "            /* FIXME: We get \"Resource interpreted as Image but\n",
       "             * transferred with MIME type text/plain:\" errors on\n",
       "             * Chrome.  But how to set the MIME type?  It doesn't seem\n",
       "             * to be part of the websocket stream */\n",
       "            evt.data.type = \"image/png\";\n",
       "\n",
       "            /* Free the memory for the previous frames */\n",
       "            if (fig.imageObj.src) {\n",
       "                (window.URL || window.webkitURL).revokeObjectURL(\n",
       "                    fig.imageObj.src);\n",
       "            }\n",
       "\n",
       "            fig.imageObj.src = (window.URL || window.webkitURL).createObjectURL(\n",
       "                evt.data);\n",
       "            fig.updated_canvas_event();\n",
       "            fig.waiting = false;\n",
       "            return;\n",
       "        }\n",
       "        else if (typeof evt.data === 'string' && evt.data.slice(0, 21) == \"data:image/png;base64\") {\n",
       "            fig.imageObj.src = evt.data;\n",
       "            fig.updated_canvas_event();\n",
       "            fig.waiting = false;\n",
       "            return;\n",
       "        }\n",
       "\n",
       "        var msg = JSON.parse(evt.data);\n",
       "        var msg_type = msg['type'];\n",
       "\n",
       "        // Call the  \"handle_{type}\" callback, which takes\n",
       "        // the figure and JSON message as its only arguments.\n",
       "        try {\n",
       "            var callback = fig[\"handle_\" + msg_type];\n",
       "        } catch (e) {\n",
       "            console.log(\"No handler for the '\" + msg_type + \"' message type: \", msg);\n",
       "            return;\n",
       "        }\n",
       "\n",
       "        if (callback) {\n",
       "            try {\n",
       "                // console.log(\"Handling '\" + msg_type + \"' message: \", msg);\n",
       "                callback(fig, msg);\n",
       "            } catch (e) {\n",
       "                console.log(\"Exception inside the 'handler_\" + msg_type + \"' callback:\", e, e.stack, msg);\n",
       "            }\n",
       "        }\n",
       "    };\n",
       "}\n",
       "\n",
       "// from http://stackoverflow.com/questions/1114465/getting-mouse-location-in-canvas\n",
       "mpl.findpos = function(e) {\n",
       "    //this section is from http://www.quirksmode.org/js/events_properties.html\n",
       "    var targ;\n",
       "    if (!e)\n",
       "        e = window.event;\n",
       "    if (e.target)\n",
       "        targ = e.target;\n",
       "    else if (e.srcElement)\n",
       "        targ = e.srcElement;\n",
       "    if (targ.nodeType == 3) // defeat Safari bug\n",
       "        targ = targ.parentNode;\n",
       "\n",
       "    // jQuery normalizes the pageX and pageY\n",
       "    // pageX,Y are the mouse positions relative to the document\n",
       "    // offset() returns the position of the element relative to the document\n",
       "    var x = e.pageX - $(targ).offset().left;\n",
       "    var y = e.pageY - $(targ).offset().top;\n",
       "\n",
       "    return {\"x\": x, \"y\": y};\n",
       "};\n",
       "\n",
       "/*\n",
       " * return a copy of an object with only non-object keys\n",
       " * we need this to avoid circular references\n",
       " * http://stackoverflow.com/a/24161582/3208463\n",
       " */\n",
       "function simpleKeys (original) {\n",
       "  return Object.keys(original).reduce(function (obj, key) {\n",
       "    if (typeof original[key] !== 'object')\n",
       "        obj[key] = original[key]\n",
       "    return obj;\n",
       "  }, {});\n",
       "}\n",
       "\n",
       "mpl.figure.prototype.mouse_event = function(event, name) {\n",
       "    var canvas_pos = mpl.findpos(event)\n",
       "\n",
       "    if (name === 'button_press')\n",
       "    {\n",
       "        this.canvas.focus();\n",
       "        this.canvas_div.focus();\n",
       "    }\n",
       "\n",
       "    var x = canvas_pos.x * mpl.ratio;\n",
       "    var y = canvas_pos.y * mpl.ratio;\n",
       "\n",
       "    this.send_message(name, {x: x, y: y, button: event.button,\n",
       "                             step: event.step,\n",
       "                             guiEvent: simpleKeys(event)});\n",
       "\n",
       "    /* This prevents the web browser from automatically changing to\n",
       "     * the text insertion cursor when the button is pressed.  We want\n",
       "     * to control all of the cursor setting manually through the\n",
       "     * 'cursor' event from matplotlib */\n",
       "    event.preventDefault();\n",
       "    return false;\n",
       "}\n",
       "\n",
       "mpl.figure.prototype._key_event_extra = function(event, name) {\n",
       "    // Handle any extra behaviour associated with a key event\n",
       "}\n",
       "\n",
       "mpl.figure.prototype.key_event = function(event, name) {\n",
       "\n",
       "    // Prevent repeat events\n",
       "    if (name == 'key_press')\n",
       "    {\n",
       "        if (event.which === this._key)\n",
       "            return;\n",
       "        else\n",
       "            this._key = event.which;\n",
       "    }\n",
       "    if (name == 'key_release')\n",
       "        this._key = null;\n",
       "\n",
       "    var value = '';\n",
       "    if (event.ctrlKey && event.which != 17)\n",
       "        value += \"ctrl+\";\n",
       "    if (event.altKey && event.which != 18)\n",
       "        value += \"alt+\";\n",
       "    if (event.shiftKey && event.which != 16)\n",
       "        value += \"shift+\";\n",
       "\n",
       "    value += 'k';\n",
       "    value += event.which.toString();\n",
       "\n",
       "    this._key_event_extra(event, name);\n",
       "\n",
       "    this.send_message(name, {key: value,\n",
       "                             guiEvent: simpleKeys(event)});\n",
       "    return false;\n",
       "}\n",
       "\n",
       "mpl.figure.prototype.toolbar_button_onclick = function(name) {\n",
       "    if (name == 'download') {\n",
       "        this.handle_save(this, null);\n",
       "    } else {\n",
       "        this.send_message(\"toolbar_button\", {name: name});\n",
       "    }\n",
       "};\n",
       "\n",
       "mpl.figure.prototype.toolbar_button_onmouseover = function(tooltip) {\n",
       "    this.message.textContent = tooltip;\n",
       "};\n",
       "mpl.toolbar_items = [[\"Home\", \"Reset original view\", \"fa fa-home icon-home\", \"home\"], [\"Back\", \"Back to previous view\", \"fa fa-arrow-left icon-arrow-left\", \"back\"], [\"Forward\", \"Forward to next view\", \"fa fa-arrow-right icon-arrow-right\", \"forward\"], [\"\", \"\", \"\", \"\"], [\"Pan\", \"Pan axes with left mouse, zoom with right\", \"fa fa-arrows icon-move\", \"pan\"], [\"Zoom\", \"Zoom to rectangle\", \"fa fa-square-o icon-check-empty\", \"zoom\"], [\"\", \"\", \"\", \"\"], [\"Download\", \"Download plot\", \"fa fa-floppy-o icon-save\", \"download\"]];\n",
       "\n",
       "mpl.extensions = [\"eps\", \"jpeg\", \"pdf\", \"png\", \"ps\", \"raw\", \"svg\", \"tif\"];\n",
       "\n",
       "mpl.default_extension = \"png\";var comm_websocket_adapter = function(comm) {\n",
       "    // Create a \"websocket\"-like object which calls the given IPython comm\n",
       "    // object with the appropriate methods. Currently this is a non binary\n",
       "    // socket, so there is still some room for performance tuning.\n",
       "    var ws = {};\n",
       "\n",
       "    ws.close = function() {\n",
       "        comm.close()\n",
       "    };\n",
       "    ws.send = function(m) {\n",
       "        //console.log('sending', m);\n",
       "        comm.send(m);\n",
       "    };\n",
       "    // Register the callback with on_msg.\n",
       "    comm.on_msg(function(msg) {\n",
       "        //console.log('receiving', msg['content']['data'], msg);\n",
       "        // Pass the mpl event to the overridden (by mpl) onmessage function.\n",
       "        ws.onmessage(msg['content']['data'])\n",
       "    });\n",
       "    return ws;\n",
       "}\n",
       "\n",
       "mpl.mpl_figure_comm = function(comm, msg) {\n",
       "    // This is the function which gets called when the mpl process\n",
       "    // starts-up an IPython Comm through the \"matplotlib\" channel.\n",
       "\n",
       "    var id = msg.content.data.id;\n",
       "    // Get hold of the div created by the display call when the Comm\n",
       "    // socket was opened in Python.\n",
       "    var element = $(\"#\" + id);\n",
       "    var ws_proxy = comm_websocket_adapter(comm)\n",
       "\n",
       "    function ondownload(figure, format) {\n",
       "        window.open(figure.imageObj.src);\n",
       "    }\n",
       "\n",
       "    var fig = new mpl.figure(id, ws_proxy,\n",
       "                           ondownload,\n",
       "                           element.get(0));\n",
       "\n",
       "    // Call onopen now - mpl needs it, as it is assuming we've passed it a real\n",
       "    // web socket which is closed, not our websocket->open comm proxy.\n",
       "    ws_proxy.onopen();\n",
       "\n",
       "    fig.parent_element = element.get(0);\n",
       "    fig.cell_info = mpl.find_output_cell(\"<div id='\" + id + \"'></div>\");\n",
       "    if (!fig.cell_info) {\n",
       "        console.error(\"Failed to find cell for figure\", id, fig);\n",
       "        return;\n",
       "    }\n",
       "\n",
       "    var output_index = fig.cell_info[2]\n",
       "    var cell = fig.cell_info[0];\n",
       "\n",
       "};\n",
       "\n",
       "mpl.figure.prototype.handle_close = function(fig, msg) {\n",
       "    var width = fig.canvas.width/mpl.ratio\n",
       "    fig.root.unbind('remove')\n",
       "\n",
       "    // Update the output cell to use the data from the current canvas.\n",
       "    fig.push_to_output();\n",
       "    var dataURL = fig.canvas.toDataURL();\n",
       "    // Re-enable the keyboard manager in IPython - without this line, in FF,\n",
       "    // the notebook keyboard shortcuts fail.\n",
       "    IPython.keyboard_manager.enable()\n",
       "    $(fig.parent_element).html('<img src=\"' + dataURL + '\" width=\"' + width + '\">');\n",
       "    fig.close_ws(fig, msg);\n",
       "}\n",
       "\n",
       "mpl.figure.prototype.close_ws = function(fig, msg){\n",
       "    fig.send_message('closing', msg);\n",
       "    // fig.ws.close()\n",
       "}\n",
       "\n",
       "mpl.figure.prototype.push_to_output = function(remove_interactive) {\n",
       "    // Turn the data on the canvas into data in the output cell.\n",
       "    var width = this.canvas.width/mpl.ratio\n",
       "    var dataURL = this.canvas.toDataURL();\n",
       "    this.cell_info[1]['text/html'] = '<img src=\"' + dataURL + '\" width=\"' + width + '\">';\n",
       "}\n",
       "\n",
       "mpl.figure.prototype.updated_canvas_event = function() {\n",
       "    // Tell IPython that the notebook contents must change.\n",
       "    IPython.notebook.set_dirty(true);\n",
       "    this.send_message(\"ack\", {});\n",
       "    var fig = this;\n",
       "    // Wait a second, then push the new image to the DOM so\n",
       "    // that it is saved nicely (might be nice to debounce this).\n",
       "    setTimeout(function () { fig.push_to_output() }, 1000);\n",
       "}\n",
       "\n",
       "mpl.figure.prototype._init_toolbar = function() {\n",
       "    var fig = this;\n",
       "\n",
       "    var nav_element = $('<div/>');\n",
       "    nav_element.attr('style', 'width: 100%');\n",
       "    this.root.append(nav_element);\n",
       "\n",
       "    // Define a callback function for later on.\n",
       "    function toolbar_event(event) {\n",
       "        return fig.toolbar_button_onclick(event['data']);\n",
       "    }\n",
       "    function toolbar_mouse_event(event) {\n",
       "        return fig.toolbar_button_onmouseover(event['data']);\n",
       "    }\n",
       "\n",
       "    for(var toolbar_ind in mpl.toolbar_items){\n",
       "        var name = mpl.toolbar_items[toolbar_ind][0];\n",
       "        var tooltip = mpl.toolbar_items[toolbar_ind][1];\n",
       "        var image = mpl.toolbar_items[toolbar_ind][2];\n",
       "        var method_name = mpl.toolbar_items[toolbar_ind][3];\n",
       "\n",
       "        if (!name) { continue; };\n",
       "\n",
       "        var button = $('<button class=\"btn btn-default\" href=\"#\" title=\"' + name + '\"><i class=\"fa ' + image + ' fa-lg\"></i></button>');\n",
       "        button.click(method_name, toolbar_event);\n",
       "        button.mouseover(tooltip, toolbar_mouse_event);\n",
       "        nav_element.append(button);\n",
       "    }\n",
       "\n",
       "    // Add the status bar.\n",
       "    var status_bar = $('<span class=\"mpl-message\" style=\"text-align:right; float: right;\"/>');\n",
       "    nav_element.append(status_bar);\n",
       "    this.message = status_bar[0];\n",
       "\n",
       "    // Add the close button to the window.\n",
       "    var buttongrp = $('<div class=\"btn-group inline pull-right\"></div>');\n",
       "    var button = $('<button class=\"btn btn-mini btn-primary\" href=\"#\" title=\"Stop Interaction\"><i class=\"fa fa-power-off icon-remove icon-large\"></i></button>');\n",
       "    button.click(function (evt) { fig.handle_close(fig, {}); } );\n",
       "    button.mouseover('Stop Interaction', toolbar_mouse_event);\n",
       "    buttongrp.append(button);\n",
       "    var titlebar = this.root.find($('.ui-dialog-titlebar'));\n",
       "    titlebar.prepend(buttongrp);\n",
       "}\n",
       "\n",
       "mpl.figure.prototype._root_extra_style = function(el){\n",
       "    var fig = this\n",
       "    el.on(\"remove\", function(){\n",
       "\tfig.close_ws(fig, {});\n",
       "    });\n",
       "}\n",
       "\n",
       "mpl.figure.prototype._canvas_extra_style = function(el){\n",
       "    // this is important to make the div 'focusable\n",
       "    el.attr('tabindex', 0)\n",
       "    // reach out to IPython and tell the keyboard manager to turn it's self\n",
       "    // off when our div gets focus\n",
       "\n",
       "    // location in version 3\n",
       "    if (IPython.notebook.keyboard_manager) {\n",
       "        IPython.notebook.keyboard_manager.register_events(el);\n",
       "    }\n",
       "    else {\n",
       "        // location in version 2\n",
       "        IPython.keyboard_manager.register_events(el);\n",
       "    }\n",
       "\n",
       "}\n",
       "\n",
       "mpl.figure.prototype._key_event_extra = function(event, name) {\n",
       "    var manager = IPython.notebook.keyboard_manager;\n",
       "    if (!manager)\n",
       "        manager = IPython.keyboard_manager;\n",
       "\n",
       "    // Check for shift+enter\n",
       "    if (event.shiftKey && event.which == 13) {\n",
       "        this.canvas_div.blur();\n",
       "        // select the cell after this one\n",
       "        var index = IPython.notebook.find_cell_index(this.cell_info[0]);\n",
       "        IPython.notebook.select(index + 1);\n",
       "    }\n",
       "}\n",
       "\n",
       "mpl.figure.prototype.handle_save = function(fig, msg) {\n",
       "    fig.ondownload(fig, null);\n",
       "}\n",
       "\n",
       "\n",
       "mpl.find_output_cell = function(html_output) {\n",
       "    // Return the cell and output element which can be found *uniquely* in the notebook.\n",
       "    // Note - this is a bit hacky, but it is done because the \"notebook_saving.Notebook\"\n",
       "    // IPython event is triggered only after the cells have been serialised, which for\n",
       "    // our purposes (turning an active figure into a static one), is too late.\n",
       "    var cells = IPython.notebook.get_cells();\n",
       "    var ncells = cells.length;\n",
       "    for (var i=0; i<ncells; i++) {\n",
       "        var cell = cells[i];\n",
       "        if (cell.cell_type === 'code'){\n",
       "            for (var j=0; j<cell.output_area.outputs.length; j++) {\n",
       "                var data = cell.output_area.outputs[j];\n",
       "                if (data.data) {\n",
       "                    // IPython >= 3 moved mimebundle to data attribute of output\n",
       "                    data = data.data;\n",
       "                }\n",
       "                if (data['text/html'] == html_output) {\n",
       "                    return [cell, data, j];\n",
       "                }\n",
       "            }\n",
       "        }\n",
       "    }\n",
       "}\n",
       "\n",
       "// Register the function which deals with the matplotlib target/channel.\n",
       "// The kernel may be null if the page has been refreshed.\n",
       "if (IPython.notebook.kernel != null) {\n",
       "    IPython.notebook.kernel.comm_manager.register_target('matplotlib', mpl.mpl_figure_comm);\n",
       "}\n"
      ],
      "text/plain": [
       "<IPython.core.display.Javascript object>"
      ]
     },
     "metadata": {},
     "output_type": "display_data"
    },
    {
     "data": {
      "text/html": [
       "<img src=\"data:image/png;base64,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\" width=\"1000\">"
      ],
      "text/plain": [
       "<IPython.core.display.HTML object>"
      ]
     },
     "metadata": {},
     "output_type": "display_data"
    }
   ],
   "source": [
    "dual_train_plots(results.index,\n",
    "                 results.cost, results.val,\n",
    "                 results.cost, results.val)\n",
    "plt.tight_layout()\n",
    "plt.savefig(str(output / f'{name}_stats_a.png'))"
   ]
  },
  {
   "cell_type": "code",
   "execution_count": 22,
   "metadata": {},
   "outputs": [],
   "source": [
    "##quit()"
   ]
  },
  {
   "cell_type": "code",
   "execution_count": null,
   "metadata": {},
   "outputs": [],
   "source": []
  },
  {
   "cell_type": "code",
   "execution_count": null,
   "metadata": {},
   "outputs": [],
   "source": []
  }
 ],
 "metadata": {
  "kernelspec": {
   "display_name": "june2020-gpu",
   "language": "python",
   "name": "june2020-gpu"
  },
  "language_info": {
   "codemirror_mode": {
    "name": "ipython",
    "version": 3
   },
   "file_extension": ".py",
   "mimetype": "text/x-python",
   "name": "python",
   "nbconvert_exporter": "python",
   "pygments_lexer": "ipython3",
   "version": "3.7.6"
  }
 },
 "nbformat": 4,
 "nbformat_minor": 2
}
