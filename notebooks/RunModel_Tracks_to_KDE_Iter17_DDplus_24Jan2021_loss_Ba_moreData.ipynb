{
 "cells": [
  {
   "cell_type": "code",
   "execution_count": 1,
   "metadata": {},
   "outputs": [],
   "source": [
    "##%matplotlib widget\n",
    "## with %matplotlib notebook: seems to require ipympl as part of environment, either\n",
    "## part of the conda environment or \"pip install ipympl\"\n",
    "## otherwise, does not show ANY plots in note\"book, plt.savefig() works\n",
    "%matplotlib notebook  \n",
    "##%matplotlib inline    ## --plt.savefig()  works, but re-sizing does NOT\n"
   ]
  },
  {
   "cell_type": "markdown",
   "metadata": {},
   "source": [
    "This notebook is the second attempt to read in track information and use it to predict the KDE used as input to PvFinder. This time, we are reading in poca KDEs rather than the original KDEs. \n",
    "\n",
    "collectdata_kde_C.py uses poca_z, poca_x, poca_y, major_axis_x, major_axis_y, and major_axis_z as the six track parameters (for the moment)\n"
   ]
  },
  {
   "cell_type": "markdown",
   "metadata": {},
   "source": [
    "Check the current GPU usage. Please try to be nice!"
   ]
  },
  {
   "cell_type": "code",
   "execution_count": 2,
   "metadata": {},
   "outputs": [
    {
     "name": "stdout",
     "output_type": "stream",
     "text": [
      "Sun Jan 24 22:21:22 2021       \n",
      "+-----------------------------------------------------------------------------+\n",
      "| NVIDIA-SMI 440.64.00    Driver Version: 440.64.00    CUDA Version: 10.2     |\n",
      "|-------------------------------+----------------------+----------------------+\n",
      "| GPU  Name        Persistence-M| Bus-Id        Disp.A | Volatile Uncorr. ECC |\n",
      "| Fan  Temp  Perf  Pwr:Usage/Cap|         Memory-Usage | GPU-Util  Compute M. |\n",
      "|===============================+======================+======================|\n",
      "|   0  TITAN V             Off  | 00000000:03:00.0 Off |                  N/A |\n",
      "| 28%   32C    P8    23W / 250W |   1107MiB / 12066MiB |      0%      Default |\n",
      "+-------------------------------+----------------------+----------------------+\n",
      "|   1  Tesla P100-PCIE...  Off  | 00000000:83:00.0 Off |                    0 |\n",
      "| N/A   32C    P0    27W / 250W |     10MiB / 16280MiB |      0%      Default |\n",
      "+-------------------------------+----------------------+----------------------+\n",
      "|   2  TITAN V             Off  | 00000000:84:00.0 Off |                  N/A |\n",
      "| 59%   79C    P2   150W / 250W |   2469MiB / 12066MiB |     95%      Default |\n",
      "+-------------------------------+----------------------+----------------------+\n",
      "                                                                               \n",
      "+-----------------------------------------------------------------------------+\n",
      "| Processes:                                                       GPU Memory |\n",
      "|  GPU       PID   Type   Process name                             Usage      |\n",
      "|=============================================================================|\n",
      "|    0     42274      C   ...a/conda/envs/goofit-june2020/bin/python  1095MiB |\n",
      "|    2      3488      C   ...a/conda/envs/goofit-june2020/bin/python  2457MiB |\n",
      "+-----------------------------------------------------------------------------+\n"
     ]
    }
   ],
   "source": [
    "!nvidia-smi"
   ]
  },
  {
   "cell_type": "markdown",
   "metadata": {},
   "source": [
    "> **WARNING**: The card numbers here are *not* the same as in CUDA. You have been warned."
   ]
  },
  {
   "cell_type": "markdown",
   "metadata": {},
   "source": [
    "This notebook is first attempt to read in track information and use it to predict the KDE used as input to PvFinder.\n"
   ]
  },
  {
   "cell_type": "markdown",
   "metadata": {},
   "source": [
    "## Imports"
   ]
  },
  {
   "cell_type": "code",
   "execution_count": 3,
   "metadata": {},
   "outputs": [],
   "source": [
    "import matplotlib.pyplot as plt\n",
    "import numpy as np\n",
    "import time\n",
    "import torch\n",
    "import pandas as pd\n",
    "\n",
    "# Python 3 standard library\n",
    "from pathlib import Path\n",
    "\n",
    "##from torchsummary import summary"
   ]
  },
  {
   "cell_type": "markdown",
   "metadata": {},
   "source": [
    "### Set up local parameters"
   ]
  },
  {
   "cell_type": "code",
   "execution_count": 4,
   "metadata": {},
   "outputs": [],
   "source": [
    "n_epochs = 150\n",
    "\n",
    "# Name is the output file name\n",
    "\n",
    "\n",
    "##  201027 -- about to go to bed, so try 2500 epochs with lr = 1e55\n",
    "##  previous iteration had l4 = 3e-5 and cost dropped almost linearly\n",
    "##  for 100 epochs -- final training costs ~ 2.02, validation cost ~ 2.01\n",
    "\n",
    "## for iter 4, try 10 epochs with lr = 3e-6\n",
    "## usually have a big jump down at epoch 0; want to try a\n",
    "## small number of epochs per iteration and see what happens (iter4: 10 epochs gave\n",
    "## traiing cost dropping from 1.54 to 1.50 immediately, then dropping very slowly)\n",
    "\n",
    "## For iter12, let's try increaseing the learning rate from 1em5 to 1p5em5 as the\n",
    "## training costs have been dropping almost \"linearlY\" on the semilog plot\n",
    "## for several iterations, suggesting that we can afford to take the risk\n",
    "## For good measure, we'll try this for 10 epochs as a test \n",
    "##  Iter12 seems to have worked we4ll, so start iter13 for 60 epochs\n",
    "## so it will run over night\n",
    "folder = '24Jan_DDplus_loss_Ba_iter17_floatAll_150epochs_1p5em5_4xwill'\n",
    "name   = folder\n",
    "\n",
    "# Make an output folder named \"name\" (change if you want)\n",
    "\n",
    "## Special instructions for those working on goofy at UC\n",
    "## Please be very careful to make sure that your folder\n",
    "## does not live in a subdirectory of your home directory\n",
    "## this disk has very little capacity. Instead, use \n",
    "## a subdirectory in /share/lazy with a symbolic link to\n",
    "## it in this (the notebooks) subdirectory\n",
    "folder = 'ML/' + folder\n",
    "output = Path(folder)\n",
    "\n",
    "\n",
    "# Size of batches\n",
    "batch_size = 48 ## batch_size = 24 ---> 4763MiB / 12066MiB on Titan V\n",
    "# How fast to learn\n",
    "learning_rate = 1.5e-5"
   ]
  },
  {
   "cell_type": "markdown",
   "metadata": {},
   "source": [
    "Make the output directory if it does not exist:"
   ]
  },
  {
   "cell_type": "code",
   "execution_count": 5,
   "metadata": {},
   "outputs": [],
   "source": [
    "output.mkdir(exist_ok=True)"
   ]
  },
  {
   "cell_type": "markdown",
   "metadata": {},
   "source": [
    "## Get the helper functions\n",
    "\n",
    "Add the directory with the model\n",
    "definitions to the path so we can import from it:\n",
    "\n",
    "> When you type `import X`,\n",
    "Python searches `sys.path` for a python\n",
    "file named `X.py` to import. So we need to add the model directory to the path."
   ]
  },
  {
   "cell_type": "code",
   "execution_count": 6,
   "metadata": {
    "scrolled": true
   },
   "outputs": [],
   "source": [
    "# From model/collectdata.py\n",
    "##from model.collectdata_kde_B import collect_t2kde_data\n",
    "## collectdata_kde_C should use the new poca KDE rather than the original kernel KDE\n",
    "from model.collectdata_kde_Ellipsoids import collect_t2kde_data\n",
    "\n",
    "\n",
    "# From model/loss.py\n",
    "##from loss import Loss\n",
    "## kde_loss_D includes botha ratio term and a chisq term, 98% ave_chisq\n",
    "## kde_loss_E adds a chi^4 term to the kde_loss_D return value\n",
    "## this is intended to emphasize the importance of values significantly different than zero\n",
    "from model.kde_loss_Ba import Loss\n",
    "\n",
    "##  TracksToKDE_Ellipsoids_SevenLayerCake has 7 hidden layers producing the 4000-bin KDE historgram\n",
    "##  It takes 9 input features (pocca centers + (A,B,C,D,E,F) . \n",
    "from model.models_kde import TracksToKDE_Ellipsoids_DDplus as Model\n",
    "\n",
    "\n",
    "from model.training_kde import trainNet, select_gpu, Results\n",
    "from model.plots import dual_train_plots, replace_in_ax"
   ]
  },
  {
   "cell_type": "code",
   "execution_count": 7,
   "metadata": {},
   "outputs": [],
   "source": [
    "# This gets built up during the run - do not rerun this cell\n",
    "results = pd.DataFrame([], columns=Results._fields)"
   ]
  },
  {
   "cell_type": "markdown",
   "metadata": {},
   "source": [
    "Set up Torch device configuration. All tensors and model parameters need to know where to be put.\n",
    "This takes a BUS ID number: The BUS ID is the same as the listing at the top of this script."
   ]
  },
  {
   "cell_type": "code",
   "execution_count": 8,
   "metadata": {},
   "outputs": [
    {
     "name": "stdout",
     "output_type": "stream",
     "text": [
      "1 available GPUs (initially using device 0):\n",
      "  0 TITAN V\n"
     ]
    }
   ],
   "source": [
    "device = select_gpu(2)\n",
    "##device = \"cpu\""
   ]
  },
  {
   "cell_type": "markdown",
   "metadata": {},
   "source": [
    "## Loading data\n",
    "\n",
    "Load the dataset, split into parts, then move to device (see `collectdata.py` in the `../model` directory)"
   ]
  },
  {
   "cell_type": "markdown",
   "metadata": {},
   "source": [
    "# Preparing the model"
   ]
  },
  {
   "cell_type": "markdown",
   "metadata": {},
   "source": [
    "Prepare a model, use multiple GPUs if they are VISIBLE, and move the model to the device."
   ]
  },
  {
   "cell_type": "code",
   "execution_count": 9,
   "metadata": {
    "scrolled": true
   },
   "outputs": [],
   "source": [
    "##print(\"Let's use\", torch.cuda.device_count(), \"GPUs!\")\n",
    "##if torch.cuda.device_count() > 1:\n",
    "##    model = torch.nn.DataParallel(model)"
   ]
  },
  {
   "cell_type": "code",
   "execution_count": 10,
   "metadata": {},
   "outputs": [
    {
     "name": "stdout",
     "output_type": "stream",
     "text": [
      "ct, child =  0    Linear(in_features=9, out_features=50, bias=True)\n",
      "ct, child =  1    Linear(in_features=50, out_features=50, bias=True)\n",
      "ct, child =  2    Linear(in_features=50, out_features=50, bias=True)\n",
      "ct, child =  3    Linear(in_features=50, out_features=50, bias=True)\n",
      "ct, child =  4    Linear(in_features=50, out_features=50, bias=True)\n",
      "ct, child =  5    Linear(in_features=50, out_features=50, bias=True)\n",
      "ct, child =  6    Linear(in_features=50, out_features=50, bias=True)\n",
      "ct, child =  7    Linear(in_features=50, out_features=50, bias=True)\n",
      "ct, child =  8    Linear(in_features=50, out_features=50, bias=True)\n",
      "ct, child =  9    Linear(in_features=50, out_features=50, bias=True)\n",
      "ct, child =  10    Linear(in_features=50, out_features=50, bias=True)\n",
      "ct, child =  11    Linear(in_features=50, out_features=16000, bias=True)\n",
      "ct, child =  12    Conv1d(4, 25, kernel_size=(25,), stride=(1,), padding=(12,))\n",
      "ct, child =  13    Conv1d(25, 1, kernel_size=(5,), stride=(1,), padding=(2,))\n",
      "ct, child =  14    Linear(in_features=4000, out_features=4000, bias=True)\n",
      "ct, child =  15    Conv1d(25, 1, kernel_size=(15,), stride=(1,), padding=(7,))\n",
      "ct, child =  16    Dropout(p=0.15, inplace=False)\n",
      "ct, child =  17    Dropout(p=0.15, inplace=False)\n"
     ]
    }
   ],
   "source": [
    "## a comment on the web at https://pytorch.org/docs/stable/optim.html says\n",
    "\"\"\"\n",
    "If you need to move a model to GPU via .cuda(), please do so before constructing optimizers for it. \n",
    "Parameters of a model after .cuda() will be different objects with those before the call.\n",
    "\n",
    "In general, you should make sure that optimized parameters live in consistent locations when \n",
    "optimizers are constructed and used.\n",
    "\"\"\"\n",
    "## so move this here (although we are using model.to(device) not explicitly using .cuda()\n",
    "\n",
    "nOut1 = 50\n",
    "nOut2 = 50\n",
    "nOut3 = 50\n",
    "nOut4 = 50\n",
    "nOut5 = 50\n",
    "nOut6 = 50\n",
    "nOut7 = 50\n",
    "nOut8 = 50\n",
    "nOut9 = 50\n",
    "nOut10 = 50\n",
    "nOut11 = 50\n",
    "latentChannels = 4\n",
    "model = Model(nOut1,nOut2,nOut3,nOut4,nOut5,nOut6,nOut7,nOut8,nOut9,nOut10,nOut11,latentChannels)\n",
    "\n",
    "##summary(model, input_size=(4, 4000))\n",
    "##print(model.parameters)\n",
    "\n",
    "## add the following code to allow the user to freeze the some of the weights corresponding \n",
    "## to those taken from an earlier model trained with the original target histograms\n",
    "## presumably -- this leaves either the perturbative filter \"fixed\" and lets the \n",
    "## learning focus on the non-perturbative features, so get started faster, or vice versa\n",
    "ct = 0\n",
    "for child in model.children():\n",
    "  print('ct, child = ',ct, \"  \", child)\n",
    "  if ct < 0:\n",
    "    print(\"     About to set param.requires_grad=False for ct = \", ct, \"params\")\n",
    "    for param in child.parameters():\n",
    "        param.requires_grad = False \n",
    "  ct += 1\n",
    "##  mds 200121 loss = Loss(epsilon=1e-5,coefficient=1.0)\n",
    "##  loss = Loss(epsilon=1e-5,coefficient=2.5)\n",
    "##loss = Loss(epsilon=3e-5, debug=False)\n",
    "loss = Loss(epsilon=3e-5)"
   ]
  },
  {
   "cell_type": "markdown",
   "metadata": {},
   "source": [
    "Let's move the model's weight matricies to the GPU:"
   ]
  },
  {
   "cell_type": "code",
   "execution_count": 11,
   "metadata": {
    "scrolled": true
   },
   "outputs": [],
   "source": [
    "model = model.to(device)"
   ]
  },
  {
   "cell_type": "code",
   "execution_count": 12,
   "metadata": {
    "scrolled": true
   },
   "outputs": [],
   "source": [
    "optimizer = torch.optim.Adam(model.parameters(), lr=learning_rate)\n",
    "##optimizer = torch.optim.SGD(model.parameters(), lr=learning_rate)"
   ]
  },
  {
   "cell_type": "code",
   "execution_count": 13,
   "metadata": {
    "scrolled": false
   },
   "outputs": [
    {
     "name": "stdout",
     "output_type": "stream",
     "text": [
      "output =  ML/24Jan_DDplus_loss_Ba_iter17_floatAll_150epochs_1p5em5_4xwill\n",
      "for model_dict\n",
      "index, k =   0    layer1.weight\n",
      "index, k =   1    layer1.bias\n",
      "index, k =   2    layer2.weight\n",
      "index, k =   3    layer2.bias\n",
      "index, k =   4    layer3.weight\n",
      "index, k =   5    layer3.bias\n",
      "index, k =   6    layer4.weight\n",
      "index, k =   7    layer4.bias\n",
      "index, k =   8    layer5.weight\n",
      "index, k =   9    layer5.bias\n",
      "index, k =   10    layer6.weight\n",
      "index, k =   11    layer6.bias\n",
      "index, k =   12    layer7.weight\n",
      "index, k =   13    layer7.bias\n",
      "index, k =   14    layer8.weight\n",
      "index, k =   15    layer8.bias\n",
      "index, k =   16    layer9.weight\n",
      "index, k =   17    layer9.bias\n",
      "index, k =   18    layer10.weight\n",
      "index, k =   19    layer10.bias\n",
      "index, k =   20    layer11.weight\n",
      "index, k =   21    layer11.bias\n",
      "index, k =   22    layer12new.weight\n",
      "index, k =   23    layer12new.bias\n",
      "index, k =   24    conv1.weight\n",
      "index, k =   25    conv1.bias\n",
      "index, k =   26    conv2.weight\n",
      "index, k =   27    conv2.bias\n",
      "index, k =   28    fc1.weight\n",
      "index, k =   29    fc1.bias\n",
      "index, k =   30    finalFilter.weight\n",
      "index, k =   31    finalFilter.bias\n",
      "dict_name =  ML/23Jan_DDplus_loss_Ba_iter16_floatAll_150epochs_1p5em5_4xwill/23Jan_DDplus_loss_Ba_iter16_floatAll_150epochs_1p5em5_4xwill_final.pyt\n",
      " \n",
      "  for pretrained_dict\n",
      "index, k =   0    layer1.weight\n",
      "index, k =   1    layer1.bias\n",
      "index, k =   2    layer2.weight\n",
      "index, k =   3    layer2.bias\n",
      "index, k =   4    layer3.weight\n",
      "index, k =   5    layer3.bias\n",
      "index, k =   6    layer4.weight\n",
      "index, k =   7    layer4.bias\n",
      "index, k =   8    layer5.weight\n",
      "index, k =   9    layer5.bias\n",
      "index, k =   10    layer6.weight\n",
      "index, k =   11    layer6.bias\n",
      "index, k =   12    layer7.weight\n",
      "index, k =   13    layer7.bias\n",
      "index, k =   14    layer8.weight\n",
      "index, k =   15    layer8.bias\n",
      "index, k =   16    layer9.weight\n",
      "index, k =   17    layer9.bias\n",
      "index, k =   18    layer10.weight\n",
      "index, k =   19    layer10.bias\n",
      "index, k =   20    layer11.weight\n",
      "index, k =   21    layer11.bias\n",
      "index, k =   22    layer12new.weight\n",
      "index, k =   23    layer12new.bias\n",
      "index, k =   24    conv1.weight\n",
      "index, k =   25    conv1.bias\n",
      "index, k =   26    conv2.weight\n",
      "index, k =   27    conv2.bias\n",
      "index, k =   28    fc1.weight\n",
      "index, k =   29    fc1.bias\n",
      "index, k =   30    finalFilter.weight\n",
      "index, k =   31    finalFilter.bias\n",
      "pretrained_dict iterated\n"
     ]
    },
    {
     "data": {
      "text/plain": [
       "<All keys matched successfully>"
      ]
     },
     "execution_count": 13,
     "metadata": {},
     "output_type": "execute_result"
    }
   ],
   "source": [
    "print('output = ',output)\n",
    "##print('oldOutput = ',oldOutput)\n",
    "##  use the first four layers from a pre-existing model\n",
    "##  see example at https://discuss.pytorch.org/t/how-to-load-part-of-pre-trained-model/1113\n",
    "\n",
    "##   ML -> /share/lazy/sokoloff/ML\n",
    "model_dict = model.state_dict()\n",
    "## mds 190725 for debugging\n",
    "print(\"for model_dict\")\n",
    "index = 0\n",
    "for k,v in model_dict.items():\n",
    "    print(\"index, k =  \",index,\"  \",k)\n",
    "    index = index+1\n",
    "##    print(\"value = \", v)\n",
    " \n",
    "updated_dict = model_dict\n",
    "##print(\"updated_dict = \",updated_dict)\n",
    "## when starting \"ab initio\", reduce biases as the bias gets summed for each track\n",
    "## contributing to the predicted KDE\n",
    "updated_dict[\"layer1.bias\"] = 0.005*model_dict[\"layer1.bias\"]\n",
    "updated_dict[\"layer2.bias\"] = 0.005*model_dict[\"layer2.bias\"]\n",
    "updated_dict[\"layer3.bias\"] = 0.005*model_dict[\"layer3.bias\"]\n",
    "updated_dict[\"layer4.bias\"] = 0.005*model_dict[\"layer4.bias\"]\n",
    "updated_dict[\"layer5.bias\"] = 0.005*model_dict[\"layer5.bias\"]\n",
    "updated_dict[\"layer6.bias\"] = 0.005*model_dict[\"layer6.bias\"]\n",
    "updated_dict[\"layer7.bias\"] = 0.005*model_dict[\"layer7.bias\"]\n",
    "updated_dict[\"layer8.bias\"] = 0.005*model_dict[\"layer8.bias\"]\n",
    "updated_dict[\"layer9.bias\"] = 0.005*model_dict[\"layer9.bias\"]\n",
    "updated_dict[\"layer10.bias\"] = 0.005*model_dict[\"layer10.bias\"]\n",
    "updated_dict[\"layer11.bias\"] = 0.005*model_dict[\"layer11.bias\"]\n",
    "\n",
    "model.load_state_dict(updated_dict,strict=False)\n",
    "\n",
    "model_dict = model.state_dict()\n",
    "##print(\"updated model_dict = \",model_dict)\n",
    "\n",
    "## print(\" \\n\",\"  for pretrained_dict\")\n",
    "## index = 0\n",
    "##for k,v in pretrained_dict.items():\n",
    "##    print(\"index, k =  \",index,\"  \",k)\n",
    "##    index = index+1\n",
    "## mds  \n",
    "\n",
    "##pretrained_dict = torch.load('ML/29July2020_Trks_to_KDE_C_lossB_100epochs_b64_1m3_nOut_50x50/29July2020_Trks_to_KDE_C_lossB_100epochs_b64_1m3_nOut_50x50_final.pyt')\n",
    "##print(\"model_dict instantiated\")\n",
    "# 1. filter out unnecessary keys\n",
    "##pretrained_dict = {k: v for k, v in pretrained_dict.items() if k in model_dict}\n",
    "##print(\"pretrained_dict iterated\")\n",
    "# 2. overwrite entries in the existing state dict\n",
    "##model_dict.update(pretrained_dict) \n",
    "##\n",
    "#   when starting from a model with a fully connected last layer rather than a convolutional layer\n",
    "# 3. load the new state dict\n",
    "#   need to use strict=False as the two models state model attributes do not agree exactly\n",
    "#   see https://pytorch.org/docs/master/_modules/torch/nn/modules/module.html#Module.load_state_dict\n",
    "\n",
    "##model.load_state_dict(pretrained_dict,strict=False)\n",
    "\n",
    "## print('model_dict =    ', model_dict)\n",
    "\n",
    "## finished at training cost = 1.46, validation cost = 1.50\n",
    "##d_folder = '25December__DDplus_loss_Ba_iter7_floatAll_800epochs_4em6'\n",
    "d_folder = '23Jan_DDplus_loss_Ba_iter16_floatAll_150epochs_1p5em5_4xwill'\n",
    "d_name = d_folder\n",
    "suffix = 'final'\n",
    "dict_name = 'ML/' + d_folder + '/' + d_name + '_'+ suffix + '.pyt'\n",
    "print('dict_name = ',dict_name)\n",
    "pretrained_dict = torch.load(dict_name)\n",
    "\n",
    "print(\" \")\n",
    "print(\"  for pretrained_dict\")\n",
    "index = 0\n",
    "for k,v in pretrained_dict.items():\n",
    "    print(\"index, k =  \",index,\"  \",k)\n",
    "    index = index+1\n",
    " \n",
    "\n",
    "##print(\"model_dict instantiated\")\n",
    "# 1. filter out unnecessary keys\n",
    "pretrained_dict = {k: v for k, v in pretrained_dict.items() if k in model_dict}\n",
    "print(\"pretrained_dict iterated\")\n",
    "# 2. overwrite entries in the existing state dict\n",
    "model_dict.update(pretrained_dict) \n",
    "##\n",
    "#   when starting from a model with a fully connected last layer rather than a convolutional layer\n",
    "# 3. load the new state dict\n",
    "#   need to use strict=False as the two models state model attributes do not agree exactly\n",
    "#   see https://pytorch.org/docs/master/_modules/torch/nn/modules/module.html#Module.load_state_dict\n",
    "\n",
    "model.load_state_dict(pretrained_dict,strict=False)\n",
    "\n"
   ]
  },
  {
   "cell_type": "code",
   "execution_count": 14,
   "metadata": {},
   "outputs": [],
   "source": [
    "##print('validation.dataset.tensors = ',validation.dataset.tensors)\n",
    "fig_size = plt.rcParams[\"figure.figsize\"]\n",
    "fig_size[0] = 10\n",
    "fig_size[1] = 4\n",
    "plt.rcParams[\"figure.figsize\"] = fig_size"
   ]
  },
  {
   "cell_type": "code",
   "execution_count": 15,
   "metadata": {
    "scrolled": false
   },
   "outputs": [
    {
     "name": "stdout",
     "output_type": "stream",
     "text": [
      "Loading data...\n",
      "pocaMx.shape =  (80000,)\n",
      "nEvts =  80000\n",
      "len(pocaMx[0]) =  199\n",
      "len(pocaMx[1]) =  25\n",
      "len(pocaMx[2]) =  369\n",
      "len(pocaMx[3]) =  143\n",
      "len(pocaMx[4]) =  160\n",
      "majorAxis.shape =  (80000, 3)\n",
      "minorAxis_1.shape =  (80000, 3)\n",
      "minorAxis_2.shape =  (80000, 3)\n",
      "have entered six_ellipsoid_parameters\n",
      "  \n",
      " \n",
      "  nEvts =  80000\n",
      " iEvt, nTrks =  0 199\n",
      " iEvt, nTrks =  1 25\n",
      " iEvt, nTrks =  2 369\n",
      " iEvt, nTrks =  3 143\n",
      " iEvt, nTrks =  4 160\n",
      " iEvt, nTrks =  5 260\n",
      " iEvt, nTrks =  6 237\n",
      " iEvt, nTrks =  7 327\n",
      " iEvt, nTrks =  8 178\n",
      " iEvt, nTrks =  9 106\n",
      "A.shape =  (80000,)\n",
      "majorAxis[iTrk][0][0] =  0.00045611936\n",
      "majorAxis[iTrk][1][0] =  -4.8292455e-05\n",
      "majorAxis[iTrk][2][0] =  0.090019904\n",
      "minorAxis_1[iTrk][0][0] =  -1.8602173\n",
      "minorAxis_1[iTrk][1][0] =  -17.569641\n",
      "minorAxis_1[iTrk][2][0] =  4.7891795e-08\n",
      "minorAxis_2[iTrk][0][0] =  -17.569414\n",
      "minorAxis_2[iTrk][1][0] =  1.8601931\n",
      "minorAxis_2[iTrk][2][0] =  0.0900199\n",
      "  \n",
      "majorAxis[iTrk][0][0] =  0.002360258\n",
      "majorAxis[iTrk][1][0] =  -0.007426616\n",
      "majorAxis[iTrk][2][0] =  0.3710108\n",
      "minorAxis_1[iTrk][0][0] =  -16.837948\n",
      "minorAxis_1[iTrk][1][0] =  -5.3512807\n",
      "minorAxis_1[iTrk][2][0] =  8.157131e-09\n",
      "minorAxis_2[iTrk][0][0] =  -5.3501005\n",
      "minorAxis_2[iTrk][1][0] =  16.834236\n",
      "minorAxis_2[iTrk][2][0] =  0.3710108\n",
      "  \n",
      "majorAxis[iTrk][0][0] =  6.220712e-05\n",
      "majorAxis[iTrk][1][0] =  -4.4594188e-05\n",
      "majorAxis[iTrk][2][0] =  0.036773544\n",
      "minorAxis_1[iTrk][0][0] =  10.293747\n",
      "minorAxis_1[iTrk][1][0] =  14.359369\n",
      "minorAxis_1[iTrk][2][0] =  1.571041e-06\n",
      "minorAxis_2[iTrk][0][0] =  14.359338\n",
      "minorAxis_2[iTrk][1][0] =  -10.293725\n",
      "minorAxis_2[iTrk][2][0] =  -0.03677354\n",
      "  \n",
      "majorAxis[iTrk][0][0] =  0.0033452737\n",
      "majorAxis[iTrk][1][0] =  0.00013028442\n",
      "majorAxis[iTrk][2][0] =  0.2431933\n",
      "minorAxis_1[iTrk][0][0] =  0.6875674\n",
      "minorAxis_1[iTrk][1][0] =  -17.65446\n",
      "minorAxis_1[iTrk][2][0] =  -6.6602626e-09\n",
      "minorAxis_2[iTrk][0][0] =  -17.652788\n",
      "minorAxis_2[iTrk][1][0] =  -0.68750226\n",
      "minorAxis_2[iTrk][2][0] =  0.2431933\n",
      "  \n",
      "majorAxis[iTrk][0][0] =  -0.00068196515\n",
      "majorAxis[iTrk][1][0] =  -0.00044562915\n",
      "majorAxis[iTrk][2][0] =  0.119970225\n",
      "minorAxis_1[iTrk][0][0] =  9.664597\n",
      "minorAxis_1[iTrk][1][0] =  -14.790141\n",
      "minorAxis_1[iTrk][2][0] =  1.9819232e-08\n",
      "minorAxis_2[iTrk][0][0] =  -14.789802\n",
      "minorAxis_2[iTrk][1][0] =  -9.664374\n",
      "minorAxis_2[iTrk][2][0] =  -0.11997023\n",
      "  \n",
      "majorAxis[iTrk][0][0] =  -8.245073e-05\n",
      "majorAxis[iTrk][1][0] =  0.00015860004\n",
      "majorAxis[iTrk][2][0] =  0.05619731\n",
      "minorAxis_1[iTrk][0][0] =  -15.676071\n",
      "minorAxis_1[iTrk][1][0] =  -8.149452\n",
      "minorAxis_1[iTrk][2][0] =  4.1105773e-07\n",
      "minorAxis_2[iTrk][0][0] =  -8.14941\n",
      "minorAxis_2[iTrk][1][0] =  15.675991\n",
      "minorAxis_2[iTrk][2][0] =  -0.056197315\n",
      "  \n",
      "majorAxis[iTrk][0][0] =  -0.00015151131\n",
      "majorAxis[iTrk][1][0] =  0.00067339616\n",
      "majorAxis[iTrk][2][0] =  0.11042937\n",
      "minorAxis_1[iTrk][0][0] =  17.236937\n",
      "minorAxis_1[iTrk][1][0] =  3.8782384\n",
      "minorAxis_1[iTrk][2][0] =  2.3217373e-08\n",
      "minorAxis_2[iTrk][0][0] =  3.8781626\n",
      "minorAxis_2[iTrk][1][0] =  -17.236599\n",
      "minorAxis_2[iTrk][2][0] =  0.11042936\n",
      "  \n",
      "majorAxis[iTrk][0][0] =  -7.577422e-05\n",
      "majorAxis[iTrk][1][0] =  -0.00036802414\n",
      "majorAxis[iTrk][2][0] =  0.08147708\n",
      "minorAxis_1[iTrk][0][0] =  -17.304853\n",
      "minorAxis_1[iTrk][1][0] =  3.5629773\n",
      "minorAxis_1[iTrk][2][0] =  5.80501e-09\n",
      "minorAxis_2[iTrk][0][0] =  3.5629392\n",
      "minorAxis_2[iTrk][1][0] =  17.304668\n",
      "minorAxis_2[iTrk][2][0] =  0.081477076\n",
      "  \n",
      "majorAxis[iTrk][0][0] =  0.00013397264\n",
      "majorAxis[iTrk][1][0] =  0.00094400026\n",
      "majorAxis[iTrk][2][0] =  0.12978876\n",
      "minorAxis_1[iTrk][0][0] =  17.492561\n",
      "minorAxis_1[iTrk][1][0] =  -2.4825466\n",
      "minorAxis_1[iTrk][2][0] =  1.1329301e-08\n",
      "minorAxis_2[iTrk][0][0] =  -2.4824798\n",
      "minorAxis_2[iTrk][1][0] =  -17.492088\n",
      "minorAxis_2[iTrk][2][0] =  0.12978874\n",
      "  \n",
      "majorAxis[iTrk][0][0] =  0.00043501743\n",
      "majorAxis[iTrk][1][0] =  -0.0016521378\n",
      "majorAxis[iTrk][2][0] =  0.17373301\n",
      "minorAxis_1[iTrk][0][0] =  -17.0855\n",
      "minorAxis_1[iTrk][1][0] =  -4.4987106\n",
      "minorAxis_1[iTrk][2][0] =  -7.7275175e-08\n",
      "minorAxis_2[iTrk][0][0] =  -4.4984937\n",
      "minorAxis_2[iTrk][1][0] =  17.084677\n",
      "minorAxis_2[iTrk][2][0] =  0.17373303\n",
      "  \n",
      "len(X) =  80000\n",
      "len(Xlist) =  1\n",
      "Loaded /share/lazy/will/data/June30_2020_80k_1.h5 in 150.9 s\n",
      "pocaMx.shape =  (80000,)\n",
      "nEvts =  80000\n",
      "len(pocaMx[0]) =  222\n",
      "len(pocaMx[1]) =  133\n",
      "len(pocaMx[2]) =  259\n",
      "len(pocaMx[3]) =  114\n",
      "len(pocaMx[4]) =  143\n",
      "majorAxis.shape =  (80000, 3)\n",
      "minorAxis_1.shape =  (80000, 3)\n",
      "minorAxis_2.shape =  (80000, 3)\n",
      "have entered six_ellipsoid_parameters\n",
      "  \n",
      " \n",
      "  nEvts =  80000\n",
      " iEvt, nTrks =  0 222\n",
      " iEvt, nTrks =  1 133\n",
      " iEvt, nTrks =  2 259\n",
      " iEvt, nTrks =  3 114\n",
      " iEvt, nTrks =  4 143\n",
      " iEvt, nTrks =  5 136\n",
      " iEvt, nTrks =  6 397\n",
      " iEvt, nTrks =  7 370\n",
      " iEvt, nTrks =  8 97\n",
      " iEvt, nTrks =  9 67\n",
      "A.shape =  (80000,)\n",
      "majorAxis[iTrk][0][0] =  -0.001036478\n",
      "majorAxis[iTrk][1][0] =  0.0009833863\n",
      "majorAxis[iTrk][2][0] =  0.15887721\n",
      "minorAxis_1[iTrk][0][0] =  -12.160475\n",
      "minorAxis_1[iTrk][1][0] =  -12.817002\n",
      "minorAxis_1[iTrk][2][0] =  0.0\n",
      "minorAxis_2[iTrk][0][0] =  -12.816484\n",
      "minorAxis_2[iTrk][1][0] =  12.159985\n",
      "minorAxis_2[iTrk][2][0] =  -0.15887721\n",
      "  \n",
      "majorAxis[iTrk][0][0] =  0.0016579849\n",
      "majorAxis[iTrk][1][0] =  0.0020989499\n",
      "majorAxis[iTrk][2][0] =  0.21738033\n",
      "minorAxis_1[iTrk][0][0] =  -13.864233\n",
      "minorAxis_1[iTrk][1][0] =  10.95152\n",
      "minorAxis_1[iTrk][2][0] =  -3.3017489e-09\n",
      "minorAxis_2[iTrk][0][0] =  10.95069\n",
      "minorAxis_2[iTrk][1][0] =  13.863184\n",
      "minorAxis_2[iTrk][2][0] =  -0.21738033\n",
      "  \n",
      "majorAxis[iTrk][0][0] =  0.00012481198\n",
      "majorAxis[iTrk][1][0] =  -0.00028747538\n",
      "majorAxis[iTrk][2][0] =  0.07441149\n",
      "minorAxis_1[iTrk][0][0] =  -16.206305\n",
      "minorAxis_1[iTrk][1][0] =  -7.036224\n",
      "minorAxis_1[iTrk][2][0] =  5.3456716e-08\n",
      "minorAxis_2[iTrk][0][0] =  -7.0361605\n",
      "minorAxis_2[iTrk][1][0] =  16.20616\n",
      "minorAxis_2[iTrk][2][0] =  0.07441148\n",
      "  \n",
      "majorAxis[iTrk][0][0] =  -0.007920195\n",
      "majorAxis[iTrk][1][0] =  -0.009694931\n",
      "majorAxis[iTrk][2][0] =  0.47021532\n",
      "minorAxis_1[iTrk][0][0] =  -13.682467\n",
      "minorAxis_1[iTrk][1][0] =  11.177781\n",
      "minorAxis_1[iTrk][2][0] =  1.8638048e-10\n",
      "minorAxis_2[iTrk][0][0] =  11.173822\n",
      "minorAxis_2[iTrk][1][0] =  13.677622\n",
      "minorAxis_2[iTrk][2][0] =  0.47021535\n",
      "  \n",
      "majorAxis[iTrk][0][0] =  0.00038854493\n",
      "majorAxis[iTrk][1][0] =  0.0009230774\n",
      "majorAxis[iTrk][2][0] =  0.13301943\n",
      "minorAxis_1[iTrk][0][0] =  -16.284061\n",
      "minorAxis_1[iTrk][1][0] =  6.854344\n",
      "minorAxis_1[iTrk][2][0] =  2.2469074e-07\n",
      "minorAxis_2[iTrk][0][0] =  6.8541493\n",
      "minorAxis_2[iTrk][1][0] =  16.283602\n",
      "minorAxis_2[iTrk][2][0] =  -0.13301945\n",
      "  \n",
      "majorAxis[iTrk][0][0] =  -5.6093595e-05\n",
      "majorAxis[iTrk][1][0] =  0.000114469876\n",
      "majorAxis[iTrk][2][0] =  0.04745733\n",
      "minorAxis_1[iTrk][0][0] =  15.865369\n",
      "minorAxis_1[iTrk][1][0] =  7.774496\n",
      "minorAxis_1[iTrk][2][0] =  1.8465234e-06\n",
      "minorAxis_2[iTrk][0][0] =  7.774468\n",
      "minorAxis_2[iTrk][1][0] =  -15.865313\n",
      "minorAxis_2[iTrk][2][0] =  0.04745733\n",
      "  \n",
      "majorAxis[iTrk][0][0] =  9.375396e-05\n",
      "majorAxis[iTrk][1][0] =  0.0002926058\n",
      "majorAxis[iTrk][2][0] =  0.07367872\n",
      "minorAxis_1[iTrk][0][0] =  -16.825275\n",
      "minorAxis_1[iTrk][1][0] =  5.390994\n",
      "minorAxis_1[iTrk][2][0] =  -2.1861728e-08\n",
      "minorAxis_2[iTrk][0][0] =  5.3909473\n",
      "minorAxis_2[iTrk][1][0] =  16.825129\n",
      "minorAxis_2[iTrk][2][0] =  -0.07367872\n",
      "  \n",
      "majorAxis[iTrk][0][0] =  -1.1543522e-06\n",
      "majorAxis[iTrk][1][0] =  2.8112001e-05\n",
      "majorAxis[iTrk][2][0] =  0.022295665\n",
      "minorAxis_1[iTrk][0][0] =  -17.652967\n",
      "minorAxis_1[iTrk][1][0] =  -0.7248769\n",
      "minorAxis_1[iTrk][2][0] =  1.7815448e-07\n",
      "minorAxis_2[iTrk][0][0] =  -0.7248763\n",
      "minorAxis_2[iTrk][1][0] =  17.652954\n",
      "minorAxis_2[iTrk][2][0] =  -0.022295661\n",
      "  \n",
      "majorAxis[iTrk][0][0] =  -0.2612214\n",
      "majorAxis[iTrk][1][0] =  0.83076316\n",
      "majorAxis[iTrk][2][0] =  3.8745012\n",
      "minorAxis_1[iTrk][0][0] =  -16.85429\n",
      "minorAxis_1[iTrk][1][0] =  -5.299587\n",
      "minorAxis_1[iTrk][2][0] =  2.0865195e-11\n",
      "minorAxis_2[iTrk][0][0] =  -5.1705856\n",
      "minorAxis_2[iTrk][1][0] =  16.444027\n",
      "minorAxis_2[iTrk][2][0] =  -3.874501\n",
      "  \n",
      "majorAxis[iTrk][0][0] =  -0.057592034\n",
      "majorAxis[iTrk][1][0] =  0.06503555\n",
      "majorAxis[iTrk][2][0] =  1.2373537\n",
      "minorAxis_1[iTrk][0][0] =  13.227038\n",
      "minorAxis_1[iTrk][1][0] =  11.713163\n",
      "minorAxis_1[iTrk][2][0] =  1.7679876e-10\n",
      "minorAxis_2[iTrk][0][0] =  11.684402\n",
      "minorAxis_2[iTrk][1][0] =  -13.194561\n",
      "minorAxis_2[iTrk][2][0] =  1.2373537\n",
      "  \n",
      "len(X) =  80000\n",
      "len(Xlist) =  2\n",
      "Loaded /share/lazy/will/data/June30_2020_80k_2.h5 in 154.9 s\n",
      "pocaMx.shape =  (80000,)\n"
     ]
    },
    {
     "name": "stdout",
     "output_type": "stream",
     "text": [
      "nEvts =  80000\n",
      "len(pocaMx[0]) =  196\n",
      "len(pocaMx[1]) =  35\n",
      "len(pocaMx[2]) =  265\n",
      "len(pocaMx[3]) =  128\n",
      "len(pocaMx[4]) =  124\n",
      "majorAxis.shape =  (80000, 3)\n",
      "minorAxis_1.shape =  (80000, 3)\n",
      "minorAxis_2.shape =  (80000, 3)\n",
      "have entered six_ellipsoid_parameters\n",
      "  \n",
      " \n",
      "  nEvts =  80000\n",
      " iEvt, nTrks =  0 196\n",
      " iEvt, nTrks =  1 35\n",
      " iEvt, nTrks =  2 265\n",
      " iEvt, nTrks =  3 128\n",
      " iEvt, nTrks =  4 124\n",
      " iEvt, nTrks =  5 122\n",
      " iEvt, nTrks =  6 300\n",
      " iEvt, nTrks =  7 179\n",
      " iEvt, nTrks =  8 243\n",
      " iEvt, nTrks =  9 112\n",
      "A.shape =  (80000,)\n",
      "majorAxis[iTrk][0][0] =  -2.440992e-05\n",
      "majorAxis[iTrk][1][0] =  -0.00038087237\n",
      "majorAxis[iTrk][2][0] =  0.08211532\n",
      "minorAxis_1[iTrk][0][0] =  -17.631672\n",
      "minorAxis_1[iTrk][1][0] =  1.130005\n",
      "minorAxis_1[iTrk][2][0] =  4.7444193e-08\n",
      "minorAxis_2[iTrk][0][0] =  1.1299927\n",
      "minorAxis_2[iTrk][1][0] =  17.631481\n",
      "minorAxis_2[iTrk][2][0] =  0.08211532\n",
      "  \n",
      "majorAxis[iTrk][0][0] =  -0.02277395\n",
      "majorAxis[iTrk][1][0] =  0.0014473597\n",
      "majorAxis[iTrk][2][0] =  0.6347583\n",
      "minorAxis_1[iTrk][0][0] =  -1.1205891\n",
      "minorAxis_1[iTrk][1][0] =  -17.632273\n",
      "minorAxis_1[iTrk][2][0] =  2.1543272e-09\n",
      "minorAxis_2[iTrk][0][0] =  -17.620888\n",
      "minorAxis_2[iTrk][1][0] =  1.1198657\n",
      "minorAxis_2[iTrk][2][0] =  -0.63475823\n",
      "  \n",
      "majorAxis[iTrk][0][0] =  0.0004024825\n",
      "majorAxis[iTrk][1][0] =  -0.00023784715\n",
      "majorAxis[iTrk][2][0] =  0.090883136\n",
      "minorAxis_1[iTrk][0][0] =  -8.988615\n",
      "minorAxis_1[iTrk][1][0] =  -15.210441\n",
      "minorAxis_1[iTrk][2][0] =  -6.56547e-08\n",
      "minorAxis_2[iTrk][0][0] =  -15.21024\n",
      "minorAxis_2[iTrk][1][0] =  8.988497\n",
      "minorAxis_2[iTrk][2][0] =  0.090883136\n",
      "  \n",
      "majorAxis[iTrk][0][0] =  0.0068744724\n",
      "majorAxis[iTrk][1][0] =  0.0017050834\n",
      "majorAxis[iTrk][2][0] =  0.3537121\n",
      "minorAxis_1[iTrk][0][0] =  4.2532983\n",
      "minorAxis_1[iTrk][1][0] =  -17.148241\n",
      "minorAxis_1[iTrk][2][0] =  1.1939819e-09\n",
      "minorAxis_2[iTrk][0][0] =  -17.144806\n",
      "minorAxis_2[iTrk][1][0] =  -4.252446\n",
      "minorAxis_2[iTrk][2][0] =  0.3537121\n",
      "  \n",
      "majorAxis[iTrk][0][0] =  -0.004920899\n",
      "majorAxis[iTrk][1][0] =  0.0009170567\n",
      "majorAxis[iTrk][2][0] =  0.2973651\n",
      "minorAxis_1[iTrk][0][0] =  -3.236844\n",
      "minorAxis_1[iTrk][1][0] =  -17.36881\n",
      "minorAxis_1[iTrk][2][0] =  -4.7397712e-09\n",
      "minorAxis_2[iTrk][0][0] =  -17.36635\n",
      "minorAxis_2[iTrk][1][0] =  3.2363856\n",
      "minorAxis_2[iTrk][2][0] =  -0.29736507\n",
      "  \n",
      "majorAxis[iTrk][0][0] =  -0.0001240533\n",
      "majorAxis[iTrk][1][0] =  0.00033394952\n",
      "majorAxis[iTrk][2][0] =  0.079335004\n",
      "minorAxis_1[iTrk][0][0] =  -16.562042\n",
      "minorAxis_1[iTrk][1][0] =  -6.1523557\n",
      "minorAxis_1[iTrk][2][0] =  3.1261713e-08\n",
      "minorAxis_2[iTrk][0][0] =  -6.1522937\n",
      "minorAxis_2[iTrk][1][0] =  16.561876\n",
      "minorAxis_2[iTrk][2][0] =  -0.079335004\n",
      "  \n",
      "majorAxis[iTrk][0][0] =  0.00010132754\n",
      "majorAxis[iTrk][1][0] =  6.684385e-05\n",
      "majorAxis[iTrk][2][0] =  0.046310693\n",
      "minorAxis_1[iTrk][0][0] =  -9.728917\n",
      "minorAxis_1[iTrk][1][0] =  14.747911\n",
      "minorAxis_1[iTrk][2][0] =  -2.3591362e-07\n",
      "minorAxis_2[iTrk][0][0] =  14.74786\n",
      "minorAxis_2[iTrk][1][0] =  9.728883\n",
      "minorAxis_2[iTrk][2][0] =  -0.04631069\n",
      "  \n",
      "majorAxis[iTrk][0][0] =  0.0042806785\n",
      "majorAxis[iTrk][1][0] =  0.004939851\n",
      "majorAxis[iTrk][2][0] =  0.3398017\n",
      "minorAxis_1[iTrk][0][0] =  13.3521\n",
      "minorAxis_1[iTrk][1][0] =  -11.5704\n",
      "minorAxis_1[iTrk][2][0] =  1.21654296e-08\n",
      "minorAxis_2[iTrk][0][0] =  -11.56826\n",
      "minorAxis_2[iTrk][1][0] =  -13.349631\n",
      "minorAxis_2[iTrk][2][0] =  0.33980173\n",
      "  \n",
      "majorAxis[iTrk][0][0] =  -0.00013103899\n",
      "majorAxis[iTrk][1][0] =  -0.0006021903\n",
      "majorAxis[iTrk][2][0] =  0.10434653\n",
      "minorAxis_1[iTrk][0][0] =  -17.26384\n",
      "minorAxis_1[iTrk][1][0] =  3.7566798\n",
      "minorAxis_1[iTrk][2][0] =  -9.616703e-08\n",
      "minorAxis_2[iTrk][0][0] =  3.7566135\n",
      "minorAxis_2[iTrk][1][0] =  17.263535\n",
      "minorAxis_2[iTrk][2][0] =  0.10434652\n",
      "  \n",
      "majorAxis[iTrk][0][0] =  0.0016481678\n",
      "majorAxis[iTrk][1][0] =  -0.0019788505\n",
      "majorAxis[iTrk][2][0] =  0.21330062\n",
      "minorAxis_1[iTrk][0][0] =  -13.575765\n",
      "minorAxis_1[iTrk][1][0] =  -11.307139\n",
      "minorAxis_1[iTrk][2][0] =  8.543098e-09\n",
      "minorAxis_2[iTrk][0][0] =  -11.306314\n",
      "minorAxis_2[iTrk][1][0] =  13.574774\n",
      "minorAxis_2[iTrk][2][0] =  0.21330062\n",
      "  \n",
      "len(X) =  80000\n",
      "len(Xlist) =  3\n",
      "Loaded /share/lazy/will/data/June30_2020_80k_3.h5 in 150.7 s\n",
      "pocaMx.shape =  (80000,)\n",
      "nEvts =  80000\n",
      "len(pocaMx[0]) =  204\n",
      "len(pocaMx[1]) =  33\n",
      "len(pocaMx[2]) =  206\n",
      "len(pocaMx[3]) =  150\n",
      "len(pocaMx[4]) =  96\n",
      "majorAxis.shape =  (80000, 3)\n",
      "minorAxis_1.shape =  (80000, 3)\n",
      "minorAxis_2.shape =  (80000, 3)\n",
      "have entered six_ellipsoid_parameters\n",
      "  \n",
      " \n",
      "  nEvts =  80000\n",
      " iEvt, nTrks =  0 204\n",
      " iEvt, nTrks =  1 33\n",
      " iEvt, nTrks =  2 206\n",
      " iEvt, nTrks =  3 150\n",
      " iEvt, nTrks =  4 96\n",
      " iEvt, nTrks =  5 10\n",
      " iEvt, nTrks =  6 174\n",
      " iEvt, nTrks =  7 320\n",
      " iEvt, nTrks =  8 164\n",
      " iEvt, nTrks =  9 119\n",
      "A.shape =  (80000,)\n",
      "majorAxis[iTrk][0][0] =  0.00057876867\n",
      "majorAxis[iTrk][1][0] =  0.00037603904\n",
      "majorAxis[iTrk][2][0] =  0.110427074\n",
      "minorAxis_1[iTrk][0][0] =  9.62588\n",
      "minorAxis_1[iTrk][1][0] =  -14.81537\n",
      "minorAxis_1[iTrk][2][0] =  8.391163e-09\n",
      "minorAxis_2[iTrk][0][0] =  -14.815081\n",
      "minorAxis_2[iTrk][1][0] =  -9.625692\n",
      "minorAxis_2[iTrk][2][0] =  0.11042709\n",
      "  \n",
      "majorAxis[iTrk][0][0] =  -7.687664e-05\n",
      "majorAxis[iTrk][1][0] =  -0.0017985329\n",
      "majorAxis[iTrk][2][0] =  0.17833562\n",
      "minorAxis_1[iTrk][0][0] =  -17.651728\n",
      "minorAxis_1[iTrk][1][0] =  0.7545069\n",
      "minorAxis_1[iTrk][2][0] =  -7.932265e-09\n",
      "minorAxis_2[iTrk][0][0] =  0.75446844\n",
      "minorAxis_2[iTrk][1][0] =  17.650827\n",
      "minorAxis_2[iTrk][2][0] =  0.17833562\n",
      "  \n",
      "majorAxis[iTrk][0][0] =  4.5855802e-05\n",
      "majorAxis[iTrk][1][0] =  -0.00054240844\n",
      "majorAxis[iTrk][2][0] =  0.098067455\n",
      "minorAxis_1[iTrk][0][0] =  17.605043\n",
      "minorAxis_1[iTrk][1][0] =  1.4883496\n",
      "minorAxis_1[iTrk][2][0] =  -2.7847218e-08\n",
      "minorAxis_2[iTrk][0][0] =  1.4883265\n",
      "minorAxis_2[iTrk][1][0] =  -17.604773\n",
      "minorAxis_2[iTrk][2][0] =  -0.098067455\n",
      "  \n",
      "majorAxis[iTrk][0][0] =  -0.0013144773\n",
      "majorAxis[iTrk][1][0] =  0.0008680699\n",
      "majorAxis[iTrk][2][0] =  0.16682307\n",
      "minorAxis_1[iTrk][0][0] =  -9.736217\n",
      "minorAxis_1[iTrk][1][0] =  -14.743094\n",
      "minorAxis_1[iTrk][2][0] =  -1.7552136e-08\n",
      "minorAxis_2[iTrk][0][0] =  -14.742435\n",
      "minorAxis_2[iTrk][1][0] =  9.735782\n",
      "minorAxis_2[iTrk][2][0] =  -0.16682304\n",
      "  \n",
      "majorAxis[iTrk][0][0] =  0.032227762\n",
      "majorAxis[iTrk][1][0] =  0.007741693\n",
      "majorAxis[iTrk][2][0] =  0.76488173\n",
      "minorAxis_1[iTrk][0][0] =  -4.1267405\n",
      "minorAxis_1[iTrk][1][0] =  17.179138\n",
      "minorAxis_1[iTrk][2][0] =  -2.3529467e-10\n",
      "minorAxis_2[iTrk][0][0] =  17.16303\n",
      "minorAxis_2[iTrk][1][0] =  4.122871\n",
      "minorAxis_2[iTrk][2][0] =  -0.7648817\n",
      "  \n",
      "majorAxis[iTrk][0][0] =  1.9753945\n",
      "majorAxis[iTrk][1][0] =  2.5669005\n",
      "majorAxis[iTrk][2][0] =  7.226382\n",
      "minorAxis_1[iTrk][0][0] =  14.0017\n",
      "minorAxis_1[iTrk][1][0] =  -10.7752075\n",
      "minorAxis_1[iTrk][2][0] =  5.3286344e-11\n",
      "minorAxis_2[iTrk][0][0] =  -9.832683\n",
      "minorAxis_2[iTrk][1][0] =  -12.776951\n",
      "minorAxis_2[iTrk][2][0] =  7.226381\n",
      "  \n",
      "majorAxis[iTrk][0][0] =  -0.0026900356\n",
      "majorAxis[iTrk][1][0] =  -0.0015841618\n",
      "majorAxis[iTrk][2][0] =  0.234843\n",
      "minorAxis_1[iTrk][0][0] =  -8.965469\n",
      "minorAxis_1[iTrk][1][0] =  15.224096\n",
      "minorAxis_1[iTrk][2][0] =  2.8236277e-08\n",
      "minorAxis_2[iTrk][0][0] =  15.222751\n",
      "minorAxis_2[iTrk][1][0] =  8.964677\n",
      "minorAxis_2[iTrk][2][0] =  0.234843\n",
      "  \n",
      "majorAxis[iTrk][0][0] =  -0.0001692281\n",
      "majorAxis[iTrk][1][0] =  0.0003505444\n",
      "majorAxis[iTrk][2][0] =  0.08292902\n",
      "minorAxis_1[iTrk][0][0] =  -15.910811\n",
      "minorAxis_1[iTrk][1][0] =  -7.68107\n",
      "minorAxis_1[iTrk][2][0] =  1.587002e-08\n",
      "minorAxis_2[iTrk][0][0] =  -7.680986\n",
      "minorAxis_2[iTrk][1][0] =  15.910635\n",
      "minorAxis_2[iTrk][2][0] =  -0.08292903\n",
      "  \n",
      "majorAxis[iTrk][0][0] =  0.0017714669\n",
      "majorAxis[iTrk][1][0] =  -0.001515166\n",
      "majorAxis[iTrk][2][0] =  0.20293355\n",
      "minorAxis_1[iTrk][0][0] =  11.483943\n",
      "minorAxis_1[iTrk][1][0] =  13.426532\n",
      "minorAxis_1[iTrk][2][0] =  -2.7840934e-09\n",
      "minorAxis_2[iTrk][0][0] =  13.425648\n",
      "minorAxis_2[iTrk][1][0] =  -11.483187\n",
      "minorAxis_2[iTrk][2][0] =  -0.20293356\n",
      "  \n",
      "majorAxis[iTrk][0][0] =  0.0006359923\n",
      "majorAxis[iTrk][1][0] =  -0.0003371759\n",
      "majorAxis[iTrk][2][0] =  0.112773284\n",
      "minorAxis_1[iTrk][0][0] =  8.275655\n",
      "minorAxis_1[iTrk][1][0] =  15.609813\n",
      "minorAxis_1[iTrk][2][0] =  -5.6373224e-08\n",
      "minorAxis_2[iTrk][0][0] =  15.609494\n",
      "minorAxis_2[iTrk][1][0] =  -8.275486\n",
      "minorAxis_2[iTrk][2][0] =  -0.11277328\n",
      "  \n",
      "len(X) =  80000\n",
      "len(Xlist) =  4\n",
      "Loaded /share/lazy/will/data/June30_2020_80k_4.h5 in 151.4 s\n",
      "outer loop X.shape =  (320000, 9, 600)\n",
      "Constructing 320000 event dataset took 2.008 s\n",
      "x_t.shape =  torch.Size([320000, 9, 600])\n",
      "x_t.shape[0] =  320000\n",
      "x_t.shape[1] =  9\n",
      "x_t.shape =  torch.Size([320000, 9, 600])\n",
      "Loading data...\n"
     ]
    },
    {
     "name": "stdout",
     "output_type": "stream",
     "text": [
      "pocaMx.shape =  (20000,)\n",
      "nEvts =  20000\n",
      "len(pocaMx[0]) =  211\n",
      "len(pocaMx[1]) =  21\n",
      "len(pocaMx[2]) =  20\n",
      "len(pocaMx[3]) =  198\n",
      "len(pocaMx[4]) =  233\n",
      "majorAxis.shape =  (20000, 3)\n",
      "minorAxis_1.shape =  (20000, 3)\n",
      "minorAxis_2.shape =  (20000, 3)\n",
      "have entered six_ellipsoid_parameters\n",
      "  \n",
      " \n",
      "  nEvts =  20000\n",
      " iEvt, nTrks =  0 211\n",
      " iEvt, nTrks =  1 21\n",
      " iEvt, nTrks =  2 20\n",
      " iEvt, nTrks =  3 198\n",
      " iEvt, nTrks =  4 233\n",
      " iEvt, nTrks =  5 85\n",
      " iEvt, nTrks =  6 223\n",
      " iEvt, nTrks =  7 425\n",
      " iEvt, nTrks =  8 252\n",
      " iEvt, nTrks =  9 169\n",
      "A.shape =  (20000,)\n",
      "majorAxis[iTrk][0][0] =  -0.00023452607\n",
      "majorAxis[iTrk][1][0] =  -0.00047206535\n",
      "majorAxis[iTrk][2][0] =  0.096502915\n",
      "minorAxis_1[iTrk][0][0] =  -15.822749\n",
      "minorAxis_1[iTrk][1][0] =  7.8608756\n",
      "minorAxis_1[iTrk][2][0] =  -2.6228399e-08\n",
      "minorAxis_2[iTrk][0][0] =  7.860759\n",
      "minorAxis_2[iTrk][1][0] =  15.822513\n",
      "minorAxis_2[iTrk][2][0] =  0.096502915\n",
      "  \n",
      "majorAxis[iTrk][0][0] =  -0.37655562\n",
      "majorAxis[iTrk][1][0] =  0.2768704\n",
      "majorAxis[iTrk][2][0] =  2.8546858\n",
      "minorAxis_1[iTrk][0][0] =  -10.466048\n",
      "minorAxis_1[iTrk][1][0] =  -14.234274\n",
      "minorAxis_1[iTrk][2][0] =  2.2974699e-11\n",
      "minorAxis_2[iTrk][0][0] =  -14.04724\n",
      "minorAxis_2[iTrk][1][0] =  10.328527\n",
      "minorAxis_2[iTrk][2][0] =  -2.8546853\n",
      "  \n",
      "majorAxis[iTrk][0][0] =  -0.024279848\n",
      "majorAxis[iTrk][1][0] =  0.0019689242\n",
      "majorAxis[iTrk][2][0] =  0.65580803\n",
      "minorAxis_1[iTrk][0][0] =  -1.4280497\n",
      "minorAxis_1[iTrk][1][0] =  -17.610037\n",
      "minorAxis_1[iTrk][2][0] =  -6.123401e-10\n",
      "minorAxis_2[iTrk][0][0] =  -17.597902\n",
      "minorAxis_2[iTrk][1][0] =  1.4270656\n",
      "minorAxis_2[iTrk][2][0] =  -0.6558081\n",
      "  \n",
      "majorAxis[iTrk][0][0] =  -0.007825993\n",
      "majorAxis[iTrk][1][0] =  0.004052097\n",
      "majorAxis[iTrk][2][0] =  0.3945435\n",
      "minorAxis_1[iTrk][0][0] =  8.123606\n",
      "minorAxis_1[iTrk][1][0] =  15.689478\n",
      "minorAxis_1[iTrk][2][0] =  -2.4940747e-10\n",
      "minorAxis_2[iTrk][0][0] =  15.685566\n",
      "minorAxis_2[iTrk][1][0] =  -8.12158\n",
      "minorAxis_2[iTrk][2][0] =  0.3945435\n",
      "  \n",
      "majorAxis[iTrk][0][0] =  0.0046102717\n",
      "majorAxis[iTrk][1][0] =  -0.0016007021\n",
      "majorAxis[iTrk][2][0] =  0.29361814\n",
      "minorAxis_1[iTrk][0][0] =  -5.794979\n",
      "minorAxis_1[iTrk][1][0] =  -16.690445\n",
      "minorAxis_1[iTrk][2][0] =  2.4897104e-09\n",
      "minorAxis_2[iTrk][0][0] =  -16.688139\n",
      "minorAxis_2[iTrk][1][0] =  5.794179\n",
      "minorAxis_2[iTrk][2][0] =  0.2936181\n",
      "  \n",
      "majorAxis[iTrk][0][0] =  -0.00020041714\n",
      "majorAxis[iTrk][1][0] =  0.00010468164\n",
      "majorAxis[iTrk][2][0] =  0.06320469\n",
      "minorAxis_1[iTrk][0][0] =  8.179679\n",
      "minorAxis_1[iTrk][1][0] =  15.660318\n",
      "minorAxis_1[iTrk][2][0] =  7.40176e-08\n",
      "minorAxis_2[iTrk][0][0] =  15.660218\n",
      "minorAxis_2[iTrk][1][0] =  -8.179626\n",
      "minorAxis_2[iTrk][2][0] =  0.06320469\n",
      "  \n",
      "majorAxis[iTrk][0][0] =  -0.00020603223\n",
      "majorAxis[iTrk][1][0] =  -0.0005662605\n",
      "majorAxis[iTrk][2][0] =  0.10317981\n",
      "minorAxis_1[iTrk][0][0] =  -16.603\n",
      "minorAxis_1[iTrk][1][0] =  6.040953\n",
      "minorAxis_1[iTrk][2][0] =  4.5812504e-07\n",
      "minorAxis_2[iTrk][0][0] =  6.0408506\n",
      "minorAxis_2[iTrk][1][0] =  16.602718\n",
      "minorAxis_2[iTrk][2][0] =  0.10317982\n",
      "  \n",
      "majorAxis[iTrk][0][0] =  -0.00040561036\n",
      "majorAxis[iTrk][1][0] =  0.00014461782\n",
      "majorAxis[iTrk][2][0] =  0.0872241\n",
      "minorAxis_1[iTrk][0][0] =  -5.933496\n",
      "minorAxis_1[iTrk][1][0] =  -16.641706\n",
      "minorAxis_1[iTrk][2][0] =  1.0720762e-08\n",
      "minorAxis_2[iTrk][0][0] =  -16.641502\n",
      "minorAxis_2[iTrk][1][0] =  5.9334235\n",
      "minorAxis_2[iTrk][2][0] =  -0.0872241\n",
      "  \n",
      "majorAxis[iTrk][0][0] =  0.00038461428\n",
      "majorAxis[iTrk][1][0] =  -3.4232737e-05\n",
      "majorAxis[iTrk][2][0] =  0.08259597\n",
      "minorAxis_1[iTrk][0][0] =  -1.5663412\n",
      "minorAxis_1[iTrk][1][0] =  -17.598276\n",
      "minorAxis_1[iTrk][2][0] =  3.2106848e-07\n",
      "minorAxis_2[iTrk][0][0] =  -17.598082\n",
      "minorAxis_2[iTrk][1][0] =  1.5663238\n",
      "minorAxis_2[iTrk][2][0] =  0.08259596\n",
      "  \n",
      "majorAxis[iTrk][0][0] =  -0.022277953\n",
      "majorAxis[iTrk][1][0] =  -0.0046837274\n",
      "majorAxis[iTrk][2][0] =  0.63399464\n",
      "minorAxis_1[iTrk][0][0] =  -3.6350286\n",
      "minorAxis_1[iTrk][1][0] =  17.289862\n",
      "minorAxis_1[iTrk][2][0] =  9.566169e-10\n",
      "minorAxis_2[iTrk][0][0] =  17.278727\n",
      "minorAxis_2[iTrk][1][0] =  3.6326876\n",
      "minorAxis_2[iTrk][2][0] =  0.6339946\n",
      "  \n",
      "len(X) =  20000\n",
      "len(Xlist) =  1\n",
      "Loaded dataAA/20K_POCA_kernel_evts_200926.h5 in 36.02 s\n",
      "outer loop X.shape =  (20000, 9, 600)\n",
      "Constructing 10000 event dataset took 0.05271 s\n",
      "x_t.shape =  torch.Size([10000, 9, 600])\n",
      "x_t.shape[0] =  10000\n",
      "x_t.shape[1] =  9\n",
      "x_t.shape =  torch.Size([10000, 9, 600])\n"
     ]
    }
   ],
   "source": [
    "\n",
    "## Training dataset. You can put as many files here as desired.\n",
    "\n",
    "##train_loader = collect_t2kde_data('/share/lazy/pv-finder/20k_evts_for_KDE_learning_200716.h5',\n",
    "train_loader = collect_t2kde_data('/share/lazy/will/data/June30_2020_80k_1.h5', \n",
    "                                    '/share/lazy/will/data/June30_2020_80k_2.h5',\n",
    "                                    '/share/lazy/will/data/June30_2020_80k_3.h5',\n",
    "                                    '/share/lazy/will/data/June30_2020_80k_4.h5',\n",
    "                             batch_size=batch_size,\n",
    "## if we are using a larger dataset (240K events, with the datasets above, and 11 GB  of GPU memory),\n",
    "## the dataset will overflow the GPU memory; device=device will allow the data to move back\n",
    "## and forth between the CPU and GPU memory. While this allows use of a larger dataset, it slows\n",
    "## down performance by about 10%.  So comment out when not needed.\n",
    "##                          device=device,\n",
    "##                           slice = slice(None,18000)\n",
    "                           )\n",
    "                            \n",
    "# Validation dataset. You can slice to reduce the size.\n",
    "## mds no separate validation set yet,\n",
    "\n",
    "## For iter12, change slice(18000,None) to slice(10000,None)\n",
    "## First, we'll see if this changes the validation cost significantly\n",
    "##  Second, we will see if this reduces the validation cost fluctuations\n",
    "val_loader = collect_t2kde_data('dataAA/20K_POCA_kernel_evts_200926.h5',\n",
    "                            batch_size=batch_size,\n",
    "##                            device=device,\n",
    "                            slice = slice(10000,None)\n",
    "                           )\n"
   ]
  },
  {
   "cell_type": "code",
   "execution_count": 16,
   "metadata": {
    "scrolled": false
   },
   "outputs": [
    {
     "data": {
      "application/javascript": [
       "/* Put everything inside the global mpl namespace */\n",
       "window.mpl = {};\n",
       "\n",
       "\n",
       "mpl.get_websocket_type = function() {\n",
       "    if (typeof(WebSocket) !== 'undefined') {\n",
       "        return WebSocket;\n",
       "    } else if (typeof(MozWebSocket) !== 'undefined') {\n",
       "        return MozWebSocket;\n",
       "    } else {\n",
       "        alert('Your browser does not have WebSocket support. ' +\n",
       "              'Please try Chrome, Safari or Firefox ≥ 6. ' +\n",
       "              'Firefox 4 and 5 are also supported but you ' +\n",
       "              'have to enable WebSockets in about:config.');\n",
       "    };\n",
       "}\n",
       "\n",
       "mpl.figure = function(figure_id, websocket, ondownload, parent_element) {\n",
       "    this.id = figure_id;\n",
       "\n",
       "    this.ws = websocket;\n",
       "\n",
       "    this.supports_binary = (this.ws.binaryType != undefined);\n",
       "\n",
       "    if (!this.supports_binary) {\n",
       "        var warnings = document.getElementById(\"mpl-warnings\");\n",
       "        if (warnings) {\n",
       "            warnings.style.display = 'block';\n",
       "            warnings.textContent = (\n",
       "                \"This browser does not support binary websocket messages. \" +\n",
       "                    \"Performance may be slow.\");\n",
       "        }\n",
       "    }\n",
       "\n",
       "    this.imageObj = new Image();\n",
       "\n",
       "    this.context = undefined;\n",
       "    this.message = undefined;\n",
       "    this.canvas = undefined;\n",
       "    this.rubberband_canvas = undefined;\n",
       "    this.rubberband_context = undefined;\n",
       "    this.format_dropdown = undefined;\n",
       "\n",
       "    this.image_mode = 'full';\n",
       "\n",
       "    this.root = $('<div/>');\n",
       "    this._root_extra_style(this.root)\n",
       "    this.root.attr('style', 'display: inline-block');\n",
       "\n",
       "    $(parent_element).append(this.root);\n",
       "\n",
       "    this._init_header(this);\n",
       "    this._init_canvas(this);\n",
       "    this._init_toolbar(this);\n",
       "\n",
       "    var fig = this;\n",
       "\n",
       "    this.waiting = false;\n",
       "\n",
       "    this.ws.onopen =  function () {\n",
       "            fig.send_message(\"supports_binary\", {value: fig.supports_binary});\n",
       "            fig.send_message(\"send_image_mode\", {});\n",
       "            if (mpl.ratio != 1) {\n",
       "                fig.send_message(\"set_dpi_ratio\", {'dpi_ratio': mpl.ratio});\n",
       "            }\n",
       "            fig.send_message(\"refresh\", {});\n",
       "        }\n",
       "\n",
       "    this.imageObj.onload = function() {\n",
       "            if (fig.image_mode == 'full') {\n",
       "                // Full images could contain transparency (where diff images\n",
       "                // almost always do), so we need to clear the canvas so that\n",
       "                // there is no ghosting.\n",
       "                fig.context.clearRect(0, 0, fig.canvas.width, fig.canvas.height);\n",
       "            }\n",
       "            fig.context.drawImage(fig.imageObj, 0, 0);\n",
       "        };\n",
       "\n",
       "    this.imageObj.onunload = function() {\n",
       "        fig.ws.close();\n",
       "    }\n",
       "\n",
       "    this.ws.onmessage = this._make_on_message_function(this);\n",
       "\n",
       "    this.ondownload = ondownload;\n",
       "}\n",
       "\n",
       "mpl.figure.prototype._init_header = function() {\n",
       "    var titlebar = $(\n",
       "        '<div class=\"ui-dialog-titlebar ui-widget-header ui-corner-all ' +\n",
       "        'ui-helper-clearfix\"/>');\n",
       "    var titletext = $(\n",
       "        '<div class=\"ui-dialog-title\" style=\"width: 100%; ' +\n",
       "        'text-align: center; padding: 3px;\"/>');\n",
       "    titlebar.append(titletext)\n",
       "    this.root.append(titlebar);\n",
       "    this.header = titletext[0];\n",
       "}\n",
       "\n",
       "\n",
       "\n",
       "mpl.figure.prototype._canvas_extra_style = function(canvas_div) {\n",
       "\n",
       "}\n",
       "\n",
       "\n",
       "mpl.figure.prototype._root_extra_style = function(canvas_div) {\n",
       "\n",
       "}\n",
       "\n",
       "mpl.figure.prototype._init_canvas = function() {\n",
       "    var fig = this;\n",
       "\n",
       "    var canvas_div = $('<div/>');\n",
       "\n",
       "    canvas_div.attr('style', 'position: relative; clear: both; outline: 0');\n",
       "\n",
       "    function canvas_keyboard_event(event) {\n",
       "        return fig.key_event(event, event['data']);\n",
       "    }\n",
       "\n",
       "    canvas_div.keydown('key_press', canvas_keyboard_event);\n",
       "    canvas_div.keyup('key_release', canvas_keyboard_event);\n",
       "    this.canvas_div = canvas_div\n",
       "    this._canvas_extra_style(canvas_div)\n",
       "    this.root.append(canvas_div);\n",
       "\n",
       "    var canvas = $('<canvas/>');\n",
       "    canvas.addClass('mpl-canvas');\n",
       "    canvas.attr('style', \"left: 0; top: 0; z-index: 0; outline: 0\")\n",
       "\n",
       "    this.canvas = canvas[0];\n",
       "    this.context = canvas[0].getContext(\"2d\");\n",
       "\n",
       "    var backingStore = this.context.backingStorePixelRatio ||\n",
       "\tthis.context.webkitBackingStorePixelRatio ||\n",
       "\tthis.context.mozBackingStorePixelRatio ||\n",
       "\tthis.context.msBackingStorePixelRatio ||\n",
       "\tthis.context.oBackingStorePixelRatio ||\n",
       "\tthis.context.backingStorePixelRatio || 1;\n",
       "\n",
       "    mpl.ratio = (window.devicePixelRatio || 1) / backingStore;\n",
       "\n",
       "    var rubberband = $('<canvas/>');\n",
       "    rubberband.attr('style', \"position: absolute; left: 0; top: 0; z-index: 1;\")\n",
       "\n",
       "    var pass_mouse_events = true;\n",
       "\n",
       "    canvas_div.resizable({\n",
       "        start: function(event, ui) {\n",
       "            pass_mouse_events = false;\n",
       "        },\n",
       "        resize: function(event, ui) {\n",
       "            fig.request_resize(ui.size.width, ui.size.height);\n",
       "        },\n",
       "        stop: function(event, ui) {\n",
       "            pass_mouse_events = true;\n",
       "            fig.request_resize(ui.size.width, ui.size.height);\n",
       "        },\n",
       "    });\n",
       "\n",
       "    function mouse_event_fn(event) {\n",
       "        if (pass_mouse_events)\n",
       "            return fig.mouse_event(event, event['data']);\n",
       "    }\n",
       "\n",
       "    rubberband.mousedown('button_press', mouse_event_fn);\n",
       "    rubberband.mouseup('button_release', mouse_event_fn);\n",
       "    // Throttle sequential mouse events to 1 every 20ms.\n",
       "    rubberband.mousemove('motion_notify', mouse_event_fn);\n",
       "\n",
       "    rubberband.mouseenter('figure_enter', mouse_event_fn);\n",
       "    rubberband.mouseleave('figure_leave', mouse_event_fn);\n",
       "\n",
       "    canvas_div.on(\"wheel\", function (event) {\n",
       "        event = event.originalEvent;\n",
       "        event['data'] = 'scroll'\n",
       "        if (event.deltaY < 0) {\n",
       "            event.step = 1;\n",
       "        } else {\n",
       "            event.step = -1;\n",
       "        }\n",
       "        mouse_event_fn(event);\n",
       "    });\n",
       "\n",
       "    canvas_div.append(canvas);\n",
       "    canvas_div.append(rubberband);\n",
       "\n",
       "    this.rubberband = rubberband;\n",
       "    this.rubberband_canvas = rubberband[0];\n",
       "    this.rubberband_context = rubberband[0].getContext(\"2d\");\n",
       "    this.rubberband_context.strokeStyle = \"#000000\";\n",
       "\n",
       "    this._resize_canvas = function(width, height) {\n",
       "        // Keep the size of the canvas, canvas container, and rubber band\n",
       "        // canvas in synch.\n",
       "        canvas_div.css('width', width)\n",
       "        canvas_div.css('height', height)\n",
       "\n",
       "        canvas.attr('width', width * mpl.ratio);\n",
       "        canvas.attr('height', height * mpl.ratio);\n",
       "        canvas.attr('style', 'width: ' + width + 'px; height: ' + height + 'px;');\n",
       "\n",
       "        rubberband.attr('width', width);\n",
       "        rubberband.attr('height', height);\n",
       "    }\n",
       "\n",
       "    // Set the figure to an initial 600x600px, this will subsequently be updated\n",
       "    // upon first draw.\n",
       "    this._resize_canvas(600, 600);\n",
       "\n",
       "    // Disable right mouse context menu.\n",
       "    $(this.rubberband_canvas).bind(\"contextmenu\",function(e){\n",
       "        return false;\n",
       "    });\n",
       "\n",
       "    function set_focus () {\n",
       "        canvas.focus();\n",
       "        canvas_div.focus();\n",
       "    }\n",
       "\n",
       "    window.setTimeout(set_focus, 100);\n",
       "}\n",
       "\n",
       "mpl.figure.prototype._init_toolbar = function() {\n",
       "    var fig = this;\n",
       "\n",
       "    var nav_element = $('<div/>');\n",
       "    nav_element.attr('style', 'width: 100%');\n",
       "    this.root.append(nav_element);\n",
       "\n",
       "    // Define a callback function for later on.\n",
       "    function toolbar_event(event) {\n",
       "        return fig.toolbar_button_onclick(event['data']);\n",
       "    }\n",
       "    function toolbar_mouse_event(event) {\n",
       "        return fig.toolbar_button_onmouseover(event['data']);\n",
       "    }\n",
       "\n",
       "    for(var toolbar_ind in mpl.toolbar_items) {\n",
       "        var name = mpl.toolbar_items[toolbar_ind][0];\n",
       "        var tooltip = mpl.toolbar_items[toolbar_ind][1];\n",
       "        var image = mpl.toolbar_items[toolbar_ind][2];\n",
       "        var method_name = mpl.toolbar_items[toolbar_ind][3];\n",
       "\n",
       "        if (!name) {\n",
       "            // put a spacer in here.\n",
       "            continue;\n",
       "        }\n",
       "        var button = $('<button/>');\n",
       "        button.addClass('ui-button ui-widget ui-state-default ui-corner-all ' +\n",
       "                        'ui-button-icon-only');\n",
       "        button.attr('role', 'button');\n",
       "        button.attr('aria-disabled', 'false');\n",
       "        button.click(method_name, toolbar_event);\n",
       "        button.mouseover(tooltip, toolbar_mouse_event);\n",
       "\n",
       "        var icon_img = $('<span/>');\n",
       "        icon_img.addClass('ui-button-icon-primary ui-icon');\n",
       "        icon_img.addClass(image);\n",
       "        icon_img.addClass('ui-corner-all');\n",
       "\n",
       "        var tooltip_span = $('<span/>');\n",
       "        tooltip_span.addClass('ui-button-text');\n",
       "        tooltip_span.html(tooltip);\n",
       "\n",
       "        button.append(icon_img);\n",
       "        button.append(tooltip_span);\n",
       "\n",
       "        nav_element.append(button);\n",
       "    }\n",
       "\n",
       "    var fmt_picker_span = $('<span/>');\n",
       "\n",
       "    var fmt_picker = $('<select/>');\n",
       "    fmt_picker.addClass('mpl-toolbar-option ui-widget ui-widget-content');\n",
       "    fmt_picker_span.append(fmt_picker);\n",
       "    nav_element.append(fmt_picker_span);\n",
       "    this.format_dropdown = fmt_picker[0];\n",
       "\n",
       "    for (var ind in mpl.extensions) {\n",
       "        var fmt = mpl.extensions[ind];\n",
       "        var option = $(\n",
       "            '<option/>', {selected: fmt === mpl.default_extension}).html(fmt);\n",
       "        fmt_picker.append(option);\n",
       "    }\n",
       "\n",
       "    // Add hover states to the ui-buttons\n",
       "    $( \".ui-button\" ).hover(\n",
       "        function() { $(this).addClass(\"ui-state-hover\");},\n",
       "        function() { $(this).removeClass(\"ui-state-hover\");}\n",
       "    );\n",
       "\n",
       "    var status_bar = $('<span class=\"mpl-message\"/>');\n",
       "    nav_element.append(status_bar);\n",
       "    this.message = status_bar[0];\n",
       "}\n",
       "\n",
       "mpl.figure.prototype.request_resize = function(x_pixels, y_pixels) {\n",
       "    // Request matplotlib to resize the figure. Matplotlib will then trigger a resize in the client,\n",
       "    // which will in turn request a refresh of the image.\n",
       "    this.send_message('resize', {'width': x_pixels, 'height': y_pixels});\n",
       "}\n",
       "\n",
       "mpl.figure.prototype.send_message = function(type, properties) {\n",
       "    properties['type'] = type;\n",
       "    properties['figure_id'] = this.id;\n",
       "    this.ws.send(JSON.stringify(properties));\n",
       "}\n",
       "\n",
       "mpl.figure.prototype.send_draw_message = function() {\n",
       "    if (!this.waiting) {\n",
       "        this.waiting = true;\n",
       "        this.ws.send(JSON.stringify({type: \"draw\", figure_id: this.id}));\n",
       "    }\n",
       "}\n",
       "\n",
       "\n",
       "mpl.figure.prototype.handle_save = function(fig, msg) {\n",
       "    var format_dropdown = fig.format_dropdown;\n",
       "    var format = format_dropdown.options[format_dropdown.selectedIndex].value;\n",
       "    fig.ondownload(fig, format);\n",
       "}\n",
       "\n",
       "\n",
       "mpl.figure.prototype.handle_resize = function(fig, msg) {\n",
       "    var size = msg['size'];\n",
       "    if (size[0] != fig.canvas.width || size[1] != fig.canvas.height) {\n",
       "        fig._resize_canvas(size[0], size[1]);\n",
       "        fig.send_message(\"refresh\", {});\n",
       "    };\n",
       "}\n",
       "\n",
       "mpl.figure.prototype.handle_rubberband = function(fig, msg) {\n",
       "    var x0 = msg['x0'] / mpl.ratio;\n",
       "    var y0 = (fig.canvas.height - msg['y0']) / mpl.ratio;\n",
       "    var x1 = msg['x1'] / mpl.ratio;\n",
       "    var y1 = (fig.canvas.height - msg['y1']) / mpl.ratio;\n",
       "    x0 = Math.floor(x0) + 0.5;\n",
       "    y0 = Math.floor(y0) + 0.5;\n",
       "    x1 = Math.floor(x1) + 0.5;\n",
       "    y1 = Math.floor(y1) + 0.5;\n",
       "    var min_x = Math.min(x0, x1);\n",
       "    var min_y = Math.min(y0, y1);\n",
       "    var width = Math.abs(x1 - x0);\n",
       "    var height = Math.abs(y1 - y0);\n",
       "\n",
       "    fig.rubberband_context.clearRect(\n",
       "        0, 0, fig.canvas.width / mpl.ratio, fig.canvas.height / mpl.ratio);\n",
       "\n",
       "    fig.rubberband_context.strokeRect(min_x, min_y, width, height);\n",
       "}\n",
       "\n",
       "mpl.figure.prototype.handle_figure_label = function(fig, msg) {\n",
       "    // Updates the figure title.\n",
       "    fig.header.textContent = msg['label'];\n",
       "}\n",
       "\n",
       "mpl.figure.prototype.handle_cursor = function(fig, msg) {\n",
       "    var cursor = msg['cursor'];\n",
       "    switch(cursor)\n",
       "    {\n",
       "    case 0:\n",
       "        cursor = 'pointer';\n",
       "        break;\n",
       "    case 1:\n",
       "        cursor = 'default';\n",
       "        break;\n",
       "    case 2:\n",
       "        cursor = 'crosshair';\n",
       "        break;\n",
       "    case 3:\n",
       "        cursor = 'move';\n",
       "        break;\n",
       "    }\n",
       "    fig.rubberband_canvas.style.cursor = cursor;\n",
       "}\n",
       "\n",
       "mpl.figure.prototype.handle_message = function(fig, msg) {\n",
       "    fig.message.textContent = msg['message'];\n",
       "}\n",
       "\n",
       "mpl.figure.prototype.handle_draw = function(fig, msg) {\n",
       "    // Request the server to send over a new figure.\n",
       "    fig.send_draw_message();\n",
       "}\n",
       "\n",
       "mpl.figure.prototype.handle_image_mode = function(fig, msg) {\n",
       "    fig.image_mode = msg['mode'];\n",
       "}\n",
       "\n",
       "mpl.figure.prototype.updated_canvas_event = function() {\n",
       "    // Called whenever the canvas gets updated.\n",
       "    this.send_message(\"ack\", {});\n",
       "}\n",
       "\n",
       "// A function to construct a web socket function for onmessage handling.\n",
       "// Called in the figure constructor.\n",
       "mpl.figure.prototype._make_on_message_function = function(fig) {\n",
       "    return function socket_on_message(evt) {\n",
       "        if (evt.data instanceof Blob) {\n",
       "            /* FIXME: We get \"Resource interpreted as Image but\n",
       "             * transferred with MIME type text/plain:\" errors on\n",
       "             * Chrome.  But how to set the MIME type?  It doesn't seem\n",
       "             * to be part of the websocket stream */\n",
       "            evt.data.type = \"image/png\";\n",
       "\n",
       "            /* Free the memory for the previous frames */\n",
       "            if (fig.imageObj.src) {\n",
       "                (window.URL || window.webkitURL).revokeObjectURL(\n",
       "                    fig.imageObj.src);\n",
       "            }\n",
       "\n",
       "            fig.imageObj.src = (window.URL || window.webkitURL).createObjectURL(\n",
       "                evt.data);\n",
       "            fig.updated_canvas_event();\n",
       "            fig.waiting = false;\n",
       "            return;\n",
       "        }\n",
       "        else if (typeof evt.data === 'string' && evt.data.slice(0, 21) == \"data:image/png;base64\") {\n",
       "            fig.imageObj.src = evt.data;\n",
       "            fig.updated_canvas_event();\n",
       "            fig.waiting = false;\n",
       "            return;\n",
       "        }\n",
       "\n",
       "        var msg = JSON.parse(evt.data);\n",
       "        var msg_type = msg['type'];\n",
       "\n",
       "        // Call the  \"handle_{type}\" callback, which takes\n",
       "        // the figure and JSON message as its only arguments.\n",
       "        try {\n",
       "            var callback = fig[\"handle_\" + msg_type];\n",
       "        } catch (e) {\n",
       "            console.log(\"No handler for the '\" + msg_type + \"' message type: \", msg);\n",
       "            return;\n",
       "        }\n",
       "\n",
       "        if (callback) {\n",
       "            try {\n",
       "                // console.log(\"Handling '\" + msg_type + \"' message: \", msg);\n",
       "                callback(fig, msg);\n",
       "            } catch (e) {\n",
       "                console.log(\"Exception inside the 'handler_\" + msg_type + \"' callback:\", e, e.stack, msg);\n",
       "            }\n",
       "        }\n",
       "    };\n",
       "}\n",
       "\n",
       "// from http://stackoverflow.com/questions/1114465/getting-mouse-location-in-canvas\n",
       "mpl.findpos = function(e) {\n",
       "    //this section is from http://www.quirksmode.org/js/events_properties.html\n",
       "    var targ;\n",
       "    if (!e)\n",
       "        e = window.event;\n",
       "    if (e.target)\n",
       "        targ = e.target;\n",
       "    else if (e.srcElement)\n",
       "        targ = e.srcElement;\n",
       "    if (targ.nodeType == 3) // defeat Safari bug\n",
       "        targ = targ.parentNode;\n",
       "\n",
       "    // jQuery normalizes the pageX and pageY\n",
       "    // pageX,Y are the mouse positions relative to the document\n",
       "    // offset() returns the position of the element relative to the document\n",
       "    var x = e.pageX - $(targ).offset().left;\n",
       "    var y = e.pageY - $(targ).offset().top;\n",
       "\n",
       "    return {\"x\": x, \"y\": y};\n",
       "};\n",
       "\n",
       "/*\n",
       " * return a copy of an object with only non-object keys\n",
       " * we need this to avoid circular references\n",
       " * http://stackoverflow.com/a/24161582/3208463\n",
       " */\n",
       "function simpleKeys (original) {\n",
       "  return Object.keys(original).reduce(function (obj, key) {\n",
       "    if (typeof original[key] !== 'object')\n",
       "        obj[key] = original[key]\n",
       "    return obj;\n",
       "  }, {});\n",
       "}\n",
       "\n",
       "mpl.figure.prototype.mouse_event = function(event, name) {\n",
       "    var canvas_pos = mpl.findpos(event)\n",
       "\n",
       "    if (name === 'button_press')\n",
       "    {\n",
       "        this.canvas.focus();\n",
       "        this.canvas_div.focus();\n",
       "    }\n",
       "\n",
       "    var x = canvas_pos.x * mpl.ratio;\n",
       "    var y = canvas_pos.y * mpl.ratio;\n",
       "\n",
       "    this.send_message(name, {x: x, y: y, button: event.button,\n",
       "                             step: event.step,\n",
       "                             guiEvent: simpleKeys(event)});\n",
       "\n",
       "    /* This prevents the web browser from automatically changing to\n",
       "     * the text insertion cursor when the button is pressed.  We want\n",
       "     * to control all of the cursor setting manually through the\n",
       "     * 'cursor' event from matplotlib */\n",
       "    event.preventDefault();\n",
       "    return false;\n",
       "}\n",
       "\n",
       "mpl.figure.prototype._key_event_extra = function(event, name) {\n",
       "    // Handle any extra behaviour associated with a key event\n",
       "}\n",
       "\n",
       "mpl.figure.prototype.key_event = function(event, name) {\n",
       "\n",
       "    // Prevent repeat events\n",
       "    if (name == 'key_press')\n",
       "    {\n",
       "        if (event.which === this._key)\n",
       "            return;\n",
       "        else\n",
       "            this._key = event.which;\n",
       "    }\n",
       "    if (name == 'key_release')\n",
       "        this._key = null;\n",
       "\n",
       "    var value = '';\n",
       "    if (event.ctrlKey && event.which != 17)\n",
       "        value += \"ctrl+\";\n",
       "    if (event.altKey && event.which != 18)\n",
       "        value += \"alt+\";\n",
       "    if (event.shiftKey && event.which != 16)\n",
       "        value += \"shift+\";\n",
       "\n",
       "    value += 'k';\n",
       "    value += event.which.toString();\n",
       "\n",
       "    this._key_event_extra(event, name);\n",
       "\n",
       "    this.send_message(name, {key: value,\n",
       "                             guiEvent: simpleKeys(event)});\n",
       "    return false;\n",
       "}\n",
       "\n",
       "mpl.figure.prototype.toolbar_button_onclick = function(name) {\n",
       "    if (name == 'download') {\n",
       "        this.handle_save(this, null);\n",
       "    } else {\n",
       "        this.send_message(\"toolbar_button\", {name: name});\n",
       "    }\n",
       "};\n",
       "\n",
       "mpl.figure.prototype.toolbar_button_onmouseover = function(tooltip) {\n",
       "    this.message.textContent = tooltip;\n",
       "};\n",
       "mpl.toolbar_items = [[\"Home\", \"Reset original view\", \"fa fa-home icon-home\", \"home\"], [\"Back\", \"Back to previous view\", \"fa fa-arrow-left icon-arrow-left\", \"back\"], [\"Forward\", \"Forward to next view\", \"fa fa-arrow-right icon-arrow-right\", \"forward\"], [\"\", \"\", \"\", \"\"], [\"Pan\", \"Pan axes with left mouse, zoom with right\", \"fa fa-arrows icon-move\", \"pan\"], [\"Zoom\", \"Zoom to rectangle\", \"fa fa-square-o icon-check-empty\", \"zoom\"], [\"\", \"\", \"\", \"\"], [\"Download\", \"Download plot\", \"fa fa-floppy-o icon-save\", \"download\"]];\n",
       "\n",
       "mpl.extensions = [\"eps\", \"jpeg\", \"pdf\", \"png\", \"ps\", \"raw\", \"svg\", \"tif\"];\n",
       "\n",
       "mpl.default_extension = \"png\";var comm_websocket_adapter = function(comm) {\n",
       "    // Create a \"websocket\"-like object which calls the given IPython comm\n",
       "    // object with the appropriate methods. Currently this is a non binary\n",
       "    // socket, so there is still some room for performance tuning.\n",
       "    var ws = {};\n",
       "\n",
       "    ws.close = function() {\n",
       "        comm.close()\n",
       "    };\n",
       "    ws.send = function(m) {\n",
       "        //console.log('sending', m);\n",
       "        comm.send(m);\n",
       "    };\n",
       "    // Register the callback with on_msg.\n",
       "    comm.on_msg(function(msg) {\n",
       "        //console.log('receiving', msg['content']['data'], msg);\n",
       "        // Pass the mpl event to the overridden (by mpl) onmessage function.\n",
       "        ws.onmessage(msg['content']['data'])\n",
       "    });\n",
       "    return ws;\n",
       "}\n",
       "\n",
       "mpl.mpl_figure_comm = function(comm, msg) {\n",
       "    // This is the function which gets called when the mpl process\n",
       "    // starts-up an IPython Comm through the \"matplotlib\" channel.\n",
       "\n",
       "    var id = msg.content.data.id;\n",
       "    // Get hold of the div created by the display call when the Comm\n",
       "    // socket was opened in Python.\n",
       "    var element = $(\"#\" + id);\n",
       "    var ws_proxy = comm_websocket_adapter(comm)\n",
       "\n",
       "    function ondownload(figure, format) {\n",
       "        window.open(figure.imageObj.src);\n",
       "    }\n",
       "\n",
       "    var fig = new mpl.figure(id, ws_proxy,\n",
       "                           ondownload,\n",
       "                           element.get(0));\n",
       "\n",
       "    // Call onopen now - mpl needs it, as it is assuming we've passed it a real\n",
       "    // web socket which is closed, not our websocket->open comm proxy.\n",
       "    ws_proxy.onopen();\n",
       "\n",
       "    fig.parent_element = element.get(0);\n",
       "    fig.cell_info = mpl.find_output_cell(\"<div id='\" + id + \"'></div>\");\n",
       "    if (!fig.cell_info) {\n",
       "        console.error(\"Failed to find cell for figure\", id, fig);\n",
       "        return;\n",
       "    }\n",
       "\n",
       "    var output_index = fig.cell_info[2]\n",
       "    var cell = fig.cell_info[0];\n",
       "\n",
       "};\n",
       "\n",
       "mpl.figure.prototype.handle_close = function(fig, msg) {\n",
       "    var width = fig.canvas.width/mpl.ratio\n",
       "    fig.root.unbind('remove')\n",
       "\n",
       "    // Update the output cell to use the data from the current canvas.\n",
       "    fig.push_to_output();\n",
       "    var dataURL = fig.canvas.toDataURL();\n",
       "    // Re-enable the keyboard manager in IPython - without this line, in FF,\n",
       "    // the notebook keyboard shortcuts fail.\n",
       "    IPython.keyboard_manager.enable()\n",
       "    $(fig.parent_element).html('<img src=\"' + dataURL + '\" width=\"' + width + '\">');\n",
       "    fig.close_ws(fig, msg);\n",
       "}\n",
       "\n",
       "mpl.figure.prototype.close_ws = function(fig, msg){\n",
       "    fig.send_message('closing', msg);\n",
       "    // fig.ws.close()\n",
       "}\n",
       "\n",
       "mpl.figure.prototype.push_to_output = function(remove_interactive) {\n",
       "    // Turn the data on the canvas into data in the output cell.\n",
       "    var width = this.canvas.width/mpl.ratio\n",
       "    var dataURL = this.canvas.toDataURL();\n",
       "    this.cell_info[1]['text/html'] = '<img src=\"' + dataURL + '\" width=\"' + width + '\">';\n",
       "}\n",
       "\n",
       "mpl.figure.prototype.updated_canvas_event = function() {\n",
       "    // Tell IPython that the notebook contents must change.\n",
       "    IPython.notebook.set_dirty(true);\n",
       "    this.send_message(\"ack\", {});\n",
       "    var fig = this;\n",
       "    // Wait a second, then push the new image to the DOM so\n",
       "    // that it is saved nicely (might be nice to debounce this).\n",
       "    setTimeout(function () { fig.push_to_output() }, 1000);\n",
       "}\n",
       "\n",
       "mpl.figure.prototype._init_toolbar = function() {\n",
       "    var fig = this;\n",
       "\n",
       "    var nav_element = $('<div/>');\n",
       "    nav_element.attr('style', 'width: 100%');\n",
       "    this.root.append(nav_element);\n",
       "\n",
       "    // Define a callback function for later on.\n",
       "    function toolbar_event(event) {\n",
       "        return fig.toolbar_button_onclick(event['data']);\n",
       "    }\n",
       "    function toolbar_mouse_event(event) {\n",
       "        return fig.toolbar_button_onmouseover(event['data']);\n",
       "    }\n",
       "\n",
       "    for(var toolbar_ind in mpl.toolbar_items){\n",
       "        var name = mpl.toolbar_items[toolbar_ind][0];\n",
       "        var tooltip = mpl.toolbar_items[toolbar_ind][1];\n",
       "        var image = mpl.toolbar_items[toolbar_ind][2];\n",
       "        var method_name = mpl.toolbar_items[toolbar_ind][3];\n",
       "\n",
       "        if (!name) { continue; };\n",
       "\n",
       "        var button = $('<button class=\"btn btn-default\" href=\"#\" title=\"' + name + '\"><i class=\"fa ' + image + ' fa-lg\"></i></button>');\n",
       "        button.click(method_name, toolbar_event);\n",
       "        button.mouseover(tooltip, toolbar_mouse_event);\n",
       "        nav_element.append(button);\n",
       "    }\n",
       "\n",
       "    // Add the status bar.\n",
       "    var status_bar = $('<span class=\"mpl-message\" style=\"text-align:right; float: right;\"/>');\n",
       "    nav_element.append(status_bar);\n",
       "    this.message = status_bar[0];\n",
       "\n",
       "    // Add the close button to the window.\n",
       "    var buttongrp = $('<div class=\"btn-group inline pull-right\"></div>');\n",
       "    var button = $('<button class=\"btn btn-mini btn-primary\" href=\"#\" title=\"Stop Interaction\"><i class=\"fa fa-power-off icon-remove icon-large\"></i></button>');\n",
       "    button.click(function (evt) { fig.handle_close(fig, {}); } );\n",
       "    button.mouseover('Stop Interaction', toolbar_mouse_event);\n",
       "    buttongrp.append(button);\n",
       "    var titlebar = this.root.find($('.ui-dialog-titlebar'));\n",
       "    titlebar.prepend(buttongrp);\n",
       "}\n",
       "\n",
       "mpl.figure.prototype._root_extra_style = function(el){\n",
       "    var fig = this\n",
       "    el.on(\"remove\", function(){\n",
       "\tfig.close_ws(fig, {});\n",
       "    });\n",
       "}\n",
       "\n",
       "mpl.figure.prototype._canvas_extra_style = function(el){\n",
       "    // this is important to make the div 'focusable\n",
       "    el.attr('tabindex', 0)\n",
       "    // reach out to IPython and tell the keyboard manager to turn it's self\n",
       "    // off when our div gets focus\n",
       "\n",
       "    // location in version 3\n",
       "    if (IPython.notebook.keyboard_manager) {\n",
       "        IPython.notebook.keyboard_manager.register_events(el);\n",
       "    }\n",
       "    else {\n",
       "        // location in version 2\n",
       "        IPython.keyboard_manager.register_events(el);\n",
       "    }\n",
       "\n",
       "}\n",
       "\n",
       "mpl.figure.prototype._key_event_extra = function(event, name) {\n",
       "    var manager = IPython.notebook.keyboard_manager;\n",
       "    if (!manager)\n",
       "        manager = IPython.keyboard_manager;\n",
       "\n",
       "    // Check for shift+enter\n",
       "    if (event.shiftKey && event.which == 13) {\n",
       "        this.canvas_div.blur();\n",
       "        // select the cell after this one\n",
       "        var index = IPython.notebook.find_cell_index(this.cell_info[0]);\n",
       "        IPython.notebook.select(index + 1);\n",
       "    }\n",
       "}\n",
       "\n",
       "mpl.figure.prototype.handle_save = function(fig, msg) {\n",
       "    fig.ondownload(fig, null);\n",
       "}\n",
       "\n",
       "\n",
       "mpl.find_output_cell = function(html_output) {\n",
       "    // Return the cell and output element which can be found *uniquely* in the notebook.\n",
       "    // Note - this is a bit hacky, but it is done because the \"notebook_saving.Notebook\"\n",
       "    // IPython event is triggered only after the cells have been serialised, which for\n",
       "    // our purposes (turning an active figure into a static one), is too late.\n",
       "    var cells = IPython.notebook.get_cells();\n",
       "    var ncells = cells.length;\n",
       "    for (var i=0; i<ncells; i++) {\n",
       "        var cell = cells[i];\n",
       "        if (cell.cell_type === 'code'){\n",
       "            for (var j=0; j<cell.output_area.outputs.length; j++) {\n",
       "                var data = cell.output_area.outputs[j];\n",
       "                if (data.data) {\n",
       "                    // IPython >= 3 moved mimebundle to data attribute of output\n",
       "                    data = data.data;\n",
       "                }\n",
       "                if (data['text/html'] == html_output) {\n",
       "                    return [cell, data, j];\n",
       "                }\n",
       "            }\n",
       "        }\n",
       "    }\n",
       "}\n",
       "\n",
       "// Register the function which deals with the matplotlib target/channel.\n",
       "// The kernel may be null if the page has been refreshed.\n",
       "if (IPython.notebook.kernel != null) {\n",
       "    IPython.notebook.kernel.comm_manager.register_target('matplotlib', mpl.mpl_figure_comm);\n",
       "}\n"
      ],
      "text/plain": [
       "<IPython.core.display.Javascript object>"
      ]
     },
     "metadata": {},
     "output_type": "display_data"
    },
    {
     "data": {
      "text/html": [
       "<img src=\"data:image/png;base64,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\" width=\"999.75\">"
      ],
      "text/plain": [
       "<IPython.core.display.HTML object>"
      ]
     },
     "metadata": {},
     "output_type": "display_data"
    }
   ],
   "source": [
    "ax, tax, lax, lines = dual_train_plots()\n",
    "fig = ax.figure\n",
    "plt.tight_layout()"
   ]
  },
  {
   "cell_type": "code",
   "execution_count": null,
   "metadata": {
    "scrolled": false
   },
   "outputs": [
    {
     "name": "stdout",
     "output_type": "stream",
     "text": [
      "Number of batches: train = 6667, val = 209\n"
     ]
    },
    {
     "data": {
      "application/vnd.jupyter.widget-view+json": {
       "model_id": "cb4093d33e5642f0b844dce690904e40",
       "version_major": 2,
       "version_minor": 0
      },
      "text/plain": [
       "HBox(children=(FloatProgress(value=0.0, description='Epochs', layout=Layout(flex='2'), max=150.0, style=Progre…"
      ]
     },
     "metadata": {},
     "output_type": "display_data"
    },
    {
     "name": "stdout",
     "output_type": "stream",
     "text": [
      "Number of batches: train = 6667, val = 209\n"
     ]
    },
    {
     "data": {
      "application/vnd.jupyter.widget-view+json": {
       "model_id": "",
       "version_major": 2,
       "version_minor": 0
      },
      "text/plain": [
       "HBox(children=(FloatProgress(value=0.0, description='Training', layout=Layout(flex='2'), max=6667.0, style=Pro…"
      ]
     },
     "metadata": {},
     "output_type": "display_data"
    },
    {
     "name": "stdout",
     "output_type": "stream",
     "text": [
      "Epoch 0: train=0.696157, val=0.483212, took 1311.3 s\n"
     ]
    },
    {
     "data": {
      "application/vnd.jupyter.widget-view+json": {
       "model_id": "",
       "version_major": 2,
       "version_minor": 0
      },
      "text/plain": [
       "HBox(children=(FloatProgress(value=0.0, description='Training', layout=Layout(flex='2'), max=6667.0, style=Pro…"
      ]
     },
     "metadata": {},
     "output_type": "display_data"
    },
    {
     "name": "stdout",
     "output_type": "stream",
     "text": [
      "Epoch 1: train=0.697624, val=0.46897, took 1309.2 s\n"
     ]
    },
    {
     "data": {
      "application/vnd.jupyter.widget-view+json": {
       "model_id": "",
       "version_major": 2,
       "version_minor": 0
      },
      "text/plain": [
       "HBox(children=(FloatProgress(value=0.0, description='Training', layout=Layout(flex='2'), max=6667.0, style=Pro…"
      ]
     },
     "metadata": {},
     "output_type": "display_data"
    },
    {
     "name": "stdout",
     "output_type": "stream",
     "text": [
      "Epoch 2: train=0.695586, val=0.492279, took 1310.4 s\n"
     ]
    },
    {
     "data": {
      "application/vnd.jupyter.widget-view+json": {
       "model_id": "",
       "version_major": 2,
       "version_minor": 0
      },
      "text/plain": [
       "HBox(children=(FloatProgress(value=0.0, description='Training', layout=Layout(flex='2'), max=6667.0, style=Pro…"
      ]
     },
     "metadata": {},
     "output_type": "display_data"
    },
    {
     "name": "stdout",
     "output_type": "stream",
     "text": [
      "Epoch 3: train=0.69652, val=0.490645, took 1307.5 s\n"
     ]
    },
    {
     "data": {
      "application/vnd.jupyter.widget-view+json": {
       "model_id": "",
       "version_major": 2,
       "version_minor": 0
      },
      "text/plain": [
       "HBox(children=(FloatProgress(value=0.0, description='Training', layout=Layout(flex='2'), max=6667.0, style=Pro…"
      ]
     },
     "metadata": {},
     "output_type": "display_data"
    },
    {
     "name": "stdout",
     "output_type": "stream",
     "text": [
      "Epoch 4: train=0.694987, val=0.474281, took 1310.0 s\n"
     ]
    },
    {
     "data": {
      "application/vnd.jupyter.widget-view+json": {
       "model_id": "",
       "version_major": 2,
       "version_minor": 0
      },
      "text/plain": [
       "HBox(children=(FloatProgress(value=0.0, description='Training', layout=Layout(flex='2'), max=6667.0, style=Pro…"
      ]
     },
     "metadata": {},
     "output_type": "display_data"
    },
    {
     "name": "stdout",
     "output_type": "stream",
     "text": [
      "Epoch 5: train=0.69674, val=0.493202, took 1306.9 s\n"
     ]
    },
    {
     "data": {
      "application/vnd.jupyter.widget-view+json": {
       "model_id": "",
       "version_major": 2,
       "version_minor": 0
      },
      "text/plain": [
       "HBox(children=(FloatProgress(value=0.0, description='Training', layout=Layout(flex='2'), max=6667.0, style=Pro…"
      ]
     },
     "metadata": {},
     "output_type": "display_data"
    },
    {
     "name": "stdout",
     "output_type": "stream",
     "text": [
      "Epoch 6: train=0.693679, val=0.481442, took 1305.7 s\n"
     ]
    },
    {
     "data": {
      "application/vnd.jupyter.widget-view+json": {
       "model_id": "",
       "version_major": 2,
       "version_minor": 0
      },
      "text/plain": [
       "HBox(children=(FloatProgress(value=0.0, description='Training', layout=Layout(flex='2'), max=6667.0, style=Pro…"
      ]
     },
     "metadata": {},
     "output_type": "display_data"
    },
    {
     "name": "stdout",
     "output_type": "stream",
     "text": [
      "Epoch 7: train=0.694225, val=0.505918, took 1297.2 s\n"
     ]
    },
    {
     "data": {
      "application/vnd.jupyter.widget-view+json": {
       "model_id": "",
       "version_major": 2,
       "version_minor": 0
      },
      "text/plain": [
       "HBox(children=(FloatProgress(value=0.0, description='Training', layout=Layout(flex='2'), max=6667.0, style=Pro…"
      ]
     },
     "metadata": {},
     "output_type": "display_data"
    },
    {
     "name": "stdout",
     "output_type": "stream",
     "text": [
      "Epoch 8: train=0.693578, val=0.516842, took 1307.5 s\n"
     ]
    },
    {
     "data": {
      "application/vnd.jupyter.widget-view+json": {
       "model_id": "",
       "version_major": 2,
       "version_minor": 0
      },
      "text/plain": [
       "HBox(children=(FloatProgress(value=0.0, description='Training', layout=Layout(flex='2'), max=6667.0, style=Pro…"
      ]
     },
     "metadata": {},
     "output_type": "display_data"
    },
    {
     "name": "stdout",
     "output_type": "stream",
     "text": [
      "Epoch 9: train=0.694437, val=0.466217, took 1306.2 s\n"
     ]
    },
    {
     "data": {
      "application/vnd.jupyter.widget-view+json": {
       "model_id": "",
       "version_major": 2,
       "version_minor": 0
      },
      "text/plain": [
       "HBox(children=(FloatProgress(value=0.0, description='Training', layout=Layout(flex='2'), max=6667.0, style=Pro…"
      ]
     },
     "metadata": {},
     "output_type": "display_data"
    },
    {
     "name": "stdout",
     "output_type": "stream",
     "text": [
      "Epoch 10: train=0.693091, val=0.515567, took 1308.3 s\n"
     ]
    },
    {
     "data": {
      "application/vnd.jupyter.widget-view+json": {
       "model_id": "",
       "version_major": 2,
       "version_minor": 0
      },
      "text/plain": [
       "HBox(children=(FloatProgress(value=0.0, description='Training', layout=Layout(flex='2'), max=6667.0, style=Pro…"
      ]
     },
     "metadata": {},
     "output_type": "display_data"
    },
    {
     "name": "stdout",
     "output_type": "stream",
     "text": [
      "Epoch 11: train=0.693523, val=0.47344, took 1231.9 s\n"
     ]
    },
    {
     "data": {
      "application/vnd.jupyter.widget-view+json": {
       "model_id": "",
       "version_major": 2,
       "version_minor": 0
      },
      "text/plain": [
       "HBox(children=(FloatProgress(value=0.0, description='Training', layout=Layout(flex='2'), max=6667.0, style=Pro…"
      ]
     },
     "metadata": {},
     "output_type": "display_data"
    },
    {
     "name": "stdout",
     "output_type": "stream",
     "text": [
      "Epoch 12: train=0.692156, val=0.474493, took 599.05 s\n"
     ]
    },
    {
     "data": {
      "application/vnd.jupyter.widget-view+json": {
       "model_id": "",
       "version_major": 2,
       "version_minor": 0
      },
      "text/plain": [
       "HBox(children=(FloatProgress(value=0.0, description='Training', layout=Layout(flex='2'), max=6667.0, style=Pro…"
      ]
     },
     "metadata": {},
     "output_type": "display_data"
    },
    {
     "name": "stdout",
     "output_type": "stream",
     "text": [
      "Epoch 13: train=0.692347, val=0.476833, took 602.7 s\n"
     ]
    },
    {
     "data": {
      "application/vnd.jupyter.widget-view+json": {
       "model_id": "",
       "version_major": 2,
       "version_minor": 0
      },
      "text/plain": [
       "HBox(children=(FloatProgress(value=0.0, description='Training', layout=Layout(flex='2'), max=6667.0, style=Pro…"
      ]
     },
     "metadata": {},
     "output_type": "display_data"
    },
    {
     "name": "stdout",
     "output_type": "stream",
     "text": [
      "Epoch 14: train=0.690765, val=0.473744, took 601.19 s\n"
     ]
    },
    {
     "data": {
      "application/vnd.jupyter.widget-view+json": {
       "model_id": "",
       "version_major": 2,
       "version_minor": 0
      },
      "text/plain": [
       "HBox(children=(FloatProgress(value=0.0, description='Training', layout=Layout(flex='2'), max=6667.0, style=Pro…"
      ]
     },
     "metadata": {},
     "output_type": "display_data"
    },
    {
     "name": "stdout",
     "output_type": "stream",
     "text": [
      "Epoch 15: train=0.690433, val=0.493247, took 598.8 s\n"
     ]
    },
    {
     "data": {
      "application/vnd.jupyter.widget-view+json": {
       "model_id": "",
       "version_major": 2,
       "version_minor": 0
      },
      "text/plain": [
       "HBox(children=(FloatProgress(value=0.0, description='Training', layout=Layout(flex='2'), max=6667.0, style=Pro…"
      ]
     },
     "metadata": {},
     "output_type": "display_data"
    },
    {
     "name": "stdout",
     "output_type": "stream",
     "text": [
      "Epoch 16: train=0.691413, val=0.490242, took 599.09 s\n"
     ]
    },
    {
     "data": {
      "application/vnd.jupyter.widget-view+json": {
       "model_id": "",
       "version_major": 2,
       "version_minor": 0
      },
      "text/plain": [
       "HBox(children=(FloatProgress(value=0.0, description='Training', layout=Layout(flex='2'), max=6667.0, style=Pro…"
      ]
     },
     "metadata": {},
     "output_type": "display_data"
    },
    {
     "name": "stdout",
     "output_type": "stream",
     "text": [
      "Epoch 17: train=0.690459, val=0.480609, took 599.73 s\n"
     ]
    },
    {
     "data": {
      "application/vnd.jupyter.widget-view+json": {
       "model_id": "",
       "version_major": 2,
       "version_minor": 0
      },
      "text/plain": [
       "HBox(children=(FloatProgress(value=0.0, description='Training', layout=Layout(flex='2'), max=6667.0, style=Pro…"
      ]
     },
     "metadata": {},
     "output_type": "display_data"
    },
    {
     "name": "stdout",
     "output_type": "stream",
     "text": [
      "Epoch 18: train=0.693671, val=0.468307, took 599.04 s\n"
     ]
    },
    {
     "data": {
      "application/vnd.jupyter.widget-view+json": {
       "model_id": "",
       "version_major": 2,
       "version_minor": 0
      },
      "text/plain": [
       "HBox(children=(FloatProgress(value=0.0, description='Training', layout=Layout(flex='2'), max=6667.0, style=Pro…"
      ]
     },
     "metadata": {},
     "output_type": "display_data"
    },
    {
     "name": "stdout",
     "output_type": "stream",
     "text": [
      "Epoch 19: train=0.692444, val=0.466059, took 599.12 s\n"
     ]
    },
    {
     "data": {
      "application/vnd.jupyter.widget-view+json": {
       "model_id": "",
       "version_major": 2,
       "version_minor": 0
      },
      "text/plain": [
       "HBox(children=(FloatProgress(value=0.0, description='Training', layout=Layout(flex='2'), max=6667.0, style=Pro…"
      ]
     },
     "metadata": {},
     "output_type": "display_data"
    },
    {
     "name": "stdout",
     "output_type": "stream",
     "text": [
      "Epoch 20: train=0.691031, val=0.518632, took 601.07 s\n"
     ]
    },
    {
     "data": {
      "application/vnd.jupyter.widget-view+json": {
       "model_id": "",
       "version_major": 2,
       "version_minor": 0
      },
      "text/plain": [
       "HBox(children=(FloatProgress(value=0.0, description='Training', layout=Layout(flex='2'), max=6667.0, style=Pro…"
      ]
     },
     "metadata": {},
     "output_type": "display_data"
    },
    {
     "name": "stdout",
     "output_type": "stream",
     "text": [
      "Epoch 21: train=0.689248, val=0.560728, took 601.29 s\n"
     ]
    },
    {
     "data": {
      "application/vnd.jupyter.widget-view+json": {
       "model_id": "",
       "version_major": 2,
       "version_minor": 0
      },
      "text/plain": [
       "HBox(children=(FloatProgress(value=0.0, description='Training', layout=Layout(flex='2'), max=6667.0, style=Pro…"
      ]
     },
     "metadata": {},
     "output_type": "display_data"
    },
    {
     "name": "stdout",
     "output_type": "stream",
     "text": [
      "Epoch 22: train=0.69162, val=0.487977, took 600.13 s\n"
     ]
    },
    {
     "data": {
      "application/vnd.jupyter.widget-view+json": {
       "model_id": "",
       "version_major": 2,
       "version_minor": 0
      },
      "text/plain": [
       "HBox(children=(FloatProgress(value=0.0, description='Training', layout=Layout(flex='2'), max=6667.0, style=Pro…"
      ]
     },
     "metadata": {},
     "output_type": "display_data"
    },
    {
     "name": "stdout",
     "output_type": "stream",
     "text": [
      "Epoch 23: train=0.688888, val=0.46754, took 600.72 s\n"
     ]
    },
    {
     "data": {
      "application/vnd.jupyter.widget-view+json": {
       "model_id": "",
       "version_major": 2,
       "version_minor": 0
      },
      "text/plain": [
       "HBox(children=(FloatProgress(value=0.0, description='Training', layout=Layout(flex='2'), max=6667.0, style=Pro…"
      ]
     },
     "metadata": {},
     "output_type": "display_data"
    },
    {
     "name": "stdout",
     "output_type": "stream",
     "text": [
      "Epoch 24: train=0.690723, val=0.468239, took 607.58 s\n"
     ]
    },
    {
     "data": {
      "application/vnd.jupyter.widget-view+json": {
       "model_id": "",
       "version_major": 2,
       "version_minor": 0
      },
      "text/plain": [
       "HBox(children=(FloatProgress(value=0.0, description='Training', layout=Layout(flex='2'), max=6667.0, style=Pro…"
      ]
     },
     "metadata": {},
     "output_type": "display_data"
    },
    {
     "name": "stdout",
     "output_type": "stream",
     "text": [
      "Epoch 25: train=0.688225, val=0.466866, took 616.4 s\n"
     ]
    },
    {
     "data": {
      "application/vnd.jupyter.widget-view+json": {
       "model_id": "",
       "version_major": 2,
       "version_minor": 0
      },
      "text/plain": [
       "HBox(children=(FloatProgress(value=0.0, description='Training', layout=Layout(flex='2'), max=6667.0, style=Pro…"
      ]
     },
     "metadata": {},
     "output_type": "display_data"
    },
    {
     "name": "stdout",
     "output_type": "stream",
     "text": [
      "Epoch 26: train=0.688103, val=0.487044, took 617.97 s\n"
     ]
    },
    {
     "data": {
      "application/vnd.jupyter.widget-view+json": {
       "model_id": "",
       "version_major": 2,
       "version_minor": 0
      },
      "text/plain": [
       "HBox(children=(FloatProgress(value=0.0, description='Training', layout=Layout(flex='2'), max=6667.0, style=Pro…"
      ]
     },
     "metadata": {},
     "output_type": "display_data"
    },
    {
     "name": "stdout",
     "output_type": "stream",
     "text": [
      "Epoch 27: train=0.689128, val=0.473298, took 623.09 s\n"
     ]
    },
    {
     "data": {
      "application/vnd.jupyter.widget-view+json": {
       "model_id": "",
       "version_major": 2,
       "version_minor": 0
      },
      "text/plain": [
       "HBox(children=(FloatProgress(value=0.0, description='Training', layout=Layout(flex='2'), max=6667.0, style=Pro…"
      ]
     },
     "metadata": {},
     "output_type": "display_data"
    },
    {
     "name": "stdout",
     "output_type": "stream",
     "text": [
      "Epoch 28: train=0.689271, val=0.463576, took 623.41 s\n"
     ]
    },
    {
     "data": {
      "application/vnd.jupyter.widget-view+json": {
       "model_id": "",
       "version_major": 2,
       "version_minor": 0
      },
      "text/plain": [
       "HBox(children=(FloatProgress(value=0.0, description='Training', layout=Layout(flex='2'), max=6667.0, style=Pro…"
      ]
     },
     "metadata": {},
     "output_type": "display_data"
    },
    {
     "name": "stdout",
     "output_type": "stream",
     "text": [
      "Epoch 29: train=0.687948, val=0.511248, took 620.97 s\n"
     ]
    },
    {
     "data": {
      "application/vnd.jupyter.widget-view+json": {
       "model_id": "",
       "version_major": 2,
       "version_minor": 0
      },
      "text/plain": [
       "HBox(children=(FloatProgress(value=0.0, description='Training', layout=Layout(flex='2'), max=6667.0, style=Pro…"
      ]
     },
     "metadata": {},
     "output_type": "display_data"
    },
    {
     "name": "stdout",
     "output_type": "stream",
     "text": [
      "Epoch 30: train=0.687905, val=0.471981, took 598.45 s\n"
     ]
    },
    {
     "data": {
      "application/vnd.jupyter.widget-view+json": {
       "model_id": "",
       "version_major": 2,
       "version_minor": 0
      },
      "text/plain": [
       "HBox(children=(FloatProgress(value=0.0, description='Training', layout=Layout(flex='2'), max=6667.0, style=Pro…"
      ]
     },
     "metadata": {},
     "output_type": "display_data"
    },
    {
     "name": "stdout",
     "output_type": "stream",
     "text": [
      "Epoch 31: train=0.687115, val=0.471469, took 599.39 s\n"
     ]
    },
    {
     "data": {
      "application/vnd.jupyter.widget-view+json": {
       "model_id": "",
       "version_major": 2,
       "version_minor": 0
      },
      "text/plain": [
       "HBox(children=(FloatProgress(value=0.0, description='Training', layout=Layout(flex='2'), max=6667.0, style=Pro…"
      ]
     },
     "metadata": {},
     "output_type": "display_data"
    },
    {
     "name": "stdout",
     "output_type": "stream",
     "text": [
      "Epoch 32: train=0.688435, val=0.477531, took 598.13 s\n"
     ]
    },
    {
     "data": {
      "application/vnd.jupyter.widget-view+json": {
       "model_id": "",
       "version_major": 2,
       "version_minor": 0
      },
      "text/plain": [
       "HBox(children=(FloatProgress(value=0.0, description='Training', layout=Layout(flex='2'), max=6667.0, style=Pro…"
      ]
     },
     "metadata": {},
     "output_type": "display_data"
    },
    {
     "name": "stdout",
     "output_type": "stream",
     "text": [
      "Epoch 33: train=0.687775, val=0.48332, took 598.45 s\n"
     ]
    },
    {
     "data": {
      "application/vnd.jupyter.widget-view+json": {
       "model_id": "",
       "version_major": 2,
       "version_minor": 0
      },
      "text/plain": [
       "HBox(children=(FloatProgress(value=0.0, description='Training', layout=Layout(flex='2'), max=6667.0, style=Pro…"
      ]
     },
     "metadata": {},
     "output_type": "display_data"
    },
    {
     "name": "stdout",
     "output_type": "stream",
     "text": [
      "Epoch 34: train=0.685348, val=0.509086, took 598.26 s\n"
     ]
    },
    {
     "data": {
      "application/vnd.jupyter.widget-view+json": {
       "model_id": "",
       "version_major": 2,
       "version_minor": 0
      },
      "text/plain": [
       "HBox(children=(FloatProgress(value=0.0, description='Training', layout=Layout(flex='2'), max=6667.0, style=Pro…"
      ]
     },
     "metadata": {},
     "output_type": "display_data"
    },
    {
     "name": "stdout",
     "output_type": "stream",
     "text": [
      "Epoch 35: train=0.685389, val=0.478064, took 598.95 s\n"
     ]
    },
    {
     "data": {
      "application/vnd.jupyter.widget-view+json": {
       "model_id": "",
       "version_major": 2,
       "version_minor": 0
      },
      "text/plain": [
       "HBox(children=(FloatProgress(value=0.0, description='Training', layout=Layout(flex='2'), max=6667.0, style=Pro…"
      ]
     },
     "metadata": {},
     "output_type": "display_data"
    },
    {
     "name": "stdout",
     "output_type": "stream",
     "text": [
      "Epoch 36: train=0.687078, val=0.471953, took 597.92 s\n"
     ]
    },
    {
     "data": {
      "application/vnd.jupyter.widget-view+json": {
       "model_id": "",
       "version_major": 2,
       "version_minor": 0
      },
      "text/plain": [
       "HBox(children=(FloatProgress(value=0.0, description='Training', layout=Layout(flex='2'), max=6667.0, style=Pro…"
      ]
     },
     "metadata": {},
     "output_type": "display_data"
    },
    {
     "name": "stdout",
     "output_type": "stream",
     "text": [
      "Epoch 37: train=0.685632, val=0.540919, took 598.91 s\n"
     ]
    },
    {
     "data": {
      "application/vnd.jupyter.widget-view+json": {
       "model_id": "",
       "version_major": 2,
       "version_minor": 0
      },
      "text/plain": [
       "HBox(children=(FloatProgress(value=0.0, description='Training', layout=Layout(flex='2'), max=6667.0, style=Pro…"
      ]
     },
     "metadata": {},
     "output_type": "display_data"
    },
    {
     "name": "stdout",
     "output_type": "stream",
     "text": [
      "Epoch 38: train=0.688266, val=0.496156, took 598.81 s\n"
     ]
    },
    {
     "data": {
      "application/vnd.jupyter.widget-view+json": {
       "model_id": "",
       "version_major": 2,
       "version_minor": 0
      },
      "text/plain": [
       "HBox(children=(FloatProgress(value=0.0, description='Training', layout=Layout(flex='2'), max=6667.0, style=Pro…"
      ]
     },
     "metadata": {},
     "output_type": "display_data"
    },
    {
     "name": "stdout",
     "output_type": "stream",
     "text": [
      "Epoch 39: train=0.685346, val=0.474184, took 598.92 s\n"
     ]
    },
    {
     "data": {
      "application/vnd.jupyter.widget-view+json": {
       "model_id": "",
       "version_major": 2,
       "version_minor": 0
      },
      "text/plain": [
       "HBox(children=(FloatProgress(value=0.0, description='Training', layout=Layout(flex='2'), max=6667.0, style=Pro…"
      ]
     },
     "metadata": {},
     "output_type": "display_data"
    },
    {
     "name": "stdout",
     "output_type": "stream",
     "text": [
      "Epoch 40: train=0.686206, val=0.488356, took 598.31 s\n"
     ]
    },
    {
     "data": {
      "application/vnd.jupyter.widget-view+json": {
       "model_id": "",
       "version_major": 2,
       "version_minor": 0
      },
      "text/plain": [
       "HBox(children=(FloatProgress(value=0.0, description='Training', layout=Layout(flex='2'), max=6667.0, style=Pro…"
      ]
     },
     "metadata": {},
     "output_type": "display_data"
    },
    {
     "name": "stdout",
     "output_type": "stream",
     "text": [
      "Epoch 41: train=0.683045, val=0.484175, took 599.06 s\n"
     ]
    },
    {
     "data": {
      "application/vnd.jupyter.widget-view+json": {
       "model_id": "",
       "version_major": 2,
       "version_minor": 0
      },
      "text/plain": [
       "HBox(children=(FloatProgress(value=0.0, description='Training', layout=Layout(flex='2'), max=6667.0, style=Pro…"
      ]
     },
     "metadata": {},
     "output_type": "display_data"
    },
    {
     "name": "stdout",
     "output_type": "stream",
     "text": [
      "Epoch 42: train=0.685587, val=0.457732, took 598.85 s\n"
     ]
    },
    {
     "data": {
      "application/vnd.jupyter.widget-view+json": {
       "model_id": "",
       "version_major": 2,
       "version_minor": 0
      },
      "text/plain": [
       "HBox(children=(FloatProgress(value=0.0, description='Training', layout=Layout(flex='2'), max=6667.0, style=Pro…"
      ]
     },
     "metadata": {},
     "output_type": "display_data"
    },
    {
     "name": "stdout",
     "output_type": "stream",
     "text": [
      "Epoch 43: train=0.68426, val=0.488228, took 599.27 s\n"
     ]
    },
    {
     "data": {
      "application/vnd.jupyter.widget-view+json": {
       "model_id": "",
       "version_major": 2,
       "version_minor": 0
      },
      "text/plain": [
       "HBox(children=(FloatProgress(value=0.0, description='Training', layout=Layout(flex='2'), max=6667.0, style=Pro…"
      ]
     },
     "metadata": {},
     "output_type": "display_data"
    },
    {
     "name": "stdout",
     "output_type": "stream",
     "text": [
      "Epoch 44: train=0.681955, val=0.470296, took 598.43 s\n"
     ]
    },
    {
     "data": {
      "application/vnd.jupyter.widget-view+json": {
       "model_id": "",
       "version_major": 2,
       "version_minor": 0
      },
      "text/plain": [
       "HBox(children=(FloatProgress(value=0.0, description='Training', layout=Layout(flex='2'), max=6667.0, style=Pro…"
      ]
     },
     "metadata": {},
     "output_type": "display_data"
    },
    {
     "name": "stdout",
     "output_type": "stream",
     "text": [
      "Epoch 45: train=0.683386, val=0.46367, took 598.9 s\n"
     ]
    },
    {
     "data": {
      "application/vnd.jupyter.widget-view+json": {
       "model_id": "",
       "version_major": 2,
       "version_minor": 0
      },
      "text/plain": [
       "HBox(children=(FloatProgress(value=0.0, description='Training', layout=Layout(flex='2'), max=6667.0, style=Pro…"
      ]
     },
     "metadata": {},
     "output_type": "display_data"
    },
    {
     "name": "stdout",
     "output_type": "stream",
     "text": [
      "Epoch 46: train=0.684387, val=0.470981, took 598.52 s\n"
     ]
    },
    {
     "data": {
      "application/vnd.jupyter.widget-view+json": {
       "model_id": "",
       "version_major": 2,
       "version_minor": 0
      },
      "text/plain": [
       "HBox(children=(FloatProgress(value=0.0, description='Training', layout=Layout(flex='2'), max=6667.0, style=Pro…"
      ]
     },
     "metadata": {},
     "output_type": "display_data"
    },
    {
     "name": "stdout",
     "output_type": "stream",
     "text": [
      "Epoch 47: train=0.682782, val=0.499242, took 598.38 s\n"
     ]
    },
    {
     "data": {
      "application/vnd.jupyter.widget-view+json": {
       "model_id": "",
       "version_major": 2,
       "version_minor": 0
      },
      "text/plain": [
       "HBox(children=(FloatProgress(value=0.0, description='Training', layout=Layout(flex='2'), max=6667.0, style=Pro…"
      ]
     },
     "metadata": {},
     "output_type": "display_data"
    },
    {
     "name": "stdout",
     "output_type": "stream",
     "text": [
      "Epoch 48: train=0.68191, val=0.4644, took 598.88 s\n"
     ]
    },
    {
     "data": {
      "application/vnd.jupyter.widget-view+json": {
       "model_id": "",
       "version_major": 2,
       "version_minor": 0
      },
      "text/plain": [
       "HBox(children=(FloatProgress(value=0.0, description='Training', layout=Layout(flex='2'), max=6667.0, style=Pro…"
      ]
     },
     "metadata": {},
     "output_type": "display_data"
    },
    {
     "name": "stdout",
     "output_type": "stream",
     "text": [
      "Epoch 49: train=0.68331, val=0.522814, took 597.68 s\n"
     ]
    },
    {
     "data": {
      "application/vnd.jupyter.widget-view+json": {
       "model_id": "",
       "version_major": 2,
       "version_minor": 0
      },
      "text/plain": [
       "HBox(children=(FloatProgress(value=0.0, description='Training', layout=Layout(flex='2'), max=6667.0, style=Pro…"
      ]
     },
     "metadata": {},
     "output_type": "display_data"
    },
    {
     "name": "stdout",
     "output_type": "stream",
     "text": [
      "Epoch 50: train=0.682169, val=0.48457, took 599.44 s\n"
     ]
    },
    {
     "data": {
      "application/vnd.jupyter.widget-view+json": {
       "model_id": "",
       "version_major": 2,
       "version_minor": 0
      },
      "text/plain": [
       "HBox(children=(FloatProgress(value=0.0, description='Training', layout=Layout(flex='2'), max=6667.0, style=Pro…"
      ]
     },
     "metadata": {},
     "output_type": "display_data"
    },
    {
     "name": "stdout",
     "output_type": "stream",
     "text": [
      "Epoch 51: train=0.682185, val=0.455202, took 598.89 s\n"
     ]
    },
    {
     "data": {
      "application/vnd.jupyter.widget-view+json": {
       "model_id": "",
       "version_major": 2,
       "version_minor": 0
      },
      "text/plain": [
       "HBox(children=(FloatProgress(value=0.0, description='Training', layout=Layout(flex='2'), max=6667.0, style=Pro…"
      ]
     },
     "metadata": {},
     "output_type": "display_data"
    },
    {
     "name": "stdout",
     "output_type": "stream",
     "text": [
      "Epoch 52: train=0.683503, val=0.471053, took 598.43 s\n"
     ]
    },
    {
     "data": {
      "application/vnd.jupyter.widget-view+json": {
       "model_id": "",
       "version_major": 2,
       "version_minor": 0
      },
      "text/plain": [
       "HBox(children=(FloatProgress(value=0.0, description='Training', layout=Layout(flex='2'), max=6667.0, style=Pro…"
      ]
     },
     "metadata": {},
     "output_type": "display_data"
    },
    {
     "name": "stdout",
     "output_type": "stream",
     "text": [
      "Epoch 53: train=0.678846, val=0.470528, took 598.03 s\n"
     ]
    },
    {
     "data": {
      "application/vnd.jupyter.widget-view+json": {
       "model_id": "",
       "version_major": 2,
       "version_minor": 0
      },
      "text/plain": [
       "HBox(children=(FloatProgress(value=0.0, description='Training', layout=Layout(flex='2'), max=6667.0, style=Pro…"
      ]
     },
     "metadata": {},
     "output_type": "display_data"
    },
    {
     "name": "stdout",
     "output_type": "stream",
     "text": [
      "Epoch 54: train=0.682211, val=0.490387, took 598.49 s\n"
     ]
    },
    {
     "data": {
      "application/vnd.jupyter.widget-view+json": {
       "model_id": "",
       "version_major": 2,
       "version_minor": 0
      },
      "text/plain": [
       "HBox(children=(FloatProgress(value=0.0, description='Training', layout=Layout(flex='2'), max=6667.0, style=Pro…"
      ]
     },
     "metadata": {},
     "output_type": "display_data"
    },
    {
     "name": "stdout",
     "output_type": "stream",
     "text": [
      "Epoch 55: train=0.681459, val=0.489403, took 599.68 s\n"
     ]
    },
    {
     "data": {
      "application/vnd.jupyter.widget-view+json": {
       "model_id": "",
       "version_major": 2,
       "version_minor": 0
      },
      "text/plain": [
       "HBox(children=(FloatProgress(value=0.0, description='Training', layout=Layout(flex='2'), max=6667.0, style=Pro…"
      ]
     },
     "metadata": {},
     "output_type": "display_data"
    },
    {
     "name": "stdout",
     "output_type": "stream",
     "text": [
      "Epoch 56: train=0.681123, val=0.474757, took 598.58 s\n"
     ]
    },
    {
     "data": {
      "application/vnd.jupyter.widget-view+json": {
       "model_id": "",
       "version_major": 2,
       "version_minor": 0
      },
      "text/plain": [
       "HBox(children=(FloatProgress(value=0.0, description='Training', layout=Layout(flex='2'), max=6667.0, style=Pro…"
      ]
     },
     "metadata": {},
     "output_type": "display_data"
    },
    {
     "name": "stdout",
     "output_type": "stream",
     "text": [
      "Epoch 57: train=0.679573, val=0.543916, took 598.58 s\n"
     ]
    },
    {
     "data": {
      "application/vnd.jupyter.widget-view+json": {
       "model_id": "217c848ef5254775b5dbfb71c17c1528",
       "version_major": 2,
       "version_minor": 0
      },
      "text/plain": [
       "HBox(children=(FloatProgress(value=0.0, description='Training', layout=Layout(flex='2'), max=6667.0, style=Pro…"
      ]
     },
     "metadata": {},
     "output_type": "display_data"
    }
   ],
   "source": [
    "for result in trainNet(model, optimizer, loss,\n",
    "                        train_loader, val_loader,\n",
    "                        n_epochs, epoch_start=len(results),\n",
    "                        notebook=True):\n",
    "    \n",
    "    results = results.append(pd.Series(result._asdict()), ignore_index=True)\n",
    "    xs = results.index\n",
    "    \n",
    "    # Update the plot above\n",
    "    lines['train'].set_data(results.index,results.cost)\n",
    "    lines['val'].set_data(results.index,results.val)\n",
    "    \n",
    "    #filter first cost epoch (can be really large)\n",
    "    max_cost = max(max(results.cost if len(results.cost)<2 else results.cost[1:]), max(results.val))\n",
    "    min_cost = min(min(results.cost), min(results.val))\n",
    "    \n",
    "    # The plot limits need updating too\n",
    "    \n",
    "    \n",
    "    \n",
    "    ax.set_ylim(min_cost*.9, max_cost*1.1)  \n",
    "    ax.set_xlim(-.5, len(results.cost) - .5)\n",
    "\n",
    "    \n",
    "    # Redraw the figure\n",
    "    fig.canvas.draw()\n",
    "\n",
    "    # Save each model state dictionary\n",
    "    torch.save(model.state_dict(), output / f'{name}_{result.epoch}.pyt')"
   ]
  },
  {
   "cell_type": "markdown",
   "metadata": {},
   "source": [
    "Go ahead and save the final model (even though it was also saved above):"
   ]
  },
  {
   "cell_type": "code",
   "execution_count": null,
   "metadata": {},
   "outputs": [],
   "source": [
    "torch.save(model.state_dict(), output / f'{name}_final.pyt')"
   ]
  },
  {
   "cell_type": "markdown",
   "metadata": {},
   "source": [
    "Save the output results:"
   ]
  },
  {
   "cell_type": "code",
   "execution_count": null,
   "metadata": {},
   "outputs": [],
   "source": [
    "results.to_hdf(f'{name}_stats.hdf5', 'results')"
   ]
  },
  {
   "cell_type": "markdown",
   "metadata": {},
   "source": [
    "Save the plot above:"
   ]
  },
  {
   "cell_type": "code",
   "execution_count": null,
   "metadata": {},
   "outputs": [],
   "source": [
    "dual_train_plots(results.index,\n",
    "                 results.cost, results.val,\n",
    "                 results.cost, results.val)\n",
    "plt.tight_layout()\n",
    "plt.savefig(str(output / f'{name}_stats_a.png'))"
   ]
  },
  {
   "cell_type": "code",
   "execution_count": null,
   "metadata": {},
   "outputs": [],
   "source": [
    "quit()"
   ]
  },
  {
   "cell_type": "code",
   "execution_count": null,
   "metadata": {},
   "outputs": [],
   "source": []
  },
  {
   "cell_type": "code",
   "execution_count": null,
   "metadata": {},
   "outputs": [],
   "source": []
  }
 ],
 "metadata": {
  "kernelspec": {
   "display_name": "goofit-june2020",
   "language": "python",
   "name": "goofit-june2020"
  },
  "language_info": {
   "codemirror_mode": {
    "name": "ipython",
    "version": 3
   },
   "file_extension": ".py",
   "mimetype": "text/x-python",
   "name": "python",
   "nbconvert_exporter": "python",
   "pygments_lexer": "ipython3",
   "version": "3.7.6"
  }
 },
 "nbformat": 4,
 "nbformat_minor": 2
}
