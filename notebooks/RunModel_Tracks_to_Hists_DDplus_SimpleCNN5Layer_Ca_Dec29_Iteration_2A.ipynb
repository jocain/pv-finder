{
 "cells": [
  {
   "cell_type": "code",
   "execution_count": 1,
   "metadata": {},
   "outputs": [],
   "source": [
    "##%matplotlib widget\n",
    "## with %matplotlib notebook: seems to require ipympl as part of environment, either\n",
    "## part of the conda environment or \"pip install ipympl\"\n",
    "## otherwise, does not show ANY plots in notebook, plt.savefig() works\n",
    "%matplotlib notebook  \n",
    "##%matplotlib inline    ## --plt.savefig()  works, but re-sizing does NOT\n"
   ]
  },
  {
   "cell_type": "markdown",
   "metadata": {},
   "source": [
    "This notebook is a first attempt to read in track information and use it to predict the the full target histrograms.\n",
    "\n",
    "It will read in the TracksToDKE__Ellipsoids_DDPlus model to predict the KDE, and then feed it into a SimpleCNN model to predict the target histograms.  Initially, it will use previously trained weights.\n"
   ]
  },
  {
   "cell_type": "markdown",
   "metadata": {},
   "source": [
    "Check the current GPU usage. Please try to be nice!"
   ]
  },
  {
   "cell_type": "code",
   "execution_count": 2,
   "metadata": {},
   "outputs": [
    {
     "name": "stdout",
     "output_type": "stream",
     "text": [
      "Tue Dec 29 09:42:50 2020       \r\n",
      "+-----------------------------------------------------------------------------+\r\n",
      "| NVIDIA-SMI 450.36.06    Driver Version: 450.36.06    CUDA Version: 11.0     |\r\n",
      "|-------------------------------+----------------------+----------------------+\r\n",
      "| GPU  Name        Persistence-M| Bus-Id        Disp.A | Volatile Uncorr. ECC |\r\n",
      "| Fan  Temp  Perf  Pwr:Usage/Cap|         Memory-Usage | GPU-Util  Compute M. |\r\n",
      "|                               |                      |               MIG M. |\r\n",
      "|===============================+======================+======================|\r\n",
      "|   0  GeForce RTX 208...  On   | 00000000:18:00.0 Off |                  N/A |\r\n",
      "| 29%   40C    P8    40W / 250W |    891MiB / 11019MiB |      0%      Default |\r\n",
      "|                               |                      |                  N/A |\r\n",
      "+-------------------------------+----------------------+----------------------+\r\n",
      "|   1  GeForce RTX 208...  On   | 00000000:3B:00.0 Off |                  N/A |\r\n",
      "| 29%   41C    P8    39W / 250W |     64MiB / 11019MiB |      0%      Default |\r\n",
      "|                               |                      |                  N/A |\r\n",
      "+-------------------------------+----------------------+----------------------+\r\n",
      "                                                                               \r\n",
      "+-----------------------------------------------------------------------------+\r\n",
      "| Processes:                                                                  |\r\n",
      "|  GPU   GI   CI        PID   Type   Process name                  GPU Memory |\r\n",
      "|        ID   ID                                                   Usage      |\r\n",
      "|=============================================================================|\r\n",
      "|    0   N/A  N/A     50808      C   ...s/june2020-gpu/bin/python      887MiB |\r\n",
      "|    1   N/A  N/A      3736      G   /usr/bin/X                         33MiB |\r\n",
      "|    1   N/A  N/A      3790      G   /usr/bin/gnome-shell               25MiB |\r\n",
      "+-----------------------------------------------------------------------------+\r\n"
     ]
    }
   ],
   "source": [
    "!nvidia-smi"
   ]
  },
  {
   "cell_type": "markdown",
   "metadata": {},
   "source": [
    "> **WARNING**: The card numbers here are *not* the same as in CUDA. You have been warned."
   ]
  },
  {
   "cell_type": "markdown",
   "metadata": {},
   "source": [
    "## Imports"
   ]
  },
  {
   "cell_type": "code",
   "execution_count": 3,
   "metadata": {},
   "outputs": [],
   "source": [
    "import matplotlib.pyplot as plt\n",
    "import numpy as np\n",
    "import time\n",
    "import torch\n",
    "import pandas as pd\n",
    "\n",
    "# Python 3 standard library\n",
    "from pathlib import Path\n",
    "\n",
    "from model.efficiency import pv_locations, efficiency\n",
    "\n",
    "##from torchsummary import summary"
   ]
  },
  {
   "cell_type": "markdown",
   "metadata": {},
   "source": [
    "### Set up local parameters"
   ]
  },
  {
   "cell_type": "code",
   "execution_count": 4,
   "metadata": {},
   "outputs": [],
   "source": [
    "n_epochs = 100\n",
    "\n",
    "# Name is the output file name\n",
    "\n",
    "\n",
    "##  200719  mds\n",
    "##folder = '20December_Tracks_to_KDE_TestTrainedModel'\n",
    "##folder = '22December_testing_DDplus_loss_Bb_iter2_floatAll_100epochs_3em6'\n",
    "folder = '29December_Tracks_to_Hists_Iteration_2A_100epochs_lr_1em7_2p5_kde2hists_allFloat'\n",
    "name = folder\n",
    "\n",
    "# Make an output folder named \"name\" (change if you want)\n",
    "\n",
    "## Special instructions for those working on goofy at UC\n",
    "## Please be very careful to make sure that your folder\n",
    "## does not live in a subdirectory of your home directory\n",
    "## this disk has very little capacity. Instead, use \n",
    "## a subdirectory in /share/lazy with a symbolic link to\n",
    "## it in this (the notebooks) subdirectory\n",
    "folder = 'ML/' + folder\n",
    "output = Path(folder)\n",
    "\n",
    "\n",
    "# Size of batches\n",
    "batch_size = 16\n",
    "# How fast to learn\n",
    "learning_rate = 1e-7"
   ]
  },
  {
   "cell_type": "markdown",
   "metadata": {},
   "source": [
    "Make the output directory if it does not exist:"
   ]
  },
  {
   "cell_type": "code",
   "execution_count": 5,
   "metadata": {},
   "outputs": [],
   "source": [
    "output.mkdir(exist_ok=True)"
   ]
  },
  {
   "cell_type": "markdown",
   "metadata": {},
   "source": [
    "## Get the helper functions\n",
    "\n",
    "Add the directory with the model\n",
    "definitions to the path so we can import from it:\n",
    "\n",
    "> When you type `import X`,\n",
    "Python searches `sys.path` for a python\n",
    "file named `X.py` to import. So we need to add the model directory to the path."
   ]
  },
  {
   "cell_type": "code",
   "execution_count": 6,
   "metadata": {
    "scrolled": true
   },
   "outputs": [],
   "source": [
    "# From model/collectdata.py\n",
    "##from model.collectdata_kde_Ellipsoids import collect_t2kde_data\n",
    "from model.collectdata_t2hists import collect_t2hists_data\n",
    "from model.collectdata_mdsA  import collect_truth\n",
    "\n",
    "# From model/loss.py\n",
    "##from loss import Loss\n",
    "##from model.kde_loss_D import Loss\n",
    "## from model.kde_loss_B import Loss  ## Tracks_to_KDE loss, not for target hists\n",
    "\n",
    "##  \"standard\" ratios loss for hists training\n",
    "from model.alt_loss_A import Loss  ## loss used to train RunModel_Demo_28November2020-SimpleCNNLayer_Ca-Restart_5\n",
    "\n",
    "\n",
    "##from model.models_kde import TracksToKDE_Ellipsoids_DirtyDozen as Model\n",
    "from model.models_kde import TracksToKDE_Ellipsoids_DDplus as t2kde_model\n",
    "##from model.models_mds_G import SimpleCNN5Layer_Ca as kde2hists_model\n",
    "from model.models_mds_28Dec20 import SimpleCNN5Layer_Ca as kde2hists_model  ## copy of models_mds_01June20 for debugging\n",
    "from model.models_t2hists import TracksToHists_A as t2hists_model\n",
    "\n",
    "\n",
    "##from model.training_kde import trainNet, select_gpu, Results\n",
    "## training_t2hists_A.py increases \"difference\" for accepting found\n",
    "## peaks as matched from 5 bins to 7.5 bins (compmared to original training.py)\n",
    "from model.training_t2hists_A import trainNet, select_gpu, Results\n",
    "from model.plots import dual_train_plots, replace_in_ax"
   ]
  },
  {
   "cell_type": "code",
   "execution_count": 7,
   "metadata": {},
   "outputs": [],
   "source": [
    "# This gets built up during the run - do not rerun this cell\n",
    "results = pd.DataFrame([], columns=Results._fields)"
   ]
  },
  {
   "cell_type": "markdown",
   "metadata": {},
   "source": [
    "Set up Torch device configuration. All tensors and model parameters need to know where to be put.\n",
    "This takes a BUS ID number: The BUS ID is the same as the listing at the top of this script."
   ]
  },
  {
   "cell_type": "code",
   "execution_count": 8,
   "metadata": {},
   "outputs": [
    {
     "name": "stdout",
     "output_type": "stream",
     "text": [
      "1 available GPUs (initially using device 0):\n",
      "  0 GeForce RTX 2080 Ti\n"
     ]
    }
   ],
   "source": [
    "device = select_gpu(0)\n",
    "##device = \"cpu\""
   ]
  },
  {
   "cell_type": "markdown",
   "metadata": {},
   "source": [
    "## Loading data\n",
    "\n",
    "Load the dataset, split into parts, then move to device (see `collectdata.py` in the `../model` directory)"
   ]
  },
  {
   "cell_type": "code",
   "execution_count": 9,
   "metadata": {
    "scrolled": false
   },
   "outputs": [
    {
     "name": "stdout",
     "output_type": "stream",
     "text": [
      "Loading data...\n",
      "pocaMx.shape =  (20000,)\n",
      "nEvts =  20000\n",
      "len(pocaMx[0]) =  211\n",
      "len(pocaMx[1]) =  21\n",
      "len(pocaMx[2]) =  20\n",
      "len(pocaMx[3]) =  198\n",
      "len(pocaMx[4]) =  233\n",
      "have entered six_ellipsoid_parameters\n",
      "  \n",
      " \n",
      "  nEvts =  20000\n",
      " iEvt, nTrks =  0 211\n",
      " iEvt, nTrks =  1 21\n",
      " iEvt, nTrks =  2 20\n",
      " iEvt, nTrks =  3 198\n",
      " iEvt, nTrks =  4 233\n",
      " iEvt, nTrks =  5 85\n",
      " iEvt, nTrks =  6 223\n",
      " iEvt, nTrks =  7 425\n",
      " iEvt, nTrks =  8 252\n",
      " iEvt, nTrks =  9 169\n",
      "len(X) =  20000\n",
      "len(Xlist) =  1\n",
      "Loaded dataAA/20K_POCA_kernel_evts_200926.h5 in 25.59 s\n",
      "outer loop X.shape =  (20000, 9, 600)\n",
      "Constructing 18000 event dataset took 0.2608 s\n",
      "x_t.shape =  torch.Size([18000, 9, 600])\n",
      "x_t.shape[0] =  18000\n",
      "x_t.shape[1] =  9\n",
      "x_t.shape =  torch.Size([18000, 9, 600])\n",
      "Loading data...\n",
      "pocaMx.shape =  (20000,)\n",
      "nEvts =  20000\n",
      "len(pocaMx[0]) =  211\n",
      "len(pocaMx[1]) =  21\n",
      "len(pocaMx[2]) =  20\n",
      "len(pocaMx[3]) =  198\n",
      "len(pocaMx[4]) =  233\n",
      "have entered six_ellipsoid_parameters\n",
      "  \n",
      " \n",
      "  nEvts =  20000\n",
      " iEvt, nTrks =  0 211\n",
      " iEvt, nTrks =  1 21\n",
      " iEvt, nTrks =  2 20\n",
      " iEvt, nTrks =  3 198\n",
      " iEvt, nTrks =  4 233\n",
      " iEvt, nTrks =  5 85\n",
      " iEvt, nTrks =  6 223\n",
      " iEvt, nTrks =  7 425\n",
      " iEvt, nTrks =  8 252\n",
      " iEvt, nTrks =  9 169\n",
      "len(X) =  20000\n",
      "len(Xlist) =  1\n",
      "Loaded dataAA/20K_POCA_kernel_evts_200926.h5 in 24.88 s\n",
      "outer loop X.shape =  (20000, 9, 600)\n",
      "Constructing 2000 event dataset took 2.23 s\n",
      "x_t.shape =  torch.Size([2000, 9, 600])\n",
      "x_t.shape[0] =  2000\n",
      "x_t.shape[1] =  9\n",
      "x_t.shape =  torch.Size([2000, 9, 600])\n",
      "Loaded dataAA/20K_POCA_kernel_evts_200926.h5 in 0.02902 s\n",
      "PV.n.shape =     (20000,)\n",
      "PV.n[0].shape =  6\n",
      "PV.x[0] =        -0.06039733 0.034324445 0.032115813 0.0021888595 -0.035334907 -0.013019809\n",
      "PV.y[0] =        -0.09381338 -0.013181885 -0.030898828 -0.08940365 -0.0058297813 0.062288247\n",
      "PV.z[0] =        97.82085 61.021088 -0.15807877 134.26784 -29.881668 79.19783\n",
      "PV.n[0] =        24 26 10 7 24 19\n",
      "PV.cat[0] =      1 1 1 1 1 1\n",
      "Loaded dataAA/20K_POCA_kernel_evts_200926.h5 in 0.01946 s\n",
      "SV.n.shape =     (20000,)\n",
      "SV.n[0].shape =  2\n",
      "SV.x[0] =        -0.014751727 0.03923173\n",
      "SV.y[0] =        0.050640453 0.08648109\n",
      "SV.z[0] =        78.924194 79.170876\n",
      "SV.n[0] =        2 0\n",
      "SV.cat[0] =      1 -1\n"
     ]
    }
   ],
   "source": [
    "train_loader = collect_t2hists_data('dataAA/20K_POCA_kernel_evts_200926.h5',\n",
    "                             batch_size=batch_size,\n",
    "## if we are using a larger dataset (240K events, with the datasets above, and 11 GB  of GPU memory),\n",
    "## not the dataset will overflow the GPU memory; device=device will allow the data to move back\n",
    "## and forth between the CPU and GPU memory. While this allows use of a larger dataset, it slows\n",
    "## down performance by about 10%.  So comment out when not needed.\n",
    "##                           device=device,\n",
    "                             slice = slice(0,18000)\n",
    "                           )\n",
    "\n",
    "\n",
    "\n",
    "                            \n",
    "# Validation dataset. You can slice to reduce the size.\n",
    "## mds no separate validation set yet,\n",
    "val_loader = collect_t2hists_data('dataAA/20K_POCA_kernel_evts_200926.h5',\n",
    "                            batch_size=batch_size,\n",
    "                            device=device,\n",
    "                            slice = slice(18000,None)\n",
    "                           )\n",
    "\n",
    "PV = collect_truth('dataAA/20K_POCA_kernel_evts_200926.h5', pvs=True)\n",
    "print('PV.n.shape =    ',  PV.n.shape)\n",
    "print('PV.n[0].shape = ', *PV.n[0].shape)\n",
    "print('PV.x[0] =       ', *PV.x[0])\n",
    "print('PV.y[0] =       ', *PV.y[0])\n",
    "print('PV.z[0] =       ', *PV.z[0])\n",
    "print('PV.n[0] =       ', *PV.n[0])\n",
    "print('PV.cat[0] =     ', *PV.cat[0])\n",
    "\n",
    "SV = collect_truth('dataAA/20K_POCA_kernel_evts_200926.h5', pvs=False)\n",
    "print('SV.n.shape =    ', SV.n.shape)\n",
    "print('SV.n[0].shape = ', *SV.n[0].shape)\n",
    "print('SV.x[0] =       ', *SV.x[0])\n",
    "print('SV.y[0] =       ', *SV.y[0])\n",
    "print('SV.z[0] =       ', *SV.z[0])\n",
    "print('SV.n[0] =       ', *SV.n[0])\n",
    "print('SV.cat[0] =     ', *SV.cat[0])\n"
   ]
  },
  {
   "cell_type": "markdown",
   "metadata": {},
   "source": [
    "# Preparing the model"
   ]
  },
  {
   "cell_type": "markdown",
   "metadata": {},
   "source": [
    "Prepare a model, use multiple GPUs if they are VISIBLE, and move the model to the device."
   ]
  },
  {
   "cell_type": "code",
   "execution_count": 10,
   "metadata": {
    "scrolled": false
   },
   "outputs": [
    {
     "name": "stdout",
     "output_type": "stream",
     "text": [
      "ct, child =  0    Linear(in_features=9, out_features=50, bias=True)\n",
      "ct, child =  1    Linear(in_features=50, out_features=50, bias=True)\n",
      "ct, child =  2    Linear(in_features=50, out_features=50, bias=True)\n",
      "ct, child =  3    Linear(in_features=50, out_features=50, bias=True)\n",
      "ct, child =  4    Linear(in_features=50, out_features=50, bias=True)\n",
      "ct, child =  5    Linear(in_features=50, out_features=50, bias=True)\n",
      "ct, child =  6    Linear(in_features=50, out_features=50, bias=True)\n",
      "ct, child =  7    Linear(in_features=50, out_features=50, bias=True)\n",
      "ct, child =  8    Linear(in_features=50, out_features=50, bias=True)\n",
      "ct, child =  9    Linear(in_features=50, out_features=50, bias=True)\n",
      "ct, child =  10    Linear(in_features=50, out_features=50, bias=True)\n",
      "ct, child =  11    Linear(in_features=50, out_features=16000, bias=True)\n",
      "ct, child =  12    Conv1d(4, 25, kernel_size=(25,), stride=(1,), padding=(12,))\n",
      "ct, child =  13    Conv1d(25, 1, kernel_size=(5,), stride=(1,), padding=(2,))\n",
      "ct, child =  14    Linear(in_features=4000, out_features=4000, bias=True)\n",
      "ct, child =  15    Dropout(p=0.15, inplace=False)\n",
      "ct, child =  16    Dropout(p=0.15, inplace=False)\n",
      "ct, child =  17    Conv1d(1, 20, kernel_size=(25,), stride=(1,), padding=(12,))\n",
      "ct, child =  18    Conv1d(20, 10, kernel_size=(15,), stride=(1,), padding=(7,))\n",
      "ct, child =  19    Conv1d(10, 10, kernel_size=(15,), stride=(1,), padding=(7,))\n",
      "ct, child =  20    Conv1d(10, 10, kernel_size=(15,), stride=(1,), padding=(7,))\n",
      "ct, child =  21    Conv1d(10, 1, kernel_size=(5,), stride=(1,), padding=(2,))\n",
      "ct, child =  22    Dropout(p=0.15, inplace=False)\n",
      "ct, child =  23    Dropout(p=0.15, inplace=False)\n",
      "ct, child =  24    Dropout(p=0.15, inplace=False)\n",
      "ct, child =  25    Dropout(p=0.15, inplace=False)\n",
      "ct, child =  26    Dropout(p=0.35, inplace=False)\n",
      "ct, child =  27    Linear(in_features=4000, out_features=4000, bias=True)\n"
     ]
    }
   ],
   "source": [
    "nOut1 = 50\n",
    "nOut2 = 50\n",
    "nOut3 = 50\n",
    "nOut4 = 50\n",
    "nOut5 = 50\n",
    "nOut6 = 50\n",
    "nOut7 = 50\n",
    "nOut8 = 50\n",
    "nOut9 = 50\n",
    "nOut10 = 50\n",
    "nOut11 = 50\n",
    "latentChannels = 4\n",
    "model_t2kde = t2kde_model(nOut1,nOut2,nOut3,nOut4,nOut5,nOut6,nOut7,nOut8,nOut9,nOut10,nOut11,latentChannels)\n",
    "model_kde2hists = kde2hists_model()\n",
    "model_t2hists = t2hists_model(nOut1,nOut2,nOut3,nOut4,nOut5,nOut6,nOut7,nOut8,nOut9,nOut10,nOut11,latentChannels)\n",
    "\n",
    "##summary(model, input_size=(4, 4000))\n",
    "##print(model.parameters)\n",
    "\n",
    "## add the following code to allow the user to freeze the some of the weights corresponding \n",
    "## to those taken from an earlier model trained with the original target histograms\n",
    "## presumably -- this leaves either the perturbative filter \"fixed\" and lets the \n",
    "## learning focus on the non-perturbative features, so get started faster, or vice versa\n",
    "ct = 0\n",
    "for child in model_t2hists.children():\n",
    "  print('ct, child = ',ct, \"  \", child)\n",
    "  if (ct < 0) :\n",
    "    print(\"     About to set param.requires_grad=False for ct = \", ct, \"params\")\n",
    "    for param in child.parameters():\n",
    "        param.requires_grad = False \n",
    "  ct += 1\n",
    "\n",
    "loss = Loss(epsilon=1e-5,coefficient=2.5)\n",
    "optimizer = torch.optim.Adam(model_t2hists.parameters(), lr=learning_rate)"
   ]
  },
  {
   "cell_type": "markdown",
   "metadata": {},
   "source": [
    "Let's move the model's weight matricies to the GPU:"
   ]
  },
  {
   "cell_type": "code",
   "execution_count": 12,
   "metadata": {
    "scrolled": false
   },
   "outputs": [
    {
     "data": {
      "text/plain": [
       "<All keys matched successfully>"
      ]
     },
     "execution_count": 12,
     "metadata": {},
     "output_type": "execute_result"
    }
   ],
   "source": [
    "## want to look at all three dictionaries to start:\n",
    "##  t2kde\n",
    "##  kde2hists\n",
    "##  t2hists\n",
    "## the plan is to (initially) copy weights from separate dictionaries into th t2hists dictionary\n",
    "\n",
    "##   ML -> /share/lazy/sokoloff/ML\n",
    "'''\n",
    "model_t2kde_dict = model_t2kde.state_dict()\n",
    "## mds 190725 for debugging\n",
    "print(\"for model_t2kde_dict\")\n",
    "index = 0\n",
    "for k,v in model_t2kde_dict.items():\n",
    "    print(\"index, k =  \",index,\"  \",k)\n",
    "    index = index+1\n",
    "#\n",
    "model_kde2hists_dict = model_kde2hists.state_dict()\n",
    "## mds 190725 for debugging\n",
    "print(\"for model_hists_2kde_dict\")\n",
    "index = 0\n",
    "for k,v in model_kde2hists_dict.items():\n",
    "    print(\"index, k =  \",index,\"  \",k)\n",
    "    index = index+1\n",
    "#\n",
    "model_t2hists_dict = model_t2hists.state_dict()\n",
    "## mds 190725 for debugging\n",
    "print(\"for model_hists_2kde_dict\")\n",
    "index = 0\n",
    "for k,v in model_t2hists_dict.items():\n",
    "    print(\"index, k =  \",index,\"  \",k)\n",
    "    index = index+1\n",
    "#\n",
    "\n",
    "##  build the \"updated_dict\" to become the t2hists_dictionary from the\n",
    "##  t2kde and kde2hist dictionaries\n",
    "update_dict = model_t2hists_dict\n",
    "##print(\"updated_dict = \",updated_dict)\n",
    "## when starting \"ab initio\", reduce biases as the bias gets summed for each track\n",
    "## contributing to the predicted KDE\n",
    "'''\n",
    "\n",
    "\n",
    "'''\n",
    "updated_dict[\"layer1.bias\"] = 0.005*model_dict[\"layer1.bias\"]\n",
    "updated_dict[\"layer2.bias\"] = 0.005*model_dict[\"layer2.bias\"]\n",
    "updated_dict[\"layer3.bias\"] = 0.005*model_dict[\"layer3.bias\"]\n",
    "updated_dict[\"layer4.bias\"] = 0.005*model_dict[\"layer4.bias\"]\n",
    "updated_dict[\"layer5.bias\"] = 0.005*model_dict[\"layer5.bias\"]\n",
    "updated_dict[\"layer6.bias\"] = 0.005*model_dict[\"layer6.bias\"]\n",
    "updated_dict[\"layer7.bias\"] = 0.005*model_dict[\"layer7.bias\"]\n",
    "updated_dict[\"layer8.bias\"] = 0.005*model_dict[\"layer8.bias\"]\n",
    "updated_dict[\"layer9.bias\"] = 0.005*model_dict[\"layer9.bias\"]\n",
    "updated_dict[\"layer10.bias\"] = 0.005*model_dict[\"layer10.bias\"]\n",
    "updated_dict[\"layer11.bias\"] = 0.005*model_dict[\"layer11.bias\"]\n",
    "'''\n",
    "\n",
    "'''\n",
    "##model_t2hists.load_state_dict(updated_dict,strict=False)\n",
    "\n",
    "##model__t2hists_dict = model_t2hists.state_dict()\n",
    "\n",
    "## let's get the tracks-to-kde model here\n",
    "t2kde_folder = '25December__DDplus_loss_Ba_iter5_floatAll_800epochs_5em6'  ## really iter6, really Dec. 27\n",
    "t2kde_folder = '25December__DDplus_loss_Ba_iter7_floatAll_800epochs_4em6'\n",
    "t2kde_name = t2kde_folder\n",
    "suffix = 'final'\n",
    "t2kde_dict_name = 'ML/' + t2kde_folder + '/' + t2kde_name + '_'+ suffix + '.pyt'\n",
    "print('t2kde_dict_name = ',t2kde_dict_name)\n",
    "pretrained_t2kde_dict = torch.load(t2kde_dict_name)\n",
    "\n",
    "print(\" \\n\",\"  for t2kde_pretrained_dict\")\n",
    "index = 0\n",
    "for k,v in pretrained_t2kde_dict.items():\n",
    "    print(\"index, k =  \",index,\"  \",k)\n",
    "    index = index+1\n",
    "    \n",
    "    \n",
    "## let's get the hists-to-kde model here   \n",
    "kde2hists_folder = '02June2020_CNN5Layer_Ca_another200epochs_K'\n",
    "kde2hists_name = kde2hists_folder\n",
    "suffix = 'final'\n",
    "kde2hists_dict_name = 'ML/' + kde2hists_folder + '/' + kde2hists_name + '_'+ suffix + '.pyt'\n",
    "## mds dec28 print('kde2hists_dict_name = ',kde2hists_dict_name)\n",
    "pretrained_kde2hists_dict = torch.load(kde2hists_dict_name)\n",
    "\n",
    "print(\" \\n\",\"  for kde2hists_pretrained_dict\")\n",
    "index = 0\n",
    "for k,v in pretrained_kde2hists_dict.items():\n",
    "    print(\"index, k =  \",index,\"  \",k)\n",
    "    index = index+1\n",
    " \n",
    "\n",
    "\n",
    "##print(\"model_dict instantiated\")\n",
    "# 1. filter out unnecessary keys\n",
    "pretrained_dict = {k: v for k, v in pretrained_t2kde_dict.items() if k in model_t2hists_dict}\n",
    "## mds dec28 print(\"pretrained_dict iterated\")\n",
    "# 2. overwrite entries in the existing state dict\n",
    "model_t2hists_dict.update(pretrained_dict) \n",
    "\n",
    "update_dict[\"hist_conv1.weight\"] = pretrained_kde2hists_dict[\"conv1.weight\"]\n",
    "update_dict[\"hist_conv1.bias\"]   = pretrained_kde2hists_dict[\"conv1.bias\"]\n",
    "update_dict[\"hist_conv2.weight\"] = pretrained_kde2hists_dict[\"conv2.weight\"]\n",
    "update_dict[\"hist_conv2.bias\"]   = pretrained_kde2hists_dict[\"conv2.bias\"]\n",
    "update_dict[\"hist_conv3.weight\"] = pretrained_kde2hists_dict[\"conv3.weight\"]\n",
    "update_dict[\"hist_conv3.bias\"]   = pretrained_kde2hists_dict[\"conv3.bias\"]\n",
    "update_dict[\"hist_conv4.weight\"] = pretrained_kde2hists_dict[\"conv4.weight\"]\n",
    "update_dict[\"hist_conv4.bias\"]   = pretrained_kde2hists_dict[\"conv4.bias\"]\n",
    "update_dict[\"hist_conv5.weight\"] = pretrained_kde2hists_dict[\"conv5.weight\"]\n",
    "update_dict[\"hist_conv5.bias\"]   = pretrained_kde2hists_dict[\"conv5.bias\"]\n",
    "update_dict[\"hist_fc1.weight\"]   = pretrained_kde2hists_dict[\"fc1.weight\"]\n",
    "update_dict[\"hist_fc1.bias\"]     = pretrained_kde2hists_dict[\"fc1.bias\"]\n",
    "\n",
    "##model_t2hists.update(update_dict,strict=False)\n",
    "model_t2hists.load_state_dict(update_dict,strict=False)\n",
    "model_t2hists_dict = model_t2hists.state_dict()\n",
    "'''\n",
    "\n",
    "##\n",
    "#   when starting from a model with a fully connected last layer rather than a convolutional layer\n",
    "# 3. load the new state dict\n",
    "#   need to use strict=False as the two models state model attributes do not agree exactly\n",
    "#   see https://pytorch.org/docs/master/_modules/torch/nn/modules/module.html#Module.load_state_dict\n",
    "\n",
    "t2hists_folder = '29December_Tracks_to_Hists_First_Iteration_10epochs_lr_1em7_2p5_kde2hists_allFloat'\n",
    "t2hists_name = t2hists_folder\n",
    "suffix = 'final'\n",
    "t2hists_dict_name = 'ML/' + t2hists_folder + '/' +t2hists_name + '_'+ suffix + '.pyt'\n",
    "## mds dec28 print('kde2hists_dict_name = ',kde2hists_dict_name)\n",
    "pretrained_t2hists_dict = torch.load(t2hists_dict_name) \n",
    "\n",
    "model_t2hists.load_state_dict(pretrained_t2hists_dict,strict=False)\n",
    "\n",
    "##  print('model_t2hists_dict =    ', model_t2hists_dict)\n"
   ]
  },
  {
   "cell_type": "code",
   "execution_count": 13,
   "metadata": {},
   "outputs": [],
   "source": [
    "##print('validation.dataset.tensors = ',validation.dataset.tensors)\n",
    "fig_size = plt.rcParams[\"figure.figsize\"]\n",
    "fig_size[0] = 10\n",
    "fig_size[1] = 4\n",
    "plt.rcParams[\"figure.figsize\"] = fig_size"
   ]
  },
  {
   "cell_type": "code",
   "execution_count": 14,
   "metadata": {
    "scrolled": true
   },
   "outputs": [],
   "source": [
    "model = model_t2hists.to(device)"
   ]
  },
  {
   "cell_type": "code",
   "execution_count": 15,
   "metadata": {},
   "outputs": [
    {
     "data": {
      "application/javascript": [
       "/* Put everything inside the global mpl namespace */\n",
       "window.mpl = {};\n",
       "\n",
       "\n",
       "mpl.get_websocket_type = function() {\n",
       "    if (typeof(WebSocket) !== 'undefined') {\n",
       "        return WebSocket;\n",
       "    } else if (typeof(MozWebSocket) !== 'undefined') {\n",
       "        return MozWebSocket;\n",
       "    } else {\n",
       "        alert('Your browser does not have WebSocket support. ' +\n",
       "              'Please try Chrome, Safari or Firefox ≥ 6. ' +\n",
       "              'Firefox 4 and 5 are also supported but you ' +\n",
       "              'have to enable WebSockets in about:config.');\n",
       "    };\n",
       "}\n",
       "\n",
       "mpl.figure = function(figure_id, websocket, ondownload, parent_element) {\n",
       "    this.id = figure_id;\n",
       "\n",
       "    this.ws = websocket;\n",
       "\n",
       "    this.supports_binary = (this.ws.binaryType != undefined);\n",
       "\n",
       "    if (!this.supports_binary) {\n",
       "        var warnings = document.getElementById(\"mpl-warnings\");\n",
       "        if (warnings) {\n",
       "            warnings.style.display = 'block';\n",
       "            warnings.textContent = (\n",
       "                \"This browser does not support binary websocket messages. \" +\n",
       "                    \"Performance may be slow.\");\n",
       "        }\n",
       "    }\n",
       "\n",
       "    this.imageObj = new Image();\n",
       "\n",
       "    this.context = undefined;\n",
       "    this.message = undefined;\n",
       "    this.canvas = undefined;\n",
       "    this.rubberband_canvas = undefined;\n",
       "    this.rubberband_context = undefined;\n",
       "    this.format_dropdown = undefined;\n",
       "\n",
       "    this.image_mode = 'full';\n",
       "\n",
       "    this.root = $('<div/>');\n",
       "    this._root_extra_style(this.root)\n",
       "    this.root.attr('style', 'display: inline-block');\n",
       "\n",
       "    $(parent_element).append(this.root);\n",
       "\n",
       "    this._init_header(this);\n",
       "    this._init_canvas(this);\n",
       "    this._init_toolbar(this);\n",
       "\n",
       "    var fig = this;\n",
       "\n",
       "    this.waiting = false;\n",
       "\n",
       "    this.ws.onopen =  function () {\n",
       "            fig.send_message(\"supports_binary\", {value: fig.supports_binary});\n",
       "            fig.send_message(\"send_image_mode\", {});\n",
       "            if (mpl.ratio != 1) {\n",
       "                fig.send_message(\"set_dpi_ratio\", {'dpi_ratio': mpl.ratio});\n",
       "            }\n",
       "            fig.send_message(\"refresh\", {});\n",
       "        }\n",
       "\n",
       "    this.imageObj.onload = function() {\n",
       "            if (fig.image_mode == 'full') {\n",
       "                // Full images could contain transparency (where diff images\n",
       "                // almost always do), so we need to clear the canvas so that\n",
       "                // there is no ghosting.\n",
       "                fig.context.clearRect(0, 0, fig.canvas.width, fig.canvas.height);\n",
       "            }\n",
       "            fig.context.drawImage(fig.imageObj, 0, 0);\n",
       "        };\n",
       "\n",
       "    this.imageObj.onunload = function() {\n",
       "        fig.ws.close();\n",
       "    }\n",
       "\n",
       "    this.ws.onmessage = this._make_on_message_function(this);\n",
       "\n",
       "    this.ondownload = ondownload;\n",
       "}\n",
       "\n",
       "mpl.figure.prototype._init_header = function() {\n",
       "    var titlebar = $(\n",
       "        '<div class=\"ui-dialog-titlebar ui-widget-header ui-corner-all ' +\n",
       "        'ui-helper-clearfix\"/>');\n",
       "    var titletext = $(\n",
       "        '<div class=\"ui-dialog-title\" style=\"width: 100%; ' +\n",
       "        'text-align: center; padding: 3px;\"/>');\n",
       "    titlebar.append(titletext)\n",
       "    this.root.append(titlebar);\n",
       "    this.header = titletext[0];\n",
       "}\n",
       "\n",
       "\n",
       "\n",
       "mpl.figure.prototype._canvas_extra_style = function(canvas_div) {\n",
       "\n",
       "}\n",
       "\n",
       "\n",
       "mpl.figure.prototype._root_extra_style = function(canvas_div) {\n",
       "\n",
       "}\n",
       "\n",
       "mpl.figure.prototype._init_canvas = function() {\n",
       "    var fig = this;\n",
       "\n",
       "    var canvas_div = $('<div/>');\n",
       "\n",
       "    canvas_div.attr('style', 'position: relative; clear: both; outline: 0');\n",
       "\n",
       "    function canvas_keyboard_event(event) {\n",
       "        return fig.key_event(event, event['data']);\n",
       "    }\n",
       "\n",
       "    canvas_div.keydown('key_press', canvas_keyboard_event);\n",
       "    canvas_div.keyup('key_release', canvas_keyboard_event);\n",
       "    this.canvas_div = canvas_div\n",
       "    this._canvas_extra_style(canvas_div)\n",
       "    this.root.append(canvas_div);\n",
       "\n",
       "    var canvas = $('<canvas/>');\n",
       "    canvas.addClass('mpl-canvas');\n",
       "    canvas.attr('style', \"left: 0; top: 0; z-index: 0; outline: 0\")\n",
       "\n",
       "    this.canvas = canvas[0];\n",
       "    this.context = canvas[0].getContext(\"2d\");\n",
       "\n",
       "    var backingStore = this.context.backingStorePixelRatio ||\n",
       "\tthis.context.webkitBackingStorePixelRatio ||\n",
       "\tthis.context.mozBackingStorePixelRatio ||\n",
       "\tthis.context.msBackingStorePixelRatio ||\n",
       "\tthis.context.oBackingStorePixelRatio ||\n",
       "\tthis.context.backingStorePixelRatio || 1;\n",
       "\n",
       "    mpl.ratio = (window.devicePixelRatio || 1) / backingStore;\n",
       "\n",
       "    var rubberband = $('<canvas/>');\n",
       "    rubberband.attr('style', \"position: absolute; left: 0; top: 0; z-index: 1;\")\n",
       "\n",
       "    var pass_mouse_events = true;\n",
       "\n",
       "    canvas_div.resizable({\n",
       "        start: function(event, ui) {\n",
       "            pass_mouse_events = false;\n",
       "        },\n",
       "        resize: function(event, ui) {\n",
       "            fig.request_resize(ui.size.width, ui.size.height);\n",
       "        },\n",
       "        stop: function(event, ui) {\n",
       "            pass_mouse_events = true;\n",
       "            fig.request_resize(ui.size.width, ui.size.height);\n",
       "        },\n",
       "    });\n",
       "\n",
       "    function mouse_event_fn(event) {\n",
       "        if (pass_mouse_events)\n",
       "            return fig.mouse_event(event, event['data']);\n",
       "    }\n",
       "\n",
       "    rubberband.mousedown('button_press', mouse_event_fn);\n",
       "    rubberband.mouseup('button_release', mouse_event_fn);\n",
       "    // Throttle sequential mouse events to 1 every 20ms.\n",
       "    rubberband.mousemove('motion_notify', mouse_event_fn);\n",
       "\n",
       "    rubberband.mouseenter('figure_enter', mouse_event_fn);\n",
       "    rubberband.mouseleave('figure_leave', mouse_event_fn);\n",
       "\n",
       "    canvas_div.on(\"wheel\", function (event) {\n",
       "        event = event.originalEvent;\n",
       "        event['data'] = 'scroll'\n",
       "        if (event.deltaY < 0) {\n",
       "            event.step = 1;\n",
       "        } else {\n",
       "            event.step = -1;\n",
       "        }\n",
       "        mouse_event_fn(event);\n",
       "    });\n",
       "\n",
       "    canvas_div.append(canvas);\n",
       "    canvas_div.append(rubberband);\n",
       "\n",
       "    this.rubberband = rubberband;\n",
       "    this.rubberband_canvas = rubberband[0];\n",
       "    this.rubberband_context = rubberband[0].getContext(\"2d\");\n",
       "    this.rubberband_context.strokeStyle = \"#000000\";\n",
       "\n",
       "    this._resize_canvas = function(width, height) {\n",
       "        // Keep the size of the canvas, canvas container, and rubber band\n",
       "        // canvas in synch.\n",
       "        canvas_div.css('width', width)\n",
       "        canvas_div.css('height', height)\n",
       "\n",
       "        canvas.attr('width', width * mpl.ratio);\n",
       "        canvas.attr('height', height * mpl.ratio);\n",
       "        canvas.attr('style', 'width: ' + width + 'px; height: ' + height + 'px;');\n",
       "\n",
       "        rubberband.attr('width', width);\n",
       "        rubberband.attr('height', height);\n",
       "    }\n",
       "\n",
       "    // Set the figure to an initial 600x600px, this will subsequently be updated\n",
       "    // upon first draw.\n",
       "    this._resize_canvas(600, 600);\n",
       "\n",
       "    // Disable right mouse context menu.\n",
       "    $(this.rubberband_canvas).bind(\"contextmenu\",function(e){\n",
       "        return false;\n",
       "    });\n",
       "\n",
       "    function set_focus () {\n",
       "        canvas.focus();\n",
       "        canvas_div.focus();\n",
       "    }\n",
       "\n",
       "    window.setTimeout(set_focus, 100);\n",
       "}\n",
       "\n",
       "mpl.figure.prototype._init_toolbar = function() {\n",
       "    var fig = this;\n",
       "\n",
       "    var nav_element = $('<div/>');\n",
       "    nav_element.attr('style', 'width: 100%');\n",
       "    this.root.append(nav_element);\n",
       "\n",
       "    // Define a callback function for later on.\n",
       "    function toolbar_event(event) {\n",
       "        return fig.toolbar_button_onclick(event['data']);\n",
       "    }\n",
       "    function toolbar_mouse_event(event) {\n",
       "        return fig.toolbar_button_onmouseover(event['data']);\n",
       "    }\n",
       "\n",
       "    for(var toolbar_ind in mpl.toolbar_items) {\n",
       "        var name = mpl.toolbar_items[toolbar_ind][0];\n",
       "        var tooltip = mpl.toolbar_items[toolbar_ind][1];\n",
       "        var image = mpl.toolbar_items[toolbar_ind][2];\n",
       "        var method_name = mpl.toolbar_items[toolbar_ind][3];\n",
       "\n",
       "        if (!name) {\n",
       "            // put a spacer in here.\n",
       "            continue;\n",
       "        }\n",
       "        var button = $('<button/>');\n",
       "        button.addClass('ui-button ui-widget ui-state-default ui-corner-all ' +\n",
       "                        'ui-button-icon-only');\n",
       "        button.attr('role', 'button');\n",
       "        button.attr('aria-disabled', 'false');\n",
       "        button.click(method_name, toolbar_event);\n",
       "        button.mouseover(tooltip, toolbar_mouse_event);\n",
       "\n",
       "        var icon_img = $('<span/>');\n",
       "        icon_img.addClass('ui-button-icon-primary ui-icon');\n",
       "        icon_img.addClass(image);\n",
       "        icon_img.addClass('ui-corner-all');\n",
       "\n",
       "        var tooltip_span = $('<span/>');\n",
       "        tooltip_span.addClass('ui-button-text');\n",
       "        tooltip_span.html(tooltip);\n",
       "\n",
       "        button.append(icon_img);\n",
       "        button.append(tooltip_span);\n",
       "\n",
       "        nav_element.append(button);\n",
       "    }\n",
       "\n",
       "    var fmt_picker_span = $('<span/>');\n",
       "\n",
       "    var fmt_picker = $('<select/>');\n",
       "    fmt_picker.addClass('mpl-toolbar-option ui-widget ui-widget-content');\n",
       "    fmt_picker_span.append(fmt_picker);\n",
       "    nav_element.append(fmt_picker_span);\n",
       "    this.format_dropdown = fmt_picker[0];\n",
       "\n",
       "    for (var ind in mpl.extensions) {\n",
       "        var fmt = mpl.extensions[ind];\n",
       "        var option = $(\n",
       "            '<option/>', {selected: fmt === mpl.default_extension}).html(fmt);\n",
       "        fmt_picker.append(option);\n",
       "    }\n",
       "\n",
       "    // Add hover states to the ui-buttons\n",
       "    $( \".ui-button\" ).hover(\n",
       "        function() { $(this).addClass(\"ui-state-hover\");},\n",
       "        function() { $(this).removeClass(\"ui-state-hover\");}\n",
       "    );\n",
       "\n",
       "    var status_bar = $('<span class=\"mpl-message\"/>');\n",
       "    nav_element.append(status_bar);\n",
       "    this.message = status_bar[0];\n",
       "}\n",
       "\n",
       "mpl.figure.prototype.request_resize = function(x_pixels, y_pixels) {\n",
       "    // Request matplotlib to resize the figure. Matplotlib will then trigger a resize in the client,\n",
       "    // which will in turn request a refresh of the image.\n",
       "    this.send_message('resize', {'width': x_pixels, 'height': y_pixels});\n",
       "}\n",
       "\n",
       "mpl.figure.prototype.send_message = function(type, properties) {\n",
       "    properties['type'] = type;\n",
       "    properties['figure_id'] = this.id;\n",
       "    this.ws.send(JSON.stringify(properties));\n",
       "}\n",
       "\n",
       "mpl.figure.prototype.send_draw_message = function() {\n",
       "    if (!this.waiting) {\n",
       "        this.waiting = true;\n",
       "        this.ws.send(JSON.stringify({type: \"draw\", figure_id: this.id}));\n",
       "    }\n",
       "}\n",
       "\n",
       "\n",
       "mpl.figure.prototype.handle_save = function(fig, msg) {\n",
       "    var format_dropdown = fig.format_dropdown;\n",
       "    var format = format_dropdown.options[format_dropdown.selectedIndex].value;\n",
       "    fig.ondownload(fig, format);\n",
       "}\n",
       "\n",
       "\n",
       "mpl.figure.prototype.handle_resize = function(fig, msg) {\n",
       "    var size = msg['size'];\n",
       "    if (size[0] != fig.canvas.width || size[1] != fig.canvas.height) {\n",
       "        fig._resize_canvas(size[0], size[1]);\n",
       "        fig.send_message(\"refresh\", {});\n",
       "    };\n",
       "}\n",
       "\n",
       "mpl.figure.prototype.handle_rubberband = function(fig, msg) {\n",
       "    var x0 = msg['x0'] / mpl.ratio;\n",
       "    var y0 = (fig.canvas.height - msg['y0']) / mpl.ratio;\n",
       "    var x1 = msg['x1'] / mpl.ratio;\n",
       "    var y1 = (fig.canvas.height - msg['y1']) / mpl.ratio;\n",
       "    x0 = Math.floor(x0) + 0.5;\n",
       "    y0 = Math.floor(y0) + 0.5;\n",
       "    x1 = Math.floor(x1) + 0.5;\n",
       "    y1 = Math.floor(y1) + 0.5;\n",
       "    var min_x = Math.min(x0, x1);\n",
       "    var min_y = Math.min(y0, y1);\n",
       "    var width = Math.abs(x1 - x0);\n",
       "    var height = Math.abs(y1 - y0);\n",
       "\n",
       "    fig.rubberband_context.clearRect(\n",
       "        0, 0, fig.canvas.width / mpl.ratio, fig.canvas.height / mpl.ratio);\n",
       "\n",
       "    fig.rubberband_context.strokeRect(min_x, min_y, width, height);\n",
       "}\n",
       "\n",
       "mpl.figure.prototype.handle_figure_label = function(fig, msg) {\n",
       "    // Updates the figure title.\n",
       "    fig.header.textContent = msg['label'];\n",
       "}\n",
       "\n",
       "mpl.figure.prototype.handle_cursor = function(fig, msg) {\n",
       "    var cursor = msg['cursor'];\n",
       "    switch(cursor)\n",
       "    {\n",
       "    case 0:\n",
       "        cursor = 'pointer';\n",
       "        break;\n",
       "    case 1:\n",
       "        cursor = 'default';\n",
       "        break;\n",
       "    case 2:\n",
       "        cursor = 'crosshair';\n",
       "        break;\n",
       "    case 3:\n",
       "        cursor = 'move';\n",
       "        break;\n",
       "    }\n",
       "    fig.rubberband_canvas.style.cursor = cursor;\n",
       "}\n",
       "\n",
       "mpl.figure.prototype.handle_message = function(fig, msg) {\n",
       "    fig.message.textContent = msg['message'];\n",
       "}\n",
       "\n",
       "mpl.figure.prototype.handle_draw = function(fig, msg) {\n",
       "    // Request the server to send over a new figure.\n",
       "    fig.send_draw_message();\n",
       "}\n",
       "\n",
       "mpl.figure.prototype.handle_image_mode = function(fig, msg) {\n",
       "    fig.image_mode = msg['mode'];\n",
       "}\n",
       "\n",
       "mpl.figure.prototype.updated_canvas_event = function() {\n",
       "    // Called whenever the canvas gets updated.\n",
       "    this.send_message(\"ack\", {});\n",
       "}\n",
       "\n",
       "// A function to construct a web socket function for onmessage handling.\n",
       "// Called in the figure constructor.\n",
       "mpl.figure.prototype._make_on_message_function = function(fig) {\n",
       "    return function socket_on_message(evt) {\n",
       "        if (evt.data instanceof Blob) {\n",
       "            /* FIXME: We get \"Resource interpreted as Image but\n",
       "             * transferred with MIME type text/plain:\" errors on\n",
       "             * Chrome.  But how to set the MIME type?  It doesn't seem\n",
       "             * to be part of the websocket stream */\n",
       "            evt.data.type = \"image/png\";\n",
       "\n",
       "            /* Free the memory for the previous frames */\n",
       "            if (fig.imageObj.src) {\n",
       "                (window.URL || window.webkitURL).revokeObjectURL(\n",
       "                    fig.imageObj.src);\n",
       "            }\n",
       "\n",
       "            fig.imageObj.src = (window.URL || window.webkitURL).createObjectURL(\n",
       "                evt.data);\n",
       "            fig.updated_canvas_event();\n",
       "            fig.waiting = false;\n",
       "            return;\n",
       "        }\n",
       "        else if (typeof evt.data === 'string' && evt.data.slice(0, 21) == \"data:image/png;base64\") {\n",
       "            fig.imageObj.src = evt.data;\n",
       "            fig.updated_canvas_event();\n",
       "            fig.waiting = false;\n",
       "            return;\n",
       "        }\n",
       "\n",
       "        var msg = JSON.parse(evt.data);\n",
       "        var msg_type = msg['type'];\n",
       "\n",
       "        // Call the  \"handle_{type}\" callback, which takes\n",
       "        // the figure and JSON message as its only arguments.\n",
       "        try {\n",
       "            var callback = fig[\"handle_\" + msg_type];\n",
       "        } catch (e) {\n",
       "            console.log(\"No handler for the '\" + msg_type + \"' message type: \", msg);\n",
       "            return;\n",
       "        }\n",
       "\n",
       "        if (callback) {\n",
       "            try {\n",
       "                // console.log(\"Handling '\" + msg_type + \"' message: \", msg);\n",
       "                callback(fig, msg);\n",
       "            } catch (e) {\n",
       "                console.log(\"Exception inside the 'handler_\" + msg_type + \"' callback:\", e, e.stack, msg);\n",
       "            }\n",
       "        }\n",
       "    };\n",
       "}\n",
       "\n",
       "// from http://stackoverflow.com/questions/1114465/getting-mouse-location-in-canvas\n",
       "mpl.findpos = function(e) {\n",
       "    //this section is from http://www.quirksmode.org/js/events_properties.html\n",
       "    var targ;\n",
       "    if (!e)\n",
       "        e = window.event;\n",
       "    if (e.target)\n",
       "        targ = e.target;\n",
       "    else if (e.srcElement)\n",
       "        targ = e.srcElement;\n",
       "    if (targ.nodeType == 3) // defeat Safari bug\n",
       "        targ = targ.parentNode;\n",
       "\n",
       "    // jQuery normalizes the pageX and pageY\n",
       "    // pageX,Y are the mouse positions relative to the document\n",
       "    // offset() returns the position of the element relative to the document\n",
       "    var x = e.pageX - $(targ).offset().left;\n",
       "    var y = e.pageY - $(targ).offset().top;\n",
       "\n",
       "    return {\"x\": x, \"y\": y};\n",
       "};\n",
       "\n",
       "/*\n",
       " * return a copy of an object with only non-object keys\n",
       " * we need this to avoid circular references\n",
       " * http://stackoverflow.com/a/24161582/3208463\n",
       " */\n",
       "function simpleKeys (original) {\n",
       "  return Object.keys(original).reduce(function (obj, key) {\n",
       "    if (typeof original[key] !== 'object')\n",
       "        obj[key] = original[key]\n",
       "    return obj;\n",
       "  }, {});\n",
       "}\n",
       "\n",
       "mpl.figure.prototype.mouse_event = function(event, name) {\n",
       "    var canvas_pos = mpl.findpos(event)\n",
       "\n",
       "    if (name === 'button_press')\n",
       "    {\n",
       "        this.canvas.focus();\n",
       "        this.canvas_div.focus();\n",
       "    }\n",
       "\n",
       "    var x = canvas_pos.x * mpl.ratio;\n",
       "    var y = canvas_pos.y * mpl.ratio;\n",
       "\n",
       "    this.send_message(name, {x: x, y: y, button: event.button,\n",
       "                             step: event.step,\n",
       "                             guiEvent: simpleKeys(event)});\n",
       "\n",
       "    /* This prevents the web browser from automatically changing to\n",
       "     * the text insertion cursor when the button is pressed.  We want\n",
       "     * to control all of the cursor setting manually through the\n",
       "     * 'cursor' event from matplotlib */\n",
       "    event.preventDefault();\n",
       "    return false;\n",
       "}\n",
       "\n",
       "mpl.figure.prototype._key_event_extra = function(event, name) {\n",
       "    // Handle any extra behaviour associated with a key event\n",
       "}\n",
       "\n",
       "mpl.figure.prototype.key_event = function(event, name) {\n",
       "\n",
       "    // Prevent repeat events\n",
       "    if (name == 'key_press')\n",
       "    {\n",
       "        if (event.which === this._key)\n",
       "            return;\n",
       "        else\n",
       "            this._key = event.which;\n",
       "    }\n",
       "    if (name == 'key_release')\n",
       "        this._key = null;\n",
       "\n",
       "    var value = '';\n",
       "    if (event.ctrlKey && event.which != 17)\n",
       "        value += \"ctrl+\";\n",
       "    if (event.altKey && event.which != 18)\n",
       "        value += \"alt+\";\n",
       "    if (event.shiftKey && event.which != 16)\n",
       "        value += \"shift+\";\n",
       "\n",
       "    value += 'k';\n",
       "    value += event.which.toString();\n",
       "\n",
       "    this._key_event_extra(event, name);\n",
       "\n",
       "    this.send_message(name, {key: value,\n",
       "                             guiEvent: simpleKeys(event)});\n",
       "    return false;\n",
       "}\n",
       "\n",
       "mpl.figure.prototype.toolbar_button_onclick = function(name) {\n",
       "    if (name == 'download') {\n",
       "        this.handle_save(this, null);\n",
       "    } else {\n",
       "        this.send_message(\"toolbar_button\", {name: name});\n",
       "    }\n",
       "};\n",
       "\n",
       "mpl.figure.prototype.toolbar_button_onmouseover = function(tooltip) {\n",
       "    this.message.textContent = tooltip;\n",
       "};\n",
       "mpl.toolbar_items = [[\"Home\", \"Reset original view\", \"fa fa-home icon-home\", \"home\"], [\"Back\", \"Back to previous view\", \"fa fa-arrow-left icon-arrow-left\", \"back\"], [\"Forward\", \"Forward to next view\", \"fa fa-arrow-right icon-arrow-right\", \"forward\"], [\"\", \"\", \"\", \"\"], [\"Pan\", \"Pan axes with left mouse, zoom with right\", \"fa fa-arrows icon-move\", \"pan\"], [\"Zoom\", \"Zoom to rectangle\", \"fa fa-square-o icon-check-empty\", \"zoom\"], [\"\", \"\", \"\", \"\"], [\"Download\", \"Download plot\", \"fa fa-floppy-o icon-save\", \"download\"]];\n",
       "\n",
       "mpl.extensions = [\"eps\", \"jpeg\", \"pdf\", \"png\", \"ps\", \"raw\", \"svg\", \"tif\"];\n",
       "\n",
       "mpl.default_extension = \"png\";var comm_websocket_adapter = function(comm) {\n",
       "    // Create a \"websocket\"-like object which calls the given IPython comm\n",
       "    // object with the appropriate methods. Currently this is a non binary\n",
       "    // socket, so there is still some room for performance tuning.\n",
       "    var ws = {};\n",
       "\n",
       "    ws.close = function() {\n",
       "        comm.close()\n",
       "    };\n",
       "    ws.send = function(m) {\n",
       "        //console.log('sending', m);\n",
       "        comm.send(m);\n",
       "    };\n",
       "    // Register the callback with on_msg.\n",
       "    comm.on_msg(function(msg) {\n",
       "        //console.log('receiving', msg['content']['data'], msg);\n",
       "        // Pass the mpl event to the overridden (by mpl) onmessage function.\n",
       "        ws.onmessage(msg['content']['data'])\n",
       "    });\n",
       "    return ws;\n",
       "}\n",
       "\n",
       "mpl.mpl_figure_comm = function(comm, msg) {\n",
       "    // This is the function which gets called when the mpl process\n",
       "    // starts-up an IPython Comm through the \"matplotlib\" channel.\n",
       "\n",
       "    var id = msg.content.data.id;\n",
       "    // Get hold of the div created by the display call when the Comm\n",
       "    // socket was opened in Python.\n",
       "    var element = $(\"#\" + id);\n",
       "    var ws_proxy = comm_websocket_adapter(comm)\n",
       "\n",
       "    function ondownload(figure, format) {\n",
       "        window.open(figure.imageObj.src);\n",
       "    }\n",
       "\n",
       "    var fig = new mpl.figure(id, ws_proxy,\n",
       "                           ondownload,\n",
       "                           element.get(0));\n",
       "\n",
       "    // Call onopen now - mpl needs it, as it is assuming we've passed it a real\n",
       "    // web socket which is closed, not our websocket->open comm proxy.\n",
       "    ws_proxy.onopen();\n",
       "\n",
       "    fig.parent_element = element.get(0);\n",
       "    fig.cell_info = mpl.find_output_cell(\"<div id='\" + id + \"'></div>\");\n",
       "    if (!fig.cell_info) {\n",
       "        console.error(\"Failed to find cell for figure\", id, fig);\n",
       "        return;\n",
       "    }\n",
       "\n",
       "    var output_index = fig.cell_info[2]\n",
       "    var cell = fig.cell_info[0];\n",
       "\n",
       "};\n",
       "\n",
       "mpl.figure.prototype.handle_close = function(fig, msg) {\n",
       "    var width = fig.canvas.width/mpl.ratio\n",
       "    fig.root.unbind('remove')\n",
       "\n",
       "    // Update the output cell to use the data from the current canvas.\n",
       "    fig.push_to_output();\n",
       "    var dataURL = fig.canvas.toDataURL();\n",
       "    // Re-enable the keyboard manager in IPython - without this line, in FF,\n",
       "    // the notebook keyboard shortcuts fail.\n",
       "    IPython.keyboard_manager.enable()\n",
       "    $(fig.parent_element).html('<img src=\"' + dataURL + '\" width=\"' + width + '\">');\n",
       "    fig.close_ws(fig, msg);\n",
       "}\n",
       "\n",
       "mpl.figure.prototype.close_ws = function(fig, msg){\n",
       "    fig.send_message('closing', msg);\n",
       "    // fig.ws.close()\n",
       "}\n",
       "\n",
       "mpl.figure.prototype.push_to_output = function(remove_interactive) {\n",
       "    // Turn the data on the canvas into data in the output cell.\n",
       "    var width = this.canvas.width/mpl.ratio\n",
       "    var dataURL = this.canvas.toDataURL();\n",
       "    this.cell_info[1]['text/html'] = '<img src=\"' + dataURL + '\" width=\"' + width + '\">';\n",
       "}\n",
       "\n",
       "mpl.figure.prototype.updated_canvas_event = function() {\n",
       "    // Tell IPython that the notebook contents must change.\n",
       "    IPython.notebook.set_dirty(true);\n",
       "    this.send_message(\"ack\", {});\n",
       "    var fig = this;\n",
       "    // Wait a second, then push the new image to the DOM so\n",
       "    // that it is saved nicely (might be nice to debounce this).\n",
       "    setTimeout(function () { fig.push_to_output() }, 1000);\n",
       "}\n",
       "\n",
       "mpl.figure.prototype._init_toolbar = function() {\n",
       "    var fig = this;\n",
       "\n",
       "    var nav_element = $('<div/>');\n",
       "    nav_element.attr('style', 'width: 100%');\n",
       "    this.root.append(nav_element);\n",
       "\n",
       "    // Define a callback function for later on.\n",
       "    function toolbar_event(event) {\n",
       "        return fig.toolbar_button_onclick(event['data']);\n",
       "    }\n",
       "    function toolbar_mouse_event(event) {\n",
       "        return fig.toolbar_button_onmouseover(event['data']);\n",
       "    }\n",
       "\n",
       "    for(var toolbar_ind in mpl.toolbar_items){\n",
       "        var name = mpl.toolbar_items[toolbar_ind][0];\n",
       "        var tooltip = mpl.toolbar_items[toolbar_ind][1];\n",
       "        var image = mpl.toolbar_items[toolbar_ind][2];\n",
       "        var method_name = mpl.toolbar_items[toolbar_ind][3];\n",
       "\n",
       "        if (!name) { continue; };\n",
       "\n",
       "        var button = $('<button class=\"btn btn-default\" href=\"#\" title=\"' + name + '\"><i class=\"fa ' + image + ' fa-lg\"></i></button>');\n",
       "        button.click(method_name, toolbar_event);\n",
       "        button.mouseover(tooltip, toolbar_mouse_event);\n",
       "        nav_element.append(button);\n",
       "    }\n",
       "\n",
       "    // Add the status bar.\n",
       "    var status_bar = $('<span class=\"mpl-message\" style=\"text-align:right; float: right;\"/>');\n",
       "    nav_element.append(status_bar);\n",
       "    this.message = status_bar[0];\n",
       "\n",
       "    // Add the close button to the window.\n",
       "    var buttongrp = $('<div class=\"btn-group inline pull-right\"></div>');\n",
       "    var button = $('<button class=\"btn btn-mini btn-primary\" href=\"#\" title=\"Stop Interaction\"><i class=\"fa fa-power-off icon-remove icon-large\"></i></button>');\n",
       "    button.click(function (evt) { fig.handle_close(fig, {}); } );\n",
       "    button.mouseover('Stop Interaction', toolbar_mouse_event);\n",
       "    buttongrp.append(button);\n",
       "    var titlebar = this.root.find($('.ui-dialog-titlebar'));\n",
       "    titlebar.prepend(buttongrp);\n",
       "}\n",
       "\n",
       "mpl.figure.prototype._root_extra_style = function(el){\n",
       "    var fig = this\n",
       "    el.on(\"remove\", function(){\n",
       "\tfig.close_ws(fig, {});\n",
       "    });\n",
       "}\n",
       "\n",
       "mpl.figure.prototype._canvas_extra_style = function(el){\n",
       "    // this is important to make the div 'focusable\n",
       "    el.attr('tabindex', 0)\n",
       "    // reach out to IPython and tell the keyboard manager to turn it's self\n",
       "    // off when our div gets focus\n",
       "\n",
       "    // location in version 3\n",
       "    if (IPython.notebook.keyboard_manager) {\n",
       "        IPython.notebook.keyboard_manager.register_events(el);\n",
       "    }\n",
       "    else {\n",
       "        // location in version 2\n",
       "        IPython.keyboard_manager.register_events(el);\n",
       "    }\n",
       "\n",
       "}\n",
       "\n",
       "mpl.figure.prototype._key_event_extra = function(event, name) {\n",
       "    var manager = IPython.notebook.keyboard_manager;\n",
       "    if (!manager)\n",
       "        manager = IPython.keyboard_manager;\n",
       "\n",
       "    // Check for shift+enter\n",
       "    if (event.shiftKey && event.which == 13) {\n",
       "        this.canvas_div.blur();\n",
       "        // select the cell after this one\n",
       "        var index = IPython.notebook.find_cell_index(this.cell_info[0]);\n",
       "        IPython.notebook.select(index + 1);\n",
       "    }\n",
       "}\n",
       "\n",
       "mpl.figure.prototype.handle_save = function(fig, msg) {\n",
       "    fig.ondownload(fig, null);\n",
       "}\n",
       "\n",
       "\n",
       "mpl.find_output_cell = function(html_output) {\n",
       "    // Return the cell and output element which can be found *uniquely* in the notebook.\n",
       "    // Note - this is a bit hacky, but it is done because the \"notebook_saving.Notebook\"\n",
       "    // IPython event is triggered only after the cells have been serialised, which for\n",
       "    // our purposes (turning an active figure into a static one), is too late.\n",
       "    var cells = IPython.notebook.get_cells();\n",
       "    var ncells = cells.length;\n",
       "    for (var i=0; i<ncells; i++) {\n",
       "        var cell = cells[i];\n",
       "        if (cell.cell_type === 'code'){\n",
       "            for (var j=0; j<cell.output_area.outputs.length; j++) {\n",
       "                var data = cell.output_area.outputs[j];\n",
       "                if (data.data) {\n",
       "                    // IPython >= 3 moved mimebundle to data attribute of output\n",
       "                    data = data.data;\n",
       "                }\n",
       "                if (data['text/html'] == html_output) {\n",
       "                    return [cell, data, j];\n",
       "                }\n",
       "            }\n",
       "        }\n",
       "    }\n",
       "}\n",
       "\n",
       "// Register the function which deals with the matplotlib target/channel.\n",
       "// The kernel may be null if the page has been refreshed.\n",
       "if (IPython.notebook.kernel != null) {\n",
       "    IPython.notebook.kernel.comm_manager.register_target('matplotlib', mpl.mpl_figure_comm);\n",
       "}\n"
      ],
      "text/plain": [
       "<IPython.core.display.Javascript object>"
      ]
     },
     "metadata": {},
     "output_type": "display_data"
    },
    {
     "data": {
      "text/html": [
       "<img src=\"data:image/png;base64,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\" width=\"999.75\">"
      ],
      "text/plain": [
       "<IPython.core.display.HTML object>"
      ]
     },
     "metadata": {},
     "output_type": "display_data"
    }
   ],
   "source": [
    "ax, tax, lax, lines = dual_train_plots()\n",
    "fig = ax.figure\n",
    "plt.tight_layout()"
   ]
  },
  {
   "cell_type": "code",
   "execution_count": 16,
   "metadata": {
    "scrolled": false
   },
   "outputs": [
    {
     "name": "stdout",
     "output_type": "stream",
     "text": [
      "Number of batches: train = 1125, val = 125\n"
     ]
    },
    {
     "data": {
      "application/vnd.jupyter.widget-view+json": {
       "model_id": "9410d58c2a5a44cdaf37407479750a79",
       "version_major": 2,
       "version_minor": 0
      },
      "text/plain": [
       "HBox(children=(FloatProgress(value=0.0, description='Epochs', layout=Layout(flex='2'), style=ProgressStyle(des…"
      ]
     },
     "metadata": {},
     "output_type": "display_data"
    },
    {
     "data": {
      "application/vnd.jupyter.widget-view+json": {
       "model_id": "",
       "version_major": 2,
       "version_minor": 0
      },
      "text/plain": [
       "HBox(children=(FloatProgress(value=0.0, description='Training', layout=Layout(flex='2'), max=1125.0, style=Pro…"
      ]
     },
     "metadata": {},
     "output_type": "display_data"
    },
    {
     "name": "stdout",
     "output_type": "stream",
     "text": [
      "Epoch 0: train=2.35549, val=2.28341, took 43.683 s\n",
      "  Validation Found 8854 of 10819, added 986 (eff 81.84%) (0.493 FP/event)\n"
     ]
    },
    {
     "data": {
      "application/vnd.jupyter.widget-view+json": {
       "model_id": "",
       "version_major": 2,
       "version_minor": 0
      },
      "text/plain": [
       "HBox(children=(FloatProgress(value=0.0, description='Training', layout=Layout(flex='2'), max=1125.0, style=Pro…"
      ]
     },
     "metadata": {},
     "output_type": "display_data"
    },
    {
     "name": "stdout",
     "output_type": "stream",
     "text": [
      "Epoch 1: train=2.36141, val=2.28608, took 43.655 s\n",
      "  Validation Found 8845 of 10819, added 979 (eff 81.75%) (0.489 FP/event)\n"
     ]
    },
    {
     "data": {
      "application/vnd.jupyter.widget-view+json": {
       "model_id": "",
       "version_major": 2,
       "version_minor": 0
      },
      "text/plain": [
       "HBox(children=(FloatProgress(value=0.0, description='Training', layout=Layout(flex='2'), max=1125.0, style=Pro…"
      ]
     },
     "metadata": {},
     "output_type": "display_data"
    },
    {
     "name": "stdout",
     "output_type": "stream",
     "text": [
      "Epoch 2: train=2.36081, val=2.28263, took 43.202 s\n",
      "  Validation Found 8861 of 10819, added 974 (eff 81.90%) (0.487 FP/event)\n"
     ]
    },
    {
     "data": {
      "application/vnd.jupyter.widget-view+json": {
       "model_id": "",
       "version_major": 2,
       "version_minor": 0
      },
      "text/plain": [
       "HBox(children=(FloatProgress(value=0.0, description='Training', layout=Layout(flex='2'), max=1125.0, style=Pro…"
      ]
     },
     "metadata": {},
     "output_type": "display_data"
    },
    {
     "name": "stdout",
     "output_type": "stream",
     "text": [
      "Epoch 3: train=2.35882, val=2.28296, took 43.531 s\n",
      "  Validation Found 8855 of 10819, added 984 (eff 81.85%) (0.492 FP/event)\n"
     ]
    },
    {
     "data": {
      "application/vnd.jupyter.widget-view+json": {
       "model_id": "",
       "version_major": 2,
       "version_minor": 0
      },
      "text/plain": [
       "HBox(children=(FloatProgress(value=0.0, description='Training', layout=Layout(flex='2'), max=1125.0, style=Pro…"
      ]
     },
     "metadata": {},
     "output_type": "display_data"
    },
    {
     "name": "stdout",
     "output_type": "stream",
     "text": [
      "Epoch 4: train=2.36113, val=2.28225, took 43.654 s\n",
      "  Validation Found 8849 of 10819, added 976 (eff 81.79%) (0.488 FP/event)\n"
     ]
    },
    {
     "data": {
      "application/vnd.jupyter.widget-view+json": {
       "model_id": "",
       "version_major": 2,
       "version_minor": 0
      },
      "text/plain": [
       "HBox(children=(FloatProgress(value=0.0, description='Training', layout=Layout(flex='2'), max=1125.0, style=Pro…"
      ]
     },
     "metadata": {},
     "output_type": "display_data"
    },
    {
     "name": "stdout",
     "output_type": "stream",
     "text": [
      "Epoch 5: train=2.35882, val=2.28171, took 43.844 s\n",
      "  Validation Found 8850 of 10819, added 981 (eff 81.80%) (0.49 FP/event)\n"
     ]
    },
    {
     "data": {
      "application/vnd.jupyter.widget-view+json": {
       "model_id": "",
       "version_major": 2,
       "version_minor": 0
      },
      "text/plain": [
       "HBox(children=(FloatProgress(value=0.0, description='Training', layout=Layout(flex='2'), max=1125.0, style=Pro…"
      ]
     },
     "metadata": {},
     "output_type": "display_data"
    },
    {
     "name": "stdout",
     "output_type": "stream",
     "text": [
      "Epoch 6: train=2.35663, val=2.28115, took 44.08 s\n",
      "  Validation Found 8855 of 10819, added 981 (eff 81.85%) (0.49 FP/event)\n"
     ]
    },
    {
     "data": {
      "application/vnd.jupyter.widget-view+json": {
       "model_id": "",
       "version_major": 2,
       "version_minor": 0
      },
      "text/plain": [
       "HBox(children=(FloatProgress(value=0.0, description='Training', layout=Layout(flex='2'), max=1125.0, style=Pro…"
      ]
     },
     "metadata": {},
     "output_type": "display_data"
    },
    {
     "name": "stdout",
     "output_type": "stream",
     "text": [
      "Epoch 7: train=2.35927, val=2.28168, took 43.786 s\n",
      "  Validation Found 8857 of 10819, added 974 (eff 81.87%) (0.487 FP/event)\n"
     ]
    },
    {
     "data": {
      "application/vnd.jupyter.widget-view+json": {
       "model_id": "",
       "version_major": 2,
       "version_minor": 0
      },
      "text/plain": [
       "HBox(children=(FloatProgress(value=0.0, description='Training', layout=Layout(flex='2'), max=1125.0, style=Pro…"
      ]
     },
     "metadata": {},
     "output_type": "display_data"
    },
    {
     "name": "stdout",
     "output_type": "stream",
     "text": [
      "Epoch 8: train=2.35854, val=2.28055, took 44.234 s\n",
      "  Validation Found 8856 of 10819, added 976 (eff 81.86%) (0.488 FP/event)\n"
     ]
    },
    {
     "data": {
      "application/vnd.jupyter.widget-view+json": {
       "model_id": "",
       "version_major": 2,
       "version_minor": 0
      },
      "text/plain": [
       "HBox(children=(FloatProgress(value=0.0, description='Training', layout=Layout(flex='2'), max=1125.0, style=Pro…"
      ]
     },
     "metadata": {},
     "output_type": "display_data"
    },
    {
     "name": "stdout",
     "output_type": "stream",
     "text": [
      "Epoch 9: train=2.3588, val=2.28099, took 44.064 s\n",
      "  Validation Found 8856 of 10819, added 979 (eff 81.86%) (0.489 FP/event)\n"
     ]
    },
    {
     "data": {
      "application/vnd.jupyter.widget-view+json": {
       "model_id": "",
       "version_major": 2,
       "version_minor": 0
      },
      "text/plain": [
       "HBox(children=(FloatProgress(value=0.0, description='Training', layout=Layout(flex='2'), max=1125.0, style=Pro…"
      ]
     },
     "metadata": {},
     "output_type": "display_data"
    },
    {
     "name": "stdout",
     "output_type": "stream",
     "text": [
      "Epoch 10: train=2.3589, val=2.27995, took 43.988 s\n",
      "  Validation Found 8857 of 10819, added 978 (eff 81.87%) (0.489 FP/event)\n"
     ]
    },
    {
     "data": {
      "application/vnd.jupyter.widget-view+json": {
       "model_id": "",
       "version_major": 2,
       "version_minor": 0
      },
      "text/plain": [
       "HBox(children=(FloatProgress(value=0.0, description='Training', layout=Layout(flex='2'), max=1125.0, style=Pro…"
      ]
     },
     "metadata": {},
     "output_type": "display_data"
    },
    {
     "name": "stdout",
     "output_type": "stream",
     "text": [
      "Epoch 11: train=2.35409, val=2.28031, took 43.894 s\n",
      "  Validation Found 8856 of 10819, added 976 (eff 81.86%) (0.488 FP/event)\n"
     ]
    },
    {
     "data": {
      "application/vnd.jupyter.widget-view+json": {
       "model_id": "",
       "version_major": 2,
       "version_minor": 0
      },
      "text/plain": [
       "HBox(children=(FloatProgress(value=0.0, description='Training', layout=Layout(flex='2'), max=1125.0, style=Pro…"
      ]
     },
     "metadata": {},
     "output_type": "display_data"
    },
    {
     "name": "stdout",
     "output_type": "stream",
     "text": [
      "Epoch 12: train=2.35518, val=2.28, took 44.365 s\n",
      "  Validation Found 8857 of 10819, added 978 (eff 81.87%) (0.489 FP/event)\n"
     ]
    },
    {
     "data": {
      "application/vnd.jupyter.widget-view+json": {
       "model_id": "",
       "version_major": 2,
       "version_minor": 0
      },
      "text/plain": [
       "HBox(children=(FloatProgress(value=0.0, description='Training', layout=Layout(flex='2'), max=1125.0, style=Pro…"
      ]
     },
     "metadata": {},
     "output_type": "display_data"
    },
    {
     "name": "stdout",
     "output_type": "stream",
     "text": [
      "Epoch 13: train=2.35737, val=2.27875, took 43.925 s\n",
      "  Validation Found 8856 of 10819, added 990 (eff 81.86%) (0.495 FP/event)\n"
     ]
    },
    {
     "data": {
      "application/vnd.jupyter.widget-view+json": {
       "model_id": "",
       "version_major": 2,
       "version_minor": 0
      },
      "text/plain": [
       "HBox(children=(FloatProgress(value=0.0, description='Training', layout=Layout(flex='2'), max=1125.0, style=Pro…"
      ]
     },
     "metadata": {},
     "output_type": "display_data"
    },
    {
     "name": "stdout",
     "output_type": "stream",
     "text": [
      "Epoch 14: train=2.35385, val=2.2785, took 44.104 s\n",
      "  Validation Found 8855 of 10819, added 977 (eff 81.85%) (0.488 FP/event)\n"
     ]
    },
    {
     "data": {
      "application/vnd.jupyter.widget-view+json": {
       "model_id": "",
       "version_major": 2,
       "version_minor": 0
      },
      "text/plain": [
       "HBox(children=(FloatProgress(value=0.0, description='Training', layout=Layout(flex='2'), max=1125.0, style=Pro…"
      ]
     },
     "metadata": {},
     "output_type": "display_data"
    },
    {
     "name": "stdout",
     "output_type": "stream",
     "text": [
      "Epoch 15: train=2.35423, val=2.27793, took 44.008 s\n",
      "  Validation Found 8863 of 10819, added 982 (eff 81.92%) (0.491 FP/event)\n"
     ]
    },
    {
     "data": {
      "application/vnd.jupyter.widget-view+json": {
       "model_id": "",
       "version_major": 2,
       "version_minor": 0
      },
      "text/plain": [
       "HBox(children=(FloatProgress(value=0.0, description='Training', layout=Layout(flex='2'), max=1125.0, style=Pro…"
      ]
     },
     "metadata": {},
     "output_type": "display_data"
    },
    {
     "name": "stdout",
     "output_type": "stream",
     "text": [
      "Epoch 16: train=2.35457, val=2.2802, took 44.012 s\n",
      "  Validation Found 8854 of 10819, added 980 (eff 81.84%) (0.49 FP/event)\n"
     ]
    },
    {
     "data": {
      "application/vnd.jupyter.widget-view+json": {
       "model_id": "",
       "version_major": 2,
       "version_minor": 0
      },
      "text/plain": [
       "HBox(children=(FloatProgress(value=0.0, description='Training', layout=Layout(flex='2'), max=1125.0, style=Pro…"
      ]
     },
     "metadata": {},
     "output_type": "display_data"
    },
    {
     "name": "stdout",
     "output_type": "stream",
     "text": [
      "Epoch 17: train=2.35316, val=2.27802, took 43.791 s\n",
      "  Validation Found 8858 of 10819, added 987 (eff 81.87%) (0.493 FP/event)\n"
     ]
    },
    {
     "data": {
      "application/vnd.jupyter.widget-view+json": {
       "model_id": "",
       "version_major": 2,
       "version_minor": 0
      },
      "text/plain": [
       "HBox(children=(FloatProgress(value=0.0, description='Training', layout=Layout(flex='2'), max=1125.0, style=Pro…"
      ]
     },
     "metadata": {},
     "output_type": "display_data"
    },
    {
     "name": "stdout",
     "output_type": "stream",
     "text": [
      "Epoch 18: train=2.35633, val=2.27721, took 43.707 s\n",
      "  Validation Found 8858 of 10819, added 993 (eff 81.87%) (0.496 FP/event)\n"
     ]
    },
    {
     "data": {
      "application/vnd.jupyter.widget-view+json": {
       "model_id": "",
       "version_major": 2,
       "version_minor": 0
      },
      "text/plain": [
       "HBox(children=(FloatProgress(value=0.0, description='Training', layout=Layout(flex='2'), max=1125.0, style=Pro…"
      ]
     },
     "metadata": {},
     "output_type": "display_data"
    },
    {
     "name": "stdout",
     "output_type": "stream",
     "text": [
      "Epoch 19: train=2.34997, val=2.27695, took 43.717 s\n",
      "  Validation Found 8867 of 10819, added 983 (eff 81.96%) (0.491 FP/event)\n"
     ]
    },
    {
     "data": {
      "application/vnd.jupyter.widget-view+json": {
       "model_id": "",
       "version_major": 2,
       "version_minor": 0
      },
      "text/plain": [
       "HBox(children=(FloatProgress(value=0.0, description='Training', layout=Layout(flex='2'), max=1125.0, style=Pro…"
      ]
     },
     "metadata": {},
     "output_type": "display_data"
    },
    {
     "name": "stdout",
     "output_type": "stream",
     "text": [
      "Epoch 20: train=2.35458, val=2.27642, took 43.696 s\n",
      "  Validation Found 8866 of 10819, added 981 (eff 81.95%) (0.49 FP/event)\n"
     ]
    },
    {
     "data": {
      "application/vnd.jupyter.widget-view+json": {
       "model_id": "",
       "version_major": 2,
       "version_minor": 0
      },
      "text/plain": [
       "HBox(children=(FloatProgress(value=0.0, description='Training', layout=Layout(flex='2'), max=1125.0, style=Pro…"
      ]
     },
     "metadata": {},
     "output_type": "display_data"
    },
    {
     "name": "stdout",
     "output_type": "stream",
     "text": [
      "Epoch 21: train=2.35279, val=2.2756, took 43.682 s\n",
      "  Validation Found 8864 of 10819, added 986 (eff 81.93%) (0.493 FP/event)\n"
     ]
    },
    {
     "data": {
      "application/vnd.jupyter.widget-view+json": {
       "model_id": "",
       "version_major": 2,
       "version_minor": 0
      },
      "text/plain": [
       "HBox(children=(FloatProgress(value=0.0, description='Training', layout=Layout(flex='2'), max=1125.0, style=Pro…"
      ]
     },
     "metadata": {},
     "output_type": "display_data"
    },
    {
     "name": "stdout",
     "output_type": "stream",
     "text": [
      "Epoch 22: train=2.35358, val=2.27507, took 43.885 s\n",
      "  Validation Found 8865 of 10819, added 985 (eff 81.94%) (0.492 FP/event)\n"
     ]
    },
    {
     "data": {
      "application/vnd.jupyter.widget-view+json": {
       "model_id": "",
       "version_major": 2,
       "version_minor": 0
      },
      "text/plain": [
       "HBox(children=(FloatProgress(value=0.0, description='Training', layout=Layout(flex='2'), max=1125.0, style=Pro…"
      ]
     },
     "metadata": {},
     "output_type": "display_data"
    },
    {
     "name": "stdout",
     "output_type": "stream",
     "text": [
      "Epoch 23: train=2.35512, val=2.27539, took 43.758 s\n",
      "  Validation Found 8872 of 10819, added 981 (eff 82.00%) (0.49 FP/event)\n"
     ]
    },
    {
     "data": {
      "application/vnd.jupyter.widget-view+json": {
       "model_id": "",
       "version_major": 2,
       "version_minor": 0
      },
      "text/plain": [
       "HBox(children=(FloatProgress(value=0.0, description='Training', layout=Layout(flex='2'), max=1125.0, style=Pro…"
      ]
     },
     "metadata": {},
     "output_type": "display_data"
    },
    {
     "name": "stdout",
     "output_type": "stream",
     "text": [
      "Epoch 24: train=2.35229, val=2.27569, took 43.618 s\n",
      "  Validation Found 8863 of 10819, added 990 (eff 81.92%) (0.495 FP/event)\n"
     ]
    },
    {
     "data": {
      "application/vnd.jupyter.widget-view+json": {
       "model_id": "",
       "version_major": 2,
       "version_minor": 0
      },
      "text/plain": [
       "HBox(children=(FloatProgress(value=0.0, description='Training', layout=Layout(flex='2'), max=1125.0, style=Pro…"
      ]
     },
     "metadata": {},
     "output_type": "display_data"
    },
    {
     "name": "stdout",
     "output_type": "stream",
     "text": [
      "Epoch 25: train=2.35377, val=2.27549, took 43.709 s\n",
      "  Validation Found 8867 of 10819, added 982 (eff 81.96%) (0.491 FP/event)\n"
     ]
    },
    {
     "data": {
      "application/vnd.jupyter.widget-view+json": {
       "model_id": "",
       "version_major": 2,
       "version_minor": 0
      },
      "text/plain": [
       "HBox(children=(FloatProgress(value=0.0, description='Training', layout=Layout(flex='2'), max=1125.0, style=Pro…"
      ]
     },
     "metadata": {},
     "output_type": "display_data"
    },
    {
     "name": "stdout",
     "output_type": "stream",
     "text": [
      "Epoch 26: train=2.35108, val=2.27493, took 44.253 s\n",
      "  Validation Found 8863 of 10819, added 996 (eff 81.92%) (0.498 FP/event)\n"
     ]
    },
    {
     "data": {
      "application/vnd.jupyter.widget-view+json": {
       "model_id": "",
       "version_major": 2,
       "version_minor": 0
      },
      "text/plain": [
       "HBox(children=(FloatProgress(value=0.0, description='Training', layout=Layout(flex='2'), max=1125.0, style=Pro…"
      ]
     },
     "metadata": {},
     "output_type": "display_data"
    },
    {
     "name": "stdout",
     "output_type": "stream",
     "text": [
      "Epoch 27: train=2.35222, val=2.27337, took 43.711 s\n",
      "  Validation Found 8872 of 10819, added 993 (eff 82.00%) (0.496 FP/event)\n"
     ]
    },
    {
     "data": {
      "application/vnd.jupyter.widget-view+json": {
       "model_id": "",
       "version_major": 2,
       "version_minor": 0
      },
      "text/plain": [
       "HBox(children=(FloatProgress(value=0.0, description='Training', layout=Layout(flex='2'), max=1125.0, style=Pro…"
      ]
     },
     "metadata": {},
     "output_type": "display_data"
    },
    {
     "name": "stdout",
     "output_type": "stream",
     "text": [
      "Epoch 28: train=2.35146, val=2.27357, took 43.834 s\n",
      "  Validation Found 8870 of 10819, added 998 (eff 81.99%) (0.499 FP/event)\n"
     ]
    },
    {
     "data": {
      "application/vnd.jupyter.widget-view+json": {
       "model_id": "",
       "version_major": 2,
       "version_minor": 0
      },
      "text/plain": [
       "HBox(children=(FloatProgress(value=0.0, description='Training', layout=Layout(flex='2'), max=1125.0, style=Pro…"
      ]
     },
     "metadata": {},
     "output_type": "display_data"
    },
    {
     "name": "stdout",
     "output_type": "stream",
     "text": [
      "Epoch 29: train=2.35009, val=2.2771, took 43.786 s\n",
      "  Validation Found 8864 of 10819, added 996 (eff 81.93%) (0.498 FP/event)\n"
     ]
    },
    {
     "data": {
      "application/vnd.jupyter.widget-view+json": {
       "model_id": "",
       "version_major": 2,
       "version_minor": 0
      },
      "text/plain": [
       "HBox(children=(FloatProgress(value=0.0, description='Training', layout=Layout(flex='2'), max=1125.0, style=Pro…"
      ]
     },
     "metadata": {},
     "output_type": "display_data"
    },
    {
     "name": "stdout",
     "output_type": "stream",
     "text": [
      "Epoch 30: train=2.35206, val=2.27439, took 43.671 s\n",
      "  Validation Found 8870 of 10819, added 987 (eff 81.99%) (0.493 FP/event)\n"
     ]
    },
    {
     "data": {
      "application/vnd.jupyter.widget-view+json": {
       "model_id": "",
       "version_major": 2,
       "version_minor": 0
      },
      "text/plain": [
       "HBox(children=(FloatProgress(value=0.0, description='Training', layout=Layout(flex='2'), max=1125.0, style=Pro…"
      ]
     },
     "metadata": {},
     "output_type": "display_data"
    },
    {
     "name": "stdout",
     "output_type": "stream",
     "text": [
      "Epoch 31: train=2.35011, val=2.27451, took 43.518 s\n",
      "  Validation Found 8861 of 10819, added 987 (eff 81.90%) (0.493 FP/event)\n"
     ]
    },
    {
     "data": {
      "application/vnd.jupyter.widget-view+json": {
       "model_id": "",
       "version_major": 2,
       "version_minor": 0
      },
      "text/plain": [
       "HBox(children=(FloatProgress(value=0.0, description='Training', layout=Layout(flex='2'), max=1125.0, style=Pro…"
      ]
     },
     "metadata": {},
     "output_type": "display_data"
    },
    {
     "name": "stdout",
     "output_type": "stream",
     "text": [
      "Epoch 32: train=2.34977, val=2.272, took 43.911 s\n",
      "  Validation Found 8870 of 10819, added 987 (eff 81.99%) (0.493 FP/event)\n"
     ]
    },
    {
     "data": {
      "application/vnd.jupyter.widget-view+json": {
       "model_id": "",
       "version_major": 2,
       "version_minor": 0
      },
      "text/plain": [
       "HBox(children=(FloatProgress(value=0.0, description='Training', layout=Layout(flex='2'), max=1125.0, style=Pro…"
      ]
     },
     "metadata": {},
     "output_type": "display_data"
    },
    {
     "name": "stdout",
     "output_type": "stream",
     "text": [
      "Epoch 33: train=2.35241, val=2.27143, took 43.923 s\n",
      "  Validation Found 8872 of 10819, added 991 (eff 82.00%) (0.495 FP/event)\n"
     ]
    },
    {
     "data": {
      "application/vnd.jupyter.widget-view+json": {
       "model_id": "",
       "version_major": 2,
       "version_minor": 0
      },
      "text/plain": [
       "HBox(children=(FloatProgress(value=0.0, description='Training', layout=Layout(flex='2'), max=1125.0, style=Pro…"
      ]
     },
     "metadata": {},
     "output_type": "display_data"
    },
    {
     "name": "stdout",
     "output_type": "stream",
     "text": [
      "Epoch 34: train=2.35005, val=2.27318, took 43.838 s\n",
      "  Validation Found 8854 of 10819, added 993 (eff 81.84%) (0.496 FP/event)\n"
     ]
    },
    {
     "data": {
      "application/vnd.jupyter.widget-view+json": {
       "model_id": "",
       "version_major": 2,
       "version_minor": 0
      },
      "text/plain": [
       "HBox(children=(FloatProgress(value=0.0, description='Training', layout=Layout(flex='2'), max=1125.0, style=Pro…"
      ]
     },
     "metadata": {},
     "output_type": "display_data"
    },
    {
     "name": "stdout",
     "output_type": "stream",
     "text": [
      "Epoch 35: train=2.34873, val=2.27365, took 43.815 s\n",
      "  Validation Found 8867 of 10819, added 990 (eff 81.96%) (0.495 FP/event)\n"
     ]
    },
    {
     "data": {
      "application/vnd.jupyter.widget-view+json": {
       "model_id": "",
       "version_major": 2,
       "version_minor": 0
      },
      "text/plain": [
       "HBox(children=(FloatProgress(value=0.0, description='Training', layout=Layout(flex='2'), max=1125.0, style=Pro…"
      ]
     },
     "metadata": {},
     "output_type": "display_data"
    },
    {
     "name": "stdout",
     "output_type": "stream",
     "text": [
      "Epoch 36: train=2.34582, val=2.27077, took 44.013 s\n",
      "  Validation Found 8872 of 10819, added 987 (eff 82.00%) (0.493 FP/event)\n"
     ]
    },
    {
     "data": {
      "application/vnd.jupyter.widget-view+json": {
       "model_id": "",
       "version_major": 2,
       "version_minor": 0
      },
      "text/plain": [
       "HBox(children=(FloatProgress(value=0.0, description='Training', layout=Layout(flex='2'), max=1125.0, style=Pro…"
      ]
     },
     "metadata": {},
     "output_type": "display_data"
    },
    {
     "name": "stdout",
     "output_type": "stream",
     "text": [
      "Epoch 37: train=2.34705, val=2.27104, took 43.677 s\n",
      "  Validation Found 8869 of 10819, added 996 (eff 81.98%) (0.498 FP/event)\n"
     ]
    },
    {
     "data": {
      "application/vnd.jupyter.widget-view+json": {
       "model_id": "",
       "version_major": 2,
       "version_minor": 0
      },
      "text/plain": [
       "HBox(children=(FloatProgress(value=0.0, description='Training', layout=Layout(flex='2'), max=1125.0, style=Pro…"
      ]
     },
     "metadata": {},
     "output_type": "display_data"
    },
    {
     "name": "stdout",
     "output_type": "stream",
     "text": [
      "Epoch 38: train=2.34623, val=2.27013, took 43.622 s\n",
      "  Validation Found 8870 of 10819, added 995 (eff 81.99%) (0.497 FP/event)\n"
     ]
    },
    {
     "data": {
      "application/vnd.jupyter.widget-view+json": {
       "model_id": "",
       "version_major": 2,
       "version_minor": 0
      },
      "text/plain": [
       "HBox(children=(FloatProgress(value=0.0, description='Training', layout=Layout(flex='2'), max=1125.0, style=Pro…"
      ]
     },
     "metadata": {},
     "output_type": "display_data"
    },
    {
     "name": "stdout",
     "output_type": "stream",
     "text": [
      "Epoch 39: train=2.34808, val=2.27111, took 43.937 s\n",
      "  Validation Found 8864 of 10819, added 988 (eff 81.93%) (0.494 FP/event)\n"
     ]
    },
    {
     "data": {
      "application/vnd.jupyter.widget-view+json": {
       "model_id": "",
       "version_major": 2,
       "version_minor": 0
      },
      "text/plain": [
       "HBox(children=(FloatProgress(value=0.0, description='Training', layout=Layout(flex='2'), max=1125.0, style=Pro…"
      ]
     },
     "metadata": {},
     "output_type": "display_data"
    },
    {
     "name": "stdout",
     "output_type": "stream",
     "text": [
      "Epoch 40: train=2.34336, val=2.27158, took 43.769 s\n",
      "  Validation Found 8865 of 10819, added 990 (eff 81.94%) (0.495 FP/event)\n"
     ]
    },
    {
     "data": {
      "application/vnd.jupyter.widget-view+json": {
       "model_id": "",
       "version_major": 2,
       "version_minor": 0
      },
      "text/plain": [
       "HBox(children=(FloatProgress(value=0.0, description='Training', layout=Layout(flex='2'), max=1125.0, style=Pro…"
      ]
     },
     "metadata": {},
     "output_type": "display_data"
    },
    {
     "name": "stdout",
     "output_type": "stream",
     "text": [
      "Epoch 41: train=2.3467, val=2.26927, took 43.766 s\n",
      "  Validation Found 8872 of 10819, added 986 (eff 82.00%) (0.493 FP/event)\n"
     ]
    },
    {
     "data": {
      "application/vnd.jupyter.widget-view+json": {
       "model_id": "",
       "version_major": 2,
       "version_minor": 0
      },
      "text/plain": [
       "HBox(children=(FloatProgress(value=0.0, description='Training', layout=Layout(flex='2'), max=1125.0, style=Pro…"
      ]
     },
     "metadata": {},
     "output_type": "display_data"
    },
    {
     "name": "stdout",
     "output_type": "stream",
     "text": [
      "Epoch 42: train=2.35008, val=2.26885, took 43.679 s\n",
      "  Validation Found 8879 of 10819, added 992 (eff 82.07%) (0.496 FP/event)\n"
     ]
    },
    {
     "data": {
      "application/vnd.jupyter.widget-view+json": {
       "model_id": "",
       "version_major": 2,
       "version_minor": 0
      },
      "text/plain": [
       "HBox(children=(FloatProgress(value=0.0, description='Training', layout=Layout(flex='2'), max=1125.0, style=Pro…"
      ]
     },
     "metadata": {},
     "output_type": "display_data"
    },
    {
     "name": "stdout",
     "output_type": "stream",
     "text": [
      "Epoch 43: train=2.34777, val=2.26895, took 43.707 s\n",
      "  Validation Found 8873 of 10819, added 1002 (eff 82.01%) (0.501 FP/event)\n"
     ]
    },
    {
     "data": {
      "application/vnd.jupyter.widget-view+json": {
       "model_id": "",
       "version_major": 2,
       "version_minor": 0
      },
      "text/plain": [
       "HBox(children=(FloatProgress(value=0.0, description='Training', layout=Layout(flex='2'), max=1125.0, style=Pro…"
      ]
     },
     "metadata": {},
     "output_type": "display_data"
    },
    {
     "name": "stdout",
     "output_type": "stream",
     "text": [
      "Epoch 44: train=2.34396, val=2.26822, took 43.67 s\n",
      "  Validation Found 8877 of 10819, added 998 (eff 82.05%) (0.499 FP/event)\n"
     ]
    },
    {
     "data": {
      "application/vnd.jupyter.widget-view+json": {
       "model_id": "",
       "version_major": 2,
       "version_minor": 0
      },
      "text/plain": [
       "HBox(children=(FloatProgress(value=0.0, description='Training', layout=Layout(flex='2'), max=1125.0, style=Pro…"
      ]
     },
     "metadata": {},
     "output_type": "display_data"
    },
    {
     "name": "stdout",
     "output_type": "stream",
     "text": [
      "Epoch 45: train=2.34702, val=2.26731, took 43.805 s\n",
      "  Validation Found 8884 of 10819, added 993 (eff 82.11%) (0.496 FP/event)\n"
     ]
    },
    {
     "data": {
      "application/vnd.jupyter.widget-view+json": {
       "model_id": "",
       "version_major": 2,
       "version_minor": 0
      },
      "text/plain": [
       "HBox(children=(FloatProgress(value=0.0, description='Training', layout=Layout(flex='2'), max=1125.0, style=Pro…"
      ]
     },
     "metadata": {},
     "output_type": "display_data"
    },
    {
     "name": "stdout",
     "output_type": "stream",
     "text": [
      "Epoch 46: train=2.34553, val=2.26798, took 43.703 s\n",
      "  Validation Found 8877 of 10819, added 997 (eff 82.05%) (0.498 FP/event)\n"
     ]
    },
    {
     "data": {
      "application/vnd.jupyter.widget-view+json": {
       "model_id": "",
       "version_major": 2,
       "version_minor": 0
      },
      "text/plain": [
       "HBox(children=(FloatProgress(value=0.0, description='Training', layout=Layout(flex='2'), max=1125.0, style=Pro…"
      ]
     },
     "metadata": {},
     "output_type": "display_data"
    },
    {
     "name": "stdout",
     "output_type": "stream",
     "text": [
      "Epoch 47: train=2.34331, val=2.26784, took 43.663 s\n",
      "  Validation Found 8873 of 10819, added 996 (eff 82.01%) (0.498 FP/event)\n"
     ]
    },
    {
     "data": {
      "application/vnd.jupyter.widget-view+json": {
       "model_id": "",
       "version_major": 2,
       "version_minor": 0
      },
      "text/plain": [
       "HBox(children=(FloatProgress(value=0.0, description='Training', layout=Layout(flex='2'), max=1125.0, style=Pro…"
      ]
     },
     "metadata": {},
     "output_type": "display_data"
    },
    {
     "name": "stdout",
     "output_type": "stream",
     "text": [
      "Epoch 48: train=2.34648, val=2.26964, took 43.972 s\n",
      "  Validation Found 8874 of 10819, added 1001 (eff 82.02%) (0.5 FP/event)\n"
     ]
    },
    {
     "data": {
      "application/vnd.jupyter.widget-view+json": {
       "model_id": "",
       "version_major": 2,
       "version_minor": 0
      },
      "text/plain": [
       "HBox(children=(FloatProgress(value=0.0, description='Training', layout=Layout(flex='2'), max=1125.0, style=Pro…"
      ]
     },
     "metadata": {},
     "output_type": "display_data"
    },
    {
     "name": "stdout",
     "output_type": "stream",
     "text": [
      "Epoch 49: train=2.34526, val=2.26845, took 43.522 s\n",
      "  Validation Found 8874 of 10819, added 992 (eff 82.02%) (0.496 FP/event)\n"
     ]
    },
    {
     "data": {
      "application/vnd.jupyter.widget-view+json": {
       "model_id": "",
       "version_major": 2,
       "version_minor": 0
      },
      "text/plain": [
       "HBox(children=(FloatProgress(value=0.0, description='Training', layout=Layout(flex='2'), max=1125.0, style=Pro…"
      ]
     },
     "metadata": {},
     "output_type": "display_data"
    },
    {
     "name": "stdout",
     "output_type": "stream",
     "text": [
      "Epoch 50: train=2.34722, val=2.2666, took 43.6 s\n",
      "  Validation Found 8872 of 10819, added 998 (eff 82.00%) (0.499 FP/event)\n"
     ]
    },
    {
     "data": {
      "application/vnd.jupyter.widget-view+json": {
       "model_id": "",
       "version_major": 2,
       "version_minor": 0
      },
      "text/plain": [
       "HBox(children=(FloatProgress(value=0.0, description='Training', layout=Layout(flex='2'), max=1125.0, style=Pro…"
      ]
     },
     "metadata": {},
     "output_type": "display_data"
    },
    {
     "name": "stdout",
     "output_type": "stream",
     "text": [
      "Epoch 51: train=2.34539, val=2.26801, took 43.682 s\n",
      "  Validation Found 8877 of 10819, added 994 (eff 82.05%) (0.497 FP/event)\n"
     ]
    },
    {
     "data": {
      "application/vnd.jupyter.widget-view+json": {
       "model_id": "",
       "version_major": 2,
       "version_minor": 0
      },
      "text/plain": [
       "HBox(children=(FloatProgress(value=0.0, description='Training', layout=Layout(flex='2'), max=1125.0, style=Pro…"
      ]
     },
     "metadata": {},
     "output_type": "display_data"
    },
    {
     "name": "stdout",
     "output_type": "stream",
     "text": [
      "Epoch 52: train=2.33828, val=2.26588, took 43.887 s\n",
      "  Validation Found 8875 of 10819, added 1002 (eff 82.03%) (0.501 FP/event)\n"
     ]
    },
    {
     "data": {
      "application/vnd.jupyter.widget-view+json": {
       "model_id": "",
       "version_major": 2,
       "version_minor": 0
      },
      "text/plain": [
       "HBox(children=(FloatProgress(value=0.0, description='Training', layout=Layout(flex='2'), max=1125.0, style=Pro…"
      ]
     },
     "metadata": {},
     "output_type": "display_data"
    },
    {
     "name": "stdout",
     "output_type": "stream",
     "text": [
      "Epoch 53: train=2.3414, val=2.26529, took 43.759 s\n",
      "  Validation Found 8882 of 10819, added 997 (eff 82.10%) (0.498 FP/event)\n"
     ]
    },
    {
     "data": {
      "application/vnd.jupyter.widget-view+json": {
       "model_id": "",
       "version_major": 2,
       "version_minor": 0
      },
      "text/plain": [
       "HBox(children=(FloatProgress(value=0.0, description='Training', layout=Layout(flex='2'), max=1125.0, style=Pro…"
      ]
     },
     "metadata": {},
     "output_type": "display_data"
    },
    {
     "name": "stdout",
     "output_type": "stream",
     "text": [
      "Epoch 54: train=2.33987, val=2.26565, took 43.671 s\n",
      "  Validation Found 8879 of 10819, added 996 (eff 82.07%) (0.498 FP/event)\n"
     ]
    },
    {
     "data": {
      "application/vnd.jupyter.widget-view+json": {
       "model_id": "",
       "version_major": 2,
       "version_minor": 0
      },
      "text/plain": [
       "HBox(children=(FloatProgress(value=0.0, description='Training', layout=Layout(flex='2'), max=1125.0, style=Pro…"
      ]
     },
     "metadata": {},
     "output_type": "display_data"
    },
    {
     "name": "stdout",
     "output_type": "stream",
     "text": [
      "Epoch 55: train=2.34412, val=2.26603, took 43.903 s\n",
      "  Validation Found 8874 of 10819, added 997 (eff 82.02%) (0.498 FP/event)\n"
     ]
    },
    {
     "data": {
      "application/vnd.jupyter.widget-view+json": {
       "model_id": "",
       "version_major": 2,
       "version_minor": 0
      },
      "text/plain": [
       "HBox(children=(FloatProgress(value=0.0, description='Training', layout=Layout(flex='2'), max=1125.0, style=Pro…"
      ]
     },
     "metadata": {},
     "output_type": "display_data"
    },
    {
     "name": "stdout",
     "output_type": "stream",
     "text": [
      "Epoch 56: train=2.34112, val=2.26525, took 43.852 s\n",
      "  Validation Found 8876 of 10819, added 999 (eff 82.04%) (0.499 FP/event)\n"
     ]
    },
    {
     "data": {
      "application/vnd.jupyter.widget-view+json": {
       "model_id": "",
       "version_major": 2,
       "version_minor": 0
      },
      "text/plain": [
       "HBox(children=(FloatProgress(value=0.0, description='Training', layout=Layout(flex='2'), max=1125.0, style=Pro…"
      ]
     },
     "metadata": {},
     "output_type": "display_data"
    },
    {
     "name": "stdout",
     "output_type": "stream",
     "text": [
      "Epoch 57: train=2.34232, val=2.26363, took 43.898 s\n",
      "  Validation Found 8874 of 10819, added 996 (eff 82.02%) (0.498 FP/event)\n"
     ]
    },
    {
     "data": {
      "application/vnd.jupyter.widget-view+json": {
       "model_id": "",
       "version_major": 2,
       "version_minor": 0
      },
      "text/plain": [
       "HBox(children=(FloatProgress(value=0.0, description='Training', layout=Layout(flex='2'), max=1125.0, style=Pro…"
      ]
     },
     "metadata": {},
     "output_type": "display_data"
    },
    {
     "name": "stdout",
     "output_type": "stream",
     "text": [
      "Epoch 58: train=2.34177, val=2.26303, took 43.739 s\n",
      "  Validation Found 8882 of 10819, added 994 (eff 82.10%) (0.497 FP/event)\n"
     ]
    },
    {
     "data": {
      "application/vnd.jupyter.widget-view+json": {
       "model_id": "",
       "version_major": 2,
       "version_minor": 0
      },
      "text/plain": [
       "HBox(children=(FloatProgress(value=0.0, description='Training', layout=Layout(flex='2'), max=1125.0, style=Pro…"
      ]
     },
     "metadata": {},
     "output_type": "display_data"
    },
    {
     "name": "stdout",
     "output_type": "stream",
     "text": [
      "Epoch 59: train=2.33827, val=2.26303, took 43.612 s\n",
      "  Validation Found 8879 of 10819, added 998 (eff 82.07%) (0.499 FP/event)\n"
     ]
    },
    {
     "data": {
      "application/vnd.jupyter.widget-view+json": {
       "model_id": "",
       "version_major": 2,
       "version_minor": 0
      },
      "text/plain": [
       "HBox(children=(FloatProgress(value=0.0, description='Training', layout=Layout(flex='2'), max=1125.0, style=Pro…"
      ]
     },
     "metadata": {},
     "output_type": "display_data"
    },
    {
     "name": "stdout",
     "output_type": "stream",
     "text": [
      "Epoch 60: train=2.33642, val=2.26364, took 43.634 s\n",
      "  Validation Found 8885 of 10819, added 996 (eff 82.12%) (0.498 FP/event)\n"
     ]
    },
    {
     "data": {
      "application/vnd.jupyter.widget-view+json": {
       "model_id": "",
       "version_major": 2,
       "version_minor": 0
      },
      "text/plain": [
       "HBox(children=(FloatProgress(value=0.0, description='Training', layout=Layout(flex='2'), max=1125.0, style=Pro…"
      ]
     },
     "metadata": {},
     "output_type": "display_data"
    },
    {
     "name": "stdout",
     "output_type": "stream",
     "text": [
      "Epoch 61: train=2.34029, val=2.26263, took 43.567 s\n",
      "  Validation Found 8873 of 10819, added 1003 (eff 82.01%) (0.501 FP/event)\n"
     ]
    },
    {
     "data": {
      "application/vnd.jupyter.widget-view+json": {
       "model_id": "",
       "version_major": 2,
       "version_minor": 0
      },
      "text/plain": [
       "HBox(children=(FloatProgress(value=0.0, description='Training', layout=Layout(flex='2'), max=1125.0, style=Pro…"
      ]
     },
     "metadata": {},
     "output_type": "display_data"
    },
    {
     "name": "stdout",
     "output_type": "stream",
     "text": [
      "Epoch 62: train=2.34011, val=2.26394, took 43.645 s\n",
      "  Validation Found 8880 of 10819, added 999 (eff 82.08%) (0.499 FP/event)\n"
     ]
    },
    {
     "data": {
      "application/vnd.jupyter.widget-view+json": {
       "model_id": "",
       "version_major": 2,
       "version_minor": 0
      },
      "text/plain": [
       "HBox(children=(FloatProgress(value=0.0, description='Training', layout=Layout(flex='2'), max=1125.0, style=Pro…"
      ]
     },
     "metadata": {},
     "output_type": "display_data"
    },
    {
     "name": "stdout",
     "output_type": "stream",
     "text": [
      "Epoch 63: train=2.33966, val=2.26214, took 43.792 s\n",
      "  Validation Found 8886 of 10819, added 1002 (eff 82.13%) (0.501 FP/event)\n"
     ]
    },
    {
     "data": {
      "application/vnd.jupyter.widget-view+json": {
       "model_id": "",
       "version_major": 2,
       "version_minor": 0
      },
      "text/plain": [
       "HBox(children=(FloatProgress(value=0.0, description='Training', layout=Layout(flex='2'), max=1125.0, style=Pro…"
      ]
     },
     "metadata": {},
     "output_type": "display_data"
    },
    {
     "name": "stdout",
     "output_type": "stream",
     "text": [
      "Epoch 64: train=2.34096, val=2.26496, took 43.868 s\n",
      "  Validation Found 8881 of 10819, added 1002 (eff 82.09%) (0.501 FP/event)\n"
     ]
    },
    {
     "data": {
      "application/vnd.jupyter.widget-view+json": {
       "model_id": "",
       "version_major": 2,
       "version_minor": 0
      },
      "text/plain": [
       "HBox(children=(FloatProgress(value=0.0, description='Training', layout=Layout(flex='2'), max=1125.0, style=Pro…"
      ]
     },
     "metadata": {},
     "output_type": "display_data"
    },
    {
     "name": "stdout",
     "output_type": "stream",
     "text": [
      "Epoch 65: train=2.33718, val=2.26175, took 43.905 s\n",
      "  Validation Found 8882 of 10819, added 1000 (eff 82.10%) (0.5 FP/event)\n"
     ]
    },
    {
     "data": {
      "application/vnd.jupyter.widget-view+json": {
       "model_id": "",
       "version_major": 2,
       "version_minor": 0
      },
      "text/plain": [
       "HBox(children=(FloatProgress(value=0.0, description='Training', layout=Layout(flex='2'), max=1125.0, style=Pro…"
      ]
     },
     "metadata": {},
     "output_type": "display_data"
    },
    {
     "name": "stdout",
     "output_type": "stream",
     "text": [
      "Epoch 66: train=2.33834, val=2.26184, took 43.804 s\n",
      "  Validation Found 8883 of 10819, added 1002 (eff 82.11%) (0.501 FP/event)\n"
     ]
    },
    {
     "data": {
      "application/vnd.jupyter.widget-view+json": {
       "model_id": "",
       "version_major": 2,
       "version_minor": 0
      },
      "text/plain": [
       "HBox(children=(FloatProgress(value=0.0, description='Training', layout=Layout(flex='2'), max=1125.0, style=Pro…"
      ]
     },
     "metadata": {},
     "output_type": "display_data"
    },
    {
     "name": "stdout",
     "output_type": "stream",
     "text": [
      "Epoch 67: train=2.33792, val=2.26102, took 43.691 s\n",
      "  Validation Found 8884 of 10819, added 1007 (eff 82.11%) (0.503 FP/event)\n"
     ]
    },
    {
     "data": {
      "application/vnd.jupyter.widget-view+json": {
       "model_id": "",
       "version_major": 2,
       "version_minor": 0
      },
      "text/plain": [
       "HBox(children=(FloatProgress(value=0.0, description='Training', layout=Layout(flex='2'), max=1125.0, style=Pro…"
      ]
     },
     "metadata": {},
     "output_type": "display_data"
    },
    {
     "name": "stdout",
     "output_type": "stream",
     "text": [
      "Epoch 68: train=2.33805, val=2.26133, took 43.95 s\n",
      "  Validation Found 8885 of 10819, added 1004 (eff 82.12%) (0.502 FP/event)\n"
     ]
    },
    {
     "data": {
      "application/vnd.jupyter.widget-view+json": {
       "model_id": "",
       "version_major": 2,
       "version_minor": 0
      },
      "text/plain": [
       "HBox(children=(FloatProgress(value=0.0, description='Training', layout=Layout(flex='2'), max=1125.0, style=Pro…"
      ]
     },
     "metadata": {},
     "output_type": "display_data"
    },
    {
     "name": "stdout",
     "output_type": "stream",
     "text": [
      "Epoch 69: train=2.33387, val=2.26064, took 43.917 s\n",
      "  Validation Found 8881 of 10819, added 1003 (eff 82.09%) (0.501 FP/event)\n"
     ]
    },
    {
     "data": {
      "application/vnd.jupyter.widget-view+json": {
       "model_id": "",
       "version_major": 2,
       "version_minor": 0
      },
      "text/plain": [
       "HBox(children=(FloatProgress(value=0.0, description='Training', layout=Layout(flex='2'), max=1125.0, style=Pro…"
      ]
     },
     "metadata": {},
     "output_type": "display_data"
    },
    {
     "name": "stdout",
     "output_type": "stream",
     "text": [
      "Epoch 70: train=2.33625, val=2.26145, took 43.75 s\n",
      "  Validation Found 8889 of 10819, added 1002 (eff 82.16%) (0.501 FP/event)\n"
     ]
    },
    {
     "data": {
      "application/vnd.jupyter.widget-view+json": {
       "model_id": "",
       "version_major": 2,
       "version_minor": 0
      },
      "text/plain": [
       "HBox(children=(FloatProgress(value=0.0, description='Training', layout=Layout(flex='2'), max=1125.0, style=Pro…"
      ]
     },
     "metadata": {},
     "output_type": "display_data"
    },
    {
     "name": "stdout",
     "output_type": "stream",
     "text": [
      "Epoch 71: train=2.33745, val=2.26136, took 43.906 s\n",
      "  Validation Found 8886 of 10819, added 1003 (eff 82.13%) (0.501 FP/event)\n"
     ]
    },
    {
     "data": {
      "application/vnd.jupyter.widget-view+json": {
       "model_id": "",
       "version_major": 2,
       "version_minor": 0
      },
      "text/plain": [
       "HBox(children=(FloatProgress(value=0.0, description='Training', layout=Layout(flex='2'), max=1125.0, style=Pro…"
      ]
     },
     "metadata": {},
     "output_type": "display_data"
    },
    {
     "name": "stdout",
     "output_type": "stream",
     "text": [
      "Epoch 72: train=2.33542, val=2.26054, took 43.724 s\n",
      "  Validation Found 8881 of 10819, added 1004 (eff 82.09%) (0.502 FP/event)\n"
     ]
    },
    {
     "data": {
      "application/vnd.jupyter.widget-view+json": {
       "model_id": "",
       "version_major": 2,
       "version_minor": 0
      },
      "text/plain": [
       "HBox(children=(FloatProgress(value=0.0, description='Training', layout=Layout(flex='2'), max=1125.0, style=Pro…"
      ]
     },
     "metadata": {},
     "output_type": "display_data"
    },
    {
     "name": "stdout",
     "output_type": "stream",
     "text": [
      "Epoch 73: train=2.33629, val=2.26042, took 43.809 s\n",
      "  Validation Found 8885 of 10819, added 1002 (eff 82.12%) (0.501 FP/event)\n"
     ]
    },
    {
     "data": {
      "application/vnd.jupyter.widget-view+json": {
       "model_id": "",
       "version_major": 2,
       "version_minor": 0
      },
      "text/plain": [
       "HBox(children=(FloatProgress(value=0.0, description='Training', layout=Layout(flex='2'), max=1125.0, style=Pro…"
      ]
     },
     "metadata": {},
     "output_type": "display_data"
    },
    {
     "name": "stdout",
     "output_type": "stream",
     "text": [
      "Epoch 74: train=2.33864, val=2.25998, took 43.772 s\n",
      "  Validation Found 8876 of 10819, added 1006 (eff 82.04%) (0.503 FP/event)\n"
     ]
    },
    {
     "data": {
      "application/vnd.jupyter.widget-view+json": {
       "model_id": "",
       "version_major": 2,
       "version_minor": 0
      },
      "text/plain": [
       "HBox(children=(FloatProgress(value=0.0, description='Training', layout=Layout(flex='2'), max=1125.0, style=Pro…"
      ]
     },
     "metadata": {},
     "output_type": "display_data"
    },
    {
     "name": "stdout",
     "output_type": "stream",
     "text": [
      "Epoch 75: train=2.33588, val=2.25995, took 43.637 s\n",
      "  Validation Found 8889 of 10819, added 1007 (eff 82.16%) (0.503 FP/event)\n"
     ]
    },
    {
     "data": {
      "application/vnd.jupyter.widget-view+json": {
       "model_id": "",
       "version_major": 2,
       "version_minor": 0
      },
      "text/plain": [
       "HBox(children=(FloatProgress(value=0.0, description='Training', layout=Layout(flex='2'), max=1125.0, style=Pro…"
      ]
     },
     "metadata": {},
     "output_type": "display_data"
    },
    {
     "name": "stdout",
     "output_type": "stream",
     "text": [
      "Epoch 76: train=2.3328, val=2.26509, took 43.675 s\n",
      "  Validation Found 8872 of 10819, added 1000 (eff 82.00%) (0.5 FP/event)\n"
     ]
    },
    {
     "data": {
      "application/vnd.jupyter.widget-view+json": {
       "model_id": "",
       "version_major": 2,
       "version_minor": 0
      },
      "text/plain": [
       "HBox(children=(FloatProgress(value=0.0, description='Training', layout=Layout(flex='2'), max=1125.0, style=Pro…"
      ]
     },
     "metadata": {},
     "output_type": "display_data"
    },
    {
     "name": "stdout",
     "output_type": "stream",
     "text": [
      "Epoch 77: train=2.33697, val=2.25886, took 43.793 s\n",
      "  Validation Found 8885 of 10819, added 1007 (eff 82.12%) (0.503 FP/event)\n"
     ]
    },
    {
     "data": {
      "application/vnd.jupyter.widget-view+json": {
       "model_id": "",
       "version_major": 2,
       "version_minor": 0
      },
      "text/plain": [
       "HBox(children=(FloatProgress(value=0.0, description='Training', layout=Layout(flex='2'), max=1125.0, style=Pro…"
      ]
     },
     "metadata": {},
     "output_type": "display_data"
    },
    {
     "name": "stdout",
     "output_type": "stream",
     "text": [
      "Epoch 78: train=2.33494, val=2.25843, took 43.846 s\n",
      "  Validation Found 8883 of 10819, added 1005 (eff 82.11%) (0.502 FP/event)\n"
     ]
    },
    {
     "data": {
      "application/vnd.jupyter.widget-view+json": {
       "model_id": "",
       "version_major": 2,
       "version_minor": 0
      },
      "text/plain": [
       "HBox(children=(FloatProgress(value=0.0, description='Training', layout=Layout(flex='2'), max=1125.0, style=Pro…"
      ]
     },
     "metadata": {},
     "output_type": "display_data"
    },
    {
     "name": "stdout",
     "output_type": "stream",
     "text": [
      "Epoch 79: train=2.33304, val=2.25918, took 43.96 s\n",
      "  Validation Found 8884 of 10819, added 1010 (eff 82.11%) (0.505 FP/event)\n"
     ]
    },
    {
     "data": {
      "application/vnd.jupyter.widget-view+json": {
       "model_id": "",
       "version_major": 2,
       "version_minor": 0
      },
      "text/plain": [
       "HBox(children=(FloatProgress(value=0.0, description='Training', layout=Layout(flex='2'), max=1125.0, style=Pro…"
      ]
     },
     "metadata": {},
     "output_type": "display_data"
    },
    {
     "name": "stdout",
     "output_type": "stream",
     "text": [
      "Epoch 80: train=2.33738, val=2.25792, took 43.936 s\n",
      "  Validation Found 8887 of 10819, added 1007 (eff 82.14%) (0.503 FP/event)\n"
     ]
    },
    {
     "data": {
      "application/vnd.jupyter.widget-view+json": {
       "model_id": "",
       "version_major": 2,
       "version_minor": 0
      },
      "text/plain": [
       "HBox(children=(FloatProgress(value=0.0, description='Training', layout=Layout(flex='2'), max=1125.0, style=Pro…"
      ]
     },
     "metadata": {},
     "output_type": "display_data"
    },
    {
     "name": "stdout",
     "output_type": "stream",
     "text": [
      "Epoch 81: train=2.33305, val=2.25811, took 44.177 s\n",
      "  Validation Found 8888 of 10819, added 1004 (eff 82.15%) (0.502 FP/event)\n"
     ]
    },
    {
     "data": {
      "application/vnd.jupyter.widget-view+json": {
       "model_id": "",
       "version_major": 2,
       "version_minor": 0
      },
      "text/plain": [
       "HBox(children=(FloatProgress(value=0.0, description='Training', layout=Layout(flex='2'), max=1125.0, style=Pro…"
      ]
     },
     "metadata": {},
     "output_type": "display_data"
    },
    {
     "name": "stdout",
     "output_type": "stream",
     "text": [
      "Epoch 82: train=2.33251, val=2.26037, took 43.69 s\n",
      "  Validation Found 8889 of 10819, added 1007 (eff 82.16%) (0.503 FP/event)\n"
     ]
    },
    {
     "data": {
      "application/vnd.jupyter.widget-view+json": {
       "model_id": "",
       "version_major": 2,
       "version_minor": 0
      },
      "text/plain": [
       "HBox(children=(FloatProgress(value=0.0, description='Training', layout=Layout(flex='2'), max=1125.0, style=Pro…"
      ]
     },
     "metadata": {},
     "output_type": "display_data"
    },
    {
     "name": "stdout",
     "output_type": "stream",
     "text": [
      "Epoch 83: train=2.3351, val=2.25775, took 43.737 s\n",
      "  Validation Found 8892 of 10819, added 1005 (eff 82.19%) (0.502 FP/event)\n"
     ]
    },
    {
     "data": {
      "application/vnd.jupyter.widget-view+json": {
       "model_id": "",
       "version_major": 2,
       "version_minor": 0
      },
      "text/plain": [
       "HBox(children=(FloatProgress(value=0.0, description='Training', layout=Layout(flex='2'), max=1125.0, style=Pro…"
      ]
     },
     "metadata": {},
     "output_type": "display_data"
    },
    {
     "name": "stdout",
     "output_type": "stream",
     "text": [
      "Epoch 84: train=2.3298, val=2.25713, took 43.622 s\n",
      "  Validation Found 8892 of 10819, added 1005 (eff 82.19%) (0.502 FP/event)\n"
     ]
    },
    {
     "data": {
      "application/vnd.jupyter.widget-view+json": {
       "model_id": "",
       "version_major": 2,
       "version_minor": 0
      },
      "text/plain": [
       "HBox(children=(FloatProgress(value=0.0, description='Training', layout=Layout(flex='2'), max=1125.0, style=Pro…"
      ]
     },
     "metadata": {},
     "output_type": "display_data"
    },
    {
     "name": "stdout",
     "output_type": "stream",
     "text": [
      "Epoch 85: train=2.33365, val=2.2563, took 43.768 s\n",
      "  Validation Found 8895 of 10819, added 1001 (eff 82.22%) (0.5 FP/event)\n"
     ]
    },
    {
     "data": {
      "application/vnd.jupyter.widget-view+json": {
       "model_id": "",
       "version_major": 2,
       "version_minor": 0
      },
      "text/plain": [
       "HBox(children=(FloatProgress(value=0.0, description='Training', layout=Layout(flex='2'), max=1125.0, style=Pro…"
      ]
     },
     "metadata": {},
     "output_type": "display_data"
    },
    {
     "name": "stdout",
     "output_type": "stream",
     "text": [
      "Epoch 86: train=2.33083, val=2.25582, took 43.492 s\n",
      "  Validation Found 8891 of 10819, added 1005 (eff 82.18%) (0.502 FP/event)\n"
     ]
    },
    {
     "data": {
      "application/vnd.jupyter.widget-view+json": {
       "model_id": "",
       "version_major": 2,
       "version_minor": 0
      },
      "text/plain": [
       "HBox(children=(FloatProgress(value=0.0, description='Training', layout=Layout(flex='2'), max=1125.0, style=Pro…"
      ]
     },
     "metadata": {},
     "output_type": "display_data"
    },
    {
     "name": "stdout",
     "output_type": "stream",
     "text": [
      "Epoch 87: train=2.33118, val=2.25599, took 43.581 s\n",
      "  Validation Found 8892 of 10819, added 1010 (eff 82.19%) (0.505 FP/event)\n"
     ]
    },
    {
     "data": {
      "application/vnd.jupyter.widget-view+json": {
       "model_id": "",
       "version_major": 2,
       "version_minor": 0
      },
      "text/plain": [
       "HBox(children=(FloatProgress(value=0.0, description='Training', layout=Layout(flex='2'), max=1125.0, style=Pro…"
      ]
     },
     "metadata": {},
     "output_type": "display_data"
    },
    {
     "name": "stdout",
     "output_type": "stream",
     "text": [
      "Epoch 88: train=2.33312, val=2.25527, took 43.767 s\n",
      "  Validation Found 8896 of 10819, added 1007 (eff 82.23%) (0.503 FP/event)\n"
     ]
    },
    {
     "data": {
      "application/vnd.jupyter.widget-view+json": {
       "model_id": "",
       "version_major": 2,
       "version_minor": 0
      },
      "text/plain": [
       "HBox(children=(FloatProgress(value=0.0, description='Training', layout=Layout(flex='2'), max=1125.0, style=Pro…"
      ]
     },
     "metadata": {},
     "output_type": "display_data"
    },
    {
     "name": "stdout",
     "output_type": "stream",
     "text": [
      "Epoch 89: train=2.32971, val=2.2549, took 43.828 s\n",
      "  Validation Found 8893 of 10819, added 1008 (eff 82.20%) (0.504 FP/event)\n"
     ]
    },
    {
     "data": {
      "application/vnd.jupyter.widget-view+json": {
       "model_id": "",
       "version_major": 2,
       "version_minor": 0
      },
      "text/plain": [
       "HBox(children=(FloatProgress(value=0.0, description='Training', layout=Layout(flex='2'), max=1125.0, style=Pro…"
      ]
     },
     "metadata": {},
     "output_type": "display_data"
    },
    {
     "name": "stdout",
     "output_type": "stream",
     "text": [
      "Epoch 90: train=2.32993, val=2.25501, took 44.068 s\n",
      "  Validation Found 8891 of 10819, added 1010 (eff 82.18%) (0.505 FP/event)\n"
     ]
    },
    {
     "data": {
      "application/vnd.jupyter.widget-view+json": {
       "model_id": "",
       "version_major": 2,
       "version_minor": 0
      },
      "text/plain": [
       "HBox(children=(FloatProgress(value=0.0, description='Training', layout=Layout(flex='2'), max=1125.0, style=Pro…"
      ]
     },
     "metadata": {},
     "output_type": "display_data"
    },
    {
     "name": "stdout",
     "output_type": "stream",
     "text": [
      "Epoch 91: train=2.33185, val=2.25543, took 43.605 s\n",
      "  Validation Found 8896 of 10819, added 1009 (eff 82.23%) (0.504 FP/event)\n"
     ]
    },
    {
     "data": {
      "application/vnd.jupyter.widget-view+json": {
       "model_id": "",
       "version_major": 2,
       "version_minor": 0
      },
      "text/plain": [
       "HBox(children=(FloatProgress(value=0.0, description='Training', layout=Layout(flex='2'), max=1125.0, style=Pro…"
      ]
     },
     "metadata": {},
     "output_type": "display_data"
    },
    {
     "name": "stdout",
     "output_type": "stream",
     "text": [
      "Epoch 92: train=2.33162, val=2.25436, took 43.78 s\n",
      "  Validation Found 8890 of 10819, added 1006 (eff 82.17%) (0.503 FP/event)\n"
     ]
    },
    {
     "data": {
      "application/vnd.jupyter.widget-view+json": {
       "model_id": "",
       "version_major": 2,
       "version_minor": 0
      },
      "text/plain": [
       "HBox(children=(FloatProgress(value=0.0, description='Training', layout=Layout(flex='2'), max=1125.0, style=Pro…"
      ]
     },
     "metadata": {},
     "output_type": "display_data"
    },
    {
     "name": "stdout",
     "output_type": "stream",
     "text": [
      "Epoch 93: train=2.33023, val=2.25426, took 43.512 s\n",
      "  Validation Found 8893 of 10819, added 1003 (eff 82.20%) (0.501 FP/event)\n"
     ]
    },
    {
     "data": {
      "application/vnd.jupyter.widget-view+json": {
       "model_id": "",
       "version_major": 2,
       "version_minor": 0
      },
      "text/plain": [
       "HBox(children=(FloatProgress(value=0.0, description='Training', layout=Layout(flex='2'), max=1125.0, style=Pro…"
      ]
     },
     "metadata": {},
     "output_type": "display_data"
    },
    {
     "name": "stdout",
     "output_type": "stream",
     "text": [
      "Epoch 94: train=2.33065, val=2.25377, took 44.315 s\n",
      "  Validation Found 8888 of 10819, added 1004 (eff 82.15%) (0.502 FP/event)\n"
     ]
    },
    {
     "data": {
      "application/vnd.jupyter.widget-view+json": {
       "model_id": "",
       "version_major": 2,
       "version_minor": 0
      },
      "text/plain": [
       "HBox(children=(FloatProgress(value=0.0, description='Training', layout=Layout(flex='2'), max=1125.0, style=Pro…"
      ]
     },
     "metadata": {},
     "output_type": "display_data"
    },
    {
     "name": "stdout",
     "output_type": "stream",
     "text": [
      "Epoch 95: train=2.32791, val=2.25388, took 43.723 s\n",
      "  Validation Found 8894 of 10819, added 1006 (eff 82.21%) (0.503 FP/event)\n"
     ]
    },
    {
     "data": {
      "application/vnd.jupyter.widget-view+json": {
       "model_id": "",
       "version_major": 2,
       "version_minor": 0
      },
      "text/plain": [
       "HBox(children=(FloatProgress(value=0.0, description='Training', layout=Layout(flex='2'), max=1125.0, style=Pro…"
      ]
     },
     "metadata": {},
     "output_type": "display_data"
    },
    {
     "name": "stdout",
     "output_type": "stream",
     "text": [
      "Epoch 96: train=2.32424, val=2.25336, took 43.702 s\n",
      "  Validation Found 8892 of 10819, added 1006 (eff 82.19%) (0.503 FP/event)\n"
     ]
    },
    {
     "data": {
      "application/vnd.jupyter.widget-view+json": {
       "model_id": "",
       "version_major": 2,
       "version_minor": 0
      },
      "text/plain": [
       "HBox(children=(FloatProgress(value=0.0, description='Training', layout=Layout(flex='2'), max=1125.0, style=Pro…"
      ]
     },
     "metadata": {},
     "output_type": "display_data"
    },
    {
     "name": "stdout",
     "output_type": "stream",
     "text": [
      "Epoch 97: train=2.32495, val=2.25318, took 43.692 s\n",
      "  Validation Found 8892 of 10819, added 1014 (eff 82.19%) (0.507 FP/event)\n"
     ]
    },
    {
     "data": {
      "application/vnd.jupyter.widget-view+json": {
       "model_id": "",
       "version_major": 2,
       "version_minor": 0
      },
      "text/plain": [
       "HBox(children=(FloatProgress(value=0.0, description='Training', layout=Layout(flex='2'), max=1125.0, style=Pro…"
      ]
     },
     "metadata": {},
     "output_type": "display_data"
    },
    {
     "name": "stdout",
     "output_type": "stream",
     "text": [
      "Epoch 98: train=2.32962, val=2.25389, took 43.653 s\n",
      "  Validation Found 8893 of 10819, added 1011 (eff 82.20%) (0.505 FP/event)\n"
     ]
    },
    {
     "data": {
      "application/vnd.jupyter.widget-view+json": {
       "model_id": "",
       "version_major": 2,
       "version_minor": 0
      },
      "text/plain": [
       "HBox(children=(FloatProgress(value=0.0, description='Training', layout=Layout(flex='2'), max=1125.0, style=Pro…"
      ]
     },
     "metadata": {},
     "output_type": "display_data"
    },
    {
     "name": "stdout",
     "output_type": "stream",
     "text": [
      "Epoch 99: train=2.32852, val=2.25363, took 43.819 s\n",
      "  Validation Found 8894 of 10819, added 1008 (eff 82.21%) (0.504 FP/event)\n",
      "\n"
     ]
    }
   ],
   "source": [
    "for result in trainNet(model, optimizer, loss,\n",
    "                        train_loader, val_loader,\n",
    "                        n_epochs, epoch_start=len(results),\n",
    "                        notebook=True):\n",
    "    \n",
    "    results = results.append(pd.Series(result._asdict()), ignore_index=True)\n",
    "    \n",
    "    xs = results.index\n",
    "##    print(\"xs = \",xs)\n",
    "    \n",
    "    # Update the plot above\n",
    "##    print(\"results.index = \",results.index,\"  results.cost\", results.cost)\n",
    "##    print(\"results.index = \",results.index,\"  results.val\", results.val)\n",
    "    lines['train'].set_data(results.index,results.cost)\n",
    "    lines['val'].set_data(results.index,results.val)\n",
    "    \n",
    "    #filter first cost epoch (can be really large)\n",
    "    max_cost = max(max(results.cost if len(results.cost)<2 else results.cost[1:]), max(results.val))\n",
    "    min_cost = min(min(results.cost), min(results.val))\n",
    "    \n",
    "    # The plot limits need updating too\n",
    "    \n",
    "    \n",
    "    \n",
    "    ax.set_ylim(min_cost*.9, max_cost*1.1)  \n",
    "    ax.set_xlim(-.5, len(results.cost) - .5)\n",
    "    \n",
    "    replace_in_ax(lax, lines['eff'], xs, results['eff_val'].apply(lambda x: x.eff_rate))\n",
    "    replace_in_ax(tax, lines['fp'], xs, results['eff_val'].apply(lambda x: x.fp_rate))\n",
    "    \n",
    "    # Redraw the figure\n",
    "    fig.canvas.draw()\n",
    "\n",
    "    # Save each model state dictionary\n",
    "    torch.save(model.state_dict(), output / f'{name}_{result.epoch}.pyt')"
   ]
  },
  {
   "cell_type": "code",
   "execution_count": 17,
   "metadata": {},
   "outputs": [],
   "source": [
    "torch.save(model.state_dict(), output / f'{name}_final.pyt')"
   ]
  },
  {
   "cell_type": "code",
   "execution_count": 18,
   "metadata": {},
   "outputs": [
    {
     "name": "stderr",
     "output_type": "stream",
     "text": [
      "/apps/miniconda3/envs/june2020-gpu/lib/python3.7/site-packages/pandas/core/generic.py:2505: PerformanceWarning: \n",
      "your performance may suffer as PyTables will pickle object types that it cannot\n",
      "map directly to c-types [inferred_type->mixed-integer,key->block1_values] [items->Index(['epoch', 'eff_val'], dtype='object')]\n",
      "\n",
      "  encoding=encoding,\n"
     ]
    }
   ],
   "source": [
    "results.to_hdf(f'{name}_stats.hdf5', 'results')"
   ]
  },
  {
   "cell_type": "code",
   "execution_count": 19,
   "metadata": {},
   "outputs": [
    {
     "data": {
      "application/javascript": [
       "/* Put everything inside the global mpl namespace */\n",
       "window.mpl = {};\n",
       "\n",
       "\n",
       "mpl.get_websocket_type = function() {\n",
       "    if (typeof(WebSocket) !== 'undefined') {\n",
       "        return WebSocket;\n",
       "    } else if (typeof(MozWebSocket) !== 'undefined') {\n",
       "        return MozWebSocket;\n",
       "    } else {\n",
       "        alert('Your browser does not have WebSocket support. ' +\n",
       "              'Please try Chrome, Safari or Firefox ≥ 6. ' +\n",
       "              'Firefox 4 and 5 are also supported but you ' +\n",
       "              'have to enable WebSockets in about:config.');\n",
       "    };\n",
       "}\n",
       "\n",
       "mpl.figure = function(figure_id, websocket, ondownload, parent_element) {\n",
       "    this.id = figure_id;\n",
       "\n",
       "    this.ws = websocket;\n",
       "\n",
       "    this.supports_binary = (this.ws.binaryType != undefined);\n",
       "\n",
       "    if (!this.supports_binary) {\n",
       "        var warnings = document.getElementById(\"mpl-warnings\");\n",
       "        if (warnings) {\n",
       "            warnings.style.display = 'block';\n",
       "            warnings.textContent = (\n",
       "                \"This browser does not support binary websocket messages. \" +\n",
       "                    \"Performance may be slow.\");\n",
       "        }\n",
       "    }\n",
       "\n",
       "    this.imageObj = new Image();\n",
       "\n",
       "    this.context = undefined;\n",
       "    this.message = undefined;\n",
       "    this.canvas = undefined;\n",
       "    this.rubberband_canvas = undefined;\n",
       "    this.rubberband_context = undefined;\n",
       "    this.format_dropdown = undefined;\n",
       "\n",
       "    this.image_mode = 'full';\n",
       "\n",
       "    this.root = $('<div/>');\n",
       "    this._root_extra_style(this.root)\n",
       "    this.root.attr('style', 'display: inline-block');\n",
       "\n",
       "    $(parent_element).append(this.root);\n",
       "\n",
       "    this._init_header(this);\n",
       "    this._init_canvas(this);\n",
       "    this._init_toolbar(this);\n",
       "\n",
       "    var fig = this;\n",
       "\n",
       "    this.waiting = false;\n",
       "\n",
       "    this.ws.onopen =  function () {\n",
       "            fig.send_message(\"supports_binary\", {value: fig.supports_binary});\n",
       "            fig.send_message(\"send_image_mode\", {});\n",
       "            if (mpl.ratio != 1) {\n",
       "                fig.send_message(\"set_dpi_ratio\", {'dpi_ratio': mpl.ratio});\n",
       "            }\n",
       "            fig.send_message(\"refresh\", {});\n",
       "        }\n",
       "\n",
       "    this.imageObj.onload = function() {\n",
       "            if (fig.image_mode == 'full') {\n",
       "                // Full images could contain transparency (where diff images\n",
       "                // almost always do), so we need to clear the canvas so that\n",
       "                // there is no ghosting.\n",
       "                fig.context.clearRect(0, 0, fig.canvas.width, fig.canvas.height);\n",
       "            }\n",
       "            fig.context.drawImage(fig.imageObj, 0, 0);\n",
       "        };\n",
       "\n",
       "    this.imageObj.onunload = function() {\n",
       "        fig.ws.close();\n",
       "    }\n",
       "\n",
       "    this.ws.onmessage = this._make_on_message_function(this);\n",
       "\n",
       "    this.ondownload = ondownload;\n",
       "}\n",
       "\n",
       "mpl.figure.prototype._init_header = function() {\n",
       "    var titlebar = $(\n",
       "        '<div class=\"ui-dialog-titlebar ui-widget-header ui-corner-all ' +\n",
       "        'ui-helper-clearfix\"/>');\n",
       "    var titletext = $(\n",
       "        '<div class=\"ui-dialog-title\" style=\"width: 100%; ' +\n",
       "        'text-align: center; padding: 3px;\"/>');\n",
       "    titlebar.append(titletext)\n",
       "    this.root.append(titlebar);\n",
       "    this.header = titletext[0];\n",
       "}\n",
       "\n",
       "\n",
       "\n",
       "mpl.figure.prototype._canvas_extra_style = function(canvas_div) {\n",
       "\n",
       "}\n",
       "\n",
       "\n",
       "mpl.figure.prototype._root_extra_style = function(canvas_div) {\n",
       "\n",
       "}\n",
       "\n",
       "mpl.figure.prototype._init_canvas = function() {\n",
       "    var fig = this;\n",
       "\n",
       "    var canvas_div = $('<div/>');\n",
       "\n",
       "    canvas_div.attr('style', 'position: relative; clear: both; outline: 0');\n",
       "\n",
       "    function canvas_keyboard_event(event) {\n",
       "        return fig.key_event(event, event['data']);\n",
       "    }\n",
       "\n",
       "    canvas_div.keydown('key_press', canvas_keyboard_event);\n",
       "    canvas_div.keyup('key_release', canvas_keyboard_event);\n",
       "    this.canvas_div = canvas_div\n",
       "    this._canvas_extra_style(canvas_div)\n",
       "    this.root.append(canvas_div);\n",
       "\n",
       "    var canvas = $('<canvas/>');\n",
       "    canvas.addClass('mpl-canvas');\n",
       "    canvas.attr('style', \"left: 0; top: 0; z-index: 0; outline: 0\")\n",
       "\n",
       "    this.canvas = canvas[0];\n",
       "    this.context = canvas[0].getContext(\"2d\");\n",
       "\n",
       "    var backingStore = this.context.backingStorePixelRatio ||\n",
       "\tthis.context.webkitBackingStorePixelRatio ||\n",
       "\tthis.context.mozBackingStorePixelRatio ||\n",
       "\tthis.context.msBackingStorePixelRatio ||\n",
       "\tthis.context.oBackingStorePixelRatio ||\n",
       "\tthis.context.backingStorePixelRatio || 1;\n",
       "\n",
       "    mpl.ratio = (window.devicePixelRatio || 1) / backingStore;\n",
       "\n",
       "    var rubberband = $('<canvas/>');\n",
       "    rubberband.attr('style', \"position: absolute; left: 0; top: 0; z-index: 1;\")\n",
       "\n",
       "    var pass_mouse_events = true;\n",
       "\n",
       "    canvas_div.resizable({\n",
       "        start: function(event, ui) {\n",
       "            pass_mouse_events = false;\n",
       "        },\n",
       "        resize: function(event, ui) {\n",
       "            fig.request_resize(ui.size.width, ui.size.height);\n",
       "        },\n",
       "        stop: function(event, ui) {\n",
       "            pass_mouse_events = true;\n",
       "            fig.request_resize(ui.size.width, ui.size.height);\n",
       "        },\n",
       "    });\n",
       "\n",
       "    function mouse_event_fn(event) {\n",
       "        if (pass_mouse_events)\n",
       "            return fig.mouse_event(event, event['data']);\n",
       "    }\n",
       "\n",
       "    rubberband.mousedown('button_press', mouse_event_fn);\n",
       "    rubberband.mouseup('button_release', mouse_event_fn);\n",
       "    // Throttle sequential mouse events to 1 every 20ms.\n",
       "    rubberband.mousemove('motion_notify', mouse_event_fn);\n",
       "\n",
       "    rubberband.mouseenter('figure_enter', mouse_event_fn);\n",
       "    rubberband.mouseleave('figure_leave', mouse_event_fn);\n",
       "\n",
       "    canvas_div.on(\"wheel\", function (event) {\n",
       "        event = event.originalEvent;\n",
       "        event['data'] = 'scroll'\n",
       "        if (event.deltaY < 0) {\n",
       "            event.step = 1;\n",
       "        } else {\n",
       "            event.step = -1;\n",
       "        }\n",
       "        mouse_event_fn(event);\n",
       "    });\n",
       "\n",
       "    canvas_div.append(canvas);\n",
       "    canvas_div.append(rubberband);\n",
       "\n",
       "    this.rubberband = rubberband;\n",
       "    this.rubberband_canvas = rubberband[0];\n",
       "    this.rubberband_context = rubberband[0].getContext(\"2d\");\n",
       "    this.rubberband_context.strokeStyle = \"#000000\";\n",
       "\n",
       "    this._resize_canvas = function(width, height) {\n",
       "        // Keep the size of the canvas, canvas container, and rubber band\n",
       "        // canvas in synch.\n",
       "        canvas_div.css('width', width)\n",
       "        canvas_div.css('height', height)\n",
       "\n",
       "        canvas.attr('width', width * mpl.ratio);\n",
       "        canvas.attr('height', height * mpl.ratio);\n",
       "        canvas.attr('style', 'width: ' + width + 'px; height: ' + height + 'px;');\n",
       "\n",
       "        rubberband.attr('width', width);\n",
       "        rubberband.attr('height', height);\n",
       "    }\n",
       "\n",
       "    // Set the figure to an initial 600x600px, this will subsequently be updated\n",
       "    // upon first draw.\n",
       "    this._resize_canvas(600, 600);\n",
       "\n",
       "    // Disable right mouse context menu.\n",
       "    $(this.rubberband_canvas).bind(\"contextmenu\",function(e){\n",
       "        return false;\n",
       "    });\n",
       "\n",
       "    function set_focus () {\n",
       "        canvas.focus();\n",
       "        canvas_div.focus();\n",
       "    }\n",
       "\n",
       "    window.setTimeout(set_focus, 100);\n",
       "}\n",
       "\n",
       "mpl.figure.prototype._init_toolbar = function() {\n",
       "    var fig = this;\n",
       "\n",
       "    var nav_element = $('<div/>');\n",
       "    nav_element.attr('style', 'width: 100%');\n",
       "    this.root.append(nav_element);\n",
       "\n",
       "    // Define a callback function for later on.\n",
       "    function toolbar_event(event) {\n",
       "        return fig.toolbar_button_onclick(event['data']);\n",
       "    }\n",
       "    function toolbar_mouse_event(event) {\n",
       "        return fig.toolbar_button_onmouseover(event['data']);\n",
       "    }\n",
       "\n",
       "    for(var toolbar_ind in mpl.toolbar_items) {\n",
       "        var name = mpl.toolbar_items[toolbar_ind][0];\n",
       "        var tooltip = mpl.toolbar_items[toolbar_ind][1];\n",
       "        var image = mpl.toolbar_items[toolbar_ind][2];\n",
       "        var method_name = mpl.toolbar_items[toolbar_ind][3];\n",
       "\n",
       "        if (!name) {\n",
       "            // put a spacer in here.\n",
       "            continue;\n",
       "        }\n",
       "        var button = $('<button/>');\n",
       "        button.addClass('ui-button ui-widget ui-state-default ui-corner-all ' +\n",
       "                        'ui-button-icon-only');\n",
       "        button.attr('role', 'button');\n",
       "        button.attr('aria-disabled', 'false');\n",
       "        button.click(method_name, toolbar_event);\n",
       "        button.mouseover(tooltip, toolbar_mouse_event);\n",
       "\n",
       "        var icon_img = $('<span/>');\n",
       "        icon_img.addClass('ui-button-icon-primary ui-icon');\n",
       "        icon_img.addClass(image);\n",
       "        icon_img.addClass('ui-corner-all');\n",
       "\n",
       "        var tooltip_span = $('<span/>');\n",
       "        tooltip_span.addClass('ui-button-text');\n",
       "        tooltip_span.html(tooltip);\n",
       "\n",
       "        button.append(icon_img);\n",
       "        button.append(tooltip_span);\n",
       "\n",
       "        nav_element.append(button);\n",
       "    }\n",
       "\n",
       "    var fmt_picker_span = $('<span/>');\n",
       "\n",
       "    var fmt_picker = $('<select/>');\n",
       "    fmt_picker.addClass('mpl-toolbar-option ui-widget ui-widget-content');\n",
       "    fmt_picker_span.append(fmt_picker);\n",
       "    nav_element.append(fmt_picker_span);\n",
       "    this.format_dropdown = fmt_picker[0];\n",
       "\n",
       "    for (var ind in mpl.extensions) {\n",
       "        var fmt = mpl.extensions[ind];\n",
       "        var option = $(\n",
       "            '<option/>', {selected: fmt === mpl.default_extension}).html(fmt);\n",
       "        fmt_picker.append(option);\n",
       "    }\n",
       "\n",
       "    // Add hover states to the ui-buttons\n",
       "    $( \".ui-button\" ).hover(\n",
       "        function() { $(this).addClass(\"ui-state-hover\");},\n",
       "        function() { $(this).removeClass(\"ui-state-hover\");}\n",
       "    );\n",
       "\n",
       "    var status_bar = $('<span class=\"mpl-message\"/>');\n",
       "    nav_element.append(status_bar);\n",
       "    this.message = status_bar[0];\n",
       "}\n",
       "\n",
       "mpl.figure.prototype.request_resize = function(x_pixels, y_pixels) {\n",
       "    // Request matplotlib to resize the figure. Matplotlib will then trigger a resize in the client,\n",
       "    // which will in turn request a refresh of the image.\n",
       "    this.send_message('resize', {'width': x_pixels, 'height': y_pixels});\n",
       "}\n",
       "\n",
       "mpl.figure.prototype.send_message = function(type, properties) {\n",
       "    properties['type'] = type;\n",
       "    properties['figure_id'] = this.id;\n",
       "    this.ws.send(JSON.stringify(properties));\n",
       "}\n",
       "\n",
       "mpl.figure.prototype.send_draw_message = function() {\n",
       "    if (!this.waiting) {\n",
       "        this.waiting = true;\n",
       "        this.ws.send(JSON.stringify({type: \"draw\", figure_id: this.id}));\n",
       "    }\n",
       "}\n",
       "\n",
       "\n",
       "mpl.figure.prototype.handle_save = function(fig, msg) {\n",
       "    var format_dropdown = fig.format_dropdown;\n",
       "    var format = format_dropdown.options[format_dropdown.selectedIndex].value;\n",
       "    fig.ondownload(fig, format);\n",
       "}\n",
       "\n",
       "\n",
       "mpl.figure.prototype.handle_resize = function(fig, msg) {\n",
       "    var size = msg['size'];\n",
       "    if (size[0] != fig.canvas.width || size[1] != fig.canvas.height) {\n",
       "        fig._resize_canvas(size[0], size[1]);\n",
       "        fig.send_message(\"refresh\", {});\n",
       "    };\n",
       "}\n",
       "\n",
       "mpl.figure.prototype.handle_rubberband = function(fig, msg) {\n",
       "    var x0 = msg['x0'] / mpl.ratio;\n",
       "    var y0 = (fig.canvas.height - msg['y0']) / mpl.ratio;\n",
       "    var x1 = msg['x1'] / mpl.ratio;\n",
       "    var y1 = (fig.canvas.height - msg['y1']) / mpl.ratio;\n",
       "    x0 = Math.floor(x0) + 0.5;\n",
       "    y0 = Math.floor(y0) + 0.5;\n",
       "    x1 = Math.floor(x1) + 0.5;\n",
       "    y1 = Math.floor(y1) + 0.5;\n",
       "    var min_x = Math.min(x0, x1);\n",
       "    var min_y = Math.min(y0, y1);\n",
       "    var width = Math.abs(x1 - x0);\n",
       "    var height = Math.abs(y1 - y0);\n",
       "\n",
       "    fig.rubberband_context.clearRect(\n",
       "        0, 0, fig.canvas.width / mpl.ratio, fig.canvas.height / mpl.ratio);\n",
       "\n",
       "    fig.rubberband_context.strokeRect(min_x, min_y, width, height);\n",
       "}\n",
       "\n",
       "mpl.figure.prototype.handle_figure_label = function(fig, msg) {\n",
       "    // Updates the figure title.\n",
       "    fig.header.textContent = msg['label'];\n",
       "}\n",
       "\n",
       "mpl.figure.prototype.handle_cursor = function(fig, msg) {\n",
       "    var cursor = msg['cursor'];\n",
       "    switch(cursor)\n",
       "    {\n",
       "    case 0:\n",
       "        cursor = 'pointer';\n",
       "        break;\n",
       "    case 1:\n",
       "        cursor = 'default';\n",
       "        break;\n",
       "    case 2:\n",
       "        cursor = 'crosshair';\n",
       "        break;\n",
       "    case 3:\n",
       "        cursor = 'move';\n",
       "        break;\n",
       "    }\n",
       "    fig.rubberband_canvas.style.cursor = cursor;\n",
       "}\n",
       "\n",
       "mpl.figure.prototype.handle_message = function(fig, msg) {\n",
       "    fig.message.textContent = msg['message'];\n",
       "}\n",
       "\n",
       "mpl.figure.prototype.handle_draw = function(fig, msg) {\n",
       "    // Request the server to send over a new figure.\n",
       "    fig.send_draw_message();\n",
       "}\n",
       "\n",
       "mpl.figure.prototype.handle_image_mode = function(fig, msg) {\n",
       "    fig.image_mode = msg['mode'];\n",
       "}\n",
       "\n",
       "mpl.figure.prototype.updated_canvas_event = function() {\n",
       "    // Called whenever the canvas gets updated.\n",
       "    this.send_message(\"ack\", {});\n",
       "}\n",
       "\n",
       "// A function to construct a web socket function for onmessage handling.\n",
       "// Called in the figure constructor.\n",
       "mpl.figure.prototype._make_on_message_function = function(fig) {\n",
       "    return function socket_on_message(evt) {\n",
       "        if (evt.data instanceof Blob) {\n",
       "            /* FIXME: We get \"Resource interpreted as Image but\n",
       "             * transferred with MIME type text/plain:\" errors on\n",
       "             * Chrome.  But how to set the MIME type?  It doesn't seem\n",
       "             * to be part of the websocket stream */\n",
       "            evt.data.type = \"image/png\";\n",
       "\n",
       "            /* Free the memory for the previous frames */\n",
       "            if (fig.imageObj.src) {\n",
       "                (window.URL || window.webkitURL).revokeObjectURL(\n",
       "                    fig.imageObj.src);\n",
       "            }\n",
       "\n",
       "            fig.imageObj.src = (window.URL || window.webkitURL).createObjectURL(\n",
       "                evt.data);\n",
       "            fig.updated_canvas_event();\n",
       "            fig.waiting = false;\n",
       "            return;\n",
       "        }\n",
       "        else if (typeof evt.data === 'string' && evt.data.slice(0, 21) == \"data:image/png;base64\") {\n",
       "            fig.imageObj.src = evt.data;\n",
       "            fig.updated_canvas_event();\n",
       "            fig.waiting = false;\n",
       "            return;\n",
       "        }\n",
       "\n",
       "        var msg = JSON.parse(evt.data);\n",
       "        var msg_type = msg['type'];\n",
       "\n",
       "        // Call the  \"handle_{type}\" callback, which takes\n",
       "        // the figure and JSON message as its only arguments.\n",
       "        try {\n",
       "            var callback = fig[\"handle_\" + msg_type];\n",
       "        } catch (e) {\n",
       "            console.log(\"No handler for the '\" + msg_type + \"' message type: \", msg);\n",
       "            return;\n",
       "        }\n",
       "\n",
       "        if (callback) {\n",
       "            try {\n",
       "                // console.log(\"Handling '\" + msg_type + \"' message: \", msg);\n",
       "                callback(fig, msg);\n",
       "            } catch (e) {\n",
       "                console.log(\"Exception inside the 'handler_\" + msg_type + \"' callback:\", e, e.stack, msg);\n",
       "            }\n",
       "        }\n",
       "    };\n",
       "}\n",
       "\n",
       "// from http://stackoverflow.com/questions/1114465/getting-mouse-location-in-canvas\n",
       "mpl.findpos = function(e) {\n",
       "    //this section is from http://www.quirksmode.org/js/events_properties.html\n",
       "    var targ;\n",
       "    if (!e)\n",
       "        e = window.event;\n",
       "    if (e.target)\n",
       "        targ = e.target;\n",
       "    else if (e.srcElement)\n",
       "        targ = e.srcElement;\n",
       "    if (targ.nodeType == 3) // defeat Safari bug\n",
       "        targ = targ.parentNode;\n",
       "\n",
       "    // jQuery normalizes the pageX and pageY\n",
       "    // pageX,Y are the mouse positions relative to the document\n",
       "    // offset() returns the position of the element relative to the document\n",
       "    var x = e.pageX - $(targ).offset().left;\n",
       "    var y = e.pageY - $(targ).offset().top;\n",
       "\n",
       "    return {\"x\": x, \"y\": y};\n",
       "};\n",
       "\n",
       "/*\n",
       " * return a copy of an object with only non-object keys\n",
       " * we need this to avoid circular references\n",
       " * http://stackoverflow.com/a/24161582/3208463\n",
       " */\n",
       "function simpleKeys (original) {\n",
       "  return Object.keys(original).reduce(function (obj, key) {\n",
       "    if (typeof original[key] !== 'object')\n",
       "        obj[key] = original[key]\n",
       "    return obj;\n",
       "  }, {});\n",
       "}\n",
       "\n",
       "mpl.figure.prototype.mouse_event = function(event, name) {\n",
       "    var canvas_pos = mpl.findpos(event)\n",
       "\n",
       "    if (name === 'button_press')\n",
       "    {\n",
       "        this.canvas.focus();\n",
       "        this.canvas_div.focus();\n",
       "    }\n",
       "\n",
       "    var x = canvas_pos.x * mpl.ratio;\n",
       "    var y = canvas_pos.y * mpl.ratio;\n",
       "\n",
       "    this.send_message(name, {x: x, y: y, button: event.button,\n",
       "                             step: event.step,\n",
       "                             guiEvent: simpleKeys(event)});\n",
       "\n",
       "    /* This prevents the web browser from automatically changing to\n",
       "     * the text insertion cursor when the button is pressed.  We want\n",
       "     * to control all of the cursor setting manually through the\n",
       "     * 'cursor' event from matplotlib */\n",
       "    event.preventDefault();\n",
       "    return false;\n",
       "}\n",
       "\n",
       "mpl.figure.prototype._key_event_extra = function(event, name) {\n",
       "    // Handle any extra behaviour associated with a key event\n",
       "}\n",
       "\n",
       "mpl.figure.prototype.key_event = function(event, name) {\n",
       "\n",
       "    // Prevent repeat events\n",
       "    if (name == 'key_press')\n",
       "    {\n",
       "        if (event.which === this._key)\n",
       "            return;\n",
       "        else\n",
       "            this._key = event.which;\n",
       "    }\n",
       "    if (name == 'key_release')\n",
       "        this._key = null;\n",
       "\n",
       "    var value = '';\n",
       "    if (event.ctrlKey && event.which != 17)\n",
       "        value += \"ctrl+\";\n",
       "    if (event.altKey && event.which != 18)\n",
       "        value += \"alt+\";\n",
       "    if (event.shiftKey && event.which != 16)\n",
       "        value += \"shift+\";\n",
       "\n",
       "    value += 'k';\n",
       "    value += event.which.toString();\n",
       "\n",
       "    this._key_event_extra(event, name);\n",
       "\n",
       "    this.send_message(name, {key: value,\n",
       "                             guiEvent: simpleKeys(event)});\n",
       "    return false;\n",
       "}\n",
       "\n",
       "mpl.figure.prototype.toolbar_button_onclick = function(name) {\n",
       "    if (name == 'download') {\n",
       "        this.handle_save(this, null);\n",
       "    } else {\n",
       "        this.send_message(\"toolbar_button\", {name: name});\n",
       "    }\n",
       "};\n",
       "\n",
       "mpl.figure.prototype.toolbar_button_onmouseover = function(tooltip) {\n",
       "    this.message.textContent = tooltip;\n",
       "};\n",
       "mpl.toolbar_items = [[\"Home\", \"Reset original view\", \"fa fa-home icon-home\", \"home\"], [\"Back\", \"Back to previous view\", \"fa fa-arrow-left icon-arrow-left\", \"back\"], [\"Forward\", \"Forward to next view\", \"fa fa-arrow-right icon-arrow-right\", \"forward\"], [\"\", \"\", \"\", \"\"], [\"Pan\", \"Pan axes with left mouse, zoom with right\", \"fa fa-arrows icon-move\", \"pan\"], [\"Zoom\", \"Zoom to rectangle\", \"fa fa-square-o icon-check-empty\", \"zoom\"], [\"\", \"\", \"\", \"\"], [\"Download\", \"Download plot\", \"fa fa-floppy-o icon-save\", \"download\"]];\n",
       "\n",
       "mpl.extensions = [\"eps\", \"jpeg\", \"pdf\", \"png\", \"ps\", \"raw\", \"svg\", \"tif\"];\n",
       "\n",
       "mpl.default_extension = \"png\";var comm_websocket_adapter = function(comm) {\n",
       "    // Create a \"websocket\"-like object which calls the given IPython comm\n",
       "    // object with the appropriate methods. Currently this is a non binary\n",
       "    // socket, so there is still some room for performance tuning.\n",
       "    var ws = {};\n",
       "\n",
       "    ws.close = function() {\n",
       "        comm.close()\n",
       "    };\n",
       "    ws.send = function(m) {\n",
       "        //console.log('sending', m);\n",
       "        comm.send(m);\n",
       "    };\n",
       "    // Register the callback with on_msg.\n",
       "    comm.on_msg(function(msg) {\n",
       "        //console.log('receiving', msg['content']['data'], msg);\n",
       "        // Pass the mpl event to the overridden (by mpl) onmessage function.\n",
       "        ws.onmessage(msg['content']['data'])\n",
       "    });\n",
       "    return ws;\n",
       "}\n",
       "\n",
       "mpl.mpl_figure_comm = function(comm, msg) {\n",
       "    // This is the function which gets called when the mpl process\n",
       "    // starts-up an IPython Comm through the \"matplotlib\" channel.\n",
       "\n",
       "    var id = msg.content.data.id;\n",
       "    // Get hold of the div created by the display call when the Comm\n",
       "    // socket was opened in Python.\n",
       "    var element = $(\"#\" + id);\n",
       "    var ws_proxy = comm_websocket_adapter(comm)\n",
       "\n",
       "    function ondownload(figure, format) {\n",
       "        window.open(figure.imageObj.src);\n",
       "    }\n",
       "\n",
       "    var fig = new mpl.figure(id, ws_proxy,\n",
       "                           ondownload,\n",
       "                           element.get(0));\n",
       "\n",
       "    // Call onopen now - mpl needs it, as it is assuming we've passed it a real\n",
       "    // web socket which is closed, not our websocket->open comm proxy.\n",
       "    ws_proxy.onopen();\n",
       "\n",
       "    fig.parent_element = element.get(0);\n",
       "    fig.cell_info = mpl.find_output_cell(\"<div id='\" + id + \"'></div>\");\n",
       "    if (!fig.cell_info) {\n",
       "        console.error(\"Failed to find cell for figure\", id, fig);\n",
       "        return;\n",
       "    }\n",
       "\n",
       "    var output_index = fig.cell_info[2]\n",
       "    var cell = fig.cell_info[0];\n",
       "\n",
       "};\n",
       "\n",
       "mpl.figure.prototype.handle_close = function(fig, msg) {\n",
       "    var width = fig.canvas.width/mpl.ratio\n",
       "    fig.root.unbind('remove')\n",
       "\n",
       "    // Update the output cell to use the data from the current canvas.\n",
       "    fig.push_to_output();\n",
       "    var dataURL = fig.canvas.toDataURL();\n",
       "    // Re-enable the keyboard manager in IPython - without this line, in FF,\n",
       "    // the notebook keyboard shortcuts fail.\n",
       "    IPython.keyboard_manager.enable()\n",
       "    $(fig.parent_element).html('<img src=\"' + dataURL + '\" width=\"' + width + '\">');\n",
       "    fig.close_ws(fig, msg);\n",
       "}\n",
       "\n",
       "mpl.figure.prototype.close_ws = function(fig, msg){\n",
       "    fig.send_message('closing', msg);\n",
       "    // fig.ws.close()\n",
       "}\n",
       "\n",
       "mpl.figure.prototype.push_to_output = function(remove_interactive) {\n",
       "    // Turn the data on the canvas into data in the output cell.\n",
       "    var width = this.canvas.width/mpl.ratio\n",
       "    var dataURL = this.canvas.toDataURL();\n",
       "    this.cell_info[1]['text/html'] = '<img src=\"' + dataURL + '\" width=\"' + width + '\">';\n",
       "}\n",
       "\n",
       "mpl.figure.prototype.updated_canvas_event = function() {\n",
       "    // Tell IPython that the notebook contents must change.\n",
       "    IPython.notebook.set_dirty(true);\n",
       "    this.send_message(\"ack\", {});\n",
       "    var fig = this;\n",
       "    // Wait a second, then push the new image to the DOM so\n",
       "    // that it is saved nicely (might be nice to debounce this).\n",
       "    setTimeout(function () { fig.push_to_output() }, 1000);\n",
       "}\n",
       "\n",
       "mpl.figure.prototype._init_toolbar = function() {\n",
       "    var fig = this;\n",
       "\n",
       "    var nav_element = $('<div/>');\n",
       "    nav_element.attr('style', 'width: 100%');\n",
       "    this.root.append(nav_element);\n",
       "\n",
       "    // Define a callback function for later on.\n",
       "    function toolbar_event(event) {\n",
       "        return fig.toolbar_button_onclick(event['data']);\n",
       "    }\n",
       "    function toolbar_mouse_event(event) {\n",
       "        return fig.toolbar_button_onmouseover(event['data']);\n",
       "    }\n",
       "\n",
       "    for(var toolbar_ind in mpl.toolbar_items){\n",
       "        var name = mpl.toolbar_items[toolbar_ind][0];\n",
       "        var tooltip = mpl.toolbar_items[toolbar_ind][1];\n",
       "        var image = mpl.toolbar_items[toolbar_ind][2];\n",
       "        var method_name = mpl.toolbar_items[toolbar_ind][3];\n",
       "\n",
       "        if (!name) { continue; };\n",
       "\n",
       "        var button = $('<button class=\"btn btn-default\" href=\"#\" title=\"' + name + '\"><i class=\"fa ' + image + ' fa-lg\"></i></button>');\n",
       "        button.click(method_name, toolbar_event);\n",
       "        button.mouseover(tooltip, toolbar_mouse_event);\n",
       "        nav_element.append(button);\n",
       "    }\n",
       "\n",
       "    // Add the status bar.\n",
       "    var status_bar = $('<span class=\"mpl-message\" style=\"text-align:right; float: right;\"/>');\n",
       "    nav_element.append(status_bar);\n",
       "    this.message = status_bar[0];\n",
       "\n",
       "    // Add the close button to the window.\n",
       "    var buttongrp = $('<div class=\"btn-group inline pull-right\"></div>');\n",
       "    var button = $('<button class=\"btn btn-mini btn-primary\" href=\"#\" title=\"Stop Interaction\"><i class=\"fa fa-power-off icon-remove icon-large\"></i></button>');\n",
       "    button.click(function (evt) { fig.handle_close(fig, {}); } );\n",
       "    button.mouseover('Stop Interaction', toolbar_mouse_event);\n",
       "    buttongrp.append(button);\n",
       "    var titlebar = this.root.find($('.ui-dialog-titlebar'));\n",
       "    titlebar.prepend(buttongrp);\n",
       "}\n",
       "\n",
       "mpl.figure.prototype._root_extra_style = function(el){\n",
       "    var fig = this\n",
       "    el.on(\"remove\", function(){\n",
       "\tfig.close_ws(fig, {});\n",
       "    });\n",
       "}\n",
       "\n",
       "mpl.figure.prototype._canvas_extra_style = function(el){\n",
       "    // this is important to make the div 'focusable\n",
       "    el.attr('tabindex', 0)\n",
       "    // reach out to IPython and tell the keyboard manager to turn it's self\n",
       "    // off when our div gets focus\n",
       "\n",
       "    // location in version 3\n",
       "    if (IPython.notebook.keyboard_manager) {\n",
       "        IPython.notebook.keyboard_manager.register_events(el);\n",
       "    }\n",
       "    else {\n",
       "        // location in version 2\n",
       "        IPython.keyboard_manager.register_events(el);\n",
       "    }\n",
       "\n",
       "}\n",
       "\n",
       "mpl.figure.prototype._key_event_extra = function(event, name) {\n",
       "    var manager = IPython.notebook.keyboard_manager;\n",
       "    if (!manager)\n",
       "        manager = IPython.keyboard_manager;\n",
       "\n",
       "    // Check for shift+enter\n",
       "    if (event.shiftKey && event.which == 13) {\n",
       "        this.canvas_div.blur();\n",
       "        // select the cell after this one\n",
       "        var index = IPython.notebook.find_cell_index(this.cell_info[0]);\n",
       "        IPython.notebook.select(index + 1);\n",
       "    }\n",
       "}\n",
       "\n",
       "mpl.figure.prototype.handle_save = function(fig, msg) {\n",
       "    fig.ondownload(fig, null);\n",
       "}\n",
       "\n",
       "\n",
       "mpl.find_output_cell = function(html_output) {\n",
       "    // Return the cell and output element which can be found *uniquely* in the notebook.\n",
       "    // Note - this is a bit hacky, but it is done because the \"notebook_saving.Notebook\"\n",
       "    // IPython event is triggered only after the cells have been serialised, which for\n",
       "    // our purposes (turning an active figure into a static one), is too late.\n",
       "    var cells = IPython.notebook.get_cells();\n",
       "    var ncells = cells.length;\n",
       "    for (var i=0; i<ncells; i++) {\n",
       "        var cell = cells[i];\n",
       "        if (cell.cell_type === 'code'){\n",
       "            for (var j=0; j<cell.output_area.outputs.length; j++) {\n",
       "                var data = cell.output_area.outputs[j];\n",
       "                if (data.data) {\n",
       "                    // IPython >= 3 moved mimebundle to data attribute of output\n",
       "                    data = data.data;\n",
       "                }\n",
       "                if (data['text/html'] == html_output) {\n",
       "                    return [cell, data, j];\n",
       "                }\n",
       "            }\n",
       "        }\n",
       "    }\n",
       "}\n",
       "\n",
       "// Register the function which deals with the matplotlib target/channel.\n",
       "// The kernel may be null if the page has been refreshed.\n",
       "if (IPython.notebook.kernel != null) {\n",
       "    IPython.notebook.kernel.comm_manager.register_target('matplotlib', mpl.mpl_figure_comm);\n",
       "}\n"
      ],
      "text/plain": [
       "<IPython.core.display.Javascript object>"
      ]
     },
     "metadata": {},
     "output_type": "display_data"
    },
    {
     "data": {
      "text/html": [
       "<img src=\"data:image/png;base64,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\" width=\"999.75\">"
      ],
      "text/plain": [
       "<IPython.core.display.HTML object>"
      ]
     },
     "metadata": {},
     "output_type": "display_data"
    }
   ],
   "source": [
    "dual_train_plots(results.index,\n",
    "                 results.cost, results.val, \n",
    "                 results['eff_val'].apply(lambda x: x.eff_rate),\n",
    "                 results['eff_val'].apply(lambda x: x.fp_rate))\n",
    "plt.tight_layout()\n",
    "plt.savefig(str(output / f'{name}_stats_a.png'))"
   ]
  },
  {
   "cell_type": "markdown",
   "metadata": {},
   "source": [
    "Go ahead and save the final model (even though it was also saved above):"
   ]
  },
  {
   "cell_type": "markdown",
   "metadata": {},
   "source": [
    "Save the output results:"
   ]
  },
  {
   "cell_type": "code",
   "execution_count": 1,
   "metadata": {},
   "outputs": [],
   "source": [
    "##quit()\n",
    "\n"
   ]
  },
  {
   "cell_type": "code",
   "execution_count": null,
   "metadata": {},
   "outputs": [],
   "source": []
  }
 ],
 "metadata": {
  "kernelspec": {
   "display_name": "june2020-gpu",
   "language": "python",
   "name": "june2020-gpu"
  },
  "language_info": {
   "codemirror_mode": {
    "name": "ipython",
    "version": 3
   },
   "file_extension": ".py",
   "mimetype": "text/x-python",
   "name": "python",
   "nbconvert_exporter": "python",
   "pygments_lexer": "ipython3",
   "version": "3.7.6"
  }
 },
 "nbformat": 4,
 "nbformat_minor": 2
}
