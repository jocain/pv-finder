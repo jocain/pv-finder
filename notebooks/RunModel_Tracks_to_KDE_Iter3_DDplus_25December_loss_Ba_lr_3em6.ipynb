{
 "cells": [
  {
   "cell_type": "code",
   "execution_count": 1,
   "metadata": {},
   "outputs": [],
   "source": [
    "##%matplotlib widget\n",
    "## with %matplotlib notebook: seems to require ipympl as part of environment, either\n",
    "## part of the conda environment or \"pip install ipympl\"\n",
    "## otherwise, does not show ANY plots in note\"book, plt.savefig() works\n",
    "%matplotlib notebook  \n",
    "##%matplotlib inline    ## --plt.savefig()  works, but re-sizing does NOT\n"
   ]
  },
  {
   "cell_type": "markdown",
   "metadata": {},
   "source": [
    "This notebook is the second attempt to read in track information and use it to predict the KDE used as input to PvFinder. This time, we are reading in poca KDEs rather than the original KDEs. \n",
    "\n",
    "collectdata_kde_C.py uses poca_z, poca_x, poca_y, major_axis_x, major_axis_y, and major_axis_z as the six track parameters (for the moment)\n"
   ]
  },
  {
   "cell_type": "markdown",
   "metadata": {},
   "source": [
    "Check the current GPU usage. Please try to be nice!"
   ]
  },
  {
   "cell_type": "code",
   "execution_count": 2,
   "metadata": {},
   "outputs": [
    {
     "name": "stdout",
     "output_type": "stream",
     "text": [
      "Fri Dec 25 10:44:31 2020       \r\n",
      "+-----------------------------------------------------------------------------+\r\n",
      "| NVIDIA-SMI 450.36.06    Driver Version: 450.36.06    CUDA Version: 11.0     |\r\n",
      "|-------------------------------+----------------------+----------------------+\r\n",
      "| GPU  Name        Persistence-M| Bus-Id        Disp.A | Volatile Uncorr. ECC |\r\n",
      "| Fan  Temp  Perf  Pwr:Usage/Cap|         Memory-Usage | GPU-Util  Compute M. |\r\n",
      "|                               |                      |               MIG M. |\r\n",
      "|===============================+======================+======================|\r\n",
      "|   0  GeForce RTX 208...  On   | 00000000:18:00.0 Off |                  N/A |\r\n",
      "| 52%   84C    P2   207W / 250W |   3333MiB / 11019MiB |     90%      Default |\r\n",
      "|                               |                      |                  N/A |\r\n",
      "+-------------------------------+----------------------+----------------------+\r\n",
      "|   1  GeForce RTX 208...  On   | 00000000:3B:00.0 Off |                  N/A |\r\n",
      "| 30%   51C    P8    40W / 250W |     61MiB / 11019MiB |      0%      Default |\r\n",
      "|                               |                      |                  N/A |\r\n",
      "+-------------------------------+----------------------+----------------------+\r\n",
      "                                                                               \r\n",
      "+-----------------------------------------------------------------------------+\r\n",
      "| Processes:                                                                  |\r\n",
      "|  GPU   GI   CI        PID   Type   Process name                  GPU Memory |\r\n",
      "|        ID   ID                                                   Usage      |\r\n",
      "|=============================================================================|\r\n",
      "|    0   N/A  N/A    201914      C   ...s/june2020-gpu/bin/python     3329MiB |\r\n",
      "|    1   N/A  N/A      3736      G   /usr/bin/X                         33MiB |\r\n",
      "|    1   N/A  N/A      3790      G   /usr/bin/gnome-shell               25MiB |\r\n",
      "+-----------------------------------------------------------------------------+\r\n"
     ]
    }
   ],
   "source": [
    "!nvidia-smi"
   ]
  },
  {
   "cell_type": "markdown",
   "metadata": {},
   "source": [
    "> **WARNING**: The card numbers here are *not* the same as in CUDA. You have been warned."
   ]
  },
  {
   "cell_type": "markdown",
   "metadata": {},
   "source": [
    "This notebook is first attempt to read in track information and use it to predict the KDE used as input to PvFinder.\n"
   ]
  },
  {
   "cell_type": "markdown",
   "metadata": {},
   "source": [
    "## Imports"
   ]
  },
  {
   "cell_type": "code",
   "execution_count": 3,
   "metadata": {},
   "outputs": [],
   "source": [
    "import matplotlib.pyplot as plt\n",
    "import numpy as np\n",
    "import time\n",
    "import torch\n",
    "import pandas as pd\n",
    "\n",
    "# Python 3 standard library\n",
    "from pathlib import Path\n",
    "\n",
    "##from torchsummary import summary"
   ]
  },
  {
   "cell_type": "markdown",
   "metadata": {},
   "source": [
    "### Set up local parameters"
   ]
  },
  {
   "cell_type": "code",
   "execution_count": 4,
   "metadata": {},
   "outputs": [],
   "source": [
    "n_epochs = 100\n",
    "\n",
    "# Name is the output file name\n",
    "\n",
    "\n",
    "##  201027 -- about to go to bed, so try 2500 epochs with lr = 1e55\n",
    "##  previous iteration had l4 = 3e-5 and cost dropped almost linearly\n",
    "##  for 100 epochs -- final training costs ~ 2.02, validation cost ~ 2.01\n",
    "\n",
    "## for iter 4, try 10 epochs with lr = 3e-6\n",
    "## usually have a big jump down at epoch 0; want to try a\n",
    "## small number of epochs per iteration and see what happens (iter4: 10 epochs gave\n",
    "## traiing cost dropping from 1.54 to 1.50 immediately, then dropping very slowly)\n",
    "folder = '25December__DDplus_loss_Ba_iter3_floatAll_100epochs_3em6'\n",
    "name   = folder\n",
    "\n",
    "# Make an output folder named \"name\" (change if you want)\n",
    "\n",
    "## Special instructions for those working on goofy at UC\n",
    "## Please be very careful to make sure that your folder\n",
    "## does not live in a subdirectory of your home directory\n",
    "## this disk has very little capacity. Instead, use \n",
    "## a subdirectory in /share/lazy with a symbolic link to\n",
    "## it in this (the notebooks) subdirectory\n",
    "folder = 'ML/' + folder\n",
    "output = Path(folder)\n",
    "\n",
    "\n",
    "# Size of batches\n",
    "batch_size = 16 ## was 64\n",
    "# How fast to learn\n",
    "learning_rate = 3e-6"
   ]
  },
  {
   "cell_type": "markdown",
   "metadata": {},
   "source": [
    "Make the output directory if it does not exist:"
   ]
  },
  {
   "cell_type": "code",
   "execution_count": 5,
   "metadata": {},
   "outputs": [],
   "source": [
    "output.mkdir(exist_ok=True)"
   ]
  },
  {
   "cell_type": "markdown",
   "metadata": {},
   "source": [
    "## Get the helper functions\n",
    "\n",
    "Add the directory with the model\n",
    "definitions to the path so we can import from it:\n",
    "\n",
    "> When you type `import X`,\n",
    "Python searches `sys.path` for a python\n",
    "file named `X.py` to import. So we need to add the model directory to the path."
   ]
  },
  {
   "cell_type": "code",
   "execution_count": 6,
   "metadata": {
    "scrolled": true
   },
   "outputs": [],
   "source": [
    "# From model/collectdata.py\n",
    "##from model.collectdata_kde_B import collect_t2kde_data\n",
    "## collectdata_kde_C should use the new poca KDE rather than the original kernel KDE\n",
    "from model.collectdata_kde_Ellipsoids import collect_t2kde_data\n",
    "\n",
    "\n",
    "# From model/loss.py\n",
    "##from loss import Loss\n",
    "## kde_loss_D includes botha ratio term and a chisq term, 98% ave_chisq\n",
    "## kde_loss_E adds a chi^4 term to the kde_loss_D return value\n",
    "## this is intended to emphasize the importance of values significantly different than zero\n",
    "from model.kde_loss_Ba import Loss\n",
    "\n",
    "##  TracksToKDE_Ellipsoids_SevenLayerCake has 7 hidden layers producing the 4000-bin KDE historgram\n",
    "##  It takes 9 input features (pocca centers + (A,B,C,D,E,F) . \n",
    "from model.models_kde import TracksToKDE_Ellipsoids_DDplus as Model\n",
    "\n",
    "\n",
    "from model.training_kde import trainNet, select_gpu, Results\n",
    "from model.plots import dual_train_plots, replace_in_ax"
   ]
  },
  {
   "cell_type": "code",
   "execution_count": 7,
   "metadata": {},
   "outputs": [],
   "source": [
    "# This gets built up during the run - do not rerun this cell\n",
    "results = pd.DataFrame([], columns=Results._fields)"
   ]
  },
  {
   "cell_type": "markdown",
   "metadata": {},
   "source": [
    "Set up Torch device configuration. All tensors and model parameters need to know where to be put.\n",
    "This takes a BUS ID number: The BUS ID is the same as the listing at the top of this script."
   ]
  },
  {
   "cell_type": "code",
   "execution_count": 8,
   "metadata": {},
   "outputs": [
    {
     "name": "stdout",
     "output_type": "stream",
     "text": [
      "1 available GPUs (initially using device 0):\n",
      "  0 GeForce RTX 2080 Ti\n"
     ]
    }
   ],
   "source": [
    "device = select_gpu(1)\n",
    "##device = \"cpu\""
   ]
  },
  {
   "cell_type": "markdown",
   "metadata": {},
   "source": [
    "## Loading data\n",
    "\n",
    "Load the dataset, split into parts, then move to device (see `collectdata.py` in the `../model` directory)"
   ]
  },
  {
   "cell_type": "markdown",
   "metadata": {},
   "source": [
    "# Preparing the model"
   ]
  },
  {
   "cell_type": "markdown",
   "metadata": {},
   "source": [
    "Prepare a model, use multiple GPUs if they are VISIBLE, and move the model to the device."
   ]
  },
  {
   "cell_type": "code",
   "execution_count": 9,
   "metadata": {
    "scrolled": true
   },
   "outputs": [],
   "source": [
    "##print(\"Let's use\", torch.cuda.device_count(), \"GPUs!\")\n",
    "##if torch.cuda.device_count() > 1:\n",
    "##    model = torch.nn.DataParallel(model)"
   ]
  },
  {
   "cell_type": "code",
   "execution_count": 10,
   "metadata": {},
   "outputs": [
    {
     "name": "stdout",
     "output_type": "stream",
     "text": [
      "ct, child =  0    Linear(in_features=9, out_features=50, bias=True)\n",
      "ct, child =  1    Linear(in_features=50, out_features=50, bias=True)\n",
      "ct, child =  2    Linear(in_features=50, out_features=50, bias=True)\n",
      "ct, child =  3    Linear(in_features=50, out_features=50, bias=True)\n",
      "ct, child =  4    Linear(in_features=50, out_features=50, bias=True)\n",
      "ct, child =  5    Linear(in_features=50, out_features=50, bias=True)\n",
      "ct, child =  6    Linear(in_features=50, out_features=50, bias=True)\n",
      "ct, child =  7    Linear(in_features=50, out_features=50, bias=True)\n",
      "ct, child =  8    Linear(in_features=50, out_features=50, bias=True)\n",
      "ct, child =  9    Linear(in_features=50, out_features=50, bias=True)\n",
      "ct, child =  10    Linear(in_features=50, out_features=50, bias=True)\n",
      "ct, child =  11    Linear(in_features=50, out_features=16000, bias=True)\n",
      "ct, child =  12    Conv1d(4, 25, kernel_size=(25,), stride=(1,), padding=(12,))\n",
      "ct, child =  13    Conv1d(25, 1, kernel_size=(5,), stride=(1,), padding=(2,))\n",
      "ct, child =  14    Linear(in_features=4000, out_features=4000, bias=True)\n",
      "ct, child =  15    Conv1d(25, 1, kernel_size=(15,), stride=(1,), padding=(7,))\n",
      "ct, child =  16    Dropout(p=0.15, inplace=False)\n",
      "ct, child =  17    Dropout(p=0.15, inplace=False)\n"
     ]
    }
   ],
   "source": [
    "## a comment on the web at https://pytorch.org/docs/stable/optim.html says\n",
    "\"\"\"\n",
    "If you need to move a model to GPU via .cuda(), please do so before constructing optimizers for it. \n",
    "Parameters of a model after .cuda() will be different objects with those before the call.\n",
    "\n",
    "In general, you should make sure that optimized parameters live in consistent locations when \n",
    "optimizers are constructed and used.\n",
    "\"\"\"\n",
    "## so move this here (although we are using model.to(device) not explicitly using .cuda()\n",
    "\n",
    "nOut1 = 50\n",
    "nOut2 = 50\n",
    "nOut3 = 50\n",
    "nOut4 = 50\n",
    "nOut5 = 50\n",
    "nOut6 = 50\n",
    "nOut7 = 50\n",
    "nOut8 = 50\n",
    "nOut9 = 50\n",
    "nOut10 = 50\n",
    "nOut11 = 50\n",
    "latentChannels = 4\n",
    "model = Model(nOut1,nOut2,nOut3,nOut4,nOut5,nOut6,nOut7,nOut8,nOut9,nOut10,nOut11,latentChannels)\n",
    "\n",
    "##summary(model, input_size=(4, 4000))\n",
    "##print(model.parameters)\n",
    "\n",
    "## add the following code to allow the user to freeze the some of the weights corresponding \n",
    "## to those taken from an earlier model trained with the original target histograms\n",
    "## presumably -- this leaves either the perturbative filter \"fixed\" and lets the \n",
    "## learning focus on the non-perturbative features, so get started faster, or vice versa\n",
    "ct = 0\n",
    "for child in model.children():\n",
    "  print('ct, child = ',ct, \"  \", child)\n",
    "  if ct < 0:\n",
    "    print(\"     About to set param.requires_grad=False for ct = \", ct, \"params\")\n",
    "    for param in child.parameters():\n",
    "        param.requires_grad = False \n",
    "  ct += 1\n",
    "##  mds 200121 loss = Loss(epsilon=1e-5,coefficient=1.0)\n",
    "##  loss = Loss(epsilon=1e-5,coefficient=2.5)\n",
    "##loss = Loss(epsilon=3e-5, debug=False)\n",
    "loss = Loss(epsilon=3e-5)"
   ]
  },
  {
   "cell_type": "markdown",
   "metadata": {},
   "source": [
    "Let's move the model's weight matricies to the GPU:"
   ]
  },
  {
   "cell_type": "code",
   "execution_count": 11,
   "metadata": {
    "scrolled": true
   },
   "outputs": [],
   "source": [
    "model = model.to(device)"
   ]
  },
  {
   "cell_type": "code",
   "execution_count": 12,
   "metadata": {
    "scrolled": true
   },
   "outputs": [],
   "source": [
    "optimizer = torch.optim.Adam(model.parameters(), lr=learning_rate)\n",
    "##optimizer = torch.optim.SGD(model.parameters(), lr=learning_rate)"
   ]
  },
  {
   "cell_type": "code",
   "execution_count": 13,
   "metadata": {
    "scrolled": false
   },
   "outputs": [
    {
     "name": "stdout",
     "output_type": "stream",
     "text": [
      "output =  ML/25December__DDplus_loss_Ba_iter3_floatAll_100epochs_3em6\n",
      "for model_dict\n",
      "index, k =   0    layer1.weight\n",
      "index, k =   1    layer1.bias\n",
      "index, k =   2    layer2.weight\n",
      "index, k =   3    layer2.bias\n",
      "index, k =   4    layer3.weight\n",
      "index, k =   5    layer3.bias\n",
      "index, k =   6    layer4.weight\n",
      "index, k =   7    layer4.bias\n",
      "index, k =   8    layer5.weight\n",
      "index, k =   9    layer5.bias\n",
      "index, k =   10    layer6.weight\n",
      "index, k =   11    layer6.bias\n",
      "index, k =   12    layer7.weight\n",
      "index, k =   13    layer7.bias\n",
      "index, k =   14    layer8.weight\n",
      "index, k =   15    layer8.bias\n",
      "index, k =   16    layer9.weight\n",
      "index, k =   17    layer9.bias\n",
      "index, k =   18    layer10.weight\n",
      "index, k =   19    layer10.bias\n",
      "index, k =   20    layer11.weight\n",
      "index, k =   21    layer11.bias\n",
      "index, k =   22    layer12new.weight\n",
      "index, k =   23    layer12new.bias\n",
      "index, k =   24    conv1.weight\n",
      "index, k =   25    conv1.bias\n",
      "index, k =   26    conv2.weight\n",
      "index, k =   27    conv2.bias\n",
      "index, k =   28    fc1.weight\n",
      "index, k =   29    fc1.bias\n",
      "index, k =   30    finalFilter.weight\n",
      "index, k =   31    finalFilter.bias\n",
      "dict_name =  ML/22December_testing_DDplus_loss_Bb_iter2_floatAll_100epochs_3em6/22December_testing_DDplus_loss_Bb_iter2_floatAll_100epochs_3em6_final.pyt\n",
      " \n",
      "  for pretrained_dict\n",
      "index, k =   0    layer1.weight\n",
      "index, k =   1    layer1.bias\n",
      "index, k =   2    layer2.weight\n",
      "index, k =   3    layer2.bias\n",
      "index, k =   4    layer3.weight\n",
      "index, k =   5    layer3.bias\n",
      "index, k =   6    layer4.weight\n",
      "index, k =   7    layer4.bias\n",
      "index, k =   8    layer5.weight\n",
      "index, k =   9    layer5.bias\n",
      "index, k =   10    layer6.weight\n",
      "index, k =   11    layer6.bias\n",
      "index, k =   12    layer7.weight\n",
      "index, k =   13    layer7.bias\n",
      "index, k =   14    layer8.weight\n",
      "index, k =   15    layer8.bias\n",
      "index, k =   16    layer9.weight\n",
      "index, k =   17    layer9.bias\n",
      "index, k =   18    layer10.weight\n",
      "index, k =   19    layer10.bias\n",
      "index, k =   20    layer11.weight\n",
      "index, k =   21    layer11.bias\n",
      "index, k =   22    layer12new.weight\n",
      "index, k =   23    layer12new.bias\n",
      "index, k =   24    conv1.weight\n",
      "index, k =   25    conv1.bias\n",
      "index, k =   26    conv2.weight\n",
      "index, k =   27    conv2.bias\n",
      "index, k =   28    fc1.weight\n",
      "index, k =   29    fc1.bias\n",
      "index, k =   30    finalFilter.weight\n",
      "index, k =   31    finalFilter.bias\n",
      "pretrained_dict iterated\n"
     ]
    },
    {
     "data": {
      "text/plain": [
       "<All keys matched successfully>"
      ]
     },
     "execution_count": 13,
     "metadata": {},
     "output_type": "execute_result"
    }
   ],
   "source": [
    "print('output = ',output)\n",
    "##print('oldOutput = ',oldOutput)\n",
    "##  use the first four layers from a pre-existing model\n",
    "##  see example at https://discuss.pytorch.org/t/how-to-load-part-of-pre-trained-model/1113\n",
    "\n",
    "##   ML -> /share/lazy/sokoloff/ML\n",
    "model_dict = model.state_dict()\n",
    "## mds 190725 for debugging\n",
    "print(\"for model_dict\")\n",
    "index = 0\n",
    "for k,v in model_dict.items():\n",
    "    print(\"index, k =  \",index,\"  \",k)\n",
    "    index = index+1\n",
    "##    print(\"value = \", v)\n",
    " \n",
    "updated_dict = model_dict\n",
    "##print(\"updated_dict = \",updated_dict)\n",
    "## when starting \"ab initio\", reduce biases as the bias gets summed for each track\n",
    "## contributing to the predicted KDE\n",
    "updated_dict[\"layer1.bias\"] = 0.005*model_dict[\"layer1.bias\"]\n",
    "updated_dict[\"layer2.bias\"] = 0.005*model_dict[\"layer2.bias\"]\n",
    "updated_dict[\"layer3.bias\"] = 0.005*model_dict[\"layer3.bias\"]\n",
    "updated_dict[\"layer4.bias\"] = 0.005*model_dict[\"layer4.bias\"]\n",
    "updated_dict[\"layer5.bias\"] = 0.005*model_dict[\"layer5.bias\"]\n",
    "updated_dict[\"layer6.bias\"] = 0.005*model_dict[\"layer6.bias\"]\n",
    "updated_dict[\"layer7.bias\"] = 0.005*model_dict[\"layer7.bias\"]\n",
    "updated_dict[\"layer8.bias\"] = 0.005*model_dict[\"layer8.bias\"]\n",
    "updated_dict[\"layer9.bias\"] = 0.005*model_dict[\"layer9.bias\"]\n",
    "updated_dict[\"layer10.bias\"] = 0.005*model_dict[\"layer10.bias\"]\n",
    "updated_dict[\"layer11.bias\"] = 0.005*model_dict[\"layer11.bias\"]\n",
    "\n",
    "model.load_state_dict(updated_dict,strict=False)\n",
    "\n",
    "model_dict = model.state_dict()\n",
    "##print(\"updated model_dict = \",model_dict)\n",
    "\n",
    "## print(\" \\n\",\"  for pretrained_dict\")\n",
    "## index = 0\n",
    "##for k,v in pretrained_dict.items():\n",
    "##    print(\"index, k =  \",index,\"  \",k)\n",
    "##    index = index+1\n",
    "## mds  \n",
    "\n",
    "##pretrained_dict = torch.load('ML/29July2020_Trks_to_KDE_C_lossB_100epochs_b64_1m3_nOut_50x50/29July2020_Trks_to_KDE_C_lossB_100epochs_b64_1m3_nOut_50x50_final.pyt')\n",
    "##print(\"model_dict instantiated\")\n",
    "# 1. filter out unnecessary keys\n",
    "##pretrained_dict = {k: v for k, v in pretrained_dict.items() if k in model_dict}\n",
    "##print(\"pretrained_dict iterated\")\n",
    "# 2. overwrite entries in the existing state dict\n",
    "##model_dict.update(pretrained_dict) \n",
    "##\n",
    "#   when starting from a model with a fully connected last layer rather than a convolutional layer\n",
    "# 3. load the new state dict\n",
    "#   need to use strict=False as the two models state model attributes do not agree exactly\n",
    "#   see https://pytorch.org/docs/master/_modules/torch/nn/modules/module.html#Module.load_state_dict\n",
    "\n",
    "##model.load_state_dict(pretrained_dict,strict=False)\n",
    "\n",
    "## print('model_dict =    ', model_dict)\n",
    "\n",
    "## finished at training cost = 1.46, validation cost = 1.50\n",
    "d_folder = '22December_testing_DDplus_loss_Bb_iter2_floatAll_100epochs_3em6'\n",
    "d_name = d_folder\n",
    "suffix = 'final'\n",
    "dict_name = 'ML/' + d_folder + '/' + d_name + '_'+ suffix + '.pyt'\n",
    "print('dict_name = ',dict_name)\n",
    "pretrained_dict = torch.load(dict_name)\n",
    "\n",
    "print(\" \")\n",
    "print(\"  for pretrained_dict\")\n",
    "index = 0\n",
    "for k,v in pretrained_dict.items():\n",
    "    print(\"index, k =  \",index,\"  \",k)\n",
    "    index = index+1\n",
    " \n",
    "\n",
    "##print(\"model_dict instantiated\")\n",
    "# 1. filter out unnecessary keys\n",
    "pretrained_dict = {k: v for k, v in pretrained_dict.items() if k in model_dict}\n",
    "print(\"pretrained_dict iterated\")\n",
    "# 2. overwrite entries in the existing state dict\n",
    "model_dict.update(pretrained_dict) \n",
    "##\n",
    "#   when starting from a model with a fully connected last layer rather than a convolutional layer\n",
    "# 3. load the new state dict\n",
    "#   need to use strict=False as the two models state model attributes do not agree exactly\n",
    "#   see https://pytorch.org/docs/master/_modules/torch/nn/modules/module.html#Module.load_state_dict\n",
    "\n",
    "model.load_state_dict(pretrained_dict,strict=False)\n",
    "\n"
   ]
  },
  {
   "cell_type": "code",
   "execution_count": 14,
   "metadata": {},
   "outputs": [],
   "source": [
    "##print('validation.dataset.tensors = ',validation.dataset.tensors)\n",
    "fig_size = plt.rcParams[\"figure.figsize\"]\n",
    "fig_size[0] = 10\n",
    "fig_size[1] = 4\n",
    "plt.rcParams[\"figure.figsize\"] = fig_size"
   ]
  },
  {
   "cell_type": "code",
   "execution_count": 15,
   "metadata": {
    "scrolled": false
   },
   "outputs": [
    {
     "name": "stdout",
     "output_type": "stream",
     "text": [
      "Loading data...\n",
      "pocaMx.shape =  (20000,)\n",
      "nEvts =  20000\n",
      "len(pocaMx[0]) =  211\n",
      "len(pocaMx[1]) =  21\n",
      "len(pocaMx[2]) =  20\n",
      "len(pocaMx[3]) =  198\n",
      "len(pocaMx[4]) =  233\n",
      "majorAxis.shape =  (20000, 3)\n",
      "minorAxis_1.shape =  (20000, 3)\n",
      "minorAxis_2.shape =  (20000, 3)\n",
      "have entered six_ellipsoid_parameters\n",
      "  \n",
      " \n",
      "  nEvts =  20000\n",
      " iEvt, nTrks =  0 211\n",
      " iEvt, nTrks =  1 21\n",
      " iEvt, nTrks =  2 20\n",
      " iEvt, nTrks =  3 198\n",
      " iEvt, nTrks =  4 233\n",
      " iEvt, nTrks =  5 85\n",
      " iEvt, nTrks =  6 223\n",
      " iEvt, nTrks =  7 425\n",
      " iEvt, nTrks =  8 252\n",
      " iEvt, nTrks =  9 169\n",
      "A.shape =  (20000,)\n",
      "A[iTrk][0] =  312.1509\n",
      "B[iTrk][0] =  312.14526\n",
      "C[iTrk][0] =  0.018625624\n",
      "D[iTrk][0] =  -0.003707775\n",
      "E[iTrk][0] =  0.7585639\n",
      "F[iTrk][0] =  1.5268729\n",
      "A[iTrk][0] =  307.0049\n",
      "B[iTrk][0] =  309.3697\n",
      "C[iTrk][0] =  16.298458\n",
      "D[iTrk][0] =  3.7850251\n",
      "E[iTrk][0] =  39.0255\n",
      "F[iTrk][0] =  -28.694317\n",
      "A[iTrk][0] =  311.72607\n",
      "B[iTrk][0] =  312.14993\n",
      "C[iTrk][0] =  0.86016846\n",
      "D[iTrk][0] =  0.03459918\n",
      "E[iTrk][0] =  11.524924\n",
      "F[iTrk][0] =  -0.93459\n",
      "A[iTrk][0] =  312.03\n",
      "B[iTrk][0] =  312.1198\n",
      "C[iTrk][0] =  0.31132916\n",
      "D[iTrk][0] =  0.06352115\n",
      "E[iTrk][0] =  6.1855507\n",
      "F[iTrk][0] =  -3.2027178\n",
      "A[iTrk][0] =  312.0758\n",
      "B[iTrk][0] =  312.14346\n",
      "C[iTrk][0] =  0.17242321\n",
      "D[iTrk][0] =  0.02671076\n",
      "E[iTrk][0] =  -4.8985863\n",
      "F[iTrk][0] =  1.7008059\n",
      "A[iTrk][0] =  312.1496\n",
      "B[iTrk][0] =  312.15186\n",
      "C[iTrk][0] =  0.0079896655\n",
      "D[iTrk][0] =  0.0016326695\n",
      "E[iTrk][0] =  0.98978716\n",
      "F[iTrk][0] =  -0.51698303\n",
      "A[iTrk][0] =  312.15152\n",
      "B[iTrk][0] =  312.14337\n",
      "C[iTrk][0] =  0.02129215\n",
      "D[iTrk][0] =  -0.0034102227\n",
      "E[iTrk][0] =  0.62326497\n",
      "F[iTrk][0] =  1.7130098\n",
      "A[iTrk][0] =  312.146\n",
      "B[iTrk][0] =  312.1519\n",
      "C[iTrk][0] =  0.015216089\n",
      "D[iTrk][0] =  0.0024184594\n",
      "E[iTrk][0] =  1.4515046\n",
      "F[iTrk][0] =  -0.5175251\n",
      "A[iTrk][0] =  312.1459\n",
      "B[iTrk][0] =  312.15268\n",
      "C[iTrk][0] =  0.013644187\n",
      "D[iTrk][0] =  0.00061224576\n",
      "E[iTrk][0] =  -1.4534992\n",
      "F[iTrk][0] =  0.12936354\n",
      "A[iTrk][0] =  311.7683\n",
      "B[iTrk][0] =  312.13577\n",
      "C[iTrk][0] =  0.80389833\n",
      "D[iTrk][0] =  -0.08082064\n",
      "E[iTrk][0] =  10.9404955\n",
      "F[iTrk][0] =  2.3001347\n",
      "len(X) =  20000\n",
      "len(Xlist) =  1\n",
      "Loaded dataAA/20K_POCA_kernel_evts_200926.h5 in 42.68 s\n",
      "outer loop X.shape =  (20000, 9, 600)\n",
      "Constructing 18000 event dataset took 0.08886 s\n",
      "x_t.shape =  torch.Size([18000, 9, 600])\n",
      "x_t.shape[0] =  18000\n",
      "x_t.shape[1] =  9\n",
      "x_t.shape =  torch.Size([18000, 9, 600])\n",
      "Loading data...\n",
      "pocaMx.shape =  (20000,)\n",
      "nEvts =  20000\n",
      "len(pocaMx[0]) =  211\n",
      "len(pocaMx[1]) =  21\n",
      "len(pocaMx[2]) =  20\n",
      "len(pocaMx[3]) =  198\n",
      "len(pocaMx[4]) =  233\n",
      "majorAxis.shape =  (20000, 3)\n",
      "minorAxis_1.shape =  (20000, 3)\n",
      "minorAxis_2.shape =  (20000, 3)\n",
      "have entered six_ellipsoid_parameters\n",
      "  \n",
      " \n",
      "  nEvts =  20000\n",
      " iEvt, nTrks =  0 211\n",
      " iEvt, nTrks =  1 21\n",
      " iEvt, nTrks =  2 20\n",
      " iEvt, nTrks =  3 198\n",
      " iEvt, nTrks =  4 233\n",
      " iEvt, nTrks =  5 85\n",
      " iEvt, nTrks =  6 223\n",
      " iEvt, nTrks =  7 425\n",
      " iEvt, nTrks =  8 252\n",
      " iEvt, nTrks =  9 169\n",
      "A.shape =  (20000,)\n",
      "A[iTrk][0] =  312.1509\n",
      "B[iTrk][0] =  312.14526\n",
      "C[iTrk][0] =  0.018625624\n",
      "D[iTrk][0] =  -0.003707775\n",
      "E[iTrk][0] =  0.7585639\n",
      "F[iTrk][0] =  1.5268729\n",
      "A[iTrk][0] =  307.0049\n",
      "B[iTrk][0] =  309.3697\n",
      "C[iTrk][0] =  16.298458\n",
      "D[iTrk][0] =  3.7850251\n",
      "E[iTrk][0] =  39.0255\n",
      "F[iTrk][0] =  -28.694317\n",
      "A[iTrk][0] =  311.72607\n",
      "B[iTrk][0] =  312.14993\n",
      "C[iTrk][0] =  0.86016846\n",
      "D[iTrk][0] =  0.03459918\n",
      "E[iTrk][0] =  11.524924\n",
      "F[iTrk][0] =  -0.93459\n",
      "A[iTrk][0] =  312.03\n",
      "B[iTrk][0] =  312.1198\n",
      "C[iTrk][0] =  0.31132916\n",
      "D[iTrk][0] =  0.06352115\n",
      "E[iTrk][0] =  6.1855507\n",
      "F[iTrk][0] =  -3.2027178\n",
      "A[iTrk][0] =  312.0758\n",
      "B[iTrk][0] =  312.14346\n",
      "C[iTrk][0] =  0.17242321\n",
      "D[iTrk][0] =  0.02671076\n",
      "E[iTrk][0] =  -4.8985863\n",
      "F[iTrk][0] =  1.7008059\n",
      "A[iTrk][0] =  312.1496\n",
      "B[iTrk][0] =  312.15186\n",
      "C[iTrk][0] =  0.0079896655\n",
      "D[iTrk][0] =  0.0016326695\n",
      "E[iTrk][0] =  0.98978716\n",
      "F[iTrk][0] =  -0.51698303\n",
      "A[iTrk][0] =  312.15152\n",
      "B[iTrk][0] =  312.14337\n",
      "C[iTrk][0] =  0.02129215\n",
      "D[iTrk][0] =  -0.0034102227\n",
      "E[iTrk][0] =  0.62326497\n",
      "F[iTrk][0] =  1.7130098\n",
      "A[iTrk][0] =  312.146\n",
      "B[iTrk][0] =  312.1519\n",
      "C[iTrk][0] =  0.015216089\n",
      "D[iTrk][0] =  0.0024184594\n",
      "E[iTrk][0] =  1.4515046\n",
      "F[iTrk][0] =  -0.5175251\n",
      "A[iTrk][0] =  312.1459\n",
      "B[iTrk][0] =  312.15268\n",
      "C[iTrk][0] =  0.013644187\n",
      "D[iTrk][0] =  0.00061224576\n",
      "E[iTrk][0] =  -1.4534992\n",
      "F[iTrk][0] =  0.12936354\n",
      "A[iTrk][0] =  311.7683\n",
      "B[iTrk][0] =  312.13577\n",
      "C[iTrk][0] =  0.80389833\n",
      "D[iTrk][0] =  -0.08082064\n",
      "E[iTrk][0] =  10.9404955\n",
      "F[iTrk][0] =  2.3001347\n",
      "len(X) =  20000\n",
      "len(Xlist) =  1\n",
      "Loaded dataAA/20K_POCA_kernel_evts_200926.h5 in 40.81 s\n",
      "outer loop X.shape =  (20000, 9, 600)\n",
      "Constructing 2000 event dataset took 0.007473 s\n",
      "x_t.shape =  torch.Size([2000, 9, 600])\n",
      "x_t.shape[0] =  2000\n",
      "x_t.shape[1] =  9\n",
      "x_t.shape =  torch.Size([2000, 9, 600])\n"
     ]
    }
   ],
   "source": [
    "\n",
    "## Training dataset. You can put as many files here as desired.\n",
    "\n",
    "##train_loader = collect_t2kde_data('/share/lazy/pv-finder/20k_evts_for_KDE_learning_200716.h5',\n",
    "train_loader = collect_t2kde_data('dataAA/20K_POCA_kernel_evts_200926.h5',\n",
    "##train_loader = collect_t2kde_data('/share/lazy/pv-finder/test_data_for_KDE_learning_BastilleDay20.h5',\n",
    "                            batch_size=batch_size,\n",
    "## if we are using a larger dataset (240K events, with the datasets above, and 11 GB  of GPU memory),\n",
    "## the dataset will overflow the GPU memory; device=device will allow the data to move back\n",
    "## and forth between the CPU and GPU memory. While this allows use of a larger dataset, it slows\n",
    "## down performance by about 10%.  So comment out when not needed.\n",
    "##                          device=device,\n",
    "                           slice = slice(None,18000)\n",
    "                           )\n",
    "                            \n",
    "# Validation dataset. You can slice to reduce the size.\n",
    "## mds no separate validation set yet,\n",
    "val_loader = collect_t2kde_data('dataAA/20K_POCA_kernel_evts_200926.h5',\n",
    "                            batch_size=batch_size,\n",
    "##                            device=device,\n",
    "                            slice = slice(18000,None)\n",
    "                           )\n"
   ]
  },
  {
   "cell_type": "code",
   "execution_count": 16,
   "metadata": {
    "scrolled": false
   },
   "outputs": [
    {
     "data": {
      "application/javascript": [
       "/* Put everything inside the global mpl namespace */\n",
       "window.mpl = {};\n",
       "\n",
       "\n",
       "mpl.get_websocket_type = function() {\n",
       "    if (typeof(WebSocket) !== 'undefined') {\n",
       "        return WebSocket;\n",
       "    } else if (typeof(MozWebSocket) !== 'undefined') {\n",
       "        return MozWebSocket;\n",
       "    } else {\n",
       "        alert('Your browser does not have WebSocket support. ' +\n",
       "              'Please try Chrome, Safari or Firefox ≥ 6. ' +\n",
       "              'Firefox 4 and 5 are also supported but you ' +\n",
       "              'have to enable WebSockets in about:config.');\n",
       "    };\n",
       "}\n",
       "\n",
       "mpl.figure = function(figure_id, websocket, ondownload, parent_element) {\n",
       "    this.id = figure_id;\n",
       "\n",
       "    this.ws = websocket;\n",
       "\n",
       "    this.supports_binary = (this.ws.binaryType != undefined);\n",
       "\n",
       "    if (!this.supports_binary) {\n",
       "        var warnings = document.getElementById(\"mpl-warnings\");\n",
       "        if (warnings) {\n",
       "            warnings.style.display = 'block';\n",
       "            warnings.textContent = (\n",
       "                \"This browser does not support binary websocket messages. \" +\n",
       "                    \"Performance may be slow.\");\n",
       "        }\n",
       "    }\n",
       "\n",
       "    this.imageObj = new Image();\n",
       "\n",
       "    this.context = undefined;\n",
       "    this.message = undefined;\n",
       "    this.canvas = undefined;\n",
       "    this.rubberband_canvas = undefined;\n",
       "    this.rubberband_context = undefined;\n",
       "    this.format_dropdown = undefined;\n",
       "\n",
       "    this.image_mode = 'full';\n",
       "\n",
       "    this.root = $('<div/>');\n",
       "    this._root_extra_style(this.root)\n",
       "    this.root.attr('style', 'display: inline-block');\n",
       "\n",
       "    $(parent_element).append(this.root);\n",
       "\n",
       "    this._init_header(this);\n",
       "    this._init_canvas(this);\n",
       "    this._init_toolbar(this);\n",
       "\n",
       "    var fig = this;\n",
       "\n",
       "    this.waiting = false;\n",
       "\n",
       "    this.ws.onopen =  function () {\n",
       "            fig.send_message(\"supports_binary\", {value: fig.supports_binary});\n",
       "            fig.send_message(\"send_image_mode\", {});\n",
       "            if (mpl.ratio != 1) {\n",
       "                fig.send_message(\"set_dpi_ratio\", {'dpi_ratio': mpl.ratio});\n",
       "            }\n",
       "            fig.send_message(\"refresh\", {});\n",
       "        }\n",
       "\n",
       "    this.imageObj.onload = function() {\n",
       "            if (fig.image_mode == 'full') {\n",
       "                // Full images could contain transparency (where diff images\n",
       "                // almost always do), so we need to clear the canvas so that\n",
       "                // there is no ghosting.\n",
       "                fig.context.clearRect(0, 0, fig.canvas.width, fig.canvas.height);\n",
       "            }\n",
       "            fig.context.drawImage(fig.imageObj, 0, 0);\n",
       "        };\n",
       "\n",
       "    this.imageObj.onunload = function() {\n",
       "        fig.ws.close();\n",
       "    }\n",
       "\n",
       "    this.ws.onmessage = this._make_on_message_function(this);\n",
       "\n",
       "    this.ondownload = ondownload;\n",
       "}\n",
       "\n",
       "mpl.figure.prototype._init_header = function() {\n",
       "    var titlebar = $(\n",
       "        '<div class=\"ui-dialog-titlebar ui-widget-header ui-corner-all ' +\n",
       "        'ui-helper-clearfix\"/>');\n",
       "    var titletext = $(\n",
       "        '<div class=\"ui-dialog-title\" style=\"width: 100%; ' +\n",
       "        'text-align: center; padding: 3px;\"/>');\n",
       "    titlebar.append(titletext)\n",
       "    this.root.append(titlebar);\n",
       "    this.header = titletext[0];\n",
       "}\n",
       "\n",
       "\n",
       "\n",
       "mpl.figure.prototype._canvas_extra_style = function(canvas_div) {\n",
       "\n",
       "}\n",
       "\n",
       "\n",
       "mpl.figure.prototype._root_extra_style = function(canvas_div) {\n",
       "\n",
       "}\n",
       "\n",
       "mpl.figure.prototype._init_canvas = function() {\n",
       "    var fig = this;\n",
       "\n",
       "    var canvas_div = $('<div/>');\n",
       "\n",
       "    canvas_div.attr('style', 'position: relative; clear: both; outline: 0');\n",
       "\n",
       "    function canvas_keyboard_event(event) {\n",
       "        return fig.key_event(event, event['data']);\n",
       "    }\n",
       "\n",
       "    canvas_div.keydown('key_press', canvas_keyboard_event);\n",
       "    canvas_div.keyup('key_release', canvas_keyboard_event);\n",
       "    this.canvas_div = canvas_div\n",
       "    this._canvas_extra_style(canvas_div)\n",
       "    this.root.append(canvas_div);\n",
       "\n",
       "    var canvas = $('<canvas/>');\n",
       "    canvas.addClass('mpl-canvas');\n",
       "    canvas.attr('style', \"left: 0; top: 0; z-index: 0; outline: 0\")\n",
       "\n",
       "    this.canvas = canvas[0];\n",
       "    this.context = canvas[0].getContext(\"2d\");\n",
       "\n",
       "    var backingStore = this.context.backingStorePixelRatio ||\n",
       "\tthis.context.webkitBackingStorePixelRatio ||\n",
       "\tthis.context.mozBackingStorePixelRatio ||\n",
       "\tthis.context.msBackingStorePixelRatio ||\n",
       "\tthis.context.oBackingStorePixelRatio ||\n",
       "\tthis.context.backingStorePixelRatio || 1;\n",
       "\n",
       "    mpl.ratio = (window.devicePixelRatio || 1) / backingStore;\n",
       "\n",
       "    var rubberband = $('<canvas/>');\n",
       "    rubberband.attr('style', \"position: absolute; left: 0; top: 0; z-index: 1;\")\n",
       "\n",
       "    var pass_mouse_events = true;\n",
       "\n",
       "    canvas_div.resizable({\n",
       "        start: function(event, ui) {\n",
       "            pass_mouse_events = false;\n",
       "        },\n",
       "        resize: function(event, ui) {\n",
       "            fig.request_resize(ui.size.width, ui.size.height);\n",
       "        },\n",
       "        stop: function(event, ui) {\n",
       "            pass_mouse_events = true;\n",
       "            fig.request_resize(ui.size.width, ui.size.height);\n",
       "        },\n",
       "    });\n",
       "\n",
       "    function mouse_event_fn(event) {\n",
       "        if (pass_mouse_events)\n",
       "            return fig.mouse_event(event, event['data']);\n",
       "    }\n",
       "\n",
       "    rubberband.mousedown('button_press', mouse_event_fn);\n",
       "    rubberband.mouseup('button_release', mouse_event_fn);\n",
       "    // Throttle sequential mouse events to 1 every 20ms.\n",
       "    rubberband.mousemove('motion_notify', mouse_event_fn);\n",
       "\n",
       "    rubberband.mouseenter('figure_enter', mouse_event_fn);\n",
       "    rubberband.mouseleave('figure_leave', mouse_event_fn);\n",
       "\n",
       "    canvas_div.on(\"wheel\", function (event) {\n",
       "        event = event.originalEvent;\n",
       "        event['data'] = 'scroll'\n",
       "        if (event.deltaY < 0) {\n",
       "            event.step = 1;\n",
       "        } else {\n",
       "            event.step = -1;\n",
       "        }\n",
       "        mouse_event_fn(event);\n",
       "    });\n",
       "\n",
       "    canvas_div.append(canvas);\n",
       "    canvas_div.append(rubberband);\n",
       "\n",
       "    this.rubberband = rubberband;\n",
       "    this.rubberband_canvas = rubberband[0];\n",
       "    this.rubberband_context = rubberband[0].getContext(\"2d\");\n",
       "    this.rubberband_context.strokeStyle = \"#000000\";\n",
       "\n",
       "    this._resize_canvas = function(width, height) {\n",
       "        // Keep the size of the canvas, canvas container, and rubber band\n",
       "        // canvas in synch.\n",
       "        canvas_div.css('width', width)\n",
       "        canvas_div.css('height', height)\n",
       "\n",
       "        canvas.attr('width', width * mpl.ratio);\n",
       "        canvas.attr('height', height * mpl.ratio);\n",
       "        canvas.attr('style', 'width: ' + width + 'px; height: ' + height + 'px;');\n",
       "\n",
       "        rubberband.attr('width', width);\n",
       "        rubberband.attr('height', height);\n",
       "    }\n",
       "\n",
       "    // Set the figure to an initial 600x600px, this will subsequently be updated\n",
       "    // upon first draw.\n",
       "    this._resize_canvas(600, 600);\n",
       "\n",
       "    // Disable right mouse context menu.\n",
       "    $(this.rubberband_canvas).bind(\"contextmenu\",function(e){\n",
       "        return false;\n",
       "    });\n",
       "\n",
       "    function set_focus () {\n",
       "        canvas.focus();\n",
       "        canvas_div.focus();\n",
       "    }\n",
       "\n",
       "    window.setTimeout(set_focus, 100);\n",
       "}\n",
       "\n",
       "mpl.figure.prototype._init_toolbar = function() {\n",
       "    var fig = this;\n",
       "\n",
       "    var nav_element = $('<div/>');\n",
       "    nav_element.attr('style', 'width: 100%');\n",
       "    this.root.append(nav_element);\n",
       "\n",
       "    // Define a callback function for later on.\n",
       "    function toolbar_event(event) {\n",
       "        return fig.toolbar_button_onclick(event['data']);\n",
       "    }\n",
       "    function toolbar_mouse_event(event) {\n",
       "        return fig.toolbar_button_onmouseover(event['data']);\n",
       "    }\n",
       "\n",
       "    for(var toolbar_ind in mpl.toolbar_items) {\n",
       "        var name = mpl.toolbar_items[toolbar_ind][0];\n",
       "        var tooltip = mpl.toolbar_items[toolbar_ind][1];\n",
       "        var image = mpl.toolbar_items[toolbar_ind][2];\n",
       "        var method_name = mpl.toolbar_items[toolbar_ind][3];\n",
       "\n",
       "        if (!name) {\n",
       "            // put a spacer in here.\n",
       "            continue;\n",
       "        }\n",
       "        var button = $('<button/>');\n",
       "        button.addClass('ui-button ui-widget ui-state-default ui-corner-all ' +\n",
       "                        'ui-button-icon-only');\n",
       "        button.attr('role', 'button');\n",
       "        button.attr('aria-disabled', 'false');\n",
       "        button.click(method_name, toolbar_event);\n",
       "        button.mouseover(tooltip, toolbar_mouse_event);\n",
       "\n",
       "        var icon_img = $('<span/>');\n",
       "        icon_img.addClass('ui-button-icon-primary ui-icon');\n",
       "        icon_img.addClass(image);\n",
       "        icon_img.addClass('ui-corner-all');\n",
       "\n",
       "        var tooltip_span = $('<span/>');\n",
       "        tooltip_span.addClass('ui-button-text');\n",
       "        tooltip_span.html(tooltip);\n",
       "\n",
       "        button.append(icon_img);\n",
       "        button.append(tooltip_span);\n",
       "\n",
       "        nav_element.append(button);\n",
       "    }\n",
       "\n",
       "    var fmt_picker_span = $('<span/>');\n",
       "\n",
       "    var fmt_picker = $('<select/>');\n",
       "    fmt_picker.addClass('mpl-toolbar-option ui-widget ui-widget-content');\n",
       "    fmt_picker_span.append(fmt_picker);\n",
       "    nav_element.append(fmt_picker_span);\n",
       "    this.format_dropdown = fmt_picker[0];\n",
       "\n",
       "    for (var ind in mpl.extensions) {\n",
       "        var fmt = mpl.extensions[ind];\n",
       "        var option = $(\n",
       "            '<option/>', {selected: fmt === mpl.default_extension}).html(fmt);\n",
       "        fmt_picker.append(option);\n",
       "    }\n",
       "\n",
       "    // Add hover states to the ui-buttons\n",
       "    $( \".ui-button\" ).hover(\n",
       "        function() { $(this).addClass(\"ui-state-hover\");},\n",
       "        function() { $(this).removeClass(\"ui-state-hover\");}\n",
       "    );\n",
       "\n",
       "    var status_bar = $('<span class=\"mpl-message\"/>');\n",
       "    nav_element.append(status_bar);\n",
       "    this.message = status_bar[0];\n",
       "}\n",
       "\n",
       "mpl.figure.prototype.request_resize = function(x_pixels, y_pixels) {\n",
       "    // Request matplotlib to resize the figure. Matplotlib will then trigger a resize in the client,\n",
       "    // which will in turn request a refresh of the image.\n",
       "    this.send_message('resize', {'width': x_pixels, 'height': y_pixels});\n",
       "}\n",
       "\n",
       "mpl.figure.prototype.send_message = function(type, properties) {\n",
       "    properties['type'] = type;\n",
       "    properties['figure_id'] = this.id;\n",
       "    this.ws.send(JSON.stringify(properties));\n",
       "}\n",
       "\n",
       "mpl.figure.prototype.send_draw_message = function() {\n",
       "    if (!this.waiting) {\n",
       "        this.waiting = true;\n",
       "        this.ws.send(JSON.stringify({type: \"draw\", figure_id: this.id}));\n",
       "    }\n",
       "}\n",
       "\n",
       "\n",
       "mpl.figure.prototype.handle_save = function(fig, msg) {\n",
       "    var format_dropdown = fig.format_dropdown;\n",
       "    var format = format_dropdown.options[format_dropdown.selectedIndex].value;\n",
       "    fig.ondownload(fig, format);\n",
       "}\n",
       "\n",
       "\n",
       "mpl.figure.prototype.handle_resize = function(fig, msg) {\n",
       "    var size = msg['size'];\n",
       "    if (size[0] != fig.canvas.width || size[1] != fig.canvas.height) {\n",
       "        fig._resize_canvas(size[0], size[1]);\n",
       "        fig.send_message(\"refresh\", {});\n",
       "    };\n",
       "}\n",
       "\n",
       "mpl.figure.prototype.handle_rubberband = function(fig, msg) {\n",
       "    var x0 = msg['x0'] / mpl.ratio;\n",
       "    var y0 = (fig.canvas.height - msg['y0']) / mpl.ratio;\n",
       "    var x1 = msg['x1'] / mpl.ratio;\n",
       "    var y1 = (fig.canvas.height - msg['y1']) / mpl.ratio;\n",
       "    x0 = Math.floor(x0) + 0.5;\n",
       "    y0 = Math.floor(y0) + 0.5;\n",
       "    x1 = Math.floor(x1) + 0.5;\n",
       "    y1 = Math.floor(y1) + 0.5;\n",
       "    var min_x = Math.min(x0, x1);\n",
       "    var min_y = Math.min(y0, y1);\n",
       "    var width = Math.abs(x1 - x0);\n",
       "    var height = Math.abs(y1 - y0);\n",
       "\n",
       "    fig.rubberband_context.clearRect(\n",
       "        0, 0, fig.canvas.width / mpl.ratio, fig.canvas.height / mpl.ratio);\n",
       "\n",
       "    fig.rubberband_context.strokeRect(min_x, min_y, width, height);\n",
       "}\n",
       "\n",
       "mpl.figure.prototype.handle_figure_label = function(fig, msg) {\n",
       "    // Updates the figure title.\n",
       "    fig.header.textContent = msg['label'];\n",
       "}\n",
       "\n",
       "mpl.figure.prototype.handle_cursor = function(fig, msg) {\n",
       "    var cursor = msg['cursor'];\n",
       "    switch(cursor)\n",
       "    {\n",
       "    case 0:\n",
       "        cursor = 'pointer';\n",
       "        break;\n",
       "    case 1:\n",
       "        cursor = 'default';\n",
       "        break;\n",
       "    case 2:\n",
       "        cursor = 'crosshair';\n",
       "        break;\n",
       "    case 3:\n",
       "        cursor = 'move';\n",
       "        break;\n",
       "    }\n",
       "    fig.rubberband_canvas.style.cursor = cursor;\n",
       "}\n",
       "\n",
       "mpl.figure.prototype.handle_message = function(fig, msg) {\n",
       "    fig.message.textContent = msg['message'];\n",
       "}\n",
       "\n",
       "mpl.figure.prototype.handle_draw = function(fig, msg) {\n",
       "    // Request the server to send over a new figure.\n",
       "    fig.send_draw_message();\n",
       "}\n",
       "\n",
       "mpl.figure.prototype.handle_image_mode = function(fig, msg) {\n",
       "    fig.image_mode = msg['mode'];\n",
       "}\n",
       "\n",
       "mpl.figure.prototype.updated_canvas_event = function() {\n",
       "    // Called whenever the canvas gets updated.\n",
       "    this.send_message(\"ack\", {});\n",
       "}\n",
       "\n",
       "// A function to construct a web socket function for onmessage handling.\n",
       "// Called in the figure constructor.\n",
       "mpl.figure.prototype._make_on_message_function = function(fig) {\n",
       "    return function socket_on_message(evt) {\n",
       "        if (evt.data instanceof Blob) {\n",
       "            /* FIXME: We get \"Resource interpreted as Image but\n",
       "             * transferred with MIME type text/plain:\" errors on\n",
       "             * Chrome.  But how to set the MIME type?  It doesn't seem\n",
       "             * to be part of the websocket stream */\n",
       "            evt.data.type = \"image/png\";\n",
       "\n",
       "            /* Free the memory for the previous frames */\n",
       "            if (fig.imageObj.src) {\n",
       "                (window.URL || window.webkitURL).revokeObjectURL(\n",
       "                    fig.imageObj.src);\n",
       "            }\n",
       "\n",
       "            fig.imageObj.src = (window.URL || window.webkitURL).createObjectURL(\n",
       "                evt.data);\n",
       "            fig.updated_canvas_event();\n",
       "            fig.waiting = false;\n",
       "            return;\n",
       "        }\n",
       "        else if (typeof evt.data === 'string' && evt.data.slice(0, 21) == \"data:image/png;base64\") {\n",
       "            fig.imageObj.src = evt.data;\n",
       "            fig.updated_canvas_event();\n",
       "            fig.waiting = false;\n",
       "            return;\n",
       "        }\n",
       "\n",
       "        var msg = JSON.parse(evt.data);\n",
       "        var msg_type = msg['type'];\n",
       "\n",
       "        // Call the  \"handle_{type}\" callback, which takes\n",
       "        // the figure and JSON message as its only arguments.\n",
       "        try {\n",
       "            var callback = fig[\"handle_\" + msg_type];\n",
       "        } catch (e) {\n",
       "            console.log(\"No handler for the '\" + msg_type + \"' message type: \", msg);\n",
       "            return;\n",
       "        }\n",
       "\n",
       "        if (callback) {\n",
       "            try {\n",
       "                // console.log(\"Handling '\" + msg_type + \"' message: \", msg);\n",
       "                callback(fig, msg);\n",
       "            } catch (e) {\n",
       "                console.log(\"Exception inside the 'handler_\" + msg_type + \"' callback:\", e, e.stack, msg);\n",
       "            }\n",
       "        }\n",
       "    };\n",
       "}\n",
       "\n",
       "// from http://stackoverflow.com/questions/1114465/getting-mouse-location-in-canvas\n",
       "mpl.findpos = function(e) {\n",
       "    //this section is from http://www.quirksmode.org/js/events_properties.html\n",
       "    var targ;\n",
       "    if (!e)\n",
       "        e = window.event;\n",
       "    if (e.target)\n",
       "        targ = e.target;\n",
       "    else if (e.srcElement)\n",
       "        targ = e.srcElement;\n",
       "    if (targ.nodeType == 3) // defeat Safari bug\n",
       "        targ = targ.parentNode;\n",
       "\n",
       "    // jQuery normalizes the pageX and pageY\n",
       "    // pageX,Y are the mouse positions relative to the document\n",
       "    // offset() returns the position of the element relative to the document\n",
       "    var x = e.pageX - $(targ).offset().left;\n",
       "    var y = e.pageY - $(targ).offset().top;\n",
       "\n",
       "    return {\"x\": x, \"y\": y};\n",
       "};\n",
       "\n",
       "/*\n",
       " * return a copy of an object with only non-object keys\n",
       " * we need this to avoid circular references\n",
       " * http://stackoverflow.com/a/24161582/3208463\n",
       " */\n",
       "function simpleKeys (original) {\n",
       "  return Object.keys(original).reduce(function (obj, key) {\n",
       "    if (typeof original[key] !== 'object')\n",
       "        obj[key] = original[key]\n",
       "    return obj;\n",
       "  }, {});\n",
       "}\n",
       "\n",
       "mpl.figure.prototype.mouse_event = function(event, name) {\n",
       "    var canvas_pos = mpl.findpos(event)\n",
       "\n",
       "    if (name === 'button_press')\n",
       "    {\n",
       "        this.canvas.focus();\n",
       "        this.canvas_div.focus();\n",
       "    }\n",
       "\n",
       "    var x = canvas_pos.x * mpl.ratio;\n",
       "    var y = canvas_pos.y * mpl.ratio;\n",
       "\n",
       "    this.send_message(name, {x: x, y: y, button: event.button,\n",
       "                             step: event.step,\n",
       "                             guiEvent: simpleKeys(event)});\n",
       "\n",
       "    /* This prevents the web browser from automatically changing to\n",
       "     * the text insertion cursor when the button is pressed.  We want\n",
       "     * to control all of the cursor setting manually through the\n",
       "     * 'cursor' event from matplotlib */\n",
       "    event.preventDefault();\n",
       "    return false;\n",
       "}\n",
       "\n",
       "mpl.figure.prototype._key_event_extra = function(event, name) {\n",
       "    // Handle any extra behaviour associated with a key event\n",
       "}\n",
       "\n",
       "mpl.figure.prototype.key_event = function(event, name) {\n",
       "\n",
       "    // Prevent repeat events\n",
       "    if (name == 'key_press')\n",
       "    {\n",
       "        if (event.which === this._key)\n",
       "            return;\n",
       "        else\n",
       "            this._key = event.which;\n",
       "    }\n",
       "    if (name == 'key_release')\n",
       "        this._key = null;\n",
       "\n",
       "    var value = '';\n",
       "    if (event.ctrlKey && event.which != 17)\n",
       "        value += \"ctrl+\";\n",
       "    if (event.altKey && event.which != 18)\n",
       "        value += \"alt+\";\n",
       "    if (event.shiftKey && event.which != 16)\n",
       "        value += \"shift+\";\n",
       "\n",
       "    value += 'k';\n",
       "    value += event.which.toString();\n",
       "\n",
       "    this._key_event_extra(event, name);\n",
       "\n",
       "    this.send_message(name, {key: value,\n",
       "                             guiEvent: simpleKeys(event)});\n",
       "    return false;\n",
       "}\n",
       "\n",
       "mpl.figure.prototype.toolbar_button_onclick = function(name) {\n",
       "    if (name == 'download') {\n",
       "        this.handle_save(this, null);\n",
       "    } else {\n",
       "        this.send_message(\"toolbar_button\", {name: name});\n",
       "    }\n",
       "};\n",
       "\n",
       "mpl.figure.prototype.toolbar_button_onmouseover = function(tooltip) {\n",
       "    this.message.textContent = tooltip;\n",
       "};\n",
       "mpl.toolbar_items = [[\"Home\", \"Reset original view\", \"fa fa-home icon-home\", \"home\"], [\"Back\", \"Back to previous view\", \"fa fa-arrow-left icon-arrow-left\", \"back\"], [\"Forward\", \"Forward to next view\", \"fa fa-arrow-right icon-arrow-right\", \"forward\"], [\"\", \"\", \"\", \"\"], [\"Pan\", \"Pan axes with left mouse, zoom with right\", \"fa fa-arrows icon-move\", \"pan\"], [\"Zoom\", \"Zoom to rectangle\", \"fa fa-square-o icon-check-empty\", \"zoom\"], [\"\", \"\", \"\", \"\"], [\"Download\", \"Download plot\", \"fa fa-floppy-o icon-save\", \"download\"]];\n",
       "\n",
       "mpl.extensions = [\"eps\", \"jpeg\", \"pdf\", \"png\", \"ps\", \"raw\", \"svg\", \"tif\"];\n",
       "\n",
       "mpl.default_extension = \"png\";var comm_websocket_adapter = function(comm) {\n",
       "    // Create a \"websocket\"-like object which calls the given IPython comm\n",
       "    // object with the appropriate methods. Currently this is a non binary\n",
       "    // socket, so there is still some room for performance tuning.\n",
       "    var ws = {};\n",
       "\n",
       "    ws.close = function() {\n",
       "        comm.close()\n",
       "    };\n",
       "    ws.send = function(m) {\n",
       "        //console.log('sending', m);\n",
       "        comm.send(m);\n",
       "    };\n",
       "    // Register the callback with on_msg.\n",
       "    comm.on_msg(function(msg) {\n",
       "        //console.log('receiving', msg['content']['data'], msg);\n",
       "        // Pass the mpl event to the overridden (by mpl) onmessage function.\n",
       "        ws.onmessage(msg['content']['data'])\n",
       "    });\n",
       "    return ws;\n",
       "}\n",
       "\n",
       "mpl.mpl_figure_comm = function(comm, msg) {\n",
       "    // This is the function which gets called when the mpl process\n",
       "    // starts-up an IPython Comm through the \"matplotlib\" channel.\n",
       "\n",
       "    var id = msg.content.data.id;\n",
       "    // Get hold of the div created by the display call when the Comm\n",
       "    // socket was opened in Python.\n",
       "    var element = $(\"#\" + id);\n",
       "    var ws_proxy = comm_websocket_adapter(comm)\n",
       "\n",
       "    function ondownload(figure, format) {\n",
       "        window.open(figure.imageObj.src);\n",
       "    }\n",
       "\n",
       "    var fig = new mpl.figure(id, ws_proxy,\n",
       "                           ondownload,\n",
       "                           element.get(0));\n",
       "\n",
       "    // Call onopen now - mpl needs it, as it is assuming we've passed it a real\n",
       "    // web socket which is closed, not our websocket->open comm proxy.\n",
       "    ws_proxy.onopen();\n",
       "\n",
       "    fig.parent_element = element.get(0);\n",
       "    fig.cell_info = mpl.find_output_cell(\"<div id='\" + id + \"'></div>\");\n",
       "    if (!fig.cell_info) {\n",
       "        console.error(\"Failed to find cell for figure\", id, fig);\n",
       "        return;\n",
       "    }\n",
       "\n",
       "    var output_index = fig.cell_info[2]\n",
       "    var cell = fig.cell_info[0];\n",
       "\n",
       "};\n",
       "\n",
       "mpl.figure.prototype.handle_close = function(fig, msg) {\n",
       "    var width = fig.canvas.width/mpl.ratio\n",
       "    fig.root.unbind('remove')\n",
       "\n",
       "    // Update the output cell to use the data from the current canvas.\n",
       "    fig.push_to_output();\n",
       "    var dataURL = fig.canvas.toDataURL();\n",
       "    // Re-enable the keyboard manager in IPython - without this line, in FF,\n",
       "    // the notebook keyboard shortcuts fail.\n",
       "    IPython.keyboard_manager.enable()\n",
       "    $(fig.parent_element).html('<img src=\"' + dataURL + '\" width=\"' + width + '\">');\n",
       "    fig.close_ws(fig, msg);\n",
       "}\n",
       "\n",
       "mpl.figure.prototype.close_ws = function(fig, msg){\n",
       "    fig.send_message('closing', msg);\n",
       "    // fig.ws.close()\n",
       "}\n",
       "\n",
       "mpl.figure.prototype.push_to_output = function(remove_interactive) {\n",
       "    // Turn the data on the canvas into data in the output cell.\n",
       "    var width = this.canvas.width/mpl.ratio\n",
       "    var dataURL = this.canvas.toDataURL();\n",
       "    this.cell_info[1]['text/html'] = '<img src=\"' + dataURL + '\" width=\"' + width + '\">';\n",
       "}\n",
       "\n",
       "mpl.figure.prototype.updated_canvas_event = function() {\n",
       "    // Tell IPython that the notebook contents must change.\n",
       "    IPython.notebook.set_dirty(true);\n",
       "    this.send_message(\"ack\", {});\n",
       "    var fig = this;\n",
       "    // Wait a second, then push the new image to the DOM so\n",
       "    // that it is saved nicely (might be nice to debounce this).\n",
       "    setTimeout(function () { fig.push_to_output() }, 1000);\n",
       "}\n",
       "\n",
       "mpl.figure.prototype._init_toolbar = function() {\n",
       "    var fig = this;\n",
       "\n",
       "    var nav_element = $('<div/>');\n",
       "    nav_element.attr('style', 'width: 100%');\n",
       "    this.root.append(nav_element);\n",
       "\n",
       "    // Define a callback function for later on.\n",
       "    function toolbar_event(event) {\n",
       "        return fig.toolbar_button_onclick(event['data']);\n",
       "    }\n",
       "    function toolbar_mouse_event(event) {\n",
       "        return fig.toolbar_button_onmouseover(event['data']);\n",
       "    }\n",
       "\n",
       "    for(var toolbar_ind in mpl.toolbar_items){\n",
       "        var name = mpl.toolbar_items[toolbar_ind][0];\n",
       "        var tooltip = mpl.toolbar_items[toolbar_ind][1];\n",
       "        var image = mpl.toolbar_items[toolbar_ind][2];\n",
       "        var method_name = mpl.toolbar_items[toolbar_ind][3];\n",
       "\n",
       "        if (!name) { continue; };\n",
       "\n",
       "        var button = $('<button class=\"btn btn-default\" href=\"#\" title=\"' + name + '\"><i class=\"fa ' + image + ' fa-lg\"></i></button>');\n",
       "        button.click(method_name, toolbar_event);\n",
       "        button.mouseover(tooltip, toolbar_mouse_event);\n",
       "        nav_element.append(button);\n",
       "    }\n",
       "\n",
       "    // Add the status bar.\n",
       "    var status_bar = $('<span class=\"mpl-message\" style=\"text-align:right; float: right;\"/>');\n",
       "    nav_element.append(status_bar);\n",
       "    this.message = status_bar[0];\n",
       "\n",
       "    // Add the close button to the window.\n",
       "    var buttongrp = $('<div class=\"btn-group inline pull-right\"></div>');\n",
       "    var button = $('<button class=\"btn btn-mini btn-primary\" href=\"#\" title=\"Stop Interaction\"><i class=\"fa fa-power-off icon-remove icon-large\"></i></button>');\n",
       "    button.click(function (evt) { fig.handle_close(fig, {}); } );\n",
       "    button.mouseover('Stop Interaction', toolbar_mouse_event);\n",
       "    buttongrp.append(button);\n",
       "    var titlebar = this.root.find($('.ui-dialog-titlebar'));\n",
       "    titlebar.prepend(buttongrp);\n",
       "}\n",
       "\n",
       "mpl.figure.prototype._root_extra_style = function(el){\n",
       "    var fig = this\n",
       "    el.on(\"remove\", function(){\n",
       "\tfig.close_ws(fig, {});\n",
       "    });\n",
       "}\n",
       "\n",
       "mpl.figure.prototype._canvas_extra_style = function(el){\n",
       "    // this is important to make the div 'focusable\n",
       "    el.attr('tabindex', 0)\n",
       "    // reach out to IPython and tell the keyboard manager to turn it's self\n",
       "    // off when our div gets focus\n",
       "\n",
       "    // location in version 3\n",
       "    if (IPython.notebook.keyboard_manager) {\n",
       "        IPython.notebook.keyboard_manager.register_events(el);\n",
       "    }\n",
       "    else {\n",
       "        // location in version 2\n",
       "        IPython.keyboard_manager.register_events(el);\n",
       "    }\n",
       "\n",
       "}\n",
       "\n",
       "mpl.figure.prototype._key_event_extra = function(event, name) {\n",
       "    var manager = IPython.notebook.keyboard_manager;\n",
       "    if (!manager)\n",
       "        manager = IPython.keyboard_manager;\n",
       "\n",
       "    // Check for shift+enter\n",
       "    if (event.shiftKey && event.which == 13) {\n",
       "        this.canvas_div.blur();\n",
       "        // select the cell after this one\n",
       "        var index = IPython.notebook.find_cell_index(this.cell_info[0]);\n",
       "        IPython.notebook.select(index + 1);\n",
       "    }\n",
       "}\n",
       "\n",
       "mpl.figure.prototype.handle_save = function(fig, msg) {\n",
       "    fig.ondownload(fig, null);\n",
       "}\n",
       "\n",
       "\n",
       "mpl.find_output_cell = function(html_output) {\n",
       "    // Return the cell and output element which can be found *uniquely* in the notebook.\n",
       "    // Note - this is a bit hacky, but it is done because the \"notebook_saving.Notebook\"\n",
       "    // IPython event is triggered only after the cells have been serialised, which for\n",
       "    // our purposes (turning an active figure into a static one), is too late.\n",
       "    var cells = IPython.notebook.get_cells();\n",
       "    var ncells = cells.length;\n",
       "    for (var i=0; i<ncells; i++) {\n",
       "        var cell = cells[i];\n",
       "        if (cell.cell_type === 'code'){\n",
       "            for (var j=0; j<cell.output_area.outputs.length; j++) {\n",
       "                var data = cell.output_area.outputs[j];\n",
       "                if (data.data) {\n",
       "                    // IPython >= 3 moved mimebundle to data attribute of output\n",
       "                    data = data.data;\n",
       "                }\n",
       "                if (data['text/html'] == html_output) {\n",
       "                    return [cell, data, j];\n",
       "                }\n",
       "            }\n",
       "        }\n",
       "    }\n",
       "}\n",
       "\n",
       "// Register the function which deals with the matplotlib target/channel.\n",
       "// The kernel may be null if the page has been refreshed.\n",
       "if (IPython.notebook.kernel != null) {\n",
       "    IPython.notebook.kernel.comm_manager.register_target('matplotlib', mpl.mpl_figure_comm);\n",
       "}\n"
      ],
      "text/plain": [
       "<IPython.core.display.Javascript object>"
      ]
     },
     "metadata": {},
     "output_type": "display_data"
    },
    {
     "data": {
      "text/html": [
       "<img src=\"data:image/png;base64,iVBORw0KGgoAAAANSUhEUgAABLAAAAJYCAYAAABy5h8aAAAgAElEQVR4nOzdf3RU9Z3/8U9+EECxJKIVEBZ1iahQ8EfV2J6KViOIu0XOwqq7W2kFhKorFfS4YtsobMGWuiIWjFSiLYGgcSs0gJAoCSAEpWKtNhWKBL8IC4GWYgCB/Hh9/7jOXCYzk7mT3Ek+Q56Pcz5HuHNn5iZwfL945d47RgAAAAAAAIDFTHsfAAAAAAAAANAcCiwAAAAAAABYjQILAAAAAAAAVqPAAgAAAAAAgNUosAAAAAAAAGA1CiwAAAAAAABYjQILAAAAAAAAVqPAAgAAAAAAgNUosAAAAAAAAGA1CiwAAAAAAABYjQILAAAAAAAAVqPAAgAAAAAAgNUosAAAAAAAAGA1CiwAAAAAAABYjQILAAAAAAAAVqPAAgAAAAAAgNUosHx06NAhLVu2TO+9954++ugjFovFYrE67Hrvvfe0bNkyHTp0qL3HM6Korq7WY489psLCQi1btozFYrFYrA69CgsL9dhjj6m6urq9RzSioMDy0bJly2SMYbFYLBaL9eVatmxZe49nRPHYY4+1+98PFovFYrFsW4899lh7j2hEQYHlo/fee0/GOGG9vX/yzWKxWCxWe67AD3Xee++99h7PiKKwsDAY1Nv7p94sFovFYrX3Cvxgp7CwsL1HNKKgwPLRRx99JGOMPvroo/Y+FAAA2hUz0X7Lli0L/uANAICOjrloPwosHxHWAQBwMBPtR1AHAMDFXLQfBZaPCOsAADiYifYjqAMA4GIu2o8Cy0eEdQAAHMxE+xHUAQBwMRftR4HlI8I6AAAOZqL9COoAALiYi/ajwPIRYR1Asqqrq1NNTY127typTz75hMWKunbu3KmamhrV1dU1+3eKmWg/gjoAJAdyWuJzi8RcTAYUWD4irANIRo2NjaqurlZVVZW2bdvW7kGDZffatm2bqqqqtGvXLjU2Nkb9e8VMtB9BHQDsR05rm9wiMReTAQWWjwjrAJLR4cOHVVVVpT179sQc7EBjY6P27NmjqqoqHT58OOp+zET7EdQBwH7ktNbxmlsk5mIyoMDyEWEdQDLavXu3qqqqPJ1aDUjOpQxVVVXavXt31H2YifYjqAOA/chpreclt0jMxWRAgeUjwjqAZLRz505t3769vQ8DSWb79u3auXNn1MeZifYjqAOA/chp/oiVWyTmYjKgwPIRYR1AMvrkk0+0Y8eO9j4MJJkdO3bok08+ifo4M9F+BHUAsB85zR+xcovEXEwGFFg+IqwDSEaBm1wC8Yj194aZaD+COgDYj5zmDy/fR+ai/SiwfERYB5CMCEZoCQqs5EdQBwD7kdP8QYF1eqDA8hFhHUAySlQwOlnfoE07DuqND/dq046DOlnf4Pt7NMcY42mVl5e36n3y8vJkTMcbpxRYyY+gDgD2S1hOOymVl0v/+7/Of0+e9P0tPHnppZc85bS//vWvuuOOO3TuuefKGKORI0dKkqqrqzVixAhlZWXJGKPJkydHfB8KrNNDx0vcCURYB5CM/A5GJ+sb9Oyb23XVjFL1e3RFcH19RpmefXN7mxVZlZWVIWvEiBHq2rVr2PZYH6kcy+7du1VZWenTUScPCqzkR1AHAPv5ntNOStOnS+edJxnjrp49ne1tXWQFCqyXXnopLKOdmtN++MMfKiMjQ4WFhaqsrNS2bdskSbfffrt69Oih119/XZWVldq1a1fE96HAOj1QYPmIsA4gGfkZjE7WN+h7Be+o36MrdMEp5dWpv//+S++2+dlYkjR27FideeaZMfc7evRoGxxN8qPASn4EdQCwn6857aQ0YoRTWKWkhBZYgd/fdlvblliBAmvLli3N7nfzzTfr0ksvDdvev39/3XrrrTHfhwLr9ECB5SPCOoBk5GcwevbN7SGlVbQ19822/zjoSAXW0KFDNXDgQK1bt07XXXedunbtqjvuuEOStHTpUuXm5qpnz57q0qWLLrnkEj366KM6cuRIyGtEuoSwX79+uu222/TGG2/oiiuuUJcuXTRgwAAtXLgwsV9kG6LASn4EdQCwn585bfr00NIq2poxw5e38yRWgVVdXR310sJI26urqyO+DgXW6YECy0eEdQDJyK9gdLK+QVfNKA0786rpuuDLywnb+iysaAXW2Wefrb59++q5555TeXm51q1bJ0maMWOGnnnmGa1cuVIVFRXKz8/XhRdeqBtvvDHkNaIVWH369NFll12m3/zmN1qzZo3GjBkjY0zw9ZMdBVbyI6gDgP18y2knncsGm5551XSlpDiXE7bVWViBAmvz5s2qq6sLWfX19Tp+/LgqKyt1xRVX6KKLLgq5tLCyslI9e/bUN7/5zeD248ePR3wfCqzTAwWWjwjrAJJRtIH+xO8+0r/mb/K8hj+zztPZV4E1/Jl1cb3+E79r3f9boxVYxhi99dZbzT63sbFRdXV1WrdunYwx+uCDD4KPRSuwunTpok8//TS47YsvvtDZZ5+tiRMnturrsAUFVvIjqAOA/Zqbt5MnS0OHeltDhng7+yqwhgzx/tpDhzrH0hLN3cQ9LS0tuF/grPmmAme9x0KBdXqgwPIRYR1AMoo20P81f1NchVSi17/mb2rV1xmtwMrKyor6fbnrrrt03nnnKSUlJSRQLV26NLhftAIrJycn7DVzcnI0fPjwVn0dtqDASn4EdQCwX3PzdujQ+EqpRK6hQ1v29QUKrN/85jfasmVLyPr9739/ytdKgQUKLF8R1gEko45+BtZll10Wtm9tba169+6tiy66SL/61a+0bt06bdmyRb/97W+Dn5QT0Nw9sJoaOnSohrY04VmGAiv5EdQBwH4d5QysWDdxp8CCRIHlK8I6gGTU0e+BFSkMLV++XMYYVVRUhGwvKyujwPoSBVbyI6gDgP06yj2wKLDgBQWWjwjrAJIRn0IYHoZ+97vfyRijysrKkO2jR4+mwPoSBVbyI6gDgP06+qcQBlBgQaLA8hVhHUAy8jMYnaxv0Pdfejd4plXTM6/6PbpC33/p3TY/+0qKr8A6ePCgsrKyNGTIEP32t79VSUmJ7rzzTmVnZ1NgfYkCK/kR1AHAfr7mtJPSbbe5Z1o1PfPKGOfxtjr7SnILrJdeein4SYKnrpqaGkkUWHBQYPmIsA4gGfkZjCSnxJr75nZ9fUZZSIH19Rllmvvm9nYpr6T4CixJ2rRpk6677jqdccYZOvfcczV+/Hht3bqVAutLFFjJj6AOAPbzPaeddM6w6tkztMDq2dPZ3pblldT8pxAaY/SrX/1KEgUWHBRYPiKsA0hGfgejgJP1Ddq046De+HCvNu042G7FFRKDAiv5EdQBwH4Jy2knpfJy6X//1/lvWxdXbY0C6/RAgeUjwjqAZJSoYITTGwVW8iOoA4D9yGn+oMA6PVBg+YiwDiAZEYzQEhRYyY+gDgD2I6f5gwLr9ECB5SPCOoBkRDBCS1BgJT+COgDYj5zmDwqs0wMFlo8I6wCSEcEILUGBlfwI6gBgP3KaPyiwTg8UWD4irANIRgQjtAQFVvIjqAOA/T755BPt2LGjvQ8j6e3YsYMC6zRAgeUjwjqAZESBhZagwEp+BHUAsN/OnTu1ffv29j6MpLd9+3bt3Lmz2X2Yi/ajwPIRYR1AMqLAQktQYCU/gjoA2G/37t2qqqpSXV1dex9K0qqrq1NVVZV2797d7H7MRftRYPmIsA4gGVFgoSUosJIfQR0A7Hf48GFVVVVpz549amxsbO/DSTqNjY3as2ePqqqqdPjw4Wb3ZS7ajwLLR4R1AMmIAgstQYGV/AjqAGC/xsZG7dq1S1VVVdq2bVvwXk6s2GvHjh3atm2bqqqqtGvXrpgFIHPRfhRYPiKsA0hGFFhoCQqs5EdQB4DkUFdXp5qaGu3cubPdS6FkWzt37lRNTY2nSzCZi/ajwPIRYR1AMjpdC6zbb79dXbp00aFDh6Lu82//9m9KT0/Xvn37PL2mMUZ5eXnB35eXl8sYo/Ly8pjPHTt2rPr16+fpfZqaN2+eXnrppbDt1dXVMsZEfCzRKLCSH0EdAAAXc9F+FFg+IqwDSEYJK7DqT0o710t/Wu78t/6k/+/RjJKSEhljNG/evIiP//3vf1fXrl11++23e37NpgXW4cOHVVlZGfOeClLrCqyBAwdq6NChYduPHz+uyspK1dTUtOh1W4MCK/kR1AEAcDEX7UeB1URNTY1GjBihM844Q9nZ2SotLfX8XMI6gGTke4FVf1Kq+Jn083+U8r7irtn9ne1tVGTV19erd+/euuqqqyI+/vzzz8sYo5KSEs+v2bTAikciCqz2RIGV/AjqAAC4mIv2o8BqYsyYMbrnnnt09OhRLV++XJmZmTp48KCn5xLWASQjXwus+pNS4egvS6vuoQVW4PeFY9qsxHrsscdkjNEf//jHsMeuueYa9erVS/v27dMPfvADXXrppTrzzDN17rnn6sYbb9T69evDnuP1EsKXXnpJF198sTIyMnTJJZfo17/+dcQC64knntA111yjrKwsnXXWWbriiiv04osvhtxktF+/fjLGhKzA60S7hHDDhg369re/rW7duqlr16667rrrtGLFirBjNMZo7dq1mjRpknr06KGzzz5bo0aN0p49e2J+bymwkh9BHQAAF3PRfhRYp6itrVWnTp20e/fu4LahQ4dq4cKFnp5PWAeQjHwtsCp+1qS0irIqfu7P+8Xwl7/8RSkpKfrhD38Ysv1Pf/qTjDH6r//6L3388cf6wQ9+oKVLl6qiokIrVqzQuHHjlJqaGlZMeSmwAsXQyJEjVVJSosLCQvXv3199+/YNK7C+973vaeHChSorK1NZWZlmzJihrl276sknnwzus3XrVl100UW64oorVFlZqcrKSm3dulVS5AKroqJCnTp10lVXXaVXXnlFy5Yt0y233KKUlBQtXbo07Dgvuugi/ed//qfWrFmjF198UVlZWbrxxhtjfm8psJIfQR0AABdz0X7m888/1yOPPKLc3Fydc845rbo84le/+pWMMTrzzDP9PcoI4j3u2tpaTZ48Wb169VLnzp01ZMgQFRUVheyzdetWZWVlhWx74IEHNGXKFE/HRFgHkIx8K7DqT3552WDTM6+aru7O5YRtdBbW0KFDdc455+jkSff9pk6dKmOMtm/fHv5l1Nerrq5ON910k0aNGhXyWKwCq6GhQb1799aVV14ZchbVrl271KlTp2YvIWxoaFBdXZ2mT5+uHj16hDw/2iWEkQqsnJwcffWrX1VtbW3I1zRo0CD16dMn+LqBAuu+++4Lec2f//znMsbo//7v/6Ieq0SBdTogqAMA4GIu2s9UV1ere/fuuv766zV+/PgWF1ifffaZunfvrt69e7dJgRXvcefm5iozM1P5+flau3Zt8DmLFy8O7rN+/fqwf1xMmzZN9957r6djIqwDSEZRi4hVj0oFI7yv+d/wdvZVYM3/Rnyvv+rRFn19v/nNb2SM0WuvvSbJ+Sjq8847T9/61reC+zz//PO64oor1Llz55BL9S655JKQ14pVYFVVVckYo1/84hdhxzF06NCwGfPWW2/ppptu0le+8pWwywRP/WRErwXWkSNHlJKSElZKSdLPfvYzGWP05z//WZJbYK1evTpkv9WrV8sYo82bN4e9xqkosJIfQR0AABdz0X6msbEx+NPYAwcOtLjA+qd/+if98z//s8aOHeupwDp8+LBWrVoV9fGSkhIdOXIk6uPxHPfKlStljNGSJUtCtufm5qp3796qr6+XxBlYADqmqEVEwYj4CqlEr4IRLfr6jh07pu7du+u2226TJC1fvlzGGL388suSpKefflrGGE2aNEkrVqzQ5s2btWXLFg0fPjyscIpVYG3YsEHGGBUWFoYdxx133BHyeu+8847S0tJ000036ZVXXtHGjRu1ZcsWPf744zLGqLq6Oriv1wJr9+7dMsZoxowZYfsuWrRIxhi9/fbbktwCa8uWLSH7RbuvV1MUWMmPoA4AgIu5aL+Qe2C1tMBatGiRzjrrLO3evdtzgfX0008rNTU1+A+IU+Xn5yslJUXz58/39P6xjnv8+PHq1q2b6urqQrYvWbJExhht3LhRUuR7YN1www3cAwvAae10PwNLkiZNmqS0tDTt3btXI0eO1FlnnaWjR49Kkq644grdcMMNYc/55je/GXeBFc8ZWA899JC6dOmiL774ImS/1hRYR44cUWpqarNnYH388ceSKLBAUAcA4FTMRfu1usDav3+/evTooXnz5kmS5wJLkqZMmaKUlBTl5+cHt82ZM0fGGE2bNs3zMcQ67pycHF199dVh2wPh+oUXXghuGz16tMaNG6djx46ppKREmZmZOnDgQLPvn5eXF3LZB2EdQDI53e+BJUlbtmyRMUYPPfSQOnXqpAkTJgQfu/LKKzVs2LCQ/T/44AOlpqbGXWA1NDSoV69euuqqq2LeA2vKlCnq1q1byL25jh07pn/4h38IK7CuvPJKXXPNNWFfV6R7YF133XXq2bOnjh07FtzW0NCgr33taxHvgUWB1XER1AEAcDEX7dfqAutf/uVf9I1vfCMYiOMpsCTnHlPGGM2ZM0dPPfWUjDGaPn265+d7Oe7s7Oywf5xI0t69e2WM0cyZM4PbampqdOutt6pr167q37+/1qxZ4/k4COsAktHp/CmEpxo8eLBSUlLC7u/0k5/8RCkpKfrJT36it956S/Pnz1fPnj31j//4j3EXWJL04osvBj+FcMWKFVE/hfCtt96SMUajR49WaWmpioqKdNVVVyk7OzuswBo7dqw6d+6spUuX6t1339Uf//hHSc1/CuG1116r4uJiLV++XMOGDYv6KYQUWB0XQR0AABdz0X6tKrBee+01ZWRk6E9/+lNwW7wFliRNnz49ePbS7Nmz43qu5K3AGj58eNj2QIE1a9asuN8zEsI6gGTka4FVf1IqHOOeadX0zKu8rziPt+HZVwHPPvusjDG67LLLQrafOHFCDz/8sM4//3x16dJFV155pZYtW6axY8e2qMCSnBIrOztbGRkZuvjii1VQUBDx9QoKCjRgwAB17txZF110kWbNmqWFCxeGFVi7du3SLbfcorPOOkvGmODrRCqwJOdeXN/+9rd15plnqmvXrsrJyVFJSUnIPhRYIKgDAOBiLtqvxQVWbW2tzjvvPE2dOlWHDh0KrrvuuktnnnmmDh061OxN2E81derU4E/FH3/88bi/CD8vIWwNwjqAZORrgSU55VTFz53LBE8tsGb3d7a3Q3kF/1FgJT+COgAALuai/VpcYAV+6tvcGjlyZLOv0djYqPvvv1+pqakqKCjQ888/r5SUFE2dOjWuLyLWcU+YMCHiTdyLiopCbuLeWoR1AMnI9wIroP6ktHO99Kflzn8prk4rFFjJj6AOAICLuWi/FhdYX3zxhcrLy8PWsGHD1KVLF5WXl+vDDz+M+vyGhgaNGzdO6enpKioqCm5/+eWXlZaWpvvuuy/kBrjNiXXcq1atkjEm5N4fkjR8+HD17t1b9fX1nt4nFsI6gGSUsAILpzUKrORHUAcAwMVctJ+RnIKnuLhYBQUFMsZozJgxKi4uVnFxcfBjxisqKpSWlqYnn3yy2Rf0eg+s2bNnKyMjQ6+//nrYY0uXLlV6erqee+65Zl/Dy3EH5ObmKisrSwsWLNDatWs1YcIEGWNUWFgY81i9IqwDSEYUWGgJCqzkR1AHAMDFXLSfkaR+/fpFvQwwcBPZwE1dY52d5bXAOnbsmDZt2hT18bffflsnTpxo9jW8HHdAbW2tHnzwQfXs2VMZGRkaPHhwyJlffiCsA0hGFFhoCQqs5EdQBwDAxVy0n4m9C7wirANIRhRYaAkKrORHUAcAwMVctB8Flo8I6wCS0SeffKIdO3a092EgyezYsYMCK8kR1AEAcDEX7UeB5SPCOoBkVF1drW3btnn+4AygsbFR27ZtC7tc/1TMRPsR1AEAcDEX7UeB5SPCOoBktHfvXlVVVWnfvn2UWIipsbFR+/btU1VVlfbu3Rt1P2ai/QjqAAC4mIv2o8DyEWEdQDJqaGhQdXW1qqqqtG3btuClYSxW07Vjxw5t27ZNVVVVqq6uVkNDQ9S/V8xE+xHUAQBwMRftR4HlI8I6gGTV0NCgvXv3qrq6ut1LEpbdq7q6Wnv37m22vJKYicmAoA4AgIu5aD8KLB8R1gEAcDAT7UdQBwDAxVy0HwWWjwjrAAA4mIn2I6gDAOBiLtqPAstHhHUAABzMRPsR1AEAcDEX7UeB5SPCOgAAjo40E2trazV58mT16tVLnTt31pAhQ1RUVOTpufv379fYsWPVo0cPde3aVTk5OXrzzTebfc6xY8eUnZ0tY4xmz57d4uMmqAMA4GrNXEzWLJBsKLB81JHCOgAAzelIMzE3N1eZmZnKz8/X2rVrNX78eBljtHjx4mafd/z4cQ0aNEh9+vRRYWGhSktLNXLkSKWnp6uioiLq86ZOnarevXtTYAEA4KPWzMVkzQLJhgLLRx0prAMA0JyOMhNXrlwpY4yWLFkSsj03N1e9e/dWfX191OfOmzdPxhht2rQpuK2urk6XXXaZrrnmmojPeeedd5SRkaHi4mIKLAAAfNTSuZjMWSDZUGD5qKOEdQAAYukoM3H8+PHq1q2b6urqQrYvWbJExhht3Lgx6nNvvvlmDRgwIGz7zJkzZYzRZ599FrL9xIkTGjhwoB566CFVV1dTYAEA4KOWzsVkzgLJhgLLRx0lrAMAEEtHmYk5OTm6+uqrw7YHvv4XXngh6nN79uypMWPGhG1fsWKFjDFas2ZNyPbHH39cF1xwgY4cOUKBBQCAz1o6F5M5CyQbCiwfdZSwDgBALB1lJmZnZ2vYsGFh2/fu3StjjGbOnBn1uZ06ddLEiRPDtm/atCnsUoT3339fnTp10urVqyUp7tC6f/9+ffTRRyFr7ty5FFgAAHwpUGDNnTs3bGbu378/6vOSJQucDiiwfNRRwjoAALF0lJmYnZ2t4cOHh20PhNZZs2ZFfW6nTp00adKksO2B0Br49KK6ujpdccUV+o//+I/gPvGG1ry8PBljIi4KLAAA3AIr0srLy4v6vGTJAqcDCiwfdZSwDgBALB1lJrbFZQOzZ89W9+7d9Ze//EWHDh3SoUOH9MEHH8gYoxkzZujQoUPN3iBW4gwsAABiaekZWMmSBU4HFFg+6ihhHQCAWDrKTJwwYULEG7cWFRXFvHFrbm6uLrnkkrDts2bNkjFGe/bskSSNHTs26k+EA+v999+P+9i5BxYAAK6WzsVkzgLJhgLLRx0lrAMAEEtHmYmrVq2SMUZLly4N2T58+PCYH509f/58GWO0efPm4La6ujoNHDhQ1157bXDbn//8Z5WXl4esQCieNGmSysvLVVtbG/exU2ABAOBq6VxM5iyQbCiwfNRRwjoAALF0pJmYm5urrKwsLViwQGvXrtWECRNkjFFhYWFwn3vuuUdpaWnatWtXcNvx48c1cOBA9e3bV4sXL1ZZWZlGjRql9PR0VVRUNPuefAohAAD+as1cTNYskGwosHzUkcI6AADN6Ugzsba2Vg8++KB69uypjIwMDR48OHjT1YDAqf/V1dUh2/ft26e7775bZ599trp06aKcnByVlZXFfE8KLAAA/NWauZisWSDZUGD5qCOFdQAAmsNMtB8FFgAALuai/SiwfERYBwDAwUy0H0EdAAAXc9F+FFg+IqwDAOBgJtqPoA4AgIu5aD8KLB8R1gEAcDAT7UdQBwDAxVy0HwWWjwjrAAA4mIn2I6gDAOBiLtqPAstHhHUAABzMRPsR1AEAcDEX7UeB5SPCOgAADmai/QjqAAC4mIv2o8DyEWEdAAAHM9F+BHUAAFzMRftRYPmIsA4AgIOZaD+COgAALuai/SiwfERYBwDAwUy0H0EdAAAXc9F+FFg+IqwDAOBgJtqPoA4AgIu5aD8KLB8R1gEAcDAT7UdQBwDAxVy0HwWWjwjrAAA4mIn2I6gDAOBiLtqPAstHhHUAABzMRPsR1AEAcDEX7UeB5SPCOgAADmai/QjqAAC4mIv2o8DyEWEdAAAHM9F+BHUAAFzMRftRYPmIsA4AgIOZaD+COgAALuai/SiwfERYBwDAwUy0H0EdAAAXc9F+FFg+IqwDAOBgJtqPoA4AgIu5aD8KrFPU1NRoxIgROuOMM5Sdna3S0tK4nk9YBwDAwUy0H0EdAAAXc9F+FFinGDNmjO655x4dPXpUy5cvV2Zmpg4ePOj5+YR1AAAczET7EdQBAHAxF+1HgfWl2tpaderUSbt37w5uGzp0qBYuXOj5NQjrAAA4mIn2I6gDAOBiLtovrMB6//33NWLECPXt21ddunRRVlaWcnJytGjRorAnl5eXyxgTcVVWVib0wD///HM98sgjys3N1TnnnCNjjPLy8qLuX1tbq8mTJ6tXr17q3LmzhgwZoqKiouDjW7duVVZWVshzHnjgAU2ZMsXzMRHWAQBwMBPtR1AHAMDFXLRfWIFVXl6uiRMnatGiRVq7dq1KSkp05513yhijGTNmhO1rjNHMmTNVWVkZsmpraxN64NXV1erevbuuv/56jR8/PmaBlZubq8zMTOXn52vt2rXB5yxevFiStH79evXr1y/kOdOmTdO9997r+ZgI6wAAOJiJ9iOoAwDgYi7az/MlhNdee6369u0bsi1QYBUXF8f9xocPH9aqVauiPl5SUqIjR45EfbyxsVGNjY2SpAMHDjRbYK1cuVLGGC1ZsiRke25urnr37q36+nrOwAIAwEfMRPsR1AEAcDEX7ee5wLrtttt04YUXhmxrTYH19NNPKzU1VS+//HLYY/n5+UpJSdH8+fM9vVasAmv8+PHq1q2b6urqQrYvWbJExhht3Lgx4j2wbrjhBu6BBQBACzAT7UdQBwDAxVy0X9QCq6GhQXV1daqpqdG8efOUnp6u/Pz8kH0CBdZXv/pVpaWl6ayzztItt9yiDRs2eHrzKVOmKCUlJeR158yZI2OMpk2b5mzOySYAACAASURBVPmLiFVg5eTk6Oqrrw7bHgjXL7zwgiRp9OjRGjdunI4dO6aSkhJlZmbqwIEDMd8/Ly8v5P5fhHUAQEdHgWU/gjoAAC7mov2iFlgTJ04MFjIZGRkRz4baunWrJk+erNdff13r169XQUGBLr30UqWlpWn16tWeDmDatGkyxmjOnDl66qmnZIzR9OnT4/oiYhVY2dnZGjZsWNj2vXv3Bu/hJUk1NTW69dZb1bVrV/Xv319r1qyJ6zgI6wAAOJiJ9iOoAwDgYi7aL2qB9emnn2rLli1auXKlJk2apNTUVM2ePTvmCx46dEh9+vTR4MGDPR/E9OnTg2WZl/doykuBNXz48LDtgQJr1qxZcb9nJIR1AAAczET7EdQBAHAxF+3n+R5YkyZNUnp6umpqajzta4zRsWPHPL321KlTlZKSImOMHn/8ca+HFOTXJYStRVgHAMDBTLQfQR0AABdz0X6eC6yCggIZY7R58+aY+wYuP/ziiy+a3a+xsVH333+/UlNTVVBQoOeff14pKSmaOnWq18OSFLvAmjBhQsSbuBcVFQVv4u4HwjoAAA5mov0I6gAAuJiL9vNcYH33u99VampqzDOw/va3v+n888/X5Zdf3ux+DQ0NGjdunNLT01VUVBTc/vLLLystLU333XefGhsbPR1brAJr1apVMsZo6dKlIduHDx+u3r17q76+3tP7xEJYBwDAwUy0H0EdAAAXc9F+Ji0tTU8++WRww4QJEzR16lS98sorqqio0GuvvaY77rhDxhg98sgjIU++66679Oijj6q4uFjl5eVasGCBBgwYoPT0dJWVlTX7xrNnz1ZGRoZef/31sMeWLl2q9PR0Pffcc82+xqpVq1RcXBw8O2zMmDEqLi5WcXGxjh49GrJvbm6usrKytGDBAq1du1YTJkyQMUaFhYWxvkeeEdYBAHAwE+1HUAcAwMVctJ9peuZSQUGBvvWtb+mcc85Renq6MjMzNXToUC1atCjsybNmzdLll1+u7t27Ky0tTeeee65GjRqld999N+YbHzt2TJs2bYr6+Ntvv60TJ040+xr9+vUL3vy96aqurg7Zt7a2Vg8++KB69uypjIwMDR48OOTMLz8Q1gEAcDAT7UdQBwDAxVy0n+dLCBEbYR0AAAcz0X4EdQAAXMxF+1Fg+YiwDgCAg5loP4I6AAAu5qL9KLB8RFgHAMDBTLQfQR0AABdz0X4UWD4irAMA4GAm2o+gDgCAi7loPwosHxHWAQBwMBPtR1AHAMDFXLQfBZaPCOsAADiYifYjqAMA4GIu2o8Cy0eEdQAAHMxE+xHUAQBwMRftR4HlI8I6AAAOZqL9COoAALiYi/ajwPIRYR0AAAcz0X4EdQAAXMxF+1Fg+YiwDgCAg5loP4I6AAAu5qL9KLB8RFgHAMDBTLQfQR0AABdz0X4UWD4irAMA4GAm2o+gDgCAi7loPwosHxHWAQBwMBPtR1AHAMDFXLQfBZaPCOsAADiYifYjqAMA4GIu2o8Cy0eEdQAAHMxE+xHUAQBwMRftR4HlI8I6AAAOZqL9COoAALiYi/ajwPIRYR0AAAcz0X4EdQAAXMxF+1Fg+YiwDgCAg5loP4I6AAAu5qL9KLB8RFgHAMDBTLQfQR0AABdz0X4UWD4irAMA4GAm2o+gDgCAi7loPwosHxHWAQBwMBPtR1AHAMDFXLQfBZaPCOsAADiYifYjqAMA4GIu2o8Cy0eEdQAAHMxE+xHUAQBwMRftR4HlI8I6AAAOZqL9COoAALiYi/ajwPIRYR0AAAcz0X4EdQAAXMxF+1Fg+YiwDgCAg5loP4I6AAAu5qL9KLB8RFgHAMDBTLQfQR0AABdz0X4UWD4irAMA4GAm2o+gDgCAi7loPwosHxHWAQBwMBPtR1AHAMDFXLQfBZaPCOsAADiYifYjqAMA4GIu2o8Cy0c2hvWT9Q3atOOg3vhwrzbtOKiT9Q3tfUgAgA7AxpmIUAR1AABczEX7UWD5yKawfrK+Qc++uV1XzShVv0dXBNfXZ5Tp2Te3U2QBABLKppmIyAjqAAC4mIv2o8DykS1h/WR9g75X8I76PbpCF5xSXp36+++/9C4lFgAgYWyZiYiOoA4AgIu5aD8KLB+1dViPdnngs29uDymtoq25b25vk+NMFC6PBAB7UWDZj6AOAICLuWg/CiwfJTKsn1rWrN9eo/8p3Rbx8sDA9qZnXjVdF3y5f2tKHy8FUtN9jp6oa1Hp5PXrb6vLIynPAKB5FFj2I6gDAOBiLtqPAstHgbBeuOpt34qNaPeyilZKeTnz6tQVOMamZUxzBY2X+2tF2+eC/1oRV+nUkq8/kZdHcm8xAPCGAst+BHUAAFzMRftRYPkoENZ73TOv2WLD69k7zd3Lyq/1wOL3wsqYS3/8hi798RsRC5qjJ+pi3l9rbME7unuht+OOVDoFvj8rPtijkb98u0Vfv9+XR56sb9D67TW67dn1vt9brCVnsnl5j0S9LgB4QYFlP4I6AAAu5qL9KLB8FKnACqzb5q5X+cf74rr0zeu9rFq7vJRDgX1umF2esON4pnSb57OtYh1ray6P9HK5YkvLs3gvhWzJGV+tOUMu0WeSUZgBHQcFlv0I6gAAuJiL9qPA8lFzBZaXcqjpWUhe7mV1Oq3saatCvh+tXZt2HIzrzy+eyxWbW1/LW60N22s8XXbZ3N+H5s5ki3bGl5dPoGzJ67aW34UZRRhgPwos+xHUAQBwMRftR4Hlo5YWWKeuwNk7G7bXtHuhlOzrjQ/3evpzi3V5YEuXl8su/ViPvPqH4FlVD7/6B99e16/LML2Ual4Ls9YUYZReQNuiwLIfQR0AABdz0X4UWD5qbYF1waMrdNX0Uv1P6TYNylvd7gVQsq9YZ2D5dcZVrHX1f5cl/Gu99Mdv6JIfrfLt9fz4lMoAr5fCBgqzaEWTl3vC3TZ3ffDst1Pvpfbwq3+w8sb7fpVqlHOwEQWW/QjqAAC4mIv2o8DykR9nYLH8WYPz1ujoiTpPZQgr+or3MsymvF4Ke2p5G61o+p/SbZ6PO9IHEUR6z36PJvZTK5t+L+K5/5nX1+RTMWErCiz7EdQBAHAxF+1HgeUjCiy7VnOfphhPGdKR15yyba0qQTbtOBj3e0a7zDB72sqE3RPO70+tPFVLzvQ79Uyy5l7Xr0szT33NlpzJdbqeARbp6zpdv9ZEoMCyH0EdAAAXc9F+FFhN1NTUaMSIETrjjDOUnZ2t0tJSz8+lwLJ/tUUZcrqt1txf6o0P97b78Xv5OxG4XNJLORFPgeHlssdY3/v/Kd2mDdtrgu939ESdNu04qAcWv+fpNbyUc/GcyZWIM8lsE+370Vwp3tqv9XQsxiiw7EdQBwDAxVy0HwVWE2PGjNE999yjo0ePavny5crMzNTBg94uo6LAYp2OK9qnZHq5v1QyfRjB3Qs3N1vExHu5nt831Q/+efxXfH92sco5r2dyHT1RF/cnabbV5Zl+ird0bO3XejpfBkqBZT+COgAALuai/SiwTlFbW6tOnTpp9+7dwW1Dhw7VwoULPT2/LQusr+Wt1jOl2/TCuh3t/g//RP3ju7n19Rll+sXqj/W1J7jZfVuuqa+8H/GMm7A/5y//O/K5DUn9gQSnfh0jonxKZeD3t//ybZV8sCd4VtKV09e0+/EH1pRX3m/1vcVyfvpmxK8/1krk5ZnRtOZMOq8fOhDP19ra8jBZSywKLPsR1AEAcDEX7Wc+//xzPfLII8rNzdU555wjY4zy8vI8Pfn999/XiBEj1LdvX3Xp0kVZWVnKycnRokWLEnvUkuI97traWk2ePFm9evVS586dNWTIEBUVFYXss3XrVmVlZYVse+CBBzRlyhRPx9SWBdb67TWSEnOJ1qU/fkPZj/v3iXaB9eL6T3T0RJ1eXP9Ji54fKAgC/wBsyf2V/F4XPbay3Y+BxWrJaovLaeP9NMvWXkbn5Wym5vYJlLMt+X5EOtst1hmKXsvD9igB/UCBZT+COgAALuai/Ux1dbW6d++u66+/XuPHj4+rwCovL9fEiRO1aNEirV27ViUlJbrzzjtljNGMGTMSeuDxHndubq4yMzOVn5+vtWvXBp+zePHi4D7r169Xv379Qp43bdo03XvvvZ6OKRDWf71yvf5pbuSzNfz+B6EfN8kOrFNvHO3npV9Njzne0u1reas1N8KlNO15f6WvzyjTXG4Gz2J5WoHCPZpopdJV00v18Kt/CCmum5ZcgXuCrfhgj0b+8m31ezT6/+NGPLtO33luQ8R9/Pp/daTCqumKtzz8Wt7qmDf1j/X9bY/7a3WkAsvLD8mi2b9/v8aOHasePXqoa9euysnJ0Ztvvhmyz+HDh/Xf//3fGjp0qM477zydeeaZGjRokJ566il98cUXLT5ugjoAAK7WzMVkzQLJxjQ2NqqxsVGSdODAgbgKrGiuvfZa9e3bt9l9Dh8+rFWrVkV9vKSkREeOHIn6eDzHvXLlShljtGTJkpDtubm56t27t+rr6yX5dwbWRx99pJP1DZr75nZ9fUZZyD9Evj6jTFNeeb9V/0A69afxJ+sbPJ0xcMGX/xh8pmxbxGNqWhB5fd2WHHO8pVu0f/y21RlYX59Rpmea3Ej71EuAvv/Su616bS6FZJ3u62t5q6Pezymee05Fuom6X5cl+7kSdUZbpEIv0vezLW+y31w51pEKLC8/JIvk+PHjGjRokPr06aPCwkKVlpZq5MiRSk9PV0VFRXC/Dz/8UOecc44eeughLV++XG+99ZaeeOIJdenSRTfddFMwD8WLAgsAAFdr5mKyZoFkE3IPLL8KrNtuu00XXnhhs/s8/fTTSk1N1csvvxz2WH5+vlJSUjR//nxP7xfruMePH69u3bqprq4uZPuSJUtkjNHGjRslRb4H1g033BD3PbBODeuRwn1Lzhxq7n4oXu/ZEiiRvP403uvr3ji7POI/2qIdczylW3OXH/ldsjVdp56R1pxoZWVz6z8Xv9eqSyHjubk0i2XLivRBAF4/TZEVvrxcGhlpeb2/VnOzwsvlmh2lwPL6Q7JI5s2bJ2OMNm3aFNxWV1enyy67TNdcc01w25EjRyL+UG/27NkyxmjDhg0tOnYKLAAAXC2di8mcBZKNLwVWQ0OD6urqVFNTo3nz5ik9PV35+fkxnzdlyhSlpKSE7DtnzhwZYzRt2jTP7x/ruHNycnT11VeHbQ+E6xdeeCG4bfTo0Ro3bpyOHTumkpISZWZm6sCBA82+f15enowxwRUrrLeksIh0llTAqWcB+XkjYK+ve/REXdSzzaIdc7ylWzStueFyS77Xsb5f67fXRL18NNqfRbyF5n8ueS/sex3pzJTAmWOJLPlsWaf713c6rWdKt3kuWljNr8Df+7EF7+juhd4/OfHUFekHG7HO3Dp6os7Tzeff/+CPHaLA8vpDskhuvvlmDRgwIGz7zJkzZYzRZ5991ux7r1u3LmJg9ooCCwAAV0vnYjJngWTjS4E1ceLEYHmTkZHh+cwpybnHlDFGc+bM0VNPPSVjjKZPnx7X+8c67uzsbA0bNixs+969e2WM0cyZM4PbampqdOutt6pr167q37+/1qxZ4/k4vP60OZ4zh7ze+6S5SxZbUsa05HXjuc+KX6Vbc6/TkjWnbFurL6uJ988i3kLz1DO3Tv1eJ+JT1ZJheS30rppeqrELN7f78Xb09Y9ffvABpaMda9BP3oj4KZWRVuDP7IYvz7qNtR57cWWHKLDi+SFZUz179tSYMWPCtq9YsULGmJgZJPADtA8++CD+AxcFFgAAp2rpXEzmLJBsfCmwPv30U23ZskUrV67UpEmTlJqaqtmzZ3t+/vTp04MFWDzPC/BSYA0fPjxse6DAmjVrVtzvGUk8l0v4dQZSU4m6WW8iXtev0i3a61z64zd0cZyfprhpx8FWf12nHpeX75lfl1Q2dxyxysKxBe9o7JdnVLTl8uNG2vEUeom+7DSeddWMUj1Tuk3lH+9L2Ic+sFjtuS7+wQsdosCK54dkTXXq1EkTJ04M275p06aYP0394IMP1LVrV40aNcrTce7fv18fffRRyJo7dy4FFgAAXwoUWHPnzg2bmfv374/6vGTJAqeDhNwDa9KkSUpPT1dNTfOfPBUwdepUpaSkyBijxx9/PO738/MSwtaIp8BK1GV/ycivcizS6xw9UafBT6yJ+Q+tlpZDfklUoRngpSwM7HPV9MRe2hXrAwW8XvbY0j8zG85Ie+TVP4SdvRjvfdSa/v/C6yfasVq+WlKKd+TV6555HabAaukPyTp16qRJkyaFbQ+E1mifXlRdXa2+ffvq4osv1l//+ldPx9n0dgenLgosAADcAivSaq4jSZYscDpISIFVUFAgY4w2b97c7H6NjY26//77lZqaqoKCAj3//PNKSUnR1KlT43q/WMc9YcKEiNekFhUVxbwmNR7x3rA2UZf9IVSiyyE/tFWh6aUsPFnfoIdf/UNC/2Eb6wMFEvln5vdlp16Xlz/HpvchilTyNf3UvcD/L/6ndFu7lBR+fLKq7evUS7lLPtjT7seTLKujFFhtfdnArl27dMEFF+jCCy8M+dCZWDgDCwCA5rX0DKxkyQKng4QUWN/97neVmpra7BlYDQ0NGjdunNLT00NaxZdffllpaWm67777PH8UZKzjXrVqlYwxWrp0acj24cOHx/xUgHi09BOXEnXZHxzJcrabTYVmvCXPVdNL9cirf9Cy9z/T7b98u9Xf60T/mUX7Xnv5OgJrxLPrNPKXGzx/j1rz4QCn/v/h6Im6iP+/SEQxF+17f/sv31bJB3usvDQzUStweXFLPoSjo66OUmC15odkubm5uuSSS8K2z5o1S8YY7dmzJ2R7ILD269dPu3btavWxcw8sAABcLZ2LyZwFko2RnIKnuLg4eObUmDFjVFxcrOLiYh09elSSVFFRobS0ND355JPBJ0+YMEFTp07VK6+8ooqKCr322mu64447ZIzRI4880uwbz549WxkZGXr99dfDHlu6dKnS09P13HPPNfsaXo47IDc3V1lZWVqwYIHWrl2rCRMmyBijwsJCb98pDzrKR4YnI5vKoVhsKTSb+549U7pNG7bXRDzGRN/bzM8/s+a+1/Fcdhnv9yhRmjueeM+SevjVPyTkk0WTdb3x4d7g9/h0L+v8Wh2lwGrND8nmz58fdsZ6XV2dBg4cqGuvvTZk308//VQXXHCB+vbtq08++cSXY6fAAgDA1dK5mMxZINkYSerXr1/Uaz2rq6slSeXl5WFnORUUFOhb3/qWzjnnHKWnpyszM1NDhw7VokWLYr7xsWPHtGnTpqiPv/322zpx4kSzr+HluANqa2v14IMPqmfPnsrIyNDgwYOjXk/aUhRY9rOlHEomLf2eJfLeZm3J62WXNv29as0N7E+9t5hfnyzalivw3iOf26ARz0a+OX5LPywgIN6yLnBm332F73na/8YvP+Uv2UuyjlJgSd5+SHbPPfcoLS0t5Kelx48f18CBA9W3b18tXrxYZWVlGjVqlNLT01VRURHcb//+/brooovUuXNnFRYWqrKyMmS19PIBCiwAAFytmYvJmgWSjYm9C7yiwAJgs/b6sIB41/2Fv9fDr/5BV80I/UCBS3/8hi798RuhZVSUe4J5OUOupR8W4OUS16aXWXp93vdfeldHT9T58n1s79WRCiwvPyQbO3ZsxB+w7du3T3fffbfOPvtsdenSRTk5OSorKwvZJ/BDxJbcWLY5FFgAALhaMxeTNQskGwosH1FgAbBZW35YwPrtNRqUt9pz2RHp/aOdSeblnmBNj8fvDwto6SWu8TwvcNwrPtgTsdDzsq6aUapnSrep/ON9cf15UGB1DBRYAAC4mIv2o8DyEQUWANu15f3g4rnUzrYPK/Ba6LXlJbaB5zyw2NuliI+8+oeQ123r+5RRYNmPoA4AgIu5aD8KLB9RYAFIFm1x3y4v98W6be56bdheY+WHFdj2AQ8BLS3e4rlPWeAyy3hv/k+BlVwI6gAAuJiL9qPA8hEFFgCESpaCyLYb8cfi9yWMgRvNt+S+XWML3tHYgnfC9qHAsh9BHQAAF3PRfhRYPqLAAoDIkq0gShZtcQmjl7Is0j4UWPYjqAMA4GIu2o8Cy0cUWACA05WX0uvUfQpXvc1MtBxBHQAAF3PRfhRYPqLAAgDAwUy0H0EdAAAXc9F+FFg+IqwDAOBgJtqPoA4AgIu5aD8KLB8R1gEAcDAT7UdQBwDAxVy0HwWWjwjrAAA4mIn2I6gDAOBiLtqPAstHhHUAABzMRPsR1AEAcDEX7UeB5SPCOgAADmai/QjqAAC4mIv2o8DyEWEdAAAHM9F+BHUAAFzMRftRYPmIsA4AgIOZaD+COgAALuai/SiwfERYBwDAwUy0H0EdAAAXc9F+FFg+IqwDAOBgJtqPoA4AgIu5aD8KLB8R1gEAcDAT7UdQBwDAxVy0HwWWjwjrAAA4mIn2I6gDAOBiLtqPAstHhHUAABzMRPsR1AEAcDEX7UeB5SPCOgAADmai/QjqAAC4mIv2o8DyEWEdAAAHM9F+BHUAAFzMRftRYPmIsA4AgIOZaD+COgAALuai/SiwfERYBwDAwUy0H0EdAAAXc9F+FFg+IqwDAOBgJtqPoA4AgIu5aD8KLB8R1gEAcDAT7UdQBwDAxVy0HwWWjwjrAAA4mIn2I6gDAOBiLtqPAstHhHUAABzMRPsR1AEAcDEX7UeB5SPCOgAADmai/QjqAAC4mIv2o8DyEWEdAAAHM9F+BHUAAFzMRftRYPmIsA4AgIOZaD+COgAALuai/SiwfERYBwDAwUy0H0EdAAAXc9F+FFg+IqwDAOBgJtqPoA4AgIu5aD8KLB8R1gEAcDAT7UdQBwDAxVy0HwWWjwjrAAA4mIn2I6gDAOBiLtqPAstHhHUAABzMRPsR1AEAcDEX7UeB5SPCOgAADmai/QjqAAC4mIv2o8DyEWEdAAAHM9F+BHUAAFzMRftRYPmIsA4AgIOZaD+COgAALuai/SiwfERYBwDAwUy0H0EdAAAXc9F+FFg+IqwDAOBgJtqPoA4AgIu5aD8KLB8R1gEAcDAT7UdQBwDAxVy0HwWWjwjrAAA4mIn2I6gDAOBiLtqPAstHhHUAABzMRPsR1AEAcDEX7UeB5SPCOgAADmai/QjqAAC4mIv2o8BqoqamRiNGjNAZZ5yh7OxslZaWen4uYR0AAAcz0X4EdQAAXMxF+1FgNTFmzBjdc889Onr0qJYvX67MzEwdPHjQ03MJ6wAAOJiJ9iOoAwDgYi7ajwLrFLW1terUqZN2794d3DZ06FAtXLjQ0/MJ6wAAOJiJ9iOoAwDgYi7aL2KB9dZbb+n73/++BgwYoDPOOEO9e/fWd77zHf3+978P2a+8vFzGmIirsrIyoQf++eef65FHHlFubq7OOeccGWOUl5cXdf/a2lpNnjxZvXr1UufOnTVkyBAVFRWF7LN161ZlZWWFbHvggQc0ZcoUT8dEWAcAwMFMtB9BHQAAF3PRfhELrNGjR+vGG2/U/PnzVVFRoeLiYuXk5Cg9PV1vvfVWcL9AgTVz5kxVVlaGrNra2oQeeHV1tbp3767rr79e48ePj1lg5ebmKjMzU/n5+Vq7dm3wOYsXLw7us379evXr1y/kedOmTdO9997r6ZgI6wAAOJiJ9iOoAwDgYi7aL2KBtX///rBttbW1Ou+883TTTTcFtwUKrOLi4rjf+PDhw1q1alXUx0tKSnTkyJGojzc2NqqxsVGSdODAgWYLrJUrV8oYoyVLloRsz83NVe/evVVfXy+JM7AAAPALM9F+BHUAAFzMRfvFdQ+sG2+8URdffHHw960psJ5++mmlpqbq5ZdfDnssPz9fKSkpmj9/vqfXilVgjR8/Xt26dVNdXV3I9iVLlsgYo40bN0qKfA+sG264gXtgAQAQJ2ai/QjqAAC4mIv281xg/f3vf1f37t01atSo4LZAgfXVr35VaWlpOuuss3TLLbdow4YNnl5zypQpSklJUX5+fnDbnDlzZIzRtGnTPH8RsQqsnJwcXX311WHbA+H6hRdeCG4bPXq0xo0bp2PHjqmkpESZmZk6cOBAs++fl5cXcv8vwjoAoKOjwLIfQR0AABdz0X6eC6x///d/V3p6esiN3Ldu3arJkyfr9ddf1/r161VQUKBLL71UaWlpWr16tafXnTZtmowxmjNnjp566ikZYzR9+vS4vohYBVZ2draGDRsWtn3v3r3Be3gF1NTU6NZbb1XXrl3Vv39/rVmzxvNxENYBAHAwE+1HUAcAwMVctJ+nAutHP/qRjDF67rnnYu576NAh9enTR4MHD/Z8ENOnTw+evTR79mzPzwvwUmANHz48bHugwJo1a1bc7xkJYR0AAAcz0X4EdQAAXMxF+8UssJ544gkZY/TTn/7U84tOmjRJxhgdO3bM0/5Tp05VSkqKjDF6/PHHPb9PgJ+XELYGYR0AAAcz0X4EdQAAXMxF+zVbYAXKqyeeeCKuF504caKMMfriiy+a3a+xsVH333+/UlNTVVBQoOeff14pKSmaOnVqXO8Xq8CaMGFCxJu4FxUVhdzEvbUI6wAAOJiJ9iOoAwDgYi7aL2qBFbis70c/+lFcL/i3v/1N559/vi6//PJm92toaNC4ceOUnp6uoqKi4PaXX35ZaWlpuu+++9TY2OjpPWMVWKtWrZIxRkuXLg3ZPnz4cPXu3Vv19fWe3icWwjoAAA5mov0I6gAAuJiL9jMVFRVKS0vTk08+Gdz4i1/8QsYYDR8+XJWVlWEr4K677tKjjz6q4uJilZeXa8GCBRowYIDS09NVVlbW7BvPnj1bGRkZev3118MeW7p0qdLT02Pec2vVqlUqLi5WQUGBjDEaM2aMiouLVVxcrKNHj4bsm5ubq6ysLC1YsEBr167VhAkTZIxRYWGhl++TJ4R1AAAczET7EdQBAHAxF+1nysvLw85eGjp0aPCmlXW1BgAAIABJREFU6pFWwKxZs3T55Zere/fuSktL07nnnqtRo0bp3XffjfnGx44d06ZNm6I+/vbbb+vEiRPNvka/fv2iHmN1dXXIvrW1tXrwwQfVs2dPZWRkaPDgwSFnfvmBsA4AgIOZaD+COgAALuai/Tx9CiG8IawDAOBgJtqPoA4AgIu56MGf/yzdeafUs6fUqZP03nvO9ieekNauTfjbU2D5iLAOAICDmWg/gjoAAC7mYgzvvy916yb16uWUWKmpboH18MPSv/5rwg+BAstHhHUAABzMRPsR1AEAcDEXYxg2TPrGN6SjR6W6OiklxS2wXn1VuvDChB8CBZaPCOsAADiYifYjqAMA4GIuxtCtmxT43tTXhxZY69ZJXbsm/BAosHxEWAcAwMFMtB9BHQAAF3MxhjPPlFatcn7dtMBatkzKzEz4IVBg+YiwDgCAg5loP4I6AAAu5mIM110nTZjg/LppgTVpknTTTQk/BAosHxHWAQBwMBPtR1AHAMDFXIxh6VLnxu0//KFTXKWkSK+/Ls2eLWVkSL/7XcIPgQLLR4R1AAAczET7EdQBAHAxFz346U+lTp2cIislxflvRoY0a1abvD0Flo8I6wAAOJiJ9iOoAwDgYi56tHu39OKLTpn1wgvSrl1t9tYUWD4irAMA4GAm2o+gDgCAi7kYw7p1Um1t5Mdqa53HE4wCy0eEdQAAHMxE+xHUAQBwMRdjSE2V3nkn8mO//73zeIJRYPmIsA4AgIOZaD+COgAALuZiDCkp0QusykopPT3hh0CB5SPCOgAADmai/QjqAAC4mIsRHD4sffqps1JSpOXL3d8H1scfS5MmSX36JPxwKLB8RFgHAMDBTLQfQR0AABdzMYInnnAuDYy1UlKkxx9P+OFQYPmIsA4AgIOZaD+COgAALuZiBJs2Sb/4hTR7tlNSPfig8/tT13PPSRUVbXI4FFg+IqwDAOBgJtqPoA4AgIu5GMMTT0h79rTrIVBg+YiwDgCAg5loP4I6AAAu5qL9KLB8RFgHAMDBTLQfQR0AABdz0YP6eqmkRPr5z6Unnwxd06cn/O0psHxEWAcAwMFMtB9BHQAAF3MxhoMHpUsvde6FFbhxe+DXgZVgFFg+IqwDAOBI1Ex86CHp//0/59effiqdPOnry3coBHUAAFzMxRgmTpSuuMIJYikp0rvvSjt2SA8/LF1yifTZZwk/BAosH1FgAQDgSNRMTEmR3nnH+XVqqvtrxI+gDgCAi7kYQ//+0qJFzmWEKSnS73/vPvbAA9Kddyb8ECiwfESBBQCAI1Ez8eyzpd/9zvl14Id/aBmCOgAALuZiDF26SBs2OL9OS5PWrXMfW7NG6tEj4YdAgeUjCiwAAByJmokjRkjnnivddptTYH3rW9I//3Pk9Z3v+PrWUdXW1mry5Mnq1auXOnfurCFDhqioqMjTc/fv36+xY8eqR48e6tq1q3JycvTmm29G3LesrEw5OTnq2rWrevToobFjx2r//v0tPm6COgAArtbMxWTNAnHp00dascL5dd++0rx57mNFRVL37gk/BAosH1FgAQDgSNRM3LVLuv12KTvbuYSwVy/pggsirwsv9PWto8rNzVVmZqby8/O1du1ajR8/XsYYLV68uNnnHT9+XIMGDVKfPn1UWFio0tJSjRw5Uunp6aqoqAjZt6KiQunp6Ro5cqRKS0tVWFio888/X4MGDdLx48dbdNwUWAAAuFozF5M1C8Rl5EjpZz9zfj1xonTeec4lha+84oSuYcMSfggUWD6iwAIAwNEWM/HU+2G1l5UrV8oYoyVLloRsz83NVe/evVVfXx/1ufPmzZMxRps2bQpuq6ur02WXXaZrrrkmZN+rr75al112merq6oLbNm7cKGOM5s+f36Jjp8ACAMDV0rmYzFkgLmVlUn6+8+uaGmnIEPeTCPv3lz7+OOGHQIHlIwosAAAciZqJo0ZJf/mL8+uKCqm21teXj9v48ePVrVu3kDApSUuWLJExRhs3boz63JtvvlkDBgwI2z5z5kwZY/TZl5/m89lnn8kYo1mzZoXte/HFFys3N7dFx06BBQCAq6VzMZmzQKs0Nkp//KP04YdSk689USiwfESBBQCAo6N8CmFOTo6uvvrqsO2Br/+FF16I+tyePXtqzJgxYdtXrFghY4zWrFkjSVq9erWMMVq5cmXYvqNHj1avXr1adOwUWAAAuFo6F5M5C3h27Jj0jW84Z2G1IwosH1FgAQDgSNRM/OpXnfuESnZ8CmF2draGRbjnw969e2WM0cyZM6M+t1OnTpo4cWLY9k2bNoVcirB48WIZY1RZWRm277333quMjIyYx7l//3599NFHIWvu3LkUWAAAfClQYM2dOzdsZjZ3o/RkyQKtdtZZUnl54t+nGRRYPqLAAgDAkaiZeMcdzqc4Dxzo3nLha1+LvAYP9vWtI8rOztbw4cPDtgdCa6RT/QM6deqkSZMmhW0PhNbApxcFQuvmzZvD9r333nvVuXPnmMeZl5cnY0zERYEFAIBbYEVaeXl5UZ+XLFmg1W65xb2JezuhwPIRBRYAAI5EzcS//U364Q+l3FznEsIrr5RuuCH6SrRkuWyAM7AAAGheS8/ASpYs0GoffihddJH061+3201IKbB8RIEFAICjo3wK4YQJEyLeuLWoqCjmjVtzc3N1ySWXhG2fNWuWjDHas2ePJPfGrU899VTYvgMGDOAm7gAA+KClczGZs0BcunWTMjKcnyCmpjq/P+ssd33lKwk/BAosH1FgAQDgSNRMXLfO/aHfrl3SyZOR9ztwQFq40Ne3jmjVqlUyxmjp0qUh24cPHx7zo7Pnz58fdjlAXV2dBg4cqGuvvTZk32uuuUaDBg0Keb3KykoZY/T888+36NgpsAAAcLV0LiZzFojL2LHS977X/EowCiwfUWABAOBI1Exs+smDDQ1Sp07S1q2h+23e7OzbFnJzc5WVlaUFCxZo7dq1mjBhgowxKiwsDO5zzz33KC0tTbt27QpuO378uAYOHKi+fftq8eLFKisr06hRo5Senq6KioqQ9ygvL1d6erpGjRqlsrIyLV68WH379tWgQYN0/PjxFh03BRYAAK7WzMVkzQLJhgLLRxRYAAA4EjUTm142WF/vbHvvvdD92rLAqq2t1YMPPqiePXsqIyNDgwcPDt50NWDs2LEyxqi6ujpk+759+3T33Xfr7LPPVpcuXZSTk6OyKB9RXVpaqpycHHXp0kVnn3227r777mbvyRELBRYAAK7WzMVkzQLJhgLLRxRYAAA4OlKBlawosAAAcDEX7ff/2bv7+Kiqe9H/OySAgEJQVIjQ2ArSKhc893fR9LYVvTSKttXDOdCe3tNfqQJi1UqF2h6xPYGIBIm2iAoBKqIGgqYKiFABSSLyoChYn+ITEhShJagUQ3hIwnzvHyuTNZN52ntmzcxK8nm/XvtFZs3M3mvvmeT73V/WXpsClkEUsAAAUChg2Y9EHQAAjbhoPwpYBlHAAgBAoYBlPxJ1AAA04qL9KGAZRAELAAAlmQWsJ55QBaudO0V27FBty5bptp07RZYupYAVC4k6AAAacdF+FLAMooAFAICSzAJWp07BS7Q2REaiDgCARly0HwUsgyhgAQCgJCsmLl3qbUFkJOoAAGjExQhKSkQuvFCka1eR/v1F/uu/RBob09IVClgGUcACAEAhJtqPRB0AAI24GMYTT6hh7b16iVx6qci556oh7r/+dVq6QwHLIJJ1AAAUYqL9SNQBANCIi2FcdpnIt78t8s9/qseNjSLjxon06JGWUVgUsAwiWQcAQCEm2o9EHQAAjbgYxumnizzzTHBbTY0alfX++ynvDgUsg0jWAQBQiIn2I1EHAEAjLoaRkSHy6qvBbU1Nqn3XrpR3hwKWQSTrAAAoxET7kagDAKARF8PIyBDZsSO4jQJW+0CyDgCAQky0H4k6AAAacTGMjAyR731P5Ec/0ssPf6jaL788uP2665LeHQpYBpGsAwCgEBPtR6IOAIBGXAwjN1fk/PPdLV//etK7QwErQG1trVx77bXSvXt3GTRokGzYsMHT+0nWAQBQiIn2I1EHAEAjLtqPAlaAsWPHyo033ij19fWyevVqyc7Ols8//9z1+0nWAQBQiIn2I1EHAEAjLtqPAlazuro66dy5s+zbt6+lbcSIEfLoo4+6XgfJOgAACjHRfiTqAABoxMUw7rxTJKBGIiIip06lpy8i4nz11Vdy5513Sn5+vvTp00ccx5GCggJXb960aZPccMMNMnjwYOnevbvk5OTIddddJ6+//npyey0iXvpdV1cnkydPln79+knXrl1l2LBhUlZWFvSaXbt2Se/evYPabrvtNpkyZYrrPpGsAwCgEBPtR6IOAIBGXAyjUyeRV1/Vj5uaVNvOnWnpjlNTUyO9evWSyy+/XCZMmOCpgDVmzBi58sorZf78+VJVVSXl5eWSl5cnWVlZsmnTpqR23Eu/8/PzJTs7W0pKSqSioqLl9cuWLWt5zebNmyU3NzfofdOmTZObbrrJdZ9I1gEAUIiJ9iNRBwBAIy6GkZERWsDKyEhfAcvn84nP5xMRkUOHDnkqYB08eDCkra6uTs4991wZOXJkxPcdOXJE1q1bF/H5NWvWyNGjR6Nu222/165dK47jyPLly4Pa8/PzJScnR5qamkSEEVgAAJhETLQfiToAABpxMQzbCliBD7wWsCK58sor5cILL4z4/AMPPCCdOnWSpUuXhjxXUlIiGRkZMn/+fNfbi9bvCRMmyOmnny6NjY1B7cuXLxfHcWTr1q0iEn4OrCuuuII5sAAAiAMx0X4k6gAAaMTFMNp7Aeuf//yn9OrVS0aPHh31dVOmTJGMjAwpKSlpaZs7d644jiPTpk3ztM1o/c7Ly5Phw4eHtPsT64ULF7a0jRkzRsaPHy/Hjh2TNWvWSHZ2thw6dCjm9gsKCsRxnJaFZB0A0NFRwLIfiToAABpxMYyMDJEnnlAFq507RXbsUG3Llum2wCXJjBew/vM//1OysrJcTeQ+bdo0cRxH5s6dK7NnzxbHcaSwsNDzNqP1e9CgQXL11VeHtB84cEAcx5FZs2a1tNXW1so111wj3bp1k4EDB8r69es99YNkPYymBpE9m0XeXa3+bWpId48AAClATLQfiToAABpxMYyMDDVpe+ASrS3JjBawfv/734vjOPLQQw+5fk9hYWHLyKXi4uK4thurgDVq1KiQdn8Bq6ioKK5thkOyHqCpQaTqPpE5F4gU9NRL8UDVTiELANo1YqL9SNQBANCIi2EsXeptSTJjBazp06eL4zhy7733enrf1KlTJSMjQxzHkbvvvtvzdkXMXUKYKJL1Zk0NIqVjmotWvYILWP7HpWMpYgFAO0ZMtB+JOgAAGnHRfkYKWP7i1fTp012/x+fzya233iqdOnWSJUuWyIIFCyQjI0OmTp3qadsi0fs9ceLEsJO4l5WVBU3ibgLJerOq+1oVrSIsVXPS3VMAQJIQE+1Hog4AgEZctF/CBSz/JYC///3vXb/n1KlTMn78eMnKypKysrKW9qVLl0pmZqbccsst4vP5XK8vWr/XrVsnjuPIihUrgtpHjRolOTk50tTU5Ho7sZCsixpVNeeCMCOvWi+91OWEjMICgHaJmGg/EnUAADTiov0cEVXkKS8vlyVLlojjODJ27FgpLy+X8vJyqa+vFxGRqqoqyczMlBkzZrS8+f777xfHcWTUqFGyffv2kCWS4uJi6dKli6xcuTLkuRUrVkhWVparebTc9FtEJD8/X3r37i2LFi2SiooKmThxojiOI6Wlpe6PlAsk66Imancz+sq/7Nmc7h4DAJKAmGg/EnUAADTiov0cEZHc3NyWidRbLzU1NSIiUllZGTLKacSIERHf5zhOuO2JiMixY8dk27ZtEZ/fsmWLnDx5Mmbn3fRbRKSurk5uv/126du3r3Tp0kWGDh0aNPLLFJJ1UXcb9FLAend1unsMAEgCYqL9SNQBANCIi/aLXGWCZyTrwgisjqKpQX12765W/3IpKIBWiIn2I1EHAEAjLtqPApZBJOvCHFjtXVODmqR/zgXBn2fxQNXO5wmgGTHRfiTqAABoxEX7UcAyiGS9GXchbJ+aGkRKx+gCZOuCZEFPkdKxFLEA26RpxCQx0X4k6gAAaMRF+1HAMohkvVlTgypkRBp5RaGjbaIwCbQtaR4xSUy0H4k6AAAacdF+FLAMIlkP0NQgsuEPocWN4oGqwEHxqm3h0lCgbbFgxCQx0X4k6gAAaMRF+1HAMohkvZVPXw0+aZp9PoWNtorJ+YG2xYIRk8RE+5GoAwCgERftRwHLIJL1Vt4qD/1ffwpYqWNy3pt3V3srYL272tx+APDGkhGTxET7kagDAKARF+1HAcsgkvVWNj8QesJ0+JN096r9S8a8N4zAAtoOS35fiYn2I1EHAEAjLtqPApZBJOutrPl16InS3m3p7lX7lqx5bywZ0QHABUtGTBIT7UeiDgCARly0HwUsg0jWW3ny39TJ0cy++kTprfJ096p9S+a8NxbMqQPABUZgwSUSdQAANOKi/ShgGUSy3spD/0udHC39oT5RevlP6e5V+5XsUVJNDWr0VqR1xju6C4BZloyYJCbaj0QdAACNuGg/ClgGkawH8PlE7jlXnST99b9E7j1P/bz2N+nuWfuVilEXTQ0iK28JXdecgWrkFcUrID4mb7ogYsWISWKi/UjUAQDQiIv2o4BlEMl6gLpafYK07RGRhy9VPy//abp71n6lat6bHX8OXdc/qs3uC9BRJOOmC/71pnnEJDHRfiTqAABoxEX7UcAyiGQ9wGev65Ol6jUiT4xWP5d8L909a79SNe/Nut+Fruv9dWb3BegIknXThcD1V80JXXdxakZMEhPtR6IOAIBGXLQfBSyDSNYDvPOsPlk68DeR1bepn+/7Rrp71n6lat4bfzHy/m/qdW6dZ3ZfgI4gFZf5nTwavK4H/yVll/oSE+1Hog4AgEZctB8FLINI1gNseVCfMB37UqRytn7ccDzdvWu/UnFC/Kchah1PjxMp+pr6+bnbje0CkBam56Bys71UFJxrPwhe3wPfMrsfURAT7UeiDgCARly0HwUsg0jWAzw/VZ0s3XuemtB915P6BOrz3enuXfuV7HlvTtbr9VTcK7LoSvXzYz8wux9AqiRrDqpYUnXJ7+5Nwesp7KP+JqcAMdF+JOoAAGjERftRwDKIZD3Ash+rk6VHvq0e764IOBF7Kb19ay3VIy+SzT/vTWGf4BPX2bmJz3vz97f0+t4qF3lmor6cEGhrkj0HVTSpuunCzidC13XssNl9iYCYaD8SdQAANOKi/ShgGUSyHuCRPHWitOzH6vGhD/XJ0xvL09s3v3SNvEiVR74dvF+vPZb4Ot/+S/DcZoGXLJ6oS3z9QCql4pLbSFI1AquyKHRdhz40uy8REBPtR6IOAIBGXLQfBSyDSNab+Xzq0sGCniJrf6PaTtbrk6eXknAy6FU6R16kStGA4P3aOD3xdQaeDJ882qqg9Wbi6we8incEZarmoEr39lfdGrrOvVvN7ksExET7kagDAKARF+1HAcsgkvVm9V/oE6UtD+r22bmq7bnJaetai3SOvEiF40dC9+Wpnye+3vIb1Lr+eLF6fOBvev3vPJv4+tF+mb5UN9ERlKkaARVNKv4OPfGvah33nBvwu7rS3D5EQUy0H4k6AAAacdF+FLAMsiJZt2E+p6CiRsCJ0vzvNI9sGpP6PgVK98iLcP0x/ZkdrA7dnwXfTXy9C76r1vXEv6rHJ76ya2Qd7JOMS3VNjKBM1RxUMfcjiTddEBF5aLhaz+Lv63W/usjcPkRhRUxEVCTqAABoxEX7UcAyKK3Juk3zOVU/p7f/2eu6vfXE7uliw8gLkeR+Zh9uCChcNRcO/XeEjNepUyIz+6p1rb1TtxdfqNqenRT/utE+JetSXRMjl6z6OzBHZMaZwdsr+lriN13w+UTuzVHre36KBN1BNAUoYNmPRB0AAI24aD8KWAalLVm3bT6nbY/o7R89pNvX3NF8YjYgNf2IxJqRF0n8zF57VK/vhWn657ra+Pt8+NPwIziWXNs8wmNk/OtGZDaMqoxXMi6RMzWC0qaRmD6fyMyc4O2+sjDx9R47rNe35UGR+76ufk7RZdwUsOxHog4AgEZctB8FLIPSlqzbNp/Tut+p7d1zbvCIn833674k4451bk/0bRh5kezP7MUZ6v3Te4tUr9Hr++SV+Pv80Yt6PR9X6fbVv1Jts3PjXzdC2TSqMh7JKhCZ/P215W9n3cHQba6/O/H1/v1tvb63/yLy8GXq57L/m/i6XaCAZT8SdQAANOKi/ShgGZSWZN2mUQR+Zf9XbfOh4cHtf1uh+1P7vrnteT3RT/cxS8X2n5mo1vHHi0VqP9DrfGN5/P3evkCv58gB3b7lQd1e/0X864dm26jKeCSrUGxyBGXUOah6pu44790Wul0TRaYPXgguXj/2A/Xzn/MTX7cLFLDsR6IOAIBGXLQfBSyD4k7WE7lEyIbRRK3551x68t+C22te1v346EUz24r3RD+dIy9S8ZktuUa999GrRRpP6GOxaWb8/fZfAtp6Lq33ntd9/XRH/OuHZsvIoEQk61Jd078//jmo7j0v+H0z+yU+B5VbO5/Q2507TP07/38nvt4df9br/ec+fRfRucMSX7cLFLDsR6IOAIBGXLQfBSyDPCfrJi4RsmE+p9aKBqhtrfl1cPsXe3Q/dj6e+HaaGkRW/jK+E/2gwlfrJckjXFLxmf1piHrvX8arx39sflx+Y/z9XvpDtY6FVwS3176v+5rICC8o6R4haEqyCrXJOj5/vSv4/f7fnVTYWKC2Ob23yHO3NxeKcxK76YJIwKXE2SJNjfry7ntzTPQ6JgpY9iNRBwBAIy7ajwKWQZ6SdVOXCNk2Auv4P/W2Nj8Q/FzjCf1cxazI64g1Is1f+LvvGy73O8KJ7MdV4V8/Z2ByR14k+zM71aTvaLaxQLUt/VH44pMX9w9W63hmYnB74wl1glzQU+TFwvjXD8W23+l4JbMQl4wRav7RSf4lRZfZiYjIip+pbc4dJrLtYd2HRG66ICLyzE1qPQ98Sz1+qViv+2R94v2OgQKW/UjUAQDQiIv2o4BlkKdk3dQJmImTRJN3OQucNPit8tDn5wxUz626JXw/Yo1IizpyyuOJ/oY/6Oeen6J//mxX/PvvRrJH2BzZr9fhv1vgc5PV46Kvxdff9wPm0qksCn3N3KHquafHeV8/gtk4qjKWSH9DknUpZDLmrvrzVa3+7gzy1qdEzP/faptP/pvIe2t1Hz59NbH1+ue8Wvx99Xjn43rdX+5NvN8xUMCyH4k6AAAacdF+FLAMcp2smy5gxHuSaPouZ00Nwf/Dv3dr6GsWjlDPPX596HvdjEirmBVf8Srcif7Dlzaf3I0MLrz9bYW3/Y5HMuc4+vRV/f73/6ra4ploPdL3o2hA6PfjidHquQXf8d5fBGtLI7Bi/Q05WR+l0JTgpbr+uavuOTt4vbP6xzeC8o8Xh/YxBaOUxOcTmdlXbW/db0UOVuvtv/lUYuv2z6flLyy//1e97n2vJdz1WChg2Y9EHQAAjbhoPwpYBrlO1pMxCfET/+rtJNHkXc4incTe943QQkfLHQr/V/A63BZ0ZvYL01+Xy7aHdV8C5+N6aY5I40l92d3638fe50Q1NegCmukT+7f/otf197dVW+BE6/ted9c/L9+PNc0j2Ar7iOx5KfnzMpkcNWibtjIHltvvyMl6fVOBkCJXjEKTm8+55PLg9a7/g/d9OdWk5p8q6CnywEV6XQff874urwJHTL6yUB0v/+PK2fGv1+cTKWwu7q2/W7Xte12v+/11ZvofBQUs+5GoAwCgERftRwHLINfJutdLhCpnxz5JDSxaBC5FXwt/kmjyEkYvhY51v9WFKP8Exa5P2A0scy4QWXlL8OTvf39L9eORb6vHT4yOvs+mLLpSbc8/f1RLHxOcg2vLXL2uY4dVm9dRHW6/HxVF6rX35oQpTsQxii8W06MGbdUW7kLopY8r/jO4bUYfkYYTkdft5XMu+lrwa1b8zPu+/PMz/f5nJgYUef7qfV1eBf6HxkcbVVvxherxs5PiX29drV7v9gWq7fAnuu31pYn3PQYKWPYjUQcAQCMu2o8ClkFJG4Hl5gR91a3qdYXniLz7nEhBc1Fk3e9CX2tyhIfXE+3Nfww4OVyrR1gku3AVaZmerQuEfxnffKwvjP1hJzoC6Mu9ug/r/xA8H9f+v3lbV2trf6PWc+95ukjYcEyvP9wcVoG8FBQL+0T+7hT0NHsnx0RHDbalUVtR53hK8l0y3fbPy9+Qh4aHPhdpDiYvn/OxL0PX+0ie9/0JvOz29aX651dKEjtObry2RG/viz2q7dGr1eNHr45/vft36fVWP6faAv8OvJT84icFLPuRqAMAoBEX7UcByyDXyfrJ+tBRAzGXKCetPp/I/d9sfn6Mals8Uj1e8N3Q7Zu6hNHLSeycC9T8VbP6Bz9XPDD07l/pWErHBs/fdfTzyPucyAggfxElcJTH398W+ce7+vHOx6OvI5bl/6HW8/Blwe0PfEu1t76LYGumC4qmRgnZMtdbqjQ1hF4e19LvJN4l002/Au+U52bxX54XuD8fbgi/fi+f82c79WP/pX+FZ4ucOuVtn95+Rq/nwN9E7jlX/fzX/0r8eMWy/m61rRlniTQ1qrZnJzV/1i6K6ZFUr9H79NlO3X7veapt3W8T67cLFLDsR6IOAIBGXLQfBSyDYibrkU6kEy0IBE5A/spC1fbijOa2XqGTdpu6y5mRQkcKLht0u/hvOV/QU83j1Pqz210hUvK9CP2OMSom0mc/vbcaAdZwvHl+r57qjoGJWPAdtZ4n/z24veWOZCOjv9/r9yPW52tinqZ4Rw2anOstHRZ8N7TPx4+YWbfXEWkm/n5VzdE/b30lk0vqAAAgAElEQVQo/Da8fM5vrtBt/jttFvRUl8p5sXWefm/9F6r4W9BTFYOTbflP1bYC5wWsnK37E+9E8q+U6HXUHdTtD16i2p7+RWL9doEClv1I1AEA0IiL9qOAZVDUZD3qibTHpehrwSc1L/9JP/f5btX2cZVue7fVL6CpEVhGCx0uiyH39kveuu/7hn68fb7+3LyetIcbARTrsy8dqy8bKvlefF9Av9m5+oQ+0OrbVPt9X4/+/t0V5o9vonfKi/c72xbmkoqk4bi+sUDgHfL270psvfGMSDP192vvVnUXy4KeIqt/Fbodr5+z/9Lpgp7BNyrYvcnbMVn3O/W+e85VI1qX/Vg9judyRK/8N3NY9hPd9uZTel/+8W58613/e/X+wj7BI9L+fJVqf+wHifXbBQpY9iNRBwBAIy7ajwKWQVGTdbcn0m6X2bnqkrzdFXq0wNxhensNx/QdqNbcEdwXU3NgpWPuqooiNVIhUn8TXb9/MvJVt7Q6aXe7hDlmbj/7P+erf2ecqYoX8ThRp9f3UnHwcy//UT/nn9y99fei6r7gQp6pJdIoPrfiGTXYVu7mF8lnAXeM2zRT/7zryfjXGe+ItLj/fvUKnuD/6Ocii7+vfg43v9Pbz3pb/9Ifqn/v+0bwROyvLvJ2XPyTzM/7n+pxuJtNJMOpU/rv9AvTdPunO/S+vLc2vnX7L82eOzS43X8n2Icvjb/fLlHAsh+JOgAAGnHRfhSwDGpJ1l94PPiynFTdZW/mucEjKPwndw98K/QyIRMjU1J590D/iXXjSZEH/6d67J9Xx78UD1R3GExkG/7REAtHJFZ09I8A8lJEmTVAP973Wnxfwtr39Tr+tiL4uXdX6ee2zFV9PFmv/n37GZFF/0f3xfRn52UEVrhL2+IZgWVqpGG67Fis+1b7vp4w/693xb/OeH7vE/099192OztXrW9V8+/o7PODt1F1nx6d5XaZ/7/Vv4tHqmLQzL7qsdf5nRZeod639Efq8fb5eht1tfEf71gC7wq448+6PfAOgtsejm/d/pFWS64Nbl/z69DjnyQUsOxHog4AgEZctB8FLINakvVf9tAnHyaKKl6X0rGqMLH0R6HP+S8TOlkf5S5nAeuJNSrF9Mgy//ws4ZbXnxB56X79ePMfQwsdiZ5slzWPxCg8J7H1+EccxTtKzT+XmVcfbdTrqNmi25saRJ6fErqd6fHsX/N7Cvu4OD4eRjdFurRtzgUiz94cegOAWNszNddbuvgLPbMGqFFA85vnNnv8uvjWF++ItLi+wwGjufwjrv6cr9a35UH9uqOHEhvp6L95xV8mqHX7j9GT/+bt2BQPUu9b+Uv1+L21eluf7ojveLsReLnux5W63efTI9eenxrfuv2Xnba+aUPFvXqb/knjk4QClv1I1AEA0IiL9qOAZVDYAla6Jin3j1KKdmL5z/0i07PDv+7RUe6LDhELYXHsu//ytZLvqYLCrtLIr93wh/B9jKuo1nxCvONRM8ffP5rHaxHFf9L6zE3xfQlff0yv68u9AZ+R1wJBlGVO813wKma5e72b+aVMzhHn316yRmB5nfw8Xv7RRf5RQf47V84ZGN/64j0e8cx1N+cCfafE+76u2lbdotb3wQv6dTVb4i+CV9yrvysV96p1P/Vz9fhP/8P9cWk8qdezaaZqC7wr6Fvl8R1vN15dpLdz+NPg5+ZHuBmDG6ea9AjVjdMjb/Orv8ffdxcoYNmPRB0AAI24aD8KWAaFL2BZvKz4//XPWx5UJ6oPNV9C96ch7ud+aTypJw4PXIoHqjmr3I76mH2+fvzqIneFl3CjxIKKah6KIVVzRPa97v71kfYjkdEr/kuZAu9I5sWme3Q/vF4u6nbZXeH+OLu9w5+pPpZcrvrnaTSey1Fi8Ux+Hq+T9boAseG/VVvgzRqOHvK+znhHpMUzAss/ifrRz3Xblrmq7Ys9uu3VRfGNdCwdK/L3d/TjN5ardb9YqD/TxhPujsuXNXo9ry9tPv5HddtLSZzg/6//pbZxzznBE62L6Lmq/PNyeXFkv+7/jsXBzwVeSnzgzfj77gIFLPuRqAMAoBEX7UcByyAjBSz/PDdJX3rpyYOLvqZPvrcvCDi5XKxHmfjnSgo36iRwtMJzk+Ofb8s//1RBT5F/7ktsnq6mBtVePDD2cfCfEDc1BJ+4xrv4+9PUoIopXi592zhDPz5+JPKXLdIooGdvVu+//5v6dabnKQu81C7acS653P0oPtN99BeVTI0Si3fy83h9+qpe/zsrVduHG3Tbx1Wx+2tiHjH/utwWAlsfz0+267b316m2U02qYFPQU2TFz7z1acaZemTX+3/V7Z9sV+t+Y7luO/ieu2Nds0W/56ONut1fqPSPHDOtqUFk0Ui1jT/9j9Dvzvq7m/f5LHXMvKw3cJRV9Zrg5/duDdjfFxPfjygoYNmPRB0AAI24aD8KWAYZKWBVFKkTtKKvmTuZj7UEXq52+NPwr2k9V1LgqJPAQtPnu0MPjNcRUTPOVIUHE6Nn/Cfubz+j5iKbMzDMfszRI3aq7gudHN7L4p9/LNxInVhL1Rx1ku9/XFkUWiyMNQpoyTXq8eLvq9cn406R4S61CyyY+E/K51zg7sQ7kT7OODPy96Kgp7r8qvTfY39mpuZ6c3O5pBuvlOh1+i8FDRxVs31++PdF+34k8jvldv/9oyj9c1DtfFw/F/i3wX95nP8ySbdL4dl6pFLgROtf/UO1Bd69r3XhJpI3n9LvCSx6LW7+Hj/2A3frccvtSL4df9bPHf4k/vXOPj94vYc+0s/9rczsvrVCAct+JOoAAGjERftRwDIo/gJWmBEcJ+tTV8QqGhAwsbvbuZKa+7xopMgfh6ifH86LfHBcj4iKc0l0/iIT80TNGSTywQZ91zVXI4oCPvuT9SLr/xD6mqCJ92OMApp5rvr36V+o/Ypn/qJofXVzqd3rS/V7Pnkl9mditI9hlooikQcuCv/c83eEFgjjvjGAhwnrY3l2klrn7PP1pbw+n/6bEG5UkJtRYhHnxmu1tC7ENTWILPhu7O+wv9+zBqjiZeAoosAJw8tvUO3+Oe+8LLXvq3WsvbP5O99PH6P6L/TrXv6Tu2O9+QH9nhNf6fa/jFdtfxzibj1ueBnJ99GL+rlwxex413v8n/q5LQ+a27cwKGDZj0QdAACNuGg/ClgGxV3AChwFFMj03EXRTry9nNxGWmb2iz0XkL9A8PQNZvch0TvIxXusSy4X+cvE+Pvt/+yjFg/j+Hye/kV8l43FWtyMMKo7qPv89C9iT3aejFFigccusEhSfkPwyJaq+/T3MtKoGH9Rxu3itpgajf9y2idGB7f7R9gtvCL0PW6/w/NifI8CC+mBBT3//HitCySBf78Ci5d/f1tk2U/Uzw8ND+5rZZF+3X3fCF1npN+Bgp56viv/78sj3w5ed8uk8bfqtmgT7/vvzjlrQPB6/PPJTc9W8/x5EWl7bj+jiiKRv/4utD3SfGteRgj6fPpS9fW/97ZfHlHAsh+JOgAAGnHRfhSwDIqrgLXt4Rj/qx7HZORpW1zOBZSMOY8SKRrE05/AwtPSH3nvb1F/Pdm4SHKKlZ4uGzPwuQYez3AjniKdfCfj+xBp+ex1tc1H8tTjRVeavQNiQc/EiqlNDSIfrNfr8k/g7vf8VNU+s2/wpN9eRonNuUDdJCDc8w/+S/DltOEug/3zVeq7G64YVPu+ft2OxWp9BT3VhOSB3n5Gv27Nr90dV//los9PVeuY9/+FX/ef81W7/06qsS7X8xfZHmk1gnTnE/r14S6NjvT5JXwJZ88ocyGG+V2MZ4Sg//fz2Unu9suLgOLdOy88TgHLciTqAABoxEX7UcAyKK4CVqyTXU+X3hkaSWViiTZSx+iIGwOXbXntT2DRMZHCk+dJsuM4Nia+D5FGCEb6vsYaSRZuhI/pEXnhlgcu0peabSzQ7RvCXLaZyBL4uUYa9RPuuIUrfPgv7/W/97VH9XOBRZXdFd766L+BwxP/qvq37Mfq8Ywz1XxSsQp6kYqZp07pO5I+9XM9n9zG6cGv+0fAHQR3lYos+E7s74x/TqpFV6rLE/1FnhemBa975S9V+30XuLuszj8P15P/HryewL8L/rsqRuPmMj6Ti/9vbDyT8y8c0fz5j462R96E+Q6/88seFLAsR6IOAIBGXLQfBSyD4ipgxTN30+4KdQlO66JW0OVo6Ry5FaOoZHrOo0QnzvbaH3/RMdHCk389Sb2ErnlpuWzM5aVai0aKvP1s7MJLa24Lek//QhUavE50n8gys68uBgXeHW9mX0PbaP7eR5rEP9oINLfzF33yin6u+jldNHB1p8swi/8Oh4HfQf8IplhLpN87fzHMXyQr6Kkv+/NrPKH3bcXPROb5R4RFuTxxXfMldYV9VPHO/5odi4PXvfl+b8fgnuZ54567PXg9gTe0eO1Rc999k9+1pob4/n75v28Lvhv8PXRbcG0twneYApb9SNQBANCIi/ajgGWQtwKWgZFD0U44kj1pupslUnEuroJNjBP7RMQzgiHu/QiznmRPYu6/bCxc0XN6dvBjL6OtWkvZpYDN6y/sE9+2SseKHP9K5J5zzPft6V+ILPo/Eb6zzUvJ5fFdPlo1R+T4Ef34qZ8HbCuOpbCPnrS84bjIvf28fQaR/n69/MfQ13+yPfh7Eulun49eHfnyxMC7BW55UP/80YvB2393lffvkv/4BjrVJDK9+bLFsp/GnkQ9VZfBBi57Nsf392vlLern+we7vyuifz89zO1FAct+JOoAAGjERftRwApQW1sr1157rXTv3l0GDRokGzZs8PT+lgLWgz9xf0KabE0N6pK3VJ5U+ZdIl0d6na8n2mgzE3d8i/cuc3EXnlqtJxUjsPwnrq1PQE/Wxz/qojXT+/H0L9SJ9pwIn33FrPjXbcNltp7mRWr+XaiYFVp0jOf7V9BT5PHr9Pc/3jtwti5SNzWoydNbv27OBe7vdBqpKB046qrkcv3zFx8Hvy7w8kQvyxvLgvcjXJEt0ii6VP0Ot17eXR3f36+NBaptem916WTg96L198R/h9Q45vaigGU/EnUAADTiov0oYAUYO3as3HjjjVJfXy+rV6+W7Oxs+fzzz12/v6WA9eYbUS7hMzhyyK10jg6IxMuoE/8+mCq0mOiPSGInrYHrSdXnk+idGmMxOpIs4GQ70mff5m5yEGYf07n9e89T3/tECoGB3yk385+5LRyGK+77fGpOsMDXTe8dOkJo08z49uXjKvf70frvd9JHUUZY/H9jvf798vqfGg9GugQ5+neYApb9SNQBANCIi/ajgNWsrq5OOnfuLPv27WtpGzFihDz6qIu5T5oF3TI80iV8JkcOeeH2BMf1XEnRFheXR0YtPqSpyOe1P54LT1H2KxXz5yRyp0Y3kjEKJVafbbhUts0uCV6K2frzMfYdjvL34/Hrgl9bPKhVQTPOkWQFPfWk+KkuZsf1ebQ6RkF/vyKsN/DvzptPhz6fhIUClv1I1AEA0IiL9gspYH311Vdy5513Sn5+vvTp00ccx5GCgoKwb66srBTHccIu27dvD/seU7z0U0QVqCZPniz9+vWTrl27yrBhw6SsrKzl+V27dknv3r2D3nPbbbfJlClTXPcpqIDll+yRQ265LdCcrA9fEPB62ZKbyyNtK/LF0x8vJ+3R1pPU0UQG5ltze/xMjyRzO2qsqUGkcnbSTsRZYnynkvHZh7s8ccmo0Nf5L+tLZCRZQU+RhmPxXY7X1KDm7Yp3Iv2g/fBwaWzr0amR/haF+7vzcWVKvicdqYAVK8eI5eDBgzJu3Dg566yzpFu3bpKXlycvvhg8v9uRI0dk5syZMmLECDn33HOlR48eMmTIEJk9e7YcP348rn6TqAMAoKU6LrbV/CGdQgpYNTU10qtXL7n88stlwoQJrgpYs2bNku3btwctdXV1Se24l36KiOTn50t2draUlJRIRUVFy3uWLVPznmzevFlyc3OD3jNt2jS56aabXPcpbAHLJl4KNJHmSnr7GX07e1Mjp2wp8sXTHzeFp9aTdkdbV7JGE6VivjUR8yPJvIwaS9c8RB11MT4CqdXi9fLEREaS3ff1+PbjyX8zcyfNbQ97uzS25HKRDzcEzD/V6vmnb4h8F9GmBpHnp6bkO9KRClixcoxoTpw4IUOGDJH+/ftLaWmpbNiwQa6//nrJysqSqqqqlte9/fbb0qdPH7njjjtk9erVsmnTJpk+fbqcdtppMnLkSPH5fJ77TQELAAAt1XGxreYP6RRSwPL5fC07cejQIVcFrPLycs8bPnLkiKxbty7i82vWrJGjR49GfN5LP9euXSuO48jy5cG3cs/Pz5ecnBxpampK3ggsGyVaMLJt5FS6mT4eXkd0FPaJcLJr26WYXpY4Ro2l+i6IHXlJxRxQSbk8sdVy73nq37mXqP1J11xWrUcamihmh/u9T/QyS49LRylguckxonnkkUfEcRzZtm1bS1tjY6NcdNFFcumll7a0HT16NGxeVFxcLI7jyMsvv+y57xSwAADQUhkX23L+kE5R58BKZgHrgQcekE6dOsnSpUtDnispKZGMjAyZP3++q3XF6ueECRPk9NNPl8bGxqD25cuXi+M4snXr1rBzYF1xxRXxz4HVEdg2cirdTB8PtyftFUV2FRRNjSSLZ9SYyULHrAFqQvBwx3XlLekpdKR7mRPhO2V0BFYKLk8Mt6Tzc4000tBfzF7wvfjW2/p3KBVz7QUsHaWA5SbHiOb73/++DB48OKR91qxZ4jiOfPbZZ1Hf/9JLL4VNgN2ggAUAgJbKuNiW84d0MlLAOueccyQzM1POOOMMueqqq1xX8aZMmSIZGRlSUlLS0jZ37lxxHEemTZvmeidi9TMvL0+GDx8e0u4vOC1cuFBERMaMGSPjx4+XY8eOyZo1ayQ7O1sOHToUc/sFBQVB83+192QdKeJ1YnnbCor+/jx9g7fiRev98rrNWMfM653wwh3XVBVVigaoAqXnbSWhXytvifyZmD4eyb48MdoxS+RSxHi2GWukYdxFpzQVAgOWjlLAcptjRNK3b18ZO3ZsSPvzzz8vjuPI+vXro77fn4O8+eab3jouFLAAAAiUyrjYlvOHdEqogLVr1y6ZPHmyrFy5UjZv3ixLliyRb33rW5KZmSkvvPCCqw5MmzZNHMeRuXPnyuzZs8VxHCksLPS0E7H6OWjQILn66qtD2g8cONAyh5eISG1trVxzzTXSrVs3GThwYMwPvbUONwILydceLtf0clmhif2KdcxO1pu5A2YqRrPsrohvW8UDvRW+TFyGmvCdTiNsK12X9aVqiTbS0ETRyT+6Kw1zxL3z4H90iJjoNseIpHPnzjJp0qSQ9m3btsX8n9E333xTunXrJqNHj47Zz4MHD8o777wTtMybN48CFgAAzfwFrHnz5oXEzIMHDxrdVlvJH2yTUAErnMOHD0v//v1l6NChrt9TWFjYMnqpuLjY9fvc9nPQoEEyatSokHb/l6OoqMjzNsOhgIWksW10lVeRikpzLlAjeyJNOJ3oNiMdMxOFQTejvRZeGXD5l8cRVK1Hz8Ta1qKRoccxlZehJnqn00jbSsfk/BELevEucRYGTey7f36tlBcCe8k7Uwe0uZgY7e7KrZc33nhDRBLPMTp37iw333xzSLs/AY10N6KamhoZMGCAXHjhhfLFF1/E3LfWo8UDFwpYAADoAla4JVpNpD3nD7YxXsASEbn55pvFcRw5duyYq9dPnTpVMjIyxHEcufvuuz1ty00/Ex2e5xYFLCAG2wpxqbihQbxzgrUemRNP0S3Vl6EmcqdTE5cnxhpJ5mVZeYuZO4KGW4/bwqCJolM6R2C1wUsIDxw4IIsXL3a1+JO+dFwCsHfvXjn//PPl61//etDcndEwAgsAgOjiHYHVnvMH2ySlgDVp0iRxHEeOHz8e9XU+n09uvfVW6dSpkyxZskQWLFggGRkZMnXqVE/bi9XPiRMnhp0grayszNUEaW5RwAI6KDfFGP9r3n5GZPFI90WleLbV+vWpvgzVxhsalN/orQDz7mrV720Px1nACRhFF+/xSKjoxBxYqZJojpGfny/f/OY3Q9qLiorEcRzZv39/ULs/+czNzZW9e/cm1HfmwAIAQEtlXGzL+UM6GS9gffnll3LeeefJJZdcEvV1p06dkvHjx0tWVlbQ8LalS5dKZmam3HLLLeLz+VxtM1Y/161bJ47jyIoVK4LaR40a5eoWlW5RwALgSnsoKqWSiZFkXotB/pFLiRR+4rmTZuv9TqToxF0IUyLRHGP+/PniOI688sorLW2NjY1y8cUXy2WXXRb02k8++UTOP/98GTBggHz88ccJ950CFgAAWirjYlvOH9LJyczMlBkzZgQ1rlu3TsrLy2XJkiXiOI6MHTtWysvLpby8XOrr61te99Of/lR+97vfSXl5uVRWVsqiRYtk8ODBkpWVJRs3boy64eLiYunSpYusXLky5LkVK1ZIVlaWPPTQQ1HX4bafIqpC2bt3b1m0aJFUVFTIxIkTxXEcKS0tjXWMXKOABcCTtlxUSrVEi36ui0Fh7gzoqfCT4J00W/NcdIqyfTeFwCf/XaT036O/xtWdGtvmHFjxcptj3HjjjZKZmRn0P58nTpyQiy++WAYMGCDLli2TjRs3yujRoyUrK0uqqqpaXnfw4EH5xje+IV27dpXS0lLZvn170BLPpQAUsAAA0FIdF9tq/pBOTriRS7m5uREnHaupqWl5XVFRkVxyySXSq1cvyczMlLPPPltGjx4tO3bsiLnhY8eOybZt2yI+v2XLFjl58mTUdbjtp4hIXV2d3H777dK3b1/p0qWLDB06NOLEZvGigAUASZZI0c9tMSjc/GOpvJNmvNt2s/1E5m3zv6ZilrsRWI9N6TAx0W2OMW7cuLA5yj/+8Q/5+c9/LmeeeaacdtppkpeXF/IfgbEmiPU63YMIBSwAAAKlOi621fwhnaJeQghvKGABgMW8XorY+r2pvpNmrG0XD1Tzfu2u8F7Q8zJvW+vXuDyO77z5BjHRchSwAADQiIv2o4BlEAUsALCciUsR03XZp02XnLo4jsRE+5GoAwCgERftRwHLIJJ1AGgjbCoGtWVRjiMx0X4k6gAAaMRF+1HAMohkHQAAhZhoPxJ1AAA04qL9KGAZRLIOAIBCTLQfiToAABpx0X4UsAwiWQcAQCEm2o9EHQAAjbhoPwpYBpGsAwCgEBPtR6IOAIBGXLQfBSyDSNYBAFCIifYjUQcAQCMu2o8ClkEk6wAAKMRE+5GoAwCgERftRwHLIJJ1AAAUYqL9SNQBANCIi/ajgGUQyToAAAox0X4k6gAAaMRF+1HAMohkHQAAhZhoPxJ1AAA04qL9KGAZRLIOAIBCTLQfiToAABpx0X4UsAwiWQcAQCEm2o9EHQAAjbhoPwpYBpGsAwCgEBPtR6IOAIBGXLQfBSyDSNYBAFCIifYjUQcAQCMu2o8ClkEk6wAAKMRE+5GoAwCgERftRwHLIJJ1AAAUYqL9SNQBANCIi/ajgGUQyToAAAox0X4k6gAAaMRF+1HAMohkHQAAhZhoPxJ1AAA04qL9KGAZRLIOAIBCTLQfiToAABpx0X4UsAwiWQcAQCEm2o9EHQAAjbhoPwpYBpGsAwCgEBPtR6IOAIBGXLQfBSyDSNYBAFCIifYjUQcAQCMu2o8ClkEk6wAAKMRE+5GoAwCgERftRwHLIJJ1AAAUYqL9SNQBANCIi/ajgGUQyToAAAox0X4k6gAAaMRF+1HAMohkHQAAhZhoPxJ1AAA04qL9KGAZRLIOAIBCTLQfiToAABpx0X4UsAwiWQcAQCEm2o9EHQAAjbhoPwpYBpGsAwCgEBPtR6IOAIBGXLQfBSyDSNYBAFCIifYjUQcAQCMu2o8ClkEk6wAAKMRE+5GoAwCgERftRwHLIJJ1AAAUYqL9SNQBANCIi/ajgGUQyToAAAox0X4k6gAAaMRF+1HAMohkHQAAhZhoPxJ1AAA04qL9KGAZRLIOAIBCTLQfiToAABpx0X4UsAwiWQcAQCEm2o9EHQAAjbhoPwpYBpGsAwCgEBPtR6IOAIBGXLQfBSyDSNYBAFCIifYjUQcAQCMu2o8ClkEk6wAAKMRE+5GoAwCgERftRwHLIJJ1AAAUYqL9SNQBANCIi/ajgGUQyToAAAox0X4k6gAAaMRF+1HAMohkHQAAhZhoPxJ1AAA04qL9KGAZRLIOAIBCTLQfiToAABpx0X4UsAwiWQcAQCEm2o9EHQAAjbhoPwpYBpGsAwCgEBPtR6IOAIBGXLQfBSyDSNYBAFCIifYjUQcAQCMu2o8ClkEk6wAAKMRE+5GoAwCgERftRwHLIJJ1AAAUYqL9SNQBANCIi/ajgGUQyToAAAox0X4k6gAAaMRF+1HAMohkHQAAhZhoPxJ1AAA04qL9KGAZRLIOAIBCTLQfiToAABpx0X4UsFqpra2Va6+9Vrp37y6DBg2SDRs2uH4vyToAAAox0X4k6gAAaMRF+1HAamXs2LFy4403Sn19vaxevVqys7Pl888/d/VeknUAABRiov1I1AEA0IiL9qOAFaCurk46d+4s+/bta2kbMWKEPProo67eT7IOAIBCTLQfiToAABpx0X7OV199JXfeeafk5+dLnz59xHEcKSgocPXmRN6bKK/brqurk8mTJ0u/fv2ka9euMmzYMCkrKwt6za5du6R3795BbbfddptMmTLFVZ9I1gEAUIiJ9iNRBwBAIy7az6mpqZFevXrJ5ZdfLhMmTPBUhErkvYnyuu38/HzJzs6WkpISqaioaHnPsmXLWl6zefNmyc3NDXrftGnT5KabbnLVJ5J1AAAUYqL9SNQBANCIi/ZzfD6f+Hw+ERE5dOiQpyJUIu89cuSIrFu3LuLza9askaNHjxrZ9tq1a8VxHFm+fHlQe35+vuTk5EhTU5OIMAILAABTiOuB/T0AACAASURBVIn2I1EHAEAjLtovaA4sr0WoRN77wAMPSKdOnWTp0qUhz5WUlEhGRobMnz/fyLYnTJggp59+ujQ2Nga1L1++XBzHka1bt4pI+DmwrrjiCubAAgDAI2Ki/UjUAQDQiIv2S1sBS0RkypQpkpGRISUlJS1tc+fOFcdxZNq0aca2nZeXJ8OHDw9p9yfXCxcubGkbM2aMjB8/Xo4dOyZr1qyR7OxsOXToUNTtFxQUiOM4LQvJOgCgo6OAZT8SdQAANOKi/dJawBJRc0w5jiNz586V2bNni+M4UlhYaHTbgwYNkquvvjqk/cCBA+I4jsyaNaulrba2Vq655hrp1q2bDBw4UNavX++6HyTrAAAoxET7kagDAKARF+2X9gKWiEhhYWHL6KXi4mLj2x40aJCMGjUqpN1fwCoqKvK8zXBI1gEAUIiJ9iNRBwBAIy7az4oC1tSpUyUjI0Mcx5G7777b+La9XEKYCJJ1AAAUYqL9SNQBANCIi/ZLawHL5/PJrbfeKp06dZIlS5bIggULJCMjQ6ZOnWp02xMnTgw7iXtZWVnQJO6JIlkHAEAhJtqPRB0AAI24aL+0FbBOnTol48ePl6ysLCkrK2tpX7p0qWRmZsott9wiPp/PyLbXrVsnjuPIihUrgtpHjRolOTk50tTU5Go7sZCsAwCgEBPtR6IOAIBGXLSfI6IKPOXl5bJkyRJxHEfGjh0r5eXlUl5eLvX19SIiUlVVJZmZmTJjxoygFbh5bzjFxcXSpUsXWblyZchzK1askKysLHnooYeidt7LtvPz86V3796yaNEiqaiokIkTJ4rjOFJaWuruSLlAsg4AgEJMtB+JOgAAGnHRfo6ISG5ubssk6q2XmpoaERGprKwMO8rJzXvDOXbsmGzbti3i81u2bJGTJ09G7byXbdfV1cntt98uffv2lS5dusjQoUODRn6ZQLIOAIBCTLQfiToAABpx0X5O7JfALZJ1AAAUYqL9SNQBANCIi/ajgGUQyToAAAox0X4k6gAAaMRF+1HAMohkHQAAhZhoPxJ1AAA04qL9KGAZRLIOAIBCTLQfiToAABpx0X4UsAwiWQcAQCEm2o9EHQAAjbhoPwpYBpGsAwCgEBPtR6IOAIBGXLQfBSyDSNYBAFCIifYjUQcAQCMu2o8ClkEk6wAAKMRE+5GoAwCgERftRwHLIJJ1AAAUYqL9SNQBANCIi/ajgGUQyToAAAox0X4k6gAAaMRF+1HAMohkHQAAhZhoPxJ1AAA04qL9KGAZRLIOAIBCTLQfiToAABpx0X4UsAwiWQcAQCEm2o9EHQAAjbhoPwpYBpGsAwCgdKSYWFdXJ5MnT5Z+/fpJ165dZdiwYVJWVub6/QcPHpRx48bJWWedJd26dZO8vDx58cUXo77n2LFjMmjQIHEcR4qLi+PqN4k6AABaquNiW80f0okClkEdKVkHACCajhQT8/PzJTs7W0pKSqSiokImTJggjuPIsmXLYr73xIkTMmTIEOnfv7+UlpbKhg0b5Prrr5esrCypqqqK+L6pU6dKTk4OBSwAAAxJdVxsq/lDOlHAMqgjJesAAETTUWLi2rVrxXEcWb58eVB7fn6+5OTkSFNTU9T3P/LII+I4jmzbtq2lrbGxUS666CK59NJLw77n1VdflS5dukh5eTkFLAAADEllXGzL+UM6UcAyqKMk6wAAxNJRYuKECRPk9NNPl8bGxqD25cuXi+M4snXr1qjv//73vy+DBw8OaZ81a5Y4jiOfffZZUPvJkyfl4osvljvuuENqamooYAEAYEgq42Jbzh/SiQKWQR0lWQcAIJaOEhPz8vJk+PDhIe3+/V+4cGHU9/ft21fGjh0b0v7888+L4ziyfv36oPa7775bzj//fDl69CgFLAAADEplXGzL+UM6UcAyqKMk6wAAxNJRYuKgQYPk6quvDmk/cOCAOI4js2bNivr+zp07y6RJk0Lat23bFnJpwRtvvCGdO3eWF154QUTEUwJ68OBBeeedd4KWefPmUcACAKCZv4A1b968kJh58OBBo9tqK/mDbShgGdRRknUAAGJpizGxsrJSHMdxtbzxxhsiohLQUaNGhazLn4AWFRVF3Wbnzp3l5ptvDmn3J6D+uxE1NjbKv/zLv8jPfvazltd4SUALCgoi7gsFLAAAdAEr3FJQUBDxfe05f7ANBSyD2mKyDgBAMrTFmHjgwAFZvHixq+WLL74QkdRdAlBcXCy9evWSjz76SA4fPiyHDx+WN998UxzHkXvuuUcOHz4cdcJXRmABABBdvCOw2nP+YBsKWAa1xWQdAIBk6CgxceLEiWEnYS0rK3M1CWt+fr5885vfDGkvKioSx3Fk//79IiIybtw41/+r6xZzYAEAoKUyLrbl/CGdKGAZ1FGSdQAAYukoMXHdunXiOI6sWLEiqH3UqFGuboM9f/58cRxHXnnllZa2xsZGufjii+Wyyy5raXvvvfeksrIyaPEnuTfffLNUVlZKXV2dp75TwAIAQEtlXGzL+UM6UcAyqKMk6wAAxNKRYmJ+fr707t1bFi1aJBUVFTJx4kRxHEdKS0uDXnfjjTdKZmam7N27t6XtxIkTcvHFF8uAAQNk2bJlsnHjRhk9erRkZWVJVVVV1O1yF0IAAMxJdVxsq/lDOlHAMqgjJesAAETTkWJiXV2d3H777dK3b1/p0qWLDB06tGXy1ED+Yfw1NTVB7f/4xz/k5z//uZx55ply2mmnSV5enmzcuDHmdilgAQBgTqrjYlvNH9KJApZBHSlZBwAgGmKi/ShgAQCgERftRwHLIJJ1AAAUYqL9SNQBANCIi/ajgGUQyToAAAox0X4k6gAAaMRF+1HAMohkHQAAhZhoPxJ1AAA04qL9KGAZRLIOAIBCTLQfiToAABpx0X4UsAwiWQcAQCEm2o9EHQAAjbhoPwpYBpGsAwCgEBPtR6IOAIBGXLQfBSyDSNYBAFCIifYjUQcAQCMu2o8ClkEk6wAAKMRE+5GoAwCgERftRwHLIJJ1AAAUYqL9SNQBANCIi/ajgGUQyToAAAox0X4k6gAAaMRF+1HAMohkHQAAhZhoPxJ1AAA04qL9KGAZRLIOAIBCTLQfiToAABpx0X4UsAwiWQcAQCEm2o9EHQAAjbhoPwpYBpGsAwCgEBPtR6IOAIBGXLQfBSyDSNYBAFCIifYjUQcAQCMu2o8ClkEk6wAAKMRE+5GoAwCgERftRwHLIJJ1AAAUYqL9SNQBANCIi/ajgGUQyToAAAox0X4k6gAAaMRF+1HAMohkHQAAhZhoPxJ1AAA04qL9KGAZRLIOAIBCTLQfiToAABpx0X4UsAwiWQcAQCEm2o9EHQAAjbhoPwpYBpGsAwCgEBPtR6IOAIBGXLQfBSyDSNYBAFCIifYjUQcAQCMu2o8ClkEk6wAAKMRE+5GoAwCgERftRwHLIJJ1AAAUYqL9SNQBANCIi/ajgGUQyToAAAox0X5uEvXGxkapra2VPXv2yMcff8zSxpc9e/ZIbW2tNDY2pvCbBgBtAwUs+1HAMohkHQAAhZhov1iJus/nk5qaGqmurpYPPvgg7cUXlsSXDz74QKqrq2Xv3r3i8/lS/I0DALtRwLIfBSyDSNYBAFCIifaLlagfOXJEqqurZf/+/RQ72gmfzyf79++X6upqOXLkSLq7AwBWoYBlPwpYBpGsAwCgEBPtFytR37dvn1RXV3O5WTvT2Ngo1dXVsm/fvnR3BQCsQgHLfhSwDCJZBwBAISbaL1aivmfPHvnwww9T3Cukwocffih79uxJdzcAwCoUsOxHAStAbW2tXHvttdK9e3cZNGiQbNiwwdP7SdYBAFCIifaLlah//PHHsnv37hT3Cqmwe/du+fjjj9PdDQCwCgUs+1HACjB27Fi58cYbpb6+XlavXi3Z2dny+eefu34/yToAAAox0X5uClgUOdonPlsACEUBy34UsJrV1dVJ586dg+YDGDFihDz66KOu10GyDgCAQky0HwWsjovPFgBCUcCyX9gCVl1dnUyePFn69esnXbt2lWHDhklZWVnI6yorK8VxnLDL9u3bk9rxr776Su68807Jz8+XPn36iOM4UlBQEPH1sfZp165d0rt376D33HbbbTJlyhTXfSJZBwBAISbaL20FrIYGkcpKkWeeUf82NJjfRgyPPfZYxBx26tSpLa/Lzc0Neq5Hjx5y6aWXyuOPP56Sfm7dulUKCgrk8OHDRtdLAQsAQlHAsl/YAlZ+fr5kZ2dLSUmJVFRUyIQJE8RxHFm2bFnQ6/wFrFmzZsn27duDlrq6uqR2vKamRnr16iWXX355S/+iFbBi7dPmzZslNzc36D3Tpk2Tm266yXWfSNYBAFCIifZLeQGroUGksFDk3HNFHEcvffuq9hQWsvwFrMceeywkh/3kk09aXpebmyvf+c53Wp4rLy+Xyy67TBzHkfnz5ye9n8XFxeI4jtTU1BhdLwUsAAhFAct+IQWstWvXiuM4snz58qD2/Px8ycnJkaamppY2fwGrvLzc84aPHDki69ati/j8mjVr5OjRoxGf9/l84vP5RETk0KFDUQtYbvaJEVgAAJhDTLRfSgtYDQ0i116rClYZGcEFLP/jH/wgZUUsfwHrtddei/q63Nxc+cEPfhDUdvjwYenZs6cMHDjQ83br6+s9vZ4CFgCkDgUs+4UUsCZMmCCnn366NDY2BrUvX75cHMeRrVu3trQlUsB64IEHpFOnTrJ06dKQ50pKSiQjI8P1/2zFKmC52adwc2BdccUVzIEFAEAciIn2S2kBq7AwuGgVabnnHjPbiyGRApaIyPDhw6Vz585R3ztu3Djp0aOHvPXWW5Kfny+nn3665OXliYjIhg0b5LrrrpPzzjtPunbtKhdccIHcdNNNcujQoZb3FxQUhL3EsbKysuU1K1askLy8POnevbv06NFDrrrqKtm1a1fM/aeABQChKGDZL6SAlZeXJ8OHDw95oT8RXbhwYUubv4B1zjnnSGZmppxxxhly1VVXycsvv+xq41OmTJGMjAwpKSlpaZs7d644jiPTpk1zvROxClhu92nMmDEyfvx4OXbsmKxZs0ays7ODEolIWicYJOsAgI6OApb9UlbAamhQlw22HnnVesnIUJcTpmAUlr+A9corr0hjY2PQEihcAauhoUHOOeccycnJibqNcePGSefOneX888+XoqIi2bRpk6xfv15ERBYsWCBFRUXy3HPPyUsvvSSPP/64DBs2TAYPHiwNzfu/b98++dWvfiWO48izzz7bchnjkSNHRETk3nvvlYyMDLnxxhvl+eefl2effVa+/e1vS48ePeTdd9+N2jcKWAAQigKW/UIKWIMGDZKrr7465IUHDhxome/Kb9euXTJ58mRZuXKlbN68WZYsWSLf+ta3JDMzU1544QVXHZg2bZo4jiNz586V2bNni+M4UlhY6GknYhWw3O5TbW2tXHPNNdKtWzcZOHBgS5LhFsk6AAAKMdF+CRWwJk8WGTHC3TJsmLvRV/5l2DD36x4xQvXFo2iTuAcWsXJzc+Xaa69tKW7V1NTIuHHjxHEcufPOO6Nuw/+6JUuWRH2dz+eTxsZG+eSTT8RxHFm9enXLc5EuIfz0008lKytLfvWrXwW119XVSd++feXHP/5x1G1SwAKAUBSw7Be2gDVq1KiQF/qLPUVFRVFXePjwYenfv78MHTrUdScKCwtbkobi4mLX7/NzU8BKZJ/cIlkHAEAhJtovoQLWiBHeilLJXEaM8Lzv/gLWE088Ia+99lrQEqj1XQgdx5Fu3brJr371Kzl58mTUbfgLWP4RU4EOHjwokyZNkv79+0unTp2C1j979uyW10UqYC1evLjlEsjWI8h+8pOfyDnnnBO1bxSwACAUBSz7JXQJYSQ333yzOI4jx44dc9WJqVOnSkZGhjiOI3fffber9wQydQlhokjWAQBQiIn2YwSWuzmwvvvd78prr70mr7/+ulRXV8csXPmNGzdOunfvHtJ+6tQpGTZsmJx99tkyb948qayslB07dsgrr7wSks9GKmDNnDkz4ggyx3GkU6dOUftGAQsAQlHAsl9IAWvixIlhJzwvKyuT1pO4RzJp0iRxHEeOHz8e9XU+n09uvfVW6dSpkyxZskQWLFggGRkZMnXqVE87EauAZWKf3CBZBwBAISbajzmw4p/E3Q3/JO6tvfnmm+I4TsiNjD766CPXBaySkhJxHEf+8pe/hIwgCzeSrDUKWAAQigKW/UIKWOvWrRPHcWTFihVB7aNGjZKcnBxpamqKusIvv/xSzjvvPLnkkkuivu7UqVMyfvx4ycrKkrKyspb2pUuXSmZmptxyyy3i8/lc7USsAlai++QWyToAAAox0X7chTA9Bay33npLHMcJyn9FRH7zm9+E5LPz5s0Tx3Gkuro66LU1NTWSlZUl9913X1x9o4AFAKEoYNnPyczMlBkzZgQ15ufnS+/evWXRokVSUVEhEydOFMdxpLS0NOh1P/3pT+V3v/udlJeXS2VlpSxatEgGDx4sWVlZsnHjxqgbLi4uli5dusjKlStDnluxYoVkZWXJQw89FHUd69atk/LyclmyZIk4jiNjx46V8vJyKS8vl/r6+rj2KREk6wAAKMRE+6W0gNXQIPKDH+iRVq1HXjmOej4Fo69E0lvAamhokAsuuEByc3Nl+fLl8sILL8itt94qF154YUgBy3/H70mTJsm2bdvktddek6+++kpERGbNmiVZWVkyadIkWblypVRVVclTTz0lU6dOlf/+7/+O2jcKWAAQigKW/ZxwI5fq6urk9ttvl759+0qXLl1k6NChIf9LJCJSVFQkl1xyifTq1UsyMzPl7LPPltGjR8uOHTtibvjYsWOybdu2iM9v2bIl5hwD4SbW9C+th1q73adEkKwDAKAQE+2X0gKWiCpO3XOPukwwsIDVt69qT1HxSiS9BSwRkerqasnPz5czzjhDevfuLWPHjpVPP/007BUFd911l+Tk5LRM9l5ZWdny3KpVq+TKK6+Unj17SteuXSU3N1fGjBkjL774YtS+UcACgFAUsOwXcgkh4keyDgCAQky0X8oLWH4NDSKVlSLPPKP+TWHhCgoFLAAIRQHLfhSwDCJZBwBAISbaL20FLKQdny0AhKKAZT8KWAaRrAMAoBAT7UcBq+PiswWAUBSw7EcByyCSdQAAFGKi/ShgdVx8tgAQigKW/ShgGUSyDgCAQky0HwWsjovPFgBCUcCyHwUsg0jWAQBQiIn2c1PA2r17d4p7hVTYvXs3BSwAaIUClv0oYBlEsg4AgEJMtF+sRH3Pnj3y4YcfprhXSIUPP/xQ9uzZk+5uAIBVKGDZjwKWQSTrAAAoxET7xUrU9+3bJ9XV1dLY2JjiniGZGhsbpbq6Wvbt25furgCAVShg2Y8ClkEk6wAAKMRE+8VK1I8cOSLV1dWyf/9+8fl8Ke4dksHn88n+/fulurpajhw5ku7uAIBVKGDZjwKWQSTrAAAoxET7xUrUfT6f7N27V6qrq+WDDz5omTeJpW0uu3fvlg8++ECqq6tl7969FCUBoBUKWPajgGUQyToAAAox0X5uEvXGxkapra2VPXv2pL0Aw5L4smfPHqmtreWyUAAIgwKW/ShgGUSyDgCAQky0H4k6AAAacdF+FLAMIlkHAEAhJtqPRB0AAI24aD8KWAaRrAMAoBAT7UeiDgCARly0HwUsg0jWAQBQiIn2I1EHAEAjLtqPApZBJOsAACjERPuRqAMAoBEX7UcByyCSdQAAFGKi/UjUAQDQiIv2o4Bl0M6dO1u+8O+88w4LCwsLC0uHXfxJ4M6dO9MdnhFBaWmpOI4jd911l6xatYqFhYWFhaVDL3fddZc4jiOlpaXpDtGIgAKWQatWqWSdhYWFhYWFRS2rVvG/mLbyJ+osLCwsLCwsernrrrvSHaIRAQUsgw4fPiyrVq2Sp59+WhyHkVip/B9+jjXHub0sHGuOdXtZdu7cKatWrZLDhw+nOzwjgpqaGrnrrruktLQ07f/rncpl3rx54jiOzJs3L+19acsLx5FjadvCceRYJrqUlpbKXXfdJTU1NekO0YiAAlYSvPMO836kCsc6NTjOqcOxTh2ONdAx8btvBsfRHI6lGRxHcziWsBUFrCTgFz51ONapwXFOHY516nCsgY6J330zOI7mcCzN4Diaw7GErShgJQG/8KnDsU4NjnPqcKxTh2MNdEz87pvBcTSHY2kGx9EcjiVsRQErCfiFTx2OdWpwnFOHY506HGugY+J33wyOozkcSzM4juZwLGErClhJcPDgQSkoKJCDBw+muyvtHsc6NTjOqcOxTh2ONdAx8btvBsfRHI6lGRxHcziWsBUFLAAAAAAAAFiNAhYAAAAAAACsRgELAAAAAAAAVqOABQAAAAAAAKtRwAIAAAAAAIDVKGAZVFdXJ5MnT5Z+/fpJ165dZdiwYVJWVpbubrVZmzZtkhtuuEEGDx4s3bt3l5ycHLnuuuvk9ddfD3ntzp07ZeTIkdKjRw/p1auXjB49Wj7++OM09Lr9WLx4sTiOIz169Ah5juOduJdfflmuueYayc7OltNOO00GDhwohYWFQa/hOCdm165dcv3110u/fv2kW7duMnjwYJkxY4bU19cHvY7jDLQfieZiBw8elHHjxslZZ50l3bp1k7y8PHnxxRejvufYsWMyaNAgcRxHiouLE90FK6TiOB45ckRmzpwpI0aMkHPPPVd69OghQ4YMkdmzZ8vx48dN71JSJXK8vHznNm7cKHl5edKtWzc566yzZNy4ce3uLnHJPpbt6XsXTaq+k37t8e8g7EQBy6D8/HzJzs6WkpISqaiokAkTJojjOLJs2bJ0d61NGjNmjFx55ZUyf/58qaqqkvLycsnLy5OsrCzZtGlTy+vee+89OeOMM+R73/uerF27Vp555hm5+OKLJScnR2pra9O4B23XZ599Jr169ZKcnJyQAhbHO3HLli2TTp06yX/8x3/Ic889JxUVFbJ48WKZMWNGy2s4zol599135bTTTpNhw4bJU089JZs2bZKCggLJzMyU6667ruV1HGegfUkkFztx4oQMGTJE+vfvL6WlpbJhwwa5/vrrJSsrS6qqqiK+b+rUqZKTk9OuTtxScRzffvtt6dOnj9xxxx2yevVq2bRpk0yfPl1OO+00GTlypPh8vmTuolHxHi8v37mqqirJysqS66+/XjZs2CClpaVy3nnnyZAhQ+TEiRPJ3L2USvaxbE/fu2hS8Z0M1B7/DsJOFLAMWbt2rTiOI8uXLw9qz8/Pl5ycHGlqakpTz9qucP+jVFdXJ+eee66MHDmypW3s2LHSp08fOXLkSEvb3r17pXPnzvLb3/42JX1tb374wx/Kj370Ixk3blxIAYvjnZjPPvtMevToIb/85S+jvo7jnJi7775bHMeR3bt3B7XfdNNN4jiOfPnllyLCcQbak0RzsUceeUQcx5Ft27a1tDU2NspFF10kl156adj3vPrqq9KlSxcpLy9vNyduqTqOR48elaNHj4a8v7i4WBzHkZdffjnBPUmNRI6Xl+/c8OHD5aKLLpLGxsaWtq1bt4rjODJ//nxDe5NeqTiW7eV7F02qvpN+7fHvIOxFAcuQCRMmyOmnnx4UVEREli9fLo7jyNatW9PUs/bnyiuvlAsvvFBE1B/Ubt26yaRJk0Jed9VVV8mgQYNS3b0278knn5T/1979x1RV/3Ec/yhwAcFfNEhrGAYCCUr9YVGuX5SJqZXLMmZzjfLH5tSlLSvdcJD4gyzXDy3dohlMXdq0UlEmV9YWLp3GqIErBoWamA1DVzrN1/ePdu/Xy4Ebdn9w7t3zsZ0//Pjx3nNeOzu+z/ve+zkDBw5UW1ubpYFF3r5bsWKFjDFqbW3tcQ45+86V82+//eYx/uqrr6p///66ePEiOQNhxtda7NFHH1VGRoZlvLS0VMYYnTx50mP88uXLysrK0ssvv6yWlpawuXELdo5d1dbWdnvzbVe+5NXbrE6ePCljjFatWmWZm56ergkTJvh4FPYQjCx7EmrnnTfBzDFcr4OwLxpYfpKbm6tx48ZZxr///nsZY/TRRx/1wV6Fn/Pnz7vXqJGkpqYmGWP0wQcfWOa+8sor6tevX1j9nj3Q2tvbddNNN7nz7NrAIm/f5eXlKSEhQVVVVcrJyVFERIQSExM1d+5c97eAyNl3LS0tGjJkiKZPn67m5mZ1dnbqyy+/1ODBg7VgwQJJ5AyEG19rsWHDhumZZ56xjH/11Vcyxmj//v0e48uWLVNKSoouXrwYVjduwc6xq6KiIhljVF9ff2M73kd8yau3WVVVVckYoz179ljmTp8+XcOHD/fhCOwjGFn2JNTOO2+CmWO4XgdhXzSw/GTUqFGaOHGiZfz06dMyxqi0tLQP9ir8zJw5U5GRke6F3F1fne5uUULXJwWnT58O9m6GrKefflr33Xef+/f/XRtY5O27jIwMxcTEaODAgSotLZXT6dTatWsVGxur8ePH69q1a+TsJ42NjcrMzJQxxr0tXLjQfX6TMxBefK3FoqKiuv1G5jfffGP5Zsbx48cVFRWlqqoqSQqrG7dg5thVfX29YmNj3R9UhgJf8uptVpWVlTLGqK6uzjJ3zpw5cjgcPhyBfQQjy+6E4nnnTbByDOfrIOyLBpafjBo1Svn5+ZZx14Wiu6/84sYsX75cxhi999577jHXDei2bdss8103oL/++mswdzNk7dixQw6HQz/88IN7rKcGFnn/d64ntHS9Jqxfv17GGFVXV5OzH7S0tCgtLU3jx4/Xjh07VFtbq7Vr12rQoEEqLCyUxPkM2JnT6fRoPnvbjh8/Lsn3WiwqKkrz5s2zjLtu3FzN7itXruiuu+7S888/755j1xs3O+fYVUtLi5KTk5Wenq7ff//9Pxxt3/Alr95m5WpgHT582DJ3zpw5io6O9uEI7CMYWXYVquedN8HIMZSuuHrHbAAAChhJREFUgwgvNLD8hJ8QBpZrPZuVK1d6jPMTIP9wLY6/ZMkSdXR0uLeCggLFxcWpo6NDFy9eJG8/yM3NlTFGx44d8xg/ceKEjDFas2YNOfvBjBkzlJSUZFmo9eOPP5YxRocOHSJnwMZOnz6tzZs392pz3XQG66dvZWVlGjx4sH788Uf3/5f19fUyxqikpEQdHR22eXiPnXO8Xmtrq1JSUjRy5Ei1tbX9x6PtG/yE0H+C/RPCUD7vvAlGjqF0HUR4oYHlJ7Nnz+52sbytW7f2asFL9MzVvFqxYoXl71yLMHf3ScHEiRNZhLmXXJ+YeNuefPJJ8vYD11PwujawXM2UsrIycvaDjIwMPfTQQ5bxhoYGGWP0/vvvkzMQZnytxSZMmKDMzEzL+KpVq2SM0alTpyT98+3k3n6bKRQFK0cXVxPhtttu8/qAE7vyJa/eZuVaxH316tWWuRkZGWGziHswsnQJ9fPOm2DkGO7XQdgXDSw/2bt3b7c/RcnPz+/VI4fRveLiYhljtHz58h7nPPvss0pKSlJnZ6d77Oeff5bD4dDSpUuDsZsh76+//pLT6bRsEydOVExMjJxOpxoaGiSRt6/279/f7bcJ3377bRnz/8c3k7NvHn74YSUmJurChQse45s2bZIxRrt27ZJEzkA48bUW27Bhg+VnWleuXFFWVpbuuece91hjY6Pl/0vXjeG8efPkdDot155QEqwcpX+utykpKUpOTlZzc7P/DiKIfMnrRrK6++67lZ2d7fF6dXV1MsZo48aNfjqavhWsLMPhvPMmGDmG+3UQ9kUDy48mTJigoUOHatOmTaqpqdHs2bNljFFFRUVf71pIeuutt2SMUX5+vurq6iybS2Njo+Lj4/XAAw9o7969+vzzz5Wdna1bbrlFZ8+e7cMjCH1d18CSyNsfpk6dqujoaJWUlKi6ulqrVq1STEyMpkyZ4p5Dzr7ZvXu3+vXrp9zcXG3fvl0HDx7UypUrFR8fr9GjR+vy5cuSyBkIN72txQoLCxUREeHxzYtLly4pKytLycnJqqysVHV1taZNm6bIyEgdOnTI6/uG29ovwcixvb1dt99+u6Kjo1VRUWGp80LpJ129ycvXc87pdCoyMlLTpk1TdXW1KisrlZycrOzsbF26dCloxxpogc4ynM47b4JxTnYVbtdB2BMNLD+6cOGCFi5cqGHDhsnhcGjs2LE9LhiIf/fggw96/Vrq9Y4ePapHHnlEAwYM0KBBg/TUU0/pp59+6qM9Dx/dNbAk8vbVn3/+qaVLlyo5OVmRkZEaMWKEXn/9dUsBSs6+qamp0WOPPaZhw4YpNjZW6enpWrJkic6dO+cxj5yB8NHbWsz185eWlhaP8TNnzmjWrFlKSEhQTEyMcnNzVV1d/a/vG243bsHI8d8WmC8qKgrgEfpXb/Lyxzl34MAB5ebmKiYmRgkJCZo1a5ba29sDdVh9ItBZhtN5502wzsnrhdt1EPZEAwsAAAAAAAC2RgMLAAAAAAAAtkYDCwAAAAAAALZGAwsAAAAAAAC2RgMLAAAAAAAAtkYDCwAAAAAAALZGAwsAAAAAAAC2RgMLAAAAAAAAtkYDCwAAAAAAALZGAwtAwJWXl8sY0+PmdDr7bN9aWlpkjFFZWVmf7QMAALAXahcAsB8aWAACzlUElpeXq66uzrL98ccffbZvFIEAAKArahcAsB8aWAACzlUEHjlypK93xYIiEAAAdEXtAgD2QwMLQMD1tgg0xmj+/Pn68MMPNWrUKDkcDt1xxx3aunWrZW5DQ4OeeOIJDRkyRNHR0crJydEnn3ximdfR0aHFixdr5MiRcjgcSkxM1KRJk9TY2CjJswhct26dUlJSFBcXp9zcXNXV1Xm8VnNzs2bMmKHhw4fL4XAoKSlJeXl5On78uA/pAAAAu6F2AQD7oYEFIOBcReDhw4d15coVj+3q1avuecYYJScna/To0dq6dau++OIL5efnyxijzz77zD2vqalJAwcOVGpqqrZs2aI9e/aooKBAxhitWbPGPa+zs1NZWVmKi4tTcXGx9u/fr507d2rRokWqqamR9P8iMCUlRfn5+dq1a5d27dqlMWPGaOjQoTp//rz79TIyMpSWlqZPP/1UtbW12rlzp5YsWdKn62AAAAD/o3YBAPuhgQUg4LwthBoREeGeZ4xRbGyszpw54x67evWqMjMzlZaW5h577rnnFB0drV9++cXjfSZNmqQBAwa4C7fi4mIZY1RdXd3jvrmKwDFjxngUpN9++62MMe5PUM+dOydjjNavX+9bGAAAwPaoXQDAfmhgAQg4VxG4ZcsWHTlyxGM7evSoe54xRlOmTLH8+6KiIhlj1NbWJklKSkrS448/bpm3fft2GWO0b98+SdK9996r9PR0r/vmKgJfe+01j/FLly7JGKPVq1dLkq5du6bU1FTdeuutWrdunY4dO6a///77xoIAAAAhgdoFAOyHBhaAgLuRdSReeukly/jGjRtljNF3330nSYqIiNCLL75omff111/LGKOKigpJUlpamvLy8ry+p7eFUI0xKioqcv+5tbVVhYWFuvnmm2WMUUJCghYsWKDOzk6v7wEAAEILtQsA2A8NLAABdyNFoD8+xayqqpJ0Y59i9qYIvN6JEydUUlKiiIgIzZ071+t7AACA0ELtAgD2QwMLQMDdSBHY0zoSqamp7rGCggLFxMTo1KlTHv9+8uTJ3a4jcfDgwR7f878WgS533nmnxo0b53UOAAAILdQuAGA/NLAABJyrCCwvL1ddXZ1lO3v2rCTvT/LZtm2b+/VcT/JJT09XRUWF9u7dq5kzZ8oYo7Vr17rnuZ7kEx8frzfffFMHDhzQ7t27tXjxYsuTfP6tCKyvr9f999+vd999V/v27dPBgwe1bNky9e/fX2+88UYA0wMAAMFG7QIA9kMDC0DAeXuSjzFGmzdvlvRP0TV//nxt2LBBqampioqKUmZmpiorKy2v2dDQoKlTp2rw4MFyOBzKyclReXm5ZV5HR4cWLVqkESNGKCoqSklJSZo8ebKampok9b4IbG9v1wsvvKDMzEzFxcUpPj5eY8eO1TvvvOPxBCAAABD6qF0AwH5oYAGwDVcRCAAAEAqoXQAgeGhgAbANikAAABBKqF0AIHhoYAGwDYpAAAAQSqhdACB4aGABAAAAAADA1mhgAQAAAAAAwNZoYAEAAAAAAMDWaGABAAAAAADA1mhgAQAAAAAAwNZoYAEAAAAAAMDWaGABAAAAAADA1mhgAQAAAAAAwNZoYAEAAAAAAMDWaGABAAAAAADA1mhgAQAAAAAAwNZoYAEAAAAAAMDWaGABAAAAAADA1mhgAQAAAAAAwNZoYAEAAAAAAMDWaGABAAAAAADA1mhgAQAAAAAAwNZoYAEAAAAAAMDWaGABAAAAAADA1mhgAQAAAAAAwNZoYAEAAAAAAMDWaGABAAAAAADA1v4HnS2r3FWpAuAAAAAASUVORK5CYII=\" width=\"1000\">"
      ],
      "text/plain": [
       "<IPython.core.display.HTML object>"
      ]
     },
     "metadata": {},
     "output_type": "display_data"
    }
   ],
   "source": [
    "ax, tax, lax, lines = dual_train_plots()\n",
    "fig = ax.figure\n",
    "plt.tight_layout()"
   ]
  },
  {
   "cell_type": "code",
   "execution_count": 17,
   "metadata": {
    "scrolled": false
   },
   "outputs": [
    {
     "name": "stdout",
     "output_type": "stream",
     "text": [
      "Number of batches: train = 1125, val = 125\n"
     ]
    },
    {
     "data": {
      "application/vnd.jupyter.widget-view+json": {
       "model_id": "69bbf5cd40d94851a3b3458b294cc4fe",
       "version_major": 2,
       "version_minor": 0
      },
      "text/plain": [
       "HBox(children=(FloatProgress(value=0.0, description='Epochs', layout=Layout(flex='2'), style=ProgressStyle(des…"
      ]
     },
     "metadata": {},
     "output_type": "display_data"
    },
    {
     "name": "stdout",
     "output_type": "stream",
     "text": [
      "Number of batches: train = 1125, val = 125\n"
     ]
    },
    {
     "data": {
      "application/vnd.jupyter.widget-view+json": {
       "model_id": "",
       "version_major": 2,
       "version_minor": 0
      },
      "text/plain": [
       "HBox(children=(FloatProgress(value=0.0, description='Training', layout=Layout(flex='2'), max=1125.0, style=Pro…"
      ]
     },
     "metadata": {},
     "output_type": "display_data"
    },
    {
     "name": "stdout",
     "output_type": "stream",
     "text": [
      "Epoch 0: train=1.3077, val=1.15987, took 39.301 s\n"
     ]
    },
    {
     "data": {
      "application/vnd.jupyter.widget-view+json": {
       "model_id": "",
       "version_major": 2,
       "version_minor": 0
      },
      "text/plain": [
       "HBox(children=(FloatProgress(value=0.0, description='Training', layout=Layout(flex='2'), max=1125.0, style=Pro…"
      ]
     },
     "metadata": {},
     "output_type": "display_data"
    },
    {
     "name": "stdout",
     "output_type": "stream",
     "text": [
      "Epoch 1: train=1.30584, val=1.15723, took 38.82 s\n"
     ]
    },
    {
     "data": {
      "application/vnd.jupyter.widget-view+json": {
       "model_id": "",
       "version_major": 2,
       "version_minor": 0
      },
      "text/plain": [
       "HBox(children=(FloatProgress(value=0.0, description='Training', layout=Layout(flex='2'), max=1125.0, style=Pro…"
      ]
     },
     "metadata": {},
     "output_type": "display_data"
    },
    {
     "name": "stdout",
     "output_type": "stream",
     "text": [
      "Epoch 2: train=1.30694, val=1.16297, took 38.851 s\n"
     ]
    },
    {
     "data": {
      "application/vnd.jupyter.widget-view+json": {
       "model_id": "",
       "version_major": 2,
       "version_minor": 0
      },
      "text/plain": [
       "HBox(children=(FloatProgress(value=0.0, description='Training', layout=Layout(flex='2'), max=1125.0, style=Pro…"
      ]
     },
     "metadata": {},
     "output_type": "display_data"
    },
    {
     "name": "stdout",
     "output_type": "stream",
     "text": [
      "Epoch 3: train=1.30086, val=1.16853, took 38.918 s\n"
     ]
    },
    {
     "data": {
      "application/vnd.jupyter.widget-view+json": {
       "model_id": "",
       "version_major": 2,
       "version_minor": 0
      },
      "text/plain": [
       "HBox(children=(FloatProgress(value=0.0, description='Training', layout=Layout(flex='2'), max=1125.0, style=Pro…"
      ]
     },
     "metadata": {},
     "output_type": "display_data"
    },
    {
     "name": "stdout",
     "output_type": "stream",
     "text": [
      "Epoch 4: train=1.30399, val=1.16419, took 38.901 s\n"
     ]
    },
    {
     "data": {
      "application/vnd.jupyter.widget-view+json": {
       "model_id": "",
       "version_major": 2,
       "version_minor": 0
      },
      "text/plain": [
       "HBox(children=(FloatProgress(value=0.0, description='Training', layout=Layout(flex='2'), max=1125.0, style=Pro…"
      ]
     },
     "metadata": {},
     "output_type": "display_data"
    },
    {
     "name": "stdout",
     "output_type": "stream",
     "text": [
      "Epoch 5: train=1.30849, val=1.16104, took 39.114 s\n"
     ]
    },
    {
     "data": {
      "application/vnd.jupyter.widget-view+json": {
       "model_id": "",
       "version_major": 2,
       "version_minor": 0
      },
      "text/plain": [
       "HBox(children=(FloatProgress(value=0.0, description='Training', layout=Layout(flex='2'), max=1125.0, style=Pro…"
      ]
     },
     "metadata": {},
     "output_type": "display_data"
    },
    {
     "name": "stdout",
     "output_type": "stream",
     "text": [
      "Epoch 6: train=1.30929, val=1.16058, took 39.423 s\n"
     ]
    },
    {
     "data": {
      "application/vnd.jupyter.widget-view+json": {
       "model_id": "",
       "version_major": 2,
       "version_minor": 0
      },
      "text/plain": [
       "HBox(children=(FloatProgress(value=0.0, description='Training', layout=Layout(flex='2'), max=1125.0, style=Pro…"
      ]
     },
     "metadata": {},
     "output_type": "display_data"
    },
    {
     "name": "stdout",
     "output_type": "stream",
     "text": [
      "Epoch 7: train=1.30354, val=1.17278, took 38.975 s\n"
     ]
    },
    {
     "data": {
      "application/vnd.jupyter.widget-view+json": {
       "model_id": "",
       "version_major": 2,
       "version_minor": 0
      },
      "text/plain": [
       "HBox(children=(FloatProgress(value=0.0, description='Training', layout=Layout(flex='2'), max=1125.0, style=Pro…"
      ]
     },
     "metadata": {},
     "output_type": "display_data"
    },
    {
     "name": "stdout",
     "output_type": "stream",
     "text": [
      "Epoch 8: train=1.31209, val=1.15943, took 39.728 s\n"
     ]
    },
    {
     "data": {
      "application/vnd.jupyter.widget-view+json": {
       "model_id": "",
       "version_major": 2,
       "version_minor": 0
      },
      "text/plain": [
       "HBox(children=(FloatProgress(value=0.0, description='Training', layout=Layout(flex='2'), max=1125.0, style=Pro…"
      ]
     },
     "metadata": {},
     "output_type": "display_data"
    },
    {
     "name": "stdout",
     "output_type": "stream",
     "text": [
      "Epoch 9: train=1.30528, val=1.15617, took 39.406 s\n"
     ]
    },
    {
     "data": {
      "application/vnd.jupyter.widget-view+json": {
       "model_id": "",
       "version_major": 2,
       "version_minor": 0
      },
      "text/plain": [
       "HBox(children=(FloatProgress(value=0.0, description='Training', layout=Layout(flex='2'), max=1125.0, style=Pro…"
      ]
     },
     "metadata": {},
     "output_type": "display_data"
    },
    {
     "name": "stdout",
     "output_type": "stream",
     "text": [
      "Epoch 10: train=1.30732, val=1.16691, took 40.085 s\n"
     ]
    },
    {
     "data": {
      "application/vnd.jupyter.widget-view+json": {
       "model_id": "",
       "version_major": 2,
       "version_minor": 0
      },
      "text/plain": [
       "HBox(children=(FloatProgress(value=0.0, description='Training', layout=Layout(flex='2'), max=1125.0, style=Pro…"
      ]
     },
     "metadata": {},
     "output_type": "display_data"
    },
    {
     "name": "stdout",
     "output_type": "stream",
     "text": [
      "Epoch 11: train=1.30704, val=1.15689, took 39.483 s\n"
     ]
    },
    {
     "data": {
      "application/vnd.jupyter.widget-view+json": {
       "model_id": "",
       "version_major": 2,
       "version_minor": 0
      },
      "text/plain": [
       "HBox(children=(FloatProgress(value=0.0, description='Training', layout=Layout(flex='2'), max=1125.0, style=Pro…"
      ]
     },
     "metadata": {},
     "output_type": "display_data"
    },
    {
     "name": "stdout",
     "output_type": "stream",
     "text": [
      "Epoch 12: train=1.30343, val=1.15657, took 39.709 s\n"
     ]
    },
    {
     "data": {
      "application/vnd.jupyter.widget-view+json": {
       "model_id": "",
       "version_major": 2,
       "version_minor": 0
      },
      "text/plain": [
       "HBox(children=(FloatProgress(value=0.0, description='Training', layout=Layout(flex='2'), max=1125.0, style=Pro…"
      ]
     },
     "metadata": {},
     "output_type": "display_data"
    },
    {
     "name": "stdout",
     "output_type": "stream",
     "text": [
      "Epoch 13: train=1.30784, val=1.15527, took 39.565 s\n"
     ]
    },
    {
     "data": {
      "application/vnd.jupyter.widget-view+json": {
       "model_id": "",
       "version_major": 2,
       "version_minor": 0
      },
      "text/plain": [
       "HBox(children=(FloatProgress(value=0.0, description='Training', layout=Layout(flex='2'), max=1125.0, style=Pro…"
      ]
     },
     "metadata": {},
     "output_type": "display_data"
    },
    {
     "name": "stdout",
     "output_type": "stream",
     "text": [
      "Epoch 14: train=1.3036, val=1.16615, took 39.741 s\n"
     ]
    },
    {
     "data": {
      "application/vnd.jupyter.widget-view+json": {
       "model_id": "",
       "version_major": 2,
       "version_minor": 0
      },
      "text/plain": [
       "HBox(children=(FloatProgress(value=0.0, description='Training', layout=Layout(flex='2'), max=1125.0, style=Pro…"
      ]
     },
     "metadata": {},
     "output_type": "display_data"
    },
    {
     "name": "stdout",
     "output_type": "stream",
     "text": [
      "Epoch 15: train=1.30839, val=1.19465, took 39.439 s\n"
     ]
    },
    {
     "data": {
      "application/vnd.jupyter.widget-view+json": {
       "model_id": "",
       "version_major": 2,
       "version_minor": 0
      },
      "text/plain": [
       "HBox(children=(FloatProgress(value=0.0, description='Training', layout=Layout(flex='2'), max=1125.0, style=Pro…"
      ]
     },
     "metadata": {},
     "output_type": "display_data"
    },
    {
     "name": "stdout",
     "output_type": "stream",
     "text": [
      "Epoch 16: train=1.30794, val=1.16369, took 39.889 s\n"
     ]
    },
    {
     "data": {
      "application/vnd.jupyter.widget-view+json": {
       "model_id": "",
       "version_major": 2,
       "version_minor": 0
      },
      "text/plain": [
       "HBox(children=(FloatProgress(value=0.0, description='Training', layout=Layout(flex='2'), max=1125.0, style=Pro…"
      ]
     },
     "metadata": {},
     "output_type": "display_data"
    },
    {
     "name": "stdout",
     "output_type": "stream",
     "text": [
      "Epoch 17: train=1.30245, val=1.15639, took 40.797 s\n"
     ]
    },
    {
     "data": {
      "application/vnd.jupyter.widget-view+json": {
       "model_id": "",
       "version_major": 2,
       "version_minor": 0
      },
      "text/plain": [
       "HBox(children=(FloatProgress(value=0.0, description='Training', layout=Layout(flex='2'), max=1125.0, style=Pro…"
      ]
     },
     "metadata": {},
     "output_type": "display_data"
    },
    {
     "name": "stdout",
     "output_type": "stream",
     "text": [
      "Epoch 18: train=1.30687, val=1.16749, took 39.453 s\n"
     ]
    },
    {
     "data": {
      "application/vnd.jupyter.widget-view+json": {
       "model_id": "",
       "version_major": 2,
       "version_minor": 0
      },
      "text/plain": [
       "HBox(children=(FloatProgress(value=0.0, description='Training', layout=Layout(flex='2'), max=1125.0, style=Pro…"
      ]
     },
     "metadata": {},
     "output_type": "display_data"
    },
    {
     "name": "stdout",
     "output_type": "stream",
     "text": [
      "Epoch 19: train=1.30865, val=1.15905, took 39.51 s\n"
     ]
    },
    {
     "data": {
      "application/vnd.jupyter.widget-view+json": {
       "model_id": "",
       "version_major": 2,
       "version_minor": 0
      },
      "text/plain": [
       "HBox(children=(FloatProgress(value=0.0, description='Training', layout=Layout(flex='2'), max=1125.0, style=Pro…"
      ]
     },
     "metadata": {},
     "output_type": "display_data"
    },
    {
     "name": "stdout",
     "output_type": "stream",
     "text": [
      "Epoch 20: train=1.30907, val=1.16807, took 39.717 s\n"
     ]
    },
    {
     "data": {
      "application/vnd.jupyter.widget-view+json": {
       "model_id": "",
       "version_major": 2,
       "version_minor": 0
      },
      "text/plain": [
       "HBox(children=(FloatProgress(value=0.0, description='Training', layout=Layout(flex='2'), max=1125.0, style=Pro…"
      ]
     },
     "metadata": {},
     "output_type": "display_data"
    },
    {
     "name": "stdout",
     "output_type": "stream",
     "text": [
      "Epoch 21: train=1.30197, val=1.17032, took 39.564 s\n"
     ]
    },
    {
     "data": {
      "application/vnd.jupyter.widget-view+json": {
       "model_id": "",
       "version_major": 2,
       "version_minor": 0
      },
      "text/plain": [
       "HBox(children=(FloatProgress(value=0.0, description='Training', layout=Layout(flex='2'), max=1125.0, style=Pro…"
      ]
     },
     "metadata": {},
     "output_type": "display_data"
    },
    {
     "name": "stdout",
     "output_type": "stream",
     "text": [
      "Epoch 22: train=1.30224, val=1.16505, took 39.07 s\n"
     ]
    },
    {
     "data": {
      "application/vnd.jupyter.widget-view+json": {
       "model_id": "",
       "version_major": 2,
       "version_minor": 0
      },
      "text/plain": [
       "HBox(children=(FloatProgress(value=0.0, description='Training', layout=Layout(flex='2'), max=1125.0, style=Pro…"
      ]
     },
     "metadata": {},
     "output_type": "display_data"
    },
    {
     "name": "stdout",
     "output_type": "stream",
     "text": [
      "Epoch 23: train=1.29913, val=1.16416, took 39.368 s\n"
     ]
    },
    {
     "data": {
      "application/vnd.jupyter.widget-view+json": {
       "model_id": "",
       "version_major": 2,
       "version_minor": 0
      },
      "text/plain": [
       "HBox(children=(FloatProgress(value=0.0, description='Training', layout=Layout(flex='2'), max=1125.0, style=Pro…"
      ]
     },
     "metadata": {},
     "output_type": "display_data"
    },
    {
     "name": "stdout",
     "output_type": "stream",
     "text": [
      "Epoch 24: train=1.30375, val=1.1759, took 39.81 s\n"
     ]
    },
    {
     "data": {
      "application/vnd.jupyter.widget-view+json": {
       "model_id": "",
       "version_major": 2,
       "version_minor": 0
      },
      "text/plain": [
       "HBox(children=(FloatProgress(value=0.0, description='Training', layout=Layout(flex='2'), max=1125.0, style=Pro…"
      ]
     },
     "metadata": {},
     "output_type": "display_data"
    },
    {
     "name": "stdout",
     "output_type": "stream",
     "text": [
      "Epoch 25: train=1.30553, val=1.15653, took 39.856 s\n"
     ]
    },
    {
     "data": {
      "application/vnd.jupyter.widget-view+json": {
       "model_id": "",
       "version_major": 2,
       "version_minor": 0
      },
      "text/plain": [
       "HBox(children=(FloatProgress(value=0.0, description='Training', layout=Layout(flex='2'), max=1125.0, style=Pro…"
      ]
     },
     "metadata": {},
     "output_type": "display_data"
    },
    {
     "name": "stdout",
     "output_type": "stream",
     "text": [
      "Epoch 26: train=1.30616, val=1.16174, took 39.836 s\n"
     ]
    },
    {
     "data": {
      "application/vnd.jupyter.widget-view+json": {
       "model_id": "",
       "version_major": 2,
       "version_minor": 0
      },
      "text/plain": [
       "HBox(children=(FloatProgress(value=0.0, description='Training', layout=Layout(flex='2'), max=1125.0, style=Pro…"
      ]
     },
     "metadata": {},
     "output_type": "display_data"
    },
    {
     "name": "stdout",
     "output_type": "stream",
     "text": [
      "Epoch 27: train=1.30833, val=1.16322, took 39.229 s\n"
     ]
    },
    {
     "data": {
      "application/vnd.jupyter.widget-view+json": {
       "model_id": "",
       "version_major": 2,
       "version_minor": 0
      },
      "text/plain": [
       "HBox(children=(FloatProgress(value=0.0, description='Training', layout=Layout(flex='2'), max=1125.0, style=Pro…"
      ]
     },
     "metadata": {},
     "output_type": "display_data"
    },
    {
     "name": "stdout",
     "output_type": "stream",
     "text": [
      "Epoch 28: train=1.3049, val=1.15492, took 39.444 s\n"
     ]
    },
    {
     "data": {
      "application/vnd.jupyter.widget-view+json": {
       "model_id": "",
       "version_major": 2,
       "version_minor": 0
      },
      "text/plain": [
       "HBox(children=(FloatProgress(value=0.0, description='Training', layout=Layout(flex='2'), max=1125.0, style=Pro…"
      ]
     },
     "metadata": {},
     "output_type": "display_data"
    },
    {
     "name": "stdout",
     "output_type": "stream",
     "text": [
      "Epoch 29: train=1.30276, val=1.15671, took 38.735 s\n"
     ]
    },
    {
     "data": {
      "application/vnd.jupyter.widget-view+json": {
       "model_id": "",
       "version_major": 2,
       "version_minor": 0
      },
      "text/plain": [
       "HBox(children=(FloatProgress(value=0.0, description='Training', layout=Layout(flex='2'), max=1125.0, style=Pro…"
      ]
     },
     "metadata": {},
     "output_type": "display_data"
    },
    {
     "name": "stdout",
     "output_type": "stream",
     "text": [
      "Epoch 30: train=1.30578, val=1.16278, took 38.805 s\n"
     ]
    },
    {
     "data": {
      "application/vnd.jupyter.widget-view+json": {
       "model_id": "",
       "version_major": 2,
       "version_minor": 0
      },
      "text/plain": [
       "HBox(children=(FloatProgress(value=0.0, description='Training', layout=Layout(flex='2'), max=1125.0, style=Pro…"
      ]
     },
     "metadata": {},
     "output_type": "display_data"
    },
    {
     "name": "stdout",
     "output_type": "stream",
     "text": [
      "Epoch 31: train=1.30625, val=1.1729, took 39.086 s\n"
     ]
    },
    {
     "data": {
      "application/vnd.jupyter.widget-view+json": {
       "model_id": "",
       "version_major": 2,
       "version_minor": 0
      },
      "text/plain": [
       "HBox(children=(FloatProgress(value=0.0, description='Training', layout=Layout(flex='2'), max=1125.0, style=Pro…"
      ]
     },
     "metadata": {},
     "output_type": "display_data"
    },
    {
     "name": "stdout",
     "output_type": "stream",
     "text": [
      "Epoch 32: train=1.29944, val=1.15624, took 38.793 s\n"
     ]
    },
    {
     "data": {
      "application/vnd.jupyter.widget-view+json": {
       "model_id": "",
       "version_major": 2,
       "version_minor": 0
      },
      "text/plain": [
       "HBox(children=(FloatProgress(value=0.0, description='Training', layout=Layout(flex='2'), max=1125.0, style=Pro…"
      ]
     },
     "metadata": {},
     "output_type": "display_data"
    },
    {
     "name": "stdout",
     "output_type": "stream",
     "text": [
      "Epoch 33: train=1.3066, val=1.15311, took 38.846 s\n"
     ]
    },
    {
     "data": {
      "application/vnd.jupyter.widget-view+json": {
       "model_id": "",
       "version_major": 2,
       "version_minor": 0
      },
      "text/plain": [
       "HBox(children=(FloatProgress(value=0.0, description='Training', layout=Layout(flex='2'), max=1125.0, style=Pro…"
      ]
     },
     "metadata": {},
     "output_type": "display_data"
    },
    {
     "name": "stdout",
     "output_type": "stream",
     "text": [
      "Epoch 34: train=1.30413, val=1.15675, took 39.03 s\n"
     ]
    },
    {
     "data": {
      "application/vnd.jupyter.widget-view+json": {
       "model_id": "",
       "version_major": 2,
       "version_minor": 0
      },
      "text/plain": [
       "HBox(children=(FloatProgress(value=0.0, description='Training', layout=Layout(flex='2'), max=1125.0, style=Pro…"
      ]
     },
     "metadata": {},
     "output_type": "display_data"
    },
    {
     "name": "stdout",
     "output_type": "stream",
     "text": [
      "Epoch 35: train=1.30394, val=1.15463, took 39.08 s\n"
     ]
    },
    {
     "data": {
      "application/vnd.jupyter.widget-view+json": {
       "model_id": "",
       "version_major": 2,
       "version_minor": 0
      },
      "text/plain": [
       "HBox(children=(FloatProgress(value=0.0, description='Training', layout=Layout(flex='2'), max=1125.0, style=Pro…"
      ]
     },
     "metadata": {},
     "output_type": "display_data"
    },
    {
     "name": "stdout",
     "output_type": "stream",
     "text": [
      "Epoch 36: train=1.30678, val=1.18432, took 39.343 s\n"
     ]
    },
    {
     "data": {
      "application/vnd.jupyter.widget-view+json": {
       "model_id": "",
       "version_major": 2,
       "version_minor": 0
      },
      "text/plain": [
       "HBox(children=(FloatProgress(value=0.0, description='Training', layout=Layout(flex='2'), max=1125.0, style=Pro…"
      ]
     },
     "metadata": {},
     "output_type": "display_data"
    },
    {
     "name": "stdout",
     "output_type": "stream",
     "text": [
      "Epoch 37: train=1.30127, val=1.15959, took 39.448 s\n"
     ]
    },
    {
     "data": {
      "application/vnd.jupyter.widget-view+json": {
       "model_id": "",
       "version_major": 2,
       "version_minor": 0
      },
      "text/plain": [
       "HBox(children=(FloatProgress(value=0.0, description='Training', layout=Layout(flex='2'), max=1125.0, style=Pro…"
      ]
     },
     "metadata": {},
     "output_type": "display_data"
    },
    {
     "name": "stdout",
     "output_type": "stream",
     "text": [
      "Epoch 38: train=1.30681, val=1.16005, took 39.218 s\n"
     ]
    },
    {
     "data": {
      "application/vnd.jupyter.widget-view+json": {
       "model_id": "",
       "version_major": 2,
       "version_minor": 0
      },
      "text/plain": [
       "HBox(children=(FloatProgress(value=0.0, description='Training', layout=Layout(flex='2'), max=1125.0, style=Pro…"
      ]
     },
     "metadata": {},
     "output_type": "display_data"
    },
    {
     "name": "stdout",
     "output_type": "stream",
     "text": [
      "Epoch 39: train=1.30109, val=1.16126, took 39.241 s\n"
     ]
    },
    {
     "data": {
      "application/vnd.jupyter.widget-view+json": {
       "model_id": "",
       "version_major": 2,
       "version_minor": 0
      },
      "text/plain": [
       "HBox(children=(FloatProgress(value=0.0, description='Training', layout=Layout(flex='2'), max=1125.0, style=Pro…"
      ]
     },
     "metadata": {},
     "output_type": "display_data"
    },
    {
     "name": "stdout",
     "output_type": "stream",
     "text": [
      "Epoch 40: train=1.29895, val=1.16662, took 39.46 s\n"
     ]
    },
    {
     "data": {
      "application/vnd.jupyter.widget-view+json": {
       "model_id": "",
       "version_major": 2,
       "version_minor": 0
      },
      "text/plain": [
       "HBox(children=(FloatProgress(value=0.0, description='Training', layout=Layout(flex='2'), max=1125.0, style=Pro…"
      ]
     },
     "metadata": {},
     "output_type": "display_data"
    },
    {
     "name": "stdout",
     "output_type": "stream",
     "text": [
      "Epoch 41: train=1.30006, val=1.18913, took 39.128 s\n"
     ]
    },
    {
     "data": {
      "application/vnd.jupyter.widget-view+json": {
       "model_id": "",
       "version_major": 2,
       "version_minor": 0
      },
      "text/plain": [
       "HBox(children=(FloatProgress(value=0.0, description='Training', layout=Layout(flex='2'), max=1125.0, style=Pro…"
      ]
     },
     "metadata": {},
     "output_type": "display_data"
    },
    {
     "name": "stdout",
     "output_type": "stream",
     "text": [
      "Epoch 42: train=1.30093, val=1.16542, took 38.915 s\n"
     ]
    },
    {
     "data": {
      "application/vnd.jupyter.widget-view+json": {
       "model_id": "",
       "version_major": 2,
       "version_minor": 0
      },
      "text/plain": [
       "HBox(children=(FloatProgress(value=0.0, description='Training', layout=Layout(flex='2'), max=1125.0, style=Pro…"
      ]
     },
     "metadata": {},
     "output_type": "display_data"
    },
    {
     "name": "stdout",
     "output_type": "stream",
     "text": [
      "Epoch 43: train=1.29865, val=1.15437, took 39.069 s\n"
     ]
    },
    {
     "data": {
      "application/vnd.jupyter.widget-view+json": {
       "model_id": "",
       "version_major": 2,
       "version_minor": 0
      },
      "text/plain": [
       "HBox(children=(FloatProgress(value=0.0, description='Training', layout=Layout(flex='2'), max=1125.0, style=Pro…"
      ]
     },
     "metadata": {},
     "output_type": "display_data"
    },
    {
     "name": "stdout",
     "output_type": "stream",
     "text": [
      "Epoch 44: train=1.30546, val=1.15244, took 38.846 s\n"
     ]
    },
    {
     "data": {
      "application/vnd.jupyter.widget-view+json": {
       "model_id": "",
       "version_major": 2,
       "version_minor": 0
      },
      "text/plain": [
       "HBox(children=(FloatProgress(value=0.0, description='Training', layout=Layout(flex='2'), max=1125.0, style=Pro…"
      ]
     },
     "metadata": {},
     "output_type": "display_data"
    },
    {
     "name": "stdout",
     "output_type": "stream",
     "text": [
      "Epoch 45: train=1.30184, val=1.1532, took 39.199 s\n"
     ]
    },
    {
     "data": {
      "application/vnd.jupyter.widget-view+json": {
       "model_id": "",
       "version_major": 2,
       "version_minor": 0
      },
      "text/plain": [
       "HBox(children=(FloatProgress(value=0.0, description='Training', layout=Layout(flex='2'), max=1125.0, style=Pro…"
      ]
     },
     "metadata": {},
     "output_type": "display_data"
    },
    {
     "name": "stdout",
     "output_type": "stream",
     "text": [
      "Epoch 46: train=1.30292, val=1.15984, took 39.406 s\n"
     ]
    },
    {
     "data": {
      "application/vnd.jupyter.widget-view+json": {
       "model_id": "",
       "version_major": 2,
       "version_minor": 0
      },
      "text/plain": [
       "HBox(children=(FloatProgress(value=0.0, description='Training', layout=Layout(flex='2'), max=1125.0, style=Pro…"
      ]
     },
     "metadata": {},
     "output_type": "display_data"
    },
    {
     "name": "stdout",
     "output_type": "stream",
     "text": [
      "Epoch 47: train=1.29886, val=1.15911, took 41.252 s\n"
     ]
    },
    {
     "data": {
      "application/vnd.jupyter.widget-view+json": {
       "model_id": "",
       "version_major": 2,
       "version_minor": 0
      },
      "text/plain": [
       "HBox(children=(FloatProgress(value=0.0, description='Training', layout=Layout(flex='2'), max=1125.0, style=Pro…"
      ]
     },
     "metadata": {},
     "output_type": "display_data"
    },
    {
     "name": "stdout",
     "output_type": "stream",
     "text": [
      "Epoch 48: train=1.30513, val=1.16497, took 41.78 s\n"
     ]
    },
    {
     "data": {
      "application/vnd.jupyter.widget-view+json": {
       "model_id": "",
       "version_major": 2,
       "version_minor": 0
      },
      "text/plain": [
       "HBox(children=(FloatProgress(value=0.0, description='Training', layout=Layout(flex='2'), max=1125.0, style=Pro…"
      ]
     },
     "metadata": {},
     "output_type": "display_data"
    },
    {
     "name": "stdout",
     "output_type": "stream",
     "text": [
      "Epoch 49: train=1.3035, val=1.15722, took 41.051 s\n"
     ]
    },
    {
     "data": {
      "application/vnd.jupyter.widget-view+json": {
       "model_id": "",
       "version_major": 2,
       "version_minor": 0
      },
      "text/plain": [
       "HBox(children=(FloatProgress(value=0.0, description='Training', layout=Layout(flex='2'), max=1125.0, style=Pro…"
      ]
     },
     "metadata": {},
     "output_type": "display_data"
    },
    {
     "name": "stdout",
     "output_type": "stream",
     "text": [
      "Epoch 50: train=1.30356, val=1.15291, took 42.086 s\n"
     ]
    },
    {
     "data": {
      "application/vnd.jupyter.widget-view+json": {
       "model_id": "",
       "version_major": 2,
       "version_minor": 0
      },
      "text/plain": [
       "HBox(children=(FloatProgress(value=0.0, description='Training', layout=Layout(flex='2'), max=1125.0, style=Pro…"
      ]
     },
     "metadata": {},
     "output_type": "display_data"
    },
    {
     "name": "stdout",
     "output_type": "stream",
     "text": [
      "Epoch 51: train=1.30366, val=1.16346, took 39.156 s\n"
     ]
    },
    {
     "data": {
      "application/vnd.jupyter.widget-view+json": {
       "model_id": "",
       "version_major": 2,
       "version_minor": 0
      },
      "text/plain": [
       "HBox(children=(FloatProgress(value=0.0, description='Training', layout=Layout(flex='2'), max=1125.0, style=Pro…"
      ]
     },
     "metadata": {},
     "output_type": "display_data"
    },
    {
     "name": "stdout",
     "output_type": "stream",
     "text": [
      "Epoch 52: train=1.29994, val=1.15184, took 39.109 s\n"
     ]
    },
    {
     "data": {
      "application/vnd.jupyter.widget-view+json": {
       "model_id": "",
       "version_major": 2,
       "version_minor": 0
      },
      "text/plain": [
       "HBox(children=(FloatProgress(value=0.0, description='Training', layout=Layout(flex='2'), max=1125.0, style=Pro…"
      ]
     },
     "metadata": {},
     "output_type": "display_data"
    },
    {
     "name": "stdout",
     "output_type": "stream",
     "text": [
      "Epoch 53: train=1.30034, val=1.15496, took 39.256 s\n"
     ]
    },
    {
     "data": {
      "application/vnd.jupyter.widget-view+json": {
       "model_id": "",
       "version_major": 2,
       "version_minor": 0
      },
      "text/plain": [
       "HBox(children=(FloatProgress(value=0.0, description='Training', layout=Layout(flex='2'), max=1125.0, style=Pro…"
      ]
     },
     "metadata": {},
     "output_type": "display_data"
    },
    {
     "name": "stdout",
     "output_type": "stream",
     "text": [
      "Epoch 54: train=1.29874, val=1.1541, took 39.181 s\n"
     ]
    },
    {
     "data": {
      "application/vnd.jupyter.widget-view+json": {
       "model_id": "",
       "version_major": 2,
       "version_minor": 0
      },
      "text/plain": [
       "HBox(children=(FloatProgress(value=0.0, description='Training', layout=Layout(flex='2'), max=1125.0, style=Pro…"
      ]
     },
     "metadata": {},
     "output_type": "display_data"
    },
    {
     "name": "stdout",
     "output_type": "stream",
     "text": [
      "Epoch 55: train=1.30055, val=1.15829, took 40.158 s\n"
     ]
    },
    {
     "data": {
      "application/vnd.jupyter.widget-view+json": {
       "model_id": "",
       "version_major": 2,
       "version_minor": 0
      },
      "text/plain": [
       "HBox(children=(FloatProgress(value=0.0, description='Training', layout=Layout(flex='2'), max=1125.0, style=Pro…"
      ]
     },
     "metadata": {},
     "output_type": "display_data"
    },
    {
     "name": "stdout",
     "output_type": "stream",
     "text": [
      "Epoch 56: train=1.29906, val=1.15148, took 39.559 s\n"
     ]
    },
    {
     "data": {
      "application/vnd.jupyter.widget-view+json": {
       "model_id": "",
       "version_major": 2,
       "version_minor": 0
      },
      "text/plain": [
       "HBox(children=(FloatProgress(value=0.0, description='Training', layout=Layout(flex='2'), max=1125.0, style=Pro…"
      ]
     },
     "metadata": {},
     "output_type": "display_data"
    },
    {
     "name": "stdout",
     "output_type": "stream",
     "text": [
      "Epoch 57: train=1.30009, val=1.15303, took 39.22 s\n"
     ]
    },
    {
     "data": {
      "application/vnd.jupyter.widget-view+json": {
       "model_id": "",
       "version_major": 2,
       "version_minor": 0
      },
      "text/plain": [
       "HBox(children=(FloatProgress(value=0.0, description='Training', layout=Layout(flex='2'), max=1125.0, style=Pro…"
      ]
     },
     "metadata": {},
     "output_type": "display_data"
    },
    {
     "name": "stdout",
     "output_type": "stream",
     "text": [
      "Epoch 58: train=1.30236, val=1.15123, took 39.772 s\n"
     ]
    },
    {
     "data": {
      "application/vnd.jupyter.widget-view+json": {
       "model_id": "",
       "version_major": 2,
       "version_minor": 0
      },
      "text/plain": [
       "HBox(children=(FloatProgress(value=0.0, description='Training', layout=Layout(flex='2'), max=1125.0, style=Pro…"
      ]
     },
     "metadata": {},
     "output_type": "display_data"
    },
    {
     "name": "stdout",
     "output_type": "stream",
     "text": [
      "Epoch 59: train=1.30329, val=1.15004, took 38.8 s\n"
     ]
    },
    {
     "data": {
      "application/vnd.jupyter.widget-view+json": {
       "model_id": "",
       "version_major": 2,
       "version_minor": 0
      },
      "text/plain": [
       "HBox(children=(FloatProgress(value=0.0, description='Training', layout=Layout(flex='2'), max=1125.0, style=Pro…"
      ]
     },
     "metadata": {},
     "output_type": "display_data"
    },
    {
     "name": "stdout",
     "output_type": "stream",
     "text": [
      "Epoch 60: train=1.30173, val=1.1538, took 38.741 s\n"
     ]
    },
    {
     "data": {
      "application/vnd.jupyter.widget-view+json": {
       "model_id": "",
       "version_major": 2,
       "version_minor": 0
      },
      "text/plain": [
       "HBox(children=(FloatProgress(value=0.0, description='Training', layout=Layout(flex='2'), max=1125.0, style=Pro…"
      ]
     },
     "metadata": {},
     "output_type": "display_data"
    },
    {
     "name": "stdout",
     "output_type": "stream",
     "text": [
      "Epoch 61: train=1.30083, val=1.17083, took 40.396 s\n"
     ]
    },
    {
     "data": {
      "application/vnd.jupyter.widget-view+json": {
       "model_id": "",
       "version_major": 2,
       "version_minor": 0
      },
      "text/plain": [
       "HBox(children=(FloatProgress(value=0.0, description='Training', layout=Layout(flex='2'), max=1125.0, style=Pro…"
      ]
     },
     "metadata": {},
     "output_type": "display_data"
    },
    {
     "name": "stdout",
     "output_type": "stream",
     "text": [
      "Epoch 62: train=1.30036, val=1.15125, took 40.124 s\n"
     ]
    },
    {
     "data": {
      "application/vnd.jupyter.widget-view+json": {
       "model_id": "",
       "version_major": 2,
       "version_minor": 0
      },
      "text/plain": [
       "HBox(children=(FloatProgress(value=0.0, description='Training', layout=Layout(flex='2'), max=1125.0, style=Pro…"
      ]
     },
     "metadata": {},
     "output_type": "display_data"
    },
    {
     "name": "stdout",
     "output_type": "stream",
     "text": [
      "Epoch 63: train=1.30298, val=1.15297, took 39.392 s\n"
     ]
    },
    {
     "data": {
      "application/vnd.jupyter.widget-view+json": {
       "model_id": "",
       "version_major": 2,
       "version_minor": 0
      },
      "text/plain": [
       "HBox(children=(FloatProgress(value=0.0, description='Training', layout=Layout(flex='2'), max=1125.0, style=Pro…"
      ]
     },
     "metadata": {},
     "output_type": "display_data"
    },
    {
     "name": "stdout",
     "output_type": "stream",
     "text": [
      "Epoch 64: train=1.29925, val=1.15652, took 38.808 s\n"
     ]
    },
    {
     "data": {
      "application/vnd.jupyter.widget-view+json": {
       "model_id": "",
       "version_major": 2,
       "version_minor": 0
      },
      "text/plain": [
       "HBox(children=(FloatProgress(value=0.0, description='Training', layout=Layout(flex='2'), max=1125.0, style=Pro…"
      ]
     },
     "metadata": {},
     "output_type": "display_data"
    },
    {
     "name": "stdout",
     "output_type": "stream",
     "text": [
      "Epoch 65: train=1.3, val=1.15094, took 38.918 s\n"
     ]
    },
    {
     "data": {
      "application/vnd.jupyter.widget-view+json": {
       "model_id": "",
       "version_major": 2,
       "version_minor": 0
      },
      "text/plain": [
       "HBox(children=(FloatProgress(value=0.0, description='Training', layout=Layout(flex='2'), max=1125.0, style=Pro…"
      ]
     },
     "metadata": {},
     "output_type": "display_data"
    },
    {
     "name": "stdout",
     "output_type": "stream",
     "text": [
      "Epoch 66: train=1.29523, val=1.16229, took 38.955 s\n"
     ]
    },
    {
     "data": {
      "application/vnd.jupyter.widget-view+json": {
       "model_id": "",
       "version_major": 2,
       "version_minor": 0
      },
      "text/plain": [
       "HBox(children=(FloatProgress(value=0.0, description='Training', layout=Layout(flex='2'), max=1125.0, style=Pro…"
      ]
     },
     "metadata": {},
     "output_type": "display_data"
    },
    {
     "name": "stdout",
     "output_type": "stream",
     "text": [
      "Epoch 67: train=1.30151, val=1.15224, took 39.122 s\n"
     ]
    },
    {
     "data": {
      "application/vnd.jupyter.widget-view+json": {
       "model_id": "",
       "version_major": 2,
       "version_minor": 0
      },
      "text/plain": [
       "HBox(children=(FloatProgress(value=0.0, description='Training', layout=Layout(flex='2'), max=1125.0, style=Pro…"
      ]
     },
     "metadata": {},
     "output_type": "display_data"
    },
    {
     "name": "stdout",
     "output_type": "stream",
     "text": [
      "Epoch 68: train=1.29849, val=1.15481, took 38.929 s\n"
     ]
    },
    {
     "data": {
      "application/vnd.jupyter.widget-view+json": {
       "model_id": "",
       "version_major": 2,
       "version_minor": 0
      },
      "text/plain": [
       "HBox(children=(FloatProgress(value=0.0, description='Training', layout=Layout(flex='2'), max=1125.0, style=Pro…"
      ]
     },
     "metadata": {},
     "output_type": "display_data"
    },
    {
     "name": "stdout",
     "output_type": "stream",
     "text": [
      "Epoch 69: train=1.30037, val=1.16298, took 38.693 s\n"
     ]
    },
    {
     "data": {
      "application/vnd.jupyter.widget-view+json": {
       "model_id": "",
       "version_major": 2,
       "version_minor": 0
      },
      "text/plain": [
       "HBox(children=(FloatProgress(value=0.0, description='Training', layout=Layout(flex='2'), max=1125.0, style=Pro…"
      ]
     },
     "metadata": {},
     "output_type": "display_data"
    },
    {
     "name": "stdout",
     "output_type": "stream",
     "text": [
      "Epoch 70: train=1.30144, val=1.16635, took 38.841 s\n"
     ]
    },
    {
     "data": {
      "application/vnd.jupyter.widget-view+json": {
       "model_id": "",
       "version_major": 2,
       "version_minor": 0
      },
      "text/plain": [
       "HBox(children=(FloatProgress(value=0.0, description='Training', layout=Layout(flex='2'), max=1125.0, style=Pro…"
      ]
     },
     "metadata": {},
     "output_type": "display_data"
    },
    {
     "name": "stdout",
     "output_type": "stream",
     "text": [
      "Epoch 71: train=1.29703, val=1.15142, took 39.009 s\n"
     ]
    },
    {
     "data": {
      "application/vnd.jupyter.widget-view+json": {
       "model_id": "",
       "version_major": 2,
       "version_minor": 0
      },
      "text/plain": [
       "HBox(children=(FloatProgress(value=0.0, description='Training', layout=Layout(flex='2'), max=1125.0, style=Pro…"
      ]
     },
     "metadata": {},
     "output_type": "display_data"
    },
    {
     "name": "stdout",
     "output_type": "stream",
     "text": [
      "Epoch 72: train=1.29402, val=1.17364, took 39.137 s\n"
     ]
    },
    {
     "data": {
      "application/vnd.jupyter.widget-view+json": {
       "model_id": "",
       "version_major": 2,
       "version_minor": 0
      },
      "text/plain": [
       "HBox(children=(FloatProgress(value=0.0, description='Training', layout=Layout(flex='2'), max=1125.0, style=Pro…"
      ]
     },
     "metadata": {},
     "output_type": "display_data"
    },
    {
     "name": "stdout",
     "output_type": "stream",
     "text": [
      "Epoch 73: train=1.29582, val=1.152, took 39.787 s\n"
     ]
    },
    {
     "data": {
      "application/vnd.jupyter.widget-view+json": {
       "model_id": "",
       "version_major": 2,
       "version_minor": 0
      },
      "text/plain": [
       "HBox(children=(FloatProgress(value=0.0, description='Training', layout=Layout(flex='2'), max=1125.0, style=Pro…"
      ]
     },
     "metadata": {},
     "output_type": "display_data"
    },
    {
     "name": "stdout",
     "output_type": "stream",
     "text": [
      "Epoch 74: train=1.29788, val=1.16019, took 39.668 s\n"
     ]
    },
    {
     "data": {
      "application/vnd.jupyter.widget-view+json": {
       "model_id": "",
       "version_major": 2,
       "version_minor": 0
      },
      "text/plain": [
       "HBox(children=(FloatProgress(value=0.0, description='Training', layout=Layout(flex='2'), max=1125.0, style=Pro…"
      ]
     },
     "metadata": {},
     "output_type": "display_data"
    },
    {
     "name": "stdout",
     "output_type": "stream",
     "text": [
      "Epoch 75: train=1.29693, val=1.16534, took 42.026 s\n"
     ]
    },
    {
     "data": {
      "application/vnd.jupyter.widget-view+json": {
       "model_id": "",
       "version_major": 2,
       "version_minor": 0
      },
      "text/plain": [
       "HBox(children=(FloatProgress(value=0.0, description='Training', layout=Layout(flex='2'), max=1125.0, style=Pro…"
      ]
     },
     "metadata": {},
     "output_type": "display_data"
    },
    {
     "name": "stdout",
     "output_type": "stream",
     "text": [
      "Epoch 76: train=1.29735, val=1.14884, took 38.925 s\n"
     ]
    },
    {
     "data": {
      "application/vnd.jupyter.widget-view+json": {
       "model_id": "",
       "version_major": 2,
       "version_minor": 0
      },
      "text/plain": [
       "HBox(children=(FloatProgress(value=0.0, description='Training', layout=Layout(flex='2'), max=1125.0, style=Pro…"
      ]
     },
     "metadata": {},
     "output_type": "display_data"
    },
    {
     "name": "stdout",
     "output_type": "stream",
     "text": [
      "Epoch 77: train=1.29696, val=1.17409, took 38.952 s\n"
     ]
    },
    {
     "data": {
      "application/vnd.jupyter.widget-view+json": {
       "model_id": "",
       "version_major": 2,
       "version_minor": 0
      },
      "text/plain": [
       "HBox(children=(FloatProgress(value=0.0, description='Training', layout=Layout(flex='2'), max=1125.0, style=Pro…"
      ]
     },
     "metadata": {},
     "output_type": "display_data"
    },
    {
     "name": "stdout",
     "output_type": "stream",
     "text": [
      "Epoch 78: train=1.29904, val=1.15089, took 38.798 s\n"
     ]
    },
    {
     "data": {
      "application/vnd.jupyter.widget-view+json": {
       "model_id": "",
       "version_major": 2,
       "version_minor": 0
      },
      "text/plain": [
       "HBox(children=(FloatProgress(value=0.0, description='Training', layout=Layout(flex='2'), max=1125.0, style=Pro…"
      ]
     },
     "metadata": {},
     "output_type": "display_data"
    },
    {
     "name": "stdout",
     "output_type": "stream",
     "text": [
      "Epoch 79: train=1.29733, val=1.15466, took 39.013 s\n"
     ]
    },
    {
     "data": {
      "application/vnd.jupyter.widget-view+json": {
       "model_id": "",
       "version_major": 2,
       "version_minor": 0
      },
      "text/plain": [
       "HBox(children=(FloatProgress(value=0.0, description='Training', layout=Layout(flex='2'), max=1125.0, style=Pro…"
      ]
     },
     "metadata": {},
     "output_type": "display_data"
    },
    {
     "name": "stdout",
     "output_type": "stream",
     "text": [
      "Epoch 80: train=1.29873, val=1.14709, took 38.807 s\n"
     ]
    },
    {
     "data": {
      "application/vnd.jupyter.widget-view+json": {
       "model_id": "",
       "version_major": 2,
       "version_minor": 0
      },
      "text/plain": [
       "HBox(children=(FloatProgress(value=0.0, description='Training', layout=Layout(flex='2'), max=1125.0, style=Pro…"
      ]
     },
     "metadata": {},
     "output_type": "display_data"
    },
    {
     "name": "stdout",
     "output_type": "stream",
     "text": [
      "Epoch 81: train=1.29424, val=1.17756, took 38.637 s\n"
     ]
    },
    {
     "data": {
      "application/vnd.jupyter.widget-view+json": {
       "model_id": "",
       "version_major": 2,
       "version_minor": 0
      },
      "text/plain": [
       "HBox(children=(FloatProgress(value=0.0, description='Training', layout=Layout(flex='2'), max=1125.0, style=Pro…"
      ]
     },
     "metadata": {},
     "output_type": "display_data"
    },
    {
     "name": "stdout",
     "output_type": "stream",
     "text": [
      "Epoch 82: train=1.30127, val=1.15127, took 38.548 s\n"
     ]
    },
    {
     "data": {
      "application/vnd.jupyter.widget-view+json": {
       "model_id": "",
       "version_major": 2,
       "version_minor": 0
      },
      "text/plain": [
       "HBox(children=(FloatProgress(value=0.0, description='Training', layout=Layout(flex='2'), max=1125.0, style=Pro…"
      ]
     },
     "metadata": {},
     "output_type": "display_data"
    },
    {
     "name": "stdout",
     "output_type": "stream",
     "text": [
      "Epoch 83: train=1.30169, val=1.14757, took 37.26 s\n"
     ]
    },
    {
     "data": {
      "application/vnd.jupyter.widget-view+json": {
       "model_id": "",
       "version_major": 2,
       "version_minor": 0
      },
      "text/plain": [
       "HBox(children=(FloatProgress(value=0.0, description='Training', layout=Layout(flex='2'), max=1125.0, style=Pro…"
      ]
     },
     "metadata": {},
     "output_type": "display_data"
    },
    {
     "name": "stdout",
     "output_type": "stream",
     "text": [
      "Epoch 84: train=1.29611, val=1.14833, took 37.144 s\n"
     ]
    },
    {
     "data": {
      "application/vnd.jupyter.widget-view+json": {
       "model_id": "",
       "version_major": 2,
       "version_minor": 0
      },
      "text/plain": [
       "HBox(children=(FloatProgress(value=0.0, description='Training', layout=Layout(flex='2'), max=1125.0, style=Pro…"
      ]
     },
     "metadata": {},
     "output_type": "display_data"
    },
    {
     "name": "stdout",
     "output_type": "stream",
     "text": [
      "Epoch 85: train=1.29825, val=1.15451, took 37.394 s\n"
     ]
    },
    {
     "data": {
      "application/vnd.jupyter.widget-view+json": {
       "model_id": "",
       "version_major": 2,
       "version_minor": 0
      },
      "text/plain": [
       "HBox(children=(FloatProgress(value=0.0, description='Training', layout=Layout(flex='2'), max=1125.0, style=Pro…"
      ]
     },
     "metadata": {},
     "output_type": "display_data"
    },
    {
     "name": "stdout",
     "output_type": "stream",
     "text": [
      "Epoch 86: train=1.29852, val=1.1515, took 37.198 s\n"
     ]
    },
    {
     "data": {
      "application/vnd.jupyter.widget-view+json": {
       "model_id": "",
       "version_major": 2,
       "version_minor": 0
      },
      "text/plain": [
       "HBox(children=(FloatProgress(value=0.0, description='Training', layout=Layout(flex='2'), max=1125.0, style=Pro…"
      ]
     },
     "metadata": {},
     "output_type": "display_data"
    },
    {
     "name": "stdout",
     "output_type": "stream",
     "text": [
      "Epoch 87: train=1.29592, val=1.15651, took 37.022 s\n"
     ]
    },
    {
     "data": {
      "application/vnd.jupyter.widget-view+json": {
       "model_id": "",
       "version_major": 2,
       "version_minor": 0
      },
      "text/plain": [
       "HBox(children=(FloatProgress(value=0.0, description='Training', layout=Layout(flex='2'), max=1125.0, style=Pro…"
      ]
     },
     "metadata": {},
     "output_type": "display_data"
    },
    {
     "name": "stdout",
     "output_type": "stream",
     "text": [
      "Epoch 88: train=1.3002, val=1.18045, took 37.165 s\n"
     ]
    },
    {
     "data": {
      "application/vnd.jupyter.widget-view+json": {
       "model_id": "",
       "version_major": 2,
       "version_minor": 0
      },
      "text/plain": [
       "HBox(children=(FloatProgress(value=0.0, description='Training', layout=Layout(flex='2'), max=1125.0, style=Pro…"
      ]
     },
     "metadata": {},
     "output_type": "display_data"
    },
    {
     "name": "stdout",
     "output_type": "stream",
     "text": [
      "Epoch 89: train=1.29685, val=1.15484, took 37.101 s\n"
     ]
    },
    {
     "data": {
      "application/vnd.jupyter.widget-view+json": {
       "model_id": "",
       "version_major": 2,
       "version_minor": 0
      },
      "text/plain": [
       "HBox(children=(FloatProgress(value=0.0, description='Training', layout=Layout(flex='2'), max=1125.0, style=Pro…"
      ]
     },
     "metadata": {},
     "output_type": "display_data"
    },
    {
     "name": "stdout",
     "output_type": "stream",
     "text": [
      "Epoch 90: train=1.29633, val=1.1473, took 37.26 s\n"
     ]
    },
    {
     "data": {
      "application/vnd.jupyter.widget-view+json": {
       "model_id": "",
       "version_major": 2,
       "version_minor": 0
      },
      "text/plain": [
       "HBox(children=(FloatProgress(value=0.0, description='Training', layout=Layout(flex='2'), max=1125.0, style=Pro…"
      ]
     },
     "metadata": {},
     "output_type": "display_data"
    },
    {
     "name": "stdout",
     "output_type": "stream",
     "text": [
      "Epoch 91: train=1.2939, val=1.14844, took 37.162 s\n"
     ]
    },
    {
     "data": {
      "application/vnd.jupyter.widget-view+json": {
       "model_id": "",
       "version_major": 2,
       "version_minor": 0
      },
      "text/plain": [
       "HBox(children=(FloatProgress(value=0.0, description='Training', layout=Layout(flex='2'), max=1125.0, style=Pro…"
      ]
     },
     "metadata": {},
     "output_type": "display_data"
    },
    {
     "name": "stdout",
     "output_type": "stream",
     "text": [
      "Epoch 92: train=1.29652, val=1.15678, took 36.913 s\n"
     ]
    },
    {
     "data": {
      "application/vnd.jupyter.widget-view+json": {
       "model_id": "",
       "version_major": 2,
       "version_minor": 0
      },
      "text/plain": [
       "HBox(children=(FloatProgress(value=0.0, description='Training', layout=Layout(flex='2'), max=1125.0, style=Pro…"
      ]
     },
     "metadata": {},
     "output_type": "display_data"
    },
    {
     "name": "stdout",
     "output_type": "stream",
     "text": [
      "Epoch 93: train=1.297, val=1.18747, took 36.897 s\n"
     ]
    },
    {
     "data": {
      "application/vnd.jupyter.widget-view+json": {
       "model_id": "",
       "version_major": 2,
       "version_minor": 0
      },
      "text/plain": [
       "HBox(children=(FloatProgress(value=0.0, description='Training', layout=Layout(flex='2'), max=1125.0, style=Pro…"
      ]
     },
     "metadata": {},
     "output_type": "display_data"
    },
    {
     "name": "stdout",
     "output_type": "stream",
     "text": [
      "Epoch 94: train=1.29379, val=1.14824, took 37.366 s\n"
     ]
    },
    {
     "data": {
      "application/vnd.jupyter.widget-view+json": {
       "model_id": "",
       "version_major": 2,
       "version_minor": 0
      },
      "text/plain": [
       "HBox(children=(FloatProgress(value=0.0, description='Training', layout=Layout(flex='2'), max=1125.0, style=Pro…"
      ]
     },
     "metadata": {},
     "output_type": "display_data"
    },
    {
     "name": "stdout",
     "output_type": "stream",
     "text": [
      "Epoch 95: train=1.29489, val=1.15234, took 37.246 s\n"
     ]
    },
    {
     "data": {
      "application/vnd.jupyter.widget-view+json": {
       "model_id": "",
       "version_major": 2,
       "version_minor": 0
      },
      "text/plain": [
       "HBox(children=(FloatProgress(value=0.0, description='Training', layout=Layout(flex='2'), max=1125.0, style=Pro…"
      ]
     },
     "metadata": {},
     "output_type": "display_data"
    },
    {
     "name": "stdout",
     "output_type": "stream",
     "text": [
      "Epoch 96: train=1.29567, val=1.14866, took 36.986 s\n"
     ]
    },
    {
     "data": {
      "application/vnd.jupyter.widget-view+json": {
       "model_id": "",
       "version_major": 2,
       "version_minor": 0
      },
      "text/plain": [
       "HBox(children=(FloatProgress(value=0.0, description='Training', layout=Layout(flex='2'), max=1125.0, style=Pro…"
      ]
     },
     "metadata": {},
     "output_type": "display_data"
    },
    {
     "name": "stdout",
     "output_type": "stream",
     "text": [
      "Epoch 97: train=1.29332, val=1.15151, took 37.02 s\n"
     ]
    },
    {
     "data": {
      "application/vnd.jupyter.widget-view+json": {
       "model_id": "",
       "version_major": 2,
       "version_minor": 0
      },
      "text/plain": [
       "HBox(children=(FloatProgress(value=0.0, description='Training', layout=Layout(flex='2'), max=1125.0, style=Pro…"
      ]
     },
     "metadata": {},
     "output_type": "display_data"
    },
    {
     "name": "stdout",
     "output_type": "stream",
     "text": [
      "Epoch 98: train=1.29628, val=1.14679, took 36.995 s\n"
     ]
    },
    {
     "data": {
      "application/vnd.jupyter.widget-view+json": {
       "model_id": "",
       "version_major": 2,
       "version_minor": 0
      },
      "text/plain": [
       "HBox(children=(FloatProgress(value=0.0, description='Training', layout=Layout(flex='2'), max=1125.0, style=Pro…"
      ]
     },
     "metadata": {},
     "output_type": "display_data"
    },
    {
     "name": "stdout",
     "output_type": "stream",
     "text": [
      "Epoch 99: train=1.29299, val=1.15387, took 36.946 s\n",
      "\n"
     ]
    }
   ],
   "source": [
    "for result in trainNet(model, optimizer, loss,\n",
    "                        train_loader, val_loader,\n",
    "                        n_epochs, epoch_start=len(results),\n",
    "                        notebook=True):\n",
    "    \n",
    "    results = results.append(pd.Series(result._asdict()), ignore_index=True)\n",
    "    xs = results.index\n",
    "    \n",
    "    # Update the plot above\n",
    "    lines['train'].set_data(results.index,results.cost)\n",
    "    lines['val'].set_data(results.index,results.val)\n",
    "    \n",
    "    #filter first cost epoch (can be really large)\n",
    "    max_cost = max(max(results.cost if len(results.cost)<2 else results.cost[1:]), max(results.val))\n",
    "    min_cost = min(min(results.cost), min(results.val))\n",
    "    \n",
    "    # The plot limits need updating too\n",
    "    \n",
    "    \n",
    "    \n",
    "    ax.set_ylim(min_cost*.9, max_cost*1.1)  \n",
    "    ax.set_xlim(-.5, len(results.cost) - .5)\n",
    "\n",
    "    \n",
    "    # Redraw the figure\n",
    "    fig.canvas.draw()\n",
    "\n",
    "    # Save each model state dictionary\n",
    "    torch.save(model.state_dict(), output / f'{name}_{result.epoch}.pyt')"
   ]
  },
  {
   "cell_type": "markdown",
   "metadata": {},
   "source": [
    "Go ahead and save the final model (even though it was also saved above):"
   ]
  },
  {
   "cell_type": "code",
   "execution_count": 18,
   "metadata": {},
   "outputs": [],
   "source": [
    "torch.save(model.state_dict(), output / f'{name}_final.pyt')"
   ]
  },
  {
   "cell_type": "markdown",
   "metadata": {},
   "source": [
    "Save the output results:"
   ]
  },
  {
   "cell_type": "code",
   "execution_count": 19,
   "metadata": {},
   "outputs": [],
   "source": [
    "results.to_hdf(f'{name}_stats.hdf5', 'results')"
   ]
  },
  {
   "cell_type": "markdown",
   "metadata": {},
   "source": [
    "Save the plot above:"
   ]
  },
  {
   "cell_type": "code",
   "execution_count": 20,
   "metadata": {},
   "outputs": [
    {
     "data": {
      "application/javascript": [
       "/* Put everything inside the global mpl namespace */\n",
       "window.mpl = {};\n",
       "\n",
       "\n",
       "mpl.get_websocket_type = function() {\n",
       "    if (typeof(WebSocket) !== 'undefined') {\n",
       "        return WebSocket;\n",
       "    } else if (typeof(MozWebSocket) !== 'undefined') {\n",
       "        return MozWebSocket;\n",
       "    } else {\n",
       "        alert('Your browser does not have WebSocket support. ' +\n",
       "              'Please try Chrome, Safari or Firefox ≥ 6. ' +\n",
       "              'Firefox 4 and 5 are also supported but you ' +\n",
       "              'have to enable WebSockets in about:config.');\n",
       "    };\n",
       "}\n",
       "\n",
       "mpl.figure = function(figure_id, websocket, ondownload, parent_element) {\n",
       "    this.id = figure_id;\n",
       "\n",
       "    this.ws = websocket;\n",
       "\n",
       "    this.supports_binary = (this.ws.binaryType != undefined);\n",
       "\n",
       "    if (!this.supports_binary) {\n",
       "        var warnings = document.getElementById(\"mpl-warnings\");\n",
       "        if (warnings) {\n",
       "            warnings.style.display = 'block';\n",
       "            warnings.textContent = (\n",
       "                \"This browser does not support binary websocket messages. \" +\n",
       "                    \"Performance may be slow.\");\n",
       "        }\n",
       "    }\n",
       "\n",
       "    this.imageObj = new Image();\n",
       "\n",
       "    this.context = undefined;\n",
       "    this.message = undefined;\n",
       "    this.canvas = undefined;\n",
       "    this.rubberband_canvas = undefined;\n",
       "    this.rubberband_context = undefined;\n",
       "    this.format_dropdown = undefined;\n",
       "\n",
       "    this.image_mode = 'full';\n",
       "\n",
       "    this.root = $('<div/>');\n",
       "    this._root_extra_style(this.root)\n",
       "    this.root.attr('style', 'display: inline-block');\n",
       "\n",
       "    $(parent_element).append(this.root);\n",
       "\n",
       "    this._init_header(this);\n",
       "    this._init_canvas(this);\n",
       "    this._init_toolbar(this);\n",
       "\n",
       "    var fig = this;\n",
       "\n",
       "    this.waiting = false;\n",
       "\n",
       "    this.ws.onopen =  function () {\n",
       "            fig.send_message(\"supports_binary\", {value: fig.supports_binary});\n",
       "            fig.send_message(\"send_image_mode\", {});\n",
       "            if (mpl.ratio != 1) {\n",
       "                fig.send_message(\"set_dpi_ratio\", {'dpi_ratio': mpl.ratio});\n",
       "            }\n",
       "            fig.send_message(\"refresh\", {});\n",
       "        }\n",
       "\n",
       "    this.imageObj.onload = function() {\n",
       "            if (fig.image_mode == 'full') {\n",
       "                // Full images could contain transparency (where diff images\n",
       "                // almost always do), so we need to clear the canvas so that\n",
       "                // there is no ghosting.\n",
       "                fig.context.clearRect(0, 0, fig.canvas.width, fig.canvas.height);\n",
       "            }\n",
       "            fig.context.drawImage(fig.imageObj, 0, 0);\n",
       "        };\n",
       "\n",
       "    this.imageObj.onunload = function() {\n",
       "        fig.ws.close();\n",
       "    }\n",
       "\n",
       "    this.ws.onmessage = this._make_on_message_function(this);\n",
       "\n",
       "    this.ondownload = ondownload;\n",
       "}\n",
       "\n",
       "mpl.figure.prototype._init_header = function() {\n",
       "    var titlebar = $(\n",
       "        '<div class=\"ui-dialog-titlebar ui-widget-header ui-corner-all ' +\n",
       "        'ui-helper-clearfix\"/>');\n",
       "    var titletext = $(\n",
       "        '<div class=\"ui-dialog-title\" style=\"width: 100%; ' +\n",
       "        'text-align: center; padding: 3px;\"/>');\n",
       "    titlebar.append(titletext)\n",
       "    this.root.append(titlebar);\n",
       "    this.header = titletext[0];\n",
       "}\n",
       "\n",
       "\n",
       "\n",
       "mpl.figure.prototype._canvas_extra_style = function(canvas_div) {\n",
       "\n",
       "}\n",
       "\n",
       "\n",
       "mpl.figure.prototype._root_extra_style = function(canvas_div) {\n",
       "\n",
       "}\n",
       "\n",
       "mpl.figure.prototype._init_canvas = function() {\n",
       "    var fig = this;\n",
       "\n",
       "    var canvas_div = $('<div/>');\n",
       "\n",
       "    canvas_div.attr('style', 'position: relative; clear: both; outline: 0');\n",
       "\n",
       "    function canvas_keyboard_event(event) {\n",
       "        return fig.key_event(event, event['data']);\n",
       "    }\n",
       "\n",
       "    canvas_div.keydown('key_press', canvas_keyboard_event);\n",
       "    canvas_div.keyup('key_release', canvas_keyboard_event);\n",
       "    this.canvas_div = canvas_div\n",
       "    this._canvas_extra_style(canvas_div)\n",
       "    this.root.append(canvas_div);\n",
       "\n",
       "    var canvas = $('<canvas/>');\n",
       "    canvas.addClass('mpl-canvas');\n",
       "    canvas.attr('style', \"left: 0; top: 0; z-index: 0; outline: 0\")\n",
       "\n",
       "    this.canvas = canvas[0];\n",
       "    this.context = canvas[0].getContext(\"2d\");\n",
       "\n",
       "    var backingStore = this.context.backingStorePixelRatio ||\n",
       "\tthis.context.webkitBackingStorePixelRatio ||\n",
       "\tthis.context.mozBackingStorePixelRatio ||\n",
       "\tthis.context.msBackingStorePixelRatio ||\n",
       "\tthis.context.oBackingStorePixelRatio ||\n",
       "\tthis.context.backingStorePixelRatio || 1;\n",
       "\n",
       "    mpl.ratio = (window.devicePixelRatio || 1) / backingStore;\n",
       "\n",
       "    var rubberband = $('<canvas/>');\n",
       "    rubberband.attr('style', \"position: absolute; left: 0; top: 0; z-index: 1;\")\n",
       "\n",
       "    var pass_mouse_events = true;\n",
       "\n",
       "    canvas_div.resizable({\n",
       "        start: function(event, ui) {\n",
       "            pass_mouse_events = false;\n",
       "        },\n",
       "        resize: function(event, ui) {\n",
       "            fig.request_resize(ui.size.width, ui.size.height);\n",
       "        },\n",
       "        stop: function(event, ui) {\n",
       "            pass_mouse_events = true;\n",
       "            fig.request_resize(ui.size.width, ui.size.height);\n",
       "        },\n",
       "    });\n",
       "\n",
       "    function mouse_event_fn(event) {\n",
       "        if (pass_mouse_events)\n",
       "            return fig.mouse_event(event, event['data']);\n",
       "    }\n",
       "\n",
       "    rubberband.mousedown('button_press', mouse_event_fn);\n",
       "    rubberband.mouseup('button_release', mouse_event_fn);\n",
       "    // Throttle sequential mouse events to 1 every 20ms.\n",
       "    rubberband.mousemove('motion_notify', mouse_event_fn);\n",
       "\n",
       "    rubberband.mouseenter('figure_enter', mouse_event_fn);\n",
       "    rubberband.mouseleave('figure_leave', mouse_event_fn);\n",
       "\n",
       "    canvas_div.on(\"wheel\", function (event) {\n",
       "        event = event.originalEvent;\n",
       "        event['data'] = 'scroll'\n",
       "        if (event.deltaY < 0) {\n",
       "            event.step = 1;\n",
       "        } else {\n",
       "            event.step = -1;\n",
       "        }\n",
       "        mouse_event_fn(event);\n",
       "    });\n",
       "\n",
       "    canvas_div.append(canvas);\n",
       "    canvas_div.append(rubberband);\n",
       "\n",
       "    this.rubberband = rubberband;\n",
       "    this.rubberband_canvas = rubberband[0];\n",
       "    this.rubberband_context = rubberband[0].getContext(\"2d\");\n",
       "    this.rubberband_context.strokeStyle = \"#000000\";\n",
       "\n",
       "    this._resize_canvas = function(width, height) {\n",
       "        // Keep the size of the canvas, canvas container, and rubber band\n",
       "        // canvas in synch.\n",
       "        canvas_div.css('width', width)\n",
       "        canvas_div.css('height', height)\n",
       "\n",
       "        canvas.attr('width', width * mpl.ratio);\n",
       "        canvas.attr('height', height * mpl.ratio);\n",
       "        canvas.attr('style', 'width: ' + width + 'px; height: ' + height + 'px;');\n",
       "\n",
       "        rubberband.attr('width', width);\n",
       "        rubberband.attr('height', height);\n",
       "    }\n",
       "\n",
       "    // Set the figure to an initial 600x600px, this will subsequently be updated\n",
       "    // upon first draw.\n",
       "    this._resize_canvas(600, 600);\n",
       "\n",
       "    // Disable right mouse context menu.\n",
       "    $(this.rubberband_canvas).bind(\"contextmenu\",function(e){\n",
       "        return false;\n",
       "    });\n",
       "\n",
       "    function set_focus () {\n",
       "        canvas.focus();\n",
       "        canvas_div.focus();\n",
       "    }\n",
       "\n",
       "    window.setTimeout(set_focus, 100);\n",
       "}\n",
       "\n",
       "mpl.figure.prototype._init_toolbar = function() {\n",
       "    var fig = this;\n",
       "\n",
       "    var nav_element = $('<div/>');\n",
       "    nav_element.attr('style', 'width: 100%');\n",
       "    this.root.append(nav_element);\n",
       "\n",
       "    // Define a callback function for later on.\n",
       "    function toolbar_event(event) {\n",
       "        return fig.toolbar_button_onclick(event['data']);\n",
       "    }\n",
       "    function toolbar_mouse_event(event) {\n",
       "        return fig.toolbar_button_onmouseover(event['data']);\n",
       "    }\n",
       "\n",
       "    for(var toolbar_ind in mpl.toolbar_items) {\n",
       "        var name = mpl.toolbar_items[toolbar_ind][0];\n",
       "        var tooltip = mpl.toolbar_items[toolbar_ind][1];\n",
       "        var image = mpl.toolbar_items[toolbar_ind][2];\n",
       "        var method_name = mpl.toolbar_items[toolbar_ind][3];\n",
       "\n",
       "        if (!name) {\n",
       "            // put a spacer in here.\n",
       "            continue;\n",
       "        }\n",
       "        var button = $('<button/>');\n",
       "        button.addClass('ui-button ui-widget ui-state-default ui-corner-all ' +\n",
       "                        'ui-button-icon-only');\n",
       "        button.attr('role', 'button');\n",
       "        button.attr('aria-disabled', 'false');\n",
       "        button.click(method_name, toolbar_event);\n",
       "        button.mouseover(tooltip, toolbar_mouse_event);\n",
       "\n",
       "        var icon_img = $('<span/>');\n",
       "        icon_img.addClass('ui-button-icon-primary ui-icon');\n",
       "        icon_img.addClass(image);\n",
       "        icon_img.addClass('ui-corner-all');\n",
       "\n",
       "        var tooltip_span = $('<span/>');\n",
       "        tooltip_span.addClass('ui-button-text');\n",
       "        tooltip_span.html(tooltip);\n",
       "\n",
       "        button.append(icon_img);\n",
       "        button.append(tooltip_span);\n",
       "\n",
       "        nav_element.append(button);\n",
       "    }\n",
       "\n",
       "    var fmt_picker_span = $('<span/>');\n",
       "\n",
       "    var fmt_picker = $('<select/>');\n",
       "    fmt_picker.addClass('mpl-toolbar-option ui-widget ui-widget-content');\n",
       "    fmt_picker_span.append(fmt_picker);\n",
       "    nav_element.append(fmt_picker_span);\n",
       "    this.format_dropdown = fmt_picker[0];\n",
       "\n",
       "    for (var ind in mpl.extensions) {\n",
       "        var fmt = mpl.extensions[ind];\n",
       "        var option = $(\n",
       "            '<option/>', {selected: fmt === mpl.default_extension}).html(fmt);\n",
       "        fmt_picker.append(option);\n",
       "    }\n",
       "\n",
       "    // Add hover states to the ui-buttons\n",
       "    $( \".ui-button\" ).hover(\n",
       "        function() { $(this).addClass(\"ui-state-hover\");},\n",
       "        function() { $(this).removeClass(\"ui-state-hover\");}\n",
       "    );\n",
       "\n",
       "    var status_bar = $('<span class=\"mpl-message\"/>');\n",
       "    nav_element.append(status_bar);\n",
       "    this.message = status_bar[0];\n",
       "}\n",
       "\n",
       "mpl.figure.prototype.request_resize = function(x_pixels, y_pixels) {\n",
       "    // Request matplotlib to resize the figure. Matplotlib will then trigger a resize in the client,\n",
       "    // which will in turn request a refresh of the image.\n",
       "    this.send_message('resize', {'width': x_pixels, 'height': y_pixels});\n",
       "}\n",
       "\n",
       "mpl.figure.prototype.send_message = function(type, properties) {\n",
       "    properties['type'] = type;\n",
       "    properties['figure_id'] = this.id;\n",
       "    this.ws.send(JSON.stringify(properties));\n",
       "}\n",
       "\n",
       "mpl.figure.prototype.send_draw_message = function() {\n",
       "    if (!this.waiting) {\n",
       "        this.waiting = true;\n",
       "        this.ws.send(JSON.stringify({type: \"draw\", figure_id: this.id}));\n",
       "    }\n",
       "}\n",
       "\n",
       "\n",
       "mpl.figure.prototype.handle_save = function(fig, msg) {\n",
       "    var format_dropdown = fig.format_dropdown;\n",
       "    var format = format_dropdown.options[format_dropdown.selectedIndex].value;\n",
       "    fig.ondownload(fig, format);\n",
       "}\n",
       "\n",
       "\n",
       "mpl.figure.prototype.handle_resize = function(fig, msg) {\n",
       "    var size = msg['size'];\n",
       "    if (size[0] != fig.canvas.width || size[1] != fig.canvas.height) {\n",
       "        fig._resize_canvas(size[0], size[1]);\n",
       "        fig.send_message(\"refresh\", {});\n",
       "    };\n",
       "}\n",
       "\n",
       "mpl.figure.prototype.handle_rubberband = function(fig, msg) {\n",
       "    var x0 = msg['x0'] / mpl.ratio;\n",
       "    var y0 = (fig.canvas.height - msg['y0']) / mpl.ratio;\n",
       "    var x1 = msg['x1'] / mpl.ratio;\n",
       "    var y1 = (fig.canvas.height - msg['y1']) / mpl.ratio;\n",
       "    x0 = Math.floor(x0) + 0.5;\n",
       "    y0 = Math.floor(y0) + 0.5;\n",
       "    x1 = Math.floor(x1) + 0.5;\n",
       "    y1 = Math.floor(y1) + 0.5;\n",
       "    var min_x = Math.min(x0, x1);\n",
       "    var min_y = Math.min(y0, y1);\n",
       "    var width = Math.abs(x1 - x0);\n",
       "    var height = Math.abs(y1 - y0);\n",
       "\n",
       "    fig.rubberband_context.clearRect(\n",
       "        0, 0, fig.canvas.width / mpl.ratio, fig.canvas.height / mpl.ratio);\n",
       "\n",
       "    fig.rubberband_context.strokeRect(min_x, min_y, width, height);\n",
       "}\n",
       "\n",
       "mpl.figure.prototype.handle_figure_label = function(fig, msg) {\n",
       "    // Updates the figure title.\n",
       "    fig.header.textContent = msg['label'];\n",
       "}\n",
       "\n",
       "mpl.figure.prototype.handle_cursor = function(fig, msg) {\n",
       "    var cursor = msg['cursor'];\n",
       "    switch(cursor)\n",
       "    {\n",
       "    case 0:\n",
       "        cursor = 'pointer';\n",
       "        break;\n",
       "    case 1:\n",
       "        cursor = 'default';\n",
       "        break;\n",
       "    case 2:\n",
       "        cursor = 'crosshair';\n",
       "        break;\n",
       "    case 3:\n",
       "        cursor = 'move';\n",
       "        break;\n",
       "    }\n",
       "    fig.rubberband_canvas.style.cursor = cursor;\n",
       "}\n",
       "\n",
       "mpl.figure.prototype.handle_message = function(fig, msg) {\n",
       "    fig.message.textContent = msg['message'];\n",
       "}\n",
       "\n",
       "mpl.figure.prototype.handle_draw = function(fig, msg) {\n",
       "    // Request the server to send over a new figure.\n",
       "    fig.send_draw_message();\n",
       "}\n",
       "\n",
       "mpl.figure.prototype.handle_image_mode = function(fig, msg) {\n",
       "    fig.image_mode = msg['mode'];\n",
       "}\n",
       "\n",
       "mpl.figure.prototype.updated_canvas_event = function() {\n",
       "    // Called whenever the canvas gets updated.\n",
       "    this.send_message(\"ack\", {});\n",
       "}\n",
       "\n",
       "// A function to construct a web socket function for onmessage handling.\n",
       "// Called in the figure constructor.\n",
       "mpl.figure.prototype._make_on_message_function = function(fig) {\n",
       "    return function socket_on_message(evt) {\n",
       "        if (evt.data instanceof Blob) {\n",
       "            /* FIXME: We get \"Resource interpreted as Image but\n",
       "             * transferred with MIME type text/plain:\" errors on\n",
       "             * Chrome.  But how to set the MIME type?  It doesn't seem\n",
       "             * to be part of the websocket stream */\n",
       "            evt.data.type = \"image/png\";\n",
       "\n",
       "            /* Free the memory for the previous frames */\n",
       "            if (fig.imageObj.src) {\n",
       "                (window.URL || window.webkitURL).revokeObjectURL(\n",
       "                    fig.imageObj.src);\n",
       "            }\n",
       "\n",
       "            fig.imageObj.src = (window.URL || window.webkitURL).createObjectURL(\n",
       "                evt.data);\n",
       "            fig.updated_canvas_event();\n",
       "            fig.waiting = false;\n",
       "            return;\n",
       "        }\n",
       "        else if (typeof evt.data === 'string' && evt.data.slice(0, 21) == \"data:image/png;base64\") {\n",
       "            fig.imageObj.src = evt.data;\n",
       "            fig.updated_canvas_event();\n",
       "            fig.waiting = false;\n",
       "            return;\n",
       "        }\n",
       "\n",
       "        var msg = JSON.parse(evt.data);\n",
       "        var msg_type = msg['type'];\n",
       "\n",
       "        // Call the  \"handle_{type}\" callback, which takes\n",
       "        // the figure and JSON message as its only arguments.\n",
       "        try {\n",
       "            var callback = fig[\"handle_\" + msg_type];\n",
       "        } catch (e) {\n",
       "            console.log(\"No handler for the '\" + msg_type + \"' message type: \", msg);\n",
       "            return;\n",
       "        }\n",
       "\n",
       "        if (callback) {\n",
       "            try {\n",
       "                // console.log(\"Handling '\" + msg_type + \"' message: \", msg);\n",
       "                callback(fig, msg);\n",
       "            } catch (e) {\n",
       "                console.log(\"Exception inside the 'handler_\" + msg_type + \"' callback:\", e, e.stack, msg);\n",
       "            }\n",
       "        }\n",
       "    };\n",
       "}\n",
       "\n",
       "// from http://stackoverflow.com/questions/1114465/getting-mouse-location-in-canvas\n",
       "mpl.findpos = function(e) {\n",
       "    //this section is from http://www.quirksmode.org/js/events_properties.html\n",
       "    var targ;\n",
       "    if (!e)\n",
       "        e = window.event;\n",
       "    if (e.target)\n",
       "        targ = e.target;\n",
       "    else if (e.srcElement)\n",
       "        targ = e.srcElement;\n",
       "    if (targ.nodeType == 3) // defeat Safari bug\n",
       "        targ = targ.parentNode;\n",
       "\n",
       "    // jQuery normalizes the pageX and pageY\n",
       "    // pageX,Y are the mouse positions relative to the document\n",
       "    // offset() returns the position of the element relative to the document\n",
       "    var x = e.pageX - $(targ).offset().left;\n",
       "    var y = e.pageY - $(targ).offset().top;\n",
       "\n",
       "    return {\"x\": x, \"y\": y};\n",
       "};\n",
       "\n",
       "/*\n",
       " * return a copy of an object with only non-object keys\n",
       " * we need this to avoid circular references\n",
       " * http://stackoverflow.com/a/24161582/3208463\n",
       " */\n",
       "function simpleKeys (original) {\n",
       "  return Object.keys(original).reduce(function (obj, key) {\n",
       "    if (typeof original[key] !== 'object')\n",
       "        obj[key] = original[key]\n",
       "    return obj;\n",
       "  }, {});\n",
       "}\n",
       "\n",
       "mpl.figure.prototype.mouse_event = function(event, name) {\n",
       "    var canvas_pos = mpl.findpos(event)\n",
       "\n",
       "    if (name === 'button_press')\n",
       "    {\n",
       "        this.canvas.focus();\n",
       "        this.canvas_div.focus();\n",
       "    }\n",
       "\n",
       "    var x = canvas_pos.x * mpl.ratio;\n",
       "    var y = canvas_pos.y * mpl.ratio;\n",
       "\n",
       "    this.send_message(name, {x: x, y: y, button: event.button,\n",
       "                             step: event.step,\n",
       "                             guiEvent: simpleKeys(event)});\n",
       "\n",
       "    /* This prevents the web browser from automatically changing to\n",
       "     * the text insertion cursor when the button is pressed.  We want\n",
       "     * to control all of the cursor setting manually through the\n",
       "     * 'cursor' event from matplotlib */\n",
       "    event.preventDefault();\n",
       "    return false;\n",
       "}\n",
       "\n",
       "mpl.figure.prototype._key_event_extra = function(event, name) {\n",
       "    // Handle any extra behaviour associated with a key event\n",
       "}\n",
       "\n",
       "mpl.figure.prototype.key_event = function(event, name) {\n",
       "\n",
       "    // Prevent repeat events\n",
       "    if (name == 'key_press')\n",
       "    {\n",
       "        if (event.which === this._key)\n",
       "            return;\n",
       "        else\n",
       "            this._key = event.which;\n",
       "    }\n",
       "    if (name == 'key_release')\n",
       "        this._key = null;\n",
       "\n",
       "    var value = '';\n",
       "    if (event.ctrlKey && event.which != 17)\n",
       "        value += \"ctrl+\";\n",
       "    if (event.altKey && event.which != 18)\n",
       "        value += \"alt+\";\n",
       "    if (event.shiftKey && event.which != 16)\n",
       "        value += \"shift+\";\n",
       "\n",
       "    value += 'k';\n",
       "    value += event.which.toString();\n",
       "\n",
       "    this._key_event_extra(event, name);\n",
       "\n",
       "    this.send_message(name, {key: value,\n",
       "                             guiEvent: simpleKeys(event)});\n",
       "    return false;\n",
       "}\n",
       "\n",
       "mpl.figure.prototype.toolbar_button_onclick = function(name) {\n",
       "    if (name == 'download') {\n",
       "        this.handle_save(this, null);\n",
       "    } else {\n",
       "        this.send_message(\"toolbar_button\", {name: name});\n",
       "    }\n",
       "};\n",
       "\n",
       "mpl.figure.prototype.toolbar_button_onmouseover = function(tooltip) {\n",
       "    this.message.textContent = tooltip;\n",
       "};\n",
       "mpl.toolbar_items = [[\"Home\", \"Reset original view\", \"fa fa-home icon-home\", \"home\"], [\"Back\", \"Back to previous view\", \"fa fa-arrow-left icon-arrow-left\", \"back\"], [\"Forward\", \"Forward to next view\", \"fa fa-arrow-right icon-arrow-right\", \"forward\"], [\"\", \"\", \"\", \"\"], [\"Pan\", \"Pan axes with left mouse, zoom with right\", \"fa fa-arrows icon-move\", \"pan\"], [\"Zoom\", \"Zoom to rectangle\", \"fa fa-square-o icon-check-empty\", \"zoom\"], [\"\", \"\", \"\", \"\"], [\"Download\", \"Download plot\", \"fa fa-floppy-o icon-save\", \"download\"]];\n",
       "\n",
       "mpl.extensions = [\"eps\", \"jpeg\", \"pdf\", \"png\", \"ps\", \"raw\", \"svg\", \"tif\"];\n",
       "\n",
       "mpl.default_extension = \"png\";var comm_websocket_adapter = function(comm) {\n",
       "    // Create a \"websocket\"-like object which calls the given IPython comm\n",
       "    // object with the appropriate methods. Currently this is a non binary\n",
       "    // socket, so there is still some room for performance tuning.\n",
       "    var ws = {};\n",
       "\n",
       "    ws.close = function() {\n",
       "        comm.close()\n",
       "    };\n",
       "    ws.send = function(m) {\n",
       "        //console.log('sending', m);\n",
       "        comm.send(m);\n",
       "    };\n",
       "    // Register the callback with on_msg.\n",
       "    comm.on_msg(function(msg) {\n",
       "        //console.log('receiving', msg['content']['data'], msg);\n",
       "        // Pass the mpl event to the overridden (by mpl) onmessage function.\n",
       "        ws.onmessage(msg['content']['data'])\n",
       "    });\n",
       "    return ws;\n",
       "}\n",
       "\n",
       "mpl.mpl_figure_comm = function(comm, msg) {\n",
       "    // This is the function which gets called when the mpl process\n",
       "    // starts-up an IPython Comm through the \"matplotlib\" channel.\n",
       "\n",
       "    var id = msg.content.data.id;\n",
       "    // Get hold of the div created by the display call when the Comm\n",
       "    // socket was opened in Python.\n",
       "    var element = $(\"#\" + id);\n",
       "    var ws_proxy = comm_websocket_adapter(comm)\n",
       "\n",
       "    function ondownload(figure, format) {\n",
       "        window.open(figure.imageObj.src);\n",
       "    }\n",
       "\n",
       "    var fig = new mpl.figure(id, ws_proxy,\n",
       "                           ondownload,\n",
       "                           element.get(0));\n",
       "\n",
       "    // Call onopen now - mpl needs it, as it is assuming we've passed it a real\n",
       "    // web socket which is closed, not our websocket->open comm proxy.\n",
       "    ws_proxy.onopen();\n",
       "\n",
       "    fig.parent_element = element.get(0);\n",
       "    fig.cell_info = mpl.find_output_cell(\"<div id='\" + id + \"'></div>\");\n",
       "    if (!fig.cell_info) {\n",
       "        console.error(\"Failed to find cell for figure\", id, fig);\n",
       "        return;\n",
       "    }\n",
       "\n",
       "    var output_index = fig.cell_info[2]\n",
       "    var cell = fig.cell_info[0];\n",
       "\n",
       "};\n",
       "\n",
       "mpl.figure.prototype.handle_close = function(fig, msg) {\n",
       "    var width = fig.canvas.width/mpl.ratio\n",
       "    fig.root.unbind('remove')\n",
       "\n",
       "    // Update the output cell to use the data from the current canvas.\n",
       "    fig.push_to_output();\n",
       "    var dataURL = fig.canvas.toDataURL();\n",
       "    // Re-enable the keyboard manager in IPython - without this line, in FF,\n",
       "    // the notebook keyboard shortcuts fail.\n",
       "    IPython.keyboard_manager.enable()\n",
       "    $(fig.parent_element).html('<img src=\"' + dataURL + '\" width=\"' + width + '\">');\n",
       "    fig.close_ws(fig, msg);\n",
       "}\n",
       "\n",
       "mpl.figure.prototype.close_ws = function(fig, msg){\n",
       "    fig.send_message('closing', msg);\n",
       "    // fig.ws.close()\n",
       "}\n",
       "\n",
       "mpl.figure.prototype.push_to_output = function(remove_interactive) {\n",
       "    // Turn the data on the canvas into data in the output cell.\n",
       "    var width = this.canvas.width/mpl.ratio\n",
       "    var dataURL = this.canvas.toDataURL();\n",
       "    this.cell_info[1]['text/html'] = '<img src=\"' + dataURL + '\" width=\"' + width + '\">';\n",
       "}\n",
       "\n",
       "mpl.figure.prototype.updated_canvas_event = function() {\n",
       "    // Tell IPython that the notebook contents must change.\n",
       "    IPython.notebook.set_dirty(true);\n",
       "    this.send_message(\"ack\", {});\n",
       "    var fig = this;\n",
       "    // Wait a second, then push the new image to the DOM so\n",
       "    // that it is saved nicely (might be nice to debounce this).\n",
       "    setTimeout(function () { fig.push_to_output() }, 1000);\n",
       "}\n",
       "\n",
       "mpl.figure.prototype._init_toolbar = function() {\n",
       "    var fig = this;\n",
       "\n",
       "    var nav_element = $('<div/>');\n",
       "    nav_element.attr('style', 'width: 100%');\n",
       "    this.root.append(nav_element);\n",
       "\n",
       "    // Define a callback function for later on.\n",
       "    function toolbar_event(event) {\n",
       "        return fig.toolbar_button_onclick(event['data']);\n",
       "    }\n",
       "    function toolbar_mouse_event(event) {\n",
       "        return fig.toolbar_button_onmouseover(event['data']);\n",
       "    }\n",
       "\n",
       "    for(var toolbar_ind in mpl.toolbar_items){\n",
       "        var name = mpl.toolbar_items[toolbar_ind][0];\n",
       "        var tooltip = mpl.toolbar_items[toolbar_ind][1];\n",
       "        var image = mpl.toolbar_items[toolbar_ind][2];\n",
       "        var method_name = mpl.toolbar_items[toolbar_ind][3];\n",
       "\n",
       "        if (!name) { continue; };\n",
       "\n",
       "        var button = $('<button class=\"btn btn-default\" href=\"#\" title=\"' + name + '\"><i class=\"fa ' + image + ' fa-lg\"></i></button>');\n",
       "        button.click(method_name, toolbar_event);\n",
       "        button.mouseover(tooltip, toolbar_mouse_event);\n",
       "        nav_element.append(button);\n",
       "    }\n",
       "\n",
       "    // Add the status bar.\n",
       "    var status_bar = $('<span class=\"mpl-message\" style=\"text-align:right; float: right;\"/>');\n",
       "    nav_element.append(status_bar);\n",
       "    this.message = status_bar[0];\n",
       "\n",
       "    // Add the close button to the window.\n",
       "    var buttongrp = $('<div class=\"btn-group inline pull-right\"></div>');\n",
       "    var button = $('<button class=\"btn btn-mini btn-primary\" href=\"#\" title=\"Stop Interaction\"><i class=\"fa fa-power-off icon-remove icon-large\"></i></button>');\n",
       "    button.click(function (evt) { fig.handle_close(fig, {}); } );\n",
       "    button.mouseover('Stop Interaction', toolbar_mouse_event);\n",
       "    buttongrp.append(button);\n",
       "    var titlebar = this.root.find($('.ui-dialog-titlebar'));\n",
       "    titlebar.prepend(buttongrp);\n",
       "}\n",
       "\n",
       "mpl.figure.prototype._root_extra_style = function(el){\n",
       "    var fig = this\n",
       "    el.on(\"remove\", function(){\n",
       "\tfig.close_ws(fig, {});\n",
       "    });\n",
       "}\n",
       "\n",
       "mpl.figure.prototype._canvas_extra_style = function(el){\n",
       "    // this is important to make the div 'focusable\n",
       "    el.attr('tabindex', 0)\n",
       "    // reach out to IPython and tell the keyboard manager to turn it's self\n",
       "    // off when our div gets focus\n",
       "\n",
       "    // location in version 3\n",
       "    if (IPython.notebook.keyboard_manager) {\n",
       "        IPython.notebook.keyboard_manager.register_events(el);\n",
       "    }\n",
       "    else {\n",
       "        // location in version 2\n",
       "        IPython.keyboard_manager.register_events(el);\n",
       "    }\n",
       "\n",
       "}\n",
       "\n",
       "mpl.figure.prototype._key_event_extra = function(event, name) {\n",
       "    var manager = IPython.notebook.keyboard_manager;\n",
       "    if (!manager)\n",
       "        manager = IPython.keyboard_manager;\n",
       "\n",
       "    // Check for shift+enter\n",
       "    if (event.shiftKey && event.which == 13) {\n",
       "        this.canvas_div.blur();\n",
       "        // select the cell after this one\n",
       "        var index = IPython.notebook.find_cell_index(this.cell_info[0]);\n",
       "        IPython.notebook.select(index + 1);\n",
       "    }\n",
       "}\n",
       "\n",
       "mpl.figure.prototype.handle_save = function(fig, msg) {\n",
       "    fig.ondownload(fig, null);\n",
       "}\n",
       "\n",
       "\n",
       "mpl.find_output_cell = function(html_output) {\n",
       "    // Return the cell and output element which can be found *uniquely* in the notebook.\n",
       "    // Note - this is a bit hacky, but it is done because the \"notebook_saving.Notebook\"\n",
       "    // IPython event is triggered only after the cells have been serialised, which for\n",
       "    // our purposes (turning an active figure into a static one), is too late.\n",
       "    var cells = IPython.notebook.get_cells();\n",
       "    var ncells = cells.length;\n",
       "    for (var i=0; i<ncells; i++) {\n",
       "        var cell = cells[i];\n",
       "        if (cell.cell_type === 'code'){\n",
       "            for (var j=0; j<cell.output_area.outputs.length; j++) {\n",
       "                var data = cell.output_area.outputs[j];\n",
       "                if (data.data) {\n",
       "                    // IPython >= 3 moved mimebundle to data attribute of output\n",
       "                    data = data.data;\n",
       "                }\n",
       "                if (data['text/html'] == html_output) {\n",
       "                    return [cell, data, j];\n",
       "                }\n",
       "            }\n",
       "        }\n",
       "    }\n",
       "}\n",
       "\n",
       "// Register the function which deals with the matplotlib target/channel.\n",
       "// The kernel may be null if the page has been refreshed.\n",
       "if (IPython.notebook.kernel != null) {\n",
       "    IPython.notebook.kernel.comm_manager.register_target('matplotlib', mpl.mpl_figure_comm);\n",
       "}\n"
      ],
      "text/plain": [
       "<IPython.core.display.Javascript object>"
      ]
     },
     "metadata": {},
     "output_type": "display_data"
    },
    {
     "data": {
      "text/html": [
       "<img src=\"data:image/png;base64,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\" width=\"1000\">"
      ],
      "text/plain": [
       "<IPython.core.display.HTML object>"
      ]
     },
     "metadata": {},
     "output_type": "display_data"
    }
   ],
   "source": [
    "dual_train_plots(results.index,\n",
    "                 results.cost, results.val,\n",
    "                 results.cost, results.val)\n",
    "plt.tight_layout()\n",
    "plt.savefig(str(output / f'{name}_stats_a.png'))"
   ]
  },
  {
   "cell_type": "code",
   "execution_count": 22,
   "metadata": {},
   "outputs": [],
   "source": [
    "##quit()\n"
   ]
  },
  {
   "cell_type": "code",
   "execution_count": null,
   "metadata": {},
   "outputs": [],
   "source": []
  },
  {
   "cell_type": "code",
   "execution_count": null,
   "metadata": {},
   "outputs": [],
   "source": []
  }
 ],
 "metadata": {
  "kernelspec": {
   "display_name": "june2020-gpu",
   "language": "python",
   "name": "june2020-gpu"
  },
  "language_info": {
   "codemirror_mode": {
    "name": "ipython",
    "version": 3
   },
   "file_extension": ".py",
   "mimetype": "text/x-python",
   "name": "python",
   "nbconvert_exporter": "python",
   "pygments_lexer": "ipython3",
   "version": "3.7.6"
  }
 },
 "nbformat": 4,
 "nbformat_minor": 2
}
