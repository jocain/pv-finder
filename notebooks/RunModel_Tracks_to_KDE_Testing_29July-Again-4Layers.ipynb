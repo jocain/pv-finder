{
 "cells": [
  {
   "cell_type": "code",
   "execution_count": 1,
   "metadata": {},
   "outputs": [],
   "source": [
    "##%matplotlib widget\n",
    "## with %matplotlib notebook: seems to require ipympl as part of environment, either\n",
    "## part of the conda environment or \"pip install ipympl\"\n",
    "## otherwise, does not show ANY plots in notebook, plt.savefig() works\n",
    "%matplotlib notebook  \n",
    "##%matplotlib inline    ## --plt.savefig()  works, but re-sizing does NOT\n"
   ]
  },
  {
   "cell_type": "markdown",
   "metadata": {},
   "source": [
    "This notebook is first attempt to read in track information and use it to predict the KDE used as input to PvFinder.\n"
   ]
  },
  {
   "cell_type": "markdown",
   "metadata": {},
   "source": [
    "Check the current GPU usage. Please try to be nice!"
   ]
  },
  {
   "cell_type": "code",
   "execution_count": 2,
   "metadata": {},
   "outputs": [
    {
     "name": "stdout",
     "output_type": "stream",
     "text": [
      "Wed Jul 29 21:33:02 2020       \r\n",
      "+-----------------------------------------------------------------------------+\r\n",
      "| NVIDIA-SMI 450.36.06    Driver Version: 450.36.06    CUDA Version: 11.0     |\r\n",
      "|-------------------------------+----------------------+----------------------+\r\n",
      "| GPU  Name        Persistence-M| Bus-Id        Disp.A | Volatile Uncorr. ECC |\r\n",
      "| Fan  Temp  Perf  Pwr:Usage/Cap|         Memory-Usage | GPU-Util  Compute M. |\r\n",
      "|                               |                      |               MIG M. |\r\n",
      "|===============================+======================+======================|\r\n",
      "|   0  GeForce RTX 208...  On   | 00000000:18:00.0 Off |                  N/A |\r\n",
      "| 29%   31C    P8    22W / 250W |   6390MiB / 11019MiB |      0%      Default |\r\n",
      "|                               |                      |                  N/A |\r\n",
      "+-------------------------------+----------------------+----------------------+\r\n",
      "|   1  GeForce RTX 208...  On   | 00000000:3B:00.0 Off |                  N/A |\r\n",
      "| 29%   31C    P8    21W / 250W |   6221MiB / 11019MiB |      0%      Default |\r\n",
      "|                               |                      |                  N/A |\r\n",
      "+-------------------------------+----------------------+----------------------+\r\n",
      "                                                                               \r\n",
      "+-----------------------------------------------------------------------------+\r\n",
      "| Processes:                                                                  |\r\n",
      "|  GPU   GI   CI        PID   Type   Process name                  GPU Memory |\r\n",
      "|        ID   ID                                                   Usage      |\r\n",
      "|=============================================================================|\r\n",
      "|    0   N/A  N/A    291611      C   ...s/june2020-gpu/bin/python     1391MiB |\r\n",
      "|    0   N/A  N/A    298883      C   ...s/june2020-gpu/bin/python     4995MiB |\r\n",
      "|    1   N/A  N/A      3787      G   /usr/bin/X                         33MiB |\r\n",
      "|    1   N/A  N/A      3843      G   /usr/bin/gnome-shell               25MiB |\r\n",
      "|    1   N/A  N/A    285602      C   ...s/june2020-gpu/bin/python     1187MiB |\r\n",
      "|    1   N/A  N/A    288441      C   ...s/june2020-gpu/bin/python     4971MiB |\r\n",
      "+-----------------------------------------------------------------------------+\r\n"
     ]
    }
   ],
   "source": [
    "!nvidia-smi"
   ]
  },
  {
   "cell_type": "markdown",
   "metadata": {},
   "source": [
    "> **WARNING**: The card numbers here are *not* the same as in CUDA. You have been warned."
   ]
  },
  {
   "cell_type": "markdown",
   "metadata": {},
   "source": [
    "## Imports"
   ]
  },
  {
   "cell_type": "code",
   "execution_count": 3,
   "metadata": {},
   "outputs": [],
   "source": [
    "import matplotlib.pyplot as plt\n",
    "import numpy as np\n",
    "import time\n",
    "import torch\n",
    "import pandas as pd\n",
    "\n",
    "# Python 3 standard library\n",
    "from pathlib import Path\n",
    "\n",
    "##from torchsummary import summary"
   ]
  },
  {
   "cell_type": "markdown",
   "metadata": {},
   "source": [
    "### Set up local parameters"
   ]
  },
  {
   "cell_type": "code",
   "execution_count": 4,
   "metadata": {},
   "outputs": [],
   "source": [
    "n_epochs = 300\n",
    "\n",
    "# Name is the output file name\n",
    "\n",
    "\n",
    "##  200719  mds\n",
    "folder = '29July2020_Trks_to_KDE_D_lossB_300_epochs_b32_1m3_nOut_25x25x50'\n",
    "name = '29July2020_Trks_to_KDE_D_lossB_300_epochs_b32_1m3_nOut_25x25x50'\n",
    "\n",
    "# Make an output folder named \"name\" (change if you want)\n",
    "\n",
    "## Special instructions for those working on goofy at UC\n",
    "## Please be very careful to make sure that your folder\n",
    "## does not live in a subdirectory of your home directory\n",
    "## this disk has very little capacity. Instead, use \n",
    "## a subdirectory in /share/lazy with a symbolic link to\n",
    "## it in this (the notebooks) subdirectory\n",
    "folder = 'ML/' + folder\n",
    "output = Path(folder)\n",
    "\n",
    "\n",
    "# Size of batches\n",
    "batch_size = 32\n",
    "# How fast to learn\n",
    "learning_rate = 1e-3"
   ]
  },
  {
   "cell_type": "markdown",
   "metadata": {},
   "source": [
    "Make the output directory if it does not exist:"
   ]
  },
  {
   "cell_type": "code",
   "execution_count": 5,
   "metadata": {},
   "outputs": [],
   "source": [
    "output.mkdir(exist_ok=True)"
   ]
  },
  {
   "cell_type": "markdown",
   "metadata": {},
   "source": [
    "## Get the helper functions\n",
    "\n",
    "Add the directory with the model\n",
    "definitions to the path so we can import from it:\n",
    "\n",
    "> When you type `import X`,\n",
    "Python searches `sys.path` for a python\n",
    "file named `X.py` to import. So we need to add the model directory to the path."
   ]
  },
  {
   "cell_type": "code",
   "execution_count": 6,
   "metadata": {
    "scrolled": true
   },
   "outputs": [],
   "source": [
    "# From model/collectdata.py\n",
    "from model.collectdata_kde import collect_t2kde_data\n",
    "\n",
    "# From model/loss.py\n",
    "##from loss import Loss\n",
    "from model.kde_loss_B import Loss\n",
    "\n",
    "\n",
    "from model.models_kde import TracksToKDE_D as Model\n",
    "\n",
    "\n",
    "from model.training_kde import trainNet, select_gpu, Results\n",
    "from model.plots import dual_train_plots, replace_in_ax"
   ]
  },
  {
   "cell_type": "code",
   "execution_count": 7,
   "metadata": {},
   "outputs": [],
   "source": [
    "# This gets built up during the run - do not rerun this cell\n",
    "results = pd.DataFrame([], columns=Results._fields)"
   ]
  },
  {
   "cell_type": "markdown",
   "metadata": {},
   "source": [
    "Set up Torch device configuration. All tensors and model parameters need to know where to be put.\n",
    "This takes a BUS ID number: The BUS ID is the same as the listing at the top of this script."
   ]
  },
  {
   "cell_type": "code",
   "execution_count": 8,
   "metadata": {},
   "outputs": [
    {
     "name": "stdout",
     "output_type": "stream",
     "text": [
      "1 available GPUs (initially using device 0):\n",
      "  0 GeForce RTX 2080 Ti\n"
     ]
    }
   ],
   "source": [
    "device = select_gpu(0)\n",
    "##device = \"cpu\""
   ]
  },
  {
   "cell_type": "markdown",
   "metadata": {},
   "source": [
    "## Loading data\n",
    "\n",
    "Load the dataset, split into parts, then move to device (see `collectdata.py` in the `../model` directory)"
   ]
  },
  {
   "cell_type": "code",
   "execution_count": 9,
   "metadata": {
    "scrolled": false
   },
   "outputs": [
    {
     "name": "stdout",
     "output_type": "stream",
     "text": [
      "Loading data...\n",
      "len(X) =  20000\n",
      "len(Xlist) =  1\n",
      "Loaded /share/lazy/pv-finder/20k_evts_for_KDE_learning_200716.h5 in 4.53 s\n",
      "outer loop X.shape =  (20000, 6, 600)\n",
      "Constructing 18000 event dataset took 2.013 s\n",
      "x_t.shape =  torch.Size([18000, 6, 600])\n",
      "x_t.shape[0] =  18000\n",
      "x_t.shape[1] =  6\n",
      "x_t.shape =  torch.Size([18000, 6, 600])\n",
      "Loading data...\n",
      "len(X) =  20000\n",
      "len(Xlist) =  1\n",
      "Loaded /share/lazy/pv-finder/20k_evts_for_KDE_learning_200716.h5 in 4.173 s\n",
      "outer loop X.shape =  (20000, 6, 600)\n",
      "Constructing 2000 event dataset took 0.04537 s\n",
      "x_t.shape =  torch.Size([2000, 6, 600])\n",
      "x_t.shape[0] =  2000\n",
      "x_t.shape[1] =  6\n",
      "x_t.shape =  torch.Size([2000, 6, 600])\n"
     ]
    }
   ],
   "source": [
    "\n",
    "## Training dataset. You can put as many files here as desired.\n",
    "\n",
    "## in this DEMO example we use only one 80K training set -- the model starts with well-trained weights,\n",
    "## and using a smaller training set reduces both the time to load the data and the time to train an epoch\n",
    "\n",
    "train_loader = collect_t2kde_data('/share/lazy/pv-finder/20k_evts_for_KDE_learning_200716.h5',\n",
    "##train_loader = collect_t2kde_data('/share/lazy/pv-finder/test_data_for_KDE_learning_BastilleDay20.h5',\n",
    "                            batch_size=batch_size,\n",
    "## if we are using a larger dataset (240K events, with the datasets above, and 11 GB  of GPU memory),\n",
    "## the dataset will overflow the GPU memory; device=device will allow the data to move back\n",
    "## and forth between the CPU and GPU memory. While this allows use of a larger dataset, it slows\n",
    "## down performance by about 10%.  So comment out when not needed.\n",
    "                           device=device,\n",
    "                           slice = slice(None,18000)\n",
    "                           )\n",
    "                            \n",
    "# Validation dataset. You can slice to reduce the size.\n",
    "## mds no separate validation set yet,\n",
    "val_loader = collect_t2kde_data('/share/lazy/pv-finder/20k_evts_for_KDE_learning_200716.h5',\n",
    "                            batch_size=batch_size,\n",
    "                            device=device,\n",
    "                            slice = slice(18000,None)\n",
    "                           )"
   ]
  },
  {
   "cell_type": "markdown",
   "metadata": {},
   "source": [
    "# Preparing the model"
   ]
  },
  {
   "cell_type": "markdown",
   "metadata": {},
   "source": [
    "Prepare a model, use multiple GPUs if they are VISIBLE, and move the model to the device."
   ]
  },
  {
   "cell_type": "code",
   "execution_count": 10,
   "metadata": {
    "scrolled": true
   },
   "outputs": [
    {
     "name": "stdout",
     "output_type": "stream",
     "text": [
      "ct, child =  0    Linear(in_features=6, out_features=25, bias=True)\n",
      "ct, child =  1    Linear(in_features=25, out_features=25, bias=True)\n",
      "ct, child =  2    Linear(in_features=25, out_features=50, bias=True)\n",
      "ct, child =  3    Linear(in_features=50, out_features=4000, bias=True)\n"
     ]
    }
   ],
   "source": [
    "nOut1 = 25\n",
    "nOut2 = 25\n",
    "nOut3 = 50\n",
    "model = Model(nOut1,nOut2,nOut3)\n",
    "\n",
    "##summary(model, input_size=(4, 4000))\n",
    "##print(model.parameters)\n",
    "\n",
    "## add the following code to allow the user to freeze the some of the weights corresponding \n",
    "## to those taken from an earlier model trained with the original target histograms\n",
    "## presumably -- this leaves either the perturbative filter \"fixed\" and lets the \n",
    "## learning focus on the non-perturbative features, so get started faster, or vice versa\n",
    "ct = 0\n",
    "for child in model.children():\n",
    "  print('ct, child = ',ct, \"  \", child)\n",
    "  if ct < 0:\n",
    "    print(\"     About to set param.requires_grad=False for ct = \", ct, \"params\")\n",
    "    for param in child.parameters():\n",
    "        param.requires_grad = False \n",
    "  ct += 1\n",
    "##  mds 200121 loss = Loss(epsilon=1e-5,coefficient=1.0)\n",
    "##  loss = Loss(epsilon=1e-5,coefficient=2.5)\n",
    "loss = Loss(epsilon=1e-5)\n",
    "optimizer = torch.optim.Adam(model.parameters(), lr=learning_rate)"
   ]
  },
  {
   "cell_type": "code",
   "execution_count": 11,
   "metadata": {
    "scrolled": true
   },
   "outputs": [],
   "source": [
    "##print(\"Let's use\", torch.cuda.device_count(), \"GPUs!\")\n",
    "##if torch.cuda.device_count() > 1:\n",
    "##    model = torch.nn.DataParallel(model)"
   ]
  },
  {
   "cell_type": "markdown",
   "metadata": {},
   "source": [
    "Let's move the model's weight matricies to the GPU:"
   ]
  },
  {
   "cell_type": "code",
   "execution_count": 12,
   "metadata": {
    "scrolled": false
   },
   "outputs": [
    {
     "name": "stdout",
     "output_type": "stream",
     "text": [
      "output =  ML/29July2020_Trks_to_KDE_D_lossB_300_epochs_b32_1m3_nOut_25x25x50\n",
      "for model_dict\n",
      "index, k =   0    layer1.weight\n",
      "index, k =   1    layer1.bias\n",
      "index, k =   2    layer2.weight\n",
      "index, k =   3    layer2.bias\n",
      "index, k =   4    layer3.weight\n",
      "index, k =   5    layer3.bias\n",
      "index, k =   6    layer4.weight\n",
      "index, k =   7    layer4.bias\n",
      " \n",
      "   for pretrained_dict\n",
      "pretrained_dict iterated\n"
     ]
    }
   ],
   "source": [
    "print('output = ',output)\n",
    "##print('oldOutput = ',oldOutput)\n",
    "##  use the first four layers from a pre-existing model\n",
    "##  see example at https://discuss.pytorch.org/t/how-to-load-part-of-pre-trained-model/1113\n",
    "\n",
    "##   ML -> /share/lazy/sokoloff/ML\n",
    "model_dict = model.state_dict()\n",
    "## mds 190725 for debugging\n",
    "print(\"for model_dict\")\n",
    "index = 0\n",
    "for k,v in model_dict.items():\n",
    "    print(\"index, k =  \",index,\"  \",k)\n",
    "    index = index+1\n",
    "##    print(\"value = \", v)\n",
    " \n",
    "updated_dict = model_dict\n",
    "##print(\"updated_dict = \",updated_dict)\n",
    "## when starting \"ab initio\", reduce biases as the bias gets summed for each track\n",
    "## contributing to the predicted KDE\n",
    "updated_dict[\"layer1.bias\"] = 0.005*model_dict[\"layer1.bias\"]\n",
    "updated_dict[\"layer2.bias\"] = 0.005*model_dict[\"layer2.bias\"]\n",
    "updated_dict[\"layer2.bias\"] = 0.005*model_dict[\"layer2.bias\"]\n",
    "\n",
    "model.load_state_dict(updated_dict,strict=False)\n",
    "\n",
    "model_dict = model.state_dict()\n",
    "##print(\"updated model_dict = \",model_dict)\n",
    "\n",
    "print(\" \\n\",\"  for pretrained_dict\")\n",
    "index = 0\n",
    "##for k,v in pretrained_dict.items():\n",
    "##    print(\"index, k =  \",index,\"  \",k)\n",
    "##    index = index+1\n",
    "## mds  \n",
    "\n",
    "##pretrained_dict = torch.load('ML/29July2020_Trks_to_KDE_C_lossB_100epochs_b64_1m3_nOut_50x50/29July2020_Trks_to_KDE_C_lossB_100epochs_b64_1m3_nOut_50x50_final.pyt')\n",
    "##print(\"model_dict instantiated\")\n",
    "# 1. filter out unnecessary keys\n",
    "##pretrained_dict = {k: v for k, v in pretrained_dict.items() if k in model_dict}\n",
    "print(\"pretrained_dict iterated\")\n",
    "# 2. overwrite entries in the existing state dict\n",
    "##model_dict.update(pretrained_dict) \n",
    "##\n",
    "#   when starting from a model with a fully connected last layer rather than a convolutional layer\n",
    "# 3. load the new state dict\n",
    "#   need to use strict=False as the two models state model attributes do not agree exactly\n",
    "#   see https://pytorch.org/docs/master/_modules/torch/nn/modules/module.html#Module.load_state_dict\n",
    "\n",
    "##model.load_state_dict(pretrained_dict,strict=False)\n",
    "\n",
    "## print('model_dict =    ', model_dict)\n"
   ]
  },
  {
   "cell_type": "code",
   "execution_count": 13,
   "metadata": {},
   "outputs": [],
   "source": [
    "##print('validation.dataset.tensors = ',validation.dataset.tensors)\n",
    "fig_size = plt.rcParams[\"figure.figsize\"]\n",
    "fig_size[0] = 10\n",
    "fig_size[1] = 4\n",
    "plt.rcParams[\"figure.figsize\"] = fig_size"
   ]
  },
  {
   "cell_type": "code",
   "execution_count": 14,
   "metadata": {
    "scrolled": true
   },
   "outputs": [],
   "source": [
    "model = model.to(device)"
   ]
  },
  {
   "cell_type": "markdown",
   "metadata": {
    "scrolled": false
   },
   "source": [
    "with torch.no_grad():\n",
    "    counter = 0\n",
    "    event = 0\n",
    "    print(\"train_loader = \",train_loader)\n",
    "    for inputs, labels in train_loader:\n",
    "##        print(\"counter = \",counter)\n",
    "##        print(\"inputs = \",inputs)\n",
    "        print(\"inputs.shape = \",inputs.shape)\n",
    "        if inputs.device != device:\n",
    "            inputs, labels = inputs.to(device), labels.to(device)\n",
    "            \n",
    "        outputs = model(inputs)\n",
    "##        print(\"outputs.shape = \",outputs.shape)\n",
    "        nEvts = outputs.shape[0]\n",
    "        for iEvt in range(nEvts):\n",
    "            y_pred = outputs[iEvt,:]\n",
    "            y_pred = y_pred.cpu().numpy()\n",
    "            \n",
    "            event = event +1\n",
    "##            print(\"event = \",event)\n",
    "            if (event<5):\n",
    "                plt.figure()\n",
    "                plt.plot(y_pred[0:50])\n",
    "                plt.show()\n",
    "                \n",
    "##                print(\"  point AA \")\n",
    "                features = inputs[iEvt,:]\n",
    "                features = features[np.newaxis,:,:]\n",
    "                \n",
    "                \n",
    "                print(\"features.shape = \",features.shape)\n",
    "                \n",
    "                output_A = model(features)\n",
    "                y_prime = output_A[0,:]\n",
    "                y_prime = y_prime.cpu().numpy()\n",
    "                plt.figure()\n",
    "                plt.plot(y_prime[0:50], color=\"r\")\n",
    "                plt.show()\n",
    "                \n",
    "            \n",
    "\n",
    "##        print(\"nEvts = \",nEvts)\n",
    "        \n",
    "        counter = counter+1\n",
    "        \n",
    "        \n",
    "        "
   ]
  },
  {
   "cell_type": "code",
   "execution_count": 15,
   "metadata": {
    "scrolled": false
   },
   "outputs": [
    {
     "data": {
      "application/javascript": [
       "/* Put everything inside the global mpl namespace */\n",
       "window.mpl = {};\n",
       "\n",
       "\n",
       "mpl.get_websocket_type = function() {\n",
       "    if (typeof(WebSocket) !== 'undefined') {\n",
       "        return WebSocket;\n",
       "    } else if (typeof(MozWebSocket) !== 'undefined') {\n",
       "        return MozWebSocket;\n",
       "    } else {\n",
       "        alert('Your browser does not have WebSocket support. ' +\n",
       "              'Please try Chrome, Safari or Firefox ≥ 6. ' +\n",
       "              'Firefox 4 and 5 are also supported but you ' +\n",
       "              'have to enable WebSockets in about:config.');\n",
       "    };\n",
       "}\n",
       "\n",
       "mpl.figure = function(figure_id, websocket, ondownload, parent_element) {\n",
       "    this.id = figure_id;\n",
       "\n",
       "    this.ws = websocket;\n",
       "\n",
       "    this.supports_binary = (this.ws.binaryType != undefined);\n",
       "\n",
       "    if (!this.supports_binary) {\n",
       "        var warnings = document.getElementById(\"mpl-warnings\");\n",
       "        if (warnings) {\n",
       "            warnings.style.display = 'block';\n",
       "            warnings.textContent = (\n",
       "                \"This browser does not support binary websocket messages. \" +\n",
       "                    \"Performance may be slow.\");\n",
       "        }\n",
       "    }\n",
       "\n",
       "    this.imageObj = new Image();\n",
       "\n",
       "    this.context = undefined;\n",
       "    this.message = undefined;\n",
       "    this.canvas = undefined;\n",
       "    this.rubberband_canvas = undefined;\n",
       "    this.rubberband_context = undefined;\n",
       "    this.format_dropdown = undefined;\n",
       "\n",
       "    this.image_mode = 'full';\n",
       "\n",
       "    this.root = $('<div/>');\n",
       "    this._root_extra_style(this.root)\n",
       "    this.root.attr('style', 'display: inline-block');\n",
       "\n",
       "    $(parent_element).append(this.root);\n",
       "\n",
       "    this._init_header(this);\n",
       "    this._init_canvas(this);\n",
       "    this._init_toolbar(this);\n",
       "\n",
       "    var fig = this;\n",
       "\n",
       "    this.waiting = false;\n",
       "\n",
       "    this.ws.onopen =  function () {\n",
       "            fig.send_message(\"supports_binary\", {value: fig.supports_binary});\n",
       "            fig.send_message(\"send_image_mode\", {});\n",
       "            if (mpl.ratio != 1) {\n",
       "                fig.send_message(\"set_dpi_ratio\", {'dpi_ratio': mpl.ratio});\n",
       "            }\n",
       "            fig.send_message(\"refresh\", {});\n",
       "        }\n",
       "\n",
       "    this.imageObj.onload = function() {\n",
       "            if (fig.image_mode == 'full') {\n",
       "                // Full images could contain transparency (where diff images\n",
       "                // almost always do), so we need to clear the canvas so that\n",
       "                // there is no ghosting.\n",
       "                fig.context.clearRect(0, 0, fig.canvas.width, fig.canvas.height);\n",
       "            }\n",
       "            fig.context.drawImage(fig.imageObj, 0, 0);\n",
       "        };\n",
       "\n",
       "    this.imageObj.onunload = function() {\n",
       "        fig.ws.close();\n",
       "    }\n",
       "\n",
       "    this.ws.onmessage = this._make_on_message_function(this);\n",
       "\n",
       "    this.ondownload = ondownload;\n",
       "}\n",
       "\n",
       "mpl.figure.prototype._init_header = function() {\n",
       "    var titlebar = $(\n",
       "        '<div class=\"ui-dialog-titlebar ui-widget-header ui-corner-all ' +\n",
       "        'ui-helper-clearfix\"/>');\n",
       "    var titletext = $(\n",
       "        '<div class=\"ui-dialog-title\" style=\"width: 100%; ' +\n",
       "        'text-align: center; padding: 3px;\"/>');\n",
       "    titlebar.append(titletext)\n",
       "    this.root.append(titlebar);\n",
       "    this.header = titletext[0];\n",
       "}\n",
       "\n",
       "\n",
       "\n",
       "mpl.figure.prototype._canvas_extra_style = function(canvas_div) {\n",
       "\n",
       "}\n",
       "\n",
       "\n",
       "mpl.figure.prototype._root_extra_style = function(canvas_div) {\n",
       "\n",
       "}\n",
       "\n",
       "mpl.figure.prototype._init_canvas = function() {\n",
       "    var fig = this;\n",
       "\n",
       "    var canvas_div = $('<div/>');\n",
       "\n",
       "    canvas_div.attr('style', 'position: relative; clear: both; outline: 0');\n",
       "\n",
       "    function canvas_keyboard_event(event) {\n",
       "        return fig.key_event(event, event['data']);\n",
       "    }\n",
       "\n",
       "    canvas_div.keydown('key_press', canvas_keyboard_event);\n",
       "    canvas_div.keyup('key_release', canvas_keyboard_event);\n",
       "    this.canvas_div = canvas_div\n",
       "    this._canvas_extra_style(canvas_div)\n",
       "    this.root.append(canvas_div);\n",
       "\n",
       "    var canvas = $('<canvas/>');\n",
       "    canvas.addClass('mpl-canvas');\n",
       "    canvas.attr('style', \"left: 0; top: 0; z-index: 0; outline: 0\")\n",
       "\n",
       "    this.canvas = canvas[0];\n",
       "    this.context = canvas[0].getContext(\"2d\");\n",
       "\n",
       "    var backingStore = this.context.backingStorePixelRatio ||\n",
       "\tthis.context.webkitBackingStorePixelRatio ||\n",
       "\tthis.context.mozBackingStorePixelRatio ||\n",
       "\tthis.context.msBackingStorePixelRatio ||\n",
       "\tthis.context.oBackingStorePixelRatio ||\n",
       "\tthis.context.backingStorePixelRatio || 1;\n",
       "\n",
       "    mpl.ratio = (window.devicePixelRatio || 1) / backingStore;\n",
       "\n",
       "    var rubberband = $('<canvas/>');\n",
       "    rubberband.attr('style', \"position: absolute; left: 0; top: 0; z-index: 1;\")\n",
       "\n",
       "    var pass_mouse_events = true;\n",
       "\n",
       "    canvas_div.resizable({\n",
       "        start: function(event, ui) {\n",
       "            pass_mouse_events = false;\n",
       "        },\n",
       "        resize: function(event, ui) {\n",
       "            fig.request_resize(ui.size.width, ui.size.height);\n",
       "        },\n",
       "        stop: function(event, ui) {\n",
       "            pass_mouse_events = true;\n",
       "            fig.request_resize(ui.size.width, ui.size.height);\n",
       "        },\n",
       "    });\n",
       "\n",
       "    function mouse_event_fn(event) {\n",
       "        if (pass_mouse_events)\n",
       "            return fig.mouse_event(event, event['data']);\n",
       "    }\n",
       "\n",
       "    rubberband.mousedown('button_press', mouse_event_fn);\n",
       "    rubberband.mouseup('button_release', mouse_event_fn);\n",
       "    // Throttle sequential mouse events to 1 every 20ms.\n",
       "    rubberband.mousemove('motion_notify', mouse_event_fn);\n",
       "\n",
       "    rubberband.mouseenter('figure_enter', mouse_event_fn);\n",
       "    rubberband.mouseleave('figure_leave', mouse_event_fn);\n",
       "\n",
       "    canvas_div.on(\"wheel\", function (event) {\n",
       "        event = event.originalEvent;\n",
       "        event['data'] = 'scroll'\n",
       "        if (event.deltaY < 0) {\n",
       "            event.step = 1;\n",
       "        } else {\n",
       "            event.step = -1;\n",
       "        }\n",
       "        mouse_event_fn(event);\n",
       "    });\n",
       "\n",
       "    canvas_div.append(canvas);\n",
       "    canvas_div.append(rubberband);\n",
       "\n",
       "    this.rubberband = rubberband;\n",
       "    this.rubberband_canvas = rubberband[0];\n",
       "    this.rubberband_context = rubberband[0].getContext(\"2d\");\n",
       "    this.rubberband_context.strokeStyle = \"#000000\";\n",
       "\n",
       "    this._resize_canvas = function(width, height) {\n",
       "        // Keep the size of the canvas, canvas container, and rubber band\n",
       "        // canvas in synch.\n",
       "        canvas_div.css('width', width)\n",
       "        canvas_div.css('height', height)\n",
       "\n",
       "        canvas.attr('width', width * mpl.ratio);\n",
       "        canvas.attr('height', height * mpl.ratio);\n",
       "        canvas.attr('style', 'width: ' + width + 'px; height: ' + height + 'px;');\n",
       "\n",
       "        rubberband.attr('width', width);\n",
       "        rubberband.attr('height', height);\n",
       "    }\n",
       "\n",
       "    // Set the figure to an initial 600x600px, this will subsequently be updated\n",
       "    // upon first draw.\n",
       "    this._resize_canvas(600, 600);\n",
       "\n",
       "    // Disable right mouse context menu.\n",
       "    $(this.rubberband_canvas).bind(\"contextmenu\",function(e){\n",
       "        return false;\n",
       "    });\n",
       "\n",
       "    function set_focus () {\n",
       "        canvas.focus();\n",
       "        canvas_div.focus();\n",
       "    }\n",
       "\n",
       "    window.setTimeout(set_focus, 100);\n",
       "}\n",
       "\n",
       "mpl.figure.prototype._init_toolbar = function() {\n",
       "    var fig = this;\n",
       "\n",
       "    var nav_element = $('<div/>');\n",
       "    nav_element.attr('style', 'width: 100%');\n",
       "    this.root.append(nav_element);\n",
       "\n",
       "    // Define a callback function for later on.\n",
       "    function toolbar_event(event) {\n",
       "        return fig.toolbar_button_onclick(event['data']);\n",
       "    }\n",
       "    function toolbar_mouse_event(event) {\n",
       "        return fig.toolbar_button_onmouseover(event['data']);\n",
       "    }\n",
       "\n",
       "    for(var toolbar_ind in mpl.toolbar_items) {\n",
       "        var name = mpl.toolbar_items[toolbar_ind][0];\n",
       "        var tooltip = mpl.toolbar_items[toolbar_ind][1];\n",
       "        var image = mpl.toolbar_items[toolbar_ind][2];\n",
       "        var method_name = mpl.toolbar_items[toolbar_ind][3];\n",
       "\n",
       "        if (!name) {\n",
       "            // put a spacer in here.\n",
       "            continue;\n",
       "        }\n",
       "        var button = $('<button/>');\n",
       "        button.addClass('ui-button ui-widget ui-state-default ui-corner-all ' +\n",
       "                        'ui-button-icon-only');\n",
       "        button.attr('role', 'button');\n",
       "        button.attr('aria-disabled', 'false');\n",
       "        button.click(method_name, toolbar_event);\n",
       "        button.mouseover(tooltip, toolbar_mouse_event);\n",
       "\n",
       "        var icon_img = $('<span/>');\n",
       "        icon_img.addClass('ui-button-icon-primary ui-icon');\n",
       "        icon_img.addClass(image);\n",
       "        icon_img.addClass('ui-corner-all');\n",
       "\n",
       "        var tooltip_span = $('<span/>');\n",
       "        tooltip_span.addClass('ui-button-text');\n",
       "        tooltip_span.html(tooltip);\n",
       "\n",
       "        button.append(icon_img);\n",
       "        button.append(tooltip_span);\n",
       "\n",
       "        nav_element.append(button);\n",
       "    }\n",
       "\n",
       "    var fmt_picker_span = $('<span/>');\n",
       "\n",
       "    var fmt_picker = $('<select/>');\n",
       "    fmt_picker.addClass('mpl-toolbar-option ui-widget ui-widget-content');\n",
       "    fmt_picker_span.append(fmt_picker);\n",
       "    nav_element.append(fmt_picker_span);\n",
       "    this.format_dropdown = fmt_picker[0];\n",
       "\n",
       "    for (var ind in mpl.extensions) {\n",
       "        var fmt = mpl.extensions[ind];\n",
       "        var option = $(\n",
       "            '<option/>', {selected: fmt === mpl.default_extension}).html(fmt);\n",
       "        fmt_picker.append(option);\n",
       "    }\n",
       "\n",
       "    // Add hover states to the ui-buttons\n",
       "    $( \".ui-button\" ).hover(\n",
       "        function() { $(this).addClass(\"ui-state-hover\");},\n",
       "        function() { $(this).removeClass(\"ui-state-hover\");}\n",
       "    );\n",
       "\n",
       "    var status_bar = $('<span class=\"mpl-message\"/>');\n",
       "    nav_element.append(status_bar);\n",
       "    this.message = status_bar[0];\n",
       "}\n",
       "\n",
       "mpl.figure.prototype.request_resize = function(x_pixels, y_pixels) {\n",
       "    // Request matplotlib to resize the figure. Matplotlib will then trigger a resize in the client,\n",
       "    // which will in turn request a refresh of the image.\n",
       "    this.send_message('resize', {'width': x_pixels, 'height': y_pixels});\n",
       "}\n",
       "\n",
       "mpl.figure.prototype.send_message = function(type, properties) {\n",
       "    properties['type'] = type;\n",
       "    properties['figure_id'] = this.id;\n",
       "    this.ws.send(JSON.stringify(properties));\n",
       "}\n",
       "\n",
       "mpl.figure.prototype.send_draw_message = function() {\n",
       "    if (!this.waiting) {\n",
       "        this.waiting = true;\n",
       "        this.ws.send(JSON.stringify({type: \"draw\", figure_id: this.id}));\n",
       "    }\n",
       "}\n",
       "\n",
       "\n",
       "mpl.figure.prototype.handle_save = function(fig, msg) {\n",
       "    var format_dropdown = fig.format_dropdown;\n",
       "    var format = format_dropdown.options[format_dropdown.selectedIndex].value;\n",
       "    fig.ondownload(fig, format);\n",
       "}\n",
       "\n",
       "\n",
       "mpl.figure.prototype.handle_resize = function(fig, msg) {\n",
       "    var size = msg['size'];\n",
       "    if (size[0] != fig.canvas.width || size[1] != fig.canvas.height) {\n",
       "        fig._resize_canvas(size[0], size[1]);\n",
       "        fig.send_message(\"refresh\", {});\n",
       "    };\n",
       "}\n",
       "\n",
       "mpl.figure.prototype.handle_rubberband = function(fig, msg) {\n",
       "    var x0 = msg['x0'] / mpl.ratio;\n",
       "    var y0 = (fig.canvas.height - msg['y0']) / mpl.ratio;\n",
       "    var x1 = msg['x1'] / mpl.ratio;\n",
       "    var y1 = (fig.canvas.height - msg['y1']) / mpl.ratio;\n",
       "    x0 = Math.floor(x0) + 0.5;\n",
       "    y0 = Math.floor(y0) + 0.5;\n",
       "    x1 = Math.floor(x1) + 0.5;\n",
       "    y1 = Math.floor(y1) + 0.5;\n",
       "    var min_x = Math.min(x0, x1);\n",
       "    var min_y = Math.min(y0, y1);\n",
       "    var width = Math.abs(x1 - x0);\n",
       "    var height = Math.abs(y1 - y0);\n",
       "\n",
       "    fig.rubberband_context.clearRect(\n",
       "        0, 0, fig.canvas.width / mpl.ratio, fig.canvas.height / mpl.ratio);\n",
       "\n",
       "    fig.rubberband_context.strokeRect(min_x, min_y, width, height);\n",
       "}\n",
       "\n",
       "mpl.figure.prototype.handle_figure_label = function(fig, msg) {\n",
       "    // Updates the figure title.\n",
       "    fig.header.textContent = msg['label'];\n",
       "}\n",
       "\n",
       "mpl.figure.prototype.handle_cursor = function(fig, msg) {\n",
       "    var cursor = msg['cursor'];\n",
       "    switch(cursor)\n",
       "    {\n",
       "    case 0:\n",
       "        cursor = 'pointer';\n",
       "        break;\n",
       "    case 1:\n",
       "        cursor = 'default';\n",
       "        break;\n",
       "    case 2:\n",
       "        cursor = 'crosshair';\n",
       "        break;\n",
       "    case 3:\n",
       "        cursor = 'move';\n",
       "        break;\n",
       "    }\n",
       "    fig.rubberband_canvas.style.cursor = cursor;\n",
       "}\n",
       "\n",
       "mpl.figure.prototype.handle_message = function(fig, msg) {\n",
       "    fig.message.textContent = msg['message'];\n",
       "}\n",
       "\n",
       "mpl.figure.prototype.handle_draw = function(fig, msg) {\n",
       "    // Request the server to send over a new figure.\n",
       "    fig.send_draw_message();\n",
       "}\n",
       "\n",
       "mpl.figure.prototype.handle_image_mode = function(fig, msg) {\n",
       "    fig.image_mode = msg['mode'];\n",
       "}\n",
       "\n",
       "mpl.figure.prototype.updated_canvas_event = function() {\n",
       "    // Called whenever the canvas gets updated.\n",
       "    this.send_message(\"ack\", {});\n",
       "}\n",
       "\n",
       "// A function to construct a web socket function for onmessage handling.\n",
       "// Called in the figure constructor.\n",
       "mpl.figure.prototype._make_on_message_function = function(fig) {\n",
       "    return function socket_on_message(evt) {\n",
       "        if (evt.data instanceof Blob) {\n",
       "            /* FIXME: We get \"Resource interpreted as Image but\n",
       "             * transferred with MIME type text/plain:\" errors on\n",
       "             * Chrome.  But how to set the MIME type?  It doesn't seem\n",
       "             * to be part of the websocket stream */\n",
       "            evt.data.type = \"image/png\";\n",
       "\n",
       "            /* Free the memory for the previous frames */\n",
       "            if (fig.imageObj.src) {\n",
       "                (window.URL || window.webkitURL).revokeObjectURL(\n",
       "                    fig.imageObj.src);\n",
       "            }\n",
       "\n",
       "            fig.imageObj.src = (window.URL || window.webkitURL).createObjectURL(\n",
       "                evt.data);\n",
       "            fig.updated_canvas_event();\n",
       "            fig.waiting = false;\n",
       "            return;\n",
       "        }\n",
       "        else if (typeof evt.data === 'string' && evt.data.slice(0, 21) == \"data:image/png;base64\") {\n",
       "            fig.imageObj.src = evt.data;\n",
       "            fig.updated_canvas_event();\n",
       "            fig.waiting = false;\n",
       "            return;\n",
       "        }\n",
       "\n",
       "        var msg = JSON.parse(evt.data);\n",
       "        var msg_type = msg['type'];\n",
       "\n",
       "        // Call the  \"handle_{type}\" callback, which takes\n",
       "        // the figure and JSON message as its only arguments.\n",
       "        try {\n",
       "            var callback = fig[\"handle_\" + msg_type];\n",
       "        } catch (e) {\n",
       "            console.log(\"No handler for the '\" + msg_type + \"' message type: \", msg);\n",
       "            return;\n",
       "        }\n",
       "\n",
       "        if (callback) {\n",
       "            try {\n",
       "                // console.log(\"Handling '\" + msg_type + \"' message: \", msg);\n",
       "                callback(fig, msg);\n",
       "            } catch (e) {\n",
       "                console.log(\"Exception inside the 'handler_\" + msg_type + \"' callback:\", e, e.stack, msg);\n",
       "            }\n",
       "        }\n",
       "    };\n",
       "}\n",
       "\n",
       "// from http://stackoverflow.com/questions/1114465/getting-mouse-location-in-canvas\n",
       "mpl.findpos = function(e) {\n",
       "    //this section is from http://www.quirksmode.org/js/events_properties.html\n",
       "    var targ;\n",
       "    if (!e)\n",
       "        e = window.event;\n",
       "    if (e.target)\n",
       "        targ = e.target;\n",
       "    else if (e.srcElement)\n",
       "        targ = e.srcElement;\n",
       "    if (targ.nodeType == 3) // defeat Safari bug\n",
       "        targ = targ.parentNode;\n",
       "\n",
       "    // jQuery normalizes the pageX and pageY\n",
       "    // pageX,Y are the mouse positions relative to the document\n",
       "    // offset() returns the position of the element relative to the document\n",
       "    var x = e.pageX - $(targ).offset().left;\n",
       "    var y = e.pageY - $(targ).offset().top;\n",
       "\n",
       "    return {\"x\": x, \"y\": y};\n",
       "};\n",
       "\n",
       "/*\n",
       " * return a copy of an object with only non-object keys\n",
       " * we need this to avoid circular references\n",
       " * http://stackoverflow.com/a/24161582/3208463\n",
       " */\n",
       "function simpleKeys (original) {\n",
       "  return Object.keys(original).reduce(function (obj, key) {\n",
       "    if (typeof original[key] !== 'object')\n",
       "        obj[key] = original[key]\n",
       "    return obj;\n",
       "  }, {});\n",
       "}\n",
       "\n",
       "mpl.figure.prototype.mouse_event = function(event, name) {\n",
       "    var canvas_pos = mpl.findpos(event)\n",
       "\n",
       "    if (name === 'button_press')\n",
       "    {\n",
       "        this.canvas.focus();\n",
       "        this.canvas_div.focus();\n",
       "    }\n",
       "\n",
       "    var x = canvas_pos.x * mpl.ratio;\n",
       "    var y = canvas_pos.y * mpl.ratio;\n",
       "\n",
       "    this.send_message(name, {x: x, y: y, button: event.button,\n",
       "                             step: event.step,\n",
       "                             guiEvent: simpleKeys(event)});\n",
       "\n",
       "    /* This prevents the web browser from automatically changing to\n",
       "     * the text insertion cursor when the button is pressed.  We want\n",
       "     * to control all of the cursor setting manually through the\n",
       "     * 'cursor' event from matplotlib */\n",
       "    event.preventDefault();\n",
       "    return false;\n",
       "}\n",
       "\n",
       "mpl.figure.prototype._key_event_extra = function(event, name) {\n",
       "    // Handle any extra behaviour associated with a key event\n",
       "}\n",
       "\n",
       "mpl.figure.prototype.key_event = function(event, name) {\n",
       "\n",
       "    // Prevent repeat events\n",
       "    if (name == 'key_press')\n",
       "    {\n",
       "        if (event.which === this._key)\n",
       "            return;\n",
       "        else\n",
       "            this._key = event.which;\n",
       "    }\n",
       "    if (name == 'key_release')\n",
       "        this._key = null;\n",
       "\n",
       "    var value = '';\n",
       "    if (event.ctrlKey && event.which != 17)\n",
       "        value += \"ctrl+\";\n",
       "    if (event.altKey && event.which != 18)\n",
       "        value += \"alt+\";\n",
       "    if (event.shiftKey && event.which != 16)\n",
       "        value += \"shift+\";\n",
       "\n",
       "    value += 'k';\n",
       "    value += event.which.toString();\n",
       "\n",
       "    this._key_event_extra(event, name);\n",
       "\n",
       "    this.send_message(name, {key: value,\n",
       "                             guiEvent: simpleKeys(event)});\n",
       "    return false;\n",
       "}\n",
       "\n",
       "mpl.figure.prototype.toolbar_button_onclick = function(name) {\n",
       "    if (name == 'download') {\n",
       "        this.handle_save(this, null);\n",
       "    } else {\n",
       "        this.send_message(\"toolbar_button\", {name: name});\n",
       "    }\n",
       "};\n",
       "\n",
       "mpl.figure.prototype.toolbar_button_onmouseover = function(tooltip) {\n",
       "    this.message.textContent = tooltip;\n",
       "};\n",
       "mpl.toolbar_items = [[\"Home\", \"Reset original view\", \"fa fa-home icon-home\", \"home\"], [\"Back\", \"Back to previous view\", \"fa fa-arrow-left icon-arrow-left\", \"back\"], [\"Forward\", \"Forward to next view\", \"fa fa-arrow-right icon-arrow-right\", \"forward\"], [\"\", \"\", \"\", \"\"], [\"Pan\", \"Pan axes with left mouse, zoom with right\", \"fa fa-arrows icon-move\", \"pan\"], [\"Zoom\", \"Zoom to rectangle\", \"fa fa-square-o icon-check-empty\", \"zoom\"], [\"\", \"\", \"\", \"\"], [\"Download\", \"Download plot\", \"fa fa-floppy-o icon-save\", \"download\"]];\n",
       "\n",
       "mpl.extensions = [\"eps\", \"jpeg\", \"pdf\", \"png\", \"ps\", \"raw\", \"svg\", \"tif\"];\n",
       "\n",
       "mpl.default_extension = \"png\";var comm_websocket_adapter = function(comm) {\n",
       "    // Create a \"websocket\"-like object which calls the given IPython comm\n",
       "    // object with the appropriate methods. Currently this is a non binary\n",
       "    // socket, so there is still some room for performance tuning.\n",
       "    var ws = {};\n",
       "\n",
       "    ws.close = function() {\n",
       "        comm.close()\n",
       "    };\n",
       "    ws.send = function(m) {\n",
       "        //console.log('sending', m);\n",
       "        comm.send(m);\n",
       "    };\n",
       "    // Register the callback with on_msg.\n",
       "    comm.on_msg(function(msg) {\n",
       "        //console.log('receiving', msg['content']['data'], msg);\n",
       "        // Pass the mpl event to the overridden (by mpl) onmessage function.\n",
       "        ws.onmessage(msg['content']['data'])\n",
       "    });\n",
       "    return ws;\n",
       "}\n",
       "\n",
       "mpl.mpl_figure_comm = function(comm, msg) {\n",
       "    // This is the function which gets called when the mpl process\n",
       "    // starts-up an IPython Comm through the \"matplotlib\" channel.\n",
       "\n",
       "    var id = msg.content.data.id;\n",
       "    // Get hold of the div created by the display call when the Comm\n",
       "    // socket was opened in Python.\n",
       "    var element = $(\"#\" + id);\n",
       "    var ws_proxy = comm_websocket_adapter(comm)\n",
       "\n",
       "    function ondownload(figure, format) {\n",
       "        window.open(figure.imageObj.src);\n",
       "    }\n",
       "\n",
       "    var fig = new mpl.figure(id, ws_proxy,\n",
       "                           ondownload,\n",
       "                           element.get(0));\n",
       "\n",
       "    // Call onopen now - mpl needs it, as it is assuming we've passed it a real\n",
       "    // web socket which is closed, not our websocket->open comm proxy.\n",
       "    ws_proxy.onopen();\n",
       "\n",
       "    fig.parent_element = element.get(0);\n",
       "    fig.cell_info = mpl.find_output_cell(\"<div id='\" + id + \"'></div>\");\n",
       "    if (!fig.cell_info) {\n",
       "        console.error(\"Failed to find cell for figure\", id, fig);\n",
       "        return;\n",
       "    }\n",
       "\n",
       "    var output_index = fig.cell_info[2]\n",
       "    var cell = fig.cell_info[0];\n",
       "\n",
       "};\n",
       "\n",
       "mpl.figure.prototype.handle_close = function(fig, msg) {\n",
       "    var width = fig.canvas.width/mpl.ratio\n",
       "    fig.root.unbind('remove')\n",
       "\n",
       "    // Update the output cell to use the data from the current canvas.\n",
       "    fig.push_to_output();\n",
       "    var dataURL = fig.canvas.toDataURL();\n",
       "    // Re-enable the keyboard manager in IPython - without this line, in FF,\n",
       "    // the notebook keyboard shortcuts fail.\n",
       "    IPython.keyboard_manager.enable()\n",
       "    $(fig.parent_element).html('<img src=\"' + dataURL + '\" width=\"' + width + '\">');\n",
       "    fig.close_ws(fig, msg);\n",
       "}\n",
       "\n",
       "mpl.figure.prototype.close_ws = function(fig, msg){\n",
       "    fig.send_message('closing', msg);\n",
       "    // fig.ws.close()\n",
       "}\n",
       "\n",
       "mpl.figure.prototype.push_to_output = function(remove_interactive) {\n",
       "    // Turn the data on the canvas into data in the output cell.\n",
       "    var width = this.canvas.width/mpl.ratio\n",
       "    var dataURL = this.canvas.toDataURL();\n",
       "    this.cell_info[1]['text/html'] = '<img src=\"' + dataURL + '\" width=\"' + width + '\">';\n",
       "}\n",
       "\n",
       "mpl.figure.prototype.updated_canvas_event = function() {\n",
       "    // Tell IPython that the notebook contents must change.\n",
       "    IPython.notebook.set_dirty(true);\n",
       "    this.send_message(\"ack\", {});\n",
       "    var fig = this;\n",
       "    // Wait a second, then push the new image to the DOM so\n",
       "    // that it is saved nicely (might be nice to debounce this).\n",
       "    setTimeout(function () { fig.push_to_output() }, 1000);\n",
       "}\n",
       "\n",
       "mpl.figure.prototype._init_toolbar = function() {\n",
       "    var fig = this;\n",
       "\n",
       "    var nav_element = $('<div/>');\n",
       "    nav_element.attr('style', 'width: 100%');\n",
       "    this.root.append(nav_element);\n",
       "\n",
       "    // Define a callback function for later on.\n",
       "    function toolbar_event(event) {\n",
       "        return fig.toolbar_button_onclick(event['data']);\n",
       "    }\n",
       "    function toolbar_mouse_event(event) {\n",
       "        return fig.toolbar_button_onmouseover(event['data']);\n",
       "    }\n",
       "\n",
       "    for(var toolbar_ind in mpl.toolbar_items){\n",
       "        var name = mpl.toolbar_items[toolbar_ind][0];\n",
       "        var tooltip = mpl.toolbar_items[toolbar_ind][1];\n",
       "        var image = mpl.toolbar_items[toolbar_ind][2];\n",
       "        var method_name = mpl.toolbar_items[toolbar_ind][3];\n",
       "\n",
       "        if (!name) { continue; };\n",
       "\n",
       "        var button = $('<button class=\"btn btn-default\" href=\"#\" title=\"' + name + '\"><i class=\"fa ' + image + ' fa-lg\"></i></button>');\n",
       "        button.click(method_name, toolbar_event);\n",
       "        button.mouseover(tooltip, toolbar_mouse_event);\n",
       "        nav_element.append(button);\n",
       "    }\n",
       "\n",
       "    // Add the status bar.\n",
       "    var status_bar = $('<span class=\"mpl-message\" style=\"text-align:right; float: right;\"/>');\n",
       "    nav_element.append(status_bar);\n",
       "    this.message = status_bar[0];\n",
       "\n",
       "    // Add the close button to the window.\n",
       "    var buttongrp = $('<div class=\"btn-group inline pull-right\"></div>');\n",
       "    var button = $('<button class=\"btn btn-mini btn-primary\" href=\"#\" title=\"Stop Interaction\"><i class=\"fa fa-power-off icon-remove icon-large\"></i></button>');\n",
       "    button.click(function (evt) { fig.handle_close(fig, {}); } );\n",
       "    button.mouseover('Stop Interaction', toolbar_mouse_event);\n",
       "    buttongrp.append(button);\n",
       "    var titlebar = this.root.find($('.ui-dialog-titlebar'));\n",
       "    titlebar.prepend(buttongrp);\n",
       "}\n",
       "\n",
       "mpl.figure.prototype._root_extra_style = function(el){\n",
       "    var fig = this\n",
       "    el.on(\"remove\", function(){\n",
       "\tfig.close_ws(fig, {});\n",
       "    });\n",
       "}\n",
       "\n",
       "mpl.figure.prototype._canvas_extra_style = function(el){\n",
       "    // this is important to make the div 'focusable\n",
       "    el.attr('tabindex', 0)\n",
       "    // reach out to IPython and tell the keyboard manager to turn it's self\n",
       "    // off when our div gets focus\n",
       "\n",
       "    // location in version 3\n",
       "    if (IPython.notebook.keyboard_manager) {\n",
       "        IPython.notebook.keyboard_manager.register_events(el);\n",
       "    }\n",
       "    else {\n",
       "        // location in version 2\n",
       "        IPython.keyboard_manager.register_events(el);\n",
       "    }\n",
       "\n",
       "}\n",
       "\n",
       "mpl.figure.prototype._key_event_extra = function(event, name) {\n",
       "    var manager = IPython.notebook.keyboard_manager;\n",
       "    if (!manager)\n",
       "        manager = IPython.keyboard_manager;\n",
       "\n",
       "    // Check for shift+enter\n",
       "    if (event.shiftKey && event.which == 13) {\n",
       "        this.canvas_div.blur();\n",
       "        // select the cell after this one\n",
       "        var index = IPython.notebook.find_cell_index(this.cell_info[0]);\n",
       "        IPython.notebook.select(index + 1);\n",
       "    }\n",
       "}\n",
       "\n",
       "mpl.figure.prototype.handle_save = function(fig, msg) {\n",
       "    fig.ondownload(fig, null);\n",
       "}\n",
       "\n",
       "\n",
       "mpl.find_output_cell = function(html_output) {\n",
       "    // Return the cell and output element which can be found *uniquely* in the notebook.\n",
       "    // Note - this is a bit hacky, but it is done because the \"notebook_saving.Notebook\"\n",
       "    // IPython event is triggered only after the cells have been serialised, which for\n",
       "    // our purposes (turning an active figure into a static one), is too late.\n",
       "    var cells = IPython.notebook.get_cells();\n",
       "    var ncells = cells.length;\n",
       "    for (var i=0; i<ncells; i++) {\n",
       "        var cell = cells[i];\n",
       "        if (cell.cell_type === 'code'){\n",
       "            for (var j=0; j<cell.output_area.outputs.length; j++) {\n",
       "                var data = cell.output_area.outputs[j];\n",
       "                if (data.data) {\n",
       "                    // IPython >= 3 moved mimebundle to data attribute of output\n",
       "                    data = data.data;\n",
       "                }\n",
       "                if (data['text/html'] == html_output) {\n",
       "                    return [cell, data, j];\n",
       "                }\n",
       "            }\n",
       "        }\n",
       "    }\n",
       "}\n",
       "\n",
       "// Register the function which deals with the matplotlib target/channel.\n",
       "// The kernel may be null if the page has been refreshed.\n",
       "if (IPython.notebook.kernel != null) {\n",
       "    IPython.notebook.kernel.comm_manager.register_target('matplotlib', mpl.mpl_figure_comm);\n",
       "}\n"
      ],
      "text/plain": [
       "<IPython.core.display.Javascript object>"
      ]
     },
     "metadata": {},
     "output_type": "display_data"
    },
    {
     "data": {
      "text/html": [
       "<img src=\"data:image/png;base64,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\" width=\"1000\">"
      ],
      "text/plain": [
       "<IPython.core.display.HTML object>"
      ]
     },
     "metadata": {},
     "output_type": "display_data"
    }
   ],
   "source": [
    "ax, tax, lax, lines = dual_train_plots()\n",
    "fig = ax.figure\n",
    "plt.tight_layout()"
   ]
  },
  {
   "cell_type": "code",
   "execution_count": 16,
   "metadata": {},
   "outputs": [
    {
     "name": "stdout",
     "output_type": "stream",
     "text": [
      "Number of batches: train = 563, val = 63\n"
     ]
    },
    {
     "data": {
      "application/vnd.jupyter.widget-view+json": {
       "model_id": "04c9638ec607484e82614d01355fb4e1",
       "version_major": 2,
       "version_minor": 0
      },
      "text/plain": [
       "HBox(children=(FloatProgress(value=0.0, description='Epochs', layout=Layout(flex='2'), max=300.0, style=Progre…"
      ]
     },
     "metadata": {},
     "output_type": "display_data"
    },
    {
     "name": "stdout",
     "output_type": "stream",
     "text": [
      "Number of batches: train = 563, val = 63\n"
     ]
    },
    {
     "data": {
      "application/vnd.jupyter.widget-view+json": {
       "model_id": "",
       "version_major": 2,
       "version_minor": 0
      },
      "text/plain": [
       "HBox(children=(FloatProgress(value=0.0, description='Training', layout=Layout(flex='2'), max=563.0, style=Prog…"
      ]
     },
     "metadata": {},
     "output_type": "display_data"
    },
    {
     "name": "stdout",
     "output_type": "stream",
     "text": [
      "Epoch 0: train=75.1135, val=61.6105, took 8.3589 s\n"
     ]
    },
    {
     "data": {
      "application/vnd.jupyter.widget-view+json": {
       "model_id": "",
       "version_major": 2,
       "version_minor": 0
      },
      "text/plain": [
       "HBox(children=(FloatProgress(value=0.0, description='Training', layout=Layout(flex='2'), max=563.0, style=Prog…"
      ]
     },
     "metadata": {},
     "output_type": "display_data"
    },
    {
     "name": "stdout",
     "output_type": "stream",
     "text": [
      "Epoch 1: train=61.6791, val=60.334, took 7.842 s\n"
     ]
    },
    {
     "data": {
      "application/vnd.jupyter.widget-view+json": {
       "model_id": "",
       "version_major": 2,
       "version_minor": 0
      },
      "text/plain": [
       "HBox(children=(FloatProgress(value=0.0, description='Training', layout=Layout(flex='2'), max=563.0, style=Prog…"
      ]
     },
     "metadata": {},
     "output_type": "display_data"
    },
    {
     "name": "stdout",
     "output_type": "stream",
     "text": [
      "Epoch 2: train=58.6144, val=56.0795, took 7.8702 s\n"
     ]
    },
    {
     "data": {
      "application/vnd.jupyter.widget-view+json": {
       "model_id": "",
       "version_major": 2,
       "version_minor": 0
      },
      "text/plain": [
       "HBox(children=(FloatProgress(value=0.0, description='Training', layout=Layout(flex='2'), max=563.0, style=Prog…"
      ]
     },
     "metadata": {},
     "output_type": "display_data"
    },
    {
     "name": "stdout",
     "output_type": "stream",
     "text": [
      "Epoch 3: train=55.2432, val=53.1946, took 7.8678 s\n"
     ]
    },
    {
     "data": {
      "application/vnd.jupyter.widget-view+json": {
       "model_id": "",
       "version_major": 2,
       "version_minor": 0
      },
      "text/plain": [
       "HBox(children=(FloatProgress(value=0.0, description='Training', layout=Layout(flex='2'), max=563.0, style=Prog…"
      ]
     },
     "metadata": {},
     "output_type": "display_data"
    },
    {
     "name": "stdout",
     "output_type": "stream",
     "text": [
      "Epoch 4: train=51.4893, val=48.0346, took 7.8806 s\n"
     ]
    },
    {
     "data": {
      "application/vnd.jupyter.widget-view+json": {
       "model_id": "",
       "version_major": 2,
       "version_minor": 0
      },
      "text/plain": [
       "HBox(children=(FloatProgress(value=0.0, description='Training', layout=Layout(flex='2'), max=563.0, style=Prog…"
      ]
     },
     "metadata": {},
     "output_type": "display_data"
    },
    {
     "name": "stdout",
     "output_type": "stream",
     "text": [
      "Epoch 5: train=46.4897, val=43.1027, took 7.8841 s\n"
     ]
    },
    {
     "data": {
      "application/vnd.jupyter.widget-view+json": {
       "model_id": "",
       "version_major": 2,
       "version_minor": 0
      },
      "text/plain": [
       "HBox(children=(FloatProgress(value=0.0, description='Training', layout=Layout(flex='2'), max=563.0, style=Prog…"
      ]
     },
     "metadata": {},
     "output_type": "display_data"
    },
    {
     "name": "stdout",
     "output_type": "stream",
     "text": [
      "Epoch 6: train=40.3535, val=37.7674, took 7.8995 s\n"
     ]
    },
    {
     "data": {
      "application/vnd.jupyter.widget-view+json": {
       "model_id": "",
       "version_major": 2,
       "version_minor": 0
      },
      "text/plain": [
       "HBox(children=(FloatProgress(value=0.0, description='Training', layout=Layout(flex='2'), max=563.0, style=Prog…"
      ]
     },
     "metadata": {},
     "output_type": "display_data"
    },
    {
     "name": "stdout",
     "output_type": "stream",
     "text": [
      "Epoch 7: train=36.8073, val=35.8662, took 7.898 s\n"
     ]
    },
    {
     "data": {
      "application/vnd.jupyter.widget-view+json": {
       "model_id": "",
       "version_major": 2,
       "version_minor": 0
      },
      "text/plain": [
       "HBox(children=(FloatProgress(value=0.0, description='Training', layout=Layout(flex='2'), max=563.0, style=Prog…"
      ]
     },
     "metadata": {},
     "output_type": "display_data"
    },
    {
     "name": "stdout",
     "output_type": "stream",
     "text": [
      "Epoch 8: train=35.5198, val=35.0037, took 7.9058 s\n"
     ]
    },
    {
     "data": {
      "application/vnd.jupyter.widget-view+json": {
       "model_id": "",
       "version_major": 2,
       "version_minor": 0
      },
      "text/plain": [
       "HBox(children=(FloatProgress(value=0.0, description='Training', layout=Layout(flex='2'), max=563.0, style=Prog…"
      ]
     },
     "metadata": {},
     "output_type": "display_data"
    },
    {
     "name": "stdout",
     "output_type": "stream",
     "text": [
      "Epoch 9: train=34.7195, val=34.3163, took 7.9117 s\n"
     ]
    },
    {
     "data": {
      "application/vnd.jupyter.widget-view+json": {
       "model_id": "",
       "version_major": 2,
       "version_minor": 0
      },
      "text/plain": [
       "HBox(children=(FloatProgress(value=0.0, description='Training', layout=Layout(flex='2'), max=563.0, style=Prog…"
      ]
     },
     "metadata": {},
     "output_type": "display_data"
    },
    {
     "name": "stdout",
     "output_type": "stream",
     "text": [
      "Epoch 10: train=34.0401, val=33.6178, took 7.9203 s\n"
     ]
    },
    {
     "data": {
      "application/vnd.jupyter.widget-view+json": {
       "model_id": "",
       "version_major": 2,
       "version_minor": 0
      },
      "text/plain": [
       "HBox(children=(FloatProgress(value=0.0, description='Training', layout=Layout(flex='2'), max=563.0, style=Prog…"
      ]
     },
     "metadata": {},
     "output_type": "display_data"
    },
    {
     "name": "stdout",
     "output_type": "stream",
     "text": [
      "Epoch 11: train=33.3828, val=32.9582, took 7.9211 s\n"
     ]
    },
    {
     "data": {
      "application/vnd.jupyter.widget-view+json": {
       "model_id": "",
       "version_major": 2,
       "version_minor": 0
      },
      "text/plain": [
       "HBox(children=(FloatProgress(value=0.0, description='Training', layout=Layout(flex='2'), max=563.0, style=Prog…"
      ]
     },
     "metadata": {},
     "output_type": "display_data"
    },
    {
     "name": "stdout",
     "output_type": "stream",
     "text": [
      "Epoch 12: train=32.7735, val=32.3923, took 7.9276 s\n"
     ]
    },
    {
     "data": {
      "application/vnd.jupyter.widget-view+json": {
       "model_id": "",
       "version_major": 2,
       "version_minor": 0
      },
      "text/plain": [
       "HBox(children=(FloatProgress(value=0.0, description='Training', layout=Layout(flex='2'), max=563.0, style=Prog…"
      ]
     },
     "metadata": {},
     "output_type": "display_data"
    },
    {
     "name": "stdout",
     "output_type": "stream",
     "text": [
      "Epoch 13: train=32.2222, val=31.8548, took 7.9602 s\n"
     ]
    },
    {
     "data": {
      "application/vnd.jupyter.widget-view+json": {
       "model_id": "",
       "version_major": 2,
       "version_minor": 0
      },
      "text/plain": [
       "HBox(children=(FloatProgress(value=0.0, description='Training', layout=Layout(flex='2'), max=563.0, style=Prog…"
      ]
     },
     "metadata": {},
     "output_type": "display_data"
    },
    {
     "name": "stdout",
     "output_type": "stream",
     "text": [
      "Epoch 14: train=31.7358, val=31.3604, took 7.9368 s\n"
     ]
    },
    {
     "data": {
      "application/vnd.jupyter.widget-view+json": {
       "model_id": "",
       "version_major": 2,
       "version_minor": 0
      },
      "text/plain": [
       "HBox(children=(FloatProgress(value=0.0, description='Training', layout=Layout(flex='2'), max=563.0, style=Prog…"
      ]
     },
     "metadata": {},
     "output_type": "display_data"
    },
    {
     "name": "stdout",
     "output_type": "stream",
     "text": [
      "Epoch 15: train=31.2829, val=30.9751, took 7.9237 s\n"
     ]
    },
    {
     "data": {
      "application/vnd.jupyter.widget-view+json": {
       "model_id": "",
       "version_major": 2,
       "version_minor": 0
      },
      "text/plain": [
       "HBox(children=(FloatProgress(value=0.0, description='Training', layout=Layout(flex='2'), max=563.0, style=Prog…"
      ]
     },
     "metadata": {},
     "output_type": "display_data"
    },
    {
     "name": "stdout",
     "output_type": "stream",
     "text": [
      "Epoch 16: train=30.8667, val=30.6022, took 7.937 s\n"
     ]
    },
    {
     "data": {
      "application/vnd.jupyter.widget-view+json": {
       "model_id": "",
       "version_major": 2,
       "version_minor": 0
      },
      "text/plain": [
       "HBox(children=(FloatProgress(value=0.0, description='Training', layout=Layout(flex='2'), max=563.0, style=Prog…"
      ]
     },
     "metadata": {},
     "output_type": "display_data"
    },
    {
     "name": "stdout",
     "output_type": "stream",
     "text": [
      "Epoch 17: train=30.4545, val=30.1877, took 7.9349 s\n"
     ]
    },
    {
     "data": {
      "application/vnd.jupyter.widget-view+json": {
       "model_id": "",
       "version_major": 2,
       "version_minor": 0
      },
      "text/plain": [
       "HBox(children=(FloatProgress(value=0.0, description='Training', layout=Layout(flex='2'), max=563.0, style=Prog…"
      ]
     },
     "metadata": {},
     "output_type": "display_data"
    },
    {
     "name": "stdout",
     "output_type": "stream",
     "text": [
      "Epoch 18: train=30.0459, val=29.7517, took 7.9381 s\n"
     ]
    },
    {
     "data": {
      "application/vnd.jupyter.widget-view+json": {
       "model_id": "",
       "version_major": 2,
       "version_minor": 0
      },
      "text/plain": [
       "HBox(children=(FloatProgress(value=0.0, description='Training', layout=Layout(flex='2'), max=563.0, style=Prog…"
      ]
     },
     "metadata": {},
     "output_type": "display_data"
    },
    {
     "name": "stdout",
     "output_type": "stream",
     "text": [
      "Epoch 19: train=29.639, val=29.3097, took 7.9481 s\n"
     ]
    },
    {
     "data": {
      "application/vnd.jupyter.widget-view+json": {
       "model_id": "",
       "version_major": 2,
       "version_minor": 0
      },
      "text/plain": [
       "HBox(children=(FloatProgress(value=0.0, description='Training', layout=Layout(flex='2'), max=563.0, style=Prog…"
      ]
     },
     "metadata": {},
     "output_type": "display_data"
    },
    {
     "name": "stdout",
     "output_type": "stream",
     "text": [
      "Epoch 20: train=29.2296, val=28.9055, took 7.9848 s\n"
     ]
    },
    {
     "data": {
      "application/vnd.jupyter.widget-view+json": {
       "model_id": "",
       "version_major": 2,
       "version_minor": 0
      },
      "text/plain": [
       "HBox(children=(FloatProgress(value=0.0, description='Training', layout=Layout(flex='2'), max=563.0, style=Prog…"
      ]
     },
     "metadata": {},
     "output_type": "display_data"
    },
    {
     "name": "stdout",
     "output_type": "stream",
     "text": [
      "Epoch 21: train=28.8773, val=28.5771, took 8.0063 s\n"
     ]
    },
    {
     "data": {
      "application/vnd.jupyter.widget-view+json": {
       "model_id": "",
       "version_major": 2,
       "version_minor": 0
      },
      "text/plain": [
       "HBox(children=(FloatProgress(value=0.0, description='Training', layout=Layout(flex='2'), max=563.0, style=Prog…"
      ]
     },
     "metadata": {},
     "output_type": "display_data"
    },
    {
     "name": "stdout",
     "output_type": "stream",
     "text": [
      "Epoch 22: train=28.5872, val=28.2738, took 8.092 s\n"
     ]
    },
    {
     "data": {
      "application/vnd.jupyter.widget-view+json": {
       "model_id": "",
       "version_major": 2,
       "version_minor": 0
      },
      "text/plain": [
       "HBox(children=(FloatProgress(value=0.0, description='Training', layout=Layout(flex='2'), max=563.0, style=Prog…"
      ]
     },
     "metadata": {},
     "output_type": "display_data"
    },
    {
     "name": "stdout",
     "output_type": "stream",
     "text": [
      "Epoch 23: train=28.3246, val=28.0022, took 8.0804 s\n"
     ]
    },
    {
     "data": {
      "application/vnd.jupyter.widget-view+json": {
       "model_id": "",
       "version_major": 2,
       "version_minor": 0
      },
      "text/plain": [
       "HBox(children=(FloatProgress(value=0.0, description='Training', layout=Layout(flex='2'), max=563.0, style=Prog…"
      ]
     },
     "metadata": {},
     "output_type": "display_data"
    },
    {
     "name": "stdout",
     "output_type": "stream",
     "text": [
      "Epoch 24: train=28.0959, val=27.7765, took 7.9509 s\n"
     ]
    },
    {
     "data": {
      "application/vnd.jupyter.widget-view+json": {
       "model_id": "",
       "version_major": 2,
       "version_minor": 0
      },
      "text/plain": [
       "HBox(children=(FloatProgress(value=0.0, description='Training', layout=Layout(flex='2'), max=563.0, style=Prog…"
      ]
     },
     "metadata": {},
     "output_type": "display_data"
    },
    {
     "name": "stdout",
     "output_type": "stream",
     "text": [
      "Epoch 25: train=27.8832, val=27.5365, took 7.9565 s\n"
     ]
    },
    {
     "data": {
      "application/vnd.jupyter.widget-view+json": {
       "model_id": "",
       "version_major": 2,
       "version_minor": 0
      },
      "text/plain": [
       "HBox(children=(FloatProgress(value=0.0, description='Training', layout=Layout(flex='2'), max=563.0, style=Prog…"
      ]
     },
     "metadata": {},
     "output_type": "display_data"
    },
    {
     "name": "stdout",
     "output_type": "stream",
     "text": [
      "Epoch 26: train=27.6837, val=27.3031, took 8.0065 s\n"
     ]
    },
    {
     "data": {
      "application/vnd.jupyter.widget-view+json": {
       "model_id": "",
       "version_major": 2,
       "version_minor": 0
      },
      "text/plain": [
       "HBox(children=(FloatProgress(value=0.0, description='Training', layout=Layout(flex='2'), max=563.0, style=Prog…"
      ]
     },
     "metadata": {},
     "output_type": "display_data"
    },
    {
     "name": "stdout",
     "output_type": "stream",
     "text": [
      "Epoch 27: train=27.4908, val=27.0974, took 8.0011 s\n"
     ]
    },
    {
     "data": {
      "application/vnd.jupyter.widget-view+json": {
       "model_id": "",
       "version_major": 2,
       "version_minor": 0
      },
      "text/plain": [
       "HBox(children=(FloatProgress(value=0.0, description='Training', layout=Layout(flex='2'), max=563.0, style=Prog…"
      ]
     },
     "metadata": {},
     "output_type": "display_data"
    },
    {
     "name": "stdout",
     "output_type": "stream",
     "text": [
      "Epoch 28: train=27.3003, val=26.8861, took 7.971 s\n"
     ]
    },
    {
     "data": {
      "application/vnd.jupyter.widget-view+json": {
       "model_id": "",
       "version_major": 2,
       "version_minor": 0
      },
      "text/plain": [
       "HBox(children=(FloatProgress(value=0.0, description='Training', layout=Layout(flex='2'), max=563.0, style=Prog…"
      ]
     },
     "metadata": {},
     "output_type": "display_data"
    },
    {
     "name": "stdout",
     "output_type": "stream",
     "text": [
      "Epoch 29: train=27.1136, val=26.6873, took 8.0026 s\n"
     ]
    },
    {
     "data": {
      "application/vnd.jupyter.widget-view+json": {
       "model_id": "",
       "version_major": 2,
       "version_minor": 0
      },
      "text/plain": [
       "HBox(children=(FloatProgress(value=0.0, description='Training', layout=Layout(flex='2'), max=563.0, style=Prog…"
      ]
     },
     "metadata": {},
     "output_type": "display_data"
    },
    {
     "name": "stdout",
     "output_type": "stream",
     "text": [
      "Epoch 30: train=26.9273, val=26.4882, took 8.0349 s\n"
     ]
    },
    {
     "data": {
      "application/vnd.jupyter.widget-view+json": {
       "model_id": "",
       "version_major": 2,
       "version_minor": 0
      },
      "text/plain": [
       "HBox(children=(FloatProgress(value=0.0, description='Training', layout=Layout(flex='2'), max=563.0, style=Prog…"
      ]
     },
     "metadata": {},
     "output_type": "display_data"
    },
    {
     "name": "stdout",
     "output_type": "stream",
     "text": [
      "Epoch 31: train=26.7376, val=26.2971, took 8.027 s\n"
     ]
    },
    {
     "data": {
      "application/vnd.jupyter.widget-view+json": {
       "model_id": "",
       "version_major": 2,
       "version_minor": 0
      },
      "text/plain": [
       "HBox(children=(FloatProgress(value=0.0, description='Training', layout=Layout(flex='2'), max=563.0, style=Prog…"
      ]
     },
     "metadata": {},
     "output_type": "display_data"
    },
    {
     "name": "stdout",
     "output_type": "stream",
     "text": [
      "Epoch 32: train=26.5466, val=26.1037, took 7.9833 s\n"
     ]
    },
    {
     "data": {
      "application/vnd.jupyter.widget-view+json": {
       "model_id": "",
       "version_major": 2,
       "version_minor": 0
      },
      "text/plain": [
       "HBox(children=(FloatProgress(value=0.0, description='Training', layout=Layout(flex='2'), max=563.0, style=Prog…"
      ]
     },
     "metadata": {},
     "output_type": "display_data"
    },
    {
     "name": "stdout",
     "output_type": "stream",
     "text": [
      "Epoch 33: train=26.3608, val=25.933, took 8.0443 s\n"
     ]
    },
    {
     "data": {
      "application/vnd.jupyter.widget-view+json": {
       "model_id": "",
       "version_major": 2,
       "version_minor": 0
      },
      "text/plain": [
       "HBox(children=(FloatProgress(value=0.0, description='Training', layout=Layout(flex='2'), max=563.0, style=Prog…"
      ]
     },
     "metadata": {},
     "output_type": "display_data"
    },
    {
     "name": "stdout",
     "output_type": "stream",
     "text": [
      "Epoch 34: train=26.1926, val=25.7751, took 8.2209 s\n"
     ]
    },
    {
     "data": {
      "application/vnd.jupyter.widget-view+json": {
       "model_id": "",
       "version_major": 2,
       "version_minor": 0
      },
      "text/plain": [
       "HBox(children=(FloatProgress(value=0.0, description='Training', layout=Layout(flex='2'), max=563.0, style=Prog…"
      ]
     },
     "metadata": {},
     "output_type": "display_data"
    },
    {
     "name": "stdout",
     "output_type": "stream",
     "text": [
      "Epoch 35: train=26.052, val=25.6384, took 8.293 s\n"
     ]
    },
    {
     "data": {
      "application/vnd.jupyter.widget-view+json": {
       "model_id": "",
       "version_major": 2,
       "version_minor": 0
      },
      "text/plain": [
       "HBox(children=(FloatProgress(value=0.0, description='Training', layout=Layout(flex='2'), max=563.0, style=Prog…"
      ]
     },
     "metadata": {},
     "output_type": "display_data"
    },
    {
     "name": "stdout",
     "output_type": "stream",
     "text": [
      "Epoch 36: train=25.9327, val=25.5278, took 8.296 s\n"
     ]
    },
    {
     "data": {
      "application/vnd.jupyter.widget-view+json": {
       "model_id": "",
       "version_major": 2,
       "version_minor": 0
      },
      "text/plain": [
       "HBox(children=(FloatProgress(value=0.0, description='Training', layout=Layout(flex='2'), max=563.0, style=Prog…"
      ]
     },
     "metadata": {},
     "output_type": "display_data"
    },
    {
     "name": "stdout",
     "output_type": "stream",
     "text": [
      "Epoch 37: train=25.8279, val=25.4286, took 8.2968 s\n"
     ]
    },
    {
     "data": {
      "application/vnd.jupyter.widget-view+json": {
       "model_id": "",
       "version_major": 2,
       "version_minor": 0
      },
      "text/plain": [
       "HBox(children=(FloatProgress(value=0.0, description='Training', layout=Layout(flex='2'), max=563.0, style=Prog…"
      ]
     },
     "metadata": {},
     "output_type": "display_data"
    },
    {
     "name": "stdout",
     "output_type": "stream",
     "text": [
      "Epoch 38: train=25.7397, val=25.3246, took 8.2989 s\n"
     ]
    },
    {
     "data": {
      "application/vnd.jupyter.widget-view+json": {
       "model_id": "",
       "version_major": 2,
       "version_minor": 0
      },
      "text/plain": [
       "HBox(children=(FloatProgress(value=0.0, description='Training', layout=Layout(flex='2'), max=563.0, style=Prog…"
      ]
     },
     "metadata": {},
     "output_type": "display_data"
    },
    {
     "name": "stdout",
     "output_type": "stream",
     "text": [
      "Epoch 39: train=25.6537, val=25.2454, took 8.1323 s\n"
     ]
    },
    {
     "data": {
      "application/vnd.jupyter.widget-view+json": {
       "model_id": "",
       "version_major": 2,
       "version_minor": 0
      },
      "text/plain": [
       "HBox(children=(FloatProgress(value=0.0, description='Training', layout=Layout(flex='2'), max=563.0, style=Prog…"
      ]
     },
     "metadata": {},
     "output_type": "display_data"
    },
    {
     "name": "stdout",
     "output_type": "stream",
     "text": [
      "Epoch 40: train=25.5778, val=25.1725, took 8.0106 s\n"
     ]
    },
    {
     "data": {
      "application/vnd.jupyter.widget-view+json": {
       "model_id": "",
       "version_major": 2,
       "version_minor": 0
      },
      "text/plain": [
       "HBox(children=(FloatProgress(value=0.0, description='Training', layout=Layout(flex='2'), max=563.0, style=Prog…"
      ]
     },
     "metadata": {},
     "output_type": "display_data"
    },
    {
     "name": "stdout",
     "output_type": "stream",
     "text": [
      "Epoch 41: train=25.5145, val=25.1098, took 8.1036 s\n"
     ]
    },
    {
     "data": {
      "application/vnd.jupyter.widget-view+json": {
       "model_id": "",
       "version_major": 2,
       "version_minor": 0
      },
      "text/plain": [
       "HBox(children=(FloatProgress(value=0.0, description='Training', layout=Layout(flex='2'), max=563.0, style=Prog…"
      ]
     },
     "metadata": {},
     "output_type": "display_data"
    },
    {
     "name": "stdout",
     "output_type": "stream",
     "text": [
      "Epoch 42: train=25.4634, val=25.0774, took 8.0791 s\n"
     ]
    },
    {
     "data": {
      "application/vnd.jupyter.widget-view+json": {
       "model_id": "",
       "version_major": 2,
       "version_minor": 0
      },
      "text/plain": [
       "HBox(children=(FloatProgress(value=0.0, description='Training', layout=Layout(flex='2'), max=563.0, style=Prog…"
      ]
     },
     "metadata": {},
     "output_type": "display_data"
    },
    {
     "name": "stdout",
     "output_type": "stream",
     "text": [
      "Epoch 43: train=25.4278, val=25.0528, took 8.1913 s\n"
     ]
    },
    {
     "data": {
      "application/vnd.jupyter.widget-view+json": {
       "model_id": "",
       "version_major": 2,
       "version_minor": 0
      },
      "text/plain": [
       "HBox(children=(FloatProgress(value=0.0, description='Training', layout=Layout(flex='2'), max=563.0, style=Prog…"
      ]
     },
     "metadata": {},
     "output_type": "display_data"
    },
    {
     "name": "stdout",
     "output_type": "stream",
     "text": [
      "Epoch 44: train=25.3975, val=25.0279, took 8.2151 s\n"
     ]
    },
    {
     "data": {
      "application/vnd.jupyter.widget-view+json": {
       "model_id": "",
       "version_major": 2,
       "version_minor": 0
      },
      "text/plain": [
       "HBox(children=(FloatProgress(value=0.0, description='Training', layout=Layout(flex='2'), max=563.0, style=Prog…"
      ]
     },
     "metadata": {},
     "output_type": "display_data"
    },
    {
     "name": "stdout",
     "output_type": "stream",
     "text": [
      "Epoch 45: train=25.3698, val=25.0015, took 8.2088 s\n"
     ]
    },
    {
     "data": {
      "application/vnd.jupyter.widget-view+json": {
       "model_id": "",
       "version_major": 2,
       "version_minor": 0
      },
      "text/plain": [
       "HBox(children=(FloatProgress(value=0.0, description='Training', layout=Layout(flex='2'), max=563.0, style=Prog…"
      ]
     },
     "metadata": {},
     "output_type": "display_data"
    },
    {
     "name": "stdout",
     "output_type": "stream",
     "text": [
      "Epoch 46: train=25.3477, val=24.9791, took 8.1813 s\n"
     ]
    },
    {
     "data": {
      "application/vnd.jupyter.widget-view+json": {
       "model_id": "",
       "version_major": 2,
       "version_minor": 0
      },
      "text/plain": [
       "HBox(children=(FloatProgress(value=0.0, description='Training', layout=Layout(flex='2'), max=563.0, style=Prog…"
      ]
     },
     "metadata": {},
     "output_type": "display_data"
    },
    {
     "name": "stdout",
     "output_type": "stream",
     "text": [
      "Epoch 47: train=25.3283, val=24.9615, took 8.1444 s\n"
     ]
    },
    {
     "data": {
      "application/vnd.jupyter.widget-view+json": {
       "model_id": "",
       "version_major": 2,
       "version_minor": 0
      },
      "text/plain": [
       "HBox(children=(FloatProgress(value=0.0, description='Training', layout=Layout(flex='2'), max=563.0, style=Prog…"
      ]
     },
     "metadata": {},
     "output_type": "display_data"
    },
    {
     "name": "stdout",
     "output_type": "stream",
     "text": [
      "Epoch 48: train=25.3111, val=24.9401, took 8.0171 s\n"
     ]
    },
    {
     "data": {
      "application/vnd.jupyter.widget-view+json": {
       "model_id": "",
       "version_major": 2,
       "version_minor": 0
      },
      "text/plain": [
       "HBox(children=(FloatProgress(value=0.0, description='Training', layout=Layout(flex='2'), max=563.0, style=Prog…"
      ]
     },
     "metadata": {},
     "output_type": "display_data"
    },
    {
     "name": "stdout",
     "output_type": "stream",
     "text": [
      "Epoch 49: train=25.2943, val=24.9296, took 8.0165 s\n"
     ]
    },
    {
     "data": {
      "application/vnd.jupyter.widget-view+json": {
       "model_id": "",
       "version_major": 2,
       "version_minor": 0
      },
      "text/plain": [
       "HBox(children=(FloatProgress(value=0.0, description='Training', layout=Layout(flex='2'), max=563.0, style=Prog…"
      ]
     },
     "metadata": {},
     "output_type": "display_data"
    },
    {
     "name": "stdout",
     "output_type": "stream",
     "text": [
      "Epoch 50: train=25.279, val=24.9106, took 8.0126 s\n"
     ]
    },
    {
     "data": {
      "application/vnd.jupyter.widget-view+json": {
       "model_id": "",
       "version_major": 2,
       "version_minor": 0
      },
      "text/plain": [
       "HBox(children=(FloatProgress(value=0.0, description='Training', layout=Layout(flex='2'), max=563.0, style=Prog…"
      ]
     },
     "metadata": {},
     "output_type": "display_data"
    },
    {
     "name": "stdout",
     "output_type": "stream",
     "text": [
      "Epoch 51: train=25.2663, val=24.9024, took 8.0354 s\n"
     ]
    },
    {
     "data": {
      "application/vnd.jupyter.widget-view+json": {
       "model_id": "",
       "version_major": 2,
       "version_minor": 0
      },
      "text/plain": [
       "HBox(children=(FloatProgress(value=0.0, description='Training', layout=Layout(flex='2'), max=563.0, style=Prog…"
      ]
     },
     "metadata": {},
     "output_type": "display_data"
    },
    {
     "name": "stdout",
     "output_type": "stream",
     "text": [
      "Epoch 52: train=25.2539, val=24.8853, took 8.0723 s\n"
     ]
    },
    {
     "data": {
      "application/vnd.jupyter.widget-view+json": {
       "model_id": "",
       "version_major": 2,
       "version_minor": 0
      },
      "text/plain": [
       "HBox(children=(FloatProgress(value=0.0, description='Training', layout=Layout(flex='2'), max=563.0, style=Prog…"
      ]
     },
     "metadata": {},
     "output_type": "display_data"
    },
    {
     "name": "stdout",
     "output_type": "stream",
     "text": [
      "Epoch 53: train=25.2432, val=24.8718, took 8.0859 s\n"
     ]
    },
    {
     "data": {
      "application/vnd.jupyter.widget-view+json": {
       "model_id": "",
       "version_major": 2,
       "version_minor": 0
      },
      "text/plain": [
       "HBox(children=(FloatProgress(value=0.0, description='Training', layout=Layout(flex='2'), max=563.0, style=Prog…"
      ]
     },
     "metadata": {},
     "output_type": "display_data"
    },
    {
     "name": "stdout",
     "output_type": "stream",
     "text": [
      "Epoch 54: train=25.2299, val=24.8541, took 8.076 s\n"
     ]
    },
    {
     "data": {
      "application/vnd.jupyter.widget-view+json": {
       "model_id": "",
       "version_major": 2,
       "version_minor": 0
      },
      "text/plain": [
       "HBox(children=(FloatProgress(value=0.0, description='Training', layout=Layout(flex='2'), max=563.0, style=Prog…"
      ]
     },
     "metadata": {},
     "output_type": "display_data"
    },
    {
     "name": "stdout",
     "output_type": "stream",
     "text": [
      "Epoch 55: train=25.2157, val=24.8416, took 8.0268 s\n"
     ]
    },
    {
     "data": {
      "application/vnd.jupyter.widget-view+json": {
       "model_id": "",
       "version_major": 2,
       "version_minor": 0
      },
      "text/plain": [
       "HBox(children=(FloatProgress(value=0.0, description='Training', layout=Layout(flex='2'), max=563.0, style=Prog…"
      ]
     },
     "metadata": {},
     "output_type": "display_data"
    },
    {
     "name": "stdout",
     "output_type": "stream",
     "text": [
      "Epoch 56: train=25.2042, val=24.8363, took 8.0334 s\n"
     ]
    },
    {
     "data": {
      "application/vnd.jupyter.widget-view+json": {
       "model_id": "",
       "version_major": 2,
       "version_minor": 0
      },
      "text/plain": [
       "HBox(children=(FloatProgress(value=0.0, description='Training', layout=Layout(flex='2'), max=563.0, style=Prog…"
      ]
     },
     "metadata": {},
     "output_type": "display_data"
    },
    {
     "name": "stdout",
     "output_type": "stream",
     "text": [
      "Epoch 57: train=25.1941, val=24.83, took 8.0236 s\n"
     ]
    },
    {
     "data": {
      "application/vnd.jupyter.widget-view+json": {
       "model_id": "",
       "version_major": 2,
       "version_minor": 0
      },
      "text/plain": [
       "HBox(children=(FloatProgress(value=0.0, description='Training', layout=Layout(flex='2'), max=563.0, style=Prog…"
      ]
     },
     "metadata": {},
     "output_type": "display_data"
    },
    {
     "name": "stdout",
     "output_type": "stream",
     "text": [
      "Epoch 58: train=25.1847, val=24.8198, took 8.0281 s\n"
     ]
    },
    {
     "data": {
      "application/vnd.jupyter.widget-view+json": {
       "model_id": "",
       "version_major": 2,
       "version_minor": 0
      },
      "text/plain": [
       "HBox(children=(FloatProgress(value=0.0, description='Training', layout=Layout(flex='2'), max=563.0, style=Prog…"
      ]
     },
     "metadata": {},
     "output_type": "display_data"
    },
    {
     "name": "stdout",
     "output_type": "stream",
     "text": [
      "Epoch 59: train=25.1741, val=24.8209, took 8.0376 s\n"
     ]
    },
    {
     "data": {
      "application/vnd.jupyter.widget-view+json": {
       "model_id": "",
       "version_major": 2,
       "version_minor": 0
      },
      "text/plain": [
       "HBox(children=(FloatProgress(value=0.0, description='Training', layout=Layout(flex='2'), max=563.0, style=Prog…"
      ]
     },
     "metadata": {},
     "output_type": "display_data"
    },
    {
     "name": "stdout",
     "output_type": "stream",
     "text": [
      "Epoch 60: train=25.1646, val=24.8138, took 8.0259 s\n"
     ]
    },
    {
     "data": {
      "application/vnd.jupyter.widget-view+json": {
       "model_id": "",
       "version_major": 2,
       "version_minor": 0
      },
      "text/plain": [
       "HBox(children=(FloatProgress(value=0.0, description='Training', layout=Layout(flex='2'), max=563.0, style=Prog…"
      ]
     },
     "metadata": {},
     "output_type": "display_data"
    },
    {
     "name": "stdout",
     "output_type": "stream",
     "text": [
      "Epoch 61: train=25.155, val=24.8068, took 8.0406 s\n"
     ]
    },
    {
     "data": {
      "application/vnd.jupyter.widget-view+json": {
       "model_id": "",
       "version_major": 2,
       "version_minor": 0
      },
      "text/plain": [
       "HBox(children=(FloatProgress(value=0.0, description='Training', layout=Layout(flex='2'), max=563.0, style=Prog…"
      ]
     },
     "metadata": {},
     "output_type": "display_data"
    },
    {
     "name": "stdout",
     "output_type": "stream",
     "text": [
      "Epoch 62: train=25.1458, val=24.8037, took 8.0407 s\n"
     ]
    },
    {
     "data": {
      "application/vnd.jupyter.widget-view+json": {
       "model_id": "",
       "version_major": 2,
       "version_minor": 0
      },
      "text/plain": [
       "HBox(children=(FloatProgress(value=0.0, description='Training', layout=Layout(flex='2'), max=563.0, style=Prog…"
      ]
     },
     "metadata": {},
     "output_type": "display_data"
    },
    {
     "name": "stdout",
     "output_type": "stream",
     "text": [
      "Epoch 63: train=25.1377, val=24.797, took 8.1026 s\n"
     ]
    },
    {
     "data": {
      "application/vnd.jupyter.widget-view+json": {
       "model_id": "",
       "version_major": 2,
       "version_minor": 0
      },
      "text/plain": [
       "HBox(children=(FloatProgress(value=0.0, description='Training', layout=Layout(flex='2'), max=563.0, style=Prog…"
      ]
     },
     "metadata": {},
     "output_type": "display_data"
    },
    {
     "name": "stdout",
     "output_type": "stream",
     "text": [
      "Epoch 64: train=25.1288, val=24.7919, took 8.0863 s\n"
     ]
    },
    {
     "data": {
      "application/vnd.jupyter.widget-view+json": {
       "model_id": "",
       "version_major": 2,
       "version_minor": 0
      },
      "text/plain": [
       "HBox(children=(FloatProgress(value=0.0, description='Training', layout=Layout(flex='2'), max=563.0, style=Prog…"
      ]
     },
     "metadata": {},
     "output_type": "display_data"
    },
    {
     "name": "stdout",
     "output_type": "stream",
     "text": [
      "Epoch 65: train=25.119, val=24.79, took 8.0851 s\n"
     ]
    },
    {
     "data": {
      "application/vnd.jupyter.widget-view+json": {
       "model_id": "",
       "version_major": 2,
       "version_minor": 0
      },
      "text/plain": [
       "HBox(children=(FloatProgress(value=0.0, description='Training', layout=Layout(flex='2'), max=563.0, style=Prog…"
      ]
     },
     "metadata": {},
     "output_type": "display_data"
    },
    {
     "name": "stdout",
     "output_type": "stream",
     "text": [
      "Epoch 66: train=25.1102, val=24.7885, took 8.0704 s\n"
     ]
    },
    {
     "data": {
      "application/vnd.jupyter.widget-view+json": {
       "model_id": "",
       "version_major": 2,
       "version_minor": 0
      },
      "text/plain": [
       "HBox(children=(FloatProgress(value=0.0, description='Training', layout=Layout(flex='2'), max=563.0, style=Prog…"
      ]
     },
     "metadata": {},
     "output_type": "display_data"
    },
    {
     "name": "stdout",
     "output_type": "stream",
     "text": [
      "Epoch 67: train=25.1018, val=24.7822, took 8.0718 s\n"
     ]
    },
    {
     "data": {
      "application/vnd.jupyter.widget-view+json": {
       "model_id": "",
       "version_major": 2,
       "version_minor": 0
      },
      "text/plain": [
       "HBox(children=(FloatProgress(value=0.0, description='Training', layout=Layout(flex='2'), max=563.0, style=Prog…"
      ]
     },
     "metadata": {},
     "output_type": "display_data"
    },
    {
     "name": "stdout",
     "output_type": "stream",
     "text": [
      "Epoch 68: train=25.0933, val=24.7736, took 8.0709 s\n"
     ]
    },
    {
     "data": {
      "application/vnd.jupyter.widget-view+json": {
       "model_id": "",
       "version_major": 2,
       "version_minor": 0
      },
      "text/plain": [
       "HBox(children=(FloatProgress(value=0.0, description='Training', layout=Layout(flex='2'), max=563.0, style=Prog…"
      ]
     },
     "metadata": {},
     "output_type": "display_data"
    },
    {
     "name": "stdout",
     "output_type": "stream",
     "text": [
      "Epoch 69: train=25.0841, val=24.769, took 8.1215 s\n"
     ]
    },
    {
     "data": {
      "application/vnd.jupyter.widget-view+json": {
       "model_id": "",
       "version_major": 2,
       "version_minor": 0
      },
      "text/plain": [
       "HBox(children=(FloatProgress(value=0.0, description='Training', layout=Layout(flex='2'), max=563.0, style=Prog…"
      ]
     },
     "metadata": {},
     "output_type": "display_data"
    },
    {
     "name": "stdout",
     "output_type": "stream",
     "text": [
      "Epoch 70: train=25.0755, val=24.764, took 8.1247 s\n"
     ]
    },
    {
     "data": {
      "application/vnd.jupyter.widget-view+json": {
       "model_id": "",
       "version_major": 2,
       "version_minor": 0
      },
      "text/plain": [
       "HBox(children=(FloatProgress(value=0.0, description='Training', layout=Layout(flex='2'), max=563.0, style=Prog…"
      ]
     },
     "metadata": {},
     "output_type": "display_data"
    },
    {
     "name": "stdout",
     "output_type": "stream",
     "text": [
      "Epoch 71: train=25.0667, val=24.7661, took 8.0467 s\n"
     ]
    },
    {
     "data": {
      "application/vnd.jupyter.widget-view+json": {
       "model_id": "",
       "version_major": 2,
       "version_minor": 0
      },
      "text/plain": [
       "HBox(children=(FloatProgress(value=0.0, description='Training', layout=Layout(flex='2'), max=563.0, style=Prog…"
      ]
     },
     "metadata": {},
     "output_type": "display_data"
    },
    {
     "name": "stdout",
     "output_type": "stream",
     "text": [
      "Epoch 72: train=25.0586, val=24.7541, took 8.0164 s\n"
     ]
    },
    {
     "data": {
      "application/vnd.jupyter.widget-view+json": {
       "model_id": "",
       "version_major": 2,
       "version_minor": 0
      },
      "text/plain": [
       "HBox(children=(FloatProgress(value=0.0, description='Training', layout=Layout(flex='2'), max=563.0, style=Prog…"
      ]
     },
     "metadata": {},
     "output_type": "display_data"
    },
    {
     "name": "stdout",
     "output_type": "stream",
     "text": [
      "Epoch 73: train=25.0498, val=24.7509, took 8.0046 s\n"
     ]
    },
    {
     "data": {
      "application/vnd.jupyter.widget-view+json": {
       "model_id": "",
       "version_major": 2,
       "version_minor": 0
      },
      "text/plain": [
       "HBox(children=(FloatProgress(value=0.0, description='Training', layout=Layout(flex='2'), max=563.0, style=Prog…"
      ]
     },
     "metadata": {},
     "output_type": "display_data"
    },
    {
     "name": "stdout",
     "output_type": "stream",
     "text": [
      "Epoch 74: train=25.0412, val=24.751, took 8.0277 s\n"
     ]
    },
    {
     "data": {
      "application/vnd.jupyter.widget-view+json": {
       "model_id": "",
       "version_major": 2,
       "version_minor": 0
      },
      "text/plain": [
       "HBox(children=(FloatProgress(value=0.0, description='Training', layout=Layout(flex='2'), max=563.0, style=Prog…"
      ]
     },
     "metadata": {},
     "output_type": "display_data"
    },
    {
     "name": "stdout",
     "output_type": "stream",
     "text": [
      "Epoch 75: train=25.0328, val=24.7443, took 8.0146 s\n"
     ]
    },
    {
     "data": {
      "application/vnd.jupyter.widget-view+json": {
       "model_id": "",
       "version_major": 2,
       "version_minor": 0
      },
      "text/plain": [
       "HBox(children=(FloatProgress(value=0.0, description='Training', layout=Layout(flex='2'), max=563.0, style=Prog…"
      ]
     },
     "metadata": {},
     "output_type": "display_data"
    },
    {
     "name": "stdout",
     "output_type": "stream",
     "text": [
      "Epoch 76: train=25.0246, val=24.7357, took 8.0317 s\n"
     ]
    },
    {
     "data": {
      "application/vnd.jupyter.widget-view+json": {
       "model_id": "",
       "version_major": 2,
       "version_minor": 0
      },
      "text/plain": [
       "HBox(children=(FloatProgress(value=0.0, description='Training', layout=Layout(flex='2'), max=563.0, style=Prog…"
      ]
     },
     "metadata": {},
     "output_type": "display_data"
    },
    {
     "name": "stdout",
     "output_type": "stream",
     "text": [
      "Epoch 77: train=25.0155, val=24.7253, took 8.0762 s\n"
     ]
    },
    {
     "data": {
      "application/vnd.jupyter.widget-view+json": {
       "model_id": "",
       "version_major": 2,
       "version_minor": 0
      },
      "text/plain": [
       "HBox(children=(FloatProgress(value=0.0, description='Training', layout=Layout(flex='2'), max=563.0, style=Prog…"
      ]
     },
     "metadata": {},
     "output_type": "display_data"
    },
    {
     "name": "stdout",
     "output_type": "stream",
     "text": [
      "Epoch 78: train=25.0076, val=24.725, took 8.0395 s\n"
     ]
    },
    {
     "data": {
      "application/vnd.jupyter.widget-view+json": {
       "model_id": "",
       "version_major": 2,
       "version_minor": 0
      },
      "text/plain": [
       "HBox(children=(FloatProgress(value=0.0, description='Training', layout=Layout(flex='2'), max=563.0, style=Prog…"
      ]
     },
     "metadata": {},
     "output_type": "display_data"
    },
    {
     "name": "stdout",
     "output_type": "stream",
     "text": [
      "Epoch 79: train=24.9995, val=24.7141, took 8.0478 s\n"
     ]
    },
    {
     "data": {
      "application/vnd.jupyter.widget-view+json": {
       "model_id": "",
       "version_major": 2,
       "version_minor": 0
      },
      "text/plain": [
       "HBox(children=(FloatProgress(value=0.0, description='Training', layout=Layout(flex='2'), max=563.0, style=Prog…"
      ]
     },
     "metadata": {},
     "output_type": "display_data"
    },
    {
     "name": "stdout",
     "output_type": "stream",
     "text": [
      "Epoch 80: train=24.9923, val=24.7139, took 8.0202 s\n"
     ]
    },
    {
     "data": {
      "application/vnd.jupyter.widget-view+json": {
       "model_id": "",
       "version_major": 2,
       "version_minor": 0
      },
      "text/plain": [
       "HBox(children=(FloatProgress(value=0.0, description='Training', layout=Layout(flex='2'), max=563.0, style=Prog…"
      ]
     },
     "metadata": {},
     "output_type": "display_data"
    },
    {
     "name": "stdout",
     "output_type": "stream",
     "text": [
      "Epoch 81: train=24.9853, val=24.7003, took 8.0154 s\n"
     ]
    },
    {
     "data": {
      "application/vnd.jupyter.widget-view+json": {
       "model_id": "",
       "version_major": 2,
       "version_minor": 0
      },
      "text/plain": [
       "HBox(children=(FloatProgress(value=0.0, description='Training', layout=Layout(flex='2'), max=563.0, style=Prog…"
      ]
     },
     "metadata": {},
     "output_type": "display_data"
    },
    {
     "name": "stdout",
     "output_type": "stream",
     "text": [
      "Epoch 82: train=24.9752, val=24.6991, took 8.0147 s\n"
     ]
    },
    {
     "data": {
      "application/vnd.jupyter.widget-view+json": {
       "model_id": "",
       "version_major": 2,
       "version_minor": 0
      },
      "text/plain": [
       "HBox(children=(FloatProgress(value=0.0, description='Training', layout=Layout(flex='2'), max=563.0, style=Prog…"
      ]
     },
     "metadata": {},
     "output_type": "display_data"
    },
    {
     "name": "stdout",
     "output_type": "stream",
     "text": [
      "Epoch 83: train=24.9677, val=24.7029, took 8.0171 s\n"
     ]
    },
    {
     "data": {
      "application/vnd.jupyter.widget-view+json": {
       "model_id": "",
       "version_major": 2,
       "version_minor": 0
      },
      "text/plain": [
       "HBox(children=(FloatProgress(value=0.0, description='Training', layout=Layout(flex='2'), max=563.0, style=Prog…"
      ]
     },
     "metadata": {},
     "output_type": "display_data"
    },
    {
     "name": "stdout",
     "output_type": "stream",
     "text": [
      "Epoch 84: train=24.9603, val=24.6927, took 8.0127 s\n"
     ]
    },
    {
     "data": {
      "application/vnd.jupyter.widget-view+json": {
       "model_id": "",
       "version_major": 2,
       "version_minor": 0
      },
      "text/plain": [
       "HBox(children=(FloatProgress(value=0.0, description='Training', layout=Layout(flex='2'), max=563.0, style=Prog…"
      ]
     },
     "metadata": {},
     "output_type": "display_data"
    },
    {
     "name": "stdout",
     "output_type": "stream",
     "text": [
      "Epoch 85: train=24.9531, val=24.6877, took 8.006 s\n"
     ]
    },
    {
     "data": {
      "application/vnd.jupyter.widget-view+json": {
       "model_id": "",
       "version_major": 2,
       "version_minor": 0
      },
      "text/plain": [
       "HBox(children=(FloatProgress(value=0.0, description='Training', layout=Layout(flex='2'), max=563.0, style=Prog…"
      ]
     },
     "metadata": {},
     "output_type": "display_data"
    },
    {
     "name": "stdout",
     "output_type": "stream",
     "text": [
      "Epoch 86: train=24.9432, val=24.6704, took 8.1222 s\n"
     ]
    },
    {
     "data": {
      "application/vnd.jupyter.widget-view+json": {
       "model_id": "",
       "version_major": 2,
       "version_minor": 0
      },
      "text/plain": [
       "HBox(children=(FloatProgress(value=0.0, description='Training', layout=Layout(flex='2'), max=563.0, style=Prog…"
      ]
     },
     "metadata": {},
     "output_type": "display_data"
    },
    {
     "name": "stdout",
     "output_type": "stream",
     "text": [
      "Epoch 87: train=24.9347, val=24.6678, took 8.0632 s\n"
     ]
    },
    {
     "data": {
      "application/vnd.jupyter.widget-view+json": {
       "model_id": "",
       "version_major": 2,
       "version_minor": 0
      },
      "text/plain": [
       "HBox(children=(FloatProgress(value=0.0, description='Training', layout=Layout(flex='2'), max=563.0, style=Prog…"
      ]
     },
     "metadata": {},
     "output_type": "display_data"
    },
    {
     "name": "stdout",
     "output_type": "stream",
     "text": [
      "Epoch 88: train=24.9236, val=24.6508, took 8.0561 s\n"
     ]
    },
    {
     "data": {
      "application/vnd.jupyter.widget-view+json": {
       "model_id": "",
       "version_major": 2,
       "version_minor": 0
      },
      "text/plain": [
       "HBox(children=(FloatProgress(value=0.0, description='Training', layout=Layout(flex='2'), max=563.0, style=Prog…"
      ]
     },
     "metadata": {},
     "output_type": "display_data"
    },
    {
     "name": "stdout",
     "output_type": "stream",
     "text": [
      "Epoch 89: train=24.9147, val=24.6453, took 8.0376 s\n"
     ]
    },
    {
     "data": {
      "application/vnd.jupyter.widget-view+json": {
       "model_id": "",
       "version_major": 2,
       "version_minor": 0
      },
      "text/plain": [
       "HBox(children=(FloatProgress(value=0.0, description='Training', layout=Layout(flex='2'), max=563.0, style=Prog…"
      ]
     },
     "metadata": {},
     "output_type": "display_data"
    },
    {
     "name": "stdout",
     "output_type": "stream",
     "text": [
      "Epoch 90: train=24.9057, val=24.6346, took 8.1062 s\n"
     ]
    },
    {
     "data": {
      "application/vnd.jupyter.widget-view+json": {
       "model_id": "",
       "version_major": 2,
       "version_minor": 0
      },
      "text/plain": [
       "HBox(children=(FloatProgress(value=0.0, description='Training', layout=Layout(flex='2'), max=563.0, style=Prog…"
      ]
     },
     "metadata": {},
     "output_type": "display_data"
    },
    {
     "name": "stdout",
     "output_type": "stream",
     "text": [
      "Epoch 91: train=24.8948, val=24.6255, took 8.0866 s\n"
     ]
    },
    {
     "data": {
      "application/vnd.jupyter.widget-view+json": {
       "model_id": "",
       "version_major": 2,
       "version_minor": 0
      },
      "text/plain": [
       "HBox(children=(FloatProgress(value=0.0, description='Training', layout=Layout(flex='2'), max=563.0, style=Prog…"
      ]
     },
     "metadata": {},
     "output_type": "display_data"
    },
    {
     "name": "stdout",
     "output_type": "stream",
     "text": [
      "Epoch 92: train=24.885, val=24.618, took 8.0672 s\n"
     ]
    },
    {
     "data": {
      "application/vnd.jupyter.widget-view+json": {
       "model_id": "",
       "version_major": 2,
       "version_minor": 0
      },
      "text/plain": [
       "HBox(children=(FloatProgress(value=0.0, description='Training', layout=Layout(flex='2'), max=563.0, style=Prog…"
      ]
     },
     "metadata": {},
     "output_type": "display_data"
    },
    {
     "name": "stdout",
     "output_type": "stream",
     "text": [
      "Epoch 93: train=24.8757, val=24.6066, took 8.0582 s\n"
     ]
    },
    {
     "data": {
      "application/vnd.jupyter.widget-view+json": {
       "model_id": "",
       "version_major": 2,
       "version_minor": 0
      },
      "text/plain": [
       "HBox(children=(FloatProgress(value=0.0, description='Training', layout=Layout(flex='2'), max=563.0, style=Prog…"
      ]
     },
     "metadata": {},
     "output_type": "display_data"
    },
    {
     "name": "stdout",
     "output_type": "stream",
     "text": [
      "Epoch 94: train=24.8653, val=24.5944, took 8.0601 s\n"
     ]
    },
    {
     "data": {
      "application/vnd.jupyter.widget-view+json": {
       "model_id": "",
       "version_major": 2,
       "version_minor": 0
      },
      "text/plain": [
       "HBox(children=(FloatProgress(value=0.0, description='Training', layout=Layout(flex='2'), max=563.0, style=Prog…"
      ]
     },
     "metadata": {},
     "output_type": "display_data"
    },
    {
     "name": "stdout",
     "output_type": "stream",
     "text": [
      "Epoch 95: train=24.8563, val=24.585, took 8.0458 s\n"
     ]
    },
    {
     "data": {
      "application/vnd.jupyter.widget-view+json": {
       "model_id": "",
       "version_major": 2,
       "version_minor": 0
      },
      "text/plain": [
       "HBox(children=(FloatProgress(value=0.0, description='Training', layout=Layout(flex='2'), max=563.0, style=Prog…"
      ]
     },
     "metadata": {},
     "output_type": "display_data"
    },
    {
     "name": "stdout",
     "output_type": "stream",
     "text": [
      "Epoch 96: train=24.8467, val=24.5752, took 8.0058 s\n"
     ]
    },
    {
     "data": {
      "application/vnd.jupyter.widget-view+json": {
       "model_id": "",
       "version_major": 2,
       "version_minor": 0
      },
      "text/plain": [
       "HBox(children=(FloatProgress(value=0.0, description='Training', layout=Layout(flex='2'), max=563.0, style=Prog…"
      ]
     },
     "metadata": {},
     "output_type": "display_data"
    },
    {
     "name": "stdout",
     "output_type": "stream",
     "text": [
      "Epoch 97: train=24.8367, val=24.5593, took 8.0058 s\n"
     ]
    },
    {
     "data": {
      "application/vnd.jupyter.widget-view+json": {
       "model_id": "",
       "version_major": 2,
       "version_minor": 0
      },
      "text/plain": [
       "HBox(children=(FloatProgress(value=0.0, description='Training', layout=Layout(flex='2'), max=563.0, style=Prog…"
      ]
     },
     "metadata": {},
     "output_type": "display_data"
    },
    {
     "name": "stdout",
     "output_type": "stream",
     "text": [
      "Epoch 98: train=24.8261, val=24.54, took 8.006 s\n"
     ]
    },
    {
     "data": {
      "application/vnd.jupyter.widget-view+json": {
       "model_id": "",
       "version_major": 2,
       "version_minor": 0
      },
      "text/plain": [
       "HBox(children=(FloatProgress(value=0.0, description='Training', layout=Layout(flex='2'), max=563.0, style=Prog…"
      ]
     },
     "metadata": {},
     "output_type": "display_data"
    },
    {
     "name": "stdout",
     "output_type": "stream",
     "text": [
      "Epoch 99: train=24.8167, val=24.5367, took 8.01 s\n"
     ]
    },
    {
     "data": {
      "application/vnd.jupyter.widget-view+json": {
       "model_id": "",
       "version_major": 2,
       "version_minor": 0
      },
      "text/plain": [
       "HBox(children=(FloatProgress(value=0.0, description='Training', layout=Layout(flex='2'), max=563.0, style=Prog…"
      ]
     },
     "metadata": {},
     "output_type": "display_data"
    },
    {
     "name": "stdout",
     "output_type": "stream",
     "text": [
      "Epoch 100: train=24.8058, val=24.5304, took 8.1196 s\n"
     ]
    },
    {
     "data": {
      "application/vnd.jupyter.widget-view+json": {
       "model_id": "",
       "version_major": 2,
       "version_minor": 0
      },
      "text/plain": [
       "HBox(children=(FloatProgress(value=0.0, description='Training', layout=Layout(flex='2'), max=563.0, style=Prog…"
      ]
     },
     "metadata": {},
     "output_type": "display_data"
    },
    {
     "name": "stdout",
     "output_type": "stream",
     "text": [
      "Epoch 101: train=24.7952, val=24.5121, took 8.0645 s\n"
     ]
    },
    {
     "data": {
      "application/vnd.jupyter.widget-view+json": {
       "model_id": "",
       "version_major": 2,
       "version_minor": 0
      },
      "text/plain": [
       "HBox(children=(FloatProgress(value=0.0, description='Training', layout=Layout(flex='2'), max=563.0, style=Prog…"
      ]
     },
     "metadata": {},
     "output_type": "display_data"
    },
    {
     "name": "stdout",
     "output_type": "stream",
     "text": [
      "Epoch 102: train=24.7846, val=24.4952, took 8.0617 s\n"
     ]
    },
    {
     "data": {
      "application/vnd.jupyter.widget-view+json": {
       "model_id": "",
       "version_major": 2,
       "version_minor": 0
      },
      "text/plain": [
       "HBox(children=(FloatProgress(value=0.0, description='Training', layout=Layout(flex='2'), max=563.0, style=Prog…"
      ]
     },
     "metadata": {},
     "output_type": "display_data"
    },
    {
     "name": "stdout",
     "output_type": "stream",
     "text": [
      "Epoch 103: train=24.774, val=24.4908, took 8.068 s\n"
     ]
    },
    {
     "data": {
      "application/vnd.jupyter.widget-view+json": {
       "model_id": "",
       "version_major": 2,
       "version_minor": 0
      },
      "text/plain": [
       "HBox(children=(FloatProgress(value=0.0, description='Training', layout=Layout(flex='2'), max=563.0, style=Prog…"
      ]
     },
     "metadata": {},
     "output_type": "display_data"
    },
    {
     "name": "stdout",
     "output_type": "stream",
     "text": [
      "Epoch 104: train=24.7633, val=24.4813, took 8.0715 s\n"
     ]
    },
    {
     "data": {
      "application/vnd.jupyter.widget-view+json": {
       "model_id": "",
       "version_major": 2,
       "version_minor": 0
      },
      "text/plain": [
       "HBox(children=(FloatProgress(value=0.0, description='Training', layout=Layout(flex='2'), max=563.0, style=Prog…"
      ]
     },
     "metadata": {},
     "output_type": "display_data"
    },
    {
     "name": "stdout",
     "output_type": "stream",
     "text": [
      "Epoch 105: train=24.7532, val=24.4661, took 8.0565 s\n"
     ]
    },
    {
     "data": {
      "application/vnd.jupyter.widget-view+json": {
       "model_id": "",
       "version_major": 2,
       "version_minor": 0
      },
      "text/plain": [
       "HBox(children=(FloatProgress(value=0.0, description='Training', layout=Layout(flex='2'), max=563.0, style=Prog…"
      ]
     },
     "metadata": {},
     "output_type": "display_data"
    },
    {
     "name": "stdout",
     "output_type": "stream",
     "text": [
      "Epoch 106: train=24.744, val=24.4546, took 8.0026 s\n"
     ]
    },
    {
     "data": {
      "application/vnd.jupyter.widget-view+json": {
       "model_id": "",
       "version_major": 2,
       "version_minor": 0
      },
      "text/plain": [
       "HBox(children=(FloatProgress(value=0.0, description='Training', layout=Layout(flex='2'), max=563.0, style=Prog…"
      ]
     },
     "metadata": {},
     "output_type": "display_data"
    },
    {
     "name": "stdout",
     "output_type": "stream",
     "text": [
      "Epoch 107: train=24.7344, val=24.436, took 8.016 s\n"
     ]
    },
    {
     "data": {
      "application/vnd.jupyter.widget-view+json": {
       "model_id": "",
       "version_major": 2,
       "version_minor": 0
      },
      "text/plain": [
       "HBox(children=(FloatProgress(value=0.0, description='Training', layout=Layout(flex='2'), max=563.0, style=Prog…"
      ]
     },
     "metadata": {},
     "output_type": "display_data"
    },
    {
     "name": "stdout",
     "output_type": "stream",
     "text": [
      "Epoch 108: train=24.7249, val=24.4229, took 8.0086 s\n"
     ]
    },
    {
     "data": {
      "application/vnd.jupyter.widget-view+json": {
       "model_id": "",
       "version_major": 2,
       "version_minor": 0
      },
      "text/plain": [
       "HBox(children=(FloatProgress(value=0.0, description='Training', layout=Layout(flex='2'), max=563.0, style=Prog…"
      ]
     },
     "metadata": {},
     "output_type": "display_data"
    },
    {
     "name": "stdout",
     "output_type": "stream",
     "text": [
      "Epoch 109: train=24.7151, val=24.4158, took 8.0154 s\n"
     ]
    },
    {
     "data": {
      "application/vnd.jupyter.widget-view+json": {
       "model_id": "",
       "version_major": 2,
       "version_minor": 0
      },
      "text/plain": [
       "HBox(children=(FloatProgress(value=0.0, description='Training', layout=Layout(flex='2'), max=563.0, style=Prog…"
      ]
     },
     "metadata": {},
     "output_type": "display_data"
    },
    {
     "name": "stdout",
     "output_type": "stream",
     "text": [
      "Epoch 110: train=24.7064, val=24.4068, took 8.0113 s\n"
     ]
    },
    {
     "data": {
      "application/vnd.jupyter.widget-view+json": {
       "model_id": "",
       "version_major": 2,
       "version_minor": 0
      },
      "text/plain": [
       "HBox(children=(FloatProgress(value=0.0, description='Training', layout=Layout(flex='2'), max=563.0, style=Prog…"
      ]
     },
     "metadata": {},
     "output_type": "display_data"
    },
    {
     "name": "stdout",
     "output_type": "stream",
     "text": [
      "Epoch 111: train=24.6966, val=24.3959, took 8.0027 s\n"
     ]
    },
    {
     "data": {
      "application/vnd.jupyter.widget-view+json": {
       "model_id": "",
       "version_major": 2,
       "version_minor": 0
      },
      "text/plain": [
       "HBox(children=(FloatProgress(value=0.0, description='Training', layout=Layout(flex='2'), max=563.0, style=Prog…"
      ]
     },
     "metadata": {},
     "output_type": "display_data"
    },
    {
     "name": "stdout",
     "output_type": "stream",
     "text": [
      "Epoch 112: train=24.6874, val=24.3835, took 8.009 s\n"
     ]
    },
    {
     "data": {
      "application/vnd.jupyter.widget-view+json": {
       "model_id": "",
       "version_major": 2,
       "version_minor": 0
      },
      "text/plain": [
       "HBox(children=(FloatProgress(value=0.0, description='Training', layout=Layout(flex='2'), max=563.0, style=Prog…"
      ]
     },
     "metadata": {},
     "output_type": "display_data"
    },
    {
     "name": "stdout",
     "output_type": "stream",
     "text": [
      "Epoch 113: train=24.678, val=24.3704, took 8.0137 s\n"
     ]
    },
    {
     "data": {
      "application/vnd.jupyter.widget-view+json": {
       "model_id": "",
       "version_major": 2,
       "version_minor": 0
      },
      "text/plain": [
       "HBox(children=(FloatProgress(value=0.0, description='Training', layout=Layout(flex='2'), max=563.0, style=Prog…"
      ]
     },
     "metadata": {},
     "output_type": "display_data"
    },
    {
     "name": "stdout",
     "output_type": "stream",
     "text": [
      "Epoch 114: train=24.6674, val=24.3522, took 8.0197 s\n"
     ]
    },
    {
     "data": {
      "application/vnd.jupyter.widget-view+json": {
       "model_id": "",
       "version_major": 2,
       "version_minor": 0
      },
      "text/plain": [
       "HBox(children=(FloatProgress(value=0.0, description='Training', layout=Layout(flex='2'), max=563.0, style=Prog…"
      ]
     },
     "metadata": {},
     "output_type": "display_data"
    },
    {
     "name": "stdout",
     "output_type": "stream",
     "text": [
      "Epoch 115: train=24.6585, val=24.3294, took 8.021 s\n"
     ]
    },
    {
     "data": {
      "application/vnd.jupyter.widget-view+json": {
       "model_id": "",
       "version_major": 2,
       "version_minor": 0
      },
      "text/plain": [
       "HBox(children=(FloatProgress(value=0.0, description='Training', layout=Layout(flex='2'), max=563.0, style=Prog…"
      ]
     },
     "metadata": {},
     "output_type": "display_data"
    },
    {
     "name": "stdout",
     "output_type": "stream",
     "text": [
      "Epoch 116: train=24.6477, val=24.3263, took 8.0331 s\n"
     ]
    },
    {
     "data": {
      "application/vnd.jupyter.widget-view+json": {
       "model_id": "",
       "version_major": 2,
       "version_minor": 0
      },
      "text/plain": [
       "HBox(children=(FloatProgress(value=0.0, description='Training', layout=Layout(flex='2'), max=563.0, style=Prog…"
      ]
     },
     "metadata": {},
     "output_type": "display_data"
    },
    {
     "name": "stdout",
     "output_type": "stream",
     "text": [
      "Epoch 117: train=24.6395, val=24.2993, took 8.0202 s\n"
     ]
    },
    {
     "data": {
      "application/vnd.jupyter.widget-view+json": {
       "model_id": "",
       "version_major": 2,
       "version_minor": 0
      },
      "text/plain": [
       "HBox(children=(FloatProgress(value=0.0, description='Training', layout=Layout(flex='2'), max=563.0, style=Prog…"
      ]
     },
     "metadata": {},
     "output_type": "display_data"
    },
    {
     "name": "stdout",
     "output_type": "stream",
     "text": [
      "Epoch 118: train=24.6314, val=24.28, took 8.0108 s\n"
     ]
    },
    {
     "data": {
      "application/vnd.jupyter.widget-view+json": {
       "model_id": "",
       "version_major": 2,
       "version_minor": 0
      },
      "text/plain": [
       "HBox(children=(FloatProgress(value=0.0, description='Training', layout=Layout(flex='2'), max=563.0, style=Prog…"
      ]
     },
     "metadata": {},
     "output_type": "display_data"
    },
    {
     "name": "stdout",
     "output_type": "stream",
     "text": [
      "Epoch 119: train=24.6239, val=24.2725, took 8.0175 s\n"
     ]
    },
    {
     "data": {
      "application/vnd.jupyter.widget-view+json": {
       "model_id": "",
       "version_major": 2,
       "version_minor": 0
      },
      "text/plain": [
       "HBox(children=(FloatProgress(value=0.0, description='Training', layout=Layout(flex='2'), max=563.0, style=Prog…"
      ]
     },
     "metadata": {},
     "output_type": "display_data"
    },
    {
     "name": "stdout",
     "output_type": "stream",
     "text": [
      "Epoch 120: train=24.6144, val=24.2619, took 8.0171 s\n"
     ]
    },
    {
     "data": {
      "application/vnd.jupyter.widget-view+json": {
       "model_id": "",
       "version_major": 2,
       "version_minor": 0
      },
      "text/plain": [
       "HBox(children=(FloatProgress(value=0.0, description='Training', layout=Layout(flex='2'), max=563.0, style=Prog…"
      ]
     },
     "metadata": {},
     "output_type": "display_data"
    },
    {
     "name": "stdout",
     "output_type": "stream",
     "text": [
      "Epoch 121: train=24.6073, val=24.2568, took 8.1842 s\n"
     ]
    },
    {
     "data": {
      "application/vnd.jupyter.widget-view+json": {
       "model_id": "",
       "version_major": 2,
       "version_minor": 0
      },
      "text/plain": [
       "HBox(children=(FloatProgress(value=0.0, description='Training', layout=Layout(flex='2'), max=563.0, style=Prog…"
      ]
     },
     "metadata": {},
     "output_type": "display_data"
    },
    {
     "name": "stdout",
     "output_type": "stream",
     "text": [
      "Epoch 122: train=24.6007, val=24.247, took 8.2745 s\n"
     ]
    },
    {
     "data": {
      "application/vnd.jupyter.widget-view+json": {
       "model_id": "",
       "version_major": 2,
       "version_minor": 0
      },
      "text/plain": [
       "HBox(children=(FloatProgress(value=0.0, description='Training', layout=Layout(flex='2'), max=563.0, style=Prog…"
      ]
     },
     "metadata": {},
     "output_type": "display_data"
    },
    {
     "name": "stdout",
     "output_type": "stream",
     "text": [
      "Epoch 123: train=24.5906, val=24.2334, took 8.3011 s\n"
     ]
    },
    {
     "data": {
      "application/vnd.jupyter.widget-view+json": {
       "model_id": "",
       "version_major": 2,
       "version_minor": 0
      },
      "text/plain": [
       "HBox(children=(FloatProgress(value=0.0, description='Training', layout=Layout(flex='2'), max=563.0, style=Prog…"
      ]
     },
     "metadata": {},
     "output_type": "display_data"
    },
    {
     "name": "stdout",
     "output_type": "stream",
     "text": [
      "Epoch 124: train=24.583, val=24.2281, took 8.3006 s\n"
     ]
    },
    {
     "data": {
      "application/vnd.jupyter.widget-view+json": {
       "model_id": "",
       "version_major": 2,
       "version_minor": 0
      },
      "text/plain": [
       "HBox(children=(FloatProgress(value=0.0, description='Training', layout=Layout(flex='2'), max=563.0, style=Prog…"
      ]
     },
     "metadata": {},
     "output_type": "display_data"
    },
    {
     "name": "stdout",
     "output_type": "stream",
     "text": [
      "Epoch 125: train=24.576, val=24.2155, took 8.3172 s\n"
     ]
    },
    {
     "data": {
      "application/vnd.jupyter.widget-view+json": {
       "model_id": "",
       "version_major": 2,
       "version_minor": 0
      },
      "text/plain": [
       "HBox(children=(FloatProgress(value=0.0, description='Training', layout=Layout(flex='2'), max=563.0, style=Prog…"
      ]
     },
     "metadata": {},
     "output_type": "display_data"
    },
    {
     "name": "stdout",
     "output_type": "stream",
     "text": [
      "Epoch 126: train=24.5683, val=24.2047, took 8.2981 s\n"
     ]
    },
    {
     "data": {
      "application/vnd.jupyter.widget-view+json": {
       "model_id": "",
       "version_major": 2,
       "version_minor": 0
      },
      "text/plain": [
       "HBox(children=(FloatProgress(value=0.0, description='Training', layout=Layout(flex='2'), max=563.0, style=Prog…"
      ]
     },
     "metadata": {},
     "output_type": "display_data"
    },
    {
     "name": "stdout",
     "output_type": "stream",
     "text": [
      "Epoch 127: train=24.5614, val=24.1889, took 8.3045 s\n"
     ]
    },
    {
     "data": {
      "application/vnd.jupyter.widget-view+json": {
       "model_id": "",
       "version_major": 2,
       "version_minor": 0
      },
      "text/plain": [
       "HBox(children=(FloatProgress(value=0.0, description='Training', layout=Layout(flex='2'), max=563.0, style=Prog…"
      ]
     },
     "metadata": {},
     "output_type": "display_data"
    },
    {
     "name": "stdout",
     "output_type": "stream",
     "text": [
      "Epoch 128: train=24.5526, val=24.1729, took 8.1193 s\n"
     ]
    },
    {
     "data": {
      "application/vnd.jupyter.widget-view+json": {
       "model_id": "",
       "version_major": 2,
       "version_minor": 0
      },
      "text/plain": [
       "HBox(children=(FloatProgress(value=0.0, description='Training', layout=Layout(flex='2'), max=563.0, style=Prog…"
      ]
     },
     "metadata": {},
     "output_type": "display_data"
    },
    {
     "name": "stdout",
     "output_type": "stream",
     "text": [
      "Epoch 129: train=24.5458, val=24.1621, took 8.0286 s\n"
     ]
    },
    {
     "data": {
      "application/vnd.jupyter.widget-view+json": {
       "model_id": "",
       "version_major": 2,
       "version_minor": 0
      },
      "text/plain": [
       "HBox(children=(FloatProgress(value=0.0, description='Training', layout=Layout(flex='2'), max=563.0, style=Prog…"
      ]
     },
     "metadata": {},
     "output_type": "display_data"
    },
    {
     "name": "stdout",
     "output_type": "stream",
     "text": [
      "Epoch 130: train=24.5371, val=24.1542, took 8.0161 s\n"
     ]
    },
    {
     "data": {
      "application/vnd.jupyter.widget-view+json": {
       "model_id": "",
       "version_major": 2,
       "version_minor": 0
      },
      "text/plain": [
       "HBox(children=(FloatProgress(value=0.0, description='Training', layout=Layout(flex='2'), max=563.0, style=Prog…"
      ]
     },
     "metadata": {},
     "output_type": "display_data"
    },
    {
     "name": "stdout",
     "output_type": "stream",
     "text": [
      "Epoch 131: train=24.529, val=24.1395, took 8.0229 s\n"
     ]
    },
    {
     "data": {
      "application/vnd.jupyter.widget-view+json": {
       "model_id": "",
       "version_major": 2,
       "version_minor": 0
      },
      "text/plain": [
       "HBox(children=(FloatProgress(value=0.0, description='Training', layout=Layout(flex='2'), max=563.0, style=Prog…"
      ]
     },
     "metadata": {},
     "output_type": "display_data"
    },
    {
     "name": "stdout",
     "output_type": "stream",
     "text": [
      "Epoch 132: train=24.5205, val=24.1318, took 8.0116 s\n"
     ]
    },
    {
     "data": {
      "application/vnd.jupyter.widget-view+json": {
       "model_id": "",
       "version_major": 2,
       "version_minor": 0
      },
      "text/plain": [
       "HBox(children=(FloatProgress(value=0.0, description='Training', layout=Layout(flex='2'), max=563.0, style=Prog…"
      ]
     },
     "metadata": {},
     "output_type": "display_data"
    },
    {
     "name": "stdout",
     "output_type": "stream",
     "text": [
      "Epoch 133: train=24.5094, val=24.1239, took 8.0239 s\n"
     ]
    },
    {
     "data": {
      "application/vnd.jupyter.widget-view+json": {
       "model_id": "",
       "version_major": 2,
       "version_minor": 0
      },
      "text/plain": [
       "HBox(children=(FloatProgress(value=0.0, description='Training', layout=Layout(flex='2'), max=563.0, style=Prog…"
      ]
     },
     "metadata": {},
     "output_type": "display_data"
    },
    {
     "name": "stdout",
     "output_type": "stream",
     "text": [
      "Epoch 134: train=24.4984, val=24.1151, took 8.0168 s\n"
     ]
    },
    {
     "data": {
      "application/vnd.jupyter.widget-view+json": {
       "model_id": "",
       "version_major": 2,
       "version_minor": 0
      },
      "text/plain": [
       "HBox(children=(FloatProgress(value=0.0, description='Training', layout=Layout(flex='2'), max=563.0, style=Prog…"
      ]
     },
     "metadata": {},
     "output_type": "display_data"
    },
    {
     "name": "stdout",
     "output_type": "stream",
     "text": [
      "Epoch 135: train=24.4876, val=24.1163, took 8.0224 s\n"
     ]
    },
    {
     "data": {
      "application/vnd.jupyter.widget-view+json": {
       "model_id": "",
       "version_major": 2,
       "version_minor": 0
      },
      "text/plain": [
       "HBox(children=(FloatProgress(value=0.0, description='Training', layout=Layout(flex='2'), max=563.0, style=Prog…"
      ]
     },
     "metadata": {},
     "output_type": "display_data"
    },
    {
     "name": "stdout",
     "output_type": "stream",
     "text": [
      "Epoch 136: train=24.4768, val=24.104, took 8.0367 s\n"
     ]
    },
    {
     "data": {
      "application/vnd.jupyter.widget-view+json": {
       "model_id": "",
       "version_major": 2,
       "version_minor": 0
      },
      "text/plain": [
       "HBox(children=(FloatProgress(value=0.0, description='Training', layout=Layout(flex='2'), max=563.0, style=Prog…"
      ]
     },
     "metadata": {},
     "output_type": "display_data"
    },
    {
     "name": "stdout",
     "output_type": "stream",
     "text": [
      "Epoch 137: train=24.4636, val=24.092, took 8.01 s\n"
     ]
    },
    {
     "data": {
      "application/vnd.jupyter.widget-view+json": {
       "model_id": "",
       "version_major": 2,
       "version_minor": 0
      },
      "text/plain": [
       "HBox(children=(FloatProgress(value=0.0, description='Training', layout=Layout(flex='2'), max=563.0, style=Prog…"
      ]
     },
     "metadata": {},
     "output_type": "display_data"
    },
    {
     "name": "stdout",
     "output_type": "stream",
     "text": [
      "Epoch 138: train=24.4524, val=24.083, took 8.024 s\n"
     ]
    },
    {
     "data": {
      "application/vnd.jupyter.widget-view+json": {
       "model_id": "",
       "version_major": 2,
       "version_minor": 0
      },
      "text/plain": [
       "HBox(children=(FloatProgress(value=0.0, description='Training', layout=Layout(flex='2'), max=563.0, style=Prog…"
      ]
     },
     "metadata": {},
     "output_type": "display_data"
    },
    {
     "name": "stdout",
     "output_type": "stream",
     "text": [
      "Epoch 139: train=24.441, val=24.0664, took 8.0596 s\n"
     ]
    },
    {
     "data": {
      "application/vnd.jupyter.widget-view+json": {
       "model_id": "",
       "version_major": 2,
       "version_minor": 0
      },
      "text/plain": [
       "HBox(children=(FloatProgress(value=0.0, description='Training', layout=Layout(flex='2'), max=563.0, style=Prog…"
      ]
     },
     "metadata": {},
     "output_type": "display_data"
    },
    {
     "name": "stdout",
     "output_type": "stream",
     "text": [
      "Epoch 140: train=24.4273, val=24.053, took 8.0249 s\n"
     ]
    },
    {
     "data": {
      "application/vnd.jupyter.widget-view+json": {
       "model_id": "",
       "version_major": 2,
       "version_minor": 0
      },
      "text/plain": [
       "HBox(children=(FloatProgress(value=0.0, description='Training', layout=Layout(flex='2'), max=563.0, style=Prog…"
      ]
     },
     "metadata": {},
     "output_type": "display_data"
    },
    {
     "name": "stdout",
     "output_type": "stream",
     "text": [
      "Epoch 141: train=24.4166, val=24.0473, took 8.0143 s\n"
     ]
    },
    {
     "data": {
      "application/vnd.jupyter.widget-view+json": {
       "model_id": "",
       "version_major": 2,
       "version_minor": 0
      },
      "text/plain": [
       "HBox(children=(FloatProgress(value=0.0, description='Training', layout=Layout(flex='2'), max=563.0, style=Prog…"
      ]
     },
     "metadata": {},
     "output_type": "display_data"
    },
    {
     "name": "stdout",
     "output_type": "stream",
     "text": [
      "Epoch 142: train=24.4066, val=24.0439, took 8.0223 s\n"
     ]
    },
    {
     "data": {
      "application/vnd.jupyter.widget-view+json": {
       "model_id": "",
       "version_major": 2,
       "version_minor": 0
      },
      "text/plain": [
       "HBox(children=(FloatProgress(value=0.0, description='Training', layout=Layout(flex='2'), max=563.0, style=Prog…"
      ]
     },
     "metadata": {},
     "output_type": "display_data"
    },
    {
     "name": "stdout",
     "output_type": "stream",
     "text": [
      "Epoch 143: train=24.3989, val=24.0425, took 8.0371 s\n"
     ]
    },
    {
     "data": {
      "application/vnd.jupyter.widget-view+json": {
       "model_id": "",
       "version_major": 2,
       "version_minor": 0
      },
      "text/plain": [
       "HBox(children=(FloatProgress(value=0.0, description='Training', layout=Layout(flex='2'), max=563.0, style=Prog…"
      ]
     },
     "metadata": {},
     "output_type": "display_data"
    },
    {
     "name": "stdout",
     "output_type": "stream",
     "text": [
      "Epoch 144: train=24.3905, val=24.0465, took 8.1006 s\n"
     ]
    },
    {
     "data": {
      "application/vnd.jupyter.widget-view+json": {
       "model_id": "",
       "version_major": 2,
       "version_minor": 0
      },
      "text/plain": [
       "HBox(children=(FloatProgress(value=0.0, description='Training', layout=Layout(flex='2'), max=563.0, style=Prog…"
      ]
     },
     "metadata": {},
     "output_type": "display_data"
    },
    {
     "name": "stdout",
     "output_type": "stream",
     "text": [
      "Epoch 145: train=24.3823, val=24.0471, took 8.0519 s\n"
     ]
    },
    {
     "data": {
      "application/vnd.jupyter.widget-view+json": {
       "model_id": "",
       "version_major": 2,
       "version_minor": 0
      },
      "text/plain": [
       "HBox(children=(FloatProgress(value=0.0, description='Training', layout=Layout(flex='2'), max=563.0, style=Prog…"
      ]
     },
     "metadata": {},
     "output_type": "display_data"
    },
    {
     "name": "stdout",
     "output_type": "stream",
     "text": [
      "Epoch 146: train=24.3749, val=24.0322, took 8.0381 s\n"
     ]
    },
    {
     "data": {
      "application/vnd.jupyter.widget-view+json": {
       "model_id": "",
       "version_major": 2,
       "version_minor": 0
      },
      "text/plain": [
       "HBox(children=(FloatProgress(value=0.0, description='Training', layout=Layout(flex='2'), max=563.0, style=Prog…"
      ]
     },
     "metadata": {},
     "output_type": "display_data"
    },
    {
     "name": "stdout",
     "output_type": "stream",
     "text": [
      "Epoch 147: train=24.3659, val=24.026, took 8.0209 s\n"
     ]
    },
    {
     "data": {
      "application/vnd.jupyter.widget-view+json": {
       "model_id": "",
       "version_major": 2,
       "version_minor": 0
      },
      "text/plain": [
       "HBox(children=(FloatProgress(value=0.0, description='Training', layout=Layout(flex='2'), max=563.0, style=Prog…"
      ]
     },
     "metadata": {},
     "output_type": "display_data"
    },
    {
     "name": "stdout",
     "output_type": "stream",
     "text": [
      "Epoch 148: train=24.3589, val=24.0226, took 8.0257 s\n"
     ]
    },
    {
     "data": {
      "application/vnd.jupyter.widget-view+json": {
       "model_id": "",
       "version_major": 2,
       "version_minor": 0
      },
      "text/plain": [
       "HBox(children=(FloatProgress(value=0.0, description='Training', layout=Layout(flex='2'), max=563.0, style=Prog…"
      ]
     },
     "metadata": {},
     "output_type": "display_data"
    },
    {
     "name": "stdout",
     "output_type": "stream",
     "text": [
      "Epoch 149: train=24.3518, val=24.0213, took 8.0296 s\n"
     ]
    },
    {
     "data": {
      "application/vnd.jupyter.widget-view+json": {
       "model_id": "",
       "version_major": 2,
       "version_minor": 0
      },
      "text/plain": [
       "HBox(children=(FloatProgress(value=0.0, description='Training', layout=Layout(flex='2'), max=563.0, style=Prog…"
      ]
     },
     "metadata": {},
     "output_type": "display_data"
    },
    {
     "name": "stdout",
     "output_type": "stream",
     "text": [
      "Epoch 150: train=24.3464, val=24.015, took 8.0529 s\n"
     ]
    },
    {
     "data": {
      "application/vnd.jupyter.widget-view+json": {
       "model_id": "",
       "version_major": 2,
       "version_minor": 0
      },
      "text/plain": [
       "HBox(children=(FloatProgress(value=0.0, description='Training', layout=Layout(flex='2'), max=563.0, style=Prog…"
      ]
     },
     "metadata": {},
     "output_type": "display_data"
    },
    {
     "name": "stdout",
     "output_type": "stream",
     "text": [
      "Epoch 151: train=24.3393, val=24.0061, took 8.1725 s\n"
     ]
    },
    {
     "data": {
      "application/vnd.jupyter.widget-view+json": {
       "model_id": "",
       "version_major": 2,
       "version_minor": 0
      },
      "text/plain": [
       "HBox(children=(FloatProgress(value=0.0, description='Training', layout=Layout(flex='2'), max=563.0, style=Prog…"
      ]
     },
     "metadata": {},
     "output_type": "display_data"
    },
    {
     "name": "stdout",
     "output_type": "stream",
     "text": [
      "Epoch 152: train=24.3313, val=23.9978, took 8.1776 s\n"
     ]
    },
    {
     "data": {
      "application/vnd.jupyter.widget-view+json": {
       "model_id": "",
       "version_major": 2,
       "version_minor": 0
      },
      "text/plain": [
       "HBox(children=(FloatProgress(value=0.0, description='Training', layout=Layout(flex='2'), max=563.0, style=Prog…"
      ]
     },
     "metadata": {},
     "output_type": "display_data"
    },
    {
     "name": "stdout",
     "output_type": "stream",
     "text": [
      "Epoch 153: train=24.325, val=23.9928, took 8.0889 s\n"
     ]
    },
    {
     "data": {
      "application/vnd.jupyter.widget-view+json": {
       "model_id": "",
       "version_major": 2,
       "version_minor": 0
      },
      "text/plain": [
       "HBox(children=(FloatProgress(value=0.0, description='Training', layout=Layout(flex='2'), max=563.0, style=Prog…"
      ]
     },
     "metadata": {},
     "output_type": "display_data"
    },
    {
     "name": "stdout",
     "output_type": "stream",
     "text": [
      "Epoch 154: train=24.3184, val=23.9863, took 8.3175 s\n"
     ]
    },
    {
     "data": {
      "application/vnd.jupyter.widget-view+json": {
       "model_id": "",
       "version_major": 2,
       "version_minor": 0
      },
      "text/plain": [
       "HBox(children=(FloatProgress(value=0.0, description='Training', layout=Layout(flex='2'), max=563.0, style=Prog…"
      ]
     },
     "metadata": {},
     "output_type": "display_data"
    },
    {
     "name": "stdout",
     "output_type": "stream",
     "text": [
      "Epoch 155: train=24.3128, val=23.9783, took 8.2162 s\n"
     ]
    },
    {
     "data": {
      "application/vnd.jupyter.widget-view+json": {
       "model_id": "",
       "version_major": 2,
       "version_minor": 0
      },
      "text/plain": [
       "HBox(children=(FloatProgress(value=0.0, description='Training', layout=Layout(flex='2'), max=563.0, style=Prog…"
      ]
     },
     "metadata": {},
     "output_type": "display_data"
    },
    {
     "name": "stdout",
     "output_type": "stream",
     "text": [
      "Epoch 156: train=24.3066, val=23.9726, took 9.7375 s\n"
     ]
    },
    {
     "data": {
      "application/vnd.jupyter.widget-view+json": {
       "model_id": "",
       "version_major": 2,
       "version_minor": 0
      },
      "text/plain": [
       "HBox(children=(FloatProgress(value=0.0, description='Training', layout=Layout(flex='2'), max=563.0, style=Prog…"
      ]
     },
     "metadata": {},
     "output_type": "display_data"
    },
    {
     "name": "stdout",
     "output_type": "stream",
     "text": [
      "Epoch 157: train=24.2983, val=23.9732, took 16.61 s\n"
     ]
    },
    {
     "data": {
      "application/vnd.jupyter.widget-view+json": {
       "model_id": "",
       "version_major": 2,
       "version_minor": 0
      },
      "text/plain": [
       "HBox(children=(FloatProgress(value=0.0, description='Training', layout=Layout(flex='2'), max=563.0, style=Prog…"
      ]
     },
     "metadata": {},
     "output_type": "display_data"
    },
    {
     "name": "stdout",
     "output_type": "stream",
     "text": [
      "Epoch 158: train=24.2918, val=23.9602, took 17.021 s\n"
     ]
    },
    {
     "data": {
      "application/vnd.jupyter.widget-view+json": {
       "model_id": "",
       "version_major": 2,
       "version_minor": 0
      },
      "text/plain": [
       "HBox(children=(FloatProgress(value=0.0, description='Training', layout=Layout(flex='2'), max=563.0, style=Prog…"
      ]
     },
     "metadata": {},
     "output_type": "display_data"
    },
    {
     "name": "stdout",
     "output_type": "stream",
     "text": [
      "Epoch 159: train=24.2869, val=23.9568, took 16.885 s\n"
     ]
    },
    {
     "data": {
      "application/vnd.jupyter.widget-view+json": {
       "model_id": "",
       "version_major": 2,
       "version_minor": 0
      },
      "text/plain": [
       "HBox(children=(FloatProgress(value=0.0, description='Training', layout=Layout(flex='2'), max=563.0, style=Prog…"
      ]
     },
     "metadata": {},
     "output_type": "display_data"
    },
    {
     "name": "stdout",
     "output_type": "stream",
     "text": [
      "Epoch 160: train=24.2794, val=23.9497, took 16.883 s\n"
     ]
    },
    {
     "data": {
      "application/vnd.jupyter.widget-view+json": {
       "model_id": "",
       "version_major": 2,
       "version_minor": 0
      },
      "text/plain": [
       "HBox(children=(FloatProgress(value=0.0, description='Training', layout=Layout(flex='2'), max=563.0, style=Prog…"
      ]
     },
     "metadata": {},
     "output_type": "display_data"
    },
    {
     "name": "stdout",
     "output_type": "stream",
     "text": [
      "Epoch 161: train=24.2744, val=23.9387, took 17.013 s\n"
     ]
    },
    {
     "data": {
      "application/vnd.jupyter.widget-view+json": {
       "model_id": "",
       "version_major": 2,
       "version_minor": 0
      },
      "text/plain": [
       "HBox(children=(FloatProgress(value=0.0, description='Training', layout=Layout(flex='2'), max=563.0, style=Prog…"
      ]
     },
     "metadata": {},
     "output_type": "display_data"
    },
    {
     "name": "stdout",
     "output_type": "stream",
     "text": [
      "Epoch 162: train=24.2695, val=23.9417, took 17.093 s\n"
     ]
    },
    {
     "data": {
      "application/vnd.jupyter.widget-view+json": {
       "model_id": "",
       "version_major": 2,
       "version_minor": 0
      },
      "text/plain": [
       "HBox(children=(FloatProgress(value=0.0, description='Training', layout=Layout(flex='2'), max=563.0, style=Prog…"
      ]
     },
     "metadata": {},
     "output_type": "display_data"
    },
    {
     "name": "stdout",
     "output_type": "stream",
     "text": [
      "Epoch 163: train=24.2626, val=23.9325, took 17.045 s\n"
     ]
    },
    {
     "data": {
      "application/vnd.jupyter.widget-view+json": {
       "model_id": "",
       "version_major": 2,
       "version_minor": 0
      },
      "text/plain": [
       "HBox(children=(FloatProgress(value=0.0, description='Training', layout=Layout(flex='2'), max=563.0, style=Prog…"
      ]
     },
     "metadata": {},
     "output_type": "display_data"
    },
    {
     "name": "stdout",
     "output_type": "stream",
     "text": [
      "Epoch 164: train=24.2574, val=23.9395, took 16.923 s\n"
     ]
    },
    {
     "data": {
      "application/vnd.jupyter.widget-view+json": {
       "model_id": "",
       "version_major": 2,
       "version_minor": 0
      },
      "text/plain": [
       "HBox(children=(FloatProgress(value=0.0, description='Training', layout=Layout(flex='2'), max=563.0, style=Prog…"
      ]
     },
     "metadata": {},
     "output_type": "display_data"
    },
    {
     "name": "stdout",
     "output_type": "stream",
     "text": [
      "Epoch 165: train=24.2519, val=23.9304, took 17.126 s\n"
     ]
    },
    {
     "data": {
      "application/vnd.jupyter.widget-view+json": {
       "model_id": "",
       "version_major": 2,
       "version_minor": 0
      },
      "text/plain": [
       "HBox(children=(FloatProgress(value=0.0, description='Training', layout=Layout(flex='2'), max=563.0, style=Prog…"
      ]
     },
     "metadata": {},
     "output_type": "display_data"
    },
    {
     "name": "stdout",
     "output_type": "stream",
     "text": [
      "Epoch 166: train=24.2434, val=23.9282, took 17.122 s\n"
     ]
    },
    {
     "data": {
      "application/vnd.jupyter.widget-view+json": {
       "model_id": "",
       "version_major": 2,
       "version_minor": 0
      },
      "text/plain": [
       "HBox(children=(FloatProgress(value=0.0, description='Training', layout=Layout(flex='2'), max=563.0, style=Prog…"
      ]
     },
     "metadata": {},
     "output_type": "display_data"
    },
    {
     "name": "stdout",
     "output_type": "stream",
     "text": [
      "Epoch 167: train=24.2385, val=23.9232, took 16.944 s\n"
     ]
    },
    {
     "data": {
      "application/vnd.jupyter.widget-view+json": {
       "model_id": "",
       "version_major": 2,
       "version_minor": 0
      },
      "text/plain": [
       "HBox(children=(FloatProgress(value=0.0, description='Training', layout=Layout(flex='2'), max=563.0, style=Prog…"
      ]
     },
     "metadata": {},
     "output_type": "display_data"
    },
    {
     "name": "stdout",
     "output_type": "stream",
     "text": [
      "Epoch 168: train=24.2305, val=23.9192, took 16.832 s\n"
     ]
    },
    {
     "data": {
      "application/vnd.jupyter.widget-view+json": {
       "model_id": "",
       "version_major": 2,
       "version_minor": 0
      },
      "text/plain": [
       "HBox(children=(FloatProgress(value=0.0, description='Training', layout=Layout(flex='2'), max=563.0, style=Prog…"
      ]
     },
     "metadata": {},
     "output_type": "display_data"
    },
    {
     "name": "stdout",
     "output_type": "stream",
     "text": [
      "Epoch 169: train=24.225, val=23.9154, took 16.689 s\n"
     ]
    },
    {
     "data": {
      "application/vnd.jupyter.widget-view+json": {
       "model_id": "",
       "version_major": 2,
       "version_minor": 0
      },
      "text/plain": [
       "HBox(children=(FloatProgress(value=0.0, description='Training', layout=Layout(flex='2'), max=563.0, style=Prog…"
      ]
     },
     "metadata": {},
     "output_type": "display_data"
    },
    {
     "name": "stdout",
     "output_type": "stream",
     "text": [
      "Epoch 170: train=24.2177, val=23.9318, took 16.849 s\n"
     ]
    },
    {
     "data": {
      "application/vnd.jupyter.widget-view+json": {
       "model_id": "",
       "version_major": 2,
       "version_minor": 0
      },
      "text/plain": [
       "HBox(children=(FloatProgress(value=0.0, description='Training', layout=Layout(flex='2'), max=563.0, style=Prog…"
      ]
     },
     "metadata": {},
     "output_type": "display_data"
    },
    {
     "name": "stdout",
     "output_type": "stream",
     "text": [
      "Epoch 171: train=24.2111, val=23.8983, took 16.881 s\n"
     ]
    },
    {
     "data": {
      "application/vnd.jupyter.widget-view+json": {
       "model_id": "",
       "version_major": 2,
       "version_minor": 0
      },
      "text/plain": [
       "HBox(children=(FloatProgress(value=0.0, description='Training', layout=Layout(flex='2'), max=563.0, style=Prog…"
      ]
     },
     "metadata": {},
     "output_type": "display_data"
    },
    {
     "name": "stdout",
     "output_type": "stream",
     "text": [
      "Epoch 172: train=24.2019, val=23.9011, took 16.84 s\n"
     ]
    },
    {
     "data": {
      "application/vnd.jupyter.widget-view+json": {
       "model_id": "",
       "version_major": 2,
       "version_minor": 0
      },
      "text/plain": [
       "HBox(children=(FloatProgress(value=0.0, description='Training', layout=Layout(flex='2'), max=563.0, style=Prog…"
      ]
     },
     "metadata": {},
     "output_type": "display_data"
    },
    {
     "name": "stdout",
     "output_type": "stream",
     "text": [
      "Epoch 173: train=24.1958, val=23.8926, took 16.681 s\n"
     ]
    },
    {
     "data": {
      "application/vnd.jupyter.widget-view+json": {
       "model_id": "",
       "version_major": 2,
       "version_minor": 0
      },
      "text/plain": [
       "HBox(children=(FloatProgress(value=0.0, description='Training', layout=Layout(flex='2'), max=563.0, style=Prog…"
      ]
     },
     "metadata": {},
     "output_type": "display_data"
    },
    {
     "name": "stdout",
     "output_type": "stream",
     "text": [
      "Epoch 174: train=24.19, val=23.8851, took 16.952 s\n"
     ]
    },
    {
     "data": {
      "application/vnd.jupyter.widget-view+json": {
       "model_id": "",
       "version_major": 2,
       "version_minor": 0
      },
      "text/plain": [
       "HBox(children=(FloatProgress(value=0.0, description='Training', layout=Layout(flex='2'), max=563.0, style=Prog…"
      ]
     },
     "metadata": {},
     "output_type": "display_data"
    },
    {
     "name": "stdout",
     "output_type": "stream",
     "text": [
      "Epoch 175: train=24.1842, val=23.8968, took 16.983 s\n"
     ]
    },
    {
     "data": {
      "application/vnd.jupyter.widget-view+json": {
       "model_id": "",
       "version_major": 2,
       "version_minor": 0
      },
      "text/plain": [
       "HBox(children=(FloatProgress(value=0.0, description='Training', layout=Layout(flex='2'), max=563.0, style=Prog…"
      ]
     },
     "metadata": {},
     "output_type": "display_data"
    },
    {
     "name": "stdout",
     "output_type": "stream",
     "text": [
      "Epoch 176: train=24.1791, val=23.8995, took 16.987 s\n"
     ]
    },
    {
     "data": {
      "application/vnd.jupyter.widget-view+json": {
       "model_id": "",
       "version_major": 2,
       "version_minor": 0
      },
      "text/plain": [
       "HBox(children=(FloatProgress(value=0.0, description='Training', layout=Layout(flex='2'), max=563.0, style=Prog…"
      ]
     },
     "metadata": {},
     "output_type": "display_data"
    },
    {
     "name": "stdout",
     "output_type": "stream",
     "text": [
      "Epoch 177: train=24.1726, val=23.8884, took 16.737 s\n"
     ]
    },
    {
     "data": {
      "application/vnd.jupyter.widget-view+json": {
       "model_id": "",
       "version_major": 2,
       "version_minor": 0
      },
      "text/plain": [
       "HBox(children=(FloatProgress(value=0.0, description='Training', layout=Layout(flex='2'), max=563.0, style=Prog…"
      ]
     },
     "metadata": {},
     "output_type": "display_data"
    },
    {
     "name": "stdout",
     "output_type": "stream",
     "text": [
      "Epoch 178: train=24.1681, val=23.8827, took 17.061 s\n"
     ]
    },
    {
     "data": {
      "application/vnd.jupyter.widget-view+json": {
       "model_id": "",
       "version_major": 2,
       "version_minor": 0
      },
      "text/plain": [
       "HBox(children=(FloatProgress(value=0.0, description='Training', layout=Layout(flex='2'), max=563.0, style=Prog…"
      ]
     },
     "metadata": {},
     "output_type": "display_data"
    },
    {
     "name": "stdout",
     "output_type": "stream",
     "text": [
      "Epoch 179: train=24.1614, val=23.87, took 17.052 s\n"
     ]
    },
    {
     "data": {
      "application/vnd.jupyter.widget-view+json": {
       "model_id": "",
       "version_major": 2,
       "version_minor": 0
      },
      "text/plain": [
       "HBox(children=(FloatProgress(value=0.0, description='Training', layout=Layout(flex='2'), max=563.0, style=Prog…"
      ]
     },
     "metadata": {},
     "output_type": "display_data"
    },
    {
     "name": "stdout",
     "output_type": "stream",
     "text": [
      "Epoch 180: train=24.1527, val=23.8683, took 16.94 s\n"
     ]
    },
    {
     "data": {
      "application/vnd.jupyter.widget-view+json": {
       "model_id": "",
       "version_major": 2,
       "version_minor": 0
      },
      "text/plain": [
       "HBox(children=(FloatProgress(value=0.0, description='Training', layout=Layout(flex='2'), max=563.0, style=Prog…"
      ]
     },
     "metadata": {},
     "output_type": "display_data"
    },
    {
     "name": "stdout",
     "output_type": "stream",
     "text": [
      "Epoch 181: train=24.1472, val=23.8688, took 17.066 s\n"
     ]
    },
    {
     "data": {
      "application/vnd.jupyter.widget-view+json": {
       "model_id": "",
       "version_major": 2,
       "version_minor": 0
      },
      "text/plain": [
       "HBox(children=(FloatProgress(value=0.0, description='Training', layout=Layout(flex='2'), max=563.0, style=Prog…"
      ]
     },
     "metadata": {},
     "output_type": "display_data"
    },
    {
     "name": "stdout",
     "output_type": "stream",
     "text": [
      "Epoch 182: train=24.1424, val=23.872, took 16.984 s\n"
     ]
    },
    {
     "data": {
      "application/vnd.jupyter.widget-view+json": {
       "model_id": "",
       "version_major": 2,
       "version_minor": 0
      },
      "text/plain": [
       "HBox(children=(FloatProgress(value=0.0, description='Training', layout=Layout(flex='2'), max=563.0, style=Prog…"
      ]
     },
     "metadata": {},
     "output_type": "display_data"
    },
    {
     "name": "stdout",
     "output_type": "stream",
     "text": [
      "Epoch 183: train=24.1366, val=23.8584, took 17.059 s\n"
     ]
    },
    {
     "data": {
      "application/vnd.jupyter.widget-view+json": {
       "model_id": "",
       "version_major": 2,
       "version_minor": 0
      },
      "text/plain": [
       "HBox(children=(FloatProgress(value=0.0, description='Training', layout=Layout(flex='2'), max=563.0, style=Prog…"
      ]
     },
     "metadata": {},
     "output_type": "display_data"
    },
    {
     "name": "stdout",
     "output_type": "stream",
     "text": [
      "Epoch 184: train=24.1305, val=23.8565, took 17.109 s\n"
     ]
    },
    {
     "data": {
      "application/vnd.jupyter.widget-view+json": {
       "model_id": "",
       "version_major": 2,
       "version_minor": 0
      },
      "text/plain": [
       "HBox(children=(FloatProgress(value=0.0, description='Training', layout=Layout(flex='2'), max=563.0, style=Prog…"
      ]
     },
     "metadata": {},
     "output_type": "display_data"
    },
    {
     "name": "stdout",
     "output_type": "stream",
     "text": [
      "Epoch 185: train=24.1258, val=23.8531, took 17.152 s\n"
     ]
    },
    {
     "data": {
      "application/vnd.jupyter.widget-view+json": {
       "model_id": "",
       "version_major": 2,
       "version_minor": 0
      },
      "text/plain": [
       "HBox(children=(FloatProgress(value=0.0, description='Training', layout=Layout(flex='2'), max=563.0, style=Prog…"
      ]
     },
     "metadata": {},
     "output_type": "display_data"
    },
    {
     "name": "stdout",
     "output_type": "stream",
     "text": [
      "Epoch 186: train=24.1204, val=23.8559, took 16.98 s\n"
     ]
    },
    {
     "data": {
      "application/vnd.jupyter.widget-view+json": {
       "model_id": "",
       "version_major": 2,
       "version_minor": 0
      },
      "text/plain": [
       "HBox(children=(FloatProgress(value=0.0, description='Training', layout=Layout(flex='2'), max=563.0, style=Prog…"
      ]
     },
     "metadata": {},
     "output_type": "display_data"
    },
    {
     "name": "stdout",
     "output_type": "stream",
     "text": [
      "Epoch 187: train=24.1145, val=23.8429, took 16.96 s\n"
     ]
    },
    {
     "data": {
      "application/vnd.jupyter.widget-view+json": {
       "model_id": "",
       "version_major": 2,
       "version_minor": 0
      },
      "text/plain": [
       "HBox(children=(FloatProgress(value=0.0, description='Training', layout=Layout(flex='2'), max=563.0, style=Prog…"
      ]
     },
     "metadata": {},
     "output_type": "display_data"
    },
    {
     "name": "stdout",
     "output_type": "stream",
     "text": [
      "Epoch 188: train=24.1064, val=23.8338, took 16.939 s\n"
     ]
    },
    {
     "data": {
      "application/vnd.jupyter.widget-view+json": {
       "model_id": "",
       "version_major": 2,
       "version_minor": 0
      },
      "text/plain": [
       "HBox(children=(FloatProgress(value=0.0, description='Training', layout=Layout(flex='2'), max=563.0, style=Prog…"
      ]
     },
     "metadata": {},
     "output_type": "display_data"
    },
    {
     "name": "stdout",
     "output_type": "stream",
     "text": [
      "Epoch 189: train=24.0983, val=23.8364, took 16.919 s\n"
     ]
    },
    {
     "data": {
      "application/vnd.jupyter.widget-view+json": {
       "model_id": "",
       "version_major": 2,
       "version_minor": 0
      },
      "text/plain": [
       "HBox(children=(FloatProgress(value=0.0, description='Training', layout=Layout(flex='2'), max=563.0, style=Prog…"
      ]
     },
     "metadata": {},
     "output_type": "display_data"
    },
    {
     "name": "stdout",
     "output_type": "stream",
     "text": [
      "Epoch 190: train=24.0947, val=23.8254, took 17.005 s\n"
     ]
    },
    {
     "data": {
      "application/vnd.jupyter.widget-view+json": {
       "model_id": "",
       "version_major": 2,
       "version_minor": 0
      },
      "text/plain": [
       "HBox(children=(FloatProgress(value=0.0, description='Training', layout=Layout(flex='2'), max=563.0, style=Prog…"
      ]
     },
     "metadata": {},
     "output_type": "display_data"
    },
    {
     "name": "stdout",
     "output_type": "stream",
     "text": [
      "Epoch 191: train=24.0892, val=23.8251, took 17.041 s\n"
     ]
    },
    {
     "data": {
      "application/vnd.jupyter.widget-view+json": {
       "model_id": "",
       "version_major": 2,
       "version_minor": 0
      },
      "text/plain": [
       "HBox(children=(FloatProgress(value=0.0, description='Training', layout=Layout(flex='2'), max=563.0, style=Prog…"
      ]
     },
     "metadata": {},
     "output_type": "display_data"
    },
    {
     "name": "stdout",
     "output_type": "stream",
     "text": [
      "Epoch 192: train=24.0855, val=23.837, took 17.139 s\n"
     ]
    },
    {
     "data": {
      "application/vnd.jupyter.widget-view+json": {
       "model_id": "",
       "version_major": 2,
       "version_minor": 0
      },
      "text/plain": [
       "HBox(children=(FloatProgress(value=0.0, description='Training', layout=Layout(flex='2'), max=563.0, style=Prog…"
      ]
     },
     "metadata": {},
     "output_type": "display_data"
    },
    {
     "name": "stdout",
     "output_type": "stream",
     "text": [
      "Epoch 193: train=24.082, val=23.8273, took 17.087 s\n"
     ]
    },
    {
     "data": {
      "application/vnd.jupyter.widget-view+json": {
       "model_id": "",
       "version_major": 2,
       "version_minor": 0
      },
      "text/plain": [
       "HBox(children=(FloatProgress(value=0.0, description='Training', layout=Layout(flex='2'), max=563.0, style=Prog…"
      ]
     },
     "metadata": {},
     "output_type": "display_data"
    },
    {
     "name": "stdout",
     "output_type": "stream",
     "text": [
      "Epoch 194: train=24.0766, val=23.8315, took 16.896 s\n"
     ]
    },
    {
     "data": {
      "application/vnd.jupyter.widget-view+json": {
       "model_id": "",
       "version_major": 2,
       "version_minor": 0
      },
      "text/plain": [
       "HBox(children=(FloatProgress(value=0.0, description='Training', layout=Layout(flex='2'), max=563.0, style=Prog…"
      ]
     },
     "metadata": {},
     "output_type": "display_data"
    },
    {
     "name": "stdout",
     "output_type": "stream",
     "text": [
      "Epoch 195: train=24.0698, val=23.8269, took 16.986 s\n"
     ]
    },
    {
     "data": {
      "application/vnd.jupyter.widget-view+json": {
       "model_id": "",
       "version_major": 2,
       "version_minor": 0
      },
      "text/plain": [
       "HBox(children=(FloatProgress(value=0.0, description='Training', layout=Layout(flex='2'), max=563.0, style=Prog…"
      ]
     },
     "metadata": {},
     "output_type": "display_data"
    },
    {
     "name": "stdout",
     "output_type": "stream",
     "text": [
      "Epoch 196: train=24.0644, val=23.8269, took 17.413 s\n"
     ]
    },
    {
     "data": {
      "application/vnd.jupyter.widget-view+json": {
       "model_id": "",
       "version_major": 2,
       "version_minor": 0
      },
      "text/plain": [
       "HBox(children=(FloatProgress(value=0.0, description='Training', layout=Layout(flex='2'), max=563.0, style=Prog…"
      ]
     },
     "metadata": {},
     "output_type": "display_data"
    },
    {
     "name": "stdout",
     "output_type": "stream",
     "text": [
      "Epoch 197: train=24.0596, val=23.8228, took 17.036 s\n"
     ]
    },
    {
     "data": {
      "application/vnd.jupyter.widget-view+json": {
       "model_id": "",
       "version_major": 2,
       "version_minor": 0
      },
      "text/plain": [
       "HBox(children=(FloatProgress(value=0.0, description='Training', layout=Layout(flex='2'), max=563.0, style=Prog…"
      ]
     },
     "metadata": {},
     "output_type": "display_data"
    },
    {
     "name": "stdout",
     "output_type": "stream",
     "text": [
      "Epoch 198: train=24.0485, val=23.799, took 17.091 s\n"
     ]
    },
    {
     "data": {
      "application/vnd.jupyter.widget-view+json": {
       "model_id": "",
       "version_major": 2,
       "version_minor": 0
      },
      "text/plain": [
       "HBox(children=(FloatProgress(value=0.0, description='Training', layout=Layout(flex='2'), max=563.0, style=Prog…"
      ]
     },
     "metadata": {},
     "output_type": "display_data"
    },
    {
     "name": "stdout",
     "output_type": "stream",
     "text": [
      "Epoch 199: train=24.0334, val=23.8045, took 17.138 s\n"
     ]
    },
    {
     "data": {
      "application/vnd.jupyter.widget-view+json": {
       "model_id": "",
       "version_major": 2,
       "version_minor": 0
      },
      "text/plain": [
       "HBox(children=(FloatProgress(value=0.0, description='Training', layout=Layout(flex='2'), max=563.0, style=Prog…"
      ]
     },
     "metadata": {},
     "output_type": "display_data"
    },
    {
     "name": "stdout",
     "output_type": "stream",
     "text": [
      "Epoch 200: train=24.0295, val=23.8013, took 17.053 s\n"
     ]
    },
    {
     "data": {
      "application/vnd.jupyter.widget-view+json": {
       "model_id": "",
       "version_major": 2,
       "version_minor": 0
      },
      "text/plain": [
       "HBox(children=(FloatProgress(value=0.0, description='Training', layout=Layout(flex='2'), max=563.0, style=Prog…"
      ]
     },
     "metadata": {},
     "output_type": "display_data"
    },
    {
     "name": "stdout",
     "output_type": "stream",
     "text": [
      "Epoch 201: train=24.0244, val=23.7914, took 16.946 s\n"
     ]
    },
    {
     "data": {
      "application/vnd.jupyter.widget-view+json": {
       "model_id": "",
       "version_major": 2,
       "version_minor": 0
      },
      "text/plain": [
       "HBox(children=(FloatProgress(value=0.0, description='Training', layout=Layout(flex='2'), max=563.0, style=Prog…"
      ]
     },
     "metadata": {},
     "output_type": "display_data"
    },
    {
     "name": "stdout",
     "output_type": "stream",
     "text": [
      "Epoch 202: train=24.0198, val=23.7795, took 17.012 s\n"
     ]
    },
    {
     "data": {
      "application/vnd.jupyter.widget-view+json": {
       "model_id": "",
       "version_major": 2,
       "version_minor": 0
      },
      "text/plain": [
       "HBox(children=(FloatProgress(value=0.0, description='Training', layout=Layout(flex='2'), max=563.0, style=Prog…"
      ]
     },
     "metadata": {},
     "output_type": "display_data"
    },
    {
     "name": "stdout",
     "output_type": "stream",
     "text": [
      "Epoch 203: train=24.0155, val=23.7684, took 17.055 s\n"
     ]
    },
    {
     "data": {
      "application/vnd.jupyter.widget-view+json": {
       "model_id": "",
       "version_major": 2,
       "version_minor": 0
      },
      "text/plain": [
       "HBox(children=(FloatProgress(value=0.0, description='Training', layout=Layout(flex='2'), max=563.0, style=Prog…"
      ]
     },
     "metadata": {},
     "output_type": "display_data"
    },
    {
     "name": "stdout",
     "output_type": "stream",
     "text": [
      "Epoch 204: train=24.0113, val=23.7671, took 17.09 s\n"
     ]
    },
    {
     "data": {
      "application/vnd.jupyter.widget-view+json": {
       "model_id": "",
       "version_major": 2,
       "version_minor": 0
      },
      "text/plain": [
       "HBox(children=(FloatProgress(value=0.0, description='Training', layout=Layout(flex='2'), max=563.0, style=Prog…"
      ]
     },
     "metadata": {},
     "output_type": "display_data"
    },
    {
     "name": "stdout",
     "output_type": "stream",
     "text": [
      "Epoch 205: train=24.0053, val=23.755, took 16.966 s\n"
     ]
    },
    {
     "data": {
      "application/vnd.jupyter.widget-view+json": {
       "model_id": "",
       "version_major": 2,
       "version_minor": 0
      },
      "text/plain": [
       "HBox(children=(FloatProgress(value=0.0, description='Training', layout=Layout(flex='2'), max=563.0, style=Prog…"
      ]
     },
     "metadata": {},
     "output_type": "display_data"
    },
    {
     "name": "stdout",
     "output_type": "stream",
     "text": [
      "Epoch 206: train=23.9951, val=23.7374, took 17.115 s\n"
     ]
    },
    {
     "data": {
      "application/vnd.jupyter.widget-view+json": {
       "model_id": "",
       "version_major": 2,
       "version_minor": 0
      },
      "text/plain": [
       "HBox(children=(FloatProgress(value=0.0, description='Training', layout=Layout(flex='2'), max=563.0, style=Prog…"
      ]
     },
     "metadata": {},
     "output_type": "display_data"
    },
    {
     "name": "stdout",
     "output_type": "stream",
     "text": [
      "Epoch 207: train=23.978, val=23.7328, took 16.949 s\n"
     ]
    },
    {
     "data": {
      "application/vnd.jupyter.widget-view+json": {
       "model_id": "",
       "version_major": 2,
       "version_minor": 0
      },
      "text/plain": [
       "HBox(children=(FloatProgress(value=0.0, description='Training', layout=Layout(flex='2'), max=563.0, style=Prog…"
      ]
     },
     "metadata": {},
     "output_type": "display_data"
    },
    {
     "name": "stdout",
     "output_type": "stream",
     "text": [
      "Epoch 208: train=23.9734, val=23.731, took 17.133 s\n"
     ]
    },
    {
     "data": {
      "application/vnd.jupyter.widget-view+json": {
       "model_id": "",
       "version_major": 2,
       "version_minor": 0
      },
      "text/plain": [
       "HBox(children=(FloatProgress(value=0.0, description='Training', layout=Layout(flex='2'), max=563.0, style=Prog…"
      ]
     },
     "metadata": {},
     "output_type": "display_data"
    },
    {
     "name": "stdout",
     "output_type": "stream",
     "text": [
      "Epoch 209: train=23.9684, val=23.7219, took 17.038 s\n"
     ]
    },
    {
     "data": {
      "application/vnd.jupyter.widget-view+json": {
       "model_id": "",
       "version_major": 2,
       "version_minor": 0
      },
      "text/plain": [
       "HBox(children=(FloatProgress(value=0.0, description='Training', layout=Layout(flex='2'), max=563.0, style=Prog…"
      ]
     },
     "metadata": {},
     "output_type": "display_data"
    },
    {
     "name": "stdout",
     "output_type": "stream",
     "text": [
      "Epoch 210: train=23.9652, val=23.7179, took 16.988 s\n"
     ]
    },
    {
     "data": {
      "application/vnd.jupyter.widget-view+json": {
       "model_id": "",
       "version_major": 2,
       "version_minor": 0
      },
      "text/plain": [
       "HBox(children=(FloatProgress(value=0.0, description='Training', layout=Layout(flex='2'), max=563.0, style=Prog…"
      ]
     },
     "metadata": {},
     "output_type": "display_data"
    },
    {
     "name": "stdout",
     "output_type": "stream",
     "text": [
      "Epoch 211: train=23.9603, val=23.7189, took 17.079 s\n"
     ]
    },
    {
     "data": {
      "application/vnd.jupyter.widget-view+json": {
       "model_id": "",
       "version_major": 2,
       "version_minor": 0
      },
      "text/plain": [
       "HBox(children=(FloatProgress(value=0.0, description='Training', layout=Layout(flex='2'), max=563.0, style=Prog…"
      ]
     },
     "metadata": {},
     "output_type": "display_data"
    },
    {
     "name": "stdout",
     "output_type": "stream",
     "text": [
      "Epoch 212: train=23.9559, val=23.7115, took 17.051 s\n"
     ]
    },
    {
     "data": {
      "application/vnd.jupyter.widget-view+json": {
       "model_id": "",
       "version_major": 2,
       "version_minor": 0
      },
      "text/plain": [
       "HBox(children=(FloatProgress(value=0.0, description='Training', layout=Layout(flex='2'), max=563.0, style=Prog…"
      ]
     },
     "metadata": {},
     "output_type": "display_data"
    },
    {
     "name": "stdout",
     "output_type": "stream",
     "text": [
      "Epoch 213: train=23.9506, val=23.7141, took 16.915 s\n"
     ]
    },
    {
     "data": {
      "application/vnd.jupyter.widget-view+json": {
       "model_id": "",
       "version_major": 2,
       "version_minor": 0
      },
      "text/plain": [
       "HBox(children=(FloatProgress(value=0.0, description='Training', layout=Layout(flex='2'), max=563.0, style=Prog…"
      ]
     },
     "metadata": {},
     "output_type": "display_data"
    },
    {
     "name": "stdout",
     "output_type": "stream",
     "text": [
      "Epoch 214: train=23.9464, val=23.706, took 16.972 s\n"
     ]
    },
    {
     "data": {
      "application/vnd.jupyter.widget-view+json": {
       "model_id": "",
       "version_major": 2,
       "version_minor": 0
      },
      "text/plain": [
       "HBox(children=(FloatProgress(value=0.0, description='Training', layout=Layout(flex='2'), max=563.0, style=Prog…"
      ]
     },
     "metadata": {},
     "output_type": "display_data"
    },
    {
     "name": "stdout",
     "output_type": "stream",
     "text": [
      "Epoch 215: train=23.9429, val=23.7002, took 16.988 s\n"
     ]
    },
    {
     "data": {
      "application/vnd.jupyter.widget-view+json": {
       "model_id": "",
       "version_major": 2,
       "version_minor": 0
      },
      "text/plain": [
       "HBox(children=(FloatProgress(value=0.0, description='Training', layout=Layout(flex='2'), max=563.0, style=Prog…"
      ]
     },
     "metadata": {},
     "output_type": "display_data"
    },
    {
     "name": "stdout",
     "output_type": "stream",
     "text": [
      "Epoch 216: train=23.9381, val=23.6907, took 16.923 s\n"
     ]
    },
    {
     "data": {
      "application/vnd.jupyter.widget-view+json": {
       "model_id": "",
       "version_major": 2,
       "version_minor": 0
      },
      "text/plain": [
       "HBox(children=(FloatProgress(value=0.0, description='Training', layout=Layout(flex='2'), max=563.0, style=Prog…"
      ]
     },
     "metadata": {},
     "output_type": "display_data"
    },
    {
     "name": "stdout",
     "output_type": "stream",
     "text": [
      "Epoch 217: train=23.9332, val=23.6915, took 16.947 s\n"
     ]
    },
    {
     "data": {
      "application/vnd.jupyter.widget-view+json": {
       "model_id": "",
       "version_major": 2,
       "version_minor": 0
      },
      "text/plain": [
       "HBox(children=(FloatProgress(value=0.0, description='Training', layout=Layout(flex='2'), max=563.0, style=Prog…"
      ]
     },
     "metadata": {},
     "output_type": "display_data"
    },
    {
     "name": "stdout",
     "output_type": "stream",
     "text": [
      "Epoch 218: train=23.9286, val=23.6995, took 16.881 s\n"
     ]
    },
    {
     "data": {
      "application/vnd.jupyter.widget-view+json": {
       "model_id": "",
       "version_major": 2,
       "version_minor": 0
      },
      "text/plain": [
       "HBox(children=(FloatProgress(value=0.0, description='Training', layout=Layout(flex='2'), max=563.0, style=Prog…"
      ]
     },
     "metadata": {},
     "output_type": "display_data"
    },
    {
     "name": "stdout",
     "output_type": "stream",
     "text": [
      "Epoch 219: train=23.9236, val=23.6983, took 17.04 s\n"
     ]
    },
    {
     "data": {
      "application/vnd.jupyter.widget-view+json": {
       "model_id": "",
       "version_major": 2,
       "version_minor": 0
      },
      "text/plain": [
       "HBox(children=(FloatProgress(value=0.0, description='Training', layout=Layout(flex='2'), max=563.0, style=Prog…"
      ]
     },
     "metadata": {},
     "output_type": "display_data"
    },
    {
     "name": "stdout",
     "output_type": "stream",
     "text": [
      "Epoch 220: train=23.9193, val=23.7041, took 16.856 s\n"
     ]
    },
    {
     "data": {
      "application/vnd.jupyter.widget-view+json": {
       "model_id": "",
       "version_major": 2,
       "version_minor": 0
      },
      "text/plain": [
       "HBox(children=(FloatProgress(value=0.0, description='Training', layout=Layout(flex='2'), max=563.0, style=Prog…"
      ]
     },
     "metadata": {},
     "output_type": "display_data"
    },
    {
     "name": "stdout",
     "output_type": "stream",
     "text": [
      "Epoch 221: train=23.9168, val=23.6727, took 16.982 s\n"
     ]
    },
    {
     "data": {
      "application/vnd.jupyter.widget-view+json": {
       "model_id": "",
       "version_major": 2,
       "version_minor": 0
      },
      "text/plain": [
       "HBox(children=(FloatProgress(value=0.0, description='Training', layout=Layout(flex='2'), max=563.0, style=Prog…"
      ]
     },
     "metadata": {},
     "output_type": "display_data"
    },
    {
     "name": "stdout",
     "output_type": "stream",
     "text": [
      "Epoch 222: train=23.9097, val=23.6466, took 17.115 s\n"
     ]
    },
    {
     "data": {
      "application/vnd.jupyter.widget-view+json": {
       "model_id": "",
       "version_major": 2,
       "version_minor": 0
      },
      "text/plain": [
       "HBox(children=(FloatProgress(value=0.0, description='Training', layout=Layout(flex='2'), max=563.0, style=Prog…"
      ]
     },
     "metadata": {},
     "output_type": "display_data"
    },
    {
     "name": "stdout",
     "output_type": "stream",
     "text": [
      "Epoch 223: train=23.8905, val=23.6486, took 17.131 s\n"
     ]
    },
    {
     "data": {
      "application/vnd.jupyter.widget-view+json": {
       "model_id": "",
       "version_major": 2,
       "version_minor": 0
      },
      "text/plain": [
       "HBox(children=(FloatProgress(value=0.0, description='Training', layout=Layout(flex='2'), max=563.0, style=Prog…"
      ]
     },
     "metadata": {},
     "output_type": "display_data"
    },
    {
     "name": "stdout",
     "output_type": "stream",
     "text": [
      "Epoch 224: train=23.8874, val=23.6426, took 17.291 s\n"
     ]
    },
    {
     "data": {
      "application/vnd.jupyter.widget-view+json": {
       "model_id": "",
       "version_major": 2,
       "version_minor": 0
      },
      "text/plain": [
       "HBox(children=(FloatProgress(value=0.0, description='Training', layout=Layout(flex='2'), max=563.0, style=Prog…"
      ]
     },
     "metadata": {},
     "output_type": "display_data"
    },
    {
     "name": "stdout",
     "output_type": "stream",
     "text": [
      "Epoch 225: train=23.8828, val=23.64, took 17.098 s\n"
     ]
    },
    {
     "data": {
      "application/vnd.jupyter.widget-view+json": {
       "model_id": "",
       "version_major": 2,
       "version_minor": 0
      },
      "text/plain": [
       "HBox(children=(FloatProgress(value=0.0, description='Training', layout=Layout(flex='2'), max=563.0, style=Prog…"
      ]
     },
     "metadata": {},
     "output_type": "display_data"
    },
    {
     "name": "stdout",
     "output_type": "stream",
     "text": [
      "Epoch 226: train=23.879, val=23.642, took 17.104 s\n"
     ]
    },
    {
     "data": {
      "application/vnd.jupyter.widget-view+json": {
       "model_id": "",
       "version_major": 2,
       "version_minor": 0
      },
      "text/plain": [
       "HBox(children=(FloatProgress(value=0.0, description='Training', layout=Layout(flex='2'), max=563.0, style=Prog…"
      ]
     },
     "metadata": {},
     "output_type": "display_data"
    },
    {
     "name": "stdout",
     "output_type": "stream",
     "text": [
      "Epoch 227: train=23.8765, val=23.6335, took 17.024 s\n"
     ]
    },
    {
     "data": {
      "application/vnd.jupyter.widget-view+json": {
       "model_id": "",
       "version_major": 2,
       "version_minor": 0
      },
      "text/plain": [
       "HBox(children=(FloatProgress(value=0.0, description='Training', layout=Layout(flex='2'), max=563.0, style=Prog…"
      ]
     },
     "metadata": {},
     "output_type": "display_data"
    },
    {
     "name": "stdout",
     "output_type": "stream",
     "text": [
      "Epoch 228: train=23.8721, val=23.6386, took 17.12 s\n"
     ]
    },
    {
     "data": {
      "application/vnd.jupyter.widget-view+json": {
       "model_id": "",
       "version_major": 2,
       "version_minor": 0
      },
      "text/plain": [
       "HBox(children=(FloatProgress(value=0.0, description='Training', layout=Layout(flex='2'), max=563.0, style=Prog…"
      ]
     },
     "metadata": {},
     "output_type": "display_data"
    },
    {
     "name": "stdout",
     "output_type": "stream",
     "text": [
      "Epoch 229: train=23.8674, val=23.6325, took 17.143 s\n"
     ]
    },
    {
     "data": {
      "application/vnd.jupyter.widget-view+json": {
       "model_id": "",
       "version_major": 2,
       "version_minor": 0
      },
      "text/plain": [
       "HBox(children=(FloatProgress(value=0.0, description='Training', layout=Layout(flex='2'), max=563.0, style=Prog…"
      ]
     },
     "metadata": {},
     "output_type": "display_data"
    },
    {
     "name": "stdout",
     "output_type": "stream",
     "text": [
      "Epoch 230: train=23.8643, val=23.6298, took 17.159 s\n"
     ]
    },
    {
     "data": {
      "application/vnd.jupyter.widget-view+json": {
       "model_id": "",
       "version_major": 2,
       "version_minor": 0
      },
      "text/plain": [
       "HBox(children=(FloatProgress(value=0.0, description='Training', layout=Layout(flex='2'), max=563.0, style=Prog…"
      ]
     },
     "metadata": {},
     "output_type": "display_data"
    },
    {
     "name": "stdout",
     "output_type": "stream",
     "text": [
      "Epoch 231: train=23.8594, val=23.6234, took 17.027 s\n"
     ]
    },
    {
     "data": {
      "application/vnd.jupyter.widget-view+json": {
       "model_id": "",
       "version_major": 2,
       "version_minor": 0
      },
      "text/plain": [
       "HBox(children=(FloatProgress(value=0.0, description='Training', layout=Layout(flex='2'), max=563.0, style=Prog…"
      ]
     },
     "metadata": {},
     "output_type": "display_data"
    },
    {
     "name": "stdout",
     "output_type": "stream",
     "text": [
      "Epoch 232: train=23.8545, val=23.6153, took 17.107 s\n"
     ]
    },
    {
     "data": {
      "application/vnd.jupyter.widget-view+json": {
       "model_id": "",
       "version_major": 2,
       "version_minor": 0
      },
      "text/plain": [
       "HBox(children=(FloatProgress(value=0.0, description='Training', layout=Layout(flex='2'), max=563.0, style=Prog…"
      ]
     },
     "metadata": {},
     "output_type": "display_data"
    },
    {
     "name": "stdout",
     "output_type": "stream",
     "text": [
      "Epoch 233: train=23.8496, val=23.6044, took 17.065 s\n"
     ]
    },
    {
     "data": {
      "application/vnd.jupyter.widget-view+json": {
       "model_id": "",
       "version_major": 2,
       "version_minor": 0
      },
      "text/plain": [
       "HBox(children=(FloatProgress(value=0.0, description='Training', layout=Layout(flex='2'), max=563.0, style=Prog…"
      ]
     },
     "metadata": {},
     "output_type": "display_data"
    },
    {
     "name": "stdout",
     "output_type": "stream",
     "text": [
      "Epoch 234: train=23.8458, val=23.5991, took 17.146 s\n"
     ]
    },
    {
     "data": {
      "application/vnd.jupyter.widget-view+json": {
       "model_id": "",
       "version_major": 2,
       "version_minor": 0
      },
      "text/plain": [
       "HBox(children=(FloatProgress(value=0.0, description='Training', layout=Layout(flex='2'), max=563.0, style=Prog…"
      ]
     },
     "metadata": {},
     "output_type": "display_data"
    },
    {
     "name": "stdout",
     "output_type": "stream",
     "text": [
      "Epoch 235: train=23.8404, val=23.5826, took 16.803 s\n"
     ]
    },
    {
     "data": {
      "application/vnd.jupyter.widget-view+json": {
       "model_id": "",
       "version_major": 2,
       "version_minor": 0
      },
      "text/plain": [
       "HBox(children=(FloatProgress(value=0.0, description='Training', layout=Layout(flex='2'), max=563.0, style=Prog…"
      ]
     },
     "metadata": {},
     "output_type": "display_data"
    },
    {
     "name": "stdout",
     "output_type": "stream",
     "text": [
      "Epoch 236: train=23.8368, val=23.5985, took 16.974 s\n"
     ]
    },
    {
     "data": {
      "application/vnd.jupyter.widget-view+json": {
       "model_id": "",
       "version_major": 2,
       "version_minor": 0
      },
      "text/plain": [
       "HBox(children=(FloatProgress(value=0.0, description='Training', layout=Layout(flex='2'), max=563.0, style=Prog…"
      ]
     },
     "metadata": {},
     "output_type": "display_data"
    },
    {
     "name": "stdout",
     "output_type": "stream",
     "text": [
      "Epoch 237: train=23.8309, val=23.574, took 17.019 s\n"
     ]
    },
    {
     "data": {
      "application/vnd.jupyter.widget-view+json": {
       "model_id": "",
       "version_major": 2,
       "version_minor": 0
      },
      "text/plain": [
       "HBox(children=(FloatProgress(value=0.0, description='Training', layout=Layout(flex='2'), max=563.0, style=Prog…"
      ]
     },
     "metadata": {},
     "output_type": "display_data"
    },
    {
     "name": "stdout",
     "output_type": "stream",
     "text": [
      "Epoch 238: train=23.824, val=23.5811, took 17.006 s\n"
     ]
    },
    {
     "data": {
      "application/vnd.jupyter.widget-view+json": {
       "model_id": "",
       "version_major": 2,
       "version_minor": 0
      },
      "text/plain": [
       "HBox(children=(FloatProgress(value=0.0, description='Training', layout=Layout(flex='2'), max=563.0, style=Prog…"
      ]
     },
     "metadata": {},
     "output_type": "display_data"
    },
    {
     "name": "stdout",
     "output_type": "stream",
     "text": [
      "Epoch 239: train=23.8193, val=23.5744, took 17.017 s\n"
     ]
    },
    {
     "data": {
      "application/vnd.jupyter.widget-view+json": {
       "model_id": "",
       "version_major": 2,
       "version_minor": 0
      },
      "text/plain": [
       "HBox(children=(FloatProgress(value=0.0, description='Training', layout=Layout(flex='2'), max=563.0, style=Prog…"
      ]
     },
     "metadata": {},
     "output_type": "display_data"
    },
    {
     "name": "stdout",
     "output_type": "stream",
     "text": [
      "Epoch 240: train=23.815, val=23.5765, took 16.94 s\n"
     ]
    },
    {
     "data": {
      "application/vnd.jupyter.widget-view+json": {
       "model_id": "",
       "version_major": 2,
       "version_minor": 0
      },
      "text/plain": [
       "HBox(children=(FloatProgress(value=0.0, description='Training', layout=Layout(flex='2'), max=563.0, style=Prog…"
      ]
     },
     "metadata": {},
     "output_type": "display_data"
    },
    {
     "name": "stdout",
     "output_type": "stream",
     "text": [
      "Epoch 241: train=23.8106, val=23.5619, took 17.03 s\n"
     ]
    },
    {
     "data": {
      "application/vnd.jupyter.widget-view+json": {
       "model_id": "",
       "version_major": 2,
       "version_minor": 0
      },
      "text/plain": [
       "HBox(children=(FloatProgress(value=0.0, description='Training', layout=Layout(flex='2'), max=563.0, style=Prog…"
      ]
     },
     "metadata": {},
     "output_type": "display_data"
    },
    {
     "name": "stdout",
     "output_type": "stream",
     "text": [
      "Epoch 242: train=23.8053, val=23.5551, took 17.086 s\n"
     ]
    },
    {
     "data": {
      "application/vnd.jupyter.widget-view+json": {
       "model_id": "",
       "version_major": 2,
       "version_minor": 0
      },
      "text/plain": [
       "HBox(children=(FloatProgress(value=0.0, description='Training', layout=Layout(flex='2'), max=563.0, style=Prog…"
      ]
     },
     "metadata": {},
     "output_type": "display_data"
    },
    {
     "name": "stdout",
     "output_type": "stream",
     "text": [
      "Epoch 243: train=23.8007, val=23.5453, took 16.949 s\n"
     ]
    },
    {
     "data": {
      "application/vnd.jupyter.widget-view+json": {
       "model_id": "",
       "version_major": 2,
       "version_minor": 0
      },
      "text/plain": [
       "HBox(children=(FloatProgress(value=0.0, description='Training', layout=Layout(flex='2'), max=563.0, style=Prog…"
      ]
     },
     "metadata": {},
     "output_type": "display_data"
    },
    {
     "name": "stdout",
     "output_type": "stream",
     "text": [
      "Epoch 244: train=23.7965, val=23.5399, took 16.758 s\n"
     ]
    },
    {
     "data": {
      "application/vnd.jupyter.widget-view+json": {
       "model_id": "",
       "version_major": 2,
       "version_minor": 0
      },
      "text/plain": [
       "HBox(children=(FloatProgress(value=0.0, description='Training', layout=Layout(flex='2'), max=563.0, style=Prog…"
      ]
     },
     "metadata": {},
     "output_type": "display_data"
    },
    {
     "name": "stdout",
     "output_type": "stream",
     "text": [
      "Epoch 245: train=23.792, val=23.528, took 16.775 s\n"
     ]
    },
    {
     "data": {
      "application/vnd.jupyter.widget-view+json": {
       "model_id": "",
       "version_major": 2,
       "version_minor": 0
      },
      "text/plain": [
       "HBox(children=(FloatProgress(value=0.0, description='Training', layout=Layout(flex='2'), max=563.0, style=Prog…"
      ]
     },
     "metadata": {},
     "output_type": "display_data"
    },
    {
     "name": "stdout",
     "output_type": "stream",
     "text": [
      "Epoch 246: train=23.7877, val=23.5399, took 16.803 s\n"
     ]
    },
    {
     "data": {
      "application/vnd.jupyter.widget-view+json": {
       "model_id": "",
       "version_major": 2,
       "version_minor": 0
      },
      "text/plain": [
       "HBox(children=(FloatProgress(value=0.0, description='Training', layout=Layout(flex='2'), max=563.0, style=Prog…"
      ]
     },
     "metadata": {},
     "output_type": "display_data"
    },
    {
     "name": "stdout",
     "output_type": "stream",
     "text": [
      "Epoch 247: train=23.7856, val=23.5288, took 17.003 s\n"
     ]
    },
    {
     "data": {
      "application/vnd.jupyter.widget-view+json": {
       "model_id": "",
       "version_major": 2,
       "version_minor": 0
      },
      "text/plain": [
       "HBox(children=(FloatProgress(value=0.0, description='Training', layout=Layout(flex='2'), max=563.0, style=Prog…"
      ]
     },
     "metadata": {},
     "output_type": "display_data"
    },
    {
     "name": "stdout",
     "output_type": "stream",
     "text": [
      "Epoch 248: train=23.7806, val=23.5164, took 16.706 s\n"
     ]
    },
    {
     "data": {
      "application/vnd.jupyter.widget-view+json": {
       "model_id": "",
       "version_major": 2,
       "version_minor": 0
      },
      "text/plain": [
       "HBox(children=(FloatProgress(value=0.0, description='Training', layout=Layout(flex='2'), max=563.0, style=Prog…"
      ]
     },
     "metadata": {},
     "output_type": "display_data"
    },
    {
     "name": "stdout",
     "output_type": "stream",
     "text": [
      "Epoch 249: train=23.7776, val=23.5027, took 16.854 s\n"
     ]
    },
    {
     "data": {
      "application/vnd.jupyter.widget-view+json": {
       "model_id": "",
       "version_major": 2,
       "version_minor": 0
      },
      "text/plain": [
       "HBox(children=(FloatProgress(value=0.0, description='Training', layout=Layout(flex='2'), max=563.0, style=Prog…"
      ]
     },
     "metadata": {},
     "output_type": "display_data"
    },
    {
     "name": "stdout",
     "output_type": "stream",
     "text": [
      "Epoch 250: train=23.7728, val=23.5, took 16.77 s\n"
     ]
    },
    {
     "data": {
      "application/vnd.jupyter.widget-view+json": {
       "model_id": "",
       "version_major": 2,
       "version_minor": 0
      },
      "text/plain": [
       "HBox(children=(FloatProgress(value=0.0, description='Training', layout=Layout(flex='2'), max=563.0, style=Prog…"
      ]
     },
     "metadata": {},
     "output_type": "display_data"
    },
    {
     "name": "stdout",
     "output_type": "stream",
     "text": [
      "Epoch 251: train=23.769, val=23.5103, took 16.694 s\n"
     ]
    },
    {
     "data": {
      "application/vnd.jupyter.widget-view+json": {
       "model_id": "",
       "version_major": 2,
       "version_minor": 0
      },
      "text/plain": [
       "HBox(children=(FloatProgress(value=0.0, description='Training', layout=Layout(flex='2'), max=563.0, style=Prog…"
      ]
     },
     "metadata": {},
     "output_type": "display_data"
    },
    {
     "name": "stdout",
     "output_type": "stream",
     "text": [
      "Epoch 252: train=23.7667, val=23.5042, took 11.797 s\n"
     ]
    },
    {
     "data": {
      "application/vnd.jupyter.widget-view+json": {
       "model_id": "",
       "version_major": 2,
       "version_minor": 0
      },
      "text/plain": [
       "HBox(children=(FloatProgress(value=0.0, description='Training', layout=Layout(flex='2'), max=563.0, style=Prog…"
      ]
     },
     "metadata": {},
     "output_type": "display_data"
    },
    {
     "name": "stdout",
     "output_type": "stream",
     "text": [
      "Epoch 253: train=23.7609, val=23.5007, took 8.2595 s\n"
     ]
    },
    {
     "data": {
      "application/vnd.jupyter.widget-view+json": {
       "model_id": "",
       "version_major": 2,
       "version_minor": 0
      },
      "text/plain": [
       "HBox(children=(FloatProgress(value=0.0, description='Training', layout=Layout(flex='2'), max=563.0, style=Prog…"
      ]
     },
     "metadata": {},
     "output_type": "display_data"
    },
    {
     "name": "stdout",
     "output_type": "stream",
     "text": [
      "Epoch 254: train=23.7587, val=23.4974, took 8.0357 s\n"
     ]
    },
    {
     "data": {
      "application/vnd.jupyter.widget-view+json": {
       "model_id": "",
       "version_major": 2,
       "version_minor": 0
      },
      "text/plain": [
       "HBox(children=(FloatProgress(value=0.0, description='Training', layout=Layout(flex='2'), max=563.0, style=Prog…"
      ]
     },
     "metadata": {},
     "output_type": "display_data"
    },
    {
     "name": "stdout",
     "output_type": "stream",
     "text": [
      "Epoch 255: train=23.7531, val=23.4931, took 8.0569 s\n"
     ]
    },
    {
     "data": {
      "application/vnd.jupyter.widget-view+json": {
       "model_id": "",
       "version_major": 2,
       "version_minor": 0
      },
      "text/plain": [
       "HBox(children=(FloatProgress(value=0.0, description='Training', layout=Layout(flex='2'), max=563.0, style=Prog…"
      ]
     },
     "metadata": {},
     "output_type": "display_data"
    },
    {
     "name": "stdout",
     "output_type": "stream",
     "text": [
      "Epoch 256: train=23.7387, val=23.4729, took 8.095 s\n"
     ]
    },
    {
     "data": {
      "application/vnd.jupyter.widget-view+json": {
       "model_id": "",
       "version_major": 2,
       "version_minor": 0
      },
      "text/plain": [
       "HBox(children=(FloatProgress(value=0.0, description='Training', layout=Layout(flex='2'), max=563.0, style=Prog…"
      ]
     },
     "metadata": {},
     "output_type": "display_data"
    },
    {
     "name": "stdout",
     "output_type": "stream",
     "text": [
      "Epoch 257: train=23.7259, val=23.4633, took 8.1176 s\n"
     ]
    },
    {
     "data": {
      "application/vnd.jupyter.widget-view+json": {
       "model_id": "",
       "version_major": 2,
       "version_minor": 0
      },
      "text/plain": [
       "HBox(children=(FloatProgress(value=0.0, description='Training', layout=Layout(flex='2'), max=563.0, style=Prog…"
      ]
     },
     "metadata": {},
     "output_type": "display_data"
    },
    {
     "name": "stdout",
     "output_type": "stream",
     "text": [
      "Epoch 258: train=23.7211, val=23.4612, took 8.0414 s\n"
     ]
    },
    {
     "data": {
      "application/vnd.jupyter.widget-view+json": {
       "model_id": "",
       "version_major": 2,
       "version_minor": 0
      },
      "text/plain": [
       "HBox(children=(FloatProgress(value=0.0, description='Training', layout=Layout(flex='2'), max=563.0, style=Prog…"
      ]
     },
     "metadata": {},
     "output_type": "display_data"
    },
    {
     "name": "stdout",
     "output_type": "stream",
     "text": [
      "Epoch 259: train=23.7165, val=23.451, took 8.0895 s\n"
     ]
    },
    {
     "data": {
      "application/vnd.jupyter.widget-view+json": {
       "model_id": "",
       "version_major": 2,
       "version_minor": 0
      },
      "text/plain": [
       "HBox(children=(FloatProgress(value=0.0, description='Training', layout=Layout(flex='2'), max=563.0, style=Prog…"
      ]
     },
     "metadata": {},
     "output_type": "display_data"
    },
    {
     "name": "stdout",
     "output_type": "stream",
     "text": [
      "Epoch 260: train=23.7116, val=23.4433, took 8.0968 s\n"
     ]
    },
    {
     "data": {
      "application/vnd.jupyter.widget-view+json": {
       "model_id": "",
       "version_major": 2,
       "version_minor": 0
      },
      "text/plain": [
       "HBox(children=(FloatProgress(value=0.0, description='Training', layout=Layout(flex='2'), max=563.0, style=Prog…"
      ]
     },
     "metadata": {},
     "output_type": "display_data"
    },
    {
     "name": "stdout",
     "output_type": "stream",
     "text": [
      "Epoch 261: train=23.7071, val=23.4408, took 8.0809 s\n"
     ]
    },
    {
     "data": {
      "application/vnd.jupyter.widget-view+json": {
       "model_id": "",
       "version_major": 2,
       "version_minor": 0
      },
      "text/plain": [
       "HBox(children=(FloatProgress(value=0.0, description='Training', layout=Layout(flex='2'), max=563.0, style=Prog…"
      ]
     },
     "metadata": {},
     "output_type": "display_data"
    },
    {
     "name": "stdout",
     "output_type": "stream",
     "text": [
      "Epoch 262: train=23.7026, val=23.4374, took 8.039 s\n"
     ]
    },
    {
     "data": {
      "application/vnd.jupyter.widget-view+json": {
       "model_id": "",
       "version_major": 2,
       "version_minor": 0
      },
      "text/plain": [
       "HBox(children=(FloatProgress(value=0.0, description='Training', layout=Layout(flex='2'), max=563.0, style=Prog…"
      ]
     },
     "metadata": {},
     "output_type": "display_data"
    },
    {
     "name": "stdout",
     "output_type": "stream",
     "text": [
      "Epoch 263: train=23.6985, val=23.4228, took 8.0385 s\n"
     ]
    },
    {
     "data": {
      "application/vnd.jupyter.widget-view+json": {
       "model_id": "",
       "version_major": 2,
       "version_minor": 0
      },
      "text/plain": [
       "HBox(children=(FloatProgress(value=0.0, description='Training', layout=Layout(flex='2'), max=563.0, style=Prog…"
      ]
     },
     "metadata": {},
     "output_type": "display_data"
    },
    {
     "name": "stdout",
     "output_type": "stream",
     "text": [
      "Epoch 264: train=23.6935, val=23.4222, took 8.041 s\n"
     ]
    },
    {
     "data": {
      "application/vnd.jupyter.widget-view+json": {
       "model_id": "",
       "version_major": 2,
       "version_minor": 0
      },
      "text/plain": [
       "HBox(children=(FloatProgress(value=0.0, description='Training', layout=Layout(flex='2'), max=563.0, style=Prog…"
      ]
     },
     "metadata": {},
     "output_type": "display_data"
    },
    {
     "name": "stdout",
     "output_type": "stream",
     "text": [
      "Epoch 265: train=23.6906, val=23.4202, took 8.0308 s\n"
     ]
    },
    {
     "data": {
      "application/vnd.jupyter.widget-view+json": {
       "model_id": "",
       "version_major": 2,
       "version_minor": 0
      },
      "text/plain": [
       "HBox(children=(FloatProgress(value=0.0, description='Training', layout=Layout(flex='2'), max=563.0, style=Prog…"
      ]
     },
     "metadata": {},
     "output_type": "display_data"
    },
    {
     "name": "stdout",
     "output_type": "stream",
     "text": [
      "Epoch 266: train=23.6859, val=23.4211, took 8.0269 s\n"
     ]
    },
    {
     "data": {
      "application/vnd.jupyter.widget-view+json": {
       "model_id": "",
       "version_major": 2,
       "version_minor": 0
      },
      "text/plain": [
       "HBox(children=(FloatProgress(value=0.0, description='Training', layout=Layout(flex='2'), max=563.0, style=Prog…"
      ]
     },
     "metadata": {},
     "output_type": "display_data"
    },
    {
     "name": "stdout",
     "output_type": "stream",
     "text": [
      "Epoch 267: train=23.6817, val=23.4175, took 8.0248 s\n"
     ]
    },
    {
     "data": {
      "application/vnd.jupyter.widget-view+json": {
       "model_id": "",
       "version_major": 2,
       "version_minor": 0
      },
      "text/plain": [
       "HBox(children=(FloatProgress(value=0.0, description='Training', layout=Layout(flex='2'), max=563.0, style=Prog…"
      ]
     },
     "metadata": {},
     "output_type": "display_data"
    },
    {
     "name": "stdout",
     "output_type": "stream",
     "text": [
      "Epoch 268: train=23.6725, val=23.4039, took 8.0373 s\n"
     ]
    },
    {
     "data": {
      "application/vnd.jupyter.widget-view+json": {
       "model_id": "",
       "version_major": 2,
       "version_minor": 0
      },
      "text/plain": [
       "HBox(children=(FloatProgress(value=0.0, description='Training', layout=Layout(flex='2'), max=563.0, style=Prog…"
      ]
     },
     "metadata": {},
     "output_type": "display_data"
    },
    {
     "name": "stdout",
     "output_type": "stream",
     "text": [
      "Epoch 269: train=23.6591, val=23.3958, took 8.0341 s\n"
     ]
    },
    {
     "data": {
      "application/vnd.jupyter.widget-view+json": {
       "model_id": "",
       "version_major": 2,
       "version_minor": 0
      },
      "text/plain": [
       "HBox(children=(FloatProgress(value=0.0, description='Training', layout=Layout(flex='2'), max=563.0, style=Prog…"
      ]
     },
     "metadata": {},
     "output_type": "display_data"
    },
    {
     "name": "stdout",
     "output_type": "stream",
     "text": [
      "Epoch 270: train=23.6559, val=23.3933, took 8.0316 s\n"
     ]
    },
    {
     "data": {
      "application/vnd.jupyter.widget-view+json": {
       "model_id": "",
       "version_major": 2,
       "version_minor": 0
      },
      "text/plain": [
       "HBox(children=(FloatProgress(value=0.0, description='Training', layout=Layout(flex='2'), max=563.0, style=Prog…"
      ]
     },
     "metadata": {},
     "output_type": "display_data"
    },
    {
     "name": "stdout",
     "output_type": "stream",
     "text": [
      "Epoch 271: train=23.6517, val=23.3955, took 8.0329 s\n"
     ]
    },
    {
     "data": {
      "application/vnd.jupyter.widget-view+json": {
       "model_id": "",
       "version_major": 2,
       "version_minor": 0
      },
      "text/plain": [
       "HBox(children=(FloatProgress(value=0.0, description='Training', layout=Layout(flex='2'), max=563.0, style=Prog…"
      ]
     },
     "metadata": {},
     "output_type": "display_data"
    },
    {
     "name": "stdout",
     "output_type": "stream",
     "text": [
      "Epoch 272: train=23.6491, val=23.388, took 8.0307 s\n"
     ]
    },
    {
     "data": {
      "application/vnd.jupyter.widget-view+json": {
       "model_id": "",
       "version_major": 2,
       "version_minor": 0
      },
      "text/plain": [
       "HBox(children=(FloatProgress(value=0.0, description='Training', layout=Layout(flex='2'), max=563.0, style=Prog…"
      ]
     },
     "metadata": {},
     "output_type": "display_data"
    },
    {
     "name": "stdout",
     "output_type": "stream",
     "text": [
      "Epoch 273: train=23.6439, val=23.3841, took 8.0276 s\n"
     ]
    },
    {
     "data": {
      "application/vnd.jupyter.widget-view+json": {
       "model_id": "",
       "version_major": 2,
       "version_minor": 0
      },
      "text/plain": [
       "HBox(children=(FloatProgress(value=0.0, description='Training', layout=Layout(flex='2'), max=563.0, style=Prog…"
      ]
     },
     "metadata": {},
     "output_type": "display_data"
    },
    {
     "name": "stdout",
     "output_type": "stream",
     "text": [
      "Epoch 274: train=23.6414, val=23.3791, took 8.0323 s\n"
     ]
    },
    {
     "data": {
      "application/vnd.jupyter.widget-view+json": {
       "model_id": "",
       "version_major": 2,
       "version_minor": 0
      },
      "text/plain": [
       "HBox(children=(FloatProgress(value=0.0, description='Training', layout=Layout(flex='2'), max=563.0, style=Prog…"
      ]
     },
     "metadata": {},
     "output_type": "display_data"
    },
    {
     "name": "stdout",
     "output_type": "stream",
     "text": [
      "Epoch 275: train=23.6382, val=23.3792, took 8.0326 s\n"
     ]
    },
    {
     "data": {
      "application/vnd.jupyter.widget-view+json": {
       "model_id": "",
       "version_major": 2,
       "version_minor": 0
      },
      "text/plain": [
       "HBox(children=(FloatProgress(value=0.0, description='Training', layout=Layout(flex='2'), max=563.0, style=Prog…"
      ]
     },
     "metadata": {},
     "output_type": "display_data"
    },
    {
     "name": "stdout",
     "output_type": "stream",
     "text": [
      "Epoch 276: train=23.6346, val=23.3711, took 8.0332 s\n"
     ]
    },
    {
     "data": {
      "application/vnd.jupyter.widget-view+json": {
       "model_id": "",
       "version_major": 2,
       "version_minor": 0
      },
      "text/plain": [
       "HBox(children=(FloatProgress(value=0.0, description='Training', layout=Layout(flex='2'), max=563.0, style=Prog…"
      ]
     },
     "metadata": {},
     "output_type": "display_data"
    },
    {
     "name": "stdout",
     "output_type": "stream",
     "text": [
      "Epoch 277: train=23.6302, val=23.3671, took 8.0407 s\n"
     ]
    },
    {
     "data": {
      "application/vnd.jupyter.widget-view+json": {
       "model_id": "",
       "version_major": 2,
       "version_minor": 0
      },
      "text/plain": [
       "HBox(children=(FloatProgress(value=0.0, description='Training', layout=Layout(flex='2'), max=563.0, style=Prog…"
      ]
     },
     "metadata": {},
     "output_type": "display_data"
    },
    {
     "name": "stdout",
     "output_type": "stream",
     "text": [
      "Epoch 278: train=23.6262, val=23.367, took 8.0676 s\n"
     ]
    },
    {
     "data": {
      "application/vnd.jupyter.widget-view+json": {
       "model_id": "",
       "version_major": 2,
       "version_minor": 0
      },
      "text/plain": [
       "HBox(children=(FloatProgress(value=0.0, description='Training', layout=Layout(flex='2'), max=563.0, style=Prog…"
      ]
     },
     "metadata": {},
     "output_type": "display_data"
    },
    {
     "name": "stdout",
     "output_type": "stream",
     "text": [
      "Epoch 279: train=23.6241, val=23.3655, took 8.0746 s\n"
     ]
    },
    {
     "data": {
      "application/vnd.jupyter.widget-view+json": {
       "model_id": "",
       "version_major": 2,
       "version_minor": 0
      },
      "text/plain": [
       "HBox(children=(FloatProgress(value=0.0, description='Training', layout=Layout(flex='2'), max=563.0, style=Prog…"
      ]
     },
     "metadata": {},
     "output_type": "display_data"
    },
    {
     "name": "stdout",
     "output_type": "stream",
     "text": [
      "Epoch 280: train=23.6197, val=23.3724, took 8.044 s\n"
     ]
    },
    {
     "data": {
      "application/vnd.jupyter.widget-view+json": {
       "model_id": "",
       "version_major": 2,
       "version_minor": 0
      },
      "text/plain": [
       "HBox(children=(FloatProgress(value=0.0, description='Training', layout=Layout(flex='2'), max=563.0, style=Prog…"
      ]
     },
     "metadata": {},
     "output_type": "display_data"
    },
    {
     "name": "stdout",
     "output_type": "stream",
     "text": [
      "Epoch 281: train=23.6178, val=23.3642, took 8.1819 s\n"
     ]
    },
    {
     "data": {
      "application/vnd.jupyter.widget-view+json": {
       "model_id": "",
       "version_major": 2,
       "version_minor": 0
      },
      "text/plain": [
       "HBox(children=(FloatProgress(value=0.0, description='Training', layout=Layout(flex='2'), max=563.0, style=Prog…"
      ]
     },
     "metadata": {},
     "output_type": "display_data"
    },
    {
     "name": "stdout",
     "output_type": "stream",
     "text": [
      "Epoch 282: train=23.614, val=23.3606, took 8.0892 s\n"
     ]
    },
    {
     "data": {
      "application/vnd.jupyter.widget-view+json": {
       "model_id": "",
       "version_major": 2,
       "version_minor": 0
      },
      "text/plain": [
       "HBox(children=(FloatProgress(value=0.0, description='Training', layout=Layout(flex='2'), max=563.0, style=Prog…"
      ]
     },
     "metadata": {},
     "output_type": "display_data"
    },
    {
     "name": "stdout",
     "output_type": "stream",
     "text": [
      "Epoch 283: train=23.6039, val=23.3353, took 8.0911 s\n"
     ]
    },
    {
     "data": {
      "application/vnd.jupyter.widget-view+json": {
       "model_id": "",
       "version_major": 2,
       "version_minor": 0
      },
      "text/plain": [
       "HBox(children=(FloatProgress(value=0.0, description='Training', layout=Layout(flex='2'), max=563.0, style=Prog…"
      ]
     },
     "metadata": {},
     "output_type": "display_data"
    },
    {
     "name": "stdout",
     "output_type": "stream",
     "text": [
      "Epoch 284: train=23.5933, val=23.3359, took 8.3065 s\n"
     ]
    },
    {
     "data": {
      "application/vnd.jupyter.widget-view+json": {
       "model_id": "",
       "version_major": 2,
       "version_minor": 0
      },
      "text/plain": [
       "HBox(children=(FloatProgress(value=0.0, description='Training', layout=Layout(flex='2'), max=563.0, style=Prog…"
      ]
     },
     "metadata": {},
     "output_type": "display_data"
    },
    {
     "name": "stdout",
     "output_type": "stream",
     "text": [
      "Epoch 285: train=23.5887, val=23.3161, took 8.3211 s\n"
     ]
    },
    {
     "data": {
      "application/vnd.jupyter.widget-view+json": {
       "model_id": "",
       "version_major": 2,
       "version_minor": 0
      },
      "text/plain": [
       "HBox(children=(FloatProgress(value=0.0, description='Training', layout=Layout(flex='2'), max=563.0, style=Prog…"
      ]
     },
     "metadata": {},
     "output_type": "display_data"
    },
    {
     "name": "stdout",
     "output_type": "stream",
     "text": [
      "Epoch 286: train=23.5843, val=23.3197, took 8.3228 s\n"
     ]
    },
    {
     "data": {
      "application/vnd.jupyter.widget-view+json": {
       "model_id": "",
       "version_major": 2,
       "version_minor": 0
      },
      "text/plain": [
       "HBox(children=(FloatProgress(value=0.0, description='Training', layout=Layout(flex='2'), max=563.0, style=Prog…"
      ]
     },
     "metadata": {},
     "output_type": "display_data"
    },
    {
     "name": "stdout",
     "output_type": "stream",
     "text": [
      "Epoch 287: train=23.5807, val=23.315, took 8.2765 s\n"
     ]
    },
    {
     "data": {
      "application/vnd.jupyter.widget-view+json": {
       "model_id": "",
       "version_major": 2,
       "version_minor": 0
      },
      "text/plain": [
       "HBox(children=(FloatProgress(value=0.0, description='Training', layout=Layout(flex='2'), max=563.0, style=Prog…"
      ]
     },
     "metadata": {},
     "output_type": "display_data"
    },
    {
     "name": "stdout",
     "output_type": "stream",
     "text": [
      "Epoch 288: train=23.5767, val=23.3157, took 8.0828 s\n"
     ]
    },
    {
     "data": {
      "application/vnd.jupyter.widget-view+json": {
       "model_id": "",
       "version_major": 2,
       "version_minor": 0
      },
      "text/plain": [
       "HBox(children=(FloatProgress(value=0.0, description='Training', layout=Layout(flex='2'), max=563.0, style=Prog…"
      ]
     },
     "metadata": {},
     "output_type": "display_data"
    },
    {
     "name": "stdout",
     "output_type": "stream",
     "text": [
      "Epoch 289: train=23.5734, val=23.3101, took 8.0845 s\n"
     ]
    },
    {
     "data": {
      "application/vnd.jupyter.widget-view+json": {
       "model_id": "",
       "version_major": 2,
       "version_minor": 0
      },
      "text/plain": [
       "HBox(children=(FloatProgress(value=0.0, description='Training', layout=Layout(flex='2'), max=563.0, style=Prog…"
      ]
     },
     "metadata": {},
     "output_type": "display_data"
    },
    {
     "name": "stdout",
     "output_type": "stream",
     "text": [
      "Epoch 290: train=23.5577, val=23.2873, took 8.0747 s\n"
     ]
    },
    {
     "data": {
      "application/vnd.jupyter.widget-view+json": {
       "model_id": "",
       "version_major": 2,
       "version_minor": 0
      },
      "text/plain": [
       "HBox(children=(FloatProgress(value=0.0, description='Training', layout=Layout(flex='2'), max=563.0, style=Prog…"
      ]
     },
     "metadata": {},
     "output_type": "display_data"
    },
    {
     "name": "stdout",
     "output_type": "stream",
     "text": [
      "Epoch 291: train=23.5385, val=23.2745, took 8.1178 s\n"
     ]
    },
    {
     "data": {
      "application/vnd.jupyter.widget-view+json": {
       "model_id": "",
       "version_major": 2,
       "version_minor": 0
      },
      "text/plain": [
       "HBox(children=(FloatProgress(value=0.0, description='Training', layout=Layout(flex='2'), max=563.0, style=Prog…"
      ]
     },
     "metadata": {},
     "output_type": "display_data"
    },
    {
     "name": "stdout",
     "output_type": "stream",
     "text": [
      "Epoch 292: train=23.5326, val=23.2714, took 8.0622 s\n"
     ]
    },
    {
     "data": {
      "application/vnd.jupyter.widget-view+json": {
       "model_id": "",
       "version_major": 2,
       "version_minor": 0
      },
      "text/plain": [
       "HBox(children=(FloatProgress(value=0.0, description='Training', layout=Layout(flex='2'), max=563.0, style=Prog…"
      ]
     },
     "metadata": {},
     "output_type": "display_data"
    },
    {
     "name": "stdout",
     "output_type": "stream",
     "text": [
      "Epoch 293: train=23.5166, val=23.2454, took 8.0183 s\n"
     ]
    },
    {
     "data": {
      "application/vnd.jupyter.widget-view+json": {
       "model_id": "",
       "version_major": 2,
       "version_minor": 0
      },
      "text/plain": [
       "HBox(children=(FloatProgress(value=0.0, description='Training', layout=Layout(flex='2'), max=563.0, style=Prog…"
      ]
     },
     "metadata": {},
     "output_type": "display_data"
    },
    {
     "name": "stdout",
     "output_type": "stream",
     "text": [
      "Epoch 294: train=23.4896, val=23.2222, took 8.0335 s\n"
     ]
    },
    {
     "data": {
      "application/vnd.jupyter.widget-view+json": {
       "model_id": "",
       "version_major": 2,
       "version_minor": 0
      },
      "text/plain": [
       "HBox(children=(FloatProgress(value=0.0, description='Training', layout=Layout(flex='2'), max=563.0, style=Prog…"
      ]
     },
     "metadata": {},
     "output_type": "display_data"
    },
    {
     "name": "stdout",
     "output_type": "stream",
     "text": [
      "Epoch 295: train=23.4694, val=23.2059, took 8.037 s\n"
     ]
    },
    {
     "data": {
      "application/vnd.jupyter.widget-view+json": {
       "model_id": "",
       "version_major": 2,
       "version_minor": 0
      },
      "text/plain": [
       "HBox(children=(FloatProgress(value=0.0, description='Training', layout=Layout(flex='2'), max=563.0, style=Prog…"
      ]
     },
     "metadata": {},
     "output_type": "display_data"
    },
    {
     "name": "stdout",
     "output_type": "stream",
     "text": [
      "Epoch 296: train=23.4556, val=23.2025, took 8.1643 s\n"
     ]
    },
    {
     "data": {
      "application/vnd.jupyter.widget-view+json": {
       "model_id": "",
       "version_major": 2,
       "version_minor": 0
      },
      "text/plain": [
       "HBox(children=(FloatProgress(value=0.0, description='Training', layout=Layout(flex='2'), max=563.0, style=Prog…"
      ]
     },
     "metadata": {},
     "output_type": "display_data"
    },
    {
     "name": "stdout",
     "output_type": "stream",
     "text": [
      "Epoch 297: train=23.4509, val=23.1928, took 8.0275 s\n"
     ]
    },
    {
     "data": {
      "application/vnd.jupyter.widget-view+json": {
       "model_id": "",
       "version_major": 2,
       "version_minor": 0
      },
      "text/plain": [
       "HBox(children=(FloatProgress(value=0.0, description='Training', layout=Layout(flex='2'), max=563.0, style=Prog…"
      ]
     },
     "metadata": {},
     "output_type": "display_data"
    },
    {
     "name": "stdout",
     "output_type": "stream",
     "text": [
      "Epoch 298: train=23.4468, val=23.1935, took 8.0283 s\n"
     ]
    },
    {
     "data": {
      "application/vnd.jupyter.widget-view+json": {
       "model_id": "",
       "version_major": 2,
       "version_minor": 0
      },
      "text/plain": [
       "HBox(children=(FloatProgress(value=0.0, description='Training', layout=Layout(flex='2'), max=563.0, style=Prog…"
      ]
     },
     "metadata": {},
     "output_type": "display_data"
    },
    {
     "name": "stdout",
     "output_type": "stream",
     "text": [
      "Epoch 299: train=23.4433, val=23.1938, took 8.0963 s\n",
      "\n"
     ]
    }
   ],
   "source": [
    "for result in trainNet(model, optimizer, loss,\n",
    "                        train_loader, val_loader,\n",
    "                        n_epochs, epoch_start=len(results),\n",
    "                        notebook=True):\n",
    "    \n",
    "    results = results.append(pd.Series(result._asdict()), ignore_index=True)\n",
    "    xs = results.index\n",
    "    \n",
    "    # Update the plot above\n",
    "    lines['train'].set_data(results.index,results.cost)\n",
    "    lines['val'].set_data(results.index,results.val)\n",
    "    \n",
    "    #filter first cost epoch (can be really large)\n",
    "    max_cost = max(max(results.cost if len(results.cost)<2 else results.cost[1:]), max(results.val))\n",
    "    min_cost = min(min(results.cost), min(results.val))\n",
    "    \n",
    "    # The plot limits need updating too\n",
    "    \n",
    "    \n",
    "    \n",
    "    ax.set_ylim(min_cost*.9, max_cost*1.1)  \n",
    "    ax.set_xlim(-.5, len(results.cost) - .5)\n",
    "\n",
    "    \n",
    "    # Redraw the figure\n",
    "    fig.canvas.draw()\n",
    "\n",
    "    # Save each model state dictionary\n",
    "    torch.save(model.state_dict(), output / f'{name}_{result.epoch}.pyt')"
   ]
  },
  {
   "cell_type": "markdown",
   "metadata": {},
   "source": [
    "Go ahead and save the final model (even though it was also saved above):"
   ]
  },
  {
   "cell_type": "code",
   "execution_count": null,
   "metadata": {},
   "outputs": [],
   "source": [
    "torch.save(model.state_dict(), output / f'{name}_final.pyt')"
   ]
  },
  {
   "cell_type": "markdown",
   "metadata": {},
   "source": [
    "Save the output results:"
   ]
  },
  {
   "cell_type": "code",
   "execution_count": null,
   "metadata": {},
   "outputs": [],
   "source": [
    "results.to_hdf(f'{name}_stats.hdf5', 'results')"
   ]
  },
  {
   "cell_type": "markdown",
   "metadata": {},
   "source": [
    "Save the plot above:"
   ]
  },
  {
   "cell_type": "code",
   "execution_count": null,
   "metadata": {},
   "outputs": [],
   "source": [
    "dual_train_plots(results.index,\n",
    "                 results.cost, results.val,\n",
    "                 results.cost, results.val)\n",
    "plt.tight_layout()\n",
    "plt.savefig(str(output / f'{name}_stats_a.png'))"
   ]
  },
  {
   "cell_type": "code",
   "execution_count": null,
   "metadata": {},
   "outputs": [],
   "source": []
  }
 ],
 "metadata": {
  "kernelspec": {
   "display_name": "goofit-june2020",
   "language": "python",
   "name": "goofit-june2020"
  },
  "language_info": {
   "codemirror_mode": {
    "name": "ipython",
    "version": 3
   },
   "file_extension": ".py",
   "mimetype": "text/x-python",
   "name": "python",
   "nbconvert_exporter": "python",
   "pygments_lexer": "ipython3",
   "version": "3.7.6"
  }
 },
 "nbformat": 4,
 "nbformat_minor": 2
}
