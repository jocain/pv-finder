{
 "cells": [
  {
   "cell_type": "code",
   "execution_count": 1,
   "metadata": {},
   "outputs": [],
   "source": [
    "##%matplotlib widget\n",
    "## with %matplotlib notebook: seems to require ipympl as part of environment, either\n",
    "## part of the conda environment or \"pip install ipympl\"\n",
    "## otherwise, does not show ANY plots in note\"book, plt.savefig() works\n",
    "%matplotlib notebook  \n",
    "##%matplotlib inline    ## --plt.savefig()  works, but re-sizing does NOT\n"
   ]
  },
  {
   "cell_type": "markdown",
   "metadata": {},
   "source": [
    "This notebook is the second attempt to read in track information and use it to predict the KDE used as input to PvFinder. This time, we are reading in poca KDEs rather than the original KDEs. \n",
    "\n",
    "collectdata_kde_C.py uses poca_z, poca_x, poca_y, major_axis_x, major_axis_y, and major_axis_z as the six track parameters (for the moment)\n"
   ]
  },
  {
   "cell_type": "markdown",
   "metadata": {},
   "source": [
    "Check the current GPU usage. Please try to be nice!"
   ]
  },
  {
   "cell_type": "code",
   "execution_count": 2,
   "metadata": {},
   "outputs": [
    {
     "name": "stdout",
     "output_type": "stream",
     "text": [
      "Sun Jan 24 10:09:56 2021       \r\n",
      "+-----------------------------------------------------------------------------+\r\n",
      "| NVIDIA-SMI 450.36.06    Driver Version: 450.36.06    CUDA Version: 11.0     |\r\n",
      "|-------------------------------+----------------------+----------------------+\r\n",
      "| GPU  Name        Persistence-M| Bus-Id        Disp.A | Volatile Uncorr. ECC |\r\n",
      "| Fan  Temp  Perf  Pwr:Usage/Cap|         Memory-Usage | GPU-Util  Compute M. |\r\n",
      "|                               |                      |               MIG M. |\r\n",
      "|===============================+======================+======================|\r\n",
      "|   0  GeForce RTX 208...  On   | 00000000:18:00.0 Off |                  N/A |\r\n",
      "| 29%   37C    P8    39W / 250W |      1MiB / 11019MiB |      0%      Default |\r\n",
      "|                               |                      |                  N/A |\r\n",
      "+-------------------------------+----------------------+----------------------+\r\n",
      "|   1  GeForce RTX 208...  On   | 00000000:3B:00.0 Off |                  N/A |\r\n",
      "| 52%   84C    P2   205W / 250W |   8195MiB / 11019MiB |     94%      Default |\r\n",
      "|                               |                      |                  N/A |\r\n",
      "+-------------------------------+----------------------+----------------------+\r\n",
      "                                                                               \r\n",
      "+-----------------------------------------------------------------------------+\r\n",
      "| Processes:                                                                  |\r\n",
      "|  GPU   GI   CI        PID   Type   Process name                  GPU Memory |\r\n",
      "|        ID   ID                                                   Usage      |\r\n",
      "|=============================================================================|\r\n",
      "|    1   N/A  N/A      3736      G   /usr/bin/X                         33MiB |\r\n",
      "|    1   N/A  N/A      3790      G   /usr/bin/gnome-shell               25MiB |\r\n",
      "|    1   N/A  N/A     53223      C   ...s/june2020-gpu/bin/python     8131MiB |\r\n",
      "+-----------------------------------------------------------------------------+\r\n"
     ]
    }
   ],
   "source": [
    "!nvidia-smi"
   ]
  },
  {
   "cell_type": "markdown",
   "metadata": {},
   "source": [
    "> **WARNING**: The card numbers here are *not* the same as in CUDA. You have been warned."
   ]
  },
  {
   "cell_type": "markdown",
   "metadata": {},
   "source": [
    "This notebook is first attempt to read in track information and use it to predict the KDE used as input to PvFinder.\n"
   ]
  },
  {
   "cell_type": "markdown",
   "metadata": {},
   "source": [
    "## Imports"
   ]
  },
  {
   "cell_type": "code",
   "execution_count": 3,
   "metadata": {},
   "outputs": [],
   "source": [
    "import matplotlib.pyplot as plt\n",
    "import numpy as np\n",
    "import time\n",
    "import torch\n",
    "import pandas as pd\n",
    "\n",
    "# Python 3 standard library\n",
    "from pathlib import Path\n",
    "\n",
    "##from torchsummary import summary"
   ]
  },
  {
   "cell_type": "markdown",
   "metadata": {},
   "source": [
    "### Set up local parameters"
   ]
  },
  {
   "cell_type": "code",
   "execution_count": 4,
   "metadata": {},
   "outputs": [],
   "source": [
    "n_epochs = 60\n",
    "\n",
    "# Name is the output file name\n",
    "\n",
    "\n",
    "\n",
    "\n",
    "\n",
    "folder = '24Jan_DDplus_KDE_B_loss_Ba_iter6B_floatAll_60epochs_1em5_4xwill'\n",
    "name   = folder\n",
    "\n",
    "# Make an output folder named \"name\" (change if you want)\n",
    "\n",
    "## Special instructions for those working on goofy at UC\n",
    "## Please be very careful to make sure that your folder\n",
    "## does not live in a subdirectory of your home directory\n",
    "## this disk has very little capacity. Instead, use \n",
    "## a subdirectory in /share/lazy with a symbolic link to\n",
    "## it in this (the notebooks) subdirectory\n",
    "folder = 'ML/' + folder\n",
    "output = Path(folder)\n",
    "\n",
    "\n",
    "# Size of batches\n",
    "batch_size = 48 ## batch_size = 24 ---> 4763MiB / 12066MiB on Titan V\n",
    "# How fast to learn\n",
    "learning_rate = 1e-5"
   ]
  },
  {
   "cell_type": "markdown",
   "metadata": {},
   "source": [
    "Make the output directory if it does not exist:"
   ]
  },
  {
   "cell_type": "code",
   "execution_count": 5,
   "metadata": {},
   "outputs": [],
   "source": [
    "output.mkdir(exist_ok=True)"
   ]
  },
  {
   "cell_type": "markdown",
   "metadata": {},
   "source": [
    "## Get the helper functions\n",
    "\n",
    "Add the directory with the model\n",
    "definitions to the path so we can import from it:\n",
    "\n",
    "> When you type `import X`,\n",
    "Python searches `sys.path` for a python\n",
    "file named `X.py` to import. So we need to add the model directory to the path."
   ]
  },
  {
   "cell_type": "code",
   "execution_count": 6,
   "metadata": {
    "scrolled": true
   },
   "outputs": [],
   "source": [
    "# From model/collectdata.py\n",
    "##from model.collectdata_kde_B import collect_t2kde_data\n",
    "## collectdata_kde_C should use the new poca KDE rather than the original kernel KDE\n",
    "from model.collectdata_kdeB_Ellipsoids import collect_t2kde_data\n",
    "\n",
    "\n",
    "# From model/loss.py\n",
    "##from loss import Loss\n",
    "## kde_loss_D includes botha ratio term and a chisq term, 98% ave_chisq\n",
    "## kde_loss_E adds a chi^4 term to the kde_loss_D return value\n",
    "## this is intended to emphasize the importance of values significantly different than zero\n",
    "from model.kde_loss_Ba import Loss\n",
    "\n",
    "##  TracksToKDE_Ellipsoids_SevenLayerCake has 7 hidden layers producing the 4000-bin KDE historgram\n",
    "##  It takes 9 input features (pocca centers + (A,B,C,D,E,F) . \n",
    "from model.models_kde import TracksToKDE_Ellipsoids_DDplus as Model\n",
    "\n",
    "\n",
    "from model.training_kde import trainNet, select_gpu, Results\n",
    "from model.plots import dual_train_plots, replace_in_ax"
   ]
  },
  {
   "cell_type": "code",
   "execution_count": 7,
   "metadata": {},
   "outputs": [],
   "source": [
    "# This gets built up during the run - do not rerun this cell\n",
    "results = pd.DataFrame([], columns=Results._fields)"
   ]
  },
  {
   "cell_type": "markdown",
   "metadata": {},
   "source": [
    "Set up Torch device configuration. All tensors and model parameters need to know where to be put.\n",
    "This takes a BUS ID number: The BUS ID is the same as the listing at the top of this script."
   ]
  },
  {
   "cell_type": "code",
   "execution_count": 8,
   "metadata": {},
   "outputs": [
    {
     "name": "stdout",
     "output_type": "stream",
     "text": [
      "1 available GPUs (initially using device 0):\n",
      "  0 GeForce RTX 2080 Ti\n"
     ]
    }
   ],
   "source": [
    "device = select_gpu(0)\n",
    "##device = \"cpu\""
   ]
  },
  {
   "cell_type": "markdown",
   "metadata": {},
   "source": [
    "## Loading data\n",
    "\n",
    "Load the dataset, split into parts, then move to device (see `collectdata.py` in the `../model` directory)"
   ]
  },
  {
   "cell_type": "markdown",
   "metadata": {},
   "source": [
    "# Preparing the model"
   ]
  },
  {
   "cell_type": "markdown",
   "metadata": {},
   "source": [
    "Prepare a model, use multiple GPUs if they are VISIBLE, and move the model to the device."
   ]
  },
  {
   "cell_type": "code",
   "execution_count": 9,
   "metadata": {
    "scrolled": true
   },
   "outputs": [],
   "source": [
    "##print(\"Let's use\", torch.cuda.device_count(), \"GPUs!\")\n",
    "##if torch.cuda.device_count() > 1:\n",
    "##    model = torch.nn.DataParallel(model)"
   ]
  },
  {
   "cell_type": "code",
   "execution_count": 10,
   "metadata": {},
   "outputs": [
    {
     "name": "stdout",
     "output_type": "stream",
     "text": [
      "ct, child =  0    Linear(in_features=9, out_features=50, bias=True)\n",
      "ct, child =  1    Linear(in_features=50, out_features=50, bias=True)\n",
      "ct, child =  2    Linear(in_features=50, out_features=50, bias=True)\n",
      "ct, child =  3    Linear(in_features=50, out_features=50, bias=True)\n",
      "ct, child =  4    Linear(in_features=50, out_features=50, bias=True)\n",
      "ct, child =  5    Linear(in_features=50, out_features=50, bias=True)\n",
      "ct, child =  6    Linear(in_features=50, out_features=50, bias=True)\n",
      "ct, child =  7    Linear(in_features=50, out_features=50, bias=True)\n",
      "ct, child =  8    Linear(in_features=50, out_features=50, bias=True)\n",
      "ct, child =  9    Linear(in_features=50, out_features=50, bias=True)\n",
      "ct, child =  10    Linear(in_features=50, out_features=50, bias=True)\n",
      "ct, child =  11    Linear(in_features=50, out_features=16000, bias=True)\n",
      "ct, child =  12    Conv1d(4, 25, kernel_size=(25,), stride=(1,), padding=(12,))\n",
      "ct, child =  13    Conv1d(25, 1, kernel_size=(5,), stride=(1,), padding=(2,))\n",
      "ct, child =  14    Linear(in_features=4000, out_features=4000, bias=True)\n",
      "ct, child =  15    Conv1d(25, 1, kernel_size=(15,), stride=(1,), padding=(7,))\n",
      "ct, child =  16    Dropout(p=0.15, inplace=False)\n",
      "ct, child =  17    Dropout(p=0.15, inplace=False)\n"
     ]
    }
   ],
   "source": [
    "## a comment on the web at https://pytorch.org/docs/stable/optim.html says\n",
    "\"\"\"\n",
    "If you need to move a model to GPU via .cuda(), please do so before constructing optimizers for it. \n",
    "Parameters of a model after .cuda() will be different objects with those before the call.\n",
    "\n",
    "In general, you should make sure that optimized parameters live in consistent locations when \n",
    "optimizers are constructed and used.\n",
    "\"\"\"\n",
    "## so move this here (although we are using model.to(device) not explicitly using .cuda()\n",
    "\n",
    "nOut1 = 50\n",
    "nOut2 = 50\n",
    "nOut3 = 50\n",
    "nOut4 = 50\n",
    "nOut5 = 50\n",
    "nOut6 = 50\n",
    "nOut7 = 50\n",
    "nOut8 = 50\n",
    "nOut9 = 50\n",
    "nOut10 = 50\n",
    "nOut11 = 50\n",
    "latentChannels = 4\n",
    "model = Model(nOut1,nOut2,nOut3,nOut4,nOut5,nOut6,nOut7,nOut8,nOut9,nOut10,nOut11,latentChannels)\n",
    "\n",
    "##summary(model, input_size=(4, 4000))\n",
    "##print(model.parameters)\n",
    "\n",
    "## add the following code to allow the user to freeze the some of the weights corresponding \n",
    "## to those taken from an earlier model trained with the original target histograms\n",
    "## presumably -- this leaves either the perturbative filter \"fixed\" and lets the \n",
    "## learning focus on the non-perturbative features, so get started faster, or vice versa\n",
    "ct = 0\n",
    "for child in model.children():\n",
    "  print('ct, child = ',ct, \"  \", child)\n",
    "  if ct < 0:\n",
    "    print(\"     About to set param.requires_grad=False for ct = \", ct, \"params\")\n",
    "    for param in child.parameters():\n",
    "        param.requires_grad = False \n",
    "  ct += 1\n",
    "##  mds 200121 loss = Loss(epsilon=1e-5,coefficient=1.0)\n",
    "##  loss = Loss(epsilon=1e-5,coefficient=2.5)\n",
    "##loss = Loss(epsilon=3e-5, debug=False)\n",
    "loss = Loss(epsilon=3e-5)"
   ]
  },
  {
   "cell_type": "markdown",
   "metadata": {},
   "source": [
    "Let's move the model's weight matricies to the GPU:"
   ]
  },
  {
   "cell_type": "code",
   "execution_count": 11,
   "metadata": {
    "scrolled": true
   },
   "outputs": [],
   "source": [
    "model = model.to(device)"
   ]
  },
  {
   "cell_type": "code",
   "execution_count": 12,
   "metadata": {
    "scrolled": true
   },
   "outputs": [],
   "source": [
    "optimizer = torch.optim.Adam(model.parameters(), lr=learning_rate)\n",
    "##optimizer = torch.optim.SGD(model.parameters(), lr=learning_rate)"
   ]
  },
  {
   "cell_type": "code",
   "execution_count": 13,
   "metadata": {
    "scrolled": false
   },
   "outputs": [
    {
     "name": "stdout",
     "output_type": "stream",
     "text": [
      "output =  ML/24Jan_DDplus_KDE_B_loss_Ba_iter5B_floatAll_75epochs_1em5_4xwill\n",
      "for model_dict\n",
      "index, k =   0    layer1.weight\n",
      "index, k =   1    layer1.bias\n",
      "index, k =   2    layer2.weight\n",
      "index, k =   3    layer2.bias\n",
      "index, k =   4    layer3.weight\n",
      "index, k =   5    layer3.bias\n",
      "index, k =   6    layer4.weight\n",
      "index, k =   7    layer4.bias\n",
      "index, k =   8    layer5.weight\n",
      "index, k =   9    layer5.bias\n",
      "index, k =   10    layer6.weight\n",
      "index, k =   11    layer6.bias\n",
      "index, k =   12    layer7.weight\n",
      "index, k =   13    layer7.bias\n",
      "index, k =   14    layer8.weight\n",
      "index, k =   15    layer8.bias\n",
      "index, k =   16    layer9.weight\n",
      "index, k =   17    layer9.bias\n",
      "index, k =   18    layer10.weight\n",
      "index, k =   19    layer10.bias\n",
      "index, k =   20    layer11.weight\n",
      "index, k =   21    layer11.bias\n",
      "index, k =   22    layer12new.weight\n",
      "index, k =   23    layer12new.bias\n",
      "index, k =   24    conv1.weight\n",
      "index, k =   25    conv1.bias\n",
      "index, k =   26    conv2.weight\n",
      "index, k =   27    conv2.bias\n",
      "index, k =   28    fc1.weight\n",
      "index, k =   29    fc1.bias\n",
      "index, k =   30    finalFilter.weight\n",
      "index, k =   31    finalFilter.bias\n",
      "dict_name =  ML/23Jan_DDplus_KDE_B_loss_Ba_iter4B_floatAll_75epochs_1em5_4xwill/23Jan_DDplus_KDE_B_loss_Ba_iter4B_floatAll_75epochs_1em5_4xwill_final.pyt\n",
      " \n",
      "  for pretrained_dict\n",
      "index, k =   0    layer1.weight\n",
      "index, k =   1    layer1.bias\n",
      "index, k =   2    layer2.weight\n",
      "index, k =   3    layer2.bias\n",
      "index, k =   4    layer3.weight\n",
      "index, k =   5    layer3.bias\n",
      "index, k =   6    layer4.weight\n",
      "index, k =   7    layer4.bias\n",
      "index, k =   8    layer5.weight\n",
      "index, k =   9    layer5.bias\n",
      "index, k =   10    layer6.weight\n",
      "index, k =   11    layer6.bias\n",
      "index, k =   12    layer7.weight\n",
      "index, k =   13    layer7.bias\n",
      "index, k =   14    layer8.weight\n",
      "index, k =   15    layer8.bias\n",
      "index, k =   16    layer9.weight\n",
      "index, k =   17    layer9.bias\n",
      "index, k =   18    layer10.weight\n",
      "index, k =   19    layer10.bias\n",
      "index, k =   20    layer11.weight\n",
      "index, k =   21    layer11.bias\n",
      "index, k =   22    layer12new.weight\n",
      "index, k =   23    layer12new.bias\n",
      "index, k =   24    conv1.weight\n",
      "index, k =   25    conv1.bias\n",
      "index, k =   26    conv2.weight\n",
      "index, k =   27    conv2.bias\n",
      "index, k =   28    fc1.weight\n",
      "index, k =   29    fc1.bias\n",
      "index, k =   30    finalFilter.weight\n",
      "index, k =   31    finalFilter.bias\n",
      "pretrained_dict iterated\n"
     ]
    },
    {
     "data": {
      "text/plain": [
       "<All keys matched successfully>"
      ]
     },
     "execution_count": 13,
     "metadata": {},
     "output_type": "execute_result"
    }
   ],
   "source": [
    "print('output = ',output)\n",
    "##print('oldOutput = ',oldOutput)\n",
    "##  use the first four layers from a pre-existing model\n",
    "##  see example at https://discuss.pytorch.org/t/how-to-load-part-of-pre-trained-model/1113\n",
    "\n",
    "##   ML -> /share/lazy/sokoloff/ML\n",
    "model_dict = model.state_dict()\n",
    "## mds 190725 for debugging\n",
    "print(\"for model_dict\")\n",
    "index = 0\n",
    "for k,v in model_dict.items():\n",
    "    print(\"index, k =  \",index,\"  \",k)\n",
    "    index = index+1\n",
    "##    print(\"value = \", v)\n",
    " \n",
    "updated_dict = model_dict\n",
    "##print(\"updated_dict = \",updated_dict)\n",
    "## when starting \"ab initio\", reduce biases as the bias gets summed for each track\n",
    "## contributing to the predicted KDE\n",
    "updated_dict[\"layer1.bias\"] = 0.005*model_dict[\"layer1.bias\"]\n",
    "updated_dict[\"layer2.bias\"] = 0.005*model_dict[\"layer2.bias\"]\n",
    "updated_dict[\"layer3.bias\"] = 0.005*model_dict[\"layer3.bias\"]\n",
    "updated_dict[\"layer4.bias\"] = 0.005*model_dict[\"layer4.bias\"]\n",
    "updated_dict[\"layer5.bias\"] = 0.005*model_dict[\"layer5.bias\"]\n",
    "updated_dict[\"layer6.bias\"] = 0.005*model_dict[\"layer6.bias\"]\n",
    "updated_dict[\"layer7.bias\"] = 0.005*model_dict[\"layer7.bias\"]\n",
    "updated_dict[\"layer8.bias\"] = 0.005*model_dict[\"layer8.bias\"]\n",
    "updated_dict[\"layer9.bias\"] = 0.005*model_dict[\"layer9.bias\"]\n",
    "updated_dict[\"layer10.bias\"] = 0.005*model_dict[\"layer10.bias\"]\n",
    "updated_dict[\"layer11.bias\"] = 0.005*model_dict[\"layer11.bias\"]\n",
    "\n",
    "model.load_state_dict(updated_dict,strict=False)\n",
    "\n",
    "model_dict = model.state_dict()\n",
    "##print(\"updated model_dict = \",model_dict)\n",
    "\n",
    "## print(\" \\n\",\"  for pretrained_dict\")\n",
    "## index = 0\n",
    "##for k,v in pretrained_dict.items():\n",
    "##    print(\"index, k =  \",index,\"  \",k)\n",
    "##    index = index+1\n",
    "## mds  \n",
    "\n",
    "##pretrained_dict = torch.load('ML/29July2020_Trks_to_KDE_C_lossB_100epochs_b64_1m3_nOut_50x50/29July2020_Trks_to_KDE_C_lossB_100epochs_b64_1m3_nOut_50x50_final.pyt')\n",
    "##print(\"model_dict instantiated\")\n",
    "# 1. filter out unnecessary keys\n",
    "##pretrained_dict = {k: v for k, v in pretrained_dict.items() if k in model_dict}\n",
    "##print(\"pretrained_dict iterated\")\n",
    "# 2. overwrite entries in the existing state dict\n",
    "##model_dict.update(pretrained_dict) \n",
    "##\n",
    "#   when starting from a model with a fully connected last layer rather than a convolutional layer\n",
    "# 3. load the new state dict\n",
    "#   need to use strict=False as the two models state model attributes do not agree exactly\n",
    "#   see https://pytorch.org/docs/master/_modules/torch/nn/modules/module.html#Module.load_state_dict\n",
    "\n",
    "##model.load_state_dict(pretrained_dict,strict=False)\n",
    "\n",
    "## print('model_dict =    ', model_dict)\n",
    "\n",
    "## finished at training cost = 1.46, validation cost = 1.50\n",
    "##d_folder = '25December__DDplus_loss_Ba_iter7_floatAll_800epochs_4em6'\n",
    "d_folder = '24Jan_DDplus_KDE_B_loss_Ba_iter5B_floatAll_75epochs_1em5_4xwill'\n",
    "d_name = d_folder\n",
    "suffix = 'final'\n",
    "dict_name = 'ML/' + d_folder + '/' + d_name + '_'+ suffix + '.pyt'\n",
    "print('dict_name = ',dict_name)\n",
    "pretrained_dict = torch.load(dict_name)\n",
    "\n",
    "print(\" \")\n",
    "print(\"  for pretrained_dict\")\n",
    "index = 0\n",
    "for k,v in pretrained_dict.items():\n",
    "    print(\"index, k =  \",index,\"  \",k)\n",
    "    index = index+1\n",
    " \n",
    "\n",
    "##print(\"model_dict instantiated\")\n",
    "# 1. filter out unnecessary keys\n",
    "pretrained_dict = {k: v for k, v in pretrained_dict.items() if k in model_dict}\n",
    "print(\"pretrained_dict iterated\")\n",
    "# 2. overwrite entries in the existing state dict\n",
    "model_dict.update(pretrained_dict) \n",
    "##\n",
    "#   when starting from a model with a fully connected last layer rather than a convolutional layer\n",
    "# 3. load the new state dict\n",
    "#   need to use strict=False as the two models state model attributes do not agree exactly\n",
    "#   see https://pytorch.org/docs/master/_modules/torch/nn/modules/module.html#Module.load_state_dict\n",
    "\n",
    "model.load_state_dict(pretrained_dict,strict=False)\n",
    "\n"
   ]
  },
  {
   "cell_type": "code",
   "execution_count": 14,
   "metadata": {},
   "outputs": [],
   "source": [
    "##print('validation.dataset.tensors = ',validation.dataset.tensors)\n",
    "fig_size = plt.rcParams[\"figure.figsize\"]\n",
    "fig_size[0] = 10\n",
    "fig_size[1] = 4\n",
    "plt.rcParams[\"figure.figsize\"] = fig_size"
   ]
  },
  {
   "cell_type": "code",
   "execution_count": 15,
   "metadata": {
    "scrolled": false
   },
   "outputs": [
    {
     "name": "stdout",
     "output_type": "stream",
     "text": [
      "Loading data...\n",
      "pocaMx.shape =  (80000,)\n",
      "nEvts =  80000\n",
      "len(pocaMx[0]) =  199\n",
      "len(pocaMx[1]) =  25\n",
      "len(pocaMx[2]) =  369\n",
      "len(pocaMx[3]) =  143\n",
      "len(pocaMx[4]) =  160\n",
      "majorAxis.shape =  (80000, 3)\n",
      "minorAxis_1.shape =  (80000, 3)\n",
      "minorAxis_2.shape =  (80000, 3)\n",
      "have entered six_ellipsoid_parameters\n",
      "  \n",
      " \n",
      "  nEvts =  80000\n",
      " iEvt, nTrks =  0 199\n",
      " iEvt, nTrks =  1 25\n",
      " iEvt, nTrks =  2 369\n",
      " iEvt, nTrks =  3 143\n",
      " iEvt, nTrks =  4 160\n",
      " iEvt, nTrks =  5 260\n",
      " iEvt, nTrks =  6 237\n",
      " iEvt, nTrks =  7 327\n",
      " iEvt, nTrks =  8 178\n",
      " iEvt, nTrks =  9 106\n",
      "A.shape =  (80000,)\n",
      "majorAxis[iTrk][0][0] =  0.00045611936\n",
      "majorAxis[iTrk][1][0] =  -4.8292455e-05\n",
      "majorAxis[iTrk][2][0] =  0.090019904\n",
      "minorAxis_1[iTrk][0][0] =  -1.8602173\n",
      "minorAxis_1[iTrk][1][0] =  -17.569641\n",
      "minorAxis_1[iTrk][2][0] =  4.7891795e-08\n",
      "minorAxis_2[iTrk][0][0] =  -17.569414\n",
      "minorAxis_2[iTrk][1][0] =  1.8601931\n",
      "minorAxis_2[iTrk][2][0] =  0.0900199\n",
      "  \n",
      "majorAxis[iTrk][0][0] =  0.002360258\n",
      "majorAxis[iTrk][1][0] =  -0.007426616\n",
      "majorAxis[iTrk][2][0] =  0.3710108\n",
      "minorAxis_1[iTrk][0][0] =  -16.837948\n",
      "minorAxis_1[iTrk][1][0] =  -5.3512807\n",
      "minorAxis_1[iTrk][2][0] =  8.157131e-09\n",
      "minorAxis_2[iTrk][0][0] =  -5.3501005\n",
      "minorAxis_2[iTrk][1][0] =  16.834236\n",
      "minorAxis_2[iTrk][2][0] =  0.3710108\n",
      "  \n",
      "majorAxis[iTrk][0][0] =  6.220712e-05\n",
      "majorAxis[iTrk][1][0] =  -4.4594188e-05\n",
      "majorAxis[iTrk][2][0] =  0.036773544\n",
      "minorAxis_1[iTrk][0][0] =  10.293747\n",
      "minorAxis_1[iTrk][1][0] =  14.359369\n",
      "minorAxis_1[iTrk][2][0] =  1.571041e-06\n",
      "minorAxis_2[iTrk][0][0] =  14.359338\n",
      "minorAxis_2[iTrk][1][0] =  -10.293725\n",
      "minorAxis_2[iTrk][2][0] =  -0.03677354\n",
      "  \n",
      "len(X) =  80000\n",
      "len(Xlist) =  1\n",
      "Loaded /share/lazy/will/data/June30_2020_80k_1.h5 in 179.4 s\n",
      "pocaMx.shape =  (80000,)\n",
      "nEvts =  80000\n",
      "len(pocaMx[0]) =  222\n",
      "len(pocaMx[1]) =  133\n",
      "len(pocaMx[2]) =  259\n",
      "len(pocaMx[3]) =  114\n",
      "len(pocaMx[4]) =  143\n",
      "majorAxis.shape =  (80000, 3)\n",
      "minorAxis_1.shape =  (80000, 3)\n",
      "minorAxis_2.shape =  (80000, 3)\n",
      "have entered six_ellipsoid_parameters\n",
      "  \n",
      " \n",
      "  nEvts =  80000\n",
      " iEvt, nTrks =  0 222\n",
      " iEvt, nTrks =  1 133\n",
      " iEvt, nTrks =  2 259\n",
      " iEvt, nTrks =  3 114\n",
      " iEvt, nTrks =  4 143\n",
      " iEvt, nTrks =  5 136\n",
      " iEvt, nTrks =  6 397\n",
      " iEvt, nTrks =  7 370\n",
      " iEvt, nTrks =  8 97\n",
      " iEvt, nTrks =  9 67\n",
      "A.shape =  (80000,)\n",
      "majorAxis[iTrk][0][0] =  -0.001036478\n",
      "majorAxis[iTrk][1][0] =  0.0009833863\n",
      "majorAxis[iTrk][2][0] =  0.15887721\n",
      "minorAxis_1[iTrk][0][0] =  -12.160475\n",
      "minorAxis_1[iTrk][1][0] =  -12.817002\n",
      "minorAxis_1[iTrk][2][0] =  0.0\n",
      "minorAxis_2[iTrk][0][0] =  -12.816484\n",
      "minorAxis_2[iTrk][1][0] =  12.159985\n",
      "minorAxis_2[iTrk][2][0] =  -0.15887721\n",
      "  \n",
      "majorAxis[iTrk][0][0] =  0.0016579849\n",
      "majorAxis[iTrk][1][0] =  0.0020989499\n",
      "majorAxis[iTrk][2][0] =  0.21738033\n",
      "minorAxis_1[iTrk][0][0] =  -13.864233\n",
      "minorAxis_1[iTrk][1][0] =  10.95152\n",
      "minorAxis_1[iTrk][2][0] =  -3.3017489e-09\n",
      "minorAxis_2[iTrk][0][0] =  10.95069\n",
      "minorAxis_2[iTrk][1][0] =  13.863184\n",
      "minorAxis_2[iTrk][2][0] =  -0.21738033\n",
      "  \n",
      "majorAxis[iTrk][0][0] =  0.00012481198\n",
      "majorAxis[iTrk][1][0] =  -0.00028747538\n",
      "majorAxis[iTrk][2][0] =  0.07441149\n",
      "minorAxis_1[iTrk][0][0] =  -16.206305\n",
      "minorAxis_1[iTrk][1][0] =  -7.036224\n",
      "minorAxis_1[iTrk][2][0] =  5.3456716e-08\n",
      "minorAxis_2[iTrk][0][0] =  -7.0361605\n",
      "minorAxis_2[iTrk][1][0] =  16.20616\n",
      "minorAxis_2[iTrk][2][0] =  0.07441148\n",
      "  \n",
      "len(X) =  80000\n",
      "len(Xlist) =  2\n",
      "Loaded /share/lazy/will/data/June30_2020_80k_2.h5 in 182.2 s\n",
      "pocaMx.shape =  (80000,)\n",
      "nEvts =  80000\n",
      "len(pocaMx[0]) =  196\n",
      "len(pocaMx[1]) =  35\n",
      "len(pocaMx[2]) =  265\n",
      "len(pocaMx[3]) =  128\n",
      "len(pocaMx[4]) =  124\n",
      "majorAxis.shape =  (80000, 3)\n",
      "minorAxis_1.shape =  (80000, 3)\n",
      "minorAxis_2.shape =  (80000, 3)\n",
      "have entered six_ellipsoid_parameters\n",
      "  \n",
      " \n",
      "  nEvts =  80000\n",
      " iEvt, nTrks =  0 196\n",
      " iEvt, nTrks =  1 35\n",
      " iEvt, nTrks =  2 265\n",
      " iEvt, nTrks =  3 128\n",
      " iEvt, nTrks =  4 124\n",
      " iEvt, nTrks =  5 122\n",
      " iEvt, nTrks =  6 300\n",
      " iEvt, nTrks =  7 179\n",
      " iEvt, nTrks =  8 243\n",
      " iEvt, nTrks =  9 112\n",
      "A.shape =  (80000,)\n",
      "majorAxis[iTrk][0][0] =  -2.440992e-05\n",
      "majorAxis[iTrk][1][0] =  -0.00038087237\n",
      "majorAxis[iTrk][2][0] =  0.08211532\n",
      "minorAxis_1[iTrk][0][0] =  -17.631672\n",
      "minorAxis_1[iTrk][1][0] =  1.130005\n",
      "minorAxis_1[iTrk][2][0] =  4.7444193e-08\n",
      "minorAxis_2[iTrk][0][0] =  1.1299927\n",
      "minorAxis_2[iTrk][1][0] =  17.631481\n",
      "minorAxis_2[iTrk][2][0] =  0.08211532\n",
      "  \n",
      "majorAxis[iTrk][0][0] =  -0.02277395\n",
      "majorAxis[iTrk][1][0] =  0.0014473597\n",
      "majorAxis[iTrk][2][0] =  0.6347583\n",
      "minorAxis_1[iTrk][0][0] =  -1.1205891\n",
      "minorAxis_1[iTrk][1][0] =  -17.632273\n",
      "minorAxis_1[iTrk][2][0] =  2.1543272e-09\n",
      "minorAxis_2[iTrk][0][0] =  -17.620888\n",
      "minorAxis_2[iTrk][1][0] =  1.1198657\n",
      "minorAxis_2[iTrk][2][0] =  -0.63475823\n",
      "  \n",
      "majorAxis[iTrk][0][0] =  0.0004024825\n",
      "majorAxis[iTrk][1][0] =  -0.00023784715\n",
      "majorAxis[iTrk][2][0] =  0.090883136\n",
      "minorAxis_1[iTrk][0][0] =  -8.988615\n",
      "minorAxis_1[iTrk][1][0] =  -15.210441\n",
      "minorAxis_1[iTrk][2][0] =  -6.56547e-08\n",
      "minorAxis_2[iTrk][0][0] =  -15.21024\n",
      "minorAxis_2[iTrk][1][0] =  8.988497\n",
      "minorAxis_2[iTrk][2][0] =  0.090883136\n",
      "  \n",
      "len(X) =  80000\n",
      "len(Xlist) =  3\n",
      "Loaded /share/lazy/will/data/June30_2020_80k_3.h5 in 181.1 s\n",
      "pocaMx.shape =  (80000,)\n",
      "nEvts =  80000\n",
      "len(pocaMx[0]) =  204\n",
      "len(pocaMx[1]) =  33\n",
      "len(pocaMx[2]) =  206\n",
      "len(pocaMx[3]) =  150\n",
      "len(pocaMx[4]) =  96\n",
      "majorAxis.shape =  (80000, 3)\n",
      "minorAxis_1.shape =  (80000, 3)\n",
      "minorAxis_2.shape =  (80000, 3)\n",
      "have entered six_ellipsoid_parameters\n",
      "  \n",
      " \n",
      "  nEvts =  80000\n",
      " iEvt, nTrks =  0 204\n",
      " iEvt, nTrks =  1 33\n",
      " iEvt, nTrks =  2 206\n",
      " iEvt, nTrks =  3 150\n",
      " iEvt, nTrks =  4 96\n",
      " iEvt, nTrks =  5 10\n",
      " iEvt, nTrks =  6 174\n",
      " iEvt, nTrks =  7 320\n",
      " iEvt, nTrks =  8 164\n",
      " iEvt, nTrks =  9 119\n",
      "A.shape =  (80000,)\n",
      "majorAxis[iTrk][0][0] =  0.00057876867\n",
      "majorAxis[iTrk][1][0] =  0.00037603904\n",
      "majorAxis[iTrk][2][0] =  0.110427074\n",
      "minorAxis_1[iTrk][0][0] =  9.62588\n",
      "minorAxis_1[iTrk][1][0] =  -14.81537\n",
      "minorAxis_1[iTrk][2][0] =  8.391163e-09\n",
      "minorAxis_2[iTrk][0][0] =  -14.815081\n",
      "minorAxis_2[iTrk][1][0] =  -9.625692\n",
      "minorAxis_2[iTrk][2][0] =  0.11042709\n",
      "  \n",
      "majorAxis[iTrk][0][0] =  -7.687664e-05\n",
      "majorAxis[iTrk][1][0] =  -0.0017985329\n",
      "majorAxis[iTrk][2][0] =  0.17833562\n",
      "minorAxis_1[iTrk][0][0] =  -17.651728\n",
      "minorAxis_1[iTrk][1][0] =  0.7545069\n",
      "minorAxis_1[iTrk][2][0] =  -7.932265e-09\n",
      "minorAxis_2[iTrk][0][0] =  0.75446844\n",
      "minorAxis_2[iTrk][1][0] =  17.650827\n",
      "minorAxis_2[iTrk][2][0] =  0.17833562\n",
      "  \n",
      "majorAxis[iTrk][0][0] =  4.5855802e-05\n",
      "majorAxis[iTrk][1][0] =  -0.00054240844\n",
      "majorAxis[iTrk][2][0] =  0.098067455\n",
      "minorAxis_1[iTrk][0][0] =  17.605043\n",
      "minorAxis_1[iTrk][1][0] =  1.4883496\n",
      "minorAxis_1[iTrk][2][0] =  -2.7847218e-08\n",
      "minorAxis_2[iTrk][0][0] =  1.4883265\n",
      "minorAxis_2[iTrk][1][0] =  -17.604773\n",
      "minorAxis_2[iTrk][2][0] =  -0.098067455\n",
      "  \n",
      "len(X) =  80000\n",
      "len(Xlist) =  4\n",
      "Loaded /share/lazy/will/data/June30_2020_80k_4.h5 in 183.3 s\n",
      "outer loop X.shape =  (320000, 9, 600)\n",
      "Constructing 320000 event dataset took 2.601 s\n",
      "x_t.shape =  torch.Size([320000, 9, 600])\n",
      "x_t.shape[0] =  320000\n",
      "x_t.shape[1] =  9\n",
      "x_t.shape =  torch.Size([320000, 9, 600])\n",
      "Loading data...\n",
      "pocaMx.shape =  (20000,)\n",
      "nEvts =  20000\n",
      "len(pocaMx[0]) =  211\n",
      "len(pocaMx[1]) =  21\n",
      "len(pocaMx[2]) =  20\n",
      "len(pocaMx[3]) =  198\n",
      "len(pocaMx[4]) =  233\n",
      "majorAxis.shape =  (20000, 3)\n",
      "minorAxis_1.shape =  (20000, 3)\n",
      "minorAxis_2.shape =  (20000, 3)\n",
      "have entered six_ellipsoid_parameters\n",
      "  \n",
      " \n",
      "  nEvts =  20000\n",
      " iEvt, nTrks =  0 211\n",
      " iEvt, nTrks =  1 21\n",
      " iEvt, nTrks =  2 20\n",
      " iEvt, nTrks =  3 198\n",
      " iEvt, nTrks =  4 233\n",
      " iEvt, nTrks =  5 85\n",
      " iEvt, nTrks =  6 223\n",
      " iEvt, nTrks =  7 425\n",
      " iEvt, nTrks =  8 252\n",
      " iEvt, nTrks =  9 169\n",
      "A.shape =  (20000,)\n",
      "majorAxis[iTrk][0][0] =  -0.00023452607\n",
      "majorAxis[iTrk][1][0] =  -0.00047206535\n",
      "majorAxis[iTrk][2][0] =  0.096502915\n",
      "minorAxis_1[iTrk][0][0] =  -15.822749\n",
      "minorAxis_1[iTrk][1][0] =  7.8608756\n",
      "minorAxis_1[iTrk][2][0] =  -2.6228399e-08\n",
      "minorAxis_2[iTrk][0][0] =  7.860759\n",
      "minorAxis_2[iTrk][1][0] =  15.822513\n",
      "minorAxis_2[iTrk][2][0] =  0.096502915\n",
      "  \n",
      "majorAxis[iTrk][0][0] =  -0.37655562\n",
      "majorAxis[iTrk][1][0] =  0.2768704\n",
      "majorAxis[iTrk][2][0] =  2.8546858\n",
      "minorAxis_1[iTrk][0][0] =  -10.466048\n",
      "minorAxis_1[iTrk][1][0] =  -14.234274\n",
      "minorAxis_1[iTrk][2][0] =  2.2974699e-11\n",
      "minorAxis_2[iTrk][0][0] =  -14.04724\n",
      "minorAxis_2[iTrk][1][0] =  10.328527\n",
      "minorAxis_2[iTrk][2][0] =  -2.8546853\n",
      "  \n",
      "majorAxis[iTrk][0][0] =  -0.024279848\n",
      "majorAxis[iTrk][1][0] =  0.0019689242\n",
      "majorAxis[iTrk][2][0] =  0.65580803\n",
      "minorAxis_1[iTrk][0][0] =  -1.4280497\n",
      "minorAxis_1[iTrk][1][0] =  -17.610037\n",
      "minorAxis_1[iTrk][2][0] =  -6.123401e-10\n",
      "minorAxis_2[iTrk][0][0] =  -17.597902\n",
      "minorAxis_2[iTrk][1][0] =  1.4270656\n",
      "minorAxis_2[iTrk][2][0] =  -0.6558081\n",
      "  \n"
     ]
    },
    {
     "name": "stdout",
     "output_type": "stream",
     "text": [
      "len(X) =  20000\n",
      "len(Xlist) =  1\n",
      "Loaded dataAA/20K_POCA_kernel_evts_200926.h5 in 44.28 s\n",
      "outer loop X.shape =  (20000, 9, 600)\n",
      "Constructing 10000 event dataset took 0.05453 s\n",
      "x_t.shape =  torch.Size([10000, 9, 600])\n",
      "x_t.shape[0] =  10000\n",
      "x_t.shape[1] =  9\n",
      "x_t.shape =  torch.Size([10000, 9, 600])\n"
     ]
    }
   ],
   "source": [
    "\n",
    "## Training dataset. You can put as many files here as desired.\n",
    "\n",
    "##train_loader = collect_t2kde_data('/share/lazy/pv-finder/20k_evts_for_KDE_learning_200716.h5',\n",
    "train_loader = collect_t2kde_data('/share/lazy/will/data/June30_2020_80k_1.h5', \n",
    "                                    '/share/lazy/will/data/June30_2020_80k_2.h5',\n",
    "                                    '/share/lazy/will/data/June30_2020_80k_3.h5',\n",
    "                                    '/share/lazy/will/data/June30_2020_80k_4.h5',\n",
    "                             batch_size=batch_size,\n",
    "## if we are using a larger dataset (240K events, with the datasets above, and 11 GB  of GPU memory),\n",
    "## the dataset will overflow the GPU memory; device=device will allow the data to move back\n",
    "## and forth between the CPU and GPU memory. While this allows use of a larger dataset, it slows\n",
    "## down performance by about 10%.  So comment out when not needed.\n",
    "##                          device=device,\n",
    "##                           slice = slice(None,18000)\n",
    "                           )\n",
    "                            \n",
    "# Validation dataset. You can slice to reduce the size.\n",
    "## mds no separate validation set yet,\n",
    "\n",
    "## For iter12, change slice(18000,None) to slice(10000,None)\n",
    "## First, we'll see if this changes the validation cost significantly\n",
    "##  Second, we will see if this reduces the validation cost fluctuations\n",
    "val_loader = collect_t2kde_data('dataAA/20K_POCA_kernel_evts_200926.h5',\n",
    "                            batch_size=batch_size,\n",
    "##                            device=device,\n",
    "                            slice = slice(10000,None)\n",
    "                           )\n"
   ]
  },
  {
   "cell_type": "code",
   "execution_count": 16,
   "metadata": {
    "scrolled": false
   },
   "outputs": [
    {
     "data": {
      "application/javascript": [
       "/* Put everything inside the global mpl namespace */\n",
       "window.mpl = {};\n",
       "\n",
       "\n",
       "mpl.get_websocket_type = function() {\n",
       "    if (typeof(WebSocket) !== 'undefined') {\n",
       "        return WebSocket;\n",
       "    } else if (typeof(MozWebSocket) !== 'undefined') {\n",
       "        return MozWebSocket;\n",
       "    } else {\n",
       "        alert('Your browser does not have WebSocket support. ' +\n",
       "              'Please try Chrome, Safari or Firefox ≥ 6. ' +\n",
       "              'Firefox 4 and 5 are also supported but you ' +\n",
       "              'have to enable WebSockets in about:config.');\n",
       "    };\n",
       "}\n",
       "\n",
       "mpl.figure = function(figure_id, websocket, ondownload, parent_element) {\n",
       "    this.id = figure_id;\n",
       "\n",
       "    this.ws = websocket;\n",
       "\n",
       "    this.supports_binary = (this.ws.binaryType != undefined);\n",
       "\n",
       "    if (!this.supports_binary) {\n",
       "        var warnings = document.getElementById(\"mpl-warnings\");\n",
       "        if (warnings) {\n",
       "            warnings.style.display = 'block';\n",
       "            warnings.textContent = (\n",
       "                \"This browser does not support binary websocket messages. \" +\n",
       "                    \"Performance may be slow.\");\n",
       "        }\n",
       "    }\n",
       "\n",
       "    this.imageObj = new Image();\n",
       "\n",
       "    this.context = undefined;\n",
       "    this.message = undefined;\n",
       "    this.canvas = undefined;\n",
       "    this.rubberband_canvas = undefined;\n",
       "    this.rubberband_context = undefined;\n",
       "    this.format_dropdown = undefined;\n",
       "\n",
       "    this.image_mode = 'full';\n",
       "\n",
       "    this.root = $('<div/>');\n",
       "    this._root_extra_style(this.root)\n",
       "    this.root.attr('style', 'display: inline-block');\n",
       "\n",
       "    $(parent_element).append(this.root);\n",
       "\n",
       "    this._init_header(this);\n",
       "    this._init_canvas(this);\n",
       "    this._init_toolbar(this);\n",
       "\n",
       "    var fig = this;\n",
       "\n",
       "    this.waiting = false;\n",
       "\n",
       "    this.ws.onopen =  function () {\n",
       "            fig.send_message(\"supports_binary\", {value: fig.supports_binary});\n",
       "            fig.send_message(\"send_image_mode\", {});\n",
       "            if (mpl.ratio != 1) {\n",
       "                fig.send_message(\"set_dpi_ratio\", {'dpi_ratio': mpl.ratio});\n",
       "            }\n",
       "            fig.send_message(\"refresh\", {});\n",
       "        }\n",
       "\n",
       "    this.imageObj.onload = function() {\n",
       "            if (fig.image_mode == 'full') {\n",
       "                // Full images could contain transparency (where diff images\n",
       "                // almost always do), so we need to clear the canvas so that\n",
       "                // there is no ghosting.\n",
       "                fig.context.clearRect(0, 0, fig.canvas.width, fig.canvas.height);\n",
       "            }\n",
       "            fig.context.drawImage(fig.imageObj, 0, 0);\n",
       "        };\n",
       "\n",
       "    this.imageObj.onunload = function() {\n",
       "        fig.ws.close();\n",
       "    }\n",
       "\n",
       "    this.ws.onmessage = this._make_on_message_function(this);\n",
       "\n",
       "    this.ondownload = ondownload;\n",
       "}\n",
       "\n",
       "mpl.figure.prototype._init_header = function() {\n",
       "    var titlebar = $(\n",
       "        '<div class=\"ui-dialog-titlebar ui-widget-header ui-corner-all ' +\n",
       "        'ui-helper-clearfix\"/>');\n",
       "    var titletext = $(\n",
       "        '<div class=\"ui-dialog-title\" style=\"width: 100%; ' +\n",
       "        'text-align: center; padding: 3px;\"/>');\n",
       "    titlebar.append(titletext)\n",
       "    this.root.append(titlebar);\n",
       "    this.header = titletext[0];\n",
       "}\n",
       "\n",
       "\n",
       "\n",
       "mpl.figure.prototype._canvas_extra_style = function(canvas_div) {\n",
       "\n",
       "}\n",
       "\n",
       "\n",
       "mpl.figure.prototype._root_extra_style = function(canvas_div) {\n",
       "\n",
       "}\n",
       "\n",
       "mpl.figure.prototype._init_canvas = function() {\n",
       "    var fig = this;\n",
       "\n",
       "    var canvas_div = $('<div/>');\n",
       "\n",
       "    canvas_div.attr('style', 'position: relative; clear: both; outline: 0');\n",
       "\n",
       "    function canvas_keyboard_event(event) {\n",
       "        return fig.key_event(event, event['data']);\n",
       "    }\n",
       "\n",
       "    canvas_div.keydown('key_press', canvas_keyboard_event);\n",
       "    canvas_div.keyup('key_release', canvas_keyboard_event);\n",
       "    this.canvas_div = canvas_div\n",
       "    this._canvas_extra_style(canvas_div)\n",
       "    this.root.append(canvas_div);\n",
       "\n",
       "    var canvas = $('<canvas/>');\n",
       "    canvas.addClass('mpl-canvas');\n",
       "    canvas.attr('style', \"left: 0; top: 0; z-index: 0; outline: 0\")\n",
       "\n",
       "    this.canvas = canvas[0];\n",
       "    this.context = canvas[0].getContext(\"2d\");\n",
       "\n",
       "    var backingStore = this.context.backingStorePixelRatio ||\n",
       "\tthis.context.webkitBackingStorePixelRatio ||\n",
       "\tthis.context.mozBackingStorePixelRatio ||\n",
       "\tthis.context.msBackingStorePixelRatio ||\n",
       "\tthis.context.oBackingStorePixelRatio ||\n",
       "\tthis.context.backingStorePixelRatio || 1;\n",
       "\n",
       "    mpl.ratio = (window.devicePixelRatio || 1) / backingStore;\n",
       "\n",
       "    var rubberband = $('<canvas/>');\n",
       "    rubberband.attr('style', \"position: absolute; left: 0; top: 0; z-index: 1;\")\n",
       "\n",
       "    var pass_mouse_events = true;\n",
       "\n",
       "    canvas_div.resizable({\n",
       "        start: function(event, ui) {\n",
       "            pass_mouse_events = false;\n",
       "        },\n",
       "        resize: function(event, ui) {\n",
       "            fig.request_resize(ui.size.width, ui.size.height);\n",
       "        },\n",
       "        stop: function(event, ui) {\n",
       "            pass_mouse_events = true;\n",
       "            fig.request_resize(ui.size.width, ui.size.height);\n",
       "        },\n",
       "    });\n",
       "\n",
       "    function mouse_event_fn(event) {\n",
       "        if (pass_mouse_events)\n",
       "            return fig.mouse_event(event, event['data']);\n",
       "    }\n",
       "\n",
       "    rubberband.mousedown('button_press', mouse_event_fn);\n",
       "    rubberband.mouseup('button_release', mouse_event_fn);\n",
       "    // Throttle sequential mouse events to 1 every 20ms.\n",
       "    rubberband.mousemove('motion_notify', mouse_event_fn);\n",
       "\n",
       "    rubberband.mouseenter('figure_enter', mouse_event_fn);\n",
       "    rubberband.mouseleave('figure_leave', mouse_event_fn);\n",
       "\n",
       "    canvas_div.on(\"wheel\", function (event) {\n",
       "        event = event.originalEvent;\n",
       "        event['data'] = 'scroll'\n",
       "        if (event.deltaY < 0) {\n",
       "            event.step = 1;\n",
       "        } else {\n",
       "            event.step = -1;\n",
       "        }\n",
       "        mouse_event_fn(event);\n",
       "    });\n",
       "\n",
       "    canvas_div.append(canvas);\n",
       "    canvas_div.append(rubberband);\n",
       "\n",
       "    this.rubberband = rubberband;\n",
       "    this.rubberband_canvas = rubberband[0];\n",
       "    this.rubberband_context = rubberband[0].getContext(\"2d\");\n",
       "    this.rubberband_context.strokeStyle = \"#000000\";\n",
       "\n",
       "    this._resize_canvas = function(width, height) {\n",
       "        // Keep the size of the canvas, canvas container, and rubber band\n",
       "        // canvas in synch.\n",
       "        canvas_div.css('width', width)\n",
       "        canvas_div.css('height', height)\n",
       "\n",
       "        canvas.attr('width', width * mpl.ratio);\n",
       "        canvas.attr('height', height * mpl.ratio);\n",
       "        canvas.attr('style', 'width: ' + width + 'px; height: ' + height + 'px;');\n",
       "\n",
       "        rubberband.attr('width', width);\n",
       "        rubberband.attr('height', height);\n",
       "    }\n",
       "\n",
       "    // Set the figure to an initial 600x600px, this will subsequently be updated\n",
       "    // upon first draw.\n",
       "    this._resize_canvas(600, 600);\n",
       "\n",
       "    // Disable right mouse context menu.\n",
       "    $(this.rubberband_canvas).bind(\"contextmenu\",function(e){\n",
       "        return false;\n",
       "    });\n",
       "\n",
       "    function set_focus () {\n",
       "        canvas.focus();\n",
       "        canvas_div.focus();\n",
       "    }\n",
       "\n",
       "    window.setTimeout(set_focus, 100);\n",
       "}\n",
       "\n",
       "mpl.figure.prototype._init_toolbar = function() {\n",
       "    var fig = this;\n",
       "\n",
       "    var nav_element = $('<div/>');\n",
       "    nav_element.attr('style', 'width: 100%');\n",
       "    this.root.append(nav_element);\n",
       "\n",
       "    // Define a callback function for later on.\n",
       "    function toolbar_event(event) {\n",
       "        return fig.toolbar_button_onclick(event['data']);\n",
       "    }\n",
       "    function toolbar_mouse_event(event) {\n",
       "        return fig.toolbar_button_onmouseover(event['data']);\n",
       "    }\n",
       "\n",
       "    for(var toolbar_ind in mpl.toolbar_items) {\n",
       "        var name = mpl.toolbar_items[toolbar_ind][0];\n",
       "        var tooltip = mpl.toolbar_items[toolbar_ind][1];\n",
       "        var image = mpl.toolbar_items[toolbar_ind][2];\n",
       "        var method_name = mpl.toolbar_items[toolbar_ind][3];\n",
       "\n",
       "        if (!name) {\n",
       "            // put a spacer in here.\n",
       "            continue;\n",
       "        }\n",
       "        var button = $('<button/>');\n",
       "        button.addClass('ui-button ui-widget ui-state-default ui-corner-all ' +\n",
       "                        'ui-button-icon-only');\n",
       "        button.attr('role', 'button');\n",
       "        button.attr('aria-disabled', 'false');\n",
       "        button.click(method_name, toolbar_event);\n",
       "        button.mouseover(tooltip, toolbar_mouse_event);\n",
       "\n",
       "        var icon_img = $('<span/>');\n",
       "        icon_img.addClass('ui-button-icon-primary ui-icon');\n",
       "        icon_img.addClass(image);\n",
       "        icon_img.addClass('ui-corner-all');\n",
       "\n",
       "        var tooltip_span = $('<span/>');\n",
       "        tooltip_span.addClass('ui-button-text');\n",
       "        tooltip_span.html(tooltip);\n",
       "\n",
       "        button.append(icon_img);\n",
       "        button.append(tooltip_span);\n",
       "\n",
       "        nav_element.append(button);\n",
       "    }\n",
       "\n",
       "    var fmt_picker_span = $('<span/>');\n",
       "\n",
       "    var fmt_picker = $('<select/>');\n",
       "    fmt_picker.addClass('mpl-toolbar-option ui-widget ui-widget-content');\n",
       "    fmt_picker_span.append(fmt_picker);\n",
       "    nav_element.append(fmt_picker_span);\n",
       "    this.format_dropdown = fmt_picker[0];\n",
       "\n",
       "    for (var ind in mpl.extensions) {\n",
       "        var fmt = mpl.extensions[ind];\n",
       "        var option = $(\n",
       "            '<option/>', {selected: fmt === mpl.default_extension}).html(fmt);\n",
       "        fmt_picker.append(option);\n",
       "    }\n",
       "\n",
       "    // Add hover states to the ui-buttons\n",
       "    $( \".ui-button\" ).hover(\n",
       "        function() { $(this).addClass(\"ui-state-hover\");},\n",
       "        function() { $(this).removeClass(\"ui-state-hover\");}\n",
       "    );\n",
       "\n",
       "    var status_bar = $('<span class=\"mpl-message\"/>');\n",
       "    nav_element.append(status_bar);\n",
       "    this.message = status_bar[0];\n",
       "}\n",
       "\n",
       "mpl.figure.prototype.request_resize = function(x_pixels, y_pixels) {\n",
       "    // Request matplotlib to resize the figure. Matplotlib will then trigger a resize in the client,\n",
       "    // which will in turn request a refresh of the image.\n",
       "    this.send_message('resize', {'width': x_pixels, 'height': y_pixels});\n",
       "}\n",
       "\n",
       "mpl.figure.prototype.send_message = function(type, properties) {\n",
       "    properties['type'] = type;\n",
       "    properties['figure_id'] = this.id;\n",
       "    this.ws.send(JSON.stringify(properties));\n",
       "}\n",
       "\n",
       "mpl.figure.prototype.send_draw_message = function() {\n",
       "    if (!this.waiting) {\n",
       "        this.waiting = true;\n",
       "        this.ws.send(JSON.stringify({type: \"draw\", figure_id: this.id}));\n",
       "    }\n",
       "}\n",
       "\n",
       "\n",
       "mpl.figure.prototype.handle_save = function(fig, msg) {\n",
       "    var format_dropdown = fig.format_dropdown;\n",
       "    var format = format_dropdown.options[format_dropdown.selectedIndex].value;\n",
       "    fig.ondownload(fig, format);\n",
       "}\n",
       "\n",
       "\n",
       "mpl.figure.prototype.handle_resize = function(fig, msg) {\n",
       "    var size = msg['size'];\n",
       "    if (size[0] != fig.canvas.width || size[1] != fig.canvas.height) {\n",
       "        fig._resize_canvas(size[0], size[1]);\n",
       "        fig.send_message(\"refresh\", {});\n",
       "    };\n",
       "}\n",
       "\n",
       "mpl.figure.prototype.handle_rubberband = function(fig, msg) {\n",
       "    var x0 = msg['x0'] / mpl.ratio;\n",
       "    var y0 = (fig.canvas.height - msg['y0']) / mpl.ratio;\n",
       "    var x1 = msg['x1'] / mpl.ratio;\n",
       "    var y1 = (fig.canvas.height - msg['y1']) / mpl.ratio;\n",
       "    x0 = Math.floor(x0) + 0.5;\n",
       "    y0 = Math.floor(y0) + 0.5;\n",
       "    x1 = Math.floor(x1) + 0.5;\n",
       "    y1 = Math.floor(y1) + 0.5;\n",
       "    var min_x = Math.min(x0, x1);\n",
       "    var min_y = Math.min(y0, y1);\n",
       "    var width = Math.abs(x1 - x0);\n",
       "    var height = Math.abs(y1 - y0);\n",
       "\n",
       "    fig.rubberband_context.clearRect(\n",
       "        0, 0, fig.canvas.width / mpl.ratio, fig.canvas.height / mpl.ratio);\n",
       "\n",
       "    fig.rubberband_context.strokeRect(min_x, min_y, width, height);\n",
       "}\n",
       "\n",
       "mpl.figure.prototype.handle_figure_label = function(fig, msg) {\n",
       "    // Updates the figure title.\n",
       "    fig.header.textContent = msg['label'];\n",
       "}\n",
       "\n",
       "mpl.figure.prototype.handle_cursor = function(fig, msg) {\n",
       "    var cursor = msg['cursor'];\n",
       "    switch(cursor)\n",
       "    {\n",
       "    case 0:\n",
       "        cursor = 'pointer';\n",
       "        break;\n",
       "    case 1:\n",
       "        cursor = 'default';\n",
       "        break;\n",
       "    case 2:\n",
       "        cursor = 'crosshair';\n",
       "        break;\n",
       "    case 3:\n",
       "        cursor = 'move';\n",
       "        break;\n",
       "    }\n",
       "    fig.rubberband_canvas.style.cursor = cursor;\n",
       "}\n",
       "\n",
       "mpl.figure.prototype.handle_message = function(fig, msg) {\n",
       "    fig.message.textContent = msg['message'];\n",
       "}\n",
       "\n",
       "mpl.figure.prototype.handle_draw = function(fig, msg) {\n",
       "    // Request the server to send over a new figure.\n",
       "    fig.send_draw_message();\n",
       "}\n",
       "\n",
       "mpl.figure.prototype.handle_image_mode = function(fig, msg) {\n",
       "    fig.image_mode = msg['mode'];\n",
       "}\n",
       "\n",
       "mpl.figure.prototype.updated_canvas_event = function() {\n",
       "    // Called whenever the canvas gets updated.\n",
       "    this.send_message(\"ack\", {});\n",
       "}\n",
       "\n",
       "// A function to construct a web socket function for onmessage handling.\n",
       "// Called in the figure constructor.\n",
       "mpl.figure.prototype._make_on_message_function = function(fig) {\n",
       "    return function socket_on_message(evt) {\n",
       "        if (evt.data instanceof Blob) {\n",
       "            /* FIXME: We get \"Resource interpreted as Image but\n",
       "             * transferred with MIME type text/plain:\" errors on\n",
       "             * Chrome.  But how to set the MIME type?  It doesn't seem\n",
       "             * to be part of the websocket stream */\n",
       "            evt.data.type = \"image/png\";\n",
       "\n",
       "            /* Free the memory for the previous frames */\n",
       "            if (fig.imageObj.src) {\n",
       "                (window.URL || window.webkitURL).revokeObjectURL(\n",
       "                    fig.imageObj.src);\n",
       "            }\n",
       "\n",
       "            fig.imageObj.src = (window.URL || window.webkitURL).createObjectURL(\n",
       "                evt.data);\n",
       "            fig.updated_canvas_event();\n",
       "            fig.waiting = false;\n",
       "            return;\n",
       "        }\n",
       "        else if (typeof evt.data === 'string' && evt.data.slice(0, 21) == \"data:image/png;base64\") {\n",
       "            fig.imageObj.src = evt.data;\n",
       "            fig.updated_canvas_event();\n",
       "            fig.waiting = false;\n",
       "            return;\n",
       "        }\n",
       "\n",
       "        var msg = JSON.parse(evt.data);\n",
       "        var msg_type = msg['type'];\n",
       "\n",
       "        // Call the  \"handle_{type}\" callback, which takes\n",
       "        // the figure and JSON message as its only arguments.\n",
       "        try {\n",
       "            var callback = fig[\"handle_\" + msg_type];\n",
       "        } catch (e) {\n",
       "            console.log(\"No handler for the '\" + msg_type + \"' message type: \", msg);\n",
       "            return;\n",
       "        }\n",
       "\n",
       "        if (callback) {\n",
       "            try {\n",
       "                // console.log(\"Handling '\" + msg_type + \"' message: \", msg);\n",
       "                callback(fig, msg);\n",
       "            } catch (e) {\n",
       "                console.log(\"Exception inside the 'handler_\" + msg_type + \"' callback:\", e, e.stack, msg);\n",
       "            }\n",
       "        }\n",
       "    };\n",
       "}\n",
       "\n",
       "// from http://stackoverflow.com/questions/1114465/getting-mouse-location-in-canvas\n",
       "mpl.findpos = function(e) {\n",
       "    //this section is from http://www.quirksmode.org/js/events_properties.html\n",
       "    var targ;\n",
       "    if (!e)\n",
       "        e = window.event;\n",
       "    if (e.target)\n",
       "        targ = e.target;\n",
       "    else if (e.srcElement)\n",
       "        targ = e.srcElement;\n",
       "    if (targ.nodeType == 3) // defeat Safari bug\n",
       "        targ = targ.parentNode;\n",
       "\n",
       "    // jQuery normalizes the pageX and pageY\n",
       "    // pageX,Y are the mouse positions relative to the document\n",
       "    // offset() returns the position of the element relative to the document\n",
       "    var x = e.pageX - $(targ).offset().left;\n",
       "    var y = e.pageY - $(targ).offset().top;\n",
       "\n",
       "    return {\"x\": x, \"y\": y};\n",
       "};\n",
       "\n",
       "/*\n",
       " * return a copy of an object with only non-object keys\n",
       " * we need this to avoid circular references\n",
       " * http://stackoverflow.com/a/24161582/3208463\n",
       " */\n",
       "function simpleKeys (original) {\n",
       "  return Object.keys(original).reduce(function (obj, key) {\n",
       "    if (typeof original[key] !== 'object')\n",
       "        obj[key] = original[key]\n",
       "    return obj;\n",
       "  }, {});\n",
       "}\n",
       "\n",
       "mpl.figure.prototype.mouse_event = function(event, name) {\n",
       "    var canvas_pos = mpl.findpos(event)\n",
       "\n",
       "    if (name === 'button_press')\n",
       "    {\n",
       "        this.canvas.focus();\n",
       "        this.canvas_div.focus();\n",
       "    }\n",
       "\n",
       "    var x = canvas_pos.x * mpl.ratio;\n",
       "    var y = canvas_pos.y * mpl.ratio;\n",
       "\n",
       "    this.send_message(name, {x: x, y: y, button: event.button,\n",
       "                             step: event.step,\n",
       "                             guiEvent: simpleKeys(event)});\n",
       "\n",
       "    /* This prevents the web browser from automatically changing to\n",
       "     * the text insertion cursor when the button is pressed.  We want\n",
       "     * to control all of the cursor setting manually through the\n",
       "     * 'cursor' event from matplotlib */\n",
       "    event.preventDefault();\n",
       "    return false;\n",
       "}\n",
       "\n",
       "mpl.figure.prototype._key_event_extra = function(event, name) {\n",
       "    // Handle any extra behaviour associated with a key event\n",
       "}\n",
       "\n",
       "mpl.figure.prototype.key_event = function(event, name) {\n",
       "\n",
       "    // Prevent repeat events\n",
       "    if (name == 'key_press')\n",
       "    {\n",
       "        if (event.which === this._key)\n",
       "            return;\n",
       "        else\n",
       "            this._key = event.which;\n",
       "    }\n",
       "    if (name == 'key_release')\n",
       "        this._key = null;\n",
       "\n",
       "    var value = '';\n",
       "    if (event.ctrlKey && event.which != 17)\n",
       "        value += \"ctrl+\";\n",
       "    if (event.altKey && event.which != 18)\n",
       "        value += \"alt+\";\n",
       "    if (event.shiftKey && event.which != 16)\n",
       "        value += \"shift+\";\n",
       "\n",
       "    value += 'k';\n",
       "    value += event.which.toString();\n",
       "\n",
       "    this._key_event_extra(event, name);\n",
       "\n",
       "    this.send_message(name, {key: value,\n",
       "                             guiEvent: simpleKeys(event)});\n",
       "    return false;\n",
       "}\n",
       "\n",
       "mpl.figure.prototype.toolbar_button_onclick = function(name) {\n",
       "    if (name == 'download') {\n",
       "        this.handle_save(this, null);\n",
       "    } else {\n",
       "        this.send_message(\"toolbar_button\", {name: name});\n",
       "    }\n",
       "};\n",
       "\n",
       "mpl.figure.prototype.toolbar_button_onmouseover = function(tooltip) {\n",
       "    this.message.textContent = tooltip;\n",
       "};\n",
       "mpl.toolbar_items = [[\"Home\", \"Reset original view\", \"fa fa-home icon-home\", \"home\"], [\"Back\", \"Back to previous view\", \"fa fa-arrow-left icon-arrow-left\", \"back\"], [\"Forward\", \"Forward to next view\", \"fa fa-arrow-right icon-arrow-right\", \"forward\"], [\"\", \"\", \"\", \"\"], [\"Pan\", \"Pan axes with left mouse, zoom with right\", \"fa fa-arrows icon-move\", \"pan\"], [\"Zoom\", \"Zoom to rectangle\", \"fa fa-square-o icon-check-empty\", \"zoom\"], [\"\", \"\", \"\", \"\"], [\"Download\", \"Download plot\", \"fa fa-floppy-o icon-save\", \"download\"]];\n",
       "\n",
       "mpl.extensions = [\"eps\", \"jpeg\", \"pdf\", \"png\", \"ps\", \"raw\", \"svg\", \"tif\"];\n",
       "\n",
       "mpl.default_extension = \"png\";var comm_websocket_adapter = function(comm) {\n",
       "    // Create a \"websocket\"-like object which calls the given IPython comm\n",
       "    // object with the appropriate methods. Currently this is a non binary\n",
       "    // socket, so there is still some room for performance tuning.\n",
       "    var ws = {};\n",
       "\n",
       "    ws.close = function() {\n",
       "        comm.close()\n",
       "    };\n",
       "    ws.send = function(m) {\n",
       "        //console.log('sending', m);\n",
       "        comm.send(m);\n",
       "    };\n",
       "    // Register the callback with on_msg.\n",
       "    comm.on_msg(function(msg) {\n",
       "        //console.log('receiving', msg['content']['data'], msg);\n",
       "        // Pass the mpl event to the overridden (by mpl) onmessage function.\n",
       "        ws.onmessage(msg['content']['data'])\n",
       "    });\n",
       "    return ws;\n",
       "}\n",
       "\n",
       "mpl.mpl_figure_comm = function(comm, msg) {\n",
       "    // This is the function which gets called when the mpl process\n",
       "    // starts-up an IPython Comm through the \"matplotlib\" channel.\n",
       "\n",
       "    var id = msg.content.data.id;\n",
       "    // Get hold of the div created by the display call when the Comm\n",
       "    // socket was opened in Python.\n",
       "    var element = $(\"#\" + id);\n",
       "    var ws_proxy = comm_websocket_adapter(comm)\n",
       "\n",
       "    function ondownload(figure, format) {\n",
       "        window.open(figure.imageObj.src);\n",
       "    }\n",
       "\n",
       "    var fig = new mpl.figure(id, ws_proxy,\n",
       "                           ondownload,\n",
       "                           element.get(0));\n",
       "\n",
       "    // Call onopen now - mpl needs it, as it is assuming we've passed it a real\n",
       "    // web socket which is closed, not our websocket->open comm proxy.\n",
       "    ws_proxy.onopen();\n",
       "\n",
       "    fig.parent_element = element.get(0);\n",
       "    fig.cell_info = mpl.find_output_cell(\"<div id='\" + id + \"'></div>\");\n",
       "    if (!fig.cell_info) {\n",
       "        console.error(\"Failed to find cell for figure\", id, fig);\n",
       "        return;\n",
       "    }\n",
       "\n",
       "    var output_index = fig.cell_info[2]\n",
       "    var cell = fig.cell_info[0];\n",
       "\n",
       "};\n",
       "\n",
       "mpl.figure.prototype.handle_close = function(fig, msg) {\n",
       "    var width = fig.canvas.width/mpl.ratio\n",
       "    fig.root.unbind('remove')\n",
       "\n",
       "    // Update the output cell to use the data from the current canvas.\n",
       "    fig.push_to_output();\n",
       "    var dataURL = fig.canvas.toDataURL();\n",
       "    // Re-enable the keyboard manager in IPython - without this line, in FF,\n",
       "    // the notebook keyboard shortcuts fail.\n",
       "    IPython.keyboard_manager.enable()\n",
       "    $(fig.parent_element).html('<img src=\"' + dataURL + '\" width=\"' + width + '\">');\n",
       "    fig.close_ws(fig, msg);\n",
       "}\n",
       "\n",
       "mpl.figure.prototype.close_ws = function(fig, msg){\n",
       "    fig.send_message('closing', msg);\n",
       "    // fig.ws.close()\n",
       "}\n",
       "\n",
       "mpl.figure.prototype.push_to_output = function(remove_interactive) {\n",
       "    // Turn the data on the canvas into data in the output cell.\n",
       "    var width = this.canvas.width/mpl.ratio\n",
       "    var dataURL = this.canvas.toDataURL();\n",
       "    this.cell_info[1]['text/html'] = '<img src=\"' + dataURL + '\" width=\"' + width + '\">';\n",
       "}\n",
       "\n",
       "mpl.figure.prototype.updated_canvas_event = function() {\n",
       "    // Tell IPython that the notebook contents must change.\n",
       "    IPython.notebook.set_dirty(true);\n",
       "    this.send_message(\"ack\", {});\n",
       "    var fig = this;\n",
       "    // Wait a second, then push the new image to the DOM so\n",
       "    // that it is saved nicely (might be nice to debounce this).\n",
       "    setTimeout(function () { fig.push_to_output() }, 1000);\n",
       "}\n",
       "\n",
       "mpl.figure.prototype._init_toolbar = function() {\n",
       "    var fig = this;\n",
       "\n",
       "    var nav_element = $('<div/>');\n",
       "    nav_element.attr('style', 'width: 100%');\n",
       "    this.root.append(nav_element);\n",
       "\n",
       "    // Define a callback function for later on.\n",
       "    function toolbar_event(event) {\n",
       "        return fig.toolbar_button_onclick(event['data']);\n",
       "    }\n",
       "    function toolbar_mouse_event(event) {\n",
       "        return fig.toolbar_button_onmouseover(event['data']);\n",
       "    }\n",
       "\n",
       "    for(var toolbar_ind in mpl.toolbar_items){\n",
       "        var name = mpl.toolbar_items[toolbar_ind][0];\n",
       "        var tooltip = mpl.toolbar_items[toolbar_ind][1];\n",
       "        var image = mpl.toolbar_items[toolbar_ind][2];\n",
       "        var method_name = mpl.toolbar_items[toolbar_ind][3];\n",
       "\n",
       "        if (!name) { continue; };\n",
       "\n",
       "        var button = $('<button class=\"btn btn-default\" href=\"#\" title=\"' + name + '\"><i class=\"fa ' + image + ' fa-lg\"></i></button>');\n",
       "        button.click(method_name, toolbar_event);\n",
       "        button.mouseover(tooltip, toolbar_mouse_event);\n",
       "        nav_element.append(button);\n",
       "    }\n",
       "\n",
       "    // Add the status bar.\n",
       "    var status_bar = $('<span class=\"mpl-message\" style=\"text-align:right; float: right;\"/>');\n",
       "    nav_element.append(status_bar);\n",
       "    this.message = status_bar[0];\n",
       "\n",
       "    // Add the close button to the window.\n",
       "    var buttongrp = $('<div class=\"btn-group inline pull-right\"></div>');\n",
       "    var button = $('<button class=\"btn btn-mini btn-primary\" href=\"#\" title=\"Stop Interaction\"><i class=\"fa fa-power-off icon-remove icon-large\"></i></button>');\n",
       "    button.click(function (evt) { fig.handle_close(fig, {}); } );\n",
       "    button.mouseover('Stop Interaction', toolbar_mouse_event);\n",
       "    buttongrp.append(button);\n",
       "    var titlebar = this.root.find($('.ui-dialog-titlebar'));\n",
       "    titlebar.prepend(buttongrp);\n",
       "}\n",
       "\n",
       "mpl.figure.prototype._root_extra_style = function(el){\n",
       "    var fig = this\n",
       "    el.on(\"remove\", function(){\n",
       "\tfig.close_ws(fig, {});\n",
       "    });\n",
       "}\n",
       "\n",
       "mpl.figure.prototype._canvas_extra_style = function(el){\n",
       "    // this is important to make the div 'focusable\n",
       "    el.attr('tabindex', 0)\n",
       "    // reach out to IPython and tell the keyboard manager to turn it's self\n",
       "    // off when our div gets focus\n",
       "\n",
       "    // location in version 3\n",
       "    if (IPython.notebook.keyboard_manager) {\n",
       "        IPython.notebook.keyboard_manager.register_events(el);\n",
       "    }\n",
       "    else {\n",
       "        // location in version 2\n",
       "        IPython.keyboard_manager.register_events(el);\n",
       "    }\n",
       "\n",
       "}\n",
       "\n",
       "mpl.figure.prototype._key_event_extra = function(event, name) {\n",
       "    var manager = IPython.notebook.keyboard_manager;\n",
       "    if (!manager)\n",
       "        manager = IPython.keyboard_manager;\n",
       "\n",
       "    // Check for shift+enter\n",
       "    if (event.shiftKey && event.which == 13) {\n",
       "        this.canvas_div.blur();\n",
       "        // select the cell after this one\n",
       "        var index = IPython.notebook.find_cell_index(this.cell_info[0]);\n",
       "        IPython.notebook.select(index + 1);\n",
       "    }\n",
       "}\n",
       "\n",
       "mpl.figure.prototype.handle_save = function(fig, msg) {\n",
       "    fig.ondownload(fig, null);\n",
       "}\n",
       "\n",
       "\n",
       "mpl.find_output_cell = function(html_output) {\n",
       "    // Return the cell and output element which can be found *uniquely* in the notebook.\n",
       "    // Note - this is a bit hacky, but it is done because the \"notebook_saving.Notebook\"\n",
       "    // IPython event is triggered only after the cells have been serialised, which for\n",
       "    // our purposes (turning an active figure into a static one), is too late.\n",
       "    var cells = IPython.notebook.get_cells();\n",
       "    var ncells = cells.length;\n",
       "    for (var i=0; i<ncells; i++) {\n",
       "        var cell = cells[i];\n",
       "        if (cell.cell_type === 'code'){\n",
       "            for (var j=0; j<cell.output_area.outputs.length; j++) {\n",
       "                var data = cell.output_area.outputs[j];\n",
       "                if (data.data) {\n",
       "                    // IPython >= 3 moved mimebundle to data attribute of output\n",
       "                    data = data.data;\n",
       "                }\n",
       "                if (data['text/html'] == html_output) {\n",
       "                    return [cell, data, j];\n",
       "                }\n",
       "            }\n",
       "        }\n",
       "    }\n",
       "}\n",
       "\n",
       "// Register the function which deals with the matplotlib target/channel.\n",
       "// The kernel may be null if the page has been refreshed.\n",
       "if (IPython.notebook.kernel != null) {\n",
       "    IPython.notebook.kernel.comm_manager.register_target('matplotlib', mpl.mpl_figure_comm);\n",
       "}\n"
      ],
      "text/plain": [
       "<IPython.core.display.Javascript object>"
      ]
     },
     "metadata": {},
     "output_type": "display_data"
    },
    {
     "data": {
      "text/html": [
       "<img src=\"data:image/png;base64,iVBORw0KGgoAAAANSUhEUgAABLAAAAJYCAYAAABy5h8aAAAgAElEQVR4nOzdf3SU5Z3//2uSEBKBJhEtIZViXSIWXDjqaqOeFa1NiailfoW17u5pWghq1UIldV2hpyBsQU1tqS4YoSBbA4mNW8FAKr+SgBK0VlyKpIUioZ8AK4FuiiEI5Mfr+8eYuZnMTGYmuUOuIc/HOddR75k7c6dy9v3al/d9jREAAAAAAABgMdPbFwAAAAAAAAB0hgILAAAAAAAAVqPAAgAAAAAAgNUosAAAAAAAAGA1CiwAAAAAAABYjQILAAAAAAAAVqPAAgAAAAAAgNUosAAAAAAAAGA1CiwAAAAAAABYjQILAAAAAAAAVqPAAgAAAAAAgNUosAAAAAAAAGA1CiwAAAAAAABYjQILAAAAAAAAVqPAAgAAAAAAgNUosAAAAAAAAGA1CiwXNTQ0aM2aNXr//ff14YcfslgsFovVZ9f777+vNWvWqKGhobfHM0Kora3Vk08+qaKiIq1Zs4bFYrFYrD69ioqK9OSTT6q2tra3RzRCoMBy0Zo1a2SMYbFYLBaL9dlas2ZNb49nhPDkk0/2+p8PFovFYrFsW08++WRvj2iEQIHlovfff1/GeMN6b/+XbxaLxWKxenO1/0ed999/v7fHM0IoKiryBfXe/q/eLBaLxWL19mr/DztFRUW9PaIRAgWWiz788EMZY/Thhx/29qUAANCrmIn2W7Nmje8/vAEA0NcxF+1HgeUiwjoAAF7MRPsR1AEAcDAX7UeB5SLCOgAAXsxE+xHUAQBwMBftR4HlIsI6AABezET7EdQBAHAwF+1HgeUiwjoAAF7MRPsR1AEAcDAX7UeB5SLCOoBY1dzcrPr6eh04cEAfffQRixVyHThwQPX19Wpubu70zxQz0X4EdQCIDeS0ns8tEnMxFlBguYiwDiAWtbW1qba2VjU1Ndq7d2+vBw2W3Wvv3r2qqanRwYMH1dbWFvLPFTPRfgR1ALAfOe385BaJuRgLKLBcRFgHEItOnDihmpoaHT58OOxgB9ra2nT48GHV1NToxIkTId/HTLQfQR0A7EdO655Ic4vEXIwFFFguIqwDiEV1dXWqqamJ6NZqQPI+ylBTU6O6urqQ72Em2o+gDgD2I6d1XyS5RWIuxgIKLBcR1gHEogMHDmjfvn29fRmIMfv27dOBAwdCvs5MtB9BHQDsR05zR7jcIjEXYwEFlosI6wBi0UcffaT9+/f39mUgxuzfv18fffRRyNeZifYjqAOA/chp7giXWyTmYiygwHIRYR1ALGrf5BKIRrg/N8xE+xHUAcB+5DR3RPK/I3PRfhRYLiKsA4hFBCN0BQVW7COoA4D9yGnuoMC6MFBguYiwDiAW9VQwOtvSqur9x/Xb3UdUvf+4zra0uv4ZnTHGRLQqKyu79Tlz5syRMX1vnFJgxT6COgDYr8dy2lmpslL67//2/vXsWdc/IiIvv/xyRDntr3/9q+677z5deumlMsZo4sSJkqTa2lpNmDBBaWlpMsZoxowZQT+HAuvC0PcSdw8irAOIRW4Ho7MtrfrF5n26bv5GDX9inW/9w/xN+sXmfeetyNqxY4ffmjBhgpKTkwOOh/tK5XDq6uq0Y8cOl646dlBgxT6COgDYz/WcdlaaN08aMkQyxlnp6d7j57vIai+wXn755YCMdm5O+8EPfqDExEQVFRVpx44d2rt3ryTpm9/8pgYPHqzXX39dO3bs0MGDB4N+DgXWhYECy0WEdQCxyM1gdLalVd9Z8a6GP7FOl59TXp37z999+Xfn/W4sScrNzdWAAQPCvq+pqek8XE3so8CKfQR1ALCfqzntrDRhgrew8nj8C6z2f77zzvNbYrUXWO+9916n7/va176mL3/5ywHHR4wYoTvuuCPs51BgXRgosFxEWAcQi9wMRr/YvM+vtAq1nt98/r8OOliBNW7cOI0ePVpbt27VjTfeqOTkZN13332SpJKSEmVnZys9PV1JSUm66qqr9MQTT+jkyZN+PyPYI4TDhw/XnXfeqd/+9re65pprlJSUpJEjR2r58uU9+0ueRxRYsY+gDgD2czOnzZvnX1qFWvPnu/JxEQlXYNXW1oZ8tDDY8dra2qA/hwLrwkCB5SLCOoBY5FYwOtvSquvmbwy486rjuvyzxwnP911YoQqsiy++WMOGDdMLL7ygyspKbd26VZI0f/58/fznP9f69etVVVWlwsJCfelLX9Jtt93m9zNCFViXXXaZRo0apV/96lfasGGDJk+eLGOM7+fHOgqs2EdQBwD7uZbTznofG+x451XH5fF4Hyc8X3dhtRdY77zzjpqbm/1WS0uLTp8+rR07duiaa67RFVdc4fdo4Y4dO5Senq6bb77Zd/z06dNBP4cC68JAgeUiwjqAWBRqoM9940P9U2F1xCvn51sjuvuqfeX8fGtUP3/uG937v62hCixjjLZs2dLpuW1tbWpubtbWrVtljNGuXbt8r4UqsJKSkvSXv/zFd+zTTz/VxRdfrAcffLBbv4ctKLBiH0EdAOzX2bydMUMaNy6yNXZsZHdfta+xYyP/2ePGea+lKzrbxD0+Pt73vva75jtqv+s9HAqsCwMFlosI6wBiUaiB/k+F1VEVUj29/qmwulu/Z6gCKy0tLeT/Lvfff7+GDBkij8fjF6hKSkp87wtVYGVlZQX8zKysLOXk5HTr97AFBVbsI6gDgP06m7fjxkVXSvXkGjeua79fe4H1q1/9Su+9957f+v3vf3/O70qBBQosP/X19ZowYYIuuugiZWZmauPGjVGdT1gHEIv6+h1Yo0aNCnhvY2OjMjIydMUVV2jZsmXaunWr3nvvPf3mN7/xfVNOu872wOpo3LhxGtfVhGcZCqzYR1AHAPv1lTuwwm3iToEFiQLLz+TJkzVlyhQ1NTVp7dq1Sk1N1fHjxyM+n7AOIBb19T2wgoWhtWvXyhijqqoqv+ObNm2iwPoMBVbsI6gDgP36yh5YFFiIBAXWZxobG9WvXz/V1dX5jo0bNy6qb4wirAOIRXwLYWAYeuONN2SM0Y4dO/yOT5o0iQLrMxRYsY+gDgD26+vfQtiOAgtSkAJr2bJlMsYEhPxQdu7cqYkTJ2ro0KFKTk7WyJEj9dRTT6mpqcn1iz3XJ598oscff1zZ2dm65JJLZIzRnDlzQr6/sbFRM2bM0NChQ9W/f3+NHTtWxcXFfr9Hx31QHn30Uc2cOTPiayKsA4hFbgajsy2t+u7Lv/PdadXxzqvhT6zTd1/+3Xm/+0qKrsA6fvy40tLSNHbsWP3mN79RWVmZvvWtbykzM5MC6zMUWLGPoA4A9nM1p52V7rzTudOq451XxnhfP193X0lOgfXyyy/7vknw3FVfXy+JAgtefon70KFDSklJUUZGRkQF1p49e5SUlKSxY8fq1Vdf1ZYtWzRnzhzFx8frG9/4Ro9dtCTV1tYqJSVFt9xyi/Ly8sIWWNnZ2UpNTVVhYaEqKip856xatUqStG3bNg0fPtzvnFmzZumBBx6I+JoI6wBikZvBSPKWWM9v3qd/mL/Jr8D6h/mb9Pzmfb1SXknRFViSVF1drRtvvFEXXXSRLr30UuXl5Wnnzp0UWJ+hwIp9BHUAsJ/rOe2s9w6r9HT/Ais93Xv8fJZXUuffQmiM0bJlyyRRYMHLL3Hfdddduvvuu4OG/GBmz54tY4z279/vd/yBBx6QMUb/93//F/LcEydOqLy8POTrZWVlOnnyZMjX29ra1NbWJkk6duxYpwXW+vXrZYzR6tWr/Y5nZ2crIyNDLS0t3IEFoM9yOxi1O9vSqur9x/Xb3UdUvf94rxVX6BkUWLGPoA4A9uuxnHZWqqyU/vu/vX8938XV+UaBdWHwFVivvPKKBg0apLq6uogLrLlz58oYo2PHjvkd/7d/+zfFxcV1WkA999xziouL08qVKwNeKywslMfj0ZIlSyL6JcIVWHl5eRo4cKCam5v9jq9evVrGGG3fvj3oHli33nore2ABuOD1VDDChY0CK/YR1AHAfuQ0d1BgXRiMJB09elSDBw/W4sWLJQV/zCKY2tpapaamatKkSfroo4/0ySefqKysTCkpKfr+978f9vyZM2fK4/GosLDQd2zRokUyxmjWrFkR/xLhCqysrCxdf/31Acfbw/VLL70kybs579SpU3Xq1CmVlZUpNTU1oJwLpv3xkfZFWAcQSwhG6AoKrNhHUAcA+5HT3EGBdWEwknTvvffqpptu8j2SF2mBJUl//OMfddVVV/kVONOnT/f9rHBmzZolY4wWLVqkp59+WsYYzZs3L6pfIlyBlZmZqfHjxwccP3LkiIwxWrBggSSpvr5ed9xxh5KTkzVixAht2LAhqusgrAOIRQQjdAUFVuwjqAOA/chp7qDAujCY1157TYmJidqzZ4/vYDR3YI0YMUI333yzXnvtNW3dulXPPvusPve5z2nKlCkRX8S8efN85VdBQUHUv0QkBVZOTk7A8fYCa+HChVF/ZjCEdQCxiGCErqDAin0EdQCwHznNHRRYFwYzZMgQ5efnq6Ghwbfuv/9+DRgwQA0NDZ3uY3Xffffp85//fMB7VqxYIWOMqqqqIrqI/Px8eTweGWM0e/bsqH8Jtx4h7C7COoBYRDBCV1BgxT6COgDY76OPPgr40jREb//+/RRYFwDT2VdWGmM0ceLEkCePHDlSt956a8Dx3bt3yxij//zP/+z0w9va2vTII48oLi5OK1as0IsvviiPx6P8/PyofolwBda0adOCbuJeXFzs28TdDYR1ALGIAgtdQYEV+wjqAGC/AwcOaN++fb19GTFv3759OnDgQKfvYS7az1RWVqrjGj9+vJKSklRZWandu3eHPPm2227TpZdeqsbGRr/jS5cuDfsvvrW1VVOnTlVCQoKKi4t9x1euXKn4+Hg9/PDDEe+jFa7AKi8vlzFGJSUlfsdzcnKUkZGhlpaWiD4nHMI6gFhEgYWuoMCKfQR1ALBfXV2dampqAm7GQOSam5tVU1Ojurq6Tt/HXLSfCXYw2B5YVVVVio+P11NPPeU7tnbtWnk8HmVlZenVV1/Vli1b9JOf/EQDBw7UqFGjdObMmZAfXFBQoMTERL3++usBr5WUlCghIUEvvPBCpxdfXl6u0tJS3yOLkydPVmlpqUpLS9XU1OT33uzsbKWlpWnp0qWqqKjQtGnTZIxRUVFRp58RDcI6gFhEgYWuoMCKfQR1ALDfiRMnVFNTo8OHD0d8gwccbW1tOnz4sGpqanTixIlO38tctF/EBVZlZWXQu5wqKir09a9/Xenp6UpOTtaVV16p/Px8HT9+vNMPPnXqlKqrq0O+/vbbb3dagEnS8OHDQz76WFtb6/fexsZGTZ8+Xenp6UpMTNSYMWP87vxyA2EdQCyiwEJXUGDFPoI6ANivra1NBw8eVE1Njfbu3evby4kVfu3fv1979+5VTU2NDh48GLYAZC7aL2iBha4hrAOIRRRY6AoKrNhHUAeA2NDc3Kz6+nodOHCg10uhWFsHDhxQfX19RI9gMhftR4HlIsI6gFh0oRZY3/zmN5WUlKSGhoaQ7/nnf/5nJSQk6OOPP47oZ3a8E7n97uTKysqw5+bm5mr48OERfU5Hixcv1ssvvxxwvLa2VsaYoK/1NAqs2EdQBwDAwVy0HwWWiwjrAGJRjxVYLWelA9ukPWu9f2056/5ndKKsrEzGGC1evDjo63/729+UnJysb37zmxH/zI4F1okTJ7Rjx46weypI3SuwRo8erXHjxgUcP336tHbs2KH6+vou/dzuoMCKfQR1AAAczEX7UWC5iLAOIBa5XmC1nJWqnpGe/TtpzuecVTDCe/w8FVktLS3KyMjQddddF/T1F198UcYYlZWVRfwzO/vG23B6osDqTRRYsY+gDgCAg7loPwosFxHWAcQiVwuslrNS0aTPSqsU/wKr/Z+LJp+3EuvJJ5+UMUZ/+MMfAl674YYbNHToUH388cf63ve+py9/+csaMGCALr30Ut12223atm1bwDmRPkL48ssv68orr1RiYqKuuuoq/dd//VfQAmvu3Lm64YYblJaWpkGDBumaa67RL3/5S79NRoN9YUn7zwn1COFbb72lr371qxo4cKCSk5N14403at26dQHXaIxRRUWFHnroIQ0ePFgXX3yx7rnnHh0+fDjs/7YUWLGPoA4AgIO5aD8KLBcR1gHEIlcLrKpnOpRWIVbVs+58Xhh//vOf5fF49IMf/MDv+J49e2SM0b//+7/rT3/6k773ve+ppKREVVVVWrdunaZOnaq4uLiAYiqSAqu9GJo4caLKyspUVFSkESNGaNiwYQEF1ne+8x0tX75cmzZt0qZNmzR//nwlJyfrqaee8r1n586duuKKK3TNNddox44d2rFjh3bu3CkpeIFVVVWlfv366brrrtOrr76qNWvW6Otf/7o8Ho9KSkoCrvOKK67Q97//fW3YsEG//OUvlZaWpttuuy3s/7YUWLGPoA4AgIO5aD8KLBcR1gHEItcKrJaznz022PHOq44rxfs44Xm6C2vcuHG65JJLdPas83n5+fkyxmjfvn2Bv0ZLi5qbm3X77bfrnnvu8XstXIHV2tqqjIwMXXvttX53UR08eFD9+vXr9BHC1tZWNTc3a968eRo8eLDf+aEeIQxWYGVlZenzn/+8Ghsb/X6nq6++Wpdddpnv57YXWA8//LDfz3z22WdljNH//u//hrxWiQLrQkBQBwDAwVy0HwWWiwjrAGJRyCKi/AlpxYTI15KbIrv7qn0tuSm6n1/+RJd+v1/96lcyxui1116T5P0q6iFDhugf//Effe958cUXdc0116h///5+j+pdddVVfj8rXIFVU1MjY4x++tOfBlzHuHHjAgqsLVu26Pbbb9fnPve5gMcEz/1mxEgLrJMnT8rj8QSUUpL0zDPPyBijP/7xj5KcAuvNN9/0e9+bb74pY4zeeeedgJ9xLgqs2EdQBwDAwVy0HwWWiwjrAGJRyCJixYToCqmeXismdOn3O3XqlFJSUnTnnXdKktauXStjjFauXClJeu6552SM0UMPPaR169bpnXfe0XvvvaecnJyAwilcgfXWW2/JGKOioqKA67jvvvv8ft67776r+Ph43X777Xr11Ve1fft2vffee5o9e7aMMaqtrfW9N9ICq66uTsYYzZ8/P+C9r7zyiowxevvttyU5BdZ7773n975Q+3p1RIEV+wjqAAA4mIv2o8ByEWEdQCy60O/AkqSHHnpI8fHxOnLkiCZOnKhBgwapqalJknTNNdfo1ltvDTjn5ptvjrrAiuYOrMcee0xJSUn69NNP/d7XnQLr5MmTiouL6/QOrD/96U+SKLBAUAcA4FzMRftRYLmIsA4gFl3oe2BJ0nvvvSdjjB577DH169dP06ZN87127bXXavz48X7v37Vrl+Li4qIusFpbWzV06FBdd911YffAmjlzpgYOHOi3N9epU6f0xS9+MaDAuvbaa3XDDTcE/F7B9sC68cYblZ6erlOnTvmOtba26u///u+D7oFFgdV3EdQBAHAwF+1HgeUiwjqAWHQhfwvhucaMGSOPxxOwv9OPf/xjeTwe/fjHP9aWLVu0ZMkSpaen6+/+7u+iLrAk6Ze//KXvWwjXrVsX8lsIt2zZImOMJk2apI0bN6q4uFjXXXedMjMzAwqs3Nxc9e/fXyUlJfrd736nP/zhD5I6/xbCr3zlKyotLdXatWs1fvz4kN9CSIHVdxHUAQBwMBftR4HlIsI6gFjkaoHVclYqmuzcadXxzqs5n/O+fh7vvmr3i1/8QsYYjRo1yu/4mTNn9MMf/lBf+MIXlJSUpGuvvVZr1qxRbm5ulwosyVtiZWZmKjExUVdeeaVWrFgR9OetWLFCI0eOVP/+/XXFFVdo4cKFWr58eUCBdfDgQX3961/XoEGDZIzx/ZxgBZbk3Yvrq1/9qgYMGKDk5GRlZWWprKzM7z0UWCCoAwDgYC7ajwLLRYR1ALHI1QJL8pZTVc96HxM8t8AqGOE93gvlFdxHgRX7COoAADiYi/ajwHIRYR1ALHK9wGrXclY6sE3as9b7V4qrCwoFVuwjqAMA4GAu2o8Cy0WEdQCxqMcKLFzQKLBiH0EdAAAHc9F+FFguIqwDiEUUWOgKCqzYR1AHAMDBXLQfBZaLCOsAYhEFFrqCAiv2EdQBAHAwF+1HgeUiwjqAWESBha6gwIp9BHUAABzMRftRYLmIsA4gFn300Ufav39/b18GYsz+/fspsGIcQR0AAAdz0X4UWC4irAOIRbW1tdq7d6/a2tp6+1IQI9ra2rR3717V1taGfA8z0X4EdQAAHMxF+1FguYiwDiAWHTlyRDU1Nfr4448psRBWW1ubPv74Y9XU1OjIkSMh38dMtB9BHQAAB3PRfhRYLiKsA4hFra2tqq2tVU1Njfbu3et7NIzF6rj279+vvXv3qqamRrW1tWptbQ3554qZaD+COgAADuai/SiwXERYBxCrWltbdeTIEdXW1vZ6ScKye9XW1urIkSOdllcSMzEWENQBAHAwF+1HgeUiwjoAAF7MRPsR1AEAcDAX7UeB5SLCOgAAXsxE+xHUAQBwMBftR4HlIsI6AABezET7EdQBAHAwF+1HgeUiwjoAAF59aSY2NjZqxowZGjp0qPr376+xY8equLg4onOPHj2q3NxcDR48WMnJycrKytLmzZs7PefUqVPKzMyUMUYFBQVdvm6COgAAju7MxVjNArGGAstFfSmsAwDQmb40E7Ozs5WamqrCwkJVVFQoLy9PxhitWrWq0/NOnz6tq6++WpdddpmKioq0ceNGTZw4UQkJCaqqqgp5Xn5+vjIyMiiwAABwUXfmYqxmgVhDgeWivhTWAQDoTF+ZievXr5cxRqtXr/Y7np2drYyMDLW0tIQ8d/HixTLGqLq62nesublZo0aN0g033BD0nHfffVeJiYkqLS2lwAIAwEVdnYuxnAViDQWWi/pKWAcAIJy+MhPz8vI0cOBANTc3+x1fvXq1jDHavn17yHO/9rWvaeTIkQHHFyxYIGOMDh065Hf8zJkzGj16tB577DHV1tZSYAEA4KKuzsVYzgKxhgLLRX0lrAMAEE5fmYlZWVm6/vrrA463//4vvfRSyHPT09M1efLkgOPr1q2TMUYbNmzwOz579mxdfvnlOnnyJAUWAAAu6+pcjOUsEGsosFzUV8I6AADh9JWZmJmZqfHjxwccP3LkiIwxWrBgQchz+/XrpwcffDDgeHV1dcCjCB988IH69eunN998U5KiDq1Hjx7Vhx9+6Leef/55CiwAAD7TXmA9//zzATPz6NGjIc+LlSxwIaDAclFfCesAAITTV2ZiZmamcnJyAo63h9aFCxeGPLdfv3566KGHAo63h9b2by9qbm7WNddco3/913/1vSfa0DpnzhwZY4IuCiwAAJwCK9iaM2dOyPNiJQtcCCiwOqivr9eECRN00UUXKTMzUxs3boz43L4S1gEACKevzMTz8dhAQUGBUlJS9Oc//1kNDQ1qaGjQrl27ZIzR/Pnz1dDQ0OkGsRJ3YAEAEE5X78CKlSxwIaDA6mDy5MmaMmWKmpqatHbtWqWmpur48eMRndtXwjoAAOH0lZk4bdq0oBu3FhcXh924NTs7W1dddVXA8YULF8oYo8OHD0uScnNzQ/4X4fb1wQcfRH3t7IEFAICjq3MxlrNArKHAOkdjY6P69eunuro637Fx48Zp+fLlEZ3fV8I6AADh9JWZWF5eLmOMSkpK/I7n5OSE/ersJUuWyBijd955x3esublZo0eP1le+8hXfsT/+8Y+qrKz0W+2h+KGHHlJlZaUaGxujvnYKLAAAHF2di7GcBWJNQIG1bNkyGWM0YMCAiH/IW2+9pTvuuEOpqalKSkrSiBEjNG/ePFcvtKNPPvlEjz/+uLKzs3XJJZeEfS61sbFRM2bM0NChQ9W/f3+NHTvW9zxpu507dyotLc3v2KOPPqqZM2dGdE19JawDABBOX5qJ2dnZSktL09KlS1VRUaFp06bJGKOioiLfe6ZMmaL4+HgdPHjQd+z06dMaPXq0hg0bplWrVmnTpk265557lJCQoKqqqk4/k28hBADAXd2Zi7GaBWKNX4F16NAhpaSkKCMjI+ICa9WqVYqLi9O3vvUtvfHGG6qoqNCyZcv01FNP9cgFt6utrVVKSopuueUW5eXlhS2wsrOzlZqaqsLCQlVUVPjOWbVqle8927Zt0/Dhw/3OmzVrlh544IGIrqkvhXUAADrTl2ZiY2Ojpk+frvT0dCUmJmrMmDEB/5Gs/db/2tpav+Mff/yxvv3tb+viiy9WUlKSsrKytGnTprCfSYEFAIC7ujMXYzULxBq/Auuuu+7S3Xffrdzc3IgKrEOHDmnAgAH63ve+F/UHnzhxQuXl5SFfLysr08mTJ0O+3tbWpra2NknSsWPHOi2w1q9fH/AVlJK31Dr3lj7uwAIAwB3MRPtRYAEA4GAu2s9XYL3yyisaNGiQ6urqIi6w5s6dK2OM3y1wkXruuecUFxenlStXBrxWWFgoj8ejJUuWRPSzwhVYeXl5QTdVW716td+masH2wLr11lvD7oHV8aupCesAgL6OAst+BHUAABzMRfsZyfvVyoMHD9bixYslKeIC66tf/aouvvhivfnmmxo7dqzi4+N16aWX6sEHH9SJEyfCnj9z5kx5PB4VFhb6ji1atEjGGM2aNSviXyJcgRXN11pOmjRJU6dO1alTp1RWVqbU1FQdO3YsousgrAMA4MVMtB9BHQAAB3PRfkaS7r33Xt10002+R/IiLbBGjhyppKQkDRo0SAsWLFBlZaWeffZZJScn6+abb/b9vM7MmjVLxhgtWrRITz/9tIwxUW8AH67AyszM1Pjx4wOOHzlyRMYYLViwwHesvr5ed9xxh5KTkzVixAht2LAh4usgrAMA4MVMtB9BHQAAB3PRfua1115TYmKi9uzZ4zsYaYGVmZkpY4wWLlzod7z9LqpINh6TpHnz5vkevzRedHMAACAASURBVOvKBmSRFFg5OTkBx9sLrI7X31WEdQAAvJiJ9iOoAwDgYC7azwwZMkT5+flqaGjwrfvvv18DBgxQQ0NDpxupZ2VlyRijnTt3+h3fu3evjDF65plnIrqI/Px8eTweGWM0e/bsqH8JNx8h7A7COgAAXsxE+xHUAQBwMBftZ87dfDzYmjhxYsiTH3jggaAF1p/+9KeI7qZqa2vTI488ori4OK1YsUIvvviiPB6P8vPzo/olwhVY06ZNC7qJe3Fxsd8m7t1FWAcAwIuZaD+COgAADuai/UxlZaU6rvHjxyspKUmVlZXavXt3yJM3bNggY4x+8pOf+B3/2c9+JmOM3nrrrZDntra2aurUqUpISFBxcbHv+MqVKxUfH6+HH344oj20pPAFVnl5uYwxKikp8Tuek5OjjIwMtbS0RPQ54RDWAQDwYibaj6AOAICDuWg/E+xgsD2wqqqqFB8fr6eeesrv+N13363+/ftr/vz52rRpkxYuXKikpCTdddddnX5wQUGBEhMT9frrrwe8VlJSooSEBL3wwgud/ozy8nKVlpZqxYoVMsZo8uTJKi0tVWlpqZqamvzem52drbS0NC1dulQVFRWaNm2ajDEqKirq9DOiQVgHAMCLmWg/gjoAAA7mov0iLrAqKyuD3uV06tQpPfHEExo2bJgSEhL0xS9+UU8++aROnz7d6QefOnVK1dXVIV9/++23debMmU5/xvDhw0M++lhbW+v33sbGRk2fPl3p6elKTEzUmDFj/O78cgNhHQAAL2ai/QjqAAA4mIv2C1pgoWsI6wAAeDET7UdQBwDAwVy0HwWWiwjrAAB4MRPtR1AHAMDBXLQfBZaLCOsAAHgxE+1HUAcAwMFctB8FlosI6wAAeDET7UdQBwDAwVy0HwWWiwjrAAB4MRPtR1AHAMDBXLQfBZaLCOsAAHgxE+1HUAcAwMFctB8FlosI6wAAeDET7UdQBwDAwVy0HwWWiwjrAAB4MRPtR1AHAMDBXLQfBZaLCOsAAHgxE+1HUAcAwMFctB8FlosI6wAAeDET7UdQBwDAwVy0HwWWiwjrAAB4MRPtR1AHAMDBXLQfBZaLCOsAAHgxE+1HUAcAwMFctB8FlosI6wAAeDET7UdQBwDAwVy0HwWWiwjrAAB4MRPtR1AHAMDBXLQfBZaLCOsAAHgxE+1HUAcAwMFctB8FlosI6wAAeDET7UdQBwDAwVy0HwWWi9rD+ge7/qDq/cf1291HVL3/uM62tEqSzra0Bj0eSrTvBwDAFhRY9iOoAwDgYC7ajwLLRe1hfdSjSzX8iXW+dd28jbp/6Q5dN3+j3/F/mL9Jv9i8T01nmv2KqqYzzfrF5n0h3x+qyKLwAgDYggLLfgR1AAAczEX7UWC5qD2sZ0xZ7Fc8hVuZs9Z3+OdyDX9inS7v8L72f85d8a7e2lff7cILAICeQoFlP4I6AAAO5qL9KLBc1B7Wh0ZZYHV3hSu8vvvy74KWWKHu2OJOLgBAd1Fg2Y+gDgCAg7loPwosF/VWgRXJevzX/xP2jq1wjzpSZAEAIkWBZT+COgAADuai/SiwXGRzgRXJHVuhltt3cnGHFwBc+Ciw7EdQBwDAwVy0HwWWi2KlwOqtO7m4wwsA+g4KLPsR1AEAcDAX7UeB5aK+UGCdu6K9kyvUCrU5PXdsAUDsosCyH0EdAAAHc9F+FFgu6msFVk+vrt6xxSONAND7KLDsR1AHAMDBXLQfBZaLKLDOzwq1J9fZllbXH2mk3AKArqHAsh9BHQAAB3PRfhRYLmoP6xkUWOdtte/JtW1fvb69/F2/gqu7BdmtBZUhy62mM82u3M1FQQbgQkWBZT+COgAADuai/SiwXNQe1kc/uizgTp9/DnKnT7g9pNpfZ9m3MmetD/h3HM3jjqHuFuvq45EAYBsKLPsR1AEAcDAX7UeB5aL2sP7Brj9EdHdO05lmPb95n/5h/qaAEuP5Dnf5bNtXr9wVnd9hROFl3wq2QX1nd4tF+3hkuDvCAKC3UGDZj6AOAICDuWg/CiwXdTWsR3pXzdmW1ogLrx/++n96vbxhdW9F83hkxzvCKLYA9DYKLPsR1AEAcDAX7UeB5aLzFdYjKbzOtrTquy//Lkzp4X/HVqhHHVmxu0IVWxRZAHoaBZb9COoAADiYi/ajwHKRbWE9mju2Qj3qyJ1cF9YK9khjJJvQR3u8sz+T3BEG9A22zUQEIqgDAOBgLtqPAstFtob17pQGbt7JxR1e9q5Qm9BHe5xN6wG0s3UmwkFQBwDAwVy0HwWWiy7UsO7GnVyhjkeyOT0rdtb52rSeIguw34U6Ey8kBHUAABzMRftRYLnoQg/rPXU3TKiCjDu2+tZ6fvM+35+H74QoNUMVXgDsc6HPxAsBQR0AAAdz0X4UWB3U19drwoQJuuiii5SZmamNGzdGfC5hvXsiuWOrK3tyRftI43XzNuq2gsqgBQqr59aYORtUtutwxP+O27+lkUcLATsxE+1HUAcAwMFctB8FVgeTJ0/WlClT1NTUpLVr1yo1NVXHjx+P6FzCes/rbE8uNzcoD3VXWPt+XxRbdq32RwtDPc4a7b9/N48DfRUz0X4EdQAAHMxF+1FgnaOxsVH9+vVTXV2d79i4ceO0fPnyiM4nrJ8f4fbkcrM46FhKNJ1p5nFHi1fmrPUBfyZ+tnGvfrZxb7c3qO/qhvadlWqR/JmjCEOsYibaj6AOAICDuWi/gAJr2bJlMsZowIABUf+w7pwbrU8++USPP/64srOzdckll8gYozlz5oR8f2Njo2bMmKGhQ4eqf//+Gjt2rIqLi/3es3PnTqWlpfkde/TRRzVz5syIromwfn715v+j390N6oPdLdaVxyO5Iyzy1Vv/GwUr1YIVW01nmvmmRlxQmIn2I6gDAOBgLtrPr8A6dOiQUlJSlJGREXUJ1Z1zu6K2tlYpKSm65ZZblJeXF7bAys7OVmpqqgoLC1VRUeE7Z9WqVb73bNu2TcOHD/c7b9asWXrggQciuibCOjqK5m6xrjweGeqOMIot+1fHYivUvzO+qRGxiploP4I6AAAO5qL9/Aqsu+66S3fffbdyc3OjLqGiPffEiRMqLy8P+XpZWZlOnjwZ8vW2tja1tbVJko4dO9ZpgbV+/XoZY7R69Wq/49nZ2crIyFBLS4sk7sBCz4n0LpmuPh4Z6aOOrNhe7RvXb9tXr28vd/ebGrmTC25jJtqPoA4AgIO5aD9fgfXKK69o0KBBqquri7rA6sq5zz33nOLi4rRy5cqA1woLC+XxeLRkyZKIPj9cgZWXl6eBAwequbnZ7/jq1atljNH27dslBd8D69Zbb2UPLJx3bpUJkT7SyLow1/Ob90X0Z6SzO7lC7eFF4YVwmIn2I6gDAOBgLtrPSNLRo0c1ePBgLV68WJKiKrC6c+7MmTPl8XhUWFjoO7Zo0SIZYzRr1qyIf4lwBVZWVpauv/76gOPt4fqll17yHZs0aZKmTp2qU6dOqaysTKmpqTp27Finnz9nzhwZY3yLsA5bhbrDK9Qm9NEeZ9m1xszZoLJdh0MWTGdbWvWdMKVmx0cd3d60HhcuCiz7EdQBAHAwF+1nJOnee+/VTTfd5HskL5oSqjvnSt49powxWrRokZ5++mkZYzRv3ryofolwBVZmZqbGjx8fcPzIkSMyxmjBggW+Y/X19brjjjuUnJysESNGaMOGDRFfB2EdsSKSTeijPR7NpvXrdh3WmLkbuBPsPK5gBVNXvjgg3Ip003ru5LrwMRPtR1AHAMDBXLSfee2115SYmKg9e/b4DkZaQnXn3HPNmzfPd/dSQUFBVOdKkRVYOTk5AcfbC6yFCxdG/ZnBENbR10Wzh9cvNu+LqBBp3/epJ8qWvrg6Fky99bnduZOL0is2MBPtR1AHAMDBXLSfGTJkiPLz89XQ0OBb999/vwYMGKCGhoaQG6k3Njaqq+d2lJ+fL4/HI2OMZs+eHfUv4eYjhN1BWAe8IikYIvnWxXM3Iu/s/awLbwW7k+tnG/fqZxv39tp+XRRn0WEm2o+gDgCAg7loP3Pu3k3B1sSJE4OeWFtb2+l5nZ3brq2tTY888oji4uK0YsUKvfjii/J4PMrPz4/qlwhXYE2bNi3oJu7FxcV+m7h3F2EdiE6037oY6v2Zs8o1/InOiy1KrwtnubVfV6QFVLiN7imygmMm2o+gDgCAg7loP1NZWamOa/z48UpKSlJlZaV2794d9MRPP/004LxIz5Wk1tZWTZ06VQkJCSouLvYdX7lypeLj4/Xwww/79tUKJ1yBVV5eLmOMSkpK/I7n5OQoIyNDLS0tEX1OOIR1oGuivbOl4/ubzjSHLMJ+vnGvfr5pb49tXB/qeCSlGqt3C7D2PdnC7e327eWR7e0Wq3dm9dSdZcxE+xHUAQBwMBftZ4IdDLaPVVVVleLj4/XUU091+gMj3QOroKBAiYmJev311wNeKykpUUJCgl544YVOf0Z5eblKS0u1YsUKGWM0efJklZaWqrS0VE1NTX7vzc7OVlpampYuXaqKigpNmzZNxhgVFRWFvdZIEdaB3tXZ/yPeExvXd3Y8VKkWrthqf511/leoO7aiXbZuXB/sz2hP3lnGTLQfQR0AAAdz0X4RF1iVlZWd3uXU2bnBnDp1StXV1SFff/vtt3XmzJlOf8bw4cNDPr5YW1vr997GxkZNnz5d6enpSkxM1JgxY/zu/HIDYR1AR9HcLfb8efiWQNb5W25tXB9tmRrsz2CwoipUmRpsD7quYCbaj6AOAICDuWi/oAUWuoawDiBSbm103/742rpdhzVm7gYeWYzhFWnhFU0R1tkjkJGs5zfv6/KfcWai/QjqAAA4mIv2o8ByEWEdgNui2ej+F5v3uVimsIdXrK6ORVhX1+VPeP+cdfUuLGai/QjqAAA4mIv2o8ByEWEdQE/p7h1bkazHf/0/YR91ZNP6vreq9x/v0p/RD3b9gZloOYI6AAAO5qL9KLBcRIEFoLeFumOrq/sd9fSm9Sz714L1e8L+uw+2x9boR5cxEy1HUAcAwMFctB8FlososADYItrN4936JrxIP7c7d3JRhvXOCrX3Vqh/ZxlTFjMTLUdQBwDAwVy0HwWWiyiwANgu0m+uO1+fG03R9vONe/XzTXu5yytG1lAKLOsR1AEAcDAX7UeB5SIKLABwR2dFW3fv8mJRYMGLoA4AgIO5aD8KLBdRYAFA74nkLq9t++qVu+JdDX8i8ju22t+Xu+JdvbWvvss/p68tCiz7EdQBAHAwF+1HgeUiCiwAsF+oje5D3bEVap+waDfMt3W1Xy8FVt9DUAcAwMFctB8FlososAAgdkS6L1e4fcLOx8b1PbHai7mmM82q3n9cC9bvocDqYwjqAAA4mIv2o8ByEQUWAKBddzeuD1V4RVuEBXsEMlgxV73/OAVWH0NQBwDAwVy0HwWWiyiwAABdFe0dYdF8g2OwRyCDff518ze6dicYBZb9COoAADiYi/ajwHIRBRYAoLdF+wjkuX6xeZ9rd2BlUGBZj6AOAICDuWg/CiwXUWABAGLZ2ZZWfffl33VpT66Om8GPfnQZM9FyBHUAABzMRftRYLmIAgsAEOu6+i2N7ZvBt9/59cGuPzATLUdQBwDAwVy0HwWWiyiwAAAXiu5+SyMz0X4EdQAAHMxF+1FguYiwDgCAFzPRfgR1AAAczEX7UWC5iLAOAIAXM9F+BHUAABzMRftRYLmIsA4AgBcz0X4EdQAAHMxF+1FguYiwDgCAFzPRfgR1AAAczEX7UWC5iLAOAIAXM9F+BHUAABzMRftRYLmIsA4AgFdfmomNjY2aMWOGhg4dqv79+2vs2LEqLi6O6NyjR48qNzdXgwcPVnJysrKysrR582a/95w4cUL/8R//oXHjxmnIkCEaMGCArr76aj399NP69NNPu3zdBHUAABzdmYuxmgViDQWWi/pSWAcAoDN9aSZmZ2crNTVVhYWFqqioUF5enowxWrVqVafnnT59WldffbUuu+wyFRUVaePGjZo4caISEhJUVVXle9/u3bt1ySWX6LHHHtPatWu1ZcsWzZ07V0lJSbr99tvV1tbWpeumwAIAwNGduRirWSDWUGC5qC+FdQAAOtNXZuL69etljNHq1av9jmdnZysjI0MtLS0hz128eLGMMaqurvYda25u1qhRo3TDDTf4jp08eVInT54MOL+goEDGGL311ltdunYKLAAAHF2di7GcBWINBZaL+kpYBwAgnL4yE/Py8jRw4EA1Nzf7HV+9erWMMdq+fXvIc7/2ta9p5MiRAccXLFggY4wOHTrU6Wdv3bo1aGCOFAUWAACOrs7FWM4CsYYCy0V9JawDABBOX5mJWVlZuv766wOOt//+L730Ushz09PTNXny5IDj69atkzFGGzZs6PSz58yZI2OMdu3aFf2FiwILAIBzdXUuxnIWiDUUWC7qK2EdAIBw+spMzMzM1Pjx4wOOHzlyRMYYLViwIOS5/fr104MPPhhwvLq6Oux/Td21a5eSk5N1zz33RHSdR48e1Ycffui3nn/+eQosAAA+015gPf/88wEz8+jRoyHPi5UscCGgwHJRXwnrAACE01dmYmZmpnJycgKOt4fWhQsXhjy3X79+euihhwKOt4fWUN9eVFtbq2HDhunKK6/UX//614ius/2/0AZbFFgAADgFVrA1Z86ckOfFSha4EFBguaivhHUAAMLpKzPxfD82cPDgQV1++eX60pe+pLq6uoivkzuwAADoXFfvwIqVLHAhoMByUV8J6wAAhNNXZuK0adOCbtxaXFwcduPW7OxsXXXVVQHHFy5cKGOMDh8+7He8PbAOHz5cBw8e7Pa1swcWAACOrs7FWM4CsYYCy0V9JawDABBOX5mJ5eXlMsaopKTE73hOTk7Yr85esmSJjDF65513fMeam5s1evRofeUrX/F771/+8hddfvnlGjZsmD766CNXrp0CCwAAR1fnYixngVhDgeWivhLWAQAIpy/NxOzsbKWlpWnp0qWqqKjQtGnTZIxRUVGR7z1TpkxRfHy8338tPX36tEaPHq1hw4Zp1apV2rRpk+655x4lJCSoqqrK976jR4/qiiuuUP/+/VVUVKQdO3b4ra4+PkCBBQCAoztzMVazQKyhwHJRXwrrAAB0pi/NxMbGRk2fPl3p6elKTEzUmDFjAjZdzc3NlTFGtbW1fsc//vhjffvb39bFF1+spKQkZWVladOmTX7vqaysDLmpbLiNZTtDgQUAgKM7czFWs0CsocByUV8K6wAAdIaZaD8KLAAAHMxF+1FguYiwDgCAFzPRfgR1AAAczEX7UWC5iLAOAIAXM9F+BHUAABzMRftRYLmIsA4AgBcz0X4EdQAAHMxF+1FguYiwDgCAFzPRfgR1AAAczEX7UWCdo76+XhMmTNBFF12kzMxMbdy4MarzCesAAHgxE+1HUAcAwMFctB8F1jkmT56sKVOmqKmpSWvXrlVqaqqOHz8e8fmEdQAAvJiJ9iOoAwDgYC7ajwLrM42NjerXr5/q6up8x8aNG6fly5dH/DMI6wAAeDET7UdQBwDAwVy0X0CBtWzZMhljNGDAgLAnb9myRd/97nc1cuRIXXTRRcrIyNA3vvEN/f73v++Riz3XJ598oscff1zZ2dm65JJLZIzRnDlzgr63sbFRM2bM0NChQ9W/f3+NHTtWxcXFfu/ZuXOn0tLS/I49+uijmjlzZsTXRFgHAMCLmWg/gjoAAA7mov38CqxDhw4pJSVFGRkZERVYkyZN0m233aYlS5aoqqpKpaWlysrKUkJCgrZs2dJjFy1JtbW1SklJ0S233KK8vLxOC6zs7GylpqaqsLBQFRUVvvevWrXK955t27Zp+PDhfufNmjVLDzzwQMTXRFgHAMCLmWg/gjoAAA7mov38Cqy77rpLd999t3JzcyMqsI4ePRpwrLGxUUOGDNHtt98e8rwTJ06ovLw85OtlZWU6efJkp5/d1tamtrY2SdKxY8dCFljr16+XMUarV6/2O56dna2MjAy1tLRI4g4sAADcxEy0H0EdAAAHc9F+vgLrlVde0aBBg1RXVxdxgRXKbbfdpiuvvDLk688995zi4uK0cuXKgNcKCwvl8Xi0ZMmSiD+vswIrLy9PAwcOVHNzs9/x1atXyxij7du3Swq+B9att97KHlgAAHQBM9F+BHUAABzMRfsZyXsn1eDBg7V48WJJ6laB9be//U0pKSm65557On3fzJkz5fF4VFhY6Du2aNEiGWM0a9asqD6zswIrKytL119/fcDx9mD90ksv+Y5NmjRJU6dO1alTp1RWVqbU1FQdO3Ys7OfPmTNHxhjfIqwDAPo6Ciz7EdQBAHAwF+1nJOnee+/VTTfd5HskrzsF1r/8y78oISEhoo3cZ82aJWOMFi1apKefflrGGM2bNy/qz+yswMrMzNT48eMDjh85ckTGGC1YsMB3rL6+XnfccYeSk5M1YsQIbdiwIarrIKwDAODFTLQfQR0AAAdz0X7mtddeU2Jiovbs2eM72NUC60c/+pGMMXrhhRciPmfevHm+O5cKCgqi/kwpfIGVk5MTcLy9wFq4cGGXPjMYwjoAAF7MRPsR1AEAcDAX7WeGDBmi/Px8NTQ0+Nb999+vAQMGqKGhIexm6u3mzp0rY4x+8pOfRHUB+fn58ng8MsZo9uzZXfkdXHuEsLsI6wAAeDET7UdQBwDAwVy0nzl376Zga+LEiWF/SHt5NXfu3Ig/uK2tTY888oji4uK0YsUKvfjii/J4PMrPz4/6l+iswJo2bVrQTdyLi4v9NnF3A2EdAAAvZqL9COoAADiYi/YzlZWV6rjGjx+vpKQkVVZWavfu3Z3+gPZHAH/0ox9F/KGtra2aOnWqEhISVFxc7Du+cuVKxcfH6+GHH/btxxWJzgqs8vJyGWNUUlLidzwnJ0cZGRlqaWmJ+HPCIawDAODFTLQfQR0AAAdz0X4m2MFge2BVVVUpPj5eTz31lO/YT3/6UxljlJOTox07dgSsUAoKCpSYmKjXX3894LWSkhIlJCREtI9WeXm5SktLtWLFChljNHnyZJWWlqq0tFRNTU2+92VnZystLU1Lly5VRUWFpk2bJmOMioqKwn5GNAjrAAB4MRPtR1AHAMDBXLRfxAVWZWVlwF1O48aN6/Txw1BOnTql6urqkK+//fbbOnPmTNiLHz58eMjPrq2t9b2vsbFR06dPV3p6uhITEzVmzBi/O7/cQlgHAMCLmWg/gjoAAA7mov1Ct0yIGmEdAAAvZqL9COoAADiYi/ajwHIRYR0AAC9mov0I6gAAOJiL9qPAchFhHQAAL2ai/QjqAAA4mIv2o8ByEWEdAAAvZqL9COoAADiYi/ajwHIRYR0AAC9mov0I6gAAOJiL9qPAchFhHQAAL2ai/QjqAAA4mIv2o8ByEWEdAAAvZqL9COoAADiYi/ajwHIRYR0AAC9mov0I6gAAOJiL9qPAchFhHQAAL2ai/QjqAAA4mIv2o8ByEWEdAAAvZqL9COoAADiYi/ajwHIRYR0AAC9mov0I6gAAOJiL9qPAchFhHQAAL2ai/QjqAAA4mIv2o8ByEWEdAAAvZqL9COoAADiYi/ajwHIRYR0AAC9mov0I6gAAOJiL9qPAchFhHQAAL2ai/QjqAAA4mIv2o8ByEWEdAAAvZqL9COoAADiYi/ajwHIRYR0AAC9mov0I6gAAOJiL9qPAchFhHQAAL2ai/QjqAAA4mIv2o8ByEWEdAAAvZqL9COoAADiYi/ajwHIRYR0AAC9mov0I6gAAOJiL9qPAchFhHQAAL2ai/QjqAAA4mIv2o8ByEWEdAAAvZqL9COoAADiYi/ajwHIRYR0AAC9mov0I6gAAOJiL9qPAchFhHQAAL2ai/QjqAAA4mIv2o8ByEWEdAAAvZqL9COoAADiYi/ajwHIRYR0AAC9mov0I6gAAOJiL9qPAchFhHQAAL2ai/QjqAAA4mIv2o8ByEWEdAAAvZqL9COoAADiYi/ajwHIRYR0AAC9mov0I6gAAOJiL9qPAchFhHQAAL2ai/QjqAAA4mIv2o8ByEWEdAAAvZqL9COoAADiYi/ajwHIRYR0AAC9mov0I6gAAOJiL9qPAchFhHQAAL2ai/QjqAAA4mIv2o8ByEWEdAAAvZqL9COoAADiYi/ajwHIRYR0AAC9mov0I6gAAOJiL9qPAchFhHQAAL2ai/QjqAAA4mIv2o8ByEWEdAAAvZqL9COoAADiYi/ajwHIRYR0AAC9mov0I6gAAOJiL9qPAchFhHQAAL2ai/QjqAAA4mIv2o8ByEWEdAAAvZqL9COoAADiYixH44x+lb31LSk+X+vWT3n/fe3zuXKmiosc/ngLrHPX19ZowYYIuuugiZWZmauPGjVGdT1gHAMCLmWg/gjoAAA7mYhgffCANHCgNHeotseLinALrhz+U/umfevwSKLDOMXnyZE2ZMkVNTU1au3atUlNTdfz48YjP94X1XR9IB7ZJe9Z6/9pytgevGgAA+1Bg2Y+gDgCAg7kYxvjx0k03SU1NUnOz5PE4Bdavfy196Us9fgkUWJ9pbGxUv379VFdX5zs2btw4LV++POKf4QvrM4dJcz7nrIIRUtUzFFkAgD6DAst+BHUAABzMxTAGDpTa/7dpafEvsLZulZKTe/wSXC2wli1bJmOMBgwY4OaPDeqTTz7R448/ruzsbF1yySUyxmjOnDlB39vY2KgZM2Zo6NCh6t+/v8aOHavi4mK/9+zcuVNpaWl+xx599FHNnDkz4mvyhfXvDfQvsOakeP9aNJkSCwDQJ1Bg2Y+gDgCAg7kYxoABUnm59+87Flhr1kipqT1+Ca4VWIcOHVJKSooyMjLOS4FVW1urlJQU3XLLLcrLy+u0wMrOzlZqaqoKCwtVUVHhe/+qVat879m2bZuGDx/ud96sWbP0wAMPRHxNToE1oEOBdc6qerYrvy4AADGFNakn4QAAIABJREFUAst+BHUAABzMxTBuvFGaNs379x0LrIcekm6/vccvwbUC66677tLdd9+t3NzcsAXWiRMnVN7e3AVRVlamkydPdvoz2tra1NbWJkk6duxYyAJr/fr1MsZo9erVfsezs7OVkZGhlpYWSW7fgRWqwErxPk7IXVgAgAscBZb9COoAADiYi2GUlHg3bv/BD7zFlccjvf66VFAgJSZKb7zR45fgSoH1yiuvaNCgQaqrq4uowHruuecUFxenlStXBrxWWFgoj8ejJUuWRPz5nRVYeXl5GjhwoJqbm/2Or169WsYYbd++XVLwPbBuvfXWru2B1dkdWHM+593YHQCACxgFlv0I6gAAOJiLEfjJT6R+/bxFlsfj/WtiorRw4Xn5+G4XWEePHtXgwYO1ePFiSYqowJKkmTNnyuPxqLCw0Hds0aJFMsZo1qxZUV1DZwVWVlaWrr/++oDj7cH6pZde8h2bNGmSpk6dqlOnTqmsrEypqak6duxY2M+fM2eOjDG+FbbA2rM2qt8PAIBYQ4FlP4I6AAAO5mKE6uqkX/7SW2a99JJ08OB5++huF1j33nuvbrrpJt/jfJEWWJJ3jyljjBYtWqSnn35axhjNmzcv6mvorMDKzMzU+PHjA44fOXJExhgtWLDAd6y+vl533HGHkpOTNWLECG3YsCGq6+AOLAAAvCiw7EdQBwDAwVwMY+tWqbEx+GuNjd7Xe1i3CqzXXntNiYmJ2rNnj+9YNAWWJM2bN89351JBQUGXriNcgZWTkxNwvL3AWujirW7sgQUAgBcFlv0I6gAAOJiLYcTFSe++G/y13//e+3oP63KB1djYqCFDhig/P18NDQ2+df/992vAgAFqaGgIuxG7JOXn58vj8cgYo9mzZ3fpWtx6hLC7+BZCAAC8KLDsR1AHAMDBXAzD4wldYO3YISUk9PgldLnAqq2t9dv3KdiaOHFiyPPb2tr0yCOPKC4uTitWrNCLL74oj8ej/Pz8qK+lswJr2rRpQTdxLy4u9tvE3Q2hC6wU71+LJnP3FQCgT6DAsh9BHQAAB3MxiBMnpL/8xbs8HmntWuef29ef/iQ99JB02WU9fjldLrA+/fRTVVZWBqzx48crKSlJlZWV2r17d9BzW1tbNXXqVCUkJKi4uNh3fOXKlYqPj9fDDz/s21MrEp0VWOXl5TLGqKSkxO94Tk6OMjIy1NLSEvHnhOML6zM+719gFYzw3nlFeQUA6CMosOxHUAcAwMFcDGLuXO+jgeGWxyN18Ym6aHR7E/eOItkDq6CgQImJiXr99dcDXispKVFCQoJeeOGFsJ9VXl6u0tJSrVixQsYYTZ48WaWlpSotLVVTU5PvfdnZ2UpLS9PSpUtVUVGhadOmyRijoqKi6H/BTvjC+mvPOOXVB6sprgAAfQ4Flv0I6gAAOJiLQVRXSz/9qVRQ4C2ppk/3/vO564UXpKqq83I5vVJgnTp1StXV1SFff/vtt3XmzJmwnzV8+PCQjy/W1tb63tfY2Kjp06crPT1diYmJGjNmjN+dX27xhfWyQqfAOvR71z8HFms56/2WyT1rvX+lvATQR1Fg2Y+gDgCAg7kYxty50uHDvXoJrhdYfZkvrG/4lVNg7a/o7cvC+dByVqp6Rnr274I8PvoMRRaAPocCy34EdQAAHMxF+1FgucgX1qt+4xQYe9b29mWhp7WclYom+W/Yzwb+APo4Ciz7EdQBAHAwFyPQ0iKVlUnPPis99ZT/mjevxz+eAstFvrC+fYNTYOx0d58tWKjqmQ6lVYhV9WxvXykAnDcUWPYjqAMA4GAuhnH8uPTlL3v3wmrfuL3979tXD6PAcpEvrL+33Sktdizp7ctCT2o5+9ljgx3vvOq4UryPE3IXFoA+oqcKrMcek/7f//P+/V/+Ip3l/6x2GUEdAAAHczGMBx+UrrnGG8Q8Hul3v5P275d++EPpqqukQ4d6/BIosFzkC+u7Pjjnrptnevuy0JMObIvs7qv2dWBbb18xAJwXPVVgeTzSu+96/z4uzvl7RI+gDgCAg7kYxogR0iuveB8j9Hik35/zhXWPPip961s9fgkUWC7yC+vzh3gLizdn9fZloSftWRtdgcWeaAD6iJ4qsC6+WHrjDe/ft//HP3QNQR0AAAdzMYykJOmtt7x/Hx8vbd3qvLZhgzR4cI9fAgWWi/zCekGmt7BY+/3eviz0JO7AAoCgeqrAmjBBuvRS6c47vQXWP/6jdPfdwdc3vuHqR4fU2NioGTNmaOjQoerfv7/Gjh2r4uLiiM49evSocnNzNXjwYCUnJysrK0ubN28O+t5NmzYpKytLycnJGjx4sHJzc3X06NEuXzdBHQAAR3fmYqxmgahcdpm0bp3374cNkxYvdl4rLpZSUnr8EiiwXOQX1p+/1ltY/Dq3ty8LPYk9sAAgqJ4qsA4elL75TSkz0/sI4dCh0uWXB19f+pKrHx1Sdna2UlNTVVhYqIqKCuXl5ckYo1WrVnV63unTp3X11VfrsssuU1FRkTZu3KiJEycqISFBVVVVfu+tqqpSQkKCJk6cqI0bN6qoqEhf+MIXdPXVV+v06dNdum4KLAAAHN2Zi7GaBaIycaL0zGdbJD34oDRkiPeRwldf9Yau8eN7/BIosFzkF9ZfutVbXLzy//X2ZaGn8S2EABDgfHwL4bn7YfWW9evXyxij1atX+x3Pzs5WRkaGWlpaQp67ePFiGWNUXV3tO9bc3KxRo0bphhtu8Hvv9ddfr1GjRqm5udl3bPv27TLGaMmSrn1hDAUWAACOrs7FWM4CUfn/2bv3+Ciq83/gkxBu1UKCqIBGREFstdDWKqlWoa1RxFutUq310gIBRAsKpbbY7y9cEyCAyDVcDYSQYLgIIeGehDtyR0BAwYDcJNwJCZBs9vn9cTI5M7szszO7sztnw+f9eu2L7JnZmbOzm5wzD+c8Z9UqotRU9nNxMVHbtnwlwpYtiQ4eDHoVEMCykaqznvYiC1pMj3e6WhBsrnKiOZ31R14lNmDbMfoKAG4iwQpgvfIK0XffsZ8LC4lKSmw9vGXdunWjW2+9VdWZJCKaO3cuSZJEGzdu1H3t008/Ta1bt/YqT0pKIkmS6ETVaj4nTpwgSZIoOTnZa98HHniA4uP962sggAUAAMD52y6Gc18gIG430ddfE+3dS+Tx3oMFASwbqTrrmW+ywMWEdk5XC0LBVc5GWHlOJUxpycoRvAKAm8zNsgphXFwcPfroo17l8vufMmWK7mubNGlCnTt39ipfunQpSZJEK1asICKi5cuXkyRJlJub67Xva6+9Rk2bNvWr7ghgAQAAcP62i+HcFzCtrIzo8cfZKCwHIYBlI1VnfdF7LIAx+udOVwtCxe0mGtiIB6++mo7AFQDctIIVwLrjDpYnlEiMVQhbtWpFz2rkfDh16hRJkkRJSUm6r61duzb16NHDq3zTpk2qqQgZGRkkSRJt3rzZa9/u3btTnTp1fNbzzJkztG/fPtVj3LhxCGABAABUkQNY48aN82ozjRKlh0tfIGA//SlRQUHwz2MAASwbqTrref9mQYyku52uFoRKeZl69NXhfKdrBADgmGAFsF5/na3i/NBDPOXCL36h/WjTxtZTa2rVqhV17NjRq1zutGoN9ZfVrl2bevbs6VUud1rl1YvkTuuWLVu89u3evTvVrVvXZz0TExNJkiTNBwJYAAAAPICl9UhMTNR9Xbj0BQL2zDM8ibtDEMCykaqzvmYoz4FUWel01SAUrpxWB7C+WeJ0jQAAHBOsANaFC0QffkgUH8+mEP7610QdOug/gi1cpg1gBBYAAIAxf0dghUtfIGB79xLddx/RrFmOJSFFAMtGqs76hs94IOPaZaerBqFQfEgdwNo11/drAABqqJtlFcKEhATNxK2ZmZk+E7fGx8fTgw8+6FWenJxMkiTRyZMniYgnbh0+fLjXvq1bt0YSdwAAABv42y6Gc1/AkltvJapTh/0PYmQke/7Tn/JHgwZBrwICWDZSdda3f84DGZdOOF01CIUftqoDWFv0I+0AADVdsAJYa9fy//Q7epSoXCfV4NmzRDNm2HpqTXl5eSRJEmVlZanKO3bs6HPp7EmTJnlNB6ioqKCHHnqI2rVTLwLz2GOP0cMPP6w63ubNm0mSJJo8ebJfdUcACwAAgPO3XQznvoAl775L9Pe/Gz+CDAEsG6k663vn80DGmQNOVw1C4btV6gDWulFO1wgAwDHBCmB5rjxYWUlUuzbRzp3q/bZsYfuGQnx8PMXExNDUqVMpPz+fEhISSJIkmjNnTvU+Xbp0oVq1atHRo0ery65fv04PPfQQxcbGUkZGBq1atYpeeeUVioqKosLCQtU5CgoKKCoqil555RVatWoVZWRkUGxsLD388MN0/fp1v+qNABYAAAAXSLsYrn2BcIMAlo1UnfVvFcGMHxye3wChoQxaJjYgWjXQ6RoBADgmWAEsz2mDLhcr27FDvV8oA1glJSXUu3dvatKkCdWpU4fatGlTnXRV9u6775IkSVRUVKQq//HHH+mdd96hRo0aUb169SguLo5W6SxRvXLlSoqLi6N69epRo0aN6J133jHMyeELAlgAAABcIO1iuPYFwg0CWDZSddaPbeGBjO+0v3xQw2yboQ5gLe3ndI0AABxzMwWwwhUCWAAAABzaRfEhgGUjVWf9x/08kLF3gdNVg1BY/6k6gLWwh9M1AgBwDAJY4kNHHQAAgEO7KD4EsGyk6qxfOs4DGdvTnK4ahMKqgeoAVuabTtcIAMAxCGCJDx11AAAADu2i+BDAspGqs37tEg9kbBzndNUgFJb2VQew0l50ukYAAI4JZgBr9mwWsNqxg2jrVlaWkcHLduwgSktDAMsXdNQBAAA4tIviQwDLRqrOemUlD2TkD3O6ahAK87uqA1hTf+90jQAAHBPMAFZkpPphVAb60FEHAADg0C6KDwEsG3l11ofdxQIZeR87WzEIjTmd1QGs8Y86XSMAAMcEK4CVlmbtAfrQUQcAAODQLupITSV64AGiunWJ7r6b6D//IaqocKQqCGDZyKuzPvpnLJCxqJezFYPQmP6MOoA16kGnawQA4JhgBbDAPuioAwAAcGgXNcyezYa1N2xI9NhjRHfeyYa4f/ihI9VBAMtGXp31CY+xQEbWW85WDEJjYpw6gJV0t9M1AgBwDAJY4kNHHQAAgEO7qKFdO6Lf/pbo0iX2vKKC6N13iW65xZFRWAhg2cirsz7taRbImPWSsxWD0JBH3FU/GhK53U7XCgDAEQhgiQ8ddQAAAA7tooZbbyVasEBdVlTERmUdPBjy6iCAZSOvzvrsV5DM+2Yi5zxTPq6XOF0rAABHIIAlPnTUAQAAOLSLGiIiiL76Sl3mcrHynTtDXh0EsGzk1Vmf9w4LYox7xNmKQfC5KnjQKqUV//nKaadrBgDgCASwxIeOOgAAAId2UUNEBNHWreoyBLBqBq/O+uIPqgIaDzhbMQi+0vM8aDWlA//57LdO1wwAwBEIYIkPHXUAAAAO7aKGiAiiJ58kevFF/njhBVb+1FPq8peCnzoJASwbeXXWlw9gQYyhTZytGATfhSIetMp8k/98YofTNQMAcAQCWOJDRx0AAIBDu6iheXOie+8192jRIujVQQDLRl6d9YLhPJDhCn2GfgihU7v5Z533b/7z92udrhkAgCMQwBIfOuoAAAAc2kXxIYBlI6/O+qaJPJBRdsHZykFwfb+Of9YbPuM/H1jqdM0AAByBAJb40FEHAADg0C6KDwEsG3l11nem80DGhaPOVg6C65sc/lnvnc9/3p3ldM0AAByBAJb40FEHAADg0C5q6N+f6PhxdVllpTN1IQSwbOXVWd//JQ9knN7rbOUguHZl8M/62Bb+89ZpTtcMAMARCGCJDx11AAAADu2ihshIoq++4s9dLla2w5lczwhg2cirs354DQ9kHN3obOUguDZP4p/1peP85/VjnK4ZAIAjEMASHzrqAAAAHNpFDRER3gGsiAgEsGoCr8768e08kHFoubOVg+BSJewvJxoYzX5ePdjpmgEAOAIBLPGhow4AAMChXdSAAFbN5dVZLz7Egxp7vnC2chBcy/7LPuehTdnzpFi+IiEAwE0IASzxoaMOAADAoV3UgABWzeXVWb9yWpELabqzlYPgWtSLfc6jHmTPR/+MPV/0nrP1AgBwCAJY4kNHHQAAgEO7qCEigmj2bBaw2rGDaOtWVpaRwcuUjyBDAMtGXp31G1cVuZA+dbZyEFxZf2Of84TH2PPxj7LnWW85Wy8AAIcggCU+dNQBAAA4tIsaIiJY0nblw6gsyBDAspFXZ93tJhoYU5ULaZCzlYPgSnuBfc7T49nzqX9gz2e97Gy9AAAcggCW+NBRBwAA4NAuakhLs/YIMgSwbKTZWU++hwUycv/lXMUg+FKfYp/znNfY81kvsefT/uhsvQAAHIIAlvjQUQcAAODQLooPASwbaXbWP32YBTIWdHeuYhB8Y9uyzzm7C3tePaWwnbP1AgBwCAJY4kNHHQAAgEO7KD4EsBSKi4upU6dO9JOf/IRatWpFK1eutPR6zc76pMdZIGPuX22urQ1c5UTfryPav5j96yp3ukbha0QL9jnnfMSeL+zJno/+ubP1AgBwCAJY4kNHHQAAgEO7KD4EsBQ6d+5MXbp0odLSUlq8eDFFR0fTuXPnTL9es7M+41kWyPj8+SDU2E+ucqLCEUQj7+dJ5hMbEKW0ZOUIZFnjdhMNasSu4apEVpb7L/Y8OdbJmgEAOAYBLPGhow4AAMChXRQfAlhVSkpKqHbt2nT8+PHqsvbt29OMGTNMH0Ozsz6nMwtkpD5pZ3X95ypneZoSGxAlNlQHsOTnczojiGXFjVLFapNjWNnqQez5wBgW4AIAuMkggCU+dNQBAAA4tIvik3bt2kWdOnWi2NhYqlevHsXExFBcXBylp6ebOsDOnTvp5ZdfpqZNm1L9+vWpdevWNGjQICotLQ1qxa9cuUL9+/en+Ph4aty4MUmSRImJibr7l5SUUJ8+fahp06ZUt25datu2LWVmZqreR0xMjOo1H3zwAfXt29d0nTQ769ldWCDjs1+aPk5QFY7wCFrpPApHOl3T8HH5FL9uW6ezsnWjedmN4P4uAACICAEs8aGjDgAAwKFdFJ9UUFBAPXr0oPT0dMrPz6ecnBx64403SJIkGjJkiOGL9+/fT/Xq1aO2bdvSvHnzaM2aNZSYmEi1atWil156KagVLyoqooYNG9JTTz1F3bp18xnAio+Pp+joaEpNTaX8/Pzq12RkZBAR0bp166h58+aq1wwYMIC6dzeffF2zs57zIQtijLjPytsLDld51bRBz5FXno+GbDohRmGZU3yQX7uvs1nZV1N5WckZZ+sHAOAABLDEh446AAAAh3ZRfLpTCNu1a0exscb5ez755BOSJIkOHz6sKu/evTtJkkQXLlzQfe3ly5cpLy9Pd3tOTg5dvXpVd7vb7SZ31dSss2fPGgawcnNzSZIkmjt3rqo8Pj6emjVrRi6XK3gjsFb+HwtiDL7d9HGC5vt15kZfyY/v1zld4/Dww1f8mn1blfh/dyYvO3fY+PUAADUQAljiQ0cdAACAQ7soPt0A1vPPP08tWrQwfPHAgQNJkiQ6e/asqvzf//43RUZGGgagRo8eTZGRkZSWlua1LTU1lSIiImjSpEm+6k9EvgNY3bp1o1tvvZUqKipU5XPnziVJkmjjxo2aObA6dOgQeA6stSk8kFFx3fSxgmL/YmsBrP2Lna1vuPh2Jb9mP3zFyr7J4WUndzlbPwAAByCAJT501AEAADi0i+KrDmBVVlZSRUUFFRcX08SJEykqKopSU1MNX1xUVETR0dH02muv0ZEjR+jKlSuUk5NDDRs2pH/+858+T963b1+KiIhQnWfs2LEkSRINGDDA9JvwFcCKi4ujRx991Ktc7lxPmTKFiIhee+016tq1K5WVlVFOTg5FR0d7Bee0JCYmkiRJ1Q9VZ33LFB7IuOr7WEEVriOwXOWsLvsXs39Fm9r4dTa/ZmcOsLIjBbysaL2TtQMAcAQCWOJDRx0AAIBDuyi+6gBWjx49qgMwderUMT366cCBA/Tggw+qAji9e/eunt7ny4ABA0iSJBo7diwNHz6cJEmiwYMHW3oTvgJYrVq1omeffdar/NSpUyRJEiUlJRERUXFxMT333HNUv359atmyJa1YscJSPTQ767vmijOVLNxyYLnKWdL5kfer65fSkpU7XT/Z1um8bpdPsbIT23nZwWXO1g8AwAEIYIkPHXUAAAAO7aL4qgNYx44do23btlFubi717NmTIiMjKSUlxfDFRUVF1LJlS3riiSdo/vz5tHbtWho5ciQ1aNCAunTpYroSgwcPrg5++TqnFjMBrI4dO3qVywGs5ORky+fUotlZP7BUrKlk4bIKoaucaM5rPKDmGWBLbEA0p7MYQaz1Y7xXHCw+xMv2fOFs/cCY6CP8AMIUAljiQ0cdAACAQ7soPt0cWD179qSoqCgqLi7WffHrr79Od9xxh1euq5kzZ5IkSVRYWGiqEv369aOIiAiSJIk++eQTk1Xn7JpCGCjNzvr3axVT8tbacp6AuMpZ4Edv5JUogaFwCbQREa1KZHUZ1IhIHnl4+SSv4zbzedTCTjgHf8JlhB9AmEIAS3zoqAMAAHBoF8WnG8CSg1BbtmzRfXHr1q2pQ4cOXuV79+4lSZJowoQJhid3u930/vvvU2RkJM2cOZMmT55MERER1K9fPwtvwXcAKyEhQTOJe2ZmZnUSdztodtZP7uI3xgeW2nKegLnKiZb9xzsYlNKSBYScvnEPt6mOOR+x+oxQLHpw/Qqv54bPnKtbsIR78CecRvgBhCkEsMSHjjoAAACHdlF8ugGst99+myIjIw1HYP3+97+n22+/nUpKSlTlU6dO9fnBV1ZWUteuXSkqKooyMzOry9PS0qhWrVrUq1cv03m0fAWw8vLySJIkysrKUpV37NiRmjVrRi6Xy9R5fNHsrJ87zG+Md2fqvzjUvlutvmmf+FtxbtbDLdl8dhdWj7FteVllJa/fmqHO1S0YakLwJ5xG+AGEKQSwxIeOOgAAAId2UXxSQkIC9evXj+bNm0eFhYU0f/58ev3110mSJOrfv3/1joWFhVSrVi0aNGhQddnixYspIiKC4uLiaN68ebRmzRoaNmwY3XrrrfTzn/+cbty4oXvilJQUqlOnDi1atMhrW1ZWFkVFRdH48eMNK5+Xl0fZ2dnVo8U6d+5M2dnZlJ2dTaWlpap94+PjKSYmhqZOnUr5+fmUkJBAkiTRnDlzzF4rnzQ761fP8pvhLfZMVbSFMvF4YgOicY84XSNu/2JrAaz9i52trxzMSX1KXT7sLla+7D/O1CtYwj34E24j/ADCFAJY4kNHHQAAgEO7KD5p5syZ9OSTT1Ljxo0pKiqKoqOjqX379pSenq7asaCgQHOUU35+Pj3zzDPUpEkTql+/Pj3wwAPUr18/OnfunOGJy8rKaNOmTbrbN2zYYBgAIyJq3ry5avVD5aOoqEi1b0lJCfXu3ZuaNGlCderUoTZt2qhGftlBs7NecZ3fEK+1nqA+aFb8T32znnyP0zXiwm0E1vR4Vo+0F9Tlo1qz8i97OVOvYKgJwZ9w+34BhCkEsMSHjjoAAACHdlF8ulMIwTrdzvrg29mN8Mr/c6ZiWrLe8r5RrzAOGIaM6SBJVeBt70JnE4hPeIzVJetv6vJxj7Dyee84U69gqAnBn3Ab4QcQphDAEh866gAAABzaRfEhgGUj3c76iPvYjXDOh85UTMvk33nfqF8+6XStOLPT1JQPpxKIj3qQnX+Rx0irKR1YefqfQ1ufYKoJwZ+aEISDmimcV/XUgACW+NBRBwAA4NAuig8BLBvpdtbHtmU3wtldnKmYJ7ebKOnuqqBPK36jfmq30zXjXOUsEbilIJZDCcSHNmXnXfZfdXnaC6x8enzo6hJsNSH4UxOmQULNEu6reupAAEt86KgDAABwaBfFhwCWjXQ766lP8sCKCErP8xukzDf5z9+ucrpmaq5ylgh86J3WR2OFKoG4q4KfsyBZvW3uX1n5xN+Gpi6hUFOCP+GeiB5qjpqwqqcOBLDEh446AAAAh3ZRfAhg2Ui3s/758+wmZEZHZyrm6cQOfoO0/lP+8665TtdMW9bfWP1GtmI5r0QKniiDgZsnqbct6M7KP304+PUIpZoQ/DEc4RfeQQMIMzXh90kHAljiQ0cdAACAQ7soPgSwbKTbWZdH4kx63JmKedq7gN8UFW3gP28Y63TNtE17uur6PSHe9LXz3ysCgBnqbUv7svLhzYNfj1CqKcEfVzlR7r+830NKSxYsEL3+4aaG5XeyRU0Z0agDASzxoaMOAADAoV0UHwJYNtLtrIs2EmfdaH5jdO0S0ZA72M8rPnG6ZtrGPMTqN/M5awGsUCQQP7mLn++bHPW2lf+PlQ+6Lfj1CDV5eqf83QnX4M+RQnX9lw8In7qHixqa38kWNSGnnAEEsMSHjjoAAACHdlF8CGDZSLezLo/ySL7HmYp5WvzPqpFB97LncoBoYQ9n66WlspIFgBIbEGX/Q7ybve/X6p9vbQrfVnE9+HVxwuw/qa/5jVKna2TN19nq+q9NcbpGNUsNzu9ki5qwqqcBBLDEh446AAAAh3ZRfAhg2Ui3s756ELv5GBjDVgB0WtqLrD5TOrDnU9qz57NfcbJW2kqK+c3bxgniTbf5Zgk/r+cqjltS+barZ4NfFyd4Tuu8fMrpGlmzaaK6/sv+43SNapYanN/JFhiBBQ5DRx0AAIBDuyg+BLBspNtZXz9GMULlqjOVU/r0F6wuX/ydPZfzGU3+nbP10nJqt2L0wZfi3RDvTOfnvFDksW0O33b++9DUJ9Q8p4Wd3OV0jaxZlaiu//xuTteo5qjh+Z1sUcOvEQJY4kNHHQAAgEO7KD4EsGyk21nfOp3fiFw57UwpC1NJAAAgAElEQVTlZK5yNhIssQHRqoGsbFEv9nzUg87WTcuh5fza/fCVRwJxAaYkKUfwlJ5Xb1NODzr9dWjqE0qucu8b7W9XOl0ra+TvvvyY/Sena1Rz1PDRRbYRLShvIwSwxIeOOgAAAId2UXwIYNlIt7O+5wt+E3L2W2cqJ1Oumrc9jZUpk42LMMVRadtMXt+LP7AyOYF4Skv1Dd7w5qFPIJ6fxM/vqlBvO7yGbzu60dpxw2HFtksnvG+yd6Y7XStrqvMzNRB3FGK4quH5nWxTU1b11IAAlvjQUQcAAODQLooPASwb6XbWlaOIjm93pnKyw/m8LkcKWdmmCbys7IKz9fOUP0wRIPK4gXOVq6fw7Zob+vot+w8797Bm3tuOb+N1O7TC3PHCacW2E9u9b7jXjXa6VtakPqWu/+ifOV2jmgMjsMyTg/IDozV+78NoVU8PCGCJDx11AAAADu2i+BDAspFuZ/3oRn5DcjjfmcrJlCOaLhxlZXvm8bLiQ87Wz9PiD1i9Rt6vvf3aZV739Z+Gtm5ERIve0w98nDnA67Z3vu9jhduKbQeWegch8j52ulbWjP6Zuv6DbxdvFGK4quH5nWxXcUN9XcY9EvbXBAEs8aGjDgAAwKFdFB8CWDbS7ayf3quYJuPwL0P1dMFGfMqbclRW0QZn6+cp/VXfU7uG3cX2ye0funrJMt9k557QznvbpeOK6Zqf+z5WuOXCUeZ2G9qE/Zv9D6drZZ7bTTS4MVVPn5Xfy/UrTtes5gi377STLhSpr8mnv3C6RgFDAEt86KgDAABwaBfFhwCWjXQ76xeO8psSp3MEzXuH1WNsW16mDLDtW+Rc3bRMepzVK+Mv+vuMf5Ttk/lm6Ool+/x5du7pz3hvu3aJX9eN442PE46jVaqndzYkmvp79vPnzztdK/PKLvDrOvG3/OeaumKkE2pwfifbFa1XX59hdzldo4AhgCU+dNQBAAA4tIviQwDLRrqddeWN8qaJzlROJuf8mfUyL7vyI6/fV1Odq5uWES1YvZb01t9n9p/YPlPah6pWXOqTVTfhr3lvq3Tx65qfZHyccMwXpJzeKY9EG/+o07Uyr/gQv57ZXfjPx7c5XbOaRc7vNKyp+js8okVY53ey3a653r/nFdedrlVAEMASHzrqAAAAHNpF8SGAZSPdzrqrgt+QFAx3pnKy5HtYPXI+5GWuCj4aIn+Yc3XzVHHd3HX7shfbJ6VV6OomG9uGnXt+V+3t8tS65QOMjxOOK7bJI2smP0GU8xH7eXhzp2tlnnLEy9oU/vPBZU7XrGb68n31d/jblU7XSCyFI71/zy+fcrpWAUEAS3zoqAMAAHBoF8WHAJaNDDvrZgMZwaQcCbZhrHqbPNJJGdhymjInzI5Z+vspp7JV3AhZ9YiIaPi97NxL+2pvT2nFti/+p/FxwnEEljz6LP1VooJkxaiREH8G/tq7gNf5QC7/2elpvjWVnM9OfuyZ53SNxLL4n96/56f3Ol2rgCCAJT501AEAADi0i+JDAMtGhp31lAeqAhkfhL5ispM7FSN4PH4pJzzGyp3II6Xn2GZzozW2p/H95JUVQ8HtJhoYw867aqD2Pp/9im3/4u/GxwrHHFjyd/rLXkTbZvA6XjrhdM3M2ZLK63z+e/6zE6tZ3gzkfHbyY+M4p2skFnkqtPJxpMDpWgUEASzxoaMOAADAoV0UHwJYNjLsrI97pCqQ8W7I61Vt30J+Y3Rqt3qbUTJypyhHyBiNRPh2Fd/v6MbQ1e96ie+gh1GOLE/htGJbpYtoYDSrz+rBRN/k8Pqd2OF07cxZPZjVd2A0ez+Db2fPV3zidM1qpuHN1d/jFf9zukZiGf8bdl3G/Zpfo73zna5VQBDAEh866gAAABzaRfEhgGUjw866vErb7FdCXzHZ+jH8xujaJfW2L/7Oyj/7lTN107JpAq9v6Xn9/c58w/f7Ojt09bt8kp932wztfeTA4IyOvo8XTiu2XTnN6/bVVKIftvLnh5Y7XTtzqpPQt2TPR/+MPV/Y09l61UTlZd7f6QXdna6VONxuPs08+x/q360whgCW+NBRBwAA4NAuig8BLBsZdtZnvcRuSKY9HfqKyZb0ZnXQSrSd259tS7o75NXSteITVqfBt7MbPD3XLvEbPs/cXsGkDJzpjZTIeJ1tn/SEuWO6ytU3sPIjpaVYK7ad3MXr9s0S8/nKRFL92TzOnk/+nfnRcmDNucPe3+nZf3K6VuIoPa8ezSn/XJDsdM0CggCW+NBRBwAA4NAuig8BLBsZdtaz3mI3JBMeC33FZHIQbUp7721rFStglV8Ldc20ZXdh9fn0F8b7ud1Ew5qxfXP7h6ZuRETHtihydK3S3md+V7Z9bBvzx103Wn2jn9xcnMCV7OAyXr8fthLdKOXP16Y4XTtz5FGRs15mz+UcRFM6OFuvmki5SIE80kgOHII6ILz/S6Kk2Kq/Z/9yumYBQQBLfOioAwAAcGgXxYcAlo0MO+uLerEbktE/C33FZGPb6Ofh2v45v4G6+IP2613l7EZ0/2L2b7CDKjOfq5p+96zvfcc/yvYNZRL6QyvUQRwtOR+y7SPuM3/cL3t5j1YRJago0/q+DLsr9EHEQIx5uGoqWwJ7Pr9bVcD0YWfrVRPtmce/L9OfUU/dBO8ccmPb8umEYQwBLPGhow4AAMChXRQfAlg2MuysL/sPuyEZdlfoK0ZE5KpQrJiX6L39wFL9JNyucpZgfOT9GtPaRgQvkPXZL/UDbp5mvRz60TNfZ/NrUXxQe58V/+PTIM2a8ax3AOvsd/bU2S4Fw3ndKm6wsuoVF991tGqmuN1EQ+5g9V0+gJXJv6NDmzpbt5pImX8v79/sXzl5PhBtnsyvT0kx0dQ/VI0OfMnpmgUEASzxoaMOAADAoV0UHwJYNjLsrOcP4zcolZWhr5wyR9H2z723q5Jwr+DlrnKWE0iZSDwUicXdbqIhd7LjL/uv7/3lEW4preyth5Gt0/i1uHJae59CxdRMs9doZEu2vzxCKLEB0eE19tXbDkv6VOVTu5eXyYG3mc85Vy+zrl32zpu2NkUx4q3M2frVNHKOvWF3EW2ZogjWnHG6ZmJYPoBdjyF3sL99GX9hzyebzJ0nKASwxIeOOgAAAId2UXwIYNnIsLO+cRy/abt2ObAT+TOV70gBP/+RAu/t57/n23em8/LCEd6jgbQehSMDe0+eyi7wY28c53v/6gBhQz4iKNiUuapulGrvs3kS38doJUWZMrAir5KX2IBoe5q9dQ/U3DdYvSbG8bJ5b7OycY84Vy+zlEnFd81lZWam0YJ/Mt9k13X8o0T7FvHrfPprp2sWXGb/Vlf/7vyaPV/0nvNTzm2AAJb40FEHAADg0C6KDwEsGxl21ren8Zu2S8f9O0EgU/mUN+cXiry3Xy/h29eP4ecbeb/GyCvPR0NWBztHYSlX+Ps62/f+qvd31L56GFn5/9j5Bt2mv0rijtnW6qVM5rznC37t1wyxt+6BmtKB1Uu5ktzSfqwsKda5epl1dBO/zt9VJeBX5iE6udPZ+tU01QnzXyI6ulFx7Vc7XbPgsPq3Wnl9iMyvwCo4BLDEh446AAAAh3ZRfAhg2ciws753Ab+JOfON9YMHOpVvVWJV3pkYlg9Li7w6mJwTSLlymJlHwXD7krt/t5oft2iD7/2/Xcn3P7op8PObIU+jM0rQrhxt8qOJm7i98/n+p/YQjXqQ/bygu331tsPon7F6LezJywoFXMlSz/4v1deZiOjYZl6mt6ok+GdUa3ZdF72nPfqtJvHnb3VKK1b+ZS/2XJkz7HqJM+/DBghgiQ8ddQAAAA7tovgQwLKRYWf9u1X8huTYFusHD2Qqn6uc6PNOVSMAWukHmD6tyrk0vxt7vn+xtQCWlRFhvuxM58c7f8T3/j/utzZiyw7Z/2Dn++yX+vtY/dyVQaDrJXzFNpHySlVWEg1qxOq1KpGXq6bgHXOociZ9NZXXVc5fdvY7XrY709n61SSuCpawPbEB0erB2vnHahKrf6vLryn+EyCZle2YxctCNaI0CBDAEh866gAAABzaRfEhgGUjw876D1/5P7rD36l8lqexyCtfvcyeWx2BZWVEmC9rlaN5TCTULrsY+pvi9D+z801pr7/PsS3WPvcF3dm+o1qz5/O7sudjHrajxvYoKebvaUsqLz+Yx8uPb3eufmYoF1WQv6OqvGvjna1fTXLpBL+uW6erF2iQR3vWFP78rVaOSNs5hx3HaFXYMIIAlvjQUQcAAODQLooPASwbGXbWzxzgNyR751s7sNVAkjyNz+o0lozXWfmkx9lz0zdjJkYZWJXzEXt98j3m9ne7iYY1Y6/J+7d/57Rq2tPsfGkv6u+jHBm2b6GJY/6xasRVJ/Z81UD23GjqZ6id/lrxnhbx8uPbefmBXOfqZ4bWKoput/bIMgiMcoXTg3mszHO0Z03hz9/qI4X8+ZFCdpwaMp0VASzxoaMOAADAoV0UHwJYNjLsrCtHIWz/3NqBrU7l27/YvymHX77PylJa8TKzx/E1ysAqrVXufBn/G/aarL9ZP58/xj9adb639Pe5eIxfjx2zfB9z+L1s38UfsOfbZvDX2zktz5+VLGXKfGPHNvPyiz/4/x0PNXlVvAmPqcurcxG970y9iAL7bESkyje2m5XJgVqj4G848udvtXK69LnD7Dhnv+Vlu7OcfU8BQABLfOioAwAAcGgXxYcAlo0MO+vKvC8bx1k7sNX/1T+c79+Uw9WD+GifykpW5ipnI7X8DmJVjTKwakp79lrlKne+zHqJvWZKB+vn84ecmFpOvKyl9Dy/DpsmGh9POYVt/aes7FtFDi0zyew9eQZDbpT6v5KlTLWyYhEvV+byKRxhva6hJI+e+/x5dfnE37LyuW+Evk6BrDIqss2T+HspKWZlc/9aFUBs52zd7ObPCKyCZP5cXvzAyt8NgSGAJT501AEAADi0i+JDAMtGhp31ykp+QzLvHWsjK6zmVTmc71+ASXmjefWc+vxfvOt/AGv/YusXM+UB9tpFBsEhT4t6Vd3wP2D9fP7wXLVRi6vcfFBHOQXvmyWsrPigYiSGhcTiesGQwY35d8Xzu5PYwFzesrUGqw0mx7Lypf3M19UJY9uwemb/Q12e9gIrn/Z0aOsT6CqjIlvxP/7dkwPj1St4tnC2bnbzJwfWl/LfLcXI18pKdeL7MIUAlvjQUQcAAODQLooPASwb6XbW5WCC502NlZEVVqYE+jONhYit3ieXnTmgPv/yAax8YDTRmqH+BcjMUq5atmaI+ddV16shUcUNa+e0ShmYKhhuvO+QO9h+Kz4x3m93luL6f8PKblxVf7Zm66YbDDH5HTKytC/bLznWe9u4R9i2eW+bq6tThjZl9cz7WF3+xd9ZudHKksEQyCqjosvuwur+6S94mVYS/WAK5bRMq5+lPHJ06u/VxxlxHytf0id4dQ0yBLDEh446AAAAh3ZRfAhg2Uizs64KJmj8L7zZkRVmpvLJx/FnGguROpmwZ9BpZidWPvl31pK7J99DtHehtZvGyyf567dOM/8BbJvJX2dnvigtV8/xc22ebLyv2RvR6pv6huqRTSNasHI5L5Yvwc5bJuePGv+o9zb5ezLjWXN1dYIyKLhulHpb7r9YeZJGcC5Y/F1lNFzMfM77O7F1Gn9fl08F79xOTMu08reaiOizX2kHfatz7IUop18QIIAlPnTUAQAAOLSL4kMAy0aanXU7R1aUnucjk5SPQY3Y6+UbIn9viJUr5ilXSqys5Cv8Lf6ntfflz02jv6vZ6SUXD4bzR/i5dmUY7zu2Ldtvflfj/eSRKmMeUpdPac/KZ73su152rBypFcBUMkrALU81/exXvuvqlAtF/H3umK3eVjCcb9MbxWf3aB5/A87hQmu6pnKU6MldwTmvk9MyXeVEi97z/uyG3KH+W+12Ew2+nW3znIo8oyMrn/mc/fULEQSwxIeOOgAAAId2UXwIYNnIq7Nu98iKA7n8NWtHsVxa8vPzR9T7+hM4Kynm5VtSeXnxIV4ury6nGmVgNlhi8qbxmyWKm9udpq8//biPv+7rbPOv88fJnYog21LjfSc/wfbL+IvxflPaaweGst5i5eN+7bteVoMheg+jvGVjHmb7LEjw3pb3b7Zt2F2+6+qUH7by93louXqb0cigYI3m8XfKbzjQC9Ac28Lfz7crg3Nup6dlfjVV8R2pWvDhM4/fYeXfXM+RnHorZYYRBLDEh446AAAAh3ZRfAhg2cirs273yAo599DgxkTXS9QjptaNVu/rKiea/oy1QFKlSztxsDI306nd6nMUjmQ38FYDJEY3jcobvyunzV18IqKyi/x1Gz4z/zp/HCng5ypab7yvPIVqZif9fdxuNm0tsQFRzofqbXL+scG38yTYeqwGQ6x+F91ungh+xf+8t69N4ce4UWpcV6ccWMrreGKHetu+RXzb6a95eTBH89TkEVjKqbbK1fSUIxh3ptt/XhGmZcrB3CF3qlcalFdiJCI6oVy4IUf9+sX/ZOUj77e/biGCAJb40FEHAADg0C6KDwEsG3l11u0cWeF2syTIiQ34CB23m2j8b1hZ6pPer/nyfe3zpLRUT2NRkkeXyFMFifiN2ODbtadVyVOq9i5gOa8CvWlcNZDtNzCGBdXMcrsVybn/bf51/ti7gL+f7WnGN8DySDWtz0h29Sw/3sbx6m2bJysCej8a1yvgEVg+PpvS89oBCdmO2Xz7hSLjujpFmSvt0nH1tqL1fNvhfF4ezNE8IgRbguXUHl7/fQt5+fUSXu4ZfLeDCEHB2a+wY096guj7tYpA1RK+z/4vebnnVErV30EfgWtB3UwBrJKSEurTpw81bdqU6tatS23btqXMTPMrx545c4beffdduu2226h+/foUFxdHq1evVu1z+fJlGjp0KLVv357uvPNOuuWWW+jhhx+m4cOH07Vr13SObAwddQAAAC7U7WK49h+chACWjYI6AuvcYb6fcnSRckXA89/z8uslPG9Vxl/M5+yZGMdeM/evvGx6PCvzXCXLk13vd2EPtn30z4zPp0VeBS9YiY/laWRJd2kEBXWmkWX/g+1jtLLdsc38WAeXqbcpRwwd3+a7foHmwDIKwujlSZMdWs63/7DVuK5OUQajKq6rt505wLfJ01BDEWByerpbsKi+D1+pt+mtBGkHEaZlylNtv3iXjUYc1Ig9X/Zfvs+mCbwOpefVr984nm8ru2B//ULgZgpgxcfHU3R0NKWmplJ+fj5169aNJEmijAwfORKJ6Pr16/Twww/T3XffTXPmzKGVK1fSyy+/TFFRUVRYWFi93969e6lx48b00Ucf0eLFi2nNmjU0cOBAqlevHv3xj38kt9ttud4IYAEAAHChbhfDtf/gJASwbBTUHFhbUvn+PypuBpR5n9Z/ysu3p+kHRIykvcheM+2PVe+hgk2BSWzApjAaseumUW9ZeTMCea0v/q4ouaQ32zaypf6xd87hxzr7rXqbchTL3gW+6xnIKoS+psF9t5rvW7TBe/uJHXy755QoUSztx+qXrLHSoHIknJyTKBSjeayuXBcuts3g9fcc7SYvbqBM7m4Xp0dglZfxvwlrhrKyqX9gz6d04Pst+w8rG9qEjSBV2p3J63fusL3182T3wgRVbpYAVm5uLkmSRHPnzlWVx8fHU7NmzcjlMh5JPHHiRJIkiTZt2lRdVlFRQT//+c/pscd4DrSrV6/S1atXvV6fkpJCkiTR+vU+prNrQAALAACAC2W7GM79BychgGWjoK5CKN/cjmqtvtFxu/mooyntefnU31ft/yALQpklr4Q3tg17rgyQ+cpVY9dNo7x8fOab5ustk1f+SnnA+mt98fezlHNYDW2if+zVg9g+A6O9p2mWXeDH3jDWdz1d5TxxvN5DzmMlPzxXstSzK8P4pvrSCb592wzfdXXCvLdZ/cY94r2t0qUIPAxhZaEazeMqJ8r8m/ZnZeazEVH1CNGG3vWXR3Z+/rz953V6Wubpvfwce75gZSs+qfodj2EjZIl4ovbxv/E+hnJVVc/Ra3YJ1sIEVW6WAFa3bt3o1ltvpYoKdVs7d+5ckiSJNm7caPj6p59+mlq3bu1VnpSURJIk0YkTJwxfv3btWs0OsBkIYAEAAHChbBfDuf/gJASwbKTZWTezWp+vkRXl11jwI7EB0Ze9vLevGcKPdaFIffMk/++/WXkfs9cNa8ae70znx/pxv/Fr7bppTLqb7Zf7L2t1J1JcC40b5kAE8t6UCZz1gonyipJy4FDJ7War+iU2YKOHzJCDA571lfOf3ShlAcSM16u2RfObaiPrRvNjae1fcYNvL0g2V9dQm9GR1W/mc9rbR7Rg25f0Yc9DOZpHzjc36DZezyFNvKc6hotFvUg3oJxVFawb/2hwzu3ktMx9C/nx5ZVUlVOB5fxqqU+x57P/5H0MZYL3g3n21zGYCxNUuVkCWHFxcfToo97fY/n9T5kyxfD1TZo0oc6dO3uVL126lCRJohUrVhi+PjExkSRJoj179lirOCGABQAAoBTKdjGc+w9OQgDLQ3FxMXXq1Il+8pOfUKtWrWjlSvNLvOt21o1W68t43fcNwuF8vr/WFDJlwGpJH6L0V/nzi8dM15+IiNaN4q+9UUqU8xH7eWgTcyO5Ar1pVCV3HmWt7kTqBN0Xf7D+ej2BBDGUeW7KLmofXx4xNfsV7e0Tf1v1ffmL77qe+Yafb/knxlODDuTyfb9brX08pdz+VQHOu/T3Gd6c7ZPzke/jOWHcr1n95r2jvV0eASjnUQvlaB55xcop7VmOMfnYRwp9vVJMs//E348n+W9L8j3BObfhtEx7AjS6CkcqAr1XWJlyRcb8JFY24j72XLlohuxCEd9/x+wg1DH4Ab6bJYDVqlUrevbZZ73KT506RZIkUVJSkuHra9euTT169PAq37Rpk8//Gd2zZw/Vr1+fXnlFp+1QOHPmDO3bt0/1GDduHAJYAAAAVeQA1rhx47zazDNnzth6rnDpP4gGASwPnTt3pi5dulBpaSktXryYoqOj6dy5c6Ze67OzXr1a30KWDymxAVtZ0FdgqHrqSbR3ol8iNupl+L3eNx6DG1ufBrJjFn/9haMsX0tiA6Lpz5h7faAjzs5+x/fb5cdwxkMr+OuPbbb+ej2BTCNT5iPzzANEpF49UW/UWcZf2PaJv/VdVznIlNhAndhfS9kF/jmtHuT72NXT736tv08gU0BDISnW+FrLQaQZHXlZKEbzVFby0YeL/1m14mPVZ7Pif/4f10kTHtP/LhQM59ctWCPMXOVEs172/pyMVmK1w4IEdp5RHsO65d+NtBfYfxAYfW+uX+HblfkN7RCioGw4BrAKCgpIkiRTj1272MqRrVq1oo4dO3odS+6AJicbj0atXbs29ezZ06tc7oDqrUZUVFREsbGx9MADD9D58xp9Aw/y/7RqPRDAAgAA4AEsrUdiYqLu62py/0E0CGAplJSUUO3aten4cR5kaN++Pc2YYS6Xj6XO+ldT1YEao1Ey8sqA0572Po5hYnETASNPB5fx1x3dyHMlWVkpzGjE2aBGRJdP679Wudz8kQLz55Qpc3Z5rpIXSKLiQEZgKUfSnPnG+9iXT/HtW1K1zy8nHh92l3eyZ6UbV3mARmtakpZJT5gPUk5/hu1rlLfo8+erjhdv7vyhVH7Nd7Ap6y22XZmXKBRJ1s8f4cfaOo2VyYm/Jz3u/3E9BSlhtyY5IKc19dUowbudvuzl/VmdORC88xHxwL/n74m8oMPQJuoVPbWC9W43//trdwAzRNNiwzGAderUKZo2bZqph9zpc2IKwNGjR+nee++lFi1aqPosRjACCwAAwJi/I7Bqcv9BNNKuXbuoU6dOFBsbS/Xq1aOYmBiKi4uj9HQfCbsV1q9fT8899xxFR0dTvXr1qGXLljR48OAgVpvoypUr1L9/f4qPj6fGjRv7jIqWlJRQnz59qGnTplS3bl1q27atV1Ry586dFBMToyr74IMPqG9fH6vvVbHUWS8v49NHBsZojA4Ywf6Hfu9CXq6Vz8rukSHHFXlXlLmbdmeZe72S8kZZOY3OqC575vH9ig9aP6cq4flnvB6BJioOZMSCKhnzVu9jF63n279dpX3+DWP5PmUXtOv3/TqinL58v2+W+H5fROq8SzdKjfcd24btm91Ff5/sf7B9tPJ5Oe3iD/z6bP9ce5+cD9n24feqy13lRGMe8v7Mh95pz2ie/V8qvidVSbvzh/Gyy6cCO36QE3Z7UY4gWjfae7syJ9SJHdaObSUIJwddhzXj59u3yL7je3K7eeAu50P1tt1ZvA5rFdMMi3RWfxnVmm1fpJH70B/y+1rxP2sBLD8XJgjHAJY/EhISNJOwZmZmmkrCGh8fTw8++KBXeXJyMkmSRCdPnlSVy53P5s2b09GjRwOqO3JgAQAAcKFsF8O5/+AkqaCggHr06EHp6emUn59POTk59MYbb5AkSTRkyBCfB8jIyKDIyEh64403aMmSJZSfn0/Tpk2jQYNMTEcKQFFRETVs2JCeeuop6tatm88AVnx8PEVHR1Nqairl5+dXvyYjI6N6n3Xr1lHz5s1VrxswYAB1797dVJ0sddZd5TwXj97Dc6W44c3VN5rBmAZy4Sh/nbySYWIDorPfmroGutxuosm/Y8cacT/Rd2u8bw5d5USLe/NzXjU3ddPrPHLC+7yP7U1U7G+w8Ogmvk0rz5RyiuH5I9rn3ruA73NKkWhPLygxMJrl2THzvr5Zwl9nlGvJ7SYacgfbb/kA/f2W/acqsNPU97lDTZkY+0Cu9j7KlfMqFcvXVrr4VM+M1/nIyLG/tKduqwfz896oWur2h694fXfO8f/YIUjY7aX4ED/Hbo0hzMe38e0Hl5l/H1aDcHJS/i/+Tl4rTNpxfE9XTvPXbZqo3qb8+ypPJ0xswPJdaZn0OP++BULvfZl93EQjsPyRl5dHksk4resAACAASURBVCRRVpb6P3o6duxoahnsSZMmkSRJtGXLluqyiooKeuihh6hdu3aqfY8dO0b33nsvxcbG0pEjOu2FBQhgAQAAcKFsF8O5/+Ak3SmE7dq1o9jYWMMXnzhxgm655RZ67733LJ/48uXLlJenv7JSTk4OXb16VXe72+0md9VUqrNnzxoGsHJzczUTmcXHx6u+HCEdgWU2GGJ0oxmMaSDKvCzy+YbdxfLzBGrnHO16jbyf5YSxa2TIuEfY67PesneEmt4IHF9BgNNf8/32a/wxXPl/bNugRvr50JQ3+weW8vroBiUamA9KKJNLG61aWXaR77dxnP5+vlYqdJJyiuzxbdr7bEnl+5QU8/IzB3j5jlnq93nBhv/FkD9L1dTFCpbkXA7A+MuJFfmOFCj+9qz13q4M5uyY5ft4/gThSs/zfdZ/yv/TQGsxBLuCfMq/y54jKt1uotE/8z52xQ3tY6W9wPbRmj5ulpm/E0Ztzk2WA8tf8fHxFBMTQ1OnTqX8/HxKSEggSZJozhx14LlLly5Uq1Yt1f98Xr9+nR566CGKjY2ljIwMWrVqFb3yyisUFRVFhYX8PxXOnDlD9913H9WtW5fmzJlDmzdvVj38mQqAABYAAAAX6nYxXPsPTtINYD3//PPUokULwxcPHDiQJEnyawja6NGjKTIyktLS0ry2paamUkREBE2aNMnUsXwFsLp166Y5PG/u3Lmq4XlaObA6dOhgfw4s0yOnfNxoBpJY3Ihyqk1iA+N8R2a5yonS/2z95snsTaNS2ovsdVM6mL/Oyfew6ZpG04WuXSIaUjW6y3N0nFFSaOVqYp6jaFzlfIrT6Af1z33lR36MzZNZmZ1BCXk00czn9PcpPsiPuecL/f2UgUq9EWVO8VykQMvX2XwfZc6y3Zm8/NQeopM7+XO96YhWyNPFsv+hLp/3Dv+OVhr/T4ymUK6iqLQrgx/73GHv7eVlfPtaE99Rf77vyhFsB5byazn65/YcX4syt5fWyCp5iq38GH6v/jX/4u9sn89+5fv66PHrP0ss/v3QcTMFsEpKSqh3797UpEkTqlOnDrVp00Yzeeq7775LkiRRUVGRqvzHH3+kd955hxo1akT16tWjuLg4WrVKHQD1lSDWaBS6HgSwAAAAuFC3i+Haf3BSdQCrsrKSKioqqLi4mCZOnEhRUVGUmqqTULrKH/7wB2rUqBEtX76c2rZtS7Vq1aLbb7+devToQZcvX/Z58r59+1JERITqPGPHjiVJkmjAAIMpSh58BbCsJEh77bXXqGvXrlRWVkY5OTkUHR1NZ8+eNTy/58o+PjvrVkdO6d1oHs639jqz00DkPEfyY8Un5l5nJJQ3UQt78htDf86lN/JLOTLnQK75HDnKEU5y8MnqVKXKSqLBt7N9lg+wPyghJ4kffDtLdK7lSIHiu6QxokamzPl1bIv+fk5Ym8LrVl6mvc+RAu33KecKG3w7u56Vlfw7Nu/twOpVUszP6bni3I7ZfJvWqDFf+ZpClLDbi/Ja6+VWk3NF5fY3Ppa/33dlMLX4kLpOyhVd7fx9WvZf/j3xDDjqLQag93sv/14m32N8fQK+bjqPAKeV3kwBrHCFABYAAACHdlF81QGsHj16VAdg6tSpY2r0U+vWralevXr005/+lJKSkqigoIBGjhxJ9evXpyeeeKJ6ip+RAQMGkCRJNHbsWBo+fDhJkmQ5AbyvAFarVq3o2Wef9SqXl6hMSkqqLisuLqbnnnuO6tevTy1bttTM3q/HdGfd6sgpvcfh/OCMrJBXPpMfe/xI4K4U8Igzi/VfNTDAa6sx8svt5lMTx7axNqWy4jo/9tqR/k9Vkqc/Zb1lf1Bi30K+r15CaWUC6uJD+sc6tZvv52fy56CRg1DD7tLf5/ReXv+9C3j59HhWNvUPvEweIePv6CjZd6sUv9dr1Nsun+TbChTL6ZoNggZrpKYvOR/5Dr7I3+l57xgfy9/v+6pE9nxgDJumd2i5Yp+1gR9fi/y7PTFOXW64YqzO731+Et9Hb3qxnddNfiTdZcvCBAhgiQ8ddQAAAA7toviqA1jHjh2jbdu2UW5uLvXs2ZMiIyMpJSXF8MWtWrUiSZIoOTlZVS6PovIcvqZn8ODB1cEzX+fUYiaA1bFjR69yOYDlWX9/me6sBzwCS3GjaXeOp8IR3tPjRrQIbJUyu96vryCMXP9hd9lzPuV1U452M8r/pEe+piv/n/+f2ayXWfmU9vYHJUrO8H0Lhmvvo1wJ8ZrBCMvLp/h+W6dZuUrBVz0lyyDxujIJ91dTWZmrgmjInaxsqSInnnJ01Int/tdr/Rh+nKsaIz7lKZ7jH2Wf5eF8xZRcH0FQp0ZgzX2DHc8zkKM0oyPbx2jqKpH/3/fMN6s+76opeJdO8H2UCdbt/H0a25btk/WWutyf3/stU3i5Mh+bWVbf18Bo9m/uv62fSwMCWOJDRx0AAIBDuyg+3RxYPXv2pKioKCou1u80x8XFkSRJtHPnTlX5oUOHSJIkGjFihKlK9OvXjyIiIkiSJPrkE+vT1eycQhiIkObAkm80VVNSAkg87M/oALPsGnFmdNNoWH9/Hw3Z53Q4n6/IOPh29dQjs+SpZov7+D9qbvEHbNuIFsEJSsiroqW9oH19s97h10Av6bS8r/z+8odZv1bB9PnzrF7Tn9Hfx1XOr1t+1ejMH/fzsp3pfN9Lx3m5mTxOeuTA2ijvpXBZnrR4/77D8igaJ3JgpT7Jjpv+Z/195JxU435tfCx/v+8THmPP5aTtbjf/XVz0XuDH91RxnQeBVitW4vX3M9DLx2aW1fclB99m/8n6uTQggCU+dNQBAAA4tIvi0w1gzZw502tZRk/du3fXDGAdPHjQ1Ggqt9tN77//PkVGRtLMmTNp8uTJFBERQf369bP0JnwFsBISEjSTuGdmZqqSuAcq+KsQ6tzkuMrZjWpKS/V+RonF/a2PPwl9QzECK9AcW2YfQ+7wbzTamIfZ6yc97v97LhzJy8su2h+UyPmQvWZQY6K989m5b5Ray9UlG9GC7bekj7XrFGxykC7rb8b7Jcey/eTRVspcSj96/H7LU0tndvK/Xnqr4wUUmFV89k6sQih/Z758X3+f3H+xfZKMV7z1KwBU6eIjH5crcirKK/tNfiKw42tRrlS5W5GA098AmXLkp97UXjuvm1Eg1Q8IYIkPHXUAAAAO7aL4dANYb7/9NkVGRhqOwFqxYgVJkkTDhqlHWYwZM4YkSaL16/U73JWVldS1a1eKiopSZdpPS0ujWrVqUa9evUzl0CLyHcDKy8sjSZIoK0udy6ljx47UrFkzcrkCyF2jYKmzbjhyys8bTV/JnI3qEswRGsHOgWXXiDazdUlsYH40mhw8GBTj3/mUo86Uq+AVH7R/+qg8Gkb5qJ5OanF0nzzlbe5ffZ/bTr5+B4Y3Z/XK+dD4OJ/9iu0n52aSk2kPudM7F1Fuf7Zt0G1E10us1/l6Cb+ea4aqt9kRmPUaqanzCDBht0rFDX7c/CT9/dYqgrJ6iwdYvRby9/38EV62bSY/TnWS9cbq92vH75NytOnx7drlVn7vT+1RlPnZkbLyvpSfx7VL/p1PAQEs8aGjDgAAwKFdFJ+UkJBA/fr1o3nz5lFhYSHNnz+fXn/9dZIkifr35ytDFRYWUq1atWjQoEGqA7z44otUt25dGjJkCK1atYqSk5OpXr169MILGtOQFFJSUqhOnTq0aNEir21ZWVkUFRVF48ePNzxGXl4eZWdnV48W69y5M2VnZ1N2djaVlqpXvYqPj6eYmBiaOnUq5efnU0JCAkmSRHPmzPF1jUyz3FnXGznlb9DAX6HIkRPMVQjtGuFlZ52I7JnWqLzWRRt4+beriC6fZsmpNV9r1/RRP69D2ots27Q/Gp/bF7NBWTMJzbWmBuqRp+x9/jx7Pu2PVe/nae99D+bx4x5abv09HtviHbiQ35MdgVn5mK5y/j6Uj4ExtiTsVrlwlB9/++f6+21P4/tdPGZ8TMMgnMb3XbkapnL00q65vFw5ms5Vrsgr5ufv07pR/DXKAJC/f2OVObu2zTC+PnZct29y+LYfvvLvfAoIYIkPHXUAAAAO7aL4pJkzZ9KTTz5JjRs3pqioKIqOjqb27dtTenq6aseCggLNUU5lZWX08ccfU2xsLEVFRdE999xD//3vf+n69euGJy4rK6NNmzbpbt+wYQPduGGQZ4eImjdvXp383fNRVFSk2rekpIR69+5NTZo0oTp16lCbNm1UI7/s4Hdn3fMm/UZp4FMCrQjFKmV+jTgzedNotf7L/stWRgsoMGBiNJqd00SJ2A2+vH1JHz7dJ7FB1fvx87tidz2JiOZ3Y9s/fdj3+bWYXWFP3tfMqo7KoIqv5PJz/8r2m9COHX/IHex5bn/vfa9fIRrUiG3Pesv6CMivpvJ6XSji5cGYeiuPjJsYR5Tdhe9z+aS5upp1bDM/9rcr9fc7uIzvd3yb7+MqAzrKx0iN7/umiXz7lR95+emveflujzbgwFLt4yffY+73aWFPXh8lf0e5ll/j2wLJseYqJ1r+iff5PP9OnP2Ob9ue5v/5qiCAJT501AEAADi0i+LTnUII1tneWfd3SqBVoVqlTG/E2cj72YidkX4G7Pypv105s/SuhR2jZ5Qjm1zlRPnJ2vuNeYjo+tUgTx+1eB3yPmblgxoTfb9Wna9Nq57Kcisr7BGZ/ywX9+E/Fww3vkZywvyR96sDHrsytK/hmId0ggMm8qXJ50qKZUnGZQEvfuARDLl6lm/LH8ZG2MjPPQM5gXCVs6mQ8rFP7tbf98R2vt+BXN/HViY1z3id/3xU4z9D5JxuSXerr2vFDTbdM7GBOjcWEdGS3lXf29vU58o3uVKtPMJNa1VFf6coDmvGypf9x1wd9BzIVZxjhPbfiUoXW6QhsQEL9AcIASzxoaMOAADAoV0UHwJYNgrbznqoVykzE8QIdg6vQHOQyQ+90Wh+j57RCNCYmeLn77RSu0b5KKepFY4gGtZUvX3k/Sx5tueIKr1yszf6lgJwHvsYBZhWDWT7DIxhU+Dk13iuBGfH6p2pT1UFPTySwNvx2SiDIfsW8vLv17FcXsPuYs+VK/L5S2/U3Mj79a+zchVHZZ4qPYt6sX2HNiU6d5i/duM4733lFSendPDeNukJtm3WS7ysspIo5QFWnv4qK5NX5fNMrq/F7eYjIRf/03u7vyvGflq1AMSCBN91MKIMoBnlt5KvjQ0rEYZtm3gTQUcdAACAQ7soPgSwbBTWnXUnVimzkz/11xsRZuWhNwLL39EzWqPOgvnZBDzKRxkQsSHnl+lHVTBSuUqbP8fQCxpsmsD3++Jd9u/QJmyESqDfOyVXOc955znCJtDRcZ7vK+cjVj74dp4wXQ6ojP65epSSVWancXpe54rrims0wvgcbjerZ2IDdi63m62Wl9iAKPNN7/1HtWbbtAI/C3uwbSNa8PetHA22dTorm9+1ar/7fF8f5Qg3rYCafJ2sTg+f0p7tk/5n4/P7kvU3dpxPf2G8n/yebViJMKzbxJsEOuoAAAAc2kXxIYBlo7DurPs7OkAUgdTfc/qaHaPRrI6eKRiuPeos2KPjAh7lozivXdMyrV43O47jGWDancW3yaNqZjzr52dTdYy9C70/4x/38X12zfX+fPy9pmuGen8Xxj3CtqUpFthQBurOHbb23fGnnlqBPPn6Lu1rfA5lfqZNE1iZHFwc2VIdYLp+xficG8fz7ZdPsbI1Q3jZpROsbPNkXqbMT6bl6Ca+r69k/lZGm8rTaae0Nz6mL2PbsONoBfuUlCsRll0M6JRh3SbeJNBRBwAA4NAuig8BLBuFfWfdn9EBIrGr/naMeLIr8BTs/GR25eqyK5eW1YctASyNz+C7Vd775X0c2Gej+j6OYIs1rEzk5Sd2aX8+vgKz6a+ywKvyWPs8Vne9fEr7e6vM7xXIKneBfNfH/4Ztz3rL+DzKZPfy6oHKANP5I3zfkzsV12Kh97GOFPLth1awskmPs+epT/H9jm/j+32dbVy/HbP4voEEAz0tSGDHHOPngghEbMqg8nfGiI0rEYZ9m3gTQEcdAACAQ7soPgSwbFRjOuuhSh4fLIHW367RaHYEwkKxQqRfo3w8roNdubSsPkyPmDPxUAb/Tu7y3r47K7DPxvMhTx2UHyN1cnKZDcyWX+M5rb54V32MPV/w1x3bzMsrK9k0Oq3XmBVokFXOVTX9GePzZL7Jr5M82koZqFKOYFO+39N7vY9Vep5vXzdKvUKlMsBTcZ1/Tp4BTCVXOR8NNjCG6EaZ8XuxYtl/2HGHNvX/GEc38vfnK1m+MrdYgCsR1pg2sQZDRx0AAIBDuyg+BLBshM56DWLHaC47AmGhWCHSTEJ7z2CL53WwK5eWlYc8LW/Re/YcTxn8UyYXlx/FhwL7bHw+LEx11QvMyvmLhjZlI7xkX75fVd6ErcKnNO8dtm1ECxbQsirQIOsXf2flY9vqn6PSxVZpTGxANL+b4ppUsPea2ICtICjLH8bPp7wOSnL+rC/+rh7JdWqPer+pv2fl0/7ofQy9xPVmV6A0Qzmlr9zPwNiWVH6Mi8eM91WtRBjYyodoE8WHjjoAAACHdlF8CGDZCJ31GsiO0VyBBMJCtUKkr3reKDW+Dk6NwLLzoQz+lV9TbxtyB1H5dT8/Gz8e/i6WoJz+pQwUyfmPZr/i/ZptM/hrTn9t/ZyBBlnzPmblw5rpn+O4IsH6zjnqbWkvsPIJ7XiZHBQb85D+MeWg7bhHiNJeZD9rJbPP7c+2Db5dHfzzN3G9VcrPR87NZdWXVas3JseaS9Zv00qEaBPFh446AAAAh3ZRfAhg2QidddAVSCAslCtE+ltPp3JgeT4Gxng8N1Mfj+BfdUJ6j9dqjaoJSuL6AIKR5WUsEJTYgCj7H6zs4g/82OvHeL9GOWVMTo5uRaBB1nWj+D43rmqfY22KIohzXL1tzVC+rewCK5v8O/Z81sv69V49SPE9iWb/LvnIez/ldMQT23l5qH4vlSPcPEeHmZX6JHv958+b29+mlQjRJooPHXUAAAAO7aL4EMCyETrrEBThskKkE6sQaj0W9eIBuPwka0EG1agajQCM57U2M/3S34c/00GJWOAqsQGbWldeRrQrgx/z+Hbv/d1uNvJIfm/B/Oy1gjk70/n2899rH1/OkzXuEe9tyoT7h1aw9yNPK8z9l/bxlDmrlI/ke7yDlOeP8O1bpvDXh2JkJBFR0QZ+vMP53u/DV8DZVc6nAJudEmjTSoRoE8WHjjoAAACHdlF8CGDZCJ11CJpwWCHS1mCOxwp7exew4ILVgIHV4J8/gRi9zybQhz8J+YnUI3a+ySFa2IP9POwuljNKi5xHbMgdLK+Y1VGCrnI+Dc9M4E/pQK46QOS5z41SHoBZ2s/79dcu8XOsHsSm2XkGnDzraiVI6XbzRPcLElhZKHLTyc4c4MeRV0K0knvrx/18+64Mc+dUTkU9tsXvqqNNFB866gAAABzaRfEhgGUjdNYh6ERfIVIvmDPyfhbgGGmy3DMwF0jAwGzwL9BRNfJnYzrYFqSgx41Slqw9sQG7tsOrgi9zXtP/zLLe8j6/HAzxlf9MtnyA9vvQC7LKQZjhzY3Pq5wi+E2O9rknPc62z+xEdKSA7394jfe+/gQp5YDXZ79kz0OxOqispNg7wGcl99buLL7dbI4zm1YiRJsoPnTUAQAAOLSL4kMAy0borANU0Qu0WS2X2REw8HUOO0fVBDSd0oaE/BPaeR93WDPv0TmGo5GqHporUHoc5/oVvkrg9GfMTWvTDcLonDexAdGqgdrHy/mIbR9yJ9HmSXz/iz94n9efIGXBcL6t9HxoR2C5Kvhx8pOsB+DkwOKg27xXoNRj00qEaBPFh446AAAAh3ZRfAhg2QiddYAgCUXAwM5RNYFOp/Q38bfV6XF+Bdo8pnfuX8ym9snbDyz1Xc9AAnxaUxH3zOPbpz3Ng1mVler9/P0eKfNsfbsytDmwiKpG9DUgWvKh9fPKUzsnP2HtnPJKhEaJ8H1Amyg+dNQBAAA4tIviQwDLRuisAwRJKAIGdgfJ9KYuVo8sCkJCfiujc4KxcuTw5kTl131fl0DP6xngu3DUe59JGgEbf4OUZRd4WX6S9WsdqM9+xY71eSeL39G1RMPvZT8ves/aOW1YiRBtovjQUQcAAODQLooPASwbobMOEETBDhgEK0jmOXXxRmlwEvJbrf/hfPsCV8qHrwCc1UChmevvdhONaq3eb+Zz9k4THfcIK0v/M3t+6QTRwBj9Opq5FmbJo8omxlmr/7bP+c+bJlo759oU/lo/VyJEmyg+dNQBAAA4tIviQwDLRuisAwSR1RUF/RHKUTV2J+S3GpxR5nWy+2F0fayOgjITXHKVE014zHsfz3xdgQQpq1dzbEa0/0uijL/w/eUpfqrz2rg6aMbr7Lhj21i7RmtHaV8vM2xYiRBtovjQUQcAAODQLooPASwbobMOEGRmVxQM5PjBDpIFi9XAUNACWD5GqAU8AqvqIU/vC1beL2UQTvW98Hh89ivzKzX6a1FPdq6kWO9gmdFnkJ/My8ouWDunDSsRok0UHzrqAAAAHNpF8SGAZSN01gFCxO7RS57HDmaQLFisBoYO59ufA0v50BvxY1fuLfn4VgNSVoOUZlZqDFZQ01XO3t/QJtavT+FIonlvs5/HPGz93DasRIg2UXzoqAMAAHBoF8WHAJaN0FkHqEGCGSQLBn+mxwWyGqCvh9EqjQGdV1F/f6cEWglShnJaqefn6StwpveY/Qp7/We/ZM/n/tW/Okx8nL1+0uN+/Q6gTRQfOuoAAAAc2kXxIYBlI3TWAcBRto5GCvBhlHMp0PPK9Q905UhfQcpQrH4Z6Gep9Vj+CdGh5fz56iHWzi0HN4fcrhHgG2H6faJNFB866gAAABzaRfEhgGUjdNYBwFH+5PDSG400uLGfASaTwRzL59Wov9W8X0ajwrQEGiDzl5Vplsn3EO1dSPT9WqLU9jr7xJoPPJnJKZb+KpuC6mN0ItpE8aGjDgAAwKFdFB8CWDZCZx0AHOdvDi/P0Ug3SrWPY2WElNn6mjmvVv2DHWAKdoBMjz/vy1VONO2PxoEnM7m6/Bn5pTMyC22i+NBRBwAA4NAuig8BLBuhsw4AwrArh5fyOIfziea8an6EVLDrH+wpfk6NwPIncGZHri6/E+xrf/ZoE8WHjjoAAACHdlF8CGDZCJ11AKjxRFulMZhJ1p3KgRW0FSV91NPqebUei3pVBx337dmFNlFw6KgDAABwaBfFhwCWjRDAAoCbhiirNPqT98sKJ1YhtBo4O5xvz0gxqyO/fDz29YtFmyg4dNQBAAA4tIviQwDLRghgAQA4IJijwoIdINNjJXBmV64uO0ZgKQNY792KNlFw6KgDAABwaBfFhwCWjRDAAgBwULBGhTkxbdJK4MyuXF1+58DSC2DdgjZRcOioAwAAcGgXxYcAlo0QwAIAqMFCPW3SbODMzlxd/qxCiABW2EJHHQAAgEO7KD4EsGyEABYAANjOTODMrlxdhiO/EMCqadBRBwAA4NAuig8BLBshgAUAAI6wM1eX3sgvBLBqHHTUAQAAOLSL4kMAy0YIYAEAgGPsztWlHPl1OJ9ozquWRmYhgCU+dNQBAAA4tIviQwDLRghgAQCA40KdzB4BrLCFjjoAAACHdlF8CGDZCAEsAACo8ZQBskXvIYAVxtBRBwAA4NAuig8BLBshgAUAADcVg9xb+967FW2i4NBRBwAA4NAuig8BLBshgAUAADcdnamF+/rFok0UHDrqAAAAHNpF8SGAZSMEsAAA4KblkXtr355daBMFh446AAAAh3ZRfAhg2QgBLAAAAAZtovjQUQcAAODQLooPASwbobMOAADAoE0UHzrqAAAAHNpF8SGAZSN01gEAABi0ieJDRx0AAIBDuyg+BLBshM46AAAAgzZRfOioAwAAcGgXxYcAlo3QWQcAAGDQJooPHXUAAAAO7aL4EMCyETrrAAAADNpE8aGjDgAAwKFdFB8CWDZCZx0AAIBBmyg+dNQBAAA4tIviQwDLRuisAwAAMGgTxYeOOgAAAId2UXwIYNkInXUAAAAGbaL40FEHAADg0C6KDwEsG6GzDgAAwKBNFB866gAAABzaRfEhgGUjdNYBAAAYtIniQ0cdAACAQ7soPgSwbITOOgAAAIM2UXzoqAMAAHBoF8WHAJaN0FkHAABg0CaKDx11AAAADu2i+BDA8lBcXEydOnWin/zkJ9SqVStauXKl6deisw4AAMCgTRQfOuoAAAAc2kXxIYDloXPnztSlSxcqLS2lxYsXU3R0NJ07d87Ua9FZBwAAYNAmig8ddQAAAA7tovgQwFIoKSmh2rVr0/Hjx6vL2rdvTzNmzDD1enTWAQAAGLSJ4kNHHQAAgEO7KD5p165d1KlTJ4qNjaV69epRTEwMxcXFUXp6uuWDTZs2jSRJoltuuSUIVVW7cuUK9e/fn+Lj46lx48YkSRIlJibq7l9SUkJ9+vShpk2bUt26dalt27aUmZmp2mfnzp0UExOjKvvggw+ob9++puqEzjoAAACDNlF86KgDAABwaBfFJxUUFFCPHj0oPT2d8vPzKScnh9544w2SJImGDBli+kAnTpyghg0bUrNmzUISwCoqKqKGDRvSU089Rd26dfMZwIqPj6fo6GhKTU2l/Pz86tdkZGRU77Nu3Tpq3ry56nUDBgyg7t27m6oTOusAAAAM2kTxoaMOAADAoV0Un+4Uwnbt2lFsbKzpA73wwgv04osv0rvvvmsqgHX58mXKy8vT3Z6Tk0NXr17V3e52u8ntdhMR0dmzZw0DWLm5uSRJEs2dO1dVHh8fT82aNSOXy0VEGIEFAABgF7SJ4kNHHQAAgEO7KD7dANbzzz9PLVq0MHWQ9PR0+ulPf0rHjx83HcAaPXo0RUZGUlpamte21NRUyO5iygAAIABJREFUioiIoEmTJpk6v68AVrdu3ejWW2+liooKVfncuXNJkiTauHEjEWnnwOrQoQNyYAEAAFiENlF86KgDAABwaBfFVx3AqqyspIqKCiouLqaJEydSVFQUpaam+jzAmTNn6LbbbqOJEycSEZkOYBER9e3blyIiIlTnGTt2LEmSRAMGDDD9JnwFsOLi4ujRRx/1Kpc711OmTKkue+2116hr165UVlZGOTk5FB0dTWfPnjU8f2JiIkmSVP1AZx0AAG52CGCJDx11AAAADu2i+KoDWD169KgOwNSpU8f06KdXX32VHn/88erpfFYCWEQsx5QkSTR27FgaPnw4SZJEgwcPtvQmfAWwWrVqRc8++6xX+alTp0iSJEpKSqouKy4upueee47q169PLVu2pBUrVpiuBzrrAAAADNpE8aGjDgAAwKFdFF91AOvYsWO0bds2ys3NpZ49e1JkZCSlpKQYvnj+/PlUp04d2r9/f3WZ1QAWEdHgwYOrg2e+zqnFTACrY8eOXuVyACs5OdnyObWgsw4AAMCgTRQfOuoAAAAc2kXx6ebA6tmzJ0VFRVFxcbHm9pKSErrzzjupX79+dPHixerHX//6V7rlllvo4sWLhknYlfr160cREREkSRJ98sknlt+EnVMIA4HOOgAAAIM2UXzoqAMAAHBoF8WnG8CaOXMmSZJEW7Zs0dxeVFSkyvuk9Xj55ZcNT+52u+n999+nyMhImjlzJk2ePJkiIiKoX79+lt6ErwBWQkKCZhL3zMxMVRL3QKGzDgAAwKBNFB866gAAABzaRfHpBrDefvttioyM1B2Bde3aNSooKPB6PPvss1SvXj0qKCigvXv36p64srKSunbtSlFRUZSZmVldnpaWRrVq1aJevXpV59XyxVcAKy8vjyRJoqysLFV5x44dqVmzZuRyuUydxxd01gEAABi0ieJDRx0AAIBDuyg+KSEhgfr160fz5s2jwsJCmj9/Pr3++uskSRL179+/esfCwkKqVasWDRo0yPCAZnNgpaSkUJ06dWjRokVe27KysigqKorGjx9veIy8vDzKzs6uHi3WuXNnys7OpuzsbCotLVXtGx8fTzExMTR16lTKz8+nhIQEkiSJ5syZ47OuZqGzDgAAwKBNFB866gAAABzaRfFJM2fOpCeffJIaN25MUVFRFB0dTe3bt6f09HTVjgUFBYajnGRmA1hlZWW0adMm3e0bNmygGzduGB6jefPmutMXi4qKVPuWlJRQ7969qUmTJlSnTh1q06aNauSXHdBZBwAAYNAmig8ddQAAAA7tovh0pxCCdeisAwAAMGgTxYeOOgAAAId2UXwIYNkInXUAAAAGbaL40FEHAADg0C6KDwEsG6GzDgAAwKBNFB866gAAABzaRfEhgGUjdNYBAAAYtIniQ0cdAACAQ7soPgSwbITOOgAAAIM2UXzoqAMAAHBoF8WHAJaN0FkHAABg0CaKDx11AAAADu2i+BDAshE66wAAAAzaRPGhow4AAMChXRQfAlg2QmcdAACAQZsoPnTUAQAAOLSL4kMAy0borAMAADA3U5tYUlJCffr0oaZNm1LdunWpbdu2lJmZafr1Z/5/e/ceHFWZp3H8JencCEi4CBjMBBdCGGHAqVoks7PKIkYieFlqYdRyNDsIJLuuUpphXdTaMKCAk3HWYoqLUAuOJIAVL3iB4SJJHBfCCMIyOlEUEpDLmjizMQQRacizf/R2h04nnYScdN50fz9Vb1GcnO4+vzedfn95cvp0dbWys7PVv39/JSQkKCMjQ++++27Q25w7d05paWkyxqigoOCKjptGHQCARqFeF7tr/9CVCLAcFEnNOgAAwUTSmpiZmamkpCStWrVKJSUlmjVrlowxKioqavW258+f1+jRo3XttdeqsLBQO3bs0N133y2Xy6WysrIWb5eXl6fk5GQCLAAAHBLqdbG79g9diQDLQZHUrAMAEEykrIlbtmyRMUYbNmzw256Zmank5GRdvHgx6O2XL18uY4z27Nnj2+Z2u3X99dfrxhtvbPY2f/jDHxQbG6vi4mICLAAAHBLKdbE79w9diQDLQZHSrAMA0JpIWRNnzZqlXr16ye12+23fsGGDjDHavXt30NvfeuutSk9PD9i+ePFiGWN08uRJv+3fffedRo0apccee0xVVVUEWAAAOCSU62J37h+6EgGWgyKlWQcAoDWRsiZmZGRo3LhxAdu99b/44otBbz948GDNmDEjYPs777wjY4y2b9/ut/2pp57S0KFDdfbsWQIsAAAcFMp1sTv3D12JAMtBkdKsAwDQmkhZE9PS0jR58uSA7adPn5YxRosXLw56+5iYGOXk5ARs37NnT8BbCw4ePKiYmBht27ZNktrVgFZXV+vjjz/2G8uWLSPAAgDg/3kDrGXLlgWsmdXV1Y4+VnfpH2xDgOWgSGnWAQBoTXdcE0tLS2WMadM4ePCgJE8DmpWVFXBf3gZ0yZIlQR8zJiZGubm5Adu9Daj304jcbrd++MMf6qc//alvn/Y0oPn5+S3WQoAFAEBjgNXcyM/Pb/F24dw/2IYAy0HdsVkHAKAzdMc18fTp01qzZk2bxl/+8hdJoXsLQEFBgfr06aPPP/9ctbW1qq2t1aFDh2SM0aJFi1RbWxv0gq+cgQUAQHBXegZWOPcPtiHAclB3bNYBAOgMkbImzp49u9mLsG7cuLFNF2HNzMzUyJEjA7YvWbJExhidOnVKkpSdnd3mv+q2FdfAAgCgUSjXxe7cP3QlAiwHRUqzDgBAayJlTdy6dauMMdq0aZPf9qysrDZ9DPaKFStkjNHevXt929xut0aNGqXx48f7tn3yyScqLS31G94mNzc3V6Wlpaqvr2/XsRNgAQDQKJTrYnfuH7oSAZaDIqVZBwCgNZG0JmZmZqpv375avXq1SkpKNHv2bBljVFhY6LffzJkzFR0drWPHjvm2nT9/XqNGjVJKSoqKioq0c+dOTZs2TS6XS2VlZUEfl08hBADAOaFeF7tr/9CVCLAcFEnNOgAAwUTSmlhfX69HH31UgwcPVmxsrMaMGeO7eOrlvKfxV1VV+W3/8ssv9eCDD6pfv36Kj49XRkaGdu7c2erjEmABAOCcUK+L3bV/6EoEWA6KpGYdAIBgWBPtR4AFAEAj1kX7EWA5iGYdAAAP1kT70agDANCIddF+BFgOolkHAMCDNdF+NOoAADRiXbQfAZaDaNYBAPBgTbQfjToAAI1YF+1HgOUgmnUAADxYE+1How4AQCPWRfsRYDmIZh0AAA/WRPvRqAMA0Ih10X4EWA6iWQcAwIM10X406gAANGJdtB8BloNo1gEA8GBNtB+NOgAAjVgX7UeA5SCadQAAPFgT7UejDgBAI9ZF+xFgOYhmHQAAD9ZE+9GoAwDQiHXRfgRYDqJZBwDAgzXRfjTqAAA0Yl20HwGWg2jWAQDwYE20H406AACNWBftR4DlIJp1AAA8WBPtR6MOAEAj1kX7EWA5iGYdAAAP1kT70agDANCIddF+BFgOolkHAMCDNdF+NOoAADRiXbQfAZaDaNYBAPBgTbQfjToAAI1YF+1HgOUgmnUAADxYE+1How4AQCPWRfsRYDmIZh0AAA/WRPvRqAMA0Ih10X4EWA6iWQcAwIM10X406gAANGJdtB8BloNo1gEA8GBNtB+NOgAAjVgX7UeA5SCadQAAPFgT7UejDgBAI9ZF+xFgOYhmHQAAD9ZE+9GoAwDQiHXRfgRYDqJZBwDAgzXRfjTqAAA0Yl20HwGWg2jWAQDwYE20H406AACNWBftR4DlIJp1AAA8WBPtR6MOAEAj1kX7EWA5iGYdAAAP1kT70agDANCIddF+BFgOolkHAMCDNdF+bWnU3W63ampqVFlZqaNHjzK6+aisrFRNTY3cbncIn2kA0D0QYNmPAMtBNOsAAHiwJtqvtUa9oaFBVVVVqqio0OHDh7s8fGF0fBw+fFgVFRU6duyYGhoaQvyMAwC7EWDZjwDLQTTrAAB4sCbar7VGva6uThUVFTp16hRhR5hoaGjQqVOnVFFRobq6uq4+HACwCgGW/QiwHESzDgCAB2ui/Vpr1E+cOKGKigrebhZm3G63KioqdOLEia4+FACwCgGW/QiwHESzDgCAB2ui/Vpr1CsrK/XZZ5+F+KgQCp999pkqKyu7+jAAwCoEWPYjwHIQzToAAB6sifZrrVE/evSojhw5EuKjQigcOXJER48e7erDAACrEGDZjwDLQTTrAAB4sCbary0BFiFHeOJ7CwCBCLDsR4DlIJp1AAA8WBPtR4AVufjeAkAgAiz7EWBdpqamRlOmTFHPnj2VlpamHTt2tOv2NOsAAHiwJtqvywKsCxek0lLptdc8/1644PxjtGLdunUyxjQ78vLyfPulpqb6fS0xMVE33nijfvvb34bkOHfv3q38/HzV1tY6er8EWAAQiADLfgRYl5kxY4Zmzpypb775Rm+++aaSkpL05z//uc23p1kHAMCDNdF+IQ+wLlyQFi6UBg2SjGkcgwd7tocwyPIGWOvWrVN5ebnfOH78uG+/1NRU/fjHP/Z9rbi4WOPHj5cxRitWrOj04ywoKJAxRlVVVY7eLwEWAAQiwLIfAdb/q6+vV0xMjN9HCk+YMEH/+Z//2eb7oFkHAMCDNdF+IQ2wLlyQpkzxBFY9evgHWN7/T50ashDLG2Dt27cv6H6pqamaOnWq37ba2lpdddVVGj58eLsf95tvvmnX/gRYABA6BFj2MwcPHtSUKVOUkpKi+Ph49e3bVxkZGVq/fn2rN961a5d+9rOfKT09XT179lRycrLuuusu7d+/v9MP/MyZM5o3b54yMzM1YMAAGWOUn5/f7L719fWaO3eurrnmGsXFxWns2LHauHGj3z4HDhxQ3759/bb9y7/8ix5//PE2HxPNOgAAHqyJ9gtpgLVwoX9o1dJYtMiZx2tFRwIsSRo3bpxiYmKC3jY7O1uJiYn64x//qMzMTPXq1UsZGRmSpB07duiuu+7SkCFDFBcXp2HDhmnOnDn66quvfLfPz89v9i2OpaWlvn02bdqkjIwM9ezZU4mJibrtttt04MCBVusnwAKAQARY9jOlpaXKycnR+vXrVVJSorffflv33nuvjDFa1EoTMX36dE2cOFErVqxQWVmZiouLlZGRIZfLpV27dnXqgVdVValPnz66+eabNWvWrKABVmZmppKSkrRq1SqVlJT49i8qKvLt8/vf/16pqal+t3vyySc1Z86cNh8TzToAAB6sifYLWYB14YLnbYNNz7xqOnr08LydMARnYXkDrL1798rtdvuNyzUXYF24cEEDBw5UcnJy0MfIzs5WTEyMhg4dqiVLlmjXrl3avn27JGnlypVasmSJ3nrrLb333nv67W9/q7Fjxyo9PV0X/r/+EydO6JFHHpExRq+//rrvbYx1dXWSpGeffVY9evTQzJkz9c477+j111/Xj370IyUmJupPf/pT0GMjwAKAQARY9mvxLYTjx49XSkpK0BtXV1cHbKuvr9egQYM0adKkFm9XV1enrVu3tvj1t99+W2fPng362A0NDWpoaJAkffXVVy0GWFu2bJExRhs2bPDbnpmZqeTkZF28eFESZ2ABAOAk1kT7dSjAmjtXmjChbWPs2LadfeUdY8e2/b4nTPAcSzsFu4j75SFWamqqpkyZ4gu3qqqqlJ2dLWOM5s2bF/QxvPutXbs26H4NDQ1yu906fvy4jDF68803fV9r6S2EX3zxhVwulx555BG/7fX19Ro8eLB+8pOfBH1MAiwACESAZb8WA6ypU6fquuuuu6I7nThxokaMGNHi159//nlFRUXppZdeCvjaqlWr1KNHj3ZdGDNYgDVr1iz16tUr4C9qGzZskDFGu3fvltT8NbD+7u/+jmtgAQBwBVgT7dehAGvChPaFUp05Jkxod+3eAOvll1/Wvn37/Mblmn4KoTFGCQkJeuSRR/Tdd98FfQxvgOU9Y+py1dXVysnJ0bXXXquoqCi/+1+6dKlvv5YCrDVr1vjeAtn0DLJ77rlHAwcODHpsBFgAEIgAy36+AOvSpUtyu92qqanR8uXL5XK5tGrVqnbf4ddff60+ffpo2rRpQfd7/PHH1aNHD7/HeOGFF2SM0ZNPPtmuxwwWYGVkZGjcuHEB272N9YsvvujbNn36dD300EM6d+6c3n77bSUlJfldi6AlTa9RQLMOAIh0BFj24wystl0D62//9m+1b98+7d+/XxUVFa0GV17Z2dnq2bNnwPZLly5p7Nixuvrqq7Vs2TKVlpbqgw8+0N69ewP62ZYCrGeeeabFM8iMMYqKigp6bARYABCIAMt+vgArJyfHt+jFxsZe8UcD33///XK5XG26kPuTTz4pY4xeeOEFLV26VMYYLVy4sN2PGSzASktL0+TJkwO2nz59WsYYLV682LetpqZGt99+uxISEjR8+HDfdQraimYdAAAP1kT7cQ2sK7+Ie1t4L+Le1KFDh2SMCXgnwueff97mAGvVqlUyxujVV18NOIOsuTPJmiLAAoBABFj28wVYx48f1759+7Rlyxbl5uYqKipKBQUF7bqzp59+WsYY/eY3v2nzbRYuXOgLztr7eF6tBVhZWVkB270B1pIlS67oMZtDsw4AgAdrov34FMKuCbD++Mc/yhgT8InYP//5zwP62WXLlskYo4qKCr99q6qq5HK59Nxzz13RsRFgAUAgAiz7tXgNrNzcXLlcLtXU1LTpjhYsWCBjjJ599tl2HUBeXp569OghY4yeeuqpdt3Wy6m3EHYUzToAAB6sifYLaYB14YI0dWrjmVZNz7wyxvP1EJx9JXVtgHXhwgUNGzZMqamp2rBhg7Zt26aHH35YI0aMCOhnS0tLZYxRTk6O9uzZo3379unMmTOSpMWLF8vlciknJ0dvvPGGysrK9MorrygvL0///u//HvTYCLAAIBABlv1aDLDWrl0r78cLt8YbXi1YsKDND9zQ0KCHH35YUVFRWrt2rVauXKkePXooLy+vzffhFSzAmj17drMXcd+4caMuv4i7E2jWAQDwYE20X0gDLMkTTi1a5Hmb4OUB1uDBnu0hCq+krg2wJKmiokKZmZnq3bu3+vbtqxkzZuiLL75otp+dP3++kpOTfRd7Ly0t9X1t8+bNmjhxoq666irFxcUpNTVV06dP17vvvhv02AiwACAQAZb9WgywHnjgAUVFRbV6Bpb3LYBPP/10mx/00qVLeuihh+RyufxOn37ppZcUHR2tf/7nf1ZDQ0Ob7y9YgLV161YZY7Rp0ya/7VlZWUpOTtbFixfb/DitoVkHAMCDNdF+IQ+wvC5ckEpLpdde8/wbwuAKHgRYABCIAMt+Zvbs2crLy9Mrr7yisrIyvfrqq7rnnntkjNG8efN8O5aVlSk6Olq/+MUvfNt+9atfyRijrKwslZeXB4yWFBQUKDY2Vm+88UbA1zZt2iSXy9Wm62ht3bpVxcXFvrPFZsyYoeLiYhUXF+ubb77x7ZeZmam+fftq9erVKikp0ezZs2WMUWFhYVvnqU1o1gEA8GBNtF+XBVjocnxvASAQAZb9zNq1a3XTTTdpwIABcrlcSkpK0oQJE7R+/Xq/Hb3vwb/8LKcJEyYE/Qjflpw7d0579uxp8ev/9V//1aaPKE5NTW3xsS//tJb6+no9+uijGjx4sGJjYzVmzJiAC2c6gWYdAAAP1kT7EWBFLr63ABCIAMt+LadMaDeadQAAPFgT7UeAFbn43gJAIAIs+xFgOYhmHQAAD9ZE+xFgRS6+twAQiADLfgRYDqJZBwDAgzXRfm0JsI4cORLio0IoHDlyhAALAJogwLIfAZaDaNYBAPBgTbRfa416ZWWlPvvssxAfFULhs88+U2VlZVcfBgBYhQDLfgRYDqJZBwDAgzXRfq016idOnFBFRYXcbneIjwydye12q6KiQidOnOjqQwEAqxBg2Y8Ay0E06wAAeLAm2q+1Rr2urk4VFRU6deqUGhoaQnx06AwNDQ06deqUKioqVFdX19WHAwBWIcCyHwGWg2jWAQDwYE20X2uNekNDg44dO6aKigodPnzYd90kRvccR44c0eHDh1VRUaFjx44RSgJAEwRY9iPAchDNOgAAHqyJ9mtLo+52u1VTU6PKysouD2AYHR+VlZWqqanhbaEA0AwCLPsRYDmIZh0AAA/WRPvRqAMA0Ih10X4EWA6iWQcAwIM10X406gAANGJdtB8BloNo1gEA8GBNtB+NOgAAjVgX7UeA5SCadQAAPFgT7UejDgBAI9ZF+xFgOYhmHQAAD9ZE+9GoAwDQiHXRfgRYDqJZBwDAgzXRfjTqAAA0Yl20HwGWgz788EPfE/7jjz9mMBgMBiNih7cJ/PDDD7t6eUYLCgsLZYzR/PnztXnzZgaDwWAwInrMnz9fxhgVFhZ29RKNFhBgOWjzZk+zzmAwGAwGwzM2b+avmLbyNuoMBoPBYDAax/z587t6iUYLCLAcVFtbq82bN+vDDz/0hVmbN0fG2ViRVm8k1hxp9UZizZFWbyTWHMp6vWthbW1tVy/PaEFVVZXmz5+vwsLCLv+rdyjHsmXLZIzRsmXLuvxYuvNgHplL2wbzyFx2dBQWFmr+/Pmqqqrq6iUaLSDA6iQffxxZ1/6ItHqlyKs50uqVIq/mSKtXiryaI61eoDn8HDiDeXQOc+kM5tE5zCVsRYDVSSLthz7S6pUir+ZIq1eKvJojrV4p8mqOtHqB5vBz4Azm0TnMpTOYR+cwl7AVAVYnibQf+kirV4q8miOtXinyao60eqXIqznS6gWaw8+BM5hH5zCXzmAencNcwlYEWJ0k0n7oI61eKfJqjrR6pcirOdLqlSKv5kirF2gOPwfOYB6dw1w6g3l0DnMJWxFgdZLq6mrl5+erurq6qw8lJCKtXinyao60eqXIqznS6pUir+ZIqxdoDj8HzmAencNcOoN5dA5zCVsRYAEAAAAAAMBqBFgAAAAAAACwGgEWAAAAAAAArEaABQAAAAAAAKsRYAEAAAAAAMBqBFgOqq+v19y5c3XNNdcoLi5OY8eO1caNG7v6sBxx5swZzZs3T5mZmRowYICMMcrPz2923w8//FCTJk1SYmKi+vTpo2nTpuno0aOhPeAO2rVrl372s58pPT1dPXv2VHJysu666y7t378/YN9wqFeSDh48qClTpiglJUXx8fHq27evMjIytH79+oB9w6XmptasWSNjjBITEwO+Fg41l5aWyhjT7CgvL/fbNxzq9Xr//fd1++23KykpSfHx8Ro+fLgWLlzot0+41Judnd3i97jp9zlcagYu19FerLq6WtnZ2erfv78SEhKUkZGhd999N+htzp07p7S0NBljVFBQ0NESrBCKeayrq9MzzzyjCRMmaNCgQUpMTNTo0aO1dOlSffvtt06X1Kk6Ml/tec7t3LlTGRkZSkhIUP/+/ZWdnR12nxLX2XMZTs+7YEL1nPQKx9dB2IkAy0GZmZlKSkrSqlWrVFJSolmzZskYo6Kioq4+tA6rqqpSnz59dPPNN/vqai7A+uSTT9S7d2/ddNNN2rJli1577TWNGjVKycnJqqmpCf2BX6Hp06dr4sSJWrFihcrKylRcXKyMjAy5XC7t2rXLt1+41Ct5wo2cnBytX79eJSUlevvtt3XvvffKGKNFixb59gunmi938uRJ9enTR8nJyQEBVrjU7A2wFi9erPLycr9RX1/v2y9c6pWkoqIiRUVF6d5779Vbb72lkpISrVmzRr/4xS98+4RTvUeOHAn43paXl2vAgAEaMmSILl68KCm8agYu15Fe7Pz58xo9erSuvfZaFRYWaseOHbr77rvlcrlUVlbW4u3y8vKUnJwcVr+4hWIeP/roIw0YMECPPfaY3nzzTe3atUsLFixQfHy8Jk2apIaGhs4s0VFXOl/tec6VlZXJ5XLp7rvv1o4dO1RYWKghQ4Zo9OjROn/+fGeWF1KdPZfh9LwLJhTPycuF4+sg7ESA5ZAtW7bIGKMNGzb4bc/MzFRycrLvl4buqqGhwfeC/tVXX7UYYM2YMUMDBgxQXV2db9uxY8cUExOjf/3Xfw3V4XZYc3/Nqq+v16BBgzRp0iTftnCpN5jx48crJSXF9/9wrfmOO+7QnXfeqezs7IAAK1xq9gZYxcXFQfcLl3pPnjypxMRE/dM//VPQ/cKl3paUlZXJGKOnn37aty3ca0Zk6mgvtnz5chljtGfPHt82t9ut66+/XjfeeGOzt/nDH/6g2NhYFRcXh80vbqGax7Nnz+rs2bMBty8oKJAxRu+//34HKwmNjsxXe55z48aN0/XXXy+32+3btnv3bhljtGLFCoeq6VqhmMtwed4FE6rnpFc4vg7CXgRYDpk1a5Z69erlt6hI0oYNG2SM0e7du7voyJzXUoDldruVkJCgnJycgNvcdtttSktLC9ERdp6JEydqxIgRkiKjXkmaOnWqrrvuOknhW/P69evVu3dvnThxIiDACqea2xJghVO9CxYskDFGx44da3GfcKq3JQ888IB69OihyspKSZFRMyJTR3uxW2+9Venp6QHbFy9eLGOMTp486bf9u+++06hRo/TYY4+pqqoqbH5xC/U8NvXee+81+8u3rToyX22dq5MnT8oYoyVLlgTsO2LECGVmZnawCjuEYi5b0t2ed8GEch7D9XUQ9iLAckhGRobGjRsXsP3jjz+WMUYvvvhiFxxV52gpwPr0009ljNHy5csDbvPzn/9cPXr06NbvLf/6669914mRwrfeS5cuye12q6amRsuXL5fL5dKqVaskhWfN1dXV6t+/v6+mpgFWONXsDbAGDhyo6Oho9e7dW7fddpvfXxvDqd5bbrlF/fr107Zt2zR27FhFR0fr6quvVk5Oju/Mo3Cqtzlff/21EhISdOutt/q2hXvNiFwd7cUGDx6sGTNmBGx/5513ZIzR9u3b/bY/9dRTGjp0qM6ePRtWv7iFeh7P2zSeAAANRklEQVSbys/PlzFGhw4dat+Bd5GOzFdb52rbtm0yxmjLli0B+06fPl3XXHNNByqwRyjmsiXd7XkXTCjnMVxfB2EvAiyHpKWlafLkyQHbT58+7bvmTLhoKcDynsbc3AUCvan96dOnQ3SUzrv//vvlcrl8F3IP13pzcnJ8F3yOjY31Oy09HGv+h3/4B/3N3/yN7y2yTQOscKr5wIEDmjt3rt544w39/ve/19q1a/X9739f0dHR2rZtm6Twqjc9PV3x8fHq3bu3Fi9erNLSUv3yl79UQkKCfvzjH6uhoSGs6m3OypUrA+oL95oRuTrai8XExDR7ZuKePXsCzsw4ePCgYmJifK+d4fSLWyjnsalDhw4pISHB98fC7qAj89XWuSoqKmr2A1ckac6cOYqNje1ABfYIxVw2pzs+74IJ1TyG8+sg7EWA5ZC0tDRlZWUFbPe+UDR3ym931VqAtWnTpoDbeH8p+p//+Z8QHaWznn76aRlj9Jvf/Ma3LVzrPX78uPbt26ctW7YoNzdXUVFRvoUo3Gp+9dVXFRsbqz/96U++bS0FWOFSc1O1tbW69tprNWbMGEnhVa/303Cavv6+8MILMsZo586dYVVvc/76r/9a/fv397vAb7jXjPAQ7FNTm46DBw9K6ngvFhMTo9zc3IDt3l/cvKGv2+3WD3/4Q/30pz/17WPrL242z2NTVVVVSklJ0YgRI/SXv/zlCqrtGh2Zr7bOlTfA2rt3b8C+c+bMUVxcXAcqsEco5rKp7vq8CyYU89idXgcRXgiwHMJbCMP3bSne6+g8++yzftvDtd6mcnNz5XK5VFNTE1Y1ey/Kn5eXp9raWt+47777lJiYqNraWp09ezasam5Jbm6ujDE6d+5cWNWbkZEhY4wOHDjgt/3w4cMyxui5554Lq3qbOnTokIwxmjt3rt/2cK4Z4eP06dNas2ZNm4b3l85QvfWtoKBAffr00eeff+5bO7w/b4sWLVJtba01H95j8zxe7tixYxo6dKiuu+46nThx4gqr7Rq8hdA5oX4LYXd+3gUTinnsTq+DCC8EWA6ZPXt2sxfL27hxo4yJrIu4N5faT548uVteGNgbXi1YsCDga+FYb3PWrl3r+6tfONXs/StRsHH33XeHVc0t8b5t9Ntvvw2reufMmdNsgOUNcAoKCsKq3qYeffRRGWP00Ucf+W0P55oR2Trai2VmZmrkyJEB25csWSJjjE6dOiXJc6ZuW89m6o5CNY9e3hAhNTU16Idu2Koj89XWufJexH3p0qUB+6anp4fNRdxDMZde3f15F0wo5jHcXwdhLwIsh2zdurXZt2RkZWW16SOHu5OWAixJ+slPfqKBAwfqzJkzvm3Hjx9XbGysnnjiiRAeZcctXLhQxvh/9HxT4VRvSx544AFFRUWppqZGUvjU/O2336q0tDRgTJ48WfHx8SotLfX94h8uNTfnf//3fzVkyBDdcMMNvm3hUu/27dubPXvy17/+tYxp/KjscKn3cufPn1e/fv1a/MjrcKwZ6GgvtmLFioC3abndbo0aNUrjx4/3bfvkk08C1g7vL4a5ubkqLS1VfX29s8WFUKjmUfK87gwdOlQpKSk6evSoc0WEUEfmqz1zdeONN2r06NF+91deXi5jjFauXOlQNV0rVHMZDs+7YEIxj+H+Ogh7EWA5KDMzU3379tXq1atVUlKi2bNnyxijwsLCrj40R2zdulXFxcW+M3JmzJih4uJiFRcX65tvvpHkeTHr1auXbr75Zm3dulWvv/66Ro8ereTkZF8A0h386le/kjFGWVlZKi8vDxhe4VKv5PlrTV5enl555RWVlZXp1Vdf1T333CNjjObNm+fbL5xqbk7Ta2BJ4VPzfffdpyeeeELFxcUqLS3V6tWrlZ6eLpfLpZ07d/r2C5d6JenOO+9UXFycFi1apJ07d2rJkiWKj4/XHXfc4dsnnOr12rRpk4wxWr16dbNfD8eaAantvdjMmTMVHR3td+bF+fPnNWrUKKWkpKioqEg7d+7UtGnT5HK5VFZWFvRxw+3aL6GYx+rqav3VX/2V4uLiVFhYGNBrdae3dLVlvjr6nCstLZXL5dK0adO0c+dOFRUVKSUlRaNHj/a7zmF319lzGU7Pu2BC8ZxsKtxeB2EnAiwH1dfX69FHH9XgwYMVGxurMWPGtHjBwO4oNTW1xVNEq6qqfPvt379fkyZNUs+ePXXVVVfp7//+73XkyJGuO/ArMGHChKCnxF4uHOqVPG8VvOmmmzRgwAC5XC4lJSVpwoQJWr9+fcC+4VJzc5oLsKTwqHnJkiW64YYb1KdPH0VHR+vqq6/WtGnT9MEHHwTsGw71StK5c+f0xBNPKCUlRS6XS9/73vc0f/78gGY/XOr1yszMVGJiot8ZVk2FW82A1PZezPv2l8v7F0n68ssv9eCDD6pfv36Kj49XRkaGX8DfknD7xS0U89jaBeabO9PfVm2ZLyeeczt27FBGRobi4+PVr18/Pfjgg6quru6ssrpEZ89lOD3vggnVc/Jy4fY6CDsRYAEAAAAAAMBqBFgAAAAAAACwGgEWAAAAAAAArEaABQAAAAAAAKsRYAEAAAAAAMBqBFgAAAAAAACwGgEWAAAAAAAArEaABQAAAAAAAKsRYAEAAAAAAMBqBFgAOt26detkjGlxlJaWdtmxVVVVyRijgoKCLjsGAABgF3oXALAPARaATudtAtetW6fy8vKAUVdX12XHRhMIAACaoncBAPsQYAHodN4mcN++fV19KAFoAgEAQFP0LgBgHwIsAJ2urU2gMUYPP/ywVq1apbS0NMXGxur73/++Nm7cGLDvRx99pLvuuktJSUmKi4vT2LFj9dJLLwXsV1tbq8cff1zXXXedYmNjdfXVV+v222/XJ598Ism/CXz++ec1dOhQJSYmKiMjQ+Xl5X73dfToUd1zzz265pprFBsbq4EDB+qWW27RwYMHOzA7AADANvQuAGAfAiwAnc7bBO7du1dut9tvXLx40befMUYpKSm6/vrrtXHjRr311lvKysqSMUbFxcW+/T799FP17t1bw4YN08svv6wtW7bovvvukzFGzz33nG+/M2fOaNSoUUpMTNTChQu1fft2vfbaa5o7d65KSkokNTaBQ4cOVVZWljZv3qzNmzfrBz/4gfr27auvv/7ad3/p6ekaPny41q9fr/fee0+vvfaa8vLyuvQ6GAAAwHn0LgBgHwIsAJ0u2IVQo6OjffsZY5SQkKAvv/zSt+3ixYsaOXKkhg8f7tt27733Ki4uTl988YXf49x+++3q2bOnr3FbuHChjDHauXNni8fmbQJ/8IMf+DWkH3zwgYwxvr+g/vnPf5YxRi+88ELHJgMAAFiP3gUA7EOABaDTeZvAl19+Wfv27fMb+/fv9+1njNEdd9wRcPv8/HwZY3TixAlJ0sCBAzVlypSA/V555RUZY/S73/1OkvSjH/1II0aMCHps3ibw3/7t3/y2nz9/XsYYLV26VJLU0NCgYcOGaciQIXr++ed14MABXbp0qX0TAQAAugV6FwCwDwEWgE7XnutIzJo1K2D7ypUrZYzRf//3f0uSoqOj9dBDDwXs9/7778sYo8LCQknS8OHDdcsttwR9zGAXQjXGKD8/3/f/Y8eOaebMmRo0aJCMMerXr58eeeQRnTlzJuhjAACA7oXeBQDsQ4AFoNO1pwl04q+Y27Ztk9S+v2K2pQm83OHDh7Vo0SJFR0crJycn6GMAAIDuhd4FAOxDgAWg07WnCWzpOhLDhg3zbbvvvvsUHx+vU6dO+d1+6tSpzV5HYteuXS0+5pU2gV433HCDxo0bF3QfAADQvdC7AIB9CLAAdDpvE7hu3TqVl5cHjJqaGknBP8ln06ZNvvvzfpLPiBEjVFhYqK1bt+r++++XMUa//OUvfft5P8mnV69eeuaZZ7Rjxw69+eabevzxxwM+yae1JvDQoUO66aabtGzZMv3ud7/Trl279NRTTykqKkpPPvlkJ84eAAAINXoXALAPARaAThfsk3yMMVqzZo0kT9P18MMPa8WKFRo2bJhiYmI0cuRIFRUVBdznRx99pDvvvFN9+vRRbGysxo4dq3Xr1gXsV1tbq7lz5+p73/ueYmJiNHDgQE2dOlWffvqppLY3gdXV1frHf/xHjRw5UomJierVq5fGjBmj//iP//D7BCAAAND90bsAgH0IsABYw9sEAgAAdAf0LgAQOgRYAKxBEwgAALoTehcACB0CLADWoAkEAADdCb0LAIQOARYAAAAAAACsRoAFAAAAAAAAqxFgAQAAAAAAwGoEWAAAAAAAALAaARYAAAAAAACsRoAFAAAAAAAAqxFgAQAAAAAAwGoEWAAAAAAAALAaARYAAAAAAACsRoAFAAAAAAAAqxFgAQAAAAAAwGoEWAAAAAAAALAaARYAAAAAAACsRoAFAAAAAAAAqxFgAQAAAAAAwGoEWAAAAAAAALAaARYAAAAAAACsRoAFAAAAAAAAqxFgAQAAAAAAwGoEWAAAAAAAALAaARYAAAAAAACsRoAFAAAAAAAAq/0fTa6pEQEGM0MAAAAASUVORK5CYII=\" width=\"1000\">"
      ],
      "text/plain": [
       "<IPython.core.display.HTML object>"
      ]
     },
     "metadata": {},
     "output_type": "display_data"
    }
   ],
   "source": [
    "ax, tax, lax, lines = dual_train_plots()\n",
    "fig = ax.figure\n",
    "plt.tight_layout()"
   ]
  },
  {
   "cell_type": "code",
   "execution_count": 17,
   "metadata": {
    "scrolled": false
   },
   "outputs": [
    {
     "name": "stdout",
     "output_type": "stream",
     "text": [
      "Number of batches: train = 6667, val = 209\n"
     ]
    },
    {
     "data": {
      "application/vnd.jupyter.widget-view+json": {
       "model_id": "8fb1169b88dc4e6a94926ca62ea7cd78",
       "version_major": 2,
       "version_minor": 0
      },
      "text/plain": [
       "HBox(children=(FloatProgress(value=0.0, description='Epochs', layout=Layout(flex='2'), max=75.0, style=Progres…"
      ]
     },
     "metadata": {},
     "output_type": "display_data"
    },
    {
     "name": "stdout",
     "output_type": "stream",
     "text": [
      "Number of batches: train = 6667, val = 209\n"
     ]
    },
    {
     "data": {
      "application/vnd.jupyter.widget-view+json": {
       "model_id": "",
       "version_major": 2,
       "version_minor": 0
      },
      "text/plain": [
       "HBox(children=(FloatProgress(value=0.0, description='Training', layout=Layout(flex='2'), max=6667.0, style=Pro…"
      ]
     },
     "metadata": {},
     "output_type": "display_data"
    },
    {
     "name": "stdout",
     "output_type": "stream",
     "text": [
      "Epoch 0: train=4.47872, val=3.9993, took 586.79 s\n"
     ]
    },
    {
     "data": {
      "application/vnd.jupyter.widget-view+json": {
       "model_id": "",
       "version_major": 2,
       "version_minor": 0
      },
      "text/plain": [
       "HBox(children=(FloatProgress(value=0.0, description='Training', layout=Layout(flex='2'), max=6667.0, style=Pro…"
      ]
     },
     "metadata": {},
     "output_type": "display_data"
    },
    {
     "name": "stdout",
     "output_type": "stream",
     "text": [
      "Epoch 1: train=4.4764, val=3.63774, took 597.89 s\n"
     ]
    },
    {
     "data": {
      "application/vnd.jupyter.widget-view+json": {
       "model_id": "",
       "version_major": 2,
       "version_minor": 0
      },
      "text/plain": [
       "HBox(children=(FloatProgress(value=0.0, description='Training', layout=Layout(flex='2'), max=6667.0, style=Pro…"
      ]
     },
     "metadata": {},
     "output_type": "display_data"
    },
    {
     "name": "stdout",
     "output_type": "stream",
     "text": [
      "Epoch 2: train=4.474, val=3.59683, took 550.44 s\n"
     ]
    },
    {
     "data": {
      "application/vnd.jupyter.widget-view+json": {
       "model_id": "",
       "version_major": 2,
       "version_minor": 0
      },
      "text/plain": [
       "HBox(children=(FloatProgress(value=0.0, description='Training', layout=Layout(flex='2'), max=6667.0, style=Pro…"
      ]
     },
     "metadata": {},
     "output_type": "display_data"
    },
    {
     "name": "stdout",
     "output_type": "stream",
     "text": [
      "Epoch 3: train=4.47773, val=3.59457, took 569.44 s\n"
     ]
    },
    {
     "data": {
      "application/vnd.jupyter.widget-view+json": {
       "model_id": "",
       "version_major": 2,
       "version_minor": 0
      },
      "text/plain": [
       "HBox(children=(FloatProgress(value=0.0, description='Training', layout=Layout(flex='2'), max=6667.0, style=Pro…"
      ]
     },
     "metadata": {},
     "output_type": "display_data"
    },
    {
     "name": "stdout",
     "output_type": "stream",
     "text": [
      "Epoch 4: train=4.47017, val=3.6638, took 606.57 s\n"
     ]
    },
    {
     "data": {
      "application/vnd.jupyter.widget-view+json": {
       "model_id": "",
       "version_major": 2,
       "version_minor": 0
      },
      "text/plain": [
       "HBox(children=(FloatProgress(value=0.0, description='Training', layout=Layout(flex='2'), max=6667.0, style=Pro…"
      ]
     },
     "metadata": {},
     "output_type": "display_data"
    },
    {
     "name": "stdout",
     "output_type": "stream",
     "text": [
      "Epoch 5: train=4.47213, val=3.60526, took 593.52 s\n"
     ]
    },
    {
     "data": {
      "application/vnd.jupyter.widget-view+json": {
       "model_id": "",
       "version_major": 2,
       "version_minor": 0
      },
      "text/plain": [
       "HBox(children=(FloatProgress(value=0.0, description='Training', layout=Layout(flex='2'), max=6667.0, style=Pro…"
      ]
     },
     "metadata": {},
     "output_type": "display_data"
    },
    {
     "name": "stdout",
     "output_type": "stream",
     "text": [
      "Epoch 6: train=4.46193, val=3.65445, took 550.72 s\n"
     ]
    },
    {
     "data": {
      "application/vnd.jupyter.widget-view+json": {
       "model_id": "",
       "version_major": 2,
       "version_minor": 0
      },
      "text/plain": [
       "HBox(children=(FloatProgress(value=0.0, description='Training', layout=Layout(flex='2'), max=6667.0, style=Pro…"
      ]
     },
     "metadata": {},
     "output_type": "display_data"
    },
    {
     "name": "stdout",
     "output_type": "stream",
     "text": [
      "Epoch 7: train=4.46606, val=3.80425, took 552.04 s\n"
     ]
    },
    {
     "data": {
      "application/vnd.jupyter.widget-view+json": {
       "model_id": "",
       "version_major": 2,
       "version_minor": 0
      },
      "text/plain": [
       "HBox(children=(FloatProgress(value=0.0, description='Training', layout=Layout(flex='2'), max=6667.0, style=Pro…"
      ]
     },
     "metadata": {},
     "output_type": "display_data"
    },
    {
     "name": "stdout",
     "output_type": "stream",
     "text": [
      "Epoch 8: train=4.4655, val=3.57857, took 552.07 s\n"
     ]
    },
    {
     "data": {
      "application/vnd.jupyter.widget-view+json": {
       "model_id": "",
       "version_major": 2,
       "version_minor": 0
      },
      "text/plain": [
       "HBox(children=(FloatProgress(value=0.0, description='Training', layout=Layout(flex='2'), max=6667.0, style=Pro…"
      ]
     },
     "metadata": {},
     "output_type": "display_data"
    },
    {
     "name": "stdout",
     "output_type": "stream",
     "text": [
      "Epoch 9: train=4.45532, val=3.67359, took 550.42 s\n"
     ]
    },
    {
     "data": {
      "application/vnd.jupyter.widget-view+json": {
       "model_id": "",
       "version_major": 2,
       "version_minor": 0
      },
      "text/plain": [
       "HBox(children=(FloatProgress(value=0.0, description='Training', layout=Layout(flex='2'), max=6667.0, style=Pro…"
      ]
     },
     "metadata": {},
     "output_type": "display_data"
    },
    {
     "name": "stdout",
     "output_type": "stream",
     "text": [
      "Epoch 10: train=4.45791, val=3.65796, took 551.63 s\n"
     ]
    },
    {
     "data": {
      "application/vnd.jupyter.widget-view+json": {
       "model_id": "",
       "version_major": 2,
       "version_minor": 0
      },
      "text/plain": [
       "HBox(children=(FloatProgress(value=0.0, description='Training', layout=Layout(flex='2'), max=6667.0, style=Pro…"
      ]
     },
     "metadata": {},
     "output_type": "display_data"
    },
    {
     "name": "stdout",
     "output_type": "stream",
     "text": [
      "Epoch 11: train=4.45702, val=3.63321, took 550.01 s\n"
     ]
    },
    {
     "data": {
      "application/vnd.jupyter.widget-view+json": {
       "model_id": "",
       "version_major": 2,
       "version_minor": 0
      },
      "text/plain": [
       "HBox(children=(FloatProgress(value=0.0, description='Training', layout=Layout(flex='2'), max=6667.0, style=Pro…"
      ]
     },
     "metadata": {},
     "output_type": "display_data"
    },
    {
     "name": "stdout",
     "output_type": "stream",
     "text": [
      "Epoch 12: train=4.45754, val=3.58988, took 549.42 s\n"
     ]
    },
    {
     "data": {
      "application/vnd.jupyter.widget-view+json": {
       "model_id": "",
       "version_major": 2,
       "version_minor": 0
      },
      "text/plain": [
       "HBox(children=(FloatProgress(value=0.0, description='Training', layout=Layout(flex='2'), max=6667.0, style=Pro…"
      ]
     },
     "metadata": {},
     "output_type": "display_data"
    },
    {
     "name": "stdout",
     "output_type": "stream",
     "text": [
      "Epoch 13: train=4.45184, val=3.59085, took 548.42 s\n"
     ]
    },
    {
     "data": {
      "application/vnd.jupyter.widget-view+json": {
       "model_id": "",
       "version_major": 2,
       "version_minor": 0
      },
      "text/plain": [
       "HBox(children=(FloatProgress(value=0.0, description='Training', layout=Layout(flex='2'), max=6667.0, style=Pro…"
      ]
     },
     "metadata": {},
     "output_type": "display_data"
    },
    {
     "name": "stdout",
     "output_type": "stream",
     "text": [
      "Epoch 14: train=4.45152, val=3.77983, took 551.15 s\n"
     ]
    },
    {
     "data": {
      "application/vnd.jupyter.widget-view+json": {
       "model_id": "",
       "version_major": 2,
       "version_minor": 0
      },
      "text/plain": [
       "HBox(children=(FloatProgress(value=0.0, description='Training', layout=Layout(flex='2'), max=6667.0, style=Pro…"
      ]
     },
     "metadata": {},
     "output_type": "display_data"
    },
    {
     "name": "stdout",
     "output_type": "stream",
     "text": [
      "Epoch 15: train=4.44022, val=3.75435, took 551.68 s\n"
     ]
    },
    {
     "data": {
      "application/vnd.jupyter.widget-view+json": {
       "model_id": "",
       "version_major": 2,
       "version_minor": 0
      },
      "text/plain": [
       "HBox(children=(FloatProgress(value=0.0, description='Training', layout=Layout(flex='2'), max=6667.0, style=Pro…"
      ]
     },
     "metadata": {},
     "output_type": "display_data"
    },
    {
     "name": "stdout",
     "output_type": "stream",
     "text": [
      "Epoch 16: train=4.44502, val=3.57769, took 548.47 s\n"
     ]
    },
    {
     "data": {
      "application/vnd.jupyter.widget-view+json": {
       "model_id": "",
       "version_major": 2,
       "version_minor": 0
      },
      "text/plain": [
       "HBox(children=(FloatProgress(value=0.0, description='Training', layout=Layout(flex='2'), max=6667.0, style=Pro…"
      ]
     },
     "metadata": {},
     "output_type": "display_data"
    },
    {
     "name": "stdout",
     "output_type": "stream",
     "text": [
      "Epoch 17: train=4.44468, val=3.59776, took 549.89 s\n"
     ]
    },
    {
     "data": {
      "application/vnd.jupyter.widget-view+json": {
       "model_id": "",
       "version_major": 2,
       "version_minor": 0
      },
      "text/plain": [
       "HBox(children=(FloatProgress(value=0.0, description='Training', layout=Layout(flex='2'), max=6667.0, style=Pro…"
      ]
     },
     "metadata": {},
     "output_type": "display_data"
    },
    {
     "name": "stdout",
     "output_type": "stream",
     "text": [
      "Epoch 18: train=4.44539, val=3.58467, took 551.28 s\n"
     ]
    },
    {
     "data": {
      "application/vnd.jupyter.widget-view+json": {
       "model_id": "",
       "version_major": 2,
       "version_minor": 0
      },
      "text/plain": [
       "HBox(children=(FloatProgress(value=0.0, description='Training', layout=Layout(flex='2'), max=6667.0, style=Pro…"
      ]
     },
     "metadata": {},
     "output_type": "display_data"
    },
    {
     "name": "stdout",
     "output_type": "stream",
     "text": [
      "Epoch 19: train=4.44345, val=3.5733, took 549.49 s\n"
     ]
    },
    {
     "data": {
      "application/vnd.jupyter.widget-view+json": {
       "model_id": "",
       "version_major": 2,
       "version_minor": 0
      },
      "text/plain": [
       "HBox(children=(FloatProgress(value=0.0, description='Training', layout=Layout(flex='2'), max=6667.0, style=Pro…"
      ]
     },
     "metadata": {},
     "output_type": "display_data"
    },
    {
     "name": "stdout",
     "output_type": "stream",
     "text": [
      "Epoch 20: train=4.43797, val=3.61911, took 548.82 s\n"
     ]
    },
    {
     "data": {
      "application/vnd.jupyter.widget-view+json": {
       "model_id": "",
       "version_major": 2,
       "version_minor": 0
      },
      "text/plain": [
       "HBox(children=(FloatProgress(value=0.0, description='Training', layout=Layout(flex='2'), max=6667.0, style=Pro…"
      ]
     },
     "metadata": {},
     "output_type": "display_data"
    },
    {
     "name": "stdout",
     "output_type": "stream",
     "text": [
      "Epoch 21: train=4.43824, val=3.95201, took 551.33 s\n"
     ]
    },
    {
     "data": {
      "application/vnd.jupyter.widget-view+json": {
       "model_id": "",
       "version_major": 2,
       "version_minor": 0
      },
      "text/plain": [
       "HBox(children=(FloatProgress(value=0.0, description='Training', layout=Layout(flex='2'), max=6667.0, style=Pro…"
      ]
     },
     "metadata": {},
     "output_type": "display_data"
    },
    {
     "name": "stdout",
     "output_type": "stream",
     "text": [
      "Epoch 22: train=4.42933, val=3.56738, took 551.25 s\n"
     ]
    },
    {
     "data": {
      "application/vnd.jupyter.widget-view+json": {
       "model_id": "",
       "version_major": 2,
       "version_minor": 0
      },
      "text/plain": [
       "HBox(children=(FloatProgress(value=0.0, description='Training', layout=Layout(flex='2'), max=6667.0, style=Pro…"
      ]
     },
     "metadata": {},
     "output_type": "display_data"
    },
    {
     "name": "stdout",
     "output_type": "stream",
     "text": [
      "Epoch 23: train=4.43709, val=3.5839, took 549.56 s\n"
     ]
    },
    {
     "data": {
      "application/vnd.jupyter.widget-view+json": {
       "model_id": "",
       "version_major": 2,
       "version_minor": 0
      },
      "text/plain": [
       "HBox(children=(FloatProgress(value=0.0, description='Training', layout=Layout(flex='2'), max=6667.0, style=Pro…"
      ]
     },
     "metadata": {},
     "output_type": "display_data"
    },
    {
     "name": "stdout",
     "output_type": "stream",
     "text": [
      "Epoch 24: train=4.42716, val=3.71817, took 555.63 s\n"
     ]
    },
    {
     "data": {
      "application/vnd.jupyter.widget-view+json": {
       "model_id": "",
       "version_major": 2,
       "version_minor": 0
      },
      "text/plain": [
       "HBox(children=(FloatProgress(value=0.0, description='Training', layout=Layout(flex='2'), max=6667.0, style=Pro…"
      ]
     },
     "metadata": {},
     "output_type": "display_data"
    },
    {
     "name": "stdout",
     "output_type": "stream",
     "text": [
      "Epoch 25: train=4.433, val=3.55832, took 630.64 s\n"
     ]
    },
    {
     "data": {
      "application/vnd.jupyter.widget-view+json": {
       "model_id": "",
       "version_major": 2,
       "version_minor": 0
      },
      "text/plain": [
       "HBox(children=(FloatProgress(value=0.0, description='Training', layout=Layout(flex='2'), max=6667.0, style=Pro…"
      ]
     },
     "metadata": {},
     "output_type": "display_data"
    },
    {
     "name": "stdout",
     "output_type": "stream",
     "text": [
      "Epoch 26: train=4.43089, val=3.59544, took 554.06 s\n"
     ]
    },
    {
     "data": {
      "application/vnd.jupyter.widget-view+json": {
       "model_id": "",
       "version_major": 2,
       "version_minor": 0
      },
      "text/plain": [
       "HBox(children=(FloatProgress(value=0.0, description='Training', layout=Layout(flex='2'), max=6667.0, style=Pro…"
      ]
     },
     "metadata": {},
     "output_type": "display_data"
    },
    {
     "name": "stdout",
     "output_type": "stream",
     "text": [
      "Epoch 27: train=4.42616, val=3.64322, took 561.9 s\n"
     ]
    },
    {
     "data": {
      "application/vnd.jupyter.widget-view+json": {
       "model_id": "",
       "version_major": 2,
       "version_minor": 0
      },
      "text/plain": [
       "HBox(children=(FloatProgress(value=0.0, description='Training', layout=Layout(flex='2'), max=6667.0, style=Pro…"
      ]
     },
     "metadata": {},
     "output_type": "display_data"
    },
    {
     "name": "stdout",
     "output_type": "stream",
     "text": [
      "Epoch 28: train=4.42005, val=3.64687, took 557.18 s\n"
     ]
    },
    {
     "data": {
      "application/vnd.jupyter.widget-view+json": {
       "model_id": "",
       "version_major": 2,
       "version_minor": 0
      },
      "text/plain": [
       "HBox(children=(FloatProgress(value=0.0, description='Training', layout=Layout(flex='2'), max=6667.0, style=Pro…"
      ]
     },
     "metadata": {},
     "output_type": "display_data"
    },
    {
     "name": "stdout",
     "output_type": "stream",
     "text": [
      "Epoch 29: train=4.41815, val=3.56871, took 546.1 s\n"
     ]
    },
    {
     "data": {
      "application/vnd.jupyter.widget-view+json": {
       "model_id": "",
       "version_major": 2,
       "version_minor": 0
      },
      "text/plain": [
       "HBox(children=(FloatProgress(value=0.0, description='Training', layout=Layout(flex='2'), max=6667.0, style=Pro…"
      ]
     },
     "metadata": {},
     "output_type": "display_data"
    },
    {
     "name": "stdout",
     "output_type": "stream",
     "text": [
      "Epoch 30: train=4.41878, val=3.57078, took 548.43 s\n"
     ]
    },
    {
     "data": {
      "application/vnd.jupyter.widget-view+json": {
       "model_id": "",
       "version_major": 2,
       "version_minor": 0
      },
      "text/plain": [
       "HBox(children=(FloatProgress(value=0.0, description='Training', layout=Layout(flex='2'), max=6667.0, style=Pro…"
      ]
     },
     "metadata": {},
     "output_type": "display_data"
    },
    {
     "name": "stdout",
     "output_type": "stream",
     "text": [
      "Epoch 31: train=4.41741, val=3.76915, took 544.3 s\n"
     ]
    },
    {
     "data": {
      "application/vnd.jupyter.widget-view+json": {
       "model_id": "",
       "version_major": 2,
       "version_minor": 0
      },
      "text/plain": [
       "HBox(children=(FloatProgress(value=0.0, description='Training', layout=Layout(flex='2'), max=6667.0, style=Pro…"
      ]
     },
     "metadata": {},
     "output_type": "display_data"
    },
    {
     "name": "stdout",
     "output_type": "stream",
     "text": [
      "Epoch 32: train=4.41182, val=3.55586, took 545.19 s\n"
     ]
    },
    {
     "data": {
      "application/vnd.jupyter.widget-view+json": {
       "model_id": "",
       "version_major": 2,
       "version_minor": 0
      },
      "text/plain": [
       "HBox(children=(FloatProgress(value=0.0, description='Training', layout=Layout(flex='2'), max=6667.0, style=Pro…"
      ]
     },
     "metadata": {},
     "output_type": "display_data"
    },
    {
     "name": "stdout",
     "output_type": "stream",
     "text": [
      "Epoch 33: train=4.42031, val=3.55544, took 545.1 s\n"
     ]
    },
    {
     "data": {
      "application/vnd.jupyter.widget-view+json": {
       "model_id": "",
       "version_major": 2,
       "version_minor": 0
      },
      "text/plain": [
       "HBox(children=(FloatProgress(value=0.0, description='Training', layout=Layout(flex='2'), max=6667.0, style=Pro…"
      ]
     },
     "metadata": {},
     "output_type": "display_data"
    },
    {
     "name": "stdout",
     "output_type": "stream",
     "text": [
      "Epoch 34: train=4.40425, val=3.55483, took 544.0 s\n"
     ]
    },
    {
     "data": {
      "application/vnd.jupyter.widget-view+json": {
       "model_id": "",
       "version_major": 2,
       "version_minor": 0
      },
      "text/plain": [
       "HBox(children=(FloatProgress(value=0.0, description='Training', layout=Layout(flex='2'), max=6667.0, style=Pro…"
      ]
     },
     "metadata": {},
     "output_type": "display_data"
    },
    {
     "name": "stdout",
     "output_type": "stream",
     "text": [
      "Epoch 35: train=4.41446, val=3.56246, took 548.17 s\n"
     ]
    },
    {
     "data": {
      "application/vnd.jupyter.widget-view+json": {
       "model_id": "",
       "version_major": 2,
       "version_minor": 0
      },
      "text/plain": [
       "HBox(children=(FloatProgress(value=0.0, description='Training', layout=Layout(flex='2'), max=6667.0, style=Pro…"
      ]
     },
     "metadata": {},
     "output_type": "display_data"
    },
    {
     "name": "stdout",
     "output_type": "stream",
     "text": [
      "Epoch 36: train=4.40186, val=3.53638, took 547.36 s\n"
     ]
    },
    {
     "data": {
      "application/vnd.jupyter.widget-view+json": {
       "model_id": "",
       "version_major": 2,
       "version_minor": 0
      },
      "text/plain": [
       "HBox(children=(FloatProgress(value=0.0, description='Training', layout=Layout(flex='2'), max=6667.0, style=Pro…"
      ]
     },
     "metadata": {},
     "output_type": "display_data"
    },
    {
     "name": "stdout",
     "output_type": "stream",
     "text": [
      "Epoch 37: train=4.40004, val=3.56511, took 545.6 s\n"
     ]
    },
    {
     "data": {
      "application/vnd.jupyter.widget-view+json": {
       "model_id": "",
       "version_major": 2,
       "version_minor": 0
      },
      "text/plain": [
       "HBox(children=(FloatProgress(value=0.0, description='Training', layout=Layout(flex='2'), max=6667.0, style=Pro…"
      ]
     },
     "metadata": {},
     "output_type": "display_data"
    },
    {
     "name": "stdout",
     "output_type": "stream",
     "text": [
      "Epoch 38: train=4.39822, val=3.55535, took 545.83 s\n"
     ]
    },
    {
     "data": {
      "application/vnd.jupyter.widget-view+json": {
       "model_id": "",
       "version_major": 2,
       "version_minor": 0
      },
      "text/plain": [
       "HBox(children=(FloatProgress(value=0.0, description='Training', layout=Layout(flex='2'), max=6667.0, style=Pro…"
      ]
     },
     "metadata": {},
     "output_type": "display_data"
    },
    {
     "name": "stdout",
     "output_type": "stream",
     "text": [
      "Epoch 39: train=4.39868, val=3.77345, took 552.28 s\n"
     ]
    },
    {
     "data": {
      "application/vnd.jupyter.widget-view+json": {
       "model_id": "",
       "version_major": 2,
       "version_minor": 0
      },
      "text/plain": [
       "HBox(children=(FloatProgress(value=0.0, description='Training', layout=Layout(flex='2'), max=6667.0, style=Pro…"
      ]
     },
     "metadata": {},
     "output_type": "display_data"
    },
    {
     "name": "stdout",
     "output_type": "stream",
     "text": [
      "Epoch 40: train=4.4007, val=3.53558, took 546.35 s\n"
     ]
    },
    {
     "data": {
      "application/vnd.jupyter.widget-view+json": {
       "model_id": "",
       "version_major": 2,
       "version_minor": 0
      },
      "text/plain": [
       "HBox(children=(FloatProgress(value=0.0, description='Training', layout=Layout(flex='2'), max=6667.0, style=Pro…"
      ]
     },
     "metadata": {},
     "output_type": "display_data"
    },
    {
     "name": "stdout",
     "output_type": "stream",
     "text": [
      "Epoch 41: train=4.39897, val=3.63036, took 545.02 s\n"
     ]
    },
    {
     "data": {
      "application/vnd.jupyter.widget-view+json": {
       "model_id": "",
       "version_major": 2,
       "version_minor": 0
      },
      "text/plain": [
       "HBox(children=(FloatProgress(value=0.0, description='Training', layout=Layout(flex='2'), max=6667.0, style=Pro…"
      ]
     },
     "metadata": {},
     "output_type": "display_data"
    },
    {
     "name": "stdout",
     "output_type": "stream",
     "text": [
      "Epoch 42: train=4.39925, val=3.55948, took 543.63 s\n"
     ]
    },
    {
     "data": {
      "application/vnd.jupyter.widget-view+json": {
       "model_id": "",
       "version_major": 2,
       "version_minor": 0
      },
      "text/plain": [
       "HBox(children=(FloatProgress(value=0.0, description='Training', layout=Layout(flex='2'), max=6667.0, style=Pro…"
      ]
     },
     "metadata": {},
     "output_type": "display_data"
    },
    {
     "name": "stdout",
     "output_type": "stream",
     "text": [
      "Epoch 43: train=4.3952, val=3.54735, took 545.33 s\n"
     ]
    },
    {
     "data": {
      "application/vnd.jupyter.widget-view+json": {
       "model_id": "",
       "version_major": 2,
       "version_minor": 0
      },
      "text/plain": [
       "HBox(children=(FloatProgress(value=0.0, description='Training', layout=Layout(flex='2'), max=6667.0, style=Pro…"
      ]
     },
     "metadata": {},
     "output_type": "display_data"
    },
    {
     "name": "stdout",
     "output_type": "stream",
     "text": [
      "Epoch 44: train=4.39332, val=3.54373, took 547.6 s\n"
     ]
    },
    {
     "data": {
      "application/vnd.jupyter.widget-view+json": {
       "model_id": "",
       "version_major": 2,
       "version_minor": 0
      },
      "text/plain": [
       "HBox(children=(FloatProgress(value=0.0, description='Training', layout=Layout(flex='2'), max=6667.0, style=Pro…"
      ]
     },
     "metadata": {},
     "output_type": "display_data"
    },
    {
     "name": "stdout",
     "output_type": "stream",
     "text": [
      "Epoch 45: train=4.39527, val=3.64468, took 580.5 s\n"
     ]
    },
    {
     "data": {
      "application/vnd.jupyter.widget-view+json": {
       "model_id": "",
       "version_major": 2,
       "version_minor": 0
      },
      "text/plain": [
       "HBox(children=(FloatProgress(value=0.0, description='Training', layout=Layout(flex='2'), max=6667.0, style=Pro…"
      ]
     },
     "metadata": {},
     "output_type": "display_data"
    },
    {
     "name": "stdout",
     "output_type": "stream",
     "text": [
      "Epoch 46: train=4.38489, val=3.57574, took 612.35 s\n"
     ]
    },
    {
     "data": {
      "application/vnd.jupyter.widget-view+json": {
       "model_id": "",
       "version_major": 2,
       "version_minor": 0
      },
      "text/plain": [
       "HBox(children=(FloatProgress(value=0.0, description='Training', layout=Layout(flex='2'), max=6667.0, style=Pro…"
      ]
     },
     "metadata": {},
     "output_type": "display_data"
    },
    {
     "name": "stdout",
     "output_type": "stream",
     "text": [
      "Epoch 47: train=4.3929, val=3.58, took 548.37 s\n"
     ]
    },
    {
     "data": {
      "application/vnd.jupyter.widget-view+json": {
       "model_id": "",
       "version_major": 2,
       "version_minor": 0
      },
      "text/plain": [
       "HBox(children=(FloatProgress(value=0.0, description='Training', layout=Layout(flex='2'), max=6667.0, style=Pro…"
      ]
     },
     "metadata": {},
     "output_type": "display_data"
    },
    {
     "name": "stdout",
     "output_type": "stream",
     "text": [
      "Epoch 48: train=4.37669, val=3.52266, took 548.77 s\n"
     ]
    },
    {
     "data": {
      "application/vnd.jupyter.widget-view+json": {
       "model_id": "",
       "version_major": 2,
       "version_minor": 0
      },
      "text/plain": [
       "HBox(children=(FloatProgress(value=0.0, description='Training', layout=Layout(flex='2'), max=6667.0, style=Pro…"
      ]
     },
     "metadata": {},
     "output_type": "display_data"
    },
    {
     "name": "stdout",
     "output_type": "stream",
     "text": [
      "Epoch 49: train=4.37362, val=3.5973, took 549.32 s\n"
     ]
    },
    {
     "data": {
      "application/vnd.jupyter.widget-view+json": {
       "model_id": "",
       "version_major": 2,
       "version_minor": 0
      },
      "text/plain": [
       "HBox(children=(FloatProgress(value=0.0, description='Training', layout=Layout(flex='2'), max=6667.0, style=Pro…"
      ]
     },
     "metadata": {},
     "output_type": "display_data"
    },
    {
     "name": "stdout",
     "output_type": "stream",
     "text": [
      "Epoch 50: train=4.38394, val=3.52413, took 549.76 s\n"
     ]
    },
    {
     "data": {
      "application/vnd.jupyter.widget-view+json": {
       "model_id": "",
       "version_major": 2,
       "version_minor": 0
      },
      "text/plain": [
       "HBox(children=(FloatProgress(value=0.0, description='Training', layout=Layout(flex='2'), max=6667.0, style=Pro…"
      ]
     },
     "metadata": {},
     "output_type": "display_data"
    },
    {
     "name": "stdout",
     "output_type": "stream",
     "text": [
      "Epoch 51: train=4.37821, val=3.52082, took 548.7 s\n"
     ]
    },
    {
     "data": {
      "application/vnd.jupyter.widget-view+json": {
       "model_id": "",
       "version_major": 2,
       "version_minor": 0
      },
      "text/plain": [
       "HBox(children=(FloatProgress(value=0.0, description='Training', layout=Layout(flex='2'), max=6667.0, style=Pro…"
      ]
     },
     "metadata": {},
     "output_type": "display_data"
    },
    {
     "name": "stdout",
     "output_type": "stream",
     "text": [
      "Epoch 52: train=4.37835, val=3.51444, took 549.22 s\n"
     ]
    },
    {
     "data": {
      "application/vnd.jupyter.widget-view+json": {
       "model_id": "",
       "version_major": 2,
       "version_minor": 0
      },
      "text/plain": [
       "HBox(children=(FloatProgress(value=0.0, description='Training', layout=Layout(flex='2'), max=6667.0, style=Pro…"
      ]
     },
     "metadata": {},
     "output_type": "display_data"
    },
    {
     "name": "stdout",
     "output_type": "stream",
     "text": [
      "Epoch 53: train=4.37793, val=3.55645, took 549.37 s\n"
     ]
    },
    {
     "data": {
      "application/vnd.jupyter.widget-view+json": {
       "model_id": "",
       "version_major": 2,
       "version_minor": 0
      },
      "text/plain": [
       "HBox(children=(FloatProgress(value=0.0, description='Training', layout=Layout(flex='2'), max=6667.0, style=Pro…"
      ]
     },
     "metadata": {},
     "output_type": "display_data"
    },
    {
     "name": "stdout",
     "output_type": "stream",
     "text": [
      "Epoch 54: train=4.37037, val=3.7374, took 550.23 s\n"
     ]
    },
    {
     "data": {
      "application/vnd.jupyter.widget-view+json": {
       "model_id": "",
       "version_major": 2,
       "version_minor": 0
      },
      "text/plain": [
       "HBox(children=(FloatProgress(value=0.0, description='Training', layout=Layout(flex='2'), max=6667.0, style=Pro…"
      ]
     },
     "metadata": {},
     "output_type": "display_data"
    },
    {
     "name": "stdout",
     "output_type": "stream",
     "text": [
      "Epoch 55: train=4.37374, val=3.52623, took 550.9 s\n"
     ]
    },
    {
     "data": {
      "application/vnd.jupyter.widget-view+json": {
       "model_id": "",
       "version_major": 2,
       "version_minor": 0
      },
      "text/plain": [
       "HBox(children=(FloatProgress(value=0.0, description='Training', layout=Layout(flex='2'), max=6667.0, style=Pro…"
      ]
     },
     "metadata": {},
     "output_type": "display_data"
    },
    {
     "name": "stdout",
     "output_type": "stream",
     "text": [
      "Epoch 56: train=4.3683, val=3.52119, took 549.54 s\n"
     ]
    },
    {
     "data": {
      "application/vnd.jupyter.widget-view+json": {
       "model_id": "",
       "version_major": 2,
       "version_minor": 0
      },
      "text/plain": [
       "HBox(children=(FloatProgress(value=0.0, description='Training', layout=Layout(flex='2'), max=6667.0, style=Pro…"
      ]
     },
     "metadata": {},
     "output_type": "display_data"
    },
    {
     "name": "stdout",
     "output_type": "stream",
     "text": [
      "Epoch 57: train=4.36848, val=3.59263, took 549.6 s\n"
     ]
    },
    {
     "data": {
      "application/vnd.jupyter.widget-view+json": {
       "model_id": "",
       "version_major": 2,
       "version_minor": 0
      },
      "text/plain": [
       "HBox(children=(FloatProgress(value=0.0, description='Training', layout=Layout(flex='2'), max=6667.0, style=Pro…"
      ]
     },
     "metadata": {},
     "output_type": "display_data"
    },
    {
     "name": "stdout",
     "output_type": "stream",
     "text": [
      "Epoch 58: train=4.36442, val=3.51027, took 548.83 s\n"
     ]
    },
    {
     "data": {
      "application/vnd.jupyter.widget-view+json": {
       "model_id": "",
       "version_major": 2,
       "version_minor": 0
      },
      "text/plain": [
       "HBox(children=(FloatProgress(value=0.0, description='Training', layout=Layout(flex='2'), max=6667.0, style=Pro…"
      ]
     },
     "metadata": {},
     "output_type": "display_data"
    },
    {
     "name": "stdout",
     "output_type": "stream",
     "text": [
      "Epoch 59: train=4.36374, val=3.63591, took 548.56 s\n"
     ]
    },
    {
     "data": {
      "application/vnd.jupyter.widget-view+json": {
       "model_id": "",
       "version_major": 2,
       "version_minor": 0
      },
      "text/plain": [
       "HBox(children=(FloatProgress(value=0.0, description='Training', layout=Layout(flex='2'), max=6667.0, style=Pro…"
      ]
     },
     "metadata": {},
     "output_type": "display_data"
    },
    {
     "name": "stdout",
     "output_type": "stream",
     "text": [
      "Epoch 60: train=4.35844, val=3.53239, took 549.25 s\n"
     ]
    },
    {
     "data": {
      "application/vnd.jupyter.widget-view+json": {
       "model_id": "",
       "version_major": 2,
       "version_minor": 0
      },
      "text/plain": [
       "HBox(children=(FloatProgress(value=0.0, description='Training', layout=Layout(flex='2'), max=6667.0, style=Pro…"
      ]
     },
     "metadata": {},
     "output_type": "display_data"
    },
    {
     "name": "stdout",
     "output_type": "stream",
     "text": [
      "Epoch 61: train=4.35676, val=3.59485, took 549.11 s\n"
     ]
    },
    {
     "data": {
      "application/vnd.jupyter.widget-view+json": {
       "model_id": "",
       "version_major": 2,
       "version_minor": 0
      },
      "text/plain": [
       "HBox(children=(FloatProgress(value=0.0, description='Training', layout=Layout(flex='2'), max=6667.0, style=Pro…"
      ]
     },
     "metadata": {},
     "output_type": "display_data"
    },
    {
     "name": "stdout",
     "output_type": "stream",
     "text": [
      "Epoch 62: train=4.36493, val=3.50677, took 547.96 s\n"
     ]
    },
    {
     "data": {
      "application/vnd.jupyter.widget-view+json": {
       "model_id": "",
       "version_major": 2,
       "version_minor": 0
      },
      "text/plain": [
       "HBox(children=(FloatProgress(value=0.0, description='Training', layout=Layout(flex='2'), max=6667.0, style=Pro…"
      ]
     },
     "metadata": {},
     "output_type": "display_data"
    },
    {
     "name": "stdout",
     "output_type": "stream",
     "text": [
      "Epoch 63: train=4.35556, val=3.54019, took 550.57 s\n"
     ]
    },
    {
     "data": {
      "application/vnd.jupyter.widget-view+json": {
       "model_id": "",
       "version_major": 2,
       "version_minor": 0
      },
      "text/plain": [
       "HBox(children=(FloatProgress(value=0.0, description='Training', layout=Layout(flex='2'), max=6667.0, style=Pro…"
      ]
     },
     "metadata": {},
     "output_type": "display_data"
    },
    {
     "name": "stdout",
     "output_type": "stream",
     "text": [
      "Epoch 64: train=4.35168, val=3.66608, took 565.52 s\n"
     ]
    },
    {
     "data": {
      "application/vnd.jupyter.widget-view+json": {
       "model_id": "",
       "version_major": 2,
       "version_minor": 0
      },
      "text/plain": [
       "HBox(children=(FloatProgress(value=0.0, description='Training', layout=Layout(flex='2'), max=6667.0, style=Pro…"
      ]
     },
     "metadata": {},
     "output_type": "display_data"
    },
    {
     "name": "stdout",
     "output_type": "stream",
     "text": [
      "Epoch 65: train=4.35125, val=3.58422, took 560.55 s\n"
     ]
    },
    {
     "data": {
      "application/vnd.jupyter.widget-view+json": {
       "model_id": "",
       "version_major": 2,
       "version_minor": 0
      },
      "text/plain": [
       "HBox(children=(FloatProgress(value=0.0, description='Training', layout=Layout(flex='2'), max=6667.0, style=Pro…"
      ]
     },
     "metadata": {},
     "output_type": "display_data"
    },
    {
     "name": "stdout",
     "output_type": "stream",
     "text": [
      "Epoch 66: train=4.34807, val=3.7498, took 612.92 s\n"
     ]
    },
    {
     "data": {
      "application/vnd.jupyter.widget-view+json": {
       "model_id": "",
       "version_major": 2,
       "version_minor": 0
      },
      "text/plain": [
       "HBox(children=(FloatProgress(value=0.0, description='Training', layout=Layout(flex='2'), max=6667.0, style=Pro…"
      ]
     },
     "metadata": {},
     "output_type": "display_data"
    },
    {
     "name": "stdout",
     "output_type": "stream",
     "text": [
      "Epoch 67: train=4.34775, val=3.50328, took 548.57 s\n"
     ]
    },
    {
     "data": {
      "application/vnd.jupyter.widget-view+json": {
       "model_id": "",
       "version_major": 2,
       "version_minor": 0
      },
      "text/plain": [
       "HBox(children=(FloatProgress(value=0.0, description='Training', layout=Layout(flex='2'), max=6667.0, style=Pro…"
      ]
     },
     "metadata": {},
     "output_type": "display_data"
    },
    {
     "name": "stdout",
     "output_type": "stream",
     "text": [
      "Epoch 68: train=4.34732, val=3.5278, took 558.49 s\n"
     ]
    },
    {
     "data": {
      "application/vnd.jupyter.widget-view+json": {
       "model_id": "",
       "version_major": 2,
       "version_minor": 0
      },
      "text/plain": [
       "HBox(children=(FloatProgress(value=0.0, description='Training', layout=Layout(flex='2'), max=6667.0, style=Pro…"
      ]
     },
     "metadata": {},
     "output_type": "display_data"
    },
    {
     "name": "stdout",
     "output_type": "stream",
     "text": [
      "Epoch 69: train=4.34358, val=3.49372, took 547.14 s\n"
     ]
    },
    {
     "data": {
      "application/vnd.jupyter.widget-view+json": {
       "model_id": "",
       "version_major": 2,
       "version_minor": 0
      },
      "text/plain": [
       "HBox(children=(FloatProgress(value=0.0, description='Training', layout=Layout(flex='2'), max=6667.0, style=Pro…"
      ]
     },
     "metadata": {},
     "output_type": "display_data"
    },
    {
     "name": "stdout",
     "output_type": "stream",
     "text": [
      "Epoch 70: train=4.35273, val=3.59493, took 549.72 s\n"
     ]
    },
    {
     "data": {
      "application/vnd.jupyter.widget-view+json": {
       "model_id": "",
       "version_major": 2,
       "version_minor": 0
      },
      "text/plain": [
       "HBox(children=(FloatProgress(value=0.0, description='Training', layout=Layout(flex='2'), max=6667.0, style=Pro…"
      ]
     },
     "metadata": {},
     "output_type": "display_data"
    },
    {
     "name": "stdout",
     "output_type": "stream",
     "text": [
      "Epoch 71: train=4.35554, val=3.61167, took 543.08 s\n"
     ]
    },
    {
     "data": {
      "application/vnd.jupyter.widget-view+json": {
       "model_id": "",
       "version_major": 2,
       "version_minor": 0
      },
      "text/plain": [
       "HBox(children=(FloatProgress(value=0.0, description='Training', layout=Layout(flex='2'), max=6667.0, style=Pro…"
      ]
     },
     "metadata": {},
     "output_type": "display_data"
    },
    {
     "name": "stdout",
     "output_type": "stream",
     "text": [
      "Epoch 72: train=4.33206, val=3.49786, took 536.85 s\n"
     ]
    },
    {
     "data": {
      "application/vnd.jupyter.widget-view+json": {
       "model_id": "",
       "version_major": 2,
       "version_minor": 0
      },
      "text/plain": [
       "HBox(children=(FloatProgress(value=0.0, description='Training', layout=Layout(flex='2'), max=6667.0, style=Pro…"
      ]
     },
     "metadata": {},
     "output_type": "display_data"
    },
    {
     "name": "stdout",
     "output_type": "stream",
     "text": [
      "Epoch 73: train=4.33295, val=3.49248, took 536.42 s\n"
     ]
    },
    {
     "data": {
      "application/vnd.jupyter.widget-view+json": {
       "model_id": "",
       "version_major": 2,
       "version_minor": 0
      },
      "text/plain": [
       "HBox(children=(FloatProgress(value=0.0, description='Training', layout=Layout(flex='2'), max=6667.0, style=Pro…"
      ]
     },
     "metadata": {},
     "output_type": "display_data"
    },
    {
     "name": "stdout",
     "output_type": "stream",
     "text": [
      "Epoch 74: train=4.33812, val=3.48265, took 536.61 s\n",
      "\n"
     ]
    }
   ],
   "source": [
    "for result in trainNet(model, optimizer, loss,\n",
    "                        train_loader, val_loader,\n",
    "                        n_epochs, epoch_start=len(results),\n",
    "                        notebook=True):\n",
    "    \n",
    "    results = results.append(pd.Series(result._asdict()), ignore_index=True)\n",
    "    xs = results.index\n",
    "    \n",
    "    # Update the plot above\n",
    "    lines['train'].set_data(results.index,results.cost)\n",
    "    lines['val'].set_data(results.index,results.val)\n",
    "    \n",
    "    #filter first cost epoch (can be really large)\n",
    "    max_cost = max(max(results.cost if len(results.cost)<2 else results.cost[1:]), max(results.val))\n",
    "    min_cost = min(min(results.cost), min(results.val))\n",
    "    \n",
    "    # The plot limits need updating too\n",
    "    \n",
    "    \n",
    "    \n",
    "    ax.set_ylim(min_cost*.9, max_cost*1.1)  \n",
    "    ax.set_xlim(-.5, len(results.cost) - .5)\n",
    "\n",
    "    \n",
    "    # Redraw the figure\n",
    "    fig.canvas.draw()\n",
    "\n",
    "    # Save each model state dictionary\n",
    "    torch.save(model.state_dict(), output / f'{name}_{result.epoch}.pyt')"
   ]
  },
  {
   "cell_type": "markdown",
   "metadata": {},
   "source": [
    "Go ahead and save the final model (even though it was also saved above):"
   ]
  },
  {
   "cell_type": "code",
   "execution_count": 18,
   "metadata": {},
   "outputs": [],
   "source": [
    "torch.save(model.state_dict(), output / f'{name}_final.pyt')"
   ]
  },
  {
   "cell_type": "markdown",
   "metadata": {},
   "source": [
    "Save the output results:"
   ]
  },
  {
   "cell_type": "code",
   "execution_count": 19,
   "metadata": {},
   "outputs": [],
   "source": [
    "results.to_hdf(f'{name}_stats.hdf5', 'results')"
   ]
  },
  {
   "cell_type": "markdown",
   "metadata": {},
   "source": [
    "Save the plot above:"
   ]
  },
  {
   "cell_type": "code",
   "execution_count": 20,
   "metadata": {},
   "outputs": [
    {
     "data": {
      "application/javascript": [
       "/* Put everything inside the global mpl namespace */\n",
       "window.mpl = {};\n",
       "\n",
       "\n",
       "mpl.get_websocket_type = function() {\n",
       "    if (typeof(WebSocket) !== 'undefined') {\n",
       "        return WebSocket;\n",
       "    } else if (typeof(MozWebSocket) !== 'undefined') {\n",
       "        return MozWebSocket;\n",
       "    } else {\n",
       "        alert('Your browser does not have WebSocket support. ' +\n",
       "              'Please try Chrome, Safari or Firefox ≥ 6. ' +\n",
       "              'Firefox 4 and 5 are also supported but you ' +\n",
       "              'have to enable WebSockets in about:config.');\n",
       "    };\n",
       "}\n",
       "\n",
       "mpl.figure = function(figure_id, websocket, ondownload, parent_element) {\n",
       "    this.id = figure_id;\n",
       "\n",
       "    this.ws = websocket;\n",
       "\n",
       "    this.supports_binary = (this.ws.binaryType != undefined);\n",
       "\n",
       "    if (!this.supports_binary) {\n",
       "        var warnings = document.getElementById(\"mpl-warnings\");\n",
       "        if (warnings) {\n",
       "            warnings.style.display = 'block';\n",
       "            warnings.textContent = (\n",
       "                \"This browser does not support binary websocket messages. \" +\n",
       "                    \"Performance may be slow.\");\n",
       "        }\n",
       "    }\n",
       "\n",
       "    this.imageObj = new Image();\n",
       "\n",
       "    this.context = undefined;\n",
       "    this.message = undefined;\n",
       "    this.canvas = undefined;\n",
       "    this.rubberband_canvas = undefined;\n",
       "    this.rubberband_context = undefined;\n",
       "    this.format_dropdown = undefined;\n",
       "\n",
       "    this.image_mode = 'full';\n",
       "\n",
       "    this.root = $('<div/>');\n",
       "    this._root_extra_style(this.root)\n",
       "    this.root.attr('style', 'display: inline-block');\n",
       "\n",
       "    $(parent_element).append(this.root);\n",
       "\n",
       "    this._init_header(this);\n",
       "    this._init_canvas(this);\n",
       "    this._init_toolbar(this);\n",
       "\n",
       "    var fig = this;\n",
       "\n",
       "    this.waiting = false;\n",
       "\n",
       "    this.ws.onopen =  function () {\n",
       "            fig.send_message(\"supports_binary\", {value: fig.supports_binary});\n",
       "            fig.send_message(\"send_image_mode\", {});\n",
       "            if (mpl.ratio != 1) {\n",
       "                fig.send_message(\"set_dpi_ratio\", {'dpi_ratio': mpl.ratio});\n",
       "            }\n",
       "            fig.send_message(\"refresh\", {});\n",
       "        }\n",
       "\n",
       "    this.imageObj.onload = function() {\n",
       "            if (fig.image_mode == 'full') {\n",
       "                // Full images could contain transparency (where diff images\n",
       "                // almost always do), so we need to clear the canvas so that\n",
       "                // there is no ghosting.\n",
       "                fig.context.clearRect(0, 0, fig.canvas.width, fig.canvas.height);\n",
       "            }\n",
       "            fig.context.drawImage(fig.imageObj, 0, 0);\n",
       "        };\n",
       "\n",
       "    this.imageObj.onunload = function() {\n",
       "        fig.ws.close();\n",
       "    }\n",
       "\n",
       "    this.ws.onmessage = this._make_on_message_function(this);\n",
       "\n",
       "    this.ondownload = ondownload;\n",
       "}\n",
       "\n",
       "mpl.figure.prototype._init_header = function() {\n",
       "    var titlebar = $(\n",
       "        '<div class=\"ui-dialog-titlebar ui-widget-header ui-corner-all ' +\n",
       "        'ui-helper-clearfix\"/>');\n",
       "    var titletext = $(\n",
       "        '<div class=\"ui-dialog-title\" style=\"width: 100%; ' +\n",
       "        'text-align: center; padding: 3px;\"/>');\n",
       "    titlebar.append(titletext)\n",
       "    this.root.append(titlebar);\n",
       "    this.header = titletext[0];\n",
       "}\n",
       "\n",
       "\n",
       "\n",
       "mpl.figure.prototype._canvas_extra_style = function(canvas_div) {\n",
       "\n",
       "}\n",
       "\n",
       "\n",
       "mpl.figure.prototype._root_extra_style = function(canvas_div) {\n",
       "\n",
       "}\n",
       "\n",
       "mpl.figure.prototype._init_canvas = function() {\n",
       "    var fig = this;\n",
       "\n",
       "    var canvas_div = $('<div/>');\n",
       "\n",
       "    canvas_div.attr('style', 'position: relative; clear: both; outline: 0');\n",
       "\n",
       "    function canvas_keyboard_event(event) {\n",
       "        return fig.key_event(event, event['data']);\n",
       "    }\n",
       "\n",
       "    canvas_div.keydown('key_press', canvas_keyboard_event);\n",
       "    canvas_div.keyup('key_release', canvas_keyboard_event);\n",
       "    this.canvas_div = canvas_div\n",
       "    this._canvas_extra_style(canvas_div)\n",
       "    this.root.append(canvas_div);\n",
       "\n",
       "    var canvas = $('<canvas/>');\n",
       "    canvas.addClass('mpl-canvas');\n",
       "    canvas.attr('style', \"left: 0; top: 0; z-index: 0; outline: 0\")\n",
       "\n",
       "    this.canvas = canvas[0];\n",
       "    this.context = canvas[0].getContext(\"2d\");\n",
       "\n",
       "    var backingStore = this.context.backingStorePixelRatio ||\n",
       "\tthis.context.webkitBackingStorePixelRatio ||\n",
       "\tthis.context.mozBackingStorePixelRatio ||\n",
       "\tthis.context.msBackingStorePixelRatio ||\n",
       "\tthis.context.oBackingStorePixelRatio ||\n",
       "\tthis.context.backingStorePixelRatio || 1;\n",
       "\n",
       "    mpl.ratio = (window.devicePixelRatio || 1) / backingStore;\n",
       "\n",
       "    var rubberband = $('<canvas/>');\n",
       "    rubberband.attr('style', \"position: absolute; left: 0; top: 0; z-index: 1;\")\n",
       "\n",
       "    var pass_mouse_events = true;\n",
       "\n",
       "    canvas_div.resizable({\n",
       "        start: function(event, ui) {\n",
       "            pass_mouse_events = false;\n",
       "        },\n",
       "        resize: function(event, ui) {\n",
       "            fig.request_resize(ui.size.width, ui.size.height);\n",
       "        },\n",
       "        stop: function(event, ui) {\n",
       "            pass_mouse_events = true;\n",
       "            fig.request_resize(ui.size.width, ui.size.height);\n",
       "        },\n",
       "    });\n",
       "\n",
       "    function mouse_event_fn(event) {\n",
       "        if (pass_mouse_events)\n",
       "            return fig.mouse_event(event, event['data']);\n",
       "    }\n",
       "\n",
       "    rubberband.mousedown('button_press', mouse_event_fn);\n",
       "    rubberband.mouseup('button_release', mouse_event_fn);\n",
       "    // Throttle sequential mouse events to 1 every 20ms.\n",
       "    rubberband.mousemove('motion_notify', mouse_event_fn);\n",
       "\n",
       "    rubberband.mouseenter('figure_enter', mouse_event_fn);\n",
       "    rubberband.mouseleave('figure_leave', mouse_event_fn);\n",
       "\n",
       "    canvas_div.on(\"wheel\", function (event) {\n",
       "        event = event.originalEvent;\n",
       "        event['data'] = 'scroll'\n",
       "        if (event.deltaY < 0) {\n",
       "            event.step = 1;\n",
       "        } else {\n",
       "            event.step = -1;\n",
       "        }\n",
       "        mouse_event_fn(event);\n",
       "    });\n",
       "\n",
       "    canvas_div.append(canvas);\n",
       "    canvas_div.append(rubberband);\n",
       "\n",
       "    this.rubberband = rubberband;\n",
       "    this.rubberband_canvas = rubberband[0];\n",
       "    this.rubberband_context = rubberband[0].getContext(\"2d\");\n",
       "    this.rubberband_context.strokeStyle = \"#000000\";\n",
       "\n",
       "    this._resize_canvas = function(width, height) {\n",
       "        // Keep the size of the canvas, canvas container, and rubber band\n",
       "        // canvas in synch.\n",
       "        canvas_div.css('width', width)\n",
       "        canvas_div.css('height', height)\n",
       "\n",
       "        canvas.attr('width', width * mpl.ratio);\n",
       "        canvas.attr('height', height * mpl.ratio);\n",
       "        canvas.attr('style', 'width: ' + width + 'px; height: ' + height + 'px;');\n",
       "\n",
       "        rubberband.attr('width', width);\n",
       "        rubberband.attr('height', height);\n",
       "    }\n",
       "\n",
       "    // Set the figure to an initial 600x600px, this will subsequently be updated\n",
       "    // upon first draw.\n",
       "    this._resize_canvas(600, 600);\n",
       "\n",
       "    // Disable right mouse context menu.\n",
       "    $(this.rubberband_canvas).bind(\"contextmenu\",function(e){\n",
       "        return false;\n",
       "    });\n",
       "\n",
       "    function set_focus () {\n",
       "        canvas.focus();\n",
       "        canvas_div.focus();\n",
       "    }\n",
       "\n",
       "    window.setTimeout(set_focus, 100);\n",
       "}\n",
       "\n",
       "mpl.figure.prototype._init_toolbar = function() {\n",
       "    var fig = this;\n",
       "\n",
       "    var nav_element = $('<div/>');\n",
       "    nav_element.attr('style', 'width: 100%');\n",
       "    this.root.append(nav_element);\n",
       "\n",
       "    // Define a callback function for later on.\n",
       "    function toolbar_event(event) {\n",
       "        return fig.toolbar_button_onclick(event['data']);\n",
       "    }\n",
       "    function toolbar_mouse_event(event) {\n",
       "        return fig.toolbar_button_onmouseover(event['data']);\n",
       "    }\n",
       "\n",
       "    for(var toolbar_ind in mpl.toolbar_items) {\n",
       "        var name = mpl.toolbar_items[toolbar_ind][0];\n",
       "        var tooltip = mpl.toolbar_items[toolbar_ind][1];\n",
       "        var image = mpl.toolbar_items[toolbar_ind][2];\n",
       "        var method_name = mpl.toolbar_items[toolbar_ind][3];\n",
       "\n",
       "        if (!name) {\n",
       "            // put a spacer in here.\n",
       "            continue;\n",
       "        }\n",
       "        var button = $('<button/>');\n",
       "        button.addClass('ui-button ui-widget ui-state-default ui-corner-all ' +\n",
       "                        'ui-button-icon-only');\n",
       "        button.attr('role', 'button');\n",
       "        button.attr('aria-disabled', 'false');\n",
       "        button.click(method_name, toolbar_event);\n",
       "        button.mouseover(tooltip, toolbar_mouse_event);\n",
       "\n",
       "        var icon_img = $('<span/>');\n",
       "        icon_img.addClass('ui-button-icon-primary ui-icon');\n",
       "        icon_img.addClass(image);\n",
       "        icon_img.addClass('ui-corner-all');\n",
       "\n",
       "        var tooltip_span = $('<span/>');\n",
       "        tooltip_span.addClass('ui-button-text');\n",
       "        tooltip_span.html(tooltip);\n",
       "\n",
       "        button.append(icon_img);\n",
       "        button.append(tooltip_span);\n",
       "\n",
       "        nav_element.append(button);\n",
       "    }\n",
       "\n",
       "    var fmt_picker_span = $('<span/>');\n",
       "\n",
       "    var fmt_picker = $('<select/>');\n",
       "    fmt_picker.addClass('mpl-toolbar-option ui-widget ui-widget-content');\n",
       "    fmt_picker_span.append(fmt_picker);\n",
       "    nav_element.append(fmt_picker_span);\n",
       "    this.format_dropdown = fmt_picker[0];\n",
       "\n",
       "    for (var ind in mpl.extensions) {\n",
       "        var fmt = mpl.extensions[ind];\n",
       "        var option = $(\n",
       "            '<option/>', {selected: fmt === mpl.default_extension}).html(fmt);\n",
       "        fmt_picker.append(option);\n",
       "    }\n",
       "\n",
       "    // Add hover states to the ui-buttons\n",
       "    $( \".ui-button\" ).hover(\n",
       "        function() { $(this).addClass(\"ui-state-hover\");},\n",
       "        function() { $(this).removeClass(\"ui-state-hover\");}\n",
       "    );\n",
       "\n",
       "    var status_bar = $('<span class=\"mpl-message\"/>');\n",
       "    nav_element.append(status_bar);\n",
       "    this.message = status_bar[0];\n",
       "}\n",
       "\n",
       "mpl.figure.prototype.request_resize = function(x_pixels, y_pixels) {\n",
       "    // Request matplotlib to resize the figure. Matplotlib will then trigger a resize in the client,\n",
       "    // which will in turn request a refresh of the image.\n",
       "    this.send_message('resize', {'width': x_pixels, 'height': y_pixels});\n",
       "}\n",
       "\n",
       "mpl.figure.prototype.send_message = function(type, properties) {\n",
       "    properties['type'] = type;\n",
       "    properties['figure_id'] = this.id;\n",
       "    this.ws.send(JSON.stringify(properties));\n",
       "}\n",
       "\n",
       "mpl.figure.prototype.send_draw_message = function() {\n",
       "    if (!this.waiting) {\n",
       "        this.waiting = true;\n",
       "        this.ws.send(JSON.stringify({type: \"draw\", figure_id: this.id}));\n",
       "    }\n",
       "}\n",
       "\n",
       "\n",
       "mpl.figure.prototype.handle_save = function(fig, msg) {\n",
       "    var format_dropdown = fig.format_dropdown;\n",
       "    var format = format_dropdown.options[format_dropdown.selectedIndex].value;\n",
       "    fig.ondownload(fig, format);\n",
       "}\n",
       "\n",
       "\n",
       "mpl.figure.prototype.handle_resize = function(fig, msg) {\n",
       "    var size = msg['size'];\n",
       "    if (size[0] != fig.canvas.width || size[1] != fig.canvas.height) {\n",
       "        fig._resize_canvas(size[0], size[1]);\n",
       "        fig.send_message(\"refresh\", {});\n",
       "    };\n",
       "}\n",
       "\n",
       "mpl.figure.prototype.handle_rubberband = function(fig, msg) {\n",
       "    var x0 = msg['x0'] / mpl.ratio;\n",
       "    var y0 = (fig.canvas.height - msg['y0']) / mpl.ratio;\n",
       "    var x1 = msg['x1'] / mpl.ratio;\n",
       "    var y1 = (fig.canvas.height - msg['y1']) / mpl.ratio;\n",
       "    x0 = Math.floor(x0) + 0.5;\n",
       "    y0 = Math.floor(y0) + 0.5;\n",
       "    x1 = Math.floor(x1) + 0.5;\n",
       "    y1 = Math.floor(y1) + 0.5;\n",
       "    var min_x = Math.min(x0, x1);\n",
       "    var min_y = Math.min(y0, y1);\n",
       "    var width = Math.abs(x1 - x0);\n",
       "    var height = Math.abs(y1 - y0);\n",
       "\n",
       "    fig.rubberband_context.clearRect(\n",
       "        0, 0, fig.canvas.width / mpl.ratio, fig.canvas.height / mpl.ratio);\n",
       "\n",
       "    fig.rubberband_context.strokeRect(min_x, min_y, width, height);\n",
       "}\n",
       "\n",
       "mpl.figure.prototype.handle_figure_label = function(fig, msg) {\n",
       "    // Updates the figure title.\n",
       "    fig.header.textContent = msg['label'];\n",
       "}\n",
       "\n",
       "mpl.figure.prototype.handle_cursor = function(fig, msg) {\n",
       "    var cursor = msg['cursor'];\n",
       "    switch(cursor)\n",
       "    {\n",
       "    case 0:\n",
       "        cursor = 'pointer';\n",
       "        break;\n",
       "    case 1:\n",
       "        cursor = 'default';\n",
       "        break;\n",
       "    case 2:\n",
       "        cursor = 'crosshair';\n",
       "        break;\n",
       "    case 3:\n",
       "        cursor = 'move';\n",
       "        break;\n",
       "    }\n",
       "    fig.rubberband_canvas.style.cursor = cursor;\n",
       "}\n",
       "\n",
       "mpl.figure.prototype.handle_message = function(fig, msg) {\n",
       "    fig.message.textContent = msg['message'];\n",
       "}\n",
       "\n",
       "mpl.figure.prototype.handle_draw = function(fig, msg) {\n",
       "    // Request the server to send over a new figure.\n",
       "    fig.send_draw_message();\n",
       "}\n",
       "\n",
       "mpl.figure.prototype.handle_image_mode = function(fig, msg) {\n",
       "    fig.image_mode = msg['mode'];\n",
       "}\n",
       "\n",
       "mpl.figure.prototype.updated_canvas_event = function() {\n",
       "    // Called whenever the canvas gets updated.\n",
       "    this.send_message(\"ack\", {});\n",
       "}\n",
       "\n",
       "// A function to construct a web socket function for onmessage handling.\n",
       "// Called in the figure constructor.\n",
       "mpl.figure.prototype._make_on_message_function = function(fig) {\n",
       "    return function socket_on_message(evt) {\n",
       "        if (evt.data instanceof Blob) {\n",
       "            /* FIXME: We get \"Resource interpreted as Image but\n",
       "             * transferred with MIME type text/plain:\" errors on\n",
       "             * Chrome.  But how to set the MIME type?  It doesn't seem\n",
       "             * to be part of the websocket stream */\n",
       "            evt.data.type = \"image/png\";\n",
       "\n",
       "            /* Free the memory for the previous frames */\n",
       "            if (fig.imageObj.src) {\n",
       "                (window.URL || window.webkitURL).revokeObjectURL(\n",
       "                    fig.imageObj.src);\n",
       "            }\n",
       "\n",
       "            fig.imageObj.src = (window.URL || window.webkitURL).createObjectURL(\n",
       "                evt.data);\n",
       "            fig.updated_canvas_event();\n",
       "            fig.waiting = false;\n",
       "            return;\n",
       "        }\n",
       "        else if (typeof evt.data === 'string' && evt.data.slice(0, 21) == \"data:image/png;base64\") {\n",
       "            fig.imageObj.src = evt.data;\n",
       "            fig.updated_canvas_event();\n",
       "            fig.waiting = false;\n",
       "            return;\n",
       "        }\n",
       "\n",
       "        var msg = JSON.parse(evt.data);\n",
       "        var msg_type = msg['type'];\n",
       "\n",
       "        // Call the  \"handle_{type}\" callback, which takes\n",
       "        // the figure and JSON message as its only arguments.\n",
       "        try {\n",
       "            var callback = fig[\"handle_\" + msg_type];\n",
       "        } catch (e) {\n",
       "            console.log(\"No handler for the '\" + msg_type + \"' message type: \", msg);\n",
       "            return;\n",
       "        }\n",
       "\n",
       "        if (callback) {\n",
       "            try {\n",
       "                // console.log(\"Handling '\" + msg_type + \"' message: \", msg);\n",
       "                callback(fig, msg);\n",
       "            } catch (e) {\n",
       "                console.log(\"Exception inside the 'handler_\" + msg_type + \"' callback:\", e, e.stack, msg);\n",
       "            }\n",
       "        }\n",
       "    };\n",
       "}\n",
       "\n",
       "// from http://stackoverflow.com/questions/1114465/getting-mouse-location-in-canvas\n",
       "mpl.findpos = function(e) {\n",
       "    //this section is from http://www.quirksmode.org/js/events_properties.html\n",
       "    var targ;\n",
       "    if (!e)\n",
       "        e = window.event;\n",
       "    if (e.target)\n",
       "        targ = e.target;\n",
       "    else if (e.srcElement)\n",
       "        targ = e.srcElement;\n",
       "    if (targ.nodeType == 3) // defeat Safari bug\n",
       "        targ = targ.parentNode;\n",
       "\n",
       "    // jQuery normalizes the pageX and pageY\n",
       "    // pageX,Y are the mouse positions relative to the document\n",
       "    // offset() returns the position of the element relative to the document\n",
       "    var x = e.pageX - $(targ).offset().left;\n",
       "    var y = e.pageY - $(targ).offset().top;\n",
       "\n",
       "    return {\"x\": x, \"y\": y};\n",
       "};\n",
       "\n",
       "/*\n",
       " * return a copy of an object with only non-object keys\n",
       " * we need this to avoid circular references\n",
       " * http://stackoverflow.com/a/24161582/3208463\n",
       " */\n",
       "function simpleKeys (original) {\n",
       "  return Object.keys(original).reduce(function (obj, key) {\n",
       "    if (typeof original[key] !== 'object')\n",
       "        obj[key] = original[key]\n",
       "    return obj;\n",
       "  }, {});\n",
       "}\n",
       "\n",
       "mpl.figure.prototype.mouse_event = function(event, name) {\n",
       "    var canvas_pos = mpl.findpos(event)\n",
       "\n",
       "    if (name === 'button_press')\n",
       "    {\n",
       "        this.canvas.focus();\n",
       "        this.canvas_div.focus();\n",
       "    }\n",
       "\n",
       "    var x = canvas_pos.x * mpl.ratio;\n",
       "    var y = canvas_pos.y * mpl.ratio;\n",
       "\n",
       "    this.send_message(name, {x: x, y: y, button: event.button,\n",
       "                             step: event.step,\n",
       "                             guiEvent: simpleKeys(event)});\n",
       "\n",
       "    /* This prevents the web browser from automatically changing to\n",
       "     * the text insertion cursor when the button is pressed.  We want\n",
       "     * to control all of the cursor setting manually through the\n",
       "     * 'cursor' event from matplotlib */\n",
       "    event.preventDefault();\n",
       "    return false;\n",
       "}\n",
       "\n",
       "mpl.figure.prototype._key_event_extra = function(event, name) {\n",
       "    // Handle any extra behaviour associated with a key event\n",
       "}\n",
       "\n",
       "mpl.figure.prototype.key_event = function(event, name) {\n",
       "\n",
       "    // Prevent repeat events\n",
       "    if (name == 'key_press')\n",
       "    {\n",
       "        if (event.which === this._key)\n",
       "            return;\n",
       "        else\n",
       "            this._key = event.which;\n",
       "    }\n",
       "    if (name == 'key_release')\n",
       "        this._key = null;\n",
       "\n",
       "    var value = '';\n",
       "    if (event.ctrlKey && event.which != 17)\n",
       "        value += \"ctrl+\";\n",
       "    if (event.altKey && event.which != 18)\n",
       "        value += \"alt+\";\n",
       "    if (event.shiftKey && event.which != 16)\n",
       "        value += \"shift+\";\n",
       "\n",
       "    value += 'k';\n",
       "    value += event.which.toString();\n",
       "\n",
       "    this._key_event_extra(event, name);\n",
       "\n",
       "    this.send_message(name, {key: value,\n",
       "                             guiEvent: simpleKeys(event)});\n",
       "    return false;\n",
       "}\n",
       "\n",
       "mpl.figure.prototype.toolbar_button_onclick = function(name) {\n",
       "    if (name == 'download') {\n",
       "        this.handle_save(this, null);\n",
       "    } else {\n",
       "        this.send_message(\"toolbar_button\", {name: name});\n",
       "    }\n",
       "};\n",
       "\n",
       "mpl.figure.prototype.toolbar_button_onmouseover = function(tooltip) {\n",
       "    this.message.textContent = tooltip;\n",
       "};\n",
       "mpl.toolbar_items = [[\"Home\", \"Reset original view\", \"fa fa-home icon-home\", \"home\"], [\"Back\", \"Back to previous view\", \"fa fa-arrow-left icon-arrow-left\", \"back\"], [\"Forward\", \"Forward to next view\", \"fa fa-arrow-right icon-arrow-right\", \"forward\"], [\"\", \"\", \"\", \"\"], [\"Pan\", \"Pan axes with left mouse, zoom with right\", \"fa fa-arrows icon-move\", \"pan\"], [\"Zoom\", \"Zoom to rectangle\", \"fa fa-square-o icon-check-empty\", \"zoom\"], [\"\", \"\", \"\", \"\"], [\"Download\", \"Download plot\", \"fa fa-floppy-o icon-save\", \"download\"]];\n",
       "\n",
       "mpl.extensions = [\"eps\", \"jpeg\", \"pdf\", \"png\", \"ps\", \"raw\", \"svg\", \"tif\"];\n",
       "\n",
       "mpl.default_extension = \"png\";var comm_websocket_adapter = function(comm) {\n",
       "    // Create a \"websocket\"-like object which calls the given IPython comm\n",
       "    // object with the appropriate methods. Currently this is a non binary\n",
       "    // socket, so there is still some room for performance tuning.\n",
       "    var ws = {};\n",
       "\n",
       "    ws.close = function() {\n",
       "        comm.close()\n",
       "    };\n",
       "    ws.send = function(m) {\n",
       "        //console.log('sending', m);\n",
       "        comm.send(m);\n",
       "    };\n",
       "    // Register the callback with on_msg.\n",
       "    comm.on_msg(function(msg) {\n",
       "        //console.log('receiving', msg['content']['data'], msg);\n",
       "        // Pass the mpl event to the overridden (by mpl) onmessage function.\n",
       "        ws.onmessage(msg['content']['data'])\n",
       "    });\n",
       "    return ws;\n",
       "}\n",
       "\n",
       "mpl.mpl_figure_comm = function(comm, msg) {\n",
       "    // This is the function which gets called when the mpl process\n",
       "    // starts-up an IPython Comm through the \"matplotlib\" channel.\n",
       "\n",
       "    var id = msg.content.data.id;\n",
       "    // Get hold of the div created by the display call when the Comm\n",
       "    // socket was opened in Python.\n",
       "    var element = $(\"#\" + id);\n",
       "    var ws_proxy = comm_websocket_adapter(comm)\n",
       "\n",
       "    function ondownload(figure, format) {\n",
       "        window.open(figure.imageObj.src);\n",
       "    }\n",
       "\n",
       "    var fig = new mpl.figure(id, ws_proxy,\n",
       "                           ondownload,\n",
       "                           element.get(0));\n",
       "\n",
       "    // Call onopen now - mpl needs it, as it is assuming we've passed it a real\n",
       "    // web socket which is closed, not our websocket->open comm proxy.\n",
       "    ws_proxy.onopen();\n",
       "\n",
       "    fig.parent_element = element.get(0);\n",
       "    fig.cell_info = mpl.find_output_cell(\"<div id='\" + id + \"'></div>\");\n",
       "    if (!fig.cell_info) {\n",
       "        console.error(\"Failed to find cell for figure\", id, fig);\n",
       "        return;\n",
       "    }\n",
       "\n",
       "    var output_index = fig.cell_info[2]\n",
       "    var cell = fig.cell_info[0];\n",
       "\n",
       "};\n",
       "\n",
       "mpl.figure.prototype.handle_close = function(fig, msg) {\n",
       "    var width = fig.canvas.width/mpl.ratio\n",
       "    fig.root.unbind('remove')\n",
       "\n",
       "    // Update the output cell to use the data from the current canvas.\n",
       "    fig.push_to_output();\n",
       "    var dataURL = fig.canvas.toDataURL();\n",
       "    // Re-enable the keyboard manager in IPython - without this line, in FF,\n",
       "    // the notebook keyboard shortcuts fail.\n",
       "    IPython.keyboard_manager.enable()\n",
       "    $(fig.parent_element).html('<img src=\"' + dataURL + '\" width=\"' + width + '\">');\n",
       "    fig.close_ws(fig, msg);\n",
       "}\n",
       "\n",
       "mpl.figure.prototype.close_ws = function(fig, msg){\n",
       "    fig.send_message('closing', msg);\n",
       "    // fig.ws.close()\n",
       "}\n",
       "\n",
       "mpl.figure.prototype.push_to_output = function(remove_interactive) {\n",
       "    // Turn the data on the canvas into data in the output cell.\n",
       "    var width = this.canvas.width/mpl.ratio\n",
       "    var dataURL = this.canvas.toDataURL();\n",
       "    this.cell_info[1]['text/html'] = '<img src=\"' + dataURL + '\" width=\"' + width + '\">';\n",
       "}\n",
       "\n",
       "mpl.figure.prototype.updated_canvas_event = function() {\n",
       "    // Tell IPython that the notebook contents must change.\n",
       "    IPython.notebook.set_dirty(true);\n",
       "    this.send_message(\"ack\", {});\n",
       "    var fig = this;\n",
       "    // Wait a second, then push the new image to the DOM so\n",
       "    // that it is saved nicely (might be nice to debounce this).\n",
       "    setTimeout(function () { fig.push_to_output() }, 1000);\n",
       "}\n",
       "\n",
       "mpl.figure.prototype._init_toolbar = function() {\n",
       "    var fig = this;\n",
       "\n",
       "    var nav_element = $('<div/>');\n",
       "    nav_element.attr('style', 'width: 100%');\n",
       "    this.root.append(nav_element);\n",
       "\n",
       "    // Define a callback function for later on.\n",
       "    function toolbar_event(event) {\n",
       "        return fig.toolbar_button_onclick(event['data']);\n",
       "    }\n",
       "    function toolbar_mouse_event(event) {\n",
       "        return fig.toolbar_button_onmouseover(event['data']);\n",
       "    }\n",
       "\n",
       "    for(var toolbar_ind in mpl.toolbar_items){\n",
       "        var name = mpl.toolbar_items[toolbar_ind][0];\n",
       "        var tooltip = mpl.toolbar_items[toolbar_ind][1];\n",
       "        var image = mpl.toolbar_items[toolbar_ind][2];\n",
       "        var method_name = mpl.toolbar_items[toolbar_ind][3];\n",
       "\n",
       "        if (!name) { continue; };\n",
       "\n",
       "        var button = $('<button class=\"btn btn-default\" href=\"#\" title=\"' + name + '\"><i class=\"fa ' + image + ' fa-lg\"></i></button>');\n",
       "        button.click(method_name, toolbar_event);\n",
       "        button.mouseover(tooltip, toolbar_mouse_event);\n",
       "        nav_element.append(button);\n",
       "    }\n",
       "\n",
       "    // Add the status bar.\n",
       "    var status_bar = $('<span class=\"mpl-message\" style=\"text-align:right; float: right;\"/>');\n",
       "    nav_element.append(status_bar);\n",
       "    this.message = status_bar[0];\n",
       "\n",
       "    // Add the close button to the window.\n",
       "    var buttongrp = $('<div class=\"btn-group inline pull-right\"></div>');\n",
       "    var button = $('<button class=\"btn btn-mini btn-primary\" href=\"#\" title=\"Stop Interaction\"><i class=\"fa fa-power-off icon-remove icon-large\"></i></button>');\n",
       "    button.click(function (evt) { fig.handle_close(fig, {}); } );\n",
       "    button.mouseover('Stop Interaction', toolbar_mouse_event);\n",
       "    buttongrp.append(button);\n",
       "    var titlebar = this.root.find($('.ui-dialog-titlebar'));\n",
       "    titlebar.prepend(buttongrp);\n",
       "}\n",
       "\n",
       "mpl.figure.prototype._root_extra_style = function(el){\n",
       "    var fig = this\n",
       "    el.on(\"remove\", function(){\n",
       "\tfig.close_ws(fig, {});\n",
       "    });\n",
       "}\n",
       "\n",
       "mpl.figure.prototype._canvas_extra_style = function(el){\n",
       "    // this is important to make the div 'focusable\n",
       "    el.attr('tabindex', 0)\n",
       "    // reach out to IPython and tell the keyboard manager to turn it's self\n",
       "    // off when our div gets focus\n",
       "\n",
       "    // location in version 3\n",
       "    if (IPython.notebook.keyboard_manager) {\n",
       "        IPython.notebook.keyboard_manager.register_events(el);\n",
       "    }\n",
       "    else {\n",
       "        // location in version 2\n",
       "        IPython.keyboard_manager.register_events(el);\n",
       "    }\n",
       "\n",
       "}\n",
       "\n",
       "mpl.figure.prototype._key_event_extra = function(event, name) {\n",
       "    var manager = IPython.notebook.keyboard_manager;\n",
       "    if (!manager)\n",
       "        manager = IPython.keyboard_manager;\n",
       "\n",
       "    // Check for shift+enter\n",
       "    if (event.shiftKey && event.which == 13) {\n",
       "        this.canvas_div.blur();\n",
       "        // select the cell after this one\n",
       "        var index = IPython.notebook.find_cell_index(this.cell_info[0]);\n",
       "        IPython.notebook.select(index + 1);\n",
       "    }\n",
       "}\n",
       "\n",
       "mpl.figure.prototype.handle_save = function(fig, msg) {\n",
       "    fig.ondownload(fig, null);\n",
       "}\n",
       "\n",
       "\n",
       "mpl.find_output_cell = function(html_output) {\n",
       "    // Return the cell and output element which can be found *uniquely* in the notebook.\n",
       "    // Note - this is a bit hacky, but it is done because the \"notebook_saving.Notebook\"\n",
       "    // IPython event is triggered only after the cells have been serialised, which for\n",
       "    // our purposes (turning an active figure into a static one), is too late.\n",
       "    var cells = IPython.notebook.get_cells();\n",
       "    var ncells = cells.length;\n",
       "    for (var i=0; i<ncells; i++) {\n",
       "        var cell = cells[i];\n",
       "        if (cell.cell_type === 'code'){\n",
       "            for (var j=0; j<cell.output_area.outputs.length; j++) {\n",
       "                var data = cell.output_area.outputs[j];\n",
       "                if (data.data) {\n",
       "                    // IPython >= 3 moved mimebundle to data attribute of output\n",
       "                    data = data.data;\n",
       "                }\n",
       "                if (data['text/html'] == html_output) {\n",
       "                    return [cell, data, j];\n",
       "                }\n",
       "            }\n",
       "        }\n",
       "    }\n",
       "}\n",
       "\n",
       "// Register the function which deals with the matplotlib target/channel.\n",
       "// The kernel may be null if the page has been refreshed.\n",
       "if (IPython.notebook.kernel != null) {\n",
       "    IPython.notebook.kernel.comm_manager.register_target('matplotlib', mpl.mpl_figure_comm);\n",
       "}\n"
      ],
      "text/plain": [
       "<IPython.core.display.Javascript object>"
      ]
     },
     "metadata": {},
     "output_type": "display_data"
    },
    {
     "data": {
      "text/html": [
       "<img src=\"data:image/png;base64,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\" width=\"1000\">"
      ],
      "text/plain": [
       "<IPython.core.display.HTML object>"
      ]
     },
     "metadata": {},
     "output_type": "display_data"
    }
   ],
   "source": [
    "dual_train_plots(results.index,\n",
    "                 results.cost, results.val,\n",
    "                 results.cost, results.val)\n",
    "plt.tight_layout()\n",
    "plt.savefig(str(output / f'{name}_stats_a.png'))"
   ]
  },
  {
   "cell_type": "code",
   "execution_count": 21,
   "metadata": {},
   "outputs": [],
   "source": [
    "##quit()"
   ]
  },
  {
   "cell_type": "code",
   "execution_count": null,
   "metadata": {},
   "outputs": [],
   "source": []
  },
  {
   "cell_type": "code",
   "execution_count": null,
   "metadata": {},
   "outputs": [],
   "source": []
  }
 ],
 "metadata": {
  "kernelspec": {
   "display_name": "june2020-gpu",
   "language": "python",
   "name": "june2020-gpu"
  },
  "language_info": {
   "codemirror_mode": {
    "name": "ipython",
    "version": 3
   },
   "file_extension": ".py",
   "mimetype": "text/x-python",
   "name": "python",
   "nbconvert_exporter": "python",
   "pygments_lexer": "ipython3",
   "version": "3.7.6"
  }
 },
 "nbformat": 4,
 "nbformat_minor": 2
}
