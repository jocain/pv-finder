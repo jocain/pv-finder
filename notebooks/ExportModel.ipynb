{
 "cells": [
  {
   "cell_type": "code",
   "execution_count": 1,
   "metadata": {},
   "outputs": [],
   "source": [
    "##%matplotlib widget\n",
    "## with %matplotlib notebook: seems to require ipympl as part of environment, either\n",
    "## part of the conda environment or \"pip install ipympl\"\n",
    "## otherwise, does not show ANY plots in note\"book, plt.savefig() works\n",
    "%matplotlib notebook  \n",
    "##%matplotlib inline    ## --plt.savefig()  works, but re-sizing does NOT\n"
   ]
  },
  {
   "cell_type": "markdown",
   "metadata": {},
   "source": [
    "Check the current GPU usage. Please try to be nice!"
   ]
  },
  {
   "cell_type": "code",
   "execution_count": 2,
   "metadata": {},
   "outputs": [
    {
     "name": "stdout",
     "output_type": "stream",
     "text": [
      "Tue Apr 13 11:00:31 2021       \n",
      "+-----------------------------------------------------------------------------+\n",
      "| NVIDIA-SMI 440.64.00    Driver Version: 440.64.00    CUDA Version: 10.2     |\n",
      "|-------------------------------+----------------------+----------------------+\n",
      "| GPU  Name        Persistence-M| Bus-Id        Disp.A | Volatile Uncorr. ECC |\n",
      "| Fan  Temp  Perf  Pwr:Usage/Cap|         Memory-Usage | GPU-Util  Compute M. |\n",
      "|===============================+======================+======================|\n",
      "|   0  TITAN V             Off  | 00000000:03:00.0 Off |                  N/A |\n",
      "| 28%   31C    P2    32W / 250W |   9749MiB / 12066MiB |      0%      Default |\n",
      "+-------------------------------+----------------------+----------------------+\n",
      "|   1  Tesla P100-PCIE...  Off  | 00000000:83:00.0 Off |                    0 |\n",
      "| N/A   32C    P0    28W / 250W |      0MiB / 16280MiB |      0%      Default |\n",
      "+-------------------------------+----------------------+----------------------+\n",
      "|   2  TITAN V             Off  | 00000000:84:00.0 Off |                  N/A |\n",
      "| 28%   33C    P8    25W / 250W |   9749MiB / 12066MiB |      0%      Default |\n",
      "+-------------------------------+----------------------+----------------------+\n",
      "                                                                               \n",
      "+-----------------------------------------------------------------------------+\n",
      "| Processes:                                                       GPU Memory |\n",
      "|  GPU       PID   Type   Process name                             Usage      |\n",
      "|=============================================================================|\n",
      "|    0     15984      C   ...a/conda/envs/goofit-june2020/bin/python  9737MiB |\n",
      "|    2     15907      C   ...a/conda/envs/goofit-june2020/bin/python  9737MiB |\n",
      "+-----------------------------------------------------------------------------+\n"
     ]
    }
   ],
   "source": [
    "!nvidia-smi"
   ]
  },
  {
   "cell_type": "markdown",
   "metadata": {},
   "source": [
    "> **WARNING**: The card numbers here are *not* the same as in CUDA. You have been warned."
   ]
  },
  {
   "cell_type": "markdown",
   "metadata": {},
   "source": [
    "This notebook is first attempt to read in track information and use it to predict the KDE used as input to PvFinder.\n"
   ]
  },
  {
   "cell_type": "markdown",
   "metadata": {},
   "source": [
    "## Imports"
   ]
  },
  {
   "cell_type": "code",
   "execution_count": 3,
   "metadata": {},
   "outputs": [],
   "source": [
    "import matplotlib.pyplot as plt\n",
    "import numpy as np\n",
    "import time\n",
    "import torch\n",
    "import pandas as pd\n",
    "\n",
    "# Python 3 standard library\n",
    "from pathlib import Path\n",
    "\n",
    "##from torchsummary import summary"
   ]
  },
  {
   "cell_type": "markdown",
   "metadata": {},
   "source": [
    "## Get the helper functions\n",
    "\n",
    "Add the directory with the model\n",
    "definitions to the path so we can import from it:\n",
    "\n",
    "> When you type `import X`,\n",
    "Python searches `sys.path` for a python\n",
    "file named `X.py` to import. So we need to add the model directory to the path."
   ]
  },
  {
   "cell_type": "code",
   "execution_count": 4,
   "metadata": {},
   "outputs": [],
   "source": [
    "from model.models_mds_G_simon import AllCNN8Layer_Ca_Two_KDE_withPcnn as Model"
   ]
  },
  {
   "cell_type": "code",
   "execution_count": 5,
   "metadata": {},
   "outputs": [
    {
     "name": "stdout",
     "output_type": "stream",
     "text": [
      "1 available GPUs (initially using device 0):\n",
      "  0 TITAN V\n"
     ]
    }
   ],
   "source": [
    "from model.training_kde import trainNet, select_gpu, Results\n",
    "device = select_gpu(0)"
   ]
  },
  {
   "cell_type": "code",
   "execution_count": 6,
   "metadata": {},
   "outputs": [],
   "source": [
    "model = Model()"
   ]
  },
  {
   "cell_type": "code",
   "execution_count": 7,
   "metadata": {},
   "outputs": [
    {
     "name": "stdout",
     "output_type": "stream",
     "text": [
      "ct, child =  0    Softplus(beta=1, threshold=20)\n",
      "ct, child =  1    LeakyReLU(negative_slope=0.01)\n",
      "ct, child =  2    LeakyReLU(negative_slope=0.0)\n",
      "ct, child =  3    Conv1d(2, 25, kernel_size=(25,), stride=(1,), padding=(12,))\n",
      "ct, child =  4    Conv1d(25, 25, kernel_size=(15,), stride=(1,), padding=(7,))\n",
      "ct, child =  5    Conv1d(25, 25, kernel_size=(15,), stride=(1,), padding=(7,))\n",
      "ct, child =  6    Conv1d(25, 25, kernel_size=(15,), stride=(1,), padding=(7,))\n",
      "ct, child =  7    Conv1d(25, 25, kernel_size=(15,), stride=(1,), padding=(7,))\n",
      "ct, child =  8    Conv1d(25, 25, kernel_size=(15,), stride=(1,), padding=(7,))\n",
      "ct, child =  9    Conv1d(25, 1, kernel_size=(5,), stride=(1,), padding=(2,))\n",
      "ct, child =  10    Dropout(p=0.15, inplace=False)\n",
      "ct, child =  11    Dropout(p=0.15, inplace=False)\n",
      "ct, child =  12    Dropout(p=0.15, inplace=False)\n",
      "ct, child =  13    Dropout(p=0.15, inplace=False)\n",
      "ct, child =  14    Dropout(p=0.15, inplace=False)\n",
      "ct, child =  15    Dropout(p=0.15, inplace=False)\n",
      "ct, child =  16    Dropout(p=0.15, inplace=False)\n",
      "ct, child =  17    Linear(in_features=4000, out_features=4000, bias=True)\n",
      "ct, child =  18    Conv1d(1, 1, kernel_size=(91,), stride=(1,), padding=(45,))\n",
      "ct, child =  19    Conv1d(2, 20, kernel_size=(25,), stride=(1,), padding=(12,))\n",
      "ct, child =  20    Conv1d(20, 15, kernel_size=(15,), stride=(1,), padding=(7,))\n",
      "ct, child =  21    Conv1d(15, 1, kernel_size=(5,), stride=(1,), padding=(2,))\n",
      "ct, child =  22    Linear(in_features=4000, out_features=4000, bias=True)\n",
      "ct, child =  23    Conv1d(1, 1, kernel_size=(31,), stride=(1,), padding=(15,))\n"
     ]
    }
   ],
   "source": [
    "ct = 0\n",
    "for child in model.children():\n",
    "  print('ct, child = ',ct, \"  \", child)\n",
    "  if ct < 0:\n",
    "    print(\"     About to set param.requires_grad=False for ct = \", ct, \"params\")\n",
    "    for param in child.parameters():\n",
    "        # fixing parameters\n",
    "        param.requires_grad = False \n",
    "  ct += 1\n"
   ]
  },
  {
   "cell_type": "code",
   "execution_count": 8,
   "metadata": {},
   "outputs": [],
   "source": [
    "model = model.to(device)"
   ]
  },
  {
   "cell_type": "code",
   "execution_count": 9,
   "metadata": {},
   "outputs": [
    {
     "data": {
      "text/plain": [
       "AllCNN8Layer_Ca_Two_KDE_withPcnn(\n",
       "  (softplus): Softplus(beta=1, threshold=20)\n",
       "  (leaky): LeakyReLU(negative_slope=0.01)\n",
       "  (relu): LeakyReLU(negative_slope=0.0)\n",
       "  (conv1): Conv1d(2, 25, kernel_size=(25,), stride=(1,), padding=(12,))\n",
       "  (conv2): Conv1d(25, 25, kernel_size=(15,), stride=(1,), padding=(7,))\n",
       "  (conv3): Conv1d(25, 25, kernel_size=(15,), stride=(1,), padding=(7,))\n",
       "  (conv4): Conv1d(25, 25, kernel_size=(15,), stride=(1,), padding=(7,))\n",
       "  (conv5): Conv1d(25, 25, kernel_size=(15,), stride=(1,), padding=(7,))\n",
       "  (conv6): Conv1d(25, 25, kernel_size=(15,), stride=(1,), padding=(7,))\n",
       "  (conv7): Conv1d(25, 1, kernel_size=(5,), stride=(1,), padding=(2,))\n",
       "  (conv1dropout): Dropout(p=0.15, inplace=False)\n",
       "  (conv2dropout): Dropout(p=0.15, inplace=False)\n",
       "  (conv3dropout): Dropout(p=0.15, inplace=False)\n",
       "  (conv4dropout): Dropout(p=0.15, inplace=False)\n",
       "  (conv5dropout): Dropout(p=0.15, inplace=False)\n",
       "  (conv6dropout): Dropout(p=0.15, inplace=False)\n",
       "  (conv7dropout): Dropout(p=0.15, inplace=False)\n",
       "  (fc1): Linear(in_features=4000, out_features=4000, bias=True)\n",
       "  (finalFilter): Conv1d(1, 1, kernel_size=(91,), stride=(1,), padding=(45,))\n",
       "  (ppConv1): Conv1d(2, 20, kernel_size=(25,), stride=(1,), padding=(12,))\n",
       "  (ppConv2): Conv1d(20, 15, kernel_size=(15,), stride=(1,), padding=(7,))\n",
       "  (ppConv3): Conv1d(15, 1, kernel_size=(5,), stride=(1,), padding=(2,))\n",
       "  (ppFc1): Linear(in_features=4000, out_features=4000, bias=True)\n",
       "  (ppFinalFilter): Conv1d(1, 1, kernel_size=(31,), stride=(1,), padding=(15,))\n",
       ")"
      ]
     },
     "execution_count": 9,
     "metadata": {},
     "output_type": "execute_result"
    }
   ],
   "source": [
    "model_dict = model.state_dict()\n",
    "dict_name = 'ML/18December2020_AllCNN8Layer_withPcnn_50epochs_moreDataIter1_lr_5em7_aymm_15p0/18December2020_AllCNN8Layer_withPcnn_50epochs_moreDataIter1_lr_5em7_aymm_15p0_final.pyt'\n",
    "pretrained_dict = torch.load(dict_name)\n",
    "model_dict.update(pretrained_dict) \n",
    "model.load_state_dict(pretrained_dict,strict=False)\n",
    "model.eval()"
   ]
  },
  {
   "cell_type": "code",
   "execution_count": 10,
   "metadata": {},
   "outputs": [],
   "source": [
    "torch.jit.script(model).save(\"ML_dir/18December2020_AllCNN8Layer_withPcnn_50epochs_moreDataIter1_lr_5em7_aymm_15p0_final.pt\")"
   ]
  },
  {
   "cell_type": "code",
   "execution_count": null,
   "metadata": {},
   "outputs": [],
   "source": []
  },
  {
   "cell_type": "code",
   "execution_count": null,
   "metadata": {},
   "outputs": [],
   "source": []
  },
  {
   "cell_type": "code",
   "execution_count": null,
   "metadata": {},
   "outputs": [],
   "source": []
  },
  {
   "cell_type": "code",
   "execution_count": null,
   "metadata": {},
   "outputs": [],
   "source": []
  },
  {
   "cell_type": "code",
   "execution_count": null,
   "metadata": {},
   "outputs": [],
   "source": []
  },
  {
   "cell_type": "code",
   "execution_count": null,
   "metadata": {},
   "outputs": [],
   "source": []
  }
 ],
 "metadata": {
  "kernelspec": {
   "display_name": "goofit-june2020",
   "language": "python",
   "name": "goofit-june2020"
  },
  "language_info": {
   "codemirror_mode": {
    "name": "ipython",
    "version": 3
   },
   "file_extension": ".py",
   "mimetype": "text/x-python",
   "name": "python",
   "nbconvert_exporter": "python",
   "pygments_lexer": "ipython3",
   "version": "3.7.6"
  }
 },
 "nbformat": 4,
 "nbformat_minor": 2
}
