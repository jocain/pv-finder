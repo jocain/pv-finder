{
 "cells": [
  {
   "cell_type": "code",
   "execution_count": 1,
   "metadata": {},
   "outputs": [],
   "source": [
    "import torch\n",
    "from pathlib import Path\n",
    "import numpy as np\n",
    "from collections import Counter, OrderedDict\n"
   ]
  },
  {
   "cell_type": "code",
   "execution_count": 2,
   "metadata": {},
   "outputs": [],
   "source": [
    "import matplotlib.pyplot as plt\n",
    "plt.style.use('model/lhcb.mplstyle')"
   ]
  },
  {
   "cell_type": "code",
   "execution_count": 3,
   "metadata": {},
   "outputs": [],
   "source": [
    "#from model.models import AltCNN4Layer_D35_sp as Model\n",
    "from model.models_mds_G_simon import AllCNN8Layer_Ca_Two_KDE_withPcnn as Model\n",
    "\n",
    "from model.collectdata import collect_data, collect_truth\n",
    "from model.collectdata_poca_KDE import collect_data_poca\n",
    "\n",
    "from model.plots import plot_truth_vs_predict\n",
    "from model.efficiency import efficiency, ValueSet, pv_locations, exact_efficiency\n",
    "from model.efficiency_res import filter_nans_res, efficiency_res, ValueSet_res, pv_locations_res, pv_locations_updated_res, get_resolution, get_nTracks_sorted, get_PVs_label\n",
    "from model.training import select_gpu\n",
    "from model.core import modernize_state"
   ]
  },
  {
   "cell_type": "markdown",
   "metadata": {},
   "source": [
    "#### Device configuration"
   ]
  },
  {
   "cell_type": "code",
   "execution_count": 4,
   "metadata": {},
   "outputs": [],
   "source": [
    "# device = select_gpu(2)\n",
    "device = torch.device(\"cpu\")"
   ]
  },
  {
   "cell_type": "markdown",
   "metadata": {},
   "source": [
    "#### Load a dataset"
   ]
  },
  {
   "cell_type": "code",
   "execution_count": 5,
   "metadata": {},
   "outputs": [
    {
     "name": "stdout",
     "output_type": "stream",
     "text": [
      "Loaded /share/lazy/schreihf/PvFinder/Oct03_20K_val.h5 in 0.02733 s\n",
      "Loaded /share/lazy/sokoloff/ML-data_AA/pv_HLT1CPU_MinBiasMagDown_14Nov.h5 in 0.03538 s\n",
      "Loaded /share/lazy/sokoloff/ML-data_AA/pv_HLT1CPU_MinBiasMagDown_14Nov.h5 in 0.1416 s\n",
      "----------------------------------------------------------------------------------------------------\n",
      "\n",
      "WARNING ::: The data type of pv_HLT1CPU_MinBiasMagDown_14Nov.h5 and Oct03_20K_val.h5 \n",
      "files are different for some variables: i.e.\n",
      "\n",
      "Toy  MC true z: <class 'numpy.float32'>\n",
      "Full MC true z: <class 'numpy.float64'>\n",
      "\n",
      "This causes an issue when calling some of the numba functions in model.efficiency_res.py\n",
      "\n",
      "----------------------------------------------------------------------------------------------------\n"
     ]
    }
   ],
   "source": [
    "valfile_ToyMC = Path('/share/lazy/schreihf/PvFinder/Oct03_20K_val.h5')\n",
    "valfile_FullMC = Path('/share/lazy/sokoloff/ML-data_AA/pv_HLT1CPU_MinBiasMagDown_14Nov.h5')\n",
    "'''\n",
    "WARNING ::: The data type of pv_HLT1CPU_MinBiasMagDown_14Nov.h5 and Oct03_20K_val.h5 \n",
    "            files are different for some variables: i.e. \n",
    "           \n",
    "'''\n",
    "truth_ToyMC = collect_truth(valfile_ToyMC)\n",
    "truth_FullMC = collect_truth(valfile_FullMC)\n",
    "\n",
    "truth_FullMC_svs = collect_truth(valfile_FullMC, pvs=False)\n",
    "\n",
    "print('-'*100)           \n",
    "warn_msg = '\\nWARNING ::: The data type of pv_HLT1CPU_MinBiasMagDown_14Nov.h5 and Oct03_20K_val.h5 \\nfiles are different for some variables: i.e.\\n'\n",
    "print(warn_msg)           \n",
    "print('Toy  MC true z:',type(truth_ToyMC.z[0][0]))\n",
    "print('Full MC true z:',type(truth_FullMC.z[0][0]))\n",
    "\n",
    "warn_msg = '\\nThis causes an issue when calling some of the numba functions in model.efficiency_res.py\\n'\n",
    "print(warn_msg)           \n",
    "print('-'*100)           \n"
   ]
  },
  {
   "cell_type": "code",
   "execution_count": 6,
   "metadata": {},
   "outputs": [
    {
     "name": "stdout",
     "output_type": "stream",
     "text": [
      "Loading data...\n",
      "Loaded /share/lazy/sokoloff/ML-data_AA/pv_HLT1CPU_MinBiasMagDown_14Nov.h5 in 19.22 s\n",
      "Constructing 20000 event dataset took 0.08512 s\n"
     ]
    }
   ],
   "source": [
    "'''\n",
    "valfile_ToyMC does not have the necessary info to use collect_data_poca for the moment\n",
    "'''\n",
    "\n",
    "#validation_ToyMC = collect_data_poca(valfile_ToyMC,\n",
    "#                                     batch_size=1,\n",
    "#                                     device=device,\n",
    "#                                     slice=slice(20000),\n",
    "#                                     masking=True, shuffle=False,\n",
    "#                                     load_XandXsq=False,\n",
    "#                                     load_A_and_B = True,\n",
    "#                                     load_xy=True)\n",
    "                \n",
    "validation_FullMC_mask = collect_data_poca(valfile_FullMC,\n",
    "                                      batch_size=1,\n",
    "                                      device=device,\n",
    "                                      slice=slice(20000),\n",
    "                                      masking=True, shuffle=False,\n",
    "                                      load_XandXsq=False,\n",
    "                                      load_A_and_B = True,\n",
    "                                      load_xy=True)\n",
    "                                                    "
   ]
  },
  {
   "cell_type": "markdown",
   "metadata": {},
   "source": [
    "#### Load the model weights\n",
    "\n",
    "Modernizing old style models if needed."
   ]
  },
  {
   "cell_type": "code",
   "execution_count": 7,
   "metadata": {},
   "outputs": [
    {
     "data": {
      "text/plain": [
       "AllCNN8Layer_Ca_Two_KDE_withPcnn(\n",
       "  (softplus): Softplus(beta=1, threshold=20)\n",
       "  (leaky): LeakyReLU(negative_slope=0.01)\n",
       "  (relu): LeakyReLU(negative_slope=0.0)\n",
       "  (conv1): Conv1d(2, 25, kernel_size=(25,), stride=(1,), padding=(12,))\n",
       "  (conv2): Conv1d(25, 25, kernel_size=(15,), stride=(1,), padding=(7,))\n",
       "  (conv3): Conv1d(25, 25, kernel_size=(15,), stride=(1,), padding=(7,))\n",
       "  (conv4): Conv1d(25, 25, kernel_size=(15,), stride=(1,), padding=(7,))\n",
       "  (conv5): Conv1d(25, 25, kernel_size=(15,), stride=(1,), padding=(7,))\n",
       "  (conv6): Conv1d(25, 25, kernel_size=(15,), stride=(1,), padding=(7,))\n",
       "  (conv7): Conv1d(25, 1, kernel_size=(5,), stride=(1,), padding=(2,))\n",
       "  (conv1dropout): Dropout(p=0.15, inplace=False)\n",
       "  (conv2dropout): Dropout(p=0.15, inplace=False)\n",
       "  (conv3dropout): Dropout(p=0.15, inplace=False)\n",
       "  (conv4dropout): Dropout(p=0.15, inplace=False)\n",
       "  (conv5dropout): Dropout(p=0.15, inplace=False)\n",
       "  (conv6dropout): Dropout(p=0.15, inplace=False)\n",
       "  (conv7dropout): Dropout(p=0.15, inplace=False)\n",
       "  (fc1): Linear(in_features=4000, out_features=4000, bias=True)\n",
       "  (finalFilter): Conv1d(1, 1, kernel_size=(91,), stride=(1,), padding=(45,))\n",
       "  (ppConv1): Conv1d(2, 20, kernel_size=(25,), stride=(1,), padding=(12,))\n",
       "  (ppConv2): Conv1d(20, 15, kernel_size=(15,), stride=(1,), padding=(7,))\n",
       "  (ppConv3): Conv1d(15, 1, kernel_size=(5,), stride=(1,), padding=(2,))\n",
       "  (ppFc1): Linear(in_features=4000, out_features=4000, bias=True)\n",
       "  (ppFinalFilter): Conv1d(1, 1, kernel_size=(31,), stride=(1,), padding=(15,))\n",
       ")"
      ]
     },
     "execution_count": 7,
     "metadata": {},
     "output_type": "execute_result"
    }
   ],
   "source": [
    "model = Model().to(device)\n",
    "model_dict = model.state_dict()\n",
    "dict_name = 'ML/18December2020_AllCNN8Layer_withPcnn_50epochs_moreDataIter1_lr_5em7_aymm_15p0/18December2020_AllCNN8Layer_withPcnn_50epochs_moreDataIter1_lr_5em7_aymm_15p0_final.pyt'\n",
    "pretrained_dict = torch.load(dict_name)\n",
    "model_dict.update(pretrained_dict) \n",
    "model.load_state_dict(pretrained_dict,strict=False)\n",
    "model.eval()"
   ]
  },
  {
   "cell_type": "markdown",
   "metadata": {},
   "source": [
    "#### Compute the model and move results to Numpy"
   ]
  },
  {
   "cell_type": "code",
   "execution_count": 8,
   "metadata": {},
   "outputs": [
    {
     "name": "stdout",
     "output_type": "stream",
     "text": [
      "x0 =  tensor([[2.5380e-29, 1.0837e-31, 2.6848e-34,  ..., 6.5229e-18, 2.4051e-17,\n",
      "         6.0671e-17],\n",
      "        [7.2615e-29, 3.7873e-31, 1.2248e-33,  ..., 6.5229e-18, 2.4051e-17,\n",
      "         6.0671e-17],\n",
      "        [2.5380e-29, 1.0837e-31, 2.6848e-34,  ..., 6.5229e-18, 2.4051e-17,\n",
      "         6.0671e-17],\n",
      "        ...,\n",
      "        [4.4202e-28, 3.1779e-30, 1.6454e-32,  ..., 6.5229e-18, 2.4051e-17,\n",
      "         6.0671e-17],\n",
      "        [2.7596e-29, 1.1924e-31, 3.0095e-34,  ..., 6.5229e-18, 2.4051e-17,\n",
      "         6.0671e-17],\n",
      "        [2.5380e-29, 1.0837e-31, 2.6848e-34,  ..., 6.5229e-18, 2.4051e-17,\n",
      "         6.0671e-17]])\n",
      "x1 =  tensor([[ 0.1092,  0.1095,  0.1098,  ..., -0.0398, -0.0137,  0.0103],\n",
      "        [ 0.0513,  0.0315,  0.0087,  ..., -0.0398, -0.0137,  0.0103],\n",
      "        [ 0.1092,  0.1095,  0.1098,  ..., -0.0398, -0.0137,  0.0103],\n",
      "        ...,\n",
      "        [ 0.0561,  0.0395,  0.0200,  ..., -0.0398, -0.0137,  0.0103],\n",
      "        [ 0.0057, -0.0218, -0.0536,  ..., -0.0398, -0.0137,  0.0103],\n",
      "        [ 0.1092,  0.1095,  0.1098,  ..., -0.0398, -0.0137,  0.0103]])\n",
      "neuronValues =  tensor([[2.7715e-30, 1.1868e-32, 2.9476e-35,  ..., -0.0000e+00, -0.0000e+00,\n",
      "         6.2731e-19],\n",
      "        [3.7219e-30, 1.1914e-32, 1.0663e-35,  ..., -0.0000e+00, -0.0000e+00,\n",
      "         6.2731e-19],\n",
      "        [2.7715e-30, 1.1868e-32, 2.9476e-35,  ..., -0.0000e+00, -0.0000e+00,\n",
      "         6.2731e-19],\n",
      "        ...,\n",
      "        [2.4816e-29, 1.2554e-31, 3.2884e-34,  ..., -0.0000e+00, -0.0000e+00,\n",
      "         6.2731e-19],\n",
      "        [1.5846e-31, -0.0000e+00, -0.0000e+00,  ..., -0.0000e+00, -0.0000e+00,\n",
      "         6.2731e-19],\n",
      "        [2.7715e-30, 1.1868e-32, 2.9476e-35,  ..., -0.0000e+00, -0.0000e+00,\n",
      "         6.2731e-19]])\n",
      "CPU times: user 6min 59s, sys: 3min 38s, total: 10min 37s\n",
      "Wall time: 1min 27s\n"
     ]
    }
   ],
   "source": [
    "%%time\n",
    "with torch.no_grad():\n",
    "    outputs_FullMC_mask = model(validation_FullMC_mask.dataset.tensors[0]).cpu().numpy()\n",
    "    labels_FullMC_mask = validation_FullMC_mask.dataset.tensors[1].cpu().numpy()    "
   ]
  },
  {
   "cell_type": "code",
   "execution_count": 9,
   "metadata": {},
   "outputs": [],
   "source": [
    "nsig_res = 5\n",
    "min_res = 0.0\n",
    "threshold = 0.06\n",
    "integral_threshold = 0.75\n",
    "min_width = 0\n",
    "\n",
    "eff_settings_res_top = dict(\n",
    "                        nsig_res=nsig_res, # number of sigmas from original res(nTracks)\n",
    "                        min_res=min_res, # \n",
    "                        threshold=threshold,\n",
    "                        integral_threshold=integral_threshold,\n",
    "                        min_width = min_width, #bins\n",
    "                        debug = 0,     # bins\n",
    "                        )\n",
    "\n",
    "pv_loc_settings_top = dict(\n",
    "    threshold=threshold,\n",
    "    integral_threshold=integral_threshold,\n",
    "    min_width=min_width# bins\n",
    ")"
   ]
  },
  {
   "cell_type": "code",
   "execution_count": null,
   "metadata": {},
   "outputs": [],
   "source": []
  },
  {
   "cell_type": "code",
   "execution_count": 54,
   "metadata": {},
   "outputs": [
    {
     "name": "stdout",
     "output_type": "stream",
     "text": [
      "\n",
      "\n",
      "==================================================\n",
      "\n",
      "i_r_max_cut: 1.5\n",
      "i_delta_bins_cut: 20\n",
      "================================================================================\n",
      "\n",
      "Event 176\n",
      "\n",
      "reco_PVs_loc: [  72.69404  782.12537 1064.3005  1349.6979 ]\n",
      "reco_PVs_labels: [1 1 1 0]\n",
      "true_PVs_loc: [  72.412025  781.5529   1063.4109   1359.4109  ]\n",
      "true_PVs_nTracks: [28, 37, 13, 11]\n",
      "resolutions: [3.3531768 2.7649317 5.903693  6.712477 ]\n",
      "52 8.731116e-22\n",
      "53 3.816523e-18\n",
      "54 7.341718e-17\n",
      "55 1.9125106e-17\n",
      "56 6.9959715e-19\n",
      "57 6.2534334e-22\n",
      "58 4.277577e-28\n",
      "59 2.3152653e-30\n",
      "60 4.688673e-25\n",
      "61 5.496241e-20\n",
      "62 4.1898433e-20\n",
      "63 1.6838942e-24\n",
      "64 1.0834869e-27\n",
      "65 8.4958e-19\n",
      "66 9.074845e-10\n",
      "67 1.6438053e-05\n",
      "68 0.0016099326\n",
      "69 0.039188012\n",
      "70 0.30798748\n",
      "71 0.80471325\n",
      "72 1.1411093\n",
      "73 0.9130093\n",
      "74 0.45688984\n",
      "75 0.105852365\n",
      "76 0.0077269687\n",
      "77 0.00020804536\n",
      "78 1.6547857e-07\n",
      "79 1.1617643e-14\n",
      "80 4.581286e-25\n",
      "81 9.534286e-28\n",
      "82 1.645384e-22\n",
      "83 8.2203514e-19\n",
      "84 1.817595e-18\n",
      "85 1.9662626e-20\n",
      "86 6.7143126e-23\n",
      "87 1.4333822e-23\n",
      "88 4.730475e-23\n",
      "89 1.4106322e-22\n",
      "90 2.857278e-22\n",
      "91 8.143634e-23\n",
      "ibin_min = 70\n",
      "ibin_max = 74\n",
      "width = 4\n",
      "762 1.702232e-21\n",
      "763 2.1784915e-20\n",
      "764 1.10633e-29\n",
      "765 0.0\n",
      "766 0.0\n",
      "767 1.0262e-41\n",
      "768 4e-45\n",
      "769 5.3e-44\n",
      "770 2.1112426e-31\n",
      "771 5.8126386e-21\n",
      "772 3.5338898e-24\n",
      "773 0.0\n",
      "774 0.0\n",
      "775 1.7262707e-36\n",
      "776 6.8096946e-19\n",
      "777 4.84518e-10\n",
      "778 1.3664957e-05\n",
      "779 0.0077794464\n",
      "780 0.43113652\n",
      "781 1.5842152\n",
      "782 1.7581333\n",
      "783 0.7512957\n",
      "784 0.052817065\n",
      "785 0.00023658368\n",
      "786 1.7962589e-07\n",
      "787 8.545489e-11\n",
      "788 1.3192112e-14\n",
      "789 1.618198e-23\n",
      "790 9.080648e-39\n",
      "791 7.1015923e-38\n",
      "792 3.4470618e-25\n",
      "793 2.0119522e-17\n",
      "794 1.8387573e-17\n",
      "795 2.815783e-23\n",
      "796 4.1305608e-30\n",
      "797 2.5127297e-28\n",
      "798 2.9238255e-22\n",
      "799 3.4804464e-20\n",
      "800 8.761062e-22\n",
      "801 5.1149066e-26\n",
      "ibin_min = 780\n",
      "ibin_max = 783\n",
      "width = 3\n",
      "1044 9.876988e-17\n",
      "1045 3.115653e-14\n",
      "1046 3.341997e-12\n",
      "1047 5.6022947e-11\n",
      "1048 1.4260232e-11\n",
      "1049 2.1522171e-15\n",
      "1050 3.4189277e-21\n",
      "1051 9.295165e-24\n",
      "1052 2.4101248e-22\n",
      "1053 1.8724137e-19\n",
      "1054 1.0466234e-15\n",
      "1055 7.094916e-11\n",
      "1056 1.3419304e-06\n",
      "1057 0.00029144375\n",
      "1058 0.0038773362\n",
      "1059 0.01493977\n",
      "1060 0.04486923\n",
      "1061 0.11027019\n",
      "1062 0.20151308\n",
      "1063 0.3037588\n",
      "1064 0.32959992\n",
      "1065 0.24937104\n",
      "1066 0.14647417\n",
      "1067 0.07114676\n",
      "1068 0.024448466\n",
      "1069 0.003725847\n",
      "1070 1.7272143e-05\n",
      "1071 1.66598e-11\n",
      "1072 2.64311e-18\n",
      "1073 2.4589446e-19\n",
      "1074 9.565522e-18\n",
      "1075 7.163446e-17\n",
      "1076 1.9482916e-16\n",
      "1077 3.5465084e-16\n",
      "1078 8.878375e-18\n",
      "1079 3.265077e-20\n",
      "1080 -0.0\n",
      "1081 -0.0\n",
      "1082 -0.0\n",
      "1083 -0.0\n",
      "ibin_min = 1061\n",
      "ibin_max = 1066\n",
      "width = 5\n",
      "1329 2.447898e-16\n",
      "1330 6.032544e-15\n",
      "1331 4.3827566e-13\n",
      "1332 8.9131244e-11\n",
      "1333 1.980215e-08\n",
      "1334 1.4164677e-06\n",
      "1335 6.984628e-05\n",
      "1336 0.0019606578\n",
      "1337 0.012821875\n",
      "1338 0.02424662\n",
      "1339 0.0320214\n",
      "1340 0.04026219\n",
      "1341 0.053113457\n",
      "1342 0.077322654\n",
      "1343 0.11345678\n",
      "1344 0.16062503\n",
      "1345 0.21578039\n",
      "1346 0.27075422\n",
      "1347 0.31853604\n",
      "1348 0.35449097\n",
      "1349 0.37953302\n",
      "1350 0.39039162\n",
      "1351 0.37339085\n",
      "1352 0.32726476\n",
      "1353 0.26538554\n",
      "1354 0.19944224\n",
      "1355 0.129405\n",
      "1356 0.06551387\n",
      "1357 0.023566172\n",
      "1358 0.0058727595\n",
      "1359 0.0012857984\n",
      "1360 0.00027658825\n",
      "1361 5.714113e-05\n",
      "1362 1.2149573e-05\n",
      "1363 3.0315227e-06\n",
      "1364 9.530996e-07\n",
      "1365 2.4564088e-07\n",
      "1366 2.440093e-08\n",
      "1367 1.7972149e-09\n",
      "1368 1.6618056e-10\n",
      "ibin_min = 1344\n",
      "ibin_max = 1355\n",
      "width = 11\n"
     ]
    },
    {
     "data": {
      "text/plain": [
       "'            \\n    if show_statements:\\n        if 0 in reco_PVs_labels:\\n            print(\"\\nEvent\",i)\\n            print(\"\\nTrue PVs n    :\",sorted_true_PVs_n)\\n            print(\"Resolution    :\",resolution)\\n            print(\"\\nTrue PVs z    :\",true_PVs_loc)\\n\\n            print(\"Reco PVs z    :\",reco_PVs_loc)\\n            print(\"Reco PVs label:\",reco_PVs_labels)\\n\\n            print(\"True PVs label:\",true_PVs_labels)\\n\\n\\nprint(total.pretty())\\nprint(\"\\nFP_tot\",FP_tot)\\nprint(\"FP_removed\",FP_removed)\\nprint(\"FP_kept\",FP_tot-FP_removed)\\nprint(\"\\nS_tot\",S_tot)\\nprint(\"S_removed\",S_removed)\\nprint(\"S_kept\",S_tot-S_removed)\\nprint(\"\\nNew eff =\",(S_tot-S_removed)/float(S_tot)*total.eff_rate)\\nprint(\"New fp_rate =\",(FP_tot-FP_removed)/float(FP_tot)*total.fp_rate)\\n#d_eff[i_r_max_cut][i_delta_bins_cut]=(S_tot-S_removed)/float(S_tot)*total.eff_rate\\n#d_fp[i_r_max_cut][i_delta_bins_cut]=(FP_tot-FP_removed)/float(FP_tot)*total.fp_rate\\n'"
      ]
     },
     "execution_count": 54,
     "metadata": {},
     "output_type": "execute_result"
    },
    {
     "data": {
      "image/png": "[encoded data removed]",
      "text/plain": [
       "<Figure size 1296x144 with 1 Axes>"
      ]
     },
     "metadata": {
      "needs_background": "light"
     },
     "output_type": "display_data"
    }
   ],
   "source": [
    "show_statements = False\n",
    "\n",
    "total = ValueSet_res(0,0,0,0)\n",
    "\n",
    "delta_reco_PVs_loc_all = np.ndarray(0,dtype=float)\n",
    "delta_reco_FP_loc_all = np.ndarray(0,dtype=float)\n",
    "delta_reco_S_loc_all = np.ndarray(0,dtype=float)\n",
    "\n",
    "delta_true_PVs_loc_all = np.ndarray(0,dtype=float)\n",
    "\n",
    "true_PVs_width = np.ndarray(0,dtype=float)\n",
    "true_PVs_reso = np.ndarray(0,dtype=float)\n",
    "\n",
    "\n",
    "\n",
    "delta_reco_FP_loc_only = np.ndarray(0,dtype=float)\n",
    "reco_FP_max_only = np.ndarray(0,dtype=float)\n",
    "reco_FP_closest_max_only = np.ndarray(0,dtype=float)\n",
    "reco_FP_r_max_only = np.ndarray(0,dtype=float)\n",
    "reco_FP_r_int_only = np.ndarray(0,dtype=float)\n",
    "reco_FP_width_only = np.ndarray(0,dtype=float)\n",
    "reco_FP_max_over_width_only = np.ndarray(0,dtype=float)\n",
    "\n",
    "delta_reco_S_loc_only = np.ndarray(0,dtype=float)\n",
    "reco_S_max_only = np.ndarray(0,dtype=float)\n",
    "reco_S_closest_max_only = np.ndarray(0,dtype=float)\n",
    "reco_S_r_max_only = np.ndarray(0,dtype=float)\n",
    "reco_S_r_int_only = np.ndarray(0,dtype=float)\n",
    "reco_S_width_only = np.ndarray(0,dtype=float)\n",
    "reco_S_max_over_width_only = np.ndarray(0,dtype=float)\n",
    "\n",
    "reco_PVs_width = np.ndarray(0,dtype=float)\n",
    "\n",
    "best_r_max_cut=0\n",
    "best_delta_bins_cut=0\n",
    "\n",
    "d_eff={}\n",
    "d_fp={}\n",
    "\n",
    "#for i_r_max_cut in [x * 0.1 for x in range(0, 40)]:\n",
    "#    d_eff[i_r_max_cut]={}\n",
    "#    d_fp[i_r_max_cut]={}\n",
    "#    for i_delta_bins_cut in range(0,50):\n",
    "i_r_max_cut=1.5\n",
    "i_delta_bins_cut=20\n",
    "\n",
    "print(\"\\n\")\n",
    "print(\"=\"*50)\n",
    "print(\"\\ni_r_max_cut:\",i_r_max_cut)\n",
    "print(\"i_delta_bins_cut:\",i_delta_bins_cut)\n",
    "\n",
    "FP_tot = 0\n",
    "FP_removed = 0\n",
    "\n",
    "S_tot = 0\n",
    "S_removed = 0\n",
    "\n",
    "for iEvt in range(176,177):\n",
    "\n",
    "    true_PVs_nTracks = truth_FullMC.n[iEvt]\n",
    "    true_PVs_z = truth_FullMC.z[iEvt]\n",
    "    sorted_true_PVs_z = [(i[0]+100)*10 for i in sorted( zip((true_PVs_z[true_PVs_nTracks > 4]), true_PVs_nTracks[true_PVs_nTracks > 4]))]\n",
    "    sorted_true_PVs_n = [i[1] for i in sorted( zip((true_PVs_z[true_PVs_nTracks > 4]), true_PVs_nTracks[true_PVs_nTracks > 4]))]\n",
    "\n",
    "\n",
    "    result = efficiency_res(labels_FullMC_mask[iEvt], outputs_FullMC_mask[iEvt], truth_FullMC.n[iEvt], truth_FullMC.z[iEvt], **eff_settings_res_top)\n",
    "    total+=result\n",
    "    true_PVs_loc = pv_locations_res(labels_FullMC_mask[iEvt], **pv_loc_settings_top)\n",
    "    reco_PVs_loc = pv_locations_res(outputs_FullMC_mask[iEvt], **pv_loc_settings_top)\n",
    "    reco_PVs_loc = filter_nans_res(reco_PVs_loc,labels_FullMC_mask[iEvt])\n",
    "\n",
    "    true_PVs_labels = get_PVs_label(0,labels_FullMC_mask[iEvt], outputs_FullMC_mask[iEvt], truth_FullMC.n[iEvt], truth_FullMC.z[iEvt],nsig_res,min_res,threshold,integral_threshold,min_width,0)\n",
    "    reco_PVs_labels = get_PVs_label(1,labels_FullMC_mask[iEvt], outputs_FullMC_mask[iEvt], truth_FullMC.n[iEvt], truth_FullMC.z[iEvt],nsig_res,min_res,threshold,integral_threshold,min_width,0)\n",
    "\n",
    "    \n",
    "    \n",
    "    resolution = get_resolution(true_PVs_loc, true_PVs_nTracks, true_PVs_z, nsig_res, min_res, 0)\n",
    "\n",
    "    for true_pv in range(len(true_PVs_loc)):\n",
    "        \n",
    "        true_PVs_loc_ibin = int(true_PVs_loc[true_pv])\n",
    "\n",
    "        width = 999.\n",
    "\n",
    "        true_PVs_max = labels_FullMC_mask[iEvt][true_PVs_loc_ibin]\n",
    "        ibin_min = -1\n",
    "        ibin_max = -1\n",
    "        for ibin in range(true_PVs_loc_ibin,true_PVs_loc_ibin-20,-1):\n",
    "            true_PVs_val = labels_FullMC_mask[iEvt][ibin]\n",
    "            if true_PVs_val<true_PVs_max/2.:\n",
    "                ibin_min = ibin\n",
    "                break\n",
    "        for ibin in range(true_PVs_loc_ibin,true_PVs_loc_ibin+20):\n",
    "            true_PVs_val = labels_FullMC_mask[iEvt][ibin]\n",
    "            if true_PVs_val<true_PVs_max/2.:\n",
    "                ibin_max = ibin\n",
    "                break\n",
    "        #print(\"ibin_min =\",ibin_min)\n",
    "        #print(\"ibin_max =\",ibin_max)\n",
    "        width = (ibin_max-ibin_min)\n",
    "\n",
    "        \n",
    "        true_PVs_width = np.append([width],true_PVs_width)\n",
    "        true_PVs_reso = np.append([resolution[true_pv]],true_PVs_reso)\n",
    "    \n",
    "    ## =========== PRINTS ========= \n",
    "\n",
    "\n",
    "    # ====================================\n",
    "    # --  delta_z between next FP and Success PVS \n",
    "    if len(reco_PVs_loc)==0 or len(true_PVs_loc)==0:\n",
    "        continue\n",
    "\n",
    "    delta_reco_PVs_loc = np.zeros(len(reco_PVs_loc)-1,dtype=float)\n",
    "\n",
    "    delta_reco_FP_l = []\n",
    "    delta_reco_S_l = []\n",
    "    for j in range(len(reco_PVs_loc)-1):\n",
    "        delta_reco_PVs_loc[j] = (reco_PVs_loc[j+1]-reco_PVs_loc[j])        \n",
    "        if reco_PVs_labels[j]==0:\n",
    "            delta_reco_FP_l.append(delta_reco_PVs_loc[j])\n",
    "        else:\n",
    "            delta_reco_S_l.append(delta_reco_PVs_loc[j])\n",
    "\n",
    "    delta_reco_PVs_loc_all = np.append(delta_reco_PVs_loc_all,delta_reco_PVs_loc)\n",
    "\n",
    "    delta_reco_FP_loc = np.zeros(len(delta_reco_FP_l),dtype=float)\n",
    "    for j in range(len(delta_reco_FP_l)):\n",
    "        delta_reco_FP_loc[j] = delta_reco_FP_l[j]\n",
    "    delta_reco_FP_loc_all = np.append(delta_reco_FP_loc_all,delta_reco_FP_loc)\n",
    "\n",
    "    delta_reco_S_loc = np.zeros(len(delta_reco_S_l),dtype=float)\n",
    "    for j in range(len(delta_reco_S_l)):\n",
    "        delta_reco_S_loc[j] = delta_reco_S_l[j]\n",
    "    delta_reco_S_loc_all = np.append(delta_reco_S_loc_all,delta_reco_S_loc)\n",
    "\n",
    "\n",
    "    # ====================================\n",
    "    # --  delta_z between next true PVS \n",
    "    delta_true_PVs_loc = np.zeros(len(true_PVs_loc)-1,dtype=float)\n",
    "    for j in range(len(true_PVs_loc)-1):\n",
    "        delta_true_PVs_loc[j] = (true_PVs_loc[j+1]-true_PVs_loc[j])\n",
    "    delta_true_PVs_loc_all = np.append(delta_true_PVs_loc_all,delta_true_PVs_loc)\n",
    "\n",
    "\n",
    "\n",
    "    # ====================================\n",
    "    # ====================================\n",
    "    # ====================================\n",
    "    #if 0 in true_PVs_labels and sum(true_PVs_labels)==sum(reco_PVs_labels):\n",
    "    if show_statements:\n",
    "        print(\"\\nEvent\",iEvt)\n",
    "        print(\"\\nreco_PVs_loc:\",reco_PVs_loc)\n",
    "        print(\"reco_PVs_labels:\",reco_PVs_labels)\n",
    "\n",
    "    print(\"=\"*80)\n",
    "    print(\"\\nEvent\",iEvt)\n",
    "    print(\"\\nreco_PVs_loc:\",reco_PVs_loc)\n",
    "    print(\"reco_PVs_labels:\",reco_PVs_labels)\n",
    "    print(\"true_PVs_loc:\",true_PVs_loc)\n",
    "    print(\"true_PVs_nTracks:\",sorted_true_PVs_n)\n",
    "    print(\"resolutions:\",resolution)\n",
    "\n",
    "    reco_ipv = []\n",
    "    closest_ipv = []\n",
    "    S_reco_pv = 0\n",
    "\n",
    "    l_removed_ipvs = []\n",
    "    \n",
    "    N_FP = len(reco_PVs_labels)-sum(reco_PVs_labels)\n",
    "    #print(\"N_FP\",N_FP)\n",
    "    for reco_pv in range(len(reco_PVs_labels)):\n",
    "\n",
    "        # ************************\n",
    "        # Get the width of all reco PVs\n",
    "        # ************************\n",
    "\n",
    "        reco_PVs_loc_ibin = int(reco_PVs_loc[reco_pv])\n",
    "        reco_PVs_max = outputs_FullMC_mask[iEvt][reco_PVs_loc_ibin]\n",
    "        ibin_min = -1\n",
    "        ibin_max = -1\n",
    "        for ibin in range(reco_PVs_loc_ibin,reco_PVs_loc_ibin-20,-1):\n",
    "            reco_PVs_val = outputs_FullMC_mask[iEvt][ibin]\n",
    "            if reco_PVs_val<reco_PVs_max/2.:\n",
    "                ibin_min = ibin\n",
    "                break\n",
    "        for ibin in range(reco_PVs_loc_ibin,reco_PVs_loc_ibin+20):\n",
    "            reco_PVs_val = outputs_FullMC_mask[iEvt][ibin]\n",
    "            if reco_PVs_val<reco_PVs_max/2.:\n",
    "                ibin_max = ibin\n",
    "                break\n",
    "\n",
    "        width = (ibin_max-ibin_min)\n",
    "\n",
    "        for ibin in range(reco_PVs_loc_ibin-20,reco_PVs_loc_ibin+20):\n",
    "            print(ibin,outputs_FullMC_mask[iEvt][ibin])\n",
    "            \n",
    "        print(\"ibin_min =\",ibin_min)\n",
    "        print(\"ibin_max =\",ibin_max)\n",
    "        print(\"width =\",width)\n",
    "\n",
    "        reco_PVs_width = np.append([width],reco_PVs_width)\n",
    "        \n",
    "        reco_PVs_max_over_width=999\n",
    "        if not width==0:\n",
    "            reco_PVs_max_over_width = reco_PVs_max/float(width)\n",
    "            \n",
    "        # ************************\n",
    "        # Get all reco \"pairs\" infos (excluding FPs)\n",
    "        # ************************\n",
    "\n",
    "        #if (reco_PVs_labels[reco_pv]==1):\n",
    "        #reco_PVs_loc_ibin = int(reco_PVs_loc[reco_pv])\n",
    "\n",
    "        # Get the closest matched reconstructed PV infos and associated true PV infos\n",
    "        closest_reco_PVs_loc_ibin = -99\n",
    "        if len(reco_PVs_labels)==1:\n",
    "            closest_reco_PVs_loc_ibin = -1\n",
    "\n",
    "        else:\n",
    "            # Reco PV is first in the list, check next ones only\n",
    "            if reco_pv==0:\n",
    "                for iPVs in range(1,len(reco_PVs_labels)):\n",
    "                    if reco_PVs_labels[iPVs]==1:\n",
    "                        closest_reco_PVs_loc_ibin = int(reco_PVs_loc[iPVs])\n",
    "                        break\n",
    "\n",
    "            # Reco is last PV in the list, check previous ones only\n",
    "            elif reco_pv==(len(reco_PVs_labels)-1):\n",
    "                for iPVs in range(reco_pv,0,-1):\n",
    "                    if iPVs==reco_pv:\n",
    "                        continue\n",
    "                    if reco_PVs_labels[iPVs]==1:\n",
    "                        closest_reco_PVs_loc_ibin = int(reco_PVs_loc[iPVs])\n",
    "                        break\n",
    "\n",
    "            # Reco is neither first nore last PV in the list, check next AND previous \n",
    "            # ones to decide which one is closest\n",
    "            else:\n",
    "                next_reco_PVs_loc_ibin = -1 \n",
    "                for iPVs in range(reco_pv,len(reco_PVs_labels)):\n",
    "                    if iPVs==reco_pv:\n",
    "                        continue\n",
    "                    if reco_PVs_labels[iPVs]==1:\n",
    "                        next_reco_PVs_loc_ibin = int(reco_PVs_loc[iPVs])\n",
    "                        break\n",
    "                previous_reco_PVs_loc_ibin = -1 \n",
    "                for iPVs in range(reco_pv,0,-1):\n",
    "                    if iPVs==reco_pv:\n",
    "                        continue\n",
    "                    if reco_PVs_labels[iPVs]==1:\n",
    "                        previous_reco_PVs_loc_ibin = int(reco_PVs_loc[iPVs])\n",
    "                        break\n",
    "                delta_next = next_reco_PVs_loc_ibin - reco_PVs_loc_ibin\n",
    "                delta_prev = reco_PVs_loc_ibin - previous_reco_PVs_loc_ibin\n",
    "\n",
    "                if delta_next < delta_prev:\n",
    "                    closest_reco_PVs_loc_ibin = next_reco_PVs_loc_ibin\n",
    "                else:\n",
    "                    closest_reco_PVs_loc_ibin = previous_reco_PVs_loc_ibin\n",
    "\n",
    "        # Now look at the ratios between the FP and closest matched reco PV max KDE, and integral (+/- 2 bins from max) \n",
    "\n",
    "        # First get the actual FP max and max ibin\n",
    "        reco_PVs_max = outputs_FullMC_mask[iEvt][reco_PVs_loc_ibin]\n",
    "        reco_PVs_max_ibin = reco_PVs_loc_ibin\n",
    "\n",
    "        reco_PVs_int = 0\n",
    "\n",
    "        for ibin in range(reco_PVs_loc_ibin-2,reco_PVs_loc_ibin+2):\n",
    "            reco_PVs_int += outputs_FullMC_mask[iEvt][ibin]\n",
    "\n",
    "            if outputs_FullMC_mask[iEvt][ibin] > reco_PVs_max:\n",
    "                reco_PVs_max = outputs_FullMC_mask[iEvt][ibin]\n",
    "                reco_PVs_max_ibin = ibin\n",
    "\n",
    "\n",
    "        # Now get the actual closest matched PV max and max ibin\n",
    "        closest_reco_PVs_max = outputs_FullMC_mask[iEvt][closest_reco_PVs_loc_ibin]\n",
    "        closest_reco_PVs_max_ibin = closest_reco_PVs_loc_ibin\n",
    "\n",
    "        closest_reco_PVs_int = 0\n",
    "\n",
    "        for ibin in range(closest_reco_PVs_loc_ibin-2,closest_reco_PVs_loc_ibin+2):\n",
    "            closest_reco_PVs_int += outputs_FullMC_mask[iEvt][ibin]\n",
    "            if outputs_FullMC_mask[iEvt][ibin] > closest_reco_PVs_max:\n",
    "                closest_reco_PVs_max = outputs_FullMC_mask[iEvt][ibin]\n",
    "                closest_reco_PVs_max_ibin = ibin\n",
    "\n",
    "        r_max = 0\n",
    "        if not reco_PVs_max==0:\n",
    "            r_max=closest_reco_PVs_max/reco_PVs_max\n",
    "\n",
    "        r_int = 0\n",
    "        if not reco_PVs_int==0:\n",
    "            r_int=closest_reco_PVs_int/reco_PVs_int\n",
    "\n",
    "        # Store the outputs depending on the reco PV label\n",
    "        if (reco_PVs_labels[reco_pv]==1):\n",
    "\n",
    "            # Record the reco PV width and ratio max over width\n",
    "            reco_S_width_only = np.append([width],reco_S_width_only)\n",
    "            reco_S_max_over_width_only = np.append([reco_PVs_max_over_width],reco_S_max_over_width_only)\n",
    "            \n",
    "            if abs(closest_reco_PVs_loc_ibin-reco_PVs_loc_ibin)<i_delta_bins_cut and r_max>i_r_max_cut:\n",
    "                S_removed+=1\n",
    "                l_removed_ipvs.append(reco_pv)\n",
    "                \n",
    "            S_tot+=1\n",
    "\n",
    "            # Store the bin of the reco and closest PVs for clone removal\n",
    "            reco_ipv.append(reco_PVs_loc_ibin)\n",
    "            closest_ipv.append(closest_reco_PVs_loc_ibin)\n",
    "\n",
    "            if S_reco_pv==0:\n",
    "                #print(\"\\nreco_PVs_loc_ibin\",reco_PVs_loc_ibin)\n",
    "                #print(\"closest_reco_PVs_loc_ibin\",closest_reco_PVs_loc_ibin)\n",
    "                delta_reco_S_loc_only = np.append([abs(closest_reco_PVs_loc_ibin-reco_PVs_loc_ibin)],delta_reco_S_loc_only)\n",
    "                reco_S_r_max_only = np.append([r_max],reco_S_r_max_only)\n",
    "                reco_S_max_only = np.append([reco_PVs_max],reco_S_max_only)\n",
    "                reco_S_closest_max_only = np.append([reco_PVs_max],reco_S_max_only)\n",
    "                reco_S_r_int_only = np.append([r_int],reco_S_r_int_only)\n",
    "            else:                \n",
    "                if not (reco_ipv[S_reco_pv]==closest_ipv[S_reco_pv-1] and closest_ipv[S_reco_pv]==reco_ipv[S_reco_pv-1]):\n",
    "                    delta_reco_S_loc_only = np.append([abs(closest_reco_PVs_loc_ibin-reco_PVs_loc_ibin)],delta_reco_S_loc_only)\n",
    "                    reco_S_r_max_only = np.append([r_max],reco_S_r_max_only)\n",
    "                    reco_S_max_only = np.append([reco_PVs_max],reco_S_max_only)\n",
    "                    reco_S_r_int_only = np.append([r_int],reco_S_r_int_only)\n",
    "#                    print(\"\\nFirst pair (storing info):\")    \n",
    "#                    print(\"\\nreco_PVs_loc_ibin\",reco_PVs_loc_ibin)\n",
    "#                    print(\"closest_reco_PVs_loc_ibin\",closest_reco_PVs_loc_ibin)\n",
    "#                    \n",
    "#                else:\n",
    "#                    print(\"\\nClone pair with previous one:\")\n",
    "#                    print(\"\\nreco_PVs_loc_ibin\",reco_PVs_loc_ibin)\n",
    "#                    print(\"closest_reco_PVs_loc_ibin\",closest_reco_PVs_loc_ibin)\n",
    "\n",
    "            S_reco_pv+=1\n",
    "\n",
    "        else:\n",
    "            \n",
    "            # Condition to remove the FP that are reflections of true PVs and already accounted for by another reco PV \n",
    "            if abs(closest_reco_PVs_loc_ibin-reco_PVs_loc_ibin)<i_delta_bins_cut and r_max>i_r_max_cut:\n",
    "                FP_removed+=1\n",
    "                N_FP-=1\n",
    "                l_removed_ipvs.append(reco_pv)\n",
    "\n",
    "            else:\n",
    "                # Record the reco PV width and ratio max over width\n",
    "                reco_FP_width_only = np.append([width],reco_FP_width_only)\n",
    "                reco_FP_max_over_width_only = np.append([reco_PVs_max_over_width],reco_FP_max_over_width_only)\n",
    "                \n",
    "            FP_tot+=1\n",
    "\n",
    "            delta_reco_FP_loc_only = np.append([abs(closest_reco_PVs_loc_ibin-reco_PVs_loc_ibin)],delta_reco_FP_loc_only)\n",
    "            reco_FP_r_max_only = np.append([r_max],reco_FP_r_max_only)\n",
    "            reco_FP_max_only = np.append([reco_PVs_max],reco_FP_max_only)\n",
    "            reco_FP_r_int_only = np.append([r_int],reco_FP_r_int_only)\n",
    "\n",
    "    if N_FP>0:\n",
    "        ax = plot_truth_vs_predict(labels_FullMC_mask[iEvt], outputs_FullMC_mask[iEvt])\n",
    "\n",
    "        str_removed_pvs_loc = \"\"\n",
    "        for ipv in l_removed_ipvs:\n",
    "            typePV = \"FP\"\n",
    "            if reco_PVs_labels[ipv]==1:\n",
    "                typePV = \"S\"\n",
    "                \n",
    "            str_removed_pvs_loc += \"%s at bin(%s)\"%(typePV,reco_PVs_loc[ipv])\n",
    "        if len(l_removed_ipvs)>0:\n",
    "            ax.set_title(\"Event: \"+str(iEvt)+\" originally with \"+str(result)+\" and after reflections removal: \"+str(str_removed_pvs_loc))\n",
    "        else:\n",
    "            ax.set_title(\"Event: \"+str(iEvt)+\" originally with \"+str(result))\n",
    "\"\"\"            \n",
    "    if show_statements:\n",
    "        if 0 in reco_PVs_labels:\n",
    "            print(\"\\nEvent\",i)\n",
    "            print(\"\\nTrue PVs n    :\",sorted_true_PVs_n)\n",
    "            print(\"Resolution    :\",resolution)\n",
    "            print(\"\\nTrue PVs z    :\",true_PVs_loc)\n",
    "\n",
    "            print(\"Reco PVs z    :\",reco_PVs_loc)\n",
    "            print(\"Reco PVs label:\",reco_PVs_labels)\n",
    "\n",
    "            print(\"True PVs label:\",true_PVs_labels)\n",
    "\n",
    "\n",
    "print(total.pretty())\n",
    "print(\"\\nFP_tot\",FP_tot)\n",
    "print(\"FP_removed\",FP_removed)\n",
    "print(\"FP_kept\",FP_tot-FP_removed)\n",
    "print(\"\\nS_tot\",S_tot)\n",
    "print(\"S_removed\",S_removed)\n",
    "print(\"S_kept\",S_tot-S_removed)\n",
    "print(\"\\nNew eff =\",(S_tot-S_removed)/float(S_tot)*total.eff_rate)\n",
    "print(\"New fp_rate =\",(FP_tot-FP_removed)/float(FP_tot)*total.fp_rate)\n",
    "#d_eff[i_r_max_cut][i_delta_bins_cut]=(S_tot-S_removed)/float(S_tot)*total.eff_rate\n",
    "#d_fp[i_r_max_cut][i_delta_bins_cut]=(FP_tot-FP_removed)/float(FP_tot)*total.fp_rate\n",
    "\"\"\""
   ]
  },
  {
   "cell_type": "code",
   "execution_count": 11,
   "metadata": {},
   "outputs": [
    {
     "data": {
      "text/plain": [
       "4.945495832355333"
      ]
     },
     "execution_count": 11,
     "metadata": {},
     "output_type": "execute_result"
    }
   ],
   "source": [
    "453./26171 / 0.0035"
   ]
  },
  {
   "cell_type": "code",
   "execution_count": 44,
   "metadata": {},
   "outputs": [
    {
     "data": {
      "image/png": "[encoded data removed]",
      "text/plain": [
       "<Figure size 432x288 with 1 Axes>"
      ]
     },
     "metadata": {
      "needs_background": "light"
     },
     "output_type": "display_data"
    },
    {
     "data": {
      "text/plain": [
       "'\\ndiff_plot = plt.hist(true_PVs_width,bins)        \\nplt.show()\\ndiff_plot = plt.hist(true_PVs_reso,bins)        \\nplt.show()\\nnTcks_res_plot = plt.hist2d(true_PVs_width, true_PVs_reso,bins=100)        \\nplt.colorbar()\\nplt.show()\\n'"
      ]
     },
     "execution_count": 44,
     "metadata": {},
     "output_type": "execute_result"
    }
   ],
   "source": [
    "bins = np.linspace(0, 20, 20)\n",
    "\n",
    "plt.hist(reco_PVs_width,bins, alpha=0.6)        \n",
    "#plt.hist(reco_S_width_only,bins, alpha=0.6)        \n",
    "#plt.hist(reco_FP_width_only,bins, alpha=0.6)        \n",
    "plt.hist(true_PVs_width,bins, alpha=0.5)        \n",
    "plt.hist(true_PVs_reso,bins, alpha=0.6)        \n",
    "#plt.yscale('log')\n",
    "plt.show()\n",
    "'''\n",
    "diff_plot = plt.hist(true_PVs_width,bins)        \n",
    "plt.show()\n",
    "diff_plot = plt.hist(true_PVs_reso,bins)        \n",
    "plt.show()\n",
    "nTcks_res_plot = plt.hist2d(true_PVs_width, true_PVs_reso,bins=100)        \n",
    "plt.colorbar()\n",
    "plt.show()\n",
    "'''\n"
   ]
  },
  {
   "cell_type": "code",
   "execution_count": null,
   "metadata": {},
   "outputs": [],
   "source": [
    "diff_plot = plt.hist(reco_FP_width_only,bins=20)        \n",
    "plt.show()\n",
    "diff_plot = plt.hist(reco_S_width_only,bins=20)        \n",
    "plt.show()"
   ]
  },
  {
   "cell_type": "code",
   "execution_count": null,
   "metadata": {},
   "outputs": [],
   "source": [
    "diff_plot = plt.hist(reco_FP_max_over_width_only[reco_FP_width_only>10],bins=20)        \n",
    "plt.show()\n",
    "diff_plot = plt.hist(reco_S_max_over_width_only[reco_S_width_only>10],bins=20)        \n",
    "plt.show()"
   ]
  },
  {
   "cell_type": "code",
   "execution_count": null,
   "metadata": {},
   "outputs": [],
   "source": [
    "\n",
    "arr_FPn = np.where((reco_FP_r_max_only>0.0) | (delta_reco_FP_loc_only>0))\n",
    "arr_Sn = np.where((reco_S_r_max_only>0.0) | (delta_reco_S_loc_only>0))\n",
    "\n",
    "N_FPn = len(arr_FPn[0])\n",
    "N_Sn = len(arr_Sn[0])\n",
    "print(\"N_FPn\",N_FPn)\n",
    "print(\"N_Sn\",N_Sn)\n",
    "\n",
    "best_r_max_cut=0\n",
    "best_delta_bins_cut=0\n",
    "\n",
    "max_eff=0\n",
    "min_fp=1\n",
    "\n",
    "base_eff = total.eff_rate\n",
    "base_fp = total.fp_rate\n",
    "print(\"base_eff\",base_eff)\n",
    "print(\"base_fp\",base_fp)\n",
    "\n",
    "for i_r_max_cut in [x * 0.1 for x in range(0, 100)]:\n",
    "    for i_delta_bins_cut in range(0,100):\n",
    "\n",
    "        arr_FPc = np.where((reco_FP_r_max_only>i_r_max_cut) | (delta_reco_FP_loc_only>i_delta_bins_cut))\n",
    "        arr_Sc = np.where((reco_S_r_max_only>i_r_max_cut) | (delta_reco_S_loc_only>i_delta_bins_cut))\n",
    "\n",
    "        N_FPc = len(arr_FPc[0])\n",
    "        N_Sc = len(arr_Sc[0])\n",
    "\n",
    "        eff = base_eff*(N_Sc/N_Sn)\n",
    "        fp = base_fp*(N_FPc/N_FPn)\n",
    "\n",
    "        if (eff - fp)>(max_eff - min_fp):\n",
    "            max_eff=eff\n",
    "            min_fp=fp\n",
    "            best_r_max_cut=i_r_max_cut\n",
    "            best_delta_bins_cut=i_delta_bins_cut\n",
    "\n",
    "\n",
    "            \n",
    "print(\"\\neff\",max_eff)            \n",
    "print(\"fp\",min_fp)            \n",
    "print(\"eff-fp\",max_eff-min_fp)            \n",
    "print(\"\\nbest_r_max_cut\",best_r_max_cut)            \n",
    "print(\"best_delta_bins_cut\",best_delta_bins_cut)\n"
   ]
  },
  {
   "cell_type": "code",
   "execution_count": null,
   "metadata": {},
   "outputs": [],
   "source": [
    "r_max_cut=1.0\n",
    "delta_bins_cut=20\n",
    "\n",
    "arr_FPc = np.where((reco_FP_r_max_only>r_max_cut) & (delta_reco_FP_loc_only>delta_bins_cut))\n",
    "arr_Sc = np.where((reco_S_r_max_only>r_max_cut) & (delta_reco_S_loc_only>delta_bins_cut))\n",
    "\n",
    "N_FPc = len(arr_FPc[0])\n",
    "N_Sc = len(arr_Sc[0])\n",
    "\n",
    "eff = N_Sc/float(N_Sn)\n",
    "fp = N_FPc/float(N_FPn)\n",
    "\n",
    "print(\"\\neff\",eff)            \n",
    "print(\"fp\",fp)            \n",
    "print(\"eff-fp\",eff-fp)            \n"
   ]
  },
  {
   "cell_type": "code",
   "execution_count": null,
   "metadata": {},
   "outputs": [],
   "source": [
    "r_max_cut=0.0\n",
    "delta_bins_cut=0\n",
    "\n",
    "arr_FPc = np.where((reco_FP_r_max_only>r_max_cut) & (delta_reco_FP_loc_only>delta_bins_cut))\n",
    "\n",
    "diff_plot = plt.hist(arr_FPc[0],bins=20)        \n",
    "plt.show()"
   ]
  },
  {
   "cell_type": "code",
   "execution_count": null,
   "metadata": {},
   "outputs": [],
   "source": [
    "diff_plot = plt.hist(delta_reco_PVs_loc_all[delta_reco_PVs_loc_all<100],bins=20)        \n",
    "plt.show()"
   ]
  },
  {
   "cell_type": "code",
   "execution_count": null,
   "metadata": {},
   "outputs": [],
   "source": [
    "diff_plot = plt.hist(delta_true_PVs_loc_all[delta_true_PVs_loc_all<100],bins=20)        \n",
    "plt.show()"
   ]
  },
  {
   "cell_type": "code",
   "execution_count": null,
   "metadata": {},
   "outputs": [],
   "source": [
    "diff_plot = plt.hist(delta_reco_FP_loc_all[delta_reco_FP_loc_all<30],bins=20)        \n",
    "plt.show()"
   ]
  },
  {
   "cell_type": "code",
   "execution_count": null,
   "metadata": {},
   "outputs": [],
   "source": [
    "diff_plot = plt.hist(delta_reco_S_loc_all[delta_reco_S_loc_all>200],bins=150)        \n",
    "plt.show()"
   ]
  },
  {
   "cell_type": "code",
   "execution_count": null,
   "metadata": {},
   "outputs": [],
   "source": [
    "diff_plot = plt.hist(delta_reco_FP_loc_only[delta_reco_FP_loc_only>200],bins=150)        \n",
    "plt.show()"
   ]
  },
  {
   "cell_type": "code",
   "execution_count": null,
   "metadata": {},
   "outputs": [],
   "source": [
    "diff_plot = plt.hist(delta_reco_FP_loc_only[delta_reco_FP_loc_only>20],bins=50)        \n",
    "plt.show()"
   ]
  },
  {
   "cell_type": "code",
   "execution_count": null,
   "metadata": {},
   "outputs": [],
   "source": [
    "diff_plot = plt.hist(delta_reco_S_loc_only[delta_reco_S_loc_only>20],bins=50)        \n",
    "plt.show()"
   ]
  },
  {
   "cell_type": "code",
   "execution_count": null,
   "metadata": {},
   "outputs": [],
   "source": [
    "ratio = plt.hist(reco_FP_r_max_only[delta_reco_FP_loc_only<25],bins=25)        \n",
    "plt.show()"
   ]
  },
  {
   "cell_type": "code",
   "execution_count": null,
   "metadata": {},
   "outputs": [],
   "source": [
    "ratio = plt.hist(reco_S_r_max_only[delta_reco_S_loc_only<25],bins=25)        \n",
    "plt.show()"
   ]
  },
  {
   "cell_type": "code",
   "execution_count": null,
   "metadata": {},
   "outputs": [],
   "source": [
    "ratio = plt.hist(reco_FP_max_only[delta_reco_FP_loc_only<25],bins=100)        \n",
    "plt.show()"
   ]
  },
  {
   "cell_type": "code",
   "execution_count": null,
   "metadata": {},
   "outputs": [],
   "source": [
    "ratio = plt.hist(reco_S_max_only[delta_reco_S_loc_only<25],bins=100)        \n",
    "plt.show()"
   ]
  },
  {
   "cell_type": "code",
   "execution_count": null,
   "metadata": {},
   "outputs": [],
   "source": [
    "ratio = plt.hist(reco_FP_r_int_only[reco_FP_r_int_only<=100],bins=100)        \n",
    "plt.show()"
   ]
  },
  {
   "cell_type": "code",
   "execution_count": null,
   "metadata": {},
   "outputs": [],
   "source": [
    "ratio = plt.hist(reco_S_r_int_only[reco_S_r_int_only<=100],bins=100)        \n",
    "plt.show()"
   ]
  },
  {
   "cell_type": "code",
   "execution_count": null,
   "metadata": {},
   "outputs": [],
   "source": [
    "from math import *\n",
    "nTcks_res_plot = plt.hist2d(reco_FP_r_int_only[reco_FP_r_int_only<=10], reco_FP_r_max_only[reco_FP_r_int_only<=10],bins=30)        \n",
    "plt.colorbar()\n",
    "plt.show()\n"
   ]
  },
  {
   "cell_type": "code",
   "execution_count": null,
   "metadata": {},
   "outputs": [],
   "source": [
    "from math import *\n",
    "nTcks_res_plot = plt.hist2d(reco_S_r_int_only[reco_S_r_int_only<=10], reco_S_r_max_only[reco_S_r_int_only<=10],bins=30)        \n",
    "plt.colorbar()\n",
    "plt.show()\n"
   ]
  },
  {
   "cell_type": "code",
   "execution_count": null,
   "metadata": {},
   "outputs": [],
   "source": [
    "plot_FP = plt.hist2d(reco_FP_r_max_only[delta_reco_FP_loc_only>20], delta_reco_FP_loc_only[delta_reco_FP_loc_only>20],bins=30)        \n",
    "plt.colorbar()\n",
    "plt.show()\n",
    "plot_S = plt.hist2d(reco_S_r_max_only[delta_reco_S_loc_only>20], delta_reco_S_loc_only[delta_reco_S_loc_only>20],bins=30)        \n",
    "plt.colorbar()\n",
    "plt.show()\n"
   ]
  },
  {
   "cell_type": "code",
   "execution_count": null,
   "metadata": {},
   "outputs": [],
   "source": [
    "#nTcks_res_plot = plt.hist2d(reco_FP_r_int_only[delta_reco_FP_loc_only<50], delta_reco_FP_loc_only[delta_reco_FP_loc_only<50],bins=30)        \n",
    "#plt.colorbar()\n",
    "#plt.show()\n"
   ]
  },
  {
   "cell_type": "code",
   "execution_count": null,
   "metadata": {},
   "outputs": [],
   "source": [
    "from math import *\n",
    "nTcks_res_plot = plt.hist2d(reco_S_r_max_only[delta_reco_S_loc_only<50], delta_reco_S_loc_only[delta_reco_S_loc_only<50],bins=30)        \n",
    "plt.colorbar()\n",
    "plt.show()\n"
   ]
  },
  {
   "cell_type": "code",
   "execution_count": null,
   "metadata": {},
   "outputs": [],
   "source": [
    "from math import *\n",
    "nTcks_res_plot = plt.hist2d(reco_S_r_int_only[delta_reco_S_loc_only<50], delta_reco_S_loc_only[delta_reco_S_loc_only<50],bins=30)        \n",
    "plt.colorbar()\n",
    "plt.show()\n"
   ]
  },
  {
   "cell_type": "code",
   "execution_count": null,
   "metadata": {},
   "outputs": [],
   "source": []
  },
  {
   "cell_type": "code",
   "execution_count": null,
   "metadata": {},
   "outputs": [],
   "source": [
    "print(len(delta_reco_FP_loc_only[delta_reco_FP_loc_only>50])/float(len(delta_reco_FP_loc_only)))\n",
    "print(len(delta_reco_S_loc_all[delta_reco_S_loc_all>50])/float(len(delta_reco_S_loc_all)))\n",
    "print(len(reco_FP_r_max_only[reco_FP_r_max_only>1])/float(len(delta_reco_FP_loc_only)))"
   ]
  },
  {
   "cell_type": "code",
   "execution_count": null,
   "metadata": {},
   "outputs": [],
   "source": [
    "print(len(reco_FP_r_max_only[reco_FP_r_max_only>1.0])/float(len(reco_FP_r_max_only)))\n",
    "print(len(reco_S_r_max_only[reco_S_r_max_only>1.0])/float(len(reco_S_r_max_only)))"
   ]
  },
  {
   "cell_type": "code",
   "execution_count": null,
   "metadata": {},
   "outputs": [],
   "source": [
    "len(delta_reco_FP_loc_only[delta_reco_FP_loc_only>50])"
   ]
  },
  {
   "cell_type": "code",
   "execution_count": null,
   "metadata": {},
   "outputs": [],
   "source": [
    "i_delta_bins_cut=-10000\n",
    "i_r_max_cut=2\n",
    "arr_FPc = np.where((reco_FP_r_max_only>i_r_max_cut) & (delta_reco_FP_loc_only>i_delta_bins_cut))\n",
    "print(len(arr_FPc[0]))"
   ]
  },
  {
   "cell_type": "code",
   "execution_count": null,
   "metadata": {},
   "outputs": [],
   "source": [
    "nTrcks_min = -1\n",
    "\n",
    "true_PVs_z = truth_FullMC.z[18]\n",
    "true_PVs_nTracks = truth_FullMC.n[18]\n",
    "\n",
    "true_SVs_z = truth_FullMC_svs.z[18]\n",
    "true_SVs_n = truth_FullMC_svs.n[18]\n",
    "true_SVs_c = truth_FullMC_svs.cat[18]\n",
    "\n",
    "sorted_true_SVs_z = sorted(true_SVs_z)\n",
    "sorted_true_SVs_n = [i[1] for i in sorted( zip((true_SVs_z[true_SVs_n > nTrcks_min]), true_SVs_n[true_SVs_n > nTrcks_min]))]\n",
    "\n",
    "print(sorted_true_SVs_z)\n",
    "print(sorted_true_SVs_n)\n",
    "print(true_SVs_c)\n",
    "\n",
    "for i in sorted( zip((true_SVs_z[true_SVs_n > nTrcks_min]), true_SVs_n[true_SVs_n > nTrcks_min])):\n",
    "    print((i[0]+100)*10,i[1])\n",
    "\n",
    "\n"
   ]
  },
  {
   "cell_type": "code",
   "execution_count": null,
   "metadata": {},
   "outputs": [],
   "source": [
    "filtered_and_sorted_true_PVs_nTracks = [i[1] for i in sorted( zip((true_PVs_z[true_PVs_nTracks > nTrcks_min]), true_PVs_nTracks[true_PVs_nTracks > nTrcks_min]))]\n",
    "filtered_and_sorted_true_PVs_z = [i[0] for i in sorted( zip((true_PVs_z[true_PVs_nTracks > nTrcks_min]), true_PVs_nTracks[true_PVs_nTracks > nTrcks_min]))]\n",
    "filtered_and_sorted_true_PVs_z_bins = [((i+100)*10) for i in filtered_and_sorted_true_PVs_z]\n",
    "filtered_and_sorted_true_SVs_z_bins = [((i+100)*10) for i in sorted(true_SVs_z)]\n",
    "\n",
    "print(truth_FullMC.cat[18])\n",
    "print(true_PVs_nTracks)\n",
    "print(true_PVs_z)\n",
    "print(filtered_and_sorted_true_PVs_nTracks)\n",
    "print(filtered_and_sorted_true_PVs_z)\n",
    "print(filtered_and_sorted_true_PVs_z_bins)\n"
   ]
  },
  {
   "cell_type": "code",
   "execution_count": null,
   "metadata": {},
   "outputs": [],
   "source": [
    "for i in range(len(labels_FullMC_mask[18])):\n",
    "    print(i,labels_FullMC_mask[18][i],labels_FullMC[18][i],outputs_FullMC_mask[18][i],outputs_FullMC[18][i])\n",
    "print(truth_FullMC.n[18])\n",
    "\n"
   ]
  },
  {
   "cell_type": "code",
   "execution_count": null,
   "metadata": {},
   "outputs": [],
   "source": []
  },
  {
   "cell_type": "code",
   "execution_count": null,
   "metadata": {},
   "outputs": [],
   "source": []
  },
  {
   "cell_type": "code",
   "execution_count": null,
   "metadata": {},
   "outputs": [],
   "source": []
  },
  {
   "cell_type": "code",
   "execution_count": null,
   "metadata": {},
   "outputs": [],
   "source": []
  },
  {
   "cell_type": "markdown",
   "metadata": {},
   "source": [
    "#### Compute the efficencies over the dataset"
   ]
  },
  {
   "cell_type": "code",
   "execution_count": null,
   "metadata": {},
   "outputs": [],
   "source": [
    "eff_settings_res_top = dict(\n",
    "                        nsig_res = 5, # number of sigmas from original res(nTracks)\n",
    "                        min_res = 0.0, # \n",
    "                        threshold = 0.06,\n",
    "                        integral_threshold = 0.75,\n",
    "                        min_width = 0, # bins\n",
    "                        debug = 0,     # bins\n",
    "                        )\n",
    "\n",
    "global_min_res = 3.0\n",
    "pv_loc_settings_top = dict(\n",
    "    threshold = 0.06,\n",
    "    integral_threshold = 0.75,\n",
    "    min_width = 0    # bins\n",
    ")\n",
    "\n",
    "eff_settings = dict(\n",
    "    difference = 5., # bins\n",
    "    threshold = 1e-2,\n",
    "    integral_threshold = .2,\n",
    "    min_width = 3    # bins\n",
    ")\n",
    "\n",
    "eff_settings_nodiff = eff_settings.copy()\n",
    "del eff_settings_nodiff['difference']"
   ]
  },
  {
   "cell_type": "code",
   "execution_count": null,
   "metadata": {},
   "outputs": [],
   "source": [
    "%%time\n",
    "total = ValueSet(0,0,0,0)\n",
    "i=0\n",
    "for label, output in zip(labels_FullMC, outputs_FullMC):\n",
    "    total += efficiency(label, output, **eff_settings)\n",
    "    if i<20:\n",
    "        print(total)\n",
    "    i+=1"
   ]
  },
  {
   "cell_type": "code",
   "execution_count": null,
   "metadata": {},
   "outputs": [],
   "source": [
    "print(total)\n",
    "#print()\n",
    "print(total.pretty())"
   ]
  },
  {
   "cell_type": "markdown",
   "metadata": {},
   "source": [
    "#### Some examples of the counting algorithm:"
   ]
  },
  {
   "cell_type": "code",
   "execution_count": null,
   "metadata": {},
   "outputs": [],
   "source": [
    "for i in range(2):\n",
    "    result = efficiency(labels_FullMC[i], outputs_FullMC[i], **eff_settings)\n",
    "    print(format(i, '2'), result)"
   ]
  },
  {
   "cell_type": "code",
   "execution_count": null,
   "metadata": {
    "scrolled": false
   },
   "outputs": [],
   "source": [
    "for i in range(100):\n",
    "    result = efficiency_res(labels_FullMC_mask[i], outputs_FullMC_mask[i], truth_FullMC.n[i], truth_FullMC.z[i], **eff_settings_res_top)\n",
    "    if result.fp_rate>0 and result.eff_rate<=1 :\n",
    "        print(i)\n",
    "        print(result.fp_rate,result.eff_rate)\n",
    "        true_PVs_nTracks = truth_FullMC.n[i]\n",
    "        true_PVs_z = truth_FullMC.z[i]\n",
    "        sorted_true_PVs_z = [(i[0]+100)*10 for i in sorted( zip((true_PVs_z[true_PVs_nTracks > 4]), true_PVs_nTracks[true_PVs_nTracks > 4]))]\n",
    "        sorted_true_PVs_n = [i[1] for i in sorted( zip((true_PVs_z[true_PVs_nTracks > 4]), true_PVs_nTracks[true_PVs_nTracks > 4]))]\n",
    "        model_PVs_labels = get_PVs_label(1,labels_FullMC_mask[i], outputs_FullMC_mask[i], truth_FullMC.n[i], truth_FullMC.z[i],5,0,0.06,0.75,0,1)\n",
    "        target_PVs_loc = pv_locations_res(labels_FullMC_mask[i], **pv_loc_settings_top)\n",
    "        model_PVs_loc = pv_locations_res(outputs_FullMC_mask[i], **pv_loc_settings_top)\n",
    "        print(sorted_true_PVs_z)\n",
    "        print(sorted_true_PVs_n)\n",
    "        print(target_PVs_loc)\n",
    "        print(model_PVs_loc)\n",
    "        print(model_PVs_labels)\n",
    "        \n",
    "        ax = plot_truth_vs_predict(labels_FullMC_mask[i], outputs_FullMC_mask[i])\n",
    "        ax.set_title(\"Event: \"+str(i)+\" \"+str(result))"
   ]
  },
  {
   "cell_type": "code",
   "execution_count": null,
   "metadata": {},
   "outputs": [],
   "source": [
    "for i in range(100):\n",
    "    result = efficiency_res(labels_FullMC_mask[i], outputs_FullMC_mask[i], truth_FullMC.n[i], truth_FullMC.z[i], **eff_settings_res_top)\n",
    "    target_PVs_loc = pv_locations_res(labels_FullMC_mask[i], **pv_loc_settings_top)/10-100\n",
    "    model_PVs_loc = pv_locations_res(outputs_FullMC_mask[i], **pv_loc_settings_top)/10-100\n",
    "    if len(model_PVs_loc)<len(target_PVs_loc):\n",
    "        print(i)\n",
    "        ax = plot_truth_vs_predict(labels_FullMC_mask[i], outputs_FullMC_mask[i])\n",
    "        ax.set_title(\"Event: \"+str(i)+\" \"+str(result))\n",
    "        \n",
    "    diff_model_PVs_loc = []\n",
    "    for j in range(len(model_PVs_loc)-1):\n",
    "        diff_model_PVs_loc.append(model_PVs_loc[j+1]-model_PVs_loc[j])\n",
    "   \n",
    "    #if result.fp_rate>0 and result.eff_rate<=1 :\n",
    "    if len(model_PVs_loc)<len(target_PVs_loc):\n",
    "        print(\"\\nTrue PV z\",target_PVs_loc)        \n",
    "        print(\"Reco PV z\",model_PVs_loc)\n",
    "        print(\"Delta reco PV z\",diff_model_PVs_loc)\n"
   ]
  },
  {
   "cell_type": "code",
   "execution_count": null,
   "metadata": {
    "scrolled": false
   },
   "outputs": [],
   "source": [
    "for i in range(40,49):\n",
    "    target_PVs_loc = pv_locations_res(labels_FullMC_mask[i], **pv_loc_settings_top)\n",
    "    model_PVs_loc = pv_locations_res(outputs_FullMC_mask[i], **pv_loc_settings_top)\n",
    "    model_PVs_labels = get_PVs_label(1,labels_FullMC_mask[i], outputs_FullMC_mask[i], truth_FullMC.n[i], truth_FullMC.z[i],5,0,0.06,0.75,0,1)\n",
    "    #if len(model_PVs_loc)>len(target_PVs_loc):\n",
    "    print(i)\n",
    "    print(\"\\nTrue PV z\",target_PVs_loc)        \n",
    "    print(\"Reco PV z\",model_PVs_loc)\n",
    "    print(\"Reco PV label\",model_PVs_labels)\n",
    "    print(\"Delta reco PV z\",diff_model_PVs_loc)\n",
    "\n",
    "    ax = plot_truth_vs_predict(labels_FullMC_mask[i], outputs_FullMC_mask[i])\n",
    "    ax.set_title(\"Event: \"+str(i)+\" \"+str(result))\n",
    "        "
   ]
  },
  {
   "cell_type": "code",
   "execution_count": null,
   "metadata": {},
   "outputs": [],
   "source": []
  },
  {
   "cell_type": "code",
   "execution_count": null,
   "metadata": {},
   "outputs": [],
   "source": [
    "for i in range(100):\n",
    "    model_PVs_labels = get_PVs_label(1,labels_FullMC_mask[i], outputs_FullMC_mask[i], truth_FullMC.n[i], truth_FullMC.z[i],5,0,0.06,0.75,0,1)\n",
    "    model_PVs_loc = pv_locations_res(outputs_FullMC_mask[i], **pv_loc_settings_top)/10-100\n"
   ]
  },
  {
   "cell_type": "code",
   "execution_count": null,
   "metadata": {},
   "outputs": [],
   "source": []
  },
  {
   "cell_type": "code",
   "execution_count": null,
   "metadata": {},
   "outputs": [],
   "source": []
  },
  {
   "cell_type": "code",
   "execution_count": null,
   "metadata": {},
   "outputs": [],
   "source": []
  },
  {
   "cell_type": "code",
   "execution_count": null,
   "metadata": {},
   "outputs": [],
   "source": []
  },
  {
   "cell_type": "code",
   "execution_count": null,
   "metadata": {},
   "outputs": [],
   "source": []
  },
  {
   "cell_type": "code",
   "execution_count": null,
   "metadata": {},
   "outputs": [],
   "source": []
  },
  {
   "cell_type": "code",
   "execution_count": null,
   "metadata": {},
   "outputs": [],
   "source": []
  },
  {
   "cell_type": "code",
   "execution_count": null,
   "metadata": {},
   "outputs": [],
   "source": []
  },
  {
   "cell_type": "markdown",
   "metadata": {},
   "source": [
    "#### Calculation using res(nTracks)"
   ]
  },
  {
   "cell_type": "code",
   "execution_count": null,
   "metadata": {},
   "outputs": [],
   "source": [
    "for i in range(len(outputs_FullMC_mask[48])):\n",
    "    print(i,labels_FullMC_mask[48][i],outputs_FullMC_mask[48][i])\n"
   ]
  },
  {
   "cell_type": "code",
   "execution_count": null,
   "metadata": {},
   "outputs": [],
   "source": [
    "global_min_res = 3.0\n",
    "eff_settings_res = dict(\n",
    "    nsig_res = 5, # number of sigmas from original res(nTracks)\n",
    "    min_res = global_min_res, # number of sigmas from original res(nTracks)\n",
    "    threshold = 1e-2,\n",
    "    integral_threshold = .2,\n",
    "    min_width = 3,    # bins\n",
    "    debug = 1,    # bins\n",
    ")\n",
    "pv_loc_settings = dict(\n",
    "    threshold = 1e-2,\n",
    "    integral_threshold = .2,\n",
    "    min_width = 3    # bins\n",
    ")\n",
    "\n",
    "total = ValueSet_res(0,0,0,0)\n",
    "#total = efficiency_res(labels[0], outputs[0], truth.n[0], truth.z[0], **eff_settings_res)    \n",
    "#print(total[4])\n",
    "#total += efficiency_res(labels[1], outputs[1], truth.n[1], truth.z[1], **eff_settings_res) \n",
    "#efficiency_res(labels[0], outputs[0], truth.n[0], truth.z[0], **eff_settings_res) \n",
    "\n",
    "target_PVs_loc = pv_locations_res(labels_FullMC[0], **pv_loc_settings)\n",
    "true_PVs_nTracks = truth_FullMC.n[0]\n",
    "true_PVs_z = truth_FullMC.z[0]\n",
    "nsig_res = 5.0\n",
    "min_res = global_min_res\n",
    "A_res = 926.0\n",
    "B_res = 0.84\n",
    "C_res = 10.7\n",
    "filtered_and_sorted_res = np.empty_like(target_PVs_loc)\n",
    "\n",
    "print(type(truth_FullMC.z[0][0]))\n",
    "\n",
    "\n",
    "# #filtered_and_sorted_true_PVs_nTracks = np.zeros(len(true_PVs_z[true_PVs_nTracks > 4]), np.float32)\n",
    "filtered_and_sorted_true_PVs_nTracks = [i[1] for i in sorted( zip((true_PVs_z[true_PVs_nTracks > 4]), true_PVs_nTracks[true_PVs_nTracks > 4]))]\n",
    "filtered_and_sorted_res = (nsig_res*0.01* (A_res / np.power(filtered_and_sorted_true_PVs_nTracks, -1 * B_res) + C_res))\n",
    "get_resolution(target_PVs_loc, true_PVs_nTracks, true_PVs_z, nsig_res, min_res, 1)\n",
    "#print(get_resolution(pv_locations_res(labels[0], **pv_loc_settings), truth.n[0], truth.z[0], 5.0, global_min_res, 1))\n",
    "# #get_nTracks_sorted(pv_locations_res(labels[0], **pv_loc_settings), truth.n[0], truth.z[0], 1)"
   ]
  },
  {
   "cell_type": "code",
   "execution_count": null,
   "metadata": {},
   "outputs": [],
   "source": [
    "total = ValueSet_res(0,0,0,0)\n",
    "target_PVs_loc = pv_locations_res(labels_FullMC[0], **pv_loc_settings)\n",
    "true_PVs_nTracks = truth_FullMC.n[0]\n",
    "true_PVs_z = truth_FullMC.z[0]\n",
    "nsig_res = 5.0\n",
    "min_res = global_min_res\n",
    "A_res = 926.0\n",
    "B_res = 0.84\n",
    "C_res = 10.7\n",
    "filtered_and_sorted_res = np.empty_like(target_PVs_loc)\n",
    "\n",
    "\n",
    "print(type(truth_ToyMC.z[0][0]))\n",
    "print(type(truth_FullMC.z[0][0]))\n",
    "\n",
    "\n",
    "# #filtered_and_sorted_true_PVs_nTracks = np.zeros(len(true_PVs_z[true_PVs_nTracks > 4]), np.float32)\n",
    "filtered_and_sorted_true_PVs_nTracks = [i[1] for i in sorted( zip((true_PVs_z[true_PVs_nTracks > 4]), true_PVs_nTracks[true_PVs_nTracks > 4]))]\n",
    "filtered_and_sorted_res = (nsig_res*0.01* (A_res / np.power(filtered_and_sorted_true_PVs_nTracks, -1 * B_res) + C_res))\n",
    "get_resolution(target_PVs_loc, true_PVs_nTracks, true_PVs_z, nsig_res, min_res, 1)\n"
   ]
  },
  {
   "cell_type": "code",
   "execution_count": null,
   "metadata": {},
   "outputs": [],
   "source": [
    "\n",
    "global_min_res = 0.0\n",
    "for i in range(0,10):\n",
    "    global_nsig_res = 2.0+0.5*i\n",
    "\n",
    "    eff_settings_res_debug = dict(\n",
    "        nsig_res = global_nsig_res, # number of sigmas from original res(nTracks)\n",
    "        min_res = global_min_res, # number of sigmas from original res(nTracks)\n",
    "        threshold = 1e-2,\n",
    "        integral_threshold = .2,\n",
    "        min_width = 3,    # bins\n",
    "        debug = 1,    # bins\n",
    "    )\n",
    "    eff_settings_res = dict(\n",
    "        nsig_res = global_nsig_res, # number of sigmas from original res(nTracks)\n",
    "        min_res = global_min_res, # number of sigmas from original res(nTracks)\n",
    "        threshold = 1e-2,\n",
    "        integral_threshold = .2,\n",
    "        min_width = 3, # bins\n",
    "        debug = 0,     # bins\n",
    "    )\n",
    "    PV_found_settings_res = dict(\n",
    "        nsig_res = global_nsig_res, # number of sigmas from original res(nTracks)\n",
    "        min_res = global_min_res, # number of sigmas from original res(nTracks)\n",
    "        threshold = 1e-2,\n",
    "        integral_threshold = .2,\n",
    "        min_width = 3,    # bins\n",
    "        debug = 0    # bins\n",
    "    )\n",
    "\n",
    "    big_total = ValueSet_res(0,0,0,0)\n",
    "\n",
    "    \n",
    "    res_all = np.ndarray(0,dtype=float)\n",
    "    for label, output, ns, zs in zip(labels_FullMC, outputs_FullMC, truth_FullMC.n, truth_FullMC.z):\n",
    "        #print(efficiency_res(label, output, ns, zs, **eff_settings_res))\n",
    "        big_total += efficiency_res(label, output, ns, zs, **eff_settings_res) \n",
    "        pv_loc = pv_locations_res(label, **pv_loc_settings)\n",
    "        res = get_resolution(pv_loc, ns, zs,global_nsig_res,global_min_res,0)\n",
    "        res_all = np.append(res_all, res)\n",
    "    #print(total)\n",
    "    #print(big_total)\n",
    "    print(f'For {global_nsig_res:.3} sigma resolution (mean = {np.mean(res_all):.3}, std = {np.std(res_all):.3} bins) => eff {big_total.eff_rate:.2%}, FP rate: {big_total.fp_rate:.3}/event')\n",
    "\n"
   ]
  },
  {
   "cell_type": "code",
   "execution_count": null,
   "metadata": {},
   "outputs": [],
   "source": []
  },
  {
   "cell_type": "code",
   "execution_count": null,
   "metadata": {},
   "outputs": [],
   "source": [
    "for i in range(0,10):\n",
    "    global_diff = 1.0*i\n",
    "\n",
    "    eff_settings_loop = dict(\n",
    "        difference = global_diff, # arr_totalsbins\n",
    "        threshold = 1e-2,\n",
    "        integral_threshold = .2,\n",
    "        min_width = 3    # bins\n",
    "    )\n",
    "\n",
    "    total_loop = ValueSet(0,0,0,0)\n",
    "    for label, output in zip(labels_FullMC, outputs_FullMC):\n",
    "        total_loop += efficiency(label, output, **eff_settings_loop)\n",
    "\n",
    "    print(f'For {global_diff} bins resolution => eff {total_loop.eff_rate:.2%}, FP rate: {total_loop.fp_rate:.3}/event')\n"
   ]
  },
  {
   "cell_type": "code",
   "execution_count": null,
   "metadata": {},
   "outputs": [],
   "source": [
    "print(pv_locations(labels_FullMC[0], **eff_settings_nodiff)/10-100)\n",
    "print(pv_locations_res(labels_FullMC[0], **eff_settings_nodiff)/10-100)\n",
    "valid = truth_FullMC.n[0] > 4\n",
    "zs = truth_FullMC.z[0][valid]\n",
    "print(np.sort(zs))\n",
    "\n",
    "l = [0,1,0,1]\n",
    "print(len(l))\n",
    "print(sum(l))"
   ]
  },
  {
   "cell_type": "code",
   "execution_count": null,
   "metadata": {
    "scrolled": true
   },
   "outputs": [],
   "source": [
    "eff_settings_res = dict(\n",
    "                        nsig_res = 5, # number of sigmas from original res(nTracks)\n",
    "                        min_res = 0, # \n",
    "                        threshold = 1e-2,\n",
    "                        integral_threshold = .5,\n",
    "                        min_width = 0, # bins\n",
    "                        debug = 0,     # bins\n",
    "                        )\n",
    "\n",
    "mytotal = ValueSet(0,0,0,0)\n",
    "mytotal_res = ValueSet_res(0,0,0,0)\n",
    "grand_mytotal = ValueSet(0,0,0,0)\n",
    "grand_mytotal_res = ValueSet_res(0,0,0,0)\n",
    "grand_mytotal_res_mask = ValueSet_res(0,0,0,0)\n",
    "print(\"#####################\")\n",
    "print(\"##  WITH RESO CODE :\")\n",
    "print(\"#####################\")\n",
    "\n",
    "for i in range(1000):\n",
    "    mytotal = efficiency(labels_FullMC[i], outputs_FullMC[i], **eff_settings)\n",
    "    mytotal_res = efficiency_res(labels_FullMC[i], outputs_FullMC[i], truth_FullMC.n[i], truth_FullMC.z[i], **eff_settings_res)    \n",
    "    mytotal_res_mask = efficiency_res(labels_FullMC_mask[i], outputs_FullMC_mask[i], truth_FullMC.n[i], truth_FullMC.z[i], **eff_settings_res)    \n",
    "    grand_mytotal += mytotal\n",
    "    grand_mytotal_res += mytotal_res\n",
    "    grand_mytotal_res_mask += mytotal_res_mask\n",
    "    #if (mytotal.fp_rate != mytotal_res.fp_rate or mytotal.eff_rate != mytotal_res.eff_rate):\n",
    "    #    print(\">>>>>>>>>Event : \",i)\n",
    "    #    print(\"Original code:\",mytotal)\n",
    "    #    print(\"Current  code:\",mytotal_res)\n",
    "\n",
    "print(\"Original code:\",grand_mytotal)\n",
    "print(\"Current code:\",grand_mytotal_res)\n",
    "print(\"Current code mask:\",grand_mytotal_res_mask)\n"
   ]
  },
  {
   "cell_type": "code",
   "execution_count": null,
   "metadata": {},
   "outputs": [],
   "source": [
    "i=97\n",
    "print(efficiency_res(labels_FullMC[i], outputs_FullMC[i], truth_FullMC.n[i], truth_FullMC.z[i], **eff_settings_res_debug))"
   ]
  },
  {
   "cell_type": "code",
   "execution_count": null,
   "metadata": {
    "scrolled": true
   },
   "outputs": [],
   "source": [
    "\n"
   ]
  },
  {
   "cell_type": "code",
   "execution_count": null,
   "metadata": {},
   "outputs": [],
   "source": [
    "i=97\n",
    "print(truth_FullMC.n[i], 10*(truth_FullMC.z[i]+100))\n",
    "pv_loc = pv_locations_res(labels_FullMC[i], **pv_loc_settings)\n",
    "print(pv_loc)\n",
    "res = get_resolution(pv_loc, truth_FullMC.n[i], truth_FullMC.z[i],global_nsig_res,global_min_res,0)\n",
    "print(res)\n",
    "nTks = get_nTracks_sorted(pv_loc, truth_FullMC.n[i], truth_FullMC.z[i],0)\n",
    "print(nTks)\n",
    "found_PV = get_PVs_label(0,labels_FullMC[i], outputs_FullMC[i], truth_FullMC.n[i], truth_FullMC.z[i], **PV_found_settings_res)\n",
    "print(found_PV)"
   ]
  },
  {
   "cell_type": "code",
   "execution_count": null,
   "metadata": {},
   "outputs": [],
   "source": [
    "res_all = np.zeros(10,dtype=int)\n",
    "res_all_test = np.zeros(10,dtype=int)\n",
    "res_all_test[5]=1\n",
    "\n",
    "\n",
    "print(res_all)\n",
    "print(res_all_test)\n",
    "print(res_all[res_all_test==1])\n"
   ]
  },
  {
   "cell_type": "code",
   "execution_count": null,
   "metadata": {},
   "outputs": [],
   "source": [
    "pvs_successful = Counter()\n",
    "pvs_failed = Counter()\n",
    "\n",
    "total_PVs = 0\n",
    "res_all = np.ndarray(0,dtype=float)\n",
    "nTcks_all = np.ndarray(0,dtype=int)\n",
    "pvs_found_all = np.ndarray(0,dtype=int)\n",
    "\n",
    "i = 0\n",
    "for label, output, ns, zs in zip(labels_FullMC, outputs_FullMC, truth_FullMC.n, truth_FullMC.z):\n",
    "    pv_loc = pv_locations_res(label, **pv_loc_settings)\n",
    "    res = get_resolution(pv_loc, ns, zs,global_nsig_res,global_min_res,0)\n",
    "    res_all = np.append(res_all, res)\n",
    "    n_Tks = get_nTracks_sorted(pv_loc, ns, zs,0)\n",
    "    nTcks_all = np.append(nTcks_all, n_Tks)\n",
    "    found_PV = get_PVs_label(0,label, output, ns, zs, **PV_found_settings_res)\n",
    "    pvs_found_all = np.append(pvs_found_all, found_PV)\n",
    "    j = 0\n",
    "    for item in found_PV:\n",
    "        if item != 0 and item != 1:\n",
    "            print(i)\n",
    "            print(j, item)\n",
    "        \n",
    "    for nTks, foundPV in zip(n_Tks, found_PV):\n",
    "        if foundPV == 1:\n",
    "            pvs_successful[nTks] += 1\n",
    "        else:\n",
    "            pvs_failed[nTks] += 1\n",
    "        total_PVs += 1\n",
    "    i += 1\n",
    "    \n",
    "print(pvs_successful)\n",
    "print(pvs_failed)\n",
    "arr_successful = np.array([pvs_successful[i] for i in range(100)])\n",
    "arr_failed = np.array([pvs_failed[i] for i in range(100)])\n",
    "arr_totals = arr_successful + arr_failed\n",
    "arr_totals = np.ma.array(arr_totals, mask=arr_totals==0)\n",
    "\n",
    "arr_eff = arr_successful / arr_totals\n",
    "print(arr_eff[:61])\n",
    "print(arr_totals[:61])"
   ]
  },
  {
   "cell_type": "code",
   "execution_count": null,
   "metadata": {},
   "outputs": [],
   "source": [
    "res_plot = plt.hist(res_all[pvs_found_all==0],bins=8)        \n",
    "plt.show()"
   ]
  },
  {
   "cell_type": "code",
   "execution_count": null,
   "metadata": {},
   "outputs": [],
   "source": [
    "nTcks_plot = plt.hist(nTcks_all[pvs_found_all==1],bins=92)        \n",
    "plt.show()"
   ]
  },
  {
   "cell_type": "code",
   "execution_count": null,
   "metadata": {},
   "outputs": [],
   "source": [
    "i = 0\n",
    "for item in pvs_found_all:\n",
    "    if item != 0 and item != 1:\n",
    "        print(i, item)\n",
    "    i+=1\n",
    "#= plt.hist(pvs_found_all,bins=10)        \n",
    "#plt.show()\n",
    "print(nTcks_all[pvs_found_all==0])"
   ]
  },
  {
   "cell_type": "code",
   "execution_count": null,
   "metadata": {},
   "outputs": [],
   "source": [
    "nTcks_res_plot = plt.hist2d(nTcks_all[pvs_found_all==1], res_all[pvs_found_all==1],bins=40)        \n",
    "plt.colorbar()\n",
    "plt.show()"
   ]
  },
  {
   "cell_type": "code",
   "execution_count": null,
   "metadata": {},
   "outputs": [],
   "source": [
    "nTcks_res_plot = plt.hist2d(nTcks_all[pvs_found_all==0], pvs_found_all[pvs_found_all==0],bins=10)        \n",
    "plt.colorbar()\n",
    "plt.show()"
   ]
  },
  {
   "cell_type": "code",
   "execution_count": null,
   "metadata": {},
   "outputs": [],
   "source": [
    "i = 2\n",
    "\n",
    "print(efficiency(labels_FullMC[i], outputs_FullMC[i], **eff_settings))\n",
    "\n",
    "found_values = pv_locations(outputs_FullMC[i], **eff_settings_nodiff)/10-100\n",
    "\n",
    "valid = truth_FullMC.n[i] > 4\n",
    "print(valid)\n",
    "zs = truth_FullMC.z[i][valid]\n",
    "ns = truth_FullMC.n[i][valid]\n",
    "\n",
    "print(\"Found nTracks Location\\tDistance\")\n",
    "for z,n in zip(zs, ns):\n",
    "    closest = np.min(np.abs(z - found_values))\n",
    "    found = closest < eff_settings['difference']/10\n",
    "    print(f\"{found!s:5} {n:7} {z:8.5}  {closest:8.5}\")\n",
    "    \n",
    "target_values = pv_locations(labels_FullMC[i], **eff_settings_nodiff)/10-100\n",
    "target_values"
   ]
  },
  {
   "cell_type": "code",
   "execution_count": null,
   "metadata": {},
   "outputs": [],
   "source": [
    "for i in range(100):\n",
    "\n",
    "    eff = efficiency(labels_FullMC[i], outputs_FullMC[i], **eff_settings)\n",
    "\n",
    "    found_values = pv_locations(outputs_FullMC[i], **eff_settings_nodiff)/10-100\n",
    "\n",
    "    valid = truth_FullMC.n[i] > 4\n",
    "    zs = truth_FullMC.z[i][valid]\n",
    "    ns = truth_FullMC.n[i][valid]\n",
    "\n",
    "    total_found = 0\n",
    "    for z,n in zip(zs, ns):\n",
    "        closest = np.min(np.abs(z - found_values))\n",
    "        found = closest < eff_settings['difference']/10\n",
    "        total_found += found\n",
    "        \n",
    "    if total_found != eff.S:\n",
    "        print(i, total_found, eff.S)"
   ]
  },
  {
   "cell_type": "code",
   "execution_count": null,
   "metadata": {},
   "outputs": [],
   "source": [
    "total_found, pvs_successful, pvs_failed = exact_efficiency(truth_FullMC, outputs_FullMC, **eff_settings)"
   ]
  },
  {
   "cell_type": "code",
   "execution_count": null,
   "metadata": {},
   "outputs": [],
   "source": [
    "print(pvs_failed.values())"
   ]
  },
  {
   "cell_type": "code",
   "execution_count": null,
   "metadata": {},
   "outputs": [],
   "source": [
    "fr = (total_found - total.S) / ((total_found + total.S) / 2)\n",
    "print(f'Fractional difference between the two methods: {fr:.2%}')"
   ]
  },
  {
   "cell_type": "code",
   "execution_count": null,
   "metadata": {},
   "outputs": [],
   "source": [
    "# Found 49507 of 54804, added 5570 (eff 90.33%) (0.557 FP/event)\n",
    "print(big_total)\n",
    "print(f'Found {total_found} of {big_total.real_pvs} (eff {total_found/big_total.real_pvs:.2%})')"
   ]
  },
  {
   "cell_type": "code",
   "execution_count": null,
   "metadata": {},
   "outputs": [],
   "source": [
    "arr_successful = np.array([pvs_successful[i] for i in range(100)])\n",
    "arr_failed = np.array([pvs_failed[i] for i in range(100)])"
   ]
  },
  {
   "cell_type": "code",
   "execution_count": null,
   "metadata": {},
   "outputs": [],
   "source": [
    "arr_totals = arr_successful + arr_failed\n",
    "arr_totals = np.ma.array(arr_totals, mask=arr_totals==0)\n",
    "\n",
    "arr_eff = arr_successful / arr_totals"
   ]
  },
  {
   "cell_type": "code",
   "execution_count": null,
   "metadata": {},
   "outputs": [],
   "source": [
    "print(arr_eff[5:61])\n",
    "#print(arr_totals[:61])"
   ]
  },
  {
   "cell_type": "code",
   "execution_count": null,
   "metadata": {},
   "outputs": [],
   "source": [
    "np.savetxt('talks/arr_eff_sym.txt', arr_eff)\n",
    "np.savetxt('talks/arr_totals_sym.txt', arr_totals)\n",
    "import pickle\n",
    "pickle.dumps(total)"
   ]
  },
  {
   "cell_type": "code",
   "execution_count": null,
   "metadata": {},
   "outputs": [],
   "source": [
    "fig, (ax1, ax2) = plt.subplots(2,1,figsize=(14,7), gridspec_kw={'height_ratios':(2,1)})\n",
    "\n",
    "ax1.bar(np.arange(5,61), arr_eff[5:61], width=1, align='edge')\n",
    "ax1.bar(np.arange(5), arr_eff[:5], width=1, align='edge')\n",
    "ax1.set_xlabel('# LHCb long tracks')\n",
    "ax1.set_ylabel('Efficiency')\n",
    "ax1.set_ylim(0,1.0)\n",
    "ax1.set_xlim(0,61)\n",
    "ax1.set_yticks(np.arange(11)/10)\n",
    "ax1.set_yticks([.95,.96,.97,.98,.99],minor=True)\n",
    "ax1.set_xticks(np.arange(0,61,5))\n",
    "ax1.grid(which='both')\n",
    "\n",
    "ax2.bar(np.arange(5,61), arr_totals[5:61], width=1, align='edge')\n",
    "ax2.bar(np.arange(5), arr_totals[:5], width=1, align='edge')\n",
    "ax2.set_xlabel('# LHCb long tracks')\n",
    "ax2.set_ylabel('PVs')\n",
    "ax2.set_xlim(0,61)\n",
    "ax2.set_ylim(50,20000)\n",
    "ax2.set_yscale('log')\n",
    "ax2.set_xticks(np.arange(0,61,5))\n",
    "ax2.grid(which='both')\n",
    "\n",
    "# these are matplotlib.patch.Patch properties\n",
    "# total_found could be used instead of total.S\n",
    "props = dict(boxstyle='round', facecolor='C2')\n",
    "textprops = dict(color='C0', multialignment='left')\n",
    "textstr = f'''\\\n",
    "Found {big_total.S} of {big_total.real_pvs} (eff {big_total.S/big_total.real_pvs:.2%})\n",
    "False positive rate = {big_total.fp_rate:.3} per event\n",
    "Events in sample = 20K\n",
    "Training sample = 240K'''\n",
    "\n",
    "# place a text box in upper left in axes coords\n",
    "ax1.text(0.95, 0.9, textstr, transform=ax1.transAxes, fontsize=14,\n",
    "        verticalalignment='top', horizontalalignment='right', bbox=props, fontdict=textprops)\n",
    "\n",
    "plt.tight_layout()\n",
    "#plt.savefig('effntracks.pdf')\n",
    "plt.show()"
   ]
  },
  {
   "cell_type": "code",
   "execution_count": null,
   "metadata": {},
   "outputs": [],
   "source": []
  },
  {
   "cell_type": "code",
   "execution_count": null,
   "metadata": {},
   "outputs": [],
   "source": []
  },
  {
   "cell_type": "code",
   "execution_count": null,
   "metadata": {},
   "outputs": [],
   "source": []
  },
  {
   "cell_type": "code",
   "execution_count": null,
   "metadata": {},
   "outputs": [],
   "source": [
    "from numpy import random\n",
    "from math import *"
   ]
  },
  {
   "cell_type": "code",
   "execution_count": null,
   "metadata": {
    "scrolled": false
   },
   "outputs": [],
   "source": [
    "print(\"#####################\")\n",
    "print(\"##  WITH RESO CODE :\")\n",
    "print(\"#####################\")"
   ]
  },
  {
   "cell_type": "code",
   "execution_count": null,
   "metadata": {},
   "outputs": [],
   "source": [
    "\n",
    "\n",
    "eff_settings_res = dict(\n",
    "                        nsig_res = 5, # number of sigmas from original res(nTracks)\n",
    "                        min_res = 10.0, # \n",
    "                        threshold = 0.06,\n",
    "                        integral_threshold = 0.75,\n",
    "                        min_width = 0, # bins\n",
    "                        debug = 0,     # bins\n",
    "                        )\n",
    "\n",
    "\n",
    "mytotal = ValueSet(0,0,0,0)\n",
    "mytotal_res = ValueSet_res(0,0,0,0)\n",
    "mytotal_res_mask = ValueSet_res(0,0,0,0)\n",
    "grand_mytotal = ValueSet(0,0,0,0)\n",
    "grand_mytotal_res = ValueSet_res(0,0,0,0)\n",
    "grand_mytotal_res_mask = ValueSet_res(0,0,0,0)\n",
    "for i in range(1000):\n",
    "    mytotal = efficiency(labels_FullMC[i], outputs_FullMC[i], **eff_settings)\n",
    "    mytotal_res = efficiency_res(labels_FullMC[i], outputs_FullMC[i], truth_FullMC.n[i], truth_FullMC.z[i], **eff_settings_res)    \n",
    "    mytotal_res_mask = efficiency_res(labels_FullMC_mask[i], outputs_FullMC_mask[i], truth_FullMC.n[i], truth_FullMC.z[i], **eff_settings_res)    \n",
    "    grand_mytotal += mytotal\n",
    "    grand_mytotal_res += mytotal_res\n",
    "    grand_mytotal_res_mask += mytotal_res_mask\n",
    "    #if (mytotal.fp_rate != mytotal_res.fp_rate or mytotal.eff_rate != mytotal_res.eff_rate):\n",
    "    #    print(\">>>>>>>>>Event : \",i)\n",
    "    #    print(\"Original code:\",mytotal)\n",
    "    #    print(\"Current  code:\",mytotal_res)\n",
    "\n",
    "print(\"Original code:\",grand_mytotal)\n",
    "print(\"Current code:\",grand_mytotal_res)\n",
    "print(\"Current code mask:\",grand_mytotal_res_mask)\n",
    "grand_mytotal_res_mask.fp_rate\n",
    "grand_mytotal_res_mask.eff_rate\n"
   ]
  },
  {
   "cell_type": "code",
   "execution_count": null,
   "metadata": {},
   "outputs": [],
   "source": [
    "\n",
    "min_widths = [0]\n",
    "threshold_pow = -4*random.random(size=(40))\n",
    "thresholds = sorted(0.1*10**threshold_pow)\n",
    "thresholds\n",
    "integral_thresholds = sorted(random.randint(150,size=(40))/1000)\n",
    "integral_thresholds\n",
    "\n",
    "print(min_widths)\n",
    "print(thresholds)\n",
    "print(integral_thresholds)\n",
    "\n",
    "d_res={}\n",
    "for i_min_width in min_widths:\n",
    "    d_res[i_min_width]={}\n",
    "    print('min_width',i_min_width)\n",
    "    for i_threshold in thresholds:\n",
    "        d_res[i_min_width][i_threshold]={}\n",
    "        #print('   threshold',i_threshold)\n",
    "        for i_integral_threshold in integral_thresholds:\n",
    "            #print('      integral_threshold',i_integral_threshold)\n",
    "            total = ValueSet_res(0,0,0,0)\n",
    "            sum_total = ValueSet_res(0,0,0,0)\n",
    "            for i in range(1000):\n",
    "                #eff_settings_res = dict(nsig_res = 5,  min_res = 0.01, threshold = i_threshold, \n",
    "                #                        integral_threshold = i_integral_threshold, \n",
    "                #                        min_width = i_min_width, debug = 0,)\n",
    "\n",
    "                total = efficiency_res(labels_FullMC_mask[i], outputs_FullMC_mask[i], \n",
    "                                       truth_FullMC.n[i], truth_FullMC.z[i], nsig_res = 5,  \n",
    "                                       min_res = 0.01, threshold = i_threshold, \n",
    "                                       integral_threshold = i_integral_threshold, \n",
    "                                       min_width = i_min_width, debug = 0)    \n",
    "                sum_total += total\n",
    "            d_res[i_min_width][i_threshold][i_integral_threshold]={\"eff\":sum_total.eff_rate,\"fp\":sum_total.fp_rate}"
   ]
  },
  {
   "cell_type": "code",
   "execution_count": null,
   "metadata": {},
   "outputs": [],
   "source": [
    "max_eff = 0\n",
    "min_fp = 1\n",
    "best_min_width=0\n",
    "best_threshold=0\n",
    "best_integral_threshold=0\n",
    "\n",
    "for i_min_width in min_widths:\n",
    "    for i_threshold in thresholds:\n",
    "        for i_integral_threshold in integral_thresholds:\n",
    "            eff = d_res[i_min_width][i_threshold][i_integral_threshold][\"eff\"]\n",
    "            fp = d_res[i_min_width][i_threshold][i_integral_threshold][\"fp\"]\n",
    "            #if eff>=max_eff and fp<=min_fp:\n",
    "            if (eff - fp)>(max_eff - min_fp):\n",
    "                max_eff=eff\n",
    "                min_fp=fp\n",
    "                best_min_width = i_min_width\n",
    "                best_threshold = i_threshold\n",
    "                best_integral_threshold = i_integral_threshold\n",
    "                \n",
    "print(max_eff,min_fp)\n",
    "print(best_min_width,best_threshold,best_integral_threshold)\n"
   ]
  },
  {
   "cell_type": "code",
   "execution_count": null,
   "metadata": {},
   "outputs": [],
   "source": []
  }
 ],
 "metadata": {
  "kernelspec": {
   "display_name": "Python 3",
   "language": "python",
   "name": "python3"
  },
  "language_info": {
   "codemirror_mode": {
    "name": "ipython",
    "version": 3
   },
   "file_extension": ".py",
   "mimetype": "text/x-python",
   "name": "python",
   "nbconvert_exporter": "python",
   "pygments_lexer": "ipython3",
   "version": "3.7.3"
  }
 },
 "nbformat": 4,
 "nbformat_minor": 2
}
