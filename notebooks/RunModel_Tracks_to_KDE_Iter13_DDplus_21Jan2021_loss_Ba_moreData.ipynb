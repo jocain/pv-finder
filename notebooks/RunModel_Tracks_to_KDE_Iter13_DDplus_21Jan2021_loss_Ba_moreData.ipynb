{
 "cells": [
  {
   "cell_type": "code",
   "execution_count": 1,
   "metadata": {},
   "outputs": [],
   "source": [
    "##%matplotlib widget\n",
    "## with %matplotlib notebook: seems to require ipympl as part of environment, either\n",
    "## part of the conda environment or \"pip install ipympl\"\n",
    "## otherwise, does not show ANY plots in note\"book, plt.savefig() works\n",
    "%matplotlib notebook  \n",
    "##%matplotlib inline    ## --plt.savefig()  works, but re-sizing does NOT\n"
   ]
  },
  {
   "cell_type": "markdown",
   "metadata": {},
   "source": [
    "This notebook is the second attempt to read in track information and use it to predict the KDE used as input to PvFinder. This time, we are reading in poca KDEs rather than the original KDEs. \n",
    "\n",
    "collectdata_kde_C.py uses poca_z, poca_x, poca_y, major_axis_x, major_axis_y, and major_axis_z as the six track parameters (for the moment)\n"
   ]
  },
  {
   "cell_type": "markdown",
   "metadata": {},
   "source": [
    "Check the current GPU usage. Please try to be nice!"
   ]
  },
  {
   "cell_type": "code",
   "execution_count": 2,
   "metadata": {},
   "outputs": [
    {
     "name": "stdout",
     "output_type": "stream",
     "text": [
      "Thu Jan 21 22:54:00 2021       \r\n",
      "+-----------------------------------------------------------------------------+\r\n",
      "| NVIDIA-SMI 440.64.00    Driver Version: 440.64.00    CUDA Version: 10.2     |\r\n",
      "|-------------------------------+----------------------+----------------------+\r\n",
      "| GPU  Name        Persistence-M| Bus-Id        Disp.A | Volatile Uncorr. ECC |\r\n",
      "| Fan  Temp  Perf  Pwr:Usage/Cap|         Memory-Usage | GPU-Util  Compute M. |\r\n",
      "|===============================+======================+======================|\r\n",
      "|   0  TITAN V             Off  | 00000000:03:00.0 Off |                  N/A |\r\n",
      "| 28%   32C    P8    23W / 250W |   3564MiB / 12066MiB |      0%      Default |\r\n",
      "+-------------------------------+----------------------+----------------------+\r\n",
      "|   1  Tesla P100-PCIE...  Off  | 00000000:83:00.0 Off |                    0 |\r\n",
      "| N/A   31C    P0    27W / 250W |     10MiB / 16280MiB |      0%      Default |\r\n",
      "+-------------------------------+----------------------+----------------------+\r\n",
      "|   2  TITAN V             Off  | 00000000:84:00.0 Off |                  N/A |\r\n",
      "| 28%   36C    P8    25W / 250W |     12MiB / 12066MiB |      0%      Default |\r\n",
      "+-------------------------------+----------------------+----------------------+\r\n",
      "                                                                               \r\n",
      "+-----------------------------------------------------------------------------+\r\n",
      "| Processes:                                                       GPU Memory |\r\n",
      "|  GPU       PID   Type   Process name                             Usage      |\r\n",
      "|=============================================================================|\r\n",
      "|    0     42274      C   ...a/conda/envs/goofit-june2020/bin/python  1095MiB |\r\n",
      "|    0     49144      C   ...a/conda/envs/goofit-june2020/bin/python  2457MiB |\r\n",
      "+-----------------------------------------------------------------------------+\r\n"
     ]
    }
   ],
   "source": [
    "!nvidia-smi"
   ]
  },
  {
   "cell_type": "markdown",
   "metadata": {},
   "source": [
    "> **WARNING**: The card numbers here are *not* the same as in CUDA. You have been warned."
   ]
  },
  {
   "cell_type": "markdown",
   "metadata": {},
   "source": [
    "This notebook is first attempt to read in track information and use it to predict the KDE used as input to PvFinder.\n"
   ]
  },
  {
   "cell_type": "markdown",
   "metadata": {},
   "source": [
    "## Imports"
   ]
  },
  {
   "cell_type": "code",
   "execution_count": 3,
   "metadata": {},
   "outputs": [],
   "source": [
    "import matplotlib.pyplot as plt\n",
    "import numpy as np\n",
    "import time\n",
    "import torch\n",
    "import pandas as pd\n",
    "\n",
    "# Python 3 standard library\n",
    "from pathlib import Path\n",
    "\n",
    "##from torchsummary import summary"
   ]
  },
  {
   "cell_type": "markdown",
   "metadata": {},
   "source": [
    "### Set up local parameters"
   ]
  },
  {
   "cell_type": "code",
   "execution_count": 4,
   "metadata": {},
   "outputs": [],
   "source": [
    "n_epochs = 60\n",
    "\n",
    "# Name is the output file name\n",
    "\n",
    "\n",
    "##  201027 -- about to go to bed, so try 2500 epochs with lr = 1e55\n",
    "##  previous iteration had l4 = 3e-5 and cost dropped almost linearly\n",
    "##  for 100 epochs -- final training costs ~ 2.02, validation cost ~ 2.01\n",
    "\n",
    "## for iter 4, try 10 epochs with lr = 3e-6\n",
    "## usually have a big jump down at epoch 0; want to try a\n",
    "## small number of epochs per iteration and see what happens (iter4: 10 epochs gave\n",
    "## traiing cost dropping from 1.54 to 1.50 immediately, then dropping very slowly)\n",
    "\n",
    "## For iter12, let's try increaseing the learning rate from 1em5 to 1p5em5 as the\n",
    "## training costs have been dropping almost \"linearlY\" on the semilog plot\n",
    "## for several iterations, suggesting that we can afford to take the risk\n",
    "## For good measure, we'll try this for 10 epochs as a test \n",
    "##  Iter12 seems to have worked we4ll, so start iter13 for 60 epochs\n",
    "## so it will run over night\n",
    "folder = '21Jan_DDplus_loss_Ba_iter13_floatAll_60epochs_1p5em5_4xwill'\n",
    "name   = folder\n",
    "\n",
    "# Make an output folder named \"name\" (change if you want)\n",
    "\n",
    "## Special instructions for those working on goofy at UC\n",
    "## Please be very careful to make sure that your folder\n",
    "## does not live in a subdirectory of your home directory\n",
    "## this disk has very little capacity. Instead, use \n",
    "## a subdirectory in /share/lazy with a symbolic link to\n",
    "## it in this (the notebooks) subdirectory\n",
    "folder = 'ML/' + folder\n",
    "output = Path(folder)\n",
    "\n",
    "\n",
    "# Size of batches\n",
    "batch_size = 48 ## batch_size = 24 ---> 4763MiB / 12066MiB on Titan V\n",
    "# How fast to learn\n",
    "learning_rate = 1.5e-5"
   ]
  },
  {
   "cell_type": "markdown",
   "metadata": {},
   "source": [
    "Make the output directory if it does not exist:"
   ]
  },
  {
   "cell_type": "code",
   "execution_count": 5,
   "metadata": {},
   "outputs": [],
   "source": [
    "output.mkdir(exist_ok=True)"
   ]
  },
  {
   "cell_type": "markdown",
   "metadata": {},
   "source": [
    "## Get the helper functions\n",
    "\n",
    "Add the directory with the model\n",
    "definitions to the path so we can import from it:\n",
    "\n",
    "> When you type `import X`,\n",
    "Python searches `sys.path` for a python\n",
    "file named `X.py` to import. So we need to add the model directory to the path."
   ]
  },
  {
   "cell_type": "code",
   "execution_count": 6,
   "metadata": {
    "scrolled": true
   },
   "outputs": [],
   "source": [
    "# From model/collectdata.py\n",
    "##from model.collectdata_kde_B import collect_t2kde_data\n",
    "## collectdata_kde_C should use the new poca KDE rather than the original kernel KDE\n",
    "from model.collectdata_kde_Ellipsoids import collect_t2kde_data\n",
    "\n",
    "\n",
    "# From model/loss.py\n",
    "##from loss import Loss\n",
    "## kde_loss_D includes botha ratio term and a chisq term, 98% ave_chisq\n",
    "## kde_loss_E adds a chi^4 term to the kde_loss_D return value\n",
    "## this is intended to emphasize the importance of values significantly different than zero\n",
    "from model.kde_loss_Ba import Loss\n",
    "\n",
    "##  TracksToKDE_Ellipsoids_SevenLayerCake has 7 hidden layers producing the 4000-bin KDE historgram\n",
    "##  It takes 9 input features (pocca centers + (A,B,C,D,E,F) . \n",
    "from model.models_kde import TracksToKDE_Ellipsoids_DDplus as Model\n",
    "\n",
    "\n",
    "from model.training_kde import trainNet, select_gpu, Results\n",
    "from model.plots import dual_train_plots, replace_in_ax"
   ]
  },
  {
   "cell_type": "code",
   "execution_count": 7,
   "metadata": {},
   "outputs": [],
   "source": [
    "# This gets built up during the run - do not rerun this cell\n",
    "results = pd.DataFrame([], columns=Results._fields)"
   ]
  },
  {
   "cell_type": "markdown",
   "metadata": {},
   "source": [
    "Set up Torch device configuration. All tensors and model parameters need to know where to be put.\n",
    "This takes a BUS ID number: The BUS ID is the same as the listing at the top of this script."
   ]
  },
  {
   "cell_type": "code",
   "execution_count": 8,
   "metadata": {},
   "outputs": [
    {
     "name": "stdout",
     "output_type": "stream",
     "text": [
      "1 available GPUs (initially using device 0):\n",
      "  0 TITAN V\n"
     ]
    }
   ],
   "source": [
    "device = select_gpu(2)\n",
    "##device = \"cpu\""
   ]
  },
  {
   "cell_type": "markdown",
   "metadata": {},
   "source": [
    "## Loading data\n",
    "\n",
    "Load the dataset, split into parts, then move to device (see `collectdata.py` in the `../model` directory)"
   ]
  },
  {
   "cell_type": "markdown",
   "metadata": {},
   "source": [
    "# Preparing the model"
   ]
  },
  {
   "cell_type": "markdown",
   "metadata": {},
   "source": [
    "Prepare a model, use multiple GPUs if they are VISIBLE, and move the model to the device."
   ]
  },
  {
   "cell_type": "code",
   "execution_count": 9,
   "metadata": {
    "scrolled": true
   },
   "outputs": [],
   "source": [
    "##print(\"Let's use\", torch.cuda.device_count(), \"GPUs!\")\n",
    "##if torch.cuda.device_count() > 1:\n",
    "##    model = torch.nn.DataParallel(model)"
   ]
  },
  {
   "cell_type": "code",
   "execution_count": 10,
   "metadata": {},
   "outputs": [
    {
     "name": "stdout",
     "output_type": "stream",
     "text": [
      "ct, child =  0    Linear(in_features=9, out_features=50, bias=True)\n",
      "ct, child =  1    Linear(in_features=50, out_features=50, bias=True)\n",
      "ct, child =  2    Linear(in_features=50, out_features=50, bias=True)\n",
      "ct, child =  3    Linear(in_features=50, out_features=50, bias=True)\n",
      "ct, child =  4    Linear(in_features=50, out_features=50, bias=True)\n",
      "ct, child =  5    Linear(in_features=50, out_features=50, bias=True)\n",
      "ct, child =  6    Linear(in_features=50, out_features=50, bias=True)\n",
      "ct, child =  7    Linear(in_features=50, out_features=50, bias=True)\n",
      "ct, child =  8    Linear(in_features=50, out_features=50, bias=True)\n",
      "ct, child =  9    Linear(in_features=50, out_features=50, bias=True)\n",
      "ct, child =  10    Linear(in_features=50, out_features=50, bias=True)\n",
      "ct, child =  11    Linear(in_features=50, out_features=16000, bias=True)\n",
      "ct, child =  12    Conv1d(4, 25, kernel_size=(25,), stride=(1,), padding=(12,))\n",
      "ct, child =  13    Conv1d(25, 1, kernel_size=(5,), stride=(1,), padding=(2,))\n",
      "ct, child =  14    Linear(in_features=4000, out_features=4000, bias=True)\n",
      "ct, child =  15    Conv1d(25, 1, kernel_size=(15,), stride=(1,), padding=(7,))\n",
      "ct, child =  16    Dropout(p=0.15, inplace=False)\n",
      "ct, child =  17    Dropout(p=0.15, inplace=False)\n"
     ]
    }
   ],
   "source": [
    "## a comment on the web at https://pytorch.org/docs/stable/optim.html says\n",
    "\"\"\"\n",
    "If you need to move a model to GPU via .cuda(), please do so before constructing optimizers for it. \n",
    "Parameters of a model after .cuda() will be different objects with those before the call.\n",
    "\n",
    "In general, you should make sure that optimized parameters live in consistent locations when \n",
    "optimizers are constructed and used.\n",
    "\"\"\"\n",
    "## so move this here (although we are using model.to(device) not explicitly using .cuda()\n",
    "\n",
    "nOut1 = 50\n",
    "nOut2 = 50\n",
    "nOut3 = 50\n",
    "nOut4 = 50\n",
    "nOut5 = 50\n",
    "nOut6 = 50\n",
    "nOut7 = 50\n",
    "nOut8 = 50\n",
    "nOut9 = 50\n",
    "nOut10 = 50\n",
    "nOut11 = 50\n",
    "latentChannels = 4\n",
    "model = Model(nOut1,nOut2,nOut3,nOut4,nOut5,nOut6,nOut7,nOut8,nOut9,nOut10,nOut11,latentChannels)\n",
    "\n",
    "##summary(model, input_size=(4, 4000))\n",
    "##print(model.parameters)\n",
    "\n",
    "## add the following code to allow the user to freeze the some of the weights corresponding \n",
    "## to those taken from an earlier model trained with the original target histograms\n",
    "## presumably -- this leaves either the perturbative filter \"fixed\" and lets the \n",
    "## learning focus on the non-perturbative features, so get started faster, or vice versa\n",
    "ct = 0\n",
    "for child in model.children():\n",
    "  print('ct, child = ',ct, \"  \", child)\n",
    "  if ct < 0:\n",
    "    print(\"     About to set param.requires_grad=False for ct = \", ct, \"params\")\n",
    "    for param in child.parameters():\n",
    "        param.requires_grad = False \n",
    "  ct += 1\n",
    "##  mds 200121 loss = Loss(epsilon=1e-5,coefficient=1.0)\n",
    "##  loss = Loss(epsilon=1e-5,coefficient=2.5)\n",
    "##loss = Loss(epsilon=3e-5, debug=False)\n",
    "loss = Loss(epsilon=3e-5)"
   ]
  },
  {
   "cell_type": "markdown",
   "metadata": {},
   "source": [
    "Let's move the model's weight matricies to the GPU:"
   ]
  },
  {
   "cell_type": "code",
   "execution_count": 11,
   "metadata": {
    "scrolled": true
   },
   "outputs": [],
   "source": [
    "model = model.to(device)"
   ]
  },
  {
   "cell_type": "code",
   "execution_count": 12,
   "metadata": {
    "scrolled": true
   },
   "outputs": [],
   "source": [
    "optimizer = torch.optim.Adam(model.parameters(), lr=learning_rate)\n",
    "##optimizer = torch.optim.SGD(model.parameters(), lr=learning_rate)"
   ]
  },
  {
   "cell_type": "code",
   "execution_count": 13,
   "metadata": {
    "scrolled": false
   },
   "outputs": [
    {
     "name": "stdout",
     "output_type": "stream",
     "text": [
      "output =  ML/21Jan_DDplus_loss_Ba_iter13_floatAll_60epochs_1p5em5_4xwill\n",
      "for model_dict\n",
      "index, k =   0    layer1.weight\n",
      "index, k =   1    layer1.bias\n",
      "index, k =   2    layer2.weight\n",
      "index, k =   3    layer2.bias\n",
      "index, k =   4    layer3.weight\n",
      "index, k =   5    layer3.bias\n",
      "index, k =   6    layer4.weight\n",
      "index, k =   7    layer4.bias\n",
      "index, k =   8    layer5.weight\n",
      "index, k =   9    layer5.bias\n",
      "index, k =   10    layer6.weight\n",
      "index, k =   11    layer6.bias\n",
      "index, k =   12    layer7.weight\n",
      "index, k =   13    layer7.bias\n",
      "index, k =   14    layer8.weight\n",
      "index, k =   15    layer8.bias\n",
      "index, k =   16    layer9.weight\n",
      "index, k =   17    layer9.bias\n",
      "index, k =   18    layer10.weight\n",
      "index, k =   19    layer10.bias\n",
      "index, k =   20    layer11.weight\n",
      "index, k =   21    layer11.bias\n",
      "index, k =   22    layer12new.weight\n",
      "index, k =   23    layer12new.bias\n",
      "index, k =   24    conv1.weight\n",
      "index, k =   25    conv1.bias\n",
      "index, k =   26    conv2.weight\n",
      "index, k =   27    conv2.bias\n",
      "index, k =   28    fc1.weight\n",
      "index, k =   29    fc1.bias\n",
      "index, k =   30    finalFilter.weight\n",
      "index, k =   31    finalFilter.bias\n",
      "dict_name =  ML/21Jan_DDplus_loss_Ba_iter12_floatAll_10epochs_1em5_4xwill/21Jan_DDplus_loss_Ba_iter12_floatAll_10epochs_1em5_4xwill_final.pyt\n",
      " \n",
      "  for pretrained_dict\n",
      "index, k =   0    layer1.weight\n",
      "index, k =   1    layer1.bias\n",
      "index, k =   2    layer2.weight\n",
      "index, k =   3    layer2.bias\n",
      "index, k =   4    layer3.weight\n",
      "index, k =   5    layer3.bias\n",
      "index, k =   6    layer4.weight\n",
      "index, k =   7    layer4.bias\n",
      "index, k =   8    layer5.weight\n",
      "index, k =   9    layer5.bias\n",
      "index, k =   10    layer6.weight\n",
      "index, k =   11    layer6.bias\n",
      "index, k =   12    layer7.weight\n",
      "index, k =   13    layer7.bias\n",
      "index, k =   14    layer8.weight\n",
      "index, k =   15    layer8.bias\n",
      "index, k =   16    layer9.weight\n",
      "index, k =   17    layer9.bias\n",
      "index, k =   18    layer10.weight\n",
      "index, k =   19    layer10.bias\n",
      "index, k =   20    layer11.weight\n",
      "index, k =   21    layer11.bias\n",
      "index, k =   22    layer12new.weight\n",
      "index, k =   23    layer12new.bias\n",
      "index, k =   24    conv1.weight\n",
      "index, k =   25    conv1.bias\n",
      "index, k =   26    conv2.weight\n",
      "index, k =   27    conv2.bias\n",
      "index, k =   28    fc1.weight\n",
      "index, k =   29    fc1.bias\n",
      "index, k =   30    finalFilter.weight\n",
      "index, k =   31    finalFilter.bias\n",
      "pretrained_dict iterated\n"
     ]
    },
    {
     "data": {
      "text/plain": [
       "<All keys matched successfully>"
      ]
     },
     "execution_count": 13,
     "metadata": {},
     "output_type": "execute_result"
    }
   ],
   "source": [
    "print('output = ',output)\n",
    "##print('oldOutput = ',oldOutput)\n",
    "##  use the first four layers from a pre-existing model\n",
    "##  see example at https://discuss.pytorch.org/t/how-to-load-part-of-pre-trained-model/1113\n",
    "\n",
    "##   ML -> /share/lazy/sokoloff/ML\n",
    "model_dict = model.state_dict()\n",
    "## mds 190725 for debugging\n",
    "print(\"for model_dict\")\n",
    "index = 0\n",
    "for k,v in model_dict.items():\n",
    "    print(\"index, k =  \",index,\"  \",k)\n",
    "    index = index+1\n",
    "##    print(\"value = \", v)\n",
    " \n",
    "updated_dict = model_dict\n",
    "##print(\"updated_dict = \",updated_dict)\n",
    "## when starting \"ab initio\", reduce biases as the bias gets summed for each track\n",
    "## contributing to the predicted KDE\n",
    "updated_dict[\"layer1.bias\"] = 0.005*model_dict[\"layer1.bias\"]\n",
    "updated_dict[\"layer2.bias\"] = 0.005*model_dict[\"layer2.bias\"]\n",
    "updated_dict[\"layer3.bias\"] = 0.005*model_dict[\"layer3.bias\"]\n",
    "updated_dict[\"layer4.bias\"] = 0.005*model_dict[\"layer4.bias\"]\n",
    "updated_dict[\"layer5.bias\"] = 0.005*model_dict[\"layer5.bias\"]\n",
    "updated_dict[\"layer6.bias\"] = 0.005*model_dict[\"layer6.bias\"]\n",
    "updated_dict[\"layer7.bias\"] = 0.005*model_dict[\"layer7.bias\"]\n",
    "updated_dict[\"layer8.bias\"] = 0.005*model_dict[\"layer8.bias\"]\n",
    "updated_dict[\"layer9.bias\"] = 0.005*model_dict[\"layer9.bias\"]\n",
    "updated_dict[\"layer10.bias\"] = 0.005*model_dict[\"layer10.bias\"]\n",
    "updated_dict[\"layer11.bias\"] = 0.005*model_dict[\"layer11.bias\"]\n",
    "\n",
    "model.load_state_dict(updated_dict,strict=False)\n",
    "\n",
    "model_dict = model.state_dict()\n",
    "##print(\"updated model_dict = \",model_dict)\n",
    "\n",
    "## print(\" \\n\",\"  for pretrained_dict\")\n",
    "## index = 0\n",
    "##for k,v in pretrained_dict.items():\n",
    "##    print(\"index, k =  \",index,\"  \",k)\n",
    "##    index = index+1\n",
    "## mds  \n",
    "\n",
    "##pretrained_dict = torch.load('ML/29July2020_Trks_to_KDE_C_lossB_100epochs_b64_1m3_nOut_50x50/29July2020_Trks_to_KDE_C_lossB_100epochs_b64_1m3_nOut_50x50_final.pyt')\n",
    "##print(\"model_dict instantiated\")\n",
    "# 1. filter out unnecessary keys\n",
    "##pretrained_dict = {k: v for k, v in pretrained_dict.items() if k in model_dict}\n",
    "##print(\"pretrained_dict iterated\")\n",
    "# 2. overwrite entries in the existing state dict\n",
    "##model_dict.update(pretrained_dict) \n",
    "##\n",
    "#   when starting from a model with a fully connected last layer rather than a convolutional layer\n",
    "# 3. load the new state dict\n",
    "#   need to use strict=False as the two models state model attributes do not agree exactly\n",
    "#   see https://pytorch.org/docs/master/_modules/torch/nn/modules/module.html#Module.load_state_dict\n",
    "\n",
    "##model.load_state_dict(pretrained_dict,strict=False)\n",
    "\n",
    "## print('model_dict =    ', model_dict)\n",
    "\n",
    "## finished at training cost = 1.46, validation cost = 1.50\n",
    "##d_folder = '25December__DDplus_loss_Ba_iter7_floatAll_800epochs_4em6'\n",
    "d_folder = '21Jan_DDplus_loss_Ba_iter12_floatAll_10epochs_1em5_4xwill'\n",
    "d_name = d_folder\n",
    "suffix = 'final'\n",
    "dict_name = 'ML/' + d_folder + '/' + d_name + '_'+ suffix + '.pyt'\n",
    "print('dict_name = ',dict_name)\n",
    "pretrained_dict = torch.load(dict_name)\n",
    "\n",
    "print(\" \")\n",
    "print(\"  for pretrained_dict\")\n",
    "index = 0\n",
    "for k,v in pretrained_dict.items():\n",
    "    print(\"index, k =  \",index,\"  \",k)\n",
    "    index = index+1\n",
    " \n",
    "\n",
    "##print(\"model_dict instantiated\")\n",
    "# 1. filter out unnecessary keys\n",
    "pretrained_dict = {k: v for k, v in pretrained_dict.items() if k in model_dict}\n",
    "print(\"pretrained_dict iterated\")\n",
    "# 2. overwrite entries in the existing state dict\n",
    "model_dict.update(pretrained_dict) \n",
    "##\n",
    "#   when starting from a model with a fully connected last layer rather than a convolutional layer\n",
    "# 3. load the new state dict\n",
    "#   need to use strict=False as the two models state model attributes do not agree exactly\n",
    "#   see https://pytorch.org/docs/master/_modules/torch/nn/modules/module.html#Module.load_state_dict\n",
    "\n",
    "model.load_state_dict(pretrained_dict,strict=False)\n",
    "\n"
   ]
  },
  {
   "cell_type": "code",
   "execution_count": 14,
   "metadata": {},
   "outputs": [],
   "source": [
    "##print('validation.dataset.tensors = ',validation.dataset.tensors)\n",
    "fig_size = plt.rcParams[\"figure.figsize\"]\n",
    "fig_size[0] = 10\n",
    "fig_size[1] = 4\n",
    "plt.rcParams[\"figure.figsize\"] = fig_size"
   ]
  },
  {
   "cell_type": "code",
   "execution_count": 15,
   "metadata": {
    "scrolled": false
   },
   "outputs": [
    {
     "name": "stdout",
     "output_type": "stream",
     "text": [
      "Loading data...\n",
      "pocaMx.shape =  (80000,)\n",
      "nEvts =  80000\n",
      "len(pocaMx[0]) =  199\n",
      "len(pocaMx[1]) =  25\n",
      "len(pocaMx[2]) =  369\n",
      "len(pocaMx[3]) =  143\n",
      "len(pocaMx[4]) =  160\n",
      "majorAxis.shape =  (80000, 3)\n",
      "minorAxis_1.shape =  (80000, 3)\n",
      "minorAxis_2.shape =  (80000, 3)\n",
      "have entered six_ellipsoid_parameters\n",
      "  \n",
      " \n",
      "  nEvts =  80000\n",
      " iEvt, nTrks =  0 199\n",
      " iEvt, nTrks =  1 25\n",
      " iEvt, nTrks =  2 369\n",
      " iEvt, nTrks =  3 143\n",
      " iEvt, nTrks =  4 160\n",
      " iEvt, nTrks =  5 260\n",
      " iEvt, nTrks =  6 237\n",
      " iEvt, nTrks =  7 327\n",
      " iEvt, nTrks =  8 178\n",
      " iEvt, nTrks =  9 106\n",
      "A.shape =  (80000,)\n",
      "majorAxis[iTrk][0][0] =  0.00045611936\n",
      "majorAxis[iTrk][1][0] =  -4.8292455e-05\n",
      "majorAxis[iTrk][2][0] =  0.090019904\n",
      "minorAxis_1[iTrk][0][0] =  -1.8602173\n",
      "minorAxis_1[iTrk][1][0] =  -17.569641\n",
      "minorAxis_1[iTrk][2][0] =  4.7891795e-08\n",
      "minorAxis_2[iTrk][0][0] =  -17.569414\n",
      "minorAxis_2[iTrk][1][0] =  1.8601931\n",
      "minorAxis_2[iTrk][2][0] =  0.0900199\n",
      "  \n",
      "majorAxis[iTrk][0][0] =  0.002360258\n",
      "majorAxis[iTrk][1][0] =  -0.007426616\n",
      "majorAxis[iTrk][2][0] =  0.3710108\n",
      "minorAxis_1[iTrk][0][0] =  -16.837948\n",
      "minorAxis_1[iTrk][1][0] =  -5.3512807\n",
      "minorAxis_1[iTrk][2][0] =  8.157131e-09\n",
      "minorAxis_2[iTrk][0][0] =  -5.3501005\n",
      "minorAxis_2[iTrk][1][0] =  16.834236\n",
      "minorAxis_2[iTrk][2][0] =  0.3710108\n",
      "  \n",
      "majorAxis[iTrk][0][0] =  6.220712e-05\n",
      "majorAxis[iTrk][1][0] =  -4.4594188e-05\n",
      "majorAxis[iTrk][2][0] =  0.036773544\n",
      "minorAxis_1[iTrk][0][0] =  10.293747\n",
      "minorAxis_1[iTrk][1][0] =  14.359369\n",
      "minorAxis_1[iTrk][2][0] =  1.571041e-06\n",
      "minorAxis_2[iTrk][0][0] =  14.359338\n",
      "minorAxis_2[iTrk][1][0] =  -10.293725\n",
      "minorAxis_2[iTrk][2][0] =  -0.03677354\n",
      "  \n",
      "majorAxis[iTrk][0][0] =  0.0033452737\n",
      "majorAxis[iTrk][1][0] =  0.00013028442\n",
      "majorAxis[iTrk][2][0] =  0.2431933\n",
      "minorAxis_1[iTrk][0][0] =  0.6875674\n",
      "minorAxis_1[iTrk][1][0] =  -17.65446\n",
      "minorAxis_1[iTrk][2][0] =  -6.6602626e-09\n",
      "minorAxis_2[iTrk][0][0] =  -17.652788\n",
      "minorAxis_2[iTrk][1][0] =  -0.68750226\n",
      "minorAxis_2[iTrk][2][0] =  0.2431933\n",
      "  \n",
      "majorAxis[iTrk][0][0] =  -0.00068196515\n",
      "majorAxis[iTrk][1][0] =  -0.00044562915\n",
      "majorAxis[iTrk][2][0] =  0.119970225\n",
      "minorAxis_1[iTrk][0][0] =  9.664597\n",
      "minorAxis_1[iTrk][1][0] =  -14.790141\n",
      "minorAxis_1[iTrk][2][0] =  1.9819232e-08\n",
      "minorAxis_2[iTrk][0][0] =  -14.789802\n",
      "minorAxis_2[iTrk][1][0] =  -9.664374\n",
      "minorAxis_2[iTrk][2][0] =  -0.11997023\n",
      "  \n",
      "majorAxis[iTrk][0][0] =  -8.245073e-05\n",
      "majorAxis[iTrk][1][0] =  0.00015860004\n",
      "majorAxis[iTrk][2][0] =  0.05619731\n",
      "minorAxis_1[iTrk][0][0] =  -15.676071\n",
      "minorAxis_1[iTrk][1][0] =  -8.149452\n",
      "minorAxis_1[iTrk][2][0] =  4.1105773e-07\n",
      "minorAxis_2[iTrk][0][0] =  -8.14941\n",
      "minorAxis_2[iTrk][1][0] =  15.675991\n",
      "minorAxis_2[iTrk][2][0] =  -0.056197315\n",
      "  \n",
      "majorAxis[iTrk][0][0] =  -0.00015151131\n",
      "majorAxis[iTrk][1][0] =  0.00067339616\n",
      "majorAxis[iTrk][2][0] =  0.11042937\n",
      "minorAxis_1[iTrk][0][0] =  17.236937\n",
      "minorAxis_1[iTrk][1][0] =  3.8782384\n",
      "minorAxis_1[iTrk][2][0] =  2.3217373e-08\n",
      "minorAxis_2[iTrk][0][0] =  3.8781626\n",
      "minorAxis_2[iTrk][1][0] =  -17.236599\n",
      "minorAxis_2[iTrk][2][0] =  0.11042936\n",
      "  \n",
      "majorAxis[iTrk][0][0] =  -7.577422e-05\n",
      "majorAxis[iTrk][1][0] =  -0.00036802414\n",
      "majorAxis[iTrk][2][0] =  0.08147708\n",
      "minorAxis_1[iTrk][0][0] =  -17.304853\n",
      "minorAxis_1[iTrk][1][0] =  3.5629773\n",
      "minorAxis_1[iTrk][2][0] =  5.80501e-09\n",
      "minorAxis_2[iTrk][0][0] =  3.5629392\n",
      "minorAxis_2[iTrk][1][0] =  17.304668\n",
      "minorAxis_2[iTrk][2][0] =  0.081477076\n",
      "  \n",
      "majorAxis[iTrk][0][0] =  0.00013397264\n",
      "majorAxis[iTrk][1][0] =  0.00094400026\n",
      "majorAxis[iTrk][2][0] =  0.12978876\n",
      "minorAxis_1[iTrk][0][0] =  17.492561\n",
      "minorAxis_1[iTrk][1][0] =  -2.4825466\n",
      "minorAxis_1[iTrk][2][0] =  1.1329301e-08\n",
      "minorAxis_2[iTrk][0][0] =  -2.4824798\n",
      "minorAxis_2[iTrk][1][0] =  -17.492088\n",
      "minorAxis_2[iTrk][2][0] =  0.12978874\n",
      "  \n",
      "majorAxis[iTrk][0][0] =  0.00043501743\n",
      "majorAxis[iTrk][1][0] =  -0.0016521378\n",
      "majorAxis[iTrk][2][0] =  0.17373301\n",
      "minorAxis_1[iTrk][0][0] =  -17.0855\n",
      "minorAxis_1[iTrk][1][0] =  -4.4987106\n",
      "minorAxis_1[iTrk][2][0] =  -7.7275175e-08\n",
      "minorAxis_2[iTrk][0][0] =  -4.4984937\n",
      "minorAxis_2[iTrk][1][0] =  17.084677\n",
      "minorAxis_2[iTrk][2][0] =  0.17373303\n",
      "  \n",
      "len(X) =  80000\n",
      "len(Xlist) =  1\n",
      "Loaded /share/lazy/will/data/June30_2020_80k_1.h5 in 152.2 s\n",
      "pocaMx.shape =  (80000,)\n",
      "nEvts =  80000\n",
      "len(pocaMx[0]) =  222\n",
      "len(pocaMx[1]) =  133\n",
      "len(pocaMx[2]) =  259\n",
      "len(pocaMx[3]) =  114\n",
      "len(pocaMx[4]) =  143\n",
      "majorAxis.shape =  (80000, 3)\n",
      "minorAxis_1.shape =  (80000, 3)\n",
      "minorAxis_2.shape =  (80000, 3)\n",
      "have entered six_ellipsoid_parameters\n",
      "  \n",
      " \n",
      "  nEvts =  80000\n",
      " iEvt, nTrks =  0 222\n",
      " iEvt, nTrks =  1 133\n",
      " iEvt, nTrks =  2 259\n",
      " iEvt, nTrks =  3 114\n",
      " iEvt, nTrks =  4 143\n",
      " iEvt, nTrks =  5 136\n",
      " iEvt, nTrks =  6 397\n",
      " iEvt, nTrks =  7 370\n",
      " iEvt, nTrks =  8 97\n",
      " iEvt, nTrks =  9 67\n",
      "A.shape =  (80000,)\n",
      "majorAxis[iTrk][0][0] =  -0.001036478\n",
      "majorAxis[iTrk][1][0] =  0.0009833863\n",
      "majorAxis[iTrk][2][0] =  0.15887721\n",
      "minorAxis_1[iTrk][0][0] =  -12.160475\n",
      "minorAxis_1[iTrk][1][0] =  -12.817002\n",
      "minorAxis_1[iTrk][2][0] =  0.0\n",
      "minorAxis_2[iTrk][0][0] =  -12.816484\n",
      "minorAxis_2[iTrk][1][0] =  12.159985\n",
      "minorAxis_2[iTrk][2][0] =  -0.15887721\n",
      "  \n",
      "majorAxis[iTrk][0][0] =  0.0016579849\n",
      "majorAxis[iTrk][1][0] =  0.0020989499\n",
      "majorAxis[iTrk][2][0] =  0.21738033\n",
      "minorAxis_1[iTrk][0][0] =  -13.864233\n",
      "minorAxis_1[iTrk][1][0] =  10.95152\n",
      "minorAxis_1[iTrk][2][0] =  -3.3017489e-09\n",
      "minorAxis_2[iTrk][0][0] =  10.95069\n",
      "minorAxis_2[iTrk][1][0] =  13.863184\n",
      "minorAxis_2[iTrk][2][0] =  -0.21738033\n",
      "  \n",
      "majorAxis[iTrk][0][0] =  0.00012481198\n",
      "majorAxis[iTrk][1][0] =  -0.00028747538\n",
      "majorAxis[iTrk][2][0] =  0.07441149\n",
      "minorAxis_1[iTrk][0][0] =  -16.206305\n",
      "minorAxis_1[iTrk][1][0] =  -7.036224\n",
      "minorAxis_1[iTrk][2][0] =  5.3456716e-08\n",
      "minorAxis_2[iTrk][0][0] =  -7.0361605\n",
      "minorAxis_2[iTrk][1][0] =  16.20616\n",
      "minorAxis_2[iTrk][2][0] =  0.07441148\n",
      "  \n",
      "majorAxis[iTrk][0][0] =  -0.007920195\n",
      "majorAxis[iTrk][1][0] =  -0.009694931\n",
      "majorAxis[iTrk][2][0] =  0.47021532\n",
      "minorAxis_1[iTrk][0][0] =  -13.682467\n",
      "minorAxis_1[iTrk][1][0] =  11.177781\n",
      "minorAxis_1[iTrk][2][0] =  1.8638048e-10\n",
      "minorAxis_2[iTrk][0][0] =  11.173822\n",
      "minorAxis_2[iTrk][1][0] =  13.677622\n",
      "minorAxis_2[iTrk][2][0] =  0.47021535\n",
      "  \n",
      "majorAxis[iTrk][0][0] =  0.00038854493\n",
      "majorAxis[iTrk][1][0] =  0.0009230774\n",
      "majorAxis[iTrk][2][0] =  0.13301943\n",
      "minorAxis_1[iTrk][0][0] =  -16.284061\n",
      "minorAxis_1[iTrk][1][0] =  6.854344\n",
      "minorAxis_1[iTrk][2][0] =  2.2469074e-07\n",
      "minorAxis_2[iTrk][0][0] =  6.8541493\n",
      "minorAxis_2[iTrk][1][0] =  16.283602\n",
      "minorAxis_2[iTrk][2][0] =  -0.13301945\n",
      "  \n",
      "majorAxis[iTrk][0][0] =  -5.6093595e-05\n",
      "majorAxis[iTrk][1][0] =  0.000114469876\n",
      "majorAxis[iTrk][2][0] =  0.04745733\n",
      "minorAxis_1[iTrk][0][0] =  15.865369\n",
      "minorAxis_1[iTrk][1][0] =  7.774496\n",
      "minorAxis_1[iTrk][2][0] =  1.8465234e-06\n",
      "minorAxis_2[iTrk][0][0] =  7.774468\n",
      "minorAxis_2[iTrk][1][0] =  -15.865313\n",
      "minorAxis_2[iTrk][2][0] =  0.04745733\n",
      "  \n",
      "majorAxis[iTrk][0][0] =  9.375396e-05\n",
      "majorAxis[iTrk][1][0] =  0.0002926058\n",
      "majorAxis[iTrk][2][0] =  0.07367872\n",
      "minorAxis_1[iTrk][0][0] =  -16.825275\n",
      "minorAxis_1[iTrk][1][0] =  5.390994\n",
      "minorAxis_1[iTrk][2][0] =  -2.1861728e-08\n",
      "minorAxis_2[iTrk][0][0] =  5.3909473\n",
      "minorAxis_2[iTrk][1][0] =  16.825129\n",
      "minorAxis_2[iTrk][2][0] =  -0.07367872\n",
      "  \n",
      "majorAxis[iTrk][0][0] =  -1.1543522e-06\n",
      "majorAxis[iTrk][1][0] =  2.8112001e-05\n",
      "majorAxis[iTrk][2][0] =  0.022295665\n",
      "minorAxis_1[iTrk][0][0] =  -17.652967\n",
      "minorAxis_1[iTrk][1][0] =  -0.7248769\n",
      "minorAxis_1[iTrk][2][0] =  1.7815448e-07\n",
      "minorAxis_2[iTrk][0][0] =  -0.7248763\n",
      "minorAxis_2[iTrk][1][0] =  17.652954\n",
      "minorAxis_2[iTrk][2][0] =  -0.022295661\n",
      "  \n",
      "majorAxis[iTrk][0][0] =  -0.2612214\n",
      "majorAxis[iTrk][1][0] =  0.83076316\n",
      "majorAxis[iTrk][2][0] =  3.8745012\n",
      "minorAxis_1[iTrk][0][0] =  -16.85429\n",
      "minorAxis_1[iTrk][1][0] =  -5.299587\n",
      "minorAxis_1[iTrk][2][0] =  2.0865195e-11\n",
      "minorAxis_2[iTrk][0][0] =  -5.1705856\n",
      "minorAxis_2[iTrk][1][0] =  16.444027\n",
      "minorAxis_2[iTrk][2][0] =  -3.874501\n",
      "  \n",
      "majorAxis[iTrk][0][0] =  -0.057592034\n",
      "majorAxis[iTrk][1][0] =  0.06503555\n",
      "majorAxis[iTrk][2][0] =  1.2373537\n",
      "minorAxis_1[iTrk][0][0] =  13.227038\n",
      "minorAxis_1[iTrk][1][0] =  11.713163\n",
      "minorAxis_1[iTrk][2][0] =  1.7679876e-10\n",
      "minorAxis_2[iTrk][0][0] =  11.684402\n",
      "minorAxis_2[iTrk][1][0] =  -13.194561\n",
      "minorAxis_2[iTrk][2][0] =  1.2373537\n",
      "  \n",
      "len(X) =  80000\n",
      "len(Xlist) =  2\n",
      "Loaded /share/lazy/will/data/June30_2020_80k_2.h5 in 154.0 s\n",
      "pocaMx.shape =  (80000,)\n"
     ]
    },
    {
     "name": "stdout",
     "output_type": "stream",
     "text": [
      "nEvts =  80000\n",
      "len(pocaMx[0]) =  196\n",
      "len(pocaMx[1]) =  35\n",
      "len(pocaMx[2]) =  265\n",
      "len(pocaMx[3]) =  128\n",
      "len(pocaMx[4]) =  124\n",
      "majorAxis.shape =  (80000, 3)\n",
      "minorAxis_1.shape =  (80000, 3)\n",
      "minorAxis_2.shape =  (80000, 3)\n",
      "have entered six_ellipsoid_parameters\n",
      "  \n",
      " \n",
      "  nEvts =  80000\n",
      " iEvt, nTrks =  0 196\n",
      " iEvt, nTrks =  1 35\n",
      " iEvt, nTrks =  2 265\n",
      " iEvt, nTrks =  3 128\n",
      " iEvt, nTrks =  4 124\n",
      " iEvt, nTrks =  5 122\n",
      " iEvt, nTrks =  6 300\n",
      " iEvt, nTrks =  7 179\n",
      " iEvt, nTrks =  8 243\n",
      " iEvt, nTrks =  9 112\n",
      "A.shape =  (80000,)\n",
      "majorAxis[iTrk][0][0] =  -2.440992e-05\n",
      "majorAxis[iTrk][1][0] =  -0.00038087237\n",
      "majorAxis[iTrk][2][0] =  0.08211532\n",
      "minorAxis_1[iTrk][0][0] =  -17.631672\n",
      "minorAxis_1[iTrk][1][0] =  1.130005\n",
      "minorAxis_1[iTrk][2][0] =  4.7444193e-08\n",
      "minorAxis_2[iTrk][0][0] =  1.1299927\n",
      "minorAxis_2[iTrk][1][0] =  17.631481\n",
      "minorAxis_2[iTrk][2][0] =  0.08211532\n",
      "  \n",
      "majorAxis[iTrk][0][0] =  -0.02277395\n",
      "majorAxis[iTrk][1][0] =  0.0014473597\n",
      "majorAxis[iTrk][2][0] =  0.6347583\n",
      "minorAxis_1[iTrk][0][0] =  -1.1205891\n",
      "minorAxis_1[iTrk][1][0] =  -17.632273\n",
      "minorAxis_1[iTrk][2][0] =  2.1543272e-09\n",
      "minorAxis_2[iTrk][0][0] =  -17.620888\n",
      "minorAxis_2[iTrk][1][0] =  1.1198657\n",
      "minorAxis_2[iTrk][2][0] =  -0.63475823\n",
      "  \n",
      "majorAxis[iTrk][0][0] =  0.0004024825\n",
      "majorAxis[iTrk][1][0] =  -0.00023784715\n",
      "majorAxis[iTrk][2][0] =  0.090883136\n",
      "minorAxis_1[iTrk][0][0] =  -8.988615\n",
      "minorAxis_1[iTrk][1][0] =  -15.210441\n",
      "minorAxis_1[iTrk][2][0] =  -6.56547e-08\n",
      "minorAxis_2[iTrk][0][0] =  -15.21024\n",
      "minorAxis_2[iTrk][1][0] =  8.988497\n",
      "minorAxis_2[iTrk][2][0] =  0.090883136\n",
      "  \n",
      "majorAxis[iTrk][0][0] =  0.0068744724\n",
      "majorAxis[iTrk][1][0] =  0.0017050834\n",
      "majorAxis[iTrk][2][0] =  0.3537121\n",
      "minorAxis_1[iTrk][0][0] =  4.2532983\n",
      "minorAxis_1[iTrk][1][0] =  -17.148241\n",
      "minorAxis_1[iTrk][2][0] =  1.1939819e-09\n",
      "minorAxis_2[iTrk][0][0] =  -17.144806\n",
      "minorAxis_2[iTrk][1][0] =  -4.252446\n",
      "minorAxis_2[iTrk][2][0] =  0.3537121\n",
      "  \n",
      "majorAxis[iTrk][0][0] =  -0.004920899\n",
      "majorAxis[iTrk][1][0] =  0.0009170567\n",
      "majorAxis[iTrk][2][0] =  0.2973651\n",
      "minorAxis_1[iTrk][0][0] =  -3.236844\n",
      "minorAxis_1[iTrk][1][0] =  -17.36881\n",
      "minorAxis_1[iTrk][2][0] =  -4.7397712e-09\n",
      "minorAxis_2[iTrk][0][0] =  -17.36635\n",
      "minorAxis_2[iTrk][1][0] =  3.2363856\n",
      "minorAxis_2[iTrk][2][0] =  -0.29736507\n",
      "  \n",
      "majorAxis[iTrk][0][0] =  -0.0001240533\n",
      "majorAxis[iTrk][1][0] =  0.00033394952\n",
      "majorAxis[iTrk][2][0] =  0.079335004\n",
      "minorAxis_1[iTrk][0][0] =  -16.562042\n",
      "minorAxis_1[iTrk][1][0] =  -6.1523557\n",
      "minorAxis_1[iTrk][2][0] =  3.1261713e-08\n",
      "minorAxis_2[iTrk][0][0] =  -6.1522937\n",
      "minorAxis_2[iTrk][1][0] =  16.561876\n",
      "minorAxis_2[iTrk][2][0] =  -0.079335004\n",
      "  \n",
      "majorAxis[iTrk][0][0] =  0.00010132754\n",
      "majorAxis[iTrk][1][0] =  6.684385e-05\n",
      "majorAxis[iTrk][2][0] =  0.046310693\n",
      "minorAxis_1[iTrk][0][0] =  -9.728917\n",
      "minorAxis_1[iTrk][1][0] =  14.747911\n",
      "minorAxis_1[iTrk][2][0] =  -2.3591362e-07\n",
      "minorAxis_2[iTrk][0][0] =  14.74786\n",
      "minorAxis_2[iTrk][1][0] =  9.728883\n",
      "minorAxis_2[iTrk][2][0] =  -0.04631069\n",
      "  \n",
      "majorAxis[iTrk][0][0] =  0.0042806785\n",
      "majorAxis[iTrk][1][0] =  0.004939851\n",
      "majorAxis[iTrk][2][0] =  0.3398017\n",
      "minorAxis_1[iTrk][0][0] =  13.3521\n",
      "minorAxis_1[iTrk][1][0] =  -11.5704\n",
      "minorAxis_1[iTrk][2][0] =  1.21654296e-08\n",
      "minorAxis_2[iTrk][0][0] =  -11.56826\n",
      "minorAxis_2[iTrk][1][0] =  -13.349631\n",
      "minorAxis_2[iTrk][2][0] =  0.33980173\n",
      "  \n",
      "majorAxis[iTrk][0][0] =  -0.00013103899\n",
      "majorAxis[iTrk][1][0] =  -0.0006021903\n",
      "majorAxis[iTrk][2][0] =  0.10434653\n",
      "minorAxis_1[iTrk][0][0] =  -17.26384\n",
      "minorAxis_1[iTrk][1][0] =  3.7566798\n",
      "minorAxis_1[iTrk][2][0] =  -9.616703e-08\n",
      "minorAxis_2[iTrk][0][0] =  3.7566135\n",
      "minorAxis_2[iTrk][1][0] =  17.263535\n",
      "minorAxis_2[iTrk][2][0] =  0.10434652\n",
      "  \n",
      "majorAxis[iTrk][0][0] =  0.0016481678\n",
      "majorAxis[iTrk][1][0] =  -0.0019788505\n",
      "majorAxis[iTrk][2][0] =  0.21330062\n",
      "minorAxis_1[iTrk][0][0] =  -13.575765\n",
      "minorAxis_1[iTrk][1][0] =  -11.307139\n",
      "minorAxis_1[iTrk][2][0] =  8.543098e-09\n",
      "minorAxis_2[iTrk][0][0] =  -11.306314\n",
      "minorAxis_2[iTrk][1][0] =  13.574774\n",
      "minorAxis_2[iTrk][2][0] =  0.21330062\n",
      "  \n",
      "len(X) =  80000\n",
      "len(Xlist) =  3\n",
      "Loaded /share/lazy/will/data/June30_2020_80k_3.h5 in 154.2 s\n",
      "pocaMx.shape =  (80000,)\n",
      "nEvts =  80000\n",
      "len(pocaMx[0]) =  204\n",
      "len(pocaMx[1]) =  33\n",
      "len(pocaMx[2]) =  206\n",
      "len(pocaMx[3]) =  150\n",
      "len(pocaMx[4]) =  96\n",
      "majorAxis.shape =  (80000, 3)\n",
      "minorAxis_1.shape =  (80000, 3)\n",
      "minorAxis_2.shape =  (80000, 3)\n",
      "have entered six_ellipsoid_parameters\n",
      "  \n",
      " \n",
      "  nEvts =  80000\n",
      " iEvt, nTrks =  0 204\n",
      " iEvt, nTrks =  1 33\n",
      " iEvt, nTrks =  2 206\n",
      " iEvt, nTrks =  3 150\n",
      " iEvt, nTrks =  4 96\n",
      " iEvt, nTrks =  5 10\n",
      " iEvt, nTrks =  6 174\n",
      " iEvt, nTrks =  7 320\n",
      " iEvt, nTrks =  8 164\n",
      " iEvt, nTrks =  9 119\n",
      "A.shape =  (80000,)\n",
      "majorAxis[iTrk][0][0] =  0.00057876867\n",
      "majorAxis[iTrk][1][0] =  0.00037603904\n",
      "majorAxis[iTrk][2][0] =  0.110427074\n",
      "minorAxis_1[iTrk][0][0] =  9.62588\n",
      "minorAxis_1[iTrk][1][0] =  -14.81537\n",
      "minorAxis_1[iTrk][2][0] =  8.391163e-09\n",
      "minorAxis_2[iTrk][0][0] =  -14.815081\n",
      "minorAxis_2[iTrk][1][0] =  -9.625692\n",
      "minorAxis_2[iTrk][2][0] =  0.11042709\n",
      "  \n",
      "majorAxis[iTrk][0][0] =  -7.687664e-05\n",
      "majorAxis[iTrk][1][0] =  -0.0017985329\n",
      "majorAxis[iTrk][2][0] =  0.17833562\n",
      "minorAxis_1[iTrk][0][0] =  -17.651728\n",
      "minorAxis_1[iTrk][1][0] =  0.7545069\n",
      "minorAxis_1[iTrk][2][0] =  -7.932265e-09\n",
      "minorAxis_2[iTrk][0][0] =  0.75446844\n",
      "minorAxis_2[iTrk][1][0] =  17.650827\n",
      "minorAxis_2[iTrk][2][0] =  0.17833562\n",
      "  \n",
      "majorAxis[iTrk][0][0] =  4.5855802e-05\n",
      "majorAxis[iTrk][1][0] =  -0.00054240844\n",
      "majorAxis[iTrk][2][0] =  0.098067455\n",
      "minorAxis_1[iTrk][0][0] =  17.605043\n",
      "minorAxis_1[iTrk][1][0] =  1.4883496\n",
      "minorAxis_1[iTrk][2][0] =  -2.7847218e-08\n",
      "minorAxis_2[iTrk][0][0] =  1.4883265\n",
      "minorAxis_2[iTrk][1][0] =  -17.604773\n",
      "minorAxis_2[iTrk][2][0] =  -0.098067455\n",
      "  \n",
      "majorAxis[iTrk][0][0] =  -0.0013144773\n",
      "majorAxis[iTrk][1][0] =  0.0008680699\n",
      "majorAxis[iTrk][2][0] =  0.16682307\n",
      "minorAxis_1[iTrk][0][0] =  -9.736217\n",
      "minorAxis_1[iTrk][1][0] =  -14.743094\n",
      "minorAxis_1[iTrk][2][0] =  -1.7552136e-08\n",
      "minorAxis_2[iTrk][0][0] =  -14.742435\n",
      "minorAxis_2[iTrk][1][0] =  9.735782\n",
      "minorAxis_2[iTrk][2][0] =  -0.16682304\n",
      "  \n",
      "majorAxis[iTrk][0][0] =  0.032227762\n",
      "majorAxis[iTrk][1][0] =  0.007741693\n",
      "majorAxis[iTrk][2][0] =  0.76488173\n",
      "minorAxis_1[iTrk][0][0] =  -4.1267405\n",
      "minorAxis_1[iTrk][1][0] =  17.179138\n",
      "minorAxis_1[iTrk][2][0] =  -2.3529467e-10\n",
      "minorAxis_2[iTrk][0][0] =  17.16303\n",
      "minorAxis_2[iTrk][1][0] =  4.122871\n",
      "minorAxis_2[iTrk][2][0] =  -0.7648817\n",
      "  \n",
      "majorAxis[iTrk][0][0] =  1.9753945\n",
      "majorAxis[iTrk][1][0] =  2.5669005\n",
      "majorAxis[iTrk][2][0] =  7.226382\n",
      "minorAxis_1[iTrk][0][0] =  14.0017\n",
      "minorAxis_1[iTrk][1][0] =  -10.7752075\n",
      "minorAxis_1[iTrk][2][0] =  5.3286344e-11\n",
      "minorAxis_2[iTrk][0][0] =  -9.832683\n",
      "minorAxis_2[iTrk][1][0] =  -12.776951\n",
      "minorAxis_2[iTrk][2][0] =  7.226381\n",
      "  \n",
      "majorAxis[iTrk][0][0] =  -0.0026900356\n",
      "majorAxis[iTrk][1][0] =  -0.0015841618\n",
      "majorAxis[iTrk][2][0] =  0.234843\n",
      "minorAxis_1[iTrk][0][0] =  -8.965469\n",
      "minorAxis_1[iTrk][1][0] =  15.224096\n",
      "minorAxis_1[iTrk][2][0] =  2.8236277e-08\n",
      "minorAxis_2[iTrk][0][0] =  15.222751\n",
      "minorAxis_2[iTrk][1][0] =  8.964677\n",
      "minorAxis_2[iTrk][2][0] =  0.234843\n",
      "  \n",
      "majorAxis[iTrk][0][0] =  -0.0001692281\n",
      "majorAxis[iTrk][1][0] =  0.0003505444\n",
      "majorAxis[iTrk][2][0] =  0.08292902\n",
      "minorAxis_1[iTrk][0][0] =  -15.910811\n",
      "minorAxis_1[iTrk][1][0] =  -7.68107\n",
      "minorAxis_1[iTrk][2][0] =  1.587002e-08\n",
      "minorAxis_2[iTrk][0][0] =  -7.680986\n",
      "minorAxis_2[iTrk][1][0] =  15.910635\n",
      "minorAxis_2[iTrk][2][0] =  -0.08292903\n",
      "  \n",
      "majorAxis[iTrk][0][0] =  0.0017714669\n",
      "majorAxis[iTrk][1][0] =  -0.001515166\n",
      "majorAxis[iTrk][2][0] =  0.20293355\n",
      "minorAxis_1[iTrk][0][0] =  11.483943\n",
      "minorAxis_1[iTrk][1][0] =  13.426532\n",
      "minorAxis_1[iTrk][2][0] =  -2.7840934e-09\n",
      "minorAxis_2[iTrk][0][0] =  13.425648\n",
      "minorAxis_2[iTrk][1][0] =  -11.483187\n",
      "minorAxis_2[iTrk][2][0] =  -0.20293356\n",
      "  \n",
      "majorAxis[iTrk][0][0] =  0.0006359923\n",
      "majorAxis[iTrk][1][0] =  -0.0003371759\n",
      "majorAxis[iTrk][2][0] =  0.112773284\n",
      "minorAxis_1[iTrk][0][0] =  8.275655\n",
      "minorAxis_1[iTrk][1][0] =  15.609813\n",
      "minorAxis_1[iTrk][2][0] =  -5.6373224e-08\n",
      "minorAxis_2[iTrk][0][0] =  15.609494\n",
      "minorAxis_2[iTrk][1][0] =  -8.275486\n",
      "minorAxis_2[iTrk][2][0] =  -0.11277328\n",
      "  \n",
      "len(X) =  80000\n",
      "len(Xlist) =  4\n",
      "Loaded /share/lazy/will/data/June30_2020_80k_4.h5 in 153.1 s\n",
      "outer loop X.shape =  (320000, 9, 600)\n",
      "Constructing 320000 event dataset took 1.786 s\n",
      "x_t.shape =  torch.Size([320000, 9, 600])\n",
      "x_t.shape[0] =  320000\n",
      "x_t.shape[1] =  9\n",
      "x_t.shape =  torch.Size([320000, 9, 600])\n",
      "Loading data...\n"
     ]
    },
    {
     "name": "stdout",
     "output_type": "stream",
     "text": [
      "pocaMx.shape =  (20000,)\n",
      "nEvts =  20000\n",
      "len(pocaMx[0]) =  211\n",
      "len(pocaMx[1]) =  21\n",
      "len(pocaMx[2]) =  20\n",
      "len(pocaMx[3]) =  198\n",
      "len(pocaMx[4]) =  233\n",
      "majorAxis.shape =  (20000, 3)\n",
      "minorAxis_1.shape =  (20000, 3)\n",
      "minorAxis_2.shape =  (20000, 3)\n",
      "have entered six_ellipsoid_parameters\n",
      "  \n",
      " \n",
      "  nEvts =  20000\n",
      " iEvt, nTrks =  0 211\n",
      " iEvt, nTrks =  1 21\n",
      " iEvt, nTrks =  2 20\n",
      " iEvt, nTrks =  3 198\n",
      " iEvt, nTrks =  4 233\n",
      " iEvt, nTrks =  5 85\n",
      " iEvt, nTrks =  6 223\n",
      " iEvt, nTrks =  7 425\n",
      " iEvt, nTrks =  8 252\n",
      " iEvt, nTrks =  9 169\n",
      "A.shape =  (20000,)\n",
      "majorAxis[iTrk][0][0] =  -0.00023452607\n",
      "majorAxis[iTrk][1][0] =  -0.00047206535\n",
      "majorAxis[iTrk][2][0] =  0.096502915\n",
      "minorAxis_1[iTrk][0][0] =  -15.822749\n",
      "minorAxis_1[iTrk][1][0] =  7.8608756\n",
      "minorAxis_1[iTrk][2][0] =  -2.6228399e-08\n",
      "minorAxis_2[iTrk][0][0] =  7.860759\n",
      "minorAxis_2[iTrk][1][0] =  15.822513\n",
      "minorAxis_2[iTrk][2][0] =  0.096502915\n",
      "  \n",
      "majorAxis[iTrk][0][0] =  -0.37655562\n",
      "majorAxis[iTrk][1][0] =  0.2768704\n",
      "majorAxis[iTrk][2][0] =  2.8546858\n",
      "minorAxis_1[iTrk][0][0] =  -10.466048\n",
      "minorAxis_1[iTrk][1][0] =  -14.234274\n",
      "minorAxis_1[iTrk][2][0] =  2.2974699e-11\n",
      "minorAxis_2[iTrk][0][0] =  -14.04724\n",
      "minorAxis_2[iTrk][1][0] =  10.328527\n",
      "minorAxis_2[iTrk][2][0] =  -2.8546853\n",
      "  \n",
      "majorAxis[iTrk][0][0] =  -0.024279848\n",
      "majorAxis[iTrk][1][0] =  0.0019689242\n",
      "majorAxis[iTrk][2][0] =  0.65580803\n",
      "minorAxis_1[iTrk][0][0] =  -1.4280497\n",
      "minorAxis_1[iTrk][1][0] =  -17.610037\n",
      "minorAxis_1[iTrk][2][0] =  -6.123401e-10\n",
      "minorAxis_2[iTrk][0][0] =  -17.597902\n",
      "minorAxis_2[iTrk][1][0] =  1.4270656\n",
      "minorAxis_2[iTrk][2][0] =  -0.6558081\n",
      "  \n",
      "majorAxis[iTrk][0][0] =  -0.007825993\n",
      "majorAxis[iTrk][1][0] =  0.004052097\n",
      "majorAxis[iTrk][2][0] =  0.3945435\n",
      "minorAxis_1[iTrk][0][0] =  8.123606\n",
      "minorAxis_1[iTrk][1][0] =  15.689478\n",
      "minorAxis_1[iTrk][2][0] =  -2.4940747e-10\n",
      "minorAxis_2[iTrk][0][0] =  15.685566\n",
      "minorAxis_2[iTrk][1][0] =  -8.12158\n",
      "minorAxis_2[iTrk][2][0] =  0.3945435\n",
      "  \n",
      "majorAxis[iTrk][0][0] =  0.0046102717\n",
      "majorAxis[iTrk][1][0] =  -0.0016007021\n",
      "majorAxis[iTrk][2][0] =  0.29361814\n",
      "minorAxis_1[iTrk][0][0] =  -5.794979\n",
      "minorAxis_1[iTrk][1][0] =  -16.690445\n",
      "minorAxis_1[iTrk][2][0] =  2.4897104e-09\n",
      "minorAxis_2[iTrk][0][0] =  -16.688139\n",
      "minorAxis_2[iTrk][1][0] =  5.794179\n",
      "minorAxis_2[iTrk][2][0] =  0.2936181\n",
      "  \n",
      "majorAxis[iTrk][0][0] =  -0.00020041714\n",
      "majorAxis[iTrk][1][0] =  0.00010468164\n",
      "majorAxis[iTrk][2][0] =  0.06320469\n",
      "minorAxis_1[iTrk][0][0] =  8.179679\n",
      "minorAxis_1[iTrk][1][0] =  15.660318\n",
      "minorAxis_1[iTrk][2][0] =  7.40176e-08\n",
      "minorAxis_2[iTrk][0][0] =  15.660218\n",
      "minorAxis_2[iTrk][1][0] =  -8.179626\n",
      "minorAxis_2[iTrk][2][0] =  0.06320469\n",
      "  \n",
      "majorAxis[iTrk][0][0] =  -0.00020603223\n",
      "majorAxis[iTrk][1][0] =  -0.0005662605\n",
      "majorAxis[iTrk][2][0] =  0.10317981\n",
      "minorAxis_1[iTrk][0][0] =  -16.603\n",
      "minorAxis_1[iTrk][1][0] =  6.040953\n",
      "minorAxis_1[iTrk][2][0] =  4.5812504e-07\n",
      "minorAxis_2[iTrk][0][0] =  6.0408506\n",
      "minorAxis_2[iTrk][1][0] =  16.602718\n",
      "minorAxis_2[iTrk][2][0] =  0.10317982\n",
      "  \n",
      "majorAxis[iTrk][0][0] =  -0.00040561036\n",
      "majorAxis[iTrk][1][0] =  0.00014461782\n",
      "majorAxis[iTrk][2][0] =  0.0872241\n",
      "minorAxis_1[iTrk][0][0] =  -5.933496\n",
      "minorAxis_1[iTrk][1][0] =  -16.641706\n",
      "minorAxis_1[iTrk][2][0] =  1.0720762e-08\n",
      "minorAxis_2[iTrk][0][0] =  -16.641502\n",
      "minorAxis_2[iTrk][1][0] =  5.9334235\n",
      "minorAxis_2[iTrk][2][0] =  -0.0872241\n",
      "  \n",
      "majorAxis[iTrk][0][0] =  0.00038461428\n",
      "majorAxis[iTrk][1][0] =  -3.4232737e-05\n",
      "majorAxis[iTrk][2][0] =  0.08259597\n",
      "minorAxis_1[iTrk][0][0] =  -1.5663412\n",
      "minorAxis_1[iTrk][1][0] =  -17.598276\n",
      "minorAxis_1[iTrk][2][0] =  3.2106848e-07\n",
      "minorAxis_2[iTrk][0][0] =  -17.598082\n",
      "minorAxis_2[iTrk][1][0] =  1.5663238\n",
      "minorAxis_2[iTrk][2][0] =  0.08259596\n",
      "  \n",
      "majorAxis[iTrk][0][0] =  -0.022277953\n",
      "majorAxis[iTrk][1][0] =  -0.0046837274\n",
      "majorAxis[iTrk][2][0] =  0.63399464\n",
      "minorAxis_1[iTrk][0][0] =  -3.6350286\n",
      "minorAxis_1[iTrk][1][0] =  17.289862\n",
      "minorAxis_1[iTrk][2][0] =  9.566169e-10\n",
      "minorAxis_2[iTrk][0][0] =  17.278727\n",
      "minorAxis_2[iTrk][1][0] =  3.6326876\n",
      "minorAxis_2[iTrk][2][0] =  0.6339946\n",
      "  \n",
      "len(X) =  20000\n",
      "len(Xlist) =  1\n",
      "Loaded dataAA/20K_POCA_kernel_evts_200926.h5 in 35.3 s\n",
      "outer loop X.shape =  (20000, 9, 600)\n",
      "Constructing 10000 event dataset took 0.04965 s\n",
      "x_t.shape =  torch.Size([10000, 9, 600])\n",
      "x_t.shape[0] =  10000\n",
      "x_t.shape[1] =  9\n",
      "x_t.shape =  torch.Size([10000, 9, 600])\n"
     ]
    }
   ],
   "source": [
    "\n",
    "## Training dataset. You can put as many files here as desired.\n",
    "\n",
    "##train_loader = collect_t2kde_data('/share/lazy/pv-finder/20k_evts_for_KDE_learning_200716.h5',\n",
    "train_loader = collect_t2kde_data('/share/lazy/will/data/June30_2020_80k_1.h5', \n",
    "                                    '/share/lazy/will/data/June30_2020_80k_2.h5',\n",
    "                                    '/share/lazy/will/data/June30_2020_80k_3.h5',\n",
    "                                    '/share/lazy/will/data/June30_2020_80k_4.h5',\n",
    "                             batch_size=batch_size,\n",
    "## if we are using a larger dataset (240K events, with the datasets above, and 11 GB  of GPU memory),\n",
    "## the dataset will overflow the GPU memory; device=device will allow the data to move back\n",
    "## and forth between the CPU and GPU memory. While this allows use of a larger dataset, it slows\n",
    "## down performance by about 10%.  So comment out when not needed.\n",
    "##                          device=device,\n",
    "##                           slice = slice(None,18000)\n",
    "                           )\n",
    "                            \n",
    "# Validation dataset. You can slice to reduce the size.\n",
    "## mds no separate validation set yet,\n",
    "\n",
    "## For iter12, change slice(18000,None) to slice(10000,None)\n",
    "## First, we'll see if this changes the validation cost significantly\n",
    "##  Second, we will see if this reduces the validation cost fluctuations\n",
    "val_loader = collect_t2kde_data('dataAA/20K_POCA_kernel_evts_200926.h5',\n",
    "                            batch_size=batch_size,\n",
    "##                            device=device,\n",
    "                            slice = slice(10000,None)\n",
    "                           )\n"
   ]
  },
  {
   "cell_type": "code",
   "execution_count": 16,
   "metadata": {
    "scrolled": false
   },
   "outputs": [
    {
     "data": {
      "application/javascript": [
       "/* Put everything inside the global mpl namespace */\n",
       "window.mpl = {};\n",
       "\n",
       "\n",
       "mpl.get_websocket_type = function() {\n",
       "    if (typeof(WebSocket) !== 'undefined') {\n",
       "        return WebSocket;\n",
       "    } else if (typeof(MozWebSocket) !== 'undefined') {\n",
       "        return MozWebSocket;\n",
       "    } else {\n",
       "        alert('Your browser does not have WebSocket support. ' +\n",
       "              'Please try Chrome, Safari or Firefox ≥ 6. ' +\n",
       "              'Firefox 4 and 5 are also supported but you ' +\n",
       "              'have to enable WebSockets in about:config.');\n",
       "    };\n",
       "}\n",
       "\n",
       "mpl.figure = function(figure_id, websocket, ondownload, parent_element) {\n",
       "    this.id = figure_id;\n",
       "\n",
       "    this.ws = websocket;\n",
       "\n",
       "    this.supports_binary = (this.ws.binaryType != undefined);\n",
       "\n",
       "    if (!this.supports_binary) {\n",
       "        var warnings = document.getElementById(\"mpl-warnings\");\n",
       "        if (warnings) {\n",
       "            warnings.style.display = 'block';\n",
       "            warnings.textContent = (\n",
       "                \"This browser does not support binary websocket messages. \" +\n",
       "                    \"Performance may be slow.\");\n",
       "        }\n",
       "    }\n",
       "\n",
       "    this.imageObj = new Image();\n",
       "\n",
       "    this.context = undefined;\n",
       "    this.message = undefined;\n",
       "    this.canvas = undefined;\n",
       "    this.rubberband_canvas = undefined;\n",
       "    this.rubberband_context = undefined;\n",
       "    this.format_dropdown = undefined;\n",
       "\n",
       "    this.image_mode = 'full';\n",
       "\n",
       "    this.root = $('<div/>');\n",
       "    this._root_extra_style(this.root)\n",
       "    this.root.attr('style', 'display: inline-block');\n",
       "\n",
       "    $(parent_element).append(this.root);\n",
       "\n",
       "    this._init_header(this);\n",
       "    this._init_canvas(this);\n",
       "    this._init_toolbar(this);\n",
       "\n",
       "    var fig = this;\n",
       "\n",
       "    this.waiting = false;\n",
       "\n",
       "    this.ws.onopen =  function () {\n",
       "            fig.send_message(\"supports_binary\", {value: fig.supports_binary});\n",
       "            fig.send_message(\"send_image_mode\", {});\n",
       "            if (mpl.ratio != 1) {\n",
       "                fig.send_message(\"set_dpi_ratio\", {'dpi_ratio': mpl.ratio});\n",
       "            }\n",
       "            fig.send_message(\"refresh\", {});\n",
       "        }\n",
       "\n",
       "    this.imageObj.onload = function() {\n",
       "            if (fig.image_mode == 'full') {\n",
       "                // Full images could contain transparency (where diff images\n",
       "                // almost always do), so we need to clear the canvas so that\n",
       "                // there is no ghosting.\n",
       "                fig.context.clearRect(0, 0, fig.canvas.width, fig.canvas.height);\n",
       "            }\n",
       "            fig.context.drawImage(fig.imageObj, 0, 0);\n",
       "        };\n",
       "\n",
       "    this.imageObj.onunload = function() {\n",
       "        fig.ws.close();\n",
       "    }\n",
       "\n",
       "    this.ws.onmessage = this._make_on_message_function(this);\n",
       "\n",
       "    this.ondownload = ondownload;\n",
       "}\n",
       "\n",
       "mpl.figure.prototype._init_header = function() {\n",
       "    var titlebar = $(\n",
       "        '<div class=\"ui-dialog-titlebar ui-widget-header ui-corner-all ' +\n",
       "        'ui-helper-clearfix\"/>');\n",
       "    var titletext = $(\n",
       "        '<div class=\"ui-dialog-title\" style=\"width: 100%; ' +\n",
       "        'text-align: center; padding: 3px;\"/>');\n",
       "    titlebar.append(titletext)\n",
       "    this.root.append(titlebar);\n",
       "    this.header = titletext[0];\n",
       "}\n",
       "\n",
       "\n",
       "\n",
       "mpl.figure.prototype._canvas_extra_style = function(canvas_div) {\n",
       "\n",
       "}\n",
       "\n",
       "\n",
       "mpl.figure.prototype._root_extra_style = function(canvas_div) {\n",
       "\n",
       "}\n",
       "\n",
       "mpl.figure.prototype._init_canvas = function() {\n",
       "    var fig = this;\n",
       "\n",
       "    var canvas_div = $('<div/>');\n",
       "\n",
       "    canvas_div.attr('style', 'position: relative; clear: both; outline: 0');\n",
       "\n",
       "    function canvas_keyboard_event(event) {\n",
       "        return fig.key_event(event, event['data']);\n",
       "    }\n",
       "\n",
       "    canvas_div.keydown('key_press', canvas_keyboard_event);\n",
       "    canvas_div.keyup('key_release', canvas_keyboard_event);\n",
       "    this.canvas_div = canvas_div\n",
       "    this._canvas_extra_style(canvas_div)\n",
       "    this.root.append(canvas_div);\n",
       "\n",
       "    var canvas = $('<canvas/>');\n",
       "    canvas.addClass('mpl-canvas');\n",
       "    canvas.attr('style', \"left: 0; top: 0; z-index: 0; outline: 0\")\n",
       "\n",
       "    this.canvas = canvas[0];\n",
       "    this.context = canvas[0].getContext(\"2d\");\n",
       "\n",
       "    var backingStore = this.context.backingStorePixelRatio ||\n",
       "\tthis.context.webkitBackingStorePixelRatio ||\n",
       "\tthis.context.mozBackingStorePixelRatio ||\n",
       "\tthis.context.msBackingStorePixelRatio ||\n",
       "\tthis.context.oBackingStorePixelRatio ||\n",
       "\tthis.context.backingStorePixelRatio || 1;\n",
       "\n",
       "    mpl.ratio = (window.devicePixelRatio || 1) / backingStore;\n",
       "\n",
       "    var rubberband = $('<canvas/>');\n",
       "    rubberband.attr('style', \"position: absolute; left: 0; top: 0; z-index: 1;\")\n",
       "\n",
       "    var pass_mouse_events = true;\n",
       "\n",
       "    canvas_div.resizable({\n",
       "        start: function(event, ui) {\n",
       "            pass_mouse_events = false;\n",
       "        },\n",
       "        resize: function(event, ui) {\n",
       "            fig.request_resize(ui.size.width, ui.size.height);\n",
       "        },\n",
       "        stop: function(event, ui) {\n",
       "            pass_mouse_events = true;\n",
       "            fig.request_resize(ui.size.width, ui.size.height);\n",
       "        },\n",
       "    });\n",
       "\n",
       "    function mouse_event_fn(event) {\n",
       "        if (pass_mouse_events)\n",
       "            return fig.mouse_event(event, event['data']);\n",
       "    }\n",
       "\n",
       "    rubberband.mousedown('button_press', mouse_event_fn);\n",
       "    rubberband.mouseup('button_release', mouse_event_fn);\n",
       "    // Throttle sequential mouse events to 1 every 20ms.\n",
       "    rubberband.mousemove('motion_notify', mouse_event_fn);\n",
       "\n",
       "    rubberband.mouseenter('figure_enter', mouse_event_fn);\n",
       "    rubberband.mouseleave('figure_leave', mouse_event_fn);\n",
       "\n",
       "    canvas_div.on(\"wheel\", function (event) {\n",
       "        event = event.originalEvent;\n",
       "        event['data'] = 'scroll'\n",
       "        if (event.deltaY < 0) {\n",
       "            event.step = 1;\n",
       "        } else {\n",
       "            event.step = -1;\n",
       "        }\n",
       "        mouse_event_fn(event);\n",
       "    });\n",
       "\n",
       "    canvas_div.append(canvas);\n",
       "    canvas_div.append(rubberband);\n",
       "\n",
       "    this.rubberband = rubberband;\n",
       "    this.rubberband_canvas = rubberband[0];\n",
       "    this.rubberband_context = rubberband[0].getContext(\"2d\");\n",
       "    this.rubberband_context.strokeStyle = \"#000000\";\n",
       "\n",
       "    this._resize_canvas = function(width, height) {\n",
       "        // Keep the size of the canvas, canvas container, and rubber band\n",
       "        // canvas in synch.\n",
       "        canvas_div.css('width', width)\n",
       "        canvas_div.css('height', height)\n",
       "\n",
       "        canvas.attr('width', width * mpl.ratio);\n",
       "        canvas.attr('height', height * mpl.ratio);\n",
       "        canvas.attr('style', 'width: ' + width + 'px; height: ' + height + 'px;');\n",
       "\n",
       "        rubberband.attr('width', width);\n",
       "        rubberband.attr('height', height);\n",
       "    }\n",
       "\n",
       "    // Set the figure to an initial 600x600px, this will subsequently be updated\n",
       "    // upon first draw.\n",
       "    this._resize_canvas(600, 600);\n",
       "\n",
       "    // Disable right mouse context menu.\n",
       "    $(this.rubberband_canvas).bind(\"contextmenu\",function(e){\n",
       "        return false;\n",
       "    });\n",
       "\n",
       "    function set_focus () {\n",
       "        canvas.focus();\n",
       "        canvas_div.focus();\n",
       "    }\n",
       "\n",
       "    window.setTimeout(set_focus, 100);\n",
       "}\n",
       "\n",
       "mpl.figure.prototype._init_toolbar = function() {\n",
       "    var fig = this;\n",
       "\n",
       "    var nav_element = $('<div/>');\n",
       "    nav_element.attr('style', 'width: 100%');\n",
       "    this.root.append(nav_element);\n",
       "\n",
       "    // Define a callback function for later on.\n",
       "    function toolbar_event(event) {\n",
       "        return fig.toolbar_button_onclick(event['data']);\n",
       "    }\n",
       "    function toolbar_mouse_event(event) {\n",
       "        return fig.toolbar_button_onmouseover(event['data']);\n",
       "    }\n",
       "\n",
       "    for(var toolbar_ind in mpl.toolbar_items) {\n",
       "        var name = mpl.toolbar_items[toolbar_ind][0];\n",
       "        var tooltip = mpl.toolbar_items[toolbar_ind][1];\n",
       "        var image = mpl.toolbar_items[toolbar_ind][2];\n",
       "        var method_name = mpl.toolbar_items[toolbar_ind][3];\n",
       "\n",
       "        if (!name) {\n",
       "            // put a spacer in here.\n",
       "            continue;\n",
       "        }\n",
       "        var button = $('<button/>');\n",
       "        button.addClass('ui-button ui-widget ui-state-default ui-corner-all ' +\n",
       "                        'ui-button-icon-only');\n",
       "        button.attr('role', 'button');\n",
       "        button.attr('aria-disabled', 'false');\n",
       "        button.click(method_name, toolbar_event);\n",
       "        button.mouseover(tooltip, toolbar_mouse_event);\n",
       "\n",
       "        var icon_img = $('<span/>');\n",
       "        icon_img.addClass('ui-button-icon-primary ui-icon');\n",
       "        icon_img.addClass(image);\n",
       "        icon_img.addClass('ui-corner-all');\n",
       "\n",
       "        var tooltip_span = $('<span/>');\n",
       "        tooltip_span.addClass('ui-button-text');\n",
       "        tooltip_span.html(tooltip);\n",
       "\n",
       "        button.append(icon_img);\n",
       "        button.append(tooltip_span);\n",
       "\n",
       "        nav_element.append(button);\n",
       "    }\n",
       "\n",
       "    var fmt_picker_span = $('<span/>');\n",
       "\n",
       "    var fmt_picker = $('<select/>');\n",
       "    fmt_picker.addClass('mpl-toolbar-option ui-widget ui-widget-content');\n",
       "    fmt_picker_span.append(fmt_picker);\n",
       "    nav_element.append(fmt_picker_span);\n",
       "    this.format_dropdown = fmt_picker[0];\n",
       "\n",
       "    for (var ind in mpl.extensions) {\n",
       "        var fmt = mpl.extensions[ind];\n",
       "        var option = $(\n",
       "            '<option/>', {selected: fmt === mpl.default_extension}).html(fmt);\n",
       "        fmt_picker.append(option);\n",
       "    }\n",
       "\n",
       "    // Add hover states to the ui-buttons\n",
       "    $( \".ui-button\" ).hover(\n",
       "        function() { $(this).addClass(\"ui-state-hover\");},\n",
       "        function() { $(this).removeClass(\"ui-state-hover\");}\n",
       "    );\n",
       "\n",
       "    var status_bar = $('<span class=\"mpl-message\"/>');\n",
       "    nav_element.append(status_bar);\n",
       "    this.message = status_bar[0];\n",
       "}\n",
       "\n",
       "mpl.figure.prototype.request_resize = function(x_pixels, y_pixels) {\n",
       "    // Request matplotlib to resize the figure. Matplotlib will then trigger a resize in the client,\n",
       "    // which will in turn request a refresh of the image.\n",
       "    this.send_message('resize', {'width': x_pixels, 'height': y_pixels});\n",
       "}\n",
       "\n",
       "mpl.figure.prototype.send_message = function(type, properties) {\n",
       "    properties['type'] = type;\n",
       "    properties['figure_id'] = this.id;\n",
       "    this.ws.send(JSON.stringify(properties));\n",
       "}\n",
       "\n",
       "mpl.figure.prototype.send_draw_message = function() {\n",
       "    if (!this.waiting) {\n",
       "        this.waiting = true;\n",
       "        this.ws.send(JSON.stringify({type: \"draw\", figure_id: this.id}));\n",
       "    }\n",
       "}\n",
       "\n",
       "\n",
       "mpl.figure.prototype.handle_save = function(fig, msg) {\n",
       "    var format_dropdown = fig.format_dropdown;\n",
       "    var format = format_dropdown.options[format_dropdown.selectedIndex].value;\n",
       "    fig.ondownload(fig, format);\n",
       "}\n",
       "\n",
       "\n",
       "mpl.figure.prototype.handle_resize = function(fig, msg) {\n",
       "    var size = msg['size'];\n",
       "    if (size[0] != fig.canvas.width || size[1] != fig.canvas.height) {\n",
       "        fig._resize_canvas(size[0], size[1]);\n",
       "        fig.send_message(\"refresh\", {});\n",
       "    };\n",
       "}\n",
       "\n",
       "mpl.figure.prototype.handle_rubberband = function(fig, msg) {\n",
       "    var x0 = msg['x0'] / mpl.ratio;\n",
       "    var y0 = (fig.canvas.height - msg['y0']) / mpl.ratio;\n",
       "    var x1 = msg['x1'] / mpl.ratio;\n",
       "    var y1 = (fig.canvas.height - msg['y1']) / mpl.ratio;\n",
       "    x0 = Math.floor(x0) + 0.5;\n",
       "    y0 = Math.floor(y0) + 0.5;\n",
       "    x1 = Math.floor(x1) + 0.5;\n",
       "    y1 = Math.floor(y1) + 0.5;\n",
       "    var min_x = Math.min(x0, x1);\n",
       "    var min_y = Math.min(y0, y1);\n",
       "    var width = Math.abs(x1 - x0);\n",
       "    var height = Math.abs(y1 - y0);\n",
       "\n",
       "    fig.rubberband_context.clearRect(\n",
       "        0, 0, fig.canvas.width / mpl.ratio, fig.canvas.height / mpl.ratio);\n",
       "\n",
       "    fig.rubberband_context.strokeRect(min_x, min_y, width, height);\n",
       "}\n",
       "\n",
       "mpl.figure.prototype.handle_figure_label = function(fig, msg) {\n",
       "    // Updates the figure title.\n",
       "    fig.header.textContent = msg['label'];\n",
       "}\n",
       "\n",
       "mpl.figure.prototype.handle_cursor = function(fig, msg) {\n",
       "    var cursor = msg['cursor'];\n",
       "    switch(cursor)\n",
       "    {\n",
       "    case 0:\n",
       "        cursor = 'pointer';\n",
       "        break;\n",
       "    case 1:\n",
       "        cursor = 'default';\n",
       "        break;\n",
       "    case 2:\n",
       "        cursor = 'crosshair';\n",
       "        break;\n",
       "    case 3:\n",
       "        cursor = 'move';\n",
       "        break;\n",
       "    }\n",
       "    fig.rubberband_canvas.style.cursor = cursor;\n",
       "}\n",
       "\n",
       "mpl.figure.prototype.handle_message = function(fig, msg) {\n",
       "    fig.message.textContent = msg['message'];\n",
       "}\n",
       "\n",
       "mpl.figure.prototype.handle_draw = function(fig, msg) {\n",
       "    // Request the server to send over a new figure.\n",
       "    fig.send_draw_message();\n",
       "}\n",
       "\n",
       "mpl.figure.prototype.handle_image_mode = function(fig, msg) {\n",
       "    fig.image_mode = msg['mode'];\n",
       "}\n",
       "\n",
       "mpl.figure.prototype.updated_canvas_event = function() {\n",
       "    // Called whenever the canvas gets updated.\n",
       "    this.send_message(\"ack\", {});\n",
       "}\n",
       "\n",
       "// A function to construct a web socket function for onmessage handling.\n",
       "// Called in the figure constructor.\n",
       "mpl.figure.prototype._make_on_message_function = function(fig) {\n",
       "    return function socket_on_message(evt) {\n",
       "        if (evt.data instanceof Blob) {\n",
       "            /* FIXME: We get \"Resource interpreted as Image but\n",
       "             * transferred with MIME type text/plain:\" errors on\n",
       "             * Chrome.  But how to set the MIME type?  It doesn't seem\n",
       "             * to be part of the websocket stream */\n",
       "            evt.data.type = \"image/png\";\n",
       "\n",
       "            /* Free the memory for the previous frames */\n",
       "            if (fig.imageObj.src) {\n",
       "                (window.URL || window.webkitURL).revokeObjectURL(\n",
       "                    fig.imageObj.src);\n",
       "            }\n",
       "\n",
       "            fig.imageObj.src = (window.URL || window.webkitURL).createObjectURL(\n",
       "                evt.data);\n",
       "            fig.updated_canvas_event();\n",
       "            fig.waiting = false;\n",
       "            return;\n",
       "        }\n",
       "        else if (typeof evt.data === 'string' && evt.data.slice(0, 21) == \"data:image/png;base64\") {\n",
       "            fig.imageObj.src = evt.data;\n",
       "            fig.updated_canvas_event();\n",
       "            fig.waiting = false;\n",
       "            return;\n",
       "        }\n",
       "\n",
       "        var msg = JSON.parse(evt.data);\n",
       "        var msg_type = msg['type'];\n",
       "\n",
       "        // Call the  \"handle_{type}\" callback, which takes\n",
       "        // the figure and JSON message as its only arguments.\n",
       "        try {\n",
       "            var callback = fig[\"handle_\" + msg_type];\n",
       "        } catch (e) {\n",
       "            console.log(\"No handler for the '\" + msg_type + \"' message type: \", msg);\n",
       "            return;\n",
       "        }\n",
       "\n",
       "        if (callback) {\n",
       "            try {\n",
       "                // console.log(\"Handling '\" + msg_type + \"' message: \", msg);\n",
       "                callback(fig, msg);\n",
       "            } catch (e) {\n",
       "                console.log(\"Exception inside the 'handler_\" + msg_type + \"' callback:\", e, e.stack, msg);\n",
       "            }\n",
       "        }\n",
       "    };\n",
       "}\n",
       "\n",
       "// from http://stackoverflow.com/questions/1114465/getting-mouse-location-in-canvas\n",
       "mpl.findpos = function(e) {\n",
       "    //this section is from http://www.quirksmode.org/js/events_properties.html\n",
       "    var targ;\n",
       "    if (!e)\n",
       "        e = window.event;\n",
       "    if (e.target)\n",
       "        targ = e.target;\n",
       "    else if (e.srcElement)\n",
       "        targ = e.srcElement;\n",
       "    if (targ.nodeType == 3) // defeat Safari bug\n",
       "        targ = targ.parentNode;\n",
       "\n",
       "    // jQuery normalizes the pageX and pageY\n",
       "    // pageX,Y are the mouse positions relative to the document\n",
       "    // offset() returns the position of the element relative to the document\n",
       "    var x = e.pageX - $(targ).offset().left;\n",
       "    var y = e.pageY - $(targ).offset().top;\n",
       "\n",
       "    return {\"x\": x, \"y\": y};\n",
       "};\n",
       "\n",
       "/*\n",
       " * return a copy of an object with only non-object keys\n",
       " * we need this to avoid circular references\n",
       " * http://stackoverflow.com/a/24161582/3208463\n",
       " */\n",
       "function simpleKeys (original) {\n",
       "  return Object.keys(original).reduce(function (obj, key) {\n",
       "    if (typeof original[key] !== 'object')\n",
       "        obj[key] = original[key]\n",
       "    return obj;\n",
       "  }, {});\n",
       "}\n",
       "\n",
       "mpl.figure.prototype.mouse_event = function(event, name) {\n",
       "    var canvas_pos = mpl.findpos(event)\n",
       "\n",
       "    if (name === 'button_press')\n",
       "    {\n",
       "        this.canvas.focus();\n",
       "        this.canvas_div.focus();\n",
       "    }\n",
       "\n",
       "    var x = canvas_pos.x * mpl.ratio;\n",
       "    var y = canvas_pos.y * mpl.ratio;\n",
       "\n",
       "    this.send_message(name, {x: x, y: y, button: event.button,\n",
       "                             step: event.step,\n",
       "                             guiEvent: simpleKeys(event)});\n",
       "\n",
       "    /* This prevents the web browser from automatically changing to\n",
       "     * the text insertion cursor when the button is pressed.  We want\n",
       "     * to control all of the cursor setting manually through the\n",
       "     * 'cursor' event from matplotlib */\n",
       "    event.preventDefault();\n",
       "    return false;\n",
       "}\n",
       "\n",
       "mpl.figure.prototype._key_event_extra = function(event, name) {\n",
       "    // Handle any extra behaviour associated with a key event\n",
       "}\n",
       "\n",
       "mpl.figure.prototype.key_event = function(event, name) {\n",
       "\n",
       "    // Prevent repeat events\n",
       "    if (name == 'key_press')\n",
       "    {\n",
       "        if (event.which === this._key)\n",
       "            return;\n",
       "        else\n",
       "            this._key = event.which;\n",
       "    }\n",
       "    if (name == 'key_release')\n",
       "        this._key = null;\n",
       "\n",
       "    var value = '';\n",
       "    if (event.ctrlKey && event.which != 17)\n",
       "        value += \"ctrl+\";\n",
       "    if (event.altKey && event.which != 18)\n",
       "        value += \"alt+\";\n",
       "    if (event.shiftKey && event.which != 16)\n",
       "        value += \"shift+\";\n",
       "\n",
       "    value += 'k';\n",
       "    value += event.which.toString();\n",
       "\n",
       "    this._key_event_extra(event, name);\n",
       "\n",
       "    this.send_message(name, {key: value,\n",
       "                             guiEvent: simpleKeys(event)});\n",
       "    return false;\n",
       "}\n",
       "\n",
       "mpl.figure.prototype.toolbar_button_onclick = function(name) {\n",
       "    if (name == 'download') {\n",
       "        this.handle_save(this, null);\n",
       "    } else {\n",
       "        this.send_message(\"toolbar_button\", {name: name});\n",
       "    }\n",
       "};\n",
       "\n",
       "mpl.figure.prototype.toolbar_button_onmouseover = function(tooltip) {\n",
       "    this.message.textContent = tooltip;\n",
       "};\n",
       "mpl.toolbar_items = [[\"Home\", \"Reset original view\", \"fa fa-home icon-home\", \"home\"], [\"Back\", \"Back to previous view\", \"fa fa-arrow-left icon-arrow-left\", \"back\"], [\"Forward\", \"Forward to next view\", \"fa fa-arrow-right icon-arrow-right\", \"forward\"], [\"\", \"\", \"\", \"\"], [\"Pan\", \"Pan axes with left mouse, zoom with right\", \"fa fa-arrows icon-move\", \"pan\"], [\"Zoom\", \"Zoom to rectangle\", \"fa fa-square-o icon-check-empty\", \"zoom\"], [\"\", \"\", \"\", \"\"], [\"Download\", \"Download plot\", \"fa fa-floppy-o icon-save\", \"download\"]];\n",
       "\n",
       "mpl.extensions = [\"eps\", \"jpeg\", \"pdf\", \"png\", \"ps\", \"raw\", \"svg\", \"tif\"];\n",
       "\n",
       "mpl.default_extension = \"png\";var comm_websocket_adapter = function(comm) {\n",
       "    // Create a \"websocket\"-like object which calls the given IPython comm\n",
       "    // object with the appropriate methods. Currently this is a non binary\n",
       "    // socket, so there is still some room for performance tuning.\n",
       "    var ws = {};\n",
       "\n",
       "    ws.close = function() {\n",
       "        comm.close()\n",
       "    };\n",
       "    ws.send = function(m) {\n",
       "        //console.log('sending', m);\n",
       "        comm.send(m);\n",
       "    };\n",
       "    // Register the callback with on_msg.\n",
       "    comm.on_msg(function(msg) {\n",
       "        //console.log('receiving', msg['content']['data'], msg);\n",
       "        // Pass the mpl event to the overridden (by mpl) onmessage function.\n",
       "        ws.onmessage(msg['content']['data'])\n",
       "    });\n",
       "    return ws;\n",
       "}\n",
       "\n",
       "mpl.mpl_figure_comm = function(comm, msg) {\n",
       "    // This is the function which gets called when the mpl process\n",
       "    // starts-up an IPython Comm through the \"matplotlib\" channel.\n",
       "\n",
       "    var id = msg.content.data.id;\n",
       "    // Get hold of the div created by the display call when the Comm\n",
       "    // socket was opened in Python.\n",
       "    var element = $(\"#\" + id);\n",
       "    var ws_proxy = comm_websocket_adapter(comm)\n",
       "\n",
       "    function ondownload(figure, format) {\n",
       "        window.open(figure.imageObj.src);\n",
       "    }\n",
       "\n",
       "    var fig = new mpl.figure(id, ws_proxy,\n",
       "                           ondownload,\n",
       "                           element.get(0));\n",
       "\n",
       "    // Call onopen now - mpl needs it, as it is assuming we've passed it a real\n",
       "    // web socket which is closed, not our websocket->open comm proxy.\n",
       "    ws_proxy.onopen();\n",
       "\n",
       "    fig.parent_element = element.get(0);\n",
       "    fig.cell_info = mpl.find_output_cell(\"<div id='\" + id + \"'></div>\");\n",
       "    if (!fig.cell_info) {\n",
       "        console.error(\"Failed to find cell for figure\", id, fig);\n",
       "        return;\n",
       "    }\n",
       "\n",
       "    var output_index = fig.cell_info[2]\n",
       "    var cell = fig.cell_info[0];\n",
       "\n",
       "};\n",
       "\n",
       "mpl.figure.prototype.handle_close = function(fig, msg) {\n",
       "    var width = fig.canvas.width/mpl.ratio\n",
       "    fig.root.unbind('remove')\n",
       "\n",
       "    // Update the output cell to use the data from the current canvas.\n",
       "    fig.push_to_output();\n",
       "    var dataURL = fig.canvas.toDataURL();\n",
       "    // Re-enable the keyboard manager in IPython - without this line, in FF,\n",
       "    // the notebook keyboard shortcuts fail.\n",
       "    IPython.keyboard_manager.enable()\n",
       "    $(fig.parent_element).html('<img src=\"' + dataURL + '\" width=\"' + width + '\">');\n",
       "    fig.close_ws(fig, msg);\n",
       "}\n",
       "\n",
       "mpl.figure.prototype.close_ws = function(fig, msg){\n",
       "    fig.send_message('closing', msg);\n",
       "    // fig.ws.close()\n",
       "}\n",
       "\n",
       "mpl.figure.prototype.push_to_output = function(remove_interactive) {\n",
       "    // Turn the data on the canvas into data in the output cell.\n",
       "    var width = this.canvas.width/mpl.ratio\n",
       "    var dataURL = this.canvas.toDataURL();\n",
       "    this.cell_info[1]['text/html'] = '<img src=\"' + dataURL + '\" width=\"' + width + '\">';\n",
       "}\n",
       "\n",
       "mpl.figure.prototype.updated_canvas_event = function() {\n",
       "    // Tell IPython that the notebook contents must change.\n",
       "    IPython.notebook.set_dirty(true);\n",
       "    this.send_message(\"ack\", {});\n",
       "    var fig = this;\n",
       "    // Wait a second, then push the new image to the DOM so\n",
       "    // that it is saved nicely (might be nice to debounce this).\n",
       "    setTimeout(function () { fig.push_to_output() }, 1000);\n",
       "}\n",
       "\n",
       "mpl.figure.prototype._init_toolbar = function() {\n",
       "    var fig = this;\n",
       "\n",
       "    var nav_element = $('<div/>');\n",
       "    nav_element.attr('style', 'width: 100%');\n",
       "    this.root.append(nav_element);\n",
       "\n",
       "    // Define a callback function for later on.\n",
       "    function toolbar_event(event) {\n",
       "        return fig.toolbar_button_onclick(event['data']);\n",
       "    }\n",
       "    function toolbar_mouse_event(event) {\n",
       "        return fig.toolbar_button_onmouseover(event['data']);\n",
       "    }\n",
       "\n",
       "    for(var toolbar_ind in mpl.toolbar_items){\n",
       "        var name = mpl.toolbar_items[toolbar_ind][0];\n",
       "        var tooltip = mpl.toolbar_items[toolbar_ind][1];\n",
       "        var image = mpl.toolbar_items[toolbar_ind][2];\n",
       "        var method_name = mpl.toolbar_items[toolbar_ind][3];\n",
       "\n",
       "        if (!name) { continue; };\n",
       "\n",
       "        var button = $('<button class=\"btn btn-default\" href=\"#\" title=\"' + name + '\"><i class=\"fa ' + image + ' fa-lg\"></i></button>');\n",
       "        button.click(method_name, toolbar_event);\n",
       "        button.mouseover(tooltip, toolbar_mouse_event);\n",
       "        nav_element.append(button);\n",
       "    }\n",
       "\n",
       "    // Add the status bar.\n",
       "    var status_bar = $('<span class=\"mpl-message\" style=\"text-align:right; float: right;\"/>');\n",
       "    nav_element.append(status_bar);\n",
       "    this.message = status_bar[0];\n",
       "\n",
       "    // Add the close button to the window.\n",
       "    var buttongrp = $('<div class=\"btn-group inline pull-right\"></div>');\n",
       "    var button = $('<button class=\"btn btn-mini btn-primary\" href=\"#\" title=\"Stop Interaction\"><i class=\"fa fa-power-off icon-remove icon-large\"></i></button>');\n",
       "    button.click(function (evt) { fig.handle_close(fig, {}); } );\n",
       "    button.mouseover('Stop Interaction', toolbar_mouse_event);\n",
       "    buttongrp.append(button);\n",
       "    var titlebar = this.root.find($('.ui-dialog-titlebar'));\n",
       "    titlebar.prepend(buttongrp);\n",
       "}\n",
       "\n",
       "mpl.figure.prototype._root_extra_style = function(el){\n",
       "    var fig = this\n",
       "    el.on(\"remove\", function(){\n",
       "\tfig.close_ws(fig, {});\n",
       "    });\n",
       "}\n",
       "\n",
       "mpl.figure.prototype._canvas_extra_style = function(el){\n",
       "    // this is important to make the div 'focusable\n",
       "    el.attr('tabindex', 0)\n",
       "    // reach out to IPython and tell the keyboard manager to turn it's self\n",
       "    // off when our div gets focus\n",
       "\n",
       "    // location in version 3\n",
       "    if (IPython.notebook.keyboard_manager) {\n",
       "        IPython.notebook.keyboard_manager.register_events(el);\n",
       "    }\n",
       "    else {\n",
       "        // location in version 2\n",
       "        IPython.keyboard_manager.register_events(el);\n",
       "    }\n",
       "\n",
       "}\n",
       "\n",
       "mpl.figure.prototype._key_event_extra = function(event, name) {\n",
       "    var manager = IPython.notebook.keyboard_manager;\n",
       "    if (!manager)\n",
       "        manager = IPython.keyboard_manager;\n",
       "\n",
       "    // Check for shift+enter\n",
       "    if (event.shiftKey && event.which == 13) {\n",
       "        this.canvas_div.blur();\n",
       "        // select the cell after this one\n",
       "        var index = IPython.notebook.find_cell_index(this.cell_info[0]);\n",
       "        IPython.notebook.select(index + 1);\n",
       "    }\n",
       "}\n",
       "\n",
       "mpl.figure.prototype.handle_save = function(fig, msg) {\n",
       "    fig.ondownload(fig, null);\n",
       "}\n",
       "\n",
       "\n",
       "mpl.find_output_cell = function(html_output) {\n",
       "    // Return the cell and output element which can be found *uniquely* in the notebook.\n",
       "    // Note - this is a bit hacky, but it is done because the \"notebook_saving.Notebook\"\n",
       "    // IPython event is triggered only after the cells have been serialised, which for\n",
       "    // our purposes (turning an active figure into a static one), is too late.\n",
       "    var cells = IPython.notebook.get_cells();\n",
       "    var ncells = cells.length;\n",
       "    for (var i=0; i<ncells; i++) {\n",
       "        var cell = cells[i];\n",
       "        if (cell.cell_type === 'code'){\n",
       "            for (var j=0; j<cell.output_area.outputs.length; j++) {\n",
       "                var data = cell.output_area.outputs[j];\n",
       "                if (data.data) {\n",
       "                    // IPython >= 3 moved mimebundle to data attribute of output\n",
       "                    data = data.data;\n",
       "                }\n",
       "                if (data['text/html'] == html_output) {\n",
       "                    return [cell, data, j];\n",
       "                }\n",
       "            }\n",
       "        }\n",
       "    }\n",
       "}\n",
       "\n",
       "// Register the function which deals with the matplotlib target/channel.\n",
       "// The kernel may be null if the page has been refreshed.\n",
       "if (IPython.notebook.kernel != null) {\n",
       "    IPython.notebook.kernel.comm_manager.register_target('matplotlib', mpl.mpl_figure_comm);\n",
       "}\n"
      ],
      "text/plain": [
       "<IPython.core.display.Javascript object>"
      ]
     },
     "metadata": {},
     "output_type": "display_data"
    },
    {
     "data": {
      "text/html": [
       "<img src=\"data:image/png;base64,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\" width=\"999.75\">"
      ],
      "text/plain": [
       "<IPython.core.display.HTML object>"
      ]
     },
     "metadata": {},
     "output_type": "display_data"
    }
   ],
   "source": [
    "ax, tax, lax, lines = dual_train_plots()\n",
    "fig = ax.figure\n",
    "plt.tight_layout()"
   ]
  },
  {
   "cell_type": "code",
   "execution_count": 17,
   "metadata": {
    "scrolled": false
   },
   "outputs": [
    {
     "name": "stdout",
     "output_type": "stream",
     "text": [
      "Number of batches: train = 6667, val = 209\n"
     ]
    },
    {
     "data": {
      "application/vnd.jupyter.widget-view+json": {
       "model_id": "4fbd708ac1f347e7a9198f302f9e80fa",
       "version_major": 2,
       "version_minor": 0
      },
      "text/plain": [
       "HBox(children=(FloatProgress(value=0.0, description='Epochs', layout=Layout(flex='2'), max=60.0, style=Progres…"
      ]
     },
     "metadata": {},
     "output_type": "display_data"
    },
    {
     "name": "stdout",
     "output_type": "stream",
     "text": [
      "Number of batches: train = 6667, val = 209\n"
     ]
    },
    {
     "data": {
      "application/vnd.jupyter.widget-view+json": {
       "model_id": "",
       "version_major": 2,
       "version_minor": 0
      },
      "text/plain": [
       "HBox(children=(FloatProgress(value=0.0, description='Training', layout=Layout(flex='2'), max=6667.0, style=Pro…"
      ]
     },
     "metadata": {},
     "output_type": "display_data"
    },
    {
     "name": "stdout",
     "output_type": "stream",
     "text": [
      "Epoch 0: train=0.871004, val=0.611423, took 601.95 s\n"
     ]
    },
    {
     "data": {
      "application/vnd.jupyter.widget-view+json": {
       "model_id": "",
       "version_major": 2,
       "version_minor": 0
      },
      "text/plain": [
       "HBox(children=(FloatProgress(value=0.0, description='Training', layout=Layout(flex='2'), max=6667.0, style=Pro…"
      ]
     },
     "metadata": {},
     "output_type": "display_data"
    },
    {
     "name": "stdout",
     "output_type": "stream",
     "text": [
      "Epoch 1: train=0.869725, val=0.607996, took 600.69 s\n"
     ]
    },
    {
     "data": {
      "application/vnd.jupyter.widget-view+json": {
       "model_id": "",
       "version_major": 2,
       "version_minor": 0
      },
      "text/plain": [
       "HBox(children=(FloatProgress(value=0.0, description='Training', layout=Layout(flex='2'), max=6667.0, style=Pro…"
      ]
     },
     "metadata": {},
     "output_type": "display_data"
    },
    {
     "name": "stdout",
     "output_type": "stream",
     "text": [
      "Epoch 2: train=0.869685, val=0.734642, took 603.06 s\n"
     ]
    },
    {
     "data": {
      "application/vnd.jupyter.widget-view+json": {
       "model_id": "",
       "version_major": 2,
       "version_minor": 0
      },
      "text/plain": [
       "HBox(children=(FloatProgress(value=0.0, description='Training', layout=Layout(flex='2'), max=6667.0, style=Pro…"
      ]
     },
     "metadata": {},
     "output_type": "display_data"
    },
    {
     "name": "stdout",
     "output_type": "stream",
     "text": [
      "Epoch 3: train=0.867733, val=0.60792, took 600.39 s\n"
     ]
    },
    {
     "data": {
      "application/vnd.jupyter.widget-view+json": {
       "model_id": "",
       "version_major": 2,
       "version_minor": 0
      },
      "text/plain": [
       "HBox(children=(FloatProgress(value=0.0, description='Training', layout=Layout(flex='2'), max=6667.0, style=Pro…"
      ]
     },
     "metadata": {},
     "output_type": "display_data"
    },
    {
     "name": "stdout",
     "output_type": "stream",
     "text": [
      "Epoch 4: train=0.866063, val=0.601363, took 601.48 s\n"
     ]
    },
    {
     "data": {
      "application/vnd.jupyter.widget-view+json": {
       "model_id": "",
       "version_major": 2,
       "version_minor": 0
      },
      "text/plain": [
       "HBox(children=(FloatProgress(value=0.0, description='Training', layout=Layout(flex='2'), max=6667.0, style=Pro…"
      ]
     },
     "metadata": {},
     "output_type": "display_data"
    },
    {
     "name": "stdout",
     "output_type": "stream",
     "text": [
      "Epoch 5: train=0.865482, val=0.653998, took 600.11 s\n"
     ]
    },
    {
     "data": {
      "application/vnd.jupyter.widget-view+json": {
       "model_id": "",
       "version_major": 2,
       "version_minor": 0
      },
      "text/plain": [
       "HBox(children=(FloatProgress(value=0.0, description='Training', layout=Layout(flex='2'), max=6667.0, style=Pro…"
      ]
     },
     "metadata": {},
     "output_type": "display_data"
    },
    {
     "name": "stdout",
     "output_type": "stream",
     "text": [
      "Epoch 6: train=0.866331, val=0.658213, took 601.53 s\n"
     ]
    },
    {
     "data": {
      "application/vnd.jupyter.widget-view+json": {
       "model_id": "",
       "version_major": 2,
       "version_minor": 0
      },
      "text/plain": [
       "HBox(children=(FloatProgress(value=0.0, description='Training', layout=Layout(flex='2'), max=6667.0, style=Pro…"
      ]
     },
     "metadata": {},
     "output_type": "display_data"
    },
    {
     "name": "stdout",
     "output_type": "stream",
     "text": [
      "Epoch 7: train=0.862058, val=0.601227, took 600.27 s\n"
     ]
    },
    {
     "data": {
      "application/vnd.jupyter.widget-view+json": {
       "model_id": "",
       "version_major": 2,
       "version_minor": 0
      },
      "text/plain": [
       "HBox(children=(FloatProgress(value=0.0, description='Training', layout=Layout(flex='2'), max=6667.0, style=Pro…"
      ]
     },
     "metadata": {},
     "output_type": "display_data"
    },
    {
     "name": "stdout",
     "output_type": "stream",
     "text": [
      "Epoch 8: train=0.862939, val=0.600687, took 601.12 s\n"
     ]
    },
    {
     "data": {
      "application/vnd.jupyter.widget-view+json": {
       "model_id": "",
       "version_major": 2,
       "version_minor": 0
      },
      "text/plain": [
       "HBox(children=(FloatProgress(value=0.0, description='Training', layout=Layout(flex='2'), max=6667.0, style=Pro…"
      ]
     },
     "metadata": {},
     "output_type": "display_data"
    },
    {
     "name": "stdout",
     "output_type": "stream",
     "text": [
      "Epoch 9: train=0.862638, val=0.610573, took 600.02 s\n"
     ]
    },
    {
     "data": {
      "application/vnd.jupyter.widget-view+json": {
       "model_id": "",
       "version_major": 2,
       "version_minor": 0
      },
      "text/plain": [
       "HBox(children=(FloatProgress(value=0.0, description='Training', layout=Layout(flex='2'), max=6667.0, style=Pro…"
      ]
     },
     "metadata": {},
     "output_type": "display_data"
    },
    {
     "name": "stdout",
     "output_type": "stream",
     "text": [
      "Epoch 10: train=0.862178, val=0.654352, took 600.36 s\n"
     ]
    },
    {
     "data": {
      "application/vnd.jupyter.widget-view+json": {
       "model_id": "",
       "version_major": 2,
       "version_minor": 0
      },
      "text/plain": [
       "HBox(children=(FloatProgress(value=0.0, description='Training', layout=Layout(flex='2'), max=6667.0, style=Pro…"
      ]
     },
     "metadata": {},
     "output_type": "display_data"
    },
    {
     "name": "stdout",
     "output_type": "stream",
     "text": [
      "Epoch 11: train=0.861362, val=0.601158, took 602.12 s\n"
     ]
    },
    {
     "data": {
      "application/vnd.jupyter.widget-view+json": {
       "model_id": "",
       "version_major": 2,
       "version_minor": 0
      },
      "text/plain": [
       "HBox(children=(FloatProgress(value=0.0, description='Training', layout=Layout(flex='2'), max=6667.0, style=Pro…"
      ]
     },
     "metadata": {},
     "output_type": "display_data"
    },
    {
     "name": "stdout",
     "output_type": "stream",
     "text": [
      "Epoch 12: train=0.862166, val=0.603611, took 599.36 s\n"
     ]
    },
    {
     "data": {
      "application/vnd.jupyter.widget-view+json": {
       "model_id": "",
       "version_major": 2,
       "version_minor": 0
      },
      "text/plain": [
       "HBox(children=(FloatProgress(value=0.0, description='Training', layout=Layout(flex='2'), max=6667.0, style=Pro…"
      ]
     },
     "metadata": {},
     "output_type": "display_data"
    },
    {
     "name": "stdout",
     "output_type": "stream",
     "text": [
      "Epoch 13: train=0.860205, val=0.597498, took 599.57 s\n"
     ]
    },
    {
     "data": {
      "application/vnd.jupyter.widget-view+json": {
       "model_id": "",
       "version_major": 2,
       "version_minor": 0
      },
      "text/plain": [
       "HBox(children=(FloatProgress(value=0.0, description='Training', layout=Layout(flex='2'), max=6667.0, style=Pro…"
      ]
     },
     "metadata": {},
     "output_type": "display_data"
    },
    {
     "name": "stdout",
     "output_type": "stream",
     "text": [
      "Epoch 14: train=0.857539, val=0.602511, took 599.51 s\n"
     ]
    },
    {
     "data": {
      "application/vnd.jupyter.widget-view+json": {
       "model_id": "",
       "version_major": 2,
       "version_minor": 0
      },
      "text/plain": [
       "HBox(children=(FloatProgress(value=0.0, description='Training', layout=Layout(flex='2'), max=6667.0, style=Pro…"
      ]
     },
     "metadata": {},
     "output_type": "display_data"
    },
    {
     "name": "stdout",
     "output_type": "stream",
     "text": [
      "Epoch 15: train=0.85796, val=0.603361, took 600.51 s\n"
     ]
    },
    {
     "data": {
      "application/vnd.jupyter.widget-view+json": {
       "model_id": "",
       "version_major": 2,
       "version_minor": 0
      },
      "text/plain": [
       "HBox(children=(FloatProgress(value=0.0, description='Training', layout=Layout(flex='2'), max=6667.0, style=Pro…"
      ]
     },
     "metadata": {},
     "output_type": "display_data"
    },
    {
     "name": "stdout",
     "output_type": "stream",
     "text": [
      "Epoch 16: train=0.858054, val=0.60402, took 599.18 s\n"
     ]
    },
    {
     "data": {
      "application/vnd.jupyter.widget-view+json": {
       "model_id": "",
       "version_major": 2,
       "version_minor": 0
      },
      "text/plain": [
       "HBox(children=(FloatProgress(value=0.0, description='Training', layout=Layout(flex='2'), max=6667.0, style=Pro…"
      ]
     },
     "metadata": {},
     "output_type": "display_data"
    },
    {
     "name": "stdout",
     "output_type": "stream",
     "text": [
      "Epoch 17: train=0.856298, val=0.60025, took 598.87 s\n"
     ]
    },
    {
     "data": {
      "application/vnd.jupyter.widget-view+json": {
       "model_id": "",
       "version_major": 2,
       "version_minor": 0
      },
      "text/plain": [
       "HBox(children=(FloatProgress(value=0.0, description='Training', layout=Layout(flex='2'), max=6667.0, style=Pro…"
      ]
     },
     "metadata": {},
     "output_type": "display_data"
    },
    {
     "name": "stdout",
     "output_type": "stream",
     "text": [
      "Epoch 18: train=0.854779, val=0.615794, took 599.2 s\n"
     ]
    },
    {
     "data": {
      "application/vnd.jupyter.widget-view+json": {
       "model_id": "",
       "version_major": 2,
       "version_minor": 0
      },
      "text/plain": [
       "HBox(children=(FloatProgress(value=0.0, description='Training', layout=Layout(flex='2'), max=6667.0, style=Pro…"
      ]
     },
     "metadata": {},
     "output_type": "display_data"
    },
    {
     "name": "stdout",
     "output_type": "stream",
     "text": [
      "Epoch 19: train=0.855172, val=0.637882, took 600.0 s\n"
     ]
    },
    {
     "data": {
      "application/vnd.jupyter.widget-view+json": {
       "model_id": "",
       "version_major": 2,
       "version_minor": 0
      },
      "text/plain": [
       "HBox(children=(FloatProgress(value=0.0, description='Training', layout=Layout(flex='2'), max=6667.0, style=Pro…"
      ]
     },
     "metadata": {},
     "output_type": "display_data"
    },
    {
     "name": "stdout",
     "output_type": "stream",
     "text": [
      "Epoch 20: train=0.855622, val=0.638872, took 599.23 s\n"
     ]
    },
    {
     "data": {
      "application/vnd.jupyter.widget-view+json": {
       "model_id": "",
       "version_major": 2,
       "version_minor": 0
      },
      "text/plain": [
       "HBox(children=(FloatProgress(value=0.0, description='Training', layout=Layout(flex='2'), max=6667.0, style=Pro…"
      ]
     },
     "metadata": {},
     "output_type": "display_data"
    },
    {
     "name": "stdout",
     "output_type": "stream",
     "text": [
      "Epoch 21: train=0.854215, val=0.597191, took 599.62 s\n"
     ]
    },
    {
     "data": {
      "application/vnd.jupyter.widget-view+json": {
       "model_id": "",
       "version_major": 2,
       "version_minor": 0
      },
      "text/plain": [
       "HBox(children=(FloatProgress(value=0.0, description='Training', layout=Layout(flex='2'), max=6667.0, style=Pro…"
      ]
     },
     "metadata": {},
     "output_type": "display_data"
    },
    {
     "name": "stdout",
     "output_type": "stream",
     "text": [
      "Epoch 22: train=0.853281, val=0.594302, took 599.92 s\n"
     ]
    },
    {
     "data": {
      "application/vnd.jupyter.widget-view+json": {
       "model_id": "",
       "version_major": 2,
       "version_minor": 0
      },
      "text/plain": [
       "HBox(children=(FloatProgress(value=0.0, description='Training', layout=Layout(flex='2'), max=6667.0, style=Pro…"
      ]
     },
     "metadata": {},
     "output_type": "display_data"
    },
    {
     "name": "stdout",
     "output_type": "stream",
     "text": [
      "Epoch 23: train=0.853093, val=0.601297, took 600.46 s\n"
     ]
    },
    {
     "data": {
      "application/vnd.jupyter.widget-view+json": {
       "model_id": "",
       "version_major": 2,
       "version_minor": 0
      },
      "text/plain": [
       "HBox(children=(FloatProgress(value=0.0, description='Training', layout=Layout(flex='2'), max=6667.0, style=Pro…"
      ]
     },
     "metadata": {},
     "output_type": "display_data"
    },
    {
     "name": "stdout",
     "output_type": "stream",
     "text": [
      "Epoch 24: train=0.84998, val=0.592682, took 599.06 s\n"
     ]
    },
    {
     "data": {
      "application/vnd.jupyter.widget-view+json": {
       "model_id": "",
       "version_major": 2,
       "version_minor": 0
      },
      "text/plain": [
       "HBox(children=(FloatProgress(value=0.0, description='Training', layout=Layout(flex='2'), max=6667.0, style=Pro…"
      ]
     },
     "metadata": {},
     "output_type": "display_data"
    },
    {
     "name": "stdout",
     "output_type": "stream",
     "text": [
      "Epoch 25: train=0.851577, val=0.630173, took 599.43 s\n"
     ]
    },
    {
     "data": {
      "application/vnd.jupyter.widget-view+json": {
       "model_id": "",
       "version_major": 2,
       "version_minor": 0
      },
      "text/plain": [
       "HBox(children=(FloatProgress(value=0.0, description='Training', layout=Layout(flex='2'), max=6667.0, style=Pro…"
      ]
     },
     "metadata": {},
     "output_type": "display_data"
    },
    {
     "name": "stdout",
     "output_type": "stream",
     "text": [
      "Epoch 26: train=0.850476, val=0.614637, took 603.05 s\n"
     ]
    },
    {
     "data": {
      "application/vnd.jupyter.widget-view+json": {
       "model_id": "",
       "version_major": 2,
       "version_minor": 0
      },
      "text/plain": [
       "HBox(children=(FloatProgress(value=0.0, description='Training', layout=Layout(flex='2'), max=6667.0, style=Pro…"
      ]
     },
     "metadata": {},
     "output_type": "display_data"
    },
    {
     "name": "stdout",
     "output_type": "stream",
     "text": [
      "Epoch 27: train=0.852243, val=0.602844, took 601.81 s\n"
     ]
    },
    {
     "data": {
      "application/vnd.jupyter.widget-view+json": {
       "model_id": "",
       "version_major": 2,
       "version_minor": 0
      },
      "text/plain": [
       "HBox(children=(FloatProgress(value=0.0, description='Training', layout=Layout(flex='2'), max=6667.0, style=Pro…"
      ]
     },
     "metadata": {},
     "output_type": "display_data"
    },
    {
     "name": "stdout",
     "output_type": "stream",
     "text": [
      "Epoch 28: train=0.848506, val=0.599111, took 599.38 s\n"
     ]
    },
    {
     "data": {
      "application/vnd.jupyter.widget-view+json": {
       "model_id": "",
       "version_major": 2,
       "version_minor": 0
      },
      "text/plain": [
       "HBox(children=(FloatProgress(value=0.0, description='Training', layout=Layout(flex='2'), max=6667.0, style=Pro…"
      ]
     },
     "metadata": {},
     "output_type": "display_data"
    },
    {
     "name": "stdout",
     "output_type": "stream",
     "text": [
      "Epoch 29: train=0.847823, val=0.614833, took 598.81 s\n"
     ]
    },
    {
     "data": {
      "application/vnd.jupyter.widget-view+json": {
       "model_id": "",
       "version_major": 2,
       "version_minor": 0
      },
      "text/plain": [
       "HBox(children=(FloatProgress(value=0.0, description='Training', layout=Layout(flex='2'), max=6667.0, style=Pro…"
      ]
     },
     "metadata": {},
     "output_type": "display_data"
    },
    {
     "name": "stdout",
     "output_type": "stream",
     "text": [
      "Epoch 30: train=0.847828, val=0.587598, took 599.31 s\n"
     ]
    },
    {
     "data": {
      "application/vnd.jupyter.widget-view+json": {
       "model_id": "",
       "version_major": 2,
       "version_minor": 0
      },
      "text/plain": [
       "HBox(children=(FloatProgress(value=0.0, description='Training', layout=Layout(flex='2'), max=6667.0, style=Pro…"
      ]
     },
     "metadata": {},
     "output_type": "display_data"
    },
    {
     "name": "stdout",
     "output_type": "stream",
     "text": [
      "Epoch 31: train=0.846411, val=0.73273, took 598.22 s\n"
     ]
    },
    {
     "data": {
      "application/vnd.jupyter.widget-view+json": {
       "model_id": "",
       "version_major": 2,
       "version_minor": 0
      },
      "text/plain": [
       "HBox(children=(FloatProgress(value=0.0, description='Training', layout=Layout(flex='2'), max=6667.0, style=Pro…"
      ]
     },
     "metadata": {},
     "output_type": "display_data"
    },
    {
     "name": "stdout",
     "output_type": "stream",
     "text": [
      "Epoch 32: train=0.845765, val=0.588251, took 603.02 s\n"
     ]
    },
    {
     "data": {
      "application/vnd.jupyter.widget-view+json": {
       "model_id": "",
       "version_major": 2,
       "version_minor": 0
      },
      "text/plain": [
       "HBox(children=(FloatProgress(value=0.0, description='Training', layout=Layout(flex='2'), max=6667.0, style=Pro…"
      ]
     },
     "metadata": {},
     "output_type": "display_data"
    },
    {
     "name": "stdout",
     "output_type": "stream",
     "text": [
      "Epoch 33: train=0.844685, val=0.584858, took 598.7 s\n"
     ]
    },
    {
     "data": {
      "application/vnd.jupyter.widget-view+json": {
       "model_id": "",
       "version_major": 2,
       "version_minor": 0
      },
      "text/plain": [
       "HBox(children=(FloatProgress(value=0.0, description='Training', layout=Layout(flex='2'), max=6667.0, style=Pro…"
      ]
     },
     "metadata": {},
     "output_type": "display_data"
    },
    {
     "name": "stdout",
     "output_type": "stream",
     "text": [
      "Epoch 34: train=0.843768, val=0.584073, took 599.04 s\n"
     ]
    },
    {
     "data": {
      "application/vnd.jupyter.widget-view+json": {
       "model_id": "",
       "version_major": 2,
       "version_minor": 0
      },
      "text/plain": [
       "HBox(children=(FloatProgress(value=0.0, description='Training', layout=Layout(flex='2'), max=6667.0, style=Pro…"
      ]
     },
     "metadata": {},
     "output_type": "display_data"
    },
    {
     "name": "stdout",
     "output_type": "stream",
     "text": [
      "Epoch 35: train=0.843311, val=0.597108, took 599.67 s\n"
     ]
    },
    {
     "data": {
      "application/vnd.jupyter.widget-view+json": {
       "model_id": "",
       "version_major": 2,
       "version_minor": 0
      },
      "text/plain": [
       "HBox(children=(FloatProgress(value=0.0, description='Training', layout=Layout(flex='2'), max=6667.0, style=Pro…"
      ]
     },
     "metadata": {},
     "output_type": "display_data"
    },
    {
     "name": "stdout",
     "output_type": "stream",
     "text": [
      "Epoch 36: train=0.843287, val=0.597209, took 597.12 s\n"
     ]
    },
    {
     "data": {
      "application/vnd.jupyter.widget-view+json": {
       "model_id": "",
       "version_major": 2,
       "version_minor": 0
      },
      "text/plain": [
       "HBox(children=(FloatProgress(value=0.0, description='Training', layout=Layout(flex='2'), max=6667.0, style=Pro…"
      ]
     },
     "metadata": {},
     "output_type": "display_data"
    },
    {
     "name": "stdout",
     "output_type": "stream",
     "text": [
      "Epoch 37: train=0.843574, val=0.604449, took 598.61 s\n"
     ]
    },
    {
     "data": {
      "application/vnd.jupyter.widget-view+json": {
       "model_id": "",
       "version_major": 2,
       "version_minor": 0
      },
      "text/plain": [
       "HBox(children=(FloatProgress(value=0.0, description='Training', layout=Layout(flex='2'), max=6667.0, style=Pro…"
      ]
     },
     "metadata": {},
     "output_type": "display_data"
    },
    {
     "name": "stdout",
     "output_type": "stream",
     "text": [
      "Epoch 38: train=0.841834, val=0.593759, took 597.99 s\n"
     ]
    },
    {
     "data": {
      "application/vnd.jupyter.widget-view+json": {
       "model_id": "",
       "version_major": 2,
       "version_minor": 0
      },
      "text/plain": [
       "HBox(children=(FloatProgress(value=0.0, description='Training', layout=Layout(flex='2'), max=6667.0, style=Pro…"
      ]
     },
     "metadata": {},
     "output_type": "display_data"
    },
    {
     "name": "stdout",
     "output_type": "stream",
     "text": [
      "Epoch 39: train=0.842932, val=0.590917, took 599.77 s\n"
     ]
    },
    {
     "data": {
      "application/vnd.jupyter.widget-view+json": {
       "model_id": "",
       "version_major": 2,
       "version_minor": 0
      },
      "text/plain": [
       "HBox(children=(FloatProgress(value=0.0, description='Training', layout=Layout(flex='2'), max=6667.0, style=Pro…"
      ]
     },
     "metadata": {},
     "output_type": "display_data"
    },
    {
     "name": "stdout",
     "output_type": "stream",
     "text": [
      "Epoch 40: train=0.840131, val=0.597052, took 597.41 s\n"
     ]
    },
    {
     "data": {
      "application/vnd.jupyter.widget-view+json": {
       "model_id": "",
       "version_major": 2,
       "version_minor": 0
      },
      "text/plain": [
       "HBox(children=(FloatProgress(value=0.0, description='Training', layout=Layout(flex='2'), max=6667.0, style=Pro…"
      ]
     },
     "metadata": {},
     "output_type": "display_data"
    },
    {
     "name": "stdout",
     "output_type": "stream",
     "text": [
      "Epoch 41: train=0.838872, val=0.586465, took 597.91 s\n"
     ]
    },
    {
     "data": {
      "application/vnd.jupyter.widget-view+json": {
       "model_id": "",
       "version_major": 2,
       "version_minor": 0
      },
      "text/plain": [
       "HBox(children=(FloatProgress(value=0.0, description='Training', layout=Layout(flex='2'), max=6667.0, style=Pro…"
      ]
     },
     "metadata": {},
     "output_type": "display_data"
    },
    {
     "name": "stdout",
     "output_type": "stream",
     "text": [
      "Epoch 42: train=0.837579, val=0.584717, took 598.73 s\n"
     ]
    },
    {
     "data": {
      "application/vnd.jupyter.widget-view+json": {
       "model_id": "",
       "version_major": 2,
       "version_minor": 0
      },
      "text/plain": [
       "HBox(children=(FloatProgress(value=0.0, description='Training', layout=Layout(flex='2'), max=6667.0, style=Pro…"
      ]
     },
     "metadata": {},
     "output_type": "display_data"
    },
    {
     "name": "stdout",
     "output_type": "stream",
     "text": [
      "Epoch 43: train=0.839592, val=0.576442, took 597.3 s\n"
     ]
    },
    {
     "data": {
      "application/vnd.jupyter.widget-view+json": {
       "model_id": "",
       "version_major": 2,
       "version_minor": 0
      },
      "text/plain": [
       "HBox(children=(FloatProgress(value=0.0, description='Training', layout=Layout(flex='2'), max=6667.0, style=Pro…"
      ]
     },
     "metadata": {},
     "output_type": "display_data"
    },
    {
     "name": "stdout",
     "output_type": "stream",
     "text": [
      "Epoch 44: train=0.836968, val=0.68182, took 598.32 s\n"
     ]
    },
    {
     "data": {
      "application/vnd.jupyter.widget-view+json": {
       "model_id": "",
       "version_major": 2,
       "version_minor": 0
      },
      "text/plain": [
       "HBox(children=(FloatProgress(value=0.0, description='Training', layout=Layout(flex='2'), max=6667.0, style=Pro…"
      ]
     },
     "metadata": {},
     "output_type": "display_data"
    },
    {
     "name": "stdout",
     "output_type": "stream",
     "text": [
      "Epoch 45: train=0.838407, val=0.587841, took 598.48 s\n"
     ]
    },
    {
     "data": {
      "application/vnd.jupyter.widget-view+json": {
       "model_id": "",
       "version_major": 2,
       "version_minor": 0
      },
      "text/plain": [
       "HBox(children=(FloatProgress(value=0.0, description='Training', layout=Layout(flex='2'), max=6667.0, style=Pro…"
      ]
     },
     "metadata": {},
     "output_type": "display_data"
    },
    {
     "name": "stdout",
     "output_type": "stream",
     "text": [
      "Epoch 46: train=0.835142, val=0.580486, took 598.78 s\n"
     ]
    },
    {
     "data": {
      "application/vnd.jupyter.widget-view+json": {
       "model_id": "",
       "version_major": 2,
       "version_minor": 0
      },
      "text/plain": [
       "HBox(children=(FloatProgress(value=0.0, description='Training', layout=Layout(flex='2'), max=6667.0, style=Pro…"
      ]
     },
     "metadata": {},
     "output_type": "display_data"
    },
    {
     "name": "stdout",
     "output_type": "stream",
     "text": [
      "Epoch 47: train=0.837298, val=0.575209, took 597.75 s\n"
     ]
    },
    {
     "data": {
      "application/vnd.jupyter.widget-view+json": {
       "model_id": "",
       "version_major": 2,
       "version_minor": 0
      },
      "text/plain": [
       "HBox(children=(FloatProgress(value=0.0, description='Training', layout=Layout(flex='2'), max=6667.0, style=Pro…"
      ]
     },
     "metadata": {},
     "output_type": "display_data"
    },
    {
     "name": "stdout",
     "output_type": "stream",
     "text": [
      "Epoch 48: train=0.834456, val=0.587963, took 597.91 s\n"
     ]
    },
    {
     "data": {
      "application/vnd.jupyter.widget-view+json": {
       "model_id": "",
       "version_major": 2,
       "version_minor": 0
      },
      "text/plain": [
       "HBox(children=(FloatProgress(value=0.0, description='Training', layout=Layout(flex='2'), max=6667.0, style=Pro…"
      ]
     },
     "metadata": {},
     "output_type": "display_data"
    },
    {
     "name": "stdout",
     "output_type": "stream",
     "text": [
      "Epoch 49: train=0.834975, val=0.580955, took 598.64 s\n"
     ]
    },
    {
     "data": {
      "application/vnd.jupyter.widget-view+json": {
       "model_id": "",
       "version_major": 2,
       "version_minor": 0
      },
      "text/plain": [
       "HBox(children=(FloatProgress(value=0.0, description='Training', layout=Layout(flex='2'), max=6667.0, style=Pro…"
      ]
     },
     "metadata": {},
     "output_type": "display_data"
    },
    {
     "name": "stdout",
     "output_type": "stream",
     "text": [
      "Epoch 50: train=0.833057, val=0.58045, took 598.4 s\n"
     ]
    },
    {
     "data": {
      "application/vnd.jupyter.widget-view+json": {
       "model_id": "",
       "version_major": 2,
       "version_minor": 0
      },
      "text/plain": [
       "HBox(children=(FloatProgress(value=0.0, description='Training', layout=Layout(flex='2'), max=6667.0, style=Pro…"
      ]
     },
     "metadata": {},
     "output_type": "display_data"
    },
    {
     "name": "stdout",
     "output_type": "stream",
     "text": [
      "Epoch 51: train=0.83387, val=0.587461, took 598.51 s\n"
     ]
    },
    {
     "data": {
      "application/vnd.jupyter.widget-view+json": {
       "model_id": "",
       "version_major": 2,
       "version_minor": 0
      },
      "text/plain": [
       "HBox(children=(FloatProgress(value=0.0, description='Training', layout=Layout(flex='2'), max=6667.0, style=Pro…"
      ]
     },
     "metadata": {},
     "output_type": "display_data"
    },
    {
     "name": "stdout",
     "output_type": "stream",
     "text": [
      "Epoch 52: train=0.833901, val=0.606567, took 597.88 s\n"
     ]
    },
    {
     "data": {
      "application/vnd.jupyter.widget-view+json": {
       "model_id": "",
       "version_major": 2,
       "version_minor": 0
      },
      "text/plain": [
       "HBox(children=(FloatProgress(value=0.0, description='Training', layout=Layout(flex='2'), max=6667.0, style=Pro…"
      ]
     },
     "metadata": {},
     "output_type": "display_data"
    },
    {
     "name": "stdout",
     "output_type": "stream",
     "text": [
      "Epoch 53: train=0.831942, val=0.578808, took 598.29 s\n"
     ]
    },
    {
     "data": {
      "application/vnd.jupyter.widget-view+json": {
       "model_id": "",
       "version_major": 2,
       "version_minor": 0
      },
      "text/plain": [
       "HBox(children=(FloatProgress(value=0.0, description='Training', layout=Layout(flex='2'), max=6667.0, style=Pro…"
      ]
     },
     "metadata": {},
     "output_type": "display_data"
    },
    {
     "name": "stdout",
     "output_type": "stream",
     "text": [
      "Epoch 54: train=0.830311, val=0.603402, took 597.92 s\n"
     ]
    },
    {
     "data": {
      "application/vnd.jupyter.widget-view+json": {
       "model_id": "",
       "version_major": 2,
       "version_minor": 0
      },
      "text/plain": [
       "HBox(children=(FloatProgress(value=0.0, description='Training', layout=Layout(flex='2'), max=6667.0, style=Pro…"
      ]
     },
     "metadata": {},
     "output_type": "display_data"
    },
    {
     "name": "stdout",
     "output_type": "stream",
     "text": [
      "Epoch 55: train=0.830277, val=0.576988, took 597.49 s\n"
     ]
    },
    {
     "data": {
      "application/vnd.jupyter.widget-view+json": {
       "model_id": "",
       "version_major": 2,
       "version_minor": 0
      },
      "text/plain": [
       "HBox(children=(FloatProgress(value=0.0, description='Training', layout=Layout(flex='2'), max=6667.0, style=Pro…"
      ]
     },
     "metadata": {},
     "output_type": "display_data"
    },
    {
     "name": "stdout",
     "output_type": "stream",
     "text": [
      "Epoch 56: train=0.82995, val=0.597516, took 598.19 s\n"
     ]
    },
    {
     "data": {
      "application/vnd.jupyter.widget-view+json": {
       "model_id": "",
       "version_major": 2,
       "version_minor": 0
      },
      "text/plain": [
       "HBox(children=(FloatProgress(value=0.0, description='Training', layout=Layout(flex='2'), max=6667.0, style=Pro…"
      ]
     },
     "metadata": {},
     "output_type": "display_data"
    },
    {
     "name": "stdout",
     "output_type": "stream",
     "text": [
      "Epoch 57: train=0.831358, val=0.575895, took 597.42 s\n"
     ]
    },
    {
     "data": {
      "application/vnd.jupyter.widget-view+json": {
       "model_id": "",
       "version_major": 2,
       "version_minor": 0
      },
      "text/plain": [
       "HBox(children=(FloatProgress(value=0.0, description='Training', layout=Layout(flex='2'), max=6667.0, style=Pro…"
      ]
     },
     "metadata": {},
     "output_type": "display_data"
    },
    {
     "name": "stdout",
     "output_type": "stream",
     "text": [
      "Epoch 58: train=0.827897, val=0.57858, took 597.33 s\n"
     ]
    },
    {
     "data": {
      "application/vnd.jupyter.widget-view+json": {
       "model_id": "",
       "version_major": 2,
       "version_minor": 0
      },
      "text/plain": [
       "HBox(children=(FloatProgress(value=0.0, description='Training', layout=Layout(flex='2'), max=6667.0, style=Pro…"
      ]
     },
     "metadata": {},
     "output_type": "display_data"
    },
    {
     "name": "stdout",
     "output_type": "stream",
     "text": [
      "Epoch 59: train=0.829201, val=0.59511, took 598.72 s\n",
      "\n"
     ]
    }
   ],
   "source": [
    "for result in trainNet(model, optimizer, loss,\n",
    "                        train_loader, val_loader,\n",
    "                        n_epochs, epoch_start=len(results),\n",
    "                        notebook=True):\n",
    "    \n",
    "    results = results.append(pd.Series(result._asdict()), ignore_index=True)\n",
    "    xs = results.index\n",
    "    \n",
    "    # Update the plot above\n",
    "    lines['train'].set_data(results.index,results.cost)\n",
    "    lines['val'].set_data(results.index,results.val)\n",
    "    \n",
    "    #filter first cost epoch (can be really large)\n",
    "    max_cost = max(max(results.cost if len(results.cost)<2 else results.cost[1:]), max(results.val))\n",
    "    min_cost = min(min(results.cost), min(results.val))\n",
    "    \n",
    "    # The plot limits need updating too\n",
    "    \n",
    "    \n",
    "    \n",
    "    ax.set_ylim(min_cost*.9, max_cost*1.1)  \n",
    "    ax.set_xlim(-.5, len(results.cost) - .5)\n",
    "\n",
    "    \n",
    "    # Redraw the figure\n",
    "    fig.canvas.draw()\n",
    "\n",
    "    # Save each model state dictionary\n",
    "    torch.save(model.state_dict(), output / f'{name}_{result.epoch}.pyt')"
   ]
  },
  {
   "cell_type": "markdown",
   "metadata": {},
   "source": [
    "Go ahead and save the final model (even though it was also saved above):"
   ]
  },
  {
   "cell_type": "code",
   "execution_count": 18,
   "metadata": {},
   "outputs": [],
   "source": [
    "torch.save(model.state_dict(), output / f'{name}_final.pyt')"
   ]
  },
  {
   "cell_type": "markdown",
   "metadata": {},
   "source": [
    "Save the output results:"
   ]
  },
  {
   "cell_type": "code",
   "execution_count": 19,
   "metadata": {},
   "outputs": [],
   "source": [
    "results.to_hdf(f'{name}_stats.hdf5', 'results')"
   ]
  },
  {
   "cell_type": "markdown",
   "metadata": {},
   "source": [
    "Save the plot above:"
   ]
  },
  {
   "cell_type": "code",
   "execution_count": 20,
   "metadata": {},
   "outputs": [
    {
     "data": {
      "application/javascript": [
       "/* Put everything inside the global mpl namespace */\n",
       "window.mpl = {};\n",
       "\n",
       "\n",
       "mpl.get_websocket_type = function() {\n",
       "    if (typeof(WebSocket) !== 'undefined') {\n",
       "        return WebSocket;\n",
       "    } else if (typeof(MozWebSocket) !== 'undefined') {\n",
       "        return MozWebSocket;\n",
       "    } else {\n",
       "        alert('Your browser does not have WebSocket support. ' +\n",
       "              'Please try Chrome, Safari or Firefox ≥ 6. ' +\n",
       "              'Firefox 4 and 5 are also supported but you ' +\n",
       "              'have to enable WebSockets in about:config.');\n",
       "    };\n",
       "}\n",
       "\n",
       "mpl.figure = function(figure_id, websocket, ondownload, parent_element) {\n",
       "    this.id = figure_id;\n",
       "\n",
       "    this.ws = websocket;\n",
       "\n",
       "    this.supports_binary = (this.ws.binaryType != undefined);\n",
       "\n",
       "    if (!this.supports_binary) {\n",
       "        var warnings = document.getElementById(\"mpl-warnings\");\n",
       "        if (warnings) {\n",
       "            warnings.style.display = 'block';\n",
       "            warnings.textContent = (\n",
       "                \"This browser does not support binary websocket messages. \" +\n",
       "                    \"Performance may be slow.\");\n",
       "        }\n",
       "    }\n",
       "\n",
       "    this.imageObj = new Image();\n",
       "\n",
       "    this.context = undefined;\n",
       "    this.message = undefined;\n",
       "    this.canvas = undefined;\n",
       "    this.rubberband_canvas = undefined;\n",
       "    this.rubberband_context = undefined;\n",
       "    this.format_dropdown = undefined;\n",
       "\n",
       "    this.image_mode = 'full';\n",
       "\n",
       "    this.root = $('<div/>');\n",
       "    this._root_extra_style(this.root)\n",
       "    this.root.attr('style', 'display: inline-block');\n",
       "\n",
       "    $(parent_element).append(this.root);\n",
       "\n",
       "    this._init_header(this);\n",
       "    this._init_canvas(this);\n",
       "    this._init_toolbar(this);\n",
       "\n",
       "    var fig = this;\n",
       "\n",
       "    this.waiting = false;\n",
       "\n",
       "    this.ws.onopen =  function () {\n",
       "            fig.send_message(\"supports_binary\", {value: fig.supports_binary});\n",
       "            fig.send_message(\"send_image_mode\", {});\n",
       "            if (mpl.ratio != 1) {\n",
       "                fig.send_message(\"set_dpi_ratio\", {'dpi_ratio': mpl.ratio});\n",
       "            }\n",
       "            fig.send_message(\"refresh\", {});\n",
       "        }\n",
       "\n",
       "    this.imageObj.onload = function() {\n",
       "            if (fig.image_mode == 'full') {\n",
       "                // Full images could contain transparency (where diff images\n",
       "                // almost always do), so we need to clear the canvas so that\n",
       "                // there is no ghosting.\n",
       "                fig.context.clearRect(0, 0, fig.canvas.width, fig.canvas.height);\n",
       "            }\n",
       "            fig.context.drawImage(fig.imageObj, 0, 0);\n",
       "        };\n",
       "\n",
       "    this.imageObj.onunload = function() {\n",
       "        fig.ws.close();\n",
       "    }\n",
       "\n",
       "    this.ws.onmessage = this._make_on_message_function(this);\n",
       "\n",
       "    this.ondownload = ondownload;\n",
       "}\n",
       "\n",
       "mpl.figure.prototype._init_header = function() {\n",
       "    var titlebar = $(\n",
       "        '<div class=\"ui-dialog-titlebar ui-widget-header ui-corner-all ' +\n",
       "        'ui-helper-clearfix\"/>');\n",
       "    var titletext = $(\n",
       "        '<div class=\"ui-dialog-title\" style=\"width: 100%; ' +\n",
       "        'text-align: center; padding: 3px;\"/>');\n",
       "    titlebar.append(titletext)\n",
       "    this.root.append(titlebar);\n",
       "    this.header = titletext[0];\n",
       "}\n",
       "\n",
       "\n",
       "\n",
       "mpl.figure.prototype._canvas_extra_style = function(canvas_div) {\n",
       "\n",
       "}\n",
       "\n",
       "\n",
       "mpl.figure.prototype._root_extra_style = function(canvas_div) {\n",
       "\n",
       "}\n",
       "\n",
       "mpl.figure.prototype._init_canvas = function() {\n",
       "    var fig = this;\n",
       "\n",
       "    var canvas_div = $('<div/>');\n",
       "\n",
       "    canvas_div.attr('style', 'position: relative; clear: both; outline: 0');\n",
       "\n",
       "    function canvas_keyboard_event(event) {\n",
       "        return fig.key_event(event, event['data']);\n",
       "    }\n",
       "\n",
       "    canvas_div.keydown('key_press', canvas_keyboard_event);\n",
       "    canvas_div.keyup('key_release', canvas_keyboard_event);\n",
       "    this.canvas_div = canvas_div\n",
       "    this._canvas_extra_style(canvas_div)\n",
       "    this.root.append(canvas_div);\n",
       "\n",
       "    var canvas = $('<canvas/>');\n",
       "    canvas.addClass('mpl-canvas');\n",
       "    canvas.attr('style', \"left: 0; top: 0; z-index: 0; outline: 0\")\n",
       "\n",
       "    this.canvas = canvas[0];\n",
       "    this.context = canvas[0].getContext(\"2d\");\n",
       "\n",
       "    var backingStore = this.context.backingStorePixelRatio ||\n",
       "\tthis.context.webkitBackingStorePixelRatio ||\n",
       "\tthis.context.mozBackingStorePixelRatio ||\n",
       "\tthis.context.msBackingStorePixelRatio ||\n",
       "\tthis.context.oBackingStorePixelRatio ||\n",
       "\tthis.context.backingStorePixelRatio || 1;\n",
       "\n",
       "    mpl.ratio = (window.devicePixelRatio || 1) / backingStore;\n",
       "\n",
       "    var rubberband = $('<canvas/>');\n",
       "    rubberband.attr('style', \"position: absolute; left: 0; top: 0; z-index: 1;\")\n",
       "\n",
       "    var pass_mouse_events = true;\n",
       "\n",
       "    canvas_div.resizable({\n",
       "        start: function(event, ui) {\n",
       "            pass_mouse_events = false;\n",
       "        },\n",
       "        resize: function(event, ui) {\n",
       "            fig.request_resize(ui.size.width, ui.size.height);\n",
       "        },\n",
       "        stop: function(event, ui) {\n",
       "            pass_mouse_events = true;\n",
       "            fig.request_resize(ui.size.width, ui.size.height);\n",
       "        },\n",
       "    });\n",
       "\n",
       "    function mouse_event_fn(event) {\n",
       "        if (pass_mouse_events)\n",
       "            return fig.mouse_event(event, event['data']);\n",
       "    }\n",
       "\n",
       "    rubberband.mousedown('button_press', mouse_event_fn);\n",
       "    rubberband.mouseup('button_release', mouse_event_fn);\n",
       "    // Throttle sequential mouse events to 1 every 20ms.\n",
       "    rubberband.mousemove('motion_notify', mouse_event_fn);\n",
       "\n",
       "    rubberband.mouseenter('figure_enter', mouse_event_fn);\n",
       "    rubberband.mouseleave('figure_leave', mouse_event_fn);\n",
       "\n",
       "    canvas_div.on(\"wheel\", function (event) {\n",
       "        event = event.originalEvent;\n",
       "        event['data'] = 'scroll'\n",
       "        if (event.deltaY < 0) {\n",
       "            event.step = 1;\n",
       "        } else {\n",
       "            event.step = -1;\n",
       "        }\n",
       "        mouse_event_fn(event);\n",
       "    });\n",
       "\n",
       "    canvas_div.append(canvas);\n",
       "    canvas_div.append(rubberband);\n",
       "\n",
       "    this.rubberband = rubberband;\n",
       "    this.rubberband_canvas = rubberband[0];\n",
       "    this.rubberband_context = rubberband[0].getContext(\"2d\");\n",
       "    this.rubberband_context.strokeStyle = \"#000000\";\n",
       "\n",
       "    this._resize_canvas = function(width, height) {\n",
       "        // Keep the size of the canvas, canvas container, and rubber band\n",
       "        // canvas in synch.\n",
       "        canvas_div.css('width', width)\n",
       "        canvas_div.css('height', height)\n",
       "\n",
       "        canvas.attr('width', width * mpl.ratio);\n",
       "        canvas.attr('height', height * mpl.ratio);\n",
       "        canvas.attr('style', 'width: ' + width + 'px; height: ' + height + 'px;');\n",
       "\n",
       "        rubberband.attr('width', width);\n",
       "        rubberband.attr('height', height);\n",
       "    }\n",
       "\n",
       "    // Set the figure to an initial 600x600px, this will subsequently be updated\n",
       "    // upon first draw.\n",
       "    this._resize_canvas(600, 600);\n",
       "\n",
       "    // Disable right mouse context menu.\n",
       "    $(this.rubberband_canvas).bind(\"contextmenu\",function(e){\n",
       "        return false;\n",
       "    });\n",
       "\n",
       "    function set_focus () {\n",
       "        canvas.focus();\n",
       "        canvas_div.focus();\n",
       "    }\n",
       "\n",
       "    window.setTimeout(set_focus, 100);\n",
       "}\n",
       "\n",
       "mpl.figure.prototype._init_toolbar = function() {\n",
       "    var fig = this;\n",
       "\n",
       "    var nav_element = $('<div/>');\n",
       "    nav_element.attr('style', 'width: 100%');\n",
       "    this.root.append(nav_element);\n",
       "\n",
       "    // Define a callback function for later on.\n",
       "    function toolbar_event(event) {\n",
       "        return fig.toolbar_button_onclick(event['data']);\n",
       "    }\n",
       "    function toolbar_mouse_event(event) {\n",
       "        return fig.toolbar_button_onmouseover(event['data']);\n",
       "    }\n",
       "\n",
       "    for(var toolbar_ind in mpl.toolbar_items) {\n",
       "        var name = mpl.toolbar_items[toolbar_ind][0];\n",
       "        var tooltip = mpl.toolbar_items[toolbar_ind][1];\n",
       "        var image = mpl.toolbar_items[toolbar_ind][2];\n",
       "        var method_name = mpl.toolbar_items[toolbar_ind][3];\n",
       "\n",
       "        if (!name) {\n",
       "            // put a spacer in here.\n",
       "            continue;\n",
       "        }\n",
       "        var button = $('<button/>');\n",
       "        button.addClass('ui-button ui-widget ui-state-default ui-corner-all ' +\n",
       "                        'ui-button-icon-only');\n",
       "        button.attr('role', 'button');\n",
       "        button.attr('aria-disabled', 'false');\n",
       "        button.click(method_name, toolbar_event);\n",
       "        button.mouseover(tooltip, toolbar_mouse_event);\n",
       "\n",
       "        var icon_img = $('<span/>');\n",
       "        icon_img.addClass('ui-button-icon-primary ui-icon');\n",
       "        icon_img.addClass(image);\n",
       "        icon_img.addClass('ui-corner-all');\n",
       "\n",
       "        var tooltip_span = $('<span/>');\n",
       "        tooltip_span.addClass('ui-button-text');\n",
       "        tooltip_span.html(tooltip);\n",
       "\n",
       "        button.append(icon_img);\n",
       "        button.append(tooltip_span);\n",
       "\n",
       "        nav_element.append(button);\n",
       "    }\n",
       "\n",
       "    var fmt_picker_span = $('<span/>');\n",
       "\n",
       "    var fmt_picker = $('<select/>');\n",
       "    fmt_picker.addClass('mpl-toolbar-option ui-widget ui-widget-content');\n",
       "    fmt_picker_span.append(fmt_picker);\n",
       "    nav_element.append(fmt_picker_span);\n",
       "    this.format_dropdown = fmt_picker[0];\n",
       "\n",
       "    for (var ind in mpl.extensions) {\n",
       "        var fmt = mpl.extensions[ind];\n",
       "        var option = $(\n",
       "            '<option/>', {selected: fmt === mpl.default_extension}).html(fmt);\n",
       "        fmt_picker.append(option);\n",
       "    }\n",
       "\n",
       "    // Add hover states to the ui-buttons\n",
       "    $( \".ui-button\" ).hover(\n",
       "        function() { $(this).addClass(\"ui-state-hover\");},\n",
       "        function() { $(this).removeClass(\"ui-state-hover\");}\n",
       "    );\n",
       "\n",
       "    var status_bar = $('<span class=\"mpl-message\"/>');\n",
       "    nav_element.append(status_bar);\n",
       "    this.message = status_bar[0];\n",
       "}\n",
       "\n",
       "mpl.figure.prototype.request_resize = function(x_pixels, y_pixels) {\n",
       "    // Request matplotlib to resize the figure. Matplotlib will then trigger a resize in the client,\n",
       "    // which will in turn request a refresh of the image.\n",
       "    this.send_message('resize', {'width': x_pixels, 'height': y_pixels});\n",
       "}\n",
       "\n",
       "mpl.figure.prototype.send_message = function(type, properties) {\n",
       "    properties['type'] = type;\n",
       "    properties['figure_id'] = this.id;\n",
       "    this.ws.send(JSON.stringify(properties));\n",
       "}\n",
       "\n",
       "mpl.figure.prototype.send_draw_message = function() {\n",
       "    if (!this.waiting) {\n",
       "        this.waiting = true;\n",
       "        this.ws.send(JSON.stringify({type: \"draw\", figure_id: this.id}));\n",
       "    }\n",
       "}\n",
       "\n",
       "\n",
       "mpl.figure.prototype.handle_save = function(fig, msg) {\n",
       "    var format_dropdown = fig.format_dropdown;\n",
       "    var format = format_dropdown.options[format_dropdown.selectedIndex].value;\n",
       "    fig.ondownload(fig, format);\n",
       "}\n",
       "\n",
       "\n",
       "mpl.figure.prototype.handle_resize = function(fig, msg) {\n",
       "    var size = msg['size'];\n",
       "    if (size[0] != fig.canvas.width || size[1] != fig.canvas.height) {\n",
       "        fig._resize_canvas(size[0], size[1]);\n",
       "        fig.send_message(\"refresh\", {});\n",
       "    };\n",
       "}\n",
       "\n",
       "mpl.figure.prototype.handle_rubberband = function(fig, msg) {\n",
       "    var x0 = msg['x0'] / mpl.ratio;\n",
       "    var y0 = (fig.canvas.height - msg['y0']) / mpl.ratio;\n",
       "    var x1 = msg['x1'] / mpl.ratio;\n",
       "    var y1 = (fig.canvas.height - msg['y1']) / mpl.ratio;\n",
       "    x0 = Math.floor(x0) + 0.5;\n",
       "    y0 = Math.floor(y0) + 0.5;\n",
       "    x1 = Math.floor(x1) + 0.5;\n",
       "    y1 = Math.floor(y1) + 0.5;\n",
       "    var min_x = Math.min(x0, x1);\n",
       "    var min_y = Math.min(y0, y1);\n",
       "    var width = Math.abs(x1 - x0);\n",
       "    var height = Math.abs(y1 - y0);\n",
       "\n",
       "    fig.rubberband_context.clearRect(\n",
       "        0, 0, fig.canvas.width / mpl.ratio, fig.canvas.height / mpl.ratio);\n",
       "\n",
       "    fig.rubberband_context.strokeRect(min_x, min_y, width, height);\n",
       "}\n",
       "\n",
       "mpl.figure.prototype.handle_figure_label = function(fig, msg) {\n",
       "    // Updates the figure title.\n",
       "    fig.header.textContent = msg['label'];\n",
       "}\n",
       "\n",
       "mpl.figure.prototype.handle_cursor = function(fig, msg) {\n",
       "    var cursor = msg['cursor'];\n",
       "    switch(cursor)\n",
       "    {\n",
       "    case 0:\n",
       "        cursor = 'pointer';\n",
       "        break;\n",
       "    case 1:\n",
       "        cursor = 'default';\n",
       "        break;\n",
       "    case 2:\n",
       "        cursor = 'crosshair';\n",
       "        break;\n",
       "    case 3:\n",
       "        cursor = 'move';\n",
       "        break;\n",
       "    }\n",
       "    fig.rubberband_canvas.style.cursor = cursor;\n",
       "}\n",
       "\n",
       "mpl.figure.prototype.handle_message = function(fig, msg) {\n",
       "    fig.message.textContent = msg['message'];\n",
       "}\n",
       "\n",
       "mpl.figure.prototype.handle_draw = function(fig, msg) {\n",
       "    // Request the server to send over a new figure.\n",
       "    fig.send_draw_message();\n",
       "}\n",
       "\n",
       "mpl.figure.prototype.handle_image_mode = function(fig, msg) {\n",
       "    fig.image_mode = msg['mode'];\n",
       "}\n",
       "\n",
       "mpl.figure.prototype.updated_canvas_event = function() {\n",
       "    // Called whenever the canvas gets updated.\n",
       "    this.send_message(\"ack\", {});\n",
       "}\n",
       "\n",
       "// A function to construct a web socket function for onmessage handling.\n",
       "// Called in the figure constructor.\n",
       "mpl.figure.prototype._make_on_message_function = function(fig) {\n",
       "    return function socket_on_message(evt) {\n",
       "        if (evt.data instanceof Blob) {\n",
       "            /* FIXME: We get \"Resource interpreted as Image but\n",
       "             * transferred with MIME type text/plain:\" errors on\n",
       "             * Chrome.  But how to set the MIME type?  It doesn't seem\n",
       "             * to be part of the websocket stream */\n",
       "            evt.data.type = \"image/png\";\n",
       "\n",
       "            /* Free the memory for the previous frames */\n",
       "            if (fig.imageObj.src) {\n",
       "                (window.URL || window.webkitURL).revokeObjectURL(\n",
       "                    fig.imageObj.src);\n",
       "            }\n",
       "\n",
       "            fig.imageObj.src = (window.URL || window.webkitURL).createObjectURL(\n",
       "                evt.data);\n",
       "            fig.updated_canvas_event();\n",
       "            fig.waiting = false;\n",
       "            return;\n",
       "        }\n",
       "        else if (typeof evt.data === 'string' && evt.data.slice(0, 21) == \"data:image/png;base64\") {\n",
       "            fig.imageObj.src = evt.data;\n",
       "            fig.updated_canvas_event();\n",
       "            fig.waiting = false;\n",
       "            return;\n",
       "        }\n",
       "\n",
       "        var msg = JSON.parse(evt.data);\n",
       "        var msg_type = msg['type'];\n",
       "\n",
       "        // Call the  \"handle_{type}\" callback, which takes\n",
       "        // the figure and JSON message as its only arguments.\n",
       "        try {\n",
       "            var callback = fig[\"handle_\" + msg_type];\n",
       "        } catch (e) {\n",
       "            console.log(\"No handler for the '\" + msg_type + \"' message type: \", msg);\n",
       "            return;\n",
       "        }\n",
       "\n",
       "        if (callback) {\n",
       "            try {\n",
       "                // console.log(\"Handling '\" + msg_type + \"' message: \", msg);\n",
       "                callback(fig, msg);\n",
       "            } catch (e) {\n",
       "                console.log(\"Exception inside the 'handler_\" + msg_type + \"' callback:\", e, e.stack, msg);\n",
       "            }\n",
       "        }\n",
       "    };\n",
       "}\n",
       "\n",
       "// from http://stackoverflow.com/questions/1114465/getting-mouse-location-in-canvas\n",
       "mpl.findpos = function(e) {\n",
       "    //this section is from http://www.quirksmode.org/js/events_properties.html\n",
       "    var targ;\n",
       "    if (!e)\n",
       "        e = window.event;\n",
       "    if (e.target)\n",
       "        targ = e.target;\n",
       "    else if (e.srcElement)\n",
       "        targ = e.srcElement;\n",
       "    if (targ.nodeType == 3) // defeat Safari bug\n",
       "        targ = targ.parentNode;\n",
       "\n",
       "    // jQuery normalizes the pageX and pageY\n",
       "    // pageX,Y are the mouse positions relative to the document\n",
       "    // offset() returns the position of the element relative to the document\n",
       "    var x = e.pageX - $(targ).offset().left;\n",
       "    var y = e.pageY - $(targ).offset().top;\n",
       "\n",
       "    return {\"x\": x, \"y\": y};\n",
       "};\n",
       "\n",
       "/*\n",
       " * return a copy of an object with only non-object keys\n",
       " * we need this to avoid circular references\n",
       " * http://stackoverflow.com/a/24161582/3208463\n",
       " */\n",
       "function simpleKeys (original) {\n",
       "  return Object.keys(original).reduce(function (obj, key) {\n",
       "    if (typeof original[key] !== 'object')\n",
       "        obj[key] = original[key]\n",
       "    return obj;\n",
       "  }, {});\n",
       "}\n",
       "\n",
       "mpl.figure.prototype.mouse_event = function(event, name) {\n",
       "    var canvas_pos = mpl.findpos(event)\n",
       "\n",
       "    if (name === 'button_press')\n",
       "    {\n",
       "        this.canvas.focus();\n",
       "        this.canvas_div.focus();\n",
       "    }\n",
       "\n",
       "    var x = canvas_pos.x * mpl.ratio;\n",
       "    var y = canvas_pos.y * mpl.ratio;\n",
       "\n",
       "    this.send_message(name, {x: x, y: y, button: event.button,\n",
       "                             step: event.step,\n",
       "                             guiEvent: simpleKeys(event)});\n",
       "\n",
       "    /* This prevents the web browser from automatically changing to\n",
       "     * the text insertion cursor when the button is pressed.  We want\n",
       "     * to control all of the cursor setting manually through the\n",
       "     * 'cursor' event from matplotlib */\n",
       "    event.preventDefault();\n",
       "    return false;\n",
       "}\n",
       "\n",
       "mpl.figure.prototype._key_event_extra = function(event, name) {\n",
       "    // Handle any extra behaviour associated with a key event\n",
       "}\n",
       "\n",
       "mpl.figure.prototype.key_event = function(event, name) {\n",
       "\n",
       "    // Prevent repeat events\n",
       "    if (name == 'key_press')\n",
       "    {\n",
       "        if (event.which === this._key)\n",
       "            return;\n",
       "        else\n",
       "            this._key = event.which;\n",
       "    }\n",
       "    if (name == 'key_release')\n",
       "        this._key = null;\n",
       "\n",
       "    var value = '';\n",
       "    if (event.ctrlKey && event.which != 17)\n",
       "        value += \"ctrl+\";\n",
       "    if (event.altKey && event.which != 18)\n",
       "        value += \"alt+\";\n",
       "    if (event.shiftKey && event.which != 16)\n",
       "        value += \"shift+\";\n",
       "\n",
       "    value += 'k';\n",
       "    value += event.which.toString();\n",
       "\n",
       "    this._key_event_extra(event, name);\n",
       "\n",
       "    this.send_message(name, {key: value,\n",
       "                             guiEvent: simpleKeys(event)});\n",
       "    return false;\n",
       "}\n",
       "\n",
       "mpl.figure.prototype.toolbar_button_onclick = function(name) {\n",
       "    if (name == 'download') {\n",
       "        this.handle_save(this, null);\n",
       "    } else {\n",
       "        this.send_message(\"toolbar_button\", {name: name});\n",
       "    }\n",
       "};\n",
       "\n",
       "mpl.figure.prototype.toolbar_button_onmouseover = function(tooltip) {\n",
       "    this.message.textContent = tooltip;\n",
       "};\n",
       "mpl.toolbar_items = [[\"Home\", \"Reset original view\", \"fa fa-home icon-home\", \"home\"], [\"Back\", \"Back to previous view\", \"fa fa-arrow-left icon-arrow-left\", \"back\"], [\"Forward\", \"Forward to next view\", \"fa fa-arrow-right icon-arrow-right\", \"forward\"], [\"\", \"\", \"\", \"\"], [\"Pan\", \"Pan axes with left mouse, zoom with right\", \"fa fa-arrows icon-move\", \"pan\"], [\"Zoom\", \"Zoom to rectangle\", \"fa fa-square-o icon-check-empty\", \"zoom\"], [\"\", \"\", \"\", \"\"], [\"Download\", \"Download plot\", \"fa fa-floppy-o icon-save\", \"download\"]];\n",
       "\n",
       "mpl.extensions = [\"eps\", \"jpeg\", \"pdf\", \"png\", \"ps\", \"raw\", \"svg\", \"tif\"];\n",
       "\n",
       "mpl.default_extension = \"png\";var comm_websocket_adapter = function(comm) {\n",
       "    // Create a \"websocket\"-like object which calls the given IPython comm\n",
       "    // object with the appropriate methods. Currently this is a non binary\n",
       "    // socket, so there is still some room for performance tuning.\n",
       "    var ws = {};\n",
       "\n",
       "    ws.close = function() {\n",
       "        comm.close()\n",
       "    };\n",
       "    ws.send = function(m) {\n",
       "        //console.log('sending', m);\n",
       "        comm.send(m);\n",
       "    };\n",
       "    // Register the callback with on_msg.\n",
       "    comm.on_msg(function(msg) {\n",
       "        //console.log('receiving', msg['content']['data'], msg);\n",
       "        // Pass the mpl event to the overridden (by mpl) onmessage function.\n",
       "        ws.onmessage(msg['content']['data'])\n",
       "    });\n",
       "    return ws;\n",
       "}\n",
       "\n",
       "mpl.mpl_figure_comm = function(comm, msg) {\n",
       "    // This is the function which gets called when the mpl process\n",
       "    // starts-up an IPython Comm through the \"matplotlib\" channel.\n",
       "\n",
       "    var id = msg.content.data.id;\n",
       "    // Get hold of the div created by the display call when the Comm\n",
       "    // socket was opened in Python.\n",
       "    var element = $(\"#\" + id);\n",
       "    var ws_proxy = comm_websocket_adapter(comm)\n",
       "\n",
       "    function ondownload(figure, format) {\n",
       "        window.open(figure.imageObj.src);\n",
       "    }\n",
       "\n",
       "    var fig = new mpl.figure(id, ws_proxy,\n",
       "                           ondownload,\n",
       "                           element.get(0));\n",
       "\n",
       "    // Call onopen now - mpl needs it, as it is assuming we've passed it a real\n",
       "    // web socket which is closed, not our websocket->open comm proxy.\n",
       "    ws_proxy.onopen();\n",
       "\n",
       "    fig.parent_element = element.get(0);\n",
       "    fig.cell_info = mpl.find_output_cell(\"<div id='\" + id + \"'></div>\");\n",
       "    if (!fig.cell_info) {\n",
       "        console.error(\"Failed to find cell for figure\", id, fig);\n",
       "        return;\n",
       "    }\n",
       "\n",
       "    var output_index = fig.cell_info[2]\n",
       "    var cell = fig.cell_info[0];\n",
       "\n",
       "};\n",
       "\n",
       "mpl.figure.prototype.handle_close = function(fig, msg) {\n",
       "    var width = fig.canvas.width/mpl.ratio\n",
       "    fig.root.unbind('remove')\n",
       "\n",
       "    // Update the output cell to use the data from the current canvas.\n",
       "    fig.push_to_output();\n",
       "    var dataURL = fig.canvas.toDataURL();\n",
       "    // Re-enable the keyboard manager in IPython - without this line, in FF,\n",
       "    // the notebook keyboard shortcuts fail.\n",
       "    IPython.keyboard_manager.enable()\n",
       "    $(fig.parent_element).html('<img src=\"' + dataURL + '\" width=\"' + width + '\">');\n",
       "    fig.close_ws(fig, msg);\n",
       "}\n",
       "\n",
       "mpl.figure.prototype.close_ws = function(fig, msg){\n",
       "    fig.send_message('closing', msg);\n",
       "    // fig.ws.close()\n",
       "}\n",
       "\n",
       "mpl.figure.prototype.push_to_output = function(remove_interactive) {\n",
       "    // Turn the data on the canvas into data in the output cell.\n",
       "    var width = this.canvas.width/mpl.ratio\n",
       "    var dataURL = this.canvas.toDataURL();\n",
       "    this.cell_info[1]['text/html'] = '<img src=\"' + dataURL + '\" width=\"' + width + '\">';\n",
       "}\n",
       "\n",
       "mpl.figure.prototype.updated_canvas_event = function() {\n",
       "    // Tell IPython that the notebook contents must change.\n",
       "    IPython.notebook.set_dirty(true);\n",
       "    this.send_message(\"ack\", {});\n",
       "    var fig = this;\n",
       "    // Wait a second, then push the new image to the DOM so\n",
       "    // that it is saved nicely (might be nice to debounce this).\n",
       "    setTimeout(function () { fig.push_to_output() }, 1000);\n",
       "}\n",
       "\n",
       "mpl.figure.prototype._init_toolbar = function() {\n",
       "    var fig = this;\n",
       "\n",
       "    var nav_element = $('<div/>');\n",
       "    nav_element.attr('style', 'width: 100%');\n",
       "    this.root.append(nav_element);\n",
       "\n",
       "    // Define a callback function for later on.\n",
       "    function toolbar_event(event) {\n",
       "        return fig.toolbar_button_onclick(event['data']);\n",
       "    }\n",
       "    function toolbar_mouse_event(event) {\n",
       "        return fig.toolbar_button_onmouseover(event['data']);\n",
       "    }\n",
       "\n",
       "    for(var toolbar_ind in mpl.toolbar_items){\n",
       "        var name = mpl.toolbar_items[toolbar_ind][0];\n",
       "        var tooltip = mpl.toolbar_items[toolbar_ind][1];\n",
       "        var image = mpl.toolbar_items[toolbar_ind][2];\n",
       "        var method_name = mpl.toolbar_items[toolbar_ind][3];\n",
       "\n",
       "        if (!name) { continue; };\n",
       "\n",
       "        var button = $('<button class=\"btn btn-default\" href=\"#\" title=\"' + name + '\"><i class=\"fa ' + image + ' fa-lg\"></i></button>');\n",
       "        button.click(method_name, toolbar_event);\n",
       "        button.mouseover(tooltip, toolbar_mouse_event);\n",
       "        nav_element.append(button);\n",
       "    }\n",
       "\n",
       "    // Add the status bar.\n",
       "    var status_bar = $('<span class=\"mpl-message\" style=\"text-align:right; float: right;\"/>');\n",
       "    nav_element.append(status_bar);\n",
       "    this.message = status_bar[0];\n",
       "\n",
       "    // Add the close button to the window.\n",
       "    var buttongrp = $('<div class=\"btn-group inline pull-right\"></div>');\n",
       "    var button = $('<button class=\"btn btn-mini btn-primary\" href=\"#\" title=\"Stop Interaction\"><i class=\"fa fa-power-off icon-remove icon-large\"></i></button>');\n",
       "    button.click(function (evt) { fig.handle_close(fig, {}); } );\n",
       "    button.mouseover('Stop Interaction', toolbar_mouse_event);\n",
       "    buttongrp.append(button);\n",
       "    var titlebar = this.root.find($('.ui-dialog-titlebar'));\n",
       "    titlebar.prepend(buttongrp);\n",
       "}\n",
       "\n",
       "mpl.figure.prototype._root_extra_style = function(el){\n",
       "    var fig = this\n",
       "    el.on(\"remove\", function(){\n",
       "\tfig.close_ws(fig, {});\n",
       "    });\n",
       "}\n",
       "\n",
       "mpl.figure.prototype._canvas_extra_style = function(el){\n",
       "    // this is important to make the div 'focusable\n",
       "    el.attr('tabindex', 0)\n",
       "    // reach out to IPython and tell the keyboard manager to turn it's self\n",
       "    // off when our div gets focus\n",
       "\n",
       "    // location in version 3\n",
       "    if (IPython.notebook.keyboard_manager) {\n",
       "        IPython.notebook.keyboard_manager.register_events(el);\n",
       "    }\n",
       "    else {\n",
       "        // location in version 2\n",
       "        IPython.keyboard_manager.register_events(el);\n",
       "    }\n",
       "\n",
       "}\n",
       "\n",
       "mpl.figure.prototype._key_event_extra = function(event, name) {\n",
       "    var manager = IPython.notebook.keyboard_manager;\n",
       "    if (!manager)\n",
       "        manager = IPython.keyboard_manager;\n",
       "\n",
       "    // Check for shift+enter\n",
       "    if (event.shiftKey && event.which == 13) {\n",
       "        this.canvas_div.blur();\n",
       "        // select the cell after this one\n",
       "        var index = IPython.notebook.find_cell_index(this.cell_info[0]);\n",
       "        IPython.notebook.select(index + 1);\n",
       "    }\n",
       "}\n",
       "\n",
       "mpl.figure.prototype.handle_save = function(fig, msg) {\n",
       "    fig.ondownload(fig, null);\n",
       "}\n",
       "\n",
       "\n",
       "mpl.find_output_cell = function(html_output) {\n",
       "    // Return the cell and output element which can be found *uniquely* in the notebook.\n",
       "    // Note - this is a bit hacky, but it is done because the \"notebook_saving.Notebook\"\n",
       "    // IPython event is triggered only after the cells have been serialised, which for\n",
       "    // our purposes (turning an active figure into a static one), is too late.\n",
       "    var cells = IPython.notebook.get_cells();\n",
       "    var ncells = cells.length;\n",
       "    for (var i=0; i<ncells; i++) {\n",
       "        var cell = cells[i];\n",
       "        if (cell.cell_type === 'code'){\n",
       "            for (var j=0; j<cell.output_area.outputs.length; j++) {\n",
       "                var data = cell.output_area.outputs[j];\n",
       "                if (data.data) {\n",
       "                    // IPython >= 3 moved mimebundle to data attribute of output\n",
       "                    data = data.data;\n",
       "                }\n",
       "                if (data['text/html'] == html_output) {\n",
       "                    return [cell, data, j];\n",
       "                }\n",
       "            }\n",
       "        }\n",
       "    }\n",
       "}\n",
       "\n",
       "// Register the function which deals with the matplotlib target/channel.\n",
       "// The kernel may be null if the page has been refreshed.\n",
       "if (IPython.notebook.kernel != null) {\n",
       "    IPython.notebook.kernel.comm_manager.register_target('matplotlib', mpl.mpl_figure_comm);\n",
       "}\n"
      ],
      "text/plain": [
       "<IPython.core.display.Javascript object>"
      ]
     },
     "metadata": {},
     "output_type": "display_data"
    },
    {
     "data": {
      "text/html": [
       "<img src=\"data:image/png;base64,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\" width=\"999.75\">"
      ],
      "text/plain": [
       "<IPython.core.display.HTML object>"
      ]
     },
     "metadata": {},
     "output_type": "display_data"
    }
   ],
   "source": [
    "dual_train_plots(results.index,\n",
    "                 results.cost, results.val,\n",
    "                 results.cost, results.val)\n",
    "plt.tight_layout()\n",
    "plt.savefig(str(output / f'{name}_stats_a.png'))"
   ]
  },
  {
   "cell_type": "code",
   "execution_count": 22,
   "metadata": {},
   "outputs": [],
   "source": [
    "##quit()"
   ]
  },
  {
   "cell_type": "code",
   "execution_count": null,
   "metadata": {},
   "outputs": [],
   "source": []
  },
  {
   "cell_type": "code",
   "execution_count": null,
   "metadata": {},
   "outputs": [],
   "source": []
  }
 ],
 "metadata": {
  "kernelspec": {
   "display_name": "goofit-june2020",
   "language": "python",
   "name": "goofit-june2020"
  },
  "language_info": {
   "codemirror_mode": {
    "name": "ipython",
    "version": 3
   },
   "file_extension": ".py",
   "mimetype": "text/x-python",
   "name": "python",
   "nbconvert_exporter": "python",
   "pygments_lexer": "ipython3",
   "version": "3.7.6"
  }
 },
 "nbformat": 4,
 "nbformat_minor": 2
}
