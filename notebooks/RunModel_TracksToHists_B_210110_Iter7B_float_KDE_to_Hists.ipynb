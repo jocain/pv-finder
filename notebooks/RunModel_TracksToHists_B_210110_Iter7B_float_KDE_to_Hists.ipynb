{
 "cells": [
  {
   "cell_type": "code",
   "execution_count": 1,
   "metadata": {},
   "outputs": [],
   "source": [
    "##%matplotlib widget\n",
    "## with %matplotlib notebook: seems to require ipympl as part of environment, either\n",
    "## part of the conda environment or \"pip install ipympl\"\n",
    "## otherwise, does not show ANY plots in notebook, plt.savefig() works\n",
    "%matplotlib notebook  \n",
    "##%matplotlib inline    ## --plt.savefig()  works, but re-sizing does NOT\n"
   ]
  },
  {
   "cell_type": "markdown",
   "metadata": {},
   "source": [
    "This notebook is a first attempt to read in track information and use it to predict the the full target histrograms.\n",
    "\n",
    "It will read in the TracksToDKE__Ellipsoids_DDPlus model to predict the KDE, and then feed it into a SimpleCNN model to predict the target histograms.  Initially, it will use previously trained weights.\n"
   ]
  },
  {
   "cell_type": "markdown",
   "metadata": {},
   "source": [
    "Check the current GPU usage. Please try to be nice!"
   ]
  },
  {
   "cell_type": "code",
   "execution_count": 2,
   "metadata": {},
   "outputs": [
    {
     "name": "stdout",
     "output_type": "stream",
     "text": [
      "Sun Jan 10 22:28:54 2021       \r\n",
      "+-----------------------------------------------------------------------------+\r\n",
      "| NVIDIA-SMI 450.36.06    Driver Version: 450.36.06    CUDA Version: 11.0     |\r\n",
      "|-------------------------------+----------------------+----------------------+\r\n",
      "| GPU  Name        Persistence-M| Bus-Id        Disp.A | Volatile Uncorr. ECC |\r\n",
      "| Fan  Temp  Perf  Pwr:Usage/Cap|         Memory-Usage | GPU-Util  Compute M. |\r\n",
      "|                               |                      |               MIG M. |\r\n",
      "|===============================+======================+======================|\r\n",
      "|   0  GeForce RTX 208...  On   | 00000000:18:00.0 Off |                  N/A |\r\n",
      "| 52%   85C    P2   237W / 250W |   8977MiB / 11019MiB |     97%      Default |\r\n",
      "|                               |                      |                  N/A |\r\n",
      "+-------------------------------+----------------------+----------------------+\r\n",
      "|   1  GeForce RTX 208...  On   | 00000000:3B:00.0 Off |                  N/A |\r\n",
      "| 29%   47C    P8    39W / 250W |     61MiB / 11019MiB |      0%      Default |\r\n",
      "|                               |                      |                  N/A |\r\n",
      "+-------------------------------+----------------------+----------------------+\r\n",
      "                                                                               \r\n",
      "+-----------------------------------------------------------------------------+\r\n",
      "| Processes:                                                                  |\r\n",
      "|  GPU   GI   CI        PID   Type   Process name                  GPU Memory |\r\n",
      "|        ID   ID                                                   Usage      |\r\n",
      "|=============================================================================|\r\n",
      "|    0   N/A  N/A    278457      C   ...s/june2020-gpu/bin/python     8973MiB |\r\n",
      "|    1   N/A  N/A      3736      G   /usr/bin/X                         33MiB |\r\n",
      "|    1   N/A  N/A      3790      G   /usr/bin/gnome-shell               25MiB |\r\n",
      "+-----------------------------------------------------------------------------+\r\n"
     ]
    }
   ],
   "source": [
    "!nvidia-smi"
   ]
  },
  {
   "cell_type": "markdown",
   "metadata": {},
   "source": [
    "> **WARNING**: The card numbers here are *not* the same as in CUDA. You have been warned."
   ]
  },
  {
   "cell_type": "markdown",
   "metadata": {},
   "source": [
    "## Imports"
   ]
  },
  {
   "cell_type": "code",
   "execution_count": 3,
   "metadata": {},
   "outputs": [],
   "source": [
    "import matplotlib.pyplot as plt\n",
    "import numpy as np\n",
    "import time\n",
    "import torch\n",
    "import pandas as pd\n",
    "\n",
    "# Python 3 standard library\n",
    "from pathlib import Path\n",
    "\n",
    "from model.efficiency import pv_locations, efficiency\n",
    "\n",
    "##from torchsummary import summary"
   ]
  },
  {
   "cell_type": "markdown",
   "metadata": {},
   "source": [
    "### Set up local parameters"
   ]
  },
  {
   "cell_type": "code",
   "execution_count": 4,
   "metadata": {},
   "outputs": [],
   "source": [
    "n_epochs = 50\n",
    "\n",
    "# Name is the output file name\n",
    "\n",
    "\n",
    "##  200719  mds\n",
    "##folder = '20December_Tracks_to_KDE_TestTrainedModel'\n",
    "##folder = '22December_testing_DDplus_loss_Bb_iter2_floatAll_100epochs_3em6'\n",
    "## 50 epochs using 4 of Will's files with batch_size = 48 should take\n",
    "##  just over 8 hours\n",
    "folder = '10Jan2021_TracksToHists_B_Iter7B_50epochs_lr_1em5_b48_2p5_kde2hists_float_all_4x_will'\n",
    "name = folder\n",
    "\n",
    "# Make an output folder named \"name\" (change if you want)\n",
    "\n",
    "## Special instructions for those working on goofy at UC\n",
    "## Please be very careful to make sure that your folder\n",
    "## does not live in a subdirectory of your home directory\n",
    "## this disk has very little capacity. Instead, use \n",
    "## a subdirectory in /share/lazy with a symbolic link to\n",
    "## it in this (the notebooks) subdirectory\n",
    "folder = 'ML/' + folder\n",
    "output = Path(folder)\n",
    "\n",
    "\n",
    "# Size of batches\n",
    "## reduce batch size from 64 to 32 when floating all the parameters\n",
    "##  it *appears* that storing the gradients requires extra memory\n",
    "##  batch_size = 32 --> 6623MiB / 11019 MiB on sleepy RTX2081 Ti\n",
    "batch_size = 48\n",
    "# How fast to learn\n",
    "## learning rate was 1e-7 for all layers in TracksToHists_A\n",
    "## here we want to learn only weights in the finalFilter layer\n",
    "## of TracksToHists_B, so try a high learning rate, at least initially\n",
    "## 1e-3 did well for the first 10 epochs; let's increase it for the next 40\n",
    "## reduce to 1e-3 for iteration with KDE_to_Hists weights floated\n",
    "##  cost decreased monotonically in previous run, so increase lr to 2e-3\n",
    "##  tried running with lr = 2e-3 and the validation cost function \n",
    "##  bounced around.  Want to try using a lower learning rate and\n",
    "##  a larger training sample\n",
    "##  Iter5B --  float all, leave learning rate = 5e-4\n",
    "##  Iter6C, with lr = 1e-5 rather than 1e-6, seems to be learning more quickly,\n",
    "##  so increase the learning rate to 1e-5 for Iter7B\n",
    "learning_rate = 1e-5"
   ]
  },
  {
   "cell_type": "markdown",
   "metadata": {},
   "source": [
    "Make the output directory if it does not exist:"
   ]
  },
  {
   "cell_type": "code",
   "execution_count": 5,
   "metadata": {},
   "outputs": [],
   "source": [
    "output.mkdir(exist_ok=True)"
   ]
  },
  {
   "cell_type": "markdown",
   "metadata": {},
   "source": [
    "## Get the helper functions\n",
    "\n",
    "Add the directory with the model\n",
    "definitions to the path so we can import from it:\n",
    "\n",
    "> When you type `import X`,\n",
    "Python searches `sys.path` for a python\n",
    "file named `X.py` to import. So we need to add the model directory to the path."
   ]
  },
  {
   "cell_type": "code",
   "execution_count": 6,
   "metadata": {
    "scrolled": true
   },
   "outputs": [],
   "source": [
    "# From model/collectdata.py\n",
    "##from model.collectdata_kde_Ellipsoids import collect_t2kde_data\n",
    "from model.collectdata_t2hists import collect_t2hists_data\n",
    "from model.collectdata_mdsA  import collect_truth\n",
    "\n",
    "# From model/loss.py\n",
    "##from loss import Loss\n",
    "##from model.kde_loss_D import Loss\n",
    "## from model.kde_loss_B import Loss  ## Tracks_to_KDE loss, not for target hists\n",
    "\n",
    "##  \"standard\" ratios loss for hists training\n",
    "from model.alt_loss_A import Loss  ## loss used to train RunModel_Demo_28November2020-SimpleCNNLayer_Ca-Restart_5\n",
    "\n",
    "\n",
    "##from model.models_kde import TracksToKDE_Ellipsoids_DirtyDozen as Model\n",
    "from model.models_kde import TracksToKDE_Ellipsoids_DDplus as t2kde_model\n",
    "##from model.models_mds_G import SimpleCNN5Layer_Ca as kde2hists_model\n",
    "from model.models_mds_28Dec20 import SimpleCNN5Layer_Ca as kde2hists_model  ## copy of models_mds_01June20 for debugging\n",
    "from model.models_t2hists import TracksToHists_B as t2hists_model\n",
    "\n",
    "\n",
    "##from model.training_kde import trainNet, select_gpu, Results\n",
    "## training_t2hists_A.py increases \"difference\" for accepting found\n",
    "## peaks as matched from 5 bins to 7.5 bins (compmared to original training.py)\n",
    "from model.training_t2hists_A import trainNet, select_gpu, Results\n",
    "from model.plots import dual_train_plots, replace_in_ax"
   ]
  },
  {
   "cell_type": "code",
   "execution_count": 7,
   "metadata": {},
   "outputs": [],
   "source": [
    "# This gets built up during the run - do not rerun this cell\n",
    "results = pd.DataFrame([], columns=Results._fields)"
   ]
  },
  {
   "cell_type": "markdown",
   "metadata": {},
   "source": [
    "Set up Torch device configuration. All tensors and model parameters need to know where to be put.\n",
    "This takes a BUS ID number: The BUS ID is the same as the listing at the top of this script."
   ]
  },
  {
   "cell_type": "code",
   "execution_count": 8,
   "metadata": {},
   "outputs": [
    {
     "name": "stdout",
     "output_type": "stream",
     "text": [
      "1 available GPUs (initially using device 0):\n",
      "  0 GeForce RTX 2080 Ti\n"
     ]
    }
   ],
   "source": [
    "device = select_gpu(1)\n",
    "##device = \"cpu\""
   ]
  },
  {
   "cell_type": "markdown",
   "metadata": {},
   "source": [
    "## Loading data\n",
    "\n",
    "Load the dataset, split into parts, then move to device (see `collectdata.py` in the `../model` directory)"
   ]
  },
  {
   "cell_type": "code",
   "execution_count": 9,
   "metadata": {
    "scrolled": false
   },
   "outputs": [
    {
     "name": "stdout",
     "output_type": "stream",
     "text": [
      "Loading data...\n",
      "pocaMx.shape =  (80000,)\n",
      "nEvts =  80000\n",
      "len(pocaMx[0]) =  199\n",
      "len(pocaMx[1]) =  25\n",
      "len(pocaMx[2]) =  369\n",
      "len(pocaMx[3]) =  143\n",
      "len(pocaMx[4]) =  160\n",
      "have entered six_ellipsoid_parameters\n",
      "  \n",
      " \n",
      "  nEvts =  80000\n",
      " iEvt, nTrks =  0 199\n",
      " iEvt, nTrks =  1 25\n",
      " iEvt, nTrks =  2 369\n",
      " iEvt, nTrks =  3 143\n",
      " iEvt, nTrks =  4 160\n",
      " iEvt, nTrks =  5 260\n",
      " iEvt, nTrks =  6 237\n",
      " iEvt, nTrks =  7 327\n",
      " iEvt, nTrks =  8 178\n",
      " iEvt, nTrks =  9 106\n",
      "len(X) =  80000\n",
      "len(Xlist) =  1\n",
      "Loaded /share/lazy/will/data/June30_2020_80k_1.h5 in 146.0 s\n",
      "pocaMx.shape =  (80000,)\n",
      "nEvts =  80000\n",
      "len(pocaMx[0]) =  222\n",
      "len(pocaMx[1]) =  133\n",
      "len(pocaMx[2]) =  259\n",
      "len(pocaMx[3]) =  114\n",
      "len(pocaMx[4]) =  143\n",
      "have entered six_ellipsoid_parameters\n",
      "  \n",
      " \n",
      "  nEvts =  80000\n",
      " iEvt, nTrks =  0 222\n",
      " iEvt, nTrks =  1 133\n",
      " iEvt, nTrks =  2 259\n",
      " iEvt, nTrks =  3 114\n",
      " iEvt, nTrks =  4 143\n",
      " iEvt, nTrks =  5 136\n",
      " iEvt, nTrks =  6 397\n",
      " iEvt, nTrks =  7 370\n",
      " iEvt, nTrks =  8 97\n",
      " iEvt, nTrks =  9 67\n",
      "len(X) =  80000\n",
      "len(Xlist) =  2\n",
      "Loaded /share/lazy/will/data/June30_2020_80k_2.h5 in 146.2 s\n",
      "pocaMx.shape =  (80000,)\n",
      "nEvts =  80000\n",
      "len(pocaMx[0]) =  196\n",
      "len(pocaMx[1]) =  35\n",
      "len(pocaMx[2]) =  265\n",
      "len(pocaMx[3]) =  128\n",
      "len(pocaMx[4]) =  124\n",
      "have entered six_ellipsoid_parameters\n",
      "  \n",
      " \n",
      "  nEvts =  80000\n",
      " iEvt, nTrks =  0 196\n",
      " iEvt, nTrks =  1 35\n",
      " iEvt, nTrks =  2 265\n",
      " iEvt, nTrks =  3 128\n",
      " iEvt, nTrks =  4 124\n",
      " iEvt, nTrks =  5 122\n",
      " iEvt, nTrks =  6 300\n",
      " iEvt, nTrks =  7 179\n",
      " iEvt, nTrks =  8 243\n",
      " iEvt, nTrks =  9 112\n",
      "len(X) =  80000\n",
      "len(Xlist) =  3\n",
      "Loaded /share/lazy/will/data/June30_2020_80k_3.h5 in 152.0 s\n",
      "pocaMx.shape =  (80000,)\n",
      "nEvts =  80000\n",
      "len(pocaMx[0]) =  204\n",
      "len(pocaMx[1]) =  33\n",
      "len(pocaMx[2]) =  206\n",
      "len(pocaMx[3]) =  150\n",
      "len(pocaMx[4]) =  96\n",
      "have entered six_ellipsoid_parameters\n",
      "  \n",
      " \n",
      "  nEvts =  80000\n",
      " iEvt, nTrks =  0 204\n",
      " iEvt, nTrks =  1 33\n",
      " iEvt, nTrks =  2 206\n",
      " iEvt, nTrks =  3 150\n",
      " iEvt, nTrks =  4 96\n",
      " iEvt, nTrks =  5 10\n",
      " iEvt, nTrks =  6 174\n",
      " iEvt, nTrks =  7 320\n",
      " iEvt, nTrks =  8 164\n",
      " iEvt, nTrks =  9 119\n",
      "len(X) =  80000\n",
      "len(Xlist) =  4\n",
      "Loaded /share/lazy/will/data/June30_2020_80k_4.h5 in 147.3 s\n",
      "outer loop X.shape =  (320000, 9, 600)\n",
      "Constructing 320000 event dataset took 1.093 s\n",
      "x_t.shape =  torch.Size([320000, 9, 600])\n",
      "x_t.shape[0] =  320000\n",
      "x_t.shape[1] =  9\n",
      "x_t.shape =  torch.Size([320000, 9, 600])\n",
      "Loading data...\n",
      "pocaMx.shape =  (20000,)\n",
      "nEvts =  20000\n",
      "len(pocaMx[0]) =  211\n",
      "len(pocaMx[1]) =  21\n",
      "len(pocaMx[2]) =  20\n",
      "len(pocaMx[3]) =  198\n",
      "len(pocaMx[4]) =  233\n",
      "have entered six_ellipsoid_parameters\n",
      "  \n",
      " \n",
      "  nEvts =  20000\n",
      " iEvt, nTrks =  0 211\n",
      " iEvt, nTrks =  1 21\n",
      " iEvt, nTrks =  2 20\n",
      " iEvt, nTrks =  3 198\n",
      " iEvt, nTrks =  4 233\n",
      " iEvt, nTrks =  5 85\n",
      " iEvt, nTrks =  6 223\n",
      " iEvt, nTrks =  7 425\n",
      " iEvt, nTrks =  8 252\n",
      " iEvt, nTrks =  9 169\n",
      "len(X) =  20000\n",
      "len(Xlist) =  1\n",
      "Loaded dataAA/20K_POCA_kernel_evts_200926.h5 in 35.79 s\n",
      "outer loop X.shape =  (20000, 9, 600)\n",
      "Constructing 20000 event dataset took 2.14 s\n",
      "x_t.shape =  torch.Size([20000, 9, 600])\n",
      "x_t.shape[0] =  20000\n",
      "x_t.shape[1] =  9\n",
      "x_t.shape =  torch.Size([20000, 9, 600])\n",
      "Loaded dataAA/20K_POCA_kernel_evts_200926.h5 in 0.01415 s\n",
      "PV.n.shape =     (20000,)\n",
      "PV.n[0].shape =  6\n",
      "PV.x[0] =        -0.06039733 0.034324445 0.032115813 0.0021888595 -0.035334907 -0.013019809\n",
      "PV.y[0] =        -0.09381338 -0.013181885 -0.030898828 -0.08940365 -0.0058297813 0.062288247\n",
      "PV.z[0] =        97.82085 61.021088 -0.15807877 134.26784 -29.881668 79.19783\n",
      "PV.n[0] =        24 26 10 7 24 19\n",
      "PV.cat[0] =      1 1 1 1 1 1\n",
      "Loaded dataAA/20K_POCA_kernel_evts_200926.h5 in 0.0101 s\n",
      "SV.n.shape =     (20000,)\n",
      "SV.n[0].shape =  2\n",
      "SV.x[0] =        -0.014751727 0.03923173\n",
      "SV.y[0] =        0.050640453 0.08648109\n",
      "SV.z[0] =        78.924194 79.170876\n",
      "SV.n[0] =        2 0\n",
      "SV.cat[0] =      1 -1\n"
     ]
    }
   ],
   "source": [
    "## 210109 let's use some of Will's toy MC for training rather than the 20K sample I've been using\n",
    "\n",
    "##train_loader = collect_t2hists_data('dataAA/20K_POCA_kernel_evts_200926.h5',\n",
    "train_loader = collect_t2hists_data('/share/lazy/will/data/June30_2020_80k_1.h5', \n",
    "                                    '/share/lazy/will/data/June30_2020_80k_2.h5',\n",
    "                                    '/share/lazy/will/data/June30_2020_80k_3.h5',\n",
    "                                    '/share/lazy/will/data/June30_2020_80k_4.h5',\n",
    "                             batch_size=batch_size,\n",
    "## if we are using a larger dataset (240K events, with the datasets above, and 11 GB  of GPU memory),\n",
    "## not the dataset will overflow the GPU memory; device=device will allow the data to move back\n",
    "## and forth between the CPU and GPU memory. While this allows use of a larger dataset, it slows\n",
    "## down performance by about 10%.  So comment out when not needed.\n",
    "##                           device=device,\n",
    "##                             slice = slice(0,18000)\n",
    "                           )\n",
    "\n",
    "\n",
    "\n",
    "                            \n",
    "# Validation dataset. You can slice to reduce the size.\n",
    "## mds no separate validation set yet,\n",
    "\n",
    "## 210109 and use everything in this 20K file for validation\n",
    "val_loader = collect_t2hists_data('dataAA/20K_POCA_kernel_evts_200926.h5',\n",
    "                            batch_size=batch_size,\n",
    "                            device=device,\n",
    "##                           slice = slice(18000,None)\n",
    "                           )\n",
    "\n",
    "PV = collect_truth('dataAA/20K_POCA_kernel_evts_200926.h5', pvs=True)\n",
    "print('PV.n.shape =    ',  PV.n.shape)\n",
    "print('PV.n[0].shape = ', *PV.n[0].shape)\n",
    "print('PV.x[0] =       ', *PV.x[0])\n",
    "print('PV.y[0] =       ', *PV.y[0])\n",
    "print('PV.z[0] =       ', *PV.z[0])\n",
    "print('PV.n[0] =       ', *PV.n[0])\n",
    "print('PV.cat[0] =     ', *PV.cat[0])\n",
    "\n",
    "SV = collect_truth('dataAA/20K_POCA_kernel_evts_200926.h5', pvs=False)\n",
    "print('SV.n.shape =    ', SV.n.shape)\n",
    "print('SV.n[0].shape = ', *SV.n[0].shape)\n",
    "print('SV.x[0] =       ', *SV.x[0])\n",
    "print('SV.y[0] =       ', *SV.y[0])\n",
    "print('SV.z[0] =       ', *SV.z[0])\n",
    "print('SV.n[0] =       ', *SV.n[0])\n",
    "print('SV.cat[0] =     ', *SV.cat[0])\n"
   ]
  },
  {
   "cell_type": "markdown",
   "metadata": {},
   "source": [
    "# Preparing the model"
   ]
  },
  {
   "cell_type": "markdown",
   "metadata": {},
   "source": [
    "Prepare a model, use multiple GPUs if they are VISIBLE, and move the model to the device."
   ]
  },
  {
   "cell_type": "code",
   "execution_count": 10,
   "metadata": {
    "scrolled": false
   },
   "outputs": [
    {
     "name": "stdout",
     "output_type": "stream",
     "text": [
      "ct, child =  0    Linear(in_features=9, out_features=50, bias=True)\n",
      "ct, child =  1    Linear(in_features=50, out_features=50, bias=True)\n",
      "ct, child =  2    Linear(in_features=50, out_features=50, bias=True)\n",
      "ct, child =  3    Linear(in_features=50, out_features=50, bias=True)\n",
      "ct, child =  4    Linear(in_features=50, out_features=50, bias=True)\n",
      "ct, child =  5    Linear(in_features=50, out_features=50, bias=True)\n",
      "ct, child =  6    Linear(in_features=50, out_features=50, bias=True)\n",
      "ct, child =  7    Linear(in_features=50, out_features=50, bias=True)\n",
      "ct, child =  8    Linear(in_features=50, out_features=50, bias=True)\n",
      "ct, child =  9    Linear(in_features=50, out_features=50, bias=True)\n",
      "ct, child =  10    Linear(in_features=50, out_features=50, bias=True)\n",
      "ct, child =  11    Linear(in_features=50, out_features=16000, bias=True)\n",
      "ct, child =  12    Conv1d(4, 25, kernel_size=(25,), stride=(1,), padding=(12,))\n",
      "ct, child =  13    Conv1d(25, 1, kernel_size=(5,), stride=(1,), padding=(2,))\n",
      "ct, child =  14    Linear(in_features=4000, out_features=4000, bias=True)\n",
      "ct, child =  15    Dropout(p=0.15, inplace=False)\n",
      "ct, child =  16    Dropout(p=0.15, inplace=False)\n",
      "ct, child =  17    Conv1d(1, 20, kernel_size=(25,), stride=(1,), padding=(12,))\n",
      "ct, child =  18    Conv1d(20, 10, kernel_size=(15,), stride=(1,), padding=(7,))\n",
      "ct, child =  19    Conv1d(10, 10, kernel_size=(15,), stride=(1,), padding=(7,))\n",
      "ct, child =  20    Conv1d(10, 10, kernel_size=(15,), stride=(1,), padding=(7,))\n",
      "ct, child =  21    Conv1d(10, 1, kernel_size=(5,), stride=(1,), padding=(2,))\n",
      "ct, child =  22    Dropout(p=0.15, inplace=False)\n",
      "ct, child =  23    Dropout(p=0.15, inplace=False)\n",
      "ct, child =  24    Dropout(p=0.15, inplace=False)\n",
      "ct, child =  25    Dropout(p=0.15, inplace=False)\n",
      "ct, child =  26    Dropout(p=0.35, inplace=False)\n",
      "ct, child =  27    Linear(in_features=4000, out_features=4000, bias=True)\n",
      "ct, child =  28    Conv1d(1, 1, kernel_size=(91,), stride=(1,), padding=(45,))\n"
     ]
    }
   ],
   "source": [
    "nOut1 = 50\n",
    "nOut2 = 50\n",
    "nOut3 = 50\n",
    "nOut4 = 50\n",
    "nOut5 = 50\n",
    "nOut6 = 50\n",
    "nOut7 = 50\n",
    "nOut8 = 50\n",
    "nOut9 = 50\n",
    "nOut10 = 50\n",
    "nOut11 = 50\n",
    "latentChannels = 4\n",
    "model_t2kde = t2kde_model(nOut1,nOut2,nOut3,nOut4,nOut5,nOut6,nOut7,nOut8,nOut9,nOut10,nOut11,latentChannels)\n",
    "model_kde2hists = kde2hists_model()\n",
    "model_t2hists = t2hists_model(nOut1,nOut2,nOut3,nOut4,nOut5,nOut6,nOut7,nOut8,nOut9,nOut10,nOut11,latentChannels)\n",
    "\n",
    "##summary(model, input_size=(4, 4000))\n",
    "##print(model.parameters)\n",
    "\n",
    "## add the following code to allow the user to freeze the some of the weights corresponding \n",
    "## to those taken from an earlier model trained with the original target histograms\n",
    "## presumably -- this leaves either the perturbative filter \"fixed\" and lets the \n",
    "## learning focus on the non-perturbative features, so get started faster, or vice versa\n",
    "\n",
    "## 210110 For Iter0, freeze all weights other than those asociated with\n",
    "## the finalFilter added in moving from TracksToHists_A to TracksToHists_B\n",
    "\n",
    "## for \"float_KDE_to_Hists\" loop over ct<17\n",
    "## for float_all loope over ct < 0\n",
    "ct = 0\n",
    "for child in model_t2hists.children():\n",
    "  print('ct, child = ',ct, \"  \", child)\n",
    "  if (ct < 0) :\n",
    "    print(\"     About to set param.requires_grad=False for ct = \", ct, \"params\")\n",
    "    for param in child.parameters():\n",
    "        param.requires_grad = False \n",
    "  ct += 1\n",
    "\n",
    "loss = Loss(epsilon=1e-5,coefficient=2.5)\n",
    "optimizer = torch.optim.Adam(model_t2hists.parameters(), lr=learning_rate)"
   ]
  },
  {
   "cell_type": "markdown",
   "metadata": {},
   "source": [
    "Let's move the model's weight matricies to the GPU:"
   ]
  },
  {
   "cell_type": "code",
   "execution_count": 11,
   "metadata": {
    "scrolled": false
   },
   "outputs": [
    {
     "data": {
      "text/plain": [
       "<All keys matched successfully>"
      ]
     },
     "execution_count": 11,
     "metadata": {},
     "output_type": "execute_result"
    }
   ],
   "source": [
    "## want to look at all three dictionaries to start:\n",
    "##  t2kde\n",
    "##  kde2hists\n",
    "##  t2hists\n",
    "## the plan is to (initially) copy weights from separate dictionaries into th t2hists dictionary\n",
    "\n",
    "##   ML -> /share/lazy/sokoloff/ML\n",
    "'''\n",
    "model_t2kde_dict = model_t2kde.state_dict()\n",
    "## mds 190725 for debugging\n",
    "print(\"for model_t2kde_dict\")\n",
    "index = 0\n",
    "for k,v in model_t2kde_dict.items():\n",
    "    print(\"index, k =  \",index,\"  \",k)\n",
    "    index = index+1\n",
    "#\n",
    "model_kde2hists_dict = model_kde2hists.state_dict()\n",
    "## mds 190725 for debugging\n",
    "print(\"for model_hists_2kde_dict\")\n",
    "index = 0\n",
    "for k,v in model_kde2hists_dict.items():\n",
    "    print(\"index, k =  \",index,\"  \",k)\n",
    "    index = index+1\n",
    "#\n",
    "model_t2hists_dict = model_t2hists.state_dict()\n",
    "## mds 190725 for debugging\n",
    "print(\"for model_hists_2kde_dict\")\n",
    "index = 0\n",
    "for k,v in model_t2hists_dict.items():\n",
    "    print(\"index, k =  \",index,\"  \",k)\n",
    "    index = index+1\n",
    "#\n",
    "\n",
    "##  build the \"updated_dict\" to become the t2hists_dictionary from the\n",
    "##  t2kde and kde2hist dictionaries\n",
    "update_dict = model_t2hists_dict\n",
    "##print(\"updated_dict = \",updated_dict)\n",
    "## when starting \"ab initio\", reduce biases as the bias gets summed for each track\n",
    "## contributing to the predicted KDE\n",
    "'''\n",
    "\n",
    "\n",
    "'''\n",
    "updated_dict[\"layer1.bias\"] = 0.005*model_dict[\"layer1.bias\"]\n",
    "updated_dict[\"layer2.bias\"] = 0.005*model_dict[\"layer2.bias\"]\n",
    "updated_dict[\"layer3.bias\"] = 0.005*model_dict[\"layer3.bias\"]\n",
    "updated_dict[\"layer4.bias\"] = 0.005*model_dict[\"layer4.bias\"]\n",
    "updated_dict[\"layer5.bias\"] = 0.005*model_dict[\"layer5.bias\"]\n",
    "updated_dict[\"layer6.bias\"] = 0.005*model_dict[\"layer6.bias\"]\n",
    "updated_dict[\"layer7.bias\"] = 0.005*model_dict[\"layer7.bias\"]\n",
    "updated_dict[\"layer8.bias\"] = 0.005*model_dict[\"layer8.bias\"]\n",
    "updated_dict[\"layer9.bias\"] = 0.005*model_dict[\"layer9.bias\"]\n",
    "updated_dict[\"layer10.bias\"] = 0.005*model_dict[\"layer10.bias\"]\n",
    "updated_dict[\"layer11.bias\"] = 0.005*model_dict[\"layer11.bias\"]\n",
    "'''\n",
    "\n",
    "'''\n",
    "##model_t2hists.load_state_dict(updated_dict,strict=False)\n",
    "\n",
    "##model__t2hists_dict = model_t2hists.state_dict()\n",
    "\n",
    "## let's get the tracks-to-kde model here\n",
    "t2kde_folder = '25December__DDplus_loss_Ba_iter5_floatAll_800epochs_5em6'  ## really iter6, really Dec. 27\n",
    "t2kde_folder = '25December__DDplus_loss_Ba_iter7_floatAll_800epochs_4em6'\n",
    "t2kde_name = t2kde_folder\n",
    "suffix = 'final'\n",
    "t2kde_dict_name = 'ML/' + t2kde_folder + '/' + t2kde_name + '_'+ suffix + '.pyt'\n",
    "print('t2kde_dict_name = ',t2kde_dict_name)\n",
    "pretrained_t2kde_dict = torch.load(t2kde_dict_name)\n",
    "\n",
    "print(\" \\n\",\"  for t2kde_pretrained_dict\")\n",
    "index = 0\n",
    "for k,v in pretrained_t2kde_dict.items():\n",
    "    print(\"index, k =  \",index,\"  \",k)\n",
    "    index = index+1\n",
    "    \n",
    "    \n",
    "## let's get the hists-to-kde model here   \n",
    "kde2hists_folder = '02June2020_CNN5Layer_Ca_another200epochs_K'\n",
    "kde2hists_name = kde2hists_folder\n",
    "suffix = 'final'\n",
    "kde2hists_dict_name = 'ML/' + kde2hists_folder + '/' + kde2hists_name + '_'+ suffix + '.pyt'\n",
    "## mds dec28 print('kde2hists_dict_name = ',kde2hists_dict_name)\n",
    "pretrained_kde2hists_dict = torch.load(kde2hists_dict_name)\n",
    "\n",
    "print(\" \\n\",\"  for kde2hists_pretrained_dict\")\n",
    "index = 0\n",
    "for k,v in pretrained_kde2hists_dict.items():\n",
    "    print(\"index, k =  \",index,\"  \",k)\n",
    "    index = index+1\n",
    " \n",
    "\n",
    "\n",
    "##print(\"model_dict instantiated\")\n",
    "# 1. filter out unnecessary keys\n",
    "pretrained_dict = {k: v for k, v in pretrained_t2kde_dict.items() if k in model_t2hists_dict}\n",
    "## mds dec28 print(\"pretrained_dict iterated\")\n",
    "# 2. overwrite entries in the existing state dict\n",
    "model_t2hists_dict.update(pretrained_dict) \n",
    "\n",
    "update_dict[\"hist_conv1.weight\"] = pretrained_kde2hists_dict[\"conv1.weight\"]\n",
    "update_dict[\"hist_conv1.bias\"]   = pretrained_kde2hists_dict[\"conv1.bias\"]\n",
    "update_dict[\"hist_conv2.weight\"] = pretrained_kde2hists_dict[\"conv2.weight\"]\n",
    "update_dict[\"hist_conv2.bias\"]   = pretrained_kde2hists_dict[\"conv2.bias\"]\n",
    "update_dict[\"hist_conv3.weight\"] = pretrained_kde2hists_dict[\"conv3.weight\"]\n",
    "update_dict[\"hist_conv3.bias\"]   = pretrained_kde2hists_dict[\"conv3.bias\"]\n",
    "update_dict[\"hist_conv4.weight\"] = pretrained_kde2hists_dict[\"conv4.weight\"]\n",
    "update_dict[\"hist_conv4.bias\"]   = pretrained_kde2hists_dict[\"conv4.bias\"]\n",
    "update_dict[\"hist_conv5.weight\"] = pretrained_kde2hists_dict[\"conv5.weight\"]\n",
    "update_dict[\"hist_conv5.bias\"]   = pretrained_kde2hists_dict[\"conv5.bias\"]\n",
    "update_dict[\"hist_fc1.weight\"]   = pretrained_kde2hists_dict[\"fc1.weight\"]\n",
    "update_dict[\"hist_fc1.bias\"]     = pretrained_kde2hists_dict[\"fc1.bias\"]\n",
    "\n",
    "##model_t2hists.update(update_dict,strict=False)\n",
    "model_t2hists.load_state_dict(update_dict,strict=False)\n",
    "model_t2hists_dict = model_t2hists.state_dict()\n",
    "'''\n",
    "\n",
    "##\n",
    "#   when starting from a model with a fully connected last layer rather than a convolutional layer\n",
    "# 3. load the new state dict\n",
    "#   need to use strict=False as the two models state model attributes do not agree exactly\n",
    "#   see https://pytorch.org/docs/master/_modules/torch/nn/modules/module.html#Module.load_state_dict\n",
    "\n",
    "t2hists_folder = '10Jan2021_TracksToHists_B_Iter6B_10epochs_lr_1em6_b48_2p5_kde2hists_float_all_4x_will'\n",
    "t2hists_name = t2hists_folder\n",
    "suffix = 'final'\n",
    "t2hists_dict_name = 'ML/' + t2hists_folder + '/' +t2hists_name + '_'+ suffix + '.pyt'\n",
    "## mds dec28 print('kde2hists_dict_name = ',kde2hists_dict_name)\n",
    "pretrained_t2hists_dict = torch.load(t2hists_dict_name) \n",
    "\n",
    "model_t2hists.load_state_dict(pretrained_t2hists_dict,strict=False)\n",
    "\n",
    "##  print('model_t2hists_dict =    ', model_t2hists_dict)\n"
   ]
  },
  {
   "cell_type": "code",
   "execution_count": 12,
   "metadata": {},
   "outputs": [],
   "source": [
    "##print('validation.dataset.tensors = ',validation.dataset.tensors)\n",
    "fig_size = plt.rcParams[\"figure.figsize\"]\n",
    "fig_size[0] = 10\n",
    "fig_size[1] = 4\n",
    "plt.rcParams[\"figure.figsize\"] = fig_size"
   ]
  },
  {
   "cell_type": "code",
   "execution_count": 13,
   "metadata": {
    "scrolled": true
   },
   "outputs": [],
   "source": [
    "model = model_t2hists.to(device)"
   ]
  },
  {
   "cell_type": "code",
   "execution_count": 14,
   "metadata": {},
   "outputs": [
    {
     "data": {
      "application/javascript": [
       "/* Put everything inside the global mpl namespace */\n",
       "window.mpl = {};\n",
       "\n",
       "\n",
       "mpl.get_websocket_type = function() {\n",
       "    if (typeof(WebSocket) !== 'undefined') {\n",
       "        return WebSocket;\n",
       "    } else if (typeof(MozWebSocket) !== 'undefined') {\n",
       "        return MozWebSocket;\n",
       "    } else {\n",
       "        alert('Your browser does not have WebSocket support. ' +\n",
       "              'Please try Chrome, Safari or Firefox ≥ 6. ' +\n",
       "              'Firefox 4 and 5 are also supported but you ' +\n",
       "              'have to enable WebSockets in about:config.');\n",
       "    };\n",
       "}\n",
       "\n",
       "mpl.figure = function(figure_id, websocket, ondownload, parent_element) {\n",
       "    this.id = figure_id;\n",
       "\n",
       "    this.ws = websocket;\n",
       "\n",
       "    this.supports_binary = (this.ws.binaryType != undefined);\n",
       "\n",
       "    if (!this.supports_binary) {\n",
       "        var warnings = document.getElementById(\"mpl-warnings\");\n",
       "        if (warnings) {\n",
       "            warnings.style.display = 'block';\n",
       "            warnings.textContent = (\n",
       "                \"This browser does not support binary websocket messages. \" +\n",
       "                    \"Performance may be slow.\");\n",
       "        }\n",
       "    }\n",
       "\n",
       "    this.imageObj = new Image();\n",
       "\n",
       "    this.context = undefined;\n",
       "    this.message = undefined;\n",
       "    this.canvas = undefined;\n",
       "    this.rubberband_canvas = undefined;\n",
       "    this.rubberband_context = undefined;\n",
       "    this.format_dropdown = undefined;\n",
       "\n",
       "    this.image_mode = 'full';\n",
       "\n",
       "    this.root = $('<div/>');\n",
       "    this._root_extra_style(this.root)\n",
       "    this.root.attr('style', 'display: inline-block');\n",
       "\n",
       "    $(parent_element).append(this.root);\n",
       "\n",
       "    this._init_header(this);\n",
       "    this._init_canvas(this);\n",
       "    this._init_toolbar(this);\n",
       "\n",
       "    var fig = this;\n",
       "\n",
       "    this.waiting = false;\n",
       "\n",
       "    this.ws.onopen =  function () {\n",
       "            fig.send_message(\"supports_binary\", {value: fig.supports_binary});\n",
       "            fig.send_message(\"send_image_mode\", {});\n",
       "            if (mpl.ratio != 1) {\n",
       "                fig.send_message(\"set_dpi_ratio\", {'dpi_ratio': mpl.ratio});\n",
       "            }\n",
       "            fig.send_message(\"refresh\", {});\n",
       "        }\n",
       "\n",
       "    this.imageObj.onload = function() {\n",
       "            if (fig.image_mode == 'full') {\n",
       "                // Full images could contain transparency (where diff images\n",
       "                // almost always do), so we need to clear the canvas so that\n",
       "                // there is no ghosting.\n",
       "                fig.context.clearRect(0, 0, fig.canvas.width, fig.canvas.height);\n",
       "            }\n",
       "            fig.context.drawImage(fig.imageObj, 0, 0);\n",
       "        };\n",
       "\n",
       "    this.imageObj.onunload = function() {\n",
       "        fig.ws.close();\n",
       "    }\n",
       "\n",
       "    this.ws.onmessage = this._make_on_message_function(this);\n",
       "\n",
       "    this.ondownload = ondownload;\n",
       "}\n",
       "\n",
       "mpl.figure.prototype._init_header = function() {\n",
       "    var titlebar = $(\n",
       "        '<div class=\"ui-dialog-titlebar ui-widget-header ui-corner-all ' +\n",
       "        'ui-helper-clearfix\"/>');\n",
       "    var titletext = $(\n",
       "        '<div class=\"ui-dialog-title\" style=\"width: 100%; ' +\n",
       "        'text-align: center; padding: 3px;\"/>');\n",
       "    titlebar.append(titletext)\n",
       "    this.root.append(titlebar);\n",
       "    this.header = titletext[0];\n",
       "}\n",
       "\n",
       "\n",
       "\n",
       "mpl.figure.prototype._canvas_extra_style = function(canvas_div) {\n",
       "\n",
       "}\n",
       "\n",
       "\n",
       "mpl.figure.prototype._root_extra_style = function(canvas_div) {\n",
       "\n",
       "}\n",
       "\n",
       "mpl.figure.prototype._init_canvas = function() {\n",
       "    var fig = this;\n",
       "\n",
       "    var canvas_div = $('<div/>');\n",
       "\n",
       "    canvas_div.attr('style', 'position: relative; clear: both; outline: 0');\n",
       "\n",
       "    function canvas_keyboard_event(event) {\n",
       "        return fig.key_event(event, event['data']);\n",
       "    }\n",
       "\n",
       "    canvas_div.keydown('key_press', canvas_keyboard_event);\n",
       "    canvas_div.keyup('key_release', canvas_keyboard_event);\n",
       "    this.canvas_div = canvas_div\n",
       "    this._canvas_extra_style(canvas_div)\n",
       "    this.root.append(canvas_div);\n",
       "\n",
       "    var canvas = $('<canvas/>');\n",
       "    canvas.addClass('mpl-canvas');\n",
       "    canvas.attr('style', \"left: 0; top: 0; z-index: 0; outline: 0\")\n",
       "\n",
       "    this.canvas = canvas[0];\n",
       "    this.context = canvas[0].getContext(\"2d\");\n",
       "\n",
       "    var backingStore = this.context.backingStorePixelRatio ||\n",
       "\tthis.context.webkitBackingStorePixelRatio ||\n",
       "\tthis.context.mozBackingStorePixelRatio ||\n",
       "\tthis.context.msBackingStorePixelRatio ||\n",
       "\tthis.context.oBackingStorePixelRatio ||\n",
       "\tthis.context.backingStorePixelRatio || 1;\n",
       "\n",
       "    mpl.ratio = (window.devicePixelRatio || 1) / backingStore;\n",
       "\n",
       "    var rubberband = $('<canvas/>');\n",
       "    rubberband.attr('style', \"position: absolute; left: 0; top: 0; z-index: 1;\")\n",
       "\n",
       "    var pass_mouse_events = true;\n",
       "\n",
       "    canvas_div.resizable({\n",
       "        start: function(event, ui) {\n",
       "            pass_mouse_events = false;\n",
       "        },\n",
       "        resize: function(event, ui) {\n",
       "            fig.request_resize(ui.size.width, ui.size.height);\n",
       "        },\n",
       "        stop: function(event, ui) {\n",
       "            pass_mouse_events = true;\n",
       "            fig.request_resize(ui.size.width, ui.size.height);\n",
       "        },\n",
       "    });\n",
       "\n",
       "    function mouse_event_fn(event) {\n",
       "        if (pass_mouse_events)\n",
       "            return fig.mouse_event(event, event['data']);\n",
       "    }\n",
       "\n",
       "    rubberband.mousedown('button_press', mouse_event_fn);\n",
       "    rubberband.mouseup('button_release', mouse_event_fn);\n",
       "    // Throttle sequential mouse events to 1 every 20ms.\n",
       "    rubberband.mousemove('motion_notify', mouse_event_fn);\n",
       "\n",
       "    rubberband.mouseenter('figure_enter', mouse_event_fn);\n",
       "    rubberband.mouseleave('figure_leave', mouse_event_fn);\n",
       "\n",
       "    canvas_div.on(\"wheel\", function (event) {\n",
       "        event = event.originalEvent;\n",
       "        event['data'] = 'scroll'\n",
       "        if (event.deltaY < 0) {\n",
       "            event.step = 1;\n",
       "        } else {\n",
       "            event.step = -1;\n",
       "        }\n",
       "        mouse_event_fn(event);\n",
       "    });\n",
       "\n",
       "    canvas_div.append(canvas);\n",
       "    canvas_div.append(rubberband);\n",
       "\n",
       "    this.rubberband = rubberband;\n",
       "    this.rubberband_canvas = rubberband[0];\n",
       "    this.rubberband_context = rubberband[0].getContext(\"2d\");\n",
       "    this.rubberband_context.strokeStyle = \"#000000\";\n",
       "\n",
       "    this._resize_canvas = function(width, height) {\n",
       "        // Keep the size of the canvas, canvas container, and rubber band\n",
       "        // canvas in synch.\n",
       "        canvas_div.css('width', width)\n",
       "        canvas_div.css('height', height)\n",
       "\n",
       "        canvas.attr('width', width * mpl.ratio);\n",
       "        canvas.attr('height', height * mpl.ratio);\n",
       "        canvas.attr('style', 'width: ' + width + 'px; height: ' + height + 'px;');\n",
       "\n",
       "        rubberband.attr('width', width);\n",
       "        rubberband.attr('height', height);\n",
       "    }\n",
       "\n",
       "    // Set the figure to an initial 600x600px, this will subsequently be updated\n",
       "    // upon first draw.\n",
       "    this._resize_canvas(600, 600);\n",
       "\n",
       "    // Disable right mouse context menu.\n",
       "    $(this.rubberband_canvas).bind(\"contextmenu\",function(e){\n",
       "        return false;\n",
       "    });\n",
       "\n",
       "    function set_focus () {\n",
       "        canvas.focus();\n",
       "        canvas_div.focus();\n",
       "    }\n",
       "\n",
       "    window.setTimeout(set_focus, 100);\n",
       "}\n",
       "\n",
       "mpl.figure.prototype._init_toolbar = function() {\n",
       "    var fig = this;\n",
       "\n",
       "    var nav_element = $('<div/>');\n",
       "    nav_element.attr('style', 'width: 100%');\n",
       "    this.root.append(nav_element);\n",
       "\n",
       "    // Define a callback function for later on.\n",
       "    function toolbar_event(event) {\n",
       "        return fig.toolbar_button_onclick(event['data']);\n",
       "    }\n",
       "    function toolbar_mouse_event(event) {\n",
       "        return fig.toolbar_button_onmouseover(event['data']);\n",
       "    }\n",
       "\n",
       "    for(var toolbar_ind in mpl.toolbar_items) {\n",
       "        var name = mpl.toolbar_items[toolbar_ind][0];\n",
       "        var tooltip = mpl.toolbar_items[toolbar_ind][1];\n",
       "        var image = mpl.toolbar_items[toolbar_ind][2];\n",
       "        var method_name = mpl.toolbar_items[toolbar_ind][3];\n",
       "\n",
       "        if (!name) {\n",
       "            // put a spacer in here.\n",
       "            continue;\n",
       "        }\n",
       "        var button = $('<button/>');\n",
       "        button.addClass('ui-button ui-widget ui-state-default ui-corner-all ' +\n",
       "                        'ui-button-icon-only');\n",
       "        button.attr('role', 'button');\n",
       "        button.attr('aria-disabled', 'false');\n",
       "        button.click(method_name, toolbar_event);\n",
       "        button.mouseover(tooltip, toolbar_mouse_event);\n",
       "\n",
       "        var icon_img = $('<span/>');\n",
       "        icon_img.addClass('ui-button-icon-primary ui-icon');\n",
       "        icon_img.addClass(image);\n",
       "        icon_img.addClass('ui-corner-all');\n",
       "\n",
       "        var tooltip_span = $('<span/>');\n",
       "        tooltip_span.addClass('ui-button-text');\n",
       "        tooltip_span.html(tooltip);\n",
       "\n",
       "        button.append(icon_img);\n",
       "        button.append(tooltip_span);\n",
       "\n",
       "        nav_element.append(button);\n",
       "    }\n",
       "\n",
       "    var fmt_picker_span = $('<span/>');\n",
       "\n",
       "    var fmt_picker = $('<select/>');\n",
       "    fmt_picker.addClass('mpl-toolbar-option ui-widget ui-widget-content');\n",
       "    fmt_picker_span.append(fmt_picker);\n",
       "    nav_element.append(fmt_picker_span);\n",
       "    this.format_dropdown = fmt_picker[0];\n",
       "\n",
       "    for (var ind in mpl.extensions) {\n",
       "        var fmt = mpl.extensions[ind];\n",
       "        var option = $(\n",
       "            '<option/>', {selected: fmt === mpl.default_extension}).html(fmt);\n",
       "        fmt_picker.append(option);\n",
       "    }\n",
       "\n",
       "    // Add hover states to the ui-buttons\n",
       "    $( \".ui-button\" ).hover(\n",
       "        function() { $(this).addClass(\"ui-state-hover\");},\n",
       "        function() { $(this).removeClass(\"ui-state-hover\");}\n",
       "    );\n",
       "\n",
       "    var status_bar = $('<span class=\"mpl-message\"/>');\n",
       "    nav_element.append(status_bar);\n",
       "    this.message = status_bar[0];\n",
       "}\n",
       "\n",
       "mpl.figure.prototype.request_resize = function(x_pixels, y_pixels) {\n",
       "    // Request matplotlib to resize the figure. Matplotlib will then trigger a resize in the client,\n",
       "    // which will in turn request a refresh of the image.\n",
       "    this.send_message('resize', {'width': x_pixels, 'height': y_pixels});\n",
       "}\n",
       "\n",
       "mpl.figure.prototype.send_message = function(type, properties) {\n",
       "    properties['type'] = type;\n",
       "    properties['figure_id'] = this.id;\n",
       "    this.ws.send(JSON.stringify(properties));\n",
       "}\n",
       "\n",
       "mpl.figure.prototype.send_draw_message = function() {\n",
       "    if (!this.waiting) {\n",
       "        this.waiting = true;\n",
       "        this.ws.send(JSON.stringify({type: \"draw\", figure_id: this.id}));\n",
       "    }\n",
       "}\n",
       "\n",
       "\n",
       "mpl.figure.prototype.handle_save = function(fig, msg) {\n",
       "    var format_dropdown = fig.format_dropdown;\n",
       "    var format = format_dropdown.options[format_dropdown.selectedIndex].value;\n",
       "    fig.ondownload(fig, format);\n",
       "}\n",
       "\n",
       "\n",
       "mpl.figure.prototype.handle_resize = function(fig, msg) {\n",
       "    var size = msg['size'];\n",
       "    if (size[0] != fig.canvas.width || size[1] != fig.canvas.height) {\n",
       "        fig._resize_canvas(size[0], size[1]);\n",
       "        fig.send_message(\"refresh\", {});\n",
       "    };\n",
       "}\n",
       "\n",
       "mpl.figure.prototype.handle_rubberband = function(fig, msg) {\n",
       "    var x0 = msg['x0'] / mpl.ratio;\n",
       "    var y0 = (fig.canvas.height - msg['y0']) / mpl.ratio;\n",
       "    var x1 = msg['x1'] / mpl.ratio;\n",
       "    var y1 = (fig.canvas.height - msg['y1']) / mpl.ratio;\n",
       "    x0 = Math.floor(x0) + 0.5;\n",
       "    y0 = Math.floor(y0) + 0.5;\n",
       "    x1 = Math.floor(x1) + 0.5;\n",
       "    y1 = Math.floor(y1) + 0.5;\n",
       "    var min_x = Math.min(x0, x1);\n",
       "    var min_y = Math.min(y0, y1);\n",
       "    var width = Math.abs(x1 - x0);\n",
       "    var height = Math.abs(y1 - y0);\n",
       "\n",
       "    fig.rubberband_context.clearRect(\n",
       "        0, 0, fig.canvas.width / mpl.ratio, fig.canvas.height / mpl.ratio);\n",
       "\n",
       "    fig.rubberband_context.strokeRect(min_x, min_y, width, height);\n",
       "}\n",
       "\n",
       "mpl.figure.prototype.handle_figure_label = function(fig, msg) {\n",
       "    // Updates the figure title.\n",
       "    fig.header.textContent = msg['label'];\n",
       "}\n",
       "\n",
       "mpl.figure.prototype.handle_cursor = function(fig, msg) {\n",
       "    var cursor = msg['cursor'];\n",
       "    switch(cursor)\n",
       "    {\n",
       "    case 0:\n",
       "        cursor = 'pointer';\n",
       "        break;\n",
       "    case 1:\n",
       "        cursor = 'default';\n",
       "        break;\n",
       "    case 2:\n",
       "        cursor = 'crosshair';\n",
       "        break;\n",
       "    case 3:\n",
       "        cursor = 'move';\n",
       "        break;\n",
       "    }\n",
       "    fig.rubberband_canvas.style.cursor = cursor;\n",
       "}\n",
       "\n",
       "mpl.figure.prototype.handle_message = function(fig, msg) {\n",
       "    fig.message.textContent = msg['message'];\n",
       "}\n",
       "\n",
       "mpl.figure.prototype.handle_draw = function(fig, msg) {\n",
       "    // Request the server to send over a new figure.\n",
       "    fig.send_draw_message();\n",
       "}\n",
       "\n",
       "mpl.figure.prototype.handle_image_mode = function(fig, msg) {\n",
       "    fig.image_mode = msg['mode'];\n",
       "}\n",
       "\n",
       "mpl.figure.prototype.updated_canvas_event = function() {\n",
       "    // Called whenever the canvas gets updated.\n",
       "    this.send_message(\"ack\", {});\n",
       "}\n",
       "\n",
       "// A function to construct a web socket function for onmessage handling.\n",
       "// Called in the figure constructor.\n",
       "mpl.figure.prototype._make_on_message_function = function(fig) {\n",
       "    return function socket_on_message(evt) {\n",
       "        if (evt.data instanceof Blob) {\n",
       "            /* FIXME: We get \"Resource interpreted as Image but\n",
       "             * transferred with MIME type text/plain:\" errors on\n",
       "             * Chrome.  But how to set the MIME type?  It doesn't seem\n",
       "             * to be part of the websocket stream */\n",
       "            evt.data.type = \"image/png\";\n",
       "\n",
       "            /* Free the memory for the previous frames */\n",
       "            if (fig.imageObj.src) {\n",
       "                (window.URL || window.webkitURL).revokeObjectURL(\n",
       "                    fig.imageObj.src);\n",
       "            }\n",
       "\n",
       "            fig.imageObj.src = (window.URL || window.webkitURL).createObjectURL(\n",
       "                evt.data);\n",
       "            fig.updated_canvas_event();\n",
       "            fig.waiting = false;\n",
       "            return;\n",
       "        }\n",
       "        else if (typeof evt.data === 'string' && evt.data.slice(0, 21) == \"data:image/png;base64\") {\n",
       "            fig.imageObj.src = evt.data;\n",
       "            fig.updated_canvas_event();\n",
       "            fig.waiting = false;\n",
       "            return;\n",
       "        }\n",
       "\n",
       "        var msg = JSON.parse(evt.data);\n",
       "        var msg_type = msg['type'];\n",
       "\n",
       "        // Call the  \"handle_{type}\" callback, which takes\n",
       "        // the figure and JSON message as its only arguments.\n",
       "        try {\n",
       "            var callback = fig[\"handle_\" + msg_type];\n",
       "        } catch (e) {\n",
       "            console.log(\"No handler for the '\" + msg_type + \"' message type: \", msg);\n",
       "            return;\n",
       "        }\n",
       "\n",
       "        if (callback) {\n",
       "            try {\n",
       "                // console.log(\"Handling '\" + msg_type + \"' message: \", msg);\n",
       "                callback(fig, msg);\n",
       "            } catch (e) {\n",
       "                console.log(\"Exception inside the 'handler_\" + msg_type + \"' callback:\", e, e.stack, msg);\n",
       "            }\n",
       "        }\n",
       "    };\n",
       "}\n",
       "\n",
       "// from http://stackoverflow.com/questions/1114465/getting-mouse-location-in-canvas\n",
       "mpl.findpos = function(e) {\n",
       "    //this section is from http://www.quirksmode.org/js/events_properties.html\n",
       "    var targ;\n",
       "    if (!e)\n",
       "        e = window.event;\n",
       "    if (e.target)\n",
       "        targ = e.target;\n",
       "    else if (e.srcElement)\n",
       "        targ = e.srcElement;\n",
       "    if (targ.nodeType == 3) // defeat Safari bug\n",
       "        targ = targ.parentNode;\n",
       "\n",
       "    // jQuery normalizes the pageX and pageY\n",
       "    // pageX,Y are the mouse positions relative to the document\n",
       "    // offset() returns the position of the element relative to the document\n",
       "    var x = e.pageX - $(targ).offset().left;\n",
       "    var y = e.pageY - $(targ).offset().top;\n",
       "\n",
       "    return {\"x\": x, \"y\": y};\n",
       "};\n",
       "\n",
       "/*\n",
       " * return a copy of an object with only non-object keys\n",
       " * we need this to avoid circular references\n",
       " * http://stackoverflow.com/a/24161582/3208463\n",
       " */\n",
       "function simpleKeys (original) {\n",
       "  return Object.keys(original).reduce(function (obj, key) {\n",
       "    if (typeof original[key] !== 'object')\n",
       "        obj[key] = original[key]\n",
       "    return obj;\n",
       "  }, {});\n",
       "}\n",
       "\n",
       "mpl.figure.prototype.mouse_event = function(event, name) {\n",
       "    var canvas_pos = mpl.findpos(event)\n",
       "\n",
       "    if (name === 'button_press')\n",
       "    {\n",
       "        this.canvas.focus();\n",
       "        this.canvas_div.focus();\n",
       "    }\n",
       "\n",
       "    var x = canvas_pos.x * mpl.ratio;\n",
       "    var y = canvas_pos.y * mpl.ratio;\n",
       "\n",
       "    this.send_message(name, {x: x, y: y, button: event.button,\n",
       "                             step: event.step,\n",
       "                             guiEvent: simpleKeys(event)});\n",
       "\n",
       "    /* This prevents the web browser from automatically changing to\n",
       "     * the text insertion cursor when the button is pressed.  We want\n",
       "     * to control all of the cursor setting manually through the\n",
       "     * 'cursor' event from matplotlib */\n",
       "    event.preventDefault();\n",
       "    return false;\n",
       "}\n",
       "\n",
       "mpl.figure.prototype._key_event_extra = function(event, name) {\n",
       "    // Handle any extra behaviour associated with a key event\n",
       "}\n",
       "\n",
       "mpl.figure.prototype.key_event = function(event, name) {\n",
       "\n",
       "    // Prevent repeat events\n",
       "    if (name == 'key_press')\n",
       "    {\n",
       "        if (event.which === this._key)\n",
       "            return;\n",
       "        else\n",
       "            this._key = event.which;\n",
       "    }\n",
       "    if (name == 'key_release')\n",
       "        this._key = null;\n",
       "\n",
       "    var value = '';\n",
       "    if (event.ctrlKey && event.which != 17)\n",
       "        value += \"ctrl+\";\n",
       "    if (event.altKey && event.which != 18)\n",
       "        value += \"alt+\";\n",
       "    if (event.shiftKey && event.which != 16)\n",
       "        value += \"shift+\";\n",
       "\n",
       "    value += 'k';\n",
       "    value += event.which.toString();\n",
       "\n",
       "    this._key_event_extra(event, name);\n",
       "\n",
       "    this.send_message(name, {key: value,\n",
       "                             guiEvent: simpleKeys(event)});\n",
       "    return false;\n",
       "}\n",
       "\n",
       "mpl.figure.prototype.toolbar_button_onclick = function(name) {\n",
       "    if (name == 'download') {\n",
       "        this.handle_save(this, null);\n",
       "    } else {\n",
       "        this.send_message(\"toolbar_button\", {name: name});\n",
       "    }\n",
       "};\n",
       "\n",
       "mpl.figure.prototype.toolbar_button_onmouseover = function(tooltip) {\n",
       "    this.message.textContent = tooltip;\n",
       "};\n",
       "mpl.toolbar_items = [[\"Home\", \"Reset original view\", \"fa fa-home icon-home\", \"home\"], [\"Back\", \"Back to previous view\", \"fa fa-arrow-left icon-arrow-left\", \"back\"], [\"Forward\", \"Forward to next view\", \"fa fa-arrow-right icon-arrow-right\", \"forward\"], [\"\", \"\", \"\", \"\"], [\"Pan\", \"Pan axes with left mouse, zoom with right\", \"fa fa-arrows icon-move\", \"pan\"], [\"Zoom\", \"Zoom to rectangle\", \"fa fa-square-o icon-check-empty\", \"zoom\"], [\"\", \"\", \"\", \"\"], [\"Download\", \"Download plot\", \"fa fa-floppy-o icon-save\", \"download\"]];\n",
       "\n",
       "mpl.extensions = [\"eps\", \"jpeg\", \"pdf\", \"png\", \"ps\", \"raw\", \"svg\", \"tif\"];\n",
       "\n",
       "mpl.default_extension = \"png\";var comm_websocket_adapter = function(comm) {\n",
       "    // Create a \"websocket\"-like object which calls the given IPython comm\n",
       "    // object with the appropriate methods. Currently this is a non binary\n",
       "    // socket, so there is still some room for performance tuning.\n",
       "    var ws = {};\n",
       "\n",
       "    ws.close = function() {\n",
       "        comm.close()\n",
       "    };\n",
       "    ws.send = function(m) {\n",
       "        //console.log('sending', m);\n",
       "        comm.send(m);\n",
       "    };\n",
       "    // Register the callback with on_msg.\n",
       "    comm.on_msg(function(msg) {\n",
       "        //console.log('receiving', msg['content']['data'], msg);\n",
       "        // Pass the mpl event to the overridden (by mpl) onmessage function.\n",
       "        ws.onmessage(msg['content']['data'])\n",
       "    });\n",
       "    return ws;\n",
       "}\n",
       "\n",
       "mpl.mpl_figure_comm = function(comm, msg) {\n",
       "    // This is the function which gets called when the mpl process\n",
       "    // starts-up an IPython Comm through the \"matplotlib\" channel.\n",
       "\n",
       "    var id = msg.content.data.id;\n",
       "    // Get hold of the div created by the display call when the Comm\n",
       "    // socket was opened in Python.\n",
       "    var element = $(\"#\" + id);\n",
       "    var ws_proxy = comm_websocket_adapter(comm)\n",
       "\n",
       "    function ondownload(figure, format) {\n",
       "        window.open(figure.imageObj.src);\n",
       "    }\n",
       "\n",
       "    var fig = new mpl.figure(id, ws_proxy,\n",
       "                           ondownload,\n",
       "                           element.get(0));\n",
       "\n",
       "    // Call onopen now - mpl needs it, as it is assuming we've passed it a real\n",
       "    // web socket which is closed, not our websocket->open comm proxy.\n",
       "    ws_proxy.onopen();\n",
       "\n",
       "    fig.parent_element = element.get(0);\n",
       "    fig.cell_info = mpl.find_output_cell(\"<div id='\" + id + \"'></div>\");\n",
       "    if (!fig.cell_info) {\n",
       "        console.error(\"Failed to find cell for figure\", id, fig);\n",
       "        return;\n",
       "    }\n",
       "\n",
       "    var output_index = fig.cell_info[2]\n",
       "    var cell = fig.cell_info[0];\n",
       "\n",
       "};\n",
       "\n",
       "mpl.figure.prototype.handle_close = function(fig, msg) {\n",
       "    var width = fig.canvas.width/mpl.ratio\n",
       "    fig.root.unbind('remove')\n",
       "\n",
       "    // Update the output cell to use the data from the current canvas.\n",
       "    fig.push_to_output();\n",
       "    var dataURL = fig.canvas.toDataURL();\n",
       "    // Re-enable the keyboard manager in IPython - without this line, in FF,\n",
       "    // the notebook keyboard shortcuts fail.\n",
       "    IPython.keyboard_manager.enable()\n",
       "    $(fig.parent_element).html('<img src=\"' + dataURL + '\" width=\"' + width + '\">');\n",
       "    fig.close_ws(fig, msg);\n",
       "}\n",
       "\n",
       "mpl.figure.prototype.close_ws = function(fig, msg){\n",
       "    fig.send_message('closing', msg);\n",
       "    // fig.ws.close()\n",
       "}\n",
       "\n",
       "mpl.figure.prototype.push_to_output = function(remove_interactive) {\n",
       "    // Turn the data on the canvas into data in the output cell.\n",
       "    var width = this.canvas.width/mpl.ratio\n",
       "    var dataURL = this.canvas.toDataURL();\n",
       "    this.cell_info[1]['text/html'] = '<img src=\"' + dataURL + '\" width=\"' + width + '\">';\n",
       "}\n",
       "\n",
       "mpl.figure.prototype.updated_canvas_event = function() {\n",
       "    // Tell IPython that the notebook contents must change.\n",
       "    IPython.notebook.set_dirty(true);\n",
       "    this.send_message(\"ack\", {});\n",
       "    var fig = this;\n",
       "    // Wait a second, then push the new image to the DOM so\n",
       "    // that it is saved nicely (might be nice to debounce this).\n",
       "    setTimeout(function () { fig.push_to_output() }, 1000);\n",
       "}\n",
       "\n",
       "mpl.figure.prototype._init_toolbar = function() {\n",
       "    var fig = this;\n",
       "\n",
       "    var nav_element = $('<div/>');\n",
       "    nav_element.attr('style', 'width: 100%');\n",
       "    this.root.append(nav_element);\n",
       "\n",
       "    // Define a callback function for later on.\n",
       "    function toolbar_event(event) {\n",
       "        return fig.toolbar_button_onclick(event['data']);\n",
       "    }\n",
       "    function toolbar_mouse_event(event) {\n",
       "        return fig.toolbar_button_onmouseover(event['data']);\n",
       "    }\n",
       "\n",
       "    for(var toolbar_ind in mpl.toolbar_items){\n",
       "        var name = mpl.toolbar_items[toolbar_ind][0];\n",
       "        var tooltip = mpl.toolbar_items[toolbar_ind][1];\n",
       "        var image = mpl.toolbar_items[toolbar_ind][2];\n",
       "        var method_name = mpl.toolbar_items[toolbar_ind][3];\n",
       "\n",
       "        if (!name) { continue; };\n",
       "\n",
       "        var button = $('<button class=\"btn btn-default\" href=\"#\" title=\"' + name + '\"><i class=\"fa ' + image + ' fa-lg\"></i></button>');\n",
       "        button.click(method_name, toolbar_event);\n",
       "        button.mouseover(tooltip, toolbar_mouse_event);\n",
       "        nav_element.append(button);\n",
       "    }\n",
       "\n",
       "    // Add the status bar.\n",
       "    var status_bar = $('<span class=\"mpl-message\" style=\"text-align:right; float: right;\"/>');\n",
       "    nav_element.append(status_bar);\n",
       "    this.message = status_bar[0];\n",
       "\n",
       "    // Add the close button to the window.\n",
       "    var buttongrp = $('<div class=\"btn-group inline pull-right\"></div>');\n",
       "    var button = $('<button class=\"btn btn-mini btn-primary\" href=\"#\" title=\"Stop Interaction\"><i class=\"fa fa-power-off icon-remove icon-large\"></i></button>');\n",
       "    button.click(function (evt) { fig.handle_close(fig, {}); } );\n",
       "    button.mouseover('Stop Interaction', toolbar_mouse_event);\n",
       "    buttongrp.append(button);\n",
       "    var titlebar = this.root.find($('.ui-dialog-titlebar'));\n",
       "    titlebar.prepend(buttongrp);\n",
       "}\n",
       "\n",
       "mpl.figure.prototype._root_extra_style = function(el){\n",
       "    var fig = this\n",
       "    el.on(\"remove\", function(){\n",
       "\tfig.close_ws(fig, {});\n",
       "    });\n",
       "}\n",
       "\n",
       "mpl.figure.prototype._canvas_extra_style = function(el){\n",
       "    // this is important to make the div 'focusable\n",
       "    el.attr('tabindex', 0)\n",
       "    // reach out to IPython and tell the keyboard manager to turn it's self\n",
       "    // off when our div gets focus\n",
       "\n",
       "    // location in version 3\n",
       "    if (IPython.notebook.keyboard_manager) {\n",
       "        IPython.notebook.keyboard_manager.register_events(el);\n",
       "    }\n",
       "    else {\n",
       "        // location in version 2\n",
       "        IPython.keyboard_manager.register_events(el);\n",
       "    }\n",
       "\n",
       "}\n",
       "\n",
       "mpl.figure.prototype._key_event_extra = function(event, name) {\n",
       "    var manager = IPython.notebook.keyboard_manager;\n",
       "    if (!manager)\n",
       "        manager = IPython.keyboard_manager;\n",
       "\n",
       "    // Check for shift+enter\n",
       "    if (event.shiftKey && event.which == 13) {\n",
       "        this.canvas_div.blur();\n",
       "        // select the cell after this one\n",
       "        var index = IPython.notebook.find_cell_index(this.cell_info[0]);\n",
       "        IPython.notebook.select(index + 1);\n",
       "    }\n",
       "}\n",
       "\n",
       "mpl.figure.prototype.handle_save = function(fig, msg) {\n",
       "    fig.ondownload(fig, null);\n",
       "}\n",
       "\n",
       "\n",
       "mpl.find_output_cell = function(html_output) {\n",
       "    // Return the cell and output element which can be found *uniquely* in the notebook.\n",
       "    // Note - this is a bit hacky, but it is done because the \"notebook_saving.Notebook\"\n",
       "    // IPython event is triggered only after the cells have been serialised, which for\n",
       "    // our purposes (turning an active figure into a static one), is too late.\n",
       "    var cells = IPython.notebook.get_cells();\n",
       "    var ncells = cells.length;\n",
       "    for (var i=0; i<ncells; i++) {\n",
       "        var cell = cells[i];\n",
       "        if (cell.cell_type === 'code'){\n",
       "            for (var j=0; j<cell.output_area.outputs.length; j++) {\n",
       "                var data = cell.output_area.outputs[j];\n",
       "                if (data.data) {\n",
       "                    // IPython >= 3 moved mimebundle to data attribute of output\n",
       "                    data = data.data;\n",
       "                }\n",
       "                if (data['text/html'] == html_output) {\n",
       "                    return [cell, data, j];\n",
       "                }\n",
       "            }\n",
       "        }\n",
       "    }\n",
       "}\n",
       "\n",
       "// Register the function which deals with the matplotlib target/channel.\n",
       "// The kernel may be null if the page has been refreshed.\n",
       "if (IPython.notebook.kernel != null) {\n",
       "    IPython.notebook.kernel.comm_manager.register_target('matplotlib', mpl.mpl_figure_comm);\n",
       "}\n"
      ],
      "text/plain": [
       "<IPython.core.display.Javascript object>"
      ]
     },
     "metadata": {},
     "output_type": "display_data"
    },
    {
     "data": {
      "text/html": [
       "<img src=\"data:image/png;base64,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\" width=\"1000\">"
      ],
      "text/plain": [
       "<IPython.core.display.HTML object>"
      ]
     },
     "metadata": {},
     "output_type": "display_data"
    }
   ],
   "source": [
    "ax, tax, lax, lines = dual_train_plots()\n",
    "fig = ax.figure\n",
    "plt.tight_layout()"
   ]
  },
  {
   "cell_type": "code",
   "execution_count": 15,
   "metadata": {
    "scrolled": false
   },
   "outputs": [
    {
     "name": "stdout",
     "output_type": "stream",
     "text": [
      "Number of batches: train = 6667, val = 417\n"
     ]
    },
    {
     "data": {
      "application/vnd.jupyter.widget-view+json": {
       "model_id": "96996d651ed540d585e9cefbb171850e",
       "version_major": 2,
       "version_minor": 0
      },
      "text/plain": [
       "HBox(children=(FloatProgress(value=0.0, description='Epochs', layout=Layout(flex='2'), max=50.0, style=Progres…"
      ]
     },
     "metadata": {},
     "output_type": "display_data"
    },
    {
     "data": {
      "application/vnd.jupyter.widget-view+json": {
       "model_id": "",
       "version_major": 2,
       "version_minor": 0
      },
      "text/plain": [
       "HBox(children=(FloatProgress(value=0.0, description='Training', layout=Layout(flex='2'), max=6667.0, style=Pro…"
      ]
     },
     "metadata": {},
     "output_type": "display_data"
    },
    {
     "name": "stdout",
     "output_type": "stream",
     "text": [
      "Epoch 0: train=7.78503, val=7.09888, took 622.45 s\n",
      "  Validation Found 79881 of 108024, added 6940 (eff 73.95%) (0.347 FP/event)\n"
     ]
    },
    {
     "data": {
      "application/vnd.jupyter.widget-view+json": {
       "model_id": "",
       "version_major": 2,
       "version_minor": 0
      },
      "text/plain": [
       "HBox(children=(FloatProgress(value=0.0, description='Training', layout=Layout(flex='2'), max=6667.0, style=Pro…"
      ]
     },
     "metadata": {},
     "output_type": "display_data"
    },
    {
     "name": "stdout",
     "output_type": "stream",
     "text": [
      "Epoch 1: train=7.72906, val=6.92654, took 632.46 s\n",
      "  Validation Found 80255 of 108024, added 7142 (eff 74.29%) (0.357 FP/event)\n"
     ]
    },
    {
     "data": {
      "application/vnd.jupyter.widget-view+json": {
       "model_id": "",
       "version_major": 2,
       "version_minor": 0
      },
      "text/plain": [
       "HBox(children=(FloatProgress(value=0.0, description='Training', layout=Layout(flex='2'), max=6667.0, style=Pro…"
      ]
     },
     "metadata": {},
     "output_type": "display_data"
    },
    {
     "name": "stdout",
     "output_type": "stream",
     "text": [
      "Epoch 2: train=7.67879, val=6.87308, took 606.0 s\n",
      "  Validation Found 81268 of 108024, added 7509 (eff 75.23%) (0.375 FP/event)\n"
     ]
    },
    {
     "data": {
      "application/vnd.jupyter.widget-view+json": {
       "model_id": "",
       "version_major": 2,
       "version_minor": 0
      },
      "text/plain": [
       "HBox(children=(FloatProgress(value=0.0, description='Training', layout=Layout(flex='2'), max=6667.0, style=Pro…"
      ]
     },
     "metadata": {},
     "output_type": "display_data"
    },
    {
     "name": "stdout",
     "output_type": "stream",
     "text": [
      "Epoch 3: train=7.64032, val=6.99835, took 603.29 s\n",
      "  Validation Found 81284 of 108024, added 7552 (eff 75.25%) (0.378 FP/event)\n"
     ]
    },
    {
     "data": {
      "application/vnd.jupyter.widget-view+json": {
       "model_id": "",
       "version_major": 2,
       "version_minor": 0
      },
      "text/plain": [
       "HBox(children=(FloatProgress(value=0.0, description='Training', layout=Layout(flex='2'), max=6667.0, style=Pro…"
      ]
     },
     "metadata": {},
     "output_type": "display_data"
    },
    {
     "name": "stdout",
     "output_type": "stream",
     "text": [
      "Epoch 4: train=7.60906, val=6.9881, took 590.92 s\n",
      "  Validation Found 81427 of 108024, added 7744 (eff 75.38%) (0.387 FP/event)\n"
     ]
    },
    {
     "data": {
      "application/vnd.jupyter.widget-view+json": {
       "model_id": "",
       "version_major": 2,
       "version_minor": 0
      },
      "text/plain": [
       "HBox(children=(FloatProgress(value=0.0, description='Training', layout=Layout(flex='2'), max=6667.0, style=Pro…"
      ]
     },
     "metadata": {},
     "output_type": "display_data"
    },
    {
     "name": "stdout",
     "output_type": "stream",
     "text": [
      "Epoch 5: train=7.57044, val=6.86049, took 590.08 s\n",
      "  Validation Found 81666 of 108024, added 7835 (eff 75.60%) (0.392 FP/event)\n"
     ]
    },
    {
     "data": {
      "application/vnd.jupyter.widget-view+json": {
       "model_id": "",
       "version_major": 2,
       "version_minor": 0
      },
      "text/plain": [
       "HBox(children=(FloatProgress(value=0.0, description='Training', layout=Layout(flex='2'), max=6667.0, style=Pro…"
      ]
     },
     "metadata": {},
     "output_type": "display_data"
    },
    {
     "name": "stdout",
     "output_type": "stream",
     "text": [
      "Epoch 6: train=7.55078, val=6.84227, took 589.95 s\n",
      "  Validation Found 81757 of 108024, added 7741 (eff 75.68%) (0.387 FP/event)\n"
     ]
    },
    {
     "data": {
      "application/vnd.jupyter.widget-view+json": {
       "model_id": "",
       "version_major": 2,
       "version_minor": 0
      },
      "text/plain": [
       "HBox(children=(FloatProgress(value=0.0, description='Training', layout=Layout(flex='2'), max=6667.0, style=Pro…"
      ]
     },
     "metadata": {},
     "output_type": "display_data"
    },
    {
     "name": "stdout",
     "output_type": "stream",
     "text": [
      "Epoch 7: train=7.53077, val=6.80639, took 590.27 s\n",
      "  Validation Found 81705 of 108024, added 7836 (eff 75.64%) (0.392 FP/event)\n"
     ]
    },
    {
     "data": {
      "application/vnd.jupyter.widget-view+json": {
       "model_id": "",
       "version_major": 2,
       "version_minor": 0
      },
      "text/plain": [
       "HBox(children=(FloatProgress(value=0.0, description='Training', layout=Layout(flex='2'), max=6667.0, style=Pro…"
      ]
     },
     "metadata": {},
     "output_type": "display_data"
    },
    {
     "name": "stdout",
     "output_type": "stream",
     "text": [
      "Epoch 8: train=7.50682, val=7.58283, took 590.07 s\n",
      "  Validation Found 81227 of 108024, added 7961 (eff 75.19%) (0.398 FP/event)\n"
     ]
    },
    {
     "data": {
      "application/vnd.jupyter.widget-view+json": {
       "model_id": "",
       "version_major": 2,
       "version_minor": 0
      },
      "text/plain": [
       "HBox(children=(FloatProgress(value=0.0, description='Training', layout=Layout(flex='2'), max=6667.0, style=Pro…"
      ]
     },
     "metadata": {},
     "output_type": "display_data"
    },
    {
     "name": "stdout",
     "output_type": "stream",
     "text": [
      "Epoch 9: train=7.48912, val=6.71511, took 590.74 s\n",
      "  Validation Found 81420 of 108024, added 7511 (eff 75.37%) (0.376 FP/event)\n"
     ]
    },
    {
     "data": {
      "application/vnd.jupyter.widget-view+json": {
       "model_id": "",
       "version_major": 2,
       "version_minor": 0
      },
      "text/plain": [
       "HBox(children=(FloatProgress(value=0.0, description='Training', layout=Layout(flex='2'), max=6667.0, style=Pro…"
      ]
     },
     "metadata": {},
     "output_type": "display_data"
    },
    {
     "name": "stdout",
     "output_type": "stream",
     "text": [
      "Epoch 10: train=7.46339, val=6.71307, took 590.29 s\n",
      "  Validation Found 82247 of 108024, added 7930 (eff 76.14%) (0.396 FP/event)\n"
     ]
    },
    {
     "data": {
      "application/vnd.jupyter.widget-view+json": {
       "model_id": "",
       "version_major": 2,
       "version_minor": 0
      },
      "text/plain": [
       "HBox(children=(FloatProgress(value=0.0, description='Training', layout=Layout(flex='2'), max=6667.0, style=Pro…"
      ]
     },
     "metadata": {},
     "output_type": "display_data"
    },
    {
     "name": "stdout",
     "output_type": "stream",
     "text": [
      "Epoch 11: train=7.44772, val=6.74693, took 590.66 s\n",
      "  Validation Found 82409 of 108024, added 7983 (eff 76.29%) (0.399 FP/event)\n"
     ]
    },
    {
     "data": {
      "application/vnd.jupyter.widget-view+json": {
       "model_id": "",
       "version_major": 2,
       "version_minor": 0
      },
      "text/plain": [
       "HBox(children=(FloatProgress(value=0.0, description='Training', layout=Layout(flex='2'), max=6667.0, style=Pro…"
      ]
     },
     "metadata": {},
     "output_type": "display_data"
    },
    {
     "name": "stdout",
     "output_type": "stream",
     "text": [
      "Epoch 12: train=7.43377, val=6.66219, took 590.23 s\n",
      "  Validation Found 82312 of 108024, added 8010 (eff 76.20%) (0.4 FP/event)\n"
     ]
    },
    {
     "data": {
      "application/vnd.jupyter.widget-view+json": {
       "model_id": "",
       "version_major": 2,
       "version_minor": 0
      },
      "text/plain": [
       "HBox(children=(FloatProgress(value=0.0, description='Training', layout=Layout(flex='2'), max=6667.0, style=Pro…"
      ]
     },
     "metadata": {},
     "output_type": "display_data"
    },
    {
     "name": "stdout",
     "output_type": "stream",
     "text": [
      "Epoch 13: train=7.42688, val=6.70071, took 590.31 s\n",
      "  Validation Found 82509 of 108024, added 8130 (eff 76.38%) (0.406 FP/event)\n"
     ]
    },
    {
     "data": {
      "application/vnd.jupyter.widget-view+json": {
       "model_id": "",
       "version_major": 2,
       "version_minor": 0
      },
      "text/plain": [
       "HBox(children=(FloatProgress(value=0.0, description='Training', layout=Layout(flex='2'), max=6667.0, style=Pro…"
      ]
     },
     "metadata": {},
     "output_type": "display_data"
    },
    {
     "name": "stdout",
     "output_type": "stream",
     "text": [
      "Epoch 14: train=7.40734, val=6.69104, took 589.82 s\n",
      "  Validation Found 82433 of 108024, added 7995 (eff 76.31%) (0.4 FP/event)\n"
     ]
    },
    {
     "data": {
      "application/vnd.jupyter.widget-view+json": {
       "model_id": "",
       "version_major": 2,
       "version_minor": 0
      },
      "text/plain": [
       "HBox(children=(FloatProgress(value=0.0, description='Training', layout=Layout(flex='2'), max=6667.0, style=Pro…"
      ]
     },
     "metadata": {},
     "output_type": "display_data"
    },
    {
     "name": "stdout",
     "output_type": "stream",
     "text": [
      "Epoch 15: train=7.39577, val=6.65416, took 590.26 s\n",
      "  Validation Found 82234 of 108024, added 7787 (eff 76.13%) (0.389 FP/event)\n"
     ]
    },
    {
     "data": {
      "application/vnd.jupyter.widget-view+json": {
       "model_id": "",
       "version_major": 2,
       "version_minor": 0
      },
      "text/plain": [
       "HBox(children=(FloatProgress(value=0.0, description='Training', layout=Layout(flex='2'), max=6667.0, style=Pro…"
      ]
     },
     "metadata": {},
     "output_type": "display_data"
    },
    {
     "name": "stdout",
     "output_type": "stream",
     "text": [
      "Epoch 16: train=7.37767, val=6.69364, took 590.47 s\n",
      "  Validation Found 81913 of 108024, added 7605 (eff 75.83%) (0.38 FP/event)\n"
     ]
    },
    {
     "data": {
      "application/vnd.jupyter.widget-view+json": {
       "model_id": "",
       "version_major": 2,
       "version_minor": 0
      },
      "text/plain": [
       "HBox(children=(FloatProgress(value=0.0, description='Training', layout=Layout(flex='2'), max=6667.0, style=Pro…"
      ]
     },
     "metadata": {},
     "output_type": "display_data"
    },
    {
     "name": "stdout",
     "output_type": "stream",
     "text": [
      "Epoch 17: train=7.37116, val=6.61508, took 590.44 s\n",
      "  Validation Found 82437 of 108024, added 7953 (eff 76.31%) (0.398 FP/event)\n"
     ]
    },
    {
     "data": {
      "application/vnd.jupyter.widget-view+json": {
       "model_id": "",
       "version_major": 2,
       "version_minor": 0
      },
      "text/plain": [
       "HBox(children=(FloatProgress(value=0.0, description='Training', layout=Layout(flex='2'), max=6667.0, style=Pro…"
      ]
     },
     "metadata": {},
     "output_type": "display_data"
    },
    {
     "name": "stdout",
     "output_type": "stream",
     "text": [
      "Epoch 18: train=7.35645, val=7.15004, took 590.33 s\n",
      "  Validation Found 82627 of 108024, added 8263 (eff 76.49%) (0.413 FP/event)\n"
     ]
    },
    {
     "data": {
      "application/vnd.jupyter.widget-view+json": {
       "model_id": "",
       "version_major": 2,
       "version_minor": 0
      },
      "text/plain": [
       "HBox(children=(FloatProgress(value=0.0, description='Training', layout=Layout(flex='2'), max=6667.0, style=Pro…"
      ]
     },
     "metadata": {},
     "output_type": "display_data"
    },
    {
     "name": "stdout",
     "output_type": "stream",
     "text": [
      "Epoch 19: train=7.34526, val=6.75836, took 590.14 s\n",
      "  Validation Found 82226 of 108024, added 7816 (eff 76.12%) (0.391 FP/event)\n"
     ]
    },
    {
     "data": {
      "application/vnd.jupyter.widget-view+json": {
       "model_id": "",
       "version_major": 2,
       "version_minor": 0
      },
      "text/plain": [
       "HBox(children=(FloatProgress(value=0.0, description='Training', layout=Layout(flex='2'), max=6667.0, style=Pro…"
      ]
     },
     "metadata": {},
     "output_type": "display_data"
    },
    {
     "name": "stdout",
     "output_type": "stream",
     "text": [
      "Epoch 20: train=7.33653, val=6.64545, took 590.22 s\n",
      "  Validation Found 83096 of 108024, added 8119 (eff 76.92%) (0.406 FP/event)\n"
     ]
    },
    {
     "data": {
      "application/vnd.jupyter.widget-view+json": {
       "model_id": "",
       "version_major": 2,
       "version_minor": 0
      },
      "text/plain": [
       "HBox(children=(FloatProgress(value=0.0, description='Training', layout=Layout(flex='2'), max=6667.0, style=Pro…"
      ]
     },
     "metadata": {},
     "output_type": "display_data"
    },
    {
     "name": "stdout",
     "output_type": "stream",
     "text": [
      "Epoch 21: train=7.32396, val=7.00487, took 590.5 s\n",
      "  Validation Found 82497 of 108024, added 8188 (eff 76.37%) (0.409 FP/event)\n"
     ]
    },
    {
     "data": {
      "application/vnd.jupyter.widget-view+json": {
       "model_id": "",
       "version_major": 2,
       "version_minor": 0
      },
      "text/plain": [
       "HBox(children=(FloatProgress(value=0.0, description='Training', layout=Layout(flex='2'), max=6667.0, style=Pro…"
      ]
     },
     "metadata": {},
     "output_type": "display_data"
    },
    {
     "name": "stdout",
     "output_type": "stream",
     "text": [
      "Epoch 22: train=7.3096, val=6.56796, took 590.22 s\n",
      "  Validation Found 82584 of 108024, added 7950 (eff 76.45%) (0.397 FP/event)\n"
     ]
    },
    {
     "data": {
      "application/vnd.jupyter.widget-view+json": {
       "model_id": "",
       "version_major": 2,
       "version_minor": 0
      },
      "text/plain": [
       "HBox(children=(FloatProgress(value=0.0, description='Training', layout=Layout(flex='2'), max=6667.0, style=Pro…"
      ]
     },
     "metadata": {},
     "output_type": "display_data"
    },
    {
     "name": "stdout",
     "output_type": "stream",
     "text": [
      "Epoch 23: train=7.30236, val=6.61746, took 590.48 s\n",
      "  Validation Found 83219 of 108024, added 8193 (eff 77.04%) (0.41 FP/event)\n"
     ]
    },
    {
     "data": {
      "application/vnd.jupyter.widget-view+json": {
       "model_id": "",
       "version_major": 2,
       "version_minor": 0
      },
      "text/plain": [
       "HBox(children=(FloatProgress(value=0.0, description='Training', layout=Layout(flex='2'), max=6667.0, style=Pro…"
      ]
     },
     "metadata": {},
     "output_type": "display_data"
    },
    {
     "name": "stdout",
     "output_type": "stream",
     "text": [
      "Epoch 24: train=7.29171, val=6.60841, took 590.05 s\n",
      "  Validation Found 82869 of 108024, added 7989 (eff 76.71%) (0.399 FP/event)\n"
     ]
    },
    {
     "data": {
      "application/vnd.jupyter.widget-view+json": {
       "model_id": "",
       "version_major": 2,
       "version_minor": 0
      },
      "text/plain": [
       "HBox(children=(FloatProgress(value=0.0, description='Training', layout=Layout(flex='2'), max=6667.0, style=Pro…"
      ]
     },
     "metadata": {},
     "output_type": "display_data"
    },
    {
     "name": "stdout",
     "output_type": "stream",
     "text": [
      "Epoch 25: train=7.29112, val=6.53585, took 590.12 s\n",
      "  Validation Found 83353 of 108024, added 8139 (eff 77.16%) (0.407 FP/event)\n"
     ]
    },
    {
     "data": {
      "application/vnd.jupyter.widget-view+json": {
       "model_id": "",
       "version_major": 2,
       "version_minor": 0
      },
      "text/plain": [
       "HBox(children=(FloatProgress(value=0.0, description='Training', layout=Layout(flex='2'), max=6667.0, style=Pro…"
      ]
     },
     "metadata": {},
     "output_type": "display_data"
    },
    {
     "name": "stdout",
     "output_type": "stream",
     "text": [
      "Epoch 26: train=7.27765, val=6.62812, took 590.0 s\n",
      "  Validation Found 82734 of 108024, added 8018 (eff 76.59%) (0.401 FP/event)\n"
     ]
    },
    {
     "data": {
      "application/vnd.jupyter.widget-view+json": {
       "model_id": "",
       "version_major": 2,
       "version_minor": 0
      },
      "text/plain": [
       "HBox(children=(FloatProgress(value=0.0, description='Training', layout=Layout(flex='2'), max=6667.0, style=Pro…"
      ]
     },
     "metadata": {},
     "output_type": "display_data"
    },
    {
     "name": "stdout",
     "output_type": "stream",
     "text": [
      "Epoch 27: train=7.26847, val=6.54557, took 590.78 s\n",
      "  Validation Found 82985 of 108024, added 8022 (eff 76.82%) (0.401 FP/event)\n"
     ]
    },
    {
     "data": {
      "application/vnd.jupyter.widget-view+json": {
       "model_id": "",
       "version_major": 2,
       "version_minor": 0
      },
      "text/plain": [
       "HBox(children=(FloatProgress(value=0.0, description='Training', layout=Layout(flex='2'), max=6667.0, style=Pro…"
      ]
     },
     "metadata": {},
     "output_type": "display_data"
    },
    {
     "name": "stdout",
     "output_type": "stream",
     "text": [
      "Epoch 28: train=7.25861, val=6.9479, took 590.01 s\n",
      "  Validation Found 82853 of 108024, added 8152 (eff 76.70%) (0.408 FP/event)\n"
     ]
    },
    {
     "data": {
      "application/vnd.jupyter.widget-view+json": {
       "model_id": "",
       "version_major": 2,
       "version_minor": 0
      },
      "text/plain": [
       "HBox(children=(FloatProgress(value=0.0, description='Training', layout=Layout(flex='2'), max=6667.0, style=Pro…"
      ]
     },
     "metadata": {},
     "output_type": "display_data"
    },
    {
     "name": "stdout",
     "output_type": "stream",
     "text": [
      "Epoch 29: train=7.24965, val=6.69607, took 590.18 s\n",
      "  Validation Found 83390 of 108024, added 8343 (eff 77.20%) (0.417 FP/event)\n"
     ]
    },
    {
     "data": {
      "application/vnd.jupyter.widget-view+json": {
       "model_id": "",
       "version_major": 2,
       "version_minor": 0
      },
      "text/plain": [
       "HBox(children=(FloatProgress(value=0.0, description='Training', layout=Layout(flex='2'), max=6667.0, style=Pro…"
      ]
     },
     "metadata": {},
     "output_type": "display_data"
    },
    {
     "name": "stdout",
     "output_type": "stream",
     "text": [
      "Epoch 30: train=7.24031, val=6.5381, took 590.31 s\n",
      "  Validation Found 84061 of 108024, added 8399 (eff 77.82%) (0.42 FP/event)\n"
     ]
    },
    {
     "data": {
      "application/vnd.jupyter.widget-view+json": {
       "model_id": "",
       "version_major": 2,
       "version_minor": 0
      },
      "text/plain": [
       "HBox(children=(FloatProgress(value=0.0, description='Training', layout=Layout(flex='2'), max=6667.0, style=Pro…"
      ]
     },
     "metadata": {},
     "output_type": "display_data"
    },
    {
     "name": "stdout",
     "output_type": "stream",
     "text": [
      "Epoch 31: train=7.23372, val=6.56146, took 590.06 s\n",
      "  Validation Found 83300 of 108024, added 8112 (eff 77.11%) (0.406 FP/event)\n"
     ]
    },
    {
     "data": {
      "application/vnd.jupyter.widget-view+json": {
       "model_id": "",
       "version_major": 2,
       "version_minor": 0
      },
      "text/plain": [
       "HBox(children=(FloatProgress(value=0.0, description='Training', layout=Layout(flex='2'), max=6667.0, style=Pro…"
      ]
     },
     "metadata": {},
     "output_type": "display_data"
    },
    {
     "name": "stdout",
     "output_type": "stream",
     "text": [
      "Epoch 32: train=7.22425, val=6.51222, took 590.55 s\n",
      "  Validation Found 83054 of 108024, added 7989 (eff 76.88%) (0.399 FP/event)\n"
     ]
    },
    {
     "data": {
      "application/vnd.jupyter.widget-view+json": {
       "model_id": "",
       "version_major": 2,
       "version_minor": 0
      },
      "text/plain": [
       "HBox(children=(FloatProgress(value=0.0, description='Training', layout=Layout(flex='2'), max=6667.0, style=Pro…"
      ]
     },
     "metadata": {},
     "output_type": "display_data"
    },
    {
     "name": "stdout",
     "output_type": "stream",
     "text": [
      "Epoch 33: train=7.22016, val=6.55043, took 590.04 s\n",
      "  Validation Found 83449 of 108024, added 8185 (eff 77.25%) (0.409 FP/event)\n"
     ]
    },
    {
     "data": {
      "application/vnd.jupyter.widget-view+json": {
       "model_id": "",
       "version_major": 2,
       "version_minor": 0
      },
      "text/plain": [
       "HBox(children=(FloatProgress(value=0.0, description='Training', layout=Layout(flex='2'), max=6667.0, style=Pro…"
      ]
     },
     "metadata": {},
     "output_type": "display_data"
    },
    {
     "name": "stdout",
     "output_type": "stream",
     "text": [
      "Epoch 34: train=7.20993, val=6.67891, took 590.01 s\n",
      "  Validation Found 83657 of 108024, added 8199 (eff 77.44%) (0.41 FP/event)\n"
     ]
    },
    {
     "data": {
      "application/vnd.jupyter.widget-view+json": {
       "model_id": "",
       "version_major": 2,
       "version_minor": 0
      },
      "text/plain": [
       "HBox(children=(FloatProgress(value=0.0, description='Training', layout=Layout(flex='2'), max=6667.0, style=Pro…"
      ]
     },
     "metadata": {},
     "output_type": "display_data"
    },
    {
     "name": "stdout",
     "output_type": "stream",
     "text": [
      "Epoch 35: train=7.20377, val=6.46964, took 590.17 s\n",
      "  Validation Found 83809 of 108024, added 8244 (eff 77.58%) (0.412 FP/event)\n"
     ]
    },
    {
     "data": {
      "application/vnd.jupyter.widget-view+json": {
       "model_id": "",
       "version_major": 2,
       "version_minor": 0
      },
      "text/plain": [
       "HBox(children=(FloatProgress(value=0.0, description='Training', layout=Layout(flex='2'), max=6667.0, style=Pro…"
      ]
     },
     "metadata": {},
     "output_type": "display_data"
    },
    {
     "name": "stdout",
     "output_type": "stream",
     "text": [
      "Epoch 36: train=7.19908, val=6.52373, took 590.64 s\n",
      "  Validation Found 83635 of 108024, added 8235 (eff 77.42%) (0.412 FP/event)\n"
     ]
    },
    {
     "data": {
      "application/vnd.jupyter.widget-view+json": {
       "model_id": "",
       "version_major": 2,
       "version_minor": 0
      },
      "text/plain": [
       "HBox(children=(FloatProgress(value=0.0, description='Training', layout=Layout(flex='2'), max=6667.0, style=Pro…"
      ]
     },
     "metadata": {},
     "output_type": "display_data"
    },
    {
     "name": "stdout",
     "output_type": "stream",
     "text": [
      "Epoch 37: train=7.18553, val=6.72806, took 590.34 s\n",
      "  Validation Found 83728 of 108024, added 8323 (eff 77.51%) (0.416 FP/event)\n"
     ]
    },
    {
     "data": {
      "application/vnd.jupyter.widget-view+json": {
       "model_id": "",
       "version_major": 2,
       "version_minor": 0
      },
      "text/plain": [
       "HBox(children=(FloatProgress(value=0.0, description='Training', layout=Layout(flex='2'), max=6667.0, style=Pro…"
      ]
     },
     "metadata": {},
     "output_type": "display_data"
    },
    {
     "name": "stdout",
     "output_type": "stream",
     "text": [
      "Epoch 38: train=7.18328, val=6.51281, took 590.54 s\n",
      "  Validation Found 83520 of 108024, added 8217 (eff 77.32%) (0.411 FP/event)\n"
     ]
    },
    {
     "data": {
      "application/vnd.jupyter.widget-view+json": {
       "model_id": "",
       "version_major": 2,
       "version_minor": 0
      },
      "text/plain": [
       "HBox(children=(FloatProgress(value=0.0, description='Training', layout=Layout(flex='2'), max=6667.0, style=Pro…"
      ]
     },
     "metadata": {},
     "output_type": "display_data"
    },
    {
     "name": "stdout",
     "output_type": "stream",
     "text": [
      "Epoch 39: train=7.17589, val=6.45862, took 590.39 s\n",
      "  Validation Found 83735 of 108024, added 8187 (eff 77.52%) (0.409 FP/event)\n"
     ]
    },
    {
     "data": {
      "application/vnd.jupyter.widget-view+json": {
       "model_id": "",
       "version_major": 2,
       "version_minor": 0
      },
      "text/plain": [
       "HBox(children=(FloatProgress(value=0.0, description='Training', layout=Layout(flex='2'), max=6667.0, style=Pro…"
      ]
     },
     "metadata": {},
     "output_type": "display_data"
    },
    {
     "name": "stdout",
     "output_type": "stream",
     "text": [
      "Epoch 40: train=7.17069, val=6.5043, took 590.46 s\n",
      "  Validation Found 83549 of 108024, added 8110 (eff 77.34%) (0.405 FP/event)\n"
     ]
    },
    {
     "data": {
      "application/vnd.jupyter.widget-view+json": {
       "model_id": "",
       "version_major": 2,
       "version_minor": 0
      },
      "text/plain": [
       "HBox(children=(FloatProgress(value=0.0, description='Training', layout=Layout(flex='2'), max=6667.0, style=Pro…"
      ]
     },
     "metadata": {},
     "output_type": "display_data"
    },
    {
     "name": "stdout",
     "output_type": "stream",
     "text": [
      "Epoch 41: train=7.16115, val=6.73041, took 590.72 s\n",
      "  Validation Found 83813 of 108024, added 8345 (eff 77.59%) (0.417 FP/event)\n"
     ]
    },
    {
     "data": {
      "application/vnd.jupyter.widget-view+json": {
       "model_id": "",
       "version_major": 2,
       "version_minor": 0
      },
      "text/plain": [
       "HBox(children=(FloatProgress(value=0.0, description='Training', layout=Layout(flex='2'), max=6667.0, style=Pro…"
      ]
     },
     "metadata": {},
     "output_type": "display_data"
    },
    {
     "name": "stdout",
     "output_type": "stream",
     "text": [
      "Epoch 42: train=7.15162, val=6.42452, took 590.5 s\n",
      "  Validation Found 83379 of 108024, added 7987 (eff 77.19%) (0.399 FP/event)\n"
     ]
    },
    {
     "data": {
      "application/vnd.jupyter.widget-view+json": {
       "model_id": "",
       "version_major": 2,
       "version_minor": 0
      },
      "text/plain": [
       "HBox(children=(FloatProgress(value=0.0, description='Training', layout=Layout(flex='2'), max=6667.0, style=Pro…"
      ]
     },
     "metadata": {},
     "output_type": "display_data"
    },
    {
     "name": "stdout",
     "output_type": "stream",
     "text": [
      "Epoch 43: train=7.14651, val=6.49834, took 590.6 s\n",
      "  Validation Found 84184 of 108024, added 8398 (eff 77.93%) (0.42 FP/event)\n"
     ]
    },
    {
     "data": {
      "application/vnd.jupyter.widget-view+json": {
       "model_id": "",
       "version_major": 2,
       "version_minor": 0
      },
      "text/plain": [
       "HBox(children=(FloatProgress(value=0.0, description='Training', layout=Layout(flex='2'), max=6667.0, style=Pro…"
      ]
     },
     "metadata": {},
     "output_type": "display_data"
    },
    {
     "name": "stdout",
     "output_type": "stream",
     "text": [
      "Epoch 44: train=7.14275, val=6.54003, took 590.57 s\n",
      "  Validation Found 82711 of 108024, added 7867 (eff 76.57%) (0.393 FP/event)\n"
     ]
    },
    {
     "data": {
      "application/vnd.jupyter.widget-view+json": {
       "model_id": "",
       "version_major": 2,
       "version_minor": 0
      },
      "text/plain": [
       "HBox(children=(FloatProgress(value=0.0, description='Training', layout=Layout(flex='2'), max=6667.0, style=Pro…"
      ]
     },
     "metadata": {},
     "output_type": "display_data"
    },
    {
     "name": "stdout",
     "output_type": "stream",
     "text": [
      "Epoch 45: train=7.13925, val=6.47275, took 590.83 s\n",
      "  Validation Found 83981 of 108024, added 8373 (eff 77.74%) (0.419 FP/event)\n"
     ]
    },
    {
     "data": {
      "application/vnd.jupyter.widget-view+json": {
       "model_id": "",
       "version_major": 2,
       "version_minor": 0
      },
      "text/plain": [
       "HBox(children=(FloatProgress(value=0.0, description='Training', layout=Layout(flex='2'), max=6667.0, style=Pro…"
      ]
     },
     "metadata": {},
     "output_type": "display_data"
    },
    {
     "name": "stdout",
     "output_type": "stream",
     "text": [
      "Epoch 46: train=7.13212, val=6.42142, took 589.89 s\n",
      "  Validation Found 83930 of 108024, added 8159 (eff 77.70%) (0.408 FP/event)\n"
     ]
    },
    {
     "data": {
      "application/vnd.jupyter.widget-view+json": {
       "model_id": "",
       "version_major": 2,
       "version_minor": 0
      },
      "text/plain": [
       "HBox(children=(FloatProgress(value=0.0, description='Training', layout=Layout(flex='2'), max=6667.0, style=Pro…"
      ]
     },
     "metadata": {},
     "output_type": "display_data"
    },
    {
     "name": "stdout",
     "output_type": "stream",
     "text": [
      "Epoch 47: train=7.1254, val=6.54076, took 590.53 s\n",
      "  Validation Found 83860 of 108024, added 8296 (eff 77.63%) (0.415 FP/event)\n"
     ]
    },
    {
     "data": {
      "application/vnd.jupyter.widget-view+json": {
       "model_id": "",
       "version_major": 2,
       "version_minor": 0
      },
      "text/plain": [
       "HBox(children=(FloatProgress(value=0.0, description='Training', layout=Layout(flex='2'), max=6667.0, style=Pro…"
      ]
     },
     "metadata": {},
     "output_type": "display_data"
    },
    {
     "name": "stdout",
     "output_type": "stream",
     "text": [
      "Epoch 48: train=7.1187, val=6.55141, took 589.96 s\n",
      "  Validation Found 84431 of 108024, added 8451 (eff 78.16%) (0.423 FP/event)\n"
     ]
    },
    {
     "data": {
      "application/vnd.jupyter.widget-view+json": {
       "model_id": "",
       "version_major": 2,
       "version_minor": 0
      },
      "text/plain": [
       "HBox(children=(FloatProgress(value=0.0, description='Training', layout=Layout(flex='2'), max=6667.0, style=Pro…"
      ]
     },
     "metadata": {},
     "output_type": "display_data"
    },
    {
     "name": "stdout",
     "output_type": "stream",
     "text": [
      "Epoch 49: train=7.11375, val=6.42369, took 590.24 s\n",
      "  Validation Found 84293 of 108024, added 8281 (eff 78.03%) (0.414 FP/event)\n",
      "\n"
     ]
    }
   ],
   "source": [
    "for result in trainNet(model, optimizer, loss,\n",
    "                        train_loader, val_loader,\n",
    "                        n_epochs, epoch_start=len(results),\n",
    "                        notebook=True):\n",
    "    \n",
    "    results = results.append(pd.Series(result._asdict()), ignore_index=True)\n",
    "    \n",
    "    xs = results.index\n",
    "##    print(\"xs = \",xs)\n",
    "    \n",
    "    # Update the plot above\n",
    "##    print(\"results.index = \",results.index,\"  results.cost\", results.cost)\n",
    "##    print(\"results.index = \",results.index,\"  results.val\", results.val)\n",
    "    lines['train'].set_data(results.index,results.cost)\n",
    "    lines['val'].set_data(results.index,results.val)\n",
    "    \n",
    "    #filter first cost epoch (can be really large)\n",
    "    max_cost = max(max(results.cost if len(results.cost)<2 else results.cost[1:]), max(results.val))\n",
    "    min_cost = min(min(results.cost), min(results.val))\n",
    "    \n",
    "    # The plot limits need updating too\n",
    "    \n",
    "    \n",
    "    \n",
    "    ax.set_ylim(min_cost*.9, max_cost*1.1)  \n",
    "    ax.set_xlim(-.5, len(results.cost) - .5)\n",
    "    \n",
    "    replace_in_ax(lax, lines['eff'], xs, results['eff_val'].apply(lambda x: x.eff_rate))\n",
    "    replace_in_ax(tax, lines['fp'], xs, results['eff_val'].apply(lambda x: x.fp_rate))\n",
    "    \n",
    "    # Redraw the figure\n",
    "    fig.canvas.draw()\n",
    "\n",
    "    # Save each model state dictionary\n",
    "    torch.save(model.state_dict(), output / f'{name}_{result.epoch}.pyt')"
   ]
  },
  {
   "cell_type": "code",
   "execution_count": 16,
   "metadata": {},
   "outputs": [],
   "source": [
    "torch.save(model.state_dict(), output / f'{name}_final.pyt')"
   ]
  },
  {
   "cell_type": "code",
   "execution_count": 17,
   "metadata": {},
   "outputs": [
    {
     "name": "stderr",
     "output_type": "stream",
     "text": [
      "/apps/miniconda3/envs/june2020-gpu/lib/python3.7/site-packages/pandas/core/generic.py:2505: PerformanceWarning: \n",
      "your performance may suffer as PyTables will pickle object types that it cannot\n",
      "map directly to c-types [inferred_type->mixed-integer,key->block1_values] [items->Index(['epoch', 'eff_val'], dtype='object')]\n",
      "\n",
      "  encoding=encoding,\n"
     ]
    }
   ],
   "source": [
    "results.to_hdf(f'{name}_stats.hdf5', 'results')"
   ]
  },
  {
   "cell_type": "code",
   "execution_count": 18,
   "metadata": {},
   "outputs": [
    {
     "data": {
      "application/javascript": [
       "/* Put everything inside the global mpl namespace */\n",
       "window.mpl = {};\n",
       "\n",
       "\n",
       "mpl.get_websocket_type = function() {\n",
       "    if (typeof(WebSocket) !== 'undefined') {\n",
       "        return WebSocket;\n",
       "    } else if (typeof(MozWebSocket) !== 'undefined') {\n",
       "        return MozWebSocket;\n",
       "    } else {\n",
       "        alert('Your browser does not have WebSocket support. ' +\n",
       "              'Please try Chrome, Safari or Firefox ≥ 6. ' +\n",
       "              'Firefox 4 and 5 are also supported but you ' +\n",
       "              'have to enable WebSockets in about:config.');\n",
       "    };\n",
       "}\n",
       "\n",
       "mpl.figure = function(figure_id, websocket, ondownload, parent_element) {\n",
       "    this.id = figure_id;\n",
       "\n",
       "    this.ws = websocket;\n",
       "\n",
       "    this.supports_binary = (this.ws.binaryType != undefined);\n",
       "\n",
       "    if (!this.supports_binary) {\n",
       "        var warnings = document.getElementById(\"mpl-warnings\");\n",
       "        if (warnings) {\n",
       "            warnings.style.display = 'block';\n",
       "            warnings.textContent = (\n",
       "                \"This browser does not support binary websocket messages. \" +\n",
       "                    \"Performance may be slow.\");\n",
       "        }\n",
       "    }\n",
       "\n",
       "    this.imageObj = new Image();\n",
       "\n",
       "    this.context = undefined;\n",
       "    this.message = undefined;\n",
       "    this.canvas = undefined;\n",
       "    this.rubberband_canvas = undefined;\n",
       "    this.rubberband_context = undefined;\n",
       "    this.format_dropdown = undefined;\n",
       "\n",
       "    this.image_mode = 'full';\n",
       "\n",
       "    this.root = $('<div/>');\n",
       "    this._root_extra_style(this.root)\n",
       "    this.root.attr('style', 'display: inline-block');\n",
       "\n",
       "    $(parent_element).append(this.root);\n",
       "\n",
       "    this._init_header(this);\n",
       "    this._init_canvas(this);\n",
       "    this._init_toolbar(this);\n",
       "\n",
       "    var fig = this;\n",
       "\n",
       "    this.waiting = false;\n",
       "\n",
       "    this.ws.onopen =  function () {\n",
       "            fig.send_message(\"supports_binary\", {value: fig.supports_binary});\n",
       "            fig.send_message(\"send_image_mode\", {});\n",
       "            if (mpl.ratio != 1) {\n",
       "                fig.send_message(\"set_dpi_ratio\", {'dpi_ratio': mpl.ratio});\n",
       "            }\n",
       "            fig.send_message(\"refresh\", {});\n",
       "        }\n",
       "\n",
       "    this.imageObj.onload = function() {\n",
       "            if (fig.image_mode == 'full') {\n",
       "                // Full images could contain transparency (where diff images\n",
       "                // almost always do), so we need to clear the canvas so that\n",
       "                // there is no ghosting.\n",
       "                fig.context.clearRect(0, 0, fig.canvas.width, fig.canvas.height);\n",
       "            }\n",
       "            fig.context.drawImage(fig.imageObj, 0, 0);\n",
       "        };\n",
       "\n",
       "    this.imageObj.onunload = function() {\n",
       "        fig.ws.close();\n",
       "    }\n",
       "\n",
       "    this.ws.onmessage = this._make_on_message_function(this);\n",
       "\n",
       "    this.ondownload = ondownload;\n",
       "}\n",
       "\n",
       "mpl.figure.prototype._init_header = function() {\n",
       "    var titlebar = $(\n",
       "        '<div class=\"ui-dialog-titlebar ui-widget-header ui-corner-all ' +\n",
       "        'ui-helper-clearfix\"/>');\n",
       "    var titletext = $(\n",
       "        '<div class=\"ui-dialog-title\" style=\"width: 100%; ' +\n",
       "        'text-align: center; padding: 3px;\"/>');\n",
       "    titlebar.append(titletext)\n",
       "    this.root.append(titlebar);\n",
       "    this.header = titletext[0];\n",
       "}\n",
       "\n",
       "\n",
       "\n",
       "mpl.figure.prototype._canvas_extra_style = function(canvas_div) {\n",
       "\n",
       "}\n",
       "\n",
       "\n",
       "mpl.figure.prototype._root_extra_style = function(canvas_div) {\n",
       "\n",
       "}\n",
       "\n",
       "mpl.figure.prototype._init_canvas = function() {\n",
       "    var fig = this;\n",
       "\n",
       "    var canvas_div = $('<div/>');\n",
       "\n",
       "    canvas_div.attr('style', 'position: relative; clear: both; outline: 0');\n",
       "\n",
       "    function canvas_keyboard_event(event) {\n",
       "        return fig.key_event(event, event['data']);\n",
       "    }\n",
       "\n",
       "    canvas_div.keydown('key_press', canvas_keyboard_event);\n",
       "    canvas_div.keyup('key_release', canvas_keyboard_event);\n",
       "    this.canvas_div = canvas_div\n",
       "    this._canvas_extra_style(canvas_div)\n",
       "    this.root.append(canvas_div);\n",
       "\n",
       "    var canvas = $('<canvas/>');\n",
       "    canvas.addClass('mpl-canvas');\n",
       "    canvas.attr('style', \"left: 0; top: 0; z-index: 0; outline: 0\")\n",
       "\n",
       "    this.canvas = canvas[0];\n",
       "    this.context = canvas[0].getContext(\"2d\");\n",
       "\n",
       "    var backingStore = this.context.backingStorePixelRatio ||\n",
       "\tthis.context.webkitBackingStorePixelRatio ||\n",
       "\tthis.context.mozBackingStorePixelRatio ||\n",
       "\tthis.context.msBackingStorePixelRatio ||\n",
       "\tthis.context.oBackingStorePixelRatio ||\n",
       "\tthis.context.backingStorePixelRatio || 1;\n",
       "\n",
       "    mpl.ratio = (window.devicePixelRatio || 1) / backingStore;\n",
       "\n",
       "    var rubberband = $('<canvas/>');\n",
       "    rubberband.attr('style', \"position: absolute; left: 0; top: 0; z-index: 1;\")\n",
       "\n",
       "    var pass_mouse_events = true;\n",
       "\n",
       "    canvas_div.resizable({\n",
       "        start: function(event, ui) {\n",
       "            pass_mouse_events = false;\n",
       "        },\n",
       "        resize: function(event, ui) {\n",
       "            fig.request_resize(ui.size.width, ui.size.height);\n",
       "        },\n",
       "        stop: function(event, ui) {\n",
       "            pass_mouse_events = true;\n",
       "            fig.request_resize(ui.size.width, ui.size.height);\n",
       "        },\n",
       "    });\n",
       "\n",
       "    function mouse_event_fn(event) {\n",
       "        if (pass_mouse_events)\n",
       "            return fig.mouse_event(event, event['data']);\n",
       "    }\n",
       "\n",
       "    rubberband.mousedown('button_press', mouse_event_fn);\n",
       "    rubberband.mouseup('button_release', mouse_event_fn);\n",
       "    // Throttle sequential mouse events to 1 every 20ms.\n",
       "    rubberband.mousemove('motion_notify', mouse_event_fn);\n",
       "\n",
       "    rubberband.mouseenter('figure_enter', mouse_event_fn);\n",
       "    rubberband.mouseleave('figure_leave', mouse_event_fn);\n",
       "\n",
       "    canvas_div.on(\"wheel\", function (event) {\n",
       "        event = event.originalEvent;\n",
       "        event['data'] = 'scroll'\n",
       "        if (event.deltaY < 0) {\n",
       "            event.step = 1;\n",
       "        } else {\n",
       "            event.step = -1;\n",
       "        }\n",
       "        mouse_event_fn(event);\n",
       "    });\n",
       "\n",
       "    canvas_div.append(canvas);\n",
       "    canvas_div.append(rubberband);\n",
       "\n",
       "    this.rubberband = rubberband;\n",
       "    this.rubberband_canvas = rubberband[0];\n",
       "    this.rubberband_context = rubberband[0].getContext(\"2d\");\n",
       "    this.rubberband_context.strokeStyle = \"#000000\";\n",
       "\n",
       "    this._resize_canvas = function(width, height) {\n",
       "        // Keep the size of the canvas, canvas container, and rubber band\n",
       "        // canvas in synch.\n",
       "        canvas_div.css('width', width)\n",
       "        canvas_div.css('height', height)\n",
       "\n",
       "        canvas.attr('width', width * mpl.ratio);\n",
       "        canvas.attr('height', height * mpl.ratio);\n",
       "        canvas.attr('style', 'width: ' + width + 'px; height: ' + height + 'px;');\n",
       "\n",
       "        rubberband.attr('width', width);\n",
       "        rubberband.attr('height', height);\n",
       "    }\n",
       "\n",
       "    // Set the figure to an initial 600x600px, this will subsequently be updated\n",
       "    // upon first draw.\n",
       "    this._resize_canvas(600, 600);\n",
       "\n",
       "    // Disable right mouse context menu.\n",
       "    $(this.rubberband_canvas).bind(\"contextmenu\",function(e){\n",
       "        return false;\n",
       "    });\n",
       "\n",
       "    function set_focus () {\n",
       "        canvas.focus();\n",
       "        canvas_div.focus();\n",
       "    }\n",
       "\n",
       "    window.setTimeout(set_focus, 100);\n",
       "}\n",
       "\n",
       "mpl.figure.prototype._init_toolbar = function() {\n",
       "    var fig = this;\n",
       "\n",
       "    var nav_element = $('<div/>');\n",
       "    nav_element.attr('style', 'width: 100%');\n",
       "    this.root.append(nav_element);\n",
       "\n",
       "    // Define a callback function for later on.\n",
       "    function toolbar_event(event) {\n",
       "        return fig.toolbar_button_onclick(event['data']);\n",
       "    }\n",
       "    function toolbar_mouse_event(event) {\n",
       "        return fig.toolbar_button_onmouseover(event['data']);\n",
       "    }\n",
       "\n",
       "    for(var toolbar_ind in mpl.toolbar_items) {\n",
       "        var name = mpl.toolbar_items[toolbar_ind][0];\n",
       "        var tooltip = mpl.toolbar_items[toolbar_ind][1];\n",
       "        var image = mpl.toolbar_items[toolbar_ind][2];\n",
       "        var method_name = mpl.toolbar_items[toolbar_ind][3];\n",
       "\n",
       "        if (!name) {\n",
       "            // put a spacer in here.\n",
       "            continue;\n",
       "        }\n",
       "        var button = $('<button/>');\n",
       "        button.addClass('ui-button ui-widget ui-state-default ui-corner-all ' +\n",
       "                        'ui-button-icon-only');\n",
       "        button.attr('role', 'button');\n",
       "        button.attr('aria-disabled', 'false');\n",
       "        button.click(method_name, toolbar_event);\n",
       "        button.mouseover(tooltip, toolbar_mouse_event);\n",
       "\n",
       "        var icon_img = $('<span/>');\n",
       "        icon_img.addClass('ui-button-icon-primary ui-icon');\n",
       "        icon_img.addClass(image);\n",
       "        icon_img.addClass('ui-corner-all');\n",
       "\n",
       "        var tooltip_span = $('<span/>');\n",
       "        tooltip_span.addClass('ui-button-text');\n",
       "        tooltip_span.html(tooltip);\n",
       "\n",
       "        button.append(icon_img);\n",
       "        button.append(tooltip_span);\n",
       "\n",
       "        nav_element.append(button);\n",
       "    }\n",
       "\n",
       "    var fmt_picker_span = $('<span/>');\n",
       "\n",
       "    var fmt_picker = $('<select/>');\n",
       "    fmt_picker.addClass('mpl-toolbar-option ui-widget ui-widget-content');\n",
       "    fmt_picker_span.append(fmt_picker);\n",
       "    nav_element.append(fmt_picker_span);\n",
       "    this.format_dropdown = fmt_picker[0];\n",
       "\n",
       "    for (var ind in mpl.extensions) {\n",
       "        var fmt = mpl.extensions[ind];\n",
       "        var option = $(\n",
       "            '<option/>', {selected: fmt === mpl.default_extension}).html(fmt);\n",
       "        fmt_picker.append(option);\n",
       "    }\n",
       "\n",
       "    // Add hover states to the ui-buttons\n",
       "    $( \".ui-button\" ).hover(\n",
       "        function() { $(this).addClass(\"ui-state-hover\");},\n",
       "        function() { $(this).removeClass(\"ui-state-hover\");}\n",
       "    );\n",
       "\n",
       "    var status_bar = $('<span class=\"mpl-message\"/>');\n",
       "    nav_element.append(status_bar);\n",
       "    this.message = status_bar[0];\n",
       "}\n",
       "\n",
       "mpl.figure.prototype.request_resize = function(x_pixels, y_pixels) {\n",
       "    // Request matplotlib to resize the figure. Matplotlib will then trigger a resize in the client,\n",
       "    // which will in turn request a refresh of the image.\n",
       "    this.send_message('resize', {'width': x_pixels, 'height': y_pixels});\n",
       "}\n",
       "\n",
       "mpl.figure.prototype.send_message = function(type, properties) {\n",
       "    properties['type'] = type;\n",
       "    properties['figure_id'] = this.id;\n",
       "    this.ws.send(JSON.stringify(properties));\n",
       "}\n",
       "\n",
       "mpl.figure.prototype.send_draw_message = function() {\n",
       "    if (!this.waiting) {\n",
       "        this.waiting = true;\n",
       "        this.ws.send(JSON.stringify({type: \"draw\", figure_id: this.id}));\n",
       "    }\n",
       "}\n",
       "\n",
       "\n",
       "mpl.figure.prototype.handle_save = function(fig, msg) {\n",
       "    var format_dropdown = fig.format_dropdown;\n",
       "    var format = format_dropdown.options[format_dropdown.selectedIndex].value;\n",
       "    fig.ondownload(fig, format);\n",
       "}\n",
       "\n",
       "\n",
       "mpl.figure.prototype.handle_resize = function(fig, msg) {\n",
       "    var size = msg['size'];\n",
       "    if (size[0] != fig.canvas.width || size[1] != fig.canvas.height) {\n",
       "        fig._resize_canvas(size[0], size[1]);\n",
       "        fig.send_message(\"refresh\", {});\n",
       "    };\n",
       "}\n",
       "\n",
       "mpl.figure.prototype.handle_rubberband = function(fig, msg) {\n",
       "    var x0 = msg['x0'] / mpl.ratio;\n",
       "    var y0 = (fig.canvas.height - msg['y0']) / mpl.ratio;\n",
       "    var x1 = msg['x1'] / mpl.ratio;\n",
       "    var y1 = (fig.canvas.height - msg['y1']) / mpl.ratio;\n",
       "    x0 = Math.floor(x0) + 0.5;\n",
       "    y0 = Math.floor(y0) + 0.5;\n",
       "    x1 = Math.floor(x1) + 0.5;\n",
       "    y1 = Math.floor(y1) + 0.5;\n",
       "    var min_x = Math.min(x0, x1);\n",
       "    var min_y = Math.min(y0, y1);\n",
       "    var width = Math.abs(x1 - x0);\n",
       "    var height = Math.abs(y1 - y0);\n",
       "\n",
       "    fig.rubberband_context.clearRect(\n",
       "        0, 0, fig.canvas.width / mpl.ratio, fig.canvas.height / mpl.ratio);\n",
       "\n",
       "    fig.rubberband_context.strokeRect(min_x, min_y, width, height);\n",
       "}\n",
       "\n",
       "mpl.figure.prototype.handle_figure_label = function(fig, msg) {\n",
       "    // Updates the figure title.\n",
       "    fig.header.textContent = msg['label'];\n",
       "}\n",
       "\n",
       "mpl.figure.prototype.handle_cursor = function(fig, msg) {\n",
       "    var cursor = msg['cursor'];\n",
       "    switch(cursor)\n",
       "    {\n",
       "    case 0:\n",
       "        cursor = 'pointer';\n",
       "        break;\n",
       "    case 1:\n",
       "        cursor = 'default';\n",
       "        break;\n",
       "    case 2:\n",
       "        cursor = 'crosshair';\n",
       "        break;\n",
       "    case 3:\n",
       "        cursor = 'move';\n",
       "        break;\n",
       "    }\n",
       "    fig.rubberband_canvas.style.cursor = cursor;\n",
       "}\n",
       "\n",
       "mpl.figure.prototype.handle_message = function(fig, msg) {\n",
       "    fig.message.textContent = msg['message'];\n",
       "}\n",
       "\n",
       "mpl.figure.prototype.handle_draw = function(fig, msg) {\n",
       "    // Request the server to send over a new figure.\n",
       "    fig.send_draw_message();\n",
       "}\n",
       "\n",
       "mpl.figure.prototype.handle_image_mode = function(fig, msg) {\n",
       "    fig.image_mode = msg['mode'];\n",
       "}\n",
       "\n",
       "mpl.figure.prototype.updated_canvas_event = function() {\n",
       "    // Called whenever the canvas gets updated.\n",
       "    this.send_message(\"ack\", {});\n",
       "}\n",
       "\n",
       "// A function to construct a web socket function for onmessage handling.\n",
       "// Called in the figure constructor.\n",
       "mpl.figure.prototype._make_on_message_function = function(fig) {\n",
       "    return function socket_on_message(evt) {\n",
       "        if (evt.data instanceof Blob) {\n",
       "            /* FIXME: We get \"Resource interpreted as Image but\n",
       "             * transferred with MIME type text/plain:\" errors on\n",
       "             * Chrome.  But how to set the MIME type?  It doesn't seem\n",
       "             * to be part of the websocket stream */\n",
       "            evt.data.type = \"image/png\";\n",
       "\n",
       "            /* Free the memory for the previous frames */\n",
       "            if (fig.imageObj.src) {\n",
       "                (window.URL || window.webkitURL).revokeObjectURL(\n",
       "                    fig.imageObj.src);\n",
       "            }\n",
       "\n",
       "            fig.imageObj.src = (window.URL || window.webkitURL).createObjectURL(\n",
       "                evt.data);\n",
       "            fig.updated_canvas_event();\n",
       "            fig.waiting = false;\n",
       "            return;\n",
       "        }\n",
       "        else if (typeof evt.data === 'string' && evt.data.slice(0, 21) == \"data:image/png;base64\") {\n",
       "            fig.imageObj.src = evt.data;\n",
       "            fig.updated_canvas_event();\n",
       "            fig.waiting = false;\n",
       "            return;\n",
       "        }\n",
       "\n",
       "        var msg = JSON.parse(evt.data);\n",
       "        var msg_type = msg['type'];\n",
       "\n",
       "        // Call the  \"handle_{type}\" callback, which takes\n",
       "        // the figure and JSON message as its only arguments.\n",
       "        try {\n",
       "            var callback = fig[\"handle_\" + msg_type];\n",
       "        } catch (e) {\n",
       "            console.log(\"No handler for the '\" + msg_type + \"' message type: \", msg);\n",
       "            return;\n",
       "        }\n",
       "\n",
       "        if (callback) {\n",
       "            try {\n",
       "                // console.log(\"Handling '\" + msg_type + \"' message: \", msg);\n",
       "                callback(fig, msg);\n",
       "            } catch (e) {\n",
       "                console.log(\"Exception inside the 'handler_\" + msg_type + \"' callback:\", e, e.stack, msg);\n",
       "            }\n",
       "        }\n",
       "    };\n",
       "}\n",
       "\n",
       "// from http://stackoverflow.com/questions/1114465/getting-mouse-location-in-canvas\n",
       "mpl.findpos = function(e) {\n",
       "    //this section is from http://www.quirksmode.org/js/events_properties.html\n",
       "    var targ;\n",
       "    if (!e)\n",
       "        e = window.event;\n",
       "    if (e.target)\n",
       "        targ = e.target;\n",
       "    else if (e.srcElement)\n",
       "        targ = e.srcElement;\n",
       "    if (targ.nodeType == 3) // defeat Safari bug\n",
       "        targ = targ.parentNode;\n",
       "\n",
       "    // jQuery normalizes the pageX and pageY\n",
       "    // pageX,Y are the mouse positions relative to the document\n",
       "    // offset() returns the position of the element relative to the document\n",
       "    var x = e.pageX - $(targ).offset().left;\n",
       "    var y = e.pageY - $(targ).offset().top;\n",
       "\n",
       "    return {\"x\": x, \"y\": y};\n",
       "};\n",
       "\n",
       "/*\n",
       " * return a copy of an object with only non-object keys\n",
       " * we need this to avoid circular references\n",
       " * http://stackoverflow.com/a/24161582/3208463\n",
       " */\n",
       "function simpleKeys (original) {\n",
       "  return Object.keys(original).reduce(function (obj, key) {\n",
       "    if (typeof original[key] !== 'object')\n",
       "        obj[key] = original[key]\n",
       "    return obj;\n",
       "  }, {});\n",
       "}\n",
       "\n",
       "mpl.figure.prototype.mouse_event = function(event, name) {\n",
       "    var canvas_pos = mpl.findpos(event)\n",
       "\n",
       "    if (name === 'button_press')\n",
       "    {\n",
       "        this.canvas.focus();\n",
       "        this.canvas_div.focus();\n",
       "    }\n",
       "\n",
       "    var x = canvas_pos.x * mpl.ratio;\n",
       "    var y = canvas_pos.y * mpl.ratio;\n",
       "\n",
       "    this.send_message(name, {x: x, y: y, button: event.button,\n",
       "                             step: event.step,\n",
       "                             guiEvent: simpleKeys(event)});\n",
       "\n",
       "    /* This prevents the web browser from automatically changing to\n",
       "     * the text insertion cursor when the button is pressed.  We want\n",
       "     * to control all of the cursor setting manually through the\n",
       "     * 'cursor' event from matplotlib */\n",
       "    event.preventDefault();\n",
       "    return false;\n",
       "}\n",
       "\n",
       "mpl.figure.prototype._key_event_extra = function(event, name) {\n",
       "    // Handle any extra behaviour associated with a key event\n",
       "}\n",
       "\n",
       "mpl.figure.prototype.key_event = function(event, name) {\n",
       "\n",
       "    // Prevent repeat events\n",
       "    if (name == 'key_press')\n",
       "    {\n",
       "        if (event.which === this._key)\n",
       "            return;\n",
       "        else\n",
       "            this._key = event.which;\n",
       "    }\n",
       "    if (name == 'key_release')\n",
       "        this._key = null;\n",
       "\n",
       "    var value = '';\n",
       "    if (event.ctrlKey && event.which != 17)\n",
       "        value += \"ctrl+\";\n",
       "    if (event.altKey && event.which != 18)\n",
       "        value += \"alt+\";\n",
       "    if (event.shiftKey && event.which != 16)\n",
       "        value += \"shift+\";\n",
       "\n",
       "    value += 'k';\n",
       "    value += event.which.toString();\n",
       "\n",
       "    this._key_event_extra(event, name);\n",
       "\n",
       "    this.send_message(name, {key: value,\n",
       "                             guiEvent: simpleKeys(event)});\n",
       "    return false;\n",
       "}\n",
       "\n",
       "mpl.figure.prototype.toolbar_button_onclick = function(name) {\n",
       "    if (name == 'download') {\n",
       "        this.handle_save(this, null);\n",
       "    } else {\n",
       "        this.send_message(\"toolbar_button\", {name: name});\n",
       "    }\n",
       "};\n",
       "\n",
       "mpl.figure.prototype.toolbar_button_onmouseover = function(tooltip) {\n",
       "    this.message.textContent = tooltip;\n",
       "};\n",
       "mpl.toolbar_items = [[\"Home\", \"Reset original view\", \"fa fa-home icon-home\", \"home\"], [\"Back\", \"Back to previous view\", \"fa fa-arrow-left icon-arrow-left\", \"back\"], [\"Forward\", \"Forward to next view\", \"fa fa-arrow-right icon-arrow-right\", \"forward\"], [\"\", \"\", \"\", \"\"], [\"Pan\", \"Pan axes with left mouse, zoom with right\", \"fa fa-arrows icon-move\", \"pan\"], [\"Zoom\", \"Zoom to rectangle\", \"fa fa-square-o icon-check-empty\", \"zoom\"], [\"\", \"\", \"\", \"\"], [\"Download\", \"Download plot\", \"fa fa-floppy-o icon-save\", \"download\"]];\n",
       "\n",
       "mpl.extensions = [\"eps\", \"jpeg\", \"pdf\", \"png\", \"ps\", \"raw\", \"svg\", \"tif\"];\n",
       "\n",
       "mpl.default_extension = \"png\";var comm_websocket_adapter = function(comm) {\n",
       "    // Create a \"websocket\"-like object which calls the given IPython comm\n",
       "    // object with the appropriate methods. Currently this is a non binary\n",
       "    // socket, so there is still some room for performance tuning.\n",
       "    var ws = {};\n",
       "\n",
       "    ws.close = function() {\n",
       "        comm.close()\n",
       "    };\n",
       "    ws.send = function(m) {\n",
       "        //console.log('sending', m);\n",
       "        comm.send(m);\n",
       "    };\n",
       "    // Register the callback with on_msg.\n",
       "    comm.on_msg(function(msg) {\n",
       "        //console.log('receiving', msg['content']['data'], msg);\n",
       "        // Pass the mpl event to the overridden (by mpl) onmessage function.\n",
       "        ws.onmessage(msg['content']['data'])\n",
       "    });\n",
       "    return ws;\n",
       "}\n",
       "\n",
       "mpl.mpl_figure_comm = function(comm, msg) {\n",
       "    // This is the function which gets called when the mpl process\n",
       "    // starts-up an IPython Comm through the \"matplotlib\" channel.\n",
       "\n",
       "    var id = msg.content.data.id;\n",
       "    // Get hold of the div created by the display call when the Comm\n",
       "    // socket was opened in Python.\n",
       "    var element = $(\"#\" + id);\n",
       "    var ws_proxy = comm_websocket_adapter(comm)\n",
       "\n",
       "    function ondownload(figure, format) {\n",
       "        window.open(figure.imageObj.src);\n",
       "    }\n",
       "\n",
       "    var fig = new mpl.figure(id, ws_proxy,\n",
       "                           ondownload,\n",
       "                           element.get(0));\n",
       "\n",
       "    // Call onopen now - mpl needs it, as it is assuming we've passed it a real\n",
       "    // web socket which is closed, not our websocket->open comm proxy.\n",
       "    ws_proxy.onopen();\n",
       "\n",
       "    fig.parent_element = element.get(0);\n",
       "    fig.cell_info = mpl.find_output_cell(\"<div id='\" + id + \"'></div>\");\n",
       "    if (!fig.cell_info) {\n",
       "        console.error(\"Failed to find cell for figure\", id, fig);\n",
       "        return;\n",
       "    }\n",
       "\n",
       "    var output_index = fig.cell_info[2]\n",
       "    var cell = fig.cell_info[0];\n",
       "\n",
       "};\n",
       "\n",
       "mpl.figure.prototype.handle_close = function(fig, msg) {\n",
       "    var width = fig.canvas.width/mpl.ratio\n",
       "    fig.root.unbind('remove')\n",
       "\n",
       "    // Update the output cell to use the data from the current canvas.\n",
       "    fig.push_to_output();\n",
       "    var dataURL = fig.canvas.toDataURL();\n",
       "    // Re-enable the keyboard manager in IPython - without this line, in FF,\n",
       "    // the notebook keyboard shortcuts fail.\n",
       "    IPython.keyboard_manager.enable()\n",
       "    $(fig.parent_element).html('<img src=\"' + dataURL + '\" width=\"' + width + '\">');\n",
       "    fig.close_ws(fig, msg);\n",
       "}\n",
       "\n",
       "mpl.figure.prototype.close_ws = function(fig, msg){\n",
       "    fig.send_message('closing', msg);\n",
       "    // fig.ws.close()\n",
       "}\n",
       "\n",
       "mpl.figure.prototype.push_to_output = function(remove_interactive) {\n",
       "    // Turn the data on the canvas into data in the output cell.\n",
       "    var width = this.canvas.width/mpl.ratio\n",
       "    var dataURL = this.canvas.toDataURL();\n",
       "    this.cell_info[1]['text/html'] = '<img src=\"' + dataURL + '\" width=\"' + width + '\">';\n",
       "}\n",
       "\n",
       "mpl.figure.prototype.updated_canvas_event = function() {\n",
       "    // Tell IPython that the notebook contents must change.\n",
       "    IPython.notebook.set_dirty(true);\n",
       "    this.send_message(\"ack\", {});\n",
       "    var fig = this;\n",
       "    // Wait a second, then push the new image to the DOM so\n",
       "    // that it is saved nicely (might be nice to debounce this).\n",
       "    setTimeout(function () { fig.push_to_output() }, 1000);\n",
       "}\n",
       "\n",
       "mpl.figure.prototype._init_toolbar = function() {\n",
       "    var fig = this;\n",
       "\n",
       "    var nav_element = $('<div/>');\n",
       "    nav_element.attr('style', 'width: 100%');\n",
       "    this.root.append(nav_element);\n",
       "\n",
       "    // Define a callback function for later on.\n",
       "    function toolbar_event(event) {\n",
       "        return fig.toolbar_button_onclick(event['data']);\n",
       "    }\n",
       "    function toolbar_mouse_event(event) {\n",
       "        return fig.toolbar_button_onmouseover(event['data']);\n",
       "    }\n",
       "\n",
       "    for(var toolbar_ind in mpl.toolbar_items){\n",
       "        var name = mpl.toolbar_items[toolbar_ind][0];\n",
       "        var tooltip = mpl.toolbar_items[toolbar_ind][1];\n",
       "        var image = mpl.toolbar_items[toolbar_ind][2];\n",
       "        var method_name = mpl.toolbar_items[toolbar_ind][3];\n",
       "\n",
       "        if (!name) { continue; };\n",
       "\n",
       "        var button = $('<button class=\"btn btn-default\" href=\"#\" title=\"' + name + '\"><i class=\"fa ' + image + ' fa-lg\"></i></button>');\n",
       "        button.click(method_name, toolbar_event);\n",
       "        button.mouseover(tooltip, toolbar_mouse_event);\n",
       "        nav_element.append(button);\n",
       "    }\n",
       "\n",
       "    // Add the status bar.\n",
       "    var status_bar = $('<span class=\"mpl-message\" style=\"text-align:right; float: right;\"/>');\n",
       "    nav_element.append(status_bar);\n",
       "    this.message = status_bar[0];\n",
       "\n",
       "    // Add the close button to the window.\n",
       "    var buttongrp = $('<div class=\"btn-group inline pull-right\"></div>');\n",
       "    var button = $('<button class=\"btn btn-mini btn-primary\" href=\"#\" title=\"Stop Interaction\"><i class=\"fa fa-power-off icon-remove icon-large\"></i></button>');\n",
       "    button.click(function (evt) { fig.handle_close(fig, {}); } );\n",
       "    button.mouseover('Stop Interaction', toolbar_mouse_event);\n",
       "    buttongrp.append(button);\n",
       "    var titlebar = this.root.find($('.ui-dialog-titlebar'));\n",
       "    titlebar.prepend(buttongrp);\n",
       "}\n",
       "\n",
       "mpl.figure.prototype._root_extra_style = function(el){\n",
       "    var fig = this\n",
       "    el.on(\"remove\", function(){\n",
       "\tfig.close_ws(fig, {});\n",
       "    });\n",
       "}\n",
       "\n",
       "mpl.figure.prototype._canvas_extra_style = function(el){\n",
       "    // this is important to make the div 'focusable\n",
       "    el.attr('tabindex', 0)\n",
       "    // reach out to IPython and tell the keyboard manager to turn it's self\n",
       "    // off when our div gets focus\n",
       "\n",
       "    // location in version 3\n",
       "    if (IPython.notebook.keyboard_manager) {\n",
       "        IPython.notebook.keyboard_manager.register_events(el);\n",
       "    }\n",
       "    else {\n",
       "        // location in version 2\n",
       "        IPython.keyboard_manager.register_events(el);\n",
       "    }\n",
       "\n",
       "}\n",
       "\n",
       "mpl.figure.prototype._key_event_extra = function(event, name) {\n",
       "    var manager = IPython.notebook.keyboard_manager;\n",
       "    if (!manager)\n",
       "        manager = IPython.keyboard_manager;\n",
       "\n",
       "    // Check for shift+enter\n",
       "    if (event.shiftKey && event.which == 13) {\n",
       "        this.canvas_div.blur();\n",
       "        // select the cell after this one\n",
       "        var index = IPython.notebook.find_cell_index(this.cell_info[0]);\n",
       "        IPython.notebook.select(index + 1);\n",
       "    }\n",
       "}\n",
       "\n",
       "mpl.figure.prototype.handle_save = function(fig, msg) {\n",
       "    fig.ondownload(fig, null);\n",
       "}\n",
       "\n",
       "\n",
       "mpl.find_output_cell = function(html_output) {\n",
       "    // Return the cell and output element which can be found *uniquely* in the notebook.\n",
       "    // Note - this is a bit hacky, but it is done because the \"notebook_saving.Notebook\"\n",
       "    // IPython event is triggered only after the cells have been serialised, which for\n",
       "    // our purposes (turning an active figure into a static one), is too late.\n",
       "    var cells = IPython.notebook.get_cells();\n",
       "    var ncells = cells.length;\n",
       "    for (var i=0; i<ncells; i++) {\n",
       "        var cell = cells[i];\n",
       "        if (cell.cell_type === 'code'){\n",
       "            for (var j=0; j<cell.output_area.outputs.length; j++) {\n",
       "                var data = cell.output_area.outputs[j];\n",
       "                if (data.data) {\n",
       "                    // IPython >= 3 moved mimebundle to data attribute of output\n",
       "                    data = data.data;\n",
       "                }\n",
       "                if (data['text/html'] == html_output) {\n",
       "                    return [cell, data, j];\n",
       "                }\n",
       "            }\n",
       "        }\n",
       "    }\n",
       "}\n",
       "\n",
       "// Register the function which deals with the matplotlib target/channel.\n",
       "// The kernel may be null if the page has been refreshed.\n",
       "if (IPython.notebook.kernel != null) {\n",
       "    IPython.notebook.kernel.comm_manager.register_target('matplotlib', mpl.mpl_figure_comm);\n",
       "}\n"
      ],
      "text/plain": [
       "<IPython.core.display.Javascript object>"
      ]
     },
     "metadata": {},
     "output_type": "display_data"
    },
    {
     "data": {
      "text/html": [
       "<img src=\"data:image/png;base64,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\" width=\"1000\">"
      ],
      "text/plain": [
       "<IPython.core.display.HTML object>"
      ]
     },
     "metadata": {},
     "output_type": "display_data"
    }
   ],
   "source": [
    "dual_train_plots(results.index,\n",
    "                 results.cost, results.val, \n",
    "                 results['eff_val'].apply(lambda x: x.eff_rate),\n",
    "                 results['eff_val'].apply(lambda x: x.fp_rate))\n",
    "plt.tight_layout()\n",
    "plt.savefig(str(output / f'{name}_stats_a.png'))"
   ]
  },
  {
   "cell_type": "markdown",
   "metadata": {},
   "source": [
    "Go ahead and save the final model (even though it was also saved above):"
   ]
  },
  {
   "cell_type": "markdown",
   "metadata": {},
   "source": [
    "Save the output results:"
   ]
  },
  {
   "cell_type": "code",
   "execution_count": 20,
   "metadata": {},
   "outputs": [],
   "source": [
    "##torch.cuda.empty_cache()\"\n",
    "##quit()\n",
    "\n"
   ]
  },
  {
   "cell_type": "code",
   "execution_count": null,
   "metadata": {},
   "outputs": [],
   "source": []
  }
 ],
 "metadata": {
  "kernelspec": {
   "display_name": "june2020-gpu",
   "language": "python",
   "name": "june2020-gpu"
  },
  "language_info": {
   "codemirror_mode": {
    "name": "ipython",
    "version": 3
   },
   "file_extension": ".py",
   "mimetype": "text/x-python",
   "name": "python",
   "nbconvert_exporter": "python",
   "pygments_lexer": "ipython3",
   "version": "3.7.6"
  }
 },
 "nbformat": 4,
 "nbformat_minor": 2
}
