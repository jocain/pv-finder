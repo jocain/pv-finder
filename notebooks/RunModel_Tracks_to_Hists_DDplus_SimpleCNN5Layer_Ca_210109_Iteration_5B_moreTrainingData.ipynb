{
 "cells": [
  {
   "cell_type": "code",
   "execution_count": 1,
   "metadata": {},
   "outputs": [],
   "source": [
    "##%matplotlib widget\n",
    "## with %matplotlib notebook: seems to require ipympl as part of environment, either\n",
    "## part of the conda environment or \"pip install ipympl\"\n",
    "## otherwise, does not show ANY plots in notebook, plt.savefig() works\n",
    "%matplotlib notebook  \n",
    "##%matplotlib inline    ## --plt.savefig()  works, but re-sizing does NOT\n"
   ]
  },
  {
   "cell_type": "markdown",
   "metadata": {},
   "source": [
    "This notebook is a first attempt to read in track information and use it to predict the the full target histrograms.\n",
    "\n",
    "It will read in the TracksToDKE__Ellipsoids_DDPlus model to predict the KDE, and then feed it into a SimpleCNN model to predict the target histograms.  Initially, it will use previously trained weights.\n"
   ]
  },
  {
   "cell_type": "markdown",
   "metadata": {},
   "source": [
    "Check the current GPU usage. Please try to be nice!"
   ]
  },
  {
   "cell_type": "code",
   "execution_count": 2,
   "metadata": {},
   "outputs": [
    {
     "name": "stdout",
     "output_type": "stream",
     "text": [
      "Sun Jan 10 00:01:32 2021       \r\n",
      "+-----------------------------------------------------------------------------+\r\n",
      "| NVIDIA-SMI 450.36.06    Driver Version: 450.36.06    CUDA Version: 11.0     |\r\n",
      "|-------------------------------+----------------------+----------------------+\r\n",
      "| GPU  Name        Persistence-M| Bus-Id        Disp.A | Volatile Uncorr. ECC |\r\n",
      "| Fan  Temp  Perf  Pwr:Usage/Cap|         Memory-Usage | GPU-Util  Compute M. |\r\n",
      "|                               |                      |               MIG M. |\r\n",
      "|===============================+======================+======================|\r\n",
      "|   0  GeForce RTX 208...  On   | 00000000:18:00.0 Off |                  N/A |\r\n",
      "| 29%   35C    P8    38W / 250W |      1MiB / 11019MiB |      0%      Default |\r\n",
      "|                               |                      |                  N/A |\r\n",
      "+-------------------------------+----------------------+----------------------+\r\n",
      "|   1  GeForce RTX 208...  On   | 00000000:3B:00.0 Off |                  N/A |\r\n",
      "| 29%   35C    P8    39W / 250W |     60MiB / 11019MiB |      0%      Default |\r\n",
      "|                               |                      |                  N/A |\r\n",
      "+-------------------------------+----------------------+----------------------+\r\n",
      "                                                                               \r\n",
      "+-----------------------------------------------------------------------------+\r\n",
      "| Processes:                                                                  |\r\n",
      "|  GPU   GI   CI        PID   Type   Process name                  GPU Memory |\r\n",
      "|        ID   ID                                                   Usage      |\r\n",
      "|=============================================================================|\r\n",
      "|    1   N/A  N/A      3736      G   /usr/bin/X                         33MiB |\r\n",
      "|    1   N/A  N/A      3790      G   /usr/bin/gnome-shell               24MiB |\r\n",
      "+-----------------------------------------------------------------------------+\r\n"
     ]
    }
   ],
   "source": [
    "!nvidia-smi"
   ]
  },
  {
   "cell_type": "markdown",
   "metadata": {},
   "source": [
    "> **WARNING**: The card numbers here are *not* the same as in CUDA. You have been warned."
   ]
  },
  {
   "cell_type": "markdown",
   "metadata": {},
   "source": [
    "## Imports"
   ]
  },
  {
   "cell_type": "code",
   "execution_count": 3,
   "metadata": {},
   "outputs": [],
   "source": [
    "import matplotlib.pyplot as plt\n",
    "import numpy as np\n",
    "import time\n",
    "import torch\n",
    "import pandas as pd\n",
    "\n",
    "# Python 3 standard library\n",
    "from pathlib import Path\n",
    "\n",
    "from model.efficiency import pv_locations, efficiency\n",
    "\n",
    "##from torchsummary import summary"
   ]
  },
  {
   "cell_type": "markdown",
   "metadata": {},
   "source": [
    "### Set up local parameters"
   ]
  },
  {
   "cell_type": "code",
   "execution_count": 4,
   "metadata": {},
   "outputs": [],
   "source": [
    "n_epochs = 100\n",
    "\n",
    "# Name is the output file name\n",
    "\n",
    "\n",
    "##  200719  mds\n",
    "##folder = '20December_Tracks_to_KDE_TestTrainedModel'\n",
    "##folder = '22December_testing_DDplus_loss_Bb_iter2_floatAll_100epochs_3em6'\n",
    "folder = '09Jan2021_Tracks_to_Hists_Iteration_5B_100epochs_lr_1em7_2p5_kde2hists_allFloat'\n",
    "name = folder\n",
    "\n",
    "# Make an output folder named \"name\" (change if you want)\n",
    "\n",
    "## Special instructions for those working on goofy at UC\n",
    "## Please be very careful to make sure that your folder\n",
    "## does not live in a subdirectory of your home directory\n",
    "## this disk has very little capacity. Instead, use \n",
    "## a subdirectory in /share/lazy with a symbolic link to\n",
    "## it in this (the notebooks) subdirectory\n",
    "folder = 'ML/' + folder\n",
    "output = Path(folder)\n",
    "\n",
    "\n",
    "# Size of batches\n",
    "batch_size = 16\n",
    "# How fast to learn\n",
    "learning_rate = 1e-7"
   ]
  },
  {
   "cell_type": "markdown",
   "metadata": {},
   "source": [
    "Make the output directory if it does not exist:"
   ]
  },
  {
   "cell_type": "code",
   "execution_count": 5,
   "metadata": {},
   "outputs": [],
   "source": [
    "output.mkdir(exist_ok=True)"
   ]
  },
  {
   "cell_type": "markdown",
   "metadata": {},
   "source": [
    "## Get the helper functions\n",
    "\n",
    "Add the directory with the model\n",
    "definitions to the path so we can import from it:\n",
    "\n",
    "> When you type `import X`,\n",
    "Python searches `sys.path` for a python\n",
    "file named `X.py` to import. So we need to add the model directory to the path."
   ]
  },
  {
   "cell_type": "code",
   "execution_count": 6,
   "metadata": {
    "scrolled": true
   },
   "outputs": [],
   "source": [
    "# From model/collectdata.py\n",
    "##from model.collectdata_kde_Ellipsoids import collect_t2kde_data\n",
    "from model.collectdata_t2hists import collect_t2hists_data\n",
    "from model.collectdata_mdsA  import collect_truth\n",
    "\n",
    "# From model/loss.py\n",
    "##from loss import Loss\n",
    "##from model.kde_loss_D import Loss\n",
    "## from model.kde_loss_B import Loss  ## Tracks_to_KDE loss, not for target hists\n",
    "\n",
    "##  \"standard\" ratios loss for hists training\n",
    "from model.alt_loss_A import Loss  ## loss used to train RunModel_Demo_28November2020-SimpleCNNLayer_Ca-Restart_5\n",
    "\n",
    "\n",
    "##from model.models_kde import TracksToKDE_Ellipsoids_DirtyDozen as Model\n",
    "from model.models_kde import TracksToKDE_Ellipsoids_DDplus as t2kde_model\n",
    "##from model.models_mds_G import SimpleCNN5Layer_Ca as kde2hists_model\n",
    "from model.models_mds_28Dec20 import SimpleCNN5Layer_Ca as kde2hists_model  ## copy of models_mds_01June20 for debugging\n",
    "from model.models_t2hists import TracksToHists_A as t2hists_model\n",
    "\n",
    "\n",
    "##from model.training_kde import trainNet, select_gpu, Results\n",
    "## training_t2hists_A.py increases \"difference\" for accepting found\n",
    "## peaks as matched from 5 bins to 7.5 bins (compmared to original training.py)\n",
    "from model.training_t2hists_A import trainNet, select_gpu, Results\n",
    "from model.plots import dual_train_plots, replace_in_ax"
   ]
  },
  {
   "cell_type": "code",
   "execution_count": 7,
   "metadata": {},
   "outputs": [],
   "source": [
    "# This gets built up during the run - do not rerun this cell\n",
    "results = pd.DataFrame([], columns=Results._fields)"
   ]
  },
  {
   "cell_type": "markdown",
   "metadata": {},
   "source": [
    "Set up Torch device configuration. All tensors and model parameters need to know where to be put.\n",
    "This takes a BUS ID number: The BUS ID is the same as the listing at the top of this script."
   ]
  },
  {
   "cell_type": "code",
   "execution_count": 8,
   "metadata": {},
   "outputs": [
    {
     "name": "stdout",
     "output_type": "stream",
     "text": [
      "1 available GPUs (initially using device 0):\n",
      "  0 GeForce RTX 2080 Ti\n"
     ]
    }
   ],
   "source": [
    "device = select_gpu(0)\n",
    "##device = \"cpu\""
   ]
  },
  {
   "cell_type": "markdown",
   "metadata": {},
   "source": [
    "## Loading data\n",
    "\n",
    "Load the dataset, split into parts, then move to device (see `collectdata.py` in the `../model` directory)"
   ]
  },
  {
   "cell_type": "code",
   "execution_count": 9,
   "metadata": {
    "scrolled": false
   },
   "outputs": [
    {
     "name": "stdout",
     "output_type": "stream",
     "text": [
      "Loading data...\n",
      "pocaMx.shape =  (80000,)\n",
      "nEvts =  80000\n",
      "len(pocaMx[0]) =  199\n",
      "len(pocaMx[1]) =  25\n",
      "len(pocaMx[2]) =  369\n",
      "len(pocaMx[3]) =  143\n",
      "len(pocaMx[4]) =  160\n",
      "have entered six_ellipsoid_parameters\n",
      "  \n",
      " \n",
      "  nEvts =  80000\n",
      " iEvt, nTrks =  0 199\n",
      " iEvt, nTrks =  1 25\n",
      " iEvt, nTrks =  2 369\n",
      " iEvt, nTrks =  3 143\n",
      " iEvt, nTrks =  4 160\n",
      " iEvt, nTrks =  5 260\n",
      " iEvt, nTrks =  6 237\n",
      " iEvt, nTrks =  7 327\n",
      " iEvt, nTrks =  8 178\n",
      " iEvt, nTrks =  9 106\n",
      "len(X) =  80000\n",
      "len(Xlist) =  1\n",
      "Loaded /share/lazy/will/data/June30_2020_80k_1.h5 in 105.3 s\n",
      "outer loop X.shape =  (80000, 9, 600)\n",
      "Constructing 80000 event dataset took 0.3323 s\n",
      "x_t.shape =  torch.Size([80000, 9, 600])\n",
      "x_t.shape[0] =  80000\n",
      "x_t.shape[1] =  9\n",
      "x_t.shape =  torch.Size([80000, 9, 600])\n",
      "Loading data...\n",
      "pocaMx.shape =  (20000,)\n",
      "nEvts =  20000\n",
      "len(pocaMx[0]) =  211\n",
      "len(pocaMx[1]) =  21\n",
      "len(pocaMx[2]) =  20\n",
      "len(pocaMx[3]) =  198\n",
      "len(pocaMx[4]) =  233\n",
      "have entered six_ellipsoid_parameters\n",
      "  \n",
      " \n",
      "  nEvts =  20000\n",
      " iEvt, nTrks =  0 211\n",
      " iEvt, nTrks =  1 21\n",
      " iEvt, nTrks =  2 20\n",
      " iEvt, nTrks =  3 198\n",
      " iEvt, nTrks =  4 233\n",
      " iEvt, nTrks =  5 85\n",
      " iEvt, nTrks =  6 223\n",
      " iEvt, nTrks =  7 425\n",
      " iEvt, nTrks =  8 252\n",
      " iEvt, nTrks =  9 169\n",
      "len(X) =  20000\n",
      "len(Xlist) =  1\n",
      "Loaded dataAA/20K_POCA_kernel_evts_200926.h5 in 25.46 s\n",
      "outer loop X.shape =  (20000, 9, 600)\n",
      "Constructing 20000 event dataset took 5.235 s\n",
      "x_t.shape =  torch.Size([20000, 9, 600])\n",
      "x_t.shape[0] =  20000\n",
      "x_t.shape[1] =  9\n",
      "x_t.shape =  torch.Size([20000, 9, 600])\n",
      "Loaded dataAA/20K_POCA_kernel_evts_200926.h5 in 0.05988 s\n",
      "PV.n.shape =     (20000,)\n",
      "PV.n[0].shape =  6\n",
      "PV.x[0] =        -0.06039733 0.034324445 0.032115813 0.0021888595 -0.035334907 -0.013019809\n",
      "PV.y[0] =        -0.09381338 -0.013181885 -0.030898828 -0.08940365 -0.0058297813 0.062288247\n",
      "PV.z[0] =        97.82085 61.021088 -0.15807877 134.26784 -29.881668 79.19783\n",
      "PV.n[0] =        24 26 10 7 24 19\n",
      "PV.cat[0] =      1 1 1 1 1 1\n",
      "Loaded dataAA/20K_POCA_kernel_evts_200926.h5 in 0.01563 s\n",
      "SV.n.shape =     (20000,)\n",
      "SV.n[0].shape =  2\n",
      "SV.x[0] =        -0.014751727 0.03923173\n",
      "SV.y[0] =        0.050640453 0.08648109\n",
      "SV.z[0] =        78.924194 79.170876\n",
      "SV.n[0] =        2 0\n",
      "SV.cat[0] =      1 -1\n"
     ]
    }
   ],
   "source": [
    "## 210109 let's use some of Will's toy MC for training rather than the 20K sample I've been using\n",
    "\n",
    "##train_loader = collect_t2hists_data('dataAA/20K_POCA_kernel_evts_200926.h5',\n",
    "train_loader = collect_t2hists_data('/share/lazy/will/data/June30_2020_80k_1.h5',    \n",
    "                             batch_size=batch_size,\n",
    "## if we are using a larger dataset (240K events, with the datasets above, and 11 GB  of GPU memory),\n",
    "## not the dataset will overflow the GPU memory; device=device will allow the data to move back\n",
    "## and forth between the CPU and GPU memory. While this allows use of a larger dataset, it slows\n",
    "## down performance by about 10%.  So comment out when not needed.\n",
    "##                           device=device,\n",
    "##                             slice = slice(0,18000)\n",
    "                           )\n",
    "\n",
    "\n",
    "\n",
    "                            \n",
    "# Validation dataset. You can slice to reduce the size.\n",
    "## mds no separate validation set yet,\n",
    "\n",
    "## 210109 and use everything in this 20K file for validation\n",
    "val_loader = collect_t2hists_data('dataAA/20K_POCA_kernel_evts_200926.h5',\n",
    "                            batch_size=batch_size,\n",
    "                            device=device,\n",
    "##                           slice = slice(18000,None)\n",
    "                           )\n",
    "\n",
    "PV = collect_truth('dataAA/20K_POCA_kernel_evts_200926.h5', pvs=True)\n",
    "print('PV.n.shape =    ',  PV.n.shape)\n",
    "print('PV.n[0].shape = ', *PV.n[0].shape)\n",
    "print('PV.x[0] =       ', *PV.x[0])\n",
    "print('PV.y[0] =       ', *PV.y[0])\n",
    "print('PV.z[0] =       ', *PV.z[0])\n",
    "print('PV.n[0] =       ', *PV.n[0])\n",
    "print('PV.cat[0] =     ', *PV.cat[0])\n",
    "\n",
    "SV = collect_truth('dataAA/20K_POCA_kernel_evts_200926.h5', pvs=False)\n",
    "print('SV.n.shape =    ', SV.n.shape)\n",
    "print('SV.n[0].shape = ', *SV.n[0].shape)\n",
    "print('SV.x[0] =       ', *SV.x[0])\n",
    "print('SV.y[0] =       ', *SV.y[0])\n",
    "print('SV.z[0] =       ', *SV.z[0])\n",
    "print('SV.n[0] =       ', *SV.n[0])\n",
    "print('SV.cat[0] =     ', *SV.cat[0])\n"
   ]
  },
  {
   "cell_type": "markdown",
   "metadata": {},
   "source": [
    "# Preparing the model"
   ]
  },
  {
   "cell_type": "markdown",
   "metadata": {},
   "source": [
    "Prepare a model, use multiple GPUs if they are VISIBLE, and move the model to the device."
   ]
  },
  {
   "cell_type": "code",
   "execution_count": 10,
   "metadata": {
    "scrolled": false
   },
   "outputs": [
    {
     "name": "stdout",
     "output_type": "stream",
     "text": [
      "ct, child =  0    Linear(in_features=9, out_features=50, bias=True)\n",
      "ct, child =  1    Linear(in_features=50, out_features=50, bias=True)\n",
      "ct, child =  2    Linear(in_features=50, out_features=50, bias=True)\n",
      "ct, child =  3    Linear(in_features=50, out_features=50, bias=True)\n",
      "ct, child =  4    Linear(in_features=50, out_features=50, bias=True)\n",
      "ct, child =  5    Linear(in_features=50, out_features=50, bias=True)\n",
      "ct, child =  6    Linear(in_features=50, out_features=50, bias=True)\n",
      "ct, child =  7    Linear(in_features=50, out_features=50, bias=True)\n",
      "ct, child =  8    Linear(in_features=50, out_features=50, bias=True)\n",
      "ct, child =  9    Linear(in_features=50, out_features=50, bias=True)\n",
      "ct, child =  10    Linear(in_features=50, out_features=50, bias=True)\n",
      "ct, child =  11    Linear(in_features=50, out_features=16000, bias=True)\n",
      "ct, child =  12    Conv1d(4, 25, kernel_size=(25,), stride=(1,), padding=(12,))\n",
      "ct, child =  13    Conv1d(25, 1, kernel_size=(5,), stride=(1,), padding=(2,))\n",
      "ct, child =  14    Linear(in_features=4000, out_features=4000, bias=True)\n",
      "ct, child =  15    Dropout(p=0.15, inplace=False)\n",
      "ct, child =  16    Dropout(p=0.15, inplace=False)\n",
      "ct, child =  17    Conv1d(1, 20, kernel_size=(25,), stride=(1,), padding=(12,))\n",
      "ct, child =  18    Conv1d(20, 10, kernel_size=(15,), stride=(1,), padding=(7,))\n",
      "ct, child =  19    Conv1d(10, 10, kernel_size=(15,), stride=(1,), padding=(7,))\n",
      "ct, child =  20    Conv1d(10, 10, kernel_size=(15,), stride=(1,), padding=(7,))\n",
      "ct, child =  21    Conv1d(10, 1, kernel_size=(5,), stride=(1,), padding=(2,))\n",
      "ct, child =  22    Dropout(p=0.15, inplace=False)\n",
      "ct, child =  23    Dropout(p=0.15, inplace=False)\n",
      "ct, child =  24    Dropout(p=0.15, inplace=False)\n",
      "ct, child =  25    Dropout(p=0.15, inplace=False)\n",
      "ct, child =  26    Dropout(p=0.35, inplace=False)\n",
      "ct, child =  27    Linear(in_features=4000, out_features=4000, bias=True)\n"
     ]
    }
   ],
   "source": [
    "nOut1 = 50\n",
    "nOut2 = 50\n",
    "nOut3 = 50\n",
    "nOut4 = 50\n",
    "nOut5 = 50\n",
    "nOut6 = 50\n",
    "nOut7 = 50\n",
    "nOut8 = 50\n",
    "nOut9 = 50\n",
    "nOut10 = 50\n",
    "nOut11 = 50\n",
    "latentChannels = 4\n",
    "model_t2kde = t2kde_model(nOut1,nOut2,nOut3,nOut4,nOut5,nOut6,nOut7,nOut8,nOut9,nOut10,nOut11,latentChannels)\n",
    "model_kde2hists = kde2hists_model()\n",
    "model_t2hists = t2hists_model(nOut1,nOut2,nOut3,nOut4,nOut5,nOut6,nOut7,nOut8,nOut9,nOut10,nOut11,latentChannels)\n",
    "\n",
    "##summary(model, input_size=(4, 4000))\n",
    "##print(model.parameters)\n",
    "\n",
    "## add the following code to allow the user to freeze the some of the weights corresponding \n",
    "## to those taken from an earlier model trained with the original target histograms\n",
    "## presumably -- this leaves either the perturbative filter \"fixed\" and lets the \n",
    "## learning focus on the non-perturbative features, so get started faster, or vice versa\n",
    "ct = 0\n",
    "for child in model_t2hists.children():\n",
    "  print('ct, child = ',ct, \"  \", child)\n",
    "  if (ct < 0) :\n",
    "    print(\"     About to set param.requires_grad=False for ct = \", ct, \"params\")\n",
    "    for param in child.parameters():\n",
    "        param.requires_grad = False \n",
    "  ct += 1\n",
    "\n",
    "loss = Loss(epsilon=1e-5,coefficient=2.5)\n",
    "optimizer = torch.optim.Adam(model_t2hists.parameters(), lr=learning_rate)"
   ]
  },
  {
   "cell_type": "markdown",
   "metadata": {},
   "source": [
    "Let's move the model's weight matricies to the GPU:"
   ]
  },
  {
   "cell_type": "code",
   "execution_count": 11,
   "metadata": {
    "scrolled": false
   },
   "outputs": [
    {
     "data": {
      "text/plain": [
       "<All keys matched successfully>"
      ]
     },
     "execution_count": 11,
     "metadata": {},
     "output_type": "execute_result"
    }
   ],
   "source": [
    "## want to look at all three dictionaries to start:\n",
    "##  t2kde\n",
    "##  kde2hists\n",
    "##  t2hists\n",
    "## the plan is to (initially) copy weights from separate dictionaries into th t2hists dictionary\n",
    "\n",
    "##   ML -> /share/lazy/sokoloff/ML\n",
    "'''\n",
    "model_t2kde_dict = model_t2kde.state_dict()\n",
    "## mds 190725 for debugging\n",
    "print(\"for model_t2kde_dict\")\n",
    "index = 0\n",
    "for k,v in model_t2kde_dict.items():\n",
    "    print(\"index, k =  \",index,\"  \",k)\n",
    "    index = index+1\n",
    "#\n",
    "model_kde2hists_dict = model_kde2hists.state_dict()\n",
    "## mds 190725 for debugging\n",
    "print(\"for model_hists_2kde_dict\")\n",
    "index = 0\n",
    "for k,v in model_kde2hists_dict.items():\n",
    "    print(\"index, k =  \",index,\"  \",k)\n",
    "    index = index+1\n",
    "#\n",
    "model_t2hists_dict = model_t2hists.state_dict()\n",
    "## mds 190725 for debugging\n",
    "print(\"for model_hists_2kde_dict\")\n",
    "index = 0\n",
    "for k,v in model_t2hists_dict.items():\n",
    "    print(\"index, k =  \",index,\"  \",k)\n",
    "    index = index+1\n",
    "#\n",
    "\n",
    "##  build the \"updated_dict\" to become the t2hists_dictionary from the\n",
    "##  t2kde and kde2hist dictionaries\n",
    "update_dict = model_t2hists_dict\n",
    "##print(\"updated_dict = \",updated_dict)\n",
    "## when starting \"ab initio\", reduce biases as the bias gets summed for each track\n",
    "## contributing to the predicted KDE\n",
    "'''\n",
    "\n",
    "\n",
    "'''\n",
    "updated_dict[\"layer1.bias\"] = 0.005*model_dict[\"layer1.bias\"]\n",
    "updated_dict[\"layer2.bias\"] = 0.005*model_dict[\"layer2.bias\"]\n",
    "updated_dict[\"layer3.bias\"] = 0.005*model_dict[\"layer3.bias\"]\n",
    "updated_dict[\"layer4.bias\"] = 0.005*model_dict[\"layer4.bias\"]\n",
    "updated_dict[\"layer5.bias\"] = 0.005*model_dict[\"layer5.bias\"]\n",
    "updated_dict[\"layer6.bias\"] = 0.005*model_dict[\"layer6.bias\"]\n",
    "updated_dict[\"layer7.bias\"] = 0.005*model_dict[\"layer7.bias\"]\n",
    "updated_dict[\"layer8.bias\"] = 0.005*model_dict[\"layer8.bias\"]\n",
    "updated_dict[\"layer9.bias\"] = 0.005*model_dict[\"layer9.bias\"]\n",
    "updated_dict[\"layer10.bias\"] = 0.005*model_dict[\"layer10.bias\"]\n",
    "updated_dict[\"layer11.bias\"] = 0.005*model_dict[\"layer11.bias\"]\n",
    "'''\n",
    "\n",
    "'''\n",
    "##model_t2hists.load_state_dict(updated_dict,strict=False)\n",
    "\n",
    "##model__t2hists_dict = model_t2hists.state_dict()\n",
    "\n",
    "## let's get the tracks-to-kde model here\n",
    "t2kde_folder = '25December__DDplus_loss_Ba_iter5_floatAll_800epochs_5em6'  ## really iter6, really Dec. 27\n",
    "t2kde_folder = '25December__DDplus_loss_Ba_iter7_floatAll_800epochs_4em6'\n",
    "t2kde_name = t2kde_folder\n",
    "suffix = 'final'\n",
    "t2kde_dict_name = 'ML/' + t2kde_folder + '/' + t2kde_name + '_'+ suffix + '.pyt'\n",
    "print('t2kde_dict_name = ',t2kde_dict_name)\n",
    "pretrained_t2kde_dict = torch.load(t2kde_dict_name)\n",
    "\n",
    "print(\" \\n\",\"  for t2kde_pretrained_dict\")\n",
    "index = 0\n",
    "for k,v in pretrained_t2kde_dict.items():\n",
    "    print(\"index, k =  \",index,\"  \",k)\n",
    "    index = index+1\n",
    "    \n",
    "    \n",
    "## let's get the hists-to-kde model here   \n",
    "kde2hists_folder = '02June2020_CNN5Layer_Ca_another200epochs_K'\n",
    "kde2hists_name = kde2hists_folder\n",
    "suffix = 'final'\n",
    "kde2hists_dict_name = 'ML/' + kde2hists_folder + '/' + kde2hists_name + '_'+ suffix + '.pyt'\n",
    "## mds dec28 print('kde2hists_dict_name = ',kde2hists_dict_name)\n",
    "pretrained_kde2hists_dict = torch.load(kde2hists_dict_name)\n",
    "\n",
    "print(\" \\n\",\"  for kde2hists_pretrained_dict\")\n",
    "index = 0\n",
    "for k,v in pretrained_kde2hists_dict.items():\n",
    "    print(\"index, k =  \",index,\"  \",k)\n",
    "    index = index+1\n",
    " \n",
    "\n",
    "\n",
    "##print(\"model_dict instantiated\")\n",
    "# 1. filter out unnecessary keys\n",
    "pretrained_dict = {k: v for k, v in pretrained_t2kde_dict.items() if k in model_t2hists_dict}\n",
    "## mds dec28 print(\"pretrained_dict iterated\")\n",
    "# 2. overwrite entries in the existing state dict\n",
    "model_t2hists_dict.update(pretrained_dict) \n",
    "\n",
    "update_dict[\"hist_conv1.weight\"] = pretrained_kde2hists_dict[\"conv1.weight\"]\n",
    "update_dict[\"hist_conv1.bias\"]   = pretrained_kde2hists_dict[\"conv1.bias\"]\n",
    "update_dict[\"hist_conv2.weight\"] = pretrained_kde2hists_dict[\"conv2.weight\"]\n",
    "update_dict[\"hist_conv2.bias\"]   = pretrained_kde2hists_dict[\"conv2.bias\"]\n",
    "update_dict[\"hist_conv3.weight\"] = pretrained_kde2hists_dict[\"conv3.weight\"]\n",
    "update_dict[\"hist_conv3.bias\"]   = pretrained_kde2hists_dict[\"conv3.bias\"]\n",
    "update_dict[\"hist_conv4.weight\"] = pretrained_kde2hists_dict[\"conv4.weight\"]\n",
    "update_dict[\"hist_conv4.bias\"]   = pretrained_kde2hists_dict[\"conv4.bias\"]\n",
    "update_dict[\"hist_conv5.weight\"] = pretrained_kde2hists_dict[\"conv5.weight\"]\n",
    "update_dict[\"hist_conv5.bias\"]   = pretrained_kde2hists_dict[\"conv5.bias\"]\n",
    "update_dict[\"hist_fc1.weight\"]   = pretrained_kde2hists_dict[\"fc1.weight\"]\n",
    "update_dict[\"hist_fc1.bias\"]     = pretrained_kde2hists_dict[\"fc1.bias\"]\n",
    "\n",
    "##model_t2hists.update(update_dict,strict=False)\n",
    "model_t2hists.load_state_dict(update_dict,strict=False)\n",
    "model_t2hists_dict = model_t2hists.state_dict()\n",
    "'''\n",
    "\n",
    "##\n",
    "#   when starting from a model with a fully connected last layer rather than a convolutional layer\n",
    "# 3. load the new state dict\n",
    "#   need to use strict=False as the two models state model attributes do not agree exactly\n",
    "#   see https://pytorch.org/docs/master/_modules/torch/nn/modules/module.html#Module.load_state_dict\n",
    "\n",
    "t2hists_folder = '29December_Tracks_to_Hists_Iteration_4B_1000epochs_lr_2em7_2p5_kde2hists_allFloat'\n",
    "t2hists_name = t2hists_folder\n",
    "suffix = 'final'\n",
    "t2hists_dict_name = 'ML/' + t2hists_folder + '/' +t2hists_name + '_'+ suffix + '.pyt'\n",
    "## mds dec28 print('kde2hists_dict_name = ',kde2hists_dict_name)\n",
    "pretrained_t2hists_dict = torch.load(t2hists_dict_name) \n",
    "\n",
    "model_t2hists.load_state_dict(pretrained_t2hists_dict,strict=False)\n",
    "\n",
    "##  print('model_t2hists_dict =    ', model_t2hists_dict)\n"
   ]
  },
  {
   "cell_type": "code",
   "execution_count": 12,
   "metadata": {},
   "outputs": [],
   "source": [
    "##print('validation.dataset.tensors = ',validation.dataset.tensors)\n",
    "fig_size = plt.rcParams[\"figure.figsize\"]\n",
    "fig_size[0] = 10\n",
    "fig_size[1] = 4\n",
    "plt.rcParams[\"figure.figsize\"] = fig_size"
   ]
  },
  {
   "cell_type": "code",
   "execution_count": 13,
   "metadata": {
    "scrolled": true
   },
   "outputs": [],
   "source": [
    "model = model_t2hists.to(device)"
   ]
  },
  {
   "cell_type": "code",
   "execution_count": 14,
   "metadata": {},
   "outputs": [
    {
     "data": {
      "application/javascript": [
       "/* Put everything inside the global mpl namespace */\n",
       "window.mpl = {};\n",
       "\n",
       "\n",
       "mpl.get_websocket_type = function() {\n",
       "    if (typeof(WebSocket) !== 'undefined') {\n",
       "        return WebSocket;\n",
       "    } else if (typeof(MozWebSocket) !== 'undefined') {\n",
       "        return MozWebSocket;\n",
       "    } else {\n",
       "        alert('Your browser does not have WebSocket support. ' +\n",
       "              'Please try Chrome, Safari or Firefox ≥ 6. ' +\n",
       "              'Firefox 4 and 5 are also supported but you ' +\n",
       "              'have to enable WebSockets in about:config.');\n",
       "    };\n",
       "}\n",
       "\n",
       "mpl.figure = function(figure_id, websocket, ondownload, parent_element) {\n",
       "    this.id = figure_id;\n",
       "\n",
       "    this.ws = websocket;\n",
       "\n",
       "    this.supports_binary = (this.ws.binaryType != undefined);\n",
       "\n",
       "    if (!this.supports_binary) {\n",
       "        var warnings = document.getElementById(\"mpl-warnings\");\n",
       "        if (warnings) {\n",
       "            warnings.style.display = 'block';\n",
       "            warnings.textContent = (\n",
       "                \"This browser does not support binary websocket messages. \" +\n",
       "                    \"Performance may be slow.\");\n",
       "        }\n",
       "    }\n",
       "\n",
       "    this.imageObj = new Image();\n",
       "\n",
       "    this.context = undefined;\n",
       "    this.message = undefined;\n",
       "    this.canvas = undefined;\n",
       "    this.rubberband_canvas = undefined;\n",
       "    this.rubberband_context = undefined;\n",
       "    this.format_dropdown = undefined;\n",
       "\n",
       "    this.image_mode = 'full';\n",
       "\n",
       "    this.root = $('<div/>');\n",
       "    this._root_extra_style(this.root)\n",
       "    this.root.attr('style', 'display: inline-block');\n",
       "\n",
       "    $(parent_element).append(this.root);\n",
       "\n",
       "    this._init_header(this);\n",
       "    this._init_canvas(this);\n",
       "    this._init_toolbar(this);\n",
       "\n",
       "    var fig = this;\n",
       "\n",
       "    this.waiting = false;\n",
       "\n",
       "    this.ws.onopen =  function () {\n",
       "            fig.send_message(\"supports_binary\", {value: fig.supports_binary});\n",
       "            fig.send_message(\"send_image_mode\", {});\n",
       "            if (mpl.ratio != 1) {\n",
       "                fig.send_message(\"set_dpi_ratio\", {'dpi_ratio': mpl.ratio});\n",
       "            }\n",
       "            fig.send_message(\"refresh\", {});\n",
       "        }\n",
       "\n",
       "    this.imageObj.onload = function() {\n",
       "            if (fig.image_mode == 'full') {\n",
       "                // Full images could contain transparency (where diff images\n",
       "                // almost always do), so we need to clear the canvas so that\n",
       "                // there is no ghosting.\n",
       "                fig.context.clearRect(0, 0, fig.canvas.width, fig.canvas.height);\n",
       "            }\n",
       "            fig.context.drawImage(fig.imageObj, 0, 0);\n",
       "        };\n",
       "\n",
       "    this.imageObj.onunload = function() {\n",
       "        fig.ws.close();\n",
       "    }\n",
       "\n",
       "    this.ws.onmessage = this._make_on_message_function(this);\n",
       "\n",
       "    this.ondownload = ondownload;\n",
       "}\n",
       "\n",
       "mpl.figure.prototype._init_header = function() {\n",
       "    var titlebar = $(\n",
       "        '<div class=\"ui-dialog-titlebar ui-widget-header ui-corner-all ' +\n",
       "        'ui-helper-clearfix\"/>');\n",
       "    var titletext = $(\n",
       "        '<div class=\"ui-dialog-title\" style=\"width: 100%; ' +\n",
       "        'text-align: center; padding: 3px;\"/>');\n",
       "    titlebar.append(titletext)\n",
       "    this.root.append(titlebar);\n",
       "    this.header = titletext[0];\n",
       "}\n",
       "\n",
       "\n",
       "\n",
       "mpl.figure.prototype._canvas_extra_style = function(canvas_div) {\n",
       "\n",
       "}\n",
       "\n",
       "\n",
       "mpl.figure.prototype._root_extra_style = function(canvas_div) {\n",
       "\n",
       "}\n",
       "\n",
       "mpl.figure.prototype._init_canvas = function() {\n",
       "    var fig = this;\n",
       "\n",
       "    var canvas_div = $('<div/>');\n",
       "\n",
       "    canvas_div.attr('style', 'position: relative; clear: both; outline: 0');\n",
       "\n",
       "    function canvas_keyboard_event(event) {\n",
       "        return fig.key_event(event, event['data']);\n",
       "    }\n",
       "\n",
       "    canvas_div.keydown('key_press', canvas_keyboard_event);\n",
       "    canvas_div.keyup('key_release', canvas_keyboard_event);\n",
       "    this.canvas_div = canvas_div\n",
       "    this._canvas_extra_style(canvas_div)\n",
       "    this.root.append(canvas_div);\n",
       "\n",
       "    var canvas = $('<canvas/>');\n",
       "    canvas.addClass('mpl-canvas');\n",
       "    canvas.attr('style', \"left: 0; top: 0; z-index: 0; outline: 0\")\n",
       "\n",
       "    this.canvas = canvas[0];\n",
       "    this.context = canvas[0].getContext(\"2d\");\n",
       "\n",
       "    var backingStore = this.context.backingStorePixelRatio ||\n",
       "\tthis.context.webkitBackingStorePixelRatio ||\n",
       "\tthis.context.mozBackingStorePixelRatio ||\n",
       "\tthis.context.msBackingStorePixelRatio ||\n",
       "\tthis.context.oBackingStorePixelRatio ||\n",
       "\tthis.context.backingStorePixelRatio || 1;\n",
       "\n",
       "    mpl.ratio = (window.devicePixelRatio || 1) / backingStore;\n",
       "\n",
       "    var rubberband = $('<canvas/>');\n",
       "    rubberband.attr('style', \"position: absolute; left: 0; top: 0; z-index: 1;\")\n",
       "\n",
       "    var pass_mouse_events = true;\n",
       "\n",
       "    canvas_div.resizable({\n",
       "        start: function(event, ui) {\n",
       "            pass_mouse_events = false;\n",
       "        },\n",
       "        resize: function(event, ui) {\n",
       "            fig.request_resize(ui.size.width, ui.size.height);\n",
       "        },\n",
       "        stop: function(event, ui) {\n",
       "            pass_mouse_events = true;\n",
       "            fig.request_resize(ui.size.width, ui.size.height);\n",
       "        },\n",
       "    });\n",
       "\n",
       "    function mouse_event_fn(event) {\n",
       "        if (pass_mouse_events)\n",
       "            return fig.mouse_event(event, event['data']);\n",
       "    }\n",
       "\n",
       "    rubberband.mousedown('button_press', mouse_event_fn);\n",
       "    rubberband.mouseup('button_release', mouse_event_fn);\n",
       "    // Throttle sequential mouse events to 1 every 20ms.\n",
       "    rubberband.mousemove('motion_notify', mouse_event_fn);\n",
       "\n",
       "    rubberband.mouseenter('figure_enter', mouse_event_fn);\n",
       "    rubberband.mouseleave('figure_leave', mouse_event_fn);\n",
       "\n",
       "    canvas_div.on(\"wheel\", function (event) {\n",
       "        event = event.originalEvent;\n",
       "        event['data'] = 'scroll'\n",
       "        if (event.deltaY < 0) {\n",
       "            event.step = 1;\n",
       "        } else {\n",
       "            event.step = -1;\n",
       "        }\n",
       "        mouse_event_fn(event);\n",
       "    });\n",
       "\n",
       "    canvas_div.append(canvas);\n",
       "    canvas_div.append(rubberband);\n",
       "\n",
       "    this.rubberband = rubberband;\n",
       "    this.rubberband_canvas = rubberband[0];\n",
       "    this.rubberband_context = rubberband[0].getContext(\"2d\");\n",
       "    this.rubberband_context.strokeStyle = \"#000000\";\n",
       "\n",
       "    this._resize_canvas = function(width, height) {\n",
       "        // Keep the size of the canvas, canvas container, and rubber band\n",
       "        // canvas in synch.\n",
       "        canvas_div.css('width', width)\n",
       "        canvas_div.css('height', height)\n",
       "\n",
       "        canvas.attr('width', width * mpl.ratio);\n",
       "        canvas.attr('height', height * mpl.ratio);\n",
       "        canvas.attr('style', 'width: ' + width + 'px; height: ' + height + 'px;');\n",
       "\n",
       "        rubberband.attr('width', width);\n",
       "        rubberband.attr('height', height);\n",
       "    }\n",
       "\n",
       "    // Set the figure to an initial 600x600px, this will subsequently be updated\n",
       "    // upon first draw.\n",
       "    this._resize_canvas(600, 600);\n",
       "\n",
       "    // Disable right mouse context menu.\n",
       "    $(this.rubberband_canvas).bind(\"contextmenu\",function(e){\n",
       "        return false;\n",
       "    });\n",
       "\n",
       "    function set_focus () {\n",
       "        canvas.focus();\n",
       "        canvas_div.focus();\n",
       "    }\n",
       "\n",
       "    window.setTimeout(set_focus, 100);\n",
       "}\n",
       "\n",
       "mpl.figure.prototype._init_toolbar = function() {\n",
       "    var fig = this;\n",
       "\n",
       "    var nav_element = $('<div/>');\n",
       "    nav_element.attr('style', 'width: 100%');\n",
       "    this.root.append(nav_element);\n",
       "\n",
       "    // Define a callback function for later on.\n",
       "    function toolbar_event(event) {\n",
       "        return fig.toolbar_button_onclick(event['data']);\n",
       "    }\n",
       "    function toolbar_mouse_event(event) {\n",
       "        return fig.toolbar_button_onmouseover(event['data']);\n",
       "    }\n",
       "\n",
       "    for(var toolbar_ind in mpl.toolbar_items) {\n",
       "        var name = mpl.toolbar_items[toolbar_ind][0];\n",
       "        var tooltip = mpl.toolbar_items[toolbar_ind][1];\n",
       "        var image = mpl.toolbar_items[toolbar_ind][2];\n",
       "        var method_name = mpl.toolbar_items[toolbar_ind][3];\n",
       "\n",
       "        if (!name) {\n",
       "            // put a spacer in here.\n",
       "            continue;\n",
       "        }\n",
       "        var button = $('<button/>');\n",
       "        button.addClass('ui-button ui-widget ui-state-default ui-corner-all ' +\n",
       "                        'ui-button-icon-only');\n",
       "        button.attr('role', 'button');\n",
       "        button.attr('aria-disabled', 'false');\n",
       "        button.click(method_name, toolbar_event);\n",
       "        button.mouseover(tooltip, toolbar_mouse_event);\n",
       "\n",
       "        var icon_img = $('<span/>');\n",
       "        icon_img.addClass('ui-button-icon-primary ui-icon');\n",
       "        icon_img.addClass(image);\n",
       "        icon_img.addClass('ui-corner-all');\n",
       "\n",
       "        var tooltip_span = $('<span/>');\n",
       "        tooltip_span.addClass('ui-button-text');\n",
       "        tooltip_span.html(tooltip);\n",
       "\n",
       "        button.append(icon_img);\n",
       "        button.append(tooltip_span);\n",
       "\n",
       "        nav_element.append(button);\n",
       "    }\n",
       "\n",
       "    var fmt_picker_span = $('<span/>');\n",
       "\n",
       "    var fmt_picker = $('<select/>');\n",
       "    fmt_picker.addClass('mpl-toolbar-option ui-widget ui-widget-content');\n",
       "    fmt_picker_span.append(fmt_picker);\n",
       "    nav_element.append(fmt_picker_span);\n",
       "    this.format_dropdown = fmt_picker[0];\n",
       "\n",
       "    for (var ind in mpl.extensions) {\n",
       "        var fmt = mpl.extensions[ind];\n",
       "        var option = $(\n",
       "            '<option/>', {selected: fmt === mpl.default_extension}).html(fmt);\n",
       "        fmt_picker.append(option);\n",
       "    }\n",
       "\n",
       "    // Add hover states to the ui-buttons\n",
       "    $( \".ui-button\" ).hover(\n",
       "        function() { $(this).addClass(\"ui-state-hover\");},\n",
       "        function() { $(this).removeClass(\"ui-state-hover\");}\n",
       "    );\n",
       "\n",
       "    var status_bar = $('<span class=\"mpl-message\"/>');\n",
       "    nav_element.append(status_bar);\n",
       "    this.message = status_bar[0];\n",
       "}\n",
       "\n",
       "mpl.figure.prototype.request_resize = function(x_pixels, y_pixels) {\n",
       "    // Request matplotlib to resize the figure. Matplotlib will then trigger a resize in the client,\n",
       "    // which will in turn request a refresh of the image.\n",
       "    this.send_message('resize', {'width': x_pixels, 'height': y_pixels});\n",
       "}\n",
       "\n",
       "mpl.figure.prototype.send_message = function(type, properties) {\n",
       "    properties['type'] = type;\n",
       "    properties['figure_id'] = this.id;\n",
       "    this.ws.send(JSON.stringify(properties));\n",
       "}\n",
       "\n",
       "mpl.figure.prototype.send_draw_message = function() {\n",
       "    if (!this.waiting) {\n",
       "        this.waiting = true;\n",
       "        this.ws.send(JSON.stringify({type: \"draw\", figure_id: this.id}));\n",
       "    }\n",
       "}\n",
       "\n",
       "\n",
       "mpl.figure.prototype.handle_save = function(fig, msg) {\n",
       "    var format_dropdown = fig.format_dropdown;\n",
       "    var format = format_dropdown.options[format_dropdown.selectedIndex].value;\n",
       "    fig.ondownload(fig, format);\n",
       "}\n",
       "\n",
       "\n",
       "mpl.figure.prototype.handle_resize = function(fig, msg) {\n",
       "    var size = msg['size'];\n",
       "    if (size[0] != fig.canvas.width || size[1] != fig.canvas.height) {\n",
       "        fig._resize_canvas(size[0], size[1]);\n",
       "        fig.send_message(\"refresh\", {});\n",
       "    };\n",
       "}\n",
       "\n",
       "mpl.figure.prototype.handle_rubberband = function(fig, msg) {\n",
       "    var x0 = msg['x0'] / mpl.ratio;\n",
       "    var y0 = (fig.canvas.height - msg['y0']) / mpl.ratio;\n",
       "    var x1 = msg['x1'] / mpl.ratio;\n",
       "    var y1 = (fig.canvas.height - msg['y1']) / mpl.ratio;\n",
       "    x0 = Math.floor(x0) + 0.5;\n",
       "    y0 = Math.floor(y0) + 0.5;\n",
       "    x1 = Math.floor(x1) + 0.5;\n",
       "    y1 = Math.floor(y1) + 0.5;\n",
       "    var min_x = Math.min(x0, x1);\n",
       "    var min_y = Math.min(y0, y1);\n",
       "    var width = Math.abs(x1 - x0);\n",
       "    var height = Math.abs(y1 - y0);\n",
       "\n",
       "    fig.rubberband_context.clearRect(\n",
       "        0, 0, fig.canvas.width / mpl.ratio, fig.canvas.height / mpl.ratio);\n",
       "\n",
       "    fig.rubberband_context.strokeRect(min_x, min_y, width, height);\n",
       "}\n",
       "\n",
       "mpl.figure.prototype.handle_figure_label = function(fig, msg) {\n",
       "    // Updates the figure title.\n",
       "    fig.header.textContent = msg['label'];\n",
       "}\n",
       "\n",
       "mpl.figure.prototype.handle_cursor = function(fig, msg) {\n",
       "    var cursor = msg['cursor'];\n",
       "    switch(cursor)\n",
       "    {\n",
       "    case 0:\n",
       "        cursor = 'pointer';\n",
       "        break;\n",
       "    case 1:\n",
       "        cursor = 'default';\n",
       "        break;\n",
       "    case 2:\n",
       "        cursor = 'crosshair';\n",
       "        break;\n",
       "    case 3:\n",
       "        cursor = 'move';\n",
       "        break;\n",
       "    }\n",
       "    fig.rubberband_canvas.style.cursor = cursor;\n",
       "}\n",
       "\n",
       "mpl.figure.prototype.handle_message = function(fig, msg) {\n",
       "    fig.message.textContent = msg['message'];\n",
       "}\n",
       "\n",
       "mpl.figure.prototype.handle_draw = function(fig, msg) {\n",
       "    // Request the server to send over a new figure.\n",
       "    fig.send_draw_message();\n",
       "}\n",
       "\n",
       "mpl.figure.prototype.handle_image_mode = function(fig, msg) {\n",
       "    fig.image_mode = msg['mode'];\n",
       "}\n",
       "\n",
       "mpl.figure.prototype.updated_canvas_event = function() {\n",
       "    // Called whenever the canvas gets updated.\n",
       "    this.send_message(\"ack\", {});\n",
       "}\n",
       "\n",
       "// A function to construct a web socket function for onmessage handling.\n",
       "// Called in the figure constructor.\n",
       "mpl.figure.prototype._make_on_message_function = function(fig) {\n",
       "    return function socket_on_message(evt) {\n",
       "        if (evt.data instanceof Blob) {\n",
       "            /* FIXME: We get \"Resource interpreted as Image but\n",
       "             * transferred with MIME type text/plain:\" errors on\n",
       "             * Chrome.  But how to set the MIME type?  It doesn't seem\n",
       "             * to be part of the websocket stream */\n",
       "            evt.data.type = \"image/png\";\n",
       "\n",
       "            /* Free the memory for the previous frames */\n",
       "            if (fig.imageObj.src) {\n",
       "                (window.URL || window.webkitURL).revokeObjectURL(\n",
       "                    fig.imageObj.src);\n",
       "            }\n",
       "\n",
       "            fig.imageObj.src = (window.URL || window.webkitURL).createObjectURL(\n",
       "                evt.data);\n",
       "            fig.updated_canvas_event();\n",
       "            fig.waiting = false;\n",
       "            return;\n",
       "        }\n",
       "        else if (typeof evt.data === 'string' && evt.data.slice(0, 21) == \"data:image/png;base64\") {\n",
       "            fig.imageObj.src = evt.data;\n",
       "            fig.updated_canvas_event();\n",
       "            fig.waiting = false;\n",
       "            return;\n",
       "        }\n",
       "\n",
       "        var msg = JSON.parse(evt.data);\n",
       "        var msg_type = msg['type'];\n",
       "\n",
       "        // Call the  \"handle_{type}\" callback, which takes\n",
       "        // the figure and JSON message as its only arguments.\n",
       "        try {\n",
       "            var callback = fig[\"handle_\" + msg_type];\n",
       "        } catch (e) {\n",
       "            console.log(\"No handler for the '\" + msg_type + \"' message type: \", msg);\n",
       "            return;\n",
       "        }\n",
       "\n",
       "        if (callback) {\n",
       "            try {\n",
       "                // console.log(\"Handling '\" + msg_type + \"' message: \", msg);\n",
       "                callback(fig, msg);\n",
       "            } catch (e) {\n",
       "                console.log(\"Exception inside the 'handler_\" + msg_type + \"' callback:\", e, e.stack, msg);\n",
       "            }\n",
       "        }\n",
       "    };\n",
       "}\n",
       "\n",
       "// from http://stackoverflow.com/questions/1114465/getting-mouse-location-in-canvas\n",
       "mpl.findpos = function(e) {\n",
       "    //this section is from http://www.quirksmode.org/js/events_properties.html\n",
       "    var targ;\n",
       "    if (!e)\n",
       "        e = window.event;\n",
       "    if (e.target)\n",
       "        targ = e.target;\n",
       "    else if (e.srcElement)\n",
       "        targ = e.srcElement;\n",
       "    if (targ.nodeType == 3) // defeat Safari bug\n",
       "        targ = targ.parentNode;\n",
       "\n",
       "    // jQuery normalizes the pageX and pageY\n",
       "    // pageX,Y are the mouse positions relative to the document\n",
       "    // offset() returns the position of the element relative to the document\n",
       "    var x = e.pageX - $(targ).offset().left;\n",
       "    var y = e.pageY - $(targ).offset().top;\n",
       "\n",
       "    return {\"x\": x, \"y\": y};\n",
       "};\n",
       "\n",
       "/*\n",
       " * return a copy of an object with only non-object keys\n",
       " * we need this to avoid circular references\n",
       " * http://stackoverflow.com/a/24161582/3208463\n",
       " */\n",
       "function simpleKeys (original) {\n",
       "  return Object.keys(original).reduce(function (obj, key) {\n",
       "    if (typeof original[key] !== 'object')\n",
       "        obj[key] = original[key]\n",
       "    return obj;\n",
       "  }, {});\n",
       "}\n",
       "\n",
       "mpl.figure.prototype.mouse_event = function(event, name) {\n",
       "    var canvas_pos = mpl.findpos(event)\n",
       "\n",
       "    if (name === 'button_press')\n",
       "    {\n",
       "        this.canvas.focus();\n",
       "        this.canvas_div.focus();\n",
       "    }\n",
       "\n",
       "    var x = canvas_pos.x * mpl.ratio;\n",
       "    var y = canvas_pos.y * mpl.ratio;\n",
       "\n",
       "    this.send_message(name, {x: x, y: y, button: event.button,\n",
       "                             step: event.step,\n",
       "                             guiEvent: simpleKeys(event)});\n",
       "\n",
       "    /* This prevents the web browser from automatically changing to\n",
       "     * the text insertion cursor when the button is pressed.  We want\n",
       "     * to control all of the cursor setting manually through the\n",
       "     * 'cursor' event from matplotlib */\n",
       "    event.preventDefault();\n",
       "    return false;\n",
       "}\n",
       "\n",
       "mpl.figure.prototype._key_event_extra = function(event, name) {\n",
       "    // Handle any extra behaviour associated with a key event\n",
       "}\n",
       "\n",
       "mpl.figure.prototype.key_event = function(event, name) {\n",
       "\n",
       "    // Prevent repeat events\n",
       "    if (name == 'key_press')\n",
       "    {\n",
       "        if (event.which === this._key)\n",
       "            return;\n",
       "        else\n",
       "            this._key = event.which;\n",
       "    }\n",
       "    if (name == 'key_release')\n",
       "        this._key = null;\n",
       "\n",
       "    var value = '';\n",
       "    if (event.ctrlKey && event.which != 17)\n",
       "        value += \"ctrl+\";\n",
       "    if (event.altKey && event.which != 18)\n",
       "        value += \"alt+\";\n",
       "    if (event.shiftKey && event.which != 16)\n",
       "        value += \"shift+\";\n",
       "\n",
       "    value += 'k';\n",
       "    value += event.which.toString();\n",
       "\n",
       "    this._key_event_extra(event, name);\n",
       "\n",
       "    this.send_message(name, {key: value,\n",
       "                             guiEvent: simpleKeys(event)});\n",
       "    return false;\n",
       "}\n",
       "\n",
       "mpl.figure.prototype.toolbar_button_onclick = function(name) {\n",
       "    if (name == 'download') {\n",
       "        this.handle_save(this, null);\n",
       "    } else {\n",
       "        this.send_message(\"toolbar_button\", {name: name});\n",
       "    }\n",
       "};\n",
       "\n",
       "mpl.figure.prototype.toolbar_button_onmouseover = function(tooltip) {\n",
       "    this.message.textContent = tooltip;\n",
       "};\n",
       "mpl.toolbar_items = [[\"Home\", \"Reset original view\", \"fa fa-home icon-home\", \"home\"], [\"Back\", \"Back to previous view\", \"fa fa-arrow-left icon-arrow-left\", \"back\"], [\"Forward\", \"Forward to next view\", \"fa fa-arrow-right icon-arrow-right\", \"forward\"], [\"\", \"\", \"\", \"\"], [\"Pan\", \"Pan axes with left mouse, zoom with right\", \"fa fa-arrows icon-move\", \"pan\"], [\"Zoom\", \"Zoom to rectangle\", \"fa fa-square-o icon-check-empty\", \"zoom\"], [\"\", \"\", \"\", \"\"], [\"Download\", \"Download plot\", \"fa fa-floppy-o icon-save\", \"download\"]];\n",
       "\n",
       "mpl.extensions = [\"eps\", \"jpeg\", \"pdf\", \"png\", \"ps\", \"raw\", \"svg\", \"tif\"];\n",
       "\n",
       "mpl.default_extension = \"png\";var comm_websocket_adapter = function(comm) {\n",
       "    // Create a \"websocket\"-like object which calls the given IPython comm\n",
       "    // object with the appropriate methods. Currently this is a non binary\n",
       "    // socket, so there is still some room for performance tuning.\n",
       "    var ws = {};\n",
       "\n",
       "    ws.close = function() {\n",
       "        comm.close()\n",
       "    };\n",
       "    ws.send = function(m) {\n",
       "        //console.log('sending', m);\n",
       "        comm.send(m);\n",
       "    };\n",
       "    // Register the callback with on_msg.\n",
       "    comm.on_msg(function(msg) {\n",
       "        //console.log('receiving', msg['content']['data'], msg);\n",
       "        // Pass the mpl event to the overridden (by mpl) onmessage function.\n",
       "        ws.onmessage(msg['content']['data'])\n",
       "    });\n",
       "    return ws;\n",
       "}\n",
       "\n",
       "mpl.mpl_figure_comm = function(comm, msg) {\n",
       "    // This is the function which gets called when the mpl process\n",
       "    // starts-up an IPython Comm through the \"matplotlib\" channel.\n",
       "\n",
       "    var id = msg.content.data.id;\n",
       "    // Get hold of the div created by the display call when the Comm\n",
       "    // socket was opened in Python.\n",
       "    var element = $(\"#\" + id);\n",
       "    var ws_proxy = comm_websocket_adapter(comm)\n",
       "\n",
       "    function ondownload(figure, format) {\n",
       "        window.open(figure.imageObj.src);\n",
       "    }\n",
       "\n",
       "    var fig = new mpl.figure(id, ws_proxy,\n",
       "                           ondownload,\n",
       "                           element.get(0));\n",
       "\n",
       "    // Call onopen now - mpl needs it, as it is assuming we've passed it a real\n",
       "    // web socket which is closed, not our websocket->open comm proxy.\n",
       "    ws_proxy.onopen();\n",
       "\n",
       "    fig.parent_element = element.get(0);\n",
       "    fig.cell_info = mpl.find_output_cell(\"<div id='\" + id + \"'></div>\");\n",
       "    if (!fig.cell_info) {\n",
       "        console.error(\"Failed to find cell for figure\", id, fig);\n",
       "        return;\n",
       "    }\n",
       "\n",
       "    var output_index = fig.cell_info[2]\n",
       "    var cell = fig.cell_info[0];\n",
       "\n",
       "};\n",
       "\n",
       "mpl.figure.prototype.handle_close = function(fig, msg) {\n",
       "    var width = fig.canvas.width/mpl.ratio\n",
       "    fig.root.unbind('remove')\n",
       "\n",
       "    // Update the output cell to use the data from the current canvas.\n",
       "    fig.push_to_output();\n",
       "    var dataURL = fig.canvas.toDataURL();\n",
       "    // Re-enable the keyboard manager in IPython - without this line, in FF,\n",
       "    // the notebook keyboard shortcuts fail.\n",
       "    IPython.keyboard_manager.enable()\n",
       "    $(fig.parent_element).html('<img src=\"' + dataURL + '\" width=\"' + width + '\">');\n",
       "    fig.close_ws(fig, msg);\n",
       "}\n",
       "\n",
       "mpl.figure.prototype.close_ws = function(fig, msg){\n",
       "    fig.send_message('closing', msg);\n",
       "    // fig.ws.close()\n",
       "}\n",
       "\n",
       "mpl.figure.prototype.push_to_output = function(remove_interactive) {\n",
       "    // Turn the data on the canvas into data in the output cell.\n",
       "    var width = this.canvas.width/mpl.ratio\n",
       "    var dataURL = this.canvas.toDataURL();\n",
       "    this.cell_info[1]['text/html'] = '<img src=\"' + dataURL + '\" width=\"' + width + '\">';\n",
       "}\n",
       "\n",
       "mpl.figure.prototype.updated_canvas_event = function() {\n",
       "    // Tell IPython that the notebook contents must change.\n",
       "    IPython.notebook.set_dirty(true);\n",
       "    this.send_message(\"ack\", {});\n",
       "    var fig = this;\n",
       "    // Wait a second, then push the new image to the DOM so\n",
       "    // that it is saved nicely (might be nice to debounce this).\n",
       "    setTimeout(function () { fig.push_to_output() }, 1000);\n",
       "}\n",
       "\n",
       "mpl.figure.prototype._init_toolbar = function() {\n",
       "    var fig = this;\n",
       "\n",
       "    var nav_element = $('<div/>');\n",
       "    nav_element.attr('style', 'width: 100%');\n",
       "    this.root.append(nav_element);\n",
       "\n",
       "    // Define a callback function for later on.\n",
       "    function toolbar_event(event) {\n",
       "        return fig.toolbar_button_onclick(event['data']);\n",
       "    }\n",
       "    function toolbar_mouse_event(event) {\n",
       "        return fig.toolbar_button_onmouseover(event['data']);\n",
       "    }\n",
       "\n",
       "    for(var toolbar_ind in mpl.toolbar_items){\n",
       "        var name = mpl.toolbar_items[toolbar_ind][0];\n",
       "        var tooltip = mpl.toolbar_items[toolbar_ind][1];\n",
       "        var image = mpl.toolbar_items[toolbar_ind][2];\n",
       "        var method_name = mpl.toolbar_items[toolbar_ind][3];\n",
       "\n",
       "        if (!name) { continue; };\n",
       "\n",
       "        var button = $('<button class=\"btn btn-default\" href=\"#\" title=\"' + name + '\"><i class=\"fa ' + image + ' fa-lg\"></i></button>');\n",
       "        button.click(method_name, toolbar_event);\n",
       "        button.mouseover(tooltip, toolbar_mouse_event);\n",
       "        nav_element.append(button);\n",
       "    }\n",
       "\n",
       "    // Add the status bar.\n",
       "    var status_bar = $('<span class=\"mpl-message\" style=\"text-align:right; float: right;\"/>');\n",
       "    nav_element.append(status_bar);\n",
       "    this.message = status_bar[0];\n",
       "\n",
       "    // Add the close button to the window.\n",
       "    var buttongrp = $('<div class=\"btn-group inline pull-right\"></div>');\n",
       "    var button = $('<button class=\"btn btn-mini btn-primary\" href=\"#\" title=\"Stop Interaction\"><i class=\"fa fa-power-off icon-remove icon-large\"></i></button>');\n",
       "    button.click(function (evt) { fig.handle_close(fig, {}); } );\n",
       "    button.mouseover('Stop Interaction', toolbar_mouse_event);\n",
       "    buttongrp.append(button);\n",
       "    var titlebar = this.root.find($('.ui-dialog-titlebar'));\n",
       "    titlebar.prepend(buttongrp);\n",
       "}\n",
       "\n",
       "mpl.figure.prototype._root_extra_style = function(el){\n",
       "    var fig = this\n",
       "    el.on(\"remove\", function(){\n",
       "\tfig.close_ws(fig, {});\n",
       "    });\n",
       "}\n",
       "\n",
       "mpl.figure.prototype._canvas_extra_style = function(el){\n",
       "    // this is important to make the div 'focusable\n",
       "    el.attr('tabindex', 0)\n",
       "    // reach out to IPython and tell the keyboard manager to turn it's self\n",
       "    // off when our div gets focus\n",
       "\n",
       "    // location in version 3\n",
       "    if (IPython.notebook.keyboard_manager) {\n",
       "        IPython.notebook.keyboard_manager.register_events(el);\n",
       "    }\n",
       "    else {\n",
       "        // location in version 2\n",
       "        IPython.keyboard_manager.register_events(el);\n",
       "    }\n",
       "\n",
       "}\n",
       "\n",
       "mpl.figure.prototype._key_event_extra = function(event, name) {\n",
       "    var manager = IPython.notebook.keyboard_manager;\n",
       "    if (!manager)\n",
       "        manager = IPython.keyboard_manager;\n",
       "\n",
       "    // Check for shift+enter\n",
       "    if (event.shiftKey && event.which == 13) {\n",
       "        this.canvas_div.blur();\n",
       "        // select the cell after this one\n",
       "        var index = IPython.notebook.find_cell_index(this.cell_info[0]);\n",
       "        IPython.notebook.select(index + 1);\n",
       "    }\n",
       "}\n",
       "\n",
       "mpl.figure.prototype.handle_save = function(fig, msg) {\n",
       "    fig.ondownload(fig, null);\n",
       "}\n",
       "\n",
       "\n",
       "mpl.find_output_cell = function(html_output) {\n",
       "    // Return the cell and output element which can be found *uniquely* in the notebook.\n",
       "    // Note - this is a bit hacky, but it is done because the \"notebook_saving.Notebook\"\n",
       "    // IPython event is triggered only after the cells have been serialised, which for\n",
       "    // our purposes (turning an active figure into a static one), is too late.\n",
       "    var cells = IPython.notebook.get_cells();\n",
       "    var ncells = cells.length;\n",
       "    for (var i=0; i<ncells; i++) {\n",
       "        var cell = cells[i];\n",
       "        if (cell.cell_type === 'code'){\n",
       "            for (var j=0; j<cell.output_area.outputs.length; j++) {\n",
       "                var data = cell.output_area.outputs[j];\n",
       "                if (data.data) {\n",
       "                    // IPython >= 3 moved mimebundle to data attribute of output\n",
       "                    data = data.data;\n",
       "                }\n",
       "                if (data['text/html'] == html_output) {\n",
       "                    return [cell, data, j];\n",
       "                }\n",
       "            }\n",
       "        }\n",
       "    }\n",
       "}\n",
       "\n",
       "// Register the function which deals with the matplotlib target/channel.\n",
       "// The kernel may be null if the page has been refreshed.\n",
       "if (IPython.notebook.kernel != null) {\n",
       "    IPython.notebook.kernel.comm_manager.register_target('matplotlib', mpl.mpl_figure_comm);\n",
       "}\n"
      ],
      "text/plain": [
       "<IPython.core.display.Javascript object>"
      ]
     },
     "metadata": {},
     "output_type": "display_data"
    },
    {
     "data": {
      "text/html": [
       "<img src=\"data:image/png;base64,iVBORw0KGgoAAAANSUhEUgAABLAAAAJYCAYAAABy5h8aAAAgAElEQVR4nOzde3xU9b3v/wUhBEwADYLcQpBLSLYXbORQe2TDVvuoinigu1bUVqO29nDxQM7WKj7K2RE3YBELakVPZVO2P7nkQMF63yotBQn11h0q7uF+k5sKbgExEDLJ+/fHdMZMMvfMyvc7K6/n4/F9wKysNbMmyffLfN5813c5AgAAAAAAxjkAojPdQQEAAAAAAAEWEJPpDgoAAAAAAAiwgJhMd1AAAAAAAECABcRkuoMCAAAAAAACLCAm0x0UAAAAAAAQYAExme6gAAAAAACAAAuIyXQHBQAAAAAABFhATKY7KAAAAAAAIMACYjLdQQEAAAAAAAEWEJPpDgoAAAAAAAiwgJhMd1AAAAAAAECABcRkuoMCAAAAAAACLCAm0x0UAAAAAAAQYAExme6gNqqvr9eBAwd0/PhxnThxgkaj0Wgea8ePH9eBAwdUX19v+p8cz6mrq9P777+v/fv368CBAzQajUbzWNu/f7/ef/991dXVmf4nx5NM5wOA1Ux3UBsdOHBAjuPQaDQazePtwIEDpv/J8Zz333/f+M+VRqPRaO63999/3/Q/OZ7kAIjOdAe10fHjx+U4gcLG9CwBGo1Go6W/Bf+j4vjx46b/yfGc/fv3hwob07MEaDQajZb+FvyPiv3795v+J8eTzKYDgOVMd1AbnThxQo7j6MSJE6ZPBQDgAsZ59xw4cCD0n0AAAO9hnHeX2XQAsJzpDmojChsA8DbGefdQ2ACAtzHOu8tsOgBYznQHtRGFDQB4G+O8eyhsAMDbGOfdZTYdACxnuoPaiMIGALyNcd49FDYA4G2pjvMLFy7UgAEDlJOTo9LSUm3YsCHqvuvWrYu4cPzWrVvD9vvd736nkpISdezYUSUlJVqzZk1K78kmxoIBIBOY7qA2orAB2ia/36/Tp0/TPND8fn/MnzXjvHsIsABkMj4LxP83NJVxvrKyUtnZ2Vq0aJF8Pp+mTZum3NzcqAvBBwOs7du368iRI6HW+Nw2bdqkrKwszZkzR1u3btWcOXPUoUMHvfvuuwmfl42MhgOA7Ux3UBtR2ABtS0NDgw4fPiyfz0fzUDt8+LAaGhoi/swZ591DgAUgE/FZIPF/Q1MZ50eMGKGJEyeGbSsuLtb06dMj7h8MsL788suoz3nzzTfruuuuC9t27bXX6pZbbkn4vGxkNBwAbGe6g9qIwgZoW4IfWI8dO6aamhrj//NJa1mrqanRsWPHQh/AI2Gcdw8BFoBMxGeBxP8NDY7zPp9PJ06cCLUzZ85E3L+2tlZZWVnNLu+bOnWqRo0aFfGYYIA1YMAA9erVS1dffbX++Mc/hu1TUFCg+fPnh22bP3+++vfvn+iP3UpGwwHAdqY7qI0obIC2w+/3hz6wwluCH8AjXQrBOO8eAiwAmYbPAs3F+jc0OM43bRUVFRGf69ChQ3IcR1VVVWHbZ8+eraKioojHbNu2Tc8995z+8pe/aNOmTZo0aZLatWun9evXh/bJzs7WsmXLwo5btmyZOnbsmOS7tYuxYADIBKY7qI0obIC24/Tp0/L5fKqpqTF9Kkizmpoa+Xw+nT59utnXGOfdQ4AFINPwWaC5WP+GJjsDKxhgbdq0KWz7rFmzNHTo0ITPaezYsbrxxhtDj7Ozs7V8+fKwfZYuXaqcnJyEn9NGRsMBwHamO6iNKGyAtiP4oTXSBzRktlg/W8Z59xBgAcg0fBZoLtb3JNlxPpVLCCOZNWuWiouLQ4+5hBBog0x3UBtR2ABtBx9aw40ePVrTpk0zfRppQYBlBgEWgEzj5c8CR44c0Xe/+12dc8456tatW9RtTaUzwJICi7hPmjQpbFtJSUnURdwj+cEPfqCrrroq9Pjmm2/W9ddfH7bPddddxyLugJeZ7qA2orAB2o5M/dDqRFh7onErKytL6Xm/+OILnTx5Mr0nawgBlhkEWAAyTaZ+FpCksrKyiJ8Drr32WknSAw88oIsuukg7duzQZ599FnVbU+kOsCorK5Wdna3FixfL5/OpvLxcubm52rdvnyRp+vTpuv3220P7L1iwQC+++KJ27Nihjz/+WNOnT5fjOFq9enVon6qqKmVlZemXv/yltm7dql/+8pfq0KGD3n333YTPy0atnQcAGcV0B7URhQ3QdqTzQ6u/vkGbdh3T76sPatOuY/LXR779dDocOXIk1J544gl17do1bNvx48fD9j979qxr52IrAiwzCLAAZJq0fhbwS+vWScuXB/6MsAZ6WpWVlem6664L+wxw5MgR/dd//ZekwKylO+64I+yYSNuaSneAJUkLFy5UYWGhOnbsqNLS0rAF2cvKyjR69OjQ47lz52rQoEHq1KmTzjvvPI0cOVKvvfZas+dctWqVhg4dquzsbBUXF4cFXJnKbDoAWM50B7URhQ3QdqTrQ+sbWw7rijlrVfjgq6F2xZy1emNL5FtQp9OSJUvCLgHYu3evHMfR//t//0+jR49WTk6Ofvvb3+rYsWO65ZZb1LdvX3Xu3FkXX3xxs8VPm15CWFhYqNmzZ+uuu+5SXl6eCgoK9Jvf/Mb195QOBFhmEGAByDTp+iywerXUr5/kON+0fv0C291SVlamcePGRfxaYWFhs9nZkbZF4kaAhcQYigWAzGC6g9qIwgZoO9LxofWNLYc1oFFwFWwD/tbcDrGiBVgDBgzQ6tWrtWfPHh06dEgHDx7UvHnzVF1drd27d+upp55SVlZW2FT7SAFWfn6+Fi5cqJ07d+rRRx9V+/bttXXrVlffUzoQYJlBYQMg06Tjs8Dq1VK7duHhleMEtrVr516IFSvA+vzzz3Xdddfp5ptvDs3OjrQtEgIsc4yGA4DtTHdQG1HYAG1HpA9oDQ0N+rq2LqF28vRZjZj9drPwqnGI9e3Za3Xy9Nm4z9XQkNolh9ECrCeeeCLusWPGjNF9990XehwpwPrxj38c9r3p2bOnnn322ZTOtTURYJlBYQMg00T+LCCdOpVYO3FC6tu3eXjVOMTq1y+wXyLPl8zHgbKyMmVlZSk3NzesPfLII5KkcePGNZtlFWlbIt+TIMZ5dxkNBwDbme6gbnvllVdUVFSkwYMHa9GiRQkdQ2EDtB2RPqB9XVsXNZBys31dW5fSe4gWYG3cuDFsP7/fr1mzZumSSy5Rfn6+cnNz1aFDB/3whz8M7RMpwHrsscfCnufSSy/VzJkzUzrX1kSAZQaFDYBME+nfi1OnogdSbrdTpxI/97KyMn33u9/Vzp07w9oXX3whiQArExkNBwDbme6gbqqrq9OQIUN08OBBnTx5UoMHDw4N5rFQ2ABth5cDrOrq6rD95s6dq+7du+uFF17Q5s2btXPnTt1www1hlx5ECrAWLFgQ9jzDhg1TRUVFSufamgiwzKCwAZBpMj3AinYJoUSAlYmMhgOA7Ux3UDdVVVVp/PjxocdTp05ttmBxJBQ2QNvR0ksI1237LKFwat22z1r9EsKmAdbYsWN19913hx7X19erqKiIAAtpRWEDINO09BLC119PLJh6/XV3LiEkwPIWo+EAYLs5c+Zo+PDhysvLU48ePTRu3Dht27Ytbsc6ePCgfvSjHyk/P1+dO3fWsGHD9OGHH6a1865fv15jx45V79695TiOXnzxxWb7LFy4UAMGDFBOTo5KS0u1YcOG0NdWrVqlKVOmhB4/9thjmjdvXtzXpbAB2o6WLtzqr2/QFXPWRlzEPbgG1hVz1spfn1o4lYhEA6zy8nIVFBSoqqpKPp9PP/3pT9W1a1cCLKQVhQ2ATNPizwL+wBpXkRZxD66BVVAQ2C/dysrKdN111+nIkSNh7ejRo5IIsDKRyWwAsN61116rJUuW6OOPP9bmzZt1ww03qH///joVY+7qf/3Xf6mwsFB33nmn3nvvPe3du1dr167Vrl27Iu6/ceNGnT17ttn2rVu36siRI1Ff5/XXX9cvfvELrV69OmKAVVlZqezsbC1atEg+n0/Tpk1Tbm6u9u/fL0lauXJlswDr8ccfjzlgSBQ2QFuSzrsQNg2xTN+FsGmA9cUXX2jcuHHKy8tTz549NWPGDN1xxx0EWEgrChsAmSaddyFsGmK1xl0IHcdp1oYOHSqJACsTGYoFgMzQtMN8/vnnchxH69evj9qpHnzwQY0cOTKhDlhfX69hw4bppptukr/Rfzts375dvXr10ty5cxPtyM0CrBEjRmjixIlh24qLizV9+nRJkS8hXLZsWdzXorAB2o50fGiVAiHWFXPWhgVYV8xZ63p4hegIsMygsAGQadL1WWD16sBMrMYBVkGBe+GVmwiwzDGZDQDWa9phdu7cKcdxtGXLlqidqqSkROXl5brpppvUo0cPXXbZZXruueei7n/o0CENGjRIt912m+rr67Vr1y717dtXP/vZz5LpyGEBVm1trbKysrRmzZqw/aZOnapRo0ZJCiziPnjw4LBF3I8dOxb1NZ5++mmVlJSoqKiIwgZoI9L1oVUKXE64adcx/b76oDbtOubqZYOIjwDLDAobAJkmrZ8F/NK6ddLy5YE/3bhssDUQYJljMhsArNe4szQ0NOjGG2+MO7sqJydHOTk5euihh/Qf//Ef+r//9/+qU6dOev7556Mes3//fhUWFmrChAnq37+/7rjjjqQWLHaaBFiHDh2S4ziqqqoK22/27NkqKioKPX7ppZc0ZMgQDRo0SL/5zW8Sei0KG6DtSOeHVtiFAMsMChsAmYbPAs0RYJljMhsArNe4s0yePFmFhYVxB6Ps7Gx95zvfCdv2v/7X/9IVV1wR87j169fLcRwNHDhQdXXJ3S7eiRJgbdq0KWy/WbNmha75ThWFDdB28KHVuwiwzKCwAZBp+CzQHAGWOQajAcB+wY5y7733ql+/ftqzZ0/cTtW/f3/95Cc/Cdv2zDPPqE+fPlGP+fTTTzV06FDdeOON6tWrl+69995kO3LSlxCmisIGaDv40OpdBFhmUNgAyDR8FmiOAMsco+EAYLuGhgZNmTJFffr00Y4dOxLqVLfeemuzywzLy8ubzcoKOnr0qC666CKNHz9edXV18vl86tmzp+67775kOnLERdwnTZoUtq2kpCS0iHuqKGyAtoMPrd5FgGUGhQ2ATMNngeYIsMwxGg4Atps0aZK6deumP/3pTzpy5Eio1dTUSJJ+/etf6+qrrw7rVO+//746dOig2bNna+fOnVq2bJnOOeccLV26tFkHrK+v1+WXX64xY8aotrY2tP2jjz5S9+7dNX/+/Kid96uvvlJ1dbWqq6vlOI7mz5+v6upq7d+/X5JUWVmp7OxsLV68WD6fT+Xl5crNzdW+fftaNGhQ2ABtBx9avYsAywwKGwCZJvjvRbD+gVRTU0OAZYjRcADIAIrUlixZIkmqqKhQYWFhs471yiuv6OKLL1ZOTo6Ki4tj3oXwrbfeijj4VVdX65NPPol63Lp16yKeW1lZWWifhQsXqrCwUB07dlRpaanWr1+f8OAQDYUN0HYQYHkXAZYZFDYAMo3f75fP54t5t/K25tixY/L5fPJHuI0i47y7TAQCQMYw3UFtRGEDtB0EWN5FgGUGhQ2ATHT48OFQiFVTU6PTp0+3yVZTUxMKrw4fPhzxe8U47y6z6QBgOdMd1EYUNkDbQYDlXQRYZlDYAMhEDQ0NoRCLFgivGhoaIn6vGOfdZTYdACxnuoPaiMIGaDvacoA1evRoTZs2LfS4sLBQCxYsiHmME+GGGqlI1/PEQoBlBoUNgEzm9/uNz4Iy3SJdNtgY47y7TGYDgPVMd1AbUdgAbUemBlhjx47VNddcE/FrmzZtkuM4+stf/hLzOZoGWJ9//rm+/vrrmMc4SQZPFRUVGjZsWLPtR44c0ZkzZxJ+nlQQYJlBYQMA3sY47y6T2QBgPdMd1EYUNkDbkdYAq94v7dkgfbQq8Gd97P/BbIkXX3xR7dq1i3jX1Z/+9Ke67LLL4j5H0wArEU6aAqzWQIBlBoUNAHgb47y7jIYDgO1Md1AbUdgAbUfaAqz/fEn6VbFU0fWb9qviwHYX1NXV6YILLtDDDz8ctv3rr79Wly5d9PDDD+uWW25R37591blzZ1188cVavnx52L7xLiHcsWOH/v7v/145OTkqKSnRW2+91SzAeuCBBzRkyBB17txZF154oWbMmKGzZ89KkpYsWRL1DrdNn+ejjz7SVVddpU6dOik/P1/33HOPvvrqq9DXy8rKNG7cOM2bN0+9evVSfn6+Jk+eHHqtSAiwzKCwAQBvY5x3l6lcAMgIpjuojShsgLYjLQHWf74kVXQLD68quv5tWzfXQqyf//znGjBgQNgiq//2b/+mnJwcHTx4UPPmzVN1dbV2796tp556SllZWXr33XdD+8YKsOrr63XxxRfrH/7hH1RdXa3169frW9/6VrPg6V/+5V9UVVWlvXv36uWXX9YFF1yguXPnSpJqamp033336aKLLtKRI0d05MgR1dTUSAoPsL7++mv16dNH//iP/6gtW7boD3/4gy688EKVlZWFXqesrExdu3bVxIkTtXXrVr3yyis655xz9Nxzz0X9/hBgmUFhAwDexjjvLpPZAGA90x3URhQ2QNsRMeRoaJBqTyXWTp+QHh8aIbxqFGL9qjiwX7zninK3n2i2bt0qx3H0xz/+MbRt1KhRuvXWWyPuP2bMGN13332hx7ECrDfffFNZWVlhH07feOONuJcQPvbYY7r88stDj6NdQtj4eZ577jmdd955OnXqVOjrr732mtq3b69PP/1UUiDAKiwsDFtY9oc//KEmTJgQ9VwIsMygsAEAb2Ocd5fBaACwn+kOaiMKG6DtiBhy1J6KEUi52GpPRT/RKP77f//v+vGPfyxJ2rVrl9q1a6e3335bfr9fs2bN0iWXXKL8/Hzl5uaqQ4cO+uEPfxg6NlaA9cQTT+jCCy8Me63jx483C7BWrVqlK6+8UhdccIFyc3OVk5OjHj16hL6eSID1v//3/9Y//MM/RHyt9evXSwoEWGPGjAnbZ+rUqbrqqquifm/aQoC1cOFCDRgwQDk5OSotLdWGDRti7v/000+ruLhYnTp1UlFRkZ5//vmo+65YsUKO42jcuHFJnROFDQB4G+O8u8wlA0AGMN1BbeSVwgZAfJkeYC1evFidO3fWiRMn9Itf/CJ0SeHcuXPVvXt3vfDCC9q8ebN27typG264ISyMiBVgLViwoFmAFRwbg8HTn//8Z2VlZWnWrFn64IMPtGPHDj3yyCPq1q1b6JhEAqzy8vJmQVQwwAoGMsE1sBqbNm2aRo8eHfV74/UAq7KyUtnZ2Vq0aJF8Pp+mTZum3Nxc7d+/P+L+zzzzjLp06aLKykrt3r1bK1asUF5enl5++eVm++7bt099+/bV3//93xNgAQDCMM67y2A0ANjPdAe1kRcKGwCJafElhDveSiyc2vFW2i8hlKSvvvpKeXl5evbZZ9WvXz/NnDlTkjR27Fjdfffdof3q6+tVVFSUcIAVvITw0KFDoa//+7//e1jw9Pjjj2vgwIFh5/OTn/wkLMCaPXu2Lr744mbn7aRwCSEBVrgRI0Zo4sSJYduKi4s1ffr0iPt/5zvf0f333x+2bdq0abryyivDtvn9fl155ZX613/914jf93gobADA2xjn3WUyGwCsZ7qD2sgLhQ2AxLR4Efd6/9/uPhhpEffgGlglgf1c8pOf/ETnnXee2rdvH5p9U15eroKCAlVVVcnn8+mnP/2punbtmnCAVV9fr7/7u7/TNddco82bN2vDhg26/PLLw4Kn3//+9+rQoYNWrFihXbt26cknn1R+fn5YgLVs2TLl5uaqurpaR48e1ZkzZyQ1X8S9d+/e+sEPfqAtW7boj3/8owYOHNhsEXcCrG/U1tYqKytLa9asCds+depUjRo1KuIxpaWlmjFjRti26dOnKzs7O+xujv/8z/+s8ePHS4r8fW/qzJkzOnHiRKj5fD4KGwDwMAIsd5nMBgDrme6gNsr0wgZA4tJ7F8KmIZa7dyEM2rRpkxzH0fe+973Qti+++ELjxo1TXl6eevbsqRkzZuiOO+5IOMCSpO3bt2vkyJHq2LGjioqKms3AkgJ3Quzevbvy8vI0YcIELViwICzAOnPmjH7wgx/o3HPPleM4WrJkiSQ1e56PPvpIV111lTp16qT8/Hzdc889+uqrr0JfJ8AKd+jQITmOo6qqqrDts2fPVlFRUcRjHnroIfXq1UsffvihGhoa9MEHH6hnz55yHEeHDx+WJG3cuFF9+/bV0aNHJSUWYFVUVMhxnGaNwgYAvIkAy10mMgEgY5juoDbK9MIGQOLSEmBJgZDqV8XhAdavSlwPrxBdWwiwNm3aFLZ91qxZGjp0aMRjampqdNddd6lDhw7KyspSnz599MADD8hxHH322Wc6efKkBgwYoNdffz10DDOwAABNEWC5y2Q2AFjPdAe1UaYXNgASl7YASwpcJrhng/TRqsCfLl42iPi8HGClcglh0NmzZ3XgwAH5/f7Qwu719fWqrq6W4zjKysoKtXbt2qldu3bKysrSrl27Ejo3ChsA8DbGeXcZDQcA25nuoDbK9MIGQOLSGmDBKl4OsKTAIu6TJk0K21ZSUhJ1EfdIRo0apVtvvVVS4Pu1ZcuWsDZu3DhdffXV2rJli2praxN6TgobAPA2xnl3mU0HAMuZ7qA28kJhAyAxBFje5fUAq7KyUtnZ2Vq8eLF8Pp/Ky8uVm5urffv2SQos0H777beH9t++fbteeOEF7dixQ++9954mTJig/Px87d27N+prcBdCAEBTjPPuMpsOAJYz3UFt5IXCBkBiCLC8y+sBliQtXLhQhYWF6tixo0pLS7V+/frQ18rKysIWuff5fLrsssvUuXPn0B0pt23bFvP5CbAAAE0xzrvLbDoAWM50B7WRVwobAPERYHlXWwiwbERhAwDexjjvLrPpAGA50x3URhQ2QNsRDDlqampMnwrSrKamhgDLAAobAPA2xnl3mU0HAMuZ7qA2orAB2g6/3y+fz6djx46ZPhWk2bFjx+Tz+eT3N78bJOO8eyhsAMDbGOfdZTYdACxnuoPaiMIGaFsOHz4cCrFqamp0+vRpWga3mpqaUHh1+PDhiD9zxnn3UNgAgLcxzrvLbDoAWM50B7URhQ3QtjQ0NIRCLJp32uHDh9XQ0BDxZ8447x4KGwDwNsZ5d5lNBwDLme6gNqKwAdomv99vfPYQLT0t0mWDjTHOu4fCBgC8jXHeXWbTAcBypjuojShsAMDbGOfdQ2EDAN7GOO8us+kAYDnTHdRGFDYA4G2M8+6hsAEAb2Ocd5fZdACwnOkOaiMKGwDwNsZ591DYAIC3Mc67y2w6AFjOdAe1EYUNAHgb47x7KGwAwNsY591lNh0ALGe6g9qIwgYAvI1x3j0UNgDgbYzz7jKbDgCWM91BbURhAwDexjjvHgobAPA2xnl3mU0HAMuZ7qA2orABAG9jnHcPhQ0AeBvjvLvMpgOA5Ux3UBtR2ACAtzHOu4fCBgC8jXHeXWbTAcBypjuojShsAMDbGOfdQ2EDAN7GOO8us+kAYDnTHdRGFDYA4G2M8+6hsAEAb2Ocd5fZdACwnOkOaiMKGwDwNsZ591DYAIC3Mc67y2w6AFjOdAe1EYUNAHgb47x7KGwAwNsY591lNh0ALGe6g9ooWNgsf2erNu06Jn99g+lTAgCkEQGWeyhsAMDbGOfdZTYdACxnuoPaKFjYFJSvVOGDr+qKOWv1xpbDpk8LAJAmBFjuobABAG9jnHeX2XQAsJzpDmqjpgHWgL81QiwA8AYCLPdQ2ACAtzHOu8tsOgBYznQHtVHTACsYYl0xZy2XEwKABxBguYfCBgC8jXHeXWbTAcBypjuojSIFWMH2rxt2E2IBQIYjwHIPhQ0AeBvjvLvMpgOA5Ux3UBvFCrBYEwsAMh8BlnsobADA2xjn3WU2HQAsZ7qD2ihegBVsj7z8MXcpBIAMRIDlHgobAPA2xnl3mU0HAMuZ7qA2SjTAYkYWAGQmAiz3UNgAgLcxzrvLbDoAWM50B7VRsgEWM7IAILMQYLmHwgYAvI1x3l1m0wHAcqY7qI1SDbCYkQUAmYEAyz0UNgDgbYzz7jKbDgCWM91BbdTSAIsZWQBgNwIs91DYAIC3Mc67y2w6AFjOdAe1UbCwGf7PL2lACwIsZmQBgJ0IsNxDYQMA3sY47y6z6QBgOdMd1EbBwuZ3f96uAQ++mpYQq/DBV/XE29uZjQUAFiDAcg+FDQB4W6rj/MKFCzVgwADl5OSotLRUGzZsSOi4jRs3KisrS8OGDWv2tQULFqioqEidOnVSv379VF5ertOnTyd1XrYxmw4AljPdQW3UuLB5Y8thXTFnbVoCrMIHX9WIWW/ribe36/fVB7m8EAAMIcByDwEWAHhbKuN8ZWWlsrOztWjRIvl8Pk2bNk25ubnav39/zOOOHz+ugQMH6nvf+16zAGvp0qXKycnRsmXLtHfvXr355pvq3bu3ysvLU3pftjCbDgCWM91BbdS0sPHXN2jTrmOa+fLHKkzjjCwuLwQAMwiw3EOABQDelso4P2LECE2cODFsW3FxsaZPnx7zuAkTJmjGjBmqqKhoFmBNmTJFV199ddi2f/qnf9LIkSMTPi8bmU0HAMuZ7qBue+WVV1RUVKTBgwdr0aJFCR0Tq7BJ94yspgu+19bVa9OuY8zQAgAXEWC5hwALALwt2XG+trZWWVlZWrNmTdj2qVOnatSoUVGP++1vf6vhw4errq4uYoC1YsUKdevWTe+9954kaffu3SouLtajjz6a5Duyi9l0ALCc6Q7qprq6Og0ZMkQHDx7UyZMnNXjwYH3xxRdxj4tX2Lg5I+vC6eGPvz2bSw4BIN0IsNxDgAUA3hYc530+n06cOBFqZ86cibj/oUOH5DiOqqqqwrbPnj1bRUVFEY/ZsWOHevbsqe3bt0tSxABLkp566illZ2erQ4cOchxHkyZNauG7M89kNgBYz3QHdVNVVZXGj3ygiMcAACAASURBVB8fejx16lQtX7487nHJFDZuzciK1r71yJuh2VqEWQCQGgIs9xBgAYC3Bcf5pq2ioiLi/sEAa9OmTWHbZ82apaFDhzbb3+/3a/jw4Xr22WdD2yIFWOvWrdMFF1ygRYsW6aOPPtKaNWtUUFCgRx55pOVv0iBjwQCQCebMmaPhw4crLy9PPXr00Lhx47Rt27aEO9icOXPkOI6mTZuW9s67fv16jR07Vr1795bjOHrxxReb7RPrbharVq3SlClTQo8fe+wxzZs3L+7rJlvYNJ2R1VqN2VkAkBoCLPcQYAGAtyU7AyvZSwi//PJLOY6jrKysUGvXrl1o2x/+8AdJ0siRI3X//feHHfvCCy+oc+fOqq+vT9O7bX3mkgEgA1x77bVasmSJPv74Y23evFk33HCD+vfvr1OnTsXtXO+//74GDBigSy+9NGaAtXHjRp09e7bZ9q1bt+rIkSNRj3v99df1i1/8QqtXr44YYMW7m8XKlSubBViPP/543PfVksLmjS2H9e3Zb7dqkEWgBQDJ8UqAlewtyZ9++mkVFxerU6dOKioq0vPPPx/29eeee04jR47Uueeeq3PPPVfXXHNNaG2RRBFgAYC3pbqIe9PL+0pKSiIu4l5fX68tW7aEtUmTJmno0KHasmVLqE4tLS3VAw88EHbs8uXL1alTJ/n9/hTemR2MhgOA7Zp2mM8//1yO42j9+vUxO9ZXX32lIUOG6O2339bo0aOjBlj19fUaNmyYbrrpprCBZPv27erVq5fmzp2baEduFmDFu5tFpEsIly1bFve1WlrY+Osb9MTbO4yEWNECrY07jmrjzqOEWwAgbwRYyd6S/JlnnlGXLl1UWVmp3bt3a8WKFcrLy9PLL78c2ue2227TwoULVV1dra1bt+quu+5St27ddPDgwYTPiwALALwtlXE++G/W4sWL5fP5VF5ertzcXO3bt0+SNH36dN1+++1Rj490CWFFRYW6dOmiFStWaM+ePXrrrbc0aNAg3Xzzzam9MUuYzAYA6zXtMDt37pTjONqyZUvMjnXHHXeovLxckmIGWFLguudBgwbptttuU319vXbt2qW+ffvqZz/7WTIdOSzASmQqal1dnQYPHhy2iPuxY8eivsbTTz+tkpISFRUVpaWwae31sZJpV8xZqze2HG7R+wOATOWFACvZW5J/5zvfaXapxbRp03TllVdGfQ2/368uXbo0m6kVCwEWAHhbquP8woULVVhYqI4dO6q0tDRswkRZWZlGjx4d9dhIAVZdXZ0efvhhDRo0SJ06dVJBQYEmT56sL7/8Mqnzso3JbACwXuPO0tDQoBtvvFEjR46M2alWrFihiy++WKdPn5YUP8CSpP3796uwsFATJkxQ//79dccdd6ihIfFZQE6TACvRu1m89NJLGjJkiAYNGqTf/OY3Cb1WOgub4PpYv68+qCfe3qFvz7Yr0AouCF9bVx86z0iPmbEFwEsyPcBK5ZbkpaWlmjFjRti26dOnKzs7O+Jl/pJ08uRJderUSa+88krC50aABQDexjjvLpPZAGC9xp1l8uTJKiwsjDkYffLJJ+rZs6c2b94c2pZIgCUFFmV3HEcDBw5UXV1dsh05YoCV6N0skuFmYdN0wfcBFoRYhQ++qgunx37M+loAvCTTA6xUbkn+0EMPqVevXvrwww/V0NCgDz74QD179pTjODp8OPKM3MmTJ2vQoEGh/7CK5MyZM2GL+Pp8PgobAPAwAix3GQsGgEwQ7Cj33nuv+vXrpz179sTsUC+++GKzu0I4jqN27dopKysr6oJ5n376qYYOHaobb7xRvXr10r333ptsR076EsJUtVZhE+kSw6bBka3tW4+8GXX2FuEWANt5JcBK5j9xampqdNddd6lDhw7KyspSnz599MADD8hxHH322WfN9p87d67OO+88/fWvf415LhUVFRFvp05hAwDeRIDlLiOhAJApGhoaNGXKFPXp00c7duyI26FOnjzZ7K4Qw4cP149//OOo62YdPXpUF110kcaPH6+6ujr5fD717NlT9913XzIdOeIi7onezSIZrVnYNL7EsGkYZOMlh4nM3mo6W4uAC4BtMj3Aasl/4pw9e1YHDhyQ3+8PLeze9Hbj8+bNU7du3fTBBx/EPRdmYAFA20KA5S6j4QBgu0mTJqlbt27605/+pCNHjoRaTU2NJOnXv/61rr766pidLN5dCC+//HKNGTNGtbW1oe0fffSRunfvrvnz50d93q+++krV1dWqrq6W4ziaP3++qqurQ3dYinc3i1TZVNg0vuTwW4+8ZTysSkfAxewtAKbZNM6nKh3/iTNq1CjdeuutYdsee+wxde3aVX/+859TOi8KGwDwNsZ5dxkNB4AMEHHq/5IlSyQFLg0oLCyM2cnirYH11ltvRVw/o7q6Wp988knU49atWxfx3MrKykL7xLqbRapsLWxsXxCe2VsAMoWt43wykr0l+fbt2/XCCy9ox44deu+99zRhwgTl5+dr7969oX3mzp2rjh076ne/+13Yf2p99dVXCZ8XhQ0AeBvjvLtMBAJAxjDdQW2UKYWNFwOtZAKujTuOauPOo4RdAJKWKeN8PMncktzn8+myyy5T586d1bVrV40bN07btm0Le77CwsKI/3FUUVGR8DlR2ACAtzHOu8tYMABkAtMd1EaZWti0hUArnbO5Gj9uGoYRfgHelqnjfCagsAEAb2Ocd5fZdACwnOkOaiOvFDaNA61gQDPz5Y9V+OCrGmBB4GQ64Ip1x8em4ReBFuAtXhnnbURhAwDexjjvLrPpAGA50x3URl4vbN7YclhXzFmbcrjTFlus2VzxLmXk0kbAPl4f502isAEAb2Ocd5fZdACwnOkOaqO2UNg0np0VL3Rpi5cjxmuxAr54YWAyYViyYVfTnythGRBZWxjnTaGwAQBvY5x3l9l0ALCc6Q5qIwqb5oLByMyXP9a3Hnkr4TCH1rIw7Io5a/XGlsPNfg6JBo1NjwcQwDjvHgobAPA2xnl3mU0HAMuZ7qA2orCJLdkQhYCr5e2Rlz9u0ff2ibe3x720MdaljszsgtcwzruHwgYAvI1x3l1m0wHAcqY7qI0obFomWsDF7C2zLd6ljU0ff+uRN6MGZ/Hu8EjABdsxzruHwgYAvI1x3l1m0wHAcqY7qI0obNzD7C1vtljrfNmyyD2zyNAY47x7KGwAwNsY591lNh0ALGe6g9qIwsacZAMuwq7Ma8kscp9s+BXtcaTZf/HWFyPg8jbGefdQ2ACAtzHOu8tsOgBYznQHtRGFjb0ahwyxwo1EZnMReGVeS/YyyER+xqlcJhkvWGsafsX6vSUoM4Nx3j0UNgDgbYzz7jKbDgCWM91BbURh4w2xZnPFCiTizfSitc0WKwyLNYss3u9TvPXEWF/MHYzz7qGwAQBvY5x3l9l0ALCc6Q5qIwobNA6/kl2bi5letJY0Ny+xjBV+xQt8vRacMc67h8IGALyNcd5dZtMBwHKmO6iNKGzQVKziPpkQgYXqaW62VMOvRH4vm84UaxxoZWL4xTjvHgobAPA2xnl3mU0HAMuZ7qA2orCBmxIJw2a+/LEKH3xVA5IMLL49+21NWfYX40EKzfstGGhFWiA/XviV6OW8yS7cn8z6Yozz7qGwAQBvY5x3l9l0ALCc6Q5qIwob2OCNLYd1xZzEFxZvXLBHOjYdC57TaOloyfzuteT3NlZ/ebt6L+O8SyhsAMDbGOfdZTYdACxnuoPaiAALtmg6WyuZS7GSWcS+8eNIM2riLUpO+EXLhNb497SgfCXjvEsobADA2xjn3WU2HQAsZ7qD2ogAC21dvOAsVjgW7657zPyi2dAIsNxDYQMA3sY47y6z6QBgOdMd1EYEWEDLNA64WrrIfeOW7OVkTR9/65E3dfeS91T4YPz1xWjebgRY7qGwAQBvY5x3l9l0ALCc6Q5qIwIswJxUw69EHsdaI6wll0kyiyzzGgGWeyhsAMDbGOfdZTYdACxnuoPaiAAL8L6WXCYZK1iLFH41DscaH5tIUEY4RoCVaShsAMDbGOfdZTYdACxnuoPaiAALQEsks/h+Movtt+b6Yl4Pzgiw3ENhAwDexjjvLrPpAGA50x3URgRYAGzl1vpijWeJJXtsJoZfBFjuobABAG9jnHeX2XQAsJzpDmojAiwAXhQr/Io1S6zpsZECrW898qYeefnjhMKvZGaKJbtQPwGWeRQ2AOBtjPPuMpsOAJYz3UFtRIAFALG5dZlkSxbuT2Z9MQIs91DYAIC3Mc67y2w6AFjOdAe1EQEWAGS+WMHZ29V7GeddQmEDAN7GOO8us+kAYDnTHdRGBFgA4G2M8+6hsAEAb2Ocd5fZdACwnOkOaiMKGwDwNsZ591DYAIC3Mc67y2w6AFjOdAe1EYUNAHgb47x7KGwAwNsY591lNh0ALGe6g9qIwgYAvI1x3j0UNgDgbYzz7jKbDgCWM91BbURhAwDexjjvHgobAPA2xnl3mU0HAMuZ7qA2orABAG9jnHcPhQ0AeBvjvLvMpgOA5Ux3UBtR2ACAtzHOu4fCBgC8jXHeXWbTAcBypjuojShsAMDbGOfdQ2EDAN7GOO8us+kAYDnTHdRGFDYA4G2M8+6hsAEAb2Ocd5fZdACwnOkOaiMKGwDwNsZ591DYAIC3Mc67y2w6AFjOdAe1EYUNAHgb47x7KGwAwNsY591lNh0ALGe6g9qIwgYAvI1x3j0UNgDgbYzz7jKbDgCWM91BbURhAwDexjjvHgobAPA2xnl3mU0HAMuZ7qA2orABAG/zyji/cOFCDRgwQDk5OSotLdWGDRti7v/000+ruLhYnTp1UlFRkZ5//vlm+/zud79TSUmJOnbsqJKSEq1Zsyapc6KwAQBvY5x3l9l0ALCc6Q5qI68UNgCAyLwwzldWVio7O1uLFi2Sz+fTtGnTlJubq/3790fc/5lnnlGXLl1UWVmp3bt3a8WKFcrLy9PLL78c2mfTpk3KysrSnDlztHXrVs2ZM0cdOnTQu+++m/B5UdgAgLcxzrvLbDoAWM50B7WRFwobAEB0XhjnR4wYoYkTJ4ZtKy4u1vTp0yPu/53vfEf3339/2LZp06bpyiuvDD2++eabdd1114Xtc+211+qWW25J+LwobADA2xjn3WU2HQAsZ7qD2sgLhQ0AILpMH+dra2uVlZXV7PK+qVOnatSoURGPKS0t1YwZM8K2TZ8+XdnZ2Tp79qwkqaCgQPPnzw/bZ/78+erfv3/Uczlz5oxOnDgRaj6fj8IGADyMAMtdZtMBwHKmO6iNMr2wAQDElunj/KFDh+Q4jqqqqsK2z549W0VFRRGPeeihh9SrVy99+OGHamho0AcffKCePXvKcRwdPnxYkpSdna1ly5aFHbds2TJ17Ngx6rlUVFTIcZxmjcIGALyJAMtdpnIBICOY7qA2yvTCBgAQW6aP88EAa9OmTWHbZ82apaFDh0Y8pqamRnfddZc6dOigrKws9enTRw888IAcx9Fnn30mKRBgLV++POy4pUuXKicnJ+q5MAMLANoWAix3mcwGAOuZ7qA2yvTCBgAQW6aP86lcQhh09uxZHThwQH6/P7Swe319vaTULiFsisIGALyNcd5dZtMBwHKmO6iNMr2wAQDE5oVxfsSIEZo0aVLYtpKSkqiLuEcyatQo3XrrraHHN998s66//vqwfa677joWcQcAhDDOu8tsOgBYznQHtZEXChsAQHReGOcrKyuVnZ2txYsXy+fzqby8XLm5udq3b5+kwALtt99+e2j/7du364UXXtCOHTv03nvvacKECcrPz9fevXtD+1RVVSkrK0u//OUvtXXrVv3yl79Uhw4d9O677yZ8XhQ2AOBtjPPuMpsOAJYz3UFt5IXCBgAQnVfG+YULF6qwsFAdO3ZUaWmp1q9fH/paWVmZRo8eHXrs8/l02WWXqXPnzuratavGjRunbdu2NXvOVatWaejQocrOzlZxcbFWr16d1DlR2ACAtzHOu8tsOgBYznQHtZFXChsAQGSM8+6hsAEAb2Ocd5fZdACwnOkOaiMKGwDwNsZ591DYAIC3Mc67y2w6AFjOdAe1EYUNAHgb47x7KGwAwNsY591lNh0ALGe6g9qIwgYAvI1x3j0UNgDgbYzz7jKbDgCWM91BbURhAwDexjjvHgobAPA2xnl3mU0HAMuZ7qA2orABAG9jnHcPhQ0AeBvjvLvMpgOA5Ux3UBtR2ACAtzHOu4fCBgC8jXHeXWbTAcBypjuo21555RUVFRVp8ODBWrRoUULHUNgAgLcxzruHwgYAvI1x3l1m0wHAcqY7qJvq6uo0ZMgQHTx4UCdPntTgwYP1xRdfxD2OwgYAvI1x3j0UNgDgbYzz7jKbDgCWM91B3VRVVaXx48eHHk+dOlXLly+PexyFDQB4G+O8eyhsAMDbGOfdZTYdACw3Z84cDR8+XHl5eerRo4fGjRunbdu2Re1Qye6fqvXr12vs2LHq3bu3HMfRiy++GHG/hQsXasCAAcrJyVFpaak2bNgQ+tqqVas0ZcqU0OPHHntM8+bNi/vaFDYA4G2M8+6hsAEAb0t1nI9Vt8WyceNGZWVladiwYc2+9uWXX2ry5Mnq1auXcnJyVFxcrNdeey2p87KN0XAAsN21116rJUuW6OOPP9bmzZt1ww03qH///jp16lTEDpXs/lJg0Dl79myz7Vu3btWRI0ciHvP666/rF7/4hVavXh01wKqsrFR2drYWLVokn8+nadOmKTc3V/v375ckrVy5slmA9fjjj8ccMCQKGwDwOsZ59xBgAYC3pTLOx6vbojl+/LgGDhyo733ve80CrNraWg0fPlxjxozRxo0btW/fPr3zzjvavHlzSu/LFkbDAcB2TTvM559/LsdxtH79+oQ6WLz96+vrNWzYMN10003y+/2h7du3b1evXr00d+7cRDpxxABrxIgRmjhxYti24uJiTZ8+XVLkSwiXLVsW9/UobADA2xjn3UOABQDelso4H69ui2bChAmaMWOGKioqmgVYzz77rAYOHBhxokQmMxgNAPZr2mF27twpx3G0ZcuWhDpYIvsfOnRIgwYN0m233ab6+nrt2rVLffv21c9+9rNEO3GzAKu2tlZZWVlas2ZN2PapU6dq1KhRkgKLuA8ePDhsEfdjx45FfZ2nn35aJSUlKioqorABAA8jwHIPARYAeFuy43widVskv/3tbzV8+HDV1dVFDLCuv/56/ehHP9I999yjnj176qKLLtLs2bPDJk1kIoPRAGC/xp2loaFBN954o0aOHJlQ50pm//3796uwsFATJkxQ//79dccdd6ihoSHRTtwswDp06JAcx1FVVVXY9tmzZ6uoqCj0+KWXXtKQIUM0aNAg/eY3v0no9ShsAMDbGOfdQ4AFAN4WHOd9Pp9OnDgRamfOnIm4f6J1W2M7duxQz549tX37dkmKGGANHTpUOTk5uvvuu/Xhhx9qxYoVys/P18yZM9PwLs0xGA0A9mvcWSZPnqzCwsKEP3Qmu//69evlOI4GDhyourq6ZDpx1ABr06ZNYdtnzZqloUOHJvzckVDYAIC3Mc67hwALALwtOM43bRUVFRH3T7Zu8/v9Gj58uJ599tnQtkgB1pAhQ1RQUBA24+pXv/qVevXq1YJ3Z56ZVADIEMGOcu+996pfv37as2dPQh0r2f0//fRTDR06VDfeeKN69eqle++9N5lOnNIlhKmisAEAb2Ocdw8BFgB4W7IzsJKt27788ks5jqOsrKxQa9euXWjbH/7wB0nSqFGjdM0114Qd+/rrr8txHNXW1qbp3bY+c8kAkAEaGho0ZcoU9enTRzt27IjboZLdX5KOHj2qiy66SOPHj1ddXZ18Pp969uyp++67L9FOHHUR90mTJoVtKykpibsYYDwUNgDgbYzz7iHAAgBvS3UR90Trtvr6em3ZsiWsTZo0SUOHDtWWLVt06tQpSdJDDz2kwsJC1dfXh4594okn1Lt37xTfmR2MhgOA7SZNmqRu3brpT3/6k44cORJqNTU1kqRf//rXuvrqq0MdKt7+TdXX1+vyyy/XmDFjwpLwjz76SN27d9f8+fMjHvfVV1+purpa1dXVchxH8+fPV3V1dditVoO3Y128eLF8Pp/Ky8uVm5urffv2tWjQoLABAG9jnHcPARYAeFsq43y8um369Om6/fbbox4f6RLCTz75RHl5ebr33nu1fft2vfrqq+rZs6dmzZqV2huzhNFwAMgAEa9hXrJkiaTAYFFYWNi4Q8XcP5K33npLp0+fbra9urpan3zyScRj1q1bF/F1ysrKwvZbuHChCgsL1bFjR5WWlmr9+vXJjhHNUNgAgLcxzruHAAsAvC3VcT5W3VZWVqbRo0dHPTZSgCVJmzZt0re//W3l5ORo4MCB3IUQ8DrTHdRGFDYA4G2M8+4hwAIAb2Ocd5fZdACwnOkOaiMKGwDwNsZ591DYAIAH+P3SunXS8uWBPxvNamKcd5fZdACwnOkOaiMKGwDwNsZ591DYAECGW71a6tdPcpxvWr9+ge1inHeb2XQAsJzpDmojChsA8DbGefdQ2ABABlu9WmrXLjy8cpzAtnbtpNWrGeddZjYdACxnuoPaiMIGALyNcd49FDYAkKH8/uYzr5qGWAUFOrBvH+O8i8ymA4DlTHdQG1HYAIC3Mc67hwALAAyKsXZVXGvXRg+vGrXDK1cyzrvIbDoAWM50B7URhQ0AeBvjvHsIsADAkDhrV8U9Nj8/oQDryNNPM867yGw6AFjOdAe1EYUNAHgb47x7CLAAwIBoa1cF28yZ0WdjxTuWGVitymw6AFjOdAe1EYUNAHgb47x7CLAAWKsll9fZ8lyR9o23dlWs2ViJHhts+fk6XFnJOO8is+kAYDnTHdRGFDYA4G2M8+4hwAJgpZZcXpfIc51/vlRenliY1TiEmjkz8fOK9Lp9+0p33pl4APW3OwmGrFuX+LF/aycch3HeRWbTAcBypjuojShsAMDbGOfdQ4AFwDrRLpFr1655oJPqcyUajEUKoRI5ryQv84s3i0pr10q1tdKMGQRYljGbDgCWM91BbURhAwDexjjvHgIsAFaJd4lcu3ZSQUFilwAmerld0wAqOOOqvDy5mVLB80r2Mr9EW1ZWSscRYLnLbDoAWM50B7URhQ0AeBvjvHsIsAC0mkTWjkr0Erl16+K/XjKX2wUDqFWrWhY+rV0rLViQ/vCqBY0Ay11m0wHAcqY7qI0obADA2xjn3UOABSApyS6G3ng2U48e4eFK00v3/P7EL5Fbvjz+uS5f3vqBUX6+8cCKAKt1mU0HAMuZ7qA2orABAG9jnHcPARaAhCW7sHq89aMaX7qXyFpTjVvTGViRgrUUFjzP6NY0ICTAahVm0wHAcqY7qI0obADA2xjn3UOABSAhyS6snugi5u3aSd27J77gefBSv9ra+HcGXLnSnbWobGwzZgS+J/36NfteEmC5y2w6AFjOdAe1EYUNAHgb47x7CLCADJXspXwtfa14QVDwTnluLmIeDMt+/vPE7wx4333mw6VE3lf37i37ngVnpAWDw0YhFgGWu8ymA4DlTHdQG1HYAIC3eWWcX7hwoQYMGKCcnByVlpZqw4YNMfdfunSpLr30UnXu3Fm9evXSnXfeqWPHjoXts2DBAhUVFalTp07q16+fysvLdfr06YTPiQALsEiioVSyl/K1VDKX4vXrF5gR5UbQc955gfAq0dlajiPl5X0TEpkOqqKFV8EZbH5/IARMZh2tSHdlbPL7QYDlLrPpAGA50x3URl4pbAAAkXlhnK+srFR2drYWLVokn8+nadOmKTc3V/v374+4/zvvvKP27dvrySef1J49e/TOO+/ooosu0vjx40P7LF26VDk5OVq2bJn27t2rN998U71791Z5eXnC50WABbSiWAFVoqFUspfypeOcE11Y3e2gaOTI1GcpdekSCNYiLSafbEt1ofa77mp+/gUF0X/G8b6XsX7mjX7XDq9cyTjvIrPpAGA50x3URl4obAAA0XlhnB8xYoQmTpwYtq24uFjTp0+PuP+8efM0cODAsG1PPfWU+vXrF3o8ZcoUXX311WH7/NM//ZNGjhyZ8HkRYAGtJFZAlUgolcjsnEizcdJ9zpnaWjrTyXEC4de6dYFjk33t4M+lJbPssrLih18RMM67y2w6AFjOdAe1kRcKGwBAdJk+ztfW1iorK0tr1qwJ2z516lSNGjUq4jFVVVXq2LGjXnvtNTU0NOjTTz/VqFGj9D//5/8M7bNixQp169ZN7733niRp9+7dKi4u1qOPPprwuVHYAC4KhhXl5dGDDccJrH8UK/xIdn2kpnfoS+W83boMMFILXuYXK/wpLk5PiBUMkpK5LLJpUBRc4yvRRepTnRnXNOxqvHB9EuueMc67y2w6AFjOdAe1UaYXNgCA2DJ9nD906JAcx1FVVVXY9tmzZ6uoqCjqcatWrVJeXp46dOggx3H0P/7H/9DZs2fD9nnqqaeUnZ0d2mfSpEkxz+XMmTM6ceJEqPl8PgobwA0mZy/NmJH6LKzVq6W+fc2cd7Tw5+c/T+/zBkOglnwvE73ML8FZUm4iwHKXwWgAsJ/pDmqjTC9sAACxZfo4HwywNm3aFLZ91qxZGjp0aMRj/vM//1O9e/fWY489pr/+9a/693//d11yySW6++67Q/usW7dOF1xwgRYtWqSPPvpIa9asUUFBgR555JGo51JRUSHHcZo1Chvgb9Jxd79olwS2ZktlUffWOO8ePaSxYxPbt6BAWrky/UFg8GebaNgV6/sV6bLQmTNb5+6QCSLAcpexYADIBKY7qI0yvbABAMSW6eN8KpcQ/vjHP9ZNN90Utu2dd96R4zg6fPiwJGnkyJG6//77w/Z54YUX1LlzZ9XX10d8XmZgATGk4+5+wcvLTIZXjVtw3aZ4QYrb5x08j9ra+K+Tnx9YZyrZS/0SbcHvR6zLABNdTywdgafLm2bMgwAAIABJREFUCLDcZTQcAGxnuoPaKNMLGwBAbF4Y50eMGNHs8r6SkpKoi7j/4z/+o26++eawbZs2bZLjODp06JAkqbS0VA888EDYPsuXL1enTp3k9/raKBlQNCLDpOvufm4ELulo8YK4VM870XWgkl17KjjzKdFL/fLzpYqK5Ba5j3YZoFt3dDQkY8f5DGE0HABsZ7qD2sgLhQ0AIDovjPOVlZXKzs7W4sWL5fP5VF5ertzcXO3bt0+SNH36dN1+++2h/ZcsWaIOHTromWee0e7du7Vx40YNHz5cI0aMCO1TUVGhLl26aMWKFdqzZ4/eeustDRo0qFnwFUtGFjbpmCUDNBZv9lEyd/dbutR8WBXtPUQLZfz+wFpPyTxXQYG0alXyi8snGkgtXx44t0QDr7VrA/snG0pFGk8sWLcqnTJynM8gZtMBwHKmO6iNvFDYAACi88o4v3DhQhUWFqpjx44qLS3V+vXrQ18rKyvT6NGjw/Z/6qmn9Hd/93fq3LmzevfurR/96Ec6ePBg6Ot1dXV6+OGHNWjQIHXq1EkFBQWaPHmyvvzyy4TPKeMKm3TNkoG3tHRGXjKzgmK91urV0vnnmw+r4gVPje9mN3Nm8pcONu5ryYRfqaw9lcqlfsmGUh6f0Zlx43w0X34pLVokTZ8uffFFYNtf/iI1+nfRBLPpAGA5o73TUl4pbAAAkTHOuyejCptkZsl4vCBFI+mYkZforKDy8uiv1doLt7fktVoSskX63iYbAKYSSCV7qR9jQEhGjfPR/PWvgRsADB4sdegg7d4d2D5jhtRo9rIJZtMBwHJGe6elKGwAwNsY592TUYVNokVypBkl55+f+GLWyBw2rVuVl+fOvtFa4zv0tVZwNnNm5P6TbCiVSiDVBi71c0tGjfPRXHON9POfB/6el/dNgFVVJRUWGjstiQALiMlo77QUhQ0AeBvjvHsyqrBJdJZMvNa3b/ht7htfTkXAlTnSuW5VbW1gdofbAVCPHuGztVINnhYsiB8GpbMlEhS1xtpTzKpKSUaN89F07Srt2hX4e+MAa98+KSfH3HmJAAuIyWjvtBSFDQB4G+O8ezKqsHHr7m5ZWeGPWRDeDvHCikR/HxqHPZFEClLcakuXxn7dfv2k7t2Tu7zO7fcwY0biQRFrT1kpo8b5aHr2lP7jPwJ/bxxgvflm4HfOILPpAGA5o73TUhQ2AOBtjPPuyajCJt5lSulqti4I35aK/UTWtUpmRl60ULK1160KLkweFOlnmsrldY2fq7zc3XOOpy39nmaIjBrno7nnHmn8eOns2UCAtWePtH+/9K1vSdOmGT01s+kAYDmjvdNSFDYA4G2M8+7JuMJm9erWCRqSufysNaRjofJMkei6VsnMyIsU/sS7BNHk71NL13tavVrKz/dWH0DKMm6cj+TECenKK6Vzzw3Mmi0okLKzpVGjpFOnjJ6a2XQAsJzR3mkpChsA8DbGefcYLWySmanReN++fVsndHCc+JeftYZ0LVSeCZK902SyM/Ly86W1a7/5fWqt8CqVn1NLZzKtXdv65wwreSLACvrDH6R586S5c6W33zZ9NpIIsICYTHdQG1HYAIC3Mc67x1hhk8yMomjr+9x/f8tnmSTSTM50SudC5Zkg2XWtUr0EsF+/9F9qF62ZulNeSy655e5+nuKJAOv556UzZ5pvr60NfM0gs+kAYDmjvdNSFDYA4G2M8+4xUtjECx3Ky5uvB9QaQUOskMjUbJREA51k1ymykd8fWDA82WDx0UdT+5m6/XvTeLaXKYneobBfv/A7c3olEIUkjwRY7dtLn33WfPuxY4GvGWQ2HQAsZ7R3WorCBgC8jXHePa1e2CSz7lDfvoE7spkMrxoHHiZmOiW6UPny5ck9r20LbadyF71gMHPttYHHpaXuBFnR9hk7NvLXbbv8LtpsRwKrNsMTAVa7dtLnnzffvnmzdN55rX8+jZhNBwDLGe2dlqKwAQBvY5x3T6sWNn5/4NKv1g6funVL33OtXdu6wY8bM7CSXRDezbDL7w8EKen42bzySvruUhkMoX7+89iLqbd0sfXWYltgiVaV0QHWZZcF7jTYvr10ySWBvwfbpZdKXbpIP/yh0VM0mw4AljPaOy1FYQMA3sY4756mhU3TOre2Nk11byozbNIRQhQUhL+JmTObn0dWVuLP2XTNLTfXx/L7A4FZrHW+Urm7XTILwrt598PVq9O7IH+/foHAKZFL5uK1xiFUvPCHcAiWy+gA6+GHA61du8C6h8HHDz8szZkT6He1tUZP0Ww6AFjOaO+0FIUNAHgb47x7goXNypUHVF4u9egRO9vp2zf8yqOEAq7WWMcqmcu4IqV0qc4Mc+tysUQCv2RfO9kF4d28+6EbvxOxZk0l2mxYtwpIs4wOsIL+7d+k06dNn0VEZtMBwHKmO6iNKGwAwNsY590TLGwc50BK9X6sgGvtWmntm36dyu+nBrdCq4ICadWqll/G1ZI7tqV7faxEw52+fZN7j4lejhgMcNy6+2Ey66Cl+rOorY0/ey1a88KC+EAjngiwLGY2HQAsZ7qD2ojCBgC8jXHePS0NsOK10c4694KKxrOA0nEZV6J3bHMz+Egk3GnfPvDn4sXhx8V7/4kuCJ+fn/i6VMm+59ZaBy14Xqn8TJNdEB+wnCcCLL9fmjdP+m//TbrggsDC7Y2bQWbTAcByRnunpShsAMDbGOfd43aAdYuTYGiSZGvo109bZq5O/7JDLVmrK1LwkUywlmy4M2ZM9HOOtE5VojOwkmkzZiS3/lYqdxrs3r1lIVSyr8sMLHiMJwKs//N/pN69AyFWp07Sv/yL9JOfBMaHJ580empm0wHAckZ7p6UobADA21p7nD/vPOno0cDf77pLOnmyVV7WCFtmYDU4juqdxAOK77ZbG7YppbW5okl1ltCCBfEXjI+2AHoq4U5WljRpUux9ysu/+YasXRv45U73D/n888NfJ9JdAMrLU3vu4Cy7loZQbiyID2QITwRYAwdKr74a+HtenrRrV+DvTz4p3XqrufMSARYQk9HeaSkCLADwttYe53Nzpd27A39v3176/PNWeVkj3A6w2jt+feL0ixpO1TvttN8p0A+cVfrESTyguMVZHjfbSTRjiZhXJHq5XbwXjhSSNF0APZUFzZO5c2Iq+6famr5OS163adiXjhAq2iWFbi3GD1jAEwHWOedI+/cH/t6rl/SXvwT+vnu31LWrufOSZDYdACxntHdaigALALyttcf5735XuuQS6c47AzXtLbcEZmJFapnO7QDLcaTvO6sjLuJe77RTvdNO33dWy3ECYdc0J7GZT6OddWnLWCLN3qpesM69kCcdC417vc2c6V4IFWk2V7KL/gMZxBMBVlGR9O67gb+PHCk9+mjg75WVgdvnGmQ2HQAsZ7R3WooACwC8rbXH+U8/lR58ULrppkA9fP310vjxkVumczPAau/4NdpZp7udRTrjdGi2w36nIBReNT4mkRlb7R2/a9lJVlb880hL69HDfFBkW0s0SGppCJWORf+BDOGJAOvBB6XZswN/X7VK6tBBGjxY6tgx8DWDzKYDgOWM9k5LEWABgLeZHOcHDJCOHWv1l2018QKsZK8AC4ZWv3LK9ZkTHtDUOlma4TysW5zlGu2sixpCfd9ZHZqd1fgLTWdsud2inUek2WSt0rweeC1YkFyQRAgFJMQTAVZT774r/epX0ksvmT4TmU0HAMuZ7qA2IsACAG9jEXf3RAqwevSIvF5UpDXJGwdc33dWx1zHKrhQeyIBVKTnijRjy+0W6TyOOgYu+VuwQPX/31LzIZMbjcXTAVdlfIB19mzgmv7g4pSWMZsOAJYz3UFtRIAFAN7GIu7uCRY2K1ceSGgiS9NJL8GAa0P5ajU47VQfJ6xofAlgvNldwdlc8WZsud2ansdVztpWe/EGp51OdS/QIxV+3XT+Ondex+TMLhZPB1yX8QGWJHXrRoAFZCLTHdRGBFgA4G0s4u6etBQ2fn/zqVlxWvWCdXFnd9naWmV9LCfyIvfpfN1gOLb29Vptm5jY4vlpbyyeDrjOEwHWnXcGLhm0kNl0ALCc6Q5qIwIsAPA2k4u4t2/fNhZxT7mw8fsDaxclG1wsXx7xqRINtJJdmyvdLdH1sVqyXlakSyajrw8WaC85Y0OXasY6j2TDsWDYtaVilRr6xr5MNKH3H7xGNcZ0v5YscRVtpmAij9euDbRor5vMczd9rpacR7xj451nKjMrW/oe0v29TeY92LqcWkveYzLP2/h5PBFgzZolnXuu9IMfSHPmSE8+Gd4MMpsOAJYz2jstRYAFAN7GIu7uaVFhE+lOcIm2deviPn3jgixWER1vbS43Q6ym62PVOeEv/KlzflJPWu8E1ti6ylkbc5H7WOuDJXJeyYVj4WFXdvvoC/U3fZ2mjxv6FWjLzNVxw41IP9O+fQPbUzm26e9DvMfRXjeV507XecTbN955nn9+amvbtfQ9pPN723h/N39fYh3bkoAvkfcY7ecU63F5efMrgRu/h5UrPRBgDRgQvV14odFTM5sOAJYz2jstRYAFAN5mYpy//nrp+PFvHs+aJX355TePjx2TSkpa7XRck3KAtXp14PrKaJVptObSgt3RZjVEKuzSGW41XR+rg1Mb9vg2J/GF15O5y2K89cHinVeq4Viy77/p4+z24a/bkp+F6Vl4mdza4vcunb9rLQn40vm6iT+3BwIsi5lNBwDLme6gNiLAAgBvMzHOt2snffbZN4+7dAlfP/bTTwOXF2a6lAKsFNa8kuMYW7A71iU7bs/eGu2sS3hnE3dZjNRsWTyfRqOlqxFguclsOgBYznQHtREBFgB4mw0BVl4eAVbIunWpVVGWLtgda/aW46Q20SzY4q0tlcglgzQajdayRoDlJrPpAGA50x3URgRYAOBtBFjuSTrA8vulGTMSr5x69EhowW5bxVvmK5HZWomuLUWj0WjuNAIsN5lNBwDLme6gNiLAAgBvMzHOt28vff75N4/z8qQ9e7553CYDrGQXbV+wICNDq6bSsZh8ImtLtcV1iWg0Wms0Aiw3mU0HAMuZ7qA2IsACAG8zNQNrzBjp+98PtA4dpO9975vHY8a0sQArmUXbXVqoPRPEWm9r7Zt+ffj4OlXdu1zVC9aptsaf1Npc/foFtru9MD2NRvNaI8Byk9l0ALCc6Q5qIwIsAPA2E+P8nXcm1jJd3ADL7w9MOcrPT6xSMrRQuxc1DcMa54EtXZg+mbuo0Wi0TG8ZHGB9/bU0ebLUp08gub/1VunoUdNnFcZsOgBYznQHtREBFgB4G+O8e2IGWMleMug41i7U3tbECriazQxL8bLISM3W8CtegNeS825JOJjOY938frXkPaTze+vF1jrvMYMDrPvvl845R7rnHmnqVOn886WbbjJ9VmHMpgOA5Ux3UBtR2ACAtzHOuydqgJXMJYPBNmNGm7xs0OtiXhbZwvArVvEevGQylSCt8bHxArxY7ynWpZwtDQfTeWxLLzmN9Z5a8h7S+b2NtL8bvy/pnsGY6Pc6kZ9TvMfBe2Y0fw8ZHGANHCitWPHN4/feC1zTb9G/NWbTAcBypjuojShsAMDbGOfdEzHA8vuTn3nlOIEqDGikJTPBmtanyQRp6axtY13KaZNULzk1+Z6S/d7GuqFCOn9f0jWDMdnvdTKvG++5Gz/XypUZHGBlZ0sHD4Zv69RJ+uQTM+cTgdl0ALCc6Q7qtldeeUVFRUUaPHiwFi1alNAxFDYA4G2M8+6JGGCtW5dccNWGF20HANsldbdZ2zS9JbDU/LbAhplNBwDLme6gbqqrq9OQIUN08OBBnTx5UoMHD9YXX3wR9zgKGwDwNsZ590QsbJYvTy68YtF2ALBWRgdYTW8JHOm2wN//vtFTNJsOAJYz2jtdVlVVpfHjx4ceT506VcuXL497HIUNAHibV8b5hQsXasCAAcrJyVFpaak2bNgQc/+lS5fq0ksvVefOndWrVy/deeedOnbsWNg+X375pSZPnqxevXopJydHxcXFeu211xI+pxbPwGLRdgCwWqoBVrL/ZgVt3LhRWVlZGjZsWNR9VqxYIcdxNG7cuNhPVlZm/S2BjYYDgO1S6VRz5szR8OHDlZeXpx49emjcuHHatm1bWjvu+vXrNXbsWPXu3VuO4+jFF1+MuF+sgXDVqlWaMmVK6PFjjz2mefPmxX1trxQ2AIDIvDDOV1ZWKjs7W4sWLZLP59O0adOUm5ur/fv3R9z/nXfeUfv27fXkk09qz549euedd3TR/8/evUdHVd/7/98h9wbFgmIigYkBcvFGV2Sl7ZKGb22r1Puh/OBUwCitlXiBnOOpTb94mtMaKBcPKjVopUjt4XZEsFalHltLAySt2NMo0aFchEQJ0GIVkAIhl9fvj3wzMmRmMhOy+Xxm+3ystZdmz55kZ8P7vef9YvaeSy8N+oeelpYWjR49Wtddd502b96sxsZGbdq0SW+++WbU+xXxHliRbuI+cGDnjV+4bBAArNabACvWc1aXQ4cOKTc3V9dcc03YAKuxsVFDhgzRl770pZ4DrDhgNBwAbNeborr22mu1bNkyvf3223rzzTd1/fXXa9iwYTp69GjI7Tdv3qyTJ092W79t2zbt378/5HPWr1+vWbNmae3atWEDrJ4a4bPPPtstwHr44Yd7/P28MNgAAMLzQp8vLi7W9OnTg9YVFBSooqIi5PYLFixQbm5u0LpFixYpOzs78PUTTzyh3NzckOfsaMX8KYRcMggAcaU3AVas56wukyZN0oMPPqjKysqQAVZbW5uuuuoq/exnP1NpaWnPAda770odHVHvtwlGwwHAdn1RZH/729/kOI5qamq6Pdbe3q5Ro0ZpwoQJajvlX1W3b9+uzMxMzZs3L5oiDhlg9dQIQ11CuGLFih5/nhcGGwBAePHe51taWpSYmKh169YFrZ8xY4ZKSkpCPqe2tlYpKSl6+eWX1dHRoQMHDqikpER33XVXYJuvf/3rmjx5su68804NHjxYl156qWbPnh10/j7diRMndPjw4cDi9/vDDzZr10rnnMMlgwAQx7oCLL/fH9T/T5w4EXL73pyzJOnpp5/W6NGj1draGjbA+sEPfhCY96IKsPr1k/7610++njhROnAg8nPOMpPZAGC9viiynTt3ynEcNTQ0hHy8ublZw4cP16233qr29nbt2rVLQ4YM0Xe+851oi7hbgBVNI2xtbdWIESOCbuJ++r0+TvX444+rsLBQeXl5cT3YAAAii/cAq7m5WY7jqLa2Nmj97NmzlZeXF/Z5a9asUf/+/ZWUlCTHcXTTTTcFvdsqPz9fqampmjZtmv70pz9p1apVGjhwoH74wx+G/Z6VlZVyHKfbEvZf5seN6wyupk2L7nPuAQBW6QqwTl8qKytDbt+bc9aOHTs0ePBgbd++XZJCBlibN2/WkCFDdPDgQUlRBlgJCcEBVv/+ne/KsshZDwSAeHKmBdbR0aEbb7xRY8aMibhdU1OTfD6fJk2apGHDhum2225TR5Rv33RCBFjRNsIXXnhBI0eO1PDhw/XTn/40qp8X74MNACCyeO/zXefAurq6oPVVVVXKz88P+Zx33nlHWVlZmj9/vt566y298soruvzyyzVt2rTANiNHjtTQoUOD3nH1n//5n8rMzAy7LzG9A0vqfMeV40ibNsXwGwMAbBHrO7BiPWe1tbVp9OjReuKJJwLrTg+wjhw5opycHK1fvz6wjgAL+BQ40wK7++675fP5oroGuqamRo7jKDc3V62trVH/DCdCgBXLi/doxftgAwCILN77fG8ux5gyZYomTJgQtG7Tpk1yHEf79u2TJJWUlOgrX/lK0Dbr16+X4zhqaWmJat8i3hvl0KFPLh388MOovh8AwC6x3gMr1nPWRx99JMdxlJiYGFgSEhIC61577TXV19eH3CYhIUGJiYnatWtX6J3p10/6298++bp/f2n37qh/97PBTCoAxIkzKa57771X2dnZ2h1F0R84cED5+fm68cYblZmZqXvvvTeWIu7VJYS9Fe+DDQAgMi/0+eLiYpWVlQWtKywsDHtD3PHjx2vixIlB6+rq6uQ4jpqbmyVJ3//+9+Xz+dTe3h7Y5tFHH1VWVlbU+xVxsNm8uTO8OuXG8QCA+NLbm7hHe85qb29XQ0ND0FJWVqb8/Hw1NDTo6NGjOn78eLdtbr75Zl199dVqaGgI/48uCQnSdddJ//RPnUtSknTNNZ983bUYZDIbAKzXm6Lq6OjQPffco4suukg7duzocfuDBw8GPqq7tbVVfr9fgwcP1v333x9tEYe9iXssL96j5YXBBgAQnhf6fNcn8S5dulR+v1/l5eXKyMhQY2OjJKmiokJTp04NbL9s2TIlJSVp8eLFevfdd7V582aNHj1axcXFgW3ee+899e/fX/fee6+2b9+ul156SYMHD1ZVVVXU+xVxsHnyyc4Aa9y43v/iAACjehNgxXrOOl24m7ifKqpLCG+/PbrFIKPhAGC73hRVWVmZBgwYoN///vfav39/YDl27Fi3bdvb23XllVfquuuuC0rCt27dqkGDBmnhwoUhf8bHH3+s+vr6wNtDFy5cqPr6ejU1NQW26akR9pYXBhsAQHhe6fPV1dXy+XxKSUlRUVFR0KcBl5aWauzYsUHbL1q0SJdcconS09OVlZWlyZMna+/evUHb1NXV6fOf/7xSU1OVm5vb46cQni7iYHPvvZ0B1r/9W0y/JwDAHr0JsKTYz1mn6rMAKw4YDQcA2/WyqEIuy5YtC7n9q6++quPHj3dbX19fr/feey/kczZs2BDyZ5SWlgZtF6kR9pZXBhsAQGj0efdEHGzGju0MsJ555qzvFwCgb/Q2wEJ0DEQCQPwwXaA2YrABAG+jz7sn7GDT0SENGtQZYP3v/5rZOQDAGSPAcpfZdACwnOkCtRGDDQB4G33ePWEHm337OsOrfv2kELccAADEBwIsd5lNBwDLmS5QGzHYAIC30efdE3awefXVzgArL8/MjgEA+gQBlrvMpgOA5UwXqI0YbADA2+jz7gk72Cxc2BlgjR9vZscAAH2CAMtdZtMBwHKmC9RGDDYA4G30efeEHWzuuKMzwKqsNLJfAIC+QYDlLrPpAGA50wVqIwYbAPA2+rx7ug02bW3Shg1Sbm5ngLV6tdH9AwCcGQIsd5lNBwDLmS5QGzHYAIC30efdEzTYrF0rZWd3BlddS2Zm53oAQFwiwHKX2XQAsJzpArURgw0AeBt93j1dg83+p56SEhKCwyvH6VyXkECIBQBxigDLXWbTAcBypgvURgw2AOBt9Hn3dA02H2Vmdg+vTg2xhg7tvLwQABBXCLDcZTYdACxnukBtxGADAN5Gn3dP12BzOFx4deqyYYPp3QUAxIgAy11m0wHAcqYL1EYMNgDgbfR598QUYK1caXp3AQAxIsByl9l0ALCc6QK1EYMNAHgbfd49vAMLALyNAMtdZtMBwHKmC9RGDDYA4G30efcE3QMr1E3cuQcWAMQ1Aix3mU0HAMuZLlAbMdgAgLfR593DpxACgLcRYLnLbDoAWM50gdqIwQYAvI0+756gwWbtWik9PTjAGjqU8AoA4hgBlrvMpgOA5UwXqI0YbADA2+jz7gkabDo6pAsv7Ayu/v3fO+95xWWDABDXCLDcZTYdACxnukBtxGADAN5Gn3dP0GCzY0dneJWSIh0/bnrXAAB9gADLXWbTAcBypgvURgw2AOBt9Hn3BA02P/tZZ4D1pS+Z3i0AQB8hwHKX2XQAsJzpArURgw0AeBt93j1Bg01paWeA9X//r+ndAgD0EQIsd5lNBwDLmS5QGzHYAIC30efdEzTYXHxxZ4D1yiumdwsA0EcIsNxlNh0ALGe6QG3EYAMA3kafd0/XYLP39dc7w6t+/aQjR0zvFgCgjxBguctsOgBYznSB2ojBBgC8jT7vnq7B5q/33dcZYOXl8cmDAOAhBFjuMpsOAJYzXaA2YrABAG+jz7una7A57DidAZbjSNnZ0tq1pncNANAHCLDcZTYdACxnukBtxGADAN5Gn3dPyAArIaFzIcQCgLhHgOUus+kAYDnTBWojBhsA8Db6vHtCBlhdIdbQoVxOCABxjgDLXWbTAcBypgvURgw2AOBt9Hn3hA2wupYNG0zvIgDgDBBguctsOgBYznSB2ojBBgC8jT7vnh4DrJUrTe8iAOAMEGC5y2w6AFjOdIHaiMEGALyNPu8e3oEFAN5GgOUus+kAYDnTBWojBhsA8Db6vHu4BxYAeBsBlrvMpgOA5UwXqI0YbADA2+jz7uFTCAHA2wiw3GU2HQAsZ7pAbcRgAwDeRp93T8gAa+hQwisA8AgCLHeZTQcAy5kuUBsx2ACAt9Hn3dM12Ox79tnOG7Zv2MBlgwDgIQRY7jKbDgCWM12gNmKwAQBvo8+7h8EGALyNPu8us+kAYDnTBWojBhsA8Db6vHsYbADA2+jz7jKbDgCWM12gNmKwAQBvo8+7h8EGALyNPu8us+kAYDnTBWojBhsA8Db6vHsYbADA2+jz7jKbDgCWM12gNmKwAQBv80qfr66uVk5OjlJTU1VUVKSNGzdG3H758uW64oorlJ6erszMTN1+++364IMPQm67atUqOY6jm2++OaZ9YrABAG+jz7vLaDgA2M50gdrIK4MNACA0L/T51atXKzk5WUuWLJHf79fMmTOVkZGhpqamkNtv2rRJ/fr102OPPabdu3dr06ZNuvTSS3XLLbd027axsVFDhgzRl770JQIsAEAQ+ry7zKYDgOVMF6iNvDDYAADC80KfLy4u1vTp04PWFRQUqKKiIuT2CxYsUG5ubtC6RYsWKTs7O2hdW1ubrrrqKv3sZz9TaWkpARYAIAh93l1m0wHAcqYL1EZeGGwAAOHFe59vaWlRYmKi1q1bF7R+xowZKikpCfmc2tpapaSk6OWXX1ZHR4cOHDigkpIS3XXXXUG753c0AAAgAElEQVTb/eAHPwi8K4sACwBwOvq8u8ymA4DlTBeojeJ9sAEARBbvfb65uVmO46i2tjZo/ezZs5WXlxf2eWvWrFH//v2VlJQkx3F000036eTJk4HHN2/erCFDhujgwYOSoguwTpw4ocOHDwcWv9/PYAMAHkaA5S6T2QBgPdMFaqN4H2wAAJHFe5/vCrDq6uqC1ldVVSk/Pz/kc9555x1lZWVp/vz5euutt/TKK6/o8ssv17Rp0yRJR44cUU5OjtavXx94TjQBVmVlpRzH6bYw2ACANxFguctYMADEA9MFaqN4H2wAAJHFe5/vzSWEU6ZM0YQJE4LWbdq0SY7jaN++faqvr5fjOEpMTAwsCQkJSkhIUGJionbt2hXy+/IOLAD4dCHAcpfJbACwnukCtVG8DzYAgMi80OeLi4tVVlYWtK6wsDDsTdzHjx+viRMnBq2rq6uT4zhqbm7W8ePH1dDQELTcfPPNuvrqq9XQ0KCWlpao9ovBBgC8jT7vLqPhAGA70wVqIy8MNgCA8LzQ51evXq3k5GQtXbpUfr9f5eXlysjIUGNjoySpoqJCU6dODWy/bNkyJSUlafHixXr33Xe1efNmjR49WsXFxWF/BjdxBwCcjj7vLrPpAGA50wVqIy8MNgCA8LzS56urq+Xz+ZSSkqKioiLV1NQEHistLdXYsWODtl+0aJEuueQSpaenKysrS5MnT9bevXvDfn8CLADA6ejz7jKbDgCWM12gNvLKYAMACI0+7x4GGwDwNvq8u8ymA4DlTBeojRhsAMDb6PPuYbABAG+jz7vLbDoAWM50gdqIwQYAvI0+7x4GGwDwNvq8u8ymA4DlTBeojRhsAMDb6PPuYbABAG+jz7vLbDoAWM50gdqIwQYAvI0+7x4GGwDwNvq8u8ymA4DlTBeojRhsAMDb6PPuYbABAG+jz7vLbDoAWM50gdqIwQYAvI0+7x4GGwDwNvq8u8ymA4DlTBeojRhsAMDb6PPuYbABAG+jz7vLbDoAWM50gdqIwQYAvI0+7x4GGwDwNvq8u8ymA4DlTBeojRhsAMDb6PPuYbABAG+jz7vLbDoAWM50gdqIwQYAvI0+7x4GGwDwNvq8u8ymA4DlTBeojRhsAMDb6PPuYbABAG+jz7vLbDoAWM50gdqIwQYAvI0+7x4GGwDwNvq8u8ymA4DlTBeojRhsAMDb6PPuYbABAG+jz7vLbDoAWM50gdqIwQYAvI0+7x4GGwDwNvq8u8ymA4DlTBeojRhsAMDb6PPuYbABAG+jz7vLbDoAWM50gdqIwQYAvI0+7x4GGwDwNvq8u8ymA4DlTBeojRhsAHhee5u0e6O0dU3nf9vbzP3s1pbw+9LTfp76+K4N0ru/D/99T/n68Fu/ps+7hMEGALytt32+urpaOTk5Sk1NVVFRkTZu3BjV8zZv3qzExESNGjUqaP1TTz2lMWPG6LzzztN5552nr3zlK3r99ddj2icbmU0HAMuZLlAbEWABiEksIUtPAU2E0KXb1zEENkFf/7pCmpcrVZ77yfJwvrRhrvv7sWGu9J8FwT/7P84L/nrexZ37GGrbU/cz1OORvu8pXx+uOIc+7xICLADwtt70+dWrVys5OVlLliyR3+/XzJkzlZGRoaampojPO3TokHJzc3XNNdd0C7BuvfVWVVdXq76+Xtu2bdMdd9yhAQMGaO/evb36vWxhNh0ALGe6QG1EgAVY6kzeNXQmQVGkwKY3IUukgCZC6BLy6756bl9+rzP5uWdpIcByDwEWAHhbb/p8cXGxpk+fHrSuoKBAFRUVEZ83adIkPfjgg6qsrOwWYJ2ura1N55xzjp555pmo98tGZtMBwHKmC9RGBFjwBJOXiEXaD7eColjfcRRrQGNhCMPS+4UAyz0EWADgbbH2+ZaWFiUmJmrdunVB62fMmKGSkpKwz3v66ac1evRotba2RhVgHTlyRGlpaXrxxRej2i9bmU0HAMuZLlAbEWDhrHIjaHrnhd6HPWdyaZobwVEsC6ETS5QLAZZ7CLAAwNu6+rzf79fhw4cDy4kTJ0Ju39zcLMdxVFtbG7R+9uzZysvLC/mcHTt2aPDgwdq+fbskRRVg3X333Ro+fLiOHz/ei9/KHkbDAcB2pgvURgRYOGtCBU1dl5f1NjjaMDe6Id7NS9MIjlgsXwiw3EOABQDe1tXnT18qKytDbt8VYNXV1QWtr6qqUn5+frft29raNHr0aD3xxBOBdT0FWPPmzdNnP/tZvfXWW737pSxiLBgA4oHpArURARZ6FMu7psJdQvfrip4H7ZiDogHGgwEWlnhYCLDcQ4AFAN4W6zuwYr2E8KOPPpLjOEpMTAwsCQkJgXWvvfZa0PYLFizQgAED9MYbb/TdL2mQyWwAsJ7pArURARa6OTWEinRT7t584hoLC8tZXwiw3EOABQDe1tubuJeVlQWtKywsDHkT9/b2djU0NAQtZWVlys/PV0NDg44ePRrYdv78+Tr33HP1hz/8ofe/kGXMpgOA5UwXqNtefPFF5eXlacSIEVqyZElUzyHA8qhINxOPdM+nUCFUpIWAioXF+oUAyz0EWADgbb3p86tXr1ZycrKWLl0qv9+v8vJyZWRkqLGxUZJUUVGhqVOnhn1+qEsI582bp5SUFD333HPav39/YPn4449794tZwmw6AFjOdIG6qbW1VSNHjtTevXt15MgRjRgxQn//+997fB4BlsUiXboXKaCK9Z1QhFAsLGdvcaveIlxyS4DlHgIsAPC23vb56upq+Xw+paSkqKioSDU1NYHHSktLNXbs2LDPDRVg+Xy+mO7FFS+MBQNAPDBdoG6qra3VLbfcEvh6xowZWrlyZY/PI8A6i3q6l1S0l+5xqR6LV5YzuUF+rM+dlxt9/fTlfjxcEPoTMUN9auWp24baz1Mfj+HTMw+/9Wv6vEsIsADA2+jz7jKbDgCWq6mp0Q033KCsrCw5jqPnn38+YkG1trZq1qxZysnJUVpami6++GL98Ic/VHt7e58WbrT7VV1drZycHKWmpqqoqEgbN24MPLZmzRrdc889ga/nz5+vBQsW9PizCbDOklCfwPdwfuRhlYWlr5a+/GTFaEOWngKaWD95MobAJuTX0b6Dsa/3I5YPPYgUavf0vSKgz7uHwQYAvI0+7y6T2QBgvfXr12vWrFlau3ZtVAFWVVWVBg0apJdeekl79uzRmjVr1L9/fz366KNhn7N582adPHmy2/pt27Zp//79IZ8TzX51XUu9ZMkS+f1+zZw5UxkZGWpqapIkPfvss90CrIcffjji7ycx2PS5UwfOrkE3mk/gY/Hm4mZQFO07jnoT9kQKbGIJWfoogMGZoc+7h8EGALyNPu8uk9kAYL3TiqXHAOv666/XtGnTgtaNHz9eU6ZMCbl9e3u7Ro0apQkTJqit7ZNBbfv27crMzNS8efOiKeKQ+1VcXKzp06cHrSsoKAh8mkWoSwhXrFjR489jsIlRrPeeYjn7y7O3xx72xLKtW8FRrEHRmbzzB58q9Hn3MNgAgLfR591lMhsArHdasfQYYP34xz+Wz+fT9u3bJUlvvvmmBg8eHPHeUs3NzRo+fLhuvfVWtbe3a9euXRoyZIi+853vRFvE3farpaVFiYmJWrduXdD6GTNmqKSkRFLn5Y4jRowIuon7Bx98EPbnPP744yosLFReXh6DTbSf2Me9p/puWfH/db+87EyDo/8s7LxUs6c/076+NI3gCJYjwHIPgw0AeBt93l0mswHAeqcVS48BVkdHhyoqKpSQkKCkpCQlJCRozpw5PRZiU1OTfD6fJk2apGHDhum2225TR0dHtEXcbb+am5vlOI5qa2uD1s+ePVt5eXmBr1944QWNHDlSw4cP109/+tOoft6ncrDp6WbphFJ9t/RVyERwBPTap7LPnyUMNgDgbfR5dxmMBgD7nVYsPQZYq1atUnZ2tlatWqWtW7fqF7/4hQYOHKif//znPRZjTU2NHMdRbm6uWltbYynisAFWXV1d0Pqqqirl5+dH/b1D8eRgw2V+fbtEuil3tJ+4RsgEGOPJPm8JBhsA8Db6vLvMJQNAHDitWHoMsLKzs/X4448HrXvooYd6DI0OHDig/Px83XjjjcrMzNS9994bSxH36hLC3vLcYBPq0/54R1Vs93w6PYSK5dPbCKgA63iuz1uEwQYAvI0+7y6T2QBgvdOKpccAa+DAgVq8eHHQujlz5mjkyJFhn3Pw4EFdeumluuWWW9Ta2iq/36/Bgwfr/vvvj7aIw97EvaysLGhdYWFh4CbuveWZwaa9rTN0MR0U2RJQRXonVE/3fCKEAjzFM33eQgw2AOBt9Hl3mcwGAOt9/PHHqq+vV319vRzH0cKFC1VfX6+mpiZJ0k9+8hNdffXVgYIqLS3VkCFD9NJLL2nPnj1at26dzj//fD3wwAMhC7C9vV1XXnmlrrvuOrW0tATWb926VYMGDdLChQtDPq+n/ZKk1atXKzk5WUuXLpXf71d5ebkyMjLU2Nh4Rk0jbgabni4LfDjffIjU10ukS/e4VA9AlOKmz8chBhsA8Db6vLtMZgOA9TZs2CDHcbotpaWlkqTKykr5fL5AQR05ckQzZ87UsGHDlJaWptzcXM2aNSsonDrdq6++quPHj3dbX19fr/feey/kc3rary7V1dXy+XxKSUlRUVGRampqYm4Sp7N2sPHyjdZ/XRH6d4rl0j0CKgBRsrbPewCDDQB4G33eXSYyASBumC5QG1k52IS6j5UXllM/gU8ilAJwVljZ53uhurpaOTk5Sk1NVVFRkTZu3Bhx++XLl+uKK65Qenq6MjMzdfvtt+uDDz4IPP7UU09pzJgxOu+883TeeefpK1/5il5//fWY9onBBgC8jT7vLrPpAGA50wVqI1cHm1gDmni8j1Wke0+dfq8pAioABnghwOq6jH7JkiXy+/2aOXOmMjIygi61P9WmTZvUr18/PfbYY9q9e7c2bdoUuD9ll1tvvVXV1dWqr6/Xtm3bdMcdd2jAgAHau3dv1PvFYAMA3kafd5fZdACwnOkCtZFrg02od1E9nB/+vk023ccq0uWJ3HsKQJzxQoBVXFys6dOnB60rKCgI+0EmCxYsUG5ubtC6RYsWKTs7O+zPaGtr0znnnKNnnnkm6v1isAEAb6PPu8tsOgBYznSB2siVweadF6TKAWcWFJ3NJZZP7COgAhBn4j3AamlpUWJiotatWxe0fsaMGSopKQn5nNraWqWkpOjll19WR0eHDhw4oJKSEt11111hf86RI0eUlpamF198Mew2J06c0OHDhwOL3+9nsAEADyPAcpfZdACwnOkCtVGfDzbtbfbdvyrSZX6EUgA8Lt4DrObmZjmOo9ra2qD1s2fPVl5eXtjnrVmzRv3791dSUpIcx9FNN92kkydPht3+7rvv1vDhw0N+EEuXysrKkB+6wmADAN5EgOUuU7kAEBdMF6iN+nyw2b3RfGB16rJhLpf5AfhU80qAVVdXF7S+qqpK+fn5IZ/zzjvvKCsrS/Pnz9dbb72lV155RZdffrmmTZsWcvt58+bps5/9rN56662I+8I7sADg04UAy11GwwHAdqYL1EZ9Oti0t0m/fch8aFV5bvdP/AOAT6l4D7B6cwnhlClTNGHChKB1mzZtkuM42rdvX9D6BQsWaMCAAXrjjTdi3jcGGwDwNvq8u4yGA4DtTBeojfpssAl103YuCwQA4+I9wJI6b+JeVlYWtK6wsDDsTdzHjx+viRMnBq2rq6uT4zhqbm4OrJs/f77OPfdc/eEPf+jVfjHYAIC30efdZTQcAGxnukBtdMaDTXtbZ3DkdmDFp/8BQK94IcBavXq1kpOTtXTpUvn9fpWXlysjI0ONjY2SpIqKCk2dOjWw/bJly5SUlKTFixfr3Xff1ebNmzV69GgVFxcHtpk3b55SUlL03HPPaf/+/YHl448/jnq/GGwAwNvo8+4ymw4AljNdoDaKebBpb/skONowV3o4/+zcx4qACgB6xQsBliRVV1fL5/MpJSVFRUVFqqmpCTxWWlqqsWPHBm2/aNEiXXLJJUpPT1dWVpYmT56svXv3Bh73+Xwhb8heWVkZ9T4x2ACAt9Hn3WUsGADigekCtVFMg83ZvkyQ+1gBwBnzSoBlIwYbAPA2+ry7zKYDgOVMF6iNehxsut5x9euKMwuj/ntq9/CL+1gBgOsIsNzDYAMA3kafd5fZdACwnOkCtVHEwaYv33HVFUidet8q7mMFAK4jwHIPgw0AeBt93l1m0wHAcqYL1EbdBpu+esdVYBnQeSkg4RQAGEGA5R4GGwDwNvq8u8ymA4DlTBeojQKDTd0znZfv9fk9rgZwHysAMIgAyz0MNgDgbfR5d5lNBwDLmS5QGwUGm4pzuAk7AHgQAZZ7GGwAwNvo8+4ymw4AljNdoDZyLcDaMJfLBgHAAgRY7mGwAQBvo8+7y2w6AFjOdIHaqM8DLN51BQBWIcByD4MNAHgbfd5dZtMBwHKmC9RGZxxgPVzQ+W4rPkkQAKxEgOUeBhsA8Db6vLvMpgOA5UwXqI16HWD9uoLACgDiAAGWexhsAMDb6PPuMpsOAJYzXaA2ijnA4hJBAIgrBFjuYbABAG+jz7vLbDoAWM50gdoo6gCLd1wBQFwiwHIPgw0AeBt93l1m0wHAcqYL1EY9Bli84woA4hoBlnsYbADA2+jz7jKbDgCWM12gNuoWYHFTdgDwFAIs9zDYAIC30efdZTYdACxnukBtFBhs6p4hsAIADyLAcg+DDQB4G33eXWbTAcBypgvURgw2AOBt9Hn3MNgAgLfR591lNh0ALGe6QG3EYAMA3kafdw+DDQB4G33eXWbTAcBypgvURgw2AOBt9Hn3MNgAgLfR591lNh0ALGe6QG3EYAMA3kafdw+DDQB4G33eXWbTAcBypgvURgw2AOBt9Hn3MNgAgLfR591lNh0ALGe6QG3EYAMA3kafdw+DDQB4G33eXWbTAcBypgvURgw2AOBt9Hn3MNgAgLfR591lNh0ALGe6QG3EYAMA3kafdw+DDQB4G33eXWbTAcBypgvURgw2AOBt9Hn3MNgAgLfR591lNh0ALGe6QG3EYAMA3kafdw+DDQB4G33eXWbTAcBypgvURgw2AOBt9Hn3MNgAgLfR591lNh0ALGe6QG3EYAMA3kafdw+DDQB4G33eXWbTAcBypgvURgw2AOBt9Hn3MNgAgLfR591lNh0ALGe6QG3EYAMA3kafdw+DDQB4G33eXWbTAcBypgvURgw2AOBt9Hn3MNgAgLfR591lNh0ALGe6QG3EYAMA3kafdw+DDQB4G33eXWbTAcBypgvURgw2AOBt9Hn3MNgAgLfR591lNh0ALGe6QG3EYAMA3kafdw+DDQB4G33eXWbTAcBypgvURgw2AOBt9Hn3MNgAgLfR591lNh0ALGe6QG3EYAMA3kafdw+DDQB4G33eXWbTAcBypgvURgw2AOBt9Hn3MNgAgLfR591lNh0ALGe6QG3EYAMA3kafdw+DDQB4G33eXWbTAcBypgvURgw2AOBtXunz1dXVysnJUWpqqoqKirRx48aI2y9fvlxXXHGF0tPTlZmZqdtvv10ffPBB0DbPPfecCgsLlZKSosLCQq1bty6mfWKwAQBvo8+7y2w6AFjOdIHayCuDDQAgNC/0+dWrVys5OVlLliyR3+/XzJkzlZGRoaamppDbb9q0Sf369dNjjz2m3bt3a9OmTbr00kt1yy23BLapq6tTYmKi5syZo23btmnOnDlKSkrSH//4x6j3i8EGALyNPu8us+kAYDnTBWojLww2AIDwvNDni4uLNX369KB1BQUFqqioCLn9ggULlJubG7Ru0aJFys7ODnw9ceJEjRs3Lmiba6+9Vv/8z/8c9X4x2ACAt9Hn3WU2HQAsZ7pAbeSFwQYAEF689/mWlhYlJiZ2u7xvxowZKikpCfmc2tpapaSk6OWXX1ZHR4cOHDigkpIS3XXXXYFthg4dqoULFwY9b+HChRo2bFjU+8ZgAwDeRp93l9l0ALCc6QK1UbwPNgCAyOK9zzc3N8txHNXW1gatnz17tvLy8sI+b82aNerfv7+SkpLkOI5uuukmnTx5MvB4cnKyVqxYEfScFStWKCUlJez3PHHihA4fPhxY/H4/gw0AeBgBlrtMZgOA9UwXqI3ifbABAEQW732+K8Cqq6sLWl9VVaX8/PyQz3nnnXeUlZWl+fPn66233tIrr7yiyy+/XNOmTQtsk5ycrJUrVwY9b/ny5UpNTQ27L5WVlXIcp9vCYAMA3kSA5S5jwQAQD0wXqI3ifbABAEQW732+N5cQTpkyRRMmTAhat2nTJjmOo3379knq3SWEvAMLAD5dCLDcZTQcAGxnukBtFO+DDQAgMi/0+eLiYpWVlQWtKywsDHsT9/Hjx2vixIlB6+rq6uQ4jpqbmyV13sT961//etA248aN4ybuAICA3vb56upq5eTkKDU1VUVFRdq4cWNUz9u8ebMSExM1atSobo8999xzKiwsVEpKigoLC7v9w048MhoOALYzXaA28sJgAwAIzwt9fvXq1UpOTtbSpUvl9/tVXl6ujIwMNTY2SpIqKio0derUwPbLli1TUlKSFi9erHfffVebN2/W6NGjVVxcHNimtrZWiYmJmjt3rrZt26a5c+cqKSlJf/zjH6PeLwIsAPC23vT5rnPWkiVL5Pf7NXPmTGVkZKipqSni8w4dOqTc3Fxdc8013QKsuro6JSYmas6cOdq2bZvmzJkT8znLRmbTAcBypgvURl4YbAAA4Xmlz1dXV8vn8yklJUVFRUWqqakJPFZaWqqxY8cGbb9o0SJdcsklSk9PV1ZWliZPnqy9e/cGbbNmzRrl5+crOTlZBQUFWrt2bUz7RIAFAN7Wmz5fXFys6dOnB60rKCgI+67hLpMmTdKDDz6oysrKbgHWxIkTNW7cuKB11157bUzvGraR2XQAsJzpArWRVwYbAEBo9Hn3EGABgLfF2ud7c99GSXr66ac1evRotba2hgywenPfxnhgNh0ALGe6QG3EYAMA3kafdw8BFgB4W1ef9/v9QR/iceLEiZDbd31ybm1tbdD62bNnKy8vL+RzduzYocGDB2v79u2SFDLASk5O1ooVK4LWrVixQikpKb391axgNBwAbGe6QG3EYAMA3kafdw8BFgB4W1efP32prKwMuX1XgFVXVxe0vqqqSvn5+d22b2tr0+jRo/XEE08E1oULsFauXBm0bvny5UpNTe3lb2YHY8EAEA9MF6iNGGwAwNvo8+4hwAIAb4v1HVixXkL40UcfyXEcJSYmBpaEhITAutdee00SlxACn0qmC9RGDDYA4G30efcQYAGAt/X2Ju5lZWVB6woLC0PexL29vV0NDQ1BS1lZmfLz89XQ0KCjR49K6ryJ+9e//vWg544bN46buANeZrpAbcRgAwDeRp93DwEWAHhbb/r86tWrlZycrKVLl8rv96u8vFwZGRlqbGyUJFVUVGjq1Klhnx/qEsLa2lolJiZq7ty52rZtm+bOnaukpCT98Y9/7N0vZgmz6QBgOdMFaiMGGwDwNvq8ewiwAMDbetvnq6ur5fP5lJKSoqKiItXU1AQeKy0t1dixY8M+N1SAJUlr1qxRfn6+kpOTVVBQoLVr18a0TzYymw4AljNdoDZisAEAb6PPu4cACwC8jT7vLrPpAGA50wVqIwYbAPA2+rx7GGwAwNvo8+4ymw4AljNdoDZisAEAb6PPu4fBBgC8jT7vLrPpAGA50wVqIwYbAPA2+rx7GGwAwNvo8+4ymw4AljNdoDZisAEAb6PPu4fBBgC8jT7vLrPpAGA50wVqIwYbAPA2+rx7GGwAwNvo8+4ymw4AljNdoDZisAEAb6PPuyeawaajo0MnT57U8ePHWQwsJ0+eVEdHx1n8WwHASwiw3GU2HQAsZ7pAbcRgAwDeRp93T0+DTUtLixobG+X3+1kMLo2NjWppaTnLfzsAeAEBlrvMpgOA5UwXqI0YbADA2+jz7ok02LS3t+svf/mLdu7cqUOHDunYsWPG3430aVuOHTumQ4cOaefOnfrLX/6i9vZ2A39LAMQzAix3mU0HAMuZLlAbMdgAgLfR590TabA5fvy4/H6//vGPfxjYM5zqH//4h/x+v44fP256VwDEGQIsd5lNBwDLmS5QGzHYAIC30efdE02ARWhiHn8WAHqLAMtdZtMBwHKmC9RGDDYA4G30efcQYMUH/iwA9BYBlrvMpgOA5UwXqI0YbADA2+jz7iHAig/8WQDoLQIsd5lNBwDLmS5QGzHYAIC30efdc1YCrLY2acMGaeXKzv+2tZ3Z9+tBaWmpHMfptuzcubPb40lJSbr44ot1//336+jRo32+L5WVlRo1atQZfx8CLAC9RYDlLkOxABAfTBeojRhsAMDb6PPucT3AWrtWys6WHOeTJTu7c71LSktLNW7cOO3fvz9oaft/wdmpj7/33ntasWKF0tPTNX369Kh/RktLS1TbEWABMI0Ay11m0wHAcqYL1EYMNgDgbfR597gaYK1dKyUkBIdXjtO5LiHBtRCrtLRUN998c0yPf/vb31ZmZmbY5/h8Pj300EMqLS3Vueeeq9tuu02S9MADD2jkyJFKT0/XxRdfrAcffFAnT56UJC1btqzbu8CWLVsmSTp06JDuvPNOXXDBBTrnnHP05S9/WW+++WbYn0+ABaC3CLDcZS4ZAOKA6QJ124svvqi8vDyNGDFCS5Ysieo5DDYA4G30effEFGB1dEhHj0a3HD4sDRnSPbw6NcTKzu7cLprv19ER9e/UmwDrvvvu06BBg8I+x+fz6dxzz9WCBQu0c+fOwOWIDz30kGpra7Vnzx796le/0oUXXqh58+ZJko4dO6b7779fl156aeBdYMeOHVNHR4euuuoq3XjjjXrjjTe0Y8cO3X///Ro0aJD+/ve/h/z5BFgAeosAy11m0wHAckZBLNUAABnySURBVKYL1E2tra0aOXKk9u7dqyNHjmjEiBFhX8idisEGALyNPu+emAKso0fDB1JuLzHcn6q0tFSJiYnKyMgILBMmTAh6/NQA6/XXX9egQYM0ceLEsN/T5/Pplltu6fFnz58/X1deeWXg61CXEL722ms699xzdeLEiaD1w4cP109/+tOQ35cAC0BvEWC5y2w6AFjOdIG6qba2NujF4YwZM7Ry5coen8dgAwDeRp93j1cDrK9+9auBd0rt3LlT+/btC3q8K+BKTU1Vv3799E//9E/661//GvZ7+nw+VVVVdVu/Zs0aXXXVVbrwwgsD3++CCy4IPB4qwJo/f7769esXFLBlZGSoX79+euCBB0L+fAIsAL1FgOUus+kAYLmamhrdcMMNysrKkuM4ev7556MqrL1792ry5MkaOHCg0tPTNWrUKP3pT3/q0+KNZt+qq6uVk5Oj1NRUFRUVaePGjYHH1qxZo3vuuSfw9fz587VgwYIefy6DDQB4G33ePa5dQrh+fXTB1Pr1Ri4h7Aq4GhsbA/esisTn8+mRRx4JWveHP/xBiYmJqqqqClwK+KMf/UgDBgwIbBMqwJo7d66GDBkSFLB1LQcPHgz58wmwAPQWAZa7TGYDgPXWr1+vWbNmae3atVEHWB9++KF8Pp9uv/12vf7669qzZ49++9vfateuXSG337x5c8gXc9u2bdP+/fvD/pye9m316tVKTk7WkiVL5Pf7NXPmTGVkZKipqUmS9Oyzz3YLsB5++OEefz8GGwDwNvq8e1y7iXtbW+c9rkLdxL3rHlhDh3Zu18d6cw+snoQKsB5++GHl5uYGrfvWt74VFGDNnj1bl112WdA2r776qhITE7Vnz56ofz4BFoDeIsByl8lsALDeacUSVYD1ve99T2PGjImqANvb2zVq1ChNmDAh8HHTkrR9+3ZlZmYGbkwaRSF327fi4uJuH1FdUFCgiooKSaEvIVyxYkWPP4vBBgC8jT7vnrPyKYSnh1gWfgphT0IFWL/85S+VlJSkVatWadeuXXrsscc0cODAoABrxYoVysjIUH19vQ4ePKgTJ06oo6NDY8aM0ahRo/TKK69oz549qq2t1axZs/TGG2+E/PkEWAB6iwDLXSazAcB6pxVLVAFWYWGhysvLNWHCBF1wwQX63Oc+p6eeeirs9s3NzRo+fLhuvfVWtbe3a9euXRoyZIi+853vxFLIQfvW0tKixMRErVu3Lmi7GTNmqKSkRFLnTdxHjBgRdBP3Dz74oMefxWADAN5Gn3ePqwGW1BlSZWcHB1hDh7oWXklnL8CSpO9+97saNGiQ+vfvr0mTJumRRx4JCrBOnDihb3zjGzrvvPPkOI6WLVsmSTpy5Ijuu+8+XXTRRUpOTtbQoUM1efJkvffeeyF/PgEWgN4iwHKXwWgAsN9pxRJVgJWamqrU1FR9//vf15///Gc9+eSTSktL0zPPPBP2OU1NTfL5fJo0aZKGDRum2267TR0x3H/i9H1rbm6W4ziqra0N2m727NnKy8sLfP3CCy9o5MiRET+Jp8vjjz+uwsJC5eXlMdgAgIcRYLnH9QBL6rxMcMMGaeXKzv+6cNmg1xFgAegtAix3GYwGAPudVixRBVjJycn64he/GLTuvvvu0xe+8IWIz6upqZHjOMrNzVVra2ushRwywKqrqwvarqqqSvn5+TF979Mx2ACAt9Hn3XNWAiycMf4sAPQWAZa7zCUDQBw4rViiCrCGDRumb33rW0HrFi9erIsuuijscw4cOKD8/HzdeOONyszM1L333htrIcd8CWFvMdgAgLfR591DgBUf+LMA0FsEWO4ymQ0A1jutWKIKsL75zW92u4l7eXl5t3dldTl48KAuvfRS3XLLLWptbZXf79fgwYN1//33x1LIIW/iXlZWFrSusLAwcBP33mKwAQBvo8+7hwArPvBnAaC3CLDcZTIbAKz38ccfq76+XvX19XIcRwsXLlR9fb2ampokST/5yU909dVXBxXVli1blJSUpNmzZ2vnzp1asWKFPvOZz2j58uXdCrC9vV1XXnmlrrvuOrW0tATWb926VYMGDdLChQvDFm9P+7Z69WolJydr6dKl8vv9Ki8vV0ZGhhobG8+oaTDYAIC30efdQ4AVH/izANBbBFjuMpkNANbbsGGDHMfptpSWlkqSKisr5fP5uhXWiy++qMsuu0ypqakqKCiI+CmEr776asgXSPX19WE/HUeSeto3SaqurpbP51NKSoqKiopUU1MTdXMIh8EGALyNPu8eAqz4wJ8FgN4iwHKXiUwAiBumC9RGDDYA4G30efdEE2AdO3bMwJ7hVMeOHSPAAtArBFjuMpsOAJYzXaA2YrABAG+jz7sn0mDT1tYmv9+vDz74wMCe4VQffPCB/H6/2traTO8KgDhDgOUus+kAYDnTBWojBhsA8Dav9Pnq6mrl5OQoNTVVRUVF2rhxY9htS0tLQ16Wf8kllwRt98gjjygvL09paWnKzs5WeXl5TO/S6Wmw2bdvXyDEOnbsmI4fP85yFpdjx44Fwqt9+/ZF/ecKAF0IsNxlLBgA4oHpArWRVwYbAEBoXujzXR9ksmTJEvn9fs2cOVMZGRmBDzo53aFDh7R///7A8v7772vgwIGqrKwMbLN8+XKlpqZqxYoV2rNnj/7nf/5HWVlZKi8vj3q/ehpsOjo6AiEWi7ll37596ujoiOnvHABIBFhuM5sOAJYzXaA28sJgAwAIzwt9vri4WNOnTw9aV1BQoIqKiqie//zzzyshISHok3vvueeebp88/K//+q8aM2ZM1PsV7WDT1tZm/N1In9aFywYBnAkCLHeZTQcAy5kuUBt5YbABAIQX732+paVFiYmJWrduXdD6GTNmqKSkJKrvccMNN+hrX/ta0LpVq1ZpwIABev311yVJ7777rgoKCvTjH/847Pc5ceKEDh8+HFj8fj+DDQB4GAGWu8ymA4DlTBeojeJ9sAEARBbvfb65uVmO46i2tjZo/ezZs5WXl9fj8/ft26fExET993//d7fHFi1apOTkZCUlJclxHJWVlUX8XpWVlSHvrcVgAwDeRIDlLlO5ABAXTBeojeJ9sAEARBbvfb4rwKqrqwtaX1VVpfz8/B6fP2fOHA0aNEgtLS1B6zds2KALL7xQS5Ys0datW7Vu3ToNHTpUP/rRj8J+L96BBQCfLgRY7jIaDgC2M12gNor3wQYAEFm89/kzuYSwo6NDI0aMCHlj9jFjxujf/u3fgtb913/9l9LT09Xe3h7VvjHYAIC30efdZTYdACxnukBtdOjQoUBTPvVflVlYWFhYvLF0vfg+dOiQ6VNOrxUXF3e7vK+wsLDHm7hv2LBBjuOooaGh22NFRUV64IEHgtatXLlSaWlpUd/4u6mpSY7jaMuWLXr//fdZWFhYWDy2bNmyRY7jhP3UW5wZo+EAYDvTBWqj999/P+T9PFhYWFhYvLW8/378/uvx6tWrlZycrKVLl8rv96u8vFwZGRmBTxWsqKjQ1KlTuz1vypQp+vznPx/ye1ZWVuqcc87RqlWrtHv3br366qsaPny4Jk6cGPV+dQ02LCwsLCzeXrZs2dK7ExgicgCEZ7pAbdTe3h50Dw/T7xSIh6Ur9ON4cbw4VhyveFgOHTqk999/P+rL4mxVXV0tn8+nlJQUFRUVqaamJvBYaWmpxo4dG7T9oUOHlJ6erqeeeirk92ttbdV//Md/aPjw4UpLS9PQoUN1991366OPPop6n1pbW7Vlyxa9/fbbchxHfr/f+LsFbF+6XnNwrDheHC+OVTwsTU1N2rJli1pbW3t17kJkpnIBIC6YLlBbHT4c3/dHOds4XrHheEWPYxUbjhdswd/F6HGsYsPxig3HK3ocK9jAVC4AxAXTBWorTmCx4XjFhuMVPY5VbDhesAV/F6PHsYoNxys2HK/ocaxgA1O5ABAXTBeorTiBxYbjFRuOV/Q4VrHheMEW/F2MHscqNhyv2HC8osexgg1M5QJAXDBdoLY6ceKEKisrdeLECdO7Ehc4XrHheEWPYxUbjhdswd/F6HGsYsPxig3HK3ocK9jAdD4AWM10gQIAAAAAAAIsICLTBQoAAAAAAAiwgIhMFygAAAAAACDAAiIyXaAAAAAAAIAAC4jIdIHaqrq6Wjk5OUpNTVVRUZE2btxoepeMmzNnjkaPHq3+/fvrggsu0M0336y//OUvQdt0dHSosrJSWVlZSktL09ixY/X2228b2mO7zJkzR47jaObMmYF1HK9ge/fu1eTJkzVw4EClp6dr1KhR+tOf/hR4nOPVqbW1VbNmzVJOTo7S0tJ08cUX64c//KHa29sD23CsYBLn0O44h54ZzqE94xwaHc6hsJ3pfACwmukCtdHq1auVnJysJUuWyO/3a+bMmcrIyFBTU5PpXTPq2muv1bJly/T222/rzTff1PXXX69hw4bp6NGjgW3mzp2rc845R2vXrlVDQ4MmTZqkrKwsHTlyxOCem7dlyxbl5OToiiuuCHrxzfH6xIcffiifz6fbb79dr7/+uvbs2aPf/va32rVrV2AbjlenqqoqDRo0SC+99JL27NmjNWvWqH///nr00UcD23CsYArn0NA4h/Ye59CecQ6NHudQ2M50PgBYzXSB2qi4uFjTp08PWldQUKCKigpDe2Snv/3tb3IcRzU1NZI6/7UqMzNTc+fODWxz4sQJDRgwQE8++aSp3TTu448/1siRI/Wb3/xGY8eODbz45ngF+973vqcxY8aEfZzj9Ynrr79e06ZNC1o3fvx4TZkyRRLHCmZxDo0O59DocA6NDufQ6HEOhe1M5wOA1UwXqG1aWlqUmJiodevWBa2fMWOGSkpKDO2VnXbu3CnHcdTQ0CBJevfdd+U4jv785z8HbXfTTTfptttuM7GLVrjttttUXl4uSUEvvjlewQoLC1VeXq4JEyboggsu0Oc+9zk99dRTgcc5Xp/48Y9/LJ/Pp+3bt0uS3nzzTQ0ePFgrV66UxLGCOZxDo8c5NDqcQ6PDOTR6nENhO1O5ABAXTBeobZqbm+U4jmpra4PWz549W3l5eYb2yj4dHR268cYbg/61r7a2Vo7jqLm5OWjbO++8U9dcc83Z3kUrrFq1SpdddpmOHz8uKfjFN8crWGpqqlJTU/X9739ff/7zn/Xkk08qLS1NzzzzjCSO16k6OjpUUVGhhIQEJSUlKSEhQXPmzAk8zrGCKZxDo8M5NDqcQ6PHOTR6nENhO1O5ABAXTBeobbpefNfV1QWtr6qqUn5+vqG9ss/dd98tn8+n999/P7Cu64S/b9++oG2//e1v69prrz3bu2jce++9p8GDB+vNN98MrAv14pvj1Sk5OVlf/OIXg9bdd999+sIXviCJ43WqVatWKTs7W6tWrdLWrVv1i1/8QgMHDtTPf/5zSRwrmMM5NDqcQ3vGOTQ2nEOjxzkUtjOVCwBxwXSB2obLH3p27733Kjs7W7t37w5az1uugz3//PNyHEeJiYmBxXEcJSQkKDExUbt27eJ4nWLYsGH61re+FbRu8eLFuuiiiyTx9+tU2dnZevzxx4PWPfTQQ4GAgGMFUziH9oxzaHQ4h8aGc2j0OIfCdmZSASBOmC5QGxUXF6usrCxoXWFh4af+BrQdHR265557dNFFF2nHjh0hH8/MzNS8efMC61paWj61N708cuSIGhoagpbRo0drypQpamho4Hid5pvf/Ga3G9CWl5cH/kWZ4/WJgQMHavHixUHr5syZo5EjR0riWMEszqGhcQ6NDefQ2HAOjR7nUNjOdD4AWM10gdqo6yPAly5dKr/fr/LycmVkZKixsdH0rhlVVlamAQMG6Pe//732798fWI4dOxbYZu7cuRowYIDWrVunhoYGffOb3+Rjh09x6uUPEsfrVFu2bFFSUpJmz56tnTt3asWKFfrMZz6j5cuXB7bheHUqLS3VkCFDAh8Bvm7dOp1//vl64IEHAttwrGAK59DQOIeeOc6h4XEOjR7nUNjOdD4AWM10gdqqurpaPp9PKSkpKioqCnzM9aeZ4zghl2XLlgW26ejoUGVlpTIzM5WamqqSkpLAJyyh+4tvjlewF198UZdddplSU1NVUFAQ9AlKEsery5EjRzRz5kwNGzZMaWlpys3N1axZs9TS0hLYhmMFkziHdsc59MxxDo2Mc2h0OIfCdmZSASBOmC5QAAAAAABAgAVEZLpAAQAAAAAAARYQkekCBQAAAAAABFhARKYLFAAAAAAAEGABEZkuUAAAAAAAQIAFRGS6QAEAAAAAAAEWEJHpAgUAAAAAAARYQESmCxQAAAAAABBgARGZLlAAAAAAAECABURkukABxA/HcfT888+b3g0AAOIS51EAPTGdDwBWM12gAKJTWloqx3G6Lddee+1Z2weHF94AgDjFeRRAPDCTCgBxwnSBAohOaWmpxo0bp/379wctH3744VnbB4cX3gCAOMV5FEA8MJ0PAFYzXaAAolNaWqqbb7457OOO42jx4sUaN26c0tLSlJOTo2effTZom61bt+rLX/6y0tLSNHDgQN155536+OOPg7ZZunSpLrnkEqWkpCgzM1P33HNP0M9YsmSJbrnlFqWnp2vEiBF64YUXAo9/+OGHuvXWW3X++ecrLS1NI0aM0NNPP91HRwAAgN7jPAogHphNBwDLmS5QANGJ5oX3oEGDtGTJEm3fvl0PPvigEhMT5ff7JUn/+Mc/dNFFF2n8+PFqaGjQa6+9posvvlilpaWB77F48WKlpaXp0Ucf1fbt27VlyxY98sgjQT8jOztbK1eu1M6dOzVjxgz1799ff//73yVJ99xzjz73uc/pjTfe0J49e/Sb3/xGv/rVr9w5IAAAxIDzKIB4YDYdACxnukABRKe0tFSJiYnKyMgIWn70ox9J6nxRPH369KDnfP7zn1dZWZkk6amnntJnP/tZHT16NPD4yy+/rH79+unAgQOSpIsuukizZs0Kuw+O4+jBBx8MfH306FElJCTo17/+tSTpxhtv1B133NE3vzAAAH2I8yiAeGA2HQAsZ7pAAUSntLRUX/3qV7Vz586gpetfbR3H0TPPPBP0nPLycv2f//N/JEn/8i//Evj/LocOHZLjOKqpqdFf//pXOY6j3/3ud2H3wXGcbpdTnHvuuYGfu379eqWnp2vUqFH67ne/q9ra2jP+vQEA6AucRwHEA3PJABAHTBcogOhEc+lDqBfeX/7yl7v9f5euF94bN27UkSNHonrhffrNZwcMGKBly5YFvv7b3/6mZcuWafLkyUpLS9P9998f7a8IAIBrOI8CiAfmkgEgDpguUADRieaFd9dlDl2+8IUvxHTpQ05OTo+XPvT0wvtUTz75pM4555yIvxcAAGcD51EA8cBsOgBYznSBAohOuI//PnjwoKTOF8Xnn3++li5dqu3bt+sHP/iB+vXrp3feeUdS581ns7Ky9I1vfEMNDQ363e9+p9zc3KCbz/785z9XWlqaHnvsMe3YsUP/+7//q0WLFgUed3p44f3v//7v+uUvf6mdO3fq7bff1g033KDi4mJ3DwwAAFHgPAogHphNBwDLmS5QANEpLS2V4zjdlvz8fEmdL4qrq6v1ta99TampqfL5fFq1alXQ94jm47+ffPJJ5efnKzk5WVlZWbrvvvsCjzk9vPB+6KGHVFhYqPT0dA0cOFA333yzdu/e7cLRAAAgNpxHAcQDE5kAEDdMFyiAvuGEeFEMAACiw3kUgA1M5wOA1UwXKIC+4fDCGwCAXuM8CsAGpvMBwGqmCxRA33B44Q0AQK9xHgVgA9P5AGA10wUKAAAAAAAIsICITBcoAAAAAAAgwAIiMl2gAAAAAACAAAuIyHSBAgAAAAAAAiwgItMFCgAAAAAACLCAiEwXKAAAAAAAIMACIjJdoAAAAAAAgAALiMh0gQIAAAAAAAIsICLTBQoAAAAAAAiwgIhMFygAAAAAACDAAiIyXaAAAAAAAIAAC4jIdIECAAAAAAACLCAi0wUKAAAAAAAIsICITBcoAAAAAAAgwAIiMl2gAAAAAACAAAsAAAAAAAAAAAAAAAAAAAAAAAAAAAAAAAAAAAAAAAAAAAAAAAAAAAAAAAAAAAAAAAAAAAAAAAAAAAAAAAAAAAAAAAAAAAAAAAAAAAAAAAAAAAAAAAAAAAAAAAAAAAAAAAAAAAAAAAAAAAAAAAAAAAAAAAAAAAAAAAAAAAAAAAAAAAAAAAAAAAAAAAAAAAAAAAAAAAAAAAAAAAAAAAAAAAAAAAAAAAAAAAAAAAAAAAAAAAAAAAAAAAAAAAAAAAAAAAAAAAAAAAAAAAAAAAAAAAAAAAAAAAAAAAAAAAAAAAAAAAAAAAAAAAAAAAAAAAAAAAAAAAAAAAAAAAAAAAAAAAAAAAAAAAAAAAAAAAAAAAAAAAAAAAAAAAAAAAAAAAAAAAAAAAAAAAAAAAAAAAAAAAAAAAAAAAAAAAAAAAAAAAAAAAAAAAAAAAAAAAAAAAAAAAAAAAAAAAAAAAAAAAAAAAAAAAAAAAAAAAAAAAAAAAAAAAAAAAAAAAAAAAAAAAAAAAAAAAAAAAAAAAAAAAAAAAAAAAAAAAAAAAAAAAAAAAAAAAAAAAAAAAAAAAAAAAAAAAAAAAAAAAAAAAAAAAAAAAAAAAAAAAAAAAAA8P+3BwcEAAAAAEL+v25IAAAAAAAAAAAAAAAAAAAAAAAAAAAAAAAAAAAAAAAAAAAAAAAAAAAAAAAAAAAAAAAAAAAAAAAAAAAAAAAAAAAAAAAAAAAAAAAAAAAAAAAAAAAAAAAAAAAAAAAAAAAAAAAAAAAAAAAAAAAAAAAAAAAAAAAAAAAAAAAAAAAAAAAAAAAAAAAAAAAAAAAAAAAAAAAAAAAAAAAAAAAAAAAAAAAAAOAqzkTGckWRCqAAAAAASUVORK5CYII=\" width=\"1000\">"
      ],
      "text/plain": [
       "<IPython.core.display.HTML object>"
      ]
     },
     "metadata": {},
     "output_type": "display_data"
    }
   ],
   "source": [
    "ax, tax, lax, lines = dual_train_plots()\n",
    "fig = ax.figure\n",
    "plt.tight_layout()"
   ]
  },
  {
   "cell_type": "code",
   "execution_count": 15,
   "metadata": {
    "scrolled": false
   },
   "outputs": [
    {
     "name": "stdout",
     "output_type": "stream",
     "text": [
      "Number of batches: train = 5000, val = 1250\n"
     ]
    },
    {
     "data": {
      "application/vnd.jupyter.widget-view+json": {
       "model_id": "5353085035b54eca9e59f38cf5b91ea3",
       "version_major": 2,
       "version_minor": 0
      },
      "text/plain": [
       "HBox(children=(FloatProgress(value=0.0, description='Epochs', layout=Layout(flex='2'), style=ProgressStyle(des…"
      ]
     },
     "metadata": {},
     "output_type": "display_data"
    },
    {
     "data": {
      "application/vnd.jupyter.widget-view+json": {
       "model_id": "",
       "version_major": 2,
       "version_minor": 0
      },
      "text/plain": [
       "HBox(children=(FloatProgress(value=0.0, description='Training', layout=Layout(flex='2'), max=5000.0, style=Pro…"
      ]
     },
     "metadata": {},
     "output_type": "display_data"
    },
    {
     "name": "stdout",
     "output_type": "stream",
     "text": [
      "Epoch 0: train=2.44778, val=1.74218, took 202.14 s\n",
      "  Validation Found 94063 of 108024, added 8626 (eff 87.08%) (0.431 FP/event)\n"
     ]
    },
    {
     "data": {
      "application/vnd.jupyter.widget-view+json": {
       "model_id": "",
       "version_major": 2,
       "version_minor": 0
      },
      "text/plain": [
       "HBox(children=(FloatProgress(value=0.0, description='Training', layout=Layout(flex='2'), max=5000.0, style=Pro…"
      ]
     },
     "metadata": {},
     "output_type": "display_data"
    },
    {
     "name": "stdout",
     "output_type": "stream",
     "text": [
      "Epoch 1: train=2.43714, val=1.7439, took 202.23 s\n",
      "  Validation Found 94082 of 108024, added 8710 (eff 87.09%) (0.435 FP/event)\n"
     ]
    },
    {
     "data": {
      "application/vnd.jupyter.widget-view+json": {
       "model_id": "",
       "version_major": 2,
       "version_minor": 0
      },
      "text/plain": [
       "HBox(children=(FloatProgress(value=0.0, description='Training', layout=Layout(flex='2'), max=5000.0, style=Pro…"
      ]
     },
     "metadata": {},
     "output_type": "display_data"
    },
    {
     "name": "stdout",
     "output_type": "stream",
     "text": [
      "Epoch 2: train=2.43051, val=1.74797, took 201.45 s\n",
      "  Validation Found 94098 of 108024, added 8827 (eff 87.11%) (0.441 FP/event)\n"
     ]
    },
    {
     "data": {
      "application/vnd.jupyter.widget-view+json": {
       "model_id": "",
       "version_major": 2,
       "version_minor": 0
      },
      "text/plain": [
       "HBox(children=(FloatProgress(value=0.0, description='Training', layout=Layout(flex='2'), max=5000.0, style=Pro…"
      ]
     },
     "metadata": {},
     "output_type": "display_data"
    },
    {
     "name": "stdout",
     "output_type": "stream",
     "text": [
      "Epoch 3: train=2.4236, val=1.75227, took 202.5 s\n",
      "  Validation Found 94065 of 108024, added 8843 (eff 87.08%) (0.442 FP/event)\n"
     ]
    },
    {
     "data": {
      "application/vnd.jupyter.widget-view+json": {
       "model_id": "",
       "version_major": 2,
       "version_minor": 0
      },
      "text/plain": [
       "HBox(children=(FloatProgress(value=0.0, description='Training', layout=Layout(flex='2'), max=5000.0, style=Pro…"
      ]
     },
     "metadata": {},
     "output_type": "display_data"
    },
    {
     "name": "stdout",
     "output_type": "stream",
     "text": [
      "Epoch 4: train=2.41806, val=1.75558, took 200.99 s\n",
      "  Validation Found 94049 of 108024, added 8869 (eff 87.06%) (0.443 FP/event)\n"
     ]
    },
    {
     "data": {
      "application/vnd.jupyter.widget-view+json": {
       "model_id": "",
       "version_major": 2,
       "version_minor": 0
      },
      "text/plain": [
       "HBox(children=(FloatProgress(value=0.0, description='Training', layout=Layout(flex='2'), max=5000.0, style=Pro…"
      ]
     },
     "metadata": {},
     "output_type": "display_data"
    },
    {
     "name": "stdout",
     "output_type": "stream",
     "text": [
      "Epoch 5: train=2.41287, val=1.75979, took 201.05 s\n",
      "  Validation Found 94005 of 108024, added 8894 (eff 87.02%) (0.445 FP/event)\n"
     ]
    },
    {
     "data": {
      "application/vnd.jupyter.widget-view+json": {
       "model_id": "",
       "version_major": 2,
       "version_minor": 0
      },
      "text/plain": [
       "HBox(children=(FloatProgress(value=0.0, description='Training', layout=Layout(flex='2'), max=5000.0, style=Pro…"
      ]
     },
     "metadata": {},
     "output_type": "display_data"
    },
    {
     "name": "stdout",
     "output_type": "stream",
     "text": [
      "Epoch 6: train=2.40952, val=1.7714, took 201.15 s\n",
      "  Validation Found 94001 of 108024, added 8900 (eff 87.02%) (0.445 FP/event)\n"
     ]
    },
    {
     "data": {
      "application/vnd.jupyter.widget-view+json": {
       "model_id": "",
       "version_major": 2,
       "version_minor": 0
      },
      "text/plain": [
       "HBox(children=(FloatProgress(value=0.0, description='Training', layout=Layout(flex='2'), max=5000.0, style=Pro…"
      ]
     },
     "metadata": {},
     "output_type": "display_data"
    },
    {
     "name": "stdout",
     "output_type": "stream",
     "text": [
      "Epoch 7: train=2.40457, val=1.76736, took 201.76 s\n",
      "  Validation Found 94000 of 108024, added 8949 (eff 87.02%) (0.447 FP/event)\n"
     ]
    },
    {
     "data": {
      "application/vnd.jupyter.widget-view+json": {
       "model_id": "",
       "version_major": 2,
       "version_minor": 0
      },
      "text/plain": [
       "HBox(children=(FloatProgress(value=0.0, description='Training', layout=Layout(flex='2'), max=5000.0, style=Pro…"
      ]
     },
     "metadata": {},
     "output_type": "display_data"
    },
    {
     "name": "stdout",
     "output_type": "stream",
     "text": [
      "Epoch 8: train=2.40184, val=1.76912, took 200.87 s\n",
      "  Validation Found 93995 of 108024, added 8967 (eff 87.01%) (0.448 FP/event)\n"
     ]
    },
    {
     "data": {
      "application/vnd.jupyter.widget-view+json": {
       "model_id": "",
       "version_major": 2,
       "version_minor": 0
      },
      "text/plain": [
       "HBox(children=(FloatProgress(value=0.0, description='Training', layout=Layout(flex='2'), max=5000.0, style=Pro…"
      ]
     },
     "metadata": {},
     "output_type": "display_data"
    },
    {
     "name": "stdout",
     "output_type": "stream",
     "text": [
      "Epoch 9: train=2.40003, val=1.77163, took 201.8 s\n",
      "  Validation Found 93975 of 108024, added 8959 (eff 86.99%) (0.448 FP/event)\n"
     ]
    },
    {
     "data": {
      "application/vnd.jupyter.widget-view+json": {
       "model_id": "",
       "version_major": 2,
       "version_minor": 0
      },
      "text/plain": [
       "HBox(children=(FloatProgress(value=0.0, description='Training', layout=Layout(flex='2'), max=5000.0, style=Pro…"
      ]
     },
     "metadata": {},
     "output_type": "display_data"
    },
    {
     "name": "stdout",
     "output_type": "stream",
     "text": [
      "Epoch 10: train=2.39709, val=1.77431, took 201.51 s\n",
      "  Validation Found 93927 of 108024, added 8936 (eff 86.95%) (0.447 FP/event)\n"
     ]
    },
    {
     "data": {
      "application/vnd.jupyter.widget-view+json": {
       "model_id": "",
       "version_major": 2,
       "version_minor": 0
      },
      "text/plain": [
       "HBox(children=(FloatProgress(value=0.0, description='Training', layout=Layout(flex='2'), max=5000.0, style=Pro…"
      ]
     },
     "metadata": {},
     "output_type": "display_data"
    },
    {
     "name": "stdout",
     "output_type": "stream",
     "text": [
      "Epoch 11: train=2.39305, val=1.77629, took 201.58 s\n",
      "  Validation Found 93929 of 108024, added 8966 (eff 86.95%) (0.448 FP/event)\n"
     ]
    },
    {
     "data": {
      "application/vnd.jupyter.widget-view+json": {
       "model_id": "",
       "version_major": 2,
       "version_minor": 0
      },
      "text/plain": [
       "HBox(children=(FloatProgress(value=0.0, description='Training', layout=Layout(flex='2'), max=5000.0, style=Pro…"
      ]
     },
     "metadata": {},
     "output_type": "display_data"
    },
    {
     "name": "stdout",
     "output_type": "stream",
     "text": [
      "Epoch 12: train=2.39022, val=1.7784, took 201.91 s\n",
      "  Validation Found 93923 of 108024, added 9014 (eff 86.95%) (0.451 FP/event)\n"
     ]
    },
    {
     "data": {
      "application/vnd.jupyter.widget-view+json": {
       "model_id": "",
       "version_major": 2,
       "version_minor": 0
      },
      "text/plain": [
       "HBox(children=(FloatProgress(value=0.0, description='Training', layout=Layout(flex='2'), max=5000.0, style=Pro…"
      ]
     },
     "metadata": {},
     "output_type": "display_data"
    },
    {
     "name": "stdout",
     "output_type": "stream",
     "text": [
      "Epoch 13: train=2.38789, val=1.78047, took 202.09 s\n",
      "  Validation Found 93873 of 108024, added 8977 (eff 86.90%) (0.449 FP/event)\n"
     ]
    },
    {
     "data": {
      "application/vnd.jupyter.widget-view+json": {
       "model_id": "",
       "version_major": 2,
       "version_minor": 0
      },
      "text/plain": [
       "HBox(children=(FloatProgress(value=0.0, description='Training', layout=Layout(flex='2'), max=5000.0, style=Pro…"
      ]
     },
     "metadata": {},
     "output_type": "display_data"
    },
    {
     "name": "stdout",
     "output_type": "stream",
     "text": [
      "Epoch 14: train=2.38665, val=1.7843, took 202.22 s\n",
      "  Validation Found 93866 of 108024, added 9001 (eff 86.89%) (0.45 FP/event)\n"
     ]
    },
    {
     "data": {
      "application/vnd.jupyter.widget-view+json": {
       "model_id": "",
       "version_major": 2,
       "version_minor": 0
      },
      "text/plain": [
       "HBox(children=(FloatProgress(value=0.0, description='Training', layout=Layout(flex='2'), max=5000.0, style=Pro…"
      ]
     },
     "metadata": {},
     "output_type": "display_data"
    },
    {
     "name": "stdout",
     "output_type": "stream",
     "text": [
      "Epoch 15: train=2.38294, val=1.78468, took 201.75 s\n",
      "  Validation Found 93819 of 108024, added 8993 (eff 86.85%) (0.45 FP/event)\n"
     ]
    },
    {
     "data": {
      "application/vnd.jupyter.widget-view+json": {
       "model_id": "",
       "version_major": 2,
       "version_minor": 0
      },
      "text/plain": [
       "HBox(children=(FloatProgress(value=0.0, description='Training', layout=Layout(flex='2'), max=5000.0, style=Pro…"
      ]
     },
     "metadata": {},
     "output_type": "display_data"
    },
    {
     "name": "stdout",
     "output_type": "stream",
     "text": [
      "Epoch 16: train=2.38275, val=1.78619, took 202.89 s\n",
      "  Validation Found 93815 of 108024, added 8991 (eff 86.85%) (0.45 FP/event)\n"
     ]
    },
    {
     "data": {
      "application/vnd.jupyter.widget-view+json": {
       "model_id": "",
       "version_major": 2,
       "version_minor": 0
      },
      "text/plain": [
       "HBox(children=(FloatProgress(value=0.0, description='Training', layout=Layout(flex='2'), max=5000.0, style=Pro…"
      ]
     },
     "metadata": {},
     "output_type": "display_data"
    },
    {
     "name": "stdout",
     "output_type": "stream",
     "text": [
      "Epoch 17: train=2.38169, val=1.78755, took 205.01 s\n",
      "  Validation Found 93784 of 108024, added 8992 (eff 86.82%) (0.45 FP/event)\n"
     ]
    },
    {
     "data": {
      "application/vnd.jupyter.widget-view+json": {
       "model_id": "",
       "version_major": 2,
       "version_minor": 0
      },
      "text/plain": [
       "HBox(children=(FloatProgress(value=0.0, description='Training', layout=Layout(flex='2'), max=5000.0, style=Pro…"
      ]
     },
     "metadata": {},
     "output_type": "display_data"
    },
    {
     "name": "stdout",
     "output_type": "stream",
     "text": [
      "Epoch 18: train=2.37834, val=1.78918, took 205.21 s\n",
      "  Validation Found 93754 of 108024, added 8966 (eff 86.79%) (0.448 FP/event)\n"
     ]
    },
    {
     "data": {
      "application/vnd.jupyter.widget-view+json": {
       "model_id": "",
       "version_major": 2,
       "version_minor": 0
      },
      "text/plain": [
       "HBox(children=(FloatProgress(value=0.0, description='Training', layout=Layout(flex='2'), max=5000.0, style=Pro…"
      ]
     },
     "metadata": {},
     "output_type": "display_data"
    },
    {
     "name": "stdout",
     "output_type": "stream",
     "text": [
      "Epoch 19: train=2.37651, val=1.78931, took 205.47 s\n",
      "  Validation Found 93701 of 108024, added 8935 (eff 86.74%) (0.447 FP/event)\n"
     ]
    },
    {
     "data": {
      "application/vnd.jupyter.widget-view+json": {
       "model_id": "",
       "version_major": 2,
       "version_minor": 0
      },
      "text/plain": [
       "HBox(children=(FloatProgress(value=0.0, description='Training', layout=Layout(flex='2'), max=5000.0, style=Pro…"
      ]
     },
     "metadata": {},
     "output_type": "display_data"
    },
    {
     "name": "stdout",
     "output_type": "stream",
     "text": [
      "Epoch 20: train=2.37531, val=1.79152, took 205.28 s\n",
      "  Validation Found 93703 of 108024, added 8949 (eff 86.74%) (0.447 FP/event)\n"
     ]
    },
    {
     "data": {
      "application/vnd.jupyter.widget-view+json": {
       "model_id": "",
       "version_major": 2,
       "version_minor": 0
      },
      "text/plain": [
       "HBox(children=(FloatProgress(value=0.0, description='Training', layout=Layout(flex='2'), max=5000.0, style=Pro…"
      ]
     },
     "metadata": {},
     "output_type": "display_data"
    },
    {
     "name": "stdout",
     "output_type": "stream",
     "text": [
      "Epoch 21: train=2.37223, val=1.79124, took 205.2 s\n",
      "  Validation Found 93664 of 108024, added 8914 (eff 86.71%) (0.446 FP/event)\n"
     ]
    },
    {
     "data": {
      "application/vnd.jupyter.widget-view+json": {
       "model_id": "",
       "version_major": 2,
       "version_minor": 0
      },
      "text/plain": [
       "HBox(children=(FloatProgress(value=0.0, description='Training', layout=Layout(flex='2'), max=5000.0, style=Pro…"
      ]
     },
     "metadata": {},
     "output_type": "display_data"
    },
    {
     "name": "stdout",
     "output_type": "stream",
     "text": [
      "Epoch 22: train=2.3728, val=1.7933, took 205.24 s\n",
      "  Validation Found 93655 of 108024, added 8916 (eff 86.70%) (0.446 FP/event)\n"
     ]
    },
    {
     "data": {
      "application/vnd.jupyter.widget-view+json": {
       "model_id": "",
       "version_major": 2,
       "version_minor": 0
      },
      "text/plain": [
       "HBox(children=(FloatProgress(value=0.0, description='Training', layout=Layout(flex='2'), max=5000.0, style=Pro…"
      ]
     },
     "metadata": {},
     "output_type": "display_data"
    },
    {
     "name": "stdout",
     "output_type": "stream",
     "text": [
      "Epoch 23: train=2.37094, val=1.79397, took 205.17 s\n",
      "  Validation Found 93657 of 108024, added 8918 (eff 86.70%) (0.446 FP/event)\n"
     ]
    },
    {
     "data": {
      "application/vnd.jupyter.widget-view+json": {
       "model_id": "",
       "version_major": 2,
       "version_minor": 0
      },
      "text/plain": [
       "HBox(children=(FloatProgress(value=0.0, description='Training', layout=Layout(flex='2'), max=5000.0, style=Pro…"
      ]
     },
     "metadata": {},
     "output_type": "display_data"
    },
    {
     "name": "stdout",
     "output_type": "stream",
     "text": [
      "Epoch 24: train=2.36885, val=1.79742, took 205.17 s\n",
      "  Validation Found 93618 of 108024, added 8888 (eff 86.66%) (0.444 FP/event)\n"
     ]
    },
    {
     "data": {
      "application/vnd.jupyter.widget-view+json": {
       "model_id": "",
       "version_major": 2,
       "version_minor": 0
      },
      "text/plain": [
       "HBox(children=(FloatProgress(value=0.0, description='Training', layout=Layout(flex='2'), max=5000.0, style=Pro…"
      ]
     },
     "metadata": {},
     "output_type": "display_data"
    },
    {
     "name": "stdout",
     "output_type": "stream",
     "text": [
      "Epoch 25: train=2.36755, val=1.79613, took 204.86 s\n",
      "  Validation Found 93631 of 108024, added 8902 (eff 86.68%) (0.445 FP/event)\n"
     ]
    },
    {
     "data": {
      "application/vnd.jupyter.widget-view+json": {
       "model_id": "",
       "version_major": 2,
       "version_minor": 0
      },
      "text/plain": [
       "HBox(children=(FloatProgress(value=0.0, description='Training', layout=Layout(flex='2'), max=5000.0, style=Pro…"
      ]
     },
     "metadata": {},
     "output_type": "display_data"
    },
    {
     "name": "stdout",
     "output_type": "stream",
     "text": [
      "Epoch 26: train=2.36626, val=1.79771, took 205.19 s\n",
      "  Validation Found 93634 of 108024, added 8921 (eff 86.68%) (0.446 FP/event)\n"
     ]
    },
    {
     "data": {
      "application/vnd.jupyter.widget-view+json": {
       "model_id": "",
       "version_major": 2,
       "version_minor": 0
      },
      "text/plain": [
       "HBox(children=(FloatProgress(value=0.0, description='Training', layout=Layout(flex='2'), max=5000.0, style=Pro…"
      ]
     },
     "metadata": {},
     "output_type": "display_data"
    },
    {
     "name": "stdout",
     "output_type": "stream",
     "text": [
      "Epoch 27: train=2.36282, val=1.79996, took 205.08 s\n",
      "  Validation Found 93599 of 108024, added 8939 (eff 86.65%) (0.447 FP/event)\n"
     ]
    },
    {
     "data": {
      "application/vnd.jupyter.widget-view+json": {
       "model_id": "",
       "version_major": 2,
       "version_minor": 0
      },
      "text/plain": [
       "HBox(children=(FloatProgress(value=0.0, description='Training', layout=Layout(flex='2'), max=5000.0, style=Pro…"
      ]
     },
     "metadata": {},
     "output_type": "display_data"
    },
    {
     "name": "stdout",
     "output_type": "stream",
     "text": [
      "Epoch 28: train=2.36392, val=1.79858, took 205.27 s\n",
      "  Validation Found 93643 of 108024, added 8976 (eff 86.69%) (0.449 FP/event)\n"
     ]
    },
    {
     "data": {
      "application/vnd.jupyter.widget-view+json": {
       "model_id": "",
       "version_major": 2,
       "version_minor": 0
      },
      "text/plain": [
       "HBox(children=(FloatProgress(value=0.0, description='Training', layout=Layout(flex='2'), max=5000.0, style=Pro…"
      ]
     },
     "metadata": {},
     "output_type": "display_data"
    },
    {
     "name": "stdout",
     "output_type": "stream",
     "text": [
      "Epoch 29: train=2.36302, val=1.79964, took 205.3 s\n",
      "  Validation Found 93587 of 108024, added 8915 (eff 86.64%) (0.446 FP/event)\n"
     ]
    },
    {
     "data": {
      "application/vnd.jupyter.widget-view+json": {
       "model_id": "",
       "version_major": 2,
       "version_minor": 0
      },
      "text/plain": [
       "HBox(children=(FloatProgress(value=0.0, description='Training', layout=Layout(flex='2'), max=5000.0, style=Pro…"
      ]
     },
     "metadata": {},
     "output_type": "display_data"
    },
    {
     "name": "stdout",
     "output_type": "stream",
     "text": [
      "Epoch 30: train=2.36065, val=1.80079, took 204.9 s\n",
      "  Validation Found 93579 of 108024, added 8927 (eff 86.63%) (0.446 FP/event)\n"
     ]
    },
    {
     "data": {
      "application/vnd.jupyter.widget-view+json": {
       "model_id": "",
       "version_major": 2,
       "version_minor": 0
      },
      "text/plain": [
       "HBox(children=(FloatProgress(value=0.0, description='Training', layout=Layout(flex='2'), max=5000.0, style=Pro…"
      ]
     },
     "metadata": {},
     "output_type": "display_data"
    },
    {
     "name": "stdout",
     "output_type": "stream",
     "text": [
      "Epoch 31: train=2.35997, val=1.80278, took 205.45 s\n",
      "  Validation Found 93561 of 108024, added 8917 (eff 86.61%) (0.446 FP/event)\n"
     ]
    },
    {
     "data": {
      "application/vnd.jupyter.widget-view+json": {
       "model_id": "",
       "version_major": 2,
       "version_minor": 0
      },
      "text/plain": [
       "HBox(children=(FloatProgress(value=0.0, description='Training', layout=Layout(flex='2'), max=5000.0, style=Pro…"
      ]
     },
     "metadata": {},
     "output_type": "display_data"
    },
    {
     "name": "stdout",
     "output_type": "stream",
     "text": [
      "Epoch 32: train=2.36095, val=1.80147, took 205.56 s\n",
      "  Validation Found 93557 of 108024, added 8914 (eff 86.61%) (0.446 FP/event)\n"
     ]
    },
    {
     "data": {
      "application/vnd.jupyter.widget-view+json": {
       "model_id": "",
       "version_major": 2,
       "version_minor": 0
      },
      "text/plain": [
       "HBox(children=(FloatProgress(value=0.0, description='Training', layout=Layout(flex='2'), max=5000.0, style=Pro…"
      ]
     },
     "metadata": {},
     "output_type": "display_data"
    },
    {
     "name": "stdout",
     "output_type": "stream",
     "text": [
      "Epoch 33: train=2.3606, val=1.80321, took 205.41 s\n",
      "  Validation Found 93563 of 108024, added 8950 (eff 86.61%) (0.447 FP/event)\n"
     ]
    },
    {
     "data": {
      "application/vnd.jupyter.widget-view+json": {
       "model_id": "",
       "version_major": 2,
       "version_minor": 0
      },
      "text/plain": [
       "HBox(children=(FloatProgress(value=0.0, description='Training', layout=Layout(flex='2'), max=5000.0, style=Pro…"
      ]
     },
     "metadata": {},
     "output_type": "display_data"
    },
    {
     "name": "stdout",
     "output_type": "stream",
     "text": [
      "Epoch 34: train=2.35724, val=1.80298, took 205.88 s\n",
      "  Validation Found 93557 of 108024, added 8930 (eff 86.61%) (0.446 FP/event)\n"
     ]
    },
    {
     "data": {
      "application/vnd.jupyter.widget-view+json": {
       "model_id": "",
       "version_major": 2,
       "version_minor": 0
      },
      "text/plain": [
       "HBox(children=(FloatProgress(value=0.0, description='Training', layout=Layout(flex='2'), max=5000.0, style=Pro…"
      ]
     },
     "metadata": {},
     "output_type": "display_data"
    },
    {
     "name": "stdout",
     "output_type": "stream",
     "text": [
      "Epoch 35: train=2.35637, val=1.80389, took 205.88 s\n",
      "  Validation Found 93544 of 108024, added 8910 (eff 86.60%) (0.445 FP/event)\n"
     ]
    },
    {
     "data": {
      "application/vnd.jupyter.widget-view+json": {
       "model_id": "",
       "version_major": 2,
       "version_minor": 0
      },
      "text/plain": [
       "HBox(children=(FloatProgress(value=0.0, description='Training', layout=Layout(flex='2'), max=5000.0, style=Pro…"
      ]
     },
     "metadata": {},
     "output_type": "display_data"
    },
    {
     "name": "stdout",
     "output_type": "stream",
     "text": [
      "Epoch 36: train=2.35624, val=1.80644, took 205.42 s\n",
      "  Validation Found 93524 of 108024, added 8949 (eff 86.58%) (0.447 FP/event)\n"
     ]
    },
    {
     "data": {
      "application/vnd.jupyter.widget-view+json": {
       "model_id": "",
       "version_major": 2,
       "version_minor": 0
      },
      "text/plain": [
       "HBox(children=(FloatProgress(value=0.0, description='Training', layout=Layout(flex='2'), max=5000.0, style=Pro…"
      ]
     },
     "metadata": {},
     "output_type": "display_data"
    },
    {
     "name": "stdout",
     "output_type": "stream",
     "text": [
      "Epoch 37: train=2.35648, val=1.80491, took 205.98 s\n",
      "  Validation Found 93518 of 108024, added 8919 (eff 86.57%) (0.446 FP/event)\n"
     ]
    },
    {
     "data": {
      "application/vnd.jupyter.widget-view+json": {
       "model_id": "",
       "version_major": 2,
       "version_minor": 0
      },
      "text/plain": [
       "HBox(children=(FloatProgress(value=0.0, description='Training', layout=Layout(flex='2'), max=5000.0, style=Pro…"
      ]
     },
     "metadata": {},
     "output_type": "display_data"
    },
    {
     "name": "stdout",
     "output_type": "stream",
     "text": [
      "Epoch 38: train=2.35679, val=1.80526, took 205.57 s\n",
      "  Validation Found 93523 of 108024, added 8917 (eff 86.58%) (0.446 FP/event)\n"
     ]
    },
    {
     "data": {
      "application/vnd.jupyter.widget-view+json": {
       "model_id": "",
       "version_major": 2,
       "version_minor": 0
      },
      "text/plain": [
       "HBox(children=(FloatProgress(value=0.0, description='Training', layout=Layout(flex='2'), max=5000.0, style=Pro…"
      ]
     },
     "metadata": {},
     "output_type": "display_data"
    },
    {
     "name": "stdout",
     "output_type": "stream",
     "text": [
      "Epoch 39: train=2.35442, val=1.80561, took 205.49 s\n",
      "  Validation Found 93511 of 108024, added 8915 (eff 86.57%) (0.446 FP/event)\n"
     ]
    },
    {
     "data": {
      "application/vnd.jupyter.widget-view+json": {
       "model_id": "",
       "version_major": 2,
       "version_minor": 0
      },
      "text/plain": [
       "HBox(children=(FloatProgress(value=0.0, description='Training', layout=Layout(flex='2'), max=5000.0, style=Pro…"
      ]
     },
     "metadata": {},
     "output_type": "display_data"
    },
    {
     "name": "stdout",
     "output_type": "stream",
     "text": [
      "Epoch 40: train=2.35228, val=1.80631, took 205.57 s\n",
      "  Validation Found 93480 of 108024, added 8914 (eff 86.54%) (0.446 FP/event)\n"
     ]
    },
    {
     "data": {
      "application/vnd.jupyter.widget-view+json": {
       "model_id": "",
       "version_major": 2,
       "version_minor": 0
      },
      "text/plain": [
       "HBox(children=(FloatProgress(value=0.0, description='Training', layout=Layout(flex='2'), max=5000.0, style=Pro…"
      ]
     },
     "metadata": {},
     "output_type": "display_data"
    },
    {
     "name": "stdout",
     "output_type": "stream",
     "text": [
      "Epoch 41: train=2.35254, val=1.81052, took 205.6 s\n",
      "  Validation Found 93454 of 108024, added 8924 (eff 86.51%) (0.446 FP/event)\n"
     ]
    },
    {
     "data": {
      "application/vnd.jupyter.widget-view+json": {
       "model_id": "",
       "version_major": 2,
       "version_minor": 0
      },
      "text/plain": [
       "HBox(children=(FloatProgress(value=0.0, description='Training', layout=Layout(flex='2'), max=5000.0, style=Pro…"
      ]
     },
     "metadata": {},
     "output_type": "display_data"
    },
    {
     "name": "stdout",
     "output_type": "stream",
     "text": [
      "Epoch 42: train=2.35175, val=1.80793, took 205.61 s\n",
      "  Validation Found 93450 of 108024, added 8946 (eff 86.51%) (0.447 FP/event)\n"
     ]
    },
    {
     "data": {
      "application/vnd.jupyter.widget-view+json": {
       "model_id": "",
       "version_major": 2,
       "version_minor": 0
      },
      "text/plain": [
       "HBox(children=(FloatProgress(value=0.0, description='Training', layout=Layout(flex='2'), max=5000.0, style=Pro…"
      ]
     },
     "metadata": {},
     "output_type": "display_data"
    },
    {
     "name": "stdout",
     "output_type": "stream",
     "text": [
      "Epoch 43: train=2.34743, val=1.80835, took 205.45 s\n",
      "  Validation Found 93468 of 108024, added 8959 (eff 86.53%) (0.448 FP/event)\n"
     ]
    },
    {
     "data": {
      "application/vnd.jupyter.widget-view+json": {
       "model_id": "",
       "version_major": 2,
       "version_minor": 0
      },
      "text/plain": [
       "HBox(children=(FloatProgress(value=0.0, description='Training', layout=Layout(flex='2'), max=5000.0, style=Pro…"
      ]
     },
     "metadata": {},
     "output_type": "display_data"
    },
    {
     "name": "stdout",
     "output_type": "stream",
     "text": [
      "Epoch 44: train=2.35038, val=1.80847, took 205.92 s\n",
      "  Validation Found 93513 of 108024, added 8983 (eff 86.57%) (0.449 FP/event)\n"
     ]
    },
    {
     "data": {
      "application/vnd.jupyter.widget-view+json": {
       "model_id": "",
       "version_major": 2,
       "version_minor": 0
      },
      "text/plain": [
       "HBox(children=(FloatProgress(value=0.0, description='Training', layout=Layout(flex='2'), max=5000.0, style=Pro…"
      ]
     },
     "metadata": {},
     "output_type": "display_data"
    },
    {
     "name": "stdout",
     "output_type": "stream",
     "text": [
      "Epoch 45: train=2.34893, val=1.80967, took 205.55 s\n",
      "  Validation Found 93475 of 108024, added 8962 (eff 86.53%) (0.448 FP/event)\n"
     ]
    },
    {
     "data": {
      "application/vnd.jupyter.widget-view+json": {
       "model_id": "",
       "version_major": 2,
       "version_minor": 0
      },
      "text/plain": [
       "HBox(children=(FloatProgress(value=0.0, description='Training', layout=Layout(flex='2'), max=5000.0, style=Pro…"
      ]
     },
     "metadata": {},
     "output_type": "display_data"
    },
    {
     "name": "stdout",
     "output_type": "stream",
     "text": [
      "Epoch 46: train=2.3511, val=1.80981, took 205.52 s\n",
      "  Validation Found 93476 of 108024, added 8949 (eff 86.53%) (0.447 FP/event)\n"
     ]
    },
    {
     "data": {
      "application/vnd.jupyter.widget-view+json": {
       "model_id": "",
       "version_major": 2,
       "version_minor": 0
      },
      "text/plain": [
       "HBox(children=(FloatProgress(value=0.0, description='Training', layout=Layout(flex='2'), max=5000.0, style=Pro…"
      ]
     },
     "metadata": {},
     "output_type": "display_data"
    },
    {
     "name": "stdout",
     "output_type": "stream",
     "text": [
      "Epoch 47: train=2.34689, val=1.81383, took 205.85 s\n",
      "  Validation Found 93447 of 108024, added 9005 (eff 86.51%) (0.45 FP/event)\n"
     ]
    },
    {
     "data": {
      "application/vnd.jupyter.widget-view+json": {
       "model_id": "",
       "version_major": 2,
       "version_minor": 0
      },
      "text/plain": [
       "HBox(children=(FloatProgress(value=0.0, description='Training', layout=Layout(flex='2'), max=5000.0, style=Pro…"
      ]
     },
     "metadata": {},
     "output_type": "display_data"
    },
    {
     "name": "stdout",
     "output_type": "stream",
     "text": [
      "Epoch 48: train=2.34704, val=1.81106, took 206.05 s\n",
      "  Validation Found 93493 of 108024, added 8985 (eff 86.55%) (0.449 FP/event)\n"
     ]
    },
    {
     "data": {
      "application/vnd.jupyter.widget-view+json": {
       "model_id": "",
       "version_major": 2,
       "version_minor": 0
      },
      "text/plain": [
       "HBox(children=(FloatProgress(value=0.0, description='Training', layout=Layout(flex='2'), max=5000.0, style=Pro…"
      ]
     },
     "metadata": {},
     "output_type": "display_data"
    },
    {
     "name": "stdout",
     "output_type": "stream",
     "text": [
      "Epoch 49: train=2.34647, val=1.81183, took 205.56 s\n",
      "  Validation Found 93518 of 108024, added 8966 (eff 86.57%) (0.448 FP/event)\n"
     ]
    },
    {
     "data": {
      "application/vnd.jupyter.widget-view+json": {
       "model_id": "",
       "version_major": 2,
       "version_minor": 0
      },
      "text/plain": [
       "HBox(children=(FloatProgress(value=0.0, description='Training', layout=Layout(flex='2'), max=5000.0, style=Pro…"
      ]
     },
     "metadata": {},
     "output_type": "display_data"
    },
    {
     "name": "stdout",
     "output_type": "stream",
     "text": [
      "Epoch 50: train=2.34678, val=1.81136, took 205.62 s\n",
      "  Validation Found 93485 of 108024, added 8953 (eff 86.54%) (0.448 FP/event)\n"
     ]
    },
    {
     "data": {
      "application/vnd.jupyter.widget-view+json": {
       "model_id": "",
       "version_major": 2,
       "version_minor": 0
      },
      "text/plain": [
       "HBox(children=(FloatProgress(value=0.0, description='Training', layout=Layout(flex='2'), max=5000.0, style=Pro…"
      ]
     },
     "metadata": {},
     "output_type": "display_data"
    },
    {
     "name": "stdout",
     "output_type": "stream",
     "text": [
      "Epoch 51: train=2.34361, val=1.811, took 205.74 s\n",
      "  Validation Found 93500 of 108024, added 8990 (eff 86.55%) (0.449 FP/event)\n"
     ]
    },
    {
     "data": {
      "application/vnd.jupyter.widget-view+json": {
       "model_id": "",
       "version_major": 2,
       "version_minor": 0
      },
      "text/plain": [
       "HBox(children=(FloatProgress(value=0.0, description='Training', layout=Layout(flex='2'), max=5000.0, style=Pro…"
      ]
     },
     "metadata": {},
     "output_type": "display_data"
    },
    {
     "name": "stdout",
     "output_type": "stream",
     "text": [
      "Epoch 52: train=2.34624, val=1.81216, took 205.71 s\n",
      "  Validation Found 93500 of 108024, added 9025 (eff 86.55%) (0.451 FP/event)\n"
     ]
    },
    {
     "data": {
      "application/vnd.jupyter.widget-view+json": {
       "model_id": "",
       "version_major": 2,
       "version_minor": 0
      },
      "text/plain": [
       "HBox(children=(FloatProgress(value=0.0, description='Training', layout=Layout(flex='2'), max=5000.0, style=Pro…"
      ]
     },
     "metadata": {},
     "output_type": "display_data"
    },
    {
     "name": "stdout",
     "output_type": "stream",
     "text": [
      "Epoch 53: train=2.3423, val=1.81152, took 205.87 s\n",
      "  Validation Found 93475 of 108024, added 8994 (eff 86.53%) (0.45 FP/event)\n"
     ]
    },
    {
     "data": {
      "application/vnd.jupyter.widget-view+json": {
       "model_id": "",
       "version_major": 2,
       "version_minor": 0
      },
      "text/plain": [
       "HBox(children=(FloatProgress(value=0.0, description='Training', layout=Layout(flex='2'), max=5000.0, style=Pro…"
      ]
     },
     "metadata": {},
     "output_type": "display_data"
    },
    {
     "name": "stdout",
     "output_type": "stream",
     "text": [
      "Epoch 54: train=2.34207, val=1.81208, took 205.77 s\n",
      "  Validation Found 93499 of 108024, added 9008 (eff 86.55%) (0.45 FP/event)\n"
     ]
    },
    {
     "data": {
      "application/vnd.jupyter.widget-view+json": {
       "model_id": "",
       "version_major": 2,
       "version_minor": 0
      },
      "text/plain": [
       "HBox(children=(FloatProgress(value=0.0, description='Training', layout=Layout(flex='2'), max=5000.0, style=Pro…"
      ]
     },
     "metadata": {},
     "output_type": "display_data"
    },
    {
     "name": "stdout",
     "output_type": "stream",
     "text": [
      "Epoch 55: train=2.34113, val=1.81231, took 205.12 s\n",
      "  Validation Found 93481 of 108024, added 8993 (eff 86.54%) (0.45 FP/event)\n"
     ]
    },
    {
     "data": {
      "application/vnd.jupyter.widget-view+json": {
       "model_id": "",
       "version_major": 2,
       "version_minor": 0
      },
      "text/plain": [
       "HBox(children=(FloatProgress(value=0.0, description='Training', layout=Layout(flex='2'), max=5000.0, style=Pro…"
      ]
     },
     "metadata": {},
     "output_type": "display_data"
    },
    {
     "name": "stdout",
     "output_type": "stream",
     "text": [
      "Epoch 56: train=2.34041, val=1.81287, took 205.43 s\n",
      "  Validation Found 93501 of 108024, added 9012 (eff 86.56%) (0.451 FP/event)\n"
     ]
    },
    {
     "data": {
      "application/vnd.jupyter.widget-view+json": {
       "model_id": "",
       "version_major": 2,
       "version_minor": 0
      },
      "text/plain": [
       "HBox(children=(FloatProgress(value=0.0, description='Training', layout=Layout(flex='2'), max=5000.0, style=Pro…"
      ]
     },
     "metadata": {},
     "output_type": "display_data"
    },
    {
     "name": "stdout",
     "output_type": "stream",
     "text": [
      "Epoch 57: train=2.3416, val=1.81281, took 205.81 s\n",
      "  Validation Found 93517 of 108024, added 9040 (eff 86.57%) (0.452 FP/event)\n"
     ]
    },
    {
     "data": {
      "application/vnd.jupyter.widget-view+json": {
       "model_id": "",
       "version_major": 2,
       "version_minor": 0
      },
      "text/plain": [
       "HBox(children=(FloatProgress(value=0.0, description='Training', layout=Layout(flex='2'), max=5000.0, style=Pro…"
      ]
     },
     "metadata": {},
     "output_type": "display_data"
    },
    {
     "name": "stdout",
     "output_type": "stream",
     "text": [
      "Epoch 58: train=2.34054, val=1.81368, took 205.54 s\n",
      "  Validation Found 93497 of 108024, added 9049 (eff 86.55%) (0.452 FP/event)\n"
     ]
    },
    {
     "data": {
      "application/vnd.jupyter.widget-view+json": {
       "model_id": "",
       "version_major": 2,
       "version_minor": 0
      },
      "text/plain": [
       "HBox(children=(FloatProgress(value=0.0, description='Training', layout=Layout(flex='2'), max=5000.0, style=Pro…"
      ]
     },
     "metadata": {},
     "output_type": "display_data"
    },
    {
     "name": "stdout",
     "output_type": "stream",
     "text": [
      "Epoch 59: train=2.33809, val=1.8134, took 205.76 s\n",
      "  Validation Found 93519 of 108024, added 9031 (eff 86.57%) (0.452 FP/event)\n"
     ]
    },
    {
     "data": {
      "application/vnd.jupyter.widget-view+json": {
       "model_id": "",
       "version_major": 2,
       "version_minor": 0
      },
      "text/plain": [
       "HBox(children=(FloatProgress(value=0.0, description='Training', layout=Layout(flex='2'), max=5000.0, style=Pro…"
      ]
     },
     "metadata": {},
     "output_type": "display_data"
    },
    {
     "name": "stdout",
     "output_type": "stream",
     "text": [
      "Epoch 60: train=2.33903, val=1.81351, took 205.3 s\n",
      "  Validation Found 93520 of 108024, added 9053 (eff 86.57%) (0.453 FP/event)\n"
     ]
    },
    {
     "data": {
      "application/vnd.jupyter.widget-view+json": {
       "model_id": "",
       "version_major": 2,
       "version_minor": 0
      },
      "text/plain": [
       "HBox(children=(FloatProgress(value=0.0, description='Training', layout=Layout(flex='2'), max=5000.0, style=Pro…"
      ]
     },
     "metadata": {},
     "output_type": "display_data"
    },
    {
     "name": "stdout",
     "output_type": "stream",
     "text": [
      "Epoch 61: train=2.33628, val=1.81545, took 205.6 s\n",
      "  Validation Found 93494 of 108024, added 9022 (eff 86.55%) (0.451 FP/event)\n"
     ]
    },
    {
     "data": {
      "application/vnd.jupyter.widget-view+json": {
       "model_id": "",
       "version_major": 2,
       "version_minor": 0
      },
      "text/plain": [
       "HBox(children=(FloatProgress(value=0.0, description='Training', layout=Layout(flex='2'), max=5000.0, style=Pro…"
      ]
     },
     "metadata": {},
     "output_type": "display_data"
    },
    {
     "name": "stdout",
     "output_type": "stream",
     "text": [
      "Epoch 62: train=2.33887, val=1.81433, took 205.29 s\n",
      "  Validation Found 93519 of 108024, added 9045 (eff 86.57%) (0.452 FP/event)\n"
     ]
    },
    {
     "data": {
      "application/vnd.jupyter.widget-view+json": {
       "model_id": "",
       "version_major": 2,
       "version_minor": 0
      },
      "text/plain": [
       "HBox(children=(FloatProgress(value=0.0, description='Training', layout=Layout(flex='2'), max=5000.0, style=Pro…"
      ]
     },
     "metadata": {},
     "output_type": "display_data"
    },
    {
     "name": "stdout",
     "output_type": "stream",
     "text": [
      "Epoch 63: train=2.33731, val=1.81427, took 204.11 s\n",
      "  Validation Found 93503 of 108024, added 9061 (eff 86.56%) (0.453 FP/event)\n"
     ]
    },
    {
     "data": {
      "application/vnd.jupyter.widget-view+json": {
       "model_id": "",
       "version_major": 2,
       "version_minor": 0
      },
      "text/plain": [
       "HBox(children=(FloatProgress(value=0.0, description='Training', layout=Layout(flex='2'), max=5000.0, style=Pro…"
      ]
     },
     "metadata": {},
     "output_type": "display_data"
    },
    {
     "name": "stdout",
     "output_type": "stream",
     "text": [
      "Epoch 64: train=2.33809, val=1.81423, took 204.59 s\n",
      "  Validation Found 93473 of 108024, added 9031 (eff 86.53%) (0.452 FP/event)\n"
     ]
    },
    {
     "data": {
      "application/vnd.jupyter.widget-view+json": {
       "model_id": "",
       "version_major": 2,
       "version_minor": 0
      },
      "text/plain": [
       "HBox(children=(FloatProgress(value=0.0, description='Training', layout=Layout(flex='2'), max=5000.0, style=Pro…"
      ]
     },
     "metadata": {},
     "output_type": "display_data"
    },
    {
     "name": "stdout",
     "output_type": "stream",
     "text": [
      "Epoch 65: train=2.33918, val=1.81555, took 205.04 s\n",
      "  Validation Found 93486 of 108024, added 9022 (eff 86.54%) (0.451 FP/event)\n"
     ]
    },
    {
     "data": {
      "application/vnd.jupyter.widget-view+json": {
       "model_id": "",
       "version_major": 2,
       "version_minor": 0
      },
      "text/plain": [
       "HBox(children=(FloatProgress(value=0.0, description='Training', layout=Layout(flex='2'), max=5000.0, style=Pro…"
      ]
     },
     "metadata": {},
     "output_type": "display_data"
    },
    {
     "name": "stdout",
     "output_type": "stream",
     "text": [
      "Epoch 66: train=2.33415, val=1.81494, took 204.73 s\n",
      "  Validation Found 93471 of 108024, added 9002 (eff 86.53%) (0.45 FP/event)\n"
     ]
    },
    {
     "data": {
      "application/vnd.jupyter.widget-view+json": {
       "model_id": "",
       "version_major": 2,
       "version_minor": 0
      },
      "text/plain": [
       "HBox(children=(FloatProgress(value=0.0, description='Training', layout=Layout(flex='2'), max=5000.0, style=Pro…"
      ]
     },
     "metadata": {},
     "output_type": "display_data"
    },
    {
     "name": "stdout",
     "output_type": "stream",
     "text": [
      "Epoch 67: train=2.33718, val=1.81508, took 204.2 s\n",
      "  Validation Found 93478 of 108024, added 9004 (eff 86.53%) (0.45 FP/event)\n"
     ]
    },
    {
     "data": {
      "application/vnd.jupyter.widget-view+json": {
       "model_id": "",
       "version_major": 2,
       "version_minor": 0
      },
      "text/plain": [
       "HBox(children=(FloatProgress(value=0.0, description='Training', layout=Layout(flex='2'), max=5000.0, style=Pro…"
      ]
     },
     "metadata": {},
     "output_type": "display_data"
    },
    {
     "name": "stdout",
     "output_type": "stream",
     "text": [
      "Epoch 68: train=2.3335, val=1.81491, took 205.0 s\n",
      "  Validation Found 93492 of 108024, added 9012 (eff 86.55%) (0.451 FP/event)\n"
     ]
    },
    {
     "data": {
      "application/vnd.jupyter.widget-view+json": {
       "model_id": "",
       "version_major": 2,
       "version_minor": 0
      },
      "text/plain": [
       "HBox(children=(FloatProgress(value=0.0, description='Training', layout=Layout(flex='2'), max=5000.0, style=Pro…"
      ]
     },
     "metadata": {},
     "output_type": "display_data"
    },
    {
     "name": "stdout",
     "output_type": "stream",
     "text": [
      "Epoch 69: train=2.33353, val=1.81586, took 205.04 s\n",
      "  Validation Found 93504 of 108024, added 9036 (eff 86.56%) (0.452 FP/event)\n"
     ]
    },
    {
     "data": {
      "application/vnd.jupyter.widget-view+json": {
       "model_id": "",
       "version_major": 2,
       "version_minor": 0
      },
      "text/plain": [
       "HBox(children=(FloatProgress(value=0.0, description='Training', layout=Layout(flex='2'), max=5000.0, style=Pro…"
      ]
     },
     "metadata": {},
     "output_type": "display_data"
    },
    {
     "name": "stdout",
     "output_type": "stream",
     "text": [
      "Epoch 70: train=2.3337, val=1.81569, took 204.83 s\n",
      "  Validation Found 93485 of 108024, added 9046 (eff 86.54%) (0.452 FP/event)\n"
     ]
    },
    {
     "data": {
      "application/vnd.jupyter.widget-view+json": {
       "model_id": "",
       "version_major": 2,
       "version_minor": 0
      },
      "text/plain": [
       "HBox(children=(FloatProgress(value=0.0, description='Training', layout=Layout(flex='2'), max=5000.0, style=Pro…"
      ]
     },
     "metadata": {},
     "output_type": "display_data"
    },
    {
     "name": "stdout",
     "output_type": "stream",
     "text": [
      "Epoch 71: train=2.33439, val=1.81721, took 204.85 s\n",
      "  Validation Found 93505 of 108024, added 9076 (eff 86.56%) (0.454 FP/event)\n"
     ]
    },
    {
     "data": {
      "application/vnd.jupyter.widget-view+json": {
       "model_id": "",
       "version_major": 2,
       "version_minor": 0
      },
      "text/plain": [
       "HBox(children=(FloatProgress(value=0.0, description='Training', layout=Layout(flex='2'), max=5000.0, style=Pro…"
      ]
     },
     "metadata": {},
     "output_type": "display_data"
    },
    {
     "name": "stdout",
     "output_type": "stream",
     "text": [
      "Epoch 72: train=2.33283, val=1.81614, took 205.21 s\n",
      "  Validation Found 93520 of 108024, added 9057 (eff 86.57%) (0.453 FP/event)\n"
     ]
    },
    {
     "data": {
      "application/vnd.jupyter.widget-view+json": {
       "model_id": "",
       "version_major": 2,
       "version_minor": 0
      },
      "text/plain": [
       "HBox(children=(FloatProgress(value=0.0, description='Training', layout=Layout(flex='2'), max=5000.0, style=Pro…"
      ]
     },
     "metadata": {},
     "output_type": "display_data"
    },
    {
     "name": "stdout",
     "output_type": "stream",
     "text": [
      "Epoch 73: train=2.33322, val=1.81768, took 204.7 s\n",
      "  Validation Found 93505 of 108024, added 9033 (eff 86.56%) (0.452 FP/event)\n"
     ]
    },
    {
     "data": {
      "application/vnd.jupyter.widget-view+json": {
       "model_id": "",
       "version_major": 2,
       "version_minor": 0
      },
      "text/plain": [
       "HBox(children=(FloatProgress(value=0.0, description='Training', layout=Layout(flex='2'), max=5000.0, style=Pro…"
      ]
     },
     "metadata": {},
     "output_type": "display_data"
    },
    {
     "name": "stdout",
     "output_type": "stream",
     "text": [
      "Epoch 74: train=2.33345, val=1.81667, took 204.91 s\n",
      "  Validation Found 93512 of 108024, added 9074 (eff 86.57%) (0.454 FP/event)\n"
     ]
    },
    {
     "data": {
      "application/vnd.jupyter.widget-view+json": {
       "model_id": "",
       "version_major": 2,
       "version_minor": 0
      },
      "text/plain": [
       "HBox(children=(FloatProgress(value=0.0, description='Training', layout=Layout(flex='2'), max=5000.0, style=Pro…"
      ]
     },
     "metadata": {},
     "output_type": "display_data"
    },
    {
     "name": "stdout",
     "output_type": "stream",
     "text": [
      "Epoch 75: train=2.33217, val=1.81714, took 205.39 s\n",
      "  Validation Found 93487 of 108024, added 9081 (eff 86.54%) (0.454 FP/event)\n"
     ]
    },
    {
     "data": {
      "application/vnd.jupyter.widget-view+json": {
       "model_id": "",
       "version_major": 2,
       "version_minor": 0
      },
      "text/plain": [
       "HBox(children=(FloatProgress(value=0.0, description='Training', layout=Layout(flex='2'), max=5000.0, style=Pro…"
      ]
     },
     "metadata": {},
     "output_type": "display_data"
    },
    {
     "name": "stdout",
     "output_type": "stream",
     "text": [
      "Epoch 76: train=2.33087, val=1.81689, took 204.93 s\n",
      "  Validation Found 93473 of 108024, added 9037 (eff 86.53%) (0.452 FP/event)\n"
     ]
    },
    {
     "data": {
      "application/vnd.jupyter.widget-view+json": {
       "model_id": "",
       "version_major": 2,
       "version_minor": 0
      },
      "text/plain": [
       "HBox(children=(FloatProgress(value=0.0, description='Training', layout=Layout(flex='2'), max=5000.0, style=Pro…"
      ]
     },
     "metadata": {},
     "output_type": "display_data"
    },
    {
     "name": "stdout",
     "output_type": "stream",
     "text": [
      "Epoch 77: train=2.33179, val=1.8172, took 204.81 s\n",
      "  Validation Found 93522 of 108024, added 9075 (eff 86.58%) (0.454 FP/event)\n"
     ]
    },
    {
     "data": {
      "application/vnd.jupyter.widget-view+json": {
       "model_id": "",
       "version_major": 2,
       "version_minor": 0
      },
      "text/plain": [
       "HBox(children=(FloatProgress(value=0.0, description='Training', layout=Layout(flex='2'), max=5000.0, style=Pro…"
      ]
     },
     "metadata": {},
     "output_type": "display_data"
    },
    {
     "name": "stdout",
     "output_type": "stream",
     "text": [
      "Epoch 78: train=2.32907, val=1.81814, took 205.01 s\n",
      "  Validation Found 93506 of 108024, added 9102 (eff 86.56%) (0.455 FP/event)\n"
     ]
    },
    {
     "data": {
      "application/vnd.jupyter.widget-view+json": {
       "model_id": "",
       "version_major": 2,
       "version_minor": 0
      },
      "text/plain": [
       "HBox(children=(FloatProgress(value=0.0, description='Training', layout=Layout(flex='2'), max=5000.0, style=Pro…"
      ]
     },
     "metadata": {},
     "output_type": "display_data"
    },
    {
     "name": "stdout",
     "output_type": "stream",
     "text": [
      "Epoch 79: train=2.32796, val=1.81791, took 204.88 s\n",
      "  Validation Found 93455 of 108024, added 9043 (eff 86.51%) (0.452 FP/event)\n"
     ]
    },
    {
     "data": {
      "application/vnd.jupyter.widget-view+json": {
       "model_id": "",
       "version_major": 2,
       "version_minor": 0
      },
      "text/plain": [
       "HBox(children=(FloatProgress(value=0.0, description='Training', layout=Layout(flex='2'), max=5000.0, style=Pro…"
      ]
     },
     "metadata": {},
     "output_type": "display_data"
    },
    {
     "name": "stdout",
     "output_type": "stream",
     "text": [
      "Epoch 80: train=2.32888, val=1.81774, took 204.72 s\n",
      "  Validation Found 93449 of 108024, added 9062 (eff 86.51%) (0.453 FP/event)\n"
     ]
    },
    {
     "data": {
      "application/vnd.jupyter.widget-view+json": {
       "model_id": "",
       "version_major": 2,
       "version_minor": 0
      },
      "text/plain": [
       "HBox(children=(FloatProgress(value=0.0, description='Training', layout=Layout(flex='2'), max=5000.0, style=Pro…"
      ]
     },
     "metadata": {},
     "output_type": "display_data"
    },
    {
     "name": "stdout",
     "output_type": "stream",
     "text": [
      "Epoch 81: train=2.32881, val=1.81896, took 204.73 s\n",
      "  Validation Found 93496 of 108024, added 9068 (eff 86.55%) (0.453 FP/event)\n"
     ]
    },
    {
     "data": {
      "application/vnd.jupyter.widget-view+json": {
       "model_id": "",
       "version_major": 2,
       "version_minor": 0
      },
      "text/plain": [
       "HBox(children=(FloatProgress(value=0.0, description='Training', layout=Layout(flex='2'), max=5000.0, style=Pro…"
      ]
     },
     "metadata": {},
     "output_type": "display_data"
    },
    {
     "name": "stdout",
     "output_type": "stream",
     "text": [
      "Epoch 82: train=2.32718, val=1.81729, took 205.02 s\n",
      "  Validation Found 93475 of 108024, added 9055 (eff 86.53%) (0.453 FP/event)\n"
     ]
    },
    {
     "data": {
      "application/vnd.jupyter.widget-view+json": {
       "model_id": "",
       "version_major": 2,
       "version_minor": 0
      },
      "text/plain": [
       "HBox(children=(FloatProgress(value=0.0, description='Training', layout=Layout(flex='2'), max=5000.0, style=Pro…"
      ]
     },
     "metadata": {},
     "output_type": "display_data"
    },
    {
     "name": "stdout",
     "output_type": "stream",
     "text": [
      "Epoch 83: train=2.32713, val=1.81959, took 204.95 s\n",
      "  Validation Found 93471 of 108024, added 9100 (eff 86.53%) (0.455 FP/event)\n"
     ]
    },
    {
     "data": {
      "application/vnd.jupyter.widget-view+json": {
       "model_id": "",
       "version_major": 2,
       "version_minor": 0
      },
      "text/plain": [
       "HBox(children=(FloatProgress(value=0.0, description='Training', layout=Layout(flex='2'), max=5000.0, style=Pro…"
      ]
     },
     "metadata": {},
     "output_type": "display_data"
    },
    {
     "name": "stdout",
     "output_type": "stream",
     "text": [
      "Epoch 84: train=2.32953, val=1.81804, took 204.72 s\n",
      "  Validation Found 93463 of 108024, added 9099 (eff 86.52%) (0.455 FP/event)\n"
     ]
    },
    {
     "data": {
      "application/vnd.jupyter.widget-view+json": {
       "model_id": "",
       "version_major": 2,
       "version_minor": 0
      },
      "text/plain": [
       "HBox(children=(FloatProgress(value=0.0, description='Training', layout=Layout(flex='2'), max=5000.0, style=Pro…"
      ]
     },
     "metadata": {},
     "output_type": "display_data"
    },
    {
     "name": "stdout",
     "output_type": "stream",
     "text": [
      "Epoch 85: train=2.32739, val=1.81838, took 204.81 s\n",
      "  Validation Found 93484 of 108024, added 9061 (eff 86.54%) (0.453 FP/event)\n"
     ]
    },
    {
     "data": {
      "application/vnd.jupyter.widget-view+json": {
       "model_id": "",
       "version_major": 2,
       "version_minor": 0
      },
      "text/plain": [
       "HBox(children=(FloatProgress(value=0.0, description='Training', layout=Layout(flex='2'), max=5000.0, style=Pro…"
      ]
     },
     "metadata": {},
     "output_type": "display_data"
    },
    {
     "name": "stdout",
     "output_type": "stream",
     "text": [
      "Epoch 86: train=2.32716, val=1.81857, took 205.21 s\n",
      "  Validation Found 93477 of 108024, added 9086 (eff 86.53%) (0.454 FP/event)\n"
     ]
    },
    {
     "data": {
      "application/vnd.jupyter.widget-view+json": {
       "model_id": "",
       "version_major": 2,
       "version_minor": 0
      },
      "text/plain": [
       "HBox(children=(FloatProgress(value=0.0, description='Training', layout=Layout(flex='2'), max=5000.0, style=Pro…"
      ]
     },
     "metadata": {},
     "output_type": "display_data"
    },
    {
     "name": "stdout",
     "output_type": "stream",
     "text": [
      "Epoch 87: train=2.32179, val=1.8188, took 204.59 s\n",
      "  Validation Found 93465 of 108024, added 9096 (eff 86.52%) (0.455 FP/event)\n"
     ]
    },
    {
     "data": {
      "application/vnd.jupyter.widget-view+json": {
       "model_id": "",
       "version_major": 2,
       "version_minor": 0
      },
      "text/plain": [
       "HBox(children=(FloatProgress(value=0.0, description='Training', layout=Layout(flex='2'), max=5000.0, style=Pro…"
      ]
     },
     "metadata": {},
     "output_type": "display_data"
    },
    {
     "name": "stdout",
     "output_type": "stream",
     "text": [
      "Epoch 88: train=2.32525, val=1.81825, took 204.72 s\n",
      "  Validation Found 93459 of 108024, added 9103 (eff 86.52%) (0.455 FP/event)\n"
     ]
    },
    {
     "data": {
      "application/vnd.jupyter.widget-view+json": {
       "model_id": "",
       "version_major": 2,
       "version_minor": 0
      },
      "text/plain": [
       "HBox(children=(FloatProgress(value=0.0, description='Training', layout=Layout(flex='2'), max=5000.0, style=Pro…"
      ]
     },
     "metadata": {},
     "output_type": "display_data"
    },
    {
     "name": "stdout",
     "output_type": "stream",
     "text": [
      "Epoch 89: train=2.32647, val=1.81877, took 204.93 s\n",
      "  Validation Found 93464 of 108024, added 9076 (eff 86.52%) (0.454 FP/event)\n"
     ]
    },
    {
     "data": {
      "application/vnd.jupyter.widget-view+json": {
       "model_id": "",
       "version_major": 2,
       "version_minor": 0
      },
      "text/plain": [
       "HBox(children=(FloatProgress(value=0.0, description='Training', layout=Layout(flex='2'), max=5000.0, style=Pro…"
      ]
     },
     "metadata": {},
     "output_type": "display_data"
    },
    {
     "name": "stdout",
     "output_type": "stream",
     "text": [
      "Epoch 90: train=2.32412, val=1.8186, took 204.98 s\n",
      "  Validation Found 93468 of 108024, added 9081 (eff 86.53%) (0.454 FP/event)\n"
     ]
    },
    {
     "data": {
      "application/vnd.jupyter.widget-view+json": {
       "model_id": "",
       "version_major": 2,
       "version_minor": 0
      },
      "text/plain": [
       "HBox(children=(FloatProgress(value=0.0, description='Training', layout=Layout(flex='2'), max=5000.0, style=Pro…"
      ]
     },
     "metadata": {},
     "output_type": "display_data"
    },
    {
     "name": "stdout",
     "output_type": "stream",
     "text": [
      "Epoch 91: train=2.32311, val=1.81979, took 204.86 s\n",
      "  Validation Found 93454 of 108024, added 9102 (eff 86.51%) (0.455 FP/event)\n"
     ]
    },
    {
     "data": {
      "application/vnd.jupyter.widget-view+json": {
       "model_id": "",
       "version_major": 2,
       "version_minor": 0
      },
      "text/plain": [
       "HBox(children=(FloatProgress(value=0.0, description='Training', layout=Layout(flex='2'), max=5000.0, style=Pro…"
      ]
     },
     "metadata": {},
     "output_type": "display_data"
    },
    {
     "name": "stdout",
     "output_type": "stream",
     "text": [
      "Epoch 92: train=2.3238, val=1.81933, took 204.92 s\n",
      "  Validation Found 93488 of 108024, added 9096 (eff 86.54%) (0.455 FP/event)\n"
     ]
    },
    {
     "data": {
      "application/vnd.jupyter.widget-view+json": {
       "model_id": "",
       "version_major": 2,
       "version_minor": 0
      },
      "text/plain": [
       "HBox(children=(FloatProgress(value=0.0, description='Training', layout=Layout(flex='2'), max=5000.0, style=Pro…"
      ]
     },
     "metadata": {},
     "output_type": "display_data"
    },
    {
     "name": "stdout",
     "output_type": "stream",
     "text": [
      "Epoch 93: train=2.32405, val=1.81867, took 204.46 s\n",
      "  Validation Found 93493 of 108024, added 9118 (eff 86.55%) (0.456 FP/event)\n"
     ]
    },
    {
     "data": {
      "application/vnd.jupyter.widget-view+json": {
       "model_id": "",
       "version_major": 2,
       "version_minor": 0
      },
      "text/plain": [
       "HBox(children=(FloatProgress(value=0.0, description='Training', layout=Layout(flex='2'), max=5000.0, style=Pro…"
      ]
     },
     "metadata": {},
     "output_type": "display_data"
    },
    {
     "name": "stdout",
     "output_type": "stream",
     "text": [
      "Epoch 94: train=2.32363, val=1.81944, took 204.79 s\n",
      "  Validation Found 93476 of 108024, added 9106 (eff 86.53%) (0.455 FP/event)\n"
     ]
    },
    {
     "data": {
      "application/vnd.jupyter.widget-view+json": {
       "model_id": "",
       "version_major": 2,
       "version_minor": 0
      },
      "text/plain": [
       "HBox(children=(FloatProgress(value=0.0, description='Training', layout=Layout(flex='2'), max=5000.0, style=Pro…"
      ]
     },
     "metadata": {},
     "output_type": "display_data"
    },
    {
     "name": "stdout",
     "output_type": "stream",
     "text": [
      "Epoch 95: train=2.3224, val=1.81911, took 204.75 s\n",
      "  Validation Found 93456 of 108024, added 9089 (eff 86.51%) (0.454 FP/event)\n"
     ]
    },
    {
     "data": {
      "application/vnd.jupyter.widget-view+json": {
       "model_id": "",
       "version_major": 2,
       "version_minor": 0
      },
      "text/plain": [
       "HBox(children=(FloatProgress(value=0.0, description='Training', layout=Layout(flex='2'), max=5000.0, style=Pro…"
      ]
     },
     "metadata": {},
     "output_type": "display_data"
    },
    {
     "name": "stdout",
     "output_type": "stream",
     "text": [
      "Epoch 96: train=2.32381, val=1.81947, took 204.66 s\n",
      "  Validation Found 93447 of 108024, added 9091 (eff 86.51%) (0.455 FP/event)\n"
     ]
    },
    {
     "data": {
      "application/vnd.jupyter.widget-view+json": {
       "model_id": "",
       "version_major": 2,
       "version_minor": 0
      },
      "text/plain": [
       "HBox(children=(FloatProgress(value=0.0, description='Training', layout=Layout(flex='2'), max=5000.0, style=Pro…"
      ]
     },
     "metadata": {},
     "output_type": "display_data"
    },
    {
     "name": "stdout",
     "output_type": "stream",
     "text": [
      "Epoch 97: train=2.32198, val=1.82074, took 204.39 s\n",
      "  Validation Found 93460 of 108024, added 9117 (eff 86.52%) (0.456 FP/event)\n"
     ]
    },
    {
     "data": {
      "application/vnd.jupyter.widget-view+json": {
       "model_id": "",
       "version_major": 2,
       "version_minor": 0
      },
      "text/plain": [
       "HBox(children=(FloatProgress(value=0.0, description='Training', layout=Layout(flex='2'), max=5000.0, style=Pro…"
      ]
     },
     "metadata": {},
     "output_type": "display_data"
    },
    {
     "name": "stdout",
     "output_type": "stream",
     "text": [
      "Epoch 98: train=2.31928, val=1.82064, took 205.04 s\n",
      "  Validation Found 93485 of 108024, added 9137 (eff 86.54%) (0.457 FP/event)\n"
     ]
    },
    {
     "data": {
      "application/vnd.jupyter.widget-view+json": {
       "model_id": "",
       "version_major": 2,
       "version_minor": 0
      },
      "text/plain": [
       "HBox(children=(FloatProgress(value=0.0, description='Training', layout=Layout(flex='2'), max=5000.0, style=Pro…"
      ]
     },
     "metadata": {},
     "output_type": "display_data"
    },
    {
     "name": "stdout",
     "output_type": "stream",
     "text": [
      "Epoch 99: train=2.32055, val=1.8196, took 204.44 s\n",
      "  Validation Found 93457 of 108024, added 9103 (eff 86.52%) (0.455 FP/event)\n",
      "\n"
     ]
    }
   ],
   "source": [
    "for result in trainNet(model, optimizer, loss,\n",
    "                        train_loader, val_loader,\n",
    "                        n_epochs, epoch_start=len(results),\n",
    "                        notebook=True):\n",
    "    \n",
    "    results = results.append(pd.Series(result._asdict()), ignore_index=True)\n",
    "    \n",
    "    xs = results.index\n",
    "##    print(\"xs = \",xs)\n",
    "    \n",
    "    # Update the plot above\n",
    "##    print(\"results.index = \",results.index,\"  results.cost\", results.cost)\n",
    "##    print(\"results.index = \",results.index,\"  results.val\", results.val)\n",
    "    lines['train'].set_data(results.index,results.cost)\n",
    "    lines['val'].set_data(results.index,results.val)\n",
    "    \n",
    "    #filter first cost epoch (can be really large)\n",
    "    max_cost = max(max(results.cost if len(results.cost)<2 else results.cost[1:]), max(results.val))\n",
    "    min_cost = min(min(results.cost), min(results.val))\n",
    "    \n",
    "    # The plot limits need updating too\n",
    "    \n",
    "    \n",
    "    \n",
    "    ax.set_ylim(min_cost*.9, max_cost*1.1)  \n",
    "    ax.set_xlim(-.5, len(results.cost) - .5)\n",
    "    \n",
    "    replace_in_ax(lax, lines['eff'], xs, results['eff_val'].apply(lambda x: x.eff_rate))\n",
    "    replace_in_ax(tax, lines['fp'], xs, results['eff_val'].apply(lambda x: x.fp_rate))\n",
    "    \n",
    "    # Redraw the figure\n",
    "    fig.canvas.draw()\n",
    "\n",
    "    # Save each model state dictionary\n",
    "    torch.save(model.state_dict(), output / f'{name}_{result.epoch}.pyt')"
   ]
  },
  {
   "cell_type": "code",
   "execution_count": 16,
   "metadata": {},
   "outputs": [],
   "source": [
    "torch.save(model.state_dict(), output / f'{name}_final.pyt')"
   ]
  },
  {
   "cell_type": "code",
   "execution_count": 17,
   "metadata": {},
   "outputs": [
    {
     "name": "stderr",
     "output_type": "stream",
     "text": [
      "/apps/miniconda3/envs/june2020-gpu/lib/python3.7/site-packages/pandas/core/generic.py:2505: PerformanceWarning: \n",
      "your performance may suffer as PyTables will pickle object types that it cannot\n",
      "map directly to c-types [inferred_type->mixed-integer,key->block1_values] [items->Index(['epoch', 'eff_val'], dtype='object')]\n",
      "\n",
      "  encoding=encoding,\n"
     ]
    }
   ],
   "source": [
    "results.to_hdf(f'{name}_stats.hdf5', 'results')"
   ]
  },
  {
   "cell_type": "code",
   "execution_count": 20,
   "metadata": {},
   "outputs": [
    {
     "data": {
      "application/javascript": [
       "/* Put everything inside the global mpl namespace */\n",
       "window.mpl = {};\n",
       "\n",
       "\n",
       "mpl.get_websocket_type = function() {\n",
       "    if (typeof(WebSocket) !== 'undefined') {\n",
       "        return WebSocket;\n",
       "    } else if (typeof(MozWebSocket) !== 'undefined') {\n",
       "        return MozWebSocket;\n",
       "    } else {\n",
       "        alert('Your browser does not have WebSocket support. ' +\n",
       "              'Please try Chrome, Safari or Firefox ≥ 6. ' +\n",
       "              'Firefox 4 and 5 are also supported but you ' +\n",
       "              'have to enable WebSockets in about:config.');\n",
       "    };\n",
       "}\n",
       "\n",
       "mpl.figure = function(figure_id, websocket, ondownload, parent_element) {\n",
       "    this.id = figure_id;\n",
       "\n",
       "    this.ws = websocket;\n",
       "\n",
       "    this.supports_binary = (this.ws.binaryType != undefined);\n",
       "\n",
       "    if (!this.supports_binary) {\n",
       "        var warnings = document.getElementById(\"mpl-warnings\");\n",
       "        if (warnings) {\n",
       "            warnings.style.display = 'block';\n",
       "            warnings.textContent = (\n",
       "                \"This browser does not support binary websocket messages. \" +\n",
       "                    \"Performance may be slow.\");\n",
       "        }\n",
       "    }\n",
       "\n",
       "    this.imageObj = new Image();\n",
       "\n",
       "    this.context = undefined;\n",
       "    this.message = undefined;\n",
       "    this.canvas = undefined;\n",
       "    this.rubberband_canvas = undefined;\n",
       "    this.rubberband_context = undefined;\n",
       "    this.format_dropdown = undefined;\n",
       "\n",
       "    this.image_mode = 'full';\n",
       "\n",
       "    this.root = $('<div/>');\n",
       "    this._root_extra_style(this.root)\n",
       "    this.root.attr('style', 'display: inline-block');\n",
       "\n",
       "    $(parent_element).append(this.root);\n",
       "\n",
       "    this._init_header(this);\n",
       "    this._init_canvas(this);\n",
       "    this._init_toolbar(this);\n",
       "\n",
       "    var fig = this;\n",
       "\n",
       "    this.waiting = false;\n",
       "\n",
       "    this.ws.onopen =  function () {\n",
       "            fig.send_message(\"supports_binary\", {value: fig.supports_binary});\n",
       "            fig.send_message(\"send_image_mode\", {});\n",
       "            if (mpl.ratio != 1) {\n",
       "                fig.send_message(\"set_dpi_ratio\", {'dpi_ratio': mpl.ratio});\n",
       "            }\n",
       "            fig.send_message(\"refresh\", {});\n",
       "        }\n",
       "\n",
       "    this.imageObj.onload = function() {\n",
       "            if (fig.image_mode == 'full') {\n",
       "                // Full images could contain transparency (where diff images\n",
       "                // almost always do), so we need to clear the canvas so that\n",
       "                // there is no ghosting.\n",
       "                fig.context.clearRect(0, 0, fig.canvas.width, fig.canvas.height);\n",
       "            }\n",
       "            fig.context.drawImage(fig.imageObj, 0, 0);\n",
       "        };\n",
       "\n",
       "    this.imageObj.onunload = function() {\n",
       "        fig.ws.close();\n",
       "    }\n",
       "\n",
       "    this.ws.onmessage = this._make_on_message_function(this);\n",
       "\n",
       "    this.ondownload = ondownload;\n",
       "}\n",
       "\n",
       "mpl.figure.prototype._init_header = function() {\n",
       "    var titlebar = $(\n",
       "        '<div class=\"ui-dialog-titlebar ui-widget-header ui-corner-all ' +\n",
       "        'ui-helper-clearfix\"/>');\n",
       "    var titletext = $(\n",
       "        '<div class=\"ui-dialog-title\" style=\"width: 100%; ' +\n",
       "        'text-align: center; padding: 3px;\"/>');\n",
       "    titlebar.append(titletext)\n",
       "    this.root.append(titlebar);\n",
       "    this.header = titletext[0];\n",
       "}\n",
       "\n",
       "\n",
       "\n",
       "mpl.figure.prototype._canvas_extra_style = function(canvas_div) {\n",
       "\n",
       "}\n",
       "\n",
       "\n",
       "mpl.figure.prototype._root_extra_style = function(canvas_div) {\n",
       "\n",
       "}\n",
       "\n",
       "mpl.figure.prototype._init_canvas = function() {\n",
       "    var fig = this;\n",
       "\n",
       "    var canvas_div = $('<div/>');\n",
       "\n",
       "    canvas_div.attr('style', 'position: relative; clear: both; outline: 0');\n",
       "\n",
       "    function canvas_keyboard_event(event) {\n",
       "        return fig.key_event(event, event['data']);\n",
       "    }\n",
       "\n",
       "    canvas_div.keydown('key_press', canvas_keyboard_event);\n",
       "    canvas_div.keyup('key_release', canvas_keyboard_event);\n",
       "    this.canvas_div = canvas_div\n",
       "    this._canvas_extra_style(canvas_div)\n",
       "    this.root.append(canvas_div);\n",
       "\n",
       "    var canvas = $('<canvas/>');\n",
       "    canvas.addClass('mpl-canvas');\n",
       "    canvas.attr('style', \"left: 0; top: 0; z-index: 0; outline: 0\")\n",
       "\n",
       "    this.canvas = canvas[0];\n",
       "    this.context = canvas[0].getContext(\"2d\");\n",
       "\n",
       "    var backingStore = this.context.backingStorePixelRatio ||\n",
       "\tthis.context.webkitBackingStorePixelRatio ||\n",
       "\tthis.context.mozBackingStorePixelRatio ||\n",
       "\tthis.context.msBackingStorePixelRatio ||\n",
       "\tthis.context.oBackingStorePixelRatio ||\n",
       "\tthis.context.backingStorePixelRatio || 1;\n",
       "\n",
       "    mpl.ratio = (window.devicePixelRatio || 1) / backingStore;\n",
       "\n",
       "    var rubberband = $('<canvas/>');\n",
       "    rubberband.attr('style', \"position: absolute; left: 0; top: 0; z-index: 1;\")\n",
       "\n",
       "    var pass_mouse_events = true;\n",
       "\n",
       "    canvas_div.resizable({\n",
       "        start: function(event, ui) {\n",
       "            pass_mouse_events = false;\n",
       "        },\n",
       "        resize: function(event, ui) {\n",
       "            fig.request_resize(ui.size.width, ui.size.height);\n",
       "        },\n",
       "        stop: function(event, ui) {\n",
       "            pass_mouse_events = true;\n",
       "            fig.request_resize(ui.size.width, ui.size.height);\n",
       "        },\n",
       "    });\n",
       "\n",
       "    function mouse_event_fn(event) {\n",
       "        if (pass_mouse_events)\n",
       "            return fig.mouse_event(event, event['data']);\n",
       "    }\n",
       "\n",
       "    rubberband.mousedown('button_press', mouse_event_fn);\n",
       "    rubberband.mouseup('button_release', mouse_event_fn);\n",
       "    // Throttle sequential mouse events to 1 every 20ms.\n",
       "    rubberband.mousemove('motion_notify', mouse_event_fn);\n",
       "\n",
       "    rubberband.mouseenter('figure_enter', mouse_event_fn);\n",
       "    rubberband.mouseleave('figure_leave', mouse_event_fn);\n",
       "\n",
       "    canvas_div.on(\"wheel\", function (event) {\n",
       "        event = event.originalEvent;\n",
       "        event['data'] = 'scroll'\n",
       "        if (event.deltaY < 0) {\n",
       "            event.step = 1;\n",
       "        } else {\n",
       "            event.step = -1;\n",
       "        }\n",
       "        mouse_event_fn(event);\n",
       "    });\n",
       "\n",
       "    canvas_div.append(canvas);\n",
       "    canvas_div.append(rubberband);\n",
       "\n",
       "    this.rubberband = rubberband;\n",
       "    this.rubberband_canvas = rubberband[0];\n",
       "    this.rubberband_context = rubberband[0].getContext(\"2d\");\n",
       "    this.rubberband_context.strokeStyle = \"#000000\";\n",
       "\n",
       "    this._resize_canvas = function(width, height) {\n",
       "        // Keep the size of the canvas, canvas container, and rubber band\n",
       "        // canvas in synch.\n",
       "        canvas_div.css('width', width)\n",
       "        canvas_div.css('height', height)\n",
       "\n",
       "        canvas.attr('width', width * mpl.ratio);\n",
       "        canvas.attr('height', height * mpl.ratio);\n",
       "        canvas.attr('style', 'width: ' + width + 'px; height: ' + height + 'px;');\n",
       "\n",
       "        rubberband.attr('width', width);\n",
       "        rubberband.attr('height', height);\n",
       "    }\n",
       "\n",
       "    // Set the figure to an initial 600x600px, this will subsequently be updated\n",
       "    // upon first draw.\n",
       "    this._resize_canvas(600, 600);\n",
       "\n",
       "    // Disable right mouse context menu.\n",
       "    $(this.rubberband_canvas).bind(\"contextmenu\",function(e){\n",
       "        return false;\n",
       "    });\n",
       "\n",
       "    function set_focus () {\n",
       "        canvas.focus();\n",
       "        canvas_div.focus();\n",
       "    }\n",
       "\n",
       "    window.setTimeout(set_focus, 100);\n",
       "}\n",
       "\n",
       "mpl.figure.prototype._init_toolbar = function() {\n",
       "    var fig = this;\n",
       "\n",
       "    var nav_element = $('<div/>');\n",
       "    nav_element.attr('style', 'width: 100%');\n",
       "    this.root.append(nav_element);\n",
       "\n",
       "    // Define a callback function for later on.\n",
       "    function toolbar_event(event) {\n",
       "        return fig.toolbar_button_onclick(event['data']);\n",
       "    }\n",
       "    function toolbar_mouse_event(event) {\n",
       "        return fig.toolbar_button_onmouseover(event['data']);\n",
       "    }\n",
       "\n",
       "    for(var toolbar_ind in mpl.toolbar_items) {\n",
       "        var name = mpl.toolbar_items[toolbar_ind][0];\n",
       "        var tooltip = mpl.toolbar_items[toolbar_ind][1];\n",
       "        var image = mpl.toolbar_items[toolbar_ind][2];\n",
       "        var method_name = mpl.toolbar_items[toolbar_ind][3];\n",
       "\n",
       "        if (!name) {\n",
       "            // put a spacer in here.\n",
       "            continue;\n",
       "        }\n",
       "        var button = $('<button/>');\n",
       "        button.addClass('ui-button ui-widget ui-state-default ui-corner-all ' +\n",
       "                        'ui-button-icon-only');\n",
       "        button.attr('role', 'button');\n",
       "        button.attr('aria-disabled', 'false');\n",
       "        button.click(method_name, toolbar_event);\n",
       "        button.mouseover(tooltip, toolbar_mouse_event);\n",
       "\n",
       "        var icon_img = $('<span/>');\n",
       "        icon_img.addClass('ui-button-icon-primary ui-icon');\n",
       "        icon_img.addClass(image);\n",
       "        icon_img.addClass('ui-corner-all');\n",
       "\n",
       "        var tooltip_span = $('<span/>');\n",
       "        tooltip_span.addClass('ui-button-text');\n",
       "        tooltip_span.html(tooltip);\n",
       "\n",
       "        button.append(icon_img);\n",
       "        button.append(tooltip_span);\n",
       "\n",
       "        nav_element.append(button);\n",
       "    }\n",
       "\n",
       "    var fmt_picker_span = $('<span/>');\n",
       "\n",
       "    var fmt_picker = $('<select/>');\n",
       "    fmt_picker.addClass('mpl-toolbar-option ui-widget ui-widget-content');\n",
       "    fmt_picker_span.append(fmt_picker);\n",
       "    nav_element.append(fmt_picker_span);\n",
       "    this.format_dropdown = fmt_picker[0];\n",
       "\n",
       "    for (var ind in mpl.extensions) {\n",
       "        var fmt = mpl.extensions[ind];\n",
       "        var option = $(\n",
       "            '<option/>', {selected: fmt === mpl.default_extension}).html(fmt);\n",
       "        fmt_picker.append(option);\n",
       "    }\n",
       "\n",
       "    // Add hover states to the ui-buttons\n",
       "    $( \".ui-button\" ).hover(\n",
       "        function() { $(this).addClass(\"ui-state-hover\");},\n",
       "        function() { $(this).removeClass(\"ui-state-hover\");}\n",
       "    );\n",
       "\n",
       "    var status_bar = $('<span class=\"mpl-message\"/>');\n",
       "    nav_element.append(status_bar);\n",
       "    this.message = status_bar[0];\n",
       "}\n",
       "\n",
       "mpl.figure.prototype.request_resize = function(x_pixels, y_pixels) {\n",
       "    // Request matplotlib to resize the figure. Matplotlib will then trigger a resize in the client,\n",
       "    // which will in turn request a refresh of the image.\n",
       "    this.send_message('resize', {'width': x_pixels, 'height': y_pixels});\n",
       "}\n",
       "\n",
       "mpl.figure.prototype.send_message = function(type, properties) {\n",
       "    properties['type'] = type;\n",
       "    properties['figure_id'] = this.id;\n",
       "    this.ws.send(JSON.stringify(properties));\n",
       "}\n",
       "\n",
       "mpl.figure.prototype.send_draw_message = function() {\n",
       "    if (!this.waiting) {\n",
       "        this.waiting = true;\n",
       "        this.ws.send(JSON.stringify({type: \"draw\", figure_id: this.id}));\n",
       "    }\n",
       "}\n",
       "\n",
       "\n",
       "mpl.figure.prototype.handle_save = function(fig, msg) {\n",
       "    var format_dropdown = fig.format_dropdown;\n",
       "    var format = format_dropdown.options[format_dropdown.selectedIndex].value;\n",
       "    fig.ondownload(fig, format);\n",
       "}\n",
       "\n",
       "\n",
       "mpl.figure.prototype.handle_resize = function(fig, msg) {\n",
       "    var size = msg['size'];\n",
       "    if (size[0] != fig.canvas.width || size[1] != fig.canvas.height) {\n",
       "        fig._resize_canvas(size[0], size[1]);\n",
       "        fig.send_message(\"refresh\", {});\n",
       "    };\n",
       "}\n",
       "\n",
       "mpl.figure.prototype.handle_rubberband = function(fig, msg) {\n",
       "    var x0 = msg['x0'] / mpl.ratio;\n",
       "    var y0 = (fig.canvas.height - msg['y0']) / mpl.ratio;\n",
       "    var x1 = msg['x1'] / mpl.ratio;\n",
       "    var y1 = (fig.canvas.height - msg['y1']) / mpl.ratio;\n",
       "    x0 = Math.floor(x0) + 0.5;\n",
       "    y0 = Math.floor(y0) + 0.5;\n",
       "    x1 = Math.floor(x1) + 0.5;\n",
       "    y1 = Math.floor(y1) + 0.5;\n",
       "    var min_x = Math.min(x0, x1);\n",
       "    var min_y = Math.min(y0, y1);\n",
       "    var width = Math.abs(x1 - x0);\n",
       "    var height = Math.abs(y1 - y0);\n",
       "\n",
       "    fig.rubberband_context.clearRect(\n",
       "        0, 0, fig.canvas.width / mpl.ratio, fig.canvas.height / mpl.ratio);\n",
       "\n",
       "    fig.rubberband_context.strokeRect(min_x, min_y, width, height);\n",
       "}\n",
       "\n",
       "mpl.figure.prototype.handle_figure_label = function(fig, msg) {\n",
       "    // Updates the figure title.\n",
       "    fig.header.textContent = msg['label'];\n",
       "}\n",
       "\n",
       "mpl.figure.prototype.handle_cursor = function(fig, msg) {\n",
       "    var cursor = msg['cursor'];\n",
       "    switch(cursor)\n",
       "    {\n",
       "    case 0:\n",
       "        cursor = 'pointer';\n",
       "        break;\n",
       "    case 1:\n",
       "        cursor = 'default';\n",
       "        break;\n",
       "    case 2:\n",
       "        cursor = 'crosshair';\n",
       "        break;\n",
       "    case 3:\n",
       "        cursor = 'move';\n",
       "        break;\n",
       "    }\n",
       "    fig.rubberband_canvas.style.cursor = cursor;\n",
       "}\n",
       "\n",
       "mpl.figure.prototype.handle_message = function(fig, msg) {\n",
       "    fig.message.textContent = msg['message'];\n",
       "}\n",
       "\n",
       "mpl.figure.prototype.handle_draw = function(fig, msg) {\n",
       "    // Request the server to send over a new figure.\n",
       "    fig.send_draw_message();\n",
       "}\n",
       "\n",
       "mpl.figure.prototype.handle_image_mode = function(fig, msg) {\n",
       "    fig.image_mode = msg['mode'];\n",
       "}\n",
       "\n",
       "mpl.figure.prototype.updated_canvas_event = function() {\n",
       "    // Called whenever the canvas gets updated.\n",
       "    this.send_message(\"ack\", {});\n",
       "}\n",
       "\n",
       "// A function to construct a web socket function for onmessage handling.\n",
       "// Called in the figure constructor.\n",
       "mpl.figure.prototype._make_on_message_function = function(fig) {\n",
       "    return function socket_on_message(evt) {\n",
       "        if (evt.data instanceof Blob) {\n",
       "            /* FIXME: We get \"Resource interpreted as Image but\n",
       "             * transferred with MIME type text/plain:\" errors on\n",
       "             * Chrome.  But how to set the MIME type?  It doesn't seem\n",
       "             * to be part of the websocket stream */\n",
       "            evt.data.type = \"image/png\";\n",
       "\n",
       "            /* Free the memory for the previous frames */\n",
       "            if (fig.imageObj.src) {\n",
       "                (window.URL || window.webkitURL).revokeObjectURL(\n",
       "                    fig.imageObj.src);\n",
       "            }\n",
       "\n",
       "            fig.imageObj.src = (window.URL || window.webkitURL).createObjectURL(\n",
       "                evt.data);\n",
       "            fig.updated_canvas_event();\n",
       "            fig.waiting = false;\n",
       "            return;\n",
       "        }\n",
       "        else if (typeof evt.data === 'string' && evt.data.slice(0, 21) == \"data:image/png;base64\") {\n",
       "            fig.imageObj.src = evt.data;\n",
       "            fig.updated_canvas_event();\n",
       "            fig.waiting = false;\n",
       "            return;\n",
       "        }\n",
       "\n",
       "        var msg = JSON.parse(evt.data);\n",
       "        var msg_type = msg['type'];\n",
       "\n",
       "        // Call the  \"handle_{type}\" callback, which takes\n",
       "        // the figure and JSON message as its only arguments.\n",
       "        try {\n",
       "            var callback = fig[\"handle_\" + msg_type];\n",
       "        } catch (e) {\n",
       "            console.log(\"No handler for the '\" + msg_type + \"' message type: \", msg);\n",
       "            return;\n",
       "        }\n",
       "\n",
       "        if (callback) {\n",
       "            try {\n",
       "                // console.log(\"Handling '\" + msg_type + \"' message: \", msg);\n",
       "                callback(fig, msg);\n",
       "            } catch (e) {\n",
       "                console.log(\"Exception inside the 'handler_\" + msg_type + \"' callback:\", e, e.stack, msg);\n",
       "            }\n",
       "        }\n",
       "    };\n",
       "}\n",
       "\n",
       "// from http://stackoverflow.com/questions/1114465/getting-mouse-location-in-canvas\n",
       "mpl.findpos = function(e) {\n",
       "    //this section is from http://www.quirksmode.org/js/events_properties.html\n",
       "    var targ;\n",
       "    if (!e)\n",
       "        e = window.event;\n",
       "    if (e.target)\n",
       "        targ = e.target;\n",
       "    else if (e.srcElement)\n",
       "        targ = e.srcElement;\n",
       "    if (targ.nodeType == 3) // defeat Safari bug\n",
       "        targ = targ.parentNode;\n",
       "\n",
       "    // jQuery normalizes the pageX and pageY\n",
       "    // pageX,Y are the mouse positions relative to the document\n",
       "    // offset() returns the position of the element relative to the document\n",
       "    var x = e.pageX - $(targ).offset().left;\n",
       "    var y = e.pageY - $(targ).offset().top;\n",
       "\n",
       "    return {\"x\": x, \"y\": y};\n",
       "};\n",
       "\n",
       "/*\n",
       " * return a copy of an object with only non-object keys\n",
       " * we need this to avoid circular references\n",
       " * http://stackoverflow.com/a/24161582/3208463\n",
       " */\n",
       "function simpleKeys (original) {\n",
       "  return Object.keys(original).reduce(function (obj, key) {\n",
       "    if (typeof original[key] !== 'object')\n",
       "        obj[key] = original[key]\n",
       "    return obj;\n",
       "  }, {});\n",
       "}\n",
       "\n",
       "mpl.figure.prototype.mouse_event = function(event, name) {\n",
       "    var canvas_pos = mpl.findpos(event)\n",
       "\n",
       "    if (name === 'button_press')\n",
       "    {\n",
       "        this.canvas.focus();\n",
       "        this.canvas_div.focus();\n",
       "    }\n",
       "\n",
       "    var x = canvas_pos.x * mpl.ratio;\n",
       "    var y = canvas_pos.y * mpl.ratio;\n",
       "\n",
       "    this.send_message(name, {x: x, y: y, button: event.button,\n",
       "                             step: event.step,\n",
       "                             guiEvent: simpleKeys(event)});\n",
       "\n",
       "    /* This prevents the web browser from automatically changing to\n",
       "     * the text insertion cursor when the button is pressed.  We want\n",
       "     * to control all of the cursor setting manually through the\n",
       "     * 'cursor' event from matplotlib */\n",
       "    event.preventDefault();\n",
       "    return false;\n",
       "}\n",
       "\n",
       "mpl.figure.prototype._key_event_extra = function(event, name) {\n",
       "    // Handle any extra behaviour associated with a key event\n",
       "}\n",
       "\n",
       "mpl.figure.prototype.key_event = function(event, name) {\n",
       "\n",
       "    // Prevent repeat events\n",
       "    if (name == 'key_press')\n",
       "    {\n",
       "        if (event.which === this._key)\n",
       "            return;\n",
       "        else\n",
       "            this._key = event.which;\n",
       "    }\n",
       "    if (name == 'key_release')\n",
       "        this._key = null;\n",
       "\n",
       "    var value = '';\n",
       "    if (event.ctrlKey && event.which != 17)\n",
       "        value += \"ctrl+\";\n",
       "    if (event.altKey && event.which != 18)\n",
       "        value += \"alt+\";\n",
       "    if (event.shiftKey && event.which != 16)\n",
       "        value += \"shift+\";\n",
       "\n",
       "    value += 'k';\n",
       "    value += event.which.toString();\n",
       "\n",
       "    this._key_event_extra(event, name);\n",
       "\n",
       "    this.send_message(name, {key: value,\n",
       "                             guiEvent: simpleKeys(event)});\n",
       "    return false;\n",
       "}\n",
       "\n",
       "mpl.figure.prototype.toolbar_button_onclick = function(name) {\n",
       "    if (name == 'download') {\n",
       "        this.handle_save(this, null);\n",
       "    } else {\n",
       "        this.send_message(\"toolbar_button\", {name: name});\n",
       "    }\n",
       "};\n",
       "\n",
       "mpl.figure.prototype.toolbar_button_onmouseover = function(tooltip) {\n",
       "    this.message.textContent = tooltip;\n",
       "};\n",
       "mpl.toolbar_items = [[\"Home\", \"Reset original view\", \"fa fa-home icon-home\", \"home\"], [\"Back\", \"Back to previous view\", \"fa fa-arrow-left icon-arrow-left\", \"back\"], [\"Forward\", \"Forward to next view\", \"fa fa-arrow-right icon-arrow-right\", \"forward\"], [\"\", \"\", \"\", \"\"], [\"Pan\", \"Pan axes with left mouse, zoom with right\", \"fa fa-arrows icon-move\", \"pan\"], [\"Zoom\", \"Zoom to rectangle\", \"fa fa-square-o icon-check-empty\", \"zoom\"], [\"\", \"\", \"\", \"\"], [\"Download\", \"Download plot\", \"fa fa-floppy-o icon-save\", \"download\"]];\n",
       "\n",
       "mpl.extensions = [\"eps\", \"jpeg\", \"pdf\", \"png\", \"ps\", \"raw\", \"svg\", \"tif\"];\n",
       "\n",
       "mpl.default_extension = \"png\";var comm_websocket_adapter = function(comm) {\n",
       "    // Create a \"websocket\"-like object which calls the given IPython comm\n",
       "    // object with the appropriate methods. Currently this is a non binary\n",
       "    // socket, so there is still some room for performance tuning.\n",
       "    var ws = {};\n",
       "\n",
       "    ws.close = function() {\n",
       "        comm.close()\n",
       "    };\n",
       "    ws.send = function(m) {\n",
       "        //console.log('sending', m);\n",
       "        comm.send(m);\n",
       "    };\n",
       "    // Register the callback with on_msg.\n",
       "    comm.on_msg(function(msg) {\n",
       "        //console.log('receiving', msg['content']['data'], msg);\n",
       "        // Pass the mpl event to the overridden (by mpl) onmessage function.\n",
       "        ws.onmessage(msg['content']['data'])\n",
       "    });\n",
       "    return ws;\n",
       "}\n",
       "\n",
       "mpl.mpl_figure_comm = function(comm, msg) {\n",
       "    // This is the function which gets called when the mpl process\n",
       "    // starts-up an IPython Comm through the \"matplotlib\" channel.\n",
       "\n",
       "    var id = msg.content.data.id;\n",
       "    // Get hold of the div created by the display call when the Comm\n",
       "    // socket was opened in Python.\n",
       "    var element = $(\"#\" + id);\n",
       "    var ws_proxy = comm_websocket_adapter(comm)\n",
       "\n",
       "    function ondownload(figure, format) {\n",
       "        window.open(figure.imageObj.src);\n",
       "    }\n",
       "\n",
       "    var fig = new mpl.figure(id, ws_proxy,\n",
       "                           ondownload,\n",
       "                           element.get(0));\n",
       "\n",
       "    // Call onopen now - mpl needs it, as it is assuming we've passed it a real\n",
       "    // web socket which is closed, not our websocket->open comm proxy.\n",
       "    ws_proxy.onopen();\n",
       "\n",
       "    fig.parent_element = element.get(0);\n",
       "    fig.cell_info = mpl.find_output_cell(\"<div id='\" + id + \"'></div>\");\n",
       "    if (!fig.cell_info) {\n",
       "        console.error(\"Failed to find cell for figure\", id, fig);\n",
       "        return;\n",
       "    }\n",
       "\n",
       "    var output_index = fig.cell_info[2]\n",
       "    var cell = fig.cell_info[0];\n",
       "\n",
       "};\n",
       "\n",
       "mpl.figure.prototype.handle_close = function(fig, msg) {\n",
       "    var width = fig.canvas.width/mpl.ratio\n",
       "    fig.root.unbind('remove')\n",
       "\n",
       "    // Update the output cell to use the data from the current canvas.\n",
       "    fig.push_to_output();\n",
       "    var dataURL = fig.canvas.toDataURL();\n",
       "    // Re-enable the keyboard manager in IPython - without this line, in FF,\n",
       "    // the notebook keyboard shortcuts fail.\n",
       "    IPython.keyboard_manager.enable()\n",
       "    $(fig.parent_element).html('<img src=\"' + dataURL + '\" width=\"' + width + '\">');\n",
       "    fig.close_ws(fig, msg);\n",
       "}\n",
       "\n",
       "mpl.figure.prototype.close_ws = function(fig, msg){\n",
       "    fig.send_message('closing', msg);\n",
       "    // fig.ws.close()\n",
       "}\n",
       "\n",
       "mpl.figure.prototype.push_to_output = function(remove_interactive) {\n",
       "    // Turn the data on the canvas into data in the output cell.\n",
       "    var width = this.canvas.width/mpl.ratio\n",
       "    var dataURL = this.canvas.toDataURL();\n",
       "    this.cell_info[1]['text/html'] = '<img src=\"' + dataURL + '\" width=\"' + width + '\">';\n",
       "}\n",
       "\n",
       "mpl.figure.prototype.updated_canvas_event = function() {\n",
       "    // Tell IPython that the notebook contents must change.\n",
       "    IPython.notebook.set_dirty(true);\n",
       "    this.send_message(\"ack\", {});\n",
       "    var fig = this;\n",
       "    // Wait a second, then push the new image to the DOM so\n",
       "    // that it is saved nicely (might be nice to debounce this).\n",
       "    setTimeout(function () { fig.push_to_output() }, 1000);\n",
       "}\n",
       "\n",
       "mpl.figure.prototype._init_toolbar = function() {\n",
       "    var fig = this;\n",
       "\n",
       "    var nav_element = $('<div/>');\n",
       "    nav_element.attr('style', 'width: 100%');\n",
       "    this.root.append(nav_element);\n",
       "\n",
       "    // Define a callback function for later on.\n",
       "    function toolbar_event(event) {\n",
       "        return fig.toolbar_button_onclick(event['data']);\n",
       "    }\n",
       "    function toolbar_mouse_event(event) {\n",
       "        return fig.toolbar_button_onmouseover(event['data']);\n",
       "    }\n",
       "\n",
       "    for(var toolbar_ind in mpl.toolbar_items){\n",
       "        var name = mpl.toolbar_items[toolbar_ind][0];\n",
       "        var tooltip = mpl.toolbar_items[toolbar_ind][1];\n",
       "        var image = mpl.toolbar_items[toolbar_ind][2];\n",
       "        var method_name = mpl.toolbar_items[toolbar_ind][3];\n",
       "\n",
       "        if (!name) { continue; };\n",
       "\n",
       "        var button = $('<button class=\"btn btn-default\" href=\"#\" title=\"' + name + '\"><i class=\"fa ' + image + ' fa-lg\"></i></button>');\n",
       "        button.click(method_name, toolbar_event);\n",
       "        button.mouseover(tooltip, toolbar_mouse_event);\n",
       "        nav_element.append(button);\n",
       "    }\n",
       "\n",
       "    // Add the status bar.\n",
       "    var status_bar = $('<span class=\"mpl-message\" style=\"text-align:right; float: right;\"/>');\n",
       "    nav_element.append(status_bar);\n",
       "    this.message = status_bar[0];\n",
       "\n",
       "    // Add the close button to the window.\n",
       "    var buttongrp = $('<div class=\"btn-group inline pull-right\"></div>');\n",
       "    var button = $('<button class=\"btn btn-mini btn-primary\" href=\"#\" title=\"Stop Interaction\"><i class=\"fa fa-power-off icon-remove icon-large\"></i></button>');\n",
       "    button.click(function (evt) { fig.handle_close(fig, {}); } );\n",
       "    button.mouseover('Stop Interaction', toolbar_mouse_event);\n",
       "    buttongrp.append(button);\n",
       "    var titlebar = this.root.find($('.ui-dialog-titlebar'));\n",
       "    titlebar.prepend(buttongrp);\n",
       "}\n",
       "\n",
       "mpl.figure.prototype._root_extra_style = function(el){\n",
       "    var fig = this\n",
       "    el.on(\"remove\", function(){\n",
       "\tfig.close_ws(fig, {});\n",
       "    });\n",
       "}\n",
       "\n",
       "mpl.figure.prototype._canvas_extra_style = function(el){\n",
       "    // this is important to make the div 'focusable\n",
       "    el.attr('tabindex', 0)\n",
       "    // reach out to IPython and tell the keyboard manager to turn it's self\n",
       "    // off when our div gets focus\n",
       "\n",
       "    // location in version 3\n",
       "    if (IPython.notebook.keyboard_manager) {\n",
       "        IPython.notebook.keyboard_manager.register_events(el);\n",
       "    }\n",
       "    else {\n",
       "        // location in version 2\n",
       "        IPython.keyboard_manager.register_events(el);\n",
       "    }\n",
       "\n",
       "}\n",
       "\n",
       "mpl.figure.prototype._key_event_extra = function(event, name) {\n",
       "    var manager = IPython.notebook.keyboard_manager;\n",
       "    if (!manager)\n",
       "        manager = IPython.keyboard_manager;\n",
       "\n",
       "    // Check for shift+enter\n",
       "    if (event.shiftKey && event.which == 13) {\n",
       "        this.canvas_div.blur();\n",
       "        // select the cell after this one\n",
       "        var index = IPython.notebook.find_cell_index(this.cell_info[0]);\n",
       "        IPython.notebook.select(index + 1);\n",
       "    }\n",
       "}\n",
       "\n",
       "mpl.figure.prototype.handle_save = function(fig, msg) {\n",
       "    fig.ondownload(fig, null);\n",
       "}\n",
       "\n",
       "\n",
       "mpl.find_output_cell = function(html_output) {\n",
       "    // Return the cell and output element which can be found *uniquely* in the notebook.\n",
       "    // Note - this is a bit hacky, but it is done because the \"notebook_saving.Notebook\"\n",
       "    // IPython event is triggered only after the cells have been serialised, which for\n",
       "    // our purposes (turning an active figure into a static one), is too late.\n",
       "    var cells = IPython.notebook.get_cells();\n",
       "    var ncells = cells.length;\n",
       "    for (var i=0; i<ncells; i++) {\n",
       "        var cell = cells[i];\n",
       "        if (cell.cell_type === 'code'){\n",
       "            for (var j=0; j<cell.output_area.outputs.length; j++) {\n",
       "                var data = cell.output_area.outputs[j];\n",
       "                if (data.data) {\n",
       "                    // IPython >= 3 moved mimebundle to data attribute of output\n",
       "                    data = data.data;\n",
       "                }\n",
       "                if (data['text/html'] == html_output) {\n",
       "                    return [cell, data, j];\n",
       "                }\n",
       "            }\n",
       "        }\n",
       "    }\n",
       "}\n",
       "\n",
       "// Register the function which deals with the matplotlib target/channel.\n",
       "// The kernel may be null if the page has been refreshed.\n",
       "if (IPython.notebook.kernel != null) {\n",
       "    IPython.notebook.kernel.comm_manager.register_target('matplotlib', mpl.mpl_figure_comm);\n",
       "}\n"
      ],
      "text/plain": [
       "<IPython.core.display.Javascript object>"
      ]
     },
     "metadata": {},
     "output_type": "display_data"
    },
    {
     "data": {
      "text/html": [
       "<img src=\"data:image/png;base64,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\" width=\"1000\">"
      ],
      "text/plain": [
       "<IPython.core.display.HTML object>"
      ]
     },
     "metadata": {},
     "output_type": "display_data"
    }
   ],
   "source": [
    "dual_train_plots(results.index,\n",
    "                 results.cost, results.val, \n",
    "                 results['eff_val'].apply(lambda x: x.eff_rate),\n",
    "                 results['eff_val'].apply(lambda x: x.fp_rate))\n",
    "plt.tight_layout()\n",
    "plt.savefig(str(output / f'{name}_stats_a.png'))"
   ]
  },
  {
   "cell_type": "markdown",
   "metadata": {},
   "source": [
    "Go ahead and save the final model (even though it was also saved above):"
   ]
  },
  {
   "cell_type": "markdown",
   "metadata": {},
   "source": [
    "Save the output results:"
   ]
  },
  {
   "cell_type": "code",
   "execution_count": 21,
   "metadata": {},
   "outputs": [],
   "source": [
    "##torch.cuda.empty_cache()\"\n",
    "quit()\n",
    "\n"
   ]
  },
  {
   "cell_type": "code",
   "execution_count": null,
   "metadata": {},
   "outputs": [],
   "source": []
  }
 ],
 "metadata": {
  "kernelspec": {
   "display_name": "june2020-gpu",
   "language": "python",
   "name": "june2020-gpu"
  },
  "language_info": {
   "codemirror_mode": {
    "name": "ipython",
    "version": 3
   },
   "file_extension": ".py",
   "mimetype": "text/x-python",
   "name": "python",
   "nbconvert_exporter": "python",
   "pygments_lexer": "ipython3",
   "version": "3.7.6"
  }
 },
 "nbformat": 4,
 "nbformat_minor": 2
}
