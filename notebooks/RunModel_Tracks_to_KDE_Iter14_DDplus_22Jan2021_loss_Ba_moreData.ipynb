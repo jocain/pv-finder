{
 "cells": [
  {
   "cell_type": "code",
   "execution_count": 1,
   "metadata": {},
   "outputs": [],
   "source": [
    "##%matplotlib widget\n",
    "## with %matplotlib notebook: seems to require ipympl as part of environment, either\n",
    "## part of the conda environment or \"pip install ipympl\"\n",
    "## otherwise, does not show ANY plots in note\"book, plt.savefig() works\n",
    "%matplotlib notebook  \n",
    "##%matplotlib inline    ## --plt.savefig()  works, but re-sizing does NOT\n"
   ]
  },
  {
   "cell_type": "markdown",
   "metadata": {},
   "source": [
    "This notebook is the second attempt to read in track information and use it to predict the KDE used as input to PvFinder. This time, we are reading in poca KDEs rather than the original KDEs. \n",
    "\n",
    "collectdata_kde_C.py uses poca_z, poca_x, poca_y, major_axis_x, major_axis_y, and major_axis_z as the six track parameters (for the moment)\n"
   ]
  },
  {
   "cell_type": "markdown",
   "metadata": {},
   "source": [
    "Check the current GPU usage. Please try to be nice!"
   ]
  },
  {
   "cell_type": "code",
   "execution_count": 2,
   "metadata": {},
   "outputs": [
    {
     "name": "stdout",
     "output_type": "stream",
     "text": [
      "Fri Jan 22 09:14:10 2021       \r\n",
      "+-----------------------------------------------------------------------------+\r\n",
      "| NVIDIA-SMI 440.64.00    Driver Version: 440.64.00    CUDA Version: 10.2     |\r\n",
      "|-------------------------------+----------------------+----------------------+\r\n",
      "| GPU  Name        Persistence-M| Bus-Id        Disp.A | Volatile Uncorr. ECC |\r\n",
      "| Fan  Temp  Perf  Pwr:Usage/Cap|         Memory-Usage | GPU-Util  Compute M. |\r\n",
      "|===============================+======================+======================|\r\n",
      "|   0  TITAN V             Off  | 00000000:03:00.0 Off |                  N/A |\r\n",
      "| 28%   31C    P8    23W / 250W |   3564MiB / 12066MiB |      0%      Default |\r\n",
      "+-------------------------------+----------------------+----------------------+\r\n",
      "|   1  Tesla P100-PCIE...  Off  | 00000000:83:00.0 Off |                    0 |\r\n",
      "| N/A   31C    P0    27W / 250W |     10MiB / 16280MiB |      0%      Default |\r\n",
      "+-------------------------------+----------------------+----------------------+\r\n",
      "|   2  TITAN V             Off  | 00000000:84:00.0 Off |                  N/A |\r\n",
      "| 28%   36C    P8    25W / 250W |     12MiB / 12066MiB |      0%      Default |\r\n",
      "+-------------------------------+----------------------+----------------------+\r\n",
      "                                                                               \r\n",
      "+-----------------------------------------------------------------------------+\r\n",
      "| Processes:                                                       GPU Memory |\r\n",
      "|  GPU       PID   Type   Process name                             Usage      |\r\n",
      "|=============================================================================|\r\n",
      "|    0     42274      C   ...a/conda/envs/goofit-june2020/bin/python  1095MiB |\r\n",
      "|    0     49144      C   ...a/conda/envs/goofit-june2020/bin/python  2457MiB |\r\n",
      "+-----------------------------------------------------------------------------+\r\n"
     ]
    }
   ],
   "source": [
    "!nvidia-smi"
   ]
  },
  {
   "cell_type": "markdown",
   "metadata": {},
   "source": [
    "> **WARNING**: The card numbers here are *not* the same as in CUDA. You have been warned."
   ]
  },
  {
   "cell_type": "markdown",
   "metadata": {},
   "source": [
    "This notebook is first attempt to read in track information and use it to predict the KDE used as input to PvFinder.\n"
   ]
  },
  {
   "cell_type": "markdown",
   "metadata": {},
   "source": [
    "## Imports"
   ]
  },
  {
   "cell_type": "code",
   "execution_count": 3,
   "metadata": {},
   "outputs": [],
   "source": [
    "import matplotlib.pyplot as plt\n",
    "import numpy as np\n",
    "import time\n",
    "import torch\n",
    "import pandas as pd\n",
    "\n",
    "# Python 3 standard library\n",
    "from pathlib import Path\n",
    "\n",
    "##from torchsummary import summary"
   ]
  },
  {
   "cell_type": "markdown",
   "metadata": {},
   "source": [
    "### Set up local parameters"
   ]
  },
  {
   "cell_type": "code",
   "execution_count": 4,
   "metadata": {},
   "outputs": [],
   "source": [
    "n_epochs = 60\n",
    "\n",
    "# Name is the output file name\n",
    "\n",
    "\n",
    "##  201027 -- about to go to bed, so try 2500 epochs with lr = 1e55\n",
    "##  previous iteration had l4 = 3e-5 and cost dropped almost linearly\n",
    "##  for 100 epochs -- final training costs ~ 2.02, validation cost ~ 2.01\n",
    "\n",
    "## for iter 4, try 10 epochs with lr = 3e-6\n",
    "## usually have a big jump down at epoch 0; want to try a\n",
    "## small number of epochs per iteration and see what happens (iter4: 10 epochs gave\n",
    "## traiing cost dropping from 1.54 to 1.50 immediately, then dropping very slowly)\n",
    "\n",
    "## For iter12, let's try increaseing the learning rate from 1em5 to 1p5em5 as the\n",
    "## training costs have been dropping almost \"linearlY\" on the semilog plot\n",
    "## for several iterations, suggesting that we can afford to take the risk\n",
    "## For good measure, we'll try this for 10 epochs as a test \n",
    "##  Iter12 seems to have worked we4ll, so start iter13 for 60 epochs\n",
    "## so it will run over night\n",
    "folder = '22Jan_DDplus_loss_Ba_iter14_floatAll_60epochs_1p5em5_4xwill'\n",
    "name   = folder\n",
    "\n",
    "# Make an output folder named \"name\" (change if you want)\n",
    "\n",
    "## Special instructions for those working on goofy at UC\n",
    "## Please be very careful to make sure that your folder\n",
    "## does not live in a subdirectory of your home directory\n",
    "## this disk has very little capacity. Instead, use \n",
    "## a subdirectory in /share/lazy with a symbolic link to\n",
    "## it in this (the notebooks) subdirectory\n",
    "folder = 'ML/' + folder\n",
    "output = Path(folder)\n",
    "\n",
    "\n",
    "# Size of batches\n",
    "batch_size = 48 ## batch_size = 24 ---> 4763MiB / 12066MiB on Titan V\n",
    "# How fast to learn\n",
    "learning_rate = 1.5e-5"
   ]
  },
  {
   "cell_type": "markdown",
   "metadata": {},
   "source": [
    "Make the output directory if it does not exist:"
   ]
  },
  {
   "cell_type": "code",
   "execution_count": 5,
   "metadata": {},
   "outputs": [],
   "source": [
    "output.mkdir(exist_ok=True)"
   ]
  },
  {
   "cell_type": "markdown",
   "metadata": {},
   "source": [
    "## Get the helper functions\n",
    "\n",
    "Add the directory with the model\n",
    "definitions to the path so we can import from it:\n",
    "\n",
    "> When you type `import X`,\n",
    "Python searches `sys.path` for a python\n",
    "file named `X.py` to import. So we need to add the model directory to the path."
   ]
  },
  {
   "cell_type": "code",
   "execution_count": 6,
   "metadata": {
    "scrolled": true
   },
   "outputs": [],
   "source": [
    "# From model/collectdata.py\n",
    "##from model.collectdata_kde_B import collect_t2kde_data\n",
    "## collectdata_kde_C should use the new poca KDE rather than the original kernel KDE\n",
    "from model.collectdata_kde_Ellipsoids import collect_t2kde_data\n",
    "\n",
    "\n",
    "# From model/loss.py\n",
    "##from loss import Loss\n",
    "## kde_loss_D includes botha ratio term and a chisq term, 98% ave_chisq\n",
    "## kde_loss_E adds a chi^4 term to the kde_loss_D return value\n",
    "## this is intended to emphasize the importance of values significantly different than zero\n",
    "from model.kde_loss_Ba import Loss\n",
    "\n",
    "##  TracksToKDE_Ellipsoids_SevenLayerCake has 7 hidden layers producing the 4000-bin KDE historgram\n",
    "##  It takes 9 input features (pocca centers + (A,B,C,D,E,F) . \n",
    "from model.models_kde import TracksToKDE_Ellipsoids_DDplus as Model\n",
    "\n",
    "\n",
    "from model.training_kde import trainNet, select_gpu, Results\n",
    "from model.plots import dual_train_plots, replace_in_ax"
   ]
  },
  {
   "cell_type": "code",
   "execution_count": 7,
   "metadata": {},
   "outputs": [],
   "source": [
    "# This gets built up during the run - do not rerun this cell\n",
    "results = pd.DataFrame([], columns=Results._fields)"
   ]
  },
  {
   "cell_type": "markdown",
   "metadata": {},
   "source": [
    "Set up Torch device configuration. All tensors and model parameters need to know where to be put.\n",
    "This takes a BUS ID number: The BUS ID is the same as the listing at the top of this script."
   ]
  },
  {
   "cell_type": "code",
   "execution_count": 8,
   "metadata": {},
   "outputs": [
    {
     "name": "stdout",
     "output_type": "stream",
     "text": [
      "1 available GPUs (initially using device 0):\n",
      "  0 TITAN V\n"
     ]
    }
   ],
   "source": [
    "device = select_gpu(2)\n",
    "##device = \"cpu\""
   ]
  },
  {
   "cell_type": "markdown",
   "metadata": {},
   "source": [
    "## Loading data\n",
    "\n",
    "Load the dataset, split into parts, then move to device (see `collectdata.py` in the `../model` directory)"
   ]
  },
  {
   "cell_type": "markdown",
   "metadata": {},
   "source": [
    "# Preparing the model"
   ]
  },
  {
   "cell_type": "markdown",
   "metadata": {},
   "source": [
    "Prepare a model, use multiple GPUs if they are VISIBLE, and move the model to the device."
   ]
  },
  {
   "cell_type": "code",
   "execution_count": 9,
   "metadata": {
    "scrolled": true
   },
   "outputs": [],
   "source": [
    "##print(\"Let's use\", torch.cuda.device_count(), \"GPUs!\")\n",
    "##if torch.cuda.device_count() > 1:\n",
    "##    model = torch.nn.DataParallel(model)"
   ]
  },
  {
   "cell_type": "code",
   "execution_count": 10,
   "metadata": {},
   "outputs": [
    {
     "name": "stdout",
     "output_type": "stream",
     "text": [
      "ct, child =  0    Linear(in_features=9, out_features=50, bias=True)\n",
      "ct, child =  1    Linear(in_features=50, out_features=50, bias=True)\n",
      "ct, child =  2    Linear(in_features=50, out_features=50, bias=True)\n",
      "ct, child =  3    Linear(in_features=50, out_features=50, bias=True)\n",
      "ct, child =  4    Linear(in_features=50, out_features=50, bias=True)\n",
      "ct, child =  5    Linear(in_features=50, out_features=50, bias=True)\n",
      "ct, child =  6    Linear(in_features=50, out_features=50, bias=True)\n",
      "ct, child =  7    Linear(in_features=50, out_features=50, bias=True)\n",
      "ct, child =  8    Linear(in_features=50, out_features=50, bias=True)\n",
      "ct, child =  9    Linear(in_features=50, out_features=50, bias=True)\n",
      "ct, child =  10    Linear(in_features=50, out_features=50, bias=True)\n",
      "ct, child =  11    Linear(in_features=50, out_features=16000, bias=True)\n",
      "ct, child =  12    Conv1d(4, 25, kernel_size=(25,), stride=(1,), padding=(12,))\n",
      "ct, child =  13    Conv1d(25, 1, kernel_size=(5,), stride=(1,), padding=(2,))\n",
      "ct, child =  14    Linear(in_features=4000, out_features=4000, bias=True)\n",
      "ct, child =  15    Conv1d(25, 1, kernel_size=(15,), stride=(1,), padding=(7,))\n",
      "ct, child =  16    Dropout(p=0.15, inplace=False)\n",
      "ct, child =  17    Dropout(p=0.15, inplace=False)\n"
     ]
    }
   ],
   "source": [
    "## a comment on the web at https://pytorch.org/docs/stable/optim.html says\n",
    "\"\"\"\n",
    "If you need to move a model to GPU via .cuda(), please do so before constructing optimizers for it. \n",
    "Parameters of a model after .cuda() will be different objects with those before the call.\n",
    "\n",
    "In general, you should make sure that optimized parameters live in consistent locations when \n",
    "optimizers are constructed and used.\n",
    "\"\"\"\n",
    "## so move this here (although we are using model.to(device) not explicitly using .cuda()\n",
    "\n",
    "nOut1 = 50\n",
    "nOut2 = 50\n",
    "nOut3 = 50\n",
    "nOut4 = 50\n",
    "nOut5 = 50\n",
    "nOut6 = 50\n",
    "nOut7 = 50\n",
    "nOut8 = 50\n",
    "nOut9 = 50\n",
    "nOut10 = 50\n",
    "nOut11 = 50\n",
    "latentChannels = 4\n",
    "model = Model(nOut1,nOut2,nOut3,nOut4,nOut5,nOut6,nOut7,nOut8,nOut9,nOut10,nOut11,latentChannels)\n",
    "\n",
    "##summary(model, input_size=(4, 4000))\n",
    "##print(model.parameters)\n",
    "\n",
    "## add the following code to allow the user to freeze the some of the weights corresponding \n",
    "## to those taken from an earlier model trained with the original target histograms\n",
    "## presumably -- this leaves either the perturbative filter \"fixed\" and lets the \n",
    "## learning focus on the non-perturbative features, so get started faster, or vice versa\n",
    "ct = 0\n",
    "for child in model.children():\n",
    "  print('ct, child = ',ct, \"  \", child)\n",
    "  if ct < 0:\n",
    "    print(\"     About to set param.requires_grad=False for ct = \", ct, \"params\")\n",
    "    for param in child.parameters():\n",
    "        param.requires_grad = False \n",
    "  ct += 1\n",
    "##  mds 200121 loss = Loss(epsilon=1e-5,coefficient=1.0)\n",
    "##  loss = Loss(epsilon=1e-5,coefficient=2.5)\n",
    "##loss = Loss(epsilon=3e-5, debug=False)\n",
    "loss = Loss(epsilon=3e-5)"
   ]
  },
  {
   "cell_type": "markdown",
   "metadata": {},
   "source": [
    "Let's move the model's weight matricies to the GPU:"
   ]
  },
  {
   "cell_type": "code",
   "execution_count": 11,
   "metadata": {
    "scrolled": true
   },
   "outputs": [],
   "source": [
    "model = model.to(device)"
   ]
  },
  {
   "cell_type": "code",
   "execution_count": 12,
   "metadata": {
    "scrolled": true
   },
   "outputs": [],
   "source": [
    "optimizer = torch.optim.Adam(model.parameters(), lr=learning_rate)\n",
    "##optimizer = torch.optim.SGD(model.parameters(), lr=learning_rate)"
   ]
  },
  {
   "cell_type": "code",
   "execution_count": 13,
   "metadata": {
    "scrolled": false
   },
   "outputs": [
    {
     "name": "stdout",
     "output_type": "stream",
     "text": [
      "output =  ML/22Jan_DDplus_loss_Ba_iter14_floatAll_60epochs_1p5em5_4xwill\n",
      "for model_dict\n",
      "index, k =   0    layer1.weight\n",
      "index, k =   1    layer1.bias\n",
      "index, k =   2    layer2.weight\n",
      "index, k =   3    layer2.bias\n",
      "index, k =   4    layer3.weight\n",
      "index, k =   5    layer3.bias\n",
      "index, k =   6    layer4.weight\n",
      "index, k =   7    layer4.bias\n",
      "index, k =   8    layer5.weight\n",
      "index, k =   9    layer5.bias\n",
      "index, k =   10    layer6.weight\n",
      "index, k =   11    layer6.bias\n",
      "index, k =   12    layer7.weight\n",
      "index, k =   13    layer7.bias\n",
      "index, k =   14    layer8.weight\n",
      "index, k =   15    layer8.bias\n",
      "index, k =   16    layer9.weight\n",
      "index, k =   17    layer9.bias\n",
      "index, k =   18    layer10.weight\n",
      "index, k =   19    layer10.bias\n",
      "index, k =   20    layer11.weight\n",
      "index, k =   21    layer11.bias\n",
      "index, k =   22    layer12new.weight\n",
      "index, k =   23    layer12new.bias\n",
      "index, k =   24    conv1.weight\n",
      "index, k =   25    conv1.bias\n",
      "index, k =   26    conv2.weight\n",
      "index, k =   27    conv2.bias\n",
      "index, k =   28    fc1.weight\n",
      "index, k =   29    fc1.bias\n",
      "index, k =   30    finalFilter.weight\n",
      "index, k =   31    finalFilter.bias\n",
      "dict_name =  ML/21Jan_DDplus_loss_Ba_iter13_floatAll_60epochs_1p5em5_4xwill/21Jan_DDplus_loss_Ba_iter13_floatAll_60epochs_1p5em5_4xwill_final.pyt\n",
      " \n",
      "  for pretrained_dict\n",
      "index, k =   0    layer1.weight\n",
      "index, k =   1    layer1.bias\n",
      "index, k =   2    layer2.weight\n",
      "index, k =   3    layer2.bias\n",
      "index, k =   4    layer3.weight\n",
      "index, k =   5    layer3.bias\n",
      "index, k =   6    layer4.weight\n",
      "index, k =   7    layer4.bias\n",
      "index, k =   8    layer5.weight\n",
      "index, k =   9    layer5.bias\n",
      "index, k =   10    layer6.weight\n",
      "index, k =   11    layer6.bias\n",
      "index, k =   12    layer7.weight\n",
      "index, k =   13    layer7.bias\n",
      "index, k =   14    layer8.weight\n",
      "index, k =   15    layer8.bias\n",
      "index, k =   16    layer9.weight\n",
      "index, k =   17    layer9.bias\n",
      "index, k =   18    layer10.weight\n",
      "index, k =   19    layer10.bias\n",
      "index, k =   20    layer11.weight\n",
      "index, k =   21    layer11.bias\n",
      "index, k =   22    layer12new.weight\n",
      "index, k =   23    layer12new.bias\n",
      "index, k =   24    conv1.weight\n",
      "index, k =   25    conv1.bias\n",
      "index, k =   26    conv2.weight\n",
      "index, k =   27    conv2.bias\n",
      "index, k =   28    fc1.weight\n",
      "index, k =   29    fc1.bias\n",
      "index, k =   30    finalFilter.weight\n",
      "index, k =   31    finalFilter.bias\n",
      "pretrained_dict iterated\n"
     ]
    },
    {
     "data": {
      "text/plain": [
       "<All keys matched successfully>"
      ]
     },
     "execution_count": 13,
     "metadata": {},
     "output_type": "execute_result"
    }
   ],
   "source": [
    "print('output = ',output)\n",
    "##print('oldOutput = ',oldOutput)\n",
    "##  use the first four layers from a pre-existing model\n",
    "##  see example at https://discuss.pytorch.org/t/how-to-load-part-of-pre-trained-model/1113\n",
    "\n",
    "##   ML -> /share/lazy/sokoloff/ML\n",
    "model_dict = model.state_dict()\n",
    "## mds 190725 for debugging\n",
    "print(\"for model_dict\")\n",
    "index = 0\n",
    "for k,v in model_dict.items():\n",
    "    print(\"index, k =  \",index,\"  \",k)\n",
    "    index = index+1\n",
    "##    print(\"value = \", v)\n",
    " \n",
    "updated_dict = model_dict\n",
    "##print(\"updated_dict = \",updated_dict)\n",
    "## when starting \"ab initio\", reduce biases as the bias gets summed for each track\n",
    "## contributing to the predicted KDE\n",
    "updated_dict[\"layer1.bias\"] = 0.005*model_dict[\"layer1.bias\"]\n",
    "updated_dict[\"layer2.bias\"] = 0.005*model_dict[\"layer2.bias\"]\n",
    "updated_dict[\"layer3.bias\"] = 0.005*model_dict[\"layer3.bias\"]\n",
    "updated_dict[\"layer4.bias\"] = 0.005*model_dict[\"layer4.bias\"]\n",
    "updated_dict[\"layer5.bias\"] = 0.005*model_dict[\"layer5.bias\"]\n",
    "updated_dict[\"layer6.bias\"] = 0.005*model_dict[\"layer6.bias\"]\n",
    "updated_dict[\"layer7.bias\"] = 0.005*model_dict[\"layer7.bias\"]\n",
    "updated_dict[\"layer8.bias\"] = 0.005*model_dict[\"layer8.bias\"]\n",
    "updated_dict[\"layer9.bias\"] = 0.005*model_dict[\"layer9.bias\"]\n",
    "updated_dict[\"layer10.bias\"] = 0.005*model_dict[\"layer10.bias\"]\n",
    "updated_dict[\"layer11.bias\"] = 0.005*model_dict[\"layer11.bias\"]\n",
    "\n",
    "model.load_state_dict(updated_dict,strict=False)\n",
    "\n",
    "model_dict = model.state_dict()\n",
    "##print(\"updated model_dict = \",model_dict)\n",
    "\n",
    "## print(\" \\n\",\"  for pretrained_dict\")\n",
    "## index = 0\n",
    "##for k,v in pretrained_dict.items():\n",
    "##    print(\"index, k =  \",index,\"  \",k)\n",
    "##    index = index+1\n",
    "## mds  \n",
    "\n",
    "##pretrained_dict = torch.load('ML/29July2020_Trks_to_KDE_C_lossB_100epochs_b64_1m3_nOut_50x50/29July2020_Trks_to_KDE_C_lossB_100epochs_b64_1m3_nOut_50x50_final.pyt')\n",
    "##print(\"model_dict instantiated\")\n",
    "# 1. filter out unnecessary keys\n",
    "##pretrained_dict = {k: v for k, v in pretrained_dict.items() if k in model_dict}\n",
    "##print(\"pretrained_dict iterated\")\n",
    "# 2. overwrite entries in the existing state dict\n",
    "##model_dict.update(pretrained_dict) \n",
    "##\n",
    "#   when starting from a model with a fully connected last layer rather than a convolutional layer\n",
    "# 3. load the new state dict\n",
    "#   need to use strict=False as the two models state model attributes do not agree exactly\n",
    "#   see https://pytorch.org/docs/master/_modules/torch/nn/modules/module.html#Module.load_state_dict\n",
    "\n",
    "##model.load_state_dict(pretrained_dict,strict=False)\n",
    "\n",
    "## print('model_dict =    ', model_dict)\n",
    "\n",
    "## finished at training cost = 1.46, validation cost = 1.50\n",
    "##d_folder = '25December__DDplus_loss_Ba_iter7_floatAll_800epochs_4em6'\n",
    "d_folder = '21Jan_DDplus_loss_Ba_iter13_floatAll_60epochs_1p5em5_4xwill'\n",
    "d_name = d_folder\n",
    "suffix = 'final'\n",
    "dict_name = 'ML/' + d_folder + '/' + d_name + '_'+ suffix + '.pyt'\n",
    "print('dict_name = ',dict_name)\n",
    "pretrained_dict = torch.load(dict_name)\n",
    "\n",
    "print(\" \")\n",
    "print(\"  for pretrained_dict\")\n",
    "index = 0\n",
    "for k,v in pretrained_dict.items():\n",
    "    print(\"index, k =  \",index,\"  \",k)\n",
    "    index = index+1\n",
    " \n",
    "\n",
    "##print(\"model_dict instantiated\")\n",
    "# 1. filter out unnecessary keys\n",
    "pretrained_dict = {k: v for k, v in pretrained_dict.items() if k in model_dict}\n",
    "print(\"pretrained_dict iterated\")\n",
    "# 2. overwrite entries in the existing state dict\n",
    "model_dict.update(pretrained_dict) \n",
    "##\n",
    "#   when starting from a model with a fully connected last layer rather than a convolutional layer\n",
    "# 3. load the new state dict\n",
    "#   need to use strict=False as the two models state model attributes do not agree exactly\n",
    "#   see https://pytorch.org/docs/master/_modules/torch/nn/modules/module.html#Module.load_state_dict\n",
    "\n",
    "model.load_state_dict(pretrained_dict,strict=False)\n",
    "\n"
   ]
  },
  {
   "cell_type": "code",
   "execution_count": 14,
   "metadata": {},
   "outputs": [],
   "source": [
    "##print('validation.dataset.tensors = ',validation.dataset.tensors)\n",
    "fig_size = plt.rcParams[\"figure.figsize\"]\n",
    "fig_size[0] = 10\n",
    "fig_size[1] = 4\n",
    "plt.rcParams[\"figure.figsize\"] = fig_size"
   ]
  },
  {
   "cell_type": "code",
   "execution_count": 15,
   "metadata": {
    "scrolled": false
   },
   "outputs": [
    {
     "name": "stdout",
     "output_type": "stream",
     "text": [
      "Loading data...\n",
      "pocaMx.shape =  (80000,)\n",
      "nEvts =  80000\n",
      "len(pocaMx[0]) =  199\n",
      "len(pocaMx[1]) =  25\n",
      "len(pocaMx[2]) =  369\n",
      "len(pocaMx[3]) =  143\n",
      "len(pocaMx[4]) =  160\n",
      "majorAxis.shape =  (80000, 3)\n",
      "minorAxis_1.shape =  (80000, 3)\n",
      "minorAxis_2.shape =  (80000, 3)\n",
      "have entered six_ellipsoid_parameters\n",
      "  \n",
      " \n",
      "  nEvts =  80000\n",
      " iEvt, nTrks =  0 199\n",
      " iEvt, nTrks =  1 25\n",
      " iEvt, nTrks =  2 369\n",
      " iEvt, nTrks =  3 143\n",
      " iEvt, nTrks =  4 160\n",
      " iEvt, nTrks =  5 260\n",
      " iEvt, nTrks =  6 237\n",
      " iEvt, nTrks =  7 327\n",
      " iEvt, nTrks =  8 178\n",
      " iEvt, nTrks =  9 106\n",
      "A.shape =  (80000,)\n",
      "majorAxis[iTrk][0][0] =  0.00045611936\n",
      "majorAxis[iTrk][1][0] =  -4.8292455e-05\n",
      "majorAxis[iTrk][2][0] =  0.090019904\n",
      "minorAxis_1[iTrk][0][0] =  -1.8602173\n",
      "minorAxis_1[iTrk][1][0] =  -17.569641\n",
      "minorAxis_1[iTrk][2][0] =  4.7891795e-08\n",
      "minorAxis_2[iTrk][0][0] =  -17.569414\n",
      "minorAxis_2[iTrk][1][0] =  1.8601931\n",
      "minorAxis_2[iTrk][2][0] =  0.0900199\n",
      "  \n",
      "majorAxis[iTrk][0][0] =  0.002360258\n",
      "majorAxis[iTrk][1][0] =  -0.007426616\n",
      "majorAxis[iTrk][2][0] =  0.3710108\n",
      "minorAxis_1[iTrk][0][0] =  -16.837948\n",
      "minorAxis_1[iTrk][1][0] =  -5.3512807\n",
      "minorAxis_1[iTrk][2][0] =  8.157131e-09\n",
      "minorAxis_2[iTrk][0][0] =  -5.3501005\n",
      "minorAxis_2[iTrk][1][0] =  16.834236\n",
      "minorAxis_2[iTrk][2][0] =  0.3710108\n",
      "  \n",
      "majorAxis[iTrk][0][0] =  6.220712e-05\n",
      "majorAxis[iTrk][1][0] =  -4.4594188e-05\n",
      "majorAxis[iTrk][2][0] =  0.036773544\n",
      "minorAxis_1[iTrk][0][0] =  10.293747\n",
      "minorAxis_1[iTrk][1][0] =  14.359369\n",
      "minorAxis_1[iTrk][2][0] =  1.571041e-06\n",
      "minorAxis_2[iTrk][0][0] =  14.359338\n",
      "minorAxis_2[iTrk][1][0] =  -10.293725\n",
      "minorAxis_2[iTrk][2][0] =  -0.03677354\n",
      "  \n",
      "majorAxis[iTrk][0][0] =  0.0033452737\n",
      "majorAxis[iTrk][1][0] =  0.00013028442\n",
      "majorAxis[iTrk][2][0] =  0.2431933\n",
      "minorAxis_1[iTrk][0][0] =  0.6875674\n",
      "minorAxis_1[iTrk][1][0] =  -17.65446\n",
      "minorAxis_1[iTrk][2][0] =  -6.6602626e-09\n",
      "minorAxis_2[iTrk][0][0] =  -17.652788\n",
      "minorAxis_2[iTrk][1][0] =  -0.68750226\n",
      "minorAxis_2[iTrk][2][0] =  0.2431933\n",
      "  \n",
      "majorAxis[iTrk][0][0] =  -0.00068196515\n",
      "majorAxis[iTrk][1][0] =  -0.00044562915\n",
      "majorAxis[iTrk][2][0] =  0.119970225\n",
      "minorAxis_1[iTrk][0][0] =  9.664597\n",
      "minorAxis_1[iTrk][1][0] =  -14.790141\n",
      "minorAxis_1[iTrk][2][0] =  1.9819232e-08\n",
      "minorAxis_2[iTrk][0][0] =  -14.789802\n",
      "minorAxis_2[iTrk][1][0] =  -9.664374\n",
      "minorAxis_2[iTrk][2][0] =  -0.11997023\n",
      "  \n",
      "majorAxis[iTrk][0][0] =  -8.245073e-05\n",
      "majorAxis[iTrk][1][0] =  0.00015860004\n",
      "majorAxis[iTrk][2][0] =  0.05619731\n",
      "minorAxis_1[iTrk][0][0] =  -15.676071\n",
      "minorAxis_1[iTrk][1][0] =  -8.149452\n",
      "minorAxis_1[iTrk][2][0] =  4.1105773e-07\n",
      "minorAxis_2[iTrk][0][0] =  -8.14941\n",
      "minorAxis_2[iTrk][1][0] =  15.675991\n",
      "minorAxis_2[iTrk][2][0] =  -0.056197315\n",
      "  \n",
      "majorAxis[iTrk][0][0] =  -0.00015151131\n",
      "majorAxis[iTrk][1][0] =  0.00067339616\n",
      "majorAxis[iTrk][2][0] =  0.11042937\n",
      "minorAxis_1[iTrk][0][0] =  17.236937\n",
      "minorAxis_1[iTrk][1][0] =  3.8782384\n",
      "minorAxis_1[iTrk][2][0] =  2.3217373e-08\n",
      "minorAxis_2[iTrk][0][0] =  3.8781626\n",
      "minorAxis_2[iTrk][1][0] =  -17.236599\n",
      "minorAxis_2[iTrk][2][0] =  0.11042936\n",
      "  \n",
      "majorAxis[iTrk][0][0] =  -7.577422e-05\n",
      "majorAxis[iTrk][1][0] =  -0.00036802414\n",
      "majorAxis[iTrk][2][0] =  0.08147708\n",
      "minorAxis_1[iTrk][0][0] =  -17.304853\n",
      "minorAxis_1[iTrk][1][0] =  3.5629773\n",
      "minorAxis_1[iTrk][2][0] =  5.80501e-09\n",
      "minorAxis_2[iTrk][0][0] =  3.5629392\n",
      "minorAxis_2[iTrk][1][0] =  17.304668\n",
      "minorAxis_2[iTrk][2][0] =  0.081477076\n",
      "  \n",
      "majorAxis[iTrk][0][0] =  0.00013397264\n",
      "majorAxis[iTrk][1][0] =  0.00094400026\n",
      "majorAxis[iTrk][2][0] =  0.12978876\n",
      "minorAxis_1[iTrk][0][0] =  17.492561\n",
      "minorAxis_1[iTrk][1][0] =  -2.4825466\n",
      "minorAxis_1[iTrk][2][0] =  1.1329301e-08\n",
      "minorAxis_2[iTrk][0][0] =  -2.4824798\n",
      "minorAxis_2[iTrk][1][0] =  -17.492088\n",
      "minorAxis_2[iTrk][2][0] =  0.12978874\n",
      "  \n",
      "majorAxis[iTrk][0][0] =  0.00043501743\n",
      "majorAxis[iTrk][1][0] =  -0.0016521378\n",
      "majorAxis[iTrk][2][0] =  0.17373301\n",
      "minorAxis_1[iTrk][0][0] =  -17.0855\n",
      "minorAxis_1[iTrk][1][0] =  -4.4987106\n",
      "minorAxis_1[iTrk][2][0] =  -7.7275175e-08\n",
      "minorAxis_2[iTrk][0][0] =  -4.4984937\n",
      "minorAxis_2[iTrk][1][0] =  17.084677\n",
      "minorAxis_2[iTrk][2][0] =  0.17373303\n",
      "  \n",
      "len(X) =  80000\n",
      "len(Xlist) =  1\n",
      "Loaded /share/lazy/will/data/June30_2020_80k_1.h5 in 151.1 s\n",
      "pocaMx.shape =  (80000,)\n",
      "nEvts =  80000\n",
      "len(pocaMx[0]) =  222\n",
      "len(pocaMx[1]) =  133\n",
      "len(pocaMx[2]) =  259\n",
      "len(pocaMx[3]) =  114\n",
      "len(pocaMx[4]) =  143\n",
      "majorAxis.shape =  (80000, 3)\n",
      "minorAxis_1.shape =  (80000, 3)\n",
      "minorAxis_2.shape =  (80000, 3)\n",
      "have entered six_ellipsoid_parameters\n",
      "  \n",
      " \n",
      "  nEvts =  80000\n",
      " iEvt, nTrks =  0 222\n",
      " iEvt, nTrks =  1 133\n",
      " iEvt, nTrks =  2 259\n",
      " iEvt, nTrks =  3 114\n",
      " iEvt, nTrks =  4 143\n",
      " iEvt, nTrks =  5 136\n",
      " iEvt, nTrks =  6 397\n",
      " iEvt, nTrks =  7 370\n",
      " iEvt, nTrks =  8 97\n",
      " iEvt, nTrks =  9 67\n",
      "A.shape =  (80000,)\n",
      "majorAxis[iTrk][0][0] =  -0.001036478\n",
      "majorAxis[iTrk][1][0] =  0.0009833863\n",
      "majorAxis[iTrk][2][0] =  0.15887721\n",
      "minorAxis_1[iTrk][0][0] =  -12.160475\n",
      "minorAxis_1[iTrk][1][0] =  -12.817002\n",
      "minorAxis_1[iTrk][2][0] =  0.0\n",
      "minorAxis_2[iTrk][0][0] =  -12.816484\n",
      "minorAxis_2[iTrk][1][0] =  12.159985\n",
      "minorAxis_2[iTrk][2][0] =  -0.15887721\n",
      "  \n",
      "majorAxis[iTrk][0][0] =  0.0016579849\n",
      "majorAxis[iTrk][1][0] =  0.0020989499\n",
      "majorAxis[iTrk][2][0] =  0.21738033\n",
      "minorAxis_1[iTrk][0][0] =  -13.864233\n",
      "minorAxis_1[iTrk][1][0] =  10.95152\n",
      "minorAxis_1[iTrk][2][0] =  -3.3017489e-09\n",
      "minorAxis_2[iTrk][0][0] =  10.95069\n",
      "minorAxis_2[iTrk][1][0] =  13.863184\n",
      "minorAxis_2[iTrk][2][0] =  -0.21738033\n",
      "  \n",
      "majorAxis[iTrk][0][0] =  0.00012481198\n",
      "majorAxis[iTrk][1][0] =  -0.00028747538\n",
      "majorAxis[iTrk][2][0] =  0.07441149\n",
      "minorAxis_1[iTrk][0][0] =  -16.206305\n",
      "minorAxis_1[iTrk][1][0] =  -7.036224\n",
      "minorAxis_1[iTrk][2][0] =  5.3456716e-08\n",
      "minorAxis_2[iTrk][0][0] =  -7.0361605\n",
      "minorAxis_2[iTrk][1][0] =  16.20616\n",
      "minorAxis_2[iTrk][2][0] =  0.07441148\n",
      "  \n",
      "majorAxis[iTrk][0][0] =  -0.007920195\n",
      "majorAxis[iTrk][1][0] =  -0.009694931\n",
      "majorAxis[iTrk][2][0] =  0.47021532\n",
      "minorAxis_1[iTrk][0][0] =  -13.682467\n",
      "minorAxis_1[iTrk][1][0] =  11.177781\n",
      "minorAxis_1[iTrk][2][0] =  1.8638048e-10\n",
      "minorAxis_2[iTrk][0][0] =  11.173822\n",
      "minorAxis_2[iTrk][1][0] =  13.677622\n",
      "minorAxis_2[iTrk][2][0] =  0.47021535\n",
      "  \n",
      "majorAxis[iTrk][0][0] =  0.00038854493\n",
      "majorAxis[iTrk][1][0] =  0.0009230774\n",
      "majorAxis[iTrk][2][0] =  0.13301943\n",
      "minorAxis_1[iTrk][0][0] =  -16.284061\n",
      "minorAxis_1[iTrk][1][0] =  6.854344\n",
      "minorAxis_1[iTrk][2][0] =  2.2469074e-07\n",
      "minorAxis_2[iTrk][0][0] =  6.8541493\n",
      "minorAxis_2[iTrk][1][0] =  16.283602\n",
      "minorAxis_2[iTrk][2][0] =  -0.13301945\n",
      "  \n",
      "majorAxis[iTrk][0][0] =  -5.6093595e-05\n",
      "majorAxis[iTrk][1][0] =  0.000114469876\n",
      "majorAxis[iTrk][2][0] =  0.04745733\n",
      "minorAxis_1[iTrk][0][0] =  15.865369\n",
      "minorAxis_1[iTrk][1][0] =  7.774496\n",
      "minorAxis_1[iTrk][2][0] =  1.8465234e-06\n",
      "minorAxis_2[iTrk][0][0] =  7.774468\n",
      "minorAxis_2[iTrk][1][0] =  -15.865313\n",
      "minorAxis_2[iTrk][2][0] =  0.04745733\n",
      "  \n",
      "majorAxis[iTrk][0][0] =  9.375396e-05\n",
      "majorAxis[iTrk][1][0] =  0.0002926058\n",
      "majorAxis[iTrk][2][0] =  0.07367872\n",
      "minorAxis_1[iTrk][0][0] =  -16.825275\n",
      "minorAxis_1[iTrk][1][0] =  5.390994\n",
      "minorAxis_1[iTrk][2][0] =  -2.1861728e-08\n",
      "minorAxis_2[iTrk][0][0] =  5.3909473\n",
      "minorAxis_2[iTrk][1][0] =  16.825129\n",
      "minorAxis_2[iTrk][2][0] =  -0.07367872\n",
      "  \n",
      "majorAxis[iTrk][0][0] =  -1.1543522e-06\n",
      "majorAxis[iTrk][1][0] =  2.8112001e-05\n",
      "majorAxis[iTrk][2][0] =  0.022295665\n",
      "minorAxis_1[iTrk][0][0] =  -17.652967\n",
      "minorAxis_1[iTrk][1][0] =  -0.7248769\n",
      "minorAxis_1[iTrk][2][0] =  1.7815448e-07\n",
      "minorAxis_2[iTrk][0][0] =  -0.7248763\n",
      "minorAxis_2[iTrk][1][0] =  17.652954\n",
      "minorAxis_2[iTrk][2][0] =  -0.022295661\n",
      "  \n",
      "majorAxis[iTrk][0][0] =  -0.2612214\n",
      "majorAxis[iTrk][1][0] =  0.83076316\n",
      "majorAxis[iTrk][2][0] =  3.8745012\n",
      "minorAxis_1[iTrk][0][0] =  -16.85429\n",
      "minorAxis_1[iTrk][1][0] =  -5.299587\n",
      "minorAxis_1[iTrk][2][0] =  2.0865195e-11\n",
      "minorAxis_2[iTrk][0][0] =  -5.1705856\n",
      "minorAxis_2[iTrk][1][0] =  16.444027\n",
      "minorAxis_2[iTrk][2][0] =  -3.874501\n",
      "  \n",
      "majorAxis[iTrk][0][0] =  -0.057592034\n",
      "majorAxis[iTrk][1][0] =  0.06503555\n",
      "majorAxis[iTrk][2][0] =  1.2373537\n",
      "minorAxis_1[iTrk][0][0] =  13.227038\n",
      "minorAxis_1[iTrk][1][0] =  11.713163\n",
      "minorAxis_1[iTrk][2][0] =  1.7679876e-10\n",
      "minorAxis_2[iTrk][0][0] =  11.684402\n",
      "minorAxis_2[iTrk][1][0] =  -13.194561\n",
      "minorAxis_2[iTrk][2][0] =  1.2373537\n",
      "  \n",
      "len(X) =  80000\n",
      "len(Xlist) =  2\n",
      "Loaded /share/lazy/will/data/June30_2020_80k_2.h5 in 150.5 s\n",
      "pocaMx.shape =  (80000,)\n"
     ]
    },
    {
     "name": "stdout",
     "output_type": "stream",
     "text": [
      "nEvts =  80000\n",
      "len(pocaMx[0]) =  196\n",
      "len(pocaMx[1]) =  35\n",
      "len(pocaMx[2]) =  265\n",
      "len(pocaMx[3]) =  128\n",
      "len(pocaMx[4]) =  124\n",
      "majorAxis.shape =  (80000, 3)\n",
      "minorAxis_1.shape =  (80000, 3)\n",
      "minorAxis_2.shape =  (80000, 3)\n",
      "have entered six_ellipsoid_parameters\n",
      "  \n",
      " \n",
      "  nEvts =  80000\n",
      " iEvt, nTrks =  0 196\n",
      " iEvt, nTrks =  1 35\n",
      " iEvt, nTrks =  2 265\n",
      " iEvt, nTrks =  3 128\n",
      " iEvt, nTrks =  4 124\n",
      " iEvt, nTrks =  5 122\n",
      " iEvt, nTrks =  6 300\n",
      " iEvt, nTrks =  7 179\n",
      " iEvt, nTrks =  8 243\n",
      " iEvt, nTrks =  9 112\n",
      "A.shape =  (80000,)\n",
      "majorAxis[iTrk][0][0] =  -2.440992e-05\n",
      "majorAxis[iTrk][1][0] =  -0.00038087237\n",
      "majorAxis[iTrk][2][0] =  0.08211532\n",
      "minorAxis_1[iTrk][0][0] =  -17.631672\n",
      "minorAxis_1[iTrk][1][0] =  1.130005\n",
      "minorAxis_1[iTrk][2][0] =  4.7444193e-08\n",
      "minorAxis_2[iTrk][0][0] =  1.1299927\n",
      "minorAxis_2[iTrk][1][0] =  17.631481\n",
      "minorAxis_2[iTrk][2][0] =  0.08211532\n",
      "  \n",
      "majorAxis[iTrk][0][0] =  -0.02277395\n",
      "majorAxis[iTrk][1][0] =  0.0014473597\n",
      "majorAxis[iTrk][2][0] =  0.6347583\n",
      "minorAxis_1[iTrk][0][0] =  -1.1205891\n",
      "minorAxis_1[iTrk][1][0] =  -17.632273\n",
      "minorAxis_1[iTrk][2][0] =  2.1543272e-09\n",
      "minorAxis_2[iTrk][0][0] =  -17.620888\n",
      "minorAxis_2[iTrk][1][0] =  1.1198657\n",
      "minorAxis_2[iTrk][2][0] =  -0.63475823\n",
      "  \n",
      "majorAxis[iTrk][0][0] =  0.0004024825\n",
      "majorAxis[iTrk][1][0] =  -0.00023784715\n",
      "majorAxis[iTrk][2][0] =  0.090883136\n",
      "minorAxis_1[iTrk][0][0] =  -8.988615\n",
      "minorAxis_1[iTrk][1][0] =  -15.210441\n",
      "minorAxis_1[iTrk][2][0] =  -6.56547e-08\n",
      "minorAxis_2[iTrk][0][0] =  -15.21024\n",
      "minorAxis_2[iTrk][1][0] =  8.988497\n",
      "minorAxis_2[iTrk][2][0] =  0.090883136\n",
      "  \n",
      "majorAxis[iTrk][0][0] =  0.0068744724\n",
      "majorAxis[iTrk][1][0] =  0.0017050834\n",
      "majorAxis[iTrk][2][0] =  0.3537121\n",
      "minorAxis_1[iTrk][0][0] =  4.2532983\n",
      "minorAxis_1[iTrk][1][0] =  -17.148241\n",
      "minorAxis_1[iTrk][2][0] =  1.1939819e-09\n",
      "minorAxis_2[iTrk][0][0] =  -17.144806\n",
      "minorAxis_2[iTrk][1][0] =  -4.252446\n",
      "minorAxis_2[iTrk][2][0] =  0.3537121\n",
      "  \n",
      "majorAxis[iTrk][0][0] =  -0.004920899\n",
      "majorAxis[iTrk][1][0] =  0.0009170567\n",
      "majorAxis[iTrk][2][0] =  0.2973651\n",
      "minorAxis_1[iTrk][0][0] =  -3.236844\n",
      "minorAxis_1[iTrk][1][0] =  -17.36881\n",
      "minorAxis_1[iTrk][2][0] =  -4.7397712e-09\n",
      "minorAxis_2[iTrk][0][0] =  -17.36635\n",
      "minorAxis_2[iTrk][1][0] =  3.2363856\n",
      "minorAxis_2[iTrk][2][0] =  -0.29736507\n",
      "  \n",
      "majorAxis[iTrk][0][0] =  -0.0001240533\n",
      "majorAxis[iTrk][1][0] =  0.00033394952\n",
      "majorAxis[iTrk][2][0] =  0.079335004\n",
      "minorAxis_1[iTrk][0][0] =  -16.562042\n",
      "minorAxis_1[iTrk][1][0] =  -6.1523557\n",
      "minorAxis_1[iTrk][2][0] =  3.1261713e-08\n",
      "minorAxis_2[iTrk][0][0] =  -6.1522937\n",
      "minorAxis_2[iTrk][1][0] =  16.561876\n",
      "minorAxis_2[iTrk][2][0] =  -0.079335004\n",
      "  \n",
      "majorAxis[iTrk][0][0] =  0.00010132754\n",
      "majorAxis[iTrk][1][0] =  6.684385e-05\n",
      "majorAxis[iTrk][2][0] =  0.046310693\n",
      "minorAxis_1[iTrk][0][0] =  -9.728917\n",
      "minorAxis_1[iTrk][1][0] =  14.747911\n",
      "minorAxis_1[iTrk][2][0] =  -2.3591362e-07\n",
      "minorAxis_2[iTrk][0][0] =  14.74786\n",
      "minorAxis_2[iTrk][1][0] =  9.728883\n",
      "minorAxis_2[iTrk][2][0] =  -0.04631069\n",
      "  \n",
      "majorAxis[iTrk][0][0] =  0.0042806785\n",
      "majorAxis[iTrk][1][0] =  0.004939851\n",
      "majorAxis[iTrk][2][0] =  0.3398017\n",
      "minorAxis_1[iTrk][0][0] =  13.3521\n",
      "minorAxis_1[iTrk][1][0] =  -11.5704\n",
      "minorAxis_1[iTrk][2][0] =  1.21654296e-08\n",
      "minorAxis_2[iTrk][0][0] =  -11.56826\n",
      "minorAxis_2[iTrk][1][0] =  -13.349631\n",
      "minorAxis_2[iTrk][2][0] =  0.33980173\n",
      "  \n",
      "majorAxis[iTrk][0][0] =  -0.00013103899\n",
      "majorAxis[iTrk][1][0] =  -0.0006021903\n",
      "majorAxis[iTrk][2][0] =  0.10434653\n",
      "minorAxis_1[iTrk][0][0] =  -17.26384\n",
      "minorAxis_1[iTrk][1][0] =  3.7566798\n",
      "minorAxis_1[iTrk][2][0] =  -9.616703e-08\n",
      "minorAxis_2[iTrk][0][0] =  3.7566135\n",
      "minorAxis_2[iTrk][1][0] =  17.263535\n",
      "minorAxis_2[iTrk][2][0] =  0.10434652\n",
      "  \n",
      "majorAxis[iTrk][0][0] =  0.0016481678\n",
      "majorAxis[iTrk][1][0] =  -0.0019788505\n",
      "majorAxis[iTrk][2][0] =  0.21330062\n",
      "minorAxis_1[iTrk][0][0] =  -13.575765\n",
      "minorAxis_1[iTrk][1][0] =  -11.307139\n",
      "minorAxis_1[iTrk][2][0] =  8.543098e-09\n",
      "minorAxis_2[iTrk][0][0] =  -11.306314\n",
      "minorAxis_2[iTrk][1][0] =  13.574774\n",
      "minorAxis_2[iTrk][2][0] =  0.21330062\n",
      "  \n",
      "len(X) =  80000\n",
      "len(Xlist) =  3\n",
      "Loaded /share/lazy/will/data/June30_2020_80k_3.h5 in 152.3 s\n",
      "pocaMx.shape =  (80000,)\n",
      "nEvts =  80000\n",
      "len(pocaMx[0]) =  204\n",
      "len(pocaMx[1]) =  33\n",
      "len(pocaMx[2]) =  206\n",
      "len(pocaMx[3]) =  150\n",
      "len(pocaMx[4]) =  96\n",
      "majorAxis.shape =  (80000, 3)\n",
      "minorAxis_1.shape =  (80000, 3)\n",
      "minorAxis_2.shape =  (80000, 3)\n",
      "have entered six_ellipsoid_parameters\n",
      "  \n",
      " \n",
      "  nEvts =  80000\n",
      " iEvt, nTrks =  0 204\n",
      " iEvt, nTrks =  1 33\n",
      " iEvt, nTrks =  2 206\n",
      " iEvt, nTrks =  3 150\n",
      " iEvt, nTrks =  4 96\n",
      " iEvt, nTrks =  5 10\n",
      " iEvt, nTrks =  6 174\n",
      " iEvt, nTrks =  7 320\n",
      " iEvt, nTrks =  8 164\n",
      " iEvt, nTrks =  9 119\n",
      "A.shape =  (80000,)\n",
      "majorAxis[iTrk][0][0] =  0.00057876867\n",
      "majorAxis[iTrk][1][0] =  0.00037603904\n",
      "majorAxis[iTrk][2][0] =  0.110427074\n",
      "minorAxis_1[iTrk][0][0] =  9.62588\n",
      "minorAxis_1[iTrk][1][0] =  -14.81537\n",
      "minorAxis_1[iTrk][2][0] =  8.391163e-09\n",
      "minorAxis_2[iTrk][0][0] =  -14.815081\n",
      "minorAxis_2[iTrk][1][0] =  -9.625692\n",
      "minorAxis_2[iTrk][2][0] =  0.11042709\n",
      "  \n",
      "majorAxis[iTrk][0][0] =  -7.687664e-05\n",
      "majorAxis[iTrk][1][0] =  -0.0017985329\n",
      "majorAxis[iTrk][2][0] =  0.17833562\n",
      "minorAxis_1[iTrk][0][0] =  -17.651728\n",
      "minorAxis_1[iTrk][1][0] =  0.7545069\n",
      "minorAxis_1[iTrk][2][0] =  -7.932265e-09\n",
      "minorAxis_2[iTrk][0][0] =  0.75446844\n",
      "minorAxis_2[iTrk][1][0] =  17.650827\n",
      "minorAxis_2[iTrk][2][0] =  0.17833562\n",
      "  \n",
      "majorAxis[iTrk][0][0] =  4.5855802e-05\n",
      "majorAxis[iTrk][1][0] =  -0.00054240844\n",
      "majorAxis[iTrk][2][0] =  0.098067455\n",
      "minorAxis_1[iTrk][0][0] =  17.605043\n",
      "minorAxis_1[iTrk][1][0] =  1.4883496\n",
      "minorAxis_1[iTrk][2][0] =  -2.7847218e-08\n",
      "minorAxis_2[iTrk][0][0] =  1.4883265\n",
      "minorAxis_2[iTrk][1][0] =  -17.604773\n",
      "minorAxis_2[iTrk][2][0] =  -0.098067455\n",
      "  \n",
      "majorAxis[iTrk][0][0] =  -0.0013144773\n",
      "majorAxis[iTrk][1][0] =  0.0008680699\n",
      "majorAxis[iTrk][2][0] =  0.16682307\n",
      "minorAxis_1[iTrk][0][0] =  -9.736217\n",
      "minorAxis_1[iTrk][1][0] =  -14.743094\n",
      "minorAxis_1[iTrk][2][0] =  -1.7552136e-08\n",
      "minorAxis_2[iTrk][0][0] =  -14.742435\n",
      "minorAxis_2[iTrk][1][0] =  9.735782\n",
      "minorAxis_2[iTrk][2][0] =  -0.16682304\n",
      "  \n",
      "majorAxis[iTrk][0][0] =  0.032227762\n",
      "majorAxis[iTrk][1][0] =  0.007741693\n",
      "majorAxis[iTrk][2][0] =  0.76488173\n",
      "minorAxis_1[iTrk][0][0] =  -4.1267405\n",
      "minorAxis_1[iTrk][1][0] =  17.179138\n",
      "minorAxis_1[iTrk][2][0] =  -2.3529467e-10\n",
      "minorAxis_2[iTrk][0][0] =  17.16303\n",
      "minorAxis_2[iTrk][1][0] =  4.122871\n",
      "minorAxis_2[iTrk][2][0] =  -0.7648817\n",
      "  \n",
      "majorAxis[iTrk][0][0] =  1.9753945\n",
      "majorAxis[iTrk][1][0] =  2.5669005\n",
      "majorAxis[iTrk][2][0] =  7.226382\n",
      "minorAxis_1[iTrk][0][0] =  14.0017\n",
      "minorAxis_1[iTrk][1][0] =  -10.7752075\n",
      "minorAxis_1[iTrk][2][0] =  5.3286344e-11\n",
      "minorAxis_2[iTrk][0][0] =  -9.832683\n",
      "minorAxis_2[iTrk][1][0] =  -12.776951\n",
      "minorAxis_2[iTrk][2][0] =  7.226381\n",
      "  \n",
      "majorAxis[iTrk][0][0] =  -0.0026900356\n",
      "majorAxis[iTrk][1][0] =  -0.0015841618\n",
      "majorAxis[iTrk][2][0] =  0.234843\n",
      "minorAxis_1[iTrk][0][0] =  -8.965469\n",
      "minorAxis_1[iTrk][1][0] =  15.224096\n",
      "minorAxis_1[iTrk][2][0] =  2.8236277e-08\n",
      "minorAxis_2[iTrk][0][0] =  15.222751\n",
      "minorAxis_2[iTrk][1][0] =  8.964677\n",
      "minorAxis_2[iTrk][2][0] =  0.234843\n",
      "  \n",
      "majorAxis[iTrk][0][0] =  -0.0001692281\n",
      "majorAxis[iTrk][1][0] =  0.0003505444\n",
      "majorAxis[iTrk][2][0] =  0.08292902\n",
      "minorAxis_1[iTrk][0][0] =  -15.910811\n",
      "minorAxis_1[iTrk][1][0] =  -7.68107\n",
      "minorAxis_1[iTrk][2][0] =  1.587002e-08\n",
      "minorAxis_2[iTrk][0][0] =  -7.680986\n",
      "minorAxis_2[iTrk][1][0] =  15.910635\n",
      "minorAxis_2[iTrk][2][0] =  -0.08292903\n",
      "  \n",
      "majorAxis[iTrk][0][0] =  0.0017714669\n",
      "majorAxis[iTrk][1][0] =  -0.001515166\n",
      "majorAxis[iTrk][2][0] =  0.20293355\n",
      "minorAxis_1[iTrk][0][0] =  11.483943\n",
      "minorAxis_1[iTrk][1][0] =  13.426532\n",
      "minorAxis_1[iTrk][2][0] =  -2.7840934e-09\n",
      "minorAxis_2[iTrk][0][0] =  13.425648\n",
      "minorAxis_2[iTrk][1][0] =  -11.483187\n",
      "minorAxis_2[iTrk][2][0] =  -0.20293356\n",
      "  \n",
      "majorAxis[iTrk][0][0] =  0.0006359923\n",
      "majorAxis[iTrk][1][0] =  -0.0003371759\n",
      "majorAxis[iTrk][2][0] =  0.112773284\n",
      "minorAxis_1[iTrk][0][0] =  8.275655\n",
      "minorAxis_1[iTrk][1][0] =  15.609813\n",
      "minorAxis_1[iTrk][2][0] =  -5.6373224e-08\n",
      "minorAxis_2[iTrk][0][0] =  15.609494\n",
      "minorAxis_2[iTrk][1][0] =  -8.275486\n",
      "minorAxis_2[iTrk][2][0] =  -0.11277328\n",
      "  \n",
      "len(X) =  80000\n",
      "len(Xlist) =  4\n",
      "Loaded /share/lazy/will/data/June30_2020_80k_4.h5 in 151.9 s\n",
      "outer loop X.shape =  (320000, 9, 600)\n",
      "Constructing 320000 event dataset took 2.169 s\n",
      "x_t.shape =  torch.Size([320000, 9, 600])\n",
      "x_t.shape[0] =  320000\n",
      "x_t.shape[1] =  9\n",
      "x_t.shape =  torch.Size([320000, 9, 600])\n",
      "Loading data...\n"
     ]
    },
    {
     "name": "stdout",
     "output_type": "stream",
     "text": [
      "pocaMx.shape =  (20000,)\n",
      "nEvts =  20000\n",
      "len(pocaMx[0]) =  211\n",
      "len(pocaMx[1]) =  21\n",
      "len(pocaMx[2]) =  20\n",
      "len(pocaMx[3]) =  198\n",
      "len(pocaMx[4]) =  233\n",
      "majorAxis.shape =  (20000, 3)\n",
      "minorAxis_1.shape =  (20000, 3)\n",
      "minorAxis_2.shape =  (20000, 3)\n",
      "have entered six_ellipsoid_parameters\n",
      "  \n",
      " \n",
      "  nEvts =  20000\n",
      " iEvt, nTrks =  0 211\n",
      " iEvt, nTrks =  1 21\n",
      " iEvt, nTrks =  2 20\n",
      " iEvt, nTrks =  3 198\n",
      " iEvt, nTrks =  4 233\n",
      " iEvt, nTrks =  5 85\n",
      " iEvt, nTrks =  6 223\n",
      " iEvt, nTrks =  7 425\n",
      " iEvt, nTrks =  8 252\n",
      " iEvt, nTrks =  9 169\n",
      "A.shape =  (20000,)\n",
      "majorAxis[iTrk][0][0] =  -0.00023452607\n",
      "majorAxis[iTrk][1][0] =  -0.00047206535\n",
      "majorAxis[iTrk][2][0] =  0.096502915\n",
      "minorAxis_1[iTrk][0][0] =  -15.822749\n",
      "minorAxis_1[iTrk][1][0] =  7.8608756\n",
      "minorAxis_1[iTrk][2][0] =  -2.6228399e-08\n",
      "minorAxis_2[iTrk][0][0] =  7.860759\n",
      "minorAxis_2[iTrk][1][0] =  15.822513\n",
      "minorAxis_2[iTrk][2][0] =  0.096502915\n",
      "  \n",
      "majorAxis[iTrk][0][0] =  -0.37655562\n",
      "majorAxis[iTrk][1][0] =  0.2768704\n",
      "majorAxis[iTrk][2][0] =  2.8546858\n",
      "minorAxis_1[iTrk][0][0] =  -10.466048\n",
      "minorAxis_1[iTrk][1][0] =  -14.234274\n",
      "minorAxis_1[iTrk][2][0] =  2.2974699e-11\n",
      "minorAxis_2[iTrk][0][0] =  -14.04724\n",
      "minorAxis_2[iTrk][1][0] =  10.328527\n",
      "minorAxis_2[iTrk][2][0] =  -2.8546853\n",
      "  \n",
      "majorAxis[iTrk][0][0] =  -0.024279848\n",
      "majorAxis[iTrk][1][0] =  0.0019689242\n",
      "majorAxis[iTrk][2][0] =  0.65580803\n",
      "minorAxis_1[iTrk][0][0] =  -1.4280497\n",
      "minorAxis_1[iTrk][1][0] =  -17.610037\n",
      "minorAxis_1[iTrk][2][0] =  -6.123401e-10\n",
      "minorAxis_2[iTrk][0][0] =  -17.597902\n",
      "minorAxis_2[iTrk][1][0] =  1.4270656\n",
      "minorAxis_2[iTrk][2][0] =  -0.6558081\n",
      "  \n",
      "majorAxis[iTrk][0][0] =  -0.007825993\n",
      "majorAxis[iTrk][1][0] =  0.004052097\n",
      "majorAxis[iTrk][2][0] =  0.3945435\n",
      "minorAxis_1[iTrk][0][0] =  8.123606\n",
      "minorAxis_1[iTrk][1][0] =  15.689478\n",
      "minorAxis_1[iTrk][2][0] =  -2.4940747e-10\n",
      "minorAxis_2[iTrk][0][0] =  15.685566\n",
      "minorAxis_2[iTrk][1][0] =  -8.12158\n",
      "minorAxis_2[iTrk][2][0] =  0.3945435\n",
      "  \n",
      "majorAxis[iTrk][0][0] =  0.0046102717\n",
      "majorAxis[iTrk][1][0] =  -0.0016007021\n",
      "majorAxis[iTrk][2][0] =  0.29361814\n",
      "minorAxis_1[iTrk][0][0] =  -5.794979\n",
      "minorAxis_1[iTrk][1][0] =  -16.690445\n",
      "minorAxis_1[iTrk][2][0] =  2.4897104e-09\n",
      "minorAxis_2[iTrk][0][0] =  -16.688139\n",
      "minorAxis_2[iTrk][1][0] =  5.794179\n",
      "minorAxis_2[iTrk][2][0] =  0.2936181\n",
      "  \n",
      "majorAxis[iTrk][0][0] =  -0.00020041714\n",
      "majorAxis[iTrk][1][0] =  0.00010468164\n",
      "majorAxis[iTrk][2][0] =  0.06320469\n",
      "minorAxis_1[iTrk][0][0] =  8.179679\n",
      "minorAxis_1[iTrk][1][0] =  15.660318\n",
      "minorAxis_1[iTrk][2][0] =  7.40176e-08\n",
      "minorAxis_2[iTrk][0][0] =  15.660218\n",
      "minorAxis_2[iTrk][1][0] =  -8.179626\n",
      "minorAxis_2[iTrk][2][0] =  0.06320469\n",
      "  \n",
      "majorAxis[iTrk][0][0] =  -0.00020603223\n",
      "majorAxis[iTrk][1][0] =  -0.0005662605\n",
      "majorAxis[iTrk][2][0] =  0.10317981\n",
      "minorAxis_1[iTrk][0][0] =  -16.603\n",
      "minorAxis_1[iTrk][1][0] =  6.040953\n",
      "minorAxis_1[iTrk][2][0] =  4.5812504e-07\n",
      "minorAxis_2[iTrk][0][0] =  6.0408506\n",
      "minorAxis_2[iTrk][1][0] =  16.602718\n",
      "minorAxis_2[iTrk][2][0] =  0.10317982\n",
      "  \n",
      "majorAxis[iTrk][0][0] =  -0.00040561036\n",
      "majorAxis[iTrk][1][0] =  0.00014461782\n",
      "majorAxis[iTrk][2][0] =  0.0872241\n",
      "minorAxis_1[iTrk][0][0] =  -5.933496\n",
      "minorAxis_1[iTrk][1][0] =  -16.641706\n",
      "minorAxis_1[iTrk][2][0] =  1.0720762e-08\n",
      "minorAxis_2[iTrk][0][0] =  -16.641502\n",
      "minorAxis_2[iTrk][1][0] =  5.9334235\n",
      "minorAxis_2[iTrk][2][0] =  -0.0872241\n",
      "  \n",
      "majorAxis[iTrk][0][0] =  0.00038461428\n",
      "majorAxis[iTrk][1][0] =  -3.4232737e-05\n",
      "majorAxis[iTrk][2][0] =  0.08259597\n",
      "minorAxis_1[iTrk][0][0] =  -1.5663412\n",
      "minorAxis_1[iTrk][1][0] =  -17.598276\n",
      "minorAxis_1[iTrk][2][0] =  3.2106848e-07\n",
      "minorAxis_2[iTrk][0][0] =  -17.598082\n",
      "minorAxis_2[iTrk][1][0] =  1.5663238\n",
      "minorAxis_2[iTrk][2][0] =  0.08259596\n",
      "  \n",
      "majorAxis[iTrk][0][0] =  -0.022277953\n",
      "majorAxis[iTrk][1][0] =  -0.0046837274\n",
      "majorAxis[iTrk][2][0] =  0.63399464\n",
      "minorAxis_1[iTrk][0][0] =  -3.6350286\n",
      "minorAxis_1[iTrk][1][0] =  17.289862\n",
      "minorAxis_1[iTrk][2][0] =  9.566169e-10\n",
      "minorAxis_2[iTrk][0][0] =  17.278727\n",
      "minorAxis_2[iTrk][1][0] =  3.6326876\n",
      "minorAxis_2[iTrk][2][0] =  0.6339946\n",
      "  \n",
      "len(X) =  20000\n",
      "len(Xlist) =  1\n",
      "Loaded dataAA/20K_POCA_kernel_evts_200926.h5 in 43.55 s\n",
      "outer loop X.shape =  (20000, 9, 600)\n",
      "Constructing 10000 event dataset took 0.04993 s\n",
      "x_t.shape =  torch.Size([10000, 9, 600])\n",
      "x_t.shape[0] =  10000\n",
      "x_t.shape[1] =  9\n",
      "x_t.shape =  torch.Size([10000, 9, 600])\n"
     ]
    }
   ],
   "source": [
    "\n",
    "## Training dataset. You can put as many files here as desired.\n",
    "\n",
    "##train_loader = collect_t2kde_data('/share/lazy/pv-finder/20k_evts_for_KDE_learning_200716.h5',\n",
    "train_loader = collect_t2kde_data('/share/lazy/will/data/June30_2020_80k_1.h5', \n",
    "                                    '/share/lazy/will/data/June30_2020_80k_2.h5',\n",
    "                                    '/share/lazy/will/data/June30_2020_80k_3.h5',\n",
    "                                    '/share/lazy/will/data/June30_2020_80k_4.h5',\n",
    "                             batch_size=batch_size,\n",
    "## if we are using a larger dataset (240K events, with the datasets above, and 11 GB  of GPU memory),\n",
    "## the dataset will overflow the GPU memory; device=device will allow the data to move back\n",
    "## and forth between the CPU and GPU memory. While this allows use of a larger dataset, it slows\n",
    "## down performance by about 10%.  So comment out when not needed.\n",
    "##                          device=device,\n",
    "##                           slice = slice(None,18000)\n",
    "                           )\n",
    "                            \n",
    "# Validation dataset. You can slice to reduce the size.\n",
    "## mds no separate validation set yet,\n",
    "\n",
    "## For iter12, change slice(18000,None) to slice(10000,None)\n",
    "## First, we'll see if this changes the validation cost significantly\n",
    "##  Second, we will see if this reduces the validation cost fluctuations\n",
    "val_loader = collect_t2kde_data('dataAA/20K_POCA_kernel_evts_200926.h5',\n",
    "                            batch_size=batch_size,\n",
    "##                            device=device,\n",
    "                            slice = slice(10000,None)\n",
    "                           )\n"
   ]
  },
  {
   "cell_type": "code",
   "execution_count": 16,
   "metadata": {
    "scrolled": false
   },
   "outputs": [
    {
     "data": {
      "application/javascript": [
       "/* Put everything inside the global mpl namespace */\n",
       "window.mpl = {};\n",
       "\n",
       "\n",
       "mpl.get_websocket_type = function() {\n",
       "    if (typeof(WebSocket) !== 'undefined') {\n",
       "        return WebSocket;\n",
       "    } else if (typeof(MozWebSocket) !== 'undefined') {\n",
       "        return MozWebSocket;\n",
       "    } else {\n",
       "        alert('Your browser does not have WebSocket support. ' +\n",
       "              'Please try Chrome, Safari or Firefox ≥ 6. ' +\n",
       "              'Firefox 4 and 5 are also supported but you ' +\n",
       "              'have to enable WebSockets in about:config.');\n",
       "    };\n",
       "}\n",
       "\n",
       "mpl.figure = function(figure_id, websocket, ondownload, parent_element) {\n",
       "    this.id = figure_id;\n",
       "\n",
       "    this.ws = websocket;\n",
       "\n",
       "    this.supports_binary = (this.ws.binaryType != undefined);\n",
       "\n",
       "    if (!this.supports_binary) {\n",
       "        var warnings = document.getElementById(\"mpl-warnings\");\n",
       "        if (warnings) {\n",
       "            warnings.style.display = 'block';\n",
       "            warnings.textContent = (\n",
       "                \"This browser does not support binary websocket messages. \" +\n",
       "                    \"Performance may be slow.\");\n",
       "        }\n",
       "    }\n",
       "\n",
       "    this.imageObj = new Image();\n",
       "\n",
       "    this.context = undefined;\n",
       "    this.message = undefined;\n",
       "    this.canvas = undefined;\n",
       "    this.rubberband_canvas = undefined;\n",
       "    this.rubberband_context = undefined;\n",
       "    this.format_dropdown = undefined;\n",
       "\n",
       "    this.image_mode = 'full';\n",
       "\n",
       "    this.root = $('<div/>');\n",
       "    this._root_extra_style(this.root)\n",
       "    this.root.attr('style', 'display: inline-block');\n",
       "\n",
       "    $(parent_element).append(this.root);\n",
       "\n",
       "    this._init_header(this);\n",
       "    this._init_canvas(this);\n",
       "    this._init_toolbar(this);\n",
       "\n",
       "    var fig = this;\n",
       "\n",
       "    this.waiting = false;\n",
       "\n",
       "    this.ws.onopen =  function () {\n",
       "            fig.send_message(\"supports_binary\", {value: fig.supports_binary});\n",
       "            fig.send_message(\"send_image_mode\", {});\n",
       "            if (mpl.ratio != 1) {\n",
       "                fig.send_message(\"set_dpi_ratio\", {'dpi_ratio': mpl.ratio});\n",
       "            }\n",
       "            fig.send_message(\"refresh\", {});\n",
       "        }\n",
       "\n",
       "    this.imageObj.onload = function() {\n",
       "            if (fig.image_mode == 'full') {\n",
       "                // Full images could contain transparency (where diff images\n",
       "                // almost always do), so we need to clear the canvas so that\n",
       "                // there is no ghosting.\n",
       "                fig.context.clearRect(0, 0, fig.canvas.width, fig.canvas.height);\n",
       "            }\n",
       "            fig.context.drawImage(fig.imageObj, 0, 0);\n",
       "        };\n",
       "\n",
       "    this.imageObj.onunload = function() {\n",
       "        fig.ws.close();\n",
       "    }\n",
       "\n",
       "    this.ws.onmessage = this._make_on_message_function(this);\n",
       "\n",
       "    this.ondownload = ondownload;\n",
       "}\n",
       "\n",
       "mpl.figure.prototype._init_header = function() {\n",
       "    var titlebar = $(\n",
       "        '<div class=\"ui-dialog-titlebar ui-widget-header ui-corner-all ' +\n",
       "        'ui-helper-clearfix\"/>');\n",
       "    var titletext = $(\n",
       "        '<div class=\"ui-dialog-title\" style=\"width: 100%; ' +\n",
       "        'text-align: center; padding: 3px;\"/>');\n",
       "    titlebar.append(titletext)\n",
       "    this.root.append(titlebar);\n",
       "    this.header = titletext[0];\n",
       "}\n",
       "\n",
       "\n",
       "\n",
       "mpl.figure.prototype._canvas_extra_style = function(canvas_div) {\n",
       "\n",
       "}\n",
       "\n",
       "\n",
       "mpl.figure.prototype._root_extra_style = function(canvas_div) {\n",
       "\n",
       "}\n",
       "\n",
       "mpl.figure.prototype._init_canvas = function() {\n",
       "    var fig = this;\n",
       "\n",
       "    var canvas_div = $('<div/>');\n",
       "\n",
       "    canvas_div.attr('style', 'position: relative; clear: both; outline: 0');\n",
       "\n",
       "    function canvas_keyboard_event(event) {\n",
       "        return fig.key_event(event, event['data']);\n",
       "    }\n",
       "\n",
       "    canvas_div.keydown('key_press', canvas_keyboard_event);\n",
       "    canvas_div.keyup('key_release', canvas_keyboard_event);\n",
       "    this.canvas_div = canvas_div\n",
       "    this._canvas_extra_style(canvas_div)\n",
       "    this.root.append(canvas_div);\n",
       "\n",
       "    var canvas = $('<canvas/>');\n",
       "    canvas.addClass('mpl-canvas');\n",
       "    canvas.attr('style', \"left: 0; top: 0; z-index: 0; outline: 0\")\n",
       "\n",
       "    this.canvas = canvas[0];\n",
       "    this.context = canvas[0].getContext(\"2d\");\n",
       "\n",
       "    var backingStore = this.context.backingStorePixelRatio ||\n",
       "\tthis.context.webkitBackingStorePixelRatio ||\n",
       "\tthis.context.mozBackingStorePixelRatio ||\n",
       "\tthis.context.msBackingStorePixelRatio ||\n",
       "\tthis.context.oBackingStorePixelRatio ||\n",
       "\tthis.context.backingStorePixelRatio || 1;\n",
       "\n",
       "    mpl.ratio = (window.devicePixelRatio || 1) / backingStore;\n",
       "\n",
       "    var rubberband = $('<canvas/>');\n",
       "    rubberband.attr('style', \"position: absolute; left: 0; top: 0; z-index: 1;\")\n",
       "\n",
       "    var pass_mouse_events = true;\n",
       "\n",
       "    canvas_div.resizable({\n",
       "        start: function(event, ui) {\n",
       "            pass_mouse_events = false;\n",
       "        },\n",
       "        resize: function(event, ui) {\n",
       "            fig.request_resize(ui.size.width, ui.size.height);\n",
       "        },\n",
       "        stop: function(event, ui) {\n",
       "            pass_mouse_events = true;\n",
       "            fig.request_resize(ui.size.width, ui.size.height);\n",
       "        },\n",
       "    });\n",
       "\n",
       "    function mouse_event_fn(event) {\n",
       "        if (pass_mouse_events)\n",
       "            return fig.mouse_event(event, event['data']);\n",
       "    }\n",
       "\n",
       "    rubberband.mousedown('button_press', mouse_event_fn);\n",
       "    rubberband.mouseup('button_release', mouse_event_fn);\n",
       "    // Throttle sequential mouse events to 1 every 20ms.\n",
       "    rubberband.mousemove('motion_notify', mouse_event_fn);\n",
       "\n",
       "    rubberband.mouseenter('figure_enter', mouse_event_fn);\n",
       "    rubberband.mouseleave('figure_leave', mouse_event_fn);\n",
       "\n",
       "    canvas_div.on(\"wheel\", function (event) {\n",
       "        event = event.originalEvent;\n",
       "        event['data'] = 'scroll'\n",
       "        if (event.deltaY < 0) {\n",
       "            event.step = 1;\n",
       "        } else {\n",
       "            event.step = -1;\n",
       "        }\n",
       "        mouse_event_fn(event);\n",
       "    });\n",
       "\n",
       "    canvas_div.append(canvas);\n",
       "    canvas_div.append(rubberband);\n",
       "\n",
       "    this.rubberband = rubberband;\n",
       "    this.rubberband_canvas = rubberband[0];\n",
       "    this.rubberband_context = rubberband[0].getContext(\"2d\");\n",
       "    this.rubberband_context.strokeStyle = \"#000000\";\n",
       "\n",
       "    this._resize_canvas = function(width, height) {\n",
       "        // Keep the size of the canvas, canvas container, and rubber band\n",
       "        // canvas in synch.\n",
       "        canvas_div.css('width', width)\n",
       "        canvas_div.css('height', height)\n",
       "\n",
       "        canvas.attr('width', width * mpl.ratio);\n",
       "        canvas.attr('height', height * mpl.ratio);\n",
       "        canvas.attr('style', 'width: ' + width + 'px; height: ' + height + 'px;');\n",
       "\n",
       "        rubberband.attr('width', width);\n",
       "        rubberband.attr('height', height);\n",
       "    }\n",
       "\n",
       "    // Set the figure to an initial 600x600px, this will subsequently be updated\n",
       "    // upon first draw.\n",
       "    this._resize_canvas(600, 600);\n",
       "\n",
       "    // Disable right mouse context menu.\n",
       "    $(this.rubberband_canvas).bind(\"contextmenu\",function(e){\n",
       "        return false;\n",
       "    });\n",
       "\n",
       "    function set_focus () {\n",
       "        canvas.focus();\n",
       "        canvas_div.focus();\n",
       "    }\n",
       "\n",
       "    window.setTimeout(set_focus, 100);\n",
       "}\n",
       "\n",
       "mpl.figure.prototype._init_toolbar = function() {\n",
       "    var fig = this;\n",
       "\n",
       "    var nav_element = $('<div/>');\n",
       "    nav_element.attr('style', 'width: 100%');\n",
       "    this.root.append(nav_element);\n",
       "\n",
       "    // Define a callback function for later on.\n",
       "    function toolbar_event(event) {\n",
       "        return fig.toolbar_button_onclick(event['data']);\n",
       "    }\n",
       "    function toolbar_mouse_event(event) {\n",
       "        return fig.toolbar_button_onmouseover(event['data']);\n",
       "    }\n",
       "\n",
       "    for(var toolbar_ind in mpl.toolbar_items) {\n",
       "        var name = mpl.toolbar_items[toolbar_ind][0];\n",
       "        var tooltip = mpl.toolbar_items[toolbar_ind][1];\n",
       "        var image = mpl.toolbar_items[toolbar_ind][2];\n",
       "        var method_name = mpl.toolbar_items[toolbar_ind][3];\n",
       "\n",
       "        if (!name) {\n",
       "            // put a spacer in here.\n",
       "            continue;\n",
       "        }\n",
       "        var button = $('<button/>');\n",
       "        button.addClass('ui-button ui-widget ui-state-default ui-corner-all ' +\n",
       "                        'ui-button-icon-only');\n",
       "        button.attr('role', 'button');\n",
       "        button.attr('aria-disabled', 'false');\n",
       "        button.click(method_name, toolbar_event);\n",
       "        button.mouseover(tooltip, toolbar_mouse_event);\n",
       "\n",
       "        var icon_img = $('<span/>');\n",
       "        icon_img.addClass('ui-button-icon-primary ui-icon');\n",
       "        icon_img.addClass(image);\n",
       "        icon_img.addClass('ui-corner-all');\n",
       "\n",
       "        var tooltip_span = $('<span/>');\n",
       "        tooltip_span.addClass('ui-button-text');\n",
       "        tooltip_span.html(tooltip);\n",
       "\n",
       "        button.append(icon_img);\n",
       "        button.append(tooltip_span);\n",
       "\n",
       "        nav_element.append(button);\n",
       "    }\n",
       "\n",
       "    var fmt_picker_span = $('<span/>');\n",
       "\n",
       "    var fmt_picker = $('<select/>');\n",
       "    fmt_picker.addClass('mpl-toolbar-option ui-widget ui-widget-content');\n",
       "    fmt_picker_span.append(fmt_picker);\n",
       "    nav_element.append(fmt_picker_span);\n",
       "    this.format_dropdown = fmt_picker[0];\n",
       "\n",
       "    for (var ind in mpl.extensions) {\n",
       "        var fmt = mpl.extensions[ind];\n",
       "        var option = $(\n",
       "            '<option/>', {selected: fmt === mpl.default_extension}).html(fmt);\n",
       "        fmt_picker.append(option);\n",
       "    }\n",
       "\n",
       "    // Add hover states to the ui-buttons\n",
       "    $( \".ui-button\" ).hover(\n",
       "        function() { $(this).addClass(\"ui-state-hover\");},\n",
       "        function() { $(this).removeClass(\"ui-state-hover\");}\n",
       "    );\n",
       "\n",
       "    var status_bar = $('<span class=\"mpl-message\"/>');\n",
       "    nav_element.append(status_bar);\n",
       "    this.message = status_bar[0];\n",
       "}\n",
       "\n",
       "mpl.figure.prototype.request_resize = function(x_pixels, y_pixels) {\n",
       "    // Request matplotlib to resize the figure. Matplotlib will then trigger a resize in the client,\n",
       "    // which will in turn request a refresh of the image.\n",
       "    this.send_message('resize', {'width': x_pixels, 'height': y_pixels});\n",
       "}\n",
       "\n",
       "mpl.figure.prototype.send_message = function(type, properties) {\n",
       "    properties['type'] = type;\n",
       "    properties['figure_id'] = this.id;\n",
       "    this.ws.send(JSON.stringify(properties));\n",
       "}\n",
       "\n",
       "mpl.figure.prototype.send_draw_message = function() {\n",
       "    if (!this.waiting) {\n",
       "        this.waiting = true;\n",
       "        this.ws.send(JSON.stringify({type: \"draw\", figure_id: this.id}));\n",
       "    }\n",
       "}\n",
       "\n",
       "\n",
       "mpl.figure.prototype.handle_save = function(fig, msg) {\n",
       "    var format_dropdown = fig.format_dropdown;\n",
       "    var format = format_dropdown.options[format_dropdown.selectedIndex].value;\n",
       "    fig.ondownload(fig, format);\n",
       "}\n",
       "\n",
       "\n",
       "mpl.figure.prototype.handle_resize = function(fig, msg) {\n",
       "    var size = msg['size'];\n",
       "    if (size[0] != fig.canvas.width || size[1] != fig.canvas.height) {\n",
       "        fig._resize_canvas(size[0], size[1]);\n",
       "        fig.send_message(\"refresh\", {});\n",
       "    };\n",
       "}\n",
       "\n",
       "mpl.figure.prototype.handle_rubberband = function(fig, msg) {\n",
       "    var x0 = msg['x0'] / mpl.ratio;\n",
       "    var y0 = (fig.canvas.height - msg['y0']) / mpl.ratio;\n",
       "    var x1 = msg['x1'] / mpl.ratio;\n",
       "    var y1 = (fig.canvas.height - msg['y1']) / mpl.ratio;\n",
       "    x0 = Math.floor(x0) + 0.5;\n",
       "    y0 = Math.floor(y0) + 0.5;\n",
       "    x1 = Math.floor(x1) + 0.5;\n",
       "    y1 = Math.floor(y1) + 0.5;\n",
       "    var min_x = Math.min(x0, x1);\n",
       "    var min_y = Math.min(y0, y1);\n",
       "    var width = Math.abs(x1 - x0);\n",
       "    var height = Math.abs(y1 - y0);\n",
       "\n",
       "    fig.rubberband_context.clearRect(\n",
       "        0, 0, fig.canvas.width / mpl.ratio, fig.canvas.height / mpl.ratio);\n",
       "\n",
       "    fig.rubberband_context.strokeRect(min_x, min_y, width, height);\n",
       "}\n",
       "\n",
       "mpl.figure.prototype.handle_figure_label = function(fig, msg) {\n",
       "    // Updates the figure title.\n",
       "    fig.header.textContent = msg['label'];\n",
       "}\n",
       "\n",
       "mpl.figure.prototype.handle_cursor = function(fig, msg) {\n",
       "    var cursor = msg['cursor'];\n",
       "    switch(cursor)\n",
       "    {\n",
       "    case 0:\n",
       "        cursor = 'pointer';\n",
       "        break;\n",
       "    case 1:\n",
       "        cursor = 'default';\n",
       "        break;\n",
       "    case 2:\n",
       "        cursor = 'crosshair';\n",
       "        break;\n",
       "    case 3:\n",
       "        cursor = 'move';\n",
       "        break;\n",
       "    }\n",
       "    fig.rubberband_canvas.style.cursor = cursor;\n",
       "}\n",
       "\n",
       "mpl.figure.prototype.handle_message = function(fig, msg) {\n",
       "    fig.message.textContent = msg['message'];\n",
       "}\n",
       "\n",
       "mpl.figure.prototype.handle_draw = function(fig, msg) {\n",
       "    // Request the server to send over a new figure.\n",
       "    fig.send_draw_message();\n",
       "}\n",
       "\n",
       "mpl.figure.prototype.handle_image_mode = function(fig, msg) {\n",
       "    fig.image_mode = msg['mode'];\n",
       "}\n",
       "\n",
       "mpl.figure.prototype.updated_canvas_event = function() {\n",
       "    // Called whenever the canvas gets updated.\n",
       "    this.send_message(\"ack\", {});\n",
       "}\n",
       "\n",
       "// A function to construct a web socket function for onmessage handling.\n",
       "// Called in the figure constructor.\n",
       "mpl.figure.prototype._make_on_message_function = function(fig) {\n",
       "    return function socket_on_message(evt) {\n",
       "        if (evt.data instanceof Blob) {\n",
       "            /* FIXME: We get \"Resource interpreted as Image but\n",
       "             * transferred with MIME type text/plain:\" errors on\n",
       "             * Chrome.  But how to set the MIME type?  It doesn't seem\n",
       "             * to be part of the websocket stream */\n",
       "            evt.data.type = \"image/png\";\n",
       "\n",
       "            /* Free the memory for the previous frames */\n",
       "            if (fig.imageObj.src) {\n",
       "                (window.URL || window.webkitURL).revokeObjectURL(\n",
       "                    fig.imageObj.src);\n",
       "            }\n",
       "\n",
       "            fig.imageObj.src = (window.URL || window.webkitURL).createObjectURL(\n",
       "                evt.data);\n",
       "            fig.updated_canvas_event();\n",
       "            fig.waiting = false;\n",
       "            return;\n",
       "        }\n",
       "        else if (typeof evt.data === 'string' && evt.data.slice(0, 21) == \"data:image/png;base64\") {\n",
       "            fig.imageObj.src = evt.data;\n",
       "            fig.updated_canvas_event();\n",
       "            fig.waiting = false;\n",
       "            return;\n",
       "        }\n",
       "\n",
       "        var msg = JSON.parse(evt.data);\n",
       "        var msg_type = msg['type'];\n",
       "\n",
       "        // Call the  \"handle_{type}\" callback, which takes\n",
       "        // the figure and JSON message as its only arguments.\n",
       "        try {\n",
       "            var callback = fig[\"handle_\" + msg_type];\n",
       "        } catch (e) {\n",
       "            console.log(\"No handler for the '\" + msg_type + \"' message type: \", msg);\n",
       "            return;\n",
       "        }\n",
       "\n",
       "        if (callback) {\n",
       "            try {\n",
       "                // console.log(\"Handling '\" + msg_type + \"' message: \", msg);\n",
       "                callback(fig, msg);\n",
       "            } catch (e) {\n",
       "                console.log(\"Exception inside the 'handler_\" + msg_type + \"' callback:\", e, e.stack, msg);\n",
       "            }\n",
       "        }\n",
       "    };\n",
       "}\n",
       "\n",
       "// from http://stackoverflow.com/questions/1114465/getting-mouse-location-in-canvas\n",
       "mpl.findpos = function(e) {\n",
       "    //this section is from http://www.quirksmode.org/js/events_properties.html\n",
       "    var targ;\n",
       "    if (!e)\n",
       "        e = window.event;\n",
       "    if (e.target)\n",
       "        targ = e.target;\n",
       "    else if (e.srcElement)\n",
       "        targ = e.srcElement;\n",
       "    if (targ.nodeType == 3) // defeat Safari bug\n",
       "        targ = targ.parentNode;\n",
       "\n",
       "    // jQuery normalizes the pageX and pageY\n",
       "    // pageX,Y are the mouse positions relative to the document\n",
       "    // offset() returns the position of the element relative to the document\n",
       "    var x = e.pageX - $(targ).offset().left;\n",
       "    var y = e.pageY - $(targ).offset().top;\n",
       "\n",
       "    return {\"x\": x, \"y\": y};\n",
       "};\n",
       "\n",
       "/*\n",
       " * return a copy of an object with only non-object keys\n",
       " * we need this to avoid circular references\n",
       " * http://stackoverflow.com/a/24161582/3208463\n",
       " */\n",
       "function simpleKeys (original) {\n",
       "  return Object.keys(original).reduce(function (obj, key) {\n",
       "    if (typeof original[key] !== 'object')\n",
       "        obj[key] = original[key]\n",
       "    return obj;\n",
       "  }, {});\n",
       "}\n",
       "\n",
       "mpl.figure.prototype.mouse_event = function(event, name) {\n",
       "    var canvas_pos = mpl.findpos(event)\n",
       "\n",
       "    if (name === 'button_press')\n",
       "    {\n",
       "        this.canvas.focus();\n",
       "        this.canvas_div.focus();\n",
       "    }\n",
       "\n",
       "    var x = canvas_pos.x * mpl.ratio;\n",
       "    var y = canvas_pos.y * mpl.ratio;\n",
       "\n",
       "    this.send_message(name, {x: x, y: y, button: event.button,\n",
       "                             step: event.step,\n",
       "                             guiEvent: simpleKeys(event)});\n",
       "\n",
       "    /* This prevents the web browser from automatically changing to\n",
       "     * the text insertion cursor when the button is pressed.  We want\n",
       "     * to control all of the cursor setting manually through the\n",
       "     * 'cursor' event from matplotlib */\n",
       "    event.preventDefault();\n",
       "    return false;\n",
       "}\n",
       "\n",
       "mpl.figure.prototype._key_event_extra = function(event, name) {\n",
       "    // Handle any extra behaviour associated with a key event\n",
       "}\n",
       "\n",
       "mpl.figure.prototype.key_event = function(event, name) {\n",
       "\n",
       "    // Prevent repeat events\n",
       "    if (name == 'key_press')\n",
       "    {\n",
       "        if (event.which === this._key)\n",
       "            return;\n",
       "        else\n",
       "            this._key = event.which;\n",
       "    }\n",
       "    if (name == 'key_release')\n",
       "        this._key = null;\n",
       "\n",
       "    var value = '';\n",
       "    if (event.ctrlKey && event.which != 17)\n",
       "        value += \"ctrl+\";\n",
       "    if (event.altKey && event.which != 18)\n",
       "        value += \"alt+\";\n",
       "    if (event.shiftKey && event.which != 16)\n",
       "        value += \"shift+\";\n",
       "\n",
       "    value += 'k';\n",
       "    value += event.which.toString();\n",
       "\n",
       "    this._key_event_extra(event, name);\n",
       "\n",
       "    this.send_message(name, {key: value,\n",
       "                             guiEvent: simpleKeys(event)});\n",
       "    return false;\n",
       "}\n",
       "\n",
       "mpl.figure.prototype.toolbar_button_onclick = function(name) {\n",
       "    if (name == 'download') {\n",
       "        this.handle_save(this, null);\n",
       "    } else {\n",
       "        this.send_message(\"toolbar_button\", {name: name});\n",
       "    }\n",
       "};\n",
       "\n",
       "mpl.figure.prototype.toolbar_button_onmouseover = function(tooltip) {\n",
       "    this.message.textContent = tooltip;\n",
       "};\n",
       "mpl.toolbar_items = [[\"Home\", \"Reset original view\", \"fa fa-home icon-home\", \"home\"], [\"Back\", \"Back to previous view\", \"fa fa-arrow-left icon-arrow-left\", \"back\"], [\"Forward\", \"Forward to next view\", \"fa fa-arrow-right icon-arrow-right\", \"forward\"], [\"\", \"\", \"\", \"\"], [\"Pan\", \"Pan axes with left mouse, zoom with right\", \"fa fa-arrows icon-move\", \"pan\"], [\"Zoom\", \"Zoom to rectangle\", \"fa fa-square-o icon-check-empty\", \"zoom\"], [\"\", \"\", \"\", \"\"], [\"Download\", \"Download plot\", \"fa fa-floppy-o icon-save\", \"download\"]];\n",
       "\n",
       "mpl.extensions = [\"eps\", \"jpeg\", \"pdf\", \"png\", \"ps\", \"raw\", \"svg\", \"tif\"];\n",
       "\n",
       "mpl.default_extension = \"png\";var comm_websocket_adapter = function(comm) {\n",
       "    // Create a \"websocket\"-like object which calls the given IPython comm\n",
       "    // object with the appropriate methods. Currently this is a non binary\n",
       "    // socket, so there is still some room for performance tuning.\n",
       "    var ws = {};\n",
       "\n",
       "    ws.close = function() {\n",
       "        comm.close()\n",
       "    };\n",
       "    ws.send = function(m) {\n",
       "        //console.log('sending', m);\n",
       "        comm.send(m);\n",
       "    };\n",
       "    // Register the callback with on_msg.\n",
       "    comm.on_msg(function(msg) {\n",
       "        //console.log('receiving', msg['content']['data'], msg);\n",
       "        // Pass the mpl event to the overridden (by mpl) onmessage function.\n",
       "        ws.onmessage(msg['content']['data'])\n",
       "    });\n",
       "    return ws;\n",
       "}\n",
       "\n",
       "mpl.mpl_figure_comm = function(comm, msg) {\n",
       "    // This is the function which gets called when the mpl process\n",
       "    // starts-up an IPython Comm through the \"matplotlib\" channel.\n",
       "\n",
       "    var id = msg.content.data.id;\n",
       "    // Get hold of the div created by the display call when the Comm\n",
       "    // socket was opened in Python.\n",
       "    var element = $(\"#\" + id);\n",
       "    var ws_proxy = comm_websocket_adapter(comm)\n",
       "\n",
       "    function ondownload(figure, format) {\n",
       "        window.open(figure.imageObj.src);\n",
       "    }\n",
       "\n",
       "    var fig = new mpl.figure(id, ws_proxy,\n",
       "                           ondownload,\n",
       "                           element.get(0));\n",
       "\n",
       "    // Call onopen now - mpl needs it, as it is assuming we've passed it a real\n",
       "    // web socket which is closed, not our websocket->open comm proxy.\n",
       "    ws_proxy.onopen();\n",
       "\n",
       "    fig.parent_element = element.get(0);\n",
       "    fig.cell_info = mpl.find_output_cell(\"<div id='\" + id + \"'></div>\");\n",
       "    if (!fig.cell_info) {\n",
       "        console.error(\"Failed to find cell for figure\", id, fig);\n",
       "        return;\n",
       "    }\n",
       "\n",
       "    var output_index = fig.cell_info[2]\n",
       "    var cell = fig.cell_info[0];\n",
       "\n",
       "};\n",
       "\n",
       "mpl.figure.prototype.handle_close = function(fig, msg) {\n",
       "    var width = fig.canvas.width/mpl.ratio\n",
       "    fig.root.unbind('remove')\n",
       "\n",
       "    // Update the output cell to use the data from the current canvas.\n",
       "    fig.push_to_output();\n",
       "    var dataURL = fig.canvas.toDataURL();\n",
       "    // Re-enable the keyboard manager in IPython - without this line, in FF,\n",
       "    // the notebook keyboard shortcuts fail.\n",
       "    IPython.keyboard_manager.enable()\n",
       "    $(fig.parent_element).html('<img src=\"' + dataURL + '\" width=\"' + width + '\">');\n",
       "    fig.close_ws(fig, msg);\n",
       "}\n",
       "\n",
       "mpl.figure.prototype.close_ws = function(fig, msg){\n",
       "    fig.send_message('closing', msg);\n",
       "    // fig.ws.close()\n",
       "}\n",
       "\n",
       "mpl.figure.prototype.push_to_output = function(remove_interactive) {\n",
       "    // Turn the data on the canvas into data in the output cell.\n",
       "    var width = this.canvas.width/mpl.ratio\n",
       "    var dataURL = this.canvas.toDataURL();\n",
       "    this.cell_info[1]['text/html'] = '<img src=\"' + dataURL + '\" width=\"' + width + '\">';\n",
       "}\n",
       "\n",
       "mpl.figure.prototype.updated_canvas_event = function() {\n",
       "    // Tell IPython that the notebook contents must change.\n",
       "    IPython.notebook.set_dirty(true);\n",
       "    this.send_message(\"ack\", {});\n",
       "    var fig = this;\n",
       "    // Wait a second, then push the new image to the DOM so\n",
       "    // that it is saved nicely (might be nice to debounce this).\n",
       "    setTimeout(function () { fig.push_to_output() }, 1000);\n",
       "}\n",
       "\n",
       "mpl.figure.prototype._init_toolbar = function() {\n",
       "    var fig = this;\n",
       "\n",
       "    var nav_element = $('<div/>');\n",
       "    nav_element.attr('style', 'width: 100%');\n",
       "    this.root.append(nav_element);\n",
       "\n",
       "    // Define a callback function for later on.\n",
       "    function toolbar_event(event) {\n",
       "        return fig.toolbar_button_onclick(event['data']);\n",
       "    }\n",
       "    function toolbar_mouse_event(event) {\n",
       "        return fig.toolbar_button_onmouseover(event['data']);\n",
       "    }\n",
       "\n",
       "    for(var toolbar_ind in mpl.toolbar_items){\n",
       "        var name = mpl.toolbar_items[toolbar_ind][0];\n",
       "        var tooltip = mpl.toolbar_items[toolbar_ind][1];\n",
       "        var image = mpl.toolbar_items[toolbar_ind][2];\n",
       "        var method_name = mpl.toolbar_items[toolbar_ind][3];\n",
       "\n",
       "        if (!name) { continue; };\n",
       "\n",
       "        var button = $('<button class=\"btn btn-default\" href=\"#\" title=\"' + name + '\"><i class=\"fa ' + image + ' fa-lg\"></i></button>');\n",
       "        button.click(method_name, toolbar_event);\n",
       "        button.mouseover(tooltip, toolbar_mouse_event);\n",
       "        nav_element.append(button);\n",
       "    }\n",
       "\n",
       "    // Add the status bar.\n",
       "    var status_bar = $('<span class=\"mpl-message\" style=\"text-align:right; float: right;\"/>');\n",
       "    nav_element.append(status_bar);\n",
       "    this.message = status_bar[0];\n",
       "\n",
       "    // Add the close button to the window.\n",
       "    var buttongrp = $('<div class=\"btn-group inline pull-right\"></div>');\n",
       "    var button = $('<button class=\"btn btn-mini btn-primary\" href=\"#\" title=\"Stop Interaction\"><i class=\"fa fa-power-off icon-remove icon-large\"></i></button>');\n",
       "    button.click(function (evt) { fig.handle_close(fig, {}); } );\n",
       "    button.mouseover('Stop Interaction', toolbar_mouse_event);\n",
       "    buttongrp.append(button);\n",
       "    var titlebar = this.root.find($('.ui-dialog-titlebar'));\n",
       "    titlebar.prepend(buttongrp);\n",
       "}\n",
       "\n",
       "mpl.figure.prototype._root_extra_style = function(el){\n",
       "    var fig = this\n",
       "    el.on(\"remove\", function(){\n",
       "\tfig.close_ws(fig, {});\n",
       "    });\n",
       "}\n",
       "\n",
       "mpl.figure.prototype._canvas_extra_style = function(el){\n",
       "    // this is important to make the div 'focusable\n",
       "    el.attr('tabindex', 0)\n",
       "    // reach out to IPython and tell the keyboard manager to turn it's self\n",
       "    // off when our div gets focus\n",
       "\n",
       "    // location in version 3\n",
       "    if (IPython.notebook.keyboard_manager) {\n",
       "        IPython.notebook.keyboard_manager.register_events(el);\n",
       "    }\n",
       "    else {\n",
       "        // location in version 2\n",
       "        IPython.keyboard_manager.register_events(el);\n",
       "    }\n",
       "\n",
       "}\n",
       "\n",
       "mpl.figure.prototype._key_event_extra = function(event, name) {\n",
       "    var manager = IPython.notebook.keyboard_manager;\n",
       "    if (!manager)\n",
       "        manager = IPython.keyboard_manager;\n",
       "\n",
       "    // Check for shift+enter\n",
       "    if (event.shiftKey && event.which == 13) {\n",
       "        this.canvas_div.blur();\n",
       "        // select the cell after this one\n",
       "        var index = IPython.notebook.find_cell_index(this.cell_info[0]);\n",
       "        IPython.notebook.select(index + 1);\n",
       "    }\n",
       "}\n",
       "\n",
       "mpl.figure.prototype.handle_save = function(fig, msg) {\n",
       "    fig.ondownload(fig, null);\n",
       "}\n",
       "\n",
       "\n",
       "mpl.find_output_cell = function(html_output) {\n",
       "    // Return the cell and output element which can be found *uniquely* in the notebook.\n",
       "    // Note - this is a bit hacky, but it is done because the \"notebook_saving.Notebook\"\n",
       "    // IPython event is triggered only after the cells have been serialised, which for\n",
       "    // our purposes (turning an active figure into a static one), is too late.\n",
       "    var cells = IPython.notebook.get_cells();\n",
       "    var ncells = cells.length;\n",
       "    for (var i=0; i<ncells; i++) {\n",
       "        var cell = cells[i];\n",
       "        if (cell.cell_type === 'code'){\n",
       "            for (var j=0; j<cell.output_area.outputs.length; j++) {\n",
       "                var data = cell.output_area.outputs[j];\n",
       "                if (data.data) {\n",
       "                    // IPython >= 3 moved mimebundle to data attribute of output\n",
       "                    data = data.data;\n",
       "                }\n",
       "                if (data['text/html'] == html_output) {\n",
       "                    return [cell, data, j];\n",
       "                }\n",
       "            }\n",
       "        }\n",
       "    }\n",
       "}\n",
       "\n",
       "// Register the function which deals with the matplotlib target/channel.\n",
       "// The kernel may be null if the page has been refreshed.\n",
       "if (IPython.notebook.kernel != null) {\n",
       "    IPython.notebook.kernel.comm_manager.register_target('matplotlib', mpl.mpl_figure_comm);\n",
       "}\n"
      ],
      "text/plain": [
       "<IPython.core.display.Javascript object>"
      ]
     },
     "metadata": {},
     "output_type": "display_data"
    },
    {
     "data": {
      "text/html": [
       "<img src=\"data:image/png;base64,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\" width=\"999.75\">"
      ],
      "text/plain": [
       "<IPython.core.display.HTML object>"
      ]
     },
     "metadata": {},
     "output_type": "display_data"
    }
   ],
   "source": [
    "ax, tax, lax, lines = dual_train_plots()\n",
    "fig = ax.figure\n",
    "plt.tight_layout()"
   ]
  },
  {
   "cell_type": "code",
   "execution_count": 17,
   "metadata": {
    "scrolled": false
   },
   "outputs": [
    {
     "name": "stdout",
     "output_type": "stream",
     "text": [
      "Number of batches: train = 6667, val = 209\n"
     ]
    },
    {
     "data": {
      "application/vnd.jupyter.widget-view+json": {
       "model_id": "5c7afa3dd0e24803a925b4fcda20bf60",
       "version_major": 2,
       "version_minor": 0
      },
      "text/plain": [
       "HBox(children=(FloatProgress(value=0.0, description='Epochs', layout=Layout(flex='2'), max=60.0, style=Progres…"
      ]
     },
     "metadata": {},
     "output_type": "display_data"
    },
    {
     "name": "stdout",
     "output_type": "stream",
     "text": [
      "Number of batches: train = 6667, val = 209\n"
     ]
    },
    {
     "data": {
      "application/vnd.jupyter.widget-view+json": {
       "model_id": "",
       "version_major": 2,
       "version_minor": 0
      },
      "text/plain": [
       "HBox(children=(FloatProgress(value=0.0, description='Training', layout=Layout(flex='2'), max=6667.0, style=Pro…"
      ]
     },
     "metadata": {},
     "output_type": "display_data"
    },
    {
     "name": "stdout",
     "output_type": "stream",
     "text": [
      "Epoch 0: train=0.826396, val=0.590109, took 602.91 s\n"
     ]
    },
    {
     "data": {
      "application/vnd.jupyter.widget-view+json": {
       "model_id": "",
       "version_major": 2,
       "version_minor": 0
      },
      "text/plain": [
       "HBox(children=(FloatProgress(value=0.0, description='Training', layout=Layout(flex='2'), max=6667.0, style=Pro…"
      ]
     },
     "metadata": {},
     "output_type": "display_data"
    },
    {
     "name": "stdout",
     "output_type": "stream",
     "text": [
      "Epoch 1: train=0.826944, val=0.571595, took 602.55 s\n"
     ]
    },
    {
     "data": {
      "application/vnd.jupyter.widget-view+json": {
       "model_id": "",
       "version_major": 2,
       "version_minor": 0
      },
      "text/plain": [
       "HBox(children=(FloatProgress(value=0.0, description='Training', layout=Layout(flex='2'), max=6667.0, style=Pro…"
      ]
     },
     "metadata": {},
     "output_type": "display_data"
    },
    {
     "name": "stdout",
     "output_type": "stream",
     "text": [
      "Epoch 2: train=0.824793, val=0.574753, took 601.84 s\n"
     ]
    },
    {
     "data": {
      "application/vnd.jupyter.widget-view+json": {
       "model_id": "",
       "version_major": 2,
       "version_minor": 0
      },
      "text/plain": [
       "HBox(children=(FloatProgress(value=0.0, description='Training', layout=Layout(flex='2'), max=6667.0, style=Pro…"
      ]
     },
     "metadata": {},
     "output_type": "display_data"
    },
    {
     "name": "stdout",
     "output_type": "stream",
     "text": [
      "Epoch 3: train=0.82395, val=0.572144, took 601.23 s\n"
     ]
    },
    {
     "data": {
      "application/vnd.jupyter.widget-view+json": {
       "model_id": "",
       "version_major": 2,
       "version_minor": 0
      },
      "text/plain": [
       "HBox(children=(FloatProgress(value=0.0, description='Training', layout=Layout(flex='2'), max=6667.0, style=Pro…"
      ]
     },
     "metadata": {},
     "output_type": "display_data"
    },
    {
     "name": "stdout",
     "output_type": "stream",
     "text": [
      "Epoch 4: train=0.825572, val=0.575756, took 601.41 s\n"
     ]
    },
    {
     "data": {
      "application/vnd.jupyter.widget-view+json": {
       "model_id": "",
       "version_major": 2,
       "version_minor": 0
      },
      "text/plain": [
       "HBox(children=(FloatProgress(value=0.0, description='Training', layout=Layout(flex='2'), max=6667.0, style=Pro…"
      ]
     },
     "metadata": {},
     "output_type": "display_data"
    },
    {
     "name": "stdout",
     "output_type": "stream",
     "text": [
      "Epoch 5: train=0.823397, val=0.579118, took 601.7 s\n"
     ]
    },
    {
     "data": {
      "application/vnd.jupyter.widget-view+json": {
       "model_id": "",
       "version_major": 2,
       "version_minor": 0
      },
      "text/plain": [
       "HBox(children=(FloatProgress(value=0.0, description='Training', layout=Layout(flex='2'), max=6667.0, style=Pro…"
      ]
     },
     "metadata": {},
     "output_type": "display_data"
    },
    {
     "name": "stdout",
     "output_type": "stream",
     "text": [
      "Epoch 6: train=0.823649, val=0.577524, took 600.73 s\n"
     ]
    },
    {
     "data": {
      "application/vnd.jupyter.widget-view+json": {
       "model_id": "",
       "version_major": 2,
       "version_minor": 0
      },
      "text/plain": [
       "HBox(children=(FloatProgress(value=0.0, description='Training', layout=Layout(flex='2'), max=6667.0, style=Pro…"
      ]
     },
     "metadata": {},
     "output_type": "display_data"
    },
    {
     "name": "stdout",
     "output_type": "stream",
     "text": [
      "Epoch 7: train=0.823304, val=0.581375, took 601.58 s\n"
     ]
    },
    {
     "data": {
      "application/vnd.jupyter.widget-view+json": {
       "model_id": "",
       "version_major": 2,
       "version_minor": 0
      },
      "text/plain": [
       "HBox(children=(FloatProgress(value=0.0, description='Training', layout=Layout(flex='2'), max=6667.0, style=Pro…"
      ]
     },
     "metadata": {},
     "output_type": "display_data"
    },
    {
     "name": "stdout",
     "output_type": "stream",
     "text": [
      "Epoch 8: train=0.822083, val=0.577605, took 601.56 s\n"
     ]
    },
    {
     "data": {
      "application/vnd.jupyter.widget-view+json": {
       "model_id": "",
       "version_major": 2,
       "version_minor": 0
      },
      "text/plain": [
       "HBox(children=(FloatProgress(value=0.0, description='Training', layout=Layout(flex='2'), max=6667.0, style=Pro…"
      ]
     },
     "metadata": {},
     "output_type": "display_data"
    },
    {
     "name": "stdout",
     "output_type": "stream",
     "text": [
      "Epoch 9: train=0.821785, val=0.586666, took 600.89 s\n"
     ]
    },
    {
     "data": {
      "application/vnd.jupyter.widget-view+json": {
       "model_id": "",
       "version_major": 2,
       "version_minor": 0
      },
      "text/plain": [
       "HBox(children=(FloatProgress(value=0.0, description='Training', layout=Layout(flex='2'), max=6667.0, style=Pro…"
      ]
     },
     "metadata": {},
     "output_type": "display_data"
    },
    {
     "name": "stdout",
     "output_type": "stream",
     "text": [
      "Epoch 10: train=0.823676, val=0.569836, took 600.26 s\n"
     ]
    },
    {
     "data": {
      "application/vnd.jupyter.widget-view+json": {
       "model_id": "",
       "version_major": 2,
       "version_minor": 0
      },
      "text/plain": [
       "HBox(children=(FloatProgress(value=0.0, description='Training', layout=Layout(flex='2'), max=6667.0, style=Pro…"
      ]
     },
     "metadata": {},
     "output_type": "display_data"
    },
    {
     "name": "stdout",
     "output_type": "stream",
     "text": [
      "Epoch 11: train=0.818464, val=0.578184, took 600.74 s\n"
     ]
    },
    {
     "data": {
      "application/vnd.jupyter.widget-view+json": {
       "model_id": "",
       "version_major": 2,
       "version_minor": 0
      },
      "text/plain": [
       "HBox(children=(FloatProgress(value=0.0, description='Training', layout=Layout(flex='2'), max=6667.0, style=Pro…"
      ]
     },
     "metadata": {},
     "output_type": "display_data"
    },
    {
     "name": "stdout",
     "output_type": "stream",
     "text": [
      "Epoch 12: train=0.820893, val=0.572553, took 601.12 s\n"
     ]
    },
    {
     "data": {
      "application/vnd.jupyter.widget-view+json": {
       "model_id": "",
       "version_major": 2,
       "version_minor": 0
      },
      "text/plain": [
       "HBox(children=(FloatProgress(value=0.0, description='Training', layout=Layout(flex='2'), max=6667.0, style=Pro…"
      ]
     },
     "metadata": {},
     "output_type": "display_data"
    },
    {
     "name": "stdout",
     "output_type": "stream",
     "text": [
      "Epoch 13: train=0.820608, val=0.56184, took 600.33 s\n"
     ]
    },
    {
     "data": {
      "application/vnd.jupyter.widget-view+json": {
       "model_id": "",
       "version_major": 2,
       "version_minor": 0
      },
      "text/plain": [
       "HBox(children=(FloatProgress(value=0.0, description='Training', layout=Layout(flex='2'), max=6667.0, style=Pro…"
      ]
     },
     "metadata": {},
     "output_type": "display_data"
    },
    {
     "name": "stdout",
     "output_type": "stream",
     "text": [
      "Epoch 14: train=0.817625, val=0.563673, took 600.39 s\n"
     ]
    },
    {
     "data": {
      "application/vnd.jupyter.widget-view+json": {
       "model_id": "",
       "version_major": 2,
       "version_minor": 0
      },
      "text/plain": [
       "HBox(children=(FloatProgress(value=0.0, description='Training', layout=Layout(flex='2'), max=6667.0, style=Pro…"
      ]
     },
     "metadata": {},
     "output_type": "display_data"
    },
    {
     "name": "stdout",
     "output_type": "stream",
     "text": [
      "Epoch 15: train=0.816744, val=0.579684, took 599.12 s\n"
     ]
    },
    {
     "data": {
      "application/vnd.jupyter.widget-view+json": {
       "model_id": "",
       "version_major": 2,
       "version_minor": 0
      },
      "text/plain": [
       "HBox(children=(FloatProgress(value=0.0, description='Training', layout=Layout(flex='2'), max=6667.0, style=Pro…"
      ]
     },
     "metadata": {},
     "output_type": "display_data"
    },
    {
     "name": "stdout",
     "output_type": "stream",
     "text": [
      "Epoch 16: train=0.817008, val=0.639432, took 600.48 s\n"
     ]
    },
    {
     "data": {
      "application/vnd.jupyter.widget-view+json": {
       "model_id": "",
       "version_major": 2,
       "version_minor": 0
      },
      "text/plain": [
       "HBox(children=(FloatProgress(value=0.0, description='Training', layout=Layout(flex='2'), max=6667.0, style=Pro…"
      ]
     },
     "metadata": {},
     "output_type": "display_data"
    },
    {
     "name": "stdout",
     "output_type": "stream",
     "text": [
      "Epoch 17: train=0.816696, val=0.573061, took 598.02 s\n"
     ]
    },
    {
     "data": {
      "application/vnd.jupyter.widget-view+json": {
       "model_id": "",
       "version_major": 2,
       "version_minor": 0
      },
      "text/plain": [
       "HBox(children=(FloatProgress(value=0.0, description='Training', layout=Layout(flex='2'), max=6667.0, style=Pro…"
      ]
     },
     "metadata": {},
     "output_type": "display_data"
    },
    {
     "name": "stdout",
     "output_type": "stream",
     "text": [
      "Epoch 18: train=0.814964, val=0.603133, took 600.28 s\n"
     ]
    },
    {
     "data": {
      "application/vnd.jupyter.widget-view+json": {
       "model_id": "",
       "version_major": 2,
       "version_minor": 0
      },
      "text/plain": [
       "HBox(children=(FloatProgress(value=0.0, description='Training', layout=Layout(flex='2'), max=6667.0, style=Pro…"
      ]
     },
     "metadata": {},
     "output_type": "display_data"
    },
    {
     "name": "stdout",
     "output_type": "stream",
     "text": [
      "Epoch 19: train=0.814153, val=0.57582, took 598.9 s\n"
     ]
    },
    {
     "data": {
      "application/vnd.jupyter.widget-view+json": {
       "model_id": "",
       "version_major": 2,
       "version_minor": 0
      },
      "text/plain": [
       "HBox(children=(FloatProgress(value=0.0, description='Training', layout=Layout(flex='2'), max=6667.0, style=Pro…"
      ]
     },
     "metadata": {},
     "output_type": "display_data"
    },
    {
     "name": "stdout",
     "output_type": "stream",
     "text": [
      "Epoch 20: train=0.813897, val=0.565572, took 599.34 s\n"
     ]
    },
    {
     "data": {
      "application/vnd.jupyter.widget-view+json": {
       "model_id": "",
       "version_major": 2,
       "version_minor": 0
      },
      "text/plain": [
       "HBox(children=(FloatProgress(value=0.0, description='Training', layout=Layout(flex='2'), max=6667.0, style=Pro…"
      ]
     },
     "metadata": {},
     "output_type": "display_data"
    },
    {
     "name": "stdout",
     "output_type": "stream",
     "text": [
      "Epoch 21: train=0.81464, val=0.570158, took 599.52 s\n"
     ]
    },
    {
     "data": {
      "application/vnd.jupyter.widget-view+json": {
       "model_id": "",
       "version_major": 2,
       "version_minor": 0
      },
      "text/plain": [
       "HBox(children=(FloatProgress(value=0.0, description='Training', layout=Layout(flex='2'), max=6667.0, style=Pro…"
      ]
     },
     "metadata": {},
     "output_type": "display_data"
    },
    {
     "name": "stdout",
     "output_type": "stream",
     "text": [
      "Epoch 22: train=0.814291, val=0.559361, took 599.75 s\n"
     ]
    },
    {
     "data": {
      "application/vnd.jupyter.widget-view+json": {
       "model_id": "",
       "version_major": 2,
       "version_minor": 0
      },
      "text/plain": [
       "HBox(children=(FloatProgress(value=0.0, description='Training', layout=Layout(flex='2'), max=6667.0, style=Pro…"
      ]
     },
     "metadata": {},
     "output_type": "display_data"
    },
    {
     "name": "stdout",
     "output_type": "stream",
     "text": [
      "Epoch 23: train=0.814399, val=0.562136, took 599.24 s\n"
     ]
    },
    {
     "data": {
      "application/vnd.jupyter.widget-view+json": {
       "model_id": "",
       "version_major": 2,
       "version_minor": 0
      },
      "text/plain": [
       "HBox(children=(FloatProgress(value=0.0, description='Training', layout=Layout(flex='2'), max=6667.0, style=Pro…"
      ]
     },
     "metadata": {},
     "output_type": "display_data"
    },
    {
     "name": "stdout",
     "output_type": "stream",
     "text": [
      "Epoch 24: train=0.811659, val=0.564012, took 598.35 s\n"
     ]
    },
    {
     "data": {
      "application/vnd.jupyter.widget-view+json": {
       "model_id": "",
       "version_major": 2,
       "version_minor": 0
      },
      "text/plain": [
       "HBox(children=(FloatProgress(value=0.0, description='Training', layout=Layout(flex='2'), max=6667.0, style=Pro…"
      ]
     },
     "metadata": {},
     "output_type": "display_data"
    },
    {
     "name": "stdout",
     "output_type": "stream",
     "text": [
      "Epoch 25: train=0.81099, val=0.62216, took 597.57 s\n"
     ]
    },
    {
     "data": {
      "application/vnd.jupyter.widget-view+json": {
       "model_id": "",
       "version_major": 2,
       "version_minor": 0
      },
      "text/plain": [
       "HBox(children=(FloatProgress(value=0.0, description='Training', layout=Layout(flex='2'), max=6667.0, style=Pro…"
      ]
     },
     "metadata": {},
     "output_type": "display_data"
    },
    {
     "name": "stdout",
     "output_type": "stream",
     "text": [
      "Epoch 26: train=0.810816, val=0.564763, took 598.75 s\n"
     ]
    },
    {
     "data": {
      "application/vnd.jupyter.widget-view+json": {
       "model_id": "",
       "version_major": 2,
       "version_minor": 0
      },
      "text/plain": [
       "HBox(children=(FloatProgress(value=0.0, description='Training', layout=Layout(flex='2'), max=6667.0, style=Pro…"
      ]
     },
     "metadata": {},
     "output_type": "display_data"
    },
    {
     "name": "stdout",
     "output_type": "stream",
     "text": [
      "Epoch 27: train=0.810566, val=0.572883, took 597.79 s\n"
     ]
    },
    {
     "data": {
      "application/vnd.jupyter.widget-view+json": {
       "model_id": "",
       "version_major": 2,
       "version_minor": 0
      },
      "text/plain": [
       "HBox(children=(FloatProgress(value=0.0, description='Training', layout=Layout(flex='2'), max=6667.0, style=Pro…"
      ]
     },
     "metadata": {},
     "output_type": "display_data"
    },
    {
     "name": "stdout",
     "output_type": "stream",
     "text": [
      "Epoch 28: train=0.811888, val=0.560115, took 598.63 s\n"
     ]
    },
    {
     "data": {
      "application/vnd.jupyter.widget-view+json": {
       "model_id": "",
       "version_major": 2,
       "version_minor": 0
      },
      "text/plain": [
       "HBox(children=(FloatProgress(value=0.0, description='Training', layout=Layout(flex='2'), max=6667.0, style=Pro…"
      ]
     },
     "metadata": {},
     "output_type": "display_data"
    },
    {
     "name": "stdout",
     "output_type": "stream",
     "text": [
      "Epoch 29: train=0.809922, val=0.566089, took 600.05 s\n"
     ]
    },
    {
     "data": {
      "application/vnd.jupyter.widget-view+json": {
       "model_id": "",
       "version_major": 2,
       "version_minor": 0
      },
      "text/plain": [
       "HBox(children=(FloatProgress(value=0.0, description='Training', layout=Layout(flex='2'), max=6667.0, style=Pro…"
      ]
     },
     "metadata": {},
     "output_type": "display_data"
    },
    {
     "name": "stdout",
     "output_type": "stream",
     "text": [
      "Epoch 30: train=0.808106, val=0.558686, took 599.61 s\n"
     ]
    },
    {
     "data": {
      "application/vnd.jupyter.widget-view+json": {
       "model_id": "",
       "version_major": 2,
       "version_minor": 0
      },
      "text/plain": [
       "HBox(children=(FloatProgress(value=0.0, description='Training', layout=Layout(flex='2'), max=6667.0, style=Pro…"
      ]
     },
     "metadata": {},
     "output_type": "display_data"
    },
    {
     "name": "stdout",
     "output_type": "stream",
     "text": [
      "Epoch 31: train=0.807555, val=0.580766, took 598.76 s\n"
     ]
    },
    {
     "data": {
      "application/vnd.jupyter.widget-view+json": {
       "model_id": "",
       "version_major": 2,
       "version_minor": 0
      },
      "text/plain": [
       "HBox(children=(FloatProgress(value=0.0, description='Training', layout=Layout(flex='2'), max=6667.0, style=Pro…"
      ]
     },
     "metadata": {},
     "output_type": "display_data"
    },
    {
     "name": "stdout",
     "output_type": "stream",
     "text": [
      "Epoch 32: train=0.810904, val=0.559362, took 600.01 s\n"
     ]
    },
    {
     "data": {
      "application/vnd.jupyter.widget-view+json": {
       "model_id": "",
       "version_major": 2,
       "version_minor": 0
      },
      "text/plain": [
       "HBox(children=(FloatProgress(value=0.0, description='Training', layout=Layout(flex='2'), max=6667.0, style=Pro…"
      ]
     },
     "metadata": {},
     "output_type": "display_data"
    },
    {
     "name": "stdout",
     "output_type": "stream",
     "text": [
      "Epoch 33: train=0.806799, val=0.560885, took 599.69 s\n"
     ]
    },
    {
     "data": {
      "application/vnd.jupyter.widget-view+json": {
       "model_id": "",
       "version_major": 2,
       "version_minor": 0
      },
      "text/plain": [
       "HBox(children=(FloatProgress(value=0.0, description='Training', layout=Layout(flex='2'), max=6667.0, style=Pro…"
      ]
     },
     "metadata": {},
     "output_type": "display_data"
    },
    {
     "name": "stdout",
     "output_type": "stream",
     "text": [
      "Epoch 34: train=0.806647, val=0.564202, took 598.84 s\n"
     ]
    },
    {
     "data": {
      "application/vnd.jupyter.widget-view+json": {
       "model_id": "",
       "version_major": 2,
       "version_minor": 0
      },
      "text/plain": [
       "HBox(children=(FloatProgress(value=0.0, description='Training', layout=Layout(flex='2'), max=6667.0, style=Pro…"
      ]
     },
     "metadata": {},
     "output_type": "display_data"
    },
    {
     "name": "stdout",
     "output_type": "stream",
     "text": [
      "Epoch 35: train=0.805919, val=0.561224, took 598.94 s\n"
     ]
    },
    {
     "data": {
      "application/vnd.jupyter.widget-view+json": {
       "model_id": "",
       "version_major": 2,
       "version_minor": 0
      },
      "text/plain": [
       "HBox(children=(FloatProgress(value=0.0, description='Training', layout=Layout(flex='2'), max=6667.0, style=Pro…"
      ]
     },
     "metadata": {},
     "output_type": "display_data"
    },
    {
     "name": "stdout",
     "output_type": "stream",
     "text": [
      "Epoch 36: train=0.805799, val=0.555527, took 598.1 s\n"
     ]
    },
    {
     "data": {
      "application/vnd.jupyter.widget-view+json": {
       "model_id": "",
       "version_major": 2,
       "version_minor": 0
      },
      "text/plain": [
       "HBox(children=(FloatProgress(value=0.0, description='Training', layout=Layout(flex='2'), max=6667.0, style=Pro…"
      ]
     },
     "metadata": {},
     "output_type": "display_data"
    },
    {
     "name": "stdout",
     "output_type": "stream",
     "text": [
      "Epoch 37: train=0.803362, val=0.556595, took 598.17 s\n"
     ]
    },
    {
     "data": {
      "application/vnd.jupyter.widget-view+json": {
       "model_id": "",
       "version_major": 2,
       "version_minor": 0
      },
      "text/plain": [
       "HBox(children=(FloatProgress(value=0.0, description='Training', layout=Layout(flex='2'), max=6667.0, style=Pro…"
      ]
     },
     "metadata": {},
     "output_type": "display_data"
    },
    {
     "name": "stdout",
     "output_type": "stream",
     "text": [
      "Epoch 38: train=0.804862, val=0.554239, took 598.76 s\n"
     ]
    },
    {
     "data": {
      "application/vnd.jupyter.widget-view+json": {
       "model_id": "",
       "version_major": 2,
       "version_minor": 0
      },
      "text/plain": [
       "HBox(children=(FloatProgress(value=0.0, description='Training', layout=Layout(flex='2'), max=6667.0, style=Pro…"
      ]
     },
     "metadata": {},
     "output_type": "display_data"
    },
    {
     "name": "stdout",
     "output_type": "stream",
     "text": [
      "Epoch 39: train=0.804653, val=0.552845, took 598.6 s\n"
     ]
    },
    {
     "data": {
      "application/vnd.jupyter.widget-view+json": {
       "model_id": "",
       "version_major": 2,
       "version_minor": 0
      },
      "text/plain": [
       "HBox(children=(FloatProgress(value=0.0, description='Training', layout=Layout(flex='2'), max=6667.0, style=Pro…"
      ]
     },
     "metadata": {},
     "output_type": "display_data"
    },
    {
     "name": "stdout",
     "output_type": "stream",
     "text": [
      "Epoch 40: train=0.801859, val=0.552844, took 599.16 s\n"
     ]
    },
    {
     "data": {
      "application/vnd.jupyter.widget-view+json": {
       "model_id": "",
       "version_major": 2,
       "version_minor": 0
      },
      "text/plain": [
       "HBox(children=(FloatProgress(value=0.0, description='Training', layout=Layout(flex='2'), max=6667.0, style=Pro…"
      ]
     },
     "metadata": {},
     "output_type": "display_data"
    },
    {
     "name": "stdout",
     "output_type": "stream",
     "text": [
      "Epoch 41: train=0.800104, val=0.556266, took 599.01 s\n"
     ]
    },
    {
     "data": {
      "application/vnd.jupyter.widget-view+json": {
       "model_id": "",
       "version_major": 2,
       "version_minor": 0
      },
      "text/plain": [
       "HBox(children=(FloatProgress(value=0.0, description='Training', layout=Layout(flex='2'), max=6667.0, style=Pro…"
      ]
     },
     "metadata": {},
     "output_type": "display_data"
    },
    {
     "name": "stdout",
     "output_type": "stream",
     "text": [
      "Epoch 42: train=0.802409, val=0.557768, took 598.76 s\n"
     ]
    },
    {
     "data": {
      "application/vnd.jupyter.widget-view+json": {
       "model_id": "",
       "version_major": 2,
       "version_minor": 0
      },
      "text/plain": [
       "HBox(children=(FloatProgress(value=0.0, description='Training', layout=Layout(flex='2'), max=6667.0, style=Pro…"
      ]
     },
     "metadata": {},
     "output_type": "display_data"
    },
    {
     "name": "stdout",
     "output_type": "stream",
     "text": [
      "Epoch 43: train=0.802225, val=0.578509, took 599.22 s\n"
     ]
    },
    {
     "data": {
      "application/vnd.jupyter.widget-view+json": {
       "model_id": "",
       "version_major": 2,
       "version_minor": 0
      },
      "text/plain": [
       "HBox(children=(FloatProgress(value=0.0, description='Training', layout=Layout(flex='2'), max=6667.0, style=Pro…"
      ]
     },
     "metadata": {},
     "output_type": "display_data"
    },
    {
     "name": "stdout",
     "output_type": "stream",
     "text": [
      "Epoch 44: train=0.801158, val=0.573968, took 599.48 s\n"
     ]
    },
    {
     "data": {
      "application/vnd.jupyter.widget-view+json": {
       "model_id": "",
       "version_major": 2,
       "version_minor": 0
      },
      "text/plain": [
       "HBox(children=(FloatProgress(value=0.0, description='Training', layout=Layout(flex='2'), max=6667.0, style=Pro…"
      ]
     },
     "metadata": {},
     "output_type": "display_data"
    },
    {
     "name": "stdout",
     "output_type": "stream",
     "text": [
      "Epoch 45: train=0.800209, val=0.550753, took 598.36 s\n"
     ]
    },
    {
     "data": {
      "application/vnd.jupyter.widget-view+json": {
       "model_id": "",
       "version_major": 2,
       "version_minor": 0
      },
      "text/plain": [
       "HBox(children=(FloatProgress(value=0.0, description='Training', layout=Layout(flex='2'), max=6667.0, style=Pro…"
      ]
     },
     "metadata": {},
     "output_type": "display_data"
    },
    {
     "name": "stdout",
     "output_type": "stream",
     "text": [
      "Epoch 46: train=0.800651, val=0.565097, took 598.57 s\n"
     ]
    },
    {
     "data": {
      "application/vnd.jupyter.widget-view+json": {
       "model_id": "",
       "version_major": 2,
       "version_minor": 0
      },
      "text/plain": [
       "HBox(children=(FloatProgress(value=0.0, description='Training', layout=Layout(flex='2'), max=6667.0, style=Pro…"
      ]
     },
     "metadata": {},
     "output_type": "display_data"
    },
    {
     "name": "stdout",
     "output_type": "stream",
     "text": [
      "Epoch 47: train=0.800676, val=0.555264, took 597.87 s\n"
     ]
    },
    {
     "data": {
      "application/vnd.jupyter.widget-view+json": {
       "model_id": "",
       "version_major": 2,
       "version_minor": 0
      },
      "text/plain": [
       "HBox(children=(FloatProgress(value=0.0, description='Training', layout=Layout(flex='2'), max=6667.0, style=Pro…"
      ]
     },
     "metadata": {},
     "output_type": "display_data"
    },
    {
     "name": "stdout",
     "output_type": "stream",
     "text": [
      "Epoch 48: train=0.798101, val=0.553598, took 598.99 s\n"
     ]
    },
    {
     "data": {
      "application/vnd.jupyter.widget-view+json": {
       "model_id": "",
       "version_major": 2,
       "version_minor": 0
      },
      "text/plain": [
       "HBox(children=(FloatProgress(value=0.0, description='Training', layout=Layout(flex='2'), max=6667.0, style=Pro…"
      ]
     },
     "metadata": {},
     "output_type": "display_data"
    },
    {
     "name": "stdout",
     "output_type": "stream",
     "text": [
      "Epoch 49: train=0.796976, val=0.578511, took 599.01 s\n"
     ]
    },
    {
     "data": {
      "application/vnd.jupyter.widget-view+json": {
       "model_id": "",
       "version_major": 2,
       "version_minor": 0
      },
      "text/plain": [
       "HBox(children=(FloatProgress(value=0.0, description='Training', layout=Layout(flex='2'), max=6667.0, style=Pro…"
      ]
     },
     "metadata": {},
     "output_type": "display_data"
    },
    {
     "name": "stdout",
     "output_type": "stream",
     "text": [
      "Epoch 50: train=0.797942, val=0.552385, took 599.86 s\n"
     ]
    },
    {
     "data": {
      "application/vnd.jupyter.widget-view+json": {
       "model_id": "",
       "version_major": 2,
       "version_minor": 0
      },
      "text/plain": [
       "HBox(children=(FloatProgress(value=0.0, description='Training', layout=Layout(flex='2'), max=6667.0, style=Pro…"
      ]
     },
     "metadata": {},
     "output_type": "display_data"
    },
    {
     "name": "stdout",
     "output_type": "stream",
     "text": [
      "Epoch 51: train=0.796863, val=0.565146, took 599.04 s\n"
     ]
    },
    {
     "data": {
      "application/vnd.jupyter.widget-view+json": {
       "model_id": "",
       "version_major": 2,
       "version_minor": 0
      },
      "text/plain": [
       "HBox(children=(FloatProgress(value=0.0, description='Training', layout=Layout(flex='2'), max=6667.0, style=Pro…"
      ]
     },
     "metadata": {},
     "output_type": "display_data"
    },
    {
     "name": "stdout",
     "output_type": "stream",
     "text": [
      "Epoch 52: train=0.795798, val=0.551421, took 599.05 s\n"
     ]
    },
    {
     "data": {
      "application/vnd.jupyter.widget-view+json": {
       "model_id": "",
       "version_major": 2,
       "version_minor": 0
      },
      "text/plain": [
       "HBox(children=(FloatProgress(value=0.0, description='Training', layout=Layout(flex='2'), max=6667.0, style=Pro…"
      ]
     },
     "metadata": {},
     "output_type": "display_data"
    },
    {
     "name": "stdout",
     "output_type": "stream",
     "text": [
      "Epoch 53: train=0.79547, val=0.549924, took 599.06 s\n"
     ]
    },
    {
     "data": {
      "application/vnd.jupyter.widget-view+json": {
       "model_id": "",
       "version_major": 2,
       "version_minor": 0
      },
      "text/plain": [
       "HBox(children=(FloatProgress(value=0.0, description='Training', layout=Layout(flex='2'), max=6667.0, style=Pro…"
      ]
     },
     "metadata": {},
     "output_type": "display_data"
    },
    {
     "name": "stdout",
     "output_type": "stream",
     "text": [
      "Epoch 54: train=0.794518, val=0.549283, took 598.86 s\n"
     ]
    },
    {
     "data": {
      "application/vnd.jupyter.widget-view+json": {
       "model_id": "",
       "version_major": 2,
       "version_minor": 0
      },
      "text/plain": [
       "HBox(children=(FloatProgress(value=0.0, description='Training', layout=Layout(flex='2'), max=6667.0, style=Pro…"
      ]
     },
     "metadata": {},
     "output_type": "display_data"
    },
    {
     "name": "stdout",
     "output_type": "stream",
     "text": [
      "Epoch 55: train=0.792823, val=0.543155, took 600.45 s\n"
     ]
    },
    {
     "data": {
      "application/vnd.jupyter.widget-view+json": {
       "model_id": "",
       "version_major": 2,
       "version_minor": 0
      },
      "text/plain": [
       "HBox(children=(FloatProgress(value=0.0, description='Training', layout=Layout(flex='2'), max=6667.0, style=Pro…"
      ]
     },
     "metadata": {},
     "output_type": "display_data"
    },
    {
     "name": "stdout",
     "output_type": "stream",
     "text": [
      "Epoch 56: train=0.794077, val=0.549585, took 599.58 s\n"
     ]
    },
    {
     "data": {
      "application/vnd.jupyter.widget-view+json": {
       "model_id": "",
       "version_major": 2,
       "version_minor": 0
      },
      "text/plain": [
       "HBox(children=(FloatProgress(value=0.0, description='Training', layout=Layout(flex='2'), max=6667.0, style=Pro…"
      ]
     },
     "metadata": {},
     "output_type": "display_data"
    },
    {
     "name": "stdout",
     "output_type": "stream",
     "text": [
      "Epoch 57: train=0.79249, val=0.551157, took 599.97 s\n"
     ]
    },
    {
     "data": {
      "application/vnd.jupyter.widget-view+json": {
       "model_id": "",
       "version_major": 2,
       "version_minor": 0
      },
      "text/plain": [
       "HBox(children=(FloatProgress(value=0.0, description='Training', layout=Layout(flex='2'), max=6667.0, style=Pro…"
      ]
     },
     "metadata": {},
     "output_type": "display_data"
    },
    {
     "name": "stdout",
     "output_type": "stream",
     "text": [
      "Epoch 58: train=0.794019, val=0.615223, took 598.49 s\n"
     ]
    },
    {
     "data": {
      "application/vnd.jupyter.widget-view+json": {
       "model_id": "",
       "version_major": 2,
       "version_minor": 0
      },
      "text/plain": [
       "HBox(children=(FloatProgress(value=0.0, description='Training', layout=Layout(flex='2'), max=6667.0, style=Pro…"
      ]
     },
     "metadata": {},
     "output_type": "display_data"
    },
    {
     "name": "stdout",
     "output_type": "stream",
     "text": [
      "Epoch 59: train=0.791893, val=0.567693, took 597.49 s\n",
      "\n"
     ]
    }
   ],
   "source": [
    "for result in trainNet(model, optimizer, loss,\n",
    "                        train_loader, val_loader,\n",
    "                        n_epochs, epoch_start=len(results),\n",
    "                        notebook=True):\n",
    "    \n",
    "    results = results.append(pd.Series(result._asdict()), ignore_index=True)\n",
    "    xs = results.index\n",
    "    \n",
    "    # Update the plot above\n",
    "    lines['train'].set_data(results.index,results.cost)\n",
    "    lines['val'].set_data(results.index,results.val)\n",
    "    \n",
    "    #filter first cost epoch (can be really large)\n",
    "    max_cost = max(max(results.cost if len(results.cost)<2 else results.cost[1:]), max(results.val))\n",
    "    min_cost = min(min(results.cost), min(results.val))\n",
    "    \n",
    "    # The plot limits need updating too\n",
    "    \n",
    "    \n",
    "    \n",
    "    ax.set_ylim(min_cost*.9, max_cost*1.1)  \n",
    "    ax.set_xlim(-.5, len(results.cost) - .5)\n",
    "\n",
    "    \n",
    "    # Redraw the figure\n",
    "    fig.canvas.draw()\n",
    "\n",
    "    # Save each model state dictionary\n",
    "    torch.save(model.state_dict(), output / f'{name}_{result.epoch}.pyt')"
   ]
  },
  {
   "cell_type": "markdown",
   "metadata": {},
   "source": [
    "Go ahead and save the final model (even though it was also saved above):"
   ]
  },
  {
   "cell_type": "code",
   "execution_count": 18,
   "metadata": {},
   "outputs": [],
   "source": [
    "torch.save(model.state_dict(), output / f'{name}_final.pyt')"
   ]
  },
  {
   "cell_type": "markdown",
   "metadata": {},
   "source": [
    "Save the output results:"
   ]
  },
  {
   "cell_type": "code",
   "execution_count": 19,
   "metadata": {},
   "outputs": [],
   "source": [
    "results.to_hdf(f'{name}_stats.hdf5', 'results')"
   ]
  },
  {
   "cell_type": "markdown",
   "metadata": {},
   "source": [
    "Save the plot above:"
   ]
  },
  {
   "cell_type": "code",
   "execution_count": 20,
   "metadata": {},
   "outputs": [
    {
     "data": {
      "application/javascript": [
       "/* Put everything inside the global mpl namespace */\n",
       "window.mpl = {};\n",
       "\n",
       "\n",
       "mpl.get_websocket_type = function() {\n",
       "    if (typeof(WebSocket) !== 'undefined') {\n",
       "        return WebSocket;\n",
       "    } else if (typeof(MozWebSocket) !== 'undefined') {\n",
       "        return MozWebSocket;\n",
       "    } else {\n",
       "        alert('Your browser does not have WebSocket support. ' +\n",
       "              'Please try Chrome, Safari or Firefox ≥ 6. ' +\n",
       "              'Firefox 4 and 5 are also supported but you ' +\n",
       "              'have to enable WebSockets in about:config.');\n",
       "    };\n",
       "}\n",
       "\n",
       "mpl.figure = function(figure_id, websocket, ondownload, parent_element) {\n",
       "    this.id = figure_id;\n",
       "\n",
       "    this.ws = websocket;\n",
       "\n",
       "    this.supports_binary = (this.ws.binaryType != undefined);\n",
       "\n",
       "    if (!this.supports_binary) {\n",
       "        var warnings = document.getElementById(\"mpl-warnings\");\n",
       "        if (warnings) {\n",
       "            warnings.style.display = 'block';\n",
       "            warnings.textContent = (\n",
       "                \"This browser does not support binary websocket messages. \" +\n",
       "                    \"Performance may be slow.\");\n",
       "        }\n",
       "    }\n",
       "\n",
       "    this.imageObj = new Image();\n",
       "\n",
       "    this.context = undefined;\n",
       "    this.message = undefined;\n",
       "    this.canvas = undefined;\n",
       "    this.rubberband_canvas = undefined;\n",
       "    this.rubberband_context = undefined;\n",
       "    this.format_dropdown = undefined;\n",
       "\n",
       "    this.image_mode = 'full';\n",
       "\n",
       "    this.root = $('<div/>');\n",
       "    this._root_extra_style(this.root)\n",
       "    this.root.attr('style', 'display: inline-block');\n",
       "\n",
       "    $(parent_element).append(this.root);\n",
       "\n",
       "    this._init_header(this);\n",
       "    this._init_canvas(this);\n",
       "    this._init_toolbar(this);\n",
       "\n",
       "    var fig = this;\n",
       "\n",
       "    this.waiting = false;\n",
       "\n",
       "    this.ws.onopen =  function () {\n",
       "            fig.send_message(\"supports_binary\", {value: fig.supports_binary});\n",
       "            fig.send_message(\"send_image_mode\", {});\n",
       "            if (mpl.ratio != 1) {\n",
       "                fig.send_message(\"set_dpi_ratio\", {'dpi_ratio': mpl.ratio});\n",
       "            }\n",
       "            fig.send_message(\"refresh\", {});\n",
       "        }\n",
       "\n",
       "    this.imageObj.onload = function() {\n",
       "            if (fig.image_mode == 'full') {\n",
       "                // Full images could contain transparency (where diff images\n",
       "                // almost always do), so we need to clear the canvas so that\n",
       "                // there is no ghosting.\n",
       "                fig.context.clearRect(0, 0, fig.canvas.width, fig.canvas.height);\n",
       "            }\n",
       "            fig.context.drawImage(fig.imageObj, 0, 0);\n",
       "        };\n",
       "\n",
       "    this.imageObj.onunload = function() {\n",
       "        fig.ws.close();\n",
       "    }\n",
       "\n",
       "    this.ws.onmessage = this._make_on_message_function(this);\n",
       "\n",
       "    this.ondownload = ondownload;\n",
       "}\n",
       "\n",
       "mpl.figure.prototype._init_header = function() {\n",
       "    var titlebar = $(\n",
       "        '<div class=\"ui-dialog-titlebar ui-widget-header ui-corner-all ' +\n",
       "        'ui-helper-clearfix\"/>');\n",
       "    var titletext = $(\n",
       "        '<div class=\"ui-dialog-title\" style=\"width: 100%; ' +\n",
       "        'text-align: center; padding: 3px;\"/>');\n",
       "    titlebar.append(titletext)\n",
       "    this.root.append(titlebar);\n",
       "    this.header = titletext[0];\n",
       "}\n",
       "\n",
       "\n",
       "\n",
       "mpl.figure.prototype._canvas_extra_style = function(canvas_div) {\n",
       "\n",
       "}\n",
       "\n",
       "\n",
       "mpl.figure.prototype._root_extra_style = function(canvas_div) {\n",
       "\n",
       "}\n",
       "\n",
       "mpl.figure.prototype._init_canvas = function() {\n",
       "    var fig = this;\n",
       "\n",
       "    var canvas_div = $('<div/>');\n",
       "\n",
       "    canvas_div.attr('style', 'position: relative; clear: both; outline: 0');\n",
       "\n",
       "    function canvas_keyboard_event(event) {\n",
       "        return fig.key_event(event, event['data']);\n",
       "    }\n",
       "\n",
       "    canvas_div.keydown('key_press', canvas_keyboard_event);\n",
       "    canvas_div.keyup('key_release', canvas_keyboard_event);\n",
       "    this.canvas_div = canvas_div\n",
       "    this._canvas_extra_style(canvas_div)\n",
       "    this.root.append(canvas_div);\n",
       "\n",
       "    var canvas = $('<canvas/>');\n",
       "    canvas.addClass('mpl-canvas');\n",
       "    canvas.attr('style', \"left: 0; top: 0; z-index: 0; outline: 0\")\n",
       "\n",
       "    this.canvas = canvas[0];\n",
       "    this.context = canvas[0].getContext(\"2d\");\n",
       "\n",
       "    var backingStore = this.context.backingStorePixelRatio ||\n",
       "\tthis.context.webkitBackingStorePixelRatio ||\n",
       "\tthis.context.mozBackingStorePixelRatio ||\n",
       "\tthis.context.msBackingStorePixelRatio ||\n",
       "\tthis.context.oBackingStorePixelRatio ||\n",
       "\tthis.context.backingStorePixelRatio || 1;\n",
       "\n",
       "    mpl.ratio = (window.devicePixelRatio || 1) / backingStore;\n",
       "\n",
       "    var rubberband = $('<canvas/>');\n",
       "    rubberband.attr('style', \"position: absolute; left: 0; top: 0; z-index: 1;\")\n",
       "\n",
       "    var pass_mouse_events = true;\n",
       "\n",
       "    canvas_div.resizable({\n",
       "        start: function(event, ui) {\n",
       "            pass_mouse_events = false;\n",
       "        },\n",
       "        resize: function(event, ui) {\n",
       "            fig.request_resize(ui.size.width, ui.size.height);\n",
       "        },\n",
       "        stop: function(event, ui) {\n",
       "            pass_mouse_events = true;\n",
       "            fig.request_resize(ui.size.width, ui.size.height);\n",
       "        },\n",
       "    });\n",
       "\n",
       "    function mouse_event_fn(event) {\n",
       "        if (pass_mouse_events)\n",
       "            return fig.mouse_event(event, event['data']);\n",
       "    }\n",
       "\n",
       "    rubberband.mousedown('button_press', mouse_event_fn);\n",
       "    rubberband.mouseup('button_release', mouse_event_fn);\n",
       "    // Throttle sequential mouse events to 1 every 20ms.\n",
       "    rubberband.mousemove('motion_notify', mouse_event_fn);\n",
       "\n",
       "    rubberband.mouseenter('figure_enter', mouse_event_fn);\n",
       "    rubberband.mouseleave('figure_leave', mouse_event_fn);\n",
       "\n",
       "    canvas_div.on(\"wheel\", function (event) {\n",
       "        event = event.originalEvent;\n",
       "        event['data'] = 'scroll'\n",
       "        if (event.deltaY < 0) {\n",
       "            event.step = 1;\n",
       "        } else {\n",
       "            event.step = -1;\n",
       "        }\n",
       "        mouse_event_fn(event);\n",
       "    });\n",
       "\n",
       "    canvas_div.append(canvas);\n",
       "    canvas_div.append(rubberband);\n",
       "\n",
       "    this.rubberband = rubberband;\n",
       "    this.rubberband_canvas = rubberband[0];\n",
       "    this.rubberband_context = rubberband[0].getContext(\"2d\");\n",
       "    this.rubberband_context.strokeStyle = \"#000000\";\n",
       "\n",
       "    this._resize_canvas = function(width, height) {\n",
       "        // Keep the size of the canvas, canvas container, and rubber band\n",
       "        // canvas in synch.\n",
       "        canvas_div.css('width', width)\n",
       "        canvas_div.css('height', height)\n",
       "\n",
       "        canvas.attr('width', width * mpl.ratio);\n",
       "        canvas.attr('height', height * mpl.ratio);\n",
       "        canvas.attr('style', 'width: ' + width + 'px; height: ' + height + 'px;');\n",
       "\n",
       "        rubberband.attr('width', width);\n",
       "        rubberband.attr('height', height);\n",
       "    }\n",
       "\n",
       "    // Set the figure to an initial 600x600px, this will subsequently be updated\n",
       "    // upon first draw.\n",
       "    this._resize_canvas(600, 600);\n",
       "\n",
       "    // Disable right mouse context menu.\n",
       "    $(this.rubberband_canvas).bind(\"contextmenu\",function(e){\n",
       "        return false;\n",
       "    });\n",
       "\n",
       "    function set_focus () {\n",
       "        canvas.focus();\n",
       "        canvas_div.focus();\n",
       "    }\n",
       "\n",
       "    window.setTimeout(set_focus, 100);\n",
       "}\n",
       "\n",
       "mpl.figure.prototype._init_toolbar = function() {\n",
       "    var fig = this;\n",
       "\n",
       "    var nav_element = $('<div/>');\n",
       "    nav_element.attr('style', 'width: 100%');\n",
       "    this.root.append(nav_element);\n",
       "\n",
       "    // Define a callback function for later on.\n",
       "    function toolbar_event(event) {\n",
       "        return fig.toolbar_button_onclick(event['data']);\n",
       "    }\n",
       "    function toolbar_mouse_event(event) {\n",
       "        return fig.toolbar_button_onmouseover(event['data']);\n",
       "    }\n",
       "\n",
       "    for(var toolbar_ind in mpl.toolbar_items) {\n",
       "        var name = mpl.toolbar_items[toolbar_ind][0];\n",
       "        var tooltip = mpl.toolbar_items[toolbar_ind][1];\n",
       "        var image = mpl.toolbar_items[toolbar_ind][2];\n",
       "        var method_name = mpl.toolbar_items[toolbar_ind][3];\n",
       "\n",
       "        if (!name) {\n",
       "            // put a spacer in here.\n",
       "            continue;\n",
       "        }\n",
       "        var button = $('<button/>');\n",
       "        button.addClass('ui-button ui-widget ui-state-default ui-corner-all ' +\n",
       "                        'ui-button-icon-only');\n",
       "        button.attr('role', 'button');\n",
       "        button.attr('aria-disabled', 'false');\n",
       "        button.click(method_name, toolbar_event);\n",
       "        button.mouseover(tooltip, toolbar_mouse_event);\n",
       "\n",
       "        var icon_img = $('<span/>');\n",
       "        icon_img.addClass('ui-button-icon-primary ui-icon');\n",
       "        icon_img.addClass(image);\n",
       "        icon_img.addClass('ui-corner-all');\n",
       "\n",
       "        var tooltip_span = $('<span/>');\n",
       "        tooltip_span.addClass('ui-button-text');\n",
       "        tooltip_span.html(tooltip);\n",
       "\n",
       "        button.append(icon_img);\n",
       "        button.append(tooltip_span);\n",
       "\n",
       "        nav_element.append(button);\n",
       "    }\n",
       "\n",
       "    var fmt_picker_span = $('<span/>');\n",
       "\n",
       "    var fmt_picker = $('<select/>');\n",
       "    fmt_picker.addClass('mpl-toolbar-option ui-widget ui-widget-content');\n",
       "    fmt_picker_span.append(fmt_picker);\n",
       "    nav_element.append(fmt_picker_span);\n",
       "    this.format_dropdown = fmt_picker[0];\n",
       "\n",
       "    for (var ind in mpl.extensions) {\n",
       "        var fmt = mpl.extensions[ind];\n",
       "        var option = $(\n",
       "            '<option/>', {selected: fmt === mpl.default_extension}).html(fmt);\n",
       "        fmt_picker.append(option);\n",
       "    }\n",
       "\n",
       "    // Add hover states to the ui-buttons\n",
       "    $( \".ui-button\" ).hover(\n",
       "        function() { $(this).addClass(\"ui-state-hover\");},\n",
       "        function() { $(this).removeClass(\"ui-state-hover\");}\n",
       "    );\n",
       "\n",
       "    var status_bar = $('<span class=\"mpl-message\"/>');\n",
       "    nav_element.append(status_bar);\n",
       "    this.message = status_bar[0];\n",
       "}\n",
       "\n",
       "mpl.figure.prototype.request_resize = function(x_pixels, y_pixels) {\n",
       "    // Request matplotlib to resize the figure. Matplotlib will then trigger a resize in the client,\n",
       "    // which will in turn request a refresh of the image.\n",
       "    this.send_message('resize', {'width': x_pixels, 'height': y_pixels});\n",
       "}\n",
       "\n",
       "mpl.figure.prototype.send_message = function(type, properties) {\n",
       "    properties['type'] = type;\n",
       "    properties['figure_id'] = this.id;\n",
       "    this.ws.send(JSON.stringify(properties));\n",
       "}\n",
       "\n",
       "mpl.figure.prototype.send_draw_message = function() {\n",
       "    if (!this.waiting) {\n",
       "        this.waiting = true;\n",
       "        this.ws.send(JSON.stringify({type: \"draw\", figure_id: this.id}));\n",
       "    }\n",
       "}\n",
       "\n",
       "\n",
       "mpl.figure.prototype.handle_save = function(fig, msg) {\n",
       "    var format_dropdown = fig.format_dropdown;\n",
       "    var format = format_dropdown.options[format_dropdown.selectedIndex].value;\n",
       "    fig.ondownload(fig, format);\n",
       "}\n",
       "\n",
       "\n",
       "mpl.figure.prototype.handle_resize = function(fig, msg) {\n",
       "    var size = msg['size'];\n",
       "    if (size[0] != fig.canvas.width || size[1] != fig.canvas.height) {\n",
       "        fig._resize_canvas(size[0], size[1]);\n",
       "        fig.send_message(\"refresh\", {});\n",
       "    };\n",
       "}\n",
       "\n",
       "mpl.figure.prototype.handle_rubberband = function(fig, msg) {\n",
       "    var x0 = msg['x0'] / mpl.ratio;\n",
       "    var y0 = (fig.canvas.height - msg['y0']) / mpl.ratio;\n",
       "    var x1 = msg['x1'] / mpl.ratio;\n",
       "    var y1 = (fig.canvas.height - msg['y1']) / mpl.ratio;\n",
       "    x0 = Math.floor(x0) + 0.5;\n",
       "    y0 = Math.floor(y0) + 0.5;\n",
       "    x1 = Math.floor(x1) + 0.5;\n",
       "    y1 = Math.floor(y1) + 0.5;\n",
       "    var min_x = Math.min(x0, x1);\n",
       "    var min_y = Math.min(y0, y1);\n",
       "    var width = Math.abs(x1 - x0);\n",
       "    var height = Math.abs(y1 - y0);\n",
       "\n",
       "    fig.rubberband_context.clearRect(\n",
       "        0, 0, fig.canvas.width / mpl.ratio, fig.canvas.height / mpl.ratio);\n",
       "\n",
       "    fig.rubberband_context.strokeRect(min_x, min_y, width, height);\n",
       "}\n",
       "\n",
       "mpl.figure.prototype.handle_figure_label = function(fig, msg) {\n",
       "    // Updates the figure title.\n",
       "    fig.header.textContent = msg['label'];\n",
       "}\n",
       "\n",
       "mpl.figure.prototype.handle_cursor = function(fig, msg) {\n",
       "    var cursor = msg['cursor'];\n",
       "    switch(cursor)\n",
       "    {\n",
       "    case 0:\n",
       "        cursor = 'pointer';\n",
       "        break;\n",
       "    case 1:\n",
       "        cursor = 'default';\n",
       "        break;\n",
       "    case 2:\n",
       "        cursor = 'crosshair';\n",
       "        break;\n",
       "    case 3:\n",
       "        cursor = 'move';\n",
       "        break;\n",
       "    }\n",
       "    fig.rubberband_canvas.style.cursor = cursor;\n",
       "}\n",
       "\n",
       "mpl.figure.prototype.handle_message = function(fig, msg) {\n",
       "    fig.message.textContent = msg['message'];\n",
       "}\n",
       "\n",
       "mpl.figure.prototype.handle_draw = function(fig, msg) {\n",
       "    // Request the server to send over a new figure.\n",
       "    fig.send_draw_message();\n",
       "}\n",
       "\n",
       "mpl.figure.prototype.handle_image_mode = function(fig, msg) {\n",
       "    fig.image_mode = msg['mode'];\n",
       "}\n",
       "\n",
       "mpl.figure.prototype.updated_canvas_event = function() {\n",
       "    // Called whenever the canvas gets updated.\n",
       "    this.send_message(\"ack\", {});\n",
       "}\n",
       "\n",
       "// A function to construct a web socket function for onmessage handling.\n",
       "// Called in the figure constructor.\n",
       "mpl.figure.prototype._make_on_message_function = function(fig) {\n",
       "    return function socket_on_message(evt) {\n",
       "        if (evt.data instanceof Blob) {\n",
       "            /* FIXME: We get \"Resource interpreted as Image but\n",
       "             * transferred with MIME type text/plain:\" errors on\n",
       "             * Chrome.  But how to set the MIME type?  It doesn't seem\n",
       "             * to be part of the websocket stream */\n",
       "            evt.data.type = \"image/png\";\n",
       "\n",
       "            /* Free the memory for the previous frames */\n",
       "            if (fig.imageObj.src) {\n",
       "                (window.URL || window.webkitURL).revokeObjectURL(\n",
       "                    fig.imageObj.src);\n",
       "            }\n",
       "\n",
       "            fig.imageObj.src = (window.URL || window.webkitURL).createObjectURL(\n",
       "                evt.data);\n",
       "            fig.updated_canvas_event();\n",
       "            fig.waiting = false;\n",
       "            return;\n",
       "        }\n",
       "        else if (typeof evt.data === 'string' && evt.data.slice(0, 21) == \"data:image/png;base64\") {\n",
       "            fig.imageObj.src = evt.data;\n",
       "            fig.updated_canvas_event();\n",
       "            fig.waiting = false;\n",
       "            return;\n",
       "        }\n",
       "\n",
       "        var msg = JSON.parse(evt.data);\n",
       "        var msg_type = msg['type'];\n",
       "\n",
       "        // Call the  \"handle_{type}\" callback, which takes\n",
       "        // the figure and JSON message as its only arguments.\n",
       "        try {\n",
       "            var callback = fig[\"handle_\" + msg_type];\n",
       "        } catch (e) {\n",
       "            console.log(\"No handler for the '\" + msg_type + \"' message type: \", msg);\n",
       "            return;\n",
       "        }\n",
       "\n",
       "        if (callback) {\n",
       "            try {\n",
       "                // console.log(\"Handling '\" + msg_type + \"' message: \", msg);\n",
       "                callback(fig, msg);\n",
       "            } catch (e) {\n",
       "                console.log(\"Exception inside the 'handler_\" + msg_type + \"' callback:\", e, e.stack, msg);\n",
       "            }\n",
       "        }\n",
       "    };\n",
       "}\n",
       "\n",
       "// from http://stackoverflow.com/questions/1114465/getting-mouse-location-in-canvas\n",
       "mpl.findpos = function(e) {\n",
       "    //this section is from http://www.quirksmode.org/js/events_properties.html\n",
       "    var targ;\n",
       "    if (!e)\n",
       "        e = window.event;\n",
       "    if (e.target)\n",
       "        targ = e.target;\n",
       "    else if (e.srcElement)\n",
       "        targ = e.srcElement;\n",
       "    if (targ.nodeType == 3) // defeat Safari bug\n",
       "        targ = targ.parentNode;\n",
       "\n",
       "    // jQuery normalizes the pageX and pageY\n",
       "    // pageX,Y are the mouse positions relative to the document\n",
       "    // offset() returns the position of the element relative to the document\n",
       "    var x = e.pageX - $(targ).offset().left;\n",
       "    var y = e.pageY - $(targ).offset().top;\n",
       "\n",
       "    return {\"x\": x, \"y\": y};\n",
       "};\n",
       "\n",
       "/*\n",
       " * return a copy of an object with only non-object keys\n",
       " * we need this to avoid circular references\n",
       " * http://stackoverflow.com/a/24161582/3208463\n",
       " */\n",
       "function simpleKeys (original) {\n",
       "  return Object.keys(original).reduce(function (obj, key) {\n",
       "    if (typeof original[key] !== 'object')\n",
       "        obj[key] = original[key]\n",
       "    return obj;\n",
       "  }, {});\n",
       "}\n",
       "\n",
       "mpl.figure.prototype.mouse_event = function(event, name) {\n",
       "    var canvas_pos = mpl.findpos(event)\n",
       "\n",
       "    if (name === 'button_press')\n",
       "    {\n",
       "        this.canvas.focus();\n",
       "        this.canvas_div.focus();\n",
       "    }\n",
       "\n",
       "    var x = canvas_pos.x * mpl.ratio;\n",
       "    var y = canvas_pos.y * mpl.ratio;\n",
       "\n",
       "    this.send_message(name, {x: x, y: y, button: event.button,\n",
       "                             step: event.step,\n",
       "                             guiEvent: simpleKeys(event)});\n",
       "\n",
       "    /* This prevents the web browser from automatically changing to\n",
       "     * the text insertion cursor when the button is pressed.  We want\n",
       "     * to control all of the cursor setting manually through the\n",
       "     * 'cursor' event from matplotlib */\n",
       "    event.preventDefault();\n",
       "    return false;\n",
       "}\n",
       "\n",
       "mpl.figure.prototype._key_event_extra = function(event, name) {\n",
       "    // Handle any extra behaviour associated with a key event\n",
       "}\n",
       "\n",
       "mpl.figure.prototype.key_event = function(event, name) {\n",
       "\n",
       "    // Prevent repeat events\n",
       "    if (name == 'key_press')\n",
       "    {\n",
       "        if (event.which === this._key)\n",
       "            return;\n",
       "        else\n",
       "            this._key = event.which;\n",
       "    }\n",
       "    if (name == 'key_release')\n",
       "        this._key = null;\n",
       "\n",
       "    var value = '';\n",
       "    if (event.ctrlKey && event.which != 17)\n",
       "        value += \"ctrl+\";\n",
       "    if (event.altKey && event.which != 18)\n",
       "        value += \"alt+\";\n",
       "    if (event.shiftKey && event.which != 16)\n",
       "        value += \"shift+\";\n",
       "\n",
       "    value += 'k';\n",
       "    value += event.which.toString();\n",
       "\n",
       "    this._key_event_extra(event, name);\n",
       "\n",
       "    this.send_message(name, {key: value,\n",
       "                             guiEvent: simpleKeys(event)});\n",
       "    return false;\n",
       "}\n",
       "\n",
       "mpl.figure.prototype.toolbar_button_onclick = function(name) {\n",
       "    if (name == 'download') {\n",
       "        this.handle_save(this, null);\n",
       "    } else {\n",
       "        this.send_message(\"toolbar_button\", {name: name});\n",
       "    }\n",
       "};\n",
       "\n",
       "mpl.figure.prototype.toolbar_button_onmouseover = function(tooltip) {\n",
       "    this.message.textContent = tooltip;\n",
       "};\n",
       "mpl.toolbar_items = [[\"Home\", \"Reset original view\", \"fa fa-home icon-home\", \"home\"], [\"Back\", \"Back to previous view\", \"fa fa-arrow-left icon-arrow-left\", \"back\"], [\"Forward\", \"Forward to next view\", \"fa fa-arrow-right icon-arrow-right\", \"forward\"], [\"\", \"\", \"\", \"\"], [\"Pan\", \"Pan axes with left mouse, zoom with right\", \"fa fa-arrows icon-move\", \"pan\"], [\"Zoom\", \"Zoom to rectangle\", \"fa fa-square-o icon-check-empty\", \"zoom\"], [\"\", \"\", \"\", \"\"], [\"Download\", \"Download plot\", \"fa fa-floppy-o icon-save\", \"download\"]];\n",
       "\n",
       "mpl.extensions = [\"eps\", \"jpeg\", \"pdf\", \"png\", \"ps\", \"raw\", \"svg\", \"tif\"];\n",
       "\n",
       "mpl.default_extension = \"png\";var comm_websocket_adapter = function(comm) {\n",
       "    // Create a \"websocket\"-like object which calls the given IPython comm\n",
       "    // object with the appropriate methods. Currently this is a non binary\n",
       "    // socket, so there is still some room for performance tuning.\n",
       "    var ws = {};\n",
       "\n",
       "    ws.close = function() {\n",
       "        comm.close()\n",
       "    };\n",
       "    ws.send = function(m) {\n",
       "        //console.log('sending', m);\n",
       "        comm.send(m);\n",
       "    };\n",
       "    // Register the callback with on_msg.\n",
       "    comm.on_msg(function(msg) {\n",
       "        //console.log('receiving', msg['content']['data'], msg);\n",
       "        // Pass the mpl event to the overridden (by mpl) onmessage function.\n",
       "        ws.onmessage(msg['content']['data'])\n",
       "    });\n",
       "    return ws;\n",
       "}\n",
       "\n",
       "mpl.mpl_figure_comm = function(comm, msg) {\n",
       "    // This is the function which gets called when the mpl process\n",
       "    // starts-up an IPython Comm through the \"matplotlib\" channel.\n",
       "\n",
       "    var id = msg.content.data.id;\n",
       "    // Get hold of the div created by the display call when the Comm\n",
       "    // socket was opened in Python.\n",
       "    var element = $(\"#\" + id);\n",
       "    var ws_proxy = comm_websocket_adapter(comm)\n",
       "\n",
       "    function ondownload(figure, format) {\n",
       "        window.open(figure.imageObj.src);\n",
       "    }\n",
       "\n",
       "    var fig = new mpl.figure(id, ws_proxy,\n",
       "                           ondownload,\n",
       "                           element.get(0));\n",
       "\n",
       "    // Call onopen now - mpl needs it, as it is assuming we've passed it a real\n",
       "    // web socket which is closed, not our websocket->open comm proxy.\n",
       "    ws_proxy.onopen();\n",
       "\n",
       "    fig.parent_element = element.get(0);\n",
       "    fig.cell_info = mpl.find_output_cell(\"<div id='\" + id + \"'></div>\");\n",
       "    if (!fig.cell_info) {\n",
       "        console.error(\"Failed to find cell for figure\", id, fig);\n",
       "        return;\n",
       "    }\n",
       "\n",
       "    var output_index = fig.cell_info[2]\n",
       "    var cell = fig.cell_info[0];\n",
       "\n",
       "};\n",
       "\n",
       "mpl.figure.prototype.handle_close = function(fig, msg) {\n",
       "    var width = fig.canvas.width/mpl.ratio\n",
       "    fig.root.unbind('remove')\n",
       "\n",
       "    // Update the output cell to use the data from the current canvas.\n",
       "    fig.push_to_output();\n",
       "    var dataURL = fig.canvas.toDataURL();\n",
       "    // Re-enable the keyboard manager in IPython - without this line, in FF,\n",
       "    // the notebook keyboard shortcuts fail.\n",
       "    IPython.keyboard_manager.enable()\n",
       "    $(fig.parent_element).html('<img src=\"' + dataURL + '\" width=\"' + width + '\">');\n",
       "    fig.close_ws(fig, msg);\n",
       "}\n",
       "\n",
       "mpl.figure.prototype.close_ws = function(fig, msg){\n",
       "    fig.send_message('closing', msg);\n",
       "    // fig.ws.close()\n",
       "}\n",
       "\n",
       "mpl.figure.prototype.push_to_output = function(remove_interactive) {\n",
       "    // Turn the data on the canvas into data in the output cell.\n",
       "    var width = this.canvas.width/mpl.ratio\n",
       "    var dataURL = this.canvas.toDataURL();\n",
       "    this.cell_info[1]['text/html'] = '<img src=\"' + dataURL + '\" width=\"' + width + '\">';\n",
       "}\n",
       "\n",
       "mpl.figure.prototype.updated_canvas_event = function() {\n",
       "    // Tell IPython that the notebook contents must change.\n",
       "    IPython.notebook.set_dirty(true);\n",
       "    this.send_message(\"ack\", {});\n",
       "    var fig = this;\n",
       "    // Wait a second, then push the new image to the DOM so\n",
       "    // that it is saved nicely (might be nice to debounce this).\n",
       "    setTimeout(function () { fig.push_to_output() }, 1000);\n",
       "}\n",
       "\n",
       "mpl.figure.prototype._init_toolbar = function() {\n",
       "    var fig = this;\n",
       "\n",
       "    var nav_element = $('<div/>');\n",
       "    nav_element.attr('style', 'width: 100%');\n",
       "    this.root.append(nav_element);\n",
       "\n",
       "    // Define a callback function for later on.\n",
       "    function toolbar_event(event) {\n",
       "        return fig.toolbar_button_onclick(event['data']);\n",
       "    }\n",
       "    function toolbar_mouse_event(event) {\n",
       "        return fig.toolbar_button_onmouseover(event['data']);\n",
       "    }\n",
       "\n",
       "    for(var toolbar_ind in mpl.toolbar_items){\n",
       "        var name = mpl.toolbar_items[toolbar_ind][0];\n",
       "        var tooltip = mpl.toolbar_items[toolbar_ind][1];\n",
       "        var image = mpl.toolbar_items[toolbar_ind][2];\n",
       "        var method_name = mpl.toolbar_items[toolbar_ind][3];\n",
       "\n",
       "        if (!name) { continue; };\n",
       "\n",
       "        var button = $('<button class=\"btn btn-default\" href=\"#\" title=\"' + name + '\"><i class=\"fa ' + image + ' fa-lg\"></i></button>');\n",
       "        button.click(method_name, toolbar_event);\n",
       "        button.mouseover(tooltip, toolbar_mouse_event);\n",
       "        nav_element.append(button);\n",
       "    }\n",
       "\n",
       "    // Add the status bar.\n",
       "    var status_bar = $('<span class=\"mpl-message\" style=\"text-align:right; float: right;\"/>');\n",
       "    nav_element.append(status_bar);\n",
       "    this.message = status_bar[0];\n",
       "\n",
       "    // Add the close button to the window.\n",
       "    var buttongrp = $('<div class=\"btn-group inline pull-right\"></div>');\n",
       "    var button = $('<button class=\"btn btn-mini btn-primary\" href=\"#\" title=\"Stop Interaction\"><i class=\"fa fa-power-off icon-remove icon-large\"></i></button>');\n",
       "    button.click(function (evt) { fig.handle_close(fig, {}); } );\n",
       "    button.mouseover('Stop Interaction', toolbar_mouse_event);\n",
       "    buttongrp.append(button);\n",
       "    var titlebar = this.root.find($('.ui-dialog-titlebar'));\n",
       "    titlebar.prepend(buttongrp);\n",
       "}\n",
       "\n",
       "mpl.figure.prototype._root_extra_style = function(el){\n",
       "    var fig = this\n",
       "    el.on(\"remove\", function(){\n",
       "\tfig.close_ws(fig, {});\n",
       "    });\n",
       "}\n",
       "\n",
       "mpl.figure.prototype._canvas_extra_style = function(el){\n",
       "    // this is important to make the div 'focusable\n",
       "    el.attr('tabindex', 0)\n",
       "    // reach out to IPython and tell the keyboard manager to turn it's self\n",
       "    // off when our div gets focus\n",
       "\n",
       "    // location in version 3\n",
       "    if (IPython.notebook.keyboard_manager) {\n",
       "        IPython.notebook.keyboard_manager.register_events(el);\n",
       "    }\n",
       "    else {\n",
       "        // location in version 2\n",
       "        IPython.keyboard_manager.register_events(el);\n",
       "    }\n",
       "\n",
       "}\n",
       "\n",
       "mpl.figure.prototype._key_event_extra = function(event, name) {\n",
       "    var manager = IPython.notebook.keyboard_manager;\n",
       "    if (!manager)\n",
       "        manager = IPython.keyboard_manager;\n",
       "\n",
       "    // Check for shift+enter\n",
       "    if (event.shiftKey && event.which == 13) {\n",
       "        this.canvas_div.blur();\n",
       "        // select the cell after this one\n",
       "        var index = IPython.notebook.find_cell_index(this.cell_info[0]);\n",
       "        IPython.notebook.select(index + 1);\n",
       "    }\n",
       "}\n",
       "\n",
       "mpl.figure.prototype.handle_save = function(fig, msg) {\n",
       "    fig.ondownload(fig, null);\n",
       "}\n",
       "\n",
       "\n",
       "mpl.find_output_cell = function(html_output) {\n",
       "    // Return the cell and output element which can be found *uniquely* in the notebook.\n",
       "    // Note - this is a bit hacky, but it is done because the \"notebook_saving.Notebook\"\n",
       "    // IPython event is triggered only after the cells have been serialised, which for\n",
       "    // our purposes (turning an active figure into a static one), is too late.\n",
       "    var cells = IPython.notebook.get_cells();\n",
       "    var ncells = cells.length;\n",
       "    for (var i=0; i<ncells; i++) {\n",
       "        var cell = cells[i];\n",
       "        if (cell.cell_type === 'code'){\n",
       "            for (var j=0; j<cell.output_area.outputs.length; j++) {\n",
       "                var data = cell.output_area.outputs[j];\n",
       "                if (data.data) {\n",
       "                    // IPython >= 3 moved mimebundle to data attribute of output\n",
       "                    data = data.data;\n",
       "                }\n",
       "                if (data['text/html'] == html_output) {\n",
       "                    return [cell, data, j];\n",
       "                }\n",
       "            }\n",
       "        }\n",
       "    }\n",
       "}\n",
       "\n",
       "// Register the function which deals with the matplotlib target/channel.\n",
       "// The kernel may be null if the page has been refreshed.\n",
       "if (IPython.notebook.kernel != null) {\n",
       "    IPython.notebook.kernel.comm_manager.register_target('matplotlib', mpl.mpl_figure_comm);\n",
       "}\n"
      ],
      "text/plain": [
       "<IPython.core.display.Javascript object>"
      ]
     },
     "metadata": {},
     "output_type": "display_data"
    },
    {
     "data": {
      "text/html": [
       "<img src=\"data:image/png;base64,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\" width=\"999.75\">"
      ],
      "text/plain": [
       "<IPython.core.display.HTML object>"
      ]
     },
     "metadata": {},
     "output_type": "display_data"
    }
   ],
   "source": [
    "dual_train_plots(results.index,\n",
    "                 results.cost, results.val,\n",
    "                 results.cost, results.val)\n",
    "plt.tight_layout()\n",
    "plt.savefig(str(output / f'{name}_stats_a.png'))"
   ]
  },
  {
   "cell_type": "code",
   "execution_count": 1,
   "metadata": {},
   "outputs": [],
   "source": [
    "##quit()"
   ]
  },
  {
   "cell_type": "code",
   "execution_count": null,
   "metadata": {},
   "outputs": [],
   "source": []
  },
  {
   "cell_type": "code",
   "execution_count": null,
   "metadata": {},
   "outputs": [],
   "source": []
  }
 ],
 "metadata": {
  "kernelspec": {
   "display_name": "goofit-june2020",
   "language": "python",
   "name": "goofit-june2020"
  },
  "language_info": {
   "codemirror_mode": {
    "name": "ipython",
    "version": 3
   },
   "file_extension": ".py",
   "mimetype": "text/x-python",
   "name": "python",
   "nbconvert_exporter": "python",
   "pygments_lexer": "ipython3",
   "version": "3.7.6"
  }
 },
 "nbformat": 4,
 "nbformat_minor": 2
}
