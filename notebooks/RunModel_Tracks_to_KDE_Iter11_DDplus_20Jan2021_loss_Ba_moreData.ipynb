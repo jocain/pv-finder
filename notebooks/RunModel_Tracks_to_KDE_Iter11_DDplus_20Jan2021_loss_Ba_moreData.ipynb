{
 "cells": [
  {
   "cell_type": "code",
   "execution_count": 1,
   "metadata": {},
   "outputs": [],
   "source": [
    "##%matplotlib widget\n",
    "## with %matplotlib notebook: seems to require ipympl as part of environment, either\n",
    "## part of the conda environment or \"pip install ipympl\"\n",
    "## otherwise, does not show ANY plots in note\"book, plt.savefig() works\n",
    "%matplotlib notebook  \n",
    "##%matplotlib inline    ## --plt.savefig()  works, but re-sizing does NOT\n"
   ]
  },
  {
   "cell_type": "markdown",
   "metadata": {},
   "source": [
    "This notebook is the second attempt to read in track information and use it to predict the KDE used as input to PvFinder. This time, we are reading in poca KDEs rather than the original KDEs. \n",
    "\n",
    "collectdata_kde_C.py uses poca_z, poca_x, poca_y, major_axis_x, major_axis_y, and major_axis_z as the six track parameters (for the moment)\n"
   ]
  },
  {
   "cell_type": "markdown",
   "metadata": {},
   "source": [
    "Check the current GPU usage. Please try to be nice!"
   ]
  },
  {
   "cell_type": "code",
   "execution_count": 2,
   "metadata": {},
   "outputs": [
    {
     "name": "stdout",
     "output_type": "stream",
     "text": [
      "Wed Jan 20 21:59:42 2021       \r\n",
      "+-----------------------------------------------------------------------------+\r\n",
      "| NVIDIA-SMI 440.64.00    Driver Version: 440.64.00    CUDA Version: 10.2     |\r\n",
      "|-------------------------------+----------------------+----------------------+\r\n",
      "| GPU  Name        Persistence-M| Bus-Id        Disp.A | Volatile Uncorr. ECC |\r\n",
      "| Fan  Temp  Perf  Pwr:Usage/Cap|         Memory-Usage | GPU-Util  Compute M. |\r\n",
      "|===============================+======================+======================|\r\n",
      "|   0  TITAN V             Off  | 00000000:03:00.0 Off |                  N/A |\r\n",
      "| 48%   66C    P2   141W / 250W |   2469MiB / 12066MiB |     94%      Default |\r\n",
      "+-------------------------------+----------------------+----------------------+\r\n",
      "|   1  Tesla P100-PCIE...  Off  | 00000000:83:00.0 Off |                    0 |\r\n",
      "| N/A   33C    P0    33W / 250W |      0MiB / 16280MiB |      0%      Default |\r\n",
      "+-------------------------------+----------------------+----------------------+\r\n",
      "|   2  TITAN V             Off  | 00000000:84:00.0 Off |                  N/A |\r\n",
      "| 23%   38C    P0    34W / 250W |      0MiB / 12066MiB |      0%      Default |\r\n",
      "+-------------------------------+----------------------+----------------------+\r\n",
      "                                                                               \r\n",
      "+-----------------------------------------------------------------------------+\r\n",
      "| Processes:                                                       GPU Memory |\r\n",
      "|  GPU       PID   Type   Process name                             Usage      |\r\n",
      "|=============================================================================|\r\n",
      "|    0     49144      C   ...a/conda/envs/goofit-june2020/bin/python  2457MiB |\r\n",
      "+-----------------------------------------------------------------------------+\r\n"
     ]
    }
   ],
   "source": [
    "!nvidia-smi"
   ]
  },
  {
   "cell_type": "markdown",
   "metadata": {},
   "source": [
    "> **WARNING**: The card numbers here are *not* the same as in CUDA. You have been warned."
   ]
  },
  {
   "cell_type": "markdown",
   "metadata": {},
   "source": [
    "This notebook is first attempt to read in track information and use it to predict the KDE used as input to PvFinder.\n"
   ]
  },
  {
   "cell_type": "markdown",
   "metadata": {},
   "source": [
    "## Imports"
   ]
  },
  {
   "cell_type": "code",
   "execution_count": 3,
   "metadata": {},
   "outputs": [],
   "source": [
    "import matplotlib.pyplot as plt\n",
    "import numpy as np\n",
    "import time\n",
    "import torch\n",
    "import pandas as pd\n",
    "\n",
    "# Python 3 standard library\n",
    "from pathlib import Path\n",
    "\n",
    "##from torchsummary import summary"
   ]
  },
  {
   "cell_type": "markdown",
   "metadata": {},
   "source": [
    "### Set up local parameters"
   ]
  },
  {
   "cell_type": "code",
   "execution_count": 4,
   "metadata": {},
   "outputs": [],
   "source": [
    "n_epochs = 100\n",
    "\n",
    "# Name is the output file name\n",
    "\n",
    "\n",
    "##  201027 -- about to go to bed, so try 2500 epochs with lr = 1e55\n",
    "##  previous iteration had l4 = 3e-5 and cost dropped almost linearly\n",
    "##  for 100 epochs -- final training costs ~ 2.02, validation cost ~ 2.01\n",
    "\n",
    "## for iter 4, try 10 epochs with lr = 3e-6\n",
    "## usually have a big jump down at epoch 0; want to try a\n",
    "## small number of epochs per iteration and see what happens (iter4: 10 epochs gave\n",
    "## traiing cost dropping from 1.54 to 1.50 immediately, then dropping very slowly)\n",
    "folder = '20Jan_DDplus_loss_Ba_iter11_floatAll_100epochs_1em5_4xwill'\n",
    "name   = folder\n",
    "\n",
    "# Make an output folder named \"name\" (change if you want)\n",
    "\n",
    "## Special instructions for those working on goofy at UC\n",
    "## Please be very careful to make sure that your folder\n",
    "## does not live in a subdirectory of your home directory\n",
    "## this disk has very little capacity. Instead, use \n",
    "## a subdirectory in /share/lazy with a symbolic link to\n",
    "## it in this (the notebooks) subdirectory\n",
    "folder = 'ML/' + folder\n",
    "output = Path(folder)\n",
    "\n",
    "\n",
    "# Size of batches\n",
    "batch_size = 48 ## batch_size = 24 ---> 4763MiB / 12066MiB on Titan V\n",
    "# How fast to learn\n",
    "learning_rate = 1e-5"
   ]
  },
  {
   "cell_type": "markdown",
   "metadata": {},
   "source": [
    "Make the output directory if it does not exist:"
   ]
  },
  {
   "cell_type": "code",
   "execution_count": 5,
   "metadata": {},
   "outputs": [],
   "source": [
    "output.mkdir(exist_ok=True)"
   ]
  },
  {
   "cell_type": "markdown",
   "metadata": {},
   "source": [
    "## Get the helper functions\n",
    "\n",
    "Add the directory with the model\n",
    "definitions to the path so we can import from it:\n",
    "\n",
    "> When you type `import X`,\n",
    "Python searches `sys.path` for a python\n",
    "file named `X.py` to import. So we need to add the model directory to the path."
   ]
  },
  {
   "cell_type": "code",
   "execution_count": 6,
   "metadata": {
    "scrolled": true
   },
   "outputs": [],
   "source": [
    "# From model/collectdata.py\n",
    "##from model.collectdata_kde_B import collect_t2kde_data\n",
    "## collectdata_kde_C should use the new poca KDE rather than the original kernel KDE\n",
    "from model.collectdata_kde_Ellipsoids import collect_t2kde_data\n",
    "\n",
    "\n",
    "# From model/loss.py\n",
    "##from loss import Loss\n",
    "## kde_loss_D includes botha ratio term and a chisq term, 98% ave_chisq\n",
    "## kde_loss_E adds a chi^4 term to the kde_loss_D return value\n",
    "## this is intended to emphasize the importance of values significantly different than zero\n",
    "from model.kde_loss_Ba import Loss\n",
    "\n",
    "##  TracksToKDE_Ellipsoids_SevenLayerCake has 7 hidden layers producing the 4000-bin KDE historgram\n",
    "##  It takes 9 input features (pocca centers + (A,B,C,D,E,F) . \n",
    "from model.models_kde import TracksToKDE_Ellipsoids_DDplus as Model\n",
    "\n",
    "\n",
    "from model.training_kde import trainNet, select_gpu, Results\n",
    "from model.plots import dual_train_plots, replace_in_ax"
   ]
  },
  {
   "cell_type": "code",
   "execution_count": 7,
   "metadata": {},
   "outputs": [],
   "source": [
    "# This gets built up during the run - do not rerun this cell\n",
    "results = pd.DataFrame([], columns=Results._fields)"
   ]
  },
  {
   "cell_type": "markdown",
   "metadata": {},
   "source": [
    "Set up Torch device configuration. All tensors and model parameters need to know where to be put.\n",
    "This takes a BUS ID number: The BUS ID is the same as the listing at the top of this script."
   ]
  },
  {
   "cell_type": "code",
   "execution_count": 8,
   "metadata": {},
   "outputs": [
    {
     "name": "stdout",
     "output_type": "stream",
     "text": [
      "1 available GPUs (initially using device 0):\n",
      "  0 TITAN V\n"
     ]
    }
   ],
   "source": [
    "device = select_gpu(2)\n",
    "##device = \"cpu\""
   ]
  },
  {
   "cell_type": "markdown",
   "metadata": {},
   "source": [
    "## Loading data\n",
    "\n",
    "Load the dataset, split into parts, then move to device (see `collectdata.py` in the `../model` directory)"
   ]
  },
  {
   "cell_type": "markdown",
   "metadata": {},
   "source": [
    "# Preparing the model"
   ]
  },
  {
   "cell_type": "markdown",
   "metadata": {},
   "source": [
    "Prepare a model, use multiple GPUs if they are VISIBLE, and move the model to the device."
   ]
  },
  {
   "cell_type": "code",
   "execution_count": 9,
   "metadata": {
    "scrolled": true
   },
   "outputs": [],
   "source": [
    "##print(\"Let's use\", torch.cuda.device_count(), \"GPUs!\")\n",
    "##if torch.cuda.device_count() > 1:\n",
    "##    model = torch.nn.DataParallel(model)"
   ]
  },
  {
   "cell_type": "code",
   "execution_count": 10,
   "metadata": {},
   "outputs": [
    {
     "name": "stdout",
     "output_type": "stream",
     "text": [
      "ct, child =  0    Linear(in_features=9, out_features=50, bias=True)\n",
      "ct, child =  1    Linear(in_features=50, out_features=50, bias=True)\n",
      "ct, child =  2    Linear(in_features=50, out_features=50, bias=True)\n",
      "ct, child =  3    Linear(in_features=50, out_features=50, bias=True)\n",
      "ct, child =  4    Linear(in_features=50, out_features=50, bias=True)\n",
      "ct, child =  5    Linear(in_features=50, out_features=50, bias=True)\n",
      "ct, child =  6    Linear(in_features=50, out_features=50, bias=True)\n",
      "ct, child =  7    Linear(in_features=50, out_features=50, bias=True)\n",
      "ct, child =  8    Linear(in_features=50, out_features=50, bias=True)\n",
      "ct, child =  9    Linear(in_features=50, out_features=50, bias=True)\n",
      "ct, child =  10    Linear(in_features=50, out_features=50, bias=True)\n",
      "ct, child =  11    Linear(in_features=50, out_features=16000, bias=True)\n",
      "ct, child =  12    Conv1d(4, 25, kernel_size=(25,), stride=(1,), padding=(12,))\n",
      "ct, child =  13    Conv1d(25, 1, kernel_size=(5,), stride=(1,), padding=(2,))\n",
      "ct, child =  14    Linear(in_features=4000, out_features=4000, bias=True)\n",
      "ct, child =  15    Conv1d(25, 1, kernel_size=(15,), stride=(1,), padding=(7,))\n",
      "ct, child =  16    Dropout(p=0.15, inplace=False)\n",
      "ct, child =  17    Dropout(p=0.15, inplace=False)\n"
     ]
    }
   ],
   "source": [
    "## a comment on the web at https://pytorch.org/docs/stable/optim.html says\n",
    "\"\"\"\n",
    "If you need to move a model to GPU via .cuda(), please do so before constructing optimizers for it. \n",
    "Parameters of a model after .cuda() will be different objects with those before the call.\n",
    "\n",
    "In general, you should make sure that optimized parameters live in consistent locations when \n",
    "optimizers are constructed and used.\n",
    "\"\"\"\n",
    "## so move this here (although we are using model.to(device) not explicitly using .cuda()\n",
    "\n",
    "nOut1 = 50\n",
    "nOut2 = 50\n",
    "nOut3 = 50\n",
    "nOut4 = 50\n",
    "nOut5 = 50\n",
    "nOut6 = 50\n",
    "nOut7 = 50\n",
    "nOut8 = 50\n",
    "nOut9 = 50\n",
    "nOut10 = 50\n",
    "nOut11 = 50\n",
    "latentChannels = 4\n",
    "model = Model(nOut1,nOut2,nOut3,nOut4,nOut5,nOut6,nOut7,nOut8,nOut9,nOut10,nOut11,latentChannels)\n",
    "\n",
    "##summary(model, input_size=(4, 4000))\n",
    "##print(model.parameters)\n",
    "\n",
    "## add the following code to allow the user to freeze the some of the weights corresponding \n",
    "## to those taken from an earlier model trained with the original target histograms\n",
    "## presumably -- this leaves either the perturbative filter \"fixed\" and lets the \n",
    "## learning focus on the non-perturbative features, so get started faster, or vice versa\n",
    "ct = 0\n",
    "for child in model.children():\n",
    "  print('ct, child = ',ct, \"  \", child)\n",
    "  if ct < 0:\n",
    "    print(\"     About to set param.requires_grad=False for ct = \", ct, \"params\")\n",
    "    for param in child.parameters():\n",
    "        param.requires_grad = False \n",
    "  ct += 1\n",
    "##  mds 200121 loss = Loss(epsilon=1e-5,coefficient=1.0)\n",
    "##  loss = Loss(epsilon=1e-5,coefficient=2.5)\n",
    "##loss = Loss(epsilon=3e-5, debug=False)\n",
    "loss = Loss(epsilon=3e-5)"
   ]
  },
  {
   "cell_type": "markdown",
   "metadata": {},
   "source": [
    "Let's move the model's weight matricies to the GPU:"
   ]
  },
  {
   "cell_type": "code",
   "execution_count": 11,
   "metadata": {
    "scrolled": true
   },
   "outputs": [],
   "source": [
    "model = model.to(device)"
   ]
  },
  {
   "cell_type": "code",
   "execution_count": 12,
   "metadata": {
    "scrolled": true
   },
   "outputs": [],
   "source": [
    "optimizer = torch.optim.Adam(model.parameters(), lr=learning_rate)\n",
    "##optimizer = torch.optim.SGD(model.parameters(), lr=learning_rate)"
   ]
  },
  {
   "cell_type": "code",
   "execution_count": 13,
   "metadata": {
    "scrolled": false
   },
   "outputs": [
    {
     "name": "stdout",
     "output_type": "stream",
     "text": [
      "output =  ML/20Jan_DDplus_loss_Ba_iter11_floatAll_100epochs_1em5_4xwill\n",
      "for model_dict\n",
      "index, k =   0    layer1.weight\n",
      "index, k =   1    layer1.bias\n",
      "index, k =   2    layer2.weight\n",
      "index, k =   3    layer2.bias\n",
      "index, k =   4    layer3.weight\n",
      "index, k =   5    layer3.bias\n",
      "index, k =   6    layer4.weight\n",
      "index, k =   7    layer4.bias\n",
      "index, k =   8    layer5.weight\n",
      "index, k =   9    layer5.bias\n",
      "index, k =   10    layer6.weight\n",
      "index, k =   11    layer6.bias\n",
      "index, k =   12    layer7.weight\n",
      "index, k =   13    layer7.bias\n",
      "index, k =   14    layer8.weight\n",
      "index, k =   15    layer8.bias\n",
      "index, k =   16    layer9.weight\n",
      "index, k =   17    layer9.bias\n",
      "index, k =   18    layer10.weight\n",
      "index, k =   19    layer10.bias\n",
      "index, k =   20    layer11.weight\n",
      "index, k =   21    layer11.bias\n",
      "index, k =   22    layer12new.weight\n",
      "index, k =   23    layer12new.bias\n",
      "index, k =   24    conv1.weight\n",
      "index, k =   25    conv1.bias\n",
      "index, k =   26    conv2.weight\n",
      "index, k =   27    conv2.bias\n",
      "index, k =   28    fc1.weight\n",
      "index, k =   29    fc1.bias\n",
      "index, k =   30    finalFilter.weight\n",
      "index, k =   31    finalFilter.bias\n",
      "dict_name =  ML/20Jan_DDplus_loss_Ba_iter10_floatAll_75epochs_1em5_4xwill/20Jan_DDplus_loss_Ba_iter10_floatAll_75epochs_1em5_4xwill_30.pyt\n",
      " \n",
      "  for pretrained_dict\n",
      "index, k =   0    layer1.weight\n",
      "index, k =   1    layer1.bias\n",
      "index, k =   2    layer2.weight\n",
      "index, k =   3    layer2.bias\n",
      "index, k =   4    layer3.weight\n",
      "index, k =   5    layer3.bias\n",
      "index, k =   6    layer4.weight\n",
      "index, k =   7    layer4.bias\n",
      "index, k =   8    layer5.weight\n",
      "index, k =   9    layer5.bias\n",
      "index, k =   10    layer6.weight\n",
      "index, k =   11    layer6.bias\n",
      "index, k =   12    layer7.weight\n",
      "index, k =   13    layer7.bias\n",
      "index, k =   14    layer8.weight\n",
      "index, k =   15    layer8.bias\n",
      "index, k =   16    layer9.weight\n",
      "index, k =   17    layer9.bias\n",
      "index, k =   18    layer10.weight\n",
      "index, k =   19    layer10.bias\n",
      "index, k =   20    layer11.weight\n",
      "index, k =   21    layer11.bias\n",
      "index, k =   22    layer12new.weight\n",
      "index, k =   23    layer12new.bias\n",
      "index, k =   24    conv1.weight\n",
      "index, k =   25    conv1.bias\n",
      "index, k =   26    conv2.weight\n",
      "index, k =   27    conv2.bias\n",
      "index, k =   28    fc1.weight\n",
      "index, k =   29    fc1.bias\n",
      "index, k =   30    finalFilter.weight\n",
      "index, k =   31    finalFilter.bias\n",
      "pretrained_dict iterated\n"
     ]
    },
    {
     "data": {
      "text/plain": [
       "<All keys matched successfully>"
      ]
     },
     "execution_count": 13,
     "metadata": {},
     "output_type": "execute_result"
    }
   ],
   "source": [
    "print('output = ',output)\n",
    "##print('oldOutput = ',oldOutput)\n",
    "##  use the first four layers from a pre-existing model\n",
    "##  see example at https://discuss.pytorch.org/t/how-to-load-part-of-pre-trained-model/1113\n",
    "\n",
    "##   ML -> /share/lazy/sokoloff/ML\n",
    "model_dict = model.state_dict()\n",
    "## mds 190725 for debugging\n",
    "print(\"for model_dict\")\n",
    "index = 0\n",
    "for k,v in model_dict.items():\n",
    "    print(\"index, k =  \",index,\"  \",k)\n",
    "    index = index+1\n",
    "##    print(\"value = \", v)\n",
    " \n",
    "updated_dict = model_dict\n",
    "##print(\"updated_dict = \",updated_dict)\n",
    "## when starting \"ab initio\", reduce biases as the bias gets summed for each track\n",
    "## contributing to the predicted KDE\n",
    "updated_dict[\"layer1.bias\"] = 0.005*model_dict[\"layer1.bias\"]\n",
    "updated_dict[\"layer2.bias\"] = 0.005*model_dict[\"layer2.bias\"]\n",
    "updated_dict[\"layer3.bias\"] = 0.005*model_dict[\"layer3.bias\"]\n",
    "updated_dict[\"layer4.bias\"] = 0.005*model_dict[\"layer4.bias\"]\n",
    "updated_dict[\"layer5.bias\"] = 0.005*model_dict[\"layer5.bias\"]\n",
    "updated_dict[\"layer6.bias\"] = 0.005*model_dict[\"layer6.bias\"]\n",
    "updated_dict[\"layer7.bias\"] = 0.005*model_dict[\"layer7.bias\"]\n",
    "updated_dict[\"layer8.bias\"] = 0.005*model_dict[\"layer8.bias\"]\n",
    "updated_dict[\"layer9.bias\"] = 0.005*model_dict[\"layer9.bias\"]\n",
    "updated_dict[\"layer10.bias\"] = 0.005*model_dict[\"layer10.bias\"]\n",
    "updated_dict[\"layer11.bias\"] = 0.005*model_dict[\"layer11.bias\"]\n",
    "\n",
    "model.load_state_dict(updated_dict,strict=False)\n",
    "\n",
    "model_dict = model.state_dict()\n",
    "##print(\"updated model_dict = \",model_dict)\n",
    "\n",
    "## print(\" \\n\",\"  for pretrained_dict\")\n",
    "## index = 0\n",
    "##for k,v in pretrained_dict.items():\n",
    "##    print(\"index, k =  \",index,\"  \",k)\n",
    "##    index = index+1\n",
    "## mds  \n",
    "\n",
    "##pretrained_dict = torch.load('ML/29July2020_Trks_to_KDE_C_lossB_100epochs_b64_1m3_nOut_50x50/29July2020_Trks_to_KDE_C_lossB_100epochs_b64_1m3_nOut_50x50_final.pyt')\n",
    "##print(\"model_dict instantiated\")\n",
    "# 1. filter out unnecessary keys\n",
    "##pretrained_dict = {k: v for k, v in pretrained_dict.items() if k in model_dict}\n",
    "##print(\"pretrained_dict iterated\")\n",
    "# 2. overwrite entries in the existing state dict\n",
    "##model_dict.update(pretrained_dict) \n",
    "##\n",
    "#   when starting from a model with a fully connected last layer rather than a convolutional layer\n",
    "# 3. load the new state dict\n",
    "#   need to use strict=False as the two models state model attributes do not agree exactly\n",
    "#   see https://pytorch.org/docs/master/_modules/torch/nn/modules/module.html#Module.load_state_dict\n",
    "\n",
    "##model.load_state_dict(pretrained_dict,strict=False)\n",
    "\n",
    "## print('model_dict =    ', model_dict)\n",
    "\n",
    "## finished at training cost = 1.46, validation cost = 1.50\n",
    "##d_folder = '25December__DDplus_loss_Ba_iter7_floatAll_800epochs_4em6'\n",
    "d_folder = '20Jan_DDplus_loss_Ba_iter10_floatAll_75epochs_1em5_4xwill'\n",
    "d_name = d_folder\n",
    "suffix = '30'\n",
    "dict_name = 'ML/' + d_folder + '/' + d_name + '_'+ suffix + '.pyt'\n",
    "print('dict_name = ',dict_name)\n",
    "pretrained_dict = torch.load(dict_name)\n",
    "\n",
    "print(\" \")\n",
    "print(\"  for pretrained_dict\")\n",
    "index = 0\n",
    "for k,v in pretrained_dict.items():\n",
    "    print(\"index, k =  \",index,\"  \",k)\n",
    "    index = index+1\n",
    " \n",
    "\n",
    "##print(\"model_dict instantiated\")\n",
    "# 1. filter out unnecessary keys\n",
    "pretrained_dict = {k: v for k, v in pretrained_dict.items() if k in model_dict}\n",
    "print(\"pretrained_dict iterated\")\n",
    "# 2. overwrite entries in the existing state dict\n",
    "model_dict.update(pretrained_dict) \n",
    "##\n",
    "#   when starting from a model with a fully connected last layer rather than a convolutional layer\n",
    "# 3. load the new state dict\n",
    "#   need to use strict=False as the two models state model attributes do not agree exactly\n",
    "#   see https://pytorch.org/docs/master/_modules/torch/nn/modules/module.html#Module.load_state_dict\n",
    "\n",
    "model.load_state_dict(pretrained_dict,strict=False)\n",
    "\n"
   ]
  },
  {
   "cell_type": "code",
   "execution_count": 14,
   "metadata": {},
   "outputs": [],
   "source": [
    "##print('validation.dataset.tensors = ',validation.dataset.tensors)\n",
    "fig_size = plt.rcParams[\"figure.figsize\"]\n",
    "fig_size[0] = 10\n",
    "fig_size[1] = 4\n",
    "plt.rcParams[\"figure.figsize\"] = fig_size"
   ]
  },
  {
   "cell_type": "code",
   "execution_count": 15,
   "metadata": {
    "scrolled": false
   },
   "outputs": [
    {
     "name": "stdout",
     "output_type": "stream",
     "text": [
      "Loading data...\n",
      "pocaMx.shape =  (80000,)\n",
      "nEvts =  80000\n",
      "len(pocaMx[0]) =  199\n",
      "len(pocaMx[1]) =  25\n",
      "len(pocaMx[2]) =  369\n",
      "len(pocaMx[3]) =  143\n",
      "len(pocaMx[4]) =  160\n",
      "majorAxis.shape =  (80000, 3)\n",
      "minorAxis_1.shape =  (80000, 3)\n",
      "minorAxis_2.shape =  (80000, 3)\n",
      "have entered six_ellipsoid_parameters\n",
      "  \n",
      " \n",
      "  nEvts =  80000\n",
      " iEvt, nTrks =  0 199\n",
      " iEvt, nTrks =  1 25\n",
      " iEvt, nTrks =  2 369\n",
      " iEvt, nTrks =  3 143\n",
      " iEvt, nTrks =  4 160\n",
      " iEvt, nTrks =  5 260\n",
      " iEvt, nTrks =  6 237\n",
      " iEvt, nTrks =  7 327\n",
      " iEvt, nTrks =  8 178\n",
      " iEvt, nTrks =  9 106\n",
      "A.shape =  (80000,)\n",
      "majorAxis[iTrk][0][0] =  0.00045611936\n",
      "majorAxis[iTrk][1][0] =  -4.8292455e-05\n",
      "majorAxis[iTrk][2][0] =  0.090019904\n",
      "minorAxis_1[iTrk][0][0] =  -1.8602173\n",
      "minorAxis_1[iTrk][1][0] =  -17.569641\n",
      "minorAxis_1[iTrk][2][0] =  4.7891795e-08\n",
      "minorAxis_2[iTrk][0][0] =  -17.569414\n",
      "minorAxis_2[iTrk][1][0] =  1.8601931\n",
      "minorAxis_2[iTrk][2][0] =  0.0900199\n",
      "  \n",
      "majorAxis[iTrk][0][0] =  0.002360258\n",
      "majorAxis[iTrk][1][0] =  -0.007426616\n",
      "majorAxis[iTrk][2][0] =  0.3710108\n",
      "minorAxis_1[iTrk][0][0] =  -16.837948\n",
      "minorAxis_1[iTrk][1][0] =  -5.3512807\n",
      "minorAxis_1[iTrk][2][0] =  8.157131e-09\n",
      "minorAxis_2[iTrk][0][0] =  -5.3501005\n",
      "minorAxis_2[iTrk][1][0] =  16.834236\n",
      "minorAxis_2[iTrk][2][0] =  0.3710108\n",
      "  \n",
      "majorAxis[iTrk][0][0] =  6.220712e-05\n",
      "majorAxis[iTrk][1][0] =  -4.4594188e-05\n",
      "majorAxis[iTrk][2][0] =  0.036773544\n",
      "minorAxis_1[iTrk][0][0] =  10.293747\n",
      "minorAxis_1[iTrk][1][0] =  14.359369\n",
      "minorAxis_1[iTrk][2][0] =  1.571041e-06\n",
      "minorAxis_2[iTrk][0][0] =  14.359338\n",
      "minorAxis_2[iTrk][1][0] =  -10.293725\n",
      "minorAxis_2[iTrk][2][0] =  -0.03677354\n",
      "  \n",
      "majorAxis[iTrk][0][0] =  0.0033452737\n",
      "majorAxis[iTrk][1][0] =  0.00013028442\n",
      "majorAxis[iTrk][2][0] =  0.2431933\n",
      "minorAxis_1[iTrk][0][0] =  0.6875674\n",
      "minorAxis_1[iTrk][1][0] =  -17.65446\n",
      "minorAxis_1[iTrk][2][0] =  -6.6602626e-09\n",
      "minorAxis_2[iTrk][0][0] =  -17.652788\n",
      "minorAxis_2[iTrk][1][0] =  -0.68750226\n",
      "minorAxis_2[iTrk][2][0] =  0.2431933\n",
      "  \n",
      "majorAxis[iTrk][0][0] =  -0.00068196515\n",
      "majorAxis[iTrk][1][0] =  -0.00044562915\n",
      "majorAxis[iTrk][2][0] =  0.119970225\n",
      "minorAxis_1[iTrk][0][0] =  9.664597\n",
      "minorAxis_1[iTrk][1][0] =  -14.790141\n",
      "minorAxis_1[iTrk][2][0] =  1.9819232e-08\n",
      "minorAxis_2[iTrk][0][0] =  -14.789802\n",
      "minorAxis_2[iTrk][1][0] =  -9.664374\n",
      "minorAxis_2[iTrk][2][0] =  -0.11997023\n",
      "  \n",
      "majorAxis[iTrk][0][0] =  -8.245073e-05\n",
      "majorAxis[iTrk][1][0] =  0.00015860004\n",
      "majorAxis[iTrk][2][0] =  0.05619731\n",
      "minorAxis_1[iTrk][0][0] =  -15.676071\n",
      "minorAxis_1[iTrk][1][0] =  -8.149452\n",
      "minorAxis_1[iTrk][2][0] =  4.1105773e-07\n",
      "minorAxis_2[iTrk][0][0] =  -8.14941\n",
      "minorAxis_2[iTrk][1][0] =  15.675991\n",
      "minorAxis_2[iTrk][2][0] =  -0.056197315\n",
      "  \n",
      "majorAxis[iTrk][0][0] =  -0.00015151131\n",
      "majorAxis[iTrk][1][0] =  0.00067339616\n",
      "majorAxis[iTrk][2][0] =  0.11042937\n",
      "minorAxis_1[iTrk][0][0] =  17.236937\n",
      "minorAxis_1[iTrk][1][0] =  3.8782384\n",
      "minorAxis_1[iTrk][2][0] =  2.3217373e-08\n",
      "minorAxis_2[iTrk][0][0] =  3.8781626\n",
      "minorAxis_2[iTrk][1][0] =  -17.236599\n",
      "minorAxis_2[iTrk][2][0] =  0.11042936\n",
      "  \n",
      "majorAxis[iTrk][0][0] =  -7.577422e-05\n",
      "majorAxis[iTrk][1][0] =  -0.00036802414\n",
      "majorAxis[iTrk][2][0] =  0.08147708\n",
      "minorAxis_1[iTrk][0][0] =  -17.304853\n",
      "minorAxis_1[iTrk][1][0] =  3.5629773\n",
      "minorAxis_1[iTrk][2][0] =  5.80501e-09\n",
      "minorAxis_2[iTrk][0][0] =  3.5629392\n",
      "minorAxis_2[iTrk][1][0] =  17.304668\n",
      "minorAxis_2[iTrk][2][0] =  0.081477076\n",
      "  \n",
      "majorAxis[iTrk][0][0] =  0.00013397264\n",
      "majorAxis[iTrk][1][0] =  0.00094400026\n",
      "majorAxis[iTrk][2][0] =  0.12978876\n",
      "minorAxis_1[iTrk][0][0] =  17.492561\n",
      "minorAxis_1[iTrk][1][0] =  -2.4825466\n",
      "minorAxis_1[iTrk][2][0] =  1.1329301e-08\n",
      "minorAxis_2[iTrk][0][0] =  -2.4824798\n",
      "minorAxis_2[iTrk][1][0] =  -17.492088\n",
      "minorAxis_2[iTrk][2][0] =  0.12978874\n",
      "  \n",
      "majorAxis[iTrk][0][0] =  0.00043501743\n",
      "majorAxis[iTrk][1][0] =  -0.0016521378\n",
      "majorAxis[iTrk][2][0] =  0.17373301\n",
      "minorAxis_1[iTrk][0][0] =  -17.0855\n",
      "minorAxis_1[iTrk][1][0] =  -4.4987106\n",
      "minorAxis_1[iTrk][2][0] =  -7.7275175e-08\n",
      "minorAxis_2[iTrk][0][0] =  -4.4984937\n",
      "minorAxis_2[iTrk][1][0] =  17.084677\n",
      "minorAxis_2[iTrk][2][0] =  0.17373303\n",
      "  \n",
      "len(X) =  80000\n",
      "len(Xlist) =  1\n",
      "Loaded /share/lazy/will/data/June30_2020_80k_1.h5 in 147.8 s\n",
      "pocaMx.shape =  (80000,)\n",
      "nEvts =  80000\n",
      "len(pocaMx[0]) =  222\n",
      "len(pocaMx[1]) =  133\n",
      "len(pocaMx[2]) =  259\n",
      "len(pocaMx[3]) =  114\n",
      "len(pocaMx[4]) =  143\n",
      "majorAxis.shape =  (80000, 3)\n",
      "minorAxis_1.shape =  (80000, 3)\n",
      "minorAxis_2.shape =  (80000, 3)\n",
      "have entered six_ellipsoid_parameters\n",
      "  \n",
      " \n",
      "  nEvts =  80000\n",
      " iEvt, nTrks =  0 222\n",
      " iEvt, nTrks =  1 133\n",
      " iEvt, nTrks =  2 259\n",
      " iEvt, nTrks =  3 114\n",
      " iEvt, nTrks =  4 143\n",
      " iEvt, nTrks =  5 136\n",
      " iEvt, nTrks =  6 397\n",
      " iEvt, nTrks =  7 370\n",
      " iEvt, nTrks =  8 97\n",
      " iEvt, nTrks =  9 67\n",
      "A.shape =  (80000,)\n",
      "majorAxis[iTrk][0][0] =  -0.001036478\n",
      "majorAxis[iTrk][1][0] =  0.0009833863\n",
      "majorAxis[iTrk][2][0] =  0.15887721\n",
      "minorAxis_1[iTrk][0][0] =  -12.160475\n",
      "minorAxis_1[iTrk][1][0] =  -12.817002\n",
      "minorAxis_1[iTrk][2][0] =  0.0\n",
      "minorAxis_2[iTrk][0][0] =  -12.816484\n",
      "minorAxis_2[iTrk][1][0] =  12.159985\n",
      "minorAxis_2[iTrk][2][0] =  -0.15887721\n",
      "  \n",
      "majorAxis[iTrk][0][0] =  0.0016579849\n",
      "majorAxis[iTrk][1][0] =  0.0020989499\n",
      "majorAxis[iTrk][2][0] =  0.21738033\n",
      "minorAxis_1[iTrk][0][0] =  -13.864233\n",
      "minorAxis_1[iTrk][1][0] =  10.95152\n",
      "minorAxis_1[iTrk][2][0] =  -3.3017489e-09\n",
      "minorAxis_2[iTrk][0][0] =  10.95069\n",
      "minorAxis_2[iTrk][1][0] =  13.863184\n",
      "minorAxis_2[iTrk][2][0] =  -0.21738033\n",
      "  \n",
      "majorAxis[iTrk][0][0] =  0.00012481198\n",
      "majorAxis[iTrk][1][0] =  -0.00028747538\n",
      "majorAxis[iTrk][2][0] =  0.07441149\n",
      "minorAxis_1[iTrk][0][0] =  -16.206305\n",
      "minorAxis_1[iTrk][1][0] =  -7.036224\n",
      "minorAxis_1[iTrk][2][0] =  5.3456716e-08\n",
      "minorAxis_2[iTrk][0][0] =  -7.0361605\n",
      "minorAxis_2[iTrk][1][0] =  16.20616\n",
      "minorAxis_2[iTrk][2][0] =  0.07441148\n",
      "  \n",
      "majorAxis[iTrk][0][0] =  -0.007920195\n",
      "majorAxis[iTrk][1][0] =  -0.009694931\n",
      "majorAxis[iTrk][2][0] =  0.47021532\n",
      "minorAxis_1[iTrk][0][0] =  -13.682467\n",
      "minorAxis_1[iTrk][1][0] =  11.177781\n",
      "minorAxis_1[iTrk][2][0] =  1.8638048e-10\n",
      "minorAxis_2[iTrk][0][0] =  11.173822\n",
      "minorAxis_2[iTrk][1][0] =  13.677622\n",
      "minorAxis_2[iTrk][2][0] =  0.47021535\n",
      "  \n",
      "majorAxis[iTrk][0][0] =  0.00038854493\n",
      "majorAxis[iTrk][1][0] =  0.0009230774\n",
      "majorAxis[iTrk][2][0] =  0.13301943\n",
      "minorAxis_1[iTrk][0][0] =  -16.284061\n",
      "minorAxis_1[iTrk][1][0] =  6.854344\n",
      "minorAxis_1[iTrk][2][0] =  2.2469074e-07\n",
      "minorAxis_2[iTrk][0][0] =  6.8541493\n",
      "minorAxis_2[iTrk][1][0] =  16.283602\n",
      "minorAxis_2[iTrk][2][0] =  -0.13301945\n",
      "  \n",
      "majorAxis[iTrk][0][0] =  -5.6093595e-05\n",
      "majorAxis[iTrk][1][0] =  0.000114469876\n",
      "majorAxis[iTrk][2][0] =  0.04745733\n",
      "minorAxis_1[iTrk][0][0] =  15.865369\n",
      "minorAxis_1[iTrk][1][0] =  7.774496\n",
      "minorAxis_1[iTrk][2][0] =  1.8465234e-06\n",
      "minorAxis_2[iTrk][0][0] =  7.774468\n",
      "minorAxis_2[iTrk][1][0] =  -15.865313\n",
      "minorAxis_2[iTrk][2][0] =  0.04745733\n",
      "  \n",
      "majorAxis[iTrk][0][0] =  9.375396e-05\n",
      "majorAxis[iTrk][1][0] =  0.0002926058\n",
      "majorAxis[iTrk][2][0] =  0.07367872\n",
      "minorAxis_1[iTrk][0][0] =  -16.825275\n",
      "minorAxis_1[iTrk][1][0] =  5.390994\n",
      "minorAxis_1[iTrk][2][0] =  -2.1861728e-08\n",
      "minorAxis_2[iTrk][0][0] =  5.3909473\n",
      "minorAxis_2[iTrk][1][0] =  16.825129\n",
      "minorAxis_2[iTrk][2][0] =  -0.07367872\n",
      "  \n",
      "majorAxis[iTrk][0][0] =  -1.1543522e-06\n",
      "majorAxis[iTrk][1][0] =  2.8112001e-05\n",
      "majorAxis[iTrk][2][0] =  0.022295665\n",
      "minorAxis_1[iTrk][0][0] =  -17.652967\n",
      "minorAxis_1[iTrk][1][0] =  -0.7248769\n",
      "minorAxis_1[iTrk][2][0] =  1.7815448e-07\n",
      "minorAxis_2[iTrk][0][0] =  -0.7248763\n",
      "minorAxis_2[iTrk][1][0] =  17.652954\n",
      "minorAxis_2[iTrk][2][0] =  -0.022295661\n",
      "  \n",
      "majorAxis[iTrk][0][0] =  -0.2612214\n",
      "majorAxis[iTrk][1][0] =  0.83076316\n",
      "majorAxis[iTrk][2][0] =  3.8745012\n",
      "minorAxis_1[iTrk][0][0] =  -16.85429\n",
      "minorAxis_1[iTrk][1][0] =  -5.299587\n",
      "minorAxis_1[iTrk][2][0] =  2.0865195e-11\n",
      "minorAxis_2[iTrk][0][0] =  -5.1705856\n",
      "minorAxis_2[iTrk][1][0] =  16.444027\n",
      "minorAxis_2[iTrk][2][0] =  -3.874501\n",
      "  \n",
      "majorAxis[iTrk][0][0] =  -0.057592034\n",
      "majorAxis[iTrk][1][0] =  0.06503555\n",
      "majorAxis[iTrk][2][0] =  1.2373537\n",
      "minorAxis_1[iTrk][0][0] =  13.227038\n",
      "minorAxis_1[iTrk][1][0] =  11.713163\n",
      "minorAxis_1[iTrk][2][0] =  1.7679876e-10\n",
      "minorAxis_2[iTrk][0][0] =  11.684402\n",
      "minorAxis_2[iTrk][1][0] =  -13.194561\n",
      "minorAxis_2[iTrk][2][0] =  1.2373537\n",
      "  \n",
      "len(X) =  80000\n",
      "len(Xlist) =  2\n",
      "Loaded /share/lazy/will/data/June30_2020_80k_2.h5 in 148.9 s\n",
      "pocaMx.shape =  (80000,)\n"
     ]
    },
    {
     "name": "stdout",
     "output_type": "stream",
     "text": [
      "nEvts =  80000\n",
      "len(pocaMx[0]) =  196\n",
      "len(pocaMx[1]) =  35\n",
      "len(pocaMx[2]) =  265\n",
      "len(pocaMx[3]) =  128\n",
      "len(pocaMx[4]) =  124\n",
      "majorAxis.shape =  (80000, 3)\n",
      "minorAxis_1.shape =  (80000, 3)\n",
      "minorAxis_2.shape =  (80000, 3)\n",
      "have entered six_ellipsoid_parameters\n",
      "  \n",
      " \n",
      "  nEvts =  80000\n",
      " iEvt, nTrks =  0 196\n",
      " iEvt, nTrks =  1 35\n",
      " iEvt, nTrks =  2 265\n",
      " iEvt, nTrks =  3 128\n",
      " iEvt, nTrks =  4 124\n",
      " iEvt, nTrks =  5 122\n",
      " iEvt, nTrks =  6 300\n",
      " iEvt, nTrks =  7 179\n",
      " iEvt, nTrks =  8 243\n",
      " iEvt, nTrks =  9 112\n",
      "A.shape =  (80000,)\n",
      "majorAxis[iTrk][0][0] =  -2.440992e-05\n",
      "majorAxis[iTrk][1][0] =  -0.00038087237\n",
      "majorAxis[iTrk][2][0] =  0.08211532\n",
      "minorAxis_1[iTrk][0][0] =  -17.631672\n",
      "minorAxis_1[iTrk][1][0] =  1.130005\n",
      "minorAxis_1[iTrk][2][0] =  4.7444193e-08\n",
      "minorAxis_2[iTrk][0][0] =  1.1299927\n",
      "minorAxis_2[iTrk][1][0] =  17.631481\n",
      "minorAxis_2[iTrk][2][0] =  0.08211532\n",
      "  \n",
      "majorAxis[iTrk][0][0] =  -0.02277395\n",
      "majorAxis[iTrk][1][0] =  0.0014473597\n",
      "majorAxis[iTrk][2][0] =  0.6347583\n",
      "minorAxis_1[iTrk][0][0] =  -1.1205891\n",
      "minorAxis_1[iTrk][1][0] =  -17.632273\n",
      "minorAxis_1[iTrk][2][0] =  2.1543272e-09\n",
      "minorAxis_2[iTrk][0][0] =  -17.620888\n",
      "minorAxis_2[iTrk][1][0] =  1.1198657\n",
      "minorAxis_2[iTrk][2][0] =  -0.63475823\n",
      "  \n",
      "majorAxis[iTrk][0][0] =  0.0004024825\n",
      "majorAxis[iTrk][1][0] =  -0.00023784715\n",
      "majorAxis[iTrk][2][0] =  0.090883136\n",
      "minorAxis_1[iTrk][0][0] =  -8.988615\n",
      "minorAxis_1[iTrk][1][0] =  -15.210441\n",
      "minorAxis_1[iTrk][2][0] =  -6.56547e-08\n",
      "minorAxis_2[iTrk][0][0] =  -15.21024\n",
      "minorAxis_2[iTrk][1][0] =  8.988497\n",
      "minorAxis_2[iTrk][2][0] =  0.090883136\n",
      "  \n",
      "majorAxis[iTrk][0][0] =  0.0068744724\n",
      "majorAxis[iTrk][1][0] =  0.0017050834\n",
      "majorAxis[iTrk][2][0] =  0.3537121\n",
      "minorAxis_1[iTrk][0][0] =  4.2532983\n",
      "minorAxis_1[iTrk][1][0] =  -17.148241\n",
      "minorAxis_1[iTrk][2][0] =  1.1939819e-09\n",
      "minorAxis_2[iTrk][0][0] =  -17.144806\n",
      "minorAxis_2[iTrk][1][0] =  -4.252446\n",
      "minorAxis_2[iTrk][2][0] =  0.3537121\n",
      "  \n",
      "majorAxis[iTrk][0][0] =  -0.004920899\n",
      "majorAxis[iTrk][1][0] =  0.0009170567\n",
      "majorAxis[iTrk][2][0] =  0.2973651\n",
      "minorAxis_1[iTrk][0][0] =  -3.236844\n",
      "minorAxis_1[iTrk][1][0] =  -17.36881\n",
      "minorAxis_1[iTrk][2][0] =  -4.7397712e-09\n",
      "minorAxis_2[iTrk][0][0] =  -17.36635\n",
      "minorAxis_2[iTrk][1][0] =  3.2363856\n",
      "minorAxis_2[iTrk][2][0] =  -0.29736507\n",
      "  \n",
      "majorAxis[iTrk][0][0] =  -0.0001240533\n",
      "majorAxis[iTrk][1][0] =  0.00033394952\n",
      "majorAxis[iTrk][2][0] =  0.079335004\n",
      "minorAxis_1[iTrk][0][0] =  -16.562042\n",
      "minorAxis_1[iTrk][1][0] =  -6.1523557\n",
      "minorAxis_1[iTrk][2][0] =  3.1261713e-08\n",
      "minorAxis_2[iTrk][0][0] =  -6.1522937\n",
      "minorAxis_2[iTrk][1][0] =  16.561876\n",
      "minorAxis_2[iTrk][2][0] =  -0.079335004\n",
      "  \n",
      "majorAxis[iTrk][0][0] =  0.00010132754\n",
      "majorAxis[iTrk][1][0] =  6.684385e-05\n",
      "majorAxis[iTrk][2][0] =  0.046310693\n",
      "minorAxis_1[iTrk][0][0] =  -9.728917\n",
      "minorAxis_1[iTrk][1][0] =  14.747911\n",
      "minorAxis_1[iTrk][2][0] =  -2.3591362e-07\n",
      "minorAxis_2[iTrk][0][0] =  14.74786\n",
      "minorAxis_2[iTrk][1][0] =  9.728883\n",
      "minorAxis_2[iTrk][2][0] =  -0.04631069\n",
      "  \n",
      "majorAxis[iTrk][0][0] =  0.0042806785\n",
      "majorAxis[iTrk][1][0] =  0.004939851\n",
      "majorAxis[iTrk][2][0] =  0.3398017\n",
      "minorAxis_1[iTrk][0][0] =  13.3521\n",
      "minorAxis_1[iTrk][1][0] =  -11.5704\n",
      "minorAxis_1[iTrk][2][0] =  1.21654296e-08\n",
      "minorAxis_2[iTrk][0][0] =  -11.56826\n",
      "minorAxis_2[iTrk][1][0] =  -13.349631\n",
      "minorAxis_2[iTrk][2][0] =  0.33980173\n",
      "  \n",
      "majorAxis[iTrk][0][0] =  -0.00013103899\n",
      "majorAxis[iTrk][1][0] =  -0.0006021903\n",
      "majorAxis[iTrk][2][0] =  0.10434653\n",
      "minorAxis_1[iTrk][0][0] =  -17.26384\n",
      "minorAxis_1[iTrk][1][0] =  3.7566798\n",
      "minorAxis_1[iTrk][2][0] =  -9.616703e-08\n",
      "minorAxis_2[iTrk][0][0] =  3.7566135\n",
      "minorAxis_2[iTrk][1][0] =  17.263535\n",
      "minorAxis_2[iTrk][2][0] =  0.10434652\n",
      "  \n",
      "majorAxis[iTrk][0][0] =  0.0016481678\n",
      "majorAxis[iTrk][1][0] =  -0.0019788505\n",
      "majorAxis[iTrk][2][0] =  0.21330062\n",
      "minorAxis_1[iTrk][0][0] =  -13.575765\n",
      "minorAxis_1[iTrk][1][0] =  -11.307139\n",
      "minorAxis_1[iTrk][2][0] =  8.543098e-09\n",
      "minorAxis_2[iTrk][0][0] =  -11.306314\n",
      "minorAxis_2[iTrk][1][0] =  13.574774\n",
      "minorAxis_2[iTrk][2][0] =  0.21330062\n",
      "  \n",
      "len(X) =  80000\n",
      "len(Xlist) =  3\n",
      "Loaded /share/lazy/will/data/June30_2020_80k_3.h5 in 154.3 s\n",
      "pocaMx.shape =  (80000,)\n",
      "nEvts =  80000\n",
      "len(pocaMx[0]) =  204\n",
      "len(pocaMx[1]) =  33\n",
      "len(pocaMx[2]) =  206\n",
      "len(pocaMx[3]) =  150\n",
      "len(pocaMx[4]) =  96\n",
      "majorAxis.shape =  (80000, 3)\n",
      "minorAxis_1.shape =  (80000, 3)\n",
      "minorAxis_2.shape =  (80000, 3)\n",
      "have entered six_ellipsoid_parameters\n",
      "  \n",
      " \n",
      "  nEvts =  80000\n",
      " iEvt, nTrks =  0 204\n",
      " iEvt, nTrks =  1 33\n",
      " iEvt, nTrks =  2 206\n",
      " iEvt, nTrks =  3 150\n",
      " iEvt, nTrks =  4 96\n",
      " iEvt, nTrks =  5 10\n",
      " iEvt, nTrks =  6 174\n",
      " iEvt, nTrks =  7 320\n",
      " iEvt, nTrks =  8 164\n",
      " iEvt, nTrks =  9 119\n",
      "A.shape =  (80000,)\n",
      "majorAxis[iTrk][0][0] =  0.00057876867\n",
      "majorAxis[iTrk][1][0] =  0.00037603904\n",
      "majorAxis[iTrk][2][0] =  0.110427074\n",
      "minorAxis_1[iTrk][0][0] =  9.62588\n",
      "minorAxis_1[iTrk][1][0] =  -14.81537\n",
      "minorAxis_1[iTrk][2][0] =  8.391163e-09\n",
      "minorAxis_2[iTrk][0][0] =  -14.815081\n",
      "minorAxis_2[iTrk][1][0] =  -9.625692\n",
      "minorAxis_2[iTrk][2][0] =  0.11042709\n",
      "  \n",
      "majorAxis[iTrk][0][0] =  -7.687664e-05\n",
      "majorAxis[iTrk][1][0] =  -0.0017985329\n",
      "majorAxis[iTrk][2][0] =  0.17833562\n",
      "minorAxis_1[iTrk][0][0] =  -17.651728\n",
      "minorAxis_1[iTrk][1][0] =  0.7545069\n",
      "minorAxis_1[iTrk][2][0] =  -7.932265e-09\n",
      "minorAxis_2[iTrk][0][0] =  0.75446844\n",
      "minorAxis_2[iTrk][1][0] =  17.650827\n",
      "minorAxis_2[iTrk][2][0] =  0.17833562\n",
      "  \n",
      "majorAxis[iTrk][0][0] =  4.5855802e-05\n",
      "majorAxis[iTrk][1][0] =  -0.00054240844\n",
      "majorAxis[iTrk][2][0] =  0.098067455\n",
      "minorAxis_1[iTrk][0][0] =  17.605043\n",
      "minorAxis_1[iTrk][1][0] =  1.4883496\n",
      "minorAxis_1[iTrk][2][0] =  -2.7847218e-08\n",
      "minorAxis_2[iTrk][0][0] =  1.4883265\n",
      "minorAxis_2[iTrk][1][0] =  -17.604773\n",
      "minorAxis_2[iTrk][2][0] =  -0.098067455\n",
      "  \n",
      "majorAxis[iTrk][0][0] =  -0.0013144773\n",
      "majorAxis[iTrk][1][0] =  0.0008680699\n",
      "majorAxis[iTrk][2][0] =  0.16682307\n",
      "minorAxis_1[iTrk][0][0] =  -9.736217\n",
      "minorAxis_1[iTrk][1][0] =  -14.743094\n",
      "minorAxis_1[iTrk][2][0] =  -1.7552136e-08\n",
      "minorAxis_2[iTrk][0][0] =  -14.742435\n",
      "minorAxis_2[iTrk][1][0] =  9.735782\n",
      "minorAxis_2[iTrk][2][0] =  -0.16682304\n",
      "  \n",
      "majorAxis[iTrk][0][0] =  0.032227762\n",
      "majorAxis[iTrk][1][0] =  0.007741693\n",
      "majorAxis[iTrk][2][0] =  0.76488173\n",
      "minorAxis_1[iTrk][0][0] =  -4.1267405\n",
      "minorAxis_1[iTrk][1][0] =  17.179138\n",
      "minorAxis_1[iTrk][2][0] =  -2.3529467e-10\n",
      "minorAxis_2[iTrk][0][0] =  17.16303\n",
      "minorAxis_2[iTrk][1][0] =  4.122871\n",
      "minorAxis_2[iTrk][2][0] =  -0.7648817\n",
      "  \n",
      "majorAxis[iTrk][0][0] =  1.9753945\n",
      "majorAxis[iTrk][1][0] =  2.5669005\n",
      "majorAxis[iTrk][2][0] =  7.226382\n",
      "minorAxis_1[iTrk][0][0] =  14.0017\n",
      "minorAxis_1[iTrk][1][0] =  -10.7752075\n",
      "minorAxis_1[iTrk][2][0] =  5.3286344e-11\n",
      "minorAxis_2[iTrk][0][0] =  -9.832683\n",
      "minorAxis_2[iTrk][1][0] =  -12.776951\n",
      "minorAxis_2[iTrk][2][0] =  7.226381\n",
      "  \n",
      "majorAxis[iTrk][0][0] =  -0.0026900356\n",
      "majorAxis[iTrk][1][0] =  -0.0015841618\n",
      "majorAxis[iTrk][2][0] =  0.234843\n",
      "minorAxis_1[iTrk][0][0] =  -8.965469\n",
      "minorAxis_1[iTrk][1][0] =  15.224096\n",
      "minorAxis_1[iTrk][2][0] =  2.8236277e-08\n",
      "minorAxis_2[iTrk][0][0] =  15.222751\n",
      "minorAxis_2[iTrk][1][0] =  8.964677\n",
      "minorAxis_2[iTrk][2][0] =  0.234843\n",
      "  \n",
      "majorAxis[iTrk][0][0] =  -0.0001692281\n",
      "majorAxis[iTrk][1][0] =  0.0003505444\n",
      "majorAxis[iTrk][2][0] =  0.08292902\n",
      "minorAxis_1[iTrk][0][0] =  -15.910811\n",
      "minorAxis_1[iTrk][1][0] =  -7.68107\n",
      "minorAxis_1[iTrk][2][0] =  1.587002e-08\n",
      "minorAxis_2[iTrk][0][0] =  -7.680986\n",
      "minorAxis_2[iTrk][1][0] =  15.910635\n",
      "minorAxis_2[iTrk][2][0] =  -0.08292903\n",
      "  \n",
      "majorAxis[iTrk][0][0] =  0.0017714669\n",
      "majorAxis[iTrk][1][0] =  -0.001515166\n",
      "majorAxis[iTrk][2][0] =  0.20293355\n",
      "minorAxis_1[iTrk][0][0] =  11.483943\n",
      "minorAxis_1[iTrk][1][0] =  13.426532\n",
      "minorAxis_1[iTrk][2][0] =  -2.7840934e-09\n",
      "minorAxis_2[iTrk][0][0] =  13.425648\n",
      "minorAxis_2[iTrk][1][0] =  -11.483187\n",
      "minorAxis_2[iTrk][2][0] =  -0.20293356\n",
      "  \n",
      "majorAxis[iTrk][0][0] =  0.0006359923\n",
      "majorAxis[iTrk][1][0] =  -0.0003371759\n",
      "majorAxis[iTrk][2][0] =  0.112773284\n",
      "minorAxis_1[iTrk][0][0] =  8.275655\n",
      "minorAxis_1[iTrk][1][0] =  15.609813\n",
      "minorAxis_1[iTrk][2][0] =  -5.6373224e-08\n",
      "minorAxis_2[iTrk][0][0] =  15.609494\n",
      "minorAxis_2[iTrk][1][0] =  -8.275486\n",
      "minorAxis_2[iTrk][2][0] =  -0.11277328\n",
      "  \n",
      "len(X) =  80000\n",
      "len(Xlist) =  4\n",
      "Loaded /share/lazy/will/data/June30_2020_80k_4.h5 in 156.6 s\n",
      "outer loop X.shape =  (320000, 9, 600)\n",
      "Constructing 320000 event dataset took 2.766 s\n",
      "x_t.shape =  torch.Size([320000, 9, 600])\n",
      "x_t.shape[0] =  320000\n",
      "x_t.shape[1] =  9\n",
      "x_t.shape =  torch.Size([320000, 9, 600])\n"
     ]
    },
    {
     "name": "stdout",
     "output_type": "stream",
     "text": [
      "Loading data...\n",
      "pocaMx.shape =  (20000,)\n",
      "nEvts =  20000\n",
      "len(pocaMx[0]) =  211\n",
      "len(pocaMx[1]) =  21\n",
      "len(pocaMx[2]) =  20\n",
      "len(pocaMx[3]) =  198\n",
      "len(pocaMx[4]) =  233\n",
      "majorAxis.shape =  (20000, 3)\n",
      "minorAxis_1.shape =  (20000, 3)\n",
      "minorAxis_2.shape =  (20000, 3)\n",
      "have entered six_ellipsoid_parameters\n",
      "  \n",
      " \n",
      "  nEvts =  20000\n",
      " iEvt, nTrks =  0 211\n",
      " iEvt, nTrks =  1 21\n",
      " iEvt, nTrks =  2 20\n",
      " iEvt, nTrks =  3 198\n",
      " iEvt, nTrks =  4 233\n",
      " iEvt, nTrks =  5 85\n",
      " iEvt, nTrks =  6 223\n",
      " iEvt, nTrks =  7 425\n",
      " iEvt, nTrks =  8 252\n",
      " iEvt, nTrks =  9 169\n",
      "A.shape =  (20000,)\n",
      "majorAxis[iTrk][0][0] =  -0.00023452607\n",
      "majorAxis[iTrk][1][0] =  -0.00047206535\n",
      "majorAxis[iTrk][2][0] =  0.096502915\n",
      "minorAxis_1[iTrk][0][0] =  -15.822749\n",
      "minorAxis_1[iTrk][1][0] =  7.8608756\n",
      "minorAxis_1[iTrk][2][0] =  -2.6228399e-08\n",
      "minorAxis_2[iTrk][0][0] =  7.860759\n",
      "minorAxis_2[iTrk][1][0] =  15.822513\n",
      "minorAxis_2[iTrk][2][0] =  0.096502915\n",
      "  \n",
      "majorAxis[iTrk][0][0] =  -0.37655562\n",
      "majorAxis[iTrk][1][0] =  0.2768704\n",
      "majorAxis[iTrk][2][0] =  2.8546858\n",
      "minorAxis_1[iTrk][0][0] =  -10.466048\n",
      "minorAxis_1[iTrk][1][0] =  -14.234274\n",
      "minorAxis_1[iTrk][2][0] =  2.2974699e-11\n",
      "minorAxis_2[iTrk][0][0] =  -14.04724\n",
      "minorAxis_2[iTrk][1][0] =  10.328527\n",
      "minorAxis_2[iTrk][2][0] =  -2.8546853\n",
      "  \n",
      "majorAxis[iTrk][0][0] =  -0.024279848\n",
      "majorAxis[iTrk][1][0] =  0.0019689242\n",
      "majorAxis[iTrk][2][0] =  0.65580803\n",
      "minorAxis_1[iTrk][0][0] =  -1.4280497\n",
      "minorAxis_1[iTrk][1][0] =  -17.610037\n",
      "minorAxis_1[iTrk][2][0] =  -6.123401e-10\n",
      "minorAxis_2[iTrk][0][0] =  -17.597902\n",
      "minorAxis_2[iTrk][1][0] =  1.4270656\n",
      "minorAxis_2[iTrk][2][0] =  -0.6558081\n",
      "  \n",
      "majorAxis[iTrk][0][0] =  -0.007825993\n",
      "majorAxis[iTrk][1][0] =  0.004052097\n",
      "majorAxis[iTrk][2][0] =  0.3945435\n",
      "minorAxis_1[iTrk][0][0] =  8.123606\n",
      "minorAxis_1[iTrk][1][0] =  15.689478\n",
      "minorAxis_1[iTrk][2][0] =  -2.4940747e-10\n",
      "minorAxis_2[iTrk][0][0] =  15.685566\n",
      "minorAxis_2[iTrk][1][0] =  -8.12158\n",
      "minorAxis_2[iTrk][2][0] =  0.3945435\n",
      "  \n",
      "majorAxis[iTrk][0][0] =  0.0046102717\n",
      "majorAxis[iTrk][1][0] =  -0.0016007021\n",
      "majorAxis[iTrk][2][0] =  0.29361814\n",
      "minorAxis_1[iTrk][0][0] =  -5.794979\n",
      "minorAxis_1[iTrk][1][0] =  -16.690445\n",
      "minorAxis_1[iTrk][2][0] =  2.4897104e-09\n",
      "minorAxis_2[iTrk][0][0] =  -16.688139\n",
      "minorAxis_2[iTrk][1][0] =  5.794179\n",
      "minorAxis_2[iTrk][2][0] =  0.2936181\n",
      "  \n",
      "majorAxis[iTrk][0][0] =  -0.00020041714\n",
      "majorAxis[iTrk][1][0] =  0.00010468164\n",
      "majorAxis[iTrk][2][0] =  0.06320469\n",
      "minorAxis_1[iTrk][0][0] =  8.179679\n",
      "minorAxis_1[iTrk][1][0] =  15.660318\n",
      "minorAxis_1[iTrk][2][0] =  7.40176e-08\n",
      "minorAxis_2[iTrk][0][0] =  15.660218\n",
      "minorAxis_2[iTrk][1][0] =  -8.179626\n",
      "minorAxis_2[iTrk][2][0] =  0.06320469\n",
      "  \n",
      "majorAxis[iTrk][0][0] =  -0.00020603223\n",
      "majorAxis[iTrk][1][0] =  -0.0005662605\n",
      "majorAxis[iTrk][2][0] =  0.10317981\n",
      "minorAxis_1[iTrk][0][0] =  -16.603\n",
      "minorAxis_1[iTrk][1][0] =  6.040953\n",
      "minorAxis_1[iTrk][2][0] =  4.5812504e-07\n",
      "minorAxis_2[iTrk][0][0] =  6.0408506\n",
      "minorAxis_2[iTrk][1][0] =  16.602718\n",
      "minorAxis_2[iTrk][2][0] =  0.10317982\n",
      "  \n",
      "majorAxis[iTrk][0][0] =  -0.00040561036\n",
      "majorAxis[iTrk][1][0] =  0.00014461782\n",
      "majorAxis[iTrk][2][0] =  0.0872241\n",
      "minorAxis_1[iTrk][0][0] =  -5.933496\n",
      "minorAxis_1[iTrk][1][0] =  -16.641706\n",
      "minorAxis_1[iTrk][2][0] =  1.0720762e-08\n",
      "minorAxis_2[iTrk][0][0] =  -16.641502\n",
      "minorAxis_2[iTrk][1][0] =  5.9334235\n",
      "minorAxis_2[iTrk][2][0] =  -0.0872241\n",
      "  \n",
      "majorAxis[iTrk][0][0] =  0.00038461428\n",
      "majorAxis[iTrk][1][0] =  -3.4232737e-05\n",
      "majorAxis[iTrk][2][0] =  0.08259597\n",
      "minorAxis_1[iTrk][0][0] =  -1.5663412\n",
      "minorAxis_1[iTrk][1][0] =  -17.598276\n",
      "minorAxis_1[iTrk][2][0] =  3.2106848e-07\n",
      "minorAxis_2[iTrk][0][0] =  -17.598082\n",
      "minorAxis_2[iTrk][1][0] =  1.5663238\n",
      "minorAxis_2[iTrk][2][0] =  0.08259596\n",
      "  \n",
      "majorAxis[iTrk][0][0] =  -0.022277953\n",
      "majorAxis[iTrk][1][0] =  -0.0046837274\n",
      "majorAxis[iTrk][2][0] =  0.63399464\n",
      "minorAxis_1[iTrk][0][0] =  -3.6350286\n",
      "minorAxis_1[iTrk][1][0] =  17.289862\n",
      "minorAxis_1[iTrk][2][0] =  9.566169e-10\n",
      "minorAxis_2[iTrk][0][0] =  17.278727\n",
      "minorAxis_2[iTrk][1][0] =  3.6326876\n",
      "minorAxis_2[iTrk][2][0] =  0.6339946\n",
      "  \n",
      "len(X) =  20000\n",
      "len(Xlist) =  1\n",
      "Loaded dataAA/20K_POCA_kernel_evts_200926.h5 in 38.62 s\n",
      "outer loop X.shape =  (20000, 9, 600)\n",
      "Constructing 2000 event dataset took 0.04815 s\n",
      "x_t.shape =  torch.Size([2000, 9, 600])\n",
      "x_t.shape[0] =  2000\n",
      "x_t.shape[1] =  9\n",
      "x_t.shape =  torch.Size([2000, 9, 600])\n"
     ]
    }
   ],
   "source": [
    "\n",
    "## Training dataset. You can put as many files here as desired.\n",
    "\n",
    "##train_loader = collect_t2kde_data('/share/lazy/pv-finder/20k_evts_for_KDE_learning_200716.h5',\n",
    "train_loader = collect_t2kde_data('/share/lazy/will/data/June30_2020_80k_1.h5', \n",
    "                                    '/share/lazy/will/data/June30_2020_80k_2.h5',\n",
    "                                    '/share/lazy/will/data/June30_2020_80k_3.h5',\n",
    "                                    '/share/lazy/will/data/June30_2020_80k_4.h5',\n",
    "                             batch_size=batch_size,\n",
    "## if we are using a larger dataset (240K events, with the datasets above, and 11 GB  of GPU memory),\n",
    "## the dataset will overflow the GPU memory; device=device will allow the data to move back\n",
    "## and forth between the CPU and GPU memory. While this allows use of a larger dataset, it slows\n",
    "## down performance by about 10%.  So comment out when not needed.\n",
    "##                          device=device,\n",
    "##                           slice = slice(None,18000)\n",
    "                           )\n",
    "                            \n",
    "# Validation dataset. You can slice to reduce the size.\n",
    "## mds no separate validation set yet,\n",
    "val_loader = collect_t2kde_data('dataAA/20K_POCA_kernel_evts_200926.h5',\n",
    "                            batch_size=batch_size,\n",
    "##                            device=device,\n",
    "                            slice = slice(18000,None)\n",
    "                           )\n"
   ]
  },
  {
   "cell_type": "code",
   "execution_count": 16,
   "metadata": {
    "scrolled": false
   },
   "outputs": [
    {
     "data": {
      "application/javascript": [
       "/* Put everything inside the global mpl namespace */\n",
       "window.mpl = {};\n",
       "\n",
       "\n",
       "mpl.get_websocket_type = function() {\n",
       "    if (typeof(WebSocket) !== 'undefined') {\n",
       "        return WebSocket;\n",
       "    } else if (typeof(MozWebSocket) !== 'undefined') {\n",
       "        return MozWebSocket;\n",
       "    } else {\n",
       "        alert('Your browser does not have WebSocket support. ' +\n",
       "              'Please try Chrome, Safari or Firefox ≥ 6. ' +\n",
       "              'Firefox 4 and 5 are also supported but you ' +\n",
       "              'have to enable WebSockets in about:config.');\n",
       "    };\n",
       "}\n",
       "\n",
       "mpl.figure = function(figure_id, websocket, ondownload, parent_element) {\n",
       "    this.id = figure_id;\n",
       "\n",
       "    this.ws = websocket;\n",
       "\n",
       "    this.supports_binary = (this.ws.binaryType != undefined);\n",
       "\n",
       "    if (!this.supports_binary) {\n",
       "        var warnings = document.getElementById(\"mpl-warnings\");\n",
       "        if (warnings) {\n",
       "            warnings.style.display = 'block';\n",
       "            warnings.textContent = (\n",
       "                \"This browser does not support binary websocket messages. \" +\n",
       "                    \"Performance may be slow.\");\n",
       "        }\n",
       "    }\n",
       "\n",
       "    this.imageObj = new Image();\n",
       "\n",
       "    this.context = undefined;\n",
       "    this.message = undefined;\n",
       "    this.canvas = undefined;\n",
       "    this.rubberband_canvas = undefined;\n",
       "    this.rubberband_context = undefined;\n",
       "    this.format_dropdown = undefined;\n",
       "\n",
       "    this.image_mode = 'full';\n",
       "\n",
       "    this.root = $('<div/>');\n",
       "    this._root_extra_style(this.root)\n",
       "    this.root.attr('style', 'display: inline-block');\n",
       "\n",
       "    $(parent_element).append(this.root);\n",
       "\n",
       "    this._init_header(this);\n",
       "    this._init_canvas(this);\n",
       "    this._init_toolbar(this);\n",
       "\n",
       "    var fig = this;\n",
       "\n",
       "    this.waiting = false;\n",
       "\n",
       "    this.ws.onopen =  function () {\n",
       "            fig.send_message(\"supports_binary\", {value: fig.supports_binary});\n",
       "            fig.send_message(\"send_image_mode\", {});\n",
       "            if (mpl.ratio != 1) {\n",
       "                fig.send_message(\"set_dpi_ratio\", {'dpi_ratio': mpl.ratio});\n",
       "            }\n",
       "            fig.send_message(\"refresh\", {});\n",
       "        }\n",
       "\n",
       "    this.imageObj.onload = function() {\n",
       "            if (fig.image_mode == 'full') {\n",
       "                // Full images could contain transparency (where diff images\n",
       "                // almost always do), so we need to clear the canvas so that\n",
       "                // there is no ghosting.\n",
       "                fig.context.clearRect(0, 0, fig.canvas.width, fig.canvas.height);\n",
       "            }\n",
       "            fig.context.drawImage(fig.imageObj, 0, 0);\n",
       "        };\n",
       "\n",
       "    this.imageObj.onunload = function() {\n",
       "        fig.ws.close();\n",
       "    }\n",
       "\n",
       "    this.ws.onmessage = this._make_on_message_function(this);\n",
       "\n",
       "    this.ondownload = ondownload;\n",
       "}\n",
       "\n",
       "mpl.figure.prototype._init_header = function() {\n",
       "    var titlebar = $(\n",
       "        '<div class=\"ui-dialog-titlebar ui-widget-header ui-corner-all ' +\n",
       "        'ui-helper-clearfix\"/>');\n",
       "    var titletext = $(\n",
       "        '<div class=\"ui-dialog-title\" style=\"width: 100%; ' +\n",
       "        'text-align: center; padding: 3px;\"/>');\n",
       "    titlebar.append(titletext)\n",
       "    this.root.append(titlebar);\n",
       "    this.header = titletext[0];\n",
       "}\n",
       "\n",
       "\n",
       "\n",
       "mpl.figure.prototype._canvas_extra_style = function(canvas_div) {\n",
       "\n",
       "}\n",
       "\n",
       "\n",
       "mpl.figure.prototype._root_extra_style = function(canvas_div) {\n",
       "\n",
       "}\n",
       "\n",
       "mpl.figure.prototype._init_canvas = function() {\n",
       "    var fig = this;\n",
       "\n",
       "    var canvas_div = $('<div/>');\n",
       "\n",
       "    canvas_div.attr('style', 'position: relative; clear: both; outline: 0');\n",
       "\n",
       "    function canvas_keyboard_event(event) {\n",
       "        return fig.key_event(event, event['data']);\n",
       "    }\n",
       "\n",
       "    canvas_div.keydown('key_press', canvas_keyboard_event);\n",
       "    canvas_div.keyup('key_release', canvas_keyboard_event);\n",
       "    this.canvas_div = canvas_div\n",
       "    this._canvas_extra_style(canvas_div)\n",
       "    this.root.append(canvas_div);\n",
       "\n",
       "    var canvas = $('<canvas/>');\n",
       "    canvas.addClass('mpl-canvas');\n",
       "    canvas.attr('style', \"left: 0; top: 0; z-index: 0; outline: 0\")\n",
       "\n",
       "    this.canvas = canvas[0];\n",
       "    this.context = canvas[0].getContext(\"2d\");\n",
       "\n",
       "    var backingStore = this.context.backingStorePixelRatio ||\n",
       "\tthis.context.webkitBackingStorePixelRatio ||\n",
       "\tthis.context.mozBackingStorePixelRatio ||\n",
       "\tthis.context.msBackingStorePixelRatio ||\n",
       "\tthis.context.oBackingStorePixelRatio ||\n",
       "\tthis.context.backingStorePixelRatio || 1;\n",
       "\n",
       "    mpl.ratio = (window.devicePixelRatio || 1) / backingStore;\n",
       "\n",
       "    var rubberband = $('<canvas/>');\n",
       "    rubberband.attr('style', \"position: absolute; left: 0; top: 0; z-index: 1;\")\n",
       "\n",
       "    var pass_mouse_events = true;\n",
       "\n",
       "    canvas_div.resizable({\n",
       "        start: function(event, ui) {\n",
       "            pass_mouse_events = false;\n",
       "        },\n",
       "        resize: function(event, ui) {\n",
       "            fig.request_resize(ui.size.width, ui.size.height);\n",
       "        },\n",
       "        stop: function(event, ui) {\n",
       "            pass_mouse_events = true;\n",
       "            fig.request_resize(ui.size.width, ui.size.height);\n",
       "        },\n",
       "    });\n",
       "\n",
       "    function mouse_event_fn(event) {\n",
       "        if (pass_mouse_events)\n",
       "            return fig.mouse_event(event, event['data']);\n",
       "    }\n",
       "\n",
       "    rubberband.mousedown('button_press', mouse_event_fn);\n",
       "    rubberband.mouseup('button_release', mouse_event_fn);\n",
       "    // Throttle sequential mouse events to 1 every 20ms.\n",
       "    rubberband.mousemove('motion_notify', mouse_event_fn);\n",
       "\n",
       "    rubberband.mouseenter('figure_enter', mouse_event_fn);\n",
       "    rubberband.mouseleave('figure_leave', mouse_event_fn);\n",
       "\n",
       "    canvas_div.on(\"wheel\", function (event) {\n",
       "        event = event.originalEvent;\n",
       "        event['data'] = 'scroll'\n",
       "        if (event.deltaY < 0) {\n",
       "            event.step = 1;\n",
       "        } else {\n",
       "            event.step = -1;\n",
       "        }\n",
       "        mouse_event_fn(event);\n",
       "    });\n",
       "\n",
       "    canvas_div.append(canvas);\n",
       "    canvas_div.append(rubberband);\n",
       "\n",
       "    this.rubberband = rubberband;\n",
       "    this.rubberband_canvas = rubberband[0];\n",
       "    this.rubberband_context = rubberband[0].getContext(\"2d\");\n",
       "    this.rubberband_context.strokeStyle = \"#000000\";\n",
       "\n",
       "    this._resize_canvas = function(width, height) {\n",
       "        // Keep the size of the canvas, canvas container, and rubber band\n",
       "        // canvas in synch.\n",
       "        canvas_div.css('width', width)\n",
       "        canvas_div.css('height', height)\n",
       "\n",
       "        canvas.attr('width', width * mpl.ratio);\n",
       "        canvas.attr('height', height * mpl.ratio);\n",
       "        canvas.attr('style', 'width: ' + width + 'px; height: ' + height + 'px;');\n",
       "\n",
       "        rubberband.attr('width', width);\n",
       "        rubberband.attr('height', height);\n",
       "    }\n",
       "\n",
       "    // Set the figure to an initial 600x600px, this will subsequently be updated\n",
       "    // upon first draw.\n",
       "    this._resize_canvas(600, 600);\n",
       "\n",
       "    // Disable right mouse context menu.\n",
       "    $(this.rubberband_canvas).bind(\"contextmenu\",function(e){\n",
       "        return false;\n",
       "    });\n",
       "\n",
       "    function set_focus () {\n",
       "        canvas.focus();\n",
       "        canvas_div.focus();\n",
       "    }\n",
       "\n",
       "    window.setTimeout(set_focus, 100);\n",
       "}\n",
       "\n",
       "mpl.figure.prototype._init_toolbar = function() {\n",
       "    var fig = this;\n",
       "\n",
       "    var nav_element = $('<div/>');\n",
       "    nav_element.attr('style', 'width: 100%');\n",
       "    this.root.append(nav_element);\n",
       "\n",
       "    // Define a callback function for later on.\n",
       "    function toolbar_event(event) {\n",
       "        return fig.toolbar_button_onclick(event['data']);\n",
       "    }\n",
       "    function toolbar_mouse_event(event) {\n",
       "        return fig.toolbar_button_onmouseover(event['data']);\n",
       "    }\n",
       "\n",
       "    for(var toolbar_ind in mpl.toolbar_items) {\n",
       "        var name = mpl.toolbar_items[toolbar_ind][0];\n",
       "        var tooltip = mpl.toolbar_items[toolbar_ind][1];\n",
       "        var image = mpl.toolbar_items[toolbar_ind][2];\n",
       "        var method_name = mpl.toolbar_items[toolbar_ind][3];\n",
       "\n",
       "        if (!name) {\n",
       "            // put a spacer in here.\n",
       "            continue;\n",
       "        }\n",
       "        var button = $('<button/>');\n",
       "        button.addClass('ui-button ui-widget ui-state-default ui-corner-all ' +\n",
       "                        'ui-button-icon-only');\n",
       "        button.attr('role', 'button');\n",
       "        button.attr('aria-disabled', 'false');\n",
       "        button.click(method_name, toolbar_event);\n",
       "        button.mouseover(tooltip, toolbar_mouse_event);\n",
       "\n",
       "        var icon_img = $('<span/>');\n",
       "        icon_img.addClass('ui-button-icon-primary ui-icon');\n",
       "        icon_img.addClass(image);\n",
       "        icon_img.addClass('ui-corner-all');\n",
       "\n",
       "        var tooltip_span = $('<span/>');\n",
       "        tooltip_span.addClass('ui-button-text');\n",
       "        tooltip_span.html(tooltip);\n",
       "\n",
       "        button.append(icon_img);\n",
       "        button.append(tooltip_span);\n",
       "\n",
       "        nav_element.append(button);\n",
       "    }\n",
       "\n",
       "    var fmt_picker_span = $('<span/>');\n",
       "\n",
       "    var fmt_picker = $('<select/>');\n",
       "    fmt_picker.addClass('mpl-toolbar-option ui-widget ui-widget-content');\n",
       "    fmt_picker_span.append(fmt_picker);\n",
       "    nav_element.append(fmt_picker_span);\n",
       "    this.format_dropdown = fmt_picker[0];\n",
       "\n",
       "    for (var ind in mpl.extensions) {\n",
       "        var fmt = mpl.extensions[ind];\n",
       "        var option = $(\n",
       "            '<option/>', {selected: fmt === mpl.default_extension}).html(fmt);\n",
       "        fmt_picker.append(option);\n",
       "    }\n",
       "\n",
       "    // Add hover states to the ui-buttons\n",
       "    $( \".ui-button\" ).hover(\n",
       "        function() { $(this).addClass(\"ui-state-hover\");},\n",
       "        function() { $(this).removeClass(\"ui-state-hover\");}\n",
       "    );\n",
       "\n",
       "    var status_bar = $('<span class=\"mpl-message\"/>');\n",
       "    nav_element.append(status_bar);\n",
       "    this.message = status_bar[0];\n",
       "}\n",
       "\n",
       "mpl.figure.prototype.request_resize = function(x_pixels, y_pixels) {\n",
       "    // Request matplotlib to resize the figure. Matplotlib will then trigger a resize in the client,\n",
       "    // which will in turn request a refresh of the image.\n",
       "    this.send_message('resize', {'width': x_pixels, 'height': y_pixels});\n",
       "}\n",
       "\n",
       "mpl.figure.prototype.send_message = function(type, properties) {\n",
       "    properties['type'] = type;\n",
       "    properties['figure_id'] = this.id;\n",
       "    this.ws.send(JSON.stringify(properties));\n",
       "}\n",
       "\n",
       "mpl.figure.prototype.send_draw_message = function() {\n",
       "    if (!this.waiting) {\n",
       "        this.waiting = true;\n",
       "        this.ws.send(JSON.stringify({type: \"draw\", figure_id: this.id}));\n",
       "    }\n",
       "}\n",
       "\n",
       "\n",
       "mpl.figure.prototype.handle_save = function(fig, msg) {\n",
       "    var format_dropdown = fig.format_dropdown;\n",
       "    var format = format_dropdown.options[format_dropdown.selectedIndex].value;\n",
       "    fig.ondownload(fig, format);\n",
       "}\n",
       "\n",
       "\n",
       "mpl.figure.prototype.handle_resize = function(fig, msg) {\n",
       "    var size = msg['size'];\n",
       "    if (size[0] != fig.canvas.width || size[1] != fig.canvas.height) {\n",
       "        fig._resize_canvas(size[0], size[1]);\n",
       "        fig.send_message(\"refresh\", {});\n",
       "    };\n",
       "}\n",
       "\n",
       "mpl.figure.prototype.handle_rubberband = function(fig, msg) {\n",
       "    var x0 = msg['x0'] / mpl.ratio;\n",
       "    var y0 = (fig.canvas.height - msg['y0']) / mpl.ratio;\n",
       "    var x1 = msg['x1'] / mpl.ratio;\n",
       "    var y1 = (fig.canvas.height - msg['y1']) / mpl.ratio;\n",
       "    x0 = Math.floor(x0) + 0.5;\n",
       "    y0 = Math.floor(y0) + 0.5;\n",
       "    x1 = Math.floor(x1) + 0.5;\n",
       "    y1 = Math.floor(y1) + 0.5;\n",
       "    var min_x = Math.min(x0, x1);\n",
       "    var min_y = Math.min(y0, y1);\n",
       "    var width = Math.abs(x1 - x0);\n",
       "    var height = Math.abs(y1 - y0);\n",
       "\n",
       "    fig.rubberband_context.clearRect(\n",
       "        0, 0, fig.canvas.width / mpl.ratio, fig.canvas.height / mpl.ratio);\n",
       "\n",
       "    fig.rubberband_context.strokeRect(min_x, min_y, width, height);\n",
       "}\n",
       "\n",
       "mpl.figure.prototype.handle_figure_label = function(fig, msg) {\n",
       "    // Updates the figure title.\n",
       "    fig.header.textContent = msg['label'];\n",
       "}\n",
       "\n",
       "mpl.figure.prototype.handle_cursor = function(fig, msg) {\n",
       "    var cursor = msg['cursor'];\n",
       "    switch(cursor)\n",
       "    {\n",
       "    case 0:\n",
       "        cursor = 'pointer';\n",
       "        break;\n",
       "    case 1:\n",
       "        cursor = 'default';\n",
       "        break;\n",
       "    case 2:\n",
       "        cursor = 'crosshair';\n",
       "        break;\n",
       "    case 3:\n",
       "        cursor = 'move';\n",
       "        break;\n",
       "    }\n",
       "    fig.rubberband_canvas.style.cursor = cursor;\n",
       "}\n",
       "\n",
       "mpl.figure.prototype.handle_message = function(fig, msg) {\n",
       "    fig.message.textContent = msg['message'];\n",
       "}\n",
       "\n",
       "mpl.figure.prototype.handle_draw = function(fig, msg) {\n",
       "    // Request the server to send over a new figure.\n",
       "    fig.send_draw_message();\n",
       "}\n",
       "\n",
       "mpl.figure.prototype.handle_image_mode = function(fig, msg) {\n",
       "    fig.image_mode = msg['mode'];\n",
       "}\n",
       "\n",
       "mpl.figure.prototype.updated_canvas_event = function() {\n",
       "    // Called whenever the canvas gets updated.\n",
       "    this.send_message(\"ack\", {});\n",
       "}\n",
       "\n",
       "// A function to construct a web socket function for onmessage handling.\n",
       "// Called in the figure constructor.\n",
       "mpl.figure.prototype._make_on_message_function = function(fig) {\n",
       "    return function socket_on_message(evt) {\n",
       "        if (evt.data instanceof Blob) {\n",
       "            /* FIXME: We get \"Resource interpreted as Image but\n",
       "             * transferred with MIME type text/plain:\" errors on\n",
       "             * Chrome.  But how to set the MIME type?  It doesn't seem\n",
       "             * to be part of the websocket stream */\n",
       "            evt.data.type = \"image/png\";\n",
       "\n",
       "            /* Free the memory for the previous frames */\n",
       "            if (fig.imageObj.src) {\n",
       "                (window.URL || window.webkitURL).revokeObjectURL(\n",
       "                    fig.imageObj.src);\n",
       "            }\n",
       "\n",
       "            fig.imageObj.src = (window.URL || window.webkitURL).createObjectURL(\n",
       "                evt.data);\n",
       "            fig.updated_canvas_event();\n",
       "            fig.waiting = false;\n",
       "            return;\n",
       "        }\n",
       "        else if (typeof evt.data === 'string' && evt.data.slice(0, 21) == \"data:image/png;base64\") {\n",
       "            fig.imageObj.src = evt.data;\n",
       "            fig.updated_canvas_event();\n",
       "            fig.waiting = false;\n",
       "            return;\n",
       "        }\n",
       "\n",
       "        var msg = JSON.parse(evt.data);\n",
       "        var msg_type = msg['type'];\n",
       "\n",
       "        // Call the  \"handle_{type}\" callback, which takes\n",
       "        // the figure and JSON message as its only arguments.\n",
       "        try {\n",
       "            var callback = fig[\"handle_\" + msg_type];\n",
       "        } catch (e) {\n",
       "            console.log(\"No handler for the '\" + msg_type + \"' message type: \", msg);\n",
       "            return;\n",
       "        }\n",
       "\n",
       "        if (callback) {\n",
       "            try {\n",
       "                // console.log(\"Handling '\" + msg_type + \"' message: \", msg);\n",
       "                callback(fig, msg);\n",
       "            } catch (e) {\n",
       "                console.log(\"Exception inside the 'handler_\" + msg_type + \"' callback:\", e, e.stack, msg);\n",
       "            }\n",
       "        }\n",
       "    };\n",
       "}\n",
       "\n",
       "// from http://stackoverflow.com/questions/1114465/getting-mouse-location-in-canvas\n",
       "mpl.findpos = function(e) {\n",
       "    //this section is from http://www.quirksmode.org/js/events_properties.html\n",
       "    var targ;\n",
       "    if (!e)\n",
       "        e = window.event;\n",
       "    if (e.target)\n",
       "        targ = e.target;\n",
       "    else if (e.srcElement)\n",
       "        targ = e.srcElement;\n",
       "    if (targ.nodeType == 3) // defeat Safari bug\n",
       "        targ = targ.parentNode;\n",
       "\n",
       "    // jQuery normalizes the pageX and pageY\n",
       "    // pageX,Y are the mouse positions relative to the document\n",
       "    // offset() returns the position of the element relative to the document\n",
       "    var x = e.pageX - $(targ).offset().left;\n",
       "    var y = e.pageY - $(targ).offset().top;\n",
       "\n",
       "    return {\"x\": x, \"y\": y};\n",
       "};\n",
       "\n",
       "/*\n",
       " * return a copy of an object with only non-object keys\n",
       " * we need this to avoid circular references\n",
       " * http://stackoverflow.com/a/24161582/3208463\n",
       " */\n",
       "function simpleKeys (original) {\n",
       "  return Object.keys(original).reduce(function (obj, key) {\n",
       "    if (typeof original[key] !== 'object')\n",
       "        obj[key] = original[key]\n",
       "    return obj;\n",
       "  }, {});\n",
       "}\n",
       "\n",
       "mpl.figure.prototype.mouse_event = function(event, name) {\n",
       "    var canvas_pos = mpl.findpos(event)\n",
       "\n",
       "    if (name === 'button_press')\n",
       "    {\n",
       "        this.canvas.focus();\n",
       "        this.canvas_div.focus();\n",
       "    }\n",
       "\n",
       "    var x = canvas_pos.x * mpl.ratio;\n",
       "    var y = canvas_pos.y * mpl.ratio;\n",
       "\n",
       "    this.send_message(name, {x: x, y: y, button: event.button,\n",
       "                             step: event.step,\n",
       "                             guiEvent: simpleKeys(event)});\n",
       "\n",
       "    /* This prevents the web browser from automatically changing to\n",
       "     * the text insertion cursor when the button is pressed.  We want\n",
       "     * to control all of the cursor setting manually through the\n",
       "     * 'cursor' event from matplotlib */\n",
       "    event.preventDefault();\n",
       "    return false;\n",
       "}\n",
       "\n",
       "mpl.figure.prototype._key_event_extra = function(event, name) {\n",
       "    // Handle any extra behaviour associated with a key event\n",
       "}\n",
       "\n",
       "mpl.figure.prototype.key_event = function(event, name) {\n",
       "\n",
       "    // Prevent repeat events\n",
       "    if (name == 'key_press')\n",
       "    {\n",
       "        if (event.which === this._key)\n",
       "            return;\n",
       "        else\n",
       "            this._key = event.which;\n",
       "    }\n",
       "    if (name == 'key_release')\n",
       "        this._key = null;\n",
       "\n",
       "    var value = '';\n",
       "    if (event.ctrlKey && event.which != 17)\n",
       "        value += \"ctrl+\";\n",
       "    if (event.altKey && event.which != 18)\n",
       "        value += \"alt+\";\n",
       "    if (event.shiftKey && event.which != 16)\n",
       "        value += \"shift+\";\n",
       "\n",
       "    value += 'k';\n",
       "    value += event.which.toString();\n",
       "\n",
       "    this._key_event_extra(event, name);\n",
       "\n",
       "    this.send_message(name, {key: value,\n",
       "                             guiEvent: simpleKeys(event)});\n",
       "    return false;\n",
       "}\n",
       "\n",
       "mpl.figure.prototype.toolbar_button_onclick = function(name) {\n",
       "    if (name == 'download') {\n",
       "        this.handle_save(this, null);\n",
       "    } else {\n",
       "        this.send_message(\"toolbar_button\", {name: name});\n",
       "    }\n",
       "};\n",
       "\n",
       "mpl.figure.prototype.toolbar_button_onmouseover = function(tooltip) {\n",
       "    this.message.textContent = tooltip;\n",
       "};\n",
       "mpl.toolbar_items = [[\"Home\", \"Reset original view\", \"fa fa-home icon-home\", \"home\"], [\"Back\", \"Back to previous view\", \"fa fa-arrow-left icon-arrow-left\", \"back\"], [\"Forward\", \"Forward to next view\", \"fa fa-arrow-right icon-arrow-right\", \"forward\"], [\"\", \"\", \"\", \"\"], [\"Pan\", \"Pan axes with left mouse, zoom with right\", \"fa fa-arrows icon-move\", \"pan\"], [\"Zoom\", \"Zoom to rectangle\", \"fa fa-square-o icon-check-empty\", \"zoom\"], [\"\", \"\", \"\", \"\"], [\"Download\", \"Download plot\", \"fa fa-floppy-o icon-save\", \"download\"]];\n",
       "\n",
       "mpl.extensions = [\"eps\", \"jpeg\", \"pdf\", \"png\", \"ps\", \"raw\", \"svg\", \"tif\"];\n",
       "\n",
       "mpl.default_extension = \"png\";var comm_websocket_adapter = function(comm) {\n",
       "    // Create a \"websocket\"-like object which calls the given IPython comm\n",
       "    // object with the appropriate methods. Currently this is a non binary\n",
       "    // socket, so there is still some room for performance tuning.\n",
       "    var ws = {};\n",
       "\n",
       "    ws.close = function() {\n",
       "        comm.close()\n",
       "    };\n",
       "    ws.send = function(m) {\n",
       "        //console.log('sending', m);\n",
       "        comm.send(m);\n",
       "    };\n",
       "    // Register the callback with on_msg.\n",
       "    comm.on_msg(function(msg) {\n",
       "        //console.log('receiving', msg['content']['data'], msg);\n",
       "        // Pass the mpl event to the overridden (by mpl) onmessage function.\n",
       "        ws.onmessage(msg['content']['data'])\n",
       "    });\n",
       "    return ws;\n",
       "}\n",
       "\n",
       "mpl.mpl_figure_comm = function(comm, msg) {\n",
       "    // This is the function which gets called when the mpl process\n",
       "    // starts-up an IPython Comm through the \"matplotlib\" channel.\n",
       "\n",
       "    var id = msg.content.data.id;\n",
       "    // Get hold of the div created by the display call when the Comm\n",
       "    // socket was opened in Python.\n",
       "    var element = $(\"#\" + id);\n",
       "    var ws_proxy = comm_websocket_adapter(comm)\n",
       "\n",
       "    function ondownload(figure, format) {\n",
       "        window.open(figure.imageObj.src);\n",
       "    }\n",
       "\n",
       "    var fig = new mpl.figure(id, ws_proxy,\n",
       "                           ondownload,\n",
       "                           element.get(0));\n",
       "\n",
       "    // Call onopen now - mpl needs it, as it is assuming we've passed it a real\n",
       "    // web socket which is closed, not our websocket->open comm proxy.\n",
       "    ws_proxy.onopen();\n",
       "\n",
       "    fig.parent_element = element.get(0);\n",
       "    fig.cell_info = mpl.find_output_cell(\"<div id='\" + id + \"'></div>\");\n",
       "    if (!fig.cell_info) {\n",
       "        console.error(\"Failed to find cell for figure\", id, fig);\n",
       "        return;\n",
       "    }\n",
       "\n",
       "    var output_index = fig.cell_info[2]\n",
       "    var cell = fig.cell_info[0];\n",
       "\n",
       "};\n",
       "\n",
       "mpl.figure.prototype.handle_close = function(fig, msg) {\n",
       "    var width = fig.canvas.width/mpl.ratio\n",
       "    fig.root.unbind('remove')\n",
       "\n",
       "    // Update the output cell to use the data from the current canvas.\n",
       "    fig.push_to_output();\n",
       "    var dataURL = fig.canvas.toDataURL();\n",
       "    // Re-enable the keyboard manager in IPython - without this line, in FF,\n",
       "    // the notebook keyboard shortcuts fail.\n",
       "    IPython.keyboard_manager.enable()\n",
       "    $(fig.parent_element).html('<img src=\"' + dataURL + '\" width=\"' + width + '\">');\n",
       "    fig.close_ws(fig, msg);\n",
       "}\n",
       "\n",
       "mpl.figure.prototype.close_ws = function(fig, msg){\n",
       "    fig.send_message('closing', msg);\n",
       "    // fig.ws.close()\n",
       "}\n",
       "\n",
       "mpl.figure.prototype.push_to_output = function(remove_interactive) {\n",
       "    // Turn the data on the canvas into data in the output cell.\n",
       "    var width = this.canvas.width/mpl.ratio\n",
       "    var dataURL = this.canvas.toDataURL();\n",
       "    this.cell_info[1]['text/html'] = '<img src=\"' + dataURL + '\" width=\"' + width + '\">';\n",
       "}\n",
       "\n",
       "mpl.figure.prototype.updated_canvas_event = function() {\n",
       "    // Tell IPython that the notebook contents must change.\n",
       "    IPython.notebook.set_dirty(true);\n",
       "    this.send_message(\"ack\", {});\n",
       "    var fig = this;\n",
       "    // Wait a second, then push the new image to the DOM so\n",
       "    // that it is saved nicely (might be nice to debounce this).\n",
       "    setTimeout(function () { fig.push_to_output() }, 1000);\n",
       "}\n",
       "\n",
       "mpl.figure.prototype._init_toolbar = function() {\n",
       "    var fig = this;\n",
       "\n",
       "    var nav_element = $('<div/>');\n",
       "    nav_element.attr('style', 'width: 100%');\n",
       "    this.root.append(nav_element);\n",
       "\n",
       "    // Define a callback function for later on.\n",
       "    function toolbar_event(event) {\n",
       "        return fig.toolbar_button_onclick(event['data']);\n",
       "    }\n",
       "    function toolbar_mouse_event(event) {\n",
       "        return fig.toolbar_button_onmouseover(event['data']);\n",
       "    }\n",
       "\n",
       "    for(var toolbar_ind in mpl.toolbar_items){\n",
       "        var name = mpl.toolbar_items[toolbar_ind][0];\n",
       "        var tooltip = mpl.toolbar_items[toolbar_ind][1];\n",
       "        var image = mpl.toolbar_items[toolbar_ind][2];\n",
       "        var method_name = mpl.toolbar_items[toolbar_ind][3];\n",
       "\n",
       "        if (!name) { continue; };\n",
       "\n",
       "        var button = $('<button class=\"btn btn-default\" href=\"#\" title=\"' + name + '\"><i class=\"fa ' + image + ' fa-lg\"></i></button>');\n",
       "        button.click(method_name, toolbar_event);\n",
       "        button.mouseover(tooltip, toolbar_mouse_event);\n",
       "        nav_element.append(button);\n",
       "    }\n",
       "\n",
       "    // Add the status bar.\n",
       "    var status_bar = $('<span class=\"mpl-message\" style=\"text-align:right; float: right;\"/>');\n",
       "    nav_element.append(status_bar);\n",
       "    this.message = status_bar[0];\n",
       "\n",
       "    // Add the close button to the window.\n",
       "    var buttongrp = $('<div class=\"btn-group inline pull-right\"></div>');\n",
       "    var button = $('<button class=\"btn btn-mini btn-primary\" href=\"#\" title=\"Stop Interaction\"><i class=\"fa fa-power-off icon-remove icon-large\"></i></button>');\n",
       "    button.click(function (evt) { fig.handle_close(fig, {}); } );\n",
       "    button.mouseover('Stop Interaction', toolbar_mouse_event);\n",
       "    buttongrp.append(button);\n",
       "    var titlebar = this.root.find($('.ui-dialog-titlebar'));\n",
       "    titlebar.prepend(buttongrp);\n",
       "}\n",
       "\n",
       "mpl.figure.prototype._root_extra_style = function(el){\n",
       "    var fig = this\n",
       "    el.on(\"remove\", function(){\n",
       "\tfig.close_ws(fig, {});\n",
       "    });\n",
       "}\n",
       "\n",
       "mpl.figure.prototype._canvas_extra_style = function(el){\n",
       "    // this is important to make the div 'focusable\n",
       "    el.attr('tabindex', 0)\n",
       "    // reach out to IPython and tell the keyboard manager to turn it's self\n",
       "    // off when our div gets focus\n",
       "\n",
       "    // location in version 3\n",
       "    if (IPython.notebook.keyboard_manager) {\n",
       "        IPython.notebook.keyboard_manager.register_events(el);\n",
       "    }\n",
       "    else {\n",
       "        // location in version 2\n",
       "        IPython.keyboard_manager.register_events(el);\n",
       "    }\n",
       "\n",
       "}\n",
       "\n",
       "mpl.figure.prototype._key_event_extra = function(event, name) {\n",
       "    var manager = IPython.notebook.keyboard_manager;\n",
       "    if (!manager)\n",
       "        manager = IPython.keyboard_manager;\n",
       "\n",
       "    // Check for shift+enter\n",
       "    if (event.shiftKey && event.which == 13) {\n",
       "        this.canvas_div.blur();\n",
       "        // select the cell after this one\n",
       "        var index = IPython.notebook.find_cell_index(this.cell_info[0]);\n",
       "        IPython.notebook.select(index + 1);\n",
       "    }\n",
       "}\n",
       "\n",
       "mpl.figure.prototype.handle_save = function(fig, msg) {\n",
       "    fig.ondownload(fig, null);\n",
       "}\n",
       "\n",
       "\n",
       "mpl.find_output_cell = function(html_output) {\n",
       "    // Return the cell and output element which can be found *uniquely* in the notebook.\n",
       "    // Note - this is a bit hacky, but it is done because the \"notebook_saving.Notebook\"\n",
       "    // IPython event is triggered only after the cells have been serialised, which for\n",
       "    // our purposes (turning an active figure into a static one), is too late.\n",
       "    var cells = IPython.notebook.get_cells();\n",
       "    var ncells = cells.length;\n",
       "    for (var i=0; i<ncells; i++) {\n",
       "        var cell = cells[i];\n",
       "        if (cell.cell_type === 'code'){\n",
       "            for (var j=0; j<cell.output_area.outputs.length; j++) {\n",
       "                var data = cell.output_area.outputs[j];\n",
       "                if (data.data) {\n",
       "                    // IPython >= 3 moved mimebundle to data attribute of output\n",
       "                    data = data.data;\n",
       "                }\n",
       "                if (data['text/html'] == html_output) {\n",
       "                    return [cell, data, j];\n",
       "                }\n",
       "            }\n",
       "        }\n",
       "    }\n",
       "}\n",
       "\n",
       "// Register the function which deals with the matplotlib target/channel.\n",
       "// The kernel may be null if the page has been refreshed.\n",
       "if (IPython.notebook.kernel != null) {\n",
       "    IPython.notebook.kernel.comm_manager.register_target('matplotlib', mpl.mpl_figure_comm);\n",
       "}\n"
      ],
      "text/plain": [
       "<IPython.core.display.Javascript object>"
      ]
     },
     "metadata": {},
     "output_type": "display_data"
    },
    {
     "data": {
      "text/html": [
       "<img src=\"data:image/png;base64,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\" width=\"999.75\">"
      ],
      "text/plain": [
       "<IPython.core.display.HTML object>"
      ]
     },
     "metadata": {},
     "output_type": "display_data"
    }
   ],
   "source": [
    "ax, tax, lax, lines = dual_train_plots()\n",
    "fig = ax.figure\n",
    "plt.tight_layout()"
   ]
  },
  {
   "cell_type": "code",
   "execution_count": 17,
   "metadata": {
    "scrolled": false
   },
   "outputs": [
    {
     "name": "stdout",
     "output_type": "stream",
     "text": [
      "Number of batches: train = 6667, val = 42\n"
     ]
    },
    {
     "data": {
      "application/vnd.jupyter.widget-view+json": {
       "model_id": "60a826e2083c437880905535fb218e0c",
       "version_major": 2,
       "version_minor": 0
      },
      "text/plain": [
       "HBox(children=(FloatProgress(value=0.0, description='Epochs', layout=Layout(flex='2'), style=ProgressStyle(des…"
      ]
     },
     "metadata": {},
     "output_type": "display_data"
    },
    {
     "name": "stdout",
     "output_type": "stream",
     "text": [
      "Number of batches: train = 6667, val = 42\n"
     ]
    },
    {
     "data": {
      "application/vnd.jupyter.widget-view+json": {
       "model_id": "",
       "version_major": 2,
       "version_minor": 0
      },
      "text/plain": [
       "HBox(children=(FloatProgress(value=0.0, description='Training', layout=Layout(flex='2'), max=6667.0, style=Pro…"
      ]
     },
     "metadata": {},
     "output_type": "display_data"
    },
    {
     "name": "stdout",
     "output_type": "stream",
     "text": [
      "Epoch 0: train=0.933497, val=0.701188, took 600.62 s\n"
     ]
    },
    {
     "data": {
      "application/vnd.jupyter.widget-view+json": {
       "model_id": "",
       "version_major": 2,
       "version_minor": 0
      },
      "text/plain": [
       "HBox(children=(FloatProgress(value=0.0, description='Training', layout=Layout(flex='2'), max=6667.0, style=Pro…"
      ]
     },
     "metadata": {},
     "output_type": "display_data"
    },
    {
     "name": "stdout",
     "output_type": "stream",
     "text": [
      "Epoch 1: train=0.929858, val=0.67247, took 602.31 s\n"
     ]
    },
    {
     "data": {
      "application/vnd.jupyter.widget-view+json": {
       "model_id": "",
       "version_major": 2,
       "version_minor": 0
      },
      "text/plain": [
       "HBox(children=(FloatProgress(value=0.0, description='Training', layout=Layout(flex='2'), max=6667.0, style=Pro…"
      ]
     },
     "metadata": {},
     "output_type": "display_data"
    },
    {
     "name": "stdout",
     "output_type": "stream",
     "text": [
      "Epoch 2: train=0.92966, val=0.726678, took 600.29 s\n"
     ]
    },
    {
     "data": {
      "application/vnd.jupyter.widget-view+json": {
       "model_id": "",
       "version_major": 2,
       "version_minor": 0
      },
      "text/plain": [
       "HBox(children=(FloatProgress(value=0.0, description='Training', layout=Layout(flex='2'), max=6667.0, style=Pro…"
      ]
     },
     "metadata": {},
     "output_type": "display_data"
    },
    {
     "name": "stdout",
     "output_type": "stream",
     "text": [
      "Epoch 3: train=0.92968, val=0.704606, took 599.36 s\n"
     ]
    },
    {
     "data": {
      "application/vnd.jupyter.widget-view+json": {
       "model_id": "",
       "version_major": 2,
       "version_minor": 0
      },
      "text/plain": [
       "HBox(children=(FloatProgress(value=0.0, description='Training', layout=Layout(flex='2'), max=6667.0, style=Pro…"
      ]
     },
     "metadata": {},
     "output_type": "display_data"
    },
    {
     "name": "stdout",
     "output_type": "stream",
     "text": [
      "Epoch 4: train=0.92904, val=0.692149, took 600.41 s\n"
     ]
    },
    {
     "data": {
      "application/vnd.jupyter.widget-view+json": {
       "model_id": "",
       "version_major": 2,
       "version_minor": 0
      },
      "text/plain": [
       "HBox(children=(FloatProgress(value=0.0, description='Training', layout=Layout(flex='2'), max=6667.0, style=Pro…"
      ]
     },
     "metadata": {},
     "output_type": "display_data"
    },
    {
     "name": "stdout",
     "output_type": "stream",
     "text": [
      "Epoch 5: train=0.927192, val=0.684856, took 599.5 s\n"
     ]
    },
    {
     "data": {
      "application/vnd.jupyter.widget-view+json": {
       "model_id": "",
       "version_major": 2,
       "version_minor": 0
      },
      "text/plain": [
       "HBox(children=(FloatProgress(value=0.0, description='Training', layout=Layout(flex='2'), max=6667.0, style=Pro…"
      ]
     },
     "metadata": {},
     "output_type": "display_data"
    },
    {
     "name": "stdout",
     "output_type": "stream",
     "text": [
      "Epoch 6: train=0.926795, val=0.742411, took 599.87 s\n"
     ]
    },
    {
     "data": {
      "application/vnd.jupyter.widget-view+json": {
       "model_id": "",
       "version_major": 2,
       "version_minor": 0
      },
      "text/plain": [
       "HBox(children=(FloatProgress(value=0.0, description='Training', layout=Layout(flex='2'), max=6667.0, style=Pro…"
      ]
     },
     "metadata": {},
     "output_type": "display_data"
    },
    {
     "name": "stdout",
     "output_type": "stream",
     "text": [
      "Epoch 7: train=0.926423, val=0.66652, took 597.9 s\n"
     ]
    },
    {
     "data": {
      "application/vnd.jupyter.widget-view+json": {
       "model_id": "",
       "version_major": 2,
       "version_minor": 0
      },
      "text/plain": [
       "HBox(children=(FloatProgress(value=0.0, description='Training', layout=Layout(flex='2'), max=6667.0, style=Pro…"
      ]
     },
     "metadata": {},
     "output_type": "display_data"
    },
    {
     "name": "stdout",
     "output_type": "stream",
     "text": [
      "Epoch 8: train=0.925855, val=0.663834, took 598.12 s\n"
     ]
    },
    {
     "data": {
      "application/vnd.jupyter.widget-view+json": {
       "model_id": "",
       "version_major": 2,
       "version_minor": 0
      },
      "text/plain": [
       "HBox(children=(FloatProgress(value=0.0, description='Training', layout=Layout(flex='2'), max=6667.0, style=Pro…"
      ]
     },
     "metadata": {},
     "output_type": "display_data"
    },
    {
     "name": "stdout",
     "output_type": "stream",
     "text": [
      "Epoch 9: train=0.923628, val=0.693329, took 597.24 s\n"
     ]
    },
    {
     "data": {
      "application/vnd.jupyter.widget-view+json": {
       "model_id": "",
       "version_major": 2,
       "version_minor": 0
      },
      "text/plain": [
       "HBox(children=(FloatProgress(value=0.0, description='Training', layout=Layout(flex='2'), max=6667.0, style=Pro…"
      ]
     },
     "metadata": {},
     "output_type": "display_data"
    },
    {
     "name": "stdout",
     "output_type": "stream",
     "text": [
      "Epoch 10: train=0.924504, val=0.687449, took 598.57 s\n"
     ]
    },
    {
     "data": {
      "application/vnd.jupyter.widget-view+json": {
       "model_id": "",
       "version_major": 2,
       "version_minor": 0
      },
      "text/plain": [
       "HBox(children=(FloatProgress(value=0.0, description='Training', layout=Layout(flex='2'), max=6667.0, style=Pro…"
      ]
     },
     "metadata": {},
     "output_type": "display_data"
    },
    {
     "name": "stdout",
     "output_type": "stream",
     "text": [
      "Epoch 11: train=0.92374, val=0.666172, took 598.19 s\n"
     ]
    },
    {
     "data": {
      "application/vnd.jupyter.widget-view+json": {
       "model_id": "",
       "version_major": 2,
       "version_minor": 0
      },
      "text/plain": [
       "HBox(children=(FloatProgress(value=0.0, description='Training', layout=Layout(flex='2'), max=6667.0, style=Pro…"
      ]
     },
     "metadata": {},
     "output_type": "display_data"
    },
    {
     "name": "stdout",
     "output_type": "stream",
     "text": [
      "Epoch 12: train=0.922199, val=0.667354, took 600.28 s\n"
     ]
    },
    {
     "data": {
      "application/vnd.jupyter.widget-view+json": {
       "model_id": "",
       "version_major": 2,
       "version_minor": 0
      },
      "text/plain": [
       "HBox(children=(FloatProgress(value=0.0, description='Training', layout=Layout(flex='2'), max=6667.0, style=Pro…"
      ]
     },
     "metadata": {},
     "output_type": "display_data"
    },
    {
     "name": "stdout",
     "output_type": "stream",
     "text": [
      "Epoch 13: train=0.921662, val=0.663491, took 598.47 s\n"
     ]
    },
    {
     "data": {
      "application/vnd.jupyter.widget-view+json": {
       "model_id": "",
       "version_major": 2,
       "version_minor": 0
      },
      "text/plain": [
       "HBox(children=(FloatProgress(value=0.0, description='Training', layout=Layout(flex='2'), max=6667.0, style=Pro…"
      ]
     },
     "metadata": {},
     "output_type": "display_data"
    },
    {
     "name": "stdout",
     "output_type": "stream",
     "text": [
      "Epoch 14: train=0.922472, val=0.673766, took 598.1 s\n"
     ]
    },
    {
     "data": {
      "application/vnd.jupyter.widget-view+json": {
       "model_id": "",
       "version_major": 2,
       "version_minor": 0
      },
      "text/plain": [
       "HBox(children=(FloatProgress(value=0.0, description='Training', layout=Layout(flex='2'), max=6667.0, style=Pro…"
      ]
     },
     "metadata": {},
     "output_type": "display_data"
    },
    {
     "name": "stdout",
     "output_type": "stream",
     "text": [
      "Epoch 15: train=0.920136, val=0.673363, took 599.7 s\n"
     ]
    },
    {
     "data": {
      "application/vnd.jupyter.widget-view+json": {
       "model_id": "",
       "version_major": 2,
       "version_minor": 0
      },
      "text/plain": [
       "HBox(children=(FloatProgress(value=0.0, description='Training', layout=Layout(flex='2'), max=6667.0, style=Pro…"
      ]
     },
     "metadata": {},
     "output_type": "display_data"
    },
    {
     "name": "stdout",
     "output_type": "stream",
     "text": [
      "Epoch 16: train=0.920155, val=0.690434, took 606.39 s\n"
     ]
    },
    {
     "data": {
      "application/vnd.jupyter.widget-view+json": {
       "model_id": "",
       "version_major": 2,
       "version_minor": 0
      },
      "text/plain": [
       "HBox(children=(FloatProgress(value=0.0, description='Training', layout=Layout(flex='2'), max=6667.0, style=Pro…"
      ]
     },
     "metadata": {},
     "output_type": "display_data"
    },
    {
     "name": "stdout",
     "output_type": "stream",
     "text": [
      "Epoch 17: train=0.918455, val=0.663062, took 600.49 s\n"
     ]
    },
    {
     "data": {
      "application/vnd.jupyter.widget-view+json": {
       "model_id": "",
       "version_major": 2,
       "version_minor": 0
      },
      "text/plain": [
       "HBox(children=(FloatProgress(value=0.0, description='Training', layout=Layout(flex='2'), max=6667.0, style=Pro…"
      ]
     },
     "metadata": {},
     "output_type": "display_data"
    },
    {
     "name": "stdout",
     "output_type": "stream",
     "text": [
      "Epoch 18: train=0.917851, val=0.674504, took 599.49 s\n"
     ]
    },
    {
     "data": {
      "application/vnd.jupyter.widget-view+json": {
       "model_id": "",
       "version_major": 2,
       "version_minor": 0
      },
      "text/plain": [
       "HBox(children=(FloatProgress(value=0.0, description='Training', layout=Layout(flex='2'), max=6667.0, style=Pro…"
      ]
     },
     "metadata": {},
     "output_type": "display_data"
    },
    {
     "name": "stdout",
     "output_type": "stream",
     "text": [
      "Epoch 19: train=0.918128, val=0.66089, took 596.37 s\n"
     ]
    },
    {
     "data": {
      "application/vnd.jupyter.widget-view+json": {
       "model_id": "",
       "version_major": 2,
       "version_minor": 0
      },
      "text/plain": [
       "HBox(children=(FloatProgress(value=0.0, description='Training', layout=Layout(flex='2'), max=6667.0, style=Pro…"
      ]
     },
     "metadata": {},
     "output_type": "display_data"
    },
    {
     "name": "stdout",
     "output_type": "stream",
     "text": [
      "Epoch 20: train=0.916302, val=0.675199, took 592.7 s\n"
     ]
    },
    {
     "data": {
      "application/vnd.jupyter.widget-view+json": {
       "model_id": "",
       "version_major": 2,
       "version_minor": 0
      },
      "text/plain": [
       "HBox(children=(FloatProgress(value=0.0, description='Training', layout=Layout(flex='2'), max=6667.0, style=Pro…"
      ]
     },
     "metadata": {},
     "output_type": "display_data"
    },
    {
     "name": "stdout",
     "output_type": "stream",
     "text": [
      "Epoch 21: train=0.915911, val=0.665596, took 593.72 s\n"
     ]
    },
    {
     "data": {
      "application/vnd.jupyter.widget-view+json": {
       "model_id": "",
       "version_major": 2,
       "version_minor": 0
      },
      "text/plain": [
       "HBox(children=(FloatProgress(value=0.0, description='Training', layout=Layout(flex='2'), max=6667.0, style=Pro…"
      ]
     },
     "metadata": {},
     "output_type": "display_data"
    },
    {
     "name": "stdout",
     "output_type": "stream",
     "text": [
      "Epoch 22: train=0.914831, val=0.678958, took 591.91 s\n"
     ]
    },
    {
     "data": {
      "application/vnd.jupyter.widget-view+json": {
       "model_id": "",
       "version_major": 2,
       "version_minor": 0
      },
      "text/plain": [
       "HBox(children=(FloatProgress(value=0.0, description='Training', layout=Layout(flex='2'), max=6667.0, style=Pro…"
      ]
     },
     "metadata": {},
     "output_type": "display_data"
    },
    {
     "name": "stdout",
     "output_type": "stream",
     "text": [
      "Epoch 23: train=0.913681, val=0.698789, took 592.94 s\n"
     ]
    },
    {
     "data": {
      "application/vnd.jupyter.widget-view+json": {
       "model_id": "",
       "version_major": 2,
       "version_minor": 0
      },
      "text/plain": [
       "HBox(children=(FloatProgress(value=0.0, description='Training', layout=Layout(flex='2'), max=6667.0, style=Pro…"
      ]
     },
     "metadata": {},
     "output_type": "display_data"
    },
    {
     "name": "stdout",
     "output_type": "stream",
     "text": [
      "Epoch 24: train=0.913993, val=0.671354, took 591.7 s\n"
     ]
    },
    {
     "data": {
      "application/vnd.jupyter.widget-view+json": {
       "model_id": "",
       "version_major": 2,
       "version_minor": 0
      },
      "text/plain": [
       "HBox(children=(FloatProgress(value=0.0, description='Training', layout=Layout(flex='2'), max=6667.0, style=Pro…"
      ]
     },
     "metadata": {},
     "output_type": "display_data"
    },
    {
     "name": "stdout",
     "output_type": "stream",
     "text": [
      "Epoch 25: train=0.913852, val=0.659486, took 592.12 s\n"
     ]
    },
    {
     "data": {
      "application/vnd.jupyter.widget-view+json": {
       "model_id": "",
       "version_major": 2,
       "version_minor": 0
      },
      "text/plain": [
       "HBox(children=(FloatProgress(value=0.0, description='Training', layout=Layout(flex='2'), max=6667.0, style=Pro…"
      ]
     },
     "metadata": {},
     "output_type": "display_data"
    },
    {
     "name": "stdout",
     "output_type": "stream",
     "text": [
      "Epoch 26: train=0.912037, val=0.775415, took 592.3 s\n"
     ]
    },
    {
     "data": {
      "application/vnd.jupyter.widget-view+json": {
       "model_id": "",
       "version_major": 2,
       "version_minor": 0
      },
      "text/plain": [
       "HBox(children=(FloatProgress(value=0.0, description='Training', layout=Layout(flex='2'), max=6667.0, style=Pro…"
      ]
     },
     "metadata": {},
     "output_type": "display_data"
    },
    {
     "name": "stdout",
     "output_type": "stream",
     "text": [
      "Epoch 27: train=0.911364, val=0.653185, took 592.06 s\n"
     ]
    },
    {
     "data": {
      "application/vnd.jupyter.widget-view+json": {
       "model_id": "",
       "version_major": 2,
       "version_minor": 0
      },
      "text/plain": [
       "HBox(children=(FloatProgress(value=0.0, description='Training', layout=Layout(flex='2'), max=6667.0, style=Pro…"
      ]
     },
     "metadata": {},
     "output_type": "display_data"
    },
    {
     "name": "stdout",
     "output_type": "stream",
     "text": [
      "Epoch 28: train=0.911563, val=0.675151, took 593.27 s\n"
     ]
    },
    {
     "data": {
      "application/vnd.jupyter.widget-view+json": {
       "model_id": "",
       "version_major": 2,
       "version_minor": 0
      },
      "text/plain": [
       "HBox(children=(FloatProgress(value=0.0, description='Training', layout=Layout(flex='2'), max=6667.0, style=Pro…"
      ]
     },
     "metadata": {},
     "output_type": "display_data"
    },
    {
     "name": "stdout",
     "output_type": "stream",
     "text": [
      "Epoch 29: train=0.909479, val=0.657331, took 592.7 s\n"
     ]
    },
    {
     "data": {
      "application/vnd.jupyter.widget-view+json": {
       "model_id": "",
       "version_major": 2,
       "version_minor": 0
      },
      "text/plain": [
       "HBox(children=(FloatProgress(value=0.0, description='Training', layout=Layout(flex='2'), max=6667.0, style=Pro…"
      ]
     },
     "metadata": {},
     "output_type": "display_data"
    },
    {
     "name": "stdout",
     "output_type": "stream",
     "text": [
      "Epoch 30: train=0.90982, val=0.653702, took 592.27 s\n"
     ]
    },
    {
     "data": {
      "application/vnd.jupyter.widget-view+json": {
       "model_id": "",
       "version_major": 2,
       "version_minor": 0
      },
      "text/plain": [
       "HBox(children=(FloatProgress(value=0.0, description='Training', layout=Layout(flex='2'), max=6667.0, style=Pro…"
      ]
     },
     "metadata": {},
     "output_type": "display_data"
    },
    {
     "name": "stdout",
     "output_type": "stream",
     "text": [
      "Epoch 31: train=0.90833, val=0.667338, took 592.83 s\n"
     ]
    },
    {
     "data": {
      "application/vnd.jupyter.widget-view+json": {
       "model_id": "",
       "version_major": 2,
       "version_minor": 0
      },
      "text/plain": [
       "HBox(children=(FloatProgress(value=0.0, description='Training', layout=Layout(flex='2'), max=6667.0, style=Pro…"
      ]
     },
     "metadata": {},
     "output_type": "display_data"
    },
    {
     "name": "stdout",
     "output_type": "stream",
     "text": [
      "Epoch 32: train=0.908296, val=0.657076, took 591.83 s\n"
     ]
    },
    {
     "data": {
      "application/vnd.jupyter.widget-view+json": {
       "model_id": "",
       "version_major": 2,
       "version_minor": 0
      },
      "text/plain": [
       "HBox(children=(FloatProgress(value=0.0, description='Training', layout=Layout(flex='2'), max=6667.0, style=Pro…"
      ]
     },
     "metadata": {},
     "output_type": "display_data"
    },
    {
     "name": "stdout",
     "output_type": "stream",
     "text": [
      "Epoch 33: train=0.906936, val=0.702553, took 592.72 s\n"
     ]
    },
    {
     "data": {
      "application/vnd.jupyter.widget-view+json": {
       "model_id": "",
       "version_major": 2,
       "version_minor": 0
      },
      "text/plain": [
       "HBox(children=(FloatProgress(value=0.0, description='Training', layout=Layout(flex='2'), max=6667.0, style=Pro…"
      ]
     },
     "metadata": {},
     "output_type": "display_data"
    },
    {
     "name": "stdout",
     "output_type": "stream",
     "text": [
      "Epoch 34: train=0.906733, val=0.666748, took 592.35 s\n"
     ]
    },
    {
     "data": {
      "application/vnd.jupyter.widget-view+json": {
       "model_id": "",
       "version_major": 2,
       "version_minor": 0
      },
      "text/plain": [
       "HBox(children=(FloatProgress(value=0.0, description='Training', layout=Layout(flex='2'), max=6667.0, style=Pro…"
      ]
     },
     "metadata": {},
     "output_type": "display_data"
    },
    {
     "name": "stdout",
     "output_type": "stream",
     "text": [
      "Epoch 35: train=0.905949, val=0.653722, took 592.12 s\n"
     ]
    },
    {
     "data": {
      "application/vnd.jupyter.widget-view+json": {
       "model_id": "",
       "version_major": 2,
       "version_minor": 0
      },
      "text/plain": [
       "HBox(children=(FloatProgress(value=0.0, description='Training', layout=Layout(flex='2'), max=6667.0, style=Pro…"
      ]
     },
     "metadata": {},
     "output_type": "display_data"
    },
    {
     "name": "stdout",
     "output_type": "stream",
     "text": [
      "Epoch 36: train=0.905029, val=0.669817, took 592.52 s\n"
     ]
    },
    {
     "data": {
      "application/vnd.jupyter.widget-view+json": {
       "model_id": "",
       "version_major": 2,
       "version_minor": 0
      },
      "text/plain": [
       "HBox(children=(FloatProgress(value=0.0, description='Training', layout=Layout(flex='2'), max=6667.0, style=Pro…"
      ]
     },
     "metadata": {},
     "output_type": "display_data"
    },
    {
     "name": "stdout",
     "output_type": "stream",
     "text": [
      "Epoch 37: train=0.904715, val=0.64654, took 592.72 s\n"
     ]
    },
    {
     "data": {
      "application/vnd.jupyter.widget-view+json": {
       "model_id": "",
       "version_major": 2,
       "version_minor": 0
      },
      "text/plain": [
       "HBox(children=(FloatProgress(value=0.0, description='Training', layout=Layout(flex='2'), max=6667.0, style=Pro…"
      ]
     },
     "metadata": {},
     "output_type": "display_data"
    },
    {
     "name": "stdout",
     "output_type": "stream",
     "text": [
      "Epoch 38: train=0.904858, val=0.693857, took 600.25 s\n"
     ]
    },
    {
     "data": {
      "application/vnd.jupyter.widget-view+json": {
       "model_id": "",
       "version_major": 2,
       "version_minor": 0
      },
      "text/plain": [
       "HBox(children=(FloatProgress(value=0.0, description='Training', layout=Layout(flex='2'), max=6667.0, style=Pro…"
      ]
     },
     "metadata": {},
     "output_type": "display_data"
    },
    {
     "name": "stdout",
     "output_type": "stream",
     "text": [
      "Epoch 39: train=0.903872, val=0.656836, took 605.58 s\n"
     ]
    },
    {
     "data": {
      "application/vnd.jupyter.widget-view+json": {
       "model_id": "",
       "version_major": 2,
       "version_minor": 0
      },
      "text/plain": [
       "HBox(children=(FloatProgress(value=0.0, description='Training', layout=Layout(flex='2'), max=6667.0, style=Pro…"
      ]
     },
     "metadata": {},
     "output_type": "display_data"
    },
    {
     "name": "stdout",
     "output_type": "stream",
     "text": [
      "Epoch 40: train=0.902544, val=0.708626, took 605.15 s\n"
     ]
    },
    {
     "data": {
      "application/vnd.jupyter.widget-view+json": {
       "model_id": "",
       "version_major": 2,
       "version_minor": 0
      },
      "text/plain": [
       "HBox(children=(FloatProgress(value=0.0, description='Training', layout=Layout(flex='2'), max=6667.0, style=Pro…"
      ]
     },
     "metadata": {},
     "output_type": "display_data"
    },
    {
     "name": "stdout",
     "output_type": "stream",
     "text": [
      "Epoch 41: train=0.900965, val=0.672821, took 605.67 s\n"
     ]
    },
    {
     "data": {
      "application/vnd.jupyter.widget-view+json": {
       "model_id": "",
       "version_major": 2,
       "version_minor": 0
      },
      "text/plain": [
       "HBox(children=(FloatProgress(value=0.0, description='Training', layout=Layout(flex='2'), max=6667.0, style=Pro…"
      ]
     },
     "metadata": {},
     "output_type": "display_data"
    },
    {
     "name": "stdout",
     "output_type": "stream",
     "text": [
      "Epoch 42: train=0.901004, val=0.690215, took 606.35 s\n"
     ]
    },
    {
     "data": {
      "application/vnd.jupyter.widget-view+json": {
       "model_id": "",
       "version_major": 2,
       "version_minor": 0
      },
      "text/plain": [
       "HBox(children=(FloatProgress(value=0.0, description='Training', layout=Layout(flex='2'), max=6667.0, style=Pro…"
      ]
     },
     "metadata": {},
     "output_type": "display_data"
    },
    {
     "name": "stdout",
     "output_type": "stream",
     "text": [
      "Epoch 43: train=0.900443, val=0.66353, took 605.86 s\n"
     ]
    },
    {
     "data": {
      "application/vnd.jupyter.widget-view+json": {
       "model_id": "",
       "version_major": 2,
       "version_minor": 0
      },
      "text/plain": [
       "HBox(children=(FloatProgress(value=0.0, description='Training', layout=Layout(flex='2'), max=6667.0, style=Pro…"
      ]
     },
     "metadata": {},
     "output_type": "display_data"
    },
    {
     "name": "stdout",
     "output_type": "stream",
     "text": [
      "Epoch 44: train=0.899264, val=0.675805, took 606.11 s\n"
     ]
    },
    {
     "data": {
      "application/vnd.jupyter.widget-view+json": {
       "model_id": "",
       "version_major": 2,
       "version_minor": 0
      },
      "text/plain": [
       "HBox(children=(FloatProgress(value=0.0, description='Training', layout=Layout(flex='2'), max=6667.0, style=Pro…"
      ]
     },
     "metadata": {},
     "output_type": "display_data"
    },
    {
     "name": "stdout",
     "output_type": "stream",
     "text": [
      "Epoch 45: train=0.900388, val=0.654756, took 595.06 s\n"
     ]
    },
    {
     "data": {
      "application/vnd.jupyter.widget-view+json": {
       "model_id": "",
       "version_major": 2,
       "version_minor": 0
      },
      "text/plain": [
       "HBox(children=(FloatProgress(value=0.0, description='Training', layout=Layout(flex='2'), max=6667.0, style=Pro…"
      ]
     },
     "metadata": {},
     "output_type": "display_data"
    },
    {
     "name": "stdout",
     "output_type": "stream",
     "text": [
      "Epoch 46: train=0.896692, val=0.694225, took 592.34 s\n"
     ]
    },
    {
     "data": {
      "application/vnd.jupyter.widget-view+json": {
       "model_id": "",
       "version_major": 2,
       "version_minor": 0
      },
      "text/plain": [
       "HBox(children=(FloatProgress(value=0.0, description='Training', layout=Layout(flex='2'), max=6667.0, style=Pro…"
      ]
     },
     "metadata": {},
     "output_type": "display_data"
    },
    {
     "name": "stdout",
     "output_type": "stream",
     "text": [
      "Epoch 47: train=0.896738, val=0.671521, took 592.01 s\n"
     ]
    },
    {
     "data": {
      "application/vnd.jupyter.widget-view+json": {
       "model_id": "",
       "version_major": 2,
       "version_minor": 0
      },
      "text/plain": [
       "HBox(children=(FloatProgress(value=0.0, description='Training', layout=Layout(flex='2'), max=6667.0, style=Pro…"
      ]
     },
     "metadata": {},
     "output_type": "display_data"
    },
    {
     "name": "stdout",
     "output_type": "stream",
     "text": [
      "Epoch 48: train=0.897648, val=0.640722, took 593.19 s\n"
     ]
    },
    {
     "data": {
      "application/vnd.jupyter.widget-view+json": {
       "model_id": "",
       "version_major": 2,
       "version_minor": 0
      },
      "text/plain": [
       "HBox(children=(FloatProgress(value=0.0, description='Training', layout=Layout(flex='2'), max=6667.0, style=Pro…"
      ]
     },
     "metadata": {},
     "output_type": "display_data"
    },
    {
     "name": "stdout",
     "output_type": "stream",
     "text": [
      "Epoch 49: train=0.896296, val=0.648535, took 591.81 s\n"
     ]
    },
    {
     "data": {
      "application/vnd.jupyter.widget-view+json": {
       "model_id": "",
       "version_major": 2,
       "version_minor": 0
      },
      "text/plain": [
       "HBox(children=(FloatProgress(value=0.0, description='Training', layout=Layout(flex='2'), max=6667.0, style=Pro…"
      ]
     },
     "metadata": {},
     "output_type": "display_data"
    },
    {
     "name": "stdout",
     "output_type": "stream",
     "text": [
      "Epoch 50: train=0.895938, val=0.687592, took 592.76 s\n"
     ]
    },
    {
     "data": {
      "application/vnd.jupyter.widget-view+json": {
       "model_id": "",
       "version_major": 2,
       "version_minor": 0
      },
      "text/plain": [
       "HBox(children=(FloatProgress(value=0.0, description='Training', layout=Layout(flex='2'), max=6667.0, style=Pro…"
      ]
     },
     "metadata": {},
     "output_type": "display_data"
    },
    {
     "name": "stdout",
     "output_type": "stream",
     "text": [
      "Epoch 51: train=0.895868, val=0.650235, took 592.63 s\n"
     ]
    },
    {
     "data": {
      "application/vnd.jupyter.widget-view+json": {
       "model_id": "",
       "version_major": 2,
       "version_minor": 0
      },
      "text/plain": [
       "HBox(children=(FloatProgress(value=0.0, description='Training', layout=Layout(flex='2'), max=6667.0, style=Pro…"
      ]
     },
     "metadata": {},
     "output_type": "display_data"
    },
    {
     "name": "stdout",
     "output_type": "stream",
     "text": [
      "Epoch 52: train=0.89446, val=0.675542, took 592.99 s\n"
     ]
    },
    {
     "data": {
      "application/vnd.jupyter.widget-view+json": {
       "model_id": "",
       "version_major": 2,
       "version_minor": 0
      },
      "text/plain": [
       "HBox(children=(FloatProgress(value=0.0, description='Training', layout=Layout(flex='2'), max=6667.0, style=Pro…"
      ]
     },
     "metadata": {},
     "output_type": "display_data"
    },
    {
     "name": "stdout",
     "output_type": "stream",
     "text": [
      "Epoch 53: train=0.893564, val=0.769508, took 592.69 s\n"
     ]
    },
    {
     "data": {
      "application/vnd.jupyter.widget-view+json": {
       "model_id": "",
       "version_major": 2,
       "version_minor": 0
      },
      "text/plain": [
       "HBox(children=(FloatProgress(value=0.0, description='Training', layout=Layout(flex='2'), max=6667.0, style=Pro…"
      ]
     },
     "metadata": {},
     "output_type": "display_data"
    },
    {
     "name": "stdout",
     "output_type": "stream",
     "text": [
      "Epoch 54: train=0.893486, val=0.642346, took 592.71 s\n"
     ]
    },
    {
     "data": {
      "application/vnd.jupyter.widget-view+json": {
       "model_id": "",
       "version_major": 2,
       "version_minor": 0
      },
      "text/plain": [
       "HBox(children=(FloatProgress(value=0.0, description='Training', layout=Layout(flex='2'), max=6667.0, style=Pro…"
      ]
     },
     "metadata": {},
     "output_type": "display_data"
    },
    {
     "name": "stdout",
     "output_type": "stream",
     "text": [
      "Epoch 55: train=0.890957, val=0.637082, took 592.35 s\n"
     ]
    },
    {
     "data": {
      "application/vnd.jupyter.widget-view+json": {
       "model_id": "",
       "version_major": 2,
       "version_minor": 0
      },
      "text/plain": [
       "HBox(children=(FloatProgress(value=0.0, description='Training', layout=Layout(flex='2'), max=6667.0, style=Pro…"
      ]
     },
     "metadata": {},
     "output_type": "display_data"
    },
    {
     "name": "stdout",
     "output_type": "stream",
     "text": [
      "Epoch 56: train=0.891453, val=0.636487, took 592.09 s\n"
     ]
    },
    {
     "data": {
      "application/vnd.jupyter.widget-view+json": {
       "model_id": "",
       "version_major": 2,
       "version_minor": 0
      },
      "text/plain": [
       "HBox(children=(FloatProgress(value=0.0, description='Training', layout=Layout(flex='2'), max=6667.0, style=Pro…"
      ]
     },
     "metadata": {},
     "output_type": "display_data"
    },
    {
     "name": "stdout",
     "output_type": "stream",
     "text": [
      "Epoch 57: train=0.891459, val=0.659402, took 591.37 s\n"
     ]
    },
    {
     "data": {
      "application/vnd.jupyter.widget-view+json": {
       "model_id": "",
       "version_major": 2,
       "version_minor": 0
      },
      "text/plain": [
       "HBox(children=(FloatProgress(value=0.0, description='Training', layout=Layout(flex='2'), max=6667.0, style=Pro…"
      ]
     },
     "metadata": {},
     "output_type": "display_data"
    },
    {
     "name": "stdout",
     "output_type": "stream",
     "text": [
      "Epoch 58: train=0.891239, val=0.656646, took 591.82 s\n"
     ]
    },
    {
     "data": {
      "application/vnd.jupyter.widget-view+json": {
       "model_id": "",
       "version_major": 2,
       "version_minor": 0
      },
      "text/plain": [
       "HBox(children=(FloatProgress(value=0.0, description='Training', layout=Layout(flex='2'), max=6667.0, style=Pro…"
      ]
     },
     "metadata": {},
     "output_type": "display_data"
    },
    {
     "name": "stdout",
     "output_type": "stream",
     "text": [
      "Epoch 59: train=0.88988, val=0.657475, took 592.74 s\n"
     ]
    },
    {
     "data": {
      "application/vnd.jupyter.widget-view+json": {
       "model_id": "",
       "version_major": 2,
       "version_minor": 0
      },
      "text/plain": [
       "HBox(children=(FloatProgress(value=0.0, description='Training', layout=Layout(flex='2'), max=6667.0, style=Pro…"
      ]
     },
     "metadata": {},
     "output_type": "display_data"
    },
    {
     "name": "stdout",
     "output_type": "stream",
     "text": [
      "Epoch 60: train=0.889642, val=0.665688, took 593.35 s\n"
     ]
    },
    {
     "data": {
      "application/vnd.jupyter.widget-view+json": {
       "model_id": "",
       "version_major": 2,
       "version_minor": 0
      },
      "text/plain": [
       "HBox(children=(FloatProgress(value=0.0, description='Training', layout=Layout(flex='2'), max=6667.0, style=Pro…"
      ]
     },
     "metadata": {},
     "output_type": "display_data"
    },
    {
     "name": "stdout",
     "output_type": "stream",
     "text": [
      "Epoch 61: train=0.88885, val=0.642665, took 592.46 s\n"
     ]
    },
    {
     "data": {
      "application/vnd.jupyter.widget-view+json": {
       "model_id": "",
       "version_major": 2,
       "version_minor": 0
      },
      "text/plain": [
       "HBox(children=(FloatProgress(value=0.0, description='Training', layout=Layout(flex='2'), max=6667.0, style=Pro…"
      ]
     },
     "metadata": {},
     "output_type": "display_data"
    },
    {
     "name": "stdout",
     "output_type": "stream",
     "text": [
      "Epoch 62: train=0.888435, val=0.638896, took 593.62 s\n"
     ]
    },
    {
     "data": {
      "application/vnd.jupyter.widget-view+json": {
       "model_id": "",
       "version_major": 2,
       "version_minor": 0
      },
      "text/plain": [
       "HBox(children=(FloatProgress(value=0.0, description='Training', layout=Layout(flex='2'), max=6667.0, style=Pro…"
      ]
     },
     "metadata": {},
     "output_type": "display_data"
    },
    {
     "name": "stdout",
     "output_type": "stream",
     "text": [
      "Epoch 63: train=0.887081, val=0.653402, took 593.85 s\n"
     ]
    },
    {
     "data": {
      "application/vnd.jupyter.widget-view+json": {
       "model_id": "",
       "version_major": 2,
       "version_minor": 0
      },
      "text/plain": [
       "HBox(children=(FloatProgress(value=0.0, description='Training', layout=Layout(flex='2'), max=6667.0, style=Pro…"
      ]
     },
     "metadata": {},
     "output_type": "display_data"
    },
    {
     "name": "stdout",
     "output_type": "stream",
     "text": [
      "Epoch 64: train=0.88666, val=0.746134, took 597.16 s\n"
     ]
    },
    {
     "data": {
      "application/vnd.jupyter.widget-view+json": {
       "model_id": "",
       "version_major": 2,
       "version_minor": 0
      },
      "text/plain": [
       "HBox(children=(FloatProgress(value=0.0, description='Training', layout=Layout(flex='2'), max=6667.0, style=Pro…"
      ]
     },
     "metadata": {},
     "output_type": "display_data"
    },
    {
     "name": "stdout",
     "output_type": "stream",
     "text": [
      "Epoch 65: train=0.885668, val=0.708039, took 594.86 s\n"
     ]
    },
    {
     "data": {
      "application/vnd.jupyter.widget-view+json": {
       "model_id": "",
       "version_major": 2,
       "version_minor": 0
      },
      "text/plain": [
       "HBox(children=(FloatProgress(value=0.0, description='Training', layout=Layout(flex='2'), max=6667.0, style=Pro…"
      ]
     },
     "metadata": {},
     "output_type": "display_data"
    },
    {
     "name": "stdout",
     "output_type": "stream",
     "text": [
      "Epoch 66: train=0.884722, val=0.635134, took 594.16 s\n"
     ]
    },
    {
     "data": {
      "application/vnd.jupyter.widget-view+json": {
       "model_id": "",
       "version_major": 2,
       "version_minor": 0
      },
      "text/plain": [
       "HBox(children=(FloatProgress(value=0.0, description='Training', layout=Layout(flex='2'), max=6667.0, style=Pro…"
      ]
     },
     "metadata": {},
     "output_type": "display_data"
    },
    {
     "name": "stdout",
     "output_type": "stream",
     "text": [
      "Epoch 67: train=0.883397, val=0.695755, took 594.41 s\n"
     ]
    },
    {
     "data": {
      "application/vnd.jupyter.widget-view+json": {
       "model_id": "",
       "version_major": 2,
       "version_minor": 0
      },
      "text/plain": [
       "HBox(children=(FloatProgress(value=0.0, description='Training', layout=Layout(flex='2'), max=6667.0, style=Pro…"
      ]
     },
     "metadata": {},
     "output_type": "display_data"
    },
    {
     "name": "stdout",
     "output_type": "stream",
     "text": [
      "Epoch 68: train=0.883022, val=0.63242, took 593.12 s\n"
     ]
    },
    {
     "data": {
      "application/vnd.jupyter.widget-view+json": {
       "model_id": "",
       "version_major": 2,
       "version_minor": 0
      },
      "text/plain": [
       "HBox(children=(FloatProgress(value=0.0, description='Training', layout=Layout(flex='2'), max=6667.0, style=Pro…"
      ]
     },
     "metadata": {},
     "output_type": "display_data"
    },
    {
     "name": "stdout",
     "output_type": "stream",
     "text": [
      "Epoch 69: train=0.883258, val=0.648836, took 593.57 s\n"
     ]
    },
    {
     "data": {
      "application/vnd.jupyter.widget-view+json": {
       "model_id": "",
       "version_major": 2,
       "version_minor": 0
      },
      "text/plain": [
       "HBox(children=(FloatProgress(value=0.0, description='Training', layout=Layout(flex='2'), max=6667.0, style=Pro…"
      ]
     },
     "metadata": {},
     "output_type": "display_data"
    },
    {
     "name": "stdout",
     "output_type": "stream",
     "text": [
      "Epoch 70: train=0.883336, val=0.638277, took 592.5 s\n"
     ]
    },
    {
     "data": {
      "application/vnd.jupyter.widget-view+json": {
       "model_id": "",
       "version_major": 2,
       "version_minor": 0
      },
      "text/plain": [
       "HBox(children=(FloatProgress(value=0.0, description='Training', layout=Layout(flex='2'), max=6667.0, style=Pro…"
      ]
     },
     "metadata": {},
     "output_type": "display_data"
    },
    {
     "name": "stdout",
     "output_type": "stream",
     "text": [
      "Epoch 71: train=0.882232, val=0.629446, took 594.19 s\n"
     ]
    },
    {
     "data": {
      "application/vnd.jupyter.widget-view+json": {
       "model_id": "",
       "version_major": 2,
       "version_minor": 0
      },
      "text/plain": [
       "HBox(children=(FloatProgress(value=0.0, description='Training', layout=Layout(flex='2'), max=6667.0, style=Pro…"
      ]
     },
     "metadata": {},
     "output_type": "display_data"
    },
    {
     "name": "stdout",
     "output_type": "stream",
     "text": [
      "Epoch 72: train=0.880868, val=0.636047, took 597.81 s\n"
     ]
    },
    {
     "data": {
      "application/vnd.jupyter.widget-view+json": {
       "model_id": "",
       "version_major": 2,
       "version_minor": 0
      },
      "text/plain": [
       "HBox(children=(FloatProgress(value=0.0, description='Training', layout=Layout(flex='2'), max=6667.0, style=Pro…"
      ]
     },
     "metadata": {},
     "output_type": "display_data"
    },
    {
     "name": "stdout",
     "output_type": "stream",
     "text": [
      "Epoch 73: train=0.880603, val=0.631943, took 593.66 s\n"
     ]
    },
    {
     "data": {
      "application/vnd.jupyter.widget-view+json": {
       "model_id": "",
       "version_major": 2,
       "version_minor": 0
      },
      "text/plain": [
       "HBox(children=(FloatProgress(value=0.0, description='Training', layout=Layout(flex='2'), max=6667.0, style=Pro…"
      ]
     },
     "metadata": {},
     "output_type": "display_data"
    },
    {
     "name": "stdout",
     "output_type": "stream",
     "text": [
      "Epoch 74: train=0.881408, val=0.633432, took 595.07 s\n"
     ]
    },
    {
     "data": {
      "application/vnd.jupyter.widget-view+json": {
       "model_id": "",
       "version_major": 2,
       "version_minor": 0
      },
      "text/plain": [
       "HBox(children=(FloatProgress(value=0.0, description='Training', layout=Layout(flex='2'), max=6667.0, style=Pro…"
      ]
     },
     "metadata": {},
     "output_type": "display_data"
    },
    {
     "name": "stdout",
     "output_type": "stream",
     "text": [
      "Epoch 75: train=0.880401, val=0.626227, took 594.28 s\n"
     ]
    },
    {
     "data": {
      "application/vnd.jupyter.widget-view+json": {
       "model_id": "",
       "version_major": 2,
       "version_minor": 0
      },
      "text/plain": [
       "HBox(children=(FloatProgress(value=0.0, description='Training', layout=Layout(flex='2'), max=6667.0, style=Pro…"
      ]
     },
     "metadata": {},
     "output_type": "display_data"
    },
    {
     "name": "stdout",
     "output_type": "stream",
     "text": [
      "Epoch 76: train=0.878882, val=0.625151, took 594.32 s\n"
     ]
    },
    {
     "data": {
      "application/vnd.jupyter.widget-view+json": {
       "model_id": "",
       "version_major": 2,
       "version_minor": 0
      },
      "text/plain": [
       "HBox(children=(FloatProgress(value=0.0, description='Training', layout=Layout(flex='2'), max=6667.0, style=Pro…"
      ]
     },
     "metadata": {},
     "output_type": "display_data"
    },
    {
     "name": "stdout",
     "output_type": "stream",
     "text": [
      "Epoch 77: train=0.878095, val=0.629004, took 594.56 s\n"
     ]
    },
    {
     "data": {
      "application/vnd.jupyter.widget-view+json": {
       "model_id": "",
       "version_major": 2,
       "version_minor": 0
      },
      "text/plain": [
       "HBox(children=(FloatProgress(value=0.0, description='Training', layout=Layout(flex='2'), max=6667.0, style=Pro…"
      ]
     },
     "metadata": {},
     "output_type": "display_data"
    },
    {
     "name": "stdout",
     "output_type": "stream",
     "text": [
      "Epoch 78: train=0.879071, val=0.630346, took 595.85 s\n"
     ]
    },
    {
     "data": {
      "application/vnd.jupyter.widget-view+json": {
       "model_id": "",
       "version_major": 2,
       "version_minor": 0
      },
      "text/plain": [
       "HBox(children=(FloatProgress(value=0.0, description='Training', layout=Layout(flex='2'), max=6667.0, style=Pro…"
      ]
     },
     "metadata": {},
     "output_type": "display_data"
    },
    {
     "name": "stdout",
     "output_type": "stream",
     "text": [
      "Epoch 79: train=0.876908, val=0.639842, took 593.21 s\n"
     ]
    },
    {
     "data": {
      "application/vnd.jupyter.widget-view+json": {
       "model_id": "",
       "version_major": 2,
       "version_minor": 0
      },
      "text/plain": [
       "HBox(children=(FloatProgress(value=0.0, description='Training', layout=Layout(flex='2'), max=6667.0, style=Pro…"
      ]
     },
     "metadata": {},
     "output_type": "display_data"
    },
    {
     "name": "stdout",
     "output_type": "stream",
     "text": [
      "Epoch 80: train=0.876362, val=0.629248, took 592.78 s\n"
     ]
    },
    {
     "data": {
      "application/vnd.jupyter.widget-view+json": {
       "model_id": "",
       "version_major": 2,
       "version_minor": 0
      },
      "text/plain": [
       "HBox(children=(FloatProgress(value=0.0, description='Training', layout=Layout(flex='2'), max=6667.0, style=Pro…"
      ]
     },
     "metadata": {},
     "output_type": "display_data"
    },
    {
     "name": "stdout",
     "output_type": "stream",
     "text": [
      "Epoch 81: train=0.876008, val=0.678048, took 592.97 s\n"
     ]
    },
    {
     "data": {
      "application/vnd.jupyter.widget-view+json": {
       "model_id": "",
       "version_major": 2,
       "version_minor": 0
      },
      "text/plain": [
       "HBox(children=(FloatProgress(value=0.0, description='Training', layout=Layout(flex='2'), max=6667.0, style=Pro…"
      ]
     },
     "metadata": {},
     "output_type": "display_data"
    },
    {
     "name": "stdout",
     "output_type": "stream",
     "text": [
      "Epoch 82: train=0.874277, val=0.641802, took 591.9 s\n"
     ]
    },
    {
     "data": {
      "application/vnd.jupyter.widget-view+json": {
       "model_id": "",
       "version_major": 2,
       "version_minor": 0
      },
      "text/plain": [
       "HBox(children=(FloatProgress(value=0.0, description='Training', layout=Layout(flex='2'), max=6667.0, style=Pro…"
      ]
     },
     "metadata": {},
     "output_type": "display_data"
    },
    {
     "name": "stdout",
     "output_type": "stream",
     "text": [
      "Epoch 83: train=0.876004, val=0.690842, took 592.06 s\n"
     ]
    },
    {
     "data": {
      "application/vnd.jupyter.widget-view+json": {
       "model_id": "",
       "version_major": 2,
       "version_minor": 0
      },
      "text/plain": [
       "HBox(children=(FloatProgress(value=0.0, description='Training', layout=Layout(flex='2'), max=6667.0, style=Pro…"
      ]
     },
     "metadata": {},
     "output_type": "display_data"
    },
    {
     "name": "stdout",
     "output_type": "stream",
     "text": [
      "Epoch 84: train=0.872985, val=0.645736, took 591.91 s\n"
     ]
    },
    {
     "data": {
      "application/vnd.jupyter.widget-view+json": {
       "model_id": "",
       "version_major": 2,
       "version_minor": 0
      },
      "text/plain": [
       "HBox(children=(FloatProgress(value=0.0, description='Training', layout=Layout(flex='2'), max=6667.0, style=Pro…"
      ]
     },
     "metadata": {},
     "output_type": "display_data"
    },
    {
     "name": "stdout",
     "output_type": "stream",
     "text": [
      "Epoch 85: train=0.873903, val=0.687814, took 591.63 s\n"
     ]
    },
    {
     "data": {
      "application/vnd.jupyter.widget-view+json": {
       "model_id": "",
       "version_major": 2,
       "version_minor": 0
      },
      "text/plain": [
       "HBox(children=(FloatProgress(value=0.0, description='Training', layout=Layout(flex='2'), max=6667.0, style=Pro…"
      ]
     },
     "metadata": {},
     "output_type": "display_data"
    },
    {
     "name": "stdout",
     "output_type": "stream",
     "text": [
      "Epoch 86: train=0.873961, val=0.643194, took 591.26 s\n"
     ]
    },
    {
     "data": {
      "application/vnd.jupyter.widget-view+json": {
       "model_id": "",
       "version_major": 2,
       "version_minor": 0
      },
      "text/plain": [
       "HBox(children=(FloatProgress(value=0.0, description='Training', layout=Layout(flex='2'), max=6667.0, style=Pro…"
      ]
     },
     "metadata": {},
     "output_type": "display_data"
    },
    {
     "name": "stdout",
     "output_type": "stream",
     "text": [
      "Epoch 87: train=0.872794, val=0.625731, took 591.14 s\n"
     ]
    },
    {
     "data": {
      "application/vnd.jupyter.widget-view+json": {
       "model_id": "",
       "version_major": 2,
       "version_minor": 0
      },
      "text/plain": [
       "HBox(children=(FloatProgress(value=0.0, description='Training', layout=Layout(flex='2'), max=6667.0, style=Pro…"
      ]
     },
     "metadata": {},
     "output_type": "display_data"
    },
    {
     "name": "stdout",
     "output_type": "stream",
     "text": [
      "Epoch 88: train=0.871432, val=0.630436, took 589.93 s\n"
     ]
    },
    {
     "data": {
      "application/vnd.jupyter.widget-view+json": {
       "model_id": "",
       "version_major": 2,
       "version_minor": 0
      },
      "text/plain": [
       "HBox(children=(FloatProgress(value=0.0, description='Training', layout=Layout(flex='2'), max=6667.0, style=Pro…"
      ]
     },
     "metadata": {},
     "output_type": "display_data"
    },
    {
     "name": "stdout",
     "output_type": "stream",
     "text": [
      "Epoch 89: train=0.871211, val=0.637096, took 591.28 s\n"
     ]
    },
    {
     "data": {
      "application/vnd.jupyter.widget-view+json": {
       "model_id": "",
       "version_major": 2,
       "version_minor": 0
      },
      "text/plain": [
       "HBox(children=(FloatProgress(value=0.0, description='Training', layout=Layout(flex='2'), max=6667.0, style=Pro…"
      ]
     },
     "metadata": {},
     "output_type": "display_data"
    },
    {
     "name": "stdout",
     "output_type": "stream",
     "text": [
      "Epoch 90: train=0.870382, val=0.682059, took 591.72 s\n"
     ]
    },
    {
     "data": {
      "application/vnd.jupyter.widget-view+json": {
       "model_id": "",
       "version_major": 2,
       "version_minor": 0
      },
      "text/plain": [
       "HBox(children=(FloatProgress(value=0.0, description='Training', layout=Layout(flex='2'), max=6667.0, style=Pro…"
      ]
     },
     "metadata": {},
     "output_type": "display_data"
    },
    {
     "name": "stdout",
     "output_type": "stream",
     "text": [
      "Epoch 91: train=0.870258, val=0.687733, took 591.22 s\n"
     ]
    },
    {
     "data": {
      "application/vnd.jupyter.widget-view+json": {
       "model_id": "",
       "version_major": 2,
       "version_minor": 0
      },
      "text/plain": [
       "HBox(children=(FloatProgress(value=0.0, description='Training', layout=Layout(flex='2'), max=6667.0, style=Pro…"
      ]
     },
     "metadata": {},
     "output_type": "display_data"
    },
    {
     "name": "stdout",
     "output_type": "stream",
     "text": [
      "Epoch 92: train=0.868783, val=0.655705, took 590.24 s\n"
     ]
    },
    {
     "data": {
      "application/vnd.jupyter.widget-view+json": {
       "model_id": "",
       "version_major": 2,
       "version_minor": 0
      },
      "text/plain": [
       "HBox(children=(FloatProgress(value=0.0, description='Training', layout=Layout(flex='2'), max=6667.0, style=Pro…"
      ]
     },
     "metadata": {},
     "output_type": "display_data"
    },
    {
     "name": "stdout",
     "output_type": "stream",
     "text": [
      "Epoch 93: train=0.869033, val=0.62554, took 591.64 s\n"
     ]
    },
    {
     "data": {
      "application/vnd.jupyter.widget-view+json": {
       "model_id": "",
       "version_major": 2,
       "version_minor": 0
      },
      "text/plain": [
       "HBox(children=(FloatProgress(value=0.0, description='Training', layout=Layout(flex='2'), max=6667.0, style=Pro…"
      ]
     },
     "metadata": {},
     "output_type": "display_data"
    },
    {
     "name": "stdout",
     "output_type": "stream",
     "text": [
      "Epoch 94: train=0.867989, val=0.65581, took 594.5 s\n"
     ]
    },
    {
     "data": {
      "application/vnd.jupyter.widget-view+json": {
       "model_id": "",
       "version_major": 2,
       "version_minor": 0
      },
      "text/plain": [
       "HBox(children=(FloatProgress(value=0.0, description='Training', layout=Layout(flex='2'), max=6667.0, style=Pro…"
      ]
     },
     "metadata": {},
     "output_type": "display_data"
    },
    {
     "name": "stdout",
     "output_type": "stream",
     "text": [
      "Epoch 95: train=0.868396, val=0.703156, took 592.95 s\n"
     ]
    },
    {
     "data": {
      "application/vnd.jupyter.widget-view+json": {
       "model_id": "",
       "version_major": 2,
       "version_minor": 0
      },
      "text/plain": [
       "HBox(children=(FloatProgress(value=0.0, description='Training', layout=Layout(flex='2'), max=6667.0, style=Pro…"
      ]
     },
     "metadata": {},
     "output_type": "display_data"
    },
    {
     "name": "stdout",
     "output_type": "stream",
     "text": [
      "Epoch 96: train=0.866951, val=0.620604, took 590.92 s\n"
     ]
    },
    {
     "data": {
      "application/vnd.jupyter.widget-view+json": {
       "model_id": "",
       "version_major": 2,
       "version_minor": 0
      },
      "text/plain": [
       "HBox(children=(FloatProgress(value=0.0, description='Training', layout=Layout(flex='2'), max=6667.0, style=Pro…"
      ]
     },
     "metadata": {},
     "output_type": "display_data"
    },
    {
     "name": "stdout",
     "output_type": "stream",
     "text": [
      "Epoch 97: train=0.867066, val=0.652481, took 590.71 s\n"
     ]
    },
    {
     "data": {
      "application/vnd.jupyter.widget-view+json": {
       "model_id": "",
       "version_major": 2,
       "version_minor": 0
      },
      "text/plain": [
       "HBox(children=(FloatProgress(value=0.0, description='Training', layout=Layout(flex='2'), max=6667.0, style=Pro…"
      ]
     },
     "metadata": {},
     "output_type": "display_data"
    },
    {
     "name": "stdout",
     "output_type": "stream",
     "text": [
      "Epoch 98: train=0.866833, val=0.627097, took 590.7 s\n"
     ]
    },
    {
     "data": {
      "application/vnd.jupyter.widget-view+json": {
       "model_id": "",
       "version_major": 2,
       "version_minor": 0
      },
      "text/plain": [
       "HBox(children=(FloatProgress(value=0.0, description='Training', layout=Layout(flex='2'), max=6667.0, style=Pro…"
      ]
     },
     "metadata": {},
     "output_type": "display_data"
    },
    {
     "name": "stdout",
     "output_type": "stream",
     "text": [
      "Epoch 99: train=0.865889, val=0.616723, took 590.23 s\n",
      "\n"
     ]
    }
   ],
   "source": [
    "for result in trainNet(model, optimizer, loss,\n",
    "                        train_loader, val_loader,\n",
    "                        n_epochs, epoch_start=len(results),\n",
    "                        notebook=True):\n",
    "    \n",
    "    results = results.append(pd.Series(result._asdict()), ignore_index=True)\n",
    "    xs = results.index\n",
    "    \n",
    "    # Update the plot above\n",
    "    lines['train'].set_data(results.index,results.cost)\n",
    "    lines['val'].set_data(results.index,results.val)\n",
    "    \n",
    "    #filter first cost epoch (can be really large)\n",
    "    max_cost = max(max(results.cost if len(results.cost)<2 else results.cost[1:]), max(results.val))\n",
    "    min_cost = min(min(results.cost), min(results.val))\n",
    "    \n",
    "    # The plot limits need updating too\n",
    "    \n",
    "    \n",
    "    \n",
    "    ax.set_ylim(min_cost*.9, max_cost*1.1)  \n",
    "    ax.set_xlim(-.5, len(results.cost) - .5)\n",
    "\n",
    "    \n",
    "    # Redraw the figure\n",
    "    fig.canvas.draw()\n",
    "\n",
    "    # Save each model state dictionary\n",
    "    torch.save(model.state_dict(), output / f'{name}_{result.epoch}.pyt')"
   ]
  },
  {
   "cell_type": "markdown",
   "metadata": {},
   "source": [
    "Go ahead and save the final model (even though it was also saved above):"
   ]
  },
  {
   "cell_type": "code",
   "execution_count": 18,
   "metadata": {},
   "outputs": [],
   "source": [
    "torch.save(model.state_dict(), output / f'{name}_final.pyt')"
   ]
  },
  {
   "cell_type": "markdown",
   "metadata": {},
   "source": [
    "Save the output results:"
   ]
  },
  {
   "cell_type": "code",
   "execution_count": 19,
   "metadata": {},
   "outputs": [],
   "source": [
    "results.to_hdf(f'{name}_stats.hdf5', 'results')"
   ]
  },
  {
   "cell_type": "markdown",
   "metadata": {},
   "source": [
    "Save the plot above:"
   ]
  },
  {
   "cell_type": "code",
   "execution_count": 20,
   "metadata": {},
   "outputs": [
    {
     "data": {
      "application/javascript": [
       "/* Put everything inside the global mpl namespace */\n",
       "window.mpl = {};\n",
       "\n",
       "\n",
       "mpl.get_websocket_type = function() {\n",
       "    if (typeof(WebSocket) !== 'undefined') {\n",
       "        return WebSocket;\n",
       "    } else if (typeof(MozWebSocket) !== 'undefined') {\n",
       "        return MozWebSocket;\n",
       "    } else {\n",
       "        alert('Your browser does not have WebSocket support. ' +\n",
       "              'Please try Chrome, Safari or Firefox ≥ 6. ' +\n",
       "              'Firefox 4 and 5 are also supported but you ' +\n",
       "              'have to enable WebSockets in about:config.');\n",
       "    };\n",
       "}\n",
       "\n",
       "mpl.figure = function(figure_id, websocket, ondownload, parent_element) {\n",
       "    this.id = figure_id;\n",
       "\n",
       "    this.ws = websocket;\n",
       "\n",
       "    this.supports_binary = (this.ws.binaryType != undefined);\n",
       "\n",
       "    if (!this.supports_binary) {\n",
       "        var warnings = document.getElementById(\"mpl-warnings\");\n",
       "        if (warnings) {\n",
       "            warnings.style.display = 'block';\n",
       "            warnings.textContent = (\n",
       "                \"This browser does not support binary websocket messages. \" +\n",
       "                    \"Performance may be slow.\");\n",
       "        }\n",
       "    }\n",
       "\n",
       "    this.imageObj = new Image();\n",
       "\n",
       "    this.context = undefined;\n",
       "    this.message = undefined;\n",
       "    this.canvas = undefined;\n",
       "    this.rubberband_canvas = undefined;\n",
       "    this.rubberband_context = undefined;\n",
       "    this.format_dropdown = undefined;\n",
       "\n",
       "    this.image_mode = 'full';\n",
       "\n",
       "    this.root = $('<div/>');\n",
       "    this._root_extra_style(this.root)\n",
       "    this.root.attr('style', 'display: inline-block');\n",
       "\n",
       "    $(parent_element).append(this.root);\n",
       "\n",
       "    this._init_header(this);\n",
       "    this._init_canvas(this);\n",
       "    this._init_toolbar(this);\n",
       "\n",
       "    var fig = this;\n",
       "\n",
       "    this.waiting = false;\n",
       "\n",
       "    this.ws.onopen =  function () {\n",
       "            fig.send_message(\"supports_binary\", {value: fig.supports_binary});\n",
       "            fig.send_message(\"send_image_mode\", {});\n",
       "            if (mpl.ratio != 1) {\n",
       "                fig.send_message(\"set_dpi_ratio\", {'dpi_ratio': mpl.ratio});\n",
       "            }\n",
       "            fig.send_message(\"refresh\", {});\n",
       "        }\n",
       "\n",
       "    this.imageObj.onload = function() {\n",
       "            if (fig.image_mode == 'full') {\n",
       "                // Full images could contain transparency (where diff images\n",
       "                // almost always do), so we need to clear the canvas so that\n",
       "                // there is no ghosting.\n",
       "                fig.context.clearRect(0, 0, fig.canvas.width, fig.canvas.height);\n",
       "            }\n",
       "            fig.context.drawImage(fig.imageObj, 0, 0);\n",
       "        };\n",
       "\n",
       "    this.imageObj.onunload = function() {\n",
       "        fig.ws.close();\n",
       "    }\n",
       "\n",
       "    this.ws.onmessage = this._make_on_message_function(this);\n",
       "\n",
       "    this.ondownload = ondownload;\n",
       "}\n",
       "\n",
       "mpl.figure.prototype._init_header = function() {\n",
       "    var titlebar = $(\n",
       "        '<div class=\"ui-dialog-titlebar ui-widget-header ui-corner-all ' +\n",
       "        'ui-helper-clearfix\"/>');\n",
       "    var titletext = $(\n",
       "        '<div class=\"ui-dialog-title\" style=\"width: 100%; ' +\n",
       "        'text-align: center; padding: 3px;\"/>');\n",
       "    titlebar.append(titletext)\n",
       "    this.root.append(titlebar);\n",
       "    this.header = titletext[0];\n",
       "}\n",
       "\n",
       "\n",
       "\n",
       "mpl.figure.prototype._canvas_extra_style = function(canvas_div) {\n",
       "\n",
       "}\n",
       "\n",
       "\n",
       "mpl.figure.prototype._root_extra_style = function(canvas_div) {\n",
       "\n",
       "}\n",
       "\n",
       "mpl.figure.prototype._init_canvas = function() {\n",
       "    var fig = this;\n",
       "\n",
       "    var canvas_div = $('<div/>');\n",
       "\n",
       "    canvas_div.attr('style', 'position: relative; clear: both; outline: 0');\n",
       "\n",
       "    function canvas_keyboard_event(event) {\n",
       "        return fig.key_event(event, event['data']);\n",
       "    }\n",
       "\n",
       "    canvas_div.keydown('key_press', canvas_keyboard_event);\n",
       "    canvas_div.keyup('key_release', canvas_keyboard_event);\n",
       "    this.canvas_div = canvas_div\n",
       "    this._canvas_extra_style(canvas_div)\n",
       "    this.root.append(canvas_div);\n",
       "\n",
       "    var canvas = $('<canvas/>');\n",
       "    canvas.addClass('mpl-canvas');\n",
       "    canvas.attr('style', \"left: 0; top: 0; z-index: 0; outline: 0\")\n",
       "\n",
       "    this.canvas = canvas[0];\n",
       "    this.context = canvas[0].getContext(\"2d\");\n",
       "\n",
       "    var backingStore = this.context.backingStorePixelRatio ||\n",
       "\tthis.context.webkitBackingStorePixelRatio ||\n",
       "\tthis.context.mozBackingStorePixelRatio ||\n",
       "\tthis.context.msBackingStorePixelRatio ||\n",
       "\tthis.context.oBackingStorePixelRatio ||\n",
       "\tthis.context.backingStorePixelRatio || 1;\n",
       "\n",
       "    mpl.ratio = (window.devicePixelRatio || 1) / backingStore;\n",
       "\n",
       "    var rubberband = $('<canvas/>');\n",
       "    rubberband.attr('style', \"position: absolute; left: 0; top: 0; z-index: 1;\")\n",
       "\n",
       "    var pass_mouse_events = true;\n",
       "\n",
       "    canvas_div.resizable({\n",
       "        start: function(event, ui) {\n",
       "            pass_mouse_events = false;\n",
       "        },\n",
       "        resize: function(event, ui) {\n",
       "            fig.request_resize(ui.size.width, ui.size.height);\n",
       "        },\n",
       "        stop: function(event, ui) {\n",
       "            pass_mouse_events = true;\n",
       "            fig.request_resize(ui.size.width, ui.size.height);\n",
       "        },\n",
       "    });\n",
       "\n",
       "    function mouse_event_fn(event) {\n",
       "        if (pass_mouse_events)\n",
       "            return fig.mouse_event(event, event['data']);\n",
       "    }\n",
       "\n",
       "    rubberband.mousedown('button_press', mouse_event_fn);\n",
       "    rubberband.mouseup('button_release', mouse_event_fn);\n",
       "    // Throttle sequential mouse events to 1 every 20ms.\n",
       "    rubberband.mousemove('motion_notify', mouse_event_fn);\n",
       "\n",
       "    rubberband.mouseenter('figure_enter', mouse_event_fn);\n",
       "    rubberband.mouseleave('figure_leave', mouse_event_fn);\n",
       "\n",
       "    canvas_div.on(\"wheel\", function (event) {\n",
       "        event = event.originalEvent;\n",
       "        event['data'] = 'scroll'\n",
       "        if (event.deltaY < 0) {\n",
       "            event.step = 1;\n",
       "        } else {\n",
       "            event.step = -1;\n",
       "        }\n",
       "        mouse_event_fn(event);\n",
       "    });\n",
       "\n",
       "    canvas_div.append(canvas);\n",
       "    canvas_div.append(rubberband);\n",
       "\n",
       "    this.rubberband = rubberband;\n",
       "    this.rubberband_canvas = rubberband[0];\n",
       "    this.rubberband_context = rubberband[0].getContext(\"2d\");\n",
       "    this.rubberband_context.strokeStyle = \"#000000\";\n",
       "\n",
       "    this._resize_canvas = function(width, height) {\n",
       "        // Keep the size of the canvas, canvas container, and rubber band\n",
       "        // canvas in synch.\n",
       "        canvas_div.css('width', width)\n",
       "        canvas_div.css('height', height)\n",
       "\n",
       "        canvas.attr('width', width * mpl.ratio);\n",
       "        canvas.attr('height', height * mpl.ratio);\n",
       "        canvas.attr('style', 'width: ' + width + 'px; height: ' + height + 'px;');\n",
       "\n",
       "        rubberband.attr('width', width);\n",
       "        rubberband.attr('height', height);\n",
       "    }\n",
       "\n",
       "    // Set the figure to an initial 600x600px, this will subsequently be updated\n",
       "    // upon first draw.\n",
       "    this._resize_canvas(600, 600);\n",
       "\n",
       "    // Disable right mouse context menu.\n",
       "    $(this.rubberband_canvas).bind(\"contextmenu\",function(e){\n",
       "        return false;\n",
       "    });\n",
       "\n",
       "    function set_focus () {\n",
       "        canvas.focus();\n",
       "        canvas_div.focus();\n",
       "    }\n",
       "\n",
       "    window.setTimeout(set_focus, 100);\n",
       "}\n",
       "\n",
       "mpl.figure.prototype._init_toolbar = function() {\n",
       "    var fig = this;\n",
       "\n",
       "    var nav_element = $('<div/>');\n",
       "    nav_element.attr('style', 'width: 100%');\n",
       "    this.root.append(nav_element);\n",
       "\n",
       "    // Define a callback function for later on.\n",
       "    function toolbar_event(event) {\n",
       "        return fig.toolbar_button_onclick(event['data']);\n",
       "    }\n",
       "    function toolbar_mouse_event(event) {\n",
       "        return fig.toolbar_button_onmouseover(event['data']);\n",
       "    }\n",
       "\n",
       "    for(var toolbar_ind in mpl.toolbar_items) {\n",
       "        var name = mpl.toolbar_items[toolbar_ind][0];\n",
       "        var tooltip = mpl.toolbar_items[toolbar_ind][1];\n",
       "        var image = mpl.toolbar_items[toolbar_ind][2];\n",
       "        var method_name = mpl.toolbar_items[toolbar_ind][3];\n",
       "\n",
       "        if (!name) {\n",
       "            // put a spacer in here.\n",
       "            continue;\n",
       "        }\n",
       "        var button = $('<button/>');\n",
       "        button.addClass('ui-button ui-widget ui-state-default ui-corner-all ' +\n",
       "                        'ui-button-icon-only');\n",
       "        button.attr('role', 'button');\n",
       "        button.attr('aria-disabled', 'false');\n",
       "        button.click(method_name, toolbar_event);\n",
       "        button.mouseover(tooltip, toolbar_mouse_event);\n",
       "\n",
       "        var icon_img = $('<span/>');\n",
       "        icon_img.addClass('ui-button-icon-primary ui-icon');\n",
       "        icon_img.addClass(image);\n",
       "        icon_img.addClass('ui-corner-all');\n",
       "\n",
       "        var tooltip_span = $('<span/>');\n",
       "        tooltip_span.addClass('ui-button-text');\n",
       "        tooltip_span.html(tooltip);\n",
       "\n",
       "        button.append(icon_img);\n",
       "        button.append(tooltip_span);\n",
       "\n",
       "        nav_element.append(button);\n",
       "    }\n",
       "\n",
       "    var fmt_picker_span = $('<span/>');\n",
       "\n",
       "    var fmt_picker = $('<select/>');\n",
       "    fmt_picker.addClass('mpl-toolbar-option ui-widget ui-widget-content');\n",
       "    fmt_picker_span.append(fmt_picker);\n",
       "    nav_element.append(fmt_picker_span);\n",
       "    this.format_dropdown = fmt_picker[0];\n",
       "\n",
       "    for (var ind in mpl.extensions) {\n",
       "        var fmt = mpl.extensions[ind];\n",
       "        var option = $(\n",
       "            '<option/>', {selected: fmt === mpl.default_extension}).html(fmt);\n",
       "        fmt_picker.append(option);\n",
       "    }\n",
       "\n",
       "    // Add hover states to the ui-buttons\n",
       "    $( \".ui-button\" ).hover(\n",
       "        function() { $(this).addClass(\"ui-state-hover\");},\n",
       "        function() { $(this).removeClass(\"ui-state-hover\");}\n",
       "    );\n",
       "\n",
       "    var status_bar = $('<span class=\"mpl-message\"/>');\n",
       "    nav_element.append(status_bar);\n",
       "    this.message = status_bar[0];\n",
       "}\n",
       "\n",
       "mpl.figure.prototype.request_resize = function(x_pixels, y_pixels) {\n",
       "    // Request matplotlib to resize the figure. Matplotlib will then trigger a resize in the client,\n",
       "    // which will in turn request a refresh of the image.\n",
       "    this.send_message('resize', {'width': x_pixels, 'height': y_pixels});\n",
       "}\n",
       "\n",
       "mpl.figure.prototype.send_message = function(type, properties) {\n",
       "    properties['type'] = type;\n",
       "    properties['figure_id'] = this.id;\n",
       "    this.ws.send(JSON.stringify(properties));\n",
       "}\n",
       "\n",
       "mpl.figure.prototype.send_draw_message = function() {\n",
       "    if (!this.waiting) {\n",
       "        this.waiting = true;\n",
       "        this.ws.send(JSON.stringify({type: \"draw\", figure_id: this.id}));\n",
       "    }\n",
       "}\n",
       "\n",
       "\n",
       "mpl.figure.prototype.handle_save = function(fig, msg) {\n",
       "    var format_dropdown = fig.format_dropdown;\n",
       "    var format = format_dropdown.options[format_dropdown.selectedIndex].value;\n",
       "    fig.ondownload(fig, format);\n",
       "}\n",
       "\n",
       "\n",
       "mpl.figure.prototype.handle_resize = function(fig, msg) {\n",
       "    var size = msg['size'];\n",
       "    if (size[0] != fig.canvas.width || size[1] != fig.canvas.height) {\n",
       "        fig._resize_canvas(size[0], size[1]);\n",
       "        fig.send_message(\"refresh\", {});\n",
       "    };\n",
       "}\n",
       "\n",
       "mpl.figure.prototype.handle_rubberband = function(fig, msg) {\n",
       "    var x0 = msg['x0'] / mpl.ratio;\n",
       "    var y0 = (fig.canvas.height - msg['y0']) / mpl.ratio;\n",
       "    var x1 = msg['x1'] / mpl.ratio;\n",
       "    var y1 = (fig.canvas.height - msg['y1']) / mpl.ratio;\n",
       "    x0 = Math.floor(x0) + 0.5;\n",
       "    y0 = Math.floor(y0) + 0.5;\n",
       "    x1 = Math.floor(x1) + 0.5;\n",
       "    y1 = Math.floor(y1) + 0.5;\n",
       "    var min_x = Math.min(x0, x1);\n",
       "    var min_y = Math.min(y0, y1);\n",
       "    var width = Math.abs(x1 - x0);\n",
       "    var height = Math.abs(y1 - y0);\n",
       "\n",
       "    fig.rubberband_context.clearRect(\n",
       "        0, 0, fig.canvas.width / mpl.ratio, fig.canvas.height / mpl.ratio);\n",
       "\n",
       "    fig.rubberband_context.strokeRect(min_x, min_y, width, height);\n",
       "}\n",
       "\n",
       "mpl.figure.prototype.handle_figure_label = function(fig, msg) {\n",
       "    // Updates the figure title.\n",
       "    fig.header.textContent = msg['label'];\n",
       "}\n",
       "\n",
       "mpl.figure.prototype.handle_cursor = function(fig, msg) {\n",
       "    var cursor = msg['cursor'];\n",
       "    switch(cursor)\n",
       "    {\n",
       "    case 0:\n",
       "        cursor = 'pointer';\n",
       "        break;\n",
       "    case 1:\n",
       "        cursor = 'default';\n",
       "        break;\n",
       "    case 2:\n",
       "        cursor = 'crosshair';\n",
       "        break;\n",
       "    case 3:\n",
       "        cursor = 'move';\n",
       "        break;\n",
       "    }\n",
       "    fig.rubberband_canvas.style.cursor = cursor;\n",
       "}\n",
       "\n",
       "mpl.figure.prototype.handle_message = function(fig, msg) {\n",
       "    fig.message.textContent = msg['message'];\n",
       "}\n",
       "\n",
       "mpl.figure.prototype.handle_draw = function(fig, msg) {\n",
       "    // Request the server to send over a new figure.\n",
       "    fig.send_draw_message();\n",
       "}\n",
       "\n",
       "mpl.figure.prototype.handle_image_mode = function(fig, msg) {\n",
       "    fig.image_mode = msg['mode'];\n",
       "}\n",
       "\n",
       "mpl.figure.prototype.updated_canvas_event = function() {\n",
       "    // Called whenever the canvas gets updated.\n",
       "    this.send_message(\"ack\", {});\n",
       "}\n",
       "\n",
       "// A function to construct a web socket function for onmessage handling.\n",
       "// Called in the figure constructor.\n",
       "mpl.figure.prototype._make_on_message_function = function(fig) {\n",
       "    return function socket_on_message(evt) {\n",
       "        if (evt.data instanceof Blob) {\n",
       "            /* FIXME: We get \"Resource interpreted as Image but\n",
       "             * transferred with MIME type text/plain:\" errors on\n",
       "             * Chrome.  But how to set the MIME type?  It doesn't seem\n",
       "             * to be part of the websocket stream */\n",
       "            evt.data.type = \"image/png\";\n",
       "\n",
       "            /* Free the memory for the previous frames */\n",
       "            if (fig.imageObj.src) {\n",
       "                (window.URL || window.webkitURL).revokeObjectURL(\n",
       "                    fig.imageObj.src);\n",
       "            }\n",
       "\n",
       "            fig.imageObj.src = (window.URL || window.webkitURL).createObjectURL(\n",
       "                evt.data);\n",
       "            fig.updated_canvas_event();\n",
       "            fig.waiting = false;\n",
       "            return;\n",
       "        }\n",
       "        else if (typeof evt.data === 'string' && evt.data.slice(0, 21) == \"data:image/png;base64\") {\n",
       "            fig.imageObj.src = evt.data;\n",
       "            fig.updated_canvas_event();\n",
       "            fig.waiting = false;\n",
       "            return;\n",
       "        }\n",
       "\n",
       "        var msg = JSON.parse(evt.data);\n",
       "        var msg_type = msg['type'];\n",
       "\n",
       "        // Call the  \"handle_{type}\" callback, which takes\n",
       "        // the figure and JSON message as its only arguments.\n",
       "        try {\n",
       "            var callback = fig[\"handle_\" + msg_type];\n",
       "        } catch (e) {\n",
       "            console.log(\"No handler for the '\" + msg_type + \"' message type: \", msg);\n",
       "            return;\n",
       "        }\n",
       "\n",
       "        if (callback) {\n",
       "            try {\n",
       "                // console.log(\"Handling '\" + msg_type + \"' message: \", msg);\n",
       "                callback(fig, msg);\n",
       "            } catch (e) {\n",
       "                console.log(\"Exception inside the 'handler_\" + msg_type + \"' callback:\", e, e.stack, msg);\n",
       "            }\n",
       "        }\n",
       "    };\n",
       "}\n",
       "\n",
       "// from http://stackoverflow.com/questions/1114465/getting-mouse-location-in-canvas\n",
       "mpl.findpos = function(e) {\n",
       "    //this section is from http://www.quirksmode.org/js/events_properties.html\n",
       "    var targ;\n",
       "    if (!e)\n",
       "        e = window.event;\n",
       "    if (e.target)\n",
       "        targ = e.target;\n",
       "    else if (e.srcElement)\n",
       "        targ = e.srcElement;\n",
       "    if (targ.nodeType == 3) // defeat Safari bug\n",
       "        targ = targ.parentNode;\n",
       "\n",
       "    // jQuery normalizes the pageX and pageY\n",
       "    // pageX,Y are the mouse positions relative to the document\n",
       "    // offset() returns the position of the element relative to the document\n",
       "    var x = e.pageX - $(targ).offset().left;\n",
       "    var y = e.pageY - $(targ).offset().top;\n",
       "\n",
       "    return {\"x\": x, \"y\": y};\n",
       "};\n",
       "\n",
       "/*\n",
       " * return a copy of an object with only non-object keys\n",
       " * we need this to avoid circular references\n",
       " * http://stackoverflow.com/a/24161582/3208463\n",
       " */\n",
       "function simpleKeys (original) {\n",
       "  return Object.keys(original).reduce(function (obj, key) {\n",
       "    if (typeof original[key] !== 'object')\n",
       "        obj[key] = original[key]\n",
       "    return obj;\n",
       "  }, {});\n",
       "}\n",
       "\n",
       "mpl.figure.prototype.mouse_event = function(event, name) {\n",
       "    var canvas_pos = mpl.findpos(event)\n",
       "\n",
       "    if (name === 'button_press')\n",
       "    {\n",
       "        this.canvas.focus();\n",
       "        this.canvas_div.focus();\n",
       "    }\n",
       "\n",
       "    var x = canvas_pos.x * mpl.ratio;\n",
       "    var y = canvas_pos.y * mpl.ratio;\n",
       "\n",
       "    this.send_message(name, {x: x, y: y, button: event.button,\n",
       "                             step: event.step,\n",
       "                             guiEvent: simpleKeys(event)});\n",
       "\n",
       "    /* This prevents the web browser from automatically changing to\n",
       "     * the text insertion cursor when the button is pressed.  We want\n",
       "     * to control all of the cursor setting manually through the\n",
       "     * 'cursor' event from matplotlib */\n",
       "    event.preventDefault();\n",
       "    return false;\n",
       "}\n",
       "\n",
       "mpl.figure.prototype._key_event_extra = function(event, name) {\n",
       "    // Handle any extra behaviour associated with a key event\n",
       "}\n",
       "\n",
       "mpl.figure.prototype.key_event = function(event, name) {\n",
       "\n",
       "    // Prevent repeat events\n",
       "    if (name == 'key_press')\n",
       "    {\n",
       "        if (event.which === this._key)\n",
       "            return;\n",
       "        else\n",
       "            this._key = event.which;\n",
       "    }\n",
       "    if (name == 'key_release')\n",
       "        this._key = null;\n",
       "\n",
       "    var value = '';\n",
       "    if (event.ctrlKey && event.which != 17)\n",
       "        value += \"ctrl+\";\n",
       "    if (event.altKey && event.which != 18)\n",
       "        value += \"alt+\";\n",
       "    if (event.shiftKey && event.which != 16)\n",
       "        value += \"shift+\";\n",
       "\n",
       "    value += 'k';\n",
       "    value += event.which.toString();\n",
       "\n",
       "    this._key_event_extra(event, name);\n",
       "\n",
       "    this.send_message(name, {key: value,\n",
       "                             guiEvent: simpleKeys(event)});\n",
       "    return false;\n",
       "}\n",
       "\n",
       "mpl.figure.prototype.toolbar_button_onclick = function(name) {\n",
       "    if (name == 'download') {\n",
       "        this.handle_save(this, null);\n",
       "    } else {\n",
       "        this.send_message(\"toolbar_button\", {name: name});\n",
       "    }\n",
       "};\n",
       "\n",
       "mpl.figure.prototype.toolbar_button_onmouseover = function(tooltip) {\n",
       "    this.message.textContent = tooltip;\n",
       "};\n",
       "mpl.toolbar_items = [[\"Home\", \"Reset original view\", \"fa fa-home icon-home\", \"home\"], [\"Back\", \"Back to previous view\", \"fa fa-arrow-left icon-arrow-left\", \"back\"], [\"Forward\", \"Forward to next view\", \"fa fa-arrow-right icon-arrow-right\", \"forward\"], [\"\", \"\", \"\", \"\"], [\"Pan\", \"Pan axes with left mouse, zoom with right\", \"fa fa-arrows icon-move\", \"pan\"], [\"Zoom\", \"Zoom to rectangle\", \"fa fa-square-o icon-check-empty\", \"zoom\"], [\"\", \"\", \"\", \"\"], [\"Download\", \"Download plot\", \"fa fa-floppy-o icon-save\", \"download\"]];\n",
       "\n",
       "mpl.extensions = [\"eps\", \"jpeg\", \"pdf\", \"png\", \"ps\", \"raw\", \"svg\", \"tif\"];\n",
       "\n",
       "mpl.default_extension = \"png\";var comm_websocket_adapter = function(comm) {\n",
       "    // Create a \"websocket\"-like object which calls the given IPython comm\n",
       "    // object with the appropriate methods. Currently this is a non binary\n",
       "    // socket, so there is still some room for performance tuning.\n",
       "    var ws = {};\n",
       "\n",
       "    ws.close = function() {\n",
       "        comm.close()\n",
       "    };\n",
       "    ws.send = function(m) {\n",
       "        //console.log('sending', m);\n",
       "        comm.send(m);\n",
       "    };\n",
       "    // Register the callback with on_msg.\n",
       "    comm.on_msg(function(msg) {\n",
       "        //console.log('receiving', msg['content']['data'], msg);\n",
       "        // Pass the mpl event to the overridden (by mpl) onmessage function.\n",
       "        ws.onmessage(msg['content']['data'])\n",
       "    });\n",
       "    return ws;\n",
       "}\n",
       "\n",
       "mpl.mpl_figure_comm = function(comm, msg) {\n",
       "    // This is the function which gets called when the mpl process\n",
       "    // starts-up an IPython Comm through the \"matplotlib\" channel.\n",
       "\n",
       "    var id = msg.content.data.id;\n",
       "    // Get hold of the div created by the display call when the Comm\n",
       "    // socket was opened in Python.\n",
       "    var element = $(\"#\" + id);\n",
       "    var ws_proxy = comm_websocket_adapter(comm)\n",
       "\n",
       "    function ondownload(figure, format) {\n",
       "        window.open(figure.imageObj.src);\n",
       "    }\n",
       "\n",
       "    var fig = new mpl.figure(id, ws_proxy,\n",
       "                           ondownload,\n",
       "                           element.get(0));\n",
       "\n",
       "    // Call onopen now - mpl needs it, as it is assuming we've passed it a real\n",
       "    // web socket which is closed, not our websocket->open comm proxy.\n",
       "    ws_proxy.onopen();\n",
       "\n",
       "    fig.parent_element = element.get(0);\n",
       "    fig.cell_info = mpl.find_output_cell(\"<div id='\" + id + \"'></div>\");\n",
       "    if (!fig.cell_info) {\n",
       "        console.error(\"Failed to find cell for figure\", id, fig);\n",
       "        return;\n",
       "    }\n",
       "\n",
       "    var output_index = fig.cell_info[2]\n",
       "    var cell = fig.cell_info[0];\n",
       "\n",
       "};\n",
       "\n",
       "mpl.figure.prototype.handle_close = function(fig, msg) {\n",
       "    var width = fig.canvas.width/mpl.ratio\n",
       "    fig.root.unbind('remove')\n",
       "\n",
       "    // Update the output cell to use the data from the current canvas.\n",
       "    fig.push_to_output();\n",
       "    var dataURL = fig.canvas.toDataURL();\n",
       "    // Re-enable the keyboard manager in IPython - without this line, in FF,\n",
       "    // the notebook keyboard shortcuts fail.\n",
       "    IPython.keyboard_manager.enable()\n",
       "    $(fig.parent_element).html('<img src=\"' + dataURL + '\" width=\"' + width + '\">');\n",
       "    fig.close_ws(fig, msg);\n",
       "}\n",
       "\n",
       "mpl.figure.prototype.close_ws = function(fig, msg){\n",
       "    fig.send_message('closing', msg);\n",
       "    // fig.ws.close()\n",
       "}\n",
       "\n",
       "mpl.figure.prototype.push_to_output = function(remove_interactive) {\n",
       "    // Turn the data on the canvas into data in the output cell.\n",
       "    var width = this.canvas.width/mpl.ratio\n",
       "    var dataURL = this.canvas.toDataURL();\n",
       "    this.cell_info[1]['text/html'] = '<img src=\"' + dataURL + '\" width=\"' + width + '\">';\n",
       "}\n",
       "\n",
       "mpl.figure.prototype.updated_canvas_event = function() {\n",
       "    // Tell IPython that the notebook contents must change.\n",
       "    IPython.notebook.set_dirty(true);\n",
       "    this.send_message(\"ack\", {});\n",
       "    var fig = this;\n",
       "    // Wait a second, then push the new image to the DOM so\n",
       "    // that it is saved nicely (might be nice to debounce this).\n",
       "    setTimeout(function () { fig.push_to_output() }, 1000);\n",
       "}\n",
       "\n",
       "mpl.figure.prototype._init_toolbar = function() {\n",
       "    var fig = this;\n",
       "\n",
       "    var nav_element = $('<div/>');\n",
       "    nav_element.attr('style', 'width: 100%');\n",
       "    this.root.append(nav_element);\n",
       "\n",
       "    // Define a callback function for later on.\n",
       "    function toolbar_event(event) {\n",
       "        return fig.toolbar_button_onclick(event['data']);\n",
       "    }\n",
       "    function toolbar_mouse_event(event) {\n",
       "        return fig.toolbar_button_onmouseover(event['data']);\n",
       "    }\n",
       "\n",
       "    for(var toolbar_ind in mpl.toolbar_items){\n",
       "        var name = mpl.toolbar_items[toolbar_ind][0];\n",
       "        var tooltip = mpl.toolbar_items[toolbar_ind][1];\n",
       "        var image = mpl.toolbar_items[toolbar_ind][2];\n",
       "        var method_name = mpl.toolbar_items[toolbar_ind][3];\n",
       "\n",
       "        if (!name) { continue; };\n",
       "\n",
       "        var button = $('<button class=\"btn btn-default\" href=\"#\" title=\"' + name + '\"><i class=\"fa ' + image + ' fa-lg\"></i></button>');\n",
       "        button.click(method_name, toolbar_event);\n",
       "        button.mouseover(tooltip, toolbar_mouse_event);\n",
       "        nav_element.append(button);\n",
       "    }\n",
       "\n",
       "    // Add the status bar.\n",
       "    var status_bar = $('<span class=\"mpl-message\" style=\"text-align:right; float: right;\"/>');\n",
       "    nav_element.append(status_bar);\n",
       "    this.message = status_bar[0];\n",
       "\n",
       "    // Add the close button to the window.\n",
       "    var buttongrp = $('<div class=\"btn-group inline pull-right\"></div>');\n",
       "    var button = $('<button class=\"btn btn-mini btn-primary\" href=\"#\" title=\"Stop Interaction\"><i class=\"fa fa-power-off icon-remove icon-large\"></i></button>');\n",
       "    button.click(function (evt) { fig.handle_close(fig, {}); } );\n",
       "    button.mouseover('Stop Interaction', toolbar_mouse_event);\n",
       "    buttongrp.append(button);\n",
       "    var titlebar = this.root.find($('.ui-dialog-titlebar'));\n",
       "    titlebar.prepend(buttongrp);\n",
       "}\n",
       "\n",
       "mpl.figure.prototype._root_extra_style = function(el){\n",
       "    var fig = this\n",
       "    el.on(\"remove\", function(){\n",
       "\tfig.close_ws(fig, {});\n",
       "    });\n",
       "}\n",
       "\n",
       "mpl.figure.prototype._canvas_extra_style = function(el){\n",
       "    // this is important to make the div 'focusable\n",
       "    el.attr('tabindex', 0)\n",
       "    // reach out to IPython and tell the keyboard manager to turn it's self\n",
       "    // off when our div gets focus\n",
       "\n",
       "    // location in version 3\n",
       "    if (IPython.notebook.keyboard_manager) {\n",
       "        IPython.notebook.keyboard_manager.register_events(el);\n",
       "    }\n",
       "    else {\n",
       "        // location in version 2\n",
       "        IPython.keyboard_manager.register_events(el);\n",
       "    }\n",
       "\n",
       "}\n",
       "\n",
       "mpl.figure.prototype._key_event_extra = function(event, name) {\n",
       "    var manager = IPython.notebook.keyboard_manager;\n",
       "    if (!manager)\n",
       "        manager = IPython.keyboard_manager;\n",
       "\n",
       "    // Check for shift+enter\n",
       "    if (event.shiftKey && event.which == 13) {\n",
       "        this.canvas_div.blur();\n",
       "        // select the cell after this one\n",
       "        var index = IPython.notebook.find_cell_index(this.cell_info[0]);\n",
       "        IPython.notebook.select(index + 1);\n",
       "    }\n",
       "}\n",
       "\n",
       "mpl.figure.prototype.handle_save = function(fig, msg) {\n",
       "    fig.ondownload(fig, null);\n",
       "}\n",
       "\n",
       "\n",
       "mpl.find_output_cell = function(html_output) {\n",
       "    // Return the cell and output element which can be found *uniquely* in the notebook.\n",
       "    // Note - this is a bit hacky, but it is done because the \"notebook_saving.Notebook\"\n",
       "    // IPython event is triggered only after the cells have been serialised, which for\n",
       "    // our purposes (turning an active figure into a static one), is too late.\n",
       "    var cells = IPython.notebook.get_cells();\n",
       "    var ncells = cells.length;\n",
       "    for (var i=0; i<ncells; i++) {\n",
       "        var cell = cells[i];\n",
       "        if (cell.cell_type === 'code'){\n",
       "            for (var j=0; j<cell.output_area.outputs.length; j++) {\n",
       "                var data = cell.output_area.outputs[j];\n",
       "                if (data.data) {\n",
       "                    // IPython >= 3 moved mimebundle to data attribute of output\n",
       "                    data = data.data;\n",
       "                }\n",
       "                if (data['text/html'] == html_output) {\n",
       "                    return [cell, data, j];\n",
       "                }\n",
       "            }\n",
       "        }\n",
       "    }\n",
       "}\n",
       "\n",
       "// Register the function which deals with the matplotlib target/channel.\n",
       "// The kernel may be null if the page has been refreshed.\n",
       "if (IPython.notebook.kernel != null) {\n",
       "    IPython.notebook.kernel.comm_manager.register_target('matplotlib', mpl.mpl_figure_comm);\n",
       "}\n"
      ],
      "text/plain": [
       "<IPython.core.display.Javascript object>"
      ]
     },
     "metadata": {},
     "output_type": "display_data"
    },
    {
     "data": {
      "text/html": [
       "<img src=\"data:image/png;base64,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\" width=\"999.75\">"
      ],
      "text/plain": [
       "<IPython.core.display.HTML object>"
      ]
     },
     "metadata": {},
     "output_type": "display_data"
    }
   ],
   "source": [
    "dual_train_plots(results.index,\n",
    "                 results.cost, results.val,\n",
    "                 results.cost, results.val)\n",
    "plt.tight_layout()\n",
    "plt.savefig(str(output / f'{name}_stats_a.png'))"
   ]
  },
  {
   "cell_type": "code",
   "execution_count": 1,
   "metadata": {},
   "outputs": [],
   "source": [
    "##quit()"
   ]
  },
  {
   "cell_type": "code",
   "execution_count": null,
   "metadata": {},
   "outputs": [],
   "source": []
  },
  {
   "cell_type": "code",
   "execution_count": null,
   "metadata": {},
   "outputs": [],
   "source": []
  }
 ],
 "metadata": {
  "kernelspec": {
   "display_name": "goofit-june2020",
   "language": "python",
   "name": "goofit-june2020"
  },
  "language_info": {
   "codemirror_mode": {
    "name": "ipython",
    "version": 3
   },
   "file_extension": ".py",
   "mimetype": "text/x-python",
   "name": "python",
   "nbconvert_exporter": "python",
   "pygments_lexer": "ipython3",
   "version": "3.7.6"
  }
 },
 "nbformat": 4,
 "nbformat_minor": 2
}
