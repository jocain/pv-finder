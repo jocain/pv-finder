{
 "cells": [
  {
   "cell_type": "code",
   "execution_count": 1,
   "metadata": {},
   "outputs": [],
   "source": [
    "##%matplotlib widget\n",
    "## with %matplotlib notebook: seems to require ipympl as part of environment, either\n",
    "## part of the conda environment or \"pip install ipympl\"\n",
    "## otherwise, does not show ANY plots in notebook, plt.savefig() works\n",
    "%matplotlib notebook  \n",
    "##%matplotlib inline    ## --plt.savefig()  works, but re-sizing does NOT\n"
   ]
  },
  {
   "cell_type": "markdown",
   "metadata": {},
   "source": [
    "This notebook is first attempt to read in track information and use it to predict the KDE used as input to PvFinder.\n"
   ]
  },
  {
   "cell_type": "markdown",
   "metadata": {},
   "source": [
    "Check the current GPU usage. Please try to be nice!"
   ]
  },
  {
   "cell_type": "code",
   "execution_count": 2,
   "metadata": {},
   "outputs": [
    {
     "name": "stdout",
     "output_type": "stream",
     "text": [
      "Wed Jul 29 21:54:15 2020       \r\n",
      "+-----------------------------------------------------------------------------+\r\n",
      "| NVIDIA-SMI 450.36.06    Driver Version: 450.36.06    CUDA Version: 11.0     |\r\n",
      "|-------------------------------+----------------------+----------------------+\r\n",
      "| GPU  Name        Persistence-M| Bus-Id        Disp.A | Volatile Uncorr. ECC |\r\n",
      "| Fan  Temp  Perf  Pwr:Usage/Cap|         Memory-Usage | GPU-Util  Compute M. |\r\n",
      "|                               |                      |               MIG M. |\r\n",
      "|===============================+======================+======================|\r\n",
      "|   0  GeForce RTX 208...  On   | 00000000:18:00.0 Off |                  N/A |\r\n",
      "| 52%   84C    P2   229W / 250W |   4586MiB / 11019MiB |     71%      Default |\r\n",
      "|                               |                      |                  N/A |\r\n",
      "+-------------------------------+----------------------+----------------------+\r\n",
      "|   1  GeForce RTX 208...  On   | 00000000:3B:00.0 Off |                  N/A |\r\n",
      "| 29%   42C    P8    21W / 250W |   6222MiB / 11019MiB |      0%      Default |\r\n",
      "|                               |                      |                  N/A |\r\n",
      "+-------------------------------+----------------------+----------------------+\r\n",
      "                                                                               \r\n",
      "+-----------------------------------------------------------------------------+\r\n",
      "| Processes:                                                                  |\r\n",
      "|  GPU   GI   CI        PID   Type   Process name                  GPU Memory |\r\n",
      "|        ID   ID                                                   Usage      |\r\n",
      "|=============================================================================|\r\n",
      "|    0   N/A  N/A    291611      C   ...s/june2020-gpu/bin/python     1391MiB |\r\n",
      "|    0   N/A  N/A    309049      C   ...s/june2020-gpu/bin/python     3191MiB |\r\n",
      "|    1   N/A  N/A      3787      G   /usr/bin/X                         33MiB |\r\n",
      "|    1   N/A  N/A      3843      G   /usr/bin/gnome-shell               25MiB |\r\n",
      "|    1   N/A  N/A    285602      C   ...s/june2020-gpu/bin/python     1187MiB |\r\n",
      "|    1   N/A  N/A    288441      C   ...s/june2020-gpu/bin/python     4971MiB |\r\n",
      "+-----------------------------------------------------------------------------+\r\n"
     ]
    }
   ],
   "source": [
    "!nvidia-smi"
   ]
  },
  {
   "cell_type": "markdown",
   "metadata": {},
   "source": [
    "> **WARNING**: The card numbers here are *not* the same as in CUDA. You have been warned."
   ]
  },
  {
   "cell_type": "markdown",
   "metadata": {},
   "source": [
    "## Imports"
   ]
  },
  {
   "cell_type": "code",
   "execution_count": 3,
   "metadata": {},
   "outputs": [],
   "source": [
    "import matplotlib.pyplot as plt\n",
    "import numpy as np\n",
    "import time\n",
    "import torch\n",
    "import pandas as pd\n",
    "\n",
    "# Python 3 standard library\n",
    "from pathlib import Path\n",
    "\n",
    "##from torchsummary import summary"
   ]
  },
  {
   "cell_type": "markdown",
   "metadata": {},
   "source": [
    "### Set up local parameters"
   ]
  },
  {
   "cell_type": "code",
   "execution_count": 4,
   "metadata": {},
   "outputs": [],
   "source": [
    "n_epochs = 100\n",
    "\n",
    "# Name is the output file name\n",
    "\n",
    "\n",
    "##  200719  mds\n",
    "folder = '29July2020_Trks_to_KDE_C__A_lossB_100_epochs_b64_3m4_nOut_100x100'\n",
    "name = '29July2020_Trks_to_KDE_C_A_lossB_100_epochs_b64_3m4_nOut_100x100'\n",
    "\n",
    "# Make an output folder named \"name\" (change if you want)\n",
    "\n",
    "## Special instructions for those working on goofy at UC\n",
    "## Please be very careful to make sure that your folder\n",
    "## does not live in a subdirectory of your home directory\n",
    "## this disk has very little capacity. Instead, use \n",
    "## a subdirectory in /share/lazy with a symbolic link to\n",
    "## it in this (the notebooks) subdirectory\n",
    "folder = 'ML/' + folder\n",
    "output = Path(folder)\n",
    "\n",
    "\n",
    "# Size of batches\n",
    "batch_size = 64\n",
    "# How fast to learn\n",
    "learning_rate = 3e-4"
   ]
  },
  {
   "cell_type": "markdown",
   "metadata": {},
   "source": [
    "Make the output directory if it does not exist:"
   ]
  },
  {
   "cell_type": "code",
   "execution_count": 5,
   "metadata": {},
   "outputs": [],
   "source": [
    "output.mkdir(exist_ok=True)"
   ]
  },
  {
   "cell_type": "markdown",
   "metadata": {},
   "source": [
    "## Get the helper functions\n",
    "\n",
    "Add the directory with the model\n",
    "definitions to the path so we can import from it:\n",
    "\n",
    "> When you type `import X`,\n",
    "Python searches `sys.path` for a python\n",
    "file named `X.py` to import. So we need to add the model directory to the path."
   ]
  },
  {
   "cell_type": "code",
   "execution_count": 6,
   "metadata": {
    "scrolled": true
   },
   "outputs": [],
   "source": [
    "# From model/collectdata.py\n",
    "from model.collectdata_kde_A import collect_t2kde_data\n",
    "\n",
    "# From model/loss.py\n",
    "##from loss import Loss\n",
    "from model.kde_loss_B import Loss\n",
    "\n",
    "\n",
    "from model.models_kde import TracksToKDE_C as Model\n",
    "\n",
    "\n",
    "from model.training_kde import trainNet, select_gpu, Results\n",
    "from model.plots import dual_train_plots, replace_in_ax"
   ]
  },
  {
   "cell_type": "code",
   "execution_count": 7,
   "metadata": {},
   "outputs": [],
   "source": [
    "# This gets built up during the run - do not rerun this cell\n",
    "results = pd.DataFrame([], columns=Results._fields)"
   ]
  },
  {
   "cell_type": "markdown",
   "metadata": {},
   "source": [
    "Set up Torch device configuration. All tensors and model parameters need to know where to be put.\n",
    "This takes a BUS ID number: The BUS ID is the same as the listing at the top of this script."
   ]
  },
  {
   "cell_type": "code",
   "execution_count": 8,
   "metadata": {},
   "outputs": [
    {
     "name": "stdout",
     "output_type": "stream",
     "text": [
      "1 available GPUs (initially using device 0):\n",
      "  0 GeForce RTX 2080 Ti\n"
     ]
    }
   ],
   "source": [
    "device = select_gpu(0)\n",
    "##device = \"cpu\""
   ]
  },
  {
   "cell_type": "markdown",
   "metadata": {},
   "source": [
    "## Loading data\n",
    "\n",
    "Load the dataset, split into parts, then move to device (see `collectdata.py` in the `../model` directory)"
   ]
  },
  {
   "cell_type": "code",
   "execution_count": 9,
   "metadata": {
    "scrolled": false
   },
   "outputs": [
    {
     "name": "stdout",
     "output_type": "stream",
     "text": [
      "Loading data...\n",
      "len(X) =  20000\n",
      "len(Xlist) =  1\n",
      "Loaded /share/lazy/pv-finder/20k_evts_for_KDE_learning_200716.h5 in 7.936 s\n",
      "outer loop X.shape =  (20000, 6, 600)\n",
      "Constructing 18000 event dataset took 3.233 s\n",
      "x_t.shape =  torch.Size([18000, 6, 600])\n",
      "x_t.shape[0] =  18000\n",
      "x_t.shape[1] =  6\n",
      "x_t.shape =  torch.Size([18000, 6, 600])\n",
      "Loading data...\n",
      "len(X) =  20000\n",
      "len(Xlist) =  1\n",
      "Loaded /share/lazy/pv-finder/20k_evts_for_KDE_learning_200716.h5 in 7.367 s\n",
      "outer loop X.shape =  (20000, 6, 600)\n",
      "Constructing 2000 event dataset took 0.04388 s\n",
      "x_t.shape =  torch.Size([2000, 6, 600])\n",
      "x_t.shape[0] =  2000\n",
      "x_t.shape[1] =  6\n",
      "x_t.shape =  torch.Size([2000, 6, 600])\n"
     ]
    }
   ],
   "source": [
    "\n",
    "## Training dataset. You can put as many files here as desired.\n",
    "\n",
    "## in this DEMO example we use only one 80K training set -- the model starts with well-trained weights,\n",
    "## and using a smaller training set reduces both the time to load the data and the time to train an epoch\n",
    "\n",
    "train_loader = collect_t2kde_data('/share/lazy/pv-finder/20k_evts_for_KDE_learning_200716.h5',\n",
    "##train_loader = collect_t2kde_data('/share/lazy/pv-finder/test_data_for_KDE_learning_BastilleDay20.h5',\n",
    "                            batch_size=batch_size,\n",
    "## if we are using a larger dataset (240K events, with the datasets above, and 11 GB  of GPU memory),\n",
    "## the dataset will overflow the GPU memory; device=device will allow the data to move back\n",
    "## and forth between the CPU and GPU memory. While this allows use of a larger dataset, it slows\n",
    "## down performance by about 10%.  So comment out when not needed.\n",
    "                           device=device,\n",
    "                           slice = slice(None,18000)\n",
    "                           )\n",
    "                            \n",
    "# Validation dataset. You can slice to reduce the size.\n",
    "## mds no separate validation set yet,\n",
    "val_loader = collect_t2kde_data('/share/lazy/pv-finder/20k_evts_for_KDE_learning_200716.h5',\n",
    "                            batch_size=batch_size,\n",
    "                            device=device,\n",
    "                            slice = slice(18000,None)\n",
    "                           )"
   ]
  },
  {
   "cell_type": "markdown",
   "metadata": {},
   "source": [
    "# Preparing the model"
   ]
  },
  {
   "cell_type": "markdown",
   "metadata": {},
   "source": [
    "Prepare a model, use multiple GPUs if they are VISIBLE, and move the model to the device."
   ]
  },
  {
   "cell_type": "code",
   "execution_count": 10,
   "metadata": {
    "scrolled": true
   },
   "outputs": [
    {
     "name": "stdout",
     "output_type": "stream",
     "text": [
      "ct, child =  0    Linear(in_features=6, out_features=100, bias=True)\n",
      "ct, child =  1    Linear(in_features=100, out_features=100, bias=True)\n",
      "ct, child =  2    Linear(in_features=100, out_features=4000, bias=True)\n"
     ]
    }
   ],
   "source": [
    "nOut1 = 100\n",
    "nOut2 = 100\n",
    "model = Model(nOut1,nOut2)\n",
    "\n",
    "##summary(model, input_size=(4, 4000))\n",
    "##print(model.parameters)\n",
    "\n",
    "## add the following code to allow the user to freeze the some of the weights corresponding \n",
    "## to those taken from an earlier model trained with the original target histograms\n",
    "## presumably -- this leaves either the perturbative filter \"fixed\" and lets the \n",
    "## learning focus on the non-perturbative features, so get started faster, or vice versa\n",
    "ct = 0\n",
    "for child in model.children():\n",
    "  print('ct, child = ',ct, \"  \", child)\n",
    "  if ct < 0:\n",
    "    print(\"     About to set param.requires_grad=False for ct = \", ct, \"params\")\n",
    "    for param in child.parameters():\n",
    "        param.requires_grad = False \n",
    "  ct += 1\n",
    "##  mds 200121 loss = Loss(epsilon=1e-5,coefficient=1.0)\n",
    "##  loss = Loss(epsilon=1e-5,coefficient=2.5)\n",
    "loss = Loss(epsilon=1e-5)\n",
    "optimizer = torch.optim.Adam(model.parameters(), lr=learning_rate)"
   ]
  },
  {
   "cell_type": "code",
   "execution_count": 11,
   "metadata": {
    "scrolled": true
   },
   "outputs": [],
   "source": [
    "##print(\"Let's use\", torch.cuda.device_count(), \"GPUs!\")\n",
    "##if torch.cuda.device_count() > 1:\n",
    "##    model = torch.nn.DataParallel(model)"
   ]
  },
  {
   "cell_type": "markdown",
   "metadata": {},
   "source": [
    "Let's move the model's weight matricies to the GPU:"
   ]
  },
  {
   "cell_type": "code",
   "execution_count": 12,
   "metadata": {
    "scrolled": false
   },
   "outputs": [
    {
     "name": "stdout",
     "output_type": "stream",
     "text": [
      "output =  ML/29July2020_Trks_to_KDE_C__A_lossB_100_epochs_b64_3m4_nOut_100x100\n",
      "for model_dict\n",
      "index, k =   0    layer1.weight\n",
      "index, k =   1    layer1.bias\n",
      "index, k =   2    layer2.weight\n",
      "index, k =   3    layer2.bias\n",
      "index, k =   4    layer3.weight\n",
      "index, k =   5    layer3.bias\n",
      " \n",
      "   for pretrained_dict\n",
      "pretrained_dict iterated\n"
     ]
    }
   ],
   "source": [
    "print('output = ',output)\n",
    "##print('oldOutput = ',oldOutput)\n",
    "##  use the first four layers from a pre-existing model\n",
    "##  see example at https://discuss.pytorch.org/t/how-to-load-part-of-pre-trained-model/1113\n",
    "\n",
    "##   ML -> /share/lazy/sokoloff/ML\n",
    "model_dict = model.state_dict()\n",
    "## mds 190725 for debugging\n",
    "print(\"for model_dict\")\n",
    "index = 0\n",
    "for k,v in model_dict.items():\n",
    "    print(\"index, k =  \",index,\"  \",k)\n",
    "    index = index+1\n",
    "##    print(\"value = \", v)\n",
    " \n",
    "updated_dict = model_dict\n",
    "##print(\"updated_dict = \",updated_dict)\n",
    "## when starting \"ab initio\", reduce biases as the bias gets summed for each track\n",
    "## contributing to the predicted KDE\n",
    "updated_dict[\"layer1.bias\"] = 0.005*model_dict[\"layer1.bias\"]\n",
    "updated_dict[\"layer2.bias\"] = 0.005*model_dict[\"layer2.bias\"]\n",
    "updated_dict[\"layer3.bias\"] = 0.005*model_dict[\"layer3.bias\"]\n",
    "\n",
    "model.load_state_dict(updated_dict,strict=False)\n",
    "\n",
    "model_dict = model.state_dict()\n",
    "##print(\"updated model_dict = \",model_dict)\n",
    "\n",
    "print(\" \\n\",\"  for pretrained_dict\")\n",
    "index = 0\n",
    "##for k,v in pretrained_dict.items():\n",
    "##    print(\"index, k =  \",index,\"  \",k)\n",
    "##    index = index+1\n",
    "## mds  \n",
    "\n",
    "##pretrained_dict = torch.load('ML/29July2020_Trks_to_KDE_C_lossB_100epochs_b64_1m3_nOut_50x50/29July2020_Trks_to_KDE_C_lossB_100epochs_b64_1m3_nOut_50x50_final.pyt')\n",
    "##print(\"model_dict instantiated\")\n",
    "# 1. filter out unnecessary keys\n",
    "##pretrained_dict = {k: v for k, v in pretrained_dict.items() if k in model_dict}\n",
    "print(\"pretrained_dict iterated\")\n",
    "# 2. overwrite entries in the existing state dict\n",
    "##model_dict.update(pretrained_dict) \n",
    "##\n",
    "#   when starting from a model with a fully connected last layer rather than a convolutional layer\n",
    "# 3. load the new state dict\n",
    "#   need to use strict=False as the two models state model attributes do not agree exactly\n",
    "#   see https://pytorch.org/docs/master/_modules/torch/nn/modules/module.html#Module.load_state_dict\n",
    "\n",
    "##model.load_state_dict(pretrained_dict,strict=False)\n",
    "\n",
    "## print('model_dict =    ', model_dict)\n"
   ]
  },
  {
   "cell_type": "code",
   "execution_count": 13,
   "metadata": {},
   "outputs": [],
   "source": [
    "##print('validation.dataset.tensors = ',validation.dataset.tensors)\n",
    "fig_size = plt.rcParams[\"figure.figsize\"]\n",
    "fig_size[0] = 10\n",
    "fig_size[1] = 4\n",
    "plt.rcParams[\"figure.figsize\"] = fig_size"
   ]
  },
  {
   "cell_type": "code",
   "execution_count": 14,
   "metadata": {
    "scrolled": true
   },
   "outputs": [],
   "source": [
    "model = model.to(device)"
   ]
  },
  {
   "cell_type": "markdown",
   "metadata": {
    "scrolled": false
   },
   "source": [
    "with torch.no_grad():\n",
    "    counter = 0\n",
    "    event = 0\n",
    "    print(\"train_loader = \",train_loader)\n",
    "    for inputs, labels in train_loader:\n",
    "##        print(\"counter = \",counter)\n",
    "##        print(\"inputs = \",inputs)\n",
    "        print(\"inputs.shape = \",inputs.shape)\n",
    "        if inputs.device != device:\n",
    "            inputs, labels = inputs.to(device), labels.to(device)\n",
    "            \n",
    "        outputs = model(inputs)\n",
    "##        print(\"outputs.shape = \",outputs.shape)\n",
    "        nEvts = outputs.shape[0]\n",
    "        for iEvt in range(nEvts):\n",
    "            y_pred = outputs[iEvt,:]\n",
    "            y_pred = y_pred.cpu().numpy()\n",
    "            \n",
    "            event = event +1\n",
    "##            print(\"event = \",event)\n",
    "            if (event<5):\n",
    "                plt.figure()\n",
    "                plt.plot(y_pred[0:50])\n",
    "                plt.show()\n",
    "                \n",
    "##                print(\"  point AA \")\n",
    "                features = inputs[iEvt,:]\n",
    "                features = features[np.newaxis,:,:]\n",
    "                \n",
    "                \n",
    "                print(\"features.shape = \",features.shape)\n",
    "                \n",
    "                output_A = model(features)\n",
    "                y_prime = output_A[0,:]\n",
    "                y_prime = y_prime.cpu().numpy()\n",
    "                plt.figure()\n",
    "                plt.plot(y_prime[0:50], color=\"r\")\n",
    "                plt.show()\n",
    "                \n",
    "            \n",
    "\n",
    "##        print(\"nEvts = \",nEvts)\n",
    "        \n",
    "        counter = counter+1\n",
    "        \n",
    "        \n",
    "        "
   ]
  },
  {
   "cell_type": "code",
   "execution_count": 15,
   "metadata": {
    "scrolled": false
   },
   "outputs": [
    {
     "data": {
      "application/javascript": [
       "/* Put everything inside the global mpl namespace */\n",
       "window.mpl = {};\n",
       "\n",
       "\n",
       "mpl.get_websocket_type = function() {\n",
       "    if (typeof(WebSocket) !== 'undefined') {\n",
       "        return WebSocket;\n",
       "    } else if (typeof(MozWebSocket) !== 'undefined') {\n",
       "        return MozWebSocket;\n",
       "    } else {\n",
       "        alert('Your browser does not have WebSocket support. ' +\n",
       "              'Please try Chrome, Safari or Firefox ≥ 6. ' +\n",
       "              'Firefox 4 and 5 are also supported but you ' +\n",
       "              'have to enable WebSockets in about:config.');\n",
       "    };\n",
       "}\n",
       "\n",
       "mpl.figure = function(figure_id, websocket, ondownload, parent_element) {\n",
       "    this.id = figure_id;\n",
       "\n",
       "    this.ws = websocket;\n",
       "\n",
       "    this.supports_binary = (this.ws.binaryType != undefined);\n",
       "\n",
       "    if (!this.supports_binary) {\n",
       "        var warnings = document.getElementById(\"mpl-warnings\");\n",
       "        if (warnings) {\n",
       "            warnings.style.display = 'block';\n",
       "            warnings.textContent = (\n",
       "                \"This browser does not support binary websocket messages. \" +\n",
       "                    \"Performance may be slow.\");\n",
       "        }\n",
       "    }\n",
       "\n",
       "    this.imageObj = new Image();\n",
       "\n",
       "    this.context = undefined;\n",
       "    this.message = undefined;\n",
       "    this.canvas = undefined;\n",
       "    this.rubberband_canvas = undefined;\n",
       "    this.rubberband_context = undefined;\n",
       "    this.format_dropdown = undefined;\n",
       "\n",
       "    this.image_mode = 'full';\n",
       "\n",
       "    this.root = $('<div/>');\n",
       "    this._root_extra_style(this.root)\n",
       "    this.root.attr('style', 'display: inline-block');\n",
       "\n",
       "    $(parent_element).append(this.root);\n",
       "\n",
       "    this._init_header(this);\n",
       "    this._init_canvas(this);\n",
       "    this._init_toolbar(this);\n",
       "\n",
       "    var fig = this;\n",
       "\n",
       "    this.waiting = false;\n",
       "\n",
       "    this.ws.onopen =  function () {\n",
       "            fig.send_message(\"supports_binary\", {value: fig.supports_binary});\n",
       "            fig.send_message(\"send_image_mode\", {});\n",
       "            if (mpl.ratio != 1) {\n",
       "                fig.send_message(\"set_dpi_ratio\", {'dpi_ratio': mpl.ratio});\n",
       "            }\n",
       "            fig.send_message(\"refresh\", {});\n",
       "        }\n",
       "\n",
       "    this.imageObj.onload = function() {\n",
       "            if (fig.image_mode == 'full') {\n",
       "                // Full images could contain transparency (where diff images\n",
       "                // almost always do), so we need to clear the canvas so that\n",
       "                // there is no ghosting.\n",
       "                fig.context.clearRect(0, 0, fig.canvas.width, fig.canvas.height);\n",
       "            }\n",
       "            fig.context.drawImage(fig.imageObj, 0, 0);\n",
       "        };\n",
       "\n",
       "    this.imageObj.onunload = function() {\n",
       "        fig.ws.close();\n",
       "    }\n",
       "\n",
       "    this.ws.onmessage = this._make_on_message_function(this);\n",
       "\n",
       "    this.ondownload = ondownload;\n",
       "}\n",
       "\n",
       "mpl.figure.prototype._init_header = function() {\n",
       "    var titlebar = $(\n",
       "        '<div class=\"ui-dialog-titlebar ui-widget-header ui-corner-all ' +\n",
       "        'ui-helper-clearfix\"/>');\n",
       "    var titletext = $(\n",
       "        '<div class=\"ui-dialog-title\" style=\"width: 100%; ' +\n",
       "        'text-align: center; padding: 3px;\"/>');\n",
       "    titlebar.append(titletext)\n",
       "    this.root.append(titlebar);\n",
       "    this.header = titletext[0];\n",
       "}\n",
       "\n",
       "\n",
       "\n",
       "mpl.figure.prototype._canvas_extra_style = function(canvas_div) {\n",
       "\n",
       "}\n",
       "\n",
       "\n",
       "mpl.figure.prototype._root_extra_style = function(canvas_div) {\n",
       "\n",
       "}\n",
       "\n",
       "mpl.figure.prototype._init_canvas = function() {\n",
       "    var fig = this;\n",
       "\n",
       "    var canvas_div = $('<div/>');\n",
       "\n",
       "    canvas_div.attr('style', 'position: relative; clear: both; outline: 0');\n",
       "\n",
       "    function canvas_keyboard_event(event) {\n",
       "        return fig.key_event(event, event['data']);\n",
       "    }\n",
       "\n",
       "    canvas_div.keydown('key_press', canvas_keyboard_event);\n",
       "    canvas_div.keyup('key_release', canvas_keyboard_event);\n",
       "    this.canvas_div = canvas_div\n",
       "    this._canvas_extra_style(canvas_div)\n",
       "    this.root.append(canvas_div);\n",
       "\n",
       "    var canvas = $('<canvas/>');\n",
       "    canvas.addClass('mpl-canvas');\n",
       "    canvas.attr('style', \"left: 0; top: 0; z-index: 0; outline: 0\")\n",
       "\n",
       "    this.canvas = canvas[0];\n",
       "    this.context = canvas[0].getContext(\"2d\");\n",
       "\n",
       "    var backingStore = this.context.backingStorePixelRatio ||\n",
       "\tthis.context.webkitBackingStorePixelRatio ||\n",
       "\tthis.context.mozBackingStorePixelRatio ||\n",
       "\tthis.context.msBackingStorePixelRatio ||\n",
       "\tthis.context.oBackingStorePixelRatio ||\n",
       "\tthis.context.backingStorePixelRatio || 1;\n",
       "\n",
       "    mpl.ratio = (window.devicePixelRatio || 1) / backingStore;\n",
       "\n",
       "    var rubberband = $('<canvas/>');\n",
       "    rubberband.attr('style', \"position: absolute; left: 0; top: 0; z-index: 1;\")\n",
       "\n",
       "    var pass_mouse_events = true;\n",
       "\n",
       "    canvas_div.resizable({\n",
       "        start: function(event, ui) {\n",
       "            pass_mouse_events = false;\n",
       "        },\n",
       "        resize: function(event, ui) {\n",
       "            fig.request_resize(ui.size.width, ui.size.height);\n",
       "        },\n",
       "        stop: function(event, ui) {\n",
       "            pass_mouse_events = true;\n",
       "            fig.request_resize(ui.size.width, ui.size.height);\n",
       "        },\n",
       "    });\n",
       "\n",
       "    function mouse_event_fn(event) {\n",
       "        if (pass_mouse_events)\n",
       "            return fig.mouse_event(event, event['data']);\n",
       "    }\n",
       "\n",
       "    rubberband.mousedown('button_press', mouse_event_fn);\n",
       "    rubberband.mouseup('button_release', mouse_event_fn);\n",
       "    // Throttle sequential mouse events to 1 every 20ms.\n",
       "    rubberband.mousemove('motion_notify', mouse_event_fn);\n",
       "\n",
       "    rubberband.mouseenter('figure_enter', mouse_event_fn);\n",
       "    rubberband.mouseleave('figure_leave', mouse_event_fn);\n",
       "\n",
       "    canvas_div.on(\"wheel\", function (event) {\n",
       "        event = event.originalEvent;\n",
       "        event['data'] = 'scroll'\n",
       "        if (event.deltaY < 0) {\n",
       "            event.step = 1;\n",
       "        } else {\n",
       "            event.step = -1;\n",
       "        }\n",
       "        mouse_event_fn(event);\n",
       "    });\n",
       "\n",
       "    canvas_div.append(canvas);\n",
       "    canvas_div.append(rubberband);\n",
       "\n",
       "    this.rubberband = rubberband;\n",
       "    this.rubberband_canvas = rubberband[0];\n",
       "    this.rubberband_context = rubberband[0].getContext(\"2d\");\n",
       "    this.rubberband_context.strokeStyle = \"#000000\";\n",
       "\n",
       "    this._resize_canvas = function(width, height) {\n",
       "        // Keep the size of the canvas, canvas container, and rubber band\n",
       "        // canvas in synch.\n",
       "        canvas_div.css('width', width)\n",
       "        canvas_div.css('height', height)\n",
       "\n",
       "        canvas.attr('width', width * mpl.ratio);\n",
       "        canvas.attr('height', height * mpl.ratio);\n",
       "        canvas.attr('style', 'width: ' + width + 'px; height: ' + height + 'px;');\n",
       "\n",
       "        rubberband.attr('width', width);\n",
       "        rubberband.attr('height', height);\n",
       "    }\n",
       "\n",
       "    // Set the figure to an initial 600x600px, this will subsequently be updated\n",
       "    // upon first draw.\n",
       "    this._resize_canvas(600, 600);\n",
       "\n",
       "    // Disable right mouse context menu.\n",
       "    $(this.rubberband_canvas).bind(\"contextmenu\",function(e){\n",
       "        return false;\n",
       "    });\n",
       "\n",
       "    function set_focus () {\n",
       "        canvas.focus();\n",
       "        canvas_div.focus();\n",
       "    }\n",
       "\n",
       "    window.setTimeout(set_focus, 100);\n",
       "}\n",
       "\n",
       "mpl.figure.prototype._init_toolbar = function() {\n",
       "    var fig = this;\n",
       "\n",
       "    var nav_element = $('<div/>');\n",
       "    nav_element.attr('style', 'width: 100%');\n",
       "    this.root.append(nav_element);\n",
       "\n",
       "    // Define a callback function for later on.\n",
       "    function toolbar_event(event) {\n",
       "        return fig.toolbar_button_onclick(event['data']);\n",
       "    }\n",
       "    function toolbar_mouse_event(event) {\n",
       "        return fig.toolbar_button_onmouseover(event['data']);\n",
       "    }\n",
       "\n",
       "    for(var toolbar_ind in mpl.toolbar_items) {\n",
       "        var name = mpl.toolbar_items[toolbar_ind][0];\n",
       "        var tooltip = mpl.toolbar_items[toolbar_ind][1];\n",
       "        var image = mpl.toolbar_items[toolbar_ind][2];\n",
       "        var method_name = mpl.toolbar_items[toolbar_ind][3];\n",
       "\n",
       "        if (!name) {\n",
       "            // put a spacer in here.\n",
       "            continue;\n",
       "        }\n",
       "        var button = $('<button/>');\n",
       "        button.addClass('ui-button ui-widget ui-state-default ui-corner-all ' +\n",
       "                        'ui-button-icon-only');\n",
       "        button.attr('role', 'button');\n",
       "        button.attr('aria-disabled', 'false');\n",
       "        button.click(method_name, toolbar_event);\n",
       "        button.mouseover(tooltip, toolbar_mouse_event);\n",
       "\n",
       "        var icon_img = $('<span/>');\n",
       "        icon_img.addClass('ui-button-icon-primary ui-icon');\n",
       "        icon_img.addClass(image);\n",
       "        icon_img.addClass('ui-corner-all');\n",
       "\n",
       "        var tooltip_span = $('<span/>');\n",
       "        tooltip_span.addClass('ui-button-text');\n",
       "        tooltip_span.html(tooltip);\n",
       "\n",
       "        button.append(icon_img);\n",
       "        button.append(tooltip_span);\n",
       "\n",
       "        nav_element.append(button);\n",
       "    }\n",
       "\n",
       "    var fmt_picker_span = $('<span/>');\n",
       "\n",
       "    var fmt_picker = $('<select/>');\n",
       "    fmt_picker.addClass('mpl-toolbar-option ui-widget ui-widget-content');\n",
       "    fmt_picker_span.append(fmt_picker);\n",
       "    nav_element.append(fmt_picker_span);\n",
       "    this.format_dropdown = fmt_picker[0];\n",
       "\n",
       "    for (var ind in mpl.extensions) {\n",
       "        var fmt = mpl.extensions[ind];\n",
       "        var option = $(\n",
       "            '<option/>', {selected: fmt === mpl.default_extension}).html(fmt);\n",
       "        fmt_picker.append(option);\n",
       "    }\n",
       "\n",
       "    // Add hover states to the ui-buttons\n",
       "    $( \".ui-button\" ).hover(\n",
       "        function() { $(this).addClass(\"ui-state-hover\");},\n",
       "        function() { $(this).removeClass(\"ui-state-hover\");}\n",
       "    );\n",
       "\n",
       "    var status_bar = $('<span class=\"mpl-message\"/>');\n",
       "    nav_element.append(status_bar);\n",
       "    this.message = status_bar[0];\n",
       "}\n",
       "\n",
       "mpl.figure.prototype.request_resize = function(x_pixels, y_pixels) {\n",
       "    // Request matplotlib to resize the figure. Matplotlib will then trigger a resize in the client,\n",
       "    // which will in turn request a refresh of the image.\n",
       "    this.send_message('resize', {'width': x_pixels, 'height': y_pixels});\n",
       "}\n",
       "\n",
       "mpl.figure.prototype.send_message = function(type, properties) {\n",
       "    properties['type'] = type;\n",
       "    properties['figure_id'] = this.id;\n",
       "    this.ws.send(JSON.stringify(properties));\n",
       "}\n",
       "\n",
       "mpl.figure.prototype.send_draw_message = function() {\n",
       "    if (!this.waiting) {\n",
       "        this.waiting = true;\n",
       "        this.ws.send(JSON.stringify({type: \"draw\", figure_id: this.id}));\n",
       "    }\n",
       "}\n",
       "\n",
       "\n",
       "mpl.figure.prototype.handle_save = function(fig, msg) {\n",
       "    var format_dropdown = fig.format_dropdown;\n",
       "    var format = format_dropdown.options[format_dropdown.selectedIndex].value;\n",
       "    fig.ondownload(fig, format);\n",
       "}\n",
       "\n",
       "\n",
       "mpl.figure.prototype.handle_resize = function(fig, msg) {\n",
       "    var size = msg['size'];\n",
       "    if (size[0] != fig.canvas.width || size[1] != fig.canvas.height) {\n",
       "        fig._resize_canvas(size[0], size[1]);\n",
       "        fig.send_message(\"refresh\", {});\n",
       "    };\n",
       "}\n",
       "\n",
       "mpl.figure.prototype.handle_rubberband = function(fig, msg) {\n",
       "    var x0 = msg['x0'] / mpl.ratio;\n",
       "    var y0 = (fig.canvas.height - msg['y0']) / mpl.ratio;\n",
       "    var x1 = msg['x1'] / mpl.ratio;\n",
       "    var y1 = (fig.canvas.height - msg['y1']) / mpl.ratio;\n",
       "    x0 = Math.floor(x0) + 0.5;\n",
       "    y0 = Math.floor(y0) + 0.5;\n",
       "    x1 = Math.floor(x1) + 0.5;\n",
       "    y1 = Math.floor(y1) + 0.5;\n",
       "    var min_x = Math.min(x0, x1);\n",
       "    var min_y = Math.min(y0, y1);\n",
       "    var width = Math.abs(x1 - x0);\n",
       "    var height = Math.abs(y1 - y0);\n",
       "\n",
       "    fig.rubberband_context.clearRect(\n",
       "        0, 0, fig.canvas.width / mpl.ratio, fig.canvas.height / mpl.ratio);\n",
       "\n",
       "    fig.rubberband_context.strokeRect(min_x, min_y, width, height);\n",
       "}\n",
       "\n",
       "mpl.figure.prototype.handle_figure_label = function(fig, msg) {\n",
       "    // Updates the figure title.\n",
       "    fig.header.textContent = msg['label'];\n",
       "}\n",
       "\n",
       "mpl.figure.prototype.handle_cursor = function(fig, msg) {\n",
       "    var cursor = msg['cursor'];\n",
       "    switch(cursor)\n",
       "    {\n",
       "    case 0:\n",
       "        cursor = 'pointer';\n",
       "        break;\n",
       "    case 1:\n",
       "        cursor = 'default';\n",
       "        break;\n",
       "    case 2:\n",
       "        cursor = 'crosshair';\n",
       "        break;\n",
       "    case 3:\n",
       "        cursor = 'move';\n",
       "        break;\n",
       "    }\n",
       "    fig.rubberband_canvas.style.cursor = cursor;\n",
       "}\n",
       "\n",
       "mpl.figure.prototype.handle_message = function(fig, msg) {\n",
       "    fig.message.textContent = msg['message'];\n",
       "}\n",
       "\n",
       "mpl.figure.prototype.handle_draw = function(fig, msg) {\n",
       "    // Request the server to send over a new figure.\n",
       "    fig.send_draw_message();\n",
       "}\n",
       "\n",
       "mpl.figure.prototype.handle_image_mode = function(fig, msg) {\n",
       "    fig.image_mode = msg['mode'];\n",
       "}\n",
       "\n",
       "mpl.figure.prototype.updated_canvas_event = function() {\n",
       "    // Called whenever the canvas gets updated.\n",
       "    this.send_message(\"ack\", {});\n",
       "}\n",
       "\n",
       "// A function to construct a web socket function for onmessage handling.\n",
       "// Called in the figure constructor.\n",
       "mpl.figure.prototype._make_on_message_function = function(fig) {\n",
       "    return function socket_on_message(evt) {\n",
       "        if (evt.data instanceof Blob) {\n",
       "            /* FIXME: We get \"Resource interpreted as Image but\n",
       "             * transferred with MIME type text/plain:\" errors on\n",
       "             * Chrome.  But how to set the MIME type?  It doesn't seem\n",
       "             * to be part of the websocket stream */\n",
       "            evt.data.type = \"image/png\";\n",
       "\n",
       "            /* Free the memory for the previous frames */\n",
       "            if (fig.imageObj.src) {\n",
       "                (window.URL || window.webkitURL).revokeObjectURL(\n",
       "                    fig.imageObj.src);\n",
       "            }\n",
       "\n",
       "            fig.imageObj.src = (window.URL || window.webkitURL).createObjectURL(\n",
       "                evt.data);\n",
       "            fig.updated_canvas_event();\n",
       "            fig.waiting = false;\n",
       "            return;\n",
       "        }\n",
       "        else if (typeof evt.data === 'string' && evt.data.slice(0, 21) == \"data:image/png;base64\") {\n",
       "            fig.imageObj.src = evt.data;\n",
       "            fig.updated_canvas_event();\n",
       "            fig.waiting = false;\n",
       "            return;\n",
       "        }\n",
       "\n",
       "        var msg = JSON.parse(evt.data);\n",
       "        var msg_type = msg['type'];\n",
       "\n",
       "        // Call the  \"handle_{type}\" callback, which takes\n",
       "        // the figure and JSON message as its only arguments.\n",
       "        try {\n",
       "            var callback = fig[\"handle_\" + msg_type];\n",
       "        } catch (e) {\n",
       "            console.log(\"No handler for the '\" + msg_type + \"' message type: \", msg);\n",
       "            return;\n",
       "        }\n",
       "\n",
       "        if (callback) {\n",
       "            try {\n",
       "                // console.log(\"Handling '\" + msg_type + \"' message: \", msg);\n",
       "                callback(fig, msg);\n",
       "            } catch (e) {\n",
       "                console.log(\"Exception inside the 'handler_\" + msg_type + \"' callback:\", e, e.stack, msg);\n",
       "            }\n",
       "        }\n",
       "    };\n",
       "}\n",
       "\n",
       "// from http://stackoverflow.com/questions/1114465/getting-mouse-location-in-canvas\n",
       "mpl.findpos = function(e) {\n",
       "    //this section is from http://www.quirksmode.org/js/events_properties.html\n",
       "    var targ;\n",
       "    if (!e)\n",
       "        e = window.event;\n",
       "    if (e.target)\n",
       "        targ = e.target;\n",
       "    else if (e.srcElement)\n",
       "        targ = e.srcElement;\n",
       "    if (targ.nodeType == 3) // defeat Safari bug\n",
       "        targ = targ.parentNode;\n",
       "\n",
       "    // jQuery normalizes the pageX and pageY\n",
       "    // pageX,Y are the mouse positions relative to the document\n",
       "    // offset() returns the position of the element relative to the document\n",
       "    var x = e.pageX - $(targ).offset().left;\n",
       "    var y = e.pageY - $(targ).offset().top;\n",
       "\n",
       "    return {\"x\": x, \"y\": y};\n",
       "};\n",
       "\n",
       "/*\n",
       " * return a copy of an object with only non-object keys\n",
       " * we need this to avoid circular references\n",
       " * http://stackoverflow.com/a/24161582/3208463\n",
       " */\n",
       "function simpleKeys (original) {\n",
       "  return Object.keys(original).reduce(function (obj, key) {\n",
       "    if (typeof original[key] !== 'object')\n",
       "        obj[key] = original[key]\n",
       "    return obj;\n",
       "  }, {});\n",
       "}\n",
       "\n",
       "mpl.figure.prototype.mouse_event = function(event, name) {\n",
       "    var canvas_pos = mpl.findpos(event)\n",
       "\n",
       "    if (name === 'button_press')\n",
       "    {\n",
       "        this.canvas.focus();\n",
       "        this.canvas_div.focus();\n",
       "    }\n",
       "\n",
       "    var x = canvas_pos.x * mpl.ratio;\n",
       "    var y = canvas_pos.y * mpl.ratio;\n",
       "\n",
       "    this.send_message(name, {x: x, y: y, button: event.button,\n",
       "                             step: event.step,\n",
       "                             guiEvent: simpleKeys(event)});\n",
       "\n",
       "    /* This prevents the web browser from automatically changing to\n",
       "     * the text insertion cursor when the button is pressed.  We want\n",
       "     * to control all of the cursor setting manually through the\n",
       "     * 'cursor' event from matplotlib */\n",
       "    event.preventDefault();\n",
       "    return false;\n",
       "}\n",
       "\n",
       "mpl.figure.prototype._key_event_extra = function(event, name) {\n",
       "    // Handle any extra behaviour associated with a key event\n",
       "}\n",
       "\n",
       "mpl.figure.prototype.key_event = function(event, name) {\n",
       "\n",
       "    // Prevent repeat events\n",
       "    if (name == 'key_press')\n",
       "    {\n",
       "        if (event.which === this._key)\n",
       "            return;\n",
       "        else\n",
       "            this._key = event.which;\n",
       "    }\n",
       "    if (name == 'key_release')\n",
       "        this._key = null;\n",
       "\n",
       "    var value = '';\n",
       "    if (event.ctrlKey && event.which != 17)\n",
       "        value += \"ctrl+\";\n",
       "    if (event.altKey && event.which != 18)\n",
       "        value += \"alt+\";\n",
       "    if (event.shiftKey && event.which != 16)\n",
       "        value += \"shift+\";\n",
       "\n",
       "    value += 'k';\n",
       "    value += event.which.toString();\n",
       "\n",
       "    this._key_event_extra(event, name);\n",
       "\n",
       "    this.send_message(name, {key: value,\n",
       "                             guiEvent: simpleKeys(event)});\n",
       "    return false;\n",
       "}\n",
       "\n",
       "mpl.figure.prototype.toolbar_button_onclick = function(name) {\n",
       "    if (name == 'download') {\n",
       "        this.handle_save(this, null);\n",
       "    } else {\n",
       "        this.send_message(\"toolbar_button\", {name: name});\n",
       "    }\n",
       "};\n",
       "\n",
       "mpl.figure.prototype.toolbar_button_onmouseover = function(tooltip) {\n",
       "    this.message.textContent = tooltip;\n",
       "};\n",
       "mpl.toolbar_items = [[\"Home\", \"Reset original view\", \"fa fa-home icon-home\", \"home\"], [\"Back\", \"Back to previous view\", \"fa fa-arrow-left icon-arrow-left\", \"back\"], [\"Forward\", \"Forward to next view\", \"fa fa-arrow-right icon-arrow-right\", \"forward\"], [\"\", \"\", \"\", \"\"], [\"Pan\", \"Pan axes with left mouse, zoom with right\", \"fa fa-arrows icon-move\", \"pan\"], [\"Zoom\", \"Zoom to rectangle\", \"fa fa-square-o icon-check-empty\", \"zoom\"], [\"\", \"\", \"\", \"\"], [\"Download\", \"Download plot\", \"fa fa-floppy-o icon-save\", \"download\"]];\n",
       "\n",
       "mpl.extensions = [\"eps\", \"jpeg\", \"pdf\", \"png\", \"ps\", \"raw\", \"svg\", \"tif\"];\n",
       "\n",
       "mpl.default_extension = \"png\";var comm_websocket_adapter = function(comm) {\n",
       "    // Create a \"websocket\"-like object which calls the given IPython comm\n",
       "    // object with the appropriate methods. Currently this is a non binary\n",
       "    // socket, so there is still some room for performance tuning.\n",
       "    var ws = {};\n",
       "\n",
       "    ws.close = function() {\n",
       "        comm.close()\n",
       "    };\n",
       "    ws.send = function(m) {\n",
       "        //console.log('sending', m);\n",
       "        comm.send(m);\n",
       "    };\n",
       "    // Register the callback with on_msg.\n",
       "    comm.on_msg(function(msg) {\n",
       "        //console.log('receiving', msg['content']['data'], msg);\n",
       "        // Pass the mpl event to the overridden (by mpl) onmessage function.\n",
       "        ws.onmessage(msg['content']['data'])\n",
       "    });\n",
       "    return ws;\n",
       "}\n",
       "\n",
       "mpl.mpl_figure_comm = function(comm, msg) {\n",
       "    // This is the function which gets called when the mpl process\n",
       "    // starts-up an IPython Comm through the \"matplotlib\" channel.\n",
       "\n",
       "    var id = msg.content.data.id;\n",
       "    // Get hold of the div created by the display call when the Comm\n",
       "    // socket was opened in Python.\n",
       "    var element = $(\"#\" + id);\n",
       "    var ws_proxy = comm_websocket_adapter(comm)\n",
       "\n",
       "    function ondownload(figure, format) {\n",
       "        window.open(figure.imageObj.src);\n",
       "    }\n",
       "\n",
       "    var fig = new mpl.figure(id, ws_proxy,\n",
       "                           ondownload,\n",
       "                           element.get(0));\n",
       "\n",
       "    // Call onopen now - mpl needs it, as it is assuming we've passed it a real\n",
       "    // web socket which is closed, not our websocket->open comm proxy.\n",
       "    ws_proxy.onopen();\n",
       "\n",
       "    fig.parent_element = element.get(0);\n",
       "    fig.cell_info = mpl.find_output_cell(\"<div id='\" + id + \"'></div>\");\n",
       "    if (!fig.cell_info) {\n",
       "        console.error(\"Failed to find cell for figure\", id, fig);\n",
       "        return;\n",
       "    }\n",
       "\n",
       "    var output_index = fig.cell_info[2]\n",
       "    var cell = fig.cell_info[0];\n",
       "\n",
       "};\n",
       "\n",
       "mpl.figure.prototype.handle_close = function(fig, msg) {\n",
       "    var width = fig.canvas.width/mpl.ratio\n",
       "    fig.root.unbind('remove')\n",
       "\n",
       "    // Update the output cell to use the data from the current canvas.\n",
       "    fig.push_to_output();\n",
       "    var dataURL = fig.canvas.toDataURL();\n",
       "    // Re-enable the keyboard manager in IPython - without this line, in FF,\n",
       "    // the notebook keyboard shortcuts fail.\n",
       "    IPython.keyboard_manager.enable()\n",
       "    $(fig.parent_element).html('<img src=\"' + dataURL + '\" width=\"' + width + '\">');\n",
       "    fig.close_ws(fig, msg);\n",
       "}\n",
       "\n",
       "mpl.figure.prototype.close_ws = function(fig, msg){\n",
       "    fig.send_message('closing', msg);\n",
       "    // fig.ws.close()\n",
       "}\n",
       "\n",
       "mpl.figure.prototype.push_to_output = function(remove_interactive) {\n",
       "    // Turn the data on the canvas into data in the output cell.\n",
       "    var width = this.canvas.width/mpl.ratio\n",
       "    var dataURL = this.canvas.toDataURL();\n",
       "    this.cell_info[1]['text/html'] = '<img src=\"' + dataURL + '\" width=\"' + width + '\">';\n",
       "}\n",
       "\n",
       "mpl.figure.prototype.updated_canvas_event = function() {\n",
       "    // Tell IPython that the notebook contents must change.\n",
       "    IPython.notebook.set_dirty(true);\n",
       "    this.send_message(\"ack\", {});\n",
       "    var fig = this;\n",
       "    // Wait a second, then push the new image to the DOM so\n",
       "    // that it is saved nicely (might be nice to debounce this).\n",
       "    setTimeout(function () { fig.push_to_output() }, 1000);\n",
       "}\n",
       "\n",
       "mpl.figure.prototype._init_toolbar = function() {\n",
       "    var fig = this;\n",
       "\n",
       "    var nav_element = $('<div/>');\n",
       "    nav_element.attr('style', 'width: 100%');\n",
       "    this.root.append(nav_element);\n",
       "\n",
       "    // Define a callback function for later on.\n",
       "    function toolbar_event(event) {\n",
       "        return fig.toolbar_button_onclick(event['data']);\n",
       "    }\n",
       "    function toolbar_mouse_event(event) {\n",
       "        return fig.toolbar_button_onmouseover(event['data']);\n",
       "    }\n",
       "\n",
       "    for(var toolbar_ind in mpl.toolbar_items){\n",
       "        var name = mpl.toolbar_items[toolbar_ind][0];\n",
       "        var tooltip = mpl.toolbar_items[toolbar_ind][1];\n",
       "        var image = mpl.toolbar_items[toolbar_ind][2];\n",
       "        var method_name = mpl.toolbar_items[toolbar_ind][3];\n",
       "\n",
       "        if (!name) { continue; };\n",
       "\n",
       "        var button = $('<button class=\"btn btn-default\" href=\"#\" title=\"' + name + '\"><i class=\"fa ' + image + ' fa-lg\"></i></button>');\n",
       "        button.click(method_name, toolbar_event);\n",
       "        button.mouseover(tooltip, toolbar_mouse_event);\n",
       "        nav_element.append(button);\n",
       "    }\n",
       "\n",
       "    // Add the status bar.\n",
       "    var status_bar = $('<span class=\"mpl-message\" style=\"text-align:right; float: right;\"/>');\n",
       "    nav_element.append(status_bar);\n",
       "    this.message = status_bar[0];\n",
       "\n",
       "    // Add the close button to the window.\n",
       "    var buttongrp = $('<div class=\"btn-group inline pull-right\"></div>');\n",
       "    var button = $('<button class=\"btn btn-mini btn-primary\" href=\"#\" title=\"Stop Interaction\"><i class=\"fa fa-power-off icon-remove icon-large\"></i></button>');\n",
       "    button.click(function (evt) { fig.handle_close(fig, {}); } );\n",
       "    button.mouseover('Stop Interaction', toolbar_mouse_event);\n",
       "    buttongrp.append(button);\n",
       "    var titlebar = this.root.find($('.ui-dialog-titlebar'));\n",
       "    titlebar.prepend(buttongrp);\n",
       "}\n",
       "\n",
       "mpl.figure.prototype._root_extra_style = function(el){\n",
       "    var fig = this\n",
       "    el.on(\"remove\", function(){\n",
       "\tfig.close_ws(fig, {});\n",
       "    });\n",
       "}\n",
       "\n",
       "mpl.figure.prototype._canvas_extra_style = function(el){\n",
       "    // this is important to make the div 'focusable\n",
       "    el.attr('tabindex', 0)\n",
       "    // reach out to IPython and tell the keyboard manager to turn it's self\n",
       "    // off when our div gets focus\n",
       "\n",
       "    // location in version 3\n",
       "    if (IPython.notebook.keyboard_manager) {\n",
       "        IPython.notebook.keyboard_manager.register_events(el);\n",
       "    }\n",
       "    else {\n",
       "        // location in version 2\n",
       "        IPython.keyboard_manager.register_events(el);\n",
       "    }\n",
       "\n",
       "}\n",
       "\n",
       "mpl.figure.prototype._key_event_extra = function(event, name) {\n",
       "    var manager = IPython.notebook.keyboard_manager;\n",
       "    if (!manager)\n",
       "        manager = IPython.keyboard_manager;\n",
       "\n",
       "    // Check for shift+enter\n",
       "    if (event.shiftKey && event.which == 13) {\n",
       "        this.canvas_div.blur();\n",
       "        // select the cell after this one\n",
       "        var index = IPython.notebook.find_cell_index(this.cell_info[0]);\n",
       "        IPython.notebook.select(index + 1);\n",
       "    }\n",
       "}\n",
       "\n",
       "mpl.figure.prototype.handle_save = function(fig, msg) {\n",
       "    fig.ondownload(fig, null);\n",
       "}\n",
       "\n",
       "\n",
       "mpl.find_output_cell = function(html_output) {\n",
       "    // Return the cell and output element which can be found *uniquely* in the notebook.\n",
       "    // Note - this is a bit hacky, but it is done because the \"notebook_saving.Notebook\"\n",
       "    // IPython event is triggered only after the cells have been serialised, which for\n",
       "    // our purposes (turning an active figure into a static one), is too late.\n",
       "    var cells = IPython.notebook.get_cells();\n",
       "    var ncells = cells.length;\n",
       "    for (var i=0; i<ncells; i++) {\n",
       "        var cell = cells[i];\n",
       "        if (cell.cell_type === 'code'){\n",
       "            for (var j=0; j<cell.output_area.outputs.length; j++) {\n",
       "                var data = cell.output_area.outputs[j];\n",
       "                if (data.data) {\n",
       "                    // IPython >= 3 moved mimebundle to data attribute of output\n",
       "                    data = data.data;\n",
       "                }\n",
       "                if (data['text/html'] == html_output) {\n",
       "                    return [cell, data, j];\n",
       "                }\n",
       "            }\n",
       "        }\n",
       "    }\n",
       "}\n",
       "\n",
       "// Register the function which deals with the matplotlib target/channel.\n",
       "// The kernel may be null if the page has been refreshed.\n",
       "if (IPython.notebook.kernel != null) {\n",
       "    IPython.notebook.kernel.comm_manager.register_target('matplotlib', mpl.mpl_figure_comm);\n",
       "}\n"
      ],
      "text/plain": [
       "<IPython.core.display.Javascript object>"
      ]
     },
     "metadata": {},
     "output_type": "display_data"
    },
    {
     "data": {
      "text/html": [
       "<img src=\"data:image/png;base64,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\" width=\"1000\">"
      ],
      "text/plain": [
       "<IPython.core.display.HTML object>"
      ]
     },
     "metadata": {},
     "output_type": "display_data"
    }
   ],
   "source": [
    "ax, tax, lax, lines = dual_train_plots()\n",
    "fig = ax.figure\n",
    "plt.tight_layout()"
   ]
  },
  {
   "cell_type": "code",
   "execution_count": 16,
   "metadata": {},
   "outputs": [
    {
     "name": "stdout",
     "output_type": "stream",
     "text": [
      "Number of batches: train = 282, val = 32\n"
     ]
    },
    {
     "data": {
      "application/vnd.jupyter.widget-view+json": {
       "model_id": "c2090eb07cd64fd696ce2cc3493ebf4d",
       "version_major": 2,
       "version_minor": 0
      },
      "text/plain": [
       "HBox(children=(FloatProgress(value=0.0, description='Epochs', layout=Layout(flex='2'), style=ProgressStyle(des…"
      ]
     },
     "metadata": {},
     "output_type": "display_data"
    },
    {
     "name": "stdout",
     "output_type": "stream",
     "text": [
      "Number of batches: train = 282, val = 32\n"
     ]
    },
    {
     "data": {
      "application/vnd.jupyter.widget-view+json": {
       "model_id": "",
       "version_major": 2,
       "version_minor": 0
      },
      "text/plain": [
       "HBox(children=(FloatProgress(value=0.0, description='Training', layout=Layout(flex='2'), max=282.0, style=Prog…"
      ]
     },
     "metadata": {},
     "output_type": "display_data"
    },
    {
     "name": "stdout",
     "output_type": "stream",
     "text": [
      "Epoch 0: train=89.9732, val=49.8932, took 17.337 s\n"
     ]
    },
    {
     "data": {
      "application/vnd.jupyter.widget-view+json": {
       "model_id": "",
       "version_major": 2,
       "version_minor": 0
      },
      "text/plain": [
       "HBox(children=(FloatProgress(value=0.0, description='Training', layout=Layout(flex='2'), max=282.0, style=Prog…"
      ]
     },
     "metadata": {},
     "output_type": "display_data"
    },
    {
     "name": "stdout",
     "output_type": "stream",
     "text": [
      "Epoch 1: train=50.7587, val=49.7566, took 16.187 s\n"
     ]
    },
    {
     "data": {
      "application/vnd.jupyter.widget-view+json": {
       "model_id": "",
       "version_major": 2,
       "version_minor": 0
      },
      "text/plain": [
       "HBox(children=(FloatProgress(value=0.0, description='Training', layout=Layout(flex='2'), max=282.0, style=Prog…"
      ]
     },
     "metadata": {},
     "output_type": "display_data"
    },
    {
     "name": "stdout",
     "output_type": "stream",
     "text": [
      "Epoch 2: train=50.674, val=49.6933, took 16.206 s\n"
     ]
    },
    {
     "data": {
      "application/vnd.jupyter.widget-view+json": {
       "model_id": "",
       "version_major": 2,
       "version_minor": 0
      },
      "text/plain": [
       "HBox(children=(FloatProgress(value=0.0, description='Training', layout=Layout(flex='2'), max=282.0, style=Prog…"
      ]
     },
     "metadata": {},
     "output_type": "display_data"
    },
    {
     "name": "stdout",
     "output_type": "stream",
     "text": [
      "Epoch 3: train=50.6182, val=49.6406, took 16.237 s\n"
     ]
    },
    {
     "data": {
      "application/vnd.jupyter.widget-view+json": {
       "model_id": "",
       "version_major": 2,
       "version_minor": 0
      },
      "text/plain": [
       "HBox(children=(FloatProgress(value=0.0, description='Training', layout=Layout(flex='2'), max=282.0, style=Prog…"
      ]
     },
     "metadata": {},
     "output_type": "display_data"
    },
    {
     "name": "stdout",
     "output_type": "stream",
     "text": [
      "Epoch 4: train=50.5512, val=49.5594, took 16.25 s\n"
     ]
    },
    {
     "data": {
      "application/vnd.jupyter.widget-view+json": {
       "model_id": "",
       "version_major": 2,
       "version_minor": 0
      },
      "text/plain": [
       "HBox(children=(FloatProgress(value=0.0, description='Training', layout=Layout(flex='2'), max=282.0, style=Prog…"
      ]
     },
     "metadata": {},
     "output_type": "display_data"
    },
    {
     "name": "stdout",
     "output_type": "stream",
     "text": [
      "Epoch 5: train=50.4295, val=49.3929, took 16.158 s\n"
     ]
    },
    {
     "data": {
      "application/vnd.jupyter.widget-view+json": {
       "model_id": "",
       "version_major": 2,
       "version_minor": 0
      },
      "text/plain": [
       "HBox(children=(FloatProgress(value=0.0, description='Training', layout=Layout(flex='2'), max=282.0, style=Prog…"
      ]
     },
     "metadata": {},
     "output_type": "display_data"
    },
    {
     "name": "stdout",
     "output_type": "stream",
     "text": [
      "Epoch 6: train=50.1611, val=49.0056, took 16.115 s\n"
     ]
    },
    {
     "data": {
      "application/vnd.jupyter.widget-view+json": {
       "model_id": "",
       "version_major": 2,
       "version_minor": 0
      },
      "text/plain": [
       "HBox(children=(FloatProgress(value=0.0, description='Training', layout=Layout(flex='2'), max=282.0, style=Prog…"
      ]
     },
     "metadata": {},
     "output_type": "display_data"
    },
    {
     "name": "stdout",
     "output_type": "stream",
     "text": [
      "Epoch 7: train=49.5051, val=48.0408, took 16.215 s\n"
     ]
    },
    {
     "data": {
      "application/vnd.jupyter.widget-view+json": {
       "model_id": "",
       "version_major": 2,
       "version_minor": 0
      },
      "text/plain": [
       "HBox(children=(FloatProgress(value=0.0, description='Training', layout=Layout(flex='2'), max=282.0, style=Prog…"
      ]
     },
     "metadata": {},
     "output_type": "display_data"
    },
    {
     "name": "stdout",
     "output_type": "stream",
     "text": [
      "Epoch 8: train=47.9181, val=45.8687, took 16.123 s\n"
     ]
    },
    {
     "data": {
      "application/vnd.jupyter.widget-view+json": {
       "model_id": "",
       "version_major": 2,
       "version_minor": 0
      },
      "text/plain": [
       "HBox(children=(FloatProgress(value=0.0, description='Training', layout=Layout(flex='2'), max=282.0, style=Prog…"
      ]
     },
     "metadata": {},
     "output_type": "display_data"
    },
    {
     "name": "stdout",
     "output_type": "stream",
     "text": [
      "Epoch 9: train=45.1582, val=43.2661, took 15.915 s\n"
     ]
    },
    {
     "data": {
      "application/vnd.jupyter.widget-view+json": {
       "model_id": "",
       "version_major": 2,
       "version_minor": 0
      },
      "text/plain": [
       "HBox(children=(FloatProgress(value=0.0, description='Training', layout=Layout(flex='2'), max=282.0, style=Prog…"
      ]
     },
     "metadata": {},
     "output_type": "display_data"
    },
    {
     "name": "stdout",
     "output_type": "stream",
     "text": [
      "Epoch 10: train=43.3868, val=42.3899, took 16.322 s\n"
     ]
    },
    {
     "data": {
      "application/vnd.jupyter.widget-view+json": {
       "model_id": "",
       "version_major": 2,
       "version_minor": 0
      },
      "text/plain": [
       "HBox(children=(FloatProgress(value=0.0, description='Training', layout=Layout(flex='2'), max=282.0, style=Prog…"
      ]
     },
     "metadata": {},
     "output_type": "display_data"
    },
    {
     "name": "stdout",
     "output_type": "stream",
     "text": [
      "Epoch 11: train=42.8419, val=42.0628, took 16.236 s\n"
     ]
    },
    {
     "data": {
      "application/vnd.jupyter.widget-view+json": {
       "model_id": "",
       "version_major": 2,
       "version_minor": 0
      },
      "text/plain": [
       "HBox(children=(FloatProgress(value=0.0, description='Training', layout=Layout(flex='2'), max=282.0, style=Prog…"
      ]
     },
     "metadata": {},
     "output_type": "display_data"
    },
    {
     "name": "stdout",
     "output_type": "stream",
     "text": [
      "Epoch 12: train=42.5745, val=41.8805, took 16.369 s\n"
     ]
    },
    {
     "data": {
      "application/vnd.jupyter.widget-view+json": {
       "model_id": "",
       "version_major": 2,
       "version_minor": 0
      },
      "text/plain": [
       "HBox(children=(FloatProgress(value=0.0, description='Training', layout=Layout(flex='2'), max=282.0, style=Prog…"
      ]
     },
     "metadata": {},
     "output_type": "display_data"
    },
    {
     "name": "stdout",
     "output_type": "stream",
     "text": [
      "Epoch 13: train=42.4059, val=41.7516, took 16.341 s\n"
     ]
    },
    {
     "data": {
      "application/vnd.jupyter.widget-view+json": {
       "model_id": "",
       "version_major": 2,
       "version_minor": 0
      },
      "text/plain": [
       "HBox(children=(FloatProgress(value=0.0, description='Training', layout=Layout(flex='2'), max=282.0, style=Prog…"
      ]
     },
     "metadata": {},
     "output_type": "display_data"
    },
    {
     "name": "stdout",
     "output_type": "stream",
     "text": [
      "Epoch 14: train=42.2801, val=41.6456, took 16.324 s\n"
     ]
    },
    {
     "data": {
      "application/vnd.jupyter.widget-view+json": {
       "model_id": "",
       "version_major": 2,
       "version_minor": 0
      },
      "text/plain": [
       "HBox(children=(FloatProgress(value=0.0, description='Training', layout=Layout(flex='2'), max=282.0, style=Prog…"
      ]
     },
     "metadata": {},
     "output_type": "display_data"
    },
    {
     "name": "stdout",
     "output_type": "stream",
     "text": [
      "Epoch 15: train=42.1724, val=41.5448, took 16.233 s\n"
     ]
    },
    {
     "data": {
      "application/vnd.jupyter.widget-view+json": {
       "model_id": "",
       "version_major": 2,
       "version_minor": 0
      },
      "text/plain": [
       "HBox(children=(FloatProgress(value=0.0, description='Training', layout=Layout(flex='2'), max=282.0, style=Prog…"
      ]
     },
     "metadata": {},
     "output_type": "display_data"
    },
    {
     "name": "stdout",
     "output_type": "stream",
     "text": [
      "Epoch 16: train=42.067, val=41.4379, took 16.401 s\n"
     ]
    },
    {
     "data": {
      "application/vnd.jupyter.widget-view+json": {
       "model_id": "",
       "version_major": 2,
       "version_minor": 0
      },
      "text/plain": [
       "HBox(children=(FloatProgress(value=0.0, description='Training', layout=Layout(flex='2'), max=282.0, style=Prog…"
      ]
     },
     "metadata": {},
     "output_type": "display_data"
    },
    {
     "name": "stdout",
     "output_type": "stream",
     "text": [
      "Epoch 17: train=41.9541, val=41.3172, took 16.363 s\n"
     ]
    },
    {
     "data": {
      "application/vnd.jupyter.widget-view+json": {
       "model_id": "",
       "version_major": 2,
       "version_minor": 0
      },
      "text/plain": [
       "HBox(children=(FloatProgress(value=0.0, description='Training', layout=Layout(flex='2'), max=282.0, style=Prog…"
      ]
     },
     "metadata": {},
     "output_type": "display_data"
    },
    {
     "name": "stdout",
     "output_type": "stream",
     "text": [
      "Epoch 18: train=41.8267, val=41.1767, took 16.231 s\n"
     ]
    },
    {
     "data": {
      "application/vnd.jupyter.widget-view+json": {
       "model_id": "",
       "version_major": 2,
       "version_minor": 0
      },
      "text/plain": [
       "HBox(children=(FloatProgress(value=0.0, description='Training', layout=Layout(flex='2'), max=282.0, style=Prog…"
      ]
     },
     "metadata": {},
     "output_type": "display_data"
    },
    {
     "name": "stdout",
     "output_type": "stream",
     "text": [
      "Epoch 19: train=41.68, val=41.0124, took 16.217 s\n"
     ]
    },
    {
     "data": {
      "application/vnd.jupyter.widget-view+json": {
       "model_id": "",
       "version_major": 2,
       "version_minor": 0
      },
      "text/plain": [
       "HBox(children=(FloatProgress(value=0.0, description='Training', layout=Layout(flex='2'), max=282.0, style=Prog…"
      ]
     },
     "metadata": {},
     "output_type": "display_data"
    },
    {
     "name": "stdout",
     "output_type": "stream",
     "text": [
      "Epoch 20: train=41.511, val=40.8227, took 16.243 s\n"
     ]
    },
    {
     "data": {
      "application/vnd.jupyter.widget-view+json": {
       "model_id": "",
       "version_major": 2,
       "version_minor": 0
      },
      "text/plain": [
       "HBox(children=(FloatProgress(value=0.0, description='Training', layout=Layout(flex='2'), max=282.0, style=Prog…"
      ]
     },
     "metadata": {},
     "output_type": "display_data"
    },
    {
     "name": "stdout",
     "output_type": "stream",
     "text": [
      "Epoch 21: train=41.3182, val=40.6077, took 16.505 s\n"
     ]
    },
    {
     "data": {
      "application/vnd.jupyter.widget-view+json": {
       "model_id": "",
       "version_major": 2,
       "version_minor": 0
      },
      "text/plain": [
       "HBox(children=(FloatProgress(value=0.0, description='Training', layout=Layout(flex='2'), max=282.0, style=Prog…"
      ]
     },
     "metadata": {},
     "output_type": "display_data"
    },
    {
     "name": "stdout",
     "output_type": "stream",
     "text": [
      "Epoch 22: train=41.1011, val=40.3673, took 16.286 s\n"
     ]
    },
    {
     "data": {
      "application/vnd.jupyter.widget-view+json": {
       "model_id": "",
       "version_major": 2,
       "version_minor": 0
      },
      "text/plain": [
       "HBox(children=(FloatProgress(value=0.0, description='Training', layout=Layout(flex='2'), max=282.0, style=Prog…"
      ]
     },
     "metadata": {},
     "output_type": "display_data"
    },
    {
     "name": "stdout",
     "output_type": "stream",
     "text": [
      "Epoch 23: train=40.8587, val=40.1008, took 16.228 s\n"
     ]
    },
    {
     "data": {
      "application/vnd.jupyter.widget-view+json": {
       "model_id": "",
       "version_major": 2,
       "version_minor": 0
      },
      "text/plain": [
       "HBox(children=(FloatProgress(value=0.0, description='Training', layout=Layout(flex='2'), max=282.0, style=Prog…"
      ]
     },
     "metadata": {},
     "output_type": "display_data"
    },
    {
     "name": "stdout",
     "output_type": "stream",
     "text": [
      "Epoch 24: train=40.5892, val=39.8069, took 16.255 s\n"
     ]
    },
    {
     "data": {
      "application/vnd.jupyter.widget-view+json": {
       "model_id": "",
       "version_major": 2,
       "version_minor": 0
      },
      "text/plain": [
       "HBox(children=(FloatProgress(value=0.0, description='Training', layout=Layout(flex='2'), max=282.0, style=Prog…"
      ]
     },
     "metadata": {},
     "output_type": "display_data"
    },
    {
     "name": "stdout",
     "output_type": "stream",
     "text": [
      "Epoch 25: train=40.2902, val=39.4835, took 16.178 s\n"
     ]
    },
    {
     "data": {
      "application/vnd.jupyter.widget-view+json": {
       "model_id": "",
       "version_major": 2,
       "version_minor": 0
      },
      "text/plain": [
       "HBox(children=(FloatProgress(value=0.0, description='Training', layout=Layout(flex='2'), max=282.0, style=Prog…"
      ]
     },
     "metadata": {},
     "output_type": "display_data"
    },
    {
     "name": "stdout",
     "output_type": "stream",
     "text": [
      "Epoch 26: train=39.9589, val=39.1285, took 16.183 s\n"
     ]
    },
    {
     "data": {
      "application/vnd.jupyter.widget-view+json": {
       "model_id": "",
       "version_major": 2,
       "version_minor": 0
      },
      "text/plain": [
       "HBox(children=(FloatProgress(value=0.0, description='Training', layout=Layout(flex='2'), max=282.0, style=Prog…"
      ]
     },
     "metadata": {},
     "output_type": "display_data"
    },
    {
     "name": "stdout",
     "output_type": "stream",
     "text": [
      "Epoch 27: train=39.5927, val=38.7377, took 16.217 s\n"
     ]
    },
    {
     "data": {
      "application/vnd.jupyter.widget-view+json": {
       "model_id": "",
       "version_major": 2,
       "version_minor": 0
      },
      "text/plain": [
       "HBox(children=(FloatProgress(value=0.0, description='Training', layout=Layout(flex='2'), max=282.0, style=Prog…"
      ]
     },
     "metadata": {},
     "output_type": "display_data"
    },
    {
     "name": "stdout",
     "output_type": "stream",
     "text": [
      "Epoch 28: train=39.1882, val=38.3067, took 16.13 s\n"
     ]
    },
    {
     "data": {
      "application/vnd.jupyter.widget-view+json": {
       "model_id": "",
       "version_major": 2,
       "version_minor": 0
      },
      "text/plain": [
       "HBox(children=(FloatProgress(value=0.0, description='Training', layout=Layout(flex='2'), max=282.0, style=Prog…"
      ]
     },
     "metadata": {},
     "output_type": "display_data"
    },
    {
     "name": "stdout",
     "output_type": "stream",
     "text": [
      "Epoch 29: train=38.7441, val=37.8237, took 16.026 s\n"
     ]
    },
    {
     "data": {
      "application/vnd.jupyter.widget-view+json": {
       "model_id": "",
       "version_major": 2,
       "version_minor": 0
      },
      "text/plain": [
       "HBox(children=(FloatProgress(value=0.0, description='Training', layout=Layout(flex='2'), max=282.0, style=Prog…"
      ]
     },
     "metadata": {},
     "output_type": "display_data"
    },
    {
     "name": "stdout",
     "output_type": "stream",
     "text": [
      "Epoch 30: train=38.106, val=37.0636, took 16.258 s\n"
     ]
    },
    {
     "data": {
      "application/vnd.jupyter.widget-view+json": {
       "model_id": "",
       "version_major": 2,
       "version_minor": 0
      },
      "text/plain": [
       "HBox(children=(FloatProgress(value=0.0, description='Training', layout=Layout(flex='2'), max=282.0, style=Prog…"
      ]
     },
     "metadata": {},
     "output_type": "display_data"
    },
    {
     "name": "stdout",
     "output_type": "stream",
     "text": [
      "Epoch 31: train=37.43, val=36.4065, took 16.254 s\n"
     ]
    },
    {
     "data": {
      "application/vnd.jupyter.widget-view+json": {
       "model_id": "",
       "version_major": 2,
       "version_minor": 0
      },
      "text/plain": [
       "HBox(children=(FloatProgress(value=0.0, description='Training', layout=Layout(flex='2'), max=282.0, style=Prog…"
      ]
     },
     "metadata": {},
     "output_type": "display_data"
    },
    {
     "name": "stdout",
     "output_type": "stream",
     "text": [
      "Epoch 32: train=36.7817, val=35.783, took 16.225 s\n"
     ]
    },
    {
     "data": {
      "application/vnd.jupyter.widget-view+json": {
       "model_id": "",
       "version_major": 2,
       "version_minor": 0
      },
      "text/plain": [
       "HBox(children=(FloatProgress(value=0.0, description='Training', layout=Layout(flex='2'), max=282.0, style=Prog…"
      ]
     },
     "metadata": {},
     "output_type": "display_data"
    },
    {
     "name": "stdout",
     "output_type": "stream",
     "text": [
      "Epoch 33: train=36.1595, val=35.1999, took 16.337 s\n"
     ]
    },
    {
     "data": {
      "application/vnd.jupyter.widget-view+json": {
       "model_id": "",
       "version_major": 2,
       "version_minor": 0
      },
      "text/plain": [
       "HBox(children=(FloatProgress(value=0.0, description='Training', layout=Layout(flex='2'), max=282.0, style=Prog…"
      ]
     },
     "metadata": {},
     "output_type": "display_data"
    },
    {
     "name": "stdout",
     "output_type": "stream",
     "text": [
      "Epoch 34: train=35.5745, val=34.66, took 16.265 s\n"
     ]
    },
    {
     "data": {
      "application/vnd.jupyter.widget-view+json": {
       "model_id": "",
       "version_major": 2,
       "version_minor": 0
      },
      "text/plain": [
       "HBox(children=(FloatProgress(value=0.0, description='Training', layout=Layout(flex='2'), max=282.0, style=Prog…"
      ]
     },
     "metadata": {},
     "output_type": "display_data"
    },
    {
     "name": "stdout",
     "output_type": "stream",
     "text": [
      "Epoch 35: train=35.031, val=34.1659, took 16.227 s\n"
     ]
    },
    {
     "data": {
      "application/vnd.jupyter.widget-view+json": {
       "model_id": "",
       "version_major": 2,
       "version_minor": 0
      },
      "text/plain": [
       "HBox(children=(FloatProgress(value=0.0, description='Training', layout=Layout(flex='2'), max=282.0, style=Prog…"
      ]
     },
     "metadata": {},
     "output_type": "display_data"
    },
    {
     "name": "stdout",
     "output_type": "stream",
     "text": [
      "Epoch 36: train=34.5284, val=33.7131, took 16.139 s\n"
     ]
    },
    {
     "data": {
      "application/vnd.jupyter.widget-view+json": {
       "model_id": "",
       "version_major": 2,
       "version_minor": 0
      },
      "text/plain": [
       "HBox(children=(FloatProgress(value=0.0, description='Training', layout=Layout(flex='2'), max=282.0, style=Prog…"
      ]
     },
     "metadata": {},
     "output_type": "display_data"
    },
    {
     "name": "stdout",
     "output_type": "stream",
     "text": [
      "Epoch 37: train=34.063, val=33.2945, took 16.181 s\n"
     ]
    },
    {
     "data": {
      "application/vnd.jupyter.widget-view+json": {
       "model_id": "",
       "version_major": 2,
       "version_minor": 0
      },
      "text/plain": [
       "HBox(children=(FloatProgress(value=0.0, description='Training', layout=Layout(flex='2'), max=282.0, style=Prog…"
      ]
     },
     "metadata": {},
     "output_type": "display_data"
    },
    {
     "name": "stdout",
     "output_type": "stream",
     "text": [
      "Epoch 38: train=33.6311, val=32.9045, took 16.215 s\n"
     ]
    },
    {
     "data": {
      "application/vnd.jupyter.widget-view+json": {
       "model_id": "",
       "version_major": 2,
       "version_minor": 0
      },
      "text/plain": [
       "HBox(children=(FloatProgress(value=0.0, description='Training', layout=Layout(flex='2'), max=282.0, style=Prog…"
      ]
     },
     "metadata": {},
     "output_type": "display_data"
    },
    {
     "name": "stdout",
     "output_type": "stream",
     "text": [
      "Epoch 39: train=33.2275, val=32.5381, took 16.321 s\n"
     ]
    },
    {
     "data": {
      "application/vnd.jupyter.widget-view+json": {
       "model_id": "",
       "version_major": 2,
       "version_minor": 0
      },
      "text/plain": [
       "HBox(children=(FloatProgress(value=0.0, description='Training', layout=Layout(flex='2'), max=282.0, style=Prog…"
      ]
     },
     "metadata": {},
     "output_type": "display_data"
    },
    {
     "name": "stdout",
     "output_type": "stream",
     "text": [
      "Epoch 40: train=32.8472, val=32.1907, took 15.971 s\n"
     ]
    },
    {
     "data": {
      "application/vnd.jupyter.widget-view+json": {
       "model_id": "",
       "version_major": 2,
       "version_minor": 0
      },
      "text/plain": [
       "HBox(children=(FloatProgress(value=0.0, description='Training', layout=Layout(flex='2'), max=282.0, style=Prog…"
      ]
     },
     "metadata": {},
     "output_type": "display_data"
    },
    {
     "name": "stdout",
     "output_type": "stream",
     "text": [
      "Epoch 41: train=32.4854, val=31.8565, took 16.187 s\n"
     ]
    },
    {
     "data": {
      "application/vnd.jupyter.widget-view+json": {
       "model_id": "",
       "version_major": 2,
       "version_minor": 0
      },
      "text/plain": [
       "HBox(children=(FloatProgress(value=0.0, description='Training', layout=Layout(flex='2'), max=282.0, style=Prog…"
      ]
     },
     "metadata": {},
     "output_type": "display_data"
    },
    {
     "name": "stdout",
     "output_type": "stream",
     "text": [
      "Epoch 42: train=32.1381, val=31.5369, took 16.288 s\n"
     ]
    },
    {
     "data": {
      "application/vnd.jupyter.widget-view+json": {
       "model_id": "",
       "version_major": 2,
       "version_minor": 0
      },
      "text/plain": [
       "HBox(children=(FloatProgress(value=0.0, description='Training', layout=Layout(flex='2'), max=282.0, style=Prog…"
      ]
     },
     "metadata": {},
     "output_type": "display_data"
    },
    {
     "name": "stdout",
     "output_type": "stream",
     "text": [
      "Epoch 43: train=31.8036, val=31.2269, took 16.25 s\n"
     ]
    },
    {
     "data": {
      "application/vnd.jupyter.widget-view+json": {
       "model_id": "",
       "version_major": 2,
       "version_minor": 0
      },
      "text/plain": [
       "HBox(children=(FloatProgress(value=0.0, description='Training', layout=Layout(flex='2'), max=282.0, style=Prog…"
      ]
     },
     "metadata": {},
     "output_type": "display_data"
    },
    {
     "name": "stdout",
     "output_type": "stream",
     "text": [
      "Epoch 44: train=31.4779, val=30.9237, took 16.207 s\n"
     ]
    },
    {
     "data": {
      "application/vnd.jupyter.widget-view+json": {
       "model_id": "",
       "version_major": 2,
       "version_minor": 0
      },
      "text/plain": [
       "HBox(children=(FloatProgress(value=0.0, description='Training', layout=Layout(flex='2'), max=282.0, style=Prog…"
      ]
     },
     "metadata": {},
     "output_type": "display_data"
    },
    {
     "name": "stdout",
     "output_type": "stream",
     "text": [
      "Epoch 45: train=31.16, val=30.6254, took 16.141 s\n"
     ]
    },
    {
     "data": {
      "application/vnd.jupyter.widget-view+json": {
       "model_id": "",
       "version_major": 2,
       "version_minor": 0
      },
      "text/plain": [
       "HBox(children=(FloatProgress(value=0.0, description='Training', layout=Layout(flex='2'), max=282.0, style=Prog…"
      ]
     },
     "metadata": {},
     "output_type": "display_data"
    },
    {
     "name": "stdout",
     "output_type": "stream",
     "text": [
      "Epoch 46: train=30.8485, val=30.3332, took 16.237 s\n"
     ]
    },
    {
     "data": {
      "application/vnd.jupyter.widget-view+json": {
       "model_id": "",
       "version_major": 2,
       "version_minor": 0
      },
      "text/plain": [
       "HBox(children=(FloatProgress(value=0.0, description='Training', layout=Layout(flex='2'), max=282.0, style=Prog…"
      ]
     },
     "metadata": {},
     "output_type": "display_data"
    },
    {
     "name": "stdout",
     "output_type": "stream",
     "text": [
      "Epoch 47: train=30.5447, val=30.0475, took 16.236 s\n"
     ]
    },
    {
     "data": {
      "application/vnd.jupyter.widget-view+json": {
       "model_id": "",
       "version_major": 2,
       "version_minor": 0
      },
      "text/plain": [
       "HBox(children=(FloatProgress(value=0.0, description='Training', layout=Layout(flex='2'), max=282.0, style=Prog…"
      ]
     },
     "metadata": {},
     "output_type": "display_data"
    },
    {
     "name": "stdout",
     "output_type": "stream",
     "text": [
      "Epoch 48: train=30.248, val=29.7675, took 16.212 s\n"
     ]
    },
    {
     "data": {
      "application/vnd.jupyter.widget-view+json": {
       "model_id": "",
       "version_major": 2,
       "version_minor": 0
      },
      "text/plain": [
       "HBox(children=(FloatProgress(value=0.0, description='Training', layout=Layout(flex='2'), max=282.0, style=Prog…"
      ]
     },
     "metadata": {},
     "output_type": "display_data"
    },
    {
     "name": "stdout",
     "output_type": "stream",
     "text": [
      "Epoch 49: train=29.9604, val=29.4967, took 16.108 s\n"
     ]
    },
    {
     "data": {
      "application/vnd.jupyter.widget-view+json": {
       "model_id": "",
       "version_major": 2,
       "version_minor": 0
      },
      "text/plain": [
       "HBox(children=(FloatProgress(value=0.0, description='Training', layout=Layout(flex='2'), max=282.0, style=Prog…"
      ]
     },
     "metadata": {},
     "output_type": "display_data"
    },
    {
     "name": "stdout",
     "output_type": "stream",
     "text": [
      "Epoch 50: train=29.6809, val=29.2324, took 16.206 s\n"
     ]
    },
    {
     "data": {
      "application/vnd.jupyter.widget-view+json": {
       "model_id": "",
       "version_major": 2,
       "version_minor": 0
      },
      "text/plain": [
       "HBox(children=(FloatProgress(value=0.0, description='Training', layout=Layout(flex='2'), max=282.0, style=Prog…"
      ]
     },
     "metadata": {},
     "output_type": "display_data"
    },
    {
     "name": "stdout",
     "output_type": "stream",
     "text": [
      "Epoch 51: train=29.4096, val=28.9751, took 16.16 s\n"
     ]
    },
    {
     "data": {
      "application/vnd.jupyter.widget-view+json": {
       "model_id": "",
       "version_major": 2,
       "version_minor": 0
      },
      "text/plain": [
       "HBox(children=(FloatProgress(value=0.0, description='Training', layout=Layout(flex='2'), max=282.0, style=Prog…"
      ]
     },
     "metadata": {},
     "output_type": "display_data"
    },
    {
     "name": "stdout",
     "output_type": "stream",
     "text": [
      "Epoch 52: train=29.1475, val=28.7253, took 16.235 s\n"
     ]
    },
    {
     "data": {
      "application/vnd.jupyter.widget-view+json": {
       "model_id": "",
       "version_major": 2,
       "version_minor": 0
      },
      "text/plain": [
       "HBox(children=(FloatProgress(value=0.0, description='Training', layout=Layout(flex='2'), max=282.0, style=Prog…"
      ]
     },
     "metadata": {},
     "output_type": "display_data"
    },
    {
     "name": "stdout",
     "output_type": "stream",
     "text": [
      "Epoch 53: train=28.8948, val=28.4847, took 16.05 s\n"
     ]
    },
    {
     "data": {
      "application/vnd.jupyter.widget-view+json": {
       "model_id": "",
       "version_major": 2,
       "version_minor": 0
      },
      "text/plain": [
       "HBox(children=(FloatProgress(value=0.0, description='Training', layout=Layout(flex='2'), max=282.0, style=Prog…"
      ]
     },
     "metadata": {},
     "output_type": "display_data"
    },
    {
     "name": "stdout",
     "output_type": "stream",
     "text": [
      "Epoch 54: train=28.6526, val=28.2531, took 16.257 s\n"
     ]
    },
    {
     "data": {
      "application/vnd.jupyter.widget-view+json": {
       "model_id": "",
       "version_major": 2,
       "version_minor": 0
      },
      "text/plain": [
       "HBox(children=(FloatProgress(value=0.0, description='Training', layout=Layout(flex='2'), max=282.0, style=Prog…"
      ]
     },
     "metadata": {},
     "output_type": "display_data"
    },
    {
     "name": "stdout",
     "output_type": "stream",
     "text": [
      "Epoch 55: train=28.4199, val=28.0293, took 16.158 s\n"
     ]
    },
    {
     "data": {
      "application/vnd.jupyter.widget-view+json": {
       "model_id": "",
       "version_major": 2,
       "version_minor": 0
      },
      "text/plain": [
       "HBox(children=(FloatProgress(value=0.0, description='Training', layout=Layout(flex='2'), max=282.0, style=Prog…"
      ]
     },
     "metadata": {},
     "output_type": "display_data"
    },
    {
     "name": "stdout",
     "output_type": "stream",
     "text": [
      "Epoch 56: train=28.1974, val=27.8151, took 16.171 s\n"
     ]
    },
    {
     "data": {
      "application/vnd.jupyter.widget-view+json": {
       "model_id": "",
       "version_major": 2,
       "version_minor": 0
      },
      "text/plain": [
       "HBox(children=(FloatProgress(value=0.0, description='Training', layout=Layout(flex='2'), max=282.0, style=Prog…"
      ]
     },
     "metadata": {},
     "output_type": "display_data"
    },
    {
     "name": "stdout",
     "output_type": "stream",
     "text": [
      "Epoch 57: train=27.9845, val=27.6094, took 16.106 s\n"
     ]
    },
    {
     "data": {
      "application/vnd.jupyter.widget-view+json": {
       "model_id": "",
       "version_major": 2,
       "version_minor": 0
      },
      "text/plain": [
       "HBox(children=(FloatProgress(value=0.0, description='Training', layout=Layout(flex='2'), max=282.0, style=Prog…"
      ]
     },
     "metadata": {},
     "output_type": "display_data"
    },
    {
     "name": "stdout",
     "output_type": "stream",
     "text": [
      "Epoch 58: train=27.7808, val=27.4118, took 16.188 s\n"
     ]
    },
    {
     "data": {
      "application/vnd.jupyter.widget-view+json": {
       "model_id": "",
       "version_major": 2,
       "version_minor": 0
      },
      "text/plain": [
       "HBox(children=(FloatProgress(value=0.0, description='Training', layout=Layout(flex='2'), max=282.0, style=Prog…"
      ]
     },
     "metadata": {},
     "output_type": "display_data"
    },
    {
     "name": "stdout",
     "output_type": "stream",
     "text": [
      "Epoch 59: train=27.5849, val=27.2174, took 16.195 s\n"
     ]
    },
    {
     "data": {
      "application/vnd.jupyter.widget-view+json": {
       "model_id": "",
       "version_major": 2,
       "version_minor": 0
      },
      "text/plain": [
       "HBox(children=(FloatProgress(value=0.0, description='Training', layout=Layout(flex='2'), max=282.0, style=Prog…"
      ]
     },
     "metadata": {},
     "output_type": "display_data"
    },
    {
     "name": "stdout",
     "output_type": "stream",
     "text": [
      "Epoch 60: train=27.3895, val=27.0205, took 16.226 s\n"
     ]
    },
    {
     "data": {
      "application/vnd.jupyter.widget-view+json": {
       "model_id": "",
       "version_major": 2,
       "version_minor": 0
      },
      "text/plain": [
       "HBox(children=(FloatProgress(value=0.0, description='Training', layout=Layout(flex='2'), max=282.0, style=Prog…"
      ]
     },
     "metadata": {},
     "output_type": "display_data"
    },
    {
     "name": "stdout",
     "output_type": "stream",
     "text": [
      "Epoch 61: train=27.192, val=26.8225, took 16.22 s\n"
     ]
    },
    {
     "data": {
      "application/vnd.jupyter.widget-view+json": {
       "model_id": "",
       "version_major": 2,
       "version_minor": 0
      },
      "text/plain": [
       "HBox(children=(FloatProgress(value=0.0, description='Training', layout=Layout(flex='2'), max=282.0, style=Prog…"
      ]
     },
     "metadata": {},
     "output_type": "display_data"
    },
    {
     "name": "stdout",
     "output_type": "stream",
     "text": [
      "Epoch 62: train=26.9965, val=26.6279, took 16.349 s\n"
     ]
    },
    {
     "data": {
      "application/vnd.jupyter.widget-view+json": {
       "model_id": "",
       "version_major": 2,
       "version_minor": 0
      },
      "text/plain": [
       "HBox(children=(FloatProgress(value=0.0, description='Training', layout=Layout(flex='2'), max=282.0, style=Prog…"
      ]
     },
     "metadata": {},
     "output_type": "display_data"
    },
    {
     "name": "stdout",
     "output_type": "stream",
     "text": [
      "Epoch 63: train=26.807, val=26.4398, took 16.352 s\n"
     ]
    },
    {
     "data": {
      "application/vnd.jupyter.widget-view+json": {
       "model_id": "",
       "version_major": 2,
       "version_minor": 0
      },
      "text/plain": [
       "HBox(children=(FloatProgress(value=0.0, description='Training', layout=Layout(flex='2'), max=282.0, style=Prog…"
      ]
     },
     "metadata": {},
     "output_type": "display_data"
    },
    {
     "name": "stdout",
     "output_type": "stream",
     "text": [
      "Epoch 64: train=26.6247, val=26.2591, took 16.319 s\n"
     ]
    },
    {
     "data": {
      "application/vnd.jupyter.widget-view+json": {
       "model_id": "",
       "version_major": 2,
       "version_minor": 0
      },
      "text/plain": [
       "HBox(children=(FloatProgress(value=0.0, description='Training', layout=Layout(flex='2'), max=282.0, style=Prog…"
      ]
     },
     "metadata": {},
     "output_type": "display_data"
    },
    {
     "name": "stdout",
     "output_type": "stream",
     "text": [
      "Epoch 65: train=26.4499, val=26.0857, took 16.232 s\n"
     ]
    },
    {
     "data": {
      "application/vnd.jupyter.widget-view+json": {
       "model_id": "",
       "version_major": 2,
       "version_minor": 0
      },
      "text/plain": [
       "HBox(children=(FloatProgress(value=0.0, description='Training', layout=Layout(flex='2'), max=282.0, style=Prog…"
      ]
     },
     "metadata": {},
     "output_type": "display_data"
    },
    {
     "name": "stdout",
     "output_type": "stream",
     "text": [
      "Epoch 66: train=26.2829, val=25.9199, took 16.282 s\n"
     ]
    },
    {
     "data": {
      "application/vnd.jupyter.widget-view+json": {
       "model_id": "",
       "version_major": 2,
       "version_minor": 0
      },
      "text/plain": [
       "HBox(children=(FloatProgress(value=0.0, description='Training', layout=Layout(flex='2'), max=282.0, style=Prog…"
      ]
     },
     "metadata": {},
     "output_type": "display_data"
    },
    {
     "name": "stdout",
     "output_type": "stream",
     "text": [
      "Epoch 67: train=26.123, val=25.7615, took 16.291 s\n"
     ]
    },
    {
     "data": {
      "application/vnd.jupyter.widget-view+json": {
       "model_id": "",
       "version_major": 2,
       "version_minor": 0
      },
      "text/plain": [
       "HBox(children=(FloatProgress(value=0.0, description='Training', layout=Layout(flex='2'), max=282.0, style=Prog…"
      ]
     },
     "metadata": {},
     "output_type": "display_data"
    },
    {
     "name": "stdout",
     "output_type": "stream",
     "text": [
      "Epoch 68: train=25.9462, val=25.5669, took 16.129 s\n"
     ]
    },
    {
     "data": {
      "application/vnd.jupyter.widget-view+json": {
       "model_id": "",
       "version_major": 2,
       "version_minor": 0
      },
      "text/plain": [
       "HBox(children=(FloatProgress(value=0.0, description='Training', layout=Layout(flex='2'), max=282.0, style=Prog…"
      ]
     },
     "metadata": {},
     "output_type": "display_data"
    },
    {
     "name": "stdout",
     "output_type": "stream",
     "text": [
      "Epoch 69: train=25.777, val=25.4073, took 16.083 s\n"
     ]
    },
    {
     "data": {
      "application/vnd.jupyter.widget-view+json": {
       "model_id": "",
       "version_major": 2,
       "version_minor": 0
      },
      "text/plain": [
       "HBox(children=(FloatProgress(value=0.0, description='Training', layout=Layout(flex='2'), max=282.0, style=Prog…"
      ]
     },
     "metadata": {},
     "output_type": "display_data"
    },
    {
     "name": "stdout",
     "output_type": "stream",
     "text": [
      "Epoch 70: train=25.6236, val=25.2575, took 16.11 s\n"
     ]
    },
    {
     "data": {
      "application/vnd.jupyter.widget-view+json": {
       "model_id": "",
       "version_major": 2,
       "version_minor": 0
      },
      "text/plain": [
       "HBox(children=(FloatProgress(value=0.0, description='Training', layout=Layout(flex='2'), max=282.0, style=Prog…"
      ]
     },
     "metadata": {},
     "output_type": "display_data"
    },
    {
     "name": "stdout",
     "output_type": "stream",
     "text": [
      "Epoch 71: train=25.479, val=25.1163, took 16.108 s\n"
     ]
    },
    {
     "data": {
      "application/vnd.jupyter.widget-view+json": {
       "model_id": "",
       "version_major": 2,
       "version_minor": 0
      },
      "text/plain": [
       "HBox(children=(FloatProgress(value=0.0, description='Training', layout=Layout(flex='2'), max=282.0, style=Prog…"
      ]
     },
     "metadata": {},
     "output_type": "display_data"
    },
    {
     "name": "stdout",
     "output_type": "stream",
     "text": [
      "Epoch 72: train=25.342, val=24.9821, took 16.151 s\n"
     ]
    },
    {
     "data": {
      "application/vnd.jupyter.widget-view+json": {
       "model_id": "",
       "version_major": 2,
       "version_minor": 0
      },
      "text/plain": [
       "HBox(children=(FloatProgress(value=0.0, description='Training', layout=Layout(flex='2'), max=282.0, style=Prog…"
      ]
     },
     "metadata": {},
     "output_type": "display_data"
    },
    {
     "name": "stdout",
     "output_type": "stream",
     "text": [
      "Epoch 73: train=25.2116, val=24.8545, took 16.141 s\n"
     ]
    },
    {
     "data": {
      "application/vnd.jupyter.widget-view+json": {
       "model_id": "",
       "version_major": 2,
       "version_minor": 0
      },
      "text/plain": [
       "HBox(children=(FloatProgress(value=0.0, description='Training', layout=Layout(flex='2'), max=282.0, style=Prog…"
      ]
     },
     "metadata": {},
     "output_type": "display_data"
    },
    {
     "name": "stdout",
     "output_type": "stream",
     "text": [
      "Epoch 74: train=25.0874, val=24.7336, took 16.178 s\n"
     ]
    },
    {
     "data": {
      "application/vnd.jupyter.widget-view+json": {
       "model_id": "",
       "version_major": 2,
       "version_minor": 0
      },
      "text/plain": [
       "HBox(children=(FloatProgress(value=0.0, description='Training', layout=Layout(flex='2'), max=282.0, style=Prog…"
      ]
     },
     "metadata": {},
     "output_type": "display_data"
    },
    {
     "name": "stdout",
     "output_type": "stream",
     "text": [
      "Epoch 75: train=24.9686, val=24.6183, took 16.168 s\n"
     ]
    },
    {
     "data": {
      "application/vnd.jupyter.widget-view+json": {
       "model_id": "",
       "version_major": 2,
       "version_minor": 0
      },
      "text/plain": [
       "HBox(children=(FloatProgress(value=0.0, description='Training', layout=Layout(flex='2'), max=282.0, style=Prog…"
      ]
     },
     "metadata": {},
     "output_type": "display_data"
    },
    {
     "name": "stdout",
     "output_type": "stream",
     "text": [
      "Epoch 76: train=24.8553, val=24.508, took 16.138 s\n"
     ]
    },
    {
     "data": {
      "application/vnd.jupyter.widget-view+json": {
       "model_id": "",
       "version_major": 2,
       "version_minor": 0
      },
      "text/plain": [
       "HBox(children=(FloatProgress(value=0.0, description='Training', layout=Layout(flex='2'), max=282.0, style=Prog…"
      ]
     },
     "metadata": {},
     "output_type": "display_data"
    },
    {
     "name": "stdout",
     "output_type": "stream",
     "text": [
      "Epoch 77: train=24.7468, val=24.4037, took 16.105 s\n"
     ]
    },
    {
     "data": {
      "application/vnd.jupyter.widget-view+json": {
       "model_id": "",
       "version_major": 2,
       "version_minor": 0
      },
      "text/plain": [
       "HBox(children=(FloatProgress(value=0.0, description='Training', layout=Layout(flex='2'), max=282.0, style=Prog…"
      ]
     },
     "metadata": {},
     "output_type": "display_data"
    },
    {
     "name": "stdout",
     "output_type": "stream",
     "text": [
      "Epoch 78: train=24.6429, val=24.3041, took 16.14 s\n"
     ]
    },
    {
     "data": {
      "application/vnd.jupyter.widget-view+json": {
       "model_id": "",
       "version_major": 2,
       "version_minor": 0
      },
      "text/plain": [
       "HBox(children=(FloatProgress(value=0.0, description='Training', layout=Layout(flex='2'), max=282.0, style=Prog…"
      ]
     },
     "metadata": {},
     "output_type": "display_data"
    },
    {
     "name": "stdout",
     "output_type": "stream",
     "text": [
      "Epoch 79: train=24.5433, val=24.2086, took 16.179 s\n"
     ]
    },
    {
     "data": {
      "application/vnd.jupyter.widget-view+json": {
       "model_id": "",
       "version_major": 2,
       "version_minor": 0
      },
      "text/plain": [
       "HBox(children=(FloatProgress(value=0.0, description='Training', layout=Layout(flex='2'), max=282.0, style=Prog…"
      ]
     },
     "metadata": {},
     "output_type": "display_data"
    },
    {
     "name": "stdout",
     "output_type": "stream",
     "text": [
      "Epoch 80: train=24.4477, val=24.1174, took 16.247 s\n"
     ]
    },
    {
     "data": {
      "application/vnd.jupyter.widget-view+json": {
       "model_id": "",
       "version_major": 2,
       "version_minor": 0
      },
      "text/plain": [
       "HBox(children=(FloatProgress(value=0.0, description='Training', layout=Layout(flex='2'), max=282.0, style=Prog…"
      ]
     },
     "metadata": {},
     "output_type": "display_data"
    },
    {
     "name": "stdout",
     "output_type": "stream",
     "text": [
      "Epoch 81: train=24.3562, val=24.03, took 16.129 s\n"
     ]
    },
    {
     "data": {
      "application/vnd.jupyter.widget-view+json": {
       "model_id": "",
       "version_major": 2,
       "version_minor": 0
      },
      "text/plain": [
       "HBox(children=(FloatProgress(value=0.0, description='Training', layout=Layout(flex='2'), max=282.0, style=Prog…"
      ]
     },
     "metadata": {},
     "output_type": "display_data"
    },
    {
     "name": "stdout",
     "output_type": "stream",
     "text": [
      "Epoch 82: train=24.2686, val=23.9463, took 16.445 s\n"
     ]
    },
    {
     "data": {
      "application/vnd.jupyter.widget-view+json": {
       "model_id": "",
       "version_major": 2,
       "version_minor": 0
      },
      "text/plain": [
       "HBox(children=(FloatProgress(value=0.0, description='Training', layout=Layout(flex='2'), max=282.0, style=Prog…"
      ]
     },
     "metadata": {},
     "output_type": "display_data"
    },
    {
     "name": "stdout",
     "output_type": "stream",
     "text": [
      "Epoch 83: train=24.1844, val=23.8663, took 16.397 s\n"
     ]
    },
    {
     "data": {
      "application/vnd.jupyter.widget-view+json": {
       "model_id": "",
       "version_major": 2,
       "version_minor": 0
      },
      "text/plain": [
       "HBox(children=(FloatProgress(value=0.0, description='Training', layout=Layout(flex='2'), max=282.0, style=Prog…"
      ]
     },
     "metadata": {},
     "output_type": "display_data"
    },
    {
     "name": "stdout",
     "output_type": "stream",
     "text": [
      "Epoch 84: train=24.1037, val=23.7892, took 16.287 s\n"
     ]
    },
    {
     "data": {
      "application/vnd.jupyter.widget-view+json": {
       "model_id": "",
       "version_major": 2,
       "version_minor": 0
      },
      "text/plain": [
       "HBox(children=(FloatProgress(value=0.0, description='Training', layout=Layout(flex='2'), max=282.0, style=Prog…"
      ]
     },
     "metadata": {},
     "output_type": "display_data"
    },
    {
     "name": "stdout",
     "output_type": "stream",
     "text": [
      "Epoch 85: train=24.0262, val=23.7154, took 16.234 s\n"
     ]
    },
    {
     "data": {
      "application/vnd.jupyter.widget-view+json": {
       "model_id": "",
       "version_major": 2,
       "version_minor": 0
      },
      "text/plain": [
       "HBox(children=(FloatProgress(value=0.0, description='Training', layout=Layout(flex='2'), max=282.0, style=Prog…"
      ]
     },
     "metadata": {},
     "output_type": "display_data"
    },
    {
     "name": "stdout",
     "output_type": "stream",
     "text": [
      "Epoch 86: train=23.9517, val=23.6442, took 16.229 s\n"
     ]
    },
    {
     "data": {
      "application/vnd.jupyter.widget-view+json": {
       "model_id": "",
       "version_major": 2,
       "version_minor": 0
      },
      "text/plain": [
       "HBox(children=(FloatProgress(value=0.0, description='Training', layout=Layout(flex='2'), max=282.0, style=Prog…"
      ]
     },
     "metadata": {},
     "output_type": "display_data"
    },
    {
     "name": "stdout",
     "output_type": "stream",
     "text": [
      "Epoch 87: train=23.8803, val=23.5762, took 16.293 s\n"
     ]
    },
    {
     "data": {
      "application/vnd.jupyter.widget-view+json": {
       "model_id": "",
       "version_major": 2,
       "version_minor": 0
      },
      "text/plain": [
       "HBox(children=(FloatProgress(value=0.0, description='Training', layout=Layout(flex='2'), max=282.0, style=Prog…"
      ]
     },
     "metadata": {},
     "output_type": "display_data"
    },
    {
     "name": "stdout",
     "output_type": "stream",
     "text": [
      "Epoch 88: train=23.8116, val=23.5106, took 16.262 s\n"
     ]
    },
    {
     "data": {
      "application/vnd.jupyter.widget-view+json": {
       "model_id": "",
       "version_major": 2,
       "version_minor": 0
      },
      "text/plain": [
       "HBox(children=(FloatProgress(value=0.0, description='Training', layout=Layout(flex='2'), max=282.0, style=Prog…"
      ]
     },
     "metadata": {},
     "output_type": "display_data"
    },
    {
     "name": "stdout",
     "output_type": "stream",
     "text": [
      "Epoch 89: train=23.7454, val=23.4478, took 16.134 s\n"
     ]
    },
    {
     "data": {
      "application/vnd.jupyter.widget-view+json": {
       "model_id": "",
       "version_major": 2,
       "version_minor": 0
      },
      "text/plain": [
       "HBox(children=(FloatProgress(value=0.0, description='Training', layout=Layout(flex='2'), max=282.0, style=Prog…"
      ]
     },
     "metadata": {},
     "output_type": "display_data"
    },
    {
     "name": "stdout",
     "output_type": "stream",
     "text": [
      "Epoch 90: train=23.6819, val=23.3874, took 16.295 s\n"
     ]
    },
    {
     "data": {
      "application/vnd.jupyter.widget-view+json": {
       "model_id": "",
       "version_major": 2,
       "version_minor": 0
      },
      "text/plain": [
       "HBox(children=(FloatProgress(value=0.0, description='Training', layout=Layout(flex='2'), max=282.0, style=Prog…"
      ]
     },
     "metadata": {},
     "output_type": "display_data"
    },
    {
     "name": "stdout",
     "output_type": "stream",
     "text": [
      "Epoch 91: train=23.6208, val=23.329, took 16.438 s\n"
     ]
    },
    {
     "data": {
      "application/vnd.jupyter.widget-view+json": {
       "model_id": "",
       "version_major": 2,
       "version_minor": 0
      },
      "text/plain": [
       "HBox(children=(FloatProgress(value=0.0, description='Training', layout=Layout(flex='2'), max=282.0, style=Prog…"
      ]
     },
     "metadata": {},
     "output_type": "display_data"
    },
    {
     "name": "stdout",
     "output_type": "stream",
     "text": [
      "Epoch 92: train=23.5618, val=23.2735, took 16.414 s\n"
     ]
    },
    {
     "data": {
      "application/vnd.jupyter.widget-view+json": {
       "model_id": "",
       "version_major": 2,
       "version_minor": 0
      },
      "text/plain": [
       "HBox(children=(FloatProgress(value=0.0, description='Training', layout=Layout(flex='2'), max=282.0, style=Prog…"
      ]
     },
     "metadata": {},
     "output_type": "display_data"
    },
    {
     "name": "stdout",
     "output_type": "stream",
     "text": [
      "Epoch 93: train=23.5055, val=23.2201, took 16.388 s\n"
     ]
    },
    {
     "data": {
      "application/vnd.jupyter.widget-view+json": {
       "model_id": "",
       "version_major": 2,
       "version_minor": 0
      },
      "text/plain": [
       "HBox(children=(FloatProgress(value=0.0, description='Training', layout=Layout(flex='2'), max=282.0, style=Prog…"
      ]
     },
     "metadata": {},
     "output_type": "display_data"
    },
    {
     "name": "stdout",
     "output_type": "stream",
     "text": [
      "Epoch 94: train=23.4512, val=23.1685, took 16.169 s\n"
     ]
    },
    {
     "data": {
      "application/vnd.jupyter.widget-view+json": {
       "model_id": "",
       "version_major": 2,
       "version_minor": 0
      },
      "text/plain": [
       "HBox(children=(FloatProgress(value=0.0, description='Training', layout=Layout(flex='2'), max=282.0, style=Prog…"
      ]
     },
     "metadata": {},
     "output_type": "display_data"
    },
    {
     "name": "stdout",
     "output_type": "stream",
     "text": [
      "Epoch 95: train=23.3989, val=23.1191, took 16.445 s\n"
     ]
    },
    {
     "data": {
      "application/vnd.jupyter.widget-view+json": {
       "model_id": "",
       "version_major": 2,
       "version_minor": 0
      },
      "text/plain": [
       "HBox(children=(FloatProgress(value=0.0, description='Training', layout=Layout(flex='2'), max=282.0, style=Prog…"
      ]
     },
     "metadata": {},
     "output_type": "display_data"
    },
    {
     "name": "stdout",
     "output_type": "stream",
     "text": [
      "Epoch 96: train=23.3487, val=23.0716, took 16.339 s\n"
     ]
    },
    {
     "data": {
      "application/vnd.jupyter.widget-view+json": {
       "model_id": "",
       "version_major": 2,
       "version_minor": 0
      },
      "text/plain": [
       "HBox(children=(FloatProgress(value=0.0, description='Training', layout=Layout(flex='2'), max=282.0, style=Prog…"
      ]
     },
     "metadata": {},
     "output_type": "display_data"
    },
    {
     "name": "stdout",
     "output_type": "stream",
     "text": [
      "Epoch 97: train=23.3004, val=23.0259, took 16.338 s\n"
     ]
    },
    {
     "data": {
      "application/vnd.jupyter.widget-view+json": {
       "model_id": "",
       "version_major": 2,
       "version_minor": 0
      },
      "text/plain": [
       "HBox(children=(FloatProgress(value=0.0, description='Training', layout=Layout(flex='2'), max=282.0, style=Prog…"
      ]
     },
     "metadata": {},
     "output_type": "display_data"
    },
    {
     "name": "stdout",
     "output_type": "stream",
     "text": [
      "Epoch 98: train=23.2537, val=22.9819, took 16.399 s\n"
     ]
    },
    {
     "data": {
      "application/vnd.jupyter.widget-view+json": {
       "model_id": "",
       "version_major": 2,
       "version_minor": 0
      },
      "text/plain": [
       "HBox(children=(FloatProgress(value=0.0, description='Training', layout=Layout(flex='2'), max=282.0, style=Prog…"
      ]
     },
     "metadata": {},
     "output_type": "display_data"
    },
    {
     "name": "stdout",
     "output_type": "stream",
     "text": [
      "Epoch 99: train=23.2088, val=22.939, took 16.429 s\n",
      "\n"
     ]
    }
   ],
   "source": [
    "for result in trainNet(model, optimizer, loss,\n",
    "                        train_loader, val_loader,\n",
    "                        n_epochs, epoch_start=len(results),\n",
    "                        notebook=True):\n",
    "    \n",
    "    results = results.append(pd.Series(result._asdict()), ignore_index=True)\n",
    "    xs = results.index\n",
    "    \n",
    "    # Update the plot above\n",
    "    lines['train'].set_data(results.index,results.cost)\n",
    "    lines['val'].set_data(results.index,results.val)\n",
    "    \n",
    "    #filter first cost epoch (can be really large)\n",
    "    max_cost = max(max(results.cost if len(results.cost)<2 else results.cost[1:]), max(results.val))\n",
    "    min_cost = min(min(results.cost), min(results.val))\n",
    "    \n",
    "    # The plot limits need updating too\n",
    "    \n",
    "    \n",
    "    \n",
    "    ax.set_ylim(min_cost*.9, max_cost*1.1)  \n",
    "    ax.set_xlim(-.5, len(results.cost) - .5)\n",
    "\n",
    "    \n",
    "    # Redraw the figure\n",
    "    fig.canvas.draw()\n",
    "\n",
    "    # Save each model state dictionary\n",
    "    torch.save(model.state_dict(), output / f'{name}_{result.epoch}.pyt')"
   ]
  },
  {
   "cell_type": "markdown",
   "metadata": {},
   "source": [
    "Go ahead and save the final model (even though it was also saved above):"
   ]
  },
  {
   "cell_type": "code",
   "execution_count": 17,
   "metadata": {},
   "outputs": [],
   "source": [
    "torch.save(model.state_dict(), output / f'{name}_final.pyt')"
   ]
  },
  {
   "cell_type": "markdown",
   "metadata": {},
   "source": [
    "Save the output results:"
   ]
  },
  {
   "cell_type": "code",
   "execution_count": 18,
   "metadata": {},
   "outputs": [],
   "source": [
    "results.to_hdf(f'{name}_stats.hdf5', 'results')"
   ]
  },
  {
   "cell_type": "markdown",
   "metadata": {},
   "source": [
    "Save the plot above:"
   ]
  },
  {
   "cell_type": "code",
   "execution_count": 19,
   "metadata": {
    "scrolled": false
   },
   "outputs": [
    {
     "data": {
      "application/javascript": [
       "/* Put everything inside the global mpl namespace */\n",
       "window.mpl = {};\n",
       "\n",
       "\n",
       "mpl.get_websocket_type = function() {\n",
       "    if (typeof(WebSocket) !== 'undefined') {\n",
       "        return WebSocket;\n",
       "    } else if (typeof(MozWebSocket) !== 'undefined') {\n",
       "        return MozWebSocket;\n",
       "    } else {\n",
       "        alert('Your browser does not have WebSocket support. ' +\n",
       "              'Please try Chrome, Safari or Firefox ≥ 6. ' +\n",
       "              'Firefox 4 and 5 are also supported but you ' +\n",
       "              'have to enable WebSockets in about:config.');\n",
       "    };\n",
       "}\n",
       "\n",
       "mpl.figure = function(figure_id, websocket, ondownload, parent_element) {\n",
       "    this.id = figure_id;\n",
       "\n",
       "    this.ws = websocket;\n",
       "\n",
       "    this.supports_binary = (this.ws.binaryType != undefined);\n",
       "\n",
       "    if (!this.supports_binary) {\n",
       "        var warnings = document.getElementById(\"mpl-warnings\");\n",
       "        if (warnings) {\n",
       "            warnings.style.display = 'block';\n",
       "            warnings.textContent = (\n",
       "                \"This browser does not support binary websocket messages. \" +\n",
       "                    \"Performance may be slow.\");\n",
       "        }\n",
       "    }\n",
       "\n",
       "    this.imageObj = new Image();\n",
       "\n",
       "    this.context = undefined;\n",
       "    this.message = undefined;\n",
       "    this.canvas = undefined;\n",
       "    this.rubberband_canvas = undefined;\n",
       "    this.rubberband_context = undefined;\n",
       "    this.format_dropdown = undefined;\n",
       "\n",
       "    this.image_mode = 'full';\n",
       "\n",
       "    this.root = $('<div/>');\n",
       "    this._root_extra_style(this.root)\n",
       "    this.root.attr('style', 'display: inline-block');\n",
       "\n",
       "    $(parent_element).append(this.root);\n",
       "\n",
       "    this._init_header(this);\n",
       "    this._init_canvas(this);\n",
       "    this._init_toolbar(this);\n",
       "\n",
       "    var fig = this;\n",
       "\n",
       "    this.waiting = false;\n",
       "\n",
       "    this.ws.onopen =  function () {\n",
       "            fig.send_message(\"supports_binary\", {value: fig.supports_binary});\n",
       "            fig.send_message(\"send_image_mode\", {});\n",
       "            if (mpl.ratio != 1) {\n",
       "                fig.send_message(\"set_dpi_ratio\", {'dpi_ratio': mpl.ratio});\n",
       "            }\n",
       "            fig.send_message(\"refresh\", {});\n",
       "        }\n",
       "\n",
       "    this.imageObj.onload = function() {\n",
       "            if (fig.image_mode == 'full') {\n",
       "                // Full images could contain transparency (where diff images\n",
       "                // almost always do), so we need to clear the canvas so that\n",
       "                // there is no ghosting.\n",
       "                fig.context.clearRect(0, 0, fig.canvas.width, fig.canvas.height);\n",
       "            }\n",
       "            fig.context.drawImage(fig.imageObj, 0, 0);\n",
       "        };\n",
       "\n",
       "    this.imageObj.onunload = function() {\n",
       "        fig.ws.close();\n",
       "    }\n",
       "\n",
       "    this.ws.onmessage = this._make_on_message_function(this);\n",
       "\n",
       "    this.ondownload = ondownload;\n",
       "}\n",
       "\n",
       "mpl.figure.prototype._init_header = function() {\n",
       "    var titlebar = $(\n",
       "        '<div class=\"ui-dialog-titlebar ui-widget-header ui-corner-all ' +\n",
       "        'ui-helper-clearfix\"/>');\n",
       "    var titletext = $(\n",
       "        '<div class=\"ui-dialog-title\" style=\"width: 100%; ' +\n",
       "        'text-align: center; padding: 3px;\"/>');\n",
       "    titlebar.append(titletext)\n",
       "    this.root.append(titlebar);\n",
       "    this.header = titletext[0];\n",
       "}\n",
       "\n",
       "\n",
       "\n",
       "mpl.figure.prototype._canvas_extra_style = function(canvas_div) {\n",
       "\n",
       "}\n",
       "\n",
       "\n",
       "mpl.figure.prototype._root_extra_style = function(canvas_div) {\n",
       "\n",
       "}\n",
       "\n",
       "mpl.figure.prototype._init_canvas = function() {\n",
       "    var fig = this;\n",
       "\n",
       "    var canvas_div = $('<div/>');\n",
       "\n",
       "    canvas_div.attr('style', 'position: relative; clear: both; outline: 0');\n",
       "\n",
       "    function canvas_keyboard_event(event) {\n",
       "        return fig.key_event(event, event['data']);\n",
       "    }\n",
       "\n",
       "    canvas_div.keydown('key_press', canvas_keyboard_event);\n",
       "    canvas_div.keyup('key_release', canvas_keyboard_event);\n",
       "    this.canvas_div = canvas_div\n",
       "    this._canvas_extra_style(canvas_div)\n",
       "    this.root.append(canvas_div);\n",
       "\n",
       "    var canvas = $('<canvas/>');\n",
       "    canvas.addClass('mpl-canvas');\n",
       "    canvas.attr('style', \"left: 0; top: 0; z-index: 0; outline: 0\")\n",
       "\n",
       "    this.canvas = canvas[0];\n",
       "    this.context = canvas[0].getContext(\"2d\");\n",
       "\n",
       "    var backingStore = this.context.backingStorePixelRatio ||\n",
       "\tthis.context.webkitBackingStorePixelRatio ||\n",
       "\tthis.context.mozBackingStorePixelRatio ||\n",
       "\tthis.context.msBackingStorePixelRatio ||\n",
       "\tthis.context.oBackingStorePixelRatio ||\n",
       "\tthis.context.backingStorePixelRatio || 1;\n",
       "\n",
       "    mpl.ratio = (window.devicePixelRatio || 1) / backingStore;\n",
       "\n",
       "    var rubberband = $('<canvas/>');\n",
       "    rubberband.attr('style', \"position: absolute; left: 0; top: 0; z-index: 1;\")\n",
       "\n",
       "    var pass_mouse_events = true;\n",
       "\n",
       "    canvas_div.resizable({\n",
       "        start: function(event, ui) {\n",
       "            pass_mouse_events = false;\n",
       "        },\n",
       "        resize: function(event, ui) {\n",
       "            fig.request_resize(ui.size.width, ui.size.height);\n",
       "        },\n",
       "        stop: function(event, ui) {\n",
       "            pass_mouse_events = true;\n",
       "            fig.request_resize(ui.size.width, ui.size.height);\n",
       "        },\n",
       "    });\n",
       "\n",
       "    function mouse_event_fn(event) {\n",
       "        if (pass_mouse_events)\n",
       "            return fig.mouse_event(event, event['data']);\n",
       "    }\n",
       "\n",
       "    rubberband.mousedown('button_press', mouse_event_fn);\n",
       "    rubberband.mouseup('button_release', mouse_event_fn);\n",
       "    // Throttle sequential mouse events to 1 every 20ms.\n",
       "    rubberband.mousemove('motion_notify', mouse_event_fn);\n",
       "\n",
       "    rubberband.mouseenter('figure_enter', mouse_event_fn);\n",
       "    rubberband.mouseleave('figure_leave', mouse_event_fn);\n",
       "\n",
       "    canvas_div.on(\"wheel\", function (event) {\n",
       "        event = event.originalEvent;\n",
       "        event['data'] = 'scroll'\n",
       "        if (event.deltaY < 0) {\n",
       "            event.step = 1;\n",
       "        } else {\n",
       "            event.step = -1;\n",
       "        }\n",
       "        mouse_event_fn(event);\n",
       "    });\n",
       "\n",
       "    canvas_div.append(canvas);\n",
       "    canvas_div.append(rubberband);\n",
       "\n",
       "    this.rubberband = rubberband;\n",
       "    this.rubberband_canvas = rubberband[0];\n",
       "    this.rubberband_context = rubberband[0].getContext(\"2d\");\n",
       "    this.rubberband_context.strokeStyle = \"#000000\";\n",
       "\n",
       "    this._resize_canvas = function(width, height) {\n",
       "        // Keep the size of the canvas, canvas container, and rubber band\n",
       "        // canvas in synch.\n",
       "        canvas_div.css('width', width)\n",
       "        canvas_div.css('height', height)\n",
       "\n",
       "        canvas.attr('width', width * mpl.ratio);\n",
       "        canvas.attr('height', height * mpl.ratio);\n",
       "        canvas.attr('style', 'width: ' + width + 'px; height: ' + height + 'px;');\n",
       "\n",
       "        rubberband.attr('width', width);\n",
       "        rubberband.attr('height', height);\n",
       "    }\n",
       "\n",
       "    // Set the figure to an initial 600x600px, this will subsequently be updated\n",
       "    // upon first draw.\n",
       "    this._resize_canvas(600, 600);\n",
       "\n",
       "    // Disable right mouse context menu.\n",
       "    $(this.rubberband_canvas).bind(\"contextmenu\",function(e){\n",
       "        return false;\n",
       "    });\n",
       "\n",
       "    function set_focus () {\n",
       "        canvas.focus();\n",
       "        canvas_div.focus();\n",
       "    }\n",
       "\n",
       "    window.setTimeout(set_focus, 100);\n",
       "}\n",
       "\n",
       "mpl.figure.prototype._init_toolbar = function() {\n",
       "    var fig = this;\n",
       "\n",
       "    var nav_element = $('<div/>');\n",
       "    nav_element.attr('style', 'width: 100%');\n",
       "    this.root.append(nav_element);\n",
       "\n",
       "    // Define a callback function for later on.\n",
       "    function toolbar_event(event) {\n",
       "        return fig.toolbar_button_onclick(event['data']);\n",
       "    }\n",
       "    function toolbar_mouse_event(event) {\n",
       "        return fig.toolbar_button_onmouseover(event['data']);\n",
       "    }\n",
       "\n",
       "    for(var toolbar_ind in mpl.toolbar_items) {\n",
       "        var name = mpl.toolbar_items[toolbar_ind][0];\n",
       "        var tooltip = mpl.toolbar_items[toolbar_ind][1];\n",
       "        var image = mpl.toolbar_items[toolbar_ind][2];\n",
       "        var method_name = mpl.toolbar_items[toolbar_ind][3];\n",
       "\n",
       "        if (!name) {\n",
       "            // put a spacer in here.\n",
       "            continue;\n",
       "        }\n",
       "        var button = $('<button/>');\n",
       "        button.addClass('ui-button ui-widget ui-state-default ui-corner-all ' +\n",
       "                        'ui-button-icon-only');\n",
       "        button.attr('role', 'button');\n",
       "        button.attr('aria-disabled', 'false');\n",
       "        button.click(method_name, toolbar_event);\n",
       "        button.mouseover(tooltip, toolbar_mouse_event);\n",
       "\n",
       "        var icon_img = $('<span/>');\n",
       "        icon_img.addClass('ui-button-icon-primary ui-icon');\n",
       "        icon_img.addClass(image);\n",
       "        icon_img.addClass('ui-corner-all');\n",
       "\n",
       "        var tooltip_span = $('<span/>');\n",
       "        tooltip_span.addClass('ui-button-text');\n",
       "        tooltip_span.html(tooltip);\n",
       "\n",
       "        button.append(icon_img);\n",
       "        button.append(tooltip_span);\n",
       "\n",
       "        nav_element.append(button);\n",
       "    }\n",
       "\n",
       "    var fmt_picker_span = $('<span/>');\n",
       "\n",
       "    var fmt_picker = $('<select/>');\n",
       "    fmt_picker.addClass('mpl-toolbar-option ui-widget ui-widget-content');\n",
       "    fmt_picker_span.append(fmt_picker);\n",
       "    nav_element.append(fmt_picker_span);\n",
       "    this.format_dropdown = fmt_picker[0];\n",
       "\n",
       "    for (var ind in mpl.extensions) {\n",
       "        var fmt = mpl.extensions[ind];\n",
       "        var option = $(\n",
       "            '<option/>', {selected: fmt === mpl.default_extension}).html(fmt);\n",
       "        fmt_picker.append(option);\n",
       "    }\n",
       "\n",
       "    // Add hover states to the ui-buttons\n",
       "    $( \".ui-button\" ).hover(\n",
       "        function() { $(this).addClass(\"ui-state-hover\");},\n",
       "        function() { $(this).removeClass(\"ui-state-hover\");}\n",
       "    );\n",
       "\n",
       "    var status_bar = $('<span class=\"mpl-message\"/>');\n",
       "    nav_element.append(status_bar);\n",
       "    this.message = status_bar[0];\n",
       "}\n",
       "\n",
       "mpl.figure.prototype.request_resize = function(x_pixels, y_pixels) {\n",
       "    // Request matplotlib to resize the figure. Matplotlib will then trigger a resize in the client,\n",
       "    // which will in turn request a refresh of the image.\n",
       "    this.send_message('resize', {'width': x_pixels, 'height': y_pixels});\n",
       "}\n",
       "\n",
       "mpl.figure.prototype.send_message = function(type, properties) {\n",
       "    properties['type'] = type;\n",
       "    properties['figure_id'] = this.id;\n",
       "    this.ws.send(JSON.stringify(properties));\n",
       "}\n",
       "\n",
       "mpl.figure.prototype.send_draw_message = function() {\n",
       "    if (!this.waiting) {\n",
       "        this.waiting = true;\n",
       "        this.ws.send(JSON.stringify({type: \"draw\", figure_id: this.id}));\n",
       "    }\n",
       "}\n",
       "\n",
       "\n",
       "mpl.figure.prototype.handle_save = function(fig, msg) {\n",
       "    var format_dropdown = fig.format_dropdown;\n",
       "    var format = format_dropdown.options[format_dropdown.selectedIndex].value;\n",
       "    fig.ondownload(fig, format);\n",
       "}\n",
       "\n",
       "\n",
       "mpl.figure.prototype.handle_resize = function(fig, msg) {\n",
       "    var size = msg['size'];\n",
       "    if (size[0] != fig.canvas.width || size[1] != fig.canvas.height) {\n",
       "        fig._resize_canvas(size[0], size[1]);\n",
       "        fig.send_message(\"refresh\", {});\n",
       "    };\n",
       "}\n",
       "\n",
       "mpl.figure.prototype.handle_rubberband = function(fig, msg) {\n",
       "    var x0 = msg['x0'] / mpl.ratio;\n",
       "    var y0 = (fig.canvas.height - msg['y0']) / mpl.ratio;\n",
       "    var x1 = msg['x1'] / mpl.ratio;\n",
       "    var y1 = (fig.canvas.height - msg['y1']) / mpl.ratio;\n",
       "    x0 = Math.floor(x0) + 0.5;\n",
       "    y0 = Math.floor(y0) + 0.5;\n",
       "    x1 = Math.floor(x1) + 0.5;\n",
       "    y1 = Math.floor(y1) + 0.5;\n",
       "    var min_x = Math.min(x0, x1);\n",
       "    var min_y = Math.min(y0, y1);\n",
       "    var width = Math.abs(x1 - x0);\n",
       "    var height = Math.abs(y1 - y0);\n",
       "\n",
       "    fig.rubberband_context.clearRect(\n",
       "        0, 0, fig.canvas.width / mpl.ratio, fig.canvas.height / mpl.ratio);\n",
       "\n",
       "    fig.rubberband_context.strokeRect(min_x, min_y, width, height);\n",
       "}\n",
       "\n",
       "mpl.figure.prototype.handle_figure_label = function(fig, msg) {\n",
       "    // Updates the figure title.\n",
       "    fig.header.textContent = msg['label'];\n",
       "}\n",
       "\n",
       "mpl.figure.prototype.handle_cursor = function(fig, msg) {\n",
       "    var cursor = msg['cursor'];\n",
       "    switch(cursor)\n",
       "    {\n",
       "    case 0:\n",
       "        cursor = 'pointer';\n",
       "        break;\n",
       "    case 1:\n",
       "        cursor = 'default';\n",
       "        break;\n",
       "    case 2:\n",
       "        cursor = 'crosshair';\n",
       "        break;\n",
       "    case 3:\n",
       "        cursor = 'move';\n",
       "        break;\n",
       "    }\n",
       "    fig.rubberband_canvas.style.cursor = cursor;\n",
       "}\n",
       "\n",
       "mpl.figure.prototype.handle_message = function(fig, msg) {\n",
       "    fig.message.textContent = msg['message'];\n",
       "}\n",
       "\n",
       "mpl.figure.prototype.handle_draw = function(fig, msg) {\n",
       "    // Request the server to send over a new figure.\n",
       "    fig.send_draw_message();\n",
       "}\n",
       "\n",
       "mpl.figure.prototype.handle_image_mode = function(fig, msg) {\n",
       "    fig.image_mode = msg['mode'];\n",
       "}\n",
       "\n",
       "mpl.figure.prototype.updated_canvas_event = function() {\n",
       "    // Called whenever the canvas gets updated.\n",
       "    this.send_message(\"ack\", {});\n",
       "}\n",
       "\n",
       "// A function to construct a web socket function for onmessage handling.\n",
       "// Called in the figure constructor.\n",
       "mpl.figure.prototype._make_on_message_function = function(fig) {\n",
       "    return function socket_on_message(evt) {\n",
       "        if (evt.data instanceof Blob) {\n",
       "            /* FIXME: We get \"Resource interpreted as Image but\n",
       "             * transferred with MIME type text/plain:\" errors on\n",
       "             * Chrome.  But how to set the MIME type?  It doesn't seem\n",
       "             * to be part of the websocket stream */\n",
       "            evt.data.type = \"image/png\";\n",
       "\n",
       "            /* Free the memory for the previous frames */\n",
       "            if (fig.imageObj.src) {\n",
       "                (window.URL || window.webkitURL).revokeObjectURL(\n",
       "                    fig.imageObj.src);\n",
       "            }\n",
       "\n",
       "            fig.imageObj.src = (window.URL || window.webkitURL).createObjectURL(\n",
       "                evt.data);\n",
       "            fig.updated_canvas_event();\n",
       "            fig.waiting = false;\n",
       "            return;\n",
       "        }\n",
       "        else if (typeof evt.data === 'string' && evt.data.slice(0, 21) == \"data:image/png;base64\") {\n",
       "            fig.imageObj.src = evt.data;\n",
       "            fig.updated_canvas_event();\n",
       "            fig.waiting = false;\n",
       "            return;\n",
       "        }\n",
       "\n",
       "        var msg = JSON.parse(evt.data);\n",
       "        var msg_type = msg['type'];\n",
       "\n",
       "        // Call the  \"handle_{type}\" callback, which takes\n",
       "        // the figure and JSON message as its only arguments.\n",
       "        try {\n",
       "            var callback = fig[\"handle_\" + msg_type];\n",
       "        } catch (e) {\n",
       "            console.log(\"No handler for the '\" + msg_type + \"' message type: \", msg);\n",
       "            return;\n",
       "        }\n",
       "\n",
       "        if (callback) {\n",
       "            try {\n",
       "                // console.log(\"Handling '\" + msg_type + \"' message: \", msg);\n",
       "                callback(fig, msg);\n",
       "            } catch (e) {\n",
       "                console.log(\"Exception inside the 'handler_\" + msg_type + \"' callback:\", e, e.stack, msg);\n",
       "            }\n",
       "        }\n",
       "    };\n",
       "}\n",
       "\n",
       "// from http://stackoverflow.com/questions/1114465/getting-mouse-location-in-canvas\n",
       "mpl.findpos = function(e) {\n",
       "    //this section is from http://www.quirksmode.org/js/events_properties.html\n",
       "    var targ;\n",
       "    if (!e)\n",
       "        e = window.event;\n",
       "    if (e.target)\n",
       "        targ = e.target;\n",
       "    else if (e.srcElement)\n",
       "        targ = e.srcElement;\n",
       "    if (targ.nodeType == 3) // defeat Safari bug\n",
       "        targ = targ.parentNode;\n",
       "\n",
       "    // jQuery normalizes the pageX and pageY\n",
       "    // pageX,Y are the mouse positions relative to the document\n",
       "    // offset() returns the position of the element relative to the document\n",
       "    var x = e.pageX - $(targ).offset().left;\n",
       "    var y = e.pageY - $(targ).offset().top;\n",
       "\n",
       "    return {\"x\": x, \"y\": y};\n",
       "};\n",
       "\n",
       "/*\n",
       " * return a copy of an object with only non-object keys\n",
       " * we need this to avoid circular references\n",
       " * http://stackoverflow.com/a/24161582/3208463\n",
       " */\n",
       "function simpleKeys (original) {\n",
       "  return Object.keys(original).reduce(function (obj, key) {\n",
       "    if (typeof original[key] !== 'object')\n",
       "        obj[key] = original[key]\n",
       "    return obj;\n",
       "  }, {});\n",
       "}\n",
       "\n",
       "mpl.figure.prototype.mouse_event = function(event, name) {\n",
       "    var canvas_pos = mpl.findpos(event)\n",
       "\n",
       "    if (name === 'button_press')\n",
       "    {\n",
       "        this.canvas.focus();\n",
       "        this.canvas_div.focus();\n",
       "    }\n",
       "\n",
       "    var x = canvas_pos.x * mpl.ratio;\n",
       "    var y = canvas_pos.y * mpl.ratio;\n",
       "\n",
       "    this.send_message(name, {x: x, y: y, button: event.button,\n",
       "                             step: event.step,\n",
       "                             guiEvent: simpleKeys(event)});\n",
       "\n",
       "    /* This prevents the web browser from automatically changing to\n",
       "     * the text insertion cursor when the button is pressed.  We want\n",
       "     * to control all of the cursor setting manually through the\n",
       "     * 'cursor' event from matplotlib */\n",
       "    event.preventDefault();\n",
       "    return false;\n",
       "}\n",
       "\n",
       "mpl.figure.prototype._key_event_extra = function(event, name) {\n",
       "    // Handle any extra behaviour associated with a key event\n",
       "}\n",
       "\n",
       "mpl.figure.prototype.key_event = function(event, name) {\n",
       "\n",
       "    // Prevent repeat events\n",
       "    if (name == 'key_press')\n",
       "    {\n",
       "        if (event.which === this._key)\n",
       "            return;\n",
       "        else\n",
       "            this._key = event.which;\n",
       "    }\n",
       "    if (name == 'key_release')\n",
       "        this._key = null;\n",
       "\n",
       "    var value = '';\n",
       "    if (event.ctrlKey && event.which != 17)\n",
       "        value += \"ctrl+\";\n",
       "    if (event.altKey && event.which != 18)\n",
       "        value += \"alt+\";\n",
       "    if (event.shiftKey && event.which != 16)\n",
       "        value += \"shift+\";\n",
       "\n",
       "    value += 'k';\n",
       "    value += event.which.toString();\n",
       "\n",
       "    this._key_event_extra(event, name);\n",
       "\n",
       "    this.send_message(name, {key: value,\n",
       "                             guiEvent: simpleKeys(event)});\n",
       "    return false;\n",
       "}\n",
       "\n",
       "mpl.figure.prototype.toolbar_button_onclick = function(name) {\n",
       "    if (name == 'download') {\n",
       "        this.handle_save(this, null);\n",
       "    } else {\n",
       "        this.send_message(\"toolbar_button\", {name: name});\n",
       "    }\n",
       "};\n",
       "\n",
       "mpl.figure.prototype.toolbar_button_onmouseover = function(tooltip) {\n",
       "    this.message.textContent = tooltip;\n",
       "};\n",
       "mpl.toolbar_items = [[\"Home\", \"Reset original view\", \"fa fa-home icon-home\", \"home\"], [\"Back\", \"Back to previous view\", \"fa fa-arrow-left icon-arrow-left\", \"back\"], [\"Forward\", \"Forward to next view\", \"fa fa-arrow-right icon-arrow-right\", \"forward\"], [\"\", \"\", \"\", \"\"], [\"Pan\", \"Pan axes with left mouse, zoom with right\", \"fa fa-arrows icon-move\", \"pan\"], [\"Zoom\", \"Zoom to rectangle\", \"fa fa-square-o icon-check-empty\", \"zoom\"], [\"\", \"\", \"\", \"\"], [\"Download\", \"Download plot\", \"fa fa-floppy-o icon-save\", \"download\"]];\n",
       "\n",
       "mpl.extensions = [\"eps\", \"jpeg\", \"pdf\", \"png\", \"ps\", \"raw\", \"svg\", \"tif\"];\n",
       "\n",
       "mpl.default_extension = \"png\";var comm_websocket_adapter = function(comm) {\n",
       "    // Create a \"websocket\"-like object which calls the given IPython comm\n",
       "    // object with the appropriate methods. Currently this is a non binary\n",
       "    // socket, so there is still some room for performance tuning.\n",
       "    var ws = {};\n",
       "\n",
       "    ws.close = function() {\n",
       "        comm.close()\n",
       "    };\n",
       "    ws.send = function(m) {\n",
       "        //console.log('sending', m);\n",
       "        comm.send(m);\n",
       "    };\n",
       "    // Register the callback with on_msg.\n",
       "    comm.on_msg(function(msg) {\n",
       "        //console.log('receiving', msg['content']['data'], msg);\n",
       "        // Pass the mpl event to the overridden (by mpl) onmessage function.\n",
       "        ws.onmessage(msg['content']['data'])\n",
       "    });\n",
       "    return ws;\n",
       "}\n",
       "\n",
       "mpl.mpl_figure_comm = function(comm, msg) {\n",
       "    // This is the function which gets called when the mpl process\n",
       "    // starts-up an IPython Comm through the \"matplotlib\" channel.\n",
       "\n",
       "    var id = msg.content.data.id;\n",
       "    // Get hold of the div created by the display call when the Comm\n",
       "    // socket was opened in Python.\n",
       "    var element = $(\"#\" + id);\n",
       "    var ws_proxy = comm_websocket_adapter(comm)\n",
       "\n",
       "    function ondownload(figure, format) {\n",
       "        window.open(figure.imageObj.src);\n",
       "    }\n",
       "\n",
       "    var fig = new mpl.figure(id, ws_proxy,\n",
       "                           ondownload,\n",
       "                           element.get(0));\n",
       "\n",
       "    // Call onopen now - mpl needs it, as it is assuming we've passed it a real\n",
       "    // web socket which is closed, not our websocket->open comm proxy.\n",
       "    ws_proxy.onopen();\n",
       "\n",
       "    fig.parent_element = element.get(0);\n",
       "    fig.cell_info = mpl.find_output_cell(\"<div id='\" + id + \"'></div>\");\n",
       "    if (!fig.cell_info) {\n",
       "        console.error(\"Failed to find cell for figure\", id, fig);\n",
       "        return;\n",
       "    }\n",
       "\n",
       "    var output_index = fig.cell_info[2]\n",
       "    var cell = fig.cell_info[0];\n",
       "\n",
       "};\n",
       "\n",
       "mpl.figure.prototype.handle_close = function(fig, msg) {\n",
       "    var width = fig.canvas.width/mpl.ratio\n",
       "    fig.root.unbind('remove')\n",
       "\n",
       "    // Update the output cell to use the data from the current canvas.\n",
       "    fig.push_to_output();\n",
       "    var dataURL = fig.canvas.toDataURL();\n",
       "    // Re-enable the keyboard manager in IPython - without this line, in FF,\n",
       "    // the notebook keyboard shortcuts fail.\n",
       "    IPython.keyboard_manager.enable()\n",
       "    $(fig.parent_element).html('<img src=\"' + dataURL + '\" width=\"' + width + '\">');\n",
       "    fig.close_ws(fig, msg);\n",
       "}\n",
       "\n",
       "mpl.figure.prototype.close_ws = function(fig, msg){\n",
       "    fig.send_message('closing', msg);\n",
       "    // fig.ws.close()\n",
       "}\n",
       "\n",
       "mpl.figure.prototype.push_to_output = function(remove_interactive) {\n",
       "    // Turn the data on the canvas into data in the output cell.\n",
       "    var width = this.canvas.width/mpl.ratio\n",
       "    var dataURL = this.canvas.toDataURL();\n",
       "    this.cell_info[1]['text/html'] = '<img src=\"' + dataURL + '\" width=\"' + width + '\">';\n",
       "}\n",
       "\n",
       "mpl.figure.prototype.updated_canvas_event = function() {\n",
       "    // Tell IPython that the notebook contents must change.\n",
       "    IPython.notebook.set_dirty(true);\n",
       "    this.send_message(\"ack\", {});\n",
       "    var fig = this;\n",
       "    // Wait a second, then push the new image to the DOM so\n",
       "    // that it is saved nicely (might be nice to debounce this).\n",
       "    setTimeout(function () { fig.push_to_output() }, 1000);\n",
       "}\n",
       "\n",
       "mpl.figure.prototype._init_toolbar = function() {\n",
       "    var fig = this;\n",
       "\n",
       "    var nav_element = $('<div/>');\n",
       "    nav_element.attr('style', 'width: 100%');\n",
       "    this.root.append(nav_element);\n",
       "\n",
       "    // Define a callback function for later on.\n",
       "    function toolbar_event(event) {\n",
       "        return fig.toolbar_button_onclick(event['data']);\n",
       "    }\n",
       "    function toolbar_mouse_event(event) {\n",
       "        return fig.toolbar_button_onmouseover(event['data']);\n",
       "    }\n",
       "\n",
       "    for(var toolbar_ind in mpl.toolbar_items){\n",
       "        var name = mpl.toolbar_items[toolbar_ind][0];\n",
       "        var tooltip = mpl.toolbar_items[toolbar_ind][1];\n",
       "        var image = mpl.toolbar_items[toolbar_ind][2];\n",
       "        var method_name = mpl.toolbar_items[toolbar_ind][3];\n",
       "\n",
       "        if (!name) { continue; };\n",
       "\n",
       "        var button = $('<button class=\"btn btn-default\" href=\"#\" title=\"' + name + '\"><i class=\"fa ' + image + ' fa-lg\"></i></button>');\n",
       "        button.click(method_name, toolbar_event);\n",
       "        button.mouseover(tooltip, toolbar_mouse_event);\n",
       "        nav_element.append(button);\n",
       "    }\n",
       "\n",
       "    // Add the status bar.\n",
       "    var status_bar = $('<span class=\"mpl-message\" style=\"text-align:right; float: right;\"/>');\n",
       "    nav_element.append(status_bar);\n",
       "    this.message = status_bar[0];\n",
       "\n",
       "    // Add the close button to the window.\n",
       "    var buttongrp = $('<div class=\"btn-group inline pull-right\"></div>');\n",
       "    var button = $('<button class=\"btn btn-mini btn-primary\" href=\"#\" title=\"Stop Interaction\"><i class=\"fa fa-power-off icon-remove icon-large\"></i></button>');\n",
       "    button.click(function (evt) { fig.handle_close(fig, {}); } );\n",
       "    button.mouseover('Stop Interaction', toolbar_mouse_event);\n",
       "    buttongrp.append(button);\n",
       "    var titlebar = this.root.find($('.ui-dialog-titlebar'));\n",
       "    titlebar.prepend(buttongrp);\n",
       "}\n",
       "\n",
       "mpl.figure.prototype._root_extra_style = function(el){\n",
       "    var fig = this\n",
       "    el.on(\"remove\", function(){\n",
       "\tfig.close_ws(fig, {});\n",
       "    });\n",
       "}\n",
       "\n",
       "mpl.figure.prototype._canvas_extra_style = function(el){\n",
       "    // this is important to make the div 'focusable\n",
       "    el.attr('tabindex', 0)\n",
       "    // reach out to IPython and tell the keyboard manager to turn it's self\n",
       "    // off when our div gets focus\n",
       "\n",
       "    // location in version 3\n",
       "    if (IPython.notebook.keyboard_manager) {\n",
       "        IPython.notebook.keyboard_manager.register_events(el);\n",
       "    }\n",
       "    else {\n",
       "        // location in version 2\n",
       "        IPython.keyboard_manager.register_events(el);\n",
       "    }\n",
       "\n",
       "}\n",
       "\n",
       "mpl.figure.prototype._key_event_extra = function(event, name) {\n",
       "    var manager = IPython.notebook.keyboard_manager;\n",
       "    if (!manager)\n",
       "        manager = IPython.keyboard_manager;\n",
       "\n",
       "    // Check for shift+enter\n",
       "    if (event.shiftKey && event.which == 13) {\n",
       "        this.canvas_div.blur();\n",
       "        // select the cell after this one\n",
       "        var index = IPython.notebook.find_cell_index(this.cell_info[0]);\n",
       "        IPython.notebook.select(index + 1);\n",
       "    }\n",
       "}\n",
       "\n",
       "mpl.figure.prototype.handle_save = function(fig, msg) {\n",
       "    fig.ondownload(fig, null);\n",
       "}\n",
       "\n",
       "\n",
       "mpl.find_output_cell = function(html_output) {\n",
       "    // Return the cell and output element which can be found *uniquely* in the notebook.\n",
       "    // Note - this is a bit hacky, but it is done because the \"notebook_saving.Notebook\"\n",
       "    // IPython event is triggered only after the cells have been serialised, which for\n",
       "    // our purposes (turning an active figure into a static one), is too late.\n",
       "    var cells = IPython.notebook.get_cells();\n",
       "    var ncells = cells.length;\n",
       "    for (var i=0; i<ncells; i++) {\n",
       "        var cell = cells[i];\n",
       "        if (cell.cell_type === 'code'){\n",
       "            for (var j=0; j<cell.output_area.outputs.length; j++) {\n",
       "                var data = cell.output_area.outputs[j];\n",
       "                if (data.data) {\n",
       "                    // IPython >= 3 moved mimebundle to data attribute of output\n",
       "                    data = data.data;\n",
       "                }\n",
       "                if (data['text/html'] == html_output) {\n",
       "                    return [cell, data, j];\n",
       "                }\n",
       "            }\n",
       "        }\n",
       "    }\n",
       "}\n",
       "\n",
       "// Register the function which deals with the matplotlib target/channel.\n",
       "// The kernel may be null if the page has been refreshed.\n",
       "if (IPython.notebook.kernel != null) {\n",
       "    IPython.notebook.kernel.comm_manager.register_target('matplotlib', mpl.mpl_figure_comm);\n",
       "}\n"
      ],
      "text/plain": [
       "<IPython.core.display.Javascript object>"
      ]
     },
     "metadata": {},
     "output_type": "display_data"
    },
    {
     "data": {
      "text/html": [
       "<img src=\"data:image/png;base64,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\" width=\"1000\">"
      ],
      "text/plain": [
       "<IPython.core.display.HTML object>"
      ]
     },
     "metadata": {},
     "output_type": "display_data"
    }
   ],
   "source": [
    "dual_train_plots(results.index,\n",
    "                 results.cost, results.val,\n",
    "                 results.cost, results.val)\n",
    "plt.tight_layout()\n",
    "plt.savefig(str(output / f'{name}_stats_a.png'))"
   ]
  },
  {
   "cell_type": "code",
   "execution_count": null,
   "metadata": {},
   "outputs": [],
   "source": []
  }
 ],
 "metadata": {
  "kernelspec": {
   "display_name": "june2020-gpu",
   "language": "python",
   "name": "june2020-gpu"
  },
  "language_info": {
   "codemirror_mode": {
    "name": "ipython",
    "version": 3
   },
   "file_extension": ".py",
   "mimetype": "text/x-python",
   "name": "python",
   "nbconvert_exporter": "python",
   "pygments_lexer": "ipython3",
   "version": "3.7.6"
  }
 },
 "nbformat": 4,
 "nbformat_minor": 2
}
