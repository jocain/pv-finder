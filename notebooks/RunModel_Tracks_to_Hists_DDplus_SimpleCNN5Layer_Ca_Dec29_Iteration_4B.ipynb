{
 "cells": [
  {
   "cell_type": "code",
   "execution_count": 1,
   "metadata": {},
   "outputs": [],
   "source": [
    "##%matplotlib widget\n",
    "## with %matplotlib notebook: seems to require ipympl as part of environment, either\n",
    "## part of the conda environment or \"pip install ipympl\"\n",
    "## otherwise, does not show ANY plots in notebook, plt.savefig() works\n",
    "%matplotlib notebook  \n",
    "##%matplotlib inline    ## --plt.savefig()  works, but re-sizing does NOT\n"
   ]
  },
  {
   "cell_type": "markdown",
   "metadata": {},
   "source": [
    "This notebook is a first attempt to read in track information and use it to predict the the full target histrograms.\n",
    "\n",
    "It will read in the TracksToDKE__Ellipsoids_DDPlus model to predict the KDE, and then feed it into a SimpleCNN model to predict the target histograms.  Initially, it will use previously trained weights.\n"
   ]
  },
  {
   "cell_type": "markdown",
   "metadata": {},
   "source": [
    "Check the current GPU usage. Please try to be nice!"
   ]
  },
  {
   "cell_type": "code",
   "execution_count": 2,
   "metadata": {},
   "outputs": [
    {
     "name": "stdout",
     "output_type": "stream",
     "text": [
      "Tue Dec 29 19:06:46 2020       \r\n",
      "+-----------------------------------------------------------------------------+\r\n",
      "| NVIDIA-SMI 450.36.06    Driver Version: 450.36.06    CUDA Version: 11.0     |\r\n",
      "|-------------------------------+----------------------+----------------------+\r\n",
      "| GPU  Name        Persistence-M| Bus-Id        Disp.A | Volatile Uncorr. ECC |\r\n",
      "| Fan  Temp  Perf  Pwr:Usage/Cap|         Memory-Usage | GPU-Util  Compute M. |\r\n",
      "|                               |                      |               MIG M. |\r\n",
      "|===============================+======================+======================|\r\n",
      "|   0  GeForce RTX 208...  On   | 00000000:18:00.0 Off |                  N/A |\r\n",
      "| 29%   41C    P8    40W / 250W |   6474MiB / 11019MiB |      0%      Default |\r\n",
      "|                               |                      |                  N/A |\r\n",
      "+-------------------------------+----------------------+----------------------+\r\n",
      "|   1  GeForce RTX 208...  On   | 00000000:3B:00.0 Off |                  N/A |\r\n",
      "| 41%   69C    P2   180W / 250W |   5243MiB / 11019MiB |     32%      Default |\r\n",
      "|                               |                      |                  N/A |\r\n",
      "+-------------------------------+----------------------+----------------------+\r\n",
      "                                                                               \r\n",
      "+-----------------------------------------------------------------------------+\r\n",
      "| Processes:                                                                  |\r\n",
      "|  GPU   GI   CI        PID   Type   Process name                  GPU Memory |\r\n",
      "|        ID   ID                                                   Usage      |\r\n",
      "|=============================================================================|\r\n",
      "|    0   N/A  N/A     35722      C   ...s/june2020-gpu/bin/python     3529MiB |\r\n",
      "|    0   N/A  N/A     50808      C   ...s/june2020-gpu/bin/python      887MiB |\r\n",
      "|    0   N/A  N/A    143437      C   python                            919MiB |\r\n",
      "|    0   N/A  N/A    147786      C   ...s/june2020-gpu/bin/python     1135MiB |\r\n",
      "|    1   N/A  N/A      3736      G   /usr/bin/X                         33MiB |\r\n",
      "|    1   N/A  N/A      3790      G   /usr/bin/gnome-shell               25MiB |\r\n",
      "|    1   N/A  N/A    143437      C   python                           5179MiB |\r\n",
      "+-----------------------------------------------------------------------------+\r\n"
     ]
    }
   ],
   "source": [
    "!nvidia-smi"
   ]
  },
  {
   "cell_type": "markdown",
   "metadata": {},
   "source": [
    "> **WARNING**: The card numbers here are *not* the same as in CUDA. You have been warned."
   ]
  },
  {
   "cell_type": "markdown",
   "metadata": {},
   "source": [
    "## Imports"
   ]
  },
  {
   "cell_type": "code",
   "execution_count": 3,
   "metadata": {},
   "outputs": [],
   "source": [
    "import matplotlib.pyplot as plt\n",
    "import numpy as np\n",
    "import time\n",
    "import torch\n",
    "import pandas as pd\n",
    "\n",
    "# Python 3 standard library\n",
    "from pathlib import Path\n",
    "\n",
    "from model.efficiency import pv_locations, efficiency\n",
    "\n",
    "##from torchsummary import summary"
   ]
  },
  {
   "cell_type": "markdown",
   "metadata": {},
   "source": [
    "### Set up local parameters"
   ]
  },
  {
   "cell_type": "code",
   "execution_count": 4,
   "metadata": {},
   "outputs": [],
   "source": [
    "n_epochs = 1000\n",
    "\n",
    "# Name is the output file name\n",
    "\n",
    "\n",
    "##  200719  mds\n",
    "##folder = '20December_Tracks_to_KDE_TestTrainedModel'\n",
    "##folder = '22December_testing_DDplus_loss_Bb_iter2_floatAll_100epochs_3em6'\n",
    "folder = '29December_Tracks_to_Hists_Iteration_4B_1000epochs_lr_2em7_2p5_kde2hists_allFloat'\n",
    "name = folder\n",
    "\n",
    "# Make an output folder named \"name\" (change if you want)\n",
    "\n",
    "## Special instructions for those working on goofy at UC\n",
    "## Please be very careful to make sure that your folder\n",
    "## does not live in a subdirectory of your home directory\n",
    "## this disk has very little capacity. Instead, use \n",
    "## a subdirectory in /share/lazy with a symbolic link to\n",
    "## it in this (the notebooks) subdirectory\n",
    "folder = 'ML/' + folder\n",
    "output = Path(folder)\n",
    "\n",
    "\n",
    "# Size of batches\n",
    "batch_size = 16\n",
    "# How fast to learn\n",
    "learning_rate = 2e-7"
   ]
  },
  {
   "cell_type": "markdown",
   "metadata": {},
   "source": [
    "Make the output directory if it does not exist:"
   ]
  },
  {
   "cell_type": "code",
   "execution_count": 5,
   "metadata": {},
   "outputs": [],
   "source": [
    "output.mkdir(exist_ok=True)"
   ]
  },
  {
   "cell_type": "markdown",
   "metadata": {},
   "source": [
    "## Get the helper functions\n",
    "\n",
    "Add the directory with the model\n",
    "definitions to the path so we can import from it:\n",
    "\n",
    "> When you type `import X`,\n",
    "Python searches `sys.path` for a python\n",
    "file named `X.py` to import. So we need to add the model directory to the path."
   ]
  },
  {
   "cell_type": "code",
   "execution_count": 6,
   "metadata": {
    "scrolled": true
   },
   "outputs": [],
   "source": [
    "# From model/collectdata.py\n",
    "##from model.collectdata_kde_Ellipsoids import collect_t2kde_data\n",
    "from model.collectdata_t2hists import collect_t2hists_data\n",
    "from model.collectdata_mdsA  import collect_truth\n",
    "\n",
    "# From model/loss.py\n",
    "##from loss import Loss\n",
    "##from model.kde_loss_D import Loss\n",
    "## from model.kde_loss_B import Loss  ## Tracks_to_KDE loss, not for target hists\n",
    "\n",
    "##  \"standard\" ratios loss for hists training\n",
    "from model.alt_loss_A import Loss  ## loss used to train RunModel_Demo_28November2020-SimpleCNNLayer_Ca-Restart_5\n",
    "\n",
    "\n",
    "##from model.models_kde import TracksToKDE_Ellipsoids_DirtyDozen as Model\n",
    "from model.models_kde import TracksToKDE_Ellipsoids_DDplus as t2kde_model\n",
    "##from model.models_mds_G import SimpleCNN5Layer_Ca as kde2hists_model\n",
    "from model.models_mds_28Dec20 import SimpleCNN5Layer_Ca as kde2hists_model  ## copy of models_mds_01June20 for debugging\n",
    "from model.models_t2hists import TracksToHists_A as t2hists_model\n",
    "\n",
    "\n",
    "##from model.training_kde import trainNet, select_gpu, Results\n",
    "## training_t2hists_A.py increases \"difference\" for accepting found\n",
    "## peaks as matched from 5 bins to 7.5 bins (compmared to original training.py)\n",
    "from model.training_t2hists_A import trainNet, select_gpu, Results\n",
    "from model.plots import dual_train_plots, replace_in_ax"
   ]
  },
  {
   "cell_type": "code",
   "execution_count": 7,
   "metadata": {},
   "outputs": [],
   "source": [
    "# This gets built up during the run - do not rerun this cell\n",
    "results = pd.DataFrame([], columns=Results._fields)"
   ]
  },
  {
   "cell_type": "markdown",
   "metadata": {},
   "source": [
    "Set up Torch device configuration. All tensors and model parameters need to know where to be put.\n",
    "This takes a BUS ID number: The BUS ID is the same as the listing at the top of this script."
   ]
  },
  {
   "cell_type": "code",
   "execution_count": 8,
   "metadata": {},
   "outputs": [
    {
     "name": "stdout",
     "output_type": "stream",
     "text": [
      "1 available GPUs (initially using device 0):\n",
      "  0 GeForce RTX 2080 Ti\n"
     ]
    }
   ],
   "source": [
    "device = select_gpu(0)\n",
    "##device = \"cpu\""
   ]
  },
  {
   "cell_type": "markdown",
   "metadata": {},
   "source": [
    "## Loading data\n",
    "\n",
    "Load the dataset, split into parts, then move to device (see `collectdata.py` in the `../model` directory)"
   ]
  },
  {
   "cell_type": "code",
   "execution_count": 9,
   "metadata": {
    "scrolled": false
   },
   "outputs": [
    {
     "name": "stdout",
     "output_type": "stream",
     "text": [
      "Loading data...\n",
      "pocaMx.shape =  (20000,)\n",
      "nEvts =  20000\n",
      "len(pocaMx[0]) =  211\n",
      "len(pocaMx[1]) =  21\n",
      "len(pocaMx[2]) =  20\n",
      "len(pocaMx[3]) =  198\n",
      "len(pocaMx[4]) =  233\n",
      "have entered six_ellipsoid_parameters\n",
      "  \n",
      " \n",
      "  nEvts =  20000\n",
      " iEvt, nTrks =  0 211\n",
      " iEvt, nTrks =  1 21\n",
      " iEvt, nTrks =  2 20\n",
      " iEvt, nTrks =  3 198\n",
      " iEvt, nTrks =  4 233\n",
      " iEvt, nTrks =  5 85\n",
      " iEvt, nTrks =  6 223\n",
      " iEvt, nTrks =  7 425\n",
      " iEvt, nTrks =  8 252\n",
      " iEvt, nTrks =  9 169\n",
      "len(X) =  20000\n",
      "len(Xlist) =  1\n",
      "Loaded dataAA/20K_POCA_kernel_evts_200926.h5 in 27.26 s\n",
      "outer loop X.shape =  (20000, 9, 600)\n",
      "Constructing 18000 event dataset took 0.09099 s\n",
      "x_t.shape =  torch.Size([18000, 9, 600])\n",
      "x_t.shape[0] =  18000\n",
      "x_t.shape[1] =  9\n",
      "x_t.shape =  torch.Size([18000, 9, 600])\n",
      "Loading data...\n",
      "pocaMx.shape =  (20000,)\n",
      "nEvts =  20000\n",
      "len(pocaMx[0]) =  211\n",
      "len(pocaMx[1]) =  21\n",
      "len(pocaMx[2]) =  20\n",
      "len(pocaMx[3]) =  198\n",
      "len(pocaMx[4]) =  233\n",
      "have entered six_ellipsoid_parameters\n",
      "  \n",
      " \n",
      "  nEvts =  20000\n",
      " iEvt, nTrks =  0 211\n",
      " iEvt, nTrks =  1 21\n",
      " iEvt, nTrks =  2 20\n",
      " iEvt, nTrks =  3 198\n",
      " iEvt, nTrks =  4 233\n",
      " iEvt, nTrks =  5 85\n",
      " iEvt, nTrks =  6 223\n",
      " iEvt, nTrks =  7 425\n",
      " iEvt, nTrks =  8 252\n",
      " iEvt, nTrks =  9 169\n",
      "len(X) =  20000\n",
      "len(Xlist) =  1\n",
      "Loaded dataAA/20K_POCA_kernel_evts_200926.h5 in 26.68 s\n",
      "outer loop X.shape =  (20000, 9, 600)\n",
      "Constructing 2000 event dataset took 2.086 s\n",
      "x_t.shape =  torch.Size([2000, 9, 600])\n",
      "x_t.shape[0] =  2000\n",
      "x_t.shape[1] =  9\n",
      "x_t.shape =  torch.Size([2000, 9, 600])\n",
      "Loaded dataAA/20K_POCA_kernel_evts_200926.h5 in 0.0244 s\n",
      "PV.n.shape =     (20000,)\n",
      "PV.n[0].shape =  6\n",
      "PV.x[0] =        -0.06039733 0.034324445 0.032115813 0.0021888595 -0.035334907 -0.013019809\n",
      "PV.y[0] =        -0.09381338 -0.013181885 -0.030898828 -0.08940365 -0.0058297813 0.062288247\n",
      "PV.z[0] =        97.82085 61.021088 -0.15807877 134.26784 -29.881668 79.19783\n",
      "PV.n[0] =        24 26 10 7 24 19\n",
      "PV.cat[0] =      1 1 1 1 1 1\n",
      "Loaded dataAA/20K_POCA_kernel_evts_200926.h5 in 0.01657 s\n",
      "SV.n.shape =     (20000,)\n",
      "SV.n[0].shape =  2\n",
      "SV.x[0] =        -0.014751727 0.03923173\n",
      "SV.y[0] =        0.050640453 0.08648109\n",
      "SV.z[0] =        78.924194 79.170876\n",
      "SV.n[0] =        2 0\n",
      "SV.cat[0] =      1 -1\n"
     ]
    }
   ],
   "source": [
    "train_loader = collect_t2hists_data('dataAA/20K_POCA_kernel_evts_200926.h5',\n",
    "                             batch_size=batch_size,\n",
    "## if we are using a larger dataset (240K events, with the datasets above, and 11 GB  of GPU memory),\n",
    "## not the dataset will overflow the GPU memory; device=device will allow the data to move back\n",
    "## and forth between the CPU and GPU memory. While this allows use of a larger dataset, it slows\n",
    "## down performance by about 10%.  So comment out when not needed.\n",
    "##                           device=device,\n",
    "                             slice = slice(0,18000)\n",
    "                           )\n",
    "\n",
    "\n",
    "\n",
    "                            \n",
    "# Validation dataset. You can slice to reduce the size.\n",
    "## mds no separate validation set yet,\n",
    "val_loader = collect_t2hists_data('dataAA/20K_POCA_kernel_evts_200926.h5',\n",
    "                            batch_size=batch_size,\n",
    "                            device=device,\n",
    "                            slice = slice(18000,None)\n",
    "                           )\n",
    "\n",
    "PV = collect_truth('dataAA/20K_POCA_kernel_evts_200926.h5', pvs=True)\n",
    "print('PV.n.shape =    ',  PV.n.shape)\n",
    "print('PV.n[0].shape = ', *PV.n[0].shape)\n",
    "print('PV.x[0] =       ', *PV.x[0])\n",
    "print('PV.y[0] =       ', *PV.y[0])\n",
    "print('PV.z[0] =       ', *PV.z[0])\n",
    "print('PV.n[0] =       ', *PV.n[0])\n",
    "print('PV.cat[0] =     ', *PV.cat[0])\n",
    "\n",
    "SV = collect_truth('dataAA/20K_POCA_kernel_evts_200926.h5', pvs=False)\n",
    "print('SV.n.shape =    ', SV.n.shape)\n",
    "print('SV.n[0].shape = ', *SV.n[0].shape)\n",
    "print('SV.x[0] =       ', *SV.x[0])\n",
    "print('SV.y[0] =       ', *SV.y[0])\n",
    "print('SV.z[0] =       ', *SV.z[0])\n",
    "print('SV.n[0] =       ', *SV.n[0])\n",
    "print('SV.cat[0] =     ', *SV.cat[0])\n"
   ]
  },
  {
   "cell_type": "markdown",
   "metadata": {},
   "source": [
    "# Preparing the model"
   ]
  },
  {
   "cell_type": "markdown",
   "metadata": {},
   "source": [
    "Prepare a model, use multiple GPUs if they are VISIBLE, and move the model to the device."
   ]
  },
  {
   "cell_type": "code",
   "execution_count": 10,
   "metadata": {
    "scrolled": false
   },
   "outputs": [
    {
     "name": "stdout",
     "output_type": "stream",
     "text": [
      "ct, child =  0    Linear(in_features=9, out_features=50, bias=True)\n",
      "ct, child =  1    Linear(in_features=50, out_features=50, bias=True)\n",
      "ct, child =  2    Linear(in_features=50, out_features=50, bias=True)\n",
      "ct, child =  3    Linear(in_features=50, out_features=50, bias=True)\n",
      "ct, child =  4    Linear(in_features=50, out_features=50, bias=True)\n",
      "ct, child =  5    Linear(in_features=50, out_features=50, bias=True)\n",
      "ct, child =  6    Linear(in_features=50, out_features=50, bias=True)\n",
      "ct, child =  7    Linear(in_features=50, out_features=50, bias=True)\n",
      "ct, child =  8    Linear(in_features=50, out_features=50, bias=True)\n",
      "ct, child =  9    Linear(in_features=50, out_features=50, bias=True)\n",
      "ct, child =  10    Linear(in_features=50, out_features=50, bias=True)\n",
      "ct, child =  11    Linear(in_features=50, out_features=16000, bias=True)\n",
      "ct, child =  12    Conv1d(4, 25, kernel_size=(25,), stride=(1,), padding=(12,))\n",
      "ct, child =  13    Conv1d(25, 1, kernel_size=(5,), stride=(1,), padding=(2,))\n",
      "ct, child =  14    Linear(in_features=4000, out_features=4000, bias=True)\n",
      "ct, child =  15    Dropout(p=0.15, inplace=False)\n",
      "ct, child =  16    Dropout(p=0.15, inplace=False)\n",
      "ct, child =  17    Conv1d(1, 20, kernel_size=(25,), stride=(1,), padding=(12,))\n",
      "ct, child =  18    Conv1d(20, 10, kernel_size=(15,), stride=(1,), padding=(7,))\n",
      "ct, child =  19    Conv1d(10, 10, kernel_size=(15,), stride=(1,), padding=(7,))\n",
      "ct, child =  20    Conv1d(10, 10, kernel_size=(15,), stride=(1,), padding=(7,))\n",
      "ct, child =  21    Conv1d(10, 1, kernel_size=(5,), stride=(1,), padding=(2,))\n",
      "ct, child =  22    Dropout(p=0.15, inplace=False)\n",
      "ct, child =  23    Dropout(p=0.15, inplace=False)\n",
      "ct, child =  24    Dropout(p=0.15, inplace=False)\n",
      "ct, child =  25    Dropout(p=0.15, inplace=False)\n",
      "ct, child =  26    Dropout(p=0.35, inplace=False)\n",
      "ct, child =  27    Linear(in_features=4000, out_features=4000, bias=True)\n"
     ]
    }
   ],
   "source": [
    "nOut1 = 50\n",
    "nOut2 = 50\n",
    "nOut3 = 50\n",
    "nOut4 = 50\n",
    "nOut5 = 50\n",
    "nOut6 = 50\n",
    "nOut7 = 50\n",
    "nOut8 = 50\n",
    "nOut9 = 50\n",
    "nOut10 = 50\n",
    "nOut11 = 50\n",
    "latentChannels = 4\n",
    "model_t2kde = t2kde_model(nOut1,nOut2,nOut3,nOut4,nOut5,nOut6,nOut7,nOut8,nOut9,nOut10,nOut11,latentChannels)\n",
    "model_kde2hists = kde2hists_model()\n",
    "model_t2hists = t2hists_model(nOut1,nOut2,nOut3,nOut4,nOut5,nOut6,nOut7,nOut8,nOut9,nOut10,nOut11,latentChannels)\n",
    "\n",
    "##summary(model, input_size=(4, 4000))\n",
    "##print(model.parameters)\n",
    "\n",
    "## add the following code to allow the user to freeze the some of the weights corresponding \n",
    "## to those taken from an earlier model trained with the original target histograms\n",
    "## presumably -- this leaves either the perturbative filter \"fixed\" and lets the \n",
    "## learning focus on the non-perturbative features, so get started faster, or vice versa\n",
    "ct = 0\n",
    "for child in model_t2hists.children():\n",
    "  print('ct, child = ',ct, \"  \", child)\n",
    "  if (ct < 0) :\n",
    "    print(\"     About to set param.requires_grad=False for ct = \", ct, \"params\")\n",
    "    for param in child.parameters():\n",
    "        param.requires_grad = False \n",
    "  ct += 1\n",
    "\n",
    "loss = Loss(epsilon=1e-5,coefficient=2.5)\n",
    "optimizer = torch.optim.Adam(model_t2hists.parameters(), lr=learning_rate)"
   ]
  },
  {
   "cell_type": "markdown",
   "metadata": {},
   "source": [
    "Let's move the model's weight matricies to the GPU:"
   ]
  },
  {
   "cell_type": "code",
   "execution_count": 11,
   "metadata": {
    "scrolled": false
   },
   "outputs": [
    {
     "data": {
      "text/plain": [
       "<All keys matched successfully>"
      ]
     },
     "execution_count": 11,
     "metadata": {},
     "output_type": "execute_result"
    }
   ],
   "source": [
    "## want to look at all three dictionaries to start:\n",
    "##  t2kde\n",
    "##  kde2hists\n",
    "##  t2hists\n",
    "## the plan is to (initially) copy weights from separate dictionaries into th t2hists dictionary\n",
    "\n",
    "##   ML -> /share/lazy/sokoloff/ML\n",
    "'''\n",
    "model_t2kde_dict = model_t2kde.state_dict()\n",
    "## mds 190725 for debugging\n",
    "print(\"for model_t2kde_dict\")\n",
    "index = 0\n",
    "for k,v in model_t2kde_dict.items():\n",
    "    print(\"index, k =  \",index,\"  \",k)\n",
    "    index = index+1\n",
    "#\n",
    "model_kde2hists_dict = model_kde2hists.state_dict()\n",
    "## mds 190725 for debugging\n",
    "print(\"for model_hists_2kde_dict\")\n",
    "index = 0\n",
    "for k,v in model_kde2hists_dict.items():\n",
    "    print(\"index, k =  \",index,\"  \",k)\n",
    "    index = index+1\n",
    "#\n",
    "model_t2hists_dict = model_t2hists.state_dict()\n",
    "## mds 190725 for debugging\n",
    "print(\"for model_hists_2kde_dict\")\n",
    "index = 0\n",
    "for k,v in model_t2hists_dict.items():\n",
    "    print(\"index, k =  \",index,\"  \",k)\n",
    "    index = index+1\n",
    "#\n",
    "\n",
    "##  build the \"updated_dict\" to become the t2hists_dictionary from the\n",
    "##  t2kde and kde2hist dictionaries\n",
    "update_dict = model_t2hists_dict\n",
    "##print(\"updated_dict = \",updated_dict)\n",
    "## when starting \"ab initio\", reduce biases as the bias gets summed for each track\n",
    "## contributing to the predicted KDE\n",
    "'''\n",
    "\n",
    "\n",
    "'''\n",
    "updated_dict[\"layer1.bias\"] = 0.005*model_dict[\"layer1.bias\"]\n",
    "updated_dict[\"layer2.bias\"] = 0.005*model_dict[\"layer2.bias\"]\n",
    "updated_dict[\"layer3.bias\"] = 0.005*model_dict[\"layer3.bias\"]\n",
    "updated_dict[\"layer4.bias\"] = 0.005*model_dict[\"layer4.bias\"]\n",
    "updated_dict[\"layer5.bias\"] = 0.005*model_dict[\"layer5.bias\"]\n",
    "updated_dict[\"layer6.bias\"] = 0.005*model_dict[\"layer6.bias\"]\n",
    "updated_dict[\"layer7.bias\"] = 0.005*model_dict[\"layer7.bias\"]\n",
    "updated_dict[\"layer8.bias\"] = 0.005*model_dict[\"layer8.bias\"]\n",
    "updated_dict[\"layer9.bias\"] = 0.005*model_dict[\"layer9.bias\"]\n",
    "updated_dict[\"layer10.bias\"] = 0.005*model_dict[\"layer10.bias\"]\n",
    "updated_dict[\"layer11.bias\"] = 0.005*model_dict[\"layer11.bias\"]\n",
    "'''\n",
    "\n",
    "'''\n",
    "##model_t2hists.load_state_dict(updated_dict,strict=False)\n",
    "\n",
    "##model__t2hists_dict = model_t2hists.state_dict()\n",
    "\n",
    "## let's get the tracks-to-kde model here\n",
    "t2kde_folder = '25December__DDplus_loss_Ba_iter5_floatAll_800epochs_5em6'  ## really iter6, really Dec. 27\n",
    "t2kde_folder = '25December__DDplus_loss_Ba_iter7_floatAll_800epochs_4em6'\n",
    "t2kde_name = t2kde_folder\n",
    "suffix = 'final'\n",
    "t2kde_dict_name = 'ML/' + t2kde_folder + '/' + t2kde_name + '_'+ suffix + '.pyt'\n",
    "print('t2kde_dict_name = ',t2kde_dict_name)\n",
    "pretrained_t2kde_dict = torch.load(t2kde_dict_name)\n",
    "\n",
    "print(\" \\n\",\"  for t2kde_pretrained_dict\")\n",
    "index = 0\n",
    "for k,v in pretrained_t2kde_dict.items():\n",
    "    print(\"index, k =  \",index,\"  \",k)\n",
    "    index = index+1\n",
    "    \n",
    "    \n",
    "## let's get the hists-to-kde model here   \n",
    "kde2hists_folder = '02June2020_CNN5Layer_Ca_another200epochs_K'\n",
    "kde2hists_name = kde2hists_folder\n",
    "suffix = 'final'\n",
    "kde2hists_dict_name = 'ML/' + kde2hists_folder + '/' + kde2hists_name + '_'+ suffix + '.pyt'\n",
    "## mds dec28 print('kde2hists_dict_name = ',kde2hists_dict_name)\n",
    "pretrained_kde2hists_dict = torch.load(kde2hists_dict_name)\n",
    "\n",
    "print(\" \\n\",\"  for kde2hists_pretrained_dict\")\n",
    "index = 0\n",
    "for k,v in pretrained_kde2hists_dict.items():\n",
    "    print(\"index, k =  \",index,\"  \",k)\n",
    "    index = index+1\n",
    " \n",
    "\n",
    "\n",
    "##print(\"model_dict instantiated\")\n",
    "# 1. filter out unnecessary keys\n",
    "pretrained_dict = {k: v for k, v in pretrained_t2kde_dict.items() if k in model_t2hists_dict}\n",
    "## mds dec28 print(\"pretrained_dict iterated\")\n",
    "# 2. overwrite entries in the existing state dict\n",
    "model_t2hists_dict.update(pretrained_dict) \n",
    "\n",
    "update_dict[\"hist_conv1.weight\"] = pretrained_kde2hists_dict[\"conv1.weight\"]\n",
    "update_dict[\"hist_conv1.bias\"]   = pretrained_kde2hists_dict[\"conv1.bias\"]\n",
    "update_dict[\"hist_conv2.weight\"] = pretrained_kde2hists_dict[\"conv2.weight\"]\n",
    "update_dict[\"hist_conv2.bias\"]   = pretrained_kde2hists_dict[\"conv2.bias\"]\n",
    "update_dict[\"hist_conv3.weight\"] = pretrained_kde2hists_dict[\"conv3.weight\"]\n",
    "update_dict[\"hist_conv3.bias\"]   = pretrained_kde2hists_dict[\"conv3.bias\"]\n",
    "update_dict[\"hist_conv4.weight\"] = pretrained_kde2hists_dict[\"conv4.weight\"]\n",
    "update_dict[\"hist_conv4.bias\"]   = pretrained_kde2hists_dict[\"conv4.bias\"]\n",
    "update_dict[\"hist_conv5.weight\"] = pretrained_kde2hists_dict[\"conv5.weight\"]\n",
    "update_dict[\"hist_conv5.bias\"]   = pretrained_kde2hists_dict[\"conv5.bias\"]\n",
    "update_dict[\"hist_fc1.weight\"]   = pretrained_kde2hists_dict[\"fc1.weight\"]\n",
    "update_dict[\"hist_fc1.bias\"]     = pretrained_kde2hists_dict[\"fc1.bias\"]\n",
    "\n",
    "##model_t2hists.update(update_dict,strict=False)\n",
    "model_t2hists.load_state_dict(update_dict,strict=False)\n",
    "model_t2hists_dict = model_t2hists.state_dict()\n",
    "'''\n",
    "\n",
    "##\n",
    "#   when starting from a model with a fully connected last layer rather than a convolutional layer\n",
    "# 3. load the new state dict\n",
    "#   need to use strict=False as the two models state model attributes do not agree exactly\n",
    "#   see https://pytorch.org/docs/master/_modules/torch/nn/modules/module.html#Module.load_state_dict\n",
    "\n",
    "t2hists_folder = '29December_Tracks_to_Hists_Iteration_3B_300epochs_lr_2em7_2p5_kde2hists_allFloat'\n",
    "t2hists_name = t2hists_folder\n",
    "suffix = 'final'\n",
    "t2hists_dict_name = 'ML/' + t2hists_folder + '/' +t2hists_name + '_'+ suffix + '.pyt'\n",
    "## mds dec28 print('kde2hists_dict_name = ',kde2hists_dict_name)\n",
    "pretrained_t2hists_dict = torch.load(t2hists_dict_name) \n",
    "\n",
    "model_t2hists.load_state_dict(pretrained_t2hists_dict,strict=False)\n",
    "\n",
    "##  print('model_t2hists_dict =    ', model_t2hists_dict)\n"
   ]
  },
  {
   "cell_type": "code",
   "execution_count": 12,
   "metadata": {},
   "outputs": [],
   "source": [
    "##print('validation.dataset.tensors = ',validation.dataset.tensors)\n",
    "fig_size = plt.rcParams[\"figure.figsize\"]\n",
    "fig_size[0] = 10\n",
    "fig_size[1] = 4\n",
    "plt.rcParams[\"figure.figsize\"] = fig_size"
   ]
  },
  {
   "cell_type": "code",
   "execution_count": 13,
   "metadata": {
    "scrolled": true
   },
   "outputs": [],
   "source": [
    "model = model_t2hists.to(device)"
   ]
  },
  {
   "cell_type": "code",
   "execution_count": 14,
   "metadata": {},
   "outputs": [
    {
     "data": {
      "application/javascript": [
       "/* Put everything inside the global mpl namespace */\n",
       "window.mpl = {};\n",
       "\n",
       "\n",
       "mpl.get_websocket_type = function() {\n",
       "    if (typeof(WebSocket) !== 'undefined') {\n",
       "        return WebSocket;\n",
       "    } else if (typeof(MozWebSocket) !== 'undefined') {\n",
       "        return MozWebSocket;\n",
       "    } else {\n",
       "        alert('Your browser does not have WebSocket support. ' +\n",
       "              'Please try Chrome, Safari or Firefox ≥ 6. ' +\n",
       "              'Firefox 4 and 5 are also supported but you ' +\n",
       "              'have to enable WebSockets in about:config.');\n",
       "    };\n",
       "}\n",
       "\n",
       "mpl.figure = function(figure_id, websocket, ondownload, parent_element) {\n",
       "    this.id = figure_id;\n",
       "\n",
       "    this.ws = websocket;\n",
       "\n",
       "    this.supports_binary = (this.ws.binaryType != undefined);\n",
       "\n",
       "    if (!this.supports_binary) {\n",
       "        var warnings = document.getElementById(\"mpl-warnings\");\n",
       "        if (warnings) {\n",
       "            warnings.style.display = 'block';\n",
       "            warnings.textContent = (\n",
       "                \"This browser does not support binary websocket messages. \" +\n",
       "                    \"Performance may be slow.\");\n",
       "        }\n",
       "    }\n",
       "\n",
       "    this.imageObj = new Image();\n",
       "\n",
       "    this.context = undefined;\n",
       "    this.message = undefined;\n",
       "    this.canvas = undefined;\n",
       "    this.rubberband_canvas = undefined;\n",
       "    this.rubberband_context = undefined;\n",
       "    this.format_dropdown = undefined;\n",
       "\n",
       "    this.image_mode = 'full';\n",
       "\n",
       "    this.root = $('<div/>');\n",
       "    this._root_extra_style(this.root)\n",
       "    this.root.attr('style', 'display: inline-block');\n",
       "\n",
       "    $(parent_element).append(this.root);\n",
       "\n",
       "    this._init_header(this);\n",
       "    this._init_canvas(this);\n",
       "    this._init_toolbar(this);\n",
       "\n",
       "    var fig = this;\n",
       "\n",
       "    this.waiting = false;\n",
       "\n",
       "    this.ws.onopen =  function () {\n",
       "            fig.send_message(\"supports_binary\", {value: fig.supports_binary});\n",
       "            fig.send_message(\"send_image_mode\", {});\n",
       "            if (mpl.ratio != 1) {\n",
       "                fig.send_message(\"set_dpi_ratio\", {'dpi_ratio': mpl.ratio});\n",
       "            }\n",
       "            fig.send_message(\"refresh\", {});\n",
       "        }\n",
       "\n",
       "    this.imageObj.onload = function() {\n",
       "            if (fig.image_mode == 'full') {\n",
       "                // Full images could contain transparency (where diff images\n",
       "                // almost always do), so we need to clear the canvas so that\n",
       "                // there is no ghosting.\n",
       "                fig.context.clearRect(0, 0, fig.canvas.width, fig.canvas.height);\n",
       "            }\n",
       "            fig.context.drawImage(fig.imageObj, 0, 0);\n",
       "        };\n",
       "\n",
       "    this.imageObj.onunload = function() {\n",
       "        fig.ws.close();\n",
       "    }\n",
       "\n",
       "    this.ws.onmessage = this._make_on_message_function(this);\n",
       "\n",
       "    this.ondownload = ondownload;\n",
       "}\n",
       "\n",
       "mpl.figure.prototype._init_header = function() {\n",
       "    var titlebar = $(\n",
       "        '<div class=\"ui-dialog-titlebar ui-widget-header ui-corner-all ' +\n",
       "        'ui-helper-clearfix\"/>');\n",
       "    var titletext = $(\n",
       "        '<div class=\"ui-dialog-title\" style=\"width: 100%; ' +\n",
       "        'text-align: center; padding: 3px;\"/>');\n",
       "    titlebar.append(titletext)\n",
       "    this.root.append(titlebar);\n",
       "    this.header = titletext[0];\n",
       "}\n",
       "\n",
       "\n",
       "\n",
       "mpl.figure.prototype._canvas_extra_style = function(canvas_div) {\n",
       "\n",
       "}\n",
       "\n",
       "\n",
       "mpl.figure.prototype._root_extra_style = function(canvas_div) {\n",
       "\n",
       "}\n",
       "\n",
       "mpl.figure.prototype._init_canvas = function() {\n",
       "    var fig = this;\n",
       "\n",
       "    var canvas_div = $('<div/>');\n",
       "\n",
       "    canvas_div.attr('style', 'position: relative; clear: both; outline: 0');\n",
       "\n",
       "    function canvas_keyboard_event(event) {\n",
       "        return fig.key_event(event, event['data']);\n",
       "    }\n",
       "\n",
       "    canvas_div.keydown('key_press', canvas_keyboard_event);\n",
       "    canvas_div.keyup('key_release', canvas_keyboard_event);\n",
       "    this.canvas_div = canvas_div\n",
       "    this._canvas_extra_style(canvas_div)\n",
       "    this.root.append(canvas_div);\n",
       "\n",
       "    var canvas = $('<canvas/>');\n",
       "    canvas.addClass('mpl-canvas');\n",
       "    canvas.attr('style', \"left: 0; top: 0; z-index: 0; outline: 0\")\n",
       "\n",
       "    this.canvas = canvas[0];\n",
       "    this.context = canvas[0].getContext(\"2d\");\n",
       "\n",
       "    var backingStore = this.context.backingStorePixelRatio ||\n",
       "\tthis.context.webkitBackingStorePixelRatio ||\n",
       "\tthis.context.mozBackingStorePixelRatio ||\n",
       "\tthis.context.msBackingStorePixelRatio ||\n",
       "\tthis.context.oBackingStorePixelRatio ||\n",
       "\tthis.context.backingStorePixelRatio || 1;\n",
       "\n",
       "    mpl.ratio = (window.devicePixelRatio || 1) / backingStore;\n",
       "\n",
       "    var rubberband = $('<canvas/>');\n",
       "    rubberband.attr('style', \"position: absolute; left: 0; top: 0; z-index: 1;\")\n",
       "\n",
       "    var pass_mouse_events = true;\n",
       "\n",
       "    canvas_div.resizable({\n",
       "        start: function(event, ui) {\n",
       "            pass_mouse_events = false;\n",
       "        },\n",
       "        resize: function(event, ui) {\n",
       "            fig.request_resize(ui.size.width, ui.size.height);\n",
       "        },\n",
       "        stop: function(event, ui) {\n",
       "            pass_mouse_events = true;\n",
       "            fig.request_resize(ui.size.width, ui.size.height);\n",
       "        },\n",
       "    });\n",
       "\n",
       "    function mouse_event_fn(event) {\n",
       "        if (pass_mouse_events)\n",
       "            return fig.mouse_event(event, event['data']);\n",
       "    }\n",
       "\n",
       "    rubberband.mousedown('button_press', mouse_event_fn);\n",
       "    rubberband.mouseup('button_release', mouse_event_fn);\n",
       "    // Throttle sequential mouse events to 1 every 20ms.\n",
       "    rubberband.mousemove('motion_notify', mouse_event_fn);\n",
       "\n",
       "    rubberband.mouseenter('figure_enter', mouse_event_fn);\n",
       "    rubberband.mouseleave('figure_leave', mouse_event_fn);\n",
       "\n",
       "    canvas_div.on(\"wheel\", function (event) {\n",
       "        event = event.originalEvent;\n",
       "        event['data'] = 'scroll'\n",
       "        if (event.deltaY < 0) {\n",
       "            event.step = 1;\n",
       "        } else {\n",
       "            event.step = -1;\n",
       "        }\n",
       "        mouse_event_fn(event);\n",
       "    });\n",
       "\n",
       "    canvas_div.append(canvas);\n",
       "    canvas_div.append(rubberband);\n",
       "\n",
       "    this.rubberband = rubberband;\n",
       "    this.rubberband_canvas = rubberband[0];\n",
       "    this.rubberband_context = rubberband[0].getContext(\"2d\");\n",
       "    this.rubberband_context.strokeStyle = \"#000000\";\n",
       "\n",
       "    this._resize_canvas = function(width, height) {\n",
       "        // Keep the size of the canvas, canvas container, and rubber band\n",
       "        // canvas in synch.\n",
       "        canvas_div.css('width', width)\n",
       "        canvas_div.css('height', height)\n",
       "\n",
       "        canvas.attr('width', width * mpl.ratio);\n",
       "        canvas.attr('height', height * mpl.ratio);\n",
       "        canvas.attr('style', 'width: ' + width + 'px; height: ' + height + 'px;');\n",
       "\n",
       "        rubberband.attr('width', width);\n",
       "        rubberband.attr('height', height);\n",
       "    }\n",
       "\n",
       "    // Set the figure to an initial 600x600px, this will subsequently be updated\n",
       "    // upon first draw.\n",
       "    this._resize_canvas(600, 600);\n",
       "\n",
       "    // Disable right mouse context menu.\n",
       "    $(this.rubberband_canvas).bind(\"contextmenu\",function(e){\n",
       "        return false;\n",
       "    });\n",
       "\n",
       "    function set_focus () {\n",
       "        canvas.focus();\n",
       "        canvas_div.focus();\n",
       "    }\n",
       "\n",
       "    window.setTimeout(set_focus, 100);\n",
       "}\n",
       "\n",
       "mpl.figure.prototype._init_toolbar = function() {\n",
       "    var fig = this;\n",
       "\n",
       "    var nav_element = $('<div/>');\n",
       "    nav_element.attr('style', 'width: 100%');\n",
       "    this.root.append(nav_element);\n",
       "\n",
       "    // Define a callback function for later on.\n",
       "    function toolbar_event(event) {\n",
       "        return fig.toolbar_button_onclick(event['data']);\n",
       "    }\n",
       "    function toolbar_mouse_event(event) {\n",
       "        return fig.toolbar_button_onmouseover(event['data']);\n",
       "    }\n",
       "\n",
       "    for(var toolbar_ind in mpl.toolbar_items) {\n",
       "        var name = mpl.toolbar_items[toolbar_ind][0];\n",
       "        var tooltip = mpl.toolbar_items[toolbar_ind][1];\n",
       "        var image = mpl.toolbar_items[toolbar_ind][2];\n",
       "        var method_name = mpl.toolbar_items[toolbar_ind][3];\n",
       "\n",
       "        if (!name) {\n",
       "            // put a spacer in here.\n",
       "            continue;\n",
       "        }\n",
       "        var button = $('<button/>');\n",
       "        button.addClass('ui-button ui-widget ui-state-default ui-corner-all ' +\n",
       "                        'ui-button-icon-only');\n",
       "        button.attr('role', 'button');\n",
       "        button.attr('aria-disabled', 'false');\n",
       "        button.click(method_name, toolbar_event);\n",
       "        button.mouseover(tooltip, toolbar_mouse_event);\n",
       "\n",
       "        var icon_img = $('<span/>');\n",
       "        icon_img.addClass('ui-button-icon-primary ui-icon');\n",
       "        icon_img.addClass(image);\n",
       "        icon_img.addClass('ui-corner-all');\n",
       "\n",
       "        var tooltip_span = $('<span/>');\n",
       "        tooltip_span.addClass('ui-button-text');\n",
       "        tooltip_span.html(tooltip);\n",
       "\n",
       "        button.append(icon_img);\n",
       "        button.append(tooltip_span);\n",
       "\n",
       "        nav_element.append(button);\n",
       "    }\n",
       "\n",
       "    var fmt_picker_span = $('<span/>');\n",
       "\n",
       "    var fmt_picker = $('<select/>');\n",
       "    fmt_picker.addClass('mpl-toolbar-option ui-widget ui-widget-content');\n",
       "    fmt_picker_span.append(fmt_picker);\n",
       "    nav_element.append(fmt_picker_span);\n",
       "    this.format_dropdown = fmt_picker[0];\n",
       "\n",
       "    for (var ind in mpl.extensions) {\n",
       "        var fmt = mpl.extensions[ind];\n",
       "        var option = $(\n",
       "            '<option/>', {selected: fmt === mpl.default_extension}).html(fmt);\n",
       "        fmt_picker.append(option);\n",
       "    }\n",
       "\n",
       "    // Add hover states to the ui-buttons\n",
       "    $( \".ui-button\" ).hover(\n",
       "        function() { $(this).addClass(\"ui-state-hover\");},\n",
       "        function() { $(this).removeClass(\"ui-state-hover\");}\n",
       "    );\n",
       "\n",
       "    var status_bar = $('<span class=\"mpl-message\"/>');\n",
       "    nav_element.append(status_bar);\n",
       "    this.message = status_bar[0];\n",
       "}\n",
       "\n",
       "mpl.figure.prototype.request_resize = function(x_pixels, y_pixels) {\n",
       "    // Request matplotlib to resize the figure. Matplotlib will then trigger a resize in the client,\n",
       "    // which will in turn request a refresh of the image.\n",
       "    this.send_message('resize', {'width': x_pixels, 'height': y_pixels});\n",
       "}\n",
       "\n",
       "mpl.figure.prototype.send_message = function(type, properties) {\n",
       "    properties['type'] = type;\n",
       "    properties['figure_id'] = this.id;\n",
       "    this.ws.send(JSON.stringify(properties));\n",
       "}\n",
       "\n",
       "mpl.figure.prototype.send_draw_message = function() {\n",
       "    if (!this.waiting) {\n",
       "        this.waiting = true;\n",
       "        this.ws.send(JSON.stringify({type: \"draw\", figure_id: this.id}));\n",
       "    }\n",
       "}\n",
       "\n",
       "\n",
       "mpl.figure.prototype.handle_save = function(fig, msg) {\n",
       "    var format_dropdown = fig.format_dropdown;\n",
       "    var format = format_dropdown.options[format_dropdown.selectedIndex].value;\n",
       "    fig.ondownload(fig, format);\n",
       "}\n",
       "\n",
       "\n",
       "mpl.figure.prototype.handle_resize = function(fig, msg) {\n",
       "    var size = msg['size'];\n",
       "    if (size[0] != fig.canvas.width || size[1] != fig.canvas.height) {\n",
       "        fig._resize_canvas(size[0], size[1]);\n",
       "        fig.send_message(\"refresh\", {});\n",
       "    };\n",
       "}\n",
       "\n",
       "mpl.figure.prototype.handle_rubberband = function(fig, msg) {\n",
       "    var x0 = msg['x0'] / mpl.ratio;\n",
       "    var y0 = (fig.canvas.height - msg['y0']) / mpl.ratio;\n",
       "    var x1 = msg['x1'] / mpl.ratio;\n",
       "    var y1 = (fig.canvas.height - msg['y1']) / mpl.ratio;\n",
       "    x0 = Math.floor(x0) + 0.5;\n",
       "    y0 = Math.floor(y0) + 0.5;\n",
       "    x1 = Math.floor(x1) + 0.5;\n",
       "    y1 = Math.floor(y1) + 0.5;\n",
       "    var min_x = Math.min(x0, x1);\n",
       "    var min_y = Math.min(y0, y1);\n",
       "    var width = Math.abs(x1 - x0);\n",
       "    var height = Math.abs(y1 - y0);\n",
       "\n",
       "    fig.rubberband_context.clearRect(\n",
       "        0, 0, fig.canvas.width / mpl.ratio, fig.canvas.height / mpl.ratio);\n",
       "\n",
       "    fig.rubberband_context.strokeRect(min_x, min_y, width, height);\n",
       "}\n",
       "\n",
       "mpl.figure.prototype.handle_figure_label = function(fig, msg) {\n",
       "    // Updates the figure title.\n",
       "    fig.header.textContent = msg['label'];\n",
       "}\n",
       "\n",
       "mpl.figure.prototype.handle_cursor = function(fig, msg) {\n",
       "    var cursor = msg['cursor'];\n",
       "    switch(cursor)\n",
       "    {\n",
       "    case 0:\n",
       "        cursor = 'pointer';\n",
       "        break;\n",
       "    case 1:\n",
       "        cursor = 'default';\n",
       "        break;\n",
       "    case 2:\n",
       "        cursor = 'crosshair';\n",
       "        break;\n",
       "    case 3:\n",
       "        cursor = 'move';\n",
       "        break;\n",
       "    }\n",
       "    fig.rubberband_canvas.style.cursor = cursor;\n",
       "}\n",
       "\n",
       "mpl.figure.prototype.handle_message = function(fig, msg) {\n",
       "    fig.message.textContent = msg['message'];\n",
       "}\n",
       "\n",
       "mpl.figure.prototype.handle_draw = function(fig, msg) {\n",
       "    // Request the server to send over a new figure.\n",
       "    fig.send_draw_message();\n",
       "}\n",
       "\n",
       "mpl.figure.prototype.handle_image_mode = function(fig, msg) {\n",
       "    fig.image_mode = msg['mode'];\n",
       "}\n",
       "\n",
       "mpl.figure.prototype.updated_canvas_event = function() {\n",
       "    // Called whenever the canvas gets updated.\n",
       "    this.send_message(\"ack\", {});\n",
       "}\n",
       "\n",
       "// A function to construct a web socket function for onmessage handling.\n",
       "// Called in the figure constructor.\n",
       "mpl.figure.prototype._make_on_message_function = function(fig) {\n",
       "    return function socket_on_message(evt) {\n",
       "        if (evt.data instanceof Blob) {\n",
       "            /* FIXME: We get \"Resource interpreted as Image but\n",
       "             * transferred with MIME type text/plain:\" errors on\n",
       "             * Chrome.  But how to set the MIME type?  It doesn't seem\n",
       "             * to be part of the websocket stream */\n",
       "            evt.data.type = \"image/png\";\n",
       "\n",
       "            /* Free the memory for the previous frames */\n",
       "            if (fig.imageObj.src) {\n",
       "                (window.URL || window.webkitURL).revokeObjectURL(\n",
       "                    fig.imageObj.src);\n",
       "            }\n",
       "\n",
       "            fig.imageObj.src = (window.URL || window.webkitURL).createObjectURL(\n",
       "                evt.data);\n",
       "            fig.updated_canvas_event();\n",
       "            fig.waiting = false;\n",
       "            return;\n",
       "        }\n",
       "        else if (typeof evt.data === 'string' && evt.data.slice(0, 21) == \"data:image/png;base64\") {\n",
       "            fig.imageObj.src = evt.data;\n",
       "            fig.updated_canvas_event();\n",
       "            fig.waiting = false;\n",
       "            return;\n",
       "        }\n",
       "\n",
       "        var msg = JSON.parse(evt.data);\n",
       "        var msg_type = msg['type'];\n",
       "\n",
       "        // Call the  \"handle_{type}\" callback, which takes\n",
       "        // the figure and JSON message as its only arguments.\n",
       "        try {\n",
       "            var callback = fig[\"handle_\" + msg_type];\n",
       "        } catch (e) {\n",
       "            console.log(\"No handler for the '\" + msg_type + \"' message type: \", msg);\n",
       "            return;\n",
       "        }\n",
       "\n",
       "        if (callback) {\n",
       "            try {\n",
       "                // console.log(\"Handling '\" + msg_type + \"' message: \", msg);\n",
       "                callback(fig, msg);\n",
       "            } catch (e) {\n",
       "                console.log(\"Exception inside the 'handler_\" + msg_type + \"' callback:\", e, e.stack, msg);\n",
       "            }\n",
       "        }\n",
       "    };\n",
       "}\n",
       "\n",
       "// from http://stackoverflow.com/questions/1114465/getting-mouse-location-in-canvas\n",
       "mpl.findpos = function(e) {\n",
       "    //this section is from http://www.quirksmode.org/js/events_properties.html\n",
       "    var targ;\n",
       "    if (!e)\n",
       "        e = window.event;\n",
       "    if (e.target)\n",
       "        targ = e.target;\n",
       "    else if (e.srcElement)\n",
       "        targ = e.srcElement;\n",
       "    if (targ.nodeType == 3) // defeat Safari bug\n",
       "        targ = targ.parentNode;\n",
       "\n",
       "    // jQuery normalizes the pageX and pageY\n",
       "    // pageX,Y are the mouse positions relative to the document\n",
       "    // offset() returns the position of the element relative to the document\n",
       "    var x = e.pageX - $(targ).offset().left;\n",
       "    var y = e.pageY - $(targ).offset().top;\n",
       "\n",
       "    return {\"x\": x, \"y\": y};\n",
       "};\n",
       "\n",
       "/*\n",
       " * return a copy of an object with only non-object keys\n",
       " * we need this to avoid circular references\n",
       " * http://stackoverflow.com/a/24161582/3208463\n",
       " */\n",
       "function simpleKeys (original) {\n",
       "  return Object.keys(original).reduce(function (obj, key) {\n",
       "    if (typeof original[key] !== 'object')\n",
       "        obj[key] = original[key]\n",
       "    return obj;\n",
       "  }, {});\n",
       "}\n",
       "\n",
       "mpl.figure.prototype.mouse_event = function(event, name) {\n",
       "    var canvas_pos = mpl.findpos(event)\n",
       "\n",
       "    if (name === 'button_press')\n",
       "    {\n",
       "        this.canvas.focus();\n",
       "        this.canvas_div.focus();\n",
       "    }\n",
       "\n",
       "    var x = canvas_pos.x * mpl.ratio;\n",
       "    var y = canvas_pos.y * mpl.ratio;\n",
       "\n",
       "    this.send_message(name, {x: x, y: y, button: event.button,\n",
       "                             step: event.step,\n",
       "                             guiEvent: simpleKeys(event)});\n",
       "\n",
       "    /* This prevents the web browser from automatically changing to\n",
       "     * the text insertion cursor when the button is pressed.  We want\n",
       "     * to control all of the cursor setting manually through the\n",
       "     * 'cursor' event from matplotlib */\n",
       "    event.preventDefault();\n",
       "    return false;\n",
       "}\n",
       "\n",
       "mpl.figure.prototype._key_event_extra = function(event, name) {\n",
       "    // Handle any extra behaviour associated with a key event\n",
       "}\n",
       "\n",
       "mpl.figure.prototype.key_event = function(event, name) {\n",
       "\n",
       "    // Prevent repeat events\n",
       "    if (name == 'key_press')\n",
       "    {\n",
       "        if (event.which === this._key)\n",
       "            return;\n",
       "        else\n",
       "            this._key = event.which;\n",
       "    }\n",
       "    if (name == 'key_release')\n",
       "        this._key = null;\n",
       "\n",
       "    var value = '';\n",
       "    if (event.ctrlKey && event.which != 17)\n",
       "        value += \"ctrl+\";\n",
       "    if (event.altKey && event.which != 18)\n",
       "        value += \"alt+\";\n",
       "    if (event.shiftKey && event.which != 16)\n",
       "        value += \"shift+\";\n",
       "\n",
       "    value += 'k';\n",
       "    value += event.which.toString();\n",
       "\n",
       "    this._key_event_extra(event, name);\n",
       "\n",
       "    this.send_message(name, {key: value,\n",
       "                             guiEvent: simpleKeys(event)});\n",
       "    return false;\n",
       "}\n",
       "\n",
       "mpl.figure.prototype.toolbar_button_onclick = function(name) {\n",
       "    if (name == 'download') {\n",
       "        this.handle_save(this, null);\n",
       "    } else {\n",
       "        this.send_message(\"toolbar_button\", {name: name});\n",
       "    }\n",
       "};\n",
       "\n",
       "mpl.figure.prototype.toolbar_button_onmouseover = function(tooltip) {\n",
       "    this.message.textContent = tooltip;\n",
       "};\n",
       "mpl.toolbar_items = [[\"Home\", \"Reset original view\", \"fa fa-home icon-home\", \"home\"], [\"Back\", \"Back to previous view\", \"fa fa-arrow-left icon-arrow-left\", \"back\"], [\"Forward\", \"Forward to next view\", \"fa fa-arrow-right icon-arrow-right\", \"forward\"], [\"\", \"\", \"\", \"\"], [\"Pan\", \"Pan axes with left mouse, zoom with right\", \"fa fa-arrows icon-move\", \"pan\"], [\"Zoom\", \"Zoom to rectangle\", \"fa fa-square-o icon-check-empty\", \"zoom\"], [\"\", \"\", \"\", \"\"], [\"Download\", \"Download plot\", \"fa fa-floppy-o icon-save\", \"download\"]];\n",
       "\n",
       "mpl.extensions = [\"eps\", \"jpeg\", \"pdf\", \"png\", \"ps\", \"raw\", \"svg\", \"tif\"];\n",
       "\n",
       "mpl.default_extension = \"png\";var comm_websocket_adapter = function(comm) {\n",
       "    // Create a \"websocket\"-like object which calls the given IPython comm\n",
       "    // object with the appropriate methods. Currently this is a non binary\n",
       "    // socket, so there is still some room for performance tuning.\n",
       "    var ws = {};\n",
       "\n",
       "    ws.close = function() {\n",
       "        comm.close()\n",
       "    };\n",
       "    ws.send = function(m) {\n",
       "        //console.log('sending', m);\n",
       "        comm.send(m);\n",
       "    };\n",
       "    // Register the callback with on_msg.\n",
       "    comm.on_msg(function(msg) {\n",
       "        //console.log('receiving', msg['content']['data'], msg);\n",
       "        // Pass the mpl event to the overridden (by mpl) onmessage function.\n",
       "        ws.onmessage(msg['content']['data'])\n",
       "    });\n",
       "    return ws;\n",
       "}\n",
       "\n",
       "mpl.mpl_figure_comm = function(comm, msg) {\n",
       "    // This is the function which gets called when the mpl process\n",
       "    // starts-up an IPython Comm through the \"matplotlib\" channel.\n",
       "\n",
       "    var id = msg.content.data.id;\n",
       "    // Get hold of the div created by the display call when the Comm\n",
       "    // socket was opened in Python.\n",
       "    var element = $(\"#\" + id);\n",
       "    var ws_proxy = comm_websocket_adapter(comm)\n",
       "\n",
       "    function ondownload(figure, format) {\n",
       "        window.open(figure.imageObj.src);\n",
       "    }\n",
       "\n",
       "    var fig = new mpl.figure(id, ws_proxy,\n",
       "                           ondownload,\n",
       "                           element.get(0));\n",
       "\n",
       "    // Call onopen now - mpl needs it, as it is assuming we've passed it a real\n",
       "    // web socket which is closed, not our websocket->open comm proxy.\n",
       "    ws_proxy.onopen();\n",
       "\n",
       "    fig.parent_element = element.get(0);\n",
       "    fig.cell_info = mpl.find_output_cell(\"<div id='\" + id + \"'></div>\");\n",
       "    if (!fig.cell_info) {\n",
       "        console.error(\"Failed to find cell for figure\", id, fig);\n",
       "        return;\n",
       "    }\n",
       "\n",
       "    var output_index = fig.cell_info[2]\n",
       "    var cell = fig.cell_info[0];\n",
       "\n",
       "};\n",
       "\n",
       "mpl.figure.prototype.handle_close = function(fig, msg) {\n",
       "    var width = fig.canvas.width/mpl.ratio\n",
       "    fig.root.unbind('remove')\n",
       "\n",
       "    // Update the output cell to use the data from the current canvas.\n",
       "    fig.push_to_output();\n",
       "    var dataURL = fig.canvas.toDataURL();\n",
       "    // Re-enable the keyboard manager in IPython - without this line, in FF,\n",
       "    // the notebook keyboard shortcuts fail.\n",
       "    IPython.keyboard_manager.enable()\n",
       "    $(fig.parent_element).html('<img src=\"' + dataURL + '\" width=\"' + width + '\">');\n",
       "    fig.close_ws(fig, msg);\n",
       "}\n",
       "\n",
       "mpl.figure.prototype.close_ws = function(fig, msg){\n",
       "    fig.send_message('closing', msg);\n",
       "    // fig.ws.close()\n",
       "}\n",
       "\n",
       "mpl.figure.prototype.push_to_output = function(remove_interactive) {\n",
       "    // Turn the data on the canvas into data in the output cell.\n",
       "    var width = this.canvas.width/mpl.ratio\n",
       "    var dataURL = this.canvas.toDataURL();\n",
       "    this.cell_info[1]['text/html'] = '<img src=\"' + dataURL + '\" width=\"' + width + '\">';\n",
       "}\n",
       "\n",
       "mpl.figure.prototype.updated_canvas_event = function() {\n",
       "    // Tell IPython that the notebook contents must change.\n",
       "    IPython.notebook.set_dirty(true);\n",
       "    this.send_message(\"ack\", {});\n",
       "    var fig = this;\n",
       "    // Wait a second, then push the new image to the DOM so\n",
       "    // that it is saved nicely (might be nice to debounce this).\n",
       "    setTimeout(function () { fig.push_to_output() }, 1000);\n",
       "}\n",
       "\n",
       "mpl.figure.prototype._init_toolbar = function() {\n",
       "    var fig = this;\n",
       "\n",
       "    var nav_element = $('<div/>');\n",
       "    nav_element.attr('style', 'width: 100%');\n",
       "    this.root.append(nav_element);\n",
       "\n",
       "    // Define a callback function for later on.\n",
       "    function toolbar_event(event) {\n",
       "        return fig.toolbar_button_onclick(event['data']);\n",
       "    }\n",
       "    function toolbar_mouse_event(event) {\n",
       "        return fig.toolbar_button_onmouseover(event['data']);\n",
       "    }\n",
       "\n",
       "    for(var toolbar_ind in mpl.toolbar_items){\n",
       "        var name = mpl.toolbar_items[toolbar_ind][0];\n",
       "        var tooltip = mpl.toolbar_items[toolbar_ind][1];\n",
       "        var image = mpl.toolbar_items[toolbar_ind][2];\n",
       "        var method_name = mpl.toolbar_items[toolbar_ind][3];\n",
       "\n",
       "        if (!name) { continue; };\n",
       "\n",
       "        var button = $('<button class=\"btn btn-default\" href=\"#\" title=\"' + name + '\"><i class=\"fa ' + image + ' fa-lg\"></i></button>');\n",
       "        button.click(method_name, toolbar_event);\n",
       "        button.mouseover(tooltip, toolbar_mouse_event);\n",
       "        nav_element.append(button);\n",
       "    }\n",
       "\n",
       "    // Add the status bar.\n",
       "    var status_bar = $('<span class=\"mpl-message\" style=\"text-align:right; float: right;\"/>');\n",
       "    nav_element.append(status_bar);\n",
       "    this.message = status_bar[0];\n",
       "\n",
       "    // Add the close button to the window.\n",
       "    var buttongrp = $('<div class=\"btn-group inline pull-right\"></div>');\n",
       "    var button = $('<button class=\"btn btn-mini btn-primary\" href=\"#\" title=\"Stop Interaction\"><i class=\"fa fa-power-off icon-remove icon-large\"></i></button>');\n",
       "    button.click(function (evt) { fig.handle_close(fig, {}); } );\n",
       "    button.mouseover('Stop Interaction', toolbar_mouse_event);\n",
       "    buttongrp.append(button);\n",
       "    var titlebar = this.root.find($('.ui-dialog-titlebar'));\n",
       "    titlebar.prepend(buttongrp);\n",
       "}\n",
       "\n",
       "mpl.figure.prototype._root_extra_style = function(el){\n",
       "    var fig = this\n",
       "    el.on(\"remove\", function(){\n",
       "\tfig.close_ws(fig, {});\n",
       "    });\n",
       "}\n",
       "\n",
       "mpl.figure.prototype._canvas_extra_style = function(el){\n",
       "    // this is important to make the div 'focusable\n",
       "    el.attr('tabindex', 0)\n",
       "    // reach out to IPython and tell the keyboard manager to turn it's self\n",
       "    // off when our div gets focus\n",
       "\n",
       "    // location in version 3\n",
       "    if (IPython.notebook.keyboard_manager) {\n",
       "        IPython.notebook.keyboard_manager.register_events(el);\n",
       "    }\n",
       "    else {\n",
       "        // location in version 2\n",
       "        IPython.keyboard_manager.register_events(el);\n",
       "    }\n",
       "\n",
       "}\n",
       "\n",
       "mpl.figure.prototype._key_event_extra = function(event, name) {\n",
       "    var manager = IPython.notebook.keyboard_manager;\n",
       "    if (!manager)\n",
       "        manager = IPython.keyboard_manager;\n",
       "\n",
       "    // Check for shift+enter\n",
       "    if (event.shiftKey && event.which == 13) {\n",
       "        this.canvas_div.blur();\n",
       "        // select the cell after this one\n",
       "        var index = IPython.notebook.find_cell_index(this.cell_info[0]);\n",
       "        IPython.notebook.select(index + 1);\n",
       "    }\n",
       "}\n",
       "\n",
       "mpl.figure.prototype.handle_save = function(fig, msg) {\n",
       "    fig.ondownload(fig, null);\n",
       "}\n",
       "\n",
       "\n",
       "mpl.find_output_cell = function(html_output) {\n",
       "    // Return the cell and output element which can be found *uniquely* in the notebook.\n",
       "    // Note - this is a bit hacky, but it is done because the \"notebook_saving.Notebook\"\n",
       "    // IPython event is triggered only after the cells have been serialised, which for\n",
       "    // our purposes (turning an active figure into a static one), is too late.\n",
       "    var cells = IPython.notebook.get_cells();\n",
       "    var ncells = cells.length;\n",
       "    for (var i=0; i<ncells; i++) {\n",
       "        var cell = cells[i];\n",
       "        if (cell.cell_type === 'code'){\n",
       "            for (var j=0; j<cell.output_area.outputs.length; j++) {\n",
       "                var data = cell.output_area.outputs[j];\n",
       "                if (data.data) {\n",
       "                    // IPython >= 3 moved mimebundle to data attribute of output\n",
       "                    data = data.data;\n",
       "                }\n",
       "                if (data['text/html'] == html_output) {\n",
       "                    return [cell, data, j];\n",
       "                }\n",
       "            }\n",
       "        }\n",
       "    }\n",
       "}\n",
       "\n",
       "// Register the function which deals with the matplotlib target/channel.\n",
       "// The kernel may be null if the page has been refreshed.\n",
       "if (IPython.notebook.kernel != null) {\n",
       "    IPython.notebook.kernel.comm_manager.register_target('matplotlib', mpl.mpl_figure_comm);\n",
       "}\n"
      ],
      "text/plain": [
       "<IPython.core.display.Javascript object>"
      ]
     },
     "metadata": {},
     "output_type": "display_data"
    },
    {
     "data": {
      "text/html": [
       "<img src=\"data:image/png;base64,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\" width=\"1110.8333333333335\">"
      ],
      "text/plain": [
       "<IPython.core.display.HTML object>"
      ]
     },
     "metadata": {},
     "output_type": "display_data"
    }
   ],
   "source": [
    "ax, tax, lax, lines = dual_train_plots()\n",
    "fig = ax.figure\n",
    "plt.tight_layout()"
   ]
  },
  {
   "cell_type": "code",
   "execution_count": 15,
   "metadata": {
    "scrolled": false
   },
   "outputs": [
    {
     "name": "stdout",
     "output_type": "stream",
     "text": [
      "Number of batches: train = 1125, val = 125\n"
     ]
    },
    {
     "data": {
      "application/vnd.jupyter.widget-view+json": {
       "model_id": "93a403a9a2f9401a90b5a2968b2966fb",
       "version_major": 2,
       "version_minor": 0
      },
      "text/plain": [
       "HBox(children=(FloatProgress(value=0.0, description='Epochs', layout=Layout(flex='2'), max=1000.0, style=Progr…"
      ]
     },
     "metadata": {},
     "output_type": "display_data"
    },
    {
     "data": {
      "application/vnd.jupyter.widget-view+json": {
       "model_id": "",
       "version_major": 2,
       "version_minor": 0
      },
      "text/plain": [
       "HBox(children=(FloatProgress(value=0.0, description='Training', layout=Layout(flex='2'), max=1125.0, style=Pro…"
      ]
     },
     "metadata": {},
     "output_type": "display_data"
    },
    {
     "name": "stdout",
     "output_type": "stream",
     "text": [
      "Epoch 0: train=2.19754, val=2.16612, took 45.3 s\n",
      "  Validation Found 9016 of 10819, added 1004 (eff 83.33%) (0.502 FP/event)\n"
     ]
    },
    {
     "data": {
      "application/vnd.jupyter.widget-view+json": {
       "model_id": "",
       "version_major": 2,
       "version_minor": 0
      },
      "text/plain": [
       "HBox(children=(FloatProgress(value=0.0, description='Training', layout=Layout(flex='2'), max=1125.0, style=Pro…"
      ]
     },
     "metadata": {},
     "output_type": "display_data"
    },
    {
     "name": "stdout",
     "output_type": "stream",
     "text": [
      "Epoch 1: train=2.19612, val=2.16843, took 43.483 s\n",
      "  Validation Found 9023 of 10819, added 1000 (eff 83.40%) (0.5 FP/event)\n"
     ]
    },
    {
     "data": {
      "application/vnd.jupyter.widget-view+json": {
       "model_id": "",
       "version_major": 2,
       "version_minor": 0
      },
      "text/plain": [
       "HBox(children=(FloatProgress(value=0.0, description='Training', layout=Layout(flex='2'), max=1125.0, style=Pro…"
      ]
     },
     "metadata": {},
     "output_type": "display_data"
    },
    {
     "name": "stdout",
     "output_type": "stream",
     "text": [
      "Epoch 2: train=2.19632, val=2.17279, took 43.841 s\n",
      "  Validation Found 9021 of 10819, added 1003 (eff 83.38%) (0.501 FP/event)\n"
     ]
    },
    {
     "data": {
      "application/vnd.jupyter.widget-view+json": {
       "model_id": "",
       "version_major": 2,
       "version_minor": 0
      },
      "text/plain": [
       "HBox(children=(FloatProgress(value=0.0, description='Training', layout=Layout(flex='2'), max=1125.0, style=Pro…"
      ]
     },
     "metadata": {},
     "output_type": "display_data"
    },
    {
     "name": "stdout",
     "output_type": "stream",
     "text": [
      "Epoch 3: train=2.19567, val=2.176, took 44.083 s\n",
      "  Validation Found 9019 of 10819, added 1002 (eff 83.36%) (0.501 FP/event)\n"
     ]
    },
    {
     "data": {
      "application/vnd.jupyter.widget-view+json": {
       "model_id": "",
       "version_major": 2,
       "version_minor": 0
      },
      "text/plain": [
       "HBox(children=(FloatProgress(value=0.0, description='Training', layout=Layout(flex='2'), max=1125.0, style=Pro…"
      ]
     },
     "metadata": {},
     "output_type": "display_data"
    },
    {
     "name": "stdout",
     "output_type": "stream",
     "text": [
      "Epoch 4: train=2.19876, val=2.17194, took 44.258 s\n",
      "  Validation Found 9015 of 10819, added 1004 (eff 83.33%) (0.502 FP/event)\n"
     ]
    },
    {
     "data": {
      "application/vnd.jupyter.widget-view+json": {
       "model_id": "",
       "version_major": 2,
       "version_minor": 0
      },
      "text/plain": [
       "HBox(children=(FloatProgress(value=0.0, description='Training', layout=Layout(flex='2'), max=1125.0, style=Pro…"
      ]
     },
     "metadata": {},
     "output_type": "display_data"
    },
    {
     "name": "stdout",
     "output_type": "stream",
     "text": [
      "Epoch 5: train=2.19652, val=2.16721, took 44.093 s\n",
      "  Validation Found 9011 of 10819, added 1012 (eff 83.29%) (0.506 FP/event)\n"
     ]
    },
    {
     "data": {
      "application/vnd.jupyter.widget-view+json": {
       "model_id": "",
       "version_major": 2,
       "version_minor": 0
      },
      "text/plain": [
       "HBox(children=(FloatProgress(value=0.0, description='Training', layout=Layout(flex='2'), max=1125.0, style=Pro…"
      ]
     },
     "metadata": {},
     "output_type": "display_data"
    },
    {
     "name": "stdout",
     "output_type": "stream",
     "text": [
      "Epoch 6: train=2.19482, val=2.16817, took 44.196 s\n",
      "  Validation Found 9014 of 10819, added 1009 (eff 83.32%) (0.504 FP/event)\n"
     ]
    },
    {
     "data": {
      "application/vnd.jupyter.widget-view+json": {
       "model_id": "",
       "version_major": 2,
       "version_minor": 0
      },
      "text/plain": [
       "HBox(children=(FloatProgress(value=0.0, description='Training', layout=Layout(flex='2'), max=1125.0, style=Pro…"
      ]
     },
     "metadata": {},
     "output_type": "display_data"
    },
    {
     "name": "stdout",
     "output_type": "stream",
     "text": [
      "Epoch 7: train=2.19426, val=2.16746, took 44.197 s\n",
      "  Validation Found 9018 of 10819, added 1003 (eff 83.35%) (0.501 FP/event)\n"
     ]
    },
    {
     "data": {
      "application/vnd.jupyter.widget-view+json": {
       "model_id": "",
       "version_major": 2,
       "version_minor": 0
      },
      "text/plain": [
       "HBox(children=(FloatProgress(value=0.0, description='Training', layout=Layout(flex='2'), max=1125.0, style=Pro…"
      ]
     },
     "metadata": {},
     "output_type": "display_data"
    },
    {
     "name": "stdout",
     "output_type": "stream",
     "text": [
      "Epoch 8: train=2.19623, val=2.16561, took 44.098 s\n",
      "  Validation Found 9014 of 10819, added 1001 (eff 83.32%) (0.5 FP/event)\n"
     ]
    },
    {
     "data": {
      "application/vnd.jupyter.widget-view+json": {
       "model_id": "",
       "version_major": 2,
       "version_minor": 0
      },
      "text/plain": [
       "HBox(children=(FloatProgress(value=0.0, description='Training', layout=Layout(flex='2'), max=1125.0, style=Pro…"
      ]
     },
     "metadata": {},
     "output_type": "display_data"
    },
    {
     "name": "stdout",
     "output_type": "stream",
     "text": [
      "Epoch 9: train=2.19045, val=2.16955, took 44.226 s\n",
      "  Validation Found 9012 of 10819, added 998 (eff 83.30%) (0.499 FP/event)\n"
     ]
    },
    {
     "data": {
      "application/vnd.jupyter.widget-view+json": {
       "model_id": "",
       "version_major": 2,
       "version_minor": 0
      },
      "text/plain": [
       "HBox(children=(FloatProgress(value=0.0, description='Training', layout=Layout(flex='2'), max=1125.0, style=Pro…"
      ]
     },
     "metadata": {},
     "output_type": "display_data"
    },
    {
     "name": "stdout",
     "output_type": "stream",
     "text": [
      "Epoch 10: train=2.19326, val=2.16707, took 44.27 s\n",
      "  Validation Found 9015 of 10819, added 1012 (eff 83.33%) (0.506 FP/event)\n"
     ]
    },
    {
     "data": {
      "application/vnd.jupyter.widget-view+json": {
       "model_id": "",
       "version_major": 2,
       "version_minor": 0
      },
      "text/plain": [
       "HBox(children=(FloatProgress(value=0.0, description='Training', layout=Layout(flex='2'), max=1125.0, style=Pro…"
      ]
     },
     "metadata": {},
     "output_type": "display_data"
    },
    {
     "name": "stdout",
     "output_type": "stream",
     "text": [
      "Epoch 11: train=2.19604, val=2.1661, took 44.331 s\n",
      "  Validation Found 9013 of 10819, added 1006 (eff 83.31%) (0.503 FP/event)\n"
     ]
    },
    {
     "data": {
      "application/vnd.jupyter.widget-view+json": {
       "model_id": "",
       "version_major": 2,
       "version_minor": 0
      },
      "text/plain": [
       "HBox(children=(FloatProgress(value=0.0, description='Training', layout=Layout(flex='2'), max=1125.0, style=Pro…"
      ]
     },
     "metadata": {},
     "output_type": "display_data"
    },
    {
     "name": "stdout",
     "output_type": "stream",
     "text": [
      "Epoch 12: train=2.19156, val=2.16773, took 44.3 s\n",
      "  Validation Found 9010 of 10819, added 1012 (eff 83.28%) (0.506 FP/event)\n"
     ]
    },
    {
     "data": {
      "application/vnd.jupyter.widget-view+json": {
       "model_id": "",
       "version_major": 2,
       "version_minor": 0
      },
      "text/plain": [
       "HBox(children=(FloatProgress(value=0.0, description='Training', layout=Layout(flex='2'), max=1125.0, style=Pro…"
      ]
     },
     "metadata": {},
     "output_type": "display_data"
    },
    {
     "name": "stdout",
     "output_type": "stream",
     "text": [
      "Epoch 13: train=2.2001, val=2.16793, took 44.23 s\n",
      "  Validation Found 9008 of 10819, added 1014 (eff 83.26%) (0.507 FP/event)\n"
     ]
    },
    {
     "data": {
      "application/vnd.jupyter.widget-view+json": {
       "model_id": "",
       "version_major": 2,
       "version_minor": 0
      },
      "text/plain": [
       "HBox(children=(FloatProgress(value=0.0, description='Training', layout=Layout(flex='2'), max=1125.0, style=Pro…"
      ]
     },
     "metadata": {},
     "output_type": "display_data"
    },
    {
     "name": "stdout",
     "output_type": "stream",
     "text": [
      "Epoch 14: train=2.19602, val=2.1674, took 44.304 s\n",
      "  Validation Found 9016 of 10819, added 1004 (eff 83.33%) (0.502 FP/event)\n"
     ]
    },
    {
     "data": {
      "application/vnd.jupyter.widget-view+json": {
       "model_id": "",
       "version_major": 2,
       "version_minor": 0
      },
      "text/plain": [
       "HBox(children=(FloatProgress(value=0.0, description='Training', layout=Layout(flex='2'), max=1125.0, style=Pro…"
      ]
     },
     "metadata": {},
     "output_type": "display_data"
    },
    {
     "name": "stdout",
     "output_type": "stream",
     "text": [
      "Epoch 15: train=2.19529, val=2.16666, took 44.225 s\n",
      "  Validation Found 9009 of 10819, added 1009 (eff 83.27%) (0.504 FP/event)\n"
     ]
    },
    {
     "data": {
      "application/vnd.jupyter.widget-view+json": {
       "model_id": "",
       "version_major": 2,
       "version_minor": 0
      },
      "text/plain": [
       "HBox(children=(FloatProgress(value=0.0, description='Training', layout=Layout(flex='2'), max=1125.0, style=Pro…"
      ]
     },
     "metadata": {},
     "output_type": "display_data"
    },
    {
     "name": "stdout",
     "output_type": "stream",
     "text": [
      "Epoch 16: train=2.1976, val=2.16598, took 44.196 s\n",
      "  Validation Found 9012 of 10819, added 1010 (eff 83.30%) (0.505 FP/event)\n"
     ]
    },
    {
     "data": {
      "application/vnd.jupyter.widget-view+json": {
       "model_id": "",
       "version_major": 2,
       "version_minor": 0
      },
      "text/plain": [
       "HBox(children=(FloatProgress(value=0.0, description='Training', layout=Layout(flex='2'), max=1125.0, style=Pro…"
      ]
     },
     "metadata": {},
     "output_type": "display_data"
    },
    {
     "name": "stdout",
     "output_type": "stream",
     "text": [
      "Epoch 17: train=2.19399, val=2.16581, took 44.319 s\n",
      "  Validation Found 9014 of 10819, added 1010 (eff 83.32%) (0.505 FP/event)\n"
     ]
    },
    {
     "data": {
      "application/vnd.jupyter.widget-view+json": {
       "model_id": "",
       "version_major": 2,
       "version_minor": 0
      },
      "text/plain": [
       "HBox(children=(FloatProgress(value=0.0, description='Training', layout=Layout(flex='2'), max=1125.0, style=Pro…"
      ]
     },
     "metadata": {},
     "output_type": "display_data"
    },
    {
     "name": "stdout",
     "output_type": "stream",
     "text": [
      "Epoch 18: train=2.19183, val=2.1705, took 44.151 s\n",
      "  Validation Found 9018 of 10819, added 1007 (eff 83.35%) (0.503 FP/event)\n"
     ]
    },
    {
     "data": {
      "application/vnd.jupyter.widget-view+json": {
       "model_id": "",
       "version_major": 2,
       "version_minor": 0
      },
      "text/plain": [
       "HBox(children=(FloatProgress(value=0.0, description='Training', layout=Layout(flex='2'), max=1125.0, style=Pro…"
      ]
     },
     "metadata": {},
     "output_type": "display_data"
    },
    {
     "name": "stdout",
     "output_type": "stream",
     "text": [
      "Epoch 19: train=2.19333, val=2.17025, took 44.073 s\n",
      "  Validation Found 9014 of 10819, added 1017 (eff 83.32%) (0.508 FP/event)\n"
     ]
    },
    {
     "data": {
      "application/vnd.jupyter.widget-view+json": {
       "model_id": "",
       "version_major": 2,
       "version_minor": 0
      },
      "text/plain": [
       "HBox(children=(FloatProgress(value=0.0, description='Training', layout=Layout(flex='2'), max=1125.0, style=Pro…"
      ]
     },
     "metadata": {},
     "output_type": "display_data"
    },
    {
     "name": "stdout",
     "output_type": "stream",
     "text": [
      "Epoch 20: train=2.19389, val=2.1675, took 44.336 s\n",
      "  Validation Found 9022 of 10819, added 1010 (eff 83.39%) (0.505 FP/event)\n"
     ]
    },
    {
     "data": {
      "application/vnd.jupyter.widget-view+json": {
       "model_id": "",
       "version_major": 2,
       "version_minor": 0
      },
      "text/plain": [
       "HBox(children=(FloatProgress(value=0.0, description='Training', layout=Layout(flex='2'), max=1125.0, style=Pro…"
      ]
     },
     "metadata": {},
     "output_type": "display_data"
    },
    {
     "name": "stdout",
     "output_type": "stream",
     "text": [
      "Epoch 21: train=2.19143, val=2.16674, took 44.135 s\n",
      "  Validation Found 9016 of 10819, added 1012 (eff 83.33%) (0.506 FP/event)\n"
     ]
    },
    {
     "data": {
      "application/vnd.jupyter.widget-view+json": {
       "model_id": "",
       "version_major": 2,
       "version_minor": 0
      },
      "text/plain": [
       "HBox(children=(FloatProgress(value=0.0, description='Training', layout=Layout(flex='2'), max=1125.0, style=Pro…"
      ]
     },
     "metadata": {},
     "output_type": "display_data"
    },
    {
     "name": "stdout",
     "output_type": "stream",
     "text": [
      "Epoch 22: train=2.19304, val=2.16554, took 44.124 s\n",
      "  Validation Found 9022 of 10819, added 1020 (eff 83.39%) (0.51 FP/event)\n"
     ]
    },
    {
     "data": {
      "application/vnd.jupyter.widget-view+json": {
       "model_id": "",
       "version_major": 2,
       "version_minor": 0
      },
      "text/plain": [
       "HBox(children=(FloatProgress(value=0.0, description='Training', layout=Layout(flex='2'), max=1125.0, style=Pro…"
      ]
     },
     "metadata": {},
     "output_type": "display_data"
    },
    {
     "name": "stdout",
     "output_type": "stream",
     "text": [
      "Epoch 23: train=2.19581, val=2.16671, took 44.1 s\n",
      "  Validation Found 9019 of 10819, added 1018 (eff 83.36%) (0.509 FP/event)\n"
     ]
    },
    {
     "data": {
      "application/vnd.jupyter.widget-view+json": {
       "model_id": "",
       "version_major": 2,
       "version_minor": 0
      },
      "text/plain": [
       "HBox(children=(FloatProgress(value=0.0, description='Training', layout=Layout(flex='2'), max=1125.0, style=Pro…"
      ]
     },
     "metadata": {},
     "output_type": "display_data"
    },
    {
     "name": "stdout",
     "output_type": "stream",
     "text": [
      "Epoch 24: train=2.19165, val=2.17661, took 44.149 s\n",
      "  Validation Found 9012 of 10819, added 1014 (eff 83.30%) (0.507 FP/event)\n"
     ]
    },
    {
     "data": {
      "application/vnd.jupyter.widget-view+json": {
       "model_id": "",
       "version_major": 2,
       "version_minor": 0
      },
      "text/plain": [
       "HBox(children=(FloatProgress(value=0.0, description='Training', layout=Layout(flex='2'), max=1125.0, style=Pro…"
      ]
     },
     "metadata": {},
     "output_type": "display_data"
    },
    {
     "name": "stdout",
     "output_type": "stream",
     "text": [
      "Epoch 25: train=2.19415, val=2.16602, took 44.115 s\n",
      "  Validation Found 9025 of 10819, added 1011 (eff 83.42%) (0.505 FP/event)\n"
     ]
    },
    {
     "data": {
      "application/vnd.jupyter.widget-view+json": {
       "model_id": "",
       "version_major": 2,
       "version_minor": 0
      },
      "text/plain": [
       "HBox(children=(FloatProgress(value=0.0, description='Training', layout=Layout(flex='2'), max=1125.0, style=Pro…"
      ]
     },
     "metadata": {},
     "output_type": "display_data"
    },
    {
     "name": "stdout",
     "output_type": "stream",
     "text": [
      "Epoch 26: train=2.19138, val=2.16931, took 44.158 s\n",
      "  Validation Found 9014 of 10819, added 1005 (eff 83.32%) (0.502 FP/event)\n"
     ]
    },
    {
     "data": {
      "application/vnd.jupyter.widget-view+json": {
       "model_id": "",
       "version_major": 2,
       "version_minor": 0
      },
      "text/plain": [
       "HBox(children=(FloatProgress(value=0.0, description='Training', layout=Layout(flex='2'), max=1125.0, style=Pro…"
      ]
     },
     "metadata": {},
     "output_type": "display_data"
    },
    {
     "name": "stdout",
     "output_type": "stream",
     "text": [
      "Epoch 27: train=2.19432, val=2.16503, took 44.26 s\n",
      "  Validation Found 9011 of 10819, added 1001 (eff 83.29%) (0.5 FP/event)\n"
     ]
    },
    {
     "data": {
      "application/vnd.jupyter.widget-view+json": {
       "model_id": "",
       "version_major": 2,
       "version_minor": 0
      },
      "text/plain": [
       "HBox(children=(FloatProgress(value=0.0, description='Training', layout=Layout(flex='2'), max=1125.0, style=Pro…"
      ]
     },
     "metadata": {},
     "output_type": "display_data"
    },
    {
     "name": "stdout",
     "output_type": "stream",
     "text": [
      "Epoch 28: train=2.19086, val=2.16518, took 44.123 s\n",
      "  Validation Found 9009 of 10819, added 1006 (eff 83.27%) (0.503 FP/event)\n"
     ]
    },
    {
     "data": {
      "application/vnd.jupyter.widget-view+json": {
       "model_id": "",
       "version_major": 2,
       "version_minor": 0
      },
      "text/plain": [
       "HBox(children=(FloatProgress(value=0.0, description='Training', layout=Layout(flex='2'), max=1125.0, style=Pro…"
      ]
     },
     "metadata": {},
     "output_type": "display_data"
    },
    {
     "name": "stdout",
     "output_type": "stream",
     "text": [
      "Epoch 29: train=2.18989, val=2.16562, took 44.15 s\n",
      "  Validation Found 9021 of 10819, added 1011 (eff 83.38%) (0.505 FP/event)\n"
     ]
    },
    {
     "data": {
      "application/vnd.jupyter.widget-view+json": {
       "model_id": "",
       "version_major": 2,
       "version_minor": 0
      },
      "text/plain": [
       "HBox(children=(FloatProgress(value=0.0, description='Training', layout=Layout(flex='2'), max=1125.0, style=Pro…"
      ]
     },
     "metadata": {},
     "output_type": "display_data"
    },
    {
     "name": "stdout",
     "output_type": "stream",
     "text": [
      "Epoch 30: train=2.19069, val=2.16553, took 43.981 s\n",
      "  Validation Found 9016 of 10819, added 1015 (eff 83.33%) (0.507 FP/event)\n"
     ]
    },
    {
     "data": {
      "application/vnd.jupyter.widget-view+json": {
       "model_id": "",
       "version_major": 2,
       "version_minor": 0
      },
      "text/plain": [
       "HBox(children=(FloatProgress(value=0.0, description='Training', layout=Layout(flex='2'), max=1125.0, style=Pro…"
      ]
     },
     "metadata": {},
     "output_type": "display_data"
    },
    {
     "name": "stdout",
     "output_type": "stream",
     "text": [
      "Epoch 31: train=2.19113, val=2.16619, took 43.696 s\n",
      "  Validation Found 9020 of 10819, added 1016 (eff 83.37%) (0.508 FP/event)\n"
     ]
    },
    {
     "data": {
      "application/vnd.jupyter.widget-view+json": {
       "model_id": "",
       "version_major": 2,
       "version_minor": 0
      },
      "text/plain": [
       "HBox(children=(FloatProgress(value=0.0, description='Training', layout=Layout(flex='2'), max=1125.0, style=Pro…"
      ]
     },
     "metadata": {},
     "output_type": "display_data"
    },
    {
     "name": "stdout",
     "output_type": "stream",
     "text": [
      "Epoch 32: train=2.19467, val=2.16575, took 44.081 s\n",
      "  Validation Found 9019 of 10819, added 1015 (eff 83.36%) (0.507 FP/event)\n"
     ]
    },
    {
     "data": {
      "application/vnd.jupyter.widget-view+json": {
       "model_id": "",
       "version_major": 2,
       "version_minor": 0
      },
      "text/plain": [
       "HBox(children=(FloatProgress(value=0.0, description='Training', layout=Layout(flex='2'), max=1125.0, style=Pro…"
      ]
     },
     "metadata": {},
     "output_type": "display_data"
    },
    {
     "name": "stdout",
     "output_type": "stream",
     "text": [
      "Epoch 33: train=2.18888, val=2.16878, took 44.06 s\n",
      "  Validation Found 9007 of 10819, added 1008 (eff 83.25%) (0.504 FP/event)\n"
     ]
    },
    {
     "data": {
      "application/vnd.jupyter.widget-view+json": {
       "model_id": "",
       "version_major": 2,
       "version_minor": 0
      },
      "text/plain": [
       "HBox(children=(FloatProgress(value=0.0, description='Training', layout=Layout(flex='2'), max=1125.0, style=Pro…"
      ]
     },
     "metadata": {},
     "output_type": "display_data"
    },
    {
     "name": "stdout",
     "output_type": "stream",
     "text": [
      "Epoch 34: train=2.19197, val=2.16628, took 43.964 s\n",
      "  Validation Found 9016 of 10819, added 1008 (eff 83.33%) (0.504 FP/event)\n"
     ]
    },
    {
     "data": {
      "application/vnd.jupyter.widget-view+json": {
       "model_id": "",
       "version_major": 2,
       "version_minor": 0
      },
      "text/plain": [
       "HBox(children=(FloatProgress(value=0.0, description='Training', layout=Layout(flex='2'), max=1125.0, style=Pro…"
      ]
     },
     "metadata": {},
     "output_type": "display_data"
    },
    {
     "name": "stdout",
     "output_type": "stream",
     "text": [
      "Epoch 35: train=2.18993, val=2.16757, took 43.924 s\n",
      "  Validation Found 9017 of 10819, added 1010 (eff 83.34%) (0.505 FP/event)\n"
     ]
    },
    {
     "data": {
      "application/vnd.jupyter.widget-view+json": {
       "model_id": "",
       "version_major": 2,
       "version_minor": 0
      },
      "text/plain": [
       "HBox(children=(FloatProgress(value=0.0, description='Training', layout=Layout(flex='2'), max=1125.0, style=Pro…"
      ]
     },
     "metadata": {},
     "output_type": "display_data"
    },
    {
     "name": "stdout",
     "output_type": "stream",
     "text": [
      "Epoch 36: train=2.19241, val=2.16559, took 44.212 s\n",
      "  Validation Found 9024 of 10819, added 1005 (eff 83.41%) (0.502 FP/event)\n"
     ]
    },
    {
     "data": {
      "application/vnd.jupyter.widget-view+json": {
       "model_id": "",
       "version_major": 2,
       "version_minor": 0
      },
      "text/plain": [
       "HBox(children=(FloatProgress(value=0.0, description='Training', layout=Layout(flex='2'), max=1125.0, style=Pro…"
      ]
     },
     "metadata": {},
     "output_type": "display_data"
    },
    {
     "name": "stdout",
     "output_type": "stream",
     "text": [
      "Epoch 37: train=2.18971, val=2.16537, took 44.199 s\n",
      "  Validation Found 9021 of 10819, added 1006 (eff 83.38%) (0.503 FP/event)\n"
     ]
    },
    {
     "data": {
      "application/vnd.jupyter.widget-view+json": {
       "model_id": "",
       "version_major": 2,
       "version_minor": 0
      },
      "text/plain": [
       "HBox(children=(FloatProgress(value=0.0, description='Training', layout=Layout(flex='2'), max=1125.0, style=Pro…"
      ]
     },
     "metadata": {},
     "output_type": "display_data"
    },
    {
     "name": "stdout",
     "output_type": "stream",
     "text": [
      "Epoch 38: train=2.19032, val=2.16688, took 44.31 s\n",
      "  Validation Found 9020 of 10819, added 1006 (eff 83.37%) (0.503 FP/event)\n"
     ]
    },
    {
     "data": {
      "application/vnd.jupyter.widget-view+json": {
       "model_id": "",
       "version_major": 2,
       "version_minor": 0
      },
      "text/plain": [
       "HBox(children=(FloatProgress(value=0.0, description='Training', layout=Layout(flex='2'), max=1125.0, style=Pro…"
      ]
     },
     "metadata": {},
     "output_type": "display_data"
    },
    {
     "name": "stdout",
     "output_type": "stream",
     "text": [
      "Epoch 39: train=2.19553, val=2.1672, took 44.027 s\n",
      "  Validation Found 9011 of 10819, added 1006 (eff 83.29%) (0.503 FP/event)\n"
     ]
    },
    {
     "data": {
      "application/vnd.jupyter.widget-view+json": {
       "model_id": "",
       "version_major": 2,
       "version_minor": 0
      },
      "text/plain": [
       "HBox(children=(FloatProgress(value=0.0, description='Training', layout=Layout(flex='2'), max=1125.0, style=Pro…"
      ]
     },
     "metadata": {},
     "output_type": "display_data"
    },
    {
     "name": "stdout",
     "output_type": "stream",
     "text": [
      "Epoch 40: train=2.19328, val=2.16903, took 43.991 s\n",
      "  Validation Found 9010 of 10819, added 997 (eff 83.28%) (0.498 FP/event)\n"
     ]
    },
    {
     "data": {
      "application/vnd.jupyter.widget-view+json": {
       "model_id": "",
       "version_major": 2,
       "version_minor": 0
      },
      "text/plain": [
       "HBox(children=(FloatProgress(value=0.0, description='Training', layout=Layout(flex='2'), max=1125.0, style=Pro…"
      ]
     },
     "metadata": {},
     "output_type": "display_data"
    },
    {
     "name": "stdout",
     "output_type": "stream",
     "text": [
      "Epoch 41: train=2.19402, val=2.17066, took 43.817 s\n",
      "  Validation Found 9017 of 10819, added 1009 (eff 83.34%) (0.504 FP/event)\n"
     ]
    },
    {
     "data": {
      "application/vnd.jupyter.widget-view+json": {
       "model_id": "",
       "version_major": 2,
       "version_minor": 0
      },
      "text/plain": [
       "HBox(children=(FloatProgress(value=0.0, description='Training', layout=Layout(flex='2'), max=1125.0, style=Pro…"
      ]
     },
     "metadata": {},
     "output_type": "display_data"
    },
    {
     "name": "stdout",
     "output_type": "stream",
     "text": [
      "Epoch 42: train=2.19079, val=2.1666, took 43.686 s\n",
      "  Validation Found 9016 of 10819, added 1010 (eff 83.33%) (0.505 FP/event)\n"
     ]
    },
    {
     "data": {
      "application/vnd.jupyter.widget-view+json": {
       "model_id": "",
       "version_major": 2,
       "version_minor": 0
      },
      "text/plain": [
       "HBox(children=(FloatProgress(value=0.0, description='Training', layout=Layout(flex='2'), max=1125.0, style=Pro…"
      ]
     },
     "metadata": {},
     "output_type": "display_data"
    },
    {
     "name": "stdout",
     "output_type": "stream",
     "text": [
      "Epoch 43: train=2.19134, val=2.16614, took 43.752 s\n",
      "  Validation Found 9010 of 10819, added 1012 (eff 83.28%) (0.506 FP/event)\n"
     ]
    },
    {
     "data": {
      "application/vnd.jupyter.widget-view+json": {
       "model_id": "",
       "version_major": 2,
       "version_minor": 0
      },
      "text/plain": [
       "HBox(children=(FloatProgress(value=0.0, description='Training', layout=Layout(flex='2'), max=1125.0, style=Pro…"
      ]
     },
     "metadata": {},
     "output_type": "display_data"
    },
    {
     "name": "stdout",
     "output_type": "stream",
     "text": [
      "Epoch 44: train=2.18248, val=2.16534, took 44.117 s\n",
      "  Validation Found 9011 of 10819, added 1006 (eff 83.29%) (0.503 FP/event)\n"
     ]
    },
    {
     "data": {
      "application/vnd.jupyter.widget-view+json": {
       "model_id": "",
       "version_major": 2,
       "version_minor": 0
      },
      "text/plain": [
       "HBox(children=(FloatProgress(value=0.0, description='Training', layout=Layout(flex='2'), max=1125.0, style=Pro…"
      ]
     },
     "metadata": {},
     "output_type": "display_data"
    },
    {
     "name": "stdout",
     "output_type": "stream",
     "text": [
      "Epoch 45: train=2.19153, val=2.16622, took 44.133 s\n",
      "  Validation Found 9011 of 10819, added 1006 (eff 83.29%) (0.503 FP/event)\n"
     ]
    },
    {
     "data": {
      "application/vnd.jupyter.widget-view+json": {
       "model_id": "",
       "version_major": 2,
       "version_minor": 0
      },
      "text/plain": [
       "HBox(children=(FloatProgress(value=0.0, description='Training', layout=Layout(flex='2'), max=1125.0, style=Pro…"
      ]
     },
     "metadata": {},
     "output_type": "display_data"
    },
    {
     "name": "stdout",
     "output_type": "stream",
     "text": [
      "Epoch 46: train=2.18767, val=2.16783, took 44.004 s\n",
      "  Validation Found 9021 of 10819, added 1009 (eff 83.38%) (0.504 FP/event)\n"
     ]
    },
    {
     "data": {
      "application/vnd.jupyter.widget-view+json": {
       "model_id": "",
       "version_major": 2,
       "version_minor": 0
      },
      "text/plain": [
       "HBox(children=(FloatProgress(value=0.0, description='Training', layout=Layout(flex='2'), max=1125.0, style=Pro…"
      ]
     },
     "metadata": {},
     "output_type": "display_data"
    },
    {
     "name": "stdout",
     "output_type": "stream",
     "text": [
      "Epoch 47: train=2.18584, val=2.16699, took 44.082 s\n",
      "  Validation Found 9010 of 10819, added 1006 (eff 83.28%) (0.503 FP/event)\n"
     ]
    },
    {
     "data": {
      "application/vnd.jupyter.widget-view+json": {
       "model_id": "",
       "version_major": 2,
       "version_minor": 0
      },
      "text/plain": [
       "HBox(children=(FloatProgress(value=0.0, description='Training', layout=Layout(flex='2'), max=1125.0, style=Pro…"
      ]
     },
     "metadata": {},
     "output_type": "display_data"
    },
    {
     "name": "stdout",
     "output_type": "stream",
     "text": [
      "Epoch 48: train=2.19004, val=2.1645, took 44.196 s\n",
      "  Validation Found 9012 of 10819, added 1014 (eff 83.30%) (0.507 FP/event)\n"
     ]
    },
    {
     "data": {
      "application/vnd.jupyter.widget-view+json": {
       "model_id": "",
       "version_major": 2,
       "version_minor": 0
      },
      "text/plain": [
       "HBox(children=(FloatProgress(value=0.0, description='Training', layout=Layout(flex='2'), max=1125.0, style=Pro…"
      ]
     },
     "metadata": {},
     "output_type": "display_data"
    },
    {
     "name": "stdout",
     "output_type": "stream",
     "text": [
      "Epoch 49: train=2.18855, val=2.16566, took 43.823 s\n",
      "  Validation Found 9020 of 10819, added 1012 (eff 83.37%) (0.506 FP/event)\n"
     ]
    },
    {
     "data": {
      "application/vnd.jupyter.widget-view+json": {
       "model_id": "",
       "version_major": 2,
       "version_minor": 0
      },
      "text/plain": [
       "HBox(children=(FloatProgress(value=0.0, description='Training', layout=Layout(flex='2'), max=1125.0, style=Pro…"
      ]
     },
     "metadata": {},
     "output_type": "display_data"
    },
    {
     "name": "stdout",
     "output_type": "stream",
     "text": [
      "Epoch 50: train=2.18575, val=2.16473, took 44.036 s\n",
      "  Validation Found 9020 of 10819, added 1003 (eff 83.37%) (0.501 FP/event)\n"
     ]
    },
    {
     "data": {
      "application/vnd.jupyter.widget-view+json": {
       "model_id": "",
       "version_major": 2,
       "version_minor": 0
      },
      "text/plain": [
       "HBox(children=(FloatProgress(value=0.0, description='Training', layout=Layout(flex='2'), max=1125.0, style=Pro…"
      ]
     },
     "metadata": {},
     "output_type": "display_data"
    },
    {
     "name": "stdout",
     "output_type": "stream",
     "text": [
      "Epoch 51: train=2.18469, val=2.16982, took 44.3 s\n",
      "  Validation Found 9006 of 10819, added 1005 (eff 83.24%) (0.502 FP/event)\n"
     ]
    },
    {
     "data": {
      "application/vnd.jupyter.widget-view+json": {
       "model_id": "",
       "version_major": 2,
       "version_minor": 0
      },
      "text/plain": [
       "HBox(children=(FloatProgress(value=0.0, description='Training', layout=Layout(flex='2'), max=1125.0, style=Pro…"
      ]
     },
     "metadata": {},
     "output_type": "display_data"
    },
    {
     "name": "stdout",
     "output_type": "stream",
     "text": [
      "Epoch 52: train=2.19123, val=2.16506, took 44.13 s\n",
      "  Validation Found 9018 of 10819, added 1006 (eff 83.35%) (0.503 FP/event)\n"
     ]
    },
    {
     "data": {
      "application/vnd.jupyter.widget-view+json": {
       "model_id": "",
       "version_major": 2,
       "version_minor": 0
      },
      "text/plain": [
       "HBox(children=(FloatProgress(value=0.0, description='Training', layout=Layout(flex='2'), max=1125.0, style=Pro…"
      ]
     },
     "metadata": {},
     "output_type": "display_data"
    },
    {
     "name": "stdout",
     "output_type": "stream",
     "text": [
      "Epoch 53: train=2.18442, val=2.16765, took 43.857 s\n",
      "  Validation Found 9014 of 10819, added 1006 (eff 83.32%) (0.503 FP/event)\n"
     ]
    },
    {
     "data": {
      "application/vnd.jupyter.widget-view+json": {
       "model_id": "",
       "version_major": 2,
       "version_minor": 0
      },
      "text/plain": [
       "HBox(children=(FloatProgress(value=0.0, description='Training', layout=Layout(flex='2'), max=1125.0, style=Pro…"
      ]
     },
     "metadata": {},
     "output_type": "display_data"
    },
    {
     "name": "stdout",
     "output_type": "stream",
     "text": [
      "Epoch 54: train=2.18365, val=2.16457, took 44.1 s\n",
      "  Validation Found 9013 of 10819, added 1012 (eff 83.31%) (0.506 FP/event)\n"
     ]
    },
    {
     "data": {
      "application/vnd.jupyter.widget-view+json": {
       "model_id": "",
       "version_major": 2,
       "version_minor": 0
      },
      "text/plain": [
       "HBox(children=(FloatProgress(value=0.0, description='Training', layout=Layout(flex='2'), max=1125.0, style=Pro…"
      ]
     },
     "metadata": {},
     "output_type": "display_data"
    },
    {
     "name": "stdout",
     "output_type": "stream",
     "text": [
      "Epoch 55: train=2.19125, val=2.16468, took 44.238 s\n",
      "  Validation Found 9013 of 10819, added 1015 (eff 83.31%) (0.507 FP/event)\n"
     ]
    },
    {
     "data": {
      "application/vnd.jupyter.widget-view+json": {
       "model_id": "",
       "version_major": 2,
       "version_minor": 0
      },
      "text/plain": [
       "HBox(children=(FloatProgress(value=0.0, description='Training', layout=Layout(flex='2'), max=1125.0, style=Pro…"
      ]
     },
     "metadata": {},
     "output_type": "display_data"
    },
    {
     "name": "stdout",
     "output_type": "stream",
     "text": [
      "Epoch 56: train=2.1876, val=2.16421, took 44.325 s\n",
      "  Validation Found 9020 of 10819, added 1009 (eff 83.37%) (0.504 FP/event)\n"
     ]
    },
    {
     "data": {
      "application/vnd.jupyter.widget-view+json": {
       "model_id": "",
       "version_major": 2,
       "version_minor": 0
      },
      "text/plain": [
       "HBox(children=(FloatProgress(value=0.0, description='Training', layout=Layout(flex='2'), max=1125.0, style=Pro…"
      ]
     },
     "metadata": {},
     "output_type": "display_data"
    },
    {
     "name": "stdout",
     "output_type": "stream",
     "text": [
      "Epoch 57: train=2.18413, val=2.16568, took 44.24 s\n",
      "  Validation Found 9014 of 10819, added 1006 (eff 83.32%) (0.503 FP/event)\n"
     ]
    },
    {
     "data": {
      "application/vnd.jupyter.widget-view+json": {
       "model_id": "",
       "version_major": 2,
       "version_minor": 0
      },
      "text/plain": [
       "HBox(children=(FloatProgress(value=0.0, description='Training', layout=Layout(flex='2'), max=1125.0, style=Pro…"
      ]
     },
     "metadata": {},
     "output_type": "display_data"
    },
    {
     "name": "stdout",
     "output_type": "stream",
     "text": [
      "Epoch 58: train=2.19009, val=2.16429, took 44.046 s\n",
      "  Validation Found 9013 of 10819, added 1014 (eff 83.31%) (0.507 FP/event)\n"
     ]
    },
    {
     "data": {
      "application/vnd.jupyter.widget-view+json": {
       "model_id": "",
       "version_major": 2,
       "version_minor": 0
      },
      "text/plain": [
       "HBox(children=(FloatProgress(value=0.0, description='Training', layout=Layout(flex='2'), max=1125.0, style=Pro…"
      ]
     },
     "metadata": {},
     "output_type": "display_data"
    },
    {
     "name": "stdout",
     "output_type": "stream",
     "text": [
      "Epoch 59: train=2.1842, val=2.1628, took 44.29 s\n",
      "  Validation Found 9019 of 10819, added 1006 (eff 83.36%) (0.503 FP/event)\n"
     ]
    },
    {
     "data": {
      "application/vnd.jupyter.widget-view+json": {
       "model_id": "",
       "version_major": 2,
       "version_minor": 0
      },
      "text/plain": [
       "HBox(children=(FloatProgress(value=0.0, description='Training', layout=Layout(flex='2'), max=1125.0, style=Pro…"
      ]
     },
     "metadata": {},
     "output_type": "display_data"
    },
    {
     "name": "stdout",
     "output_type": "stream",
     "text": [
      "Epoch 60: train=2.19083, val=2.16329, took 44.026 s\n",
      "  Validation Found 9016 of 10819, added 1006 (eff 83.33%) (0.503 FP/event)\n"
     ]
    },
    {
     "data": {
      "application/vnd.jupyter.widget-view+json": {
       "model_id": "",
       "version_major": 2,
       "version_minor": 0
      },
      "text/plain": [
       "HBox(children=(FloatProgress(value=0.0, description='Training', layout=Layout(flex='2'), max=1125.0, style=Pro…"
      ]
     },
     "metadata": {},
     "output_type": "display_data"
    },
    {
     "name": "stdout",
     "output_type": "stream",
     "text": [
      "Epoch 61: train=2.1877, val=2.16329, took 44.147 s\n",
      "  Validation Found 9016 of 10819, added 1008 (eff 83.33%) (0.504 FP/event)\n"
     ]
    },
    {
     "data": {
      "application/vnd.jupyter.widget-view+json": {
       "model_id": "",
       "version_major": 2,
       "version_minor": 0
      },
      "text/plain": [
       "HBox(children=(FloatProgress(value=0.0, description='Training', layout=Layout(flex='2'), max=1125.0, style=Pro…"
      ]
     },
     "metadata": {},
     "output_type": "display_data"
    },
    {
     "name": "stdout",
     "output_type": "stream",
     "text": [
      "Epoch 62: train=2.18493, val=2.1641, took 44.14 s\n",
      "  Validation Found 9018 of 10819, added 1008 (eff 83.35%) (0.504 FP/event)\n"
     ]
    },
    {
     "data": {
      "application/vnd.jupyter.widget-view+json": {
       "model_id": "",
       "version_major": 2,
       "version_minor": 0
      },
      "text/plain": [
       "HBox(children=(FloatProgress(value=0.0, description='Training', layout=Layout(flex='2'), max=1125.0, style=Pro…"
      ]
     },
     "metadata": {},
     "output_type": "display_data"
    },
    {
     "name": "stdout",
     "output_type": "stream",
     "text": [
      "Epoch 63: train=2.18892, val=2.16279, took 44.187 s\n",
      "  Validation Found 9012 of 10819, added 1012 (eff 83.30%) (0.506 FP/event)\n"
     ]
    },
    {
     "data": {
      "application/vnd.jupyter.widget-view+json": {
       "model_id": "",
       "version_major": 2,
       "version_minor": 0
      },
      "text/plain": [
       "HBox(children=(FloatProgress(value=0.0, description='Training', layout=Layout(flex='2'), max=1125.0, style=Pro…"
      ]
     },
     "metadata": {},
     "output_type": "display_data"
    },
    {
     "name": "stdout",
     "output_type": "stream",
     "text": [
      "Epoch 64: train=2.18609, val=2.16272, took 44.174 s\n",
      "  Validation Found 9010 of 10819, added 1005 (eff 83.28%) (0.502 FP/event)\n"
     ]
    },
    {
     "data": {
      "application/vnd.jupyter.widget-view+json": {
       "model_id": "",
       "version_major": 2,
       "version_minor": 0
      },
      "text/plain": [
       "HBox(children=(FloatProgress(value=0.0, description='Training', layout=Layout(flex='2'), max=1125.0, style=Pro…"
      ]
     },
     "metadata": {},
     "output_type": "display_data"
    },
    {
     "name": "stdout",
     "output_type": "stream",
     "text": [
      "Epoch 65: train=2.186, val=2.16673, took 44.049 s\n",
      "  Validation Found 9016 of 10819, added 1002 (eff 83.33%) (0.501 FP/event)\n"
     ]
    },
    {
     "data": {
      "application/vnd.jupyter.widget-view+json": {
       "model_id": "",
       "version_major": 2,
       "version_minor": 0
      },
      "text/plain": [
       "HBox(children=(FloatProgress(value=0.0, description='Training', layout=Layout(flex='2'), max=1125.0, style=Pro…"
      ]
     },
     "metadata": {},
     "output_type": "display_data"
    },
    {
     "name": "stdout",
     "output_type": "stream",
     "text": [
      "Epoch 66: train=2.18426, val=2.16244, took 43.866 s\n",
      "  Validation Found 9023 of 10819, added 1010 (eff 83.40%) (0.505 FP/event)\n"
     ]
    },
    {
     "data": {
      "application/vnd.jupyter.widget-view+json": {
       "model_id": "",
       "version_major": 2,
       "version_minor": 0
      },
      "text/plain": [
       "HBox(children=(FloatProgress(value=0.0, description='Training', layout=Layout(flex='2'), max=1125.0, style=Pro…"
      ]
     },
     "metadata": {},
     "output_type": "display_data"
    },
    {
     "name": "stdout",
     "output_type": "stream",
     "text": [
      "Epoch 67: train=2.1794, val=2.16295, took 44.061 s\n",
      "  Validation Found 9020 of 10819, added 1009 (eff 83.37%) (0.504 FP/event)\n"
     ]
    },
    {
     "data": {
      "application/vnd.jupyter.widget-view+json": {
       "model_id": "",
       "version_major": 2,
       "version_minor": 0
      },
      "text/plain": [
       "HBox(children=(FloatProgress(value=0.0, description='Training', layout=Layout(flex='2'), max=1125.0, style=Pro…"
      ]
     },
     "metadata": {},
     "output_type": "display_data"
    },
    {
     "name": "stdout",
     "output_type": "stream",
     "text": [
      "Epoch 68: train=2.1867, val=2.16288, took 44.096 s\n",
      "  Validation Found 9020 of 10819, added 1009 (eff 83.37%) (0.504 FP/event)\n"
     ]
    },
    {
     "data": {
      "application/vnd.jupyter.widget-view+json": {
       "model_id": "",
       "version_major": 2,
       "version_minor": 0
      },
      "text/plain": [
       "HBox(children=(FloatProgress(value=0.0, description='Training', layout=Layout(flex='2'), max=1125.0, style=Pro…"
      ]
     },
     "metadata": {},
     "output_type": "display_data"
    },
    {
     "name": "stdout",
     "output_type": "stream",
     "text": [
      "Epoch 69: train=2.18765, val=2.1664, took 43.975 s\n",
      "  Validation Found 9016 of 10819, added 1002 (eff 83.33%) (0.501 FP/event)\n"
     ]
    },
    {
     "data": {
      "application/vnd.jupyter.widget-view+json": {
       "model_id": "",
       "version_major": 2,
       "version_minor": 0
      },
      "text/plain": [
       "HBox(children=(FloatProgress(value=0.0, description='Training', layout=Layout(flex='2'), max=1125.0, style=Pro…"
      ]
     },
     "metadata": {},
     "output_type": "display_data"
    },
    {
     "name": "stdout",
     "output_type": "stream",
     "text": [
      "Epoch 70: train=2.18765, val=2.16333, took 44.27 s\n",
      "  Validation Found 9021 of 10819, added 1014 (eff 83.38%) (0.507 FP/event)\n"
     ]
    },
    {
     "data": {
      "application/vnd.jupyter.widget-view+json": {
       "model_id": "",
       "version_major": 2,
       "version_minor": 0
      },
      "text/plain": [
       "HBox(children=(FloatProgress(value=0.0, description='Training', layout=Layout(flex='2'), max=1125.0, style=Pro…"
      ]
     },
     "metadata": {},
     "output_type": "display_data"
    },
    {
     "name": "stdout",
     "output_type": "stream",
     "text": [
      "Epoch 71: train=2.18806, val=2.16774, took 44.372 s\n",
      "  Validation Found 9016 of 10819, added 1007 (eff 83.33%) (0.503 FP/event)\n"
     ]
    },
    {
     "data": {
      "application/vnd.jupyter.widget-view+json": {
       "model_id": "",
       "version_major": 2,
       "version_minor": 0
      },
      "text/plain": [
       "HBox(children=(FloatProgress(value=0.0, description='Training', layout=Layout(flex='2'), max=1125.0, style=Pro…"
      ]
     },
     "metadata": {},
     "output_type": "display_data"
    },
    {
     "name": "stdout",
     "output_type": "stream",
     "text": [
      "Epoch 72: train=2.18649, val=2.16236, took 44.125 s\n",
      "  Validation Found 9025 of 10819, added 1011 (eff 83.42%) (0.505 FP/event)\n"
     ]
    },
    {
     "data": {
      "application/vnd.jupyter.widget-view+json": {
       "model_id": "",
       "version_major": 2,
       "version_minor": 0
      },
      "text/plain": [
       "HBox(children=(FloatProgress(value=0.0, description='Training', layout=Layout(flex='2'), max=1125.0, style=Pro…"
      ]
     },
     "metadata": {},
     "output_type": "display_data"
    },
    {
     "name": "stdout",
     "output_type": "stream",
     "text": [
      "Epoch 73: train=2.18785, val=2.16246, took 44.021 s\n",
      "  Validation Found 9026 of 10819, added 1004 (eff 83.43%) (0.502 FP/event)\n"
     ]
    },
    {
     "data": {
      "application/vnd.jupyter.widget-view+json": {
       "model_id": "",
       "version_major": 2,
       "version_minor": 0
      },
      "text/plain": [
       "HBox(children=(FloatProgress(value=0.0, description='Training', layout=Layout(flex='2'), max=1125.0, style=Pro…"
      ]
     },
     "metadata": {},
     "output_type": "display_data"
    },
    {
     "name": "stdout",
     "output_type": "stream",
     "text": [
      "Epoch 74: train=2.18404, val=2.1638, took 44.084 s\n",
      "  Validation Found 9026 of 10819, added 1002 (eff 83.43%) (0.501 FP/event)\n"
     ]
    },
    {
     "data": {
      "application/vnd.jupyter.widget-view+json": {
       "model_id": "",
       "version_major": 2,
       "version_minor": 0
      },
      "text/plain": [
       "HBox(children=(FloatProgress(value=0.0, description='Training', layout=Layout(flex='2'), max=1125.0, style=Pro…"
      ]
     },
     "metadata": {},
     "output_type": "display_data"
    },
    {
     "name": "stdout",
     "output_type": "stream",
     "text": [
      "Epoch 75: train=2.1791, val=2.16273, took 44.245 s\n",
      "  Validation Found 9026 of 10819, added 1005 (eff 83.43%) (0.502 FP/event)\n"
     ]
    },
    {
     "data": {
      "application/vnd.jupyter.widget-view+json": {
       "model_id": "",
       "version_major": 2,
       "version_minor": 0
      },
      "text/plain": [
       "HBox(children=(FloatProgress(value=0.0, description='Training', layout=Layout(flex='2'), max=1125.0, style=Pro…"
      ]
     },
     "metadata": {},
     "output_type": "display_data"
    },
    {
     "name": "stdout",
     "output_type": "stream",
     "text": [
      "Epoch 76: train=2.18623, val=2.1694, took 44.141 s\n",
      "  Validation Found 9014 of 10819, added 1005 (eff 83.32%) (0.502 FP/event)\n"
     ]
    },
    {
     "data": {
      "application/vnd.jupyter.widget-view+json": {
       "model_id": "",
       "version_major": 2,
       "version_minor": 0
      },
      "text/plain": [
       "HBox(children=(FloatProgress(value=0.0, description='Training', layout=Layout(flex='2'), max=1125.0, style=Pro…"
      ]
     },
     "metadata": {},
     "output_type": "display_data"
    },
    {
     "name": "stdout",
     "output_type": "stream",
     "text": [
      "Epoch 77: train=2.18056, val=2.16602, took 44.107 s\n",
      "  Validation Found 9016 of 10819, added 1003 (eff 83.33%) (0.501 FP/event)\n"
     ]
    },
    {
     "data": {
      "application/vnd.jupyter.widget-view+json": {
       "model_id": "",
       "version_major": 2,
       "version_minor": 0
      },
      "text/plain": [
       "HBox(children=(FloatProgress(value=0.0, description='Training', layout=Layout(flex='2'), max=1125.0, style=Pro…"
      ]
     },
     "metadata": {},
     "output_type": "display_data"
    },
    {
     "name": "stdout",
     "output_type": "stream",
     "text": [
      "Epoch 78: train=2.18274, val=2.16289, took 43.802 s\n",
      "  Validation Found 9025 of 10819, added 1004 (eff 83.42%) (0.502 FP/event)\n"
     ]
    },
    {
     "data": {
      "application/vnd.jupyter.widget-view+json": {
       "model_id": "",
       "version_major": 2,
       "version_minor": 0
      },
      "text/plain": [
       "HBox(children=(FloatProgress(value=0.0, description='Training', layout=Layout(flex='2'), max=1125.0, style=Pro…"
      ]
     },
     "metadata": {},
     "output_type": "display_data"
    },
    {
     "name": "stdout",
     "output_type": "stream",
     "text": [
      "Epoch 79: train=2.18339, val=2.16612, took 44.044 s\n",
      "  Validation Found 9018 of 10819, added 1011 (eff 83.35%) (0.505 FP/event)\n"
     ]
    },
    {
     "data": {
      "application/vnd.jupyter.widget-view+json": {
       "model_id": "",
       "version_major": 2,
       "version_minor": 0
      },
      "text/plain": [
       "HBox(children=(FloatProgress(value=0.0, description='Training', layout=Layout(flex='2'), max=1125.0, style=Pro…"
      ]
     },
     "metadata": {},
     "output_type": "display_data"
    },
    {
     "name": "stdout",
     "output_type": "stream",
     "text": [
      "Epoch 80: train=2.17966, val=2.16336, took 44.03 s\n",
      "  Validation Found 9028 of 10819, added 1002 (eff 83.45%) (0.501 FP/event)\n"
     ]
    },
    {
     "data": {
      "application/vnd.jupyter.widget-view+json": {
       "model_id": "",
       "version_major": 2,
       "version_minor": 0
      },
      "text/plain": [
       "HBox(children=(FloatProgress(value=0.0, description='Training', layout=Layout(flex='2'), max=1125.0, style=Pro…"
      ]
     },
     "metadata": {},
     "output_type": "display_data"
    },
    {
     "name": "stdout",
     "output_type": "stream",
     "text": [
      "Epoch 81: train=2.18221, val=2.16866, took 44.03 s\n",
      "  Validation Found 9018 of 10819, added 1002 (eff 83.35%) (0.501 FP/event)\n"
     ]
    },
    {
     "data": {
      "application/vnd.jupyter.widget-view+json": {
       "model_id": "",
       "version_major": 2,
       "version_minor": 0
      },
      "text/plain": [
       "HBox(children=(FloatProgress(value=0.0, description='Training', layout=Layout(flex='2'), max=1125.0, style=Pro…"
      ]
     },
     "metadata": {},
     "output_type": "display_data"
    },
    {
     "name": "stdout",
     "output_type": "stream",
     "text": [
      "Epoch 82: train=2.18247, val=2.16262, took 44.156 s\n",
      "  Validation Found 9018 of 10819, added 1004 (eff 83.35%) (0.502 FP/event)\n"
     ]
    },
    {
     "data": {
      "application/vnd.jupyter.widget-view+json": {
       "model_id": "",
       "version_major": 2,
       "version_minor": 0
      },
      "text/plain": [
       "HBox(children=(FloatProgress(value=0.0, description='Training', layout=Layout(flex='2'), max=1125.0, style=Pro…"
      ]
     },
     "metadata": {},
     "output_type": "display_data"
    },
    {
     "name": "stdout",
     "output_type": "stream",
     "text": [
      "Epoch 83: train=2.18185, val=2.16423, took 44.256 s\n",
      "  Validation Found 9020 of 10819, added 1001 (eff 83.37%) (0.5 FP/event)\n"
     ]
    },
    {
     "data": {
      "application/vnd.jupyter.widget-view+json": {
       "model_id": "",
       "version_major": 2,
       "version_minor": 0
      },
      "text/plain": [
       "HBox(children=(FloatProgress(value=0.0, description='Training', layout=Layout(flex='2'), max=1125.0, style=Pro…"
      ]
     },
     "metadata": {},
     "output_type": "display_data"
    },
    {
     "name": "stdout",
     "output_type": "stream",
     "text": [
      "Epoch 84: train=2.17906, val=2.16614, took 44.082 s\n",
      "  Validation Found 9017 of 10819, added 1002 (eff 83.34%) (0.501 FP/event)\n"
     ]
    },
    {
     "data": {
      "application/vnd.jupyter.widget-view+json": {
       "model_id": "",
       "version_major": 2,
       "version_minor": 0
      },
      "text/plain": [
       "HBox(children=(FloatProgress(value=0.0, description='Training', layout=Layout(flex='2'), max=1125.0, style=Pro…"
      ]
     },
     "metadata": {},
     "output_type": "display_data"
    },
    {
     "name": "stdout",
     "output_type": "stream",
     "text": [
      "Epoch 85: train=2.18148, val=2.16573, took 44.159 s\n",
      "  Validation Found 9016 of 10819, added 1003 (eff 83.33%) (0.501 FP/event)\n"
     ]
    },
    {
     "data": {
      "application/vnd.jupyter.widget-view+json": {
       "model_id": "",
       "version_major": 2,
       "version_minor": 0
      },
      "text/plain": [
       "HBox(children=(FloatProgress(value=0.0, description='Training', layout=Layout(flex='2'), max=1125.0, style=Pro…"
      ]
     },
     "metadata": {},
     "output_type": "display_data"
    },
    {
     "name": "stdout",
     "output_type": "stream",
     "text": [
      "Epoch 86: train=2.18482, val=2.16244, took 44.049 s\n",
      "  Validation Found 9018 of 10819, added 1008 (eff 83.35%) (0.504 FP/event)\n"
     ]
    },
    {
     "data": {
      "application/vnd.jupyter.widget-view+json": {
       "model_id": "",
       "version_major": 2,
       "version_minor": 0
      },
      "text/plain": [
       "HBox(children=(FloatProgress(value=0.0, description='Training', layout=Layout(flex='2'), max=1125.0, style=Pro…"
      ]
     },
     "metadata": {},
     "output_type": "display_data"
    },
    {
     "name": "stdout",
     "output_type": "stream",
     "text": [
      "Epoch 87: train=2.17959, val=2.1624, took 44.183 s\n",
      "  Validation Found 9010 of 10819, added 1001 (eff 83.28%) (0.5 FP/event)\n"
     ]
    },
    {
     "data": {
      "application/vnd.jupyter.widget-view+json": {
       "model_id": "",
       "version_major": 2,
       "version_minor": 0
      },
      "text/plain": [
       "HBox(children=(FloatProgress(value=0.0, description='Training', layout=Layout(flex='2'), max=1125.0, style=Pro…"
      ]
     },
     "metadata": {},
     "output_type": "display_data"
    },
    {
     "name": "stdout",
     "output_type": "stream",
     "text": [
      "Epoch 88: train=2.18105, val=2.16242, took 43.963 s\n",
      "  Validation Found 9016 of 10819, added 1008 (eff 83.33%) (0.504 FP/event)\n"
     ]
    },
    {
     "data": {
      "application/vnd.jupyter.widget-view+json": {
       "model_id": "",
       "version_major": 2,
       "version_minor": 0
      },
      "text/plain": [
       "HBox(children=(FloatProgress(value=0.0, description='Training', layout=Layout(flex='2'), max=1125.0, style=Pro…"
      ]
     },
     "metadata": {},
     "output_type": "display_data"
    },
    {
     "name": "stdout",
     "output_type": "stream",
     "text": [
      "Epoch 89: train=2.17915, val=2.16181, took 44.003 s\n",
      "  Validation Found 9010 of 10819, added 1005 (eff 83.28%) (0.502 FP/event)\n"
     ]
    },
    {
     "data": {
      "application/vnd.jupyter.widget-view+json": {
       "model_id": "",
       "version_major": 2,
       "version_minor": 0
      },
      "text/plain": [
       "HBox(children=(FloatProgress(value=0.0, description='Training', layout=Layout(flex='2'), max=1125.0, style=Pro…"
      ]
     },
     "metadata": {},
     "output_type": "display_data"
    },
    {
     "name": "stdout",
     "output_type": "stream",
     "text": [
      "Epoch 90: train=2.17956, val=2.16231, took 44.047 s\n",
      "  Validation Found 9012 of 10819, added 1009 (eff 83.30%) (0.504 FP/event)\n"
     ]
    },
    {
     "data": {
      "application/vnd.jupyter.widget-view+json": {
       "model_id": "",
       "version_major": 2,
       "version_minor": 0
      },
      "text/plain": [
       "HBox(children=(FloatProgress(value=0.0, description='Training', layout=Layout(flex='2'), max=1125.0, style=Pro…"
      ]
     },
     "metadata": {},
     "output_type": "display_data"
    },
    {
     "name": "stdout",
     "output_type": "stream",
     "text": [
      "Epoch 91: train=2.18057, val=2.16486, took 44.083 s\n",
      "  Validation Found 9015 of 10819, added 1011 (eff 83.33%) (0.505 FP/event)\n"
     ]
    },
    {
     "data": {
      "application/vnd.jupyter.widget-view+json": {
       "model_id": "",
       "version_major": 2,
       "version_minor": 0
      },
      "text/plain": [
       "HBox(children=(FloatProgress(value=0.0, description='Training', layout=Layout(flex='2'), max=1125.0, style=Pro…"
      ]
     },
     "metadata": {},
     "output_type": "display_data"
    },
    {
     "name": "stdout",
     "output_type": "stream",
     "text": [
      "Epoch 92: train=2.18418, val=2.16422, took 44.018 s\n",
      "  Validation Found 9022 of 10819, added 1006 (eff 83.39%) (0.503 FP/event)\n"
     ]
    },
    {
     "data": {
      "application/vnd.jupyter.widget-view+json": {
       "model_id": "",
       "version_major": 2,
       "version_minor": 0
      },
      "text/plain": [
       "HBox(children=(FloatProgress(value=0.0, description='Training', layout=Layout(flex='2'), max=1125.0, style=Pro…"
      ]
     },
     "metadata": {},
     "output_type": "display_data"
    },
    {
     "name": "stdout",
     "output_type": "stream",
     "text": [
      "Epoch 93: train=2.17681, val=2.16141, took 44.084 s\n",
      "  Validation Found 9021 of 10819, added 1015 (eff 83.38%) (0.507 FP/event)\n"
     ]
    },
    {
     "data": {
      "application/vnd.jupyter.widget-view+json": {
       "model_id": "",
       "version_major": 2,
       "version_minor": 0
      },
      "text/plain": [
       "HBox(children=(FloatProgress(value=0.0, description='Training', layout=Layout(flex='2'), max=1125.0, style=Pro…"
      ]
     },
     "metadata": {},
     "output_type": "display_data"
    },
    {
     "name": "stdout",
     "output_type": "stream",
     "text": [
      "Epoch 94: train=2.17723, val=2.16643, took 44.039 s\n",
      "  Validation Found 9023 of 10819, added 1005 (eff 83.40%) (0.502 FP/event)\n"
     ]
    },
    {
     "data": {
      "application/vnd.jupyter.widget-view+json": {
       "model_id": "",
       "version_major": 2,
       "version_minor": 0
      },
      "text/plain": [
       "HBox(children=(FloatProgress(value=0.0, description='Training', layout=Layout(flex='2'), max=1125.0, style=Pro…"
      ]
     },
     "metadata": {},
     "output_type": "display_data"
    },
    {
     "name": "stdout",
     "output_type": "stream",
     "text": [
      "Epoch 95: train=2.18486, val=2.16402, took 44.028 s\n",
      "  Validation Found 9018 of 10819, added 1012 (eff 83.35%) (0.506 FP/event)\n"
     ]
    },
    {
     "data": {
      "application/vnd.jupyter.widget-view+json": {
       "model_id": "",
       "version_major": 2,
       "version_minor": 0
      },
      "text/plain": [
       "HBox(children=(FloatProgress(value=0.0, description='Training', layout=Layout(flex='2'), max=1125.0, style=Pro…"
      ]
     },
     "metadata": {},
     "output_type": "display_data"
    },
    {
     "name": "stdout",
     "output_type": "stream",
     "text": [
      "Epoch 96: train=2.18076, val=2.16607, took 43.985 s\n",
      "  Validation Found 9022 of 10819, added 1013 (eff 83.39%) (0.506 FP/event)\n"
     ]
    },
    {
     "data": {
      "application/vnd.jupyter.widget-view+json": {
       "model_id": "",
       "version_major": 2,
       "version_minor": 0
      },
      "text/plain": [
       "HBox(children=(FloatProgress(value=0.0, description='Training', layout=Layout(flex='2'), max=1125.0, style=Pro…"
      ]
     },
     "metadata": {},
     "output_type": "display_data"
    },
    {
     "name": "stdout",
     "output_type": "stream",
     "text": [
      "Epoch 97: train=2.18157, val=2.16185, took 44.055 s\n",
      "  Validation Found 9022 of 10819, added 1019 (eff 83.39%) (0.509 FP/event)\n"
     ]
    },
    {
     "data": {
      "application/vnd.jupyter.widget-view+json": {
       "model_id": "",
       "version_major": 2,
       "version_minor": 0
      },
      "text/plain": [
       "HBox(children=(FloatProgress(value=0.0, description='Training', layout=Layout(flex='2'), max=1125.0, style=Pro…"
      ]
     },
     "metadata": {},
     "output_type": "display_data"
    },
    {
     "name": "stdout",
     "output_type": "stream",
     "text": [
      "Epoch 98: train=2.1803, val=2.17676, took 43.711 s\n",
      "  Validation Found 9020 of 10819, added 1012 (eff 83.37%) (0.506 FP/event)\n"
     ]
    },
    {
     "data": {
      "application/vnd.jupyter.widget-view+json": {
       "model_id": "",
       "version_major": 2,
       "version_minor": 0
      },
      "text/plain": [
       "HBox(children=(FloatProgress(value=0.0, description='Training', layout=Layout(flex='2'), max=1125.0, style=Pro…"
      ]
     },
     "metadata": {},
     "output_type": "display_data"
    },
    {
     "name": "stdout",
     "output_type": "stream",
     "text": [
      "Epoch 99: train=2.17936, val=2.16054, took 43.929 s\n",
      "  Validation Found 9017 of 10819, added 1012 (eff 83.34%) (0.506 FP/event)\n"
     ]
    },
    {
     "data": {
      "application/vnd.jupyter.widget-view+json": {
       "model_id": "",
       "version_major": 2,
       "version_minor": 0
      },
      "text/plain": [
       "HBox(children=(FloatProgress(value=0.0, description='Training', layout=Layout(flex='2'), max=1125.0, style=Pro…"
      ]
     },
     "metadata": {},
     "output_type": "display_data"
    },
    {
     "name": "stdout",
     "output_type": "stream",
     "text": [
      "Epoch 100: train=2.18066, val=2.1618, took 44.009 s\n",
      "  Validation Found 9027 of 10819, added 1006 (eff 83.44%) (0.503 FP/event)\n"
     ]
    },
    {
     "data": {
      "application/vnd.jupyter.widget-view+json": {
       "model_id": "",
       "version_major": 2,
       "version_minor": 0
      },
      "text/plain": [
       "HBox(children=(FloatProgress(value=0.0, description='Training', layout=Layout(flex='2'), max=1125.0, style=Pro…"
      ]
     },
     "metadata": {},
     "output_type": "display_data"
    },
    {
     "name": "stdout",
     "output_type": "stream",
     "text": [
      "Epoch 101: train=2.17698, val=2.16113, took 44.148 s\n",
      "  Validation Found 9012 of 10819, added 1002 (eff 83.30%) (0.501 FP/event)\n"
     ]
    },
    {
     "data": {
      "application/vnd.jupyter.widget-view+json": {
       "model_id": "",
       "version_major": 2,
       "version_minor": 0
      },
      "text/plain": [
       "HBox(children=(FloatProgress(value=0.0, description='Training', layout=Layout(flex='2'), max=1125.0, style=Pro…"
      ]
     },
     "metadata": {},
     "output_type": "display_data"
    },
    {
     "name": "stdout",
     "output_type": "stream",
     "text": [
      "Epoch 102: train=2.17403, val=2.16096, took 44.041 s\n",
      "  Validation Found 9020 of 10819, added 1010 (eff 83.37%) (0.505 FP/event)\n"
     ]
    },
    {
     "data": {
      "application/vnd.jupyter.widget-view+json": {
       "model_id": "",
       "version_major": 2,
       "version_minor": 0
      },
      "text/plain": [
       "HBox(children=(FloatProgress(value=0.0, description='Training', layout=Layout(flex='2'), max=1125.0, style=Pro…"
      ]
     },
     "metadata": {},
     "output_type": "display_data"
    },
    {
     "name": "stdout",
     "output_type": "stream",
     "text": [
      "Epoch 103: train=2.17506, val=2.16067, took 43.714 s\n",
      "  Validation Found 9025 of 10819, added 1006 (eff 83.42%) (0.503 FP/event)\n"
     ]
    },
    {
     "data": {
      "application/vnd.jupyter.widget-view+json": {
       "model_id": "",
       "version_major": 2,
       "version_minor": 0
      },
      "text/plain": [
       "HBox(children=(FloatProgress(value=0.0, description='Training', layout=Layout(flex='2'), max=1125.0, style=Pro…"
      ]
     },
     "metadata": {},
     "output_type": "display_data"
    },
    {
     "name": "stdout",
     "output_type": "stream",
     "text": [
      "Epoch 104: train=2.17634, val=2.1624, took 44.249 s\n",
      "  Validation Found 9030 of 10819, added 1000 (eff 83.46%) (0.5 FP/event)\n"
     ]
    },
    {
     "data": {
      "application/vnd.jupyter.widget-view+json": {
       "model_id": "",
       "version_major": 2,
       "version_minor": 0
      },
      "text/plain": [
       "HBox(children=(FloatProgress(value=0.0, description='Training', layout=Layout(flex='2'), max=1125.0, style=Pro…"
      ]
     },
     "metadata": {},
     "output_type": "display_data"
    },
    {
     "name": "stdout",
     "output_type": "stream",
     "text": [
      "Epoch 105: train=2.17842, val=2.16094, took 43.889 s\n",
      "  Validation Found 9028 of 10819, added 1006 (eff 83.45%) (0.503 FP/event)\n"
     ]
    },
    {
     "data": {
      "application/vnd.jupyter.widget-view+json": {
       "model_id": "",
       "version_major": 2,
       "version_minor": 0
      },
      "text/plain": [
       "HBox(children=(FloatProgress(value=0.0, description='Training', layout=Layout(flex='2'), max=1125.0, style=Pro…"
      ]
     },
     "metadata": {},
     "output_type": "display_data"
    },
    {
     "name": "stdout",
     "output_type": "stream",
     "text": [
      "Epoch 106: train=2.18009, val=2.16211, took 43.875 s\n",
      "  Validation Found 9028 of 10819, added 1011 (eff 83.45%) (0.505 FP/event)\n"
     ]
    },
    {
     "data": {
      "application/vnd.jupyter.widget-view+json": {
       "model_id": "",
       "version_major": 2,
       "version_minor": 0
      },
      "text/plain": [
       "HBox(children=(FloatProgress(value=0.0, description='Training', layout=Layout(flex='2'), max=1125.0, style=Pro…"
      ]
     },
     "metadata": {},
     "output_type": "display_data"
    },
    {
     "name": "stdout",
     "output_type": "stream",
     "text": [
      "Epoch 107: train=2.17621, val=2.16076, took 43.711 s\n",
      "  Validation Found 9028 of 10819, added 1009 (eff 83.45%) (0.504 FP/event)\n"
     ]
    },
    {
     "data": {
      "application/vnd.jupyter.widget-view+json": {
       "model_id": "",
       "version_major": 2,
       "version_minor": 0
      },
      "text/plain": [
       "HBox(children=(FloatProgress(value=0.0, description='Training', layout=Layout(flex='2'), max=1125.0, style=Pro…"
      ]
     },
     "metadata": {},
     "output_type": "display_data"
    },
    {
     "name": "stdout",
     "output_type": "stream",
     "text": [
      "Epoch 108: train=2.17862, val=2.16179, took 43.97 s\n",
      "  Validation Found 9024 of 10819, added 1009 (eff 83.41%) (0.504 FP/event)\n"
     ]
    },
    {
     "data": {
      "application/vnd.jupyter.widget-view+json": {
       "model_id": "",
       "version_major": 2,
       "version_minor": 0
      },
      "text/plain": [
       "HBox(children=(FloatProgress(value=0.0, description='Training', layout=Layout(flex='2'), max=1125.0, style=Pro…"
      ]
     },
     "metadata": {},
     "output_type": "display_data"
    },
    {
     "name": "stdout",
     "output_type": "stream",
     "text": [
      "Epoch 109: train=2.1769, val=2.16354, took 43.94 s\n",
      "  Validation Found 9029 of 10819, added 999 (eff 83.46%) (0.499 FP/event)\n"
     ]
    },
    {
     "data": {
      "application/vnd.jupyter.widget-view+json": {
       "model_id": "",
       "version_major": 2,
       "version_minor": 0
      },
      "text/plain": [
       "HBox(children=(FloatProgress(value=0.0, description='Training', layout=Layout(flex='2'), max=1125.0, style=Pro…"
      ]
     },
     "metadata": {},
     "output_type": "display_data"
    },
    {
     "name": "stdout",
     "output_type": "stream",
     "text": [
      "Epoch 110: train=2.17807, val=2.16386, took 44.12 s\n",
      "  Validation Found 9020 of 10819, added 1008 (eff 83.37%) (0.504 FP/event)\n"
     ]
    },
    {
     "data": {
      "application/vnd.jupyter.widget-view+json": {
       "model_id": "",
       "version_major": 2,
       "version_minor": 0
      },
      "text/plain": [
       "HBox(children=(FloatProgress(value=0.0, description='Training', layout=Layout(flex='2'), max=1125.0, style=Pro…"
      ]
     },
     "metadata": {},
     "output_type": "display_data"
    },
    {
     "name": "stdout",
     "output_type": "stream",
     "text": [
      "Epoch 111: train=2.17611, val=2.16155, took 44.1 s\n",
      "  Validation Found 9025 of 10819, added 1004 (eff 83.42%) (0.502 FP/event)\n"
     ]
    },
    {
     "data": {
      "application/vnd.jupyter.widget-view+json": {
       "model_id": "",
       "version_major": 2,
       "version_minor": 0
      },
      "text/plain": [
       "HBox(children=(FloatProgress(value=0.0, description='Training', layout=Layout(flex='2'), max=1125.0, style=Pro…"
      ]
     },
     "metadata": {},
     "output_type": "display_data"
    },
    {
     "name": "stdout",
     "output_type": "stream",
     "text": [
      "Epoch 112: train=2.17811, val=2.16034, took 43.949 s\n",
      "  Validation Found 9027 of 10819, added 1003 (eff 83.44%) (0.501 FP/event)\n"
     ]
    },
    {
     "data": {
      "application/vnd.jupyter.widget-view+json": {
       "model_id": "",
       "version_major": 2,
       "version_minor": 0
      },
      "text/plain": [
       "HBox(children=(FloatProgress(value=0.0, description='Training', layout=Layout(flex='2'), max=1125.0, style=Pro…"
      ]
     },
     "metadata": {},
     "output_type": "display_data"
    },
    {
     "name": "stdout",
     "output_type": "stream",
     "text": [
      "Epoch 113: train=2.17867, val=2.16255, took 44.224 s\n",
      "  Validation Found 9024 of 10819, added 1011 (eff 83.41%) (0.505 FP/event)\n"
     ]
    },
    {
     "data": {
      "application/vnd.jupyter.widget-view+json": {
       "model_id": "",
       "version_major": 2,
       "version_minor": 0
      },
      "text/plain": [
       "HBox(children=(FloatProgress(value=0.0, description='Training', layout=Layout(flex='2'), max=1125.0, style=Pro…"
      ]
     },
     "metadata": {},
     "output_type": "display_data"
    },
    {
     "name": "stdout",
     "output_type": "stream",
     "text": [
      "Epoch 114: train=2.17898, val=2.16029, took 44.183 s\n",
      "  Validation Found 9035 of 10819, added 1004 (eff 83.51%) (0.502 FP/event)\n"
     ]
    },
    {
     "data": {
      "application/vnd.jupyter.widget-view+json": {
       "model_id": "",
       "version_major": 2,
       "version_minor": 0
      },
      "text/plain": [
       "HBox(children=(FloatProgress(value=0.0, description='Training', layout=Layout(flex='2'), max=1125.0, style=Pro…"
      ]
     },
     "metadata": {},
     "output_type": "display_data"
    },
    {
     "name": "stdout",
     "output_type": "stream",
     "text": [
      "Epoch 115: train=2.17733, val=2.16108, took 43.899 s\n",
      "  Validation Found 9025 of 10819, added 1005 (eff 83.42%) (0.502 FP/event)\n"
     ]
    },
    {
     "data": {
      "application/vnd.jupyter.widget-view+json": {
       "model_id": "",
       "version_major": 2,
       "version_minor": 0
      },
      "text/plain": [
       "HBox(children=(FloatProgress(value=0.0, description='Training', layout=Layout(flex='2'), max=1125.0, style=Pro…"
      ]
     },
     "metadata": {},
     "output_type": "display_data"
    },
    {
     "name": "stdout",
     "output_type": "stream",
     "text": [
      "Epoch 116: train=2.17076, val=2.16226, took 44.134 s\n",
      "  Validation Found 9032 of 10819, added 1012 (eff 83.48%) (0.506 FP/event)\n"
     ]
    },
    {
     "data": {
      "application/vnd.jupyter.widget-view+json": {
       "model_id": "",
       "version_major": 2,
       "version_minor": 0
      },
      "text/plain": [
       "HBox(children=(FloatProgress(value=0.0, description='Training', layout=Layout(flex='2'), max=1125.0, style=Pro…"
      ]
     },
     "metadata": {},
     "output_type": "display_data"
    },
    {
     "name": "stdout",
     "output_type": "stream",
     "text": [
      "Epoch 117: train=2.17689, val=2.16054, took 44.191 s\n",
      "  Validation Found 9019 of 10819, added 1017 (eff 83.36%) (0.508 FP/event)\n"
     ]
    },
    {
     "data": {
      "application/vnd.jupyter.widget-view+json": {
       "model_id": "",
       "version_major": 2,
       "version_minor": 0
      },
      "text/plain": [
       "HBox(children=(FloatProgress(value=0.0, description='Training', layout=Layout(flex='2'), max=1125.0, style=Pro…"
      ]
     },
     "metadata": {},
     "output_type": "display_data"
    },
    {
     "name": "stdout",
     "output_type": "stream",
     "text": [
      "Epoch 118: train=2.17766, val=2.1612, took 43.989 s\n",
      "  Validation Found 9030 of 10819, added 1000 (eff 83.46%) (0.5 FP/event)\n"
     ]
    },
    {
     "data": {
      "application/vnd.jupyter.widget-view+json": {
       "model_id": "",
       "version_major": 2,
       "version_minor": 0
      },
      "text/plain": [
       "HBox(children=(FloatProgress(value=0.0, description='Training', layout=Layout(flex='2'), max=1125.0, style=Pro…"
      ]
     },
     "metadata": {},
     "output_type": "display_data"
    },
    {
     "name": "stdout",
     "output_type": "stream",
     "text": [
      "Epoch 119: train=2.17288, val=2.16364, took 43.737 s\n",
      "  Validation Found 9028 of 10819, added 1008 (eff 83.45%) (0.504 FP/event)\n"
     ]
    },
    {
     "data": {
      "application/vnd.jupyter.widget-view+json": {
       "model_id": "",
       "version_major": 2,
       "version_minor": 0
      },
      "text/plain": [
       "HBox(children=(FloatProgress(value=0.0, description='Training', layout=Layout(flex='2'), max=1125.0, style=Pro…"
      ]
     },
     "metadata": {},
     "output_type": "display_data"
    },
    {
     "name": "stdout",
     "output_type": "stream",
     "text": [
      "Epoch 120: train=2.17555, val=2.1609, took 44.201 s\n",
      "  Validation Found 9015 of 10819, added 1011 (eff 83.33%) (0.505 FP/event)\n"
     ]
    },
    {
     "data": {
      "application/vnd.jupyter.widget-view+json": {
       "model_id": "",
       "version_major": 2,
       "version_minor": 0
      },
      "text/plain": [
       "HBox(children=(FloatProgress(value=0.0, description='Training', layout=Layout(flex='2'), max=1125.0, style=Pro…"
      ]
     },
     "metadata": {},
     "output_type": "display_data"
    },
    {
     "name": "stdout",
     "output_type": "stream",
     "text": [
      "Epoch 121: train=2.17647, val=2.15958, took 44.166 s\n",
      "  Validation Found 9019 of 10819, added 1006 (eff 83.36%) (0.503 FP/event)\n"
     ]
    },
    {
     "data": {
      "application/vnd.jupyter.widget-view+json": {
       "model_id": "",
       "version_major": 2,
       "version_minor": 0
      },
      "text/plain": [
       "HBox(children=(FloatProgress(value=0.0, description='Training', layout=Layout(flex='2'), max=1125.0, style=Pro…"
      ]
     },
     "metadata": {},
     "output_type": "display_data"
    },
    {
     "name": "stdout",
     "output_type": "stream",
     "text": [
      "Epoch 122: train=2.17624, val=2.15989, took 44.13 s\n",
      "  Validation Found 9017 of 10819, added 1006 (eff 83.34%) (0.503 FP/event)\n"
     ]
    },
    {
     "data": {
      "application/vnd.jupyter.widget-view+json": {
       "model_id": "",
       "version_major": 2,
       "version_minor": 0
      },
      "text/plain": [
       "HBox(children=(FloatProgress(value=0.0, description='Training', layout=Layout(flex='2'), max=1125.0, style=Pro…"
      ]
     },
     "metadata": {},
     "output_type": "display_data"
    },
    {
     "name": "stdout",
     "output_type": "stream",
     "text": [
      "Epoch 123: train=2.17307, val=2.1592, took 44.099 s\n",
      "  Validation Found 9028 of 10819, added 1004 (eff 83.45%) (0.502 FP/event)\n"
     ]
    },
    {
     "data": {
      "application/vnd.jupyter.widget-view+json": {
       "model_id": "",
       "version_major": 2,
       "version_minor": 0
      },
      "text/plain": [
       "HBox(children=(FloatProgress(value=0.0, description='Training', layout=Layout(flex='2'), max=1125.0, style=Pro…"
      ]
     },
     "metadata": {},
     "output_type": "display_data"
    },
    {
     "name": "stdout",
     "output_type": "stream",
     "text": [
      "Epoch 124: train=2.17847, val=2.16006, took 44.036 s\n",
      "  Validation Found 9021 of 10819, added 1007 (eff 83.38%) (0.503 FP/event)\n"
     ]
    },
    {
     "data": {
      "application/vnd.jupyter.widget-view+json": {
       "model_id": "",
       "version_major": 2,
       "version_minor": 0
      },
      "text/plain": [
       "HBox(children=(FloatProgress(value=0.0, description='Training', layout=Layout(flex='2'), max=1125.0, style=Pro…"
      ]
     },
     "metadata": {},
     "output_type": "display_data"
    },
    {
     "name": "stdout",
     "output_type": "stream",
     "text": [
      "Epoch 125: train=2.17411, val=2.15945, took 44.155 s\n",
      "  Validation Found 9029 of 10819, added 1009 (eff 83.46%) (0.504 FP/event)\n"
     ]
    },
    {
     "data": {
      "application/vnd.jupyter.widget-view+json": {
       "model_id": "",
       "version_major": 2,
       "version_minor": 0
      },
      "text/plain": [
       "HBox(children=(FloatProgress(value=0.0, description='Training', layout=Layout(flex='2'), max=1125.0, style=Pro…"
      ]
     },
     "metadata": {},
     "output_type": "display_data"
    },
    {
     "name": "stdout",
     "output_type": "stream",
     "text": [
      "Epoch 126: train=2.17767, val=2.16031, took 44.063 s\n",
      "  Validation Found 9026 of 10819, added 1013 (eff 83.43%) (0.506 FP/event)\n"
     ]
    },
    {
     "data": {
      "application/vnd.jupyter.widget-view+json": {
       "model_id": "",
       "version_major": 2,
       "version_minor": 0
      },
      "text/plain": [
       "HBox(children=(FloatProgress(value=0.0, description='Training', layout=Layout(flex='2'), max=1125.0, style=Pro…"
      ]
     },
     "metadata": {},
     "output_type": "display_data"
    },
    {
     "name": "stdout",
     "output_type": "stream",
     "text": [
      "Epoch 127: train=2.17614, val=2.16026, took 44.201 s\n",
      "  Validation Found 9028 of 10819, added 1004 (eff 83.45%) (0.502 FP/event)\n"
     ]
    },
    {
     "data": {
      "application/vnd.jupyter.widget-view+json": {
       "model_id": "",
       "version_major": 2,
       "version_minor": 0
      },
      "text/plain": [
       "HBox(children=(FloatProgress(value=0.0, description='Training', layout=Layout(flex='2'), max=1125.0, style=Pro…"
      ]
     },
     "metadata": {},
     "output_type": "display_data"
    },
    {
     "name": "stdout",
     "output_type": "stream",
     "text": [
      "Epoch 128: train=2.1732, val=2.15975, took 44.063 s\n",
      "  Validation Found 9021 of 10819, added 1008 (eff 83.38%) (0.504 FP/event)\n"
     ]
    },
    {
     "data": {
      "application/vnd.jupyter.widget-view+json": {
       "model_id": "",
       "version_major": 2,
       "version_minor": 0
      },
      "text/plain": [
       "HBox(children=(FloatProgress(value=0.0, description='Training', layout=Layout(flex='2'), max=1125.0, style=Pro…"
      ]
     },
     "metadata": {},
     "output_type": "display_data"
    },
    {
     "name": "stdout",
     "output_type": "stream",
     "text": [
      "Epoch 129: train=2.17619, val=2.16075, took 44.249 s\n",
      "  Validation Found 9015 of 10819, added 1005 (eff 83.33%) (0.502 FP/event)\n"
     ]
    },
    {
     "data": {
      "application/vnd.jupyter.widget-view+json": {
       "model_id": "",
       "version_major": 2,
       "version_minor": 0
      },
      "text/plain": [
       "HBox(children=(FloatProgress(value=0.0, description='Training', layout=Layout(flex='2'), max=1125.0, style=Pro…"
      ]
     },
     "metadata": {},
     "output_type": "display_data"
    },
    {
     "name": "stdout",
     "output_type": "stream",
     "text": [
      "Epoch 130: train=2.17371, val=2.16095, took 44.079 s\n",
      "  Validation Found 9022 of 10819, added 1011 (eff 83.39%) (0.505 FP/event)\n"
     ]
    },
    {
     "data": {
      "application/vnd.jupyter.widget-view+json": {
       "model_id": "",
       "version_major": 2,
       "version_minor": 0
      },
      "text/plain": [
       "HBox(children=(FloatProgress(value=0.0, description='Training', layout=Layout(flex='2'), max=1125.0, style=Pro…"
      ]
     },
     "metadata": {},
     "output_type": "display_data"
    },
    {
     "name": "stdout",
     "output_type": "stream",
     "text": [
      "Epoch 131: train=2.17317, val=2.16012, took 43.96 s\n",
      "  Validation Found 9028 of 10819, added 1002 (eff 83.45%) (0.501 FP/event)\n"
     ]
    },
    {
     "data": {
      "application/vnd.jupyter.widget-view+json": {
       "model_id": "",
       "version_major": 2,
       "version_minor": 0
      },
      "text/plain": [
       "HBox(children=(FloatProgress(value=0.0, description='Training', layout=Layout(flex='2'), max=1125.0, style=Pro…"
      ]
     },
     "metadata": {},
     "output_type": "display_data"
    },
    {
     "name": "stdout",
     "output_type": "stream",
     "text": [
      "Epoch 132: train=2.1732, val=2.15903, took 43.848 s\n",
      "  Validation Found 9020 of 10819, added 1005 (eff 83.37%) (0.502 FP/event)\n"
     ]
    },
    {
     "data": {
      "application/vnd.jupyter.widget-view+json": {
       "model_id": "",
       "version_major": 2,
       "version_minor": 0
      },
      "text/plain": [
       "HBox(children=(FloatProgress(value=0.0, description='Training', layout=Layout(flex='2'), max=1125.0, style=Pro…"
      ]
     },
     "metadata": {},
     "output_type": "display_data"
    },
    {
     "name": "stdout",
     "output_type": "stream",
     "text": [
      "Epoch 133: train=2.16908, val=2.1601, took 44.094 s\n",
      "  Validation Found 9038 of 10819, added 1008 (eff 83.54%) (0.504 FP/event)\n"
     ]
    },
    {
     "data": {
      "application/vnd.jupyter.widget-view+json": {
       "model_id": "",
       "version_major": 2,
       "version_minor": 0
      },
      "text/plain": [
       "HBox(children=(FloatProgress(value=0.0, description='Training', layout=Layout(flex='2'), max=1125.0, style=Pro…"
      ]
     },
     "metadata": {},
     "output_type": "display_data"
    },
    {
     "name": "stdout",
     "output_type": "stream",
     "text": [
      "Epoch 134: train=2.1727, val=2.15909, took 44.191 s\n",
      "  Validation Found 9026 of 10819, added 1008 (eff 83.43%) (0.504 FP/event)\n"
     ]
    },
    {
     "data": {
      "application/vnd.jupyter.widget-view+json": {
       "model_id": "",
       "version_major": 2,
       "version_minor": 0
      },
      "text/plain": [
       "HBox(children=(FloatProgress(value=0.0, description='Training', layout=Layout(flex='2'), max=1125.0, style=Pro…"
      ]
     },
     "metadata": {},
     "output_type": "display_data"
    },
    {
     "name": "stdout",
     "output_type": "stream",
     "text": [
      "Epoch 135: train=2.17379, val=2.15946, took 44.228 s\n",
      "  Validation Found 9026 of 10819, added 1013 (eff 83.43%) (0.506 FP/event)\n"
     ]
    },
    {
     "data": {
      "application/vnd.jupyter.widget-view+json": {
       "model_id": "",
       "version_major": 2,
       "version_minor": 0
      },
      "text/plain": [
       "HBox(children=(FloatProgress(value=0.0, description='Training', layout=Layout(flex='2'), max=1125.0, style=Pro…"
      ]
     },
     "metadata": {},
     "output_type": "display_data"
    },
    {
     "name": "stdout",
     "output_type": "stream",
     "text": [
      "Epoch 136: train=2.17202, val=2.16437, took 44.091 s\n",
      "  Validation Found 9016 of 10819, added 1007 (eff 83.33%) (0.503 FP/event)\n"
     ]
    },
    {
     "data": {
      "application/vnd.jupyter.widget-view+json": {
       "model_id": "",
       "version_major": 2,
       "version_minor": 0
      },
      "text/plain": [
       "HBox(children=(FloatProgress(value=0.0, description='Training', layout=Layout(flex='2'), max=1125.0, style=Pro…"
      ]
     },
     "metadata": {},
     "output_type": "display_data"
    },
    {
     "name": "stdout",
     "output_type": "stream",
     "text": [
      "Epoch 137: train=2.17088, val=2.15895, took 44.258 s\n",
      "  Validation Found 9031 of 10819, added 1012 (eff 83.47%) (0.506 FP/event)\n"
     ]
    },
    {
     "data": {
      "application/vnd.jupyter.widget-view+json": {
       "model_id": "",
       "version_major": 2,
       "version_minor": 0
      },
      "text/plain": [
       "HBox(children=(FloatProgress(value=0.0, description='Training', layout=Layout(flex='2'), max=1125.0, style=Pro…"
      ]
     },
     "metadata": {},
     "output_type": "display_data"
    },
    {
     "name": "stdout",
     "output_type": "stream",
     "text": [
      "Epoch 138: train=2.17555, val=2.16104, took 44.031 s\n",
      "  Validation Found 9010 of 10819, added 1006 (eff 83.28%) (0.503 FP/event)\n"
     ]
    },
    {
     "data": {
      "application/vnd.jupyter.widget-view+json": {
       "model_id": "",
       "version_major": 2,
       "version_minor": 0
      },
      "text/plain": [
       "HBox(children=(FloatProgress(value=0.0, description='Training', layout=Layout(flex='2'), max=1125.0, style=Pro…"
      ]
     },
     "metadata": {},
     "output_type": "display_data"
    },
    {
     "name": "stdout",
     "output_type": "stream",
     "text": [
      "Epoch 139: train=2.17511, val=2.16008, took 44.14 s\n",
      "  Validation Found 9034 of 10819, added 1009 (eff 83.50%) (0.504 FP/event)\n"
     ]
    },
    {
     "data": {
      "application/vnd.jupyter.widget-view+json": {
       "model_id": "",
       "version_major": 2,
       "version_minor": 0
      },
      "text/plain": [
       "HBox(children=(FloatProgress(value=0.0, description='Training', layout=Layout(flex='2'), max=1125.0, style=Pro…"
      ]
     },
     "metadata": {},
     "output_type": "display_data"
    },
    {
     "name": "stdout",
     "output_type": "stream",
     "text": [
      "Epoch 140: train=2.17357, val=2.16001, took 44.165 s\n",
      "  Validation Found 9025 of 10819, added 999 (eff 83.42%) (0.499 FP/event)\n"
     ]
    },
    {
     "data": {
      "application/vnd.jupyter.widget-view+json": {
       "model_id": "",
       "version_major": 2,
       "version_minor": 0
      },
      "text/plain": [
       "HBox(children=(FloatProgress(value=0.0, description='Training', layout=Layout(flex='2'), max=1125.0, style=Pro…"
      ]
     },
     "metadata": {},
     "output_type": "display_data"
    },
    {
     "name": "stdout",
     "output_type": "stream",
     "text": [
      "Epoch 141: train=2.17322, val=2.15916, took 44.108 s\n",
      "  Validation Found 9024 of 10819, added 1003 (eff 83.41%) (0.501 FP/event)\n"
     ]
    },
    {
     "data": {
      "application/vnd.jupyter.widget-view+json": {
       "model_id": "",
       "version_major": 2,
       "version_minor": 0
      },
      "text/plain": [
       "HBox(children=(FloatProgress(value=0.0, description='Training', layout=Layout(flex='2'), max=1125.0, style=Pro…"
      ]
     },
     "metadata": {},
     "output_type": "display_data"
    },
    {
     "name": "stdout",
     "output_type": "stream",
     "text": [
      "Epoch 142: train=2.16911, val=2.16135, took 44.021 s\n",
      "  Validation Found 9017 of 10819, added 1001 (eff 83.34%) (0.5 FP/event)\n"
     ]
    },
    {
     "data": {
      "application/vnd.jupyter.widget-view+json": {
       "model_id": "",
       "version_major": 2,
       "version_minor": 0
      },
      "text/plain": [
       "HBox(children=(FloatProgress(value=0.0, description='Training', layout=Layout(flex='2'), max=1125.0, style=Pro…"
      ]
     },
     "metadata": {},
     "output_type": "display_data"
    },
    {
     "name": "stdout",
     "output_type": "stream",
     "text": [
      "Epoch 143: train=2.17013, val=2.1591, took 43.946 s\n",
      "  Validation Found 9027 of 10819, added 1003 (eff 83.44%) (0.501 FP/event)\n"
     ]
    },
    {
     "data": {
      "application/vnd.jupyter.widget-view+json": {
       "model_id": "",
       "version_major": 2,
       "version_minor": 0
      },
      "text/plain": [
       "HBox(children=(FloatProgress(value=0.0, description='Training', layout=Layout(flex='2'), max=1125.0, style=Pro…"
      ]
     },
     "metadata": {},
     "output_type": "display_data"
    },
    {
     "name": "stdout",
     "output_type": "stream",
     "text": [
      "Epoch 144: train=2.17129, val=2.15803, took 43.8 s\n",
      "  Validation Found 9034 of 10819, added 1003 (eff 83.50%) (0.501 FP/event)\n"
     ]
    },
    {
     "data": {
      "application/vnd.jupyter.widget-view+json": {
       "model_id": "",
       "version_major": 2,
       "version_minor": 0
      },
      "text/plain": [
       "HBox(children=(FloatProgress(value=0.0, description='Training', layout=Layout(flex='2'), max=1125.0, style=Pro…"
      ]
     },
     "metadata": {},
     "output_type": "display_data"
    },
    {
     "name": "stdout",
     "output_type": "stream",
     "text": [
      "Epoch 145: train=2.17309, val=2.15769, took 44.154 s\n",
      "  Validation Found 9028 of 10819, added 1003 (eff 83.45%) (0.501 FP/event)\n"
     ]
    },
    {
     "data": {
      "application/vnd.jupyter.widget-view+json": {
       "model_id": "",
       "version_major": 2,
       "version_minor": 0
      },
      "text/plain": [
       "HBox(children=(FloatProgress(value=0.0, description='Training', layout=Layout(flex='2'), max=1125.0, style=Pro…"
      ]
     },
     "metadata": {},
     "output_type": "display_data"
    },
    {
     "name": "stdout",
     "output_type": "stream",
     "text": [
      "Epoch 146: train=2.17532, val=2.15745, took 44.126 s\n",
      "  Validation Found 9028 of 10819, added 1005 (eff 83.45%) (0.502 FP/event)\n"
     ]
    },
    {
     "data": {
      "application/vnd.jupyter.widget-view+json": {
       "model_id": "",
       "version_major": 2,
       "version_minor": 0
      },
      "text/plain": [
       "HBox(children=(FloatProgress(value=0.0, description='Training', layout=Layout(flex='2'), max=1125.0, style=Pro…"
      ]
     },
     "metadata": {},
     "output_type": "display_data"
    },
    {
     "name": "stdout",
     "output_type": "stream",
     "text": [
      "Epoch 147: train=2.16824, val=2.15811, took 44.115 s\n",
      "  Validation Found 9021 of 10819, added 998 (eff 83.38%) (0.499 FP/event)\n"
     ]
    },
    {
     "data": {
      "application/vnd.jupyter.widget-view+json": {
       "model_id": "",
       "version_major": 2,
       "version_minor": 0
      },
      "text/plain": [
       "HBox(children=(FloatProgress(value=0.0, description='Training', layout=Layout(flex='2'), max=1125.0, style=Pro…"
      ]
     },
     "metadata": {},
     "output_type": "display_data"
    },
    {
     "name": "stdout",
     "output_type": "stream",
     "text": [
      "Epoch 148: train=2.17412, val=2.15824, took 44.194 s\n",
      "  Validation Found 9020 of 10819, added 1002 (eff 83.37%) (0.501 FP/event)\n"
     ]
    },
    {
     "data": {
      "application/vnd.jupyter.widget-view+json": {
       "model_id": "",
       "version_major": 2,
       "version_minor": 0
      },
      "text/plain": [
       "HBox(children=(FloatProgress(value=0.0, description='Training', layout=Layout(flex='2'), max=1125.0, style=Pro…"
      ]
     },
     "metadata": {},
     "output_type": "display_data"
    },
    {
     "name": "stdout",
     "output_type": "stream",
     "text": [
      "Epoch 149: train=2.17137, val=2.16131, took 44.233 s\n",
      "  Validation Found 9027 of 10819, added 999 (eff 83.44%) (0.499 FP/event)\n"
     ]
    },
    {
     "data": {
      "application/vnd.jupyter.widget-view+json": {
       "model_id": "",
       "version_major": 2,
       "version_minor": 0
      },
      "text/plain": [
       "HBox(children=(FloatProgress(value=0.0, description='Training', layout=Layout(flex='2'), max=1125.0, style=Pro…"
      ]
     },
     "metadata": {},
     "output_type": "display_data"
    },
    {
     "name": "stdout",
     "output_type": "stream",
     "text": [
      "Epoch 150: train=2.17213, val=2.15791, took 44.118 s\n",
      "  Validation Found 9025 of 10819, added 1008 (eff 83.42%) (0.504 FP/event)\n"
     ]
    },
    {
     "data": {
      "application/vnd.jupyter.widget-view+json": {
       "model_id": "",
       "version_major": 2,
       "version_minor": 0
      },
      "text/plain": [
       "HBox(children=(FloatProgress(value=0.0, description='Training', layout=Layout(flex='2'), max=1125.0, style=Pro…"
      ]
     },
     "metadata": {},
     "output_type": "display_data"
    },
    {
     "name": "stdout",
     "output_type": "stream",
     "text": [
      "Epoch 151: train=2.17021, val=2.15885, took 44.218 s\n",
      "  Validation Found 9021 of 10819, added 1001 (eff 83.38%) (0.5 FP/event)\n"
     ]
    },
    {
     "data": {
      "application/vnd.jupyter.widget-view+json": {
       "model_id": "",
       "version_major": 2,
       "version_minor": 0
      },
      "text/plain": [
       "HBox(children=(FloatProgress(value=0.0, description='Training', layout=Layout(flex='2'), max=1125.0, style=Pro…"
      ]
     },
     "metadata": {},
     "output_type": "display_data"
    },
    {
     "name": "stdout",
     "output_type": "stream",
     "text": [
      "Epoch 152: train=2.16713, val=2.15864, took 44.134 s\n",
      "  Validation Found 9018 of 10819, added 995 (eff 83.35%) (0.497 FP/event)\n"
     ]
    },
    {
     "data": {
      "application/vnd.jupyter.widget-view+json": {
       "model_id": "",
       "version_major": 2,
       "version_minor": 0
      },
      "text/plain": [
       "HBox(children=(FloatProgress(value=0.0, description='Training', layout=Layout(flex='2'), max=1125.0, style=Pro…"
      ]
     },
     "metadata": {},
     "output_type": "display_data"
    },
    {
     "name": "stdout",
     "output_type": "stream",
     "text": [
      "Epoch 153: train=2.16989, val=2.15824, took 44.089 s\n",
      "  Validation Found 9026 of 10819, added 1002 (eff 83.43%) (0.501 FP/event)\n"
     ]
    },
    {
     "data": {
      "application/vnd.jupyter.widget-view+json": {
       "model_id": "",
       "version_major": 2,
       "version_minor": 0
      },
      "text/plain": [
       "HBox(children=(FloatProgress(value=0.0, description='Training', layout=Layout(flex='2'), max=1125.0, style=Pro…"
      ]
     },
     "metadata": {},
     "output_type": "display_data"
    },
    {
     "name": "stdout",
     "output_type": "stream",
     "text": [
      "Epoch 154: train=2.16964, val=2.1578, took 44.105 s\n",
      "  Validation Found 9026 of 10819, added 1003 (eff 83.43%) (0.501 FP/event)\n"
     ]
    },
    {
     "data": {
      "application/vnd.jupyter.widget-view+json": {
       "model_id": "",
       "version_major": 2,
       "version_minor": 0
      },
      "text/plain": [
       "HBox(children=(FloatProgress(value=0.0, description='Training', layout=Layout(flex='2'), max=1125.0, style=Pro…"
      ]
     },
     "metadata": {},
     "output_type": "display_data"
    },
    {
     "name": "stdout",
     "output_type": "stream",
     "text": [
      "Epoch 155: train=2.16517, val=2.16325, took 44.168 s\n",
      "  Validation Found 9027 of 10819, added 1009 (eff 83.44%) (0.504 FP/event)\n"
     ]
    },
    {
     "data": {
      "application/vnd.jupyter.widget-view+json": {
       "model_id": "",
       "version_major": 2,
       "version_minor": 0
      },
      "text/plain": [
       "HBox(children=(FloatProgress(value=0.0, description='Training', layout=Layout(flex='2'), max=1125.0, style=Pro…"
      ]
     },
     "metadata": {},
     "output_type": "display_data"
    },
    {
     "name": "stdout",
     "output_type": "stream",
     "text": [
      "Epoch 156: train=2.16833, val=2.15756, took 44.123 s\n",
      "  Validation Found 9023 of 10819, added 997 (eff 83.40%) (0.498 FP/event)\n"
     ]
    },
    {
     "data": {
      "application/vnd.jupyter.widget-view+json": {
       "model_id": "",
       "version_major": 2,
       "version_minor": 0
      },
      "text/plain": [
       "HBox(children=(FloatProgress(value=0.0, description='Training', layout=Layout(flex='2'), max=1125.0, style=Pro…"
      ]
     },
     "metadata": {},
     "output_type": "display_data"
    },
    {
     "name": "stdout",
     "output_type": "stream",
     "text": [
      "Epoch 157: train=2.16761, val=2.15837, took 44.19 s\n",
      "  Validation Found 9022 of 10819, added 1001 (eff 83.39%) (0.5 FP/event)\n"
     ]
    },
    {
     "data": {
      "application/vnd.jupyter.widget-view+json": {
       "model_id": "",
       "version_major": 2,
       "version_minor": 0
      },
      "text/plain": [
       "HBox(children=(FloatProgress(value=0.0, description='Training', layout=Layout(flex='2'), max=1125.0, style=Pro…"
      ]
     },
     "metadata": {},
     "output_type": "display_data"
    },
    {
     "name": "stdout",
     "output_type": "stream",
     "text": [
      "Epoch 158: train=2.17027, val=2.15925, took 44.194 s\n",
      "  Validation Found 9023 of 10819, added 1002 (eff 83.40%) (0.501 FP/event)\n"
     ]
    },
    {
     "data": {
      "application/vnd.jupyter.widget-view+json": {
       "model_id": "",
       "version_major": 2,
       "version_minor": 0
      },
      "text/plain": [
       "HBox(children=(FloatProgress(value=0.0, description='Training', layout=Layout(flex='2'), max=1125.0, style=Pro…"
      ]
     },
     "metadata": {},
     "output_type": "display_data"
    },
    {
     "name": "stdout",
     "output_type": "stream",
     "text": [
      "Epoch 159: train=2.17067, val=2.1575, took 44.096 s\n",
      "  Validation Found 9029 of 10819, added 998 (eff 83.46%) (0.499 FP/event)\n"
     ]
    },
    {
     "data": {
      "application/vnd.jupyter.widget-view+json": {
       "model_id": "",
       "version_major": 2,
       "version_minor": 0
      },
      "text/plain": [
       "HBox(children=(FloatProgress(value=0.0, description='Training', layout=Layout(flex='2'), max=1125.0, style=Pro…"
      ]
     },
     "metadata": {},
     "output_type": "display_data"
    },
    {
     "name": "stdout",
     "output_type": "stream",
     "text": [
      "Epoch 160: train=2.16991, val=2.15777, took 44.371 s\n",
      "  Validation Found 9024 of 10819, added 1001 (eff 83.41%) (0.5 FP/event)\n"
     ]
    },
    {
     "data": {
      "application/vnd.jupyter.widget-view+json": {
       "model_id": "",
       "version_major": 2,
       "version_minor": 0
      },
      "text/plain": [
       "HBox(children=(FloatProgress(value=0.0, description='Training', layout=Layout(flex='2'), max=1125.0, style=Pro…"
      ]
     },
     "metadata": {},
     "output_type": "display_data"
    },
    {
     "name": "stdout",
     "output_type": "stream",
     "text": [
      "Epoch 161: train=2.17029, val=2.157, took 44.203 s\n",
      "  Validation Found 9017 of 10819, added 993 (eff 83.34%) (0.496 FP/event)\n"
     ]
    },
    {
     "data": {
      "application/vnd.jupyter.widget-view+json": {
       "model_id": "",
       "version_major": 2,
       "version_minor": 0
      },
      "text/plain": [
       "HBox(children=(FloatProgress(value=0.0, description='Training', layout=Layout(flex='2'), max=1125.0, style=Pro…"
      ]
     },
     "metadata": {},
     "output_type": "display_data"
    },
    {
     "name": "stdout",
     "output_type": "stream",
     "text": [
      "Epoch 162: train=2.16979, val=2.16199, took 44.103 s\n",
      "  Validation Found 9027 of 10819, added 1007 (eff 83.44%) (0.503 FP/event)\n"
     ]
    },
    {
     "data": {
      "application/vnd.jupyter.widget-view+json": {
       "model_id": "",
       "version_major": 2,
       "version_minor": 0
      },
      "text/plain": [
       "HBox(children=(FloatProgress(value=0.0, description='Training', layout=Layout(flex='2'), max=1125.0, style=Pro…"
      ]
     },
     "metadata": {},
     "output_type": "display_data"
    },
    {
     "name": "stdout",
     "output_type": "stream",
     "text": [
      "Epoch 163: train=2.16088, val=2.15921, took 44.184 s\n",
      "  Validation Found 9015 of 10819, added 997 (eff 83.33%) (0.498 FP/event)\n"
     ]
    },
    {
     "data": {
      "application/vnd.jupyter.widget-view+json": {
       "model_id": "",
       "version_major": 2,
       "version_minor": 0
      },
      "text/plain": [
       "HBox(children=(FloatProgress(value=0.0, description='Training', layout=Layout(flex='2'), max=1125.0, style=Pro…"
      ]
     },
     "metadata": {},
     "output_type": "display_data"
    },
    {
     "name": "stdout",
     "output_type": "stream",
     "text": [
      "Epoch 164: train=2.16733, val=2.15807, took 44.146 s\n",
      "  Validation Found 9026 of 10819, added 993 (eff 83.43%) (0.496 FP/event)\n"
     ]
    },
    {
     "data": {
      "application/vnd.jupyter.widget-view+json": {
       "model_id": "",
       "version_major": 2,
       "version_minor": 0
      },
      "text/plain": [
       "HBox(children=(FloatProgress(value=0.0, description='Training', layout=Layout(flex='2'), max=1125.0, style=Pro…"
      ]
     },
     "metadata": {},
     "output_type": "display_data"
    },
    {
     "name": "stdout",
     "output_type": "stream",
     "text": [
      "Epoch 165: train=2.16799, val=2.15995, took 44.157 s\n",
      "  Validation Found 9025 of 10819, added 1005 (eff 83.42%) (0.502 FP/event)\n"
     ]
    },
    {
     "data": {
      "application/vnd.jupyter.widget-view+json": {
       "model_id": "",
       "version_major": 2,
       "version_minor": 0
      },
      "text/plain": [
       "HBox(children=(FloatProgress(value=0.0, description='Training', layout=Layout(flex='2'), max=1125.0, style=Pro…"
      ]
     },
     "metadata": {},
     "output_type": "display_data"
    },
    {
     "name": "stdout",
     "output_type": "stream",
     "text": [
      "Epoch 166: train=2.1681, val=2.15841, took 44.027 s\n",
      "  Validation Found 9019 of 10819, added 1005 (eff 83.36%) (0.502 FP/event)\n"
     ]
    },
    {
     "data": {
      "application/vnd.jupyter.widget-view+json": {
       "model_id": "",
       "version_major": 2,
       "version_minor": 0
      },
      "text/plain": [
       "HBox(children=(FloatProgress(value=0.0, description='Training', layout=Layout(flex='2'), max=1125.0, style=Pro…"
      ]
     },
     "metadata": {},
     "output_type": "display_data"
    },
    {
     "name": "stdout",
     "output_type": "stream",
     "text": [
      "Epoch 167: train=2.16965, val=2.15729, took 44.164 s\n",
      "  Validation Found 9026 of 10819, added 1001 (eff 83.43%) (0.5 FP/event)\n"
     ]
    },
    {
     "data": {
      "application/vnd.jupyter.widget-view+json": {
       "model_id": "",
       "version_major": 2,
       "version_minor": 0
      },
      "text/plain": [
       "HBox(children=(FloatProgress(value=0.0, description='Training', layout=Layout(flex='2'), max=1125.0, style=Pro…"
      ]
     },
     "metadata": {},
     "output_type": "display_data"
    },
    {
     "name": "stdout",
     "output_type": "stream",
     "text": [
      "Epoch 168: train=2.16624, val=2.15717, took 44.076 s\n",
      "  Validation Found 9018 of 10819, added 1003 (eff 83.35%) (0.501 FP/event)\n"
     ]
    },
    {
     "data": {
      "application/vnd.jupyter.widget-view+json": {
       "model_id": "",
       "version_major": 2,
       "version_minor": 0
      },
      "text/plain": [
       "HBox(children=(FloatProgress(value=0.0, description='Training', layout=Layout(flex='2'), max=1125.0, style=Pro…"
      ]
     },
     "metadata": {},
     "output_type": "display_data"
    },
    {
     "name": "stdout",
     "output_type": "stream",
     "text": [
      "Epoch 169: train=2.1661, val=2.15628, took 44.014 s\n",
      "  Validation Found 9025 of 10819, added 995 (eff 83.42%) (0.497 FP/event)\n"
     ]
    },
    {
     "data": {
      "application/vnd.jupyter.widget-view+json": {
       "model_id": "",
       "version_major": 2,
       "version_minor": 0
      },
      "text/plain": [
       "HBox(children=(FloatProgress(value=0.0, description='Training', layout=Layout(flex='2'), max=1125.0, style=Pro…"
      ]
     },
     "metadata": {},
     "output_type": "display_data"
    },
    {
     "name": "stdout",
     "output_type": "stream",
     "text": [
      "Epoch 170: train=2.17303, val=2.15689, took 43.995 s\n",
      "  Validation Found 9033 of 10819, added 1009 (eff 83.49%) (0.504 FP/event)\n"
     ]
    },
    {
     "data": {
      "application/vnd.jupyter.widget-view+json": {
       "model_id": "",
       "version_major": 2,
       "version_minor": 0
      },
      "text/plain": [
       "HBox(children=(FloatProgress(value=0.0, description='Training', layout=Layout(flex='2'), max=1125.0, style=Pro…"
      ]
     },
     "metadata": {},
     "output_type": "display_data"
    },
    {
     "name": "stdout",
     "output_type": "stream",
     "text": [
      "Epoch 171: train=2.16929, val=2.15873, took 44.107 s\n",
      "  Validation Found 9019 of 10819, added 995 (eff 83.36%) (0.497 FP/event)\n"
     ]
    },
    {
     "data": {
      "application/vnd.jupyter.widget-view+json": {
       "model_id": "",
       "version_major": 2,
       "version_minor": 0
      },
      "text/plain": [
       "HBox(children=(FloatProgress(value=0.0, description='Training', layout=Layout(flex='2'), max=1125.0, style=Pro…"
      ]
     },
     "metadata": {},
     "output_type": "display_data"
    },
    {
     "name": "stdout",
     "output_type": "stream",
     "text": [
      "Epoch 172: train=2.17076, val=2.15755, took 43.769 s\n",
      "  Validation Found 9030 of 10819, added 1004 (eff 83.46%) (0.502 FP/event)\n"
     ]
    },
    {
     "data": {
      "application/vnd.jupyter.widget-view+json": {
       "model_id": "",
       "version_major": 2,
       "version_minor": 0
      },
      "text/plain": [
       "HBox(children=(FloatProgress(value=0.0, description='Training', layout=Layout(flex='2'), max=1125.0, style=Pro…"
      ]
     },
     "metadata": {},
     "output_type": "display_data"
    },
    {
     "name": "stdout",
     "output_type": "stream",
     "text": [
      "Epoch 173: train=2.16685, val=2.15668, took 44.137 s\n",
      "  Validation Found 9024 of 10819, added 1002 (eff 83.41%) (0.501 FP/event)\n"
     ]
    },
    {
     "data": {
      "application/vnd.jupyter.widget-view+json": {
       "model_id": "",
       "version_major": 2,
       "version_minor": 0
      },
      "text/plain": [
       "HBox(children=(FloatProgress(value=0.0, description='Training', layout=Layout(flex='2'), max=1125.0, style=Pro…"
      ]
     },
     "metadata": {},
     "output_type": "display_data"
    },
    {
     "name": "stdout",
     "output_type": "stream",
     "text": [
      "Epoch 174: train=2.1634, val=2.15768, took 44.203 s\n",
      "  Validation Found 9017 of 10819, added 1007 (eff 83.34%) (0.503 FP/event)\n"
     ]
    },
    {
     "data": {
      "application/vnd.jupyter.widget-view+json": {
       "model_id": "",
       "version_major": 2,
       "version_minor": 0
      },
      "text/plain": [
       "HBox(children=(FloatProgress(value=0.0, description='Training', layout=Layout(flex='2'), max=1125.0, style=Pro…"
      ]
     },
     "metadata": {},
     "output_type": "display_data"
    },
    {
     "name": "stdout",
     "output_type": "stream",
     "text": [
      "Epoch 175: train=2.16339, val=2.1561, took 44.009 s\n",
      "  Validation Found 9025 of 10819, added 1003 (eff 83.42%) (0.501 FP/event)\n"
     ]
    },
    {
     "data": {
      "application/vnd.jupyter.widget-view+json": {
       "model_id": "",
       "version_major": 2,
       "version_minor": 0
      },
      "text/plain": [
       "HBox(children=(FloatProgress(value=0.0, description='Training', layout=Layout(flex='2'), max=1125.0, style=Pro…"
      ]
     },
     "metadata": {},
     "output_type": "display_data"
    },
    {
     "name": "stdout",
     "output_type": "stream",
     "text": [
      "Epoch 176: train=2.16237, val=2.15672, took 43.932 s\n",
      "  Validation Found 9023 of 10819, added 998 (eff 83.40%) (0.499 FP/event)\n"
     ]
    },
    {
     "data": {
      "application/vnd.jupyter.widget-view+json": {
       "model_id": "",
       "version_major": 2,
       "version_minor": 0
      },
      "text/plain": [
       "HBox(children=(FloatProgress(value=0.0, description='Training', layout=Layout(flex='2'), max=1125.0, style=Pro…"
      ]
     },
     "metadata": {},
     "output_type": "display_data"
    },
    {
     "name": "stdout",
     "output_type": "stream",
     "text": [
      "Epoch 177: train=2.16784, val=2.15589, took 44.234 s\n",
      "  Validation Found 9023 of 10819, added 1003 (eff 83.40%) (0.501 FP/event)\n"
     ]
    },
    {
     "data": {
      "application/vnd.jupyter.widget-view+json": {
       "model_id": "",
       "version_major": 2,
       "version_minor": 0
      },
      "text/plain": [
       "HBox(children=(FloatProgress(value=0.0, description='Training', layout=Layout(flex='2'), max=1125.0, style=Pro…"
      ]
     },
     "metadata": {},
     "output_type": "display_data"
    },
    {
     "name": "stdout",
     "output_type": "stream",
     "text": [
      "Epoch 178: train=2.16765, val=2.15587, took 44.151 s\n",
      "  Validation Found 9027 of 10819, added 1008 (eff 83.44%) (0.504 FP/event)\n"
     ]
    },
    {
     "data": {
      "application/vnd.jupyter.widget-view+json": {
       "model_id": "",
       "version_major": 2,
       "version_minor": 0
      },
      "text/plain": [
       "HBox(children=(FloatProgress(value=0.0, description='Training', layout=Layout(flex='2'), max=1125.0, style=Pro…"
      ]
     },
     "metadata": {},
     "output_type": "display_data"
    },
    {
     "name": "stdout",
     "output_type": "stream",
     "text": [
      "Epoch 179: train=2.16746, val=2.1577, took 44.134 s\n",
      "  Validation Found 9023 of 10819, added 1009 (eff 83.40%) (0.504 FP/event)\n"
     ]
    },
    {
     "data": {
      "application/vnd.jupyter.widget-view+json": {
       "model_id": "",
       "version_major": 2,
       "version_minor": 0
      },
      "text/plain": [
       "HBox(children=(FloatProgress(value=0.0, description='Training', layout=Layout(flex='2'), max=1125.0, style=Pro…"
      ]
     },
     "metadata": {},
     "output_type": "display_data"
    },
    {
     "name": "stdout",
     "output_type": "stream",
     "text": [
      "Epoch 180: train=2.16913, val=2.15913, took 44.267 s\n",
      "  Validation Found 9024 of 10819, added 1007 (eff 83.41%) (0.503 FP/event)\n"
     ]
    },
    {
     "data": {
      "application/vnd.jupyter.widget-view+json": {
       "model_id": "",
       "version_major": 2,
       "version_minor": 0
      },
      "text/plain": [
       "HBox(children=(FloatProgress(value=0.0, description='Training', layout=Layout(flex='2'), max=1125.0, style=Pro…"
      ]
     },
     "metadata": {},
     "output_type": "display_data"
    },
    {
     "name": "stdout",
     "output_type": "stream",
     "text": [
      "Epoch 181: train=2.16764, val=2.16252, took 44.202 s\n",
      "  Validation Found 9019 of 10819, added 1012 (eff 83.36%) (0.506 FP/event)\n"
     ]
    },
    {
     "data": {
      "application/vnd.jupyter.widget-view+json": {
       "model_id": "",
       "version_major": 2,
       "version_minor": 0
      },
      "text/plain": [
       "HBox(children=(FloatProgress(value=0.0, description='Training', layout=Layout(flex='2'), max=1125.0, style=Pro…"
      ]
     },
     "metadata": {},
     "output_type": "display_data"
    },
    {
     "name": "stdout",
     "output_type": "stream",
     "text": [
      "Epoch 182: train=2.16006, val=2.15704, took 44.063 s\n",
      "  Validation Found 9016 of 10819, added 1007 (eff 83.33%) (0.503 FP/event)\n"
     ]
    },
    {
     "data": {
      "application/vnd.jupyter.widget-view+json": {
       "model_id": "",
       "version_major": 2,
       "version_minor": 0
      },
      "text/plain": [
       "HBox(children=(FloatProgress(value=0.0, description='Training', layout=Layout(flex='2'), max=1125.0, style=Pro…"
      ]
     },
     "metadata": {},
     "output_type": "display_data"
    },
    {
     "name": "stdout",
     "output_type": "stream",
     "text": [
      "Epoch 183: train=2.16439, val=2.15635, took 44.093 s\n",
      "  Validation Found 9023 of 10819, added 1010 (eff 83.40%) (0.505 FP/event)\n"
     ]
    },
    {
     "data": {
      "application/vnd.jupyter.widget-view+json": {
       "model_id": "",
       "version_major": 2,
       "version_minor": 0
      },
      "text/plain": [
       "HBox(children=(FloatProgress(value=0.0, description='Training', layout=Layout(flex='2'), max=1125.0, style=Pro…"
      ]
     },
     "metadata": {},
     "output_type": "display_data"
    },
    {
     "name": "stdout",
     "output_type": "stream",
     "text": [
      "Epoch 184: train=2.16395, val=2.15793, took 44.151 s\n",
      "  Validation Found 9031 of 10819, added 1006 (eff 83.47%) (0.503 FP/event)\n"
     ]
    },
    {
     "data": {
      "application/vnd.jupyter.widget-view+json": {
       "model_id": "",
       "version_major": 2,
       "version_minor": 0
      },
      "text/plain": [
       "HBox(children=(FloatProgress(value=0.0, description='Training', layout=Layout(flex='2'), max=1125.0, style=Pro…"
      ]
     },
     "metadata": {},
     "output_type": "display_data"
    },
    {
     "name": "stdout",
     "output_type": "stream",
     "text": [
      "Epoch 185: train=2.16815, val=2.15618, took 44.054 s\n",
      "  Validation Found 9024 of 10819, added 997 (eff 83.41%) (0.498 FP/event)\n"
     ]
    },
    {
     "data": {
      "application/vnd.jupyter.widget-view+json": {
       "model_id": "",
       "version_major": 2,
       "version_minor": 0
      },
      "text/plain": [
       "HBox(children=(FloatProgress(value=0.0, description='Training', layout=Layout(flex='2'), max=1125.0, style=Pro…"
      ]
     },
     "metadata": {},
     "output_type": "display_data"
    },
    {
     "name": "stdout",
     "output_type": "stream",
     "text": [
      "Epoch 186: train=2.16865, val=2.15653, took 44.257 s\n",
      "  Validation Found 9029 of 10819, added 993 (eff 83.46%) (0.496 FP/event)\n"
     ]
    },
    {
     "data": {
      "application/vnd.jupyter.widget-view+json": {
       "model_id": "",
       "version_major": 2,
       "version_minor": 0
      },
      "text/plain": [
       "HBox(children=(FloatProgress(value=0.0, description='Training', layout=Layout(flex='2'), max=1125.0, style=Pro…"
      ]
     },
     "metadata": {},
     "output_type": "display_data"
    },
    {
     "name": "stdout",
     "output_type": "stream",
     "text": [
      "Epoch 187: train=2.16623, val=2.15571, took 44.158 s\n",
      "  Validation Found 9025 of 10819, added 1009 (eff 83.42%) (0.504 FP/event)\n"
     ]
    },
    {
     "data": {
      "application/vnd.jupyter.widget-view+json": {
       "model_id": "",
       "version_major": 2,
       "version_minor": 0
      },
      "text/plain": [
       "HBox(children=(FloatProgress(value=0.0, description='Training', layout=Layout(flex='2'), max=1125.0, style=Pro…"
      ]
     },
     "metadata": {},
     "output_type": "display_data"
    },
    {
     "name": "stdout",
     "output_type": "stream",
     "text": [
      "Epoch 188: train=2.16709, val=2.15651, took 44.321 s\n",
      "  Validation Found 9031 of 10819, added 1001 (eff 83.47%) (0.5 FP/event)\n"
     ]
    },
    {
     "data": {
      "application/vnd.jupyter.widget-view+json": {
       "model_id": "",
       "version_major": 2,
       "version_minor": 0
      },
      "text/plain": [
       "HBox(children=(FloatProgress(value=0.0, description='Training', layout=Layout(flex='2'), max=1125.0, style=Pro…"
      ]
     },
     "metadata": {},
     "output_type": "display_data"
    },
    {
     "name": "stdout",
     "output_type": "stream",
     "text": [
      "Epoch 189: train=2.16568, val=2.15759, took 44.108 s\n",
      "  Validation Found 9027 of 10819, added 997 (eff 83.44%) (0.498 FP/event)\n"
     ]
    },
    {
     "data": {
      "application/vnd.jupyter.widget-view+json": {
       "model_id": "",
       "version_major": 2,
       "version_minor": 0
      },
      "text/plain": [
       "HBox(children=(FloatProgress(value=0.0, description='Training', layout=Layout(flex='2'), max=1125.0, style=Pro…"
      ]
     },
     "metadata": {},
     "output_type": "display_data"
    },
    {
     "name": "stdout",
     "output_type": "stream",
     "text": [
      "Epoch 190: train=2.16497, val=2.15949, took 44.165 s\n",
      "  Validation Found 9027 of 10819, added 1009 (eff 83.44%) (0.504 FP/event)\n"
     ]
    },
    {
     "data": {
      "application/vnd.jupyter.widget-view+json": {
       "model_id": "",
       "version_major": 2,
       "version_minor": 0
      },
      "text/plain": [
       "HBox(children=(FloatProgress(value=0.0, description='Training', layout=Layout(flex='2'), max=1125.0, style=Pro…"
      ]
     },
     "metadata": {},
     "output_type": "display_data"
    },
    {
     "name": "stdout",
     "output_type": "stream",
     "text": [
      "Epoch 191: train=2.1676, val=2.15551, took 44.289 s\n",
      "  Validation Found 9029 of 10819, added 999 (eff 83.46%) (0.499 FP/event)\n"
     ]
    },
    {
     "data": {
      "application/vnd.jupyter.widget-view+json": {
       "model_id": "",
       "version_major": 2,
       "version_minor": 0
      },
      "text/plain": [
       "HBox(children=(FloatProgress(value=0.0, description='Training', layout=Layout(flex='2'), max=1125.0, style=Pro…"
      ]
     },
     "metadata": {},
     "output_type": "display_data"
    },
    {
     "name": "stdout",
     "output_type": "stream",
     "text": [
      "Epoch 192: train=2.16727, val=2.15505, took 44.15 s\n",
      "  Validation Found 9023 of 10819, added 1002 (eff 83.40%) (0.501 FP/event)\n"
     ]
    },
    {
     "data": {
      "application/vnd.jupyter.widget-view+json": {
       "model_id": "",
       "version_major": 2,
       "version_minor": 0
      },
      "text/plain": [
       "HBox(children=(FloatProgress(value=0.0, description='Training', layout=Layout(flex='2'), max=1125.0, style=Pro…"
      ]
     },
     "metadata": {},
     "output_type": "display_data"
    },
    {
     "name": "stdout",
     "output_type": "stream",
     "text": [
      "Epoch 193: train=2.16294, val=2.15542, took 44.068 s\n",
      "  Validation Found 9028 of 10819, added 996 (eff 83.45%) (0.498 FP/event)\n"
     ]
    },
    {
     "data": {
      "application/vnd.jupyter.widget-view+json": {
       "model_id": "",
       "version_major": 2,
       "version_minor": 0
      },
      "text/plain": [
       "HBox(children=(FloatProgress(value=0.0, description='Training', layout=Layout(flex='2'), max=1125.0, style=Pro…"
      ]
     },
     "metadata": {},
     "output_type": "display_data"
    },
    {
     "name": "stdout",
     "output_type": "stream",
     "text": [
      "Epoch 194: train=2.16661, val=2.15482, took 44.062 s\n",
      "  Validation Found 9028 of 10819, added 1004 (eff 83.45%) (0.502 FP/event)\n"
     ]
    },
    {
     "data": {
      "application/vnd.jupyter.widget-view+json": {
       "model_id": "",
       "version_major": 2,
       "version_minor": 0
      },
      "text/plain": [
       "HBox(children=(FloatProgress(value=0.0, description='Training', layout=Layout(flex='2'), max=1125.0, style=Pro…"
      ]
     },
     "metadata": {},
     "output_type": "display_data"
    },
    {
     "name": "stdout",
     "output_type": "stream",
     "text": [
      "Epoch 195: train=2.16373, val=2.1556, took 44.121 s\n",
      "  Validation Found 9034 of 10819, added 999 (eff 83.50%) (0.499 FP/event)\n"
     ]
    },
    {
     "data": {
      "application/vnd.jupyter.widget-view+json": {
       "model_id": "",
       "version_major": 2,
       "version_minor": 0
      },
      "text/plain": [
       "HBox(children=(FloatProgress(value=0.0, description='Training', layout=Layout(flex='2'), max=1125.0, style=Pro…"
      ]
     },
     "metadata": {},
     "output_type": "display_data"
    },
    {
     "name": "stdout",
     "output_type": "stream",
     "text": [
      "Epoch 196: train=2.16283, val=2.15481, took 44.108 s\n",
      "  Validation Found 9032 of 10819, added 995 (eff 83.48%) (0.497 FP/event)\n"
     ]
    },
    {
     "data": {
      "application/vnd.jupyter.widget-view+json": {
       "model_id": "",
       "version_major": 2,
       "version_minor": 0
      },
      "text/plain": [
       "HBox(children=(FloatProgress(value=0.0, description='Training', layout=Layout(flex='2'), max=1125.0, style=Pro…"
      ]
     },
     "metadata": {},
     "output_type": "display_data"
    },
    {
     "name": "stdout",
     "output_type": "stream",
     "text": [
      "Epoch 197: train=2.16146, val=2.15501, took 44.27 s\n",
      "  Validation Found 9032 of 10819, added 990 (eff 83.48%) (0.495 FP/event)\n"
     ]
    },
    {
     "data": {
      "application/vnd.jupyter.widget-view+json": {
       "model_id": "",
       "version_major": 2,
       "version_minor": 0
      },
      "text/plain": [
       "HBox(children=(FloatProgress(value=0.0, description='Training', layout=Layout(flex='2'), max=1125.0, style=Pro…"
      ]
     },
     "metadata": {},
     "output_type": "display_data"
    },
    {
     "name": "stdout",
     "output_type": "stream",
     "text": [
      "Epoch 198: train=2.16286, val=2.15523, took 44.278 s\n",
      "  Validation Found 9031 of 10819, added 1017 (eff 83.47%) (0.508 FP/event)\n"
     ]
    },
    {
     "data": {
      "application/vnd.jupyter.widget-view+json": {
       "model_id": "",
       "version_major": 2,
       "version_minor": 0
      },
      "text/plain": [
       "HBox(children=(FloatProgress(value=0.0, description='Training', layout=Layout(flex='2'), max=1125.0, style=Pro…"
      ]
     },
     "metadata": {},
     "output_type": "display_data"
    },
    {
     "name": "stdout",
     "output_type": "stream",
     "text": [
      "Epoch 199: train=2.16458, val=2.15694, took 44.049 s\n",
      "  Validation Found 9035 of 10819, added 1002 (eff 83.51%) (0.501 FP/event)\n"
     ]
    },
    {
     "data": {
      "application/vnd.jupyter.widget-view+json": {
       "model_id": "",
       "version_major": 2,
       "version_minor": 0
      },
      "text/plain": [
       "HBox(children=(FloatProgress(value=0.0, description='Training', layout=Layout(flex='2'), max=1125.0, style=Pro…"
      ]
     },
     "metadata": {},
     "output_type": "display_data"
    },
    {
     "name": "stdout",
     "output_type": "stream",
     "text": [
      "Epoch 200: train=2.15988, val=2.15578, took 44.167 s\n",
      "  Validation Found 9035 of 10819, added 998 (eff 83.51%) (0.499 FP/event)\n"
     ]
    },
    {
     "data": {
      "application/vnd.jupyter.widget-view+json": {
       "model_id": "",
       "version_major": 2,
       "version_minor": 0
      },
      "text/plain": [
       "HBox(children=(FloatProgress(value=0.0, description='Training', layout=Layout(flex='2'), max=1125.0, style=Pro…"
      ]
     },
     "metadata": {},
     "output_type": "display_data"
    },
    {
     "name": "stdout",
     "output_type": "stream",
     "text": [
      "Epoch 201: train=2.16125, val=2.15627, took 44.093 s\n",
      "  Validation Found 9034 of 10819, added 1001 (eff 83.50%) (0.5 FP/event)\n"
     ]
    },
    {
     "data": {
      "application/vnd.jupyter.widget-view+json": {
       "model_id": "",
       "version_major": 2,
       "version_minor": 0
      },
      "text/plain": [
       "HBox(children=(FloatProgress(value=0.0, description='Training', layout=Layout(flex='2'), max=1125.0, style=Pro…"
      ]
     },
     "metadata": {},
     "output_type": "display_data"
    },
    {
     "name": "stdout",
     "output_type": "stream",
     "text": [
      "Epoch 202: train=2.16292, val=2.15478, took 44.086 s\n",
      "  Validation Found 9037 of 10819, added 993 (eff 83.53%) (0.496 FP/event)\n"
     ]
    },
    {
     "data": {
      "application/vnd.jupyter.widget-view+json": {
       "model_id": "",
       "version_major": 2,
       "version_minor": 0
      },
      "text/plain": [
       "HBox(children=(FloatProgress(value=0.0, description='Training', layout=Layout(flex='2'), max=1125.0, style=Pro…"
      ]
     },
     "metadata": {},
     "output_type": "display_data"
    },
    {
     "name": "stdout",
     "output_type": "stream",
     "text": [
      "Epoch 203: train=2.16323, val=2.15622, took 44.25 s\n",
      "  Validation Found 9021 of 10819, added 999 (eff 83.38%) (0.499 FP/event)\n"
     ]
    },
    {
     "data": {
      "application/vnd.jupyter.widget-view+json": {
       "model_id": "",
       "version_major": 2,
       "version_minor": 0
      },
      "text/plain": [
       "HBox(children=(FloatProgress(value=0.0, description='Training', layout=Layout(flex='2'), max=1125.0, style=Pro…"
      ]
     },
     "metadata": {},
     "output_type": "display_data"
    },
    {
     "name": "stdout",
     "output_type": "stream",
     "text": [
      "Epoch 204: train=2.15809, val=2.15435, took 43.969 s\n",
      "  Validation Found 9030 of 10819, added 989 (eff 83.46%) (0.494 FP/event)\n"
     ]
    },
    {
     "data": {
      "application/vnd.jupyter.widget-view+json": {
       "model_id": "",
       "version_major": 2,
       "version_minor": 0
      },
      "text/plain": [
       "HBox(children=(FloatProgress(value=0.0, description='Training', layout=Layout(flex='2'), max=1125.0, style=Pro…"
      ]
     },
     "metadata": {},
     "output_type": "display_data"
    },
    {
     "name": "stdout",
     "output_type": "stream",
     "text": [
      "Epoch 205: train=2.1649, val=2.15714, took 44.031 s\n",
      "  Validation Found 9016 of 10819, added 1001 (eff 83.33%) (0.5 FP/event)\n"
     ]
    },
    {
     "data": {
      "application/vnd.jupyter.widget-view+json": {
       "model_id": "",
       "version_major": 2,
       "version_minor": 0
      },
      "text/plain": [
       "HBox(children=(FloatProgress(value=0.0, description='Training', layout=Layout(flex='2'), max=1125.0, style=Pro…"
      ]
     },
     "metadata": {},
     "output_type": "display_data"
    },
    {
     "name": "stdout",
     "output_type": "stream",
     "text": [
      "Epoch 206: train=2.15836, val=2.15922, took 44.171 s\n",
      "  Validation Found 9023 of 10819, added 1002 (eff 83.40%) (0.501 FP/event)\n"
     ]
    },
    {
     "data": {
      "application/vnd.jupyter.widget-view+json": {
       "model_id": "",
       "version_major": 2,
       "version_minor": 0
      },
      "text/plain": [
       "HBox(children=(FloatProgress(value=0.0, description='Training', layout=Layout(flex='2'), max=1125.0, style=Pro…"
      ]
     },
     "metadata": {},
     "output_type": "display_data"
    },
    {
     "name": "stdout",
     "output_type": "stream",
     "text": [
      "Epoch 207: train=2.15964, val=2.16632, took 44.094 s\n",
      "  Validation Found 9018 of 10819, added 1002 (eff 83.35%) (0.501 FP/event)\n"
     ]
    },
    {
     "data": {
      "application/vnd.jupyter.widget-view+json": {
       "model_id": "",
       "version_major": 2,
       "version_minor": 0
      },
      "text/plain": [
       "HBox(children=(FloatProgress(value=0.0, description='Training', layout=Layout(flex='2'), max=1125.0, style=Pro…"
      ]
     },
     "metadata": {},
     "output_type": "display_data"
    },
    {
     "name": "stdout",
     "output_type": "stream",
     "text": [
      "Epoch 208: train=2.16144, val=2.15701, took 44.138 s\n",
      "  Validation Found 9027 of 10819, added 990 (eff 83.44%) (0.495 FP/event)\n"
     ]
    },
    {
     "data": {
      "application/vnd.jupyter.widget-view+json": {
       "model_id": "",
       "version_major": 2,
       "version_minor": 0
      },
      "text/plain": [
       "HBox(children=(FloatProgress(value=0.0, description='Training', layout=Layout(flex='2'), max=1125.0, style=Pro…"
      ]
     },
     "metadata": {},
     "output_type": "display_data"
    },
    {
     "name": "stdout",
     "output_type": "stream",
     "text": [
      "Epoch 209: train=2.16005, val=2.15611, took 44.087 s\n",
      "  Validation Found 9014 of 10819, added 998 (eff 83.32%) (0.499 FP/event)\n"
     ]
    },
    {
     "data": {
      "application/vnd.jupyter.widget-view+json": {
       "model_id": "",
       "version_major": 2,
       "version_minor": 0
      },
      "text/plain": [
       "HBox(children=(FloatProgress(value=0.0, description='Training', layout=Layout(flex='2'), max=1125.0, style=Pro…"
      ]
     },
     "metadata": {},
     "output_type": "display_data"
    },
    {
     "name": "stdout",
     "output_type": "stream",
     "text": [
      "Epoch 210: train=2.1593, val=2.15564, took 44.26 s\n",
      "  Validation Found 9023 of 10819, added 999 (eff 83.40%) (0.499 FP/event)\n"
     ]
    },
    {
     "data": {
      "application/vnd.jupyter.widget-view+json": {
       "model_id": "",
       "version_major": 2,
       "version_minor": 0
      },
      "text/plain": [
       "HBox(children=(FloatProgress(value=0.0, description='Training', layout=Layout(flex='2'), max=1125.0, style=Pro…"
      ]
     },
     "metadata": {},
     "output_type": "display_data"
    },
    {
     "name": "stdout",
     "output_type": "stream",
     "text": [
      "Epoch 211: train=2.15868, val=2.15792, took 44.233 s\n",
      "  Validation Found 9024 of 10819, added 995 (eff 83.41%) (0.497 FP/event)\n"
     ]
    },
    {
     "data": {
      "application/vnd.jupyter.widget-view+json": {
       "model_id": "",
       "version_major": 2,
       "version_minor": 0
      },
      "text/plain": [
       "HBox(children=(FloatProgress(value=0.0, description='Training', layout=Layout(flex='2'), max=1125.0, style=Pro…"
      ]
     },
     "metadata": {},
     "output_type": "display_data"
    },
    {
     "name": "stdout",
     "output_type": "stream",
     "text": [
      "Epoch 212: train=2.159, val=2.15598, took 44.097 s\n",
      "  Validation Found 9015 of 10819, added 987 (eff 83.33%) (0.493 FP/event)\n"
     ]
    },
    {
     "data": {
      "application/vnd.jupyter.widget-view+json": {
       "model_id": "",
       "version_major": 2,
       "version_minor": 0
      },
      "text/plain": [
       "HBox(children=(FloatProgress(value=0.0, description='Training', layout=Layout(flex='2'), max=1125.0, style=Pro…"
      ]
     },
     "metadata": {},
     "output_type": "display_data"
    },
    {
     "name": "stdout",
     "output_type": "stream",
     "text": [
      "Epoch 213: train=2.15847, val=2.15473, took 44.194 s\n",
      "  Validation Found 9030 of 10819, added 1001 (eff 83.46%) (0.5 FP/event)\n"
     ]
    },
    {
     "data": {
      "application/vnd.jupyter.widget-view+json": {
       "model_id": "",
       "version_major": 2,
       "version_minor": 0
      },
      "text/plain": [
       "HBox(children=(FloatProgress(value=0.0, description='Training', layout=Layout(flex='2'), max=1125.0, style=Pro…"
      ]
     },
     "metadata": {},
     "output_type": "display_data"
    },
    {
     "name": "stdout",
     "output_type": "stream",
     "text": [
      "Epoch 214: train=2.16035, val=2.1617, took 44.214 s\n",
      "  Validation Found 9027 of 10819, added 1000 (eff 83.44%) (0.5 FP/event)\n"
     ]
    },
    {
     "data": {
      "application/vnd.jupyter.widget-view+json": {
       "model_id": "",
       "version_major": 2,
       "version_minor": 0
      },
      "text/plain": [
       "HBox(children=(FloatProgress(value=0.0, description='Training', layout=Layout(flex='2'), max=1125.0, style=Pro…"
      ]
     },
     "metadata": {},
     "output_type": "display_data"
    },
    {
     "name": "stdout",
     "output_type": "stream",
     "text": [
      "Epoch 215: train=2.15776, val=2.16003, took 44.188 s\n",
      "  Validation Found 9027 of 10819, added 990 (eff 83.44%) (0.495 FP/event)\n"
     ]
    },
    {
     "data": {
      "application/vnd.jupyter.widget-view+json": {
       "model_id": "",
       "version_major": 2,
       "version_minor": 0
      },
      "text/plain": [
       "HBox(children=(FloatProgress(value=0.0, description='Training', layout=Layout(flex='2'), max=1125.0, style=Pro…"
      ]
     },
     "metadata": {},
     "output_type": "display_data"
    },
    {
     "name": "stdout",
     "output_type": "stream",
     "text": [
      "Epoch 216: train=2.1568, val=2.15669, took 44.09 s\n",
      "  Validation Found 9030 of 10819, added 999 (eff 83.46%) (0.499 FP/event)\n"
     ]
    },
    {
     "data": {
      "application/vnd.jupyter.widget-view+json": {
       "model_id": "",
       "version_major": 2,
       "version_minor": 0
      },
      "text/plain": [
       "HBox(children=(FloatProgress(value=0.0, description='Training', layout=Layout(flex='2'), max=1125.0, style=Pro…"
      ]
     },
     "metadata": {},
     "output_type": "display_data"
    },
    {
     "name": "stdout",
     "output_type": "stream",
     "text": [
      "Epoch 217: train=2.15883, val=2.15744, took 44.214 s\n",
      "  Validation Found 9035 of 10819, added 1005 (eff 83.51%) (0.502 FP/event)\n"
     ]
    },
    {
     "data": {
      "application/vnd.jupyter.widget-view+json": {
       "model_id": "",
       "version_major": 2,
       "version_minor": 0
      },
      "text/plain": [
       "HBox(children=(FloatProgress(value=0.0, description='Training', layout=Layout(flex='2'), max=1125.0, style=Pro…"
      ]
     },
     "metadata": {},
     "output_type": "display_data"
    },
    {
     "name": "stdout",
     "output_type": "stream",
     "text": [
      "Epoch 218: train=2.1635, val=2.15974, took 44.143 s\n",
      "  Validation Found 9026 of 10819, added 1002 (eff 83.43%) (0.501 FP/event)\n"
     ]
    },
    {
     "data": {
      "application/vnd.jupyter.widget-view+json": {
       "model_id": "",
       "version_major": 2,
       "version_minor": 0
      },
      "text/plain": [
       "HBox(children=(FloatProgress(value=0.0, description='Training', layout=Layout(flex='2'), max=1125.0, style=Pro…"
      ]
     },
     "metadata": {},
     "output_type": "display_data"
    },
    {
     "name": "stdout",
     "output_type": "stream",
     "text": [
      "Epoch 219: train=2.16133, val=2.15472, took 44.04 s\n",
      "  Validation Found 9026 of 10819, added 993 (eff 83.43%) (0.496 FP/event)\n"
     ]
    },
    {
     "data": {
      "application/vnd.jupyter.widget-view+json": {
       "model_id": "",
       "version_major": 2,
       "version_minor": 0
      },
      "text/plain": [
       "HBox(children=(FloatProgress(value=0.0, description='Training', layout=Layout(flex='2'), max=1125.0, style=Pro…"
      ]
     },
     "metadata": {},
     "output_type": "display_data"
    },
    {
     "name": "stdout",
     "output_type": "stream",
     "text": [
      "Epoch 220: train=2.15358, val=2.15474, took 44.283 s\n",
      "  Validation Found 9035 of 10819, added 995 (eff 83.51%) (0.497 FP/event)\n"
     ]
    },
    {
     "data": {
      "application/vnd.jupyter.widget-view+json": {
       "model_id": "",
       "version_major": 2,
       "version_minor": 0
      },
      "text/plain": [
       "HBox(children=(FloatProgress(value=0.0, description='Training', layout=Layout(flex='2'), max=1125.0, style=Pro…"
      ]
     },
     "metadata": {},
     "output_type": "display_data"
    },
    {
     "name": "stdout",
     "output_type": "stream",
     "text": [
      "Epoch 221: train=2.15847, val=2.15543, took 44.185 s\n",
      "  Validation Found 9033 of 10819, added 1000 (eff 83.49%) (0.5 FP/event)\n"
     ]
    },
    {
     "data": {
      "application/vnd.jupyter.widget-view+json": {
       "model_id": "",
       "version_major": 2,
       "version_minor": 0
      },
      "text/plain": [
       "HBox(children=(FloatProgress(value=0.0, description='Training', layout=Layout(flex='2'), max=1125.0, style=Pro…"
      ]
     },
     "metadata": {},
     "output_type": "display_data"
    },
    {
     "name": "stdout",
     "output_type": "stream",
     "text": [
      "Epoch 222: train=2.16061, val=2.15498, took 44.106 s\n",
      "  Validation Found 9026 of 10819, added 994 (eff 83.43%) (0.497 FP/event)\n"
     ]
    },
    {
     "data": {
      "application/vnd.jupyter.widget-view+json": {
       "model_id": "",
       "version_major": 2,
       "version_minor": 0
      },
      "text/plain": [
       "HBox(children=(FloatProgress(value=0.0, description='Training', layout=Layout(flex='2'), max=1125.0, style=Pro…"
      ]
     },
     "metadata": {},
     "output_type": "display_data"
    },
    {
     "name": "stdout",
     "output_type": "stream",
     "text": [
      "Epoch 223: train=2.16074, val=2.15628, took 44.011 s\n",
      "  Validation Found 9027 of 10819, added 993 (eff 83.44%) (0.496 FP/event)\n"
     ]
    },
    {
     "data": {
      "application/vnd.jupyter.widget-view+json": {
       "model_id": "",
       "version_major": 2,
       "version_minor": 0
      },
      "text/plain": [
       "HBox(children=(FloatProgress(value=0.0, description='Training', layout=Layout(flex='2'), max=1125.0, style=Pro…"
      ]
     },
     "metadata": {},
     "output_type": "display_data"
    },
    {
     "name": "stdout",
     "output_type": "stream",
     "text": [
      "Epoch 224: train=2.15931, val=2.15654, took 44.238 s\n",
      "  Validation Found 9027 of 10819, added 997 (eff 83.44%) (0.498 FP/event)\n"
     ]
    },
    {
     "data": {
      "application/vnd.jupyter.widget-view+json": {
       "model_id": "",
       "version_major": 2,
       "version_minor": 0
      },
      "text/plain": [
       "HBox(children=(FloatProgress(value=0.0, description='Training', layout=Layout(flex='2'), max=1125.0, style=Pro…"
      ]
     },
     "metadata": {},
     "output_type": "display_data"
    },
    {
     "name": "stdout",
     "output_type": "stream",
     "text": [
      "Epoch 225: train=2.15807, val=2.15471, took 44.13 s\n",
      "  Validation Found 9032 of 10819, added 996 (eff 83.48%) (0.498 FP/event)\n"
     ]
    },
    {
     "data": {
      "application/vnd.jupyter.widget-view+json": {
       "model_id": "",
       "version_major": 2,
       "version_minor": 0
      },
      "text/plain": [
       "HBox(children=(FloatProgress(value=0.0, description='Training', layout=Layout(flex='2'), max=1125.0, style=Pro…"
      ]
     },
     "metadata": {},
     "output_type": "display_data"
    },
    {
     "name": "stdout",
     "output_type": "stream",
     "text": [
      "Epoch 226: train=2.16128, val=2.15505, took 44.066 s\n",
      "  Validation Found 9024 of 10819, added 1004 (eff 83.41%) (0.502 FP/event)\n"
     ]
    },
    {
     "data": {
      "application/vnd.jupyter.widget-view+json": {
       "model_id": "",
       "version_major": 2,
       "version_minor": 0
      },
      "text/plain": [
       "HBox(children=(FloatProgress(value=0.0, description='Training', layout=Layout(flex='2'), max=1125.0, style=Pro…"
      ]
     },
     "metadata": {},
     "output_type": "display_data"
    },
    {
     "name": "stdout",
     "output_type": "stream",
     "text": [
      "Epoch 227: train=2.15592, val=2.1554, took 44.204 s\n",
      "  Validation Found 9033 of 10819, added 1007 (eff 83.49%) (0.503 FP/event)\n"
     ]
    },
    {
     "data": {
      "application/vnd.jupyter.widget-view+json": {
       "model_id": "",
       "version_major": 2,
       "version_minor": 0
      },
      "text/plain": [
       "HBox(children=(FloatProgress(value=0.0, description='Training', layout=Layout(flex='2'), max=1125.0, style=Pro…"
      ]
     },
     "metadata": {},
     "output_type": "display_data"
    },
    {
     "name": "stdout",
     "output_type": "stream",
     "text": [
      "Epoch 228: train=2.1583, val=2.1537, took 44.035 s\n",
      "  Validation Found 9034 of 10819, added 1001 (eff 83.50%) (0.5 FP/event)\n"
     ]
    },
    {
     "data": {
      "application/vnd.jupyter.widget-view+json": {
       "model_id": "",
       "version_major": 2,
       "version_minor": 0
      },
      "text/plain": [
       "HBox(children=(FloatProgress(value=0.0, description='Training', layout=Layout(flex='2'), max=1125.0, style=Pro…"
      ]
     },
     "metadata": {},
     "output_type": "display_data"
    },
    {
     "name": "stdout",
     "output_type": "stream",
     "text": [
      "Epoch 229: train=2.15922, val=2.15345, took 44.283 s\n",
      "  Validation Found 9035 of 10819, added 995 (eff 83.51%) (0.497 FP/event)\n"
     ]
    },
    {
     "data": {
      "application/vnd.jupyter.widget-view+json": {
       "model_id": "",
       "version_major": 2,
       "version_minor": 0
      },
      "text/plain": [
       "HBox(children=(FloatProgress(value=0.0, description='Training', layout=Layout(flex='2'), max=1125.0, style=Pro…"
      ]
     },
     "metadata": {},
     "output_type": "display_data"
    },
    {
     "name": "stdout",
     "output_type": "stream",
     "text": [
      "Epoch 230: train=2.15814, val=2.15497, took 44.131 s\n",
      "  Validation Found 9026 of 10819, added 1001 (eff 83.43%) (0.5 FP/event)\n"
     ]
    },
    {
     "data": {
      "application/vnd.jupyter.widget-view+json": {
       "model_id": "",
       "version_major": 2,
       "version_minor": 0
      },
      "text/plain": [
       "HBox(children=(FloatProgress(value=0.0, description='Training', layout=Layout(flex='2'), max=1125.0, style=Pro…"
      ]
     },
     "metadata": {},
     "output_type": "display_data"
    },
    {
     "name": "stdout",
     "output_type": "stream",
     "text": [
      "Epoch 231: train=2.16164, val=2.15664, took 44.154 s\n",
      "  Validation Found 9036 of 10819, added 981 (eff 83.52%) (0.49 FP/event)\n"
     ]
    },
    {
     "data": {
      "application/vnd.jupyter.widget-view+json": {
       "model_id": "",
       "version_major": 2,
       "version_minor": 0
      },
      "text/plain": [
       "HBox(children=(FloatProgress(value=0.0, description='Training', layout=Layout(flex='2'), max=1125.0, style=Pro…"
      ]
     },
     "metadata": {},
     "output_type": "display_data"
    },
    {
     "name": "stdout",
     "output_type": "stream",
     "text": [
      "Epoch 232: train=2.15626, val=2.16527, took 44.208 s\n",
      "  Validation Found 9020 of 10819, added 1001 (eff 83.37%) (0.5 FP/event)\n"
     ]
    },
    {
     "data": {
      "application/vnd.jupyter.widget-view+json": {
       "model_id": "",
       "version_major": 2,
       "version_minor": 0
      },
      "text/plain": [
       "HBox(children=(FloatProgress(value=0.0, description='Training', layout=Layout(flex='2'), max=1125.0, style=Pro…"
      ]
     },
     "metadata": {},
     "output_type": "display_data"
    },
    {
     "name": "stdout",
     "output_type": "stream",
     "text": [
      "Epoch 233: train=2.1553, val=2.15448, took 44.01 s\n",
      "  Validation Found 9027 of 10819, added 994 (eff 83.44%) (0.497 FP/event)\n"
     ]
    },
    {
     "data": {
      "application/vnd.jupyter.widget-view+json": {
       "model_id": "",
       "version_major": 2,
       "version_minor": 0
      },
      "text/plain": [
       "HBox(children=(FloatProgress(value=0.0, description='Training', layout=Layout(flex='2'), max=1125.0, style=Pro…"
      ]
     },
     "metadata": {},
     "output_type": "display_data"
    },
    {
     "name": "stdout",
     "output_type": "stream",
     "text": [
      "Epoch 234: train=2.15699, val=2.15552, took 44.06 s\n",
      "  Validation Found 9027 of 10819, added 988 (eff 83.44%) (0.494 FP/event)\n"
     ]
    },
    {
     "data": {
      "application/vnd.jupyter.widget-view+json": {
       "model_id": "",
       "version_major": 2,
       "version_minor": 0
      },
      "text/plain": [
       "HBox(children=(FloatProgress(value=0.0, description='Training', layout=Layout(flex='2'), max=1125.0, style=Pro…"
      ]
     },
     "metadata": {},
     "output_type": "display_data"
    },
    {
     "name": "stdout",
     "output_type": "stream",
     "text": [
      "Epoch 235: train=2.15834, val=2.16064, took 43.974 s\n",
      "  Validation Found 9024 of 10819, added 1004 (eff 83.41%) (0.502 FP/event)\n"
     ]
    },
    {
     "data": {
      "application/vnd.jupyter.widget-view+json": {
       "model_id": "",
       "version_major": 2,
       "version_minor": 0
      },
      "text/plain": [
       "HBox(children=(FloatProgress(value=0.0, description='Training', layout=Layout(flex='2'), max=1125.0, style=Pro…"
      ]
     },
     "metadata": {},
     "output_type": "display_data"
    },
    {
     "name": "stdout",
     "output_type": "stream",
     "text": [
      "Epoch 236: train=2.15472, val=2.15442, took 43.682 s\n",
      "  Validation Found 9027 of 10819, added 996 (eff 83.44%) (0.498 FP/event)\n"
     ]
    },
    {
     "data": {
      "application/vnd.jupyter.widget-view+json": {
       "model_id": "",
       "version_major": 2,
       "version_minor": 0
      },
      "text/plain": [
       "HBox(children=(FloatProgress(value=0.0, description='Training', layout=Layout(flex='2'), max=1125.0, style=Pro…"
      ]
     },
     "metadata": {},
     "output_type": "display_data"
    },
    {
     "name": "stdout",
     "output_type": "stream",
     "text": [
      "Epoch 237: train=2.15099, val=2.15352, took 43.731 s\n",
      "  Validation Found 9031 of 10819, added 1000 (eff 83.47%) (0.5 FP/event)\n"
     ]
    },
    {
     "data": {
      "application/vnd.jupyter.widget-view+json": {
       "model_id": "",
       "version_major": 2,
       "version_minor": 0
      },
      "text/plain": [
       "HBox(children=(FloatProgress(value=0.0, description='Training', layout=Layout(flex='2'), max=1125.0, style=Pro…"
      ]
     },
     "metadata": {},
     "output_type": "display_data"
    },
    {
     "name": "stdout",
     "output_type": "stream",
     "text": [
      "Epoch 238: train=2.15705, val=2.15306, took 43.649 s\n",
      "  Validation Found 9019 of 10819, added 979 (eff 83.36%) (0.489 FP/event)\n"
     ]
    },
    {
     "data": {
      "application/vnd.jupyter.widget-view+json": {
       "model_id": "",
       "version_major": 2,
       "version_minor": 0
      },
      "text/plain": [
       "HBox(children=(FloatProgress(value=0.0, description='Training', layout=Layout(flex='2'), max=1125.0, style=Pro…"
      ]
     },
     "metadata": {},
     "output_type": "display_data"
    },
    {
     "name": "stdout",
     "output_type": "stream",
     "text": [
      "Epoch 239: train=2.15491, val=2.15293, took 43.628 s\n",
      "  Validation Found 9029 of 10819, added 986 (eff 83.46%) (0.493 FP/event)\n"
     ]
    },
    {
     "data": {
      "application/vnd.jupyter.widget-view+json": {
       "model_id": "",
       "version_major": 2,
       "version_minor": 0
      },
      "text/plain": [
       "HBox(children=(FloatProgress(value=0.0, description='Training', layout=Layout(flex='2'), max=1125.0, style=Pro…"
      ]
     },
     "metadata": {},
     "output_type": "display_data"
    },
    {
     "name": "stdout",
     "output_type": "stream",
     "text": [
      "Epoch 240: train=2.16092, val=2.15607, took 43.642 s\n",
      "  Validation Found 9030 of 10819, added 1004 (eff 83.46%) (0.502 FP/event)\n"
     ]
    },
    {
     "data": {
      "application/vnd.jupyter.widget-view+json": {
       "model_id": "",
       "version_major": 2,
       "version_minor": 0
      },
      "text/plain": [
       "HBox(children=(FloatProgress(value=0.0, description='Training', layout=Layout(flex='2'), max=1125.0, style=Pro…"
      ]
     },
     "metadata": {},
     "output_type": "display_data"
    },
    {
     "name": "stdout",
     "output_type": "stream",
     "text": [
      "Epoch 241: train=2.15835, val=2.15411, took 43.87 s\n",
      "  Validation Found 9037 of 10819, added 995 (eff 83.53%) (0.497 FP/event)\n"
     ]
    },
    {
     "data": {
      "application/vnd.jupyter.widget-view+json": {
       "model_id": "",
       "version_major": 2,
       "version_minor": 0
      },
      "text/plain": [
       "HBox(children=(FloatProgress(value=0.0, description='Training', layout=Layout(flex='2'), max=1125.0, style=Pro…"
      ]
     },
     "metadata": {},
     "output_type": "display_data"
    },
    {
     "name": "stdout",
     "output_type": "stream",
     "text": [
      "Epoch 242: train=2.15581, val=2.154, took 43.79 s\n",
      "  Validation Found 9023 of 10819, added 995 (eff 83.40%) (0.497 FP/event)\n"
     ]
    },
    {
     "data": {
      "application/vnd.jupyter.widget-view+json": {
       "model_id": "",
       "version_major": 2,
       "version_minor": 0
      },
      "text/plain": [
       "HBox(children=(FloatProgress(value=0.0, description='Training', layout=Layout(flex='2'), max=1125.0, style=Pro…"
      ]
     },
     "metadata": {},
     "output_type": "display_data"
    },
    {
     "name": "stdout",
     "output_type": "stream",
     "text": [
      "Epoch 243: train=2.15726, val=2.15411, took 43.939 s\n",
      "  Validation Found 9029 of 10819, added 984 (eff 83.46%) (0.492 FP/event)\n"
     ]
    },
    {
     "data": {
      "application/vnd.jupyter.widget-view+json": {
       "model_id": "",
       "version_major": 2,
       "version_minor": 0
      },
      "text/plain": [
       "HBox(children=(FloatProgress(value=0.0, description='Training', layout=Layout(flex='2'), max=1125.0, style=Pro…"
      ]
     },
     "metadata": {},
     "output_type": "display_data"
    },
    {
     "name": "stdout",
     "output_type": "stream",
     "text": [
      "Epoch 244: train=2.15551, val=2.15645, took 43.669 s\n",
      "  Validation Found 9035 of 10819, added 1012 (eff 83.51%) (0.506 FP/event)\n"
     ]
    },
    {
     "data": {
      "application/vnd.jupyter.widget-view+json": {
       "model_id": "",
       "version_major": 2,
       "version_minor": 0
      },
      "text/plain": [
       "HBox(children=(FloatProgress(value=0.0, description='Training', layout=Layout(flex='2'), max=1125.0, style=Pro…"
      ]
     },
     "metadata": {},
     "output_type": "display_data"
    },
    {
     "name": "stdout",
     "output_type": "stream",
     "text": [
      "Epoch 245: train=2.15573, val=2.15396, took 43.891 s\n",
      "  Validation Found 9032 of 10819, added 1002 (eff 83.48%) (0.501 FP/event)\n"
     ]
    },
    {
     "data": {
      "application/vnd.jupyter.widget-view+json": {
       "model_id": "",
       "version_major": 2,
       "version_minor": 0
      },
      "text/plain": [
       "HBox(children=(FloatProgress(value=0.0, description='Training', layout=Layout(flex='2'), max=1125.0, style=Pro…"
      ]
     },
     "metadata": {},
     "output_type": "display_data"
    },
    {
     "name": "stdout",
     "output_type": "stream",
     "text": [
      "Epoch 246: train=2.15674, val=2.154, took 44.029 s\n",
      "  Validation Found 9034 of 10819, added 1008 (eff 83.50%) (0.504 FP/event)\n"
     ]
    },
    {
     "data": {
      "application/vnd.jupyter.widget-view+json": {
       "model_id": "",
       "version_major": 2,
       "version_minor": 0
      },
      "text/plain": [
       "HBox(children=(FloatProgress(value=0.0, description='Training', layout=Layout(flex='2'), max=1125.0, style=Pro…"
      ]
     },
     "metadata": {},
     "output_type": "display_data"
    },
    {
     "name": "stdout",
     "output_type": "stream",
     "text": [
      "Epoch 247: train=2.15175, val=2.15409, took 44.005 s\n",
      "  Validation Found 9028 of 10819, added 1009 (eff 83.45%) (0.504 FP/event)\n"
     ]
    },
    {
     "data": {
      "application/vnd.jupyter.widget-view+json": {
       "model_id": "",
       "version_major": 2,
       "version_minor": 0
      },
      "text/plain": [
       "HBox(children=(FloatProgress(value=0.0, description='Training', layout=Layout(flex='2'), max=1125.0, style=Pro…"
      ]
     },
     "metadata": {},
     "output_type": "display_data"
    },
    {
     "name": "stdout",
     "output_type": "stream",
     "text": [
      "Epoch 248: train=2.1528, val=2.15306, took 44.087 s\n",
      "  Validation Found 9033 of 10819, added 1001 (eff 83.49%) (0.5 FP/event)\n"
     ]
    },
    {
     "data": {
      "application/vnd.jupyter.widget-view+json": {
       "model_id": "",
       "version_major": 2,
       "version_minor": 0
      },
      "text/plain": [
       "HBox(children=(FloatProgress(value=0.0, description='Training', layout=Layout(flex='2'), max=1125.0, style=Pro…"
      ]
     },
     "metadata": {},
     "output_type": "display_data"
    },
    {
     "name": "stdout",
     "output_type": "stream",
     "text": [
      "Epoch 249: train=2.15738, val=2.16181, took 43.989 s\n",
      "  Validation Found 9035 of 10819, added 1005 (eff 83.51%) (0.502 FP/event)\n"
     ]
    },
    {
     "data": {
      "application/vnd.jupyter.widget-view+json": {
       "model_id": "",
       "version_major": 2,
       "version_minor": 0
      },
      "text/plain": [
       "HBox(children=(FloatProgress(value=0.0, description='Training', layout=Layout(flex='2'), max=1125.0, style=Pro…"
      ]
     },
     "metadata": {},
     "output_type": "display_data"
    },
    {
     "name": "stdout",
     "output_type": "stream",
     "text": [
      "Epoch 250: train=2.15502, val=2.15329, took 43.721 s\n",
      "  Validation Found 9044 of 10819, added 1000 (eff 83.59%) (0.5 FP/event)\n"
     ]
    },
    {
     "data": {
      "application/vnd.jupyter.widget-view+json": {
       "model_id": "",
       "version_major": 2,
       "version_minor": 0
      },
      "text/plain": [
       "HBox(children=(FloatProgress(value=0.0, description='Training', layout=Layout(flex='2'), max=1125.0, style=Pro…"
      ]
     },
     "metadata": {},
     "output_type": "display_data"
    },
    {
     "name": "stdout",
     "output_type": "stream",
     "text": [
      "Epoch 251: train=2.156, val=2.15283, took 43.656 s\n",
      "  Validation Found 9033 of 10819, added 1004 (eff 83.49%) (0.502 FP/event)\n"
     ]
    },
    {
     "data": {
      "application/vnd.jupyter.widget-view+json": {
       "model_id": "",
       "version_major": 2,
       "version_minor": 0
      },
      "text/plain": [
       "HBox(children=(FloatProgress(value=0.0, description='Training', layout=Layout(flex='2'), max=1125.0, style=Pro…"
      ]
     },
     "metadata": {},
     "output_type": "display_data"
    },
    {
     "name": "stdout",
     "output_type": "stream",
     "text": [
      "Epoch 252: train=2.15579, val=2.16235, took 43.957 s\n",
      "  Validation Found 9018 of 10819, added 1010 (eff 83.35%) (0.505 FP/event)\n"
     ]
    },
    {
     "data": {
      "application/vnd.jupyter.widget-view+json": {
       "model_id": "",
       "version_major": 2,
       "version_minor": 0
      },
      "text/plain": [
       "HBox(children=(FloatProgress(value=0.0, description='Training', layout=Layout(flex='2'), max=1125.0, style=Pro…"
      ]
     },
     "metadata": {},
     "output_type": "display_data"
    },
    {
     "name": "stdout",
     "output_type": "stream",
     "text": [
      "Epoch 253: train=2.15086, val=2.15323, took 43.838 s\n",
      "  Validation Found 9033 of 10819, added 1003 (eff 83.49%) (0.501 FP/event)\n"
     ]
    },
    {
     "data": {
      "application/vnd.jupyter.widget-view+json": {
       "model_id": "",
       "version_major": 2,
       "version_minor": 0
      },
      "text/plain": [
       "HBox(children=(FloatProgress(value=0.0, description='Training', layout=Layout(flex='2'), max=1125.0, style=Pro…"
      ]
     },
     "metadata": {},
     "output_type": "display_data"
    },
    {
     "name": "stdout",
     "output_type": "stream",
     "text": [
      "Epoch 254: train=2.15097, val=2.15589, took 44.313 s\n",
      "  Validation Found 9028 of 10819, added 1005 (eff 83.45%) (0.502 FP/event)\n"
     ]
    },
    {
     "data": {
      "application/vnd.jupyter.widget-view+json": {
       "model_id": "",
       "version_major": 2,
       "version_minor": 0
      },
      "text/plain": [
       "HBox(children=(FloatProgress(value=0.0, description='Training', layout=Layout(flex='2'), max=1125.0, style=Pro…"
      ]
     },
     "metadata": {},
     "output_type": "display_data"
    },
    {
     "name": "stdout",
     "output_type": "stream",
     "text": [
      "Epoch 255: train=2.156, val=2.15441, took 44.139 s\n",
      "  Validation Found 9032 of 10819, added 988 (eff 83.48%) (0.494 FP/event)\n"
     ]
    },
    {
     "data": {
      "application/vnd.jupyter.widget-view+json": {
       "model_id": "",
       "version_major": 2,
       "version_minor": 0
      },
      "text/plain": [
       "HBox(children=(FloatProgress(value=0.0, description='Training', layout=Layout(flex='2'), max=1125.0, style=Pro…"
      ]
     },
     "metadata": {},
     "output_type": "display_data"
    },
    {
     "name": "stdout",
     "output_type": "stream",
     "text": [
      "Epoch 256: train=2.15326, val=2.1534, took 43.62 s\n",
      "  Validation Found 9034 of 10819, added 993 (eff 83.50%) (0.496 FP/event)\n"
     ]
    },
    {
     "data": {
      "application/vnd.jupyter.widget-view+json": {
       "model_id": "",
       "version_major": 2,
       "version_minor": 0
      },
      "text/plain": [
       "HBox(children=(FloatProgress(value=0.0, description='Training', layout=Layout(flex='2'), max=1125.0, style=Pro…"
      ]
     },
     "metadata": {},
     "output_type": "display_data"
    },
    {
     "name": "stdout",
     "output_type": "stream",
     "text": [
      "Epoch 257: train=2.15185, val=2.15269, took 43.759 s\n",
      "  Validation Found 9022 of 10819, added 1001 (eff 83.39%) (0.5 FP/event)\n"
     ]
    },
    {
     "data": {
      "application/vnd.jupyter.widget-view+json": {
       "model_id": "",
       "version_major": 2,
       "version_minor": 0
      },
      "text/plain": [
       "HBox(children=(FloatProgress(value=0.0, description='Training', layout=Layout(flex='2'), max=1125.0, style=Pro…"
      ]
     },
     "metadata": {},
     "output_type": "display_data"
    },
    {
     "name": "stdout",
     "output_type": "stream",
     "text": [
      "Epoch 258: train=2.15263, val=2.15394, took 43.724 s\n",
      "  Validation Found 9039 of 10819, added 1003 (eff 83.55%) (0.501 FP/event)\n"
     ]
    },
    {
     "data": {
      "application/vnd.jupyter.widget-view+json": {
       "model_id": "",
       "version_major": 2,
       "version_minor": 0
      },
      "text/plain": [
       "HBox(children=(FloatProgress(value=0.0, description='Training', layout=Layout(flex='2'), max=1125.0, style=Pro…"
      ]
     },
     "metadata": {},
     "output_type": "display_data"
    },
    {
     "name": "stdout",
     "output_type": "stream",
     "text": [
      "Epoch 259: train=2.15566, val=2.15322, took 43.885 s\n",
      "  Validation Found 9028 of 10819, added 996 (eff 83.45%) (0.498 FP/event)\n"
     ]
    },
    {
     "data": {
      "application/vnd.jupyter.widget-view+json": {
       "model_id": "",
       "version_major": 2,
       "version_minor": 0
      },
      "text/plain": [
       "HBox(children=(FloatProgress(value=0.0, description='Training', layout=Layout(flex='2'), max=1125.0, style=Pro…"
      ]
     },
     "metadata": {},
     "output_type": "display_data"
    },
    {
     "name": "stdout",
     "output_type": "stream",
     "text": [
      "Epoch 260: train=2.14744, val=2.15281, took 44.033 s\n",
      "  Validation Found 9027 of 10819, added 989 (eff 83.44%) (0.494 FP/event)\n"
     ]
    },
    {
     "data": {
      "application/vnd.jupyter.widget-view+json": {
       "model_id": "",
       "version_major": 2,
       "version_minor": 0
      },
      "text/plain": [
       "HBox(children=(FloatProgress(value=0.0, description='Training', layout=Layout(flex='2'), max=1125.0, style=Pro…"
      ]
     },
     "metadata": {},
     "output_type": "display_data"
    },
    {
     "name": "stdout",
     "output_type": "stream",
     "text": [
      "Epoch 261: train=2.15038, val=2.15374, took 43.865 s\n",
      "  Validation Found 9029 of 10819, added 990 (eff 83.46%) (0.495 FP/event)\n"
     ]
    },
    {
     "data": {
      "application/vnd.jupyter.widget-view+json": {
       "model_id": "",
       "version_major": 2,
       "version_minor": 0
      },
      "text/plain": [
       "HBox(children=(FloatProgress(value=0.0, description='Training', layout=Layout(flex='2'), max=1125.0, style=Pro…"
      ]
     },
     "metadata": {},
     "output_type": "display_data"
    },
    {
     "name": "stdout",
     "output_type": "stream",
     "text": [
      "Epoch 262: train=2.15107, val=2.15288, took 43.588 s\n",
      "  Validation Found 9025 of 10819, added 986 (eff 83.42%) (0.493 FP/event)\n"
     ]
    },
    {
     "data": {
      "application/vnd.jupyter.widget-view+json": {
       "model_id": "",
       "version_major": 2,
       "version_minor": 0
      },
      "text/plain": [
       "HBox(children=(FloatProgress(value=0.0, description='Training', layout=Layout(flex='2'), max=1125.0, style=Pro…"
      ]
     },
     "metadata": {},
     "output_type": "display_data"
    },
    {
     "name": "stdout",
     "output_type": "stream",
     "text": [
      "Epoch 263: train=2.15199, val=2.15353, took 43.634 s\n",
      "  Validation Found 9029 of 10819, added 993 (eff 83.46%) (0.496 FP/event)\n"
     ]
    },
    {
     "data": {
      "application/vnd.jupyter.widget-view+json": {
       "model_id": "",
       "version_major": 2,
       "version_minor": 0
      },
      "text/plain": [
       "HBox(children=(FloatProgress(value=0.0, description='Training', layout=Layout(flex='2'), max=1125.0, style=Pro…"
      ]
     },
     "metadata": {},
     "output_type": "display_data"
    },
    {
     "name": "stdout",
     "output_type": "stream",
     "text": [
      "Epoch 264: train=2.15379, val=2.15772, took 43.651 s\n",
      "  Validation Found 9024 of 10819, added 1000 (eff 83.41%) (0.5 FP/event)\n"
     ]
    },
    {
     "data": {
      "application/vnd.jupyter.widget-view+json": {
       "model_id": "",
       "version_major": 2,
       "version_minor": 0
      },
      "text/plain": [
       "HBox(children=(FloatProgress(value=0.0, description='Training', layout=Layout(flex='2'), max=1125.0, style=Pro…"
      ]
     },
     "metadata": {},
     "output_type": "display_data"
    },
    {
     "name": "stdout",
     "output_type": "stream",
     "text": [
      "Epoch 265: train=2.1562, val=2.15365, took 43.995 s\n",
      "  Validation Found 9031 of 10819, added 999 (eff 83.47%) (0.499 FP/event)\n"
     ]
    },
    {
     "data": {
      "application/vnd.jupyter.widget-view+json": {
       "model_id": "",
       "version_major": 2,
       "version_minor": 0
      },
      "text/plain": [
       "HBox(children=(FloatProgress(value=0.0, description='Training', layout=Layout(flex='2'), max=1125.0, style=Pro…"
      ]
     },
     "metadata": {},
     "output_type": "display_data"
    },
    {
     "name": "stdout",
     "output_type": "stream",
     "text": [
      "Epoch 266: train=2.15016, val=2.15383, took 43.899 s\n",
      "  Validation Found 9028 of 10819, added 996 (eff 83.45%) (0.498 FP/event)\n"
     ]
    },
    {
     "data": {
      "application/vnd.jupyter.widget-view+json": {
       "model_id": "",
       "version_major": 2,
       "version_minor": 0
      },
      "text/plain": [
       "HBox(children=(FloatProgress(value=0.0, description='Training', layout=Layout(flex='2'), max=1125.0, style=Pro…"
      ]
     },
     "metadata": {},
     "output_type": "display_data"
    },
    {
     "name": "stdout",
     "output_type": "stream",
     "text": [
      "Epoch 267: train=2.14505, val=2.15623, took 43.99 s\n",
      "  Validation Found 9026 of 10819, added 995 (eff 83.43%) (0.497 FP/event)\n"
     ]
    },
    {
     "data": {
      "application/vnd.jupyter.widget-view+json": {
       "model_id": "",
       "version_major": 2,
       "version_minor": 0
      },
      "text/plain": [
       "HBox(children=(FloatProgress(value=0.0, description='Training', layout=Layout(flex='2'), max=1125.0, style=Pro…"
      ]
     },
     "metadata": {},
     "output_type": "display_data"
    },
    {
     "name": "stdout",
     "output_type": "stream",
     "text": [
      "Epoch 268: train=2.15223, val=2.15576, took 43.828 s\n",
      "  Validation Found 9029 of 10819, added 990 (eff 83.46%) (0.495 FP/event)\n"
     ]
    },
    {
     "data": {
      "application/vnd.jupyter.widget-view+json": {
       "model_id": "",
       "version_major": 2,
       "version_minor": 0
      },
      "text/plain": [
       "HBox(children=(FloatProgress(value=0.0, description='Training', layout=Layout(flex='2'), max=1125.0, style=Pro…"
      ]
     },
     "metadata": {},
     "output_type": "display_data"
    },
    {
     "name": "stdout",
     "output_type": "stream",
     "text": [
      "Epoch 269: train=2.15179, val=2.15204, took 44.089 s\n",
      "  Validation Found 9025 of 10819, added 982 (eff 83.42%) (0.491 FP/event)\n"
     ]
    },
    {
     "data": {
      "application/vnd.jupyter.widget-view+json": {
       "model_id": "",
       "version_major": 2,
       "version_minor": 0
      },
      "text/plain": [
       "HBox(children=(FloatProgress(value=0.0, description='Training', layout=Layout(flex='2'), max=1125.0, style=Pro…"
      ]
     },
     "metadata": {},
     "output_type": "display_data"
    },
    {
     "name": "stdout",
     "output_type": "stream",
     "text": [
      "Epoch 270: train=2.14575, val=2.15965, took 44.053 s\n",
      "  Validation Found 9027 of 10819, added 998 (eff 83.44%) (0.499 FP/event)\n"
     ]
    },
    {
     "data": {
      "application/vnd.jupyter.widget-view+json": {
       "model_id": "",
       "version_major": 2,
       "version_minor": 0
      },
      "text/plain": [
       "HBox(children=(FloatProgress(value=0.0, description='Training', layout=Layout(flex='2'), max=1125.0, style=Pro…"
      ]
     },
     "metadata": {},
     "output_type": "display_data"
    },
    {
     "name": "stdout",
     "output_type": "stream",
     "text": [
      "Epoch 271: train=2.15244, val=2.15255, took 43.926 s\n",
      "  Validation Found 9031 of 10819, added 986 (eff 83.47%) (0.493 FP/event)\n"
     ]
    },
    {
     "data": {
      "application/vnd.jupyter.widget-view+json": {
       "model_id": "",
       "version_major": 2,
       "version_minor": 0
      },
      "text/plain": [
       "HBox(children=(FloatProgress(value=0.0, description='Training', layout=Layout(flex='2'), max=1125.0, style=Pro…"
      ]
     },
     "metadata": {},
     "output_type": "display_data"
    },
    {
     "name": "stdout",
     "output_type": "stream",
     "text": [
      "Epoch 272: train=2.15031, val=2.15197, took 43.656 s\n",
      "  Validation Found 9035 of 10819, added 998 (eff 83.51%) (0.499 FP/event)\n"
     ]
    },
    {
     "data": {
      "application/vnd.jupyter.widget-view+json": {
       "model_id": "",
       "version_major": 2,
       "version_minor": 0
      },
      "text/plain": [
       "HBox(children=(FloatProgress(value=0.0, description='Training', layout=Layout(flex='2'), max=1125.0, style=Pro…"
      ]
     },
     "metadata": {},
     "output_type": "display_data"
    },
    {
     "name": "stdout",
     "output_type": "stream",
     "text": [
      "Epoch 273: train=2.15115, val=2.15248, took 43.682 s\n",
      "  Validation Found 9029 of 10819, added 995 (eff 83.46%) (0.497 FP/event)\n"
     ]
    },
    {
     "data": {
      "application/vnd.jupyter.widget-view+json": {
       "model_id": "",
       "version_major": 2,
       "version_minor": 0
      },
      "text/plain": [
       "HBox(children=(FloatProgress(value=0.0, description='Training', layout=Layout(flex='2'), max=1125.0, style=Pro…"
      ]
     },
     "metadata": {},
     "output_type": "display_data"
    },
    {
     "name": "stdout",
     "output_type": "stream",
     "text": [
      "Epoch 274: train=2.14897, val=2.15673, took 44.017 s\n",
      "  Validation Found 9035 of 10819, added 995 (eff 83.51%) (0.497 FP/event)\n"
     ]
    },
    {
     "data": {
      "application/vnd.jupyter.widget-view+json": {
       "model_id": "",
       "version_major": 2,
       "version_minor": 0
      },
      "text/plain": [
       "HBox(children=(FloatProgress(value=0.0, description='Training', layout=Layout(flex='2'), max=1125.0, style=Pro…"
      ]
     },
     "metadata": {},
     "output_type": "display_data"
    },
    {
     "name": "stdout",
     "output_type": "stream",
     "text": [
      "Epoch 275: train=2.15175, val=2.15176, took 44.151 s\n",
      "  Validation Found 9028 of 10819, added 996 (eff 83.45%) (0.498 FP/event)\n"
     ]
    },
    {
     "data": {
      "application/vnd.jupyter.widget-view+json": {
       "model_id": "",
       "version_major": 2,
       "version_minor": 0
      },
      "text/plain": [
       "HBox(children=(FloatProgress(value=0.0, description='Training', layout=Layout(flex='2'), max=1125.0, style=Pro…"
      ]
     },
     "metadata": {},
     "output_type": "display_data"
    },
    {
     "name": "stdout",
     "output_type": "stream",
     "text": [
      "Epoch 276: train=2.14988, val=2.15166, took 44.031 s\n",
      "  Validation Found 9026 of 10819, added 993 (eff 83.43%) (0.496 FP/event)\n"
     ]
    },
    {
     "data": {
      "application/vnd.jupyter.widget-view+json": {
       "model_id": "",
       "version_major": 2,
       "version_minor": 0
      },
      "text/plain": [
       "HBox(children=(FloatProgress(value=0.0, description='Training', layout=Layout(flex='2'), max=1125.0, style=Pro…"
      ]
     },
     "metadata": {},
     "output_type": "display_data"
    },
    {
     "name": "stdout",
     "output_type": "stream",
     "text": [
      "Epoch 277: train=2.15367, val=2.15276, took 43.75 s\n",
      "  Validation Found 9035 of 10819, added 986 (eff 83.51%) (0.493 FP/event)\n"
     ]
    },
    {
     "data": {
      "application/vnd.jupyter.widget-view+json": {
       "model_id": "",
       "version_major": 2,
       "version_minor": 0
      },
      "text/plain": [
       "HBox(children=(FloatProgress(value=0.0, description='Training', layout=Layout(flex='2'), max=1125.0, style=Pro…"
      ]
     },
     "metadata": {},
     "output_type": "display_data"
    },
    {
     "name": "stdout",
     "output_type": "stream",
     "text": [
      "Epoch 278: train=2.14811, val=2.1523, took 44.112 s\n",
      "  Validation Found 9036 of 10819, added 983 (eff 83.52%) (0.491 FP/event)\n"
     ]
    },
    {
     "data": {
      "application/vnd.jupyter.widget-view+json": {
       "model_id": "",
       "version_major": 2,
       "version_minor": 0
      },
      "text/plain": [
       "HBox(children=(FloatProgress(value=0.0, description='Training', layout=Layout(flex='2'), max=1125.0, style=Pro…"
      ]
     },
     "metadata": {},
     "output_type": "display_data"
    },
    {
     "name": "stdout",
     "output_type": "stream",
     "text": [
      "Epoch 279: train=2.1483, val=2.15456, took 43.675 s\n",
      "  Validation Found 9030 of 10819, added 987 (eff 83.46%) (0.493 FP/event)\n"
     ]
    },
    {
     "data": {
      "application/vnd.jupyter.widget-view+json": {
       "model_id": "",
       "version_major": 2,
       "version_minor": 0
      },
      "text/plain": [
       "HBox(children=(FloatProgress(value=0.0, description='Training', layout=Layout(flex='2'), max=1125.0, style=Pro…"
      ]
     },
     "metadata": {},
     "output_type": "display_data"
    },
    {
     "name": "stdout",
     "output_type": "stream",
     "text": [
      "Epoch 280: train=2.14882, val=2.1532, took 43.835 s\n",
      "  Validation Found 9031 of 10819, added 1008 (eff 83.47%) (0.504 FP/event)\n"
     ]
    },
    {
     "data": {
      "application/vnd.jupyter.widget-view+json": {
       "model_id": "",
       "version_major": 2,
       "version_minor": 0
      },
      "text/plain": [
       "HBox(children=(FloatProgress(value=0.0, description='Training', layout=Layout(flex='2'), max=1125.0, style=Pro…"
      ]
     },
     "metadata": {},
     "output_type": "display_data"
    },
    {
     "name": "stdout",
     "output_type": "stream",
     "text": [
      "Epoch 281: train=2.14829, val=2.15302, took 43.722 s\n",
      "  Validation Found 9030 of 10819, added 1000 (eff 83.46%) (0.5 FP/event)\n"
     ]
    },
    {
     "data": {
      "application/vnd.jupyter.widget-view+json": {
       "model_id": "",
       "version_major": 2,
       "version_minor": 0
      },
      "text/plain": [
       "HBox(children=(FloatProgress(value=0.0, description='Training', layout=Layout(flex='2'), max=1125.0, style=Pro…"
      ]
     },
     "metadata": {},
     "output_type": "display_data"
    },
    {
     "name": "stdout",
     "output_type": "stream",
     "text": [
      "Epoch 282: train=2.15252, val=2.15182, took 43.761 s\n",
      "  Validation Found 9027 of 10819, added 991 (eff 83.44%) (0.495 FP/event)\n"
     ]
    },
    {
     "data": {
      "application/vnd.jupyter.widget-view+json": {
       "model_id": "",
       "version_major": 2,
       "version_minor": 0
      },
      "text/plain": [
       "HBox(children=(FloatProgress(value=0.0, description='Training', layout=Layout(flex='2'), max=1125.0, style=Pro…"
      ]
     },
     "metadata": {},
     "output_type": "display_data"
    },
    {
     "name": "stdout",
     "output_type": "stream",
     "text": [
      "Epoch 283: train=2.14412, val=2.15632, took 43.869 s\n",
      "  Validation Found 9025 of 10819, added 998 (eff 83.42%) (0.499 FP/event)\n"
     ]
    },
    {
     "data": {
      "application/vnd.jupyter.widget-view+json": {
       "model_id": "",
       "version_major": 2,
       "version_minor": 0
      },
      "text/plain": [
       "HBox(children=(FloatProgress(value=0.0, description='Training', layout=Layout(flex='2'), max=1125.0, style=Pro…"
      ]
     },
     "metadata": {},
     "output_type": "display_data"
    },
    {
     "name": "stdout",
     "output_type": "stream",
     "text": [
      "Epoch 284: train=2.14947, val=2.15484, took 43.877 s\n",
      "  Validation Found 9032 of 10819, added 1000 (eff 83.48%) (0.5 FP/event)\n"
     ]
    },
    {
     "data": {
      "application/vnd.jupyter.widget-view+json": {
       "model_id": "",
       "version_major": 2,
       "version_minor": 0
      },
      "text/plain": [
       "HBox(children=(FloatProgress(value=0.0, description='Training', layout=Layout(flex='2'), max=1125.0, style=Pro…"
      ]
     },
     "metadata": {},
     "output_type": "display_data"
    },
    {
     "name": "stdout",
     "output_type": "stream",
     "text": [
      "Epoch 285: train=2.14637, val=2.15356, took 43.919 s\n",
      "  Validation Found 9030 of 10819, added 1003 (eff 83.46%) (0.501 FP/event)\n"
     ]
    },
    {
     "data": {
      "application/vnd.jupyter.widget-view+json": {
       "model_id": "",
       "version_major": 2,
       "version_minor": 0
      },
      "text/plain": [
       "HBox(children=(FloatProgress(value=0.0, description='Training', layout=Layout(flex='2'), max=1125.0, style=Pro…"
      ]
     },
     "metadata": {},
     "output_type": "display_data"
    },
    {
     "name": "stdout",
     "output_type": "stream",
     "text": [
      "Epoch 286: train=2.15054, val=2.15236, took 43.581 s\n",
      "  Validation Found 9035 of 10819, added 992 (eff 83.51%) (0.496 FP/event)\n"
     ]
    },
    {
     "data": {
      "application/vnd.jupyter.widget-view+json": {
       "model_id": "",
       "version_major": 2,
       "version_minor": 0
      },
      "text/plain": [
       "HBox(children=(FloatProgress(value=0.0, description='Training', layout=Layout(flex='2'), max=1125.0, style=Pro…"
      ]
     },
     "metadata": {},
     "output_type": "display_data"
    },
    {
     "name": "stdout",
     "output_type": "stream",
     "text": [
      "Epoch 287: train=2.1457, val=2.15327, took 43.725 s\n",
      "  Validation Found 9037 of 10819, added 1006 (eff 83.53%) (0.503 FP/event)\n"
     ]
    },
    {
     "data": {
      "application/vnd.jupyter.widget-view+json": {
       "model_id": "",
       "version_major": 2,
       "version_minor": 0
      },
      "text/plain": [
       "HBox(children=(FloatProgress(value=0.0, description='Training', layout=Layout(flex='2'), max=1125.0, style=Pro…"
      ]
     },
     "metadata": {},
     "output_type": "display_data"
    },
    {
     "name": "stdout",
     "output_type": "stream",
     "text": [
      "Epoch 288: train=2.14643, val=2.16341, took 43.763 s\n",
      "  Validation Found 9032 of 10819, added 1000 (eff 83.48%) (0.5 FP/event)\n"
     ]
    },
    {
     "data": {
      "application/vnd.jupyter.widget-view+json": {
       "model_id": "",
       "version_major": 2,
       "version_minor": 0
      },
      "text/plain": [
       "HBox(children=(FloatProgress(value=0.0, description='Training', layout=Layout(flex='2'), max=1125.0, style=Pro…"
      ]
     },
     "metadata": {},
     "output_type": "display_data"
    },
    {
     "name": "stdout",
     "output_type": "stream",
     "text": [
      "Epoch 289: train=2.14395, val=2.15126, took 43.614 s\n",
      "  Validation Found 9033 of 10819, added 990 (eff 83.49%) (0.495 FP/event)\n"
     ]
    },
    {
     "data": {
      "application/vnd.jupyter.widget-view+json": {
       "model_id": "",
       "version_major": 2,
       "version_minor": 0
      },
      "text/plain": [
       "HBox(children=(FloatProgress(value=0.0, description='Training', layout=Layout(flex='2'), max=1125.0, style=Pro…"
      ]
     },
     "metadata": {},
     "output_type": "display_data"
    },
    {
     "name": "stdout",
     "output_type": "stream",
     "text": [
      "Epoch 290: train=2.14774, val=2.15616, took 43.683 s\n",
      "  Validation Found 9039 of 10819, added 997 (eff 83.55%) (0.498 FP/event)\n"
     ]
    },
    {
     "data": {
      "application/vnd.jupyter.widget-view+json": {
       "model_id": "",
       "version_major": 2,
       "version_minor": 0
      },
      "text/plain": [
       "HBox(children=(FloatProgress(value=0.0, description='Training', layout=Layout(flex='2'), max=1125.0, style=Pro…"
      ]
     },
     "metadata": {},
     "output_type": "display_data"
    },
    {
     "name": "stdout",
     "output_type": "stream",
     "text": [
      "Epoch 291: train=2.15127, val=2.15536, took 44.24 s\n",
      "  Validation Found 9033 of 10819, added 985 (eff 83.49%) (0.492 FP/event)\n"
     ]
    },
    {
     "data": {
      "application/vnd.jupyter.widget-view+json": {
       "model_id": "",
       "version_major": 2,
       "version_minor": 0
      },
      "text/plain": [
       "HBox(children=(FloatProgress(value=0.0, description='Training', layout=Layout(flex='2'), max=1125.0, style=Pro…"
      ]
     },
     "metadata": {},
     "output_type": "display_data"
    },
    {
     "name": "stdout",
     "output_type": "stream",
     "text": [
      "Epoch 292: train=2.14944, val=2.15356, took 43.792 s\n",
      "  Validation Found 9034 of 10819, added 1000 (eff 83.50%) (0.5 FP/event)\n"
     ]
    },
    {
     "data": {
      "application/vnd.jupyter.widget-view+json": {
       "model_id": "",
       "version_major": 2,
       "version_minor": 0
      },
      "text/plain": [
       "HBox(children=(FloatProgress(value=0.0, description='Training', layout=Layout(flex='2'), max=1125.0, style=Pro…"
      ]
     },
     "metadata": {},
     "output_type": "display_data"
    },
    {
     "name": "stdout",
     "output_type": "stream",
     "text": [
      "Epoch 293: train=2.14888, val=2.15153, took 43.871 s\n",
      "  Validation Found 9039 of 10819, added 997 (eff 83.55%) (0.498 FP/event)\n"
     ]
    },
    {
     "data": {
      "application/vnd.jupyter.widget-view+json": {
       "model_id": "",
       "version_major": 2,
       "version_minor": 0
      },
      "text/plain": [
       "HBox(children=(FloatProgress(value=0.0, description='Training', layout=Layout(flex='2'), max=1125.0, style=Pro…"
      ]
     },
     "metadata": {},
     "output_type": "display_data"
    },
    {
     "name": "stdout",
     "output_type": "stream",
     "text": [
      "Epoch 294: train=2.14721, val=2.15298, took 43.615 s\n",
      "  Validation Found 9035 of 10819, added 992 (eff 83.51%) (0.496 FP/event)\n"
     ]
    },
    {
     "data": {
      "application/vnd.jupyter.widget-view+json": {
       "model_id": "",
       "version_major": 2,
       "version_minor": 0
      },
      "text/plain": [
       "HBox(children=(FloatProgress(value=0.0, description='Training', layout=Layout(flex='2'), max=1125.0, style=Pro…"
      ]
     },
     "metadata": {},
     "output_type": "display_data"
    },
    {
     "name": "stdout",
     "output_type": "stream",
     "text": [
      "Epoch 295: train=2.14735, val=2.15259, took 44.102 s\n",
      "  Validation Found 9030 of 10819, added 997 (eff 83.46%) (0.498 FP/event)\n"
     ]
    },
    {
     "data": {
      "application/vnd.jupyter.widget-view+json": {
       "model_id": "",
       "version_major": 2,
       "version_minor": 0
      },
      "text/plain": [
       "HBox(children=(FloatProgress(value=0.0, description='Training', layout=Layout(flex='2'), max=1125.0, style=Pro…"
      ]
     },
     "metadata": {},
     "output_type": "display_data"
    },
    {
     "name": "stdout",
     "output_type": "stream",
     "text": [
      "Epoch 296: train=2.14488, val=2.1564, took 43.609 s\n",
      "  Validation Found 9031 of 10819, added 992 (eff 83.47%) (0.496 FP/event)\n"
     ]
    },
    {
     "data": {
      "application/vnd.jupyter.widget-view+json": {
       "model_id": "",
       "version_major": 2,
       "version_minor": 0
      },
      "text/plain": [
       "HBox(children=(FloatProgress(value=0.0, description='Training', layout=Layout(flex='2'), max=1125.0, style=Pro…"
      ]
     },
     "metadata": {},
     "output_type": "display_data"
    },
    {
     "name": "stdout",
     "output_type": "stream",
     "text": [
      "Epoch 297: train=2.14895, val=2.1596, took 43.685 s\n",
      "  Validation Found 9024 of 10819, added 994 (eff 83.41%) (0.497 FP/event)\n"
     ]
    },
    {
     "data": {
      "application/vnd.jupyter.widget-view+json": {
       "model_id": "",
       "version_major": 2,
       "version_minor": 0
      },
      "text/plain": [
       "HBox(children=(FloatProgress(value=0.0, description='Training', layout=Layout(flex='2'), max=1125.0, style=Pro…"
      ]
     },
     "metadata": {},
     "output_type": "display_data"
    },
    {
     "name": "stdout",
     "output_type": "stream",
     "text": [
      "Epoch 298: train=2.1478, val=2.15219, took 43.943 s\n",
      "  Validation Found 9035 of 10819, added 989 (eff 83.51%) (0.494 FP/event)\n"
     ]
    },
    {
     "data": {
      "application/vnd.jupyter.widget-view+json": {
       "model_id": "",
       "version_major": 2,
       "version_minor": 0
      },
      "text/plain": [
       "HBox(children=(FloatProgress(value=0.0, description='Training', layout=Layout(flex='2'), max=1125.0, style=Pro…"
      ]
     },
     "metadata": {},
     "output_type": "display_data"
    },
    {
     "name": "stdout",
     "output_type": "stream",
     "text": [
      "Epoch 299: train=2.14801, val=2.15879, took 43.662 s\n",
      "  Validation Found 9034 of 10819, added 996 (eff 83.50%) (0.498 FP/event)\n"
     ]
    },
    {
     "data": {
      "application/vnd.jupyter.widget-view+json": {
       "model_id": "",
       "version_major": 2,
       "version_minor": 0
      },
      "text/plain": [
       "HBox(children=(FloatProgress(value=0.0, description='Training', layout=Layout(flex='2'), max=1125.0, style=Pro…"
      ]
     },
     "metadata": {},
     "output_type": "display_data"
    },
    {
     "name": "stdout",
     "output_type": "stream",
     "text": [
      "Epoch 300: train=2.14489, val=2.15165, took 43.891 s\n",
      "  Validation Found 9037 of 10819, added 1003 (eff 83.53%) (0.501 FP/event)\n"
     ]
    },
    {
     "data": {
      "application/vnd.jupyter.widget-view+json": {
       "model_id": "",
       "version_major": 2,
       "version_minor": 0
      },
      "text/plain": [
       "HBox(children=(FloatProgress(value=0.0, description='Training', layout=Layout(flex='2'), max=1125.0, style=Pro…"
      ]
     },
     "metadata": {},
     "output_type": "display_data"
    },
    {
     "name": "stdout",
     "output_type": "stream",
     "text": [
      "Epoch 301: train=2.14789, val=2.15117, took 43.837 s\n",
      "  Validation Found 9035 of 10819, added 980 (eff 83.51%) (0.49 FP/event)\n"
     ]
    },
    {
     "data": {
      "application/vnd.jupyter.widget-view+json": {
       "model_id": "",
       "version_major": 2,
       "version_minor": 0
      },
      "text/plain": [
       "HBox(children=(FloatProgress(value=0.0, description='Training', layout=Layout(flex='2'), max=1125.0, style=Pro…"
      ]
     },
     "metadata": {},
     "output_type": "display_data"
    },
    {
     "name": "stdout",
     "output_type": "stream",
     "text": [
      "Epoch 302: train=2.14293, val=2.15357, took 43.624 s\n",
      "  Validation Found 9033 of 10819, added 1000 (eff 83.49%) (0.5 FP/event)\n"
     ]
    },
    {
     "data": {
      "application/vnd.jupyter.widget-view+json": {
       "model_id": "",
       "version_major": 2,
       "version_minor": 0
      },
      "text/plain": [
       "HBox(children=(FloatProgress(value=0.0, description='Training', layout=Layout(flex='2'), max=1125.0, style=Pro…"
      ]
     },
     "metadata": {},
     "output_type": "display_data"
    },
    {
     "name": "stdout",
     "output_type": "stream",
     "text": [
      "Epoch 303: train=2.14532, val=2.15268, took 43.874 s\n",
      "  Validation Found 9034 of 10819, added 971 (eff 83.50%) (0.485 FP/event)\n"
     ]
    },
    {
     "data": {
      "application/vnd.jupyter.widget-view+json": {
       "model_id": "",
       "version_major": 2,
       "version_minor": 0
      },
      "text/plain": [
       "HBox(children=(FloatProgress(value=0.0, description='Training', layout=Layout(flex='2'), max=1125.0, style=Pro…"
      ]
     },
     "metadata": {},
     "output_type": "display_data"
    },
    {
     "name": "stdout",
     "output_type": "stream",
     "text": [
      "Epoch 304: train=2.14692, val=2.15123, took 43.685 s\n",
      "  Validation Found 9028 of 10819, added 981 (eff 83.45%) (0.49 FP/event)\n"
     ]
    },
    {
     "data": {
      "application/vnd.jupyter.widget-view+json": {
       "model_id": "",
       "version_major": 2,
       "version_minor": 0
      },
      "text/plain": [
       "HBox(children=(FloatProgress(value=0.0, description='Training', layout=Layout(flex='2'), max=1125.0, style=Pro…"
      ]
     },
     "metadata": {},
     "output_type": "display_data"
    },
    {
     "name": "stdout",
     "output_type": "stream",
     "text": [
      "Epoch 305: train=2.147, val=2.15346, took 44.011 s\n",
      "  Validation Found 9037 of 10819, added 977 (eff 83.53%) (0.488 FP/event)\n"
     ]
    },
    {
     "data": {
      "application/vnd.jupyter.widget-view+json": {
       "model_id": "",
       "version_major": 2,
       "version_minor": 0
      },
      "text/plain": [
       "HBox(children=(FloatProgress(value=0.0, description='Training', layout=Layout(flex='2'), max=1125.0, style=Pro…"
      ]
     },
     "metadata": {},
     "output_type": "display_data"
    },
    {
     "name": "stdout",
     "output_type": "stream",
     "text": [
      "Epoch 306: train=2.14529, val=2.15119, took 43.66 s\n",
      "  Validation Found 9033 of 10819, added 983 (eff 83.49%) (0.491 FP/event)\n"
     ]
    },
    {
     "data": {
      "application/vnd.jupyter.widget-view+json": {
       "model_id": "",
       "version_major": 2,
       "version_minor": 0
      },
      "text/plain": [
       "HBox(children=(FloatProgress(value=0.0, description='Training', layout=Layout(flex='2'), max=1125.0, style=Pro…"
      ]
     },
     "metadata": {},
     "output_type": "display_data"
    },
    {
     "name": "stdout",
     "output_type": "stream",
     "text": [
      "Epoch 307: train=2.14815, val=2.15127, took 43.796 s\n",
      "  Validation Found 9023 of 10819, added 996 (eff 83.40%) (0.498 FP/event)\n"
     ]
    },
    {
     "data": {
      "application/vnd.jupyter.widget-view+json": {
       "model_id": "",
       "version_major": 2,
       "version_minor": 0
      },
      "text/plain": [
       "HBox(children=(FloatProgress(value=0.0, description='Training', layout=Layout(flex='2'), max=1125.0, style=Pro…"
      ]
     },
     "metadata": {},
     "output_type": "display_data"
    },
    {
     "name": "stdout",
     "output_type": "stream",
     "text": [
      "Epoch 308: train=2.14692, val=2.15084, took 44.104 s\n",
      "  Validation Found 9035 of 10819, added 985 (eff 83.51%) (0.492 FP/event)\n"
     ]
    },
    {
     "data": {
      "application/vnd.jupyter.widget-view+json": {
       "model_id": "",
       "version_major": 2,
       "version_minor": 0
      },
      "text/plain": [
       "HBox(children=(FloatProgress(value=0.0, description='Training', layout=Layout(flex='2'), max=1125.0, style=Pro…"
      ]
     },
     "metadata": {},
     "output_type": "display_data"
    },
    {
     "name": "stdout",
     "output_type": "stream",
     "text": [
      "Epoch 309: train=2.14197, val=2.15893, took 44.192 s\n",
      "  Validation Found 9028 of 10819, added 1000 (eff 83.45%) (0.5 FP/event)\n"
     ]
    },
    {
     "data": {
      "application/vnd.jupyter.widget-view+json": {
       "model_id": "",
       "version_major": 2,
       "version_minor": 0
      },
      "text/plain": [
       "HBox(children=(FloatProgress(value=0.0, description='Training', layout=Layout(flex='2'), max=1125.0, style=Pro…"
      ]
     },
     "metadata": {},
     "output_type": "display_data"
    },
    {
     "name": "stdout",
     "output_type": "stream",
     "text": [
      "Epoch 310: train=2.14569, val=2.15207, took 43.936 s\n",
      "  Validation Found 9030 of 10819, added 1003 (eff 83.46%) (0.501 FP/event)\n"
     ]
    },
    {
     "data": {
      "application/vnd.jupyter.widget-view+json": {
       "model_id": "",
       "version_major": 2,
       "version_minor": 0
      },
      "text/plain": [
       "HBox(children=(FloatProgress(value=0.0, description='Training', layout=Layout(flex='2'), max=1125.0, style=Pro…"
      ]
     },
     "metadata": {},
     "output_type": "display_data"
    },
    {
     "name": "stdout",
     "output_type": "stream",
     "text": [
      "Epoch 311: train=2.14673, val=2.15047, took 43.691 s\n",
      "  Validation Found 9029 of 10819, added 1003 (eff 83.46%) (0.501 FP/event)\n"
     ]
    },
    {
     "data": {
      "application/vnd.jupyter.widget-view+json": {
       "model_id": "",
       "version_major": 2,
       "version_minor": 0
      },
      "text/plain": [
       "HBox(children=(FloatProgress(value=0.0, description='Training', layout=Layout(flex='2'), max=1125.0, style=Pro…"
      ]
     },
     "metadata": {},
     "output_type": "display_data"
    },
    {
     "name": "stdout",
     "output_type": "stream",
     "text": [
      "Epoch 312: train=2.14092, val=2.14992, took 43.835 s\n",
      "  Validation Found 9034 of 10819, added 998 (eff 83.50%) (0.499 FP/event)\n"
     ]
    },
    {
     "data": {
      "application/vnd.jupyter.widget-view+json": {
       "model_id": "",
       "version_major": 2,
       "version_minor": 0
      },
      "text/plain": [
       "HBox(children=(FloatProgress(value=0.0, description='Training', layout=Layout(flex='2'), max=1125.0, style=Pro…"
      ]
     },
     "metadata": {},
     "output_type": "display_data"
    },
    {
     "name": "stdout",
     "output_type": "stream",
     "text": [
      "Epoch 313: train=2.14437, val=2.15031, took 43.698 s\n",
      "  Validation Found 9029 of 10819, added 989 (eff 83.46%) (0.494 FP/event)\n"
     ]
    },
    {
     "data": {
      "application/vnd.jupyter.widget-view+json": {
       "model_id": "",
       "version_major": 2,
       "version_minor": 0
      },
      "text/plain": [
       "HBox(children=(FloatProgress(value=0.0, description='Training', layout=Layout(flex='2'), max=1125.0, style=Pro…"
      ]
     },
     "metadata": {},
     "output_type": "display_data"
    },
    {
     "name": "stdout",
     "output_type": "stream",
     "text": [
      "Epoch 314: train=2.14907, val=2.1519, took 44.028 s\n",
      "  Validation Found 9025 of 10819, added 998 (eff 83.42%) (0.499 FP/event)\n"
     ]
    },
    {
     "data": {
      "application/vnd.jupyter.widget-view+json": {
       "model_id": "",
       "version_major": 2,
       "version_minor": 0
      },
      "text/plain": [
       "HBox(children=(FloatProgress(value=0.0, description='Training', layout=Layout(flex='2'), max=1125.0, style=Pro…"
      ]
     },
     "metadata": {},
     "output_type": "display_data"
    },
    {
     "name": "stdout",
     "output_type": "stream",
     "text": [
      "Epoch 315: train=2.14511, val=2.15055, took 43.609 s\n",
      "  Validation Found 9032 of 10819, added 991 (eff 83.48%) (0.495 FP/event)\n"
     ]
    },
    {
     "data": {
      "application/vnd.jupyter.widget-view+json": {
       "model_id": "",
       "version_major": 2,
       "version_minor": 0
      },
      "text/plain": [
       "HBox(children=(FloatProgress(value=0.0, description='Training', layout=Layout(flex='2'), max=1125.0, style=Pro…"
      ]
     },
     "metadata": {},
     "output_type": "display_data"
    },
    {
     "name": "stdout",
     "output_type": "stream",
     "text": [
      "Epoch 316: train=2.14467, val=2.15491, took 43.77 s\n",
      "  Validation Found 9018 of 10819, added 1007 (eff 83.35%) (0.503 FP/event)\n"
     ]
    },
    {
     "data": {
      "application/vnd.jupyter.widget-view+json": {
       "model_id": "",
       "version_major": 2,
       "version_minor": 0
      },
      "text/plain": [
       "HBox(children=(FloatProgress(value=0.0, description='Training', layout=Layout(flex='2'), max=1125.0, style=Pro…"
      ]
     },
     "metadata": {},
     "output_type": "display_data"
    },
    {
     "name": "stdout",
     "output_type": "stream",
     "text": [
      "Epoch 317: train=2.14349, val=2.15045, took 43.556 s\n",
      "  Validation Found 9035 of 10819, added 998 (eff 83.51%) (0.499 FP/event)\n"
     ]
    },
    {
     "data": {
      "application/vnd.jupyter.widget-view+json": {
       "model_id": "",
       "version_major": 2,
       "version_minor": 0
      },
      "text/plain": [
       "HBox(children=(FloatProgress(value=0.0, description='Training', layout=Layout(flex='2'), max=1125.0, style=Pro…"
      ]
     },
     "metadata": {},
     "output_type": "display_data"
    },
    {
     "name": "stdout",
     "output_type": "stream",
     "text": [
      "Epoch 318: train=2.14257, val=2.14984, took 43.826 s\n",
      "  Validation Found 9041 of 10819, added 995 (eff 83.57%) (0.497 FP/event)\n"
     ]
    },
    {
     "data": {
      "application/vnd.jupyter.widget-view+json": {
       "model_id": "",
       "version_major": 2,
       "version_minor": 0
      },
      "text/plain": [
       "HBox(children=(FloatProgress(value=0.0, description='Training', layout=Layout(flex='2'), max=1125.0, style=Pro…"
      ]
     },
     "metadata": {},
     "output_type": "display_data"
    },
    {
     "name": "stdout",
     "output_type": "stream",
     "text": [
      "Epoch 319: train=2.14555, val=2.15273, took 43.829 s\n",
      "  Validation Found 9039 of 10819, added 988 (eff 83.55%) (0.494 FP/event)\n"
     ]
    },
    {
     "data": {
      "application/vnd.jupyter.widget-view+json": {
       "model_id": "",
       "version_major": 2,
       "version_minor": 0
      },
      "text/plain": [
       "HBox(children=(FloatProgress(value=0.0, description='Training', layout=Layout(flex='2'), max=1125.0, style=Pro…"
      ]
     },
     "metadata": {},
     "output_type": "display_data"
    },
    {
     "name": "stdout",
     "output_type": "stream",
     "text": [
      "Epoch 320: train=2.14296, val=2.14928, took 43.918 s\n",
      "  Validation Found 9029 of 10819, added 996 (eff 83.46%) (0.498 FP/event)\n"
     ]
    },
    {
     "data": {
      "application/vnd.jupyter.widget-view+json": {
       "model_id": "",
       "version_major": 2,
       "version_minor": 0
      },
      "text/plain": [
       "HBox(children=(FloatProgress(value=0.0, description='Training', layout=Layout(flex='2'), max=1125.0, style=Pro…"
      ]
     },
     "metadata": {},
     "output_type": "display_data"
    },
    {
     "name": "stdout",
     "output_type": "stream",
     "text": [
      "Epoch 321: train=2.14466, val=2.14983, took 43.577 s\n",
      "  Validation Found 9034 of 10819, added 988 (eff 83.50%) (0.494 FP/event)\n"
     ]
    },
    {
     "data": {
      "application/vnd.jupyter.widget-view+json": {
       "model_id": "",
       "version_major": 2,
       "version_minor": 0
      },
      "text/plain": [
       "HBox(children=(FloatProgress(value=0.0, description='Training', layout=Layout(flex='2'), max=1125.0, style=Pro…"
      ]
     },
     "metadata": {},
     "output_type": "display_data"
    },
    {
     "name": "stdout",
     "output_type": "stream",
     "text": [
      "Epoch 322: train=2.14455, val=2.14964, took 43.958 s\n",
      "  Validation Found 9041 of 10819, added 989 (eff 83.57%) (0.494 FP/event)\n"
     ]
    },
    {
     "data": {
      "application/vnd.jupyter.widget-view+json": {
       "model_id": "",
       "version_major": 2,
       "version_minor": 0
      },
      "text/plain": [
       "HBox(children=(FloatProgress(value=0.0, description='Training', layout=Layout(flex='2'), max=1125.0, style=Pro…"
      ]
     },
     "metadata": {},
     "output_type": "display_data"
    },
    {
     "name": "stdout",
     "output_type": "stream",
     "text": [
      "Epoch 323: train=2.14121, val=2.14953, took 43.918 s\n",
      "  Validation Found 9038 of 10819, added 985 (eff 83.54%) (0.492 FP/event)\n"
     ]
    },
    {
     "data": {
      "application/vnd.jupyter.widget-view+json": {
       "model_id": "",
       "version_major": 2,
       "version_minor": 0
      },
      "text/plain": [
       "HBox(children=(FloatProgress(value=0.0, description='Training', layout=Layout(flex='2'), max=1125.0, style=Pro…"
      ]
     },
     "metadata": {},
     "output_type": "display_data"
    },
    {
     "name": "stdout",
     "output_type": "stream",
     "text": [
      "Epoch 324: train=2.14548, val=2.15056, took 43.815 s\n",
      "  Validation Found 9029 of 10819, added 995 (eff 83.46%) (0.497 FP/event)\n"
     ]
    },
    {
     "data": {
      "application/vnd.jupyter.widget-view+json": {
       "model_id": "",
       "version_major": 2,
       "version_minor": 0
      },
      "text/plain": [
       "HBox(children=(FloatProgress(value=0.0, description='Training', layout=Layout(flex='2'), max=1125.0, style=Pro…"
      ]
     },
     "metadata": {},
     "output_type": "display_data"
    },
    {
     "name": "stdout",
     "output_type": "stream",
     "text": [
      "Epoch 325: train=2.14079, val=2.14957, took 43.883 s\n",
      "  Validation Found 9031 of 10819, added 984 (eff 83.47%) (0.492 FP/event)\n"
     ]
    },
    {
     "data": {
      "application/vnd.jupyter.widget-view+json": {
       "model_id": "",
       "version_major": 2,
       "version_minor": 0
      },
      "text/plain": [
       "HBox(children=(FloatProgress(value=0.0, description='Training', layout=Layout(flex='2'), max=1125.0, style=Pro…"
      ]
     },
     "metadata": {},
     "output_type": "display_data"
    },
    {
     "name": "stdout",
     "output_type": "stream",
     "text": [
      "Epoch 326: train=2.14373, val=2.14975, took 44.233 s\n",
      "  Validation Found 9030 of 10819, added 998 (eff 83.46%) (0.499 FP/event)\n"
     ]
    },
    {
     "data": {
      "application/vnd.jupyter.widget-view+json": {
       "model_id": "",
       "version_major": 2,
       "version_minor": 0
      },
      "text/plain": [
       "HBox(children=(FloatProgress(value=0.0, description='Training', layout=Layout(flex='2'), max=1125.0, style=Pro…"
      ]
     },
     "metadata": {},
     "output_type": "display_data"
    },
    {
     "name": "stdout",
     "output_type": "stream",
     "text": [
      "Epoch 327: train=2.14368, val=2.15078, took 43.795 s\n",
      "  Validation Found 9032 of 10819, added 978 (eff 83.48%) (0.489 FP/event)\n"
     ]
    },
    {
     "data": {
      "application/vnd.jupyter.widget-view+json": {
       "model_id": "",
       "version_major": 2,
       "version_minor": 0
      },
      "text/plain": [
       "HBox(children=(FloatProgress(value=0.0, description='Training', layout=Layout(flex='2'), max=1125.0, style=Pro…"
      ]
     },
     "metadata": {},
     "output_type": "display_data"
    },
    {
     "name": "stdout",
     "output_type": "stream",
     "text": [
      "Epoch 328: train=2.14193, val=2.14991, took 44.366 s\n",
      "  Validation Found 9030 of 10819, added 1001 (eff 83.46%) (0.5 FP/event)\n"
     ]
    },
    {
     "data": {
      "application/vnd.jupyter.widget-view+json": {
       "model_id": "",
       "version_major": 2,
       "version_minor": 0
      },
      "text/plain": [
       "HBox(children=(FloatProgress(value=0.0, description='Training', layout=Layout(flex='2'), max=1125.0, style=Pro…"
      ]
     },
     "metadata": {},
     "output_type": "display_data"
    },
    {
     "name": "stdout",
     "output_type": "stream",
     "text": [
      "Epoch 329: train=2.14614, val=2.15033, took 43.683 s\n",
      "  Validation Found 9036 of 10819, added 984 (eff 83.52%) (0.492 FP/event)\n"
     ]
    },
    {
     "data": {
      "application/vnd.jupyter.widget-view+json": {
       "model_id": "",
       "version_major": 2,
       "version_minor": 0
      },
      "text/plain": [
       "HBox(children=(FloatProgress(value=0.0, description='Training', layout=Layout(flex='2'), max=1125.0, style=Pro…"
      ]
     },
     "metadata": {},
     "output_type": "display_data"
    },
    {
     "name": "stdout",
     "output_type": "stream",
     "text": [
      "Epoch 330: train=2.1436, val=2.15136, took 43.848 s\n",
      "  Validation Found 9033 of 10819, added 1008 (eff 83.49%) (0.504 FP/event)\n"
     ]
    },
    {
     "data": {
      "application/vnd.jupyter.widget-view+json": {
       "model_id": "",
       "version_major": 2,
       "version_minor": 0
      },
      "text/plain": [
       "HBox(children=(FloatProgress(value=0.0, description='Training', layout=Layout(flex='2'), max=1125.0, style=Pro…"
      ]
     },
     "metadata": {},
     "output_type": "display_data"
    },
    {
     "name": "stdout",
     "output_type": "stream",
     "text": [
      "Epoch 331: train=2.14039, val=2.15256, took 44.003 s\n",
      "  Validation Found 9031 of 10819, added 1006 (eff 83.47%) (0.503 FP/event)\n"
     ]
    },
    {
     "data": {
      "application/vnd.jupyter.widget-view+json": {
       "model_id": "",
       "version_major": 2,
       "version_minor": 0
      },
      "text/plain": [
       "HBox(children=(FloatProgress(value=0.0, description='Training', layout=Layout(flex='2'), max=1125.0, style=Pro…"
      ]
     },
     "metadata": {},
     "output_type": "display_data"
    },
    {
     "name": "stdout",
     "output_type": "stream",
     "text": [
      "Epoch 332: train=2.14084, val=2.15089, took 43.921 s\n",
      "  Validation Found 9031 of 10819, added 998 (eff 83.47%) (0.499 FP/event)\n"
     ]
    },
    {
     "data": {
      "application/vnd.jupyter.widget-view+json": {
       "model_id": "",
       "version_major": 2,
       "version_minor": 0
      },
      "text/plain": [
       "HBox(children=(FloatProgress(value=0.0, description='Training', layout=Layout(flex='2'), max=1125.0, style=Pro…"
      ]
     },
     "metadata": {},
     "output_type": "display_data"
    },
    {
     "name": "stdout",
     "output_type": "stream",
     "text": [
      "Epoch 333: train=2.14275, val=2.1494, took 43.889 s\n",
      "  Validation Found 9038 of 10819, added 998 (eff 83.54%) (0.499 FP/event)\n"
     ]
    },
    {
     "data": {
      "application/vnd.jupyter.widget-view+json": {
       "model_id": "",
       "version_major": 2,
       "version_minor": 0
      },
      "text/plain": [
       "HBox(children=(FloatProgress(value=0.0, description='Training', layout=Layout(flex='2'), max=1125.0, style=Pro…"
      ]
     },
     "metadata": {},
     "output_type": "display_data"
    },
    {
     "name": "stdout",
     "output_type": "stream",
     "text": [
      "Epoch 334: train=2.145, val=2.14951, took 43.966 s\n",
      "  Validation Found 9037 of 10819, added 980 (eff 83.53%) (0.49 FP/event)\n"
     ]
    },
    {
     "data": {
      "application/vnd.jupyter.widget-view+json": {
       "model_id": "",
       "version_major": 2,
       "version_minor": 0
      },
      "text/plain": [
       "HBox(children=(FloatProgress(value=0.0, description='Training', layout=Layout(flex='2'), max=1125.0, style=Pro…"
      ]
     },
     "metadata": {},
     "output_type": "display_data"
    },
    {
     "name": "stdout",
     "output_type": "stream",
     "text": [
      "Epoch 335: train=2.14377, val=2.15158, took 43.869 s\n",
      "  Validation Found 9020 of 10819, added 1000 (eff 83.37%) (0.5 FP/event)\n"
     ]
    },
    {
     "data": {
      "application/vnd.jupyter.widget-view+json": {
       "model_id": "",
       "version_major": 2,
       "version_minor": 0
      },
      "text/plain": [
       "HBox(children=(FloatProgress(value=0.0, description='Training', layout=Layout(flex='2'), max=1125.0, style=Pro…"
      ]
     },
     "metadata": {},
     "output_type": "display_data"
    },
    {
     "name": "stdout",
     "output_type": "stream",
     "text": [
      "Epoch 336: train=2.14531, val=2.14921, took 44.017 s\n",
      "  Validation Found 9024 of 10819, added 986 (eff 83.41%) (0.493 FP/event)\n"
     ]
    },
    {
     "data": {
      "application/vnd.jupyter.widget-view+json": {
       "model_id": "",
       "version_major": 2,
       "version_minor": 0
      },
      "text/plain": [
       "HBox(children=(FloatProgress(value=0.0, description='Training', layout=Layout(flex='2'), max=1125.0, style=Pro…"
      ]
     },
     "metadata": {},
     "output_type": "display_data"
    },
    {
     "name": "stdout",
     "output_type": "stream",
     "text": [
      "Epoch 337: train=2.14116, val=2.15045, took 43.744 s\n",
      "  Validation Found 9024 of 10819, added 1004 (eff 83.41%) (0.502 FP/event)\n"
     ]
    },
    {
     "data": {
      "application/vnd.jupyter.widget-view+json": {
       "model_id": "",
       "version_major": 2,
       "version_minor": 0
      },
      "text/plain": [
       "HBox(children=(FloatProgress(value=0.0, description='Training', layout=Layout(flex='2'), max=1125.0, style=Pro…"
      ]
     },
     "metadata": {},
     "output_type": "display_data"
    },
    {
     "name": "stdout",
     "output_type": "stream",
     "text": [
      "Epoch 338: train=2.13825, val=2.15009, took 44.337 s\n",
      "  Validation Found 9024 of 10819, added 994 (eff 83.41%) (0.497 FP/event)\n"
     ]
    },
    {
     "data": {
      "application/vnd.jupyter.widget-view+json": {
       "model_id": "",
       "version_major": 2,
       "version_minor": 0
      },
      "text/plain": [
       "HBox(children=(FloatProgress(value=0.0, description='Training', layout=Layout(flex='2'), max=1125.0, style=Pro…"
      ]
     },
     "metadata": {},
     "output_type": "display_data"
    },
    {
     "name": "stdout",
     "output_type": "stream",
     "text": [
      "Epoch 339: train=2.13799, val=2.1517, took 43.922 s\n",
      "  Validation Found 9024 of 10819, added 997 (eff 83.41%) (0.498 FP/event)\n"
     ]
    },
    {
     "data": {
      "application/vnd.jupyter.widget-view+json": {
       "model_id": "",
       "version_major": 2,
       "version_minor": 0
      },
      "text/plain": [
       "HBox(children=(FloatProgress(value=0.0, description='Training', layout=Layout(flex='2'), max=1125.0, style=Pro…"
      ]
     },
     "metadata": {},
     "output_type": "display_data"
    },
    {
     "name": "stdout",
     "output_type": "stream",
     "text": [
      "Epoch 340: train=2.14214, val=2.149, took 43.631 s\n",
      "  Validation Found 9028 of 10819, added 992 (eff 83.45%) (0.496 FP/event)\n"
     ]
    },
    {
     "data": {
      "application/vnd.jupyter.widget-view+json": {
       "model_id": "",
       "version_major": 2,
       "version_minor": 0
      },
      "text/plain": [
       "HBox(children=(FloatProgress(value=0.0, description='Training', layout=Layout(flex='2'), max=1125.0, style=Pro…"
      ]
     },
     "metadata": {},
     "output_type": "display_data"
    },
    {
     "name": "stdout",
     "output_type": "stream",
     "text": [
      "Epoch 341: train=2.14468, val=2.14852, took 43.874 s\n",
      "  Validation Found 9034 of 10819, added 991 (eff 83.50%) (0.495 FP/event)\n"
     ]
    },
    {
     "data": {
      "application/vnd.jupyter.widget-view+json": {
       "model_id": "",
       "version_major": 2,
       "version_minor": 0
      },
      "text/plain": [
       "HBox(children=(FloatProgress(value=0.0, description='Training', layout=Layout(flex='2'), max=1125.0, style=Pro…"
      ]
     },
     "metadata": {},
     "output_type": "display_data"
    },
    {
     "name": "stdout",
     "output_type": "stream",
     "text": [
      "Epoch 342: train=2.14288, val=2.15036, took 43.815 s\n",
      "  Validation Found 9037 of 10819, added 995 (eff 83.53%) (0.497 FP/event)\n"
     ]
    },
    {
     "data": {
      "application/vnd.jupyter.widget-view+json": {
       "model_id": "",
       "version_major": 2,
       "version_minor": 0
      },
      "text/plain": [
       "HBox(children=(FloatProgress(value=0.0, description='Training', layout=Layout(flex='2'), max=1125.0, style=Pro…"
      ]
     },
     "metadata": {},
     "output_type": "display_data"
    },
    {
     "name": "stdout",
     "output_type": "stream",
     "text": [
      "Epoch 343: train=2.14151, val=2.14986, took 43.746 s\n",
      "  Validation Found 9037 of 10819, added 998 (eff 83.53%) (0.499 FP/event)\n"
     ]
    },
    {
     "data": {
      "application/vnd.jupyter.widget-view+json": {
       "model_id": "",
       "version_major": 2,
       "version_minor": 0
      },
      "text/plain": [
       "HBox(children=(FloatProgress(value=0.0, description='Training', layout=Layout(flex='2'), max=1125.0, style=Pro…"
      ]
     },
     "metadata": {},
     "output_type": "display_data"
    },
    {
     "name": "stdout",
     "output_type": "stream",
     "text": [
      "Epoch 344: train=2.14041, val=2.15072, took 43.801 s\n",
      "  Validation Found 9030 of 10819, added 1002 (eff 83.46%) (0.501 FP/event)\n"
     ]
    },
    {
     "data": {
      "application/vnd.jupyter.widget-view+json": {
       "model_id": "",
       "version_major": 2,
       "version_minor": 0
      },
      "text/plain": [
       "HBox(children=(FloatProgress(value=0.0, description='Training', layout=Layout(flex='2'), max=1125.0, style=Pro…"
      ]
     },
     "metadata": {},
     "output_type": "display_data"
    },
    {
     "name": "stdout",
     "output_type": "stream",
     "text": [
      "Epoch 345: train=2.14485, val=2.15836, took 43.868 s\n",
      "  Validation Found 9028 of 10819, added 1002 (eff 83.45%) (0.501 FP/event)\n"
     ]
    },
    {
     "data": {
      "application/vnd.jupyter.widget-view+json": {
       "model_id": "",
       "version_major": 2,
       "version_minor": 0
      },
      "text/plain": [
       "HBox(children=(FloatProgress(value=0.0, description='Training', layout=Layout(flex='2'), max=1125.0, style=Pro…"
      ]
     },
     "metadata": {},
     "output_type": "display_data"
    },
    {
     "name": "stdout",
     "output_type": "stream",
     "text": [
      "Epoch 346: train=2.13949, val=2.15063, took 43.901 s\n",
      "  Validation Found 9031 of 10819, added 988 (eff 83.47%) (0.494 FP/event)\n"
     ]
    },
    {
     "data": {
      "application/vnd.jupyter.widget-view+json": {
       "model_id": "",
       "version_major": 2,
       "version_minor": 0
      },
      "text/plain": [
       "HBox(children=(FloatProgress(value=0.0, description='Training', layout=Layout(flex='2'), max=1125.0, style=Pro…"
      ]
     },
     "metadata": {},
     "output_type": "display_data"
    },
    {
     "name": "stdout",
     "output_type": "stream",
     "text": [
      "Epoch 347: train=2.13684, val=2.14908, took 43.972 s\n",
      "  Validation Found 9031 of 10819, added 978 (eff 83.47%) (0.489 FP/event)\n"
     ]
    },
    {
     "data": {
      "application/vnd.jupyter.widget-view+json": {
       "model_id": "",
       "version_major": 2,
       "version_minor": 0
      },
      "text/plain": [
       "HBox(children=(FloatProgress(value=0.0, description='Training', layout=Layout(flex='2'), max=1125.0, style=Pro…"
      ]
     },
     "metadata": {},
     "output_type": "display_data"
    },
    {
     "name": "stdout",
     "output_type": "stream",
     "text": [
      "Epoch 348: train=2.13675, val=2.15076, took 43.975 s\n",
      "  Validation Found 9024 of 10819, added 976 (eff 83.41%) (0.488 FP/event)\n"
     ]
    },
    {
     "data": {
      "application/vnd.jupyter.widget-view+json": {
       "model_id": "",
       "version_major": 2,
       "version_minor": 0
      },
      "text/plain": [
       "HBox(children=(FloatProgress(value=0.0, description='Training', layout=Layout(flex='2'), max=1125.0, style=Pro…"
      ]
     },
     "metadata": {},
     "output_type": "display_data"
    },
    {
     "name": "stdout",
     "output_type": "stream",
     "text": [
      "Epoch 349: train=2.13784, val=2.14884, took 44.111 s\n",
      "  Validation Found 9023 of 10819, added 979 (eff 83.40%) (0.489 FP/event)\n"
     ]
    },
    {
     "data": {
      "application/vnd.jupyter.widget-view+json": {
       "model_id": "",
       "version_major": 2,
       "version_minor": 0
      },
      "text/plain": [
       "HBox(children=(FloatProgress(value=0.0, description='Training', layout=Layout(flex='2'), max=1125.0, style=Pro…"
      ]
     },
     "metadata": {},
     "output_type": "display_data"
    },
    {
     "name": "stdout",
     "output_type": "stream",
     "text": [
      "Epoch 350: train=2.13937, val=2.14983, took 43.615 s\n",
      "  Validation Found 9022 of 10819, added 985 (eff 83.39%) (0.492 FP/event)\n"
     ]
    },
    {
     "data": {
      "application/vnd.jupyter.widget-view+json": {
       "model_id": "",
       "version_major": 2,
       "version_minor": 0
      },
      "text/plain": [
       "HBox(children=(FloatProgress(value=0.0, description='Training', layout=Layout(flex='2'), max=1125.0, style=Pro…"
      ]
     },
     "metadata": {},
     "output_type": "display_data"
    },
    {
     "name": "stdout",
     "output_type": "stream",
     "text": [
      "Epoch 351: train=2.13923, val=2.15126, took 44.257 s\n",
      "  Validation Found 9022 of 10819, added 987 (eff 83.39%) (0.493 FP/event)\n"
     ]
    },
    {
     "data": {
      "application/vnd.jupyter.widget-view+json": {
       "model_id": "",
       "version_major": 2,
       "version_minor": 0
      },
      "text/plain": [
       "HBox(children=(FloatProgress(value=0.0, description='Training', layout=Layout(flex='2'), max=1125.0, style=Pro…"
      ]
     },
     "metadata": {},
     "output_type": "display_data"
    },
    {
     "name": "stdout",
     "output_type": "stream",
     "text": [
      "Epoch 352: train=2.13892, val=2.14972, took 43.823 s\n",
      "  Validation Found 9020 of 10819, added 987 (eff 83.37%) (0.493 FP/event)\n"
     ]
    },
    {
     "data": {
      "application/vnd.jupyter.widget-view+json": {
       "model_id": "",
       "version_major": 2,
       "version_minor": 0
      },
      "text/plain": [
       "HBox(children=(FloatProgress(value=0.0, description='Training', layout=Layout(flex='2'), max=1125.0, style=Pro…"
      ]
     },
     "metadata": {},
     "output_type": "display_data"
    },
    {
     "name": "stdout",
     "output_type": "stream",
     "text": [
      "Epoch 353: train=2.1409, val=2.14995, took 43.812 s\n",
      "  Validation Found 9028 of 10819, added 998 (eff 83.45%) (0.499 FP/event)\n"
     ]
    },
    {
     "data": {
      "application/vnd.jupyter.widget-view+json": {
       "model_id": "",
       "version_major": 2,
       "version_minor": 0
      },
      "text/plain": [
       "HBox(children=(FloatProgress(value=0.0, description='Training', layout=Layout(flex='2'), max=1125.0, style=Pro…"
      ]
     },
     "metadata": {},
     "output_type": "display_data"
    },
    {
     "name": "stdout",
     "output_type": "stream",
     "text": [
      "Epoch 354: train=2.14342, val=2.15062, took 43.833 s\n",
      "  Validation Found 9030 of 10819, added 993 (eff 83.46%) (0.496 FP/event)\n"
     ]
    },
    {
     "data": {
      "application/vnd.jupyter.widget-view+json": {
       "model_id": "",
       "version_major": 2,
       "version_minor": 0
      },
      "text/plain": [
       "HBox(children=(FloatProgress(value=0.0, description='Training', layout=Layout(flex='2'), max=1125.0, style=Pro…"
      ]
     },
     "metadata": {},
     "output_type": "display_data"
    },
    {
     "name": "stdout",
     "output_type": "stream",
     "text": [
      "Epoch 355: train=2.13966, val=2.14838, took 43.591 s\n",
      "  Validation Found 9031 of 10819, added 994 (eff 83.47%) (0.497 FP/event)\n"
     ]
    },
    {
     "data": {
      "application/vnd.jupyter.widget-view+json": {
       "model_id": "",
       "version_major": 2,
       "version_minor": 0
      },
      "text/plain": [
       "HBox(children=(FloatProgress(value=0.0, description='Training', layout=Layout(flex='2'), max=1125.0, style=Pro…"
      ]
     },
     "metadata": {},
     "output_type": "display_data"
    },
    {
     "name": "stdout",
     "output_type": "stream",
     "text": [
      "Epoch 356: train=2.1396, val=2.15111, took 43.622 s\n",
      "  Validation Found 9026 of 10819, added 1000 (eff 83.43%) (0.5 FP/event)\n"
     ]
    },
    {
     "data": {
      "application/vnd.jupyter.widget-view+json": {
       "model_id": "",
       "version_major": 2,
       "version_minor": 0
      },
      "text/plain": [
       "HBox(children=(FloatProgress(value=0.0, description='Training', layout=Layout(flex='2'), max=1125.0, style=Pro…"
      ]
     },
     "metadata": {},
     "output_type": "display_data"
    },
    {
     "name": "stdout",
     "output_type": "stream",
     "text": [
      "Epoch 357: train=2.1369, val=2.14853, took 43.787 s\n",
      "  Validation Found 9027 of 10819, added 995 (eff 83.44%) (0.497 FP/event)\n"
     ]
    },
    {
     "data": {
      "application/vnd.jupyter.widget-view+json": {
       "model_id": "",
       "version_major": 2,
       "version_minor": 0
      },
      "text/plain": [
       "HBox(children=(FloatProgress(value=0.0, description='Training', layout=Layout(flex='2'), max=1125.0, style=Pro…"
      ]
     },
     "metadata": {},
     "output_type": "display_data"
    },
    {
     "name": "stdout",
     "output_type": "stream",
     "text": [
      "Epoch 358: train=2.13814, val=2.14952, took 43.786 s\n",
      "  Validation Found 9035 of 10819, added 992 (eff 83.51%) (0.496 FP/event)\n"
     ]
    },
    {
     "data": {
      "application/vnd.jupyter.widget-view+json": {
       "model_id": "",
       "version_major": 2,
       "version_minor": 0
      },
      "text/plain": [
       "HBox(children=(FloatProgress(value=0.0, description='Training', layout=Layout(flex='2'), max=1125.0, style=Pro…"
      ]
     },
     "metadata": {},
     "output_type": "display_data"
    },
    {
     "name": "stdout",
     "output_type": "stream",
     "text": [
      "Epoch 359: train=2.14433, val=2.15062, took 43.79 s\n",
      "  Validation Found 9023 of 10819, added 995 (eff 83.40%) (0.497 FP/event)\n"
     ]
    },
    {
     "data": {
      "application/vnd.jupyter.widget-view+json": {
       "model_id": "",
       "version_major": 2,
       "version_minor": 0
      },
      "text/plain": [
       "HBox(children=(FloatProgress(value=0.0, description='Training', layout=Layout(flex='2'), max=1125.0, style=Pro…"
      ]
     },
     "metadata": {},
     "output_type": "display_data"
    },
    {
     "name": "stdout",
     "output_type": "stream",
     "text": [
      "Epoch 360: train=2.13941, val=2.15054, took 43.619 s\n",
      "  Validation Found 9033 of 10819, added 980 (eff 83.49%) (0.49 FP/event)\n"
     ]
    },
    {
     "data": {
      "application/vnd.jupyter.widget-view+json": {
       "model_id": "",
       "version_major": 2,
       "version_minor": 0
      },
      "text/plain": [
       "HBox(children=(FloatProgress(value=0.0, description='Training', layout=Layout(flex='2'), max=1125.0, style=Pro…"
      ]
     },
     "metadata": {},
     "output_type": "display_data"
    },
    {
     "name": "stdout",
     "output_type": "stream",
     "text": [
      "Epoch 361: train=2.13649, val=2.15002, took 43.707 s\n",
      "  Validation Found 9027 of 10819, added 999 (eff 83.44%) (0.499 FP/event)\n"
     ]
    },
    {
     "data": {
      "application/vnd.jupyter.widget-view+json": {
       "model_id": "",
       "version_major": 2,
       "version_minor": 0
      },
      "text/plain": [
       "HBox(children=(FloatProgress(value=0.0, description='Training', layout=Layout(flex='2'), max=1125.0, style=Pro…"
      ]
     },
     "metadata": {},
     "output_type": "display_data"
    },
    {
     "name": "stdout",
     "output_type": "stream",
     "text": [
      "Epoch 362: train=2.1367, val=2.15454, took 43.838 s\n",
      "  Validation Found 9026 of 10819, added 991 (eff 83.43%) (0.495 FP/event)\n"
     ]
    },
    {
     "data": {
      "application/vnd.jupyter.widget-view+json": {
       "model_id": "",
       "version_major": 2,
       "version_minor": 0
      },
      "text/plain": [
       "HBox(children=(FloatProgress(value=0.0, description='Training', layout=Layout(flex='2'), max=1125.0, style=Pro…"
      ]
     },
     "metadata": {},
     "output_type": "display_data"
    },
    {
     "name": "stdout",
     "output_type": "stream",
     "text": [
      "Epoch 363: train=2.13512, val=2.14869, took 43.691 s\n",
      "  Validation Found 9022 of 10819, added 993 (eff 83.39%) (0.496 FP/event)\n"
     ]
    },
    {
     "data": {
      "application/vnd.jupyter.widget-view+json": {
       "model_id": "",
       "version_major": 2,
       "version_minor": 0
      },
      "text/plain": [
       "HBox(children=(FloatProgress(value=0.0, description='Training', layout=Layout(flex='2'), max=1125.0, style=Pro…"
      ]
     },
     "metadata": {},
     "output_type": "display_data"
    },
    {
     "name": "stdout",
     "output_type": "stream",
     "text": [
      "Epoch 364: train=2.14316, val=2.14825, took 43.684 s\n",
      "  Validation Found 9035 of 10819, added 990 (eff 83.51%) (0.495 FP/event)\n"
     ]
    },
    {
     "data": {
      "application/vnd.jupyter.widget-view+json": {
       "model_id": "",
       "version_major": 2,
       "version_minor": 0
      },
      "text/plain": [
       "HBox(children=(FloatProgress(value=0.0, description='Training', layout=Layout(flex='2'), max=1125.0, style=Pro…"
      ]
     },
     "metadata": {},
     "output_type": "display_data"
    },
    {
     "name": "stdout",
     "output_type": "stream",
     "text": [
      "Epoch 365: train=2.13691, val=2.15254, took 43.691 s\n",
      "  Validation Found 9018 of 10819, added 989 (eff 83.35%) (0.494 FP/event)\n"
     ]
    },
    {
     "data": {
      "application/vnd.jupyter.widget-view+json": {
       "model_id": "",
       "version_major": 2,
       "version_minor": 0
      },
      "text/plain": [
       "HBox(children=(FloatProgress(value=0.0, description='Training', layout=Layout(flex='2'), max=1125.0, style=Pro…"
      ]
     },
     "metadata": {},
     "output_type": "display_data"
    },
    {
     "name": "stdout",
     "output_type": "stream",
     "text": [
      "Epoch 366: train=2.13711, val=2.15049, took 43.957 s\n",
      "  Validation Found 9024 of 10819, added 990 (eff 83.41%) (0.495 FP/event)\n"
     ]
    },
    {
     "data": {
      "application/vnd.jupyter.widget-view+json": {
       "model_id": "",
       "version_major": 2,
       "version_minor": 0
      },
      "text/plain": [
       "HBox(children=(FloatProgress(value=0.0, description='Training', layout=Layout(flex='2'), max=1125.0, style=Pro…"
      ]
     },
     "metadata": {},
     "output_type": "display_data"
    },
    {
     "name": "stdout",
     "output_type": "stream",
     "text": [
      "Epoch 367: train=2.13861, val=2.1564, took 43.805 s\n",
      "  Validation Found 9024 of 10819, added 989 (eff 83.41%) (0.494 FP/event)\n"
     ]
    },
    {
     "data": {
      "application/vnd.jupyter.widget-view+json": {
       "model_id": "",
       "version_major": 2,
       "version_minor": 0
      },
      "text/plain": [
       "HBox(children=(FloatProgress(value=0.0, description='Training', layout=Layout(flex='2'), max=1125.0, style=Pro…"
      ]
     },
     "metadata": {},
     "output_type": "display_data"
    },
    {
     "name": "stdout",
     "output_type": "stream",
     "text": [
      "Epoch 368: train=2.13948, val=2.1526, took 43.815 s\n",
      "  Validation Found 9018 of 10819, added 988 (eff 83.35%) (0.494 FP/event)\n"
     ]
    },
    {
     "data": {
      "application/vnd.jupyter.widget-view+json": {
       "model_id": "",
       "version_major": 2,
       "version_minor": 0
      },
      "text/plain": [
       "HBox(children=(FloatProgress(value=0.0, description='Training', layout=Layout(flex='2'), max=1125.0, style=Pro…"
      ]
     },
     "metadata": {},
     "output_type": "display_data"
    },
    {
     "name": "stdout",
     "output_type": "stream",
     "text": [
      "Epoch 369: train=2.13722, val=2.14904, took 43.603 s\n",
      "  Validation Found 9026 of 10819, added 991 (eff 83.43%) (0.495 FP/event)\n"
     ]
    },
    {
     "data": {
      "application/vnd.jupyter.widget-view+json": {
       "model_id": "",
       "version_major": 2,
       "version_minor": 0
      },
      "text/plain": [
       "HBox(children=(FloatProgress(value=0.0, description='Training', layout=Layout(flex='2'), max=1125.0, style=Pro…"
      ]
     },
     "metadata": {},
     "output_type": "display_data"
    },
    {
     "name": "stdout",
     "output_type": "stream",
     "text": [
      "Epoch 370: train=2.14205, val=2.15348, took 43.762 s\n",
      "  Validation Found 9027 of 10819, added 985 (eff 83.44%) (0.492 FP/event)\n"
     ]
    },
    {
     "data": {
      "application/vnd.jupyter.widget-view+json": {
       "model_id": "",
       "version_major": 2,
       "version_minor": 0
      },
      "text/plain": [
       "HBox(children=(FloatProgress(value=0.0, description='Training', layout=Layout(flex='2'), max=1125.0, style=Pro…"
      ]
     },
     "metadata": {},
     "output_type": "display_data"
    },
    {
     "name": "stdout",
     "output_type": "stream",
     "text": [
      "Epoch 371: train=2.13602, val=2.14845, took 43.873 s\n",
      "  Validation Found 9030 of 10819, added 999 (eff 83.46%) (0.499 FP/event)\n"
     ]
    },
    {
     "data": {
      "application/vnd.jupyter.widget-view+json": {
       "model_id": "",
       "version_major": 2,
       "version_minor": 0
      },
      "text/plain": [
       "HBox(children=(FloatProgress(value=0.0, description='Training', layout=Layout(flex='2'), max=1125.0, style=Pro…"
      ]
     },
     "metadata": {},
     "output_type": "display_data"
    },
    {
     "name": "stdout",
     "output_type": "stream",
     "text": [
      "Epoch 372: train=2.13812, val=2.15158, took 43.871 s\n",
      "  Validation Found 9028 of 10819, added 1001 (eff 83.45%) (0.5 FP/event)\n"
     ]
    },
    {
     "data": {
      "application/vnd.jupyter.widget-view+json": {
       "model_id": "",
       "version_major": 2,
       "version_minor": 0
      },
      "text/plain": [
       "HBox(children=(FloatProgress(value=0.0, description='Training', layout=Layout(flex='2'), max=1125.0, style=Pro…"
      ]
     },
     "metadata": {},
     "output_type": "display_data"
    },
    {
     "name": "stdout",
     "output_type": "stream",
     "text": [
      "Epoch 373: train=2.13799, val=2.14817, took 44.21 s\n",
      "  Validation Found 9028 of 10819, added 1004 (eff 83.45%) (0.502 FP/event)\n"
     ]
    },
    {
     "data": {
      "application/vnd.jupyter.widget-view+json": {
       "model_id": "",
       "version_major": 2,
       "version_minor": 0
      },
      "text/plain": [
       "HBox(children=(FloatProgress(value=0.0, description='Training', layout=Layout(flex='2'), max=1125.0, style=Pro…"
      ]
     },
     "metadata": {},
     "output_type": "display_data"
    },
    {
     "name": "stdout",
     "output_type": "stream",
     "text": [
      "Epoch 374: train=2.13642, val=2.14849, took 43.655 s\n",
      "  Validation Found 9029 of 10819, added 987 (eff 83.46%) (0.493 FP/event)\n"
     ]
    },
    {
     "data": {
      "application/vnd.jupyter.widget-view+json": {
       "model_id": "",
       "version_major": 2,
       "version_minor": 0
      },
      "text/plain": [
       "HBox(children=(FloatProgress(value=0.0, description='Training', layout=Layout(flex='2'), max=1125.0, style=Pro…"
      ]
     },
     "metadata": {},
     "output_type": "display_data"
    },
    {
     "name": "stdout",
     "output_type": "stream",
     "text": [
      "Epoch 375: train=2.13515, val=2.1495, took 43.856 s\n",
      "  Validation Found 9022 of 10819, added 1002 (eff 83.39%) (0.501 FP/event)\n"
     ]
    },
    {
     "data": {
      "application/vnd.jupyter.widget-view+json": {
       "model_id": "",
       "version_major": 2,
       "version_minor": 0
      },
      "text/plain": [
       "HBox(children=(FloatProgress(value=0.0, description='Training', layout=Layout(flex='2'), max=1125.0, style=Pro…"
      ]
     },
     "metadata": {},
     "output_type": "display_data"
    },
    {
     "name": "stdout",
     "output_type": "stream",
     "text": [
      "Epoch 376: train=2.13659, val=2.14825, took 43.814 s\n",
      "  Validation Found 9030 of 10819, added 994 (eff 83.46%) (0.497 FP/event)\n"
     ]
    },
    {
     "data": {
      "application/vnd.jupyter.widget-view+json": {
       "model_id": "",
       "version_major": 2,
       "version_minor": 0
      },
      "text/plain": [
       "HBox(children=(FloatProgress(value=0.0, description='Training', layout=Layout(flex='2'), max=1125.0, style=Pro…"
      ]
     },
     "metadata": {},
     "output_type": "display_data"
    },
    {
     "name": "stdout",
     "output_type": "stream",
     "text": [
      "Epoch 377: train=2.13028, val=2.14755, took 43.74 s\n",
      "  Validation Found 9029 of 10819, added 999 (eff 83.46%) (0.499 FP/event)\n"
     ]
    },
    {
     "data": {
      "application/vnd.jupyter.widget-view+json": {
       "model_id": "",
       "version_major": 2,
       "version_minor": 0
      },
      "text/plain": [
       "HBox(children=(FloatProgress(value=0.0, description='Training', layout=Layout(flex='2'), max=1125.0, style=Pro…"
      ]
     },
     "metadata": {},
     "output_type": "display_data"
    },
    {
     "name": "stdout",
     "output_type": "stream",
     "text": [
      "Epoch 378: train=2.13738, val=2.15246, took 43.651 s\n",
      "  Validation Found 9029 of 10819, added 1004 (eff 83.46%) (0.502 FP/event)\n"
     ]
    },
    {
     "data": {
      "application/vnd.jupyter.widget-view+json": {
       "model_id": "",
       "version_major": 2,
       "version_minor": 0
      },
      "text/plain": [
       "HBox(children=(FloatProgress(value=0.0, description='Training', layout=Layout(flex='2'), max=1125.0, style=Pro…"
      ]
     },
     "metadata": {},
     "output_type": "display_data"
    },
    {
     "name": "stdout",
     "output_type": "stream",
     "text": [
      "Epoch 379: train=2.1355, val=2.15187, took 43.958 s\n",
      "  Validation Found 9030 of 10819, added 999 (eff 83.46%) (0.499 FP/event)\n"
     ]
    },
    {
     "data": {
      "application/vnd.jupyter.widget-view+json": {
       "model_id": "",
       "version_major": 2,
       "version_minor": 0
      },
      "text/plain": [
       "HBox(children=(FloatProgress(value=0.0, description='Training', layout=Layout(flex='2'), max=1125.0, style=Pro…"
      ]
     },
     "metadata": {},
     "output_type": "display_data"
    },
    {
     "name": "stdout",
     "output_type": "stream",
     "text": [
      "Epoch 380: train=2.13421, val=2.15114, took 43.922 s\n",
      "  Validation Found 9029 of 10819, added 997 (eff 83.46%) (0.498 FP/event)\n"
     ]
    },
    {
     "data": {
      "application/vnd.jupyter.widget-view+json": {
       "model_id": "",
       "version_major": 2,
       "version_minor": 0
      },
      "text/plain": [
       "HBox(children=(FloatProgress(value=0.0, description='Training', layout=Layout(flex='2'), max=1125.0, style=Pro…"
      ]
     },
     "metadata": {},
     "output_type": "display_data"
    },
    {
     "name": "stdout",
     "output_type": "stream",
     "text": [
      "Epoch 381: train=2.14017, val=2.15081, took 43.716 s\n",
      "  Validation Found 9018 of 10819, added 1001 (eff 83.35%) (0.5 FP/event)\n"
     ]
    },
    {
     "data": {
      "application/vnd.jupyter.widget-view+json": {
       "model_id": "",
       "version_major": 2,
       "version_minor": 0
      },
      "text/plain": [
       "HBox(children=(FloatProgress(value=0.0, description='Training', layout=Layout(flex='2'), max=1125.0, style=Pro…"
      ]
     },
     "metadata": {},
     "output_type": "display_data"
    },
    {
     "name": "stdout",
     "output_type": "stream",
     "text": [
      "Epoch 382: train=2.13544, val=2.148, took 44.198 s\n",
      "  Validation Found 9019 of 10819, added 996 (eff 83.36%) (0.498 FP/event)\n"
     ]
    },
    {
     "data": {
      "application/vnd.jupyter.widget-view+json": {
       "model_id": "",
       "version_major": 2,
       "version_minor": 0
      },
      "text/plain": [
       "HBox(children=(FloatProgress(value=0.0, description='Training', layout=Layout(flex='2'), max=1125.0, style=Pro…"
      ]
     },
     "metadata": {},
     "output_type": "display_data"
    },
    {
     "name": "stdout",
     "output_type": "stream",
     "text": [
      "Epoch 383: train=2.13658, val=2.15021, took 43.84 s\n",
      "  Validation Found 9023 of 10819, added 1002 (eff 83.40%) (0.501 FP/event)\n"
     ]
    },
    {
     "data": {
      "application/vnd.jupyter.widget-view+json": {
       "model_id": "",
       "version_major": 2,
       "version_minor": 0
      },
      "text/plain": [
       "HBox(children=(FloatProgress(value=0.0, description='Training', layout=Layout(flex='2'), max=1125.0, style=Pro…"
      ]
     },
     "metadata": {},
     "output_type": "display_data"
    },
    {
     "name": "stdout",
     "output_type": "stream",
     "text": [
      "Epoch 384: train=2.13499, val=2.14895, took 43.926 s\n",
      "  Validation Found 9026 of 10819, added 996 (eff 83.43%) (0.498 FP/event)\n"
     ]
    },
    {
     "data": {
      "application/vnd.jupyter.widget-view+json": {
       "model_id": "",
       "version_major": 2,
       "version_minor": 0
      },
      "text/plain": [
       "HBox(children=(FloatProgress(value=0.0, description='Training', layout=Layout(flex='2'), max=1125.0, style=Pro…"
      ]
     },
     "metadata": {},
     "output_type": "display_data"
    },
    {
     "name": "stdout",
     "output_type": "stream",
     "text": [
      "Epoch 385: train=2.1315, val=2.14774, took 43.961 s\n",
      "  Validation Found 9033 of 10819, added 994 (eff 83.49%) (0.497 FP/event)\n"
     ]
    },
    {
     "data": {
      "application/vnd.jupyter.widget-view+json": {
       "model_id": "",
       "version_major": 2,
       "version_minor": 0
      },
      "text/plain": [
       "HBox(children=(FloatProgress(value=0.0, description='Training', layout=Layout(flex='2'), max=1125.0, style=Pro…"
      ]
     },
     "metadata": {},
     "output_type": "display_data"
    },
    {
     "name": "stdout",
     "output_type": "stream",
     "text": [
      "Epoch 386: train=2.13155, val=2.15054, took 44.251 s\n",
      "  Validation Found 9025 of 10819, added 998 (eff 83.42%) (0.499 FP/event)\n"
     ]
    },
    {
     "data": {
      "application/vnd.jupyter.widget-view+json": {
       "model_id": "",
       "version_major": 2,
       "version_minor": 0
      },
      "text/plain": [
       "HBox(children=(FloatProgress(value=0.0, description='Training', layout=Layout(flex='2'), max=1125.0, style=Pro…"
      ]
     },
     "metadata": {},
     "output_type": "display_data"
    },
    {
     "name": "stdout",
     "output_type": "stream",
     "text": [
      "Epoch 387: train=2.13485, val=2.15017, took 43.727 s\n",
      "  Validation Found 9022 of 10819, added 993 (eff 83.39%) (0.496 FP/event)\n"
     ]
    },
    {
     "data": {
      "application/vnd.jupyter.widget-view+json": {
       "model_id": "",
       "version_major": 2,
       "version_minor": 0
      },
      "text/plain": [
       "HBox(children=(FloatProgress(value=0.0, description='Training', layout=Layout(flex='2'), max=1125.0, style=Pro…"
      ]
     },
     "metadata": {},
     "output_type": "display_data"
    },
    {
     "name": "stdout",
     "output_type": "stream",
     "text": [
      "Epoch 388: train=2.13372, val=2.14884, took 43.847 s\n",
      "  Validation Found 9023 of 10819, added 997 (eff 83.40%) (0.498 FP/event)\n"
     ]
    },
    {
     "data": {
      "application/vnd.jupyter.widget-view+json": {
       "model_id": "",
       "version_major": 2,
       "version_minor": 0
      },
      "text/plain": [
       "HBox(children=(FloatProgress(value=0.0, description='Training', layout=Layout(flex='2'), max=1125.0, style=Pro…"
      ]
     },
     "metadata": {},
     "output_type": "display_data"
    },
    {
     "name": "stdout",
     "output_type": "stream",
     "text": [
      "Epoch 389: train=2.1316, val=2.15722, took 44.182 s\n",
      "  Validation Found 9022 of 10819, added 989 (eff 83.39%) (0.494 FP/event)\n"
     ]
    },
    {
     "data": {
      "application/vnd.jupyter.widget-view+json": {
       "model_id": "",
       "version_major": 2,
       "version_minor": 0
      },
      "text/plain": [
       "HBox(children=(FloatProgress(value=0.0, description='Training', layout=Layout(flex='2'), max=1125.0, style=Pro…"
      ]
     },
     "metadata": {},
     "output_type": "display_data"
    },
    {
     "name": "stdout",
     "output_type": "stream",
     "text": [
      "Epoch 390: train=2.136, val=2.14776, took 43.581 s\n",
      "  Validation Found 9028 of 10819, added 991 (eff 83.45%) (0.495 FP/event)\n"
     ]
    },
    {
     "data": {
      "application/vnd.jupyter.widget-view+json": {
       "model_id": "",
       "version_major": 2,
       "version_minor": 0
      },
      "text/plain": [
       "HBox(children=(FloatProgress(value=0.0, description='Training', layout=Layout(flex='2'), max=1125.0, style=Pro…"
      ]
     },
     "metadata": {},
     "output_type": "display_data"
    },
    {
     "name": "stdout",
     "output_type": "stream",
     "text": [
      "Epoch 391: train=2.13566, val=2.1513, took 43.751 s\n",
      "  Validation Found 9025 of 10819, added 992 (eff 83.42%) (0.496 FP/event)\n"
     ]
    },
    {
     "data": {
      "application/vnd.jupyter.widget-view+json": {
       "model_id": "",
       "version_major": 2,
       "version_minor": 0
      },
      "text/plain": [
       "HBox(children=(FloatProgress(value=0.0, description='Training', layout=Layout(flex='2'), max=1125.0, style=Pro…"
      ]
     },
     "metadata": {},
     "output_type": "display_data"
    },
    {
     "name": "stdout",
     "output_type": "stream",
     "text": [
      "Epoch 392: train=2.13721, val=2.15234, took 43.737 s\n",
      "  Validation Found 9021 of 10819, added 992 (eff 83.38%) (0.496 FP/event)\n"
     ]
    },
    {
     "data": {
      "application/vnd.jupyter.widget-view+json": {
       "model_id": "",
       "version_major": 2,
       "version_minor": 0
      },
      "text/plain": [
       "HBox(children=(FloatProgress(value=0.0, description='Training', layout=Layout(flex='2'), max=1125.0, style=Pro…"
      ]
     },
     "metadata": {},
     "output_type": "display_data"
    },
    {
     "name": "stdout",
     "output_type": "stream",
     "text": [
      "Epoch 393: train=2.13301, val=2.15153, took 43.714 s\n",
      "  Validation Found 9027 of 10819, added 1000 (eff 83.44%) (0.5 FP/event)\n"
     ]
    },
    {
     "data": {
      "application/vnd.jupyter.widget-view+json": {
       "model_id": "",
       "version_major": 2,
       "version_minor": 0
      },
      "text/plain": [
       "HBox(children=(FloatProgress(value=0.0, description='Training', layout=Layout(flex='2'), max=1125.0, style=Pro…"
      ]
     },
     "metadata": {},
     "output_type": "display_data"
    },
    {
     "name": "stdout",
     "output_type": "stream",
     "text": [
      "Epoch 394: train=2.13551, val=2.14739, took 43.797 s\n",
      "  Validation Found 9038 of 10819, added 986 (eff 83.54%) (0.493 FP/event)\n"
     ]
    },
    {
     "data": {
      "application/vnd.jupyter.widget-view+json": {
       "model_id": "",
       "version_major": 2,
       "version_minor": 0
      },
      "text/plain": [
       "HBox(children=(FloatProgress(value=0.0, description='Training', layout=Layout(flex='2'), max=1125.0, style=Pro…"
      ]
     },
     "metadata": {},
     "output_type": "display_data"
    },
    {
     "name": "stdout",
     "output_type": "stream",
     "text": [
      "Epoch 395: train=2.13325, val=2.14936, took 44.104 s\n",
      "  Validation Found 9029 of 10819, added 996 (eff 83.46%) (0.498 FP/event)\n"
     ]
    },
    {
     "data": {
      "application/vnd.jupyter.widget-view+json": {
       "model_id": "",
       "version_major": 2,
       "version_minor": 0
      },
      "text/plain": [
       "HBox(children=(FloatProgress(value=0.0, description='Training', layout=Layout(flex='2'), max=1125.0, style=Pro…"
      ]
     },
     "metadata": {},
     "output_type": "display_data"
    },
    {
     "name": "stdout",
     "output_type": "stream",
     "text": [
      "Epoch 396: train=2.13043, val=2.14779, took 43.986 s\n",
      "  Validation Found 9032 of 10819, added 991 (eff 83.48%) (0.495 FP/event)\n"
     ]
    },
    {
     "data": {
      "application/vnd.jupyter.widget-view+json": {
       "model_id": "",
       "version_major": 2,
       "version_minor": 0
      },
      "text/plain": [
       "HBox(children=(FloatProgress(value=0.0, description='Training', layout=Layout(flex='2'), max=1125.0, style=Pro…"
      ]
     },
     "metadata": {},
     "output_type": "display_data"
    },
    {
     "name": "stdout",
     "output_type": "stream",
     "text": [
      "Epoch 397: train=2.13918, val=2.14932, took 43.834 s\n",
      "  Validation Found 9030 of 10819, added 989 (eff 83.46%) (0.494 FP/event)\n"
     ]
    },
    {
     "data": {
      "application/vnd.jupyter.widget-view+json": {
       "model_id": "",
       "version_major": 2,
       "version_minor": 0
      },
      "text/plain": [
       "HBox(children=(FloatProgress(value=0.0, description='Training', layout=Layout(flex='2'), max=1125.0, style=Pro…"
      ]
     },
     "metadata": {},
     "output_type": "display_data"
    },
    {
     "name": "stdout",
     "output_type": "stream",
     "text": [
      "Epoch 398: train=2.13205, val=2.1466, took 44.151 s\n",
      "  Validation Found 9040 of 10819, added 987 (eff 83.56%) (0.493 FP/event)\n"
     ]
    },
    {
     "data": {
      "application/vnd.jupyter.widget-view+json": {
       "model_id": "",
       "version_major": 2,
       "version_minor": 0
      },
      "text/plain": [
       "HBox(children=(FloatProgress(value=0.0, description='Training', layout=Layout(flex='2'), max=1125.0, style=Pro…"
      ]
     },
     "metadata": {},
     "output_type": "display_data"
    },
    {
     "name": "stdout",
     "output_type": "stream",
     "text": [
      "Epoch 399: train=2.13525, val=2.15055, took 43.839 s\n",
      "  Validation Found 9029 of 10819, added 993 (eff 83.46%) (0.496 FP/event)\n"
     ]
    },
    {
     "data": {
      "application/vnd.jupyter.widget-view+json": {
       "model_id": "",
       "version_major": 2,
       "version_minor": 0
      },
      "text/plain": [
       "HBox(children=(FloatProgress(value=0.0, description='Training', layout=Layout(flex='2'), max=1125.0, style=Pro…"
      ]
     },
     "metadata": {},
     "output_type": "display_data"
    },
    {
     "name": "stdout",
     "output_type": "stream",
     "text": [
      "Epoch 400: train=2.13093, val=2.15223, took 43.952 s\n",
      "  Validation Found 9029 of 10819, added 1002 (eff 83.46%) (0.501 FP/event)\n"
     ]
    },
    {
     "data": {
      "application/vnd.jupyter.widget-view+json": {
       "model_id": "",
       "version_major": 2,
       "version_minor": 0
      },
      "text/plain": [
       "HBox(children=(FloatProgress(value=0.0, description='Training', layout=Layout(flex='2'), max=1125.0, style=Pro…"
      ]
     },
     "metadata": {},
     "output_type": "display_data"
    },
    {
     "name": "stdout",
     "output_type": "stream",
     "text": [
      "Epoch 401: train=2.13158, val=2.14744, took 43.953 s\n",
      "  Validation Found 9032 of 10819, added 991 (eff 83.48%) (0.495 FP/event)\n"
     ]
    },
    {
     "data": {
      "application/vnd.jupyter.widget-view+json": {
       "model_id": "",
       "version_major": 2,
       "version_minor": 0
      },
      "text/plain": [
       "HBox(children=(FloatProgress(value=0.0, description='Training', layout=Layout(flex='2'), max=1125.0, style=Pro…"
      ]
     },
     "metadata": {},
     "output_type": "display_data"
    },
    {
     "name": "stdout",
     "output_type": "stream",
     "text": [
      "Epoch 402: train=2.1289, val=2.14666, took 44.005 s\n",
      "  Validation Found 9038 of 10819, added 983 (eff 83.54%) (0.491 FP/event)\n"
     ]
    },
    {
     "data": {
      "application/vnd.jupyter.widget-view+json": {
       "model_id": "",
       "version_major": 2,
       "version_minor": 0
      },
      "text/plain": [
       "HBox(children=(FloatProgress(value=0.0, description='Training', layout=Layout(flex='2'), max=1125.0, style=Pro…"
      ]
     },
     "metadata": {},
     "output_type": "display_data"
    },
    {
     "name": "stdout",
     "output_type": "stream",
     "text": [
      "Epoch 403: train=2.1328, val=2.14819, took 43.889 s\n",
      "  Validation Found 9027 of 10819, added 994 (eff 83.44%) (0.497 FP/event)\n"
     ]
    },
    {
     "data": {
      "application/vnd.jupyter.widget-view+json": {
       "model_id": "",
       "version_major": 2,
       "version_minor": 0
      },
      "text/plain": [
       "HBox(children=(FloatProgress(value=0.0, description='Training', layout=Layout(flex='2'), max=1125.0, style=Pro…"
      ]
     },
     "metadata": {},
     "output_type": "display_data"
    },
    {
     "name": "stdout",
     "output_type": "stream",
     "text": [
      "Epoch 404: train=2.12856, val=2.15046, took 43.859 s\n",
      "  Validation Found 9027 of 10819, added 994 (eff 83.44%) (0.497 FP/event)\n"
     ]
    },
    {
     "data": {
      "application/vnd.jupyter.widget-view+json": {
       "model_id": "",
       "version_major": 2,
       "version_minor": 0
      },
      "text/plain": [
       "HBox(children=(FloatProgress(value=0.0, description='Training', layout=Layout(flex='2'), max=1125.0, style=Pro…"
      ]
     },
     "metadata": {},
     "output_type": "display_data"
    },
    {
     "name": "stdout",
     "output_type": "stream",
     "text": [
      "Epoch 405: train=2.13411, val=2.14746, took 44.111 s\n",
      "  Validation Found 9029 of 10819, added 995 (eff 83.46%) (0.497 FP/event)\n"
     ]
    },
    {
     "data": {
      "application/vnd.jupyter.widget-view+json": {
       "model_id": "",
       "version_major": 2,
       "version_minor": 0
      },
      "text/plain": [
       "HBox(children=(FloatProgress(value=0.0, description='Training', layout=Layout(flex='2'), max=1125.0, style=Pro…"
      ]
     },
     "metadata": {},
     "output_type": "display_data"
    },
    {
     "name": "stdout",
     "output_type": "stream",
     "text": [
      "Epoch 406: train=2.13522, val=2.14848, took 43.533 s\n",
      "  Validation Found 9034 of 10819, added 996 (eff 83.50%) (0.498 FP/event)\n"
     ]
    },
    {
     "data": {
      "application/vnd.jupyter.widget-view+json": {
       "model_id": "",
       "version_major": 2,
       "version_minor": 0
      },
      "text/plain": [
       "HBox(children=(FloatProgress(value=0.0, description='Training', layout=Layout(flex='2'), max=1125.0, style=Pro…"
      ]
     },
     "metadata": {},
     "output_type": "display_data"
    },
    {
     "name": "stdout",
     "output_type": "stream",
     "text": [
      "Epoch 407: train=2.13435, val=2.14905, took 43.567 s\n",
      "  Validation Found 9027 of 10819, added 994 (eff 83.44%) (0.497 FP/event)\n"
     ]
    },
    {
     "data": {
      "application/vnd.jupyter.widget-view+json": {
       "model_id": "",
       "version_major": 2,
       "version_minor": 0
      },
      "text/plain": [
       "HBox(children=(FloatProgress(value=0.0, description='Training', layout=Layout(flex='2'), max=1125.0, style=Pro…"
      ]
     },
     "metadata": {},
     "output_type": "display_data"
    },
    {
     "name": "stdout",
     "output_type": "stream",
     "text": [
      "Epoch 408: train=2.13215, val=2.14768, took 43.795 s\n",
      "  Validation Found 9027 of 10819, added 994 (eff 83.44%) (0.497 FP/event)\n"
     ]
    },
    {
     "data": {
      "application/vnd.jupyter.widget-view+json": {
       "model_id": "",
       "version_major": 2,
       "version_minor": 0
      },
      "text/plain": [
       "HBox(children=(FloatProgress(value=0.0, description='Training', layout=Layout(flex='2'), max=1125.0, style=Pro…"
      ]
     },
     "metadata": {},
     "output_type": "display_data"
    },
    {
     "name": "stdout",
     "output_type": "stream",
     "text": [
      "Epoch 409: train=2.13113, val=2.14879, took 44.052 s\n",
      "  Validation Found 9030 of 10819, added 991 (eff 83.46%) (0.495 FP/event)\n"
     ]
    },
    {
     "data": {
      "application/vnd.jupyter.widget-view+json": {
       "model_id": "",
       "version_major": 2,
       "version_minor": 0
      },
      "text/plain": [
       "HBox(children=(FloatProgress(value=0.0, description='Training', layout=Layout(flex='2'), max=1125.0, style=Pro…"
      ]
     },
     "metadata": {},
     "output_type": "display_data"
    },
    {
     "name": "stdout",
     "output_type": "stream",
     "text": [
      "Epoch 410: train=2.13296, val=2.15267, took 43.577 s\n",
      "  Validation Found 9029 of 10819, added 988 (eff 83.46%) (0.494 FP/event)\n"
     ]
    },
    {
     "data": {
      "application/vnd.jupyter.widget-view+json": {
       "model_id": "",
       "version_major": 2,
       "version_minor": 0
      },
      "text/plain": [
       "HBox(children=(FloatProgress(value=0.0, description='Training', layout=Layout(flex='2'), max=1125.0, style=Pro…"
      ]
     },
     "metadata": {},
     "output_type": "display_data"
    },
    {
     "name": "stdout",
     "output_type": "stream",
     "text": [
      "Epoch 411: train=2.12929, val=2.15437, took 43.829 s\n",
      "  Validation Found 9020 of 10819, added 997 (eff 83.37%) (0.498 FP/event)\n"
     ]
    },
    {
     "data": {
      "application/vnd.jupyter.widget-view+json": {
       "model_id": "",
       "version_major": 2,
       "version_minor": 0
      },
      "text/plain": [
       "HBox(children=(FloatProgress(value=0.0, description='Training', layout=Layout(flex='2'), max=1125.0, style=Pro…"
      ]
     },
     "metadata": {},
     "output_type": "display_data"
    },
    {
     "name": "stdout",
     "output_type": "stream",
     "text": [
      "Epoch 412: train=2.13118, val=2.14795, took 43.815 s\n",
      "  Validation Found 9028 of 10819, added 996 (eff 83.45%) (0.498 FP/event)\n"
     ]
    },
    {
     "data": {
      "application/vnd.jupyter.widget-view+json": {
       "model_id": "",
       "version_major": 2,
       "version_minor": 0
      },
      "text/plain": [
       "HBox(children=(FloatProgress(value=0.0, description='Training', layout=Layout(flex='2'), max=1125.0, style=Pro…"
      ]
     },
     "metadata": {},
     "output_type": "display_data"
    },
    {
     "name": "stdout",
     "output_type": "stream",
     "text": [
      "Epoch 413: train=2.13404, val=2.14777, took 43.759 s\n",
      "  Validation Found 9035 of 10819, added 1002 (eff 83.51%) (0.501 FP/event)\n"
     ]
    },
    {
     "data": {
      "application/vnd.jupyter.widget-view+json": {
       "model_id": "",
       "version_major": 2,
       "version_minor": 0
      },
      "text/plain": [
       "HBox(children=(FloatProgress(value=0.0, description='Training', layout=Layout(flex='2'), max=1125.0, style=Pro…"
      ]
     },
     "metadata": {},
     "output_type": "display_data"
    },
    {
     "name": "stdout",
     "output_type": "stream",
     "text": [
      "Epoch 414: train=2.12877, val=2.14719, took 44.193 s\n",
      "  Validation Found 9029 of 10819, added 990 (eff 83.46%) (0.495 FP/event)\n"
     ]
    },
    {
     "data": {
      "application/vnd.jupyter.widget-view+json": {
       "model_id": "",
       "version_major": 2,
       "version_minor": 0
      },
      "text/plain": [
       "HBox(children=(FloatProgress(value=0.0, description='Training', layout=Layout(flex='2'), max=1125.0, style=Pro…"
      ]
     },
     "metadata": {},
     "output_type": "display_data"
    },
    {
     "name": "stdout",
     "output_type": "stream",
     "text": [
      "Epoch 415: train=2.1273, val=2.14782, took 43.884 s\n",
      "  Validation Found 9029 of 10819, added 994 (eff 83.46%) (0.497 FP/event)\n"
     ]
    },
    {
     "data": {
      "application/vnd.jupyter.widget-view+json": {
       "model_id": "",
       "version_major": 2,
       "version_minor": 0
      },
      "text/plain": [
       "HBox(children=(FloatProgress(value=0.0, description='Training', layout=Layout(flex='2'), max=1125.0, style=Pro…"
      ]
     },
     "metadata": {},
     "output_type": "display_data"
    },
    {
     "name": "stdout",
     "output_type": "stream",
     "text": [
      "Epoch 416: train=2.13241, val=2.15637, took 44.054 s\n",
      "  Validation Found 9024 of 10819, added 995 (eff 83.41%) (0.497 FP/event)\n"
     ]
    },
    {
     "data": {
      "application/vnd.jupyter.widget-view+json": {
       "model_id": "",
       "version_major": 2,
       "version_minor": 0
      },
      "text/plain": [
       "HBox(children=(FloatProgress(value=0.0, description='Training', layout=Layout(flex='2'), max=1125.0, style=Pro…"
      ]
     },
     "metadata": {},
     "output_type": "display_data"
    },
    {
     "name": "stdout",
     "output_type": "stream",
     "text": [
      "Epoch 417: train=2.13065, val=2.14737, took 43.921 s\n",
      "  Validation Found 9021 of 10819, added 987 (eff 83.38%) (0.493 FP/event)\n"
     ]
    },
    {
     "data": {
      "application/vnd.jupyter.widget-view+json": {
       "model_id": "",
       "version_major": 2,
       "version_minor": 0
      },
      "text/plain": [
       "HBox(children=(FloatProgress(value=0.0, description='Training', layout=Layout(flex='2'), max=1125.0, style=Pro…"
      ]
     },
     "metadata": {},
     "output_type": "display_data"
    },
    {
     "name": "stdout",
     "output_type": "stream",
     "text": [
      "Epoch 418: train=2.12897, val=2.15393, took 44.013 s\n",
      "  Validation Found 9021 of 10819, added 993 (eff 83.38%) (0.496 FP/event)\n"
     ]
    },
    {
     "data": {
      "application/vnd.jupyter.widget-view+json": {
       "model_id": "",
       "version_major": 2,
       "version_minor": 0
      },
      "text/plain": [
       "HBox(children=(FloatProgress(value=0.0, description='Training', layout=Layout(flex='2'), max=1125.0, style=Pro…"
      ]
     },
     "metadata": {},
     "output_type": "display_data"
    },
    {
     "name": "stdout",
     "output_type": "stream",
     "text": [
      "Epoch 419: train=2.13166, val=2.1478, took 43.909 s\n",
      "  Validation Found 9026 of 10819, added 992 (eff 83.43%) (0.496 FP/event)\n"
     ]
    },
    {
     "data": {
      "application/vnd.jupyter.widget-view+json": {
       "model_id": "",
       "version_major": 2,
       "version_minor": 0
      },
      "text/plain": [
       "HBox(children=(FloatProgress(value=0.0, description='Training', layout=Layout(flex='2'), max=1125.0, style=Pro…"
      ]
     },
     "metadata": {},
     "output_type": "display_data"
    },
    {
     "name": "stdout",
     "output_type": "stream",
     "text": [
      "Epoch 420: train=2.1325, val=2.14783, took 43.791 s\n",
      "  Validation Found 9031 of 10819, added 995 (eff 83.47%) (0.497 FP/event)\n"
     ]
    },
    {
     "data": {
      "application/vnd.jupyter.widget-view+json": {
       "model_id": "",
       "version_major": 2,
       "version_minor": 0
      },
      "text/plain": [
       "HBox(children=(FloatProgress(value=0.0, description='Training', layout=Layout(flex='2'), max=1125.0, style=Pro…"
      ]
     },
     "metadata": {},
     "output_type": "display_data"
    },
    {
     "name": "stdout",
     "output_type": "stream",
     "text": [
      "Epoch 421: train=2.13067, val=2.14743, took 43.809 s\n",
      "  Validation Found 9024 of 10819, added 988 (eff 83.41%) (0.494 FP/event)\n"
     ]
    },
    {
     "data": {
      "application/vnd.jupyter.widget-view+json": {
       "model_id": "",
       "version_major": 2,
       "version_minor": 0
      },
      "text/plain": [
       "HBox(children=(FloatProgress(value=0.0, description='Training', layout=Layout(flex='2'), max=1125.0, style=Pro…"
      ]
     },
     "metadata": {},
     "output_type": "display_data"
    },
    {
     "name": "stdout",
     "output_type": "stream",
     "text": [
      "Epoch 422: train=2.13061, val=2.14766, took 44.083 s\n",
      "  Validation Found 9026 of 10819, added 992 (eff 83.43%) (0.496 FP/event)\n"
     ]
    },
    {
     "data": {
      "application/vnd.jupyter.widget-view+json": {
       "model_id": "",
       "version_major": 2,
       "version_minor": 0
      },
      "text/plain": [
       "HBox(children=(FloatProgress(value=0.0, description='Training', layout=Layout(flex='2'), max=1125.0, style=Pro…"
      ]
     },
     "metadata": {},
     "output_type": "display_data"
    },
    {
     "name": "stdout",
     "output_type": "stream",
     "text": [
      "Epoch 423: train=2.13334, val=2.15025, took 43.793 s\n",
      "  Validation Found 9021 of 10819, added 997 (eff 83.38%) (0.498 FP/event)\n"
     ]
    },
    {
     "data": {
      "application/vnd.jupyter.widget-view+json": {
       "model_id": "",
       "version_major": 2,
       "version_minor": 0
      },
      "text/plain": [
       "HBox(children=(FloatProgress(value=0.0, description='Training', layout=Layout(flex='2'), max=1125.0, style=Pro…"
      ]
     },
     "metadata": {},
     "output_type": "display_data"
    },
    {
     "name": "stdout",
     "output_type": "stream",
     "text": [
      "Epoch 424: train=2.12861, val=2.14861, took 43.839 s\n",
      "  Validation Found 9033 of 10819, added 985 (eff 83.49%) (0.492 FP/event)\n"
     ]
    },
    {
     "data": {
      "application/vnd.jupyter.widget-view+json": {
       "model_id": "",
       "version_major": 2,
       "version_minor": 0
      },
      "text/plain": [
       "HBox(children=(FloatProgress(value=0.0, description='Training', layout=Layout(flex='2'), max=1125.0, style=Pro…"
      ]
     },
     "metadata": {},
     "output_type": "display_data"
    },
    {
     "name": "stdout",
     "output_type": "stream",
     "text": [
      "Epoch 425: train=2.12966, val=2.14783, took 43.617 s\n",
      "  Validation Found 9026 of 10819, added 997 (eff 83.43%) (0.498 FP/event)\n"
     ]
    },
    {
     "data": {
      "application/vnd.jupyter.widget-view+json": {
       "model_id": "",
       "version_major": 2,
       "version_minor": 0
      },
      "text/plain": [
       "HBox(children=(FloatProgress(value=0.0, description='Training', layout=Layout(flex='2'), max=1125.0, style=Pro…"
      ]
     },
     "metadata": {},
     "output_type": "display_data"
    },
    {
     "name": "stdout",
     "output_type": "stream",
     "text": [
      "Epoch 426: train=2.13145, val=2.14681, took 43.238 s\n",
      "  Validation Found 9020 of 10819, added 991 (eff 83.37%) (0.495 FP/event)\n"
     ]
    },
    {
     "data": {
      "application/vnd.jupyter.widget-view+json": {
       "model_id": "",
       "version_major": 2,
       "version_minor": 0
      },
      "text/plain": [
       "HBox(children=(FloatProgress(value=0.0, description='Training', layout=Layout(flex='2'), max=1125.0, style=Pro…"
      ]
     },
     "metadata": {},
     "output_type": "display_data"
    },
    {
     "name": "stdout",
     "output_type": "stream",
     "text": [
      "Epoch 427: train=2.13201, val=2.14822, took 43.436 s\n",
      "  Validation Found 9029 of 10819, added 999 (eff 83.46%) (0.499 FP/event)\n"
     ]
    },
    {
     "data": {
      "application/vnd.jupyter.widget-view+json": {
       "model_id": "",
       "version_major": 2,
       "version_minor": 0
      },
      "text/plain": [
       "HBox(children=(FloatProgress(value=0.0, description='Training', layout=Layout(flex='2'), max=1125.0, style=Pro…"
      ]
     },
     "metadata": {},
     "output_type": "display_data"
    },
    {
     "name": "stdout",
     "output_type": "stream",
     "text": [
      "Epoch 428: train=2.1307, val=2.15011, took 43.381 s\n",
      "  Validation Found 9035 of 10819, added 994 (eff 83.51%) (0.497 FP/event)\n"
     ]
    },
    {
     "data": {
      "application/vnd.jupyter.widget-view+json": {
       "model_id": "",
       "version_major": 2,
       "version_minor": 0
      },
      "text/plain": [
       "HBox(children=(FloatProgress(value=0.0, description='Training', layout=Layout(flex='2'), max=1125.0, style=Pro…"
      ]
     },
     "metadata": {},
     "output_type": "display_data"
    },
    {
     "name": "stdout",
     "output_type": "stream",
     "text": [
      "Epoch 429: train=2.12874, val=2.15312, took 43.61 s\n",
      "  Validation Found 9028 of 10819, added 996 (eff 83.45%) (0.498 FP/event)\n"
     ]
    },
    {
     "data": {
      "application/vnd.jupyter.widget-view+json": {
       "model_id": "",
       "version_major": 2,
       "version_minor": 0
      },
      "text/plain": [
       "HBox(children=(FloatProgress(value=0.0, description='Training', layout=Layout(flex='2'), max=1125.0, style=Pro…"
      ]
     },
     "metadata": {},
     "output_type": "display_data"
    },
    {
     "name": "stdout",
     "output_type": "stream",
     "text": [
      "Epoch 430: train=2.12706, val=2.15018, took 43.523 s\n",
      "  Validation Found 9019 of 10819, added 998 (eff 83.36%) (0.499 FP/event)\n"
     ]
    },
    {
     "data": {
      "application/vnd.jupyter.widget-view+json": {
       "model_id": "",
       "version_major": 2,
       "version_minor": 0
      },
      "text/plain": [
       "HBox(children=(FloatProgress(value=0.0, description='Training', layout=Layout(flex='2'), max=1125.0, style=Pro…"
      ]
     },
     "metadata": {},
     "output_type": "display_data"
    },
    {
     "name": "stdout",
     "output_type": "stream",
     "text": [
      "Epoch 431: train=2.12583, val=2.14656, took 43.634 s\n",
      "  Validation Found 9033 of 10819, added 993 (eff 83.49%) (0.496 FP/event)\n"
     ]
    },
    {
     "data": {
      "application/vnd.jupyter.widget-view+json": {
       "model_id": "",
       "version_major": 2,
       "version_minor": 0
      },
      "text/plain": [
       "HBox(children=(FloatProgress(value=0.0, description='Training', layout=Layout(flex='2'), max=1125.0, style=Pro…"
      ]
     },
     "metadata": {},
     "output_type": "display_data"
    },
    {
     "name": "stdout",
     "output_type": "stream",
     "text": [
      "Epoch 432: train=2.12333, val=2.15189, took 43.474 s\n",
      "  Validation Found 9026 of 10819, added 995 (eff 83.43%) (0.497 FP/event)\n"
     ]
    },
    {
     "data": {
      "application/vnd.jupyter.widget-view+json": {
       "model_id": "",
       "version_major": 2,
       "version_minor": 0
      },
      "text/plain": [
       "HBox(children=(FloatProgress(value=0.0, description='Training', layout=Layout(flex='2'), max=1125.0, style=Pro…"
      ]
     },
     "metadata": {},
     "output_type": "display_data"
    },
    {
     "name": "stdout",
     "output_type": "stream",
     "text": [
      "Epoch 433: train=2.13111, val=2.14668, took 43.603 s\n",
      "  Validation Found 9025 of 10819, added 997 (eff 83.42%) (0.498 FP/event)\n"
     ]
    },
    {
     "data": {
      "application/vnd.jupyter.widget-view+json": {
       "model_id": "",
       "version_major": 2,
       "version_minor": 0
      },
      "text/plain": [
       "HBox(children=(FloatProgress(value=0.0, description='Training', layout=Layout(flex='2'), max=1125.0, style=Pro…"
      ]
     },
     "metadata": {},
     "output_type": "display_data"
    },
    {
     "name": "stdout",
     "output_type": "stream",
     "text": [
      "Epoch 434: train=2.12471, val=2.14816, took 43.483 s\n",
      "  Validation Found 9030 of 10819, added 1001 (eff 83.46%) (0.5 FP/event)\n"
     ]
    },
    {
     "data": {
      "application/vnd.jupyter.widget-view+json": {
       "model_id": "",
       "version_major": 2,
       "version_minor": 0
      },
      "text/plain": [
       "HBox(children=(FloatProgress(value=0.0, description='Training', layout=Layout(flex='2'), max=1125.0, style=Pro…"
      ]
     },
     "metadata": {},
     "output_type": "display_data"
    },
    {
     "name": "stdout",
     "output_type": "stream",
     "text": [
      "Epoch 435: train=2.12377, val=2.14609, took 43.446 s\n",
      "  Validation Found 9028 of 10819, added 1002 (eff 83.45%) (0.501 FP/event)\n"
     ]
    },
    {
     "data": {
      "application/vnd.jupyter.widget-view+json": {
       "model_id": "",
       "version_major": 2,
       "version_minor": 0
      },
      "text/plain": [
       "HBox(children=(FloatProgress(value=0.0, description='Training', layout=Layout(flex='2'), max=1125.0, style=Pro…"
      ]
     },
     "metadata": {},
     "output_type": "display_data"
    },
    {
     "name": "stdout",
     "output_type": "stream",
     "text": [
      "Epoch 436: train=2.12576, val=2.14785, took 43.447 s\n",
      "  Validation Found 9028 of 10819, added 994 (eff 83.45%) (0.497 FP/event)\n"
     ]
    },
    {
     "data": {
      "application/vnd.jupyter.widget-view+json": {
       "model_id": "",
       "version_major": 2,
       "version_minor": 0
      },
      "text/plain": [
       "HBox(children=(FloatProgress(value=0.0, description='Training', layout=Layout(flex='2'), max=1125.0, style=Pro…"
      ]
     },
     "metadata": {},
     "output_type": "display_data"
    },
    {
     "name": "stdout",
     "output_type": "stream",
     "text": [
      "Epoch 437: train=2.13085, val=2.16011, took 43.335 s\n",
      "  Validation Found 9023 of 10819, added 996 (eff 83.40%) (0.498 FP/event)\n"
     ]
    },
    {
     "data": {
      "application/vnd.jupyter.widget-view+json": {
       "model_id": "",
       "version_major": 2,
       "version_minor": 0
      },
      "text/plain": [
       "HBox(children=(FloatProgress(value=0.0, description='Training', layout=Layout(flex='2'), max=1125.0, style=Pro…"
      ]
     },
     "metadata": {},
     "output_type": "display_data"
    },
    {
     "name": "stdout",
     "output_type": "stream",
     "text": [
      "Epoch 438: train=2.12578, val=2.1458, took 43.42 s\n",
      "  Validation Found 9033 of 10819, added 995 (eff 83.49%) (0.497 FP/event)\n"
     ]
    },
    {
     "data": {
      "application/vnd.jupyter.widget-view+json": {
       "model_id": "",
       "version_major": 2,
       "version_minor": 0
      },
      "text/plain": [
       "HBox(children=(FloatProgress(value=0.0, description='Training', layout=Layout(flex='2'), max=1125.0, style=Pro…"
      ]
     },
     "metadata": {},
     "output_type": "display_data"
    },
    {
     "name": "stdout",
     "output_type": "stream",
     "text": [
      "Epoch 439: train=2.13005, val=2.14616, took 43.514 s\n",
      "  Validation Found 9030 of 10819, added 995 (eff 83.46%) (0.497 FP/event)\n"
     ]
    },
    {
     "data": {
      "application/vnd.jupyter.widget-view+json": {
       "model_id": "",
       "version_major": 2,
       "version_minor": 0
      },
      "text/plain": [
       "HBox(children=(FloatProgress(value=0.0, description='Training', layout=Layout(flex='2'), max=1125.0, style=Pro…"
      ]
     },
     "metadata": {},
     "output_type": "display_data"
    },
    {
     "name": "stdout",
     "output_type": "stream",
     "text": [
      "Epoch 440: train=2.12589, val=2.14778, took 43.607 s\n",
      "  Validation Found 9030 of 10819, added 1001 (eff 83.46%) (0.5 FP/event)\n"
     ]
    },
    {
     "data": {
      "application/vnd.jupyter.widget-view+json": {
       "model_id": "",
       "version_major": 2,
       "version_minor": 0
      },
      "text/plain": [
       "HBox(children=(FloatProgress(value=0.0, description='Training', layout=Layout(flex='2'), max=1125.0, style=Pro…"
      ]
     },
     "metadata": {},
     "output_type": "display_data"
    },
    {
     "name": "stdout",
     "output_type": "stream",
     "text": [
      "Epoch 441: train=2.12909, val=2.14856, took 43.449 s\n",
      "  Validation Found 9023 of 10819, added 1003 (eff 83.40%) (0.501 FP/event)\n"
     ]
    },
    {
     "data": {
      "application/vnd.jupyter.widget-view+json": {
       "model_id": "",
       "version_major": 2,
       "version_minor": 0
      },
      "text/plain": [
       "HBox(children=(FloatProgress(value=0.0, description='Training', layout=Layout(flex='2'), max=1125.0, style=Pro…"
      ]
     },
     "metadata": {},
     "output_type": "display_data"
    },
    {
     "name": "stdout",
     "output_type": "stream",
     "text": [
      "Epoch 442: train=2.12525, val=2.14589, took 43.544 s\n",
      "  Validation Found 9035 of 10819, added 1000 (eff 83.51%) (0.5 FP/event)\n"
     ]
    },
    {
     "data": {
      "application/vnd.jupyter.widget-view+json": {
       "model_id": "",
       "version_major": 2,
       "version_minor": 0
      },
      "text/plain": [
       "HBox(children=(FloatProgress(value=0.0, description='Training', layout=Layout(flex='2'), max=1125.0, style=Pro…"
      ]
     },
     "metadata": {},
     "output_type": "display_data"
    },
    {
     "name": "stdout",
     "output_type": "stream",
     "text": [
      "Epoch 443: train=2.12513, val=2.14825, took 43.591 s\n",
      "  Validation Found 9022 of 10819, added 999 (eff 83.39%) (0.499 FP/event)\n"
     ]
    },
    {
     "data": {
      "application/vnd.jupyter.widget-view+json": {
       "model_id": "",
       "version_major": 2,
       "version_minor": 0
      },
      "text/plain": [
       "HBox(children=(FloatProgress(value=0.0, description='Training', layout=Layout(flex='2'), max=1125.0, style=Pro…"
      ]
     },
     "metadata": {},
     "output_type": "display_data"
    },
    {
     "name": "stdout",
     "output_type": "stream",
     "text": [
      "Epoch 444: train=2.12571, val=2.14838, took 43.682 s\n",
      "  Validation Found 9027 of 10819, added 995 (eff 83.44%) (0.497 FP/event)\n"
     ]
    },
    {
     "data": {
      "application/vnd.jupyter.widget-view+json": {
       "model_id": "",
       "version_major": 2,
       "version_minor": 0
      },
      "text/plain": [
       "HBox(children=(FloatProgress(value=0.0, description='Training', layout=Layout(flex='2'), max=1125.0, style=Pro…"
      ]
     },
     "metadata": {},
     "output_type": "display_data"
    },
    {
     "name": "stdout",
     "output_type": "stream",
     "text": [
      "Epoch 445: train=2.12576, val=2.14671, took 43.611 s\n",
      "  Validation Found 9033 of 10819, added 988 (eff 83.49%) (0.494 FP/event)\n"
     ]
    },
    {
     "data": {
      "application/vnd.jupyter.widget-view+json": {
       "model_id": "",
       "version_major": 2,
       "version_minor": 0
      },
      "text/plain": [
       "HBox(children=(FloatProgress(value=0.0, description='Training', layout=Layout(flex='2'), max=1125.0, style=Pro…"
      ]
     },
     "metadata": {},
     "output_type": "display_data"
    },
    {
     "name": "stdout",
     "output_type": "stream",
     "text": [
      "Epoch 446: train=2.12612, val=2.14807, took 43.713 s\n",
      "  Validation Found 9031 of 10819, added 998 (eff 83.47%) (0.499 FP/event)\n"
     ]
    },
    {
     "data": {
      "application/vnd.jupyter.widget-view+json": {
       "model_id": "",
       "version_major": 2,
       "version_minor": 0
      },
      "text/plain": [
       "HBox(children=(FloatProgress(value=0.0, description='Training', layout=Layout(flex='2'), max=1125.0, style=Pro…"
      ]
     },
     "metadata": {},
     "output_type": "display_data"
    },
    {
     "name": "stdout",
     "output_type": "stream",
     "text": [
      "Epoch 447: train=2.12928, val=2.14681, took 43.648 s\n",
      "  Validation Found 9027 of 10819, added 996 (eff 83.44%) (0.498 FP/event)\n"
     ]
    },
    {
     "data": {
      "application/vnd.jupyter.widget-view+json": {
       "model_id": "",
       "version_major": 2,
       "version_minor": 0
      },
      "text/plain": [
       "HBox(children=(FloatProgress(value=0.0, description='Training', layout=Layout(flex='2'), max=1125.0, style=Pro…"
      ]
     },
     "metadata": {},
     "output_type": "display_data"
    },
    {
     "name": "stdout",
     "output_type": "stream",
     "text": [
      "Epoch 448: train=2.12733, val=2.14881, took 43.572 s\n",
      "  Validation Found 9025 of 10819, added 998 (eff 83.42%) (0.499 FP/event)\n"
     ]
    },
    {
     "data": {
      "application/vnd.jupyter.widget-view+json": {
       "model_id": "",
       "version_major": 2,
       "version_minor": 0
      },
      "text/plain": [
       "HBox(children=(FloatProgress(value=0.0, description='Training', layout=Layout(flex='2'), max=1125.0, style=Pro…"
      ]
     },
     "metadata": {},
     "output_type": "display_data"
    },
    {
     "name": "stdout",
     "output_type": "stream",
     "text": [
      "Epoch 449: train=2.13093, val=2.14627, took 43.555 s\n",
      "  Validation Found 9036 of 10819, added 998 (eff 83.52%) (0.499 FP/event)\n"
     ]
    },
    {
     "data": {
      "application/vnd.jupyter.widget-view+json": {
       "model_id": "",
       "version_major": 2,
       "version_minor": 0
      },
      "text/plain": [
       "HBox(children=(FloatProgress(value=0.0, description='Training', layout=Layout(flex='2'), max=1125.0, style=Pro…"
      ]
     },
     "metadata": {},
     "output_type": "display_data"
    },
    {
     "name": "stdout",
     "output_type": "stream",
     "text": [
      "Epoch 450: train=2.12809, val=2.15119, took 43.744 s\n",
      "  Validation Found 9033 of 10819, added 997 (eff 83.49%) (0.498 FP/event)\n"
     ]
    },
    {
     "data": {
      "application/vnd.jupyter.widget-view+json": {
       "model_id": "",
       "version_major": 2,
       "version_minor": 0
      },
      "text/plain": [
       "HBox(children=(FloatProgress(value=0.0, description='Training', layout=Layout(flex='2'), max=1125.0, style=Pro…"
      ]
     },
     "metadata": {},
     "output_type": "display_data"
    },
    {
     "name": "stdout",
     "output_type": "stream",
     "text": [
      "Epoch 451: train=2.12335, val=2.14625, took 43.683 s\n",
      "  Validation Found 9031 of 10819, added 1000 (eff 83.47%) (0.5 FP/event)\n"
     ]
    },
    {
     "data": {
      "application/vnd.jupyter.widget-view+json": {
       "model_id": "",
       "version_major": 2,
       "version_minor": 0
      },
      "text/plain": [
       "HBox(children=(FloatProgress(value=0.0, description='Training', layout=Layout(flex='2'), max=1125.0, style=Pro…"
      ]
     },
     "metadata": {},
     "output_type": "display_data"
    },
    {
     "name": "stdout",
     "output_type": "stream",
     "text": [
      "Epoch 452: train=2.12943, val=2.14575, took 43.413 s\n",
      "  Validation Found 9026 of 10819, added 993 (eff 83.43%) (0.496 FP/event)\n"
     ]
    },
    {
     "data": {
      "application/vnd.jupyter.widget-view+json": {
       "model_id": "",
       "version_major": 2,
       "version_minor": 0
      },
      "text/plain": [
       "HBox(children=(FloatProgress(value=0.0, description='Training', layout=Layout(flex='2'), max=1125.0, style=Pro…"
      ]
     },
     "metadata": {},
     "output_type": "display_data"
    },
    {
     "name": "stdout",
     "output_type": "stream",
     "text": [
      "Epoch 453: train=2.12304, val=2.15223, took 43.493 s\n",
      "  Validation Found 9030 of 10819, added 998 (eff 83.46%) (0.499 FP/event)\n"
     ]
    },
    {
     "data": {
      "application/vnd.jupyter.widget-view+json": {
       "model_id": "",
       "version_major": 2,
       "version_minor": 0
      },
      "text/plain": [
       "HBox(children=(FloatProgress(value=0.0, description='Training', layout=Layout(flex='2'), max=1125.0, style=Pro…"
      ]
     },
     "metadata": {},
     "output_type": "display_data"
    },
    {
     "name": "stdout",
     "output_type": "stream",
     "text": [
      "Epoch 454: train=2.12454, val=2.14716, took 43.427 s\n",
      "  Validation Found 9024 of 10819, added 994 (eff 83.41%) (0.497 FP/event)\n"
     ]
    },
    {
     "data": {
      "application/vnd.jupyter.widget-view+json": {
       "model_id": "",
       "version_major": 2,
       "version_minor": 0
      },
      "text/plain": [
       "HBox(children=(FloatProgress(value=0.0, description='Training', layout=Layout(flex='2'), max=1125.0, style=Pro…"
      ]
     },
     "metadata": {},
     "output_type": "display_data"
    },
    {
     "name": "stdout",
     "output_type": "stream",
     "text": [
      "Epoch 455: train=2.12531, val=2.1461, took 43.442 s\n",
      "  Validation Found 9036 of 10819, added 992 (eff 83.52%) (0.496 FP/event)\n"
     ]
    },
    {
     "data": {
      "application/vnd.jupyter.widget-view+json": {
       "model_id": "",
       "version_major": 2,
       "version_minor": 0
      },
      "text/plain": [
       "HBox(children=(FloatProgress(value=0.0, description='Training', layout=Layout(flex='2'), max=1125.0, style=Pro…"
      ]
     },
     "metadata": {},
     "output_type": "display_data"
    },
    {
     "name": "stdout",
     "output_type": "stream",
     "text": [
      "Epoch 456: train=2.12425, val=2.14869, took 43.531 s\n",
      "  Validation Found 9029 of 10819, added 1000 (eff 83.46%) (0.5 FP/event)\n"
     ]
    },
    {
     "data": {
      "application/vnd.jupyter.widget-view+json": {
       "model_id": "",
       "version_major": 2,
       "version_minor": 0
      },
      "text/plain": [
       "HBox(children=(FloatProgress(value=0.0, description='Training', layout=Layout(flex='2'), max=1125.0, style=Pro…"
      ]
     },
     "metadata": {},
     "output_type": "display_data"
    },
    {
     "name": "stdout",
     "output_type": "stream",
     "text": [
      "Epoch 457: train=2.12609, val=2.14688, took 43.473 s\n",
      "  Validation Found 9033 of 10819, added 999 (eff 83.49%) (0.499 FP/event)\n"
     ]
    },
    {
     "data": {
      "application/vnd.jupyter.widget-view+json": {
       "model_id": "",
       "version_major": 2,
       "version_minor": 0
      },
      "text/plain": [
       "HBox(children=(FloatProgress(value=0.0, description='Training', layout=Layout(flex='2'), max=1125.0, style=Pro…"
      ]
     },
     "metadata": {},
     "output_type": "display_data"
    },
    {
     "name": "stdout",
     "output_type": "stream",
     "text": [
      "Epoch 458: train=2.12343, val=2.14581, took 43.449 s\n",
      "  Validation Found 9035 of 10819, added 988 (eff 83.51%) (0.494 FP/event)\n"
     ]
    },
    {
     "data": {
      "application/vnd.jupyter.widget-view+json": {
       "model_id": "",
       "version_major": 2,
       "version_minor": 0
      },
      "text/plain": [
       "HBox(children=(FloatProgress(value=0.0, description='Training', layout=Layout(flex='2'), max=1125.0, style=Pro…"
      ]
     },
     "metadata": {},
     "output_type": "display_data"
    },
    {
     "name": "stdout",
     "output_type": "stream",
     "text": [
      "Epoch 459: train=2.12434, val=2.14554, took 43.75 s\n",
      "  Validation Found 9041 of 10819, added 993 (eff 83.57%) (0.496 FP/event)\n"
     ]
    },
    {
     "data": {
      "application/vnd.jupyter.widget-view+json": {
       "model_id": "",
       "version_major": 2,
       "version_minor": 0
      },
      "text/plain": [
       "HBox(children=(FloatProgress(value=0.0, description='Training', layout=Layout(flex='2'), max=1125.0, style=Pro…"
      ]
     },
     "metadata": {},
     "output_type": "display_data"
    },
    {
     "name": "stdout",
     "output_type": "stream",
     "text": [
      "Epoch 460: train=2.13048, val=2.14811, took 43.686 s\n",
      "  Validation Found 9042 of 10819, added 995 (eff 83.58%) (0.497 FP/event)\n"
     ]
    },
    {
     "data": {
      "application/vnd.jupyter.widget-view+json": {
       "model_id": "",
       "version_major": 2,
       "version_minor": 0
      },
      "text/plain": [
       "HBox(children=(FloatProgress(value=0.0, description='Training', layout=Layout(flex='2'), max=1125.0, style=Pro…"
      ]
     },
     "metadata": {},
     "output_type": "display_data"
    },
    {
     "name": "stdout",
     "output_type": "stream",
     "text": [
      "Epoch 461: train=2.12521, val=2.14844, took 43.687 s\n",
      "  Validation Found 9041 of 10819, added 992 (eff 83.57%) (0.496 FP/event)\n"
     ]
    },
    {
     "data": {
      "application/vnd.jupyter.widget-view+json": {
       "model_id": "",
       "version_major": 2,
       "version_minor": 0
      },
      "text/plain": [
       "HBox(children=(FloatProgress(value=0.0, description='Training', layout=Layout(flex='2'), max=1125.0, style=Pro…"
      ]
     },
     "metadata": {},
     "output_type": "display_data"
    },
    {
     "name": "stdout",
     "output_type": "stream",
     "text": [
      "Epoch 462: train=2.1208, val=2.14937, took 43.605 s\n",
      "  Validation Found 9028 of 10819, added 993 (eff 83.45%) (0.496 FP/event)\n"
     ]
    },
    {
     "data": {
      "application/vnd.jupyter.widget-view+json": {
       "model_id": "",
       "version_major": 2,
       "version_minor": 0
      },
      "text/plain": [
       "HBox(children=(FloatProgress(value=0.0, description='Training', layout=Layout(flex='2'), max=1125.0, style=Pro…"
      ]
     },
     "metadata": {},
     "output_type": "display_data"
    },
    {
     "name": "stdout",
     "output_type": "stream",
     "text": [
      "Epoch 463: train=2.12614, val=2.14695, took 43.517 s\n",
      "  Validation Found 9039 of 10819, added 991 (eff 83.55%) (0.495 FP/event)\n"
     ]
    },
    {
     "data": {
      "application/vnd.jupyter.widget-view+json": {
       "model_id": "",
       "version_major": 2,
       "version_minor": 0
      },
      "text/plain": [
       "HBox(children=(FloatProgress(value=0.0, description='Training', layout=Layout(flex='2'), max=1125.0, style=Pro…"
      ]
     },
     "metadata": {},
     "output_type": "display_data"
    },
    {
     "name": "stdout",
     "output_type": "stream",
     "text": [
      "Epoch 464: train=2.12545, val=2.14443, took 43.44 s\n",
      "  Validation Found 9038 of 10819, added 988 (eff 83.54%) (0.494 FP/event)\n"
     ]
    },
    {
     "data": {
      "application/vnd.jupyter.widget-view+json": {
       "model_id": "",
       "version_major": 2,
       "version_minor": 0
      },
      "text/plain": [
       "HBox(children=(FloatProgress(value=0.0, description='Training', layout=Layout(flex='2'), max=1125.0, style=Pro…"
      ]
     },
     "metadata": {},
     "output_type": "display_data"
    },
    {
     "name": "stdout",
     "output_type": "stream",
     "text": [
      "Epoch 465: train=2.12405, val=2.14582, took 43.549 s\n",
      "  Validation Found 9025 of 10819, added 997 (eff 83.42%) (0.498 FP/event)\n"
     ]
    },
    {
     "data": {
      "application/vnd.jupyter.widget-view+json": {
       "model_id": "",
       "version_major": 2,
       "version_minor": 0
      },
      "text/plain": [
       "HBox(children=(FloatProgress(value=0.0, description='Training', layout=Layout(flex='2'), max=1125.0, style=Pro…"
      ]
     },
     "metadata": {},
     "output_type": "display_data"
    },
    {
     "name": "stdout",
     "output_type": "stream",
     "text": [
      "Epoch 466: train=2.12568, val=2.15004, took 43.464 s\n",
      "  Validation Found 9027 of 10819, added 998 (eff 83.44%) (0.499 FP/event)\n"
     ]
    },
    {
     "data": {
      "application/vnd.jupyter.widget-view+json": {
       "model_id": "",
       "version_major": 2,
       "version_minor": 0
      },
      "text/plain": [
       "HBox(children=(FloatProgress(value=0.0, description='Training', layout=Layout(flex='2'), max=1125.0, style=Pro…"
      ]
     },
     "metadata": {},
     "output_type": "display_data"
    },
    {
     "name": "stdout",
     "output_type": "stream",
     "text": [
      "Epoch 467: train=2.12472, val=2.15142, took 43.805 s\n",
      "  Validation Found 9033 of 10819, added 999 (eff 83.49%) (0.499 FP/event)\n"
     ]
    },
    {
     "data": {
      "application/vnd.jupyter.widget-view+json": {
       "model_id": "",
       "version_major": 2,
       "version_minor": 0
      },
      "text/plain": [
       "HBox(children=(FloatProgress(value=0.0, description='Training', layout=Layout(flex='2'), max=1125.0, style=Pro…"
      ]
     },
     "metadata": {},
     "output_type": "display_data"
    },
    {
     "name": "stdout",
     "output_type": "stream",
     "text": [
      "Epoch 468: train=2.12572, val=2.14442, took 43.827 s\n",
      "  Validation Found 9044 of 10819, added 993 (eff 83.59%) (0.496 FP/event)\n"
     ]
    },
    {
     "data": {
      "application/vnd.jupyter.widget-view+json": {
       "model_id": "",
       "version_major": 2,
       "version_minor": 0
      },
      "text/plain": [
       "HBox(children=(FloatProgress(value=0.0, description='Training', layout=Layout(flex='2'), max=1125.0, style=Pro…"
      ]
     },
     "metadata": {},
     "output_type": "display_data"
    },
    {
     "name": "stdout",
     "output_type": "stream",
     "text": [
      "Epoch 469: train=2.12334, val=2.14823, took 43.474 s\n",
      "  Validation Found 9041 of 10819, added 1002 (eff 83.57%) (0.501 FP/event)\n"
     ]
    },
    {
     "data": {
      "application/vnd.jupyter.widget-view+json": {
       "model_id": "",
       "version_major": 2,
       "version_minor": 0
      },
      "text/plain": [
       "HBox(children=(FloatProgress(value=0.0, description='Training', layout=Layout(flex='2'), max=1125.0, style=Pro…"
      ]
     },
     "metadata": {},
     "output_type": "display_data"
    },
    {
     "name": "stdout",
     "output_type": "stream",
     "text": [
      "Epoch 470: train=2.12383, val=2.1476, took 43.548 s\n",
      "  Validation Found 9046 of 10819, added 993 (eff 83.61%) (0.496 FP/event)\n"
     ]
    },
    {
     "data": {
      "application/vnd.jupyter.widget-view+json": {
       "model_id": "",
       "version_major": 2,
       "version_minor": 0
      },
      "text/plain": [
       "HBox(children=(FloatProgress(value=0.0, description='Training', layout=Layout(flex='2'), max=1125.0, style=Pro…"
      ]
     },
     "metadata": {},
     "output_type": "display_data"
    },
    {
     "name": "stdout",
     "output_type": "stream",
     "text": [
      "Epoch 471: train=2.12188, val=2.14546, took 43.45 s\n",
      "  Validation Found 9033 of 10819, added 997 (eff 83.49%) (0.498 FP/event)\n"
     ]
    },
    {
     "data": {
      "application/vnd.jupyter.widget-view+json": {
       "model_id": "",
       "version_major": 2,
       "version_minor": 0
      },
      "text/plain": [
       "HBox(children=(FloatProgress(value=0.0, description='Training', layout=Layout(flex='2'), max=1125.0, style=Pro…"
      ]
     },
     "metadata": {},
     "output_type": "display_data"
    },
    {
     "name": "stdout",
     "output_type": "stream",
     "text": [
      "Epoch 472: train=2.12429, val=2.14879, took 43.559 s\n",
      "  Validation Found 9029 of 10819, added 1002 (eff 83.46%) (0.501 FP/event)\n"
     ]
    },
    {
     "data": {
      "application/vnd.jupyter.widget-view+json": {
       "model_id": "",
       "version_major": 2,
       "version_minor": 0
      },
      "text/plain": [
       "HBox(children=(FloatProgress(value=0.0, description='Training', layout=Layout(flex='2'), max=1125.0, style=Pro…"
      ]
     },
     "metadata": {},
     "output_type": "display_data"
    },
    {
     "name": "stdout",
     "output_type": "stream",
     "text": [
      "Epoch 473: train=2.12819, val=2.14592, took 43.78 s\n",
      "  Validation Found 9030 of 10819, added 995 (eff 83.46%) (0.497 FP/event)\n"
     ]
    },
    {
     "data": {
      "application/vnd.jupyter.widget-view+json": {
       "model_id": "",
       "version_major": 2,
       "version_minor": 0
      },
      "text/plain": [
       "HBox(children=(FloatProgress(value=0.0, description='Training', layout=Layout(flex='2'), max=1125.0, style=Pro…"
      ]
     },
     "metadata": {},
     "output_type": "display_data"
    },
    {
     "name": "stdout",
     "output_type": "stream",
     "text": [
      "Epoch 474: train=2.12302, val=2.14459, took 43.919 s\n",
      "  Validation Found 9030 of 10819, added 986 (eff 83.46%) (0.493 FP/event)\n"
     ]
    },
    {
     "data": {
      "application/vnd.jupyter.widget-view+json": {
       "model_id": "",
       "version_major": 2,
       "version_minor": 0
      },
      "text/plain": [
       "HBox(children=(FloatProgress(value=0.0, description='Training', layout=Layout(flex='2'), max=1125.0, style=Pro…"
      ]
     },
     "metadata": {},
     "output_type": "display_data"
    },
    {
     "name": "stdout",
     "output_type": "stream",
     "text": [
      "Epoch 475: train=2.12623, val=2.14999, took 43.683 s\n",
      "  Validation Found 9021 of 10819, added 988 (eff 83.38%) (0.494 FP/event)\n"
     ]
    },
    {
     "data": {
      "application/vnd.jupyter.widget-view+json": {
       "model_id": "",
       "version_major": 2,
       "version_minor": 0
      },
      "text/plain": [
       "HBox(children=(FloatProgress(value=0.0, description='Training', layout=Layout(flex='2'), max=1125.0, style=Pro…"
      ]
     },
     "metadata": {},
     "output_type": "display_data"
    },
    {
     "name": "stdout",
     "output_type": "stream",
     "text": [
      "Epoch 476: train=2.12449, val=2.1457, took 43.548 s\n",
      "  Validation Found 9034 of 10819, added 997 (eff 83.50%) (0.498 FP/event)\n"
     ]
    },
    {
     "data": {
      "application/vnd.jupyter.widget-view+json": {
       "model_id": "",
       "version_major": 2,
       "version_minor": 0
      },
      "text/plain": [
       "HBox(children=(FloatProgress(value=0.0, description='Training', layout=Layout(flex='2'), max=1125.0, style=Pro…"
      ]
     },
     "metadata": {},
     "output_type": "display_data"
    },
    {
     "name": "stdout",
     "output_type": "stream",
     "text": [
      "Epoch 477: train=2.1276, val=2.14946, took 43.684 s\n",
      "  Validation Found 9039 of 10819, added 999 (eff 83.55%) (0.499 FP/event)\n"
     ]
    },
    {
     "data": {
      "application/vnd.jupyter.widget-view+json": {
       "model_id": "",
       "version_major": 2,
       "version_minor": 0
      },
      "text/plain": [
       "HBox(children=(FloatProgress(value=0.0, description='Training', layout=Layout(flex='2'), max=1125.0, style=Pro…"
      ]
     },
     "metadata": {},
     "output_type": "display_data"
    },
    {
     "name": "stdout",
     "output_type": "stream",
     "text": [
      "Epoch 478: train=2.12146, val=2.14915, took 43.647 s\n",
      "  Validation Found 9035 of 10819, added 995 (eff 83.51%) (0.497 FP/event)\n"
     ]
    },
    {
     "data": {
      "application/vnd.jupyter.widget-view+json": {
       "model_id": "",
       "version_major": 2,
       "version_minor": 0
      },
      "text/plain": [
       "HBox(children=(FloatProgress(value=0.0, description='Training', layout=Layout(flex='2'), max=1125.0, style=Pro…"
      ]
     },
     "metadata": {},
     "output_type": "display_data"
    },
    {
     "name": "stdout",
     "output_type": "stream",
     "text": [
      "Epoch 479: train=2.12154, val=2.14571, took 43.666 s\n",
      "  Validation Found 9043 of 10819, added 986 (eff 83.58%) (0.493 FP/event)\n"
     ]
    },
    {
     "data": {
      "application/vnd.jupyter.widget-view+json": {
       "model_id": "",
       "version_major": 2,
       "version_minor": 0
      },
      "text/plain": [
       "HBox(children=(FloatProgress(value=0.0, description='Training', layout=Layout(flex='2'), max=1125.0, style=Pro…"
      ]
     },
     "metadata": {},
     "output_type": "display_data"
    },
    {
     "name": "stdout",
     "output_type": "stream",
     "text": [
      "Epoch 480: train=2.11967, val=2.14537, took 43.85 s\n",
      "  Validation Found 9041 of 10819, added 981 (eff 83.57%) (0.49 FP/event)\n"
     ]
    },
    {
     "data": {
      "application/vnd.jupyter.widget-view+json": {
       "model_id": "",
       "version_major": 2,
       "version_minor": 0
      },
      "text/plain": [
       "HBox(children=(FloatProgress(value=0.0, description='Training', layout=Layout(flex='2'), max=1125.0, style=Pro…"
      ]
     },
     "metadata": {},
     "output_type": "display_data"
    },
    {
     "name": "stdout",
     "output_type": "stream",
     "text": [
      "Epoch 481: train=2.12022, val=2.14619, took 43.755 s\n",
      "  Validation Found 9037 of 10819, added 997 (eff 83.53%) (0.498 FP/event)\n"
     ]
    },
    {
     "data": {
      "application/vnd.jupyter.widget-view+json": {
       "model_id": "",
       "version_major": 2,
       "version_minor": 0
      },
      "text/plain": [
       "HBox(children=(FloatProgress(value=0.0, description='Training', layout=Layout(flex='2'), max=1125.0, style=Pro…"
      ]
     },
     "metadata": {},
     "output_type": "display_data"
    },
    {
     "name": "stdout",
     "output_type": "stream",
     "text": [
      "Epoch 482: train=2.12447, val=2.15048, took 43.822 s\n",
      "  Validation Found 9038 of 10819, added 993 (eff 83.54%) (0.496 FP/event)\n"
     ]
    },
    {
     "data": {
      "application/vnd.jupyter.widget-view+json": {
       "model_id": "",
       "version_major": 2,
       "version_minor": 0
      },
      "text/plain": [
       "HBox(children=(FloatProgress(value=0.0, description='Training', layout=Layout(flex='2'), max=1125.0, style=Pro…"
      ]
     },
     "metadata": {},
     "output_type": "display_data"
    },
    {
     "name": "stdout",
     "output_type": "stream",
     "text": [
      "Epoch 483: train=2.11896, val=2.14534, took 43.909 s\n",
      "  Validation Found 9036 of 10819, added 987 (eff 83.52%) (0.493 FP/event)\n"
     ]
    },
    {
     "data": {
      "application/vnd.jupyter.widget-view+json": {
       "model_id": "",
       "version_major": 2,
       "version_minor": 0
      },
      "text/plain": [
       "HBox(children=(FloatProgress(value=0.0, description='Training', layout=Layout(flex='2'), max=1125.0, style=Pro…"
      ]
     },
     "metadata": {},
     "output_type": "display_data"
    },
    {
     "name": "stdout",
     "output_type": "stream",
     "text": [
      "Epoch 484: train=2.12227, val=2.14932, took 43.961 s\n",
      "  Validation Found 9032 of 10819, added 993 (eff 83.48%) (0.496 FP/event)\n"
     ]
    },
    {
     "data": {
      "application/vnd.jupyter.widget-view+json": {
       "model_id": "",
       "version_major": 2,
       "version_minor": 0
      },
      "text/plain": [
       "HBox(children=(FloatProgress(value=0.0, description='Training', layout=Layout(flex='2'), max=1125.0, style=Pro…"
      ]
     },
     "metadata": {},
     "output_type": "display_data"
    },
    {
     "name": "stdout",
     "output_type": "stream",
     "text": [
      "Epoch 485: train=2.12143, val=2.14505, took 43.908 s\n",
      "  Validation Found 9046 of 10819, added 993 (eff 83.61%) (0.496 FP/event)\n"
     ]
    },
    {
     "data": {
      "application/vnd.jupyter.widget-view+json": {
       "model_id": "",
       "version_major": 2,
       "version_minor": 0
      },
      "text/plain": [
       "HBox(children=(FloatProgress(value=0.0, description='Training', layout=Layout(flex='2'), max=1125.0, style=Pro…"
      ]
     },
     "metadata": {},
     "output_type": "display_data"
    },
    {
     "name": "stdout",
     "output_type": "stream",
     "text": [
      "Epoch 486: train=2.12393, val=2.14776, took 43.69 s\n",
      "  Validation Found 9036 of 10819, added 992 (eff 83.52%) (0.496 FP/event)\n"
     ]
    },
    {
     "data": {
      "application/vnd.jupyter.widget-view+json": {
       "model_id": "",
       "version_major": 2,
       "version_minor": 0
      },
      "text/plain": [
       "HBox(children=(FloatProgress(value=0.0, description='Training', layout=Layout(flex='2'), max=1125.0, style=Pro…"
      ]
     },
     "metadata": {},
     "output_type": "display_data"
    },
    {
     "name": "stdout",
     "output_type": "stream",
     "text": [
      "Epoch 487: train=2.12006, val=2.14684, took 44.048 s\n",
      "  Validation Found 9032 of 10819, added 999 (eff 83.48%) (0.499 FP/event)\n"
     ]
    },
    {
     "data": {
      "application/vnd.jupyter.widget-view+json": {
       "model_id": "",
       "version_major": 2,
       "version_minor": 0
      },
      "text/plain": [
       "HBox(children=(FloatProgress(value=0.0, description='Training', layout=Layout(flex='2'), max=1125.0, style=Pro…"
      ]
     },
     "metadata": {},
     "output_type": "display_data"
    },
    {
     "name": "stdout",
     "output_type": "stream",
     "text": [
      "Epoch 488: train=2.11785, val=2.14676, took 43.773 s\n",
      "  Validation Found 9038 of 10819, added 992 (eff 83.54%) (0.496 FP/event)\n"
     ]
    },
    {
     "data": {
      "application/vnd.jupyter.widget-view+json": {
       "model_id": "",
       "version_major": 2,
       "version_minor": 0
      },
      "text/plain": [
       "HBox(children=(FloatProgress(value=0.0, description='Training', layout=Layout(flex='2'), max=1125.0, style=Pro…"
      ]
     },
     "metadata": {},
     "output_type": "display_data"
    },
    {
     "name": "stdout",
     "output_type": "stream",
     "text": [
      "Epoch 489: train=2.11888, val=2.14578, took 43.789 s\n",
      "  Validation Found 9032 of 10819, added 991 (eff 83.48%) (0.495 FP/event)\n"
     ]
    },
    {
     "data": {
      "application/vnd.jupyter.widget-view+json": {
       "model_id": "",
       "version_major": 2,
       "version_minor": 0
      },
      "text/plain": [
       "HBox(children=(FloatProgress(value=0.0, description='Training', layout=Layout(flex='2'), max=1125.0, style=Pro…"
      ]
     },
     "metadata": {},
     "output_type": "display_data"
    },
    {
     "name": "stdout",
     "output_type": "stream",
     "text": [
      "Epoch 490: train=2.1234, val=2.14902, took 43.776 s\n",
      "  Validation Found 9036 of 10819, added 996 (eff 83.52%) (0.498 FP/event)\n"
     ]
    },
    {
     "data": {
      "application/vnd.jupyter.widget-view+json": {
       "model_id": "",
       "version_major": 2,
       "version_minor": 0
      },
      "text/plain": [
       "HBox(children=(FloatProgress(value=0.0, description='Training', layout=Layout(flex='2'), max=1125.0, style=Pro…"
      ]
     },
     "metadata": {},
     "output_type": "display_data"
    },
    {
     "name": "stdout",
     "output_type": "stream",
     "text": [
      "Epoch 491: train=2.12311, val=2.14564, took 43.742 s\n",
      "  Validation Found 9041 of 10819, added 992 (eff 83.57%) (0.496 FP/event)\n"
     ]
    },
    {
     "data": {
      "application/vnd.jupyter.widget-view+json": {
       "model_id": "",
       "version_major": 2,
       "version_minor": 0
      },
      "text/plain": [
       "HBox(children=(FloatProgress(value=0.0, description='Training', layout=Layout(flex='2'), max=1125.0, style=Pro…"
      ]
     },
     "metadata": {},
     "output_type": "display_data"
    },
    {
     "name": "stdout",
     "output_type": "stream",
     "text": [
      "Epoch 492: train=2.11642, val=2.14923, took 43.756 s\n",
      "  Validation Found 9035 of 10819, added 1000 (eff 83.51%) (0.5 FP/event)\n"
     ]
    },
    {
     "data": {
      "application/vnd.jupyter.widget-view+json": {
       "model_id": "",
       "version_major": 2,
       "version_minor": 0
      },
      "text/plain": [
       "HBox(children=(FloatProgress(value=0.0, description='Training', layout=Layout(flex='2'), max=1125.0, style=Pro…"
      ]
     },
     "metadata": {},
     "output_type": "display_data"
    },
    {
     "name": "stdout",
     "output_type": "stream",
     "text": [
      "Epoch 493: train=2.11983, val=2.14405, took 43.748 s\n",
      "  Validation Found 9038 of 10819, added 993 (eff 83.54%) (0.496 FP/event)\n"
     ]
    },
    {
     "data": {
      "application/vnd.jupyter.widget-view+json": {
       "model_id": "",
       "version_major": 2,
       "version_minor": 0
      },
      "text/plain": [
       "HBox(children=(FloatProgress(value=0.0, description='Training', layout=Layout(flex='2'), max=1125.0, style=Pro…"
      ]
     },
     "metadata": {},
     "output_type": "display_data"
    },
    {
     "name": "stdout",
     "output_type": "stream",
     "text": [
      "Epoch 494: train=2.12063, val=2.14934, took 43.683 s\n",
      "  Validation Found 9032 of 10819, added 998 (eff 83.48%) (0.499 FP/event)\n"
     ]
    },
    {
     "data": {
      "application/vnd.jupyter.widget-view+json": {
       "model_id": "",
       "version_major": 2,
       "version_minor": 0
      },
      "text/plain": [
       "HBox(children=(FloatProgress(value=0.0, description='Training', layout=Layout(flex='2'), max=1125.0, style=Pro…"
      ]
     },
     "metadata": {},
     "output_type": "display_data"
    },
    {
     "name": "stdout",
     "output_type": "stream",
     "text": [
      "Epoch 495: train=2.12252, val=2.14507, took 43.665 s\n",
      "  Validation Found 9034 of 10819, added 992 (eff 83.50%) (0.496 FP/event)\n"
     ]
    },
    {
     "data": {
      "application/vnd.jupyter.widget-view+json": {
       "model_id": "",
       "version_major": 2,
       "version_minor": 0
      },
      "text/plain": [
       "HBox(children=(FloatProgress(value=0.0, description='Training', layout=Layout(flex='2'), max=1125.0, style=Pro…"
      ]
     },
     "metadata": {},
     "output_type": "display_data"
    },
    {
     "name": "stdout",
     "output_type": "stream",
     "text": [
      "Epoch 496: train=2.12311, val=2.14723, took 43.717 s\n",
      "  Validation Found 9037 of 10819, added 998 (eff 83.53%) (0.499 FP/event)\n"
     ]
    },
    {
     "data": {
      "application/vnd.jupyter.widget-view+json": {
       "model_id": "",
       "version_major": 2,
       "version_minor": 0
      },
      "text/plain": [
       "HBox(children=(FloatProgress(value=0.0, description='Training', layout=Layout(flex='2'), max=1125.0, style=Pro…"
      ]
     },
     "metadata": {},
     "output_type": "display_data"
    },
    {
     "name": "stdout",
     "output_type": "stream",
     "text": [
      "Epoch 497: train=2.11919, val=2.14374, took 43.636 s\n",
      "  Validation Found 9034 of 10819, added 994 (eff 83.50%) (0.497 FP/event)\n"
     ]
    },
    {
     "data": {
      "application/vnd.jupyter.widget-view+json": {
       "model_id": "",
       "version_major": 2,
       "version_minor": 0
      },
      "text/plain": [
       "HBox(children=(FloatProgress(value=0.0, description='Training', layout=Layout(flex='2'), max=1125.0, style=Pro…"
      ]
     },
     "metadata": {},
     "output_type": "display_data"
    },
    {
     "name": "stdout",
     "output_type": "stream",
     "text": [
      "Epoch 498: train=2.12114, val=2.14631, took 44.158 s\n",
      "  Validation Found 9036 of 10819, added 992 (eff 83.52%) (0.496 FP/event)\n"
     ]
    },
    {
     "data": {
      "application/vnd.jupyter.widget-view+json": {
       "model_id": "",
       "version_major": 2,
       "version_minor": 0
      },
      "text/plain": [
       "HBox(children=(FloatProgress(value=0.0, description='Training', layout=Layout(flex='2'), max=1125.0, style=Pro…"
      ]
     },
     "metadata": {},
     "output_type": "display_data"
    },
    {
     "name": "stdout",
     "output_type": "stream",
     "text": [
      "Epoch 499: train=2.12102, val=2.14694, took 43.946 s\n",
      "  Validation Found 9039 of 10819, added 992 (eff 83.55%) (0.496 FP/event)\n"
     ]
    },
    {
     "data": {
      "application/vnd.jupyter.widget-view+json": {
       "model_id": "",
       "version_major": 2,
       "version_minor": 0
      },
      "text/plain": [
       "HBox(children=(FloatProgress(value=0.0, description='Training', layout=Layout(flex='2'), max=1125.0, style=Pro…"
      ]
     },
     "metadata": {},
     "output_type": "display_data"
    },
    {
     "name": "stdout",
     "output_type": "stream",
     "text": [
      "Epoch 500: train=2.12034, val=2.14523, took 43.756 s\n",
      "  Validation Found 9040 of 10819, added 989 (eff 83.56%) (0.494 FP/event)\n"
     ]
    },
    {
     "data": {
      "application/vnd.jupyter.widget-view+json": {
       "model_id": "",
       "version_major": 2,
       "version_minor": 0
      },
      "text/plain": [
       "HBox(children=(FloatProgress(value=0.0, description='Training', layout=Layout(flex='2'), max=1125.0, style=Pro…"
      ]
     },
     "metadata": {},
     "output_type": "display_data"
    },
    {
     "name": "stdout",
     "output_type": "stream",
     "text": [
      "Epoch 501: train=2.11764, val=2.14414, took 43.587 s\n",
      "  Validation Found 9032 of 10819, added 989 (eff 83.48%) (0.494 FP/event)\n"
     ]
    },
    {
     "data": {
      "application/vnd.jupyter.widget-view+json": {
       "model_id": "",
       "version_major": 2,
       "version_minor": 0
      },
      "text/plain": [
       "HBox(children=(FloatProgress(value=0.0, description='Training', layout=Layout(flex='2'), max=1125.0, style=Pro…"
      ]
     },
     "metadata": {},
     "output_type": "display_data"
    },
    {
     "name": "stdout",
     "output_type": "stream",
     "text": [
      "Epoch 502: train=2.11814, val=2.14395, took 43.625 s\n",
      "  Validation Found 9029 of 10819, added 984 (eff 83.46%) (0.492 FP/event)\n"
     ]
    },
    {
     "data": {
      "application/vnd.jupyter.widget-view+json": {
       "model_id": "",
       "version_major": 2,
       "version_minor": 0
      },
      "text/plain": [
       "HBox(children=(FloatProgress(value=0.0, description='Training', layout=Layout(flex='2'), max=1125.0, style=Pro…"
      ]
     },
     "metadata": {},
     "output_type": "display_data"
    },
    {
     "name": "stdout",
     "output_type": "stream",
     "text": [
      "Epoch 503: train=2.12271, val=2.14699, took 43.767 s\n",
      "  Validation Found 9032 of 10819, added 988 (eff 83.48%) (0.494 FP/event)\n"
     ]
    },
    {
     "data": {
      "application/vnd.jupyter.widget-view+json": {
       "model_id": "",
       "version_major": 2,
       "version_minor": 0
      },
      "text/plain": [
       "HBox(children=(FloatProgress(value=0.0, description='Training', layout=Layout(flex='2'), max=1125.0, style=Pro…"
      ]
     },
     "metadata": {},
     "output_type": "display_data"
    },
    {
     "name": "stdout",
     "output_type": "stream",
     "text": [
      "Epoch 504: train=2.12175, val=2.14329, took 44.015 s\n",
      "  Validation Found 9030 of 10819, added 990 (eff 83.46%) (0.495 FP/event)\n"
     ]
    },
    {
     "data": {
      "application/vnd.jupyter.widget-view+json": {
       "model_id": "",
       "version_major": 2,
       "version_minor": 0
      },
      "text/plain": [
       "HBox(children=(FloatProgress(value=0.0, description='Training', layout=Layout(flex='2'), max=1125.0, style=Pro…"
      ]
     },
     "metadata": {},
     "output_type": "display_data"
    },
    {
     "name": "stdout",
     "output_type": "stream",
     "text": [
      "Epoch 505: train=2.11526, val=2.14287, took 43.687 s\n",
      "  Validation Found 9037 of 10819, added 994 (eff 83.53%) (0.497 FP/event)\n"
     ]
    },
    {
     "data": {
      "application/vnd.jupyter.widget-view+json": {
       "model_id": "",
       "version_major": 2,
       "version_minor": 0
      },
      "text/plain": [
       "HBox(children=(FloatProgress(value=0.0, description='Training', layout=Layout(flex='2'), max=1125.0, style=Pro…"
      ]
     },
     "metadata": {},
     "output_type": "display_data"
    },
    {
     "name": "stdout",
     "output_type": "stream",
     "text": [
      "Epoch 506: train=2.12034, val=2.14336, took 43.966 s\n",
      "  Validation Found 9047 of 10819, added 994 (eff 83.62%) (0.497 FP/event)\n"
     ]
    },
    {
     "data": {
      "application/vnd.jupyter.widget-view+json": {
       "model_id": "",
       "version_major": 2,
       "version_minor": 0
      },
      "text/plain": [
       "HBox(children=(FloatProgress(value=0.0, description='Training', layout=Layout(flex='2'), max=1125.0, style=Pro…"
      ]
     },
     "metadata": {},
     "output_type": "display_data"
    },
    {
     "name": "stdout",
     "output_type": "stream",
     "text": [
      "Epoch 507: train=2.12042, val=2.14365, took 43.872 s\n",
      "  Validation Found 9040 of 10819, added 995 (eff 83.56%) (0.497 FP/event)\n"
     ]
    },
    {
     "data": {
      "application/vnd.jupyter.widget-view+json": {
       "model_id": "",
       "version_major": 2,
       "version_minor": 0
      },
      "text/plain": [
       "HBox(children=(FloatProgress(value=0.0, description='Training', layout=Layout(flex='2'), max=1125.0, style=Pro…"
      ]
     },
     "metadata": {},
     "output_type": "display_data"
    },
    {
     "name": "stdout",
     "output_type": "stream",
     "text": [
      "Epoch 508: train=2.11871, val=2.14306, took 43.714 s\n",
      "  Validation Found 9034 of 10819, added 983 (eff 83.50%) (0.491 FP/event)\n"
     ]
    },
    {
     "data": {
      "application/vnd.jupyter.widget-view+json": {
       "model_id": "",
       "version_major": 2,
       "version_minor": 0
      },
      "text/plain": [
       "HBox(children=(FloatProgress(value=0.0, description='Training', layout=Layout(flex='2'), max=1125.0, style=Pro…"
      ]
     },
     "metadata": {},
     "output_type": "display_data"
    },
    {
     "name": "stdout",
     "output_type": "stream",
     "text": [
      "Epoch 509: train=2.11881, val=2.14301, took 43.768 s\n",
      "  Validation Found 9041 of 10819, added 985 (eff 83.57%) (0.492 FP/event)\n"
     ]
    },
    {
     "data": {
      "application/vnd.jupyter.widget-view+json": {
       "model_id": "",
       "version_major": 2,
       "version_minor": 0
      },
      "text/plain": [
       "HBox(children=(FloatProgress(value=0.0, description='Training', layout=Layout(flex='2'), max=1125.0, style=Pro…"
      ]
     },
     "metadata": {},
     "output_type": "display_data"
    },
    {
     "name": "stdout",
     "output_type": "stream",
     "text": [
      "Epoch 510: train=2.11646, val=2.14394, took 43.814 s\n",
      "  Validation Found 9031 of 10819, added 988 (eff 83.47%) (0.494 FP/event)\n"
     ]
    },
    {
     "data": {
      "application/vnd.jupyter.widget-view+json": {
       "model_id": "",
       "version_major": 2,
       "version_minor": 0
      },
      "text/plain": [
       "HBox(children=(FloatProgress(value=0.0, description='Training', layout=Layout(flex='2'), max=1125.0, style=Pro…"
      ]
     },
     "metadata": {},
     "output_type": "display_data"
    },
    {
     "name": "stdout",
     "output_type": "stream",
     "text": [
      "Epoch 511: train=2.11835, val=2.14546, took 43.796 s\n",
      "  Validation Found 9040 of 10819, added 992 (eff 83.56%) (0.496 FP/event)\n"
     ]
    },
    {
     "data": {
      "application/vnd.jupyter.widget-view+json": {
       "model_id": "",
       "version_major": 2,
       "version_minor": 0
      },
      "text/plain": [
       "HBox(children=(FloatProgress(value=0.0, description='Training', layout=Layout(flex='2'), max=1125.0, style=Pro…"
      ]
     },
     "metadata": {},
     "output_type": "display_data"
    },
    {
     "name": "stdout",
     "output_type": "stream",
     "text": [
      "Epoch 512: train=2.11676, val=2.15092, took 43.702 s\n",
      "  Validation Found 9028 of 10819, added 991 (eff 83.45%) (0.495 FP/event)\n"
     ]
    },
    {
     "data": {
      "application/vnd.jupyter.widget-view+json": {
       "model_id": "",
       "version_major": 2,
       "version_minor": 0
      },
      "text/plain": [
       "HBox(children=(FloatProgress(value=0.0, description='Training', layout=Layout(flex='2'), max=1125.0, style=Pro…"
      ]
     },
     "metadata": {},
     "output_type": "display_data"
    },
    {
     "name": "stdout",
     "output_type": "stream",
     "text": [
      "Epoch 513: train=2.11726, val=2.14803, took 43.747 s\n",
      "  Validation Found 9037 of 10819, added 995 (eff 83.53%) (0.497 FP/event)\n"
     ]
    },
    {
     "data": {
      "application/vnd.jupyter.widget-view+json": {
       "model_id": "",
       "version_major": 2,
       "version_minor": 0
      },
      "text/plain": [
       "HBox(children=(FloatProgress(value=0.0, description='Training', layout=Layout(flex='2'), max=1125.0, style=Pro…"
      ]
     },
     "metadata": {},
     "output_type": "display_data"
    },
    {
     "name": "stdout",
     "output_type": "stream",
     "text": [
      "Epoch 514: train=2.1197, val=2.1454, took 43.895 s\n",
      "  Validation Found 9038 of 10819, added 1002 (eff 83.54%) (0.501 FP/event)\n"
     ]
    },
    {
     "data": {
      "application/vnd.jupyter.widget-view+json": {
       "model_id": "",
       "version_major": 2,
       "version_minor": 0
      },
      "text/plain": [
       "HBox(children=(FloatProgress(value=0.0, description='Training', layout=Layout(flex='2'), max=1125.0, style=Pro…"
      ]
     },
     "metadata": {},
     "output_type": "display_data"
    },
    {
     "name": "stdout",
     "output_type": "stream",
     "text": [
      "Epoch 515: train=2.11799, val=2.1431, took 43.584 s\n",
      "  Validation Found 9038 of 10819, added 1003 (eff 83.54%) (0.501 FP/event)\n"
     ]
    },
    {
     "data": {
      "application/vnd.jupyter.widget-view+json": {
       "model_id": "",
       "version_major": 2,
       "version_minor": 0
      },
      "text/plain": [
       "HBox(children=(FloatProgress(value=0.0, description='Training', layout=Layout(flex='2'), max=1125.0, style=Pro…"
      ]
     },
     "metadata": {},
     "output_type": "display_data"
    },
    {
     "name": "stdout",
     "output_type": "stream",
     "text": [
      "Epoch 516: train=2.11638, val=2.14616, took 43.741 s\n",
      "  Validation Found 9043 of 10819, added 999 (eff 83.58%) (0.499 FP/event)\n"
     ]
    },
    {
     "data": {
      "application/vnd.jupyter.widget-view+json": {
       "model_id": "",
       "version_major": 2,
       "version_minor": 0
      },
      "text/plain": [
       "HBox(children=(FloatProgress(value=0.0, description='Training', layout=Layout(flex='2'), max=1125.0, style=Pro…"
      ]
     },
     "metadata": {},
     "output_type": "display_data"
    },
    {
     "name": "stdout",
     "output_type": "stream",
     "text": [
      "Epoch 517: train=2.11897, val=2.14353, took 43.633 s\n",
      "  Validation Found 9041 of 10819, added 1003 (eff 83.57%) (0.501 FP/event)\n"
     ]
    },
    {
     "data": {
      "application/vnd.jupyter.widget-view+json": {
       "model_id": "",
       "version_major": 2,
       "version_minor": 0
      },
      "text/plain": [
       "HBox(children=(FloatProgress(value=0.0, description='Training', layout=Layout(flex='2'), max=1125.0, style=Pro…"
      ]
     },
     "metadata": {},
     "output_type": "display_data"
    },
    {
     "name": "stdout",
     "output_type": "stream",
     "text": [
      "Epoch 518: train=2.11602, val=2.1439, took 43.803 s\n",
      "  Validation Found 9045 of 10819, added 1008 (eff 83.60%) (0.504 FP/event)\n"
     ]
    },
    {
     "data": {
      "application/vnd.jupyter.widget-view+json": {
       "model_id": "",
       "version_major": 2,
       "version_minor": 0
      },
      "text/plain": [
       "HBox(children=(FloatProgress(value=0.0, description='Training', layout=Layout(flex='2'), max=1125.0, style=Pro…"
      ]
     },
     "metadata": {},
     "output_type": "display_data"
    },
    {
     "name": "stdout",
     "output_type": "stream",
     "text": [
      "Epoch 519: train=2.11334, val=2.14357, took 43.86 s\n",
      "  Validation Found 9039 of 10819, added 998 (eff 83.55%) (0.499 FP/event)\n"
     ]
    },
    {
     "data": {
      "application/vnd.jupyter.widget-view+json": {
       "model_id": "",
       "version_major": 2,
       "version_minor": 0
      },
      "text/plain": [
       "HBox(children=(FloatProgress(value=0.0, description='Training', layout=Layout(flex='2'), max=1125.0, style=Pro…"
      ]
     },
     "metadata": {},
     "output_type": "display_data"
    },
    {
     "name": "stdout",
     "output_type": "stream",
     "text": [
      "Epoch 520: train=2.11709, val=2.14342, took 43.845 s\n",
      "  Validation Found 9034 of 10819, added 989 (eff 83.50%) (0.494 FP/event)\n"
     ]
    },
    {
     "data": {
      "application/vnd.jupyter.widget-view+json": {
       "model_id": "",
       "version_major": 2,
       "version_minor": 0
      },
      "text/plain": [
       "HBox(children=(FloatProgress(value=0.0, description='Training', layout=Layout(flex='2'), max=1125.0, style=Pro…"
      ]
     },
     "metadata": {},
     "output_type": "display_data"
    },
    {
     "name": "stdout",
     "output_type": "stream",
     "text": [
      "Epoch 521: train=2.11624, val=2.14303, took 43.514 s\n",
      "  Validation Found 9036 of 10819, added 999 (eff 83.52%) (0.499 FP/event)\n"
     ]
    },
    {
     "data": {
      "application/vnd.jupyter.widget-view+json": {
       "model_id": "",
       "version_major": 2,
       "version_minor": 0
      },
      "text/plain": [
       "HBox(children=(FloatProgress(value=0.0, description='Training', layout=Layout(flex='2'), max=1125.0, style=Pro…"
      ]
     },
     "metadata": {},
     "output_type": "display_data"
    },
    {
     "name": "stdout",
     "output_type": "stream",
     "text": [
      "Epoch 522: train=2.11512, val=2.14364, took 43.609 s\n",
      "  Validation Found 9034 of 10819, added 997 (eff 83.50%) (0.498 FP/event)\n"
     ]
    },
    {
     "data": {
      "application/vnd.jupyter.widget-view+json": {
       "model_id": "",
       "version_major": 2,
       "version_minor": 0
      },
      "text/plain": [
       "HBox(children=(FloatProgress(value=0.0, description='Training', layout=Layout(flex='2'), max=1125.0, style=Pro…"
      ]
     },
     "metadata": {},
     "output_type": "display_data"
    },
    {
     "name": "stdout",
     "output_type": "stream",
     "text": [
      "Epoch 523: train=2.11559, val=2.14388, took 43.574 s\n",
      "  Validation Found 9038 of 10819, added 992 (eff 83.54%) (0.496 FP/event)\n"
     ]
    },
    {
     "data": {
      "application/vnd.jupyter.widget-view+json": {
       "model_id": "",
       "version_major": 2,
       "version_minor": 0
      },
      "text/plain": [
       "HBox(children=(FloatProgress(value=0.0, description='Training', layout=Layout(flex='2'), max=1125.0, style=Pro…"
      ]
     },
     "metadata": {},
     "output_type": "display_data"
    },
    {
     "name": "stdout",
     "output_type": "stream",
     "text": [
      "Epoch 524: train=2.11603, val=2.14508, took 43.689 s\n",
      "  Validation Found 9025 of 10819, added 992 (eff 83.42%) (0.496 FP/event)\n"
     ]
    },
    {
     "data": {
      "application/vnd.jupyter.widget-view+json": {
       "model_id": "",
       "version_major": 2,
       "version_minor": 0
      },
      "text/plain": [
       "HBox(children=(FloatProgress(value=0.0, description='Training', layout=Layout(flex='2'), max=1125.0, style=Pro…"
      ]
     },
     "metadata": {},
     "output_type": "display_data"
    },
    {
     "name": "stdout",
     "output_type": "stream",
     "text": [
      "Epoch 525: train=2.12074, val=2.14312, took 43.699 s\n",
      "  Validation Found 9031 of 10819, added 988 (eff 83.47%) (0.494 FP/event)\n"
     ]
    },
    {
     "data": {
      "application/vnd.jupyter.widget-view+json": {
       "model_id": "",
       "version_major": 2,
       "version_minor": 0
      },
      "text/plain": [
       "HBox(children=(FloatProgress(value=0.0, description='Training', layout=Layout(flex='2'), max=1125.0, style=Pro…"
      ]
     },
     "metadata": {},
     "output_type": "display_data"
    },
    {
     "name": "stdout",
     "output_type": "stream",
     "text": [
      "Epoch 526: train=2.11733, val=2.14436, took 43.994 s\n",
      "  Validation Found 9037 of 10819, added 989 (eff 83.53%) (0.494 FP/event)\n"
     ]
    },
    {
     "data": {
      "application/vnd.jupyter.widget-view+json": {
       "model_id": "",
       "version_major": 2,
       "version_minor": 0
      },
      "text/plain": [
       "HBox(children=(FloatProgress(value=0.0, description='Training', layout=Layout(flex='2'), max=1125.0, style=Pro…"
      ]
     },
     "metadata": {},
     "output_type": "display_data"
    },
    {
     "name": "stdout",
     "output_type": "stream",
     "text": [
      "Epoch 527: train=2.11174, val=2.14475, took 43.962 s\n",
      "  Validation Found 9020 of 10819, added 990 (eff 83.37%) (0.495 FP/event)\n"
     ]
    },
    {
     "data": {
      "application/vnd.jupyter.widget-view+json": {
       "model_id": "",
       "version_major": 2,
       "version_minor": 0
      },
      "text/plain": [
       "HBox(children=(FloatProgress(value=0.0, description='Training', layout=Layout(flex='2'), max=1125.0, style=Pro…"
      ]
     },
     "metadata": {},
     "output_type": "display_data"
    },
    {
     "name": "stdout",
     "output_type": "stream",
     "text": [
      "Epoch 528: train=2.11086, val=2.14348, took 43.947 s\n",
      "  Validation Found 9036 of 10819, added 987 (eff 83.52%) (0.493 FP/event)\n"
     ]
    },
    {
     "data": {
      "application/vnd.jupyter.widget-view+json": {
       "model_id": "",
       "version_major": 2,
       "version_minor": 0
      },
      "text/plain": [
       "HBox(children=(FloatProgress(value=0.0, description='Training', layout=Layout(flex='2'), max=1125.0, style=Pro…"
      ]
     },
     "metadata": {},
     "output_type": "display_data"
    },
    {
     "name": "stdout",
     "output_type": "stream",
     "text": [
      "Epoch 529: train=2.11084, val=2.14371, took 43.606 s\n",
      "  Validation Found 9033 of 10819, added 996 (eff 83.49%) (0.498 FP/event)\n"
     ]
    },
    {
     "data": {
      "application/vnd.jupyter.widget-view+json": {
       "model_id": "",
       "version_major": 2,
       "version_minor": 0
      },
      "text/plain": [
       "HBox(children=(FloatProgress(value=0.0, description='Training', layout=Layout(flex='2'), max=1125.0, style=Pro…"
      ]
     },
     "metadata": {},
     "output_type": "display_data"
    },
    {
     "name": "stdout",
     "output_type": "stream",
     "text": [
      "Epoch 530: train=2.11971, val=2.14595, took 43.602 s\n",
      "  Validation Found 9032 of 10819, added 999 (eff 83.48%) (0.499 FP/event)\n"
     ]
    },
    {
     "data": {
      "application/vnd.jupyter.widget-view+json": {
       "model_id": "",
       "version_major": 2,
       "version_minor": 0
      },
      "text/plain": [
       "HBox(children=(FloatProgress(value=0.0, description='Training', layout=Layout(flex='2'), max=1125.0, style=Pro…"
      ]
     },
     "metadata": {},
     "output_type": "display_data"
    },
    {
     "name": "stdout",
     "output_type": "stream",
     "text": [
      "Epoch 531: train=2.11327, val=2.14778, took 43.736 s\n",
      "  Validation Found 9038 of 10819, added 995 (eff 83.54%) (0.497 FP/event)\n"
     ]
    },
    {
     "data": {
      "application/vnd.jupyter.widget-view+json": {
       "model_id": "",
       "version_major": 2,
       "version_minor": 0
      },
      "text/plain": [
       "HBox(children=(FloatProgress(value=0.0, description='Training', layout=Layout(flex='2'), max=1125.0, style=Pro…"
      ]
     },
     "metadata": {},
     "output_type": "display_data"
    },
    {
     "name": "stdout",
     "output_type": "stream",
     "text": [
      "Epoch 532: train=2.114, val=2.14363, took 44.373 s\n",
      "  Validation Found 9034 of 10819, added 991 (eff 83.50%) (0.495 FP/event)\n"
     ]
    },
    {
     "data": {
      "application/vnd.jupyter.widget-view+json": {
       "model_id": "",
       "version_major": 2,
       "version_minor": 0
      },
      "text/plain": [
       "HBox(children=(FloatProgress(value=0.0, description='Training', layout=Layout(flex='2'), max=1125.0, style=Pro…"
      ]
     },
     "metadata": {},
     "output_type": "display_data"
    },
    {
     "name": "stdout",
     "output_type": "stream",
     "text": [
      "Epoch 533: train=2.11274, val=2.14464, took 43.761 s\n",
      "  Validation Found 9035 of 10819, added 994 (eff 83.51%) (0.497 FP/event)\n"
     ]
    },
    {
     "data": {
      "application/vnd.jupyter.widget-view+json": {
       "model_id": "",
       "version_major": 2,
       "version_minor": 0
      },
      "text/plain": [
       "HBox(children=(FloatProgress(value=0.0, description='Training', layout=Layout(flex='2'), max=1125.0, style=Pro…"
      ]
     },
     "metadata": {},
     "output_type": "display_data"
    },
    {
     "name": "stdout",
     "output_type": "stream",
     "text": [
      "Epoch 534: train=2.11498, val=2.14582, took 43.729 s\n",
      "  Validation Found 9026 of 10819, added 995 (eff 83.43%) (0.497 FP/event)\n"
     ]
    },
    {
     "data": {
      "application/vnd.jupyter.widget-view+json": {
       "model_id": "",
       "version_major": 2,
       "version_minor": 0
      },
      "text/plain": [
       "HBox(children=(FloatProgress(value=0.0, description='Training', layout=Layout(flex='2'), max=1125.0, style=Pro…"
      ]
     },
     "metadata": {},
     "output_type": "display_data"
    },
    {
     "name": "stdout",
     "output_type": "stream",
     "text": [
      "Epoch 535: train=2.11268, val=2.14395, took 43.784 s\n",
      "  Validation Found 9033 of 10819, added 987 (eff 83.49%) (0.493 FP/event)\n"
     ]
    },
    {
     "data": {
      "application/vnd.jupyter.widget-view+json": {
       "model_id": "",
       "version_major": 2,
       "version_minor": 0
      },
      "text/plain": [
       "HBox(children=(FloatProgress(value=0.0, description='Training', layout=Layout(flex='2'), max=1125.0, style=Pro…"
      ]
     },
     "metadata": {},
     "output_type": "display_data"
    },
    {
     "name": "stdout",
     "output_type": "stream",
     "text": [
      "Epoch 536: train=2.11523, val=2.14583, took 43.607 s\n",
      "  Validation Found 9036 of 10819, added 1000 (eff 83.52%) (0.5 FP/event)\n"
     ]
    },
    {
     "data": {
      "application/vnd.jupyter.widget-view+json": {
       "model_id": "",
       "version_major": 2,
       "version_minor": 0
      },
      "text/plain": [
       "HBox(children=(FloatProgress(value=0.0, description='Training', layout=Layout(flex='2'), max=1125.0, style=Pro…"
      ]
     },
     "metadata": {},
     "output_type": "display_data"
    },
    {
     "name": "stdout",
     "output_type": "stream",
     "text": [
      "Epoch 537: train=2.11485, val=2.14343, took 43.874 s\n",
      "  Validation Found 9034 of 10819, added 992 (eff 83.50%) (0.496 FP/event)\n"
     ]
    },
    {
     "data": {
      "application/vnd.jupyter.widget-view+json": {
       "model_id": "",
       "version_major": 2,
       "version_minor": 0
      },
      "text/plain": [
       "HBox(children=(FloatProgress(value=0.0, description='Training', layout=Layout(flex='2'), max=1125.0, style=Pro…"
      ]
     },
     "metadata": {},
     "output_type": "display_data"
    },
    {
     "name": "stdout",
     "output_type": "stream",
     "text": [
      "Epoch 538: train=2.11287, val=2.14236, took 43.797 s\n",
      "  Validation Found 9036 of 10819, added 998 (eff 83.52%) (0.499 FP/event)\n"
     ]
    },
    {
     "data": {
      "application/vnd.jupyter.widget-view+json": {
       "model_id": "",
       "version_major": 2,
       "version_minor": 0
      },
      "text/plain": [
       "HBox(children=(FloatProgress(value=0.0, description='Training', layout=Layout(flex='2'), max=1125.0, style=Pro…"
      ]
     },
     "metadata": {},
     "output_type": "display_data"
    },
    {
     "name": "stdout",
     "output_type": "stream",
     "text": [
      "Epoch 539: train=2.11249, val=2.14325, took 44.073 s\n",
      "  Validation Found 9036 of 10819, added 997 (eff 83.52%) (0.498 FP/event)\n"
     ]
    },
    {
     "data": {
      "application/vnd.jupyter.widget-view+json": {
       "model_id": "",
       "version_major": 2,
       "version_minor": 0
      },
      "text/plain": [
       "HBox(children=(FloatProgress(value=0.0, description='Training', layout=Layout(flex='2'), max=1125.0, style=Pro…"
      ]
     },
     "metadata": {},
     "output_type": "display_data"
    },
    {
     "name": "stdout",
     "output_type": "stream",
     "text": [
      "Epoch 540: train=2.11315, val=2.14339, took 43.514 s\n",
      "  Validation Found 9039 of 10819, added 987 (eff 83.55%) (0.493 FP/event)\n"
     ]
    },
    {
     "data": {
      "application/vnd.jupyter.widget-view+json": {
       "model_id": "",
       "version_major": 2,
       "version_minor": 0
      },
      "text/plain": [
       "HBox(children=(FloatProgress(value=0.0, description='Training', layout=Layout(flex='2'), max=1125.0, style=Pro…"
      ]
     },
     "metadata": {},
     "output_type": "display_data"
    },
    {
     "name": "stdout",
     "output_type": "stream",
     "text": [
      "Epoch 541: train=2.11375, val=2.14367, took 43.84 s\n",
      "  Validation Found 9042 of 10819, added 987 (eff 83.58%) (0.493 FP/event)\n"
     ]
    },
    {
     "data": {
      "application/vnd.jupyter.widget-view+json": {
       "model_id": "",
       "version_major": 2,
       "version_minor": 0
      },
      "text/plain": [
       "HBox(children=(FloatProgress(value=0.0, description='Training', layout=Layout(flex='2'), max=1125.0, style=Pro…"
      ]
     },
     "metadata": {},
     "output_type": "display_data"
    },
    {
     "name": "stdout",
     "output_type": "stream",
     "text": [
      "Epoch 542: train=2.11569, val=2.14419, took 43.563 s\n",
      "  Validation Found 9050 of 10819, added 987 (eff 83.65%) (0.493 FP/event)\n"
     ]
    },
    {
     "data": {
      "application/vnd.jupyter.widget-view+json": {
       "model_id": "",
       "version_major": 2,
       "version_minor": 0
      },
      "text/plain": [
       "HBox(children=(FloatProgress(value=0.0, description='Training', layout=Layout(flex='2'), max=1125.0, style=Pro…"
      ]
     },
     "metadata": {},
     "output_type": "display_data"
    },
    {
     "name": "stdout",
     "output_type": "stream",
     "text": [
      "Epoch 543: train=2.11489, val=2.14336, took 43.595 s\n",
      "  Validation Found 9035 of 10819, added 992 (eff 83.51%) (0.496 FP/event)\n"
     ]
    },
    {
     "data": {
      "application/vnd.jupyter.widget-view+json": {
       "model_id": "",
       "version_major": 2,
       "version_minor": 0
      },
      "text/plain": [
       "HBox(children=(FloatProgress(value=0.0, description='Training', layout=Layout(flex='2'), max=1125.0, style=Pro…"
      ]
     },
     "metadata": {},
     "output_type": "display_data"
    },
    {
     "name": "stdout",
     "output_type": "stream",
     "text": [
      "Epoch 544: train=2.11195, val=2.14748, took 43.748 s\n",
      "  Validation Found 9033 of 10819, added 998 (eff 83.49%) (0.499 FP/event)\n"
     ]
    },
    {
     "data": {
      "application/vnd.jupyter.widget-view+json": {
       "model_id": "",
       "version_major": 2,
       "version_minor": 0
      },
      "text/plain": [
       "HBox(children=(FloatProgress(value=0.0, description='Training', layout=Layout(flex='2'), max=1125.0, style=Pro…"
      ]
     },
     "metadata": {},
     "output_type": "display_data"
    },
    {
     "name": "stdout",
     "output_type": "stream",
     "text": [
      "Epoch 545: train=2.11345, val=2.14453, took 43.983 s\n",
      "  Validation Found 9034 of 10819, added 992 (eff 83.50%) (0.496 FP/event)\n"
     ]
    },
    {
     "data": {
      "application/vnd.jupyter.widget-view+json": {
       "model_id": "",
       "version_major": 2,
       "version_minor": 0
      },
      "text/plain": [
       "HBox(children=(FloatProgress(value=0.0, description='Training', layout=Layout(flex='2'), max=1125.0, style=Pro…"
      ]
     },
     "metadata": {},
     "output_type": "display_data"
    },
    {
     "name": "stdout",
     "output_type": "stream",
     "text": [
      "Epoch 546: train=2.11334, val=2.14328, took 43.624 s\n",
      "  Validation Found 9042 of 10819, added 984 (eff 83.58%) (0.492 FP/event)\n"
     ]
    },
    {
     "data": {
      "application/vnd.jupyter.widget-view+json": {
       "model_id": "",
       "version_major": 2,
       "version_minor": 0
      },
      "text/plain": [
       "HBox(children=(FloatProgress(value=0.0, description='Training', layout=Layout(flex='2'), max=1125.0, style=Pro…"
      ]
     },
     "metadata": {},
     "output_type": "display_data"
    },
    {
     "name": "stdout",
     "output_type": "stream",
     "text": [
      "Epoch 547: train=2.1178, val=2.16269, took 43.623 s\n",
      "  Validation Found 9024 of 10819, added 990 (eff 83.41%) (0.495 FP/event)\n"
     ]
    },
    {
     "data": {
      "application/vnd.jupyter.widget-view+json": {
       "model_id": "",
       "version_major": 2,
       "version_minor": 0
      },
      "text/plain": [
       "HBox(children=(FloatProgress(value=0.0, description='Training', layout=Layout(flex='2'), max=1125.0, style=Pro…"
      ]
     },
     "metadata": {},
     "output_type": "display_data"
    },
    {
     "name": "stdout",
     "output_type": "stream",
     "text": [
      "Epoch 548: train=2.11285, val=2.14489, took 43.548 s\n",
      "  Validation Found 9048 of 10819, added 991 (eff 83.63%) (0.495 FP/event)\n"
     ]
    },
    {
     "data": {
      "application/vnd.jupyter.widget-view+json": {
       "model_id": "",
       "version_major": 2,
       "version_minor": 0
      },
      "text/plain": [
       "HBox(children=(FloatProgress(value=0.0, description='Training', layout=Layout(flex='2'), max=1125.0, style=Pro…"
      ]
     },
     "metadata": {},
     "output_type": "display_data"
    },
    {
     "name": "stdout",
     "output_type": "stream",
     "text": [
      "Epoch 549: train=2.11488, val=2.14627, took 44.159 s\n",
      "  Validation Found 9039 of 10819, added 1002 (eff 83.55%) (0.501 FP/event)\n"
     ]
    },
    {
     "data": {
      "application/vnd.jupyter.widget-view+json": {
       "model_id": "",
       "version_major": 2,
       "version_minor": 0
      },
      "text/plain": [
       "HBox(children=(FloatProgress(value=0.0, description='Training', layout=Layout(flex='2'), max=1125.0, style=Pro…"
      ]
     },
     "metadata": {},
     "output_type": "display_data"
    },
    {
     "name": "stdout",
     "output_type": "stream",
     "text": [
      "Epoch 550: train=2.10736, val=2.14448, took 44.144 s\n",
      "  Validation Found 9042 of 10819, added 1000 (eff 83.58%) (0.5 FP/event)\n"
     ]
    },
    {
     "data": {
      "application/vnd.jupyter.widget-view+json": {
       "model_id": "",
       "version_major": 2,
       "version_minor": 0
      },
      "text/plain": [
       "HBox(children=(FloatProgress(value=0.0, description='Training', layout=Layout(flex='2'), max=1125.0, style=Pro…"
      ]
     },
     "metadata": {},
     "output_type": "display_data"
    },
    {
     "name": "stdout",
     "output_type": "stream",
     "text": [
      "Epoch 551: train=2.11029, val=2.14335, took 43.786 s\n",
      "  Validation Found 9038 of 10819, added 1000 (eff 83.54%) (0.5 FP/event)\n"
     ]
    },
    {
     "data": {
      "application/vnd.jupyter.widget-view+json": {
       "model_id": "",
       "version_major": 2,
       "version_minor": 0
      },
      "text/plain": [
       "HBox(children=(FloatProgress(value=0.0, description='Training', layout=Layout(flex='2'), max=1125.0, style=Pro…"
      ]
     },
     "metadata": {},
     "output_type": "display_data"
    },
    {
     "name": "stdout",
     "output_type": "stream",
     "text": [
      "Epoch 552: train=2.11516, val=2.14535, took 43.654 s\n",
      "  Validation Found 9041 of 10819, added 991 (eff 83.57%) (0.495 FP/event)\n"
     ]
    },
    {
     "data": {
      "application/vnd.jupyter.widget-view+json": {
       "model_id": "",
       "version_major": 2,
       "version_minor": 0
      },
      "text/plain": [
       "HBox(children=(FloatProgress(value=0.0, description='Training', layout=Layout(flex='2'), max=1125.0, style=Pro…"
      ]
     },
     "metadata": {},
     "output_type": "display_data"
    },
    {
     "name": "stdout",
     "output_type": "stream",
     "text": [
      "Epoch 553: train=2.11138, val=2.14312, took 43.848 s\n",
      "  Validation Found 9036 of 10819, added 987 (eff 83.52%) (0.493 FP/event)\n"
     ]
    },
    {
     "data": {
      "application/vnd.jupyter.widget-view+json": {
       "model_id": "",
       "version_major": 2,
       "version_minor": 0
      },
      "text/plain": [
       "HBox(children=(FloatProgress(value=0.0, description='Training', layout=Layout(flex='2'), max=1125.0, style=Pro…"
      ]
     },
     "metadata": {},
     "output_type": "display_data"
    },
    {
     "name": "stdout",
     "output_type": "stream",
     "text": [
      "Epoch 554: train=2.11327, val=2.14392, took 44.49 s\n",
      "  Validation Found 9038 of 10819, added 995 (eff 83.54%) (0.497 FP/event)\n"
     ]
    },
    {
     "data": {
      "application/vnd.jupyter.widget-view+json": {
       "model_id": "",
       "version_major": 2,
       "version_minor": 0
      },
      "text/plain": [
       "HBox(children=(FloatProgress(value=0.0, description='Training', layout=Layout(flex='2'), max=1125.0, style=Pro…"
      ]
     },
     "metadata": {},
     "output_type": "display_data"
    },
    {
     "name": "stdout",
     "output_type": "stream",
     "text": [
      "Epoch 555: train=2.11252, val=2.14516, took 43.933 s\n",
      "  Validation Found 9032 of 10819, added 1002 (eff 83.48%) (0.501 FP/event)\n"
     ]
    },
    {
     "data": {
      "application/vnd.jupyter.widget-view+json": {
       "model_id": "",
       "version_major": 2,
       "version_minor": 0
      },
      "text/plain": [
       "HBox(children=(FloatProgress(value=0.0, description='Training', layout=Layout(flex='2'), max=1125.0, style=Pro…"
      ]
     },
     "metadata": {},
     "output_type": "display_data"
    },
    {
     "name": "stdout",
     "output_type": "stream",
     "text": [
      "Epoch 556: train=2.1158, val=2.14408, took 43.774 s\n",
      "  Validation Found 9038 of 10819, added 987 (eff 83.54%) (0.493 FP/event)\n"
     ]
    },
    {
     "data": {
      "application/vnd.jupyter.widget-view+json": {
       "model_id": "",
       "version_major": 2,
       "version_minor": 0
      },
      "text/plain": [
       "HBox(children=(FloatProgress(value=0.0, description='Training', layout=Layout(flex='2'), max=1125.0, style=Pro…"
      ]
     },
     "metadata": {},
     "output_type": "display_data"
    },
    {
     "name": "stdout",
     "output_type": "stream",
     "text": [
      "Epoch 557: train=2.117, val=2.14551, took 43.512 s\n",
      "  Validation Found 9032 of 10819, added 996 (eff 83.48%) (0.498 FP/event)\n"
     ]
    },
    {
     "data": {
      "application/vnd.jupyter.widget-view+json": {
       "model_id": "",
       "version_major": 2,
       "version_minor": 0
      },
      "text/plain": [
       "HBox(children=(FloatProgress(value=0.0, description='Training', layout=Layout(flex='2'), max=1125.0, style=Pro…"
      ]
     },
     "metadata": {},
     "output_type": "display_data"
    },
    {
     "name": "stdout",
     "output_type": "stream",
     "text": [
      "Epoch 558: train=2.11125, val=2.14742, took 43.823 s\n",
      "  Validation Found 9030 of 10819, added 995 (eff 83.46%) (0.497 FP/event)\n"
     ]
    },
    {
     "data": {
      "application/vnd.jupyter.widget-view+json": {
       "model_id": "",
       "version_major": 2,
       "version_minor": 0
      },
      "text/plain": [
       "HBox(children=(FloatProgress(value=0.0, description='Training', layout=Layout(flex='2'), max=1125.0, style=Pro…"
      ]
     },
     "metadata": {},
     "output_type": "display_data"
    },
    {
     "name": "stdout",
     "output_type": "stream",
     "text": [
      "Epoch 559: train=2.11517, val=2.1447, took 43.747 s\n",
      "  Validation Found 9037 of 10819, added 994 (eff 83.53%) (0.497 FP/event)\n"
     ]
    },
    {
     "data": {
      "application/vnd.jupyter.widget-view+json": {
       "model_id": "",
       "version_major": 2,
       "version_minor": 0
      },
      "text/plain": [
       "HBox(children=(FloatProgress(value=0.0, description='Training', layout=Layout(flex='2'), max=1125.0, style=Pro…"
      ]
     },
     "metadata": {},
     "output_type": "display_data"
    },
    {
     "name": "stdout",
     "output_type": "stream",
     "text": [
      "Epoch 560: train=2.11373, val=2.14335, took 43.541 s\n",
      "  Validation Found 9046 of 10819, added 1008 (eff 83.61%) (0.504 FP/event)\n"
     ]
    },
    {
     "data": {
      "application/vnd.jupyter.widget-view+json": {
       "model_id": "",
       "version_major": 2,
       "version_minor": 0
      },
      "text/plain": [
       "HBox(children=(FloatProgress(value=0.0, description='Training', layout=Layout(flex='2'), max=1125.0, style=Pro…"
      ]
     },
     "metadata": {},
     "output_type": "display_data"
    },
    {
     "name": "stdout",
     "output_type": "stream",
     "text": [
      "Epoch 561: train=2.10764, val=2.14364, took 43.698 s\n",
      "  Validation Found 9049 of 10819, added 993 (eff 83.64%) (0.496 FP/event)\n"
     ]
    },
    {
     "data": {
      "application/vnd.jupyter.widget-view+json": {
       "model_id": "",
       "version_major": 2,
       "version_minor": 0
      },
      "text/plain": [
       "HBox(children=(FloatProgress(value=0.0, description='Training', layout=Layout(flex='2'), max=1125.0, style=Pro…"
      ]
     },
     "metadata": {},
     "output_type": "display_data"
    },
    {
     "name": "stdout",
     "output_type": "stream",
     "text": [
      "Epoch 562: train=2.10956, val=2.14947, took 43.757 s\n",
      "  Validation Found 9033 of 10819, added 1005 (eff 83.49%) (0.502 FP/event)\n"
     ]
    },
    {
     "data": {
      "application/vnd.jupyter.widget-view+json": {
       "model_id": "",
       "version_major": 2,
       "version_minor": 0
      },
      "text/plain": [
       "HBox(children=(FloatProgress(value=0.0, description='Training', layout=Layout(flex='2'), max=1125.0, style=Pro…"
      ]
     },
     "metadata": {},
     "output_type": "display_data"
    },
    {
     "name": "stdout",
     "output_type": "stream",
     "text": [
      "Epoch 563: train=2.11033, val=2.14456, took 43.632 s\n",
      "  Validation Found 9037 of 10819, added 989 (eff 83.53%) (0.494 FP/event)\n"
     ]
    },
    {
     "data": {
      "application/vnd.jupyter.widget-view+json": {
       "model_id": "",
       "version_major": 2,
       "version_minor": 0
      },
      "text/plain": [
       "HBox(children=(FloatProgress(value=0.0, description='Training', layout=Layout(flex='2'), max=1125.0, style=Pro…"
      ]
     },
     "metadata": {},
     "output_type": "display_data"
    },
    {
     "name": "stdout",
     "output_type": "stream",
     "text": [
      "Epoch 564: train=2.1123, val=2.14673, took 43.682 s\n",
      "  Validation Found 9047 of 10819, added 991 (eff 83.62%) (0.495 FP/event)\n"
     ]
    },
    {
     "data": {
      "application/vnd.jupyter.widget-view+json": {
       "model_id": "",
       "version_major": 2,
       "version_minor": 0
      },
      "text/plain": [
       "HBox(children=(FloatProgress(value=0.0, description='Training', layout=Layout(flex='2'), max=1125.0, style=Pro…"
      ]
     },
     "metadata": {},
     "output_type": "display_data"
    },
    {
     "name": "stdout",
     "output_type": "stream",
     "text": [
      "Epoch 565: train=2.11072, val=2.14601, took 43.845 s\n",
      "  Validation Found 9037 of 10819, added 997 (eff 83.53%) (0.498 FP/event)\n"
     ]
    },
    {
     "data": {
      "application/vnd.jupyter.widget-view+json": {
       "model_id": "",
       "version_major": 2,
       "version_minor": 0
      },
      "text/plain": [
       "HBox(children=(FloatProgress(value=0.0, description='Training', layout=Layout(flex='2'), max=1125.0, style=Pro…"
      ]
     },
     "metadata": {},
     "output_type": "display_data"
    },
    {
     "name": "stdout",
     "output_type": "stream",
     "text": [
      "Epoch 566: train=2.1105, val=2.14803, took 43.731 s\n",
      "  Validation Found 9047 of 10819, added 1000 (eff 83.62%) (0.5 FP/event)\n"
     ]
    },
    {
     "data": {
      "application/vnd.jupyter.widget-view+json": {
       "model_id": "",
       "version_major": 2,
       "version_minor": 0
      },
      "text/plain": [
       "HBox(children=(FloatProgress(value=0.0, description='Training', layout=Layout(flex='2'), max=1125.0, style=Pro…"
      ]
     },
     "metadata": {},
     "output_type": "display_data"
    },
    {
     "name": "stdout",
     "output_type": "stream",
     "text": [
      "Epoch 567: train=2.11289, val=2.1438, took 43.978 s\n",
      "  Validation Found 9049 of 10819, added 996 (eff 83.64%) (0.498 FP/event)\n"
     ]
    },
    {
     "data": {
      "application/vnd.jupyter.widget-view+json": {
       "model_id": "",
       "version_major": 2,
       "version_minor": 0
      },
      "text/plain": [
       "HBox(children=(FloatProgress(value=0.0, description='Training', layout=Layout(flex='2'), max=1125.0, style=Pro…"
      ]
     },
     "metadata": {},
     "output_type": "display_data"
    },
    {
     "name": "stdout",
     "output_type": "stream",
     "text": [
      "Epoch 568: train=2.11223, val=2.14486, took 43.856 s\n",
      "  Validation Found 9041 of 10819, added 1002 (eff 83.57%) (0.501 FP/event)\n"
     ]
    },
    {
     "data": {
      "application/vnd.jupyter.widget-view+json": {
       "model_id": "",
       "version_major": 2,
       "version_minor": 0
      },
      "text/plain": [
       "HBox(children=(FloatProgress(value=0.0, description='Training', layout=Layout(flex='2'), max=1125.0, style=Pro…"
      ]
     },
     "metadata": {},
     "output_type": "display_data"
    },
    {
     "name": "stdout",
     "output_type": "stream",
     "text": [
      "Epoch 569: train=2.10673, val=2.15124, took 43.644 s\n",
      "  Validation Found 9032 of 10819, added 999 (eff 83.48%) (0.499 FP/event)\n"
     ]
    },
    {
     "data": {
      "application/vnd.jupyter.widget-view+json": {
       "model_id": "",
       "version_major": 2,
       "version_minor": 0
      },
      "text/plain": [
       "HBox(children=(FloatProgress(value=0.0, description='Training', layout=Layout(flex='2'), max=1125.0, style=Pro…"
      ]
     },
     "metadata": {},
     "output_type": "display_data"
    },
    {
     "name": "stdout",
     "output_type": "stream",
     "text": [
      "Epoch 570: train=2.10734, val=2.1502, took 43.828 s\n",
      "  Validation Found 9037 of 10819, added 998 (eff 83.53%) (0.499 FP/event)\n"
     ]
    },
    {
     "data": {
      "application/vnd.jupyter.widget-view+json": {
       "model_id": "",
       "version_major": 2,
       "version_minor": 0
      },
      "text/plain": [
       "HBox(children=(FloatProgress(value=0.0, description='Training', layout=Layout(flex='2'), max=1125.0, style=Pro…"
      ]
     },
     "metadata": {},
     "output_type": "display_data"
    },
    {
     "name": "stdout",
     "output_type": "stream",
     "text": [
      "Epoch 571: train=2.11346, val=2.14616, took 43.581 s\n",
      "  Validation Found 9043 of 10819, added 1001 (eff 83.58%) (0.5 FP/event)\n"
     ]
    },
    {
     "data": {
      "application/vnd.jupyter.widget-view+json": {
       "model_id": "",
       "version_major": 2,
       "version_minor": 0
      },
      "text/plain": [
       "HBox(children=(FloatProgress(value=0.0, description='Training', layout=Layout(flex='2'), max=1125.0, style=Pro…"
      ]
     },
     "metadata": {},
     "output_type": "display_data"
    },
    {
     "name": "stdout",
     "output_type": "stream",
     "text": [
      "Epoch 572: train=2.10924, val=2.14355, took 43.916 s\n",
      "  Validation Found 9051 of 10819, added 991 (eff 83.66%) (0.495 FP/event)\n"
     ]
    },
    {
     "data": {
      "application/vnd.jupyter.widget-view+json": {
       "model_id": "",
       "version_major": 2,
       "version_minor": 0
      },
      "text/plain": [
       "HBox(children=(FloatProgress(value=0.0, description='Training', layout=Layout(flex='2'), max=1125.0, style=Pro…"
      ]
     },
     "metadata": {},
     "output_type": "display_data"
    },
    {
     "name": "stdout",
     "output_type": "stream",
     "text": [
      "Epoch 573: train=2.11105, val=2.14371, took 43.69 s\n",
      "  Validation Found 9037 of 10819, added 984 (eff 83.53%) (0.492 FP/event)\n"
     ]
    },
    {
     "data": {
      "application/vnd.jupyter.widget-view+json": {
       "model_id": "",
       "version_major": 2,
       "version_minor": 0
      },
      "text/plain": [
       "HBox(children=(FloatProgress(value=0.0, description='Training', layout=Layout(flex='2'), max=1125.0, style=Pro…"
      ]
     },
     "metadata": {},
     "output_type": "display_data"
    },
    {
     "name": "stdout",
     "output_type": "stream",
     "text": [
      "Epoch 574: train=2.10749, val=2.14346, took 43.961 s\n",
      "  Validation Found 9038 of 10819, added 992 (eff 83.54%) (0.496 FP/event)\n"
     ]
    },
    {
     "data": {
      "application/vnd.jupyter.widget-view+json": {
       "model_id": "",
       "version_major": 2,
       "version_minor": 0
      },
      "text/plain": [
       "HBox(children=(FloatProgress(value=0.0, description='Training', layout=Layout(flex='2'), max=1125.0, style=Pro…"
      ]
     },
     "metadata": {},
     "output_type": "display_data"
    },
    {
     "name": "stdout",
     "output_type": "stream",
     "text": [
      "Epoch 575: train=2.10952, val=2.14329, took 43.694 s\n",
      "  Validation Found 9043 of 10819, added 991 (eff 83.58%) (0.495 FP/event)\n"
     ]
    },
    {
     "data": {
      "application/vnd.jupyter.widget-view+json": {
       "model_id": "",
       "version_major": 2,
       "version_minor": 0
      },
      "text/plain": [
       "HBox(children=(FloatProgress(value=0.0, description='Training', layout=Layout(flex='2'), max=1125.0, style=Pro…"
      ]
     },
     "metadata": {},
     "output_type": "display_data"
    },
    {
     "name": "stdout",
     "output_type": "stream",
     "text": [
      "Epoch 576: train=2.11072, val=2.14525, took 43.681 s\n",
      "  Validation Found 9044 of 10819, added 998 (eff 83.59%) (0.499 FP/event)\n"
     ]
    },
    {
     "data": {
      "application/vnd.jupyter.widget-view+json": {
       "model_id": "",
       "version_major": 2,
       "version_minor": 0
      },
      "text/plain": [
       "HBox(children=(FloatProgress(value=0.0, description='Training', layout=Layout(flex='2'), max=1125.0, style=Pro…"
      ]
     },
     "metadata": {},
     "output_type": "display_data"
    },
    {
     "name": "stdout",
     "output_type": "stream",
     "text": [
      "Epoch 577: train=2.11106, val=2.14382, took 43.7 s\n",
      "  Validation Found 9045 of 10819, added 993 (eff 83.60%) (0.496 FP/event)\n"
     ]
    },
    {
     "data": {
      "application/vnd.jupyter.widget-view+json": {
       "model_id": "",
       "version_major": 2,
       "version_minor": 0
      },
      "text/plain": [
       "HBox(children=(FloatProgress(value=0.0, description='Training', layout=Layout(flex='2'), max=1125.0, style=Pro…"
      ]
     },
     "metadata": {},
     "output_type": "display_data"
    },
    {
     "name": "stdout",
     "output_type": "stream",
     "text": [
      "Epoch 578: train=2.11196, val=2.14331, took 43.658 s\n",
      "  Validation Found 9040 of 10819, added 992 (eff 83.56%) (0.496 FP/event)\n"
     ]
    },
    {
     "data": {
      "application/vnd.jupyter.widget-view+json": {
       "model_id": "",
       "version_major": 2,
       "version_minor": 0
      },
      "text/plain": [
       "HBox(children=(FloatProgress(value=0.0, description='Training', layout=Layout(flex='2'), max=1125.0, style=Pro…"
      ]
     },
     "metadata": {},
     "output_type": "display_data"
    },
    {
     "name": "stdout",
     "output_type": "stream",
     "text": [
      "Epoch 579: train=2.1106, val=2.14297, took 43.758 s\n",
      "  Validation Found 9053 of 10819, added 990 (eff 83.68%) (0.495 FP/event)\n"
     ]
    },
    {
     "data": {
      "application/vnd.jupyter.widget-view+json": {
       "model_id": "",
       "version_major": 2,
       "version_minor": 0
      },
      "text/plain": [
       "HBox(children=(FloatProgress(value=0.0, description='Training', layout=Layout(flex='2'), max=1125.0, style=Pro…"
      ]
     },
     "metadata": {},
     "output_type": "display_data"
    },
    {
     "name": "stdout",
     "output_type": "stream",
     "text": [
      "Epoch 580: train=2.10645, val=2.1427, took 43.778 s\n",
      "  Validation Found 9046 of 10819, added 996 (eff 83.61%) (0.498 FP/event)\n"
     ]
    },
    {
     "data": {
      "application/vnd.jupyter.widget-view+json": {
       "model_id": "",
       "version_major": 2,
       "version_minor": 0
      },
      "text/plain": [
       "HBox(children=(FloatProgress(value=0.0, description='Training', layout=Layout(flex='2'), max=1125.0, style=Pro…"
      ]
     },
     "metadata": {},
     "output_type": "display_data"
    },
    {
     "name": "stdout",
     "output_type": "stream",
     "text": [
      "Epoch 581: train=2.11152, val=2.14268, took 43.629 s\n",
      "  Validation Found 9050 of 10819, added 998 (eff 83.65%) (0.499 FP/event)\n"
     ]
    },
    {
     "data": {
      "application/vnd.jupyter.widget-view+json": {
       "model_id": "",
       "version_major": 2,
       "version_minor": 0
      },
      "text/plain": [
       "HBox(children=(FloatProgress(value=0.0, description='Training', layout=Layout(flex='2'), max=1125.0, style=Pro…"
      ]
     },
     "metadata": {},
     "output_type": "display_data"
    },
    {
     "name": "stdout",
     "output_type": "stream",
     "text": [
      "Epoch 582: train=2.10966, val=2.14294, took 43.723 s\n",
      "  Validation Found 9046 of 10819, added 997 (eff 83.61%) (0.498 FP/event)\n"
     ]
    },
    {
     "data": {
      "application/vnd.jupyter.widget-view+json": {
       "model_id": "",
       "version_major": 2,
       "version_minor": 0
      },
      "text/plain": [
       "HBox(children=(FloatProgress(value=0.0, description='Training', layout=Layout(flex='2'), max=1125.0, style=Pro…"
      ]
     },
     "metadata": {},
     "output_type": "display_data"
    },
    {
     "name": "stdout",
     "output_type": "stream",
     "text": [
      "Epoch 583: train=2.11104, val=2.14314, took 43.637 s\n",
      "  Validation Found 9044 of 10819, added 995 (eff 83.59%) (0.497 FP/event)\n"
     ]
    },
    {
     "data": {
      "application/vnd.jupyter.widget-view+json": {
       "model_id": "",
       "version_major": 2,
       "version_minor": 0
      },
      "text/plain": [
       "HBox(children=(FloatProgress(value=0.0, description='Training', layout=Layout(flex='2'), max=1125.0, style=Pro…"
      ]
     },
     "metadata": {},
     "output_type": "display_data"
    },
    {
     "name": "stdout",
     "output_type": "stream",
     "text": [
      "Epoch 584: train=2.11207, val=2.14322, took 43.719 s\n",
      "  Validation Found 9039 of 10819, added 995 (eff 83.55%) (0.497 FP/event)\n"
     ]
    },
    {
     "data": {
      "application/vnd.jupyter.widget-view+json": {
       "model_id": "",
       "version_major": 2,
       "version_minor": 0
      },
      "text/plain": [
       "HBox(children=(FloatProgress(value=0.0, description='Training', layout=Layout(flex='2'), max=1125.0, style=Pro…"
      ]
     },
     "metadata": {},
     "output_type": "display_data"
    },
    {
     "name": "stdout",
     "output_type": "stream",
     "text": [
      "Epoch 585: train=2.10563, val=2.14893, took 43.614 s\n",
      "  Validation Found 9044 of 10819, added 989 (eff 83.59%) (0.494 FP/event)\n"
     ]
    },
    {
     "data": {
      "application/vnd.jupyter.widget-view+json": {
       "model_id": "",
       "version_major": 2,
       "version_minor": 0
      },
      "text/plain": [
       "HBox(children=(FloatProgress(value=0.0, description='Training', layout=Layout(flex='2'), max=1125.0, style=Pro…"
      ]
     },
     "metadata": {},
     "output_type": "display_data"
    },
    {
     "name": "stdout",
     "output_type": "stream",
     "text": [
      "Epoch 586: train=2.10709, val=2.15299, took 43.963 s\n",
      "  Validation Found 9029 of 10819, added 991 (eff 83.46%) (0.495 FP/event)\n"
     ]
    },
    {
     "data": {
      "application/vnd.jupyter.widget-view+json": {
       "model_id": "",
       "version_major": 2,
       "version_minor": 0
      },
      "text/plain": [
       "HBox(children=(FloatProgress(value=0.0, description='Training', layout=Layout(flex='2'), max=1125.0, style=Pro…"
      ]
     },
     "metadata": {},
     "output_type": "display_data"
    },
    {
     "name": "stdout",
     "output_type": "stream",
     "text": [
      "Epoch 587: train=2.10954, val=2.1454, took 43.911 s\n",
      "  Validation Found 9041 of 10819, added 995 (eff 83.57%) (0.497 FP/event)\n"
     ]
    },
    {
     "data": {
      "application/vnd.jupyter.widget-view+json": {
       "model_id": "",
       "version_major": 2,
       "version_minor": 0
      },
      "text/plain": [
       "HBox(children=(FloatProgress(value=0.0, description='Training', layout=Layout(flex='2'), max=1125.0, style=Pro…"
      ]
     },
     "metadata": {},
     "output_type": "display_data"
    },
    {
     "name": "stdout",
     "output_type": "stream",
     "text": [
      "Epoch 588: train=2.10851, val=2.14549, took 43.904 s\n",
      "  Validation Found 9034 of 10819, added 994 (eff 83.50%) (0.497 FP/event)\n"
     ]
    },
    {
     "data": {
      "application/vnd.jupyter.widget-view+json": {
       "model_id": "",
       "version_major": 2,
       "version_minor": 0
      },
      "text/plain": [
       "HBox(children=(FloatProgress(value=0.0, description='Training', layout=Layout(flex='2'), max=1125.0, style=Pro…"
      ]
     },
     "metadata": {},
     "output_type": "display_data"
    },
    {
     "name": "stdout",
     "output_type": "stream",
     "text": [
      "Epoch 589: train=2.11259, val=2.1423, took 43.724 s\n",
      "  Validation Found 9045 of 10819, added 997 (eff 83.60%) (0.498 FP/event)\n"
     ]
    },
    {
     "data": {
      "application/vnd.jupyter.widget-view+json": {
       "model_id": "",
       "version_major": 2,
       "version_minor": 0
      },
      "text/plain": [
       "HBox(children=(FloatProgress(value=0.0, description='Training', layout=Layout(flex='2'), max=1125.0, style=Pro…"
      ]
     },
     "metadata": {},
     "output_type": "display_data"
    },
    {
     "name": "stdout",
     "output_type": "stream",
     "text": [
      "Epoch 590: train=2.10794, val=2.14405, took 43.563 s\n",
      "  Validation Found 9037 of 10819, added 999 (eff 83.53%) (0.499 FP/event)\n"
     ]
    },
    {
     "data": {
      "application/vnd.jupyter.widget-view+json": {
       "model_id": "",
       "version_major": 2,
       "version_minor": 0
      },
      "text/plain": [
       "HBox(children=(FloatProgress(value=0.0, description='Training', layout=Layout(flex='2'), max=1125.0, style=Pro…"
      ]
     },
     "metadata": {},
     "output_type": "display_data"
    },
    {
     "name": "stdout",
     "output_type": "stream",
     "text": [
      "Epoch 591: train=2.10881, val=2.14257, took 43.912 s\n",
      "  Validation Found 9045 of 10819, added 995 (eff 83.60%) (0.497 FP/event)\n"
     ]
    },
    {
     "data": {
      "application/vnd.jupyter.widget-view+json": {
       "model_id": "",
       "version_major": 2,
       "version_minor": 0
      },
      "text/plain": [
       "HBox(children=(FloatProgress(value=0.0, description='Training', layout=Layout(flex='2'), max=1125.0, style=Pro…"
      ]
     },
     "metadata": {},
     "output_type": "display_data"
    },
    {
     "name": "stdout",
     "output_type": "stream",
     "text": [
      "Epoch 592: train=2.10924, val=2.14486, took 43.79 s\n",
      "  Validation Found 9035 of 10819, added 994 (eff 83.51%) (0.497 FP/event)\n"
     ]
    },
    {
     "data": {
      "application/vnd.jupyter.widget-view+json": {
       "model_id": "",
       "version_major": 2,
       "version_minor": 0
      },
      "text/plain": [
       "HBox(children=(FloatProgress(value=0.0, description='Training', layout=Layout(flex='2'), max=1125.0, style=Pro…"
      ]
     },
     "metadata": {},
     "output_type": "display_data"
    },
    {
     "name": "stdout",
     "output_type": "stream",
     "text": [
      "Epoch 593: train=2.11129, val=2.14538, took 43.7 s\n",
      "  Validation Found 9034 of 10819, added 995 (eff 83.50%) (0.497 FP/event)\n"
     ]
    },
    {
     "data": {
      "application/vnd.jupyter.widget-view+json": {
       "model_id": "",
       "version_major": 2,
       "version_minor": 0
      },
      "text/plain": [
       "HBox(children=(FloatProgress(value=0.0, description='Training', layout=Layout(flex='2'), max=1125.0, style=Pro…"
      ]
     },
     "metadata": {},
     "output_type": "display_data"
    },
    {
     "name": "stdout",
     "output_type": "stream",
     "text": [
      "Epoch 594: train=2.10598, val=2.14619, took 43.906 s\n",
      "  Validation Found 9042 of 10819, added 992 (eff 83.58%) (0.496 FP/event)\n"
     ]
    },
    {
     "data": {
      "application/vnd.jupyter.widget-view+json": {
       "model_id": "",
       "version_major": 2,
       "version_minor": 0
      },
      "text/plain": [
       "HBox(children=(FloatProgress(value=0.0, description='Training', layout=Layout(flex='2'), max=1125.0, style=Pro…"
      ]
     },
     "metadata": {},
     "output_type": "display_data"
    },
    {
     "name": "stdout",
     "output_type": "stream",
     "text": [
      "Epoch 595: train=2.10217, val=2.15055, took 43.638 s\n",
      "  Validation Found 9040 of 10819, added 997 (eff 83.56%) (0.498 FP/event)\n"
     ]
    },
    {
     "data": {
      "application/vnd.jupyter.widget-view+json": {
       "model_id": "",
       "version_major": 2,
       "version_minor": 0
      },
      "text/plain": [
       "HBox(children=(FloatProgress(value=0.0, description='Training', layout=Layout(flex='2'), max=1125.0, style=Pro…"
      ]
     },
     "metadata": {},
     "output_type": "display_data"
    },
    {
     "name": "stdout",
     "output_type": "stream",
     "text": [
      "Epoch 596: train=2.1054, val=2.14222, took 43.696 s\n",
      "  Validation Found 9060 of 10819, added 996 (eff 83.74%) (0.498 FP/event)\n"
     ]
    },
    {
     "data": {
      "application/vnd.jupyter.widget-view+json": {
       "model_id": "",
       "version_major": 2,
       "version_minor": 0
      },
      "text/plain": [
       "HBox(children=(FloatProgress(value=0.0, description='Training', layout=Layout(flex='2'), max=1125.0, style=Pro…"
      ]
     },
     "metadata": {},
     "output_type": "display_data"
    },
    {
     "name": "stdout",
     "output_type": "stream",
     "text": [
      "Epoch 597: train=2.1085, val=2.14221, took 43.704 s\n",
      "  Validation Found 9049 of 10819, added 1000 (eff 83.64%) (0.5 FP/event)\n"
     ]
    },
    {
     "data": {
      "application/vnd.jupyter.widget-view+json": {
       "model_id": "",
       "version_major": 2,
       "version_minor": 0
      },
      "text/plain": [
       "HBox(children=(FloatProgress(value=0.0, description='Training', layout=Layout(flex='2'), max=1125.0, style=Pro…"
      ]
     },
     "metadata": {},
     "output_type": "display_data"
    },
    {
     "name": "stdout",
     "output_type": "stream",
     "text": [
      "Epoch 598: train=2.10813, val=2.14304, took 43.87 s\n",
      "  Validation Found 9048 of 10819, added 992 (eff 83.63%) (0.496 FP/event)\n"
     ]
    },
    {
     "data": {
      "application/vnd.jupyter.widget-view+json": {
       "model_id": "",
       "version_major": 2,
       "version_minor": 0
      },
      "text/plain": [
       "HBox(children=(FloatProgress(value=0.0, description='Training', layout=Layout(flex='2'), max=1125.0, style=Pro…"
      ]
     },
     "metadata": {},
     "output_type": "display_data"
    },
    {
     "name": "stdout",
     "output_type": "stream",
     "text": [
      "Epoch 599: train=2.10555, val=2.14128, took 43.711 s\n",
      "  Validation Found 9044 of 10819, added 995 (eff 83.59%) (0.497 FP/event)\n"
     ]
    },
    {
     "data": {
      "application/vnd.jupyter.widget-view+json": {
       "model_id": "",
       "version_major": 2,
       "version_minor": 0
      },
      "text/plain": [
       "HBox(children=(FloatProgress(value=0.0, description='Training', layout=Layout(flex='2'), max=1125.0, style=Pro…"
      ]
     },
     "metadata": {},
     "output_type": "display_data"
    },
    {
     "name": "stdout",
     "output_type": "stream",
     "text": [
      "Epoch 600: train=2.10761, val=2.14226, took 43.874 s\n",
      "  Validation Found 9046 of 10819, added 991 (eff 83.61%) (0.495 FP/event)\n"
     ]
    },
    {
     "data": {
      "application/vnd.jupyter.widget-view+json": {
       "model_id": "",
       "version_major": 2,
       "version_minor": 0
      },
      "text/plain": [
       "HBox(children=(FloatProgress(value=0.0, description='Training', layout=Layout(flex='2'), max=1125.0, style=Pro…"
      ]
     },
     "metadata": {},
     "output_type": "display_data"
    },
    {
     "name": "stdout",
     "output_type": "stream",
     "text": [
      "Epoch 601: train=2.10574, val=2.14789, took 43.557 s\n",
      "  Validation Found 9037 of 10819, added 998 (eff 83.53%) (0.499 FP/event)\n"
     ]
    },
    {
     "data": {
      "application/vnd.jupyter.widget-view+json": {
       "model_id": "",
       "version_major": 2,
       "version_minor": 0
      },
      "text/plain": [
       "HBox(children=(FloatProgress(value=0.0, description='Training', layout=Layout(flex='2'), max=1125.0, style=Pro…"
      ]
     },
     "metadata": {},
     "output_type": "display_data"
    },
    {
     "name": "stdout",
     "output_type": "stream",
     "text": [
      "Epoch 602: train=2.10543, val=2.14199, took 43.859 s\n",
      "  Validation Found 9047 of 10819, added 997 (eff 83.62%) (0.498 FP/event)\n"
     ]
    },
    {
     "data": {
      "application/vnd.jupyter.widget-view+json": {
       "model_id": "",
       "version_major": 2,
       "version_minor": 0
      },
      "text/plain": [
       "HBox(children=(FloatProgress(value=0.0, description='Training', layout=Layout(flex='2'), max=1125.0, style=Pro…"
      ]
     },
     "metadata": {},
     "output_type": "display_data"
    },
    {
     "name": "stdout",
     "output_type": "stream",
     "text": [
      "Epoch 603: train=2.10746, val=2.14178, took 43.697 s\n",
      "  Validation Found 9042 of 10819, added 1002 (eff 83.58%) (0.501 FP/event)\n"
     ]
    },
    {
     "data": {
      "application/vnd.jupyter.widget-view+json": {
       "model_id": "",
       "version_major": 2,
       "version_minor": 0
      },
      "text/plain": [
       "HBox(children=(FloatProgress(value=0.0, description='Training', layout=Layout(flex='2'), max=1125.0, style=Pro…"
      ]
     },
     "metadata": {},
     "output_type": "display_data"
    },
    {
     "name": "stdout",
     "output_type": "stream",
     "text": [
      "Epoch 604: train=2.10692, val=2.14322, took 43.822 s\n",
      "  Validation Found 9045 of 10819, added 993 (eff 83.60%) (0.496 FP/event)\n"
     ]
    },
    {
     "data": {
      "application/vnd.jupyter.widget-view+json": {
       "model_id": "",
       "version_major": 2,
       "version_minor": 0
      },
      "text/plain": [
       "HBox(children=(FloatProgress(value=0.0, description='Training', layout=Layout(flex='2'), max=1125.0, style=Pro…"
      ]
     },
     "metadata": {},
     "output_type": "display_data"
    },
    {
     "name": "stdout",
     "output_type": "stream",
     "text": [
      "Epoch 605: train=2.10568, val=2.14133, took 44.296 s\n",
      "  Validation Found 9054 of 10819, added 990 (eff 83.69%) (0.495 FP/event)\n"
     ]
    },
    {
     "data": {
      "application/vnd.jupyter.widget-view+json": {
       "model_id": "",
       "version_major": 2,
       "version_minor": 0
      },
      "text/plain": [
       "HBox(children=(FloatProgress(value=0.0, description='Training', layout=Layout(flex='2'), max=1125.0, style=Pro…"
      ]
     },
     "metadata": {},
     "output_type": "display_data"
    },
    {
     "name": "stdout",
     "output_type": "stream",
     "text": [
      "Epoch 606: train=2.10813, val=2.14815, took 43.643 s\n",
      "  Validation Found 9045 of 10819, added 1002 (eff 83.60%) (0.501 FP/event)\n"
     ]
    },
    {
     "data": {
      "application/vnd.jupyter.widget-view+json": {
       "model_id": "",
       "version_major": 2,
       "version_minor": 0
      },
      "text/plain": [
       "HBox(children=(FloatProgress(value=0.0, description='Training', layout=Layout(flex='2'), max=1125.0, style=Pro…"
      ]
     },
     "metadata": {},
     "output_type": "display_data"
    },
    {
     "name": "stdout",
     "output_type": "stream",
     "text": [
      "Epoch 607: train=2.10993, val=2.14107, took 43.773 s\n",
      "  Validation Found 9051 of 10819, added 992 (eff 83.66%) (0.496 FP/event)\n"
     ]
    },
    {
     "data": {
      "application/vnd.jupyter.widget-view+json": {
       "model_id": "",
       "version_major": 2,
       "version_minor": 0
      },
      "text/plain": [
       "HBox(children=(FloatProgress(value=0.0, description='Training', layout=Layout(flex='2'), max=1125.0, style=Pro…"
      ]
     },
     "metadata": {},
     "output_type": "display_data"
    },
    {
     "name": "stdout",
     "output_type": "stream",
     "text": [
      "Epoch 608: train=2.10476, val=2.14629, took 43.729 s\n",
      "  Validation Found 9047 of 10819, added 1000 (eff 83.62%) (0.5 FP/event)\n"
     ]
    },
    {
     "data": {
      "application/vnd.jupyter.widget-view+json": {
       "model_id": "",
       "version_major": 2,
       "version_minor": 0
      },
      "text/plain": [
       "HBox(children=(FloatProgress(value=0.0, description='Training', layout=Layout(flex='2'), max=1125.0, style=Pro…"
      ]
     },
     "metadata": {},
     "output_type": "display_data"
    },
    {
     "name": "stdout",
     "output_type": "stream",
     "text": [
      "Epoch 609: train=2.10614, val=2.15525, took 43.843 s\n",
      "  Validation Found 9045 of 10819, added 1005 (eff 83.60%) (0.502 FP/event)\n"
     ]
    },
    {
     "data": {
      "application/vnd.jupyter.widget-view+json": {
       "model_id": "",
       "version_major": 2,
       "version_minor": 0
      },
      "text/plain": [
       "HBox(children=(FloatProgress(value=0.0, description='Training', layout=Layout(flex='2'), max=1125.0, style=Pro…"
      ]
     },
     "metadata": {},
     "output_type": "display_data"
    },
    {
     "name": "stdout",
     "output_type": "stream",
     "text": [
      "Epoch 610: train=2.10695, val=2.14398, took 43.828 s\n",
      "  Validation Found 9046 of 10819, added 996 (eff 83.61%) (0.498 FP/event)\n"
     ]
    },
    {
     "data": {
      "application/vnd.jupyter.widget-view+json": {
       "model_id": "",
       "version_major": 2,
       "version_minor": 0
      },
      "text/plain": [
       "HBox(children=(FloatProgress(value=0.0, description='Training', layout=Layout(flex='2'), max=1125.0, style=Pro…"
      ]
     },
     "metadata": {},
     "output_type": "display_data"
    },
    {
     "name": "stdout",
     "output_type": "stream",
     "text": [
      "Epoch 611: train=2.10563, val=2.14528, took 43.627 s\n",
      "  Validation Found 9047 of 10819, added 1002 (eff 83.62%) (0.501 FP/event)\n"
     ]
    },
    {
     "data": {
      "application/vnd.jupyter.widget-view+json": {
       "model_id": "",
       "version_major": 2,
       "version_minor": 0
      },
      "text/plain": [
       "HBox(children=(FloatProgress(value=0.0, description='Training', layout=Layout(flex='2'), max=1125.0, style=Pro…"
      ]
     },
     "metadata": {},
     "output_type": "display_data"
    },
    {
     "name": "stdout",
     "output_type": "stream",
     "text": [
      "Epoch 612: train=2.10831, val=2.14215, took 43.807 s\n",
      "  Validation Found 9046 of 10819, added 992 (eff 83.61%) (0.496 FP/event)\n"
     ]
    },
    {
     "data": {
      "application/vnd.jupyter.widget-view+json": {
       "model_id": "",
       "version_major": 2,
       "version_minor": 0
      },
      "text/plain": [
       "HBox(children=(FloatProgress(value=0.0, description='Training', layout=Layout(flex='2'), max=1125.0, style=Pro…"
      ]
     },
     "metadata": {},
     "output_type": "display_data"
    },
    {
     "name": "stdout",
     "output_type": "stream",
     "text": [
      "Epoch 613: train=2.10549, val=2.14251, took 43.807 s\n",
      "  Validation Found 9047 of 10819, added 984 (eff 83.62%) (0.492 FP/event)\n"
     ]
    },
    {
     "data": {
      "application/vnd.jupyter.widget-view+json": {
       "model_id": "",
       "version_major": 2,
       "version_minor": 0
      },
      "text/plain": [
       "HBox(children=(FloatProgress(value=0.0, description='Training', layout=Layout(flex='2'), max=1125.0, style=Pro…"
      ]
     },
     "metadata": {},
     "output_type": "display_data"
    },
    {
     "name": "stdout",
     "output_type": "stream",
     "text": [
      "Epoch 614: train=2.10142, val=2.14247, took 43.96 s\n",
      "  Validation Found 9051 of 10819, added 985 (eff 83.66%) (0.492 FP/event)\n"
     ]
    },
    {
     "data": {
      "application/vnd.jupyter.widget-view+json": {
       "model_id": "",
       "version_major": 2,
       "version_minor": 0
      },
      "text/plain": [
       "HBox(children=(FloatProgress(value=0.0, description='Training', layout=Layout(flex='2'), max=1125.0, style=Pro…"
      ]
     },
     "metadata": {},
     "output_type": "display_data"
    },
    {
     "name": "stdout",
     "output_type": "stream",
     "text": [
      "Epoch 615: train=2.10593, val=2.14123, took 43.776 s\n",
      "  Validation Found 9042 of 10819, added 994 (eff 83.58%) (0.497 FP/event)\n"
     ]
    },
    {
     "data": {
      "application/vnd.jupyter.widget-view+json": {
       "model_id": "",
       "version_major": 2,
       "version_minor": 0
      },
      "text/plain": [
       "HBox(children=(FloatProgress(value=0.0, description='Training', layout=Layout(flex='2'), max=1125.0, style=Pro…"
      ]
     },
     "metadata": {},
     "output_type": "display_data"
    },
    {
     "name": "stdout",
     "output_type": "stream",
     "text": [
      "Epoch 616: train=2.10286, val=2.14157, took 43.585 s\n",
      "  Validation Found 9037 of 10819, added 988 (eff 83.53%) (0.494 FP/event)\n"
     ]
    },
    {
     "data": {
      "application/vnd.jupyter.widget-view+json": {
       "model_id": "",
       "version_major": 2,
       "version_minor": 0
      },
      "text/plain": [
       "HBox(children=(FloatProgress(value=0.0, description='Training', layout=Layout(flex='2'), max=1125.0, style=Pro…"
      ]
     },
     "metadata": {},
     "output_type": "display_data"
    },
    {
     "name": "stdout",
     "output_type": "stream",
     "text": [
      "Epoch 617: train=2.10541, val=2.14195, took 43.715 s\n",
      "  Validation Found 9051 of 10819, added 989 (eff 83.66%) (0.494 FP/event)\n"
     ]
    },
    {
     "data": {
      "application/vnd.jupyter.widget-view+json": {
       "model_id": "",
       "version_major": 2,
       "version_minor": 0
      },
      "text/plain": [
       "HBox(children=(FloatProgress(value=0.0, description='Training', layout=Layout(flex='2'), max=1125.0, style=Pro…"
      ]
     },
     "metadata": {},
     "output_type": "display_data"
    },
    {
     "name": "stdout",
     "output_type": "stream",
     "text": [
      "Epoch 618: train=2.10595, val=2.14672, took 43.876 s\n",
      "  Validation Found 9041 of 10819, added 999 (eff 83.57%) (0.499 FP/event)\n"
     ]
    },
    {
     "data": {
      "application/vnd.jupyter.widget-view+json": {
       "model_id": "",
       "version_major": 2,
       "version_minor": 0
      },
      "text/plain": [
       "HBox(children=(FloatProgress(value=0.0, description='Training', layout=Layout(flex='2'), max=1125.0, style=Pro…"
      ]
     },
     "metadata": {},
     "output_type": "display_data"
    },
    {
     "name": "stdout",
     "output_type": "stream",
     "text": [
      "Epoch 619: train=2.10426, val=2.14159, took 43.658 s\n",
      "  Validation Found 9039 of 10819, added 996 (eff 83.55%) (0.498 FP/event)\n"
     ]
    },
    {
     "data": {
      "application/vnd.jupyter.widget-view+json": {
       "model_id": "",
       "version_major": 2,
       "version_minor": 0
      },
      "text/plain": [
       "HBox(children=(FloatProgress(value=0.0, description='Training', layout=Layout(flex='2'), max=1125.0, style=Pro…"
      ]
     },
     "metadata": {},
     "output_type": "display_data"
    },
    {
     "name": "stdout",
     "output_type": "stream",
     "text": [
      "Epoch 620: train=2.10822, val=2.14207, took 43.534 s\n",
      "  Validation Found 9046 of 10819, added 991 (eff 83.61%) (0.495 FP/event)\n"
     ]
    },
    {
     "data": {
      "application/vnd.jupyter.widget-view+json": {
       "model_id": "",
       "version_major": 2,
       "version_minor": 0
      },
      "text/plain": [
       "HBox(children=(FloatProgress(value=0.0, description='Training', layout=Layout(flex='2'), max=1125.0, style=Pro…"
      ]
     },
     "metadata": {},
     "output_type": "display_data"
    },
    {
     "name": "stdout",
     "output_type": "stream",
     "text": [
      "Epoch 621: train=2.10403, val=2.14261, took 43.531 s\n",
      "  Validation Found 9047 of 10819, added 1003 (eff 83.62%) (0.501 FP/event)\n"
     ]
    },
    {
     "data": {
      "application/vnd.jupyter.widget-view+json": {
       "model_id": "",
       "version_major": 2,
       "version_minor": 0
      },
      "text/plain": [
       "HBox(children=(FloatProgress(value=0.0, description='Training', layout=Layout(flex='2'), max=1125.0, style=Pro…"
      ]
     },
     "metadata": {},
     "output_type": "display_data"
    },
    {
     "name": "stdout",
     "output_type": "stream",
     "text": [
      "Epoch 622: train=2.10479, val=2.14257, took 43.598 s\n",
      "  Validation Found 9039 of 10819, added 995 (eff 83.55%) (0.497 FP/event)\n"
     ]
    },
    {
     "data": {
      "application/vnd.jupyter.widget-view+json": {
       "model_id": "",
       "version_major": 2,
       "version_minor": 0
      },
      "text/plain": [
       "HBox(children=(FloatProgress(value=0.0, description='Training', layout=Layout(flex='2'), max=1125.0, style=Pro…"
      ]
     },
     "metadata": {},
     "output_type": "display_data"
    },
    {
     "name": "stdout",
     "output_type": "stream",
     "text": [
      "Epoch 623: train=2.10336, val=2.14198, took 43.619 s\n",
      "  Validation Found 9049 of 10819, added 985 (eff 83.64%) (0.492 FP/event)\n"
     ]
    },
    {
     "data": {
      "application/vnd.jupyter.widget-view+json": {
       "model_id": "",
       "version_major": 2,
       "version_minor": 0
      },
      "text/plain": [
       "HBox(children=(FloatProgress(value=0.0, description='Training', layout=Layout(flex='2'), max=1125.0, style=Pro…"
      ]
     },
     "metadata": {},
     "output_type": "display_data"
    },
    {
     "name": "stdout",
     "output_type": "stream",
     "text": [
      "Epoch 624: train=2.10436, val=2.14242, took 43.795 s\n",
      "  Validation Found 9056 of 10819, added 984 (eff 83.70%) (0.492 FP/event)\n"
     ]
    },
    {
     "data": {
      "application/vnd.jupyter.widget-view+json": {
       "model_id": "",
       "version_major": 2,
       "version_minor": 0
      },
      "text/plain": [
       "HBox(children=(FloatProgress(value=0.0, description='Training', layout=Layout(flex='2'), max=1125.0, style=Pro…"
      ]
     },
     "metadata": {},
     "output_type": "display_data"
    },
    {
     "name": "stdout",
     "output_type": "stream",
     "text": [
      "Epoch 625: train=2.10511, val=2.14093, took 43.845 s\n",
      "  Validation Found 9043 of 10819, added 995 (eff 83.58%) (0.497 FP/event)\n"
     ]
    },
    {
     "data": {
      "application/vnd.jupyter.widget-view+json": {
       "model_id": "",
       "version_major": 2,
       "version_minor": 0
      },
      "text/plain": [
       "HBox(children=(FloatProgress(value=0.0, description='Training', layout=Layout(flex='2'), max=1125.0, style=Pro…"
      ]
     },
     "metadata": {},
     "output_type": "display_data"
    },
    {
     "name": "stdout",
     "output_type": "stream",
     "text": [
      "Epoch 626: train=2.10346, val=2.14184, took 43.733 s\n",
      "  Validation Found 9052 of 10819, added 989 (eff 83.67%) (0.494 FP/event)\n"
     ]
    },
    {
     "data": {
      "application/vnd.jupyter.widget-view+json": {
       "model_id": "",
       "version_major": 2,
       "version_minor": 0
      },
      "text/plain": [
       "HBox(children=(FloatProgress(value=0.0, description='Training', layout=Layout(flex='2'), max=1125.0, style=Pro…"
      ]
     },
     "metadata": {},
     "output_type": "display_data"
    },
    {
     "name": "stdout",
     "output_type": "stream",
     "text": [
      "Epoch 627: train=2.10615, val=2.14264, took 43.652 s\n",
      "  Validation Found 9038 of 10819, added 993 (eff 83.54%) (0.496 FP/event)\n"
     ]
    },
    {
     "data": {
      "application/vnd.jupyter.widget-view+json": {
       "model_id": "",
       "version_major": 2,
       "version_minor": 0
      },
      "text/plain": [
       "HBox(children=(FloatProgress(value=0.0, description='Training', layout=Layout(flex='2'), max=1125.0, style=Pro…"
      ]
     },
     "metadata": {},
     "output_type": "display_data"
    },
    {
     "name": "stdout",
     "output_type": "stream",
     "text": [
      "Epoch 628: train=2.10535, val=2.14272, took 43.92 s\n",
      "  Validation Found 9046 of 10819, added 992 (eff 83.61%) (0.496 FP/event)\n"
     ]
    },
    {
     "data": {
      "application/vnd.jupyter.widget-view+json": {
       "model_id": "",
       "version_major": 2,
       "version_minor": 0
      },
      "text/plain": [
       "HBox(children=(FloatProgress(value=0.0, description='Training', layout=Layout(flex='2'), max=1125.0, style=Pro…"
      ]
     },
     "metadata": {},
     "output_type": "display_data"
    },
    {
     "name": "stdout",
     "output_type": "stream",
     "text": [
      "Epoch 629: train=2.10324, val=2.14098, took 43.874 s\n",
      "  Validation Found 9062 of 10819, added 988 (eff 83.76%) (0.494 FP/event)\n"
     ]
    },
    {
     "data": {
      "application/vnd.jupyter.widget-view+json": {
       "model_id": "",
       "version_major": 2,
       "version_minor": 0
      },
      "text/plain": [
       "HBox(children=(FloatProgress(value=0.0, description='Training', layout=Layout(flex='2'), max=1125.0, style=Pro…"
      ]
     },
     "metadata": {},
     "output_type": "display_data"
    },
    {
     "name": "stdout",
     "output_type": "stream",
     "text": [
      "Epoch 630: train=2.10522, val=2.14277, took 43.664 s\n",
      "  Validation Found 9062 of 10819, added 982 (eff 83.76%) (0.491 FP/event)\n"
     ]
    },
    {
     "data": {
      "application/vnd.jupyter.widget-view+json": {
       "model_id": "",
       "version_major": 2,
       "version_minor": 0
      },
      "text/plain": [
       "HBox(children=(FloatProgress(value=0.0, description='Training', layout=Layout(flex='2'), max=1125.0, style=Pro…"
      ]
     },
     "metadata": {},
     "output_type": "display_data"
    },
    {
     "name": "stdout",
     "output_type": "stream",
     "text": [
      "Epoch 631: train=2.10487, val=2.14538, took 43.798 s\n",
      "  Validation Found 9045 of 10819, added 1003 (eff 83.60%) (0.501 FP/event)\n"
     ]
    },
    {
     "data": {
      "application/vnd.jupyter.widget-view+json": {
       "model_id": "",
       "version_major": 2,
       "version_minor": 0
      },
      "text/plain": [
       "HBox(children=(FloatProgress(value=0.0, description='Training', layout=Layout(flex='2'), max=1125.0, style=Pro…"
      ]
     },
     "metadata": {},
     "output_type": "display_data"
    },
    {
     "name": "stdout",
     "output_type": "stream",
     "text": [
      "Epoch 632: train=2.10954, val=2.14902, took 44.004 s\n",
      "  Validation Found 9047 of 10819, added 994 (eff 83.62%) (0.497 FP/event)\n"
     ]
    },
    {
     "data": {
      "application/vnd.jupyter.widget-view+json": {
       "model_id": "",
       "version_major": 2,
       "version_minor": 0
      },
      "text/plain": [
       "HBox(children=(FloatProgress(value=0.0, description='Training', layout=Layout(flex='2'), max=1125.0, style=Pro…"
      ]
     },
     "metadata": {},
     "output_type": "display_data"
    },
    {
     "name": "stdout",
     "output_type": "stream",
     "text": [
      "Epoch 633: train=2.10882, val=2.14311, took 43.819 s\n",
      "  Validation Found 9052 of 10819, added 994 (eff 83.67%) (0.497 FP/event)\n"
     ]
    },
    {
     "data": {
      "application/vnd.jupyter.widget-view+json": {
       "model_id": "",
       "version_major": 2,
       "version_minor": 0
      },
      "text/plain": [
       "HBox(children=(FloatProgress(value=0.0, description='Training', layout=Layout(flex='2'), max=1125.0, style=Pro…"
      ]
     },
     "metadata": {},
     "output_type": "display_data"
    },
    {
     "name": "stdout",
     "output_type": "stream",
     "text": [
      "Epoch 634: train=2.10511, val=2.14106, took 43.922 s\n",
      "  Validation Found 9052 of 10819, added 992 (eff 83.67%) (0.496 FP/event)\n"
     ]
    },
    {
     "data": {
      "application/vnd.jupyter.widget-view+json": {
       "model_id": "",
       "version_major": 2,
       "version_minor": 0
      },
      "text/plain": [
       "HBox(children=(FloatProgress(value=0.0, description='Training', layout=Layout(flex='2'), max=1125.0, style=Pro…"
      ]
     },
     "metadata": {},
     "output_type": "display_data"
    },
    {
     "name": "stdout",
     "output_type": "stream",
     "text": [
      "Epoch 635: train=2.10473, val=2.14328, took 43.696 s\n",
      "  Validation Found 9062 of 10819, added 990 (eff 83.76%) (0.495 FP/event)\n"
     ]
    },
    {
     "data": {
      "application/vnd.jupyter.widget-view+json": {
       "model_id": "",
       "version_major": 2,
       "version_minor": 0
      },
      "text/plain": [
       "HBox(children=(FloatProgress(value=0.0, description='Training', layout=Layout(flex='2'), max=1125.0, style=Pro…"
      ]
     },
     "metadata": {},
     "output_type": "display_data"
    },
    {
     "name": "stdout",
     "output_type": "stream",
     "text": [
      "Epoch 636: train=2.10723, val=2.14217, took 43.818 s\n",
      "  Validation Found 9049 of 10819, added 988 (eff 83.64%) (0.494 FP/event)\n"
     ]
    },
    {
     "data": {
      "application/vnd.jupyter.widget-view+json": {
       "model_id": "",
       "version_major": 2,
       "version_minor": 0
      },
      "text/plain": [
       "HBox(children=(FloatProgress(value=0.0, description='Training', layout=Layout(flex='2'), max=1125.0, style=Pro…"
      ]
     },
     "metadata": {},
     "output_type": "display_data"
    },
    {
     "name": "stdout",
     "output_type": "stream",
     "text": [
      "Epoch 637: train=2.09815, val=2.14106, took 43.797 s\n",
      "  Validation Found 9045 of 10819, added 996 (eff 83.60%) (0.498 FP/event)\n"
     ]
    },
    {
     "data": {
      "application/vnd.jupyter.widget-view+json": {
       "model_id": "",
       "version_major": 2,
       "version_minor": 0
      },
      "text/plain": [
       "HBox(children=(FloatProgress(value=0.0, description='Training', layout=Layout(flex='2'), max=1125.0, style=Pro…"
      ]
     },
     "metadata": {},
     "output_type": "display_data"
    },
    {
     "name": "stdout",
     "output_type": "stream",
     "text": [
      "Epoch 638: train=2.09708, val=2.141, took 43.573 s\n",
      "  Validation Found 9052 of 10819, added 993 (eff 83.67%) (0.496 FP/event)\n"
     ]
    },
    {
     "data": {
      "application/vnd.jupyter.widget-view+json": {
       "model_id": "",
       "version_major": 2,
       "version_minor": 0
      },
      "text/plain": [
       "HBox(children=(FloatProgress(value=0.0, description='Training', layout=Layout(flex='2'), max=1125.0, style=Pro…"
      ]
     },
     "metadata": {},
     "output_type": "display_data"
    },
    {
     "name": "stdout",
     "output_type": "stream",
     "text": [
      "Epoch 639: train=2.10511, val=2.14463, took 43.999 s\n",
      "  Validation Found 9052 of 10819, added 993 (eff 83.67%) (0.496 FP/event)\n"
     ]
    },
    {
     "data": {
      "application/vnd.jupyter.widget-view+json": {
       "model_id": "",
       "version_major": 2,
       "version_minor": 0
      },
      "text/plain": [
       "HBox(children=(FloatProgress(value=0.0, description='Training', layout=Layout(flex='2'), max=1125.0, style=Pro…"
      ]
     },
     "metadata": {},
     "output_type": "display_data"
    },
    {
     "name": "stdout",
     "output_type": "stream",
     "text": [
      "Epoch 640: train=2.10247, val=2.14201, took 44.093 s\n",
      "  Validation Found 9042 of 10819, added 987 (eff 83.58%) (0.493 FP/event)\n"
     ]
    },
    {
     "data": {
      "application/vnd.jupyter.widget-view+json": {
       "model_id": "",
       "version_major": 2,
       "version_minor": 0
      },
      "text/plain": [
       "HBox(children=(FloatProgress(value=0.0, description='Training', layout=Layout(flex='2'), max=1125.0, style=Pro…"
      ]
     },
     "metadata": {},
     "output_type": "display_data"
    },
    {
     "name": "stdout",
     "output_type": "stream",
     "text": [
      "Epoch 641: train=2.10551, val=2.14166, took 43.745 s\n",
      "  Validation Found 9045 of 10819, added 996 (eff 83.60%) (0.498 FP/event)\n"
     ]
    },
    {
     "data": {
      "application/vnd.jupyter.widget-view+json": {
       "model_id": "",
       "version_major": 2,
       "version_minor": 0
      },
      "text/plain": [
       "HBox(children=(FloatProgress(value=0.0, description='Training', layout=Layout(flex='2'), max=1125.0, style=Pro…"
      ]
     },
     "metadata": {},
     "output_type": "display_data"
    },
    {
     "name": "stdout",
     "output_type": "stream",
     "text": [
      "Epoch 642: train=2.10428, val=2.14171, took 43.712 s\n",
      "  Validation Found 9051 of 10819, added 993 (eff 83.66%) (0.496 FP/event)\n"
     ]
    },
    {
     "data": {
      "application/vnd.jupyter.widget-view+json": {
       "model_id": "",
       "version_major": 2,
       "version_minor": 0
      },
      "text/plain": [
       "HBox(children=(FloatProgress(value=0.0, description='Training', layout=Layout(flex='2'), max=1125.0, style=Pro…"
      ]
     },
     "metadata": {},
     "output_type": "display_data"
    },
    {
     "name": "stdout",
     "output_type": "stream",
     "text": [
      "Epoch 643: train=2.10151, val=2.14016, took 44.071 s\n",
      "  Validation Found 9046 of 10819, added 996 (eff 83.61%) (0.498 FP/event)\n"
     ]
    },
    {
     "data": {
      "application/vnd.jupyter.widget-view+json": {
       "model_id": "",
       "version_major": 2,
       "version_minor": 0
      },
      "text/plain": [
       "HBox(children=(FloatProgress(value=0.0, description='Training', layout=Layout(flex='2'), max=1125.0, style=Pro…"
      ]
     },
     "metadata": {},
     "output_type": "display_data"
    },
    {
     "name": "stdout",
     "output_type": "stream",
     "text": [
      "Epoch 644: train=2.10148, val=2.14453, took 43.954 s\n",
      "  Validation Found 9052 of 10819, added 997 (eff 83.67%) (0.498 FP/event)\n"
     ]
    },
    {
     "data": {
      "application/vnd.jupyter.widget-view+json": {
       "model_id": "",
       "version_major": 2,
       "version_minor": 0
      },
      "text/plain": [
       "HBox(children=(FloatProgress(value=0.0, description='Training', layout=Layout(flex='2'), max=1125.0, style=Pro…"
      ]
     },
     "metadata": {},
     "output_type": "display_data"
    },
    {
     "name": "stdout",
     "output_type": "stream",
     "text": [
      "Epoch 645: train=2.1002, val=2.14077, took 43.584 s\n",
      "  Validation Found 9045 of 10819, added 995 (eff 83.60%) (0.497 FP/event)\n"
     ]
    },
    {
     "data": {
      "application/vnd.jupyter.widget-view+json": {
       "model_id": "",
       "version_major": 2,
       "version_minor": 0
      },
      "text/plain": [
       "HBox(children=(FloatProgress(value=0.0, description='Training', layout=Layout(flex='2'), max=1125.0, style=Pro…"
      ]
     },
     "metadata": {},
     "output_type": "display_data"
    },
    {
     "name": "stdout",
     "output_type": "stream",
     "text": [
      "Epoch 646: train=2.09641, val=2.1418, took 43.771 s\n",
      "  Validation Found 9048 of 10819, added 991 (eff 83.63%) (0.495 FP/event)\n"
     ]
    },
    {
     "data": {
      "application/vnd.jupyter.widget-view+json": {
       "model_id": "",
       "version_major": 2,
       "version_minor": 0
      },
      "text/plain": [
       "HBox(children=(FloatProgress(value=0.0, description='Training', layout=Layout(flex='2'), max=1125.0, style=Pro…"
      ]
     },
     "metadata": {},
     "output_type": "display_data"
    },
    {
     "name": "stdout",
     "output_type": "stream",
     "text": [
      "Epoch 647: train=2.09858, val=2.14362, took 43.65 s\n",
      "  Validation Found 9042 of 10819, added 994 (eff 83.58%) (0.497 FP/event)\n"
     ]
    },
    {
     "data": {
      "application/vnd.jupyter.widget-view+json": {
       "model_id": "",
       "version_major": 2,
       "version_minor": 0
      },
      "text/plain": [
       "HBox(children=(FloatProgress(value=0.0, description='Training', layout=Layout(flex='2'), max=1125.0, style=Pro…"
      ]
     },
     "metadata": {},
     "output_type": "display_data"
    },
    {
     "name": "stdout",
     "output_type": "stream",
     "text": [
      "Epoch 648: train=2.10217, val=2.14865, took 43.797 s\n",
      "  Validation Found 9044 of 10819, added 993 (eff 83.59%) (0.496 FP/event)\n"
     ]
    },
    {
     "data": {
      "application/vnd.jupyter.widget-view+json": {
       "model_id": "",
       "version_major": 2,
       "version_minor": 0
      },
      "text/plain": [
       "HBox(children=(FloatProgress(value=0.0, description='Training', layout=Layout(flex='2'), max=1125.0, style=Pro…"
      ]
     },
     "metadata": {},
     "output_type": "display_data"
    },
    {
     "name": "stdout",
     "output_type": "stream",
     "text": [
      "Epoch 649: train=2.10141, val=2.14158, took 43.693 s\n",
      "  Validation Found 9044 of 10819, added 988 (eff 83.59%) (0.494 FP/event)\n"
     ]
    },
    {
     "data": {
      "application/vnd.jupyter.widget-view+json": {
       "model_id": "",
       "version_major": 2,
       "version_minor": 0
      },
      "text/plain": [
       "HBox(children=(FloatProgress(value=0.0, description='Training', layout=Layout(flex='2'), max=1125.0, style=Pro…"
      ]
     },
     "metadata": {},
     "output_type": "display_data"
    },
    {
     "name": "stdout",
     "output_type": "stream",
     "text": [
      "Epoch 650: train=2.10116, val=2.1408, took 43.976 s\n",
      "  Validation Found 9044 of 10819, added 992 (eff 83.59%) (0.496 FP/event)\n"
     ]
    },
    {
     "data": {
      "application/vnd.jupyter.widget-view+json": {
       "model_id": "",
       "version_major": 2,
       "version_minor": 0
      },
      "text/plain": [
       "HBox(children=(FloatProgress(value=0.0, description='Training', layout=Layout(flex='2'), max=1125.0, style=Pro…"
      ]
     },
     "metadata": {},
     "output_type": "display_data"
    },
    {
     "name": "stdout",
     "output_type": "stream",
     "text": [
      "Epoch 651: train=2.0977, val=2.14097, took 43.702 s\n",
      "  Validation Found 9041 of 10819, added 991 (eff 83.57%) (0.495 FP/event)\n"
     ]
    },
    {
     "data": {
      "application/vnd.jupyter.widget-view+json": {
       "model_id": "",
       "version_major": 2,
       "version_minor": 0
      },
      "text/plain": [
       "HBox(children=(FloatProgress(value=0.0, description='Training', layout=Layout(flex='2'), max=1125.0, style=Pro…"
      ]
     },
     "metadata": {},
     "output_type": "display_data"
    },
    {
     "name": "stdout",
     "output_type": "stream",
     "text": [
      "Epoch 652: train=2.09595, val=2.14143, took 43.602 s\n",
      "  Validation Found 9055 of 10819, added 989 (eff 83.70%) (0.494 FP/event)\n"
     ]
    },
    {
     "data": {
      "application/vnd.jupyter.widget-view+json": {
       "model_id": "",
       "version_major": 2,
       "version_minor": 0
      },
      "text/plain": [
       "HBox(children=(FloatProgress(value=0.0, description='Training', layout=Layout(flex='2'), max=1125.0, style=Pro…"
      ]
     },
     "metadata": {},
     "output_type": "display_data"
    },
    {
     "name": "stdout",
     "output_type": "stream",
     "text": [
      "Epoch 653: train=2.10006, val=2.14725, took 43.982 s\n",
      "  Validation Found 9048 of 10819, added 988 (eff 83.63%) (0.494 FP/event)\n"
     ]
    },
    {
     "data": {
      "application/vnd.jupyter.widget-view+json": {
       "model_id": "",
       "version_major": 2,
       "version_minor": 0
      },
      "text/plain": [
       "HBox(children=(FloatProgress(value=0.0, description='Training', layout=Layout(flex='2'), max=1125.0, style=Pro…"
      ]
     },
     "metadata": {},
     "output_type": "display_data"
    },
    {
     "name": "stdout",
     "output_type": "stream",
     "text": [
      "Epoch 654: train=2.0994, val=2.14349, took 43.617 s\n",
      "  Validation Found 9038 of 10819, added 996 (eff 83.54%) (0.498 FP/event)\n"
     ]
    },
    {
     "data": {
      "application/vnd.jupyter.widget-view+json": {
       "model_id": "",
       "version_major": 2,
       "version_minor": 0
      },
      "text/plain": [
       "HBox(children=(FloatProgress(value=0.0, description='Training', layout=Layout(flex='2'), max=1125.0, style=Pro…"
      ]
     },
     "metadata": {},
     "output_type": "display_data"
    },
    {
     "name": "stdout",
     "output_type": "stream",
     "text": [
      "Epoch 655: train=2.09732, val=2.14249, took 43.769 s\n",
      "  Validation Found 9041 of 10819, added 995 (eff 83.57%) (0.497 FP/event)\n"
     ]
    },
    {
     "data": {
      "application/vnd.jupyter.widget-view+json": {
       "model_id": "",
       "version_major": 2,
       "version_minor": 0
      },
      "text/plain": [
       "HBox(children=(FloatProgress(value=0.0, description='Training', layout=Layout(flex='2'), max=1125.0, style=Pro…"
      ]
     },
     "metadata": {},
     "output_type": "display_data"
    },
    {
     "name": "stdout",
     "output_type": "stream",
     "text": [
      "Epoch 656: train=2.10479, val=2.14128, took 43.848 s\n",
      "  Validation Found 9041 of 10819, added 1000 (eff 83.57%) (0.5 FP/event)\n"
     ]
    },
    {
     "data": {
      "application/vnd.jupyter.widget-view+json": {
       "model_id": "",
       "version_major": 2,
       "version_minor": 0
      },
      "text/plain": [
       "HBox(children=(FloatProgress(value=0.0, description='Training', layout=Layout(flex='2'), max=1125.0, style=Pro…"
      ]
     },
     "metadata": {},
     "output_type": "display_data"
    },
    {
     "name": "stdout",
     "output_type": "stream",
     "text": [
      "Epoch 657: train=2.09993, val=2.14249, took 44.132 s\n",
      "  Validation Found 9044 of 10819, added 997 (eff 83.59%) (0.498 FP/event)\n"
     ]
    },
    {
     "data": {
      "application/vnd.jupyter.widget-view+json": {
       "model_id": "",
       "version_major": 2,
       "version_minor": 0
      },
      "text/plain": [
       "HBox(children=(FloatProgress(value=0.0, description='Training', layout=Layout(flex='2'), max=1125.0, style=Pro…"
      ]
     },
     "metadata": {},
     "output_type": "display_data"
    },
    {
     "name": "stdout",
     "output_type": "stream",
     "text": [
      "Epoch 658: train=2.09717, val=2.14015, took 43.979 s\n",
      "  Validation Found 9043 of 10819, added 989 (eff 83.58%) (0.494 FP/event)\n"
     ]
    },
    {
     "data": {
      "application/vnd.jupyter.widget-view+json": {
       "model_id": "",
       "version_major": 2,
       "version_minor": 0
      },
      "text/plain": [
       "HBox(children=(FloatProgress(value=0.0, description='Training', layout=Layout(flex='2'), max=1125.0, style=Pro…"
      ]
     },
     "metadata": {},
     "output_type": "display_data"
    },
    {
     "name": "stdout",
     "output_type": "stream",
     "text": [
      "Epoch 659: train=2.0999, val=2.14148, took 43.807 s\n",
      "  Validation Found 9039 of 10819, added 995 (eff 83.55%) (0.497 FP/event)\n"
     ]
    },
    {
     "data": {
      "application/vnd.jupyter.widget-view+json": {
       "model_id": "",
       "version_major": 2,
       "version_minor": 0
      },
      "text/plain": [
       "HBox(children=(FloatProgress(value=0.0, description='Training', layout=Layout(flex='2'), max=1125.0, style=Pro…"
      ]
     },
     "metadata": {},
     "output_type": "display_data"
    },
    {
     "name": "stdout",
     "output_type": "stream",
     "text": [
      "Epoch 660: train=2.09742, val=2.15952, took 43.746 s\n",
      "  Validation Found 9024 of 10819, added 997 (eff 83.41%) (0.498 FP/event)\n"
     ]
    },
    {
     "data": {
      "application/vnd.jupyter.widget-view+json": {
       "model_id": "",
       "version_major": 2,
       "version_minor": 0
      },
      "text/plain": [
       "HBox(children=(FloatProgress(value=0.0, description='Training', layout=Layout(flex='2'), max=1125.0, style=Pro…"
      ]
     },
     "metadata": {},
     "output_type": "display_data"
    },
    {
     "name": "stdout",
     "output_type": "stream",
     "text": [
      "Epoch 661: train=2.095, val=2.14045, took 43.74 s\n",
      "  Validation Found 9046 of 10819, added 990 (eff 83.61%) (0.495 FP/event)\n"
     ]
    },
    {
     "data": {
      "application/vnd.jupyter.widget-view+json": {
       "model_id": "",
       "version_major": 2,
       "version_minor": 0
      },
      "text/plain": [
       "HBox(children=(FloatProgress(value=0.0, description='Training', layout=Layout(flex='2'), max=1125.0, style=Pro…"
      ]
     },
     "metadata": {},
     "output_type": "display_data"
    },
    {
     "name": "stdout",
     "output_type": "stream",
     "text": [
      "Epoch 662: train=2.1015, val=2.14302, took 44.048 s\n",
      "  Validation Found 9041 of 10819, added 998 (eff 83.57%) (0.499 FP/event)\n"
     ]
    },
    {
     "data": {
      "application/vnd.jupyter.widget-view+json": {
       "model_id": "",
       "version_major": 2,
       "version_minor": 0
      },
      "text/plain": [
       "HBox(children=(FloatProgress(value=0.0, description='Training', layout=Layout(flex='2'), max=1125.0, style=Pro…"
      ]
     },
     "metadata": {},
     "output_type": "display_data"
    },
    {
     "name": "stdout",
     "output_type": "stream",
     "text": [
      "Epoch 663: train=2.09537, val=2.14117, took 43.732 s\n",
      "  Validation Found 9058 of 10819, added 998 (eff 83.72%) (0.499 FP/event)\n"
     ]
    },
    {
     "data": {
      "application/vnd.jupyter.widget-view+json": {
       "model_id": "",
       "version_major": 2,
       "version_minor": 0
      },
      "text/plain": [
       "HBox(children=(FloatProgress(value=0.0, description='Training', layout=Layout(flex='2'), max=1125.0, style=Pro…"
      ]
     },
     "metadata": {},
     "output_type": "display_data"
    },
    {
     "name": "stdout",
     "output_type": "stream",
     "text": [
      "Epoch 664: train=2.09706, val=2.14074, took 43.833 s\n",
      "  Validation Found 9050 of 10819, added 988 (eff 83.65%) (0.494 FP/event)\n"
     ]
    },
    {
     "data": {
      "application/vnd.jupyter.widget-view+json": {
       "model_id": "",
       "version_major": 2,
       "version_minor": 0
      },
      "text/plain": [
       "HBox(children=(FloatProgress(value=0.0, description='Training', layout=Layout(flex='2'), max=1125.0, style=Pro…"
      ]
     },
     "metadata": {},
     "output_type": "display_data"
    },
    {
     "name": "stdout",
     "output_type": "stream",
     "text": [
      "Epoch 665: train=2.09878, val=2.14068, took 44.004 s\n",
      "  Validation Found 9034 of 10819, added 990 (eff 83.50%) (0.495 FP/event)\n"
     ]
    },
    {
     "data": {
      "application/vnd.jupyter.widget-view+json": {
       "model_id": "",
       "version_major": 2,
       "version_minor": 0
      },
      "text/plain": [
       "HBox(children=(FloatProgress(value=0.0, description='Training', layout=Layout(flex='2'), max=1125.0, style=Pro…"
      ]
     },
     "metadata": {},
     "output_type": "display_data"
    },
    {
     "name": "stdout",
     "output_type": "stream",
     "text": [
      "Epoch 666: train=2.09792, val=2.14233, took 43.818 s\n",
      "  Validation Found 9042 of 10819, added 991 (eff 83.58%) (0.495 FP/event)\n"
     ]
    },
    {
     "data": {
      "application/vnd.jupyter.widget-view+json": {
       "model_id": "",
       "version_major": 2,
       "version_minor": 0
      },
      "text/plain": [
       "HBox(children=(FloatProgress(value=0.0, description='Training', layout=Layout(flex='2'), max=1125.0, style=Pro…"
      ]
     },
     "metadata": {},
     "output_type": "display_data"
    },
    {
     "name": "stdout",
     "output_type": "stream",
     "text": [
      "Epoch 667: train=2.10058, val=2.1422, took 43.645 s\n",
      "  Validation Found 9039 of 10819, added 999 (eff 83.55%) (0.499 FP/event)\n"
     ]
    },
    {
     "data": {
      "application/vnd.jupyter.widget-view+json": {
       "model_id": "",
       "version_major": 2,
       "version_minor": 0
      },
      "text/plain": [
       "HBox(children=(FloatProgress(value=0.0, description='Training', layout=Layout(flex='2'), max=1125.0, style=Pro…"
      ]
     },
     "metadata": {},
     "output_type": "display_data"
    },
    {
     "name": "stdout",
     "output_type": "stream",
     "text": [
      "Epoch 668: train=2.10089, val=2.14183, took 43.769 s\n",
      "  Validation Found 9039 of 10819, added 992 (eff 83.55%) (0.496 FP/event)\n"
     ]
    },
    {
     "data": {
      "application/vnd.jupyter.widget-view+json": {
       "model_id": "",
       "version_major": 2,
       "version_minor": 0
      },
      "text/plain": [
       "HBox(children=(FloatProgress(value=0.0, description='Training', layout=Layout(flex='2'), max=1125.0, style=Pro…"
      ]
     },
     "metadata": {},
     "output_type": "display_data"
    },
    {
     "name": "stdout",
     "output_type": "stream",
     "text": [
      "Epoch 669: train=2.09858, val=2.14183, took 44.125 s\n",
      "  Validation Found 9043 of 10819, added 988 (eff 83.58%) (0.494 FP/event)\n"
     ]
    },
    {
     "data": {
      "application/vnd.jupyter.widget-view+json": {
       "model_id": "",
       "version_major": 2,
       "version_minor": 0
      },
      "text/plain": [
       "HBox(children=(FloatProgress(value=0.0, description='Training', layout=Layout(flex='2'), max=1125.0, style=Pro…"
      ]
     },
     "metadata": {},
     "output_type": "display_data"
    },
    {
     "name": "stdout",
     "output_type": "stream",
     "text": [
      "Epoch 670: train=2.09936, val=2.14444, took 43.775 s\n",
      "  Validation Found 9049 of 10819, added 994 (eff 83.64%) (0.497 FP/event)\n"
     ]
    },
    {
     "data": {
      "application/vnd.jupyter.widget-view+json": {
       "model_id": "",
       "version_major": 2,
       "version_minor": 0
      },
      "text/plain": [
       "HBox(children=(FloatProgress(value=0.0, description='Training', layout=Layout(flex='2'), max=1125.0, style=Pro…"
      ]
     },
     "metadata": {},
     "output_type": "display_data"
    },
    {
     "name": "stdout",
     "output_type": "stream",
     "text": [
      "Epoch 671: train=2.0959, val=2.14421, took 43.811 s\n",
      "  Validation Found 9052 of 10819, added 993 (eff 83.67%) (0.496 FP/event)\n"
     ]
    },
    {
     "data": {
      "application/vnd.jupyter.widget-view+json": {
       "model_id": "",
       "version_major": 2,
       "version_minor": 0
      },
      "text/plain": [
       "HBox(children=(FloatProgress(value=0.0, description='Training', layout=Layout(flex='2'), max=1125.0, style=Pro…"
      ]
     },
     "metadata": {},
     "output_type": "display_data"
    },
    {
     "name": "stdout",
     "output_type": "stream",
     "text": [
      "Epoch 672: train=2.0999, val=2.1439, took 44.113 s\n",
      "  Validation Found 9055 of 10819, added 989 (eff 83.70%) (0.494 FP/event)\n"
     ]
    },
    {
     "data": {
      "application/vnd.jupyter.widget-view+json": {
       "model_id": "",
       "version_major": 2,
       "version_minor": 0
      },
      "text/plain": [
       "HBox(children=(FloatProgress(value=0.0, description='Training', layout=Layout(flex='2'), max=1125.0, style=Pro…"
      ]
     },
     "metadata": {},
     "output_type": "display_data"
    },
    {
     "name": "stdout",
     "output_type": "stream",
     "text": [
      "Epoch 673: train=2.0991, val=2.14267, took 43.75 s\n",
      "  Validation Found 9040 of 10819, added 999 (eff 83.56%) (0.499 FP/event)\n"
     ]
    },
    {
     "data": {
      "application/vnd.jupyter.widget-view+json": {
       "model_id": "",
       "version_major": 2,
       "version_minor": 0
      },
      "text/plain": [
       "HBox(children=(FloatProgress(value=0.0, description='Training', layout=Layout(flex='2'), max=1125.0, style=Pro…"
      ]
     },
     "metadata": {},
     "output_type": "display_data"
    },
    {
     "name": "stdout",
     "output_type": "stream",
     "text": [
      "Epoch 674: train=2.09828, val=2.14089, took 43.806 s\n",
      "  Validation Found 9042 of 10819, added 990 (eff 83.58%) (0.495 FP/event)\n"
     ]
    },
    {
     "data": {
      "application/vnd.jupyter.widget-view+json": {
       "model_id": "",
       "version_major": 2,
       "version_minor": 0
      },
      "text/plain": [
       "HBox(children=(FloatProgress(value=0.0, description='Training', layout=Layout(flex='2'), max=1125.0, style=Pro…"
      ]
     },
     "metadata": {},
     "output_type": "display_data"
    },
    {
     "name": "stdout",
     "output_type": "stream",
     "text": [
      "Epoch 675: train=2.09806, val=2.14134, took 44.055 s\n",
      "  Validation Found 9040 of 10819, added 985 (eff 83.56%) (0.492 FP/event)\n"
     ]
    },
    {
     "data": {
      "application/vnd.jupyter.widget-view+json": {
       "model_id": "",
       "version_major": 2,
       "version_minor": 0
      },
      "text/plain": [
       "HBox(children=(FloatProgress(value=0.0, description='Training', layout=Layout(flex='2'), max=1125.0, style=Pro…"
      ]
     },
     "metadata": {},
     "output_type": "display_data"
    },
    {
     "name": "stdout",
     "output_type": "stream",
     "text": [
      "Epoch 676: train=2.09474, val=2.14118, took 44.147 s\n",
      "  Validation Found 9044 of 10819, added 991 (eff 83.59%) (0.495 FP/event)\n"
     ]
    },
    {
     "data": {
      "application/vnd.jupyter.widget-view+json": {
       "model_id": "",
       "version_major": 2,
       "version_minor": 0
      },
      "text/plain": [
       "HBox(children=(FloatProgress(value=0.0, description='Training', layout=Layout(flex='2'), max=1125.0, style=Pro…"
      ]
     },
     "metadata": {},
     "output_type": "display_data"
    },
    {
     "name": "stdout",
     "output_type": "stream",
     "text": [
      "Epoch 677: train=2.1015, val=2.14163, took 43.817 s\n",
      "  Validation Found 9049 of 10819, added 984 (eff 83.64%) (0.492 FP/event)\n"
     ]
    },
    {
     "data": {
      "application/vnd.jupyter.widget-view+json": {
       "model_id": "",
       "version_major": 2,
       "version_minor": 0
      },
      "text/plain": [
       "HBox(children=(FloatProgress(value=0.0, description='Training', layout=Layout(flex='2'), max=1125.0, style=Pro…"
      ]
     },
     "metadata": {},
     "output_type": "display_data"
    },
    {
     "name": "stdout",
     "output_type": "stream",
     "text": [
      "Epoch 678: train=2.10109, val=2.14187, took 44.011 s\n",
      "  Validation Found 9040 of 10819, added 991 (eff 83.56%) (0.495 FP/event)\n"
     ]
    },
    {
     "data": {
      "application/vnd.jupyter.widget-view+json": {
       "model_id": "",
       "version_major": 2,
       "version_minor": 0
      },
      "text/plain": [
       "HBox(children=(FloatProgress(value=0.0, description='Training', layout=Layout(flex='2'), max=1125.0, style=Pro…"
      ]
     },
     "metadata": {},
     "output_type": "display_data"
    },
    {
     "name": "stdout",
     "output_type": "stream",
     "text": [
      "Epoch 679: train=2.09928, val=2.14144, took 43.931 s\n",
      "  Validation Found 9054 of 10819, added 993 (eff 83.69%) (0.496 FP/event)\n"
     ]
    },
    {
     "data": {
      "application/vnd.jupyter.widget-view+json": {
       "model_id": "",
       "version_major": 2,
       "version_minor": 0
      },
      "text/plain": [
       "HBox(children=(FloatProgress(value=0.0, description='Training', layout=Layout(flex='2'), max=1125.0, style=Pro…"
      ]
     },
     "metadata": {},
     "output_type": "display_data"
    },
    {
     "name": "stdout",
     "output_type": "stream",
     "text": [
      "Epoch 680: train=2.09805, val=2.14437, took 44.177 s\n",
      "  Validation Found 9043 of 10819, added 990 (eff 83.58%) (0.495 FP/event)\n"
     ]
    },
    {
     "data": {
      "application/vnd.jupyter.widget-view+json": {
       "model_id": "",
       "version_major": 2,
       "version_minor": 0
      },
      "text/plain": [
       "HBox(children=(FloatProgress(value=0.0, description='Training', layout=Layout(flex='2'), max=1125.0, style=Pro…"
      ]
     },
     "metadata": {},
     "output_type": "display_data"
    },
    {
     "name": "stdout",
     "output_type": "stream",
     "text": [
      "Epoch 681: train=2.09666, val=2.14364, took 43.776 s\n",
      "  Validation Found 9049 of 10819, added 991 (eff 83.64%) (0.495 FP/event)\n"
     ]
    },
    {
     "data": {
      "application/vnd.jupyter.widget-view+json": {
       "model_id": "",
       "version_major": 2,
       "version_minor": 0
      },
      "text/plain": [
       "HBox(children=(FloatProgress(value=0.0, description='Training', layout=Layout(flex='2'), max=1125.0, style=Pro…"
      ]
     },
     "metadata": {},
     "output_type": "display_data"
    },
    {
     "name": "stdout",
     "output_type": "stream",
     "text": [
      "Epoch 682: train=2.09309, val=2.14146, took 44.039 s\n",
      "  Validation Found 9037 of 10819, added 986 (eff 83.53%) (0.493 FP/event)\n"
     ]
    },
    {
     "data": {
      "application/vnd.jupyter.widget-view+json": {
       "model_id": "",
       "version_major": 2,
       "version_minor": 0
      },
      "text/plain": [
       "HBox(children=(FloatProgress(value=0.0, description='Training', layout=Layout(flex='2'), max=1125.0, style=Pro…"
      ]
     },
     "metadata": {},
     "output_type": "display_data"
    },
    {
     "name": "stdout",
     "output_type": "stream",
     "text": [
      "Epoch 683: train=2.09843, val=2.14046, took 43.842 s\n",
      "  Validation Found 9044 of 10819, added 984 (eff 83.59%) (0.492 FP/event)\n"
     ]
    },
    {
     "data": {
      "application/vnd.jupyter.widget-view+json": {
       "model_id": "",
       "version_major": 2,
       "version_minor": 0
      },
      "text/plain": [
       "HBox(children=(FloatProgress(value=0.0, description='Training', layout=Layout(flex='2'), max=1125.0, style=Pro…"
      ]
     },
     "metadata": {},
     "output_type": "display_data"
    },
    {
     "name": "stdout",
     "output_type": "stream",
     "text": [
      "Epoch 684: train=2.0952, val=2.14074, took 43.61 s\n",
      "  Validation Found 9044 of 10819, added 986 (eff 83.59%) (0.493 FP/event)\n"
     ]
    },
    {
     "data": {
      "application/vnd.jupyter.widget-view+json": {
       "model_id": "",
       "version_major": 2,
       "version_minor": 0
      },
      "text/plain": [
       "HBox(children=(FloatProgress(value=0.0, description='Training', layout=Layout(flex='2'), max=1125.0, style=Pro…"
      ]
     },
     "metadata": {},
     "output_type": "display_data"
    },
    {
     "name": "stdout",
     "output_type": "stream",
     "text": [
      "Epoch 685: train=2.09249, val=2.14184, took 43.79 s\n",
      "  Validation Found 9046 of 10819, added 989 (eff 83.61%) (0.494 FP/event)\n"
     ]
    },
    {
     "data": {
      "application/vnd.jupyter.widget-view+json": {
       "model_id": "",
       "version_major": 2,
       "version_minor": 0
      },
      "text/plain": [
       "HBox(children=(FloatProgress(value=0.0, description='Training', layout=Layout(flex='2'), max=1125.0, style=Pro…"
      ]
     },
     "metadata": {},
     "output_type": "display_data"
    },
    {
     "name": "stdout",
     "output_type": "stream",
     "text": [
      "Epoch 686: train=2.09619, val=2.14066, took 43.77 s\n",
      "  Validation Found 9054 of 10819, added 989 (eff 83.69%) (0.494 FP/event)\n"
     ]
    },
    {
     "data": {
      "application/vnd.jupyter.widget-view+json": {
       "model_id": "",
       "version_major": 2,
       "version_minor": 0
      },
      "text/plain": [
       "HBox(children=(FloatProgress(value=0.0, description='Training', layout=Layout(flex='2'), max=1125.0, style=Pro…"
      ]
     },
     "metadata": {},
     "output_type": "display_data"
    },
    {
     "name": "stdout",
     "output_type": "stream",
     "text": [
      "Epoch 687: train=2.09556, val=2.14025, took 43.665 s\n",
      "  Validation Found 9047 of 10819, added 986 (eff 83.62%) (0.493 FP/event)\n"
     ]
    },
    {
     "data": {
      "application/vnd.jupyter.widget-view+json": {
       "model_id": "",
       "version_major": 2,
       "version_minor": 0
      },
      "text/plain": [
       "HBox(children=(FloatProgress(value=0.0, description='Training', layout=Layout(flex='2'), max=1125.0, style=Pro…"
      ]
     },
     "metadata": {},
     "output_type": "display_data"
    },
    {
     "name": "stdout",
     "output_type": "stream",
     "text": [
      "Epoch 688: train=2.09733, val=2.14095, took 43.86 s\n",
      "  Validation Found 9040 of 10819, added 987 (eff 83.56%) (0.493 FP/event)\n"
     ]
    },
    {
     "data": {
      "application/vnd.jupyter.widget-view+json": {
       "model_id": "",
       "version_major": 2,
       "version_minor": 0
      },
      "text/plain": [
       "HBox(children=(FloatProgress(value=0.0, description='Training', layout=Layout(flex='2'), max=1125.0, style=Pro…"
      ]
     },
     "metadata": {},
     "output_type": "display_data"
    },
    {
     "name": "stdout",
     "output_type": "stream",
     "text": [
      "Epoch 689: train=2.09201, val=2.14151, took 43.789 s\n",
      "  Validation Found 9030 of 10819, added 986 (eff 83.46%) (0.493 FP/event)\n"
     ]
    },
    {
     "data": {
      "application/vnd.jupyter.widget-view+json": {
       "model_id": "",
       "version_major": 2,
       "version_minor": 0
      },
      "text/plain": [
       "HBox(children=(FloatProgress(value=0.0, description='Training', layout=Layout(flex='2'), max=1125.0, style=Pro…"
      ]
     },
     "metadata": {},
     "output_type": "display_data"
    },
    {
     "name": "stdout",
     "output_type": "stream",
     "text": [
      "Epoch 690: train=2.09834, val=2.14246, took 43.857 s\n",
      "  Validation Found 9030 of 10819, added 987 (eff 83.46%) (0.493 FP/event)\n"
     ]
    },
    {
     "data": {
      "application/vnd.jupyter.widget-view+json": {
       "model_id": "",
       "version_major": 2,
       "version_minor": 0
      },
      "text/plain": [
       "HBox(children=(FloatProgress(value=0.0, description='Training', layout=Layout(flex='2'), max=1125.0, style=Pro…"
      ]
     },
     "metadata": {},
     "output_type": "display_data"
    },
    {
     "name": "stdout",
     "output_type": "stream",
     "text": [
      "Epoch 691: train=2.09556, val=2.14079, took 43.682 s\n",
      "  Validation Found 9040 of 10819, added 986 (eff 83.56%) (0.493 FP/event)\n"
     ]
    },
    {
     "data": {
      "application/vnd.jupyter.widget-view+json": {
       "model_id": "",
       "version_major": 2,
       "version_minor": 0
      },
      "text/plain": [
       "HBox(children=(FloatProgress(value=0.0, description='Training', layout=Layout(flex='2'), max=1125.0, style=Pro…"
      ]
     },
     "metadata": {},
     "output_type": "display_data"
    },
    {
     "name": "stdout",
     "output_type": "stream",
     "text": [
      "Epoch 692: train=2.09609, val=2.13963, took 43.857 s\n",
      "  Validation Found 9041 of 10819, added 984 (eff 83.57%) (0.492 FP/event)\n"
     ]
    },
    {
     "data": {
      "application/vnd.jupyter.widget-view+json": {
       "model_id": "",
       "version_major": 2,
       "version_minor": 0
      },
      "text/plain": [
       "HBox(children=(FloatProgress(value=0.0, description='Training', layout=Layout(flex='2'), max=1125.0, style=Pro…"
      ]
     },
     "metadata": {},
     "output_type": "display_data"
    },
    {
     "name": "stdout",
     "output_type": "stream",
     "text": [
      "Epoch 693: train=2.09401, val=2.13971, took 43.666 s\n",
      "  Validation Found 9045 of 10819, added 989 (eff 83.60%) (0.494 FP/event)\n"
     ]
    },
    {
     "data": {
      "application/vnd.jupyter.widget-view+json": {
       "model_id": "",
       "version_major": 2,
       "version_minor": 0
      },
      "text/plain": [
       "HBox(children=(FloatProgress(value=0.0, description='Training', layout=Layout(flex='2'), max=1125.0, style=Pro…"
      ]
     },
     "metadata": {},
     "output_type": "display_data"
    },
    {
     "name": "stdout",
     "output_type": "stream",
     "text": [
      "Epoch 694: train=2.0922, val=2.13924, took 43.703 s\n",
      "  Validation Found 9040 of 10819, added 987 (eff 83.56%) (0.493 FP/event)\n"
     ]
    },
    {
     "data": {
      "application/vnd.jupyter.widget-view+json": {
       "model_id": "",
       "version_major": 2,
       "version_minor": 0
      },
      "text/plain": [
       "HBox(children=(FloatProgress(value=0.0, description='Training', layout=Layout(flex='2'), max=1125.0, style=Pro…"
      ]
     },
     "metadata": {},
     "output_type": "display_data"
    },
    {
     "name": "stdout",
     "output_type": "stream",
     "text": [
      "Epoch 695: train=2.09003, val=2.13969, took 43.79 s\n",
      "  Validation Found 9053 of 10819, added 989 (eff 83.68%) (0.494 FP/event)\n"
     ]
    },
    {
     "data": {
      "application/vnd.jupyter.widget-view+json": {
       "model_id": "",
       "version_major": 2,
       "version_minor": 0
      },
      "text/plain": [
       "HBox(children=(FloatProgress(value=0.0, description='Training', layout=Layout(flex='2'), max=1125.0, style=Pro…"
      ]
     },
     "metadata": {},
     "output_type": "display_data"
    },
    {
     "name": "stdout",
     "output_type": "stream",
     "text": [
      "Epoch 696: train=2.09229, val=2.13947, took 43.844 s\n",
      "  Validation Found 9047 of 10819, added 987 (eff 83.62%) (0.493 FP/event)\n"
     ]
    },
    {
     "data": {
      "application/vnd.jupyter.widget-view+json": {
       "model_id": "",
       "version_major": 2,
       "version_minor": 0
      },
      "text/plain": [
       "HBox(children=(FloatProgress(value=0.0, description='Training', layout=Layout(flex='2'), max=1125.0, style=Pro…"
      ]
     },
     "metadata": {},
     "output_type": "display_data"
    },
    {
     "name": "stdout",
     "output_type": "stream",
     "text": [
      "Epoch 697: train=2.09354, val=2.14016, took 43.749 s\n",
      "  Validation Found 9046 of 10819, added 986 (eff 83.61%) (0.493 FP/event)\n"
     ]
    },
    {
     "data": {
      "application/vnd.jupyter.widget-view+json": {
       "model_id": "",
       "version_major": 2,
       "version_minor": 0
      },
      "text/plain": [
       "HBox(children=(FloatProgress(value=0.0, description='Training', layout=Layout(flex='2'), max=1125.0, style=Pro…"
      ]
     },
     "metadata": {},
     "output_type": "display_data"
    },
    {
     "name": "stdout",
     "output_type": "stream",
     "text": [
      "Epoch 698: train=2.09225, val=2.1448, took 43.911 s\n",
      "  Validation Found 9049 of 10819, added 987 (eff 83.64%) (0.493 FP/event)\n"
     ]
    },
    {
     "data": {
      "application/vnd.jupyter.widget-view+json": {
       "model_id": "",
       "version_major": 2,
       "version_minor": 0
      },
      "text/plain": [
       "HBox(children=(FloatProgress(value=0.0, description='Training', layout=Layout(flex='2'), max=1125.0, style=Pro…"
      ]
     },
     "metadata": {},
     "output_type": "display_data"
    },
    {
     "name": "stdout",
     "output_type": "stream",
     "text": [
      "Epoch 699: train=2.09453, val=2.14116, took 43.857 s\n",
      "  Validation Found 9044 of 10819, added 982 (eff 83.59%) (0.491 FP/event)\n"
     ]
    },
    {
     "data": {
      "application/vnd.jupyter.widget-view+json": {
       "model_id": "",
       "version_major": 2,
       "version_minor": 0
      },
      "text/plain": [
       "HBox(children=(FloatProgress(value=0.0, description='Training', layout=Layout(flex='2'), max=1125.0, style=Pro…"
      ]
     },
     "metadata": {},
     "output_type": "display_data"
    },
    {
     "name": "stdout",
     "output_type": "stream",
     "text": [
      "Epoch 700: train=2.09138, val=2.14681, took 43.84 s\n",
      "  Validation Found 9033 of 10819, added 989 (eff 83.49%) (0.494 FP/event)\n"
     ]
    },
    {
     "data": {
      "application/vnd.jupyter.widget-view+json": {
       "model_id": "",
       "version_major": 2,
       "version_minor": 0
      },
      "text/plain": [
       "HBox(children=(FloatProgress(value=0.0, description='Training', layout=Layout(flex='2'), max=1125.0, style=Pro…"
      ]
     },
     "metadata": {},
     "output_type": "display_data"
    },
    {
     "name": "stdout",
     "output_type": "stream",
     "text": [
      "Epoch 701: train=2.09355, val=2.13975, took 44.471 s\n",
      "  Validation Found 9034 of 10819, added 980 (eff 83.50%) (0.49 FP/event)\n"
     ]
    },
    {
     "data": {
      "application/vnd.jupyter.widget-view+json": {
       "model_id": "",
       "version_major": 2,
       "version_minor": 0
      },
      "text/plain": [
       "HBox(children=(FloatProgress(value=0.0, description='Training', layout=Layout(flex='2'), max=1125.0, style=Pro…"
      ]
     },
     "metadata": {},
     "output_type": "display_data"
    },
    {
     "name": "stdout",
     "output_type": "stream",
     "text": [
      "Epoch 702: train=2.09477, val=2.13964, took 43.803 s\n",
      "  Validation Found 9042 of 10819, added 990 (eff 83.58%) (0.495 FP/event)\n"
     ]
    },
    {
     "data": {
      "application/vnd.jupyter.widget-view+json": {
       "model_id": "",
       "version_major": 2,
       "version_minor": 0
      },
      "text/plain": [
       "HBox(children=(FloatProgress(value=0.0, description='Training', layout=Layout(flex='2'), max=1125.0, style=Pro…"
      ]
     },
     "metadata": {},
     "output_type": "display_data"
    },
    {
     "name": "stdout",
     "output_type": "stream",
     "text": [
      "Epoch 703: train=2.09457, val=2.13942, took 43.8 s\n",
      "  Validation Found 9046 of 10819, added 992 (eff 83.61%) (0.496 FP/event)\n"
     ]
    },
    {
     "data": {
      "application/vnd.jupyter.widget-view+json": {
       "model_id": "",
       "version_major": 2,
       "version_minor": 0
      },
      "text/plain": [
       "HBox(children=(FloatProgress(value=0.0, description='Training', layout=Layout(flex='2'), max=1125.0, style=Pro…"
      ]
     },
     "metadata": {},
     "output_type": "display_data"
    },
    {
     "name": "stdout",
     "output_type": "stream",
     "text": [
      "Epoch 704: train=2.09873, val=2.14209, took 43.84 s\n",
      "  Validation Found 9046 of 10819, added 995 (eff 83.61%) (0.497 FP/event)\n"
     ]
    },
    {
     "data": {
      "application/vnd.jupyter.widget-view+json": {
       "model_id": "",
       "version_major": 2,
       "version_minor": 0
      },
      "text/plain": [
       "HBox(children=(FloatProgress(value=0.0, description='Training', layout=Layout(flex='2'), max=1125.0, style=Pro…"
      ]
     },
     "metadata": {},
     "output_type": "display_data"
    },
    {
     "name": "stdout",
     "output_type": "stream",
     "text": [
      "Epoch 705: train=2.09134, val=2.13991, took 43.792 s\n",
      "  Validation Found 9042 of 10819, added 987 (eff 83.58%) (0.493 FP/event)\n"
     ]
    },
    {
     "data": {
      "application/vnd.jupyter.widget-view+json": {
       "model_id": "",
       "version_major": 2,
       "version_minor": 0
      },
      "text/plain": [
       "HBox(children=(FloatProgress(value=0.0, description='Training', layout=Layout(flex='2'), max=1125.0, style=Pro…"
      ]
     },
     "metadata": {},
     "output_type": "display_data"
    },
    {
     "name": "stdout",
     "output_type": "stream",
     "text": [
      "Epoch 706: train=2.0955, val=2.14031, took 43.705 s\n",
      "  Validation Found 9048 of 10819, added 982 (eff 83.63%) (0.491 FP/event)\n"
     ]
    },
    {
     "data": {
      "application/vnd.jupyter.widget-view+json": {
       "model_id": "",
       "version_major": 2,
       "version_minor": 0
      },
      "text/plain": [
       "HBox(children=(FloatProgress(value=0.0, description='Training', layout=Layout(flex='2'), max=1125.0, style=Pro…"
      ]
     },
     "metadata": {},
     "output_type": "display_data"
    },
    {
     "name": "stdout",
     "output_type": "stream",
     "text": [
      "Epoch 707: train=2.09136, val=2.14084, took 44.11 s\n",
      "  Validation Found 9044 of 10819, added 992 (eff 83.59%) (0.496 FP/event)\n"
     ]
    },
    {
     "data": {
      "application/vnd.jupyter.widget-view+json": {
       "model_id": "",
       "version_major": 2,
       "version_minor": 0
      },
      "text/plain": [
       "HBox(children=(FloatProgress(value=0.0, description='Training', layout=Layout(flex='2'), max=1125.0, style=Pro…"
      ]
     },
     "metadata": {},
     "output_type": "display_data"
    },
    {
     "name": "stdout",
     "output_type": "stream",
     "text": [
      "Epoch 708: train=2.09428, val=2.14071, took 43.899 s\n",
      "  Validation Found 9046 of 10819, added 990 (eff 83.61%) (0.495 FP/event)\n"
     ]
    },
    {
     "data": {
      "application/vnd.jupyter.widget-view+json": {
       "model_id": "",
       "version_major": 2,
       "version_minor": 0
      },
      "text/plain": [
       "HBox(children=(FloatProgress(value=0.0, description='Training', layout=Layout(flex='2'), max=1125.0, style=Pro…"
      ]
     },
     "metadata": {},
     "output_type": "display_data"
    },
    {
     "name": "stdout",
     "output_type": "stream",
     "text": [
      "Epoch 709: train=2.09304, val=2.14056, took 43.769 s\n",
      "  Validation Found 9035 of 10819, added 988 (eff 83.51%) (0.494 FP/event)\n"
     ]
    },
    {
     "data": {
      "application/vnd.jupyter.widget-view+json": {
       "model_id": "",
       "version_major": 2,
       "version_minor": 0
      },
      "text/plain": [
       "HBox(children=(FloatProgress(value=0.0, description='Training', layout=Layout(flex='2'), max=1125.0, style=Pro…"
      ]
     },
     "metadata": {},
     "output_type": "display_data"
    },
    {
     "name": "stdout",
     "output_type": "stream",
     "text": [
      "Epoch 710: train=2.09524, val=2.14077, took 43.884 s\n",
      "  Validation Found 9046 of 10819, added 981 (eff 83.61%) (0.49 FP/event)\n"
     ]
    },
    {
     "data": {
      "application/vnd.jupyter.widget-view+json": {
       "model_id": "",
       "version_major": 2,
       "version_minor": 0
      },
      "text/plain": [
       "HBox(children=(FloatProgress(value=0.0, description='Training', layout=Layout(flex='2'), max=1125.0, style=Pro…"
      ]
     },
     "metadata": {},
     "output_type": "display_data"
    },
    {
     "name": "stdout",
     "output_type": "stream",
     "text": [
      "Epoch 711: train=2.09508, val=2.14126, took 44.043 s\n",
      "  Validation Found 9048 of 10819, added 984 (eff 83.63%) (0.492 FP/event)\n"
     ]
    },
    {
     "data": {
      "application/vnd.jupyter.widget-view+json": {
       "model_id": "",
       "version_major": 2,
       "version_minor": 0
      },
      "text/plain": [
       "HBox(children=(FloatProgress(value=0.0, description='Training', layout=Layout(flex='2'), max=1125.0, style=Pro…"
      ]
     },
     "metadata": {},
     "output_type": "display_data"
    },
    {
     "name": "stdout",
     "output_type": "stream",
     "text": [
      "Epoch 712: train=2.09369, val=2.14076, took 43.683 s\n",
      "  Validation Found 9046 of 10819, added 983 (eff 83.61%) (0.491 FP/event)\n"
     ]
    },
    {
     "data": {
      "application/vnd.jupyter.widget-view+json": {
       "model_id": "",
       "version_major": 2,
       "version_minor": 0
      },
      "text/plain": [
       "HBox(children=(FloatProgress(value=0.0, description='Training', layout=Layout(flex='2'), max=1125.0, style=Pro…"
      ]
     },
     "metadata": {},
     "output_type": "display_data"
    },
    {
     "name": "stdout",
     "output_type": "stream",
     "text": [
      "Epoch 713: train=2.09049, val=2.1437, took 43.721 s\n",
      "  Validation Found 9044 of 10819, added 989 (eff 83.59%) (0.494 FP/event)\n"
     ]
    },
    {
     "data": {
      "application/vnd.jupyter.widget-view+json": {
       "model_id": "",
       "version_major": 2,
       "version_minor": 0
      },
      "text/plain": [
       "HBox(children=(FloatProgress(value=0.0, description='Training', layout=Layout(flex='2'), max=1125.0, style=Pro…"
      ]
     },
     "metadata": {},
     "output_type": "display_data"
    },
    {
     "name": "stdout",
     "output_type": "stream",
     "text": [
      "Epoch 714: train=2.09143, val=2.14404, took 43.811 s\n",
      "  Validation Found 9035 of 10819, added 989 (eff 83.51%) (0.494 FP/event)\n"
     ]
    },
    {
     "data": {
      "application/vnd.jupyter.widget-view+json": {
       "model_id": "",
       "version_major": 2,
       "version_minor": 0
      },
      "text/plain": [
       "HBox(children=(FloatProgress(value=0.0, description='Training', layout=Layout(flex='2'), max=1125.0, style=Pro…"
      ]
     },
     "metadata": {},
     "output_type": "display_data"
    },
    {
     "name": "stdout",
     "output_type": "stream",
     "text": [
      "Epoch 715: train=2.09154, val=2.14349, took 43.771 s\n",
      "  Validation Found 9042 of 10819, added 994 (eff 83.58%) (0.497 FP/event)\n"
     ]
    },
    {
     "data": {
      "application/vnd.jupyter.widget-view+json": {
       "model_id": "",
       "version_major": 2,
       "version_minor": 0
      },
      "text/plain": [
       "HBox(children=(FloatProgress(value=0.0, description='Training', layout=Layout(flex='2'), max=1125.0, style=Pro…"
      ]
     },
     "metadata": {},
     "output_type": "display_data"
    },
    {
     "name": "stdout",
     "output_type": "stream",
     "text": [
      "Epoch 716: train=2.0972, val=2.14401, took 43.768 s\n",
      "  Validation Found 9045 of 10819, added 993 (eff 83.60%) (0.496 FP/event)\n"
     ]
    },
    {
     "data": {
      "application/vnd.jupyter.widget-view+json": {
       "model_id": "",
       "version_major": 2,
       "version_minor": 0
      },
      "text/plain": [
       "HBox(children=(FloatProgress(value=0.0, description='Training', layout=Layout(flex='2'), max=1125.0, style=Pro…"
      ]
     },
     "metadata": {},
     "output_type": "display_data"
    },
    {
     "name": "stdout",
     "output_type": "stream",
     "text": [
      "Epoch 717: train=2.09475, val=2.1416, took 43.631 s\n",
      "  Validation Found 9043 of 10819, added 981 (eff 83.58%) (0.49 FP/event)\n"
     ]
    },
    {
     "data": {
      "application/vnd.jupyter.widget-view+json": {
       "model_id": "",
       "version_major": 2,
       "version_minor": 0
      },
      "text/plain": [
       "HBox(children=(FloatProgress(value=0.0, description='Training', layout=Layout(flex='2'), max=1125.0, style=Pro…"
      ]
     },
     "metadata": {},
     "output_type": "display_data"
    },
    {
     "name": "stdout",
     "output_type": "stream",
     "text": [
      "Epoch 718: train=2.09399, val=2.14181, took 43.749 s\n",
      "  Validation Found 9054 of 10819, added 985 (eff 83.69%) (0.492 FP/event)\n"
     ]
    },
    {
     "data": {
      "application/vnd.jupyter.widget-view+json": {
       "model_id": "",
       "version_major": 2,
       "version_minor": 0
      },
      "text/plain": [
       "HBox(children=(FloatProgress(value=0.0, description='Training', layout=Layout(flex='2'), max=1125.0, style=Pro…"
      ]
     },
     "metadata": {},
     "output_type": "display_data"
    },
    {
     "name": "stdout",
     "output_type": "stream",
     "text": [
      "Epoch 719: train=2.08958, val=2.14511, took 43.891 s\n",
      "  Validation Found 9050 of 10819, added 997 (eff 83.65%) (0.498 FP/event)\n"
     ]
    },
    {
     "data": {
      "application/vnd.jupyter.widget-view+json": {
       "model_id": "",
       "version_major": 2,
       "version_minor": 0
      },
      "text/plain": [
       "HBox(children=(FloatProgress(value=0.0, description='Training', layout=Layout(flex='2'), max=1125.0, style=Pro…"
      ]
     },
     "metadata": {},
     "output_type": "display_data"
    },
    {
     "name": "stdout",
     "output_type": "stream",
     "text": [
      "Epoch 720: train=2.09091, val=2.13968, took 43.726 s\n",
      "  Validation Found 9041 of 10819, added 992 (eff 83.57%) (0.496 FP/event)\n"
     ]
    },
    {
     "data": {
      "application/vnd.jupyter.widget-view+json": {
       "model_id": "",
       "version_major": 2,
       "version_minor": 0
      },
      "text/plain": [
       "HBox(children=(FloatProgress(value=0.0, description='Training', layout=Layout(flex='2'), max=1125.0, style=Pro…"
      ]
     },
     "metadata": {},
     "output_type": "display_data"
    },
    {
     "name": "stdout",
     "output_type": "stream",
     "text": [
      "Epoch 721: train=2.09262, val=2.14006, took 43.578 s\n",
      "  Validation Found 9046 of 10819, added 986 (eff 83.61%) (0.493 FP/event)\n"
     ]
    },
    {
     "data": {
      "application/vnd.jupyter.widget-view+json": {
       "model_id": "",
       "version_major": 2,
       "version_minor": 0
      },
      "text/plain": [
       "HBox(children=(FloatProgress(value=0.0, description='Training', layout=Layout(flex='2'), max=1125.0, style=Pro…"
      ]
     },
     "metadata": {},
     "output_type": "display_data"
    },
    {
     "name": "stdout",
     "output_type": "stream",
     "text": [
      "Epoch 722: train=2.0895, val=2.1433, took 43.655 s\n",
      "  Validation Found 9042 of 10819, added 988 (eff 83.58%) (0.494 FP/event)\n"
     ]
    },
    {
     "data": {
      "application/vnd.jupyter.widget-view+json": {
       "model_id": "",
       "version_major": 2,
       "version_minor": 0
      },
      "text/plain": [
       "HBox(children=(FloatProgress(value=0.0, description='Training', layout=Layout(flex='2'), max=1125.0, style=Pro…"
      ]
     },
     "metadata": {},
     "output_type": "display_data"
    },
    {
     "name": "stdout",
     "output_type": "stream",
     "text": [
      "Epoch 723: train=2.09303, val=2.1403, took 43.545 s\n",
      "  Validation Found 9037 of 10819, added 985 (eff 83.53%) (0.492 FP/event)\n"
     ]
    },
    {
     "data": {
      "application/vnd.jupyter.widget-view+json": {
       "model_id": "",
       "version_major": 2,
       "version_minor": 0
      },
      "text/plain": [
       "HBox(children=(FloatProgress(value=0.0, description='Training', layout=Layout(flex='2'), max=1125.0, style=Pro…"
      ]
     },
     "metadata": {},
     "output_type": "display_data"
    },
    {
     "name": "stdout",
     "output_type": "stream",
     "text": [
      "Epoch 724: train=2.08926, val=2.13993, took 43.637 s\n",
      "  Validation Found 9050 of 10819, added 978 (eff 83.65%) (0.489 FP/event)\n"
     ]
    },
    {
     "data": {
      "application/vnd.jupyter.widget-view+json": {
       "model_id": "",
       "version_major": 2,
       "version_minor": 0
      },
      "text/plain": [
       "HBox(children=(FloatProgress(value=0.0, description='Training', layout=Layout(flex='2'), max=1125.0, style=Pro…"
      ]
     },
     "metadata": {},
     "output_type": "display_data"
    },
    {
     "name": "stdout",
     "output_type": "stream",
     "text": [
      "Epoch 725: train=2.09299, val=2.13951, took 43.68 s\n",
      "  Validation Found 9051 of 10819, added 980 (eff 83.66%) (0.49 FP/event)\n"
     ]
    },
    {
     "data": {
      "application/vnd.jupyter.widget-view+json": {
       "model_id": "",
       "version_major": 2,
       "version_minor": 0
      },
      "text/plain": [
       "HBox(children=(FloatProgress(value=0.0, description='Training', layout=Layout(flex='2'), max=1125.0, style=Pro…"
      ]
     },
     "metadata": {},
     "output_type": "display_data"
    },
    {
     "name": "stdout",
     "output_type": "stream",
     "text": [
      "Epoch 726: train=2.09068, val=2.14141, took 43.76 s\n",
      "  Validation Found 9048 of 10819, added 985 (eff 83.63%) (0.492 FP/event)\n"
     ]
    },
    {
     "data": {
      "application/vnd.jupyter.widget-view+json": {
       "model_id": "",
       "version_major": 2,
       "version_minor": 0
      },
      "text/plain": [
       "HBox(children=(FloatProgress(value=0.0, description='Training', layout=Layout(flex='2'), max=1125.0, style=Pro…"
      ]
     },
     "metadata": {},
     "output_type": "display_data"
    },
    {
     "name": "stdout",
     "output_type": "stream",
     "text": [
      "Epoch 727: train=2.08609, val=2.14406, took 43.744 s\n",
      "  Validation Found 9045 of 10819, added 985 (eff 83.60%) (0.492 FP/event)\n"
     ]
    },
    {
     "data": {
      "application/vnd.jupyter.widget-view+json": {
       "model_id": "",
       "version_major": 2,
       "version_minor": 0
      },
      "text/plain": [
       "HBox(children=(FloatProgress(value=0.0, description='Training', layout=Layout(flex='2'), max=1125.0, style=Pro…"
      ]
     },
     "metadata": {},
     "output_type": "display_data"
    },
    {
     "name": "stdout",
     "output_type": "stream",
     "text": [
      "Epoch 728: train=2.09629, val=2.15027, took 44.068 s\n",
      "  Validation Found 9035 of 10819, added 992 (eff 83.51%) (0.496 FP/event)\n"
     ]
    },
    {
     "data": {
      "application/vnd.jupyter.widget-view+json": {
       "model_id": "",
       "version_major": 2,
       "version_minor": 0
      },
      "text/plain": [
       "HBox(children=(FloatProgress(value=0.0, description='Training', layout=Layout(flex='2'), max=1125.0, style=Pro…"
      ]
     },
     "metadata": {},
     "output_type": "display_data"
    },
    {
     "name": "stdout",
     "output_type": "stream",
     "text": [
      "Epoch 729: train=2.09536, val=2.1408, took 43.691 s\n",
      "  Validation Found 9038 of 10819, added 988 (eff 83.54%) (0.494 FP/event)\n"
     ]
    },
    {
     "data": {
      "application/vnd.jupyter.widget-view+json": {
       "model_id": "",
       "version_major": 2,
       "version_minor": 0
      },
      "text/plain": [
       "HBox(children=(FloatProgress(value=0.0, description='Training', layout=Layout(flex='2'), max=1125.0, style=Pro…"
      ]
     },
     "metadata": {},
     "output_type": "display_data"
    },
    {
     "name": "stdout",
     "output_type": "stream",
     "text": [
      "Epoch 730: train=2.08979, val=2.14137, took 43.958 s\n",
      "  Validation Found 9053 of 10819, added 991 (eff 83.68%) (0.495 FP/event)\n"
     ]
    },
    {
     "data": {
      "application/vnd.jupyter.widget-view+json": {
       "model_id": "",
       "version_major": 2,
       "version_minor": 0
      },
      "text/plain": [
       "HBox(children=(FloatProgress(value=0.0, description='Training', layout=Layout(flex='2'), max=1125.0, style=Pro…"
      ]
     },
     "metadata": {},
     "output_type": "display_data"
    },
    {
     "name": "stdout",
     "output_type": "stream",
     "text": [
      "Epoch 731: train=2.08721, val=2.14602, took 43.902 s\n",
      "  Validation Found 9035 of 10819, added 985 (eff 83.51%) (0.492 FP/event)\n"
     ]
    },
    {
     "data": {
      "application/vnd.jupyter.widget-view+json": {
       "model_id": "",
       "version_major": 2,
       "version_minor": 0
      },
      "text/plain": [
       "HBox(children=(FloatProgress(value=0.0, description='Training', layout=Layout(flex='2'), max=1125.0, style=Pro…"
      ]
     },
     "metadata": {},
     "output_type": "display_data"
    },
    {
     "name": "stdout",
     "output_type": "stream",
     "text": [
      "Epoch 732: train=2.09234, val=2.14384, took 43.944 s\n",
      "  Validation Found 9045 of 10819, added 988 (eff 83.60%) (0.494 FP/event)\n"
     ]
    },
    {
     "data": {
      "application/vnd.jupyter.widget-view+json": {
       "model_id": "",
       "version_major": 2,
       "version_minor": 0
      },
      "text/plain": [
       "HBox(children=(FloatProgress(value=0.0, description='Training', layout=Layout(flex='2'), max=1125.0, style=Pro…"
      ]
     },
     "metadata": {},
     "output_type": "display_data"
    },
    {
     "name": "stdout",
     "output_type": "stream",
     "text": [
      "Epoch 733: train=2.09256, val=2.14279, took 43.758 s\n",
      "  Validation Found 9052 of 10819, added 995 (eff 83.67%) (0.497 FP/event)\n"
     ]
    },
    {
     "data": {
      "application/vnd.jupyter.widget-view+json": {
       "model_id": "",
       "version_major": 2,
       "version_minor": 0
      },
      "text/plain": [
       "HBox(children=(FloatProgress(value=0.0, description='Training', layout=Layout(flex='2'), max=1125.0, style=Pro…"
      ]
     },
     "metadata": {},
     "output_type": "display_data"
    },
    {
     "name": "stdout",
     "output_type": "stream",
     "text": [
      "Epoch 734: train=2.09189, val=2.13905, took 43.913 s\n",
      "  Validation Found 9044 of 10819, added 991 (eff 83.59%) (0.495 FP/event)\n"
     ]
    },
    {
     "data": {
      "application/vnd.jupyter.widget-view+json": {
       "model_id": "",
       "version_major": 2,
       "version_minor": 0
      },
      "text/plain": [
       "HBox(children=(FloatProgress(value=0.0, description='Training', layout=Layout(flex='2'), max=1125.0, style=Pro…"
      ]
     },
     "metadata": {},
     "output_type": "display_data"
    },
    {
     "name": "stdout",
     "output_type": "stream",
     "text": [
      "Epoch 735: train=2.09004, val=2.13972, took 43.644 s\n",
      "  Validation Found 9047 of 10819, added 982 (eff 83.62%) (0.491 FP/event)\n"
     ]
    },
    {
     "data": {
      "application/vnd.jupyter.widget-view+json": {
       "model_id": "",
       "version_major": 2,
       "version_minor": 0
      },
      "text/plain": [
       "HBox(children=(FloatProgress(value=0.0, description='Training', layout=Layout(flex='2'), max=1125.0, style=Pro…"
      ]
     },
     "metadata": {},
     "output_type": "display_data"
    },
    {
     "name": "stdout",
     "output_type": "stream",
     "text": [
      "Epoch 736: train=2.08827, val=2.13842, took 43.797 s\n",
      "  Validation Found 9044 of 10819, added 981 (eff 83.59%) (0.49 FP/event)\n"
     ]
    },
    {
     "data": {
      "application/vnd.jupyter.widget-view+json": {
       "model_id": "",
       "version_major": 2,
       "version_minor": 0
      },
      "text/plain": [
       "HBox(children=(FloatProgress(value=0.0, description='Training', layout=Layout(flex='2'), max=1125.0, style=Pro…"
      ]
     },
     "metadata": {},
     "output_type": "display_data"
    },
    {
     "name": "stdout",
     "output_type": "stream",
     "text": [
      "Epoch 737: train=2.09282, val=2.14355, took 44.024 s\n",
      "  Validation Found 9039 of 10819, added 996 (eff 83.55%) (0.498 FP/event)\n"
     ]
    },
    {
     "data": {
      "application/vnd.jupyter.widget-view+json": {
       "model_id": "",
       "version_major": 2,
       "version_minor": 0
      },
      "text/plain": [
       "HBox(children=(FloatProgress(value=0.0, description='Training', layout=Layout(flex='2'), max=1125.0, style=Pro…"
      ]
     },
     "metadata": {},
     "output_type": "display_data"
    },
    {
     "name": "stdout",
     "output_type": "stream",
     "text": [
      "Epoch 738: train=2.09058, val=2.13904, took 43.88 s\n",
      "  Validation Found 9041 of 10819, added 993 (eff 83.57%) (0.496 FP/event)\n"
     ]
    },
    {
     "data": {
      "application/vnd.jupyter.widget-view+json": {
       "model_id": "",
       "version_major": 2,
       "version_minor": 0
      },
      "text/plain": [
       "HBox(children=(FloatProgress(value=0.0, description='Training', layout=Layout(flex='2'), max=1125.0, style=Pro…"
      ]
     },
     "metadata": {},
     "output_type": "display_data"
    },
    {
     "name": "stdout",
     "output_type": "stream",
     "text": [
      "Epoch 739: train=2.09576, val=2.1396, took 43.593 s\n",
      "  Validation Found 9044 of 10819, added 992 (eff 83.59%) (0.496 FP/event)\n"
     ]
    },
    {
     "data": {
      "application/vnd.jupyter.widget-view+json": {
       "model_id": "",
       "version_major": 2,
       "version_minor": 0
      },
      "text/plain": [
       "HBox(children=(FloatProgress(value=0.0, description='Training', layout=Layout(flex='2'), max=1125.0, style=Pro…"
      ]
     },
     "metadata": {},
     "output_type": "display_data"
    },
    {
     "name": "stdout",
     "output_type": "stream",
     "text": [
      "Epoch 740: train=2.08638, val=2.14425, took 44.14 s\n",
      "  Validation Found 9046 of 10819, added 990 (eff 83.61%) (0.495 FP/event)\n"
     ]
    },
    {
     "data": {
      "application/vnd.jupyter.widget-view+json": {
       "model_id": "",
       "version_major": 2,
       "version_minor": 0
      },
      "text/plain": [
       "HBox(children=(FloatProgress(value=0.0, description='Training', layout=Layout(flex='2'), max=1125.0, style=Pro…"
      ]
     },
     "metadata": {},
     "output_type": "display_data"
    },
    {
     "name": "stdout",
     "output_type": "stream",
     "text": [
      "Epoch 741: train=2.08896, val=2.14077, took 43.873 s\n",
      "  Validation Found 9053 of 10819, added 992 (eff 83.68%) (0.496 FP/event)\n"
     ]
    },
    {
     "data": {
      "application/vnd.jupyter.widget-view+json": {
       "model_id": "",
       "version_major": 2,
       "version_minor": 0
      },
      "text/plain": [
       "HBox(children=(FloatProgress(value=0.0, description='Training', layout=Layout(flex='2'), max=1125.0, style=Pro…"
      ]
     },
     "metadata": {},
     "output_type": "display_data"
    },
    {
     "name": "stdout",
     "output_type": "stream",
     "text": [
      "Epoch 742: train=2.09215, val=2.14129, took 43.597 s\n",
      "  Validation Found 9048 of 10819, added 989 (eff 83.63%) (0.494 FP/event)\n"
     ]
    },
    {
     "data": {
      "application/vnd.jupyter.widget-view+json": {
       "model_id": "",
       "version_major": 2,
       "version_minor": 0
      },
      "text/plain": [
       "HBox(children=(FloatProgress(value=0.0, description='Training', layout=Layout(flex='2'), max=1125.0, style=Pro…"
      ]
     },
     "metadata": {},
     "output_type": "display_data"
    },
    {
     "name": "stdout",
     "output_type": "stream",
     "text": [
      "Epoch 743: train=2.08725, val=2.13961, took 43.908 s\n",
      "  Validation Found 9046 of 10819, added 988 (eff 83.61%) (0.494 FP/event)\n"
     ]
    },
    {
     "data": {
      "application/vnd.jupyter.widget-view+json": {
       "model_id": "",
       "version_major": 2,
       "version_minor": 0
      },
      "text/plain": [
       "HBox(children=(FloatProgress(value=0.0, description='Training', layout=Layout(flex='2'), max=1125.0, style=Pro…"
      ]
     },
     "metadata": {},
     "output_type": "display_data"
    },
    {
     "name": "stdout",
     "output_type": "stream",
     "text": [
      "Epoch 744: train=2.09144, val=2.1393, took 43.862 s\n",
      "  Validation Found 9046 of 10819, added 997 (eff 83.61%) (0.498 FP/event)\n"
     ]
    },
    {
     "data": {
      "application/vnd.jupyter.widget-view+json": {
       "model_id": "",
       "version_major": 2,
       "version_minor": 0
      },
      "text/plain": [
       "HBox(children=(FloatProgress(value=0.0, description='Training', layout=Layout(flex='2'), max=1125.0, style=Pro…"
      ]
     },
     "metadata": {},
     "output_type": "display_data"
    },
    {
     "name": "stdout",
     "output_type": "stream",
     "text": [
      "Epoch 745: train=2.09168, val=2.14276, took 43.725 s\n",
      "  Validation Found 9045 of 10819, added 992 (eff 83.60%) (0.496 FP/event)\n"
     ]
    },
    {
     "data": {
      "application/vnd.jupyter.widget-view+json": {
       "model_id": "",
       "version_major": 2,
       "version_minor": 0
      },
      "text/plain": [
       "HBox(children=(FloatProgress(value=0.0, description='Training', layout=Layout(flex='2'), max=1125.0, style=Pro…"
      ]
     },
     "metadata": {},
     "output_type": "display_data"
    },
    {
     "name": "stdout",
     "output_type": "stream",
     "text": [
      "Epoch 746: train=2.08929, val=2.14846, took 43.864 s\n",
      "  Validation Found 9034 of 10819, added 990 (eff 83.50%) (0.495 FP/event)\n"
     ]
    },
    {
     "data": {
      "application/vnd.jupyter.widget-view+json": {
       "model_id": "",
       "version_major": 2,
       "version_minor": 0
      },
      "text/plain": [
       "HBox(children=(FloatProgress(value=0.0, description='Training', layout=Layout(flex='2'), max=1125.0, style=Pro…"
      ]
     },
     "metadata": {},
     "output_type": "display_data"
    },
    {
     "name": "stdout",
     "output_type": "stream",
     "text": [
      "Epoch 747: train=2.08922, val=2.13983, took 44.342 s\n",
      "  Validation Found 9048 of 10819, added 988 (eff 83.63%) (0.494 FP/event)\n"
     ]
    },
    {
     "data": {
      "application/vnd.jupyter.widget-view+json": {
       "model_id": "",
       "version_major": 2,
       "version_minor": 0
      },
      "text/plain": [
       "HBox(children=(FloatProgress(value=0.0, description='Training', layout=Layout(flex='2'), max=1125.0, style=Pro…"
      ]
     },
     "metadata": {},
     "output_type": "display_data"
    },
    {
     "name": "stdout",
     "output_type": "stream",
     "text": [
      "Epoch 748: train=2.08583, val=2.1436, took 43.974 s\n",
      "  Validation Found 9040 of 10819, added 984 (eff 83.56%) (0.492 FP/event)\n"
     ]
    },
    {
     "data": {
      "application/vnd.jupyter.widget-view+json": {
       "model_id": "",
       "version_major": 2,
       "version_minor": 0
      },
      "text/plain": [
       "HBox(children=(FloatProgress(value=0.0, description='Training', layout=Layout(flex='2'), max=1125.0, style=Pro…"
      ]
     },
     "metadata": {},
     "output_type": "display_data"
    },
    {
     "name": "stdout",
     "output_type": "stream",
     "text": [
      "Epoch 749: train=2.08456, val=2.14188, took 44.112 s\n",
      "  Validation Found 9041 of 10819, added 986 (eff 83.57%) (0.493 FP/event)\n"
     ]
    },
    {
     "data": {
      "application/vnd.jupyter.widget-view+json": {
       "model_id": "",
       "version_major": 2,
       "version_minor": 0
      },
      "text/plain": [
       "HBox(children=(FloatProgress(value=0.0, description='Training', layout=Layout(flex='2'), max=1125.0, style=Pro…"
      ]
     },
     "metadata": {},
     "output_type": "display_data"
    },
    {
     "name": "stdout",
     "output_type": "stream",
     "text": [
      "Epoch 750: train=2.08985, val=2.13968, took 43.666 s\n",
      "  Validation Found 9039 of 10819, added 987 (eff 83.55%) (0.493 FP/event)\n"
     ]
    },
    {
     "data": {
      "application/vnd.jupyter.widget-view+json": {
       "model_id": "",
       "version_major": 2,
       "version_minor": 0
      },
      "text/plain": [
       "HBox(children=(FloatProgress(value=0.0, description='Training', layout=Layout(flex='2'), max=1125.0, style=Pro…"
      ]
     },
     "metadata": {},
     "output_type": "display_data"
    },
    {
     "name": "stdout",
     "output_type": "stream",
     "text": [
      "Epoch 751: train=2.09069, val=2.14323, took 44.186 s\n",
      "  Validation Found 9047 of 10819, added 987 (eff 83.62%) (0.493 FP/event)\n"
     ]
    },
    {
     "data": {
      "application/vnd.jupyter.widget-view+json": {
       "model_id": "",
       "version_major": 2,
       "version_minor": 0
      },
      "text/plain": [
       "HBox(children=(FloatProgress(value=0.0, description='Training', layout=Layout(flex='2'), max=1125.0, style=Pro…"
      ]
     },
     "metadata": {},
     "output_type": "display_data"
    },
    {
     "name": "stdout",
     "output_type": "stream",
     "text": [
      "Epoch 752: train=2.09292, val=2.13829, took 43.789 s\n",
      "  Validation Found 9046 of 10819, added 985 (eff 83.61%) (0.492 FP/event)\n"
     ]
    },
    {
     "data": {
      "application/vnd.jupyter.widget-view+json": {
       "model_id": "",
       "version_major": 2,
       "version_minor": 0
      },
      "text/plain": [
       "HBox(children=(FloatProgress(value=0.0, description='Training', layout=Layout(flex='2'), max=1125.0, style=Pro…"
      ]
     },
     "metadata": {},
     "output_type": "display_data"
    },
    {
     "name": "stdout",
     "output_type": "stream",
     "text": [
      "Epoch 753: train=2.08879, val=2.14009, took 43.776 s\n",
      "  Validation Found 9042 of 10819, added 988 (eff 83.58%) (0.494 FP/event)\n"
     ]
    },
    {
     "data": {
      "application/vnd.jupyter.widget-view+json": {
       "model_id": "",
       "version_major": 2,
       "version_minor": 0
      },
      "text/plain": [
       "HBox(children=(FloatProgress(value=0.0, description='Training', layout=Layout(flex='2'), max=1125.0, style=Pro…"
      ]
     },
     "metadata": {},
     "output_type": "display_data"
    },
    {
     "name": "stdout",
     "output_type": "stream",
     "text": [
      "Epoch 754: train=2.09015, val=2.13948, took 43.757 s\n",
      "  Validation Found 9044 of 10819, added 988 (eff 83.59%) (0.494 FP/event)\n"
     ]
    },
    {
     "data": {
      "application/vnd.jupyter.widget-view+json": {
       "model_id": "",
       "version_major": 2,
       "version_minor": 0
      },
      "text/plain": [
       "HBox(children=(FloatProgress(value=0.0, description='Training', layout=Layout(flex='2'), max=1125.0, style=Pro…"
      ]
     },
     "metadata": {},
     "output_type": "display_data"
    },
    {
     "name": "stdout",
     "output_type": "stream",
     "text": [
      "Epoch 755: train=2.08827, val=2.14003, took 43.598 s\n",
      "  Validation Found 9041 of 10819, added 988 (eff 83.57%) (0.494 FP/event)\n"
     ]
    },
    {
     "data": {
      "application/vnd.jupyter.widget-view+json": {
       "model_id": "",
       "version_major": 2,
       "version_minor": 0
      },
      "text/plain": [
       "HBox(children=(FloatProgress(value=0.0, description='Training', layout=Layout(flex='2'), max=1125.0, style=Pro…"
      ]
     },
     "metadata": {},
     "output_type": "display_data"
    },
    {
     "name": "stdout",
     "output_type": "stream",
     "text": [
      "Epoch 756: train=2.08894, val=2.14065, took 43.727 s\n",
      "  Validation Found 9039 of 10819, added 985 (eff 83.55%) (0.492 FP/event)\n"
     ]
    },
    {
     "data": {
      "application/vnd.jupyter.widget-view+json": {
       "model_id": "",
       "version_major": 2,
       "version_minor": 0
      },
      "text/plain": [
       "HBox(children=(FloatProgress(value=0.0, description='Training', layout=Layout(flex='2'), max=1125.0, style=Pro…"
      ]
     },
     "metadata": {},
     "output_type": "display_data"
    },
    {
     "name": "stdout",
     "output_type": "stream",
     "text": [
      "Epoch 757: train=2.08622, val=2.14126, took 43.809 s\n",
      "  Validation Found 9046 of 10819, added 985 (eff 83.61%) (0.492 FP/event)\n"
     ]
    },
    {
     "data": {
      "application/vnd.jupyter.widget-view+json": {
       "model_id": "",
       "version_major": 2,
       "version_minor": 0
      },
      "text/plain": [
       "HBox(children=(FloatProgress(value=0.0, description='Training', layout=Layout(flex='2'), max=1125.0, style=Pro…"
      ]
     },
     "metadata": {},
     "output_type": "display_data"
    },
    {
     "name": "stdout",
     "output_type": "stream",
     "text": [
      "Epoch 758: train=2.08768, val=2.1404, took 43.767 s\n",
      "  Validation Found 9055 of 10819, added 984 (eff 83.70%) (0.492 FP/event)\n"
     ]
    },
    {
     "data": {
      "application/vnd.jupyter.widget-view+json": {
       "model_id": "",
       "version_major": 2,
       "version_minor": 0
      },
      "text/plain": [
       "HBox(children=(FloatProgress(value=0.0, description='Training', layout=Layout(flex='2'), max=1125.0, style=Pro…"
      ]
     },
     "metadata": {},
     "output_type": "display_data"
    },
    {
     "name": "stdout",
     "output_type": "stream",
     "text": [
      "Epoch 759: train=2.08711, val=2.14185, took 43.903 s\n",
      "  Validation Found 9045 of 10819, added 992 (eff 83.60%) (0.496 FP/event)\n"
     ]
    },
    {
     "data": {
      "application/vnd.jupyter.widget-view+json": {
       "model_id": "",
       "version_major": 2,
       "version_minor": 0
      },
      "text/plain": [
       "HBox(children=(FloatProgress(value=0.0, description='Training', layout=Layout(flex='2'), max=1125.0, style=Pro…"
      ]
     },
     "metadata": {},
     "output_type": "display_data"
    },
    {
     "name": "stdout",
     "output_type": "stream",
     "text": [
      "Epoch 760: train=2.0887, val=2.13894, took 43.744 s\n",
      "  Validation Found 9040 of 10819, added 992 (eff 83.56%) (0.496 FP/event)\n"
     ]
    },
    {
     "data": {
      "application/vnd.jupyter.widget-view+json": {
       "model_id": "",
       "version_major": 2,
       "version_minor": 0
      },
      "text/plain": [
       "HBox(children=(FloatProgress(value=0.0, description='Training', layout=Layout(flex='2'), max=1125.0, style=Pro…"
      ]
     },
     "metadata": {},
     "output_type": "display_data"
    },
    {
     "name": "stdout",
     "output_type": "stream",
     "text": [
      "Epoch 761: train=2.08918, val=2.13906, took 43.77 s\n",
      "  Validation Found 9047 of 10819, added 993 (eff 83.62%) (0.496 FP/event)\n"
     ]
    },
    {
     "data": {
      "application/vnd.jupyter.widget-view+json": {
       "model_id": "",
       "version_major": 2,
       "version_minor": 0
      },
      "text/plain": [
       "HBox(children=(FloatProgress(value=0.0, description='Training', layout=Layout(flex='2'), max=1125.0, style=Pro…"
      ]
     },
     "metadata": {},
     "output_type": "display_data"
    },
    {
     "name": "stdout",
     "output_type": "stream",
     "text": [
      "Epoch 762: train=2.08658, val=2.14322, took 44.164 s\n",
      "  Validation Found 9033 of 10819, added 995 (eff 83.49%) (0.497 FP/event)\n"
     ]
    },
    {
     "data": {
      "application/vnd.jupyter.widget-view+json": {
       "model_id": "",
       "version_major": 2,
       "version_minor": 0
      },
      "text/plain": [
       "HBox(children=(FloatProgress(value=0.0, description='Training', layout=Layout(flex='2'), max=1125.0, style=Pro…"
      ]
     },
     "metadata": {},
     "output_type": "display_data"
    },
    {
     "name": "stdout",
     "output_type": "stream",
     "text": [
      "Epoch 763: train=2.08493, val=2.14204, took 43.789 s\n",
      "  Validation Found 9045 of 10819, added 991 (eff 83.60%) (0.495 FP/event)\n"
     ]
    },
    {
     "data": {
      "application/vnd.jupyter.widget-view+json": {
       "model_id": "",
       "version_major": 2,
       "version_minor": 0
      },
      "text/plain": [
       "HBox(children=(FloatProgress(value=0.0, description='Training', layout=Layout(flex='2'), max=1125.0, style=Pro…"
      ]
     },
     "metadata": {},
     "output_type": "display_data"
    },
    {
     "name": "stdout",
     "output_type": "stream",
     "text": [
      "Epoch 764: train=2.08528, val=2.13818, took 43.797 s\n",
      "  Validation Found 9053 of 10819, added 990 (eff 83.68%) (0.495 FP/event)\n"
     ]
    },
    {
     "data": {
      "application/vnd.jupyter.widget-view+json": {
       "model_id": "",
       "version_major": 2,
       "version_minor": 0
      },
      "text/plain": [
       "HBox(children=(FloatProgress(value=0.0, description='Training', layout=Layout(flex='2'), max=1125.0, style=Pro…"
      ]
     },
     "metadata": {},
     "output_type": "display_data"
    },
    {
     "name": "stdout",
     "output_type": "stream",
     "text": [
      "Epoch 765: train=2.08365, val=2.14567, took 43.8 s\n",
      "  Validation Found 9044 of 10819, added 985 (eff 83.59%) (0.492 FP/event)\n"
     ]
    },
    {
     "data": {
      "application/vnd.jupyter.widget-view+json": {
       "model_id": "",
       "version_major": 2,
       "version_minor": 0
      },
      "text/plain": [
       "HBox(children=(FloatProgress(value=0.0, description='Training', layout=Layout(flex='2'), max=1125.0, style=Pro…"
      ]
     },
     "metadata": {},
     "output_type": "display_data"
    },
    {
     "name": "stdout",
     "output_type": "stream",
     "text": [
      "Epoch 766: train=2.08617, val=2.14446, took 43.696 s\n",
      "  Validation Found 9045 of 10819, added 986 (eff 83.60%) (0.493 FP/event)\n"
     ]
    },
    {
     "data": {
      "application/vnd.jupyter.widget-view+json": {
       "model_id": "",
       "version_major": 2,
       "version_minor": 0
      },
      "text/plain": [
       "HBox(children=(FloatProgress(value=0.0, description='Training', layout=Layout(flex='2'), max=1125.0, style=Pro…"
      ]
     },
     "metadata": {},
     "output_type": "display_data"
    },
    {
     "name": "stdout",
     "output_type": "stream",
     "text": [
      "Epoch 767: train=2.08649, val=2.14666, took 43.869 s\n",
      "  Validation Found 9031 of 10819, added 986 (eff 83.47%) (0.493 FP/event)\n"
     ]
    },
    {
     "data": {
      "application/vnd.jupyter.widget-view+json": {
       "model_id": "",
       "version_major": 2,
       "version_minor": 0
      },
      "text/plain": [
       "HBox(children=(FloatProgress(value=0.0, description='Training', layout=Layout(flex='2'), max=1125.0, style=Pro…"
      ]
     },
     "metadata": {},
     "output_type": "display_data"
    },
    {
     "name": "stdout",
     "output_type": "stream",
     "text": [
      "Epoch 768: train=2.08857, val=2.14039, took 43.853 s\n",
      "  Validation Found 9042 of 10819, added 991 (eff 83.58%) (0.495 FP/event)\n"
     ]
    },
    {
     "data": {
      "application/vnd.jupyter.widget-view+json": {
       "model_id": "",
       "version_major": 2,
       "version_minor": 0
      },
      "text/plain": [
       "HBox(children=(FloatProgress(value=0.0, description='Training', layout=Layout(flex='2'), max=1125.0, style=Pro…"
      ]
     },
     "metadata": {},
     "output_type": "display_data"
    },
    {
     "name": "stdout",
     "output_type": "stream",
     "text": [
      "Epoch 769: train=2.08794, val=2.13859, took 43.882 s\n",
      "  Validation Found 9055 of 10819, added 991 (eff 83.70%) (0.495 FP/event)\n"
     ]
    },
    {
     "data": {
      "application/vnd.jupyter.widget-view+json": {
       "model_id": "",
       "version_major": 2,
       "version_minor": 0
      },
      "text/plain": [
       "HBox(children=(FloatProgress(value=0.0, description='Training', layout=Layout(flex='2'), max=1125.0, style=Pro…"
      ]
     },
     "metadata": {},
     "output_type": "display_data"
    },
    {
     "name": "stdout",
     "output_type": "stream",
     "text": [
      "Epoch 770: train=2.08382, val=2.14635, took 43.768 s\n",
      "  Validation Found 9038 of 10819, added 984 (eff 83.54%) (0.492 FP/event)\n"
     ]
    },
    {
     "data": {
      "application/vnd.jupyter.widget-view+json": {
       "model_id": "",
       "version_major": 2,
       "version_minor": 0
      },
      "text/plain": [
       "HBox(children=(FloatProgress(value=0.0, description='Training', layout=Layout(flex='2'), max=1125.0, style=Pro…"
      ]
     },
     "metadata": {},
     "output_type": "display_data"
    },
    {
     "name": "stdout",
     "output_type": "stream",
     "text": [
      "Epoch 771: train=2.09015, val=2.1406, took 43.649 s\n",
      "  Validation Found 9052 of 10819, added 987 (eff 83.67%) (0.493 FP/event)\n"
     ]
    },
    {
     "data": {
      "application/vnd.jupyter.widget-view+json": {
       "model_id": "",
       "version_major": 2,
       "version_minor": 0
      },
      "text/plain": [
       "HBox(children=(FloatProgress(value=0.0, description='Training', layout=Layout(flex='2'), max=1125.0, style=Pro…"
      ]
     },
     "metadata": {},
     "output_type": "display_data"
    },
    {
     "name": "stdout",
     "output_type": "stream",
     "text": [
      "Epoch 772: train=2.08579, val=2.13897, took 43.602 s\n",
      "  Validation Found 9055 of 10819, added 985 (eff 83.70%) (0.492 FP/event)\n"
     ]
    },
    {
     "data": {
      "application/vnd.jupyter.widget-view+json": {
       "model_id": "",
       "version_major": 2,
       "version_minor": 0
      },
      "text/plain": [
       "HBox(children=(FloatProgress(value=0.0, description='Training', layout=Layout(flex='2'), max=1125.0, style=Pro…"
      ]
     },
     "metadata": {},
     "output_type": "display_data"
    },
    {
     "name": "stdout",
     "output_type": "stream",
     "text": [
      "Epoch 773: train=2.08811, val=2.1407, took 43.783 s\n",
      "  Validation Found 9052 of 10819, added 990 (eff 83.67%) (0.495 FP/event)\n"
     ]
    },
    {
     "data": {
      "application/vnd.jupyter.widget-view+json": {
       "model_id": "",
       "version_major": 2,
       "version_minor": 0
      },
      "text/plain": [
       "HBox(children=(FloatProgress(value=0.0, description='Training', layout=Layout(flex='2'), max=1125.0, style=Pro…"
      ]
     },
     "metadata": {},
     "output_type": "display_data"
    },
    {
     "name": "stdout",
     "output_type": "stream",
     "text": [
      "Epoch 774: train=2.08744, val=2.13948, took 44.135 s\n",
      "  Validation Found 9052 of 10819, added 987 (eff 83.67%) (0.493 FP/event)\n"
     ]
    },
    {
     "data": {
      "application/vnd.jupyter.widget-view+json": {
       "model_id": "",
       "version_major": 2,
       "version_minor": 0
      },
      "text/plain": [
       "HBox(children=(FloatProgress(value=0.0, description='Training', layout=Layout(flex='2'), max=1125.0, style=Pro…"
      ]
     },
     "metadata": {},
     "output_type": "display_data"
    },
    {
     "name": "stdout",
     "output_type": "stream",
     "text": [
      "Epoch 775: train=2.08607, val=2.1393, took 43.825 s\n",
      "  Validation Found 9052 of 10819, added 987 (eff 83.67%) (0.493 FP/event)\n"
     ]
    },
    {
     "data": {
      "application/vnd.jupyter.widget-view+json": {
       "model_id": "",
       "version_major": 2,
       "version_minor": 0
      },
      "text/plain": [
       "HBox(children=(FloatProgress(value=0.0, description='Training', layout=Layout(flex='2'), max=1125.0, style=Pro…"
      ]
     },
     "metadata": {},
     "output_type": "display_data"
    },
    {
     "name": "stdout",
     "output_type": "stream",
     "text": [
      "Epoch 776: train=2.08607, val=2.13952, took 43.694 s\n",
      "  Validation Found 9045 of 10819, added 985 (eff 83.60%) (0.492 FP/event)\n"
     ]
    },
    {
     "data": {
      "application/vnd.jupyter.widget-view+json": {
       "model_id": "",
       "version_major": 2,
       "version_minor": 0
      },
      "text/plain": [
       "HBox(children=(FloatProgress(value=0.0, description='Training', layout=Layout(flex='2'), max=1125.0, style=Pro…"
      ]
     },
     "metadata": {},
     "output_type": "display_data"
    },
    {
     "name": "stdout",
     "output_type": "stream",
     "text": [
      "Epoch 777: train=2.08539, val=2.14294, took 44.058 s\n",
      "  Validation Found 9033 of 10819, added 989 (eff 83.49%) (0.494 FP/event)\n"
     ]
    },
    {
     "data": {
      "application/vnd.jupyter.widget-view+json": {
       "model_id": "",
       "version_major": 2,
       "version_minor": 0
      },
      "text/plain": [
       "HBox(children=(FloatProgress(value=0.0, description='Training', layout=Layout(flex='2'), max=1125.0, style=Pro…"
      ]
     },
     "metadata": {},
     "output_type": "display_data"
    },
    {
     "name": "stdout",
     "output_type": "stream",
     "text": [
      "Epoch 778: train=2.08037, val=2.14112, took 44.102 s\n",
      "  Validation Found 9040 of 10819, added 990 (eff 83.56%) (0.495 FP/event)\n"
     ]
    },
    {
     "data": {
      "application/vnd.jupyter.widget-view+json": {
       "model_id": "",
       "version_major": 2,
       "version_minor": 0
      },
      "text/plain": [
       "HBox(children=(FloatProgress(value=0.0, description='Training', layout=Layout(flex='2'), max=1125.0, style=Pro…"
      ]
     },
     "metadata": {},
     "output_type": "display_data"
    },
    {
     "name": "stdout",
     "output_type": "stream",
     "text": [
      "Epoch 779: train=2.08828, val=2.13883, took 43.796 s\n",
      "  Validation Found 9048 of 10819, added 981 (eff 83.63%) (0.49 FP/event)\n"
     ]
    },
    {
     "data": {
      "application/vnd.jupyter.widget-view+json": {
       "model_id": "",
       "version_major": 2,
       "version_minor": 0
      },
      "text/plain": [
       "HBox(children=(FloatProgress(value=0.0, description='Training', layout=Layout(flex='2'), max=1125.0, style=Pro…"
      ]
     },
     "metadata": {},
     "output_type": "display_data"
    },
    {
     "name": "stdout",
     "output_type": "stream",
     "text": [
      "Epoch 780: train=2.08735, val=2.13864, took 43.861 s\n",
      "  Validation Found 9053 of 10819, added 980 (eff 83.68%) (0.49 FP/event)\n"
     ]
    },
    {
     "data": {
      "application/vnd.jupyter.widget-view+json": {
       "model_id": "",
       "version_major": 2,
       "version_minor": 0
      },
      "text/plain": [
       "HBox(children=(FloatProgress(value=0.0, description='Training', layout=Layout(flex='2'), max=1125.0, style=Pro…"
      ]
     },
     "metadata": {},
     "output_type": "display_data"
    },
    {
     "name": "stdout",
     "output_type": "stream",
     "text": [
      "Epoch 781: train=2.08285, val=2.13876, took 43.767 s\n",
      "  Validation Found 9044 of 10819, added 982 (eff 83.59%) (0.491 FP/event)\n"
     ]
    },
    {
     "data": {
      "application/vnd.jupyter.widget-view+json": {
       "model_id": "",
       "version_major": 2,
       "version_minor": 0
      },
      "text/plain": [
       "HBox(children=(FloatProgress(value=0.0, description='Training', layout=Layout(flex='2'), max=1125.0, style=Pro…"
      ]
     },
     "metadata": {},
     "output_type": "display_data"
    },
    {
     "name": "stdout",
     "output_type": "stream",
     "text": [
      "Epoch 782: train=2.08522, val=2.14099, took 44.085 s\n",
      "  Validation Found 9058 of 10819, added 985 (eff 83.72%) (0.492 FP/event)\n"
     ]
    },
    {
     "data": {
      "application/vnd.jupyter.widget-view+json": {
       "model_id": "",
       "version_major": 2,
       "version_minor": 0
      },
      "text/plain": [
       "HBox(children=(FloatProgress(value=0.0, description='Training', layout=Layout(flex='2'), max=1125.0, style=Pro…"
      ]
     },
     "metadata": {},
     "output_type": "display_data"
    },
    {
     "name": "stdout",
     "output_type": "stream",
     "text": [
      "Epoch 783: train=2.08893, val=2.14067, took 43.814 s\n",
      "  Validation Found 9044 of 10819, added 986 (eff 83.59%) (0.493 FP/event)\n"
     ]
    },
    {
     "data": {
      "application/vnd.jupyter.widget-view+json": {
       "model_id": "",
       "version_major": 2,
       "version_minor": 0
      },
      "text/plain": [
       "HBox(children=(FloatProgress(value=0.0, description='Training', layout=Layout(flex='2'), max=1125.0, style=Pro…"
      ]
     },
     "metadata": {},
     "output_type": "display_data"
    },
    {
     "name": "stdout",
     "output_type": "stream",
     "text": [
      "Epoch 784: train=2.07978, val=2.13935, took 43.828 s\n",
      "  Validation Found 9041 of 10819, added 987 (eff 83.57%) (0.493 FP/event)\n"
     ]
    },
    {
     "data": {
      "application/vnd.jupyter.widget-view+json": {
       "model_id": "",
       "version_major": 2,
       "version_minor": 0
      },
      "text/plain": [
       "HBox(children=(FloatProgress(value=0.0, description='Training', layout=Layout(flex='2'), max=1125.0, style=Pro…"
      ]
     },
     "metadata": {},
     "output_type": "display_data"
    },
    {
     "name": "stdout",
     "output_type": "stream",
     "text": [
      "Epoch 785: train=2.08333, val=2.13981, took 43.741 s\n",
      "  Validation Found 9041 of 10819, added 985 (eff 83.57%) (0.492 FP/event)\n"
     ]
    },
    {
     "data": {
      "application/vnd.jupyter.widget-view+json": {
       "model_id": "",
       "version_major": 2,
       "version_minor": 0
      },
      "text/plain": [
       "HBox(children=(FloatProgress(value=0.0, description='Training', layout=Layout(flex='2'), max=1125.0, style=Pro…"
      ]
     },
     "metadata": {},
     "output_type": "display_data"
    },
    {
     "name": "stdout",
     "output_type": "stream",
     "text": [
      "Epoch 786: train=2.08183, val=2.13896, took 43.638 s\n",
      "  Validation Found 9055 of 10819, added 990 (eff 83.70%) (0.495 FP/event)\n"
     ]
    },
    {
     "data": {
      "application/vnd.jupyter.widget-view+json": {
       "model_id": "",
       "version_major": 2,
       "version_minor": 0
      },
      "text/plain": [
       "HBox(children=(FloatProgress(value=0.0, description='Training', layout=Layout(flex='2'), max=1125.0, style=Pro…"
      ]
     },
     "metadata": {},
     "output_type": "display_data"
    },
    {
     "name": "stdout",
     "output_type": "stream",
     "text": [
      "Epoch 787: train=2.08574, val=2.1393, took 44.209 s\n",
      "  Validation Found 9045 of 10819, added 986 (eff 83.60%) (0.493 FP/event)\n"
     ]
    },
    {
     "data": {
      "application/vnd.jupyter.widget-view+json": {
       "model_id": "",
       "version_major": 2,
       "version_minor": 0
      },
      "text/plain": [
       "HBox(children=(FloatProgress(value=0.0, description='Training', layout=Layout(flex='2'), max=1125.0, style=Pro…"
      ]
     },
     "metadata": {},
     "output_type": "display_data"
    },
    {
     "name": "stdout",
     "output_type": "stream",
     "text": [
      "Epoch 788: train=2.08143, val=2.13989, took 43.683 s\n",
      "  Validation Found 9058 of 10819, added 983 (eff 83.72%) (0.491 FP/event)\n"
     ]
    },
    {
     "data": {
      "application/vnd.jupyter.widget-view+json": {
       "model_id": "",
       "version_major": 2,
       "version_minor": 0
      },
      "text/plain": [
       "HBox(children=(FloatProgress(value=0.0, description='Training', layout=Layout(flex='2'), max=1125.0, style=Pro…"
      ]
     },
     "metadata": {},
     "output_type": "display_data"
    },
    {
     "name": "stdout",
     "output_type": "stream",
     "text": [
      "Epoch 789: train=2.08113, val=2.14101, took 43.789 s\n",
      "  Validation Found 9036 of 10819, added 990 (eff 83.52%) (0.495 FP/event)\n"
     ]
    },
    {
     "data": {
      "application/vnd.jupyter.widget-view+json": {
       "model_id": "",
       "version_major": 2,
       "version_minor": 0
      },
      "text/plain": [
       "HBox(children=(FloatProgress(value=0.0, description='Training', layout=Layout(flex='2'), max=1125.0, style=Pro…"
      ]
     },
     "metadata": {},
     "output_type": "display_data"
    },
    {
     "name": "stdout",
     "output_type": "stream",
     "text": [
      "Epoch 790: train=2.085, val=2.13937, took 43.688 s\n",
      "  Validation Found 9043 of 10819, added 997 (eff 83.58%) (0.498 FP/event)\n"
     ]
    },
    {
     "data": {
      "application/vnd.jupyter.widget-view+json": {
       "model_id": "",
       "version_major": 2,
       "version_minor": 0
      },
      "text/plain": [
       "HBox(children=(FloatProgress(value=0.0, description='Training', layout=Layout(flex='2'), max=1125.0, style=Pro…"
      ]
     },
     "metadata": {},
     "output_type": "display_data"
    },
    {
     "name": "stdout",
     "output_type": "stream",
     "text": [
      "Epoch 791: train=2.08047, val=2.14305, took 43.997 s\n",
      "  Validation Found 9044 of 10819, added 990 (eff 83.59%) (0.495 FP/event)\n"
     ]
    },
    {
     "data": {
      "application/vnd.jupyter.widget-view+json": {
       "model_id": "",
       "version_major": 2,
       "version_minor": 0
      },
      "text/plain": [
       "HBox(children=(FloatProgress(value=0.0, description='Training', layout=Layout(flex='2'), max=1125.0, style=Pro…"
      ]
     },
     "metadata": {},
     "output_type": "display_data"
    },
    {
     "name": "stdout",
     "output_type": "stream",
     "text": [
      "Epoch 792: train=2.08287, val=2.1389, took 43.802 s\n",
      "  Validation Found 9047 of 10819, added 986 (eff 83.62%) (0.493 FP/event)\n"
     ]
    },
    {
     "data": {
      "application/vnd.jupyter.widget-view+json": {
       "model_id": "",
       "version_major": 2,
       "version_minor": 0
      },
      "text/plain": [
       "HBox(children=(FloatProgress(value=0.0, description='Training', layout=Layout(flex='2'), max=1125.0, style=Pro…"
      ]
     },
     "metadata": {},
     "output_type": "display_data"
    },
    {
     "name": "stdout",
     "output_type": "stream",
     "text": [
      "Epoch 793: train=2.08487, val=2.14196, took 43.685 s\n",
      "  Validation Found 9041 of 10819, added 990 (eff 83.57%) (0.495 FP/event)\n"
     ]
    },
    {
     "data": {
      "application/vnd.jupyter.widget-view+json": {
       "model_id": "",
       "version_major": 2,
       "version_minor": 0
      },
      "text/plain": [
       "HBox(children=(FloatProgress(value=0.0, description='Training', layout=Layout(flex='2'), max=1125.0, style=Pro…"
      ]
     },
     "metadata": {},
     "output_type": "display_data"
    },
    {
     "name": "stdout",
     "output_type": "stream",
     "text": [
      "Epoch 794: train=2.08219, val=2.14229, took 43.802 s\n",
      "  Validation Found 9045 of 10819, added 988 (eff 83.60%) (0.494 FP/event)\n"
     ]
    },
    {
     "data": {
      "application/vnd.jupyter.widget-view+json": {
       "model_id": "",
       "version_major": 2,
       "version_minor": 0
      },
      "text/plain": [
       "HBox(children=(FloatProgress(value=0.0, description='Training', layout=Layout(flex='2'), max=1125.0, style=Pro…"
      ]
     },
     "metadata": {},
     "output_type": "display_data"
    },
    {
     "name": "stdout",
     "output_type": "stream",
     "text": [
      "Epoch 795: train=2.08095, val=2.146, took 43.903 s\n",
      "  Validation Found 9042 of 10819, added 981 (eff 83.58%) (0.49 FP/event)\n"
     ]
    },
    {
     "data": {
      "application/vnd.jupyter.widget-view+json": {
       "model_id": "",
       "version_major": 2,
       "version_minor": 0
      },
      "text/plain": [
       "HBox(children=(FloatProgress(value=0.0, description='Training', layout=Layout(flex='2'), max=1125.0, style=Pro…"
      ]
     },
     "metadata": {},
     "output_type": "display_data"
    },
    {
     "name": "stdout",
     "output_type": "stream",
     "text": [
      "Epoch 796: train=2.07879, val=2.13909, took 43.587 s\n",
      "  Validation Found 9050 of 10819, added 985 (eff 83.65%) (0.492 FP/event)\n"
     ]
    },
    {
     "data": {
      "application/vnd.jupyter.widget-view+json": {
       "model_id": "",
       "version_major": 2,
       "version_minor": 0
      },
      "text/plain": [
       "HBox(children=(FloatProgress(value=0.0, description='Training', layout=Layout(flex='2'), max=1125.0, style=Pro…"
      ]
     },
     "metadata": {},
     "output_type": "display_data"
    },
    {
     "name": "stdout",
     "output_type": "stream",
     "text": [
      "Epoch 797: train=2.08411, val=2.1447, took 43.955 s\n",
      "  Validation Found 9036 of 10819, added 984 (eff 83.52%) (0.492 FP/event)\n"
     ]
    },
    {
     "data": {
      "application/vnd.jupyter.widget-view+json": {
       "model_id": "",
       "version_major": 2,
       "version_minor": 0
      },
      "text/plain": [
       "HBox(children=(FloatProgress(value=0.0, description='Training', layout=Layout(flex='2'), max=1125.0, style=Pro…"
      ]
     },
     "metadata": {},
     "output_type": "display_data"
    },
    {
     "name": "stdout",
     "output_type": "stream",
     "text": [
      "Epoch 798: train=2.08173, val=2.13895, took 43.914 s\n",
      "  Validation Found 9051 of 10819, added 992 (eff 83.66%) (0.496 FP/event)\n"
     ]
    },
    {
     "data": {
      "application/vnd.jupyter.widget-view+json": {
       "model_id": "",
       "version_major": 2,
       "version_minor": 0
      },
      "text/plain": [
       "HBox(children=(FloatProgress(value=0.0, description='Training', layout=Layout(flex='2'), max=1125.0, style=Pro…"
      ]
     },
     "metadata": {},
     "output_type": "display_data"
    },
    {
     "name": "stdout",
     "output_type": "stream",
     "text": [
      "Epoch 799: train=2.08583, val=2.13982, took 44.057 s\n",
      "  Validation Found 9040 of 10819, added 989 (eff 83.56%) (0.494 FP/event)\n"
     ]
    },
    {
     "data": {
      "application/vnd.jupyter.widget-view+json": {
       "model_id": "",
       "version_major": 2,
       "version_minor": 0
      },
      "text/plain": [
       "HBox(children=(FloatProgress(value=0.0, description='Training', layout=Layout(flex='2'), max=1125.0, style=Pro…"
      ]
     },
     "metadata": {},
     "output_type": "display_data"
    },
    {
     "name": "stdout",
     "output_type": "stream",
     "text": [
      "Epoch 800: train=2.08083, val=2.14235, took 43.71 s\n",
      "  Validation Found 9039 of 10819, added 990 (eff 83.55%) (0.495 FP/event)\n"
     ]
    },
    {
     "data": {
      "application/vnd.jupyter.widget-view+json": {
       "model_id": "",
       "version_major": 2,
       "version_minor": 0
      },
      "text/plain": [
       "HBox(children=(FloatProgress(value=0.0, description='Training', layout=Layout(flex='2'), max=1125.0, style=Pro…"
      ]
     },
     "metadata": {},
     "output_type": "display_data"
    },
    {
     "name": "stdout",
     "output_type": "stream",
     "text": [
      "Epoch 801: train=2.08024, val=2.13921, took 43.724 s\n",
      "  Validation Found 9046 of 10819, added 983 (eff 83.61%) (0.491 FP/event)\n"
     ]
    },
    {
     "data": {
      "application/vnd.jupyter.widget-view+json": {
       "model_id": "",
       "version_major": 2,
       "version_minor": 0
      },
      "text/plain": [
       "HBox(children=(FloatProgress(value=0.0, description='Training', layout=Layout(flex='2'), max=1125.0, style=Pro…"
      ]
     },
     "metadata": {},
     "output_type": "display_data"
    },
    {
     "name": "stdout",
     "output_type": "stream",
     "text": [
      "Epoch 802: train=2.07951, val=2.1411, took 43.709 s\n",
      "  Validation Found 9051 of 10819, added 985 (eff 83.66%) (0.492 FP/event)\n"
     ]
    },
    {
     "data": {
      "application/vnd.jupyter.widget-view+json": {
       "model_id": "",
       "version_major": 2,
       "version_minor": 0
      },
      "text/plain": [
       "HBox(children=(FloatProgress(value=0.0, description='Training', layout=Layout(flex='2'), max=1125.0, style=Pro…"
      ]
     },
     "metadata": {},
     "output_type": "display_data"
    },
    {
     "name": "stdout",
     "output_type": "stream",
     "text": [
      "Epoch 803: train=2.08206, val=2.13889, took 43.711 s\n",
      "  Validation Found 9047 of 10819, added 987 (eff 83.62%) (0.493 FP/event)\n"
     ]
    },
    {
     "data": {
      "application/vnd.jupyter.widget-view+json": {
       "model_id": "",
       "version_major": 2,
       "version_minor": 0
      },
      "text/plain": [
       "HBox(children=(FloatProgress(value=0.0, description='Training', layout=Layout(flex='2'), max=1125.0, style=Pro…"
      ]
     },
     "metadata": {},
     "output_type": "display_data"
    },
    {
     "name": "stdout",
     "output_type": "stream",
     "text": [
      "Epoch 804: train=2.07906, val=2.13974, took 43.9 s\n",
      "  Validation Found 9045 of 10819, added 981 (eff 83.60%) (0.49 FP/event)\n"
     ]
    },
    {
     "data": {
      "application/vnd.jupyter.widget-view+json": {
       "model_id": "",
       "version_major": 2,
       "version_minor": 0
      },
      "text/plain": [
       "HBox(children=(FloatProgress(value=0.0, description='Training', layout=Layout(flex='2'), max=1125.0, style=Pro…"
      ]
     },
     "metadata": {},
     "output_type": "display_data"
    },
    {
     "name": "stdout",
     "output_type": "stream",
     "text": [
      "Epoch 805: train=2.08554, val=2.14052, took 44.025 s\n",
      "  Validation Found 9039 of 10819, added 993 (eff 83.55%) (0.496 FP/event)\n"
     ]
    },
    {
     "data": {
      "application/vnd.jupyter.widget-view+json": {
       "model_id": "",
       "version_major": 2,
       "version_minor": 0
      },
      "text/plain": [
       "HBox(children=(FloatProgress(value=0.0, description='Training', layout=Layout(flex='2'), max=1125.0, style=Pro…"
      ]
     },
     "metadata": {},
     "output_type": "display_data"
    },
    {
     "name": "stdout",
     "output_type": "stream",
     "text": [
      "Epoch 806: train=2.0835, val=2.14126, took 43.648 s\n",
      "  Validation Found 9046 of 10819, added 985 (eff 83.61%) (0.492 FP/event)\n"
     ]
    },
    {
     "data": {
      "application/vnd.jupyter.widget-view+json": {
       "model_id": "",
       "version_major": 2,
       "version_minor": 0
      },
      "text/plain": [
       "HBox(children=(FloatProgress(value=0.0, description='Training', layout=Layout(flex='2'), max=1125.0, style=Pro…"
      ]
     },
     "metadata": {},
     "output_type": "display_data"
    },
    {
     "name": "stdout",
     "output_type": "stream",
     "text": [
      "Epoch 807: train=2.08079, val=2.1432, took 43.576 s\n",
      "  Validation Found 9045 of 10819, added 990 (eff 83.60%) (0.495 FP/event)\n"
     ]
    },
    {
     "data": {
      "application/vnd.jupyter.widget-view+json": {
       "model_id": "",
       "version_major": 2,
       "version_minor": 0
      },
      "text/plain": [
       "HBox(children=(FloatProgress(value=0.0, description='Training', layout=Layout(flex='2'), max=1125.0, style=Pro…"
      ]
     },
     "metadata": {},
     "output_type": "display_data"
    },
    {
     "name": "stdout",
     "output_type": "stream",
     "text": [
      "Epoch 808: train=2.0819, val=2.14472, took 43.595 s\n",
      "  Validation Found 9041 of 10819, added 982 (eff 83.57%) (0.491 FP/event)\n"
     ]
    },
    {
     "data": {
      "application/vnd.jupyter.widget-view+json": {
       "model_id": "",
       "version_major": 2,
       "version_minor": 0
      },
      "text/plain": [
       "HBox(children=(FloatProgress(value=0.0, description='Training', layout=Layout(flex='2'), max=1125.0, style=Pro…"
      ]
     },
     "metadata": {},
     "output_type": "display_data"
    },
    {
     "name": "stdout",
     "output_type": "stream",
     "text": [
      "Epoch 809: train=2.08194, val=2.14303, took 43.832 s\n",
      "  Validation Found 9037 of 10819, added 987 (eff 83.53%) (0.493 FP/event)\n"
     ]
    },
    {
     "data": {
      "application/vnd.jupyter.widget-view+json": {
       "model_id": "",
       "version_major": 2,
       "version_minor": 0
      },
      "text/plain": [
       "HBox(children=(FloatProgress(value=0.0, description='Training', layout=Layout(flex='2'), max=1125.0, style=Pro…"
      ]
     },
     "metadata": {},
     "output_type": "display_data"
    },
    {
     "name": "stdout",
     "output_type": "stream",
     "text": [
      "Epoch 810: train=2.0856, val=2.13903, took 43.853 s\n",
      "  Validation Found 9046 of 10819, added 987 (eff 83.61%) (0.493 FP/event)\n"
     ]
    },
    {
     "data": {
      "application/vnd.jupyter.widget-view+json": {
       "model_id": "",
       "version_major": 2,
       "version_minor": 0
      },
      "text/plain": [
       "HBox(children=(FloatProgress(value=0.0, description='Training', layout=Layout(flex='2'), max=1125.0, style=Pro…"
      ]
     },
     "metadata": {},
     "output_type": "display_data"
    },
    {
     "name": "stdout",
     "output_type": "stream",
     "text": [
      "Epoch 811: train=2.081, val=2.13812, took 44.06 s\n",
      "  Validation Found 9044 of 10819, added 995 (eff 83.59%) (0.497 FP/event)\n"
     ]
    },
    {
     "data": {
      "application/vnd.jupyter.widget-view+json": {
       "model_id": "",
       "version_major": 2,
       "version_minor": 0
      },
      "text/plain": [
       "HBox(children=(FloatProgress(value=0.0, description='Training', layout=Layout(flex='2'), max=1125.0, style=Pro…"
      ]
     },
     "metadata": {},
     "output_type": "display_data"
    },
    {
     "name": "stdout",
     "output_type": "stream",
     "text": [
      "Epoch 812: train=2.08074, val=2.14014, took 44.031 s\n",
      "  Validation Found 9040 of 10819, added 987 (eff 83.56%) (0.493 FP/event)\n"
     ]
    },
    {
     "data": {
      "application/vnd.jupyter.widget-view+json": {
       "model_id": "",
       "version_major": 2,
       "version_minor": 0
      },
      "text/plain": [
       "HBox(children=(FloatProgress(value=0.0, description='Training', layout=Layout(flex='2'), max=1125.0, style=Pro…"
      ]
     },
     "metadata": {},
     "output_type": "display_data"
    },
    {
     "name": "stdout",
     "output_type": "stream",
     "text": [
      "Epoch 813: train=2.0833, val=2.14277, took 43.815 s\n",
      "  Validation Found 9033 of 10819, added 990 (eff 83.49%) (0.495 FP/event)\n"
     ]
    },
    {
     "data": {
      "application/vnd.jupyter.widget-view+json": {
       "model_id": "",
       "version_major": 2,
       "version_minor": 0
      },
      "text/plain": [
       "HBox(children=(FloatProgress(value=0.0, description='Training', layout=Layout(flex='2'), max=1125.0, style=Pro…"
      ]
     },
     "metadata": {},
     "output_type": "display_data"
    },
    {
     "name": "stdout",
     "output_type": "stream",
     "text": [
      "Epoch 814: train=2.07833, val=2.13857, took 43.722 s\n",
      "  Validation Found 9046 of 10819, added 984 (eff 83.61%) (0.492 FP/event)\n"
     ]
    },
    {
     "data": {
      "application/vnd.jupyter.widget-view+json": {
       "model_id": "",
       "version_major": 2,
       "version_minor": 0
      },
      "text/plain": [
       "HBox(children=(FloatProgress(value=0.0, description='Training', layout=Layout(flex='2'), max=1125.0, style=Pro…"
      ]
     },
     "metadata": {},
     "output_type": "display_data"
    },
    {
     "name": "stdout",
     "output_type": "stream",
     "text": [
      "Epoch 815: train=2.08253, val=2.14028, took 43.805 s\n",
      "  Validation Found 9045 of 10819, added 987 (eff 83.60%) (0.493 FP/event)\n"
     ]
    },
    {
     "data": {
      "application/vnd.jupyter.widget-view+json": {
       "model_id": "",
       "version_major": 2,
       "version_minor": 0
      },
      "text/plain": [
       "HBox(children=(FloatProgress(value=0.0, description='Training', layout=Layout(flex='2'), max=1125.0, style=Pro…"
      ]
     },
     "metadata": {},
     "output_type": "display_data"
    },
    {
     "name": "stdout",
     "output_type": "stream",
     "text": [
      "Epoch 816: train=2.07834, val=2.14103, took 43.896 s\n",
      "  Validation Found 9040 of 10819, added 984 (eff 83.56%) (0.492 FP/event)\n"
     ]
    },
    {
     "data": {
      "application/vnd.jupyter.widget-view+json": {
       "model_id": "",
       "version_major": 2,
       "version_minor": 0
      },
      "text/plain": [
       "HBox(children=(FloatProgress(value=0.0, description='Training', layout=Layout(flex='2'), max=1125.0, style=Pro…"
      ]
     },
     "metadata": {},
     "output_type": "display_data"
    },
    {
     "name": "stdout",
     "output_type": "stream",
     "text": [
      "Epoch 817: train=2.07889, val=2.13799, took 43.774 s\n",
      "  Validation Found 9048 of 10819, added 991 (eff 83.63%) (0.495 FP/event)\n"
     ]
    },
    {
     "data": {
      "application/vnd.jupyter.widget-view+json": {
       "model_id": "",
       "version_major": 2,
       "version_minor": 0
      },
      "text/plain": [
       "HBox(children=(FloatProgress(value=0.0, description='Training', layout=Layout(flex='2'), max=1125.0, style=Pro…"
      ]
     },
     "metadata": {},
     "output_type": "display_data"
    },
    {
     "name": "stdout",
     "output_type": "stream",
     "text": [
      "Epoch 818: train=2.08178, val=2.13853, took 43.818 s\n",
      "  Validation Found 9042 of 10819, added 989 (eff 83.58%) (0.494 FP/event)\n"
     ]
    },
    {
     "data": {
      "application/vnd.jupyter.widget-view+json": {
       "model_id": "",
       "version_major": 2,
       "version_minor": 0
      },
      "text/plain": [
       "HBox(children=(FloatProgress(value=0.0, description='Training', layout=Layout(flex='2'), max=1125.0, style=Pro…"
      ]
     },
     "metadata": {},
     "output_type": "display_data"
    },
    {
     "name": "stdout",
     "output_type": "stream",
     "text": [
      "Epoch 819: train=2.08299, val=2.13771, took 43.718 s\n",
      "  Validation Found 9055 of 10819, added 991 (eff 83.70%) (0.495 FP/event)\n"
     ]
    },
    {
     "data": {
      "application/vnd.jupyter.widget-view+json": {
       "model_id": "",
       "version_major": 2,
       "version_minor": 0
      },
      "text/plain": [
       "HBox(children=(FloatProgress(value=0.0, description='Training', layout=Layout(flex='2'), max=1125.0, style=Pro…"
      ]
     },
     "metadata": {},
     "output_type": "display_data"
    },
    {
     "name": "stdout",
     "output_type": "stream",
     "text": [
      "Epoch 820: train=2.08055, val=2.13794, took 43.757 s\n",
      "  Validation Found 9047 of 10819, added 992 (eff 83.62%) (0.496 FP/event)\n"
     ]
    },
    {
     "data": {
      "application/vnd.jupyter.widget-view+json": {
       "model_id": "",
       "version_major": 2,
       "version_minor": 0
      },
      "text/plain": [
       "HBox(children=(FloatProgress(value=0.0, description='Training', layout=Layout(flex='2'), max=1125.0, style=Pro…"
      ]
     },
     "metadata": {},
     "output_type": "display_data"
    },
    {
     "name": "stdout",
     "output_type": "stream",
     "text": [
      "Epoch 821: train=2.08456, val=2.14079, took 43.634 s\n",
      "  Validation Found 9045 of 10819, added 989 (eff 83.60%) (0.494 FP/event)\n"
     ]
    },
    {
     "data": {
      "application/vnd.jupyter.widget-view+json": {
       "model_id": "",
       "version_major": 2,
       "version_minor": 0
      },
      "text/plain": [
       "HBox(children=(FloatProgress(value=0.0, description='Training', layout=Layout(flex='2'), max=1125.0, style=Pro…"
      ]
     },
     "metadata": {},
     "output_type": "display_data"
    },
    {
     "name": "stdout",
     "output_type": "stream",
     "text": [
      "Epoch 822: train=2.07796, val=2.13884, took 43.941 s\n",
      "  Validation Found 9056 of 10819, added 984 (eff 83.70%) (0.492 FP/event)\n"
     ]
    },
    {
     "data": {
      "application/vnd.jupyter.widget-view+json": {
       "model_id": "",
       "version_major": 2,
       "version_minor": 0
      },
      "text/plain": [
       "HBox(children=(FloatProgress(value=0.0, description='Training', layout=Layout(flex='2'), max=1125.0, style=Pro…"
      ]
     },
     "metadata": {},
     "output_type": "display_data"
    },
    {
     "name": "stdout",
     "output_type": "stream",
     "text": [
      "Epoch 823: train=2.07962, val=2.13935, took 43.735 s\n",
      "  Validation Found 9044 of 10819, added 992 (eff 83.59%) (0.496 FP/event)\n"
     ]
    },
    {
     "data": {
      "application/vnd.jupyter.widget-view+json": {
       "model_id": "",
       "version_major": 2,
       "version_minor": 0
      },
      "text/plain": [
       "HBox(children=(FloatProgress(value=0.0, description='Training', layout=Layout(flex='2'), max=1125.0, style=Pro…"
      ]
     },
     "metadata": {},
     "output_type": "display_data"
    },
    {
     "name": "stdout",
     "output_type": "stream",
     "text": [
      "Epoch 824: train=2.08148, val=2.14069, took 43.89 s\n",
      "  Validation Found 9043 of 10819, added 988 (eff 83.58%) (0.494 FP/event)\n"
     ]
    },
    {
     "data": {
      "application/vnd.jupyter.widget-view+json": {
       "model_id": "",
       "version_major": 2,
       "version_minor": 0
      },
      "text/plain": [
       "HBox(children=(FloatProgress(value=0.0, description='Training', layout=Layout(flex='2'), max=1125.0, style=Pro…"
      ]
     },
     "metadata": {},
     "output_type": "display_data"
    },
    {
     "name": "stdout",
     "output_type": "stream",
     "text": [
      "Epoch 825: train=2.08147, val=2.14272, took 43.764 s\n",
      "  Validation Found 9043 of 10819, added 982 (eff 83.58%) (0.491 FP/event)\n"
     ]
    },
    {
     "data": {
      "application/vnd.jupyter.widget-view+json": {
       "model_id": "",
       "version_major": 2,
       "version_minor": 0
      },
      "text/plain": [
       "HBox(children=(FloatProgress(value=0.0, description='Training', layout=Layout(flex='2'), max=1125.0, style=Pro…"
      ]
     },
     "metadata": {},
     "output_type": "display_data"
    },
    {
     "name": "stdout",
     "output_type": "stream",
     "text": [
      "Epoch 826: train=2.08097, val=2.14257, took 43.933 s\n",
      "  Validation Found 9040 of 10819, added 986 (eff 83.56%) (0.493 FP/event)\n"
     ]
    },
    {
     "data": {
      "application/vnd.jupyter.widget-view+json": {
       "model_id": "",
       "version_major": 2,
       "version_minor": 0
      },
      "text/plain": [
       "HBox(children=(FloatProgress(value=0.0, description='Training', layout=Layout(flex='2'), max=1125.0, style=Pro…"
      ]
     },
     "metadata": {},
     "output_type": "display_data"
    },
    {
     "name": "stdout",
     "output_type": "stream",
     "text": [
      "Epoch 827: train=2.08164, val=2.14045, took 43.876 s\n",
      "  Validation Found 9036 of 10819, added 986 (eff 83.52%) (0.493 FP/event)\n"
     ]
    },
    {
     "data": {
      "application/vnd.jupyter.widget-view+json": {
       "model_id": "",
       "version_major": 2,
       "version_minor": 0
      },
      "text/plain": [
       "HBox(children=(FloatProgress(value=0.0, description='Training', layout=Layout(flex='2'), max=1125.0, style=Pro…"
      ]
     },
     "metadata": {},
     "output_type": "display_data"
    },
    {
     "name": "stdout",
     "output_type": "stream",
     "text": [
      "Epoch 828: train=2.07748, val=2.13869, took 43.718 s\n",
      "  Validation Found 9047 of 10819, added 986 (eff 83.62%) (0.493 FP/event)\n"
     ]
    },
    {
     "data": {
      "application/vnd.jupyter.widget-view+json": {
       "model_id": "",
       "version_major": 2,
       "version_minor": 0
      },
      "text/plain": [
       "HBox(children=(FloatProgress(value=0.0, description='Training', layout=Layout(flex='2'), max=1125.0, style=Pro…"
      ]
     },
     "metadata": {},
     "output_type": "display_data"
    },
    {
     "name": "stdout",
     "output_type": "stream",
     "text": [
      "Epoch 829: train=2.0818, val=2.13916, took 43.774 s\n",
      "  Validation Found 9045 of 10819, added 982 (eff 83.60%) (0.491 FP/event)\n"
     ]
    },
    {
     "data": {
      "application/vnd.jupyter.widget-view+json": {
       "model_id": "",
       "version_major": 2,
       "version_minor": 0
      },
      "text/plain": [
       "HBox(children=(FloatProgress(value=0.0, description='Training', layout=Layout(flex='2'), max=1125.0, style=Pro…"
      ]
     },
     "metadata": {},
     "output_type": "display_data"
    },
    {
     "name": "stdout",
     "output_type": "stream",
     "text": [
      "Epoch 830: train=2.08031, val=2.1383, took 43.769 s\n",
      "  Validation Found 9054 of 10819, added 982 (eff 83.69%) (0.491 FP/event)\n"
     ]
    },
    {
     "data": {
      "application/vnd.jupyter.widget-view+json": {
       "model_id": "",
       "version_major": 2,
       "version_minor": 0
      },
      "text/plain": [
       "HBox(children=(FloatProgress(value=0.0, description='Training', layout=Layout(flex='2'), max=1125.0, style=Pro…"
      ]
     },
     "metadata": {},
     "output_type": "display_data"
    },
    {
     "name": "stdout",
     "output_type": "stream",
     "text": [
      "Epoch 831: train=2.08272, val=2.14236, took 44.006 s\n",
      "  Validation Found 9043 of 10819, added 983 (eff 83.58%) (0.491 FP/event)\n"
     ]
    },
    {
     "data": {
      "application/vnd.jupyter.widget-view+json": {
       "model_id": "",
       "version_major": 2,
       "version_minor": 0
      },
      "text/plain": [
       "HBox(children=(FloatProgress(value=0.0, description='Training', layout=Layout(flex='2'), max=1125.0, style=Pro…"
      ]
     },
     "metadata": {},
     "output_type": "display_data"
    },
    {
     "name": "stdout",
     "output_type": "stream",
     "text": [
      "Epoch 832: train=2.08293, val=2.13919, took 43.679 s\n",
      "  Validation Found 9038 of 10819, added 983 (eff 83.54%) (0.491 FP/event)\n"
     ]
    },
    {
     "data": {
      "application/vnd.jupyter.widget-view+json": {
       "model_id": "",
       "version_major": 2,
       "version_minor": 0
      },
      "text/plain": [
       "HBox(children=(FloatProgress(value=0.0, description='Training', layout=Layout(flex='2'), max=1125.0, style=Pro…"
      ]
     },
     "metadata": {},
     "output_type": "display_data"
    },
    {
     "name": "stdout",
     "output_type": "stream",
     "text": [
      "Epoch 833: train=2.08021, val=2.13892, took 43.786 s\n",
      "  Validation Found 9062 of 10819, added 993 (eff 83.76%) (0.496 FP/event)\n"
     ]
    },
    {
     "data": {
      "application/vnd.jupyter.widget-view+json": {
       "model_id": "",
       "version_major": 2,
       "version_minor": 0
      },
      "text/plain": [
       "HBox(children=(FloatProgress(value=0.0, description='Training', layout=Layout(flex='2'), max=1125.0, style=Pro…"
      ]
     },
     "metadata": {},
     "output_type": "display_data"
    },
    {
     "name": "stdout",
     "output_type": "stream",
     "text": [
      "Epoch 834: train=2.08256, val=2.13976, took 43.761 s\n",
      "  Validation Found 9057 of 10819, added 985 (eff 83.71%) (0.492 FP/event)\n"
     ]
    },
    {
     "data": {
      "application/vnd.jupyter.widget-view+json": {
       "model_id": "",
       "version_major": 2,
       "version_minor": 0
      },
      "text/plain": [
       "HBox(children=(FloatProgress(value=0.0, description='Training', layout=Layout(flex='2'), max=1125.0, style=Pro…"
      ]
     },
     "metadata": {},
     "output_type": "display_data"
    },
    {
     "name": "stdout",
     "output_type": "stream",
     "text": [
      "Epoch 835: train=2.07684, val=2.14191, took 43.67 s\n",
      "  Validation Found 9041 of 10819, added 990 (eff 83.57%) (0.495 FP/event)\n"
     ]
    },
    {
     "data": {
      "application/vnd.jupyter.widget-view+json": {
       "model_id": "",
       "version_major": 2,
       "version_minor": 0
      },
      "text/plain": [
       "HBox(children=(FloatProgress(value=0.0, description='Training', layout=Layout(flex='2'), max=1125.0, style=Pro…"
      ]
     },
     "metadata": {},
     "output_type": "display_data"
    },
    {
     "name": "stdout",
     "output_type": "stream",
     "text": [
      "Epoch 836: train=2.07713, val=2.14323, took 43.762 s\n",
      "  Validation Found 9043 of 10819, added 983 (eff 83.58%) (0.491 FP/event)\n"
     ]
    },
    {
     "data": {
      "application/vnd.jupyter.widget-view+json": {
       "model_id": "",
       "version_major": 2,
       "version_minor": 0
      },
      "text/plain": [
       "HBox(children=(FloatProgress(value=0.0, description='Training', layout=Layout(flex='2'), max=1125.0, style=Pro…"
      ]
     },
     "metadata": {},
     "output_type": "display_data"
    },
    {
     "name": "stdout",
     "output_type": "stream",
     "text": [
      "Epoch 837: train=2.08092, val=2.13905, took 43.895 s\n",
      "  Validation Found 9038 of 10819, added 990 (eff 83.54%) (0.495 FP/event)\n"
     ]
    },
    {
     "data": {
      "application/vnd.jupyter.widget-view+json": {
       "model_id": "",
       "version_major": 2,
       "version_minor": 0
      },
      "text/plain": [
       "HBox(children=(FloatProgress(value=0.0, description='Training', layout=Layout(flex='2'), max=1125.0, style=Pro…"
      ]
     },
     "metadata": {},
     "output_type": "display_data"
    },
    {
     "name": "stdout",
     "output_type": "stream",
     "text": [
      "Epoch 838: train=2.07786, val=2.13875, took 43.779 s\n",
      "  Validation Found 9033 of 10819, added 988 (eff 83.49%) (0.494 FP/event)\n"
     ]
    },
    {
     "data": {
      "application/vnd.jupyter.widget-view+json": {
       "model_id": "",
       "version_major": 2,
       "version_minor": 0
      },
      "text/plain": [
       "HBox(children=(FloatProgress(value=0.0, description='Training', layout=Layout(flex='2'), max=1125.0, style=Pro…"
      ]
     },
     "metadata": {},
     "output_type": "display_data"
    },
    {
     "name": "stdout",
     "output_type": "stream",
     "text": [
      "Epoch 839: train=2.07891, val=2.14147, took 43.835 s\n",
      "  Validation Found 9040 of 10819, added 987 (eff 83.56%) (0.493 FP/event)\n"
     ]
    },
    {
     "data": {
      "application/vnd.jupyter.widget-view+json": {
       "model_id": "",
       "version_major": 2,
       "version_minor": 0
      },
      "text/plain": [
       "HBox(children=(FloatProgress(value=0.0, description='Training', layout=Layout(flex='2'), max=1125.0, style=Pro…"
      ]
     },
     "metadata": {},
     "output_type": "display_data"
    },
    {
     "name": "stdout",
     "output_type": "stream",
     "text": [
      "Epoch 840: train=2.07296, val=2.13915, took 43.616 s\n",
      "  Validation Found 9045 of 10819, added 989 (eff 83.60%) (0.494 FP/event)\n"
     ]
    },
    {
     "data": {
      "application/vnd.jupyter.widget-view+json": {
       "model_id": "",
       "version_major": 2,
       "version_minor": 0
      },
      "text/plain": [
       "HBox(children=(FloatProgress(value=0.0, description='Training', layout=Layout(flex='2'), max=1125.0, style=Pro…"
      ]
     },
     "metadata": {},
     "output_type": "display_data"
    },
    {
     "name": "stdout",
     "output_type": "stream",
     "text": [
      "Epoch 841: train=2.08029, val=2.1382, took 43.551 s\n",
      "  Validation Found 9045 of 10819, added 989 (eff 83.60%) (0.494 FP/event)\n"
     ]
    },
    {
     "data": {
      "application/vnd.jupyter.widget-view+json": {
       "model_id": "",
       "version_major": 2,
       "version_minor": 0
      },
      "text/plain": [
       "HBox(children=(FloatProgress(value=0.0, description='Training', layout=Layout(flex='2'), max=1125.0, style=Pro…"
      ]
     },
     "metadata": {},
     "output_type": "display_data"
    },
    {
     "name": "stdout",
     "output_type": "stream",
     "text": [
      "Epoch 842: train=2.07691, val=2.13882, took 43.781 s\n",
      "  Validation Found 9039 of 10819, added 985 (eff 83.55%) (0.492 FP/event)\n"
     ]
    },
    {
     "data": {
      "application/vnd.jupyter.widget-view+json": {
       "model_id": "",
       "version_major": 2,
       "version_minor": 0
      },
      "text/plain": [
       "HBox(children=(FloatProgress(value=0.0, description='Training', layout=Layout(flex='2'), max=1125.0, style=Pro…"
      ]
     },
     "metadata": {},
     "output_type": "display_data"
    },
    {
     "name": "stdout",
     "output_type": "stream",
     "text": [
      "Epoch 843: train=2.0798, val=2.1405, took 44.038 s\n",
      "  Validation Found 9037 of 10819, added 981 (eff 83.53%) (0.49 FP/event)\n"
     ]
    },
    {
     "data": {
      "application/vnd.jupyter.widget-view+json": {
       "model_id": "",
       "version_major": 2,
       "version_minor": 0
      },
      "text/plain": [
       "HBox(children=(FloatProgress(value=0.0, description='Training', layout=Layout(flex='2'), max=1125.0, style=Pro…"
      ]
     },
     "metadata": {},
     "output_type": "display_data"
    },
    {
     "name": "stdout",
     "output_type": "stream",
     "text": [
      "Epoch 844: train=2.07777, val=2.13958, took 43.991 s\n",
      "  Validation Found 9038 of 10819, added 983 (eff 83.54%) (0.491 FP/event)\n"
     ]
    },
    {
     "data": {
      "application/vnd.jupyter.widget-view+json": {
       "model_id": "",
       "version_major": 2,
       "version_minor": 0
      },
      "text/plain": [
       "HBox(children=(FloatProgress(value=0.0, description='Training', layout=Layout(flex='2'), max=1125.0, style=Pro…"
      ]
     },
     "metadata": {},
     "output_type": "display_data"
    },
    {
     "name": "stdout",
     "output_type": "stream",
     "text": [
      "Epoch 845: train=2.07482, val=2.14093, took 43.756 s\n",
      "  Validation Found 9042 of 10819, added 984 (eff 83.58%) (0.492 FP/event)\n"
     ]
    },
    {
     "data": {
      "application/vnd.jupyter.widget-view+json": {
       "model_id": "",
       "version_major": 2,
       "version_minor": 0
      },
      "text/plain": [
       "HBox(children=(FloatProgress(value=0.0, description='Training', layout=Layout(flex='2'), max=1125.0, style=Pro…"
      ]
     },
     "metadata": {},
     "output_type": "display_data"
    },
    {
     "name": "stdout",
     "output_type": "stream",
     "text": [
      "Epoch 846: train=2.07926, val=2.13865, took 43.722 s\n",
      "  Validation Found 9052 of 10819, added 996 (eff 83.67%) (0.498 FP/event)\n"
     ]
    },
    {
     "data": {
      "application/vnd.jupyter.widget-view+json": {
       "model_id": "",
       "version_major": 2,
       "version_minor": 0
      },
      "text/plain": [
       "HBox(children=(FloatProgress(value=0.0, description='Training', layout=Layout(flex='2'), max=1125.0, style=Pro…"
      ]
     },
     "metadata": {},
     "output_type": "display_data"
    },
    {
     "name": "stdout",
     "output_type": "stream",
     "text": [
      "Epoch 847: train=2.07667, val=2.14109, took 43.915 s\n",
      "  Validation Found 9044 of 10819, added 981 (eff 83.59%) (0.49 FP/event)\n"
     ]
    },
    {
     "data": {
      "application/vnd.jupyter.widget-view+json": {
       "model_id": "",
       "version_major": 2,
       "version_minor": 0
      },
      "text/plain": [
       "HBox(children=(FloatProgress(value=0.0, description='Training', layout=Layout(flex='2'), max=1125.0, style=Pro…"
      ]
     },
     "metadata": {},
     "output_type": "display_data"
    },
    {
     "name": "stdout",
     "output_type": "stream",
     "text": [
      "Epoch 848: train=2.07523, val=2.1399, took 43.702 s\n",
      "  Validation Found 9042 of 10819, added 987 (eff 83.58%) (0.493 FP/event)\n"
     ]
    },
    {
     "data": {
      "application/vnd.jupyter.widget-view+json": {
       "model_id": "",
       "version_major": 2,
       "version_minor": 0
      },
      "text/plain": [
       "HBox(children=(FloatProgress(value=0.0, description='Training', layout=Layout(flex='2'), max=1125.0, style=Pro…"
      ]
     },
     "metadata": {},
     "output_type": "display_data"
    },
    {
     "name": "stdout",
     "output_type": "stream",
     "text": [
      "Epoch 849: train=2.07465, val=2.13747, took 43.716 s\n",
      "  Validation Found 9042 of 10819, added 990 (eff 83.58%) (0.495 FP/event)\n"
     ]
    },
    {
     "data": {
      "application/vnd.jupyter.widget-view+json": {
       "model_id": "",
       "version_major": 2,
       "version_minor": 0
      },
      "text/plain": [
       "HBox(children=(FloatProgress(value=0.0, description='Training', layout=Layout(flex='2'), max=1125.0, style=Pro…"
      ]
     },
     "metadata": {},
     "output_type": "display_data"
    },
    {
     "name": "stdout",
     "output_type": "stream",
     "text": [
      "Epoch 850: train=2.07389, val=2.14487, took 43.665 s\n",
      "  Validation Found 9047 of 10819, added 980 (eff 83.62%) (0.49 FP/event)\n"
     ]
    },
    {
     "data": {
      "application/vnd.jupyter.widget-view+json": {
       "model_id": "",
       "version_major": 2,
       "version_minor": 0
      },
      "text/plain": [
       "HBox(children=(FloatProgress(value=0.0, description='Training', layout=Layout(flex='2'), max=1125.0, style=Pro…"
      ]
     },
     "metadata": {},
     "output_type": "display_data"
    },
    {
     "name": "stdout",
     "output_type": "stream",
     "text": [
      "Epoch 851: train=2.07876, val=2.13852, took 43.598 s\n",
      "  Validation Found 9048 of 10819, added 992 (eff 83.63%) (0.496 FP/event)\n"
     ]
    },
    {
     "data": {
      "application/vnd.jupyter.widget-view+json": {
       "model_id": "",
       "version_major": 2,
       "version_minor": 0
      },
      "text/plain": [
       "HBox(children=(FloatProgress(value=0.0, description='Training', layout=Layout(flex='2'), max=1125.0, style=Pro…"
      ]
     },
     "metadata": {},
     "output_type": "display_data"
    },
    {
     "name": "stdout",
     "output_type": "stream",
     "text": [
      "Epoch 852: train=2.07501, val=2.13784, took 43.852 s\n",
      "  Validation Found 9048 of 10819, added 985 (eff 83.63%) (0.492 FP/event)\n"
     ]
    },
    {
     "data": {
      "application/vnd.jupyter.widget-view+json": {
       "model_id": "",
       "version_major": 2,
       "version_minor": 0
      },
      "text/plain": [
       "HBox(children=(FloatProgress(value=0.0, description='Training', layout=Layout(flex='2'), max=1125.0, style=Pro…"
      ]
     },
     "metadata": {},
     "output_type": "display_data"
    },
    {
     "name": "stdout",
     "output_type": "stream",
     "text": [
      "Epoch 853: train=2.07826, val=2.13826, took 43.758 s\n",
      "  Validation Found 9041 of 10819, added 991 (eff 83.57%) (0.495 FP/event)\n"
     ]
    },
    {
     "data": {
      "application/vnd.jupyter.widget-view+json": {
       "model_id": "",
       "version_major": 2,
       "version_minor": 0
      },
      "text/plain": [
       "HBox(children=(FloatProgress(value=0.0, description='Training', layout=Layout(flex='2'), max=1125.0, style=Pro…"
      ]
     },
     "metadata": {},
     "output_type": "display_data"
    },
    {
     "name": "stdout",
     "output_type": "stream",
     "text": [
      "Epoch 854: train=2.08163, val=2.14107, took 43.693 s\n",
      "  Validation Found 9045 of 10819, added 987 (eff 83.60%) (0.493 FP/event)\n"
     ]
    },
    {
     "data": {
      "application/vnd.jupyter.widget-view+json": {
       "model_id": "",
       "version_major": 2,
       "version_minor": 0
      },
      "text/plain": [
       "HBox(children=(FloatProgress(value=0.0, description='Training', layout=Layout(flex='2'), max=1125.0, style=Pro…"
      ]
     },
     "metadata": {},
     "output_type": "display_data"
    },
    {
     "name": "stdout",
     "output_type": "stream",
     "text": [
      "Epoch 855: train=2.07579, val=2.1444, took 44.051 s\n",
      "  Validation Found 9048 of 10819, added 987 (eff 83.63%) (0.493 FP/event)\n"
     ]
    },
    {
     "data": {
      "application/vnd.jupyter.widget-view+json": {
       "model_id": "",
       "version_major": 2,
       "version_minor": 0
      },
      "text/plain": [
       "HBox(children=(FloatProgress(value=0.0, description='Training', layout=Layout(flex='2'), max=1125.0, style=Pro…"
      ]
     },
     "metadata": {},
     "output_type": "display_data"
    },
    {
     "name": "stdout",
     "output_type": "stream",
     "text": [
      "Epoch 856: train=2.07636, val=2.13783, took 44.128 s\n",
      "  Validation Found 9047 of 10819, added 999 (eff 83.62%) (0.499 FP/event)\n"
     ]
    },
    {
     "data": {
      "application/vnd.jupyter.widget-view+json": {
       "model_id": "",
       "version_major": 2,
       "version_minor": 0
      },
      "text/plain": [
       "HBox(children=(FloatProgress(value=0.0, description='Training', layout=Layout(flex='2'), max=1125.0, style=Pro…"
      ]
     },
     "metadata": {},
     "output_type": "display_data"
    },
    {
     "name": "stdout",
     "output_type": "stream",
     "text": [
      "Epoch 857: train=2.07418, val=2.13726, took 43.948 s\n",
      "  Validation Found 9033 of 10819, added 1001 (eff 83.49%) (0.5 FP/event)\n"
     ]
    },
    {
     "data": {
      "application/vnd.jupyter.widget-view+json": {
       "model_id": "",
       "version_major": 2,
       "version_minor": 0
      },
      "text/plain": [
       "HBox(children=(FloatProgress(value=0.0, description='Training', layout=Layout(flex='2'), max=1125.0, style=Pro…"
      ]
     },
     "metadata": {},
     "output_type": "display_data"
    },
    {
     "name": "stdout",
     "output_type": "stream",
     "text": [
      "Epoch 858: train=2.07275, val=2.13749, took 43.591 s\n",
      "  Validation Found 9042 of 10819, added 993 (eff 83.58%) (0.496 FP/event)\n"
     ]
    },
    {
     "data": {
      "application/vnd.jupyter.widget-view+json": {
       "model_id": "",
       "version_major": 2,
       "version_minor": 0
      },
      "text/plain": [
       "HBox(children=(FloatProgress(value=0.0, description='Training', layout=Layout(flex='2'), max=1125.0, style=Pro…"
      ]
     },
     "metadata": {},
     "output_type": "display_data"
    },
    {
     "name": "stdout",
     "output_type": "stream",
     "text": [
      "Epoch 859: train=2.07295, val=2.13778, took 43.762 s\n",
      "  Validation Found 9052 of 10819, added 987 (eff 83.67%) (0.493 FP/event)\n"
     ]
    },
    {
     "data": {
      "application/vnd.jupyter.widget-view+json": {
       "model_id": "",
       "version_major": 2,
       "version_minor": 0
      },
      "text/plain": [
       "HBox(children=(FloatProgress(value=0.0, description='Training', layout=Layout(flex='2'), max=1125.0, style=Pro…"
      ]
     },
     "metadata": {},
     "output_type": "display_data"
    },
    {
     "name": "stdout",
     "output_type": "stream",
     "text": [
      "Epoch 860: train=2.0784, val=2.13888, took 43.719 s\n",
      "  Validation Found 9049 of 10819, added 985 (eff 83.64%) (0.492 FP/event)\n"
     ]
    },
    {
     "data": {
      "application/vnd.jupyter.widget-view+json": {
       "model_id": "",
       "version_major": 2,
       "version_minor": 0
      },
      "text/plain": [
       "HBox(children=(FloatProgress(value=0.0, description='Training', layout=Layout(flex='2'), max=1125.0, style=Pro…"
      ]
     },
     "metadata": {},
     "output_type": "display_data"
    },
    {
     "name": "stdout",
     "output_type": "stream",
     "text": [
      "Epoch 861: train=2.07747, val=2.13708, took 43.707 s\n",
      "  Validation Found 9047 of 10819, added 988 (eff 83.62%) (0.494 FP/event)\n"
     ]
    },
    {
     "data": {
      "application/vnd.jupyter.widget-view+json": {
       "model_id": "",
       "version_major": 2,
       "version_minor": 0
      },
      "text/plain": [
       "HBox(children=(FloatProgress(value=0.0, description='Training', layout=Layout(flex='2'), max=1125.0, style=Pro…"
      ]
     },
     "metadata": {},
     "output_type": "display_data"
    },
    {
     "name": "stdout",
     "output_type": "stream",
     "text": [
      "Epoch 862: train=2.08007, val=2.13891, took 43.817 s\n",
      "  Validation Found 9040 of 10819, added 989 (eff 83.56%) (0.494 FP/event)\n"
     ]
    },
    {
     "data": {
      "application/vnd.jupyter.widget-view+json": {
       "model_id": "",
       "version_major": 2,
       "version_minor": 0
      },
      "text/plain": [
       "HBox(children=(FloatProgress(value=0.0, description='Training', layout=Layout(flex='2'), max=1125.0, style=Pro…"
      ]
     },
     "metadata": {},
     "output_type": "display_data"
    },
    {
     "name": "stdout",
     "output_type": "stream",
     "text": [
      "Epoch 863: train=2.07694, val=2.13823, took 43.816 s\n",
      "  Validation Found 9039 of 10819, added 987 (eff 83.55%) (0.493 FP/event)\n"
     ]
    },
    {
     "data": {
      "application/vnd.jupyter.widget-view+json": {
       "model_id": "",
       "version_major": 2,
       "version_minor": 0
      },
      "text/plain": [
       "HBox(children=(FloatProgress(value=0.0, description='Training', layout=Layout(flex='2'), max=1125.0, style=Pro…"
      ]
     },
     "metadata": {},
     "output_type": "display_data"
    },
    {
     "name": "stdout",
     "output_type": "stream",
     "text": [
      "Epoch 864: train=2.07367, val=2.13695, took 44.129 s\n",
      "  Validation Found 9044 of 10819, added 989 (eff 83.59%) (0.494 FP/event)\n"
     ]
    },
    {
     "data": {
      "application/vnd.jupyter.widget-view+json": {
       "model_id": "",
       "version_major": 2,
       "version_minor": 0
      },
      "text/plain": [
       "HBox(children=(FloatProgress(value=0.0, description='Training', layout=Layout(flex='2'), max=1125.0, style=Pro…"
      ]
     },
     "metadata": {},
     "output_type": "display_data"
    },
    {
     "name": "stdout",
     "output_type": "stream",
     "text": [
      "Epoch 865: train=2.07576, val=2.14262, took 43.833 s\n",
      "  Validation Found 9036 of 10819, added 985 (eff 83.52%) (0.492 FP/event)\n"
     ]
    },
    {
     "data": {
      "application/vnd.jupyter.widget-view+json": {
       "model_id": "",
       "version_major": 2,
       "version_minor": 0
      },
      "text/plain": [
       "HBox(children=(FloatProgress(value=0.0, description='Training', layout=Layout(flex='2'), max=1125.0, style=Pro…"
      ]
     },
     "metadata": {},
     "output_type": "display_data"
    },
    {
     "name": "stdout",
     "output_type": "stream",
     "text": [
      "Epoch 866: train=2.06864, val=2.13759, took 44.164 s\n",
      "  Validation Found 9052 of 10819, added 992 (eff 83.67%) (0.496 FP/event)\n"
     ]
    },
    {
     "data": {
      "application/vnd.jupyter.widget-view+json": {
       "model_id": "",
       "version_major": 2,
       "version_minor": 0
      },
      "text/plain": [
       "HBox(children=(FloatProgress(value=0.0, description='Training', layout=Layout(flex='2'), max=1125.0, style=Pro…"
      ]
     },
     "metadata": {},
     "output_type": "display_data"
    },
    {
     "name": "stdout",
     "output_type": "stream",
     "text": [
      "Epoch 867: train=2.07981, val=2.13818, took 43.877 s\n",
      "  Validation Found 9038 of 10819, added 996 (eff 83.54%) (0.498 FP/event)\n"
     ]
    },
    {
     "data": {
      "application/vnd.jupyter.widget-view+json": {
       "model_id": "",
       "version_major": 2,
       "version_minor": 0
      },
      "text/plain": [
       "HBox(children=(FloatProgress(value=0.0, description='Training', layout=Layout(flex='2'), max=1125.0, style=Pro…"
      ]
     },
     "metadata": {},
     "output_type": "display_data"
    },
    {
     "name": "stdout",
     "output_type": "stream",
     "text": [
      "Epoch 868: train=2.07828, val=2.13695, took 43.872 s\n",
      "  Validation Found 9043 of 10819, added 993 (eff 83.58%) (0.496 FP/event)\n"
     ]
    },
    {
     "data": {
      "application/vnd.jupyter.widget-view+json": {
       "model_id": "",
       "version_major": 2,
       "version_minor": 0
      },
      "text/plain": [
       "HBox(children=(FloatProgress(value=0.0, description='Training', layout=Layout(flex='2'), max=1125.0, style=Pro…"
      ]
     },
     "metadata": {},
     "output_type": "display_data"
    },
    {
     "name": "stdout",
     "output_type": "stream",
     "text": [
      "Epoch 869: train=2.07734, val=2.1385, took 43.89 s\n",
      "  Validation Found 9044 of 10819, added 992 (eff 83.59%) (0.496 FP/event)\n"
     ]
    },
    {
     "data": {
      "application/vnd.jupyter.widget-view+json": {
       "model_id": "",
       "version_major": 2,
       "version_minor": 0
      },
      "text/plain": [
       "HBox(children=(FloatProgress(value=0.0, description='Training', layout=Layout(flex='2'), max=1125.0, style=Pro…"
      ]
     },
     "metadata": {},
     "output_type": "display_data"
    },
    {
     "name": "stdout",
     "output_type": "stream",
     "text": [
      "Epoch 870: train=2.07221, val=2.13707, took 43.842 s\n",
      "  Validation Found 9046 of 10819, added 993 (eff 83.61%) (0.496 FP/event)\n"
     ]
    },
    {
     "data": {
      "application/vnd.jupyter.widget-view+json": {
       "model_id": "",
       "version_major": 2,
       "version_minor": 0
      },
      "text/plain": [
       "HBox(children=(FloatProgress(value=0.0, description='Training', layout=Layout(flex='2'), max=1125.0, style=Pro…"
      ]
     },
     "metadata": {},
     "output_type": "display_data"
    },
    {
     "name": "stdout",
     "output_type": "stream",
     "text": [
      "Epoch 871: train=2.07759, val=2.13948, took 44.279 s\n",
      "  Validation Found 9041 of 10819, added 990 (eff 83.57%) (0.495 FP/event)\n"
     ]
    },
    {
     "data": {
      "application/vnd.jupyter.widget-view+json": {
       "model_id": "",
       "version_major": 2,
       "version_minor": 0
      },
      "text/plain": [
       "HBox(children=(FloatProgress(value=0.0, description='Training', layout=Layout(flex='2'), max=1125.0, style=Pro…"
      ]
     },
     "metadata": {},
     "output_type": "display_data"
    },
    {
     "name": "stdout",
     "output_type": "stream",
     "text": [
      "Epoch 872: train=2.0802, val=2.14796, took 43.999 s\n",
      "  Validation Found 9044 of 10819, added 983 (eff 83.59%) (0.491 FP/event)\n"
     ]
    },
    {
     "data": {
      "application/vnd.jupyter.widget-view+json": {
       "model_id": "",
       "version_major": 2,
       "version_minor": 0
      },
      "text/plain": [
       "HBox(children=(FloatProgress(value=0.0, description='Training', layout=Layout(flex='2'), max=1125.0, style=Pro…"
      ]
     },
     "metadata": {},
     "output_type": "display_data"
    },
    {
     "name": "stdout",
     "output_type": "stream",
     "text": [
      "Epoch 873: train=2.07822, val=2.13756, took 43.608 s\n",
      "  Validation Found 9048 of 10819, added 986 (eff 83.63%) (0.493 FP/event)\n"
     ]
    },
    {
     "data": {
      "application/vnd.jupyter.widget-view+json": {
       "model_id": "",
       "version_major": 2,
       "version_minor": 0
      },
      "text/plain": [
       "HBox(children=(FloatProgress(value=0.0, description='Training', layout=Layout(flex='2'), max=1125.0, style=Pro…"
      ]
     },
     "metadata": {},
     "output_type": "display_data"
    },
    {
     "name": "stdout",
     "output_type": "stream",
     "text": [
      "Epoch 874: train=2.07567, val=2.13686, took 43.948 s\n",
      "  Validation Found 9053 of 10819, added 989 (eff 83.68%) (0.494 FP/event)\n"
     ]
    },
    {
     "data": {
      "application/vnd.jupyter.widget-view+json": {
       "model_id": "",
       "version_major": 2,
       "version_minor": 0
      },
      "text/plain": [
       "HBox(children=(FloatProgress(value=0.0, description='Training', layout=Layout(flex='2'), max=1125.0, style=Pro…"
      ]
     },
     "metadata": {},
     "output_type": "display_data"
    },
    {
     "name": "stdout",
     "output_type": "stream",
     "text": [
      "Epoch 875: train=2.07522, val=2.13884, took 43.929 s\n",
      "  Validation Found 9046 of 10819, added 980 (eff 83.61%) (0.49 FP/event)\n"
     ]
    },
    {
     "data": {
      "application/vnd.jupyter.widget-view+json": {
       "model_id": "",
       "version_major": 2,
       "version_minor": 0
      },
      "text/plain": [
       "HBox(children=(FloatProgress(value=0.0, description='Training', layout=Layout(flex='2'), max=1125.0, style=Pro…"
      ]
     },
     "metadata": {},
     "output_type": "display_data"
    },
    {
     "name": "stdout",
     "output_type": "stream",
     "text": [
      "Epoch 876: train=2.07138, val=2.13891, took 43.614 s\n",
      "  Validation Found 9048 of 10819, added 982 (eff 83.63%) (0.491 FP/event)\n"
     ]
    },
    {
     "data": {
      "application/vnd.jupyter.widget-view+json": {
       "model_id": "",
       "version_major": 2,
       "version_minor": 0
      },
      "text/plain": [
       "HBox(children=(FloatProgress(value=0.0, description='Training', layout=Layout(flex='2'), max=1125.0, style=Pro…"
      ]
     },
     "metadata": {},
     "output_type": "display_data"
    },
    {
     "name": "stdout",
     "output_type": "stream",
     "text": [
      "Epoch 877: train=2.07169, val=2.13773, took 43.926 s\n",
      "  Validation Found 9043 of 10819, added 993 (eff 83.58%) (0.496 FP/event)\n"
     ]
    },
    {
     "data": {
      "application/vnd.jupyter.widget-view+json": {
       "model_id": "",
       "version_major": 2,
       "version_minor": 0
      },
      "text/plain": [
       "HBox(children=(FloatProgress(value=0.0, description='Training', layout=Layout(flex='2'), max=1125.0, style=Pro…"
      ]
     },
     "metadata": {},
     "output_type": "display_data"
    },
    {
     "name": "stdout",
     "output_type": "stream",
     "text": [
      "Epoch 878: train=2.07635, val=2.13775, took 43.875 s\n",
      "  Validation Found 9041 of 10819, added 996 (eff 83.57%) (0.498 FP/event)\n"
     ]
    },
    {
     "data": {
      "application/vnd.jupyter.widget-view+json": {
       "model_id": "",
       "version_major": 2,
       "version_minor": 0
      },
      "text/plain": [
       "HBox(children=(FloatProgress(value=0.0, description='Training', layout=Layout(flex='2'), max=1125.0, style=Pro…"
      ]
     },
     "metadata": {},
     "output_type": "display_data"
    },
    {
     "name": "stdout",
     "output_type": "stream",
     "text": [
      "Epoch 879: train=2.07423, val=2.13675, took 43.948 s\n",
      "  Validation Found 9048 of 10819, added 992 (eff 83.63%) (0.496 FP/event)\n"
     ]
    },
    {
     "data": {
      "application/vnd.jupyter.widget-view+json": {
       "model_id": "",
       "version_major": 2,
       "version_minor": 0
      },
      "text/plain": [
       "HBox(children=(FloatProgress(value=0.0, description='Training', layout=Layout(flex='2'), max=1125.0, style=Pro…"
      ]
     },
     "metadata": {},
     "output_type": "display_data"
    },
    {
     "name": "stdout",
     "output_type": "stream",
     "text": [
      "Epoch 880: train=2.0768, val=2.13922, took 43.91 s\n",
      "  Validation Found 9050 of 10819, added 980 (eff 83.65%) (0.49 FP/event)\n"
     ]
    },
    {
     "data": {
      "application/vnd.jupyter.widget-view+json": {
       "model_id": "",
       "version_major": 2,
       "version_minor": 0
      },
      "text/plain": [
       "HBox(children=(FloatProgress(value=0.0, description='Training', layout=Layout(flex='2'), max=1125.0, style=Pro…"
      ]
     },
     "metadata": {},
     "output_type": "display_data"
    },
    {
     "name": "stdout",
     "output_type": "stream",
     "text": [
      "Epoch 881: train=2.0732, val=2.14093, took 43.791 s\n",
      "  Validation Found 9044 of 10819, added 986 (eff 83.59%) (0.493 FP/event)\n"
     ]
    },
    {
     "data": {
      "application/vnd.jupyter.widget-view+json": {
       "model_id": "",
       "version_major": 2,
       "version_minor": 0
      },
      "text/plain": [
       "HBox(children=(FloatProgress(value=0.0, description='Training', layout=Layout(flex='2'), max=1125.0, style=Pro…"
      ]
     },
     "metadata": {},
     "output_type": "display_data"
    },
    {
     "name": "stdout",
     "output_type": "stream",
     "text": [
      "Epoch 882: train=2.07602, val=2.13947, took 43.679 s\n",
      "  Validation Found 9048 of 10819, added 992 (eff 83.63%) (0.496 FP/event)\n"
     ]
    },
    {
     "data": {
      "application/vnd.jupyter.widget-view+json": {
       "model_id": "",
       "version_major": 2,
       "version_minor": 0
      },
      "text/plain": [
       "HBox(children=(FloatProgress(value=0.0, description='Training', layout=Layout(flex='2'), max=1125.0, style=Pro…"
      ]
     },
     "metadata": {},
     "output_type": "display_data"
    },
    {
     "name": "stdout",
     "output_type": "stream",
     "text": [
      "Epoch 883: train=2.06932, val=2.13747, took 43.684 s\n",
      "  Validation Found 9054 of 10819, added 987 (eff 83.69%) (0.493 FP/event)\n"
     ]
    },
    {
     "data": {
      "application/vnd.jupyter.widget-view+json": {
       "model_id": "",
       "version_major": 2,
       "version_minor": 0
      },
      "text/plain": [
       "HBox(children=(FloatProgress(value=0.0, description='Training', layout=Layout(flex='2'), max=1125.0, style=Pro…"
      ]
     },
     "metadata": {},
     "output_type": "display_data"
    },
    {
     "name": "stdout",
     "output_type": "stream",
     "text": [
      "Epoch 884: train=2.07442, val=2.13779, took 43.862 s\n",
      "  Validation Found 9045 of 10819, added 993 (eff 83.60%) (0.496 FP/event)\n"
     ]
    },
    {
     "data": {
      "application/vnd.jupyter.widget-view+json": {
       "model_id": "",
       "version_major": 2,
       "version_minor": 0
      },
      "text/plain": [
       "HBox(children=(FloatProgress(value=0.0, description='Training', layout=Layout(flex='2'), max=1125.0, style=Pro…"
      ]
     },
     "metadata": {},
     "output_type": "display_data"
    },
    {
     "name": "stdout",
     "output_type": "stream",
     "text": [
      "Epoch 885: train=2.07428, val=2.13832, took 43.79 s\n",
      "  Validation Found 9042 of 10819, added 988 (eff 83.58%) (0.494 FP/event)\n"
     ]
    },
    {
     "data": {
      "application/vnd.jupyter.widget-view+json": {
       "model_id": "",
       "version_major": 2,
       "version_minor": 0
      },
      "text/plain": [
       "HBox(children=(FloatProgress(value=0.0, description='Training', layout=Layout(flex='2'), max=1125.0, style=Pro…"
      ]
     },
     "metadata": {},
     "output_type": "display_data"
    },
    {
     "name": "stdout",
     "output_type": "stream",
     "text": [
      "Epoch 886: train=2.07311, val=2.13802, took 44.001 s\n",
      "  Validation Found 9046 of 10819, added 990 (eff 83.61%) (0.495 FP/event)\n"
     ]
    },
    {
     "data": {
      "application/vnd.jupyter.widget-view+json": {
       "model_id": "",
       "version_major": 2,
       "version_minor": 0
      },
      "text/plain": [
       "HBox(children=(FloatProgress(value=0.0, description='Training', layout=Layout(flex='2'), max=1125.0, style=Pro…"
      ]
     },
     "metadata": {},
     "output_type": "display_data"
    },
    {
     "name": "stdout",
     "output_type": "stream",
     "text": [
      "Epoch 887: train=2.07318, val=2.13805, took 43.697 s\n",
      "  Validation Found 9038 of 10819, added 989 (eff 83.54%) (0.494 FP/event)\n"
     ]
    },
    {
     "data": {
      "application/vnd.jupyter.widget-view+json": {
       "model_id": "",
       "version_major": 2,
       "version_minor": 0
      },
      "text/plain": [
       "HBox(children=(FloatProgress(value=0.0, description='Training', layout=Layout(flex='2'), max=1125.0, style=Pro…"
      ]
     },
     "metadata": {},
     "output_type": "display_data"
    },
    {
     "name": "stdout",
     "output_type": "stream",
     "text": [
      "Epoch 888: train=2.07145, val=2.14162, took 43.607 s\n",
      "  Validation Found 9045 of 10819, added 985 (eff 83.60%) (0.492 FP/event)\n"
     ]
    },
    {
     "data": {
      "application/vnd.jupyter.widget-view+json": {
       "model_id": "",
       "version_major": 2,
       "version_minor": 0
      },
      "text/plain": [
       "HBox(children=(FloatProgress(value=0.0, description='Training', layout=Layout(flex='2'), max=1125.0, style=Pro…"
      ]
     },
     "metadata": {},
     "output_type": "display_data"
    },
    {
     "name": "stdout",
     "output_type": "stream",
     "text": [
      "Epoch 889: train=2.07582, val=2.14091, took 43.789 s\n",
      "  Validation Found 9039 of 10819, added 984 (eff 83.55%) (0.492 FP/event)\n"
     ]
    },
    {
     "data": {
      "application/vnd.jupyter.widget-view+json": {
       "model_id": "",
       "version_major": 2,
       "version_minor": 0
      },
      "text/plain": [
       "HBox(children=(FloatProgress(value=0.0, description='Training', layout=Layout(flex='2'), max=1125.0, style=Pro…"
      ]
     },
     "metadata": {},
     "output_type": "display_data"
    },
    {
     "name": "stdout",
     "output_type": "stream",
     "text": [
      "Epoch 890: train=2.0727, val=2.14208, took 43.748 s\n",
      "  Validation Found 9038 of 10819, added 987 (eff 83.54%) (0.493 FP/event)\n"
     ]
    },
    {
     "data": {
      "application/vnd.jupyter.widget-view+json": {
       "model_id": "",
       "version_major": 2,
       "version_minor": 0
      },
      "text/plain": [
       "HBox(children=(FloatProgress(value=0.0, description='Training', layout=Layout(flex='2'), max=1125.0, style=Pro…"
      ]
     },
     "metadata": {},
     "output_type": "display_data"
    },
    {
     "name": "stdout",
     "output_type": "stream",
     "text": [
      "Epoch 891: train=2.06521, val=2.13879, took 43.643 s\n",
      "  Validation Found 9044 of 10819, added 981 (eff 83.59%) (0.49 FP/event)\n"
     ]
    },
    {
     "data": {
      "application/vnd.jupyter.widget-view+json": {
       "model_id": "",
       "version_major": 2,
       "version_minor": 0
      },
      "text/plain": [
       "HBox(children=(FloatProgress(value=0.0, description='Training', layout=Layout(flex='2'), max=1125.0, style=Pro…"
      ]
     },
     "metadata": {},
     "output_type": "display_data"
    },
    {
     "name": "stdout",
     "output_type": "stream",
     "text": [
      "Epoch 892: train=2.07709, val=2.14463, took 44.159 s\n",
      "  Validation Found 9044 of 10819, added 984 (eff 83.59%) (0.492 FP/event)\n"
     ]
    },
    {
     "data": {
      "application/vnd.jupyter.widget-view+json": {
       "model_id": "",
       "version_major": 2,
       "version_minor": 0
      },
      "text/plain": [
       "HBox(children=(FloatProgress(value=0.0, description='Training', layout=Layout(flex='2'), max=1125.0, style=Pro…"
      ]
     },
     "metadata": {},
     "output_type": "display_data"
    },
    {
     "name": "stdout",
     "output_type": "stream",
     "text": [
      "Epoch 893: train=2.07346, val=2.13841, took 44.148 s\n",
      "  Validation Found 9037 of 10819, added 992 (eff 83.53%) (0.496 FP/event)\n"
     ]
    },
    {
     "data": {
      "application/vnd.jupyter.widget-view+json": {
       "model_id": "",
       "version_major": 2,
       "version_minor": 0
      },
      "text/plain": [
       "HBox(children=(FloatProgress(value=0.0, description='Training', layout=Layout(flex='2'), max=1125.0, style=Pro…"
      ]
     },
     "metadata": {},
     "output_type": "display_data"
    },
    {
     "name": "stdout",
     "output_type": "stream",
     "text": [
      "Epoch 894: train=2.06876, val=2.13729, took 43.903 s\n",
      "  Validation Found 9046 of 10819, added 986 (eff 83.61%) (0.493 FP/event)\n"
     ]
    },
    {
     "data": {
      "application/vnd.jupyter.widget-view+json": {
       "model_id": "",
       "version_major": 2,
       "version_minor": 0
      },
      "text/plain": [
       "HBox(children=(FloatProgress(value=0.0, description='Training', layout=Layout(flex='2'), max=1125.0, style=Pro…"
      ]
     },
     "metadata": {},
     "output_type": "display_data"
    },
    {
     "name": "stdout",
     "output_type": "stream",
     "text": [
      "Epoch 895: train=2.0669, val=2.13729, took 43.643 s\n",
      "  Validation Found 9047 of 10819, added 993 (eff 83.62%) (0.496 FP/event)\n"
     ]
    },
    {
     "data": {
      "application/vnd.jupyter.widget-view+json": {
       "model_id": "",
       "version_major": 2,
       "version_minor": 0
      },
      "text/plain": [
       "HBox(children=(FloatProgress(value=0.0, description='Training', layout=Layout(flex='2'), max=1125.0, style=Pro…"
      ]
     },
     "metadata": {},
     "output_type": "display_data"
    },
    {
     "name": "stdout",
     "output_type": "stream",
     "text": [
      "Epoch 896: train=2.07072, val=2.13813, took 43.885 s\n",
      "  Validation Found 9041 of 10819, added 994 (eff 83.57%) (0.497 FP/event)\n"
     ]
    },
    {
     "data": {
      "application/vnd.jupyter.widget-view+json": {
       "model_id": "",
       "version_major": 2,
       "version_minor": 0
      },
      "text/plain": [
       "HBox(children=(FloatProgress(value=0.0, description='Training', layout=Layout(flex='2'), max=1125.0, style=Pro…"
      ]
     },
     "metadata": {},
     "output_type": "display_data"
    },
    {
     "name": "stdout",
     "output_type": "stream",
     "text": [
      "Epoch 897: train=2.07192, val=2.13847, took 43.827 s\n",
      "  Validation Found 9042 of 10819, added 993 (eff 83.58%) (0.496 FP/event)\n"
     ]
    },
    {
     "data": {
      "application/vnd.jupyter.widget-view+json": {
       "model_id": "",
       "version_major": 2,
       "version_minor": 0
      },
      "text/plain": [
       "HBox(children=(FloatProgress(value=0.0, description='Training', layout=Layout(flex='2'), max=1125.0, style=Pro…"
      ]
     },
     "metadata": {},
     "output_type": "display_data"
    },
    {
     "name": "stdout",
     "output_type": "stream",
     "text": [
      "Epoch 898: train=2.0734, val=2.13833, took 43.947 s\n",
      "  Validation Found 9044 of 10819, added 994 (eff 83.59%) (0.497 FP/event)\n"
     ]
    },
    {
     "data": {
      "application/vnd.jupyter.widget-view+json": {
       "model_id": "",
       "version_major": 2,
       "version_minor": 0
      },
      "text/plain": [
       "HBox(children=(FloatProgress(value=0.0, description='Training', layout=Layout(flex='2'), max=1125.0, style=Pro…"
      ]
     },
     "metadata": {},
     "output_type": "display_data"
    },
    {
     "name": "stdout",
     "output_type": "stream",
     "text": [
      "Epoch 899: train=2.06903, val=2.14117, took 43.747 s\n",
      "  Validation Found 9041 of 10819, added 990 (eff 83.57%) (0.495 FP/event)\n"
     ]
    },
    {
     "data": {
      "application/vnd.jupyter.widget-view+json": {
       "model_id": "",
       "version_major": 2,
       "version_minor": 0
      },
      "text/plain": [
       "HBox(children=(FloatProgress(value=0.0, description='Training', layout=Layout(flex='2'), max=1125.0, style=Pro…"
      ]
     },
     "metadata": {},
     "output_type": "display_data"
    },
    {
     "name": "stdout",
     "output_type": "stream",
     "text": [
      "Epoch 900: train=2.07196, val=2.14522, took 43.847 s\n",
      "  Validation Found 9053 of 10819, added 983 (eff 83.68%) (0.491 FP/event)\n"
     ]
    },
    {
     "data": {
      "application/vnd.jupyter.widget-view+json": {
       "model_id": "",
       "version_major": 2,
       "version_minor": 0
      },
      "text/plain": [
       "HBox(children=(FloatProgress(value=0.0, description='Training', layout=Layout(flex='2'), max=1125.0, style=Pro…"
      ]
     },
     "metadata": {},
     "output_type": "display_data"
    },
    {
     "name": "stdout",
     "output_type": "stream",
     "text": [
      "Epoch 901: train=2.072, val=2.13755, took 43.798 s\n",
      "  Validation Found 9047 of 10819, added 993 (eff 83.62%) (0.496 FP/event)\n"
     ]
    },
    {
     "data": {
      "application/vnd.jupyter.widget-view+json": {
       "model_id": "",
       "version_major": 2,
       "version_minor": 0
      },
      "text/plain": [
       "HBox(children=(FloatProgress(value=0.0, description='Training', layout=Layout(flex='2'), max=1125.0, style=Pro…"
      ]
     },
     "metadata": {},
     "output_type": "display_data"
    },
    {
     "name": "stdout",
     "output_type": "stream",
     "text": [
      "Epoch 902: train=2.07436, val=2.13865, took 43.752 s\n",
      "  Validation Found 9047 of 10819, added 988 (eff 83.62%) (0.494 FP/event)\n"
     ]
    },
    {
     "data": {
      "application/vnd.jupyter.widget-view+json": {
       "model_id": "",
       "version_major": 2,
       "version_minor": 0
      },
      "text/plain": [
       "HBox(children=(FloatProgress(value=0.0, description='Training', layout=Layout(flex='2'), max=1125.0, style=Pro…"
      ]
     },
     "metadata": {},
     "output_type": "display_data"
    },
    {
     "name": "stdout",
     "output_type": "stream",
     "text": [
      "Epoch 903: train=2.07087, val=2.13848, took 43.764 s\n",
      "  Validation Found 9048 of 10819, added 993 (eff 83.63%) (0.496 FP/event)\n"
     ]
    },
    {
     "data": {
      "application/vnd.jupyter.widget-view+json": {
       "model_id": "",
       "version_major": 2,
       "version_minor": 0
      },
      "text/plain": [
       "HBox(children=(FloatProgress(value=0.0, description='Training', layout=Layout(flex='2'), max=1125.0, style=Pro…"
      ]
     },
     "metadata": {},
     "output_type": "display_data"
    },
    {
     "name": "stdout",
     "output_type": "stream",
     "text": [
      "Epoch 904: train=2.06996, val=2.14046, took 43.768 s\n",
      "  Validation Found 9042 of 10819, added 988 (eff 83.58%) (0.494 FP/event)\n"
     ]
    },
    {
     "data": {
      "application/vnd.jupyter.widget-view+json": {
       "model_id": "",
       "version_major": 2,
       "version_minor": 0
      },
      "text/plain": [
       "HBox(children=(FloatProgress(value=0.0, description='Training', layout=Layout(flex='2'), max=1125.0, style=Pro…"
      ]
     },
     "metadata": {},
     "output_type": "display_data"
    },
    {
     "name": "stdout",
     "output_type": "stream",
     "text": [
      "Epoch 905: train=2.06835, val=2.13837, took 43.879 s\n",
      "  Validation Found 9037 of 10819, added 988 (eff 83.53%) (0.494 FP/event)\n"
     ]
    },
    {
     "data": {
      "application/vnd.jupyter.widget-view+json": {
       "model_id": "",
       "version_major": 2,
       "version_minor": 0
      },
      "text/plain": [
       "HBox(children=(FloatProgress(value=0.0, description='Training', layout=Layout(flex='2'), max=1125.0, style=Pro…"
      ]
     },
     "metadata": {},
     "output_type": "display_data"
    },
    {
     "name": "stdout",
     "output_type": "stream",
     "text": [
      "Epoch 906: train=2.06514, val=2.14735, took 43.719 s\n",
      "  Validation Found 9046 of 10819, added 972 (eff 83.61%) (0.486 FP/event)\n"
     ]
    },
    {
     "data": {
      "application/vnd.jupyter.widget-view+json": {
       "model_id": "",
       "version_major": 2,
       "version_minor": 0
      },
      "text/plain": [
       "HBox(children=(FloatProgress(value=0.0, description='Training', layout=Layout(flex='2'), max=1125.0, style=Pro…"
      ]
     },
     "metadata": {},
     "output_type": "display_data"
    },
    {
     "name": "stdout",
     "output_type": "stream",
     "text": [
      "Epoch 907: train=2.0687, val=2.13711, took 43.745 s\n",
      "  Validation Found 9041 of 10819, added 979 (eff 83.57%) (0.489 FP/event)\n"
     ]
    },
    {
     "data": {
      "application/vnd.jupyter.widget-view+json": {
       "model_id": "",
       "version_major": 2,
       "version_minor": 0
      },
      "text/plain": [
       "HBox(children=(FloatProgress(value=0.0, description='Training', layout=Layout(flex='2'), max=1125.0, style=Pro…"
      ]
     },
     "metadata": {},
     "output_type": "display_data"
    },
    {
     "name": "stdout",
     "output_type": "stream",
     "text": [
      "Epoch 908: train=2.07382, val=2.13786, took 44.347 s\n",
      "  Validation Found 9034 of 10819, added 977 (eff 83.50%) (0.488 FP/event)\n"
     ]
    },
    {
     "data": {
      "application/vnd.jupyter.widget-view+json": {
       "model_id": "",
       "version_major": 2,
       "version_minor": 0
      },
      "text/plain": [
       "HBox(children=(FloatProgress(value=0.0, description='Training', layout=Layout(flex='2'), max=1125.0, style=Pro…"
      ]
     },
     "metadata": {},
     "output_type": "display_data"
    },
    {
     "name": "stdout",
     "output_type": "stream",
     "text": [
      "Epoch 909: train=2.06868, val=2.13801, took 43.707 s\n",
      "  Validation Found 9033 of 10819, added 974 (eff 83.49%) (0.487 FP/event)\n"
     ]
    },
    {
     "data": {
      "application/vnd.jupyter.widget-view+json": {
       "model_id": "",
       "version_major": 2,
       "version_minor": 0
      },
      "text/plain": [
       "HBox(children=(FloatProgress(value=0.0, description='Training', layout=Layout(flex='2'), max=1125.0, style=Pro…"
      ]
     },
     "metadata": {},
     "output_type": "display_data"
    },
    {
     "name": "stdout",
     "output_type": "stream",
     "text": [
      "Epoch 910: train=2.07061, val=2.13804, took 43.728 s\n",
      "  Validation Found 9039 of 10819, added 988 (eff 83.55%) (0.494 FP/event)\n"
     ]
    },
    {
     "data": {
      "application/vnd.jupyter.widget-view+json": {
       "model_id": "",
       "version_major": 2,
       "version_minor": 0
      },
      "text/plain": [
       "HBox(children=(FloatProgress(value=0.0, description='Training', layout=Layout(flex='2'), max=1125.0, style=Pro…"
      ]
     },
     "metadata": {},
     "output_type": "display_data"
    },
    {
     "name": "stdout",
     "output_type": "stream",
     "text": [
      "Epoch 911: train=2.06835, val=2.1386, took 43.685 s\n",
      "  Validation Found 9038 of 10819, added 978 (eff 83.54%) (0.489 FP/event)\n"
     ]
    },
    {
     "data": {
      "application/vnd.jupyter.widget-view+json": {
       "model_id": "",
       "version_major": 2,
       "version_minor": 0
      },
      "text/plain": [
       "HBox(children=(FloatProgress(value=0.0, description='Training', layout=Layout(flex='2'), max=1125.0, style=Pro…"
      ]
     },
     "metadata": {},
     "output_type": "display_data"
    },
    {
     "name": "stdout",
     "output_type": "stream",
     "text": [
      "Epoch 912: train=2.06542, val=2.14461, took 43.725 s\n",
      "  Validation Found 9040 of 10819, added 975 (eff 83.56%) (0.487 FP/event)\n"
     ]
    },
    {
     "data": {
      "application/vnd.jupyter.widget-view+json": {
       "model_id": "",
       "version_major": 2,
       "version_minor": 0
      },
      "text/plain": [
       "HBox(children=(FloatProgress(value=0.0, description='Training', layout=Layout(flex='2'), max=1125.0, style=Pro…"
      ]
     },
     "metadata": {},
     "output_type": "display_data"
    },
    {
     "name": "stdout",
     "output_type": "stream",
     "text": [
      "Epoch 913: train=2.06965, val=2.13674, took 43.946 s\n",
      "  Validation Found 9044 of 10819, added 993 (eff 83.59%) (0.496 FP/event)\n"
     ]
    },
    {
     "data": {
      "application/vnd.jupyter.widget-view+json": {
       "model_id": "",
       "version_major": 2,
       "version_minor": 0
      },
      "text/plain": [
       "HBox(children=(FloatProgress(value=0.0, description='Training', layout=Layout(flex='2'), max=1125.0, style=Pro…"
      ]
     },
     "metadata": {},
     "output_type": "display_data"
    },
    {
     "name": "stdout",
     "output_type": "stream",
     "text": [
      "Epoch 914: train=2.06764, val=2.14028, took 43.954 s\n",
      "  Validation Found 9039 of 10819, added 988 (eff 83.55%) (0.494 FP/event)\n"
     ]
    },
    {
     "data": {
      "application/vnd.jupyter.widget-view+json": {
       "model_id": "",
       "version_major": 2,
       "version_minor": 0
      },
      "text/plain": [
       "HBox(children=(FloatProgress(value=0.0, description='Training', layout=Layout(flex='2'), max=1125.0, style=Pro…"
      ]
     },
     "metadata": {},
     "output_type": "display_data"
    },
    {
     "name": "stdout",
     "output_type": "stream",
     "text": [
      "Epoch 915: train=2.06879, val=2.1454, took 43.898 s\n",
      "  Validation Found 9042 of 10819, added 978 (eff 83.58%) (0.489 FP/event)\n"
     ]
    },
    {
     "data": {
      "application/vnd.jupyter.widget-view+json": {
       "model_id": "",
       "version_major": 2,
       "version_minor": 0
      },
      "text/plain": [
       "HBox(children=(FloatProgress(value=0.0, description='Training', layout=Layout(flex='2'), max=1125.0, style=Pro…"
      ]
     },
     "metadata": {},
     "output_type": "display_data"
    },
    {
     "name": "stdout",
     "output_type": "stream",
     "text": [
      "Epoch 916: train=2.06823, val=2.1369, took 44.091 s\n",
      "  Validation Found 9040 of 10819, added 991 (eff 83.56%) (0.495 FP/event)\n"
     ]
    },
    {
     "data": {
      "application/vnd.jupyter.widget-view+json": {
       "model_id": "",
       "version_major": 2,
       "version_minor": 0
      },
      "text/plain": [
       "HBox(children=(FloatProgress(value=0.0, description='Training', layout=Layout(flex='2'), max=1125.0, style=Pro…"
      ]
     },
     "metadata": {},
     "output_type": "display_data"
    },
    {
     "name": "stdout",
     "output_type": "stream",
     "text": [
      "Epoch 917: train=2.07142, val=2.13712, took 43.849 s\n",
      "  Validation Found 9039 of 10819, added 985 (eff 83.55%) (0.492 FP/event)\n"
     ]
    },
    {
     "data": {
      "application/vnd.jupyter.widget-view+json": {
       "model_id": "",
       "version_major": 2,
       "version_minor": 0
      },
      "text/plain": [
       "HBox(children=(FloatProgress(value=0.0, description='Training', layout=Layout(flex='2'), max=1125.0, style=Pro…"
      ]
     },
     "metadata": {},
     "output_type": "display_data"
    },
    {
     "name": "stdout",
     "output_type": "stream",
     "text": [
      "Epoch 918: train=2.07027, val=2.13862, took 43.749 s\n",
      "  Validation Found 9038 of 10819, added 977 (eff 83.54%) (0.488 FP/event)\n"
     ]
    },
    {
     "data": {
      "application/vnd.jupyter.widget-view+json": {
       "model_id": "",
       "version_major": 2,
       "version_minor": 0
      },
      "text/plain": [
       "HBox(children=(FloatProgress(value=0.0, description='Training', layout=Layout(flex='2'), max=1125.0, style=Pro…"
      ]
     },
     "metadata": {},
     "output_type": "display_data"
    },
    {
     "name": "stdout",
     "output_type": "stream",
     "text": [
      "Epoch 919: train=2.07244, val=2.14122, took 43.718 s\n",
      "  Validation Found 9039 of 10819, added 978 (eff 83.55%) (0.489 FP/event)\n"
     ]
    },
    {
     "data": {
      "application/vnd.jupyter.widget-view+json": {
       "model_id": "",
       "version_major": 2,
       "version_minor": 0
      },
      "text/plain": [
       "HBox(children=(FloatProgress(value=0.0, description='Training', layout=Layout(flex='2'), max=1125.0, style=Pro…"
      ]
     },
     "metadata": {},
     "output_type": "display_data"
    },
    {
     "name": "stdout",
     "output_type": "stream",
     "text": [
      "Epoch 920: train=2.06974, val=2.13914, took 44.225 s\n",
      "  Validation Found 9043 of 10819, added 985 (eff 83.58%) (0.492 FP/event)\n"
     ]
    },
    {
     "data": {
      "application/vnd.jupyter.widget-view+json": {
       "model_id": "",
       "version_major": 2,
       "version_minor": 0
      },
      "text/plain": [
       "HBox(children=(FloatProgress(value=0.0, description='Training', layout=Layout(flex='2'), max=1125.0, style=Pro…"
      ]
     },
     "metadata": {},
     "output_type": "display_data"
    },
    {
     "name": "stdout",
     "output_type": "stream",
     "text": [
      "Epoch 921: train=2.06966, val=2.13791, took 43.722 s\n",
      "  Validation Found 9038 of 10819, added 988 (eff 83.54%) (0.494 FP/event)\n"
     ]
    },
    {
     "data": {
      "application/vnd.jupyter.widget-view+json": {
       "model_id": "",
       "version_major": 2,
       "version_minor": 0
      },
      "text/plain": [
       "HBox(children=(FloatProgress(value=0.0, description='Training', layout=Layout(flex='2'), max=1125.0, style=Pro…"
      ]
     },
     "metadata": {},
     "output_type": "display_data"
    },
    {
     "name": "stdout",
     "output_type": "stream",
     "text": [
      "Epoch 922: train=2.06784, val=2.14009, took 43.643 s\n",
      "  Validation Found 9030 of 10819, added 988 (eff 83.46%) (0.494 FP/event)\n"
     ]
    },
    {
     "data": {
      "application/vnd.jupyter.widget-view+json": {
       "model_id": "",
       "version_major": 2,
       "version_minor": 0
      },
      "text/plain": [
       "HBox(children=(FloatProgress(value=0.0, description='Training', layout=Layout(flex='2'), max=1125.0, style=Pro…"
      ]
     },
     "metadata": {},
     "output_type": "display_data"
    },
    {
     "name": "stdout",
     "output_type": "stream",
     "text": [
      "Epoch 923: train=2.06853, val=2.14316, took 43.858 s\n",
      "  Validation Found 9047 of 10819, added 978 (eff 83.62%) (0.489 FP/event)\n"
     ]
    },
    {
     "data": {
      "application/vnd.jupyter.widget-view+json": {
       "model_id": "",
       "version_major": 2,
       "version_minor": 0
      },
      "text/plain": [
       "HBox(children=(FloatProgress(value=0.0, description='Training', layout=Layout(flex='2'), max=1125.0, style=Pro…"
      ]
     },
     "metadata": {},
     "output_type": "display_data"
    },
    {
     "name": "stdout",
     "output_type": "stream",
     "text": [
      "Epoch 924: train=2.07085, val=2.13827, took 44.069 s\n",
      "  Validation Found 9045 of 10819, added 994 (eff 83.60%) (0.497 FP/event)\n"
     ]
    },
    {
     "data": {
      "application/vnd.jupyter.widget-view+json": {
       "model_id": "",
       "version_major": 2,
       "version_minor": 0
      },
      "text/plain": [
       "HBox(children=(FloatProgress(value=0.0, description='Training', layout=Layout(flex='2'), max=1125.0, style=Pro…"
      ]
     },
     "metadata": {},
     "output_type": "display_data"
    },
    {
     "name": "stdout",
     "output_type": "stream",
     "text": [
      "Epoch 925: train=2.06901, val=2.13768, took 43.957 s\n",
      "  Validation Found 9040 of 10819, added 987 (eff 83.56%) (0.493 FP/event)\n"
     ]
    },
    {
     "data": {
      "application/vnd.jupyter.widget-view+json": {
       "model_id": "",
       "version_major": 2,
       "version_minor": 0
      },
      "text/plain": [
       "HBox(children=(FloatProgress(value=0.0, description='Training', layout=Layout(flex='2'), max=1125.0, style=Pro…"
      ]
     },
     "metadata": {},
     "output_type": "display_data"
    },
    {
     "name": "stdout",
     "output_type": "stream",
     "text": [
      "Epoch 926: train=2.06797, val=2.13785, took 43.747 s\n",
      "  Validation Found 9048 of 10819, added 992 (eff 83.63%) (0.496 FP/event)\n"
     ]
    },
    {
     "data": {
      "application/vnd.jupyter.widget-view+json": {
       "model_id": "",
       "version_major": 2,
       "version_minor": 0
      },
      "text/plain": [
       "HBox(children=(FloatProgress(value=0.0, description='Training', layout=Layout(flex='2'), max=1125.0, style=Pro…"
      ]
     },
     "metadata": {},
     "output_type": "display_data"
    },
    {
     "name": "stdout",
     "output_type": "stream",
     "text": [
      "Epoch 927: train=2.07206, val=2.13887, took 43.663 s\n",
      "  Validation Found 9039 of 10819, added 988 (eff 83.55%) (0.494 FP/event)\n"
     ]
    },
    {
     "data": {
      "application/vnd.jupyter.widget-view+json": {
       "model_id": "",
       "version_major": 2,
       "version_minor": 0
      },
      "text/plain": [
       "HBox(children=(FloatProgress(value=0.0, description='Training', layout=Layout(flex='2'), max=1125.0, style=Pro…"
      ]
     },
     "metadata": {},
     "output_type": "display_data"
    },
    {
     "name": "stdout",
     "output_type": "stream",
     "text": [
      "Epoch 928: train=2.07206, val=2.13891, took 43.748 s\n",
      "  Validation Found 9047 of 10819, added 985 (eff 83.62%) (0.492 FP/event)\n"
     ]
    },
    {
     "data": {
      "application/vnd.jupyter.widget-view+json": {
       "model_id": "",
       "version_major": 2,
       "version_minor": 0
      },
      "text/plain": [
       "HBox(children=(FloatProgress(value=0.0, description='Training', layout=Layout(flex='2'), max=1125.0, style=Pro…"
      ]
     },
     "metadata": {},
     "output_type": "display_data"
    },
    {
     "name": "stdout",
     "output_type": "stream",
     "text": [
      "Epoch 929: train=2.06843, val=2.13987, took 43.773 s\n",
      "  Validation Found 9041 of 10819, added 983 (eff 83.57%) (0.491 FP/event)\n"
     ]
    },
    {
     "data": {
      "application/vnd.jupyter.widget-view+json": {
       "model_id": "",
       "version_major": 2,
       "version_minor": 0
      },
      "text/plain": [
       "HBox(children=(FloatProgress(value=0.0, description='Training', layout=Layout(flex='2'), max=1125.0, style=Pro…"
      ]
     },
     "metadata": {},
     "output_type": "display_data"
    },
    {
     "name": "stdout",
     "output_type": "stream",
     "text": [
      "Epoch 930: train=2.06812, val=2.13892, took 43.877 s\n",
      "  Validation Found 9055 of 10819, added 987 (eff 83.70%) (0.493 FP/event)\n"
     ]
    },
    {
     "data": {
      "application/vnd.jupyter.widget-view+json": {
       "model_id": "",
       "version_major": 2,
       "version_minor": 0
      },
      "text/plain": [
       "HBox(children=(FloatProgress(value=0.0, description='Training', layout=Layout(flex='2'), max=1125.0, style=Pro…"
      ]
     },
     "metadata": {},
     "output_type": "display_data"
    },
    {
     "name": "stdout",
     "output_type": "stream",
     "text": [
      "Epoch 931: train=2.07227, val=2.14207, took 43.857 s\n",
      "  Validation Found 9042 of 10819, added 988 (eff 83.58%) (0.494 FP/event)\n"
     ]
    },
    {
     "data": {
      "application/vnd.jupyter.widget-view+json": {
       "model_id": "",
       "version_major": 2,
       "version_minor": 0
      },
      "text/plain": [
       "HBox(children=(FloatProgress(value=0.0, description='Training', layout=Layout(flex='2'), max=1125.0, style=Pro…"
      ]
     },
     "metadata": {},
     "output_type": "display_data"
    },
    {
     "name": "stdout",
     "output_type": "stream",
     "text": [
      "Epoch 932: train=2.06582, val=2.13729, took 43.826 s\n",
      "  Validation Found 9045 of 10819, added 987 (eff 83.60%) (0.493 FP/event)\n"
     ]
    },
    {
     "data": {
      "application/vnd.jupyter.widget-view+json": {
       "model_id": "",
       "version_major": 2,
       "version_minor": 0
      },
      "text/plain": [
       "HBox(children=(FloatProgress(value=0.0, description='Training', layout=Layout(flex='2'), max=1125.0, style=Pro…"
      ]
     },
     "metadata": {},
     "output_type": "display_data"
    },
    {
     "name": "stdout",
     "output_type": "stream",
     "text": [
      "Epoch 933: train=2.06573, val=2.13854, took 43.684 s\n",
      "  Validation Found 9042 of 10819, added 988 (eff 83.58%) (0.494 FP/event)\n"
     ]
    },
    {
     "data": {
      "application/vnd.jupyter.widget-view+json": {
       "model_id": "",
       "version_major": 2,
       "version_minor": 0
      },
      "text/plain": [
       "HBox(children=(FloatProgress(value=0.0, description='Training', layout=Layout(flex='2'), max=1125.0, style=Pro…"
      ]
     },
     "metadata": {},
     "output_type": "display_data"
    },
    {
     "name": "stdout",
     "output_type": "stream",
     "text": [
      "Epoch 934: train=2.06723, val=2.14028, took 43.914 s\n",
      "  Validation Found 9039 of 10819, added 981 (eff 83.55%) (0.49 FP/event)\n"
     ]
    },
    {
     "data": {
      "application/vnd.jupyter.widget-view+json": {
       "model_id": "",
       "version_major": 2,
       "version_minor": 0
      },
      "text/plain": [
       "HBox(children=(FloatProgress(value=0.0, description='Training', layout=Layout(flex='2'), max=1125.0, style=Pro…"
      ]
     },
     "metadata": {},
     "output_type": "display_data"
    },
    {
     "name": "stdout",
     "output_type": "stream",
     "text": [
      "Epoch 935: train=2.06898, val=2.13774, took 43.923 s\n",
      "  Validation Found 9034 of 10819, added 983 (eff 83.50%) (0.491 FP/event)\n"
     ]
    },
    {
     "data": {
      "application/vnd.jupyter.widget-view+json": {
       "model_id": "",
       "version_major": 2,
       "version_minor": 0
      },
      "text/plain": [
       "HBox(children=(FloatProgress(value=0.0, description='Training', layout=Layout(flex='2'), max=1125.0, style=Pro…"
      ]
     },
     "metadata": {},
     "output_type": "display_data"
    },
    {
     "name": "stdout",
     "output_type": "stream",
     "text": [
      "Epoch 936: train=2.06453, val=2.13958, took 43.998 s\n",
      "  Validation Found 9048 of 10819, added 980 (eff 83.63%) (0.49 FP/event)\n"
     ]
    },
    {
     "data": {
      "application/vnd.jupyter.widget-view+json": {
       "model_id": "",
       "version_major": 2,
       "version_minor": 0
      },
      "text/plain": [
       "HBox(children=(FloatProgress(value=0.0, description='Training', layout=Layout(flex='2'), max=1125.0, style=Pro…"
      ]
     },
     "metadata": {},
     "output_type": "display_data"
    },
    {
     "name": "stdout",
     "output_type": "stream",
     "text": [
      "Epoch 937: train=2.06544, val=2.14113, took 43.827 s\n",
      "  Validation Found 9032 of 10819, added 984 (eff 83.48%) (0.492 FP/event)\n"
     ]
    },
    {
     "data": {
      "application/vnd.jupyter.widget-view+json": {
       "model_id": "",
       "version_major": 2,
       "version_minor": 0
      },
      "text/plain": [
       "HBox(children=(FloatProgress(value=0.0, description='Training', layout=Layout(flex='2'), max=1125.0, style=Pro…"
      ]
     },
     "metadata": {},
     "output_type": "display_data"
    },
    {
     "name": "stdout",
     "output_type": "stream",
     "text": [
      "Epoch 938: train=2.06982, val=2.13846, took 43.925 s\n",
      "  Validation Found 9037 of 10819, added 985 (eff 83.53%) (0.492 FP/event)\n"
     ]
    },
    {
     "data": {
      "application/vnd.jupyter.widget-view+json": {
       "model_id": "",
       "version_major": 2,
       "version_minor": 0
      },
      "text/plain": [
       "HBox(children=(FloatProgress(value=0.0, description='Training', layout=Layout(flex='2'), max=1125.0, style=Pro…"
      ]
     },
     "metadata": {},
     "output_type": "display_data"
    },
    {
     "name": "stdout",
     "output_type": "stream",
     "text": [
      "Epoch 939: train=2.06934, val=2.13802, took 43.981 s\n",
      "  Validation Found 9050 of 10819, added 993 (eff 83.65%) (0.496 FP/event)\n"
     ]
    },
    {
     "data": {
      "application/vnd.jupyter.widget-view+json": {
       "model_id": "",
       "version_major": 2,
       "version_minor": 0
      },
      "text/plain": [
       "HBox(children=(FloatProgress(value=0.0, description='Training', layout=Layout(flex='2'), max=1125.0, style=Pro…"
      ]
     },
     "metadata": {},
     "output_type": "display_data"
    },
    {
     "name": "stdout",
     "output_type": "stream",
     "text": [
      "Epoch 940: train=2.06842, val=2.14081, took 43.739 s\n",
      "  Validation Found 9037 of 10819, added 981 (eff 83.53%) (0.49 FP/event)\n"
     ]
    },
    {
     "data": {
      "application/vnd.jupyter.widget-view+json": {
       "model_id": "",
       "version_major": 2,
       "version_minor": 0
      },
      "text/plain": [
       "HBox(children=(FloatProgress(value=0.0, description='Training', layout=Layout(flex='2'), max=1125.0, style=Pro…"
      ]
     },
     "metadata": {},
     "output_type": "display_data"
    },
    {
     "name": "stdout",
     "output_type": "stream",
     "text": [
      "Epoch 941: train=2.06747, val=2.14086, took 44.168 s\n",
      "  Validation Found 9055 of 10819, added 980 (eff 83.70%) (0.49 FP/event)\n"
     ]
    },
    {
     "data": {
      "application/vnd.jupyter.widget-view+json": {
       "model_id": "",
       "version_major": 2,
       "version_minor": 0
      },
      "text/plain": [
       "HBox(children=(FloatProgress(value=0.0, description='Training', layout=Layout(flex='2'), max=1125.0, style=Pro…"
      ]
     },
     "metadata": {},
     "output_type": "display_data"
    },
    {
     "name": "stdout",
     "output_type": "stream",
     "text": [
      "Epoch 942: train=2.06837, val=2.14142, took 43.752 s\n",
      "  Validation Found 9028 of 10819, added 975 (eff 83.45%) (0.487 FP/event)\n"
     ]
    },
    {
     "data": {
      "application/vnd.jupyter.widget-view+json": {
       "model_id": "",
       "version_major": 2,
       "version_minor": 0
      },
      "text/plain": [
       "HBox(children=(FloatProgress(value=0.0, description='Training', layout=Layout(flex='2'), max=1125.0, style=Pro…"
      ]
     },
     "metadata": {},
     "output_type": "display_data"
    },
    {
     "name": "stdout",
     "output_type": "stream",
     "text": [
      "Epoch 943: train=2.06733, val=2.13729, took 43.756 s\n",
      "  Validation Found 9049 of 10819, added 987 (eff 83.64%) (0.493 FP/event)\n"
     ]
    },
    {
     "data": {
      "application/vnd.jupyter.widget-view+json": {
       "model_id": "",
       "version_major": 2,
       "version_minor": 0
      },
      "text/plain": [
       "HBox(children=(FloatProgress(value=0.0, description='Training', layout=Layout(flex='2'), max=1125.0, style=Pro…"
      ]
     },
     "metadata": {},
     "output_type": "display_data"
    },
    {
     "name": "stdout",
     "output_type": "stream",
     "text": [
      "Epoch 944: train=2.06462, val=2.13762, took 43.741 s\n",
      "  Validation Found 9039 of 10819, added 986 (eff 83.55%) (0.493 FP/event)\n"
     ]
    },
    {
     "data": {
      "application/vnd.jupyter.widget-view+json": {
       "model_id": "",
       "version_major": 2,
       "version_minor": 0
      },
      "text/plain": [
       "HBox(children=(FloatProgress(value=0.0, description='Training', layout=Layout(flex='2'), max=1125.0, style=Pro…"
      ]
     },
     "metadata": {},
     "output_type": "display_data"
    },
    {
     "name": "stdout",
     "output_type": "stream",
     "text": [
      "Epoch 945: train=2.06356, val=2.13945, took 44.072 s\n",
      "  Validation Found 9034 of 10819, added 983 (eff 83.50%) (0.491 FP/event)\n"
     ]
    },
    {
     "data": {
      "application/vnd.jupyter.widget-view+json": {
       "model_id": "",
       "version_major": 2,
       "version_minor": 0
      },
      "text/plain": [
       "HBox(children=(FloatProgress(value=0.0, description='Training', layout=Layout(flex='2'), max=1125.0, style=Pro…"
      ]
     },
     "metadata": {},
     "output_type": "display_data"
    },
    {
     "name": "stdout",
     "output_type": "stream",
     "text": [
      "Epoch 946: train=2.07283, val=2.13816, took 43.872 s\n",
      "  Validation Found 9043 of 10819, added 983 (eff 83.58%) (0.491 FP/event)\n"
     ]
    },
    {
     "data": {
      "application/vnd.jupyter.widget-view+json": {
       "model_id": "",
       "version_major": 2,
       "version_minor": 0
      },
      "text/plain": [
       "HBox(children=(FloatProgress(value=0.0, description='Training', layout=Layout(flex='2'), max=1125.0, style=Pro…"
      ]
     },
     "metadata": {},
     "output_type": "display_data"
    },
    {
     "name": "stdout",
     "output_type": "stream",
     "text": [
      "Epoch 947: train=2.06828, val=2.13931, took 43.983 s\n",
      "  Validation Found 9054 of 10819, added 987 (eff 83.69%) (0.493 FP/event)\n"
     ]
    },
    {
     "data": {
      "application/vnd.jupyter.widget-view+json": {
       "model_id": "",
       "version_major": 2,
       "version_minor": 0
      },
      "text/plain": [
       "HBox(children=(FloatProgress(value=0.0, description='Training', layout=Layout(flex='2'), max=1125.0, style=Pro…"
      ]
     },
     "metadata": {},
     "output_type": "display_data"
    },
    {
     "name": "stdout",
     "output_type": "stream",
     "text": [
      "Epoch 948: train=2.06831, val=2.14009, took 44.053 s\n",
      "  Validation Found 9039 of 10819, added 985 (eff 83.55%) (0.492 FP/event)\n"
     ]
    },
    {
     "data": {
      "application/vnd.jupyter.widget-view+json": {
       "model_id": "",
       "version_major": 2,
       "version_minor": 0
      },
      "text/plain": [
       "HBox(children=(FloatProgress(value=0.0, description='Training', layout=Layout(flex='2'), max=1125.0, style=Pro…"
      ]
     },
     "metadata": {},
     "output_type": "display_data"
    },
    {
     "name": "stdout",
     "output_type": "stream",
     "text": [
      "Epoch 949: train=2.06145, val=2.14163, took 44.122 s\n",
      "  Validation Found 9042 of 10819, added 982 (eff 83.58%) (0.491 FP/event)\n"
     ]
    },
    {
     "data": {
      "application/vnd.jupyter.widget-view+json": {
       "model_id": "",
       "version_major": 2,
       "version_minor": 0
      },
      "text/plain": [
       "HBox(children=(FloatProgress(value=0.0, description='Training', layout=Layout(flex='2'), max=1125.0, style=Pro…"
      ]
     },
     "metadata": {},
     "output_type": "display_data"
    },
    {
     "name": "stdout",
     "output_type": "stream",
     "text": [
      "Epoch 950: train=2.0683, val=2.13597, took 43.933 s\n",
      "  Validation Found 9049 of 10819, added 992 (eff 83.64%) (0.496 FP/event)\n"
     ]
    },
    {
     "data": {
      "application/vnd.jupyter.widget-view+json": {
       "model_id": "",
       "version_major": 2,
       "version_minor": 0
      },
      "text/plain": [
       "HBox(children=(FloatProgress(value=0.0, description='Training', layout=Layout(flex='2'), max=1125.0, style=Pro…"
      ]
     },
     "metadata": {},
     "output_type": "display_data"
    },
    {
     "name": "stdout",
     "output_type": "stream",
     "text": [
      "Epoch 951: train=2.06419, val=2.13626, took 43.667 s\n",
      "  Validation Found 9047 of 10819, added 991 (eff 83.62%) (0.495 FP/event)\n"
     ]
    },
    {
     "data": {
      "application/vnd.jupyter.widget-view+json": {
       "model_id": "",
       "version_major": 2,
       "version_minor": 0
      },
      "text/plain": [
       "HBox(children=(FloatProgress(value=0.0, description='Training', layout=Layout(flex='2'), max=1125.0, style=Pro…"
      ]
     },
     "metadata": {},
     "output_type": "display_data"
    },
    {
     "name": "stdout",
     "output_type": "stream",
     "text": [
      "Epoch 952: train=2.06496, val=2.13657, took 43.926 s\n",
      "  Validation Found 9042 of 10819, added 983 (eff 83.58%) (0.491 FP/event)\n"
     ]
    },
    {
     "data": {
      "application/vnd.jupyter.widget-view+json": {
       "model_id": "",
       "version_major": 2,
       "version_minor": 0
      },
      "text/plain": [
       "HBox(children=(FloatProgress(value=0.0, description='Training', layout=Layout(flex='2'), max=1125.0, style=Pro…"
      ]
     },
     "metadata": {},
     "output_type": "display_data"
    },
    {
     "name": "stdout",
     "output_type": "stream",
     "text": [
      "Epoch 953: train=2.0655, val=2.13743, took 43.975 s\n",
      "  Validation Found 9032 of 10819, added 985 (eff 83.48%) (0.492 FP/event)\n"
     ]
    },
    {
     "data": {
      "application/vnd.jupyter.widget-view+json": {
       "model_id": "",
       "version_major": 2,
       "version_minor": 0
      },
      "text/plain": [
       "HBox(children=(FloatProgress(value=0.0, description='Training', layout=Layout(flex='2'), max=1125.0, style=Pro…"
      ]
     },
     "metadata": {},
     "output_type": "display_data"
    },
    {
     "name": "stdout",
     "output_type": "stream",
     "text": [
      "Epoch 954: train=2.0661, val=2.14608, took 44.005 s\n",
      "  Validation Found 9036 of 10819, added 975 (eff 83.52%) (0.487 FP/event)\n"
     ]
    },
    {
     "data": {
      "application/vnd.jupyter.widget-view+json": {
       "model_id": "",
       "version_major": 2,
       "version_minor": 0
      },
      "text/plain": [
       "HBox(children=(FloatProgress(value=0.0, description='Training', layout=Layout(flex='2'), max=1125.0, style=Pro…"
      ]
     },
     "metadata": {},
     "output_type": "display_data"
    },
    {
     "name": "stdout",
     "output_type": "stream",
     "text": [
      "Epoch 955: train=2.06981, val=2.14083, took 43.899 s\n",
      "  Validation Found 9045 of 10819, added 979 (eff 83.60%) (0.489 FP/event)\n"
     ]
    },
    {
     "data": {
      "application/vnd.jupyter.widget-view+json": {
       "model_id": "",
       "version_major": 2,
       "version_minor": 0
      },
      "text/plain": [
       "HBox(children=(FloatProgress(value=0.0, description='Training', layout=Layout(flex='2'), max=1125.0, style=Pro…"
      ]
     },
     "metadata": {},
     "output_type": "display_data"
    },
    {
     "name": "stdout",
     "output_type": "stream",
     "text": [
      "Epoch 956: train=2.06569, val=2.13697, took 43.59 s\n",
      "  Validation Found 9041 of 10819, added 980 (eff 83.57%) (0.49 FP/event)\n"
     ]
    },
    {
     "data": {
      "application/vnd.jupyter.widget-view+json": {
       "model_id": "",
       "version_major": 2,
       "version_minor": 0
      },
      "text/plain": [
       "HBox(children=(FloatProgress(value=0.0, description='Training', layout=Layout(flex='2'), max=1125.0, style=Pro…"
      ]
     },
     "metadata": {},
     "output_type": "display_data"
    },
    {
     "name": "stdout",
     "output_type": "stream",
     "text": [
      "Epoch 957: train=2.06309, val=2.13668, took 43.61 s\n",
      "  Validation Found 9037 of 10819, added 985 (eff 83.53%) (0.492 FP/event)\n"
     ]
    },
    {
     "data": {
      "application/vnd.jupyter.widget-view+json": {
       "model_id": "",
       "version_major": 2,
       "version_minor": 0
      },
      "text/plain": [
       "HBox(children=(FloatProgress(value=0.0, description='Training', layout=Layout(flex='2'), max=1125.0, style=Pro…"
      ]
     },
     "metadata": {},
     "output_type": "display_data"
    },
    {
     "name": "stdout",
     "output_type": "stream",
     "text": [
      "Epoch 958: train=2.06405, val=2.13999, took 43.518 s\n",
      "  Validation Found 9035 of 10819, added 973 (eff 83.51%) (0.486 FP/event)\n"
     ]
    },
    {
     "data": {
      "application/vnd.jupyter.widget-view+json": {
       "model_id": "",
       "version_major": 2,
       "version_minor": 0
      },
      "text/plain": [
       "HBox(children=(FloatProgress(value=0.0, description='Training', layout=Layout(flex='2'), max=1125.0, style=Pro…"
      ]
     },
     "metadata": {},
     "output_type": "display_data"
    },
    {
     "name": "stdout",
     "output_type": "stream",
     "text": [
      "Epoch 959: train=2.06209, val=2.13921, took 44.195 s\n",
      "  Validation Found 9033 of 10819, added 992 (eff 83.49%) (0.496 FP/event)\n"
     ]
    },
    {
     "data": {
      "application/vnd.jupyter.widget-view+json": {
       "model_id": "",
       "version_major": 2,
       "version_minor": 0
      },
      "text/plain": [
       "HBox(children=(FloatProgress(value=0.0, description='Training', layout=Layout(flex='2'), max=1125.0, style=Pro…"
      ]
     },
     "metadata": {},
     "output_type": "display_data"
    },
    {
     "name": "stdout",
     "output_type": "stream",
     "text": [
      "Epoch 960: train=2.06741, val=2.13634, took 43.995 s\n",
      "  Validation Found 9050 of 10819, added 990 (eff 83.65%) (0.495 FP/event)\n"
     ]
    },
    {
     "data": {
      "application/vnd.jupyter.widget-view+json": {
       "model_id": "",
       "version_major": 2,
       "version_minor": 0
      },
      "text/plain": [
       "HBox(children=(FloatProgress(value=0.0, description='Training', layout=Layout(flex='2'), max=1125.0, style=Pro…"
      ]
     },
     "metadata": {},
     "output_type": "display_data"
    },
    {
     "name": "stdout",
     "output_type": "stream",
     "text": [
      "Epoch 961: train=2.06549, val=2.13653, took 43.973 s\n",
      "  Validation Found 9048 of 10819, added 988 (eff 83.63%) (0.494 FP/event)\n"
     ]
    },
    {
     "data": {
      "application/vnd.jupyter.widget-view+json": {
       "model_id": "",
       "version_major": 2,
       "version_minor": 0
      },
      "text/plain": [
       "HBox(children=(FloatProgress(value=0.0, description='Training', layout=Layout(flex='2'), max=1125.0, style=Pro…"
      ]
     },
     "metadata": {},
     "output_type": "display_data"
    },
    {
     "name": "stdout",
     "output_type": "stream",
     "text": [
      "Epoch 962: train=2.06433, val=2.13695, took 44.064 s\n",
      "  Validation Found 9038 of 10819, added 984 (eff 83.54%) (0.492 FP/event)\n"
     ]
    },
    {
     "data": {
      "application/vnd.jupyter.widget-view+json": {
       "model_id": "",
       "version_major": 2,
       "version_minor": 0
      },
      "text/plain": [
       "HBox(children=(FloatProgress(value=0.0, description='Training', layout=Layout(flex='2'), max=1125.0, style=Pro…"
      ]
     },
     "metadata": {},
     "output_type": "display_data"
    },
    {
     "name": "stdout",
     "output_type": "stream",
     "text": [
      "Epoch 963: train=2.06701, val=2.13669, took 44.089 s\n",
      "  Validation Found 9054 of 10819, added 982 (eff 83.69%) (0.491 FP/event)\n"
     ]
    },
    {
     "data": {
      "application/vnd.jupyter.widget-view+json": {
       "model_id": "",
       "version_major": 2,
       "version_minor": 0
      },
      "text/plain": [
       "HBox(children=(FloatProgress(value=0.0, description='Training', layout=Layout(flex='2'), max=1125.0, style=Pro…"
      ]
     },
     "metadata": {},
     "output_type": "display_data"
    },
    {
     "name": "stdout",
     "output_type": "stream",
     "text": [
      "Epoch 964: train=2.06748, val=2.13586, took 44.252 s\n",
      "  Validation Found 9051 of 10819, added 982 (eff 83.66%) (0.491 FP/event)\n"
     ]
    },
    {
     "data": {
      "application/vnd.jupyter.widget-view+json": {
       "model_id": "",
       "version_major": 2,
       "version_minor": 0
      },
      "text/plain": [
       "HBox(children=(FloatProgress(value=0.0, description='Training', layout=Layout(flex='2'), max=1125.0, style=Pro…"
      ]
     },
     "metadata": {},
     "output_type": "display_data"
    },
    {
     "name": "stdout",
     "output_type": "stream",
     "text": [
      "Epoch 965: train=2.06375, val=2.14126, took 43.824 s\n",
      "  Validation Found 9037 of 10819, added 983 (eff 83.53%) (0.491 FP/event)\n"
     ]
    },
    {
     "data": {
      "application/vnd.jupyter.widget-view+json": {
       "model_id": "",
       "version_major": 2,
       "version_minor": 0
      },
      "text/plain": [
       "HBox(children=(FloatProgress(value=0.0, description='Training', layout=Layout(flex='2'), max=1125.0, style=Pro…"
      ]
     },
     "metadata": {},
     "output_type": "display_data"
    },
    {
     "name": "stdout",
     "output_type": "stream",
     "text": [
      "Epoch 966: train=2.06567, val=2.13662, took 43.582 s\n",
      "  Validation Found 9054 of 10819, added 989 (eff 83.69%) (0.494 FP/event)\n"
     ]
    },
    {
     "data": {
      "application/vnd.jupyter.widget-view+json": {
       "model_id": "",
       "version_major": 2,
       "version_minor": 0
      },
      "text/plain": [
       "HBox(children=(FloatProgress(value=0.0, description='Training', layout=Layout(flex='2'), max=1125.0, style=Pro…"
      ]
     },
     "metadata": {},
     "output_type": "display_data"
    },
    {
     "name": "stdout",
     "output_type": "stream",
     "text": [
      "Epoch 967: train=2.06095, val=2.13785, took 44.022 s\n",
      "  Validation Found 9039 of 10819, added 982 (eff 83.55%) (0.491 FP/event)\n"
     ]
    },
    {
     "data": {
      "application/vnd.jupyter.widget-view+json": {
       "model_id": "",
       "version_major": 2,
       "version_minor": 0
      },
      "text/plain": [
       "HBox(children=(FloatProgress(value=0.0, description='Training', layout=Layout(flex='2'), max=1125.0, style=Pro…"
      ]
     },
     "metadata": {},
     "output_type": "display_data"
    },
    {
     "name": "stdout",
     "output_type": "stream",
     "text": [
      "Epoch 968: train=2.06684, val=2.13993, took 43.859 s\n",
      "  Validation Found 9037 of 10819, added 975 (eff 83.53%) (0.487 FP/event)\n"
     ]
    },
    {
     "data": {
      "application/vnd.jupyter.widget-view+json": {
       "model_id": "",
       "version_major": 2,
       "version_minor": 0
      },
      "text/plain": [
       "HBox(children=(FloatProgress(value=0.0, description='Training', layout=Layout(flex='2'), max=1125.0, style=Pro…"
      ]
     },
     "metadata": {},
     "output_type": "display_data"
    },
    {
     "name": "stdout",
     "output_type": "stream",
     "text": [
      "Epoch 969: train=2.06547, val=2.1377, took 43.788 s\n",
      "  Validation Found 9047 of 10819, added 983 (eff 83.62%) (0.491 FP/event)\n"
     ]
    },
    {
     "data": {
      "application/vnd.jupyter.widget-view+json": {
       "model_id": "",
       "version_major": 2,
       "version_minor": 0
      },
      "text/plain": [
       "HBox(children=(FloatProgress(value=0.0, description='Training', layout=Layout(flex='2'), max=1125.0, style=Pro…"
      ]
     },
     "metadata": {},
     "output_type": "display_data"
    },
    {
     "name": "stdout",
     "output_type": "stream",
     "text": [
      "Epoch 970: train=2.06447, val=2.13856, took 43.859 s\n",
      "  Validation Found 9034 of 10819, added 979 (eff 83.50%) (0.489 FP/event)\n"
     ]
    },
    {
     "data": {
      "application/vnd.jupyter.widget-view+json": {
       "model_id": "",
       "version_major": 2,
       "version_minor": 0
      },
      "text/plain": [
       "HBox(children=(FloatProgress(value=0.0, description='Training', layout=Layout(flex='2'), max=1125.0, style=Pro…"
      ]
     },
     "metadata": {},
     "output_type": "display_data"
    },
    {
     "name": "stdout",
     "output_type": "stream",
     "text": [
      "Epoch 971: train=2.063, val=2.13791, took 43.897 s\n",
      "  Validation Found 9037 of 10819, added 983 (eff 83.53%) (0.491 FP/event)\n"
     ]
    },
    {
     "data": {
      "application/vnd.jupyter.widget-view+json": {
       "model_id": "",
       "version_major": 2,
       "version_minor": 0
      },
      "text/plain": [
       "HBox(children=(FloatProgress(value=0.0, description='Training', layout=Layout(flex='2'), max=1125.0, style=Pro…"
      ]
     },
     "metadata": {},
     "output_type": "display_data"
    },
    {
     "name": "stdout",
     "output_type": "stream",
     "text": [
      "Epoch 972: train=2.05833, val=2.13918, took 43.528 s\n",
      "  Validation Found 9033 of 10819, added 978 (eff 83.49%) (0.489 FP/event)\n"
     ]
    },
    {
     "data": {
      "application/vnd.jupyter.widget-view+json": {
       "model_id": "",
       "version_major": 2,
       "version_minor": 0
      },
      "text/plain": [
       "HBox(children=(FloatProgress(value=0.0, description='Training', layout=Layout(flex='2'), max=1125.0, style=Pro…"
      ]
     },
     "metadata": {},
     "output_type": "display_data"
    },
    {
     "name": "stdout",
     "output_type": "stream",
     "text": [
      "Epoch 973: train=2.06191, val=2.13712, took 43.737 s\n",
      "  Validation Found 9033 of 10819, added 980 (eff 83.49%) (0.49 FP/event)\n"
     ]
    },
    {
     "data": {
      "application/vnd.jupyter.widget-view+json": {
       "model_id": "",
       "version_major": 2,
       "version_minor": 0
      },
      "text/plain": [
       "HBox(children=(FloatProgress(value=0.0, description='Training', layout=Layout(flex='2'), max=1125.0, style=Pro…"
      ]
     },
     "metadata": {},
     "output_type": "display_data"
    },
    {
     "name": "stdout",
     "output_type": "stream",
     "text": [
      "Epoch 974: train=2.06559, val=2.13712, took 43.927 s\n",
      "  Validation Found 9048 of 10819, added 981 (eff 83.63%) (0.49 FP/event)\n"
     ]
    },
    {
     "data": {
      "application/vnd.jupyter.widget-view+json": {
       "model_id": "",
       "version_major": 2,
       "version_minor": 0
      },
      "text/plain": [
       "HBox(children=(FloatProgress(value=0.0, description='Training', layout=Layout(flex='2'), max=1125.0, style=Pro…"
      ]
     },
     "metadata": {},
     "output_type": "display_data"
    },
    {
     "name": "stdout",
     "output_type": "stream",
     "text": [
      "Epoch 975: train=2.06887, val=2.14, took 43.912 s\n",
      "  Validation Found 9043 of 10819, added 976 (eff 83.58%) (0.488 FP/event)\n"
     ]
    },
    {
     "data": {
      "application/vnd.jupyter.widget-view+json": {
       "model_id": "",
       "version_major": 2,
       "version_minor": 0
      },
      "text/plain": [
       "HBox(children=(FloatProgress(value=0.0, description='Training', layout=Layout(flex='2'), max=1125.0, style=Pro…"
      ]
     },
     "metadata": {},
     "output_type": "display_data"
    },
    {
     "name": "stdout",
     "output_type": "stream",
     "text": [
      "Epoch 976: train=2.06699, val=2.1393, took 43.702 s\n",
      "  Validation Found 9042 of 10819, added 980 (eff 83.58%) (0.49 FP/event)\n"
     ]
    },
    {
     "data": {
      "application/vnd.jupyter.widget-view+json": {
       "model_id": "",
       "version_major": 2,
       "version_minor": 0
      },
      "text/plain": [
       "HBox(children=(FloatProgress(value=0.0, description='Training', layout=Layout(flex='2'), max=1125.0, style=Pro…"
      ]
     },
     "metadata": {},
     "output_type": "display_data"
    },
    {
     "name": "stdout",
     "output_type": "stream",
     "text": [
      "Epoch 977: train=2.05945, val=2.15012, took 43.695 s\n",
      "  Validation Found 9035 of 10819, added 980 (eff 83.51%) (0.49 FP/event)\n"
     ]
    },
    {
     "data": {
      "application/vnd.jupyter.widget-view+json": {
       "model_id": "",
       "version_major": 2,
       "version_minor": 0
      },
      "text/plain": [
       "HBox(children=(FloatProgress(value=0.0, description='Training', layout=Layout(flex='2'), max=1125.0, style=Pro…"
      ]
     },
     "metadata": {},
     "output_type": "display_data"
    },
    {
     "name": "stdout",
     "output_type": "stream",
     "text": [
      "Epoch 978: train=2.06192, val=2.13596, took 43.598 s\n",
      "  Validation Found 9038 of 10819, added 984 (eff 83.54%) (0.492 FP/event)\n"
     ]
    },
    {
     "data": {
      "application/vnd.jupyter.widget-view+json": {
       "model_id": "",
       "version_major": 2,
       "version_minor": 0
      },
      "text/plain": [
       "HBox(children=(FloatProgress(value=0.0, description='Training', layout=Layout(flex='2'), max=1125.0, style=Pro…"
      ]
     },
     "metadata": {},
     "output_type": "display_data"
    },
    {
     "name": "stdout",
     "output_type": "stream",
     "text": [
      "Epoch 979: train=2.06261, val=2.14182, took 43.809 s\n",
      "  Validation Found 9047 of 10819, added 973 (eff 83.62%) (0.486 FP/event)\n"
     ]
    },
    {
     "data": {
      "application/vnd.jupyter.widget-view+json": {
       "model_id": "",
       "version_major": 2,
       "version_minor": 0
      },
      "text/plain": [
       "HBox(children=(FloatProgress(value=0.0, description='Training', layout=Layout(flex='2'), max=1125.0, style=Pro…"
      ]
     },
     "metadata": {},
     "output_type": "display_data"
    },
    {
     "name": "stdout",
     "output_type": "stream",
     "text": [
      "Epoch 980: train=2.06312, val=2.14025, took 43.885 s\n",
      "  Validation Found 9050 of 10819, added 978 (eff 83.65%) (0.489 FP/event)\n"
     ]
    },
    {
     "data": {
      "application/vnd.jupyter.widget-view+json": {
       "model_id": "",
       "version_major": 2,
       "version_minor": 0
      },
      "text/plain": [
       "HBox(children=(FloatProgress(value=0.0, description='Training', layout=Layout(flex='2'), max=1125.0, style=Pro…"
      ]
     },
     "metadata": {},
     "output_type": "display_data"
    },
    {
     "name": "stdout",
     "output_type": "stream",
     "text": [
      "Epoch 981: train=2.067, val=2.13667, took 43.741 s\n",
      "  Validation Found 9046 of 10819, added 981 (eff 83.61%) (0.49 FP/event)\n"
     ]
    },
    {
     "data": {
      "application/vnd.jupyter.widget-view+json": {
       "model_id": "",
       "version_major": 2,
       "version_minor": 0
      },
      "text/plain": [
       "HBox(children=(FloatProgress(value=0.0, description='Training', layout=Layout(flex='2'), max=1125.0, style=Pro…"
      ]
     },
     "metadata": {},
     "output_type": "display_data"
    },
    {
     "name": "stdout",
     "output_type": "stream",
     "text": [
      "Epoch 982: train=2.06629, val=2.13972, took 44.315 s\n",
      "  Validation Found 9044 of 10819, added 976 (eff 83.59%) (0.488 FP/event)\n"
     ]
    },
    {
     "data": {
      "application/vnd.jupyter.widget-view+json": {
       "model_id": "",
       "version_major": 2,
       "version_minor": 0
      },
      "text/plain": [
       "HBox(children=(FloatProgress(value=0.0, description='Training', layout=Layout(flex='2'), max=1125.0, style=Pro…"
      ]
     },
     "metadata": {},
     "output_type": "display_data"
    },
    {
     "name": "stdout",
     "output_type": "stream",
     "text": [
      "Epoch 983: train=2.06006, val=2.1392, took 44.026 s\n",
      "  Validation Found 9045 of 10819, added 985 (eff 83.60%) (0.492 FP/event)\n"
     ]
    },
    {
     "data": {
      "application/vnd.jupyter.widget-view+json": {
       "model_id": "",
       "version_major": 2,
       "version_minor": 0
      },
      "text/plain": [
       "HBox(children=(FloatProgress(value=0.0, description='Training', layout=Layout(flex='2'), max=1125.0, style=Pro…"
      ]
     },
     "metadata": {},
     "output_type": "display_data"
    },
    {
     "name": "stdout",
     "output_type": "stream",
     "text": [
      "Epoch 984: train=2.06269, val=2.13613, took 43.722 s\n",
      "  Validation Found 9046 of 10819, added 994 (eff 83.61%) (0.497 FP/event)\n"
     ]
    },
    {
     "data": {
      "application/vnd.jupyter.widget-view+json": {
       "model_id": "",
       "version_major": 2,
       "version_minor": 0
      },
      "text/plain": [
       "HBox(children=(FloatProgress(value=0.0, description='Training', layout=Layout(flex='2'), max=1125.0, style=Pro…"
      ]
     },
     "metadata": {},
     "output_type": "display_data"
    },
    {
     "name": "stdout",
     "output_type": "stream",
     "text": [
      "Epoch 985: train=2.06862, val=2.13799, took 43.997 s\n",
      "  Validation Found 9039 of 10819, added 981 (eff 83.55%) (0.49 FP/event)\n"
     ]
    },
    {
     "data": {
      "application/vnd.jupyter.widget-view+json": {
       "model_id": "",
       "version_major": 2,
       "version_minor": 0
      },
      "text/plain": [
       "HBox(children=(FloatProgress(value=0.0, description='Training', layout=Layout(flex='2'), max=1125.0, style=Pro…"
      ]
     },
     "metadata": {},
     "output_type": "display_data"
    },
    {
     "name": "stdout",
     "output_type": "stream",
     "text": [
      "Epoch 986: train=2.06127, val=2.13673, took 43.618 s\n",
      "  Validation Found 9059 of 10819, added 997 (eff 83.73%) (0.498 FP/event)\n"
     ]
    },
    {
     "data": {
      "application/vnd.jupyter.widget-view+json": {
       "model_id": "",
       "version_major": 2,
       "version_minor": 0
      },
      "text/plain": [
       "HBox(children=(FloatProgress(value=0.0, description='Training', layout=Layout(flex='2'), max=1125.0, style=Pro…"
      ]
     },
     "metadata": {},
     "output_type": "display_data"
    },
    {
     "name": "stdout",
     "output_type": "stream",
     "text": [
      "Epoch 987: train=2.06144, val=2.13674, took 43.802 s\n",
      "  Validation Found 9048 of 10819, added 989 (eff 83.63%) (0.494 FP/event)\n"
     ]
    },
    {
     "data": {
      "application/vnd.jupyter.widget-view+json": {
       "model_id": "",
       "version_major": 2,
       "version_minor": 0
      },
      "text/plain": [
       "HBox(children=(FloatProgress(value=0.0, description='Training', layout=Layout(flex='2'), max=1125.0, style=Pro…"
      ]
     },
     "metadata": {},
     "output_type": "display_data"
    },
    {
     "name": "stdout",
     "output_type": "stream",
     "text": [
      "Epoch 988: train=2.06111, val=2.13734, took 43.94 s\n",
      "  Validation Found 9044 of 10819, added 987 (eff 83.59%) (0.493 FP/event)\n"
     ]
    },
    {
     "data": {
      "application/vnd.jupyter.widget-view+json": {
       "model_id": "",
       "version_major": 2,
       "version_minor": 0
      },
      "text/plain": [
       "HBox(children=(FloatProgress(value=0.0, description='Training', layout=Layout(flex='2'), max=1125.0, style=Pro…"
      ]
     },
     "metadata": {},
     "output_type": "display_data"
    },
    {
     "name": "stdout",
     "output_type": "stream",
     "text": [
      "Epoch 989: train=2.0614, val=2.13638, took 44.082 s\n",
      "  Validation Found 9039 of 10819, added 988 (eff 83.55%) (0.494 FP/event)\n"
     ]
    },
    {
     "data": {
      "application/vnd.jupyter.widget-view+json": {
       "model_id": "",
       "version_major": 2,
       "version_minor": 0
      },
      "text/plain": [
       "HBox(children=(FloatProgress(value=0.0, description='Training', layout=Layout(flex='2'), max=1125.0, style=Pro…"
      ]
     },
     "metadata": {},
     "output_type": "display_data"
    },
    {
     "name": "stdout",
     "output_type": "stream",
     "text": [
      "Epoch 990: train=2.06234, val=2.13841, took 43.67 s\n",
      "  Validation Found 9045 of 10819, added 981 (eff 83.60%) (0.49 FP/event)\n"
     ]
    },
    {
     "data": {
      "application/vnd.jupyter.widget-view+json": {
       "model_id": "",
       "version_major": 2,
       "version_minor": 0
      },
      "text/plain": [
       "HBox(children=(FloatProgress(value=0.0, description='Training', layout=Layout(flex='2'), max=1125.0, style=Pro…"
      ]
     },
     "metadata": {},
     "output_type": "display_data"
    },
    {
     "name": "stdout",
     "output_type": "stream",
     "text": [
      "Epoch 991: train=2.06049, val=2.14022, took 43.692 s\n",
      "  Validation Found 9043 of 10819, added 981 (eff 83.58%) (0.49 FP/event)\n"
     ]
    },
    {
     "data": {
      "application/vnd.jupyter.widget-view+json": {
       "model_id": "",
       "version_major": 2,
       "version_minor": 0
      },
      "text/plain": [
       "HBox(children=(FloatProgress(value=0.0, description='Training', layout=Layout(flex='2'), max=1125.0, style=Pro…"
      ]
     },
     "metadata": {},
     "output_type": "display_data"
    },
    {
     "name": "stdout",
     "output_type": "stream",
     "text": [
      "Epoch 992: train=2.06386, val=2.13986, took 43.924 s\n",
      "  Validation Found 9041 of 10819, added 983 (eff 83.57%) (0.491 FP/event)\n"
     ]
    },
    {
     "data": {
      "application/vnd.jupyter.widget-view+json": {
       "model_id": "",
       "version_major": 2,
       "version_minor": 0
      },
      "text/plain": [
       "HBox(children=(FloatProgress(value=0.0, description='Training', layout=Layout(flex='2'), max=1125.0, style=Pro…"
      ]
     },
     "metadata": {},
     "output_type": "display_data"
    },
    {
     "name": "stdout",
     "output_type": "stream",
     "text": [
      "Epoch 993: train=2.05884, val=2.13727, took 43.877 s\n",
      "  Validation Found 9041 of 10819, added 982 (eff 83.57%) (0.491 FP/event)\n"
     ]
    },
    {
     "data": {
      "application/vnd.jupyter.widget-view+json": {
       "model_id": "",
       "version_major": 2,
       "version_minor": 0
      },
      "text/plain": [
       "HBox(children=(FloatProgress(value=0.0, description='Training', layout=Layout(flex='2'), max=1125.0, style=Pro…"
      ]
     },
     "metadata": {},
     "output_type": "display_data"
    },
    {
     "name": "stdout",
     "output_type": "stream",
     "text": [
      "Epoch 994: train=2.06585, val=2.13684, took 43.68 s\n",
      "  Validation Found 9042 of 10819, added 984 (eff 83.58%) (0.492 FP/event)\n"
     ]
    },
    {
     "data": {
      "application/vnd.jupyter.widget-view+json": {
       "model_id": "",
       "version_major": 2,
       "version_minor": 0
      },
      "text/plain": [
       "HBox(children=(FloatProgress(value=0.0, description='Training', layout=Layout(flex='2'), max=1125.0, style=Pro…"
      ]
     },
     "metadata": {},
     "output_type": "display_data"
    },
    {
     "name": "stdout",
     "output_type": "stream",
     "text": [
      "Epoch 995: train=2.0633, val=2.13967, took 43.733 s\n",
      "  Validation Found 9038 of 10819, added 978 (eff 83.54%) (0.489 FP/event)\n"
     ]
    },
    {
     "data": {
      "application/vnd.jupyter.widget-view+json": {
       "model_id": "",
       "version_major": 2,
       "version_minor": 0
      },
      "text/plain": [
       "HBox(children=(FloatProgress(value=0.0, description='Training', layout=Layout(flex='2'), max=1125.0, style=Pro…"
      ]
     },
     "metadata": {},
     "output_type": "display_data"
    },
    {
     "name": "stdout",
     "output_type": "stream",
     "text": [
      "Epoch 996: train=2.05934, val=2.14053, took 43.77 s\n",
      "  Validation Found 9053 of 10819, added 992 (eff 83.68%) (0.496 FP/event)\n"
     ]
    },
    {
     "data": {
      "application/vnd.jupyter.widget-view+json": {
       "model_id": "",
       "version_major": 2,
       "version_minor": 0
      },
      "text/plain": [
       "HBox(children=(FloatProgress(value=0.0, description='Training', layout=Layout(flex='2'), max=1125.0, style=Pro…"
      ]
     },
     "metadata": {},
     "output_type": "display_data"
    },
    {
     "name": "stdout",
     "output_type": "stream",
     "text": [
      "Epoch 997: train=2.06177, val=2.13722, took 43.808 s\n",
      "  Validation Found 9031 of 10819, added 975 (eff 83.47%) (0.487 FP/event)\n"
     ]
    },
    {
     "data": {
      "application/vnd.jupyter.widget-view+json": {
       "model_id": "",
       "version_major": 2,
       "version_minor": 0
      },
      "text/plain": [
       "HBox(children=(FloatProgress(value=0.0, description='Training', layout=Layout(flex='2'), max=1125.0, style=Pro…"
      ]
     },
     "metadata": {},
     "output_type": "display_data"
    },
    {
     "name": "stdout",
     "output_type": "stream",
     "text": [
      "Epoch 998: train=2.0587, val=2.14, took 44.259 s\n",
      "  Validation Found 9035 of 10819, added 977 (eff 83.51%) (0.488 FP/event)\n"
     ]
    },
    {
     "data": {
      "application/vnd.jupyter.widget-view+json": {
       "model_id": "",
       "version_major": 2,
       "version_minor": 0
      },
      "text/plain": [
       "HBox(children=(FloatProgress(value=0.0, description='Training', layout=Layout(flex='2'), max=1125.0, style=Pro…"
      ]
     },
     "metadata": {},
     "output_type": "display_data"
    },
    {
     "name": "stdout",
     "output_type": "stream",
     "text": [
      "Epoch 999: train=2.05767, val=2.13663, took 43.945 s\n",
      "  Validation Found 9037 of 10819, added 975 (eff 83.53%) (0.487 FP/event)\n",
      "\n"
     ]
    }
   ],
   "source": [
    "for result in trainNet(model, optimizer, loss,\n",
    "                        train_loader, val_loader,\n",
    "                        n_epochs, epoch_start=len(results),\n",
    "                        notebook=True):\n",
    "    \n",
    "    results = results.append(pd.Series(result._asdict()), ignore_index=True)\n",
    "    \n",
    "    xs = results.index\n",
    "##    print(\"xs = \",xs)\n",
    "    \n",
    "    # Update the plot above\n",
    "##    print(\"results.index = \",results.index,\"  results.cost\", results.cost)\n",
    "##    print(\"results.index = \",results.index,\"  results.val\", results.val)\n",
    "    lines['train'].set_data(results.index,results.cost)\n",
    "    lines['val'].set_data(results.index,results.val)\n",
    "    \n",
    "    #filter first cost epoch (can be really large)\n",
    "    max_cost = max(max(results.cost if len(results.cost)<2 else results.cost[1:]), max(results.val))\n",
    "    min_cost = min(min(results.cost), min(results.val))\n",
    "    \n",
    "    # The plot limits need updating too\n",
    "    \n",
    "    \n",
    "    \n",
    "    ax.set_ylim(min_cost*.9, max_cost*1.1)  \n",
    "    ax.set_xlim(-.5, len(results.cost) - .5)\n",
    "    \n",
    "    replace_in_ax(lax, lines['eff'], xs, results['eff_val'].apply(lambda x: x.eff_rate))\n",
    "    replace_in_ax(tax, lines['fp'], xs, results['eff_val'].apply(lambda x: x.fp_rate))\n",
    "    \n",
    "    # Redraw the figure\n",
    "    fig.canvas.draw()\n",
    "\n",
    "    # Save each model state dictionary\n",
    "    torch.save(model.state_dict(), output / f'{name}_{result.epoch}.pyt')"
   ]
  },
  {
   "cell_type": "code",
   "execution_count": 16,
   "metadata": {},
   "outputs": [],
   "source": [
    "torch.save(model.state_dict(), output / f'{name}_final.pyt')"
   ]
  },
  {
   "cell_type": "code",
   "execution_count": 17,
   "metadata": {},
   "outputs": [
    {
     "name": "stderr",
     "output_type": "stream",
     "text": [
      "/apps/miniconda3/envs/june2020-gpu/lib/python3.7/site-packages/pandas/core/generic.py:2505: PerformanceWarning: \n",
      "your performance may suffer as PyTables will pickle object types that it cannot\n",
      "map directly to c-types [inferred_type->mixed-integer,key->block1_values] [items->Index(['epoch', 'eff_val'], dtype='object')]\n",
      "\n",
      "  encoding=encoding,\n"
     ]
    }
   ],
   "source": [
    "results.to_hdf(f'{name}_stats.hdf5', 'results')"
   ]
  },
  {
   "cell_type": "code",
   "execution_count": 18,
   "metadata": {},
   "outputs": [
    {
     "data": {
      "application/javascript": [
       "/* Put everything inside the global mpl namespace */\n",
       "window.mpl = {};\n",
       "\n",
       "\n",
       "mpl.get_websocket_type = function() {\n",
       "    if (typeof(WebSocket) !== 'undefined') {\n",
       "        return WebSocket;\n",
       "    } else if (typeof(MozWebSocket) !== 'undefined') {\n",
       "        return MozWebSocket;\n",
       "    } else {\n",
       "        alert('Your browser does not have WebSocket support. ' +\n",
       "              'Please try Chrome, Safari or Firefox ≥ 6. ' +\n",
       "              'Firefox 4 and 5 are also supported but you ' +\n",
       "              'have to enable WebSockets in about:config.');\n",
       "    };\n",
       "}\n",
       "\n",
       "mpl.figure = function(figure_id, websocket, ondownload, parent_element) {\n",
       "    this.id = figure_id;\n",
       "\n",
       "    this.ws = websocket;\n",
       "\n",
       "    this.supports_binary = (this.ws.binaryType != undefined);\n",
       "\n",
       "    if (!this.supports_binary) {\n",
       "        var warnings = document.getElementById(\"mpl-warnings\");\n",
       "        if (warnings) {\n",
       "            warnings.style.display = 'block';\n",
       "            warnings.textContent = (\n",
       "                \"This browser does not support binary websocket messages. \" +\n",
       "                    \"Performance may be slow.\");\n",
       "        }\n",
       "    }\n",
       "\n",
       "    this.imageObj = new Image();\n",
       "\n",
       "    this.context = undefined;\n",
       "    this.message = undefined;\n",
       "    this.canvas = undefined;\n",
       "    this.rubberband_canvas = undefined;\n",
       "    this.rubberband_context = undefined;\n",
       "    this.format_dropdown = undefined;\n",
       "\n",
       "    this.image_mode = 'full';\n",
       "\n",
       "    this.root = $('<div/>');\n",
       "    this._root_extra_style(this.root)\n",
       "    this.root.attr('style', 'display: inline-block');\n",
       "\n",
       "    $(parent_element).append(this.root);\n",
       "\n",
       "    this._init_header(this);\n",
       "    this._init_canvas(this);\n",
       "    this._init_toolbar(this);\n",
       "\n",
       "    var fig = this;\n",
       "\n",
       "    this.waiting = false;\n",
       "\n",
       "    this.ws.onopen =  function () {\n",
       "            fig.send_message(\"supports_binary\", {value: fig.supports_binary});\n",
       "            fig.send_message(\"send_image_mode\", {});\n",
       "            if (mpl.ratio != 1) {\n",
       "                fig.send_message(\"set_dpi_ratio\", {'dpi_ratio': mpl.ratio});\n",
       "            }\n",
       "            fig.send_message(\"refresh\", {});\n",
       "        }\n",
       "\n",
       "    this.imageObj.onload = function() {\n",
       "            if (fig.image_mode == 'full') {\n",
       "                // Full images could contain transparency (where diff images\n",
       "                // almost always do), so we need to clear the canvas so that\n",
       "                // there is no ghosting.\n",
       "                fig.context.clearRect(0, 0, fig.canvas.width, fig.canvas.height);\n",
       "            }\n",
       "            fig.context.drawImage(fig.imageObj, 0, 0);\n",
       "        };\n",
       "\n",
       "    this.imageObj.onunload = function() {\n",
       "        fig.ws.close();\n",
       "    }\n",
       "\n",
       "    this.ws.onmessage = this._make_on_message_function(this);\n",
       "\n",
       "    this.ondownload = ondownload;\n",
       "}\n",
       "\n",
       "mpl.figure.prototype._init_header = function() {\n",
       "    var titlebar = $(\n",
       "        '<div class=\"ui-dialog-titlebar ui-widget-header ui-corner-all ' +\n",
       "        'ui-helper-clearfix\"/>');\n",
       "    var titletext = $(\n",
       "        '<div class=\"ui-dialog-title\" style=\"width: 100%; ' +\n",
       "        'text-align: center; padding: 3px;\"/>');\n",
       "    titlebar.append(titletext)\n",
       "    this.root.append(titlebar);\n",
       "    this.header = titletext[0];\n",
       "}\n",
       "\n",
       "\n",
       "\n",
       "mpl.figure.prototype._canvas_extra_style = function(canvas_div) {\n",
       "\n",
       "}\n",
       "\n",
       "\n",
       "mpl.figure.prototype._root_extra_style = function(canvas_div) {\n",
       "\n",
       "}\n",
       "\n",
       "mpl.figure.prototype._init_canvas = function() {\n",
       "    var fig = this;\n",
       "\n",
       "    var canvas_div = $('<div/>');\n",
       "\n",
       "    canvas_div.attr('style', 'position: relative; clear: both; outline: 0');\n",
       "\n",
       "    function canvas_keyboard_event(event) {\n",
       "        return fig.key_event(event, event['data']);\n",
       "    }\n",
       "\n",
       "    canvas_div.keydown('key_press', canvas_keyboard_event);\n",
       "    canvas_div.keyup('key_release', canvas_keyboard_event);\n",
       "    this.canvas_div = canvas_div\n",
       "    this._canvas_extra_style(canvas_div)\n",
       "    this.root.append(canvas_div);\n",
       "\n",
       "    var canvas = $('<canvas/>');\n",
       "    canvas.addClass('mpl-canvas');\n",
       "    canvas.attr('style', \"left: 0; top: 0; z-index: 0; outline: 0\")\n",
       "\n",
       "    this.canvas = canvas[0];\n",
       "    this.context = canvas[0].getContext(\"2d\");\n",
       "\n",
       "    var backingStore = this.context.backingStorePixelRatio ||\n",
       "\tthis.context.webkitBackingStorePixelRatio ||\n",
       "\tthis.context.mozBackingStorePixelRatio ||\n",
       "\tthis.context.msBackingStorePixelRatio ||\n",
       "\tthis.context.oBackingStorePixelRatio ||\n",
       "\tthis.context.backingStorePixelRatio || 1;\n",
       "\n",
       "    mpl.ratio = (window.devicePixelRatio || 1) / backingStore;\n",
       "\n",
       "    var rubberband = $('<canvas/>');\n",
       "    rubberband.attr('style', \"position: absolute; left: 0; top: 0; z-index: 1;\")\n",
       "\n",
       "    var pass_mouse_events = true;\n",
       "\n",
       "    canvas_div.resizable({\n",
       "        start: function(event, ui) {\n",
       "            pass_mouse_events = false;\n",
       "        },\n",
       "        resize: function(event, ui) {\n",
       "            fig.request_resize(ui.size.width, ui.size.height);\n",
       "        },\n",
       "        stop: function(event, ui) {\n",
       "            pass_mouse_events = true;\n",
       "            fig.request_resize(ui.size.width, ui.size.height);\n",
       "        },\n",
       "    });\n",
       "\n",
       "    function mouse_event_fn(event) {\n",
       "        if (pass_mouse_events)\n",
       "            return fig.mouse_event(event, event['data']);\n",
       "    }\n",
       "\n",
       "    rubberband.mousedown('button_press', mouse_event_fn);\n",
       "    rubberband.mouseup('button_release', mouse_event_fn);\n",
       "    // Throttle sequential mouse events to 1 every 20ms.\n",
       "    rubberband.mousemove('motion_notify', mouse_event_fn);\n",
       "\n",
       "    rubberband.mouseenter('figure_enter', mouse_event_fn);\n",
       "    rubberband.mouseleave('figure_leave', mouse_event_fn);\n",
       "\n",
       "    canvas_div.on(\"wheel\", function (event) {\n",
       "        event = event.originalEvent;\n",
       "        event['data'] = 'scroll'\n",
       "        if (event.deltaY < 0) {\n",
       "            event.step = 1;\n",
       "        } else {\n",
       "            event.step = -1;\n",
       "        }\n",
       "        mouse_event_fn(event);\n",
       "    });\n",
       "\n",
       "    canvas_div.append(canvas);\n",
       "    canvas_div.append(rubberband);\n",
       "\n",
       "    this.rubberband = rubberband;\n",
       "    this.rubberband_canvas = rubberband[0];\n",
       "    this.rubberband_context = rubberband[0].getContext(\"2d\");\n",
       "    this.rubberband_context.strokeStyle = \"#000000\";\n",
       "\n",
       "    this._resize_canvas = function(width, height) {\n",
       "        // Keep the size of the canvas, canvas container, and rubber band\n",
       "        // canvas in synch.\n",
       "        canvas_div.css('width', width)\n",
       "        canvas_div.css('height', height)\n",
       "\n",
       "        canvas.attr('width', width * mpl.ratio);\n",
       "        canvas.attr('height', height * mpl.ratio);\n",
       "        canvas.attr('style', 'width: ' + width + 'px; height: ' + height + 'px;');\n",
       "\n",
       "        rubberband.attr('width', width);\n",
       "        rubberband.attr('height', height);\n",
       "    }\n",
       "\n",
       "    // Set the figure to an initial 600x600px, this will subsequently be updated\n",
       "    // upon first draw.\n",
       "    this._resize_canvas(600, 600);\n",
       "\n",
       "    // Disable right mouse context menu.\n",
       "    $(this.rubberband_canvas).bind(\"contextmenu\",function(e){\n",
       "        return false;\n",
       "    });\n",
       "\n",
       "    function set_focus () {\n",
       "        canvas.focus();\n",
       "        canvas_div.focus();\n",
       "    }\n",
       "\n",
       "    window.setTimeout(set_focus, 100);\n",
       "}\n",
       "\n",
       "mpl.figure.prototype._init_toolbar = function() {\n",
       "    var fig = this;\n",
       "\n",
       "    var nav_element = $('<div/>');\n",
       "    nav_element.attr('style', 'width: 100%');\n",
       "    this.root.append(nav_element);\n",
       "\n",
       "    // Define a callback function for later on.\n",
       "    function toolbar_event(event) {\n",
       "        return fig.toolbar_button_onclick(event['data']);\n",
       "    }\n",
       "    function toolbar_mouse_event(event) {\n",
       "        return fig.toolbar_button_onmouseover(event['data']);\n",
       "    }\n",
       "\n",
       "    for(var toolbar_ind in mpl.toolbar_items) {\n",
       "        var name = mpl.toolbar_items[toolbar_ind][0];\n",
       "        var tooltip = mpl.toolbar_items[toolbar_ind][1];\n",
       "        var image = mpl.toolbar_items[toolbar_ind][2];\n",
       "        var method_name = mpl.toolbar_items[toolbar_ind][3];\n",
       "\n",
       "        if (!name) {\n",
       "            // put a spacer in here.\n",
       "            continue;\n",
       "        }\n",
       "        var button = $('<button/>');\n",
       "        button.addClass('ui-button ui-widget ui-state-default ui-corner-all ' +\n",
       "                        'ui-button-icon-only');\n",
       "        button.attr('role', 'button');\n",
       "        button.attr('aria-disabled', 'false');\n",
       "        button.click(method_name, toolbar_event);\n",
       "        button.mouseover(tooltip, toolbar_mouse_event);\n",
       "\n",
       "        var icon_img = $('<span/>');\n",
       "        icon_img.addClass('ui-button-icon-primary ui-icon');\n",
       "        icon_img.addClass(image);\n",
       "        icon_img.addClass('ui-corner-all');\n",
       "\n",
       "        var tooltip_span = $('<span/>');\n",
       "        tooltip_span.addClass('ui-button-text');\n",
       "        tooltip_span.html(tooltip);\n",
       "\n",
       "        button.append(icon_img);\n",
       "        button.append(tooltip_span);\n",
       "\n",
       "        nav_element.append(button);\n",
       "    }\n",
       "\n",
       "    var fmt_picker_span = $('<span/>');\n",
       "\n",
       "    var fmt_picker = $('<select/>');\n",
       "    fmt_picker.addClass('mpl-toolbar-option ui-widget ui-widget-content');\n",
       "    fmt_picker_span.append(fmt_picker);\n",
       "    nav_element.append(fmt_picker_span);\n",
       "    this.format_dropdown = fmt_picker[0];\n",
       "\n",
       "    for (var ind in mpl.extensions) {\n",
       "        var fmt = mpl.extensions[ind];\n",
       "        var option = $(\n",
       "            '<option/>', {selected: fmt === mpl.default_extension}).html(fmt);\n",
       "        fmt_picker.append(option);\n",
       "    }\n",
       "\n",
       "    // Add hover states to the ui-buttons\n",
       "    $( \".ui-button\" ).hover(\n",
       "        function() { $(this).addClass(\"ui-state-hover\");},\n",
       "        function() { $(this).removeClass(\"ui-state-hover\");}\n",
       "    );\n",
       "\n",
       "    var status_bar = $('<span class=\"mpl-message\"/>');\n",
       "    nav_element.append(status_bar);\n",
       "    this.message = status_bar[0];\n",
       "}\n",
       "\n",
       "mpl.figure.prototype.request_resize = function(x_pixels, y_pixels) {\n",
       "    // Request matplotlib to resize the figure. Matplotlib will then trigger a resize in the client,\n",
       "    // which will in turn request a refresh of the image.\n",
       "    this.send_message('resize', {'width': x_pixels, 'height': y_pixels});\n",
       "}\n",
       "\n",
       "mpl.figure.prototype.send_message = function(type, properties) {\n",
       "    properties['type'] = type;\n",
       "    properties['figure_id'] = this.id;\n",
       "    this.ws.send(JSON.stringify(properties));\n",
       "}\n",
       "\n",
       "mpl.figure.prototype.send_draw_message = function() {\n",
       "    if (!this.waiting) {\n",
       "        this.waiting = true;\n",
       "        this.ws.send(JSON.stringify({type: \"draw\", figure_id: this.id}));\n",
       "    }\n",
       "}\n",
       "\n",
       "\n",
       "mpl.figure.prototype.handle_save = function(fig, msg) {\n",
       "    var format_dropdown = fig.format_dropdown;\n",
       "    var format = format_dropdown.options[format_dropdown.selectedIndex].value;\n",
       "    fig.ondownload(fig, format);\n",
       "}\n",
       "\n",
       "\n",
       "mpl.figure.prototype.handle_resize = function(fig, msg) {\n",
       "    var size = msg['size'];\n",
       "    if (size[0] != fig.canvas.width || size[1] != fig.canvas.height) {\n",
       "        fig._resize_canvas(size[0], size[1]);\n",
       "        fig.send_message(\"refresh\", {});\n",
       "    };\n",
       "}\n",
       "\n",
       "mpl.figure.prototype.handle_rubberband = function(fig, msg) {\n",
       "    var x0 = msg['x0'] / mpl.ratio;\n",
       "    var y0 = (fig.canvas.height - msg['y0']) / mpl.ratio;\n",
       "    var x1 = msg['x1'] / mpl.ratio;\n",
       "    var y1 = (fig.canvas.height - msg['y1']) / mpl.ratio;\n",
       "    x0 = Math.floor(x0) + 0.5;\n",
       "    y0 = Math.floor(y0) + 0.5;\n",
       "    x1 = Math.floor(x1) + 0.5;\n",
       "    y1 = Math.floor(y1) + 0.5;\n",
       "    var min_x = Math.min(x0, x1);\n",
       "    var min_y = Math.min(y0, y1);\n",
       "    var width = Math.abs(x1 - x0);\n",
       "    var height = Math.abs(y1 - y0);\n",
       "\n",
       "    fig.rubberband_context.clearRect(\n",
       "        0, 0, fig.canvas.width / mpl.ratio, fig.canvas.height / mpl.ratio);\n",
       "\n",
       "    fig.rubberband_context.strokeRect(min_x, min_y, width, height);\n",
       "}\n",
       "\n",
       "mpl.figure.prototype.handle_figure_label = function(fig, msg) {\n",
       "    // Updates the figure title.\n",
       "    fig.header.textContent = msg['label'];\n",
       "}\n",
       "\n",
       "mpl.figure.prototype.handle_cursor = function(fig, msg) {\n",
       "    var cursor = msg['cursor'];\n",
       "    switch(cursor)\n",
       "    {\n",
       "    case 0:\n",
       "        cursor = 'pointer';\n",
       "        break;\n",
       "    case 1:\n",
       "        cursor = 'default';\n",
       "        break;\n",
       "    case 2:\n",
       "        cursor = 'crosshair';\n",
       "        break;\n",
       "    case 3:\n",
       "        cursor = 'move';\n",
       "        break;\n",
       "    }\n",
       "    fig.rubberband_canvas.style.cursor = cursor;\n",
       "}\n",
       "\n",
       "mpl.figure.prototype.handle_message = function(fig, msg) {\n",
       "    fig.message.textContent = msg['message'];\n",
       "}\n",
       "\n",
       "mpl.figure.prototype.handle_draw = function(fig, msg) {\n",
       "    // Request the server to send over a new figure.\n",
       "    fig.send_draw_message();\n",
       "}\n",
       "\n",
       "mpl.figure.prototype.handle_image_mode = function(fig, msg) {\n",
       "    fig.image_mode = msg['mode'];\n",
       "}\n",
       "\n",
       "mpl.figure.prototype.updated_canvas_event = function() {\n",
       "    // Called whenever the canvas gets updated.\n",
       "    this.send_message(\"ack\", {});\n",
       "}\n",
       "\n",
       "// A function to construct a web socket function for onmessage handling.\n",
       "// Called in the figure constructor.\n",
       "mpl.figure.prototype._make_on_message_function = function(fig) {\n",
       "    return function socket_on_message(evt) {\n",
       "        if (evt.data instanceof Blob) {\n",
       "            /* FIXME: We get \"Resource interpreted as Image but\n",
       "             * transferred with MIME type text/plain:\" errors on\n",
       "             * Chrome.  But how to set the MIME type?  It doesn't seem\n",
       "             * to be part of the websocket stream */\n",
       "            evt.data.type = \"image/png\";\n",
       "\n",
       "            /* Free the memory for the previous frames */\n",
       "            if (fig.imageObj.src) {\n",
       "                (window.URL || window.webkitURL).revokeObjectURL(\n",
       "                    fig.imageObj.src);\n",
       "            }\n",
       "\n",
       "            fig.imageObj.src = (window.URL || window.webkitURL).createObjectURL(\n",
       "                evt.data);\n",
       "            fig.updated_canvas_event();\n",
       "            fig.waiting = false;\n",
       "            return;\n",
       "        }\n",
       "        else if (typeof evt.data === 'string' && evt.data.slice(0, 21) == \"data:image/png;base64\") {\n",
       "            fig.imageObj.src = evt.data;\n",
       "            fig.updated_canvas_event();\n",
       "            fig.waiting = false;\n",
       "            return;\n",
       "        }\n",
       "\n",
       "        var msg = JSON.parse(evt.data);\n",
       "        var msg_type = msg['type'];\n",
       "\n",
       "        // Call the  \"handle_{type}\" callback, which takes\n",
       "        // the figure and JSON message as its only arguments.\n",
       "        try {\n",
       "            var callback = fig[\"handle_\" + msg_type];\n",
       "        } catch (e) {\n",
       "            console.log(\"No handler for the '\" + msg_type + \"' message type: \", msg);\n",
       "            return;\n",
       "        }\n",
       "\n",
       "        if (callback) {\n",
       "            try {\n",
       "                // console.log(\"Handling '\" + msg_type + \"' message: \", msg);\n",
       "                callback(fig, msg);\n",
       "            } catch (e) {\n",
       "                console.log(\"Exception inside the 'handler_\" + msg_type + \"' callback:\", e, e.stack, msg);\n",
       "            }\n",
       "        }\n",
       "    };\n",
       "}\n",
       "\n",
       "// from http://stackoverflow.com/questions/1114465/getting-mouse-location-in-canvas\n",
       "mpl.findpos = function(e) {\n",
       "    //this section is from http://www.quirksmode.org/js/events_properties.html\n",
       "    var targ;\n",
       "    if (!e)\n",
       "        e = window.event;\n",
       "    if (e.target)\n",
       "        targ = e.target;\n",
       "    else if (e.srcElement)\n",
       "        targ = e.srcElement;\n",
       "    if (targ.nodeType == 3) // defeat Safari bug\n",
       "        targ = targ.parentNode;\n",
       "\n",
       "    // jQuery normalizes the pageX and pageY\n",
       "    // pageX,Y are the mouse positions relative to the document\n",
       "    // offset() returns the position of the element relative to the document\n",
       "    var x = e.pageX - $(targ).offset().left;\n",
       "    var y = e.pageY - $(targ).offset().top;\n",
       "\n",
       "    return {\"x\": x, \"y\": y};\n",
       "};\n",
       "\n",
       "/*\n",
       " * return a copy of an object with only non-object keys\n",
       " * we need this to avoid circular references\n",
       " * http://stackoverflow.com/a/24161582/3208463\n",
       " */\n",
       "function simpleKeys (original) {\n",
       "  return Object.keys(original).reduce(function (obj, key) {\n",
       "    if (typeof original[key] !== 'object')\n",
       "        obj[key] = original[key]\n",
       "    return obj;\n",
       "  }, {});\n",
       "}\n",
       "\n",
       "mpl.figure.prototype.mouse_event = function(event, name) {\n",
       "    var canvas_pos = mpl.findpos(event)\n",
       "\n",
       "    if (name === 'button_press')\n",
       "    {\n",
       "        this.canvas.focus();\n",
       "        this.canvas_div.focus();\n",
       "    }\n",
       "\n",
       "    var x = canvas_pos.x * mpl.ratio;\n",
       "    var y = canvas_pos.y * mpl.ratio;\n",
       "\n",
       "    this.send_message(name, {x: x, y: y, button: event.button,\n",
       "                             step: event.step,\n",
       "                             guiEvent: simpleKeys(event)});\n",
       "\n",
       "    /* This prevents the web browser from automatically changing to\n",
       "     * the text insertion cursor when the button is pressed.  We want\n",
       "     * to control all of the cursor setting manually through the\n",
       "     * 'cursor' event from matplotlib */\n",
       "    event.preventDefault();\n",
       "    return false;\n",
       "}\n",
       "\n",
       "mpl.figure.prototype._key_event_extra = function(event, name) {\n",
       "    // Handle any extra behaviour associated with a key event\n",
       "}\n",
       "\n",
       "mpl.figure.prototype.key_event = function(event, name) {\n",
       "\n",
       "    // Prevent repeat events\n",
       "    if (name == 'key_press')\n",
       "    {\n",
       "        if (event.which === this._key)\n",
       "            return;\n",
       "        else\n",
       "            this._key = event.which;\n",
       "    }\n",
       "    if (name == 'key_release')\n",
       "        this._key = null;\n",
       "\n",
       "    var value = '';\n",
       "    if (event.ctrlKey && event.which != 17)\n",
       "        value += \"ctrl+\";\n",
       "    if (event.altKey && event.which != 18)\n",
       "        value += \"alt+\";\n",
       "    if (event.shiftKey && event.which != 16)\n",
       "        value += \"shift+\";\n",
       "\n",
       "    value += 'k';\n",
       "    value += event.which.toString();\n",
       "\n",
       "    this._key_event_extra(event, name);\n",
       "\n",
       "    this.send_message(name, {key: value,\n",
       "                             guiEvent: simpleKeys(event)});\n",
       "    return false;\n",
       "}\n",
       "\n",
       "mpl.figure.prototype.toolbar_button_onclick = function(name) {\n",
       "    if (name == 'download') {\n",
       "        this.handle_save(this, null);\n",
       "    } else {\n",
       "        this.send_message(\"toolbar_button\", {name: name});\n",
       "    }\n",
       "};\n",
       "\n",
       "mpl.figure.prototype.toolbar_button_onmouseover = function(tooltip) {\n",
       "    this.message.textContent = tooltip;\n",
       "};\n",
       "mpl.toolbar_items = [[\"Home\", \"Reset original view\", \"fa fa-home icon-home\", \"home\"], [\"Back\", \"Back to previous view\", \"fa fa-arrow-left icon-arrow-left\", \"back\"], [\"Forward\", \"Forward to next view\", \"fa fa-arrow-right icon-arrow-right\", \"forward\"], [\"\", \"\", \"\", \"\"], [\"Pan\", \"Pan axes with left mouse, zoom with right\", \"fa fa-arrows icon-move\", \"pan\"], [\"Zoom\", \"Zoom to rectangle\", \"fa fa-square-o icon-check-empty\", \"zoom\"], [\"\", \"\", \"\", \"\"], [\"Download\", \"Download plot\", \"fa fa-floppy-o icon-save\", \"download\"]];\n",
       "\n",
       "mpl.extensions = [\"eps\", \"jpeg\", \"pdf\", \"png\", \"ps\", \"raw\", \"svg\", \"tif\"];\n",
       "\n",
       "mpl.default_extension = \"png\";var comm_websocket_adapter = function(comm) {\n",
       "    // Create a \"websocket\"-like object which calls the given IPython comm\n",
       "    // object with the appropriate methods. Currently this is a non binary\n",
       "    // socket, so there is still some room for performance tuning.\n",
       "    var ws = {};\n",
       "\n",
       "    ws.close = function() {\n",
       "        comm.close()\n",
       "    };\n",
       "    ws.send = function(m) {\n",
       "        //console.log('sending', m);\n",
       "        comm.send(m);\n",
       "    };\n",
       "    // Register the callback with on_msg.\n",
       "    comm.on_msg(function(msg) {\n",
       "        //console.log('receiving', msg['content']['data'], msg);\n",
       "        // Pass the mpl event to the overridden (by mpl) onmessage function.\n",
       "        ws.onmessage(msg['content']['data'])\n",
       "    });\n",
       "    return ws;\n",
       "}\n",
       "\n",
       "mpl.mpl_figure_comm = function(comm, msg) {\n",
       "    // This is the function which gets called when the mpl process\n",
       "    // starts-up an IPython Comm through the \"matplotlib\" channel.\n",
       "\n",
       "    var id = msg.content.data.id;\n",
       "    // Get hold of the div created by the display call when the Comm\n",
       "    // socket was opened in Python.\n",
       "    var element = $(\"#\" + id);\n",
       "    var ws_proxy = comm_websocket_adapter(comm)\n",
       "\n",
       "    function ondownload(figure, format) {\n",
       "        window.open(figure.imageObj.src);\n",
       "    }\n",
       "\n",
       "    var fig = new mpl.figure(id, ws_proxy,\n",
       "                           ondownload,\n",
       "                           element.get(0));\n",
       "\n",
       "    // Call onopen now - mpl needs it, as it is assuming we've passed it a real\n",
       "    // web socket which is closed, not our websocket->open comm proxy.\n",
       "    ws_proxy.onopen();\n",
       "\n",
       "    fig.parent_element = element.get(0);\n",
       "    fig.cell_info = mpl.find_output_cell(\"<div id='\" + id + \"'></div>\");\n",
       "    if (!fig.cell_info) {\n",
       "        console.error(\"Failed to find cell for figure\", id, fig);\n",
       "        return;\n",
       "    }\n",
       "\n",
       "    var output_index = fig.cell_info[2]\n",
       "    var cell = fig.cell_info[0];\n",
       "\n",
       "};\n",
       "\n",
       "mpl.figure.prototype.handle_close = function(fig, msg) {\n",
       "    var width = fig.canvas.width/mpl.ratio\n",
       "    fig.root.unbind('remove')\n",
       "\n",
       "    // Update the output cell to use the data from the current canvas.\n",
       "    fig.push_to_output();\n",
       "    var dataURL = fig.canvas.toDataURL();\n",
       "    // Re-enable the keyboard manager in IPython - without this line, in FF,\n",
       "    // the notebook keyboard shortcuts fail.\n",
       "    IPython.keyboard_manager.enable()\n",
       "    $(fig.parent_element).html('<img src=\"' + dataURL + '\" width=\"' + width + '\">');\n",
       "    fig.close_ws(fig, msg);\n",
       "}\n",
       "\n",
       "mpl.figure.prototype.close_ws = function(fig, msg){\n",
       "    fig.send_message('closing', msg);\n",
       "    // fig.ws.close()\n",
       "}\n",
       "\n",
       "mpl.figure.prototype.push_to_output = function(remove_interactive) {\n",
       "    // Turn the data on the canvas into data in the output cell.\n",
       "    var width = this.canvas.width/mpl.ratio\n",
       "    var dataURL = this.canvas.toDataURL();\n",
       "    this.cell_info[1]['text/html'] = '<img src=\"' + dataURL + '\" width=\"' + width + '\">';\n",
       "}\n",
       "\n",
       "mpl.figure.prototype.updated_canvas_event = function() {\n",
       "    // Tell IPython that the notebook contents must change.\n",
       "    IPython.notebook.set_dirty(true);\n",
       "    this.send_message(\"ack\", {});\n",
       "    var fig = this;\n",
       "    // Wait a second, then push the new image to the DOM so\n",
       "    // that it is saved nicely (might be nice to debounce this).\n",
       "    setTimeout(function () { fig.push_to_output() }, 1000);\n",
       "}\n",
       "\n",
       "mpl.figure.prototype._init_toolbar = function() {\n",
       "    var fig = this;\n",
       "\n",
       "    var nav_element = $('<div/>');\n",
       "    nav_element.attr('style', 'width: 100%');\n",
       "    this.root.append(nav_element);\n",
       "\n",
       "    // Define a callback function for later on.\n",
       "    function toolbar_event(event) {\n",
       "        return fig.toolbar_button_onclick(event['data']);\n",
       "    }\n",
       "    function toolbar_mouse_event(event) {\n",
       "        return fig.toolbar_button_onmouseover(event['data']);\n",
       "    }\n",
       "\n",
       "    for(var toolbar_ind in mpl.toolbar_items){\n",
       "        var name = mpl.toolbar_items[toolbar_ind][0];\n",
       "        var tooltip = mpl.toolbar_items[toolbar_ind][1];\n",
       "        var image = mpl.toolbar_items[toolbar_ind][2];\n",
       "        var method_name = mpl.toolbar_items[toolbar_ind][3];\n",
       "\n",
       "        if (!name) { continue; };\n",
       "\n",
       "        var button = $('<button class=\"btn btn-default\" href=\"#\" title=\"' + name + '\"><i class=\"fa ' + image + ' fa-lg\"></i></button>');\n",
       "        button.click(method_name, toolbar_event);\n",
       "        button.mouseover(tooltip, toolbar_mouse_event);\n",
       "        nav_element.append(button);\n",
       "    }\n",
       "\n",
       "    // Add the status bar.\n",
       "    var status_bar = $('<span class=\"mpl-message\" style=\"text-align:right; float: right;\"/>');\n",
       "    nav_element.append(status_bar);\n",
       "    this.message = status_bar[0];\n",
       "\n",
       "    // Add the close button to the window.\n",
       "    var buttongrp = $('<div class=\"btn-group inline pull-right\"></div>');\n",
       "    var button = $('<button class=\"btn btn-mini btn-primary\" href=\"#\" title=\"Stop Interaction\"><i class=\"fa fa-power-off icon-remove icon-large\"></i></button>');\n",
       "    button.click(function (evt) { fig.handle_close(fig, {}); } );\n",
       "    button.mouseover('Stop Interaction', toolbar_mouse_event);\n",
       "    buttongrp.append(button);\n",
       "    var titlebar = this.root.find($('.ui-dialog-titlebar'));\n",
       "    titlebar.prepend(buttongrp);\n",
       "}\n",
       "\n",
       "mpl.figure.prototype._root_extra_style = function(el){\n",
       "    var fig = this\n",
       "    el.on(\"remove\", function(){\n",
       "\tfig.close_ws(fig, {});\n",
       "    });\n",
       "}\n",
       "\n",
       "mpl.figure.prototype._canvas_extra_style = function(el){\n",
       "    // this is important to make the div 'focusable\n",
       "    el.attr('tabindex', 0)\n",
       "    // reach out to IPython and tell the keyboard manager to turn it's self\n",
       "    // off when our div gets focus\n",
       "\n",
       "    // location in version 3\n",
       "    if (IPython.notebook.keyboard_manager) {\n",
       "        IPython.notebook.keyboard_manager.register_events(el);\n",
       "    }\n",
       "    else {\n",
       "        // location in version 2\n",
       "        IPython.keyboard_manager.register_events(el);\n",
       "    }\n",
       "\n",
       "}\n",
       "\n",
       "mpl.figure.prototype._key_event_extra = function(event, name) {\n",
       "    var manager = IPython.notebook.keyboard_manager;\n",
       "    if (!manager)\n",
       "        manager = IPython.keyboard_manager;\n",
       "\n",
       "    // Check for shift+enter\n",
       "    if (event.shiftKey && event.which == 13) {\n",
       "        this.canvas_div.blur();\n",
       "        // select the cell after this one\n",
       "        var index = IPython.notebook.find_cell_index(this.cell_info[0]);\n",
       "        IPython.notebook.select(index + 1);\n",
       "    }\n",
       "}\n",
       "\n",
       "mpl.figure.prototype.handle_save = function(fig, msg) {\n",
       "    fig.ondownload(fig, null);\n",
       "}\n",
       "\n",
       "\n",
       "mpl.find_output_cell = function(html_output) {\n",
       "    // Return the cell and output element which can be found *uniquely* in the notebook.\n",
       "    // Note - this is a bit hacky, but it is done because the \"notebook_saving.Notebook\"\n",
       "    // IPython event is triggered only after the cells have been serialised, which for\n",
       "    // our purposes (turning an active figure into a static one), is too late.\n",
       "    var cells = IPython.notebook.get_cells();\n",
       "    var ncells = cells.length;\n",
       "    for (var i=0; i<ncells; i++) {\n",
       "        var cell = cells[i];\n",
       "        if (cell.cell_type === 'code'){\n",
       "            for (var j=0; j<cell.output_area.outputs.length; j++) {\n",
       "                var data = cell.output_area.outputs[j];\n",
       "                if (data.data) {\n",
       "                    // IPython >= 3 moved mimebundle to data attribute of output\n",
       "                    data = data.data;\n",
       "                }\n",
       "                if (data['text/html'] == html_output) {\n",
       "                    return [cell, data, j];\n",
       "                }\n",
       "            }\n",
       "        }\n",
       "    }\n",
       "}\n",
       "\n",
       "// Register the function which deals with the matplotlib target/channel.\n",
       "// The kernel may be null if the page has been refreshed.\n",
       "if (IPython.notebook.kernel != null) {\n",
       "    IPython.notebook.kernel.comm_manager.register_target('matplotlib', mpl.mpl_figure_comm);\n",
       "}\n"
      ],
      "text/plain": [
       "<IPython.core.display.Javascript object>"
      ]
     },
     "metadata": {},
     "output_type": "display_data"
    },
    {
     "data": {
      "text/html": [
       "<img src=\"data:image/png;base64,iVBORw0KGgoAAAANSUhEUgAABLAAAAJYCAYAAABy5h8aAAAgAElEQVR4nOydeXgUVdr2KyEkhEWICAkZNS4EFBFGcYmjIyITCaAi84I6M/oiSBzHXVwiAQkQAQUcBBVxA8c3bMNkBBNAEkgCKlFRPhTMSAgJM0zCYpQlBKXSnfv7o+10VW+1dFV3dff9u67nSvp01alzTm157jznOQIIIYQQQgghhBBCCLEwQqgbQAghhBBCCCGEEEKIPyhgEUIIIYQQQgghhBBLQwGLEEIIIYQQQgghhFgaCliEEEIIIYQQQgghxNJQwCKEEEIIIYQQQgghloYCFiGEEEIIIYQQQgixNBSwCCGEEEIIIYQQQoiloYBFCCGEEEIIIYQQQiwNBSxCCCGEEEIIIYQQYmkoYBFCCCGEEEIIIYQQS0MBixBCCCGEEEIIIYRYGgpYhBBCCCGEEEIIIcTSUMAihBBCCCGEEEIIIZaGAhYhhBBCCCGEEEIIsTQUsAghhBBCCCGEEEKIpaGARQghhBBCCCGEEEIsDQUsosixY8ewdu1afPXVV9izZw+NRqPRaJa1r776CmvXrsWxY8dC/fokbtTV1WHy5MkoKCjA2rVraTQajUazrBUUFGDy5Mmoq6sL9euTSKCARRRZu3YtBEGg0Wg0Gi1sbO3ataF+fRI3Jk+eHPLrgkaj0Wg0LTZ58uRQvz6JBApYRJGvvvoKguBwBkL9n3UajUaj0fyZ858uX331Vahfn8SNgoKCNmcg1P9Zp9FoNBrNnzn/6VJQUBDq1yeRQAGLKLJnzx4IgoA9e/aEuimEEEKIX/jOsi5r165t+4cYIYQQYmX4zrImFLCIInQGCCGEhAt8Z1kXOgOEEELCBb6zrAkFLKIInQFCCCHhAt9Z1oXOACGEkHCB7yxrQgGLKEJngBBCSLjAd5Z1oTNACCEkXOA7y5pQwCKK0BkghBASLvCdZV3oDBBCCAkX+M6yJhSwiCJ0BgghZtDS0oKjR4+itrYW+/fvp9F8Wm1tLerr69HU1ITW1la/1xXfWdaFzgAhhAROa2srmpqaUF9fz7+hTPx7gu8sa0IBiyhCZ4AQYjStra2oq6tDVVUV9u7dG/I/aGjWtn379qGqqgpVVVU4fPiw3z86+c6yLnQGCCEkMFpbW3H48OG2d+K+fftC/o4OJ9Py9wTfWdaEAhZRhM4AIcRoTpw4gaqqKtTX1yv+B4wQADhz5gwOHDiAqqoqNDU1+dyO7yzrQmeAEEICo6mpCVVVVThw4ADOnDkT6uaEJWr/nuA7y5pQwCKK0BkghBjNwYMHUVVVhZaWllA3hYQRZ86caRM+fcF3lnWhM0AIIYFRX1+PqqoqilcBoubvCb6zrAkFLKIInQFCiNHU1taiuro61M0gYci+fftQW1vr83u+s6wLnQFCCAmM2tpa7Nu3L9TNiAiU/p7gO8uaUMAiitAZIIQYzf79+1FTUxPqZpAwpKamBvv37/f5Pd9Z1oXOACGEBIYzlxMJHKW/JwJ5ZzU1NeHxxx9Hr169kJCQgIEDB2LlypWK+y1btgyCIHi1Q4cOybYtKirCvffei/79+yMuLg6C4FvaEUUR06dPR1paGuLj49G3b18sWrRIc7+sAAUsogidAUKI0fAPMKIXpWuH7yzrQgGLEEICg38/GYfSWAbyzsrMzES3bt2wZMkSlJWVYeLEiRAEAcuXL/e7n1PAWrZsGSorK2UmiqJs2wkTJiA9PR133nknBg0a5FfAmjhxIhISEjB37lyUl5fjueeeQ0xMDGbNmqW5b6GGAhZRhM4AIcRo+AcY0QsFrPCFAhYhhAQG/34yDrMErPXr10MQBKxYsUJWnpmZidTUVNhsNp/7OgWsHTt2KB7Hbre3/f7www/7FLD27NmDmJgYzJ49W1aenZ2NxMRE/PDDD4rHshIUsIgidAYIIUZj1h9gos2O7TWN2Li7AdtrGiHa7Mo7GYivsG93Ky8vD+g4eXl5fv/TFslQwApfKGARQkhgmClgiSJQXg4UFjp+ugX8BAV/U+ikfz/98MMPuOuuu9CjRw8IgoBRo0YBAOrq6jBixAgkJSVBEAQ8/vjjPo9lloA1ceJEdO7c2WOhohUrVkAQBHz66ac+99UiYEnxJ2C98MILXqcgbt++XVVUmNWIzr9+iSboDBBCjMboP8BEmx0LN1djUH4J0nKK2+yq/FIs3FwdNCHLPdx7xIgRSExM9Cg/ceJEQMc5ePAgKisrDWp1eEEBK3yhgEUIIYFhhoAlisDMmUByMiAILktJcZQHU8jyN4VO+vfTE088gfj4eBQUFKCyshJ79+4FANxxxx3o3r07PvjgA1RWVuLAgQM+j2WWgJWRkYGrr77ao9z598mbb77pc19n/5OTkxEbG4ukpCSMHj0au3fv9ntMfwLW3XffjR49eniUnzp1CoIgYPLkyQo9shYUsKKEo0ePYsSIEejYsSPS09NRUlKiel+znYFQR0wQQoKPkX+AiTY77lv6OdJyinGBRLySfh6/7IuQPFvGjRuHTp06KW7X3NwchNZEBhSwwpegC1hWCCcghKhCFIHSUmDGDGDaNGD+fGD1at667vh6B9rtwMmTwI8/On7aVf7JI4rAiBEOwSomRi5gOT+PHBm8c6A2Aul3v/sdLr30Uo/y3r17Y/jw4aqOpVbAWrRoEfbs2SOzI0eO+NwvPT0dw4YN8yhvaGiAIAgeU/mkbNy4EVOmTEFRURG2bt2K1157Deeeey46deqEXbt2+dzPn4CVmZmJvn37ev0uPj4eDzzwgM96rQgFrChh7NixmDBhApqbm7Fu3Tp069YNjY2NqvY1yxmwSsQEIST4GClgLdxcLXuG+LJFm6sNOZ4WvAlYgwcPxmWXXYatW7fiuuuuQ2JiIu666y4AwKpVq5CZmYmUlBR06NABl1xyCXJycnDq1ClZHd6mEKalpWHkyJHYuHEjrrjiCnTo0AF9+/bFu+++a24ngwwFrPAlaAKWlcIJCCF+EUUgLw/o1El+u0otOZm3rhP3d6DdDtTXA7t2ATt2uGzXLke5kpA1c6bvcZdafr7JHfsFJQGrrq7O59RCb+V1dXU+j6VWwPJmeXl5PvdLT09HVlaWR7lTwJozZ47Pfb1RV1eHzp074/bbb/e5jZKAdckll3j9Lj4+Hn/+8581tSfUUMCKApqamtC+fXscPHiwrWzw4MGqnRoznAErR0wQQszHKAFLtNkxKL/E4znibhf8Io4H+5niS8A6++yzcd555+HVV19FeXk5tm7dCgDIz8/HggULsH79elRUVGDJkiW48MILMWTIEFkdvgSsc889F/369cP777+PTZs2YezYsRAEoa3+SIACVvgSFAHLauEEhBCfiCKQlaVOQOGt60D6DrTbgepquXDlbtXVvkUsUXSIg+6PSneLiXHo/8EYe6eA9dlnn6GlpUVmNpsNP//8MyorK3HFFVfgoosukk0trKysREpKCq6//vq28p9//tnnscyKwApkCqEvsrKy0LNnT5/fcwphhLBlyxaMHz8effv2RceOHZGamorbb78dX375pan7BsrJkyfxzDPPIDMzE+ecc45flbepqQmPP/44evXqhYSEBAwcOBArV66UbbNz504kJSXJyh555BFMmjRJVXvMcAasHDFBCDEff380TP9wD+5csl2VZS3YqupZ4rSsBVtV133nku2Y/mFgzz1fApYgCNiyZYvffVtbW9HS0oKtW7dCEAR8/fXXbd/5ErA6dOiAf//7321lP/30E84+++yw+++aPyhghS9BEbCsFk5ACPGJ2tuVt64L6Tuwvl4uVt19N3DllZ523XXA4MGeNnCgtrEfONB7Pd7MT+50v/hL4t6uXbu27ZzR7O44o9G1jqU39L6zsrOzvSZxX7lyJZSSuPti2LBhSElJ8fm9PwFr1qxZ8JbEvbKyEkzibjHGjBmDIUOGYPHixaioqMCaNWuQkZGBuLg4RcchkH0Dpa6uDl27dsWNN96IiRMn+hWwMjMz0a1bNyxZsgRlZWVt20svxG3btiEtLU22X25urur5rkY7A1aPmCCEmI+/PxruXLJdkyhlpt25ZHtA/fQlYLn/U0E6Ln/4wx+QnJyMmJgY2R9uq1atatvOl4CVkZHhUWdGRobXUPZwhQJW+GK6gGXFcAJCiFdEEejZU5uAwlvX9Q602z2nDV55pXZB0CwbPFhf/5wC1vvvv48dO3bITBpIYmUBa8OGDR5/twGOKKrU1FTYbDZN9dXW1qJz58644447fG7jT8Das2cPYmJi8OKLL8rK//znPyMxMRE//PCDpvaEmogWsLyF9jU1NSE5ORlDhw41Zd8TJ05gw4YNPr8vKiryyGXiTmtrK1pbWwEA33//vU8Ba/369RAEAStWrJCVZ2Zmym4Oq0VgfVx9VJMDub1GXa4uQkj4EO0RWP369fPYtqmpCampqbjooovw9ttvY+vWrdixYwf++c9/wrkijxN/ObDcGTx4MAbr/UvSglDACl9MF7DKy7V5WL8sx04ICT5ab1feug6c78CTJz2nC/qKwLrySuCGG8IrAkspibuVBSzA4Y8nJSXhrbfeQllZGbKzsyEIAgoKCtq2mTBhAtq1aydbKXHo0KGYMWMGPvjgA2zZsgWvvPIKUlNT0aVLF4+VCA8cOIA1a9ZgzZo1yMrKgiAIbZ/dx2/ixIlISEjAvHnzUFFRgdzcXMTExGDWrFma+xZqIlrA8sWQIUPQp08fU/Z9+eWXERsbi/fee8/juyVLliAmJgaLFy9WfTx/AtbEiRO9hieuWLFCFp7oLQfWTTfdFPQcWM6k7f3zPtLkcG7c3RDQcQkh1iPac2B5+6Nr3bp1EAQBFRUVsvLS0lIKWBIoYIUvpgtYhYXavLHCQnPaQQhRROvtylvXgfMd+OOP/nNfuduPP3rWZcWg1UgRsJqamvDYY48hJSUF8fHxGDBggEean3HjxsE90fwTTzyBfv36oUuXLoiLi0Nqairuuece7N271+MY/qZbjhs3TratKIrIy8vD+eefj/j4ePTp0weLFi3S3C8rEHUC1vHjx9G1a1eMHj3atH0nTZqEmJgYLFmypK3slVdegSAIyM3N1XRMfwKWlgRxY8aMwf3334/Tp0+jqKgI3bp1w/fff+/32E4HyWmBOAPSpO1ajRFYhEQeXIXQ84+uDz/8EIIgoLKyUlY+ZswYClgSKGCFL4zAIoQ4YQSWPvxFYPmzkye912e1tIGRImAR84g6AetPf/oT4uLidCVj17Jvbm4uBEHAK6+8ghdffBGCIGDmzJmaj+lPwEpPT8ewYcM8yp1LdM6ePbut7OjRoxg+fDgSExPRu3dvbNq0SXUbjHAG1DqYVoiYIISYj5EClmizY/yyL9qeG+7PkbSc0K1qqkXAamxsRFJSEgYOHIh//vOfKCoqwt1334309HQKWBIoYIUvzIFFCHHCHFj68JcDy5ft2uV/JcKRI13j6z7eghDc1R+dAtayZcvaVhKU2tGjRwFQwIpmokrAmjp1KgRBwKuvvhqUfWfOnNkWvTRv3jzNxwSUBSxviXmdAtacOXN0HdOdQJ0B5xQfPdFXC0o8wyUJIeGPkQIW4HjOLNpcjavyS2XPkKvyS7Foc3XIhHAtAhYAbN++Hddddx06duyIHj16YOLEidi5cycFLAkUsMIXrkJICJHCVQi1428VQl9WX++/TlF0jGtKinysU1Ic5cEUDP1NixMEAW+//TYACljRTNQIWNOnT4cgCLoSlend96mnnmpbRWrKlCmajwsYN4UwEAJ1BrQmbZfauKWfMwKLkAjEaAHLiWizY3tNIzbubsD2mkY+PyIQCljhS1CcAWk4gbfwDbPDCUTRMb+psNDxM5pDRQhRQBSB4cPVi1fBjASyKtJ3oN0OVFf7F6+qq31HX7kTbY8vCljhSVQIWE4Bavr06UHZt7W1FQ8//DBiY2OxdOlSvPHGG4iJicFTTz2l+fj+BKzs7GyvSdxXrlwJaRL3QAnUGXhk+VcBLWMfirw1hBBzMUvAIpEPBazwJWjOgDOcwN37NTOcQBQd4STJyZ7HnDkz8j1BQnQiisD06UCnTr6Fq+Tk4EcCWRX3d6Dd7j0Sa9cuR7la8SoaoYAVnkS8gOWcxjd16tSg7Gu323H//fcjLi5OttLAe++9h3bt2uGhhx5Ca2ur6vr8CVgbNmyAIAhYtWqVrDwrKwupqamw2Wyqj+OPQJwB0WbH5RpXHWQeLEIiHwpYRC8UsMKXoDsDUg/YzHACUQRGjLBOEhlCwpDjx30nbOet48LXO/Drr13iVWMjhSs1UMAKTyJawJo/fz4EQUBWVpbXJHBOKioq0K5dO8yYMUPzvu7MmzcP8fHx+OCDDzy+W7VqFeLi4lTl0dqwYQPWrFmDpUuXQhAEjB07FmvWrMGaNWvQ3Nzctl1mZiaSkpLw1ltvoaysDNnZ2RAEAQUFBWqHSZFAnIHtNY0BRV9xJUJCIhMKWEQvFLDCl5AKWGbCvFuEBExzs/fbhsjx9Q785huXgPXTTyFoWBhCASs8iejHwuDBg/0mgXNSXl7uEeWkdl93Tp8+je3bt/v8/pNPPsGZM2cU256Wlubz2HV1dW3bNTU14bHHHkNKSgri4+MxYMAAWeSXEQTiDGzc3WCIgLVxd4OhfSKEhBYKWEQvFLDCl4gUsLjyISGGcOoUBSw1UMAyDgpY4QkfC0QRK0RgPf33XWg+08LkzIRECBSwiF4oYIUvESlglZdrW0KtvNy8thASxjQ1UcBSg6934O7dLgHr9OkQNCwMqampoYAVhvCxQBQJNAfWJVM3GCJipeeul32+Kr8UCzdXU8giJAyhgEX0QgErfIlIAauwUJuAVVhoXlsICWNOnqSApYba2lrs27fPo5wClnb27duH2tpan99TwLImfCwQRQIVsPpMMUbA8pbgPS2nGOOXfUERi5AwgwIW0QsFrPAlIgUsRmAR4oEoOi71wkL1SdgpYKmjvr4eVVVVHilp9uyhgKWFM2fOoKqqCvX19T63oYBlTfhYIIpYYQqhki3aXG1CzwkhZkEBi+iFAlb4ElIBS8MK0JpgDixC2hBFx5oGycnyyz8lxVHu7/I/cYIClhqamppQVVWFAwcOyEQsqYAlWe+LeOHMmTM4cOAAqqqq0NTU5HM7CljWhI8FoogVkrgrRWJdlV/KKCxCwggKWEQvFLDCl5AKWCUl5olHXIWQEIgiMGKES691128FARg50vdtePw4BSw1tLa24vDhw6iqqkJVVRX27duHmpoa7Ny5Hzt2OGzv3v1t70qay2pqarBv3762sTt8+DBa/fxzgwKWNeFjgSgSDhFYaTnF2F7TaELvCSFmQAGL6IUCVvgSNGfAGQbi7gmrCQPRe7yRI31HXil57oREAIHquMeOUcBSS2trK5qamlBfX4/a2lrs378fS5bsx5w5Dvvyy9CLRVa12tpa1NfXo6mpya94BVDAsip8LBBFAs2BdXneR0ERsDbubjCh94QQM4hUAeuOO+5Ahw4dcOzYMZ/b/PGPf0RcXBwOHz6sqk5BEJCXl9f2uby8HIIgoFxFLp1x48YhLS1N1XHcef3117Fs2TKP8rq6OgiC4PW7YEABK3wJijMgDQMJppgkig7P3Jtolp9P8YpENEbMpKWAFRiDBrnGbMeOULcmMqCAZU34WCCKBOoM/LVkb1AErG3VRw3uOSHELEwTsGwiULsN+Had46ctuE5jUVERBEHA66+/7vX748ePIzExEXfccYfqOt0FrBMnTqCyshInTpxQ3DcQAeuyyy7D4MGDPcp//vlnVFZW4ujR0DxzKWCFL0FxBkI9nU96jI0bKVyRqMCItQx+/JECViBcdZVrzD7/PNStiQwoYFkTPhaIIoE6A6LNjqtfKDVdwFpQutfgnhNCzMJwAcsmAhUvAXMvBvLOctm83o7yIAlZNpsNqampGDRokNfv33jjDQiCgKKiItV1ugtYWjBDwAo1FLDCF9OdASskVJce59Qp4+snxIIUFmoTsAoLPev44QcKWIFwzTWuMausDHVrIgMKWNaEjwWiiBHOQPl3R0wXsJjInZDwwVAByyYCBWN+Ea26ygUs5+eCsUETsSZPngxBEPDNN994fHfNNdegV69eOHz4MP7yl7/g0ksvRadOndCjRw8MGTIE27Zt89hH7RTCZcuWoU+fPoiPj8cll1yCv/3tb14FrOnTp+Oaa65BUlISunTpgiuuuALvvPOOLBdEWloaBEGQmbMeX1MIP/74Y9x8883o3LkzEhMTcd1116G4uNijjYIgoKysDA8++CC6d++Os88+G6NHj/a7lLUUCljhi+nOgBFhIIEirf/kSePrJ8SCGHHrNTZSwAqEjAzXmH36aahbExlQwLImfCwQRYxwBkSbHf2DkAuLidwJCQ8MFbAqXnITrXxYxVxjjqfAvn37EBMTgyeeeEJW/u2330IQBDz33HP47rvv8Je//AWrVq1CRUUFiouLcf/99yM2NtZDmFIjYDmFoVGjRqGoqAgFBQXo3bs3zjvvPA8B67777sO7776L0tJSlJaWIj8/H4mJiZgxY0bbNjt37sRFF12EK664ApWVlaisrMTOnTsBeBewKioq0L59ewwaNAirV6/G2rVrccsttyAmJgarVq3yaOdFF12ERx99FJs2bcI777yDpKQkDBkyRNX4UsAKX0x3BowIAwkUaf0qpvkSEgkYEfxIASswfvMb15h9/HGoW2MuougQQQsLHT/NmqlNAcua8LFAFDHKGXj677uYyJ0QAsBAAcsm/jJt0D3yyt26OqYTBikKa/DgwTjnnHMgSv6qeuqppyAIAqqrqz27YbOhpaUFQ4cOxejRo2XfKQlYdrsdqampuPLKK2VRVAcOHED79u39TiG02+1oaWnBzJkz0b17d9n+vqYQehOwMjIy0LNnTzQ1Ncn61L9/f5x77rlt9ToFrIceekhW59y5cyEIAg4dOuSzrU4oYIUvUReB5WcxB0IijUDTz33/PQWsQLjhBteYbd0a6taYg3OB2eRk+TVi1gKzFLCsCR8LRBGjnIHmMy24eDIjsAghCiLEhhxg6Qh1tvg36qKvnLb4N+rrXjrC0RYdvP/++xAEAf/4xz8AAC0tLUhOTsZvf/vbtm3eeOMNXHHFFUhISJBN1bvkkktkdSkJWFVVVRAEAfPnz/dox+DBgz0ErC1btmDo0KE466yzZMcVBEG2MqJaAevUqVOIiYnxEKUA4KWXXoIgCPjXv/4FwCVgffTRR7LtPvroIwiCgM8++8yjDncoYIUvUZcD68cfja+fEIsiio4FPp23mPstJwj+FwA9epQCViDceKNrzCoqQt0a45EuMKvn+tIDBSxrwscCUcRIZ+Chgq9ME6/Sc9ej/LsjzINFSBjgV4RYOkKbKGWmLR2hq3+nT59G165dMXLkSADAunXrIAgC3nvvPQDAyy+/DEEQ8OCDD6K4uBifffYZduzYgaysLA/BSUnA+vjjjyEIAgoKCjzacdddd8nq+/zzz9GuXTsMHToUq1evxqeffoodO3ZgypQpEAQBdXV1bduqFbAOHjwIQRCQ7+Xf6v/3f/8HQRDwySefAHAJWDvc1vj2ldfLGxSwwpeoW4Wwkf9UI9GFKDpurZQUzwiZ/Hz/4sKRIxSwAuGmm1xjVlYW6tYYTyge7RSwrAkfC0QRI52Bj6uPmj6N8NLnN+KvJXspZBFiYSI9AgsAHnzwQbRr1w4NDQ0YNWoUunTpgubmZgDAFVdcgZtuusljn+uvv16zgKUlAuvJJ59Ehw4d8NNPP8m2C0TAOnXqFGJjY/1GYH333XcAKGBFO0FxBqT/pvcWeWXGv+mlSI/3/ffe2xeM5C3eCOWxSVQhivJbQc2lRgErMG6+2TVmmzeHujXGEqrgWgpY1oSPBaKIkc6AaLNjUH6J6SJWWk4x7n33M4pYhFiUSM+BBQA7duyAIAh48skn0b59e2RnZ7d9d+WVV2LYsGGy7b/++mvExsZqFrDsdjt69eqFQYMGKebAmjRpEjp37izLzXX69Gmcf/75HgLWlVdeiWuuucajX95yYF133XVISUnB6dOn28rsdjsuv/xyrzmwKGBFJ0GZQjhzJtCzp3fvJjlZOQwkUKTHO3LEs23BSt4iJZTHJlGLVhHq8GEKWIEwdKhrzEpKQt0aYwlVekMKWNaEjwWiiNHOwF9L9gZFwErLKcYf3qqkiEWIBYnkVQilDBgwADExMXDP7zRt2jTExMRg2rRp2LJlCxYvXoyUlBRcfPHFmgUsAHjnnXfgXIWwuLjY5yqEW7ZsgSAIGDNmDEpKSrBy5UoMGjQI6enpHgLWuHHjkJCQgFWrVuGLL77AN998A8D/KoTXXnst1qxZg3Xr1mHYsGE+VyGkgBWdmOoM+EuQ4rThw80Xa6THc+aUC0XyFiehPDaJarSKUIcOUcAKhMxM15ht3Bjq1hhLqBaYpYBlTfhYIIoY7QyUf3ckaAJWWk4xxi39nCIWIRbDUAHLJgIFY12RVu6RV3lnOb4PYvSVk4ULF0IQBPTr109WfubMGTz99NP41a9+hQ4dOuDKK6/E2rVrMW7cOF0CFuAQsdLT0xEfH48+ffpg6dKlXutbunQp+vbti4SEBFx00UWYM2cO3n33XQ8B68CBA7jlllvQpUsXCILQVo83AQtw5OK6+eab0alTJyQmJiIjIwNFRUWybShgRTemOgOhzn3lRHqshobQt80q40KiDq0iVEMDBaxAGDbMNWbr14e6NcbCCCwihY8FoojRUwhHLtwWVAErLacYizZ7LltPCAkdhgpYgEOcqpjrmCYoFbDm9XaUh0C8IuZAASt8Mc0ZsMLqg06kx6uvD23brDQuJOqggBVchg93jdmHH4a6NcbCHFhECh8LRBEjnYGFm6uDLl6l5RRjUH4Jo7AIsRCGC1hObCJQuw34dp3jJ4WriIMCVvhimjMQqn/Pe0N6nIMHQ9s2K40LiTq0iktM0mMAACAASURBVFD19doFrHBel8DZ9tWrgQULHD8D6cPIka4xi0S9hasQEicUsIgiRjkDwUzg7s2213A5a0KsgmkCFol4KGCFL6Y5A6FKkOIN6XH+85/Qts1K40KiDq0C1n//q17ACud1CdSsNaGnD7fd5qrjn/80p+2hRBRdIl2w0vlRwLImFLCIIkY5A9trGkMmXqXlFKPo63qDRoQQEigUsIheKGCFL1EXgXXgACOwSNSiVcA6eFCdgBXO6xJI265kWvswapRr3zVrzOtDKBFFR4RVSoqncGnGArMUsKwJBSyiiFHOwMbdDSEVsN7ZRmeZEKtAAYvohQJW+BJ1ObDq6pgDi0QtZglY4bwugdq26+nD6NGu/VavNq8PVkAU5eNk1qOLApY1oYBFFImUCKz5H/2LebAIsQgUsIheKGCFL5ZYhfDuu81NliM9lvM65SqEJArRKmD95z/KAlY4a7LOtqsVr7T24fe/d+27cqW5fbECWq8vPVDAsiYUsIgiRufAuiCEItagmSVYuLmaQhYhIWb//v2oqakJdTNIGFJTU0MBK0wx1RnwlyDFm5mVLEd6DOczTto2b16qIJg35ykUiWMIgXaB4d//VhawwnlWrNa2a+3DmDGufQoKzOyJNaCAFb1QwCKKRMIqhO42bunnFLEICSF1dXXYu3cvWltbQ90UEka0trZi7969qK2t9bkNBSzrYroz4CtBSjCFI+kxqqs92+ZNSDMjeYsU57G7dw/+sUnUolVgOHBAWcAK53UJtLZdax/uvNO1z/vvm9sXK0ABK3qhgEUUMdIZEG12jF/2BdJyikMaiZWWU4wFJXsNGB1CiB4aGhpQVVWFw4cPU8QiqmhpaUF9fT2qqqpw9OhRn9tRwLIuQXMG3BOkKJmR0+ek9e718neGe2hFMMWjTz5xHbtvXwpXxFTMELAYgeWbu+927bNsmYkdsQgUsKIXClhEEaOdAdFmx6LN1bgqv1QmKF2VX4o/vFUZNAHr0uc3MgqLkBBht9tRV1eHqqoq7N27t21aGI3mbjU1NaiurkZVVRWqqqpw4MABtLS0+Ly2KGBZl6A6A2q9Q6OT5Ujr/te//H8fbD77zHXsq68O/vFJVKH1Uq+rUxawmAPLN1IB65lnrNV3M6CAFb1QwCKKmOUMiDY7ttc0YuPuBmyvaYRos0O02XHHa58ETcTaVu37v/iEEHOx2+1oaGhAXV1dyEUSmrWttrYWBw8exIkTJxQj9ihgWRdLClhGh2pI66yq8v99sKGARYKI1ku9tlZZwALCe10CM1YhFEVHvR06yPc1K82fVaCAFb1QwCKKBNsZaD7Tgkuf3xgUAeuVUk4jJISQSIIClnWxtIBlVLIcaZ3ersFQCliff+469lVXBf/4JKrQeqnv369OwArndQn8refgbmr6IIrAiBG+I7isPBaBQgEreqGARRQJhTMQrGTvL2+igEUIIZEEBSzrYmkBy4wIrN27/X8fbChgkSBiloAF+F6vIRzWJXC2PT7ee3+Tk9X3IZyj0QKFAlb0QgGLKBIKZyBYyd5HvfYx82ARQkgEQQHLulhSwDIzB9bXX/v/PthQwCJBROulXlOjXsBy4r5eg5WFK3duvdWzr7Gx6vsQzvnAjIACVvRCAYsoEipnwFeyd6Nt0eZq5cYQQggJCyhgWRdLClhGhydI6921y//3weaLLyhgkaCh9VLft0+7gKXnOFbh9ts9+xoXp37/cF6R0QgoYEUvYXark1AQamdAtNmxrfooLptmTl6sq/JLGYVFCCERQqjfWcQ3lhSwpAliRNHh5RUWOn5qCVlw7iute+dO/+0KNhSwSBDReqlXV1PAat9e/f6FhdoELKPS/FkFCljRS5jd6iQUWMUZ+MNblaZFYb2zbb9sNURCCCHhiVXeWcQTywlYF14IHD/uWsbLfY17Nct4+dpXEIAHH/Tc1yoC1qBBwT8+iSooYPnnttsCE7AYgUUBK1oJs1udhAIrOAOizY4rZ24KSmL3q/JLsXBzNYUsQggJQ6zwziLesZyAJQhAjx7AsGGO37UuaSZdAsxXIhr3fUPpbe/YQQGLBA21l7ozePHVVylgxcer37+5GUhKUn7EMQeWfihgWZMwu9VJKLCCM7C9pjEo4lVajitp/PhlX1DEIoSQMMMK7yziHUsKWGrNW54sPUuAWUXAuvLK4B+fRBVKl7q/4MVoELC8TSFUI2CpHTelx1e4QwEregmzW52EAis4Axt3NwRNwGKCd0IICV+s8M4i3glbActbCIPeJcAoYJEowd+lriZ4MRoFrIQE//toGTelANJwhwJW9BJmtzoJBVZwBoIZgSWNxGKCd0IICS+s8M4i3glbActp0iQyehPQUMAiUYK/S11t8CIFLDlaxi0lxRF5FYniFUABK5oJs1udhAIrOAPBzIHlbttrGkPWb0IIIdqwwjtLL01NTXj88cfRq1cvJCQkYODAgVi5cqWqfcvKyvC73/0OPXr0QKdOnXD55Zdj4cKFsNlssu1yc3Px61//GklJSUhISMCFF16I7OxsHDhwQLZdXl4eBEHwaWrbJSVozkBrqzkClnQZL71LgIXS2/7yS9exr7gi+McnUYWvS11t8KLTlASYSBKwOnTwvb2WcUtMdOTIimQoYEUvYXark1BgFWdg4ebqkAhYG3c3hLTfhBBC1GOVd5YeMjMz0a1bNyxZsgRlZWWYOHEiBEHA8uXL/e5XWlqK2NhY3HTTTVi7di1KS0vx6KOPQhAEPPbYY7JtH3roIbz00kv48MMPUV5ejtdffx29evVCcnIyGhtd/7A5ePAgKisrPax///5ITEzEsWPHNPcvaM6A3W6OgBXuEVgUsEgQ8XWpa711ysr0HcfqaBWwon3VQXcoYEUvYXark1BgFWdAtNlx+2sfMwKLEEKIT6zyztLK+vXrIQgCVqxYISvPzMxEamqqRySVlD/96U9ISEjAqVOnZOW33HILzjrrLMVjb9iwAYIg4N133/W7XV1dHWJiYnDPPfco1umNoDkDNpuxwlWk5MCigEWCiK9LXWvw4j/+oe84VsfbKoSJib631xv0GalQwIpewuxWJ6HAKs6AaLNj3kffBVW8ujzvI+bAIoSQMMIq7yytTJw4EZ07d0ZLS4usfMWKFRAEAZ9++qnPfe+77z506dIFdrv8fXXnnXeiZ8+eisfesWMHBEHA3/72N7/bPf/88xAEARUVFYp1esN0Z0AUHWEHf/+7sQKWIAATJjg8wvJylxgVbqsQfvUVBSwSNHxd6lojibZs0Xccq6NVwGIElhwKWNFLmN3qJBRYwRkQbXbct/TzoEdfPf33XSHrMyGEEO1Y4Z2lh4yMDFx99dUe5c7+vPnmmz73/eyzz5CQkICHH34Y9fX1OHbsGN5//320b98e8+fP97pPS0sLTp8+jZ07d+L6669Hnz590NTU5PMYdrsd5513Hnr37q29c79gmjOgZ115p3Xs6Fi7Xss+KSmO4zU3O5b4EgTfkVjuS4BZRcD69a+Df3wSVfi61LXmwPrpJ/m+5eVyLVm6rbfvQ4F7O5qbgdJSYMYMh5WWArfe6tlXo3Jgde5sneTt3sbCiHNEASt6oYBFFLGCMxCK/FfpuRvQfKZFuXGEEEIsgxXeWXpIT0/HsGHDPMobGhogCAJmz57td/9PP/0UqampcCZZb9euHebOnet120OHDrVtJwgCrr32WtTX1/utf+PGjRAEAXPmzFHVnyNHjmDPnj0yW7RokfHOgJZ15aUWEwN0765d8JIeZ+RIhzeWnw/06OG53fjxnt4ZBSwSJfi71LWsptfS4lujTkmRf/b2/cyZwRNzfLXT26PJ1+PKV3tFEbj5ZnVjlpkZnP76w9dYxMYac44oYEUvFLCIIqF2BkSbHYPyS3BBkAWsu9/czumDhBASZoT6naWX9PR0ZGVleZQ7BSx/wtGXX36Jnj174rbbbkNRURHKysowdepUxMfHY+bMmR7bt7S0YMeOHfjkk0/w9ttvIz09HX369EFDg+9FS8aMGYO4uDgcOnRIVX/8rWJoqDOgxROW2uDB+vZzN+f0wOpqz+82b/ZsbygFrJ07KWCRoOHvUhdF5eBFpzU3+9ao1X52D4Q0A71aujdzb6+0bjX2wgvm9lUJLWOh9xxRwIpeKGARRULtDGyvaQx69JXTxi/7giIWIYSEEaF+Z+klkCmE1157LS6//HKPRO/Tpk1DbGws9u/f7/fYBw8eRFxcnMeKhU6+//57xMfHY9SoUSp64iAoEVha5yJJLTY2cC9TmqC9rs7z+5ISzzZbRcAaODD4xydRhdKlLooO/dc9isrd8vICu02dJk1FZwZ6tXQ17dVat0LArunoHQst54gCVvRCAYsoEmpnYOPuhpAJWGk5xVi0uTok/SaEEKKdUL+z9JKdne01ifvKlSuhlMQ9ISEB9913n0d5UVERBEFAcXGx4vHPP/98rxFgAPDXv/4VgiCgqKhIsR5/GO4MaM1qbJaVl3sXsDZt8mwzBSwSJai91H/6yf/t1bOnsVqzGQSipSu1V0/ds2aZ008zx0LrOaKAFb1QwIoSjh49ihEjRqBjx45IT09Hibf/Cvog1M6A1gisPlM2YOi8LYYJWINmljAKixBCwoRQv7P0smHDBgiCgFWrVsnKs7KykJqa6hFdJeXCCy9E//79PbbJzc2FIAjYtcv/giT79u1DbGwsHnnkEa/fX3bZZYptUIPhzoDWdeXNssJC7wLWxo2ebaaARaIEtZd6S0vwblWzVuYzS0svL9dXdyinEAY6FmrPEQWs6IUCVpQwduxYTJgwAc3NzVi3bh26deuGxsZGVfuG2hnQkgNrQN4mNJ9pwYsb/2VoFNa26qMh6TshhBBthPqdFQiZmZlISkrCW2+9hbKyMmRnZ0MQBBQUFLRtM2HCBLRr1w4HDhxoK3NOzRs+fDjWrl2LkpIS5OTkIC4uDr/73e/atvv6669x8803Y/Hixfjoo49QUlKCl19+Geeeey569Oghq9PJZ599BkEQkJubG3D/IjoCq7bWs3zDBs82B8Pr8sX/+3+uYw8YEPzjk6hC7aV+5kzwbtXCQnP6apaWXlior+5QCliBjoXacxSMRykFLGtCASsKaGpqQvv27XHw4MG2ssGDB+Pdd99Vtb8VnAG1qxA6p/vN/chYAeuWBRWMwiKEkDDACu8svTQ1NeGxxx5DSkoK4uPjMWDAAKxcuVK2zbhx4yAIAurq6mTlhYWFuOGGG3DOOeegU6dOuOyyy5Cfn49Tp061bXP48GHcc889uPjii9GxY0fEx8fjoosuwoMPPoj//Oc/XtuUnZ2NmJgYxTxaajDcGbBSDixvApa3qZsUsEiUoPZSV5pCaKRFSwSW2fm+zBwLRmARJcJOwNqyZQvGjx+Pvn37omPHjkhNTcXtt9+OL7/8UnHfkydP4plnnkFmZibOOeccCIKAvLw8n9vv3LkTo0aNQq9evZCYmIi+fftixowZaG5uNrBHgbezqakJjz/+OHr16oWEhAQMHDhQ9gfvzp07kZSUJNvnkUcewaRJk1S1xwrOgGizY/yyL5CWU+wRieX8LE24Pnt9leG5sMYt/ZwiFiGEWBwrvLOId0xxBvRmC1a7Hr1aT9GbgOUtZxgFLBIlqL3UT5/2f4sxB5b2ur0sPhs0mAOLmE3YCVhjxozBkCFDsHjxYlRUVGDNmjXIyMhAXFwctmzZ4nffuro6dO3aFTfeeCMmTpzoVxj69ttv0aFDBwwcOBCrV6/Gli1bkJeXh3bt2uH22283oWf62gk4phx069YNS5YsQVlZWds+y5cvBwBs27YNaWlpsn1yc3PxwAMPqGqPVZwB0WbHos3VuCq/VCYsXZVfikWbqyHa7BBtdizcXI0+UzYYLmCl5RRjQcnekI4BIYQQ/1jlnUU8McUZEEXH+utaPKVzzgGam7XvJ/W0BEG+7rs3AcvbXBjp96LoCDcoLHT8bG6Wfzba2961y3Xsyy83tm5C3PB3qUsv7VOn/N9uU6caIwrdeaf628pfe31hpVUIp03TdKoM6b8RY5Gf7zr26tXAggWOn97aQAEregk7AevIkSMeZU1NTUhOTsbQoUP97tva2orW1lYAjiWh/QlDU6ZMgSAIqKmpkZU/8MADEAQBP/74o8/jnDhxAhu85T34haKiIllIfyDtXL9+PQRBwIoVK2TlmZmZbQlXIyECS4pos2N7TSM27m7A9prGtqgo0WbHfUs/N0W4aov2eq4Yfy3Zy0gsQgixKFZ7ZxEXpjkDoujwfBIT1XlJN90k309p+9hY+eeUFJen5aznySc99+vWzeHJST0v6ffJycrHcd8/EL7+mgIWCRr+LnXppX3ypP/b74cfXFqze1SPnoin5GTft5UoOr7z115f6NHSfZlUG3evW02fO3fW9+gIpP+BjkV8vOPR3KOHuvNGASt6CTsByxdDhgxBnz59VG+vJAxNnz4dgiDg+++/l5U/++yziI2N9StAvfzyy4iNjcV7773n8d2SJUsQExODxYsXG9LOiRMnel12e8WKFXAuu+0tB9ZNN90UVjmw1KA2T5YRNmLhNnxcfZRCFiGEWIxweWdFI6Y7A/feq85TGjJEvp+/bcvLgcOHXZ8TEjw9yxEj1HujWrxvb5FegUABiwQRf5e69NL+/nv/t8HJky6tuWdPT2FF+lmthu1LJHLeyv7aqyRiqdHEfd3+MTFybdxb3e591tJHfxjRf71jocWcbZCWmQUFLGsSEQLW8ePH0bVrV4wePVr1PkrCUF1dHbp164YxY8Zg//79OHnyJIqKitC1a1c8+uijivVPmjQJMTExWLJkSVvZK6+8Aq0r+Si1MyMjA1dffbVHufMP+DfffBOAY+rl/fffj9OnT6OoqAjdunXzEOfcycvLgyAIbWZlZ0DLSoVG2lX5pVj4y/RFQgghoYcClnUx3Rm45x51HtDgwfL9/G0LACdOyD1kKWrnyjjnA+n12ozIykwBiwQRtZf2lCn+vz9xwlVnQ4OrvEsXTyHj6qv131Zab2W1fS8vB/r0kZfdc4/3CKUuXZTrdu+zUY8OI/vvayzGj9f/CHRvg/tj2gwoYFkTE0958PjTn/6EuLg4VYncnSgJQwDwr3/9C5dccgmkIs5jjz3WNr1PidzcXAiCgFdeeQUvvvgiBEHATI1Z9ZTamZ6ejmHDhnmUNzQ0QBAEzJ49GwBw9OhRDB8+HImJiejduzc2bdqkug3h4Axsr2kMqnDVNqXwl5/SBPKEEEJCRzi8s6IV052Bu+5S5/3ceKN8P3/bAsDx467PUgFLbbZiZ3ZipWQ/SvsHGoUlFbD69w+sLkL8cOaM+kvbParK3Y4fd9Xb2OgqP/tsR5l0Wy0RWHoSpau9Fd0fIZdcIi+bNg247TbP+s86S934Gv3oMLr/vtrqPjUxkMeh+xibAQUsaxL2AtbUqVMhCAJeffVVTfupicDq3bs3rr/+evzjH//A1q1bMXfuXJx11lmYMGGC6uPMnDkTTvFr3rx5mtqopp3p6enIysryKHcKWHPmzNF8THfCwRnYuLshJAKW1BZtrg71MBBCSNQTDu+saMV0Z+B//kedB3TDDfL9/G0LAMeOuT536ODaT+t68fPnB+a5qV1f3hfffOOqiwIWMZEtWwIXKpx27JirXul0Q2d630DrLy/Xfisr3YrujxBvAtbtt3vWa7SApba9Rvc/kLbqMbOggGVNTDzl5uPMUzVr1izN+yoJQ3fddRd69uzpketq6dKlEAQBFRUVqo7z1FNPISYmBoIgYMqUKYa3U+0UwkAIB2cgVBFYUhs0s4RRWIQQEmLC4Z0VrZjuDIwapc7buf56+X5KntGPP7o+SwWswkJtXtakSYF5ad5WNdQCBSwSJNasMU6ckK6bdfSoq7xbN0dZoPUXFmq/lZVuRfdHSN++8rJgC1hK7TW6/4G0VY+ZBQUsa2LiKTcXp3g1ffp0XfsrCUN9+/bFTc5VaiTs3r0bgiDgtdde81t/a2srHn74YcTGxmLp0qV44403EBMTg6eeesrQdmZnZ3tN4r5y5Uo4k7gHSjg4A4HmwLo4Zy3umjwXD0yehrsmz8XFOWt11bOt+mioh4IQQqKacHhnRSumOwNql7267jr5fkqe0Q8/uD4nJLj20xq2MHduYF6akRFYl10WWF2E+GHzZuPEiR9+cNV75IirvGtXR1mg9QcjAkutgOXskxJGPzoYgeUdCljWxMRTbh7OaXlTp07VXYeSMDRkyBD06NEDTU1NsvK33npL8UK22+24//77ERcXh5UrV7aVv/fee2jXrh0eeugh1Xm0lNq5YcMGCIKAVatWycqzsrKQmpoKm82m6jj+CLozYBOB2m3At+scP23qJlrrWYXw4py1mJ87AUennQfkndVmR6adh/m5EzQLWY+u+MrkwSGEEOIPCljWxXRn4JZb1Hk7GRny/ZQ8I2niHamApTVxjLQeLWZUDiwKWMRgRNEhZhQWOn46L9GfflJ/affo4X+bxkbX8aQCljNaSbpthw7abq2kJKC5Wf2tLAiOyK/SUsd+3vru3qbyciA1VV42ZQrwm9941m20gKUlB5ZSLjJnfcnJjv5767dSW83KgeXrOgwUCljWRAh1A7Qyf/58CIKArKwsVFZWepiTiooKtGvXDjNmzJDtv2HDBqxZs6ZtKuDYsWOxZs0arFmzBs3NzW3brVu3DjExMcjIyMDq1auxZcsWzJo1C507d0a/fv1w5swZn22cN28e4uPj8cEHH3h8t2rVKsTFxSnm7FLbTgDIzMxEUlIS3nrrLZSVlSE7OxuCIKCgoMDvMdQSNGfAJgIVLwFzL5aJSZjX21GuIGSJNjvGL/tCk3i1ZeqNQN5ZsE87S3ZM5+fNUwdrErEGTN/EaYSEEBJCKGBZF1OcAafnsno1cPHF6jyga66R7+tv28JCYO1a1+f4ePnxtSzdJc2lpdW0LP3ly5szSsAyy1skYYMoOi59d0EiJcVRfvq0+kv7mWf8fy9dNP3wYVe5c8U+6baXX6791nK2OS9P236xsd7rUbNKYKdO3svNiMBSenQ4z6WvNim1XdpvpbaqfVyq6ZP0s6/rMNBHEwUsayKEugFaGTx4MKSrArqbk/LycniLXEpLS/O5b11dnWzbsrIy3HLLLUhJSUFiYiL69OmDp556Co3SfwV44fTp09i+fbvP7z/55BO/ApjWdjY1NeGxxx5DSkoK4uPjMWDAAFnkV6AY7gx4i7CyiUDBmF8EpK5yAcv5uWCsKhFr0eZqDJpZoig2zc+d4HYc7zYv935NUVjba/xfH4QQQsyDApZ1MdQZcHpdasIG3G3QIP37xsV5tmPECGVPd/Bg5VATXzZ8uDpPTElV+OorV1m/fvrH3CxvkYQF0kvePWLJ+VnplnBuN3IkUFvrf9ujkuwchw65yjt3dpRJtx0zRvvt5WzL8OHK7VZbj9464uLU3UZq6xs50n99ah5fvvrp7Vx6O5Z0W2ekm97xkR4nkDaphQKWNRFC3QBifQxzBvxFWL13qyoxCRVzVR1KtNmxrfooHl3xFQZM3+Q1+urotPM8Iq/czT7NMZ1QSxTWX0u+YxQWIYSECApY1sUwZ0CP1yW1s84KzEuVekSiqH7qol4bMULdHCAlVeG3v3WVaRWw1NQfqLdIwgI9UTTt28s/p6Q4omhEEfj3v/3ve+SI69gNDa5ybwLW738f2K02fbqjXR07mntL+zM1wZZKdXTq5BpfI85lfLz+tku/B4DbbvO+b3IyMHSo7/8rJCfL+2TkePqCApY1EULdAGJ9DHEG/EZYqbWuDrFLZU4sJ6LNju01jdi4uwHvbNuPtJxi3DV5rqZj3zV5rqYorAF5m/DI8q/wcfVRilmEEBJEKGBZF8OcAaPmoRjhYQarLUpemNZ2aBWwtEyVJBGLlrRv0s833OD6fcECubBSV+e/rsOHXdvW17vKO3VylEm3VbsQqa82O/NFPfJI6B4vanJWKdXxzDPGnUtBcASRqk3159526TaA9+T1guDaz9sUTPeZymqmafprk1ooYFkTIdQNINbHEGeg4iWdopUXq92muxkbdzcgLacYD0yepumYD0yepmtVwrScYgzKL8HCzdUUsgghJAhQwLIuhjgDRsxBMcrDVJv5OFBT8sL0qApaBCytyeoZhRWxaF2tzmnS4D/3FeyUphAeOuTa9r//dZV37Ogok257662B327l5cCTT4b2EaNllUNv9txz5p1LrW2Xfgd4F7BiYvz3L9C2613AlQKWNfFySRAiJ2BnwCb+Mm1Qb+SVm327Tndfttc0BiUCy5uNX/YFRSxCCDEZCljWxRBnwCyvS4+XFuy2+PLC9LTj0kvNG3O93iKxPIWF+i5dfwJWTY3/fRsaXNsePOgqT0x0lEm3DST/lNMKC4FJk0L7eCks9H8elPbPyTHvXGptu/Q7wBgBS2vblcbTFxSwrImXS4IQOQE7A7XbjIu+CjACS7TZMSi/xNQcWP5s0eZq3W0nhBCiDAUs62KIM2CW16XHSwt2W3x5YXraoUXACpa3SCyPXs32xhtdv1dUyOusrva/b329a1upgNWhg6NMuq0R6ejKy4Gnnw7t4yXQCKxnnzXvXGptu/Q7wLuAFRvrv3+Btp0RWJGFl0uCEDkBOwPfrjNIvNKXA8udhZurTV2F0JddkFOMq/JLGYVFCCEmQgHLujACyySvlhFYJEjozYHlLwLru+/81zVhAvDww8CKFcDq1a7yhATH/tJtb7pJ/+0lnQH77LOhe7QYmQNLFB3jXVjoyiPlLFu9GkhKUtcms3NgaRWwmAMruvFySRAix1IRWCpXIfSHaLNj/LIvcHHOWmyeOhjIOwutbpFYzsiszVMHGxZ95bTtNY0B94EQQoh3KGBZF+bA0mlm5MC65BLtY84cWAT61i3wJWCJIvDoo/pui/btHXW40dsQmgAAIABJREFUlwVyqznXIHjuudA9XoxYhXDSJMd5cn9Udu7sSH6vtU0336y/7dLvAWMELDVjoGU8fUEBy5r4uCQIcRH8HFju2/3yuWBswNFXTkSbHYs2V+PKvPWYl3s/jk3rJTvmkWnnYV7u/YaLV2k5xSj+ul65gYQQQnRBAcu6cBVCE71are3QImBpqZ+rEEY8ogiMHOn99Ds1zqwsebm3KYSiCIwYof+WiIlRH4mjVI8gOPrk1F5zc13f9+mjrZ5A8nC1b69O/1Wq58IL5W0K1Jqblc+5dPx8tRUAbrvNs4527fz3T2kM3Pup1Ca1UMCyJj4uCUJcBHUVwvdu+0XskpTN6+2IvDJIvJJS9HU90nKKMWHy9Lbj7Zx6hSnCldOe/vsuiDY7ttc0YuPuBmyvaeS0QkIIMQgKWNbFMGfAnwetxvSEIEht40agtNQxL6e01JjEO3o8Q7Vj4qznhhtcZVoFLDX1B+otkrBBFB1apfulkJLiKD9+XF4uFbCcEVhGaL/e2qD19ne2WXrpTp3q+l7ttMTOnV316O1P9+7qxt+Mx40/k57zDh2Ux89XWwFzBKyUFG1tUgsFLGvi45IgxIUhzoBNdERQ+Yu4ckZYHa+Xf2eCcOXk4+qjSMspxrjJ+W3HLJv6W9PEq7ScYlz6/EYMyi+RlV2VX4qFm6spZBFCSIBQwLIuhjoDTm9K75yhIUOM8+6MCnNwt+RkbV6Ykqrw+eeusr599Y95t27meIsk7JBeBps2uS6BU6fk37kLWGpnpaq5RbTu89RTrt+zs71fttOmubbp1EldO5OTXXXp7c/ZZ2sf92CYlHvucZXn5GjL1wV4F7Di4vz3T6led9HQqEcRBSxr4uOSIMSFYc7AmWZHhJX7FMHp3RzlZ5od2508JP/ORLaFQMDyleA9LacY45d9QRGLEEICgAKWdTHFGXCfqxRJNny4Pk9MWodTLQCAr75ylesRsJysWuWq54YbKFxFMdJL7aefXOX+BKyKitCuxZCT4/p99mzv/Zo+XV/dzugyvW3r2FF5zFtbgz9mUsaNc5UvXartGgGAW2/1rD9QAcvbZyOggGVNDDzFJFIxLgJrjP/pg20RWP8NmoC1cXeDJQQsqS3aXG1qnwkhJJKhgGVdTHEGvHlDkWR6ckr58uSMErAKC1313HGH/npI2CO91JqbXeVNTfLv3AUs6SUUbJMmaJ81y3u/9E5vLCz0HBctlpioPOZ2e/DHTMp997nK331X2zUCUMAigWPgKSaRSlBzYFXMBY79O2gC1vaaRksJWBf8Mp2QUViEEKIPCljWxRRnwNuSVpFielf18+XJSQWsPn30j/k//+mqhwJWVCO91JqaXOVKAlYoI7AmT3b9/sIL3vv1wgv66g40AqtTJ+Uxt9mCP2ZSxo93lb/zjrZrBPAuYDlXlPS2j/vxfdWrtL0eAnlnNTU14fHHH0evXr2QkJCAgQMHYuXKlYr7LVu2DIIgeLVDhw55bF9aWoqMjAwkJiaie/fuGDduHI4cOSLbpq6uzmedatpkNQw8xSRSMW4VQhUC1rzewNG9QROwRJsdg/JLLCNgOW17TaOp/SaEkEiFApZ1MUXAuuOO0HnCwTKnV6wWX57cl1+6yo0SsEaN0l8PCXukl9qJE67ykyfl37kLWKHMgTVliut3XwGOs2a5tunYUV07pVqz3v6cc47ymLe0mP/Ice+vlAkTXOVvv63tGgGiR8DKzMxEt27dsGTJEpSVlWHixIkQBAHLly/3u59TwFq2bBkqKytlJrr9M6OiogJxcXEYNWoUSkpKUFBQgF/96lfo378/fv7557btnALWo48+6lFnY2P4+ZwGnmISqQTsDNRuUydeOW3XqqAJWACwcHO15QSsjbsbTO83IYREIhSwrIspAtbvf2++Nxdqc85LUosvT84oAeuDD1z1UMCKOkTRoam6TwM8fty1zYkT8u+kAlZeHrBgATBmTOC3hp5VCKUrDM6Y4b2Pc+a4trn+evVtcaK3Pz17usZ39WrHOK1eLU9lF8gqh3pNyv33u8rfekv5enGvR4+A5S0I1b1eX+0NBL3vrPXr10MQBKxYsUJWnpmZidTUVNhsNp/7OgWsHTt2KB7n6quvRr9+/dDS0tJW9umnn0IQBCxevLitzClgzZs3T1M/rIqBp5hEKgE7A9+u0yZgVb4RVAFLtNmx4PVFlhKwGIFFCCH6oIBlXUwRsIzwgq1uRkVg7djhKjdKwLr9dv31kLBCFB25oXxFPUlnLbkLWGlp5twaesSc5593/T59uve+vvSSa5vEROU6f/1ruciitz+dOjlELG/fJSc7xt89Qb43u+CCwMb1uut8P0YmTnSVv/mm8nXjXo83ASs+Xn6NuX+fkuIo9zXG3j4bgd531sSJE9G5c2eZsAQAK1asgCAI+PTTT33uq1bA+u9//wtBEDBnzhyP7/r06YPMzMy2zxSwSNQRsDNQU6ZNwPrwSYmAlSSvyyY6Irq+Xef4aTNm5ZuWqvVtx9wy9UbmwCKEkDCFApZ1MUXAuusuczxjK5jRObCkAlZ6uv4xX7vWVc9tt+mvh4QNogiMGOG6LL1drpmZrkv1+PHg3CKA5y2jtM+0aa7f8/K89/fFF7W1w301PjP7PHy48jYPPeSICGvfXl7eubNnmTcrLfX9GMnOdpUvWaJ87bjXM3Kk5/Hi4+XXmLdHoSA49vU2TdPbZyPQ+87KyMjA1Vdf7VHu/PvkTT/Kn1PASk5ORmxsLJKSkjB69Gjs3r1btt1HH30EQRCwfv16jzrGjBmDXr16tX12Cljdu3dH+/btkZiYiOuvvx7r1q3T1C+rYOApJpFK0AUsmXV1iFQ20ZEI3j2X1rzejvJAhazvNrbV+eNbo1D8dT0un/5RSESsBSV7A+sLIYREMRSwrIspAtYf/hAcTzlUFugqhNK5R0YJWOvWueoZOdI1n0x6LBJRqF2Vz3m5hkrA6thReZ+8PNfv06Z5729WlrZ2vP++fP9QPzYeecTRjowMV9miRY7b8y9/8b6PVPzbvNlznJ088ICr/I03lK8d93q8CVgJCdqvMX/XgVE431mLFi3Cnj17ZOaeKF1Keno6hg0b5lHe0NAAQRAwe/Zsn/tu3LgRU6ZMQVFREbZu3YrXXnsN5557Ljp16oRdu3a1bbd8+XIIgoDKykqPOh544AHEO8PafjludnY2/v73v+Pjjz/G8uXLkZGRAUEQ8LaaRGYWw8BTTCKVoE8hdLf3RwP/93uXoOUucOWdBRSMDUzEkghYKBgL0WbHTXPLQiJgjVv6OSOwCCFEJxSwrIspAtaf/hR6b9Esk4YbqEFp/s327a4yowSs+Hjvx6KQFTGoTbguDRg8diw4t4j7FEL3y9GbTZ/u+v355733t0sXbe3429/kdZjZZzVRZk4B6ze/cZV98omj7PHHlev96CP5d1L+/GdXuSTNkk/c6/EVgaX1GnOv11d7A8H5zvJmeb7C9+AQsLKysjzKnQKWt2l//qirq0Pnzp1xu2TKtlPA+uyzzzy2f+CBB5CQkOC3TlEUccUVV6B79+4eUx2tjoGnmEQqQU/irtc+eEi/iOUmYC3cXB3SHFiLNlfr6wchhEQ5FLCsiykC1r33BsdT9mexsebUq1W8Upp/I81G3bu3/jGXrkLo61haxTdiWcrLtV225eXAjz8G59Zzb5sacWfGDNfvU6cG3l9BCK6ApcYeftjRDm8C1qRJyvsXF8s/S3nwQVf5668rXz/u9Xh7TKmZ1ujvvHs7jhHojcAKZAqhL7KystCzZ8+2z1qmEPrixRdfhCAIqKqq0tyeUGLgKSaRSsDOgE38Zeqfe/SUCTbXx5RCpdxZEgHLXjAGg/JLcEGIxCvmwSKEEP1QwLIupghY48aF1lPcvBlobjanbi2onX/jtEAELLVRb3qmPxLL4b7aoJIVFgZPwNLaNkGQ3ypTpgTeX0EA3ntPXkcw+u7PHnrI0Q6pgPXxx46yZ55R3l+a5s79USSdgvjaa8rXj3s9RghY7ueotdV3ewNB7zsrOzvbaxL3lStXQimJuy+GDRuGlJSUts/OJO4vvviix7Z9+/aVJXH3xZw5cyAIAr777jvN7QklBp5iEqkY4gxUvBScKCxJFJWm3FnfbZDlwApl9JXTuBIhIYRohwKWdYlIAev0aU/vyShTi5Y5Xs7f9QpYogh066bcdr0J6Inl0BOB9cMPwbn99ERL5ee7fs/NDby/ggAsWyavI9iPIXf7y18c7ZAGXToFrJwc5f3dBSIpDz3kKn/1VeXrx70eMyKw7Hbf7Q0Eve+sDRs2QBAErFq1SlaelZWF1NRU2Gw2TfXV1taic+fOuOOOO2Tl11xzDfr37y+rr7KyEoIg4A2FBGWiKOLXv/41zjnnHM3tCTUGnmISqRjiDNhEh6gUTBGrbA5QMMZH7iw3oetfrlUIj7xxW8jFq7ScYtz95nY0nwmvOcmEEBJqKGBZF1MELF/T5oJlpaXAmTPm1K0WPR73xRfrG289agaxNKLoPw+/Wn1UEICkJEdAYrAELPdcSGrshRdcv0+e7H08tObACqaApeY8eBOwtm1zlOXmKu8vXanR/VH08MOu8kWLlK8vaT1nzgDXXut5vA4dtF1jq1fLy2w23+0NhEDeWZmZmUhKSsJbb72FsrIyZGdnQxAEFBQUtG0zYcIEtGvXDgcOHGgrGzp0KGbMmIEPPvgAW7ZswSuvvILU1FR06dLFYyXC8vJyxMXFYfTo0SgtLcXy5ctx3nnnoX///vj555/btnvyySfxyCOPYOXKlSgvL8f777+Pq6++GoIgYJn7xRsGGHiKSaRimDNgE4FlI4MkYHUFZvVSL3RVFVkuAistpxjpuRvw15K9nE5ICCEqoYBlXUwRsDIzg+Mp+7LVq4FTp8ypWy165jzpFbD0zCcjlsSZ8z85WX7KvOXh1zJDNSUFeO654Nx+WmfOCgIwa5br9+ee8z4mapLBS23pUnk9wei7P3vwQUc7vAlYzz+vb5yd18Mjj7jKFy5Uvs6k9bhfa05LSABuvll/f0+fln82ikDeWU1NTXjssceQkpKC+Ph4DBgwACtXrpRtM27cOAiCgLq6urayJ554Av369UOXLl0QFxeH1NRU3HPPPdi71/sq9SUlJcjIyECHDh1w9tln43//93898nO9++67uOaaa3D22WcjLi4OSUlJGDZsGDZt2qS5X1bAwFNMIhXDIrDKZvuOhAqlzTwH+Hp12+dQ58DyZuOXfUERixBCVEABy7qYImDddltoPcVNm8xbck0tjMAiGpHm/HePevGWh18Uva8e583URNGE0mbPdv2ek+N9TNRY9+6u3999Vz6+ZrZ/2DDlbf78Z0c7vAlY0lUYtZjzenj0UVfZK68oX2vBuDbcz5tRmPLOIgFj4CkmkYohSdzbpvJZ1KSRYRZYhdCbcWVCQghRhgKWdTHFGZCu6R4KO3ECOHLEnLrVoicH1kUX6Rtv5sCKCNRGLknz8Iui43OnTtov5bQ0Y26JuLjA63jxRdfvzz6rfUycdsEFrt/feUc+vmY8Djp3doz/998rb/vAA4523HCDq8wpYOmJWpNeD4895vq8YIHytWbGWCiZUVDAsiYGnmISqQTsDAQ7gbseeyFFJmCJNjvGL/sCaTnFlonEGpRfwigsQghRgAKWdTHFGZCGA4TCmpuB//439F6YVq9Ur4AFAPfco97bJZZDi97pTYN89lntl/KNNxpzS/TrF3gdL73k+v3pp+VjoqUe6TTDYAhYycmOdqoJ+PQmYG3d6iiTTqHUYs7rQTqF8K9/Vb7WzBgLb22TfjYKCljWxMBTTCKVgJwBm/jLCoAWnDroywrGAgBEmx2LNlfjqvzSkItXTttWfdTgs0sIIZEFBSzrYoozIPWmQmGnTgHV1ebULc2o7SvTtrN89WogI8N/fZde6vo9EAGrqEjZk5TOPyOWItBZoGr1S6lZScCaO9f1+1NP6RsTd3v7bfkYmfE4cJ6LH39U3i4729GO3/7WVeYUsKQRaHrsf/7H9fvLLxt7rRllRkEBy5oYeIpJpBKQM1C7LfSClE4By4los2N7TSM27m7AO9v2h1TAuuqFUq5MSAghfqCAZV0MdQac2ZY7dgyNh+S0qVPlyXCMtuRkR3bjnj3VlatNMnPhhfrH/d57/bc3P5/ilYUJNA//73+v/TI2SsCSarB6bd481++TJukbE3dbskQ+RmY9DgoL1a3wOHGiox1SAauiwlEm7b8eu/VW1+/z5xt7rRllRkEBy5oYeIpJpBKQM/DtutALUgEKWFJEmz3kCd6HzCvnVEJCCPEBBSzrYpgzoDXbstlm9azV3iwxUbvIpGbchw+neGVxAo3A+uMftV9uVhKw5s93/f7kk/rGxN0WL5aPkVm3bXk50NiovN399zva4U3AevnlwNowdqzr93nzjL3WjDKjoIBlTQw8xSRSiYoILFkOrDF+uxTqBO8X56zFqr8vd4iDtdsc0zQJIYQAoIBlZQxzBgLJQkxzmdYcVXoyfxPLoTUHVnOza5bqggXA7bdrv9QGDDDmkr3kksDrkAo4t97q6Ftzs/YcWO3bu35/9VX5GBt9q0rzkalJ4m6GgOVswxNPuMrmzlW+1oweC19tk342CgpY1sTAU0wiFWNyYFlApFJrM7o7Es/7EIakCd6DLVzNz52Ao9POk7d3Xm+/7SWEkGiCApZ1McQZUOt905TNmRXayHHn6oNhgVot0tss1VBanz6B19G7t2dZSoqjr1rqka6suHChfHzN6LtTFz56VHnbCRMc20oj3zZvdpz3Ll0Ca8PTT7s+v/SS8rUWiuvEKChgWRMDTzGJVKJiFUJv9n//41fECmaC94tz1mLL1BuBvLNgn+be1l8S5BeMpYhFCIl6KGBZF0OcgVDNSYlUc58fZtS4q62XhARRdOTZFwRPTdL5uUeP0F+e7tapkzn1OvusRaz7zW9cv7uvxmd0+4YOdWnCR44obz9+vGNbqYB17bWBtcG5LsMzz7jKXnxR+Vozov9K1+KwYfLPRkEBy5oYeIpJpBKwM3CmGZj1q9ALUnqsbI7frjkTvD+y/CtTBaz5uRPUtbfil1hem+iYXshphoSQKIMClnUxxBkIVVbgSDX3DN1GjbvaeknIEEVHRE1KivzU6YlGCpWZ0c6hQ9UJZddf7/rdPZm53mPHxnovr6lx1a1GwLrvPse2gwcbMybSdRmefdZVPse/mxTQWEitsdHRhqQk79+7T6s0CgpY1sTAU0wilaiNwMo7C5jVS5X4I9rsuOO1T0yLvjo67TwvkVdeIrHmXgyUzfactslphoSQKIEClnVhBJYFjRFYUY97niI9+aCclpQU3Nm9etvpy5wzYPPylLeVRmC554LSe/zzzvNeXlvrqvvwYeV6jBSwYmPlfcvJcX03e7by9WXEeWludtT14Yfevz92TP7ZKChgWRMDTzGJVKIuB5a71ZSp6mrzmRZc+vxGwwWsuybP1dHurt4/c5ohISTCoYBlXZgDy2LGHFjkF6SnkBqxI4eU0jZSAcs9Eknvcc8/33v5vn2uug8dUq5n3DjHtkYIWO3ayfv23HOu72bN0nZt6bVTpxx1rV/v/fsff5R/NgoKWNbEwFNMIpWoWIXQn5UrTPCWTNf7xz9W4OKctYYKWA9MnmZsfyoUlgwhhJAwhgKWdeEqhBazYK9CKIoOdaSw0PEzUJHL6PoiEZVjJD190tmicYKIwUI5RguFGCyUI04QQ37ZBsPuvlt5m+uuc/3uLuToPa4vAeu771x1NzQo1/O//+vY1ggBKy5O3rfJk7U9Qow4H04Bq7jY+/c//CD/bBQUsKyJgaeYRCoBOQPfrgu9AGWWgGUTHdPy3CLMGqefj/m5EwwTsvRFYPmyro7phIzCIoREKBSwrIthzoA0AzVNn3XooF3wEUVgxAj/9Y4Y4VmvKDrEL/f5XikpjnI97TCyvkhEwxi1tso3KS93CFdThZk4JMj3bxBSMFWYGfFC1n33KW8jTYo+c6Z8+PUeV7qyodS+/dZVd329cj333uvY9qabAh+L9u3lfcvN9d1vbxhxPpqaHHUVFXn/vrFR/tkoKGBZEwNPMYlUoj4Cq2yWZyJ0mwgUjHGJQpLt7b/83Dx1sCEilvocWBqsdptxFwghhFgICljWxVBnwJmBumNH/55PXFzovWEzLD4eGDJE/1Jx552nb8yzsvzXO3y4XECSil6+lrtzLm+mtg1G1heJaBwjm02+idgsojTesb9dkO/v/FwkjPQqYgV7dq9ZObCef15522uucf0+fbr8FOg9vi8B65tvXHX/97/K9dxzj2NbswWsGTOUL0cjzsvJk466fOXAYhL36MLAU0wiFWNyYLnnZApDm3M+sGa8IydW2WxV+8zLvT+4qxCqtW/X6bsYuLohIcTiUMCyLqY4A4884t/z6dbNHM/ZCpafL09Io2SXXOL6/fzztY+1nimEgU47NKIN0YbGMWppkRfXjle3/xQh36M42LN7x483vs4773TkkFLabtAg1++33AKsXu2apan32Bdc4L38//0/1+mtrVWux0gBq107uR48ZYp8rHzNTHXOXjXinDQ2OuqSJpCX2gcfyD8bBQUsa2LgKSaRSlSvQujTlAU5+7SzcGTaufjj5Dl4YPI03DV5ru6IrItz1mLz1ME+j/P/2bvy8Ciq7HsTmoQlQsKWEBFUEhgdFGVcGPVnWCYSiKiMuDsiqwgMOjgOQwhJSMuusrihjojsiGExLJJAGtlcx9FBRkUUFAmyKEsMmqKT8/ujqK6lq7qrqqu7qjvvfN/56Hr13qtb71V3cU/uu8+w/UYjsDSWS7LdDRkYGJwGJmA5F2FxBv7618h6zE5hXBwffmIkAksaMmI0AstMEnerE7+zRPLBYWKMamrEYhdxOEKpfpFXStZSHCopzS8Ki+P4IDy7vx6RYIMG6uWhRIVpRWB9/LG4KrRVq+D9PPAA/zjcdJM195qUBBQW8rsBquXVkq5M1Vq9GgqbNjVW3yowAcuZsHCKGWIVITsDXo7f/c520cl+Hi24yHR+rI7j12JW3lDVPp/JG4xjBe10iFkmcmAFWC7JdjdkYGBwGpiA5VzYEoHFKPKyy8TPRgUso6EUHo+5NlbbUN9gYoyqqsTDLDLWPos8sqJoELAyM+23QYuNG6uX79qlvSpUjfffz4tNVq+g1tLLBZv69hXn386NYq3SrpmA5UyQ3QYwOB+WOANejt/9ThnBU88oCEzK/Fgdx6/FPRNm6orUkvYnrat7maHRXQj1RtCx3Q3tAVvWycAgAxOwnIuwOAOjR9vvdUYLMzLEz0YFLOnWdHpYUmKujdU21DeYGCNpvqcBZKz9ACqRFUXDBqGzZtlvg1EOH26s/n33Ab162W+3XbRqBTETsJwJstsABufDUmfAy/E5pFYNBqZ3sF1QspOz8oai4/i1eDpvCI4VXCQ7FyhSS1pPa5mhfySWIlJKr+ihO4cZ290w4mDLOhkYVMEELOciLM7AqFH2e0vRws6dxc8sAis2YXCMzpV70KaNWBRqBFakk7ib4ZQp9ttglCkpxsb1rrucPw/hpFUriJmA5UyQ3QYwOB9hcwaUIsrZU8DLPWwXliJBPj/WhajI/z9VwUkrUiuQgCVdZnhUIYjxosZMoKaaT0A/rb0+0cPoLpJsd8PIgC3rZGDQBBOwnIuwOAMjR9rvLdlBMzmwpFmnWQ6s2ITBMdpWLs9hFWoOrGjg0KH22xBuXnWV/TbYTSv0ayZgORNktwEMzkdEnQEvB1RMA6a09RdH3G2A566zXXyKNJU7GUrPaS077Dh+raweV/MbL17NvTrw9ZSix951xuw1u7shgzGwZZ0MDJpgApZzERZn4JFHAnsxKSn2e1LhotsNTJigv/6114qf27UzPtZsF8LogIExUltxmE/mdyGMBt57r/02hJvSDUfrK61YQcwELGeC7DaAwfmwxRkQlhp6pvPcXyEufVt8p+2iUqTIR2pdJBOntOoqlx1Kz11fvAk/T+tiXPRgEVjOA1vWycAQEEzAci7C4gyMGBHYi4nVUITu3YGVK43lPLrmGvFzMAGL4/gQhpIS/l8hoio3N/A1cnPlkU+B2ghRQso2gWwpLxezWZvtL9ZhYMzVVhy6iEMp8e2VkVjCcSnlRmX0FREwaJD9NoSbXbvab4PdZBFYsQuy2wAG58NxzoCQEN7dxnaBKVK8Z8JM1cgqpdiFQmHZ4RrZuWfzHtZ/PanowcQS54GJigwMAeG4dxaDD2FxBoYNs99TChfj4ozvHx+I3bqJny+8UH08OY6P4ElNlbdNS+PLq6u1x7x5c3XhiOP4iKgWLfz7dLu1xSYtW1JT1TNUB+svxiHV+baVc/AWuYFGjQKOEcepr0J1EYeJ5EYlpclOVFIaJpJbU7yKhhxY991nvw1GmZRkbFz//Gfnz0M4yXJgxTbIbgMYnA/HOgP7ymwXliLFERMKDO00qKxXVdDavOjBlqs5C2xZJwNDQDj2ncUQHmfAaEKb+ry2plkz8bOagMVxYnST0vuVRu5oJQrv0CHwXG3dKta94orgUVfBbJGyoqJeC1damuOeLneLBRMnqo5RoFWoLuJkBcGiriZPtv8xZwR+/3sgK8t+O+wi24UwtkF2G8AQGRw7dgz9+vVDkyZNkJmZibKyMt1tHesMeDnAnWq7uBQJCjmulLsVqrG2oBmOFbQL7ZpS0cPL8bmxCpuBJQx3AFgEFgNDQDj2ncUQHmdgyBBjns1ll9nvXTmBagKW3txJWqJhMAHr3XfFujfdFLiuXlsE1mPxKpDOt5zuEQuWLVPt48iRwEMrPQg2DWfPBl9lyhgZtmwZ+Ws2bGj/fRNZ93PABCxnguw2gCEyuOuuuzBkyBBUV1dj3bp1SE5OxokTJ3S1dbQzUDHVdnEpnJTmwLpnwszIXVsRSgSYAAAgAElEQVQpegjLNmdcKq8n7G4Ya+KVcodMJ90fW9bJwBAQjn5n1XOExRl4+GFjnk1iov3elROYni4fRyO71ymXAgoMJmBt3y7WDSRg6bVFyurqkB+laEQwnW8FSSKwVqxQ7ePYscB9SA+CTcNvv/HT98c/2v+IM9ZfWgUmYDkTFk4xg1NRVVWFhg0b4tChQ76yrKwsvPbaa7raO9oZ8HLAogG2C03hpLAL4YgJBZG55rT2fNJ8NfHmxDfyerEmjng5fsnkzI4qQt0M59wvW9bJwKAJR7+z6jnC4gzUh4zM4aBSwNJaFmiEwQSsHTvEujfeqF3PjC0nT4b2HEUh9Oh8b9JA38G5pStV+zl6VL1tcvJ5MUBSGGwaqqt5u1q1isxjLF2Vysgo0CowAcuZsHCKI4OtW7di8ODB6Ny5M5o0aYL09HTcdttt+Pjjj4O2PXPmDJ588klkZ2ejVatWICIUFhYGbLNjxw707dsXycnJaNSoETIyMlBcXGzR3VhjZ1VVFR577DG0bdsWiYmJ6Nq1K5YvX+47/8knnyAlJUXWZsyYMRg3bpwuexzvDHg5oGIaUBy9Sd3rCuTHQkL2z/K74v4J0yIbgfVUmrZ48/MBsXxmhrMjlYzCywFLBp6/P4cvlYzmZZ2x9MwwOBKOf2fVY4TFGXjoIfu9pWikUsAyspuhFi++OPBc7dwp1r3hBu16Zmw5diz0ZynKoEfnW0V3+g4+L3xTtR8rlxCeOWONFqqXXq/9XyVG59EqMAHLmbBwiiODgQMHomfPnnjxxRexbds2rFq1Ct27d4fL5cLWrVsDtj1w4ACaN2+Om2++GcOGDUMwYWjp0qWIj4/Hvffei7fffhsVFRV49dVXMXnyZIvvKjQ7s7OzkZycjPnz56OiosLXZunSpQCA7du3o4Pir2J5eXkYMWKELnuixhnwcnxi99f62i5IhUpvgVyUOFpwEZ7NexjHQ81tpYsBBJGjX4jlU9o6P1LJCKItqklY1qk6Bw5c1hkt0W0MUY+oeWfVQ4TFGXjwQfu9pWhk27bycbRCdTAiYP3xj9r1zNhy+HCoT1LUQY/O9xb92Xfw3t/fUu2nsjKIGCA5CHa9kyet0UL1kglYjGq0CkzAciYsnOLI4OjRo35lVVVVSE1NRe/evQO2raurQ11dHQDg+PHjCCQM/fDDD2jatCkeffRRwzaePn0aGzdu1DxfWlqKX375xRI7N2zYACLCMkVixuzsbKSnp8Pr9cZ+BJYaaqqBNaOAqQrBZ9rFQFGy7QKVksoILK2IrHMFwfIehZkb/xFE7DrP+TfzyxCjRZSI5rxSZ34U7XOnOss2AdEU3cYQ9YjKd1Y9QVicgQceMObZNG5sv3flBCoFLCtyYAUTsHbtEusGErDM5MA6eDD0ZynKoEfnK6EBvoM9k0tU+/nhhyBigOQg2PVOnIhsBNa5c/Z/lRidR6vABCxnwsIpthc9e/ZEp06ddNcPJgwVFRWBiHDQxAvxmWeeQXx8PBYuXOh3bv78+YiLi8OLL75oiZ3Dhg1DUlISzp07JytftmwZiAi7du1SzYHVo0eP2MiBFQxqy5ViPPG7YfGssPn5ZYM6xJsZlxjrX290jd3LyqJ5Z79fToh2TVHZVcoJiLboNoaoRlS/s2IcYXEG7r/fmGfTubP93pUTqBSwAP07/2nt/GhEwLruOl7pKCnh/1VuG2Z0F8LFi2NmJ0KOUx8aZXl1dXCdbzXd4Ts4t1JdwDp0SL1tmzbnxQBJYbBpePNN3q5I7YBXXW3/V4nRebQKTMByJiycYvtw6tQpNG/eHAMGDNDdJpgw1KtXL7Ro0QLvvPMOunbtigYNGqB169Z45JFHcPr06aD9jxs3DnFxcZg/f76vbM6cOSAi5OXlWWZn9+7dce211/qVC/+Bf/nllwHwSy+HDh2Ks2fPorS0FMnJyTh+/HjAaxcWFoKIfIwZZ0CWP4gRT/8ujP0Hia5xyrKyveuM3dfedZGxSw+qjjlbwIrm6DaGqAQTsJyLsDgDd99tn5cUbUxIED+rCVgcB+Tm8ueVqohwnJsLbNmi3v8llwSeq927xboul7xtWhovWknVGi1btKjsI8rAcbz5qany20pNBXr1EgUl6e326hV4SNbQ7ZKDNarX/e479bZC39JCPdOQlARce21kHmnlmDAyEln3nWQCljNh4RTbhwceeAAul0tXIncBwYShzp07o1GjRrjgggswdepUeDwezJw5E40bN8aNN97oW+IXCHl5eSAizJkzB9OnTwcRGU4AH8zOzMxM9OnTx6+8srISRISpU6cCAI4dO4a+ffuicePGyMjIwObNm3XbEJPOgJA/SJmwvD5yVufIXEcZXeOkZWXRHIElXUI4JT14/UgjmseWISoRk++sGIHlzgDH8UKM3d5SNDItTXtM3W7+vLK+2y2GAan1GUzAku5CqKRUIJOKWG63/5Z2iYn6+4gScBzQr5/8NoJRqCeIOGqa4zrqLxZofO8OHgwiBkgO7H5stcaA0Z/1WdyzCkzAciYsnGJ7kJ+fDyLCc889Z6idHmGIiDBt2jRZuRBFVV5erus6xcXFECKYZs2aZchGvXbm5OT4lQsCltJ+M4hpZ6CmGni5h/0iUoRYW+BfVhfWCCyJIKWMrnHSsrJojhI6c8TZAlY0R7cxRCVi+p0V5bDcGTC6zCwW2bGjuXZaApYAjpPXlwpCZgWsESP02eZ2y9t9+ql4rlkzc304HKE+yr17+0dupaUBX3W+VSxYp/5+/fbbwH1LD+x+3Bn1sXNnfnllRoY912/QwN77twpMwHImLJziyEPIUzVlyhTDbfUszSMifPLJJ7Lyr776CkSEGTNm6LrOE088gbi4OBARJk6cGBY79SwhDAUx7wx4OaBiWr2IxjpacBF25XeXlf005XLgqbb6RKgpF4ZmgxBdEy7BKJRcWk4S1Izg9GFnC1gsAoshwoj5d1YUw1JnQEj0bbenaDevvNJcu9TU4GOs5RGaEbA4Tjv5u5RxcbzyIhXM/vc/uWesJ9G8sg8Hw0zOerXbPXlSXs5xEJdhEgGlparX/+abIGKA5MDux51RH/v35+e2T5/IXzsuzvxeGUuWWGODVV99JmA5E2S3AWYhiFdFRUWm2gcThkaMGAE1AevLL7+Enmiquro6jB49GvHx8ViwYAFeeuklxMXF4YknnrDUzuHDh6smcV++fDmEJO6hot44A16O3znPMx3YXAjM6Wq74GQl75kwEx3Hr8XsiQ/LyqsLWuvvZ+2Y0OwQomusFjWsyKUly40WRTvlnfrB2QJWNEe3MUQl6s07KwphqTMQya3OnMwrrjDXTrE7tSqk9aWoqFDv89JLrZsvj0dsKxWwzPbhYFj1KG/erDJlffuKBevXq17/668D9ys9sPtxZ9THW2/l59YOASsUfvmlNf1Y9dVnApYzQXYbYAbCsrz8/HzTfQQThjZv3gy16K5nn30WRIQdO3Zo9l1bW4uhQ4fC5XJh+fLlvvKFCxeiQYMGGDVqlK4cWnrs3LhxI4gIK1askJXn5OQgPT0dXq9X13UCoV47A5sn2S48WcUO49ejw/j1fgKWbi6+07jwpCVEWbmszMpcWkJutFkZKkLYTGeKKye/d7aABURvdBtDVKJev7McDkudgZIS+70tJ7BLF3PtmjcPPsbS+lKYEbCMzleJZMc8swJWifque06DVY/y8uUqU5aTIxZs2KB6/X37AvcrPbD7cWfUx9xcfm6jTcDau9eafqz66jMBy5kguw0wiqeffhpEhJycHLz33nt+FLBt2zY0aNAAkydPlrXfuHEjVq1ahQULFoCIcNddd2HVqlVYtWoVqqurZXX79++PxMREuN1ulJeXY9q0aWjUqBFuFWRtDcyaNQsJCQlYo7Lbx4oVK+ByuYLm7DJiZ3Z2NlJSUvDKK6+goqICw4cPBxFhyZIlAa+hF/XaGfBywNyrbRefrOCzeQ/j/gnT8HZ+tqy8TiUvliqnXQQsvNXk9RXRNWYisLSWB5oRR4ItNfRy8rZOFK4E/HzQ+QJWtEa3MUQl6vU7y+FgEVhh4O9/b65dKBFYW7eq9xmuCKwvvjB3j/UsAuudd1SmTKpgbNqkev1gUS/SA7sfd0Z97NePn1upfhkN/O9/remHRWDFNshuA4wiKysLQlJ0NQrweDxQi1zq0KGDZtsDBw7I6p49exbjx4/HRRddBJfLhfbt22PChAn47bffAtp49uxZ7N69W/P8zp07UVNTE7API3ZWVVVh7NixSEtLQ0JCAq688kpZ5FeoqPfOQE01MK+b7QJU1FMpIOldVjazI1AxVX15oK9c5/K0mmp9Sw3r6uTnnYyfDzhfwAKiM7qNISpR799ZDgbLgRUGXn65uXatWwcfY2l9KcwIWKHkwJIKWCwHlubtnjqlMmW33CIWaAhYwfRB6YHdjzujPtopYMXFAUlJ5tp+8ok1NrAcWLENstsABueDOQPgnWvPNGB6B/uFoKhigOgavZFTc7vJ+1L2bYSv9Arcl2Cn91z0CFg/fSPa+VRbu60JjnM18rFlwhWDxWDvLOeC7UIYBl52mbl2bdoEH19pfSm0BKyOHQP3N3KkPtuUOwhKQ4T0iGBqfTgcoT7KbjdQVeU/ZbV/yvYVfDZtg6pjH2zZlvTA7sedUR+zs4HZs/l9Fey4fq9e5trNnGnN9a0CE7CcCQunmCFWwZwBCaRLz/aVAQtvc4BI5GAGiq7Rs6xsrg2Rb9tm+ossTsaJ/dElYNV6o2dsGaIS7J3lXFjuDHAcL8TY7S3ayVatzLVTE7A4jl97U1Liv65Nii1b1PtMTeXbaYU/vP++tj1C+FFurn/7r74S62VkyHfW09uHw8Fx4m3pjcRS3u6ZM/LzxcXAtoQ/+Qr60XqkpfHl0uH5/PPA15AWZJEHLuJMPXIu4pBFHgygkpD6YXQmheexUyfzEVhWkUVgxTbIbgMYnA/mDASAlwPcqfYLRU5lsOiaQMvKKqbpXB5oJc8vNfz1dPSILMe/Dq+AFSxfmJn+omVsGaIS0fzOqqqqwmOPPYa2bdsiMTERXbt21Z0SoKKiAn/605/QunVrNG3aFFdccQXmzp3rt5lLXl4errrqKqSkpCAxMRGXXHIJhg8fjoMHD6r2u2fPHgwcOBCtWrVCQkICOnTogEcffdTU/YXFGZDusqZkjx7m93OPdqqpIFKxS7qEkON4VSPQkkwplMmWlExN9VdJgMDrg9LS+DAiNc9TKmBlZvJ13G4gPl5/H1EA4baUmmxqKtC7N593P9Dtnj7tP6xbSAyFyaVSVY1PK+/QU4UcZiT5h4ZVUhryqVi3AOUiDvlUjCOUGlI/jM5maiovXtltB5F1GjYTsJwJstsABucjmp2BiKBiqv1CkVOpV/hQS5oe6o6HoXBfWfSILMe+Co+A5eX05QszimiKbmOISkTzOys7OxvJycmYP38+KioqMGzYMBARli5dGrBdeXk54uPj0aNHD6xduxbl5eX461//CiLC2LFjZXVHjRqFGTNm4O2334bH48ELL7yAtm3bIjU1FSdOnJDVraioQOPGjXHLLbfgrbfewrZt27Bo0SL87W9/M3V/YXEG+vUL7MmYTSwU7VSqHURA587iZ0HA4jhxDAONleANchxw3XXmvEgtAev55wN7m8oILAHt2onlU6dGrXClxPffi7eVkiLe1qJFYnnPnv63q8yBRQRspZ6+g1vpbdk5YZXlZ5/5t3MRh7q+6t+tWuKfk1LKDSo+uYjDeuona2emH0bns7DQfhuktGIVMROwnAmy2wAG5yOanYGIwMsBiwfYLxY5ncGED6WosXedfbZ+uiJ6RJZjX1ovYHk5YMnA8/1avGsg92v0jC1DVCJa31kbNmwAEWHZsmWy8uzsbKSnp/tFUknxwAMPIDExEb/88ous/JZbbkGzZsG/Zxs3bgQR4bXXXvOVVVdXo23btsjNzUVdXZ3Bu1FHxCOw6jObNPEvUxOw9CZfErxBo8mapF7kf/6jXmfXrsBzvG+fWFcqYLVvL5aXllr3TNmMw4fF20pLE8uXLxfL77nHv93Jk/5DW0E9fAf9aZ2vXJrnXm1a8knfPE8kd8AqVvXD6HyGshGB1bRqHwcmYDkTZLcBDM5HtDoDEYWX45e8PdXWfqHIsQwifChFjf0V1l3z5Z7G2n25MXpElqP/kwhYacHr64HeBPvSnSX1oqY6esaWISoRre+sYcOGISkpCefOnZOVL1u2DESEXQGc/IcffhgXXHABamtrZeV333032uhI1v3RRx+BiPDGG2/4yhYuXAgiwrZt2wzeiTbC4gz06WO/t+REKpfXEcnX97RubWz7u7Q0oLra2M6PSi/y00/V6+3YEXiOv/5arCtNFN+hg1i+bp11z5TNOHRIvK22kr9LBROwfvrJf2i30c2+g9tord95j8c/MM5FHI5QKuqCPBe1FIdKStOMnhL6UUZeGe2HkdEsPZ7QvotMwHImyG4DGJyPaHUGbIGX44UXz3Se+8qAxX92gHjkMKoJH9LzXs7AuDXnl7l5pvmfE3JpLbpDf1+zMoAzP0aPyPLjXmsFLC+nM/fY+bEyGoX1W1X0jC1DVCJa31ndu3fHtdde61cu3M/LL7+s2fb9999HYmIiRo8ejcOHD+PkyZNYtGgRGjZsiKefflq1zblz53D27Fl88sknuPHGG9GpUydUVVX5zg8ZMgREhK1bt+LGG29Ew4YNkZycjHvvvReHDx82dY9hcQZuucV+LylaKBWwWrXyT9QejLNnh+ZFakVgbd8eeI737xfrXnqpWC4VsGLIwfzuO/G2LrxQLA8mYJ044T+079L/+Q5upzV+50tKgI8/lpdlkcfQ/GaRR/WUVf0wMpplSUlo30UmYDkTZLcBDM5HtDoDjoGQqHwKi84KKHzIBC6dEUBKQUxaJuTdMtpXxTTgl+PRI7Ic2WOtgGU099i3QRwPJX47Ez1jyxCViNZ3VmZmJvr06eNXXllZCSLC1KlTA7bftWsX0tPTQUQgIjRo0AAzZ6pHSR45csRXj4hw/fXX+4lSffr0AREhOTkZ//jHP1BRUYH58+ejZcuWyMjIQHV1dUB7jh49is8//1zGefPmWe8MZGfb7yVFC5UCVkmJsfZPPhmaF2lWwJJGYEkFrIsvFsvXrLHumbIZBw6It3XRRWJ5MAHr+HGVoaWbfAd30Gq/8x4P8NFH8rIBZOy5GEAlqqes6oeR0SxZBFZsguw2gMH5iFZnwHGoqQZe7e0AAckhVAof0nNGdh+cezU/tso+AAPRRBLOvwn4b0n0iCxH/mutgGU099heg8s2fj0VPWPLEJWI1ndWZmYmcnJy/MoFAWvatGmabT/++GO0adMG/fv3R2lpKSoqKpCfn4+EhAQUFxf71T937hw++ugj7Ny5E6+++ioyMzPRqVMnVFZW+upkZ2eDiPDII4/I2gr/oX/11VcD3k9hYSGkIpmUljoDvXvb7yVFCzMzxc92RGBpJXF/993AcywVsC65RCy/5BKxPNRQC4eA44AlS8Tbat9ePCcVsO6+27/tsWP+Q7uDbvQdSAUi6erODz6Qt2ERWIxmmJJivw0CWQ6s2AbZbQCD8xGtzoAjIeTKKkq2X0Cym1Lho64utL6EvFpKYcSqnQydjMpPzQtYwm6P0p0iwx2Bdfbn6BlbhqhEtL6zQllCeP311+OKK67wS/ReUFCA+Ph4fPPNNwGvfejQIbhcLtmOhffeey+ICKtXr5bV/fXXXxEXF4dHH300YJ8Ri8Dq1ct+b8mJbNDAvywjQ/zcsqXpHFh1Zr1ILQErWJiENIm7VMC69FKx/K23rHumbADH8fnxlSnGGjTgyzkOWLFCLL/rLv8+jh71H9qddIPv4E5aJTsn5Nd//315G5YDizEWyHYhjF2Q3QYwOB/R6gw4GmdPAU//zn4RyU56pouiifdc6P1tm+kvjFi1k6GZ3fYihcOfGBewhKWVMzvK73NWBlAxNbw5sKp/YgIWQ1gRre+s4cOHqyZxX758OYIlcU9MTMTDDz/sV15aWgoiwvr164Nev3379rIIsKlTpyKQgDV69OigfSphqTPAcUB5uXwZGaPI1q39y9LTxc8tWvDjqHdXwUmTAI8H3oF3m/ci//1v9ToVFYHn+quvxLpSAatjR7G8qIiPwvJ49IddcBxff+VKPrps5Upj7S0CxwH9+vG3oaUZ5eYCS5eKx2oC1pEj/u120R99BwPpTV//ubnibe7e7d+O7ULIGM3s18+arzETsJwJstsABucjWp0Bx8PL8YnHp7W3X0yyk7MygK1TQu9HKcbsXQfsnGuNjdKk82pRS3bih38bE7C8HLBkoChCKUWpwmbA3G7Gx0UvfjnBBCyGsCJa31kbN24EEWHFihWy8pycHKSnp/tFV0lxySWXoEuXLn518vLyQET49NNPA17766+/Rnx8PMaMGeMr++KLLxAXF4fhw4fL6q5evRpEhMWLF+u9NR8scQY4DigsBJo2td9LcjLVBCwp4+J48aq6mlczgvWnJ0rrPH0RWlKVBLBGwLr4YrFcKmBJmZYmhi1pPUPFxUCbNurtU1MDt7cYejXEuyXaoZqAVVkpr+92Ax/EXe8ruItWIi2NL5fe2q5d/tdyEQeuj/pzIURUlVJu0KgpF3EopVxZOzP9MDIaYVGRNd9NJmA5E2S3AQzOR7Q6A1EDqSCyrwxwt7FfVIooVSJ9lGKU3ZyVwefZ0opa2jbDPiHr0MeiLe7U4PX1JrWfJ4hYGiKXsGzTKKqOMQGLIayI5ndWdnY2UlJS8Morr6CiogLDhw8HEWHJkiW+OkOGDEGDBg1w8OBBX5mwNK9v375Yu3YtysrKMH78eLhcLvzpT3/y1fvss8/Qq1cvvPjii3jnnXdQVlaGZ555Bu3atUPr1q1lfQLAmDFjEB8fj3HjxqG8vBwvvPACUlJScPXVV6Ompsbw/YXsDHAckJMTmmcTH+9fprYMMSkJSEy03xMLN3NzeRHL7ba0368bdAJ3SpHoX7ndncCtWwPP+5dfinU7dBCfhSZN1PtTCzOSPkNCuJOesQmziKV3FWdcHJCcLB6rCViHD8vbAMDXLa7zFSy/Y4Xq7ezYoX7NU8c51BYU+p2opDRMJLdu0clFHCaSG5WUprufFSuAqVPt/3owRietyH8FMAHLqSC7DWBwPqLZGYhKnD3FR9LYLdrYSaM7B0aCr/QKj6ATKg59pF/A0p3UvjlfzzONF+ik52Zl8JFXZu/1zI9MwGIIK6L5nVVVVYWxY8ciLS0NCQkJuPLKK7F8+XJZnUGDBoGIcODAAVl5SUkJbrrpJrRq1QpNmzbF73//e7jdbvzyyy++Oj/++CMefPBBdOzYEU2aNEFCQgIuvfRSjBw5Et9//72fPV6vF9OnT0dGRgYaNmyItm3b4tFHH8XJkydN3V/IzoDeUJVArK4GNmyQl9XWyo+FZWQPPGDuGn362O/BGaGwzM/ifr8dokhCoyVglZcHnvcvvhDrCgKW3mdBmQjH6DNkRSKdADCaR1/gwIH+ff3wg7wOAOxvca2vYMfo5f6NwG8CqXaNn38GzlX9KivcSX80HS3lIk5WEKgfABg92v6vBmP0MtQdCAEmYDkVZLcBDM5HNDsDUYuaauD1WwOKDHUFDhB1wsUvNwJFKfbbYZSrhkR+WeH3H4jXD7aE0EyCdmVy/FDv7cwRJmAxhBXsneVchOQMcJz2ki8jBICqKnlZXZ1/HY4zt61WXByfIN1u782IvUKCdgv7raU4/JqsCIP46CP1+mVlgedeKmC1by+GLem9N8EGve202ocBJSXmhlhNwDp0yP8x/iblD76CHaOWqdqwbZv6NX76CeBOn5UVrqXbQno0pAcB6wG4/Xb7vx6M0UsrNiZlApYzQXYbwOB8MGfARtRU83mc/nULMCVd5vgfL2yHFRP747EJ41BbEOOCVrQxkssKv3tPvK5WBJawTHVzvrH7EHaKtFJwOn2YCVgMYQV7ZzkXITkDZkNVlASAX37xL1MeW3W9aOHs2eHpVxoGYVbA+t//xLrt2xufG8EGs3NqRSiHBqyMwPruO//H+JuUbr6CnaOWGrLhxAmg5qRc2IykgMUisBhDIYvAil2Q3QYwOB/MGXAIFMnDnyv7HzqMX48O49djZ353+0UbRglNLis0kyD+4G5tAUtrt0G9/HY734+VgtOpQ0zAYggr2DvLuQjJGTAbqqIkAJw961+mPLbqetHCJ58MT7/SMIgPP1Svs3lz4Lnfu1es27698bkRbDA7p1aEcmhAbw4sInnKrzvv9O/r4EF5fY4Dvkq62lewY+QS/0bgU5CpXe/YMeDXE3KxN1ICFscBp07Z93VgjG6yHFixDbLbAAbngzkDzgTnrcXg1z9Eh/Hr8bvxb+F4QTugkEViOY5rRgUXpLSEJj2RXAd2qgtYAXcb1MFp7fkIQMBawenk90zAYggr2DvLuXBMBNavv/qXKY9ZBJY1lIZBaAlYmzYFnnupgHXRRTEVgQWYS+12+eX+DvqBA/I6qanAJ3SVr2B448Wqmytu2aJ+jaNHgbPH7RGwhI0kI/X4M8YW2S6EsQ2y2wAG54M5A84F563FvC37cI27HJ3Hv4Ud+X+Et8CEWMEYGaoJUgGFJh2RXAd2iPWlApYVifBnZQCe6fKyUPHzQWv7CwQzEW0M1sKGOWDvLOfCMTmwfvvNv0x5zHFAixbG+4+LA1q1st+DM2JvGHJg1anlj/rgA/X6GzcGnvvPPxfrtmsXUzmwBLNyc8VL6jVPuUnit9/6m/8f6uor+Au9odqurEy9/x9/BKqPyvPFRUrAMjIOjIxK9uvHIrBiGWS3AQzOB3MGnA/OW4vd+09g/WeHcV3hOkzJG4HqglZAIYvIchZVBCm9QtO2meqT/+27Yh1BwPLtNmiRvVKGip++tbY/NYQS0cZgDWycAw9Qn1YAACAASURBVPbOci4csQshANTU+JcpjwFg5Ehz1wjXcrxwMUy7EPrt4GdWwNqzR6zbrp2xZ8HhuxAK4Dj+Umlp5s375hv/85/Slb6Dh2iharvNm9X7rqwEqirPyAojJWAxMoZKK766TMByJshuAxicD+YMRA927z/hy4ulFZHFBC2HcNtMidAULGquOe/4qzn933jEeu42fJnR3QaNMFSc2G9tf0qEGtHGEDpsngP2znIuQnYGOA7o21e/B6MWxiH0Iy1TOwa0l7wFYm4u8P33oXleDRtGzsuThuMEGzsj7N6dj+qS4v331euuWyfOi8fD55zyePgkSLNnA4MHi3UvvFCse8EFgeddGWoktBPCnYyMTahQ3ptGv8pHMdjjLQ0Qk27WSAS4iMM31MFXMIP+Dhdxfu02bVLv//Bh4MwPp2WFa+j2kB4L6YFgYxZ5MIBKkEUeNKJq2bGLuIh9FRhjh1YFTzIBy5kguw1gcD6YMxA92LSn0idgSYWsyXmj8FLe/ZicNwq/H78Cf5nwFHbkd0dVQWv7hZz6yqfSgB2zjbURkqpLsb9CPO9uw4sCqwaHz+5QEW4BK9SINobQYfMcsHeWc2GJM8BxwKRJgMsV3ItJTQUKC+VlAHDunH896bGQgOeTT4x5TY0b89c7fNi859WyZeQ8PLdb7uFZbUdqKmRJl3buVK+XnAz06qVviWhCgiiMdemiXictzf/elM+Q2629nDA1NXB7o89rcbH2M6ZyDaPDLKToWryYP3YRhwIqxBlq6lf5DCWhgArhIs7XbuNG9X5/+AE4fSh8AlY+FeMIycfFS/Gy40pKQz4VMyGL0RRDTV/HBCxnguw2gMH5YM5A9EAagaWHHcevxT0TZmLkhIn496Sr7Rd1GANz7zr/Sf96i3i+uLUk8iVMVIORPEfH9wXvzyysiGhjCA0OmAP2znIuLBOw+vXT57307euf2wkAamvlZcpoI+E4K8uc13TLLfrrZmYCd9wRec+umcrvr9Lzs+paubn8PNxwgzX9tWnD93fFFern9QpPWuFOVkZdCc+q1jOmEuVldDiETRKfe44XrzZQTtBG66kfVq/kr7t+vXq1778HTh6UbwVopYAFItSSfFzqNM6XUi4TsRgNM9QNRJmA5UyQ3QYwOB/MGYgecN5a/MFdhosNiFhSMWt23iCcY0ngnUu1CKyvy8Xzk1uE3wYp9OQ5UopbRz7X7i9UGF06uft5luDdahidA7VnOkSwd5ZzYYkzYDSHkbI+ANTV2e9ZSTlgQOSv2by5/9hKz1dUWHu9Xr2s7a93b+DKK9XPGUGo7QPBZJ4uo0MhRJm88QaQT/q/H98O4a9bWqpe5bvvgJMHTsoKrRawjHAiuS19hBhjnywCKzZBdhvA4HwwZyC6MHfLPsPilXLJ4aqJ/fBbQYr9gg3jeQaIVtlX5l83nLYI0JPnaG43f3FrxiXq/VmBvevM3xdL8G4NjM6BWlRhiGDvLOfCkhxYZnaRk5YJ/ehtb8ZrMtIuLk47l1M4GUzA0srsbZbx8dZuLRcfrx2BZQShtteC8KwGu2eVZD1GHh1p0//+m8MRauMXxaTGOiLUpaYCHId169SrHTwI/PzNz7JCuwSsWopDJaWxKCxGXWQ5sGIbZLcBDM4HcwaiC5y3FoNf/xAdxq83FYkljci6f8I0PJ03GM/mPYwpeSPw9sQ/4WxBSwcIOvWQWvmCvnonwnbMECOvTPWhELusREjJ66MwwbuRpZuRAovAYgiAkJ0BK5a1WdVPtDPYEkKtdWVOYnq69hzrRajttWDwGfvPbI8vv7uRIZAGbx1caLAxEeDx4K231E8tWgQc+d/PssLVdEdIUxbqnGeRx/bHjjE6yHYhjF2Q3QYwOB/MGYg+cN5azNuyD9e4y2Wi1B+Ky9BjZkVIEVqCsPVs3iDszO+OsyxSK/xcfCdQU60uVny5yR57dOU50kEroTv/UhA6PcG7nqWbdtrGcmAxaCBkZ6CkJHSvxqp+op3BBKw1a+y3MRi1kr7rhdZSUitg8BkbQCWGb1+ZPuu72caf6zfvLUGzZtpV2jX5SVZgt4BlZpwY6x8TE4HCQhaBFasguw1gcD6YMxC94Ly12L3/BDbtqcTu/SfAeWt94la3yZtDErKkgtbQCQWoLXCA0BOrnHu1ulhRMRXwTLffvlBotYBhOjJMoMMTvOtZuhkoiiwSUVtsF0IGDbAILAcxmID15pv22xiMF16oPcd6oNyN0mj7QDD4jGlFFrVrp74K8bLL/J3zbxcYu2ag6wpsQSdkBXYLWCwCi1EPA+yRYAhMwHImyG4DGJwP5gzEJqprzmHcyv8gI2+DJULWs3kP2y+GMEYf91dY+2B7OV7ACdWuMCxtswRmxaFIRm0FnIPwL9Vk7yznguXA0qiblBR5Dy+YgLV0qbXXi4+3vr+rr1Y/pxe//RZaez3PapBnIVhup/btgZQU//Lbb/e/pNEcWJWUGjSnVEs6LisooQEhTZvZhiwHFqNZhrKUkAlYzgTZbQCD88GcgdgD563Fwws+CDlPljISa0t+FlDYDHUsGotRL+ffbEzI0BNB5OV4ASeUpYR7SpyXX8rs8rxQo7bM2rptJlDcWn69WRl8eRjHk72znAtbdiF0u+XHAuz2qqTMyYn8NRMTgaefBgoKgMmTgfJy+fnx4629Xjh2IbzmGvVzs2cDTz7J/1tdrf0s/fKLenshGZU0dIPj+DLpObUyE8+qcnc9F3HoReXIp8kojJ+MPzcr9xNu1ASszz4ztguh2q5+LuKQRR4MpJV4jGZjMP1LVuFdugkDqARZ5NEtJon3UxTSnLNdCBmNMtRk7kzAcibIbgMYnA/mDMQeQt2pMJCINStvKKoKWtkvjDBGD/UsJTMTQTStvVivrMiYTdK2wnHFVHuFLLMJ0u1c0rf8frH/iikRGT/2znIuLHEGOA7o21ef9yKsH5GWCVB6OWrtGzY05zUlJOiv26mTPRFYkWRuLi8k/fGP1vTXpg3f37XXBq8bH8+LZ0ohi+OAiRMDt01LAwoLeSoj/5KSgKZN/esXF4viVmGh5rNQS/wzV0q5PiHIRRwKqBBnqKlf/TOUhAIq9NW97Tb/r8annwKNqBpfUmbQcVlP/WQClIs45FMxjpBGXjEVVlIa8qlYU8gKdD8CldFiymO1cWJkNEqPx9zrhglYzgTZbQCD88GcgdgC563FH9xllkVeqbHz+Lfw70lXA4UsGosxGHXknDIbQTTtIrHezufOi1IhJnif241PqK+0LxLRWnvXGbN177rwJlXXc98rHhSv8flq68YiANg7y7mImICVkAAUFYl/dpeeEyAtUy4zTEyMjFfVurX9nl04mZrKR8AJ86CVF6p5cz6iSs+4N2woilF6BCyBguglPEP9+hm7Fz3LQoU6ffsGfUZ/pURMoiKZeLWBgkfiCcKTmoD1yQcc1hN/X7VafTRogL0DC/zEK6GdnuWHAgOJS3rvR0uwElhJaZhIbiZeMYbEkhJzrxsmYDkTZLcBDM4HcwZiC7v3nwibcKUWjXW0oJ3MUa4qaIFfC1o4QDhhdBQD5ZwyE0Hk5fyXr1nFed34/iO9G6CZCCyzUVuBYOS+Vzwgnv98jbXjoQH2znIuIrqEUJr4RFquViZdCjZ4cHg9qU6d7PfmIkG1JXXbt6vXXbKEP9+/v3z+Hn/cv27r1mJ/111nzKbevY09Q2GmdEmc0aV/agLW4ZH6+vh2iHwpnpFr67kXs33+QG3xT3rKd7yC7mbCFaMlZBFYsQWy2wAG54M5A7GFTXsqIyJgSYWseybMxIgJBbhnwkx0HL8Wnce/hW8mdbJfNGEMD2d0BGYZnN+969QfWDMRRLKIrTBx61P25JUyOhZGo7b2BPkzpdFoOOkSwr2R+Q8ge2c5F5YlcQ8WDaNMfCI9J0CtzGiSeDNs0sR+by4SVIOWgLVsGX/+ttvEsrVr+TxWirq/NmuN2bOBlSuB05ddb8ym+Hjg1Cl9z1CYKU1K7iLjyddvup6Tp97iOHAtUv0imPzax8WhLjUNF7YRI7+OUKp2xJbBexH71Hc/Uv5GCXiSpvuOZ9ETtj7Cemnzo8QYZG5YDqzYA9ltAIPzwZyB2EKkIrD0CFvP5A3GzwVt7RdcGK3lzI7A6keMtdGK/DEaQbT7eeDNwcZtVua8CkZ3G331rM4rZTQazej4Te8QOHrM6PVlApaGSGkx2DvLuQjZGdBagqZF4c/u0jIBamVG+2fUphrefVe9rloE1rp1wLhxfnWPUmvf4W7qbtyu0aPtHxsJs8iDLDL+3GWRx3eYlga8PshYH68P4tubuXYwm0Lp80Ua6fv8NI2ze3oYY4BsF8LYA9ltAIPzwZyB2EIkcmCZjdCa+/IrOPhWPupmZigc4hDzFjFGmOfnq1hPMv8guZeMRhCZ4SeLgc/eDM84GM0rJUArv5SX4yOcAo27NAKqphp4yohIHCB6zEwEGBOwGCQI2RkoKTHmuQiJT6RlAtTKjPbPqE01aAlYixbx52+9VSx7+214x4z1q3uMWvkOd5GJpPC3327/2Eg4gEowgIw/dwOoRFZktA/31SXo1894Oz02hdLn6zTI95kJWIyhMifHfPQVwAQsp4LsNoDB+WDOQOwhXLsQWsXrijfirbeW4dyetbzzXlPN/7unBHi5hwMEGkZLGShKyWgEkRke+S+wZlT4+t/9vH4RS09+KS/Hj9lTqSp1ZsrFq1d6WTcvZvJpSQWs/71t7gfLINg7y7lgEVj1iGrYtk297htv8Odzc8Wy0lJ8eJ1/tNRxauk73Ek3GLcrBiOwiIxHPWWRB0VFwKIh1j3zVkRgvSCJwHrvhr+FfUUvY2yzZ09zrxoBTMByJshuAxicD+YMxB44by0Gv/6h7UJVMA5a8AF27DuGTXsqsXv/CXDeWtF5n6WM0mKMSi6+E9hXBnim89xXBuyvECOPzp7SGckVAg99BMy4NLzX0JPYPWB+Kcl4CX2UjhPL1z8hj9LaNgN4Ki0Em1Wix8zsgrjsPvGYCVj1HiwHFtXvHFhaAtbrr/PnJTsDnlu7HgsbP+JXVypg7aAbjdkUQzmw1Hb943NZBb4v4boNieO/ItUcqpKckwPrCZrpO/aOfRzV1UBysq1T5WjWl58Ts4yPFzcfNQMmYDkTZLcBDM4HcwZiE5y3FvO27EPmxI22C1V6eY27HHO37BOFLGGJ1f4KXviY2i4Eh53RFgYTWaZEIEfa+y9H4F51JHbXm19qYX++jw1PimXvvcj3YXUCe2luMjMRWMvuFY//Vxr+Hzawd5aT4dhdCM30b5bXG0w8Hq1Ug1aE22uv8ef79vWVfTZtA16hYX51T1AL36FhASuGdiFUO6W3D2l7jwdY+wdn7EK4ny7B4/Ss7/jQnY+xoEjGkDl7tvnXDROwnAmy2wAG54M5A7ELzluLKwrfsV2Y0kshb9fg1z/kRSwl9AoAjIxSzupsvI2hvFIKqi2Z1J1f6jyX3CmPwHrvpfB8B6R5q8zkwFp6j1j+xfrw/JApwN5ZzoUlzgDHyZeaqbFvXzH6iuPk5wJFZentPxQ+Iokq+v3v+X9jcRsztcQzWmrEq6/y53NyfGU7J27EazTYr64gYLmIw2fURb89bdqIoRjhmmNhHvv2lUWTqXE99ZVFUbmIw3rqG/Qa66mfX/SVtI9S4u9LKxKrlHJl7UtKgAfvEdsZiZqqJfV7MXI/0uttpR54jGb7jr/OfYylpbOYLuKQRR4MoBJkkUfzWYolPvmk+dcNE7CcCbLbAAbngzkDsQun7EhohvO27PO/oYAJrs9zcktg9Uhgz2o+cmvrU+FfosYYW5zcEigvMtleZWmel+PzZBnt65We4uf35xsXwfRQuTuk0V0Il94tlrEIrHoPy5wBjgPGj9f2WFJTgcJCnsolgWlp/hE4av273eaWEzZsCCQlaZ9/9FHx89y5/HXS0qz32jIy7PUahXGWClkVFep1X3mFP3/LLb6yz2Zswhv0F7+6JygF+VSMI6RzbuLj+cgr6ToijuOfjcaNg7ft0QMoKAAaNZKfS0ri51p5z243f63CQqBpU82+j1Aq8qnYT8SaREXwqohPZygJk6goqODgIg4TyY1K8n+mNtEtfu09HmDQILHdSWpmeK7V7kV6P2epkWbbnyjF93kL9ZIJWIf+PJZFYFlEF3Gq35tKSlOdu1gii8CKPZDdBjA4H8wZiF1s2lNpuxBllte4y9WjsLRyZE1rxyfqrlFZDF9TzYtabLdDRr3c8Wxo7YWdBdUStuulNIn7+/OtT3g/rb36ToRGdkGU1mW7ENZ7WOoMHDmiz3tRRjepRTtpgeN4D3/lSt4LeuMN4LLL9F23e3f1cqmA9cIL4nXKy4Fu3ez39qyiMM65uaKIpSVgzZ/Pn8/O9pWdW/8O3mp0v1/dGnIBpB1h5EdlAhyOE6OjdEa+1fbLxdGb/uw79uZN4vv529/EeiNG8GXS/gP1ed5+ZUQUEfA/6iyr+xoNMiwwuIjzK/wHTZdNj5AmbsIEsdo9tMzwXAe6FyLgflqs2u4nSkY2veM73kK9MJbmiOM8Ziw4jg+es/txdiqbNdP3LKynfrK50jt30U6WAys2QXYbwOB8MGcgdhHNEVgdxq/H9n3HtG9OmiNLEAuC4ewpc8vJGOsfJ7cIrf3WKcD8/zt/bIFw+v7LxpOsB6O7tXried8uiIr8ZcpdEAG5gPX5anM/VAbB3lnOhaXOgNTrDpV6YUXupJHiLms+Acuqvp1KIR/Z1q3q5188n8PvT38SyzZvxudd7g7tunFxls3hf+n3vs8jmq9AcTHg/dsTYp2ZM033r8wf9T/6nex8Hj1l6vaVBeNpmuq0/POfYtkdtDqkMVfLz3UPLVet+yO1QS/a4jveSj1lAhb++teY/2pEgmZyo8UKhbR3ZsEELGeC7DaAwflgzkDsgvPW4g/uMl9uqWjjrfO2q0dhhQIvxy8rdLexXyRhZNTL916yPgJLoFbi+bJCsc6aUep1pALWnres/a5qgL2znAtLlxC2bm2dl6P3mkaWFGpF90hzYAnCjd7dFaOR0lAfLQHr+ef5cejdWywrK0PtgDv96hra2a5BA/U5NDjOtRQnWwZ3N60EEbD6knFivVmzTPWv3MGPyF/AmkBTTA29suCfNFU1MO7vfxer5VKp6blWuxci4F6NqK4jlIqeJD4TFdQDf6W5Yp0xY3zT1jd4Oi1GFRrdnTKWorCkae/MgglYzgTZbQCD88GcgdjG3C37bBeiQqFqLiwr4OX4HFme6Tz3V/BLDXfOtV+sYGRU8vnr+efT6hxYAium+X9HKqZKzk9V/x5Jd0T876rwfFcVYO8s58IyZ8DqxDiRvKZUwHrppfDcjxPp8QBbtqife+45fhx69RLLysuB228P7ZoNG4ZlDu86L2A9Q5IlhE8/HVL/WeTxHYZLwJpAU5CUxEdeSVOTPf64WK0PbQp5fKT3QgTcR0tV6x2hVPQgcVlpBfXAGJon1hk92mcjxwFFRQHTijGqMIuMPZPKuVOmeYsWKtPemUUo76yqqio89thjaNu2LRITE9G1a1csX748aLvXX38dRKTKI0eO+NUvLy9H9+7d0bhxY7Rs2RKDBg3C0aNH/epxHIeioiJ06NABCQkJ6Ny5M+bNm2f4vpwAstsABueDOQOxDc5bi8Gvf4gO49dHZSTWZZM2obrmXOQGzMsBMy61X7BgZFRy20y5qGQli5L5vqVRVtKE7lvd6t+XxXeKdTaO17+cNwSwd5ZzYZmAZfXWZJG85ogR4mch91N92GqtpERbwJo7lx+Hnj3Fsi1bgFtvDe2aiYlhmUNBwHpWKmA980xI/Q+gEt/hF3FyAWtB5lRT3SoL8ugptGnjv0HkmDFitd5UHvL4SO+FCLiflqjWq6Q0PwFrND0n1pEIWAKC7d9gNVu2jNy1wsEBZOyZHEAlSEoCli3j9djrrvOvlpbG67VODhi1CqG8s7Kzs5GcnIz58+ejoqICw4YNAxFh6dKlAdsJAtbrr7+O9957T0ZO8eXdtm0bXC4Xbr/9dpSVlWHJkiW48MIL0aVLF/z222+yusOGDUNiYiJmzpwJj8eDf/7zn4iLi8OUKVMM35vdsHCKGWIVzBmIfXDeWszbsg/XuMttF6TM8I7nd1q/lDAQ9O7ExsgYSc7sCCy6I7zXmH8zsK+Mj0hcNUQsLy/y/554OWDuVf59zMpQz61lEdg7y7lgEVgEDB8ufn755fDcjxPp8fBRVWrnhG3CevQQy7ZuBXJyQrtm48ZhmUNRwJKELj3zjGURWF8qBKyFv5tmqltlQT4V+6ZCCmlaNmlOKivuhQh4QCOJe1ABa9Qo1a/iUvWArrDwwgsjd61w0GwElvCMXH+9f7VOnZz/k2UVzL6zNmzYACLCsmXLZOXZ2dlIT0+H1+vVbCsIWB999FHQ61x77bW4/PLLce6c+If8Xbt2gYjworBEHfz/i+Li4jB1qjxafvjw4WjcuDF++uknvbfmCFg4xQyxCuYM1B9w3lrs3n8Cm/ZU4u9vfmq7MGWEYVtKqAYvJ48sCURlomtGxljkv27hlzAKGyfsrwAW/1mjvspuhRaCvbOcC0tzYFm5NZnea1qRA0tNwKovObC0BKxnnuHHIStLLKuokO1KKNBQDqykJPU5DDkH1goQAbPpMbHes8+a6z8uDtXN5LmH/ASsy6YbMddHZcEkmgwiPlBMimHDxGqhRGBp5VF6kBap1j9Mbf0ErFH0vFhHQ8Baoh7QFRZedFHkrhUOms2BJTwjagJWZqbzg0atgtl31rBhw5CUlCQTlgBg2bJlICLs2rVLs61eAeuHH34AEWHaNP8UD506dUJ2drbv+KmnnoLaEsTdu3dDT1SY02DhFDPEKpgzUD8hXVoYDbzGXR7ZKCwvx+cFmtLW30F3twHefFjMmyVNZM3IGKssbmW8zbaZln812TvLubA0IW5hYeS9HSu2QxsyRPz8xBPieq5Y3mqtqIi/x7Iy9fO33gqsXAlceaVYVlAAdOwY2nWbNeOvy3F8yEhJCTB4sKm+vqGLfZ8FAWsOjRXrCFFkJubxuy59MZBWIos8cBHnt4Rw4eUz/Jq5iEMWeTCASnztlHWUBQVUBCJJBNb5cXmup9hHH9oY0phLd7ITbJxDf1Wt+4NCwPJQllzAevRR1a/hG2/ou38r2KGD9X1GmmZ2IQwUgZWZySKwgqF79+649tpr/cqF/5+8LPzxQgWCgJWamor4+HikpKRgwIAB2LNnj6zeO++8AyLChg0b/PoYOHAg2rZt6zu+99570bp1a796v/zyC4gIEyZMMHJ7tsPCKWaIVTBnoP4i2pYW7t5/IvKDpJbsXRlVIohdZhx8RsZY5rT2wJ7VlubGYu8s58ISAYvjeJFAbwSWMhpGLTrGyLVzc/VdNyFBvbxRI/lxWhp/P9XV+vuONqamAoWFwP33h9wXRw0A0hmJ1awZP7bKyLnERF3X0rrGvbQURMA8qTAzZ47xZ0SFRygVx6iVrOz5DjN9hy7ikE/FOELye6qkNORTsUzIUfZdSIV8DqxqTnVczlBTcOQybLMQ3VNKuXARp2mjkl6Kx79IFBQ9lIVH6QWxzsiRqt/Bf9+h7/6t4MUXW9eXXXQRh1LKPT9XgedOGjAJqAtYHTvy5+Pj7b83LVoF4Z01b948fP755zKqJUoXkJmZiT59+viVV1ZWgoj8lvJJsWnTJkycOBGlpaV499138fzzz6Ndu3Zo2rQpPv30U1+9pUuXgojw3nvv+fUxYsQIJCQk+I6zs7PRuXNn1eslJCRgxIgRmvY4ERZOMYOTcezYMfTr1w9NmjRBZmYmysrKdLdlzgCDdGnh9n3HsGPfMYxZ+m/bBSsl13922O6hCoyaaqBkhP2iASOjE2lRbiz2znIuQhawOA7o14/3UAIt00pN5aN+iop4b0x6Li2N34bNrLfDcXx7reWEgnCldxmZUC83lxexlLaZ5T332O9FnqehZX9BeI7iMYmKfEKWrrHVmgtXYLFGy+6PqRtcxGEeSbKfC4nopc9Iq1bBbdRxzb8TL2C5iMN64p9/5ZIwpRBBBL9+iqgAyU057Mvk+6izaMnqr5SISVTkE6+0bAx2rx7Kwkh60XfsHf6I5vdfz/1bwUsvtezRtZUu4jCR3PiJUmQnKikNE8ktGzO3WxxutRxgDRrw+qeJxztiVG5UYBbCO0uNhYWFmu0yMzORk5PjVy4IWGrL/gLhwIEDSEpKwm233eYrEwSs999/36/+iBEjkCjZxCI7Oxu/+93vVPtOSEjAI488onrOqSC7DWCIDO666y4MGTIE1dXVWLduHZKTk3HihL5oFeYMMKiB89Yid95220UrKa8s2oy5W/ZFdimhGWx1R14cmNzCfoGCkVEPQ8yNxd5ZzkXIApbe5VnCkjVAvnzM4xE9G2l9MxD6XbmSXz62cqXp5Wl+nqMVHtyqVfZ7kWHiRHKjMkh0TyRsKO0wWixT247+r+pL54zyCZoFIuNLwZTlk2kSJunsw8x4GLFRjdvoZjxCL/mON7Z/RC5E6Pz+S5fChcqMjPA/TpFMfXdH3FrfwXt0nZ/Y16YNr6NL/1bgBLuNMjfXGhHLbARWKEsItZCTk4M2bdr4jtkSQoaYRlVVFRo2bIhDhw75yrKysvDaa6/pas+cAQYt7Nh3zHbRSsqLz/87+PUPnS1iebnI5MWa1g5YM4qP/KqpBmZcYr84wciohxXG/jopBXtnORchCVhGEmRL18BoQVrfCoSaiF26dscKD87pWZZNso4IlZRqaqmblTZUJaXxEUJC+XPP+T8PLVtacr1x9LSpZNzKc0/RBF19GKVwzUZUHVL/79JNMgFrPo3wabrC96vOYDJyvdRakZyZGf5HShkkGk7eRqKAtY76q9Zxu2MjJZ/v2QkBZt9Zw4cPV03ivnz5cgRL4q6FhgQyhAAAIABJREFUPn36IC0tzXcsJHGfPn26X93OnTvLkrhPmTIFaknc33vvPbAk7hHA1q1bMXjwYHTu3BlNmjRBeno6brvtNnz88cdB2545cwZPPvkksrOz0apVKwQL/5Pi1VdfBRGhadOmId5BcBi1s6qqCo899hjatm2LxMREdO3aFcuXL/ed/+STT5CSkiJrM2bMGIwbN06XPcwZYNAC563FH9xltgtXaozoroRm4OX4BNazMuSOuzsNeGsE8NmbwO7n5f++2vt8veYKh//88eI7+Rxce9ep5xSqqQYW9geKku0XKBgZA7G4Ff+8mgB7ZzkXIQlYRrMG+zJVa0Ba1wpYldXYqn5Wr7bfg4x13n67+Pn558PzPBDhb/QMsshYf2r1F9GDYR2Px2h2SO0/pSswgub7jl+mEaIWbXA8s8gTsEq3bvJUZdL9A6Ts3Dm8j9CAAeY165QUYM8eg9cjUdguoQF+5+PieB2+TRtnR1gFozKXl1mYfWdt3LgRRIQVK1bIynNycpCeng6v12uov2+//RZJSUm44447ZOXXXXcdunTpIutPEKVeeuklX9nnn3+OuLg4P7HrkUceQePGjfHTTz8ZssdukN0GGMXAgQPRs2dPvPjii9i2bRtWrVqF7t27w+VyYevWrQHbHjhwAM2bN8fNN9+MYcOGQa+A9cMPP6B58+ZIT0+PiIBl1M7s7GwkJydj/vz5qKio8LUR1NTt27ejQ4cOsjZ5eXm6E7YxZ4AhEOZu2We7WKUWifWH4jLs2HcMm/ZUYvf+E86NyPJyvNikJTop66qJXrMy+HK9y65qqnlRbMM/gDld7RcrGBnVuEZ9C/VgYO8s5yIkActoRJGwD7wWpHWtgFURT1b1s2aN/V5krLNPH/GzUsCyMALucXpWJjzooVr9VfTnsI7HdHoypPaf02UKAWs4iM5r0QbHcwCVBKzy0EP8JqDCcdeu6vUuuyy8j9DYsf4/R0ZodKXwXbTSd/AmDQzrvTmBwf6OEQyhvLOys7ORkpKCV155BRUVFRg+fDiICEuWLPHVGTJkCBo0aICDBw/6ynr37o3JkydjzZo12Lp1K+bMmYP09HRccMEFfjsRejweuFwuDBgwAOXl5Vi6dCkuuugidOnSBb/99pus7rBhw5CYmIhZs2Zh27ZtyMvLQ1xcHKZMmWL43uwG2W2AUaitN62qqkJqaip69+4dsG1dXR3q6uoAAMePH4deAevWW29F//79MWjQIF0C1unTp7Fx40bN86Wlpfjll18ssXPDhg0gIixbtkxWnp2d7VN4WQQWQzjBeWtxx/M7bRetgvEad3l05MfSAyOilx5UHWc7JDI6j9MuMvVss3eWc8EisHTabUU/a9da0w+jNvv3Fz+/8EJ4ngfiI5usiMBaQveFdTysiMAaTi/7jgUBq6TE+HgGi8AaNAh4UqK3XX21er3LLw/vI/TYY/4/R0b42mvG6t9HS30Hy+jesN6bExjs7xjBEMo7q6qqCmPHjkVaWhoSEhJw5ZVXylZIAcCgQYNARDhw4ICv7PHHH8fll1+OCy64AC6XC+np6XjwwQfx1VdfqV6nrKwM3bt3R6NGjdCiRQs89NBDqnoJx3EoLCxE+/btkZCQgE6dOmGeWu6+KADZbYBV6NmzJzp16qS7vl4Ba/Hixbjgggtw6NAh3QLWM888g/j4eCxcuNDv3Pz58xEXF4cXX3zREjuHDRumusZ22bJlENbYquXA6tGjB8uBxWAZqmvO4bJJm2wXqYJFZXUYHwX5sezCthn2CxaMjEp+u93wo8zeWc4Fy4EVgFbnwFq3zn7vMQx0Qg4s3zM2bJh4rPx/PccBLVpYcq3HaLYlObBm0N8dnQNrO92IYfSK7/gVGgai81o0x6Emxdj9B7rcww8D//iHeNytm3q9Ll3C+xiFKmAZ1an/Qm/4DhbRg2G9NyfQzggshvCB7DbACpw6dQrNmzfHgAEDdLfRI2AdPXoULVu2xAvn/6qiV8ACgHHjxiEuLg7z58/3lc2ZMwdEhLy8PMvs1LvLwcCBAzF06FCcPXsWpaWlSE5OxvHjxwNeu7CwENLtQpkzwBAITlxKqEXH58eyA5FKLM/IaIR71xl+lJmA5VxEbBdCPdl7pfWtQqiZj63chbC01H7vMUycSG4cpghmvtaaqxEjxGNJvhkfRo605FpjaQ6IjO5CWOdXPp3+EdIugcGvGdouhO/S/2Eoveo7/hcNlWnR3kLrdiEcMgQYP148vuYa9XpaubGs4uOPm//Kp6UBR48aa/MwLfAdLKCH/c6zHFhyMAHLmSC7DbACDzzwAFwul65E7gL0CFh33nknbrjhBt9yPiMCFsDnmSIizJkzB9OnTwcRobi4WHd7PXZmZmaiT58+fuWVlZUgIkydOhUAcOzYMfTt2xeNGzdGRkYGNm/erNsG5gww6AHnrcXg1z+URTs5kReP55cTsigsFQg5tmZ2tF+4YGQsbMYisGIMITsDHCdmXg7kXenxWqT1rYJe+5SeFhFq++ViWznHL3mxwoNbv95+L/I8ay3sy0vxcBGHT0gjaZGU8fGBz19yia65UfLnS7phWzmH2qHDxXLhD9Ycx4d9lJTwOxMavL86lbK5NAYDqAS9qBwbKEe1nhCZVEq5cBGHOKr162ct9Q/Yh1kK1yQCGlE1dlN3U/e6nW5UCFhD5Fo0x+GrTrka98//+zFdjb/R0xhIK5FFHs1IrKFDgX/+Uzy+9lp1M6+6yrJHV5V/+5v/z5Feut3A6dPG2jxCL/oO1lM/1fFhuxCKYAKWM0F2GxAq8vPzQUR4Trl9bRAEE4beeustJCQkYO/evb4yowIWABQXF0OIYJo1a5ahtnrszMzMRE5Ojl+5IGBNm2Z+K3IBzBlg0AvOW4t5W/bhGne5TDTKmLDBduFKyd37T9g9XM6FkGNrTwmwcy6wdQrgmQ7sK+N3OdxTAqweCTzV1n6BgzF2Ob0Dy4EVY7DEGeA43jMJtPe8Hhitb9S+1FR12xSiSl1qGip6uXFhGw4u4qyLkHHQEsJaikdtVg/gnntC7ussJYII+IR0KAsdO/JzYfJaNQ2bqJbfS0tBBCxprFhCWFysPe86GUxU8mosoaukVEwkN1zEP0eTqMhwH2eoieGlmWcoCQVUiEZUjXwqxhHSf//Ke62hhlhN4s6Oq5oNQXW1/Ks1OZ/DpDi331JCrXs6QqnIp2I/oWbYMGDCBPH4+uvVzdTKjWUVzS4h7NKFH4+TJ/XVF35bTtMFiucmTTY+iYlAYSFw6hSQmRm4z2D6sJ0U7oNFYMUmyG4DQkFRURGIyFT2/EDCkJAU/oknnsDJkyd9vO+++9C0aVOcPHkyYBJ2KZ544gnExcWBiDBx4kRL7QT0LyEMBcwZYDAKzluL3ftP+HYArK45h0ELPrBdtJJy055Ku4cp+uHleEHLM10UuBb/2bxg8cIfgWX32i+cMDqDHnN/gGHvLOfCUmdAGulSUSH3XvTAaH2jtvXtG9jD6tYN5zaVo38O7zg2JA7rqZ91HpxWSInFfJDewCgKHGlUJ0QyBbGphhrKy9q08atzlhqBSJ+AVdepMz8XFq+FuotWggj4Fw31ldUKyZJCvFYwAUvr/Hrq6xOvgj1Hgfq4i5YbslcQkn6k1rJjM/eqPH6NBiM3l59CjgP6SW7rlEKI0bonoVwaJUYEDB8O5OWJVbtrBI01bx78VkIRci691Fzau+ef59vl5ASvK30mgkbunZ++Vq2C99uggfn7DjeF+xCeH7NgApYzQXYbYBaCeFVUVGSqfSBh6MCBA5DmflLj7bffHrD/uro6jB49GvHx8ViwYAFeeuklxMXF4YknnrDMTgAYPny4ahL35cuXQ0jiHiqYM8BgBThvLZ5+50vbhSsWgRVmCMsQZ2XIxYiZHYGF/YGZivLiVsCiAcDZU2IfNdXA9EvtF1AY7ePcq03vrsneWc5FWJ0BqfcSjvpGoHP9TUUvMVdPuHIThZud6Et0pK8t6escKTzi3/3Or86vBiKwjrW+LCxroQbSmyACXpUIWE7gRHKH/ByFe6dCI3yNBoNIfUnbSdKhLKmMj3A4YgQwcaJ4+oYbzJsqDbqbMgUoL+f5f/+nr32gIMEFC4DZKps7vvSS/kfbWO4026fdcoaylJAJWM4E2W2AGQjL8vLz8033EUgY+vXXX+HxePzYp08fNGrUCB6PB3v27NHsu7a2FkOHDoXL5ZJtl7lw4UI0aNAAo0aN8uXVCsVOANi4cSOICCtWrJCV5+TkID09HV6vV9d1AoE5AwxW4V/bv7FduGI5sCIEYRni3nX8v4IYoVWuRE01MLmF/UIKoz1cPIAJWDGIeiFg6dyNsC4uDj/Gp6Hh+aiZcOwOFwl2oi/Rib4IT/+dO/uV/UYJIAL+TcHXdn3R4HLUtQltSZ8aBQHrXzREnE+b54HffS8VR6iN6ZxjtRSHnynZVNtw3P/r9JBmUvGfDNqp3J1w5EggP1+scuON5syMiwNcklWXO3eKPwPJOk0MtBr61Cn/nysi4IUX9K1WNbN7ZRim0jaGmsydCVjOBNltgFE8/fTTICLk5OTgvffe86OAbdu2oUGDBpg8ebKs/caNG7Fq1SosWLAARIS77roLq1atwqpVq1AtXWitAr05sGbNmoWEhASsWbPG79yKFSvgcrmC5uwyYmd2djZSUlLwyiuvoKKiAsOHDwcRYcmSJUFt1QPmDDBYhakb9touYHUYz3YhjBpUHQcmt9Qvesy9Cpjcyn7xhdEaVrAlhLGGeiFgeTyGPKws8iCLjLVxEjPpK9xHS8LTf4gC1td0aVjsEgSs12iw7eMfy9xEfTRPK5cQ6mUWeUAEPPooMGmSeEpvtFQwCgtfDP4MaPL0af+fKyJg3Dh97Y3+tgjjE2v0eMz9nDMBy5kguw0wiqysLARa2ifA4/FALXKpQ4cOmm0PHDgQ8Np6BayzZ89i9+7dmud37tyJmpqagH0YsbOqqgpjx45FWloaEhIScOWVV8oiv0IFcwYYrIITIrAGLfiARV9FE2qqgQX9gMLm2kLHzAx+2aKX4+uvGQVMudB+AYYxNBa34ufTINg7y7moFwJWSYkhz2oAlWAAGWvjJGbSVxgp2dnMUnbq5FdWQw1BpE/A+pY6hMUuQcBaQA/bPv6xzArK0jxtVsAaQCUgAkaNAgoKxFM332yN2YL7Z/BnQJNaAtbIkfraG/1tEcYn1lhSYu7nnAlYzgTZbQCD88GcAQarUF1zDhf/014Ba/u+Y3YPA4MZ1FQDu58HNufzOyPuKw+8DNHLAasfsV+EYQyNa0YZflTYO8u5qBcCVj2MwLqHloWnf5Vt0IwIWF9Tx7DYJSRxf50G2T7+scxNdIvm6Z9N5MACiRFGo0cDhYXiqawsa8wWFgNZFYF15oz/zxUR8Pe/62vPIrB4sgis2ALZbQCD88GcAQYrcd8r79kqYM0p/4pFYNUXeDlgyV3hFVhmZAB71gDlxcBLNxlb8sgYnNMuMpwLi72znIt6IWDVsxxYGbQPGfRVWPo+0zY0Aeu/8VeGJQeWIGAtpIfE+bR5HmIxB9YiekAzB9YR8t+hMvj4iDmexowBJk8Wq5gVsJQ5sN5/X/wZsCIHVlWV+i6F8+ezHFh6yXJgxR7IbgMYnA/mDDBYieqac+hWXGariPUHdxnmbtnHhKz6AKO7IgZkCvByD2DpPcD6cfKdEwXUVAOv9rZf+Iklfrvd0JSzd5ZzETZnQOnh6fFWpPWtRj3ahTCD9qEDHQhL3/sow6/sHMWhF5XjKx3RVV/TpZjacJLldglLCN+gv9g+/lIW0qSQn6Od9Efb70PgG/QXEKnvQlhJAVQfDUp32Rs9Wt5nKBFYbduKnz/4QPwZeOghfe0D7UKYn68uVN1xB2QRZIFY33ch7NWLCVixBrLbAAbngzkDDFajuuYccudutz0f1uDXP2QiVn2Bnl0R91cAnmn+Yte0dvxSNr35mATRbGZHfQLNSzcCq0cCT7W1XyxyIveuMzTV7J3lXFjuDHAc74UqPby0NL48kNcirW81OA7IzeX7VkZiCce5ueCqOV81F3EoJf7AbASNHexIX4dNwKqmRiH34Q1DVJsgYC2iB31ltVd2taTvYJFMgc57KR5bqQc2UI7tz4UV976IHkRuLv91Un6lDpO+yDqhz1LKlUUXXXwxUFQkVu3Rw5zZubnAVVeJxx9+KP4MbNgQvH1GhnqElZRawZx9+wL9+gW/hvS3RTnGQmSWMD7CtVq3tv1xsJTCc2QUTMByJshuAxicD+YMMIQDnLcWV0/ebLuIxXYkZPCDlthlpp/9FcCbgwB3G39hZkpbXjAT+mfRW+pkEVgxA0udAY4TvbcAIpGm1yKtHw5wHB9aoVwflJbGl5+3S6gWH887mpOoCL9Sov0en052pK/Rng7abocWw7G0TRCwVjUSBSwsWMArIonhnbtA9yOc+5FaYT9dYvvYG2UNNcSbdKfv+L9XPiD7+grflYvbVMNL8br6rKRUTCS36tK43r3Fz2YErN69eZu6dRPLpALW5s3B+/jnP/1/joxQKsIFoos4TCQ3zlBTxfikycZH+HmqrgZ69rRmahMSwvfY9Oyp30632/jPOBOwNPDFF8C99/IPTMOGwL//zZcXFQEVFWG/PIX9CgxRD+YMMIQLc7fss13A6jZ5M4vCYgg/BDHLM53n/grt5PNGordims35aDiWAytmYKkzoHOZnqbXIq0TTnAcn0G4pIT/V0NQEyIeom0pYUf6GhfRd7bbYYqXX26q3UB6Ex4PUHvfA2L5okX6n0mT3Eo9cJqS7B+3MHE3XY8HaLFYdv/9qt+V2h69dPcZKKdTkmQozYg1Qm4lqYD10UeinWoC1s03Aw8/LB7n5/N1zQxZXJy/Pt48SG77p2iC72Bd4kDZ+Eh/nnSm8tPFcEZzqeVHCzRWRqOwmIClgv/8h//ytG3Li1jx8aKA9fe/A3ffHXYTKOxXYIh6MGeAIVzgvLUYtOAD20WscSv/w0QsBmdBELxWDQamXmSPeGS7gNWMF/MMgr2znAvLnAG93lUgr0VazwFITRUTLtdZ4TVGiJfS/ugUsOLigEbmligOpDf5Sbv/frH8tdes8/g1+DM10xVRVkf2J5U3w93UHffTErFMTcCqruYdZp19NqJqXVXNRht5PHIB6+OPRVPVBKwHH5Qnj580ia8bqWF200TfwUuNHpOdk8KqXRSdRqO7ETIBSwV9+gD/z96Zh0dRZf3/dGgSlqjsCQwKqEEREWXHZYIgssQNV9RRBMFxRgR14GV+AgJpFRWVZUYFHEWRxeXNO2ICSBJp1zAirswoRBRUCIIZQWNQKt35/v4oqruquqq7qruqq7r7fJ7nPHJv3bp1u7qrruebc88991zxWWxoEN95koD18stAt262D4FiN2EyHXYGGDsRAkEsLN+JHrM3cj4shtFCErNeugkobmdM+HnkVFH8OXIYqPo7sGmW+N8jh4FVV0U/d/E5Yjt5brCkRoQdE89WXRPX8k2es9yLZc6AWe9Ky2vR89wcIi/P/Jb3brCTaRc607eOjyOZFhKwrr8+XD9jhuPjSnWLELCuvz7yQVm40FSfU2mhoaZDjQd1KaykxLyAJV/2l2wB6366N1RY2myK4pickhLHfw62WEmJufcyC1ga5OYC0v0IBJQC1ltvAc2b2z4Eit2EyXTYGWCSgRAI4u3qg7hj9YeOiVjTX/6ERSzG3aiXIlaXi+XtJaJAtf3/Yuft0tuZcf5JwOb52ue++XDyBKwFx8S3OHOP8ZzlXixzBsx6V1pei57n5hB5ecAYSj2vMRMFrGvoJfFLGzs2XD95suPjSnWrokG4nlaH67QErOnTTfX5EE031DReActsBNZNN0Gxe+B994ltk3Wb5QLWP5pPVhyTwxFYIixgadCyJbBhg/hvtYD16qtAq1a2D4FiN2EyHXYGmGRStavW0Uisvr5yLK6sZiGLSX/MJKsPCGJElB2C1by24i6MRsQ3A/Cc5V44Akuf/PzUjMDqRl/hd/Sd4+NIpl1LL4pf2nXXhes5AithEyOwZALW2LGRD4qFEVjHHRf+tzyhu1GTVif37RuukwtYr78eec5NN4milVSeM0dsG88t83giN2Dt0CH6OQ/IcmA9l3uH4pg6YX68K2LV58QaU7wmfX7OgZVkBg8GJk0S/60WsG6/XXyYbIZsvwKT8rAzwCQTIRBEX185ujooYvGSQobRQC9y64HOwFPnR+bqeqCjaHrC1fzOwD//LO6+aCE8Z7kXzoGlT35+aubA6kZfoRPtdXwccXm/ce4YOJbWoLERYrJiqX75cs6BlaBV0SCMpTXhuuuui3xQLMyBNWJE+N/xCFjS/hByAUuexF1PwJo9O1yePTux3P8tlZsKKhLTa9mD9NdQ4UnPnxTH8vPFsUivS6v2JLBzbwOfL/H9PKLBApYGL74oPoN33SUKVx4P8M9/AgsWiFtOvvaa7UMg26/ApDzsDDDJxg27E3aZUYYlldVO3wqGcR96kVta9fK6XZtFMxLxlQA8Z7mXjNyF0CDSbmKptgthV/o6NQUsorh3IbyeViMYBHDNNeH6Z56xfRfCNXRdWu9CuIUG4uFz1obr9HYzM7HeT09PPOUU4KGHwmU9AUvv/G7dwkJPv37h+q1bw8M0ImAVFCR228zopR4PMJ/CkYJP0u2afRUViZ9NEMR/m73OxRcry4IAjBpl/U9Ga5x690dqaxYWsHR44AGgaVNRyPJ4xP9mZwPz5yfl8pSUqzApDTsDTLIRAkGMX7EVXWaUORaJ1XVGGfr5KjgKi2FSDJ6z3IulzkA078qI1yJvL98/3iE6dhSH4iUBvw6Lw2t0yLrS1+hI+xwfh2kbNQq4/PK4zr2BViHwqwAUFobrly4Vo4MGDrRtzCvpRuyiLrrHpair76k9NlNh1DZutL2dB6Bh1YvhOknAEgTxGS0pEf97+LDhKCxJGFbbjBnAY4+Fy2oBy0sCCsmPCa1KUEh+eElQHJ86FaGx3dbdjzEktvugKvwe0ROwZs2KrJeuJ/Wjvp4Vlp8PPN/xf0IVS+k23baS7i8I4r/V9zE3Vzvay+cDamuVdVI/Vn6WoRcIaKgI/yaEegH9+2t/Zp8v/tc7C1hR+O474B//EMWsZcuAPXuSdmlK2pWYlIWdAcYJhEAQSyqr0c9X4WgUVtWuWqdvBcMwJuA5y71Y7gzoeVfRvBZB0I6UUa+fSTKSgEUE7Nuj87lcaF3pa+RTjS19/0rZ9o39p5+AK66I69xX6Co0dlAlH8rOFiMSEhhTMMHPFKAsVNAwNKN6nELVjv82TNuAAeLyJKl81VXiM6lO9KReNxfF5NqX/BmbORN4/PFw+aKLxP96ScAsKsZ+Ul7zB28+ZlFxSFiafpegObajbcPvET0Ba+bMcFnvejWkvF68tmxZWPerrwcWNwsnwV9GkzTP0Vp5rdYQpcgneUJ6IrHtzz9H1gHW/ESk+1XXUvWbyM/Huv7h+1VYaM3fJVjA0uCtt4C6Ou1jdXXicZuh2E2YTIedAcZJhEAQVbtqsXF7Dap21eLx8p1JFbDKPt3n9C1gGMYEPGe5F9ucAS3vSq/d6NHanlGia00SRO5c790rG29FBXD66eZEADvEBR3rQrsNC1gHqa2pvo+Qdo6qBXR34mP/5Rfg0kvjPt+OPGWJRkfJ8z11pa+T+juwxAYMANbKlhBKAm4i91rGqaeGq2fNUuaDv+giURwpI/H9ECTlNaVyKRWhGdXj826jNcfWKHuPbCqLFJ9uugm499hGgEavl4iI9eyz4c/v9wOP0LTQwafp1qjnGtmx73//N/J2//KL9leQ6M9Dfr8aSTvqVrpft96ayNs4DAtYGmRlAe+/r31s2zbxuM1Q7CZMpsPOAOMm5MsLk2H3vPRx6LpyIY2XFjKMO+E5y7047gzYme03QTp1Cl/+u+/iGLND1oV2I4/2G2pbQ9ZElE2gfyTeT12dOWEwBUxePJl2OT4e06YWsKwwGfJ8U7NnA4sWhcvDhxvPP1dBxnJwVd/si6i++Wbg/x3bCNDo9WZSZD9GbfHi8OcvKQEW0F9CB/9BE6KeW1IS+731f/8Xebvr67W/gkS/SjP3609/iv9dLMfxOcuNeDz6AtaWLYDXa/sQKHaT+LnwwgvxxRdfaB7buXMnLrzwQjsvz1gEOwOM2xACQZwzb1PSRKxrl1ahr69cUdfPV4HFldUsZDGMy+A5y7046gxYsXOhjcgFrG+/VY3ZSofeYjMjYB2gdqb61otIskTA+u9/496F0K0mL55Gnzs+HtM2YACwZo21fcro3j1cfd99orgjlUcOE3cAVUdCqS1I4lLNiAggtXk8+K11fkT0lCRgSTuOxr6eBzUU2Y9Re/758Of3+5UC1rN0S9RzjURgvfpq5O3+9VftryCRr9Hs/bp7sjXvbxawjvHTT8A334jm8QDr1oXLku3YAdx+O9C5s+3DodhN4sfj8eB9HYVu27ZtyEpCiBmTOOwMMG5DCARx8l/XO5obS7KiJW/jneqDLGQxjEvgOcu9OOoM+P3mPCYj3puFyAWsb76Jc8wO2Em0Bx3oe0NtD9NxllzTEgGrrMzxe2e1yYs30krHx2PakihgzZ0LLFkSLk/rZ8+zVkh+RdXNNwN//StQSOaup+7HqMmnQUEAnmh2T+jgChqneY4ZDX/dusjb/dtv2l9BPOOX/t5g9n49dZ0/7nexHBawjjF3rrg0MJZ5PGKSN5uh2E3iJ5qAVVpaitzcXDsvz1gEOwOM23in+qDjwpXaOCKLYdwBz1nuxVFnoKTEnOdkZP2MCWKl6frd78KXDm3mZHbMDthJtAft6YChtr9QC0uueSs9nXAf/7ojBQWeGCYv3kFLHBtH3Na/P7B6tbV9ypALWPPmAX/7W7g89yx7nrUxVKKouvlmcQfEMWTueuoDi4iDAAAgAElEQVR+jNqXXyrfM2/0DuePe55u0j3P6Crq0tLI263ecVAikVtp9n4t+n2JJUG0LGAdo6oKePRRYMECUaSaMkUsy+1vfwPefDMpw6HYTczx6quvYvz48Rg/fjw8Hg8uueSSUFmysWPHIj8/HxdccIHVl2dsgJ0Bxk0IgSDGLtviuGCltq7H/jt+xVYWsRjGQXjOci+ZGIElaG9WFrHpoVzA2r07zjE7YCfSN4YFrHpqZsk1rRCwiug1x++d1SYv3kTPOT4e09avX9IErOJi4O9/D5eHNbHnWdOKwPqf/4kvAqtLl3BVz57if9UrotXlr75Svo8O3HhX6OBK+oPmuWb2sVi/PvJ2NzRofwXx3MLsYxuRxnO/rNhYlgUsDebOBfY5u8EVxW5ijgcffBC5ubnIzc1FVlYWWrRoESpL1rZtWwwZMgSffvqp1ZdnbICdAcYtCIEgbnn2fcfFqli2pLLa6VvFMBkLz1nuJdNyYMk3PdRzNCVnUS5gff21asw2ONZW2Yn0DdrRQUNtzQpYejmwrBCw2tP3+JWyHb9/Vpq82Is+cXw8pq1fP2DVKmv7lHHaaeFqn0+5hNB4jiUxB1asdtFyYE2fHr5erFxaQfLg+6x8PDBXwJ/+FD60cKH4GfJV+yKoy6F3yTFq/zA1dHC154aIc30+c6++DRsib3cwqP0VJPI1xpMzzIqNZVnAcicUu0n8RFtCyKQO7AwwbmFxZbXj4pSRSKx+vgqOwmIYh+A5y7047gwkeRdCM5fr3DlcVkRNuHwXwhPpG7SlHwy1FaiJJdd8gv6UcB9t6QfsoIKE+3GTyYs9abvj4zFtffokTcC6/37gkkuUTY3ucldJFxpqt1NnF8Lp081dLzBXfB9NnhyulnYX1FqaLD99z5fKBv+94Y7QwdLjrsebFQLemufH9nklaKjwi1sIRlvrrOL11yNvd2Oj9leQ6FeZyK6N8b7SHZ+z3EogIK4ffeQRcT2u3IqLbb88xW7CZDrsDDBuQAgE0ddXHlqq53ar2lXr9C1jmIyE5yz34rgzIAjin+OJYodEWXApMwFf8gisXbtUHQ0ZYtzLk0K+kmRd6SvkUU1Sr2mFtaOD2EAjHB+H3PQizoyaPNrnTPrM8c9j2rxeYMwYa/uUIV9C6PMBx6n2FPCSgFIS3w/qSB+pvIO6Yz+11/8OZe+R10sjdw4cNw6YNi18vV2nF2n3pfE+mjIlfHjRIv13j9T3LCpGoJ0ygjPYLJyHbmf2mZERnllZynKMdXjl5dq3O1ZdXD8PA99PKRVFRL0lElTr+JzlRmprgR49xBsrJW6X/i2ZzVDsJvGzb98+7NixI1RuaGjAww8/jOuuuw7PPPOMnZdmLISdAcYNVO2qdVyUMmMbt9c4fcsYJiOxe866+27g22/Ff3/zjSVaR8bgCmdAEPTX3phdPxMFs+mr2rUL/1udeBk7dhjvSPp8bdtaKwToWCUNQTkNS8q1zNohOkH3WHs6gPU0ytLrJSpA1VHLhM6XO+9npeISQjtMhlzAmjRJu7mXBMwkH2pI+X6ooTzsILGDaMvYjrbJC71H1MvriEQB6y9/CZcfnS9oq2ka76Op4dV/WLhQ/93jJQFlJArZjSoFPeI3akRhJ9IV9isrtW93rLp4Tf/7ycdM8kWIV3KLJ62hK+Yst/HHPwLnnCP+j5DHA2zdKv7VZdo04PTTgb17bR8CxW4SP0VFRfjzn/8cKs+ZMwcejwetW7dGVlYWXnjhBTsvz1gEC1iMG9i4vcZxUcqM/ePtr3gZIcM4gN1zlscDSNkRsrLC/2Zi4ypnINa2gAlidgNBud5UrU6j+PXX4YNt2hhz2O+6y9wA0tC+oRN1j+XRfmygkY6PUW5++n3CfUjLp3rTx45/HleYDLmA9Yc/RD/NS8q1ePfRHEPX+3bi3ND19ASse+4JlxcsONZ4/vxw5bXXar6P5ALW44/rv3uMLrUzbRrr8N54Q/t2x6pL1NTfTzThSrJ4NpZ11ZzlFk49FXjhBXEZoccDbNsWPjZ5MjB2rO1DoNhN4qdTp0545ZVXFOV77rkHAHD77bdj0KBBdl6esQgWsBg3kGoRWF1miLmwFldWs5DFMEnE7jmrTRvgtdfEf0t/fGSMkUnOgNkIrPayVUk7d6o627MnfLBjx9gOuyAoQ7pstEZKPPLILosmYOVTDV6n4Y6PUW6JRmDJE1ifQx86/nlcYTLkObBuu83AqbKCkQTijUQ42ja8Vk1PwLr77nD50UePDe6RR8KV06ZpvlPkmvRjj+m8eARjyc5Nm846PPV7TiJWnSVfraxgpD1HYFlEs2bAO++I/27SBHjrrfCxTZvEv8bYDMVuEj85OTl459gH/Pzzz+HxePDZZ58BACoqKtC6dWs7L89YBAtYjBtItRxYchv37PssYjFMkrB7zho9WhQbiorE/6e/4ALg0ku17bLLbBlCypJJzoDZHFjyJO7PPw+89JK4TOill4Cql74NHzQiYJlVz9LU9mZ11j3Wkfbhfern+BjtsELyow9tc3wcrjAZcgFr/vzIVXsRp8Z5zYYKPwBjAlZIiDIgYGkKX2rsfvZVKpA6AkvSt7S+Asu/WlkhWjvOgWUxnTsDZWXiv088EXjiifCxtWuBE06wfQgUu0n8dOjQASXH4vWWLl2KtjJFrrKyEi1btrTz8oxFsIDFuIVU2IVQz65fvoVFLIZJAnbPWXv2AFdcARQUiEsIO3YEunbVtm7dzPVdV1eHqVOnomPHjsjJyUHv3r2xdu1aQ+du3rwZF110Edq3b4+WLVuiV69eWLx4MQKBgKLdvffei7PPPhutW7dGTk4OunXrhkmTJmHPnj2Kdrt37wYRaZrRManJNGcg3l0I1fY7+i5UaDQiYJldv5imttfzO91jv6Pv8BH1dnyMdtgYKkE/2ur4OFxhMuRLCEeMAHJyYpwa5zUntCpBcbEYqas+PG6cTiSVAQFLvvRQV8Cy+9k/5tcLgvh+a91aeVjK+S6vk9pa/tXKCrHa8i6EFnL55cDDD4v//uMfxb/UvPCC+NeWbt3Eh8tmKHaT+LnkkkswYMAAvPbaa+jRoweuv/760LHly5ejoKDAzsszFsECFuMWhEAQ41dsRZcZZRGRWFK599xNjotVHInFMM6RzDlLng/LCoYPH45WrVph6dKl2Lx5MyZOnAgiwurVq6OeV1FRgaysLAwZMgSvvvoqKioqcOedd4KIMGXKFEXbP//5z3j44Yfx2muvwe/344knnkDHjh2Rl5eH2trw7qmSgHXnnXdiy5YtCpO3M0OmOQNGNz2srxdXZeg5X51ob6hQm8MRWEZtL3XSPdaZvsVW6uv4GO2wQvKjP73v+DjcYPKoG7mAZcTiveYQ8oMI6N8/8vC4cTq5rEwKWKHcWWqSEIElCOHNTvXea3Kza2NUeUHruBUby2banGWIigpg6VLx3wcPAr17h3ciPPVUcdMRmyE7O//444/Rrl07eDwetGnTRvE/k6NHj8aNN95o5+UZi2ABi3ETQiCIJZXV6OerUIhD/XwVWFJZjcfLdzguVEWzJZXq7LwMw1iJ3XPWmDHhXeLefBOoq7Om3/Xr14OIsGbNGkX98OHD0alTp4hIKjk33ngjcnJy8MsvvyjqL774Yhx//PExr71hwwYQkWKHaEnAWqDrKZknE50BI5sexopO6Ej7QgX17luRXt2xi8qTatlobs6BFU3AOpG+QQUNdXyMcqujFgmdL8+BNZC2OP553GDyyJtEBKzvDebAku6/XrNbbgGmTAmXQ7sJGhCw5LsXPvKI/gvH7hxYdkRTxWPq7zk7W3ncio1lM3HOMk1jI/DZZ8D27UBDQ1IuSXZfoL6+Hh9++CF++uknRX1ZWRl2RmSpZNwIC1iMGxECQVTtqsXG7TWo2lUbimx6p/qg4yJVNOvnq+AoLIaxkVTdhXDixInIzc1Fg+p/ANesWQMiwnvvvad77i233ILjjjsOwaDy3XLttdeiQ4cOMa/9wQcfgIjw/PPPh+pYwLIWQblpVsipknJlRXPUTAtYAAL/b6bzHqbDto/0o9W60G7sKRjm+Bjl9i6dm3Af0i6Eg6jK8c/jBpPnPiooMH7qCSdAURGYY0y1ke6/nt1yC3DnneHyokXHHlgDAta0aeEmugIW7N2F0GhuP7mZaWvGlAVgyJBwsbjYmo1lM3nO0uTIEeDcc8UoLAchR6/OpAQsYDGphBAIosfsjY4LVdGsald8y28YhomN3XNWhw5inlLA2l0IBw0ahP79+0fUS59n2bJluuf+61//Qk5ODu644w7s27cPhw4dwsqVK9G0aVM8qpMspaGhAUeOHMFHH32E8847D927d0edLJxMErDatm2Lpk2bonnz5jjvvPOwbt26uD9jpjsDKn8LgLEVPyfSnlChllpHb1xRAQgC3n7tkD1eo8reoAtct5ufZDWkrwyeSjvx3z7WCliJRqKV0aiEzi+lIjSjehSSHzPtEjFSzIjCecdP1NiU0ksCCsmPMVSCQvIroqcUDWXrgfW+5wPUXnG+Vt9qAWvx4mMvglgCliDgyWvDfS14UF+d8ZKAUtIeq+nfqGodnptWJysLSgErgWlKQabPWZocd1x8WzpaCNl9gf/+97+YNWsWBg8ejO7du+Pcc8/Ffffdhx9//NHuSzMWwQIWk2o8Xr7TcZEqmm3cXuP0LWKYtMXuOeu668R8RT17hlM+9OqlbWedZbzfgoICjNBIflpTUwMiwoMPPhj1/Pfeew+dOnWClGi9SZMmeETnz/T79+8PtSMiDBw4EPv27Yu47qRJk/Dyyy/jnXfewerVqzFo0CAQEZ5++umYn+fAgQP497//rbAlS5ZktDOg8rcARM+57CUBs6gYB6idOc8uNxefX5WcCKwAefAmne+8N6szNr1jv1ALHMnv6vgYrbT7aA72UwfHx2G3mRFhiEJ5xxUbeErP1n6VyFlD+ZhFxfCSRsjknDlAy5a619pEF8Xsu+ScYkz5U1jkiilgSWuMVWGadbn5umFG0hhmkg+N3qaK84I5zUP/3pNdIIaayT9HVpayrFqH56b9IZQFcUdgqShtkpcoLGBpcPHF4STuDkF2dr5371506dIFHo8HZ5xxBi666CKcccYZ8Hg86Nq1a8T/LDHuhAUsJtUQAkGMe/Z9x4UqjsBimORj95z144/iLlLDh4v/r9+nj/iXXz0zSkFBAUaOHBlRLwlY8+fP1z1327Zt6NChAy699FKUlpZi8+bNmDVrFrKzs1FcXBzRvqGhAR988AHeffddPP300ygoKED37t1RUxNdXBcEAeeccw7atm0bsdRRzZw5c6C3i2GmOgMqfwuAfgSWlwSUkZj92Ip8NkGbvEi35r+Ke2w33+z4uNP1+3DiMxKFg0WknT6jPVtSWYpgCple1nKZldMwQ31v71IUitRasuTYi0BLwIqSLb2R9DOUy4cV6CvLJP/3v6P28gmh8ru5I4Cnnw4fv/hicUcJeQeqvt0cgXXeeeHixo3WvLNZwNJg+3bg5JOB55+3LgmoScjOzm+++WZ06NABW1Xx9Vu3bkVeXh7GjRtn5+UZi2ABi0lFpGTvfX3ljgtWcuMcWAxjL6m6C2EiSwgHDhyIXr16RSR6v++++5CVlYWvvvoq6rW/++47eL3eiB0LtXjooYdARPj888+jtuMIrEhU/hYA/RxYtuWxYYtqgXn3Oz4GNutMKweWXc9WNZ1iuG8pV9aUKcfGpyVgGc2WLs9Ur3rPHDp9YLiwZQsOXn5rqPx2s+Fo+Mdz4eM33QQEg8oOVLglB5bHE/lCHTQoXCwvt+adzQKWBrm5Ysb8rCzRcnPFZYWSGdg4JlEif5kW0qFDByxfvlzz2LJlywwlFmWchwUsJpURAkG8XX0QZ8553XHxqsuMMiys4M0rGMZO7J6z3nor/EfHPXv0E8X+8AMg29QvJpMmTdJM4r527VrESuKek5ODW265JaK+tLQURIQyA+spTjrpJM0IMDXz588HEWFHHFtlZ7ozoOcXqv1UL9m0kxhbTPPlznd8DGwWfp+qXQiNPluN6uMGVJjfqCn2U4eYfct3iyQSV+lVXKwSsAwqRY3kQWOeqNJp7Wi6hcIC1tO3bsEL2eEIrHK6CHee8Hy48R/+ELnbhAZu3IUQAAYMCBffeMOad3amz1majBsn7kYQzWxG+5dpETk5OSjXkUDLy8uRk5Nj5+UZi2ABi0kHFldWOy5edZlRhrerDzp9KxgmrbF7zlLvPBgMAk2bAh99pGz3r3+JbY2yYcMGEBFefPFFRf3IkSPRqVOniOgqOd26dcOZZ54Z0ebee+8FEeGTTz6Jeu0vv/wSWVlZmDx5ctR2giDg7LPPRrt27aKOR49Mdwb0/EJBAJqHU9OgkPzOe4cZatPpEcfHwGadyf/AcNpp7nq2CskPIlGjmkYqAcvkWr1fN/pDqw3l9i8KqzoDaQuepfGhciUNxU20MlQOXn+juMucvAMN6uuB9u2ND6+oyHhbM6YeZ79+4eKbb1rzzs70OcutaP8yLeL000/H1KlTNY/dfffdOP300+28PGMRLGAx6YAQCGL8iq3oMqMMXR0UsDiBO8PYi91zlnrZYCAg1n34obKdWQELAIYPH47WrVtj+fLl2Lx5MyZNmgQiwqpVq0JtJkyYgCZNmmDPnj2hOmlp3qhRo/Dqq6+ivLwcM2bMgNfrxUUXXRRq9+mnn2Lo0KF48skn8frrr6O8vByPPfYYOnfujPbt2yv6vPvuuzF58mSsXbsWfr8fK1euRP/+/UFEWLFihbkPdoxMdwai+YVduoSPjSEXZUrOMLubHnN8DGwWmozu3d31bI2hklAxQsAymS39vjNLNA/JBawB9C88S7eEym/QhbiRXgiVPzvrRjG8WOf+SZiNwBIEcZVjfr7FX61qnOecEy6+84417+xMn7PcivYv0yIefvhheDwe3Hnnndi2bRv27duHbdu24a677kKTJk2wYMECOy/PWAQLWEy6IOXF6uercEzAuueljzkHFsPYSCoLWHV1dZgyZQry8/ORnZ2Ns846C2vXrlW0GTduHIgIu3fvVtSXlJTg/PPPR7t27dCyZUv07NkTPp8Pv/zyS6jN999/jz/84Q845ZRT0KJFC2RnZ+Pkk0/G7bffjm+//VbR3zPPPIMBAwagTZs28Hq9aN26NUaMGIFNmzaZ+1AyMt0ZiOYXdu0aPuamKJFMs6m00PExsFloMgoK3PVsSRFYREoBK3CP+QisCz1+zdWGagFrBY0Llf1UiBtoVahc0uwGCAcP6d4/IL4cWPJztY63bh3nV6u6SO/e4WJVlTXv7Eyfs9xK5C/TQhobG3HbbbfB4/EgKysrZB6PB3/84x/tvDRjISxgMemGEAiialctFlXsdETEGrLAj/qj0XfwYhgmPlJZwEp3Mt0ZiOIXolu38DHOgeWc3UmLHR8Dm4Umo3Nn489WxHEDik2wiTeuHFhESgHrm+vEHFhHWxsbp7ovub1P4V0IB9C/8ByFd9l8k36P62l1qLyarsc7r9bq3j8gvl0I9d6BCX+1qouceabsc1u0uUqmz1luJfKXaQM7duzAU089hfvvvx9PPfUUdu7kJMapBAtYTLoiBILoU7zJGRHrkc0cicUwNsAClnvJdGcgil+oELCIeBdCp2wx3eH4GNgsNBkdO4pVdj1bv3ToanoXQsnkAtbOy8RdCP8zNr6+5KYWsJ6nm0Llt+l8hYC1hsai7Jnvde8fBAFv31eBWTQPs2gehlKFrnDmJQGF5BeXbPr9od1OrLrdXlKFcwkCzjgjXNy2zZp3dqbPWW6FYjcxx48//ogrr7wSpaWlum1KS0tx5ZVXora21urLMzbAAhaTzkx7+RPHlhOOWvQWR2IxjMUkQ8BauVIUrD78ENi6VaxbvTpc9+GHwHPPsYClJtOdAT2/EIgUsLwkoJTE7MdWRGJF7KpmkTXa0GcmjI0tSVZcHBJPOncWq6I9W0G9frp3j3mtQ73OV/St/v1J1yqlogjhJyICC8CbFdHGqd+X3NRLCOUC1jt0HsbSmlB5LV2H917Zp+wAEO/fnDlAy5YRF/iZcnEfzQmNwUsCZlEx9lOesm1+PlBcHHWsRixa/4vahvv/+GNr3tmZPme5FbK6w0ceeQSnnHJKxDbQchoaGlBQUIB58+ZZfXnGBljAYtKZVz/e65iA1WVGGU7+f2X486oP8U71QY7IYhgLSIaAlZWltGh1TJhMdwbUfqGck0/WdtZmkg8/5pjLfiw6lXMVdfXHW5xB+ZgFyINKutCWvu20BvLgCOU4Pg62JFhRESAIKCgIV0nPVg1FPhe6wmf37uJLXed48PwLkJcHND3W9yE6QXG8hvIxk3yaIk5EDiyIutHvOgiYRT58Tx2i9iXNOep+1QLWSvpDqPweDVbkwHq12bUQdn2j7EAQgJEjY97jMhqNZlSPMhK3QtRbgqkluOXlxew+9J0Z7f+zz6x5Z2f6nOVWyOoO+/Tpg4ceeihmu0ceeQR9+/a1+vKMDbCAxaQzTkZgqa2vrxyLK6tZyGKYBLB7znruOXPGhMl0Z0Dub8lW1QDQFrAku+YKQTyhpEQzCc1EWqq5rEfeZvmTOhmUE7RH6B5k02+29M3GZpn5fJpBVBFL0WJZbq7+sfPPV+zQN46eDRXK6aKo0UcRuxAeQ+qvA+0PHT9Mx0X0NXSodr/qJYQv0I2hchUNwk30fKj8n57XAF9/rezAxJaDFaQzCJWplzwavYSZ5Zn/+Y817+xMn7MULF0qirg5OWI441//CkQJWLITsrrD3NxcVFZWxmxXWVmJ4447zurLMzbAAhaTrjiZAyuajV+xlUUshokTnrPcS6Y6A4Kg7aQdW1UDQYguYF15papDVYPe9HGoKEVhFBUp2+XkRJ5nhX1PHdCcfrGlbzutkXiJYcaYxwPk5+OMAiGimsjEcyGF1eodP+88CIL47BEBt9CK0LHn6Oao3eoJWFJ/bemH0PFaaqMYf1ERUF8fvq48EksuYPWn97GKbgiV/0UDFGMMXnk1UF2tHFyHDvqfV2aNRAhQVlxJ52fNin0JM8n3aygfO7YLsIJMnbMiWLlS/GGdcAIwYIAYNpeVBdx1lyPDIas7bNasGd56662Y7d566y00a9bM6sszNsDOAJOuVO2qdVys0rMlldVO3x6GSUl4znIvmegMCAIwerS+4yo5oNEErDFjVJ2qGpxNH4WK+fmAz3csukvWxpSjbtKGUbltfbOxWWV/6OwPFa+8UnxWiCx8Ls49N/TM+3zAXcc/Ezr2DI0HkZhIXr1kLj8fqBihLWBJ/T3214Oh45KApXjWZdfNl62KlAtYyye+j5Jm14fK71N/3H38P8KNr74a+OKLpHwXheQ31NTjEa2Q/Kb637vKb8n7OxPnLE0GDgQGDwYOHxbLDQ3AuHFiXjQHorDI6g67deuGp556Kma7J598El27drX68owNsDPApCsbt9c4LlRpWdcZZejnq+AoLIaJA56z3EsmOgNGl8e0aaN/LJaA1Ye2gQg4/njlskR5G0sddZVdTS8lxellY0vE7uhYEiquXCk+K36/hc/FMQFLouGp5aFjT9OtIAImTAhft0S+Qd8j+gIWAOD78O6Av+W2iViCLEfe/0+n9Qv3+/77CF47NlT+uXtfxRhx1VXA9u1J+S7GUInh5rNnA6+NLzHV//dPlsT1vlaTiXOWJrm54g9Kzu7dorq4Y0fSh0NWd3jLLbegV69eEPSeKgCCIKBXr14YP3681ZdnbICdASZdcXMEVpcZZajaxTu1MoxZeM5yL5nmDAiCGG2hlVxZbh4P0KSJ/vFYAlZf+gBEQNu2ymvL2xBFnmeVDaXKpDi9bGyJmDwCa9Uq/ecpbhs8WPmcPvVU6NhSug1EooClSSwBa384BxbatDH+EuqnFLBw3XXhcp8+ijHiyiuBTz5JyndhJgIrPx9oqPCb6v/7F/3G71EUMm3O0sXjEX8/cgIBsf6jj5I+HLK6w08//RRNmzZFUVER9u3bF3F83759GD16NLKzs/GZVVsEMLbCzgCTrgiBIPr6ytHVBWKVlm3cXuP0LWKYlIPnLPeSac6ARr71uCyWgNWf3gcR0K6d8tryNkSR51lh31MH5NCRpDi9VhrnwMog08iBtXq1/vMUtZ9oSvPAgcrn9IknQseepNtBBNx6q87LIpaAVVMTPm5GwOofXkKI998Hrr02XD77bODvfw+Xx4wBtm1TfiaDObBApL8Vosy0cmAZsTcrjP01QOp/727OgWUpHg+wdauyLp0ELABYvnw5vF4vsrOzMXjwYNxwww244YYbMHjwYGRnZ8Pr9eLpp5+249KMDbAzwKQziyurHReqokVgCYEgqnbVYuP2mlCZYRh9eM5yL5nmDJSYW/Wia1dcoepY1WAgbQGRUsAqKVG2I4o8zwp7gP4fsihgS99sbJaZahfCNWv0n6eo1rq1/rEBA5TP6ZIloWN/oztAlICAtXdv+HgiEVhyAat3b8UYccUVYhv5ZzKxC6HuVogqU+9CaMRKSmB4LDPJh/37jd+iaGTanKWLxwNccAFw6aVhu+QSsf73v1fWX3aZ7cMhuzquqqrCJZdcgpYtW8Lj8cDj8aBly5a47LLLsGXLFrsuy+hw8OBBjB49Gi1atEBBQQHKy8sNn8vOAJPOCIEgxq/Y6rhYpWWPbtqBvr5yRV0/XwUWV1azkMUwOvCc5V4yzRmwKgIrloA1mRbBSwLatw83ebNCULTxkmDNYFTWgfbDQ0Fb+rbTPqMz0NDyeMfHwZYE69MHqKhQRGCtXav/POlarN0W+vdXPqePPho69gpdCS8J5gUsKaHVclmuKj0BSyu5llzA2roVuOaacPmkk4Dbbw+XTz8dePxx5WfauFG8f7HuzcUXi2379gWIInYLlMplNApDqQJjqASF5DccieX3Az5PzuAAACAASURBVIotHtV2LDKrlIrgJQEHD8Z8PRsi0+YsXbp0Abp2NWbdutk+HLL7AsFgEAcOHMCBAwcQDLLD5RTXXHMNJkyYgPr6eqxbtw6tWrVCba2x/DrsDDDpjhAIYkllNfr5KhRiUa85r2P6y5/gh7pfceECvyMilnp5o1Qev2Iri1gMowHPWe4l05wBq3JghQQsQQDmzNFs9DPl4pEWc4D6eqC4GI0dlFud1VB+9EHEae3pe8ymeckTI0yY2omOOJ4V5aaz6ZpAqXnfDjbJxywqhpcEvPSS7EGVt9OLIho6VHy2Tj1V/xq/+534jAqCGC2Um6s4XkP5WFlQDKFeY3mbWsCS+lBvWUgENG+uzOCu1zY/H+jUKVyuqgLOOCMp9zpAWarPnocKGor91EFVH/5OtLqScmCFPq601aK6YX4+inN8oX5ee00/yb0ZMm3OShXI6QEw9lNXV4emTZviu+++C9UVFhbimWeeMXQ+OwNMphBtuZ4QCGJhxU50n7nB8cgsyZZUVjt4txjGnfCc5V4y0RkwugKneXP9Y5ddBtEbGzkyZkeN7dsDpBUBYY+juomGJ8UhtsMicmCdfrp2vQVm1/13xX1Lkc8qPROlVIRX1sjUDaN9jBoFtGgRu82oUZr3Sbp+eU4R7p8jKAUWuYB1993A6NHiv/XU76KisFim11ZdPu+8JN5rZXk9jVLcA63vRE/E8vk0XqyqRvfPESI+bn6++P5NRMjKxDkrFSCnB2CWN954A+PHj8dpp52GFi1aoFOnTrjsssuwbdu2mOf+/PPPmD59OoYPH4527dqBiDBnzhzLr5MoZsYJiALV1KlT0bFjR+Tk5KB3795YK4uN/eijj9C6dWvFOZMnT8Y999xjaDzsDDCMiJT03WnhSrIeszei/miD07eFYVwFz1nuJROdAQOrXnBMc9K1vDwgMMdELho2Nraotn3sMVWksdGR688kX0iDAqAUsIwKTT6fuRxVLjd5bizp3ai4R3JU52p1GbMPA2TinKXJ9OmALBAGAODgyjpy7MpxcvXVV+PCCy/Ek08+iTfffBOvvPIKBg0aBK/XizfeeCPqubt378YJJ5yA3//+95g4cSKiCUOJXCdRzIwTAIYPH45WrVph6dKl2Lx5c+ic1ce22Hj77bfRpUsXxTn33nsvbrvtNkPjYWeAYUSqdtU6Llqp7Yq/v8tLCRlGBs9Z7iVTnQFphY/awcrPN5b32EsC6loY2w0s2TvruTXaJi6LtdaTzZC5fXfHIHnwa6tj69ICyd+AQL4TXyi6SC5gtWhhbN1xXp64S6DR362Dv+/GWMt5VbsT5ueL+pyu8KQ6P9YQNKO4DJCpc1YEWVlign+JQECs+/BDR4ZDjlw1AQ4cOBBRV1dXh7y8PAwbNizquY2NjWhsbAQA/PDDD4gmDCVynZ9++gkbNmzQPV5aWopffvnFknGuX78eRIQ1iu00RFGrU6dOCAQCHIHFMBaxcXuN44IVLyVkmOjwnOVeMtkZCKrynHfvLqbUMZIjq5D8jjmebGxpa34/cPSoY9cfQv5wfie5gJXB9tY8fyj/fFRU50XrNiKPlgkyec5S4PFEClgeDwtYiXLhhReie/fuhtvHEoYSuc5jjz2GrKwsPPfccxHHli5dCo/HgyeffNKScU6cOBG5ubloaFAuI1qzZg2ICO+9955mDqwhQ4ZwDiyGMYkbI7C6zBB3JuQoLIYR4TnLvWSyM6AO9OjXz/guhWOoxHHHko0t7aykRFSRHbr+GCoB0bEd9ljACn8nRlCdZ6Rrv9/8ezuT5ywFLGBZz+HDh3HCCSdgzJgxhs+JR8Ayc5177rkHHo8HS5cuDdUtWrQIRIR7773XsnEOGjQI/dXbtiL8P/DLli0DIC6JvPXWW3HkyBGUlpaiVatW+OGHH6Jee86cOSCikLEzwGQ6Ug4s9c6AbrCqXcZ2FWWYdIcFLPeSyc5AQ4PSmerfX/TVjDheHIHFxmaD+f3ATz85dv1C8oPomGbz8MPO3w83mFGVSXWeka6NamNyMnnOUsAClvXceOON8Hq9phKsxyNgmb3OvffeCyLCokWL8NBDD4GIUFxcbPh6RsZZUFCAESNGRNTX1NSAiPDggw8CAA4ePIhRo0ahefPmOPXUU7Fp0ybDY2BngGHCLK6sdlys0rIH1/8nYudEhslEeM5yL5nsDAiC0pkaMMB4BJaXBOynDoZyC3EOrASMc2BZYimVA+vHH5P++dX5nvx+APPnh9ukYQ4sQ5/HzDo/1flGhsARWAng8QArV4qC1YcfAlu3inWrV4fr5GYzZPsVbGbWrFkgIvztb38zdZ5ZASve6xQXF0OKYFqwYIGpc42Ms6CgACNHjoyolwSs+fPnm76mGnYGGCaMEAhi/Iqt6DKjzJWRWP18FVhcWc1CFpOx8JzlXjLJGRAE0WEqKRH/+8svSmfq1FOBigrj/ufDuemz2xgbm9P2f318qK8HsG+fI9efST6lZvPgg+Hjgwcb6+eWW4ALL3T8XlpmEyaISzrlL049QUt1rpcEFJIfY6gEheQPiYNEnAPLEjweMWm73KLV2QzZfgUbmTt3LogIDzzwgOlzzQhYiVznL3/5CzweD4gIM2fOtHycRpcQJgI7AwyjRAgEsaSyGv18FY4LVmqTRLXxK7ayiMVkJDxnuZdMcAakHQfz8pQ+VgedTQRzc435dg/MFYBRo2I2/J7aAyRGecjr7YqU2kgjnHd8o1i0aBj1sTfp97bdK/X3kcoWK8Io4IIxRvsOSqkIzagesz3FOORtZ/21mjePet9KqSgksIR2x7v//pjnK6xJk9htHIy40nuG1L+diN9SVpaynJ8vvlDV6pPqvP2kfOHWUD5mUXHkfTZJJsxZhnjuOXNmM2T7FWxCEpXmzp0b1/lGBax4r9PY2Ig77rgDWVlZePbZZ/HUU0/B4/HgL3/5i6XjnDRpkmYS97Vr10JK4p4o7AwwjDZCIIiqXbXYuL0GVbtqcfsL2xwXsOQ2/eVPWMRiMg6es9xLujsDggCMHm2979ihwzH/TRCAuXM1Va+fKRezaS6aUT1mkg81lB/h0NnhqLahHzCTfI45ytHM7FK2vvQ+dlCBLWOpoTzcR3McvyeZbDWUj5nkQzOqRxmNjus3YtT0+q2jljiODoMIKCqS6TJz51o/jrw8ICfH8fsumZaoFfP+Sy9Sxc2CRt9qwT4sVl42Sogr+gpI/zkrVSGnBxAP0rK8WbNmxd2HEQEr3usEg0Hceuut8Hq9WLt2baj+ueeeQ5MmTfDnP/8ZjY2Nloxzw4YNICK8+OKLivqRI0eiU6dOCAQCpsauBTsDDGOMd6oPOi5aqa2vr5yXFDIZBc9Z7iXdnYFim1b5FRWpLiQIWDmuArNoHmbRPAylCsWSGSJoLqkxesHb6QlMpYW4ml7C0zQhatvj6CcQwXHn2ApbQpNt63s2zTX1HbBZa5fSq6FnZBY5uxz3rexh8PlUQUVWLwUcOxaYMyc5n+nEE+0R4NQmD6MycV5gbpzhV0j/OStVIacHYJZHH30URISRI0diy5YtESbx5ptvokmTJpg3b57i/A0bNuCVV17Bs88+CyLCNddcg1deeQWvvPIK6uvrTV9HiwULFiA7Oxv//Oc/I469+OKL8Hq9MXNpGR0nAAwfPhytW7fG8uXLsXnzZkyaNAlEhFWrVkW9hlHYGWAYY0i7FDotWmkZLylkMgWes9xLOjsDgiAGPNixaueSS6y5ltGGJ9I3oeK9dH/UtukkYP1AbWyJyJGSdrck53a8y3TrRN+BSNoQIc+xzQcaidCYlSXmepI/0C1bWnutdu301y1bbTk5CBQ/oPiMll9Dncgq3vNMks5zVipDTg/ALIWFhZCSomuZhN/vh1bkUpcuXXTP3b17t+nraHHkyBFUVVXpHn/33Xdx9OjRqH0YHScA1NXVYcqUKcjPz0d2djbOOussReRXorAzwDDGcesuhV1mlGFJZbXTt4dhbIfnLPeSzs6A0R0F4zG1gBXvtYw27EzfhoqZJGDZbVPpMcfHkKl2Jb0CIqCQbHxQzdjChcl5eSTJ9l5yW3KuJW0lGO95JknnOSuVIacHwLgfdgYYxjhCIIgr/v6u42KV2rrOEHco5CgsJt3hOcu9pLMzUFJin8+mFrDivZbRhr87Fq1CFFvAyqWfTfWdyfYQTXN8DJlqk2gpiIAxZOODasamT0/OyyNJtqfw5uRcq6REvGfxnmeSdJ6zUhlyegCM+2FngGHMUX+0AT1mb3RctNKyql21Tt8ehrEVnrPcSzo7A+kUgdWJ9oaKLGBZZ1NpoeNjyFS7jtaAiCOw7LK9l92enGtxBBYDsIDFxIadAYYxj1uXEm7cXuP0rWEYW+E5y72kszNgZw4sdRJ3u3Ng5VNNqBhLwGpJdab6drPZnQOrGdU7/hkz1U6n/4DI+RxYIALSMQfW/EdCZc6BxdgNOT0Axv2wM8Aw5nHrUkKOwGLSHZ6z3Eu6OwPJ2IVQEMRggrFjzfdjtGEe7Q8VM0nAWkRTbOt7JvnS5j6lop1GX4SKTu9CiGHDIl8eF1xg7TWmTbPvhaS2Hj3EiDK7rxPnLoSK80yS7nNWqkJOD4BxP+wMMEx8lH66z3HBSm2Hj0TfQIJhUh2es9xLujsDgiCKTVb7bUVFYt/FxWLkVbz9GG3Ygb4PFdNFwDISFdKD/o0yGmX5NUupCF4SIu5TtCggRyOE0tCm0UMoJD+8JMBLAkqpyPDvwlJr0QIoLY2MCJpmcX60XbvEaxx/vP2f6bLLgEWLQuXvqb1muyBFhoxq1SlMCjOVXoISeu1inWeSdJ+zUhVyegCM+2FngGHio2pXreOCldqmvfyJ07eFYWyF5yz3kgnOgCAAc+cCOTnW+YcjRwKjR2v7aWbMaMP2dCBUjCVgtaBfTPWdbPuNvAARArEcZSIspCnIpcOopCGWCRs/Uy7uozmaAlYN5eueFyQPfqC2jt+/eM2tAtx+ysMsKkYzqscsjw8/NWll7TVatAC6do3dLjcXmDMnLK5Mnx4+1rRpfNeWvxz27BH77d07+jlZWYl/5ksvDb+golhdbj4C48aHyl9RF/xMudHPy88XI6jUIpRWOyPnmSQT5qxUhJweAON+2BlgmPgQAkH09ZWjqwuEK8l6zXmddyJk0hqes9xLpjgDVq/cKSiwph+jDdvRwVAx1QUssyZFj1glYEkRJlIUlvxYM6pHFQ3UOc/4NZIeRWRiTG4bmzSer84oQv1hAVi3LrJdLNFHz5o3F3NbGRBzQjZ6tCiyyCOw4l1OKBewdu8WX0Znn23NvfvgA/1jBsJCg78fIn7ON94I1f1AbaKf17mzMleYHHVbQYgsW0CmzFmpBjk9AMb9sDPAMPHjxmTunAeLSWd4znIvmeAM2JHMPTvbmv6MNmxLP4SKmSZg2WkzyacoO56LKdPN5wNefTWyfvDg+Ppr2jQ+9drnA+65J1weMiTxz/bVV+ILqWNHa+7V9u2JnX/mmeJ4ZAKW4Xujhbqdus4iMmHOSkWs+4aZtIWdAYaJHyEQxPgVW9FlRplrIrEWVezkKCwmbeE5y71kgjPg9zvnj8cyow1b039DxVgCVnOqN9W3282uiCFpJ0J5nbgbng3bVrLFNml3urVrI4/16RN/v/Hs/JeXB0yRbSBQWJj455NyYHm91tyvTz9N7PxmzcTxVFaG6gw9a3o7CKrbqessIhPmrFTEum+YSVvYGWCYxBACQSyprEY/X4Xj4pVk/XwVWFxZzUIWk3bwnOVeMsEZKClxziePZUYbtqIfQ8VME7DYMsxmzYqs69kz+eO46qrwv88/P/H+vvzSWjX9o48S78PvByoq4jtPjbpNY6OybBGJzFl1dXWYOnUqOnbsiJycHPTu3Rtr16413c/MmTNBROjZs2fEsaNHj2L27Nno2rUrmjZtipNOOgl//etfceTIEUW73bt3g4g0LZ4xOY113zCTtrAzwDDWIASCeLv6IM6c87rjApYUDTZ+xVYWsZi0gucs95IJAlY6RGCdQIdCxVgCVjM6YqpvNjZX2eTJkXVWJZ0zY/K8WfEuYZTbzp3WqunRcmAZtZKS+ASskpLIF626TSCgLFtEInPW8OHD0apVKyxduhSbN2/GxIkTQURYvXq14T4+/vhj5OTkIC8vT1PAuvLKK9GsWTM8+OCDqKioQHFxMbKzs3HppZcq2kkC1p133oktW7YorLY29dKKWPcNM2kLOwMMYy1uy4u1sHwnqnbVYuP2GlTtqmVBi0lpeM5yL+kiYAmCKFSVlIj/la9wsSMHVpMm1vRjtOHxdDhUZAGLLa1Nnjxdsi5dkj+OK64I/3vAgMT727HDWjV9y5bE+7AzAquhQVm2iHjnrPXr14OIsGbNGkX98OHD0alTJwQCgZh9NDQ04Oyzz8aUKVNQWFgYIWBt2bIFRITHHntMUf/ggw+CiFBeXh6qkwSsBQsWmPocbsW6b5hJW9gZYBhrcVteLPUYeHkhk8rwnOVeUl3AEgQxR7N60638fLFeErJmz06+/2vEjDY8jn4KFTNNwOIcWBliUg6sv/0t8lh+fvz9xpsD6/bbw+V+/RL/fF98YW0OrHffTez8nBwI9QJeuLk8VGdpDiz1LoQWEe+cNXHiROTm5qKhoUFRv2bNGhAR3nvvvZh9+Hw+nHTSSairq9MUsB599FEQEb744gtF/WeffQYiwh//+MdQHQtYTMbBzgDDWI8b82Lx8kImHeA5y72ksoAlCOFVPuroKqlcVAQcPgy0bWu//61nJ5+sf8xoJyNpPbwkgCi2gJVDv5rqO5ONdyF0mfl8wGOPRdYfd1z8fY4fb/6cceOAYcPC5datE/9sEyYACxfGJ6hp2aJFCZ0fPL0HRo8GLqJyc+fOnav9Qla3++03Zdki4p2zBg0ahP79+0fUS/9/smzZsqjn/+c//0FOTg7Wr18PAJoClhRp9fXXXyvqd+7cCSLC4MGDQ3WSgNW2bVs0bdoUzZs3x3nnnYd169aZ+lxuwbpvmElb2BlgGPsQAkEsqnDXkkK5LamsdvoWMYwpeM5yL6ksYBUb1Bq6dbPWx45lal/3nntEv1xe5yXBtFhSQ/mYRcWYRfOitks3Aet7ssjhP2ZShFUpFcFLyigRLwkopaKo5xkxu6LGErFG1X9dZ6NGAXPmAC1bWt93drbzny+ZlpUVs80Xp18GIqWAdZDaxe47L08Z3iqhbvfrr8qyRUhz1pIlS/Dvf/9bYQcOHNA9r6CgACNGjIior6mpARHhwQcf1D03GAxi4MCBuP7660N1WgKWNLYXXnhBUf/MM8+AiNC9e3fFdSdNmoSXX34Z77zzDlavXo1BgwaBiPD000/HvA9uw7pvmElb2BlgGHup2lXruFClF4nVz1fBUVhMSsFzlntJVQHLjrxWVtj06UBpqbJu2jTlahovCSij0aY7lwSUL+i0qO1y6NcIYcZN1kBiArF6yonZ9ivqilw6HBEplYjVUD5mki8U0SY/Jn0/WufVUht8Rmc6fv/itcam2UBhoTvFnIICYMQIc+cksqwwGRZvojw7BDwNW59zBTweYDhtCtVV0NDYz5o8vFUuYqnbHTmiLFuENGdp2Zw5c3TPKygowMiRIyPqJQFr/vz5uucuWLAAbdq0UQhkWgLW0aNHceqpp6JTp04oLy/HoUOHsHHjRuTl5aFJkyY4/fTTo342QRBwzjnnoG3bthFLHd2Odd8wk7awM8Aw9iIEgujrK3dFPiwtq9qVejuUMJkLz1nuJVUFLLfuLDhjBrB+vbJu2jTleO1eppZNv7lqKdwjNA0r6OZQWSBzOYBmkk/0fy0YSyH5Q8KVZPKCVp1kF9CbWEvX6ffv9wNjxzpzn4u0o8YibOhQx38Pltk55zg/hlQyVWjoP+lyEAEX0+uhuk00HEQmnjWfL/xSVh/75Rdl2SLijcCKdwnhN998g+bNm2Px4sU4dOhQyM477zz06NEDhw4dwpEjR0Ltv/zyy1AkFRGhZcuWWLx4Mdq1a4dhw4bF/HwPPfQQiAiff/65gbvhHqz7hpm0hZ0BhrEft+1MKLeyT/c5fXsYxjA8Z7mXVBWwrNyN3kqbPBkoK1PW/eUv4fF6SUg4UXisJWAtqA77KS/u/q22W+lp/IUWhMoNlGXoc0htaijPsogytXhFBEVBq06ywfQe1lAUgcpgWKAtS/jatDHWLivLfWGL8Vrv3s6PIZWsfXtF+VUSlxCqBSzDz5qUdF+KwlIfr6tTli0i3jlr0qRJmknc165di2hJ3P1+P/QiviSbOnVqxHl79+7FZ599hvr6+lCU17x582KOc/78+SAi7Nixw9TncxrrvmEmbWFngGHsR74zodts2sufOH17GMYwPGe5l1QVsNwcgfXaa8q6e+4Jj7eQ7B/4MLNJmW22ibQc99CjoXIwjj6sum+F5I+olhe06iQbRFVYTdfr9+/WH2W62imnOD+GVDLVThbr6FIQASNoY6judbrY/LPm94svZXX9zz8ryxYR75y1YcMGEBFefPFFRf3IkSPRqVMnBAIBzfMOHToEv98fYb1790bXrl3h9/vx5ZdfRr323XffjZYtW2Lv3r1R2wmCgLPPPhvt2rXTHY9bse4bZtIWdgYYJjkIgSDuXP2h44KV2nrNeR2ln+5D1a5azofFuB6es9xLqgpYbs2B9ac/RSZsv/pq4KWXxH+PIftDx66hl5y/ETKbSMtxN2nsLGfCrLpvY6gkolpe0KqTbCBtwSq6Qb9/t4YFpqt16eL8GFLJVFF6m7IvgcejFLA20gjzz1pJifhSVtcfPqwsW0Qic9bw4cPRunVrLF++HJs3b8akSZNARFi1alWozYQJE9CkSRPs2bMnal9aObAA4OGHH8bzzz8Pv9+PF198EVdeeSWysrKwevVqRbu7774bkydPxtq1a+H3+7Fy5Ur0798fRIQVK1aY/mxOY903zKQt7AwwTPJwa0J3yfr5KrC4spqFLMa18JzlXlJVwAKM70LYqpXzvqNkmRqBdRc9nlAfbojAGkD/wgt0o37/HIGVXDv5ZOfHkEqmehHu7F4EokgBy7IIrEOHlGWLSGTOqqurw5QpU5Cfn4/s7GycddZZWLt2raLNuHHjQETYvXt31L70BKx58+bhlFNOQU5ODlq1aoWRI0fi7bffjmj3zDPPYMCAAWjTpg28Xi9at26NESNGYNOmTaY/lxuw7htm0hZ2BhgmeQiBIHrM2uC4UKVnUqL58Su2hkQsIRBE1a5abNxew1FajOPwnOVeUlnAEgT93NVSZJYq7YvjlowcWM2o3lU5sCbSckylhaY/h9TGLTmw+tP7WEl/0O/fyRxYquVhupZOObB69XJ+DKlkxx+vKAdHjUZRETCSNoTqNtII63Jg/fijsmwRqTxnpTPWfcNM2sLOAMMkl6uefNdxocqILSzficWV1ejrK+coLcY18JzlXlLdGRAEccmeaoMt5Oe7d8M1u3cI9JLgql0IJ9EyTQHLqFm5C6FWtdZxrYZ96YPoAhZgPCzQarvjDmPt3PpQxGMsYJmz445TlkeNgiAAa24KC1gbaCSITDxr0XYhrK1Vli0i1eesdMW6b5hJW9gZYJjksuytXY6LU0as4N4NiqgstcmjtBgmWfCc5V7SxRl4PbyRFs45B6ivd2eOLCIxCquUxNAxM5FYUtsv6LSo7bwkxB2xlEhkmJ5NomXwtVsUUX+A2sU8t4KGhqKmrBiLVrXWca2GfWhbbAErWljgMavtPsj6H9XWrbHbjBolPhjS+Nz0cPTpAxQUmDvnzDOdH3c0y82N77xmzewZT8uWyvLIkeJvdkNYwNp/zkhxRaCR/gYNEn9PEurjr76qLFtEusxZ6YZ13zCTtrAzwDDJpf5oA7r+1XmByqooLYZJJjxnuZd0cQYqK8N+0tCh7k9H5CUBM8mHGhNL/WooHzPJh1k0L2q7JtQQl4B1H81FDeVb/mEn0nIs7LY4on4jDY95bhf6ytKIMq1qreNaDc+hD2MLWPX1wJAh0ccxcaL1P6h2scVA5OWJEWL19WLkTL4F3/Vp0cVUW61HD+Nt8/KAiy9O7viaNgWaNHHm3uTkANdeq6xr0UJZlgSs9esj6+Tt1MKX3PLzw7+pWGOyiHSZs9IN675hJm1hZ4Bhks/1y7c4Lj5ZFaVVf7TB6dvJZBA8Z7mXdHEG1AJWKmwI5yUB62kUQIRglIZX00soJH8oEuleuj9qxzl0BGU02vSAmtJRNCMDjqhJm0TL8GjXJRH13xuIwKqkC0P3yArTqtY6rtXwbPoouoBVX+9c0jUj0VRSm6IiMVJMEESl96WXgM6dnRl3ImZGHBo1Cnj4YefHnCy79NLw1qeSqSO7RowQX56lpcr7BNXvf/p0/euYSTYo5cpKkHSZs9INcnoAjPthZ4Bhkk/90Qb0KS6PKg51jbJ8z0027eVPnL6dTAbBc5Z7SRdnINUisIiM58KSckBJFkvAmk1z4xqQXbmzJtEyLD41UsBywrSqtY5rNexNH0cXsFIpv5Q8d5FTebuSbSNGOD+GZNnllwMvvqisy86OvB8A8Npr4brRo8U6ebsLLrBmTPLfXAKky5yVbpDTA2DcDzsDDOMM9UcbcMPyLRHLCbv+tQw3LN+CRzftcFycMmK95rzOubCYpMFzlntJF2dALWAZ3BDOMTOzG2EN5St2z4slYMW7y6FduxfeTk/i2T5/i6g3uguhlbv2aVVrHddqeBZ9El3Ayspy9kdl1OS7x0kPitNjSsZnVicxT2fTErCaNlWWL75YfHmuWxeu0xKw1EsP4zX5joUJkC5zVrpBTg+AcT/sDDCMs9QfbcA/3v4KD67/D/7x9lehJXlCIIjxK7Y6LlAZsapdtQ7fRSZT4DnLvaSyMyAIwMaNwC23KNMODR0qHndzYEkh+U2dUEj+UDGWgBWvDaVKW/pdQPfg3Be1RwAAIABJREFUuf5/d/6mU2ICVi/6NLqAlWrm96dGqCKbebv8cmDtWmWd16ssDx8uvijlyda1BCwrze9P+L2fynNWOkNOD4BxP+wMMIw7EQJBPF6+Ez1mb3RcoIplG7fXOH27mAyB5yz3korOgCAAs2ZFBhRI1qqVmI7IwIZwjtkYMpekawyVhIp2CVhX0cu29Psk/RHPD3zC+ZtOLGAprKQkNZLFsZk3LQFLHSF40UXiC/X//i9cV1Qk1tk1rpKShN//qThnZQLk9AAY98POAMO4DyEQxC3Pvi8uKXSBQBXL3q4+6PQtYzIEnrPcS6o5A4JgbDOx9u3DIpbPJ27K5bRPKTc3RmBdaFME1qN0N14YnPoCVswk7qlmHIGVvnb55cCaNdHbDBsmvlTlIqbdAhZHYKUt5PQAGPfDzgDDuI/FldWOi1JmbGHFTqdvGZMh8JzlXlLNGTCzLFDyzwBgzBjnfUq52ZkD67dW8eXAyqZfbcqB9QRWnfdkRH2q5cDqSx/gs96cAyslzeMBcnOdH0ey7PLLgdWro7eR1lr/7/+G67QELM6BxRiAnB4A437YGWAYdyEEgujrK0+JyCvJ+vkqOJE7kxR4znIvqeQMCIKx3doly8oSo7AA4KqrnPcp1WbXLoTVN82La0AeCtqyC+FttBSrBrszB5aXBEWFJBRqnftHehLfnj9Wv3/ehdDd1q6d82NIlnXuDFxzTfQ2J58M3HcfcO214bpLLhF/E/J2gwZZMybehTCtIacHwLgfdgYYxl1U7ap1XJCKxziRO5MMeM5yL6nkDMSz2mnhQvFcNwpYXhJQSmKSrsYoEVPy6CsvCaigYVE7fm/4ffiVsk0PyEPBCEHHCnuVLkW9N3IHuJ8odkRMBQ1BGY0GiBC0YCyzqBheEuAlAbOoOCLirIbyUEn6QlTUaLD6eqBDB2d+TFrbbarrpHJRkTISpr4+s8QdNn0rKBB/G/K6/v3120u/KSO/e+mvCQmSSnNWJkFOD4BxP+wMMIy72Li9xnExKh7jRO5MMuA5y72kkjMQT77p6dPFc6+80nnfUMu8JKB6nA+/tc7XbSRvK4k5sSwesYeoEUSw5YPGuwxwE12EZlSPmeRDDenfIzNWRqOwnkYdu09KkSfWOKMeFwTg8GGgbdvk/5DUoYk+n7hkS16Xny/Wy8UrQRB3nkv2eNnca2Z+Dzk5wNy54u8+Vlu1cBonqTRnZRLk9AAY98POAMO4i1SNwOJE7kwy4DnLvaSSM5BIBJZbBSwioKIC2FQmoJD8GEMlEQnepX/asbxPeZ1IAesy+qfjN0haQuklwXTy+6Saz5fc5XivvSaqun4/8M03ymOAKBb4/eE2WuJBpiwfNGMFBc6PIZXMzO/egmWEqTRnZRLk9AAY98POAMO4i1TMgdVlRhlueuZfeKf6IDZur0HVrlrOicXYAs9Z7sUJZ8CIX613Xrw5sNyWxF1ub7wBvP66sk5eIDKX9D1e07p2W/rB0ZsTJE9EEvtE+7Q6MXzI8vLEpVRay/nssEOHwg/H/v2qH5DBByovL3njTRXr08f5MaSKeTzh372RthYkcmcBy52Q0wNg3A87AwzjPlJtF0It6+erwOLKahayGEvhOcu9JNMZEATxD/XqTc/y88V6I36NmYCRCy8MX7dHD+d9PT2bMAFYv15ZJy8QISmRR1rXdlrAkqyQ/Jrjy2g7fDj8YBw4oDxmhHhCGjPBTjvN+TGks/n9ZqaNCFjAcifk9AAY98POAMO4DyEQxPgVW9FlRlnKRWJJJo17/IqtLGIxlsFzlntJljMgT7VjNLe0FvX1xlMMjRwptk+FFD8DByrL8gIRMIbiSABm0rSu3YZqnb85RBhDJZrjy2j76afwg3HwoPKYEeJJKpcJduqpzo8hna2kJM5ZRIQFLHdCTg+AcT/sDDCMOxECQSyprEY/X0VEZNPYZVWOC1RmbElltdO3k0kTeM5yL8lyBqxKkWI2Zc9Q/Q3lXG3yApFzEVhuEbA4AkvDfv45/GDUqr4nI3AElra5OVwzHYwjsNIScnoAjPthZ4Bh3I0QCKJqV60it5Q8Qsvt1vWY6MZRWIwV8JzlXpLhDBhNtRMrRYrUjxlfKSsrNVP8yAuzZwPTpgr4b9Pk58BqTf919EZwDqwo9ssv4Yfjv6rvycoHM9NMHQ7Jpm+cA4s5Bjk9AMb9sDPAMKmJXoSWW61qV63Tt4xJA3jOci/JcAbMBnro/YE+kwJG5IVvvxU//7bL7d6FMPLaTgtYoPAuhFrjc5UlexdCaYcCQEzorrhJBuFdCCPtvPOcH0MqGe9CyAAsYDGxYWeAYVIbKUJr3cd70X3mBseFKj3buL3G6VvFpAE8Z7mXZDgDZlPt6KVIyaSUPfLCwZf9gCDgmaUCSqnIUAfxRGoVkh9eEhR1VglY8UY8vU/90Izqde+N8hrGPnMZjUIZjda8T40UfbxRP0d9vRhdUhT7O4p1HUNWVhaOZjl8WPUDMojB8Sbr+3aFDRjg/BictIIC422lxIWCYLxtgrCA5U7I6QEw7oedAYZJH9y8eyFHYDFWwHOWe+EILHeZlwTMIo1ohvx8bLuiGM2oHuU0LGonW4p8qKH8uAagPq8V/ajZ7j0aiJ8p11Cf6+hS/Jp9XNw3pYbyMYuK4SUhQmCT29HsFjH7mk1zQ/3MpMj7VEN5qKBhqCHtJVFRhRlpO836ejHSJOpnykMlXYifqWViP5jcXGDOnPiWEEoIAnDppZb+kAM2LnWNaVlZzl1bbemwPFNveaDPFxakjAhYFohXAAtYboWcHgDjftgZYJj0wY27F3IOLMZKeM5yL27KgUUEtG6tXBml1Y9ZXzZVfEgvCaHIoAg79iFKqQizaF7Ujt5+W+yrkPwYQyW4n+41PAh1RJKegLWQpsJLAoZSBWqpddQ+J9Mi1DeJLWB9Rj2jjqmMRmE9jYrax4/UKurxUipS5NOS3ycpAk1efzW9hKm0EFfTSygkP/x0vn7/6u00ddoNIT+aUX3ou7YkWunii5Vlszz1VPjcE08EbrvN/Bh69EDDyjUoPPb5CsmPhtUvAQsXArNnJ/4ZjVpP7d9R0q19e6B5c+fHYZc1NoZfzEa2emUBK60hpwfAuB92BhgmvXBjbizehZCxCp6z3IvbdiEkCgeyaPk76bwLoWbklYbFisB6+21l1Q20Ku5BnUCHNOsX0tRQsZpOjdrHF9Td+ZsrM3VOLTP2NXUx1jBKBJaZ7zpuM8vSpeFze/YEHnkkruvOb6m8t9Kz3FDhd/x7Z7PYAgFzL2UL8l8BLGC5FXJ6AIz7YWeAYdITKTdW2af7MO3lT9B95vqkR151mVGG8Su2cvQVYxk8Z7mXZDkDZlLtqANZ4u2nqEiM5rIhxY/lNrCPgP0Ue5fBIHliLt0791xl1fW0Ou6BtaWDmvVyAWtHDIEqSB5DUUax2hjZPTDWca1dDY2alwQcpaaxG0q7rekcv2yUse86ITPLsmXhc3v2BBYsMH1NrXsrPcv/M+gt+z4rmzPW0GAuvNaCHQgBFrDcCjk9AMb9sDPAMOmLEAjilmffdyTq6sw5r2P6y5+g/mhDaCxVu2qxcXsNqnbVsqjFxAXPWe4lmc6AIMRMDRRhWn+0l/pppbNaLDs7Mj1L27bO+3vR7NZT/JZ1pq4aS2vi7ms0lWrWL6IpoeLndLrzN9CkFZLf9GmFZM13lJRoJLM8/XT43DPOAB591NJ7ex694/h3zmaxHT1qXYJDE7CA5U7I6QEw7oedAYZJX9yQ1L1vcTmuX74FfX3livp+vgosrqxmIYsxBc9Z7sUJZ8CoryMFsuj90X7dOu3zhgxRthMEICfHeX8vml1J1m2xqA6GuJZejLuvG2mlZv0TTcMC1lfNejh/A03aGCoxfdpNLS36jpKxnaZZ/vGP8LlnnAE8/ril9/Zces/x75zNYvvtN+u2mDUBC1juhJweAON+2BlgmPRECATR11fummTuesZLDBkz8JzlXtwsYEmm90f7sjLt9kOHKtulwu6FVkX3gCIjsK6hl+LuaxRp32T5EsJdzVySNNuEORmBlZQfpFmeeSZ8bs+eYuJ1C+/tQNri+HfOZrEdOcIRWEwIcnoAjPthZ4Bh0pOqXbWOi1NGjZO8M0bhOcu9pIKApfdH+1Lt1W0RAlYyAl4SNS9ZlwNLXXU1vRz3wFpTrWa9fAnhl83OjDnmdMmBFfQ0id0wRg4sU3mD4jWzPPts+NyePYFFi0xfM9q97U/v2/dZ2Zyx+nrOgcWEIKcHwCSHgwcPYvTo0WjRogUKCgpQXl5u+Fx2BhgmPdm4vcZxYcrMMkOOwmKMwHOWe0kFAUvvj/Z6SwhTMQKLyLpdCNVV19LauAeVSz9r1ssFrJ3Nz4raxzfU2fmbK7NEdiE80rKNsYbRkr0B5rfTNGtmWbEifG7PnsDixZbe2770gePfO5vFVldn7rfMuxCmNeT0AJjkcM0112DChAmor6/HunXr0KpVK9TW1ho6l50BhklPUikCq8uMMlTtMvbOYjKbVJ6z6urqMHXqVHTs2BE5OTno3bs31q5da+jczZs346KLLkL79u3RsmVL9OrVC4sXL0ZA2n78GPfeey/OPvtstG7dGjk5OejWrRsmTZqEPXv2RO2/oqICRAQiwg8//BDX57PSGRAEUSwqKRH/q/fHdqP+kV4OLOk6M2ZonycXsAQBqKgAvF7n/b1Yn9VLAkpJ3DJRHYkllUupCLP+P3tnHh9Vdff/k4VEIIWgkAw8VlAhtA8qWlBotbIZTeBxLVr704ps6iOIrRZRFhMyAiogEhURC65s5UmrhjUJGcoSFRBBcCEEoSJhMRU0hJqb5fP7Y7gzd527zJ25Zybf9+v1feGce7Z77ub3k3O+h00PWdlUVoBkJiCZCZjKCnCKtTfdEeUMJj0Ba4EkBtZXra80rNfMjns+dn3IsmvYTfiK9QhZx3GWEbK9YjbM1uyrVkzAc2kFaDazc6C4fabecfHGHCZeawduoKFD1W1Y4c03g2V79QIKC0PfrDr3pt7Y/op9Ev45mrUrQguqZA7Zjz+q7uWQ5sDsK4AELF5hbneAiDy1tbVo1aoVjhw5EkgbMGAAFi9ebKp8LDsDBEHoEysxsERbveeo20NGxACx/M3Kzs5Geno6Fi5ciPLycowZMwaMMSxdujRkudLSUiQmJmLgwIF47733UFpaikceeQSMMUyYMEGW9+GHH8Zzzz2HDz74AD6fD6+88go6d+6MzMxM3T9s1dbWolu3bujSpQvcFrAEwf9H+MxMub/i8fjTlX6LFR9J+kd7vXaUNniw+by8WGKi/99kJmAK86KayZegVTMPpjDvOVEqtIAFxrCa5WINywVYeAKJmRlYX7a+yrAeM324hB3QTK9mHkxj+YHz0bNKdinS2GnN8RPN7tLB1cwvEBkuhczK8i+tCnWjS29or35f1WOoIZ6lpQH5+WrBzCpvS4L19+oFvPyydj+8XtXyyB/TgvemXvf7sO2270HLRgKWs9amjXb66dPye9moHocgAYtPnLvCnLFx40aMHDkSPXv2RJs2bdClSxfccsst2Llzp2HZH3/8ERMnTkR2djY6duwIxhjy8vIi32kbbZv5a+2uXbvQoUMHWdr48ePx2GOPmepTLDsDBEGExqldCH89syziAtZfNx90e7iIGCBWv1lr1qwBYwzLli2TpWdnZ6NLly6qmVRS7rnnHqSmpuLMmTOy9BtvvBHt2rUzbHvt2rVgjOn+YWvcuHG46qqrMHXqVLgpYAlCcPKHMgyK+FuckCJi5OdolQvVjtIGDjSfl1dLZgIGMB9uZ0UYwHwycaDUYAmhk9aW1Wqmz2ePBH7uSupjud6z7DyVEHch+ybw3yfZBbJzN7u8UlzCJo7f7xTxv6wOQUKC+aWdARNVV73jCqTXGqWlaFhXiud7v4W/s9twgl0QKJfN1mMIK8VUNh3vZE1Hw7pS/QfLKu+8Eyzbqxfwyiv6fVdMtRTqhMAEHL13wAddx0XtniWLkp06Jb+HjPI7BAlYfOLcFeaM4cOHY9CgQViwYAE2bdqEVatWoX///khOTsbGjRtDlj106BDat2+P66+/PvDXz2gJWFbbNvPX2s2bN6Nr166ycpMnT8YDDzxgqk+x6gwQBGGM0NiEkW9sR9dJq23NxOo2aTX6ektx7HRdxAWsYpqBRZggVr9ZY8aMQVpaGhoaGmTpy5YtA2MM27Zt0y17//3342c/+xmamuRx4u666y5kZGQYtr1jxw4wxvDWW2+pjm3evBmtWrXCJ598gry8PLgpYNkJf6JMb9tWnubx+NOlvrmVkEEXX+y+bxcpS2aCYRB3MHMBz82YGQFrO+trud5qlokMdlyW1oV9G/jvo6yz7JzNBLhv1gginsgaZXmsDsGFmQJq22aaH0vpule9PAq0Dp2bnIUtKYMCBwexjZrPRsiKzPLuu8GyvXoBCxaY6ruyv8rY9R4PMCNfQHMHk7HDyGLH/v1v/fvPwr1jFRKw+MS5K8wZJ06cUKXV1tYiMzMTQ4YMCVm2ubkZzc3NAIDvvvsOVgSsH374AWvXrtU9XlxcrPoLqd22zf61lmZgEQQRCqGxCYVllejrLZUJRr+cts6UsFRYVhmVeFpiDCyhsQkVVTVYt7caFVU1FNydkBGr36z+/fvj6quvVqWL5/Paa6/plv3oo4+QmpqKcePG4ejRozh16hTefvtttGrVCnPmzNEs09DQgLNnz2LXrl249tprkZWVhVoxUO45zp49ix49emDixIkA4KqAZXYDKmUsK6VPM3Fi8Pfo0doxr6xs2taqVezOvDKy/0nzRbXB/0o/o5kuFbA+YtdYrvc464RO7IQsrTM7GvjvauYJHBrArJ3zAOYL/ExgTbJjZqtJT/fHTmsotTneoXYOUBDiEJoGDAwc/HTuxtBhhEJVZMTSpcGyvXoBr75qqu9KNOPgxcouCmTWTLm83Si/Q5CAxSfOXeEYYdCgQcjKyjKd36qANXfuXCQmJuLNN99UHVu4cCESEhKwYMECR9o2+9darRhYAwcOpBhYBEHIUApDdfUNurOzxN8j39gOobEp4jsadp+8BqfP1mN+WSX6eEtkx/p6SzG/rJKELAJA7H6zevTogZtuukmVXl1dDcYYZs6cGbL8tm3bAjGqGGNISkrC888/r5n32LFjgXyMMfTr1w9Hj6pnOD7++OO45JJLcPbsWQDWBKwTJ05g3759MissLLTtDFj1S8XdBJU+zZQpwd9aG1WR/xu021lRVBtsw7QFrEI2PvCzgvW3XO8xlqkSsDysWnbc7jnfzookP5tlx6x00+eDX4mxM3ahyikIcci/HlY8WF4e+oEMWZEBy5YFy/bqBSxcaKrvprA7hmR828mT+vefU/eOBiRg8YlzVzgGOH36NNq3b4/bb7/ddBmrAhYAPPbYY0hISMDChQsDaS+++CIYY5g8ebJjbVv5a+3w4cMxevRonD17FsXFxUhPTzf8H1Dxf1RFizVngCCI8NGbndXXW4pCiWgUjRlY/WaUmhLTiJZNLAtYOTk5qnRRwJo1a5Zu2Z07dyIjIwM333wziouLUV5ejqlTpyIlJQUFBQWq/A0NDdixYwe2bt2K119/HT169EBWVhaqq6sDeT7++GMkJSWhtLQ0kGZFwFL+P4TU7DgDVv3SoiJ/OaVPM21a8Pf06eG3E89mdTZSuNaa1WmmSwWsbezXluv9F/s5OrKTsrRMdizw38dZhu1zls7AYkx+w1npZlER7KuneuUSElT3t6yvSqIlYC1fHizbqxfw2mva/bcDKdDxacqVVUb5HYIELD5x7grHAPfccw+Sk5NNBXIXsSNgAf4YU4wxvPjii3j22WfBGNP8n8hw2rby19qTJ08iNzcXrVu3Rvfu3bFhwwbT/YhVZ4AgCOcItWxPaGzCCyX70e3JyApYZpczEi2bWP1mhbOEsF+/frj88stVgd6ffvppJCYm4uDB0BsgHDlyBMnJybIdC3v16oU777wTp06dCtikSZPAGMPBgwfxo7ituQ68zsDKywv+fvrp8NuJZ0tmAupTohcDy4yAtYVda7nePewyXMC+k6VJZ2SdYJ1k52wqBlaCOgYWY/Ibzko3fT4E16+aLWQUAyspSXV/y/qqZMCA4MFIClgrVwbL9uoFvP66dv/tIAjA+RQDK6SJ25DGkh07pn//OXXvaEACFp84d4U5R9w556WXXrJUzq6ABQAFBQUQ/9o4e/Zsy+XNCFh2/1prhVh1BgiCiDxCYxPuX/Kx68KVOBOrr7eUZmG1cGL1mzV27FjNsADLly+HURD31NRU3H///ar04uJiMMawevVqw/Yvuugi2f9T6M2eEq13794Wzs4PDzGwpAHap061345o8RoDSxzHhoHR24Wwa8ZZzfSX2LjAz83sOsv17mS/UglY0hlZJ1lHWRGruxBKTfrDyjgH4k1Z2UGAsdC7EKakqO5vWV+VXH998KCoAOsRsiID/ibZrbFXL+Cvf9Xuv13Gj4/aPRuTdt557vfBqklmB6vuPyfvHQUkYPGJc1eYY/Lz88EYw4wZMyyXDUfAevzxx5GQkADGGKZMmeJ42+H8tdYKseoMEAQReeaXVbouXCntr5sPkojVgonVb9batWvBGMOKFStk6Tk5ObKNWbS4+OKLcdlll6nyiLPBd+/eHbLtAwcOIDExEePHjw+k+Xw+lY0YMSLwP/M7duywfI7R3IVQEPyBsaXp9fXAM88Ef+tFdaBdCIPjiOnTDTOuZrlYzYYCjBnOXAplz07+QTP97+y2wEynf5oQsJoUvz9nv0SGZMkgGINHEsT9NGsnm0mVzAQUs2Ehz6f2uhzV7KtkJp8JpTwecpxFBAEY5m/bcFbbsGHaSq1orVqpdimQHlYRLQFLuoSwWzfLuxAasnNn9B6SX/0qem05ZTwLWKmp2unffhu8vqF23Qz33lFAAhafOHeFOUUUr/Lz822VtyNgNTc3Y9y4cUhMTMSSJUvw6quvIiEhAY8//rijbYfz11orxKozQBBEZBEam9DHW6KKScWDUWD3lkssf7Oys7PRoUMHLFq0COXl5Rg7diwYY3j33XcDeUaNGoWkpCQcPnw4kCYuzcvNzcV7772HkpISTJo0CcnJybjhhhsC+fbs2YPBgwdjwYIFWL9+PUpKSjB37lxceOGF6NSpk6xOLdzchRCQ+faqWU/i79xc/8yqtm3VPk1aGjB4cPD3k08at2Nk118P9OgROk8srtgJaCNSxU/DpjAvkpmAZCZgCvOimnnMNdC2reoiNWfoL5+rZpkoY4NRz1oZ1l3H1A76cZYh+32CdVLU78FUVhAQnYzOZ//204GfyUzAVFaAYywzZJ1alpUF1NVp3IBeL4TzdcYjMzOo0oroNeDx+BXZc3mlh1REWsASBH9f2reXl9ebwhhyG8QQ9V9wQfQelOHD5YH1yCJjR44Er6+ZZbYOQQIWnzh3hTlEXMI3VWuOuEmsClhNTU0YPXo0kpOTsXz58kD6m2++iaSkJDz88MNobm52pO1w/lprhVh2BgiCiBzRCNweznLCrpMosHtLJJa/WbW1tZgwYQI8Hg9SUlJwxRVXyP5fAkBgFtShQ4dk6UVFRbjuuuvQsWNHtG3bFr169YLX68WZM2cCeY4fP457770Xl156Kdq0aYOUlBRccskleOihh/DNN98Y9s9tAQsI+PbwKHQFjwfIzwduusm8TzRxonE7RnXEQrgdpT4QagJGRoZCGzEQsFop9KRkJmAA8+EOVoTTrF3wwEMPGXcshDUr/tWyoywTn7frp3lMOZNK73cxG6aajTWA+VS7Ex747GzguN7sM706lSadSCVlz05/28vZncHMf/yjOnOoGSniGJ9rRHpIxW9/Gzy4aVPoBzFkRToP1NCh1m5cvYExqj/aa3o7dYpuey3RvvzS2vV1CBKw+MS5K8wZc+bMAWMMOTk5+PDDD1UmsmnTJiQlJWG6YiuatWvXYtWqVViyZAkYY7jzzjuxatUqrFq1CnWqP5UEmT17NlJSUvCPf/xDdWzFihVITk42jMNlpW0zf60Nl1h2BgiCiBzr9la7LlSZsUeWfqIKPE/EL/TN4hcnnQGlzy7+cd6KT2RmYrzbflu4NnKkf4aPz+ff6c7nA/7+d/38p08rBsBAwArV9ndMMhPmnXcifrJnWGtH6tGKbcWY/Gao2vcfMBZevCypyZYRnuOzz/zHpjCJkqoVksTC2lrZ+SiRClj//Kf5B8MMVh/OUAPjZP1ksWG/+Y21/A5BAhafOHeFOWPAgAEIFXxUxOfzQWuWU9euXXXLKv/qKeXs2bOoqKjQPb5161bU19eH7LuVts38tTZcyBkgCEILnmdg0bLClgt9s/jFaWdA6q8Ign/2kBUfR7Lpoqk2YtG09vP54AP9/Kq/0RoIWKEmQ5xkHQM/Gt5Zbq3jNqyZhReDC+fKa+0uyJj8Zvhqz0+mdywMVSdjGoHczyEKWJOZ5Bo89ZQ8k9mdC881Iu2DikgJWFZ3RjAaGKfqJ4sdS0iwdn0dggQsPnHuChNxCzkDBEFoITQ24VcFG1wXpqzasMLN2FJ5koSsOIW+WfwSSQHL57PuE91xh7U2YtGefVZ9Tu+/r5//7FlF5jBmYEnjTO3LX+X+YFiwAcynSpb+WPF2PQYwazedVp1SU4adEgWsp9iMYCZl4DaLN760DyqukwTId1LAsvNwhhoYp+sniz9zCBKw+MS5K0zELeQMEAShx1/+ttt1QYpmZBFS6JvFL046A83Ncn+lqMi6j5Oba9yO235YuPb881rXQT//f/6jyOyQgFUxKUSjHNrtrEiVLP3x2suCKi6WnTqlVlQkH/q9e/3pk9isYKZJk+SZLN740j6okApYmzebfzCMsPNwhhoYp+sniz9zCBKw+MS5K0zELeQMEAShR/Geo64LUXaNAr3HJ/QV148/AAAgAElEQVTN4hcnnYHGRrm/YmcSxq23Grfjth8Wrs2erXUd9PP/9JMicxgClnTnvz0zV7s/GBbMcAbWO0LEZ2CJAtYT7NlgJuXOA07OwLr22mBeJwUsmoFFFm1zCBKw+MS5K0zELeQMEAShR6zFwdKzwrJKt4eScAj6ZvFLJIO4l5Za3wxs2DB1gHNluB23/bBwbe5c9ditCrGaTxWmNYwYWMdYMDZTw+r1ET/ZaMbAOri/IeIxsHbt8h+fyJ4LZv7LX9QPglMxsKQC1pYtoR9A2cAYQDGwyMI1ioFFSHDuChNxCzkDBEHoITQ2oY+3JDCbKRat2yT/ckKahRUf0DeLX5xyBgQByMtT+yxpadb9osRE+W+Px7+hmSCoRbJYtHnz5ONWUAC0b6+f36qANYD5dIUZqYCFsrKIn2w0dyE8crgRjEVmF0LxOl1wbhPHx9nsQMaK3zyu1nOc2oXw178OHiws1BeOtLYANYKXXQiVDzxZbFj//tbym7knTUACFp8wtztA8A85AwRBhGJ+WaXrIpQTVlFV4/ZQEg5A3yx+ccIZEARg6NDI+UniH/lzc/1mlD852X3fLpS9+KK1cbO6CyEYQzXzYCorkAlZCQlANfME823apD/YJqxZ8a+W1bB0bO+kfZLKWVJ6v4vZMF1BTvrj871N/uvPBBSzYSHrLEnx16k8XfH3sGFBf1t6ncTjj7E5gUJz2Z9l+XXVXJ1GZOcjfagKCoBWreRlpWquNJ9yxpcyn1MPbm6ueSFCEPznGOkHSsvatnWn3ZZkffsCKSnm85u5J01AAhafMLc7QPAPOQMEQYRCaGzCyDe2uy5AhWvr9la7PZSEA9A3i1+ccAbsTuRw01JT3Wu7sNDauE2frhhwEwKWlvjj8QA//qxzMN/WrfJyXq8/kzQtxFK4apaB79j5xn25MQe7et+vSpfNBmNMLq6d+z2FeXXFK8Yg+3HRz5sDP5OZgCnMG7LOIUPUp+vx+IdB6mNrXac/sRcCP15gfwoMnylRKDUVyM8PNCI7HxjUIRW/6urUyppWvlCztnJyrN28Q4daEyDq6oCsrOg8WKJ16RLd9sjMmZl70gQkYPEJc7sDBP+QM0AQhBFCYxMKyyrxy2nrXBeiaAZWy4a+WfwSrjMQq6FukpLca/ull6yNmyrkkAkBS2r7/uANxhLrLBGwPvpInle8oNIAZP/5j7rOm2/G/td8eJrlme/HqFGy3+vYTbjuitOytGTmD8J+OyvCp/N8+PtKQTUBSWnSH1rHpXVKl1aKoZyM4q3pXacJ7MXAj3ns0UB9jXnmlw6KKC+BaWVz8GDLbcmI9BLCcNqwYjffHHsvIC0bMQJYudK/xnjlSuDPf3a/T5EyK/eQAhKw+IS53QGCf8gZIAjCLHX1Dbj1pS2ui1FWjGJgxRf0zeKXcJ0B2mzMur3yivVxk236ZkHAamKKoNvS2Sk7d8rza6HcWpIx4PHHsetjAcdYRsjlgzI7Xz5TazEbiZt+WydL0+pKuAKWpXG1cH8/wuYHfsxnj4Axv1hW38GEKqkIhC47HyvKZmKi5bYCRDqIu7QNOxfGim3aZHyj8G5a47pggfv9ita5WoAELD5hbneA4B9yBgiCsILQ2IQ/LPrQdWHKitEuhPEDfbP4JVxnoKjIfX8o1uzVV62PW1GRZNAtzsACY0Gl5r/+K5i2Z488jxZNTeq6/vIXVC7yhTUIr7PRGNT/rCxNqytG8b31ytsaVwv393hWGPhRyMaDMWAAszgm566J7HwipQgrlbpw2zFS/pxow6xt3hz7ApbWuL78svv9ida5WoAELD5hbneA4B9yBgiCsIrQ2IQRSz52XZgymnnVddJq3PbyVhTvOYqKqhqahRUH0DeLX2gGVvRt4cLozcAKmKjUSAWszz+X59FCS8CaOBEHZ4enXC5iY/Dbq+XLE7W6YjRBSK+8rXG1cH8/zILiwsvsYTAG3M7sqZKy84mUIqxU6sJtx0j5c6INs7Z1q7Vg4jybdFwLC93vT7TO1QIkYPEJc7sDBP+QM0AQhB3EuFh9CkpcF6u0rPvkNaqYXX29pZhfVklCVgxD3yx+aakxsNzs76JF4cXAapwexgysCy8Mpu3fL8+jhY6AdeB1X1iDsJA9gF6XGgtYRlXplTdz/c2sYtK7Tv/LXgn8WMAeQkICcHsHi2Pi80EQ5EkNpeGNq+H1F4mnGVgVFfEjYEnH9cUX3e9PtM7VAiRg8QlzuwME/5AzQBBEOAiNTXhs5aeuC1ZWZmWNfGM7iVgxCn2z+KWl7kLopr3+urVxE+MdC4K/zMy2YcTA+vnPg8cPHpTn16K5WV3vE09YioHVzBj+nSCPgbWAPYQU9pMsTasrRtVLfxgtN1Rafr79+/shFoxP9Cp7EIwBM/JNqpIJCWjO9OCZPEEVIurCTAG1bTPRTDGwzNtHH8W+gKU1ri+84H6/onWuFiABi0+Y2x0g+IecAYIgwiUWlhQqjeJixSb0zeIXJ5wBQfDvjK7nqzCmf7wl2uLF6nELpSMIgt+GDvX/nsIszsCS7vglFbAOH5bn00JLwJo0Cbt2AVOZeeVyIRsr+/0yexitWL0sTasrevdTIJ9OeTM2dKh5HUZ5nR5gCyXn9gCGDTtXl0lV8q0sr+b5JCRYGFfahdBv27cDqamRbyfSphzXOXPc71O0ztUCJGDxCXO7AwT/kDNAEIQT6C0pvOQp98UqrZlYtDNhbELfLH5xyhkQBGDSJLWf4vH4fRXlUqmWbG+8IR83r9c/Tnr5AbkOMNmEgNXE/MpISeowuUpz0UXBfJWV8nJ6ao6y/j/8AZ9uF5DMBKxmuYZ9Wc2G4jdsiyztJTbOsoB1zz3qcZL+GMB8SGaCpWth1o9WXqex7LVAJbv6jAkOnQlVcn+P3JD9TGYCiplOHVJFuK5Ovy1pPr3ralZBlVqo+ozaiJTt3Amcd17w9zXXWDsnHkxrXGfNcr9fTpqZe9IEJGDxCXO7AwT/kDNAEISTCI1NqKiqwbq91aioqsF7n37rumClZxVVNW4PF2ER+mbxi5POQHW13F/5v/+T+ylu+0+82JtvqsdOEIAhQ7TzK1d7mRGwqpkHU5gXF2YqHMWuXYP5OnaUl/N4/EqZ9KLpKI/CBR5MZQU4j9Xhlcx8NLdN08z3HTsfyUzA1exjWfp89giSmbxuaVGte2bNGn93fD7g7ysFVI1Qz+6pZv5+mRGy7KxkEtv/5H9fD1Y0erQ6k9eru3zuRGImphn0sRUT8GyaF82ZCsVOqghL21Iqe8p8oU5Iq7zeekw7woPBeFhe+6m0XbvkAtbq1ebOSfm7dWvnH3azVlcnH6+CAiBN+5lCerr+MZ4tLc2/bjcM8QogAYtXmNsdIPiHnAGCICJJRVWN60KVnq3bW+328BAWoW8WvzjpDHz7rdxfOXxYftxt/4kXe/tt7fH7wx+08ytjYesJWONZIW5nRfDlBWcieTyKRqQzsIxm7UjXLSpMjNFUzIahzxUCNpVqC12VrDsYA/qy7bL0eexRJLEGWZq0qNY9s379ucQQ/RJnnhWzYaZnY9mKJb14cbCCUaPUxwUByNWenWalj5tKzylmRUX+f0PNpjKTTw9l+bq64G+tC2MHsY2VK4F58/z/hmrLrO3eLRewNmwwPiet3/fea6/9Cy4Ann4amD4d+Mc/7NVh4pkLWJs2/r7bacdtC3P2FUACFq+E+XYgWgLkDBAEEUmExiZclrfedbGKZmDFB/TN4hcnnYFvvpH7KpWKkHVu+0682DvvaI/f3Xdr51f69XoC1q/ZNjDmDxIvJqsErPR0c530ek3HL3op04uiIu0LLApYfdgOWfpc9mckskZZmrSo1j1TVnYu0WS/pjCvqVMtKrJxsy9ZEqzg/vvVxx3qo62+OY3WhYlGW2bts8/ks6dEAcsqV11l/6EW16KajUsW5jMHr9d+O25bGPGvABKweCUKbwci1iFngCCISPOXv+12XaySGsXAil3om8UvTjoD//qX3E9RXm63/SZebOlS7fH7/e+185udgdWfVYAxYNWqYLJMwBIEICnJuIMJCf7lXhkZhnGEmlgCTiZ7DGdg/YrtlKXPYY9ZFrB8PpjePa+JJaCaeUzNwrI1A+vNN4MVjBghP+ZgH231zWm0Lkw02jJrn34qF7BKSqy3KwjyWVxWzeMBTp+2vxzSwjMHxqKzu2MkLMwdCAESsHglCm8HItYhZ4AgiEhTV9+AHpPXuC5cSW1e6X5VvC4StPiHvln84qQzcOiQ3FfZtUt+3G3fiRdbvlx7/O66Szu/2RhY/dhH8HjkmwvKBCylEuagNZRq1y0KWFexT2Tpz7O/IIE1ydKkRbXumS1brJ/DAObTPRyWL/3WW8GK/vhH+TEH+uiAn+8cWhcmGm2ZtTff9C+rE3+Xllpv14lnY9y4iD1fcWdhKLMkYPFJFN4ORKxDzgBBENHghZL9rotWUrtrYQX6eOU7Jvb1lmJ+WSUJWRxD3yx+cdIZOHhQ7qO88goFcdeyadO0hYk779TOD5jbhfBq9jHy8+XB9GUClt0YQ2ZMp+4D7FIwBlzJdsnSn2VPgLFmWZrynJX3zMsvAw0rrZ3D7awoZBbbq5nefjtYyb33yo9ZHGe9Poa50so5tC5MNNoyay+9BLRtG/xtR8By4tm49dbIPV/xZmGsjSUBi0+i8HYgYh1yBgiCiAZCYxNGLPnYdeFKuZRQ6/fIN7aTiMUp9M3iF6ecAUEA/vQntZ8ibmwXqzGHI2VaG/6FErAEwR//mDFgio6A1YftQGYmMHGivJ0AEZyBpVe3KGD1Zp/K0meyJxFKwBI3YlNWeXsHa+cQagZWaiqQl2dzltO77wYr+n//T34sjBlYyjj6XKC8GaPVlll79125gBUIlmYBmoEVXaMZWHFHFN4ORKxDzgBBENFCaGzCHxZ96LpwZcYKyyqNT4iIOvTN4hcnnIFQG2eJDnmnTtH3kcIJaWPFzISV0hsXqVAxfLh2Xuk4e73AzLbaAtav2E5V+JxoxcCCoB0DSxSwBp2/W5Y+gz3lPzdJmrSo3v3Uigk4xjIDO/mF6tfxRA9uGCAgJcX8NTDN0qXBiu6+W/1AmIiB1Xyuj9IYWB6P/xpzI14B2jdjNNoya199JRewNm603q4gyONoWTWKgWX+PCkGVlwShbcDEeuQM0AQRDQRGpvwx8UfuS5QGdkVeRtQV9/g9nARCuibxS9OOANmN86Kto0apX9sxIjw6l60KPjfGRnh1SUuFfvd77SPKykbpC1gXcl2qZJVuxB26GC+UyYvbGHmuRPQOFbruRQ+HyDs3CNL//J3U/yTMCRpZsdrKjPXr8Z8r6VN3SyxbFmw8O9/b/uhaMz3wufzr6jy+TgTrkSkfY50J+08QIcOyQWsuXPt9fHqq+0/xPn5/jpoF8IIPGxySMDiE+Z2Bwj+IWeAIIhos6XypOsClSkRK38DxcTiDPpm8Uu4zoDJySau2OjR+sfCFZ32SPQYOzOwRJNOSLjjDu08yvHWm4HVm32qSs7MlBQsKAg9Q0Q5JUm6blFhzefyFrNhuOqyc2KBVp2XXuo/9tln8vRp01RltLqiZclMQDEbJuuH1jkIdYKpe9PWpJAVK4IV3HWX9oMhjl2IPvKpWJ1Dbx2n1vrXSLVlxh57TD3GVvsoCECfPvYf5MxM/3rUJ56wV97EMye7f/LytO8p3i03N+z7hgQsPmFud4DgH3IGCIKINuv2VrsuTlkxionFD/TN4pdwnYFIhlUK10aOjFzd+/Y5W5/PB9x+u/Yx5XjrBXG/nO1RJXfogNBrPKWWmalev6azNFC4wIMpzItkJuDyy8/l1apTFLD27pWn5+WpylgZr2QmYArz4qfzPfIDkjV4Vu9NS2F5/va3YMHhw7XziGs+Pfp95BYz64KdEuDM3p9WzEofI9G+VVM+c/n5/iBtZssr7zFebehQErDiFOZ2Bwj+IWeAIIhoU1FV47ooZdUoJhYf0DeLX8J1BiK5sV24Fu4ywVD25ZfO1ldUBNx2m/Yx5XjrCViXsc9UyenpMD+zRVwGpUSZb+xY7N4RjNtkSsBSKn5iW5I0O+P295UC9NbgWb03LW2MtmpVsODvfhc6r6DfR26J2NrLMNqya0Z95GENdLh9Eu8xs0sL583zbxPrxrnSEsK4ROMuJgg55AwQBBFthMYm9PGWqHYB5NW6TVqNvt5SmoXFAfTN4pd4noH1xz9Gru79+52tz+cDbr1V+5hyvPUErP9m+1TJndJNrvEMtY5Omff557FbEpPdlID1+efy9IICVRm74+bUvWlpBpZUHbvjDgsFYwCz64IdCMgdaCtSD6pRH3lZAx1un0Q2bzaXf9Mm4ODB6J8nBXGPW5hxFqKlQ84AQRBuML+s0nVhyqpVVNW4PWwtHvpm8Us8x8AaNEj/WLgxsL74IvjfdjceU/pzZgSsUDGwfsk+VyX/T5rPWoe0VBxlnjlzsHNn8OfFF5/zR7XqEwUs6YAxBjzzjKpu5biYHbdw701bPvXf/x6s4LbbLBSMASKq/IXZll3T6yMvCny4fRLZssVc/n/+0x/83q3zDeOeIQGLT5hxFqKlQ84AQRBuIDQ2YeQb2wMznJQznrpOWo2LORCtpLZub7Xbw9bioW8Wv8TzLoShTBkD2ap17OhcX8RwSD17ah9XxqIuH6ItYPVkX6qSb2cOrKNT5Nlw01xccIE82eNR5wNjQQFLueZy5kyV6GVn3Jy6Ny2vavrHP4KFb73VYmHOiejayzDbsmt6feRlDXS4fRLZutVc/n/+Ezh82L3zDeOeIQGLT5hxFqKlQ84AQRBuITQ2obCsEn29pTKhqK+3FIVllXihZL/rohXNwOIL+mbxixPOgJmNs6xYODOazFpuLpCTY798uDPOpDGm6+qMY0hLY1E3TtcWsLLYV6rkAcxnrWMmZmA9yuZpbqynWZ8oYH31lSy98ZlZyMmRl7HSzYwM/7hZuTcd3Qzw/feDFd1yi8XCnEMzsKJv4fZJxKyAtXkz8M037p0vzcCKO5hxFqKlQ84AQRBuIzQ2oaKqBuv2VqOiqiYQa0pobMKIJR+7Llx1nbQal+etpxhYHEDfLH5xyhkQBKBvX/f9QCuWn++3tLToty3diM7yLKFntAWs7qxSlZzMBBxjmWhizsXAeoTN16xCM1EUsBRBw0qzn1OVsTqGZmdNRWQzwA8+CFb0P/9jowKOoRhY0bdw+ySybZu5/Fu2AEeORP88KQZW3MKMsxAtHXIGCILgGaGxCXPWf4WLn3RXwHps5aduDwUB+mbxjJMC1vnnu+sD2vWjBAH4r/+KXttz5gT9N1tagY6AdSk7oFl2KgtzHZ0i3zj2kmZxzURRwKqslKXnpc1WlbF7/azco45tBlhcHOzMsGFhVMQptAthdC3cPolUVJjLv2ULcPSoO+dKuxDGJRp3MUHIIWeAIIhYoK6+AROWf+KagFX6RbXmLDEiutA3i1+ccgZ4WYlj1cSVLN27R6/NjRvtj5vPB2D6dM2DF7ODmmWSmYBi5l9Hp5qJZWYdnaLC8XZmYB04IEv/M5urKhPO9Ys60iWE11wTphrGIRFbe2nQltNmpo+h2lee+89/Hpl+hjsm4jmaFbC2bgX+9a/InEu418MAErD4ROMuJgg55AwQBBELCI1NuPXlLa4JWJflrZf/fnod7lv8Ed779FsStKIIfbP4xSlngJdYyFZNjCV8ySXRa7O83N64JTMBn99doLvmsTvbH7LsFOZFNbOwjk5nfeNp1g5TWQGSmSA7pNmwKGAdPChL/xN7QVUmnOsXNcQxSU9Xj6My2n6sE5G1lwZt2VlOOGCAOi0xERg82HygtLw8oFUrdT0pKdrpSsvM9K9HnjYNaNtWO0+oevLy1OMpCMCf/qR9bso2xPvP7C6Eo0cDnTqF9yKzak8/7cg9QwIWnzC3O0DwDzkDBEHEAvPLKl2PgxXK+nhLML+skoSsCEPfLH6hGVj+/nfrFr02N22yPm7JTMBqFjrSexkbrBKVtOr5dJ7PeB2dIOhGlm8+928xGyZrT7NBUcD6+mtZ+gT2oqpMONcvKoQYE8dnJfGEo2svTbTlxENm9nqEuqZWLDdXvi64tNQv2Nx/PzBlirkAgUOHqvtaVRX6/JS/r73W2ZeV0h54wH5ZszsvGEACFp8wtztA8A85AwRB8I7Q2IQ+3hLXRSozNvKN7SRiRRD6ZvGLkzGwOnSIrO/ktEljKF10UfTa3bxZPm5mYmBNMxnHagrz6h62FDfKZAweaXuaeUQB69AhWfpTaYWqMlbG0In44ZaJZlyolozTD1yo6+Fk/Cu9dqy0oaxDMXPRdXvkkfDKDxkS9u1BAhafMLc7QPAPOQMEQfBORVWN68KUFZv4t90kYkUI+mbxi5POwKhR7vtXVmzw4GAQ93btoteuctaQkX8r7iTYbLCTYBNLQDXzhJyFZUpbMamqKdvTzCcKWIcPy9LXDntZVcbqOEZVJ4rmznwtGadmYJm5Hk7uQKjXjiD4Zx6ZrSczU16HYuaiqX44OX5Ku+CC8MonJoY9C4sELD5hbneA4B9yBgiC4J11e6tdF6VoSSEf0DeLX5x0BkpKIus7RcJyc/0WzTZ/8xu5j2oUr3kA81lqYCDzyZIsr26zuB50APMhIQHax0UBSxEwuvGlBcjNlZcx05xrK/VsRdsnLBOptcha1yMSbSnbsdOGtA6F8BsXNm9eWLdION+s2tpaPProo+jcuTNSU1PRu3dvLF++3HI9U6ZMAWMMvXr1Uh2rr6/HtGnT0K1bN7Rq1QoXXXQRnnzySZw9e1aVVxAE5Ofno2vXrkhJSUHPnj1RWFhouT88wNzuAME/5AwQBME7sTYDS2q0pNBZ6JvFL04KWBs3uu8bxYopZw8Jgl/r0cr7t7utRcgflV4kS7Icc9tiRP7bWRE8Hmgfv+QSf53ffCNPf/VVf38kadLDbdsCgwapY3pHIn54JMYk+tHl44RI7QahdT0i0ZayHTttSOtwY6fASNvEiWHdIuF8s7Kzs5Geno6FCxeivLwcY8aMAWMMS5cuNV3Hp59+itTUVGRmZmoKWHfccQfOO+88zJw5E6WlpSgoKEBKSgpuvvlmVd4xY8YgNTUVzz//PHw+H5588kkkJCRgxowZls/NbZjbHSD4h5wBgiB4R4yB1Y0DQcqOFZZVuj2EcQN9s/jFSQGrtFTbX/H5gHvvdd9v4sX0VhvdcIN2fquzOBpKfeHF3LbY3qfzfCoxKmCigHXkiDz9tdf86ZK06dOB6dP995E0Hna04oeHhGZgRQeagSWvQyn8xoO5NANrzZo1YIxh2bJlsvTs7Gx06dIFjY2NhnU0NDTgyiuvxIQJEzBgwACVgPXhhx+CMYa5c+fK0mfOnAnGGEpKSgJp+/btQ0JCAmbOnCnLO3bsWLRu3Rr//ve/LZ2f2zC3O0DwDzkDBEHEArzvQqhn3SatRl9vKc3Ccgj6ZvGLkwLWhg3a/grg34zLbb+JN1P6ukOG6IxftOMv2W1PK48oYH37rTz99dfVZXiGYmBFB4qBJa9DKfya6UckX1odO4ZX3sUYWGPGjEFaWhoaGhpk6cuWLQNjDNu2bTOsw+v14qKLLkJtba2mgDVnzhwwxvDll1/K0j/77DMwxvDggw8G0p555hkwxnDs2DFZ3oqKClidFcYDnL/BCR4gZ4AgiFhAaGzCyDe2B0Qht4Upq1ZRVeP2EMYF9M3iFycFrHXrtH2W5mZgxIjI+lWxaMrVRroCFhD9HfDstKd1vHNnv0N+9Kg8ffFitVjBu+hDuxBGHqcFLKPrwfsuhIrdO123Rx8Nr7yLuxD2798fV199tSpd/P+T18RZoTp8/vnnSE1NxZo1awBAU8ASZ1p9/fXXsvT9+/eDMYZf//rXgbS7774bnTp1UrVz5swZMMbw1FNPmT43HmBud4DgH3IGCIKIFYTGJhSWVaKvt1QmDvX1lmLcu5+4LlKFstV7jro9fHEBfbP4xUkBa+1abZ+lsZEELC1TzsAaPFg7HwB5pHe9WRbZ2c6JQHV1QFZW6BNQRlLXy+fx+OPeSNNuu007wFVBAb9CVqhr4Fp0+ThBEPzXXnlP2DWz10MQwtvFwUw7Ztvo0SM4O0kcD7O7/on9uO66yL60wtmFMCMj7NlXQPCbVVhYiH379snsxIkTuuV69OiBm266SZVeXV0NxphqKZ+UpqYm9OvXD3/4wx8CaVoClti3d955R5a+ePFiMMaQlZUVSMvOzkbPnj0120tJScEDDzyg2x8eYcZZiJYOOQMEQcQaQmMTKqpqsG5vNSqqagK/3RapQtl/T1uHF0r201LCMKFvFr84KWCtXq3tt9TXk4ClNK3VRoMGaecNIAj+GRoej3bG48fDvoaBdoYODX0CWVlyZzTUzBk9wS0WRSC9a+BadPk4QHq/ObUEzuz1MCMupaQ40860aUBSUui2hg3zP1dGz59ePz7+2Fz+Cy+M/kvPAfEKCH6ztCwvL0+3XI8ePZCTk6NKFwWsWbNm6ZadPXs2zj//fJlApiVg1dfXo3v37ujSpQtKSkpw6tQprFu3DpmZmUhKSsIvfvGLQN7s7GzZbykpKSmy5YaxADPOQrR0yBkgCCIeiJVA7wOeL0ddfYPxCRGa0DeLX5wUsP7+d22/Zf16YODA6PtLPFt+vnr8rr9eO68KaWTz5ORgxlOnwr6GAOwtlXNyKZaybh7hJrp8HGD23rnqKnP5Ro0yfz3Mtj1qlP9al5b6zc51N9uW3lRMM+e7a5f7LzfR2rQxeJHZw+4MLLtLCP/1r3+hdevWmD9/Pk6dOhWwa6+9Fr/85S9x6tQpnD17NpD/wIED6N+/P0RRrW3btpg/fz46duyIIZIllLSEkGhxkDNAEES8ECuB3gfOLqeZWDahbxa/OCFgiatd0tPd95nMmjjRIzfX+mQHaXkxPmaEUu4AACAASURBVLPViSOZmcHVcuL4tWqlnTekjywtdPq07Wsou5hWg5WLZZy8OBQIvWVgJZB6YqKzQfSjGZjf6nnafVY+/dS9l6qROYTdb9bYsWM1g7gvX74coYK4+3w+6M34Eu3RRx9Vlfv222/x2Wefoa6uLjDLa/r06YHjM2bMgFYQd3EnQwriTsQd5AwQBBEvxFKg93ml+zWXQhKhoW8Wv4QrYJlZbcajSVf+CILxyh6lpab6Z1HV1WmvKEtLA9q2De13MuYX0IxWMIVcUSedgfXjj/ZvBBGfz9pA+HzWy1ipm4hv3Lx37NzrvJ2nsm+7d0e2nXDMIex+s9auXQvGGFasWCFLz8nJQZcuXdDY2KhZ7tSpU/D5fCrr3bs3unXrBp/PhwMHDoRs+89//jPatm2Lb7/9NpC2b98+JCQk4Nlnn5XlffDBB9G6dWv8+9//tnR+buPcFSbiFnIGCIKIJ/QCvfNmWVPWoo+3RJbW11uK+WWVJGSFgL5Z/BKugOX0yrFomVIQkk5kuvFGc3VIV7lpbaiXl+dcf3VX1EmVt9paW9dQRlGRtY4VFVkvY6VuIr5x896xc6/zdp7KvpGAFZLs7Gx06NABixYtQnl5OcaOHQvGGN59991AnlGjRiEpKQmHDx8OWZdWDCwAeO655/DWW2/B5/NhxYoVuOOOO5CYmKg5o2rMmDFITU3F7NmzsWnTJkyePBkJCQmYMWOG5XNzG+euMBG3kDNAEEQ8Is5uWr3nKK7I38D9jCzprLGRb2wnEUsH+mbxSzjOgJVVMbyZEqkOZGajLa1VRdLjTo5NyBVM0uVGTgRJphlYRDShGVjOnu+ePZFtJxxziHC+WbW1tZgwYQI8Hg9SUlJwxRVXYPny5bI8I0aMAGMMhw4dClmXnoA1ffp0XHrppUhNTUV6ejpycnKwefNmzToEQUBeXh4uuugipKSkICsrC4WFhZbPiwecu8JE3ELOAEEQ8U6sxMaSWmFZpdvDxiX0zeKXcJyBSPtk0fSl7ApNUp9WmR4pH1W345JAwrahGFhENKEYWNrnafdZ+eyz6LxA7ZhDOLnxCOEczl1hIm4hZ4AgiHhHGhsrFqzbJP9yQpqFpYa+WfwSjjMQ6VUx0fSl7NYjXVWkTHe6z5ormKQZfvrJ8jXUhHYhJKKJ07vzWbl37NzrvJynVt94ErA6d5b/dggSsPjEuStMcM3JkycxdOhQtGnTBj169EBJSYnpsuQMEATREoiV2FhS++vmgxTgXQF9s/iFZmD5sVuP6zOwpBlKSpyZtSQI/sjxjOnPGFFGllcGAZOaXh3KdPF3yKj1RNwR6n6T3hN1dcF8eveS1XvHbNuRfq7MnqfRc7h3r7ly/fpF9gWbkQGMGBH6pWsTErD4xLkrTHDNnXfeiVGjRqGurg7vv/8+0tPTUVNTY6osOQMEQbQkpLGxbnlpi+silVmjAO9+6JvFLxQDy4/0WPv2xuWVK3eU+k1dnbNjk5mp8KEFQXtGh8fjTw/X4RYE7e0VGQPuu0+7/lCdv/56dbpyqZR0a0iiZaF3vynvCUEApk3Tvu/t3jtm2472eXq9+ktzMzPVfRMEYPx4cy+UdetC19+mjfbWrNJdT/Xsiiv8L8DRo0O/dG1CAhafOHeFCW6pra1Fq1atcOTIkUDagAEDsHjxYlPlyRkgCKIlEmtxsSjAux/6ZvFLS92FUERPBzJjov9YUKD2Az0e6yuBQllamkSXEgRg6FDtjJGYNTJ7tryNDRu080rz+Hz+NY+lpUBubuiT+9Wv/PlIuCIEIXjv+Hza98SZM+p7zal73ahtpzDblphv5Upg3jz/v1r5Q70TtExc9SPWP2mSNZEqlH3wgb/usWO1X7phQgIWnzh3haPExo0bMXLkSPTs2RNt2rRBly5dcMstt2Dnzp2mytfW1uLRRx9F586dkZqait69e6t2BBDZtWsXbr31VnTu3BmtW7dGz549MX36dNQ5sfNKCH788UdMnDgR2dnZ6NixIxhjyMvL081vdE67du1Chw4dZGXGjx+Pxx57zFR/yBkgCKKlITQ2oY+3JCZ2JtSylhzgnb5Z/BKuMyAIxvoEjyb23YrPp9SH6uqC5fVWBGVkhD6em2uuD9J2G/OiGLcH8Du70npLS7XzaTmr0YwxRLQMzp6NiDAS01hV4ZVha9avd+7lWlzsr/OBByJynUjA4pOYexKHDx+OQYMGYcGCBdi0aRNWrVqF/v37Izk5GRs3bjQsn52djfT0dCxcuBDl5eUYM2YMGGNYunSpLN/nn3+O8847D71798bKlSuxceNG5OXlISkpCbfcckukTg8AcOjQIbRv3x7XX399oH+hBCyjc9q8eTO6du0qKzN58mQ88MADpvpDzgBBEC2Niqoa10WocGZiteQA7/TN4hcnnIG8PPcFKasG2Jt51batfOaVmTJDhoReMSSuFkpLM64rmQmobRulndNElAKW3v/bKwc4mru8ES2H//wnIsJIzGJnLbdSwFI+4+GY+C158MGIXCcSsPgk5p7EEydOqNJqa2uRmZmJIUOGhCy7Zs0aMMawbNkyWXp2dja6dOmCxsbGQNqUKVPAGENVVZUs7wMPPADGGL7//nvddn744QesXbtW93hxcTHOnDmje7y5uRnNzc0AgO+++w6hBCwz50QzsAiCIKyxbm+160JUuFZRZS7OYbxB3yx+cWIGlltxsIYNA55+2l5ZuzGqOnUKik5WtJm6utArhgQhOFsrlA1kPmsd1oz8bpHSUnN1Kp1Vq5HsnegrEf/U10dEGIlZ7OwYoVwGXFbm3It51ix/nSRgtSji5kkcNGgQsrKyQuYZM2YM0tLS0NDQIEtftmwZGGPYtm1bIC0/Px+MMXz33XeyvE888QQSExNDClBz585FYmIi3nzzTdWxhQsXIiEhAQsWLDBzWoYClplz0oqBNXDgQIqBRRAEoUMsz8ASbd3eareH0RXom8Uv4ToDbu5EOH++vw92ys6bZ79dn895bcZsfbezImsNFxXZuq4ylALWpk3a+ZTOapELfSXiH+WOCS0dq88ZY2oBq7zcuRfz1Kn+Ov/3fyNynUjA4pO4eBJPnz6N9u3b4/bbbw+Zr3///rj66qtV6eL/7L722muBtEOHDiE9PR3Dhw/HwYMH8eOPP6K4uBjt27fHI488Ytinxx57DAkJCVi4cGEg7cUXXwRjDJMnTzZ9bkYCltlzGj58OEaPHo2zZ8+iuLgY6enpKnFOSV5eHhhjASNngCCIlkKsx8CiGVj0zeKRcJ0BO76TU1ZY6O+DnbITJ9pvt6jIeW3GbH0DeJiBtXmzdj6ls0ozsIhI0NgYEWEkZnFiBtamTc69mJ97zl/nww9H5DqRgMUncfEk3nPPPUhOTjYM5N6jRw/cdNNNqvTq6mowxjBz5kxZ+pdffolf/OIXkIo4EyZMCCzvM2Ly5MlgjOHFF1/Es88+C8YYCgoKzJ8YjAUss+d08uRJ5ObmonXr1ujevTs26O3qogE5AwRBtERibRdCqVEMLPpm8Ugsz8B6+WV/H+yUjdUZWMlMwDGWiWYWxbhSyuVFW7dq51M6qxQDi4gETU0REUZiFjvruNevl9exebNzL+Y1a/x1jhsXketEAhafxPyTOHXqVDDG8NJLLxnm7dGjB3JyclTpotgzS1xHC/8MrO7du+Paa6/F//3f/+Gf//wnnn/+ebRr1w6jRo0y3b+CggKI4tfs2bNNlxMxI2CZPSe7kDNAEERLRGhswsg3trsuRtmxeSX73R4+16BvFr/EcgwsMfKDnbJ2Y2BlZNiLgWWkzVip77m0KO/spxSwKiq0T0CaRzxh2oWQcBplDCwSPq3vSPHcc/Jx27rVuRezGHP6oYcicp1IwOKTmBawxDhVM2bMMJXfyhLC3//+98jIyFDFulqyZAkYY9iktyZfweOPP46EhAQwxjBlyhRTZaQ4tYQwHMgZIAiipSI0NqGwrBK/nLbOdVHKkoBVuh9CYxMqqmqwbm81KqpqWsyMLPpm8YsTzoCd3fycsMJC+23b7bc04oST2owgAIMHm6tvRr7gj2DPmFrxEn8PG+acY68UsD78UN7xggK/+ibN4/H400+fBrKyQp+Qk30l4heje60l30OC5J1g1jIzg+NWURFMT0oK78Wcnu5/mbVuHZHrRAIWn8SsgCWKV/n5+abLjB07VjPg+fLly6EM4t6zZ08MHDhQVcfevXvBGMPL4lxyHZqbmzFu3DgkJiZiyZIlePXVV5GQkIDHH3/cdH8BYwHLyjnZhZwBgiBaOnX1Dbjt5a2uC1Nm7RdT16KPt0SW1tdbivlllXEvZNE3i1+ccAYEAcjNjb6AlZZmPq9S5xH7bdXnO3lSft5O6EiCAAwdaq79QH2C4FfGPB61k+j1OuvMb9wob+Pjj9Ud1xuATp1Cn1BWln86HEGEwsy91tKF0Lo6oFs36y/SYcPkM7DatPG/Q9q1U+e94AL7L2yHrhMJWHwSkwKWuCxvqrjzgEnWrl0LxhhWrFghS8/JyUGXLl3Q2NgYSBs0aBA6deqE2tpaWd5FixYZ3shNTU0YPXo0kpOTsXz58kD6m2++iaSkJDz88MOm42gZCVhWzsku5AwQBEEEZ2NdkbfBdYHKjokB6Ue+sT2uRSz6ZvGLU85AXl70BSwrptR5RPR0ID07dUp+3k7oSGZncg0ZolGfIPgDaBUV+f+NhAOvFLB27LDWcSOj5YOEEbQU1Zhwnkfpcr82bfz1LVgQuRdyGNeJBCw+YcZZ+GLOnDlgjCEnJwcffvihykQ2bdqEpKQkTJ8+XVY+OzsbHTp0wKJFi1BeXo6xY8eCMYZ3331Xlu/9999HQkIC+vfvj5UrV2Ljxo2YMWMG0tLS8N///d+or6/X7ePs2bORkpKCf/zjH6pjK1asQHJysmHMrrVr12LVqlWBJYt33nknVq1ahVWrVqFO8dcjs+dkF3IGCIIggtTVN+CK/NgUsUQrLKt0exgjBn2z+MWpGVgZGe6LVHp2xx3qEE1a5yDqQKWlfhM1IWm506f1x8COjmQlhphrcc7Ly+Ud2bnTueBnFMCdMII2AzBGHCO7z6B0ZtV55/nrXLRIO2+4L+QwrxMJWHwScwLWgAEDIN0VUGkiPp8PWjOXamtrMWHCBHg8HqSkpOCKK66QzZKSUl5ejhtvvBEejwetW7dGVlYWHn/8cdTUhN6a/OzZs6jQCjp5jq1bt4YUwACga9euuud46NAh2+dkB3IGCIIg5MTyDoXdJsX3LoX0zeIXJ5wBN3ciNGO//72/n9I0K0jL6QlY0Ro7o90MI4JSwNqxw/mL7sqJETFBTDwkLuPk85ia6q/z9dcj+2K2eZ1IwOITi59VoiVCzgBBEIQc6Q6F3aIkPDltFVWh/xgTq9A3i1+ccAaKitwXqULZHXf4+ylNs4K03A8/2B4mR8auqMjZ9k2hFLC2b3f+ortyYkRMEBMPics4+TympPjr/OtfI/titnmdSMDiE4ufVaIlQs4AQRCEGjEmVl9vqUwYuvzp9bhaEUCdR1u3t9rtIYwI9M3il5YwA+uPf/T3U5pmBWk5pwWsmJhcouzkxx/TDCwiesTEQ+IyTj6PrVr561y8OLIvZpqBFVdY/KwSLRFyBgiCIPQRGptQUVWDdXurUVFVA6GxCUJjE+aV7Ef3yWtcF6poBhbBCy0hBtbTT/v7KU2zgrTcjz/aHibdseM+vI/SOf7oI4qBRUSPmHhIXCbcGFgdOwZ/Jyf761yyRDtvuC9kioEVl5CARRhCzgBBEIQ96uobcOvLW1wXq5RGMbAIN3DKGXBqQ7pI2IwZ/j7yKGBZGTvXNlhTCljiBk20CyERLbh/SDggnOdxwoTgfycl+euL5Aws2oUw7iABizCEnAGCIAj7iEsN+xTws6xwXul+t4clYtA3i1+ccgYEAcjNja4wlZrq/9doUsBzz/n76ISAVVsb1jDpjt2wYdrnIv4eNszFiSWbNsk79fLL/s6Y6bg4NY/LEyNiBu4fEg4QBGDwYOsv0mHDgH37gr8TE/31acXAEq9BOBbmdSIBi09IwCIMIWeAIAgifITGJmyuPIlHln2CHi4vLXztn1U0A4uIOk46A4IATJsWXRErK0u9ciYlRf577lx//3gVsAD/2Hm9/pU10vY8Hn+6a365IACjRqkH3uPxz/ioqwvdcb3jGRkunxgRc3D7kHCCIACPPmr+5ZmZGRy3AwfkgiAALFqkLiMIxvV26AAMGgS0bas+lpYG5OWRgBWHkIBFGELOAEEQhLPU1Tfg1pfcXVp4ed56/OVvu1FX3+D2cDgKfbP4xWlnwI2lhPn5/lVuRUX+f6+/Xn58/nx/35wQsM6ccWSYdBEE+bm46pMLAjB0qPagK2e9GHVc6fieOOHGGRHxAFcPCSeEelb1LDc3OHYHD6pfkK+9pi4DGNdbXGz+vWEDErD4hAQswhByBgiCIJxHDPTezeXlhD0mr8ULJfvjZkYWfbP4xekZWHbjCNs1rXjAAwbI87zyij89FgQsrnA67pC0TCSCiRFES8XuXw7EZ/fwYfULcuFCewLWffc5+95QQAIWn5CARRhCzgBBEERkqKiqcT0elmgj39geFyIWfbP4xUlnwMmd3K2adEd2pYD12mv+dCcErLq6sIcpNojEzm8tciAJIsLY3RFU+ux+8436BblggT0BKz09ojtGkoDFJyRgEYaQM0AQBBEZ1u2tdl24klphWaXbQxI2sfzNqq2txaOPPorOnTsjNTUVvXv3xvLly02VLS8vxw033IBOnTqhbdu2uPzyyzF//nw0NjbK8k2ePBlXXnklOnTogNTUVFx88cUYO3YsDh8+LMv3zTff4LbbbsPFF1+MNm3aoF27drjyyivx0ksvoaHB3rJTJ52BoiL3BKyiomA/lEsIFy/2p5OAZQGraqRUQdRDmr++PtJnQBAtg3D/cuDzAd9+q35BvvKKPQHL6feGAhKw+IQELMKQWHYGCIIgeGZL5UnXRSup9fWWhpyFJTQ2oaKqBuv2VqOiqobLGVux/M3Kzs5Geno6Fi5ciPLycowZMwaMMSxdujRkudLSUiQmJmLgwIF47733UFpaikceeQSMMUyYMEGW9+GHH8Zzzz2HDz74AD6fD6+88go6d+6MzMxM1NTUBPJ9+eWXuO+++7BkyRKUlZVh7dq1GD9+PBhjGD16tK3zi8cZWEoB6623/OlOCFhnz4Y9TLGBVTVSqiDqIc2vEHEJgrBJuH85KCoCqqvVL8iXXoq8gGXmvaGABCw+IQGLMCSWnQGCIAheERqbcN/ij1wXrZS2ufKkZl/nl1Wij7dEJXjNL6vkSsiK1W/WmjVrwBjDsmXLZOnZ2dno0qWLaiaVlHvuuQepqak4owiadOONN6Jdu3aGba9duxaMMSwWpw+F4K677kJycjJ++uknw7xK4jEG1m9/K88zZYp/5pQ0zcrKlRYpYEV6BlZzc6TPgCBaBk7MwDp+XC1UzZ8feQGLZmDFDSRgEYbEqjNAEATBM/PLKl0Xq7TsF1PW4K6F2/DYyl14oeQr+L46jvsWf4yuk1arAs6Lv3mKnxWr36wxY8YgLS1NtTxv2bJlYIxh27ZtumXvv/9+/OxnP0NTk/wa3HXXXcjIyDBse8eOHWCM4S1x+lAIxo0bh5SUFFvLCJ12BvLyoitgMebfhVBEEICuXdV5EhPlvz0ef9xjq6Gb/vMfR4aJfyIdA4sgCGdwIgbWyZPq5/PFF+0JWBQDq0VCb3XCkFh1BgiCIHhFaGxCH2+J6zsQOmm8xM+K1W9W//79cfXVV6vSxfN5TYwOrsFHH32E1NRUjBs3DkePHsWpU6fw9ttvo1WrVpgzZ45mmYaGBpw9exa7du3Ctddei6ysLNTW1qryNTc3o6GhAd9//z1WrFiBtm3b4qmnnrJ1jk7PwMrJib6ANXSov20rO8lb2c29RQpYQGR3IfT5bDmvBEFoEO4uhDU1aqHqhRfsCVg33ODse0MBCVh8QgIWYUisOgMEQRC8wtPug05Yt0nG8bOiRax+s3r06IGbbrpJlV5dXQ3GGGbOnBmy/LZt29ClSxcwxsAYQ1JSEp5//nnNvMeOHQvkY4yhX79+OHr0qGbeWbNmBfIlJCRgypQpps7nxIkT2Ldvn8wKCwsdcwbs+lBOmNcbvg+nhzSvjVWasYsg+BW+cBVAQdC+OFamwREEoU+oZ9XMs/v992qhas4cewIWY0BqavjvDR1IwOITErAIQ2LVGSAIguAV3nYfdMoqqmqMTz7CxOo3q0ePHsjJyVGliwLWrFmzdMvu3LkTGRkZuPnmm1FcXIzy8nJMnToVKSkpKCgoUOVvaGjAjh07sHXrVrz++uvo0aMHsrKyUF1drcp77Ngx7NixAxs2bMCkSZOQkpKC8ePHG55PXl6eTCSTWrjOgN1VLE5YQoK/7YyM8FbR6NFiBSzAPzBjxmiLT16vOfFKb1qcA84sQRDnEATgiSeMX3paz+7p02qhavZsdVlBsP6CtfPeCAEJWHxCAhZhSKw6AwRBELwSbzOwRFu3Vy2ARJtY/WaFs4SwX79+uPzyy1WB3p9++mkkJibi4MGDIds+cuQIkpOTVTsWavHss8+CMYZdu3aFzBfJGVhu7kDohIWKJSzNV18f1jDFJlu3Bgega1dry/+cXoZIEIQ+x47pv+CKivSf3dpatYD13HPqesKZZtuzpyNCNQlYfEICFmFIrDoDBEEQvBKPMbBoBlZ4jB07VjOI+/Lly2EUxD01NRX333+/Kr24uBiMMaxevdqw/YsuukhzBpiS8vJyMMawYsUKw7xKnHIGwt3J3W0LtZs7CVgSAat3b/PlIhEIniAIfZS7CUoFqVAot2kFgFmz1PWEs82sxh+D7EACFp+QgEUYEqvOAEEQBM/wuguhHaMYWOGzdu1aTWEoJycHXbp0Uc2uknLxxRfjsssuU+WZPHkyGGPYvXt3yLYPHDiAxMREU0sDp02bBsYYdu7caZhXiVPOQEuZgdUiNZZt2+wJWFZvilAXgSAIY06csCdg/ec/6vwzZzr7kr3mGkdOkQQsPiEBizAkVp0BgiAInhEamzDyje0BAUgpCLktSlk12oUwfLKzs9GhQwcsWrQI5eXlGDt2LBhjePfddwN5Ro0ahaSkJBw+fDiQJi7Ny83NxXvvvYeSkhJMmjQJycnJuOGGGwL59uzZg8GDB2PBggVYv349SkpKMHfuXFx44YXo1KmTrM6nn34aDz74IJYuXYpNmzbhvffew0MPPYSkpCTceeedts7PKWegpcTAavEC1pVXmi9ndVpeqGlwBEEYY1fAqq9X53/mGWdf1DQDK64hAYswJJadAYIgCJ4RGptQWFaJvt5SmRjU11uKeSX78cfFH7kuTJmx217eirr6BuMTjgKx/M2qra3FhAkT4PF4kJKSgiuuuALLly+X5RkxYgQYYzh06JAsvaioCNdddx06duyItm3bolevXvB6vThz5kwgz/Hjx3Hvvffi0ksvRZs2bZCSkoJLLrkEDz30EL755htZfR988AFuuOEGZGZmIjk5GWlpabjmmmtQWFioWuZoFiedgby86ItXokVrF0KbwxzbVFTYE7BoBhZBRJeTJ+0JWA0N6vxeLwlYhGlIwCIMiWVngCAIIhYQGptQUVWDdXurUVFVE1iKJwpcfQpKXBepjKyvtxTzyypdX0ZI3yx+cXIGVk5OdEUr5SZ24e4krwcJWBIB66qrzJejGFgEEV2++86egNXUpM4/fbq6HoqBRehAAhZhCDkDBEEQ7iI0NmFz5Un8T+Fm14UqPROXPY58Y7urIhZ9s/jFKWcgnM2pzFpSkvz3BReod2QXBODCC9VlExPlv63s5i4tFyLsWfwiFbB+9StrZWkXQoKIHnYFrOZmdX6tKbXhvOgpBlZcQwIWYQg5AwRBEHwgNDa5LlSZscJzM7G0ZpVFGvpm8YsTzkC04l8lJADt2wd/f/SRdn/69ZOXW7nSv8mW0U7yerR4AevDD+0LWNJpccobxMo0OIIgjKmp0X55Gr30BEGeXxCAKVPU9Sh3Kwz1smYMSEkJpnXpApSWhv2sk4DFJyRgEYaQM0AQBMEPbotTZuyX09ahj1e+7LFPQQn+8rfdKN5zNKKCFn2z+MUJZyCaOxC2axf87127tPujFLCOH7d9agDkdTW5v6ln9JEKWH36WC8vCP4ZVh6PfDCtTIMjCMKYf/9b/+Xp8fhnUCmnrBYUqJcGpqUBrVqp62jb1tyLOjMTGDhQ+1hamn92l83nngQsPiEBizCEnAGCIAj3ERqbML+s0nVxyimLVMws+mbxixPOgNXN5pwSsHbv1u7PNdfIy3z/ve1TA0AClkzA6tvXfj2CYH8aHEEQxhw/bjwrSho0cOhQ+bFwbd48/yyrm24yzjt0qK13AAlYfEICFmEIOQMEQRDuIjQ24f4lH7suOjlpkYqZRd8sfom1GVgXXBD87z17tPujFLAkmz7aQlpXc3N4dcUkH33kjIBFEERkeeopcy/ScLZtDWVffmmtXhux70jA4hMSsAhDyBkgCIJwl3iaeaVlhWWVjo0VfbP4JZZiYCUmAllZwd9792r35+qr5eXCnehDApZEwHJoJzGCIBxGEIBOnYxfpAkJ/hd2RobzL+1PP/XXazZ/ZqblFzQJWHxCAhZhCDkDBEEQ7iE0NqGPtyQwYynerNsk/3JCp2Zh0TeLX2JpF8IhQ4BevYK/Fy/W9n369JGXKykJT8SS1tUiV75JBSyHdhIjCMJhojkVVs8mT7ZexuezdJokYPEJCViEIeQMEARBuEdFVY3rIlM0rKKqxpHxom8WvzjlDITabM4JS031+0bJyfJ0aVxiQfDHBk5MVJe3EzdYjG+srEsrFnJcI42BRQIWQfBJNIMR6tnYsdbLFBVZOk0SsPiEBCzCEHIGCIIg3GPd3mrXxaVomrShMwAAIABJREFU2Lq91Y6MF32z+MVJZ0DcbE65oVUkTRTLcnOdjRssjW+s16YYCznukQpY/fq53RuCILTgYQbWtGnWy9AMrLiABCzCEHIGCIIg3INmYFmDvln8EglnIC/PfT8qlJmJG2x2SaSNGMSxR0UFCVgEwTs8xMD68kuKgdVCIQGLMIScAYIgCPegGFjWoG8WvzjtDEQroHs4ZuQzmT2HhAT/csK4n4W1bVvwpPv3d7s3BEHoMWWKeeU9EoELjxyhXQhbKCRgEYaQM0AQBOEu8b4L4cS/7SYBqwXgtDPAwyoWMxZq1YrVc7C4Aib2kApYv/61270hCEILQQCeeiq04s5YcO2zE4ELleWOHvXXm5trXNbsem4FJGDxCQlYhCHkDBAEQbiL0NiEkW9sD8xYUs5g6jppNUYs+Ri+r47jsrz1rgtSdqyvtxTzyyrDFrLom8UvTjsDPMQRNmOh4gZbPQeLMYhjj61bScAiCJ4JFbRPtNRUID9fLhqJgQs9HnnetDS/KetQpnk88l0zjh0L1pufr1+Hsh8WIAGLT0jAIgwhZ4AgCMJ9hMYmFJZVoq+3VCX8FJ4TfmI5XpYoxI18Y3tYIhZ9s/iFZmCFfw5xPwNry5bgyf7mN273hiAIJeEG7RME/4usqMj/rzhDS/ky1MqXlBQ8fvKkut7SUmD6dL+Vloa95poELD4hAYswhJwBgiAIfhCFqnV7q1FRVSMTe4r3HHVdiHLCCssqbY8PfbP4hWJg2T+HFhMDSypgXXut270hCEJKpF9Y0jq0kM7AqnFm45dQkIDFJyRgEYaQM0AQBME/QmMTbn15i+vikxMzscIJ6k7fLH6JhDMQidjAThrtQmiRzZtJwCIIXon0lFEjAUsqnH3/fbhnYwgJWHxCAhZhCDkDBEEQ/BNvgd4rquz9dZW+WfwSCWfAbAxfO6acZCD+zs0FcnKMy5uNGxwqvrEyFnLcs2lT8OR/+1u3e0MQhJRIB+0zErCkx0+fDv98DCABi09IwCIMIWeAIAiCb4TGJvTxlqgCvMeyrdtbbWss6JvFL5FyBvLynBWuHnzQH/dXGWvY4/HPghJDtjgZN1gvvrG0zRaBVMC6/nq3e0MQhBS3Z2BJj//4Y7hnYwgJWHxCAhZhCDkDBEEQfBPLwdtpBlbLIVIzsMKJg9WmDXDffUD79sG0zz8P1q2MIazVvpNxg820GddIHWQSsAiCL9yOgSU9fuZM+OdjAAlYfEICFmEIOQMEQRB8s25vteuCk1NGMbDil0g4A07sROjzARdfHPz9xReOdY+wivSCDhjgdm8IglASyaB9VgSss2fDOw8TkIDFJyRgEYaQM0AQBME38TYDi3YhjE8i4QxYDcmiZUVFcgHryy8d6x5hlfJyErAIgmekQfu0Zl4xZj9on/IvC8o6pMc3bIj4FFUSsPiEBCzCEHIGCIIg+CaeYmANfL7c9uwrgL5ZPBMrM7C++sqx7hFW2bgxeCEGDnS7NwRBaCEGAVS+TO0G7RME7ZldHo8/va4u9PEICVkkYPEJCViEIeQMEARB8E+87ELYffIa1NU32B4H+mbxC28xsKRhWqQC1v79jnWPsIpUwBo0yO3eEAShhyAYz5gyW8/QoaFndHXqFJkZXwaQgMUnJGARhpAzQBAEwT9CYxNGvrEdXSetjvmZWH/5227b40DfLH7hcRdCMUyLVMCqtL+ClQiXsjISsAgiFlAKWHYxG1PL7MvcQUjA4hMSsAhDyBkgCIKIDYTGJhSWVaKvt1QmCPWYvNZQ2OrjLcG8kv3o4y1xXcC6PG89BXGPQyI1Aysnx56/I/2jfbduwfQDBxzrHmGV0tLghRg82O3eEAShR0ND+AJWuNvIak2ndRASsPiEBCzCEHIGCIIgYguhsQkVVTVYt7caFVU1qKtv0BS2rsjbgEeWfoItlScDghEvSxErqmpsnTt9s/glEs6A3T/eP/GE3NeRClhVVY51j7CKVMAaMsTt3hAEoUdjY/gClhNBDKXm8zl5hiRgcQoJWIQh5AwQBEHEB0phS2uWk3Qpopu2bm+1rXOkbxa/OO0MWPnjfYcOwM9+Fvx9/Li8LqmAdfCgI90j7FBSQgIWQcQCTghYTmwjK7WiIkdPkQQsPiEBizCEnAGCIIiWhdDYhHkl+9HtSfcErM2VJ231nb5Z/OK0M2D1j/ft2wf/+8QJeV1SAevrrx3pHmGHDRuCF+KGG9zuDUEQejQ10QwswhVIwCIMIWeAIAiiZfJCyX7XBKx5pfa2gqNvFr847QxY/eO9dAYWCVicIhWwsrPd7g1BEHo0N4cvYFEMLMIGJGARhpAzQBAE0TJxczlhX2+prUDu9M3iF7dnYLVrRwIW96xfTwIWQcQC9fXyF6xd8Yh2ISQsQgJWC+HkyZMYOnQo2rRpgx49eqCkpMR0WXIGCIIgWi519Q345bR1rohYdgK50zeLX8w6Aw0NDTh58iS+/vprHDx4UNcOHDiIefMOYtYsY5s37yDmzg3+3rzZX16sq7AweOyzz/TbJLNmX3/9NY4ePYra2lo0Nzcb3yTr1gUd0htvdOjOIwjCMQTBLzplZsoFJI/Hn25VyBIE/5aw4kwq5cwqxoCMjNDHpVvKOggJWHxCAlYL4c4778SoUaNQV1eH999/H+np6aipMecYkDNAEATRcqmoqnFtGaGdQO70zeIXM85Ac3MzDh06hC+++AL79+83FEj27TuIHTuMbfduddonn/jLV1X5/1tMr6x0X/iJFztw4AC++OILfPHFFzh+/LixiCUVsG66yeE7kCCIsBAEYOhQ58UkQfDPoPJ41KKY1wvU1YU+HgHxCiABi1dIwGoB1NbWolWrVjhy5EggbcCAAVi8eLGp8uQMEARBtFzW7a12TcCiGVjxhRln4IcffsAXX3yBo0ePmpqx09QEVFYCO3bo26efhj5eWQns2RP8/dNPTp41UV9fj8OHD+OLL75AbW1t6Mxr15KARRC8Yna5n93lfILgXxteVOT/VylMGR13GBKw+CTmBKyNGzdi5MiR6NmzJ9q0aYMuXbrglltuwc6dO02Vr62txaOPPorOnTsjNTUVvXv3xvLly3Xzb9myBbm5uUhPT8d5552H7t27o6CgwKnT0eTHH3/ExIkTkZ2djY4dO4Ixhry8PN38Rue0a9cudOjQQVZm/PjxeOyxx0z1h5wBgiCIlosbM7C6TaIYWPGIGWfgyJEj+OKLL9DQ0GC63qYm4OhRYPduuTC1ezfw1VehxSvRdu0iASuS1NfXB4TJkEgFrJyc6HSOIAhjzAZcj1BAdTcgAYtPYk7AGj58OAYNGoQFCxZg06ZNWLVqFfr374/k5GRs3LjRsHx2djbS09OxcOFClJeXY8yYMWCMYenSpaq8S5cuRWJiIu6++2588MEHKC8vx+uvv47p06dH4tQCHDp0CO3bt8f1118f6F8oAcvonDZv3oyuXbvKykyePBkPPPDA/2/vzqOjqu//j3+yJyTIHmKUpQeSoFRjvxaNpRbQRoK41KOoHNvSKpG2FDgVtwA/g0QIi7aatopyCi6BYCMaFyIQIPilgpVFLYIsgaACGqRGCCJMltfvj3xnzGQmsyWZ3IHn45zP4XBzZ+be90Du+77mzuf6tD2cDADAuctWV6/L89aof5BDrIK1ewPaXo5Z1uXLycCBAwe0d29g7319vXTihPT1141/1tW5hlq+DAKs9rFv3z4d8DZD/sqVBFiAFfl714zy8o7e4lYjwLKmkAuwqprfNkaNVyD17t1b1157rcfHrly5UsYYLVu2zGl5ZmamkpOTVVdX51h26NAhxcfH6/e//73f23j8+HGVlpa2+PM333xTJ0+ebPHnDQ0Njsvmv/rqK48Bli/7xBVYAIDWeGrt3qCGV+MW/zugq68kjllW5svJwP79+1VRUdEmr3fihP/hFQFW+6moqND+/fs9r/TWW9+fAI8aFZwNA+DdihX+BVgrVnT0FrcaAZY1hVyA1ZIRI0YoNTXV4zrjx49XQkKCy2Xpy5YtkzFG7777rmPZzJkzZYzRwYMH/d6WJ554QuHh4Xr++eddfrZw4UKFhYXp6aef9um5vAVYvuyTuzmwhg8fzhxYAACf2Orq9dsl7zu+3tfeAdbjq3YHvK0cs6zL1wDLa8jho6+/JsCyEp/e26YB1vXXB2fDAHjHFViwiLMiwPrmm2/UpUsX3XLLLR7Xy8jI0JAhQ1yW25vdZ5991rHsmmuuUffu3bVq1Sqlp6crIiJCvXr10oQJE3T8+HGv23TfffcpLCxMCxcudCx78sknZYzRtGnTfN43bwGWr/t022236Z577tGpU6f05ptvqmvXrvrqq688vnZubq6MMY7ByQAAnLtsdfUqWLtXP84rcwqbLvp/b7d5gJUyrVTfnvF9DqSmCLCsK9gBFldgWYtP7+2bbxJgAVbEHFiwiLMiwLrrrrsUGRnpdSL3lJQUjXRzR5MjR47IGKM5c+Y4lqWlpSk2NladO3fWnDlzVF5ervnz5ysuLk5Dhw716c4406ZNkzFGTz75pObOnStjjN8TwHsLsHzdp6NHj2rUqFGKi4vTwIEDtXr1ap+3gZMBAICdra5emyqO6e0dR7Sp4pi+PVPruDqrLcf9//wwoO3jmGVdwQ6w6uu/nwNr62abdi8s1755K7R7Ybm2brYFPcBasmSJ0weDTcfUqVMd6/Xr18/pZ/Hx8briiiv0wgsvtM+GNfPuu+8qNzdX1dXVbfq8Pr23b7zx/Ynw6NFt+voAWqm970JoMQRY1hTyAdaMGTNkjNFf//pXr+umpKQoy82EkPawJz8/32nd5suk76+iKisr82n7Zs2a5WhAFixY4NNjmvIlwPJ1nwLFyQAAwBNbXb3+smaPBuSsbLMA65LcVdyF8CwT7ABLkg4ftOnQhFmyde/tdIJl65GkQxNmOYKspnch/O9/G8OvtmYPsJYsWaLNmzc7jU8//dSxXr9+/TR06FDHz4qLi3XllVfKGOPzFBStsWDBAhljVFlZ2abP69N723SenYyMs+IqDuCsYbM1Bsv2K62aX3llD57Pkv+3BFjWFNIBln2eqtmzZ/u0vj9fIczIyJAxRtu3b3dad8+ePTLGaN68eT695tSpUxUWFiZjjKZPn+7TY5pqq68QtgYnAwAAb9pjovdNFcf83g6OWdYV9ADLZlPDqOslY9TQ7GTL/vfqn47Wju2uV2N9+KF0+HDbBln2AGvLli0e1+vXr59GN7v6qLq6Wuedd54GDhzo9+t+++23fq3fIQGWzdZ4dUfXrs4nxUlJjcvPkhNiIOTZbI1XWCUluf5fzcs7q/6vEmBZU8gGWPbwaubMmT4/Jjs72+2E50VFRS6TuN97771uA6zdu3f7dDVVQ0ODJk6cqPDwcC1evFjPPPOMwsLCnC4R94W3AMuffQoUJwMAAE9sdfW6PG9NmwdYb3102O9t4ZhlXUEPsHz8usuh3+W1+HXCvXvbLsRqTYAlSUOGDFFUVJTHx44bN07x8fH6z3/+o8zMTCUkJCgjI0OStGbNGt1000264IILFBMTowEDBujee+91mhO1+fyn9lHeZELm5cuXKyMjQ506dVJ8fLyuu+46l37ZnRbfW5utcb6rlubTOcuu6gDOCjZb40TtK1Y0/nkW/v8kwLKmkAyw7F/LmzFjhl+PKy0tlTFGy5cvd1qelZWl5ORk1dXVOZatXr3a7dVdf/7zn2WM0caNG1t8nfr6et1zzz2KjIxUUVGRY/nzzz+viIgI/eEPf/BpDi3Je4Dlzz4FipMBAIAnmyqOtcvdCAOZB4tjlnUFNcDyccLhhrAwnemR5HFOrMP+56hu2QOs9957T7W1tU6jKXcBls1mU2JiopKTkz2+xrhx4xQVFaX+/fsrPz9f69atc8x7+swzzyg/P19vvPGG3nnnHb3wwgtKT09XWlqabP938vn5559r0qRJMsbo1VdfdXyN0X4Do9mzZyssLEx333233nrrLb366qu66qqrFB8fr507d3rcthbf23NsXh0AoYEAy5pCLsB6/PHHZYxRVlaWy/wBmzdvdqy3YcMGRURE6NFHH3V6fGZmprp166bnnntO69evV3Z2towxKiwsdHmtG2+8UTExMcrLy1NZWZny8/MVGxurG264weM2LliwQNHR0XrttddcfrZ8+XJFRkZ6nbOrtLRUxcXFWrx4sYwxGjNmjIqLi1VcXOxyKbg/+xQITgYAAJ68veNIuwRYl+et8XseLI5Z1tWqAGvKFGnYMN9Herpft3z/NiVdJ/5nmNtRc/kwNTR//ilT/N5/T5O4Nw2x+vXrp+uvv94RblVWVmrcuHEyxuiBBx7w+Br29RYvXuxxvYaGBtXW1urTTz+VMUavv/6642ctfYXws88+U2RkpCZNmuS0vKamRklJSbr99ts9vqbb9/YcvLMZgNBAgGVNIRdgDRs2rMWDvzHf7055ebnbK5dqamo0efJkJSUlKTo6WpdeeqnTVVJNnTp1Sg899JD69OmjyMhI9e3bVzk5OTrt5fY0p06d0qZNm1r8+b/+9S+dOXPG43M0vwNN09G8ofBnnwLByQAAwJP2ugIrkHmwOGZZV6sCrGHD/Aqk2n0MG+b3/tsDrBdffFFbtmxxGk256wHj4uI0adIkr/2jPcCyXzHVVFVVlSZMmKALL7xQ4eHhTs8/d+5cx3otBViLFi2S/SuQza8gu+OOO5SYmOhx29y+t+Xl/tW9yVcZAaA9tSbAqqmp0ZQpU3T++ecrJiZG6enpAZ2fT58+XcYYDR482OVnp0+f1vz58zV48GB16tRJiYmJysrKcplCqLKyssVcoS0zg2AJuQALwcfJAADAE/scWP3bIcB6e8cRv7aFY5Z1heoVWCf+Z5hsQ4e12RVYvsyB9dOf/lRbtmzR1q1btWvXLq/Bld24cePUqVMnl+X19fVKT09Xr169VFBQoPLycr3//vt67733XD7wbSnAeuyxxzx+iBweHu5x29y+t03vOujLWLHCpzoAQGu1JsDKzMxU165dtXDhQq1fv17jx4+XMUZLly71+Tk++OADxcTEqHfv3m4DrF/96lcKDw/X9OnTtW7dOhUXF+vyyy9XZGSk/v3vfzvWswdYkyZNcvn22rFj/t8sp6MRYMErTgYAAN74ehfC0U/9L1dgnaNCdQ6sLVukEydav0mtncTdF/ZJ3Jv76KOPZIzR888/77R83759PgdYCxculDFGr7zyissVZO6uJGuOK7AAhJJAA6yVK1fKGKNly5Y5Lc/MzPR5jura2lpddtllmjx5soYNG+YSYJ0+fVoRERH65S9/6bT8yJEjMsZo8uTJjmX2AMvbTehCBQEWvOJkAADgja2uXr9d8r76PfSWy5VY9r//dsn7+vZMrU93LOz/0Fv6cV4Zc2CdRULxLoRbtkgfftg2dyLsyADrP//5j9uvi9x///0uAVZBQYGMMdq1a5fTupWVlYqMjNS8efMC2jbmwAIQSgINsMaPH6+EhASXG3QsW7ZMxhiXr/i5k5eXp759+6qmpsZtgGWz2RQVFaWJEyc6LT958qTCw8P14IMPOpYRYOGcw8kAAMAXtrp6Fazdqx/nlTmFUT/OK1PB2r2OMMrXq7UK1u71exs4ZllX0AMsm00aPfr7AKR5IGKMqn862uvVV219F8KOCLBsNpsGDBigfv36admyZVq1apUmTpyo1NRUlwDLPo/shAkTtGnTJm3ZskUn/u8StDlz5igyMlITJkzQa6+9pg0bNujll1/W1KlT9cgjj3jcNu5CCCCUBBpgZWRkaMiQIS7L7f3Js88+6/HxO3fuVExMjFauXClJbgMsSZoyZYoSEhL02muv6fjx46qsrNTYsWPVrVs37du3z7GePcDq0aOHoqKiFBcXp6FDhzrdvCOUEGDBK04GAAD+sNXVa1PFMb2944g2VRxzuYrK16u1/L36SuKYZWVBD7CkxhArL6/x6p2mYUhSkupn5WnvTs/h1d69bXP1ldSxAZYk7dq1S5mZmercubO6deumMWPG6LPPPnMJsCQpJydHycnJjsney5t8da+kpEQjRozQeeedp5iYGPXr10+33Xab1q5d63HbWnxvfQgaNXo0V18BCCr7MaugoEAff/yx06iqqmrxcSkpKRo5cqTLcvvX++bMmdPiY+vr63XllVdq7NixjmUtBVgNDQ165JFHnG7K0bdvX33wwQcur5udna1//vOf2rhxo5YuXaqMjAwZY7Ro0SJfSmEpBFjwipMBAEBb8/VqLX9xzLKuDgmw7Gy2xvmTVqxo/PP/wpD6+sYrrD780PVrg4cPt114BS/vrYegUXl5hFcAgs5+zHI3mof+TaWkpCgrK8tluT3Ays/Pb/GxCxYsUPfu3Z0CspYCrLy8PHXq1EmzZs1SeXm5Xn/9dWVmZqpnz57avn27x32z2Wz60Y9+pB49erh81dHqCLDgFScDAID24u1qLX9xzLKuDg2wvKivb5yo/euvG/8kuGp7Pr23LQSNABBsgV6BFehXCD/99FPFxcXpqaeeUnV1tWMMHTpUF110kaqrq3Xq1ClJjVfUhoWFucxrZbPZNHDgQA0fPtzr/s2dO9ftfIdWR4AFrzgZAACECo5Z1mXlAAvtj/cWQCgJdA6s7Oxst5O4FxUVeZzE3T7/oKcxZcoUp+fasGGDy/Pceuut6tmzp9ftzM/PlzFGu3fv9mv/OhoBFrziZAAAECo4ZlkXAda5jfcWQCgJNMAqLS2VMUbLly93Wp6VlaXk5GTV1dW5fVx1dbXKy8tdRnp6uvr376/y8nLH5OzvvPOOjDGaO3eu03OcPn1aP/jBD3TZZZd53EabzabLLrtMPXv2bHF7rIoAC15xMgAACBUcs6yLAOvcxnsLIJQEGmBJUmZmprp166bnnntO69evV3Z2towxKiwsdKxz9913KyIiQgcPHvT4XO7mwKqvr9eQIUMUGxurRx55RGvXrtWKFSs0fPhwGWP00ksvOdb905/+pD/+8Y8qKipSeXm5XnzxRQ0ZMkTGGC1ZssTvfetoBFjwipMBAECo4JhlXb4GWBUVFUHcKgRLRUUFARaAkNGaAKumpkaTJ09WUlKSoqOjdemll6qoqMhpnXHjxskYo8rKSo/P1dIk7t98842mT5+uiy66SJ06dVJiYqKGDx+u0tJSp/X+8Y9/6IorrlD37t0VGRmpbt26aeTIkVq9erXf+2UFBFjwipMBAECo4JhlXb6cDBw4cEB79+4N4lYhWPbt26cDBw509GYAgE9aE2Ch/RBgwStOBgAAoYJjlnX5cjLw+eefa9euXSF3W294dubMGe3atUuHDx/u6E0BAJ8QYFkTARa84mQAABAqOGZZly8nA8ePH3cEHQ0NDUHcOrSXM2fO6ODBg9q1a5dqamo6enMAwCcEWNZEgAWvOBkAAIQKjlnW5cvJQENDgyPs2LNnj2PeJEbojYqKCu3bt0+7du3Srl279OWXXxJKAggZBFjWRIAFrzgZAACECo5Z1uXryUBtba2OHj2qAwcOdHgIw2jdOHDggA4fPqyamhrCKwAhhQDLmgiw4BUnAwCAUMExy7o4GQAAhAqOWdZEgAWvOBkAAIQKjlnWxckAACBUcMyyJgIseMXJAAAgVHDMsi5OBgAAoYJjljURYMErTgYAAKGCY5Z1cTIAAAgVHLOsiQALXnEyAAAIFRyzrIuTAQBAqOCYZU0EWPCKkwEAQKjgmGVdnAwAAEIFxyxrIsCCV9u2bXP85/34448ZDAaDwbDssDec27Zt6+jDJ5opLCyUMUY5OTkqKSlhMBgMBsOyIycnR8YYFRYWdvThE00QYMGrkpLGkwEGg8FgMEJllJTwianV2E8GGAwGg8EIlZGTk9PRh080QYAFr6qrq1VSUqJt27a16afjJSVc0UXdqJtVB3WjbqFat23btqmkpETV1dUdffhEM5WVlcrJyVFhYWGbfDpeUFAgY4wKCgo6/JP6UBrUjbpRN+sP6tbxdSssLFROTo4qKys7+vCJJgiwEHQff8z8JIGgboGhboGhboGhboGhbggE/24CQ90CQ90CQ90CQ90CQ93OfgRYCDp+sQSGugWGugWGugWGugWGuiEQ/LsJDHULDHULDHULDHULDHU7+xFgIej4xRIY6hYY6hYY6hYY6hYY6oZA8O8mMNQtMNQtMNQtMNQtMNTt7EeAhaDjF0tgqFtgqFtgqFtgqFtgqBsCwb+bwFC3wFC3wFC3wFC3wFC3sx8BFoKuqqpKubm5qqqq6uhNCSnULTDULTDULTDULTDUDYHg301gqFtgqFtgqFtgqFtgqNvZjwALAAAAAAAAlkaABQAAAAAAAEsjwAIAAAAAAIClEWABAAAAAADA0giwAAAAAAAAYGkEWAiampoaTZkyReeff75iYmKUnp6uoqKijt6soFu3bp1++9vfKi0tTZ06dVJycrJuuukmbd261WXdbdu26dprr1V8fLy6dOmiW265Rfv373f7vAUFBUpLS1N0dLT69++vmTNnymaztffudKhFixbJGKP4+HiXn1E7Zxs3btSoUaPUtWtXxcbGauDAgZo1a5bTOtTM2fbt23XzzTfr/PPPV1xcnNLS0vToo4/q22+/dVrvXK7biRMn9MADDygzM1M9e/aUMUa5ublu122POlVVVWncuHHq0aOH4uLilJGRobVr17blLsKC6Cca0U+0HfoJ39FP+I9+wjv6CfiKAAtBk5mZqa5du2rhwoVav369xo8fL2OMli5d2tGbFlS33XabRowYoaefflobNmxQcXGxMjIyFBkZqXXr1jnW++STT9S5c2ddffXVWrlypVasWKHBgwcrOTlZR48edXrOxx57TGFhYcrJyVF5ebnmz5+v6OhoZWdnB3v3gubQoUPq0qWLkpOTXRpOauds6dKlCg8P15133qk33nhD69ev16JFi/Too48Mkt2hAAAN+0lEQVQ61qFmznbu3KnY2Filp6fr5Zdf1rp165Sbm6uIiAjddNNNjvXO9bpVVlaqS5cu+tnPfub4ne6u4WyPOp0+fVo//OEPdeGFF6qwsFBr1qzRzTffrMjISG3YsKE9dxsdjH6iEf1E26Cf8B39hP/oJ3xDPwFfEWAhKFauXCljjJYtW+a0PDMzU8nJyaqrq+ugLQu+qqoql2U1NTXq3bu3rr32WseyMWPGqGfPnjp+/Lhj2cGDBxUVFaUHH3zQsezYsWOKjY3Vvffe6/Scs2fPVlhYmHbu3NkOe9HxbrjhBt14440aN26cS8NJ7b536NAhxcfH6/e//73H9aiZs+nTp8sYo4qKCqfl9957r4wx+vrrryVRt4aGBjU0NEiSvvrqqxYbzvao09///ncZY7Rp0ybHstraWl188cW64oor2moXYTH0E9+jn2gb9BO+oZ8IDP2Eb+gn4CsCLATF+PHjlZCQoNraWqfly5YtkzFG7777bgdtmXWMGDFCqampkhp/acbFxWnChAku61133XVKSUlx/L2wsFDGGG3evNlpvSNHjsgYo9mzZ7fvhneAl156SZ07d9bnn3/u0nBSO2czZ86UMUYHDx5scR1q5spet6+++spp+YMPPqjw8HCdPHmSujXTUsPZXnX6+c9/rrS0NJfnnDNnjowxOnToUCv3CFZEP+Ed/YTv6Cd8Rz8RGPoJ/9FPwBMCLARFRkaGhgwZ4rL8448/ljFGzz77bAdslXV88803ju9wS9Lu3btljNHf//53l3Xvv/9+hYWF6bvvvpMkPfzwwzLG6OTJky7r9uzZU2PHjm3fjQ+yqqoq9ejRw1Gb5g0ntXN2zTXXqHv37lq1apXS09MVERGhXr16acKECY5Pr6iZq8rKSnXt2lW33Xab9u/frxMnTujNN99Uly5dNGnSJEnUrbmWGs72qlNSUpLGjBnjst5bb70lY4xWr17dyj2CFdFPeEY/4Tv6Cf/QTwSGfsJ/9BPwhAALQZGSkqKRI0e6LLen4HPmzOmArbKOu+66S5GRkY6JV999910ZY9xOSmv/NODIkSOSpOzsbMXExLh93tTUVF133XXtt+Ed4NZbb9VPfvITx2XGzRtOaucsLS1NsbGx6ty5s+bMmeOYAyAuLk5Dhw5VQ0MDNWvBJ598okGDBskY4xiTJ092/Nujbs5aajjbq05RUVFuP4XdtGmT26+Y4exAP+EZ/YTv6Cf8Qz8ROPoJ/9BPwBMCLARFSkqKsrKyXJbbG878/PwO2CprmDFjhowx+utf/+pYZv8FvXz5cpf17b+gv/jiC0mNv6BjY2PdPndqaqrbRj9UvfLKK4qOjnb63npLDSe1a5SSkuL2/9iTTz4pY4zKysqomRuVlZUaOHCghg4dqldeeUXvvPOO5s+fr/POO0933323JP6tNeet4WzrOkVFRel3v/udy3r2hvNcvCvduYB+omX0E76jn/Af/URg6Cf8Rz8BTwiwEBRc8u+e/Xvxzb+vHsglss1vxSudPZcSS99PTDt16lRVV1c7xtixYxUfH6/q6mqdPHmS2jWTkZEhY4y2b9/utHzPnj0yxmjevHnUzI077rhDiYmJLpeeL168WMYYbdiwgbo105aX/PtSJy75PzfRT7hHP+E7+onA0E8Ehn7Cf/QT8IQAC0GRnZ3tdtLVoqIiGXNuTrpqbzZnzpzp8jP7JIXuPg0YOXKk0ySFS5culTFG7733ntN6X3zxhdtmNlRVVlY6XXrtbtx8883Urhn7XW6aN5z2JmDBggXUzI20tDQNHz7cZfmOHTtkjNHf/vY36taMt0lX27pOmZmZGjRokMtz5ufnyxijw4cPt3KPYEX0E67oJ/xDPxEY+onA0E/4j34CnhBgIShKS0vdXvKZlZV1zt32WpJmzZolY4xmzJjR4jq33367EhMTdeLECceyTz/9VNHR0XrooYccy/773/8qNjbW5Zd5fn5+SN9Ot7nvvvtO5eXlLmPkyJGKjY1VeXm5duzYIYnaNbV69Wq3Dc2f//xnGWO0ceNGSdSsuREjRqhXr16qqalxWv7cc8/JGKOSkhJJ1K0pT7e9bo86Pf300y7NaW1trQYPHqwrr7yyDfcMVkI/4Yx+wn/0E4GhnwgM/YT/6CfgCQEWgiYzM1PdunXTc889p/Xr1ys7O1vGGBUWFnb0pgXV448/LmOMsrKytHnzZpdh98knnyghIUE/+9nPVFpaqldffVU//OEPlZycrKNHjzo952OPPaawsDBNmzZNGzZs0IIFCxQTE6Ps7Oxg717QNZ+zQqJ2zd14442KiYlRXl6eysrKlJ+fr9jYWN1www2OdaiZs9dff11hYWHKyMjQyy+/rHXr1mn27NlKSEjQxRdfrDNnzkiiblJjoFBcXOz4OsSYMWNUXFys4uJix6X77VGn06dPa/DgwerTp4+WLl2qsrIy3XLLLYqMjNSGDRuCtv8IPvqJRvQTbYt+wjv6Cf/RT/iOfgK+IMBC0NTU1Gjy5MlKSkpSdHS0Lr300nNyUrxhw4Z5vGy9qa1bt+raa69Vp06ddN555+kXv/iFKioq3D7vU089pdTUVEVHR6tv377Kzc2VzWYLxi51KHcNp0Ttmjp16pQeeugh9enTR5GRkerbt69ycnJ0+vRpp/WombP169fruuuuU1JSkuLi4pSamqqpU6fq2LFjTuud63Xr169fi7/PKisrHeu1R52+/PJL/frXv1b37t0VGxurjIwMlZWVtdeuwiLoJxrRT7Qt+gnv6CcCQz/hG/oJ+IIACwAAAAAAAJZGgAUAAAAAAABLI8ACAAAAAACApRFgAQAAAAAAwNIIsAAAAAAAAGBpBFgAAAAAAACwNAIsAAAAAAAAWBoBFgAAAAAAACyNAAsAAAAAAACWRoAFAE0sWbJExpgWR3l5eYdtW2VlpYwxWrBgQYdtAwAA8I5+AgDaHgEWADRhbziXLFmizZs3u4zjx4932LbRcAIAEBroJwCg7RFgAUAT9oZzy5YtHb0pLmg4AQAIDfQTAND2CLAAoAlfG05jjCZOnKiFCxcqJSVF0dHRuuiii1RUVOSy7o4dO3TTTTepa9euiomJUXp6up5//nmX9aqrq3XffffpBz/4gaKjo9WrVy+NGjVKn3zyiSTnhvOJJ55Q//79FR8fr4yMDG3evNnpufbv36877rhD559/vqKjo5WYmKhrrrlGH3zwQSuqAwAAfEE/AQBtjwALAJqwN5zvvfeeamtrnUZdXZ1jPWOM+vTpo4svvlhFRUV64403lJWVJWOMiouLHevt3r1bnTt31oABA/Tiiy9q5cqVGjt2rIwxmjdvnmO9EydOaPDgwYqPj9esWbO0evVqrVixQlOmTNH69eslfd9w9u/fX1lZWSopKVFJSYkuueQSdevWTd98843j+dLS0jRw4EC99NJLeuedd7RixQpNnTq1Q+fcAADgXEE/AQBtjwALAJrwNOlqRESEYz1jjOLi4vTll186ltXV1WnQoEEaOHCgY9mdd96pmJgYffbZZ06vM2rUKHXq1MnRJM6aNUvGGJWVlbW4bfaG85JLLnFqft9//30ZYxyf1h47dkzGGD355JOtKwYAAAgI/QQAtD0CLABowt5wvvjii9qyZYvT2Lp1q2M9Y4xuuOEGl8fn5ubKGKPPP/9ckpSYmKjrr7/eZb2XX35Zxhi9/fbbkqSrrrpKqampHrfN3nA+/PDDTstPnz4tY4zmzp0rSWpoaNCAAQN0wQUX6IknntD27dtVX1/vXyEAAEDA6CcAoO0RYAFAE/7MWTF+/HiX5c8884yMMfrwww8lSREREbrnnntc1tu4caOMMSosLJQkDRw4UNdcc43H1/Q06aoxRrm5uY6/Hzx4UHfffbd69+4tY4y6d++uSZMm6cSJEx5fAwAAtB79BAC0PQIsAGjCn4azLT4xXbVqlST/PjH1peFsas+ePcrLy1NERIQmTJjg8TUAAEDr0U8AQNsjwAKAJvxpOFuas2LAgAGOZWPHjlVsbKwOHz7s9PjRo0e7nbNi3bp1Lb5moA2n3WWXXaYhQ4Z4XAcAALQe/QQAtD0CLABowt5wLlmyRJs3b3YZR48eleT5rkHLly93PJ/9rkGpqakqLCxUaWmp7rrrLhljNH/+fMd69rsGJSQk6LHHHtOaNWv0+uuv67777nO5a5C3hvOjjz7S1VdfrYKCAr399ttat26dpk+frvDwcE2bNq0dqwcAACT6CQBoDwRYANCEp7sGGWO0aNEiSY0N3sSJE/X0009rwIABioqK0qBBg7R06VKX59yxY4duvPFGdenSRdHR0UpPT9eSJUtc1quurtaUKVPUt29fRUVFKTExUaNHj9bu3bsl+d5wVlVV6Te/+Y0GDRqk+Ph4JSQk6NJLL9Vf/vIXp7sNAQCA9kE/AQBtjwALAAJgbzgBAAACRT8BAL4jwAKAANBwAgCA1qKfAADfEWABQABoOAEAQGvRTwCA7wiwAAAAAAAAYGkEWAAAAAAAALA0AiwAAAAAAABYGgEWAAAAAAAALI0ACwAAAAAAAJZGgAUAAAAAAABLI8ACAAAAAACApRFgAQAAAAAAwNIIsAAAAAAAAGBpBFgAAAAAAACwNAIsAAAAAAAAWBoBFgAAAAAAACyNAAsAAAAAAACWRoAFAAAAAAAASyPAAgAAAAAAgKURYAEAAAAAAMDSCLAAAAAAAABgaQRYAAAAAAAAsDQCLAAAAAAAAFgaARYAAAAAAAAsjQALAAAAAAAAlkaABQAAAAAAAEv7/7RfTX1mmEUqAAAAAElFTkSuQmCC\" width=\"1000\">"
      ],
      "text/plain": [
       "<IPython.core.display.HTML object>"
      ]
     },
     "metadata": {},
     "output_type": "display_data"
    }
   ],
   "source": [
    "dual_train_plots(results.index,\n",
    "                 results.cost, results.val, \n",
    "                 results['eff_val'].apply(lambda x: x.eff_rate),\n",
    "                 results['eff_val'].apply(lambda x: x.fp_rate))\n",
    "plt.tight_layout()\n",
    "plt.savefig(str(output / f'{name}_stats_a.png'))"
   ]
  },
  {
   "cell_type": "markdown",
   "metadata": {},
   "source": [
    "Go ahead and save the final model (even though it was also saved above):"
   ]
  },
  {
   "cell_type": "markdown",
   "metadata": {},
   "source": [
    "Save the output results:"
   ]
  },
  {
   "cell_type": "code",
   "execution_count": 1,
   "metadata": {},
   "outputs": [],
   "source": [
    "torch.cuda.empty_cache()\"\n",
    "##quit()\n",
    "\n"
   ]
  },
  {
   "cell_type": "code",
   "execution_count": null,
   "metadata": {},
   "outputs": [],
   "source": []
  }
 ],
 "metadata": {
  "kernelspec": {
   "display_name": "june2020-gpu",
   "language": "python",
   "name": "june2020-gpu"
  },
  "language_info": {
   "codemirror_mode": {
    "name": "ipython",
    "version": 3
   },
   "file_extension": ".py",
   "mimetype": "text/x-python",
   "name": "python",
   "nbconvert_exporter": "python",
   "pygments_lexer": "ipython3",
   "version": "3.7.6"
  }
 },
 "nbformat": 4,
 "nbformat_minor": 2
}
