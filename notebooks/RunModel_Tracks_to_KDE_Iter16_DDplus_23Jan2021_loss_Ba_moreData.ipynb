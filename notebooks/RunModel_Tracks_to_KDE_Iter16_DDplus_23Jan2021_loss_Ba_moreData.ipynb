{
 "cells": [
  {
   "cell_type": "code",
   "execution_count": 1,
   "metadata": {},
   "outputs": [],
   "source": [
    "##%matplotlib widget\n",
    "## with %matplotlib notebook: seems to require ipympl as part of environment, either\n",
    "## part of the conda environment or \"pip install ipympl\"\n",
    "## otherwise, does not show ANY plots in note\"book, plt.savefig() works\n",
    "%matplotlib notebook  \n",
    "##%matplotlib inline    ## --plt.savefig()  works, but re-sizing does NOT\n"
   ]
  },
  {
   "cell_type": "markdown",
   "metadata": {},
   "source": [
    "This notebook is the second attempt to read in track information and use it to predict the KDE used as input to PvFinder. This time, we are reading in poca KDEs rather than the original KDEs. \n",
    "\n",
    "collectdata_kde_C.py uses poca_z, poca_x, poca_y, major_axis_x, major_axis_y, and major_axis_z as the six track parameters (for the moment)\n"
   ]
  },
  {
   "cell_type": "markdown",
   "metadata": {},
   "source": [
    "Check the current GPU usage. Please try to be nice!"
   ]
  },
  {
   "cell_type": "code",
   "execution_count": 2,
   "metadata": {},
   "outputs": [
    {
     "name": "stdout",
     "output_type": "stream",
     "text": [
      "Sat Jan 23 17:31:07 2021       \r\n",
      "+-----------------------------------------------------------------------------+\r\n",
      "| NVIDIA-SMI 440.64.00    Driver Version: 440.64.00    CUDA Version: 10.2     |\r\n",
      "|-------------------------------+----------------------+----------------------+\r\n",
      "| GPU  Name        Persistence-M| Bus-Id        Disp.A | Volatile Uncorr. ECC |\r\n",
      "| Fan  Temp  Perf  Pwr:Usage/Cap|         Memory-Usage | GPU-Util  Compute M. |\r\n",
      "|===============================+======================+======================|\r\n",
      "|   0  TITAN V             Off  | 00000000:03:00.0 Off |                  N/A |\r\n",
      "| 47%   66C    P2    97W / 250W |   3564MiB / 12066MiB |     92%      Default |\r\n",
      "+-------------------------------+----------------------+----------------------+\r\n",
      "|   1  Tesla P100-PCIE...  Off  | 00000000:83:00.0 Off |                    0 |\r\n",
      "| N/A   31C    P0    27W / 250W |     10MiB / 16280MiB |      0%      Default |\r\n",
      "+-------------------------------+----------------------+----------------------+\r\n",
      "|   2  TITAN V             Off  | 00000000:84:00.0 Off |                  N/A |\r\n",
      "| 28%   36C    P8    25W / 250W |   2469MiB / 12066MiB |      0%      Default |\r\n",
      "+-------------------------------+----------------------+----------------------+\r\n",
      "                                                                               \r\n",
      "+-----------------------------------------------------------------------------+\r\n",
      "| Processes:                                                       GPU Memory |\r\n",
      "|  GPU       PID   Type   Process name                             Usage      |\r\n",
      "|=============================================================================|\r\n",
      "|    0     24891      C   ...a/conda/envs/goofit-june2020/bin/python  2457MiB |\r\n",
      "|    0     42274      C   ...a/conda/envs/goofit-june2020/bin/python  1095MiB |\r\n",
      "|    2     20351      C   ...a/conda/envs/goofit-june2020/bin/python  2457MiB |\r\n",
      "+-----------------------------------------------------------------------------+\r\n"
     ]
    }
   ],
   "source": [
    "!nvidia-smi"
   ]
  },
  {
   "cell_type": "markdown",
   "metadata": {},
   "source": [
    "> **WARNING**: The card numbers here are *not* the same as in CUDA. You have been warned."
   ]
  },
  {
   "cell_type": "markdown",
   "metadata": {},
   "source": [
    "This notebook is first attempt to read in track information and use it to predict the KDE used as input to PvFinder.\n"
   ]
  },
  {
   "cell_type": "markdown",
   "metadata": {},
   "source": [
    "## Imports"
   ]
  },
  {
   "cell_type": "code",
   "execution_count": 3,
   "metadata": {},
   "outputs": [],
   "source": [
    "import matplotlib.pyplot as plt\n",
    "import numpy as np\n",
    "import time\n",
    "import torch\n",
    "import pandas as pd\n",
    "\n",
    "# Python 3 standard library\n",
    "from pathlib import Path\n",
    "\n",
    "##from torchsummary import summary"
   ]
  },
  {
   "cell_type": "markdown",
   "metadata": {},
   "source": [
    "### Set up local parameters"
   ]
  },
  {
   "cell_type": "code",
   "execution_count": 4,
   "metadata": {},
   "outputs": [],
   "source": [
    "n_epochs = 150\n",
    "\n",
    "# Name is the output file name\n",
    "\n",
    "\n",
    "##  201027 -- about to go to bed, so try 2500 epochs with lr = 1e55\n",
    "##  previous iteration had l4 = 3e-5 and cost dropped almost linearly\n",
    "##  for 100 epochs -- final training costs ~ 2.02, validation cost ~ 2.01\n",
    "\n",
    "## for iter 4, try 10 epochs with lr = 3e-6\n",
    "## usually have a big jump down at epoch 0; want to try a\n",
    "## small number of epochs per iteration and see what happens (iter4: 10 epochs gave\n",
    "## traiing cost dropping from 1.54 to 1.50 immediately, then dropping very slowly)\n",
    "\n",
    "## For iter12, let's try increaseing the learning rate from 1em5 to 1p5em5 as the\n",
    "## training costs have been dropping almost \"linearlY\" on the semilog plot\n",
    "## for several iterations, suggesting that we can afford to take the risk\n",
    "## For good measure, we'll try this for 10 epochs as a test \n",
    "##  Iter12 seems to have worked we4ll, so start iter13 for 60 epochs\n",
    "## so it will run over night\n",
    "folder = '23Jan_DDplus_loss_Ba_iter16_floatAll_150epochs_1p5em5_4xwill'\n",
    "name   = folder\n",
    "\n",
    "# Make an output folder named \"name\" (change if you want)\n",
    "\n",
    "## Special instructions for those working on goofy at UC\n",
    "## Please be very careful to make sure that your folder\n",
    "## does not live in a subdirectory of your home directory\n",
    "## this disk has very little capacity. Instead, use \n",
    "## a subdirectory in /share/lazy with a symbolic link to\n",
    "## it in this (the notebooks) subdirectory\n",
    "folder = 'ML/' + folder\n",
    "output = Path(folder)\n",
    "\n",
    "\n",
    "# Size of batches\n",
    "batch_size = 48 ## batch_size = 24 ---> 4763MiB / 12066MiB on Titan V\n",
    "# How fast to learn\n",
    "learning_rate = 1.5e-5"
   ]
  },
  {
   "cell_type": "markdown",
   "metadata": {},
   "source": [
    "Make the output directory if it does not exist:"
   ]
  },
  {
   "cell_type": "code",
   "execution_count": 5,
   "metadata": {},
   "outputs": [],
   "source": [
    "output.mkdir(exist_ok=True)"
   ]
  },
  {
   "cell_type": "markdown",
   "metadata": {},
   "source": [
    "## Get the helper functions\n",
    "\n",
    "Add the directory with the model\n",
    "definitions to the path so we can import from it:\n",
    "\n",
    "> When you type `import X`,\n",
    "Python searches `sys.path` for a python\n",
    "file named `X.py` to import. So we need to add the model directory to the path."
   ]
  },
  {
   "cell_type": "code",
   "execution_count": 6,
   "metadata": {
    "scrolled": true
   },
   "outputs": [],
   "source": [
    "# From model/collectdata.py\n",
    "##from model.collectdata_kde_B import collect_t2kde_data\n",
    "## collectdata_kde_C should use the new poca KDE rather than the original kernel KDE\n",
    "from model.collectdata_kde_Ellipsoids import collect_t2kde_data\n",
    "\n",
    "\n",
    "# From model/loss.py\n",
    "##from loss import Loss\n",
    "## kde_loss_D includes botha ratio term and a chisq term, 98% ave_chisq\n",
    "## kde_loss_E adds a chi^4 term to the kde_loss_D return value\n",
    "## this is intended to emphasize the importance of values significantly different than zero\n",
    "from model.kde_loss_Ba import Loss\n",
    "\n",
    "##  TracksToKDE_Ellipsoids_SevenLayerCake has 7 hidden layers producing the 4000-bin KDE historgram\n",
    "##  It takes 9 input features (pocca centers + (A,B,C,D,E,F) . \n",
    "from model.models_kde import TracksToKDE_Ellipsoids_DDplus as Model\n",
    "\n",
    "\n",
    "from model.training_kde import trainNet, select_gpu, Results\n",
    "from model.plots import dual_train_plots, replace_in_ax"
   ]
  },
  {
   "cell_type": "code",
   "execution_count": 7,
   "metadata": {},
   "outputs": [],
   "source": [
    "# This gets built up during the run - do not rerun this cell\n",
    "results = pd.DataFrame([], columns=Results._fields)"
   ]
  },
  {
   "cell_type": "markdown",
   "metadata": {},
   "source": [
    "Set up Torch device configuration. All tensors and model parameters need to know where to be put.\n",
    "This takes a BUS ID number: The BUS ID is the same as the listing at the top of this script."
   ]
  },
  {
   "cell_type": "code",
   "execution_count": 8,
   "metadata": {},
   "outputs": [
    {
     "name": "stdout",
     "output_type": "stream",
     "text": [
      "1 available GPUs (initially using device 0):\n",
      "  0 TITAN V\n"
     ]
    }
   ],
   "source": [
    "device = select_gpu(2)\n",
    "##device = \"cpu\""
   ]
  },
  {
   "cell_type": "markdown",
   "metadata": {},
   "source": [
    "## Loading data\n",
    "\n",
    "Load the dataset, split into parts, then move to device (see `collectdata.py` in the `../model` directory)"
   ]
  },
  {
   "cell_type": "markdown",
   "metadata": {},
   "source": [
    "# Preparing the model"
   ]
  },
  {
   "cell_type": "markdown",
   "metadata": {},
   "source": [
    "Prepare a model, use multiple GPUs if they are VISIBLE, and move the model to the device."
   ]
  },
  {
   "cell_type": "code",
   "execution_count": 9,
   "metadata": {
    "scrolled": true
   },
   "outputs": [],
   "source": [
    "##print(\"Let's use\", torch.cuda.device_count(), \"GPUs!\")\n",
    "##if torch.cuda.device_count() > 1:\n",
    "##    model = torch.nn.DataParallel(model)"
   ]
  },
  {
   "cell_type": "code",
   "execution_count": 10,
   "metadata": {},
   "outputs": [
    {
     "name": "stdout",
     "output_type": "stream",
     "text": [
      "ct, child =  0    Linear(in_features=9, out_features=50, bias=True)\n",
      "ct, child =  1    Linear(in_features=50, out_features=50, bias=True)\n",
      "ct, child =  2    Linear(in_features=50, out_features=50, bias=True)\n",
      "ct, child =  3    Linear(in_features=50, out_features=50, bias=True)\n",
      "ct, child =  4    Linear(in_features=50, out_features=50, bias=True)\n",
      "ct, child =  5    Linear(in_features=50, out_features=50, bias=True)\n",
      "ct, child =  6    Linear(in_features=50, out_features=50, bias=True)\n",
      "ct, child =  7    Linear(in_features=50, out_features=50, bias=True)\n",
      "ct, child =  8    Linear(in_features=50, out_features=50, bias=True)\n",
      "ct, child =  9    Linear(in_features=50, out_features=50, bias=True)\n",
      "ct, child =  10    Linear(in_features=50, out_features=50, bias=True)\n",
      "ct, child =  11    Linear(in_features=50, out_features=16000, bias=True)\n",
      "ct, child =  12    Conv1d(4, 25, kernel_size=(25,), stride=(1,), padding=(12,))\n",
      "ct, child =  13    Conv1d(25, 1, kernel_size=(5,), stride=(1,), padding=(2,))\n",
      "ct, child =  14    Linear(in_features=4000, out_features=4000, bias=True)\n",
      "ct, child =  15    Conv1d(25, 1, kernel_size=(15,), stride=(1,), padding=(7,))\n",
      "ct, child =  16    Dropout(p=0.15, inplace=False)\n",
      "ct, child =  17    Dropout(p=0.15, inplace=False)\n"
     ]
    }
   ],
   "source": [
    "## a comment on the web at https://pytorch.org/docs/stable/optim.html says\n",
    "\"\"\"\n",
    "If you need to move a model to GPU via .cuda(), please do so before constructing optimizers for it. \n",
    "Parameters of a model after .cuda() will be different objects with those before the call.\n",
    "\n",
    "In general, you should make sure that optimized parameters live in consistent locations when \n",
    "optimizers are constructed and used.\n",
    "\"\"\"\n",
    "## so move this here (although we are using model.to(device) not explicitly using .cuda()\n",
    "\n",
    "nOut1 = 50\n",
    "nOut2 = 50\n",
    "nOut3 = 50\n",
    "nOut4 = 50\n",
    "nOut5 = 50\n",
    "nOut6 = 50\n",
    "nOut7 = 50\n",
    "nOut8 = 50\n",
    "nOut9 = 50\n",
    "nOut10 = 50\n",
    "nOut11 = 50\n",
    "latentChannels = 4\n",
    "model = Model(nOut1,nOut2,nOut3,nOut4,nOut5,nOut6,nOut7,nOut8,nOut9,nOut10,nOut11,latentChannels)\n",
    "\n",
    "##summary(model, input_size=(4, 4000))\n",
    "##print(model.parameters)\n",
    "\n",
    "## add the following code to allow the user to freeze the some of the weights corresponding \n",
    "## to those taken from an earlier model trained with the original target histograms\n",
    "## presumably -- this leaves either the perturbative filter \"fixed\" and lets the \n",
    "## learning focus on the non-perturbative features, so get started faster, or vice versa\n",
    "ct = 0\n",
    "for child in model.children():\n",
    "  print('ct, child = ',ct, \"  \", child)\n",
    "  if ct < 0:\n",
    "    print(\"     About to set param.requires_grad=False for ct = \", ct, \"params\")\n",
    "    for param in child.parameters():\n",
    "        param.requires_grad = False \n",
    "  ct += 1\n",
    "##  mds 200121 loss = Loss(epsilon=1e-5,coefficient=1.0)\n",
    "##  loss = Loss(epsilon=1e-5,coefficient=2.5)\n",
    "##loss = Loss(epsilon=3e-5, debug=False)\n",
    "loss = Loss(epsilon=3e-5)"
   ]
  },
  {
   "cell_type": "markdown",
   "metadata": {},
   "source": [
    "Let's move the model's weight matricies to the GPU:"
   ]
  },
  {
   "cell_type": "code",
   "execution_count": 11,
   "metadata": {
    "scrolled": true
   },
   "outputs": [],
   "source": [
    "model = model.to(device)"
   ]
  },
  {
   "cell_type": "code",
   "execution_count": 12,
   "metadata": {
    "scrolled": true
   },
   "outputs": [],
   "source": [
    "optimizer = torch.optim.Adam(model.parameters(), lr=learning_rate)\n",
    "##optimizer = torch.optim.SGD(model.parameters(), lr=learning_rate)"
   ]
  },
  {
   "cell_type": "code",
   "execution_count": 13,
   "metadata": {
    "scrolled": false
   },
   "outputs": [
    {
     "name": "stdout",
     "output_type": "stream",
     "text": [
      "output =  ML/23Jan_DDplus_loss_Ba_iter16_floatAll_150epochs_1p5em5_4xwill\n",
      "for model_dict\n",
      "index, k =   0    layer1.weight\n",
      "index, k =   1    layer1.bias\n",
      "index, k =   2    layer2.weight\n",
      "index, k =   3    layer2.bias\n",
      "index, k =   4    layer3.weight\n",
      "index, k =   5    layer3.bias\n",
      "index, k =   6    layer4.weight\n",
      "index, k =   7    layer4.bias\n",
      "index, k =   8    layer5.weight\n",
      "index, k =   9    layer5.bias\n",
      "index, k =   10    layer6.weight\n",
      "index, k =   11    layer6.bias\n",
      "index, k =   12    layer7.weight\n",
      "index, k =   13    layer7.bias\n",
      "index, k =   14    layer8.weight\n",
      "index, k =   15    layer8.bias\n",
      "index, k =   16    layer9.weight\n",
      "index, k =   17    layer9.bias\n",
      "index, k =   18    layer10.weight\n",
      "index, k =   19    layer10.bias\n",
      "index, k =   20    layer11.weight\n",
      "index, k =   21    layer11.bias\n",
      "index, k =   22    layer12new.weight\n",
      "index, k =   23    layer12new.bias\n",
      "index, k =   24    conv1.weight\n",
      "index, k =   25    conv1.bias\n",
      "index, k =   26    conv2.weight\n",
      "index, k =   27    conv2.bias\n",
      "index, k =   28    fc1.weight\n",
      "index, k =   29    fc1.bias\n",
      "index, k =   30    finalFilter.weight\n",
      "index, k =   31    finalFilter.bias\n",
      "dict_name =  ML/22Jan_DDplus_loss_Ba_iter15_floatAll_100epochs_1p5em5_4xwill/22Jan_DDplus_loss_Ba_iter15_floatAll_100epochs_1p5em5_4xwill_final.pyt\n",
      " \n",
      "  for pretrained_dict\n",
      "index, k =   0    layer1.weight\n",
      "index, k =   1    layer1.bias\n",
      "index, k =   2    layer2.weight\n",
      "index, k =   3    layer2.bias\n",
      "index, k =   4    layer3.weight\n",
      "index, k =   5    layer3.bias\n",
      "index, k =   6    layer4.weight\n",
      "index, k =   7    layer4.bias\n",
      "index, k =   8    layer5.weight\n",
      "index, k =   9    layer5.bias\n",
      "index, k =   10    layer6.weight\n",
      "index, k =   11    layer6.bias\n",
      "index, k =   12    layer7.weight\n",
      "index, k =   13    layer7.bias\n",
      "index, k =   14    layer8.weight\n",
      "index, k =   15    layer8.bias\n",
      "index, k =   16    layer9.weight\n",
      "index, k =   17    layer9.bias\n",
      "index, k =   18    layer10.weight\n",
      "index, k =   19    layer10.bias\n",
      "index, k =   20    layer11.weight\n",
      "index, k =   21    layer11.bias\n",
      "index, k =   22    layer12new.weight\n",
      "index, k =   23    layer12new.bias\n",
      "index, k =   24    conv1.weight\n",
      "index, k =   25    conv1.bias\n",
      "index, k =   26    conv2.weight\n",
      "index, k =   27    conv2.bias\n",
      "index, k =   28    fc1.weight\n",
      "index, k =   29    fc1.bias\n",
      "index, k =   30    finalFilter.weight\n",
      "index, k =   31    finalFilter.bias\n",
      "pretrained_dict iterated\n"
     ]
    },
    {
     "data": {
      "text/plain": [
       "<All keys matched successfully>"
      ]
     },
     "execution_count": 13,
     "metadata": {},
     "output_type": "execute_result"
    }
   ],
   "source": [
    "print('output = ',output)\n",
    "##print('oldOutput = ',oldOutput)\n",
    "##  use the first four layers from a pre-existing model\n",
    "##  see example at https://discuss.pytorch.org/t/how-to-load-part-of-pre-trained-model/1113\n",
    "\n",
    "##   ML -> /share/lazy/sokoloff/ML\n",
    "model_dict = model.state_dict()\n",
    "## mds 190725 for debugging\n",
    "print(\"for model_dict\")\n",
    "index = 0\n",
    "for k,v in model_dict.items():\n",
    "    print(\"index, k =  \",index,\"  \",k)\n",
    "    index = index+1\n",
    "##    print(\"value = \", v)\n",
    " \n",
    "updated_dict = model_dict\n",
    "##print(\"updated_dict = \",updated_dict)\n",
    "## when starting \"ab initio\", reduce biases as the bias gets summed for each track\n",
    "## contributing to the predicted KDE\n",
    "updated_dict[\"layer1.bias\"] = 0.005*model_dict[\"layer1.bias\"]\n",
    "updated_dict[\"layer2.bias\"] = 0.005*model_dict[\"layer2.bias\"]\n",
    "updated_dict[\"layer3.bias\"] = 0.005*model_dict[\"layer3.bias\"]\n",
    "updated_dict[\"layer4.bias\"] = 0.005*model_dict[\"layer4.bias\"]\n",
    "updated_dict[\"layer5.bias\"] = 0.005*model_dict[\"layer5.bias\"]\n",
    "updated_dict[\"layer6.bias\"] = 0.005*model_dict[\"layer6.bias\"]\n",
    "updated_dict[\"layer7.bias\"] = 0.005*model_dict[\"layer7.bias\"]\n",
    "updated_dict[\"layer8.bias\"] = 0.005*model_dict[\"layer8.bias\"]\n",
    "updated_dict[\"layer9.bias\"] = 0.005*model_dict[\"layer9.bias\"]\n",
    "updated_dict[\"layer10.bias\"] = 0.005*model_dict[\"layer10.bias\"]\n",
    "updated_dict[\"layer11.bias\"] = 0.005*model_dict[\"layer11.bias\"]\n",
    "\n",
    "model.load_state_dict(updated_dict,strict=False)\n",
    "\n",
    "model_dict = model.state_dict()\n",
    "##print(\"updated model_dict = \",model_dict)\n",
    "\n",
    "## print(\" \\n\",\"  for pretrained_dict\")\n",
    "## index = 0\n",
    "##for k,v in pretrained_dict.items():\n",
    "##    print(\"index, k =  \",index,\"  \",k)\n",
    "##    index = index+1\n",
    "## mds  \n",
    "\n",
    "##pretrained_dict = torch.load('ML/29July2020_Trks_to_KDE_C_lossB_100epochs_b64_1m3_nOut_50x50/29July2020_Trks_to_KDE_C_lossB_100epochs_b64_1m3_nOut_50x50_final.pyt')\n",
    "##print(\"model_dict instantiated\")\n",
    "# 1. filter out unnecessary keys\n",
    "##pretrained_dict = {k: v for k, v in pretrained_dict.items() if k in model_dict}\n",
    "##print(\"pretrained_dict iterated\")\n",
    "# 2. overwrite entries in the existing state dict\n",
    "##model_dict.update(pretrained_dict) \n",
    "##\n",
    "#   when starting from a model with a fully connected last layer rather than a convolutional layer\n",
    "# 3. load the new state dict\n",
    "#   need to use strict=False as the two models state model attributes do not agree exactly\n",
    "#   see https://pytorch.org/docs/master/_modules/torch/nn/modules/module.html#Module.load_state_dict\n",
    "\n",
    "##model.load_state_dict(pretrained_dict,strict=False)\n",
    "\n",
    "## print('model_dict =    ', model_dict)\n",
    "\n",
    "## finished at training cost = 1.46, validation cost = 1.50\n",
    "##d_folder = '25December__DDplus_loss_Ba_iter7_floatAll_800epochs_4em6'\n",
    "d_folder = '22Jan_DDplus_loss_Ba_iter15_floatAll_100epochs_1p5em5_4xwill'\n",
    "d_name = d_folder\n",
    "suffix = 'final'\n",
    "dict_name = 'ML/' + d_folder + '/' + d_name + '_'+ suffix + '.pyt'\n",
    "print('dict_name = ',dict_name)\n",
    "pretrained_dict = torch.load(dict_name)\n",
    "\n",
    "print(\" \")\n",
    "print(\"  for pretrained_dict\")\n",
    "index = 0\n",
    "for k,v in pretrained_dict.items():\n",
    "    print(\"index, k =  \",index,\"  \",k)\n",
    "    index = index+1\n",
    " \n",
    "\n",
    "##print(\"model_dict instantiated\")\n",
    "# 1. filter out unnecessary keys\n",
    "pretrained_dict = {k: v for k, v in pretrained_dict.items() if k in model_dict}\n",
    "print(\"pretrained_dict iterated\")\n",
    "# 2. overwrite entries in the existing state dict\n",
    "model_dict.update(pretrained_dict) \n",
    "##\n",
    "#   when starting from a model with a fully connected last layer rather than a convolutional layer\n",
    "# 3. load the new state dict\n",
    "#   need to use strict=False as the two models state model attributes do not agree exactly\n",
    "#   see https://pytorch.org/docs/master/_modules/torch/nn/modules/module.html#Module.load_state_dict\n",
    "\n",
    "model.load_state_dict(pretrained_dict,strict=False)\n",
    "\n"
   ]
  },
  {
   "cell_type": "code",
   "execution_count": 14,
   "metadata": {},
   "outputs": [],
   "source": [
    "##print('validation.dataset.tensors = ',validation.dataset.tensors)\n",
    "fig_size = plt.rcParams[\"figure.figsize\"]\n",
    "fig_size[0] = 10\n",
    "fig_size[1] = 4\n",
    "plt.rcParams[\"figure.figsize\"] = fig_size"
   ]
  },
  {
   "cell_type": "code",
   "execution_count": 15,
   "metadata": {
    "scrolled": false
   },
   "outputs": [
    {
     "name": "stdout",
     "output_type": "stream",
     "text": [
      "Loading data...\n",
      "pocaMx.shape =  (80000,)\n",
      "nEvts =  80000\n",
      "len(pocaMx[0]) =  199\n",
      "len(pocaMx[1]) =  25\n",
      "len(pocaMx[2]) =  369\n",
      "len(pocaMx[3]) =  143\n",
      "len(pocaMx[4]) =  160\n",
      "majorAxis.shape =  (80000, 3)\n",
      "minorAxis_1.shape =  (80000, 3)\n",
      "minorAxis_2.shape =  (80000, 3)\n",
      "have entered six_ellipsoid_parameters\n",
      "  \n",
      " \n",
      "  nEvts =  80000\n",
      " iEvt, nTrks =  0 199\n",
      " iEvt, nTrks =  1 25\n",
      " iEvt, nTrks =  2 369\n",
      " iEvt, nTrks =  3 143\n",
      " iEvt, nTrks =  4 160\n",
      " iEvt, nTrks =  5 260\n",
      " iEvt, nTrks =  6 237\n",
      " iEvt, nTrks =  7 327\n",
      " iEvt, nTrks =  8 178\n",
      " iEvt, nTrks =  9 106\n",
      "A.shape =  (80000,)\n",
      "majorAxis[iTrk][0][0] =  0.00045611936\n",
      "majorAxis[iTrk][1][0] =  -4.8292455e-05\n",
      "majorAxis[iTrk][2][0] =  0.090019904\n",
      "minorAxis_1[iTrk][0][0] =  -1.8602173\n",
      "minorAxis_1[iTrk][1][0] =  -17.569641\n",
      "minorAxis_1[iTrk][2][0] =  4.7891795e-08\n",
      "minorAxis_2[iTrk][0][0] =  -17.569414\n",
      "minorAxis_2[iTrk][1][0] =  1.8601931\n",
      "minorAxis_2[iTrk][2][0] =  0.0900199\n",
      "  \n",
      "majorAxis[iTrk][0][0] =  0.002360258\n",
      "majorAxis[iTrk][1][0] =  -0.007426616\n",
      "majorAxis[iTrk][2][0] =  0.3710108\n",
      "minorAxis_1[iTrk][0][0] =  -16.837948\n",
      "minorAxis_1[iTrk][1][0] =  -5.3512807\n",
      "minorAxis_1[iTrk][2][0] =  8.157131e-09\n",
      "minorAxis_2[iTrk][0][0] =  -5.3501005\n",
      "minorAxis_2[iTrk][1][0] =  16.834236\n",
      "minorAxis_2[iTrk][2][0] =  0.3710108\n",
      "  \n",
      "majorAxis[iTrk][0][0] =  6.220712e-05\n",
      "majorAxis[iTrk][1][0] =  -4.4594188e-05\n",
      "majorAxis[iTrk][2][0] =  0.036773544\n",
      "minorAxis_1[iTrk][0][0] =  10.293747\n",
      "minorAxis_1[iTrk][1][0] =  14.359369\n",
      "minorAxis_1[iTrk][2][0] =  1.571041e-06\n",
      "minorAxis_2[iTrk][0][0] =  14.359338\n",
      "minorAxis_2[iTrk][1][0] =  -10.293725\n",
      "minorAxis_2[iTrk][2][0] =  -0.03677354\n",
      "  \n",
      "majorAxis[iTrk][0][0] =  0.0033452737\n",
      "majorAxis[iTrk][1][0] =  0.00013028442\n",
      "majorAxis[iTrk][2][0] =  0.2431933\n",
      "minorAxis_1[iTrk][0][0] =  0.6875674\n",
      "minorAxis_1[iTrk][1][0] =  -17.65446\n",
      "minorAxis_1[iTrk][2][0] =  -6.6602626e-09\n",
      "minorAxis_2[iTrk][0][0] =  -17.652788\n",
      "minorAxis_2[iTrk][1][0] =  -0.68750226\n",
      "minorAxis_2[iTrk][2][0] =  0.2431933\n",
      "  \n",
      "majorAxis[iTrk][0][0] =  -0.00068196515\n",
      "majorAxis[iTrk][1][0] =  -0.00044562915\n",
      "majorAxis[iTrk][2][0] =  0.119970225\n",
      "minorAxis_1[iTrk][0][0] =  9.664597\n",
      "minorAxis_1[iTrk][1][0] =  -14.790141\n",
      "minorAxis_1[iTrk][2][0] =  1.9819232e-08\n",
      "minorAxis_2[iTrk][0][0] =  -14.789802\n",
      "minorAxis_2[iTrk][1][0] =  -9.664374\n",
      "minorAxis_2[iTrk][2][0] =  -0.11997023\n",
      "  \n",
      "majorAxis[iTrk][0][0] =  -8.245073e-05\n",
      "majorAxis[iTrk][1][0] =  0.00015860004\n",
      "majorAxis[iTrk][2][0] =  0.05619731\n",
      "minorAxis_1[iTrk][0][0] =  -15.676071\n",
      "minorAxis_1[iTrk][1][0] =  -8.149452\n",
      "minorAxis_1[iTrk][2][0] =  4.1105773e-07\n",
      "minorAxis_2[iTrk][0][0] =  -8.14941\n",
      "minorAxis_2[iTrk][1][0] =  15.675991\n",
      "minorAxis_2[iTrk][2][0] =  -0.056197315\n",
      "  \n",
      "majorAxis[iTrk][0][0] =  -0.00015151131\n",
      "majorAxis[iTrk][1][0] =  0.00067339616\n",
      "majorAxis[iTrk][2][0] =  0.11042937\n",
      "minorAxis_1[iTrk][0][0] =  17.236937\n",
      "minorAxis_1[iTrk][1][0] =  3.8782384\n",
      "minorAxis_1[iTrk][2][0] =  2.3217373e-08\n",
      "minorAxis_2[iTrk][0][0] =  3.8781626\n",
      "minorAxis_2[iTrk][1][0] =  -17.236599\n",
      "minorAxis_2[iTrk][2][0] =  0.11042936\n",
      "  \n",
      "majorAxis[iTrk][0][0] =  -7.577422e-05\n",
      "majorAxis[iTrk][1][0] =  -0.00036802414\n",
      "majorAxis[iTrk][2][0] =  0.08147708\n",
      "minorAxis_1[iTrk][0][0] =  -17.304853\n",
      "minorAxis_1[iTrk][1][0] =  3.5629773\n",
      "minorAxis_1[iTrk][2][0] =  5.80501e-09\n",
      "minorAxis_2[iTrk][0][0] =  3.5629392\n",
      "minorAxis_2[iTrk][1][0] =  17.304668\n",
      "minorAxis_2[iTrk][2][0] =  0.081477076\n",
      "  \n",
      "majorAxis[iTrk][0][0] =  0.00013397264\n",
      "majorAxis[iTrk][1][0] =  0.00094400026\n",
      "majorAxis[iTrk][2][0] =  0.12978876\n",
      "minorAxis_1[iTrk][0][0] =  17.492561\n",
      "minorAxis_1[iTrk][1][0] =  -2.4825466\n",
      "minorAxis_1[iTrk][2][0] =  1.1329301e-08\n",
      "minorAxis_2[iTrk][0][0] =  -2.4824798\n",
      "minorAxis_2[iTrk][1][0] =  -17.492088\n",
      "minorAxis_2[iTrk][2][0] =  0.12978874\n",
      "  \n",
      "majorAxis[iTrk][0][0] =  0.00043501743\n",
      "majorAxis[iTrk][1][0] =  -0.0016521378\n",
      "majorAxis[iTrk][2][0] =  0.17373301\n",
      "minorAxis_1[iTrk][0][0] =  -17.0855\n",
      "minorAxis_1[iTrk][1][0] =  -4.4987106\n",
      "minorAxis_1[iTrk][2][0] =  -7.7275175e-08\n",
      "minorAxis_2[iTrk][0][0] =  -4.4984937\n",
      "minorAxis_2[iTrk][1][0] =  17.084677\n",
      "minorAxis_2[iTrk][2][0] =  0.17373303\n",
      "  \n",
      "len(X) =  80000\n",
      "len(Xlist) =  1\n",
      "Loaded /share/lazy/will/data/June30_2020_80k_1.h5 in 155.4 s\n",
      "pocaMx.shape =  (80000,)\n",
      "nEvts =  80000\n",
      "len(pocaMx[0]) =  222\n",
      "len(pocaMx[1]) =  133\n",
      "len(pocaMx[2]) =  259\n",
      "len(pocaMx[3]) =  114\n",
      "len(pocaMx[4]) =  143\n",
      "majorAxis.shape =  (80000, 3)\n",
      "minorAxis_1.shape =  (80000, 3)\n",
      "minorAxis_2.shape =  (80000, 3)\n",
      "have entered six_ellipsoid_parameters\n",
      "  \n",
      " \n",
      "  nEvts =  80000\n",
      " iEvt, nTrks =  0 222\n",
      " iEvt, nTrks =  1 133\n",
      " iEvt, nTrks =  2 259\n",
      " iEvt, nTrks =  3 114\n",
      " iEvt, nTrks =  4 143\n",
      " iEvt, nTrks =  5 136\n",
      " iEvt, nTrks =  6 397\n",
      " iEvt, nTrks =  7 370\n",
      " iEvt, nTrks =  8 97\n",
      " iEvt, nTrks =  9 67\n",
      "A.shape =  (80000,)\n",
      "majorAxis[iTrk][0][0] =  -0.001036478\n",
      "majorAxis[iTrk][1][0] =  0.0009833863\n",
      "majorAxis[iTrk][2][0] =  0.15887721\n",
      "minorAxis_1[iTrk][0][0] =  -12.160475\n",
      "minorAxis_1[iTrk][1][0] =  -12.817002\n",
      "minorAxis_1[iTrk][2][0] =  0.0\n",
      "minorAxis_2[iTrk][0][0] =  -12.816484\n",
      "minorAxis_2[iTrk][1][0] =  12.159985\n",
      "minorAxis_2[iTrk][2][0] =  -0.15887721\n",
      "  \n",
      "majorAxis[iTrk][0][0] =  0.0016579849\n",
      "majorAxis[iTrk][1][0] =  0.0020989499\n",
      "majorAxis[iTrk][2][0] =  0.21738033\n",
      "minorAxis_1[iTrk][0][0] =  -13.864233\n",
      "minorAxis_1[iTrk][1][0] =  10.95152\n",
      "minorAxis_1[iTrk][2][0] =  -3.3017489e-09\n",
      "minorAxis_2[iTrk][0][0] =  10.95069\n",
      "minorAxis_2[iTrk][1][0] =  13.863184\n",
      "minorAxis_2[iTrk][2][0] =  -0.21738033\n",
      "  \n",
      "majorAxis[iTrk][0][0] =  0.00012481198\n",
      "majorAxis[iTrk][1][0] =  -0.00028747538\n",
      "majorAxis[iTrk][2][0] =  0.07441149\n",
      "minorAxis_1[iTrk][0][0] =  -16.206305\n",
      "minorAxis_1[iTrk][1][0] =  -7.036224\n",
      "minorAxis_1[iTrk][2][0] =  5.3456716e-08\n",
      "minorAxis_2[iTrk][0][0] =  -7.0361605\n",
      "minorAxis_2[iTrk][1][0] =  16.20616\n",
      "minorAxis_2[iTrk][2][0] =  0.07441148\n",
      "  \n",
      "majorAxis[iTrk][0][0] =  -0.007920195\n",
      "majorAxis[iTrk][1][0] =  -0.009694931\n",
      "majorAxis[iTrk][2][0] =  0.47021532\n",
      "minorAxis_1[iTrk][0][0] =  -13.682467\n",
      "minorAxis_1[iTrk][1][0] =  11.177781\n",
      "minorAxis_1[iTrk][2][0] =  1.8638048e-10\n",
      "minorAxis_2[iTrk][0][0] =  11.173822\n",
      "minorAxis_2[iTrk][1][0] =  13.677622\n",
      "minorAxis_2[iTrk][2][0] =  0.47021535\n",
      "  \n",
      "majorAxis[iTrk][0][0] =  0.00038854493\n",
      "majorAxis[iTrk][1][0] =  0.0009230774\n",
      "majorAxis[iTrk][2][0] =  0.13301943\n",
      "minorAxis_1[iTrk][0][0] =  -16.284061\n",
      "minorAxis_1[iTrk][1][0] =  6.854344\n",
      "minorAxis_1[iTrk][2][0] =  2.2469074e-07\n",
      "minorAxis_2[iTrk][0][0] =  6.8541493\n",
      "minorAxis_2[iTrk][1][0] =  16.283602\n",
      "minorAxis_2[iTrk][2][0] =  -0.13301945\n",
      "  \n",
      "majorAxis[iTrk][0][0] =  -5.6093595e-05\n",
      "majorAxis[iTrk][1][0] =  0.000114469876\n",
      "majorAxis[iTrk][2][0] =  0.04745733\n",
      "minorAxis_1[iTrk][0][0] =  15.865369\n",
      "minorAxis_1[iTrk][1][0] =  7.774496\n",
      "minorAxis_1[iTrk][2][0] =  1.8465234e-06\n",
      "minorAxis_2[iTrk][0][0] =  7.774468\n",
      "minorAxis_2[iTrk][1][0] =  -15.865313\n",
      "minorAxis_2[iTrk][2][0] =  0.04745733\n",
      "  \n",
      "majorAxis[iTrk][0][0] =  9.375396e-05\n",
      "majorAxis[iTrk][1][0] =  0.0002926058\n",
      "majorAxis[iTrk][2][0] =  0.07367872\n",
      "minorAxis_1[iTrk][0][0] =  -16.825275\n",
      "minorAxis_1[iTrk][1][0] =  5.390994\n",
      "minorAxis_1[iTrk][2][0] =  -2.1861728e-08\n",
      "minorAxis_2[iTrk][0][0] =  5.3909473\n",
      "minorAxis_2[iTrk][1][0] =  16.825129\n",
      "minorAxis_2[iTrk][2][0] =  -0.07367872\n",
      "  \n",
      "majorAxis[iTrk][0][0] =  -1.1543522e-06\n",
      "majorAxis[iTrk][1][0] =  2.8112001e-05\n",
      "majorAxis[iTrk][2][0] =  0.022295665\n",
      "minorAxis_1[iTrk][0][0] =  -17.652967\n",
      "minorAxis_1[iTrk][1][0] =  -0.7248769\n",
      "minorAxis_1[iTrk][2][0] =  1.7815448e-07\n",
      "minorAxis_2[iTrk][0][0] =  -0.7248763\n",
      "minorAxis_2[iTrk][1][0] =  17.652954\n",
      "minorAxis_2[iTrk][2][0] =  -0.022295661\n",
      "  \n",
      "majorAxis[iTrk][0][0] =  -0.2612214\n",
      "majorAxis[iTrk][1][0] =  0.83076316\n",
      "majorAxis[iTrk][2][0] =  3.8745012\n",
      "minorAxis_1[iTrk][0][0] =  -16.85429\n",
      "minorAxis_1[iTrk][1][0] =  -5.299587\n",
      "minorAxis_1[iTrk][2][0] =  2.0865195e-11\n",
      "minorAxis_2[iTrk][0][0] =  -5.1705856\n",
      "minorAxis_2[iTrk][1][0] =  16.444027\n",
      "minorAxis_2[iTrk][2][0] =  -3.874501\n",
      "  \n",
      "majorAxis[iTrk][0][0] =  -0.057592034\n",
      "majorAxis[iTrk][1][0] =  0.06503555\n",
      "majorAxis[iTrk][2][0] =  1.2373537\n",
      "minorAxis_1[iTrk][0][0] =  13.227038\n",
      "minorAxis_1[iTrk][1][0] =  11.713163\n",
      "minorAxis_1[iTrk][2][0] =  1.7679876e-10\n",
      "minorAxis_2[iTrk][0][0] =  11.684402\n",
      "minorAxis_2[iTrk][1][0] =  -13.194561\n",
      "minorAxis_2[iTrk][2][0] =  1.2373537\n",
      "  \n",
      "len(X) =  80000\n",
      "len(Xlist) =  2\n",
      "Loaded /share/lazy/will/data/June30_2020_80k_2.h5 in 154.6 s\n",
      "pocaMx.shape =  (80000,)\n"
     ]
    },
    {
     "name": "stdout",
     "output_type": "stream",
     "text": [
      "nEvts =  80000\n",
      "len(pocaMx[0]) =  196\n",
      "len(pocaMx[1]) =  35\n",
      "len(pocaMx[2]) =  265\n",
      "len(pocaMx[3]) =  128\n",
      "len(pocaMx[4]) =  124\n",
      "majorAxis.shape =  (80000, 3)\n",
      "minorAxis_1.shape =  (80000, 3)\n",
      "minorAxis_2.shape =  (80000, 3)\n",
      "have entered six_ellipsoid_parameters\n",
      "  \n",
      " \n",
      "  nEvts =  80000\n",
      " iEvt, nTrks =  0 196\n",
      " iEvt, nTrks =  1 35\n",
      " iEvt, nTrks =  2 265\n",
      " iEvt, nTrks =  3 128\n",
      " iEvt, nTrks =  4 124\n",
      " iEvt, nTrks =  5 122\n",
      " iEvt, nTrks =  6 300\n",
      " iEvt, nTrks =  7 179\n",
      " iEvt, nTrks =  8 243\n",
      " iEvt, nTrks =  9 112\n",
      "A.shape =  (80000,)\n",
      "majorAxis[iTrk][0][0] =  -2.440992e-05\n",
      "majorAxis[iTrk][1][0] =  -0.00038087237\n",
      "majorAxis[iTrk][2][0] =  0.08211532\n",
      "minorAxis_1[iTrk][0][0] =  -17.631672\n",
      "minorAxis_1[iTrk][1][0] =  1.130005\n",
      "minorAxis_1[iTrk][2][0] =  4.7444193e-08\n",
      "minorAxis_2[iTrk][0][0] =  1.1299927\n",
      "minorAxis_2[iTrk][1][0] =  17.631481\n",
      "minorAxis_2[iTrk][2][0] =  0.08211532\n",
      "  \n",
      "majorAxis[iTrk][0][0] =  -0.02277395\n",
      "majorAxis[iTrk][1][0] =  0.0014473597\n",
      "majorAxis[iTrk][2][0] =  0.6347583\n",
      "minorAxis_1[iTrk][0][0] =  -1.1205891\n",
      "minorAxis_1[iTrk][1][0] =  -17.632273\n",
      "minorAxis_1[iTrk][2][0] =  2.1543272e-09\n",
      "minorAxis_2[iTrk][0][0] =  -17.620888\n",
      "minorAxis_2[iTrk][1][0] =  1.1198657\n",
      "minorAxis_2[iTrk][2][0] =  -0.63475823\n",
      "  \n",
      "majorAxis[iTrk][0][0] =  0.0004024825\n",
      "majorAxis[iTrk][1][0] =  -0.00023784715\n",
      "majorAxis[iTrk][2][0] =  0.090883136\n",
      "minorAxis_1[iTrk][0][0] =  -8.988615\n",
      "minorAxis_1[iTrk][1][0] =  -15.210441\n",
      "minorAxis_1[iTrk][2][0] =  -6.56547e-08\n",
      "minorAxis_2[iTrk][0][0] =  -15.21024\n",
      "minorAxis_2[iTrk][1][0] =  8.988497\n",
      "minorAxis_2[iTrk][2][0] =  0.090883136\n",
      "  \n",
      "majorAxis[iTrk][0][0] =  0.0068744724\n",
      "majorAxis[iTrk][1][0] =  0.0017050834\n",
      "majorAxis[iTrk][2][0] =  0.3537121\n",
      "minorAxis_1[iTrk][0][0] =  4.2532983\n",
      "minorAxis_1[iTrk][1][0] =  -17.148241\n",
      "minorAxis_1[iTrk][2][0] =  1.1939819e-09\n",
      "minorAxis_2[iTrk][0][0] =  -17.144806\n",
      "minorAxis_2[iTrk][1][0] =  -4.252446\n",
      "minorAxis_2[iTrk][2][0] =  0.3537121\n",
      "  \n",
      "majorAxis[iTrk][0][0] =  -0.004920899\n",
      "majorAxis[iTrk][1][0] =  0.0009170567\n",
      "majorAxis[iTrk][2][0] =  0.2973651\n",
      "minorAxis_1[iTrk][0][0] =  -3.236844\n",
      "minorAxis_1[iTrk][1][0] =  -17.36881\n",
      "minorAxis_1[iTrk][2][0] =  -4.7397712e-09\n",
      "minorAxis_2[iTrk][0][0] =  -17.36635\n",
      "minorAxis_2[iTrk][1][0] =  3.2363856\n",
      "minorAxis_2[iTrk][2][0] =  -0.29736507\n",
      "  \n",
      "majorAxis[iTrk][0][0] =  -0.0001240533\n",
      "majorAxis[iTrk][1][0] =  0.00033394952\n",
      "majorAxis[iTrk][2][0] =  0.079335004\n",
      "minorAxis_1[iTrk][0][0] =  -16.562042\n",
      "minorAxis_1[iTrk][1][0] =  -6.1523557\n",
      "minorAxis_1[iTrk][2][0] =  3.1261713e-08\n",
      "minorAxis_2[iTrk][0][0] =  -6.1522937\n",
      "minorAxis_2[iTrk][1][0] =  16.561876\n",
      "minorAxis_2[iTrk][2][0] =  -0.079335004\n",
      "  \n",
      "majorAxis[iTrk][0][0] =  0.00010132754\n",
      "majorAxis[iTrk][1][0] =  6.684385e-05\n",
      "majorAxis[iTrk][2][0] =  0.046310693\n",
      "minorAxis_1[iTrk][0][0] =  -9.728917\n",
      "minorAxis_1[iTrk][1][0] =  14.747911\n",
      "minorAxis_1[iTrk][2][0] =  -2.3591362e-07\n",
      "minorAxis_2[iTrk][0][0] =  14.74786\n",
      "minorAxis_2[iTrk][1][0] =  9.728883\n",
      "minorAxis_2[iTrk][2][0] =  -0.04631069\n",
      "  \n",
      "majorAxis[iTrk][0][0] =  0.0042806785\n",
      "majorAxis[iTrk][1][0] =  0.004939851\n",
      "majorAxis[iTrk][2][0] =  0.3398017\n",
      "minorAxis_1[iTrk][0][0] =  13.3521\n",
      "minorAxis_1[iTrk][1][0] =  -11.5704\n",
      "minorAxis_1[iTrk][2][0] =  1.21654296e-08\n",
      "minorAxis_2[iTrk][0][0] =  -11.56826\n",
      "minorAxis_2[iTrk][1][0] =  -13.349631\n",
      "minorAxis_2[iTrk][2][0] =  0.33980173\n",
      "  \n",
      "majorAxis[iTrk][0][0] =  -0.00013103899\n",
      "majorAxis[iTrk][1][0] =  -0.0006021903\n",
      "majorAxis[iTrk][2][0] =  0.10434653\n",
      "minorAxis_1[iTrk][0][0] =  -17.26384\n",
      "minorAxis_1[iTrk][1][0] =  3.7566798\n",
      "minorAxis_1[iTrk][2][0] =  -9.616703e-08\n",
      "minorAxis_2[iTrk][0][0] =  3.7566135\n",
      "minorAxis_2[iTrk][1][0] =  17.263535\n",
      "minorAxis_2[iTrk][2][0] =  0.10434652\n",
      "  \n",
      "majorAxis[iTrk][0][0] =  0.0016481678\n",
      "majorAxis[iTrk][1][0] =  -0.0019788505\n",
      "majorAxis[iTrk][2][0] =  0.21330062\n",
      "minorAxis_1[iTrk][0][0] =  -13.575765\n",
      "minorAxis_1[iTrk][1][0] =  -11.307139\n",
      "minorAxis_1[iTrk][2][0] =  8.543098e-09\n",
      "minorAxis_2[iTrk][0][0] =  -11.306314\n",
      "minorAxis_2[iTrk][1][0] =  13.574774\n",
      "minorAxis_2[iTrk][2][0] =  0.21330062\n",
      "  \n",
      "len(X) =  80000\n",
      "len(Xlist) =  3\n",
      "Loaded /share/lazy/will/data/June30_2020_80k_3.h5 in 151.7 s\n",
      "pocaMx.shape =  (80000,)\n",
      "nEvts =  80000\n",
      "len(pocaMx[0]) =  204\n",
      "len(pocaMx[1]) =  33\n",
      "len(pocaMx[2]) =  206\n",
      "len(pocaMx[3]) =  150\n",
      "len(pocaMx[4]) =  96\n",
      "majorAxis.shape =  (80000, 3)\n",
      "minorAxis_1.shape =  (80000, 3)\n",
      "minorAxis_2.shape =  (80000, 3)\n",
      "have entered six_ellipsoid_parameters\n",
      "  \n",
      " \n",
      "  nEvts =  80000\n",
      " iEvt, nTrks =  0 204\n",
      " iEvt, nTrks =  1 33\n",
      " iEvt, nTrks =  2 206\n",
      " iEvt, nTrks =  3 150\n",
      " iEvt, nTrks =  4 96\n",
      " iEvt, nTrks =  5 10\n",
      " iEvt, nTrks =  6 174\n",
      " iEvt, nTrks =  7 320\n",
      " iEvt, nTrks =  8 164\n",
      " iEvt, nTrks =  9 119\n",
      "A.shape =  (80000,)\n",
      "majorAxis[iTrk][0][0] =  0.00057876867\n",
      "majorAxis[iTrk][1][0] =  0.00037603904\n",
      "majorAxis[iTrk][2][0] =  0.110427074\n",
      "minorAxis_1[iTrk][0][0] =  9.62588\n",
      "minorAxis_1[iTrk][1][0] =  -14.81537\n",
      "minorAxis_1[iTrk][2][0] =  8.391163e-09\n",
      "minorAxis_2[iTrk][0][0] =  -14.815081\n",
      "minorAxis_2[iTrk][1][0] =  -9.625692\n",
      "minorAxis_2[iTrk][2][0] =  0.11042709\n",
      "  \n",
      "majorAxis[iTrk][0][0] =  -7.687664e-05\n",
      "majorAxis[iTrk][1][0] =  -0.0017985329\n",
      "majorAxis[iTrk][2][0] =  0.17833562\n",
      "minorAxis_1[iTrk][0][0] =  -17.651728\n",
      "minorAxis_1[iTrk][1][0] =  0.7545069\n",
      "minorAxis_1[iTrk][2][0] =  -7.932265e-09\n",
      "minorAxis_2[iTrk][0][0] =  0.75446844\n",
      "minorAxis_2[iTrk][1][0] =  17.650827\n",
      "minorAxis_2[iTrk][2][0] =  0.17833562\n",
      "  \n",
      "majorAxis[iTrk][0][0] =  4.5855802e-05\n",
      "majorAxis[iTrk][1][0] =  -0.00054240844\n",
      "majorAxis[iTrk][2][0] =  0.098067455\n",
      "minorAxis_1[iTrk][0][0] =  17.605043\n",
      "minorAxis_1[iTrk][1][0] =  1.4883496\n",
      "minorAxis_1[iTrk][2][0] =  -2.7847218e-08\n",
      "minorAxis_2[iTrk][0][0] =  1.4883265\n",
      "minorAxis_2[iTrk][1][0] =  -17.604773\n",
      "minorAxis_2[iTrk][2][0] =  -0.098067455\n",
      "  \n",
      "majorAxis[iTrk][0][0] =  -0.0013144773\n",
      "majorAxis[iTrk][1][0] =  0.0008680699\n",
      "majorAxis[iTrk][2][0] =  0.16682307\n",
      "minorAxis_1[iTrk][0][0] =  -9.736217\n",
      "minorAxis_1[iTrk][1][0] =  -14.743094\n",
      "minorAxis_1[iTrk][2][0] =  -1.7552136e-08\n",
      "minorAxis_2[iTrk][0][0] =  -14.742435\n",
      "minorAxis_2[iTrk][1][0] =  9.735782\n",
      "minorAxis_2[iTrk][2][0] =  -0.16682304\n",
      "  \n",
      "majorAxis[iTrk][0][0] =  0.032227762\n",
      "majorAxis[iTrk][1][0] =  0.007741693\n",
      "majorAxis[iTrk][2][0] =  0.76488173\n",
      "minorAxis_1[iTrk][0][0] =  -4.1267405\n",
      "minorAxis_1[iTrk][1][0] =  17.179138\n",
      "minorAxis_1[iTrk][2][0] =  -2.3529467e-10\n",
      "minorAxis_2[iTrk][0][0] =  17.16303\n",
      "minorAxis_2[iTrk][1][0] =  4.122871\n",
      "minorAxis_2[iTrk][2][0] =  -0.7648817\n",
      "  \n",
      "majorAxis[iTrk][0][0] =  1.9753945\n",
      "majorAxis[iTrk][1][0] =  2.5669005\n",
      "majorAxis[iTrk][2][0] =  7.226382\n",
      "minorAxis_1[iTrk][0][0] =  14.0017\n",
      "minorAxis_1[iTrk][1][0] =  -10.7752075\n",
      "minorAxis_1[iTrk][2][0] =  5.3286344e-11\n",
      "minorAxis_2[iTrk][0][0] =  -9.832683\n",
      "minorAxis_2[iTrk][1][0] =  -12.776951\n",
      "minorAxis_2[iTrk][2][0] =  7.226381\n",
      "  \n",
      "majorAxis[iTrk][0][0] =  -0.0026900356\n",
      "majorAxis[iTrk][1][0] =  -0.0015841618\n",
      "majorAxis[iTrk][2][0] =  0.234843\n",
      "minorAxis_1[iTrk][0][0] =  -8.965469\n",
      "minorAxis_1[iTrk][1][0] =  15.224096\n",
      "minorAxis_1[iTrk][2][0] =  2.8236277e-08\n",
      "minorAxis_2[iTrk][0][0] =  15.222751\n",
      "minorAxis_2[iTrk][1][0] =  8.964677\n",
      "minorAxis_2[iTrk][2][0] =  0.234843\n",
      "  \n",
      "majorAxis[iTrk][0][0] =  -0.0001692281\n",
      "majorAxis[iTrk][1][0] =  0.0003505444\n",
      "majorAxis[iTrk][2][0] =  0.08292902\n",
      "minorAxis_1[iTrk][0][0] =  -15.910811\n",
      "minorAxis_1[iTrk][1][0] =  -7.68107\n",
      "minorAxis_1[iTrk][2][0] =  1.587002e-08\n",
      "minorAxis_2[iTrk][0][0] =  -7.680986\n",
      "minorAxis_2[iTrk][1][0] =  15.910635\n",
      "minorAxis_2[iTrk][2][0] =  -0.08292903\n",
      "  \n",
      "majorAxis[iTrk][0][0] =  0.0017714669\n",
      "majorAxis[iTrk][1][0] =  -0.001515166\n",
      "majorAxis[iTrk][2][0] =  0.20293355\n",
      "minorAxis_1[iTrk][0][0] =  11.483943\n",
      "minorAxis_1[iTrk][1][0] =  13.426532\n",
      "minorAxis_1[iTrk][2][0] =  -2.7840934e-09\n",
      "minorAxis_2[iTrk][0][0] =  13.425648\n",
      "minorAxis_2[iTrk][1][0] =  -11.483187\n",
      "minorAxis_2[iTrk][2][0] =  -0.20293356\n",
      "  \n",
      "majorAxis[iTrk][0][0] =  0.0006359923\n",
      "majorAxis[iTrk][1][0] =  -0.0003371759\n",
      "majorAxis[iTrk][2][0] =  0.112773284\n",
      "minorAxis_1[iTrk][0][0] =  8.275655\n",
      "minorAxis_1[iTrk][1][0] =  15.609813\n",
      "minorAxis_1[iTrk][2][0] =  -5.6373224e-08\n",
      "minorAxis_2[iTrk][0][0] =  15.609494\n",
      "minorAxis_2[iTrk][1][0] =  -8.275486\n",
      "minorAxis_2[iTrk][2][0] =  -0.11277328\n",
      "  \n",
      "len(X) =  80000\n",
      "len(Xlist) =  4\n",
      "Loaded /share/lazy/will/data/June30_2020_80k_4.h5 in 151.6 s\n",
      "outer loop X.shape =  (320000, 9, 600)\n",
      "Constructing 320000 event dataset took 2.345 s\n",
      "x_t.shape =  torch.Size([320000, 9, 600])\n",
      "x_t.shape[0] =  320000\n",
      "x_t.shape[1] =  9\n",
      "x_t.shape =  torch.Size([320000, 9, 600])\n"
     ]
    },
    {
     "name": "stdout",
     "output_type": "stream",
     "text": [
      "Loading data...\n",
      "pocaMx.shape =  (20000,)\n",
      "nEvts =  20000\n",
      "len(pocaMx[0]) =  211\n",
      "len(pocaMx[1]) =  21\n",
      "len(pocaMx[2]) =  20\n",
      "len(pocaMx[3]) =  198\n",
      "len(pocaMx[4]) =  233\n",
      "majorAxis.shape =  (20000, 3)\n",
      "minorAxis_1.shape =  (20000, 3)\n",
      "minorAxis_2.shape =  (20000, 3)\n",
      "have entered six_ellipsoid_parameters\n",
      "  \n",
      " \n",
      "  nEvts =  20000\n",
      " iEvt, nTrks =  0 211\n",
      " iEvt, nTrks =  1 21\n",
      " iEvt, nTrks =  2 20\n",
      " iEvt, nTrks =  3 198\n",
      " iEvt, nTrks =  4 233\n",
      " iEvt, nTrks =  5 85\n",
      " iEvt, nTrks =  6 223\n",
      " iEvt, nTrks =  7 425\n",
      " iEvt, nTrks =  8 252\n",
      " iEvt, nTrks =  9 169\n",
      "A.shape =  (20000,)\n",
      "majorAxis[iTrk][0][0] =  -0.00023452607\n",
      "majorAxis[iTrk][1][0] =  -0.00047206535\n",
      "majorAxis[iTrk][2][0] =  0.096502915\n",
      "minorAxis_1[iTrk][0][0] =  -15.822749\n",
      "minorAxis_1[iTrk][1][0] =  7.8608756\n",
      "minorAxis_1[iTrk][2][0] =  -2.6228399e-08\n",
      "minorAxis_2[iTrk][0][0] =  7.860759\n",
      "minorAxis_2[iTrk][1][0] =  15.822513\n",
      "minorAxis_2[iTrk][2][0] =  0.096502915\n",
      "  \n",
      "majorAxis[iTrk][0][0] =  -0.37655562\n",
      "majorAxis[iTrk][1][0] =  0.2768704\n",
      "majorAxis[iTrk][2][0] =  2.8546858\n",
      "minorAxis_1[iTrk][0][0] =  -10.466048\n",
      "minorAxis_1[iTrk][1][0] =  -14.234274\n",
      "minorAxis_1[iTrk][2][0] =  2.2974699e-11\n",
      "minorAxis_2[iTrk][0][0] =  -14.04724\n",
      "minorAxis_2[iTrk][1][0] =  10.328527\n",
      "minorAxis_2[iTrk][2][0] =  -2.8546853\n",
      "  \n",
      "majorAxis[iTrk][0][0] =  -0.024279848\n",
      "majorAxis[iTrk][1][0] =  0.0019689242\n",
      "majorAxis[iTrk][2][0] =  0.65580803\n",
      "minorAxis_1[iTrk][0][0] =  -1.4280497\n",
      "minorAxis_1[iTrk][1][0] =  -17.610037\n",
      "minorAxis_1[iTrk][2][0] =  -6.123401e-10\n",
      "minorAxis_2[iTrk][0][0] =  -17.597902\n",
      "minorAxis_2[iTrk][1][0] =  1.4270656\n",
      "minorAxis_2[iTrk][2][0] =  -0.6558081\n",
      "  \n",
      "majorAxis[iTrk][0][0] =  -0.007825993\n",
      "majorAxis[iTrk][1][0] =  0.004052097\n",
      "majorAxis[iTrk][2][0] =  0.3945435\n",
      "minorAxis_1[iTrk][0][0] =  8.123606\n",
      "minorAxis_1[iTrk][1][0] =  15.689478\n",
      "minorAxis_1[iTrk][2][0] =  -2.4940747e-10\n",
      "minorAxis_2[iTrk][0][0] =  15.685566\n",
      "minorAxis_2[iTrk][1][0] =  -8.12158\n",
      "minorAxis_2[iTrk][2][0] =  0.3945435\n",
      "  \n",
      "majorAxis[iTrk][0][0] =  0.0046102717\n",
      "majorAxis[iTrk][1][0] =  -0.0016007021\n",
      "majorAxis[iTrk][2][0] =  0.29361814\n",
      "minorAxis_1[iTrk][0][0] =  -5.794979\n",
      "minorAxis_1[iTrk][1][0] =  -16.690445\n",
      "minorAxis_1[iTrk][2][0] =  2.4897104e-09\n",
      "minorAxis_2[iTrk][0][0] =  -16.688139\n",
      "minorAxis_2[iTrk][1][0] =  5.794179\n",
      "minorAxis_2[iTrk][2][0] =  0.2936181\n",
      "  \n",
      "majorAxis[iTrk][0][0] =  -0.00020041714\n",
      "majorAxis[iTrk][1][0] =  0.00010468164\n",
      "majorAxis[iTrk][2][0] =  0.06320469\n",
      "minorAxis_1[iTrk][0][0] =  8.179679\n",
      "minorAxis_1[iTrk][1][0] =  15.660318\n",
      "minorAxis_1[iTrk][2][0] =  7.40176e-08\n",
      "minorAxis_2[iTrk][0][0] =  15.660218\n",
      "minorAxis_2[iTrk][1][0] =  -8.179626\n",
      "minorAxis_2[iTrk][2][0] =  0.06320469\n",
      "  \n",
      "majorAxis[iTrk][0][0] =  -0.00020603223\n",
      "majorAxis[iTrk][1][0] =  -0.0005662605\n",
      "majorAxis[iTrk][2][0] =  0.10317981\n",
      "minorAxis_1[iTrk][0][0] =  -16.603\n",
      "minorAxis_1[iTrk][1][0] =  6.040953\n",
      "minorAxis_1[iTrk][2][0] =  4.5812504e-07\n",
      "minorAxis_2[iTrk][0][0] =  6.0408506\n",
      "minorAxis_2[iTrk][1][0] =  16.602718\n",
      "minorAxis_2[iTrk][2][0] =  0.10317982\n",
      "  \n",
      "majorAxis[iTrk][0][0] =  -0.00040561036\n",
      "majorAxis[iTrk][1][0] =  0.00014461782\n",
      "majorAxis[iTrk][2][0] =  0.0872241\n",
      "minorAxis_1[iTrk][0][0] =  -5.933496\n",
      "minorAxis_1[iTrk][1][0] =  -16.641706\n",
      "minorAxis_1[iTrk][2][0] =  1.0720762e-08\n",
      "minorAxis_2[iTrk][0][0] =  -16.641502\n",
      "minorAxis_2[iTrk][1][0] =  5.9334235\n",
      "minorAxis_2[iTrk][2][0] =  -0.0872241\n",
      "  \n",
      "majorAxis[iTrk][0][0] =  0.00038461428\n",
      "majorAxis[iTrk][1][0] =  -3.4232737e-05\n",
      "majorAxis[iTrk][2][0] =  0.08259597\n",
      "minorAxis_1[iTrk][0][0] =  -1.5663412\n",
      "minorAxis_1[iTrk][1][0] =  -17.598276\n",
      "minorAxis_1[iTrk][2][0] =  3.2106848e-07\n",
      "minorAxis_2[iTrk][0][0] =  -17.598082\n",
      "minorAxis_2[iTrk][1][0] =  1.5663238\n",
      "minorAxis_2[iTrk][2][0] =  0.08259596\n",
      "  \n",
      "majorAxis[iTrk][0][0] =  -0.022277953\n",
      "majorAxis[iTrk][1][0] =  -0.0046837274\n",
      "majorAxis[iTrk][2][0] =  0.63399464\n",
      "minorAxis_1[iTrk][0][0] =  -3.6350286\n",
      "minorAxis_1[iTrk][1][0] =  17.289862\n",
      "minorAxis_1[iTrk][2][0] =  9.566169e-10\n",
      "minorAxis_2[iTrk][0][0] =  17.278727\n",
      "minorAxis_2[iTrk][1][0] =  3.6326876\n",
      "minorAxis_2[iTrk][2][0] =  0.6339946\n",
      "  \n",
      "len(X) =  20000\n",
      "len(Xlist) =  1\n",
      "Loaded dataAA/20K_POCA_kernel_evts_200926.h5 in 38.76 s\n",
      "outer loop X.shape =  (20000, 9, 600)\n",
      "Constructing 10000 event dataset took 0.03422 s\n",
      "x_t.shape =  torch.Size([10000, 9, 600])\n",
      "x_t.shape[0] =  10000\n",
      "x_t.shape[1] =  9\n",
      "x_t.shape =  torch.Size([10000, 9, 600])\n"
     ]
    }
   ],
   "source": [
    "\n",
    "## Training dataset. You can put as many files here as desired.\n",
    "\n",
    "##train_loader = collect_t2kde_data('/share/lazy/pv-finder/20k_evts_for_KDE_learning_200716.h5',\n",
    "train_loader = collect_t2kde_data('/share/lazy/will/data/June30_2020_80k_1.h5', \n",
    "                                    '/share/lazy/will/data/June30_2020_80k_2.h5',\n",
    "                                    '/share/lazy/will/data/June30_2020_80k_3.h5',\n",
    "                                    '/share/lazy/will/data/June30_2020_80k_4.h5',\n",
    "                             batch_size=batch_size,\n",
    "## if we are using a larger dataset (240K events, with the datasets above, and 11 GB  of GPU memory),\n",
    "## the dataset will overflow the GPU memory; device=device will allow the data to move back\n",
    "## and forth between the CPU and GPU memory. While this allows use of a larger dataset, it slows\n",
    "## down performance by about 10%.  So comment out when not needed.\n",
    "##                          device=device,\n",
    "##                           slice = slice(None,18000)\n",
    "                           )\n",
    "                            \n",
    "# Validation dataset. You can slice to reduce the size.\n",
    "## mds no separate validation set yet,\n",
    "\n",
    "## For iter12, change slice(18000,None) to slice(10000,None)\n",
    "## First, we'll see if this changes the validation cost significantly\n",
    "##  Second, we will see if this reduces the validation cost fluctuations\n",
    "val_loader = collect_t2kde_data('dataAA/20K_POCA_kernel_evts_200926.h5',\n",
    "                            batch_size=batch_size,\n",
    "##                            device=device,\n",
    "                            slice = slice(10000,None)\n",
    "                           )\n"
   ]
  },
  {
   "cell_type": "code",
   "execution_count": 16,
   "metadata": {
    "scrolled": false
   },
   "outputs": [
    {
     "data": {
      "application/javascript": [
       "/* Put everything inside the global mpl namespace */\n",
       "window.mpl = {};\n",
       "\n",
       "\n",
       "mpl.get_websocket_type = function() {\n",
       "    if (typeof(WebSocket) !== 'undefined') {\n",
       "        return WebSocket;\n",
       "    } else if (typeof(MozWebSocket) !== 'undefined') {\n",
       "        return MozWebSocket;\n",
       "    } else {\n",
       "        alert('Your browser does not have WebSocket support. ' +\n",
       "              'Please try Chrome, Safari or Firefox ≥ 6. ' +\n",
       "              'Firefox 4 and 5 are also supported but you ' +\n",
       "              'have to enable WebSockets in about:config.');\n",
       "    };\n",
       "}\n",
       "\n",
       "mpl.figure = function(figure_id, websocket, ondownload, parent_element) {\n",
       "    this.id = figure_id;\n",
       "\n",
       "    this.ws = websocket;\n",
       "\n",
       "    this.supports_binary = (this.ws.binaryType != undefined);\n",
       "\n",
       "    if (!this.supports_binary) {\n",
       "        var warnings = document.getElementById(\"mpl-warnings\");\n",
       "        if (warnings) {\n",
       "            warnings.style.display = 'block';\n",
       "            warnings.textContent = (\n",
       "                \"This browser does not support binary websocket messages. \" +\n",
       "                    \"Performance may be slow.\");\n",
       "        }\n",
       "    }\n",
       "\n",
       "    this.imageObj = new Image();\n",
       "\n",
       "    this.context = undefined;\n",
       "    this.message = undefined;\n",
       "    this.canvas = undefined;\n",
       "    this.rubberband_canvas = undefined;\n",
       "    this.rubberband_context = undefined;\n",
       "    this.format_dropdown = undefined;\n",
       "\n",
       "    this.image_mode = 'full';\n",
       "\n",
       "    this.root = $('<div/>');\n",
       "    this._root_extra_style(this.root)\n",
       "    this.root.attr('style', 'display: inline-block');\n",
       "\n",
       "    $(parent_element).append(this.root);\n",
       "\n",
       "    this._init_header(this);\n",
       "    this._init_canvas(this);\n",
       "    this._init_toolbar(this);\n",
       "\n",
       "    var fig = this;\n",
       "\n",
       "    this.waiting = false;\n",
       "\n",
       "    this.ws.onopen =  function () {\n",
       "            fig.send_message(\"supports_binary\", {value: fig.supports_binary});\n",
       "            fig.send_message(\"send_image_mode\", {});\n",
       "            if (mpl.ratio != 1) {\n",
       "                fig.send_message(\"set_dpi_ratio\", {'dpi_ratio': mpl.ratio});\n",
       "            }\n",
       "            fig.send_message(\"refresh\", {});\n",
       "        }\n",
       "\n",
       "    this.imageObj.onload = function() {\n",
       "            if (fig.image_mode == 'full') {\n",
       "                // Full images could contain transparency (where diff images\n",
       "                // almost always do), so we need to clear the canvas so that\n",
       "                // there is no ghosting.\n",
       "                fig.context.clearRect(0, 0, fig.canvas.width, fig.canvas.height);\n",
       "            }\n",
       "            fig.context.drawImage(fig.imageObj, 0, 0);\n",
       "        };\n",
       "\n",
       "    this.imageObj.onunload = function() {\n",
       "        fig.ws.close();\n",
       "    }\n",
       "\n",
       "    this.ws.onmessage = this._make_on_message_function(this);\n",
       "\n",
       "    this.ondownload = ondownload;\n",
       "}\n",
       "\n",
       "mpl.figure.prototype._init_header = function() {\n",
       "    var titlebar = $(\n",
       "        '<div class=\"ui-dialog-titlebar ui-widget-header ui-corner-all ' +\n",
       "        'ui-helper-clearfix\"/>');\n",
       "    var titletext = $(\n",
       "        '<div class=\"ui-dialog-title\" style=\"width: 100%; ' +\n",
       "        'text-align: center; padding: 3px;\"/>');\n",
       "    titlebar.append(titletext)\n",
       "    this.root.append(titlebar);\n",
       "    this.header = titletext[0];\n",
       "}\n",
       "\n",
       "\n",
       "\n",
       "mpl.figure.prototype._canvas_extra_style = function(canvas_div) {\n",
       "\n",
       "}\n",
       "\n",
       "\n",
       "mpl.figure.prototype._root_extra_style = function(canvas_div) {\n",
       "\n",
       "}\n",
       "\n",
       "mpl.figure.prototype._init_canvas = function() {\n",
       "    var fig = this;\n",
       "\n",
       "    var canvas_div = $('<div/>');\n",
       "\n",
       "    canvas_div.attr('style', 'position: relative; clear: both; outline: 0');\n",
       "\n",
       "    function canvas_keyboard_event(event) {\n",
       "        return fig.key_event(event, event['data']);\n",
       "    }\n",
       "\n",
       "    canvas_div.keydown('key_press', canvas_keyboard_event);\n",
       "    canvas_div.keyup('key_release', canvas_keyboard_event);\n",
       "    this.canvas_div = canvas_div\n",
       "    this._canvas_extra_style(canvas_div)\n",
       "    this.root.append(canvas_div);\n",
       "\n",
       "    var canvas = $('<canvas/>');\n",
       "    canvas.addClass('mpl-canvas');\n",
       "    canvas.attr('style', \"left: 0; top: 0; z-index: 0; outline: 0\")\n",
       "\n",
       "    this.canvas = canvas[0];\n",
       "    this.context = canvas[0].getContext(\"2d\");\n",
       "\n",
       "    var backingStore = this.context.backingStorePixelRatio ||\n",
       "\tthis.context.webkitBackingStorePixelRatio ||\n",
       "\tthis.context.mozBackingStorePixelRatio ||\n",
       "\tthis.context.msBackingStorePixelRatio ||\n",
       "\tthis.context.oBackingStorePixelRatio ||\n",
       "\tthis.context.backingStorePixelRatio || 1;\n",
       "\n",
       "    mpl.ratio = (window.devicePixelRatio || 1) / backingStore;\n",
       "\n",
       "    var rubberband = $('<canvas/>');\n",
       "    rubberband.attr('style', \"position: absolute; left: 0; top: 0; z-index: 1;\")\n",
       "\n",
       "    var pass_mouse_events = true;\n",
       "\n",
       "    canvas_div.resizable({\n",
       "        start: function(event, ui) {\n",
       "            pass_mouse_events = false;\n",
       "        },\n",
       "        resize: function(event, ui) {\n",
       "            fig.request_resize(ui.size.width, ui.size.height);\n",
       "        },\n",
       "        stop: function(event, ui) {\n",
       "            pass_mouse_events = true;\n",
       "            fig.request_resize(ui.size.width, ui.size.height);\n",
       "        },\n",
       "    });\n",
       "\n",
       "    function mouse_event_fn(event) {\n",
       "        if (pass_mouse_events)\n",
       "            return fig.mouse_event(event, event['data']);\n",
       "    }\n",
       "\n",
       "    rubberband.mousedown('button_press', mouse_event_fn);\n",
       "    rubberband.mouseup('button_release', mouse_event_fn);\n",
       "    // Throttle sequential mouse events to 1 every 20ms.\n",
       "    rubberband.mousemove('motion_notify', mouse_event_fn);\n",
       "\n",
       "    rubberband.mouseenter('figure_enter', mouse_event_fn);\n",
       "    rubberband.mouseleave('figure_leave', mouse_event_fn);\n",
       "\n",
       "    canvas_div.on(\"wheel\", function (event) {\n",
       "        event = event.originalEvent;\n",
       "        event['data'] = 'scroll'\n",
       "        if (event.deltaY < 0) {\n",
       "            event.step = 1;\n",
       "        } else {\n",
       "            event.step = -1;\n",
       "        }\n",
       "        mouse_event_fn(event);\n",
       "    });\n",
       "\n",
       "    canvas_div.append(canvas);\n",
       "    canvas_div.append(rubberband);\n",
       "\n",
       "    this.rubberband = rubberband;\n",
       "    this.rubberband_canvas = rubberband[0];\n",
       "    this.rubberband_context = rubberband[0].getContext(\"2d\");\n",
       "    this.rubberband_context.strokeStyle = \"#000000\";\n",
       "\n",
       "    this._resize_canvas = function(width, height) {\n",
       "        // Keep the size of the canvas, canvas container, and rubber band\n",
       "        // canvas in synch.\n",
       "        canvas_div.css('width', width)\n",
       "        canvas_div.css('height', height)\n",
       "\n",
       "        canvas.attr('width', width * mpl.ratio);\n",
       "        canvas.attr('height', height * mpl.ratio);\n",
       "        canvas.attr('style', 'width: ' + width + 'px; height: ' + height + 'px;');\n",
       "\n",
       "        rubberband.attr('width', width);\n",
       "        rubberband.attr('height', height);\n",
       "    }\n",
       "\n",
       "    // Set the figure to an initial 600x600px, this will subsequently be updated\n",
       "    // upon first draw.\n",
       "    this._resize_canvas(600, 600);\n",
       "\n",
       "    // Disable right mouse context menu.\n",
       "    $(this.rubberband_canvas).bind(\"contextmenu\",function(e){\n",
       "        return false;\n",
       "    });\n",
       "\n",
       "    function set_focus () {\n",
       "        canvas.focus();\n",
       "        canvas_div.focus();\n",
       "    }\n",
       "\n",
       "    window.setTimeout(set_focus, 100);\n",
       "}\n",
       "\n",
       "mpl.figure.prototype._init_toolbar = function() {\n",
       "    var fig = this;\n",
       "\n",
       "    var nav_element = $('<div/>');\n",
       "    nav_element.attr('style', 'width: 100%');\n",
       "    this.root.append(nav_element);\n",
       "\n",
       "    // Define a callback function for later on.\n",
       "    function toolbar_event(event) {\n",
       "        return fig.toolbar_button_onclick(event['data']);\n",
       "    }\n",
       "    function toolbar_mouse_event(event) {\n",
       "        return fig.toolbar_button_onmouseover(event['data']);\n",
       "    }\n",
       "\n",
       "    for(var toolbar_ind in mpl.toolbar_items) {\n",
       "        var name = mpl.toolbar_items[toolbar_ind][0];\n",
       "        var tooltip = mpl.toolbar_items[toolbar_ind][1];\n",
       "        var image = mpl.toolbar_items[toolbar_ind][2];\n",
       "        var method_name = mpl.toolbar_items[toolbar_ind][3];\n",
       "\n",
       "        if (!name) {\n",
       "            // put a spacer in here.\n",
       "            continue;\n",
       "        }\n",
       "        var button = $('<button/>');\n",
       "        button.addClass('ui-button ui-widget ui-state-default ui-corner-all ' +\n",
       "                        'ui-button-icon-only');\n",
       "        button.attr('role', 'button');\n",
       "        button.attr('aria-disabled', 'false');\n",
       "        button.click(method_name, toolbar_event);\n",
       "        button.mouseover(tooltip, toolbar_mouse_event);\n",
       "\n",
       "        var icon_img = $('<span/>');\n",
       "        icon_img.addClass('ui-button-icon-primary ui-icon');\n",
       "        icon_img.addClass(image);\n",
       "        icon_img.addClass('ui-corner-all');\n",
       "\n",
       "        var tooltip_span = $('<span/>');\n",
       "        tooltip_span.addClass('ui-button-text');\n",
       "        tooltip_span.html(tooltip);\n",
       "\n",
       "        button.append(icon_img);\n",
       "        button.append(tooltip_span);\n",
       "\n",
       "        nav_element.append(button);\n",
       "    }\n",
       "\n",
       "    var fmt_picker_span = $('<span/>');\n",
       "\n",
       "    var fmt_picker = $('<select/>');\n",
       "    fmt_picker.addClass('mpl-toolbar-option ui-widget ui-widget-content');\n",
       "    fmt_picker_span.append(fmt_picker);\n",
       "    nav_element.append(fmt_picker_span);\n",
       "    this.format_dropdown = fmt_picker[0];\n",
       "\n",
       "    for (var ind in mpl.extensions) {\n",
       "        var fmt = mpl.extensions[ind];\n",
       "        var option = $(\n",
       "            '<option/>', {selected: fmt === mpl.default_extension}).html(fmt);\n",
       "        fmt_picker.append(option);\n",
       "    }\n",
       "\n",
       "    // Add hover states to the ui-buttons\n",
       "    $( \".ui-button\" ).hover(\n",
       "        function() { $(this).addClass(\"ui-state-hover\");},\n",
       "        function() { $(this).removeClass(\"ui-state-hover\");}\n",
       "    );\n",
       "\n",
       "    var status_bar = $('<span class=\"mpl-message\"/>');\n",
       "    nav_element.append(status_bar);\n",
       "    this.message = status_bar[0];\n",
       "}\n",
       "\n",
       "mpl.figure.prototype.request_resize = function(x_pixels, y_pixels) {\n",
       "    // Request matplotlib to resize the figure. Matplotlib will then trigger a resize in the client,\n",
       "    // which will in turn request a refresh of the image.\n",
       "    this.send_message('resize', {'width': x_pixels, 'height': y_pixels});\n",
       "}\n",
       "\n",
       "mpl.figure.prototype.send_message = function(type, properties) {\n",
       "    properties['type'] = type;\n",
       "    properties['figure_id'] = this.id;\n",
       "    this.ws.send(JSON.stringify(properties));\n",
       "}\n",
       "\n",
       "mpl.figure.prototype.send_draw_message = function() {\n",
       "    if (!this.waiting) {\n",
       "        this.waiting = true;\n",
       "        this.ws.send(JSON.stringify({type: \"draw\", figure_id: this.id}));\n",
       "    }\n",
       "}\n",
       "\n",
       "\n",
       "mpl.figure.prototype.handle_save = function(fig, msg) {\n",
       "    var format_dropdown = fig.format_dropdown;\n",
       "    var format = format_dropdown.options[format_dropdown.selectedIndex].value;\n",
       "    fig.ondownload(fig, format);\n",
       "}\n",
       "\n",
       "\n",
       "mpl.figure.prototype.handle_resize = function(fig, msg) {\n",
       "    var size = msg['size'];\n",
       "    if (size[0] != fig.canvas.width || size[1] != fig.canvas.height) {\n",
       "        fig._resize_canvas(size[0], size[1]);\n",
       "        fig.send_message(\"refresh\", {});\n",
       "    };\n",
       "}\n",
       "\n",
       "mpl.figure.prototype.handle_rubberband = function(fig, msg) {\n",
       "    var x0 = msg['x0'] / mpl.ratio;\n",
       "    var y0 = (fig.canvas.height - msg['y0']) / mpl.ratio;\n",
       "    var x1 = msg['x1'] / mpl.ratio;\n",
       "    var y1 = (fig.canvas.height - msg['y1']) / mpl.ratio;\n",
       "    x0 = Math.floor(x0) + 0.5;\n",
       "    y0 = Math.floor(y0) + 0.5;\n",
       "    x1 = Math.floor(x1) + 0.5;\n",
       "    y1 = Math.floor(y1) + 0.5;\n",
       "    var min_x = Math.min(x0, x1);\n",
       "    var min_y = Math.min(y0, y1);\n",
       "    var width = Math.abs(x1 - x0);\n",
       "    var height = Math.abs(y1 - y0);\n",
       "\n",
       "    fig.rubberband_context.clearRect(\n",
       "        0, 0, fig.canvas.width / mpl.ratio, fig.canvas.height / mpl.ratio);\n",
       "\n",
       "    fig.rubberband_context.strokeRect(min_x, min_y, width, height);\n",
       "}\n",
       "\n",
       "mpl.figure.prototype.handle_figure_label = function(fig, msg) {\n",
       "    // Updates the figure title.\n",
       "    fig.header.textContent = msg['label'];\n",
       "}\n",
       "\n",
       "mpl.figure.prototype.handle_cursor = function(fig, msg) {\n",
       "    var cursor = msg['cursor'];\n",
       "    switch(cursor)\n",
       "    {\n",
       "    case 0:\n",
       "        cursor = 'pointer';\n",
       "        break;\n",
       "    case 1:\n",
       "        cursor = 'default';\n",
       "        break;\n",
       "    case 2:\n",
       "        cursor = 'crosshair';\n",
       "        break;\n",
       "    case 3:\n",
       "        cursor = 'move';\n",
       "        break;\n",
       "    }\n",
       "    fig.rubberband_canvas.style.cursor = cursor;\n",
       "}\n",
       "\n",
       "mpl.figure.prototype.handle_message = function(fig, msg) {\n",
       "    fig.message.textContent = msg['message'];\n",
       "}\n",
       "\n",
       "mpl.figure.prototype.handle_draw = function(fig, msg) {\n",
       "    // Request the server to send over a new figure.\n",
       "    fig.send_draw_message();\n",
       "}\n",
       "\n",
       "mpl.figure.prototype.handle_image_mode = function(fig, msg) {\n",
       "    fig.image_mode = msg['mode'];\n",
       "}\n",
       "\n",
       "mpl.figure.prototype.updated_canvas_event = function() {\n",
       "    // Called whenever the canvas gets updated.\n",
       "    this.send_message(\"ack\", {});\n",
       "}\n",
       "\n",
       "// A function to construct a web socket function for onmessage handling.\n",
       "// Called in the figure constructor.\n",
       "mpl.figure.prototype._make_on_message_function = function(fig) {\n",
       "    return function socket_on_message(evt) {\n",
       "        if (evt.data instanceof Blob) {\n",
       "            /* FIXME: We get \"Resource interpreted as Image but\n",
       "             * transferred with MIME type text/plain:\" errors on\n",
       "             * Chrome.  But how to set the MIME type?  It doesn't seem\n",
       "             * to be part of the websocket stream */\n",
       "            evt.data.type = \"image/png\";\n",
       "\n",
       "            /* Free the memory for the previous frames */\n",
       "            if (fig.imageObj.src) {\n",
       "                (window.URL || window.webkitURL).revokeObjectURL(\n",
       "                    fig.imageObj.src);\n",
       "            }\n",
       "\n",
       "            fig.imageObj.src = (window.URL || window.webkitURL).createObjectURL(\n",
       "                evt.data);\n",
       "            fig.updated_canvas_event();\n",
       "            fig.waiting = false;\n",
       "            return;\n",
       "        }\n",
       "        else if (typeof evt.data === 'string' && evt.data.slice(0, 21) == \"data:image/png;base64\") {\n",
       "            fig.imageObj.src = evt.data;\n",
       "            fig.updated_canvas_event();\n",
       "            fig.waiting = false;\n",
       "            return;\n",
       "        }\n",
       "\n",
       "        var msg = JSON.parse(evt.data);\n",
       "        var msg_type = msg['type'];\n",
       "\n",
       "        // Call the  \"handle_{type}\" callback, which takes\n",
       "        // the figure and JSON message as its only arguments.\n",
       "        try {\n",
       "            var callback = fig[\"handle_\" + msg_type];\n",
       "        } catch (e) {\n",
       "            console.log(\"No handler for the '\" + msg_type + \"' message type: \", msg);\n",
       "            return;\n",
       "        }\n",
       "\n",
       "        if (callback) {\n",
       "            try {\n",
       "                // console.log(\"Handling '\" + msg_type + \"' message: \", msg);\n",
       "                callback(fig, msg);\n",
       "            } catch (e) {\n",
       "                console.log(\"Exception inside the 'handler_\" + msg_type + \"' callback:\", e, e.stack, msg);\n",
       "            }\n",
       "        }\n",
       "    };\n",
       "}\n",
       "\n",
       "// from http://stackoverflow.com/questions/1114465/getting-mouse-location-in-canvas\n",
       "mpl.findpos = function(e) {\n",
       "    //this section is from http://www.quirksmode.org/js/events_properties.html\n",
       "    var targ;\n",
       "    if (!e)\n",
       "        e = window.event;\n",
       "    if (e.target)\n",
       "        targ = e.target;\n",
       "    else if (e.srcElement)\n",
       "        targ = e.srcElement;\n",
       "    if (targ.nodeType == 3) // defeat Safari bug\n",
       "        targ = targ.parentNode;\n",
       "\n",
       "    // jQuery normalizes the pageX and pageY\n",
       "    // pageX,Y are the mouse positions relative to the document\n",
       "    // offset() returns the position of the element relative to the document\n",
       "    var x = e.pageX - $(targ).offset().left;\n",
       "    var y = e.pageY - $(targ).offset().top;\n",
       "\n",
       "    return {\"x\": x, \"y\": y};\n",
       "};\n",
       "\n",
       "/*\n",
       " * return a copy of an object with only non-object keys\n",
       " * we need this to avoid circular references\n",
       " * http://stackoverflow.com/a/24161582/3208463\n",
       " */\n",
       "function simpleKeys (original) {\n",
       "  return Object.keys(original).reduce(function (obj, key) {\n",
       "    if (typeof original[key] !== 'object')\n",
       "        obj[key] = original[key]\n",
       "    return obj;\n",
       "  }, {});\n",
       "}\n",
       "\n",
       "mpl.figure.prototype.mouse_event = function(event, name) {\n",
       "    var canvas_pos = mpl.findpos(event)\n",
       "\n",
       "    if (name === 'button_press')\n",
       "    {\n",
       "        this.canvas.focus();\n",
       "        this.canvas_div.focus();\n",
       "    }\n",
       "\n",
       "    var x = canvas_pos.x * mpl.ratio;\n",
       "    var y = canvas_pos.y * mpl.ratio;\n",
       "\n",
       "    this.send_message(name, {x: x, y: y, button: event.button,\n",
       "                             step: event.step,\n",
       "                             guiEvent: simpleKeys(event)});\n",
       "\n",
       "    /* This prevents the web browser from automatically changing to\n",
       "     * the text insertion cursor when the button is pressed.  We want\n",
       "     * to control all of the cursor setting manually through the\n",
       "     * 'cursor' event from matplotlib */\n",
       "    event.preventDefault();\n",
       "    return false;\n",
       "}\n",
       "\n",
       "mpl.figure.prototype._key_event_extra = function(event, name) {\n",
       "    // Handle any extra behaviour associated with a key event\n",
       "}\n",
       "\n",
       "mpl.figure.prototype.key_event = function(event, name) {\n",
       "\n",
       "    // Prevent repeat events\n",
       "    if (name == 'key_press')\n",
       "    {\n",
       "        if (event.which === this._key)\n",
       "            return;\n",
       "        else\n",
       "            this._key = event.which;\n",
       "    }\n",
       "    if (name == 'key_release')\n",
       "        this._key = null;\n",
       "\n",
       "    var value = '';\n",
       "    if (event.ctrlKey && event.which != 17)\n",
       "        value += \"ctrl+\";\n",
       "    if (event.altKey && event.which != 18)\n",
       "        value += \"alt+\";\n",
       "    if (event.shiftKey && event.which != 16)\n",
       "        value += \"shift+\";\n",
       "\n",
       "    value += 'k';\n",
       "    value += event.which.toString();\n",
       "\n",
       "    this._key_event_extra(event, name);\n",
       "\n",
       "    this.send_message(name, {key: value,\n",
       "                             guiEvent: simpleKeys(event)});\n",
       "    return false;\n",
       "}\n",
       "\n",
       "mpl.figure.prototype.toolbar_button_onclick = function(name) {\n",
       "    if (name == 'download') {\n",
       "        this.handle_save(this, null);\n",
       "    } else {\n",
       "        this.send_message(\"toolbar_button\", {name: name});\n",
       "    }\n",
       "};\n",
       "\n",
       "mpl.figure.prototype.toolbar_button_onmouseover = function(tooltip) {\n",
       "    this.message.textContent = tooltip;\n",
       "};\n",
       "mpl.toolbar_items = [[\"Home\", \"Reset original view\", \"fa fa-home icon-home\", \"home\"], [\"Back\", \"Back to previous view\", \"fa fa-arrow-left icon-arrow-left\", \"back\"], [\"Forward\", \"Forward to next view\", \"fa fa-arrow-right icon-arrow-right\", \"forward\"], [\"\", \"\", \"\", \"\"], [\"Pan\", \"Pan axes with left mouse, zoom with right\", \"fa fa-arrows icon-move\", \"pan\"], [\"Zoom\", \"Zoom to rectangle\", \"fa fa-square-o icon-check-empty\", \"zoom\"], [\"\", \"\", \"\", \"\"], [\"Download\", \"Download plot\", \"fa fa-floppy-o icon-save\", \"download\"]];\n",
       "\n",
       "mpl.extensions = [\"eps\", \"jpeg\", \"pdf\", \"png\", \"ps\", \"raw\", \"svg\", \"tif\"];\n",
       "\n",
       "mpl.default_extension = \"png\";var comm_websocket_adapter = function(comm) {\n",
       "    // Create a \"websocket\"-like object which calls the given IPython comm\n",
       "    // object with the appropriate methods. Currently this is a non binary\n",
       "    // socket, so there is still some room for performance tuning.\n",
       "    var ws = {};\n",
       "\n",
       "    ws.close = function() {\n",
       "        comm.close()\n",
       "    };\n",
       "    ws.send = function(m) {\n",
       "        //console.log('sending', m);\n",
       "        comm.send(m);\n",
       "    };\n",
       "    // Register the callback with on_msg.\n",
       "    comm.on_msg(function(msg) {\n",
       "        //console.log('receiving', msg['content']['data'], msg);\n",
       "        // Pass the mpl event to the overridden (by mpl) onmessage function.\n",
       "        ws.onmessage(msg['content']['data'])\n",
       "    });\n",
       "    return ws;\n",
       "}\n",
       "\n",
       "mpl.mpl_figure_comm = function(comm, msg) {\n",
       "    // This is the function which gets called when the mpl process\n",
       "    // starts-up an IPython Comm through the \"matplotlib\" channel.\n",
       "\n",
       "    var id = msg.content.data.id;\n",
       "    // Get hold of the div created by the display call when the Comm\n",
       "    // socket was opened in Python.\n",
       "    var element = $(\"#\" + id);\n",
       "    var ws_proxy = comm_websocket_adapter(comm)\n",
       "\n",
       "    function ondownload(figure, format) {\n",
       "        window.open(figure.imageObj.src);\n",
       "    }\n",
       "\n",
       "    var fig = new mpl.figure(id, ws_proxy,\n",
       "                           ondownload,\n",
       "                           element.get(0));\n",
       "\n",
       "    // Call onopen now - mpl needs it, as it is assuming we've passed it a real\n",
       "    // web socket which is closed, not our websocket->open comm proxy.\n",
       "    ws_proxy.onopen();\n",
       "\n",
       "    fig.parent_element = element.get(0);\n",
       "    fig.cell_info = mpl.find_output_cell(\"<div id='\" + id + \"'></div>\");\n",
       "    if (!fig.cell_info) {\n",
       "        console.error(\"Failed to find cell for figure\", id, fig);\n",
       "        return;\n",
       "    }\n",
       "\n",
       "    var output_index = fig.cell_info[2]\n",
       "    var cell = fig.cell_info[0];\n",
       "\n",
       "};\n",
       "\n",
       "mpl.figure.prototype.handle_close = function(fig, msg) {\n",
       "    var width = fig.canvas.width/mpl.ratio\n",
       "    fig.root.unbind('remove')\n",
       "\n",
       "    // Update the output cell to use the data from the current canvas.\n",
       "    fig.push_to_output();\n",
       "    var dataURL = fig.canvas.toDataURL();\n",
       "    // Re-enable the keyboard manager in IPython - without this line, in FF,\n",
       "    // the notebook keyboard shortcuts fail.\n",
       "    IPython.keyboard_manager.enable()\n",
       "    $(fig.parent_element).html('<img src=\"' + dataURL + '\" width=\"' + width + '\">');\n",
       "    fig.close_ws(fig, msg);\n",
       "}\n",
       "\n",
       "mpl.figure.prototype.close_ws = function(fig, msg){\n",
       "    fig.send_message('closing', msg);\n",
       "    // fig.ws.close()\n",
       "}\n",
       "\n",
       "mpl.figure.prototype.push_to_output = function(remove_interactive) {\n",
       "    // Turn the data on the canvas into data in the output cell.\n",
       "    var width = this.canvas.width/mpl.ratio\n",
       "    var dataURL = this.canvas.toDataURL();\n",
       "    this.cell_info[1]['text/html'] = '<img src=\"' + dataURL + '\" width=\"' + width + '\">';\n",
       "}\n",
       "\n",
       "mpl.figure.prototype.updated_canvas_event = function() {\n",
       "    // Tell IPython that the notebook contents must change.\n",
       "    IPython.notebook.set_dirty(true);\n",
       "    this.send_message(\"ack\", {});\n",
       "    var fig = this;\n",
       "    // Wait a second, then push the new image to the DOM so\n",
       "    // that it is saved nicely (might be nice to debounce this).\n",
       "    setTimeout(function () { fig.push_to_output() }, 1000);\n",
       "}\n",
       "\n",
       "mpl.figure.prototype._init_toolbar = function() {\n",
       "    var fig = this;\n",
       "\n",
       "    var nav_element = $('<div/>');\n",
       "    nav_element.attr('style', 'width: 100%');\n",
       "    this.root.append(nav_element);\n",
       "\n",
       "    // Define a callback function for later on.\n",
       "    function toolbar_event(event) {\n",
       "        return fig.toolbar_button_onclick(event['data']);\n",
       "    }\n",
       "    function toolbar_mouse_event(event) {\n",
       "        return fig.toolbar_button_onmouseover(event['data']);\n",
       "    }\n",
       "\n",
       "    for(var toolbar_ind in mpl.toolbar_items){\n",
       "        var name = mpl.toolbar_items[toolbar_ind][0];\n",
       "        var tooltip = mpl.toolbar_items[toolbar_ind][1];\n",
       "        var image = mpl.toolbar_items[toolbar_ind][2];\n",
       "        var method_name = mpl.toolbar_items[toolbar_ind][3];\n",
       "\n",
       "        if (!name) { continue; };\n",
       "\n",
       "        var button = $('<button class=\"btn btn-default\" href=\"#\" title=\"' + name + '\"><i class=\"fa ' + image + ' fa-lg\"></i></button>');\n",
       "        button.click(method_name, toolbar_event);\n",
       "        button.mouseover(tooltip, toolbar_mouse_event);\n",
       "        nav_element.append(button);\n",
       "    }\n",
       "\n",
       "    // Add the status bar.\n",
       "    var status_bar = $('<span class=\"mpl-message\" style=\"text-align:right; float: right;\"/>');\n",
       "    nav_element.append(status_bar);\n",
       "    this.message = status_bar[0];\n",
       "\n",
       "    // Add the close button to the window.\n",
       "    var buttongrp = $('<div class=\"btn-group inline pull-right\"></div>');\n",
       "    var button = $('<button class=\"btn btn-mini btn-primary\" href=\"#\" title=\"Stop Interaction\"><i class=\"fa fa-power-off icon-remove icon-large\"></i></button>');\n",
       "    button.click(function (evt) { fig.handle_close(fig, {}); } );\n",
       "    button.mouseover('Stop Interaction', toolbar_mouse_event);\n",
       "    buttongrp.append(button);\n",
       "    var titlebar = this.root.find($('.ui-dialog-titlebar'));\n",
       "    titlebar.prepend(buttongrp);\n",
       "}\n",
       "\n",
       "mpl.figure.prototype._root_extra_style = function(el){\n",
       "    var fig = this\n",
       "    el.on(\"remove\", function(){\n",
       "\tfig.close_ws(fig, {});\n",
       "    });\n",
       "}\n",
       "\n",
       "mpl.figure.prototype._canvas_extra_style = function(el){\n",
       "    // this is important to make the div 'focusable\n",
       "    el.attr('tabindex', 0)\n",
       "    // reach out to IPython and tell the keyboard manager to turn it's self\n",
       "    // off when our div gets focus\n",
       "\n",
       "    // location in version 3\n",
       "    if (IPython.notebook.keyboard_manager) {\n",
       "        IPython.notebook.keyboard_manager.register_events(el);\n",
       "    }\n",
       "    else {\n",
       "        // location in version 2\n",
       "        IPython.keyboard_manager.register_events(el);\n",
       "    }\n",
       "\n",
       "}\n",
       "\n",
       "mpl.figure.prototype._key_event_extra = function(event, name) {\n",
       "    var manager = IPython.notebook.keyboard_manager;\n",
       "    if (!manager)\n",
       "        manager = IPython.keyboard_manager;\n",
       "\n",
       "    // Check for shift+enter\n",
       "    if (event.shiftKey && event.which == 13) {\n",
       "        this.canvas_div.blur();\n",
       "        // select the cell after this one\n",
       "        var index = IPython.notebook.find_cell_index(this.cell_info[0]);\n",
       "        IPython.notebook.select(index + 1);\n",
       "    }\n",
       "}\n",
       "\n",
       "mpl.figure.prototype.handle_save = function(fig, msg) {\n",
       "    fig.ondownload(fig, null);\n",
       "}\n",
       "\n",
       "\n",
       "mpl.find_output_cell = function(html_output) {\n",
       "    // Return the cell and output element which can be found *uniquely* in the notebook.\n",
       "    // Note - this is a bit hacky, but it is done because the \"notebook_saving.Notebook\"\n",
       "    // IPython event is triggered only after the cells have been serialised, which for\n",
       "    // our purposes (turning an active figure into a static one), is too late.\n",
       "    var cells = IPython.notebook.get_cells();\n",
       "    var ncells = cells.length;\n",
       "    for (var i=0; i<ncells; i++) {\n",
       "        var cell = cells[i];\n",
       "        if (cell.cell_type === 'code'){\n",
       "            for (var j=0; j<cell.output_area.outputs.length; j++) {\n",
       "                var data = cell.output_area.outputs[j];\n",
       "                if (data.data) {\n",
       "                    // IPython >= 3 moved mimebundle to data attribute of output\n",
       "                    data = data.data;\n",
       "                }\n",
       "                if (data['text/html'] == html_output) {\n",
       "                    return [cell, data, j];\n",
       "                }\n",
       "            }\n",
       "        }\n",
       "    }\n",
       "}\n",
       "\n",
       "// Register the function which deals with the matplotlib target/channel.\n",
       "// The kernel may be null if the page has been refreshed.\n",
       "if (IPython.notebook.kernel != null) {\n",
       "    IPython.notebook.kernel.comm_manager.register_target('matplotlib', mpl.mpl_figure_comm);\n",
       "}\n"
      ],
      "text/plain": [
       "<IPython.core.display.Javascript object>"
      ]
     },
     "metadata": {},
     "output_type": "display_data"
    },
    {
     "data": {
      "text/html": [
       "<img src=\"data:image/png;base64,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\" width=\"999.75\">"
      ],
      "text/plain": [
       "<IPython.core.display.HTML object>"
      ]
     },
     "metadata": {},
     "output_type": "display_data"
    }
   ],
   "source": [
    "ax, tax, lax, lines = dual_train_plots()\n",
    "fig = ax.figure\n",
    "plt.tight_layout()"
   ]
  },
  {
   "cell_type": "code",
   "execution_count": 17,
   "metadata": {
    "scrolled": false
   },
   "outputs": [
    {
     "name": "stdout",
     "output_type": "stream",
     "text": [
      "Number of batches: train = 6667, val = 209\n"
     ]
    },
    {
     "data": {
      "application/vnd.jupyter.widget-view+json": {
       "model_id": "4476c1a57bb84d0091229c6482c7f78b",
       "version_major": 2,
       "version_minor": 0
      },
      "text/plain": [
       "HBox(children=(FloatProgress(value=0.0, description='Epochs', layout=Layout(flex='2'), max=150.0, style=Progre…"
      ]
     },
     "metadata": {},
     "output_type": "display_data"
    },
    {
     "name": "stdout",
     "output_type": "stream",
     "text": [
      "Number of batches: train = 6667, val = 209\n"
     ]
    },
    {
     "data": {
      "application/vnd.jupyter.widget-view+json": {
       "model_id": "",
       "version_major": 2,
       "version_minor": 0
      },
      "text/plain": [
       "HBox(children=(FloatProgress(value=0.0, description='Training', layout=Layout(flex='2'), max=6667.0, style=Pro…"
      ]
     },
     "metadata": {},
     "output_type": "display_data"
    },
    {
     "name": "stdout",
     "output_type": "stream",
     "text": [
      "Epoch 0: train=0.749225, val=0.513566, took 605.87 s\n"
     ]
    },
    {
     "data": {
      "application/vnd.jupyter.widget-view+json": {
       "model_id": "",
       "version_major": 2,
       "version_minor": 0
      },
      "text/plain": [
       "HBox(children=(FloatProgress(value=0.0, description='Training', layout=Layout(flex='2'), max=6667.0, style=Pro…"
      ]
     },
     "metadata": {},
     "output_type": "display_data"
    },
    {
     "name": "stdout",
     "output_type": "stream",
     "text": [
      "Epoch 1: train=0.74589, val=0.518658, took 610.7 s\n"
     ]
    },
    {
     "data": {
      "application/vnd.jupyter.widget-view+json": {
       "model_id": "",
       "version_major": 2,
       "version_minor": 0
      },
      "text/plain": [
       "HBox(children=(FloatProgress(value=0.0, description='Training', layout=Layout(flex='2'), max=6667.0, style=Pro…"
      ]
     },
     "metadata": {},
     "output_type": "display_data"
    },
    {
     "name": "stdout",
     "output_type": "stream",
     "text": [
      "Epoch 2: train=0.74488, val=0.515643, took 606.35 s\n"
     ]
    },
    {
     "data": {
      "application/vnd.jupyter.widget-view+json": {
       "model_id": "",
       "version_major": 2,
       "version_minor": 0
      },
      "text/plain": [
       "HBox(children=(FloatProgress(value=0.0, description='Training', layout=Layout(flex='2'), max=6667.0, style=Pro…"
      ]
     },
     "metadata": {},
     "output_type": "display_data"
    },
    {
     "name": "stdout",
     "output_type": "stream",
     "text": [
      "Epoch 3: train=0.744701, val=0.52612, took 605.32 s\n"
     ]
    },
    {
     "data": {
      "application/vnd.jupyter.widget-view+json": {
       "model_id": "",
       "version_major": 2,
       "version_minor": 0
      },
      "text/plain": [
       "HBox(children=(FloatProgress(value=0.0, description='Training', layout=Layout(flex='2'), max=6667.0, style=Pro…"
      ]
     },
     "metadata": {},
     "output_type": "display_data"
    },
    {
     "name": "stdout",
     "output_type": "stream",
     "text": [
      "Epoch 4: train=0.744262, val=0.554262, took 603.28 s\n"
     ]
    },
    {
     "data": {
      "application/vnd.jupyter.widget-view+json": {
       "model_id": "",
       "version_major": 2,
       "version_minor": 0
      },
      "text/plain": [
       "HBox(children=(FloatProgress(value=0.0, description='Training', layout=Layout(flex='2'), max=6667.0, style=Pro…"
      ]
     },
     "metadata": {},
     "output_type": "display_data"
    },
    {
     "name": "stdout",
     "output_type": "stream",
     "text": [
      "Epoch 5: train=0.743742, val=0.510051, took 604.25 s\n"
     ]
    },
    {
     "data": {
      "application/vnd.jupyter.widget-view+json": {
       "model_id": "",
       "version_major": 2,
       "version_minor": 0
      },
      "text/plain": [
       "HBox(children=(FloatProgress(value=0.0, description='Training', layout=Layout(flex='2'), max=6667.0, style=Pro…"
      ]
     },
     "metadata": {},
     "output_type": "display_data"
    },
    {
     "name": "stdout",
     "output_type": "stream",
     "text": [
      "Epoch 6: train=0.745428, val=0.511373, took 605.31 s\n"
     ]
    },
    {
     "data": {
      "application/vnd.jupyter.widget-view+json": {
       "model_id": "",
       "version_major": 2,
       "version_minor": 0
      },
      "text/plain": [
       "HBox(children=(FloatProgress(value=0.0, description='Training', layout=Layout(flex='2'), max=6667.0, style=Pro…"
      ]
     },
     "metadata": {},
     "output_type": "display_data"
    },
    {
     "name": "stdout",
     "output_type": "stream",
     "text": [
      "Epoch 7: train=0.742736, val=0.509789, took 603.82 s\n"
     ]
    },
    {
     "data": {
      "application/vnd.jupyter.widget-view+json": {
       "model_id": "",
       "version_major": 2,
       "version_minor": 0
      },
      "text/plain": [
       "HBox(children=(FloatProgress(value=0.0, description='Training', layout=Layout(flex='2'), max=6667.0, style=Pro…"
      ]
     },
     "metadata": {},
     "output_type": "display_data"
    },
    {
     "name": "stdout",
     "output_type": "stream",
     "text": [
      "Epoch 8: train=0.743874, val=0.65293, took 603.98 s\n"
     ]
    },
    {
     "data": {
      "application/vnd.jupyter.widget-view+json": {
       "model_id": "",
       "version_major": 2,
       "version_minor": 0
      },
      "text/plain": [
       "HBox(children=(FloatProgress(value=0.0, description='Training', layout=Layout(flex='2'), max=6667.0, style=Pro…"
      ]
     },
     "metadata": {},
     "output_type": "display_data"
    },
    {
     "name": "stdout",
     "output_type": "stream",
     "text": [
      "Epoch 9: train=0.743954, val=0.509933, took 605.22 s\n"
     ]
    },
    {
     "data": {
      "application/vnd.jupyter.widget-view+json": {
       "model_id": "",
       "version_major": 2,
       "version_minor": 0
      },
      "text/plain": [
       "HBox(children=(FloatProgress(value=0.0, description='Training', layout=Layout(flex='2'), max=6667.0, style=Pro…"
      ]
     },
     "metadata": {},
     "output_type": "display_data"
    },
    {
     "name": "stdout",
     "output_type": "stream",
     "text": [
      "Epoch 10: train=0.742611, val=0.524093, took 603.61 s\n"
     ]
    },
    {
     "data": {
      "application/vnd.jupyter.widget-view+json": {
       "model_id": "",
       "version_major": 2,
       "version_minor": 0
      },
      "text/plain": [
       "HBox(children=(FloatProgress(value=0.0, description='Training', layout=Layout(flex='2'), max=6667.0, style=Pro…"
      ]
     },
     "metadata": {},
     "output_type": "display_data"
    },
    {
     "name": "stdout",
     "output_type": "stream",
     "text": [
      "Epoch 11: train=0.742095, val=0.534749, took 602.79 s\n"
     ]
    },
    {
     "data": {
      "application/vnd.jupyter.widget-view+json": {
       "model_id": "",
       "version_major": 2,
       "version_minor": 0
      },
      "text/plain": [
       "HBox(children=(FloatProgress(value=0.0, description='Training', layout=Layout(flex='2'), max=6667.0, style=Pro…"
      ]
     },
     "metadata": {},
     "output_type": "display_data"
    },
    {
     "name": "stdout",
     "output_type": "stream",
     "text": [
      "Epoch 12: train=0.742484, val=0.505723, took 603.96 s\n"
     ]
    },
    {
     "data": {
      "application/vnd.jupyter.widget-view+json": {
       "model_id": "",
       "version_major": 2,
       "version_minor": 0
      },
      "text/plain": [
       "HBox(children=(FloatProgress(value=0.0, description='Training', layout=Layout(flex='2'), max=6667.0, style=Pro…"
      ]
     },
     "metadata": {},
     "output_type": "display_data"
    },
    {
     "name": "stdout",
     "output_type": "stream",
     "text": [
      "Epoch 13: train=0.741172, val=0.552137, took 603.7 s\n"
     ]
    },
    {
     "data": {
      "application/vnd.jupyter.widget-view+json": {
       "model_id": "",
       "version_major": 2,
       "version_minor": 0
      },
      "text/plain": [
       "HBox(children=(FloatProgress(value=0.0, description='Training', layout=Layout(flex='2'), max=6667.0, style=Pro…"
      ]
     },
     "metadata": {},
     "output_type": "display_data"
    },
    {
     "name": "stdout",
     "output_type": "stream",
     "text": [
      "Epoch 14: train=0.739725, val=0.514695, took 604.08 s\n"
     ]
    },
    {
     "data": {
      "application/vnd.jupyter.widget-view+json": {
       "model_id": "",
       "version_major": 2,
       "version_minor": 0
      },
      "text/plain": [
       "HBox(children=(FloatProgress(value=0.0, description='Training', layout=Layout(flex='2'), max=6667.0, style=Pro…"
      ]
     },
     "metadata": {},
     "output_type": "display_data"
    },
    {
     "name": "stdout",
     "output_type": "stream",
     "text": [
      "Epoch 15: train=0.741873, val=0.517196, took 603.74 s\n"
     ]
    },
    {
     "data": {
      "application/vnd.jupyter.widget-view+json": {
       "model_id": "",
       "version_major": 2,
       "version_minor": 0
      },
      "text/plain": [
       "HBox(children=(FloatProgress(value=0.0, description='Training', layout=Layout(flex='2'), max=6667.0, style=Pro…"
      ]
     },
     "metadata": {},
     "output_type": "display_data"
    },
    {
     "name": "stdout",
     "output_type": "stream",
     "text": [
      "Epoch 16: train=0.74051, val=0.510495, took 602.66 s\n"
     ]
    },
    {
     "data": {
      "application/vnd.jupyter.widget-view+json": {
       "model_id": "",
       "version_major": 2,
       "version_minor": 0
      },
      "text/plain": [
       "HBox(children=(FloatProgress(value=0.0, description='Training', layout=Layout(flex='2'), max=6667.0, style=Pro…"
      ]
     },
     "metadata": {},
     "output_type": "display_data"
    },
    {
     "name": "stdout",
     "output_type": "stream",
     "text": [
      "Epoch 17: train=0.739333, val=0.513401, took 605.44 s\n"
     ]
    },
    {
     "data": {
      "application/vnd.jupyter.widget-view+json": {
       "model_id": "",
       "version_major": 2,
       "version_minor": 0
      },
      "text/plain": [
       "HBox(children=(FloatProgress(value=0.0, description='Training', layout=Layout(flex='2'), max=6667.0, style=Pro…"
      ]
     },
     "metadata": {},
     "output_type": "display_data"
    },
    {
     "name": "stdout",
     "output_type": "stream",
     "text": [
      "Epoch 18: train=0.739545, val=0.514066, took 603.54 s\n"
     ]
    },
    {
     "data": {
      "application/vnd.jupyter.widget-view+json": {
       "model_id": "",
       "version_major": 2,
       "version_minor": 0
      },
      "text/plain": [
       "HBox(children=(FloatProgress(value=0.0, description='Training', layout=Layout(flex='2'), max=6667.0, style=Pro…"
      ]
     },
     "metadata": {},
     "output_type": "display_data"
    },
    {
     "name": "stdout",
     "output_type": "stream",
     "text": [
      "Epoch 19: train=0.740331, val=0.500545, took 602.77 s\n"
     ]
    },
    {
     "data": {
      "application/vnd.jupyter.widget-view+json": {
       "model_id": "",
       "version_major": 2,
       "version_minor": 0
      },
      "text/plain": [
       "HBox(children=(FloatProgress(value=0.0, description='Training', layout=Layout(flex='2'), max=6667.0, style=Pro…"
      ]
     },
     "metadata": {},
     "output_type": "display_data"
    },
    {
     "name": "stdout",
     "output_type": "stream",
     "text": [
      "Epoch 20: train=0.738498, val=0.512893, took 604.06 s\n"
     ]
    },
    {
     "data": {
      "application/vnd.jupyter.widget-view+json": {
       "model_id": "",
       "version_major": 2,
       "version_minor": 0
      },
      "text/plain": [
       "HBox(children=(FloatProgress(value=0.0, description='Training', layout=Layout(flex='2'), max=6667.0, style=Pro…"
      ]
     },
     "metadata": {},
     "output_type": "display_data"
    },
    {
     "name": "stdout",
     "output_type": "stream",
     "text": [
      "Epoch 21: train=0.73781, val=0.525407, took 604.0 s\n"
     ]
    },
    {
     "data": {
      "application/vnd.jupyter.widget-view+json": {
       "model_id": "",
       "version_major": 2,
       "version_minor": 0
      },
      "text/plain": [
       "HBox(children=(FloatProgress(value=0.0, description='Training', layout=Layout(flex='2'), max=6667.0, style=Pro…"
      ]
     },
     "metadata": {},
     "output_type": "display_data"
    },
    {
     "name": "stdout",
     "output_type": "stream",
     "text": [
      "Epoch 22: train=0.738179, val=0.508429, took 604.25 s\n"
     ]
    },
    {
     "data": {
      "application/vnd.jupyter.widget-view+json": {
       "model_id": "",
       "version_major": 2,
       "version_minor": 0
      },
      "text/plain": [
       "HBox(children=(FloatProgress(value=0.0, description='Training', layout=Layout(flex='2'), max=6667.0, style=Pro…"
      ]
     },
     "metadata": {},
     "output_type": "display_data"
    },
    {
     "name": "stdout",
     "output_type": "stream",
     "text": [
      "Epoch 23: train=0.737948, val=0.513112, took 604.06 s\n"
     ]
    },
    {
     "data": {
      "application/vnd.jupyter.widget-view+json": {
       "model_id": "",
       "version_major": 2,
       "version_minor": 0
      },
      "text/plain": [
       "HBox(children=(FloatProgress(value=0.0, description='Training', layout=Layout(flex='2'), max=6667.0, style=Pro…"
      ]
     },
     "metadata": {},
     "output_type": "display_data"
    },
    {
     "name": "stdout",
     "output_type": "stream",
     "text": [
      "Epoch 24: train=0.737077, val=0.548004, took 602.07 s\n"
     ]
    },
    {
     "data": {
      "application/vnd.jupyter.widget-view+json": {
       "model_id": "",
       "version_major": 2,
       "version_minor": 0
      },
      "text/plain": [
       "HBox(children=(FloatProgress(value=0.0, description='Training', layout=Layout(flex='2'), max=6667.0, style=Pro…"
      ]
     },
     "metadata": {},
     "output_type": "display_data"
    },
    {
     "name": "stdout",
     "output_type": "stream",
     "text": [
      "Epoch 25: train=0.737952, val=0.511132, took 602.91 s\n"
     ]
    },
    {
     "data": {
      "application/vnd.jupyter.widget-view+json": {
       "model_id": "",
       "version_major": 2,
       "version_minor": 0
      },
      "text/plain": [
       "HBox(children=(FloatProgress(value=0.0, description='Training', layout=Layout(flex='2'), max=6667.0, style=Pro…"
      ]
     },
     "metadata": {},
     "output_type": "display_data"
    },
    {
     "name": "stdout",
     "output_type": "stream",
     "text": [
      "Epoch 26: train=0.735637, val=0.604133, took 603.61 s\n"
     ]
    },
    {
     "data": {
      "application/vnd.jupyter.widget-view+json": {
       "model_id": "",
       "version_major": 2,
       "version_minor": 0
      },
      "text/plain": [
       "HBox(children=(FloatProgress(value=0.0, description='Training', layout=Layout(flex='2'), max=6667.0, style=Pro…"
      ]
     },
     "metadata": {},
     "output_type": "display_data"
    },
    {
     "name": "stdout",
     "output_type": "stream",
     "text": [
      "Epoch 27: train=0.735765, val=0.507987, took 602.7 s\n"
     ]
    },
    {
     "data": {
      "application/vnd.jupyter.widget-view+json": {
       "model_id": "",
       "version_major": 2,
       "version_minor": 0
      },
      "text/plain": [
       "HBox(children=(FloatProgress(value=0.0, description='Training', layout=Layout(flex='2'), max=6667.0, style=Pro…"
      ]
     },
     "metadata": {},
     "output_type": "display_data"
    },
    {
     "name": "stdout",
     "output_type": "stream",
     "text": [
      "Epoch 28: train=0.736081, val=0.498533, took 602.78 s\n"
     ]
    },
    {
     "data": {
      "application/vnd.jupyter.widget-view+json": {
       "model_id": "",
       "version_major": 2,
       "version_minor": 0
      },
      "text/plain": [
       "HBox(children=(FloatProgress(value=0.0, description='Training', layout=Layout(flex='2'), max=6667.0, style=Pro…"
      ]
     },
     "metadata": {},
     "output_type": "display_data"
    },
    {
     "name": "stdout",
     "output_type": "stream",
     "text": [
      "Epoch 29: train=0.736317, val=0.507266, took 603.72 s\n"
     ]
    },
    {
     "data": {
      "application/vnd.jupyter.widget-view+json": {
       "model_id": "",
       "version_major": 2,
       "version_minor": 0
      },
      "text/plain": [
       "HBox(children=(FloatProgress(value=0.0, description='Training', layout=Layout(flex='2'), max=6667.0, style=Pro…"
      ]
     },
     "metadata": {},
     "output_type": "display_data"
    },
    {
     "name": "stdout",
     "output_type": "stream",
     "text": [
      "Epoch 30: train=0.733999, val=0.541316, took 601.51 s\n"
     ]
    },
    {
     "data": {
      "application/vnd.jupyter.widget-view+json": {
       "model_id": "",
       "version_major": 2,
       "version_minor": 0
      },
      "text/plain": [
       "HBox(children=(FloatProgress(value=0.0, description='Training', layout=Layout(flex='2'), max=6667.0, style=Pro…"
      ]
     },
     "metadata": {},
     "output_type": "display_data"
    },
    {
     "name": "stdout",
     "output_type": "stream",
     "text": [
      "Epoch 31: train=0.733153, val=0.583684, took 605.23 s\n"
     ]
    },
    {
     "data": {
      "application/vnd.jupyter.widget-view+json": {
       "model_id": "",
       "version_major": 2,
       "version_minor": 0
      },
      "text/plain": [
       "HBox(children=(FloatProgress(value=0.0, description='Training', layout=Layout(flex='2'), max=6667.0, style=Pro…"
      ]
     },
     "metadata": {},
     "output_type": "display_data"
    },
    {
     "name": "stdout",
     "output_type": "stream",
     "text": [
      "Epoch 32: train=0.734724, val=0.496727, took 602.8 s\n"
     ]
    },
    {
     "data": {
      "application/vnd.jupyter.widget-view+json": {
       "model_id": "",
       "version_major": 2,
       "version_minor": 0
      },
      "text/plain": [
       "HBox(children=(FloatProgress(value=0.0, description='Training', layout=Layout(flex='2'), max=6667.0, style=Pro…"
      ]
     },
     "metadata": {},
     "output_type": "display_data"
    },
    {
     "name": "stdout",
     "output_type": "stream",
     "text": [
      "Epoch 33: train=0.733643, val=0.499881, took 617.55 s\n"
     ]
    },
    {
     "data": {
      "application/vnd.jupyter.widget-view+json": {
       "model_id": "",
       "version_major": 2,
       "version_minor": 0
      },
      "text/plain": [
       "HBox(children=(FloatProgress(value=0.0, description='Training', layout=Layout(flex='2'), max=6667.0, style=Pro…"
      ]
     },
     "metadata": {},
     "output_type": "display_data"
    },
    {
     "name": "stdout",
     "output_type": "stream",
     "text": [
      "Epoch 34: train=0.734189, val=0.507338, took 603.01 s\n"
     ]
    },
    {
     "data": {
      "application/vnd.jupyter.widget-view+json": {
       "model_id": "",
       "version_major": 2,
       "version_minor": 0
      },
      "text/plain": [
       "HBox(children=(FloatProgress(value=0.0, description='Training', layout=Layout(flex='2'), max=6667.0, style=Pro…"
      ]
     },
     "metadata": {},
     "output_type": "display_data"
    },
    {
     "name": "stdout",
     "output_type": "stream",
     "text": [
      "Epoch 35: train=0.733348, val=0.508303, took 599.51 s\n"
     ]
    },
    {
     "data": {
      "application/vnd.jupyter.widget-view+json": {
       "model_id": "",
       "version_major": 2,
       "version_minor": 0
      },
      "text/plain": [
       "HBox(children=(FloatProgress(value=0.0, description='Training', layout=Layout(flex='2'), max=6667.0, style=Pro…"
      ]
     },
     "metadata": {},
     "output_type": "display_data"
    },
    {
     "name": "stdout",
     "output_type": "stream",
     "text": [
      "Epoch 36: train=0.733236, val=0.555588, took 599.51 s\n"
     ]
    },
    {
     "data": {
      "application/vnd.jupyter.widget-view+json": {
       "model_id": "",
       "version_major": 2,
       "version_minor": 0
      },
      "text/plain": [
       "HBox(children=(FloatProgress(value=0.0, description='Training', layout=Layout(flex='2'), max=6667.0, style=Pro…"
      ]
     },
     "metadata": {},
     "output_type": "display_data"
    },
    {
     "name": "stdout",
     "output_type": "stream",
     "text": [
      "Epoch 37: train=0.73237, val=0.509252, took 599.25 s\n"
     ]
    },
    {
     "data": {
      "application/vnd.jupyter.widget-view+json": {
       "model_id": "",
       "version_major": 2,
       "version_minor": 0
      },
      "text/plain": [
       "HBox(children=(FloatProgress(value=0.0, description='Training', layout=Layout(flex='2'), max=6667.0, style=Pro…"
      ]
     },
     "metadata": {},
     "output_type": "display_data"
    },
    {
     "name": "stdout",
     "output_type": "stream",
     "text": [
      "Epoch 38: train=0.731694, val=0.507328, took 599.16 s\n"
     ]
    },
    {
     "data": {
      "application/vnd.jupyter.widget-view+json": {
       "model_id": "",
       "version_major": 2,
       "version_minor": 0
      },
      "text/plain": [
       "HBox(children=(FloatProgress(value=0.0, description='Training', layout=Layout(flex='2'), max=6667.0, style=Pro…"
      ]
     },
     "metadata": {},
     "output_type": "display_data"
    },
    {
     "name": "stdout",
     "output_type": "stream",
     "text": [
      "Epoch 39: train=0.730279, val=0.502921, took 599.28 s\n"
     ]
    },
    {
     "data": {
      "application/vnd.jupyter.widget-view+json": {
       "model_id": "",
       "version_major": 2,
       "version_minor": 0
      },
      "text/plain": [
       "HBox(children=(FloatProgress(value=0.0, description='Training', layout=Layout(flex='2'), max=6667.0, style=Pro…"
      ]
     },
     "metadata": {},
     "output_type": "display_data"
    },
    {
     "name": "stdout",
     "output_type": "stream",
     "text": [
      "Epoch 40: train=0.732915, val=0.575988, took 599.48 s\n"
     ]
    },
    {
     "data": {
      "application/vnd.jupyter.widget-view+json": {
       "model_id": "",
       "version_major": 2,
       "version_minor": 0
      },
      "text/plain": [
       "HBox(children=(FloatProgress(value=0.0, description='Training', layout=Layout(flex='2'), max=6667.0, style=Pro…"
      ]
     },
     "metadata": {},
     "output_type": "display_data"
    },
    {
     "name": "stdout",
     "output_type": "stream",
     "text": [
      "Epoch 41: train=0.731499, val=0.523118, took 598.98 s\n"
     ]
    },
    {
     "data": {
      "application/vnd.jupyter.widget-view+json": {
       "model_id": "",
       "version_major": 2,
       "version_minor": 0
      },
      "text/plain": [
       "HBox(children=(FloatProgress(value=0.0, description='Training', layout=Layout(flex='2'), max=6667.0, style=Pro…"
      ]
     },
     "metadata": {},
     "output_type": "display_data"
    },
    {
     "name": "stdout",
     "output_type": "stream",
     "text": [
      "Epoch 42: train=0.729335, val=0.512085, took 599.84 s\n"
     ]
    },
    {
     "data": {
      "application/vnd.jupyter.widget-view+json": {
       "model_id": "",
       "version_major": 2,
       "version_minor": 0
      },
      "text/plain": [
       "HBox(children=(FloatProgress(value=0.0, description='Training', layout=Layout(flex='2'), max=6667.0, style=Pro…"
      ]
     },
     "metadata": {},
     "output_type": "display_data"
    },
    {
     "name": "stdout",
     "output_type": "stream",
     "text": [
      "Epoch 43: train=0.732402, val=0.497615, took 599.47 s\n"
     ]
    },
    {
     "data": {
      "application/vnd.jupyter.widget-view+json": {
       "model_id": "",
       "version_major": 2,
       "version_minor": 0
      },
      "text/plain": [
       "HBox(children=(FloatProgress(value=0.0, description='Training', layout=Layout(flex='2'), max=6667.0, style=Pro…"
      ]
     },
     "metadata": {},
     "output_type": "display_data"
    },
    {
     "name": "stdout",
     "output_type": "stream",
     "text": [
      "Epoch 44: train=0.728162, val=0.496549, took 599.93 s\n"
     ]
    },
    {
     "data": {
      "application/vnd.jupyter.widget-view+json": {
       "model_id": "",
       "version_major": 2,
       "version_minor": 0
      },
      "text/plain": [
       "HBox(children=(FloatProgress(value=0.0, description='Training', layout=Layout(flex='2'), max=6667.0, style=Pro…"
      ]
     },
     "metadata": {},
     "output_type": "display_data"
    },
    {
     "name": "stdout",
     "output_type": "stream",
     "text": [
      "Epoch 45: train=0.731378, val=0.537769, took 597.79 s\n"
     ]
    },
    {
     "data": {
      "application/vnd.jupyter.widget-view+json": {
       "model_id": "",
       "version_major": 2,
       "version_minor": 0
      },
      "text/plain": [
       "HBox(children=(FloatProgress(value=0.0, description='Training', layout=Layout(flex='2'), max=6667.0, style=Pro…"
      ]
     },
     "metadata": {},
     "output_type": "display_data"
    },
    {
     "name": "stdout",
     "output_type": "stream",
     "text": [
      "Epoch 46: train=0.730259, val=0.49399, took 599.7 s\n"
     ]
    },
    {
     "data": {
      "application/vnd.jupyter.widget-view+json": {
       "model_id": "",
       "version_major": 2,
       "version_minor": 0
      },
      "text/plain": [
       "HBox(children=(FloatProgress(value=0.0, description='Training', layout=Layout(flex='2'), max=6667.0, style=Pro…"
      ]
     },
     "metadata": {},
     "output_type": "display_data"
    },
    {
     "name": "stdout",
     "output_type": "stream",
     "text": [
      "Epoch 47: train=0.728781, val=0.490834, took 599.51 s\n"
     ]
    },
    {
     "data": {
      "application/vnd.jupyter.widget-view+json": {
       "model_id": "",
       "version_major": 2,
       "version_minor": 0
      },
      "text/plain": [
       "HBox(children=(FloatProgress(value=0.0, description='Training', layout=Layout(flex='2'), max=6667.0, style=Pro…"
      ]
     },
     "metadata": {},
     "output_type": "display_data"
    },
    {
     "name": "stdout",
     "output_type": "stream",
     "text": [
      "Epoch 48: train=0.727485, val=0.497191, took 599.08 s\n"
     ]
    },
    {
     "data": {
      "application/vnd.jupyter.widget-view+json": {
       "model_id": "",
       "version_major": 2,
       "version_minor": 0
      },
      "text/plain": [
       "HBox(children=(FloatProgress(value=0.0, description='Training', layout=Layout(flex='2'), max=6667.0, style=Pro…"
      ]
     },
     "metadata": {},
     "output_type": "display_data"
    },
    {
     "name": "stdout",
     "output_type": "stream",
     "text": [
      "Epoch 49: train=0.730047, val=0.529295, took 599.45 s\n"
     ]
    },
    {
     "data": {
      "application/vnd.jupyter.widget-view+json": {
       "model_id": "",
       "version_major": 2,
       "version_minor": 0
      },
      "text/plain": [
       "HBox(children=(FloatProgress(value=0.0, description='Training', layout=Layout(flex='2'), max=6667.0, style=Pro…"
      ]
     },
     "metadata": {},
     "output_type": "display_data"
    },
    {
     "name": "stdout",
     "output_type": "stream",
     "text": [
      "Epoch 50: train=0.728899, val=0.503999, took 600.26 s\n"
     ]
    },
    {
     "data": {
      "application/vnd.jupyter.widget-view+json": {
       "model_id": "",
       "version_major": 2,
       "version_minor": 0
      },
      "text/plain": [
       "HBox(children=(FloatProgress(value=0.0, description='Training', layout=Layout(flex='2'), max=6667.0, style=Pro…"
      ]
     },
     "metadata": {},
     "output_type": "display_data"
    },
    {
     "name": "stdout",
     "output_type": "stream",
     "text": [
      "Epoch 51: train=0.72487, val=0.535733, took 598.84 s\n"
     ]
    },
    {
     "data": {
      "application/vnd.jupyter.widget-view+json": {
       "model_id": "",
       "version_major": 2,
       "version_minor": 0
      },
      "text/plain": [
       "HBox(children=(FloatProgress(value=0.0, description='Training', layout=Layout(flex='2'), max=6667.0, style=Pro…"
      ]
     },
     "metadata": {},
     "output_type": "display_data"
    },
    {
     "name": "stdout",
     "output_type": "stream",
     "text": [
      "Epoch 52: train=0.727917, val=0.554474, took 599.81 s\n"
     ]
    },
    {
     "data": {
      "application/vnd.jupyter.widget-view+json": {
       "model_id": "",
       "version_major": 2,
       "version_minor": 0
      },
      "text/plain": [
       "HBox(children=(FloatProgress(value=0.0, description='Training', layout=Layout(flex='2'), max=6667.0, style=Pro…"
      ]
     },
     "metadata": {},
     "output_type": "display_data"
    },
    {
     "name": "stdout",
     "output_type": "stream",
     "text": [
      "Epoch 53: train=0.727579, val=0.506973, took 599.03 s\n"
     ]
    },
    {
     "data": {
      "application/vnd.jupyter.widget-view+json": {
       "model_id": "",
       "version_major": 2,
       "version_minor": 0
      },
      "text/plain": [
       "HBox(children=(FloatProgress(value=0.0, description='Training', layout=Layout(flex='2'), max=6667.0, style=Pro…"
      ]
     },
     "metadata": {},
     "output_type": "display_data"
    },
    {
     "name": "stdout",
     "output_type": "stream",
     "text": [
      "Epoch 54: train=0.726666, val=0.509174, took 600.7 s\n"
     ]
    },
    {
     "data": {
      "application/vnd.jupyter.widget-view+json": {
       "model_id": "",
       "version_major": 2,
       "version_minor": 0
      },
      "text/plain": [
       "HBox(children=(FloatProgress(value=0.0, description='Training', layout=Layout(flex='2'), max=6667.0, style=Pro…"
      ]
     },
     "metadata": {},
     "output_type": "display_data"
    },
    {
     "name": "stdout",
     "output_type": "stream",
     "text": [
      "Epoch 55: train=0.726338, val=0.528377, took 597.22 s\n"
     ]
    },
    {
     "data": {
      "application/vnd.jupyter.widget-view+json": {
       "model_id": "",
       "version_major": 2,
       "version_minor": 0
      },
      "text/plain": [
       "HBox(children=(FloatProgress(value=0.0, description='Training', layout=Layout(flex='2'), max=6667.0, style=Pro…"
      ]
     },
     "metadata": {},
     "output_type": "display_data"
    },
    {
     "name": "stdout",
     "output_type": "stream",
     "text": [
      "Epoch 56: train=0.725956, val=0.495555, took 599.52 s\n"
     ]
    },
    {
     "data": {
      "application/vnd.jupyter.widget-view+json": {
       "model_id": "",
       "version_major": 2,
       "version_minor": 0
      },
      "text/plain": [
       "HBox(children=(FloatProgress(value=0.0, description='Training', layout=Layout(flex='2'), max=6667.0, style=Pro…"
      ]
     },
     "metadata": {},
     "output_type": "display_data"
    },
    {
     "name": "stdout",
     "output_type": "stream",
     "text": [
      "Epoch 57: train=0.725655, val=0.512075, took 599.4 s\n"
     ]
    },
    {
     "data": {
      "application/vnd.jupyter.widget-view+json": {
       "model_id": "",
       "version_major": 2,
       "version_minor": 0
      },
      "text/plain": [
       "HBox(children=(FloatProgress(value=0.0, description='Training', layout=Layout(flex='2'), max=6667.0, style=Pro…"
      ]
     },
     "metadata": {},
     "output_type": "display_data"
    },
    {
     "name": "stdout",
     "output_type": "stream",
     "text": [
      "Epoch 58: train=0.724074, val=0.544921, took 599.47 s\n"
     ]
    },
    {
     "data": {
      "application/vnd.jupyter.widget-view+json": {
       "model_id": "",
       "version_major": 2,
       "version_minor": 0
      },
      "text/plain": [
       "HBox(children=(FloatProgress(value=0.0, description='Training', layout=Layout(flex='2'), max=6667.0, style=Pro…"
      ]
     },
     "metadata": {},
     "output_type": "display_data"
    },
    {
     "name": "stdout",
     "output_type": "stream",
     "text": [
      "Epoch 59: train=0.725827, val=0.499724, took 599.7 s\n"
     ]
    },
    {
     "data": {
      "application/vnd.jupyter.widget-view+json": {
       "model_id": "",
       "version_major": 2,
       "version_minor": 0
      },
      "text/plain": [
       "HBox(children=(FloatProgress(value=0.0, description='Training', layout=Layout(flex='2'), max=6667.0, style=Pro…"
      ]
     },
     "metadata": {},
     "output_type": "display_data"
    },
    {
     "name": "stdout",
     "output_type": "stream",
     "text": [
      "Epoch 60: train=0.726464, val=0.632621, took 600.16 s\n"
     ]
    },
    {
     "data": {
      "application/vnd.jupyter.widget-view+json": {
       "model_id": "",
       "version_major": 2,
       "version_minor": 0
      },
      "text/plain": [
       "HBox(children=(FloatProgress(value=0.0, description='Training', layout=Layout(flex='2'), max=6667.0, style=Pro…"
      ]
     },
     "metadata": {},
     "output_type": "display_data"
    },
    {
     "name": "stdout",
     "output_type": "stream",
     "text": [
      "Epoch 61: train=0.724648, val=0.528289, took 599.38 s\n"
     ]
    },
    {
     "data": {
      "application/vnd.jupyter.widget-view+json": {
       "model_id": "",
       "version_major": 2,
       "version_minor": 0
      },
      "text/plain": [
       "HBox(children=(FloatProgress(value=0.0, description='Training', layout=Layout(flex='2'), max=6667.0, style=Pro…"
      ]
     },
     "metadata": {},
     "output_type": "display_data"
    },
    {
     "name": "stdout",
     "output_type": "stream",
     "text": [
      "Epoch 62: train=0.724599, val=0.543068, took 599.3 s\n"
     ]
    },
    {
     "data": {
      "application/vnd.jupyter.widget-view+json": {
       "model_id": "",
       "version_major": 2,
       "version_minor": 0
      },
      "text/plain": [
       "HBox(children=(FloatProgress(value=0.0, description='Training', layout=Layout(flex='2'), max=6667.0, style=Pro…"
      ]
     },
     "metadata": {},
     "output_type": "display_data"
    },
    {
     "name": "stdout",
     "output_type": "stream",
     "text": [
      "Epoch 63: train=0.724943, val=0.499828, took 598.49 s\n"
     ]
    },
    {
     "data": {
      "application/vnd.jupyter.widget-view+json": {
       "model_id": "",
       "version_major": 2,
       "version_minor": 0
      },
      "text/plain": [
       "HBox(children=(FloatProgress(value=0.0, description='Training', layout=Layout(flex='2'), max=6667.0, style=Pro…"
      ]
     },
     "metadata": {},
     "output_type": "display_data"
    },
    {
     "name": "stdout",
     "output_type": "stream",
     "text": [
      "Epoch 64: train=0.724726, val=0.489875, took 598.65 s\n"
     ]
    },
    {
     "data": {
      "application/vnd.jupyter.widget-view+json": {
       "model_id": "",
       "version_major": 2,
       "version_minor": 0
      },
      "text/plain": [
       "HBox(children=(FloatProgress(value=0.0, description='Training', layout=Layout(flex='2'), max=6667.0, style=Pro…"
      ]
     },
     "metadata": {},
     "output_type": "display_data"
    },
    {
     "name": "stdout",
     "output_type": "stream",
     "text": [
      "Epoch 65: train=0.720371, val=0.494571, took 600.05 s\n"
     ]
    },
    {
     "data": {
      "application/vnd.jupyter.widget-view+json": {
       "model_id": "",
       "version_major": 2,
       "version_minor": 0
      },
      "text/plain": [
       "HBox(children=(FloatProgress(value=0.0, description='Training', layout=Layout(flex='2'), max=6667.0, style=Pro…"
      ]
     },
     "metadata": {},
     "output_type": "display_data"
    },
    {
     "name": "stdout",
     "output_type": "stream",
     "text": [
      "Epoch 66: train=0.723271, val=0.493025, took 600.0 s\n"
     ]
    },
    {
     "data": {
      "application/vnd.jupyter.widget-view+json": {
       "model_id": "",
       "version_major": 2,
       "version_minor": 0
      },
      "text/plain": [
       "HBox(children=(FloatProgress(value=0.0, description='Training', layout=Layout(flex='2'), max=6667.0, style=Pro…"
      ]
     },
     "metadata": {},
     "output_type": "display_data"
    },
    {
     "name": "stdout",
     "output_type": "stream",
     "text": [
      "Epoch 67: train=0.721909, val=0.539907, took 599.48 s\n"
     ]
    },
    {
     "data": {
      "application/vnd.jupyter.widget-view+json": {
       "model_id": "",
       "version_major": 2,
       "version_minor": 0
      },
      "text/plain": [
       "HBox(children=(FloatProgress(value=0.0, description='Training', layout=Layout(flex='2'), max=6667.0, style=Pro…"
      ]
     },
     "metadata": {},
     "output_type": "display_data"
    },
    {
     "name": "stdout",
     "output_type": "stream",
     "text": [
      "Epoch 68: train=0.72204, val=0.500989, took 599.37 s\n"
     ]
    },
    {
     "data": {
      "application/vnd.jupyter.widget-view+json": {
       "model_id": "",
       "version_major": 2,
       "version_minor": 0
      },
      "text/plain": [
       "HBox(children=(FloatProgress(value=0.0, description='Training', layout=Layout(flex='2'), max=6667.0, style=Pro…"
      ]
     },
     "metadata": {},
     "output_type": "display_data"
    },
    {
     "name": "stdout",
     "output_type": "stream",
     "text": [
      "Epoch 69: train=0.721184, val=0.49245, took 599.2 s\n"
     ]
    },
    {
     "data": {
      "application/vnd.jupyter.widget-view+json": {
       "model_id": "",
       "version_major": 2,
       "version_minor": 0
      },
      "text/plain": [
       "HBox(children=(FloatProgress(value=0.0, description='Training', layout=Layout(flex='2'), max=6667.0, style=Pro…"
      ]
     },
     "metadata": {},
     "output_type": "display_data"
    },
    {
     "name": "stdout",
     "output_type": "stream",
     "text": [
      "Epoch 70: train=0.722159, val=0.489414, took 599.18 s\n"
     ]
    },
    {
     "data": {
      "application/vnd.jupyter.widget-view+json": {
       "model_id": "",
       "version_major": 2,
       "version_minor": 0
      },
      "text/plain": [
       "HBox(children=(FloatProgress(value=0.0, description='Training', layout=Layout(flex='2'), max=6667.0, style=Pro…"
      ]
     },
     "metadata": {},
     "output_type": "display_data"
    },
    {
     "name": "stdout",
     "output_type": "stream",
     "text": [
      "Epoch 71: train=0.719341, val=0.491158, took 600.03 s\n"
     ]
    },
    {
     "data": {
      "application/vnd.jupyter.widget-view+json": {
       "model_id": "",
       "version_major": 2,
       "version_minor": 0
      },
      "text/plain": [
       "HBox(children=(FloatProgress(value=0.0, description='Training', layout=Layout(flex='2'), max=6667.0, style=Pro…"
      ]
     },
     "metadata": {},
     "output_type": "display_data"
    },
    {
     "name": "stdout",
     "output_type": "stream",
     "text": [
      "Epoch 72: train=0.718999, val=0.492042, took 599.3 s\n"
     ]
    },
    {
     "data": {
      "application/vnd.jupyter.widget-view+json": {
       "model_id": "",
       "version_major": 2,
       "version_minor": 0
      },
      "text/plain": [
       "HBox(children=(FloatProgress(value=0.0, description='Training', layout=Layout(flex='2'), max=6667.0, style=Pro…"
      ]
     },
     "metadata": {},
     "output_type": "display_data"
    },
    {
     "name": "stdout",
     "output_type": "stream",
     "text": [
      "Epoch 73: train=0.720156, val=0.548522, took 598.72 s\n"
     ]
    },
    {
     "data": {
      "application/vnd.jupyter.widget-view+json": {
       "model_id": "",
       "version_major": 2,
       "version_minor": 0
      },
      "text/plain": [
       "HBox(children=(FloatProgress(value=0.0, description='Training', layout=Layout(flex='2'), max=6667.0, style=Pro…"
      ]
     },
     "metadata": {},
     "output_type": "display_data"
    },
    {
     "name": "stdout",
     "output_type": "stream",
     "text": [
      "Epoch 74: train=0.721385, val=0.497126, took 600.53 s\n"
     ]
    },
    {
     "data": {
      "application/vnd.jupyter.widget-view+json": {
       "model_id": "",
       "version_major": 2,
       "version_minor": 0
      },
      "text/plain": [
       "HBox(children=(FloatProgress(value=0.0, description='Training', layout=Layout(flex='2'), max=6667.0, style=Pro…"
      ]
     },
     "metadata": {},
     "output_type": "display_data"
    },
    {
     "name": "stdout",
     "output_type": "stream",
     "text": [
      "Epoch 75: train=0.718265, val=0.508273, took 598.55 s\n"
     ]
    },
    {
     "data": {
      "application/vnd.jupyter.widget-view+json": {
       "model_id": "",
       "version_major": 2,
       "version_minor": 0
      },
      "text/plain": [
       "HBox(children=(FloatProgress(value=0.0, description='Training', layout=Layout(flex='2'), max=6667.0, style=Pro…"
      ]
     },
     "metadata": {},
     "output_type": "display_data"
    },
    {
     "name": "stdout",
     "output_type": "stream",
     "text": [
      "Epoch 76: train=0.720258, val=0.48935, took 599.46 s\n"
     ]
    },
    {
     "data": {
      "application/vnd.jupyter.widget-view+json": {
       "model_id": "",
       "version_major": 2,
       "version_minor": 0
      },
      "text/plain": [
       "HBox(children=(FloatProgress(value=0.0, description='Training', layout=Layout(flex='2'), max=6667.0, style=Pro…"
      ]
     },
     "metadata": {},
     "output_type": "display_data"
    },
    {
     "name": "stdout",
     "output_type": "stream",
     "text": [
      "Epoch 77: train=0.718749, val=0.503616, took 598.48 s\n"
     ]
    },
    {
     "data": {
      "application/vnd.jupyter.widget-view+json": {
       "model_id": "",
       "version_major": 2,
       "version_minor": 0
      },
      "text/plain": [
       "HBox(children=(FloatProgress(value=0.0, description='Training', layout=Layout(flex='2'), max=6667.0, style=Pro…"
      ]
     },
     "metadata": {},
     "output_type": "display_data"
    },
    {
     "name": "stdout",
     "output_type": "stream",
     "text": [
      "Epoch 78: train=0.717136, val=0.487526, took 598.87 s\n"
     ]
    },
    {
     "data": {
      "application/vnd.jupyter.widget-view+json": {
       "model_id": "",
       "version_major": 2,
       "version_minor": 0
      },
      "text/plain": [
       "HBox(children=(FloatProgress(value=0.0, description='Training', layout=Layout(flex='2'), max=6667.0, style=Pro…"
      ]
     },
     "metadata": {},
     "output_type": "display_data"
    },
    {
     "name": "stdout",
     "output_type": "stream",
     "text": [
      "Epoch 79: train=0.719405, val=0.487262, took 599.55 s\n"
     ]
    },
    {
     "data": {
      "application/vnd.jupyter.widget-view+json": {
       "model_id": "",
       "version_major": 2,
       "version_minor": 0
      },
      "text/plain": [
       "HBox(children=(FloatProgress(value=0.0, description='Training', layout=Layout(flex='2'), max=6667.0, style=Pro…"
      ]
     },
     "metadata": {},
     "output_type": "display_data"
    },
    {
     "name": "stdout",
     "output_type": "stream",
     "text": [
      "Epoch 80: train=0.716656, val=0.537605, took 598.89 s\n"
     ]
    },
    {
     "data": {
      "application/vnd.jupyter.widget-view+json": {
       "model_id": "",
       "version_major": 2,
       "version_minor": 0
      },
      "text/plain": [
       "HBox(children=(FloatProgress(value=0.0, description='Training', layout=Layout(flex='2'), max=6667.0, style=Pro…"
      ]
     },
     "metadata": {},
     "output_type": "display_data"
    },
    {
     "name": "stdout",
     "output_type": "stream",
     "text": [
      "Epoch 81: train=0.715823, val=0.495572, took 599.62 s\n"
     ]
    },
    {
     "data": {
      "application/vnd.jupyter.widget-view+json": {
       "model_id": "",
       "version_major": 2,
       "version_minor": 0
      },
      "text/plain": [
       "HBox(children=(FloatProgress(value=0.0, description='Training', layout=Layout(flex='2'), max=6667.0, style=Pro…"
      ]
     },
     "metadata": {},
     "output_type": "display_data"
    },
    {
     "name": "stdout",
     "output_type": "stream",
     "text": [
      "Epoch 82: train=0.71912, val=0.486469, took 600.14 s\n"
     ]
    },
    {
     "data": {
      "application/vnd.jupyter.widget-view+json": {
       "model_id": "",
       "version_major": 2,
       "version_minor": 0
      },
      "text/plain": [
       "HBox(children=(FloatProgress(value=0.0, description='Training', layout=Layout(flex='2'), max=6667.0, style=Pro…"
      ]
     },
     "metadata": {},
     "output_type": "display_data"
    },
    {
     "name": "stdout",
     "output_type": "stream",
     "text": [
      "Epoch 83: train=0.716113, val=0.49103, took 598.76 s\n"
     ]
    },
    {
     "data": {
      "application/vnd.jupyter.widget-view+json": {
       "model_id": "",
       "version_major": 2,
       "version_minor": 0
      },
      "text/plain": [
       "HBox(children=(FloatProgress(value=0.0, description='Training', layout=Layout(flex='2'), max=6667.0, style=Pro…"
      ]
     },
     "metadata": {},
     "output_type": "display_data"
    },
    {
     "name": "stdout",
     "output_type": "stream",
     "text": [
      "Epoch 84: train=0.716198, val=0.625182, took 599.96 s\n"
     ]
    },
    {
     "data": {
      "application/vnd.jupyter.widget-view+json": {
       "model_id": "",
       "version_major": 2,
       "version_minor": 0
      },
      "text/plain": [
       "HBox(children=(FloatProgress(value=0.0, description='Training', layout=Layout(flex='2'), max=6667.0, style=Pro…"
      ]
     },
     "metadata": {},
     "output_type": "display_data"
    },
    {
     "name": "stdout",
     "output_type": "stream",
     "text": [
      "Epoch 85: train=0.716157, val=0.494837, took 599.02 s\n"
     ]
    },
    {
     "data": {
      "application/vnd.jupyter.widget-view+json": {
       "model_id": "",
       "version_major": 2,
       "version_minor": 0
      },
      "text/plain": [
       "HBox(children=(FloatProgress(value=0.0, description='Training', layout=Layout(flex='2'), max=6667.0, style=Pro…"
      ]
     },
     "metadata": {},
     "output_type": "display_data"
    },
    {
     "name": "stdout",
     "output_type": "stream",
     "text": [
      "Epoch 86: train=0.716911, val=0.485406, took 599.09 s\n"
     ]
    },
    {
     "data": {
      "application/vnd.jupyter.widget-view+json": {
       "model_id": "",
       "version_major": 2,
       "version_minor": 0
      },
      "text/plain": [
       "HBox(children=(FloatProgress(value=0.0, description='Training', layout=Layout(flex='2'), max=6667.0, style=Pro…"
      ]
     },
     "metadata": {},
     "output_type": "display_data"
    },
    {
     "name": "stdout",
     "output_type": "stream",
     "text": [
      "Epoch 87: train=0.715363, val=0.51105, took 598.94 s\n"
     ]
    },
    {
     "data": {
      "application/vnd.jupyter.widget-view+json": {
       "model_id": "",
       "version_major": 2,
       "version_minor": 0
      },
      "text/plain": [
       "HBox(children=(FloatProgress(value=0.0, description='Training', layout=Layout(flex='2'), max=6667.0, style=Pro…"
      ]
     },
     "metadata": {},
     "output_type": "display_data"
    },
    {
     "name": "stdout",
     "output_type": "stream",
     "text": [
      "Epoch 88: train=0.714573, val=0.50651, took 600.69 s\n"
     ]
    },
    {
     "data": {
      "application/vnd.jupyter.widget-view+json": {
       "model_id": "",
       "version_major": 2,
       "version_minor": 0
      },
      "text/plain": [
       "HBox(children=(FloatProgress(value=0.0, description='Training', layout=Layout(flex='2'), max=6667.0, style=Pro…"
      ]
     },
     "metadata": {},
     "output_type": "display_data"
    },
    {
     "name": "stdout",
     "output_type": "stream",
     "text": [
      "Epoch 89: train=0.715099, val=0.510858, took 599.42 s\n"
     ]
    },
    {
     "data": {
      "application/vnd.jupyter.widget-view+json": {
       "model_id": "",
       "version_major": 2,
       "version_minor": 0
      },
      "text/plain": [
       "HBox(children=(FloatProgress(value=0.0, description='Training', layout=Layout(flex='2'), max=6667.0, style=Pro…"
      ]
     },
     "metadata": {},
     "output_type": "display_data"
    },
    {
     "name": "stdout",
     "output_type": "stream",
     "text": [
      "Epoch 90: train=0.711725, val=0.572088, took 599.15 s\n"
     ]
    },
    {
     "data": {
      "application/vnd.jupyter.widget-view+json": {
       "model_id": "",
       "version_major": 2,
       "version_minor": 0
      },
      "text/plain": [
       "HBox(children=(FloatProgress(value=0.0, description='Training', layout=Layout(flex='2'), max=6667.0, style=Pro…"
      ]
     },
     "metadata": {},
     "output_type": "display_data"
    },
    {
     "name": "stdout",
     "output_type": "stream",
     "text": [
      "Epoch 91: train=0.713903, val=0.545931, took 599.54 s\n"
     ]
    },
    {
     "data": {
      "application/vnd.jupyter.widget-view+json": {
       "model_id": "",
       "version_major": 2,
       "version_minor": 0
      },
      "text/plain": [
       "HBox(children=(FloatProgress(value=0.0, description='Training', layout=Layout(flex='2'), max=6667.0, style=Pro…"
      ]
     },
     "metadata": {},
     "output_type": "display_data"
    },
    {
     "name": "stdout",
     "output_type": "stream",
     "text": [
      "Epoch 92: train=0.713369, val=0.535184, took 599.33 s\n"
     ]
    },
    {
     "data": {
      "application/vnd.jupyter.widget-view+json": {
       "model_id": "",
       "version_major": 2,
       "version_minor": 0
      },
      "text/plain": [
       "HBox(children=(FloatProgress(value=0.0, description='Training', layout=Layout(flex='2'), max=6667.0, style=Pro…"
      ]
     },
     "metadata": {},
     "output_type": "display_data"
    },
    {
     "name": "stdout",
     "output_type": "stream",
     "text": [
      "Epoch 93: train=0.71288, val=0.489545, took 599.04 s\n"
     ]
    },
    {
     "data": {
      "application/vnd.jupyter.widget-view+json": {
       "model_id": "",
       "version_major": 2,
       "version_minor": 0
      },
      "text/plain": [
       "HBox(children=(FloatProgress(value=0.0, description='Training', layout=Layout(flex='2'), max=6667.0, style=Pro…"
      ]
     },
     "metadata": {},
     "output_type": "display_data"
    },
    {
     "name": "stdout",
     "output_type": "stream",
     "text": [
      "Epoch 94: train=0.711114, val=0.486732, took 598.92 s\n"
     ]
    },
    {
     "data": {
      "application/vnd.jupyter.widget-view+json": {
       "model_id": "",
       "version_major": 2,
       "version_minor": 0
      },
      "text/plain": [
       "HBox(children=(FloatProgress(value=0.0, description='Training', layout=Layout(flex='2'), max=6667.0, style=Pro…"
      ]
     },
     "metadata": {},
     "output_type": "display_data"
    },
    {
     "name": "stdout",
     "output_type": "stream",
     "text": [
      "Epoch 95: train=0.713525, val=0.483073, took 599.26 s\n"
     ]
    },
    {
     "data": {
      "application/vnd.jupyter.widget-view+json": {
       "model_id": "",
       "version_major": 2,
       "version_minor": 0
      },
      "text/plain": [
       "HBox(children=(FloatProgress(value=0.0, description='Training', layout=Layout(flex='2'), max=6667.0, style=Pro…"
      ]
     },
     "metadata": {},
     "output_type": "display_data"
    },
    {
     "name": "stdout",
     "output_type": "stream",
     "text": [
      "Epoch 96: train=0.713209, val=0.51171, took 599.24 s\n"
     ]
    },
    {
     "data": {
      "application/vnd.jupyter.widget-view+json": {
       "model_id": "",
       "version_major": 2,
       "version_minor": 0
      },
      "text/plain": [
       "HBox(children=(FloatProgress(value=0.0, description='Training', layout=Layout(flex='2'), max=6667.0, style=Pro…"
      ]
     },
     "metadata": {},
     "output_type": "display_data"
    },
    {
     "name": "stdout",
     "output_type": "stream",
     "text": [
      "Epoch 97: train=0.71315, val=0.486796, took 598.46 s\n"
     ]
    },
    {
     "data": {
      "application/vnd.jupyter.widget-view+json": {
       "model_id": "",
       "version_major": 2,
       "version_minor": 0
      },
      "text/plain": [
       "HBox(children=(FloatProgress(value=0.0, description='Training', layout=Layout(flex='2'), max=6667.0, style=Pro…"
      ]
     },
     "metadata": {},
     "output_type": "display_data"
    },
    {
     "name": "stdout",
     "output_type": "stream",
     "text": [
      "Epoch 98: train=0.711797, val=0.484944, took 598.95 s\n"
     ]
    },
    {
     "data": {
      "application/vnd.jupyter.widget-view+json": {
       "model_id": "",
       "version_major": 2,
       "version_minor": 0
      },
      "text/plain": [
       "HBox(children=(FloatProgress(value=0.0, description='Training', layout=Layout(flex='2'), max=6667.0, style=Pro…"
      ]
     },
     "metadata": {},
     "output_type": "display_data"
    },
    {
     "name": "stdout",
     "output_type": "stream",
     "text": [
      "Epoch 99: train=0.712274, val=0.518247, took 599.0 s\n"
     ]
    },
    {
     "data": {
      "application/vnd.jupyter.widget-view+json": {
       "model_id": "",
       "version_major": 2,
       "version_minor": 0
      },
      "text/plain": [
       "HBox(children=(FloatProgress(value=0.0, description='Training', layout=Layout(flex='2'), max=6667.0, style=Pro…"
      ]
     },
     "metadata": {},
     "output_type": "display_data"
    },
    {
     "name": "stdout",
     "output_type": "stream",
     "text": [
      "Epoch 100: train=0.711467, val=0.488393, took 598.82 s\n"
     ]
    },
    {
     "data": {
      "application/vnd.jupyter.widget-view+json": {
       "model_id": "",
       "version_major": 2,
       "version_minor": 0
      },
      "text/plain": [
       "HBox(children=(FloatProgress(value=0.0, description='Training', layout=Layout(flex='2'), max=6667.0, style=Pro…"
      ]
     },
     "metadata": {},
     "output_type": "display_data"
    },
    {
     "name": "stdout",
     "output_type": "stream",
     "text": [
      "Epoch 101: train=0.713016, val=0.483158, took 599.31 s\n"
     ]
    },
    {
     "data": {
      "application/vnd.jupyter.widget-view+json": {
       "model_id": "",
       "version_major": 2,
       "version_minor": 0
      },
      "text/plain": [
       "HBox(children=(FloatProgress(value=0.0, description='Training', layout=Layout(flex='2'), max=6667.0, style=Pro…"
      ]
     },
     "metadata": {},
     "output_type": "display_data"
    },
    {
     "name": "stdout",
     "output_type": "stream",
     "text": [
      "Epoch 102: train=0.710825, val=0.47936, took 599.04 s\n"
     ]
    },
    {
     "data": {
      "application/vnd.jupyter.widget-view+json": {
       "model_id": "",
       "version_major": 2,
       "version_minor": 0
      },
      "text/plain": [
       "HBox(children=(FloatProgress(value=0.0, description='Training', layout=Layout(flex='2'), max=6667.0, style=Pro…"
      ]
     },
     "metadata": {},
     "output_type": "display_data"
    },
    {
     "name": "stdout",
     "output_type": "stream",
     "text": [
      "Epoch 103: train=0.709471, val=0.483518, took 598.78 s\n"
     ]
    },
    {
     "data": {
      "application/vnd.jupyter.widget-view+json": {
       "model_id": "",
       "version_major": 2,
       "version_minor": 0
      },
      "text/plain": [
       "HBox(children=(FloatProgress(value=0.0, description='Training', layout=Layout(flex='2'), max=6667.0, style=Pro…"
      ]
     },
     "metadata": {},
     "output_type": "display_data"
    },
    {
     "name": "stdout",
     "output_type": "stream",
     "text": [
      "Epoch 104: train=0.709355, val=0.512606, took 642.97 s\n"
     ]
    },
    {
     "data": {
      "application/vnd.jupyter.widget-view+json": {
       "model_id": "",
       "version_major": 2,
       "version_minor": 0
      },
      "text/plain": [
       "HBox(children=(FloatProgress(value=0.0, description='Training', layout=Layout(flex='2'), max=6667.0, style=Pro…"
      ]
     },
     "metadata": {},
     "output_type": "display_data"
    },
    {
     "name": "stdout",
     "output_type": "stream",
     "text": [
      "Epoch 105: train=0.710079, val=0.497008, took 1301.9 s\n"
     ]
    },
    {
     "data": {
      "application/vnd.jupyter.widget-view+json": {
       "model_id": "",
       "version_major": 2,
       "version_minor": 0
      },
      "text/plain": [
       "HBox(children=(FloatProgress(value=0.0, description='Training', layout=Layout(flex='2'), max=6667.0, style=Pro…"
      ]
     },
     "metadata": {},
     "output_type": "display_data"
    },
    {
     "name": "stdout",
     "output_type": "stream",
     "text": [
      "Epoch 106: train=0.711581, val=0.502892, took 1309.1 s\n"
     ]
    },
    {
     "data": {
      "application/vnd.jupyter.widget-view+json": {
       "model_id": "",
       "version_major": 2,
       "version_minor": 0
      },
      "text/plain": [
       "HBox(children=(FloatProgress(value=0.0, description='Training', layout=Layout(flex='2'), max=6667.0, style=Pro…"
      ]
     },
     "metadata": {},
     "output_type": "display_data"
    },
    {
     "name": "stdout",
     "output_type": "stream",
     "text": [
      "Epoch 107: train=0.710314, val=0.486247, took 1310.0 s\n"
     ]
    },
    {
     "data": {
      "application/vnd.jupyter.widget-view+json": {
       "model_id": "",
       "version_major": 2,
       "version_minor": 0
      },
      "text/plain": [
       "HBox(children=(FloatProgress(value=0.0, description='Training', layout=Layout(flex='2'), max=6667.0, style=Pro…"
      ]
     },
     "metadata": {},
     "output_type": "display_data"
    },
    {
     "name": "stdout",
     "output_type": "stream",
     "text": [
      "Epoch 108: train=0.707532, val=0.484252, took 1309.6 s\n"
     ]
    },
    {
     "data": {
      "application/vnd.jupyter.widget-view+json": {
       "model_id": "",
       "version_major": 2,
       "version_minor": 0
      },
      "text/plain": [
       "HBox(children=(FloatProgress(value=0.0, description='Training', layout=Layout(flex='2'), max=6667.0, style=Pro…"
      ]
     },
     "metadata": {},
     "output_type": "display_data"
    },
    {
     "name": "stdout",
     "output_type": "stream",
     "text": [
      "Epoch 109: train=0.707302, val=0.49965, took 1315.0 s\n"
     ]
    },
    {
     "data": {
      "application/vnd.jupyter.widget-view+json": {
       "model_id": "",
       "version_major": 2,
       "version_minor": 0
      },
      "text/plain": [
       "HBox(children=(FloatProgress(value=0.0, description='Training', layout=Layout(flex='2'), max=6667.0, style=Pro…"
      ]
     },
     "metadata": {},
     "output_type": "display_data"
    },
    {
     "name": "stdout",
     "output_type": "stream",
     "text": [
      "Epoch 110: train=0.709444, val=0.484894, took 1325.3 s\n"
     ]
    },
    {
     "data": {
      "application/vnd.jupyter.widget-view+json": {
       "model_id": "",
       "version_major": 2,
       "version_minor": 0
      },
      "text/plain": [
       "HBox(children=(FloatProgress(value=0.0, description='Training', layout=Layout(flex='2'), max=6667.0, style=Pro…"
      ]
     },
     "metadata": {},
     "output_type": "display_data"
    },
    {
     "name": "stdout",
     "output_type": "stream",
     "text": [
      "Epoch 111: train=0.706626, val=0.547201, took 1315.8 s\n"
     ]
    },
    {
     "data": {
      "application/vnd.jupyter.widget-view+json": {
       "model_id": "",
       "version_major": 2,
       "version_minor": 0
      },
      "text/plain": [
       "HBox(children=(FloatProgress(value=0.0, description='Training', layout=Layout(flex='2'), max=6667.0, style=Pro…"
      ]
     },
     "metadata": {},
     "output_type": "display_data"
    },
    {
     "name": "stdout",
     "output_type": "stream",
     "text": [
      "Epoch 112: train=0.706254, val=0.496558, took 1311.6 s\n"
     ]
    },
    {
     "data": {
      "application/vnd.jupyter.widget-view+json": {
       "model_id": "",
       "version_major": 2,
       "version_minor": 0
      },
      "text/plain": [
       "HBox(children=(FloatProgress(value=0.0, description='Training', layout=Layout(flex='2'), max=6667.0, style=Pro…"
      ]
     },
     "metadata": {},
     "output_type": "display_data"
    },
    {
     "name": "stdout",
     "output_type": "stream",
     "text": [
      "Epoch 113: train=0.708428, val=0.478441, took 1308.9 s\n"
     ]
    },
    {
     "data": {
      "application/vnd.jupyter.widget-view+json": {
       "model_id": "",
       "version_major": 2,
       "version_minor": 0
      },
      "text/plain": [
       "HBox(children=(FloatProgress(value=0.0, description='Training', layout=Layout(flex='2'), max=6667.0, style=Pro…"
      ]
     },
     "metadata": {},
     "output_type": "display_data"
    },
    {
     "name": "stdout",
     "output_type": "stream",
     "text": [
      "Epoch 114: train=0.704922, val=0.516493, took 1310.3 s\n"
     ]
    },
    {
     "data": {
      "application/vnd.jupyter.widget-view+json": {
       "model_id": "",
       "version_major": 2,
       "version_minor": 0
      },
      "text/plain": [
       "HBox(children=(FloatProgress(value=0.0, description='Training', layout=Layout(flex='2'), max=6667.0, style=Pro…"
      ]
     },
     "metadata": {},
     "output_type": "display_data"
    },
    {
     "name": "stdout",
     "output_type": "stream",
     "text": [
      "Epoch 115: train=0.70539, val=0.525197, took 1310.0 s\n"
     ]
    },
    {
     "data": {
      "application/vnd.jupyter.widget-view+json": {
       "model_id": "",
       "version_major": 2,
       "version_minor": 0
      },
      "text/plain": [
       "HBox(children=(FloatProgress(value=0.0, description='Training', layout=Layout(flex='2'), max=6667.0, style=Pro…"
      ]
     },
     "metadata": {},
     "output_type": "display_data"
    },
    {
     "name": "stdout",
     "output_type": "stream",
     "text": [
      "Epoch 116: train=0.704685, val=0.483056, took 1310.6 s\n"
     ]
    },
    {
     "data": {
      "application/vnd.jupyter.widget-view+json": {
       "model_id": "",
       "version_major": 2,
       "version_minor": 0
      },
      "text/plain": [
       "HBox(children=(FloatProgress(value=0.0, description='Training', layout=Layout(flex='2'), max=6667.0, style=Pro…"
      ]
     },
     "metadata": {},
     "output_type": "display_data"
    },
    {
     "name": "stdout",
     "output_type": "stream",
     "text": [
      "Epoch 117: train=0.707087, val=0.482413, took 1314.2 s\n"
     ]
    },
    {
     "data": {
      "application/vnd.jupyter.widget-view+json": {
       "model_id": "",
       "version_major": 2,
       "version_minor": 0
      },
      "text/plain": [
       "HBox(children=(FloatProgress(value=0.0, description='Training', layout=Layout(flex='2'), max=6667.0, style=Pro…"
      ]
     },
     "metadata": {},
     "output_type": "display_data"
    },
    {
     "name": "stdout",
     "output_type": "stream",
     "text": [
      "Epoch 118: train=0.704155, val=0.492311, took 1316.5 s\n"
     ]
    },
    {
     "data": {
      "application/vnd.jupyter.widget-view+json": {
       "model_id": "",
       "version_major": 2,
       "version_minor": 0
      },
      "text/plain": [
       "HBox(children=(FloatProgress(value=0.0, description='Training', layout=Layout(flex='2'), max=6667.0, style=Pro…"
      ]
     },
     "metadata": {},
     "output_type": "display_data"
    },
    {
     "name": "stdout",
     "output_type": "stream",
     "text": [
      "Epoch 119: train=0.706805, val=0.49153, took 675.72 s\n"
     ]
    },
    {
     "data": {
      "application/vnd.jupyter.widget-view+json": {
       "model_id": "",
       "version_major": 2,
       "version_minor": 0
      },
      "text/plain": [
       "HBox(children=(FloatProgress(value=0.0, description='Training', layout=Layout(flex='2'), max=6667.0, style=Pro…"
      ]
     },
     "metadata": {},
     "output_type": "display_data"
    },
    {
     "name": "stdout",
     "output_type": "stream",
     "text": [
      "Epoch 120: train=0.706424, val=0.481161, took 602.45 s\n"
     ]
    },
    {
     "data": {
      "application/vnd.jupyter.widget-view+json": {
       "model_id": "",
       "version_major": 2,
       "version_minor": 0
      },
      "text/plain": [
       "HBox(children=(FloatProgress(value=0.0, description='Training', layout=Layout(flex='2'), max=6667.0, style=Pro…"
      ]
     },
     "metadata": {},
     "output_type": "display_data"
    },
    {
     "name": "stdout",
     "output_type": "stream",
     "text": [
      "Epoch 121: train=0.705391, val=0.480753, took 600.63 s\n"
     ]
    },
    {
     "data": {
      "application/vnd.jupyter.widget-view+json": {
       "model_id": "",
       "version_major": 2,
       "version_minor": 0
      },
      "text/plain": [
       "HBox(children=(FloatProgress(value=0.0, description='Training', layout=Layout(flex='2'), max=6667.0, style=Pro…"
      ]
     },
     "metadata": {},
     "output_type": "display_data"
    },
    {
     "name": "stdout",
     "output_type": "stream",
     "text": [
      "Epoch 122: train=0.705287, val=0.576203, took 599.57 s\n"
     ]
    },
    {
     "data": {
      "application/vnd.jupyter.widget-view+json": {
       "model_id": "",
       "version_major": 2,
       "version_minor": 0
      },
      "text/plain": [
       "HBox(children=(FloatProgress(value=0.0, description='Training', layout=Layout(flex='2'), max=6667.0, style=Pro…"
      ]
     },
     "metadata": {},
     "output_type": "display_data"
    },
    {
     "name": "stdout",
     "output_type": "stream",
     "text": [
      "Epoch 123: train=0.703464, val=0.501039, took 601.92 s\n"
     ]
    },
    {
     "data": {
      "application/vnd.jupyter.widget-view+json": {
       "model_id": "",
       "version_major": 2,
       "version_minor": 0
      },
      "text/plain": [
       "HBox(children=(FloatProgress(value=0.0, description='Training', layout=Layout(flex='2'), max=6667.0, style=Pro…"
      ]
     },
     "metadata": {},
     "output_type": "display_data"
    },
    {
     "name": "stdout",
     "output_type": "stream",
     "text": [
      "Epoch 124: train=0.702946, val=0.498281, took 601.16 s\n"
     ]
    },
    {
     "data": {
      "application/vnd.jupyter.widget-view+json": {
       "model_id": "",
       "version_major": 2,
       "version_minor": 0
      },
      "text/plain": [
       "HBox(children=(FloatProgress(value=0.0, description='Training', layout=Layout(flex='2'), max=6667.0, style=Pro…"
      ]
     },
     "metadata": {},
     "output_type": "display_data"
    },
    {
     "name": "stdout",
     "output_type": "stream",
     "text": [
      "Epoch 125: train=0.702729, val=0.48414, took 601.02 s\n"
     ]
    },
    {
     "data": {
      "application/vnd.jupyter.widget-view+json": {
       "model_id": "",
       "version_major": 2,
       "version_minor": 0
      },
      "text/plain": [
       "HBox(children=(FloatProgress(value=0.0, description='Training', layout=Layout(flex='2'), max=6667.0, style=Pro…"
      ]
     },
     "metadata": {},
     "output_type": "display_data"
    },
    {
     "name": "stdout",
     "output_type": "stream",
     "text": [
      "Epoch 126: train=0.70399, val=0.485742, took 600.58 s\n"
     ]
    },
    {
     "data": {
      "application/vnd.jupyter.widget-view+json": {
       "model_id": "",
       "version_major": 2,
       "version_minor": 0
      },
      "text/plain": [
       "HBox(children=(FloatProgress(value=0.0, description='Training', layout=Layout(flex='2'), max=6667.0, style=Pro…"
      ]
     },
     "metadata": {},
     "output_type": "display_data"
    },
    {
     "name": "stdout",
     "output_type": "stream",
     "text": [
      "Epoch 127: train=0.702341, val=0.546081, took 599.85 s\n"
     ]
    },
    {
     "data": {
      "application/vnd.jupyter.widget-view+json": {
       "model_id": "",
       "version_major": 2,
       "version_minor": 0
      },
      "text/plain": [
       "HBox(children=(FloatProgress(value=0.0, description='Training', layout=Layout(flex='2'), max=6667.0, style=Pro…"
      ]
     },
     "metadata": {},
     "output_type": "display_data"
    },
    {
     "name": "stdout",
     "output_type": "stream",
     "text": [
      "Epoch 128: train=0.702118, val=0.512166, took 599.69 s\n"
     ]
    },
    {
     "data": {
      "application/vnd.jupyter.widget-view+json": {
       "model_id": "",
       "version_major": 2,
       "version_minor": 0
      },
      "text/plain": [
       "HBox(children=(FloatProgress(value=0.0, description='Training', layout=Layout(flex='2'), max=6667.0, style=Pro…"
      ]
     },
     "metadata": {},
     "output_type": "display_data"
    },
    {
     "name": "stdout",
     "output_type": "stream",
     "text": [
      "Epoch 129: train=0.703579, val=0.499241, took 597.75 s\n"
     ]
    },
    {
     "data": {
      "application/vnd.jupyter.widget-view+json": {
       "model_id": "",
       "version_major": 2,
       "version_minor": 0
      },
      "text/plain": [
       "HBox(children=(FloatProgress(value=0.0, description='Training', layout=Layout(flex='2'), max=6667.0, style=Pro…"
      ]
     },
     "metadata": {},
     "output_type": "display_data"
    },
    {
     "name": "stdout",
     "output_type": "stream",
     "text": [
      "Epoch 130: train=0.701345, val=0.51498, took 601.82 s\n"
     ]
    },
    {
     "data": {
      "application/vnd.jupyter.widget-view+json": {
       "model_id": "",
       "version_major": 2,
       "version_minor": 0
      },
      "text/plain": [
       "HBox(children=(FloatProgress(value=0.0, description='Training', layout=Layout(flex='2'), max=6667.0, style=Pro…"
      ]
     },
     "metadata": {},
     "output_type": "display_data"
    },
    {
     "name": "stdout",
     "output_type": "stream",
     "text": [
      "Epoch 131: train=0.700267, val=0.50077, took 599.38 s\n"
     ]
    },
    {
     "data": {
      "application/vnd.jupyter.widget-view+json": {
       "model_id": "",
       "version_major": 2,
       "version_minor": 0
      },
      "text/plain": [
       "HBox(children=(FloatProgress(value=0.0, description='Training', layout=Layout(flex='2'), max=6667.0, style=Pro…"
      ]
     },
     "metadata": {},
     "output_type": "display_data"
    },
    {
     "name": "stdout",
     "output_type": "stream",
     "text": [
      "Epoch 132: train=0.700695, val=0.514357, took 598.32 s\n"
     ]
    },
    {
     "data": {
      "application/vnd.jupyter.widget-view+json": {
       "model_id": "",
       "version_major": 2,
       "version_minor": 0
      },
      "text/plain": [
       "HBox(children=(FloatProgress(value=0.0, description='Training', layout=Layout(flex='2'), max=6667.0, style=Pro…"
      ]
     },
     "metadata": {},
     "output_type": "display_data"
    },
    {
     "name": "stdout",
     "output_type": "stream",
     "text": [
      "Epoch 133: train=0.699701, val=0.535473, took 598.56 s\n"
     ]
    },
    {
     "data": {
      "application/vnd.jupyter.widget-view+json": {
       "model_id": "",
       "version_major": 2,
       "version_minor": 0
      },
      "text/plain": [
       "HBox(children=(FloatProgress(value=0.0, description='Training', layout=Layout(flex='2'), max=6667.0, style=Pro…"
      ]
     },
     "metadata": {},
     "output_type": "display_data"
    },
    {
     "name": "stdout",
     "output_type": "stream",
     "text": [
      "Epoch 134: train=0.701412, val=0.477892, took 597.69 s\n"
     ]
    },
    {
     "data": {
      "application/vnd.jupyter.widget-view+json": {
       "model_id": "",
       "version_major": 2,
       "version_minor": 0
      },
      "text/plain": [
       "HBox(children=(FloatProgress(value=0.0, description='Training', layout=Layout(flex='2'), max=6667.0, style=Pro…"
      ]
     },
     "metadata": {},
     "output_type": "display_data"
    },
    {
     "name": "stdout",
     "output_type": "stream",
     "text": [
      "Epoch 135: train=0.702272, val=0.478989, took 598.18 s\n"
     ]
    },
    {
     "data": {
      "application/vnd.jupyter.widget-view+json": {
       "model_id": "",
       "version_major": 2,
       "version_minor": 0
      },
      "text/plain": [
       "HBox(children=(FloatProgress(value=0.0, description='Training', layout=Layout(flex='2'), max=6667.0, style=Pro…"
      ]
     },
     "metadata": {},
     "output_type": "display_data"
    },
    {
     "name": "stdout",
     "output_type": "stream",
     "text": [
      "Epoch 136: train=0.698576, val=0.533412, took 597.58 s\n"
     ]
    },
    {
     "data": {
      "application/vnd.jupyter.widget-view+json": {
       "model_id": "",
       "version_major": 2,
       "version_minor": 0
      },
      "text/plain": [
       "HBox(children=(FloatProgress(value=0.0, description='Training', layout=Layout(flex='2'), max=6667.0, style=Pro…"
      ]
     },
     "metadata": {},
     "output_type": "display_data"
    },
    {
     "name": "stdout",
     "output_type": "stream",
     "text": [
      "Epoch 137: train=0.698785, val=0.535467, took 597.98 s\n"
     ]
    },
    {
     "data": {
      "application/vnd.jupyter.widget-view+json": {
       "model_id": "",
       "version_major": 2,
       "version_minor": 0
      },
      "text/plain": [
       "HBox(children=(FloatProgress(value=0.0, description='Training', layout=Layout(flex='2'), max=6667.0, style=Pro…"
      ]
     },
     "metadata": {},
     "output_type": "display_data"
    },
    {
     "name": "stdout",
     "output_type": "stream",
     "text": [
      "Epoch 138: train=0.698659, val=0.492994, took 599.41 s\n"
     ]
    },
    {
     "data": {
      "application/vnd.jupyter.widget-view+json": {
       "model_id": "",
       "version_major": 2,
       "version_minor": 0
      },
      "text/plain": [
       "HBox(children=(FloatProgress(value=0.0, description='Training', layout=Layout(flex='2'), max=6667.0, style=Pro…"
      ]
     },
     "metadata": {},
     "output_type": "display_data"
    },
    {
     "name": "stdout",
     "output_type": "stream",
     "text": [
      "Epoch 139: train=0.700022, val=0.473829, took 598.78 s\n"
     ]
    },
    {
     "data": {
      "application/vnd.jupyter.widget-view+json": {
       "model_id": "",
       "version_major": 2,
       "version_minor": 0
      },
      "text/plain": [
       "HBox(children=(FloatProgress(value=0.0, description='Training', layout=Layout(flex='2'), max=6667.0, style=Pro…"
      ]
     },
     "metadata": {},
     "output_type": "display_data"
    },
    {
     "name": "stdout",
     "output_type": "stream",
     "text": [
      "Epoch 140: train=0.697888, val=0.474962, took 598.26 s\n"
     ]
    },
    {
     "data": {
      "application/vnd.jupyter.widget-view+json": {
       "model_id": "",
       "version_major": 2,
       "version_minor": 0
      },
      "text/plain": [
       "HBox(children=(FloatProgress(value=0.0, description='Training', layout=Layout(flex='2'), max=6667.0, style=Pro…"
      ]
     },
     "metadata": {},
     "output_type": "display_data"
    },
    {
     "name": "stdout",
     "output_type": "stream",
     "text": [
      "Epoch 141: train=0.698969, val=0.496175, took 598.34 s\n"
     ]
    },
    {
     "data": {
      "application/vnd.jupyter.widget-view+json": {
       "model_id": "",
       "version_major": 2,
       "version_minor": 0
      },
      "text/plain": [
       "HBox(children=(FloatProgress(value=0.0, description='Training', layout=Layout(flex='2'), max=6667.0, style=Pro…"
      ]
     },
     "metadata": {},
     "output_type": "display_data"
    },
    {
     "name": "stdout",
     "output_type": "stream",
     "text": [
      "Epoch 142: train=0.698558, val=0.475942, took 598.21 s\n"
     ]
    },
    {
     "data": {
      "application/vnd.jupyter.widget-view+json": {
       "model_id": "",
       "version_major": 2,
       "version_minor": 0
      },
      "text/plain": [
       "HBox(children=(FloatProgress(value=0.0, description='Training', layout=Layout(flex='2'), max=6667.0, style=Pro…"
      ]
     },
     "metadata": {},
     "output_type": "display_data"
    },
    {
     "name": "stdout",
     "output_type": "stream",
     "text": [
      "Epoch 143: train=0.698049, val=0.473065, took 598.53 s\n"
     ]
    },
    {
     "data": {
      "application/vnd.jupyter.widget-view+json": {
       "model_id": "",
       "version_major": 2,
       "version_minor": 0
      },
      "text/plain": [
       "HBox(children=(FloatProgress(value=0.0, description='Training', layout=Layout(flex='2'), max=6667.0, style=Pro…"
      ]
     },
     "metadata": {},
     "output_type": "display_data"
    },
    {
     "name": "stdout",
     "output_type": "stream",
     "text": [
      "Epoch 144: train=0.69966, val=0.558468, took 598.34 s\n"
     ]
    },
    {
     "data": {
      "application/vnd.jupyter.widget-view+json": {
       "model_id": "",
       "version_major": 2,
       "version_minor": 0
      },
      "text/plain": [
       "HBox(children=(FloatProgress(value=0.0, description='Training', layout=Layout(flex='2'), max=6667.0, style=Pro…"
      ]
     },
     "metadata": {},
     "output_type": "display_data"
    },
    {
     "name": "stdout",
     "output_type": "stream",
     "text": [
      "Epoch 145: train=0.696574, val=0.473447, took 598.43 s\n"
     ]
    },
    {
     "data": {
      "application/vnd.jupyter.widget-view+json": {
       "model_id": "",
       "version_major": 2,
       "version_minor": 0
      },
      "text/plain": [
       "HBox(children=(FloatProgress(value=0.0, description='Training', layout=Layout(flex='2'), max=6667.0, style=Pro…"
      ]
     },
     "metadata": {},
     "output_type": "display_data"
    },
    {
     "name": "stdout",
     "output_type": "stream",
     "text": [
      "Epoch 146: train=0.69695, val=0.540722, took 597.87 s\n"
     ]
    },
    {
     "data": {
      "application/vnd.jupyter.widget-view+json": {
       "model_id": "",
       "version_major": 2,
       "version_minor": 0
      },
      "text/plain": [
       "HBox(children=(FloatProgress(value=0.0, description='Training', layout=Layout(flex='2'), max=6667.0, style=Pro…"
      ]
     },
     "metadata": {},
     "output_type": "display_data"
    },
    {
     "name": "stdout",
     "output_type": "stream",
     "text": [
      "Epoch 147: train=0.698181, val=0.575146, took 598.14 s\n"
     ]
    },
    {
     "data": {
      "application/vnd.jupyter.widget-view+json": {
       "model_id": "",
       "version_major": 2,
       "version_minor": 0
      },
      "text/plain": [
       "HBox(children=(FloatProgress(value=0.0, description='Training', layout=Layout(flex='2'), max=6667.0, style=Pro…"
      ]
     },
     "metadata": {},
     "output_type": "display_data"
    },
    {
     "name": "stdout",
     "output_type": "stream",
     "text": [
      "Epoch 148: train=0.696094, val=0.555143, took 598.98 s\n"
     ]
    },
    {
     "data": {
      "application/vnd.jupyter.widget-view+json": {
       "model_id": "",
       "version_major": 2,
       "version_minor": 0
      },
      "text/plain": [
       "HBox(children=(FloatProgress(value=0.0, description='Training', layout=Layout(flex='2'), max=6667.0, style=Pro…"
      ]
     },
     "metadata": {},
     "output_type": "display_data"
    },
    {
     "name": "stdout",
     "output_type": "stream",
     "text": [
      "Epoch 149: train=0.696807, val=0.524074, took 598.52 s\n",
      "\n"
     ]
    }
   ],
   "source": [
    "for result in trainNet(model, optimizer, loss,\n",
    "                        train_loader, val_loader,\n",
    "                        n_epochs, epoch_start=len(results),\n",
    "                        notebook=True):\n",
    "    \n",
    "    results = results.append(pd.Series(result._asdict()), ignore_index=True)\n",
    "    xs = results.index\n",
    "    \n",
    "    # Update the plot above\n",
    "    lines['train'].set_data(results.index,results.cost)\n",
    "    lines['val'].set_data(results.index,results.val)\n",
    "    \n",
    "    #filter first cost epoch (can be really large)\n",
    "    max_cost = max(max(results.cost if len(results.cost)<2 else results.cost[1:]), max(results.val))\n",
    "    min_cost = min(min(results.cost), min(results.val))\n",
    "    \n",
    "    # The plot limits need updating too\n",
    "    \n",
    "    \n",
    "    \n",
    "    ax.set_ylim(min_cost*.9, max_cost*1.1)  \n",
    "    ax.set_xlim(-.5, len(results.cost) - .5)\n",
    "\n",
    "    \n",
    "    # Redraw the figure\n",
    "    fig.canvas.draw()\n",
    "\n",
    "    # Save each model state dictionary\n",
    "    torch.save(model.state_dict(), output / f'{name}_{result.epoch}.pyt')"
   ]
  },
  {
   "cell_type": "markdown",
   "metadata": {},
   "source": [
    "Go ahead and save the final model (even though it was also saved above):"
   ]
  },
  {
   "cell_type": "code",
   "execution_count": 18,
   "metadata": {},
   "outputs": [],
   "source": [
    "torch.save(model.state_dict(), output / f'{name}_final.pyt')"
   ]
  },
  {
   "cell_type": "markdown",
   "metadata": {},
   "source": [
    "Save the output results:"
   ]
  },
  {
   "cell_type": "code",
   "execution_count": 19,
   "metadata": {},
   "outputs": [],
   "source": [
    "results.to_hdf(f'{name}_stats.hdf5', 'results')"
   ]
  },
  {
   "cell_type": "markdown",
   "metadata": {},
   "source": [
    "Save the plot above:"
   ]
  },
  {
   "cell_type": "code",
   "execution_count": 20,
   "metadata": {},
   "outputs": [
    {
     "data": {
      "application/javascript": [
       "/* Put everything inside the global mpl namespace */\n",
       "window.mpl = {};\n",
       "\n",
       "\n",
       "mpl.get_websocket_type = function() {\n",
       "    if (typeof(WebSocket) !== 'undefined') {\n",
       "        return WebSocket;\n",
       "    } else if (typeof(MozWebSocket) !== 'undefined') {\n",
       "        return MozWebSocket;\n",
       "    } else {\n",
       "        alert('Your browser does not have WebSocket support. ' +\n",
       "              'Please try Chrome, Safari or Firefox ≥ 6. ' +\n",
       "              'Firefox 4 and 5 are also supported but you ' +\n",
       "              'have to enable WebSockets in about:config.');\n",
       "    };\n",
       "}\n",
       "\n",
       "mpl.figure = function(figure_id, websocket, ondownload, parent_element) {\n",
       "    this.id = figure_id;\n",
       "\n",
       "    this.ws = websocket;\n",
       "\n",
       "    this.supports_binary = (this.ws.binaryType != undefined);\n",
       "\n",
       "    if (!this.supports_binary) {\n",
       "        var warnings = document.getElementById(\"mpl-warnings\");\n",
       "        if (warnings) {\n",
       "            warnings.style.display = 'block';\n",
       "            warnings.textContent = (\n",
       "                \"This browser does not support binary websocket messages. \" +\n",
       "                    \"Performance may be slow.\");\n",
       "        }\n",
       "    }\n",
       "\n",
       "    this.imageObj = new Image();\n",
       "\n",
       "    this.context = undefined;\n",
       "    this.message = undefined;\n",
       "    this.canvas = undefined;\n",
       "    this.rubberband_canvas = undefined;\n",
       "    this.rubberband_context = undefined;\n",
       "    this.format_dropdown = undefined;\n",
       "\n",
       "    this.image_mode = 'full';\n",
       "\n",
       "    this.root = $('<div/>');\n",
       "    this._root_extra_style(this.root)\n",
       "    this.root.attr('style', 'display: inline-block');\n",
       "\n",
       "    $(parent_element).append(this.root);\n",
       "\n",
       "    this._init_header(this);\n",
       "    this._init_canvas(this);\n",
       "    this._init_toolbar(this);\n",
       "\n",
       "    var fig = this;\n",
       "\n",
       "    this.waiting = false;\n",
       "\n",
       "    this.ws.onopen =  function () {\n",
       "            fig.send_message(\"supports_binary\", {value: fig.supports_binary});\n",
       "            fig.send_message(\"send_image_mode\", {});\n",
       "            if (mpl.ratio != 1) {\n",
       "                fig.send_message(\"set_dpi_ratio\", {'dpi_ratio': mpl.ratio});\n",
       "            }\n",
       "            fig.send_message(\"refresh\", {});\n",
       "        }\n",
       "\n",
       "    this.imageObj.onload = function() {\n",
       "            if (fig.image_mode == 'full') {\n",
       "                // Full images could contain transparency (where diff images\n",
       "                // almost always do), so we need to clear the canvas so that\n",
       "                // there is no ghosting.\n",
       "                fig.context.clearRect(0, 0, fig.canvas.width, fig.canvas.height);\n",
       "            }\n",
       "            fig.context.drawImage(fig.imageObj, 0, 0);\n",
       "        };\n",
       "\n",
       "    this.imageObj.onunload = function() {\n",
       "        fig.ws.close();\n",
       "    }\n",
       "\n",
       "    this.ws.onmessage = this._make_on_message_function(this);\n",
       "\n",
       "    this.ondownload = ondownload;\n",
       "}\n",
       "\n",
       "mpl.figure.prototype._init_header = function() {\n",
       "    var titlebar = $(\n",
       "        '<div class=\"ui-dialog-titlebar ui-widget-header ui-corner-all ' +\n",
       "        'ui-helper-clearfix\"/>');\n",
       "    var titletext = $(\n",
       "        '<div class=\"ui-dialog-title\" style=\"width: 100%; ' +\n",
       "        'text-align: center; padding: 3px;\"/>');\n",
       "    titlebar.append(titletext)\n",
       "    this.root.append(titlebar);\n",
       "    this.header = titletext[0];\n",
       "}\n",
       "\n",
       "\n",
       "\n",
       "mpl.figure.prototype._canvas_extra_style = function(canvas_div) {\n",
       "\n",
       "}\n",
       "\n",
       "\n",
       "mpl.figure.prototype._root_extra_style = function(canvas_div) {\n",
       "\n",
       "}\n",
       "\n",
       "mpl.figure.prototype._init_canvas = function() {\n",
       "    var fig = this;\n",
       "\n",
       "    var canvas_div = $('<div/>');\n",
       "\n",
       "    canvas_div.attr('style', 'position: relative; clear: both; outline: 0');\n",
       "\n",
       "    function canvas_keyboard_event(event) {\n",
       "        return fig.key_event(event, event['data']);\n",
       "    }\n",
       "\n",
       "    canvas_div.keydown('key_press', canvas_keyboard_event);\n",
       "    canvas_div.keyup('key_release', canvas_keyboard_event);\n",
       "    this.canvas_div = canvas_div\n",
       "    this._canvas_extra_style(canvas_div)\n",
       "    this.root.append(canvas_div);\n",
       "\n",
       "    var canvas = $('<canvas/>');\n",
       "    canvas.addClass('mpl-canvas');\n",
       "    canvas.attr('style', \"left: 0; top: 0; z-index: 0; outline: 0\")\n",
       "\n",
       "    this.canvas = canvas[0];\n",
       "    this.context = canvas[0].getContext(\"2d\");\n",
       "\n",
       "    var backingStore = this.context.backingStorePixelRatio ||\n",
       "\tthis.context.webkitBackingStorePixelRatio ||\n",
       "\tthis.context.mozBackingStorePixelRatio ||\n",
       "\tthis.context.msBackingStorePixelRatio ||\n",
       "\tthis.context.oBackingStorePixelRatio ||\n",
       "\tthis.context.backingStorePixelRatio || 1;\n",
       "\n",
       "    mpl.ratio = (window.devicePixelRatio || 1) / backingStore;\n",
       "\n",
       "    var rubberband = $('<canvas/>');\n",
       "    rubberband.attr('style', \"position: absolute; left: 0; top: 0; z-index: 1;\")\n",
       "\n",
       "    var pass_mouse_events = true;\n",
       "\n",
       "    canvas_div.resizable({\n",
       "        start: function(event, ui) {\n",
       "            pass_mouse_events = false;\n",
       "        },\n",
       "        resize: function(event, ui) {\n",
       "            fig.request_resize(ui.size.width, ui.size.height);\n",
       "        },\n",
       "        stop: function(event, ui) {\n",
       "            pass_mouse_events = true;\n",
       "            fig.request_resize(ui.size.width, ui.size.height);\n",
       "        },\n",
       "    });\n",
       "\n",
       "    function mouse_event_fn(event) {\n",
       "        if (pass_mouse_events)\n",
       "            return fig.mouse_event(event, event['data']);\n",
       "    }\n",
       "\n",
       "    rubberband.mousedown('button_press', mouse_event_fn);\n",
       "    rubberband.mouseup('button_release', mouse_event_fn);\n",
       "    // Throttle sequential mouse events to 1 every 20ms.\n",
       "    rubberband.mousemove('motion_notify', mouse_event_fn);\n",
       "\n",
       "    rubberband.mouseenter('figure_enter', mouse_event_fn);\n",
       "    rubberband.mouseleave('figure_leave', mouse_event_fn);\n",
       "\n",
       "    canvas_div.on(\"wheel\", function (event) {\n",
       "        event = event.originalEvent;\n",
       "        event['data'] = 'scroll'\n",
       "        if (event.deltaY < 0) {\n",
       "            event.step = 1;\n",
       "        } else {\n",
       "            event.step = -1;\n",
       "        }\n",
       "        mouse_event_fn(event);\n",
       "    });\n",
       "\n",
       "    canvas_div.append(canvas);\n",
       "    canvas_div.append(rubberband);\n",
       "\n",
       "    this.rubberband = rubberband;\n",
       "    this.rubberband_canvas = rubberband[0];\n",
       "    this.rubberband_context = rubberband[0].getContext(\"2d\");\n",
       "    this.rubberband_context.strokeStyle = \"#000000\";\n",
       "\n",
       "    this._resize_canvas = function(width, height) {\n",
       "        // Keep the size of the canvas, canvas container, and rubber band\n",
       "        // canvas in synch.\n",
       "        canvas_div.css('width', width)\n",
       "        canvas_div.css('height', height)\n",
       "\n",
       "        canvas.attr('width', width * mpl.ratio);\n",
       "        canvas.attr('height', height * mpl.ratio);\n",
       "        canvas.attr('style', 'width: ' + width + 'px; height: ' + height + 'px;');\n",
       "\n",
       "        rubberband.attr('width', width);\n",
       "        rubberband.attr('height', height);\n",
       "    }\n",
       "\n",
       "    // Set the figure to an initial 600x600px, this will subsequently be updated\n",
       "    // upon first draw.\n",
       "    this._resize_canvas(600, 600);\n",
       "\n",
       "    // Disable right mouse context menu.\n",
       "    $(this.rubberband_canvas).bind(\"contextmenu\",function(e){\n",
       "        return false;\n",
       "    });\n",
       "\n",
       "    function set_focus () {\n",
       "        canvas.focus();\n",
       "        canvas_div.focus();\n",
       "    }\n",
       "\n",
       "    window.setTimeout(set_focus, 100);\n",
       "}\n",
       "\n",
       "mpl.figure.prototype._init_toolbar = function() {\n",
       "    var fig = this;\n",
       "\n",
       "    var nav_element = $('<div/>');\n",
       "    nav_element.attr('style', 'width: 100%');\n",
       "    this.root.append(nav_element);\n",
       "\n",
       "    // Define a callback function for later on.\n",
       "    function toolbar_event(event) {\n",
       "        return fig.toolbar_button_onclick(event['data']);\n",
       "    }\n",
       "    function toolbar_mouse_event(event) {\n",
       "        return fig.toolbar_button_onmouseover(event['data']);\n",
       "    }\n",
       "\n",
       "    for(var toolbar_ind in mpl.toolbar_items) {\n",
       "        var name = mpl.toolbar_items[toolbar_ind][0];\n",
       "        var tooltip = mpl.toolbar_items[toolbar_ind][1];\n",
       "        var image = mpl.toolbar_items[toolbar_ind][2];\n",
       "        var method_name = mpl.toolbar_items[toolbar_ind][3];\n",
       "\n",
       "        if (!name) {\n",
       "            // put a spacer in here.\n",
       "            continue;\n",
       "        }\n",
       "        var button = $('<button/>');\n",
       "        button.addClass('ui-button ui-widget ui-state-default ui-corner-all ' +\n",
       "                        'ui-button-icon-only');\n",
       "        button.attr('role', 'button');\n",
       "        button.attr('aria-disabled', 'false');\n",
       "        button.click(method_name, toolbar_event);\n",
       "        button.mouseover(tooltip, toolbar_mouse_event);\n",
       "\n",
       "        var icon_img = $('<span/>');\n",
       "        icon_img.addClass('ui-button-icon-primary ui-icon');\n",
       "        icon_img.addClass(image);\n",
       "        icon_img.addClass('ui-corner-all');\n",
       "\n",
       "        var tooltip_span = $('<span/>');\n",
       "        tooltip_span.addClass('ui-button-text');\n",
       "        tooltip_span.html(tooltip);\n",
       "\n",
       "        button.append(icon_img);\n",
       "        button.append(tooltip_span);\n",
       "\n",
       "        nav_element.append(button);\n",
       "    }\n",
       "\n",
       "    var fmt_picker_span = $('<span/>');\n",
       "\n",
       "    var fmt_picker = $('<select/>');\n",
       "    fmt_picker.addClass('mpl-toolbar-option ui-widget ui-widget-content');\n",
       "    fmt_picker_span.append(fmt_picker);\n",
       "    nav_element.append(fmt_picker_span);\n",
       "    this.format_dropdown = fmt_picker[0];\n",
       "\n",
       "    for (var ind in mpl.extensions) {\n",
       "        var fmt = mpl.extensions[ind];\n",
       "        var option = $(\n",
       "            '<option/>', {selected: fmt === mpl.default_extension}).html(fmt);\n",
       "        fmt_picker.append(option);\n",
       "    }\n",
       "\n",
       "    // Add hover states to the ui-buttons\n",
       "    $( \".ui-button\" ).hover(\n",
       "        function() { $(this).addClass(\"ui-state-hover\");},\n",
       "        function() { $(this).removeClass(\"ui-state-hover\");}\n",
       "    );\n",
       "\n",
       "    var status_bar = $('<span class=\"mpl-message\"/>');\n",
       "    nav_element.append(status_bar);\n",
       "    this.message = status_bar[0];\n",
       "}\n",
       "\n",
       "mpl.figure.prototype.request_resize = function(x_pixels, y_pixels) {\n",
       "    // Request matplotlib to resize the figure. Matplotlib will then trigger a resize in the client,\n",
       "    // which will in turn request a refresh of the image.\n",
       "    this.send_message('resize', {'width': x_pixels, 'height': y_pixels});\n",
       "}\n",
       "\n",
       "mpl.figure.prototype.send_message = function(type, properties) {\n",
       "    properties['type'] = type;\n",
       "    properties['figure_id'] = this.id;\n",
       "    this.ws.send(JSON.stringify(properties));\n",
       "}\n",
       "\n",
       "mpl.figure.prototype.send_draw_message = function() {\n",
       "    if (!this.waiting) {\n",
       "        this.waiting = true;\n",
       "        this.ws.send(JSON.stringify({type: \"draw\", figure_id: this.id}));\n",
       "    }\n",
       "}\n",
       "\n",
       "\n",
       "mpl.figure.prototype.handle_save = function(fig, msg) {\n",
       "    var format_dropdown = fig.format_dropdown;\n",
       "    var format = format_dropdown.options[format_dropdown.selectedIndex].value;\n",
       "    fig.ondownload(fig, format);\n",
       "}\n",
       "\n",
       "\n",
       "mpl.figure.prototype.handle_resize = function(fig, msg) {\n",
       "    var size = msg['size'];\n",
       "    if (size[0] != fig.canvas.width || size[1] != fig.canvas.height) {\n",
       "        fig._resize_canvas(size[0], size[1]);\n",
       "        fig.send_message(\"refresh\", {});\n",
       "    };\n",
       "}\n",
       "\n",
       "mpl.figure.prototype.handle_rubberband = function(fig, msg) {\n",
       "    var x0 = msg['x0'] / mpl.ratio;\n",
       "    var y0 = (fig.canvas.height - msg['y0']) / mpl.ratio;\n",
       "    var x1 = msg['x1'] / mpl.ratio;\n",
       "    var y1 = (fig.canvas.height - msg['y1']) / mpl.ratio;\n",
       "    x0 = Math.floor(x0) + 0.5;\n",
       "    y0 = Math.floor(y0) + 0.5;\n",
       "    x1 = Math.floor(x1) + 0.5;\n",
       "    y1 = Math.floor(y1) + 0.5;\n",
       "    var min_x = Math.min(x0, x1);\n",
       "    var min_y = Math.min(y0, y1);\n",
       "    var width = Math.abs(x1 - x0);\n",
       "    var height = Math.abs(y1 - y0);\n",
       "\n",
       "    fig.rubberband_context.clearRect(\n",
       "        0, 0, fig.canvas.width / mpl.ratio, fig.canvas.height / mpl.ratio);\n",
       "\n",
       "    fig.rubberband_context.strokeRect(min_x, min_y, width, height);\n",
       "}\n",
       "\n",
       "mpl.figure.prototype.handle_figure_label = function(fig, msg) {\n",
       "    // Updates the figure title.\n",
       "    fig.header.textContent = msg['label'];\n",
       "}\n",
       "\n",
       "mpl.figure.prototype.handle_cursor = function(fig, msg) {\n",
       "    var cursor = msg['cursor'];\n",
       "    switch(cursor)\n",
       "    {\n",
       "    case 0:\n",
       "        cursor = 'pointer';\n",
       "        break;\n",
       "    case 1:\n",
       "        cursor = 'default';\n",
       "        break;\n",
       "    case 2:\n",
       "        cursor = 'crosshair';\n",
       "        break;\n",
       "    case 3:\n",
       "        cursor = 'move';\n",
       "        break;\n",
       "    }\n",
       "    fig.rubberband_canvas.style.cursor = cursor;\n",
       "}\n",
       "\n",
       "mpl.figure.prototype.handle_message = function(fig, msg) {\n",
       "    fig.message.textContent = msg['message'];\n",
       "}\n",
       "\n",
       "mpl.figure.prototype.handle_draw = function(fig, msg) {\n",
       "    // Request the server to send over a new figure.\n",
       "    fig.send_draw_message();\n",
       "}\n",
       "\n",
       "mpl.figure.prototype.handle_image_mode = function(fig, msg) {\n",
       "    fig.image_mode = msg['mode'];\n",
       "}\n",
       "\n",
       "mpl.figure.prototype.updated_canvas_event = function() {\n",
       "    // Called whenever the canvas gets updated.\n",
       "    this.send_message(\"ack\", {});\n",
       "}\n",
       "\n",
       "// A function to construct a web socket function for onmessage handling.\n",
       "// Called in the figure constructor.\n",
       "mpl.figure.prototype._make_on_message_function = function(fig) {\n",
       "    return function socket_on_message(evt) {\n",
       "        if (evt.data instanceof Blob) {\n",
       "            /* FIXME: We get \"Resource interpreted as Image but\n",
       "             * transferred with MIME type text/plain:\" errors on\n",
       "             * Chrome.  But how to set the MIME type?  It doesn't seem\n",
       "             * to be part of the websocket stream */\n",
       "            evt.data.type = \"image/png\";\n",
       "\n",
       "            /* Free the memory for the previous frames */\n",
       "            if (fig.imageObj.src) {\n",
       "                (window.URL || window.webkitURL).revokeObjectURL(\n",
       "                    fig.imageObj.src);\n",
       "            }\n",
       "\n",
       "            fig.imageObj.src = (window.URL || window.webkitURL).createObjectURL(\n",
       "                evt.data);\n",
       "            fig.updated_canvas_event();\n",
       "            fig.waiting = false;\n",
       "            return;\n",
       "        }\n",
       "        else if (typeof evt.data === 'string' && evt.data.slice(0, 21) == \"data:image/png;base64\") {\n",
       "            fig.imageObj.src = evt.data;\n",
       "            fig.updated_canvas_event();\n",
       "            fig.waiting = false;\n",
       "            return;\n",
       "        }\n",
       "\n",
       "        var msg = JSON.parse(evt.data);\n",
       "        var msg_type = msg['type'];\n",
       "\n",
       "        // Call the  \"handle_{type}\" callback, which takes\n",
       "        // the figure and JSON message as its only arguments.\n",
       "        try {\n",
       "            var callback = fig[\"handle_\" + msg_type];\n",
       "        } catch (e) {\n",
       "            console.log(\"No handler for the '\" + msg_type + \"' message type: \", msg);\n",
       "            return;\n",
       "        }\n",
       "\n",
       "        if (callback) {\n",
       "            try {\n",
       "                // console.log(\"Handling '\" + msg_type + \"' message: \", msg);\n",
       "                callback(fig, msg);\n",
       "            } catch (e) {\n",
       "                console.log(\"Exception inside the 'handler_\" + msg_type + \"' callback:\", e, e.stack, msg);\n",
       "            }\n",
       "        }\n",
       "    };\n",
       "}\n",
       "\n",
       "// from http://stackoverflow.com/questions/1114465/getting-mouse-location-in-canvas\n",
       "mpl.findpos = function(e) {\n",
       "    //this section is from http://www.quirksmode.org/js/events_properties.html\n",
       "    var targ;\n",
       "    if (!e)\n",
       "        e = window.event;\n",
       "    if (e.target)\n",
       "        targ = e.target;\n",
       "    else if (e.srcElement)\n",
       "        targ = e.srcElement;\n",
       "    if (targ.nodeType == 3) // defeat Safari bug\n",
       "        targ = targ.parentNode;\n",
       "\n",
       "    // jQuery normalizes the pageX and pageY\n",
       "    // pageX,Y are the mouse positions relative to the document\n",
       "    // offset() returns the position of the element relative to the document\n",
       "    var x = e.pageX - $(targ).offset().left;\n",
       "    var y = e.pageY - $(targ).offset().top;\n",
       "\n",
       "    return {\"x\": x, \"y\": y};\n",
       "};\n",
       "\n",
       "/*\n",
       " * return a copy of an object with only non-object keys\n",
       " * we need this to avoid circular references\n",
       " * http://stackoverflow.com/a/24161582/3208463\n",
       " */\n",
       "function simpleKeys (original) {\n",
       "  return Object.keys(original).reduce(function (obj, key) {\n",
       "    if (typeof original[key] !== 'object')\n",
       "        obj[key] = original[key]\n",
       "    return obj;\n",
       "  }, {});\n",
       "}\n",
       "\n",
       "mpl.figure.prototype.mouse_event = function(event, name) {\n",
       "    var canvas_pos = mpl.findpos(event)\n",
       "\n",
       "    if (name === 'button_press')\n",
       "    {\n",
       "        this.canvas.focus();\n",
       "        this.canvas_div.focus();\n",
       "    }\n",
       "\n",
       "    var x = canvas_pos.x * mpl.ratio;\n",
       "    var y = canvas_pos.y * mpl.ratio;\n",
       "\n",
       "    this.send_message(name, {x: x, y: y, button: event.button,\n",
       "                             step: event.step,\n",
       "                             guiEvent: simpleKeys(event)});\n",
       "\n",
       "    /* This prevents the web browser from automatically changing to\n",
       "     * the text insertion cursor when the button is pressed.  We want\n",
       "     * to control all of the cursor setting manually through the\n",
       "     * 'cursor' event from matplotlib */\n",
       "    event.preventDefault();\n",
       "    return false;\n",
       "}\n",
       "\n",
       "mpl.figure.prototype._key_event_extra = function(event, name) {\n",
       "    // Handle any extra behaviour associated with a key event\n",
       "}\n",
       "\n",
       "mpl.figure.prototype.key_event = function(event, name) {\n",
       "\n",
       "    // Prevent repeat events\n",
       "    if (name == 'key_press')\n",
       "    {\n",
       "        if (event.which === this._key)\n",
       "            return;\n",
       "        else\n",
       "            this._key = event.which;\n",
       "    }\n",
       "    if (name == 'key_release')\n",
       "        this._key = null;\n",
       "\n",
       "    var value = '';\n",
       "    if (event.ctrlKey && event.which != 17)\n",
       "        value += \"ctrl+\";\n",
       "    if (event.altKey && event.which != 18)\n",
       "        value += \"alt+\";\n",
       "    if (event.shiftKey && event.which != 16)\n",
       "        value += \"shift+\";\n",
       "\n",
       "    value += 'k';\n",
       "    value += event.which.toString();\n",
       "\n",
       "    this._key_event_extra(event, name);\n",
       "\n",
       "    this.send_message(name, {key: value,\n",
       "                             guiEvent: simpleKeys(event)});\n",
       "    return false;\n",
       "}\n",
       "\n",
       "mpl.figure.prototype.toolbar_button_onclick = function(name) {\n",
       "    if (name == 'download') {\n",
       "        this.handle_save(this, null);\n",
       "    } else {\n",
       "        this.send_message(\"toolbar_button\", {name: name});\n",
       "    }\n",
       "};\n",
       "\n",
       "mpl.figure.prototype.toolbar_button_onmouseover = function(tooltip) {\n",
       "    this.message.textContent = tooltip;\n",
       "};\n",
       "mpl.toolbar_items = [[\"Home\", \"Reset original view\", \"fa fa-home icon-home\", \"home\"], [\"Back\", \"Back to previous view\", \"fa fa-arrow-left icon-arrow-left\", \"back\"], [\"Forward\", \"Forward to next view\", \"fa fa-arrow-right icon-arrow-right\", \"forward\"], [\"\", \"\", \"\", \"\"], [\"Pan\", \"Pan axes with left mouse, zoom with right\", \"fa fa-arrows icon-move\", \"pan\"], [\"Zoom\", \"Zoom to rectangle\", \"fa fa-square-o icon-check-empty\", \"zoom\"], [\"\", \"\", \"\", \"\"], [\"Download\", \"Download plot\", \"fa fa-floppy-o icon-save\", \"download\"]];\n",
       "\n",
       "mpl.extensions = [\"eps\", \"jpeg\", \"pdf\", \"png\", \"ps\", \"raw\", \"svg\", \"tif\"];\n",
       "\n",
       "mpl.default_extension = \"png\";var comm_websocket_adapter = function(comm) {\n",
       "    // Create a \"websocket\"-like object which calls the given IPython comm\n",
       "    // object with the appropriate methods. Currently this is a non binary\n",
       "    // socket, so there is still some room for performance tuning.\n",
       "    var ws = {};\n",
       "\n",
       "    ws.close = function() {\n",
       "        comm.close()\n",
       "    };\n",
       "    ws.send = function(m) {\n",
       "        //console.log('sending', m);\n",
       "        comm.send(m);\n",
       "    };\n",
       "    // Register the callback with on_msg.\n",
       "    comm.on_msg(function(msg) {\n",
       "        //console.log('receiving', msg['content']['data'], msg);\n",
       "        // Pass the mpl event to the overridden (by mpl) onmessage function.\n",
       "        ws.onmessage(msg['content']['data'])\n",
       "    });\n",
       "    return ws;\n",
       "}\n",
       "\n",
       "mpl.mpl_figure_comm = function(comm, msg) {\n",
       "    // This is the function which gets called when the mpl process\n",
       "    // starts-up an IPython Comm through the \"matplotlib\" channel.\n",
       "\n",
       "    var id = msg.content.data.id;\n",
       "    // Get hold of the div created by the display call when the Comm\n",
       "    // socket was opened in Python.\n",
       "    var element = $(\"#\" + id);\n",
       "    var ws_proxy = comm_websocket_adapter(comm)\n",
       "\n",
       "    function ondownload(figure, format) {\n",
       "        window.open(figure.imageObj.src);\n",
       "    }\n",
       "\n",
       "    var fig = new mpl.figure(id, ws_proxy,\n",
       "                           ondownload,\n",
       "                           element.get(0));\n",
       "\n",
       "    // Call onopen now - mpl needs it, as it is assuming we've passed it a real\n",
       "    // web socket which is closed, not our websocket->open comm proxy.\n",
       "    ws_proxy.onopen();\n",
       "\n",
       "    fig.parent_element = element.get(0);\n",
       "    fig.cell_info = mpl.find_output_cell(\"<div id='\" + id + \"'></div>\");\n",
       "    if (!fig.cell_info) {\n",
       "        console.error(\"Failed to find cell for figure\", id, fig);\n",
       "        return;\n",
       "    }\n",
       "\n",
       "    var output_index = fig.cell_info[2]\n",
       "    var cell = fig.cell_info[0];\n",
       "\n",
       "};\n",
       "\n",
       "mpl.figure.prototype.handle_close = function(fig, msg) {\n",
       "    var width = fig.canvas.width/mpl.ratio\n",
       "    fig.root.unbind('remove')\n",
       "\n",
       "    // Update the output cell to use the data from the current canvas.\n",
       "    fig.push_to_output();\n",
       "    var dataURL = fig.canvas.toDataURL();\n",
       "    // Re-enable the keyboard manager in IPython - without this line, in FF,\n",
       "    // the notebook keyboard shortcuts fail.\n",
       "    IPython.keyboard_manager.enable()\n",
       "    $(fig.parent_element).html('<img src=\"' + dataURL + '\" width=\"' + width + '\">');\n",
       "    fig.close_ws(fig, msg);\n",
       "}\n",
       "\n",
       "mpl.figure.prototype.close_ws = function(fig, msg){\n",
       "    fig.send_message('closing', msg);\n",
       "    // fig.ws.close()\n",
       "}\n",
       "\n",
       "mpl.figure.prototype.push_to_output = function(remove_interactive) {\n",
       "    // Turn the data on the canvas into data in the output cell.\n",
       "    var width = this.canvas.width/mpl.ratio\n",
       "    var dataURL = this.canvas.toDataURL();\n",
       "    this.cell_info[1]['text/html'] = '<img src=\"' + dataURL + '\" width=\"' + width + '\">';\n",
       "}\n",
       "\n",
       "mpl.figure.prototype.updated_canvas_event = function() {\n",
       "    // Tell IPython that the notebook contents must change.\n",
       "    IPython.notebook.set_dirty(true);\n",
       "    this.send_message(\"ack\", {});\n",
       "    var fig = this;\n",
       "    // Wait a second, then push the new image to the DOM so\n",
       "    // that it is saved nicely (might be nice to debounce this).\n",
       "    setTimeout(function () { fig.push_to_output() }, 1000);\n",
       "}\n",
       "\n",
       "mpl.figure.prototype._init_toolbar = function() {\n",
       "    var fig = this;\n",
       "\n",
       "    var nav_element = $('<div/>');\n",
       "    nav_element.attr('style', 'width: 100%');\n",
       "    this.root.append(nav_element);\n",
       "\n",
       "    // Define a callback function for later on.\n",
       "    function toolbar_event(event) {\n",
       "        return fig.toolbar_button_onclick(event['data']);\n",
       "    }\n",
       "    function toolbar_mouse_event(event) {\n",
       "        return fig.toolbar_button_onmouseover(event['data']);\n",
       "    }\n",
       "\n",
       "    for(var toolbar_ind in mpl.toolbar_items){\n",
       "        var name = mpl.toolbar_items[toolbar_ind][0];\n",
       "        var tooltip = mpl.toolbar_items[toolbar_ind][1];\n",
       "        var image = mpl.toolbar_items[toolbar_ind][2];\n",
       "        var method_name = mpl.toolbar_items[toolbar_ind][3];\n",
       "\n",
       "        if (!name) { continue; };\n",
       "\n",
       "        var button = $('<button class=\"btn btn-default\" href=\"#\" title=\"' + name + '\"><i class=\"fa ' + image + ' fa-lg\"></i></button>');\n",
       "        button.click(method_name, toolbar_event);\n",
       "        button.mouseover(tooltip, toolbar_mouse_event);\n",
       "        nav_element.append(button);\n",
       "    }\n",
       "\n",
       "    // Add the status bar.\n",
       "    var status_bar = $('<span class=\"mpl-message\" style=\"text-align:right; float: right;\"/>');\n",
       "    nav_element.append(status_bar);\n",
       "    this.message = status_bar[0];\n",
       "\n",
       "    // Add the close button to the window.\n",
       "    var buttongrp = $('<div class=\"btn-group inline pull-right\"></div>');\n",
       "    var button = $('<button class=\"btn btn-mini btn-primary\" href=\"#\" title=\"Stop Interaction\"><i class=\"fa fa-power-off icon-remove icon-large\"></i></button>');\n",
       "    button.click(function (evt) { fig.handle_close(fig, {}); } );\n",
       "    button.mouseover('Stop Interaction', toolbar_mouse_event);\n",
       "    buttongrp.append(button);\n",
       "    var titlebar = this.root.find($('.ui-dialog-titlebar'));\n",
       "    titlebar.prepend(buttongrp);\n",
       "}\n",
       "\n",
       "mpl.figure.prototype._root_extra_style = function(el){\n",
       "    var fig = this\n",
       "    el.on(\"remove\", function(){\n",
       "\tfig.close_ws(fig, {});\n",
       "    });\n",
       "}\n",
       "\n",
       "mpl.figure.prototype._canvas_extra_style = function(el){\n",
       "    // this is important to make the div 'focusable\n",
       "    el.attr('tabindex', 0)\n",
       "    // reach out to IPython and tell the keyboard manager to turn it's self\n",
       "    // off when our div gets focus\n",
       "\n",
       "    // location in version 3\n",
       "    if (IPython.notebook.keyboard_manager) {\n",
       "        IPython.notebook.keyboard_manager.register_events(el);\n",
       "    }\n",
       "    else {\n",
       "        // location in version 2\n",
       "        IPython.keyboard_manager.register_events(el);\n",
       "    }\n",
       "\n",
       "}\n",
       "\n",
       "mpl.figure.prototype._key_event_extra = function(event, name) {\n",
       "    var manager = IPython.notebook.keyboard_manager;\n",
       "    if (!manager)\n",
       "        manager = IPython.keyboard_manager;\n",
       "\n",
       "    // Check for shift+enter\n",
       "    if (event.shiftKey && event.which == 13) {\n",
       "        this.canvas_div.blur();\n",
       "        // select the cell after this one\n",
       "        var index = IPython.notebook.find_cell_index(this.cell_info[0]);\n",
       "        IPython.notebook.select(index + 1);\n",
       "    }\n",
       "}\n",
       "\n",
       "mpl.figure.prototype.handle_save = function(fig, msg) {\n",
       "    fig.ondownload(fig, null);\n",
       "}\n",
       "\n",
       "\n",
       "mpl.find_output_cell = function(html_output) {\n",
       "    // Return the cell and output element which can be found *uniquely* in the notebook.\n",
       "    // Note - this is a bit hacky, but it is done because the \"notebook_saving.Notebook\"\n",
       "    // IPython event is triggered only after the cells have been serialised, which for\n",
       "    // our purposes (turning an active figure into a static one), is too late.\n",
       "    var cells = IPython.notebook.get_cells();\n",
       "    var ncells = cells.length;\n",
       "    for (var i=0; i<ncells; i++) {\n",
       "        var cell = cells[i];\n",
       "        if (cell.cell_type === 'code'){\n",
       "            for (var j=0; j<cell.output_area.outputs.length; j++) {\n",
       "                var data = cell.output_area.outputs[j];\n",
       "                if (data.data) {\n",
       "                    // IPython >= 3 moved mimebundle to data attribute of output\n",
       "                    data = data.data;\n",
       "                }\n",
       "                if (data['text/html'] == html_output) {\n",
       "                    return [cell, data, j];\n",
       "                }\n",
       "            }\n",
       "        }\n",
       "    }\n",
       "}\n",
       "\n",
       "// Register the function which deals with the matplotlib target/channel.\n",
       "// The kernel may be null if the page has been refreshed.\n",
       "if (IPython.notebook.kernel != null) {\n",
       "    IPython.notebook.kernel.comm_manager.register_target('matplotlib', mpl.mpl_figure_comm);\n",
       "}\n"
      ],
      "text/plain": [
       "<IPython.core.display.Javascript object>"
      ]
     },
     "metadata": {},
     "output_type": "display_data"
    },
    {
     "data": {
      "text/html": [
       "<img src=\"data:image/png;base64,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\" width=\"999.75\">"
      ],
      "text/plain": [
       "<IPython.core.display.HTML object>"
      ]
     },
     "metadata": {},
     "output_type": "display_data"
    }
   ],
   "source": [
    "dual_train_plots(results.index,\n",
    "                 results.cost, results.val,\n",
    "                 results.cost, results.val)\n",
    "plt.tight_layout()\n",
    "plt.savefig(str(output / f'{name}_stats_a.png'))"
   ]
  },
  {
   "cell_type": "code",
   "execution_count": 22,
   "metadata": {},
   "outputs": [],
   "source": [
    "quit()"
   ]
  },
  {
   "cell_type": "code",
   "execution_count": null,
   "metadata": {},
   "outputs": [],
   "source": []
  },
  {
   "cell_type": "code",
   "execution_count": null,
   "metadata": {},
   "outputs": [],
   "source": []
  }
 ],
 "metadata": {
  "kernelspec": {
   "display_name": "goofit-june2020",
   "language": "python",
   "name": "goofit-june2020"
  },
  "language_info": {
   "codemirror_mode": {
    "name": "ipython",
    "version": 3
   },
   "file_extension": ".py",
   "mimetype": "text/x-python",
   "name": "python",
   "nbconvert_exporter": "python",
   "pygments_lexer": "ipython3",
   "version": "3.7.6"
  }
 },
 "nbformat": 4,
 "nbformat_minor": 2
}
