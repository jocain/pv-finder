{
 "cells": [
  {
   "cell_type": "code",
   "execution_count": 1,
   "metadata": {},
   "outputs": [],
   "source": [
    "##%matplotlib widget\n",
    "## with %matplotlib notebook: seems to require ipympl as part of environment, either\n",
    "## part of the conda environment or \"pip install ipympl\"\n",
    "## otherwise, does not show ANY plots in note\"book, plt.savefig() works\n",
    "%matplotlib notebook  \n",
    "##%matplotlib inline    ## --plt.savefig()  works, but re-sizing does NOT\n"
   ]
  },
  {
   "cell_type": "markdown",
   "metadata": {},
   "source": [
    "This notebook is the second attempt to read in track information and use it to predict the KDE used as input to PvFinder. This time, we are reading in poca KDEs rather than the original KDEs. \n",
    "\n",
    "collectdata_kde_C.py uses poca_z, poca_x, poca_y, major_axis_x, major_axis_y, and major_axis_z as the six track parameters (for the moment)\n"
   ]
  },
  {
   "cell_type": "markdown",
   "metadata": {},
   "source": [
    "Check the current GPU usage. Please try to be nice!"
   ]
  },
  {
   "cell_type": "code",
   "execution_count": 2,
   "metadata": {},
   "outputs": [
    {
     "name": "stdout",
     "output_type": "stream",
     "text": [
      "Sat Jan 23 21:24:24 2021       \r\n",
      "+-----------------------------------------------------------------------------+\r\n",
      "| NVIDIA-SMI 450.36.06    Driver Version: 450.36.06    CUDA Version: 11.0     |\r\n",
      "|-------------------------------+----------------------+----------------------+\r\n",
      "| GPU  Name        Persistence-M| Bus-Id        Disp.A | Volatile Uncorr. ECC |\r\n",
      "| Fan  Temp  Perf  Pwr:Usage/Cap|         Memory-Usage | GPU-Util  Compute M. |\r\n",
      "|                               |                      |               MIG M. |\r\n",
      "|===============================+======================+======================|\r\n",
      "|   0  GeForce RTX 208...  On   | 00000000:18:00.0 Off |                  N/A |\r\n",
      "| 29%   35C    P8    38W / 250W |      1MiB / 11019MiB |      0%      Default |\r\n",
      "|                               |                      |                  N/A |\r\n",
      "+-------------------------------+----------------------+----------------------+\r\n",
      "|   1  GeForce RTX 208...  On   | 00000000:3B:00.0 Off |                  N/A |\r\n",
      "| 50%   83C    P2   236W / 250W |   8192MiB / 11019MiB |     87%      Default |\r\n",
      "|                               |                      |                  N/A |\r\n",
      "+-------------------------------+----------------------+----------------------+\r\n",
      "                                                                               \r\n",
      "+-----------------------------------------------------------------------------+\r\n",
      "| Processes:                                                                  |\r\n",
      "|  GPU   GI   CI        PID   Type   Process name                  GPU Memory |\r\n",
      "|        ID   ID                                                   Usage      |\r\n",
      "|=============================================================================|\r\n",
      "|    1   N/A  N/A      3736      G   /usr/bin/X                         33MiB |\r\n",
      "|    1   N/A  N/A      3790      G   /usr/bin/gnome-shell               24MiB |\r\n",
      "|    1   N/A  N/A    257359      C   ...s/june2020-gpu/bin/python     8129MiB |\r\n",
      "+-----------------------------------------------------------------------------+\r\n"
     ]
    }
   ],
   "source": [
    "!nvidia-smi"
   ]
  },
  {
   "cell_type": "markdown",
   "metadata": {},
   "source": [
    "> **WARNING**: The card numbers here are *not* the same as in CUDA. You have been warned."
   ]
  },
  {
   "cell_type": "markdown",
   "metadata": {},
   "source": [
    "This notebook is first attempt to read in track information and use it to predict the KDE used as input to PvFinder.\n"
   ]
  },
  {
   "cell_type": "markdown",
   "metadata": {},
   "source": [
    "## Imports"
   ]
  },
  {
   "cell_type": "code",
   "execution_count": 3,
   "metadata": {},
   "outputs": [],
   "source": [
    "import matplotlib.pyplot as plt\n",
    "import numpy as np\n",
    "import time\n",
    "import torch\n",
    "import pandas as pd\n",
    "\n",
    "# Python 3 standard library\n",
    "from pathlib import Path\n",
    "\n",
    "##from torchsummary import summary"
   ]
  },
  {
   "cell_type": "markdown",
   "metadata": {},
   "source": [
    "### Set up local parameters"
   ]
  },
  {
   "cell_type": "code",
   "execution_count": 4,
   "metadata": {},
   "outputs": [],
   "source": [
    "n_epochs = 75\n",
    "\n",
    "# Name is the output file name\n",
    "\n",
    "\n",
    "\n",
    "\n",
    "\n",
    "folder = '23Jan_DDplus_KDE_B_loss_Ba_iter4B_floatAll_75epochs_1em5_4xwill'\n",
    "name   = folder\n",
    "\n",
    "# Make an output folder named \"name\" (change if you want)\n",
    "\n",
    "## Special instructions for those working on goofy at UC\n",
    "## Please be very careful to make sure that your folder\n",
    "## does not live in a subdirectory of your home directory\n",
    "## this disk has very little capacity. Instead, use \n",
    "## a subdirectory in /share/lazy with a symbolic link to\n",
    "## it in this (the notebooks) subdirectory\n",
    "folder = 'ML/' + folder\n",
    "output = Path(folder)\n",
    "\n",
    "\n",
    "# Size of batches\n",
    "batch_size = 48 ## batch_size = 24 ---> 4763MiB / 12066MiB on Titan V\n",
    "# How fast to learn\n",
    "learning_rate = 1e-5"
   ]
  },
  {
   "cell_type": "markdown",
   "metadata": {},
   "source": [
    "Make the output directory if it does not exist:"
   ]
  },
  {
   "cell_type": "code",
   "execution_count": 5,
   "metadata": {},
   "outputs": [],
   "source": [
    "output.mkdir(exist_ok=True)"
   ]
  },
  {
   "cell_type": "markdown",
   "metadata": {},
   "source": [
    "## Get the helper functions\n",
    "\n",
    "Add the directory with the model\n",
    "definitions to the path so we can import from it:\n",
    "\n",
    "> When you type `import X`,\n",
    "Python searches `sys.path` for a python\n",
    "file named `X.py` to import. So we need to add the model directory to the path."
   ]
  },
  {
   "cell_type": "code",
   "execution_count": 6,
   "metadata": {
    "scrolled": true
   },
   "outputs": [],
   "source": [
    "# From model/collectdata.py\n",
    "##from model.collectdata_kde_B import collect_t2kde_data\n",
    "## collectdata_kde_C should use the new poca KDE rather than the original kernel KDE\n",
    "from model.collectdata_kdeB_Ellipsoids import collect_t2kde_data\n",
    "\n",
    "\n",
    "# From model/loss.py\n",
    "##from loss import Loss\n",
    "## kde_loss_D includes botha ratio term and a chisq term, 98% ave_chisq\n",
    "## kde_loss_E adds a chi^4 term to the kde_loss_D return value\n",
    "## this is intended to emphasize the importance of values significantly different than zero\n",
    "from model.kde_loss_Ba import Loss\n",
    "\n",
    "##  TracksToKDE_Ellipsoids_SevenLayerCake has 7 hidden layers producing the 4000-bin KDE historgram\n",
    "##  It takes 9 input features (pocca centers + (A,B,C,D,E,F) . \n",
    "from model.models_kde import TracksToKDE_Ellipsoids_DDplus as Model\n",
    "\n",
    "\n",
    "from model.training_kde import trainNet, select_gpu, Results\n",
    "from model.plots import dual_train_plots, replace_in_ax"
   ]
  },
  {
   "cell_type": "code",
   "execution_count": 7,
   "metadata": {},
   "outputs": [],
   "source": [
    "# This gets built up during the run - do not rerun this cell\n",
    "results = pd.DataFrame([], columns=Results._fields)"
   ]
  },
  {
   "cell_type": "markdown",
   "metadata": {},
   "source": [
    "Set up Torch device configuration. All tensors and model parameters need to know where to be put.\n",
    "This takes a BUS ID number: The BUS ID is the same as the listing at the top of this script."
   ]
  },
  {
   "cell_type": "code",
   "execution_count": 8,
   "metadata": {},
   "outputs": [
    {
     "name": "stdout",
     "output_type": "stream",
     "text": [
      "1 available GPUs (initially using device 0):\n",
      "  0 GeForce RTX 2080 Ti\n"
     ]
    }
   ],
   "source": [
    "device = select_gpu(0)\n",
    "##device = \"cpu\""
   ]
  },
  {
   "cell_type": "markdown",
   "metadata": {},
   "source": [
    "## Loading data\n",
    "\n",
    "Load the dataset, split into parts, then move to device (see `collectdata.py` in the `../model` directory)"
   ]
  },
  {
   "cell_type": "markdown",
   "metadata": {},
   "source": [
    "# Preparing the model"
   ]
  },
  {
   "cell_type": "markdown",
   "metadata": {},
   "source": [
    "Prepare a model, use multiple GPUs if they are VISIBLE, and move the model to the device."
   ]
  },
  {
   "cell_type": "code",
   "execution_count": 9,
   "metadata": {
    "scrolled": true
   },
   "outputs": [],
   "source": [
    "##print(\"Let's use\", torch.cuda.device_count(), \"GPUs!\")\n",
    "##if torch.cuda.device_count() > 1:\n",
    "##    model = torch.nn.DataParallel(model)"
   ]
  },
  {
   "cell_type": "code",
   "execution_count": 10,
   "metadata": {},
   "outputs": [
    {
     "name": "stdout",
     "output_type": "stream",
     "text": [
      "ct, child =  0    Linear(in_features=9, out_features=50, bias=True)\n",
      "ct, child =  1    Linear(in_features=50, out_features=50, bias=True)\n",
      "ct, child =  2    Linear(in_features=50, out_features=50, bias=True)\n",
      "ct, child =  3    Linear(in_features=50, out_features=50, bias=True)\n",
      "ct, child =  4    Linear(in_features=50, out_features=50, bias=True)\n",
      "ct, child =  5    Linear(in_features=50, out_features=50, bias=True)\n",
      "ct, child =  6    Linear(in_features=50, out_features=50, bias=True)\n",
      "ct, child =  7    Linear(in_features=50, out_features=50, bias=True)\n",
      "ct, child =  8    Linear(in_features=50, out_features=50, bias=True)\n",
      "ct, child =  9    Linear(in_features=50, out_features=50, bias=True)\n",
      "ct, child =  10    Linear(in_features=50, out_features=50, bias=True)\n",
      "ct, child =  11    Linear(in_features=50, out_features=16000, bias=True)\n",
      "ct, child =  12    Conv1d(4, 25, kernel_size=(25,), stride=(1,), padding=(12,))\n",
      "ct, child =  13    Conv1d(25, 1, kernel_size=(5,), stride=(1,), padding=(2,))\n",
      "ct, child =  14    Linear(in_features=4000, out_features=4000, bias=True)\n",
      "ct, child =  15    Conv1d(25, 1, kernel_size=(15,), stride=(1,), padding=(7,))\n",
      "ct, child =  16    Dropout(p=0.15, inplace=False)\n",
      "ct, child =  17    Dropout(p=0.15, inplace=False)\n"
     ]
    }
   ],
   "source": [
    "## a comment on the web at https://pytorch.org/docs/stable/optim.html says\n",
    "\"\"\"\n",
    "If you need to move a model to GPU via .cuda(), please do so before constructing optimizers for it. \n",
    "Parameters of a model after .cuda() will be different objects with those before the call.\n",
    "\n",
    "In general, you should make sure that optimized parameters live in consistent locations when \n",
    "optimizers are constructed and used.\n",
    "\"\"\"\n",
    "## so move this here (although we are using model.to(device) not explicitly using .cuda()\n",
    "\n",
    "nOut1 = 50\n",
    "nOut2 = 50\n",
    "nOut3 = 50\n",
    "nOut4 = 50\n",
    "nOut5 = 50\n",
    "nOut6 = 50\n",
    "nOut7 = 50\n",
    "nOut8 = 50\n",
    "nOut9 = 50\n",
    "nOut10 = 50\n",
    "nOut11 = 50\n",
    "latentChannels = 4\n",
    "model = Model(nOut1,nOut2,nOut3,nOut4,nOut5,nOut6,nOut7,nOut8,nOut9,nOut10,nOut11,latentChannels)\n",
    "\n",
    "##summary(model, input_size=(4, 4000))\n",
    "##print(model.parameters)\n",
    "\n",
    "## add the following code to allow the user to freeze the some of the weights corresponding \n",
    "## to those taken from an earlier model trained with the original target histograms\n",
    "## presumably -- this leaves either the perturbative filter \"fixed\" and lets the \n",
    "## learning focus on the non-perturbative features, so get started faster, or vice versa\n",
    "ct = 0\n",
    "for child in model.children():\n",
    "  print('ct, child = ',ct, \"  \", child)\n",
    "  if ct < 0:\n",
    "    print(\"     About to set param.requires_grad=False for ct = \", ct, \"params\")\n",
    "    for param in child.parameters():\n",
    "        param.requires_grad = False \n",
    "  ct += 1\n",
    "##  mds 200121 loss = Loss(epsilon=1e-5,coefficient=1.0)\n",
    "##  loss = Loss(epsilon=1e-5,coefficient=2.5)\n",
    "##loss = Loss(epsilon=3e-5, debug=False)\n",
    "loss = Loss(epsilon=3e-5)"
   ]
  },
  {
   "cell_type": "markdown",
   "metadata": {},
   "source": [
    "Let's move the model's weight matricies to the GPU:"
   ]
  },
  {
   "cell_type": "code",
   "execution_count": 11,
   "metadata": {
    "scrolled": true
   },
   "outputs": [],
   "source": [
    "model = model.to(device)"
   ]
  },
  {
   "cell_type": "code",
   "execution_count": 12,
   "metadata": {
    "scrolled": true
   },
   "outputs": [],
   "source": [
    "optimizer = torch.optim.Adam(model.parameters(), lr=learning_rate)\n",
    "##optimizer = torch.optim.SGD(model.parameters(), lr=learning_rate)"
   ]
  },
  {
   "cell_type": "code",
   "execution_count": 13,
   "metadata": {
    "scrolled": false
   },
   "outputs": [
    {
     "name": "stdout",
     "output_type": "stream",
     "text": [
      "output =  ML/23Jan_DDplus_KDE_B_loss_Ba_iter4B_floatAll_75epochs_1em5_4xwill\n",
      "for model_dict\n",
      "index, k =   0    layer1.weight\n",
      "index, k =   1    layer1.bias\n",
      "index, k =   2    layer2.weight\n",
      "index, k =   3    layer2.bias\n",
      "index, k =   4    layer3.weight\n",
      "index, k =   5    layer3.bias\n",
      "index, k =   6    layer4.weight\n",
      "index, k =   7    layer4.bias\n",
      "index, k =   8    layer5.weight\n",
      "index, k =   9    layer5.bias\n",
      "index, k =   10    layer6.weight\n",
      "index, k =   11    layer6.bias\n",
      "index, k =   12    layer7.weight\n",
      "index, k =   13    layer7.bias\n",
      "index, k =   14    layer8.weight\n",
      "index, k =   15    layer8.bias\n",
      "index, k =   16    layer9.weight\n",
      "index, k =   17    layer9.bias\n",
      "index, k =   18    layer10.weight\n",
      "index, k =   19    layer10.bias\n",
      "index, k =   20    layer11.weight\n",
      "index, k =   21    layer11.bias\n",
      "index, k =   22    layer12new.weight\n",
      "index, k =   23    layer12new.bias\n",
      "index, k =   24    conv1.weight\n",
      "index, k =   25    conv1.bias\n",
      "index, k =   26    conv2.weight\n",
      "index, k =   27    conv2.bias\n",
      "index, k =   28    fc1.weight\n",
      "index, k =   29    fc1.bias\n",
      "index, k =   30    finalFilter.weight\n",
      "index, k =   31    finalFilter.bias\n",
      "dict_name =  ML/23Jan_DDplus_KDE_B_loss_Ba_iter3B_floatAll_50epochs_1em5_4xwill/23Jan_DDplus_KDE_B_loss_Ba_iter3B_floatAll_50epochs_1em5_4xwill_final.pyt\n",
      " \n",
      "  for pretrained_dict\n",
      "index, k =   0    layer1.weight\n",
      "index, k =   1    layer1.bias\n",
      "index, k =   2    layer2.weight\n",
      "index, k =   3    layer2.bias\n",
      "index, k =   4    layer3.weight\n",
      "index, k =   5    layer3.bias\n",
      "index, k =   6    layer4.weight\n",
      "index, k =   7    layer4.bias\n",
      "index, k =   8    layer5.weight\n",
      "index, k =   9    layer5.bias\n",
      "index, k =   10    layer6.weight\n",
      "index, k =   11    layer6.bias\n",
      "index, k =   12    layer7.weight\n",
      "index, k =   13    layer7.bias\n",
      "index, k =   14    layer8.weight\n",
      "index, k =   15    layer8.bias\n",
      "index, k =   16    layer9.weight\n",
      "index, k =   17    layer9.bias\n",
      "index, k =   18    layer10.weight\n",
      "index, k =   19    layer10.bias\n",
      "index, k =   20    layer11.weight\n",
      "index, k =   21    layer11.bias\n",
      "index, k =   22    layer12new.weight\n",
      "index, k =   23    layer12new.bias\n",
      "index, k =   24    conv1.weight\n",
      "index, k =   25    conv1.bias\n",
      "index, k =   26    conv2.weight\n",
      "index, k =   27    conv2.bias\n",
      "index, k =   28    fc1.weight\n",
      "index, k =   29    fc1.bias\n",
      "index, k =   30    finalFilter.weight\n",
      "index, k =   31    finalFilter.bias\n",
      "pretrained_dict iterated\n"
     ]
    },
    {
     "data": {
      "text/plain": [
       "<All keys matched successfully>"
      ]
     },
     "execution_count": 13,
     "metadata": {},
     "output_type": "execute_result"
    }
   ],
   "source": [
    "print('output = ',output)\n",
    "##print('oldOutput = ',oldOutput)\n",
    "##  use the first four layers from a pre-existing model\n",
    "##  see example at https://discuss.pytorch.org/t/how-to-load-part-of-pre-trained-model/1113\n",
    "\n",
    "##   ML -> /share/lazy/sokoloff/ML\n",
    "model_dict = model.state_dict()\n",
    "## mds 190725 for debugging\n",
    "print(\"for model_dict\")\n",
    "index = 0\n",
    "for k,v in model_dict.items():\n",
    "    print(\"index, k =  \",index,\"  \",k)\n",
    "    index = index+1\n",
    "##    print(\"value = \", v)\n",
    " \n",
    "updated_dict = model_dict\n",
    "##print(\"updated_dict = \",updated_dict)\n",
    "## when starting \"ab initio\", reduce biases as the bias gets summed for each track\n",
    "## contributing to the predicted KDE\n",
    "updated_dict[\"layer1.bias\"] = 0.005*model_dict[\"layer1.bias\"]\n",
    "updated_dict[\"layer2.bias\"] = 0.005*model_dict[\"layer2.bias\"]\n",
    "updated_dict[\"layer3.bias\"] = 0.005*model_dict[\"layer3.bias\"]\n",
    "updated_dict[\"layer4.bias\"] = 0.005*model_dict[\"layer4.bias\"]\n",
    "updated_dict[\"layer5.bias\"] = 0.005*model_dict[\"layer5.bias\"]\n",
    "updated_dict[\"layer6.bias\"] = 0.005*model_dict[\"layer6.bias\"]\n",
    "updated_dict[\"layer7.bias\"] = 0.005*model_dict[\"layer7.bias\"]\n",
    "updated_dict[\"layer8.bias\"] = 0.005*model_dict[\"layer8.bias\"]\n",
    "updated_dict[\"layer9.bias\"] = 0.005*model_dict[\"layer9.bias\"]\n",
    "updated_dict[\"layer10.bias\"] = 0.005*model_dict[\"layer10.bias\"]\n",
    "updated_dict[\"layer11.bias\"] = 0.005*model_dict[\"layer11.bias\"]\n",
    "\n",
    "model.load_state_dict(updated_dict,strict=False)\n",
    "\n",
    "model_dict = model.state_dict()\n",
    "##print(\"updated model_dict = \",model_dict)\n",
    "\n",
    "## print(\" \\n\",\"  for pretrained_dict\")\n",
    "## index = 0\n",
    "##for k,v in pretrained_dict.items():\n",
    "##    print(\"index, k =  \",index,\"  \",k)\n",
    "##    index = index+1\n",
    "## mds  \n",
    "\n",
    "##pretrained_dict = torch.load('ML/29July2020_Trks_to_KDE_C_lossB_100epochs_b64_1m3_nOut_50x50/29July2020_Trks_to_KDE_C_lossB_100epochs_b64_1m3_nOut_50x50_final.pyt')\n",
    "##print(\"model_dict instantiated\")\n",
    "# 1. filter out unnecessary keys\n",
    "##pretrained_dict = {k: v for k, v in pretrained_dict.items() if k in model_dict}\n",
    "##print(\"pretrained_dict iterated\")\n",
    "# 2. overwrite entries in the existing state dict\n",
    "##model_dict.update(pretrained_dict) \n",
    "##\n",
    "#   when starting from a model with a fully connected last layer rather than a convolutional layer\n",
    "# 3. load the new state dict\n",
    "#   need to use strict=False as the two models state model attributes do not agree exactly\n",
    "#   see https://pytorch.org/docs/master/_modules/torch/nn/modules/module.html#Module.load_state_dict\n",
    "\n",
    "##model.load_state_dict(pretrained_dict,strict=False)\n",
    "\n",
    "## print('model_dict =    ', model_dict)\n",
    "\n",
    "## finished at training cost = 1.46, validation cost = 1.50\n",
    "##d_folder = '25December__DDplus_loss_Ba_iter7_floatAll_800epochs_4em6'\n",
    "d_folder = '23Jan_DDplus_KDE_B_loss_Ba_iter3B_floatAll_50epochs_1em5_4xwill'\n",
    "d_name = d_folder\n",
    "suffix = 'final'\n",
    "dict_name = 'ML/' + d_folder + '/' + d_name + '_'+ suffix + '.pyt'\n",
    "print('dict_name = ',dict_name)\n",
    "pretrained_dict = torch.load(dict_name)\n",
    "\n",
    "print(\" \")\n",
    "print(\"  for pretrained_dict\")\n",
    "index = 0\n",
    "for k,v in pretrained_dict.items():\n",
    "    print(\"index, k =  \",index,\"  \",k)\n",
    "    index = index+1\n",
    " \n",
    "\n",
    "##print(\"model_dict instantiated\")\n",
    "# 1. filter out unnecessary keys\n",
    "pretrained_dict = {k: v for k, v in pretrained_dict.items() if k in model_dict}\n",
    "print(\"pretrained_dict iterated\")\n",
    "# 2. overwrite entries in the existing state dict\n",
    "model_dict.update(pretrained_dict) \n",
    "##\n",
    "#   when starting from a model with a fully connected last layer rather than a convolutional layer\n",
    "# 3. load the new state dict\n",
    "#   need to use strict=False as the two models state model attributes do not agree exactly\n",
    "#   see https://pytorch.org/docs/master/_modules/torch/nn/modules/module.html#Module.load_state_dict\n",
    "\n",
    "model.load_state_dict(pretrained_dict,strict=False)\n",
    "\n"
   ]
  },
  {
   "cell_type": "code",
   "execution_count": 14,
   "metadata": {},
   "outputs": [],
   "source": [
    "##print('validation.dataset.tensors = ',validation.dataset.tensors)\n",
    "fig_size = plt.rcParams[\"figure.figsize\"]\n",
    "fig_size[0] = 10\n",
    "fig_size[1] = 4\n",
    "plt.rcParams[\"figure.figsize\"] = fig_size"
   ]
  },
  {
   "cell_type": "code",
   "execution_count": 15,
   "metadata": {
    "scrolled": false
   },
   "outputs": [
    {
     "name": "stdout",
     "output_type": "stream",
     "text": [
      "Loading data...\n",
      "pocaMx.shape =  (80000,)\n",
      "nEvts =  80000\n",
      "len(pocaMx[0]) =  199\n",
      "len(pocaMx[1]) =  25\n",
      "len(pocaMx[2]) =  369\n",
      "len(pocaMx[3]) =  143\n",
      "len(pocaMx[4]) =  160\n",
      "majorAxis.shape =  (80000, 3)\n",
      "minorAxis_1.shape =  (80000, 3)\n",
      "minorAxis_2.shape =  (80000, 3)\n",
      "have entered six_ellipsoid_parameters\n",
      "  \n",
      " \n",
      "  nEvts =  80000\n",
      " iEvt, nTrks =  0 199\n",
      " iEvt, nTrks =  1 25\n",
      " iEvt, nTrks =  2 369\n",
      " iEvt, nTrks =  3 143\n",
      " iEvt, nTrks =  4 160\n",
      " iEvt, nTrks =  5 260\n",
      " iEvt, nTrks =  6 237\n",
      " iEvt, nTrks =  7 327\n",
      " iEvt, nTrks =  8 178\n",
      " iEvt, nTrks =  9 106\n",
      "A.shape =  (80000,)\n",
      "majorAxis[iTrk][0][0] =  0.00045611936\n",
      "majorAxis[iTrk][1][0] =  -4.8292455e-05\n",
      "majorAxis[iTrk][2][0] =  0.090019904\n",
      "minorAxis_1[iTrk][0][0] =  -1.8602173\n",
      "minorAxis_1[iTrk][1][0] =  -17.569641\n",
      "minorAxis_1[iTrk][2][0] =  4.7891795e-08\n",
      "minorAxis_2[iTrk][0][0] =  -17.569414\n",
      "minorAxis_2[iTrk][1][0] =  1.8601931\n",
      "minorAxis_2[iTrk][2][0] =  0.0900199\n",
      "  \n",
      "majorAxis[iTrk][0][0] =  0.002360258\n",
      "majorAxis[iTrk][1][0] =  -0.007426616\n",
      "majorAxis[iTrk][2][0] =  0.3710108\n",
      "minorAxis_1[iTrk][0][0] =  -16.837948\n",
      "minorAxis_1[iTrk][1][0] =  -5.3512807\n",
      "minorAxis_1[iTrk][2][0] =  8.157131e-09\n",
      "minorAxis_2[iTrk][0][0] =  -5.3501005\n",
      "minorAxis_2[iTrk][1][0] =  16.834236\n",
      "minorAxis_2[iTrk][2][0] =  0.3710108\n",
      "  \n",
      "majorAxis[iTrk][0][0] =  6.220712e-05\n",
      "majorAxis[iTrk][1][0] =  -4.4594188e-05\n",
      "majorAxis[iTrk][2][0] =  0.036773544\n",
      "minorAxis_1[iTrk][0][0] =  10.293747\n",
      "minorAxis_1[iTrk][1][0] =  14.359369\n",
      "minorAxis_1[iTrk][2][0] =  1.571041e-06\n",
      "minorAxis_2[iTrk][0][0] =  14.359338\n",
      "minorAxis_2[iTrk][1][0] =  -10.293725\n",
      "minorAxis_2[iTrk][2][0] =  -0.03677354\n",
      "  \n",
      "len(X) =  80000\n",
      "len(Xlist) =  1\n",
      "Loaded /share/lazy/will/data/June30_2020_80k_1.h5 in 167.0 s\n",
      "pocaMx.shape =  (80000,)\n",
      "nEvts =  80000\n",
      "len(pocaMx[0]) =  222\n",
      "len(pocaMx[1]) =  133\n",
      "len(pocaMx[2]) =  259\n",
      "len(pocaMx[3]) =  114\n",
      "len(pocaMx[4]) =  143\n",
      "majorAxis.shape =  (80000, 3)\n",
      "minorAxis_1.shape =  (80000, 3)\n",
      "minorAxis_2.shape =  (80000, 3)\n",
      "have entered six_ellipsoid_parameters\n",
      "  \n",
      " \n",
      "  nEvts =  80000\n",
      " iEvt, nTrks =  0 222\n",
      " iEvt, nTrks =  1 133\n",
      " iEvt, nTrks =  2 259\n",
      " iEvt, nTrks =  3 114\n",
      " iEvt, nTrks =  4 143\n",
      " iEvt, nTrks =  5 136\n",
      " iEvt, nTrks =  6 397\n",
      " iEvt, nTrks =  7 370\n",
      " iEvt, nTrks =  8 97\n",
      " iEvt, nTrks =  9 67\n",
      "A.shape =  (80000,)\n",
      "majorAxis[iTrk][0][0] =  -0.001036478\n",
      "majorAxis[iTrk][1][0] =  0.0009833863\n",
      "majorAxis[iTrk][2][0] =  0.15887721\n",
      "minorAxis_1[iTrk][0][0] =  -12.160475\n",
      "minorAxis_1[iTrk][1][0] =  -12.817002\n",
      "minorAxis_1[iTrk][2][0] =  0.0\n",
      "minorAxis_2[iTrk][0][0] =  -12.816484\n",
      "minorAxis_2[iTrk][1][0] =  12.159985\n",
      "minorAxis_2[iTrk][2][0] =  -0.15887721\n",
      "  \n",
      "majorAxis[iTrk][0][0] =  0.0016579849\n",
      "majorAxis[iTrk][1][0] =  0.0020989499\n",
      "majorAxis[iTrk][2][0] =  0.21738033\n",
      "minorAxis_1[iTrk][0][0] =  -13.864233\n",
      "minorAxis_1[iTrk][1][0] =  10.95152\n",
      "minorAxis_1[iTrk][2][0] =  -3.3017489e-09\n",
      "minorAxis_2[iTrk][0][0] =  10.95069\n",
      "minorAxis_2[iTrk][1][0] =  13.863184\n",
      "minorAxis_2[iTrk][2][0] =  -0.21738033\n",
      "  \n",
      "majorAxis[iTrk][0][0] =  0.00012481198\n",
      "majorAxis[iTrk][1][0] =  -0.00028747538\n",
      "majorAxis[iTrk][2][0] =  0.07441149\n",
      "minorAxis_1[iTrk][0][0] =  -16.206305\n",
      "minorAxis_1[iTrk][1][0] =  -7.036224\n",
      "minorAxis_1[iTrk][2][0] =  5.3456716e-08\n",
      "minorAxis_2[iTrk][0][0] =  -7.0361605\n",
      "minorAxis_2[iTrk][1][0] =  16.20616\n",
      "minorAxis_2[iTrk][2][0] =  0.07441148\n",
      "  \n",
      "len(X) =  80000\n",
      "len(Xlist) =  2\n",
      "Loaded /share/lazy/will/data/June30_2020_80k_2.h5 in 167.1 s\n",
      "pocaMx.shape =  (80000,)\n",
      "nEvts =  80000\n",
      "len(pocaMx[0]) =  196\n",
      "len(pocaMx[1]) =  35\n",
      "len(pocaMx[2]) =  265\n",
      "len(pocaMx[3]) =  128\n",
      "len(pocaMx[4]) =  124\n",
      "majorAxis.shape =  (80000, 3)\n",
      "minorAxis_1.shape =  (80000, 3)\n",
      "minorAxis_2.shape =  (80000, 3)\n",
      "have entered six_ellipsoid_parameters\n",
      "  \n",
      " \n",
      "  nEvts =  80000\n",
      " iEvt, nTrks =  0 196\n",
      " iEvt, nTrks =  1 35\n",
      " iEvt, nTrks =  2 265\n",
      " iEvt, nTrks =  3 128\n",
      " iEvt, nTrks =  4 124\n",
      " iEvt, nTrks =  5 122\n",
      " iEvt, nTrks =  6 300\n",
      " iEvt, nTrks =  7 179\n",
      " iEvt, nTrks =  8 243\n",
      " iEvt, nTrks =  9 112\n",
      "A.shape =  (80000,)\n",
      "majorAxis[iTrk][0][0] =  -2.440992e-05\n",
      "majorAxis[iTrk][1][0] =  -0.00038087237\n",
      "majorAxis[iTrk][2][0] =  0.08211532\n",
      "minorAxis_1[iTrk][0][0] =  -17.631672\n",
      "minorAxis_1[iTrk][1][0] =  1.130005\n",
      "minorAxis_1[iTrk][2][0] =  4.7444193e-08\n",
      "minorAxis_2[iTrk][0][0] =  1.1299927\n",
      "minorAxis_2[iTrk][1][0] =  17.631481\n",
      "minorAxis_2[iTrk][2][0] =  0.08211532\n",
      "  \n",
      "majorAxis[iTrk][0][0] =  -0.02277395\n",
      "majorAxis[iTrk][1][0] =  0.0014473597\n",
      "majorAxis[iTrk][2][0] =  0.6347583\n",
      "minorAxis_1[iTrk][0][0] =  -1.1205891\n",
      "minorAxis_1[iTrk][1][0] =  -17.632273\n",
      "minorAxis_1[iTrk][2][0] =  2.1543272e-09\n",
      "minorAxis_2[iTrk][0][0] =  -17.620888\n",
      "minorAxis_2[iTrk][1][0] =  1.1198657\n",
      "minorAxis_2[iTrk][2][0] =  -0.63475823\n",
      "  \n",
      "majorAxis[iTrk][0][0] =  0.0004024825\n",
      "majorAxis[iTrk][1][0] =  -0.00023784715\n",
      "majorAxis[iTrk][2][0] =  0.090883136\n",
      "minorAxis_1[iTrk][0][0] =  -8.988615\n",
      "minorAxis_1[iTrk][1][0] =  -15.210441\n",
      "minorAxis_1[iTrk][2][0] =  -6.56547e-08\n",
      "minorAxis_2[iTrk][0][0] =  -15.21024\n",
      "minorAxis_2[iTrk][1][0] =  8.988497\n",
      "minorAxis_2[iTrk][2][0] =  0.090883136\n",
      "  \n",
      "len(X) =  80000\n",
      "len(Xlist) =  3\n",
      "Loaded /share/lazy/will/data/June30_2020_80k_3.h5 in 168.2 s\n",
      "pocaMx.shape =  (80000,)\n",
      "nEvts =  80000\n",
      "len(pocaMx[0]) =  204\n",
      "len(pocaMx[1]) =  33\n",
      "len(pocaMx[2]) =  206\n",
      "len(pocaMx[3]) =  150\n",
      "len(pocaMx[4]) =  96\n",
      "majorAxis.shape =  (80000, 3)\n",
      "minorAxis_1.shape =  (80000, 3)\n",
      "minorAxis_2.shape =  (80000, 3)\n",
      "have entered six_ellipsoid_parameters\n",
      "  \n",
      " \n",
      "  nEvts =  80000\n",
      " iEvt, nTrks =  0 204\n",
      " iEvt, nTrks =  1 33\n",
      " iEvt, nTrks =  2 206\n",
      " iEvt, nTrks =  3 150\n",
      " iEvt, nTrks =  4 96\n",
      " iEvt, nTrks =  5 10\n",
      " iEvt, nTrks =  6 174\n",
      " iEvt, nTrks =  7 320\n",
      " iEvt, nTrks =  8 164\n",
      " iEvt, nTrks =  9 119\n",
      "A.shape =  (80000,)\n",
      "majorAxis[iTrk][0][0] =  0.00057876867\n",
      "majorAxis[iTrk][1][0] =  0.00037603904\n",
      "majorAxis[iTrk][2][0] =  0.110427074\n",
      "minorAxis_1[iTrk][0][0] =  9.62588\n",
      "minorAxis_1[iTrk][1][0] =  -14.81537\n",
      "minorAxis_1[iTrk][2][0] =  8.391163e-09\n",
      "minorAxis_2[iTrk][0][0] =  -14.815081\n",
      "minorAxis_2[iTrk][1][0] =  -9.625692\n",
      "minorAxis_2[iTrk][2][0] =  0.11042709\n",
      "  \n",
      "majorAxis[iTrk][0][0] =  -7.687664e-05\n",
      "majorAxis[iTrk][1][0] =  -0.0017985329\n",
      "majorAxis[iTrk][2][0] =  0.17833562\n",
      "minorAxis_1[iTrk][0][0] =  -17.651728\n",
      "minorAxis_1[iTrk][1][0] =  0.7545069\n",
      "minorAxis_1[iTrk][2][0] =  -7.932265e-09\n",
      "minorAxis_2[iTrk][0][0] =  0.75446844\n",
      "minorAxis_2[iTrk][1][0] =  17.650827\n",
      "minorAxis_2[iTrk][2][0] =  0.17833562\n",
      "  \n",
      "majorAxis[iTrk][0][0] =  4.5855802e-05\n",
      "majorAxis[iTrk][1][0] =  -0.00054240844\n",
      "majorAxis[iTrk][2][0] =  0.098067455\n",
      "minorAxis_1[iTrk][0][0] =  17.605043\n",
      "minorAxis_1[iTrk][1][0] =  1.4883496\n",
      "minorAxis_1[iTrk][2][0] =  -2.7847218e-08\n",
      "minorAxis_2[iTrk][0][0] =  1.4883265\n",
      "minorAxis_2[iTrk][1][0] =  -17.604773\n",
      "minorAxis_2[iTrk][2][0] =  -0.098067455\n",
      "  \n",
      "len(X) =  80000\n",
      "len(Xlist) =  4\n",
      "Loaded /share/lazy/will/data/June30_2020_80k_4.h5 in 170.3 s\n",
      "outer loop X.shape =  (320000, 9, 600)\n",
      "Constructing 320000 event dataset took 2.263 s\n",
      "x_t.shape =  torch.Size([320000, 9, 600])\n",
      "x_t.shape[0] =  320000\n",
      "x_t.shape[1] =  9\n",
      "x_t.shape =  torch.Size([320000, 9, 600])\n",
      "Loading data...\n",
      "pocaMx.shape =  (20000,)\n",
      "nEvts =  20000\n",
      "len(pocaMx[0]) =  211\n",
      "len(pocaMx[1]) =  21\n",
      "len(pocaMx[2]) =  20\n",
      "len(pocaMx[3]) =  198\n",
      "len(pocaMx[4]) =  233\n",
      "majorAxis.shape =  (20000, 3)\n",
      "minorAxis_1.shape =  (20000, 3)\n",
      "minorAxis_2.shape =  (20000, 3)\n",
      "have entered six_ellipsoid_parameters\n",
      "  \n",
      " \n",
      "  nEvts =  20000\n",
      " iEvt, nTrks =  0 211\n",
      " iEvt, nTrks =  1 21\n",
      " iEvt, nTrks =  2 20\n",
      " iEvt, nTrks =  3 198\n",
      " iEvt, nTrks =  4 233\n",
      " iEvt, nTrks =  5 85\n",
      " iEvt, nTrks =  6 223\n",
      " iEvt, nTrks =  7 425\n",
      " iEvt, nTrks =  8 252\n",
      " iEvt, nTrks =  9 169\n",
      "A.shape =  (20000,)\n",
      "majorAxis[iTrk][0][0] =  -0.00023452607\n",
      "majorAxis[iTrk][1][0] =  -0.00047206535\n",
      "majorAxis[iTrk][2][0] =  0.096502915\n",
      "minorAxis_1[iTrk][0][0] =  -15.822749\n",
      "minorAxis_1[iTrk][1][0] =  7.8608756\n",
      "minorAxis_1[iTrk][2][0] =  -2.6228399e-08\n",
      "minorAxis_2[iTrk][0][0] =  7.860759\n",
      "minorAxis_2[iTrk][1][0] =  15.822513\n",
      "minorAxis_2[iTrk][2][0] =  0.096502915\n",
      "  \n",
      "majorAxis[iTrk][0][0] =  -0.37655562\n",
      "majorAxis[iTrk][1][0] =  0.2768704\n",
      "majorAxis[iTrk][2][0] =  2.8546858\n",
      "minorAxis_1[iTrk][0][0] =  -10.466048\n",
      "minorAxis_1[iTrk][1][0] =  -14.234274\n",
      "minorAxis_1[iTrk][2][0] =  2.2974699e-11\n",
      "minorAxis_2[iTrk][0][0] =  -14.04724\n",
      "minorAxis_2[iTrk][1][0] =  10.328527\n",
      "minorAxis_2[iTrk][2][0] =  -2.8546853\n",
      "  \n",
      "majorAxis[iTrk][0][0] =  -0.024279848\n",
      "majorAxis[iTrk][1][0] =  0.0019689242\n",
      "majorAxis[iTrk][2][0] =  0.65580803\n",
      "minorAxis_1[iTrk][0][0] =  -1.4280497\n",
      "minorAxis_1[iTrk][1][0] =  -17.610037\n",
      "minorAxis_1[iTrk][2][0] =  -6.123401e-10\n",
      "minorAxis_2[iTrk][0][0] =  -17.597902\n",
      "minorAxis_2[iTrk][1][0] =  1.4270656\n",
      "minorAxis_2[iTrk][2][0] =  -0.6558081\n",
      "  \n"
     ]
    },
    {
     "name": "stdout",
     "output_type": "stream",
     "text": [
      "len(X) =  20000\n",
      "len(Xlist) =  1\n",
      "Loaded dataAA/20K_POCA_kernel_evts_200926.h5 in 41.04 s\n",
      "outer loop X.shape =  (20000, 9, 600)\n",
      "Constructing 10000 event dataset took 0.0523 s\n",
      "x_t.shape =  torch.Size([10000, 9, 600])\n",
      "x_t.shape[0] =  10000\n",
      "x_t.shape[1] =  9\n",
      "x_t.shape =  torch.Size([10000, 9, 600])\n"
     ]
    }
   ],
   "source": [
    "\n",
    "## Training dataset. You can put as many files here as desired.\n",
    "\n",
    "##train_loader = collect_t2kde_data('/share/lazy/pv-finder/20k_evts_for_KDE_learning_200716.h5',\n",
    "train_loader = collect_t2kde_data('/share/lazy/will/data/June30_2020_80k_1.h5', \n",
    "                                    '/share/lazy/will/data/June30_2020_80k_2.h5',\n",
    "                                    '/share/lazy/will/data/June30_2020_80k_3.h5',\n",
    "                                    '/share/lazy/will/data/June30_2020_80k_4.h5',\n",
    "                             batch_size=batch_size,\n",
    "## if we are using a larger dataset (240K events, with the datasets above, and 11 GB  of GPU memory),\n",
    "## the dataset will overflow the GPU memory; device=device will allow the data to move back\n",
    "## and forth between the CPU and GPU memory. While this allows use of a larger dataset, it slows\n",
    "## down performance by about 10%.  So comment out when not needed.\n",
    "##                          device=device,\n",
    "##                           slice = slice(None,18000)\n",
    "                           )\n",
    "                            \n",
    "# Validation dataset. You can slice to reduce the size.\n",
    "## mds no separate validation set yet,\n",
    "\n",
    "## For iter12, change slice(18000,None) to slice(10000,None)\n",
    "## First, we'll see if this changes the validation cost significantly\n",
    "##  Second, we will see if this reduces the validation cost fluctuations\n",
    "val_loader = collect_t2kde_data('dataAA/20K_POCA_kernel_evts_200926.h5',\n",
    "                            batch_size=batch_size,\n",
    "##                            device=device,\n",
    "                            slice = slice(10000,None)\n",
    "                           )\n"
   ]
  },
  {
   "cell_type": "code",
   "execution_count": 16,
   "metadata": {
    "scrolled": false
   },
   "outputs": [
    {
     "data": {
      "application/javascript": [
       "/* Put everything inside the global mpl namespace */\n",
       "window.mpl = {};\n",
       "\n",
       "\n",
       "mpl.get_websocket_type = function() {\n",
       "    if (typeof(WebSocket) !== 'undefined') {\n",
       "        return WebSocket;\n",
       "    } else if (typeof(MozWebSocket) !== 'undefined') {\n",
       "        return MozWebSocket;\n",
       "    } else {\n",
       "        alert('Your browser does not have WebSocket support. ' +\n",
       "              'Please try Chrome, Safari or Firefox ≥ 6. ' +\n",
       "              'Firefox 4 and 5 are also supported but you ' +\n",
       "              'have to enable WebSockets in about:config.');\n",
       "    };\n",
       "}\n",
       "\n",
       "mpl.figure = function(figure_id, websocket, ondownload, parent_element) {\n",
       "    this.id = figure_id;\n",
       "\n",
       "    this.ws = websocket;\n",
       "\n",
       "    this.supports_binary = (this.ws.binaryType != undefined);\n",
       "\n",
       "    if (!this.supports_binary) {\n",
       "        var warnings = document.getElementById(\"mpl-warnings\");\n",
       "        if (warnings) {\n",
       "            warnings.style.display = 'block';\n",
       "            warnings.textContent = (\n",
       "                \"This browser does not support binary websocket messages. \" +\n",
       "                    \"Performance may be slow.\");\n",
       "        }\n",
       "    }\n",
       "\n",
       "    this.imageObj = new Image();\n",
       "\n",
       "    this.context = undefined;\n",
       "    this.message = undefined;\n",
       "    this.canvas = undefined;\n",
       "    this.rubberband_canvas = undefined;\n",
       "    this.rubberband_context = undefined;\n",
       "    this.format_dropdown = undefined;\n",
       "\n",
       "    this.image_mode = 'full';\n",
       "\n",
       "    this.root = $('<div/>');\n",
       "    this._root_extra_style(this.root)\n",
       "    this.root.attr('style', 'display: inline-block');\n",
       "\n",
       "    $(parent_element).append(this.root);\n",
       "\n",
       "    this._init_header(this);\n",
       "    this._init_canvas(this);\n",
       "    this._init_toolbar(this);\n",
       "\n",
       "    var fig = this;\n",
       "\n",
       "    this.waiting = false;\n",
       "\n",
       "    this.ws.onopen =  function () {\n",
       "            fig.send_message(\"supports_binary\", {value: fig.supports_binary});\n",
       "            fig.send_message(\"send_image_mode\", {});\n",
       "            if (mpl.ratio != 1) {\n",
       "                fig.send_message(\"set_dpi_ratio\", {'dpi_ratio': mpl.ratio});\n",
       "            }\n",
       "            fig.send_message(\"refresh\", {});\n",
       "        }\n",
       "\n",
       "    this.imageObj.onload = function() {\n",
       "            if (fig.image_mode == 'full') {\n",
       "                // Full images could contain transparency (where diff images\n",
       "                // almost always do), so we need to clear the canvas so that\n",
       "                // there is no ghosting.\n",
       "                fig.context.clearRect(0, 0, fig.canvas.width, fig.canvas.height);\n",
       "            }\n",
       "            fig.context.drawImage(fig.imageObj, 0, 0);\n",
       "        };\n",
       "\n",
       "    this.imageObj.onunload = function() {\n",
       "        fig.ws.close();\n",
       "    }\n",
       "\n",
       "    this.ws.onmessage = this._make_on_message_function(this);\n",
       "\n",
       "    this.ondownload = ondownload;\n",
       "}\n",
       "\n",
       "mpl.figure.prototype._init_header = function() {\n",
       "    var titlebar = $(\n",
       "        '<div class=\"ui-dialog-titlebar ui-widget-header ui-corner-all ' +\n",
       "        'ui-helper-clearfix\"/>');\n",
       "    var titletext = $(\n",
       "        '<div class=\"ui-dialog-title\" style=\"width: 100%; ' +\n",
       "        'text-align: center; padding: 3px;\"/>');\n",
       "    titlebar.append(titletext)\n",
       "    this.root.append(titlebar);\n",
       "    this.header = titletext[0];\n",
       "}\n",
       "\n",
       "\n",
       "\n",
       "mpl.figure.prototype._canvas_extra_style = function(canvas_div) {\n",
       "\n",
       "}\n",
       "\n",
       "\n",
       "mpl.figure.prototype._root_extra_style = function(canvas_div) {\n",
       "\n",
       "}\n",
       "\n",
       "mpl.figure.prototype._init_canvas = function() {\n",
       "    var fig = this;\n",
       "\n",
       "    var canvas_div = $('<div/>');\n",
       "\n",
       "    canvas_div.attr('style', 'position: relative; clear: both; outline: 0');\n",
       "\n",
       "    function canvas_keyboard_event(event) {\n",
       "        return fig.key_event(event, event['data']);\n",
       "    }\n",
       "\n",
       "    canvas_div.keydown('key_press', canvas_keyboard_event);\n",
       "    canvas_div.keyup('key_release', canvas_keyboard_event);\n",
       "    this.canvas_div = canvas_div\n",
       "    this._canvas_extra_style(canvas_div)\n",
       "    this.root.append(canvas_div);\n",
       "\n",
       "    var canvas = $('<canvas/>');\n",
       "    canvas.addClass('mpl-canvas');\n",
       "    canvas.attr('style', \"left: 0; top: 0; z-index: 0; outline: 0\")\n",
       "\n",
       "    this.canvas = canvas[0];\n",
       "    this.context = canvas[0].getContext(\"2d\");\n",
       "\n",
       "    var backingStore = this.context.backingStorePixelRatio ||\n",
       "\tthis.context.webkitBackingStorePixelRatio ||\n",
       "\tthis.context.mozBackingStorePixelRatio ||\n",
       "\tthis.context.msBackingStorePixelRatio ||\n",
       "\tthis.context.oBackingStorePixelRatio ||\n",
       "\tthis.context.backingStorePixelRatio || 1;\n",
       "\n",
       "    mpl.ratio = (window.devicePixelRatio || 1) / backingStore;\n",
       "\n",
       "    var rubberband = $('<canvas/>');\n",
       "    rubberband.attr('style', \"position: absolute; left: 0; top: 0; z-index: 1;\")\n",
       "\n",
       "    var pass_mouse_events = true;\n",
       "\n",
       "    canvas_div.resizable({\n",
       "        start: function(event, ui) {\n",
       "            pass_mouse_events = false;\n",
       "        },\n",
       "        resize: function(event, ui) {\n",
       "            fig.request_resize(ui.size.width, ui.size.height);\n",
       "        },\n",
       "        stop: function(event, ui) {\n",
       "            pass_mouse_events = true;\n",
       "            fig.request_resize(ui.size.width, ui.size.height);\n",
       "        },\n",
       "    });\n",
       "\n",
       "    function mouse_event_fn(event) {\n",
       "        if (pass_mouse_events)\n",
       "            return fig.mouse_event(event, event['data']);\n",
       "    }\n",
       "\n",
       "    rubberband.mousedown('button_press', mouse_event_fn);\n",
       "    rubberband.mouseup('button_release', mouse_event_fn);\n",
       "    // Throttle sequential mouse events to 1 every 20ms.\n",
       "    rubberband.mousemove('motion_notify', mouse_event_fn);\n",
       "\n",
       "    rubberband.mouseenter('figure_enter', mouse_event_fn);\n",
       "    rubberband.mouseleave('figure_leave', mouse_event_fn);\n",
       "\n",
       "    canvas_div.on(\"wheel\", function (event) {\n",
       "        event = event.originalEvent;\n",
       "        event['data'] = 'scroll'\n",
       "        if (event.deltaY < 0) {\n",
       "            event.step = 1;\n",
       "        } else {\n",
       "            event.step = -1;\n",
       "        }\n",
       "        mouse_event_fn(event);\n",
       "    });\n",
       "\n",
       "    canvas_div.append(canvas);\n",
       "    canvas_div.append(rubberband);\n",
       "\n",
       "    this.rubberband = rubberband;\n",
       "    this.rubberband_canvas = rubberband[0];\n",
       "    this.rubberband_context = rubberband[0].getContext(\"2d\");\n",
       "    this.rubberband_context.strokeStyle = \"#000000\";\n",
       "\n",
       "    this._resize_canvas = function(width, height) {\n",
       "        // Keep the size of the canvas, canvas container, and rubber band\n",
       "        // canvas in synch.\n",
       "        canvas_div.css('width', width)\n",
       "        canvas_div.css('height', height)\n",
       "\n",
       "        canvas.attr('width', width * mpl.ratio);\n",
       "        canvas.attr('height', height * mpl.ratio);\n",
       "        canvas.attr('style', 'width: ' + width + 'px; height: ' + height + 'px;');\n",
       "\n",
       "        rubberband.attr('width', width);\n",
       "        rubberband.attr('height', height);\n",
       "    }\n",
       "\n",
       "    // Set the figure to an initial 600x600px, this will subsequently be updated\n",
       "    // upon first draw.\n",
       "    this._resize_canvas(600, 600);\n",
       "\n",
       "    // Disable right mouse context menu.\n",
       "    $(this.rubberband_canvas).bind(\"contextmenu\",function(e){\n",
       "        return false;\n",
       "    });\n",
       "\n",
       "    function set_focus () {\n",
       "        canvas.focus();\n",
       "        canvas_div.focus();\n",
       "    }\n",
       "\n",
       "    window.setTimeout(set_focus, 100);\n",
       "}\n",
       "\n",
       "mpl.figure.prototype._init_toolbar = function() {\n",
       "    var fig = this;\n",
       "\n",
       "    var nav_element = $('<div/>');\n",
       "    nav_element.attr('style', 'width: 100%');\n",
       "    this.root.append(nav_element);\n",
       "\n",
       "    // Define a callback function for later on.\n",
       "    function toolbar_event(event) {\n",
       "        return fig.toolbar_button_onclick(event['data']);\n",
       "    }\n",
       "    function toolbar_mouse_event(event) {\n",
       "        return fig.toolbar_button_onmouseover(event['data']);\n",
       "    }\n",
       "\n",
       "    for(var toolbar_ind in mpl.toolbar_items) {\n",
       "        var name = mpl.toolbar_items[toolbar_ind][0];\n",
       "        var tooltip = mpl.toolbar_items[toolbar_ind][1];\n",
       "        var image = mpl.toolbar_items[toolbar_ind][2];\n",
       "        var method_name = mpl.toolbar_items[toolbar_ind][3];\n",
       "\n",
       "        if (!name) {\n",
       "            // put a spacer in here.\n",
       "            continue;\n",
       "        }\n",
       "        var button = $('<button/>');\n",
       "        button.addClass('ui-button ui-widget ui-state-default ui-corner-all ' +\n",
       "                        'ui-button-icon-only');\n",
       "        button.attr('role', 'button');\n",
       "        button.attr('aria-disabled', 'false');\n",
       "        button.click(method_name, toolbar_event);\n",
       "        button.mouseover(tooltip, toolbar_mouse_event);\n",
       "\n",
       "        var icon_img = $('<span/>');\n",
       "        icon_img.addClass('ui-button-icon-primary ui-icon');\n",
       "        icon_img.addClass(image);\n",
       "        icon_img.addClass('ui-corner-all');\n",
       "\n",
       "        var tooltip_span = $('<span/>');\n",
       "        tooltip_span.addClass('ui-button-text');\n",
       "        tooltip_span.html(tooltip);\n",
       "\n",
       "        button.append(icon_img);\n",
       "        button.append(tooltip_span);\n",
       "\n",
       "        nav_element.append(button);\n",
       "    }\n",
       "\n",
       "    var fmt_picker_span = $('<span/>');\n",
       "\n",
       "    var fmt_picker = $('<select/>');\n",
       "    fmt_picker.addClass('mpl-toolbar-option ui-widget ui-widget-content');\n",
       "    fmt_picker_span.append(fmt_picker);\n",
       "    nav_element.append(fmt_picker_span);\n",
       "    this.format_dropdown = fmt_picker[0];\n",
       "\n",
       "    for (var ind in mpl.extensions) {\n",
       "        var fmt = mpl.extensions[ind];\n",
       "        var option = $(\n",
       "            '<option/>', {selected: fmt === mpl.default_extension}).html(fmt);\n",
       "        fmt_picker.append(option);\n",
       "    }\n",
       "\n",
       "    // Add hover states to the ui-buttons\n",
       "    $( \".ui-button\" ).hover(\n",
       "        function() { $(this).addClass(\"ui-state-hover\");},\n",
       "        function() { $(this).removeClass(\"ui-state-hover\");}\n",
       "    );\n",
       "\n",
       "    var status_bar = $('<span class=\"mpl-message\"/>');\n",
       "    nav_element.append(status_bar);\n",
       "    this.message = status_bar[0];\n",
       "}\n",
       "\n",
       "mpl.figure.prototype.request_resize = function(x_pixels, y_pixels) {\n",
       "    // Request matplotlib to resize the figure. Matplotlib will then trigger a resize in the client,\n",
       "    // which will in turn request a refresh of the image.\n",
       "    this.send_message('resize', {'width': x_pixels, 'height': y_pixels});\n",
       "}\n",
       "\n",
       "mpl.figure.prototype.send_message = function(type, properties) {\n",
       "    properties['type'] = type;\n",
       "    properties['figure_id'] = this.id;\n",
       "    this.ws.send(JSON.stringify(properties));\n",
       "}\n",
       "\n",
       "mpl.figure.prototype.send_draw_message = function() {\n",
       "    if (!this.waiting) {\n",
       "        this.waiting = true;\n",
       "        this.ws.send(JSON.stringify({type: \"draw\", figure_id: this.id}));\n",
       "    }\n",
       "}\n",
       "\n",
       "\n",
       "mpl.figure.prototype.handle_save = function(fig, msg) {\n",
       "    var format_dropdown = fig.format_dropdown;\n",
       "    var format = format_dropdown.options[format_dropdown.selectedIndex].value;\n",
       "    fig.ondownload(fig, format);\n",
       "}\n",
       "\n",
       "\n",
       "mpl.figure.prototype.handle_resize = function(fig, msg) {\n",
       "    var size = msg['size'];\n",
       "    if (size[0] != fig.canvas.width || size[1] != fig.canvas.height) {\n",
       "        fig._resize_canvas(size[0], size[1]);\n",
       "        fig.send_message(\"refresh\", {});\n",
       "    };\n",
       "}\n",
       "\n",
       "mpl.figure.prototype.handle_rubberband = function(fig, msg) {\n",
       "    var x0 = msg['x0'] / mpl.ratio;\n",
       "    var y0 = (fig.canvas.height - msg['y0']) / mpl.ratio;\n",
       "    var x1 = msg['x1'] / mpl.ratio;\n",
       "    var y1 = (fig.canvas.height - msg['y1']) / mpl.ratio;\n",
       "    x0 = Math.floor(x0) + 0.5;\n",
       "    y0 = Math.floor(y0) + 0.5;\n",
       "    x1 = Math.floor(x1) + 0.5;\n",
       "    y1 = Math.floor(y1) + 0.5;\n",
       "    var min_x = Math.min(x0, x1);\n",
       "    var min_y = Math.min(y0, y1);\n",
       "    var width = Math.abs(x1 - x0);\n",
       "    var height = Math.abs(y1 - y0);\n",
       "\n",
       "    fig.rubberband_context.clearRect(\n",
       "        0, 0, fig.canvas.width / mpl.ratio, fig.canvas.height / mpl.ratio);\n",
       "\n",
       "    fig.rubberband_context.strokeRect(min_x, min_y, width, height);\n",
       "}\n",
       "\n",
       "mpl.figure.prototype.handle_figure_label = function(fig, msg) {\n",
       "    // Updates the figure title.\n",
       "    fig.header.textContent = msg['label'];\n",
       "}\n",
       "\n",
       "mpl.figure.prototype.handle_cursor = function(fig, msg) {\n",
       "    var cursor = msg['cursor'];\n",
       "    switch(cursor)\n",
       "    {\n",
       "    case 0:\n",
       "        cursor = 'pointer';\n",
       "        break;\n",
       "    case 1:\n",
       "        cursor = 'default';\n",
       "        break;\n",
       "    case 2:\n",
       "        cursor = 'crosshair';\n",
       "        break;\n",
       "    case 3:\n",
       "        cursor = 'move';\n",
       "        break;\n",
       "    }\n",
       "    fig.rubberband_canvas.style.cursor = cursor;\n",
       "}\n",
       "\n",
       "mpl.figure.prototype.handle_message = function(fig, msg) {\n",
       "    fig.message.textContent = msg['message'];\n",
       "}\n",
       "\n",
       "mpl.figure.prototype.handle_draw = function(fig, msg) {\n",
       "    // Request the server to send over a new figure.\n",
       "    fig.send_draw_message();\n",
       "}\n",
       "\n",
       "mpl.figure.prototype.handle_image_mode = function(fig, msg) {\n",
       "    fig.image_mode = msg['mode'];\n",
       "}\n",
       "\n",
       "mpl.figure.prototype.updated_canvas_event = function() {\n",
       "    // Called whenever the canvas gets updated.\n",
       "    this.send_message(\"ack\", {});\n",
       "}\n",
       "\n",
       "// A function to construct a web socket function for onmessage handling.\n",
       "// Called in the figure constructor.\n",
       "mpl.figure.prototype._make_on_message_function = function(fig) {\n",
       "    return function socket_on_message(evt) {\n",
       "        if (evt.data instanceof Blob) {\n",
       "            /* FIXME: We get \"Resource interpreted as Image but\n",
       "             * transferred with MIME type text/plain:\" errors on\n",
       "             * Chrome.  But how to set the MIME type?  It doesn't seem\n",
       "             * to be part of the websocket stream */\n",
       "            evt.data.type = \"image/png\";\n",
       "\n",
       "            /* Free the memory for the previous frames */\n",
       "            if (fig.imageObj.src) {\n",
       "                (window.URL || window.webkitURL).revokeObjectURL(\n",
       "                    fig.imageObj.src);\n",
       "            }\n",
       "\n",
       "            fig.imageObj.src = (window.URL || window.webkitURL).createObjectURL(\n",
       "                evt.data);\n",
       "            fig.updated_canvas_event();\n",
       "            fig.waiting = false;\n",
       "            return;\n",
       "        }\n",
       "        else if (typeof evt.data === 'string' && evt.data.slice(0, 21) == \"data:image/png;base64\") {\n",
       "            fig.imageObj.src = evt.data;\n",
       "            fig.updated_canvas_event();\n",
       "            fig.waiting = false;\n",
       "            return;\n",
       "        }\n",
       "\n",
       "        var msg = JSON.parse(evt.data);\n",
       "        var msg_type = msg['type'];\n",
       "\n",
       "        // Call the  \"handle_{type}\" callback, which takes\n",
       "        // the figure and JSON message as its only arguments.\n",
       "        try {\n",
       "            var callback = fig[\"handle_\" + msg_type];\n",
       "        } catch (e) {\n",
       "            console.log(\"No handler for the '\" + msg_type + \"' message type: \", msg);\n",
       "            return;\n",
       "        }\n",
       "\n",
       "        if (callback) {\n",
       "            try {\n",
       "                // console.log(\"Handling '\" + msg_type + \"' message: \", msg);\n",
       "                callback(fig, msg);\n",
       "            } catch (e) {\n",
       "                console.log(\"Exception inside the 'handler_\" + msg_type + \"' callback:\", e, e.stack, msg);\n",
       "            }\n",
       "        }\n",
       "    };\n",
       "}\n",
       "\n",
       "// from http://stackoverflow.com/questions/1114465/getting-mouse-location-in-canvas\n",
       "mpl.findpos = function(e) {\n",
       "    //this section is from http://www.quirksmode.org/js/events_properties.html\n",
       "    var targ;\n",
       "    if (!e)\n",
       "        e = window.event;\n",
       "    if (e.target)\n",
       "        targ = e.target;\n",
       "    else if (e.srcElement)\n",
       "        targ = e.srcElement;\n",
       "    if (targ.nodeType == 3) // defeat Safari bug\n",
       "        targ = targ.parentNode;\n",
       "\n",
       "    // jQuery normalizes the pageX and pageY\n",
       "    // pageX,Y are the mouse positions relative to the document\n",
       "    // offset() returns the position of the element relative to the document\n",
       "    var x = e.pageX - $(targ).offset().left;\n",
       "    var y = e.pageY - $(targ).offset().top;\n",
       "\n",
       "    return {\"x\": x, \"y\": y};\n",
       "};\n",
       "\n",
       "/*\n",
       " * return a copy of an object with only non-object keys\n",
       " * we need this to avoid circular references\n",
       " * http://stackoverflow.com/a/24161582/3208463\n",
       " */\n",
       "function simpleKeys (original) {\n",
       "  return Object.keys(original).reduce(function (obj, key) {\n",
       "    if (typeof original[key] !== 'object')\n",
       "        obj[key] = original[key]\n",
       "    return obj;\n",
       "  }, {});\n",
       "}\n",
       "\n",
       "mpl.figure.prototype.mouse_event = function(event, name) {\n",
       "    var canvas_pos = mpl.findpos(event)\n",
       "\n",
       "    if (name === 'button_press')\n",
       "    {\n",
       "        this.canvas.focus();\n",
       "        this.canvas_div.focus();\n",
       "    }\n",
       "\n",
       "    var x = canvas_pos.x * mpl.ratio;\n",
       "    var y = canvas_pos.y * mpl.ratio;\n",
       "\n",
       "    this.send_message(name, {x: x, y: y, button: event.button,\n",
       "                             step: event.step,\n",
       "                             guiEvent: simpleKeys(event)});\n",
       "\n",
       "    /* This prevents the web browser from automatically changing to\n",
       "     * the text insertion cursor when the button is pressed.  We want\n",
       "     * to control all of the cursor setting manually through the\n",
       "     * 'cursor' event from matplotlib */\n",
       "    event.preventDefault();\n",
       "    return false;\n",
       "}\n",
       "\n",
       "mpl.figure.prototype._key_event_extra = function(event, name) {\n",
       "    // Handle any extra behaviour associated with a key event\n",
       "}\n",
       "\n",
       "mpl.figure.prototype.key_event = function(event, name) {\n",
       "\n",
       "    // Prevent repeat events\n",
       "    if (name == 'key_press')\n",
       "    {\n",
       "        if (event.which === this._key)\n",
       "            return;\n",
       "        else\n",
       "            this._key = event.which;\n",
       "    }\n",
       "    if (name == 'key_release')\n",
       "        this._key = null;\n",
       "\n",
       "    var value = '';\n",
       "    if (event.ctrlKey && event.which != 17)\n",
       "        value += \"ctrl+\";\n",
       "    if (event.altKey && event.which != 18)\n",
       "        value += \"alt+\";\n",
       "    if (event.shiftKey && event.which != 16)\n",
       "        value += \"shift+\";\n",
       "\n",
       "    value += 'k';\n",
       "    value += event.which.toString();\n",
       "\n",
       "    this._key_event_extra(event, name);\n",
       "\n",
       "    this.send_message(name, {key: value,\n",
       "                             guiEvent: simpleKeys(event)});\n",
       "    return false;\n",
       "}\n",
       "\n",
       "mpl.figure.prototype.toolbar_button_onclick = function(name) {\n",
       "    if (name == 'download') {\n",
       "        this.handle_save(this, null);\n",
       "    } else {\n",
       "        this.send_message(\"toolbar_button\", {name: name});\n",
       "    }\n",
       "};\n",
       "\n",
       "mpl.figure.prototype.toolbar_button_onmouseover = function(tooltip) {\n",
       "    this.message.textContent = tooltip;\n",
       "};\n",
       "mpl.toolbar_items = [[\"Home\", \"Reset original view\", \"fa fa-home icon-home\", \"home\"], [\"Back\", \"Back to previous view\", \"fa fa-arrow-left icon-arrow-left\", \"back\"], [\"Forward\", \"Forward to next view\", \"fa fa-arrow-right icon-arrow-right\", \"forward\"], [\"\", \"\", \"\", \"\"], [\"Pan\", \"Pan axes with left mouse, zoom with right\", \"fa fa-arrows icon-move\", \"pan\"], [\"Zoom\", \"Zoom to rectangle\", \"fa fa-square-o icon-check-empty\", \"zoom\"], [\"\", \"\", \"\", \"\"], [\"Download\", \"Download plot\", \"fa fa-floppy-o icon-save\", \"download\"]];\n",
       "\n",
       "mpl.extensions = [\"eps\", \"jpeg\", \"pdf\", \"png\", \"ps\", \"raw\", \"svg\", \"tif\"];\n",
       "\n",
       "mpl.default_extension = \"png\";var comm_websocket_adapter = function(comm) {\n",
       "    // Create a \"websocket\"-like object which calls the given IPython comm\n",
       "    // object with the appropriate methods. Currently this is a non binary\n",
       "    // socket, so there is still some room for performance tuning.\n",
       "    var ws = {};\n",
       "\n",
       "    ws.close = function() {\n",
       "        comm.close()\n",
       "    };\n",
       "    ws.send = function(m) {\n",
       "        //console.log('sending', m);\n",
       "        comm.send(m);\n",
       "    };\n",
       "    // Register the callback with on_msg.\n",
       "    comm.on_msg(function(msg) {\n",
       "        //console.log('receiving', msg['content']['data'], msg);\n",
       "        // Pass the mpl event to the overridden (by mpl) onmessage function.\n",
       "        ws.onmessage(msg['content']['data'])\n",
       "    });\n",
       "    return ws;\n",
       "}\n",
       "\n",
       "mpl.mpl_figure_comm = function(comm, msg) {\n",
       "    // This is the function which gets called when the mpl process\n",
       "    // starts-up an IPython Comm through the \"matplotlib\" channel.\n",
       "\n",
       "    var id = msg.content.data.id;\n",
       "    // Get hold of the div created by the display call when the Comm\n",
       "    // socket was opened in Python.\n",
       "    var element = $(\"#\" + id);\n",
       "    var ws_proxy = comm_websocket_adapter(comm)\n",
       "\n",
       "    function ondownload(figure, format) {\n",
       "        window.open(figure.imageObj.src);\n",
       "    }\n",
       "\n",
       "    var fig = new mpl.figure(id, ws_proxy,\n",
       "                           ondownload,\n",
       "                           element.get(0));\n",
       "\n",
       "    // Call onopen now - mpl needs it, as it is assuming we've passed it a real\n",
       "    // web socket which is closed, not our websocket->open comm proxy.\n",
       "    ws_proxy.onopen();\n",
       "\n",
       "    fig.parent_element = element.get(0);\n",
       "    fig.cell_info = mpl.find_output_cell(\"<div id='\" + id + \"'></div>\");\n",
       "    if (!fig.cell_info) {\n",
       "        console.error(\"Failed to find cell for figure\", id, fig);\n",
       "        return;\n",
       "    }\n",
       "\n",
       "    var output_index = fig.cell_info[2]\n",
       "    var cell = fig.cell_info[0];\n",
       "\n",
       "};\n",
       "\n",
       "mpl.figure.prototype.handle_close = function(fig, msg) {\n",
       "    var width = fig.canvas.width/mpl.ratio\n",
       "    fig.root.unbind('remove')\n",
       "\n",
       "    // Update the output cell to use the data from the current canvas.\n",
       "    fig.push_to_output();\n",
       "    var dataURL = fig.canvas.toDataURL();\n",
       "    // Re-enable the keyboard manager in IPython - without this line, in FF,\n",
       "    // the notebook keyboard shortcuts fail.\n",
       "    IPython.keyboard_manager.enable()\n",
       "    $(fig.parent_element).html('<img src=\"' + dataURL + '\" width=\"' + width + '\">');\n",
       "    fig.close_ws(fig, msg);\n",
       "}\n",
       "\n",
       "mpl.figure.prototype.close_ws = function(fig, msg){\n",
       "    fig.send_message('closing', msg);\n",
       "    // fig.ws.close()\n",
       "}\n",
       "\n",
       "mpl.figure.prototype.push_to_output = function(remove_interactive) {\n",
       "    // Turn the data on the canvas into data in the output cell.\n",
       "    var width = this.canvas.width/mpl.ratio\n",
       "    var dataURL = this.canvas.toDataURL();\n",
       "    this.cell_info[1]['text/html'] = '<img src=\"' + dataURL + '\" width=\"' + width + '\">';\n",
       "}\n",
       "\n",
       "mpl.figure.prototype.updated_canvas_event = function() {\n",
       "    // Tell IPython that the notebook contents must change.\n",
       "    IPython.notebook.set_dirty(true);\n",
       "    this.send_message(\"ack\", {});\n",
       "    var fig = this;\n",
       "    // Wait a second, then push the new image to the DOM so\n",
       "    // that it is saved nicely (might be nice to debounce this).\n",
       "    setTimeout(function () { fig.push_to_output() }, 1000);\n",
       "}\n",
       "\n",
       "mpl.figure.prototype._init_toolbar = function() {\n",
       "    var fig = this;\n",
       "\n",
       "    var nav_element = $('<div/>');\n",
       "    nav_element.attr('style', 'width: 100%');\n",
       "    this.root.append(nav_element);\n",
       "\n",
       "    // Define a callback function for later on.\n",
       "    function toolbar_event(event) {\n",
       "        return fig.toolbar_button_onclick(event['data']);\n",
       "    }\n",
       "    function toolbar_mouse_event(event) {\n",
       "        return fig.toolbar_button_onmouseover(event['data']);\n",
       "    }\n",
       "\n",
       "    for(var toolbar_ind in mpl.toolbar_items){\n",
       "        var name = mpl.toolbar_items[toolbar_ind][0];\n",
       "        var tooltip = mpl.toolbar_items[toolbar_ind][1];\n",
       "        var image = mpl.toolbar_items[toolbar_ind][2];\n",
       "        var method_name = mpl.toolbar_items[toolbar_ind][3];\n",
       "\n",
       "        if (!name) { continue; };\n",
       "\n",
       "        var button = $('<button class=\"btn btn-default\" href=\"#\" title=\"' + name + '\"><i class=\"fa ' + image + ' fa-lg\"></i></button>');\n",
       "        button.click(method_name, toolbar_event);\n",
       "        button.mouseover(tooltip, toolbar_mouse_event);\n",
       "        nav_element.append(button);\n",
       "    }\n",
       "\n",
       "    // Add the status bar.\n",
       "    var status_bar = $('<span class=\"mpl-message\" style=\"text-align:right; float: right;\"/>');\n",
       "    nav_element.append(status_bar);\n",
       "    this.message = status_bar[0];\n",
       "\n",
       "    // Add the close button to the window.\n",
       "    var buttongrp = $('<div class=\"btn-group inline pull-right\"></div>');\n",
       "    var button = $('<button class=\"btn btn-mini btn-primary\" href=\"#\" title=\"Stop Interaction\"><i class=\"fa fa-power-off icon-remove icon-large\"></i></button>');\n",
       "    button.click(function (evt) { fig.handle_close(fig, {}); } );\n",
       "    button.mouseover('Stop Interaction', toolbar_mouse_event);\n",
       "    buttongrp.append(button);\n",
       "    var titlebar = this.root.find($('.ui-dialog-titlebar'));\n",
       "    titlebar.prepend(buttongrp);\n",
       "}\n",
       "\n",
       "mpl.figure.prototype._root_extra_style = function(el){\n",
       "    var fig = this\n",
       "    el.on(\"remove\", function(){\n",
       "\tfig.close_ws(fig, {});\n",
       "    });\n",
       "}\n",
       "\n",
       "mpl.figure.prototype._canvas_extra_style = function(el){\n",
       "    // this is important to make the div 'focusable\n",
       "    el.attr('tabindex', 0)\n",
       "    // reach out to IPython and tell the keyboard manager to turn it's self\n",
       "    // off when our div gets focus\n",
       "\n",
       "    // location in version 3\n",
       "    if (IPython.notebook.keyboard_manager) {\n",
       "        IPython.notebook.keyboard_manager.register_events(el);\n",
       "    }\n",
       "    else {\n",
       "        // location in version 2\n",
       "        IPython.keyboard_manager.register_events(el);\n",
       "    }\n",
       "\n",
       "}\n",
       "\n",
       "mpl.figure.prototype._key_event_extra = function(event, name) {\n",
       "    var manager = IPython.notebook.keyboard_manager;\n",
       "    if (!manager)\n",
       "        manager = IPython.keyboard_manager;\n",
       "\n",
       "    // Check for shift+enter\n",
       "    if (event.shiftKey && event.which == 13) {\n",
       "        this.canvas_div.blur();\n",
       "        // select the cell after this one\n",
       "        var index = IPython.notebook.find_cell_index(this.cell_info[0]);\n",
       "        IPython.notebook.select(index + 1);\n",
       "    }\n",
       "}\n",
       "\n",
       "mpl.figure.prototype.handle_save = function(fig, msg) {\n",
       "    fig.ondownload(fig, null);\n",
       "}\n",
       "\n",
       "\n",
       "mpl.find_output_cell = function(html_output) {\n",
       "    // Return the cell and output element which can be found *uniquely* in the notebook.\n",
       "    // Note - this is a bit hacky, but it is done because the \"notebook_saving.Notebook\"\n",
       "    // IPython event is triggered only after the cells have been serialised, which for\n",
       "    // our purposes (turning an active figure into a static one), is too late.\n",
       "    var cells = IPython.notebook.get_cells();\n",
       "    var ncells = cells.length;\n",
       "    for (var i=0; i<ncells; i++) {\n",
       "        var cell = cells[i];\n",
       "        if (cell.cell_type === 'code'){\n",
       "            for (var j=0; j<cell.output_area.outputs.length; j++) {\n",
       "                var data = cell.output_area.outputs[j];\n",
       "                if (data.data) {\n",
       "                    // IPython >= 3 moved mimebundle to data attribute of output\n",
       "                    data = data.data;\n",
       "                }\n",
       "                if (data['text/html'] == html_output) {\n",
       "                    return [cell, data, j];\n",
       "                }\n",
       "            }\n",
       "        }\n",
       "    }\n",
       "}\n",
       "\n",
       "// Register the function which deals with the matplotlib target/channel.\n",
       "// The kernel may be null if the page has been refreshed.\n",
       "if (IPython.notebook.kernel != null) {\n",
       "    IPython.notebook.kernel.comm_manager.register_target('matplotlib', mpl.mpl_figure_comm);\n",
       "}\n"
      ],
      "text/plain": [
       "<IPython.core.display.Javascript object>"
      ]
     },
     "metadata": {},
     "output_type": "display_data"
    },
    {
     "data": {
      "text/html": [
       "<img src=\"data:image/png;base64,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\" width=\"1000\">"
      ],
      "text/plain": [
       "<IPython.core.display.HTML object>"
      ]
     },
     "metadata": {},
     "output_type": "display_data"
    }
   ],
   "source": [
    "ax, tax, lax, lines = dual_train_plots()\n",
    "fig = ax.figure\n",
    "plt.tight_layout()"
   ]
  },
  {
   "cell_type": "code",
   "execution_count": 17,
   "metadata": {
    "scrolled": false
   },
   "outputs": [
    {
     "name": "stdout",
     "output_type": "stream",
     "text": [
      "Number of batches: train = 6667, val = 209\n"
     ]
    },
    {
     "data": {
      "application/vnd.jupyter.widget-view+json": {
       "model_id": "82bb8d3b75f14d3f866fcc4b9be31aa3",
       "version_major": 2,
       "version_minor": 0
      },
      "text/plain": [
       "HBox(children=(FloatProgress(value=0.0, description='Epochs', layout=Layout(flex='2'), max=75.0, style=Progres…"
      ]
     },
     "metadata": {},
     "output_type": "display_data"
    },
    {
     "name": "stdout",
     "output_type": "stream",
     "text": [
      "Number of batches: train = 6667, val = 209\n"
     ]
    },
    {
     "data": {
      "application/vnd.jupyter.widget-view+json": {
       "model_id": "",
       "version_major": 2,
       "version_minor": 0
      },
      "text/plain": [
       "HBox(children=(FloatProgress(value=0.0, description='Training', layout=Layout(flex='2'), max=6667.0, style=Pro…"
      ]
     },
     "metadata": {},
     "output_type": "display_data"
    },
    {
     "name": "stdout",
     "output_type": "stream",
     "text": [
      "Epoch 0: train=4.64799, val=3.75876, took 591.13 s\n"
     ]
    },
    {
     "data": {
      "application/vnd.jupyter.widget-view+json": {
       "model_id": "",
       "version_major": 2,
       "version_minor": 0
      },
      "text/plain": [
       "HBox(children=(FloatProgress(value=0.0, description='Training', layout=Layout(flex='2'), max=6667.0, style=Pro…"
      ]
     },
     "metadata": {},
     "output_type": "display_data"
    },
    {
     "name": "stdout",
     "output_type": "stream",
     "text": [
      "Epoch 1: train=4.65081, val=3.79419, took 599.11 s\n"
     ]
    },
    {
     "data": {
      "application/vnd.jupyter.widget-view+json": {
       "model_id": "",
       "version_major": 2,
       "version_minor": 0
      },
      "text/plain": [
       "HBox(children=(FloatProgress(value=0.0, description='Training', layout=Layout(flex='2'), max=6667.0, style=Pro…"
      ]
     },
     "metadata": {},
     "output_type": "display_data"
    },
    {
     "name": "stdout",
     "output_type": "stream",
     "text": [
      "Epoch 2: train=4.64997, val=4.00419, took 547.06 s\n"
     ]
    },
    {
     "data": {
      "application/vnd.jupyter.widget-view+json": {
       "model_id": "",
       "version_major": 2,
       "version_minor": 0
      },
      "text/plain": [
       "HBox(children=(FloatProgress(value=0.0, description='Training', layout=Layout(flex='2'), max=6667.0, style=Pro…"
      ]
     },
     "metadata": {},
     "output_type": "display_data"
    },
    {
     "name": "stdout",
     "output_type": "stream",
     "text": [
      "Epoch 3: train=4.64439, val=3.74321, took 544.93 s\n"
     ]
    },
    {
     "data": {
      "application/vnd.jupyter.widget-view+json": {
       "model_id": "",
       "version_major": 2,
       "version_minor": 0
      },
      "text/plain": [
       "HBox(children=(FloatProgress(value=0.0, description='Training', layout=Layout(flex='2'), max=6667.0, style=Pro…"
      ]
     },
     "metadata": {},
     "output_type": "display_data"
    },
    {
     "name": "stdout",
     "output_type": "stream",
     "text": [
      "Epoch 4: train=4.64229, val=3.75526, took 544.85 s\n"
     ]
    },
    {
     "data": {
      "application/vnd.jupyter.widget-view+json": {
       "model_id": "",
       "version_major": 2,
       "version_minor": 0
      },
      "text/plain": [
       "HBox(children=(FloatProgress(value=0.0, description='Training', layout=Layout(flex='2'), max=6667.0, style=Pro…"
      ]
     },
     "metadata": {},
     "output_type": "display_data"
    },
    {
     "name": "stdout",
     "output_type": "stream",
     "text": [
      "Epoch 5: train=4.64201, val=3.73834, took 546.1 s\n"
     ]
    },
    {
     "data": {
      "application/vnd.jupyter.widget-view+json": {
       "model_id": "",
       "version_major": 2,
       "version_minor": 0
      },
      "text/plain": [
       "HBox(children=(FloatProgress(value=0.0, description='Training', layout=Layout(flex='2'), max=6667.0, style=Pro…"
      ]
     },
     "metadata": {},
     "output_type": "display_data"
    },
    {
     "name": "stdout",
     "output_type": "stream",
     "text": [
      "Epoch 6: train=4.63037, val=3.7893, took 544.12 s\n"
     ]
    },
    {
     "data": {
      "application/vnd.jupyter.widget-view+json": {
       "model_id": "",
       "version_major": 2,
       "version_minor": 0
      },
      "text/plain": [
       "HBox(children=(FloatProgress(value=0.0, description='Training', layout=Layout(flex='2'), max=6667.0, style=Pro…"
      ]
     },
     "metadata": {},
     "output_type": "display_data"
    },
    {
     "name": "stdout",
     "output_type": "stream",
     "text": [
      "Epoch 7: train=4.63136, val=3.76229, took 544.84 s\n"
     ]
    },
    {
     "data": {
      "application/vnd.jupyter.widget-view+json": {
       "model_id": "",
       "version_major": 2,
       "version_minor": 0
      },
      "text/plain": [
       "HBox(children=(FloatProgress(value=0.0, description='Training', layout=Layout(flex='2'), max=6667.0, style=Pro…"
      ]
     },
     "metadata": {},
     "output_type": "display_data"
    },
    {
     "name": "stdout",
     "output_type": "stream",
     "text": [
      "Epoch 8: train=4.62604, val=3.94896, took 545.16 s\n"
     ]
    },
    {
     "data": {
      "application/vnd.jupyter.widget-view+json": {
       "model_id": "",
       "version_major": 2,
       "version_minor": 0
      },
      "text/plain": [
       "HBox(children=(FloatProgress(value=0.0, description='Training', layout=Layout(flex='2'), max=6667.0, style=Pro…"
      ]
     },
     "metadata": {},
     "output_type": "display_data"
    },
    {
     "name": "stdout",
     "output_type": "stream",
     "text": [
      "Epoch 9: train=4.62509, val=3.90206, took 545.92 s\n"
     ]
    },
    {
     "data": {
      "application/vnd.jupyter.widget-view+json": {
       "model_id": "",
       "version_major": 2,
       "version_minor": 0
      },
      "text/plain": [
       "HBox(children=(FloatProgress(value=0.0, description='Training', layout=Layout(flex='2'), max=6667.0, style=Pro…"
      ]
     },
     "metadata": {},
     "output_type": "display_data"
    },
    {
     "name": "stdout",
     "output_type": "stream",
     "text": [
      "Epoch 10: train=4.62351, val=3.71905, took 549.08 s\n"
     ]
    },
    {
     "data": {
      "application/vnd.jupyter.widget-view+json": {
       "model_id": "",
       "version_major": 2,
       "version_minor": 0
      },
      "text/plain": [
       "HBox(children=(FloatProgress(value=0.0, description='Training', layout=Layout(flex='2'), max=6667.0, style=Pro…"
      ]
     },
     "metadata": {},
     "output_type": "display_data"
    },
    {
     "name": "stdout",
     "output_type": "stream",
     "text": [
      "Epoch 11: train=4.6157, val=3.75922, took 548.41 s\n"
     ]
    },
    {
     "data": {
      "application/vnd.jupyter.widget-view+json": {
       "model_id": "",
       "version_major": 2,
       "version_minor": 0
      },
      "text/plain": [
       "HBox(children=(FloatProgress(value=0.0, description='Training', layout=Layout(flex='2'), max=6667.0, style=Pro…"
      ]
     },
     "metadata": {},
     "output_type": "display_data"
    },
    {
     "name": "stdout",
     "output_type": "stream",
     "text": [
      "Epoch 12: train=4.62096, val=3.76485, took 548.24 s\n"
     ]
    },
    {
     "data": {
      "application/vnd.jupyter.widget-view+json": {
       "model_id": "",
       "version_major": 2,
       "version_minor": 0
      },
      "text/plain": [
       "HBox(children=(FloatProgress(value=0.0, description='Training', layout=Layout(flex='2'), max=6667.0, style=Pro…"
      ]
     },
     "metadata": {},
     "output_type": "display_data"
    },
    {
     "name": "stdout",
     "output_type": "stream",
     "text": [
      "Epoch 13: train=4.6173, val=3.75192, took 548.92 s\n"
     ]
    },
    {
     "data": {
      "application/vnd.jupyter.widget-view+json": {
       "model_id": "",
       "version_major": 2,
       "version_minor": 0
      },
      "text/plain": [
       "HBox(children=(FloatProgress(value=0.0, description='Training', layout=Layout(flex='2'), max=6667.0, style=Pro…"
      ]
     },
     "metadata": {},
     "output_type": "display_data"
    },
    {
     "name": "stdout",
     "output_type": "stream",
     "text": [
      "Epoch 14: train=4.60899, val=3.73865, took 549.05 s\n"
     ]
    },
    {
     "data": {
      "application/vnd.jupyter.widget-view+json": {
       "model_id": "",
       "version_major": 2,
       "version_minor": 0
      },
      "text/plain": [
       "HBox(children=(FloatProgress(value=0.0, description='Training', layout=Layout(flex='2'), max=6667.0, style=Pro…"
      ]
     },
     "metadata": {},
     "output_type": "display_data"
    },
    {
     "name": "stdout",
     "output_type": "stream",
     "text": [
      "Epoch 15: train=4.60868, val=3.92983, took 544.49 s\n"
     ]
    },
    {
     "data": {
      "application/vnd.jupyter.widget-view+json": {
       "model_id": "",
       "version_major": 2,
       "version_minor": 0
      },
      "text/plain": [
       "HBox(children=(FloatProgress(value=0.0, description='Training', layout=Layout(flex='2'), max=6667.0, style=Pro…"
      ]
     },
     "metadata": {},
     "output_type": "display_data"
    },
    {
     "name": "stdout",
     "output_type": "stream",
     "text": [
      "Epoch 16: train=4.61033, val=3.7029, took 543.93 s\n"
     ]
    },
    {
     "data": {
      "application/vnd.jupyter.widget-view+json": {
       "model_id": "",
       "version_major": 2,
       "version_minor": 0
      },
      "text/plain": [
       "HBox(children=(FloatProgress(value=0.0, description='Training', layout=Layout(flex='2'), max=6667.0, style=Pro…"
      ]
     },
     "metadata": {},
     "output_type": "display_data"
    },
    {
     "name": "stdout",
     "output_type": "stream",
     "text": [
      "Epoch 17: train=4.59813, val=3.95954, took 547.79 s\n"
     ]
    },
    {
     "data": {
      "application/vnd.jupyter.widget-view+json": {
       "model_id": "",
       "version_major": 2,
       "version_minor": 0
      },
      "text/plain": [
       "HBox(children=(FloatProgress(value=0.0, description='Training', layout=Layout(flex='2'), max=6667.0, style=Pro…"
      ]
     },
     "metadata": {},
     "output_type": "display_data"
    },
    {
     "name": "stdout",
     "output_type": "stream",
     "text": [
      "Epoch 18: train=4.61777, val=3.82241, took 546.42 s\n"
     ]
    },
    {
     "data": {
      "application/vnd.jupyter.widget-view+json": {
       "model_id": "",
       "version_major": 2,
       "version_minor": 0
      },
      "text/plain": [
       "HBox(children=(FloatProgress(value=0.0, description='Training', layout=Layout(flex='2'), max=6667.0, style=Pro…"
      ]
     },
     "metadata": {},
     "output_type": "display_data"
    },
    {
     "name": "stdout",
     "output_type": "stream",
     "text": [
      "Epoch 19: train=4.60834, val=3.72072, took 545.62 s\n"
     ]
    },
    {
     "data": {
      "application/vnd.jupyter.widget-view+json": {
       "model_id": "",
       "version_major": 2,
       "version_minor": 0
      },
      "text/plain": [
       "HBox(children=(FloatProgress(value=0.0, description='Training', layout=Layout(flex='2'), max=6667.0, style=Pro…"
      ]
     },
     "metadata": {},
     "output_type": "display_data"
    },
    {
     "name": "stdout",
     "output_type": "stream",
     "text": [
      "Epoch 20: train=4.59755, val=3.752, took 545.52 s\n"
     ]
    },
    {
     "data": {
      "application/vnd.jupyter.widget-view+json": {
       "model_id": "",
       "version_major": 2,
       "version_minor": 0
      },
      "text/plain": [
       "HBox(children=(FloatProgress(value=0.0, description='Training', layout=Layout(flex='2'), max=6667.0, style=Pro…"
      ]
     },
     "metadata": {},
     "output_type": "display_data"
    },
    {
     "name": "stdout",
     "output_type": "stream",
     "text": [
      "Epoch 21: train=4.5921, val=3.73443, took 547.64 s\n"
     ]
    },
    {
     "data": {
      "application/vnd.jupyter.widget-view+json": {
       "model_id": "",
       "version_major": 2,
       "version_minor": 0
      },
      "text/plain": [
       "HBox(children=(FloatProgress(value=0.0, description='Training', layout=Layout(flex='2'), max=6667.0, style=Pro…"
      ]
     },
     "metadata": {},
     "output_type": "display_data"
    },
    {
     "name": "stdout",
     "output_type": "stream",
     "text": [
      "Epoch 22: train=4.59718, val=4.01243, took 550.9 s\n"
     ]
    },
    {
     "data": {
      "application/vnd.jupyter.widget-view+json": {
       "model_id": "",
       "version_major": 2,
       "version_minor": 0
      },
      "text/plain": [
       "HBox(children=(FloatProgress(value=0.0, description='Training', layout=Layout(flex='2'), max=6667.0, style=Pro…"
      ]
     },
     "metadata": {},
     "output_type": "display_data"
    },
    {
     "name": "stdout",
     "output_type": "stream",
     "text": [
      "Epoch 23: train=4.59059, val=3.82692, took 552.94 s\n"
     ]
    },
    {
     "data": {
      "application/vnd.jupyter.widget-view+json": {
       "model_id": "",
       "version_major": 2,
       "version_minor": 0
      },
      "text/plain": [
       "HBox(children=(FloatProgress(value=0.0, description='Training', layout=Layout(flex='2'), max=6667.0, style=Pro…"
      ]
     },
     "metadata": {},
     "output_type": "display_data"
    },
    {
     "name": "stdout",
     "output_type": "stream",
     "text": [
      "Epoch 24: train=4.58894, val=3.75161, took 550.12 s\n"
     ]
    },
    {
     "data": {
      "application/vnd.jupyter.widget-view+json": {
       "model_id": "",
       "version_major": 2,
       "version_minor": 0
      },
      "text/plain": [
       "HBox(children=(FloatProgress(value=0.0, description='Training', layout=Layout(flex='2'), max=6667.0, style=Pro…"
      ]
     },
     "metadata": {},
     "output_type": "display_data"
    },
    {
     "name": "stdout",
     "output_type": "stream",
     "text": [
      "Epoch 25: train=4.58919, val=3.72155, took 549.02 s\n"
     ]
    },
    {
     "data": {
      "application/vnd.jupyter.widget-view+json": {
       "model_id": "",
       "version_major": 2,
       "version_minor": 0
      },
      "text/plain": [
       "HBox(children=(FloatProgress(value=0.0, description='Training', layout=Layout(flex='2'), max=6667.0, style=Pro…"
      ]
     },
     "metadata": {},
     "output_type": "display_data"
    },
    {
     "name": "stdout",
     "output_type": "stream",
     "text": [
      "Epoch 26: train=4.58324, val=3.91539, took 549.48 s\n"
     ]
    },
    {
     "data": {
      "application/vnd.jupyter.widget-view+json": {
       "model_id": "",
       "version_major": 2,
       "version_minor": 0
      },
      "text/plain": [
       "HBox(children=(FloatProgress(value=0.0, description='Training', layout=Layout(flex='2'), max=6667.0, style=Pro…"
      ]
     },
     "metadata": {},
     "output_type": "display_data"
    },
    {
     "name": "stdout",
     "output_type": "stream",
     "text": [
      "Epoch 27: train=4.58567, val=3.76981, took 552.66 s\n"
     ]
    },
    {
     "data": {
      "application/vnd.jupyter.widget-view+json": {
       "model_id": "",
       "version_major": 2,
       "version_minor": 0
      },
      "text/plain": [
       "HBox(children=(FloatProgress(value=0.0, description='Training', layout=Layout(flex='2'), max=6667.0, style=Pro…"
      ]
     },
     "metadata": {},
     "output_type": "display_data"
    },
    {
     "name": "stdout",
     "output_type": "stream",
     "text": [
      "Epoch 28: train=4.58894, val=3.75452, took 550.14 s\n"
     ]
    },
    {
     "data": {
      "application/vnd.jupyter.widget-view+json": {
       "model_id": "",
       "version_major": 2,
       "version_minor": 0
      },
      "text/plain": [
       "HBox(children=(FloatProgress(value=0.0, description='Training', layout=Layout(flex='2'), max=6667.0, style=Pro…"
      ]
     },
     "metadata": {},
     "output_type": "display_data"
    },
    {
     "name": "stdout",
     "output_type": "stream",
     "text": [
      "Epoch 29: train=4.57914, val=3.71903, took 549.67 s\n"
     ]
    },
    {
     "data": {
      "application/vnd.jupyter.widget-view+json": {
       "model_id": "",
       "version_major": 2,
       "version_minor": 0
      },
      "text/plain": [
       "HBox(children=(FloatProgress(value=0.0, description='Training', layout=Layout(flex='2'), max=6667.0, style=Pro…"
      ]
     },
     "metadata": {},
     "output_type": "display_data"
    },
    {
     "name": "stdout",
     "output_type": "stream",
     "text": [
      "Epoch 30: train=4.57697, val=3.68515, took 551.99 s\n"
     ]
    },
    {
     "data": {
      "application/vnd.jupyter.widget-view+json": {
       "model_id": "",
       "version_major": 2,
       "version_minor": 0
      },
      "text/plain": [
       "HBox(children=(FloatProgress(value=0.0, description='Training', layout=Layout(flex='2'), max=6667.0, style=Pro…"
      ]
     },
     "metadata": {},
     "output_type": "display_data"
    },
    {
     "name": "stdout",
     "output_type": "stream",
     "text": [
      "Epoch 31: train=4.58022, val=3.84152, took 556.19 s\n"
     ]
    },
    {
     "data": {
      "application/vnd.jupyter.widget-view+json": {
       "model_id": "",
       "version_major": 2,
       "version_minor": 0
      },
      "text/plain": [
       "HBox(children=(FloatProgress(value=0.0, description='Training', layout=Layout(flex='2'), max=6667.0, style=Pro…"
      ]
     },
     "metadata": {},
     "output_type": "display_data"
    },
    {
     "name": "stdout",
     "output_type": "stream",
     "text": [
      "Epoch 32: train=4.56943, val=3.68652, took 556.42 s\n"
     ]
    },
    {
     "data": {
      "application/vnd.jupyter.widget-view+json": {
       "model_id": "",
       "version_major": 2,
       "version_minor": 0
      },
      "text/plain": [
       "HBox(children=(FloatProgress(value=0.0, description='Training', layout=Layout(flex='2'), max=6667.0, style=Pro…"
      ]
     },
     "metadata": {},
     "output_type": "display_data"
    },
    {
     "name": "stdout",
     "output_type": "stream",
     "text": [
      "Epoch 33: train=4.57037, val=3.71612, took 558.75 s\n"
     ]
    },
    {
     "data": {
      "application/vnd.jupyter.widget-view+json": {
       "model_id": "",
       "version_major": 2,
       "version_minor": 0
      },
      "text/plain": [
       "HBox(children=(FloatProgress(value=0.0, description='Training', layout=Layout(flex='2'), max=6667.0, style=Pro…"
      ]
     },
     "metadata": {},
     "output_type": "display_data"
    },
    {
     "name": "stdout",
     "output_type": "stream",
     "text": [
      "Epoch 34: train=4.56947, val=3.90914, took 553.38 s\n"
     ]
    },
    {
     "data": {
      "application/vnd.jupyter.widget-view+json": {
       "model_id": "",
       "version_major": 2,
       "version_minor": 0
      },
      "text/plain": [
       "HBox(children=(FloatProgress(value=0.0, description='Training', layout=Layout(flex='2'), max=6667.0, style=Pro…"
      ]
     },
     "metadata": {},
     "output_type": "display_data"
    },
    {
     "name": "stdout",
     "output_type": "stream",
     "text": [
      "Epoch 35: train=4.56252, val=3.7259, took 556.97 s\n"
     ]
    },
    {
     "data": {
      "application/vnd.jupyter.widget-view+json": {
       "model_id": "",
       "version_major": 2,
       "version_minor": 0
      },
      "text/plain": [
       "HBox(children=(FloatProgress(value=0.0, description='Training', layout=Layout(flex='2'), max=6667.0, style=Pro…"
      ]
     },
     "metadata": {},
     "output_type": "display_data"
    },
    {
     "name": "stdout",
     "output_type": "stream",
     "text": [
      "Epoch 36: train=4.55873, val=3.71103, took 550.21 s\n"
     ]
    },
    {
     "data": {
      "application/vnd.jupyter.widget-view+json": {
       "model_id": "",
       "version_major": 2,
       "version_minor": 0
      },
      "text/plain": [
       "HBox(children=(FloatProgress(value=0.0, description='Training', layout=Layout(flex='2'), max=6667.0, style=Pro…"
      ]
     },
     "metadata": {},
     "output_type": "display_data"
    },
    {
     "name": "stdout",
     "output_type": "stream",
     "text": [
      "Epoch 37: train=4.5602, val=3.66303, took 550.36 s\n"
     ]
    },
    {
     "data": {
      "application/vnd.jupyter.widget-view+json": {
       "model_id": "",
       "version_major": 2,
       "version_minor": 0
      },
      "text/plain": [
       "HBox(children=(FloatProgress(value=0.0, description='Training', layout=Layout(flex='2'), max=6667.0, style=Pro…"
      ]
     },
     "metadata": {},
     "output_type": "display_data"
    },
    {
     "name": "stdout",
     "output_type": "stream",
     "text": [
      "Epoch 38: train=4.55897, val=3.68265, took 549.71 s\n"
     ]
    },
    {
     "data": {
      "application/vnd.jupyter.widget-view+json": {
       "model_id": "",
       "version_major": 2,
       "version_minor": 0
      },
      "text/plain": [
       "HBox(children=(FloatProgress(value=0.0, description='Training', layout=Layout(flex='2'), max=6667.0, style=Pro…"
      ]
     },
     "metadata": {},
     "output_type": "display_data"
    },
    {
     "name": "stdout",
     "output_type": "stream",
     "text": [
      "Epoch 39: train=4.56131, val=3.6898, took 551.48 s\n"
     ]
    },
    {
     "data": {
      "application/vnd.jupyter.widget-view+json": {
       "model_id": "",
       "version_major": 2,
       "version_minor": 0
      },
      "text/plain": [
       "HBox(children=(FloatProgress(value=0.0, description='Training', layout=Layout(flex='2'), max=6667.0, style=Pro…"
      ]
     },
     "metadata": {},
     "output_type": "display_data"
    },
    {
     "name": "stdout",
     "output_type": "stream",
     "text": [
      "Epoch 40: train=4.55534, val=3.67847, took 594.55 s\n"
     ]
    },
    {
     "data": {
      "application/vnd.jupyter.widget-view+json": {
       "model_id": "",
       "version_major": 2,
       "version_minor": 0
      },
      "text/plain": [
       "HBox(children=(FloatProgress(value=0.0, description='Training', layout=Layout(flex='2'), max=6667.0, style=Pro…"
      ]
     },
     "metadata": {},
     "output_type": "display_data"
    },
    {
     "name": "stdout",
     "output_type": "stream",
     "text": [
      "Epoch 41: train=4.54589, val=3.67381, took 599.62 s\n"
     ]
    },
    {
     "data": {
      "application/vnd.jupyter.widget-view+json": {
       "model_id": "",
       "version_major": 2,
       "version_minor": 0
      },
      "text/plain": [
       "HBox(children=(FloatProgress(value=0.0, description='Training', layout=Layout(flex='2'), max=6667.0, style=Pro…"
      ]
     },
     "metadata": {},
     "output_type": "display_data"
    },
    {
     "name": "stdout",
     "output_type": "stream",
     "text": [
      "Epoch 42: train=4.54705, val=3.65732, took 552.45 s\n"
     ]
    },
    {
     "data": {
      "application/vnd.jupyter.widget-view+json": {
       "model_id": "",
       "version_major": 2,
       "version_minor": 0
      },
      "text/plain": [
       "HBox(children=(FloatProgress(value=0.0, description='Training', layout=Layout(flex='2'), max=6667.0, style=Pro…"
      ]
     },
     "metadata": {},
     "output_type": "display_data"
    },
    {
     "name": "stdout",
     "output_type": "stream",
     "text": [
      "Epoch 43: train=4.5471, val=3.93711, took 557.28 s\n"
     ]
    },
    {
     "data": {
      "application/vnd.jupyter.widget-view+json": {
       "model_id": "",
       "version_major": 2,
       "version_minor": 0
      },
      "text/plain": [
       "HBox(children=(FloatProgress(value=0.0, description='Training', layout=Layout(flex='2'), max=6667.0, style=Pro…"
      ]
     },
     "metadata": {},
     "output_type": "display_data"
    },
    {
     "name": "stdout",
     "output_type": "stream",
     "text": [
      "Epoch 44: train=4.53904, val=3.69059, took 552.29 s\n"
     ]
    },
    {
     "data": {
      "application/vnd.jupyter.widget-view+json": {
       "model_id": "",
       "version_major": 2,
       "version_minor": 0
      },
      "text/plain": [
       "HBox(children=(FloatProgress(value=0.0, description='Training', layout=Layout(flex='2'), max=6667.0, style=Pro…"
      ]
     },
     "metadata": {},
     "output_type": "display_data"
    },
    {
     "name": "stdout",
     "output_type": "stream",
     "text": [
      "Epoch 45: train=4.54605, val=3.65923, took 557.15 s\n"
     ]
    },
    {
     "data": {
      "application/vnd.jupyter.widget-view+json": {
       "model_id": "",
       "version_major": 2,
       "version_minor": 0
      },
      "text/plain": [
       "HBox(children=(FloatProgress(value=0.0, description='Training', layout=Layout(flex='2'), max=6667.0, style=Pro…"
      ]
     },
     "metadata": {},
     "output_type": "display_data"
    },
    {
     "name": "stdout",
     "output_type": "stream",
     "text": [
      "Epoch 46: train=4.54638, val=3.65502, took 610.67 s\n"
     ]
    },
    {
     "data": {
      "application/vnd.jupyter.widget-view+json": {
       "model_id": "",
       "version_major": 2,
       "version_minor": 0
      },
      "text/plain": [
       "HBox(children=(FloatProgress(value=0.0, description='Training', layout=Layout(flex='2'), max=6667.0, style=Pro…"
      ]
     },
     "metadata": {},
     "output_type": "display_data"
    },
    {
     "name": "stdout",
     "output_type": "stream",
     "text": [
      "Epoch 47: train=4.53494, val=3.65626, took 599.62 s\n"
     ]
    },
    {
     "data": {
      "application/vnd.jupyter.widget-view+json": {
       "model_id": "",
       "version_major": 2,
       "version_minor": 0
      },
      "text/plain": [
       "HBox(children=(FloatProgress(value=0.0, description='Training', layout=Layout(flex='2'), max=6667.0, style=Pro…"
      ]
     },
     "metadata": {},
     "output_type": "display_data"
    },
    {
     "name": "stdout",
     "output_type": "stream",
     "text": [
      "Epoch 48: train=4.53497, val=3.64744, took 553.37 s\n"
     ]
    },
    {
     "data": {
      "application/vnd.jupyter.widget-view+json": {
       "model_id": "",
       "version_major": 2,
       "version_minor": 0
      },
      "text/plain": [
       "HBox(children=(FloatProgress(value=0.0, description='Training', layout=Layout(flex='2'), max=6667.0, style=Pro…"
      ]
     },
     "metadata": {},
     "output_type": "display_data"
    },
    {
     "name": "stdout",
     "output_type": "stream",
     "text": [
      "Epoch 49: train=4.53058, val=3.67289, took 549.66 s\n"
     ]
    },
    {
     "data": {
      "application/vnd.jupyter.widget-view+json": {
       "model_id": "",
       "version_major": 2,
       "version_minor": 0
      },
      "text/plain": [
       "HBox(children=(FloatProgress(value=0.0, description='Training', layout=Layout(flex='2'), max=6667.0, style=Pro…"
      ]
     },
     "metadata": {},
     "output_type": "display_data"
    },
    {
     "name": "stdout",
     "output_type": "stream",
     "text": [
      "Epoch 50: train=4.53192, val=3.71085, took 551.75 s\n"
     ]
    },
    {
     "data": {
      "application/vnd.jupyter.widget-view+json": {
       "model_id": "",
       "version_major": 2,
       "version_minor": 0
      },
      "text/plain": [
       "HBox(children=(FloatProgress(value=0.0, description='Training', layout=Layout(flex='2'), max=6667.0, style=Pro…"
      ]
     },
     "metadata": {},
     "output_type": "display_data"
    },
    {
     "name": "stdout",
     "output_type": "stream",
     "text": [
      "Epoch 51: train=4.52978, val=3.7652, took 550.65 s\n"
     ]
    },
    {
     "data": {
      "application/vnd.jupyter.widget-view+json": {
       "model_id": "",
       "version_major": 2,
       "version_minor": 0
      },
      "text/plain": [
       "HBox(children=(FloatProgress(value=0.0, description='Training', layout=Layout(flex='2'), max=6667.0, style=Pro…"
      ]
     },
     "metadata": {},
     "output_type": "display_data"
    },
    {
     "name": "stdout",
     "output_type": "stream",
     "text": [
      "Epoch 52: train=4.53115, val=3.66385, took 551.72 s\n"
     ]
    },
    {
     "data": {
      "application/vnd.jupyter.widget-view+json": {
       "model_id": "",
       "version_major": 2,
       "version_minor": 0
      },
      "text/plain": [
       "HBox(children=(FloatProgress(value=0.0, description='Training', layout=Layout(flex='2'), max=6667.0, style=Pro…"
      ]
     },
     "metadata": {},
     "output_type": "display_data"
    },
    {
     "name": "stdout",
     "output_type": "stream",
     "text": [
      "Epoch 53: train=4.52279, val=3.6425, took 551.41 s\n"
     ]
    },
    {
     "data": {
      "application/vnd.jupyter.widget-view+json": {
       "model_id": "",
       "version_major": 2,
       "version_minor": 0
      },
      "text/plain": [
       "HBox(children=(FloatProgress(value=0.0, description='Training', layout=Layout(flex='2'), max=6667.0, style=Pro…"
      ]
     },
     "metadata": {},
     "output_type": "display_data"
    },
    {
     "name": "stdout",
     "output_type": "stream",
     "text": [
      "Epoch 54: train=4.52555, val=3.64994, took 551.05 s\n"
     ]
    },
    {
     "data": {
      "application/vnd.jupyter.widget-view+json": {
       "model_id": "",
       "version_major": 2,
       "version_minor": 0
      },
      "text/plain": [
       "HBox(children=(FloatProgress(value=0.0, description='Training', layout=Layout(flex='2'), max=6667.0, style=Pro…"
      ]
     },
     "metadata": {},
     "output_type": "display_data"
    },
    {
     "name": "stdout",
     "output_type": "stream",
     "text": [
      "Epoch 55: train=4.51396, val=3.77307, took 550.82 s\n"
     ]
    },
    {
     "data": {
      "application/vnd.jupyter.widget-view+json": {
       "model_id": "",
       "version_major": 2,
       "version_minor": 0
      },
      "text/plain": [
       "HBox(children=(FloatProgress(value=0.0, description='Training', layout=Layout(flex='2'), max=6667.0, style=Pro…"
      ]
     },
     "metadata": {},
     "output_type": "display_data"
    },
    {
     "name": "stdout",
     "output_type": "stream",
     "text": [
      "Epoch 56: train=4.51772, val=3.64095, took 551.43 s\n"
     ]
    },
    {
     "data": {
      "application/vnd.jupyter.widget-view+json": {
       "model_id": "",
       "version_major": 2,
       "version_minor": 0
      },
      "text/plain": [
       "HBox(children=(FloatProgress(value=0.0, description='Training', layout=Layout(flex='2'), max=6667.0, style=Pro…"
      ]
     },
     "metadata": {},
     "output_type": "display_data"
    },
    {
     "name": "stdout",
     "output_type": "stream",
     "text": [
      "Epoch 57: train=4.51168, val=3.67925, took 549.73 s\n"
     ]
    },
    {
     "data": {
      "application/vnd.jupyter.widget-view+json": {
       "model_id": "",
       "version_major": 2,
       "version_minor": 0
      },
      "text/plain": [
       "HBox(children=(FloatProgress(value=0.0, description='Training', layout=Layout(flex='2'), max=6667.0, style=Pro…"
      ]
     },
     "metadata": {},
     "output_type": "display_data"
    },
    {
     "name": "stdout",
     "output_type": "stream",
     "text": [
      "Epoch 58: train=4.51423, val=3.78677, took 552.24 s\n"
     ]
    },
    {
     "data": {
      "application/vnd.jupyter.widget-view+json": {
       "model_id": "",
       "version_major": 2,
       "version_minor": 0
      },
      "text/plain": [
       "HBox(children=(FloatProgress(value=0.0, description='Training', layout=Layout(flex='2'), max=6667.0, style=Pro…"
      ]
     },
     "metadata": {},
     "output_type": "display_data"
    },
    {
     "name": "stdout",
     "output_type": "stream",
     "text": [
      "Epoch 59: train=4.50866, val=3.65648, took 548.96 s\n"
     ]
    },
    {
     "data": {
      "application/vnd.jupyter.widget-view+json": {
       "model_id": "",
       "version_major": 2,
       "version_minor": 0
      },
      "text/plain": [
       "HBox(children=(FloatProgress(value=0.0, description='Training', layout=Layout(flex='2'), max=6667.0, style=Pro…"
      ]
     },
     "metadata": {},
     "output_type": "display_data"
    },
    {
     "name": "stdout",
     "output_type": "stream",
     "text": [
      "Epoch 60: train=4.50349, val=3.62695, took 551.22 s\n"
     ]
    },
    {
     "data": {
      "application/vnd.jupyter.widget-view+json": {
       "model_id": "",
       "version_major": 2,
       "version_minor": 0
      },
      "text/plain": [
       "HBox(children=(FloatProgress(value=0.0, description='Training', layout=Layout(flex='2'), max=6667.0, style=Pro…"
      ]
     },
     "metadata": {},
     "output_type": "display_data"
    },
    {
     "name": "stdout",
     "output_type": "stream",
     "text": [
      "Epoch 61: train=4.50738, val=3.65279, took 552.56 s\n"
     ]
    },
    {
     "data": {
      "application/vnd.jupyter.widget-view+json": {
       "model_id": "",
       "version_major": 2,
       "version_minor": 0
      },
      "text/plain": [
       "HBox(children=(FloatProgress(value=0.0, description='Training', layout=Layout(flex='2'), max=6667.0, style=Pro…"
      ]
     },
     "metadata": {},
     "output_type": "display_data"
    },
    {
     "name": "stdout",
     "output_type": "stream",
     "text": [
      "Epoch 62: train=4.51084, val=3.63634, took 550.21 s\n"
     ]
    },
    {
     "data": {
      "application/vnd.jupyter.widget-view+json": {
       "model_id": "",
       "version_major": 2,
       "version_minor": 0
      },
      "text/plain": [
       "HBox(children=(FloatProgress(value=0.0, description='Training', layout=Layout(flex='2'), max=6667.0, style=Pro…"
      ]
     },
     "metadata": {},
     "output_type": "display_data"
    },
    {
     "name": "stdout",
     "output_type": "stream",
     "text": [
      "Epoch 63: train=4.49685, val=3.6404, took 551.07 s\n"
     ]
    },
    {
     "data": {
      "application/vnd.jupyter.widget-view+json": {
       "model_id": "",
       "version_major": 2,
       "version_minor": 0
      },
      "text/plain": [
       "HBox(children=(FloatProgress(value=0.0, description='Training', layout=Layout(flex='2'), max=6667.0, style=Pro…"
      ]
     },
     "metadata": {},
     "output_type": "display_data"
    },
    {
     "name": "stdout",
     "output_type": "stream",
     "text": [
      "Epoch 64: train=4.49719, val=3.70344, took 554.02 s\n"
     ]
    },
    {
     "data": {
      "application/vnd.jupyter.widget-view+json": {
       "model_id": "",
       "version_major": 2,
       "version_minor": 0
      },
      "text/plain": [
       "HBox(children=(FloatProgress(value=0.0, description='Training', layout=Layout(flex='2'), max=6667.0, style=Pro…"
      ]
     },
     "metadata": {},
     "output_type": "display_data"
    },
    {
     "name": "stdout",
     "output_type": "stream",
     "text": [
      "Epoch 65: train=4.50343, val=3.64528, took 550.32 s\n"
     ]
    },
    {
     "data": {
      "application/vnd.jupyter.widget-view+json": {
       "model_id": "",
       "version_major": 2,
       "version_minor": 0
      },
      "text/plain": [
       "HBox(children=(FloatProgress(value=0.0, description='Training', layout=Layout(flex='2'), max=6667.0, style=Pro…"
      ]
     },
     "metadata": {},
     "output_type": "display_data"
    },
    {
     "name": "stdout",
     "output_type": "stream",
     "text": [
      "Epoch 66: train=4.49158, val=3.6325, took 549.27 s\n"
     ]
    },
    {
     "data": {
      "application/vnd.jupyter.widget-view+json": {
       "model_id": "",
       "version_major": 2,
       "version_minor": 0
      },
      "text/plain": [
       "HBox(children=(FloatProgress(value=0.0, description='Training', layout=Layout(flex='2'), max=6667.0, style=Pro…"
      ]
     },
     "metadata": {},
     "output_type": "display_data"
    },
    {
     "name": "stdout",
     "output_type": "stream",
     "text": [
      "Epoch 67: train=4.49774, val=3.61075, took 549.66 s\n"
     ]
    },
    {
     "data": {
      "application/vnd.jupyter.widget-view+json": {
       "model_id": "",
       "version_major": 2,
       "version_minor": 0
      },
      "text/plain": [
       "HBox(children=(FloatProgress(value=0.0, description='Training', layout=Layout(flex='2'), max=6667.0, style=Pro…"
      ]
     },
     "metadata": {},
     "output_type": "display_data"
    },
    {
     "name": "stdout",
     "output_type": "stream",
     "text": [
      "Epoch 68: train=4.49122, val=3.62129, took 554.92 s\n"
     ]
    },
    {
     "data": {
      "application/vnd.jupyter.widget-view+json": {
       "model_id": "",
       "version_major": 2,
       "version_minor": 0
      },
      "text/plain": [
       "HBox(children=(FloatProgress(value=0.0, description='Training', layout=Layout(flex='2'), max=6667.0, style=Pro…"
      ]
     },
     "metadata": {},
     "output_type": "display_data"
    },
    {
     "name": "stdout",
     "output_type": "stream",
     "text": [
      "Epoch 69: train=4.49051, val=3.61816, took 556.75 s\n"
     ]
    },
    {
     "data": {
      "application/vnd.jupyter.widget-view+json": {
       "model_id": "",
       "version_major": 2,
       "version_minor": 0
      },
      "text/plain": [
       "HBox(children=(FloatProgress(value=0.0, description='Training', layout=Layout(flex='2'), max=6667.0, style=Pro…"
      ]
     },
     "metadata": {},
     "output_type": "display_data"
    },
    {
     "name": "stdout",
     "output_type": "stream",
     "text": [
      "Epoch 70: train=4.479, val=3.72682, took 549.19 s\n"
     ]
    },
    {
     "data": {
      "application/vnd.jupyter.widget-view+json": {
       "model_id": "",
       "version_major": 2,
       "version_minor": 0
      },
      "text/plain": [
       "HBox(children=(FloatProgress(value=0.0, description='Training', layout=Layout(flex='2'), max=6667.0, style=Pro…"
      ]
     },
     "metadata": {},
     "output_type": "display_data"
    },
    {
     "name": "stdout",
     "output_type": "stream",
     "text": [
      "Epoch 71: train=4.48275, val=3.65055, took 551.31 s\n"
     ]
    },
    {
     "data": {
      "application/vnd.jupyter.widget-view+json": {
       "model_id": "",
       "version_major": 2,
       "version_minor": 0
      },
      "text/plain": [
       "HBox(children=(FloatProgress(value=0.0, description='Training', layout=Layout(flex='2'), max=6667.0, style=Pro…"
      ]
     },
     "metadata": {},
     "output_type": "display_data"
    },
    {
     "name": "stdout",
     "output_type": "stream",
     "text": [
      "Epoch 72: train=4.48727, val=3.69655, took 549.97 s\n"
     ]
    },
    {
     "data": {
      "application/vnd.jupyter.widget-view+json": {
       "model_id": "",
       "version_major": 2,
       "version_minor": 0
      },
      "text/plain": [
       "HBox(children=(FloatProgress(value=0.0, description='Training', layout=Layout(flex='2'), max=6667.0, style=Pro…"
      ]
     },
     "metadata": {},
     "output_type": "display_data"
    },
    {
     "name": "stdout",
     "output_type": "stream",
     "text": [
      "Epoch 73: train=4.48492, val=3.60808, took 543.24 s\n"
     ]
    },
    {
     "data": {
      "application/vnd.jupyter.widget-view+json": {
       "model_id": "",
       "version_major": 2,
       "version_minor": 0
      },
      "text/plain": [
       "HBox(children=(FloatProgress(value=0.0, description='Training', layout=Layout(flex='2'), max=6667.0, style=Pro…"
      ]
     },
     "metadata": {},
     "output_type": "display_data"
    },
    {
     "name": "stdout",
     "output_type": "stream",
     "text": [
      "Epoch 74: train=4.47734, val=3.60097, took 542.98 s\n",
      "\n"
     ]
    }
   ],
   "source": [
    "for result in trainNet(model, optimizer, loss,\n",
    "                        train_loader, val_loader,\n",
    "                        n_epochs, epoch_start=len(results),\n",
    "                        notebook=True):\n",
    "    \n",
    "    results = results.append(pd.Series(result._asdict()), ignore_index=True)\n",
    "    xs = results.index\n",
    "    \n",
    "    # Update the plot above\n",
    "    lines['train'].set_data(results.index,results.cost)\n",
    "    lines['val'].set_data(results.index,results.val)\n",
    "    \n",
    "    #filter first cost epoch (can be really large)\n",
    "    max_cost = max(max(results.cost if len(results.cost)<2 else results.cost[1:]), max(results.val))\n",
    "    min_cost = min(min(results.cost), min(results.val))\n",
    "    \n",
    "    # The plot limits need updating too\n",
    "    \n",
    "    \n",
    "    \n",
    "    ax.set_ylim(min_cost*.9, max_cost*1.1)  \n",
    "    ax.set_xlim(-.5, len(results.cost) - .5)\n",
    "\n",
    "    \n",
    "    # Redraw the figure\n",
    "    fig.canvas.draw()\n",
    "\n",
    "    # Save each model state dictionary\n",
    "    torch.save(model.state_dict(), output / f'{name}_{result.epoch}.pyt')"
   ]
  },
  {
   "cell_type": "markdown",
   "metadata": {},
   "source": [
    "Go ahead and save the final model (even though it was also saved above):"
   ]
  },
  {
   "cell_type": "code",
   "execution_count": 18,
   "metadata": {},
   "outputs": [],
   "source": [
    "torch.save(model.state_dict(), output / f'{name}_final.pyt')"
   ]
  },
  {
   "cell_type": "markdown",
   "metadata": {},
   "source": [
    "Save the output results:"
   ]
  },
  {
   "cell_type": "code",
   "execution_count": 19,
   "metadata": {},
   "outputs": [],
   "source": [
    "results.to_hdf(f'{name}_stats.hdf5', 'results')"
   ]
  },
  {
   "cell_type": "markdown",
   "metadata": {},
   "source": [
    "Save the plot above:"
   ]
  },
  {
   "cell_type": "code",
   "execution_count": 20,
   "metadata": {},
   "outputs": [
    {
     "data": {
      "application/javascript": [
       "/* Put everything inside the global mpl namespace */\n",
       "window.mpl = {};\n",
       "\n",
       "\n",
       "mpl.get_websocket_type = function() {\n",
       "    if (typeof(WebSocket) !== 'undefined') {\n",
       "        return WebSocket;\n",
       "    } else if (typeof(MozWebSocket) !== 'undefined') {\n",
       "        return MozWebSocket;\n",
       "    } else {\n",
       "        alert('Your browser does not have WebSocket support. ' +\n",
       "              'Please try Chrome, Safari or Firefox ≥ 6. ' +\n",
       "              'Firefox 4 and 5 are also supported but you ' +\n",
       "              'have to enable WebSockets in about:config.');\n",
       "    };\n",
       "}\n",
       "\n",
       "mpl.figure = function(figure_id, websocket, ondownload, parent_element) {\n",
       "    this.id = figure_id;\n",
       "\n",
       "    this.ws = websocket;\n",
       "\n",
       "    this.supports_binary = (this.ws.binaryType != undefined);\n",
       "\n",
       "    if (!this.supports_binary) {\n",
       "        var warnings = document.getElementById(\"mpl-warnings\");\n",
       "        if (warnings) {\n",
       "            warnings.style.display = 'block';\n",
       "            warnings.textContent = (\n",
       "                \"This browser does not support binary websocket messages. \" +\n",
       "                    \"Performance may be slow.\");\n",
       "        }\n",
       "    }\n",
       "\n",
       "    this.imageObj = new Image();\n",
       "\n",
       "    this.context = undefined;\n",
       "    this.message = undefined;\n",
       "    this.canvas = undefined;\n",
       "    this.rubberband_canvas = undefined;\n",
       "    this.rubberband_context = undefined;\n",
       "    this.format_dropdown = undefined;\n",
       "\n",
       "    this.image_mode = 'full';\n",
       "\n",
       "    this.root = $('<div/>');\n",
       "    this._root_extra_style(this.root)\n",
       "    this.root.attr('style', 'display: inline-block');\n",
       "\n",
       "    $(parent_element).append(this.root);\n",
       "\n",
       "    this._init_header(this);\n",
       "    this._init_canvas(this);\n",
       "    this._init_toolbar(this);\n",
       "\n",
       "    var fig = this;\n",
       "\n",
       "    this.waiting = false;\n",
       "\n",
       "    this.ws.onopen =  function () {\n",
       "            fig.send_message(\"supports_binary\", {value: fig.supports_binary});\n",
       "            fig.send_message(\"send_image_mode\", {});\n",
       "            if (mpl.ratio != 1) {\n",
       "                fig.send_message(\"set_dpi_ratio\", {'dpi_ratio': mpl.ratio});\n",
       "            }\n",
       "            fig.send_message(\"refresh\", {});\n",
       "        }\n",
       "\n",
       "    this.imageObj.onload = function() {\n",
       "            if (fig.image_mode == 'full') {\n",
       "                // Full images could contain transparency (where diff images\n",
       "                // almost always do), so we need to clear the canvas so that\n",
       "                // there is no ghosting.\n",
       "                fig.context.clearRect(0, 0, fig.canvas.width, fig.canvas.height);\n",
       "            }\n",
       "            fig.context.drawImage(fig.imageObj, 0, 0);\n",
       "        };\n",
       "\n",
       "    this.imageObj.onunload = function() {\n",
       "        fig.ws.close();\n",
       "    }\n",
       "\n",
       "    this.ws.onmessage = this._make_on_message_function(this);\n",
       "\n",
       "    this.ondownload = ondownload;\n",
       "}\n",
       "\n",
       "mpl.figure.prototype._init_header = function() {\n",
       "    var titlebar = $(\n",
       "        '<div class=\"ui-dialog-titlebar ui-widget-header ui-corner-all ' +\n",
       "        'ui-helper-clearfix\"/>');\n",
       "    var titletext = $(\n",
       "        '<div class=\"ui-dialog-title\" style=\"width: 100%; ' +\n",
       "        'text-align: center; padding: 3px;\"/>');\n",
       "    titlebar.append(titletext)\n",
       "    this.root.append(titlebar);\n",
       "    this.header = titletext[0];\n",
       "}\n",
       "\n",
       "\n",
       "\n",
       "mpl.figure.prototype._canvas_extra_style = function(canvas_div) {\n",
       "\n",
       "}\n",
       "\n",
       "\n",
       "mpl.figure.prototype._root_extra_style = function(canvas_div) {\n",
       "\n",
       "}\n",
       "\n",
       "mpl.figure.prototype._init_canvas = function() {\n",
       "    var fig = this;\n",
       "\n",
       "    var canvas_div = $('<div/>');\n",
       "\n",
       "    canvas_div.attr('style', 'position: relative; clear: both; outline: 0');\n",
       "\n",
       "    function canvas_keyboard_event(event) {\n",
       "        return fig.key_event(event, event['data']);\n",
       "    }\n",
       "\n",
       "    canvas_div.keydown('key_press', canvas_keyboard_event);\n",
       "    canvas_div.keyup('key_release', canvas_keyboard_event);\n",
       "    this.canvas_div = canvas_div\n",
       "    this._canvas_extra_style(canvas_div)\n",
       "    this.root.append(canvas_div);\n",
       "\n",
       "    var canvas = $('<canvas/>');\n",
       "    canvas.addClass('mpl-canvas');\n",
       "    canvas.attr('style', \"left: 0; top: 0; z-index: 0; outline: 0\")\n",
       "\n",
       "    this.canvas = canvas[0];\n",
       "    this.context = canvas[0].getContext(\"2d\");\n",
       "\n",
       "    var backingStore = this.context.backingStorePixelRatio ||\n",
       "\tthis.context.webkitBackingStorePixelRatio ||\n",
       "\tthis.context.mozBackingStorePixelRatio ||\n",
       "\tthis.context.msBackingStorePixelRatio ||\n",
       "\tthis.context.oBackingStorePixelRatio ||\n",
       "\tthis.context.backingStorePixelRatio || 1;\n",
       "\n",
       "    mpl.ratio = (window.devicePixelRatio || 1) / backingStore;\n",
       "\n",
       "    var rubberband = $('<canvas/>');\n",
       "    rubberband.attr('style', \"position: absolute; left: 0; top: 0; z-index: 1;\")\n",
       "\n",
       "    var pass_mouse_events = true;\n",
       "\n",
       "    canvas_div.resizable({\n",
       "        start: function(event, ui) {\n",
       "            pass_mouse_events = false;\n",
       "        },\n",
       "        resize: function(event, ui) {\n",
       "            fig.request_resize(ui.size.width, ui.size.height);\n",
       "        },\n",
       "        stop: function(event, ui) {\n",
       "            pass_mouse_events = true;\n",
       "            fig.request_resize(ui.size.width, ui.size.height);\n",
       "        },\n",
       "    });\n",
       "\n",
       "    function mouse_event_fn(event) {\n",
       "        if (pass_mouse_events)\n",
       "            return fig.mouse_event(event, event['data']);\n",
       "    }\n",
       "\n",
       "    rubberband.mousedown('button_press', mouse_event_fn);\n",
       "    rubberband.mouseup('button_release', mouse_event_fn);\n",
       "    // Throttle sequential mouse events to 1 every 20ms.\n",
       "    rubberband.mousemove('motion_notify', mouse_event_fn);\n",
       "\n",
       "    rubberband.mouseenter('figure_enter', mouse_event_fn);\n",
       "    rubberband.mouseleave('figure_leave', mouse_event_fn);\n",
       "\n",
       "    canvas_div.on(\"wheel\", function (event) {\n",
       "        event = event.originalEvent;\n",
       "        event['data'] = 'scroll'\n",
       "        if (event.deltaY < 0) {\n",
       "            event.step = 1;\n",
       "        } else {\n",
       "            event.step = -1;\n",
       "        }\n",
       "        mouse_event_fn(event);\n",
       "    });\n",
       "\n",
       "    canvas_div.append(canvas);\n",
       "    canvas_div.append(rubberband);\n",
       "\n",
       "    this.rubberband = rubberband;\n",
       "    this.rubberband_canvas = rubberband[0];\n",
       "    this.rubberband_context = rubberband[0].getContext(\"2d\");\n",
       "    this.rubberband_context.strokeStyle = \"#000000\";\n",
       "\n",
       "    this._resize_canvas = function(width, height) {\n",
       "        // Keep the size of the canvas, canvas container, and rubber band\n",
       "        // canvas in synch.\n",
       "        canvas_div.css('width', width)\n",
       "        canvas_div.css('height', height)\n",
       "\n",
       "        canvas.attr('width', width * mpl.ratio);\n",
       "        canvas.attr('height', height * mpl.ratio);\n",
       "        canvas.attr('style', 'width: ' + width + 'px; height: ' + height + 'px;');\n",
       "\n",
       "        rubberband.attr('width', width);\n",
       "        rubberband.attr('height', height);\n",
       "    }\n",
       "\n",
       "    // Set the figure to an initial 600x600px, this will subsequently be updated\n",
       "    // upon first draw.\n",
       "    this._resize_canvas(600, 600);\n",
       "\n",
       "    // Disable right mouse context menu.\n",
       "    $(this.rubberband_canvas).bind(\"contextmenu\",function(e){\n",
       "        return false;\n",
       "    });\n",
       "\n",
       "    function set_focus () {\n",
       "        canvas.focus();\n",
       "        canvas_div.focus();\n",
       "    }\n",
       "\n",
       "    window.setTimeout(set_focus, 100);\n",
       "}\n",
       "\n",
       "mpl.figure.prototype._init_toolbar = function() {\n",
       "    var fig = this;\n",
       "\n",
       "    var nav_element = $('<div/>');\n",
       "    nav_element.attr('style', 'width: 100%');\n",
       "    this.root.append(nav_element);\n",
       "\n",
       "    // Define a callback function for later on.\n",
       "    function toolbar_event(event) {\n",
       "        return fig.toolbar_button_onclick(event['data']);\n",
       "    }\n",
       "    function toolbar_mouse_event(event) {\n",
       "        return fig.toolbar_button_onmouseover(event['data']);\n",
       "    }\n",
       "\n",
       "    for(var toolbar_ind in mpl.toolbar_items) {\n",
       "        var name = mpl.toolbar_items[toolbar_ind][0];\n",
       "        var tooltip = mpl.toolbar_items[toolbar_ind][1];\n",
       "        var image = mpl.toolbar_items[toolbar_ind][2];\n",
       "        var method_name = mpl.toolbar_items[toolbar_ind][3];\n",
       "\n",
       "        if (!name) {\n",
       "            // put a spacer in here.\n",
       "            continue;\n",
       "        }\n",
       "        var button = $('<button/>');\n",
       "        button.addClass('ui-button ui-widget ui-state-default ui-corner-all ' +\n",
       "                        'ui-button-icon-only');\n",
       "        button.attr('role', 'button');\n",
       "        button.attr('aria-disabled', 'false');\n",
       "        button.click(method_name, toolbar_event);\n",
       "        button.mouseover(tooltip, toolbar_mouse_event);\n",
       "\n",
       "        var icon_img = $('<span/>');\n",
       "        icon_img.addClass('ui-button-icon-primary ui-icon');\n",
       "        icon_img.addClass(image);\n",
       "        icon_img.addClass('ui-corner-all');\n",
       "\n",
       "        var tooltip_span = $('<span/>');\n",
       "        tooltip_span.addClass('ui-button-text');\n",
       "        tooltip_span.html(tooltip);\n",
       "\n",
       "        button.append(icon_img);\n",
       "        button.append(tooltip_span);\n",
       "\n",
       "        nav_element.append(button);\n",
       "    }\n",
       "\n",
       "    var fmt_picker_span = $('<span/>');\n",
       "\n",
       "    var fmt_picker = $('<select/>');\n",
       "    fmt_picker.addClass('mpl-toolbar-option ui-widget ui-widget-content');\n",
       "    fmt_picker_span.append(fmt_picker);\n",
       "    nav_element.append(fmt_picker_span);\n",
       "    this.format_dropdown = fmt_picker[0];\n",
       "\n",
       "    for (var ind in mpl.extensions) {\n",
       "        var fmt = mpl.extensions[ind];\n",
       "        var option = $(\n",
       "            '<option/>', {selected: fmt === mpl.default_extension}).html(fmt);\n",
       "        fmt_picker.append(option);\n",
       "    }\n",
       "\n",
       "    // Add hover states to the ui-buttons\n",
       "    $( \".ui-button\" ).hover(\n",
       "        function() { $(this).addClass(\"ui-state-hover\");},\n",
       "        function() { $(this).removeClass(\"ui-state-hover\");}\n",
       "    );\n",
       "\n",
       "    var status_bar = $('<span class=\"mpl-message\"/>');\n",
       "    nav_element.append(status_bar);\n",
       "    this.message = status_bar[0];\n",
       "}\n",
       "\n",
       "mpl.figure.prototype.request_resize = function(x_pixels, y_pixels) {\n",
       "    // Request matplotlib to resize the figure. Matplotlib will then trigger a resize in the client,\n",
       "    // which will in turn request a refresh of the image.\n",
       "    this.send_message('resize', {'width': x_pixels, 'height': y_pixels});\n",
       "}\n",
       "\n",
       "mpl.figure.prototype.send_message = function(type, properties) {\n",
       "    properties['type'] = type;\n",
       "    properties['figure_id'] = this.id;\n",
       "    this.ws.send(JSON.stringify(properties));\n",
       "}\n",
       "\n",
       "mpl.figure.prototype.send_draw_message = function() {\n",
       "    if (!this.waiting) {\n",
       "        this.waiting = true;\n",
       "        this.ws.send(JSON.stringify({type: \"draw\", figure_id: this.id}));\n",
       "    }\n",
       "}\n",
       "\n",
       "\n",
       "mpl.figure.prototype.handle_save = function(fig, msg) {\n",
       "    var format_dropdown = fig.format_dropdown;\n",
       "    var format = format_dropdown.options[format_dropdown.selectedIndex].value;\n",
       "    fig.ondownload(fig, format);\n",
       "}\n",
       "\n",
       "\n",
       "mpl.figure.prototype.handle_resize = function(fig, msg) {\n",
       "    var size = msg['size'];\n",
       "    if (size[0] != fig.canvas.width || size[1] != fig.canvas.height) {\n",
       "        fig._resize_canvas(size[0], size[1]);\n",
       "        fig.send_message(\"refresh\", {});\n",
       "    };\n",
       "}\n",
       "\n",
       "mpl.figure.prototype.handle_rubberband = function(fig, msg) {\n",
       "    var x0 = msg['x0'] / mpl.ratio;\n",
       "    var y0 = (fig.canvas.height - msg['y0']) / mpl.ratio;\n",
       "    var x1 = msg['x1'] / mpl.ratio;\n",
       "    var y1 = (fig.canvas.height - msg['y1']) / mpl.ratio;\n",
       "    x0 = Math.floor(x0) + 0.5;\n",
       "    y0 = Math.floor(y0) + 0.5;\n",
       "    x1 = Math.floor(x1) + 0.5;\n",
       "    y1 = Math.floor(y1) + 0.5;\n",
       "    var min_x = Math.min(x0, x1);\n",
       "    var min_y = Math.min(y0, y1);\n",
       "    var width = Math.abs(x1 - x0);\n",
       "    var height = Math.abs(y1 - y0);\n",
       "\n",
       "    fig.rubberband_context.clearRect(\n",
       "        0, 0, fig.canvas.width / mpl.ratio, fig.canvas.height / mpl.ratio);\n",
       "\n",
       "    fig.rubberband_context.strokeRect(min_x, min_y, width, height);\n",
       "}\n",
       "\n",
       "mpl.figure.prototype.handle_figure_label = function(fig, msg) {\n",
       "    // Updates the figure title.\n",
       "    fig.header.textContent = msg['label'];\n",
       "}\n",
       "\n",
       "mpl.figure.prototype.handle_cursor = function(fig, msg) {\n",
       "    var cursor = msg['cursor'];\n",
       "    switch(cursor)\n",
       "    {\n",
       "    case 0:\n",
       "        cursor = 'pointer';\n",
       "        break;\n",
       "    case 1:\n",
       "        cursor = 'default';\n",
       "        break;\n",
       "    case 2:\n",
       "        cursor = 'crosshair';\n",
       "        break;\n",
       "    case 3:\n",
       "        cursor = 'move';\n",
       "        break;\n",
       "    }\n",
       "    fig.rubberband_canvas.style.cursor = cursor;\n",
       "}\n",
       "\n",
       "mpl.figure.prototype.handle_message = function(fig, msg) {\n",
       "    fig.message.textContent = msg['message'];\n",
       "}\n",
       "\n",
       "mpl.figure.prototype.handle_draw = function(fig, msg) {\n",
       "    // Request the server to send over a new figure.\n",
       "    fig.send_draw_message();\n",
       "}\n",
       "\n",
       "mpl.figure.prototype.handle_image_mode = function(fig, msg) {\n",
       "    fig.image_mode = msg['mode'];\n",
       "}\n",
       "\n",
       "mpl.figure.prototype.updated_canvas_event = function() {\n",
       "    // Called whenever the canvas gets updated.\n",
       "    this.send_message(\"ack\", {});\n",
       "}\n",
       "\n",
       "// A function to construct a web socket function for onmessage handling.\n",
       "// Called in the figure constructor.\n",
       "mpl.figure.prototype._make_on_message_function = function(fig) {\n",
       "    return function socket_on_message(evt) {\n",
       "        if (evt.data instanceof Blob) {\n",
       "            /* FIXME: We get \"Resource interpreted as Image but\n",
       "             * transferred with MIME type text/plain:\" errors on\n",
       "             * Chrome.  But how to set the MIME type?  It doesn't seem\n",
       "             * to be part of the websocket stream */\n",
       "            evt.data.type = \"image/png\";\n",
       "\n",
       "            /* Free the memory for the previous frames */\n",
       "            if (fig.imageObj.src) {\n",
       "                (window.URL || window.webkitURL).revokeObjectURL(\n",
       "                    fig.imageObj.src);\n",
       "            }\n",
       "\n",
       "            fig.imageObj.src = (window.URL || window.webkitURL).createObjectURL(\n",
       "                evt.data);\n",
       "            fig.updated_canvas_event();\n",
       "            fig.waiting = false;\n",
       "            return;\n",
       "        }\n",
       "        else if (typeof evt.data === 'string' && evt.data.slice(0, 21) == \"data:image/png;base64\") {\n",
       "            fig.imageObj.src = evt.data;\n",
       "            fig.updated_canvas_event();\n",
       "            fig.waiting = false;\n",
       "            return;\n",
       "        }\n",
       "\n",
       "        var msg = JSON.parse(evt.data);\n",
       "        var msg_type = msg['type'];\n",
       "\n",
       "        // Call the  \"handle_{type}\" callback, which takes\n",
       "        // the figure and JSON message as its only arguments.\n",
       "        try {\n",
       "            var callback = fig[\"handle_\" + msg_type];\n",
       "        } catch (e) {\n",
       "            console.log(\"No handler for the '\" + msg_type + \"' message type: \", msg);\n",
       "            return;\n",
       "        }\n",
       "\n",
       "        if (callback) {\n",
       "            try {\n",
       "                // console.log(\"Handling '\" + msg_type + \"' message: \", msg);\n",
       "                callback(fig, msg);\n",
       "            } catch (e) {\n",
       "                console.log(\"Exception inside the 'handler_\" + msg_type + \"' callback:\", e, e.stack, msg);\n",
       "            }\n",
       "        }\n",
       "    };\n",
       "}\n",
       "\n",
       "// from http://stackoverflow.com/questions/1114465/getting-mouse-location-in-canvas\n",
       "mpl.findpos = function(e) {\n",
       "    //this section is from http://www.quirksmode.org/js/events_properties.html\n",
       "    var targ;\n",
       "    if (!e)\n",
       "        e = window.event;\n",
       "    if (e.target)\n",
       "        targ = e.target;\n",
       "    else if (e.srcElement)\n",
       "        targ = e.srcElement;\n",
       "    if (targ.nodeType == 3) // defeat Safari bug\n",
       "        targ = targ.parentNode;\n",
       "\n",
       "    // jQuery normalizes the pageX and pageY\n",
       "    // pageX,Y are the mouse positions relative to the document\n",
       "    // offset() returns the position of the element relative to the document\n",
       "    var x = e.pageX - $(targ).offset().left;\n",
       "    var y = e.pageY - $(targ).offset().top;\n",
       "\n",
       "    return {\"x\": x, \"y\": y};\n",
       "};\n",
       "\n",
       "/*\n",
       " * return a copy of an object with only non-object keys\n",
       " * we need this to avoid circular references\n",
       " * http://stackoverflow.com/a/24161582/3208463\n",
       " */\n",
       "function simpleKeys (original) {\n",
       "  return Object.keys(original).reduce(function (obj, key) {\n",
       "    if (typeof original[key] !== 'object')\n",
       "        obj[key] = original[key]\n",
       "    return obj;\n",
       "  }, {});\n",
       "}\n",
       "\n",
       "mpl.figure.prototype.mouse_event = function(event, name) {\n",
       "    var canvas_pos = mpl.findpos(event)\n",
       "\n",
       "    if (name === 'button_press')\n",
       "    {\n",
       "        this.canvas.focus();\n",
       "        this.canvas_div.focus();\n",
       "    }\n",
       "\n",
       "    var x = canvas_pos.x * mpl.ratio;\n",
       "    var y = canvas_pos.y * mpl.ratio;\n",
       "\n",
       "    this.send_message(name, {x: x, y: y, button: event.button,\n",
       "                             step: event.step,\n",
       "                             guiEvent: simpleKeys(event)});\n",
       "\n",
       "    /* This prevents the web browser from automatically changing to\n",
       "     * the text insertion cursor when the button is pressed.  We want\n",
       "     * to control all of the cursor setting manually through the\n",
       "     * 'cursor' event from matplotlib */\n",
       "    event.preventDefault();\n",
       "    return false;\n",
       "}\n",
       "\n",
       "mpl.figure.prototype._key_event_extra = function(event, name) {\n",
       "    // Handle any extra behaviour associated with a key event\n",
       "}\n",
       "\n",
       "mpl.figure.prototype.key_event = function(event, name) {\n",
       "\n",
       "    // Prevent repeat events\n",
       "    if (name == 'key_press')\n",
       "    {\n",
       "        if (event.which === this._key)\n",
       "            return;\n",
       "        else\n",
       "            this._key = event.which;\n",
       "    }\n",
       "    if (name == 'key_release')\n",
       "        this._key = null;\n",
       "\n",
       "    var value = '';\n",
       "    if (event.ctrlKey && event.which != 17)\n",
       "        value += \"ctrl+\";\n",
       "    if (event.altKey && event.which != 18)\n",
       "        value += \"alt+\";\n",
       "    if (event.shiftKey && event.which != 16)\n",
       "        value += \"shift+\";\n",
       "\n",
       "    value += 'k';\n",
       "    value += event.which.toString();\n",
       "\n",
       "    this._key_event_extra(event, name);\n",
       "\n",
       "    this.send_message(name, {key: value,\n",
       "                             guiEvent: simpleKeys(event)});\n",
       "    return false;\n",
       "}\n",
       "\n",
       "mpl.figure.prototype.toolbar_button_onclick = function(name) {\n",
       "    if (name == 'download') {\n",
       "        this.handle_save(this, null);\n",
       "    } else {\n",
       "        this.send_message(\"toolbar_button\", {name: name});\n",
       "    }\n",
       "};\n",
       "\n",
       "mpl.figure.prototype.toolbar_button_onmouseover = function(tooltip) {\n",
       "    this.message.textContent = tooltip;\n",
       "};\n",
       "mpl.toolbar_items = [[\"Home\", \"Reset original view\", \"fa fa-home icon-home\", \"home\"], [\"Back\", \"Back to previous view\", \"fa fa-arrow-left icon-arrow-left\", \"back\"], [\"Forward\", \"Forward to next view\", \"fa fa-arrow-right icon-arrow-right\", \"forward\"], [\"\", \"\", \"\", \"\"], [\"Pan\", \"Pan axes with left mouse, zoom with right\", \"fa fa-arrows icon-move\", \"pan\"], [\"Zoom\", \"Zoom to rectangle\", \"fa fa-square-o icon-check-empty\", \"zoom\"], [\"\", \"\", \"\", \"\"], [\"Download\", \"Download plot\", \"fa fa-floppy-o icon-save\", \"download\"]];\n",
       "\n",
       "mpl.extensions = [\"eps\", \"jpeg\", \"pdf\", \"png\", \"ps\", \"raw\", \"svg\", \"tif\"];\n",
       "\n",
       "mpl.default_extension = \"png\";var comm_websocket_adapter = function(comm) {\n",
       "    // Create a \"websocket\"-like object which calls the given IPython comm\n",
       "    // object with the appropriate methods. Currently this is a non binary\n",
       "    // socket, so there is still some room for performance tuning.\n",
       "    var ws = {};\n",
       "\n",
       "    ws.close = function() {\n",
       "        comm.close()\n",
       "    };\n",
       "    ws.send = function(m) {\n",
       "        //console.log('sending', m);\n",
       "        comm.send(m);\n",
       "    };\n",
       "    // Register the callback with on_msg.\n",
       "    comm.on_msg(function(msg) {\n",
       "        //console.log('receiving', msg['content']['data'], msg);\n",
       "        // Pass the mpl event to the overridden (by mpl) onmessage function.\n",
       "        ws.onmessage(msg['content']['data'])\n",
       "    });\n",
       "    return ws;\n",
       "}\n",
       "\n",
       "mpl.mpl_figure_comm = function(comm, msg) {\n",
       "    // This is the function which gets called when the mpl process\n",
       "    // starts-up an IPython Comm through the \"matplotlib\" channel.\n",
       "\n",
       "    var id = msg.content.data.id;\n",
       "    // Get hold of the div created by the display call when the Comm\n",
       "    // socket was opened in Python.\n",
       "    var element = $(\"#\" + id);\n",
       "    var ws_proxy = comm_websocket_adapter(comm)\n",
       "\n",
       "    function ondownload(figure, format) {\n",
       "        window.open(figure.imageObj.src);\n",
       "    }\n",
       "\n",
       "    var fig = new mpl.figure(id, ws_proxy,\n",
       "                           ondownload,\n",
       "                           element.get(0));\n",
       "\n",
       "    // Call onopen now - mpl needs it, as it is assuming we've passed it a real\n",
       "    // web socket which is closed, not our websocket->open comm proxy.\n",
       "    ws_proxy.onopen();\n",
       "\n",
       "    fig.parent_element = element.get(0);\n",
       "    fig.cell_info = mpl.find_output_cell(\"<div id='\" + id + \"'></div>\");\n",
       "    if (!fig.cell_info) {\n",
       "        console.error(\"Failed to find cell for figure\", id, fig);\n",
       "        return;\n",
       "    }\n",
       "\n",
       "    var output_index = fig.cell_info[2]\n",
       "    var cell = fig.cell_info[0];\n",
       "\n",
       "};\n",
       "\n",
       "mpl.figure.prototype.handle_close = function(fig, msg) {\n",
       "    var width = fig.canvas.width/mpl.ratio\n",
       "    fig.root.unbind('remove')\n",
       "\n",
       "    // Update the output cell to use the data from the current canvas.\n",
       "    fig.push_to_output();\n",
       "    var dataURL = fig.canvas.toDataURL();\n",
       "    // Re-enable the keyboard manager in IPython - without this line, in FF,\n",
       "    // the notebook keyboard shortcuts fail.\n",
       "    IPython.keyboard_manager.enable()\n",
       "    $(fig.parent_element).html('<img src=\"' + dataURL + '\" width=\"' + width + '\">');\n",
       "    fig.close_ws(fig, msg);\n",
       "}\n",
       "\n",
       "mpl.figure.prototype.close_ws = function(fig, msg){\n",
       "    fig.send_message('closing', msg);\n",
       "    // fig.ws.close()\n",
       "}\n",
       "\n",
       "mpl.figure.prototype.push_to_output = function(remove_interactive) {\n",
       "    // Turn the data on the canvas into data in the output cell.\n",
       "    var width = this.canvas.width/mpl.ratio\n",
       "    var dataURL = this.canvas.toDataURL();\n",
       "    this.cell_info[1]['text/html'] = '<img src=\"' + dataURL + '\" width=\"' + width + '\">';\n",
       "}\n",
       "\n",
       "mpl.figure.prototype.updated_canvas_event = function() {\n",
       "    // Tell IPython that the notebook contents must change.\n",
       "    IPython.notebook.set_dirty(true);\n",
       "    this.send_message(\"ack\", {});\n",
       "    var fig = this;\n",
       "    // Wait a second, then push the new image to the DOM so\n",
       "    // that it is saved nicely (might be nice to debounce this).\n",
       "    setTimeout(function () { fig.push_to_output() }, 1000);\n",
       "}\n",
       "\n",
       "mpl.figure.prototype._init_toolbar = function() {\n",
       "    var fig = this;\n",
       "\n",
       "    var nav_element = $('<div/>');\n",
       "    nav_element.attr('style', 'width: 100%');\n",
       "    this.root.append(nav_element);\n",
       "\n",
       "    // Define a callback function for later on.\n",
       "    function toolbar_event(event) {\n",
       "        return fig.toolbar_button_onclick(event['data']);\n",
       "    }\n",
       "    function toolbar_mouse_event(event) {\n",
       "        return fig.toolbar_button_onmouseover(event['data']);\n",
       "    }\n",
       "\n",
       "    for(var toolbar_ind in mpl.toolbar_items){\n",
       "        var name = mpl.toolbar_items[toolbar_ind][0];\n",
       "        var tooltip = mpl.toolbar_items[toolbar_ind][1];\n",
       "        var image = mpl.toolbar_items[toolbar_ind][2];\n",
       "        var method_name = mpl.toolbar_items[toolbar_ind][3];\n",
       "\n",
       "        if (!name) { continue; };\n",
       "\n",
       "        var button = $('<button class=\"btn btn-default\" href=\"#\" title=\"' + name + '\"><i class=\"fa ' + image + ' fa-lg\"></i></button>');\n",
       "        button.click(method_name, toolbar_event);\n",
       "        button.mouseover(tooltip, toolbar_mouse_event);\n",
       "        nav_element.append(button);\n",
       "    }\n",
       "\n",
       "    // Add the status bar.\n",
       "    var status_bar = $('<span class=\"mpl-message\" style=\"text-align:right; float: right;\"/>');\n",
       "    nav_element.append(status_bar);\n",
       "    this.message = status_bar[0];\n",
       "\n",
       "    // Add the close button to the window.\n",
       "    var buttongrp = $('<div class=\"btn-group inline pull-right\"></div>');\n",
       "    var button = $('<button class=\"btn btn-mini btn-primary\" href=\"#\" title=\"Stop Interaction\"><i class=\"fa fa-power-off icon-remove icon-large\"></i></button>');\n",
       "    button.click(function (evt) { fig.handle_close(fig, {}); } );\n",
       "    button.mouseover('Stop Interaction', toolbar_mouse_event);\n",
       "    buttongrp.append(button);\n",
       "    var titlebar = this.root.find($('.ui-dialog-titlebar'));\n",
       "    titlebar.prepend(buttongrp);\n",
       "}\n",
       "\n",
       "mpl.figure.prototype._root_extra_style = function(el){\n",
       "    var fig = this\n",
       "    el.on(\"remove\", function(){\n",
       "\tfig.close_ws(fig, {});\n",
       "    });\n",
       "}\n",
       "\n",
       "mpl.figure.prototype._canvas_extra_style = function(el){\n",
       "    // this is important to make the div 'focusable\n",
       "    el.attr('tabindex', 0)\n",
       "    // reach out to IPython and tell the keyboard manager to turn it's self\n",
       "    // off when our div gets focus\n",
       "\n",
       "    // location in version 3\n",
       "    if (IPython.notebook.keyboard_manager) {\n",
       "        IPython.notebook.keyboard_manager.register_events(el);\n",
       "    }\n",
       "    else {\n",
       "        // location in version 2\n",
       "        IPython.keyboard_manager.register_events(el);\n",
       "    }\n",
       "\n",
       "}\n",
       "\n",
       "mpl.figure.prototype._key_event_extra = function(event, name) {\n",
       "    var manager = IPython.notebook.keyboard_manager;\n",
       "    if (!manager)\n",
       "        manager = IPython.keyboard_manager;\n",
       "\n",
       "    // Check for shift+enter\n",
       "    if (event.shiftKey && event.which == 13) {\n",
       "        this.canvas_div.blur();\n",
       "        // select the cell after this one\n",
       "        var index = IPython.notebook.find_cell_index(this.cell_info[0]);\n",
       "        IPython.notebook.select(index + 1);\n",
       "    }\n",
       "}\n",
       "\n",
       "mpl.figure.prototype.handle_save = function(fig, msg) {\n",
       "    fig.ondownload(fig, null);\n",
       "}\n",
       "\n",
       "\n",
       "mpl.find_output_cell = function(html_output) {\n",
       "    // Return the cell and output element which can be found *uniquely* in the notebook.\n",
       "    // Note - this is a bit hacky, but it is done because the \"notebook_saving.Notebook\"\n",
       "    // IPython event is triggered only after the cells have been serialised, which for\n",
       "    // our purposes (turning an active figure into a static one), is too late.\n",
       "    var cells = IPython.notebook.get_cells();\n",
       "    var ncells = cells.length;\n",
       "    for (var i=0; i<ncells; i++) {\n",
       "        var cell = cells[i];\n",
       "        if (cell.cell_type === 'code'){\n",
       "            for (var j=0; j<cell.output_area.outputs.length; j++) {\n",
       "                var data = cell.output_area.outputs[j];\n",
       "                if (data.data) {\n",
       "                    // IPython >= 3 moved mimebundle to data attribute of output\n",
       "                    data = data.data;\n",
       "                }\n",
       "                if (data['text/html'] == html_output) {\n",
       "                    return [cell, data, j];\n",
       "                }\n",
       "            }\n",
       "        }\n",
       "    }\n",
       "}\n",
       "\n",
       "// Register the function which deals with the matplotlib target/channel.\n",
       "// The kernel may be null if the page has been refreshed.\n",
       "if (IPython.notebook.kernel != null) {\n",
       "    IPython.notebook.kernel.comm_manager.register_target('matplotlib', mpl.mpl_figure_comm);\n",
       "}\n"
      ],
      "text/plain": [
       "<IPython.core.display.Javascript object>"
      ]
     },
     "metadata": {},
     "output_type": "display_data"
    },
    {
     "data": {
      "text/html": [
       "<img src=\"data:image/png;base64,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\" width=\"1000\">"
      ],
      "text/plain": [
       "<IPython.core.display.HTML object>"
      ]
     },
     "metadata": {},
     "output_type": "display_data"
    }
   ],
   "source": [
    "dual_train_plots(results.index,\n",
    "                 results.cost, results.val,\n",
    "                 results.cost, results.val)\n",
    "plt.tight_layout()\n",
    "plt.savefig(str(output / f'{name}_stats_a.png'))"
   ]
  },
  {
   "cell_type": "code",
   "execution_count": 1,
   "metadata": {},
   "outputs": [],
   "source": [
    "##quit()"
   ]
  },
  {
   "cell_type": "code",
   "execution_count": null,
   "metadata": {},
   "outputs": [],
   "source": []
  },
  {
   "cell_type": "code",
   "execution_count": null,
   "metadata": {},
   "outputs": [],
   "source": []
  }
 ],
 "metadata": {
  "kernelspec": {
   "display_name": "june2020-gpu",
   "language": "python",
   "name": "june2020-gpu"
  },
  "language_info": {
   "codemirror_mode": {
    "name": "ipython",
    "version": 3
   },
   "file_extension": ".py",
   "mimetype": "text/x-python",
   "name": "python",
   "nbconvert_exporter": "python",
   "pygments_lexer": "ipython3",
   "version": "3.7.6"
  }
 },
 "nbformat": 4,
 "nbformat_minor": 2
}
