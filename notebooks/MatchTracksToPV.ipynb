{
 "cells": [
  {
   "cell_type": "markdown",
   "metadata": {},
   "source": [
    "# Use POCA Ellipsoid info to match Tracks to Primary Vertices\n",
    "_____\n",
    "The goal of this notebook is to attempt to match tracks to primary vertices using the mean and widths of the POCA error ellipsoids"
   ]
  },
  {
   "cell_type": "markdown",
   "metadata": {},
   "source": [
    "___\n",
    "<span style=\"color: blue;\">First, let's check to see which GPUs are currently being used:</span>"
   ]
  },
  {
   "cell_type": "code",
   "execution_count": 1,
   "metadata": {},
   "outputs": [
    {
     "name": "stdout",
     "output_type": "stream",
     "text": [
      "Tue Jun 15 14:48:33 2021       \n",
      "+-----------------------------------------------------------------------------+\n",
      "| NVIDIA-SMI 440.64.00    Driver Version: 440.64.00    CUDA Version: 10.2     |\n",
      "|-------------------------------+----------------------+----------------------+\n",
      "| GPU  Name        Persistence-M| Bus-Id        Disp.A | Volatile Uncorr. ECC |\n",
      "| Fan  Temp  Perf  Pwr:Usage/Cap|         Memory-Usage | GPU-Util  Compute M. |\n",
      "|===============================+======================+======================|\n",
      "|   0  TITAN V             Off  | 00000000:03:00.0 Off |                  N/A |\n",
      "| 30%   44C    P2    34W / 250W |   9497MiB / 12066MiB |      0%      Default |\n",
      "+-------------------------------+----------------------+----------------------+\n",
      "|   1  Tesla P100-PCIE...  Off  | 00000000:83:00.0 Off |                    0 |\n",
      "| N/A   40C    P0    28W / 250W |     10MiB / 16280MiB |      0%      Default |\n",
      "+-------------------------------+----------------------+----------------------+\n",
      "|   2  TITAN V             Off  | 00000000:84:00.0 Off |                  N/A |\n",
      "| 29%   44C    P8    27W / 250W |   9057MiB / 12066MiB |      0%      Default |\n",
      "+-------------------------------+----------------------+----------------------+\n",
      "                                                                               \n",
      "+-----------------------------------------------------------------------------+\n",
      "| Processes:                                                       GPU Memory |\n",
      "|  GPU       PID   Type   Process name                             Usage      |\n",
      "|=============================================================================|\n",
      "|    0      2304      C   ...a/conda/envs/goofit-june2020/bin/python  7105MiB |\n",
      "|    0     22986      C   python                                       595MiB |\n",
      "|    0     30887      C   python                                       595MiB |\n",
      "|    0     33443      C   python                                       595MiB |\n",
      "|    0     43923      C   python                                       595MiB |\n",
      "|    2     45798      C   ...a/conda/envs/goofit-june2020/bin/python  9045MiB |\n",
      "+-----------------------------------------------------------------------------+\n"
     ]
    }
   ],
   "source": [
    "!nvidia-smi"
   ]
  },
  {
   "cell_type": "markdown",
   "metadata": {},
   "source": [
    "___\n",
    "<span style=\"color: blue;\">Now, we can select which machine we want to use:</span>"
   ]
  },
  {
   "cell_type": "code",
   "execution_count": 3,
   "metadata": {},
   "outputs": [],
   "source": [
    "from model.training import select_gpu\n",
    "device = select_gpu(-1)"
   ]
  },
  {
   "cell_type": "markdown",
   "metadata": {},
   "source": [
    "___\n",
    "<span style=\"color: blue;\">Here, we import everything we need. The ellipsoid functions imported from model.plots_mdsA_200518 are originally from the Towards_Ellipsoids_*.ipynb notebooks. The model used in this notebook is the four-feature, 6-layer CNN.</span>"
   ]
  },
  {
   "cell_type": "code",
   "execution_count": 4,
   "metadata": {},
   "outputs": [],
   "source": [
    "#import libraries\n",
    "import matplotlib.pyplot as plt\n",
    "import matplotlib as mpl\n",
    "mpl.style.use('classic')\n",
    "import numpy as np\n",
    "import torch\n",
    "import h5py\n",
    "import math as m\n",
    "try:\n",
    "    import awkward0 as awkward\n",
    "except ModuleNotFoundError:\n",
    "    import awkward\n",
    "concatenate = awkward.concatenate\n",
    "from matplotlib.patches import Ellipse\n",
    "import sys\n",
    "from matplotlib.lines import Line2D\n",
    "from matplotlib.patches import Patch\n",
    "\n",
    "#local imports\n",
    "from model.models_mds_F import FourFeature_CNN6Layer_D as Model\n",
    "from model.collectdata_poca_KDE import collect_data_poca, collect_truth\n",
    "from model.plots_emk_200518 import gaussian, collect_poca, plot_ruiplot\n",
    "from model.efficiency_res_optimized import get_std_resolution\n",
    "from model.efficiency import pv_locations, efficiency\n",
    "from model.core import modernize"
   ]
  },
  {
   "cell_type": "markdown",
   "metadata": {},
   "source": [
    "___\n",
    "<span style=\"color: blue;\">Now, we load our validation dataset, using the method imported from model.collectdata_poca_KDE. The validation set is created in slices of 500. Masking is set to True, and shuffle is set to False in order to retain the order of events. The device is set to that which we previously specified.</span>"
   ]
  },
  {
   "cell_type": "code",
   "execution_count": 5,
   "metadata": {},
   "outputs": [
    {
     "name": "stdout",
     "output_type": "stream",
     "text": [
      "Loading data...\n",
      "Loaded /share/lazy/sokoloff/ML-data_AA/pv_HLT1CPU_MinBiasMagUp_14Nov.h5 in 17.93 s\n",
      "Constructing 1000 event dataset took 0.01288 s\n"
     ]
    }
   ],
   "source": [
    "#specify the path to the dataset (here, dataAA is a symlink to /share/lazy/sokoloff/ML-data_AA)\n",
    "#file = '/share/lazy/sokoloff/ML-data_AA/1K_POCA_HLT1CPU_poca_kernel_evts_201022.h5'\n",
    "file = '/share/lazy/sokoloff/ML-data_AA/pv_HLT1CPU_MinBiasMagUp_14Nov.h5'\n",
    "validation = collect_data_poca(file,\n",
    "                          batch_size=1,\n",
    "                          slice=slice(1000),\n",
    "                          masking=True, shuffle=False,\n",
    "                          device=device,\n",
    "                          load_XandXsq=True,\n",
    "                          load_xy=True)"
   ]
  },
  {
   "cell_type": "code",
   "execution_count": 6,
   "metadata": {},
   "outputs": [
    {
     "name": "stdout",
     "output_type": "stream",
     "text": [
      "<KeysViewHDF5 ['Xmax', 'Ymax', 'kernel', 'major_axis_x', 'major_axis_y', 'major_axis_z', 'minor_axis1_x', 'minor_axis1_y', 'minor_axis1_z', 'minor_axis2_x', 'minor_axis2_y', 'minor_axis2_z', 'poca_KDE_A', 'poca_KDE_A_xMax', 'poca_KDE_A_yMax', 'poca_KDE_B', 'poca_KDE_B_xMax', 'poca_KDE_B_yMax', 'poca_x', 'poca_y', 'poca_z', 'pv', 'pv_cat', 'pv_loc', 'pv_loc_x', 'pv_loc_y', 'pv_ntracks', 'pv_other', 'recon_tx', 'recon_ty', 'recon_x', 'recon_y', 'recon_z', 'sv', 'sv_cat', 'sv_loc', 'sv_loc_x', 'sv_loc_y', 'sv_ntracks', 'sv_other']>\n"
     ]
    }
   ],
   "source": [
    "pocas = collect_poca(file)"
   ]
  },
  {
   "cell_type": "markdown",
   "metadata": {},
   "source": [
    "___\n",
    "<span style=\"color: blue;\">Now we load the Xmax and Ymax arrays from the hdf5 file:</span>"
   ]
  },
  {
   "cell_type": "code",
   "execution_count": 6,
   "metadata": {},
   "outputs": [],
   "source": [
    "with h5py.File(file, mode='r') as XY:\n",
    "    #assign numpy arrays corresponding to xmax and ymax\n",
    "    xmax = np.asarray(XY['Xmax'])\n",
    "    ymax = np.asarray(XY['Ymax'])"
   ]
  },
  {
   "cell_type": "markdown",
   "metadata": {},
   "source": [
    "___\n",
    "<span style=\"color: blue;\">Now we collect the truth information from the hdf5 file corresponding to the primary vertices (pvs = True) and print some examples.</span>"
   ]
  },
  {
   "cell_type": "code",
   "execution_count": 7,
   "metadata": {},
   "outputs": [
    {
     "name": "stdout",
     "output_type": "stream",
     "text": [
      "Loaded /share/lazy/sokoloff/ML-data_AA/pv_HLT1CPU_MinBiasMagUp_14Nov.h5 in 0.02255 s\n",
      "PV.n.shape =     (51349,)\n",
      "PV.n[57].shape =  9\n",
      "PV.x[57] =        0.0273 -0.0092 0.0773 0.0203 0.004 -0.0198 0.014 -0.0213 -0.0003\n",
      "PV.y[57] =        0.043 -0.0092 -0.0256 0.01 -0.0131 0.0027 -0.0218 0.0193 -0.0104\n",
      "PV.z[57] =        -12.7585 37.5301 -62.4376 8.3657 76.444 -70.5117 -93.2232 21.7917 -43.4719\n",
      "PV.n[57] =        24 0 14 69 0 70 14 0 98\n",
      "PV.cat[57] =      1 -1 1 1 -1 1 1 -1 1\n"
     ]
    }
   ],
   "source": [
    "PV = collect_truth(file, pvs=True)\n",
    "ind = 57\n",
    "print('PV.n.shape =    ',  PV.n.shape)\n",
    "print(f'PV.n[{ind}].shape = ', *PV.n[ind].shape)\n",
    "print(f'PV.x[{ind}] =       ', *PV.x[ind])\n",
    "print(f'PV.y[{ind}] =       ', *PV.y[ind])\n",
    "print(f'PV.z[{ind}] =       ', *PV.z[ind])\n",
    "print(f'PV.n[{ind}] =       ', *PV.n[ind])\n",
    "print(f'PV.cat[{ind}] =     ', *PV.cat[ind])"
   ]
  },
  {
   "cell_type": "markdown",
   "metadata": {},
   "source": [
    "___\n",
    "<span style=\"color: blue;\">We repeat the process for secondary vertices:</span>"
   ]
  },
  {
   "cell_type": "code",
   "execution_count": 8,
   "metadata": {},
   "outputs": [
    {
     "name": "stdout",
     "output_type": "stream",
     "text": [
      "Loaded /share/lazy/sokoloff/ML-data_AA/pv_HLT1CPU_MinBiasMagUp_14Nov.h5 in 0.2017 s\n",
      "SV.n.shape =     (51349,)\n",
      "SV.n[57].shape =  191\n",
      "SV.x[57] =        0.0273 0.0273 0.0273 0.0273 0.0273 0.0273 0.0273 0.0686 0.0686 0.0273 0.0273 0.0273 0.0273 0.0273 0.0273 0.0773 0.0773 0.0773 0.0773 0.0773 0.0773 0.0773 0.0773 0.0203 0.0203 0.0203 0.0203 0.0203 0.0203 0.0203 0.0203 0.0203 0.0203 0.0203 0.0203 0.0203 0.0203 0.0203 0.0203 0.0203 0.0203 0.0203 0.0203 0.0203 0.0203 0.0203 0.0203 0.0203 0.0203 0.0203 0.0203 0.0203 0.0203 0.0203 0.0203 -0.0198 -0.0198 -0.0198 -0.0198 -0.0198 -0.0198 -0.0198 -0.0198 -0.0198 -0.0198 -0.0198 -0.0198 -0.0198 -0.0198 -0.0198 -0.0198 -0.0198 -0.0198 -0.0198 -0.0198 -0.0198 -0.0198 -0.0198 -0.0198 -0.0198 -0.0198 -0.0198 -0.0198 -0.0198 -0.0198 -0.0198 -0.0198 -0.0198 -0.0198 -0.0198 0.014 0.014 0.014 0.014 0.014 0.014 0.014 0.014 0.014 -0.0003 -0.0003 -0.0003 -0.0003 -0.7885 -0.0003 -0.0003 -0.0003 -0.0003 -0.0003 -0.0003 -0.0003 -0.0003 -0.0003 -0.0003 -0.0003 -0.0003 -0.0003 -0.0003 -0.0003 -0.0003 -0.0003 -0.0003 -0.0003 -0.0003 -0.0003 -0.0003 -0.0003 -0.0003 -0.0003 -0.0003 -0.0003 -0.0003 -0.0003 -0.0003 -0.0003 -0.0003 -0.0003 -0.0003 -0.0003 -0.0003 -0.0003 -0.0003 -0.0003 -0.0003 -0.0003 -0.0003 -0.0003 -0.0003 -0.0003 -0.0003 -0.0003 -0.0003 -0.0003 -0.0003 -17.3247 7.0987 -0.9039 -1.2496 9.153 -5.1017 -15.6237 -7.1218 -1.8467 -5.4869 -0.7773 -1.096 -0.7885 -3.4113 -8.1139 1.5544 -1.5762 -7.5764 -0.3369 1.8897 8.0038 12.508 5.5295 8.1066 3.0018 -1.6275 1.2685 -2.3517 5.4173 -0.6857 10.305 18.0559 5.1499 -31.2853 -0.0051 -9.4584 -6.1084\n",
      "SV.y[57] =        0.043 0.043 0.043 0.043 0.043 0.043 0.043 0.0151 0.0151 0.043 0.043 0.043 0.043 0.043 0.043 -0.0256 -0.0256 -0.0256 -0.0256 -0.0256 -0.0256 -0.0256 -0.0256 0.01 0.01 0.01 0.01 0.01 0.01 0.01 0.01 0.01 0.01 0.01 0.01 0.01 0.01 0.01 0.01 0.01 0.01 0.01 0.01 0.01 0.01 0.01 0.01 0.01 0.01 0.01 0.01 0.01 0.01 0.01 0.01 0.0027 0.0027 0.0027 0.0027 0.0027 0.0027 0.0027 0.0027 0.0027 0.0027 0.0027 0.0027 0.0027 0.0027 0.0027 0.0027 0.0027 0.0027 0.0027 0.0027 0.0027 0.0027 0.0027 0.0027 0.0027 0.0027 0.0027 0.0027 0.0027 0.0027 0.0027 0.0027 0.0027 0.0027 0.0027 -0.0218 -0.0218 -0.0218 -0.0218 -0.0218 -0.0218 -0.0218 -0.0218 -0.0218 -0.0104 -0.0104 -0.0104 -0.0104 -0.9818 -0.0104 -0.0104 -0.0104 -0.0104 -0.0104 -0.0104 -0.0104 -0.0104 -0.0104 -0.0104 -0.0104 -0.0104 -0.0104 -0.0104 -0.0104 -0.0104 -0.0104 -0.0104 -0.0104 -0.0104 -0.0104 -0.0104 -0.0104 -0.0104 -0.0104 -0.0104 -0.0104 -0.0104 -0.0104 -0.0104 -0.0104 -0.0104 -0.0104 -0.0104 -0.0104 -0.0104 -0.0104 -0.0104 -0.0104 -0.0104 -0.0104 -0.0104 -0.0104 -0.0104 -0.0104 -0.0104 -0.0104 -0.0104 -0.0104 -0.0104 22.9411 2.0056 -10.7572 -14.661 -13.978 2.8736 -3.9646 3.9389 25.611 -6.8044 -0.9661 -1.3529 -0.9818 -4.5259 0.0195 3.5881 1.5208 1.3764 -17.2002 -2.1065 -19.5673 -14.033 -5.7349 -5.9005 -5.157 12.0973 11.9052 -3.1681 1.1505 2.5525 -12.0798 -19.8258 -16.0391 -0.0274 0.0863 4.8139 -2.6387\n",
      "SV.z[57] =        -12.7585 -12.7585 -12.7585 -12.7585 -12.7585 -12.7585 -12.7585 -12.6152 -12.6152 -12.7585 -12.7585 -12.7585 -12.7585 -12.7585 -12.7585 -62.4376 -62.4376 -62.4376 -62.4376 -62.4376 -62.4376 -62.4376 -62.4376 8.3657 8.3657 8.3657 8.3657 8.3657 8.3657 8.3657 8.3657 8.3657 8.3657 8.3657 8.3657 8.3657 8.3657 8.3657 8.3657 8.3657 8.3657 8.3657 8.3657 8.3657 8.3657 8.3657 8.3657 8.3657 8.3657 8.3657 8.3657 8.3657 8.3657 8.3657 8.3657 -70.5117 -70.5117 -70.5117 -70.5117 -70.5117 -70.5117 -70.5117 -70.5117 -70.5117 -70.5117 -70.5117 -70.5117 -70.5117 -70.5117 -70.5117 -70.5117 -70.5117 -70.5117 -70.5117 -70.5117 -70.5117 -70.5117 -70.5117 -70.5117 -70.5117 -70.5117 -70.5117 -70.5117 -70.5117 -70.5117 -70.5117 -70.5117 -70.5117 -70.5117 -70.5117 -93.2232 -93.2232 -93.2232 -93.2232 -93.2232 -93.2232 -93.2232 -93.2232 -93.2232 -43.4719 -43.4719 -43.4719 -43.4719 -37.7552 -43.4719 -43.4719 -43.4719 -43.4719 -43.4719 -43.4719 -43.4719 -43.4719 -43.4719 -43.4719 -43.4719 -43.4719 -43.4719 -43.4719 -43.4719 -43.4719 -43.4719 -43.4719 -43.4719 -43.4719 -43.4719 -43.4719 -43.4719 -43.4719 -43.4719 -43.4719 -43.4719 -43.4719 -43.4719 -43.4719 -43.4719 -43.4719 -43.4719 -43.4719 -43.4719 -43.4719 -43.4719 -43.4719 -43.4719 -43.4719 -43.4719 -43.4719 -43.4719 -43.4719 -43.4719 -43.4719 -43.4719 -43.4719 -43.4719 -43.4719 491.4588 199.4636 217.1426 312.4677 504.0415 -215.635 88.1026 -133.212 49.716 7.0158 -37.8266 -35.2107 -37.7552 -15.6271 188.0455 173.5605 107.5141 -155.3789 112.2623 -57.5545 -232.8985 28.3957 467.5448 540.1992 275.4415 124.5031 24.3393 135.9601 -7.4497 156.519 376.4082 622.8237 39.8799 686.8924 -12.6543 -150.6006 -29.404\n",
      "SV.n[57] =        2 2 1 1 1 1 5 1 1 2 1 1 1 1 1 2 1 2 1 1 1 1 1 1 2 2 2 1 2 1 1 2 1 1 1 2 2 2 1 2 1 1 1 1 2 1 1 1 2 1 2 1 1 1 1 1 2 1 1 1 1 1 1 2 2 1 1 1 2 1 1 1 1 2 1 1 2 1 1 2 2 2 1 1 2 1 2 1 1 1 1 1 1 1 1 1 1 1 2 1 1 1 1 2 2 1 2 2 2 1 1 1 1 1 2 2 2 1 1 1 2 2 1 1 1 1 1 1 2 1 2 2 1 2 2 1 1 1 1 2 1 1 1 1 2 1 2 1 1 1 2 1 2 1 2 2 2 1 1 2 1 2 2 3 1 3 1 2 2 2 2 2 2 2 1 1 1 2 2 2 1 2 1 2 2 1 2 1 1 2 1\n",
      "SV.cat[57] =      1 1 0 0 0 0 1 0 0 1 0 0 0 0 0 1 0 1 0 0 0 0 0 0 1 1 1 0 1 0 0 1 0 0 0 1 1 1 0 1 0 0 0 0 1 0 0 0 1 0 1 0 0 0 0 0 1 0 0 0 0 0 0 1 1 0 0 0 1 0 0 0 0 1 0 0 1 0 0 1 1 1 0 0 1 0 1 0 0 0 0 0 0 0 0 0 0 0 1 0 0 0 0 1 1 0 1 1 1 0 0 0 0 0 1 1 1 0 0 0 1 1 0 0 0 0 0 0 1 0 1 1 0 1 1 0 0 0 0 1 0 0 0 0 1 0 1 0 0 0 1 0 1 0 1 1 1 0 0 1 0 1 1 1 0 1 0 1 1 1 1 1 1 1 0 0 0 1 1 1 0 1 0 1 1 0 1 0 0 1 0\n"
     ]
    }
   ],
   "source": [
    "SV = collect_truth(file, pvs=False)\n",
    "ind = 57\n",
    "print('SV.n.shape =    ', SV.n.shape)\n",
    "print(f'SV.n[{ind}].shape = ', *SV.n[ind].shape)\n",
    "print(f'SV.x[{ind}] =       ', *SV.x[ind])\n",
    "print(f'SV.y[{ind}] =       ', *SV.y[ind])\n",
    "print(f'SV.z[{ind}] =       ', *SV.z[ind])\n",
    "print(f'SV.n[{ind}] =       ', *SV.n[ind])\n",
    "print(f'SV.cat[{ind}] =     ', *SV.cat[ind])"
   ]
  },
  {
   "cell_type": "markdown",
   "metadata": {},
   "source": [
    "___\n",
    "<span style=\"color: blue;\">Now we need to load the model:</span>"
   ]
  },
  {
   "cell_type": "code",
   "execution_count": 13,
   "metadata": {},
   "outputs": [
    {
     "data": {
      "text/plain": [
       "FourFeature_CNN6Layer_D(\n",
       "  (conv1): Conv1d(2, 25, kernel_size=(25,), stride=(1,), padding=(12,))\n",
       "  (conv2): Conv1d(25, 25, kernel_size=(15,), stride=(1,), padding=(7,))\n",
       "  (conv3): Conv1d(25, 25, kernel_size=(15,), stride=(1,), padding=(7,))\n",
       "  (conv4of6): Conv1d(25, 25, kernel_size=(15,), stride=(1,), padding=(7,))\n",
       "  (conv5of6): Conv1d(25, 1, kernel_size=(5,), stride=(1,), padding=(2,))\n",
       "  (finalFilter): Conv1d(1, 1, kernel_size=(91,), stride=(1,), padding=(45,))\n",
       "  (ppConv1): Conv1d(2, 10, kernel_size=(25,), stride=(1,), padding=(12,))\n",
       "  (ppConv2): Conv1d(10, 5, kernel_size=(15,), stride=(1,), padding=(7,))\n",
       "  (ppConv3): Conv1d(5, 1, kernel_size=(5,), stride=(1,), padding=(2,))\n",
       "  (ppFc1): Linear(in_features=4000, out_features=4000, bias=True)\n",
       "  (ppFinalFilter): Conv1d(1, 1, kernel_size=(91,), stride=(1,), padding=(45,))\n",
       "  (conv1dropout): Dropout(p=0.15, inplace=False)\n",
       "  (conv2dropout): Dropout(p=0.15, inplace=False)\n",
       "  (conv3dropout): Dropout(p=0.15, inplace=False)\n",
       "  (conv4dropout): Dropout(p=0.15, inplace=False)\n",
       "  (conv5dropout): Dropout(p=0.15, inplace=False)\n",
       ")"
      ]
     },
     "execution_count": 13,
     "metadata": {},
     "output_type": "execute_result"
    }
   ],
   "source": [
    "#specify name of trained model\n",
    "name = '/share/lazy/sokoloff/ML/Aug16_FourFeature_CNN6LayerPlus_TargetsAA_YetAnother100epochs_160K_lr_1em4_bs128_Alt_Loss_A_4p5/Aug16_FourFeature_CNN6LayerPlus_TargetsAA_YetAnother100epochs_160K_lr_1em4_bs128_Alt_Loss_A_4p5_final.pyt'\n",
    "model = Model().to(device)\n",
    "d = torch.load(name, map_location=torch.device('cpu'))\n",
    "d = modernize(d, 3)\n",
    "\n",
    "#load and evaluate model\n",
    "model.load_state_dict(d)\n",
    "model.eval()"
   ]
  },
  {
   "cell_type": "markdown",
   "metadata": {},
   "source": [
    "___\n",
    "<span style=\"color: blue;\">Create numpy arrays corresponding to the outputs and labels of the model:</span>"
   ]
  },
  {
   "cell_type": "code",
   "execution_count": 14,
   "metadata": {},
   "outputs": [],
   "source": [
    "with torch.no_grad():\n",
    "    outputs = model(validation.dataset.tensors[0]).cpu().numpy()\n",
    "    labels = validation.dataset.tensors[1].cpu().numpy()"
   ]
  },
  {
   "cell_type": "markdown",
   "metadata": {},
   "source": [
    "___\n",
    "<span style=\"color: blue;\">Create numpy array corresponding to the test dataset:</span>"
   ]
  },
  {
   "cell_type": "code",
   "execution_count": 15,
   "metadata": {},
   "outputs": [
    {
     "name": "stdout",
     "output_type": "stream",
     "text": [
      "test.shape =  (1000, 4, 4000)\n"
     ]
    }
   ],
   "source": [
    "test = validation.dataset.tensors[0].cpu().numpy()\n",
    "print('test.shape = ',test.shape)"
   ]
  },
  {
   "cell_type": "code",
   "execution_count": 16,
   "metadata": {},
   "outputs": [
    {
     "name": "stdout",
     "output_type": "stream",
     "text": [
      "[-0.0396  0.0155  0.0043 -0.0027  0.0548  0.0204 -0.0377 -0.0384 -0.0188\n",
      "  0.0136 -0.0047]\n",
      "[ 0.0095 -0.0427  0.005  -0.0105 -0.0134  0.0126  0.07   -0.0068  0.0239\n",
      " -0.0223 -0.0323]\n"
     ]
    }
   ],
   "source": [
    "print(PV.x[0])\n",
    "print(PV.y[0])"
   ]
  },
  {
   "cell_type": "markdown",
   "metadata": {},
   "source": [
    "___\n",
    "<span style=\"color: blue;\">Finally, we can create our plots:</span>"
   ]
  },
  {
   "cell_type": "code",
   "execution_count": 29,
   "metadata": {
    "scrolled": true
   },
   "outputs": [
    {
     "data": {
      "image/png": "[encoded data removed]",
      "text/plain": [
       "<Figure size 640x480 with 1 Axes>"
      ]
     },
     "metadata": {},
     "output_type": "display_data"
    }
   ],
   "source": [
    "inputs = validation.dataset.tensors[0].cpu().numpy()[:,0,:]\n",
    "zvals = np.linspace(-100, 300, 4000, endpoint=False) + 0.05\n",
    "finalmsg = ''\n",
    "internal_count = 0\n",
    "output_filename = None # Or set: '120000_3layer_{number:02}.pdf'\n",
    "\n",
    "min_z_vals = []\n",
    "max_z_vals = []\n",
    "\n",
    "ratios = np.zeros(test.shape[0])\n",
    "stds = []\n",
    "deltazmin_matched = []\n",
    "deltazmin_unmatched = []\n",
    "\n",
    "PV_colors = ['brown','red','orangered','orange','gold','olive','lawngreen','green',\n",
    "             'springgreen','turquoise','cyan','deepskyblue','dodgerblue','navy','blue',\n",
    "            'indigo','darkviolet','purple','magenta','deeppink']\n",
    "\n",
    "for event in range(test.shape[0]):\n",
    "    \n",
    "    #assign current input, label, and output for event\n",
    "    input = inputs[event]\n",
    "    label = labels[event]\n",
    "    output = outputs[event]\n",
    "    \n",
    "    plt.plot(np.arange(0,len(label),1),label)\n",
    "    plt.plot(np.arange(0,len(output),1),output)\n",
    "    plt.show()\n",
    "    break\n",
    "    \n",
    "    # Consistent parameters for the calls below\n",
    "    parameters = {\n",
    "        \"threshold\": 1e-2,\n",
    "        \"integral_threshold\": .2,\n",
    "        \"min_width\": 3\n",
    "    }\n",
    "    \n",
    "    # Compute the \"actual\" efficencies and things\n",
    "    ftruth = pv_locations(label, **parameters)\n",
    "    fcomputed = pv_locations(output, **parameters)\n",
    "    results = efficiency(label, output, difference=5.0, **parameters)\n",
    "    \n",
    "    \n",
    "    # Add a line to the final results string (print at end)\n",
    "    #finalmsg += f\"Event {event}: {results}\\n\"\n",
    "    \n",
    "    # Make sure bin numbers are integers\n",
    "    truth = np.around(ftruth).astype(np.int32)\n",
    "    computed = np.around(fcomputed).astype(np.int32)\n",
    "    \n",
    "    # Join arrays and remove any points closer than 5 bins\n",
    "    # We plot over these \"points of interest\"\n",
    "    #poi = np.sort(np.concatenate([truth, computed]))\n",
    "    #poi = poi[np.concatenate([[True], np.fabs(np.diff(poi)) > 5])]\n",
    "    \n",
    "    print(f\"\\nEvent {event}:\", results)\n",
    "    \n",
    "    #grab means of predicted PVs\n",
    "    comp_centroids = (fcomputed / 10) - 100\n",
    "    \n",
    "    #find standard deviations of predicted PVs\n",
    "    std = get_std_resolution(fcomputed, output, 3.5, 0.001, 20, 0)\n",
    "    std = std/10\n",
    "    #stds.append(std.tolist())\n",
    "    \n",
    "    n_matched = 0\n",
    "    \n",
    "    maxy = 0\n",
    "    \n",
    "    matches = {}\n",
    "    for i in range(len(comp_centroids)):\n",
    "        matches[i] = []\n",
    "    \n",
    "    minmatched = sys.float_info.max\n",
    "    minunmatched = sys.float_info.max\n",
    "    \n",
    "    heights = np.zeros(len(pocas[\"z\"][\"poca\"][event]))\n",
    "    \n",
    "    for j in range(len(pocas[\"z\"][\"poca\"][event])):\n",
    "        current_gauss = gaussian(zvals, pocas[\"z\"][\"poca\"][event][j], pocas[\"z\"][\"major_axis\"][event][j])\n",
    "        heights[j] = max(current_gauss)\n",
    "        if maxy<max(current_gauss):\n",
    "            maxy = max(current_gauss)\n",
    "        if not len(comp_centroids)==0:\n",
    "            diff = np.abs(np.add(comp_centroids, -pocas[\"z\"][\"poca\"][event][j]))\n",
    "            minimum = diff.min()\n",
    "            ind = np.where(diff == minimum)[0][0]\n",
    "            std_mod = np.sqrt(pocas[\"z\"][\"major_axis\"][event][j]**2 + std[ind]**2)\n",
    "            stds.append(std_mod)\n",
    "            if minimum <= 5*std_mod:\n",
    "                plt.plot(zvals, current_gauss, color = PV_colors[ind])\n",
    "                n_matched += 1\n",
    "                matches[ind].append(j)\n",
    "                if minimum <= minmatched:\n",
    "                    minmatched = minimum\n",
    "            else:\n",
    "                plt.plot(zvals, current_gauss, color = 'k')\n",
    "                if minimum <= minunmatched:\n",
    "                    minunmatched = minimum\n",
    "        else:\n",
    "            plt.plot(zvals, current_gauss, color = 'k')\n",
    "    \n",
    "    print(\"Percentage Matched = \", 100*n_matched/len(pocas[\"z\"][\"poca\"][event]), \"%\")\n",
    "    \n",
    "    ratios[event] = n_matched/len(pocas[\"z\"][\"poca\"][event])\n",
    "    deltazmin_matched.append(minmatched)\n",
    "    deltazmin_unmatched.append(minunmatched)\n",
    "    \n",
    "    for j in range(len(comp_centroids)):\n",
    "        plt.plot(comp_centroids[j], np.ones_like(comp_centroids[j])*.4, 'o', color= PV_colors[j], markeredgecolor = 'k')\n",
    "\n",
    "    plt.xlim([zvals[0],zvals[-1]])\n",
    "    plt.ylim([0,1.2*maxy])\n",
    "    plt.show()\n",
    "    \n",
    "    x_guesses = np.zeros(len(comp_centroids))\n",
    "    y_guesses = np.zeros(len(comp_centroids))\n",
    "    for i in matches:\n",
    "        x_guesses[i] = np.average([pocas[\"x\"][\"poca\"][event][j] for j in matches[i]], \n",
    "                                  weights = [heights[j] for j in matches[i]])\n",
    "        y_guesses[i] = np.average([pocas[\"y\"][\"poca\"][event][j] for j in matches[i]], \n",
    "                                  weights = [heights[j] for j in matches[i]])\n",
    "    \n",
    "    true_z_values = pv_locations(label, , integral_threshold, min_width)\n",
    "    \n",
    "    plt.plot(x_guesses, y_guesses, 'o', color = 'g', label = \"from POCA\")\n",
    "    plt.plot(PV.x[event], PV.y[event], 'o', color = 'b', label = \"truth\")\n",
    "    plt.legend()\n",
    "    title = f\"\\nEvent {event}:\" + str(results)\n",
    "    plt.title(title)\n",
    "    plt.xlabel('x')\n",
    "    plt.ylabel('y')\n",
    "    plt.show()\n",
    "            \n",
    "    print(PV.x[event])\n",
    "    print(PV.y[event])\n",
    "    print(PV.z[event])\n",
    "\n"
   ]
  },
  {
   "cell_type": "code",
   "execution_count": 17,
   "metadata": {},
   "outputs": [
    {
     "data": {
      "image/png": "[encoded data removed]",
      "text/plain": [
       "<Figure size 640x480 with 1 Axes>"
      ]
     },
     "metadata": {},
     "output_type": "display_data"
    },
    {
     "data": {
      "image/png": "[encoded data removed]",
      "text/plain": [
       "<Figure size 640x480 with 1 Axes>"
      ]
     },
     "metadata": {},
     "output_type": "display_data"
    },
    {
     "data": {
      "image/png": "[encoded data removed]",
      "text/plain": [
       "<Figure size 640x480 with 1 Axes>"
      ]
     },
     "metadata": {},
     "output_type": "display_data"
    },
    {
     "data": {
      "image/png": "[encoded data removed]",
      "text/plain": [
       "<Figure size 640x480 with 1 Axes>"
      ]
     },
     "metadata": {},
     "output_type": "display_data"
    }
   ],
   "source": [
    "plt.hist(ratios, bins=50)\n",
    "plt.title(\"Ratio of Matched Tracks/Total\")\n",
    "plt.show()\n",
    "\n",
    "sbins = np.arange(0.01,10.01,0.1)\n",
    "plt.hist(5*stds, bins=sbins)\n",
    "plt.title(\"Values of 5$\\sigma$\")\n",
    "plt.show()\n",
    "\n",
    "plt.hist(deltazmin_matched, bins=50, range=[0,0.05])\n",
    "plt.title(\"$\\Delta z$ min for matched tracks\")\n",
    "plt.show()\n",
    "\n",
    "plt.hist(deltazmin_unmatched, bins=50, range=[0,10])\n",
    "plt.title(\"$\\Delta z$ min for unmatched tracks\")\n",
    "plt.show()"
   ]
  },
  {
   "cell_type": "code",
   "execution_count": 15,
   "metadata": {},
   "outputs": [
    {
     "name": "stdout",
     "output_type": "stream",
     "text": [
      "[2.0236856931834684, 11.24487746740432, 30.767137315768913, 12.250662519760118, 6.157966526713522, 13.340508198465345, 17.663174937634505, 6.863405266227667, 4.889384479341581, 6.399411549390722, 6.047369176003828, 5.177657918310718, 6.648726751728273, 3.6670764828302533, 2.6830819338562764, 2.592305737571479, 3.5211436550802806, 2.3206288342259613, 3.5071229019967234, 5.370287467527858, 3.434886010418169, 2.6602874017325884, 3.761138948479269, 2.994910357668972, 1.9881623125347554, 1.3724733988907807, 2.5045326835720774, 2.29570358292586, 2.426266098450687, 2.8779150136067297, 0.6785412066866343, 1.549857103368402, 5.433702214034025, 1.6855203954297153, 2.234765244711497, 2.223146348140721, 1.2533305064839626, 2.376045006417435, 2.289669978884936, 1.72786799843498, 2.613199115711013, 1.3153639864133084, 0.47008163725623076, 0.5525724810618219, 0.6760134045646573, 4.21843898969524, 1.3550844467224605, 2.1115246471184177, 1.0792778003443728, 1.4039110057105697, 1.1933367870805007, 1.4558653803673962, 1.7839919545292227, 1.517155323773135, 1.48057700196797, 0.9688507128685261, 1.4069079447806692, 0.7822416486697082, 2.036925455899754, 1.206088604222261, 1.3959990790970098, 0.7359180007223743, 0.5900161139985418, 0.6191590245375539, 0.5154188968518814, 1.0303659687383468, 1.1383294908390134, 0.9231396019447836, 1.130259029884615, 1.195160871032522, 1.0815227857815861, 1.13521678113593, 1.0274813943500356, 0.928401234237107, 0.5203252128161713, 0.44234068699756074, 0.49031792500620197, 0.46481271359039256, 0.44413431259161523, 0.4688983173983983, 0.40818541431550576, 0.7418369476972487, 0.42758076680155827, 1.0282176942733345, 1.0228917775584678, 0.7674200489830623, 0.9001706152927893, 0.9411687539985413, 0.81429290246508, 0.8594074515087053, 0.7791731572555883, 0.6714924257107286, 1.009990351134646, 0.3747613586572513, 0.3742016657143356, 0.9939754588050664, 0.38601051040981904, 0.33263208713128234, 0.33802806745037683, 0.44692544714580545]\n"
     ]
    }
   ],
   "source": [
    "print(stds[0:100])"
   ]
  },
  {
   "cell_type": "code",
   "execution_count": null,
   "metadata": {},
   "outputs": [],
   "source": []
  }
 ],
 "metadata": {
  "kernelspec": {
   "display_name": "Python 3",
   "language": "python",
   "name": "python3"
  },
  "language_info": {
   "codemirror_mode": {
    "name": "ipython",
    "version": 3
   },
   "file_extension": ".py",
   "mimetype": "text/x-python",
   "name": "python",
   "nbconvert_exporter": "python",
   "pygments_lexer": "ipython3",
   "version": "3.8.10"
  }
 },
 "nbformat": 4,
 "nbformat_minor": 4
}
