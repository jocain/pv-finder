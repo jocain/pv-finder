{
 "cells": [
  {
   "cell_type": "code",
   "execution_count": 1,
   "metadata": {},
   "outputs": [],
   "source": [
    "##%matplotlib widget\n",
    "## with %matplotlib notebook: seems to require ipympl as part of environment, either\n",
    "## part of the conda environment or \"pip install ipympl\"\n",
    "## otherwise, does not show ANY plots in notebook, plt.savefig() works\n",
    "%matplotlib notebook  \n",
    "##%matplotlib inline    ## --plt.savefig()  works, but re-sizing does NOT\n"
   ]
  },
  {
   "cell_type": "markdown",
   "metadata": {},
   "source": [
    "This notebook is a first attempt to read in track information and use it to predict the the full target histrograms.\n",
    "\n",
    "It will read in the TracksToDKE__Ellipsoids_DDPlus model to predict the KDE, and then feed it into a SimpleCNN model to predict the target histograms.  Initially, it will use previously trained weights.\n"
   ]
  },
  {
   "cell_type": "markdown",
   "metadata": {},
   "source": [
    "Check the current GPU usage. Please try to be nice!"
   ]
  },
  {
   "cell_type": "code",
   "execution_count": 2,
   "metadata": {},
   "outputs": [
    {
     "name": "stdout",
     "output_type": "stream",
     "text": [
      "Tue Dec 29 08:04:13 2020       \r\n",
      "+-----------------------------------------------------------------------------+\r\n",
      "| NVIDIA-SMI 450.36.06    Driver Version: 450.36.06    CUDA Version: 11.0     |\r\n",
      "|-------------------------------+----------------------+----------------------+\r\n",
      "| GPU  Name        Persistence-M| Bus-Id        Disp.A | Volatile Uncorr. ECC |\r\n",
      "| Fan  Temp  Perf  Pwr:Usage/Cap|         Memory-Usage | GPU-Util  Compute M. |\r\n",
      "|                               |                      |               MIG M. |\r\n",
      "|===============================+======================+======================|\r\n",
      "|   0  GeForce RTX 208...  On   | 00000000:18:00.0 Off |                  N/A |\r\n",
      "| 29%   40C    P8    40W / 250W |    891MiB / 11019MiB |      0%      Default |\r\n",
      "|                               |                      |                  N/A |\r\n",
      "+-------------------------------+----------------------+----------------------+\r\n",
      "|   1  GeForce RTX 208...  On   | 00000000:3B:00.0 Off |                  N/A |\r\n",
      "| 29%   40C    P8    39W / 250W |     64MiB / 11019MiB |      0%      Default |\r\n",
      "|                               |                      |                  N/A |\r\n",
      "+-------------------------------+----------------------+----------------------+\r\n",
      "                                                                               \r\n",
      "+-----------------------------------------------------------------------------+\r\n",
      "| Processes:                                                                  |\r\n",
      "|  GPU   GI   CI        PID   Type   Process name                  GPU Memory |\r\n",
      "|        ID   ID                                                   Usage      |\r\n",
      "|=============================================================================|\r\n",
      "|    0   N/A  N/A     50808      C   ...s/june2020-gpu/bin/python      887MiB |\r\n",
      "|    1   N/A  N/A      3736      G   /usr/bin/X                         33MiB |\r\n",
      "|    1   N/A  N/A      3790      G   /usr/bin/gnome-shell               25MiB |\r\n",
      "+-----------------------------------------------------------------------------+\r\n"
     ]
    }
   ],
   "source": [
    "!nvidia-smi"
   ]
  },
  {
   "cell_type": "markdown",
   "metadata": {},
   "source": [
    "> **WARNING**: The card numbers here are *not* the same as in CUDA. You have been warned."
   ]
  },
  {
   "cell_type": "markdown",
   "metadata": {},
   "source": [
    "## Imports"
   ]
  },
  {
   "cell_type": "code",
   "execution_count": 3,
   "metadata": {},
   "outputs": [],
   "source": [
    "import matplotlib.pyplot as plt\n",
    "import numpy as np\n",
    "import time\n",
    "import torch\n",
    "import pandas as pd\n",
    "\n",
    "# Python 3 standard library\n",
    "from pathlib import Path\n",
    "\n",
    "from model.efficiency import pv_locations, efficiency\n",
    "\n",
    "##from torchsummary import summary"
   ]
  },
  {
   "cell_type": "markdown",
   "metadata": {},
   "source": [
    "### Set up local parameters"
   ]
  },
  {
   "cell_type": "code",
   "execution_count": 4,
   "metadata": {},
   "outputs": [],
   "source": [
    "n_epochs = 100\n",
    "\n",
    "# Name is the output file name\n",
    "\n",
    "\n",
    "##  200719  mds\n",
    "##folder = '20December_Tracks_to_KDE_TestTrainedModel'\n",
    "##folder = '22December_testing_DDplus_loss_Bb_iter2_floatAll_100epochs_3em6'\n",
    "folder = '29December_Tracks_to_Hists_First_Iteration_10epochs_lr_1em7_2p5_kde2hists_allFloat'\n",
    "name = folder\n",
    "\n",
    "# Make an output folder named \"name\" (change if you want)\n",
    "\n",
    "## Special instructions for those working on goofy at UC\n",
    "## Please be very careful to make sure that your folder\n",
    "## does not live in a subdirectory of your home directory\n",
    "## this disk has very little capacity. Instead, use \n",
    "## a subdirectory in /share/lazy with a symbolic link to\n",
    "## it in this (the notebooks) subdirectory\n",
    "folder = 'ML/' + folder\n",
    "output = Path(folder)\n",
    "\n",
    "\n",
    "# Size of batches\n",
    "batch_size = 16\n",
    "# How fast to learn\n",
    "learning_rate = 1e-7"
   ]
  },
  {
   "cell_type": "markdown",
   "metadata": {},
   "source": [
    "Make the output directory if it does not exist:"
   ]
  },
  {
   "cell_type": "code",
   "execution_count": 5,
   "metadata": {},
   "outputs": [],
   "source": [
    "output.mkdir(exist_ok=True)"
   ]
  },
  {
   "cell_type": "markdown",
   "metadata": {},
   "source": [
    "## Get the helper functions\n",
    "\n",
    "Add the directory with the model\n",
    "definitions to the path so we can import from it:\n",
    "\n",
    "> When you type `import X`,\n",
    "Python searches `sys.path` for a python\n",
    "file named `X.py` to import. So we need to add the model directory to the path."
   ]
  },
  {
   "cell_type": "code",
   "execution_count": 6,
   "metadata": {
    "scrolled": true
   },
   "outputs": [],
   "source": [
    "# From model/collectdata.py\n",
    "##from model.collectdata_kde_Ellipsoids import collect_t2kde_data\n",
    "from model.collectdata_t2hists import collect_t2hists_data\n",
    "from model.collectdata_mdsA  import collect_truth\n",
    "\n",
    "# From model/loss.py\n",
    "##from loss import Loss\n",
    "##from model.kde_loss_D import Loss\n",
    "## from model.kde_loss_B import Loss  ## Tracks_to_KDE loss, not for target hists\n",
    "\n",
    "##  \"standard\" ratios loss for hists training\n",
    "from model.alt_loss_A import Loss  ## loss used to train RunModel_Demo_28November2020-SimpleCNNLayer_Ca-Restart_5\n",
    "\n",
    "\n",
    "##from model.models_kde import TracksToKDE_Ellipsoids_DirtyDozen as Model\n",
    "from model.models_kde import TracksToKDE_Ellipsoids_DDplus as t2kde_model\n",
    "##from model.models_mds_G import SimpleCNN5Layer_Ca as kde2hists_model\n",
    "from model.models_mds_28Dec20 import SimpleCNN5Layer_Ca as kde2hists_model  ## copy of models_mds_01June20 for debugging\n",
    "from model.models_t2hists import TracksToHists_A as t2hists_model\n",
    "\n",
    "\n",
    "##from model.training_kde import trainNet, select_gpu, Results\n",
    "from model.training import trainNet, select_gpu, Results\n",
    "from model.plots import dual_train_plots, replace_in_ax"
   ]
  },
  {
   "cell_type": "code",
   "execution_count": 7,
   "metadata": {},
   "outputs": [],
   "source": [
    "# This gets built up during the run - do not rerun this cell\n",
    "results = pd.DataFrame([], columns=Results._fields)"
   ]
  },
  {
   "cell_type": "markdown",
   "metadata": {},
   "source": [
    "Set up Torch device configuration. All tensors and model parameters need to know where to be put.\n",
    "This takes a BUS ID number: The BUS ID is the same as the listing at the top of this script."
   ]
  },
  {
   "cell_type": "code",
   "execution_count": 8,
   "metadata": {},
   "outputs": [
    {
     "name": "stdout",
     "output_type": "stream",
     "text": [
      "1 available GPUs (initially using device 0):\n",
      "  0 GeForce RTX 2080 Ti\n"
     ]
    }
   ],
   "source": [
    "device = select_gpu(0)\n",
    "##device = \"cpu\""
   ]
  },
  {
   "cell_type": "markdown",
   "metadata": {},
   "source": [
    "## Loading data\n",
    "\n",
    "Load the dataset, split into parts, then move to device (see `collectdata.py` in the `../model` directory)"
   ]
  },
  {
   "cell_type": "code",
   "execution_count": 9,
   "metadata": {
    "scrolled": false
   },
   "outputs": [
    {
     "name": "stdout",
     "output_type": "stream",
     "text": [
      "Loading data...\n",
      "pocaMx.shape =  (20000,)\n",
      "nEvts =  20000\n",
      "len(pocaMx[0]) =  211\n",
      "len(pocaMx[1]) =  21\n",
      "len(pocaMx[2]) =  20\n",
      "len(pocaMx[3]) =  198\n",
      "len(pocaMx[4]) =  233\n",
      "have entered six_ellipsoid_parameters\n",
      "  \n",
      " \n",
      "  nEvts =  20000\n",
      " iEvt, nTrks =  0 211\n",
      " iEvt, nTrks =  1 21\n",
      " iEvt, nTrks =  2 20\n",
      " iEvt, nTrks =  3 198\n",
      " iEvt, nTrks =  4 233\n",
      " iEvt, nTrks =  5 85\n",
      " iEvt, nTrks =  6 223\n",
      " iEvt, nTrks =  7 425\n",
      " iEvt, nTrks =  8 252\n",
      " iEvt, nTrks =  9 169\n",
      "len(X) =  20000\n",
      "len(Xlist) =  1\n",
      "Loaded dataAA/20K_POCA_kernel_evts_200926.h5 in 27.49 s\n",
      "outer loop X.shape =  (20000, 9, 600)\n",
      "Constructing 18000 event dataset took 0.2753 s\n",
      "x_t.shape =  torch.Size([18000, 9, 600])\n",
      "x_t.shape[0] =  18000\n",
      "x_t.shape[1] =  9\n",
      "x_t.shape =  torch.Size([18000, 9, 600])\n",
      "Loading data...\n",
      "pocaMx.shape =  (20000,)\n",
      "nEvts =  20000\n",
      "len(pocaMx[0]) =  211\n",
      "len(pocaMx[1]) =  21\n",
      "len(pocaMx[2]) =  20\n",
      "len(pocaMx[3]) =  198\n",
      "len(pocaMx[4]) =  233\n",
      "have entered six_ellipsoid_parameters\n",
      "  \n",
      " \n",
      "  nEvts =  20000\n",
      " iEvt, nTrks =  0 211\n",
      " iEvt, nTrks =  1 21\n",
      " iEvt, nTrks =  2 20\n",
      " iEvt, nTrks =  3 198\n",
      " iEvt, nTrks =  4 233\n",
      " iEvt, nTrks =  5 85\n",
      " iEvt, nTrks =  6 223\n",
      " iEvt, nTrks =  7 425\n",
      " iEvt, nTrks =  8 252\n",
      " iEvt, nTrks =  9 169\n",
      "len(X) =  20000\n",
      "len(Xlist) =  1\n",
      "Loaded dataAA/20K_POCA_kernel_evts_200926.h5 in 26.72 s\n",
      "outer loop X.shape =  (20000, 9, 600)\n",
      "Constructing 2000 event dataset took 2.206 s\n",
      "x_t.shape =  torch.Size([2000, 9, 600])\n",
      "x_t.shape[0] =  2000\n",
      "x_t.shape[1] =  9\n",
      "x_t.shape =  torch.Size([2000, 9, 600])\n",
      "Loaded dataAA/20K_POCA_kernel_evts_200926.h5 in 0.01246 s\n",
      "PV.n.shape =     (20000,)\n",
      "PV.n[0].shape =  6\n",
      "PV.x[0] =        -0.06039733 0.034324445 0.032115813 0.0021888595 -0.035334907 -0.013019809\n",
      "PV.y[0] =        -0.09381338 -0.013181885 -0.030898828 -0.08940365 -0.0058297813 0.062288247\n",
      "PV.z[0] =        97.82085 61.021088 -0.15807877 134.26784 -29.881668 79.19783\n",
      "PV.n[0] =        24 26 10 7 24 19\n",
      "PV.cat[0] =      1 1 1 1 1 1\n",
      "Loaded dataAA/20K_POCA_kernel_evts_200926.h5 in 0.01028 s\n",
      "SV.n.shape =     (20000,)\n",
      "SV.n[0].shape =  2\n",
      "SV.x[0] =        -0.014751727 0.03923173\n",
      "SV.y[0] =        0.050640453 0.08648109\n",
      "SV.z[0] =        78.924194 79.170876\n",
      "SV.n[0] =        2 0\n",
      "SV.cat[0] =      1 -1\n"
     ]
    }
   ],
   "source": [
    "train_loader = collect_t2hists_data('dataAA/20K_POCA_kernel_evts_200926.h5',\n",
    "                             batch_size=batch_size,\n",
    "## if we are using a larger dataset (240K events, with the datasets above, and 11 GB  of GPU memory),\n",
    "## not the dataset will overflow the GPU memory; device=device will allow the data to move back\n",
    "## and forth between the CPU and GPU memory. While this allows use of a larger dataset, it slows\n",
    "## down performance by about 10%.  So comment out when not needed.\n",
    "##                           device=device,\n",
    "                             slice = slice(0,18000)\n",
    "                           )\n",
    "\n",
    "\n",
    "\n",
    "                            \n",
    "# Validation dataset. You can slice to reduce the size.\n",
    "## mds no separate validation set yet,\n",
    "val_loader = collect_t2hists_data('dataAA/20K_POCA_kernel_evts_200926.h5',\n",
    "                            batch_size=batch_size,\n",
    "                            device=device,\n",
    "                            slice = slice(18000,None)\n",
    "                           )\n",
    "\n",
    "PV = collect_truth('dataAA/20K_POCA_kernel_evts_200926.h5', pvs=True)\n",
    "print('PV.n.shape =    ',  PV.n.shape)\n",
    "print('PV.n[0].shape = ', *PV.n[0].shape)\n",
    "print('PV.x[0] =       ', *PV.x[0])\n",
    "print('PV.y[0] =       ', *PV.y[0])\n",
    "print('PV.z[0] =       ', *PV.z[0])\n",
    "print('PV.n[0] =       ', *PV.n[0])\n",
    "print('PV.cat[0] =     ', *PV.cat[0])\n",
    "\n",
    "SV = collect_truth('dataAA/20K_POCA_kernel_evts_200926.h5', pvs=False)\n",
    "print('SV.n.shape =    ', SV.n.shape)\n",
    "print('SV.n[0].shape = ', *SV.n[0].shape)\n",
    "print('SV.x[0] =       ', *SV.x[0])\n",
    "print('SV.y[0] =       ', *SV.y[0])\n",
    "print('SV.z[0] =       ', *SV.z[0])\n",
    "print('SV.n[0] =       ', *SV.n[0])\n",
    "print('SV.cat[0] =     ', *SV.cat[0])\n"
   ]
  },
  {
   "cell_type": "markdown",
   "metadata": {},
   "source": [
    "# Preparing the model"
   ]
  },
  {
   "cell_type": "markdown",
   "metadata": {},
   "source": [
    "Prepare a model, use multiple GPUs if they are VISIBLE, and move the model to the device."
   ]
  },
  {
   "cell_type": "code",
   "execution_count": 10,
   "metadata": {
    "scrolled": false
   },
   "outputs": [
    {
     "name": "stdout",
     "output_type": "stream",
     "text": [
      "ct, child =  0    Linear(in_features=9, out_features=50, bias=True)\n",
      "ct, child =  1    Linear(in_features=50, out_features=50, bias=True)\n",
      "ct, child =  2    Linear(in_features=50, out_features=50, bias=True)\n",
      "ct, child =  3    Linear(in_features=50, out_features=50, bias=True)\n",
      "ct, child =  4    Linear(in_features=50, out_features=50, bias=True)\n",
      "ct, child =  5    Linear(in_features=50, out_features=50, bias=True)\n",
      "ct, child =  6    Linear(in_features=50, out_features=50, bias=True)\n",
      "ct, child =  7    Linear(in_features=50, out_features=50, bias=True)\n",
      "ct, child =  8    Linear(in_features=50, out_features=50, bias=True)\n",
      "ct, child =  9    Linear(in_features=50, out_features=50, bias=True)\n",
      "ct, child =  10    Linear(in_features=50, out_features=50, bias=True)\n",
      "ct, child =  11    Linear(in_features=50, out_features=16000, bias=True)\n",
      "ct, child =  12    Conv1d(4, 25, kernel_size=(25,), stride=(1,), padding=(12,))\n",
      "ct, child =  13    Conv1d(25, 1, kernel_size=(5,), stride=(1,), padding=(2,))\n",
      "ct, child =  14    Linear(in_features=4000, out_features=4000, bias=True)\n",
      "ct, child =  15    Dropout(p=0.15, inplace=False)\n",
      "ct, child =  16    Dropout(p=0.15, inplace=False)\n",
      "ct, child =  17    Conv1d(1, 20, kernel_size=(25,), stride=(1,), padding=(12,))\n",
      "ct, child =  18    Conv1d(20, 10, kernel_size=(15,), stride=(1,), padding=(7,))\n",
      "ct, child =  19    Conv1d(10, 10, kernel_size=(15,), stride=(1,), padding=(7,))\n",
      "ct, child =  20    Conv1d(10, 10, kernel_size=(15,), stride=(1,), padding=(7,))\n",
      "ct, child =  21    Conv1d(10, 1, kernel_size=(5,), stride=(1,), padding=(2,))\n",
      "ct, child =  22    Dropout(p=0.15, inplace=False)\n",
      "ct, child =  23    Dropout(p=0.15, inplace=False)\n",
      "ct, child =  24    Dropout(p=0.15, inplace=False)\n",
      "ct, child =  25    Dropout(p=0.15, inplace=False)\n",
      "ct, child =  26    Dropout(p=0.35, inplace=False)\n",
      "ct, child =  27    Linear(in_features=4000, out_features=4000, bias=True)\n"
     ]
    }
   ],
   "source": [
    "nOut1 = 50\n",
    "nOut2 = 50\n",
    "nOut3 = 50\n",
    "nOut4 = 50\n",
    "nOut5 = 50\n",
    "nOut6 = 50\n",
    "nOut7 = 50\n",
    "nOut8 = 50\n",
    "nOut9 = 50\n",
    "nOut10 = 50\n",
    "nOut11 = 50\n",
    "latentChannels = 4\n",
    "model_t2kde = t2kde_model(nOut1,nOut2,nOut3,nOut4,nOut5,nOut6,nOut7,nOut8,nOut9,nOut10,nOut11,latentChannels)\n",
    "model_kde2hists = kde2hists_model()\n",
    "model_t2hists = t2hists_model(nOut1,nOut2,nOut3,nOut4,nOut5,nOut6,nOut7,nOut8,nOut9,nOut10,nOut11,latentChannels)\n",
    "\n",
    "##summary(model, input_size=(4, 4000))\n",
    "##print(model.parameters)\n",
    "\n",
    "## add the following code to allow the user to freeze the some of the weights corresponding \n",
    "## to those taken from an earlier model trained with the original target histograms\n",
    "## presumably -- this leaves either the perturbative filter \"fixed\" and lets the \n",
    "## learning focus on the non-perturbative features, so get started faster, or vice versa\n",
    "ct = 0\n",
    "for child in model_t2hists.children():\n",
    "  print('ct, child = ',ct, \"  \", child)\n",
    "  if (ct < 0) :\n",
    "    print(\"     About to set param.requires_grad=False for ct = \", ct, \"params\")\n",
    "    for param in child.parameters():\n",
    "        param.requires_grad = False \n",
    "  ct += 1\n",
    "\n",
    "loss = Loss(epsilon=1e-5,coefficient=2.5)\n",
    "optimizer = torch.optim.Adam(model_t2hists.parameters(), lr=learning_rate)"
   ]
  },
  {
   "cell_type": "markdown",
   "metadata": {},
   "source": [
    "Let's move the model's weight matricies to the GPU:"
   ]
  },
  {
   "cell_type": "code",
   "execution_count": 12,
   "metadata": {
    "scrolled": false
   },
   "outputs": [
    {
     "name": "stdout",
     "output_type": "stream",
     "text": [
      "for model_t2kde_dict\n",
      "index, k =   0    layer1.weight\n",
      "index, k =   1    layer1.bias\n",
      "index, k =   2    layer2.weight\n",
      "index, k =   3    layer2.bias\n",
      "index, k =   4    layer3.weight\n",
      "index, k =   5    layer3.bias\n",
      "index, k =   6    layer4.weight\n",
      "index, k =   7    layer4.bias\n",
      "index, k =   8    layer5.weight\n",
      "index, k =   9    layer5.bias\n",
      "index, k =   10    layer6.weight\n",
      "index, k =   11    layer6.bias\n",
      "index, k =   12    layer7.weight\n",
      "index, k =   13    layer7.bias\n",
      "index, k =   14    layer8.weight\n",
      "index, k =   15    layer8.bias\n",
      "index, k =   16    layer9.weight\n",
      "index, k =   17    layer9.bias\n",
      "index, k =   18    layer10.weight\n",
      "index, k =   19    layer10.bias\n",
      "index, k =   20    layer11.weight\n",
      "index, k =   21    layer11.bias\n",
      "index, k =   22    layer12new.weight\n",
      "index, k =   23    layer12new.bias\n",
      "index, k =   24    conv1.weight\n",
      "index, k =   25    conv1.bias\n",
      "index, k =   26    conv2.weight\n",
      "index, k =   27    conv2.bias\n",
      "index, k =   28    fc1.weight\n",
      "index, k =   29    fc1.bias\n",
      "index, k =   30    finalFilter.weight\n",
      "index, k =   31    finalFilter.bias\n",
      "for model_hists_2kde_dict\n",
      "index, k =   0    conv1.weight\n",
      "index, k =   1    conv1.bias\n",
      "index, k =   2    conv2.weight\n",
      "index, k =   3    conv2.bias\n",
      "index, k =   4    conv3.weight\n",
      "index, k =   5    conv3.bias\n",
      "index, k =   6    conv4.weight\n",
      "index, k =   7    conv4.bias\n",
      "index, k =   8    conv5.weight\n",
      "index, k =   9    conv5.bias\n",
      "index, k =   10    fc1.weight\n",
      "index, k =   11    fc1.bias\n",
      "for model_hists_2kde_dict\n",
      "index, k =   0    layer1.weight\n",
      "index, k =   1    layer1.bias\n",
      "index, k =   2    layer2.weight\n",
      "index, k =   3    layer2.bias\n",
      "index, k =   4    layer3.weight\n",
      "index, k =   5    layer3.bias\n",
      "index, k =   6    layer4.weight\n",
      "index, k =   7    layer4.bias\n",
      "index, k =   8    layer5.weight\n",
      "index, k =   9    layer5.bias\n",
      "index, k =   10    layer6.weight\n",
      "index, k =   11    layer6.bias\n",
      "index, k =   12    layer7.weight\n",
      "index, k =   13    layer7.bias\n",
      "index, k =   14    layer8.weight\n",
      "index, k =   15    layer8.bias\n",
      "index, k =   16    layer9.weight\n",
      "index, k =   17    layer9.bias\n",
      "index, k =   18    layer10.weight\n",
      "index, k =   19    layer10.bias\n",
      "index, k =   20    layer11.weight\n",
      "index, k =   21    layer11.bias\n",
      "index, k =   22    layer12new.weight\n",
      "index, k =   23    layer12new.bias\n",
      "index, k =   24    conv1.weight\n",
      "index, k =   25    conv1.bias\n",
      "index, k =   26    conv2.weight\n",
      "index, k =   27    conv2.bias\n",
      "index, k =   28    fc1.weight\n",
      "index, k =   29    fc1.bias\n",
      "index, k =   30    hist_conv1.weight\n",
      "index, k =   31    hist_conv1.bias\n",
      "index, k =   32    hist_conv2.weight\n",
      "index, k =   33    hist_conv2.bias\n",
      "index, k =   34    hist_conv3.weight\n",
      "index, k =   35    hist_conv3.bias\n",
      "index, k =   36    hist_conv4.weight\n",
      "index, k =   37    hist_conv4.bias\n",
      "index, k =   38    hist_conv5.weight\n",
      "index, k =   39    hist_conv5.bias\n",
      "index, k =   40    hist_fc1.weight\n",
      "index, k =   41    hist_fc1.bias\n",
      "t2kde_dict_name =  ML/25December__DDplus_loss_Ba_iter7_floatAll_800epochs_4em6/25December__DDplus_loss_Ba_iter7_floatAll_800epochs_4em6_final.pyt\n",
      " \n",
      "   for t2kde_pretrained_dict\n",
      "index, k =   0    layer1.weight\n",
      "index, k =   1    layer1.bias\n",
      "index, k =   2    layer2.weight\n",
      "index, k =   3    layer2.bias\n",
      "index, k =   4    layer3.weight\n",
      "index, k =   5    layer3.bias\n",
      "index, k =   6    layer4.weight\n",
      "index, k =   7    layer4.bias\n",
      "index, k =   8    layer5.weight\n",
      "index, k =   9    layer5.bias\n",
      "index, k =   10    layer6.weight\n",
      "index, k =   11    layer6.bias\n",
      "index, k =   12    layer7.weight\n",
      "index, k =   13    layer7.bias\n",
      "index, k =   14    layer8.weight\n",
      "index, k =   15    layer8.bias\n",
      "index, k =   16    layer9.weight\n",
      "index, k =   17    layer9.bias\n",
      "index, k =   18    layer10.weight\n",
      "index, k =   19    layer10.bias\n",
      "index, k =   20    layer11.weight\n",
      "index, k =   21    layer11.bias\n",
      "index, k =   22    layer12new.weight\n",
      "index, k =   23    layer12new.bias\n",
      "index, k =   24    conv1.weight\n",
      "index, k =   25    conv1.bias\n",
      "index, k =   26    conv2.weight\n",
      "index, k =   27    conv2.bias\n",
      "index, k =   28    fc1.weight\n",
      "index, k =   29    fc1.bias\n",
      "index, k =   30    finalFilter.weight\n",
      "index, k =   31    finalFilter.bias\n",
      " \n",
      "   for kde2hists_pretrained_dict\n",
      "index, k =   0    conv1.weight\n",
      "index, k =   1    conv1.bias\n",
      "index, k =   2    conv2.weight\n",
      "index, k =   3    conv2.bias\n",
      "index, k =   4    conv3.weight\n",
      "index, k =   5    conv3.bias\n",
      "index, k =   6    conv4.weight\n",
      "index, k =   7    conv4.bias\n",
      "index, k =   8    conv5.weight\n",
      "index, k =   9    conv5.bias\n",
      "index, k =   10    fc1.weight\n",
      "index, k =   11    fc1.bias\n",
      "model_t2hists_dict =     OrderedDict([('layer1.weight', tensor([[-1.3161e+01,  8.3794e-02, -1.2478e-01,  2.0657e-01, -1.9500e-01,\n",
      "          1.6600e-01,  1.9845e-01, -4.0974e-03,  1.7470e-02],\n",
      "        [-1.7705e+01,  6.5659e-02,  4.5618e-01, -5.8648e-02,  7.6269e-02,\n",
      "          1.0541e-01, -4.8754e-01,  1.5108e-02,  2.3955e-02],\n",
      "        [-1.4386e+01,  1.2272e+00, -3.8190e-01,  2.5838e-02, -3.6293e-02,\n",
      "         -3.4253e-01,  1.1834e+00, -8.9632e-02, -2.9903e-02],\n",
      "        [ 6.4846e+00, -4.6220e-01, -2.4825e-01,  1.0983e-02, -7.4365e-02,\n",
      "          8.8143e-05,  6.9401e-01,  8.7329e-02,  7.3523e-02],\n",
      "        [-1.8302e+00,  4.1987e-01,  1.5540e+00, -1.8493e-01,  1.5176e-01,\n",
      "         -2.4035e-01, -6.0051e-01,  3.7894e-02, -2.8372e-01],\n",
      "        [-1.1964e+01,  2.6726e+00,  5.3573e-01, -1.1843e-01,  1.1209e-01,\n",
      "         -2.4515e-01,  7.3308e-01, -2.9875e-02, -8.1873e-02],\n",
      "        [ 3.4216e+00, -4.8364e+00, -5.9653e+00, -2.0477e-01,  2.0083e-01,\n",
      "         -4.7499e-01, -4.5824e-01,  8.2685e-02, -6.4943e-02],\n",
      "        [ 1.1897e+01,  1.4573e-03,  9.5652e-01, -1.6469e-03, -8.2191e-03,\n",
      "          1.0590e-01, -3.7583e-01,  1.1328e-02,  5.0489e-03],\n",
      "        [-1.5633e+01,  2.9876e-01, -1.1981e-01,  2.5128e-01, -3.1694e-01,\n",
      "         -2.5169e-01,  6.6757e-01,  5.5043e-02, -7.0319e-03],\n",
      "        [ 5.1852e+00,  4.8215e-01, -1.3928e+00, -1.1272e-01, -1.8321e-01,\n",
      "          8.4978e-02,  1.8862e+00, -1.7300e-01,  1.9019e-01],\n",
      "        [ 2.2543e-01,  2.6942e-01, -2.8818e-02,  5.2544e-02, -5.2434e-02,\n",
      "         -2.5166e-01,  1.9557e+00,  4.7140e-01,  3.8545e-01],\n",
      "        [-1.3964e+01, -1.3680e-01, -5.2477e-01, -9.2609e-02,  4.5260e-02,\n",
      "          6.5695e-02,  9.2509e-02,  4.3023e-02,  6.5749e-02],\n",
      "        [ 3.1803e-01, -8.9662e-02, -5.6351e-01, -1.0771e-01,  1.0799e-01,\n",
      "         -3.4579e-01, -3.1958e-01, -5.8546e-01,  1.3695e-01],\n",
      "        [-1.6130e+01, -1.9277e-02, -7.0562e-02,  4.0261e-02, -2.0041e-02,\n",
      "         -9.5833e-03,  9.5044e-02, -4.4916e-04, -5.0835e-03],\n",
      "        [-9.9584e+00, -1.5015e-01, -3.4662e-01,  2.7787e-02,  5.4856e-02,\n",
      "         -1.6266e-01,  2.1913e-01, -4.5801e-02,  1.0199e-02],\n",
      "        [-7.6537e+00, -2.3607e-01, -1.0448e+00,  8.1049e-02, -1.1458e-01,\n",
      "         -1.0323e+00, -3.0088e+00,  5.4515e-01, -2.9638e-01],\n",
      "        [ 1.0441e+01,  2.2921e-01,  7.3156e-01, -2.9433e-01,  1.4352e-02,\n",
      "          4.5019e-01, -3.2675e-01,  2.6409e-01,  8.9937e-02],\n",
      "        [ 9.4351e+00,  7.6604e-01,  3.6669e+00,  7.5380e-02, -2.0728e-01,\n",
      "         -5.9138e-01, -9.9902e-01, -4.9589e-01,  7.9392e-01],\n",
      "        [ 2.9384e+00,  6.6762e-01, -1.3152e+00,  2.0721e-01, -2.3172e-01,\n",
      "         -3.0184e-01,  1.8899e+00,  3.5750e-02, -2.6342e-02],\n",
      "        [ 7.8494e+00, -2.2863e+00,  9.4238e-01,  2.2170e-01, -2.2991e-01,\n",
      "         -4.8346e-01, -7.6848e-01,  8.3915e-03,  1.1297e-01],\n",
      "        [-1.8087e+01,  3.4806e-01,  2.3447e-01,  1.6251e-01, -2.5405e-01,\n",
      "         -3.3008e-02, -1.0686e-02,  3.5891e-02, -5.8617e-02],\n",
      "        [ 1.4494e+01,  1.8213e-01,  4.9366e-01, -1.4494e-01,  1.5032e-01,\n",
      "          1.9996e-01, -4.8312e-01,  1.4596e-02,  3.1723e-02],\n",
      "        [ 1.6872e+01,  2.2244e-01,  8.6238e-02, -1.6608e-01,  2.1524e-01,\n",
      "         -2.1952e-02, -1.8193e-02,  9.1968e-02, -3.3975e-02],\n",
      "        [-1.1754e+01, -1.6565e-01, -5.0301e-02, -4.1777e-02, -1.7745e-01,\n",
      "          3.1667e-01, -1.2500e+00, -1.7438e-04, -4.1632e-03],\n",
      "        [ 1.1507e+01, -1.2101e+00, -1.4575e+00, -5.1296e-02,  2.0787e-02,\n",
      "         -3.3762e-01,  1.3963e+00,  1.7305e-01,  2.4340e-01],\n",
      "        [ 9.8427e+00, -1.5636e+00, -2.9141e+00, -7.4555e-02, -3.7026e-02,\n",
      "         -6.5071e-02,  1.2188e+00,  1.0635e-01,  2.2166e-01],\n",
      "        [-1.3107e+01, -3.1624e-02, -7.7007e-02, -8.0861e-02,  1.1713e-01,\n",
      "         -3.2402e-02,  1.4531e-01, -1.4785e-02,  6.6013e-03],\n",
      "        [ 4.4039e+00,  9.7353e-01, -4.2856e-01,  9.4734e-02, -1.2160e-01,\n",
      "         -6.9119e-01,  2.6596e+00,  1.2661e-01, -7.2018e-02],\n",
      "        [ 5.7738e+00, -1.5467e+00, -2.1749e+00, -9.4877e-02,  7.1666e-02,\n",
      "         -1.8441e-01,  1.0607e+00,  6.7915e-02,  3.0201e-02],\n",
      "        [ 2.7539e+00, -1.7569e+00, -1.7477e+00,  1.2985e-01, -1.4170e-01,\n",
      "         -4.1426e-01,  1.8828e+00, -1.1221e-01, -9.5168e-02],\n",
      "        [-1.2282e+01, -9.6843e-01, -1.1209e+00,  9.6559e-02, -1.6748e-01,\n",
      "          3.0173e-02, -2.4178e-01,  1.7769e-01, -7.0082e-02],\n",
      "        [ 1.6676e+01,  2.2278e-01,  3.4017e-01,  9.1165e-02, -7.7039e-02,\n",
      "          7.7147e-02, -2.6339e-01,  9.4121e-03, -1.6041e-02],\n",
      "        [-1.4024e+01,  8.7767e-02,  9.7852e-03, -4.7747e-02,  6.0574e-02,\n",
      "          1.4072e-01, -3.2362e-01, -3.5118e-02, -2.9759e-02],\n",
      "        [ 1.7235e+01, -2.0050e-01,  6.0448e-02,  1.9465e-02,  8.1484e-03,\n",
      "          9.2902e-03, -1.7074e-01, -2.9021e-02,  2.2225e-02],\n",
      "        [-1.3509e+01,  6.0604e-02,  3.3008e-01,  1.2191e-01, -1.0170e-01,\n",
      "          8.3851e-03, -1.4392e-04, -1.4397e-03, -1.9126e-02],\n",
      "        [ 5.8008e+00, -1.1403e+00, -2.4057e+00, -4.4425e-01,  6.9842e-02,\n",
      "          6.5513e-01,  2.2394e-01,  3.0921e-01,  3.8112e-01],\n",
      "        [ 3.4435e-01,  1.1071e-02,  5.5606e-01, -1.2693e-01,  1.2757e-01,\n",
      "         -2.5629e-01, -3.2676e-01,  1.1440e-01, -5.7016e-01],\n",
      "        [-1.3633e+01,  1.1152e+00,  9.2698e-01,  8.0092e-03, -2.2788e-02,\n",
      "         -1.8653e-01, -3.2752e-01, -1.0719e-01,  1.1329e-01],\n",
      "        [ 1.5716e+01, -1.5110e-01, -3.9374e-01,  1.0541e-01, -8.0017e-02,\n",
      "          5.7740e-03,  2.1784e-01, -3.1578e-02,  1.6663e-02],\n",
      "        [ 1.1349e+01, -7.0222e-01, -1.9313e-01, -6.9813e-02,  2.2217e-02,\n",
      "         -1.2162e-01,  1.0748e+00,  9.1981e-02,  8.1909e-02],\n",
      "        [ 1.2830e+01,  3.9971e-01,  4.0307e-01,  1.5798e-01, -1.8019e-01,\n",
      "         -6.8223e-01, -2.9450e+00,  2.6834e-01, -1.7182e-01],\n",
      "        [ 1.0566e+01,  2.2132e-01,  1.9198e-01, -1.2586e-01,  7.7411e-02,\n",
      "         -3.9666e-01, -1.4566e+00, -2.3399e-01,  3.9659e-01],\n",
      "        [ 7.9268e+00,  9.9270e-02, -9.5185e-01, -1.9241e-01, -1.8947e-01,\n",
      "          7.0370e-01, -1.0241e-02,  4.0924e-02,  1.3457e-01],\n",
      "        [ 1.6839e+01, -1.7138e-01, -8.4997e-02,  1.9771e-01, -1.8276e-01,\n",
      "          5.2071e-02,  7.0371e-02,  1.2721e-02,  2.9881e-03],\n",
      "        [ 7.7935e+00, -3.2559e-01, -5.6343e-01, -7.0369e-02,  4.1361e-02,\n",
      "          3.8098e-02,  2.4228e-01, -3.5837e-02,  3.5168e-02],\n",
      "        [ 1.2290e+01, -1.7778e-01, -1.9884e+00, -3.4084e-02, -1.6271e-03,\n",
      "         -1.9220e-01,  8.2775e-01,  3.0535e-02,  1.5794e-01],\n",
      "        [-6.4196e+00,  4.6321e-01,  1.2752e-01,  1.3984e-01, -1.4057e-01,\n",
      "          5.3423e-02, -1.1251e-01,  6.5213e-03,  1.2399e-02],\n",
      "        [-1.2937e+01,  2.5914e-01,  4.9203e-01, -3.0457e-01,  2.7193e-01,\n",
      "         -1.0579e-01,  7.2132e-03,  7.6210e-02,  1.1309e-01],\n",
      "        [-3.9741e+00,  5.0306e+00,  3.8827e+00, -2.0086e-01,  1.9722e-01,\n",
      "         -9.8265e-01, -1.2266e-01,  1.4705e-01, -1.5428e-01],\n",
      "        [-1.2007e+01, -1.3495e+00, -2.8186e+00, -6.3179e-02,  1.5261e-02,\n",
      "         -3.5934e-01,  1.3095e+00, -2.4897e-01, -3.9904e-01]])), ('layer1.bias', tensor([-0.0671, -0.0242, -0.1141,  0.1389, -0.0501, -0.0817,  0.0462,  0.0468,\n",
      "         0.0101, -0.1056,  0.0944, -0.1093,  0.0304, -0.1090, -0.1972, -0.2072,\n",
      "        -0.0274,  0.0120,  0.0848,  0.0631, -0.0600,  0.0959, -0.0187, -0.1964,\n",
      "         0.1438,  0.1320, -0.1421,  0.1789,  0.1326,  0.1351, -0.0896,  0.0244,\n",
      "        -0.0843,  0.0629, -0.1811, -0.1791,  0.0760, -0.0288, -0.1473,  0.1000,\n",
      "         0.0288,  0.0432, -0.1412,  0.0736,  0.0749,  0.2416, -0.1974, -0.0335,\n",
      "        -0.1332, -0.1316])), ('layer2.weight', tensor([[-0.4515, -0.2419, -0.1160,  ...,  0.0932,  0.1341, -0.0064],\n",
      "        [ 0.0018, -1.1310, -0.1646,  ..., -0.0330,  0.0203, -0.4810],\n",
      "        [ 0.0681,  0.5023, -0.4021,  ...,  0.1013,  0.0326, -0.2759],\n",
      "        ...,\n",
      "        [-0.1976,  0.0112, -0.0568,  ...,  0.1431, -0.1302, -0.0392],\n",
      "        [ 0.1462,  0.7644, -0.0531,  ...,  0.2027, -0.1676, -0.3827],\n",
      "        [-0.0733, -0.0617,  0.1700,  ...,  0.1094,  0.0545, -0.2376]])), ('layer2.bias', tensor([-0.3053,  0.0937,  0.0251, -0.2205, -0.1510,  0.0604,  0.0112, -0.0936,\n",
      "        -0.1041,  0.0561,  0.0517, -0.0118, -0.0508,  0.0973, -0.1480, -0.1864,\n",
      "        -0.1030, -0.3482, -0.0552, -0.1014, -0.1082, -0.0133, -0.0474,  0.0082,\n",
      "         0.1752, -0.1961, -0.0650, -0.1711, -0.1649, -0.1358,  0.1150, -0.1334,\n",
      "        -0.0625,  0.1166,  0.1063, -0.1231,  0.1154, -0.0176,  0.0862, -0.1101,\n",
      "         0.0587, -0.5405, -0.1585,  0.0167,  0.0574, -0.1772, -0.1059, -0.1459,\n",
      "        -0.1326,  0.1223])), ('layer3.weight', tensor([[ 0.1211, -0.0418,  0.1717,  ..., -0.0913,  0.4418,  0.2481],\n",
      "        [ 0.0035,  0.3924, -0.0093,  ...,  0.1503, -0.3623,  0.1261],\n",
      "        [ 0.6209,  0.3514, -0.5036,  ...,  0.2294, -0.7691, -0.0305],\n",
      "        ...,\n",
      "        [ 0.0468,  0.3834,  0.1917,  ...,  0.1361,  0.2170,  0.1319],\n",
      "        [ 0.0284, -0.0662,  0.0242,  ...,  0.1144, -0.2893,  0.2453],\n",
      "        [-0.0043,  0.2904,  0.1069,  ...,  0.1651, -0.3080,  0.2709]])), ('layer3.bias', tensor([ 0.0836, -0.2002, -0.2935,  0.2914,  0.0171, -0.0466, -0.4290, -0.1009,\n",
      "        -0.3918, -0.0907,  0.1398, -0.0328,  0.0802, -0.2038, -0.1581,  0.1260,\n",
      "        -0.0663, -0.3142,  0.1266, -0.0742,  0.1195, -0.4347,  0.2201, -0.2555,\n",
      "        -0.1107, -0.0963, -0.2346, -0.3133, -0.2764, -0.3225, -0.0871, -0.0248,\n",
      "         0.2576,  0.4187, -0.3253,  0.1122,  0.0021,  0.0537, -0.1304,  0.0381,\n",
      "        -0.1783, -0.0691, -0.0199, -0.2939, -0.0771,  0.0057, -0.1517, -0.4161,\n",
      "        -0.0928, -0.2475])), ('layer4.weight', tensor([[ 0.2400,  0.3020,  0.4870,  ..., -0.2987, -0.3788,  0.1281],\n",
      "        [ 0.1089, -0.1713,  0.1937,  ..., -0.0562,  0.0773,  0.2705],\n",
      "        [ 0.4892,  0.3379,  0.6168,  ...,  0.1964,  0.0776,  0.8474],\n",
      "        ...,\n",
      "        [ 0.1493,  0.3067, -0.0732,  ...,  0.3341,  0.1336,  0.1843],\n",
      "        [-0.0435,  0.0108, -0.0185,  ..., -0.2052,  0.0782, -0.5083],\n",
      "        [ 0.6170,  0.2503,  0.2462,  ...,  0.1958, -0.2574,  0.2248]])), ('layer4.bias', tensor([-0.3677, -0.1349, -0.4730,  0.2059, -0.4332, -0.2297, -0.4440, -0.3253,\n",
      "        -0.6216,  0.0824,  0.4193, -0.3881, -0.7211, -0.6470,  0.1553, -0.2996,\n",
      "         0.1224, -0.5545, -0.2922,  0.4343, -0.4066, -0.3607,  0.6227,  0.0710,\n",
      "         0.2011, -0.0213, -0.0829, -0.8538, -0.3727, -0.7251, -0.0793, -0.7218,\n",
      "        -0.1632,  0.1521, -0.1706, -0.2259,  0.0014, -0.6256, -0.3284, -0.3160,\n",
      "         0.0393, -0.3676,  0.1959,  0.3230, -0.3350, -0.1835, -0.1547,  0.0435,\n",
      "         0.0858, -0.3230])), ('layer5.weight', tensor([[-0.7541,  0.0346,  0.4145,  ...,  0.3921,  0.2119, -0.3571],\n",
      "        [ 0.1094,  0.2201,  0.2315,  ...,  0.4569, -0.1886, -0.1599],\n",
      "        [-0.0720,  0.0137, -0.0537,  ..., -0.1851,  0.2489, -0.3391],\n",
      "        ...,\n",
      "        [-0.1057,  0.2912, -0.4883,  ..., -0.4819,  0.0693, -0.1236],\n",
      "        [-0.0676,  0.2921,  0.2693,  ...,  0.2032,  0.1282, -0.2805],\n",
      "        [ 0.8315,  0.3473,  0.8486,  ..., -0.0889,  0.1810, -0.1356]])), ('layer5.bias', tensor([ 0.0783, -0.7411,  0.1081,  0.3020,  0.2245, -0.7733, -0.2213, -0.6411,\n",
      "         0.3430, -0.0714, -0.0960, -0.4084, -0.1337,  0.3850, -0.8784, -0.9147,\n",
      "         0.1433, -0.7816, -0.5159, -0.1138, -0.4926, -0.5127, -0.5680, -0.4078,\n",
      "        -0.0241, -0.3375,  0.1463, -0.4942, -0.8123, -0.0751, -0.5971, -0.6080,\n",
      "        -0.4046, -0.0653,  0.0176, -0.7391,  0.0909, -0.6378, -0.6268, -0.4517,\n",
      "        -0.0864,  0.0825, -0.4756, -0.2500, -0.3365,  0.0957, -0.2474,  0.0508,\n",
      "         0.2063, -0.0312])), ('layer6.weight', tensor([[ 0.0997,  0.1126, -0.1350,  ...,  0.0566, -0.2293,  0.2301],\n",
      "        [-0.4046, -0.0479,  0.0747,  ..., -0.0369,  0.1205, -0.0650],\n",
      "        [-0.2904, -1.4816,  0.0628,  ...,  0.4578, -0.3158, -1.1139],\n",
      "        ...,\n",
      "        [-0.3912,  0.2306, -0.0649,  ..., -0.1305, -0.0614, -0.2054],\n",
      "        [-0.4602, -0.5298, -0.1981,  ...,  0.4179, -0.2111,  0.3864],\n",
      "        [-0.3421,  0.0845,  0.1628,  ..., -0.7624,  0.2060, -0.5204]])), ('layer6.bias', tensor([-0.1132,  0.8059, -0.3882, -0.1387,  0.3875,  0.0321, -0.5516, -0.0691,\n",
      "        -1.0539, -0.3947, -0.1947, -0.0472, -0.6928, -0.5315, -0.3243, -0.2574,\n",
      "        -0.4272, -0.0724, -0.1790,  0.1217, -0.5188, -0.1854, -0.0495,  0.3955,\n",
      "        -0.1184,  0.2513, -0.0229,  0.5310, -0.3386, -0.2126, -0.1562,  0.1802,\n",
      "         0.2264, -0.2394, -0.2431, -0.0138, -0.2370, -0.2212, -0.5279, -0.4191,\n",
      "        -0.3220, -0.2118, -0.6503, -0.4522, -0.1010, -0.4941, -0.2185, -0.3260,\n",
      "         0.0037, -0.3057])), ('layer7.weight', tensor([[ 0.0902, -0.0242, -0.1202,  ..., -0.0621, -0.3200, -0.4583],\n",
      "        [ 0.1469,  0.3142, -0.6109,  ...,  0.1583,  0.1476,  1.2763],\n",
      "        [-0.4319,  0.0721,  0.1621,  ..., -0.2112, -0.5476, -0.1395],\n",
      "        ...,\n",
      "        [-0.6415, -0.0145, -0.0637,  ..., -0.8481, -0.0106,  0.1530],\n",
      "        [ 0.3867,  0.3157,  0.0499,  ..., -0.2044, -0.6875,  0.2768],\n",
      "        [-0.3569,  0.2610,  0.1972,  ..., -0.5389, -0.0822, -0.1838]])), ('layer7.bias', tensor([ 0.5822, -1.2403,  0.0187, -0.3863,  0.2316, -0.3430, -0.4308, -0.2411,\n",
      "         0.2339, -0.1151, -0.4181,  0.0414, -0.0627,  0.1652, -0.3636, -0.1903,\n",
      "         0.5394,  0.1566,  0.3055, -0.6014, -0.3960, -0.2140, -0.4124, -0.2850,\n",
      "        -0.3166, -0.3601,  0.3833,  0.2819, -0.4220,  0.0768,  0.4407, -0.4072,\n",
      "         0.4114, -0.3398, -0.0649, -0.3090, -0.4235,  0.2706,  0.2563,  0.3097,\n",
      "        -0.4739, -0.8204,  0.1378,  0.0763, -0.0226,  0.1127, -0.5193, -0.2948,\n",
      "         0.3470,  0.1515])), ('layer8.weight', tensor([[-0.6561,  0.0576, -0.1982,  ..., -0.0175,  0.0225, -0.4135],\n",
      "        [-0.2475, -0.1466,  0.1531,  ...,  0.2948, -0.3309, -0.4447],\n",
      "        [ 0.0882, -0.2576, -0.1460,  ...,  0.2471,  0.0360,  0.1347],\n",
      "        ...,\n",
      "        [-0.0105,  0.6341, -0.2344,  ...,  0.1021,  0.3319, -0.0936],\n",
      "        [-0.6218,  0.2973, -0.1876,  ...,  0.6098,  0.2994,  0.2463],\n",
      "        [ 0.2835,  0.3613,  0.3664,  ...,  0.1658,  0.0701, -0.0277]])), ('layer8.bias', tensor([-6.9276e-01, -3.1025e-01,  1.6695e-01, -5.4766e-01, -2.0997e-01,\n",
      "         5.7070e-01, -4.4794e-01,  3.8408e-01,  5.9127e-01,  6.2591e-01,\n",
      "         1.9183e-01, -3.1983e-02, -2.9923e-01, -1.3359e+00, -4.4488e-01,\n",
      "        -8.9430e-02, -9.2684e-01, -7.0097e-02, -5.3005e-02, -5.3241e-01,\n",
      "        -7.1297e-01, -7.5265e-01,  6.1421e-01, -2.3202e-01,  4.8096e-01,\n",
      "         3.2358e-01, -1.6209e-01, -1.5159e-01,  7.2379e-01,  1.2601e-01,\n",
      "        -1.7406e-01, -6.3116e-01, -3.8099e-01, -1.9596e-02,  2.4060e-01,\n",
      "         7.2080e-04, -4.5062e-02, -8.9680e-01, -8.0930e-01, -9.8737e-01,\n",
      "        -3.7475e-02, -2.9046e-01,  3.9620e-01, -4.2697e-01,  3.7156e-01,\n",
      "         2.4207e-01, -8.4708e-01, -3.8724e-02, -1.0067e+00, -4.2903e-01])), ('layer9.weight', tensor([[ 2.8491e-01,  1.7939e-01,  4.4869e-01,  ..., -2.2511e-01,\n",
      "         -1.0235e+00, -7.8479e-01],\n",
      "        [ 1.1183e-01, -7.2182e-02, -1.9790e-01,  ...,  4.2855e-01,\n",
      "         -1.0653e+00,  1.1283e-02],\n",
      "        [-1.3988e-01, -6.1001e-04, -3.0366e-01,  ..., -2.8846e-02,\n",
      "          3.2676e-01, -1.8093e-01],\n",
      "        ...,\n",
      "        [ 1.4637e-01,  1.2771e-01, -3.7447e-01,  ...,  7.9645e-02,\n",
      "         -7.5699e-01, -5.0111e-01],\n",
      "        [ 5.9432e-01,  9.1066e-03, -5.7371e-01,  ...,  1.5930e-01,\n",
      "         -2.8649e-01, -7.6195e-01],\n",
      "        [ 2.5032e-01, -1.7730e-01, -2.5128e-01,  ...,  3.4176e-01,\n",
      "          2.3651e-01, -5.8065e-01]])), ('layer9.bias', tensor([-0.2932, -0.0878, -0.0092,  0.3296, -1.4174, -0.2853, -0.6097, -0.1139,\n",
      "        -0.4139, -1.7825,  0.6404,  0.4180, -0.0890, -0.3563,  0.1056, -0.3938,\n",
      "        -0.2361, -0.5436, -1.6460,  0.0340, -0.4857, -0.3197,  0.7612, -0.5285,\n",
      "        -1.0129, -0.0134, -1.2583,  0.4873, -0.3100, -0.4537, -0.4470,  0.3089,\n",
      "         0.5006, -0.7626, -1.8322, -0.2349, -0.5705,  0.6038, -0.7752, -0.6020,\n",
      "        -0.7655,  1.0523, -0.2180, -1.2795, -0.2916,  0.2426,  0.1240,  0.1965,\n",
      "        -0.7947,  0.0521])), ('layer10.weight', tensor([[ 0.6562,  0.0668,  0.0732,  ...,  0.3263, -0.9311,  0.0373],\n",
      "        [ 0.0304,  0.0626,  0.0679,  ..., -0.0833, -0.6147, -0.0168],\n",
      "        [ 0.2102,  0.0897, -0.0507,  ...,  0.6931,  0.0849, -0.0131],\n",
      "        ...,\n",
      "        [-0.9608,  0.3561, -0.1219,  ...,  0.1400,  0.2159, -0.2990],\n",
      "        [ 0.1143,  0.0343, -0.0106,  ..., -0.5171, -0.4138, -0.0114],\n",
      "        [ 0.2082,  0.0955,  0.2772,  ...,  0.3087, -0.4053, -0.2709]])), ('layer10.bias', tensor([-0.6460, -0.5657, -0.2473, -0.6754,  0.1015,  0.4010, -1.0873,  0.1315,\n",
      "         0.4737, -0.3211,  0.2423,  0.4196, -1.1360, -1.1462, -0.3093, -0.4836,\n",
      "        -0.4761, -0.4807,  0.2337, -0.5836, -1.3199,  0.5742, -0.6323, -0.5923,\n",
      "        -0.5808,  0.1076,  0.3445,  0.1381, -0.0136, -0.7835, -0.8734,  0.1334,\n",
      "        -1.0075, -1.4292,  0.2697, -1.0878,  0.3913,  0.0801,  0.0720, -1.1158,\n",
      "        -0.0256, -0.7150, -0.4050, -0.9008,  0.5877, -0.0270,  0.3047, -0.0105,\n",
      "         0.4019, -1.1682])), ('layer11.weight', tensor([[ 1.8935, -0.0941,  1.0035,  ...,  3.8419, -1.4365, -2.5108],\n",
      "        [ 0.6494,  0.1785, -0.1200,  ...,  0.2753, -0.4051, -0.7919],\n",
      "        [-0.2549, -0.1468,  1.3074,  ..., -0.4392, -0.7384,  0.3580],\n",
      "        ...,\n",
      "        [ 0.0271,  0.0317, -0.0827,  ...,  1.2300, -1.0483, -1.4197],\n",
      "        [-0.3795,  0.0506, -0.1926,  ..., -1.7448,  0.3445, -0.2666],\n",
      "        [ 0.7465,  0.2542, -0.3302,  ...,  0.0418, -0.0744, -0.3269]])), ('layer11.bias', tensor([-3.4594,  0.2912, -0.2675, -4.3979,  0.2578, -0.5604, -0.5756,  0.1557,\n",
      "        -0.2337, -0.2032,  0.4698, -0.6442, -0.8785, -0.2125, -0.3984, -0.7533,\n",
      "         0.2717, -0.9436, -0.2916, -0.5177, -0.5314,  0.3594, -0.5454, -0.1631,\n",
      "        -0.4930,  0.1440, -0.6075, -1.4712, -0.2589, -0.1464, -2.0884, -0.5949,\n",
      "        -1.7213, -0.5914, -0.0213, -0.3521,  0.0298, -0.5032,  0.2190, -0.0306,\n",
      "         0.1266, -0.4093, -0.2875, -0.3526, -0.3180, -0.2548, -1.1002, -0.5793,\n",
      "        -0.8150, -0.3305])), ('layer12new.weight', tensor([[ 0.2516, -0.0678,  0.0283,  ...,  0.2595, -0.1463,  0.0423],\n",
      "        [ 0.0785, -0.0071,  0.1117,  ..., -0.0802,  0.0350, -0.0820],\n",
      "        [-0.0537,  0.1341, -0.4713,  ...,  0.0041,  0.0559, -0.6403],\n",
      "        ...,\n",
      "        [ 0.1618,  0.0988, -0.8499,  ...,  0.2735, -0.1352,  0.3450],\n",
      "        [ 0.1962,  0.3125, -0.9316,  ...,  0.0490, -0.0589, -0.1162],\n",
      "        [ 0.3531,  0.5199, -1.0064,  ...,  0.1719,  0.0688, -0.0566]])), ('layer12new.bias', tensor([-0.0115,  0.1285,  0.1415,  ..., -0.2264,  0.0571, -0.1822])), ('conv1.weight', tensor([[[-2.3133e-02, -1.4919e-01,  4.9668e-02,  ..., -5.4733e-02,\n",
      "          -1.7445e-01, -1.3285e-01],\n",
      "         [-9.6924e-03,  3.3655e-03, -5.6609e-02,  ...,  5.5369e-01,\n",
      "           3.7427e-01,  3.8280e-01],\n",
      "         [-2.7494e-02,  4.1028e-02,  1.4235e-01,  ...,  6.6953e-02,\n",
      "          -4.1719e-02, -1.3990e-01],\n",
      "         [-2.1678e-01, -1.6458e-01, -3.4064e-01,  ...,  5.5512e-02,\n",
      "           6.8632e-02, -1.6972e-01]],\n",
      "\n",
      "        [[ 5.0782e-04, -2.1161e-03, -3.0048e-03,  ..., -8.7383e-03,\n",
      "           1.4041e-02,  1.9127e-02],\n",
      "         [-1.6529e-02,  1.0517e-02, -9.4383e-03,  ...,  5.8618e-01,\n",
      "           3.5525e-01,  1.7170e-01],\n",
      "         [-8.8153e-03, -1.7020e-02, -3.3896e-02,  ...,  5.6964e-02,\n",
      "          -1.9937e-02, -3.6695e-02],\n",
      "         [ 6.6352e-03,  1.2631e-02,  3.1958e-03,  ..., -6.7358e-03,\n",
      "          -9.4910e-03,  4.1320e-03]],\n",
      "\n",
      "        [[ 3.4471e-03, -2.8309e-03, -1.6152e-04,  ..., -1.1097e-02,\n",
      "           9.2070e-03,  1.5209e-02],\n",
      "         [-8.9805e-03,  2.3968e-02,  1.6891e-02,  ...,  5.8365e-01,\n",
      "           2.9191e-01,  1.1311e-01],\n",
      "         [ 5.4019e-03, -4.3233e-02, -7.4964e-02,  ...,  7.6938e-02,\n",
      "           5.9130e-03,  1.6722e-02],\n",
      "         [ 3.1838e-02,  5.5610e-02,  5.9699e-02,  ..., -1.1672e-02,\n",
      "          -3.9315e-03, -5.3641e-04]],\n",
      "\n",
      "        ...,\n",
      "\n",
      "        [[-7.3425e-02, -5.4203e-02, -4.3977e-02,  ..., -9.2338e-02,\n",
      "          -7.1340e-02, -5.5878e-02],\n",
      "         [ 4.5345e-02,  4.1751e-02,  7.7057e-02,  ...,  4.8189e-01,\n",
      "           3.2781e-01,  2.4496e-01],\n",
      "         [ 4.2336e-02, -2.1123e-02, -2.1391e-02,  ...,  8.8720e-02,\n",
      "           5.8028e-02,  2.2674e-02],\n",
      "         [-1.1507e-02, -5.5093e-02, -5.0962e-02,  ..., -4.9710e-02,\n",
      "          -2.5427e-02, -2.4092e-02]],\n",
      "\n",
      "        [[-2.2533e-02, -7.3127e-05, -9.1448e-03,  ..., -5.1601e-02,\n",
      "          -3.0692e-02, -1.9822e-02],\n",
      "         [ 1.4450e-03, -1.0124e-02, -1.5203e-02,  ..., -2.9767e-01,\n",
      "          -1.7344e-01, -6.7563e-02],\n",
      "         [ 1.9254e-02,  1.2984e-02,  2.1751e-02,  ...,  2.3855e-02,\n",
      "           8.4560e-02,  6.5762e-02],\n",
      "         [ 2.9020e-02, -2.5135e-02, -5.2744e-03,  ..., -8.4343e-03,\n",
      "           1.2168e-02,  8.8647e-03]],\n",
      "\n",
      "        [[ 2.2455e-03, -8.7141e-03,  4.2538e-03,  ...,  1.3252e-02,\n",
      "           2.6082e-02,  6.6864e-03],\n",
      "         [-1.1506e-02,  2.1930e-02,  3.3079e-03,  ...,  5.2374e-01,\n",
      "           2.5194e-01,  8.8781e-02],\n",
      "         [ 1.8472e-03,  1.7534e-03, -2.1435e-03,  ..., -1.0012e-02,\n",
      "          -3.8013e-02, -5.7818e-02],\n",
      "         [-1.0063e-02, -1.4820e-02, -3.8839e-02,  ..., -9.9621e-03,\n",
      "           3.4160e-03, -1.8010e-02]]])), ('conv1.bias', tensor([ -6.5888,  -1.7804,  -2.8283,  -1.9983,   0.2956,   1.6711,   0.7370,\n",
      "        -13.2962,  -4.9573,   2.6222,   0.7923, -10.2367,  -1.4182,   0.6535,\n",
      "          0.1945, -10.8960, -17.2438,  -7.5035,  -2.7137,  -3.1582,  -3.3613,\n",
      "          0.8172, -16.4413,  -6.6126,  -5.1466])), ('conv2.weight', tensor([[[-3.2850e-03,  2.6130e-03, -4.0057e-04, -5.0552e-03, -8.0113e-03],\n",
      "         [ 1.0529e-02, -1.2918e-02, -2.3489e-01, -4.5463e-02,  1.0248e-02],\n",
      "         [ 5.9345e-03, -7.3386e-03, -2.6865e-01,  2.3372e-02,  9.4502e-03],\n",
      "         [ 1.2085e-02, -1.6773e-01, -2.2927e-01,  1.4539e-02,  6.2955e-03],\n",
      "         [ 2.3508e-03,  8.4022e-03,  2.0252e-02, -2.2327e-01, -2.9722e-01],\n",
      "         [-4.1655e-03, -8.9033e-03, -1.3351e-02, -1.2020e-02, -4.4438e-03],\n",
      "         [ 1.1573e-02, -1.9582e-02, -3.5986e-01, -7.0578e-02,  1.4759e-02],\n",
      "         [-7.3155e-03,  3.1901e-02,  3.3369e-02,  3.2162e-02,  6.4077e-02],\n",
      "         [ 2.8736e-03, -6.5552e-03, -1.3217e-02, -1.1692e-02, -1.3361e-03],\n",
      "         [-2.1181e-03, -5.9095e-03, -1.0016e-02, -1.1213e-02, -6.9018e-03],\n",
      "         [ 1.2839e-02, -3.4285e-02, -3.6752e-01, -5.0234e-02,  1.3793e-02],\n",
      "         [-1.0939e-02, -7.7359e-03,  4.3453e-03,  1.1772e-03, -2.9126e-03],\n",
      "         [ 1.5648e-04, -4.9192e-03, -9.0487e-03, -8.1918e-03, -1.8380e-03],\n",
      "         [ 1.1640e-02, -7.0968e-02, -3.6484e-01, -1.1915e-02,  1.1712e-02],\n",
      "         [ 7.3280e-03,  1.2721e-02, -2.1491e-01, -3.0414e-01,  1.3841e-02],\n",
      "         [ 5.5472e-04,  8.2856e-04,  1.2971e-03,  1.5732e-03,  2.0810e-03],\n",
      "         [ 1.7479e-02,  5.1869e-02,  2.9266e-02,  3.3809e-02,  5.2586e-02],\n",
      "         [ 9.1516e-03,  3.4303e-02, -2.6708e-01,  7.8940e-02,  1.1554e-02],\n",
      "         [-2.4638e-03, -1.0548e-03, -7.8848e-03, -1.0720e-02, -8.5109e-03],\n",
      "         [ 1.1280e-02, -1.2638e-01, -2.3546e-01,  1.7436e-02,  6.5521e-03],\n",
      "         [ 8.7341e-03, -8.0927e-02, -2.1693e-01,  1.5409e-02,  7.4700e-03],\n",
      "         [ 1.2464e-02, -3.0690e-02, -3.6332e-01, -5.3457e-02,  1.3675e-02],\n",
      "         [ 2.7511e-02,  3.0925e-02,  2.3932e-02,  3.6315e-02,  4.0186e-02],\n",
      "         [-1.3091e-02, -2.0555e-02, -1.0966e-02,  1.3774e-05,  8.3133e-03],\n",
      "         [ 1.1678e-02,  3.4258e-02, -1.4159e-01, -9.4860e-02,  5.0446e-03]]])), ('conv2.bias', tensor([0.1492])), ('fc1.weight', tensor([[ 0.0026, -0.1452, -0.1035,  ..., -0.1093, -0.1343, -0.0651],\n",
      "        [-0.0235, -0.1630, -0.1300,  ..., -0.1442, -0.1717, -0.1006],\n",
      "        [-0.0201, -0.1991, -0.1717,  ..., -0.1434, -0.1670, -0.0883],\n",
      "        ...,\n",
      "        [-0.0972,  0.0093,  0.0116,  ..., -0.0995,  0.0250,  0.1101],\n",
      "        [-0.0798,  0.0117,  0.0127,  ..., -0.1041,  0.0189,  0.0953],\n",
      "        [-0.0588,  0.0146,  0.0133,  ..., -0.1083,  0.0120,  0.0820]])), ('fc1.bias', tensor([0.3203, 0.4029, 0.4842,  ..., 0.9143, 0.9295, 0.9406])), ('hist_conv1.weight', tensor([[[-1.4311e-01,  1.5651e-01, -1.2927e-01, -1.0294e-01, -1.2458e-01,\n",
      "          -1.8439e-01, -2.2017e-02, -8.0438e-02,  3.3007e-01,  2.7679e-01,\n",
      "           3.2747e-01, -1.3639e-01, -3.7960e-01, -4.0819e-01, -7.1870e-02,\n",
      "          -2.0516e-01,  2.5590e-01,  1.9862e-01,  8.8192e-03, -2.2239e-02,\n",
      "           2.5430e-01,  1.9136e-01,  1.8856e-01,  2.7911e-01, -3.0228e-02]],\n",
      "\n",
      "        [[ 4.1407e-02,  9.7959e-02, -8.4563e-02, -3.6084e-01, -2.1675e-01,\n",
      "          -1.6330e-01,  6.4449e-04, -4.2449e-02,  2.5323e-01,  2.7119e-01,\n",
      "           4.6463e-01,  1.4769e-01, -2.9788e-01, -1.6902e-01,  1.3771e-01,\n",
      "           1.4323e-01,  2.3764e-01,  2.8557e-01, -9.9912e-02, -6.6383e-02,\n",
      "          -5.5297e-02, -1.1650e-01, -2.5422e-01, -1.9025e-02,  3.7848e-02]],\n",
      "\n",
      "        [[ 4.2936e-01,  4.1423e-01, -5.8880e-03, -1.7197e-01, -1.3303e-01,\n",
      "          -3.2593e-01, -4.4112e-01,  1.1389e-01,  6.2917e-02,  4.9900e-01,\n",
      "           3.1940e-01, -3.3795e-01, -1.7094e-01, -2.3923e-01, -1.8971e-03,\n",
      "           1.2919e-01, -9.0969e-02,  7.9070e-02,  7.0566e-02, -1.3271e-01,\n",
      "          -1.3933e-01, -7.8180e-02, -1.0571e-01,  2.0636e-01, -1.3396e-01]],\n",
      "\n",
      "        [[-4.6099e-03, -1.7095e-01,  1.1096e-01,  1.2584e-01, -8.7119e-02,\n",
      "           1.7423e-01,  2.3462e-01, -1.3461e-01, -8.4331e-02,  1.1852e-01,\n",
      "           1.5475e-02,  3.1086e-01,  4.2250e-01,  1.2848e-01,  9.2658e-02,\n",
      "          -3.6970e-02, -1.0700e-02, -3.0872e-01, -2.4447e-01, -3.5174e-01,\n",
      "          -6.8767e-01, -7.8887e-01, -9.8897e-01, -1.0427e+00, -1.5214e+00]],\n",
      "\n",
      "        [[ 4.3524e-01, -1.2317e-01, -1.9322e-01, -3.0212e-01,  1.6539e-02,\n",
      "           5.8301e-01,  1.3709e-01, -1.9695e-01, -6.4264e-01,  8.8992e-02,\n",
      "           3.9868e-01,  5.9861e-02, -2.0060e-01, -3.4464e-01, -1.4200e-01,\n",
      "           2.5844e-01, -1.2157e-01, -3.5708e-02,  1.9922e-01, -1.1334e-01,\n",
      "          -2.2413e-02,  8.1460e-02,  4.7276e-02,  1.3476e-01, -5.3260e-02]],\n",
      "\n",
      "        [[ 4.7635e-01,  3.4914e-01, -5.7504e-02, -2.7221e-01, -3.9938e-01,\n",
      "          -2.7167e-01, -6.0073e-01, -2.1719e-01,  5.3878e-01,  8.7971e-01,\n",
      "           4.0233e-01, -3.1336e-01, -5.0238e-01, -1.2077e-01, -2.4727e-01,\n",
      "          -9.8656e-02,  3.7098e-01,  3.0241e-01,  2.8217e-01, -2.0371e-01,\n",
      "          -2.6468e-01, -1.1284e-01, -1.5990e-01,  7.2348e-02,  2.0282e-01]],\n",
      "\n",
      "        [[ 5.3300e-01,  5.7483e-01,  2.7109e-01,  3.4135e-01, -1.7694e-01,\n",
      "          -2.2428e-01, -9.4532e-02, -3.5501e-01, -3.3754e-01, -4.0409e-01,\n",
      "          -3.5376e-01, -3.7992e-01, -3.0747e-01, -1.8356e-01,  2.6497e-01,\n",
      "           2.1341e-01,  1.5037e-01, -8.1459e-02, -1.9423e-01, -2.0368e-01,\n",
      "           1.3803e-01,  9.3587e-02,  1.9833e-01,  1.4496e-01,  4.0795e-01]],\n",
      "\n",
      "        [[ 8.7185e-01,  4.0522e-01, -1.1962e-02, -2.8659e-01, -3.6951e-01,\n",
      "          -4.7971e-01,  9.6502e-03,  1.9331e-01,  2.2852e-01, -1.5767e-01,\n",
      "          -3.8383e-01, -4.5298e-01, -2.1320e-02,  2.5658e-01,  3.0632e-01,\n",
      "           2.8696e-01, -6.3900e-02,  9.3312e-02, -2.4345e-02, -1.0849e-01,\n",
      "           2.1050e-01, -3.7595e-02,  2.1672e-01, -2.3169e-01, -4.7794e-01]],\n",
      "\n",
      "        [[ 6.9614e-03, -3.8506e-02, -6.3843e-02,  3.4913e-01,  2.3645e-01,\n",
      "          -1.3825e-01, -2.9745e-01, -4.2701e-01, -4.6128e-01, -2.5186e-01,\n",
      "           3.8769e-01,  5.5817e-01,  6.1164e-01,  4.9888e-01,  2.1180e-02,\n",
      "          -3.6252e-01, -4.2200e-01, -1.9341e-01, -2.5022e-01, -5.0962e-01,\n",
      "           9.7729e-02,  3.6482e-01,  1.8209e-01,  1.9157e-01, -7.0972e-02]],\n",
      "\n",
      "        [[ 3.9339e-02, -1.5689e-01, -1.6313e-01,  9.7030e-02,  2.4603e-01,\n",
      "           6.2057e-01,  4.3872e-01, -5.4907e-02, -2.7102e-01, -6.2572e-01,\n",
      "          -1.8298e-01, -1.2116e-01, -2.3869e-01, -4.8900e-01, -3.6129e-02,\n",
      "           8.1669e-02,  3.6430e-01,  5.5951e-01,  1.7612e-01, -6.5976e-02,\n",
      "           1.1357e-02, -1.9090e-01, -3.4443e-01,  1.8646e-01,  1.6592e-01]],\n",
      "\n",
      "        [[-9.8537e-01, -1.0074e+00, -8.7617e-01, -8.3274e-01, -6.4301e-01,\n",
      "          -2.9787e-01, -1.6275e-01, -1.2711e-01, -1.5880e-01,  7.2889e-02,\n",
      "           1.2222e-01,  2.6496e-01,  4.5068e-01,  1.5586e-01,  2.5384e-01,\n",
      "           3.5924e-02,  1.7894e-01,  2.0251e-01,  1.3409e-01,  2.6387e-02,\n",
      "          -1.6957e-01,  1.1410e-02, -1.3124e-01, -2.0480e-01, -3.7428e-01]],\n",
      "\n",
      "        [[ 7.6823e-01,  2.0708e-01,  2.1372e-01,  7.4062e-03, -2.3018e-01,\n",
      "          -2.0618e-01, -3.0461e-02, -2.3722e-01, -2.8283e-01, -3.8308e-01,\n",
      "          -4.2114e-02,  1.2767e-02,  1.1758e-01, -8.2138e-02,  2.1442e-01,\n",
      "           1.0893e-01,  4.2762e-02, -1.6139e-01,  1.2324e-01, -9.7002e-02,\n",
      "          -7.8452e-02,  6.3558e-03, -8.5351e-03,  1.1377e-01, -7.6477e-02]],\n",
      "\n",
      "        [[-6.2195e-01, -2.8703e-01, -4.0906e-03,  5.4664e-01,  2.8846e-01,\n",
      "          -1.4885e-01, -8.6715e-02,  5.0334e-01,  4.4693e-01, -3.8220e-01,\n",
      "          -3.6751e-01, -3.6288e-01, -1.9932e-01,  1.6879e-01, -5.7895e-03,\n",
      "           1.2381e-01,  1.1898e-01, -1.5274e-01, -6.0485e-03, -1.4985e-01,\n",
      "          -2.2879e-02,  1.7182e-01,  1.3028e-01,  1.1198e-01, -4.6321e-01]],\n",
      "\n",
      "        [[-1.2682e-02, -2.6986e-02,  2.2975e-02, -1.0056e-01, -3.3689e-01,\n",
      "          -2.2197e-01, -4.1949e-01, -9.0033e-02,  7.0520e-02,  7.3789e-01,\n",
      "           1.0227e+00,  4.9843e-01, -2.0897e-02, -3.4145e-01, -2.4220e-01,\n",
      "          -9.7282e-02, -9.0761e-02, -6.3397e-02, -9.4777e-02, -1.1762e-01,\n",
      "          -1.3631e-02, -1.5412e-03,  6.6366e-02,  1.1793e-01, -1.6155e-01]],\n",
      "\n",
      "        [[ 6.8018e-01,  4.9712e-01, -4.7607e-01, -8.0811e-01, -6.3059e-01,\n",
      "          -7.0673e-01, -2.9503e-01,  6.8874e-01,  3.4661e-01, -3.2068e-02,\n",
      "           1.1390e-01, -3.7188e-02, -1.4637e-01,  5.7097e-02,  1.4878e-01,\n",
      "           3.7250e-03, -1.0347e-01,  7.5501e-03, -1.5470e-01, -3.6757e-03,\n",
      "          -1.0526e-01,  1.4353e-01,  5.7343e-02,  7.4554e-02, -1.2954e-01]],\n",
      "\n",
      "        [[ 3.6871e-01,  1.0817e-01, -1.4854e-01, -1.8318e-01, -1.6575e-01,\n",
      "          -5.2772e-01,  2.8966e-02, -2.6828e-01, -3.7892e-01, -1.3169e-01,\n",
      "           8.8323e-02,  4.2032e-01,  4.3355e-01,  2.1409e-01,  1.6171e-01,\n",
      "          -1.1734e-01, -3.3677e-01, -4.0605e-01, -8.5846e-01, -5.8952e-01,\n",
      "          -7.1877e-02,  3.6251e-01,  7.8466e-01,  5.2046e-01,  4.5877e-01]],\n",
      "\n",
      "        [[-5.2516e-01, -4.0848e-01, -2.7114e-01,  1.0597e-01,  2.9107e-01,\n",
      "           3.0588e-01,  4.2858e-01,  3.0315e-01,  2.1039e-01,  2.1441e-01,\n",
      "           1.1882e-01,  1.7765e-01, -6.6196e-02, -2.6077e-01, -2.5272e-01,\n",
      "          -3.2054e-01, -1.0748e-01, -9.0354e-02,  4.2822e-02,  7.1097e-02,\n",
      "           1.7382e-01, -5.4291e-02, -7.7693e-02,  1.1234e-01,  3.7955e-02]],\n",
      "\n",
      "        [[-1.7023e-02,  1.4169e-01,  2.4866e-02,  1.3082e-01, -6.0097e-02,\n",
      "          -1.5792e-01, -1.4304e-01,  4.0195e-02,  1.8295e-01,  2.4769e-01,\n",
      "           6.3389e-02, -4.2714e-02, -3.1755e-01, -4.2699e-01, -2.0563e-01,\n",
      "           1.4630e-02, -6.1822e-02, -3.0576e-01, -3.4723e-01,  2.4006e-01,\n",
      "           3.1576e-01,  6.8439e-01,  3.3948e-01, -9.8367e-03, -1.0349e-01]],\n",
      "\n",
      "        [[-1.8156e-01, -4.7390e-01, -1.1650e-01,  3.7509e-01,  6.8553e-01,\n",
      "           5.8327e-01, -7.8742e-02, -6.1119e-01, -4.3069e-01, -1.4397e-01,\n",
      "           7.0136e-02,  4.2969e-01,  1.2752e-01, -5.3289e-02, -1.4125e-01,\n",
      "           2.5335e-02, -6.6651e-02, -1.2593e-01, -1.8149e-01,  5.8919e-02,\n",
      "           2.5896e-01,  1.7696e-01,  7.0226e-02, -1.5894e-02, -2.4184e-01]],\n",
      "\n",
      "        [[-4.7266e-01, -5.3200e-01,  2.7493e-01,  7.1082e-01,  8.7704e-01,\n",
      "           1.7653e-01, -2.0224e-01, -7.0076e-01, -2.4753e-01,  1.4228e-02,\n",
      "           6.1947e-02,  3.9178e-02,  1.9615e-02,  3.7843e-02,  4.0767e-03,\n",
      "          -7.3432e-02,  4.8316e-02,  7.7319e-02, -1.2608e-01,  1.2243e-01,\n",
      "          -9.9818e-02, -1.1725e-01,  9.3118e-02,  1.4366e-01, -1.1203e-01]]])), ('hist_conv1.bias', tensor([-0.1242, -0.2404,  0.0173,  0.0180,  0.0063,  0.0007,  0.0323,  0.0124,\n",
      "         0.0016,  0.0061, -0.0024, -0.0763,  0.0369, -0.0368,  0.0240,  0.0250,\n",
      "        -0.1811, -0.0227, -0.0059, -0.0022])), ('hist_conv2.weight', tensor([[[ 2.5055e-02,  2.8487e-02,  5.0830e-02,  ..., -3.0280e-02,\n",
      "          -2.3494e-01, -5.1733e-01],\n",
      "         [-3.7976e-01, -1.6336e-01, -2.6085e-01,  ..., -1.3391e-01,\n",
      "          -3.3605e-01, -5.1247e-01],\n",
      "         [-8.5036e-01,  1.5579e-01,  4.0715e-01,  ..., -4.5962e-02,\n",
      "           8.3280e-02,  3.6917e-01],\n",
      "         ...,\n",
      "         [ 1.1387e-01,  1.0869e-01,  4.7370e-02,  ..., -1.4303e-01,\n",
      "          -2.3091e-01, -4.3481e-01],\n",
      "         [ 1.7574e-02,  1.1719e-01,  6.9866e-02,  ..., -1.7922e+00,\n",
      "          -1.5954e+00, -3.3221e-02],\n",
      "         [ 2.1103e-01,  5.1837e-02,  1.7538e-01,  ..., -2.1146e-01,\n",
      "          -8.7709e-01, -2.7956e-01]],\n",
      "\n",
      "        [[-1.8546e+00, -1.4737e+00, -1.1696e+00,  ..., -1.4730e-01,\n",
      "          -5.2855e-01, -7.6647e-01],\n",
      "         [ 1.8315e-01,  1.1612e-01,  1.6312e-01,  ..., -5.7715e-02,\n",
      "          -1.1188e-01, -3.0975e-01],\n",
      "         [-2.0823e+00, -7.9692e-01, -2.9183e-01,  ..., -1.3449e-01,\n",
      "          -6.4369e-02,  2.5049e-02],\n",
      "         ...,\n",
      "         [ 2.3904e-01,  3.9904e-01,  4.0363e-01,  ...,  3.2194e-01,\n",
      "           2.0247e-01,  4.0018e-01],\n",
      "         [-4.7573e+00, -3.3137e+00, -1.9819e+00,  ...,  1.7563e-01,\n",
      "           2.2340e-01,  3.5016e-02],\n",
      "         [-1.7942e+00, -2.1375e-01,  1.4695e-01,  ...,  2.1938e-01,\n",
      "           2.0230e-01,  1.1751e-01]],\n",
      "\n",
      "        [[ 2.2447e-02,  7.8266e-03, -4.3149e-03,  ..., -2.1398e-01,\n",
      "          -3.6840e-01, -6.3543e-01],\n",
      "         [-3.2090e-01, -3.6622e-01, -3.6986e-01,  ..., -7.8597e-02,\n",
      "          -1.5698e-01, -4.1781e-01],\n",
      "         [-2.1003e+00, -1.1320e+00, -5.2989e-01,  ...,  4.1690e-02,\n",
      "          -1.0916e-01, -5.9584e-01],\n",
      "         ...,\n",
      "         [-1.3008e-02, -7.2500e-03,  1.8690e-02,  ..., -1.1460e-01,\n",
      "           3.1354e-02,  1.0241e+00],\n",
      "         [ 1.2574e-01,  1.0169e-02,  9.5060e-02,  ..., -7.1403e-04,\n",
      "          -2.1591e-02, -5.8859e-02],\n",
      "         [ 4.4245e-01, -1.8359e-01, -5.1120e-03,  ..., -6.5604e-03,\n",
      "           2.2170e-03, -7.5284e-02]],\n",
      "\n",
      "        ...,\n",
      "\n",
      "        [[-4.0934e-02, -9.9408e-03, -5.1221e-03,  ...,  2.3708e-02,\n",
      "          -2.9266e-02, -6.0733e-02],\n",
      "         [ 6.0226e-02,  2.5483e-02,  1.1713e-02,  ...,  3.8936e-02,\n",
      "           5.7656e-02,  3.4446e-01],\n",
      "         [-3.7441e-01, -1.9939e-01, -1.4138e-01,  ...,  7.3730e-02,\n",
      "           9.6828e-02, -1.5500e-01],\n",
      "         ...,\n",
      "         [ 3.4338e-02,  2.2847e-02,  9.4666e-04,  ...,  7.5038e-02,\n",
      "           6.9200e-02,  1.4109e-01],\n",
      "         [-3.9075e-02, -3.7155e-01, -3.5644e-01,  ..., -2.9650e-01,\n",
      "          -2.4223e-01,  5.2719e-02],\n",
      "         [ 5.9083e-01, -9.2814e-02, -2.3204e-01,  ..., -3.3374e-01,\n",
      "          -1.7367e-01,  1.0771e-01]],\n",
      "\n",
      "        [[ 1.7461e-01,  1.0104e-01,  5.7779e-02,  ..., -5.3166e-03,\n",
      "           1.4300e-02,  5.6557e-02],\n",
      "         [-1.6045e-01, -5.0568e-02, -2.4327e-02,  ...,  2.2658e-01,\n",
      "           2.3080e-01,  2.0203e-01],\n",
      "         [-2.1550e-02,  1.6877e-01,  1.5346e-01,  ...,  7.5960e-02,\n",
      "          -2.6828e-02,  2.6858e-02],\n",
      "         ...,\n",
      "         [-1.1290e-01, -5.3071e-02, -4.2296e-02,  ...,  2.1953e-02,\n",
      "           4.8925e-02,  2.3229e-01],\n",
      "         [ 2.8544e+00,  7.7757e-01,  6.6055e-01,  ..., -1.1167e+00,\n",
      "          -5.2713e-02,  4.1337e-01],\n",
      "         [ 1.9872e+00,  8.9787e-01,  4.5586e-01,  ..., -1.1753e+00,\n",
      "          -8.0864e-01, -6.7802e-01]],\n",
      "\n",
      "        [[ 1.5339e-01,  1.5134e-01,  5.9187e-02,  ..., -5.6833e-02,\n",
      "          -5.2424e-02, -1.2929e-01],\n",
      "         [-1.0704e-01, -1.4058e-01, -2.2255e-02,  ...,  3.2174e-02,\n",
      "           4.8236e-02,  9.0145e-02],\n",
      "         [-2.7514e-01, -1.7950e-02,  5.4396e-02,  ..., -6.2218e-02,\n",
      "           9.3018e-02, -1.3540e-02],\n",
      "         ...,\n",
      "         [-1.7342e-01, -1.4314e-01, -2.5206e-02,  ..., -3.3181e-02,\n",
      "          -6.8275e-02,  4.2351e-01],\n",
      "         [ 2.7445e-02, -1.9255e-01, -2.3223e-01,  ...,  1.8747e-01,\n",
      "          -1.3917e-01, -3.7123e-01],\n",
      "         [ 3.4420e-01,  1.1680e-01,  1.1396e-01,  ...,  3.0322e-01,\n",
      "          -3.6992e-02, -2.9860e-01]]])), ('hist_conv2.bias', tensor([-0.0449,  0.0316,  0.0721,  0.0141,  0.0214, -0.0066,  0.0927, -0.0099,\n",
      "        -0.0032,  0.0133])), ('hist_conv3.weight', tensor([[[ 5.5449e-01, -7.9624e-02, -4.4153e-01,  ..., -3.1188e-01,\n",
      "          -1.1230e-01, -1.8294e-02],\n",
      "         [ 5.2964e-01, -1.9509e-01,  1.6615e-02,  ..., -5.5594e-01,\n",
      "          -7.0699e-01,  4.3279e-01],\n",
      "         [ 4.2330e-01,  2.7740e-01,  3.2843e-01,  ...,  1.4246e-01,\n",
      "           6.7181e-01,  1.1820e+00],\n",
      "         ...,\n",
      "         [ 1.9251e+00,  9.7003e-01,  3.7736e-01,  ...,  3.5511e-01,\n",
      "           5.7063e-01,  2.1047e+00],\n",
      "         [-5.4409e-01, -5.5024e-01, -8.6900e-01,  ..., -3.0966e-01,\n",
      "           3.3036e-02,  1.4771e-01],\n",
      "         [ 6.7198e-01,  4.1920e-01,  6.8708e-01,  ...,  4.6781e-01,\n",
      "           5.1770e-01,  1.7841e+00]],\n",
      "\n",
      "        [[ 1.7821e-01,  2.3220e-01,  4.0534e-02,  ..., -1.3862e-01,\n",
      "          -1.2175e-01, -3.3933e-01],\n",
      "         [ 1.4304e+00,  6.5072e-01,  4.3401e-01,  ...,  4.9699e-02,\n",
      "          -5.9149e-02, -8.6021e-02],\n",
      "         [ 4.2671e-01,  8.3451e-02,  4.5253e-02,  ..., -3.3176e-02,\n",
      "           2.4198e-01,  6.3545e-01],\n",
      "         ...,\n",
      "         [ 7.9716e-01,  3.5227e-01,  1.7079e-01,  ..., -8.1239e-02,\n",
      "           2.0605e-01,  7.0983e-01],\n",
      "         [-1.2248e-01, -8.3938e-02, -9.6848e-03,  ..., -3.8360e-04,\n",
      "           1.3620e-02, -1.7727e-01],\n",
      "         [ 9.9431e-01,  5.4060e-01,  2.4384e-01,  ...,  5.8897e-01,\n",
      "           8.1435e-01,  1.3631e+00]],\n",
      "\n",
      "        [[ 3.9999e-01, -8.1872e-02, -1.6239e-01,  ...,  1.4028e-02,\n",
      "          -1.2759e-02, -8.7513e-02],\n",
      "         [-1.2168e-02, -1.7008e-01, -9.4781e-02,  ...,  1.4577e-01,\n",
      "           1.5173e-01,  5.4780e-01],\n",
      "         [-5.6465e-01, -1.9812e-01, -5.8493e-02,  ...,  2.9258e-01,\n",
      "           9.1632e-01,  1.4014e+00],\n",
      "         ...,\n",
      "         [ 1.2420e+00,  2.6546e-01,  2.7695e-02,  ..., -5.2228e-01,\n",
      "          -5.3489e-02,  1.5571e+00],\n",
      "         [-1.8494e-01, -7.4182e-01, -1.0707e+00,  ..., -4.0436e-02,\n",
      "          -8.7733e-02, -1.3546e-01],\n",
      "         [ 5.2779e-01,  7.6216e-01,  5.5578e-01,  ..., -1.7332e-01,\n",
      "          -1.9024e-01,  4.3475e-01]],\n",
      "\n",
      "        ...,\n",
      "\n",
      "        [[ 2.0969e-01, -1.1810e-01, -4.0144e-02,  ...,  2.5630e-01,\n",
      "           6.9312e-02, -5.6751e-01],\n",
      "         [ 9.2685e-01, -1.4885e-01, -2.3195e-01,  ..., -1.3964e-01,\n",
      "           5.0768e-01,  2.9693e-01],\n",
      "         [ 1.6223e+00,  1.5690e-03,  7.4983e-02,  ..., -2.1310e-01,\n",
      "           2.4009e-01,  4.7932e-01],\n",
      "         ...,\n",
      "         [ 5.2857e-02, -9.8335e-01, -1.0866e+00,  ..., -1.0933e-01,\n",
      "          -1.5796e-01, -8.6045e-02],\n",
      "         [-8.4510e-01, -5.8741e-01, -5.9777e-01,  ..., -7.3827e-02,\n",
      "          -1.0936e-01, -2.5178e-01],\n",
      "         [ 2.0812e+00,  3.5009e-01,  8.1727e-01,  ...,  5.1549e-01,\n",
      "          -1.6087e-01,  9.7547e-01]],\n",
      "\n",
      "        [[ 2.2859e-01,  1.8261e-01,  5.6596e-03,  ...,  3.2310e-02,\n",
      "           9.3551e-03, -2.2854e-01],\n",
      "         [-1.7415e+00, -9.1430e-01, -2.4487e-01,  ...,  9.0133e-01,\n",
      "           4.4066e-01, -7.8867e-01],\n",
      "         [-4.4115e-01, -3.8011e-02,  9.3291e-02,  ..., -2.6986e-01,\n",
      "          -3.6538e-01,  2.8111e-01],\n",
      "         ...,\n",
      "         [-3.2270e-01, -6.8807e-02, -1.2718e-01,  ...,  2.6140e-01,\n",
      "           4.3586e-01,  8.3816e-01],\n",
      "         [ 2.0643e-01,  2.3206e-02,  7.1460e-02,  ...,  1.1029e-03,\n",
      "          -1.9253e-02, -1.8729e-02],\n",
      "         [-1.1043e+00, -7.9198e-01, -5.4452e-01,  ..., -1.0001e+00,\n",
      "          -3.3315e-01,  1.0022e+00]],\n",
      "\n",
      "        [[ 5.8596e-01,  9.7657e-02,  2.8048e-01,  ...,  7.4248e-03,\n",
      "           9.0372e-03,  1.9739e-01],\n",
      "         [ 3.0588e-03, -1.1880e-03,  3.4088e-02,  ...,  4.1248e-01,\n",
      "          -1.0480e+00, -1.7847e+00],\n",
      "         [ 1.1046e+00,  3.6857e-01,  3.0853e-01,  ..., -2.1325e-02,\n",
      "          -5.9621e-02,  6.7619e-01],\n",
      "         ...,\n",
      "         [ 1.4262e-01,  2.9367e-01,  3.0095e-02,  ...,  1.3103e-01,\n",
      "           1.7403e-01,  6.2974e-01],\n",
      "         [-1.9441e+00, -1.2370e+00, -3.5309e-01,  ...,  1.0254e-03,\n",
      "          -1.4769e-03, -1.5646e-02],\n",
      "         [ 2.1590e-01,  2.6555e-01,  2.1985e-01,  ...,  3.7707e-01,\n",
      "           5.2528e-02, -6.0700e-01]]])), ('hist_conv3.bias', tensor([ 0.1590,  0.0997,  0.2029,  0.0620,  0.1100,  0.1758,  0.0589,  0.2031,\n",
      "         0.1631, -0.2303])), ('hist_conv4.weight', tensor([[[-8.8146e-02, -5.2432e-02,  7.8411e-02,  ..., -2.3414e-01,\n",
      "          -1.8661e-01,  5.8322e-01],\n",
      "         [ 2.4334e-02,  8.1525e-02,  1.1600e-01,  ...,  4.5023e-03,\n",
      "           7.0728e-02,  1.8185e-01],\n",
      "         [-3.5651e-01, -1.2091e-01,  7.5150e-02,  ...,  1.8756e-01,\n",
      "          -3.8834e-02, -1.1301e-01],\n",
      "         ...,\n",
      "         [-1.4510e+00, -1.1001e+00, -7.4579e-01,  ...,  9.2878e-01,\n",
      "           1.8147e+00, -9.4191e-02],\n",
      "         [ 2.1277e-01,  1.9743e-01,  1.3821e-01,  ...,  7.2052e-02,\n",
      "           1.4714e-01,  2.4519e-02],\n",
      "         [ 1.1303e-01,  1.0309e-01, -5.0660e-02,  ..., -2.4896e-01,\n",
      "           3.0629e-01,  1.0801e+00]],\n",
      "\n",
      "        [[-1.7617e-01, -1.5812e-01, -6.8920e-02,  ...,  6.4762e-02,\n",
      "           3.2063e-02, -2.2408e-01],\n",
      "         [ 1.0088e-02, -2.4747e-02, -1.1242e-01,  ..., -1.5609e-01,\n",
      "          -4.3201e-01, -4.5297e-01],\n",
      "         [-1.3721e-01, -7.4870e-02, -1.4933e-02,  ...,  9.5556e-02,\n",
      "           1.2439e-01,  1.9238e-01],\n",
      "         ...,\n",
      "         [-2.0891e-01, -9.1685e-02,  9.8348e-03,  ..., -3.4897e-01,\n",
      "          -4.3637e-01,  1.1155e+00],\n",
      "         [-4.5342e-01, -1.2818e-01, -1.8636e-03,  ...,  1.5537e-02,\n",
      "           1.5301e-02,  9.2342e-02],\n",
      "         [ 1.4282e-02, -1.1184e-02, -2.5212e-02,  ...,  1.1026e-01,\n",
      "          -1.5455e-01, -1.0752e-02]],\n",
      "\n",
      "        [[-1.7823e-01, -6.3318e-02, -2.8451e-02,  ..., -1.2664e-02,\n",
      "           3.2901e-01,  2.9653e-02],\n",
      "         [-1.1658e-03,  9.7442e-03,  8.8252e-03,  ..., -1.3108e+00,\n",
      "          -1.4048e+00, -6.4091e-01],\n",
      "         [-3.9541e-03,  2.3864e-02, -1.1051e-02,  ..., -4.5297e-01,\n",
      "          -4.0270e-02,  4.3014e-01],\n",
      "         ...,\n",
      "         [-1.9356e-01, -7.8027e-02, -9.3232e-02,  ..., -5.6924e-02,\n",
      "          -2.6056e-01,  5.4619e-01],\n",
      "         [-3.9783e-02, -4.6808e-01, -6.7384e-01,  ..., -2.9026e-02,\n",
      "          -2.6668e-02,  1.3816e-02],\n",
      "         [-8.9961e-02, -2.5468e-02,  8.8458e-04,  ..., -4.9425e-02,\n",
      "          -4.6490e-02,  8.5343e-02]],\n",
      "\n",
      "        ...,\n",
      "\n",
      "        [[-3.6624e-02,  5.0507e-03, -9.9377e-03,  ...,  8.5508e-02,\n",
      "          -3.4230e-02,  2.3189e-01],\n",
      "         [-4.2867e-02,  2.6641e-03, -9.7777e-03,  ...,  1.4017e-01,\n",
      "           1.0933e-02, -2.1099e-01],\n",
      "         [ 7.3171e-02,  4.0023e-02,  6.0801e-02,  ...,  6.7286e-02,\n",
      "          -1.5845e-02, -1.3619e-01],\n",
      "         ...,\n",
      "         [-3.3100e-01, -1.1302e-01, -5.6654e-02,  ...,  2.0012e-01,\n",
      "           2.9845e-01,  6.1549e-01],\n",
      "         [-5.9136e-01, -9.7713e-01, -8.1663e-01,  ...,  1.3161e-02,\n",
      "          -2.2015e-03,  7.1746e-03],\n",
      "         [-8.5269e-01, -6.1199e-01, -3.8617e-01,  ..., -1.5996e-01,\n",
      "          -6.1599e-02,  9.4028e-02]],\n",
      "\n",
      "        [[-5.2476e-01, -3.8358e-01, -1.3072e-01,  ..., -6.1458e-02,\n",
      "          -1.7847e-01, -5.3408e-01],\n",
      "         [-2.7499e-01, -1.9426e-01,  3.4503e-02,  ...,  1.1296e-01,\n",
      "           2.1987e-01,  2.5966e-01],\n",
      "         [-3.5212e-01, -1.5833e-01, -3.8566e-02,  ...,  1.0263e-01,\n",
      "           1.4285e-01, -7.9326e-02],\n",
      "         ...,\n",
      "         [-1.8443e+00, -1.5648e+00, -9.7725e-01,  ...,  2.8699e-01,\n",
      "           1.6556e+00,  1.7585e+00],\n",
      "         [ 3.0159e-01,  1.3854e-01,  2.6408e-02,  ..., -7.0312e-02,\n",
      "           4.5872e-02,  2.0658e-01],\n",
      "         [-2.1526e-01, -8.4055e-02, -7.1844e-02,  ..., -7.8044e-01,\n",
      "           1.2796e-02,  1.0176e+00]],\n",
      "\n",
      "        [[-3.2033e-01, -2.0276e-01, -1.5627e-01,  ..., -3.6570e-01,\n",
      "          -3.5603e-01,  2.3500e-01],\n",
      "         [-1.2572e-01, -7.1944e-02,  8.1975e-03,  ..., -4.7958e-02,\n",
      "           5.0868e-02,  3.9224e-01],\n",
      "         [-2.7619e-01,  3.3700e-04,  2.0284e-01,  ...,  1.9925e-01,\n",
      "           1.0782e-01,  4.0028e-02],\n",
      "         ...,\n",
      "         [-6.7975e-01, -5.0051e-01, -3.2069e-01,  ...,  8.3897e-01,\n",
      "           1.1625e+00, -1.5355e-01],\n",
      "         [ 5.3720e-01,  1.8367e-01,  3.0894e-02,  ...,  9.9545e-02,\n",
      "           1.5006e-01, -7.7837e-02],\n",
      "         [ 4.6166e-02,  2.1372e-02, -3.7784e-02,  ..., -3.2728e-02,\n",
      "           2.5597e-01,  7.8472e-01]]])), ('hist_conv4.bias', tensor([0.3149, 0.5582, 0.5709, 0.3280, 0.0273, 0.2446, 0.1293, 0.4202, 0.3913,\n",
      "        0.4582])), ('hist_conv5.weight', tensor([[[-0.0798, -0.6190, -1.0320, -0.7626, -0.0359],\n",
      "         [-0.1793,  0.0747,  0.1954,  0.0848,  0.2255],\n",
      "         [ 0.2462,  0.1285,  0.0418,  0.0303,  0.1750],\n",
      "         [-0.0602, -0.8472, -0.8972, -0.5272, -0.0313],\n",
      "         [ 1.8131,  0.8011,  0.4838,  0.0554, -0.1255],\n",
      "         [-0.0431, -1.8152, -2.1714, -1.3371, -0.0156],\n",
      "         [-0.8372, -0.7001, -0.2582, -0.0046,  0.0216],\n",
      "         [ 0.3895,  0.1679,  0.0766, -0.0456,  0.0519],\n",
      "         [-0.7789, -1.0793, -0.8054, -0.0328,  0.0333],\n",
      "         [-0.0263, -1.8564, -2.0595, -1.7016, -0.0170]]])), ('hist_conv5.bias', tensor([0.2619])), ('hist_fc1.weight', tensor([[ 0.0079,  0.0279,  0.0318,  ...,  0.1262,  0.1322,  0.1182],\n",
      "        [-0.0094,  0.0299,  0.0447,  ...,  0.1419,  0.1288,  0.1236],\n",
      "        [-0.0210,  0.0233,  0.0090,  ...,  0.1341,  0.1335,  0.1017],\n",
      "        ...,\n",
      "        [ 0.0101,  0.0243,  0.0411,  ...,  0.1340,  0.1327,  0.1050],\n",
      "        [-0.0151,  0.0278,  0.0303,  ...,  0.1314,  0.1370,  0.1039],\n",
      "        [-0.0159,  0.0221,  0.0440,  ...,  0.1260,  0.1421,  0.1186]])), ('hist_fc1.bias', tensor([-0.3381, -0.3307, -0.3310,  ..., -0.3336, -0.3161, -0.3353]))])\n"
     ]
    }
   ],
   "source": [
    "## want to look at all three dictionaries to start:\n",
    "##  t2kde\n",
    "##  kde2hists\n",
    "##  t2hists\n",
    "## the plan is to (initially) copy weights from separate dictionaries into th t2hists dictionary\n",
    "\n",
    "##   ML -> /share/lazy/sokoloff/ML\n",
    "model_t2kde_dict = model_t2kde.state_dict()\n",
    "## mds 190725 for debugging\n",
    "print(\"for model_t2kde_dict\")\n",
    "index = 0\n",
    "for k,v in model_t2kde_dict.items():\n",
    "    print(\"index, k =  \",index,\"  \",k)\n",
    "    index = index+1\n",
    "#\n",
    "model_kde2hists_dict = model_kde2hists.state_dict()\n",
    "## mds 190725 for debugging\n",
    "print(\"for model_hists_2kde_dict\")\n",
    "index = 0\n",
    "for k,v in model_kde2hists_dict.items():\n",
    "    print(\"index, k =  \",index,\"  \",k)\n",
    "    index = index+1\n",
    "#\n",
    "model_t2hists_dict = model_t2hists.state_dict()\n",
    "## mds 190725 for debugging\n",
    "print(\"for model_hists_2kde_dict\")\n",
    "index = 0\n",
    "for k,v in model_t2hists_dict.items():\n",
    "    print(\"index, k =  \",index,\"  \",k)\n",
    "    index = index+1\n",
    "#\n",
    "\n",
    "##  build the \"updated_dict\" to become the t2hists_dictionary from the\n",
    "##  t2kde and kde2hist dictionaries\n",
    "update_dict = model_t2hists_dict\n",
    "##print(\"updated_dict = \",updated_dict)\n",
    "## when starting \"ab initio\", reduce biases as the bias gets summed for each track\n",
    "## contributing to the predicted KDE\n",
    "'''\n",
    "updated_dict[\"layer1.bias\"] = 0.005*model_dict[\"layer1.bias\"]\n",
    "updated_dict[\"layer2.bias\"] = 0.005*model_dict[\"layer2.bias\"]\n",
    "updated_dict[\"layer3.bias\"] = 0.005*model_dict[\"layer3.bias\"]\n",
    "updated_dict[\"layer4.bias\"] = 0.005*model_dict[\"layer4.bias\"]\n",
    "updated_dict[\"layer5.bias\"] = 0.005*model_dict[\"layer5.bias\"]\n",
    "updated_dict[\"layer6.bias\"] = 0.005*model_dict[\"layer6.bias\"]\n",
    "updated_dict[\"layer7.bias\"] = 0.005*model_dict[\"layer7.bias\"]\n",
    "updated_dict[\"layer8.bias\"] = 0.005*model_dict[\"layer8.bias\"]\n",
    "updated_dict[\"layer9.bias\"] = 0.005*model_dict[\"layer9.bias\"]\n",
    "updated_dict[\"layer10.bias\"] = 0.005*model_dict[\"layer10.bias\"]\n",
    "updated_dict[\"layer11.bias\"] = 0.005*model_dict[\"layer11.bias\"]\n",
    "'''\n",
    "##model_t2hists.load_state_dict(updated_dict,strict=False)\n",
    "\n",
    "##model__t2hists_dict = model_t2hists.state_dict()\n",
    "\n",
    "## let's get the tracks-to-kde model here\n",
    "t2kde_folder = '25December__DDplus_loss_Ba_iter5_floatAll_800epochs_5em6'  ## really iter6, really Dec. 27\n",
    "t2kde_folder = '25December__DDplus_loss_Ba_iter7_floatAll_800epochs_4em6'\n",
    "t2kde_name = t2kde_folder\n",
    "suffix = 'final'\n",
    "t2kde_dict_name = 'ML/' + t2kde_folder + '/' + t2kde_name + '_'+ suffix + '.pyt'\n",
    "print('t2kde_dict_name = ',t2kde_dict_name)\n",
    "pretrained_t2kde_dict = torch.load(t2kde_dict_name)\n",
    "\n",
    "print(\" \\n\",\"  for t2kde_pretrained_dict\")\n",
    "index = 0\n",
    "for k,v in pretrained_t2kde_dict.items():\n",
    "    print(\"index, k =  \",index,\"  \",k)\n",
    "    index = index+1\n",
    "    \n",
    "    \n",
    "## let's get the hists-to-kde model here   \n",
    "kde2hists_folder = '02June2020_CNN5Layer_Ca_another200epochs_K'\n",
    "kde2hists_name = kde2hists_folder\n",
    "suffix = 'final'\n",
    "kde2hists_dict_name = 'ML/' + kde2hists_folder + '/' + kde2hists_name + '_'+ suffix + '.pyt'\n",
    "## mds dec28 print('kde2hists_dict_name = ',kde2hists_dict_name)\n",
    "pretrained_kde2hists_dict = torch.load(kde2hists_dict_name)\n",
    "\n",
    "print(\" \\n\",\"  for kde2hists_pretrained_dict\")\n",
    "index = 0\n",
    "for k,v in pretrained_kde2hists_dict.items():\n",
    "    print(\"index, k =  \",index,\"  \",k)\n",
    "    index = index+1\n",
    " \n",
    "\n",
    "\n",
    "##print(\"model_dict instantiated\")\n",
    "# 1. filter out unnecessary keys\n",
    "pretrained_dict = {k: v for k, v in pretrained_t2kde_dict.items() if k in model_t2hists_dict}\n",
    "## mds dec28 print(\"pretrained_dict iterated\")\n",
    "# 2. overwrite entries in the existing state dict\n",
    "model_t2hists_dict.update(pretrained_dict) \n",
    "\n",
    "update_dict[\"hist_conv1.weight\"] = pretrained_kde2hists_dict[\"conv1.weight\"]\n",
    "update_dict[\"hist_conv1.bias\"]   = pretrained_kde2hists_dict[\"conv1.bias\"]\n",
    "update_dict[\"hist_conv2.weight\"] = pretrained_kde2hists_dict[\"conv2.weight\"]\n",
    "update_dict[\"hist_conv2.bias\"]   = pretrained_kde2hists_dict[\"conv2.bias\"]\n",
    "update_dict[\"hist_conv3.weight\"] = pretrained_kde2hists_dict[\"conv3.weight\"]\n",
    "update_dict[\"hist_conv3.bias\"]   = pretrained_kde2hists_dict[\"conv3.bias\"]\n",
    "update_dict[\"hist_conv4.weight\"] = pretrained_kde2hists_dict[\"conv4.weight\"]\n",
    "update_dict[\"hist_conv4.bias\"]   = pretrained_kde2hists_dict[\"conv4.bias\"]\n",
    "update_dict[\"hist_conv5.weight\"] = pretrained_kde2hists_dict[\"conv5.weight\"]\n",
    "update_dict[\"hist_conv5.bias\"]   = pretrained_kde2hists_dict[\"conv5.bias\"]\n",
    "update_dict[\"hist_fc1.weight\"]   = pretrained_kde2hists_dict[\"fc1.weight\"]\n",
    "update_dict[\"hist_fc1.bias\"]     = pretrained_kde2hists_dict[\"fc1.bias\"]\n",
    "\n",
    "##model_t2hists.update(update_dict,strict=False)\n",
    "model_t2hists.load_state_dict(update_dict,strict=False)\n",
    "model_t2hists_dict = model_t2hists.state_dict()\n",
    "\n",
    "##\n",
    "#   when starting from a model with a fully connected last layer rather than a convolutional layer\n",
    "# 3. load the new state dict\n",
    "#   need to use strict=False as the two models state model attributes do not agree exactly\n",
    "#   see https://pytorch.org/docs/master/_modules/torch/nn/modules/module.html#Module.load_state_dict\n",
    "\n",
    "t2hists_folder = '28December_Tracks_to_Hists_FirstTraining_700epochs_lr_1em7_2p5_kde2hists_frozen'\n",
    "t2hists_name = t2hists_folder\n",
    "suffix = 'final'\n",
    "t2hists_dict_name = 'ML/' + t2hists_folder + '/' +t2hists_name + '_'+ suffix + '.pyt'\n",
    "## mds dec28 print('kde2hists_dict_name = ',kde2hists_dict_name)\n",
    "pretrained_t2hists_dict = torch.load(t2hists_dict_name) \n",
    "\n",
    "model_t2hists.load_state_dict(pretrained_dict,strict=False)\n",
    "\n",
    "##  print('model_t2hists_dict =    ', model_t2hists_dict)\n"
   ]
  },
  {
   "cell_type": "code",
   "execution_count": 13,
   "metadata": {},
   "outputs": [],
   "source": [
    "##print('validation.dataset.tensors = ',validation.dataset.tensors)\n",
    "fig_size = plt.rcParams[\"figure.figsize\"]\n",
    "fig_size[0] = 10\n",
    "fig_size[1] = 4\n",
    "plt.rcParams[\"figure.figsize\"] = fig_size"
   ]
  },
  {
   "cell_type": "code",
   "execution_count": 14,
   "metadata": {
    "scrolled": true
   },
   "outputs": [],
   "source": [
    "model = model_t2hists.to(device)"
   ]
  },
  {
   "cell_type": "code",
   "execution_count": 15,
   "metadata": {},
   "outputs": [
    {
     "data": {
      "application/javascript": [
       "/* Put everything inside the global mpl namespace */\n",
       "window.mpl = {};\n",
       "\n",
       "\n",
       "mpl.get_websocket_type = function() {\n",
       "    if (typeof(WebSocket) !== 'undefined') {\n",
       "        return WebSocket;\n",
       "    } else if (typeof(MozWebSocket) !== 'undefined') {\n",
       "        return MozWebSocket;\n",
       "    } else {\n",
       "        alert('Your browser does not have WebSocket support. ' +\n",
       "              'Please try Chrome, Safari or Firefox ≥ 6. ' +\n",
       "              'Firefox 4 and 5 are also supported but you ' +\n",
       "              'have to enable WebSockets in about:config.');\n",
       "    };\n",
       "}\n",
       "\n",
       "mpl.figure = function(figure_id, websocket, ondownload, parent_element) {\n",
       "    this.id = figure_id;\n",
       "\n",
       "    this.ws = websocket;\n",
       "\n",
       "    this.supports_binary = (this.ws.binaryType != undefined);\n",
       "\n",
       "    if (!this.supports_binary) {\n",
       "        var warnings = document.getElementById(\"mpl-warnings\");\n",
       "        if (warnings) {\n",
       "            warnings.style.display = 'block';\n",
       "            warnings.textContent = (\n",
       "                \"This browser does not support binary websocket messages. \" +\n",
       "                    \"Performance may be slow.\");\n",
       "        }\n",
       "    }\n",
       "\n",
       "    this.imageObj = new Image();\n",
       "\n",
       "    this.context = undefined;\n",
       "    this.message = undefined;\n",
       "    this.canvas = undefined;\n",
       "    this.rubberband_canvas = undefined;\n",
       "    this.rubberband_context = undefined;\n",
       "    this.format_dropdown = undefined;\n",
       "\n",
       "    this.image_mode = 'full';\n",
       "\n",
       "    this.root = $('<div/>');\n",
       "    this._root_extra_style(this.root)\n",
       "    this.root.attr('style', 'display: inline-block');\n",
       "\n",
       "    $(parent_element).append(this.root);\n",
       "\n",
       "    this._init_header(this);\n",
       "    this._init_canvas(this);\n",
       "    this._init_toolbar(this);\n",
       "\n",
       "    var fig = this;\n",
       "\n",
       "    this.waiting = false;\n",
       "\n",
       "    this.ws.onopen =  function () {\n",
       "            fig.send_message(\"supports_binary\", {value: fig.supports_binary});\n",
       "            fig.send_message(\"send_image_mode\", {});\n",
       "            if (mpl.ratio != 1) {\n",
       "                fig.send_message(\"set_dpi_ratio\", {'dpi_ratio': mpl.ratio});\n",
       "            }\n",
       "            fig.send_message(\"refresh\", {});\n",
       "        }\n",
       "\n",
       "    this.imageObj.onload = function() {\n",
       "            if (fig.image_mode == 'full') {\n",
       "                // Full images could contain transparency (where diff images\n",
       "                // almost always do), so we need to clear the canvas so that\n",
       "                // there is no ghosting.\n",
       "                fig.context.clearRect(0, 0, fig.canvas.width, fig.canvas.height);\n",
       "            }\n",
       "            fig.context.drawImage(fig.imageObj, 0, 0);\n",
       "        };\n",
       "\n",
       "    this.imageObj.onunload = function() {\n",
       "        fig.ws.close();\n",
       "    }\n",
       "\n",
       "    this.ws.onmessage = this._make_on_message_function(this);\n",
       "\n",
       "    this.ondownload = ondownload;\n",
       "}\n",
       "\n",
       "mpl.figure.prototype._init_header = function() {\n",
       "    var titlebar = $(\n",
       "        '<div class=\"ui-dialog-titlebar ui-widget-header ui-corner-all ' +\n",
       "        'ui-helper-clearfix\"/>');\n",
       "    var titletext = $(\n",
       "        '<div class=\"ui-dialog-title\" style=\"width: 100%; ' +\n",
       "        'text-align: center; padding: 3px;\"/>');\n",
       "    titlebar.append(titletext)\n",
       "    this.root.append(titlebar);\n",
       "    this.header = titletext[0];\n",
       "}\n",
       "\n",
       "\n",
       "\n",
       "mpl.figure.prototype._canvas_extra_style = function(canvas_div) {\n",
       "\n",
       "}\n",
       "\n",
       "\n",
       "mpl.figure.prototype._root_extra_style = function(canvas_div) {\n",
       "\n",
       "}\n",
       "\n",
       "mpl.figure.prototype._init_canvas = function() {\n",
       "    var fig = this;\n",
       "\n",
       "    var canvas_div = $('<div/>');\n",
       "\n",
       "    canvas_div.attr('style', 'position: relative; clear: both; outline: 0');\n",
       "\n",
       "    function canvas_keyboard_event(event) {\n",
       "        return fig.key_event(event, event['data']);\n",
       "    }\n",
       "\n",
       "    canvas_div.keydown('key_press', canvas_keyboard_event);\n",
       "    canvas_div.keyup('key_release', canvas_keyboard_event);\n",
       "    this.canvas_div = canvas_div\n",
       "    this._canvas_extra_style(canvas_div)\n",
       "    this.root.append(canvas_div);\n",
       "\n",
       "    var canvas = $('<canvas/>');\n",
       "    canvas.addClass('mpl-canvas');\n",
       "    canvas.attr('style', \"left: 0; top: 0; z-index: 0; outline: 0\")\n",
       "\n",
       "    this.canvas = canvas[0];\n",
       "    this.context = canvas[0].getContext(\"2d\");\n",
       "\n",
       "    var backingStore = this.context.backingStorePixelRatio ||\n",
       "\tthis.context.webkitBackingStorePixelRatio ||\n",
       "\tthis.context.mozBackingStorePixelRatio ||\n",
       "\tthis.context.msBackingStorePixelRatio ||\n",
       "\tthis.context.oBackingStorePixelRatio ||\n",
       "\tthis.context.backingStorePixelRatio || 1;\n",
       "\n",
       "    mpl.ratio = (window.devicePixelRatio || 1) / backingStore;\n",
       "\n",
       "    var rubberband = $('<canvas/>');\n",
       "    rubberband.attr('style', \"position: absolute; left: 0; top: 0; z-index: 1;\")\n",
       "\n",
       "    var pass_mouse_events = true;\n",
       "\n",
       "    canvas_div.resizable({\n",
       "        start: function(event, ui) {\n",
       "            pass_mouse_events = false;\n",
       "        },\n",
       "        resize: function(event, ui) {\n",
       "            fig.request_resize(ui.size.width, ui.size.height);\n",
       "        },\n",
       "        stop: function(event, ui) {\n",
       "            pass_mouse_events = true;\n",
       "            fig.request_resize(ui.size.width, ui.size.height);\n",
       "        },\n",
       "    });\n",
       "\n",
       "    function mouse_event_fn(event) {\n",
       "        if (pass_mouse_events)\n",
       "            return fig.mouse_event(event, event['data']);\n",
       "    }\n",
       "\n",
       "    rubberband.mousedown('button_press', mouse_event_fn);\n",
       "    rubberband.mouseup('button_release', mouse_event_fn);\n",
       "    // Throttle sequential mouse events to 1 every 20ms.\n",
       "    rubberband.mousemove('motion_notify', mouse_event_fn);\n",
       "\n",
       "    rubberband.mouseenter('figure_enter', mouse_event_fn);\n",
       "    rubberband.mouseleave('figure_leave', mouse_event_fn);\n",
       "\n",
       "    canvas_div.on(\"wheel\", function (event) {\n",
       "        event = event.originalEvent;\n",
       "        event['data'] = 'scroll'\n",
       "        if (event.deltaY < 0) {\n",
       "            event.step = 1;\n",
       "        } else {\n",
       "            event.step = -1;\n",
       "        }\n",
       "        mouse_event_fn(event);\n",
       "    });\n",
       "\n",
       "    canvas_div.append(canvas);\n",
       "    canvas_div.append(rubberband);\n",
       "\n",
       "    this.rubberband = rubberband;\n",
       "    this.rubberband_canvas = rubberband[0];\n",
       "    this.rubberband_context = rubberband[0].getContext(\"2d\");\n",
       "    this.rubberband_context.strokeStyle = \"#000000\";\n",
       "\n",
       "    this._resize_canvas = function(width, height) {\n",
       "        // Keep the size of the canvas, canvas container, and rubber band\n",
       "        // canvas in synch.\n",
       "        canvas_div.css('width', width)\n",
       "        canvas_div.css('height', height)\n",
       "\n",
       "        canvas.attr('width', width * mpl.ratio);\n",
       "        canvas.attr('height', height * mpl.ratio);\n",
       "        canvas.attr('style', 'width: ' + width + 'px; height: ' + height + 'px;');\n",
       "\n",
       "        rubberband.attr('width', width);\n",
       "        rubberband.attr('height', height);\n",
       "    }\n",
       "\n",
       "    // Set the figure to an initial 600x600px, this will subsequently be updated\n",
       "    // upon first draw.\n",
       "    this._resize_canvas(600, 600);\n",
       "\n",
       "    // Disable right mouse context menu.\n",
       "    $(this.rubberband_canvas).bind(\"contextmenu\",function(e){\n",
       "        return false;\n",
       "    });\n",
       "\n",
       "    function set_focus () {\n",
       "        canvas.focus();\n",
       "        canvas_div.focus();\n",
       "    }\n",
       "\n",
       "    window.setTimeout(set_focus, 100);\n",
       "}\n",
       "\n",
       "mpl.figure.prototype._init_toolbar = function() {\n",
       "    var fig = this;\n",
       "\n",
       "    var nav_element = $('<div/>');\n",
       "    nav_element.attr('style', 'width: 100%');\n",
       "    this.root.append(nav_element);\n",
       "\n",
       "    // Define a callback function for later on.\n",
       "    function toolbar_event(event) {\n",
       "        return fig.toolbar_button_onclick(event['data']);\n",
       "    }\n",
       "    function toolbar_mouse_event(event) {\n",
       "        return fig.toolbar_button_onmouseover(event['data']);\n",
       "    }\n",
       "\n",
       "    for(var toolbar_ind in mpl.toolbar_items) {\n",
       "        var name = mpl.toolbar_items[toolbar_ind][0];\n",
       "        var tooltip = mpl.toolbar_items[toolbar_ind][1];\n",
       "        var image = mpl.toolbar_items[toolbar_ind][2];\n",
       "        var method_name = mpl.toolbar_items[toolbar_ind][3];\n",
       "\n",
       "        if (!name) {\n",
       "            // put a spacer in here.\n",
       "            continue;\n",
       "        }\n",
       "        var button = $('<button/>');\n",
       "        button.addClass('ui-button ui-widget ui-state-default ui-corner-all ' +\n",
       "                        'ui-button-icon-only');\n",
       "        button.attr('role', 'button');\n",
       "        button.attr('aria-disabled', 'false');\n",
       "        button.click(method_name, toolbar_event);\n",
       "        button.mouseover(tooltip, toolbar_mouse_event);\n",
       "\n",
       "        var icon_img = $('<span/>');\n",
       "        icon_img.addClass('ui-button-icon-primary ui-icon');\n",
       "        icon_img.addClass(image);\n",
       "        icon_img.addClass('ui-corner-all');\n",
       "\n",
       "        var tooltip_span = $('<span/>');\n",
       "        tooltip_span.addClass('ui-button-text');\n",
       "        tooltip_span.html(tooltip);\n",
       "\n",
       "        button.append(icon_img);\n",
       "        button.append(tooltip_span);\n",
       "\n",
       "        nav_element.append(button);\n",
       "    }\n",
       "\n",
       "    var fmt_picker_span = $('<span/>');\n",
       "\n",
       "    var fmt_picker = $('<select/>');\n",
       "    fmt_picker.addClass('mpl-toolbar-option ui-widget ui-widget-content');\n",
       "    fmt_picker_span.append(fmt_picker);\n",
       "    nav_element.append(fmt_picker_span);\n",
       "    this.format_dropdown = fmt_picker[0];\n",
       "\n",
       "    for (var ind in mpl.extensions) {\n",
       "        var fmt = mpl.extensions[ind];\n",
       "        var option = $(\n",
       "            '<option/>', {selected: fmt === mpl.default_extension}).html(fmt);\n",
       "        fmt_picker.append(option);\n",
       "    }\n",
       "\n",
       "    // Add hover states to the ui-buttons\n",
       "    $( \".ui-button\" ).hover(\n",
       "        function() { $(this).addClass(\"ui-state-hover\");},\n",
       "        function() { $(this).removeClass(\"ui-state-hover\");}\n",
       "    );\n",
       "\n",
       "    var status_bar = $('<span class=\"mpl-message\"/>');\n",
       "    nav_element.append(status_bar);\n",
       "    this.message = status_bar[0];\n",
       "}\n",
       "\n",
       "mpl.figure.prototype.request_resize = function(x_pixels, y_pixels) {\n",
       "    // Request matplotlib to resize the figure. Matplotlib will then trigger a resize in the client,\n",
       "    // which will in turn request a refresh of the image.\n",
       "    this.send_message('resize', {'width': x_pixels, 'height': y_pixels});\n",
       "}\n",
       "\n",
       "mpl.figure.prototype.send_message = function(type, properties) {\n",
       "    properties['type'] = type;\n",
       "    properties['figure_id'] = this.id;\n",
       "    this.ws.send(JSON.stringify(properties));\n",
       "}\n",
       "\n",
       "mpl.figure.prototype.send_draw_message = function() {\n",
       "    if (!this.waiting) {\n",
       "        this.waiting = true;\n",
       "        this.ws.send(JSON.stringify({type: \"draw\", figure_id: this.id}));\n",
       "    }\n",
       "}\n",
       "\n",
       "\n",
       "mpl.figure.prototype.handle_save = function(fig, msg) {\n",
       "    var format_dropdown = fig.format_dropdown;\n",
       "    var format = format_dropdown.options[format_dropdown.selectedIndex].value;\n",
       "    fig.ondownload(fig, format);\n",
       "}\n",
       "\n",
       "\n",
       "mpl.figure.prototype.handle_resize = function(fig, msg) {\n",
       "    var size = msg['size'];\n",
       "    if (size[0] != fig.canvas.width || size[1] != fig.canvas.height) {\n",
       "        fig._resize_canvas(size[0], size[1]);\n",
       "        fig.send_message(\"refresh\", {});\n",
       "    };\n",
       "}\n",
       "\n",
       "mpl.figure.prototype.handle_rubberband = function(fig, msg) {\n",
       "    var x0 = msg['x0'] / mpl.ratio;\n",
       "    var y0 = (fig.canvas.height - msg['y0']) / mpl.ratio;\n",
       "    var x1 = msg['x1'] / mpl.ratio;\n",
       "    var y1 = (fig.canvas.height - msg['y1']) / mpl.ratio;\n",
       "    x0 = Math.floor(x0) + 0.5;\n",
       "    y0 = Math.floor(y0) + 0.5;\n",
       "    x1 = Math.floor(x1) + 0.5;\n",
       "    y1 = Math.floor(y1) + 0.5;\n",
       "    var min_x = Math.min(x0, x1);\n",
       "    var min_y = Math.min(y0, y1);\n",
       "    var width = Math.abs(x1 - x0);\n",
       "    var height = Math.abs(y1 - y0);\n",
       "\n",
       "    fig.rubberband_context.clearRect(\n",
       "        0, 0, fig.canvas.width / mpl.ratio, fig.canvas.height / mpl.ratio);\n",
       "\n",
       "    fig.rubberband_context.strokeRect(min_x, min_y, width, height);\n",
       "}\n",
       "\n",
       "mpl.figure.prototype.handle_figure_label = function(fig, msg) {\n",
       "    // Updates the figure title.\n",
       "    fig.header.textContent = msg['label'];\n",
       "}\n",
       "\n",
       "mpl.figure.prototype.handle_cursor = function(fig, msg) {\n",
       "    var cursor = msg['cursor'];\n",
       "    switch(cursor)\n",
       "    {\n",
       "    case 0:\n",
       "        cursor = 'pointer';\n",
       "        break;\n",
       "    case 1:\n",
       "        cursor = 'default';\n",
       "        break;\n",
       "    case 2:\n",
       "        cursor = 'crosshair';\n",
       "        break;\n",
       "    case 3:\n",
       "        cursor = 'move';\n",
       "        break;\n",
       "    }\n",
       "    fig.rubberband_canvas.style.cursor = cursor;\n",
       "}\n",
       "\n",
       "mpl.figure.prototype.handle_message = function(fig, msg) {\n",
       "    fig.message.textContent = msg['message'];\n",
       "}\n",
       "\n",
       "mpl.figure.prototype.handle_draw = function(fig, msg) {\n",
       "    // Request the server to send over a new figure.\n",
       "    fig.send_draw_message();\n",
       "}\n",
       "\n",
       "mpl.figure.prototype.handle_image_mode = function(fig, msg) {\n",
       "    fig.image_mode = msg['mode'];\n",
       "}\n",
       "\n",
       "mpl.figure.prototype.updated_canvas_event = function() {\n",
       "    // Called whenever the canvas gets updated.\n",
       "    this.send_message(\"ack\", {});\n",
       "}\n",
       "\n",
       "// A function to construct a web socket function for onmessage handling.\n",
       "// Called in the figure constructor.\n",
       "mpl.figure.prototype._make_on_message_function = function(fig) {\n",
       "    return function socket_on_message(evt) {\n",
       "        if (evt.data instanceof Blob) {\n",
       "            /* FIXME: We get \"Resource interpreted as Image but\n",
       "             * transferred with MIME type text/plain:\" errors on\n",
       "             * Chrome.  But how to set the MIME type?  It doesn't seem\n",
       "             * to be part of the websocket stream */\n",
       "            evt.data.type = \"image/png\";\n",
       "\n",
       "            /* Free the memory for the previous frames */\n",
       "            if (fig.imageObj.src) {\n",
       "                (window.URL || window.webkitURL).revokeObjectURL(\n",
       "                    fig.imageObj.src);\n",
       "            }\n",
       "\n",
       "            fig.imageObj.src = (window.URL || window.webkitURL).createObjectURL(\n",
       "                evt.data);\n",
       "            fig.updated_canvas_event();\n",
       "            fig.waiting = false;\n",
       "            return;\n",
       "        }\n",
       "        else if (typeof evt.data === 'string' && evt.data.slice(0, 21) == \"data:image/png;base64\") {\n",
       "            fig.imageObj.src = evt.data;\n",
       "            fig.updated_canvas_event();\n",
       "            fig.waiting = false;\n",
       "            return;\n",
       "        }\n",
       "\n",
       "        var msg = JSON.parse(evt.data);\n",
       "        var msg_type = msg['type'];\n",
       "\n",
       "        // Call the  \"handle_{type}\" callback, which takes\n",
       "        // the figure and JSON message as its only arguments.\n",
       "        try {\n",
       "            var callback = fig[\"handle_\" + msg_type];\n",
       "        } catch (e) {\n",
       "            console.log(\"No handler for the '\" + msg_type + \"' message type: \", msg);\n",
       "            return;\n",
       "        }\n",
       "\n",
       "        if (callback) {\n",
       "            try {\n",
       "                // console.log(\"Handling '\" + msg_type + \"' message: \", msg);\n",
       "                callback(fig, msg);\n",
       "            } catch (e) {\n",
       "                console.log(\"Exception inside the 'handler_\" + msg_type + \"' callback:\", e, e.stack, msg);\n",
       "            }\n",
       "        }\n",
       "    };\n",
       "}\n",
       "\n",
       "// from http://stackoverflow.com/questions/1114465/getting-mouse-location-in-canvas\n",
       "mpl.findpos = function(e) {\n",
       "    //this section is from http://www.quirksmode.org/js/events_properties.html\n",
       "    var targ;\n",
       "    if (!e)\n",
       "        e = window.event;\n",
       "    if (e.target)\n",
       "        targ = e.target;\n",
       "    else if (e.srcElement)\n",
       "        targ = e.srcElement;\n",
       "    if (targ.nodeType == 3) // defeat Safari bug\n",
       "        targ = targ.parentNode;\n",
       "\n",
       "    // jQuery normalizes the pageX and pageY\n",
       "    // pageX,Y are the mouse positions relative to the document\n",
       "    // offset() returns the position of the element relative to the document\n",
       "    var x = e.pageX - $(targ).offset().left;\n",
       "    var y = e.pageY - $(targ).offset().top;\n",
       "\n",
       "    return {\"x\": x, \"y\": y};\n",
       "};\n",
       "\n",
       "/*\n",
       " * return a copy of an object with only non-object keys\n",
       " * we need this to avoid circular references\n",
       " * http://stackoverflow.com/a/24161582/3208463\n",
       " */\n",
       "function simpleKeys (original) {\n",
       "  return Object.keys(original).reduce(function (obj, key) {\n",
       "    if (typeof original[key] !== 'object')\n",
       "        obj[key] = original[key]\n",
       "    return obj;\n",
       "  }, {});\n",
       "}\n",
       "\n",
       "mpl.figure.prototype.mouse_event = function(event, name) {\n",
       "    var canvas_pos = mpl.findpos(event)\n",
       "\n",
       "    if (name === 'button_press')\n",
       "    {\n",
       "        this.canvas.focus();\n",
       "        this.canvas_div.focus();\n",
       "    }\n",
       "\n",
       "    var x = canvas_pos.x * mpl.ratio;\n",
       "    var y = canvas_pos.y * mpl.ratio;\n",
       "\n",
       "    this.send_message(name, {x: x, y: y, button: event.button,\n",
       "                             step: event.step,\n",
       "                             guiEvent: simpleKeys(event)});\n",
       "\n",
       "    /* This prevents the web browser from automatically changing to\n",
       "     * the text insertion cursor when the button is pressed.  We want\n",
       "     * to control all of the cursor setting manually through the\n",
       "     * 'cursor' event from matplotlib */\n",
       "    event.preventDefault();\n",
       "    return false;\n",
       "}\n",
       "\n",
       "mpl.figure.prototype._key_event_extra = function(event, name) {\n",
       "    // Handle any extra behaviour associated with a key event\n",
       "}\n",
       "\n",
       "mpl.figure.prototype.key_event = function(event, name) {\n",
       "\n",
       "    // Prevent repeat events\n",
       "    if (name == 'key_press')\n",
       "    {\n",
       "        if (event.which === this._key)\n",
       "            return;\n",
       "        else\n",
       "            this._key = event.which;\n",
       "    }\n",
       "    if (name == 'key_release')\n",
       "        this._key = null;\n",
       "\n",
       "    var value = '';\n",
       "    if (event.ctrlKey && event.which != 17)\n",
       "        value += \"ctrl+\";\n",
       "    if (event.altKey && event.which != 18)\n",
       "        value += \"alt+\";\n",
       "    if (event.shiftKey && event.which != 16)\n",
       "        value += \"shift+\";\n",
       "\n",
       "    value += 'k';\n",
       "    value += event.which.toString();\n",
       "\n",
       "    this._key_event_extra(event, name);\n",
       "\n",
       "    this.send_message(name, {key: value,\n",
       "                             guiEvent: simpleKeys(event)});\n",
       "    return false;\n",
       "}\n",
       "\n",
       "mpl.figure.prototype.toolbar_button_onclick = function(name) {\n",
       "    if (name == 'download') {\n",
       "        this.handle_save(this, null);\n",
       "    } else {\n",
       "        this.send_message(\"toolbar_button\", {name: name});\n",
       "    }\n",
       "};\n",
       "\n",
       "mpl.figure.prototype.toolbar_button_onmouseover = function(tooltip) {\n",
       "    this.message.textContent = tooltip;\n",
       "};\n",
       "mpl.toolbar_items = [[\"Home\", \"Reset original view\", \"fa fa-home icon-home\", \"home\"], [\"Back\", \"Back to previous view\", \"fa fa-arrow-left icon-arrow-left\", \"back\"], [\"Forward\", \"Forward to next view\", \"fa fa-arrow-right icon-arrow-right\", \"forward\"], [\"\", \"\", \"\", \"\"], [\"Pan\", \"Pan axes with left mouse, zoom with right\", \"fa fa-arrows icon-move\", \"pan\"], [\"Zoom\", \"Zoom to rectangle\", \"fa fa-square-o icon-check-empty\", \"zoom\"], [\"\", \"\", \"\", \"\"], [\"Download\", \"Download plot\", \"fa fa-floppy-o icon-save\", \"download\"]];\n",
       "\n",
       "mpl.extensions = [\"eps\", \"jpeg\", \"pdf\", \"png\", \"ps\", \"raw\", \"svg\", \"tif\"];\n",
       "\n",
       "mpl.default_extension = \"png\";var comm_websocket_adapter = function(comm) {\n",
       "    // Create a \"websocket\"-like object which calls the given IPython comm\n",
       "    // object with the appropriate methods. Currently this is a non binary\n",
       "    // socket, so there is still some room for performance tuning.\n",
       "    var ws = {};\n",
       "\n",
       "    ws.close = function() {\n",
       "        comm.close()\n",
       "    };\n",
       "    ws.send = function(m) {\n",
       "        //console.log('sending', m);\n",
       "        comm.send(m);\n",
       "    };\n",
       "    // Register the callback with on_msg.\n",
       "    comm.on_msg(function(msg) {\n",
       "        //console.log('receiving', msg['content']['data'], msg);\n",
       "        // Pass the mpl event to the overridden (by mpl) onmessage function.\n",
       "        ws.onmessage(msg['content']['data'])\n",
       "    });\n",
       "    return ws;\n",
       "}\n",
       "\n",
       "mpl.mpl_figure_comm = function(comm, msg) {\n",
       "    // This is the function which gets called when the mpl process\n",
       "    // starts-up an IPython Comm through the \"matplotlib\" channel.\n",
       "\n",
       "    var id = msg.content.data.id;\n",
       "    // Get hold of the div created by the display call when the Comm\n",
       "    // socket was opened in Python.\n",
       "    var element = $(\"#\" + id);\n",
       "    var ws_proxy = comm_websocket_adapter(comm)\n",
       "\n",
       "    function ondownload(figure, format) {\n",
       "        window.open(figure.imageObj.src);\n",
       "    }\n",
       "\n",
       "    var fig = new mpl.figure(id, ws_proxy,\n",
       "                           ondownload,\n",
       "                           element.get(0));\n",
       "\n",
       "    // Call onopen now - mpl needs it, as it is assuming we've passed it a real\n",
       "    // web socket which is closed, not our websocket->open comm proxy.\n",
       "    ws_proxy.onopen();\n",
       "\n",
       "    fig.parent_element = element.get(0);\n",
       "    fig.cell_info = mpl.find_output_cell(\"<div id='\" + id + \"'></div>\");\n",
       "    if (!fig.cell_info) {\n",
       "        console.error(\"Failed to find cell for figure\", id, fig);\n",
       "        return;\n",
       "    }\n",
       "\n",
       "    var output_index = fig.cell_info[2]\n",
       "    var cell = fig.cell_info[0];\n",
       "\n",
       "};\n",
       "\n",
       "mpl.figure.prototype.handle_close = function(fig, msg) {\n",
       "    var width = fig.canvas.width/mpl.ratio\n",
       "    fig.root.unbind('remove')\n",
       "\n",
       "    // Update the output cell to use the data from the current canvas.\n",
       "    fig.push_to_output();\n",
       "    var dataURL = fig.canvas.toDataURL();\n",
       "    // Re-enable the keyboard manager in IPython - without this line, in FF,\n",
       "    // the notebook keyboard shortcuts fail.\n",
       "    IPython.keyboard_manager.enable()\n",
       "    $(fig.parent_element).html('<img src=\"' + dataURL + '\" width=\"' + width + '\">');\n",
       "    fig.close_ws(fig, msg);\n",
       "}\n",
       "\n",
       "mpl.figure.prototype.close_ws = function(fig, msg){\n",
       "    fig.send_message('closing', msg);\n",
       "    // fig.ws.close()\n",
       "}\n",
       "\n",
       "mpl.figure.prototype.push_to_output = function(remove_interactive) {\n",
       "    // Turn the data on the canvas into data in the output cell.\n",
       "    var width = this.canvas.width/mpl.ratio\n",
       "    var dataURL = this.canvas.toDataURL();\n",
       "    this.cell_info[1]['text/html'] = '<img src=\"' + dataURL + '\" width=\"' + width + '\">';\n",
       "}\n",
       "\n",
       "mpl.figure.prototype.updated_canvas_event = function() {\n",
       "    // Tell IPython that the notebook contents must change.\n",
       "    IPython.notebook.set_dirty(true);\n",
       "    this.send_message(\"ack\", {});\n",
       "    var fig = this;\n",
       "    // Wait a second, then push the new image to the DOM so\n",
       "    // that it is saved nicely (might be nice to debounce this).\n",
       "    setTimeout(function () { fig.push_to_output() }, 1000);\n",
       "}\n",
       "\n",
       "mpl.figure.prototype._init_toolbar = function() {\n",
       "    var fig = this;\n",
       "\n",
       "    var nav_element = $('<div/>');\n",
       "    nav_element.attr('style', 'width: 100%');\n",
       "    this.root.append(nav_element);\n",
       "\n",
       "    // Define a callback function for later on.\n",
       "    function toolbar_event(event) {\n",
       "        return fig.toolbar_button_onclick(event['data']);\n",
       "    }\n",
       "    function toolbar_mouse_event(event) {\n",
       "        return fig.toolbar_button_onmouseover(event['data']);\n",
       "    }\n",
       "\n",
       "    for(var toolbar_ind in mpl.toolbar_items){\n",
       "        var name = mpl.toolbar_items[toolbar_ind][0];\n",
       "        var tooltip = mpl.toolbar_items[toolbar_ind][1];\n",
       "        var image = mpl.toolbar_items[toolbar_ind][2];\n",
       "        var method_name = mpl.toolbar_items[toolbar_ind][3];\n",
       "\n",
       "        if (!name) { continue; };\n",
       "\n",
       "        var button = $('<button class=\"btn btn-default\" href=\"#\" title=\"' + name + '\"><i class=\"fa ' + image + ' fa-lg\"></i></button>');\n",
       "        button.click(method_name, toolbar_event);\n",
       "        button.mouseover(tooltip, toolbar_mouse_event);\n",
       "        nav_element.append(button);\n",
       "    }\n",
       "\n",
       "    // Add the status bar.\n",
       "    var status_bar = $('<span class=\"mpl-message\" style=\"text-align:right; float: right;\"/>');\n",
       "    nav_element.append(status_bar);\n",
       "    this.message = status_bar[0];\n",
       "\n",
       "    // Add the close button to the window.\n",
       "    var buttongrp = $('<div class=\"btn-group inline pull-right\"></div>');\n",
       "    var button = $('<button class=\"btn btn-mini btn-primary\" href=\"#\" title=\"Stop Interaction\"><i class=\"fa fa-power-off icon-remove icon-large\"></i></button>');\n",
       "    button.click(function (evt) { fig.handle_close(fig, {}); } );\n",
       "    button.mouseover('Stop Interaction', toolbar_mouse_event);\n",
       "    buttongrp.append(button);\n",
       "    var titlebar = this.root.find($('.ui-dialog-titlebar'));\n",
       "    titlebar.prepend(buttongrp);\n",
       "}\n",
       "\n",
       "mpl.figure.prototype._root_extra_style = function(el){\n",
       "    var fig = this\n",
       "    el.on(\"remove\", function(){\n",
       "\tfig.close_ws(fig, {});\n",
       "    });\n",
       "}\n",
       "\n",
       "mpl.figure.prototype._canvas_extra_style = function(el){\n",
       "    // this is important to make the div 'focusable\n",
       "    el.attr('tabindex', 0)\n",
       "    // reach out to IPython and tell the keyboard manager to turn it's self\n",
       "    // off when our div gets focus\n",
       "\n",
       "    // location in version 3\n",
       "    if (IPython.notebook.keyboard_manager) {\n",
       "        IPython.notebook.keyboard_manager.register_events(el);\n",
       "    }\n",
       "    else {\n",
       "        // location in version 2\n",
       "        IPython.keyboard_manager.register_events(el);\n",
       "    }\n",
       "\n",
       "}\n",
       "\n",
       "mpl.figure.prototype._key_event_extra = function(event, name) {\n",
       "    var manager = IPython.notebook.keyboard_manager;\n",
       "    if (!manager)\n",
       "        manager = IPython.keyboard_manager;\n",
       "\n",
       "    // Check for shift+enter\n",
       "    if (event.shiftKey && event.which == 13) {\n",
       "        this.canvas_div.blur();\n",
       "        // select the cell after this one\n",
       "        var index = IPython.notebook.find_cell_index(this.cell_info[0]);\n",
       "        IPython.notebook.select(index + 1);\n",
       "    }\n",
       "}\n",
       "\n",
       "mpl.figure.prototype.handle_save = function(fig, msg) {\n",
       "    fig.ondownload(fig, null);\n",
       "}\n",
       "\n",
       "\n",
       "mpl.find_output_cell = function(html_output) {\n",
       "    // Return the cell and output element which can be found *uniquely* in the notebook.\n",
       "    // Note - this is a bit hacky, but it is done because the \"notebook_saving.Notebook\"\n",
       "    // IPython event is triggered only after the cells have been serialised, which for\n",
       "    // our purposes (turning an active figure into a static one), is too late.\n",
       "    var cells = IPython.notebook.get_cells();\n",
       "    var ncells = cells.length;\n",
       "    for (var i=0; i<ncells; i++) {\n",
       "        var cell = cells[i];\n",
       "        if (cell.cell_type === 'code'){\n",
       "            for (var j=0; j<cell.output_area.outputs.length; j++) {\n",
       "                var data = cell.output_area.outputs[j];\n",
       "                if (data.data) {\n",
       "                    // IPython >= 3 moved mimebundle to data attribute of output\n",
       "                    data = data.data;\n",
       "                }\n",
       "                if (data['text/html'] == html_output) {\n",
       "                    return [cell, data, j];\n",
       "                }\n",
       "            }\n",
       "        }\n",
       "    }\n",
       "}\n",
       "\n",
       "// Register the function which deals with the matplotlib target/channel.\n",
       "// The kernel may be null if the page has been refreshed.\n",
       "if (IPython.notebook.kernel != null) {\n",
       "    IPython.notebook.kernel.comm_manager.register_target('matplotlib', mpl.mpl_figure_comm);\n",
       "}\n"
      ],
      "text/plain": [
       "<IPython.core.display.Javascript object>"
      ]
     },
     "metadata": {},
     "output_type": "display_data"
    },
    {
     "data": {
      "text/html": [
       "<img src=\"data:image/png;base64,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\" width=\"999.75\">"
      ],
      "text/plain": [
       "<IPython.core.display.HTML object>"
      ]
     },
     "metadata": {},
     "output_type": "display_data"
    }
   ],
   "source": [
    "ax, tax, lax, lines = dual_train_plots()\n",
    "fig = ax.figure\n",
    "plt.tight_layout()"
   ]
  },
  {
   "cell_type": "code",
   "execution_count": 16,
   "metadata": {
    "scrolled": false
   },
   "outputs": [
    {
     "name": "stdout",
     "output_type": "stream",
     "text": [
      "Number of batches: train = 1125, val = 125\n"
     ]
    },
    {
     "data": {
      "application/vnd.jupyter.widget-view+json": {
       "model_id": "83ce31c0f49a4c19b92cdd5ae29c3fa3",
       "version_major": 2,
       "version_minor": 0
      },
      "text/plain": [
       "HBox(children=(FloatProgress(value=0.0, description='Epochs', layout=Layout(flex='2'), style=ProgressStyle(des…"
      ]
     },
     "metadata": {},
     "output_type": "display_data"
    },
    {
     "data": {
      "application/vnd.jupyter.widget-view+json": {
       "model_id": "",
       "version_major": 2,
       "version_minor": 0
      },
      "text/plain": [
       "HBox(children=(FloatProgress(value=0.0, description='Training', layout=Layout(flex='2'), max=1125.0, style=Pro…"
      ]
     },
     "metadata": {},
     "output_type": "display_data"
    },
    {
     "name": "stdout",
     "output_type": "stream",
     "text": [
      "Epoch 0: train=2.49319, val=2.43693, took 43.83 s\n",
      "  Validation Found 7820 of 10819, added 1068 (eff 72.28%) (0.534 FP/event)\n"
     ]
    },
    {
     "data": {
      "application/vnd.jupyter.widget-view+json": {
       "model_id": "",
       "version_major": 2,
       "version_minor": 0
      },
      "text/plain": [
       "HBox(children=(FloatProgress(value=0.0, description='Training', layout=Layout(flex='2'), max=1125.0, style=Pro…"
      ]
     },
     "metadata": {},
     "output_type": "display_data"
    },
    {
     "name": "stdout",
     "output_type": "stream",
     "text": [
      "Epoch 1: train=2.48602, val=2.42521, took 43.904 s\n",
      "  Validation Found 7880 of 10819, added 1127 (eff 72.83%) (0.563 FP/event)\n"
     ]
    },
    {
     "data": {
      "application/vnd.jupyter.widget-view+json": {
       "model_id": "",
       "version_major": 2,
       "version_minor": 0
      },
      "text/plain": [
       "HBox(children=(FloatProgress(value=0.0, description='Training', layout=Layout(flex='2'), max=1125.0, style=Pro…"
      ]
     },
     "metadata": {},
     "output_type": "display_data"
    },
    {
     "name": "stdout",
     "output_type": "stream",
     "text": [
      "Epoch 2: train=2.47029, val=2.4162, took 43.629 s\n",
      "  Validation Found 7930 of 10819, added 1153 (eff 73.30%) (0.576 FP/event)\n"
     ]
    },
    {
     "data": {
      "application/vnd.jupyter.widget-view+json": {
       "model_id": "",
       "version_major": 2,
       "version_minor": 0
      },
      "text/plain": [
       "HBox(children=(FloatProgress(value=0.0, description='Training', layout=Layout(flex='2'), max=1125.0, style=Pro…"
      ]
     },
     "metadata": {},
     "output_type": "display_data"
    },
    {
     "name": "stdout",
     "output_type": "stream",
     "text": [
      "Epoch 3: train=2.46408, val=2.40832, took 43.671 s\n",
      "  Validation Found 7978 of 10819, added 1190 (eff 73.74%) (0.595 FP/event)\n"
     ]
    },
    {
     "data": {
      "application/vnd.jupyter.widget-view+json": {
       "model_id": "",
       "version_major": 2,
       "version_minor": 0
      },
      "text/plain": [
       "HBox(children=(FloatProgress(value=0.0, description='Training', layout=Layout(flex='2'), max=1125.0, style=Pro…"
      ]
     },
     "metadata": {},
     "output_type": "display_data"
    },
    {
     "name": "stdout",
     "output_type": "stream",
     "text": [
      "Epoch 4: train=2.46069, val=2.40299, took 43.579 s\n",
      "  Validation Found 8031 of 10819, added 1235 (eff 74.23%) (0.617 FP/event)\n"
     ]
    },
    {
     "data": {
      "application/vnd.jupyter.widget-view+json": {
       "model_id": "",
       "version_major": 2,
       "version_minor": 0
      },
      "text/plain": [
       "HBox(children=(FloatProgress(value=0.0, description='Training', layout=Layout(flex='2'), max=1125.0, style=Pro…"
      ]
     },
     "metadata": {},
     "output_type": "display_data"
    },
    {
     "name": "stdout",
     "output_type": "stream",
     "text": [
      "Epoch 5: train=2.45297, val=2.39866, took 43.586 s\n",
      "  Validation Found 8040 of 10819, added 1264 (eff 74.31%) (0.632 FP/event)\n"
     ]
    },
    {
     "data": {
      "application/vnd.jupyter.widget-view+json": {
       "model_id": "",
       "version_major": 2,
       "version_minor": 0
      },
      "text/plain": [
       "HBox(children=(FloatProgress(value=0.0, description='Training', layout=Layout(flex='2'), max=1125.0, style=Pro…"
      ]
     },
     "metadata": {},
     "output_type": "display_data"
    },
    {
     "name": "stdout",
     "output_type": "stream",
     "text": [
      "Epoch 6: train=2.44798, val=2.39482, took 43.778 s\n",
      "  Validation Found 8089 of 10819, added 1251 (eff 74.77%) (0.625 FP/event)\n"
     ]
    },
    {
     "data": {
      "application/vnd.jupyter.widget-view+json": {
       "model_id": "",
       "version_major": 2,
       "version_minor": 0
      },
      "text/plain": [
       "HBox(children=(FloatProgress(value=0.0, description='Training', layout=Layout(flex='2'), max=1125.0, style=Pro…"
      ]
     },
     "metadata": {},
     "output_type": "display_data"
    },
    {
     "name": "stdout",
     "output_type": "stream",
     "text": [
      "Epoch 7: train=2.44096, val=2.38839, took 43.636 s\n",
      "  Validation Found 8096 of 10819, added 1288 (eff 74.83%) (0.644 FP/event)\n"
     ]
    },
    {
     "data": {
      "application/vnd.jupyter.widget-view+json": {
       "model_id": "",
       "version_major": 2,
       "version_minor": 0
      },
      "text/plain": [
       "HBox(children=(FloatProgress(value=0.0, description='Training', layout=Layout(flex='2'), max=1125.0, style=Pro…"
      ]
     },
     "metadata": {},
     "output_type": "display_data"
    },
    {
     "name": "stdout",
     "output_type": "stream",
     "text": [
      "Epoch 8: train=2.44402, val=2.38425, took 43.713 s\n",
      "  Validation Found 8118 of 10819, added 1299 (eff 75.03%) (0.649 FP/event)\n"
     ]
    },
    {
     "data": {
      "application/vnd.jupyter.widget-view+json": {
       "model_id": "",
       "version_major": 2,
       "version_minor": 0
      },
      "text/plain": [
       "HBox(children=(FloatProgress(value=0.0, description='Training', layout=Layout(flex='2'), max=1125.0, style=Pro…"
      ]
     },
     "metadata": {},
     "output_type": "display_data"
    },
    {
     "name": "stdout",
     "output_type": "stream",
     "text": [
      "Epoch 9: train=2.4389, val=2.38037, took 43.885 s\n",
      "  Validation Found 8136 of 10819, added 1305 (eff 75.20%) (0.652 FP/event)\n"
     ]
    },
    {
     "data": {
      "application/vnd.jupyter.widget-view+json": {
       "model_id": "",
       "version_major": 2,
       "version_minor": 0
      },
      "text/plain": [
       "HBox(children=(FloatProgress(value=0.0, description='Training', layout=Layout(flex='2'), max=1125.0, style=Pro…"
      ]
     },
     "metadata": {},
     "output_type": "display_data"
    },
    {
     "name": "stdout",
     "output_type": "stream",
     "text": [
      "Epoch 10: train=2.43724, val=2.3764, took 44.01 s\n",
      "  Validation Found 8152 of 10819, added 1303 (eff 75.35%) (0.651 FP/event)\n"
     ]
    },
    {
     "data": {
      "application/vnd.jupyter.widget-view+json": {
       "model_id": "",
       "version_major": 2,
       "version_minor": 0
      },
      "text/plain": [
       "HBox(children=(FloatProgress(value=0.0, description='Training', layout=Layout(flex='2'), max=1125.0, style=Pro…"
      ]
     },
     "metadata": {},
     "output_type": "display_data"
    },
    {
     "name": "stdout",
     "output_type": "stream",
     "text": [
      "Epoch 11: train=2.43527, val=2.37408, took 44.142 s\n",
      "  Validation Found 8155 of 10819, added 1307 (eff 75.38%) (0.653 FP/event)\n"
     ]
    },
    {
     "data": {
      "application/vnd.jupyter.widget-view+json": {
       "model_id": "",
       "version_major": 2,
       "version_minor": 0
      },
      "text/plain": [
       "HBox(children=(FloatProgress(value=0.0, description='Training', layout=Layout(flex='2'), max=1125.0, style=Pro…"
      ]
     },
     "metadata": {},
     "output_type": "display_data"
    },
    {
     "name": "stdout",
     "output_type": "stream",
     "text": [
      "Epoch 12: train=2.43094, val=2.37078, took 43.749 s\n",
      "  Validation Found 8160 of 10819, added 1322 (eff 75.42%) (0.661 FP/event)\n"
     ]
    },
    {
     "data": {
      "application/vnd.jupyter.widget-view+json": {
       "model_id": "",
       "version_major": 2,
       "version_minor": 0
      },
      "text/plain": [
       "HBox(children=(FloatProgress(value=0.0, description='Training', layout=Layout(flex='2'), max=1125.0, style=Pro…"
      ]
     },
     "metadata": {},
     "output_type": "display_data"
    },
    {
     "name": "stdout",
     "output_type": "stream",
     "text": [
      "Epoch 13: train=2.42918, val=2.36717, took 44.063 s\n",
      "  Validation Found 8167 of 10819, added 1320 (eff 75.49%) (0.66 FP/event)\n"
     ]
    },
    {
     "data": {
      "application/vnd.jupyter.widget-view+json": {
       "model_id": "",
       "version_major": 2,
       "version_minor": 0
      },
      "text/plain": [
       "HBox(children=(FloatProgress(value=0.0, description='Training', layout=Layout(flex='2'), max=1125.0, style=Pro…"
      ]
     },
     "metadata": {},
     "output_type": "display_data"
    },
    {
     "name": "stdout",
     "output_type": "stream",
     "text": [
      "Epoch 14: train=2.4257, val=2.36892, took 43.913 s\n",
      "  Validation Found 8198 of 10819, added 1310 (eff 75.77%) (0.655 FP/event)\n"
     ]
    },
    {
     "data": {
      "application/vnd.jupyter.widget-view+json": {
       "model_id": "",
       "version_major": 2,
       "version_minor": 0
      },
      "text/plain": [
       "HBox(children=(FloatProgress(value=0.0, description='Training', layout=Layout(flex='2'), max=1125.0, style=Pro…"
      ]
     },
     "metadata": {},
     "output_type": "display_data"
    },
    {
     "name": "stdout",
     "output_type": "stream",
     "text": [
      "Epoch 15: train=2.42842, val=2.36108, took 43.729 s\n",
      "  Validation Found 8191 of 10819, added 1338 (eff 75.71%) (0.669 FP/event)\n"
     ]
    },
    {
     "data": {
      "application/vnd.jupyter.widget-view+json": {
       "model_id": "",
       "version_major": 2,
       "version_minor": 0
      },
      "text/plain": [
       "HBox(children=(FloatProgress(value=0.0, description='Training', layout=Layout(flex='2'), max=1125.0, style=Pro…"
      ]
     },
     "metadata": {},
     "output_type": "display_data"
    },
    {
     "name": "stdout",
     "output_type": "stream",
     "text": [
      "Epoch 16: train=2.4243, val=2.3582, took 44.191 s\n",
      "  Validation Found 8205 of 10819, added 1340 (eff 75.84%) (0.67 FP/event)\n"
     ]
    },
    {
     "data": {
      "application/vnd.jupyter.widget-view+json": {
       "model_id": "",
       "version_major": 2,
       "version_minor": 0
      },
      "text/plain": [
       "HBox(children=(FloatProgress(value=0.0, description='Training', layout=Layout(flex='2'), max=1125.0, style=Pro…"
      ]
     },
     "metadata": {},
     "output_type": "display_data"
    },
    {
     "name": "stdout",
     "output_type": "stream",
     "text": [
      "Epoch 17: train=2.42153, val=2.356, took 43.757 s\n",
      "  Validation Found 8198 of 10819, added 1342 (eff 75.77%) (0.671 FP/event)\n"
     ]
    },
    {
     "data": {
      "application/vnd.jupyter.widget-view+json": {
       "model_id": "",
       "version_major": 2,
       "version_minor": 0
      },
      "text/plain": [
       "HBox(children=(FloatProgress(value=0.0, description='Training', layout=Layout(flex='2'), max=1125.0, style=Pro…"
      ]
     },
     "metadata": {},
     "output_type": "display_data"
    },
    {
     "name": "stdout",
     "output_type": "stream",
     "text": [
      "Epoch 18: train=2.41905, val=2.35385, took 43.522 s\n",
      "  Validation Found 8221 of 10819, added 1341 (eff 75.99%) (0.67 FP/event)\n"
     ]
    },
    {
     "data": {
      "application/vnd.jupyter.widget-view+json": {
       "model_id": "",
       "version_major": 2,
       "version_minor": 0
      },
      "text/plain": [
       "HBox(children=(FloatProgress(value=0.0, description='Training', layout=Layout(flex='2'), max=1125.0, style=Pro…"
      ]
     },
     "metadata": {},
     "output_type": "display_data"
    },
    {
     "name": "stdout",
     "output_type": "stream",
     "text": [
      "Epoch 19: train=2.4204, val=2.35082, took 43.696 s\n",
      "  Validation Found 8214 of 10819, added 1353 (eff 75.92%) (0.676 FP/event)\n"
     ]
    },
    {
     "data": {
      "application/vnd.jupyter.widget-view+json": {
       "model_id": "",
       "version_major": 2,
       "version_minor": 0
      },
      "text/plain": [
       "HBox(children=(FloatProgress(value=0.0, description='Training', layout=Layout(flex='2'), max=1125.0, style=Pro…"
      ]
     },
     "metadata": {},
     "output_type": "display_data"
    },
    {
     "name": "stdout",
     "output_type": "stream",
     "text": [
      "Epoch 20: train=2.41675, val=2.34968, took 43.517 s\n",
      "  Validation Found 8235 of 10819, added 1351 (eff 76.12%) (0.675 FP/event)\n"
     ]
    },
    {
     "data": {
      "application/vnd.jupyter.widget-view+json": {
       "model_id": "",
       "version_major": 2,
       "version_minor": 0
      },
      "text/plain": [
       "HBox(children=(FloatProgress(value=0.0, description='Training', layout=Layout(flex='2'), max=1125.0, style=Pro…"
      ]
     },
     "metadata": {},
     "output_type": "display_data"
    },
    {
     "name": "stdout",
     "output_type": "stream",
     "text": [
      "Epoch 21: train=2.41181, val=2.34697, took 43.732 s\n",
      "  Validation Found 8221 of 10819, added 1363 (eff 75.99%) (0.681 FP/event)\n"
     ]
    },
    {
     "data": {
      "application/vnd.jupyter.widget-view+json": {
       "model_id": "",
       "version_major": 2,
       "version_minor": 0
      },
      "text/plain": [
       "HBox(children=(FloatProgress(value=0.0, description='Training', layout=Layout(flex='2'), max=1125.0, style=Pro…"
      ]
     },
     "metadata": {},
     "output_type": "display_data"
    },
    {
     "name": "stdout",
     "output_type": "stream",
     "text": [
      "Epoch 22: train=2.41281, val=2.34874, took 43.759 s\n",
      "  Validation Found 8226 of 10819, added 1355 (eff 76.03%) (0.677 FP/event)\n"
     ]
    },
    {
     "data": {
      "application/vnd.jupyter.widget-view+json": {
       "model_id": "",
       "version_major": 2,
       "version_minor": 0
      },
      "text/plain": [
       "HBox(children=(FloatProgress(value=0.0, description='Training', layout=Layout(flex='2'), max=1125.0, style=Pro…"
      ]
     },
     "metadata": {},
     "output_type": "display_data"
    },
    {
     "name": "stdout",
     "output_type": "stream",
     "text": [
      "Epoch 23: train=2.4139, val=2.34296, took 43.678 s\n",
      "  Validation Found 8242 of 10819, added 1357 (eff 76.18%) (0.678 FP/event)\n"
     ]
    },
    {
     "data": {
      "application/vnd.jupyter.widget-view+json": {
       "model_id": "",
       "version_major": 2,
       "version_minor": 0
      },
      "text/plain": [
       "HBox(children=(FloatProgress(value=0.0, description='Training', layout=Layout(flex='2'), max=1125.0, style=Pro…"
      ]
     },
     "metadata": {},
     "output_type": "display_data"
    },
    {
     "name": "stdout",
     "output_type": "stream",
     "text": [
      "Epoch 24: train=2.41291, val=2.34204, took 43.538 s\n",
      "  Validation Found 8223 of 10819, added 1371 (eff 76.01%) (0.685 FP/event)\n"
     ]
    },
    {
     "data": {
      "application/vnd.jupyter.widget-view+json": {
       "model_id": "",
       "version_major": 2,
       "version_minor": 0
      },
      "text/plain": [
       "HBox(children=(FloatProgress(value=0.0, description='Training', layout=Layout(flex='2'), max=1125.0, style=Pro…"
      ]
     },
     "metadata": {},
     "output_type": "display_data"
    },
    {
     "name": "stdout",
     "output_type": "stream",
     "text": [
      "Epoch 25: train=2.4119, val=2.33936, took 43.613 s\n",
      "  Validation Found 8237 of 10819, added 1357 (eff 76.13%) (0.678 FP/event)\n"
     ]
    },
    {
     "data": {
      "application/vnd.jupyter.widget-view+json": {
       "model_id": "",
       "version_major": 2,
       "version_minor": 0
      },
      "text/plain": [
       "HBox(children=(FloatProgress(value=0.0, description='Training', layout=Layout(flex='2'), max=1125.0, style=Pro…"
      ]
     },
     "metadata": {},
     "output_type": "display_data"
    },
    {
     "name": "stdout",
     "output_type": "stream",
     "text": [
      "Epoch 26: train=2.41038, val=2.33833, took 43.7 s\n",
      "  Validation Found 8240 of 10819, added 1361 (eff 76.16%) (0.68 FP/event)\n"
     ]
    },
    {
     "data": {
      "application/vnd.jupyter.widget-view+json": {
       "model_id": "",
       "version_major": 2,
       "version_minor": 0
      },
      "text/plain": [
       "HBox(children=(FloatProgress(value=0.0, description='Training', layout=Layout(flex='2'), max=1125.0, style=Pro…"
      ]
     },
     "metadata": {},
     "output_type": "display_data"
    },
    {
     "name": "stdout",
     "output_type": "stream",
     "text": [
      "Epoch 27: train=2.40842, val=2.33675, took 43.913 s\n",
      "  Validation Found 8243 of 10819, added 1364 (eff 76.19%) (0.682 FP/event)\n"
     ]
    },
    {
     "data": {
      "application/vnd.jupyter.widget-view+json": {
       "model_id": "",
       "version_major": 2,
       "version_minor": 0
      },
      "text/plain": [
       "HBox(children=(FloatProgress(value=0.0, description='Training', layout=Layout(flex='2'), max=1125.0, style=Pro…"
      ]
     },
     "metadata": {},
     "output_type": "display_data"
    },
    {
     "name": "stdout",
     "output_type": "stream",
     "text": [
      "Epoch 28: train=2.4053, val=2.33558, took 43.82 s\n",
      "  Validation Found 8243 of 10819, added 1366 (eff 76.19%) (0.683 FP/event)\n"
     ]
    },
    {
     "data": {
      "application/vnd.jupyter.widget-view+json": {
       "model_id": "",
       "version_major": 2,
       "version_minor": 0
      },
      "text/plain": [
       "HBox(children=(FloatProgress(value=0.0, description='Training', layout=Layout(flex='2'), max=1125.0, style=Pro…"
      ]
     },
     "metadata": {},
     "output_type": "display_data"
    },
    {
     "name": "stdout",
     "output_type": "stream",
     "text": [
      "Epoch 29: train=2.41032, val=2.33363, took 43.549 s\n",
      "  Validation Found 8248 of 10819, added 1376 (eff 76.24%) (0.688 FP/event)\n"
     ]
    },
    {
     "data": {
      "application/vnd.jupyter.widget-view+json": {
       "model_id": "",
       "version_major": 2,
       "version_minor": 0
      },
      "text/plain": [
       "HBox(children=(FloatProgress(value=0.0, description='Training', layout=Layout(flex='2'), max=1125.0, style=Pro…"
      ]
     },
     "metadata": {},
     "output_type": "display_data"
    },
    {
     "name": "stdout",
     "output_type": "stream",
     "text": [
      "Epoch 30: train=2.40708, val=2.33178, took 43.711 s\n",
      "  Validation Found 8241 of 10819, added 1366 (eff 76.17%) (0.683 FP/event)\n"
     ]
    },
    {
     "data": {
      "application/vnd.jupyter.widget-view+json": {
       "model_id": "",
       "version_major": 2,
       "version_minor": 0
      },
      "text/plain": [
       "HBox(children=(FloatProgress(value=0.0, description='Training', layout=Layout(flex='2'), max=1125.0, style=Pro…"
      ]
     },
     "metadata": {},
     "output_type": "display_data"
    },
    {
     "name": "stdout",
     "output_type": "stream",
     "text": [
      "Epoch 31: train=2.40784, val=2.33127, took 43.891 s\n",
      "  Validation Found 8258 of 10819, added 1365 (eff 76.33%) (0.682 FP/event)\n"
     ]
    },
    {
     "data": {
      "application/vnd.jupyter.widget-view+json": {
       "model_id": "",
       "version_major": 2,
       "version_minor": 0
      },
      "text/plain": [
       "HBox(children=(FloatProgress(value=0.0, description='Training', layout=Layout(flex='2'), max=1125.0, style=Pro…"
      ]
     },
     "metadata": {},
     "output_type": "display_data"
    },
    {
     "name": "stdout",
     "output_type": "stream",
     "text": [
      "Epoch 32: train=2.39997, val=2.32897, took 43.647 s\n",
      "  Validation Found 8253 of 10819, added 1370 (eff 76.28%) (0.685 FP/event)\n"
     ]
    },
    {
     "data": {
      "application/vnd.jupyter.widget-view+json": {
       "model_id": "",
       "version_major": 2,
       "version_minor": 0
      },
      "text/plain": [
       "HBox(children=(FloatProgress(value=0.0, description='Training', layout=Layout(flex='2'), max=1125.0, style=Pro…"
      ]
     },
     "metadata": {},
     "output_type": "display_data"
    },
    {
     "name": "stdout",
     "output_type": "stream",
     "text": [
      "Epoch 33: train=2.40042, val=2.32932, took 43.824 s\n",
      "  Validation Found 8248 of 10819, added 1378 (eff 76.24%) (0.689 FP/event)\n"
     ]
    },
    {
     "data": {
      "application/vnd.jupyter.widget-view+json": {
       "model_id": "",
       "version_major": 2,
       "version_minor": 0
      },
      "text/plain": [
       "HBox(children=(FloatProgress(value=0.0, description='Training', layout=Layout(flex='2'), max=1125.0, style=Pro…"
      ]
     },
     "metadata": {},
     "output_type": "display_data"
    },
    {
     "name": "stdout",
     "output_type": "stream",
     "text": [
      "Epoch 34: train=2.39963, val=2.32579, took 43.534 s\n",
      "  Validation Found 8257 of 10819, added 1377 (eff 76.32%) (0.688 FP/event)\n"
     ]
    },
    {
     "data": {
      "application/vnd.jupyter.widget-view+json": {
       "model_id": "",
       "version_major": 2,
       "version_minor": 0
      },
      "text/plain": [
       "HBox(children=(FloatProgress(value=0.0, description='Training', layout=Layout(flex='2'), max=1125.0, style=Pro…"
      ]
     },
     "metadata": {},
     "output_type": "display_data"
    },
    {
     "name": "stdout",
     "output_type": "stream",
     "text": [
      "Epoch 35: train=2.39915, val=2.32761, took 43.682 s\n",
      "  Validation Found 8254 of 10819, added 1386 (eff 76.29%) (0.693 FP/event)\n"
     ]
    },
    {
     "data": {
      "application/vnd.jupyter.widget-view+json": {
       "model_id": "",
       "version_major": 2,
       "version_minor": 0
      },
      "text/plain": [
       "HBox(children=(FloatProgress(value=0.0, description='Training', layout=Layout(flex='2'), max=1125.0, style=Pro…"
      ]
     },
     "metadata": {},
     "output_type": "display_data"
    },
    {
     "name": "stdout",
     "output_type": "stream",
     "text": [
      "Epoch 36: train=2.39511, val=2.3243, took 43.421 s\n",
      "  Validation Found 8266 of 10819, added 1385 (eff 76.40%) (0.692 FP/event)\n"
     ]
    },
    {
     "data": {
      "application/vnd.jupyter.widget-view+json": {
       "model_id": "",
       "version_major": 2,
       "version_minor": 0
      },
      "text/plain": [
       "HBox(children=(FloatProgress(value=0.0, description='Training', layout=Layout(flex='2'), max=1125.0, style=Pro…"
      ]
     },
     "metadata": {},
     "output_type": "display_data"
    },
    {
     "name": "stdout",
     "output_type": "stream",
     "text": [
      "Epoch 37: train=2.39697, val=2.32302, took 43.75 s\n",
      "  Validation Found 8285 of 10819, added 1357 (eff 76.58%) (0.678 FP/event)\n"
     ]
    },
    {
     "data": {
      "application/vnd.jupyter.widget-view+json": {
       "model_id": "",
       "version_major": 2,
       "version_minor": 0
      },
      "text/plain": [
       "HBox(children=(FloatProgress(value=0.0, description='Training', layout=Layout(flex='2'), max=1125.0, style=Pro…"
      ]
     },
     "metadata": {},
     "output_type": "display_data"
    },
    {
     "name": "stdout",
     "output_type": "stream",
     "text": [
      "Epoch 38: train=2.39532, val=2.3223, took 43.813 s\n",
      "  Validation Found 8284 of 10819, added 1366 (eff 76.57%) (0.683 FP/event)\n"
     ]
    },
    {
     "data": {
      "application/vnd.jupyter.widget-view+json": {
       "model_id": "",
       "version_major": 2,
       "version_minor": 0
      },
      "text/plain": [
       "HBox(children=(FloatProgress(value=0.0, description='Training', layout=Layout(flex='2'), max=1125.0, style=Pro…"
      ]
     },
     "metadata": {},
     "output_type": "display_data"
    },
    {
     "name": "stdout",
     "output_type": "stream",
     "text": [
      "Epoch 39: train=2.39713, val=2.32041, took 43.61 s\n",
      "  Validation Found 8276 of 10819, added 1378 (eff 76.50%) (0.689 FP/event)\n"
     ]
    },
    {
     "data": {
      "application/vnd.jupyter.widget-view+json": {
       "model_id": "",
       "version_major": 2,
       "version_minor": 0
      },
      "text/plain": [
       "HBox(children=(FloatProgress(value=0.0, description='Training', layout=Layout(flex='2'), max=1125.0, style=Pro…"
      ]
     },
     "metadata": {},
     "output_type": "display_data"
    },
    {
     "name": "stdout",
     "output_type": "stream",
     "text": [
      "Epoch 40: train=2.39007, val=2.31924, took 43.66 s\n",
      "  Validation Found 8284 of 10819, added 1372 (eff 76.57%) (0.686 FP/event)\n"
     ]
    },
    {
     "data": {
      "application/vnd.jupyter.widget-view+json": {
       "model_id": "",
       "version_major": 2,
       "version_minor": 0
      },
      "text/plain": [
       "HBox(children=(FloatProgress(value=0.0, description='Training', layout=Layout(flex='2'), max=1125.0, style=Pro…"
      ]
     },
     "metadata": {},
     "output_type": "display_data"
    },
    {
     "name": "stdout",
     "output_type": "stream",
     "text": [
      "Epoch 41: train=2.39016, val=2.31832, took 43.875 s\n",
      "  Validation Found 8274 of 10819, added 1389 (eff 76.48%) (0.694 FP/event)\n"
     ]
    },
    {
     "data": {
      "application/vnd.jupyter.widget-view+json": {
       "model_id": "",
       "version_major": 2,
       "version_minor": 0
      },
      "text/plain": [
       "HBox(children=(FloatProgress(value=0.0, description='Training', layout=Layout(flex='2'), max=1125.0, style=Pro…"
      ]
     },
     "metadata": {},
     "output_type": "display_data"
    },
    {
     "name": "stdout",
     "output_type": "stream",
     "text": [
      "Epoch 42: train=2.39171, val=2.31756, took 43.583 s\n",
      "  Validation Found 8285 of 10819, added 1378 (eff 76.58%) (0.689 FP/event)\n"
     ]
    },
    {
     "data": {
      "application/vnd.jupyter.widget-view+json": {
       "model_id": "",
       "version_major": 2,
       "version_minor": 0
      },
      "text/plain": [
       "HBox(children=(FloatProgress(value=0.0, description='Training', layout=Layout(flex='2'), max=1125.0, style=Pro…"
      ]
     },
     "metadata": {},
     "output_type": "display_data"
    },
    {
     "name": "stdout",
     "output_type": "stream",
     "text": [
      "Epoch 43: train=2.39211, val=2.31604, took 43.661 s\n",
      "  Validation Found 8287 of 10819, added 1386 (eff 76.60%) (0.693 FP/event)\n"
     ]
    },
    {
     "data": {
      "application/vnd.jupyter.widget-view+json": {
       "model_id": "",
       "version_major": 2,
       "version_minor": 0
      },
      "text/plain": [
       "HBox(children=(FloatProgress(value=0.0, description='Training', layout=Layout(flex='2'), max=1125.0, style=Pro…"
      ]
     },
     "metadata": {},
     "output_type": "display_data"
    },
    {
     "name": "stdout",
     "output_type": "stream",
     "text": [
      "Epoch 44: train=2.39064, val=2.31557, took 43.689 s\n",
      "  Validation Found 8284 of 10819, added 1388 (eff 76.57%) (0.694 FP/event)\n"
     ]
    },
    {
     "data": {
      "application/vnd.jupyter.widget-view+json": {
       "model_id": "",
       "version_major": 2,
       "version_minor": 0
      },
      "text/plain": [
       "HBox(children=(FloatProgress(value=0.0, description='Training', layout=Layout(flex='2'), max=1125.0, style=Pro…"
      ]
     },
     "metadata": {},
     "output_type": "display_data"
    },
    {
     "name": "stdout",
     "output_type": "stream",
     "text": [
      "Epoch 45: train=2.39233, val=2.31763, took 43.615 s\n",
      "  Validation Found 8306 of 10819, added 1360 (eff 76.77%) (0.68 FP/event)\n"
     ]
    },
    {
     "data": {
      "application/vnd.jupyter.widget-view+json": {
       "model_id": "",
       "version_major": 2,
       "version_minor": 0
      },
      "text/plain": [
       "HBox(children=(FloatProgress(value=0.0, description='Training', layout=Layout(flex='2'), max=1125.0, style=Pro…"
      ]
     },
     "metadata": {},
     "output_type": "display_data"
    },
    {
     "name": "stdout",
     "output_type": "stream",
     "text": [
      "Epoch 46: train=2.38821, val=2.31392, took 43.71 s\n",
      "  Validation Found 8306 of 10819, added 1377 (eff 76.77%) (0.688 FP/event)\n"
     ]
    },
    {
     "data": {
      "application/vnd.jupyter.widget-view+json": {
       "model_id": "",
       "version_major": 2,
       "version_minor": 0
      },
      "text/plain": [
       "HBox(children=(FloatProgress(value=0.0, description='Training', layout=Layout(flex='2'), max=1125.0, style=Pro…"
      ]
     },
     "metadata": {},
     "output_type": "display_data"
    },
    {
     "name": "stdout",
     "output_type": "stream",
     "text": [
      "Epoch 47: train=2.38567, val=2.31378, took 43.779 s\n",
      "  Validation Found 8293 of 10819, added 1400 (eff 76.65%) (0.7 FP/event)\n"
     ]
    },
    {
     "data": {
      "application/vnd.jupyter.widget-view+json": {
       "model_id": "",
       "version_major": 2,
       "version_minor": 0
      },
      "text/plain": [
       "HBox(children=(FloatProgress(value=0.0, description='Training', layout=Layout(flex='2'), max=1125.0, style=Pro…"
      ]
     },
     "metadata": {},
     "output_type": "display_data"
    },
    {
     "name": "stdout",
     "output_type": "stream",
     "text": [
      "Epoch 48: train=2.39387, val=2.31184, took 43.714 s\n",
      "  Validation Found 8301 of 10819, added 1396 (eff 76.73%) (0.698 FP/event)\n"
     ]
    },
    {
     "data": {
      "application/vnd.jupyter.widget-view+json": {
       "model_id": "",
       "version_major": 2,
       "version_minor": 0
      },
      "text/plain": [
       "HBox(children=(FloatProgress(value=0.0, description='Training', layout=Layout(flex='2'), max=1125.0, style=Pro…"
      ]
     },
     "metadata": {},
     "output_type": "display_data"
    },
    {
     "name": "stdout",
     "output_type": "stream",
     "text": [
      "Epoch 49: train=2.38527, val=2.31129, took 43.671 s\n",
      "  Validation Found 8300 of 10819, added 1395 (eff 76.72%) (0.697 FP/event)\n"
     ]
    },
    {
     "data": {
      "application/vnd.jupyter.widget-view+json": {
       "model_id": "",
       "version_major": 2,
       "version_minor": 0
      },
      "text/plain": [
       "HBox(children=(FloatProgress(value=0.0, description='Training', layout=Layout(flex='2'), max=1125.0, style=Pro…"
      ]
     },
     "metadata": {},
     "output_type": "display_data"
    },
    {
     "name": "stdout",
     "output_type": "stream",
     "text": [
      "Epoch 50: train=2.38772, val=2.30976, took 43.628 s\n",
      "  Validation Found 8296 of 10819, added 1400 (eff 76.68%) (0.7 FP/event)\n"
     ]
    },
    {
     "data": {
      "application/vnd.jupyter.widget-view+json": {
       "model_id": "",
       "version_major": 2,
       "version_minor": 0
      },
      "text/plain": [
       "HBox(children=(FloatProgress(value=0.0, description='Training', layout=Layout(flex='2'), max=1125.0, style=Pro…"
      ]
     },
     "metadata": {},
     "output_type": "display_data"
    },
    {
     "name": "stdout",
     "output_type": "stream",
     "text": [
      "Epoch 51: train=2.39041, val=2.30907, took 43.773 s\n",
      "  Validation Found 8315 of 10819, added 1381 (eff 76.86%) (0.69 FP/event)\n"
     ]
    },
    {
     "data": {
      "application/vnd.jupyter.widget-view+json": {
       "model_id": "",
       "version_major": 2,
       "version_minor": 0
      },
      "text/plain": [
       "HBox(children=(FloatProgress(value=0.0, description='Training', layout=Layout(flex='2'), max=1125.0, style=Pro…"
      ]
     },
     "metadata": {},
     "output_type": "display_data"
    },
    {
     "name": "stdout",
     "output_type": "stream",
     "text": [
      "Epoch 52: train=2.38128, val=2.30884, took 44.344 s\n",
      "  Validation Found 8306 of 10819, added 1396 (eff 76.77%) (0.698 FP/event)\n"
     ]
    },
    {
     "data": {
      "application/vnd.jupyter.widget-view+json": {
       "model_id": "",
       "version_major": 2,
       "version_minor": 0
      },
      "text/plain": [
       "HBox(children=(FloatProgress(value=0.0, description='Training', layout=Layout(flex='2'), max=1125.0, style=Pro…"
      ]
     },
     "metadata": {},
     "output_type": "display_data"
    },
    {
     "name": "stdout",
     "output_type": "stream",
     "text": [
      "Epoch 53: train=2.38812, val=2.30852, took 43.808 s\n",
      "  Validation Found 8319 of 10819, added 1385 (eff 76.89%) (0.692 FP/event)\n"
     ]
    },
    {
     "data": {
      "application/vnd.jupyter.widget-view+json": {
       "model_id": "",
       "version_major": 2,
       "version_minor": 0
      },
      "text/plain": [
       "HBox(children=(FloatProgress(value=0.0, description='Training', layout=Layout(flex='2'), max=1125.0, style=Pro…"
      ]
     },
     "metadata": {},
     "output_type": "display_data"
    },
    {
     "name": "stdout",
     "output_type": "stream",
     "text": [
      "Epoch 54: train=2.38646, val=2.30934, took 43.967 s\n",
      "  Validation Found 8332 of 10819, added 1362 (eff 77.01%) (0.681 FP/event)\n"
     ]
    },
    {
     "data": {
      "application/vnd.jupyter.widget-view+json": {
       "model_id": "",
       "version_major": 2,
       "version_minor": 0
      },
      "text/plain": [
       "HBox(children=(FloatProgress(value=0.0, description='Training', layout=Layout(flex='2'), max=1125.0, style=Pro…"
      ]
     },
     "metadata": {},
     "output_type": "display_data"
    },
    {
     "name": "stdout",
     "output_type": "stream",
     "text": [
      "Epoch 55: train=2.38507, val=2.30779, took 43.439 s\n",
      "  Validation Found 8328 of 10819, added 1370 (eff 76.98%) (0.685 FP/event)\n"
     ]
    },
    {
     "data": {
      "application/vnd.jupyter.widget-view+json": {
       "model_id": "",
       "version_major": 2,
       "version_minor": 0
      },
      "text/plain": [
       "HBox(children=(FloatProgress(value=0.0, description='Training', layout=Layout(flex='2'), max=1125.0, style=Pro…"
      ]
     },
     "metadata": {},
     "output_type": "display_data"
    },
    {
     "name": "stdout",
     "output_type": "stream",
     "text": [
      "Epoch 56: train=2.38581, val=2.30609, took 43.717 s\n",
      "  Validation Found 8317 of 10819, added 1396 (eff 76.87%) (0.698 FP/event)\n"
     ]
    },
    {
     "data": {
      "application/vnd.jupyter.widget-view+json": {
       "model_id": "",
       "version_major": 2,
       "version_minor": 0
      },
      "text/plain": [
       "HBox(children=(FloatProgress(value=0.0, description='Training', layout=Layout(flex='2'), max=1125.0, style=Pro…"
      ]
     },
     "metadata": {},
     "output_type": "display_data"
    },
    {
     "name": "stdout",
     "output_type": "stream",
     "text": [
      "Epoch 57: train=2.38113, val=2.30569, took 43.987 s\n",
      "  Validation Found 8313 of 10819, added 1409 (eff 76.84%) (0.704 FP/event)\n"
     ]
    },
    {
     "data": {
      "application/vnd.jupyter.widget-view+json": {
       "model_id": "",
       "version_major": 2,
       "version_minor": 0
      },
      "text/plain": [
       "HBox(children=(FloatProgress(value=0.0, description='Training', layout=Layout(flex='2'), max=1125.0, style=Pro…"
      ]
     },
     "metadata": {},
     "output_type": "display_data"
    },
    {
     "name": "stdout",
     "output_type": "stream",
     "text": [
      "Epoch 58: train=2.38512, val=2.30568, took 44.393 s\n",
      "  Validation Found 8329 of 10819, added 1381 (eff 76.98%) (0.69 FP/event)\n"
     ]
    },
    {
     "data": {
      "application/vnd.jupyter.widget-view+json": {
       "model_id": "",
       "version_major": 2,
       "version_minor": 0
      },
      "text/plain": [
       "HBox(children=(FloatProgress(value=0.0, description='Training', layout=Layout(flex='2'), max=1125.0, style=Pro…"
      ]
     },
     "metadata": {},
     "output_type": "display_data"
    },
    {
     "name": "stdout",
     "output_type": "stream",
     "text": [
      "Epoch 59: train=2.37807, val=2.30329, took 43.803 s\n",
      "  Validation Found 8323 of 10819, added 1392 (eff 76.93%) (0.696 FP/event)\n"
     ]
    },
    {
     "data": {
      "application/vnd.jupyter.widget-view+json": {
       "model_id": "",
       "version_major": 2,
       "version_minor": 0
      },
      "text/plain": [
       "HBox(children=(FloatProgress(value=0.0, description='Training', layout=Layout(flex='2'), max=1125.0, style=Pro…"
      ]
     },
     "metadata": {},
     "output_type": "display_data"
    },
    {
     "name": "stdout",
     "output_type": "stream",
     "text": [
      "Epoch 60: train=2.38213, val=2.30271, took 43.782 s\n",
      "  Validation Found 8321 of 10819, added 1403 (eff 76.91%) (0.701 FP/event)\n"
     ]
    },
    {
     "data": {
      "application/vnd.jupyter.widget-view+json": {
       "model_id": "",
       "version_major": 2,
       "version_minor": 0
      },
      "text/plain": [
       "HBox(children=(FloatProgress(value=0.0, description='Training', layout=Layout(flex='2'), max=1125.0, style=Pro…"
      ]
     },
     "metadata": {},
     "output_type": "display_data"
    },
    {
     "name": "stdout",
     "output_type": "stream",
     "text": [
      "Epoch 61: train=2.37581, val=2.30339, took 43.514 s\n",
      "  Validation Found 8333 of 10819, added 1394 (eff 77.02%) (0.697 FP/event)\n"
     ]
    },
    {
     "data": {
      "application/vnd.jupyter.widget-view+json": {
       "model_id": "",
       "version_major": 2,
       "version_minor": 0
      },
      "text/plain": [
       "HBox(children=(FloatProgress(value=0.0, description='Training', layout=Layout(flex='2'), max=1125.0, style=Pro…"
      ]
     },
     "metadata": {},
     "output_type": "display_data"
    },
    {
     "name": "stdout",
     "output_type": "stream",
     "text": [
      "Epoch 62: train=2.38412, val=2.30272, took 43.587 s\n",
      "  Validation Found 8332 of 10819, added 1391 (eff 77.01%) (0.695 FP/event)\n"
     ]
    },
    {
     "data": {
      "application/vnd.jupyter.widget-view+json": {
       "model_id": "",
       "version_major": 2,
       "version_minor": 0
      },
      "text/plain": [
       "HBox(children=(FloatProgress(value=0.0, description='Training', layout=Layout(flex='2'), max=1125.0, style=Pro…"
      ]
     },
     "metadata": {},
     "output_type": "display_data"
    },
    {
     "name": "stdout",
     "output_type": "stream",
     "text": [
      "Epoch 63: train=2.37791, val=2.30163, took 43.85 s\n",
      "  Validation Found 8328 of 10819, added 1401 (eff 76.98%) (0.7 FP/event)\n"
     ]
    },
    {
     "data": {
      "application/vnd.jupyter.widget-view+json": {
       "model_id": "",
       "version_major": 2,
       "version_minor": 0
      },
      "text/plain": [
       "HBox(children=(FloatProgress(value=0.0, description='Training', layout=Layout(flex='2'), max=1125.0, style=Pro…"
      ]
     },
     "metadata": {},
     "output_type": "display_data"
    },
    {
     "name": "stdout",
     "output_type": "stream",
     "text": [
      "Epoch 64: train=2.37725, val=2.30232, took 43.73 s\n",
      "  Validation Found 8328 of 10819, added 1412 (eff 76.98%) (0.706 FP/event)\n"
     ]
    },
    {
     "data": {
      "application/vnd.jupyter.widget-view+json": {
       "model_id": "",
       "version_major": 2,
       "version_minor": 0
      },
      "text/plain": [
       "HBox(children=(FloatProgress(value=0.0, description='Training', layout=Layout(flex='2'), max=1125.0, style=Pro…"
      ]
     },
     "metadata": {},
     "output_type": "display_data"
    },
    {
     "name": "stdout",
     "output_type": "stream",
     "text": [
      "Epoch 65: train=2.38104, val=2.30042, took 44.134 s\n",
      "  Validation Found 8329 of 10819, added 1401 (eff 76.98%) (0.7 FP/event)\n"
     ]
    },
    {
     "data": {
      "application/vnd.jupyter.widget-view+json": {
       "model_id": "",
       "version_major": 2,
       "version_minor": 0
      },
      "text/plain": [
       "HBox(children=(FloatProgress(value=0.0, description='Training', layout=Layout(flex='2'), max=1125.0, style=Pro…"
      ]
     },
     "metadata": {},
     "output_type": "display_data"
    },
    {
     "name": "stdout",
     "output_type": "stream",
     "text": [
      "Epoch 66: train=2.37348, val=2.30022, took 43.613 s\n",
      "  Validation Found 8339 of 10819, added 1400 (eff 77.08%) (0.7 FP/event)\n"
     ]
    },
    {
     "data": {
      "application/vnd.jupyter.widget-view+json": {
       "model_id": "",
       "version_major": 2,
       "version_minor": 0
      },
      "text/plain": [
       "HBox(children=(FloatProgress(value=0.0, description='Training', layout=Layout(flex='2'), max=1125.0, style=Pro…"
      ]
     },
     "metadata": {},
     "output_type": "display_data"
    },
    {
     "name": "stdout",
     "output_type": "stream",
     "text": [
      "Epoch 67: train=2.37844, val=2.3016, took 43.702 s\n",
      "  Validation Found 8325 of 10819, added 1419 (eff 76.95%) (0.709 FP/event)\n"
     ]
    },
    {
     "data": {
      "application/vnd.jupyter.widget-view+json": {
       "model_id": "",
       "version_major": 2,
       "version_minor": 0
      },
      "text/plain": [
       "HBox(children=(FloatProgress(value=0.0, description='Training', layout=Layout(flex='2'), max=1125.0, style=Pro…"
      ]
     },
     "metadata": {},
     "output_type": "display_data"
    },
    {
     "name": "stdout",
     "output_type": "stream",
     "text": [
      "Epoch 68: train=2.37651, val=2.29997, took 43.696 s\n",
      "  Validation Found 8335 of 10819, added 1412 (eff 77.04%) (0.706 FP/event)\n"
     ]
    },
    {
     "data": {
      "application/vnd.jupyter.widget-view+json": {
       "model_id": "",
       "version_major": 2,
       "version_minor": 0
      },
      "text/plain": [
       "HBox(children=(FloatProgress(value=0.0, description='Training', layout=Layout(flex='2'), max=1125.0, style=Pro…"
      ]
     },
     "metadata": {},
     "output_type": "display_data"
    },
    {
     "name": "stdout",
     "output_type": "stream",
     "text": [
      "Epoch 69: train=2.3794, val=2.29793, took 44.189 s\n",
      "  Validation Found 8336 of 10819, added 1402 (eff 77.05%) (0.701 FP/event)\n"
     ]
    },
    {
     "data": {
      "application/vnd.jupyter.widget-view+json": {
       "model_id": "",
       "version_major": 2,
       "version_minor": 0
      },
      "text/plain": [
       "HBox(children=(FloatProgress(value=0.0, description='Training', layout=Layout(flex='2'), max=1125.0, style=Pro…"
      ]
     },
     "metadata": {},
     "output_type": "display_data"
    },
    {
     "name": "stdout",
     "output_type": "stream",
     "text": [
      "Epoch 70: train=2.37562, val=2.29843, took 43.647 s\n",
      "  Validation Found 8352 of 10819, added 1393 (eff 77.20%) (0.696 FP/event)\n"
     ]
    },
    {
     "data": {
      "application/vnd.jupyter.widget-view+json": {
       "model_id": "",
       "version_major": 2,
       "version_minor": 0
      },
      "text/plain": [
       "HBox(children=(FloatProgress(value=0.0, description='Training', layout=Layout(flex='2'), max=1125.0, style=Pro…"
      ]
     },
     "metadata": {},
     "output_type": "display_data"
    },
    {
     "name": "stdout",
     "output_type": "stream",
     "text": [
      "Epoch 71: train=2.37291, val=2.29688, took 43.492 s\n",
      "  Validation Found 8340 of 10819, added 1403 (eff 77.09%) (0.701 FP/event)\n"
     ]
    },
    {
     "data": {
      "application/vnd.jupyter.widget-view+json": {
       "model_id": "",
       "version_major": 2,
       "version_minor": 0
      },
      "text/plain": [
       "HBox(children=(FloatProgress(value=0.0, description='Training', layout=Layout(flex='2'), max=1125.0, style=Pro…"
      ]
     },
     "metadata": {},
     "output_type": "display_data"
    },
    {
     "name": "stdout",
     "output_type": "stream",
     "text": [
      "Epoch 72: train=2.37416, val=2.29704, took 43.689 s\n",
      "  Validation Found 8347 of 10819, added 1398 (eff 77.15%) (0.699 FP/event)\n"
     ]
    },
    {
     "data": {
      "application/vnd.jupyter.widget-view+json": {
       "model_id": "",
       "version_major": 2,
       "version_minor": 0
      },
      "text/plain": [
       "HBox(children=(FloatProgress(value=0.0, description='Training', layout=Layout(flex='2'), max=1125.0, style=Pro…"
      ]
     },
     "metadata": {},
     "output_type": "display_data"
    },
    {
     "name": "stdout",
     "output_type": "stream",
     "text": [
      "Epoch 73: train=2.37518, val=2.298, took 43.687 s\n",
      "  Validation Found 8353 of 10819, added 1375 (eff 77.21%) (0.687 FP/event)\n"
     ]
    },
    {
     "data": {
      "application/vnd.jupyter.widget-view+json": {
       "model_id": "",
       "version_major": 2,
       "version_minor": 0
      },
      "text/plain": [
       "HBox(children=(FloatProgress(value=0.0, description='Training', layout=Layout(flex='2'), max=1125.0, style=Pro…"
      ]
     },
     "metadata": {},
     "output_type": "display_data"
    },
    {
     "name": "stdout",
     "output_type": "stream",
     "text": [
      "Epoch 74: train=2.37413, val=2.29528, took 44.088 s\n",
      "  Validation Found 8345 of 10819, added 1401 (eff 77.13%) (0.7 FP/event)\n"
     ]
    },
    {
     "data": {
      "application/vnd.jupyter.widget-view+json": {
       "model_id": "",
       "version_major": 2,
       "version_minor": 0
      },
      "text/plain": [
       "HBox(children=(FloatProgress(value=0.0, description='Training', layout=Layout(flex='2'), max=1125.0, style=Pro…"
      ]
     },
     "metadata": {},
     "output_type": "display_data"
    },
    {
     "name": "stdout",
     "output_type": "stream",
     "text": [
      "Epoch 75: train=2.37224, val=2.29463, took 44.035 s\n",
      "  Validation Found 8340 of 10819, added 1414 (eff 77.09%) (0.707 FP/event)\n"
     ]
    },
    {
     "data": {
      "application/vnd.jupyter.widget-view+json": {
       "model_id": "",
       "version_major": 2,
       "version_minor": 0
      },
      "text/plain": [
       "HBox(children=(FloatProgress(value=0.0, description='Training', layout=Layout(flex='2'), max=1125.0, style=Pro…"
      ]
     },
     "metadata": {},
     "output_type": "display_data"
    },
    {
     "name": "stdout",
     "output_type": "stream",
     "text": [
      "Epoch 76: train=2.37465, val=2.29442, took 43.636 s\n",
      "  Validation Found 8347 of 10819, added 1407 (eff 77.15%) (0.703 FP/event)\n"
     ]
    },
    {
     "data": {
      "application/vnd.jupyter.widget-view+json": {
       "model_id": "",
       "version_major": 2,
       "version_minor": 0
      },
      "text/plain": [
       "HBox(children=(FloatProgress(value=0.0, description='Training', layout=Layout(flex='2'), max=1125.0, style=Pro…"
      ]
     },
     "metadata": {},
     "output_type": "display_data"
    },
    {
     "name": "stdout",
     "output_type": "stream",
     "text": [
      "Epoch 77: train=2.36919, val=2.29439, took 43.955 s\n",
      "  Validation Found 8344 of 10819, added 1402 (eff 77.12%) (0.701 FP/event)\n"
     ]
    },
    {
     "data": {
      "application/vnd.jupyter.widget-view+json": {
       "model_id": "",
       "version_major": 2,
       "version_minor": 0
      },
      "text/plain": [
       "HBox(children=(FloatProgress(value=0.0, description='Training', layout=Layout(flex='2'), max=1125.0, style=Pro…"
      ]
     },
     "metadata": {},
     "output_type": "display_data"
    },
    {
     "name": "stdout",
     "output_type": "stream",
     "text": [
      "Epoch 78: train=2.36876, val=2.2932, took 43.836 s\n",
      "  Validation Found 8353 of 10819, added 1401 (eff 77.21%) (0.7 FP/event)\n"
     ]
    },
    {
     "data": {
      "application/vnd.jupyter.widget-view+json": {
       "model_id": "",
       "version_major": 2,
       "version_minor": 0
      },
      "text/plain": [
       "HBox(children=(FloatProgress(value=0.0, description='Training', layout=Layout(flex='2'), max=1125.0, style=Pro…"
      ]
     },
     "metadata": {},
     "output_type": "display_data"
    },
    {
     "name": "stdout",
     "output_type": "stream",
     "text": [
      "Epoch 79: train=2.37628, val=2.29341, took 43.662 s\n",
      "  Validation Found 8354 of 10819, added 1414 (eff 77.22%) (0.707 FP/event)\n"
     ]
    },
    {
     "data": {
      "application/vnd.jupyter.widget-view+json": {
       "model_id": "",
       "version_major": 2,
       "version_minor": 0
      },
      "text/plain": [
       "HBox(children=(FloatProgress(value=0.0, description='Training', layout=Layout(flex='2'), max=1125.0, style=Pro…"
      ]
     },
     "metadata": {},
     "output_type": "display_data"
    },
    {
     "name": "stdout",
     "output_type": "stream",
     "text": [
      "Epoch 80: train=2.37212, val=2.2936, took 43.623 s\n",
      "  Validation Found 8359 of 10819, added 1391 (eff 77.26%) (0.695 FP/event)\n"
     ]
    },
    {
     "data": {
      "application/vnd.jupyter.widget-view+json": {
       "model_id": "",
       "version_major": 2,
       "version_minor": 0
      },
      "text/plain": [
       "HBox(children=(FloatProgress(value=0.0, description='Training', layout=Layout(flex='2'), max=1125.0, style=Pro…"
      ]
     },
     "metadata": {},
     "output_type": "display_data"
    },
    {
     "name": "stdout",
     "output_type": "stream",
     "text": [
      "Epoch 81: train=2.36943, val=2.29468, took 43.638 s\n",
      "  Validation Found 8359 of 10819, added 1388 (eff 77.26%) (0.694 FP/event)\n"
     ]
    },
    {
     "data": {
      "application/vnd.jupyter.widget-view+json": {
       "model_id": "",
       "version_major": 2,
       "version_minor": 0
      },
      "text/plain": [
       "HBox(children=(FloatProgress(value=0.0, description='Training', layout=Layout(flex='2'), max=1125.0, style=Pro…"
      ]
     },
     "metadata": {},
     "output_type": "display_data"
    },
    {
     "name": "stdout",
     "output_type": "stream",
     "text": [
      "Epoch 82: train=2.36993, val=2.29188, took 43.456 s\n",
      "  Validation Found 8356 of 10819, added 1403 (eff 77.23%) (0.701 FP/event)\n"
     ]
    },
    {
     "data": {
      "application/vnd.jupyter.widget-view+json": {
       "model_id": "",
       "version_major": 2,
       "version_minor": 0
      },
      "text/plain": [
       "HBox(children=(FloatProgress(value=0.0, description='Training', layout=Layout(flex='2'), max=1125.0, style=Pro…"
      ]
     },
     "metadata": {},
     "output_type": "display_data"
    },
    {
     "name": "stdout",
     "output_type": "stream",
     "text": [
      "Epoch 83: train=2.3704, val=2.2907, took 43.64 s\n",
      "  Validation Found 8361 of 10819, added 1402 (eff 77.28%) (0.701 FP/event)\n"
     ]
    },
    {
     "data": {
      "application/vnd.jupyter.widget-view+json": {
       "model_id": "",
       "version_major": 2,
       "version_minor": 0
      },
      "text/plain": [
       "HBox(children=(FloatProgress(value=0.0, description='Training', layout=Layout(flex='2'), max=1125.0, style=Pro…"
      ]
     },
     "metadata": {},
     "output_type": "display_data"
    },
    {
     "name": "stdout",
     "output_type": "stream",
     "text": [
      "Epoch 84: train=2.3671, val=2.29152, took 43.607 s\n",
      "  Validation Found 8356 of 10819, added 1414 (eff 77.23%) (0.707 FP/event)\n"
     ]
    },
    {
     "data": {
      "application/vnd.jupyter.widget-view+json": {
       "model_id": "",
       "version_major": 2,
       "version_minor": 0
      },
      "text/plain": [
       "HBox(children=(FloatProgress(value=0.0, description='Training', layout=Layout(flex='2'), max=1125.0, style=Pro…"
      ]
     },
     "metadata": {},
     "output_type": "display_data"
    },
    {
     "name": "stdout",
     "output_type": "stream",
     "text": [
      "Epoch 85: train=2.36576, val=2.29299, took 44.251 s\n",
      "  Validation Found 8369 of 10819, added 1389 (eff 77.35%) (0.694 FP/event)\n"
     ]
    },
    {
     "data": {
      "application/vnd.jupyter.widget-view+json": {
       "model_id": "",
       "version_major": 2,
       "version_minor": 0
      },
      "text/plain": [
       "HBox(children=(FloatProgress(value=0.0, description='Training', layout=Layout(flex='2'), max=1125.0, style=Pro…"
      ]
     },
     "metadata": {},
     "output_type": "display_data"
    },
    {
     "name": "stdout",
     "output_type": "stream",
     "text": [
      "Epoch 86: train=2.3714, val=2.29362, took 43.898 s\n",
      "  Validation Found 8362 of 10819, added 1389 (eff 77.29%) (0.694 FP/event)\n"
     ]
    },
    {
     "data": {
      "application/vnd.jupyter.widget-view+json": {
       "model_id": "",
       "version_major": 2,
       "version_minor": 0
      },
      "text/plain": [
       "HBox(children=(FloatProgress(value=0.0, description='Training', layout=Layout(flex='2'), max=1125.0, style=Pro…"
      ]
     },
     "metadata": {},
     "output_type": "display_data"
    },
    {
     "name": "stdout",
     "output_type": "stream",
     "text": [
      "Epoch 87: train=2.36644, val=2.29178, took 43.816 s\n",
      "  Validation Found 8371 of 10819, added 1380 (eff 77.37%) (0.69 FP/event)\n"
     ]
    },
    {
     "data": {
      "application/vnd.jupyter.widget-view+json": {
       "model_id": "",
       "version_major": 2,
       "version_minor": 0
      },
      "text/plain": [
       "HBox(children=(FloatProgress(value=0.0, description='Training', layout=Layout(flex='2'), max=1125.0, style=Pro…"
      ]
     },
     "metadata": {},
     "output_type": "display_data"
    },
    {
     "name": "stdout",
     "output_type": "stream",
     "text": [
      "Epoch 88: train=2.36491, val=2.2898, took 43.749 s\n",
      "  Validation Found 8366 of 10819, added 1393 (eff 77.33%) (0.696 FP/event)\n"
     ]
    },
    {
     "data": {
      "application/vnd.jupyter.widget-view+json": {
       "model_id": "",
       "version_major": 2,
       "version_minor": 0
      },
      "text/plain": [
       "HBox(children=(FloatProgress(value=0.0, description='Training', layout=Layout(flex='2'), max=1125.0, style=Pro…"
      ]
     },
     "metadata": {},
     "output_type": "display_data"
    },
    {
     "name": "stdout",
     "output_type": "stream",
     "text": [
      "Epoch 89: train=2.36317, val=2.28985, took 43.615 s\n",
      "  Validation Found 8366 of 10819, added 1391 (eff 77.33%) (0.695 FP/event)\n"
     ]
    },
    {
     "data": {
      "application/vnd.jupyter.widget-view+json": {
       "model_id": "",
       "version_major": 2,
       "version_minor": 0
      },
      "text/plain": [
       "HBox(children=(FloatProgress(value=0.0, description='Training', layout=Layout(flex='2'), max=1125.0, style=Pro…"
      ]
     },
     "metadata": {},
     "output_type": "display_data"
    },
    {
     "name": "stdout",
     "output_type": "stream",
     "text": [
      "Epoch 90: train=2.36702, val=2.28709, took 44.273 s\n",
      "  Validation Found 8361 of 10819, added 1413 (eff 77.28%) (0.706 FP/event)\n"
     ]
    },
    {
     "data": {
      "application/vnd.jupyter.widget-view+json": {
       "model_id": "",
       "version_major": 2,
       "version_minor": 0
      },
      "text/plain": [
       "HBox(children=(FloatProgress(value=0.0, description='Training', layout=Layout(flex='2'), max=1125.0, style=Pro…"
      ]
     },
     "metadata": {},
     "output_type": "display_data"
    },
    {
     "name": "stdout",
     "output_type": "stream",
     "text": [
      "Epoch 91: train=2.36891, val=2.28712, took 43.638 s\n",
      "  Validation Found 8364 of 10819, added 1414 (eff 77.31%) (0.707 FP/event)\n"
     ]
    },
    {
     "data": {
      "application/vnd.jupyter.widget-view+json": {
       "model_id": "",
       "version_major": 2,
       "version_minor": 0
      },
      "text/plain": [
       "HBox(children=(FloatProgress(value=0.0, description='Training', layout=Layout(flex='2'), max=1125.0, style=Pro…"
      ]
     },
     "metadata": {},
     "output_type": "display_data"
    },
    {
     "name": "stdout",
     "output_type": "stream",
     "text": [
      "Epoch 92: train=2.36545, val=2.28793, took 43.632 s\n",
      "  Validation Found 8368 of 10819, added 1400 (eff 77.35%) (0.7 FP/event)\n"
     ]
    },
    {
     "data": {
      "application/vnd.jupyter.widget-view+json": {
       "model_id": "",
       "version_major": 2,
       "version_minor": 0
      },
      "text/plain": [
       "HBox(children=(FloatProgress(value=0.0, description='Training', layout=Layout(flex='2'), max=1125.0, style=Pro…"
      ]
     },
     "metadata": {},
     "output_type": "display_data"
    },
    {
     "name": "stdout",
     "output_type": "stream",
     "text": [
      "Epoch 93: train=2.36633, val=2.28696, took 43.748 s\n",
      "  Validation Found 8356 of 10819, added 1416 (eff 77.23%) (0.708 FP/event)\n"
     ]
    },
    {
     "data": {
      "application/vnd.jupyter.widget-view+json": {
       "model_id": "",
       "version_major": 2,
       "version_minor": 0
      },
      "text/plain": [
       "HBox(children=(FloatProgress(value=0.0, description='Training', layout=Layout(flex='2'), max=1125.0, style=Pro…"
      ]
     },
     "metadata": {},
     "output_type": "display_data"
    },
    {
     "name": "stdout",
     "output_type": "stream",
     "text": [
      "Epoch 94: train=2.36882, val=2.28626, took 43.65 s\n",
      "  Validation Found 8365 of 10819, added 1413 (eff 77.32%) (0.706 FP/event)\n"
     ]
    },
    {
     "data": {
      "application/vnd.jupyter.widget-view+json": {
       "model_id": "",
       "version_major": 2,
       "version_minor": 0
      },
      "text/plain": [
       "HBox(children=(FloatProgress(value=0.0, description='Training', layout=Layout(flex='2'), max=1125.0, style=Pro…"
      ]
     },
     "metadata": {},
     "output_type": "display_data"
    },
    {
     "name": "stdout",
     "output_type": "stream",
     "text": [
      "Epoch 95: train=2.36522, val=2.28548, took 44.218 s\n",
      "  Validation Found 8369 of 10819, added 1414 (eff 77.35%) (0.707 FP/event)\n"
     ]
    },
    {
     "data": {
      "application/vnd.jupyter.widget-view+json": {
       "model_id": "",
       "version_major": 2,
       "version_minor": 0
      },
      "text/plain": [
       "HBox(children=(FloatProgress(value=0.0, description='Training', layout=Layout(flex='2'), max=1125.0, style=Pro…"
      ]
     },
     "metadata": {},
     "output_type": "display_data"
    },
    {
     "name": "stdout",
     "output_type": "stream",
     "text": [
      "Epoch 96: train=2.3618, val=2.28658, took 44.095 s\n",
      "  Validation Found 8375 of 10819, added 1397 (eff 77.41%) (0.698 FP/event)\n"
     ]
    },
    {
     "data": {
      "application/vnd.jupyter.widget-view+json": {
       "model_id": "",
       "version_major": 2,
       "version_minor": 0
      },
      "text/plain": [
       "HBox(children=(FloatProgress(value=0.0, description='Training', layout=Layout(flex='2'), max=1125.0, style=Pro…"
      ]
     },
     "metadata": {},
     "output_type": "display_data"
    },
    {
     "name": "stdout",
     "output_type": "stream",
     "text": [
      "Epoch 97: train=2.3596, val=2.2876, took 43.539 s\n",
      "  Validation Found 8366 of 10819, added 1430 (eff 77.33%) (0.715 FP/event)\n"
     ]
    },
    {
     "data": {
      "application/vnd.jupyter.widget-view+json": {
       "model_id": "",
       "version_major": 2,
       "version_minor": 0
      },
      "text/plain": [
       "HBox(children=(FloatProgress(value=0.0, description='Training', layout=Layout(flex='2'), max=1125.0, style=Pro…"
      ]
     },
     "metadata": {},
     "output_type": "display_data"
    },
    {
     "name": "stdout",
     "output_type": "stream",
     "text": [
      "Epoch 98: train=2.36285, val=2.28495, took 43.734 s\n",
      "  Validation Found 8377 of 10819, added 1409 (eff 77.43%) (0.704 FP/event)\n"
     ]
    },
    {
     "data": {
      "application/vnd.jupyter.widget-view+json": {
       "model_id": "",
       "version_major": 2,
       "version_minor": 0
      },
      "text/plain": [
       "HBox(children=(FloatProgress(value=0.0, description='Training', layout=Layout(flex='2'), max=1125.0, style=Pro…"
      ]
     },
     "metadata": {},
     "output_type": "display_data"
    },
    {
     "name": "stdout",
     "output_type": "stream",
     "text": [
      "Epoch 99: train=2.36361, val=2.28391, took 43.798 s\n",
      "  Validation Found 8378 of 10819, added 1411 (eff 77.44%) (0.705 FP/event)\n",
      "\n"
     ]
    }
   ],
   "source": [
    "for result in trainNet(model, optimizer, loss,\n",
    "                        train_loader, val_loader,\n",
    "                        n_epochs, epoch_start=len(results),\n",
    "                        notebook=True):\n",
    "    \n",
    "    results = results.append(pd.Series(result._asdict()), ignore_index=True)\n",
    "    \n",
    "    xs = results.index\n",
    "##    print(\"xs = \",xs)\n",
    "    \n",
    "    # Update the plot above\n",
    "##    print(\"results.index = \",results.index,\"  results.cost\", results.cost)\n",
    "##    print(\"results.index = \",results.index,\"  results.val\", results.val)\n",
    "    lines['train'].set_data(results.index,results.cost)\n",
    "    lines['val'].set_data(results.index,results.val)\n",
    "    \n",
    "    #filter first cost epoch (can be really large)\n",
    "    max_cost = max(max(results.cost if len(results.cost)<2 else results.cost[1:]), max(results.val))\n",
    "    min_cost = min(min(results.cost), min(results.val))\n",
    "    \n",
    "    # The plot limits need updating too\n",
    "    \n",
    "    \n",
    "    \n",
    "    ax.set_ylim(min_cost*.9, max_cost*1.1)  \n",
    "    ax.set_xlim(-.5, len(results.cost) - .5)\n",
    "    \n",
    "    replace_in_ax(lax, lines['eff'], xs, results['eff_val'].apply(lambda x: x.eff_rate))\n",
    "    replace_in_ax(tax, lines['fp'], xs, results['eff_val'].apply(lambda x: x.fp_rate))\n",
    "    \n",
    "    # Redraw the figure\n",
    "    fig.canvas.draw()\n",
    "\n",
    "    # Save each model state dictionary\n",
    "    torch.save(model.state_dict(), output / f'{name}_{result.epoch}.pyt')"
   ]
  },
  {
   "cell_type": "code",
   "execution_count": 17,
   "metadata": {},
   "outputs": [],
   "source": [
    "torch.save(model.state_dict(), output / f'{name}_final.pyt')"
   ]
  },
  {
   "cell_type": "code",
   "execution_count": 18,
   "metadata": {},
   "outputs": [
    {
     "name": "stderr",
     "output_type": "stream",
     "text": [
      "/apps/miniconda3/envs/june2020-gpu/lib/python3.7/site-packages/pandas/core/generic.py:2505: PerformanceWarning: \n",
      "your performance may suffer as PyTables will pickle object types that it cannot\n",
      "map directly to c-types [inferred_type->mixed-integer,key->block1_values] [items->Index(['epoch', 'eff_val'], dtype='object')]\n",
      "\n",
      "  encoding=encoding,\n"
     ]
    }
   ],
   "source": [
    "results.to_hdf(f'{name}_stats.hdf5', 'results')"
   ]
  },
  {
   "cell_type": "code",
   "execution_count": 19,
   "metadata": {},
   "outputs": [
    {
     "data": {
      "application/javascript": [
       "/* Put everything inside the global mpl namespace */\n",
       "window.mpl = {};\n",
       "\n",
       "\n",
       "mpl.get_websocket_type = function() {\n",
       "    if (typeof(WebSocket) !== 'undefined') {\n",
       "        return WebSocket;\n",
       "    } else if (typeof(MozWebSocket) !== 'undefined') {\n",
       "        return MozWebSocket;\n",
       "    } else {\n",
       "        alert('Your browser does not have WebSocket support. ' +\n",
       "              'Please try Chrome, Safari or Firefox ≥ 6. ' +\n",
       "              'Firefox 4 and 5 are also supported but you ' +\n",
       "              'have to enable WebSockets in about:config.');\n",
       "    };\n",
       "}\n",
       "\n",
       "mpl.figure = function(figure_id, websocket, ondownload, parent_element) {\n",
       "    this.id = figure_id;\n",
       "\n",
       "    this.ws = websocket;\n",
       "\n",
       "    this.supports_binary = (this.ws.binaryType != undefined);\n",
       "\n",
       "    if (!this.supports_binary) {\n",
       "        var warnings = document.getElementById(\"mpl-warnings\");\n",
       "        if (warnings) {\n",
       "            warnings.style.display = 'block';\n",
       "            warnings.textContent = (\n",
       "                \"This browser does not support binary websocket messages. \" +\n",
       "                    \"Performance may be slow.\");\n",
       "        }\n",
       "    }\n",
       "\n",
       "    this.imageObj = new Image();\n",
       "\n",
       "    this.context = undefined;\n",
       "    this.message = undefined;\n",
       "    this.canvas = undefined;\n",
       "    this.rubberband_canvas = undefined;\n",
       "    this.rubberband_context = undefined;\n",
       "    this.format_dropdown = undefined;\n",
       "\n",
       "    this.image_mode = 'full';\n",
       "\n",
       "    this.root = $('<div/>');\n",
       "    this._root_extra_style(this.root)\n",
       "    this.root.attr('style', 'display: inline-block');\n",
       "\n",
       "    $(parent_element).append(this.root);\n",
       "\n",
       "    this._init_header(this);\n",
       "    this._init_canvas(this);\n",
       "    this._init_toolbar(this);\n",
       "\n",
       "    var fig = this;\n",
       "\n",
       "    this.waiting = false;\n",
       "\n",
       "    this.ws.onopen =  function () {\n",
       "            fig.send_message(\"supports_binary\", {value: fig.supports_binary});\n",
       "            fig.send_message(\"send_image_mode\", {});\n",
       "            if (mpl.ratio != 1) {\n",
       "                fig.send_message(\"set_dpi_ratio\", {'dpi_ratio': mpl.ratio});\n",
       "            }\n",
       "            fig.send_message(\"refresh\", {});\n",
       "        }\n",
       "\n",
       "    this.imageObj.onload = function() {\n",
       "            if (fig.image_mode == 'full') {\n",
       "                // Full images could contain transparency (where diff images\n",
       "                // almost always do), so we need to clear the canvas so that\n",
       "                // there is no ghosting.\n",
       "                fig.context.clearRect(0, 0, fig.canvas.width, fig.canvas.height);\n",
       "            }\n",
       "            fig.context.drawImage(fig.imageObj, 0, 0);\n",
       "        };\n",
       "\n",
       "    this.imageObj.onunload = function() {\n",
       "        fig.ws.close();\n",
       "    }\n",
       "\n",
       "    this.ws.onmessage = this._make_on_message_function(this);\n",
       "\n",
       "    this.ondownload = ondownload;\n",
       "}\n",
       "\n",
       "mpl.figure.prototype._init_header = function() {\n",
       "    var titlebar = $(\n",
       "        '<div class=\"ui-dialog-titlebar ui-widget-header ui-corner-all ' +\n",
       "        'ui-helper-clearfix\"/>');\n",
       "    var titletext = $(\n",
       "        '<div class=\"ui-dialog-title\" style=\"width: 100%; ' +\n",
       "        'text-align: center; padding: 3px;\"/>');\n",
       "    titlebar.append(titletext)\n",
       "    this.root.append(titlebar);\n",
       "    this.header = titletext[0];\n",
       "}\n",
       "\n",
       "\n",
       "\n",
       "mpl.figure.prototype._canvas_extra_style = function(canvas_div) {\n",
       "\n",
       "}\n",
       "\n",
       "\n",
       "mpl.figure.prototype._root_extra_style = function(canvas_div) {\n",
       "\n",
       "}\n",
       "\n",
       "mpl.figure.prototype._init_canvas = function() {\n",
       "    var fig = this;\n",
       "\n",
       "    var canvas_div = $('<div/>');\n",
       "\n",
       "    canvas_div.attr('style', 'position: relative; clear: both; outline: 0');\n",
       "\n",
       "    function canvas_keyboard_event(event) {\n",
       "        return fig.key_event(event, event['data']);\n",
       "    }\n",
       "\n",
       "    canvas_div.keydown('key_press', canvas_keyboard_event);\n",
       "    canvas_div.keyup('key_release', canvas_keyboard_event);\n",
       "    this.canvas_div = canvas_div\n",
       "    this._canvas_extra_style(canvas_div)\n",
       "    this.root.append(canvas_div);\n",
       "\n",
       "    var canvas = $('<canvas/>');\n",
       "    canvas.addClass('mpl-canvas');\n",
       "    canvas.attr('style', \"left: 0; top: 0; z-index: 0; outline: 0\")\n",
       "\n",
       "    this.canvas = canvas[0];\n",
       "    this.context = canvas[0].getContext(\"2d\");\n",
       "\n",
       "    var backingStore = this.context.backingStorePixelRatio ||\n",
       "\tthis.context.webkitBackingStorePixelRatio ||\n",
       "\tthis.context.mozBackingStorePixelRatio ||\n",
       "\tthis.context.msBackingStorePixelRatio ||\n",
       "\tthis.context.oBackingStorePixelRatio ||\n",
       "\tthis.context.backingStorePixelRatio || 1;\n",
       "\n",
       "    mpl.ratio = (window.devicePixelRatio || 1) / backingStore;\n",
       "\n",
       "    var rubberband = $('<canvas/>');\n",
       "    rubberband.attr('style', \"position: absolute; left: 0; top: 0; z-index: 1;\")\n",
       "\n",
       "    var pass_mouse_events = true;\n",
       "\n",
       "    canvas_div.resizable({\n",
       "        start: function(event, ui) {\n",
       "            pass_mouse_events = false;\n",
       "        },\n",
       "        resize: function(event, ui) {\n",
       "            fig.request_resize(ui.size.width, ui.size.height);\n",
       "        },\n",
       "        stop: function(event, ui) {\n",
       "            pass_mouse_events = true;\n",
       "            fig.request_resize(ui.size.width, ui.size.height);\n",
       "        },\n",
       "    });\n",
       "\n",
       "    function mouse_event_fn(event) {\n",
       "        if (pass_mouse_events)\n",
       "            return fig.mouse_event(event, event['data']);\n",
       "    }\n",
       "\n",
       "    rubberband.mousedown('button_press', mouse_event_fn);\n",
       "    rubberband.mouseup('button_release', mouse_event_fn);\n",
       "    // Throttle sequential mouse events to 1 every 20ms.\n",
       "    rubberband.mousemove('motion_notify', mouse_event_fn);\n",
       "\n",
       "    rubberband.mouseenter('figure_enter', mouse_event_fn);\n",
       "    rubberband.mouseleave('figure_leave', mouse_event_fn);\n",
       "\n",
       "    canvas_div.on(\"wheel\", function (event) {\n",
       "        event = event.originalEvent;\n",
       "        event['data'] = 'scroll'\n",
       "        if (event.deltaY < 0) {\n",
       "            event.step = 1;\n",
       "        } else {\n",
       "            event.step = -1;\n",
       "        }\n",
       "        mouse_event_fn(event);\n",
       "    });\n",
       "\n",
       "    canvas_div.append(canvas);\n",
       "    canvas_div.append(rubberband);\n",
       "\n",
       "    this.rubberband = rubberband;\n",
       "    this.rubberband_canvas = rubberband[0];\n",
       "    this.rubberband_context = rubberband[0].getContext(\"2d\");\n",
       "    this.rubberband_context.strokeStyle = \"#000000\";\n",
       "\n",
       "    this._resize_canvas = function(width, height) {\n",
       "        // Keep the size of the canvas, canvas container, and rubber band\n",
       "        // canvas in synch.\n",
       "        canvas_div.css('width', width)\n",
       "        canvas_div.css('height', height)\n",
       "\n",
       "        canvas.attr('width', width * mpl.ratio);\n",
       "        canvas.attr('height', height * mpl.ratio);\n",
       "        canvas.attr('style', 'width: ' + width + 'px; height: ' + height + 'px;');\n",
       "\n",
       "        rubberband.attr('width', width);\n",
       "        rubberband.attr('height', height);\n",
       "    }\n",
       "\n",
       "    // Set the figure to an initial 600x600px, this will subsequently be updated\n",
       "    // upon first draw.\n",
       "    this._resize_canvas(600, 600);\n",
       "\n",
       "    // Disable right mouse context menu.\n",
       "    $(this.rubberband_canvas).bind(\"contextmenu\",function(e){\n",
       "        return false;\n",
       "    });\n",
       "\n",
       "    function set_focus () {\n",
       "        canvas.focus();\n",
       "        canvas_div.focus();\n",
       "    }\n",
       "\n",
       "    window.setTimeout(set_focus, 100);\n",
       "}\n",
       "\n",
       "mpl.figure.prototype._init_toolbar = function() {\n",
       "    var fig = this;\n",
       "\n",
       "    var nav_element = $('<div/>');\n",
       "    nav_element.attr('style', 'width: 100%');\n",
       "    this.root.append(nav_element);\n",
       "\n",
       "    // Define a callback function for later on.\n",
       "    function toolbar_event(event) {\n",
       "        return fig.toolbar_button_onclick(event['data']);\n",
       "    }\n",
       "    function toolbar_mouse_event(event) {\n",
       "        return fig.toolbar_button_onmouseover(event['data']);\n",
       "    }\n",
       "\n",
       "    for(var toolbar_ind in mpl.toolbar_items) {\n",
       "        var name = mpl.toolbar_items[toolbar_ind][0];\n",
       "        var tooltip = mpl.toolbar_items[toolbar_ind][1];\n",
       "        var image = mpl.toolbar_items[toolbar_ind][2];\n",
       "        var method_name = mpl.toolbar_items[toolbar_ind][3];\n",
       "\n",
       "        if (!name) {\n",
       "            // put a spacer in here.\n",
       "            continue;\n",
       "        }\n",
       "        var button = $('<button/>');\n",
       "        button.addClass('ui-button ui-widget ui-state-default ui-corner-all ' +\n",
       "                        'ui-button-icon-only');\n",
       "        button.attr('role', 'button');\n",
       "        button.attr('aria-disabled', 'false');\n",
       "        button.click(method_name, toolbar_event);\n",
       "        button.mouseover(tooltip, toolbar_mouse_event);\n",
       "\n",
       "        var icon_img = $('<span/>');\n",
       "        icon_img.addClass('ui-button-icon-primary ui-icon');\n",
       "        icon_img.addClass(image);\n",
       "        icon_img.addClass('ui-corner-all');\n",
       "\n",
       "        var tooltip_span = $('<span/>');\n",
       "        tooltip_span.addClass('ui-button-text');\n",
       "        tooltip_span.html(tooltip);\n",
       "\n",
       "        button.append(icon_img);\n",
       "        button.append(tooltip_span);\n",
       "\n",
       "        nav_element.append(button);\n",
       "    }\n",
       "\n",
       "    var fmt_picker_span = $('<span/>');\n",
       "\n",
       "    var fmt_picker = $('<select/>');\n",
       "    fmt_picker.addClass('mpl-toolbar-option ui-widget ui-widget-content');\n",
       "    fmt_picker_span.append(fmt_picker);\n",
       "    nav_element.append(fmt_picker_span);\n",
       "    this.format_dropdown = fmt_picker[0];\n",
       "\n",
       "    for (var ind in mpl.extensions) {\n",
       "        var fmt = mpl.extensions[ind];\n",
       "        var option = $(\n",
       "            '<option/>', {selected: fmt === mpl.default_extension}).html(fmt);\n",
       "        fmt_picker.append(option);\n",
       "    }\n",
       "\n",
       "    // Add hover states to the ui-buttons\n",
       "    $( \".ui-button\" ).hover(\n",
       "        function() { $(this).addClass(\"ui-state-hover\");},\n",
       "        function() { $(this).removeClass(\"ui-state-hover\");}\n",
       "    );\n",
       "\n",
       "    var status_bar = $('<span class=\"mpl-message\"/>');\n",
       "    nav_element.append(status_bar);\n",
       "    this.message = status_bar[0];\n",
       "}\n",
       "\n",
       "mpl.figure.prototype.request_resize = function(x_pixels, y_pixels) {\n",
       "    // Request matplotlib to resize the figure. Matplotlib will then trigger a resize in the client,\n",
       "    // which will in turn request a refresh of the image.\n",
       "    this.send_message('resize', {'width': x_pixels, 'height': y_pixels});\n",
       "}\n",
       "\n",
       "mpl.figure.prototype.send_message = function(type, properties) {\n",
       "    properties['type'] = type;\n",
       "    properties['figure_id'] = this.id;\n",
       "    this.ws.send(JSON.stringify(properties));\n",
       "}\n",
       "\n",
       "mpl.figure.prototype.send_draw_message = function() {\n",
       "    if (!this.waiting) {\n",
       "        this.waiting = true;\n",
       "        this.ws.send(JSON.stringify({type: \"draw\", figure_id: this.id}));\n",
       "    }\n",
       "}\n",
       "\n",
       "\n",
       "mpl.figure.prototype.handle_save = function(fig, msg) {\n",
       "    var format_dropdown = fig.format_dropdown;\n",
       "    var format = format_dropdown.options[format_dropdown.selectedIndex].value;\n",
       "    fig.ondownload(fig, format);\n",
       "}\n",
       "\n",
       "\n",
       "mpl.figure.prototype.handle_resize = function(fig, msg) {\n",
       "    var size = msg['size'];\n",
       "    if (size[0] != fig.canvas.width || size[1] != fig.canvas.height) {\n",
       "        fig._resize_canvas(size[0], size[1]);\n",
       "        fig.send_message(\"refresh\", {});\n",
       "    };\n",
       "}\n",
       "\n",
       "mpl.figure.prototype.handle_rubberband = function(fig, msg) {\n",
       "    var x0 = msg['x0'] / mpl.ratio;\n",
       "    var y0 = (fig.canvas.height - msg['y0']) / mpl.ratio;\n",
       "    var x1 = msg['x1'] / mpl.ratio;\n",
       "    var y1 = (fig.canvas.height - msg['y1']) / mpl.ratio;\n",
       "    x0 = Math.floor(x0) + 0.5;\n",
       "    y0 = Math.floor(y0) + 0.5;\n",
       "    x1 = Math.floor(x1) + 0.5;\n",
       "    y1 = Math.floor(y1) + 0.5;\n",
       "    var min_x = Math.min(x0, x1);\n",
       "    var min_y = Math.min(y0, y1);\n",
       "    var width = Math.abs(x1 - x0);\n",
       "    var height = Math.abs(y1 - y0);\n",
       "\n",
       "    fig.rubberband_context.clearRect(\n",
       "        0, 0, fig.canvas.width / mpl.ratio, fig.canvas.height / mpl.ratio);\n",
       "\n",
       "    fig.rubberband_context.strokeRect(min_x, min_y, width, height);\n",
       "}\n",
       "\n",
       "mpl.figure.prototype.handle_figure_label = function(fig, msg) {\n",
       "    // Updates the figure title.\n",
       "    fig.header.textContent = msg['label'];\n",
       "}\n",
       "\n",
       "mpl.figure.prototype.handle_cursor = function(fig, msg) {\n",
       "    var cursor = msg['cursor'];\n",
       "    switch(cursor)\n",
       "    {\n",
       "    case 0:\n",
       "        cursor = 'pointer';\n",
       "        break;\n",
       "    case 1:\n",
       "        cursor = 'default';\n",
       "        break;\n",
       "    case 2:\n",
       "        cursor = 'crosshair';\n",
       "        break;\n",
       "    case 3:\n",
       "        cursor = 'move';\n",
       "        break;\n",
       "    }\n",
       "    fig.rubberband_canvas.style.cursor = cursor;\n",
       "}\n",
       "\n",
       "mpl.figure.prototype.handle_message = function(fig, msg) {\n",
       "    fig.message.textContent = msg['message'];\n",
       "}\n",
       "\n",
       "mpl.figure.prototype.handle_draw = function(fig, msg) {\n",
       "    // Request the server to send over a new figure.\n",
       "    fig.send_draw_message();\n",
       "}\n",
       "\n",
       "mpl.figure.prototype.handle_image_mode = function(fig, msg) {\n",
       "    fig.image_mode = msg['mode'];\n",
       "}\n",
       "\n",
       "mpl.figure.prototype.updated_canvas_event = function() {\n",
       "    // Called whenever the canvas gets updated.\n",
       "    this.send_message(\"ack\", {});\n",
       "}\n",
       "\n",
       "// A function to construct a web socket function for onmessage handling.\n",
       "// Called in the figure constructor.\n",
       "mpl.figure.prototype._make_on_message_function = function(fig) {\n",
       "    return function socket_on_message(evt) {\n",
       "        if (evt.data instanceof Blob) {\n",
       "            /* FIXME: We get \"Resource interpreted as Image but\n",
       "             * transferred with MIME type text/plain:\" errors on\n",
       "             * Chrome.  But how to set the MIME type?  It doesn't seem\n",
       "             * to be part of the websocket stream */\n",
       "            evt.data.type = \"image/png\";\n",
       "\n",
       "            /* Free the memory for the previous frames */\n",
       "            if (fig.imageObj.src) {\n",
       "                (window.URL || window.webkitURL).revokeObjectURL(\n",
       "                    fig.imageObj.src);\n",
       "            }\n",
       "\n",
       "            fig.imageObj.src = (window.URL || window.webkitURL).createObjectURL(\n",
       "                evt.data);\n",
       "            fig.updated_canvas_event();\n",
       "            fig.waiting = false;\n",
       "            return;\n",
       "        }\n",
       "        else if (typeof evt.data === 'string' && evt.data.slice(0, 21) == \"data:image/png;base64\") {\n",
       "            fig.imageObj.src = evt.data;\n",
       "            fig.updated_canvas_event();\n",
       "            fig.waiting = false;\n",
       "            return;\n",
       "        }\n",
       "\n",
       "        var msg = JSON.parse(evt.data);\n",
       "        var msg_type = msg['type'];\n",
       "\n",
       "        // Call the  \"handle_{type}\" callback, which takes\n",
       "        // the figure and JSON message as its only arguments.\n",
       "        try {\n",
       "            var callback = fig[\"handle_\" + msg_type];\n",
       "        } catch (e) {\n",
       "            console.log(\"No handler for the '\" + msg_type + \"' message type: \", msg);\n",
       "            return;\n",
       "        }\n",
       "\n",
       "        if (callback) {\n",
       "            try {\n",
       "                // console.log(\"Handling '\" + msg_type + \"' message: \", msg);\n",
       "                callback(fig, msg);\n",
       "            } catch (e) {\n",
       "                console.log(\"Exception inside the 'handler_\" + msg_type + \"' callback:\", e, e.stack, msg);\n",
       "            }\n",
       "        }\n",
       "    };\n",
       "}\n",
       "\n",
       "// from http://stackoverflow.com/questions/1114465/getting-mouse-location-in-canvas\n",
       "mpl.findpos = function(e) {\n",
       "    //this section is from http://www.quirksmode.org/js/events_properties.html\n",
       "    var targ;\n",
       "    if (!e)\n",
       "        e = window.event;\n",
       "    if (e.target)\n",
       "        targ = e.target;\n",
       "    else if (e.srcElement)\n",
       "        targ = e.srcElement;\n",
       "    if (targ.nodeType == 3) // defeat Safari bug\n",
       "        targ = targ.parentNode;\n",
       "\n",
       "    // jQuery normalizes the pageX and pageY\n",
       "    // pageX,Y are the mouse positions relative to the document\n",
       "    // offset() returns the position of the element relative to the document\n",
       "    var x = e.pageX - $(targ).offset().left;\n",
       "    var y = e.pageY - $(targ).offset().top;\n",
       "\n",
       "    return {\"x\": x, \"y\": y};\n",
       "};\n",
       "\n",
       "/*\n",
       " * return a copy of an object with only non-object keys\n",
       " * we need this to avoid circular references\n",
       " * http://stackoverflow.com/a/24161582/3208463\n",
       " */\n",
       "function simpleKeys (original) {\n",
       "  return Object.keys(original).reduce(function (obj, key) {\n",
       "    if (typeof original[key] !== 'object')\n",
       "        obj[key] = original[key]\n",
       "    return obj;\n",
       "  }, {});\n",
       "}\n",
       "\n",
       "mpl.figure.prototype.mouse_event = function(event, name) {\n",
       "    var canvas_pos = mpl.findpos(event)\n",
       "\n",
       "    if (name === 'button_press')\n",
       "    {\n",
       "        this.canvas.focus();\n",
       "        this.canvas_div.focus();\n",
       "    }\n",
       "\n",
       "    var x = canvas_pos.x * mpl.ratio;\n",
       "    var y = canvas_pos.y * mpl.ratio;\n",
       "\n",
       "    this.send_message(name, {x: x, y: y, button: event.button,\n",
       "                             step: event.step,\n",
       "                             guiEvent: simpleKeys(event)});\n",
       "\n",
       "    /* This prevents the web browser from automatically changing to\n",
       "     * the text insertion cursor when the button is pressed.  We want\n",
       "     * to control all of the cursor setting manually through the\n",
       "     * 'cursor' event from matplotlib */\n",
       "    event.preventDefault();\n",
       "    return false;\n",
       "}\n",
       "\n",
       "mpl.figure.prototype._key_event_extra = function(event, name) {\n",
       "    // Handle any extra behaviour associated with a key event\n",
       "}\n",
       "\n",
       "mpl.figure.prototype.key_event = function(event, name) {\n",
       "\n",
       "    // Prevent repeat events\n",
       "    if (name == 'key_press')\n",
       "    {\n",
       "        if (event.which === this._key)\n",
       "            return;\n",
       "        else\n",
       "            this._key = event.which;\n",
       "    }\n",
       "    if (name == 'key_release')\n",
       "        this._key = null;\n",
       "\n",
       "    var value = '';\n",
       "    if (event.ctrlKey && event.which != 17)\n",
       "        value += \"ctrl+\";\n",
       "    if (event.altKey && event.which != 18)\n",
       "        value += \"alt+\";\n",
       "    if (event.shiftKey && event.which != 16)\n",
       "        value += \"shift+\";\n",
       "\n",
       "    value += 'k';\n",
       "    value += event.which.toString();\n",
       "\n",
       "    this._key_event_extra(event, name);\n",
       "\n",
       "    this.send_message(name, {key: value,\n",
       "                             guiEvent: simpleKeys(event)});\n",
       "    return false;\n",
       "}\n",
       "\n",
       "mpl.figure.prototype.toolbar_button_onclick = function(name) {\n",
       "    if (name == 'download') {\n",
       "        this.handle_save(this, null);\n",
       "    } else {\n",
       "        this.send_message(\"toolbar_button\", {name: name});\n",
       "    }\n",
       "};\n",
       "\n",
       "mpl.figure.prototype.toolbar_button_onmouseover = function(tooltip) {\n",
       "    this.message.textContent = tooltip;\n",
       "};\n",
       "mpl.toolbar_items = [[\"Home\", \"Reset original view\", \"fa fa-home icon-home\", \"home\"], [\"Back\", \"Back to previous view\", \"fa fa-arrow-left icon-arrow-left\", \"back\"], [\"Forward\", \"Forward to next view\", \"fa fa-arrow-right icon-arrow-right\", \"forward\"], [\"\", \"\", \"\", \"\"], [\"Pan\", \"Pan axes with left mouse, zoom with right\", \"fa fa-arrows icon-move\", \"pan\"], [\"Zoom\", \"Zoom to rectangle\", \"fa fa-square-o icon-check-empty\", \"zoom\"], [\"\", \"\", \"\", \"\"], [\"Download\", \"Download plot\", \"fa fa-floppy-o icon-save\", \"download\"]];\n",
       "\n",
       "mpl.extensions = [\"eps\", \"jpeg\", \"pdf\", \"png\", \"ps\", \"raw\", \"svg\", \"tif\"];\n",
       "\n",
       "mpl.default_extension = \"png\";var comm_websocket_adapter = function(comm) {\n",
       "    // Create a \"websocket\"-like object which calls the given IPython comm\n",
       "    // object with the appropriate methods. Currently this is a non binary\n",
       "    // socket, so there is still some room for performance tuning.\n",
       "    var ws = {};\n",
       "\n",
       "    ws.close = function() {\n",
       "        comm.close()\n",
       "    };\n",
       "    ws.send = function(m) {\n",
       "        //console.log('sending', m);\n",
       "        comm.send(m);\n",
       "    };\n",
       "    // Register the callback with on_msg.\n",
       "    comm.on_msg(function(msg) {\n",
       "        //console.log('receiving', msg['content']['data'], msg);\n",
       "        // Pass the mpl event to the overridden (by mpl) onmessage function.\n",
       "        ws.onmessage(msg['content']['data'])\n",
       "    });\n",
       "    return ws;\n",
       "}\n",
       "\n",
       "mpl.mpl_figure_comm = function(comm, msg) {\n",
       "    // This is the function which gets called when the mpl process\n",
       "    // starts-up an IPython Comm through the \"matplotlib\" channel.\n",
       "\n",
       "    var id = msg.content.data.id;\n",
       "    // Get hold of the div created by the display call when the Comm\n",
       "    // socket was opened in Python.\n",
       "    var element = $(\"#\" + id);\n",
       "    var ws_proxy = comm_websocket_adapter(comm)\n",
       "\n",
       "    function ondownload(figure, format) {\n",
       "        window.open(figure.imageObj.src);\n",
       "    }\n",
       "\n",
       "    var fig = new mpl.figure(id, ws_proxy,\n",
       "                           ondownload,\n",
       "                           element.get(0));\n",
       "\n",
       "    // Call onopen now - mpl needs it, as it is assuming we've passed it a real\n",
       "    // web socket which is closed, not our websocket->open comm proxy.\n",
       "    ws_proxy.onopen();\n",
       "\n",
       "    fig.parent_element = element.get(0);\n",
       "    fig.cell_info = mpl.find_output_cell(\"<div id='\" + id + \"'></div>\");\n",
       "    if (!fig.cell_info) {\n",
       "        console.error(\"Failed to find cell for figure\", id, fig);\n",
       "        return;\n",
       "    }\n",
       "\n",
       "    var output_index = fig.cell_info[2]\n",
       "    var cell = fig.cell_info[0];\n",
       "\n",
       "};\n",
       "\n",
       "mpl.figure.prototype.handle_close = function(fig, msg) {\n",
       "    var width = fig.canvas.width/mpl.ratio\n",
       "    fig.root.unbind('remove')\n",
       "\n",
       "    // Update the output cell to use the data from the current canvas.\n",
       "    fig.push_to_output();\n",
       "    var dataURL = fig.canvas.toDataURL();\n",
       "    // Re-enable the keyboard manager in IPython - without this line, in FF,\n",
       "    // the notebook keyboard shortcuts fail.\n",
       "    IPython.keyboard_manager.enable()\n",
       "    $(fig.parent_element).html('<img src=\"' + dataURL + '\" width=\"' + width + '\">');\n",
       "    fig.close_ws(fig, msg);\n",
       "}\n",
       "\n",
       "mpl.figure.prototype.close_ws = function(fig, msg){\n",
       "    fig.send_message('closing', msg);\n",
       "    // fig.ws.close()\n",
       "}\n",
       "\n",
       "mpl.figure.prototype.push_to_output = function(remove_interactive) {\n",
       "    // Turn the data on the canvas into data in the output cell.\n",
       "    var width = this.canvas.width/mpl.ratio\n",
       "    var dataURL = this.canvas.toDataURL();\n",
       "    this.cell_info[1]['text/html'] = '<img src=\"' + dataURL + '\" width=\"' + width + '\">';\n",
       "}\n",
       "\n",
       "mpl.figure.prototype.updated_canvas_event = function() {\n",
       "    // Tell IPython that the notebook contents must change.\n",
       "    IPython.notebook.set_dirty(true);\n",
       "    this.send_message(\"ack\", {});\n",
       "    var fig = this;\n",
       "    // Wait a second, then push the new image to the DOM so\n",
       "    // that it is saved nicely (might be nice to debounce this).\n",
       "    setTimeout(function () { fig.push_to_output() }, 1000);\n",
       "}\n",
       "\n",
       "mpl.figure.prototype._init_toolbar = function() {\n",
       "    var fig = this;\n",
       "\n",
       "    var nav_element = $('<div/>');\n",
       "    nav_element.attr('style', 'width: 100%');\n",
       "    this.root.append(nav_element);\n",
       "\n",
       "    // Define a callback function for later on.\n",
       "    function toolbar_event(event) {\n",
       "        return fig.toolbar_button_onclick(event['data']);\n",
       "    }\n",
       "    function toolbar_mouse_event(event) {\n",
       "        return fig.toolbar_button_onmouseover(event['data']);\n",
       "    }\n",
       "\n",
       "    for(var toolbar_ind in mpl.toolbar_items){\n",
       "        var name = mpl.toolbar_items[toolbar_ind][0];\n",
       "        var tooltip = mpl.toolbar_items[toolbar_ind][1];\n",
       "        var image = mpl.toolbar_items[toolbar_ind][2];\n",
       "        var method_name = mpl.toolbar_items[toolbar_ind][3];\n",
       "\n",
       "        if (!name) { continue; };\n",
       "\n",
       "        var button = $('<button class=\"btn btn-default\" href=\"#\" title=\"' + name + '\"><i class=\"fa ' + image + ' fa-lg\"></i></button>');\n",
       "        button.click(method_name, toolbar_event);\n",
       "        button.mouseover(tooltip, toolbar_mouse_event);\n",
       "        nav_element.append(button);\n",
       "    }\n",
       "\n",
       "    // Add the status bar.\n",
       "    var status_bar = $('<span class=\"mpl-message\" style=\"text-align:right; float: right;\"/>');\n",
       "    nav_element.append(status_bar);\n",
       "    this.message = status_bar[0];\n",
       "\n",
       "    // Add the close button to the window.\n",
       "    var buttongrp = $('<div class=\"btn-group inline pull-right\"></div>');\n",
       "    var button = $('<button class=\"btn btn-mini btn-primary\" href=\"#\" title=\"Stop Interaction\"><i class=\"fa fa-power-off icon-remove icon-large\"></i></button>');\n",
       "    button.click(function (evt) { fig.handle_close(fig, {}); } );\n",
       "    button.mouseover('Stop Interaction', toolbar_mouse_event);\n",
       "    buttongrp.append(button);\n",
       "    var titlebar = this.root.find($('.ui-dialog-titlebar'));\n",
       "    titlebar.prepend(buttongrp);\n",
       "}\n",
       "\n",
       "mpl.figure.prototype._root_extra_style = function(el){\n",
       "    var fig = this\n",
       "    el.on(\"remove\", function(){\n",
       "\tfig.close_ws(fig, {});\n",
       "    });\n",
       "}\n",
       "\n",
       "mpl.figure.prototype._canvas_extra_style = function(el){\n",
       "    // this is important to make the div 'focusable\n",
       "    el.attr('tabindex', 0)\n",
       "    // reach out to IPython and tell the keyboard manager to turn it's self\n",
       "    // off when our div gets focus\n",
       "\n",
       "    // location in version 3\n",
       "    if (IPython.notebook.keyboard_manager) {\n",
       "        IPython.notebook.keyboard_manager.register_events(el);\n",
       "    }\n",
       "    else {\n",
       "        // location in version 2\n",
       "        IPython.keyboard_manager.register_events(el);\n",
       "    }\n",
       "\n",
       "}\n",
       "\n",
       "mpl.figure.prototype._key_event_extra = function(event, name) {\n",
       "    var manager = IPython.notebook.keyboard_manager;\n",
       "    if (!manager)\n",
       "        manager = IPython.keyboard_manager;\n",
       "\n",
       "    // Check for shift+enter\n",
       "    if (event.shiftKey && event.which == 13) {\n",
       "        this.canvas_div.blur();\n",
       "        // select the cell after this one\n",
       "        var index = IPython.notebook.find_cell_index(this.cell_info[0]);\n",
       "        IPython.notebook.select(index + 1);\n",
       "    }\n",
       "}\n",
       "\n",
       "mpl.figure.prototype.handle_save = function(fig, msg) {\n",
       "    fig.ondownload(fig, null);\n",
       "}\n",
       "\n",
       "\n",
       "mpl.find_output_cell = function(html_output) {\n",
       "    // Return the cell and output element which can be found *uniquely* in the notebook.\n",
       "    // Note - this is a bit hacky, but it is done because the \"notebook_saving.Notebook\"\n",
       "    // IPython event is triggered only after the cells have been serialised, which for\n",
       "    // our purposes (turning an active figure into a static one), is too late.\n",
       "    var cells = IPython.notebook.get_cells();\n",
       "    var ncells = cells.length;\n",
       "    for (var i=0; i<ncells; i++) {\n",
       "        var cell = cells[i];\n",
       "        if (cell.cell_type === 'code'){\n",
       "            for (var j=0; j<cell.output_area.outputs.length; j++) {\n",
       "                var data = cell.output_area.outputs[j];\n",
       "                if (data.data) {\n",
       "                    // IPython >= 3 moved mimebundle to data attribute of output\n",
       "                    data = data.data;\n",
       "                }\n",
       "                if (data['text/html'] == html_output) {\n",
       "                    return [cell, data, j];\n",
       "                }\n",
       "            }\n",
       "        }\n",
       "    }\n",
       "}\n",
       "\n",
       "// Register the function which deals with the matplotlib target/channel.\n",
       "// The kernel may be null if the page has been refreshed.\n",
       "if (IPython.notebook.kernel != null) {\n",
       "    IPython.notebook.kernel.comm_manager.register_target('matplotlib', mpl.mpl_figure_comm);\n",
       "}\n"
      ],
      "text/plain": [
       "<IPython.core.display.Javascript object>"
      ]
     },
     "metadata": {},
     "output_type": "display_data"
    },
    {
     "data": {
      "text/html": [
       "<img src=\"data:image/png;base64,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\" width=\"999.75\">"
      ],
      "text/plain": [
       "<IPython.core.display.HTML object>"
      ]
     },
     "metadata": {},
     "output_type": "display_data"
    }
   ],
   "source": [
    "dual_train_plots(results.index,\n",
    "                 results.cost, results.val, \n",
    "                 results['eff_val'].apply(lambda x: x.eff_rate),\n",
    "                 results['eff_val'].apply(lambda x: x.fp_rate))\n",
    "plt.tight_layout()\n",
    "plt.savefig(str(output / f'{name}_stats_a.png'))"
   ]
  },
  {
   "cell_type": "markdown",
   "metadata": {},
   "source": [
    "Go ahead and save the final model (even though it was also saved above):"
   ]
  },
  {
   "cell_type": "markdown",
   "metadata": {},
   "source": [
    "Save the output results:"
   ]
  },
  {
   "cell_type": "code",
   "execution_count": 20,
   "metadata": {},
   "outputs": [],
   "source": [
    "##quit()\n",
    "\n"
   ]
  },
  {
   "cell_type": "code",
   "execution_count": null,
   "metadata": {},
   "outputs": [],
   "source": []
  }
 ],
 "metadata": {
  "kernelspec": {
   "display_name": "june2020-gpu",
   "language": "python",
   "name": "june2020-gpu"
  },
  "language_info": {
   "codemirror_mode": {
    "name": "ipython",
    "version": 3
   },
   "file_extension": ".py",
   "mimetype": "text/x-python",
   "name": "python",
   "nbconvert_exporter": "python",
   "pygments_lexer": "ipython3",
   "version": "3.7.6"
  }
 },
 "nbformat": 4,
 "nbformat_minor": 2
}
