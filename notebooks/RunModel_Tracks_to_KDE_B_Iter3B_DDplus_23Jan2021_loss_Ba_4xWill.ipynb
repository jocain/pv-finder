{
 "cells": [
  {
   "cell_type": "code",
   "execution_count": 1,
   "metadata": {},
   "outputs": [],
   "source": [
    "##%matplotlib widget\n",
    "## with %matplotlib notebook: seems to require ipympl as part of environment, either\n",
    "## part of the conda environment or \"pip install ipympl\"\n",
    "## otherwise, does not show ANY plots in note\"book, plt.savefig() works\n",
    "%matplotlib notebook  \n",
    "##%matplotlib inline    ## --plt.savefig()  works, but re-sizing does NOT\n"
   ]
  },
  {
   "cell_type": "markdown",
   "metadata": {},
   "source": [
    "This notebook is the second attempt to read in track information and use it to predict the KDE used as input to PvFinder. This time, we are reading in poca KDEs rather than the original KDEs. \n",
    "\n",
    "collectdata_kde_C.py uses poca_z, poca_x, poca_y, major_axis_x, major_axis_y, and major_axis_z as the six track parameters (for the moment)\n"
   ]
  },
  {
   "cell_type": "markdown",
   "metadata": {},
   "source": [
    "Check the current GPU usage. Please try to be nice!"
   ]
  },
  {
   "cell_type": "code",
   "execution_count": 2,
   "metadata": {},
   "outputs": [
    {
     "name": "stdout",
     "output_type": "stream",
     "text": [
      "Sat Jan 23 13:01:04 2021       \r\n",
      "+-----------------------------------------------------------------------------+\r\n",
      "| NVIDIA-SMI 450.36.06    Driver Version: 450.36.06    CUDA Version: 11.0     |\r\n",
      "|-------------------------------+----------------------+----------------------+\r\n",
      "| GPU  Name        Persistence-M| Bus-Id        Disp.A | Volatile Uncorr. ECC |\r\n",
      "| Fan  Temp  Perf  Pwr:Usage/Cap|         Memory-Usage | GPU-Util  Compute M. |\r\n",
      "|                               |                      |               MIG M. |\r\n",
      "|===============================+======================+======================|\r\n",
      "|   0  GeForce RTX 208...  On   | 00000000:18:00.0 Off |                  N/A |\r\n",
      "| 29%   35C    P8    38W / 250W |      1MiB / 11019MiB |      0%      Default |\r\n",
      "|                               |                      |                  N/A |\r\n",
      "+-------------------------------+----------------------+----------------------+\r\n",
      "|   1  GeForce RTX 208...  On   | 00000000:3B:00.0 Off |                  N/A |\r\n",
      "| 29%   36C    P8    39W / 250W |    950MiB / 11019MiB |      0%      Default |\r\n",
      "|                               |                      |                  N/A |\r\n",
      "+-------------------------------+----------------------+----------------------+\r\n",
      "                                                                               \r\n",
      "+-----------------------------------------------------------------------------+\r\n",
      "| Processes:                                                                  |\r\n",
      "|  GPU   GI   CI        PID   Type   Process name                  GPU Memory |\r\n",
      "|        ID   ID                                                   Usage      |\r\n",
      "|=============================================================================|\r\n",
      "|    1   N/A  N/A      3736      G   /usr/bin/X                         33MiB |\r\n",
      "|    1   N/A  N/A      3790      G   /usr/bin/gnome-shell               25MiB |\r\n",
      "|    1   N/A  N/A    293114      C   ...s/june2020-gpu/bin/python      887MiB |\r\n",
      "+-----------------------------------------------------------------------------+\r\n"
     ]
    }
   ],
   "source": [
    "!nvidia-smi"
   ]
  },
  {
   "cell_type": "markdown",
   "metadata": {},
   "source": [
    "> **WARNING**: The card numbers here are *not* the same as in CUDA. You have been warned."
   ]
  },
  {
   "cell_type": "markdown",
   "metadata": {},
   "source": [
    "This notebook is first attempt to read in track information and use it to predict the KDE used as input to PvFinder.\n"
   ]
  },
  {
   "cell_type": "markdown",
   "metadata": {},
   "source": [
    "## Imports"
   ]
  },
  {
   "cell_type": "code",
   "execution_count": 3,
   "metadata": {},
   "outputs": [],
   "source": [
    "import matplotlib.pyplot as plt\n",
    "import numpy as np\n",
    "import time\n",
    "import torch\n",
    "import pandas as pd\n",
    "\n",
    "# Python 3 standard library\n",
    "from pathlib import Path\n",
    "\n",
    "##from torchsummary import summary"
   ]
  },
  {
   "cell_type": "markdown",
   "metadata": {},
   "source": [
    "### Set up local parameters"
   ]
  },
  {
   "cell_type": "code",
   "execution_count": 4,
   "metadata": {},
   "outputs": [],
   "source": [
    "n_epochs = 50\n",
    "\n",
    "# Name is the output file name\n",
    "\n",
    "\n",
    "\n",
    "\n",
    "\n",
    "folder = '23Jan_DDplus_KDE_B_loss_Ba_iter3B_floatAll_50epochs_1em5_4xwill'\n",
    "name   = folder\n",
    "\n",
    "# Make an output folder named \"name\" (change if you want)\n",
    "\n",
    "## Special instructions for those working on goofy at UC\n",
    "## Please be very careful to make sure that your folder\n",
    "## does not live in a subdirectory of your home directory\n",
    "## this disk has very little capacity. Instead, use \n",
    "## a subdirectory in /share/lazy with a symbolic link to\n",
    "## it in this (the notebooks) subdirectory\n",
    "folder = 'ML/' + folder\n",
    "output = Path(folder)\n",
    "\n",
    "\n",
    "# Size of batches\n",
    "batch_size = 48 ## batch_size = 24 ---> 4763MiB / 12066MiB on Titan V\n",
    "# How fast to learn\n",
    "learning_rate = 1e-5"
   ]
  },
  {
   "cell_type": "markdown",
   "metadata": {},
   "source": [
    "Make the output directory if it does not exist:"
   ]
  },
  {
   "cell_type": "code",
   "execution_count": 5,
   "metadata": {},
   "outputs": [],
   "source": [
    "output.mkdir(exist_ok=True)"
   ]
  },
  {
   "cell_type": "markdown",
   "metadata": {},
   "source": [
    "## Get the helper functions\n",
    "\n",
    "Add the directory with the model\n",
    "definitions to the path so we can import from it:\n",
    "\n",
    "> When you type `import X`,\n",
    "Python searches `sys.path` for a python\n",
    "file named `X.py` to import. So we need to add the model directory to the path."
   ]
  },
  {
   "cell_type": "code",
   "execution_count": 6,
   "metadata": {
    "scrolled": true
   },
   "outputs": [],
   "source": [
    "# From model/collectdata.py\n",
    "##from model.collectdata_kde_B import collect_t2kde_data\n",
    "## collectdata_kde_C should use the new poca KDE rather than the original kernel KDE\n",
    "from model.collectdata_kdeB_Ellipsoids import collect_t2kde_data\n",
    "\n",
    "\n",
    "# From model/loss.py\n",
    "##from loss import Loss\n",
    "## kde_loss_D includes botha ratio term and a chisq term, 98% ave_chisq\n",
    "## kde_loss_E adds a chi^4 term to the kde_loss_D return value\n",
    "## this is intended to emphasize the importance of values significantly different than zero\n",
    "from model.kde_loss_Ba import Loss\n",
    "\n",
    "##  TracksToKDE_Ellipsoids_SevenLayerCake has 7 hidden layers producing the 4000-bin KDE historgram\n",
    "##  It takes 9 input features (pocca centers + (A,B,C,D,E,F) . \n",
    "from model.models_kde import TracksToKDE_Ellipsoids_DDplus as Model\n",
    "\n",
    "\n",
    "from model.training_kde import trainNet, select_gpu, Results\n",
    "from model.plots import dual_train_plots, replace_in_ax"
   ]
  },
  {
   "cell_type": "code",
   "execution_count": 7,
   "metadata": {},
   "outputs": [],
   "source": [
    "# This gets built up during the run - do not rerun this cell\n",
    "results = pd.DataFrame([], columns=Results._fields)"
   ]
  },
  {
   "cell_type": "markdown",
   "metadata": {},
   "source": [
    "Set up Torch device configuration. All tensors and model parameters need to know where to be put.\n",
    "This takes a BUS ID number: The BUS ID is the same as the listing at the top of this script."
   ]
  },
  {
   "cell_type": "code",
   "execution_count": 8,
   "metadata": {},
   "outputs": [
    {
     "name": "stdout",
     "output_type": "stream",
     "text": [
      "1 available GPUs (initially using device 0):\n",
      "  0 GeForce RTX 2080 Ti\n"
     ]
    }
   ],
   "source": [
    "device = select_gpu(0)\n",
    "##device = \"cpu\""
   ]
  },
  {
   "cell_type": "markdown",
   "metadata": {},
   "source": [
    "## Loading data\n",
    "\n",
    "Load the dataset, split into parts, then move to device (see `collectdata.py` in the `../model` directory)"
   ]
  },
  {
   "cell_type": "markdown",
   "metadata": {},
   "source": [
    "# Preparing the model"
   ]
  },
  {
   "cell_type": "markdown",
   "metadata": {},
   "source": [
    "Prepare a model, use multiple GPUs if they are VISIBLE, and move the model to the device."
   ]
  },
  {
   "cell_type": "code",
   "execution_count": 9,
   "metadata": {
    "scrolled": true
   },
   "outputs": [],
   "source": [
    "##print(\"Let's use\", torch.cuda.device_count(), \"GPUs!\")\n",
    "##if torch.cuda.device_count() > 1:\n",
    "##    model = torch.nn.DataParallel(model)"
   ]
  },
  {
   "cell_type": "code",
   "execution_count": 10,
   "metadata": {},
   "outputs": [
    {
     "name": "stdout",
     "output_type": "stream",
     "text": [
      "ct, child =  0    Linear(in_features=9, out_features=50, bias=True)\n",
      "ct, child =  1    Linear(in_features=50, out_features=50, bias=True)\n",
      "ct, child =  2    Linear(in_features=50, out_features=50, bias=True)\n",
      "ct, child =  3    Linear(in_features=50, out_features=50, bias=True)\n",
      "ct, child =  4    Linear(in_features=50, out_features=50, bias=True)\n",
      "ct, child =  5    Linear(in_features=50, out_features=50, bias=True)\n",
      "ct, child =  6    Linear(in_features=50, out_features=50, bias=True)\n",
      "ct, child =  7    Linear(in_features=50, out_features=50, bias=True)\n",
      "ct, child =  8    Linear(in_features=50, out_features=50, bias=True)\n",
      "ct, child =  9    Linear(in_features=50, out_features=50, bias=True)\n",
      "ct, child =  10    Linear(in_features=50, out_features=50, bias=True)\n",
      "ct, child =  11    Linear(in_features=50, out_features=16000, bias=True)\n",
      "ct, child =  12    Conv1d(4, 25, kernel_size=(25,), stride=(1,), padding=(12,))\n",
      "ct, child =  13    Conv1d(25, 1, kernel_size=(5,), stride=(1,), padding=(2,))\n",
      "ct, child =  14    Linear(in_features=4000, out_features=4000, bias=True)\n",
      "ct, child =  15    Conv1d(25, 1, kernel_size=(15,), stride=(1,), padding=(7,))\n",
      "ct, child =  16    Dropout(p=0.15, inplace=False)\n",
      "ct, child =  17    Dropout(p=0.15, inplace=False)\n"
     ]
    }
   ],
   "source": [
    "## a comment on the web at https://pytorch.org/docs/stable/optim.html says\n",
    "\"\"\"\n",
    "If you need to move a model to GPU via .cuda(), please do so before constructing optimizers for it. \n",
    "Parameters of a model after .cuda() will be different objects with those before the call.\n",
    "\n",
    "In general, you should make sure that optimized parameters live in consistent locations when \n",
    "optimizers are constructed and used.\n",
    "\"\"\"\n",
    "## so move this here (although we are using model.to(device) not explicitly using .cuda()\n",
    "\n",
    "nOut1 = 50\n",
    "nOut2 = 50\n",
    "nOut3 = 50\n",
    "nOut4 = 50\n",
    "nOut5 = 50\n",
    "nOut6 = 50\n",
    "nOut7 = 50\n",
    "nOut8 = 50\n",
    "nOut9 = 50\n",
    "nOut10 = 50\n",
    "nOut11 = 50\n",
    "latentChannels = 4\n",
    "model = Model(nOut1,nOut2,nOut3,nOut4,nOut5,nOut6,nOut7,nOut8,nOut9,nOut10,nOut11,latentChannels)\n",
    "\n",
    "##summary(model, input_size=(4, 4000))\n",
    "##print(model.parameters)\n",
    "\n",
    "## add the following code to allow the user to freeze the some of the weights corresponding \n",
    "## to those taken from an earlier model trained with the original target histograms\n",
    "## presumably -- this leaves either the perturbative filter \"fixed\" and lets the \n",
    "## learning focus on the non-perturbative features, so get started faster, or vice versa\n",
    "ct = 0\n",
    "for child in model.children():\n",
    "  print('ct, child = ',ct, \"  \", child)\n",
    "  if ct < 0:\n",
    "    print(\"     About to set param.requires_grad=False for ct = \", ct, \"params\")\n",
    "    for param in child.parameters():\n",
    "        param.requires_grad = False \n",
    "  ct += 1\n",
    "##  mds 200121 loss = Loss(epsilon=1e-5,coefficient=1.0)\n",
    "##  loss = Loss(epsilon=1e-5,coefficient=2.5)\n",
    "##loss = Loss(epsilon=3e-5, debug=False)\n",
    "loss = Loss(epsilon=3e-5)"
   ]
  },
  {
   "cell_type": "markdown",
   "metadata": {},
   "source": [
    "Let's move the model's weight matricies to the GPU:"
   ]
  },
  {
   "cell_type": "code",
   "execution_count": 11,
   "metadata": {
    "scrolled": true
   },
   "outputs": [],
   "source": [
    "model = model.to(device)"
   ]
  },
  {
   "cell_type": "code",
   "execution_count": 12,
   "metadata": {
    "scrolled": true
   },
   "outputs": [],
   "source": [
    "optimizer = torch.optim.Adam(model.parameters(), lr=learning_rate)\n",
    "##optimizer = torch.optim.SGD(model.parameters(), lr=learning_rate)"
   ]
  },
  {
   "cell_type": "code",
   "execution_count": 13,
   "metadata": {
    "scrolled": false
   },
   "outputs": [
    {
     "name": "stdout",
     "output_type": "stream",
     "text": [
      "output =  ML/23Jan_DDplus_KDE_B_loss_Ba_iter3B_floatAll_50epochs_1em5_4xwill\n",
      "for model_dict\n",
      "index, k =   0    layer1.weight\n",
      "index, k =   1    layer1.bias\n",
      "index, k =   2    layer2.weight\n",
      "index, k =   3    layer2.bias\n",
      "index, k =   4    layer3.weight\n",
      "index, k =   5    layer3.bias\n",
      "index, k =   6    layer4.weight\n",
      "index, k =   7    layer4.bias\n",
      "index, k =   8    layer5.weight\n",
      "index, k =   9    layer5.bias\n",
      "index, k =   10    layer6.weight\n",
      "index, k =   11    layer6.bias\n",
      "index, k =   12    layer7.weight\n",
      "index, k =   13    layer7.bias\n",
      "index, k =   14    layer8.weight\n",
      "index, k =   15    layer8.bias\n",
      "index, k =   16    layer9.weight\n",
      "index, k =   17    layer9.bias\n",
      "index, k =   18    layer10.weight\n",
      "index, k =   19    layer10.bias\n",
      "index, k =   20    layer11.weight\n",
      "index, k =   21    layer11.bias\n",
      "index, k =   22    layer12new.weight\n",
      "index, k =   23    layer12new.bias\n",
      "index, k =   24    conv1.weight\n",
      "index, k =   25    conv1.bias\n",
      "index, k =   26    conv2.weight\n",
      "index, k =   27    conv2.bias\n",
      "index, k =   28    fc1.weight\n",
      "index, k =   29    fc1.bias\n",
      "index, k =   30    finalFilter.weight\n",
      "index, k =   31    finalFilter.bias\n",
      "dict_name =  ML/23Jan_DDplus_KDE_B_loss_Ba_iter2B_floatAll_6epochs_1em5_4xwill/23Jan_DDplus_KDE_B_loss_Ba_iter2B_floatAll_6epochs_1em5_4xwill_final.pyt\n",
      " \n",
      "  for pretrained_dict\n",
      "index, k =   0    layer1.weight\n",
      "index, k =   1    layer1.bias\n",
      "index, k =   2    layer2.weight\n",
      "index, k =   3    layer2.bias\n",
      "index, k =   4    layer3.weight\n",
      "index, k =   5    layer3.bias\n",
      "index, k =   6    layer4.weight\n",
      "index, k =   7    layer4.bias\n",
      "index, k =   8    layer5.weight\n",
      "index, k =   9    layer5.bias\n",
      "index, k =   10    layer6.weight\n",
      "index, k =   11    layer6.bias\n",
      "index, k =   12    layer7.weight\n",
      "index, k =   13    layer7.bias\n",
      "index, k =   14    layer8.weight\n",
      "index, k =   15    layer8.bias\n",
      "index, k =   16    layer9.weight\n",
      "index, k =   17    layer9.bias\n",
      "index, k =   18    layer10.weight\n",
      "index, k =   19    layer10.bias\n",
      "index, k =   20    layer11.weight\n",
      "index, k =   21    layer11.bias\n",
      "index, k =   22    layer12new.weight\n",
      "index, k =   23    layer12new.bias\n",
      "index, k =   24    conv1.weight\n",
      "index, k =   25    conv1.bias\n",
      "index, k =   26    conv2.weight\n",
      "index, k =   27    conv2.bias\n",
      "index, k =   28    fc1.weight\n",
      "index, k =   29    fc1.bias\n",
      "index, k =   30    finalFilter.weight\n",
      "index, k =   31    finalFilter.bias\n",
      "pretrained_dict iterated\n"
     ]
    },
    {
     "data": {
      "text/plain": [
       "<All keys matched successfully>"
      ]
     },
     "execution_count": 13,
     "metadata": {},
     "output_type": "execute_result"
    }
   ],
   "source": [
    "print('output = ',output)\n",
    "##print('oldOutput = ',oldOutput)\n",
    "##  use the first four layers from a pre-existing model\n",
    "##  see example at https://discuss.pytorch.org/t/how-to-load-part-of-pre-trained-model/1113\n",
    "\n",
    "##   ML -> /share/lazy/sokoloff/ML\n",
    "model_dict = model.state_dict()\n",
    "## mds 190725 for debugging\n",
    "print(\"for model_dict\")\n",
    "index = 0\n",
    "for k,v in model_dict.items():\n",
    "    print(\"index, k =  \",index,\"  \",k)\n",
    "    index = index+1\n",
    "##    print(\"value = \", v)\n",
    " \n",
    "updated_dict = model_dict\n",
    "##print(\"updated_dict = \",updated_dict)\n",
    "## when starting \"ab initio\", reduce biases as the bias gets summed for each track\n",
    "## contributing to the predicted KDE\n",
    "updated_dict[\"layer1.bias\"] = 0.005*model_dict[\"layer1.bias\"]\n",
    "updated_dict[\"layer2.bias\"] = 0.005*model_dict[\"layer2.bias\"]\n",
    "updated_dict[\"layer3.bias\"] = 0.005*model_dict[\"layer3.bias\"]\n",
    "updated_dict[\"layer4.bias\"] = 0.005*model_dict[\"layer4.bias\"]\n",
    "updated_dict[\"layer5.bias\"] = 0.005*model_dict[\"layer5.bias\"]\n",
    "updated_dict[\"layer6.bias\"] = 0.005*model_dict[\"layer6.bias\"]\n",
    "updated_dict[\"layer7.bias\"] = 0.005*model_dict[\"layer7.bias\"]\n",
    "updated_dict[\"layer8.bias\"] = 0.005*model_dict[\"layer8.bias\"]\n",
    "updated_dict[\"layer9.bias\"] = 0.005*model_dict[\"layer9.bias\"]\n",
    "updated_dict[\"layer10.bias\"] = 0.005*model_dict[\"layer10.bias\"]\n",
    "updated_dict[\"layer11.bias\"] = 0.005*model_dict[\"layer11.bias\"]\n",
    "\n",
    "model.load_state_dict(updated_dict,strict=False)\n",
    "\n",
    "model_dict = model.state_dict()\n",
    "##print(\"updated model_dict = \",model_dict)\n",
    "\n",
    "## print(\" \\n\",\"  for pretrained_dict\")\n",
    "## index = 0\n",
    "##for k,v in pretrained_dict.items():\n",
    "##    print(\"index, k =  \",index,\"  \",k)\n",
    "##    index = index+1\n",
    "## mds  \n",
    "\n",
    "##pretrained_dict = torch.load('ML/29July2020_Trks_to_KDE_C_lossB_100epochs_b64_1m3_nOut_50x50/29July2020_Trks_to_KDE_C_lossB_100epochs_b64_1m3_nOut_50x50_final.pyt')\n",
    "##print(\"model_dict instantiated\")\n",
    "# 1. filter out unnecessary keys\n",
    "##pretrained_dict = {k: v for k, v in pretrained_dict.items() if k in model_dict}\n",
    "##print(\"pretrained_dict iterated\")\n",
    "# 2. overwrite entries in the existing state dict\n",
    "##model_dict.update(pretrained_dict) \n",
    "##\n",
    "#   when starting from a model with a fully connected last layer rather than a convolutional layer\n",
    "# 3. load the new state dict\n",
    "#   need to use strict=False as the two models state model attributes do not agree exactly\n",
    "#   see https://pytorch.org/docs/master/_modules/torch/nn/modules/module.html#Module.load_state_dict\n",
    "\n",
    "##model.load_state_dict(pretrained_dict,strict=False)\n",
    "\n",
    "## print('model_dict =    ', model_dict)\n",
    "\n",
    "## finished at training cost = 1.46, validation cost = 1.50\n",
    "##d_folder = '25December__DDplus_loss_Ba_iter7_floatAll_800epochs_4em6'\n",
    "d_folder = '23Jan_DDplus_KDE_B_loss_Ba_iter2B_floatAll_6epochs_1em5_4xwill'\n",
    "d_name = d_folder\n",
    "suffix = 'final'\n",
    "dict_name = 'ML/' + d_folder + '/' + d_name + '_'+ suffix + '.pyt'\n",
    "print('dict_name = ',dict_name)\n",
    "pretrained_dict = torch.load(dict_name)\n",
    "\n",
    "print(\" \")\n",
    "print(\"  for pretrained_dict\")\n",
    "index = 0\n",
    "for k,v in pretrained_dict.items():\n",
    "    print(\"index, k =  \",index,\"  \",k)\n",
    "    index = index+1\n",
    " \n",
    "\n",
    "##print(\"model_dict instantiated\")\n",
    "# 1. filter out unnecessary keys\n",
    "pretrained_dict = {k: v for k, v in pretrained_dict.items() if k in model_dict}\n",
    "print(\"pretrained_dict iterated\")\n",
    "# 2. overwrite entries in the existing state dict\n",
    "model_dict.update(pretrained_dict) \n",
    "##\n",
    "#   when starting from a model with a fully connected last layer rather than a convolutional layer\n",
    "# 3. load the new state dict\n",
    "#   need to use strict=False as the two models state model attributes do not agree exactly\n",
    "#   see https://pytorch.org/docs/master/_modules/torch/nn/modules/module.html#Module.load_state_dict\n",
    "\n",
    "model.load_state_dict(pretrained_dict,strict=False)\n",
    "\n"
   ]
  },
  {
   "cell_type": "code",
   "execution_count": 14,
   "metadata": {},
   "outputs": [],
   "source": [
    "##print('validation.dataset.tensors = ',validation.dataset.tensors)\n",
    "fig_size = plt.rcParams[\"figure.figsize\"]\n",
    "fig_size[0] = 10\n",
    "fig_size[1] = 4\n",
    "plt.rcParams[\"figure.figsize\"] = fig_size"
   ]
  },
  {
   "cell_type": "code",
   "execution_count": 15,
   "metadata": {
    "scrolled": false
   },
   "outputs": [
    {
     "name": "stdout",
     "output_type": "stream",
     "text": [
      "Loading data...\n",
      "pocaMx.shape =  (80000,)\n",
      "nEvts =  80000\n",
      "len(pocaMx[0]) =  199\n",
      "len(pocaMx[1]) =  25\n",
      "len(pocaMx[2]) =  369\n",
      "len(pocaMx[3]) =  143\n",
      "len(pocaMx[4]) =  160\n",
      "majorAxis.shape =  (80000, 3)\n",
      "minorAxis_1.shape =  (80000, 3)\n",
      "minorAxis_2.shape =  (80000, 3)\n",
      "have entered six_ellipsoid_parameters\n",
      "  \n",
      " \n",
      "  nEvts =  80000\n",
      " iEvt, nTrks =  0 199\n",
      " iEvt, nTrks =  1 25\n",
      " iEvt, nTrks =  2 369\n",
      " iEvt, nTrks =  3 143\n",
      " iEvt, nTrks =  4 160\n",
      " iEvt, nTrks =  5 260\n",
      " iEvt, nTrks =  6 237\n",
      " iEvt, nTrks =  7 327\n",
      " iEvt, nTrks =  8 178\n",
      " iEvt, nTrks =  9 106\n",
      "A.shape =  (80000,)\n",
      "majorAxis[iTrk][0][0] =  0.00045611936\n",
      "majorAxis[iTrk][1][0] =  -4.8292455e-05\n",
      "majorAxis[iTrk][2][0] =  0.090019904\n",
      "minorAxis_1[iTrk][0][0] =  -1.8602173\n",
      "minorAxis_1[iTrk][1][0] =  -17.569641\n",
      "minorAxis_1[iTrk][2][0] =  4.7891795e-08\n",
      "minorAxis_2[iTrk][0][0] =  -17.569414\n",
      "minorAxis_2[iTrk][1][0] =  1.8601931\n",
      "minorAxis_2[iTrk][2][0] =  0.0900199\n",
      "  \n",
      "majorAxis[iTrk][0][0] =  0.002360258\n",
      "majorAxis[iTrk][1][0] =  -0.007426616\n",
      "majorAxis[iTrk][2][0] =  0.3710108\n",
      "minorAxis_1[iTrk][0][0] =  -16.837948\n",
      "minorAxis_1[iTrk][1][0] =  -5.3512807\n",
      "minorAxis_1[iTrk][2][0] =  8.157131e-09\n",
      "minorAxis_2[iTrk][0][0] =  -5.3501005\n",
      "minorAxis_2[iTrk][1][0] =  16.834236\n",
      "minorAxis_2[iTrk][2][0] =  0.3710108\n",
      "  \n",
      "majorAxis[iTrk][0][0] =  6.220712e-05\n",
      "majorAxis[iTrk][1][0] =  -4.4594188e-05\n",
      "majorAxis[iTrk][2][0] =  0.036773544\n",
      "minorAxis_1[iTrk][0][0] =  10.293747\n",
      "minorAxis_1[iTrk][1][0] =  14.359369\n",
      "minorAxis_1[iTrk][2][0] =  1.571041e-06\n",
      "minorAxis_2[iTrk][0][0] =  14.359338\n",
      "minorAxis_2[iTrk][1][0] =  -10.293725\n",
      "minorAxis_2[iTrk][2][0] =  -0.03677354\n",
      "  \n",
      "len(X) =  80000\n",
      "len(Xlist) =  1\n",
      "Loaded /share/lazy/will/data/June30_2020_80k_1.h5 in 121.6 s\n",
      "pocaMx.shape =  (80000,)\n",
      "nEvts =  80000\n",
      "len(pocaMx[0]) =  222\n",
      "len(pocaMx[1]) =  133\n",
      "len(pocaMx[2]) =  259\n",
      "len(pocaMx[3]) =  114\n",
      "len(pocaMx[4]) =  143\n",
      "majorAxis.shape =  (80000, 3)\n",
      "minorAxis_1.shape =  (80000, 3)\n",
      "minorAxis_2.shape =  (80000, 3)\n",
      "have entered six_ellipsoid_parameters\n",
      "  \n",
      " \n",
      "  nEvts =  80000\n",
      " iEvt, nTrks =  0 222\n",
      " iEvt, nTrks =  1 133\n",
      " iEvt, nTrks =  2 259\n",
      " iEvt, nTrks =  3 114\n",
      " iEvt, nTrks =  4 143\n",
      " iEvt, nTrks =  5 136\n",
      " iEvt, nTrks =  6 397\n",
      " iEvt, nTrks =  7 370\n",
      " iEvt, nTrks =  8 97\n",
      " iEvt, nTrks =  9 67\n",
      "A.shape =  (80000,)\n",
      "majorAxis[iTrk][0][0] =  -0.001036478\n",
      "majorAxis[iTrk][1][0] =  0.0009833863\n",
      "majorAxis[iTrk][2][0] =  0.15887721\n",
      "minorAxis_1[iTrk][0][0] =  -12.160475\n",
      "minorAxis_1[iTrk][1][0] =  -12.817002\n",
      "minorAxis_1[iTrk][2][0] =  0.0\n",
      "minorAxis_2[iTrk][0][0] =  -12.816484\n",
      "minorAxis_2[iTrk][1][0] =  12.159985\n",
      "minorAxis_2[iTrk][2][0] =  -0.15887721\n",
      "  \n",
      "majorAxis[iTrk][0][0] =  0.0016579849\n",
      "majorAxis[iTrk][1][0] =  0.0020989499\n",
      "majorAxis[iTrk][2][0] =  0.21738033\n",
      "minorAxis_1[iTrk][0][0] =  -13.864233\n",
      "minorAxis_1[iTrk][1][0] =  10.95152\n",
      "minorAxis_1[iTrk][2][0] =  -3.3017489e-09\n",
      "minorAxis_2[iTrk][0][0] =  10.95069\n",
      "minorAxis_2[iTrk][1][0] =  13.863184\n",
      "minorAxis_2[iTrk][2][0] =  -0.21738033\n",
      "  \n",
      "majorAxis[iTrk][0][0] =  0.00012481198\n",
      "majorAxis[iTrk][1][0] =  -0.00028747538\n",
      "majorAxis[iTrk][2][0] =  0.07441149\n",
      "minorAxis_1[iTrk][0][0] =  -16.206305\n",
      "minorAxis_1[iTrk][1][0] =  -7.036224\n",
      "minorAxis_1[iTrk][2][0] =  5.3456716e-08\n",
      "minorAxis_2[iTrk][0][0] =  -7.0361605\n",
      "minorAxis_2[iTrk][1][0] =  16.20616\n",
      "minorAxis_2[iTrk][2][0] =  0.07441148\n",
      "  \n",
      "len(X) =  80000\n",
      "len(Xlist) =  2\n",
      "Loaded /share/lazy/will/data/June30_2020_80k_2.h5 in 122.9 s\n",
      "pocaMx.shape =  (80000,)\n",
      "nEvts =  80000\n",
      "len(pocaMx[0]) =  196\n",
      "len(pocaMx[1]) =  35\n",
      "len(pocaMx[2]) =  265\n",
      "len(pocaMx[3]) =  128\n",
      "len(pocaMx[4]) =  124\n",
      "majorAxis.shape =  (80000, 3)\n",
      "minorAxis_1.shape =  (80000, 3)\n",
      "minorAxis_2.shape =  (80000, 3)\n",
      "have entered six_ellipsoid_parameters\n",
      "  \n",
      " \n",
      "  nEvts =  80000\n",
      " iEvt, nTrks =  0 196\n",
      " iEvt, nTrks =  1 35\n",
      " iEvt, nTrks =  2 265\n",
      " iEvt, nTrks =  3 128\n",
      " iEvt, nTrks =  4 124\n",
      " iEvt, nTrks =  5 122\n",
      " iEvt, nTrks =  6 300\n",
      " iEvt, nTrks =  7 179\n",
      " iEvt, nTrks =  8 243\n",
      " iEvt, nTrks =  9 112\n",
      "A.shape =  (80000,)\n",
      "majorAxis[iTrk][0][0] =  -2.440992e-05\n",
      "majorAxis[iTrk][1][0] =  -0.00038087237\n",
      "majorAxis[iTrk][2][0] =  0.08211532\n",
      "minorAxis_1[iTrk][0][0] =  -17.631672\n",
      "minorAxis_1[iTrk][1][0] =  1.130005\n",
      "minorAxis_1[iTrk][2][0] =  4.7444193e-08\n",
      "minorAxis_2[iTrk][0][0] =  1.1299927\n",
      "minorAxis_2[iTrk][1][0] =  17.631481\n",
      "minorAxis_2[iTrk][2][0] =  0.08211532\n",
      "  \n",
      "majorAxis[iTrk][0][0] =  -0.02277395\n",
      "majorAxis[iTrk][1][0] =  0.0014473597\n",
      "majorAxis[iTrk][2][0] =  0.6347583\n",
      "minorAxis_1[iTrk][0][0] =  -1.1205891\n",
      "minorAxis_1[iTrk][1][0] =  -17.632273\n",
      "minorAxis_1[iTrk][2][0] =  2.1543272e-09\n",
      "minorAxis_2[iTrk][0][0] =  -17.620888\n",
      "minorAxis_2[iTrk][1][0] =  1.1198657\n",
      "minorAxis_2[iTrk][2][0] =  -0.63475823\n",
      "  \n",
      "majorAxis[iTrk][0][0] =  0.0004024825\n",
      "majorAxis[iTrk][1][0] =  -0.00023784715\n",
      "majorAxis[iTrk][2][0] =  0.090883136\n",
      "minorAxis_1[iTrk][0][0] =  -8.988615\n",
      "minorAxis_1[iTrk][1][0] =  -15.210441\n",
      "minorAxis_1[iTrk][2][0] =  -6.56547e-08\n",
      "minorAxis_2[iTrk][0][0] =  -15.21024\n",
      "minorAxis_2[iTrk][1][0] =  8.988497\n",
      "minorAxis_2[iTrk][2][0] =  0.090883136\n",
      "  \n",
      "len(X) =  80000\n",
      "len(Xlist) =  3\n",
      "Loaded /share/lazy/will/data/June30_2020_80k_3.h5 in 123.2 s\n",
      "pocaMx.shape =  (80000,)\n",
      "nEvts =  80000\n",
      "len(pocaMx[0]) =  204\n",
      "len(pocaMx[1]) =  33\n",
      "len(pocaMx[2]) =  206\n",
      "len(pocaMx[3]) =  150\n",
      "len(pocaMx[4]) =  96\n",
      "majorAxis.shape =  (80000, 3)\n",
      "minorAxis_1.shape =  (80000, 3)\n",
      "minorAxis_2.shape =  (80000, 3)\n",
      "have entered six_ellipsoid_parameters\n",
      "  \n",
      " \n",
      "  nEvts =  80000\n",
      " iEvt, nTrks =  0 204\n",
      " iEvt, nTrks =  1 33\n",
      " iEvt, nTrks =  2 206\n",
      " iEvt, nTrks =  3 150\n",
      " iEvt, nTrks =  4 96\n",
      " iEvt, nTrks =  5 10\n",
      " iEvt, nTrks =  6 174\n",
      " iEvt, nTrks =  7 320\n",
      " iEvt, nTrks =  8 164\n",
      " iEvt, nTrks =  9 119\n",
      "A.shape =  (80000,)\n",
      "majorAxis[iTrk][0][0] =  0.00057876867\n",
      "majorAxis[iTrk][1][0] =  0.00037603904\n",
      "majorAxis[iTrk][2][0] =  0.110427074\n",
      "minorAxis_1[iTrk][0][0] =  9.62588\n",
      "minorAxis_1[iTrk][1][0] =  -14.81537\n",
      "minorAxis_1[iTrk][2][0] =  8.391163e-09\n",
      "minorAxis_2[iTrk][0][0] =  -14.815081\n",
      "minorAxis_2[iTrk][1][0] =  -9.625692\n",
      "minorAxis_2[iTrk][2][0] =  0.11042709\n",
      "  \n",
      "majorAxis[iTrk][0][0] =  -7.687664e-05\n",
      "majorAxis[iTrk][1][0] =  -0.0017985329\n",
      "majorAxis[iTrk][2][0] =  0.17833562\n",
      "minorAxis_1[iTrk][0][0] =  -17.651728\n",
      "minorAxis_1[iTrk][1][0] =  0.7545069\n",
      "minorAxis_1[iTrk][2][0] =  -7.932265e-09\n",
      "minorAxis_2[iTrk][0][0] =  0.75446844\n",
      "minorAxis_2[iTrk][1][0] =  17.650827\n",
      "minorAxis_2[iTrk][2][0] =  0.17833562\n",
      "  \n",
      "majorAxis[iTrk][0][0] =  4.5855802e-05\n",
      "majorAxis[iTrk][1][0] =  -0.00054240844\n",
      "majorAxis[iTrk][2][0] =  0.098067455\n",
      "minorAxis_1[iTrk][0][0] =  17.605043\n",
      "minorAxis_1[iTrk][1][0] =  1.4883496\n",
      "minorAxis_1[iTrk][2][0] =  -2.7847218e-08\n",
      "minorAxis_2[iTrk][0][0] =  1.4883265\n",
      "minorAxis_2[iTrk][1][0] =  -17.604773\n",
      "minorAxis_2[iTrk][2][0] =  -0.098067455\n",
      "  \n",
      "len(X) =  80000\n",
      "len(Xlist) =  4\n",
      "Loaded /share/lazy/will/data/June30_2020_80k_4.h5 in 133.5 s\n",
      "outer loop X.shape =  (320000, 9, 600)\n",
      "Constructing 320000 event dataset took 2.854 s\n",
      "x_t.shape =  torch.Size([320000, 9, 600])\n",
      "x_t.shape[0] =  320000\n",
      "x_t.shape[1] =  9\n",
      "x_t.shape =  torch.Size([320000, 9, 600])\n",
      "Loading data...\n",
      "pocaMx.shape =  (20000,)\n",
      "nEvts =  20000\n",
      "len(pocaMx[0]) =  211\n",
      "len(pocaMx[1]) =  21\n",
      "len(pocaMx[2]) =  20\n",
      "len(pocaMx[3]) =  198\n",
      "len(pocaMx[4]) =  233\n",
      "majorAxis.shape =  (20000, 3)\n",
      "minorAxis_1.shape =  (20000, 3)\n",
      "minorAxis_2.shape =  (20000, 3)\n",
      "have entered six_ellipsoid_parameters\n",
      "  \n",
      " \n",
      "  nEvts =  20000\n",
      " iEvt, nTrks =  0 211\n",
      " iEvt, nTrks =  1 21\n",
      " iEvt, nTrks =  2 20\n",
      " iEvt, nTrks =  3 198\n",
      " iEvt, nTrks =  4 233\n",
      " iEvt, nTrks =  5 85\n",
      " iEvt, nTrks =  6 223\n",
      " iEvt, nTrks =  7 425\n",
      " iEvt, nTrks =  8 252\n",
      " iEvt, nTrks =  9 169\n",
      "A.shape =  (20000,)\n",
      "majorAxis[iTrk][0][0] =  -0.00023452607\n",
      "majorAxis[iTrk][1][0] =  -0.00047206535\n",
      "majorAxis[iTrk][2][0] =  0.096502915\n",
      "minorAxis_1[iTrk][0][0] =  -15.822749\n",
      "minorAxis_1[iTrk][1][0] =  7.8608756\n",
      "minorAxis_1[iTrk][2][0] =  -2.6228399e-08\n",
      "minorAxis_2[iTrk][0][0] =  7.860759\n",
      "minorAxis_2[iTrk][1][0] =  15.822513\n",
      "minorAxis_2[iTrk][2][0] =  0.096502915\n",
      "  \n",
      "majorAxis[iTrk][0][0] =  -0.37655562\n",
      "majorAxis[iTrk][1][0] =  0.2768704\n",
      "majorAxis[iTrk][2][0] =  2.8546858\n",
      "minorAxis_1[iTrk][0][0] =  -10.466048\n",
      "minorAxis_1[iTrk][1][0] =  -14.234274\n",
      "minorAxis_1[iTrk][2][0] =  2.2974699e-11\n",
      "minorAxis_2[iTrk][0][0] =  -14.04724\n",
      "minorAxis_2[iTrk][1][0] =  10.328527\n",
      "minorAxis_2[iTrk][2][0] =  -2.8546853\n",
      "  \n",
      "majorAxis[iTrk][0][0] =  -0.024279848\n",
      "majorAxis[iTrk][1][0] =  0.0019689242\n",
      "majorAxis[iTrk][2][0] =  0.65580803\n",
      "minorAxis_1[iTrk][0][0] =  -1.4280497\n",
      "minorAxis_1[iTrk][1][0] =  -17.610037\n",
      "minorAxis_1[iTrk][2][0] =  -6.123401e-10\n",
      "minorAxis_2[iTrk][0][0] =  -17.597902\n",
      "minorAxis_2[iTrk][1][0] =  1.4270656\n",
      "minorAxis_2[iTrk][2][0] =  -0.6558081\n",
      "  \n"
     ]
    },
    {
     "name": "stdout",
     "output_type": "stream",
     "text": [
      "len(X) =  20000\n",
      "len(Xlist) =  1\n",
      "Loaded dataAA/20K_POCA_kernel_evts_200926.h5 in 41.2 s\n",
      "outer loop X.shape =  (20000, 9, 600)\n",
      "Constructing 10000 event dataset took 0.05315 s\n",
      "x_t.shape =  torch.Size([10000, 9, 600])\n",
      "x_t.shape[0] =  10000\n",
      "x_t.shape[1] =  9\n",
      "x_t.shape =  torch.Size([10000, 9, 600])\n"
     ]
    }
   ],
   "source": [
    "\n",
    "## Training dataset. You can put as many files here as desired.\n",
    "\n",
    "##train_loader = collect_t2kde_data('/share/lazy/pv-finder/20k_evts_for_KDE_learning_200716.h5',\n",
    "train_loader = collect_t2kde_data('/share/lazy/will/data/June30_2020_80k_1.h5', \n",
    "                                    '/share/lazy/will/data/June30_2020_80k_2.h5',\n",
    "                                    '/share/lazy/will/data/June30_2020_80k_3.h5',\n",
    "                                    '/share/lazy/will/data/June30_2020_80k_4.h5',\n",
    "                             batch_size=batch_size,\n",
    "## if we are using a larger dataset (240K events, with the datasets above, and 11 GB  of GPU memory),\n",
    "## the dataset will overflow the GPU memory; device=device will allow the data to move back\n",
    "## and forth between the CPU and GPU memory. While this allows use of a larger dataset, it slows\n",
    "## down performance by about 10%.  So comment out when not needed.\n",
    "##                          device=device,\n",
    "##                           slice = slice(None,18000)\n",
    "                           )\n",
    "                            \n",
    "# Validation dataset. You can slice to reduce the size.\n",
    "## mds no separate validation set yet,\n",
    "\n",
    "## For iter12, change slice(18000,None) to slice(10000,None)\n",
    "## First, we'll see if this changes the validation cost significantly\n",
    "##  Second, we will see if this reduces the validation cost fluctuations\n",
    "val_loader = collect_t2kde_data('dataAA/20K_POCA_kernel_evts_200926.h5',\n",
    "                            batch_size=batch_size,\n",
    "##                            device=device,\n",
    "                            slice = slice(10000,None)\n",
    "                           )\n"
   ]
  },
  {
   "cell_type": "code",
   "execution_count": 16,
   "metadata": {
    "scrolled": false
   },
   "outputs": [
    {
     "data": {
      "application/javascript": [
       "/* Put everything inside the global mpl namespace */\n",
       "window.mpl = {};\n",
       "\n",
       "\n",
       "mpl.get_websocket_type = function() {\n",
       "    if (typeof(WebSocket) !== 'undefined') {\n",
       "        return WebSocket;\n",
       "    } else if (typeof(MozWebSocket) !== 'undefined') {\n",
       "        return MozWebSocket;\n",
       "    } else {\n",
       "        alert('Your browser does not have WebSocket support. ' +\n",
       "              'Please try Chrome, Safari or Firefox ≥ 6. ' +\n",
       "              'Firefox 4 and 5 are also supported but you ' +\n",
       "              'have to enable WebSockets in about:config.');\n",
       "    };\n",
       "}\n",
       "\n",
       "mpl.figure = function(figure_id, websocket, ondownload, parent_element) {\n",
       "    this.id = figure_id;\n",
       "\n",
       "    this.ws = websocket;\n",
       "\n",
       "    this.supports_binary = (this.ws.binaryType != undefined);\n",
       "\n",
       "    if (!this.supports_binary) {\n",
       "        var warnings = document.getElementById(\"mpl-warnings\");\n",
       "        if (warnings) {\n",
       "            warnings.style.display = 'block';\n",
       "            warnings.textContent = (\n",
       "                \"This browser does not support binary websocket messages. \" +\n",
       "                    \"Performance may be slow.\");\n",
       "        }\n",
       "    }\n",
       "\n",
       "    this.imageObj = new Image();\n",
       "\n",
       "    this.context = undefined;\n",
       "    this.message = undefined;\n",
       "    this.canvas = undefined;\n",
       "    this.rubberband_canvas = undefined;\n",
       "    this.rubberband_context = undefined;\n",
       "    this.format_dropdown = undefined;\n",
       "\n",
       "    this.image_mode = 'full';\n",
       "\n",
       "    this.root = $('<div/>');\n",
       "    this._root_extra_style(this.root)\n",
       "    this.root.attr('style', 'display: inline-block');\n",
       "\n",
       "    $(parent_element).append(this.root);\n",
       "\n",
       "    this._init_header(this);\n",
       "    this._init_canvas(this);\n",
       "    this._init_toolbar(this);\n",
       "\n",
       "    var fig = this;\n",
       "\n",
       "    this.waiting = false;\n",
       "\n",
       "    this.ws.onopen =  function () {\n",
       "            fig.send_message(\"supports_binary\", {value: fig.supports_binary});\n",
       "            fig.send_message(\"send_image_mode\", {});\n",
       "            if (mpl.ratio != 1) {\n",
       "                fig.send_message(\"set_dpi_ratio\", {'dpi_ratio': mpl.ratio});\n",
       "            }\n",
       "            fig.send_message(\"refresh\", {});\n",
       "        }\n",
       "\n",
       "    this.imageObj.onload = function() {\n",
       "            if (fig.image_mode == 'full') {\n",
       "                // Full images could contain transparency (where diff images\n",
       "                // almost always do), so we need to clear the canvas so that\n",
       "                // there is no ghosting.\n",
       "                fig.context.clearRect(0, 0, fig.canvas.width, fig.canvas.height);\n",
       "            }\n",
       "            fig.context.drawImage(fig.imageObj, 0, 0);\n",
       "        };\n",
       "\n",
       "    this.imageObj.onunload = function() {\n",
       "        fig.ws.close();\n",
       "    }\n",
       "\n",
       "    this.ws.onmessage = this._make_on_message_function(this);\n",
       "\n",
       "    this.ondownload = ondownload;\n",
       "}\n",
       "\n",
       "mpl.figure.prototype._init_header = function() {\n",
       "    var titlebar = $(\n",
       "        '<div class=\"ui-dialog-titlebar ui-widget-header ui-corner-all ' +\n",
       "        'ui-helper-clearfix\"/>');\n",
       "    var titletext = $(\n",
       "        '<div class=\"ui-dialog-title\" style=\"width: 100%; ' +\n",
       "        'text-align: center; padding: 3px;\"/>');\n",
       "    titlebar.append(titletext)\n",
       "    this.root.append(titlebar);\n",
       "    this.header = titletext[0];\n",
       "}\n",
       "\n",
       "\n",
       "\n",
       "mpl.figure.prototype._canvas_extra_style = function(canvas_div) {\n",
       "\n",
       "}\n",
       "\n",
       "\n",
       "mpl.figure.prototype._root_extra_style = function(canvas_div) {\n",
       "\n",
       "}\n",
       "\n",
       "mpl.figure.prototype._init_canvas = function() {\n",
       "    var fig = this;\n",
       "\n",
       "    var canvas_div = $('<div/>');\n",
       "\n",
       "    canvas_div.attr('style', 'position: relative; clear: both; outline: 0');\n",
       "\n",
       "    function canvas_keyboard_event(event) {\n",
       "        return fig.key_event(event, event['data']);\n",
       "    }\n",
       "\n",
       "    canvas_div.keydown('key_press', canvas_keyboard_event);\n",
       "    canvas_div.keyup('key_release', canvas_keyboard_event);\n",
       "    this.canvas_div = canvas_div\n",
       "    this._canvas_extra_style(canvas_div)\n",
       "    this.root.append(canvas_div);\n",
       "\n",
       "    var canvas = $('<canvas/>');\n",
       "    canvas.addClass('mpl-canvas');\n",
       "    canvas.attr('style', \"left: 0; top: 0; z-index: 0; outline: 0\")\n",
       "\n",
       "    this.canvas = canvas[0];\n",
       "    this.context = canvas[0].getContext(\"2d\");\n",
       "\n",
       "    var backingStore = this.context.backingStorePixelRatio ||\n",
       "\tthis.context.webkitBackingStorePixelRatio ||\n",
       "\tthis.context.mozBackingStorePixelRatio ||\n",
       "\tthis.context.msBackingStorePixelRatio ||\n",
       "\tthis.context.oBackingStorePixelRatio ||\n",
       "\tthis.context.backingStorePixelRatio || 1;\n",
       "\n",
       "    mpl.ratio = (window.devicePixelRatio || 1) / backingStore;\n",
       "\n",
       "    var rubberband = $('<canvas/>');\n",
       "    rubberband.attr('style', \"position: absolute; left: 0; top: 0; z-index: 1;\")\n",
       "\n",
       "    var pass_mouse_events = true;\n",
       "\n",
       "    canvas_div.resizable({\n",
       "        start: function(event, ui) {\n",
       "            pass_mouse_events = false;\n",
       "        },\n",
       "        resize: function(event, ui) {\n",
       "            fig.request_resize(ui.size.width, ui.size.height);\n",
       "        },\n",
       "        stop: function(event, ui) {\n",
       "            pass_mouse_events = true;\n",
       "            fig.request_resize(ui.size.width, ui.size.height);\n",
       "        },\n",
       "    });\n",
       "\n",
       "    function mouse_event_fn(event) {\n",
       "        if (pass_mouse_events)\n",
       "            return fig.mouse_event(event, event['data']);\n",
       "    }\n",
       "\n",
       "    rubberband.mousedown('button_press', mouse_event_fn);\n",
       "    rubberband.mouseup('button_release', mouse_event_fn);\n",
       "    // Throttle sequential mouse events to 1 every 20ms.\n",
       "    rubberband.mousemove('motion_notify', mouse_event_fn);\n",
       "\n",
       "    rubberband.mouseenter('figure_enter', mouse_event_fn);\n",
       "    rubberband.mouseleave('figure_leave', mouse_event_fn);\n",
       "\n",
       "    canvas_div.on(\"wheel\", function (event) {\n",
       "        event = event.originalEvent;\n",
       "        event['data'] = 'scroll'\n",
       "        if (event.deltaY < 0) {\n",
       "            event.step = 1;\n",
       "        } else {\n",
       "            event.step = -1;\n",
       "        }\n",
       "        mouse_event_fn(event);\n",
       "    });\n",
       "\n",
       "    canvas_div.append(canvas);\n",
       "    canvas_div.append(rubberband);\n",
       "\n",
       "    this.rubberband = rubberband;\n",
       "    this.rubberband_canvas = rubberband[0];\n",
       "    this.rubberband_context = rubberband[0].getContext(\"2d\");\n",
       "    this.rubberband_context.strokeStyle = \"#000000\";\n",
       "\n",
       "    this._resize_canvas = function(width, height) {\n",
       "        // Keep the size of the canvas, canvas container, and rubber band\n",
       "        // canvas in synch.\n",
       "        canvas_div.css('width', width)\n",
       "        canvas_div.css('height', height)\n",
       "\n",
       "        canvas.attr('width', width * mpl.ratio);\n",
       "        canvas.attr('height', height * mpl.ratio);\n",
       "        canvas.attr('style', 'width: ' + width + 'px; height: ' + height + 'px;');\n",
       "\n",
       "        rubberband.attr('width', width);\n",
       "        rubberband.attr('height', height);\n",
       "    }\n",
       "\n",
       "    // Set the figure to an initial 600x600px, this will subsequently be updated\n",
       "    // upon first draw.\n",
       "    this._resize_canvas(600, 600);\n",
       "\n",
       "    // Disable right mouse context menu.\n",
       "    $(this.rubberband_canvas).bind(\"contextmenu\",function(e){\n",
       "        return false;\n",
       "    });\n",
       "\n",
       "    function set_focus () {\n",
       "        canvas.focus();\n",
       "        canvas_div.focus();\n",
       "    }\n",
       "\n",
       "    window.setTimeout(set_focus, 100);\n",
       "}\n",
       "\n",
       "mpl.figure.prototype._init_toolbar = function() {\n",
       "    var fig = this;\n",
       "\n",
       "    var nav_element = $('<div/>');\n",
       "    nav_element.attr('style', 'width: 100%');\n",
       "    this.root.append(nav_element);\n",
       "\n",
       "    // Define a callback function for later on.\n",
       "    function toolbar_event(event) {\n",
       "        return fig.toolbar_button_onclick(event['data']);\n",
       "    }\n",
       "    function toolbar_mouse_event(event) {\n",
       "        return fig.toolbar_button_onmouseover(event['data']);\n",
       "    }\n",
       "\n",
       "    for(var toolbar_ind in mpl.toolbar_items) {\n",
       "        var name = mpl.toolbar_items[toolbar_ind][0];\n",
       "        var tooltip = mpl.toolbar_items[toolbar_ind][1];\n",
       "        var image = mpl.toolbar_items[toolbar_ind][2];\n",
       "        var method_name = mpl.toolbar_items[toolbar_ind][3];\n",
       "\n",
       "        if (!name) {\n",
       "            // put a spacer in here.\n",
       "            continue;\n",
       "        }\n",
       "        var button = $('<button/>');\n",
       "        button.addClass('ui-button ui-widget ui-state-default ui-corner-all ' +\n",
       "                        'ui-button-icon-only');\n",
       "        button.attr('role', 'button');\n",
       "        button.attr('aria-disabled', 'false');\n",
       "        button.click(method_name, toolbar_event);\n",
       "        button.mouseover(tooltip, toolbar_mouse_event);\n",
       "\n",
       "        var icon_img = $('<span/>');\n",
       "        icon_img.addClass('ui-button-icon-primary ui-icon');\n",
       "        icon_img.addClass(image);\n",
       "        icon_img.addClass('ui-corner-all');\n",
       "\n",
       "        var tooltip_span = $('<span/>');\n",
       "        tooltip_span.addClass('ui-button-text');\n",
       "        tooltip_span.html(tooltip);\n",
       "\n",
       "        button.append(icon_img);\n",
       "        button.append(tooltip_span);\n",
       "\n",
       "        nav_element.append(button);\n",
       "    }\n",
       "\n",
       "    var fmt_picker_span = $('<span/>');\n",
       "\n",
       "    var fmt_picker = $('<select/>');\n",
       "    fmt_picker.addClass('mpl-toolbar-option ui-widget ui-widget-content');\n",
       "    fmt_picker_span.append(fmt_picker);\n",
       "    nav_element.append(fmt_picker_span);\n",
       "    this.format_dropdown = fmt_picker[0];\n",
       "\n",
       "    for (var ind in mpl.extensions) {\n",
       "        var fmt = mpl.extensions[ind];\n",
       "        var option = $(\n",
       "            '<option/>', {selected: fmt === mpl.default_extension}).html(fmt);\n",
       "        fmt_picker.append(option);\n",
       "    }\n",
       "\n",
       "    // Add hover states to the ui-buttons\n",
       "    $( \".ui-button\" ).hover(\n",
       "        function() { $(this).addClass(\"ui-state-hover\");},\n",
       "        function() { $(this).removeClass(\"ui-state-hover\");}\n",
       "    );\n",
       "\n",
       "    var status_bar = $('<span class=\"mpl-message\"/>');\n",
       "    nav_element.append(status_bar);\n",
       "    this.message = status_bar[0];\n",
       "}\n",
       "\n",
       "mpl.figure.prototype.request_resize = function(x_pixels, y_pixels) {\n",
       "    // Request matplotlib to resize the figure. Matplotlib will then trigger a resize in the client,\n",
       "    // which will in turn request a refresh of the image.\n",
       "    this.send_message('resize', {'width': x_pixels, 'height': y_pixels});\n",
       "}\n",
       "\n",
       "mpl.figure.prototype.send_message = function(type, properties) {\n",
       "    properties['type'] = type;\n",
       "    properties['figure_id'] = this.id;\n",
       "    this.ws.send(JSON.stringify(properties));\n",
       "}\n",
       "\n",
       "mpl.figure.prototype.send_draw_message = function() {\n",
       "    if (!this.waiting) {\n",
       "        this.waiting = true;\n",
       "        this.ws.send(JSON.stringify({type: \"draw\", figure_id: this.id}));\n",
       "    }\n",
       "}\n",
       "\n",
       "\n",
       "mpl.figure.prototype.handle_save = function(fig, msg) {\n",
       "    var format_dropdown = fig.format_dropdown;\n",
       "    var format = format_dropdown.options[format_dropdown.selectedIndex].value;\n",
       "    fig.ondownload(fig, format);\n",
       "}\n",
       "\n",
       "\n",
       "mpl.figure.prototype.handle_resize = function(fig, msg) {\n",
       "    var size = msg['size'];\n",
       "    if (size[0] != fig.canvas.width || size[1] != fig.canvas.height) {\n",
       "        fig._resize_canvas(size[0], size[1]);\n",
       "        fig.send_message(\"refresh\", {});\n",
       "    };\n",
       "}\n",
       "\n",
       "mpl.figure.prototype.handle_rubberband = function(fig, msg) {\n",
       "    var x0 = msg['x0'] / mpl.ratio;\n",
       "    var y0 = (fig.canvas.height - msg['y0']) / mpl.ratio;\n",
       "    var x1 = msg['x1'] / mpl.ratio;\n",
       "    var y1 = (fig.canvas.height - msg['y1']) / mpl.ratio;\n",
       "    x0 = Math.floor(x0) + 0.5;\n",
       "    y0 = Math.floor(y0) + 0.5;\n",
       "    x1 = Math.floor(x1) + 0.5;\n",
       "    y1 = Math.floor(y1) + 0.5;\n",
       "    var min_x = Math.min(x0, x1);\n",
       "    var min_y = Math.min(y0, y1);\n",
       "    var width = Math.abs(x1 - x0);\n",
       "    var height = Math.abs(y1 - y0);\n",
       "\n",
       "    fig.rubberband_context.clearRect(\n",
       "        0, 0, fig.canvas.width / mpl.ratio, fig.canvas.height / mpl.ratio);\n",
       "\n",
       "    fig.rubberband_context.strokeRect(min_x, min_y, width, height);\n",
       "}\n",
       "\n",
       "mpl.figure.prototype.handle_figure_label = function(fig, msg) {\n",
       "    // Updates the figure title.\n",
       "    fig.header.textContent = msg['label'];\n",
       "}\n",
       "\n",
       "mpl.figure.prototype.handle_cursor = function(fig, msg) {\n",
       "    var cursor = msg['cursor'];\n",
       "    switch(cursor)\n",
       "    {\n",
       "    case 0:\n",
       "        cursor = 'pointer';\n",
       "        break;\n",
       "    case 1:\n",
       "        cursor = 'default';\n",
       "        break;\n",
       "    case 2:\n",
       "        cursor = 'crosshair';\n",
       "        break;\n",
       "    case 3:\n",
       "        cursor = 'move';\n",
       "        break;\n",
       "    }\n",
       "    fig.rubberband_canvas.style.cursor = cursor;\n",
       "}\n",
       "\n",
       "mpl.figure.prototype.handle_message = function(fig, msg) {\n",
       "    fig.message.textContent = msg['message'];\n",
       "}\n",
       "\n",
       "mpl.figure.prototype.handle_draw = function(fig, msg) {\n",
       "    // Request the server to send over a new figure.\n",
       "    fig.send_draw_message();\n",
       "}\n",
       "\n",
       "mpl.figure.prototype.handle_image_mode = function(fig, msg) {\n",
       "    fig.image_mode = msg['mode'];\n",
       "}\n",
       "\n",
       "mpl.figure.prototype.updated_canvas_event = function() {\n",
       "    // Called whenever the canvas gets updated.\n",
       "    this.send_message(\"ack\", {});\n",
       "}\n",
       "\n",
       "// A function to construct a web socket function for onmessage handling.\n",
       "// Called in the figure constructor.\n",
       "mpl.figure.prototype._make_on_message_function = function(fig) {\n",
       "    return function socket_on_message(evt) {\n",
       "        if (evt.data instanceof Blob) {\n",
       "            /* FIXME: We get \"Resource interpreted as Image but\n",
       "             * transferred with MIME type text/plain:\" errors on\n",
       "             * Chrome.  But how to set the MIME type?  It doesn't seem\n",
       "             * to be part of the websocket stream */\n",
       "            evt.data.type = \"image/png\";\n",
       "\n",
       "            /* Free the memory for the previous frames */\n",
       "            if (fig.imageObj.src) {\n",
       "                (window.URL || window.webkitURL).revokeObjectURL(\n",
       "                    fig.imageObj.src);\n",
       "            }\n",
       "\n",
       "            fig.imageObj.src = (window.URL || window.webkitURL).createObjectURL(\n",
       "                evt.data);\n",
       "            fig.updated_canvas_event();\n",
       "            fig.waiting = false;\n",
       "            return;\n",
       "        }\n",
       "        else if (typeof evt.data === 'string' && evt.data.slice(0, 21) == \"data:image/png;base64\") {\n",
       "            fig.imageObj.src = evt.data;\n",
       "            fig.updated_canvas_event();\n",
       "            fig.waiting = false;\n",
       "            return;\n",
       "        }\n",
       "\n",
       "        var msg = JSON.parse(evt.data);\n",
       "        var msg_type = msg['type'];\n",
       "\n",
       "        // Call the  \"handle_{type}\" callback, which takes\n",
       "        // the figure and JSON message as its only arguments.\n",
       "        try {\n",
       "            var callback = fig[\"handle_\" + msg_type];\n",
       "        } catch (e) {\n",
       "            console.log(\"No handler for the '\" + msg_type + \"' message type: \", msg);\n",
       "            return;\n",
       "        }\n",
       "\n",
       "        if (callback) {\n",
       "            try {\n",
       "                // console.log(\"Handling '\" + msg_type + \"' message: \", msg);\n",
       "                callback(fig, msg);\n",
       "            } catch (e) {\n",
       "                console.log(\"Exception inside the 'handler_\" + msg_type + \"' callback:\", e, e.stack, msg);\n",
       "            }\n",
       "        }\n",
       "    };\n",
       "}\n",
       "\n",
       "// from http://stackoverflow.com/questions/1114465/getting-mouse-location-in-canvas\n",
       "mpl.findpos = function(e) {\n",
       "    //this section is from http://www.quirksmode.org/js/events_properties.html\n",
       "    var targ;\n",
       "    if (!e)\n",
       "        e = window.event;\n",
       "    if (e.target)\n",
       "        targ = e.target;\n",
       "    else if (e.srcElement)\n",
       "        targ = e.srcElement;\n",
       "    if (targ.nodeType == 3) // defeat Safari bug\n",
       "        targ = targ.parentNode;\n",
       "\n",
       "    // jQuery normalizes the pageX and pageY\n",
       "    // pageX,Y are the mouse positions relative to the document\n",
       "    // offset() returns the position of the element relative to the document\n",
       "    var x = e.pageX - $(targ).offset().left;\n",
       "    var y = e.pageY - $(targ).offset().top;\n",
       "\n",
       "    return {\"x\": x, \"y\": y};\n",
       "};\n",
       "\n",
       "/*\n",
       " * return a copy of an object with only non-object keys\n",
       " * we need this to avoid circular references\n",
       " * http://stackoverflow.com/a/24161582/3208463\n",
       " */\n",
       "function simpleKeys (original) {\n",
       "  return Object.keys(original).reduce(function (obj, key) {\n",
       "    if (typeof original[key] !== 'object')\n",
       "        obj[key] = original[key]\n",
       "    return obj;\n",
       "  }, {});\n",
       "}\n",
       "\n",
       "mpl.figure.prototype.mouse_event = function(event, name) {\n",
       "    var canvas_pos = mpl.findpos(event)\n",
       "\n",
       "    if (name === 'button_press')\n",
       "    {\n",
       "        this.canvas.focus();\n",
       "        this.canvas_div.focus();\n",
       "    }\n",
       "\n",
       "    var x = canvas_pos.x * mpl.ratio;\n",
       "    var y = canvas_pos.y * mpl.ratio;\n",
       "\n",
       "    this.send_message(name, {x: x, y: y, button: event.button,\n",
       "                             step: event.step,\n",
       "                             guiEvent: simpleKeys(event)});\n",
       "\n",
       "    /* This prevents the web browser from automatically changing to\n",
       "     * the text insertion cursor when the button is pressed.  We want\n",
       "     * to control all of the cursor setting manually through the\n",
       "     * 'cursor' event from matplotlib */\n",
       "    event.preventDefault();\n",
       "    return false;\n",
       "}\n",
       "\n",
       "mpl.figure.prototype._key_event_extra = function(event, name) {\n",
       "    // Handle any extra behaviour associated with a key event\n",
       "}\n",
       "\n",
       "mpl.figure.prototype.key_event = function(event, name) {\n",
       "\n",
       "    // Prevent repeat events\n",
       "    if (name == 'key_press')\n",
       "    {\n",
       "        if (event.which === this._key)\n",
       "            return;\n",
       "        else\n",
       "            this._key = event.which;\n",
       "    }\n",
       "    if (name == 'key_release')\n",
       "        this._key = null;\n",
       "\n",
       "    var value = '';\n",
       "    if (event.ctrlKey && event.which != 17)\n",
       "        value += \"ctrl+\";\n",
       "    if (event.altKey && event.which != 18)\n",
       "        value += \"alt+\";\n",
       "    if (event.shiftKey && event.which != 16)\n",
       "        value += \"shift+\";\n",
       "\n",
       "    value += 'k';\n",
       "    value += event.which.toString();\n",
       "\n",
       "    this._key_event_extra(event, name);\n",
       "\n",
       "    this.send_message(name, {key: value,\n",
       "                             guiEvent: simpleKeys(event)});\n",
       "    return false;\n",
       "}\n",
       "\n",
       "mpl.figure.prototype.toolbar_button_onclick = function(name) {\n",
       "    if (name == 'download') {\n",
       "        this.handle_save(this, null);\n",
       "    } else {\n",
       "        this.send_message(\"toolbar_button\", {name: name});\n",
       "    }\n",
       "};\n",
       "\n",
       "mpl.figure.prototype.toolbar_button_onmouseover = function(tooltip) {\n",
       "    this.message.textContent = tooltip;\n",
       "};\n",
       "mpl.toolbar_items = [[\"Home\", \"Reset original view\", \"fa fa-home icon-home\", \"home\"], [\"Back\", \"Back to previous view\", \"fa fa-arrow-left icon-arrow-left\", \"back\"], [\"Forward\", \"Forward to next view\", \"fa fa-arrow-right icon-arrow-right\", \"forward\"], [\"\", \"\", \"\", \"\"], [\"Pan\", \"Pan axes with left mouse, zoom with right\", \"fa fa-arrows icon-move\", \"pan\"], [\"Zoom\", \"Zoom to rectangle\", \"fa fa-square-o icon-check-empty\", \"zoom\"], [\"\", \"\", \"\", \"\"], [\"Download\", \"Download plot\", \"fa fa-floppy-o icon-save\", \"download\"]];\n",
       "\n",
       "mpl.extensions = [\"eps\", \"jpeg\", \"pdf\", \"png\", \"ps\", \"raw\", \"svg\", \"tif\"];\n",
       "\n",
       "mpl.default_extension = \"png\";var comm_websocket_adapter = function(comm) {\n",
       "    // Create a \"websocket\"-like object which calls the given IPython comm\n",
       "    // object with the appropriate methods. Currently this is a non binary\n",
       "    // socket, so there is still some room for performance tuning.\n",
       "    var ws = {};\n",
       "\n",
       "    ws.close = function() {\n",
       "        comm.close()\n",
       "    };\n",
       "    ws.send = function(m) {\n",
       "        //console.log('sending', m);\n",
       "        comm.send(m);\n",
       "    };\n",
       "    // Register the callback with on_msg.\n",
       "    comm.on_msg(function(msg) {\n",
       "        //console.log('receiving', msg['content']['data'], msg);\n",
       "        // Pass the mpl event to the overridden (by mpl) onmessage function.\n",
       "        ws.onmessage(msg['content']['data'])\n",
       "    });\n",
       "    return ws;\n",
       "}\n",
       "\n",
       "mpl.mpl_figure_comm = function(comm, msg) {\n",
       "    // This is the function which gets called when the mpl process\n",
       "    // starts-up an IPython Comm through the \"matplotlib\" channel.\n",
       "\n",
       "    var id = msg.content.data.id;\n",
       "    // Get hold of the div created by the display call when the Comm\n",
       "    // socket was opened in Python.\n",
       "    var element = $(\"#\" + id);\n",
       "    var ws_proxy = comm_websocket_adapter(comm)\n",
       "\n",
       "    function ondownload(figure, format) {\n",
       "        window.open(figure.imageObj.src);\n",
       "    }\n",
       "\n",
       "    var fig = new mpl.figure(id, ws_proxy,\n",
       "                           ondownload,\n",
       "                           element.get(0));\n",
       "\n",
       "    // Call onopen now - mpl needs it, as it is assuming we've passed it a real\n",
       "    // web socket which is closed, not our websocket->open comm proxy.\n",
       "    ws_proxy.onopen();\n",
       "\n",
       "    fig.parent_element = element.get(0);\n",
       "    fig.cell_info = mpl.find_output_cell(\"<div id='\" + id + \"'></div>\");\n",
       "    if (!fig.cell_info) {\n",
       "        console.error(\"Failed to find cell for figure\", id, fig);\n",
       "        return;\n",
       "    }\n",
       "\n",
       "    var output_index = fig.cell_info[2]\n",
       "    var cell = fig.cell_info[0];\n",
       "\n",
       "};\n",
       "\n",
       "mpl.figure.prototype.handle_close = function(fig, msg) {\n",
       "    var width = fig.canvas.width/mpl.ratio\n",
       "    fig.root.unbind('remove')\n",
       "\n",
       "    // Update the output cell to use the data from the current canvas.\n",
       "    fig.push_to_output();\n",
       "    var dataURL = fig.canvas.toDataURL();\n",
       "    // Re-enable the keyboard manager in IPython - without this line, in FF,\n",
       "    // the notebook keyboard shortcuts fail.\n",
       "    IPython.keyboard_manager.enable()\n",
       "    $(fig.parent_element).html('<img src=\"' + dataURL + '\" width=\"' + width + '\">');\n",
       "    fig.close_ws(fig, msg);\n",
       "}\n",
       "\n",
       "mpl.figure.prototype.close_ws = function(fig, msg){\n",
       "    fig.send_message('closing', msg);\n",
       "    // fig.ws.close()\n",
       "}\n",
       "\n",
       "mpl.figure.prototype.push_to_output = function(remove_interactive) {\n",
       "    // Turn the data on the canvas into data in the output cell.\n",
       "    var width = this.canvas.width/mpl.ratio\n",
       "    var dataURL = this.canvas.toDataURL();\n",
       "    this.cell_info[1]['text/html'] = '<img src=\"' + dataURL + '\" width=\"' + width + '\">';\n",
       "}\n",
       "\n",
       "mpl.figure.prototype.updated_canvas_event = function() {\n",
       "    // Tell IPython that the notebook contents must change.\n",
       "    IPython.notebook.set_dirty(true);\n",
       "    this.send_message(\"ack\", {});\n",
       "    var fig = this;\n",
       "    // Wait a second, then push the new image to the DOM so\n",
       "    // that it is saved nicely (might be nice to debounce this).\n",
       "    setTimeout(function () { fig.push_to_output() }, 1000);\n",
       "}\n",
       "\n",
       "mpl.figure.prototype._init_toolbar = function() {\n",
       "    var fig = this;\n",
       "\n",
       "    var nav_element = $('<div/>');\n",
       "    nav_element.attr('style', 'width: 100%');\n",
       "    this.root.append(nav_element);\n",
       "\n",
       "    // Define a callback function for later on.\n",
       "    function toolbar_event(event) {\n",
       "        return fig.toolbar_button_onclick(event['data']);\n",
       "    }\n",
       "    function toolbar_mouse_event(event) {\n",
       "        return fig.toolbar_button_onmouseover(event['data']);\n",
       "    }\n",
       "\n",
       "    for(var toolbar_ind in mpl.toolbar_items){\n",
       "        var name = mpl.toolbar_items[toolbar_ind][0];\n",
       "        var tooltip = mpl.toolbar_items[toolbar_ind][1];\n",
       "        var image = mpl.toolbar_items[toolbar_ind][2];\n",
       "        var method_name = mpl.toolbar_items[toolbar_ind][3];\n",
       "\n",
       "        if (!name) { continue; };\n",
       "\n",
       "        var button = $('<button class=\"btn btn-default\" href=\"#\" title=\"' + name + '\"><i class=\"fa ' + image + ' fa-lg\"></i></button>');\n",
       "        button.click(method_name, toolbar_event);\n",
       "        button.mouseover(tooltip, toolbar_mouse_event);\n",
       "        nav_element.append(button);\n",
       "    }\n",
       "\n",
       "    // Add the status bar.\n",
       "    var status_bar = $('<span class=\"mpl-message\" style=\"text-align:right; float: right;\"/>');\n",
       "    nav_element.append(status_bar);\n",
       "    this.message = status_bar[0];\n",
       "\n",
       "    // Add the close button to the window.\n",
       "    var buttongrp = $('<div class=\"btn-group inline pull-right\"></div>');\n",
       "    var button = $('<button class=\"btn btn-mini btn-primary\" href=\"#\" title=\"Stop Interaction\"><i class=\"fa fa-power-off icon-remove icon-large\"></i></button>');\n",
       "    button.click(function (evt) { fig.handle_close(fig, {}); } );\n",
       "    button.mouseover('Stop Interaction', toolbar_mouse_event);\n",
       "    buttongrp.append(button);\n",
       "    var titlebar = this.root.find($('.ui-dialog-titlebar'));\n",
       "    titlebar.prepend(buttongrp);\n",
       "}\n",
       "\n",
       "mpl.figure.prototype._root_extra_style = function(el){\n",
       "    var fig = this\n",
       "    el.on(\"remove\", function(){\n",
       "\tfig.close_ws(fig, {});\n",
       "    });\n",
       "}\n",
       "\n",
       "mpl.figure.prototype._canvas_extra_style = function(el){\n",
       "    // this is important to make the div 'focusable\n",
       "    el.attr('tabindex', 0)\n",
       "    // reach out to IPython and tell the keyboard manager to turn it's self\n",
       "    // off when our div gets focus\n",
       "\n",
       "    // location in version 3\n",
       "    if (IPython.notebook.keyboard_manager) {\n",
       "        IPython.notebook.keyboard_manager.register_events(el);\n",
       "    }\n",
       "    else {\n",
       "        // location in version 2\n",
       "        IPython.keyboard_manager.register_events(el);\n",
       "    }\n",
       "\n",
       "}\n",
       "\n",
       "mpl.figure.prototype._key_event_extra = function(event, name) {\n",
       "    var manager = IPython.notebook.keyboard_manager;\n",
       "    if (!manager)\n",
       "        manager = IPython.keyboard_manager;\n",
       "\n",
       "    // Check for shift+enter\n",
       "    if (event.shiftKey && event.which == 13) {\n",
       "        this.canvas_div.blur();\n",
       "        // select the cell after this one\n",
       "        var index = IPython.notebook.find_cell_index(this.cell_info[0]);\n",
       "        IPython.notebook.select(index + 1);\n",
       "    }\n",
       "}\n",
       "\n",
       "mpl.figure.prototype.handle_save = function(fig, msg) {\n",
       "    fig.ondownload(fig, null);\n",
       "}\n",
       "\n",
       "\n",
       "mpl.find_output_cell = function(html_output) {\n",
       "    // Return the cell and output element which can be found *uniquely* in the notebook.\n",
       "    // Note - this is a bit hacky, but it is done because the \"notebook_saving.Notebook\"\n",
       "    // IPython event is triggered only after the cells have been serialised, which for\n",
       "    // our purposes (turning an active figure into a static one), is too late.\n",
       "    var cells = IPython.notebook.get_cells();\n",
       "    var ncells = cells.length;\n",
       "    for (var i=0; i<ncells; i++) {\n",
       "        var cell = cells[i];\n",
       "        if (cell.cell_type === 'code'){\n",
       "            for (var j=0; j<cell.output_area.outputs.length; j++) {\n",
       "                var data = cell.output_area.outputs[j];\n",
       "                if (data.data) {\n",
       "                    // IPython >= 3 moved mimebundle to data attribute of output\n",
       "                    data = data.data;\n",
       "                }\n",
       "                if (data['text/html'] == html_output) {\n",
       "                    return [cell, data, j];\n",
       "                }\n",
       "            }\n",
       "        }\n",
       "    }\n",
       "}\n",
       "\n",
       "// Register the function which deals with the matplotlib target/channel.\n",
       "// The kernel may be null if the page has been refreshed.\n",
       "if (IPython.notebook.kernel != null) {\n",
       "    IPython.notebook.kernel.comm_manager.register_target('matplotlib', mpl.mpl_figure_comm);\n",
       "}\n"
      ],
      "text/plain": [
       "<IPython.core.display.Javascript object>"
      ]
     },
     "metadata": {},
     "output_type": "display_data"
    },
    {
     "data": {
      "text/html": [
       "<img src=\"data:image/png;base64,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\" width=\"1000\">"
      ],
      "text/plain": [
       "<IPython.core.display.HTML object>"
      ]
     },
     "metadata": {},
     "output_type": "display_data"
    }
   ],
   "source": [
    "ax, tax, lax, lines = dual_train_plots()\n",
    "fig = ax.figure\n",
    "plt.tight_layout()"
   ]
  },
  {
   "cell_type": "code",
   "execution_count": 17,
   "metadata": {
    "scrolled": false
   },
   "outputs": [
    {
     "name": "stdout",
     "output_type": "stream",
     "text": [
      "Number of batches: train = 6667, val = 209\n"
     ]
    },
    {
     "data": {
      "application/vnd.jupyter.widget-view+json": {
       "model_id": "3345afef3d1a4376937181a5c6e42c5c",
       "version_major": 2,
       "version_minor": 0
      },
      "text/plain": [
       "HBox(children=(FloatProgress(value=0.0, description='Epochs', layout=Layout(flex='2'), max=50.0, style=Progres…"
      ]
     },
     "metadata": {},
     "output_type": "display_data"
    },
    {
     "name": "stdout",
     "output_type": "stream",
     "text": [
      "Number of batches: train = 6667, val = 209\n"
     ]
    },
    {
     "data": {
      "application/vnd.jupyter.widget-view+json": {
       "model_id": "",
       "version_major": 2,
       "version_minor": 0
      },
      "text/plain": [
       "HBox(children=(FloatProgress(value=0.0, description='Training', layout=Layout(flex='2'), max=6667.0, style=Pro…"
      ]
     },
     "metadata": {},
     "output_type": "display_data"
    },
    {
     "name": "stdout",
     "output_type": "stream",
     "text": [
      "Epoch 0: train=4.79119, val=3.88625, took 593.02 s\n"
     ]
    },
    {
     "data": {
      "application/vnd.jupyter.widget-view+json": {
       "model_id": "",
       "version_major": 2,
       "version_minor": 0
      },
      "text/plain": [
       "HBox(children=(FloatProgress(value=0.0, description='Training', layout=Layout(flex='2'), max=6667.0, style=Pro…"
      ]
     },
     "metadata": {},
     "output_type": "display_data"
    },
    {
     "name": "stdout",
     "output_type": "stream",
     "text": [
      "Epoch 1: train=4.78098, val=3.90975, took 552.73 s\n"
     ]
    },
    {
     "data": {
      "application/vnd.jupyter.widget-view+json": {
       "model_id": "",
       "version_major": 2,
       "version_minor": 0
      },
      "text/plain": [
       "HBox(children=(FloatProgress(value=0.0, description='Training', layout=Layout(flex='2'), max=6667.0, style=Pro…"
      ]
     },
     "metadata": {},
     "output_type": "display_data"
    },
    {
     "name": "stdout",
     "output_type": "stream",
     "text": [
      "Epoch 2: train=4.78748, val=3.90744, took 588.0 s\n"
     ]
    },
    {
     "data": {
      "application/vnd.jupyter.widget-view+json": {
       "model_id": "",
       "version_major": 2,
       "version_minor": 0
      },
      "text/plain": [
       "HBox(children=(FloatProgress(value=0.0, description='Training', layout=Layout(flex='2'), max=6667.0, style=Pro…"
      ]
     },
     "metadata": {},
     "output_type": "display_data"
    },
    {
     "name": "stdout",
     "output_type": "stream",
     "text": [
      "Epoch 3: train=4.78053, val=3.95348, took 550.3 s\n"
     ]
    },
    {
     "data": {
      "application/vnd.jupyter.widget-view+json": {
       "model_id": "",
       "version_major": 2,
       "version_minor": 0
      },
      "text/plain": [
       "HBox(children=(FloatProgress(value=0.0, description='Training', layout=Layout(flex='2'), max=6667.0, style=Pro…"
      ]
     },
     "metadata": {},
     "output_type": "display_data"
    },
    {
     "name": "stdout",
     "output_type": "stream",
     "text": [
      "Epoch 4: train=4.77479, val=3.85885, took 549.96 s\n"
     ]
    },
    {
     "data": {
      "application/vnd.jupyter.widget-view+json": {
       "model_id": "",
       "version_major": 2,
       "version_minor": 0
      },
      "text/plain": [
       "HBox(children=(FloatProgress(value=0.0, description='Training', layout=Layout(flex='2'), max=6667.0, style=Pro…"
      ]
     },
     "metadata": {},
     "output_type": "display_data"
    },
    {
     "name": "stdout",
     "output_type": "stream",
     "text": [
      "Epoch 5: train=4.77091, val=3.90295, took 548.9 s\n"
     ]
    },
    {
     "data": {
      "application/vnd.jupyter.widget-view+json": {
       "model_id": "",
       "version_major": 2,
       "version_minor": 0
      },
      "text/plain": [
       "HBox(children=(FloatProgress(value=0.0, description='Training', layout=Layout(flex='2'), max=6667.0, style=Pro…"
      ]
     },
     "metadata": {},
     "output_type": "display_data"
    },
    {
     "name": "stdout",
     "output_type": "stream",
     "text": [
      "Epoch 6: train=4.76715, val=3.88636, took 548.33 s\n"
     ]
    },
    {
     "data": {
      "application/vnd.jupyter.widget-view+json": {
       "model_id": "",
       "version_major": 2,
       "version_minor": 0
      },
      "text/plain": [
       "HBox(children=(FloatProgress(value=0.0, description='Training', layout=Layout(flex='2'), max=6667.0, style=Pro…"
      ]
     },
     "metadata": {},
     "output_type": "display_data"
    },
    {
     "name": "stdout",
     "output_type": "stream",
     "text": [
      "Epoch 7: train=4.76699, val=4.02697, took 544.85 s\n"
     ]
    },
    {
     "data": {
      "application/vnd.jupyter.widget-view+json": {
       "model_id": "",
       "version_major": 2,
       "version_minor": 0
      },
      "text/plain": [
       "HBox(children=(FloatProgress(value=0.0, description='Training', layout=Layout(flex='2'), max=6667.0, style=Pro…"
      ]
     },
     "metadata": {},
     "output_type": "display_data"
    },
    {
     "name": "stdout",
     "output_type": "stream",
     "text": [
      "Epoch 8: train=4.76181, val=3.9544, took 548.78 s\n"
     ]
    },
    {
     "data": {
      "application/vnd.jupyter.widget-view+json": {
       "model_id": "",
       "version_major": 2,
       "version_minor": 0
      },
      "text/plain": [
       "HBox(children=(FloatProgress(value=0.0, description='Training', layout=Layout(flex='2'), max=6667.0, style=Pro…"
      ]
     },
     "metadata": {},
     "output_type": "display_data"
    },
    {
     "name": "stdout",
     "output_type": "stream",
     "text": [
      "Epoch 9: train=4.76268, val=3.91505, took 548.4 s\n"
     ]
    },
    {
     "data": {
      "application/vnd.jupyter.widget-view+json": {
       "model_id": "",
       "version_major": 2,
       "version_minor": 0
      },
      "text/plain": [
       "HBox(children=(FloatProgress(value=0.0, description='Training', layout=Layout(flex='2'), max=6667.0, style=Pro…"
      ]
     },
     "metadata": {},
     "output_type": "display_data"
    },
    {
     "name": "stdout",
     "output_type": "stream",
     "text": [
      "Epoch 10: train=4.76052, val=3.96507, took 548.01 s\n"
     ]
    },
    {
     "data": {
      "application/vnd.jupyter.widget-view+json": {
       "model_id": "",
       "version_major": 2,
       "version_minor": 0
      },
      "text/plain": [
       "HBox(children=(FloatProgress(value=0.0, description='Training', layout=Layout(flex='2'), max=6667.0, style=Pro…"
      ]
     },
     "metadata": {},
     "output_type": "display_data"
    },
    {
     "name": "stdout",
     "output_type": "stream",
     "text": [
      "Epoch 11: train=4.74985, val=3.86874, took 548.35 s\n"
     ]
    },
    {
     "data": {
      "application/vnd.jupyter.widget-view+json": {
       "model_id": "",
       "version_major": 2,
       "version_minor": 0
      },
      "text/plain": [
       "HBox(children=(FloatProgress(value=0.0, description='Training', layout=Layout(flex='2'), max=6667.0, style=Pro…"
      ]
     },
     "metadata": {},
     "output_type": "display_data"
    },
    {
     "name": "stdout",
     "output_type": "stream",
     "text": [
      "Epoch 12: train=4.75525, val=3.85182, took 548.62 s\n"
     ]
    },
    {
     "data": {
      "application/vnd.jupyter.widget-view+json": {
       "model_id": "",
       "version_major": 2,
       "version_minor": 0
      },
      "text/plain": [
       "HBox(children=(FloatProgress(value=0.0, description='Training', layout=Layout(flex='2'), max=6667.0, style=Pro…"
      ]
     },
     "metadata": {},
     "output_type": "display_data"
    },
    {
     "name": "stdout",
     "output_type": "stream",
     "text": [
      "Epoch 13: train=4.74981, val=3.82191, took 547.11 s\n"
     ]
    },
    {
     "data": {
      "application/vnd.jupyter.widget-view+json": {
       "model_id": "",
       "version_major": 2,
       "version_minor": 0
      },
      "text/plain": [
       "HBox(children=(FloatProgress(value=0.0, description='Training', layout=Layout(flex='2'), max=6667.0, style=Pro…"
      ]
     },
     "metadata": {},
     "output_type": "display_data"
    },
    {
     "name": "stdout",
     "output_type": "stream",
     "text": [
      "Epoch 14: train=4.74836, val=4.0079, took 545.12 s\n"
     ]
    },
    {
     "data": {
      "application/vnd.jupyter.widget-view+json": {
       "model_id": "",
       "version_major": 2,
       "version_minor": 0
      },
      "text/plain": [
       "HBox(children=(FloatProgress(value=0.0, description='Training', layout=Layout(flex='2'), max=6667.0, style=Pro…"
      ]
     },
     "metadata": {},
     "output_type": "display_data"
    },
    {
     "name": "stdout",
     "output_type": "stream",
     "text": [
      "Epoch 15: train=4.74185, val=3.84942, took 549.22 s\n"
     ]
    },
    {
     "data": {
      "application/vnd.jupyter.widget-view+json": {
       "model_id": "",
       "version_major": 2,
       "version_minor": 0
      },
      "text/plain": [
       "HBox(children=(FloatProgress(value=0.0, description='Training', layout=Layout(flex='2'), max=6667.0, style=Pro…"
      ]
     },
     "metadata": {},
     "output_type": "display_data"
    },
    {
     "name": "stdout",
     "output_type": "stream",
     "text": [
      "Epoch 16: train=4.74218, val=3.81986, took 548.68 s\n"
     ]
    },
    {
     "data": {
      "application/vnd.jupyter.widget-view+json": {
       "model_id": "",
       "version_major": 2,
       "version_minor": 0
      },
      "text/plain": [
       "HBox(children=(FloatProgress(value=0.0, description='Training', layout=Layout(flex='2'), max=6667.0, style=Pro…"
      ]
     },
     "metadata": {},
     "output_type": "display_data"
    },
    {
     "name": "stdout",
     "output_type": "stream",
     "text": [
      "Epoch 17: train=4.73122, val=3.81775, took 547.59 s\n"
     ]
    },
    {
     "data": {
      "application/vnd.jupyter.widget-view+json": {
       "model_id": "",
       "version_major": 2,
       "version_minor": 0
      },
      "text/plain": [
       "HBox(children=(FloatProgress(value=0.0, description='Training', layout=Layout(flex='2'), max=6667.0, style=Pro…"
      ]
     },
     "metadata": {},
     "output_type": "display_data"
    },
    {
     "name": "stdout",
     "output_type": "stream",
     "text": [
      "Epoch 18: train=4.73434, val=3.8472, took 546.08 s\n"
     ]
    },
    {
     "data": {
      "application/vnd.jupyter.widget-view+json": {
       "model_id": "",
       "version_major": 2,
       "version_minor": 0
      },
      "text/plain": [
       "HBox(children=(FloatProgress(value=0.0, description='Training', layout=Layout(flex='2'), max=6667.0, style=Pro…"
      ]
     },
     "metadata": {},
     "output_type": "display_data"
    },
    {
     "name": "stdout",
     "output_type": "stream",
     "text": [
      "Epoch 19: train=4.72832, val=3.83343, took 548.62 s\n"
     ]
    },
    {
     "data": {
      "application/vnd.jupyter.widget-view+json": {
       "model_id": "",
       "version_major": 2,
       "version_minor": 0
      },
      "text/plain": [
       "HBox(children=(FloatProgress(value=0.0, description='Training', layout=Layout(flex='2'), max=6667.0, style=Pro…"
      ]
     },
     "metadata": {},
     "output_type": "display_data"
    },
    {
     "name": "stdout",
     "output_type": "stream",
     "text": [
      "Epoch 20: train=4.72339, val=3.8398, took 547.2 s\n"
     ]
    },
    {
     "data": {
      "application/vnd.jupyter.widget-view+json": {
       "model_id": "",
       "version_major": 2,
       "version_minor": 0
      },
      "text/plain": [
       "HBox(children=(FloatProgress(value=0.0, description='Training', layout=Layout(flex='2'), max=6667.0, style=Pro…"
      ]
     },
     "metadata": {},
     "output_type": "display_data"
    },
    {
     "name": "stdout",
     "output_type": "stream",
     "text": [
      "Epoch 21: train=4.72267, val=3.83335, took 544.22 s\n"
     ]
    },
    {
     "data": {
      "application/vnd.jupyter.widget-view+json": {
       "model_id": "",
       "version_major": 2,
       "version_minor": 0
      },
      "text/plain": [
       "HBox(children=(FloatProgress(value=0.0, description='Training', layout=Layout(flex='2'), max=6667.0, style=Pro…"
      ]
     },
     "metadata": {},
     "output_type": "display_data"
    },
    {
     "name": "stdout",
     "output_type": "stream",
     "text": [
      "Epoch 22: train=4.72365, val=3.83605, took 544.14 s\n"
     ]
    },
    {
     "data": {
      "application/vnd.jupyter.widget-view+json": {
       "model_id": "",
       "version_major": 2,
       "version_minor": 0
      },
      "text/plain": [
       "HBox(children=(FloatProgress(value=0.0, description='Training', layout=Layout(flex='2'), max=6667.0, style=Pro…"
      ]
     },
     "metadata": {},
     "output_type": "display_data"
    },
    {
     "name": "stdout",
     "output_type": "stream",
     "text": [
      "Epoch 23: train=4.71501, val=3.90595, took 545.65 s\n"
     ]
    },
    {
     "data": {
      "application/vnd.jupyter.widget-view+json": {
       "model_id": "",
       "version_major": 2,
       "version_minor": 0
      },
      "text/plain": [
       "HBox(children=(FloatProgress(value=0.0, description='Training', layout=Layout(flex='2'), max=6667.0, style=Pro…"
      ]
     },
     "metadata": {},
     "output_type": "display_data"
    },
    {
     "name": "stdout",
     "output_type": "stream",
     "text": [
      "Epoch 24: train=4.71823, val=3.92333, took 545.3 s\n"
     ]
    },
    {
     "data": {
      "application/vnd.jupyter.widget-view+json": {
       "model_id": "",
       "version_major": 2,
       "version_minor": 0
      },
      "text/plain": [
       "HBox(children=(FloatProgress(value=0.0, description='Training', layout=Layout(flex='2'), max=6667.0, style=Pro…"
      ]
     },
     "metadata": {},
     "output_type": "display_data"
    },
    {
     "name": "stdout",
     "output_type": "stream",
     "text": [
      "Epoch 25: train=4.70949, val=3.79363, took 546.41 s\n"
     ]
    },
    {
     "data": {
      "application/vnd.jupyter.widget-view+json": {
       "model_id": "",
       "version_major": 2,
       "version_minor": 0
      },
      "text/plain": [
       "HBox(children=(FloatProgress(value=0.0, description='Training', layout=Layout(flex='2'), max=6667.0, style=Pro…"
      ]
     },
     "metadata": {},
     "output_type": "display_data"
    },
    {
     "name": "stdout",
     "output_type": "stream",
     "text": [
      "Epoch 26: train=4.71091, val=3.80025, took 546.2 s\n"
     ]
    },
    {
     "data": {
      "application/vnd.jupyter.widget-view+json": {
       "model_id": "",
       "version_major": 2,
       "version_minor": 0
      },
      "text/plain": [
       "HBox(children=(FloatProgress(value=0.0, description='Training', layout=Layout(flex='2'), max=6667.0, style=Pro…"
      ]
     },
     "metadata": {},
     "output_type": "display_data"
    },
    {
     "name": "stdout",
     "output_type": "stream",
     "text": [
      "Epoch 27: train=4.70809, val=3.84724, took 547.85 s\n"
     ]
    },
    {
     "data": {
      "application/vnd.jupyter.widget-view+json": {
       "model_id": "",
       "version_major": 2,
       "version_minor": 0
      },
      "text/plain": [
       "HBox(children=(FloatProgress(value=0.0, description='Training', layout=Layout(flex='2'), max=6667.0, style=Pro…"
      ]
     },
     "metadata": {},
     "output_type": "display_data"
    },
    {
     "name": "stdout",
     "output_type": "stream",
     "text": [
      "Epoch 28: train=4.70249, val=3.82798, took 548.36 s\n"
     ]
    },
    {
     "data": {
      "application/vnd.jupyter.widget-view+json": {
       "model_id": "",
       "version_major": 2,
       "version_minor": 0
      },
      "text/plain": [
       "HBox(children=(FloatProgress(value=0.0, description='Training', layout=Layout(flex='2'), max=6667.0, style=Pro…"
      ]
     },
     "metadata": {},
     "output_type": "display_data"
    },
    {
     "name": "stdout",
     "output_type": "stream",
     "text": [
      "Epoch 29: train=4.7063, val=3.82843, took 547.06 s\n"
     ]
    },
    {
     "data": {
      "application/vnd.jupyter.widget-view+json": {
       "model_id": "",
       "version_major": 2,
       "version_minor": 0
      },
      "text/plain": [
       "HBox(children=(FloatProgress(value=0.0, description='Training', layout=Layout(flex='2'), max=6667.0, style=Pro…"
      ]
     },
     "metadata": {},
     "output_type": "display_data"
    },
    {
     "name": "stdout",
     "output_type": "stream",
     "text": [
      "Epoch 30: train=4.70212, val=3.81188, took 547.01 s\n"
     ]
    },
    {
     "data": {
      "application/vnd.jupyter.widget-view+json": {
       "model_id": "",
       "version_major": 2,
       "version_minor": 0
      },
      "text/plain": [
       "HBox(children=(FloatProgress(value=0.0, description='Training', layout=Layout(flex='2'), max=6667.0, style=Pro…"
      ]
     },
     "metadata": {},
     "output_type": "display_data"
    },
    {
     "name": "stdout",
     "output_type": "stream",
     "text": [
      "Epoch 31: train=4.69295, val=3.78731, took 549.07 s\n"
     ]
    },
    {
     "data": {
      "application/vnd.jupyter.widget-view+json": {
       "model_id": "",
       "version_major": 2,
       "version_minor": 0
      },
      "text/plain": [
       "HBox(children=(FloatProgress(value=0.0, description='Training', layout=Layout(flex='2'), max=6667.0, style=Pro…"
      ]
     },
     "metadata": {},
     "output_type": "display_data"
    },
    {
     "name": "stdout",
     "output_type": "stream",
     "text": [
      "Epoch 32: train=4.69574, val=3.92213, took 550.51 s\n"
     ]
    },
    {
     "data": {
      "application/vnd.jupyter.widget-view+json": {
       "model_id": "",
       "version_major": 2,
       "version_minor": 0
      },
      "text/plain": [
       "HBox(children=(FloatProgress(value=0.0, description='Training', layout=Layout(flex='2'), max=6667.0, style=Pro…"
      ]
     },
     "metadata": {},
     "output_type": "display_data"
    },
    {
     "name": "stdout",
     "output_type": "stream",
     "text": [
      "Epoch 33: train=4.69286, val=3.80001, took 546.0 s\n"
     ]
    },
    {
     "data": {
      "application/vnd.jupyter.widget-view+json": {
       "model_id": "",
       "version_major": 2,
       "version_minor": 0
      },
      "text/plain": [
       "HBox(children=(FloatProgress(value=0.0, description='Training', layout=Layout(flex='2'), max=6667.0, style=Pro…"
      ]
     },
     "metadata": {},
     "output_type": "display_data"
    },
    {
     "name": "stdout",
     "output_type": "stream",
     "text": [
      "Epoch 34: train=4.69616, val=4.06882, took 545.06 s\n"
     ]
    },
    {
     "data": {
      "application/vnd.jupyter.widget-view+json": {
       "model_id": "",
       "version_major": 2,
       "version_minor": 0
      },
      "text/plain": [
       "HBox(children=(FloatProgress(value=0.0, description='Training', layout=Layout(flex='2'), max=6667.0, style=Pro…"
      ]
     },
     "metadata": {},
     "output_type": "display_data"
    },
    {
     "name": "stdout",
     "output_type": "stream",
     "text": [
      "Epoch 35: train=4.68296, val=4.12222, took 545.38 s\n"
     ]
    },
    {
     "data": {
      "application/vnd.jupyter.widget-view+json": {
       "model_id": "",
       "version_major": 2,
       "version_minor": 0
      },
      "text/plain": [
       "HBox(children=(FloatProgress(value=0.0, description='Training', layout=Layout(flex='2'), max=6667.0, style=Pro…"
      ]
     },
     "metadata": {},
     "output_type": "display_data"
    },
    {
     "name": "stdout",
     "output_type": "stream",
     "text": [
      "Epoch 36: train=4.68882, val=3.75935, took 545.01 s\n"
     ]
    },
    {
     "data": {
      "application/vnd.jupyter.widget-view+json": {
       "model_id": "",
       "version_major": 2,
       "version_minor": 0
      },
      "text/plain": [
       "HBox(children=(FloatProgress(value=0.0, description='Training', layout=Layout(flex='2'), max=6667.0, style=Pro…"
      ]
     },
     "metadata": {},
     "output_type": "display_data"
    },
    {
     "name": "stdout",
     "output_type": "stream",
     "text": [
      "Epoch 37: train=4.67918, val=3.77053, took 549.5 s\n"
     ]
    },
    {
     "data": {
      "application/vnd.jupyter.widget-view+json": {
       "model_id": "",
       "version_major": 2,
       "version_minor": 0
      },
      "text/plain": [
       "HBox(children=(FloatProgress(value=0.0, description='Training', layout=Layout(flex='2'), max=6667.0, style=Pro…"
      ]
     },
     "metadata": {},
     "output_type": "display_data"
    },
    {
     "name": "stdout",
     "output_type": "stream",
     "text": [
      "Epoch 38: train=4.67987, val=3.77303, took 545.01 s\n"
     ]
    },
    {
     "data": {
      "application/vnd.jupyter.widget-view+json": {
       "model_id": "",
       "version_major": 2,
       "version_minor": 0
      },
      "text/plain": [
       "HBox(children=(FloatProgress(value=0.0, description='Training', layout=Layout(flex='2'), max=6667.0, style=Pro…"
      ]
     },
     "metadata": {},
     "output_type": "display_data"
    },
    {
     "name": "stdout",
     "output_type": "stream",
     "text": [
      "Epoch 39: train=4.67517, val=3.9306, took 551.22 s\n"
     ]
    },
    {
     "data": {
      "application/vnd.jupyter.widget-view+json": {
       "model_id": "",
       "version_major": 2,
       "version_minor": 0
      },
      "text/plain": [
       "HBox(children=(FloatProgress(value=0.0, description='Training', layout=Layout(flex='2'), max=6667.0, style=Pro…"
      ]
     },
     "metadata": {},
     "output_type": "display_data"
    },
    {
     "name": "stdout",
     "output_type": "stream",
     "text": [
      "Epoch 40: train=4.68242, val=3.78986, took 548.04 s\n"
     ]
    },
    {
     "data": {
      "application/vnd.jupyter.widget-view+json": {
       "model_id": "",
       "version_major": 2,
       "version_minor": 0
      },
      "text/plain": [
       "HBox(children=(FloatProgress(value=0.0, description='Training', layout=Layout(flex='2'), max=6667.0, style=Pro…"
      ]
     },
     "metadata": {},
     "output_type": "display_data"
    },
    {
     "name": "stdout",
     "output_type": "stream",
     "text": [
      "Epoch 41: train=4.6649, val=3.77859, took 546.06 s\n"
     ]
    },
    {
     "data": {
      "application/vnd.jupyter.widget-view+json": {
       "model_id": "",
       "version_major": 2,
       "version_minor": 0
      },
      "text/plain": [
       "HBox(children=(FloatProgress(value=0.0, description='Training', layout=Layout(flex='2'), max=6667.0, style=Pro…"
      ]
     },
     "metadata": {},
     "output_type": "display_data"
    },
    {
     "name": "stdout",
     "output_type": "stream",
     "text": [
      "Epoch 42: train=4.66955, val=3.75572, took 550.9 s\n"
     ]
    },
    {
     "data": {
      "application/vnd.jupyter.widget-view+json": {
       "model_id": "",
       "version_major": 2,
       "version_minor": 0
      },
      "text/plain": [
       "HBox(children=(FloatProgress(value=0.0, description='Training', layout=Layout(flex='2'), max=6667.0, style=Pro…"
      ]
     },
     "metadata": {},
     "output_type": "display_data"
    },
    {
     "name": "stdout",
     "output_type": "stream",
     "text": [
      "Epoch 43: train=4.67115, val=3.79558, took 551.05 s\n"
     ]
    },
    {
     "data": {
      "application/vnd.jupyter.widget-view+json": {
       "model_id": "",
       "version_major": 2,
       "version_minor": 0
      },
      "text/plain": [
       "HBox(children=(FloatProgress(value=0.0, description='Training', layout=Layout(flex='2'), max=6667.0, style=Pro…"
      ]
     },
     "metadata": {},
     "output_type": "display_data"
    },
    {
     "name": "stdout",
     "output_type": "stream",
     "text": [
      "Epoch 44: train=4.66253, val=3.93264, took 548.89 s\n"
     ]
    },
    {
     "data": {
      "application/vnd.jupyter.widget-view+json": {
       "model_id": "",
       "version_major": 2,
       "version_minor": 0
      },
      "text/plain": [
       "HBox(children=(FloatProgress(value=0.0, description='Training', layout=Layout(flex='2'), max=6667.0, style=Pro…"
      ]
     },
     "metadata": {},
     "output_type": "display_data"
    },
    {
     "name": "stdout",
     "output_type": "stream",
     "text": [
      "Epoch 45: train=4.65751, val=3.78244, took 546.67 s\n"
     ]
    },
    {
     "data": {
      "application/vnd.jupyter.widget-view+json": {
       "model_id": "",
       "version_major": 2,
       "version_minor": 0
      },
      "text/plain": [
       "HBox(children=(FloatProgress(value=0.0, description='Training', layout=Layout(flex='2'), max=6667.0, style=Pro…"
      ]
     },
     "metadata": {},
     "output_type": "display_data"
    },
    {
     "name": "stdout",
     "output_type": "stream",
     "text": [
      "Epoch 46: train=4.6571, val=3.75422, took 549.19 s\n"
     ]
    },
    {
     "data": {
      "application/vnd.jupyter.widget-view+json": {
       "model_id": "",
       "version_major": 2,
       "version_minor": 0
      },
      "text/plain": [
       "HBox(children=(FloatProgress(value=0.0, description='Training', layout=Layout(flex='2'), max=6667.0, style=Pro…"
      ]
     },
     "metadata": {},
     "output_type": "display_data"
    },
    {
     "name": "stdout",
     "output_type": "stream",
     "text": [
      "Epoch 47: train=4.65729, val=3.75687, took 550.67 s\n"
     ]
    },
    {
     "data": {
      "application/vnd.jupyter.widget-view+json": {
       "model_id": "",
       "version_major": 2,
       "version_minor": 0
      },
      "text/plain": [
       "HBox(children=(FloatProgress(value=0.0, description='Training', layout=Layout(flex='2'), max=6667.0, style=Pro…"
      ]
     },
     "metadata": {},
     "output_type": "display_data"
    },
    {
     "name": "stdout",
     "output_type": "stream",
     "text": [
      "Epoch 48: train=4.65413, val=3.74566, took 551.54 s\n"
     ]
    },
    {
     "data": {
      "application/vnd.jupyter.widget-view+json": {
       "model_id": "",
       "version_major": 2,
       "version_minor": 0
      },
      "text/plain": [
       "HBox(children=(FloatProgress(value=0.0, description='Training', layout=Layout(flex='2'), max=6667.0, style=Pro…"
      ]
     },
     "metadata": {},
     "output_type": "display_data"
    },
    {
     "name": "stdout",
     "output_type": "stream",
     "text": [
      "Epoch 49: train=4.64909, val=4.16296, took 548.79 s\n",
      "\n"
     ]
    }
   ],
   "source": [
    "for result in trainNet(model, optimizer, loss,\n",
    "                        train_loader, val_loader,\n",
    "                        n_epochs, epoch_start=len(results),\n",
    "                        notebook=True):\n",
    "    \n",
    "    results = results.append(pd.Series(result._asdict()), ignore_index=True)\n",
    "    xs = results.index\n",
    "    \n",
    "    # Update the plot above\n",
    "    lines['train'].set_data(results.index,results.cost)\n",
    "    lines['val'].set_data(results.index,results.val)\n",
    "    \n",
    "    #filter first cost epoch (can be really large)\n",
    "    max_cost = max(max(results.cost if len(results.cost)<2 else results.cost[1:]), max(results.val))\n",
    "    min_cost = min(min(results.cost), min(results.val))\n",
    "    \n",
    "    # The plot limits need updating too\n",
    "    \n",
    "    \n",
    "    \n",
    "    ax.set_ylim(min_cost*.9, max_cost*1.1)  \n",
    "    ax.set_xlim(-.5, len(results.cost) - .5)\n",
    "\n",
    "    \n",
    "    # Redraw the figure\n",
    "    fig.canvas.draw()\n",
    "\n",
    "    # Save each model state dictionary\n",
    "    torch.save(model.state_dict(), output / f'{name}_{result.epoch}.pyt')"
   ]
  },
  {
   "cell_type": "markdown",
   "metadata": {},
   "source": [
    "Go ahead and save the final model (even though it was also saved above):"
   ]
  },
  {
   "cell_type": "code",
   "execution_count": 18,
   "metadata": {},
   "outputs": [],
   "source": [
    "torch.save(model.state_dict(), output / f'{name}_final.pyt')"
   ]
  },
  {
   "cell_type": "markdown",
   "metadata": {},
   "source": [
    "Save the output results:"
   ]
  },
  {
   "cell_type": "code",
   "execution_count": 19,
   "metadata": {},
   "outputs": [],
   "source": [
    "results.to_hdf(f'{name}_stats.hdf5', 'results')"
   ]
  },
  {
   "cell_type": "markdown",
   "metadata": {},
   "source": [
    "Save the plot above:"
   ]
  },
  {
   "cell_type": "code",
   "execution_count": 20,
   "metadata": {},
   "outputs": [
    {
     "data": {
      "application/javascript": [
       "/* Put everything inside the global mpl namespace */\n",
       "window.mpl = {};\n",
       "\n",
       "\n",
       "mpl.get_websocket_type = function() {\n",
       "    if (typeof(WebSocket) !== 'undefined') {\n",
       "        return WebSocket;\n",
       "    } else if (typeof(MozWebSocket) !== 'undefined') {\n",
       "        return MozWebSocket;\n",
       "    } else {\n",
       "        alert('Your browser does not have WebSocket support. ' +\n",
       "              'Please try Chrome, Safari or Firefox ≥ 6. ' +\n",
       "              'Firefox 4 and 5 are also supported but you ' +\n",
       "              'have to enable WebSockets in about:config.');\n",
       "    };\n",
       "}\n",
       "\n",
       "mpl.figure = function(figure_id, websocket, ondownload, parent_element) {\n",
       "    this.id = figure_id;\n",
       "\n",
       "    this.ws = websocket;\n",
       "\n",
       "    this.supports_binary = (this.ws.binaryType != undefined);\n",
       "\n",
       "    if (!this.supports_binary) {\n",
       "        var warnings = document.getElementById(\"mpl-warnings\");\n",
       "        if (warnings) {\n",
       "            warnings.style.display = 'block';\n",
       "            warnings.textContent = (\n",
       "                \"This browser does not support binary websocket messages. \" +\n",
       "                    \"Performance may be slow.\");\n",
       "        }\n",
       "    }\n",
       "\n",
       "    this.imageObj = new Image();\n",
       "\n",
       "    this.context = undefined;\n",
       "    this.message = undefined;\n",
       "    this.canvas = undefined;\n",
       "    this.rubberband_canvas = undefined;\n",
       "    this.rubberband_context = undefined;\n",
       "    this.format_dropdown = undefined;\n",
       "\n",
       "    this.image_mode = 'full';\n",
       "\n",
       "    this.root = $('<div/>');\n",
       "    this._root_extra_style(this.root)\n",
       "    this.root.attr('style', 'display: inline-block');\n",
       "\n",
       "    $(parent_element).append(this.root);\n",
       "\n",
       "    this._init_header(this);\n",
       "    this._init_canvas(this);\n",
       "    this._init_toolbar(this);\n",
       "\n",
       "    var fig = this;\n",
       "\n",
       "    this.waiting = false;\n",
       "\n",
       "    this.ws.onopen =  function () {\n",
       "            fig.send_message(\"supports_binary\", {value: fig.supports_binary});\n",
       "            fig.send_message(\"send_image_mode\", {});\n",
       "            if (mpl.ratio != 1) {\n",
       "                fig.send_message(\"set_dpi_ratio\", {'dpi_ratio': mpl.ratio});\n",
       "            }\n",
       "            fig.send_message(\"refresh\", {});\n",
       "        }\n",
       "\n",
       "    this.imageObj.onload = function() {\n",
       "            if (fig.image_mode == 'full') {\n",
       "                // Full images could contain transparency (where diff images\n",
       "                // almost always do), so we need to clear the canvas so that\n",
       "                // there is no ghosting.\n",
       "                fig.context.clearRect(0, 0, fig.canvas.width, fig.canvas.height);\n",
       "            }\n",
       "            fig.context.drawImage(fig.imageObj, 0, 0);\n",
       "        };\n",
       "\n",
       "    this.imageObj.onunload = function() {\n",
       "        fig.ws.close();\n",
       "    }\n",
       "\n",
       "    this.ws.onmessage = this._make_on_message_function(this);\n",
       "\n",
       "    this.ondownload = ondownload;\n",
       "}\n",
       "\n",
       "mpl.figure.prototype._init_header = function() {\n",
       "    var titlebar = $(\n",
       "        '<div class=\"ui-dialog-titlebar ui-widget-header ui-corner-all ' +\n",
       "        'ui-helper-clearfix\"/>');\n",
       "    var titletext = $(\n",
       "        '<div class=\"ui-dialog-title\" style=\"width: 100%; ' +\n",
       "        'text-align: center; padding: 3px;\"/>');\n",
       "    titlebar.append(titletext)\n",
       "    this.root.append(titlebar);\n",
       "    this.header = titletext[0];\n",
       "}\n",
       "\n",
       "\n",
       "\n",
       "mpl.figure.prototype._canvas_extra_style = function(canvas_div) {\n",
       "\n",
       "}\n",
       "\n",
       "\n",
       "mpl.figure.prototype._root_extra_style = function(canvas_div) {\n",
       "\n",
       "}\n",
       "\n",
       "mpl.figure.prototype._init_canvas = function() {\n",
       "    var fig = this;\n",
       "\n",
       "    var canvas_div = $('<div/>');\n",
       "\n",
       "    canvas_div.attr('style', 'position: relative; clear: both; outline: 0');\n",
       "\n",
       "    function canvas_keyboard_event(event) {\n",
       "        return fig.key_event(event, event['data']);\n",
       "    }\n",
       "\n",
       "    canvas_div.keydown('key_press', canvas_keyboard_event);\n",
       "    canvas_div.keyup('key_release', canvas_keyboard_event);\n",
       "    this.canvas_div = canvas_div\n",
       "    this._canvas_extra_style(canvas_div)\n",
       "    this.root.append(canvas_div);\n",
       "\n",
       "    var canvas = $('<canvas/>');\n",
       "    canvas.addClass('mpl-canvas');\n",
       "    canvas.attr('style', \"left: 0; top: 0; z-index: 0; outline: 0\")\n",
       "\n",
       "    this.canvas = canvas[0];\n",
       "    this.context = canvas[0].getContext(\"2d\");\n",
       "\n",
       "    var backingStore = this.context.backingStorePixelRatio ||\n",
       "\tthis.context.webkitBackingStorePixelRatio ||\n",
       "\tthis.context.mozBackingStorePixelRatio ||\n",
       "\tthis.context.msBackingStorePixelRatio ||\n",
       "\tthis.context.oBackingStorePixelRatio ||\n",
       "\tthis.context.backingStorePixelRatio || 1;\n",
       "\n",
       "    mpl.ratio = (window.devicePixelRatio || 1) / backingStore;\n",
       "\n",
       "    var rubberband = $('<canvas/>');\n",
       "    rubberband.attr('style', \"position: absolute; left: 0; top: 0; z-index: 1;\")\n",
       "\n",
       "    var pass_mouse_events = true;\n",
       "\n",
       "    canvas_div.resizable({\n",
       "        start: function(event, ui) {\n",
       "            pass_mouse_events = false;\n",
       "        },\n",
       "        resize: function(event, ui) {\n",
       "            fig.request_resize(ui.size.width, ui.size.height);\n",
       "        },\n",
       "        stop: function(event, ui) {\n",
       "            pass_mouse_events = true;\n",
       "            fig.request_resize(ui.size.width, ui.size.height);\n",
       "        },\n",
       "    });\n",
       "\n",
       "    function mouse_event_fn(event) {\n",
       "        if (pass_mouse_events)\n",
       "            return fig.mouse_event(event, event['data']);\n",
       "    }\n",
       "\n",
       "    rubberband.mousedown('button_press', mouse_event_fn);\n",
       "    rubberband.mouseup('button_release', mouse_event_fn);\n",
       "    // Throttle sequential mouse events to 1 every 20ms.\n",
       "    rubberband.mousemove('motion_notify', mouse_event_fn);\n",
       "\n",
       "    rubberband.mouseenter('figure_enter', mouse_event_fn);\n",
       "    rubberband.mouseleave('figure_leave', mouse_event_fn);\n",
       "\n",
       "    canvas_div.on(\"wheel\", function (event) {\n",
       "        event = event.originalEvent;\n",
       "        event['data'] = 'scroll'\n",
       "        if (event.deltaY < 0) {\n",
       "            event.step = 1;\n",
       "        } else {\n",
       "            event.step = -1;\n",
       "        }\n",
       "        mouse_event_fn(event);\n",
       "    });\n",
       "\n",
       "    canvas_div.append(canvas);\n",
       "    canvas_div.append(rubberband);\n",
       "\n",
       "    this.rubberband = rubberband;\n",
       "    this.rubberband_canvas = rubberband[0];\n",
       "    this.rubberband_context = rubberband[0].getContext(\"2d\");\n",
       "    this.rubberband_context.strokeStyle = \"#000000\";\n",
       "\n",
       "    this._resize_canvas = function(width, height) {\n",
       "        // Keep the size of the canvas, canvas container, and rubber band\n",
       "        // canvas in synch.\n",
       "        canvas_div.css('width', width)\n",
       "        canvas_div.css('height', height)\n",
       "\n",
       "        canvas.attr('width', width * mpl.ratio);\n",
       "        canvas.attr('height', height * mpl.ratio);\n",
       "        canvas.attr('style', 'width: ' + width + 'px; height: ' + height + 'px;');\n",
       "\n",
       "        rubberband.attr('width', width);\n",
       "        rubberband.attr('height', height);\n",
       "    }\n",
       "\n",
       "    // Set the figure to an initial 600x600px, this will subsequently be updated\n",
       "    // upon first draw.\n",
       "    this._resize_canvas(600, 600);\n",
       "\n",
       "    // Disable right mouse context menu.\n",
       "    $(this.rubberband_canvas).bind(\"contextmenu\",function(e){\n",
       "        return false;\n",
       "    });\n",
       "\n",
       "    function set_focus () {\n",
       "        canvas.focus();\n",
       "        canvas_div.focus();\n",
       "    }\n",
       "\n",
       "    window.setTimeout(set_focus, 100);\n",
       "}\n",
       "\n",
       "mpl.figure.prototype._init_toolbar = function() {\n",
       "    var fig = this;\n",
       "\n",
       "    var nav_element = $('<div/>');\n",
       "    nav_element.attr('style', 'width: 100%');\n",
       "    this.root.append(nav_element);\n",
       "\n",
       "    // Define a callback function for later on.\n",
       "    function toolbar_event(event) {\n",
       "        return fig.toolbar_button_onclick(event['data']);\n",
       "    }\n",
       "    function toolbar_mouse_event(event) {\n",
       "        return fig.toolbar_button_onmouseover(event['data']);\n",
       "    }\n",
       "\n",
       "    for(var toolbar_ind in mpl.toolbar_items) {\n",
       "        var name = mpl.toolbar_items[toolbar_ind][0];\n",
       "        var tooltip = mpl.toolbar_items[toolbar_ind][1];\n",
       "        var image = mpl.toolbar_items[toolbar_ind][2];\n",
       "        var method_name = mpl.toolbar_items[toolbar_ind][3];\n",
       "\n",
       "        if (!name) {\n",
       "            // put a spacer in here.\n",
       "            continue;\n",
       "        }\n",
       "        var button = $('<button/>');\n",
       "        button.addClass('ui-button ui-widget ui-state-default ui-corner-all ' +\n",
       "                        'ui-button-icon-only');\n",
       "        button.attr('role', 'button');\n",
       "        button.attr('aria-disabled', 'false');\n",
       "        button.click(method_name, toolbar_event);\n",
       "        button.mouseover(tooltip, toolbar_mouse_event);\n",
       "\n",
       "        var icon_img = $('<span/>');\n",
       "        icon_img.addClass('ui-button-icon-primary ui-icon');\n",
       "        icon_img.addClass(image);\n",
       "        icon_img.addClass('ui-corner-all');\n",
       "\n",
       "        var tooltip_span = $('<span/>');\n",
       "        tooltip_span.addClass('ui-button-text');\n",
       "        tooltip_span.html(tooltip);\n",
       "\n",
       "        button.append(icon_img);\n",
       "        button.append(tooltip_span);\n",
       "\n",
       "        nav_element.append(button);\n",
       "    }\n",
       "\n",
       "    var fmt_picker_span = $('<span/>');\n",
       "\n",
       "    var fmt_picker = $('<select/>');\n",
       "    fmt_picker.addClass('mpl-toolbar-option ui-widget ui-widget-content');\n",
       "    fmt_picker_span.append(fmt_picker);\n",
       "    nav_element.append(fmt_picker_span);\n",
       "    this.format_dropdown = fmt_picker[0];\n",
       "\n",
       "    for (var ind in mpl.extensions) {\n",
       "        var fmt = mpl.extensions[ind];\n",
       "        var option = $(\n",
       "            '<option/>', {selected: fmt === mpl.default_extension}).html(fmt);\n",
       "        fmt_picker.append(option);\n",
       "    }\n",
       "\n",
       "    // Add hover states to the ui-buttons\n",
       "    $( \".ui-button\" ).hover(\n",
       "        function() { $(this).addClass(\"ui-state-hover\");},\n",
       "        function() { $(this).removeClass(\"ui-state-hover\");}\n",
       "    );\n",
       "\n",
       "    var status_bar = $('<span class=\"mpl-message\"/>');\n",
       "    nav_element.append(status_bar);\n",
       "    this.message = status_bar[0];\n",
       "}\n",
       "\n",
       "mpl.figure.prototype.request_resize = function(x_pixels, y_pixels) {\n",
       "    // Request matplotlib to resize the figure. Matplotlib will then trigger a resize in the client,\n",
       "    // which will in turn request a refresh of the image.\n",
       "    this.send_message('resize', {'width': x_pixels, 'height': y_pixels});\n",
       "}\n",
       "\n",
       "mpl.figure.prototype.send_message = function(type, properties) {\n",
       "    properties['type'] = type;\n",
       "    properties['figure_id'] = this.id;\n",
       "    this.ws.send(JSON.stringify(properties));\n",
       "}\n",
       "\n",
       "mpl.figure.prototype.send_draw_message = function() {\n",
       "    if (!this.waiting) {\n",
       "        this.waiting = true;\n",
       "        this.ws.send(JSON.stringify({type: \"draw\", figure_id: this.id}));\n",
       "    }\n",
       "}\n",
       "\n",
       "\n",
       "mpl.figure.prototype.handle_save = function(fig, msg) {\n",
       "    var format_dropdown = fig.format_dropdown;\n",
       "    var format = format_dropdown.options[format_dropdown.selectedIndex].value;\n",
       "    fig.ondownload(fig, format);\n",
       "}\n",
       "\n",
       "\n",
       "mpl.figure.prototype.handle_resize = function(fig, msg) {\n",
       "    var size = msg['size'];\n",
       "    if (size[0] != fig.canvas.width || size[1] != fig.canvas.height) {\n",
       "        fig._resize_canvas(size[0], size[1]);\n",
       "        fig.send_message(\"refresh\", {});\n",
       "    };\n",
       "}\n",
       "\n",
       "mpl.figure.prototype.handle_rubberband = function(fig, msg) {\n",
       "    var x0 = msg['x0'] / mpl.ratio;\n",
       "    var y0 = (fig.canvas.height - msg['y0']) / mpl.ratio;\n",
       "    var x1 = msg['x1'] / mpl.ratio;\n",
       "    var y1 = (fig.canvas.height - msg['y1']) / mpl.ratio;\n",
       "    x0 = Math.floor(x0) + 0.5;\n",
       "    y0 = Math.floor(y0) + 0.5;\n",
       "    x1 = Math.floor(x1) + 0.5;\n",
       "    y1 = Math.floor(y1) + 0.5;\n",
       "    var min_x = Math.min(x0, x1);\n",
       "    var min_y = Math.min(y0, y1);\n",
       "    var width = Math.abs(x1 - x0);\n",
       "    var height = Math.abs(y1 - y0);\n",
       "\n",
       "    fig.rubberband_context.clearRect(\n",
       "        0, 0, fig.canvas.width / mpl.ratio, fig.canvas.height / mpl.ratio);\n",
       "\n",
       "    fig.rubberband_context.strokeRect(min_x, min_y, width, height);\n",
       "}\n",
       "\n",
       "mpl.figure.prototype.handle_figure_label = function(fig, msg) {\n",
       "    // Updates the figure title.\n",
       "    fig.header.textContent = msg['label'];\n",
       "}\n",
       "\n",
       "mpl.figure.prototype.handle_cursor = function(fig, msg) {\n",
       "    var cursor = msg['cursor'];\n",
       "    switch(cursor)\n",
       "    {\n",
       "    case 0:\n",
       "        cursor = 'pointer';\n",
       "        break;\n",
       "    case 1:\n",
       "        cursor = 'default';\n",
       "        break;\n",
       "    case 2:\n",
       "        cursor = 'crosshair';\n",
       "        break;\n",
       "    case 3:\n",
       "        cursor = 'move';\n",
       "        break;\n",
       "    }\n",
       "    fig.rubberband_canvas.style.cursor = cursor;\n",
       "}\n",
       "\n",
       "mpl.figure.prototype.handle_message = function(fig, msg) {\n",
       "    fig.message.textContent = msg['message'];\n",
       "}\n",
       "\n",
       "mpl.figure.prototype.handle_draw = function(fig, msg) {\n",
       "    // Request the server to send over a new figure.\n",
       "    fig.send_draw_message();\n",
       "}\n",
       "\n",
       "mpl.figure.prototype.handle_image_mode = function(fig, msg) {\n",
       "    fig.image_mode = msg['mode'];\n",
       "}\n",
       "\n",
       "mpl.figure.prototype.updated_canvas_event = function() {\n",
       "    // Called whenever the canvas gets updated.\n",
       "    this.send_message(\"ack\", {});\n",
       "}\n",
       "\n",
       "// A function to construct a web socket function for onmessage handling.\n",
       "// Called in the figure constructor.\n",
       "mpl.figure.prototype._make_on_message_function = function(fig) {\n",
       "    return function socket_on_message(evt) {\n",
       "        if (evt.data instanceof Blob) {\n",
       "            /* FIXME: We get \"Resource interpreted as Image but\n",
       "             * transferred with MIME type text/plain:\" errors on\n",
       "             * Chrome.  But how to set the MIME type?  It doesn't seem\n",
       "             * to be part of the websocket stream */\n",
       "            evt.data.type = \"image/png\";\n",
       "\n",
       "            /* Free the memory for the previous frames */\n",
       "            if (fig.imageObj.src) {\n",
       "                (window.URL || window.webkitURL).revokeObjectURL(\n",
       "                    fig.imageObj.src);\n",
       "            }\n",
       "\n",
       "            fig.imageObj.src = (window.URL || window.webkitURL).createObjectURL(\n",
       "                evt.data);\n",
       "            fig.updated_canvas_event();\n",
       "            fig.waiting = false;\n",
       "            return;\n",
       "        }\n",
       "        else if (typeof evt.data === 'string' && evt.data.slice(0, 21) == \"data:image/png;base64\") {\n",
       "            fig.imageObj.src = evt.data;\n",
       "            fig.updated_canvas_event();\n",
       "            fig.waiting = false;\n",
       "            return;\n",
       "        }\n",
       "\n",
       "        var msg = JSON.parse(evt.data);\n",
       "        var msg_type = msg['type'];\n",
       "\n",
       "        // Call the  \"handle_{type}\" callback, which takes\n",
       "        // the figure and JSON message as its only arguments.\n",
       "        try {\n",
       "            var callback = fig[\"handle_\" + msg_type];\n",
       "        } catch (e) {\n",
       "            console.log(\"No handler for the '\" + msg_type + \"' message type: \", msg);\n",
       "            return;\n",
       "        }\n",
       "\n",
       "        if (callback) {\n",
       "            try {\n",
       "                // console.log(\"Handling '\" + msg_type + \"' message: \", msg);\n",
       "                callback(fig, msg);\n",
       "            } catch (e) {\n",
       "                console.log(\"Exception inside the 'handler_\" + msg_type + \"' callback:\", e, e.stack, msg);\n",
       "            }\n",
       "        }\n",
       "    };\n",
       "}\n",
       "\n",
       "// from http://stackoverflow.com/questions/1114465/getting-mouse-location-in-canvas\n",
       "mpl.findpos = function(e) {\n",
       "    //this section is from http://www.quirksmode.org/js/events_properties.html\n",
       "    var targ;\n",
       "    if (!e)\n",
       "        e = window.event;\n",
       "    if (e.target)\n",
       "        targ = e.target;\n",
       "    else if (e.srcElement)\n",
       "        targ = e.srcElement;\n",
       "    if (targ.nodeType == 3) // defeat Safari bug\n",
       "        targ = targ.parentNode;\n",
       "\n",
       "    // jQuery normalizes the pageX and pageY\n",
       "    // pageX,Y are the mouse positions relative to the document\n",
       "    // offset() returns the position of the element relative to the document\n",
       "    var x = e.pageX - $(targ).offset().left;\n",
       "    var y = e.pageY - $(targ).offset().top;\n",
       "\n",
       "    return {\"x\": x, \"y\": y};\n",
       "};\n",
       "\n",
       "/*\n",
       " * return a copy of an object with only non-object keys\n",
       " * we need this to avoid circular references\n",
       " * http://stackoverflow.com/a/24161582/3208463\n",
       " */\n",
       "function simpleKeys (original) {\n",
       "  return Object.keys(original).reduce(function (obj, key) {\n",
       "    if (typeof original[key] !== 'object')\n",
       "        obj[key] = original[key]\n",
       "    return obj;\n",
       "  }, {});\n",
       "}\n",
       "\n",
       "mpl.figure.prototype.mouse_event = function(event, name) {\n",
       "    var canvas_pos = mpl.findpos(event)\n",
       "\n",
       "    if (name === 'button_press')\n",
       "    {\n",
       "        this.canvas.focus();\n",
       "        this.canvas_div.focus();\n",
       "    }\n",
       "\n",
       "    var x = canvas_pos.x * mpl.ratio;\n",
       "    var y = canvas_pos.y * mpl.ratio;\n",
       "\n",
       "    this.send_message(name, {x: x, y: y, button: event.button,\n",
       "                             step: event.step,\n",
       "                             guiEvent: simpleKeys(event)});\n",
       "\n",
       "    /* This prevents the web browser from automatically changing to\n",
       "     * the text insertion cursor when the button is pressed.  We want\n",
       "     * to control all of the cursor setting manually through the\n",
       "     * 'cursor' event from matplotlib */\n",
       "    event.preventDefault();\n",
       "    return false;\n",
       "}\n",
       "\n",
       "mpl.figure.prototype._key_event_extra = function(event, name) {\n",
       "    // Handle any extra behaviour associated with a key event\n",
       "}\n",
       "\n",
       "mpl.figure.prototype.key_event = function(event, name) {\n",
       "\n",
       "    // Prevent repeat events\n",
       "    if (name == 'key_press')\n",
       "    {\n",
       "        if (event.which === this._key)\n",
       "            return;\n",
       "        else\n",
       "            this._key = event.which;\n",
       "    }\n",
       "    if (name == 'key_release')\n",
       "        this._key = null;\n",
       "\n",
       "    var value = '';\n",
       "    if (event.ctrlKey && event.which != 17)\n",
       "        value += \"ctrl+\";\n",
       "    if (event.altKey && event.which != 18)\n",
       "        value += \"alt+\";\n",
       "    if (event.shiftKey && event.which != 16)\n",
       "        value += \"shift+\";\n",
       "\n",
       "    value += 'k';\n",
       "    value += event.which.toString();\n",
       "\n",
       "    this._key_event_extra(event, name);\n",
       "\n",
       "    this.send_message(name, {key: value,\n",
       "                             guiEvent: simpleKeys(event)});\n",
       "    return false;\n",
       "}\n",
       "\n",
       "mpl.figure.prototype.toolbar_button_onclick = function(name) {\n",
       "    if (name == 'download') {\n",
       "        this.handle_save(this, null);\n",
       "    } else {\n",
       "        this.send_message(\"toolbar_button\", {name: name});\n",
       "    }\n",
       "};\n",
       "\n",
       "mpl.figure.prototype.toolbar_button_onmouseover = function(tooltip) {\n",
       "    this.message.textContent = tooltip;\n",
       "};\n",
       "mpl.toolbar_items = [[\"Home\", \"Reset original view\", \"fa fa-home icon-home\", \"home\"], [\"Back\", \"Back to previous view\", \"fa fa-arrow-left icon-arrow-left\", \"back\"], [\"Forward\", \"Forward to next view\", \"fa fa-arrow-right icon-arrow-right\", \"forward\"], [\"\", \"\", \"\", \"\"], [\"Pan\", \"Pan axes with left mouse, zoom with right\", \"fa fa-arrows icon-move\", \"pan\"], [\"Zoom\", \"Zoom to rectangle\", \"fa fa-square-o icon-check-empty\", \"zoom\"], [\"\", \"\", \"\", \"\"], [\"Download\", \"Download plot\", \"fa fa-floppy-o icon-save\", \"download\"]];\n",
       "\n",
       "mpl.extensions = [\"eps\", \"jpeg\", \"pdf\", \"png\", \"ps\", \"raw\", \"svg\", \"tif\"];\n",
       "\n",
       "mpl.default_extension = \"png\";var comm_websocket_adapter = function(comm) {\n",
       "    // Create a \"websocket\"-like object which calls the given IPython comm\n",
       "    // object with the appropriate methods. Currently this is a non binary\n",
       "    // socket, so there is still some room for performance tuning.\n",
       "    var ws = {};\n",
       "\n",
       "    ws.close = function() {\n",
       "        comm.close()\n",
       "    };\n",
       "    ws.send = function(m) {\n",
       "        //console.log('sending', m);\n",
       "        comm.send(m);\n",
       "    };\n",
       "    // Register the callback with on_msg.\n",
       "    comm.on_msg(function(msg) {\n",
       "        //console.log('receiving', msg['content']['data'], msg);\n",
       "        // Pass the mpl event to the overridden (by mpl) onmessage function.\n",
       "        ws.onmessage(msg['content']['data'])\n",
       "    });\n",
       "    return ws;\n",
       "}\n",
       "\n",
       "mpl.mpl_figure_comm = function(comm, msg) {\n",
       "    // This is the function which gets called when the mpl process\n",
       "    // starts-up an IPython Comm through the \"matplotlib\" channel.\n",
       "\n",
       "    var id = msg.content.data.id;\n",
       "    // Get hold of the div created by the display call when the Comm\n",
       "    // socket was opened in Python.\n",
       "    var element = $(\"#\" + id);\n",
       "    var ws_proxy = comm_websocket_adapter(comm)\n",
       "\n",
       "    function ondownload(figure, format) {\n",
       "        window.open(figure.imageObj.src);\n",
       "    }\n",
       "\n",
       "    var fig = new mpl.figure(id, ws_proxy,\n",
       "                           ondownload,\n",
       "                           element.get(0));\n",
       "\n",
       "    // Call onopen now - mpl needs it, as it is assuming we've passed it a real\n",
       "    // web socket which is closed, not our websocket->open comm proxy.\n",
       "    ws_proxy.onopen();\n",
       "\n",
       "    fig.parent_element = element.get(0);\n",
       "    fig.cell_info = mpl.find_output_cell(\"<div id='\" + id + \"'></div>\");\n",
       "    if (!fig.cell_info) {\n",
       "        console.error(\"Failed to find cell for figure\", id, fig);\n",
       "        return;\n",
       "    }\n",
       "\n",
       "    var output_index = fig.cell_info[2]\n",
       "    var cell = fig.cell_info[0];\n",
       "\n",
       "};\n",
       "\n",
       "mpl.figure.prototype.handle_close = function(fig, msg) {\n",
       "    var width = fig.canvas.width/mpl.ratio\n",
       "    fig.root.unbind('remove')\n",
       "\n",
       "    // Update the output cell to use the data from the current canvas.\n",
       "    fig.push_to_output();\n",
       "    var dataURL = fig.canvas.toDataURL();\n",
       "    // Re-enable the keyboard manager in IPython - without this line, in FF,\n",
       "    // the notebook keyboard shortcuts fail.\n",
       "    IPython.keyboard_manager.enable()\n",
       "    $(fig.parent_element).html('<img src=\"' + dataURL + '\" width=\"' + width + '\">');\n",
       "    fig.close_ws(fig, msg);\n",
       "}\n",
       "\n",
       "mpl.figure.prototype.close_ws = function(fig, msg){\n",
       "    fig.send_message('closing', msg);\n",
       "    // fig.ws.close()\n",
       "}\n",
       "\n",
       "mpl.figure.prototype.push_to_output = function(remove_interactive) {\n",
       "    // Turn the data on the canvas into data in the output cell.\n",
       "    var width = this.canvas.width/mpl.ratio\n",
       "    var dataURL = this.canvas.toDataURL();\n",
       "    this.cell_info[1]['text/html'] = '<img src=\"' + dataURL + '\" width=\"' + width + '\">';\n",
       "}\n",
       "\n",
       "mpl.figure.prototype.updated_canvas_event = function() {\n",
       "    // Tell IPython that the notebook contents must change.\n",
       "    IPython.notebook.set_dirty(true);\n",
       "    this.send_message(\"ack\", {});\n",
       "    var fig = this;\n",
       "    // Wait a second, then push the new image to the DOM so\n",
       "    // that it is saved nicely (might be nice to debounce this).\n",
       "    setTimeout(function () { fig.push_to_output() }, 1000);\n",
       "}\n",
       "\n",
       "mpl.figure.prototype._init_toolbar = function() {\n",
       "    var fig = this;\n",
       "\n",
       "    var nav_element = $('<div/>');\n",
       "    nav_element.attr('style', 'width: 100%');\n",
       "    this.root.append(nav_element);\n",
       "\n",
       "    // Define a callback function for later on.\n",
       "    function toolbar_event(event) {\n",
       "        return fig.toolbar_button_onclick(event['data']);\n",
       "    }\n",
       "    function toolbar_mouse_event(event) {\n",
       "        return fig.toolbar_button_onmouseover(event['data']);\n",
       "    }\n",
       "\n",
       "    for(var toolbar_ind in mpl.toolbar_items){\n",
       "        var name = mpl.toolbar_items[toolbar_ind][0];\n",
       "        var tooltip = mpl.toolbar_items[toolbar_ind][1];\n",
       "        var image = mpl.toolbar_items[toolbar_ind][2];\n",
       "        var method_name = mpl.toolbar_items[toolbar_ind][3];\n",
       "\n",
       "        if (!name) { continue; };\n",
       "\n",
       "        var button = $('<button class=\"btn btn-default\" href=\"#\" title=\"' + name + '\"><i class=\"fa ' + image + ' fa-lg\"></i></button>');\n",
       "        button.click(method_name, toolbar_event);\n",
       "        button.mouseover(tooltip, toolbar_mouse_event);\n",
       "        nav_element.append(button);\n",
       "    }\n",
       "\n",
       "    // Add the status bar.\n",
       "    var status_bar = $('<span class=\"mpl-message\" style=\"text-align:right; float: right;\"/>');\n",
       "    nav_element.append(status_bar);\n",
       "    this.message = status_bar[0];\n",
       "\n",
       "    // Add the close button to the window.\n",
       "    var buttongrp = $('<div class=\"btn-group inline pull-right\"></div>');\n",
       "    var button = $('<button class=\"btn btn-mini btn-primary\" href=\"#\" title=\"Stop Interaction\"><i class=\"fa fa-power-off icon-remove icon-large\"></i></button>');\n",
       "    button.click(function (evt) { fig.handle_close(fig, {}); } );\n",
       "    button.mouseover('Stop Interaction', toolbar_mouse_event);\n",
       "    buttongrp.append(button);\n",
       "    var titlebar = this.root.find($('.ui-dialog-titlebar'));\n",
       "    titlebar.prepend(buttongrp);\n",
       "}\n",
       "\n",
       "mpl.figure.prototype._root_extra_style = function(el){\n",
       "    var fig = this\n",
       "    el.on(\"remove\", function(){\n",
       "\tfig.close_ws(fig, {});\n",
       "    });\n",
       "}\n",
       "\n",
       "mpl.figure.prototype._canvas_extra_style = function(el){\n",
       "    // this is important to make the div 'focusable\n",
       "    el.attr('tabindex', 0)\n",
       "    // reach out to IPython and tell the keyboard manager to turn it's self\n",
       "    // off when our div gets focus\n",
       "\n",
       "    // location in version 3\n",
       "    if (IPython.notebook.keyboard_manager) {\n",
       "        IPython.notebook.keyboard_manager.register_events(el);\n",
       "    }\n",
       "    else {\n",
       "        // location in version 2\n",
       "        IPython.keyboard_manager.register_events(el);\n",
       "    }\n",
       "\n",
       "}\n",
       "\n",
       "mpl.figure.prototype._key_event_extra = function(event, name) {\n",
       "    var manager = IPython.notebook.keyboard_manager;\n",
       "    if (!manager)\n",
       "        manager = IPython.keyboard_manager;\n",
       "\n",
       "    // Check for shift+enter\n",
       "    if (event.shiftKey && event.which == 13) {\n",
       "        this.canvas_div.blur();\n",
       "        // select the cell after this one\n",
       "        var index = IPython.notebook.find_cell_index(this.cell_info[0]);\n",
       "        IPython.notebook.select(index + 1);\n",
       "    }\n",
       "}\n",
       "\n",
       "mpl.figure.prototype.handle_save = function(fig, msg) {\n",
       "    fig.ondownload(fig, null);\n",
       "}\n",
       "\n",
       "\n",
       "mpl.find_output_cell = function(html_output) {\n",
       "    // Return the cell and output element which can be found *uniquely* in the notebook.\n",
       "    // Note - this is a bit hacky, but it is done because the \"notebook_saving.Notebook\"\n",
       "    // IPython event is triggered only after the cells have been serialised, which for\n",
       "    // our purposes (turning an active figure into a static one), is too late.\n",
       "    var cells = IPython.notebook.get_cells();\n",
       "    var ncells = cells.length;\n",
       "    for (var i=0; i<ncells; i++) {\n",
       "        var cell = cells[i];\n",
       "        if (cell.cell_type === 'code'){\n",
       "            for (var j=0; j<cell.output_area.outputs.length; j++) {\n",
       "                var data = cell.output_area.outputs[j];\n",
       "                if (data.data) {\n",
       "                    // IPython >= 3 moved mimebundle to data attribute of output\n",
       "                    data = data.data;\n",
       "                }\n",
       "                if (data['text/html'] == html_output) {\n",
       "                    return [cell, data, j];\n",
       "                }\n",
       "            }\n",
       "        }\n",
       "    }\n",
       "}\n",
       "\n",
       "// Register the function which deals with the matplotlib target/channel.\n",
       "// The kernel may be null if the page has been refreshed.\n",
       "if (IPython.notebook.kernel != null) {\n",
       "    IPython.notebook.kernel.comm_manager.register_target('matplotlib', mpl.mpl_figure_comm);\n",
       "}\n"
      ],
      "text/plain": [
       "<IPython.core.display.Javascript object>"
      ]
     },
     "metadata": {},
     "output_type": "display_data"
    },
    {
     "data": {
      "text/html": [
       "<img src=\"data:image/png;base64,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\" width=\"1000\">"
      ],
      "text/plain": [
       "<IPython.core.display.HTML object>"
      ]
     },
     "metadata": {},
     "output_type": "display_data"
    }
   ],
   "source": [
    "dual_train_plots(results.index,\n",
    "                 results.cost, results.val,\n",
    "                 results.cost, results.val)\n",
    "plt.tight_layout()\n",
    "plt.savefig(str(output / f'{name}_stats_a.png'))"
   ]
  },
  {
   "cell_type": "code",
   "execution_count": 1,
   "metadata": {},
   "outputs": [],
   "source": [
    "##quit()"
   ]
  },
  {
   "cell_type": "code",
   "execution_count": null,
   "metadata": {},
   "outputs": [],
   "source": []
  },
  {
   "cell_type": "code",
   "execution_count": null,
   "metadata": {},
   "outputs": [],
   "source": []
  }
 ],
 "metadata": {
  "kernelspec": {
   "display_name": "june2020-gpu",
   "language": "python",
   "name": "june2020-gpu"
  },
  "language_info": {
   "codemirror_mode": {
    "name": "ipython",
    "version": 3
   },
   "file_extension": ".py",
   "mimetype": "text/x-python",
   "name": "python",
   "nbconvert_exporter": "python",
   "pygments_lexer": "ipython3",
   "version": "3.7.6"
  }
 },
 "nbformat": 4,
 "nbformat_minor": 2
}
