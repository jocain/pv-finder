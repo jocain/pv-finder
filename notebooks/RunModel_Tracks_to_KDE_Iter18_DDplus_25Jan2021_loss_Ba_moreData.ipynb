{
 "cells": [
  {
   "cell_type": "code",
   "execution_count": 1,
   "metadata": {},
   "outputs": [],
   "source": [
    "##%matplotlib widget\n",
    "## with %matplotlib notebook: seems to require ipympl as part of environment, either\n",
    "## part of the conda environment or \"pip install ipympl\"\n",
    "## otherwise, does not show ANY plots in note\"book, plt.savefig() works\n",
    "%matplotlib notebook  \n",
    "##%matplotlib inline    ## --plt.savefig()  works, but re-sizing does NOT\n"
   ]
  },
  {
   "cell_type": "markdown",
   "metadata": {},
   "source": [
    "This notebook is the second attempt to read in track information and use it to predict the KDE used as input to PvFinder. This time, we are reading in poca KDEs rather than the original KDEs. \n",
    "\n",
    "collectdata_kde_C.py uses poca_z, poca_x, poca_y, major_axis_x, major_axis_y, and major_axis_z as the six track parameters (for the moment)\n"
   ]
  },
  {
   "cell_type": "markdown",
   "metadata": {},
   "source": [
    "Check the current GPU usage. Please try to be nice!"
   ]
  },
  {
   "cell_type": "code",
   "execution_count": 2,
   "metadata": {},
   "outputs": [
    {
     "name": "stdout",
     "output_type": "stream",
     "text": [
      "Mon Jan 25 17:39:10 2021       \n",
      "+-----------------------------------------------------------------------------+\n",
      "| NVIDIA-SMI 440.64.00    Driver Version: 440.64.00    CUDA Version: 10.2     |\n",
      "|-------------------------------+----------------------+----------------------+\n",
      "| GPU  Name        Persistence-M| Bus-Id        Disp.A | Volatile Uncorr. ECC |\n",
      "| Fan  Temp  Perf  Pwr:Usage/Cap|         Memory-Usage | GPU-Util  Compute M. |\n",
      "|===============================+======================+======================|\n",
      "|   0  TITAN V             Off  | 00000000:03:00.0 Off |                  N/A |\n",
      "| 20%   35C    P0    32W / 250W |      0MiB / 12066MiB |      0%      Default |\n",
      "+-------------------------------+----------------------+----------------------+\n",
      "|   1  Tesla P100-PCIE...  Off  | 00000000:83:00.0 Off |                    0 |\n",
      "| N/A   33C    P0    33W / 250W |      0MiB / 16280MiB |      0%      Default |\n",
      "+-------------------------------+----------------------+----------------------+\n",
      "|   2  TITAN V             Off  | 00000000:84:00.0 Off |                  N/A |\n",
      "| 22%   37C    P0    34W / 250W |      0MiB / 12066MiB |      0%      Default |\n",
      "+-------------------------------+----------------------+----------------------+\n",
      "                                                                               \n",
      "+-----------------------------------------------------------------------------+\n",
      "| Processes:                                                       GPU Memory |\n",
      "|  GPU       PID   Type   Process name                             Usage      |\n",
      "|=============================================================================|\n",
      "|  No running processes found                                                 |\n",
      "+-----------------------------------------------------------------------------+\n"
     ]
    }
   ],
   "source": [
    "!nvidia-smi"
   ]
  },
  {
   "cell_type": "markdown",
   "metadata": {},
   "source": [
    "> **WARNING**: The card numbers here are *not* the same as in CUDA. You have been warned."
   ]
  },
  {
   "cell_type": "markdown",
   "metadata": {},
   "source": [
    "This notebook is first attempt to read in track information and use it to predict the KDE used as input to PvFinder.\n"
   ]
  },
  {
   "cell_type": "markdown",
   "metadata": {},
   "source": [
    "## Imports"
   ]
  },
  {
   "cell_type": "code",
   "execution_count": 3,
   "metadata": {},
   "outputs": [],
   "source": [
    "import matplotlib.pyplot as plt\n",
    "import numpy as np\n",
    "import time\n",
    "import torch\n",
    "import pandas as pd\n",
    "\n",
    "# Python 3 standard library\n",
    "from pathlib import Path\n",
    "\n",
    "##from torchsummary import summary"
   ]
  },
  {
   "cell_type": "markdown",
   "metadata": {},
   "source": [
    "### Set up local parameters"
   ]
  },
  {
   "cell_type": "code",
   "execution_count": 4,
   "metadata": {},
   "outputs": [],
   "source": [
    "n_epochs = 60\n",
    "\n",
    "# Name is the output file name\n",
    "\n",
    "\n",
    "##  201027 -- about to go to bed, so try 2500 epochs with lr = 1e55\n",
    "##  previous iteration had l4 = 3e-5 and cost dropped almost linearly\n",
    "##  for 100 epochs -- final training costs ~ 2.02, validation cost ~ 2.01\n",
    "\n",
    "## for iter 4, try 10 epochs with lr = 3e-6\n",
    "## usually have a big jump down at epoch 0; want to try a\n",
    "## small number of epochs per iteration and see what happens (iter4: 10 epochs gave\n",
    "## traiing cost dropping from 1.54 to 1.50 immediately, then dropping very slowly)\n",
    "\n",
    "## For iter12, let's try increaseing the learning rate from 1em5 to 1p5em5 as the\n",
    "## training costs have been dropping almost \"linearlY\" on the semilog plot\n",
    "## for several iterations, suggesting that we can afford to take the risk\n",
    "## For good measure, we'll try this for 10 epochs as a test \n",
    "##  Iter12 seems to have worked we4ll, so start iter13 for 60 epochs\n",
    "## so it will run over night\n",
    "folder = '25Jan_DDplus_loss_Ba_iter18_floatAll_60epochs_1p5em5_4xwill'\n",
    "name   = folder\n",
    "\n",
    "# Make an output folder named \"name\" (change if you want)\n",
    "\n",
    "## Special instructions for those working on goofy at UC\n",
    "## Please be very careful to make sure that your folder\n",
    "## does not live in a subdirectory of your home directory\n",
    "## this disk has very little capacity. Instead, use \n",
    "## a subdirectory in /share/lazy with a symbolic link to\n",
    "## it in this (the notebooks) subdirectory\n",
    "folder = 'ML/' + folder\n",
    "output = Path(folder)\n",
    "\n",
    "\n",
    "# Size of batches\n",
    "batch_size = 48 ## batch_size = 24 ---> 4763MiB / 12066MiB on Titan V\n",
    "# How fast to learn\n",
    "learning_rate = 1.5e-5"
   ]
  },
  {
   "cell_type": "markdown",
   "metadata": {},
   "source": [
    "Make the output directory if it does not exist:"
   ]
  },
  {
   "cell_type": "code",
   "execution_count": 5,
   "metadata": {},
   "outputs": [],
   "source": [
    "output.mkdir(exist_ok=True)"
   ]
  },
  {
   "cell_type": "markdown",
   "metadata": {},
   "source": [
    "## Get the helper functions\n",
    "\n",
    "Add the directory with the model\n",
    "definitions to the path so we can import from it:\n",
    "\n",
    "> When you type `import X`,\n",
    "Python searches `sys.path` for a python\n",
    "file named `X.py` to import. So we need to add the model directory to the path."
   ]
  },
  {
   "cell_type": "code",
   "execution_count": 7,
   "metadata": {
    "scrolled": true
   },
   "outputs": [],
   "source": [
    "\n",
    "# From model/collectdata.py\n",
    "##from model.collectdata_kde_B import collect_t2kde_data\n",
    "## collectdata_kde_C should use the new poca KDE rather than the original kernel KDE\n",
    "from model.collectdata_kde_Ellipsoids import collect_t2kde_data\n",
    "\n",
    "\n",
    "# From model/loss.py\n",
    "##from loss import Loss\n",
    "## kde_loss_D includes botha ratio term and a chisq term, 98% ave_chisq\n",
    "## kde_loss_E adds a chi^4 term to the kde_loss_D return value\n",
    "## this is intended to emphasize the importance of values significantly different than zero\n",
    "from model.kde_loss_Ba import Loss\n",
    "\n",
    "##  TracksToKDE_Ellipsoids_SevenLayerCake has 7 hidden layers producing the 4000-bin KDE historgram\n",
    "##  It takes 9 input features (pocca centers + (A,B,C,D,E,F) . \n",
    "from model.models_kde import TracksToKDE_Ellipsoids_DDplus as Model\n",
    "\n",
    "\n",
    "from model.training_kde import trainNet, select_gpu, Results\n",
    "from model.plots import dual_train_plots, replace_in_ax"
   ]
  },
  {
   "cell_type": "code",
   "execution_count": 8,
   "metadata": {},
   "outputs": [],
   "source": [
    "# This gets built up during the run - do not rerun this cell\n",
    "results = pd.DataFrame([], columns=Results._fields)"
   ]
  },
  {
   "cell_type": "markdown",
   "metadata": {},
   "source": [
    "Set up Torch device configuration. All tensors and model parameters need to know where to be put.\n",
    "This takes a BUS ID number: The BUS ID is the same as the listing at the top of this script."
   ]
  },
  {
   "cell_type": "code",
   "execution_count": 9,
   "metadata": {},
   "outputs": [
    {
     "name": "stdout",
     "output_type": "stream",
     "text": [
      "1 available GPUs (initially using device 0):\n",
      "  0 TITAN V\n"
     ]
    }
   ],
   "source": [
    "device = select_gpu(2)\n",
    "##device = \"cpu\""
   ]
  },
  {
   "cell_type": "markdown",
   "metadata": {},
   "source": [
    "## Loading data\n",
    "\n",
    "Load the dataset, split into parts, then move to device (see `collectdata.py` in the `../model` directory)"
   ]
  },
  {
   "cell_type": "markdown",
   "metadata": {},
   "source": [
    "# Preparing the model"
   ]
  },
  {
   "cell_type": "markdown",
   "metadata": {},
   "source": [
    "Prepare a model, use multiple GPUs if they are VISIBLE, and move the model to the device."
   ]
  },
  {
   "cell_type": "code",
   "execution_count": 10,
   "metadata": {
    "scrolled": true
   },
   "outputs": [],
   "source": [
    "##print(\"Let's use\", torch.cuda.device_count(), \"GPUs!\")\n",
    "##if torch.cuda.device_count() > 1:\n",
    "##    model = torch.nn.DataParallel(model)"
   ]
  },
  {
   "cell_type": "code",
   "execution_count": 11,
   "metadata": {},
   "outputs": [
    {
     "name": "stdout",
     "output_type": "stream",
     "text": [
      "ct, child =  0    Linear(in_features=9, out_features=50, bias=True)\n",
      "ct, child =  1    Linear(in_features=50, out_features=50, bias=True)\n",
      "ct, child =  2    Linear(in_features=50, out_features=50, bias=True)\n",
      "ct, child =  3    Linear(in_features=50, out_features=50, bias=True)\n",
      "ct, child =  4    Linear(in_features=50, out_features=50, bias=True)\n",
      "ct, child =  5    Linear(in_features=50, out_features=50, bias=True)\n",
      "ct, child =  6    Linear(in_features=50, out_features=50, bias=True)\n",
      "ct, child =  7    Linear(in_features=50, out_features=50, bias=True)\n",
      "ct, child =  8    Linear(in_features=50, out_features=50, bias=True)\n",
      "ct, child =  9    Linear(in_features=50, out_features=50, bias=True)\n",
      "ct, child =  10    Linear(in_features=50, out_features=50, bias=True)\n",
      "ct, child =  11    Linear(in_features=50, out_features=16000, bias=True)\n",
      "ct, child =  12    Conv1d(4, 25, kernel_size=(25,), stride=(1,), padding=(12,))\n",
      "ct, child =  13    Conv1d(25, 1, kernel_size=(5,), stride=(1,), padding=(2,))\n",
      "ct, child =  14    Linear(in_features=4000, out_features=4000, bias=True)\n",
      "ct, child =  15    Conv1d(25, 1, kernel_size=(15,), stride=(1,), padding=(7,))\n",
      "ct, child =  16    Dropout(p=0.15, inplace=False)\n",
      "ct, child =  17    Dropout(p=0.15, inplace=False)\n"
     ]
    }
   ],
   "source": [
    "## a comment on the web at https://pytorch.org/docs/stable/optim.html says\n",
    "\"\"\"\n",
    "If you need to move a model to GPU via .cuda(), please do so before constructing optimizers for it. \n",
    "Parameters of a model after .cuda() will be different objects with those before the call.\n",
    "\n",
    "In general, you should make sure that optimized parameters live in consistent locations when \n",
    "optimizers are constructed and used.\n",
    "\"\"\"\n",
    "## so move this here (although we are using model.to(device) not explicitly using .cuda()\n",
    "\n",
    "nOut1 = 50\n",
    "nOut2 = 50\n",
    "nOut3 = 50\n",
    "nOut4 = 50\n",
    "nOut5 = 50\n",
    "nOut6 = 50\n",
    "nOut7 = 50\n",
    "nOut8 = 50\n",
    "nOut9 = 50\n",
    "nOut10 = 50\n",
    "nOut11 = 50\n",
    "latentChannels = 4\n",
    "model = Model(nOut1,nOut2,nOut3,nOut4,nOut5,nOut6,nOut7,nOut8,nOut9,nOut10,nOut11,latentChannels)\n",
    "\n",
    "##summary(model, input_size=(4, 4000))\n",
    "##print(model.parameters)\n",
    "\n",
    "## add the following code to allow the user to freeze the some of the weights corresponding \n",
    "## to those taken from an earlier model trained with the original target histograms\n",
    "## presumably -- this leaves either the perturbative filter \"fixed\" and lets the \n",
    "## learning focus on the non-perturbative features, so get started faster, or vice versa\n",
    "ct = 0\n",
    "for child in model.children():\n",
    "  print('ct, child = ',ct, \"  \", child)\n",
    "  if ct < 0:\n",
    "    print(\"     About to set param.requires_grad=False for ct = \", ct, \"params\")\n",
    "    for param in child.parameters():\n",
    "        param.requires_grad = False \n",
    "  ct += 1\n",
    "##  mds 200121 loss = Loss(epsilon=1e-5,coefficient=1.0)\n",
    "##  loss = Loss(epsilon=1e-5,coefficient=2.5)\n",
    "##loss = Loss(epsilon=3e-5, debug=False)\n",
    "loss = Loss(epsilon=3e-5)"
   ]
  },
  {
   "cell_type": "markdown",
   "metadata": {},
   "source": [
    "Let's move the model's weight matricies to the GPU:"
   ]
  },
  {
   "cell_type": "code",
   "execution_count": 12,
   "metadata": {
    "scrolled": true
   },
   "outputs": [],
   "source": [
    "model = model.to(device)"
   ]
  },
  {
   "cell_type": "code",
   "execution_count": 13,
   "metadata": {
    "scrolled": true
   },
   "outputs": [],
   "source": [
    "optimizer = torch.optim.Adam(model.parameters(), lr=learning_rate)\n",
    "##optimizer = torch.optim.SGD(model.parameters(), lr=learning_rate)"
   ]
  },
  {
   "cell_type": "code",
   "execution_count": 14,
   "metadata": {
    "scrolled": false
   },
   "outputs": [
    {
     "name": "stdout",
     "output_type": "stream",
     "text": [
      "output =  ML/25Jan_DDplus_loss_Ba_iter18_floatAll_60epochs_1p5em5_4xwill\n",
      "for model_dict\n",
      "index, k =   0    layer1.weight\n",
      "index, k =   1    layer1.bias\n",
      "index, k =   2    layer2.weight\n",
      "index, k =   3    layer2.bias\n",
      "index, k =   4    layer3.weight\n",
      "index, k =   5    layer3.bias\n",
      "index, k =   6    layer4.weight\n",
      "index, k =   7    layer4.bias\n",
      "index, k =   8    layer5.weight\n",
      "index, k =   9    layer5.bias\n",
      "index, k =   10    layer6.weight\n",
      "index, k =   11    layer6.bias\n",
      "index, k =   12    layer7.weight\n",
      "index, k =   13    layer7.bias\n",
      "index, k =   14    layer8.weight\n",
      "index, k =   15    layer8.bias\n",
      "index, k =   16    layer9.weight\n",
      "index, k =   17    layer9.bias\n",
      "index, k =   18    layer10.weight\n",
      "index, k =   19    layer10.bias\n",
      "index, k =   20    layer11.weight\n",
      "index, k =   21    layer11.bias\n",
      "index, k =   22    layer12new.weight\n",
      "index, k =   23    layer12new.bias\n",
      "index, k =   24    conv1.weight\n",
      "index, k =   25    conv1.bias\n",
      "index, k =   26    conv2.weight\n",
      "index, k =   27    conv2.bias\n",
      "index, k =   28    fc1.weight\n",
      "index, k =   29    fc1.bias\n",
      "index, k =   30    finalFilter.weight\n",
      "index, k =   31    finalFilter.bias\n",
      "dict_name =  ML/24Jan_DDplus_loss_Ba_iter17_floatAll_150epochs_1p5em5_4xwill/24Jan_DDplus_loss_Ba_iter17_floatAll_150epochs_1p5em5_4xwill_87.pyt\n",
      " \n",
      "  for pretrained_dict\n",
      "index, k =   0    layer1.weight\n",
      "index, k =   1    layer1.bias\n",
      "index, k =   2    layer2.weight\n",
      "index, k =   3    layer2.bias\n",
      "index, k =   4    layer3.weight\n",
      "index, k =   5    layer3.bias\n",
      "index, k =   6    layer4.weight\n",
      "index, k =   7    layer4.bias\n",
      "index, k =   8    layer5.weight\n",
      "index, k =   9    layer5.bias\n",
      "index, k =   10    layer6.weight\n",
      "index, k =   11    layer6.bias\n",
      "index, k =   12    layer7.weight\n",
      "index, k =   13    layer7.bias\n",
      "index, k =   14    layer8.weight\n",
      "index, k =   15    layer8.bias\n",
      "index, k =   16    layer9.weight\n",
      "index, k =   17    layer9.bias\n",
      "index, k =   18    layer10.weight\n",
      "index, k =   19    layer10.bias\n",
      "index, k =   20    layer11.weight\n",
      "index, k =   21    layer11.bias\n",
      "index, k =   22    layer12new.weight\n",
      "index, k =   23    layer12new.bias\n",
      "index, k =   24    conv1.weight\n",
      "index, k =   25    conv1.bias\n",
      "index, k =   26    conv2.weight\n",
      "index, k =   27    conv2.bias\n",
      "index, k =   28    fc1.weight\n",
      "index, k =   29    fc1.bias\n",
      "index, k =   30    finalFilter.weight\n",
      "index, k =   31    finalFilter.bias\n",
      "pretrained_dict iterated\n"
     ]
    },
    {
     "data": {
      "text/plain": [
       "<All keys matched successfully>"
      ]
     },
     "execution_count": 14,
     "metadata": {},
     "output_type": "execute_result"
    }
   ],
   "source": [
    "print('output = ',output)\n",
    "##print('oldOutput = ',oldOutput)\n",
    "##  use the first four layers from a pre-existing model\n",
    "##  see example at https://discuss.pytorch.org/t/how-to-load-part-of-pre-trained-model/1113\n",
    "\n",
    "##   ML -> /share/lazy/sokoloff/ML\n",
    "model_dict = model.state_dict()\n",
    "## mds 190725 for debugging\n",
    "print(\"for model_dict\")\n",
    "index = 0\n",
    "for k,v in model_dict.items():\n",
    "    print(\"index, k =  \",index,\"  \",k)\n",
    "    index = index+1\n",
    "##    print(\"value = \", v)\n",
    " \n",
    "updated_dict = model_dict\n",
    "##print(\"updated_dict = \",updated_dict)\n",
    "## when starting \"ab initio\", reduce biases as the bias gets summed for each track\n",
    "## contributing to the predicted KDE\n",
    "updated_dict[\"layer1.bias\"] = 0.005*model_dict[\"layer1.bias\"]\n",
    "updated_dict[\"layer2.bias\"] = 0.005*model_dict[\"layer2.bias\"]\n",
    "updated_dict[\"layer3.bias\"] = 0.005*model_dict[\"layer3.bias\"]\n",
    "updated_dict[\"layer4.bias\"] = 0.005*model_dict[\"layer4.bias\"]\n",
    "updated_dict[\"layer5.bias\"] = 0.005*model_dict[\"layer5.bias\"]\n",
    "updated_dict[\"layer6.bias\"] = 0.005*model_dict[\"layer6.bias\"]\n",
    "updated_dict[\"layer7.bias\"] = 0.005*model_dict[\"layer7.bias\"]\n",
    "updated_dict[\"layer8.bias\"] = 0.005*model_dict[\"layer8.bias\"]\n",
    "updated_dict[\"layer9.bias\"] = 0.005*model_dict[\"layer9.bias\"]\n",
    "updated_dict[\"layer10.bias\"] = 0.005*model_dict[\"layer10.bias\"]\n",
    "updated_dict[\"layer11.bias\"] = 0.005*model_dict[\"layer11.bias\"]\n",
    "\n",
    "model.load_state_dict(updated_dict,strict=False)\n",
    "\n",
    "model_dict = model.state_dict()\n",
    "##print(\"updated model_dict = \",model_dict)\n",
    "\n",
    "## print(\" \\n\",\"  for pretrained_dict\")\n",
    "## index = 0\n",
    "##for k,v in pretrained_dict.items():\n",
    "##    print(\"index, k =  \",index,\"  \",k)\n",
    "##    index = index+1\n",
    "## mds  \n",
    "\n",
    "##pretrained_dict = torch.load('ML/29July2020_Trks_to_KDE_C_lossB_100epochs_b64_1m3_nOut_50x50/29July2020_Trks_to_KDE_C_lossB_100epochs_b64_1m3_nOut_50x50_final.pyt')\n",
    "##print(\"model_dict instantiated\")\n",
    "# 1. filter out unnecessary keys\n",
    "##pretrained_dict = {k: v for k, v in pretrained_dict.items() if k in model_dict}\n",
    "##print(\"pretrained_dict iterated\")\n",
    "# 2. overwrite entries in the existing state dict\n",
    "##model_dict.update(pretrained_dict) \n",
    "##\n",
    "#   when starting from a model with a fully connected last layer rather than a convolutional layer\n",
    "# 3. load the new state dict\n",
    "#   need to use strict=False as the two models state model attributes do not agree exactly\n",
    "#   see https://pytorch.org/docs/master/_modules/torch/nn/modules/module.html#Module.load_state_dict\n",
    "\n",
    "##model.load_state_dict(pretrained_dict,strict=False)\n",
    "\n",
    "## print('model_dict =    ', model_dict)\n",
    "\n",
    "## finished at training cost = 1.46, validation cost = 1.50\n",
    "##d_folder = '25December__DDplus_loss_Ba_iter7_floatAll_800epochs_4em6'\n",
    "d_folder = '24Jan_DDplus_loss_Ba_iter17_floatAll_150epochs_1p5em5_4xwill'\n",
    "d_name = d_folder\n",
    "##  for 24Jan_DDplus_loss_Ba_iter17_floatAll_150epochs_1p5em5_4xwill use suffix 87\n",
    "##  as this is the last epoch that ran before I killed the job (don't ask)\n",
    "suffix = '87'\n",
    "dict_name = 'ML/' + d_folder + '/' + d_name + '_'+ suffix + '.pyt'\n",
    "print('dict_name = ',dict_name)\n",
    "pretrained_dict = torch.load(dict_name)\n",
    "\n",
    "print(\" \")\n",
    "print(\"  for pretrained_dict\")\n",
    "index = 0\n",
    "for k,v in pretrained_dict.items():\n",
    "    print(\"index, k =  \",index,\"  \",k)\n",
    "    index = index+1\n",
    " \n",
    "\n",
    "##print(\"model_dict instantiated\")\n",
    "# 1. filter out unnecessary keys\n",
    "pretrained_dict = {k: v for k, v in pretrained_dict.items() if k in model_dict}\n",
    "print(\"pretrained_dict iterated\")\n",
    "# 2. overwrite entries in the existing state dict\n",
    "model_dict.update(pretrained_dict) \n",
    "##\n",
    "#   when starting from a model with a fully connected last layer rather than a convolutional layer\n",
    "# 3. load the new state dict\n",
    "#   need to use strict=False as the two models state model attributes do not agree exactly\n",
    "#   see https://pytorch.org/docs/master/_modules/torch/nn/modules/module.html#Module.load_state_dict\n",
    "\n",
    "model.load_state_dict(pretrained_dict,strict=False)\n",
    "\n"
   ]
  },
  {
   "cell_type": "code",
   "execution_count": 15,
   "metadata": {},
   "outputs": [],
   "source": [
    "##print('validation.dataset.tensors = ',validation.dataset.tensors)\n",
    "fig_size = plt.rcParams[\"figure.figsize\"]\n",
    "fig_size[0] = 10\n",
    "fig_size[1] = 4\n",
    "plt.rcParams[\"figure.figsize\"] = fig_size"
   ]
  },
  {
   "cell_type": "code",
   "execution_count": 16,
   "metadata": {
    "scrolled": false
   },
   "outputs": [
    {
     "name": "stdout",
     "output_type": "stream",
     "text": [
      "Loading data...\n",
      "pocaMx.shape =  (80000,)\n",
      "nEvts =  80000\n",
      "len(pocaMx[0]) =  199\n",
      "len(pocaMx[1]) =  25\n",
      "len(pocaMx[2]) =  369\n",
      "len(pocaMx[3]) =  143\n",
      "len(pocaMx[4]) =  160\n",
      "majorAxis.shape =  (80000, 3)\n",
      "minorAxis_1.shape =  (80000, 3)\n",
      "minorAxis_2.shape =  (80000, 3)\n",
      "have entered six_ellipsoid_parameters\n",
      "  \n",
      " \n",
      "  nEvts =  80000\n",
      " iEvt, nTrks =  0 199\n",
      " iEvt, nTrks =  1 25\n",
      " iEvt, nTrks =  2 369\n",
      " iEvt, nTrks =  3 143\n",
      " iEvt, nTrks =  4 160\n",
      " iEvt, nTrks =  5 260\n",
      " iEvt, nTrks =  6 237\n",
      " iEvt, nTrks =  7 327\n",
      " iEvt, nTrks =  8 178\n",
      " iEvt, nTrks =  9 106\n",
      "A.shape =  (80000,)\n",
      "majorAxis[iTrk][0][0] =  0.00045611936\n",
      "majorAxis[iTrk][1][0] =  -4.8292455e-05\n",
      "majorAxis[iTrk][2][0] =  0.090019904\n",
      "minorAxis_1[iTrk][0][0] =  -1.8602173\n",
      "minorAxis_1[iTrk][1][0] =  -17.569641\n",
      "minorAxis_1[iTrk][2][0] =  4.7891795e-08\n",
      "minorAxis_2[iTrk][0][0] =  -17.569414\n",
      "minorAxis_2[iTrk][1][0] =  1.8601931\n",
      "minorAxis_2[iTrk][2][0] =  0.0900199\n",
      "  \n",
      "majorAxis[iTrk][0][0] =  0.002360258\n",
      "majorAxis[iTrk][1][0] =  -0.007426616\n",
      "majorAxis[iTrk][2][0] =  0.3710108\n",
      "minorAxis_1[iTrk][0][0] =  -16.837948\n",
      "minorAxis_1[iTrk][1][0] =  -5.3512807\n",
      "minorAxis_1[iTrk][2][0] =  8.157131e-09\n",
      "minorAxis_2[iTrk][0][0] =  -5.3501005\n",
      "minorAxis_2[iTrk][1][0] =  16.834236\n",
      "minorAxis_2[iTrk][2][0] =  0.3710108\n",
      "  \n",
      "majorAxis[iTrk][0][0] =  6.220712e-05\n",
      "majorAxis[iTrk][1][0] =  -4.4594188e-05\n",
      "majorAxis[iTrk][2][0] =  0.036773544\n",
      "minorAxis_1[iTrk][0][0] =  10.293747\n",
      "minorAxis_1[iTrk][1][0] =  14.359369\n",
      "minorAxis_1[iTrk][2][0] =  1.571041e-06\n",
      "minorAxis_2[iTrk][0][0] =  14.359338\n",
      "minorAxis_2[iTrk][1][0] =  -10.293725\n",
      "minorAxis_2[iTrk][2][0] =  -0.03677354\n",
      "  \n",
      "majorAxis[iTrk][0][0] =  0.0033452737\n",
      "majorAxis[iTrk][1][0] =  0.00013028442\n",
      "majorAxis[iTrk][2][0] =  0.2431933\n",
      "minorAxis_1[iTrk][0][0] =  0.6875674\n",
      "minorAxis_1[iTrk][1][0] =  -17.65446\n",
      "minorAxis_1[iTrk][2][0] =  -6.6602626e-09\n",
      "minorAxis_2[iTrk][0][0] =  -17.652788\n",
      "minorAxis_2[iTrk][1][0] =  -0.68750226\n",
      "minorAxis_2[iTrk][2][0] =  0.2431933\n",
      "  \n",
      "majorAxis[iTrk][0][0] =  -0.00068196515\n",
      "majorAxis[iTrk][1][0] =  -0.00044562915\n",
      "majorAxis[iTrk][2][0] =  0.119970225\n",
      "minorAxis_1[iTrk][0][0] =  9.664597\n",
      "minorAxis_1[iTrk][1][0] =  -14.790141\n",
      "minorAxis_1[iTrk][2][0] =  1.9819232e-08\n",
      "minorAxis_2[iTrk][0][0] =  -14.789802\n",
      "minorAxis_2[iTrk][1][0] =  -9.664374\n",
      "minorAxis_2[iTrk][2][0] =  -0.11997023\n",
      "  \n",
      "majorAxis[iTrk][0][0] =  -8.245073e-05\n",
      "majorAxis[iTrk][1][0] =  0.00015860004\n",
      "majorAxis[iTrk][2][0] =  0.05619731\n",
      "minorAxis_1[iTrk][0][0] =  -15.676071\n",
      "minorAxis_1[iTrk][1][0] =  -8.149452\n",
      "minorAxis_1[iTrk][2][0] =  4.1105773e-07\n",
      "minorAxis_2[iTrk][0][0] =  -8.14941\n",
      "minorAxis_2[iTrk][1][0] =  15.675991\n",
      "minorAxis_2[iTrk][2][0] =  -0.056197315\n",
      "  \n",
      "majorAxis[iTrk][0][0] =  -0.00015151131\n",
      "majorAxis[iTrk][1][0] =  0.00067339616\n",
      "majorAxis[iTrk][2][0] =  0.11042937\n",
      "minorAxis_1[iTrk][0][0] =  17.236937\n",
      "minorAxis_1[iTrk][1][0] =  3.8782384\n",
      "minorAxis_1[iTrk][2][0] =  2.3217373e-08\n",
      "minorAxis_2[iTrk][0][0] =  3.8781626\n",
      "minorAxis_2[iTrk][1][0] =  -17.236599\n",
      "minorAxis_2[iTrk][2][0] =  0.11042936\n",
      "  \n",
      "majorAxis[iTrk][0][0] =  -7.577422e-05\n",
      "majorAxis[iTrk][1][0] =  -0.00036802414\n",
      "majorAxis[iTrk][2][0] =  0.08147708\n",
      "minorAxis_1[iTrk][0][0] =  -17.304853\n",
      "minorAxis_1[iTrk][1][0] =  3.5629773\n",
      "minorAxis_1[iTrk][2][0] =  5.80501e-09\n",
      "minorAxis_2[iTrk][0][0] =  3.5629392\n",
      "minorAxis_2[iTrk][1][0] =  17.304668\n",
      "minorAxis_2[iTrk][2][0] =  0.081477076\n",
      "  \n",
      "majorAxis[iTrk][0][0] =  0.00013397264\n",
      "majorAxis[iTrk][1][0] =  0.00094400026\n",
      "majorAxis[iTrk][2][0] =  0.12978876\n",
      "minorAxis_1[iTrk][0][0] =  17.492561\n",
      "minorAxis_1[iTrk][1][0] =  -2.4825466\n",
      "minorAxis_1[iTrk][2][0] =  1.1329301e-08\n",
      "minorAxis_2[iTrk][0][0] =  -2.4824798\n",
      "minorAxis_2[iTrk][1][0] =  -17.492088\n",
      "minorAxis_2[iTrk][2][0] =  0.12978874\n",
      "  \n",
      "majorAxis[iTrk][0][0] =  0.00043501743\n",
      "majorAxis[iTrk][1][0] =  -0.0016521378\n",
      "majorAxis[iTrk][2][0] =  0.17373301\n",
      "minorAxis_1[iTrk][0][0] =  -17.0855\n",
      "minorAxis_1[iTrk][1][0] =  -4.4987106\n",
      "minorAxis_1[iTrk][2][0] =  -7.7275175e-08\n",
      "minorAxis_2[iTrk][0][0] =  -4.4984937\n",
      "minorAxis_2[iTrk][1][0] =  17.084677\n",
      "minorAxis_2[iTrk][2][0] =  0.17373303\n",
      "  \n",
      "len(X) =  80000\n",
      "len(Xlist) =  1\n",
      "Loaded /share/lazy/will/data/June30_2020_80k_1.h5 in 161.8 s\n",
      "pocaMx.shape =  (80000,)\n",
      "nEvts =  80000\n",
      "len(pocaMx[0]) =  222\n",
      "len(pocaMx[1]) =  133\n",
      "len(pocaMx[2]) =  259\n",
      "len(pocaMx[3]) =  114\n",
      "len(pocaMx[4]) =  143\n",
      "majorAxis.shape =  (80000, 3)\n",
      "minorAxis_1.shape =  (80000, 3)\n",
      "minorAxis_2.shape =  (80000, 3)\n",
      "have entered six_ellipsoid_parameters\n",
      "  \n",
      " \n",
      "  nEvts =  80000\n",
      " iEvt, nTrks =  0 222\n",
      " iEvt, nTrks =  1 133\n",
      " iEvt, nTrks =  2 259\n",
      " iEvt, nTrks =  3 114\n",
      " iEvt, nTrks =  4 143\n",
      " iEvt, nTrks =  5 136\n",
      " iEvt, nTrks =  6 397\n",
      " iEvt, nTrks =  7 370\n",
      " iEvt, nTrks =  8 97\n",
      " iEvt, nTrks =  9 67\n",
      "A.shape =  (80000,)\n",
      "majorAxis[iTrk][0][0] =  -0.001036478\n",
      "majorAxis[iTrk][1][0] =  0.0009833863\n",
      "majorAxis[iTrk][2][0] =  0.15887721\n",
      "minorAxis_1[iTrk][0][0] =  -12.160475\n",
      "minorAxis_1[iTrk][1][0] =  -12.817002\n",
      "minorAxis_1[iTrk][2][0] =  0.0\n",
      "minorAxis_2[iTrk][0][0] =  -12.816484\n",
      "minorAxis_2[iTrk][1][0] =  12.159985\n",
      "minorAxis_2[iTrk][2][0] =  -0.15887721\n",
      "  \n",
      "majorAxis[iTrk][0][0] =  0.0016579849\n",
      "majorAxis[iTrk][1][0] =  0.0020989499\n",
      "majorAxis[iTrk][2][0] =  0.21738033\n",
      "minorAxis_1[iTrk][0][0] =  -13.864233\n",
      "minorAxis_1[iTrk][1][0] =  10.95152\n",
      "minorAxis_1[iTrk][2][0] =  -3.3017489e-09\n",
      "minorAxis_2[iTrk][0][0] =  10.95069\n",
      "minorAxis_2[iTrk][1][0] =  13.863184\n",
      "minorAxis_2[iTrk][2][0] =  -0.21738033\n",
      "  \n",
      "majorAxis[iTrk][0][0] =  0.00012481198\n",
      "majorAxis[iTrk][1][0] =  -0.00028747538\n",
      "majorAxis[iTrk][2][0] =  0.07441149\n",
      "minorAxis_1[iTrk][0][0] =  -16.206305\n",
      "minorAxis_1[iTrk][1][0] =  -7.036224\n",
      "minorAxis_1[iTrk][2][0] =  5.3456716e-08\n",
      "minorAxis_2[iTrk][0][0] =  -7.0361605\n",
      "minorAxis_2[iTrk][1][0] =  16.20616\n",
      "minorAxis_2[iTrk][2][0] =  0.07441148\n",
      "  \n",
      "majorAxis[iTrk][0][0] =  -0.007920195\n",
      "majorAxis[iTrk][1][0] =  -0.009694931\n",
      "majorAxis[iTrk][2][0] =  0.47021532\n",
      "minorAxis_1[iTrk][0][0] =  -13.682467\n",
      "minorAxis_1[iTrk][1][0] =  11.177781\n",
      "minorAxis_1[iTrk][2][0] =  1.8638048e-10\n",
      "minorAxis_2[iTrk][0][0] =  11.173822\n",
      "minorAxis_2[iTrk][1][0] =  13.677622\n",
      "minorAxis_2[iTrk][2][0] =  0.47021535\n",
      "  \n",
      "majorAxis[iTrk][0][0] =  0.00038854493\n",
      "majorAxis[iTrk][1][0] =  0.0009230774\n",
      "majorAxis[iTrk][2][0] =  0.13301943\n",
      "minorAxis_1[iTrk][0][0] =  -16.284061\n",
      "minorAxis_1[iTrk][1][0] =  6.854344\n",
      "minorAxis_1[iTrk][2][0] =  2.2469074e-07\n",
      "minorAxis_2[iTrk][0][0] =  6.8541493\n",
      "minorAxis_2[iTrk][1][0] =  16.283602\n",
      "minorAxis_2[iTrk][2][0] =  -0.13301945\n",
      "  \n",
      "majorAxis[iTrk][0][0] =  -5.6093595e-05\n",
      "majorAxis[iTrk][1][0] =  0.000114469876\n",
      "majorAxis[iTrk][2][0] =  0.04745733\n",
      "minorAxis_1[iTrk][0][0] =  15.865369\n",
      "minorAxis_1[iTrk][1][0] =  7.774496\n",
      "minorAxis_1[iTrk][2][0] =  1.8465234e-06\n",
      "minorAxis_2[iTrk][0][0] =  7.774468\n",
      "minorAxis_2[iTrk][1][0] =  -15.865313\n",
      "minorAxis_2[iTrk][2][0] =  0.04745733\n",
      "  \n",
      "majorAxis[iTrk][0][0] =  9.375396e-05\n",
      "majorAxis[iTrk][1][0] =  0.0002926058\n",
      "majorAxis[iTrk][2][0] =  0.07367872\n",
      "minorAxis_1[iTrk][0][0] =  -16.825275\n",
      "minorAxis_1[iTrk][1][0] =  5.390994\n",
      "minorAxis_1[iTrk][2][0] =  -2.1861728e-08\n",
      "minorAxis_2[iTrk][0][0] =  5.3909473\n",
      "minorAxis_2[iTrk][1][0] =  16.825129\n",
      "minorAxis_2[iTrk][2][0] =  -0.07367872\n",
      "  \n",
      "majorAxis[iTrk][0][0] =  -1.1543522e-06\n",
      "majorAxis[iTrk][1][0] =  2.8112001e-05\n",
      "majorAxis[iTrk][2][0] =  0.022295665\n",
      "minorAxis_1[iTrk][0][0] =  -17.652967\n",
      "minorAxis_1[iTrk][1][0] =  -0.7248769\n",
      "minorAxis_1[iTrk][2][0] =  1.7815448e-07\n",
      "minorAxis_2[iTrk][0][0] =  -0.7248763\n",
      "minorAxis_2[iTrk][1][0] =  17.652954\n",
      "minorAxis_2[iTrk][2][0] =  -0.022295661\n",
      "  \n",
      "majorAxis[iTrk][0][0] =  -0.2612214\n",
      "majorAxis[iTrk][1][0] =  0.83076316\n",
      "majorAxis[iTrk][2][0] =  3.8745012\n",
      "minorAxis_1[iTrk][0][0] =  -16.85429\n",
      "minorAxis_1[iTrk][1][0] =  -5.299587\n",
      "minorAxis_1[iTrk][2][0] =  2.0865195e-11\n",
      "minorAxis_2[iTrk][0][0] =  -5.1705856\n",
      "minorAxis_2[iTrk][1][0] =  16.444027\n",
      "minorAxis_2[iTrk][2][0] =  -3.874501\n",
      "  \n",
      "majorAxis[iTrk][0][0] =  -0.057592034\n",
      "majorAxis[iTrk][1][0] =  0.06503555\n",
      "majorAxis[iTrk][2][0] =  1.2373537\n",
      "minorAxis_1[iTrk][0][0] =  13.227038\n",
      "minorAxis_1[iTrk][1][0] =  11.713163\n",
      "minorAxis_1[iTrk][2][0] =  1.7679876e-10\n",
      "minorAxis_2[iTrk][0][0] =  11.684402\n",
      "minorAxis_2[iTrk][1][0] =  -13.194561\n",
      "minorAxis_2[iTrk][2][0] =  1.2373537\n",
      "  \n",
      "len(X) =  80000\n",
      "len(Xlist) =  2\n",
      "Loaded /share/lazy/will/data/June30_2020_80k_2.h5 in 159.8 s\n",
      "pocaMx.shape =  (80000,)\n"
     ]
    },
    {
     "name": "stdout",
     "output_type": "stream",
     "text": [
      "nEvts =  80000\n",
      "len(pocaMx[0]) =  196\n",
      "len(pocaMx[1]) =  35\n",
      "len(pocaMx[2]) =  265\n",
      "len(pocaMx[3]) =  128\n",
      "len(pocaMx[4]) =  124\n",
      "majorAxis.shape =  (80000, 3)\n",
      "minorAxis_1.shape =  (80000, 3)\n",
      "minorAxis_2.shape =  (80000, 3)\n",
      "have entered six_ellipsoid_parameters\n",
      "  \n",
      " \n",
      "  nEvts =  80000\n",
      " iEvt, nTrks =  0 196\n",
      " iEvt, nTrks =  1 35\n",
      " iEvt, nTrks =  2 265\n",
      " iEvt, nTrks =  3 128\n",
      " iEvt, nTrks =  4 124\n",
      " iEvt, nTrks =  5 122\n",
      " iEvt, nTrks =  6 300\n",
      " iEvt, nTrks =  7 179\n",
      " iEvt, nTrks =  8 243\n",
      " iEvt, nTrks =  9 112\n",
      "A.shape =  (80000,)\n",
      "majorAxis[iTrk][0][0] =  -2.440992e-05\n",
      "majorAxis[iTrk][1][0] =  -0.00038087237\n",
      "majorAxis[iTrk][2][0] =  0.08211532\n",
      "minorAxis_1[iTrk][0][0] =  -17.631672\n",
      "minorAxis_1[iTrk][1][0] =  1.130005\n",
      "minorAxis_1[iTrk][2][0] =  4.7444193e-08\n",
      "minorAxis_2[iTrk][0][0] =  1.1299927\n",
      "minorAxis_2[iTrk][1][0] =  17.631481\n",
      "minorAxis_2[iTrk][2][0] =  0.08211532\n",
      "  \n",
      "majorAxis[iTrk][0][0] =  -0.02277395\n",
      "majorAxis[iTrk][1][0] =  0.0014473597\n",
      "majorAxis[iTrk][2][0] =  0.6347583\n",
      "minorAxis_1[iTrk][0][0] =  -1.1205891\n",
      "minorAxis_1[iTrk][1][0] =  -17.632273\n",
      "minorAxis_1[iTrk][2][0] =  2.1543272e-09\n",
      "minorAxis_2[iTrk][0][0] =  -17.620888\n",
      "minorAxis_2[iTrk][1][0] =  1.1198657\n",
      "minorAxis_2[iTrk][2][0] =  -0.63475823\n",
      "  \n",
      "majorAxis[iTrk][0][0] =  0.0004024825\n",
      "majorAxis[iTrk][1][0] =  -0.00023784715\n",
      "majorAxis[iTrk][2][0] =  0.090883136\n",
      "minorAxis_1[iTrk][0][0] =  -8.988615\n",
      "minorAxis_1[iTrk][1][0] =  -15.210441\n",
      "minorAxis_1[iTrk][2][0] =  -6.56547e-08\n",
      "minorAxis_2[iTrk][0][0] =  -15.21024\n",
      "minorAxis_2[iTrk][1][0] =  8.988497\n",
      "minorAxis_2[iTrk][2][0] =  0.090883136\n",
      "  \n",
      "majorAxis[iTrk][0][0] =  0.0068744724\n",
      "majorAxis[iTrk][1][0] =  0.0017050834\n",
      "majorAxis[iTrk][2][0] =  0.3537121\n",
      "minorAxis_1[iTrk][0][0] =  4.2532983\n",
      "minorAxis_1[iTrk][1][0] =  -17.148241\n",
      "minorAxis_1[iTrk][2][0] =  1.1939819e-09\n",
      "minorAxis_2[iTrk][0][0] =  -17.144806\n",
      "minorAxis_2[iTrk][1][0] =  -4.252446\n",
      "minorAxis_2[iTrk][2][0] =  0.3537121\n",
      "  \n",
      "majorAxis[iTrk][0][0] =  -0.004920899\n",
      "majorAxis[iTrk][1][0] =  0.0009170567\n",
      "majorAxis[iTrk][2][0] =  0.2973651\n",
      "minorAxis_1[iTrk][0][0] =  -3.236844\n",
      "minorAxis_1[iTrk][1][0] =  -17.36881\n",
      "minorAxis_1[iTrk][2][0] =  -4.7397712e-09\n",
      "minorAxis_2[iTrk][0][0] =  -17.36635\n",
      "minorAxis_2[iTrk][1][0] =  3.2363856\n",
      "minorAxis_2[iTrk][2][0] =  -0.29736507\n",
      "  \n",
      "majorAxis[iTrk][0][0] =  -0.0001240533\n",
      "majorAxis[iTrk][1][0] =  0.00033394952\n",
      "majorAxis[iTrk][2][0] =  0.079335004\n",
      "minorAxis_1[iTrk][0][0] =  -16.562042\n",
      "minorAxis_1[iTrk][1][0] =  -6.1523557\n",
      "minorAxis_1[iTrk][2][0] =  3.1261713e-08\n",
      "minorAxis_2[iTrk][0][0] =  -6.1522937\n",
      "minorAxis_2[iTrk][1][0] =  16.561876\n",
      "minorAxis_2[iTrk][2][0] =  -0.079335004\n",
      "  \n",
      "majorAxis[iTrk][0][0] =  0.00010132754\n",
      "majorAxis[iTrk][1][0] =  6.684385e-05\n",
      "majorAxis[iTrk][2][0] =  0.046310693\n",
      "minorAxis_1[iTrk][0][0] =  -9.728917\n",
      "minorAxis_1[iTrk][1][0] =  14.747911\n",
      "minorAxis_1[iTrk][2][0] =  -2.3591362e-07\n",
      "minorAxis_2[iTrk][0][0] =  14.74786\n",
      "minorAxis_2[iTrk][1][0] =  9.728883\n",
      "minorAxis_2[iTrk][2][0] =  -0.04631069\n",
      "  \n",
      "majorAxis[iTrk][0][0] =  0.0042806785\n",
      "majorAxis[iTrk][1][0] =  0.004939851\n",
      "majorAxis[iTrk][2][0] =  0.3398017\n",
      "minorAxis_1[iTrk][0][0] =  13.3521\n",
      "minorAxis_1[iTrk][1][0] =  -11.5704\n",
      "minorAxis_1[iTrk][2][0] =  1.21654296e-08\n",
      "minorAxis_2[iTrk][0][0] =  -11.56826\n",
      "minorAxis_2[iTrk][1][0] =  -13.349631\n",
      "minorAxis_2[iTrk][2][0] =  0.33980173\n",
      "  \n",
      "majorAxis[iTrk][0][0] =  -0.00013103899\n",
      "majorAxis[iTrk][1][0] =  -0.0006021903\n",
      "majorAxis[iTrk][2][0] =  0.10434653\n",
      "minorAxis_1[iTrk][0][0] =  -17.26384\n",
      "minorAxis_1[iTrk][1][0] =  3.7566798\n",
      "minorAxis_1[iTrk][2][0] =  -9.616703e-08\n",
      "minorAxis_2[iTrk][0][0] =  3.7566135\n",
      "minorAxis_2[iTrk][1][0] =  17.263535\n",
      "minorAxis_2[iTrk][2][0] =  0.10434652\n",
      "  \n",
      "majorAxis[iTrk][0][0] =  0.0016481678\n",
      "majorAxis[iTrk][1][0] =  -0.0019788505\n",
      "majorAxis[iTrk][2][0] =  0.21330062\n",
      "minorAxis_1[iTrk][0][0] =  -13.575765\n",
      "minorAxis_1[iTrk][1][0] =  -11.307139\n",
      "minorAxis_1[iTrk][2][0] =  8.543098e-09\n",
      "minorAxis_2[iTrk][0][0] =  -11.306314\n",
      "minorAxis_2[iTrk][1][0] =  13.574774\n",
      "minorAxis_2[iTrk][2][0] =  0.21330062\n",
      "  \n",
      "len(X) =  80000\n",
      "len(Xlist) =  3\n",
      "Loaded /share/lazy/will/data/June30_2020_80k_3.h5 in 160.5 s\n",
      "pocaMx.shape =  (80000,)\n",
      "nEvts =  80000\n",
      "len(pocaMx[0]) =  204\n",
      "len(pocaMx[1]) =  33\n",
      "len(pocaMx[2]) =  206\n",
      "len(pocaMx[3]) =  150\n",
      "len(pocaMx[4]) =  96\n",
      "majorAxis.shape =  (80000, 3)\n",
      "minorAxis_1.shape =  (80000, 3)\n",
      "minorAxis_2.shape =  (80000, 3)\n",
      "have entered six_ellipsoid_parameters\n",
      "  \n",
      " \n",
      "  nEvts =  80000\n",
      " iEvt, nTrks =  0 204\n",
      " iEvt, nTrks =  1 33\n",
      " iEvt, nTrks =  2 206\n",
      " iEvt, nTrks =  3 150\n",
      " iEvt, nTrks =  4 96\n",
      " iEvt, nTrks =  5 10\n",
      " iEvt, nTrks =  6 174\n",
      " iEvt, nTrks =  7 320\n",
      " iEvt, nTrks =  8 164\n",
      " iEvt, nTrks =  9 119\n",
      "A.shape =  (80000,)\n",
      "majorAxis[iTrk][0][0] =  0.00057876867\n",
      "majorAxis[iTrk][1][0] =  0.00037603904\n",
      "majorAxis[iTrk][2][0] =  0.110427074\n",
      "minorAxis_1[iTrk][0][0] =  9.62588\n",
      "minorAxis_1[iTrk][1][0] =  -14.81537\n",
      "minorAxis_1[iTrk][2][0] =  8.391163e-09\n",
      "minorAxis_2[iTrk][0][0] =  -14.815081\n",
      "minorAxis_2[iTrk][1][0] =  -9.625692\n",
      "minorAxis_2[iTrk][2][0] =  0.11042709\n",
      "  \n",
      "majorAxis[iTrk][0][0] =  -7.687664e-05\n",
      "majorAxis[iTrk][1][0] =  -0.0017985329\n",
      "majorAxis[iTrk][2][0] =  0.17833562\n",
      "minorAxis_1[iTrk][0][0] =  -17.651728\n",
      "minorAxis_1[iTrk][1][0] =  0.7545069\n",
      "minorAxis_1[iTrk][2][0] =  -7.932265e-09\n",
      "minorAxis_2[iTrk][0][0] =  0.75446844\n",
      "minorAxis_2[iTrk][1][0] =  17.650827\n",
      "minorAxis_2[iTrk][2][0] =  0.17833562\n",
      "  \n",
      "majorAxis[iTrk][0][0] =  4.5855802e-05\n",
      "majorAxis[iTrk][1][0] =  -0.00054240844\n",
      "majorAxis[iTrk][2][0] =  0.098067455\n",
      "minorAxis_1[iTrk][0][0] =  17.605043\n",
      "minorAxis_1[iTrk][1][0] =  1.4883496\n",
      "minorAxis_1[iTrk][2][0] =  -2.7847218e-08\n",
      "minorAxis_2[iTrk][0][0] =  1.4883265\n",
      "minorAxis_2[iTrk][1][0] =  -17.604773\n",
      "minorAxis_2[iTrk][2][0] =  -0.098067455\n",
      "  \n",
      "majorAxis[iTrk][0][0] =  -0.0013144773\n",
      "majorAxis[iTrk][1][0] =  0.0008680699\n",
      "majorAxis[iTrk][2][0] =  0.16682307\n",
      "minorAxis_1[iTrk][0][0] =  -9.736217\n",
      "minorAxis_1[iTrk][1][0] =  -14.743094\n",
      "minorAxis_1[iTrk][2][0] =  -1.7552136e-08\n",
      "minorAxis_2[iTrk][0][0] =  -14.742435\n",
      "minorAxis_2[iTrk][1][0] =  9.735782\n",
      "minorAxis_2[iTrk][2][0] =  -0.16682304\n",
      "  \n",
      "majorAxis[iTrk][0][0] =  0.032227762\n",
      "majorAxis[iTrk][1][0] =  0.007741693\n",
      "majorAxis[iTrk][2][0] =  0.76488173\n",
      "minorAxis_1[iTrk][0][0] =  -4.1267405\n",
      "minorAxis_1[iTrk][1][0] =  17.179138\n",
      "minorAxis_1[iTrk][2][0] =  -2.3529467e-10\n",
      "minorAxis_2[iTrk][0][0] =  17.16303\n",
      "minorAxis_2[iTrk][1][0] =  4.122871\n",
      "minorAxis_2[iTrk][2][0] =  -0.7648817\n",
      "  \n",
      "majorAxis[iTrk][0][0] =  1.9753945\n",
      "majorAxis[iTrk][1][0] =  2.5669005\n",
      "majorAxis[iTrk][2][0] =  7.226382\n",
      "minorAxis_1[iTrk][0][0] =  14.0017\n",
      "minorAxis_1[iTrk][1][0] =  -10.7752075\n",
      "minorAxis_1[iTrk][2][0] =  5.3286344e-11\n",
      "minorAxis_2[iTrk][0][0] =  -9.832683\n",
      "minorAxis_2[iTrk][1][0] =  -12.776951\n",
      "minorAxis_2[iTrk][2][0] =  7.226381\n",
      "  \n",
      "majorAxis[iTrk][0][0] =  -0.0026900356\n",
      "majorAxis[iTrk][1][0] =  -0.0015841618\n",
      "majorAxis[iTrk][2][0] =  0.234843\n",
      "minorAxis_1[iTrk][0][0] =  -8.965469\n",
      "minorAxis_1[iTrk][1][0] =  15.224096\n",
      "minorAxis_1[iTrk][2][0] =  2.8236277e-08\n",
      "minorAxis_2[iTrk][0][0] =  15.222751\n",
      "minorAxis_2[iTrk][1][0] =  8.964677\n",
      "minorAxis_2[iTrk][2][0] =  0.234843\n",
      "  \n",
      "majorAxis[iTrk][0][0] =  -0.0001692281\n",
      "majorAxis[iTrk][1][0] =  0.0003505444\n",
      "majorAxis[iTrk][2][0] =  0.08292902\n",
      "minorAxis_1[iTrk][0][0] =  -15.910811\n",
      "minorAxis_1[iTrk][1][0] =  -7.68107\n",
      "minorAxis_1[iTrk][2][0] =  1.587002e-08\n",
      "minorAxis_2[iTrk][0][0] =  -7.680986\n",
      "minorAxis_2[iTrk][1][0] =  15.910635\n",
      "minorAxis_2[iTrk][2][0] =  -0.08292903\n",
      "  \n",
      "majorAxis[iTrk][0][0] =  0.0017714669\n",
      "majorAxis[iTrk][1][0] =  -0.001515166\n",
      "majorAxis[iTrk][2][0] =  0.20293355\n",
      "minorAxis_1[iTrk][0][0] =  11.483943\n",
      "minorAxis_1[iTrk][1][0] =  13.426532\n",
      "minorAxis_1[iTrk][2][0] =  -2.7840934e-09\n",
      "minorAxis_2[iTrk][0][0] =  13.425648\n",
      "minorAxis_2[iTrk][1][0] =  -11.483187\n",
      "minorAxis_2[iTrk][2][0] =  -0.20293356\n",
      "  \n",
      "majorAxis[iTrk][0][0] =  0.0006359923\n",
      "majorAxis[iTrk][1][0] =  -0.0003371759\n",
      "majorAxis[iTrk][2][0] =  0.112773284\n",
      "minorAxis_1[iTrk][0][0] =  8.275655\n",
      "minorAxis_1[iTrk][1][0] =  15.609813\n",
      "minorAxis_1[iTrk][2][0] =  -5.6373224e-08\n",
      "minorAxis_2[iTrk][0][0] =  15.609494\n",
      "minorAxis_2[iTrk][1][0] =  -8.275486\n",
      "minorAxis_2[iTrk][2][0] =  -0.11277328\n",
      "  \n",
      "len(X) =  80000\n",
      "len(Xlist) =  4\n",
      "Loaded /share/lazy/will/data/June30_2020_80k_4.h5 in 161.3 s\n",
      "outer loop X.shape =  (320000, 9, 600)\n",
      "Constructing 320000 event dataset took 2.732 s\n",
      "x_t.shape =  torch.Size([320000, 9, 600])\n",
      "x_t.shape[0] =  320000\n",
      "x_t.shape[1] =  9\n",
      "x_t.shape =  torch.Size([320000, 9, 600])\n"
     ]
    },
    {
     "name": "stdout",
     "output_type": "stream",
     "text": [
      "Loading data...\n",
      "pocaMx.shape =  (20000,)\n",
      "nEvts =  20000\n",
      "len(pocaMx[0]) =  211\n",
      "len(pocaMx[1]) =  21\n",
      "len(pocaMx[2]) =  20\n",
      "len(pocaMx[3]) =  198\n",
      "len(pocaMx[4]) =  233\n",
      "majorAxis.shape =  (20000, 3)\n",
      "minorAxis_1.shape =  (20000, 3)\n",
      "minorAxis_2.shape =  (20000, 3)\n",
      "have entered six_ellipsoid_parameters\n",
      "  \n",
      " \n",
      "  nEvts =  20000\n",
      " iEvt, nTrks =  0 211\n",
      " iEvt, nTrks =  1 21\n",
      " iEvt, nTrks =  2 20\n",
      " iEvt, nTrks =  3 198\n",
      " iEvt, nTrks =  4 233\n",
      " iEvt, nTrks =  5 85\n",
      " iEvt, nTrks =  6 223\n",
      " iEvt, nTrks =  7 425\n",
      " iEvt, nTrks =  8 252\n",
      " iEvt, nTrks =  9 169\n",
      "A.shape =  (20000,)\n",
      "majorAxis[iTrk][0][0] =  -0.00023452607\n",
      "majorAxis[iTrk][1][0] =  -0.00047206535\n",
      "majorAxis[iTrk][2][0] =  0.096502915\n",
      "minorAxis_1[iTrk][0][0] =  -15.822749\n",
      "minorAxis_1[iTrk][1][0] =  7.8608756\n",
      "minorAxis_1[iTrk][2][0] =  -2.6228399e-08\n",
      "minorAxis_2[iTrk][0][0] =  7.860759\n",
      "minorAxis_2[iTrk][1][0] =  15.822513\n",
      "minorAxis_2[iTrk][2][0] =  0.096502915\n",
      "  \n",
      "majorAxis[iTrk][0][0] =  -0.37655562\n",
      "majorAxis[iTrk][1][0] =  0.2768704\n",
      "majorAxis[iTrk][2][0] =  2.8546858\n",
      "minorAxis_1[iTrk][0][0] =  -10.466048\n",
      "minorAxis_1[iTrk][1][0] =  -14.234274\n",
      "minorAxis_1[iTrk][2][0] =  2.2974699e-11\n",
      "minorAxis_2[iTrk][0][0] =  -14.04724\n",
      "minorAxis_2[iTrk][1][0] =  10.328527\n",
      "minorAxis_2[iTrk][2][0] =  -2.8546853\n",
      "  \n",
      "majorAxis[iTrk][0][0] =  -0.024279848\n",
      "majorAxis[iTrk][1][0] =  0.0019689242\n",
      "majorAxis[iTrk][2][0] =  0.65580803\n",
      "minorAxis_1[iTrk][0][0] =  -1.4280497\n",
      "minorAxis_1[iTrk][1][0] =  -17.610037\n",
      "minorAxis_1[iTrk][2][0] =  -6.123401e-10\n",
      "minorAxis_2[iTrk][0][0] =  -17.597902\n",
      "minorAxis_2[iTrk][1][0] =  1.4270656\n",
      "minorAxis_2[iTrk][2][0] =  -0.6558081\n",
      "  \n",
      "majorAxis[iTrk][0][0] =  -0.007825993\n",
      "majorAxis[iTrk][1][0] =  0.004052097\n",
      "majorAxis[iTrk][2][0] =  0.3945435\n",
      "minorAxis_1[iTrk][0][0] =  8.123606\n",
      "minorAxis_1[iTrk][1][0] =  15.689478\n",
      "minorAxis_1[iTrk][2][0] =  -2.4940747e-10\n",
      "minorAxis_2[iTrk][0][0] =  15.685566\n",
      "minorAxis_2[iTrk][1][0] =  -8.12158\n",
      "minorAxis_2[iTrk][2][0] =  0.3945435\n",
      "  \n",
      "majorAxis[iTrk][0][0] =  0.0046102717\n",
      "majorAxis[iTrk][1][0] =  -0.0016007021\n",
      "majorAxis[iTrk][2][0] =  0.29361814\n",
      "minorAxis_1[iTrk][0][0] =  -5.794979\n",
      "minorAxis_1[iTrk][1][0] =  -16.690445\n",
      "minorAxis_1[iTrk][2][0] =  2.4897104e-09\n",
      "minorAxis_2[iTrk][0][0] =  -16.688139\n",
      "minorAxis_2[iTrk][1][0] =  5.794179\n",
      "minorAxis_2[iTrk][2][0] =  0.2936181\n",
      "  \n",
      "majorAxis[iTrk][0][0] =  -0.00020041714\n",
      "majorAxis[iTrk][1][0] =  0.00010468164\n",
      "majorAxis[iTrk][2][0] =  0.06320469\n",
      "minorAxis_1[iTrk][0][0] =  8.179679\n",
      "minorAxis_1[iTrk][1][0] =  15.660318\n",
      "minorAxis_1[iTrk][2][0] =  7.40176e-08\n",
      "minorAxis_2[iTrk][0][0] =  15.660218\n",
      "minorAxis_2[iTrk][1][0] =  -8.179626\n",
      "minorAxis_2[iTrk][2][0] =  0.06320469\n",
      "  \n",
      "majorAxis[iTrk][0][0] =  -0.00020603223\n",
      "majorAxis[iTrk][1][0] =  -0.0005662605\n",
      "majorAxis[iTrk][2][0] =  0.10317981\n",
      "minorAxis_1[iTrk][0][0] =  -16.603\n",
      "minorAxis_1[iTrk][1][0] =  6.040953\n",
      "minorAxis_1[iTrk][2][0] =  4.5812504e-07\n",
      "minorAxis_2[iTrk][0][0] =  6.0408506\n",
      "minorAxis_2[iTrk][1][0] =  16.602718\n",
      "minorAxis_2[iTrk][2][0] =  0.10317982\n",
      "  \n",
      "majorAxis[iTrk][0][0] =  -0.00040561036\n",
      "majorAxis[iTrk][1][0] =  0.00014461782\n",
      "majorAxis[iTrk][2][0] =  0.0872241\n",
      "minorAxis_1[iTrk][0][0] =  -5.933496\n",
      "minorAxis_1[iTrk][1][0] =  -16.641706\n",
      "minorAxis_1[iTrk][2][0] =  1.0720762e-08\n",
      "minorAxis_2[iTrk][0][0] =  -16.641502\n",
      "minorAxis_2[iTrk][1][0] =  5.9334235\n",
      "minorAxis_2[iTrk][2][0] =  -0.0872241\n",
      "  \n",
      "majorAxis[iTrk][0][0] =  0.00038461428\n",
      "majorAxis[iTrk][1][0] =  -3.4232737e-05\n",
      "majorAxis[iTrk][2][0] =  0.08259597\n",
      "minorAxis_1[iTrk][0][0] =  -1.5663412\n",
      "minorAxis_1[iTrk][1][0] =  -17.598276\n",
      "minorAxis_1[iTrk][2][0] =  3.2106848e-07\n",
      "minorAxis_2[iTrk][0][0] =  -17.598082\n",
      "minorAxis_2[iTrk][1][0] =  1.5663238\n",
      "minorAxis_2[iTrk][2][0] =  0.08259596\n",
      "  \n",
      "majorAxis[iTrk][0][0] =  -0.022277953\n",
      "majorAxis[iTrk][1][0] =  -0.0046837274\n",
      "majorAxis[iTrk][2][0] =  0.63399464\n",
      "minorAxis_1[iTrk][0][0] =  -3.6350286\n",
      "minorAxis_1[iTrk][1][0] =  17.289862\n",
      "minorAxis_1[iTrk][2][0] =  9.566169e-10\n",
      "minorAxis_2[iTrk][0][0] =  17.278727\n",
      "minorAxis_2[iTrk][1][0] =  3.6326876\n",
      "minorAxis_2[iTrk][2][0] =  0.6339946\n",
      "  \n",
      "len(X) =  20000\n",
      "len(Xlist) =  1\n",
      "Loaded dataAA/20K_POCA_kernel_evts_200926.h5 in 39.65 s\n",
      "outer loop X.shape =  (20000, 9, 600)\n",
      "Constructing 10000 event dataset took 0.07285 s\n",
      "x_t.shape =  torch.Size([10000, 9, 600])\n",
      "x_t.shape[0] =  10000\n",
      "x_t.shape[1] =  9\n",
      "x_t.shape =  torch.Size([10000, 9, 600])\n"
     ]
    }
   ],
   "source": [
    "\n",
    "## Training dataset. You can put as many files here as desired.\n",
    "\n",
    "##train_loader = collect_t2kde_data('/share/lazy/pv-finder/20k_evts_for_KDE_learning_200716.h5',\n",
    "train_loader = collect_t2kde_data('/share/lazy/will/data/June30_2020_80k_1.h5', \n",
    "                                    '/share/lazy/will/data/June30_2020_80k_2.h5',\n",
    "                                    '/share/lazy/will/data/June30_2020_80k_3.h5',\n",
    "                                    '/share/lazy/will/data/June30_2020_80k_4.h5',\n",
    "                             batch_size=batch_size,\n",
    "## if we are using a larger dataset (240K events, with the datasets above, and 11 GB  of GPU memory),\n",
    "## the dataset will overflow the GPU memory; device=device will allow the data to move back\n",
    "## and forth between the CPU and GPU memory. While this allows use of a larger dataset, it slows\n",
    "## down performance by about 10%.  So comment out when not needed.\n",
    "##                          device=device,\n",
    "##                           slice = slice(None,18000)\n",
    "                           )\n",
    "                            \n",
    "# Validation dataset. You can slice to reduce the size.\n",
    "## mds no separate validation set yet,\n",
    "\n",
    "## For iter12, change slice(18000,None) to slice(10000,None)\n",
    "## First, we'll see if this changes the validation cost significantly\n",
    "##  Second, we will see if this reduces the validation cost fluctuations\n",
    "val_loader = collect_t2kde_data('dataAA/20K_POCA_kernel_evts_200926.h5',\n",
    "                            batch_size=batch_size,\n",
    "##                            device=device,\n",
    "                            slice = slice(10000,None)\n",
    "                           )\n"
   ]
  },
  {
   "cell_type": "code",
   "execution_count": 17,
   "metadata": {
    "scrolled": false
   },
   "outputs": [
    {
     "data": {
      "application/javascript": [
       "/* Put everything inside the global mpl namespace */\n",
       "window.mpl = {};\n",
       "\n",
       "\n",
       "mpl.get_websocket_type = function() {\n",
       "    if (typeof(WebSocket) !== 'undefined') {\n",
       "        return WebSocket;\n",
       "    } else if (typeof(MozWebSocket) !== 'undefined') {\n",
       "        return MozWebSocket;\n",
       "    } else {\n",
       "        alert('Your browser does not have WebSocket support. ' +\n",
       "              'Please try Chrome, Safari or Firefox ≥ 6. ' +\n",
       "              'Firefox 4 and 5 are also supported but you ' +\n",
       "              'have to enable WebSockets in about:config.');\n",
       "    };\n",
       "}\n",
       "\n",
       "mpl.figure = function(figure_id, websocket, ondownload, parent_element) {\n",
       "    this.id = figure_id;\n",
       "\n",
       "    this.ws = websocket;\n",
       "\n",
       "    this.supports_binary = (this.ws.binaryType != undefined);\n",
       "\n",
       "    if (!this.supports_binary) {\n",
       "        var warnings = document.getElementById(\"mpl-warnings\");\n",
       "        if (warnings) {\n",
       "            warnings.style.display = 'block';\n",
       "            warnings.textContent = (\n",
       "                \"This browser does not support binary websocket messages. \" +\n",
       "                    \"Performance may be slow.\");\n",
       "        }\n",
       "    }\n",
       "\n",
       "    this.imageObj = new Image();\n",
       "\n",
       "    this.context = undefined;\n",
       "    this.message = undefined;\n",
       "    this.canvas = undefined;\n",
       "    this.rubberband_canvas = undefined;\n",
       "    this.rubberband_context = undefined;\n",
       "    this.format_dropdown = undefined;\n",
       "\n",
       "    this.image_mode = 'full';\n",
       "\n",
       "    this.root = $('<div/>');\n",
       "    this._root_extra_style(this.root)\n",
       "    this.root.attr('style', 'display: inline-block');\n",
       "\n",
       "    $(parent_element).append(this.root);\n",
       "\n",
       "    this._init_header(this);\n",
       "    this._init_canvas(this);\n",
       "    this._init_toolbar(this);\n",
       "\n",
       "    var fig = this;\n",
       "\n",
       "    this.waiting = false;\n",
       "\n",
       "    this.ws.onopen =  function () {\n",
       "            fig.send_message(\"supports_binary\", {value: fig.supports_binary});\n",
       "            fig.send_message(\"send_image_mode\", {});\n",
       "            if (mpl.ratio != 1) {\n",
       "                fig.send_message(\"set_dpi_ratio\", {'dpi_ratio': mpl.ratio});\n",
       "            }\n",
       "            fig.send_message(\"refresh\", {});\n",
       "        }\n",
       "\n",
       "    this.imageObj.onload = function() {\n",
       "            if (fig.image_mode == 'full') {\n",
       "                // Full images could contain transparency (where diff images\n",
       "                // almost always do), so we need to clear the canvas so that\n",
       "                // there is no ghosting.\n",
       "                fig.context.clearRect(0, 0, fig.canvas.width, fig.canvas.height);\n",
       "            }\n",
       "            fig.context.drawImage(fig.imageObj, 0, 0);\n",
       "        };\n",
       "\n",
       "    this.imageObj.onunload = function() {\n",
       "        fig.ws.close();\n",
       "    }\n",
       "\n",
       "    this.ws.onmessage = this._make_on_message_function(this);\n",
       "\n",
       "    this.ondownload = ondownload;\n",
       "}\n",
       "\n",
       "mpl.figure.prototype._init_header = function() {\n",
       "    var titlebar = $(\n",
       "        '<div class=\"ui-dialog-titlebar ui-widget-header ui-corner-all ' +\n",
       "        'ui-helper-clearfix\"/>');\n",
       "    var titletext = $(\n",
       "        '<div class=\"ui-dialog-title\" style=\"width: 100%; ' +\n",
       "        'text-align: center; padding: 3px;\"/>');\n",
       "    titlebar.append(titletext)\n",
       "    this.root.append(titlebar);\n",
       "    this.header = titletext[0];\n",
       "}\n",
       "\n",
       "\n",
       "\n",
       "mpl.figure.prototype._canvas_extra_style = function(canvas_div) {\n",
       "\n",
       "}\n",
       "\n",
       "\n",
       "mpl.figure.prototype._root_extra_style = function(canvas_div) {\n",
       "\n",
       "}\n",
       "\n",
       "mpl.figure.prototype._init_canvas = function() {\n",
       "    var fig = this;\n",
       "\n",
       "    var canvas_div = $('<div/>');\n",
       "\n",
       "    canvas_div.attr('style', 'position: relative; clear: both; outline: 0');\n",
       "\n",
       "    function canvas_keyboard_event(event) {\n",
       "        return fig.key_event(event, event['data']);\n",
       "    }\n",
       "\n",
       "    canvas_div.keydown('key_press', canvas_keyboard_event);\n",
       "    canvas_div.keyup('key_release', canvas_keyboard_event);\n",
       "    this.canvas_div = canvas_div\n",
       "    this._canvas_extra_style(canvas_div)\n",
       "    this.root.append(canvas_div);\n",
       "\n",
       "    var canvas = $('<canvas/>');\n",
       "    canvas.addClass('mpl-canvas');\n",
       "    canvas.attr('style', \"left: 0; top: 0; z-index: 0; outline: 0\")\n",
       "\n",
       "    this.canvas = canvas[0];\n",
       "    this.context = canvas[0].getContext(\"2d\");\n",
       "\n",
       "    var backingStore = this.context.backingStorePixelRatio ||\n",
       "\tthis.context.webkitBackingStorePixelRatio ||\n",
       "\tthis.context.mozBackingStorePixelRatio ||\n",
       "\tthis.context.msBackingStorePixelRatio ||\n",
       "\tthis.context.oBackingStorePixelRatio ||\n",
       "\tthis.context.backingStorePixelRatio || 1;\n",
       "\n",
       "    mpl.ratio = (window.devicePixelRatio || 1) / backingStore;\n",
       "\n",
       "    var rubberband = $('<canvas/>');\n",
       "    rubberband.attr('style', \"position: absolute; left: 0; top: 0; z-index: 1;\")\n",
       "\n",
       "    var pass_mouse_events = true;\n",
       "\n",
       "    canvas_div.resizable({\n",
       "        start: function(event, ui) {\n",
       "            pass_mouse_events = false;\n",
       "        },\n",
       "        resize: function(event, ui) {\n",
       "            fig.request_resize(ui.size.width, ui.size.height);\n",
       "        },\n",
       "        stop: function(event, ui) {\n",
       "            pass_mouse_events = true;\n",
       "            fig.request_resize(ui.size.width, ui.size.height);\n",
       "        },\n",
       "    });\n",
       "\n",
       "    function mouse_event_fn(event) {\n",
       "        if (pass_mouse_events)\n",
       "            return fig.mouse_event(event, event['data']);\n",
       "    }\n",
       "\n",
       "    rubberband.mousedown('button_press', mouse_event_fn);\n",
       "    rubberband.mouseup('button_release', mouse_event_fn);\n",
       "    // Throttle sequential mouse events to 1 every 20ms.\n",
       "    rubberband.mousemove('motion_notify', mouse_event_fn);\n",
       "\n",
       "    rubberband.mouseenter('figure_enter', mouse_event_fn);\n",
       "    rubberband.mouseleave('figure_leave', mouse_event_fn);\n",
       "\n",
       "    canvas_div.on(\"wheel\", function (event) {\n",
       "        event = event.originalEvent;\n",
       "        event['data'] = 'scroll'\n",
       "        if (event.deltaY < 0) {\n",
       "            event.step = 1;\n",
       "        } else {\n",
       "            event.step = -1;\n",
       "        }\n",
       "        mouse_event_fn(event);\n",
       "    });\n",
       "\n",
       "    canvas_div.append(canvas);\n",
       "    canvas_div.append(rubberband);\n",
       "\n",
       "    this.rubberband = rubberband;\n",
       "    this.rubberband_canvas = rubberband[0];\n",
       "    this.rubberband_context = rubberband[0].getContext(\"2d\");\n",
       "    this.rubberband_context.strokeStyle = \"#000000\";\n",
       "\n",
       "    this._resize_canvas = function(width, height) {\n",
       "        // Keep the size of the canvas, canvas container, and rubber band\n",
       "        // canvas in synch.\n",
       "        canvas_div.css('width', width)\n",
       "        canvas_div.css('height', height)\n",
       "\n",
       "        canvas.attr('width', width * mpl.ratio);\n",
       "        canvas.attr('height', height * mpl.ratio);\n",
       "        canvas.attr('style', 'width: ' + width + 'px; height: ' + height + 'px;');\n",
       "\n",
       "        rubberband.attr('width', width);\n",
       "        rubberband.attr('height', height);\n",
       "    }\n",
       "\n",
       "    // Set the figure to an initial 600x600px, this will subsequently be updated\n",
       "    // upon first draw.\n",
       "    this._resize_canvas(600, 600);\n",
       "\n",
       "    // Disable right mouse context menu.\n",
       "    $(this.rubberband_canvas).bind(\"contextmenu\",function(e){\n",
       "        return false;\n",
       "    });\n",
       "\n",
       "    function set_focus () {\n",
       "        canvas.focus();\n",
       "        canvas_div.focus();\n",
       "    }\n",
       "\n",
       "    window.setTimeout(set_focus, 100);\n",
       "}\n",
       "\n",
       "mpl.figure.prototype._init_toolbar = function() {\n",
       "    var fig = this;\n",
       "\n",
       "    var nav_element = $('<div/>');\n",
       "    nav_element.attr('style', 'width: 100%');\n",
       "    this.root.append(nav_element);\n",
       "\n",
       "    // Define a callback function for later on.\n",
       "    function toolbar_event(event) {\n",
       "        return fig.toolbar_button_onclick(event['data']);\n",
       "    }\n",
       "    function toolbar_mouse_event(event) {\n",
       "        return fig.toolbar_button_onmouseover(event['data']);\n",
       "    }\n",
       "\n",
       "    for(var toolbar_ind in mpl.toolbar_items) {\n",
       "        var name = mpl.toolbar_items[toolbar_ind][0];\n",
       "        var tooltip = mpl.toolbar_items[toolbar_ind][1];\n",
       "        var image = mpl.toolbar_items[toolbar_ind][2];\n",
       "        var method_name = mpl.toolbar_items[toolbar_ind][3];\n",
       "\n",
       "        if (!name) {\n",
       "            // put a spacer in here.\n",
       "            continue;\n",
       "        }\n",
       "        var button = $('<button/>');\n",
       "        button.addClass('ui-button ui-widget ui-state-default ui-corner-all ' +\n",
       "                        'ui-button-icon-only');\n",
       "        button.attr('role', 'button');\n",
       "        button.attr('aria-disabled', 'false');\n",
       "        button.click(method_name, toolbar_event);\n",
       "        button.mouseover(tooltip, toolbar_mouse_event);\n",
       "\n",
       "        var icon_img = $('<span/>');\n",
       "        icon_img.addClass('ui-button-icon-primary ui-icon');\n",
       "        icon_img.addClass(image);\n",
       "        icon_img.addClass('ui-corner-all');\n",
       "\n",
       "        var tooltip_span = $('<span/>');\n",
       "        tooltip_span.addClass('ui-button-text');\n",
       "        tooltip_span.html(tooltip);\n",
       "\n",
       "        button.append(icon_img);\n",
       "        button.append(tooltip_span);\n",
       "\n",
       "        nav_element.append(button);\n",
       "    }\n",
       "\n",
       "    var fmt_picker_span = $('<span/>');\n",
       "\n",
       "    var fmt_picker = $('<select/>');\n",
       "    fmt_picker.addClass('mpl-toolbar-option ui-widget ui-widget-content');\n",
       "    fmt_picker_span.append(fmt_picker);\n",
       "    nav_element.append(fmt_picker_span);\n",
       "    this.format_dropdown = fmt_picker[0];\n",
       "\n",
       "    for (var ind in mpl.extensions) {\n",
       "        var fmt = mpl.extensions[ind];\n",
       "        var option = $(\n",
       "            '<option/>', {selected: fmt === mpl.default_extension}).html(fmt);\n",
       "        fmt_picker.append(option);\n",
       "    }\n",
       "\n",
       "    // Add hover states to the ui-buttons\n",
       "    $( \".ui-button\" ).hover(\n",
       "        function() { $(this).addClass(\"ui-state-hover\");},\n",
       "        function() { $(this).removeClass(\"ui-state-hover\");}\n",
       "    );\n",
       "\n",
       "    var status_bar = $('<span class=\"mpl-message\"/>');\n",
       "    nav_element.append(status_bar);\n",
       "    this.message = status_bar[0];\n",
       "}\n",
       "\n",
       "mpl.figure.prototype.request_resize = function(x_pixels, y_pixels) {\n",
       "    // Request matplotlib to resize the figure. Matplotlib will then trigger a resize in the client,\n",
       "    // which will in turn request a refresh of the image.\n",
       "    this.send_message('resize', {'width': x_pixels, 'height': y_pixels});\n",
       "}\n",
       "\n",
       "mpl.figure.prototype.send_message = function(type, properties) {\n",
       "    properties['type'] = type;\n",
       "    properties['figure_id'] = this.id;\n",
       "    this.ws.send(JSON.stringify(properties));\n",
       "}\n",
       "\n",
       "mpl.figure.prototype.send_draw_message = function() {\n",
       "    if (!this.waiting) {\n",
       "        this.waiting = true;\n",
       "        this.ws.send(JSON.stringify({type: \"draw\", figure_id: this.id}));\n",
       "    }\n",
       "}\n",
       "\n",
       "\n",
       "mpl.figure.prototype.handle_save = function(fig, msg) {\n",
       "    var format_dropdown = fig.format_dropdown;\n",
       "    var format = format_dropdown.options[format_dropdown.selectedIndex].value;\n",
       "    fig.ondownload(fig, format);\n",
       "}\n",
       "\n",
       "\n",
       "mpl.figure.prototype.handle_resize = function(fig, msg) {\n",
       "    var size = msg['size'];\n",
       "    if (size[0] != fig.canvas.width || size[1] != fig.canvas.height) {\n",
       "        fig._resize_canvas(size[0], size[1]);\n",
       "        fig.send_message(\"refresh\", {});\n",
       "    };\n",
       "}\n",
       "\n",
       "mpl.figure.prototype.handle_rubberband = function(fig, msg) {\n",
       "    var x0 = msg['x0'] / mpl.ratio;\n",
       "    var y0 = (fig.canvas.height - msg['y0']) / mpl.ratio;\n",
       "    var x1 = msg['x1'] / mpl.ratio;\n",
       "    var y1 = (fig.canvas.height - msg['y1']) / mpl.ratio;\n",
       "    x0 = Math.floor(x0) + 0.5;\n",
       "    y0 = Math.floor(y0) + 0.5;\n",
       "    x1 = Math.floor(x1) + 0.5;\n",
       "    y1 = Math.floor(y1) + 0.5;\n",
       "    var min_x = Math.min(x0, x1);\n",
       "    var min_y = Math.min(y0, y1);\n",
       "    var width = Math.abs(x1 - x0);\n",
       "    var height = Math.abs(y1 - y0);\n",
       "\n",
       "    fig.rubberband_context.clearRect(\n",
       "        0, 0, fig.canvas.width / mpl.ratio, fig.canvas.height / mpl.ratio);\n",
       "\n",
       "    fig.rubberband_context.strokeRect(min_x, min_y, width, height);\n",
       "}\n",
       "\n",
       "mpl.figure.prototype.handle_figure_label = function(fig, msg) {\n",
       "    // Updates the figure title.\n",
       "    fig.header.textContent = msg['label'];\n",
       "}\n",
       "\n",
       "mpl.figure.prototype.handle_cursor = function(fig, msg) {\n",
       "    var cursor = msg['cursor'];\n",
       "    switch(cursor)\n",
       "    {\n",
       "    case 0:\n",
       "        cursor = 'pointer';\n",
       "        break;\n",
       "    case 1:\n",
       "        cursor = 'default';\n",
       "        break;\n",
       "    case 2:\n",
       "        cursor = 'crosshair';\n",
       "        break;\n",
       "    case 3:\n",
       "        cursor = 'move';\n",
       "        break;\n",
       "    }\n",
       "    fig.rubberband_canvas.style.cursor = cursor;\n",
       "}\n",
       "\n",
       "mpl.figure.prototype.handle_message = function(fig, msg) {\n",
       "    fig.message.textContent = msg['message'];\n",
       "}\n",
       "\n",
       "mpl.figure.prototype.handle_draw = function(fig, msg) {\n",
       "    // Request the server to send over a new figure.\n",
       "    fig.send_draw_message();\n",
       "}\n",
       "\n",
       "mpl.figure.prototype.handle_image_mode = function(fig, msg) {\n",
       "    fig.image_mode = msg['mode'];\n",
       "}\n",
       "\n",
       "mpl.figure.prototype.updated_canvas_event = function() {\n",
       "    // Called whenever the canvas gets updated.\n",
       "    this.send_message(\"ack\", {});\n",
       "}\n",
       "\n",
       "// A function to construct a web socket function for onmessage handling.\n",
       "// Called in the figure constructor.\n",
       "mpl.figure.prototype._make_on_message_function = function(fig) {\n",
       "    return function socket_on_message(evt) {\n",
       "        if (evt.data instanceof Blob) {\n",
       "            /* FIXME: We get \"Resource interpreted as Image but\n",
       "             * transferred with MIME type text/plain:\" errors on\n",
       "             * Chrome.  But how to set the MIME type?  It doesn't seem\n",
       "             * to be part of the websocket stream */\n",
       "            evt.data.type = \"image/png\";\n",
       "\n",
       "            /* Free the memory for the previous frames */\n",
       "            if (fig.imageObj.src) {\n",
       "                (window.URL || window.webkitURL).revokeObjectURL(\n",
       "                    fig.imageObj.src);\n",
       "            }\n",
       "\n",
       "            fig.imageObj.src = (window.URL || window.webkitURL).createObjectURL(\n",
       "                evt.data);\n",
       "            fig.updated_canvas_event();\n",
       "            fig.waiting = false;\n",
       "            return;\n",
       "        }\n",
       "        else if (typeof evt.data === 'string' && evt.data.slice(0, 21) == \"data:image/png;base64\") {\n",
       "            fig.imageObj.src = evt.data;\n",
       "            fig.updated_canvas_event();\n",
       "            fig.waiting = false;\n",
       "            return;\n",
       "        }\n",
       "\n",
       "        var msg = JSON.parse(evt.data);\n",
       "        var msg_type = msg['type'];\n",
       "\n",
       "        // Call the  \"handle_{type}\" callback, which takes\n",
       "        // the figure and JSON message as its only arguments.\n",
       "        try {\n",
       "            var callback = fig[\"handle_\" + msg_type];\n",
       "        } catch (e) {\n",
       "            console.log(\"No handler for the '\" + msg_type + \"' message type: \", msg);\n",
       "            return;\n",
       "        }\n",
       "\n",
       "        if (callback) {\n",
       "            try {\n",
       "                // console.log(\"Handling '\" + msg_type + \"' message: \", msg);\n",
       "                callback(fig, msg);\n",
       "            } catch (e) {\n",
       "                console.log(\"Exception inside the 'handler_\" + msg_type + \"' callback:\", e, e.stack, msg);\n",
       "            }\n",
       "        }\n",
       "    };\n",
       "}\n",
       "\n",
       "// from http://stackoverflow.com/questions/1114465/getting-mouse-location-in-canvas\n",
       "mpl.findpos = function(e) {\n",
       "    //this section is from http://www.quirksmode.org/js/events_properties.html\n",
       "    var targ;\n",
       "    if (!e)\n",
       "        e = window.event;\n",
       "    if (e.target)\n",
       "        targ = e.target;\n",
       "    else if (e.srcElement)\n",
       "        targ = e.srcElement;\n",
       "    if (targ.nodeType == 3) // defeat Safari bug\n",
       "        targ = targ.parentNode;\n",
       "\n",
       "    // jQuery normalizes the pageX and pageY\n",
       "    // pageX,Y are the mouse positions relative to the document\n",
       "    // offset() returns the position of the element relative to the document\n",
       "    var x = e.pageX - $(targ).offset().left;\n",
       "    var y = e.pageY - $(targ).offset().top;\n",
       "\n",
       "    return {\"x\": x, \"y\": y};\n",
       "};\n",
       "\n",
       "/*\n",
       " * return a copy of an object with only non-object keys\n",
       " * we need this to avoid circular references\n",
       " * http://stackoverflow.com/a/24161582/3208463\n",
       " */\n",
       "function simpleKeys (original) {\n",
       "  return Object.keys(original).reduce(function (obj, key) {\n",
       "    if (typeof original[key] !== 'object')\n",
       "        obj[key] = original[key]\n",
       "    return obj;\n",
       "  }, {});\n",
       "}\n",
       "\n",
       "mpl.figure.prototype.mouse_event = function(event, name) {\n",
       "    var canvas_pos = mpl.findpos(event)\n",
       "\n",
       "    if (name === 'button_press')\n",
       "    {\n",
       "        this.canvas.focus();\n",
       "        this.canvas_div.focus();\n",
       "    }\n",
       "\n",
       "    var x = canvas_pos.x * mpl.ratio;\n",
       "    var y = canvas_pos.y * mpl.ratio;\n",
       "\n",
       "    this.send_message(name, {x: x, y: y, button: event.button,\n",
       "                             step: event.step,\n",
       "                             guiEvent: simpleKeys(event)});\n",
       "\n",
       "    /* This prevents the web browser from automatically changing to\n",
       "     * the text insertion cursor when the button is pressed.  We want\n",
       "     * to control all of the cursor setting manually through the\n",
       "     * 'cursor' event from matplotlib */\n",
       "    event.preventDefault();\n",
       "    return false;\n",
       "}\n",
       "\n",
       "mpl.figure.prototype._key_event_extra = function(event, name) {\n",
       "    // Handle any extra behaviour associated with a key event\n",
       "}\n",
       "\n",
       "mpl.figure.prototype.key_event = function(event, name) {\n",
       "\n",
       "    // Prevent repeat events\n",
       "    if (name == 'key_press')\n",
       "    {\n",
       "        if (event.which === this._key)\n",
       "            return;\n",
       "        else\n",
       "            this._key = event.which;\n",
       "    }\n",
       "    if (name == 'key_release')\n",
       "        this._key = null;\n",
       "\n",
       "    var value = '';\n",
       "    if (event.ctrlKey && event.which != 17)\n",
       "        value += \"ctrl+\";\n",
       "    if (event.altKey && event.which != 18)\n",
       "        value += \"alt+\";\n",
       "    if (event.shiftKey && event.which != 16)\n",
       "        value += \"shift+\";\n",
       "\n",
       "    value += 'k';\n",
       "    value += event.which.toString();\n",
       "\n",
       "    this._key_event_extra(event, name);\n",
       "\n",
       "    this.send_message(name, {key: value,\n",
       "                             guiEvent: simpleKeys(event)});\n",
       "    return false;\n",
       "}\n",
       "\n",
       "mpl.figure.prototype.toolbar_button_onclick = function(name) {\n",
       "    if (name == 'download') {\n",
       "        this.handle_save(this, null);\n",
       "    } else {\n",
       "        this.send_message(\"toolbar_button\", {name: name});\n",
       "    }\n",
       "};\n",
       "\n",
       "mpl.figure.prototype.toolbar_button_onmouseover = function(tooltip) {\n",
       "    this.message.textContent = tooltip;\n",
       "};\n",
       "mpl.toolbar_items = [[\"Home\", \"Reset original view\", \"fa fa-home icon-home\", \"home\"], [\"Back\", \"Back to previous view\", \"fa fa-arrow-left icon-arrow-left\", \"back\"], [\"Forward\", \"Forward to next view\", \"fa fa-arrow-right icon-arrow-right\", \"forward\"], [\"\", \"\", \"\", \"\"], [\"Pan\", \"Pan axes with left mouse, zoom with right\", \"fa fa-arrows icon-move\", \"pan\"], [\"Zoom\", \"Zoom to rectangle\", \"fa fa-square-o icon-check-empty\", \"zoom\"], [\"\", \"\", \"\", \"\"], [\"Download\", \"Download plot\", \"fa fa-floppy-o icon-save\", \"download\"]];\n",
       "\n",
       "mpl.extensions = [\"eps\", \"jpeg\", \"pdf\", \"png\", \"ps\", \"raw\", \"svg\", \"tif\"];\n",
       "\n",
       "mpl.default_extension = \"png\";var comm_websocket_adapter = function(comm) {\n",
       "    // Create a \"websocket\"-like object which calls the given IPython comm\n",
       "    // object with the appropriate methods. Currently this is a non binary\n",
       "    // socket, so there is still some room for performance tuning.\n",
       "    var ws = {};\n",
       "\n",
       "    ws.close = function() {\n",
       "        comm.close()\n",
       "    };\n",
       "    ws.send = function(m) {\n",
       "        //console.log('sending', m);\n",
       "        comm.send(m);\n",
       "    };\n",
       "    // Register the callback with on_msg.\n",
       "    comm.on_msg(function(msg) {\n",
       "        //console.log('receiving', msg['content']['data'], msg);\n",
       "        // Pass the mpl event to the overridden (by mpl) onmessage function.\n",
       "        ws.onmessage(msg['content']['data'])\n",
       "    });\n",
       "    return ws;\n",
       "}\n",
       "\n",
       "mpl.mpl_figure_comm = function(comm, msg) {\n",
       "    // This is the function which gets called when the mpl process\n",
       "    // starts-up an IPython Comm through the \"matplotlib\" channel.\n",
       "\n",
       "    var id = msg.content.data.id;\n",
       "    // Get hold of the div created by the display call when the Comm\n",
       "    // socket was opened in Python.\n",
       "    var element = $(\"#\" + id);\n",
       "    var ws_proxy = comm_websocket_adapter(comm)\n",
       "\n",
       "    function ondownload(figure, format) {\n",
       "        window.open(figure.imageObj.src);\n",
       "    }\n",
       "\n",
       "    var fig = new mpl.figure(id, ws_proxy,\n",
       "                           ondownload,\n",
       "                           element.get(0));\n",
       "\n",
       "    // Call onopen now - mpl needs it, as it is assuming we've passed it a real\n",
       "    // web socket which is closed, not our websocket->open comm proxy.\n",
       "    ws_proxy.onopen();\n",
       "\n",
       "    fig.parent_element = element.get(0);\n",
       "    fig.cell_info = mpl.find_output_cell(\"<div id='\" + id + \"'></div>\");\n",
       "    if (!fig.cell_info) {\n",
       "        console.error(\"Failed to find cell for figure\", id, fig);\n",
       "        return;\n",
       "    }\n",
       "\n",
       "    var output_index = fig.cell_info[2]\n",
       "    var cell = fig.cell_info[0];\n",
       "\n",
       "};\n",
       "\n",
       "mpl.figure.prototype.handle_close = function(fig, msg) {\n",
       "    var width = fig.canvas.width/mpl.ratio\n",
       "    fig.root.unbind('remove')\n",
       "\n",
       "    // Update the output cell to use the data from the current canvas.\n",
       "    fig.push_to_output();\n",
       "    var dataURL = fig.canvas.toDataURL();\n",
       "    // Re-enable the keyboard manager in IPython - without this line, in FF,\n",
       "    // the notebook keyboard shortcuts fail.\n",
       "    IPython.keyboard_manager.enable()\n",
       "    $(fig.parent_element).html('<img src=\"' + dataURL + '\" width=\"' + width + '\">');\n",
       "    fig.close_ws(fig, msg);\n",
       "}\n",
       "\n",
       "mpl.figure.prototype.close_ws = function(fig, msg){\n",
       "    fig.send_message('closing', msg);\n",
       "    // fig.ws.close()\n",
       "}\n",
       "\n",
       "mpl.figure.prototype.push_to_output = function(remove_interactive) {\n",
       "    // Turn the data on the canvas into data in the output cell.\n",
       "    var width = this.canvas.width/mpl.ratio\n",
       "    var dataURL = this.canvas.toDataURL();\n",
       "    this.cell_info[1]['text/html'] = '<img src=\"' + dataURL + '\" width=\"' + width + '\">';\n",
       "}\n",
       "\n",
       "mpl.figure.prototype.updated_canvas_event = function() {\n",
       "    // Tell IPython that the notebook contents must change.\n",
       "    IPython.notebook.set_dirty(true);\n",
       "    this.send_message(\"ack\", {});\n",
       "    var fig = this;\n",
       "    // Wait a second, then push the new image to the DOM so\n",
       "    // that it is saved nicely (might be nice to debounce this).\n",
       "    setTimeout(function () { fig.push_to_output() }, 1000);\n",
       "}\n",
       "\n",
       "mpl.figure.prototype._init_toolbar = function() {\n",
       "    var fig = this;\n",
       "\n",
       "    var nav_element = $('<div/>');\n",
       "    nav_element.attr('style', 'width: 100%');\n",
       "    this.root.append(nav_element);\n",
       "\n",
       "    // Define a callback function for later on.\n",
       "    function toolbar_event(event) {\n",
       "        return fig.toolbar_button_onclick(event['data']);\n",
       "    }\n",
       "    function toolbar_mouse_event(event) {\n",
       "        return fig.toolbar_button_onmouseover(event['data']);\n",
       "    }\n",
       "\n",
       "    for(var toolbar_ind in mpl.toolbar_items){\n",
       "        var name = mpl.toolbar_items[toolbar_ind][0];\n",
       "        var tooltip = mpl.toolbar_items[toolbar_ind][1];\n",
       "        var image = mpl.toolbar_items[toolbar_ind][2];\n",
       "        var method_name = mpl.toolbar_items[toolbar_ind][3];\n",
       "\n",
       "        if (!name) { continue; };\n",
       "\n",
       "        var button = $('<button class=\"btn btn-default\" href=\"#\" title=\"' + name + '\"><i class=\"fa ' + image + ' fa-lg\"></i></button>');\n",
       "        button.click(method_name, toolbar_event);\n",
       "        button.mouseover(tooltip, toolbar_mouse_event);\n",
       "        nav_element.append(button);\n",
       "    }\n",
       "\n",
       "    // Add the status bar.\n",
       "    var status_bar = $('<span class=\"mpl-message\" style=\"text-align:right; float: right;\"/>');\n",
       "    nav_element.append(status_bar);\n",
       "    this.message = status_bar[0];\n",
       "\n",
       "    // Add the close button to the window.\n",
       "    var buttongrp = $('<div class=\"btn-group inline pull-right\"></div>');\n",
       "    var button = $('<button class=\"btn btn-mini btn-primary\" href=\"#\" title=\"Stop Interaction\"><i class=\"fa fa-power-off icon-remove icon-large\"></i></button>');\n",
       "    button.click(function (evt) { fig.handle_close(fig, {}); } );\n",
       "    button.mouseover('Stop Interaction', toolbar_mouse_event);\n",
       "    buttongrp.append(button);\n",
       "    var titlebar = this.root.find($('.ui-dialog-titlebar'));\n",
       "    titlebar.prepend(buttongrp);\n",
       "}\n",
       "\n",
       "mpl.figure.prototype._root_extra_style = function(el){\n",
       "    var fig = this\n",
       "    el.on(\"remove\", function(){\n",
       "\tfig.close_ws(fig, {});\n",
       "    });\n",
       "}\n",
       "\n",
       "mpl.figure.prototype._canvas_extra_style = function(el){\n",
       "    // this is important to make the div 'focusable\n",
       "    el.attr('tabindex', 0)\n",
       "    // reach out to IPython and tell the keyboard manager to turn it's self\n",
       "    // off when our div gets focus\n",
       "\n",
       "    // location in version 3\n",
       "    if (IPython.notebook.keyboard_manager) {\n",
       "        IPython.notebook.keyboard_manager.register_events(el);\n",
       "    }\n",
       "    else {\n",
       "        // location in version 2\n",
       "        IPython.keyboard_manager.register_events(el);\n",
       "    }\n",
       "\n",
       "}\n",
       "\n",
       "mpl.figure.prototype._key_event_extra = function(event, name) {\n",
       "    var manager = IPython.notebook.keyboard_manager;\n",
       "    if (!manager)\n",
       "        manager = IPython.keyboard_manager;\n",
       "\n",
       "    // Check for shift+enter\n",
       "    if (event.shiftKey && event.which == 13) {\n",
       "        this.canvas_div.blur();\n",
       "        // select the cell after this one\n",
       "        var index = IPython.notebook.find_cell_index(this.cell_info[0]);\n",
       "        IPython.notebook.select(index + 1);\n",
       "    }\n",
       "}\n",
       "\n",
       "mpl.figure.prototype.handle_save = function(fig, msg) {\n",
       "    fig.ondownload(fig, null);\n",
       "}\n",
       "\n",
       "\n",
       "mpl.find_output_cell = function(html_output) {\n",
       "    // Return the cell and output element which can be found *uniquely* in the notebook.\n",
       "    // Note - this is a bit hacky, but it is done because the \"notebook_saving.Notebook\"\n",
       "    // IPython event is triggered only after the cells have been serialised, which for\n",
       "    // our purposes (turning an active figure into a static one), is too late.\n",
       "    var cells = IPython.notebook.get_cells();\n",
       "    var ncells = cells.length;\n",
       "    for (var i=0; i<ncells; i++) {\n",
       "        var cell = cells[i];\n",
       "        if (cell.cell_type === 'code'){\n",
       "            for (var j=0; j<cell.output_area.outputs.length; j++) {\n",
       "                var data = cell.output_area.outputs[j];\n",
       "                if (data.data) {\n",
       "                    // IPython >= 3 moved mimebundle to data attribute of output\n",
       "                    data = data.data;\n",
       "                }\n",
       "                if (data['text/html'] == html_output) {\n",
       "                    return [cell, data, j];\n",
       "                }\n",
       "            }\n",
       "        }\n",
       "    }\n",
       "}\n",
       "\n",
       "// Register the function which deals with the matplotlib target/channel.\n",
       "// The kernel may be null if the page has been refreshed.\n",
       "if (IPython.notebook.kernel != null) {\n",
       "    IPython.notebook.kernel.comm_manager.register_target('matplotlib', mpl.mpl_figure_comm);\n",
       "}\n"
      ],
      "text/plain": [
       "<IPython.core.display.Javascript object>"
      ]
     },
     "metadata": {},
     "output_type": "display_data"
    },
    {
     "data": {
      "text/html": [
       "<img src=\"data:image/png;base64,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\" width=\"999.75\">"
      ],
      "text/plain": [
       "<IPython.core.display.HTML object>"
      ]
     },
     "metadata": {},
     "output_type": "display_data"
    }
   ],
   "source": [
    "ax, tax, lax, lines = dual_train_plots()\n",
    "fig = ax.figure\n",
    "plt.tight_layout()"
   ]
  },
  {
   "cell_type": "code",
   "execution_count": 18,
   "metadata": {
    "scrolled": false
   },
   "outputs": [
    {
     "name": "stdout",
     "output_type": "stream",
     "text": [
      "Number of batches: train = 6667, val = 209\n"
     ]
    },
    {
     "data": {
      "application/vnd.jupyter.widget-view+json": {
       "model_id": "ceb733e1c51641e6bcdb0e32d7e5652f",
       "version_major": 2,
       "version_minor": 0
      },
      "text/plain": [
       "HBox(children=(FloatProgress(value=0.0, description='Epochs', layout=Layout(flex='2'), max=60.0, style=Progres…"
      ]
     },
     "metadata": {},
     "output_type": "display_data"
    },
    {
     "name": "stdout",
     "output_type": "stream",
     "text": [
      "Number of batches: train = 6667, val = 209\n"
     ]
    },
    {
     "data": {
      "application/vnd.jupyter.widget-view+json": {
       "model_id": "",
       "version_major": 2,
       "version_minor": 0
      },
      "text/plain": [
       "HBox(children=(FloatProgress(value=0.0, description='Training', layout=Layout(flex='2'), max=6667.0, style=Pro…"
      ]
     },
     "metadata": {},
     "output_type": "display_data"
    },
    {
     "name": "stdout",
     "output_type": "stream",
     "text": [
      "Epoch 0: train=0.673611, val=0.452698, took 609.23 s\n"
     ]
    },
    {
     "data": {
      "application/vnd.jupyter.widget-view+json": {
       "model_id": "",
       "version_major": 2,
       "version_minor": 0
      },
      "text/plain": [
       "HBox(children=(FloatProgress(value=0.0, description='Training', layout=Layout(flex='2'), max=6667.0, style=Pro…"
      ]
     },
     "metadata": {},
     "output_type": "display_data"
    },
    {
     "name": "stdout",
     "output_type": "stream",
     "text": [
      "Epoch 1: train=0.672112, val=0.469883, took 609.33 s\n"
     ]
    },
    {
     "data": {
      "application/vnd.jupyter.widget-view+json": {
       "model_id": "",
       "version_major": 2,
       "version_minor": 0
      },
      "text/plain": [
       "HBox(children=(FloatProgress(value=0.0, description='Training', layout=Layout(flex='2'), max=6667.0, style=Pro…"
      ]
     },
     "metadata": {},
     "output_type": "display_data"
    },
    {
     "name": "stdout",
     "output_type": "stream",
     "text": [
      "Epoch 2: train=0.670817, val=0.53916, took 607.62 s\n"
     ]
    },
    {
     "data": {
      "application/vnd.jupyter.widget-view+json": {
       "model_id": "",
       "version_major": 2,
       "version_minor": 0
      },
      "text/plain": [
       "HBox(children=(FloatProgress(value=0.0, description='Training', layout=Layout(flex='2'), max=6667.0, style=Pro…"
      ]
     },
     "metadata": {},
     "output_type": "display_data"
    },
    {
     "name": "stdout",
     "output_type": "stream",
     "text": [
      "Epoch 3: train=0.669231, val=0.466926, took 604.28 s\n"
     ]
    },
    {
     "data": {
      "application/vnd.jupyter.widget-view+json": {
       "model_id": "",
       "version_major": 2,
       "version_minor": 0
      },
      "text/plain": [
       "HBox(children=(FloatProgress(value=0.0, description='Training', layout=Layout(flex='2'), max=6667.0, style=Pro…"
      ]
     },
     "metadata": {},
     "output_type": "display_data"
    },
    {
     "name": "stdout",
     "output_type": "stream",
     "text": [
      "Epoch 4: train=0.670157, val=0.464853, took 603.72 s\n"
     ]
    },
    {
     "data": {
      "application/vnd.jupyter.widget-view+json": {
       "model_id": "",
       "version_major": 2,
       "version_minor": 0
      },
      "text/plain": [
       "HBox(children=(FloatProgress(value=0.0, description='Training', layout=Layout(flex='2'), max=6667.0, style=Pro…"
      ]
     },
     "metadata": {},
     "output_type": "display_data"
    },
    {
     "name": "stdout",
     "output_type": "stream",
     "text": [
      "Epoch 5: train=0.671747, val=0.456033, took 605.22 s\n"
     ]
    },
    {
     "data": {
      "application/vnd.jupyter.widget-view+json": {
       "model_id": "",
       "version_major": 2,
       "version_minor": 0
      },
      "text/plain": [
       "HBox(children=(FloatProgress(value=0.0, description='Training', layout=Layout(flex='2'), max=6667.0, style=Pro…"
      ]
     },
     "metadata": {},
     "output_type": "display_data"
    },
    {
     "name": "stdout",
     "output_type": "stream",
     "text": [
      "Epoch 6: train=0.6709, val=0.461174, took 602.75 s\n"
     ]
    },
    {
     "data": {
      "application/vnd.jupyter.widget-view+json": {
       "model_id": "",
       "version_major": 2,
       "version_minor": 0
      },
      "text/plain": [
       "HBox(children=(FloatProgress(value=0.0, description='Training', layout=Layout(flex='2'), max=6667.0, style=Pro…"
      ]
     },
     "metadata": {},
     "output_type": "display_data"
    },
    {
     "name": "stdout",
     "output_type": "stream",
     "text": [
      "Epoch 7: train=0.671503, val=0.447893, took 601.02 s\n"
     ]
    },
    {
     "data": {
      "application/vnd.jupyter.widget-view+json": {
       "model_id": "",
       "version_major": 2,
       "version_minor": 0
      },
      "text/plain": [
       "HBox(children=(FloatProgress(value=0.0, description='Training', layout=Layout(flex='2'), max=6667.0, style=Pro…"
      ]
     },
     "metadata": {},
     "output_type": "display_data"
    },
    {
     "name": "stdout",
     "output_type": "stream",
     "text": [
      "Epoch 8: train=0.668381, val=0.453251, took 603.37 s\n"
     ]
    },
    {
     "data": {
      "application/vnd.jupyter.widget-view+json": {
       "model_id": "",
       "version_major": 2,
       "version_minor": 0
      },
      "text/plain": [
       "HBox(children=(FloatProgress(value=0.0, description='Training', layout=Layout(flex='2'), max=6667.0, style=Pro…"
      ]
     },
     "metadata": {},
     "output_type": "display_data"
    },
    {
     "name": "stdout",
     "output_type": "stream",
     "text": [
      "Epoch 9: train=0.66826, val=0.500717, took 624.93 s\n"
     ]
    },
    {
     "data": {
      "application/vnd.jupyter.widget-view+json": {
       "model_id": "",
       "version_major": 2,
       "version_minor": 0
      },
      "text/plain": [
       "HBox(children=(FloatProgress(value=0.0, description='Training', layout=Layout(flex='2'), max=6667.0, style=Pro…"
      ]
     },
     "metadata": {},
     "output_type": "display_data"
    },
    {
     "name": "stdout",
     "output_type": "stream",
     "text": [
      "Epoch 10: train=0.669608, val=0.579403, took 621.41 s\n"
     ]
    },
    {
     "data": {
      "application/vnd.jupyter.widget-view+json": {
       "model_id": "",
       "version_major": 2,
       "version_minor": 0
      },
      "text/plain": [
       "HBox(children=(FloatProgress(value=0.0, description='Training', layout=Layout(flex='2'), max=6667.0, style=Pro…"
      ]
     },
     "metadata": {},
     "output_type": "display_data"
    },
    {
     "name": "stdout",
     "output_type": "stream",
     "text": [
      "Epoch 11: train=0.669892, val=0.446747, took 603.46 s\n"
     ]
    },
    {
     "data": {
      "application/vnd.jupyter.widget-view+json": {
       "model_id": "",
       "version_major": 2,
       "version_minor": 0
      },
      "text/plain": [
       "HBox(children=(FloatProgress(value=0.0, description='Training', layout=Layout(flex='2'), max=6667.0, style=Pro…"
      ]
     },
     "metadata": {},
     "output_type": "display_data"
    },
    {
     "name": "stdout",
     "output_type": "stream",
     "text": [
      "Epoch 12: train=0.66973, val=0.485672, took 601.17 s\n"
     ]
    },
    {
     "data": {
      "application/vnd.jupyter.widget-view+json": {
       "model_id": "",
       "version_major": 2,
       "version_minor": 0
      },
      "text/plain": [
       "HBox(children=(FloatProgress(value=0.0, description='Training', layout=Layout(flex='2'), max=6667.0, style=Pro…"
      ]
     },
     "metadata": {},
     "output_type": "display_data"
    },
    {
     "name": "stdout",
     "output_type": "stream",
     "text": [
      "Epoch 13: train=0.669443, val=0.450229, took 599.67 s\n"
     ]
    },
    {
     "data": {
      "application/vnd.jupyter.widget-view+json": {
       "model_id": "",
       "version_major": 2,
       "version_minor": 0
      },
      "text/plain": [
       "HBox(children=(FloatProgress(value=0.0, description='Training', layout=Layout(flex='2'), max=6667.0, style=Pro…"
      ]
     },
     "metadata": {},
     "output_type": "display_data"
    },
    {
     "name": "stdout",
     "output_type": "stream",
     "text": [
      "Epoch 14: train=0.668528, val=0.534897, took 600.15 s\n"
     ]
    },
    {
     "data": {
      "application/vnd.jupyter.widget-view+json": {
       "model_id": "",
       "version_major": 2,
       "version_minor": 0
      },
      "text/plain": [
       "HBox(children=(FloatProgress(value=0.0, description='Training', layout=Layout(flex='2'), max=6667.0, style=Pro…"
      ]
     },
     "metadata": {},
     "output_type": "display_data"
    },
    {
     "name": "stdout",
     "output_type": "stream",
     "text": [
      "Epoch 15: train=0.667322, val=0.448919, took 599.18 s\n"
     ]
    },
    {
     "data": {
      "application/vnd.jupyter.widget-view+json": {
       "model_id": "",
       "version_major": 2,
       "version_minor": 0
      },
      "text/plain": [
       "HBox(children=(FloatProgress(value=0.0, description='Training', layout=Layout(flex='2'), max=6667.0, style=Pro…"
      ]
     },
     "metadata": {},
     "output_type": "display_data"
    },
    {
     "name": "stdout",
     "output_type": "stream",
     "text": [
      "Epoch 16: train=0.669518, val=0.474035, took 600.22 s\n"
     ]
    },
    {
     "data": {
      "application/vnd.jupyter.widget-view+json": {
       "model_id": "",
       "version_major": 2,
       "version_minor": 0
      },
      "text/plain": [
       "HBox(children=(FloatProgress(value=0.0, description='Training', layout=Layout(flex='2'), max=6667.0, style=Pro…"
      ]
     },
     "metadata": {},
     "output_type": "display_data"
    },
    {
     "name": "stdout",
     "output_type": "stream",
     "text": [
      "Epoch 17: train=0.670645, val=0.461671, took 599.88 s\n"
     ]
    },
    {
     "data": {
      "application/vnd.jupyter.widget-view+json": {
       "model_id": "",
       "version_major": 2,
       "version_minor": 0
      },
      "text/plain": [
       "HBox(children=(FloatProgress(value=0.0, description='Training', layout=Layout(flex='2'), max=6667.0, style=Pro…"
      ]
     },
     "metadata": {},
     "output_type": "display_data"
    },
    {
     "name": "stdout",
     "output_type": "stream",
     "text": [
      "Epoch 18: train=0.66792, val=0.472002, took 599.86 s\n"
     ]
    },
    {
     "data": {
      "application/vnd.jupyter.widget-view+json": {
       "model_id": "",
       "version_major": 2,
       "version_minor": 0
      },
      "text/plain": [
       "HBox(children=(FloatProgress(value=0.0, description='Training', layout=Layout(flex='2'), max=6667.0, style=Pro…"
      ]
     },
     "metadata": {},
     "output_type": "display_data"
    },
    {
     "name": "stdout",
     "output_type": "stream",
     "text": [
      "Epoch 19: train=0.668968, val=0.457089, took 599.6 s\n"
     ]
    },
    {
     "data": {
      "application/vnd.jupyter.widget-view+json": {
       "model_id": "",
       "version_major": 2,
       "version_minor": 0
      },
      "text/plain": [
       "HBox(children=(FloatProgress(value=0.0, description='Training', layout=Layout(flex='2'), max=6667.0, style=Pro…"
      ]
     },
     "metadata": {},
     "output_type": "display_data"
    },
    {
     "name": "stdout",
     "output_type": "stream",
     "text": [
      "Epoch 20: train=0.666822, val=0.456042, took 599.68 s\n"
     ]
    },
    {
     "data": {
      "application/vnd.jupyter.widget-view+json": {
       "model_id": "",
       "version_major": 2,
       "version_minor": 0
      },
      "text/plain": [
       "HBox(children=(FloatProgress(value=0.0, description='Training', layout=Layout(flex='2'), max=6667.0, style=Pro…"
      ]
     },
     "metadata": {},
     "output_type": "display_data"
    },
    {
     "name": "stdout",
     "output_type": "stream",
     "text": [
      "Epoch 21: train=0.664957, val=0.503394, took 600.37 s\n"
     ]
    },
    {
     "data": {
      "application/vnd.jupyter.widget-view+json": {
       "model_id": "",
       "version_major": 2,
       "version_minor": 0
      },
      "text/plain": [
       "HBox(children=(FloatProgress(value=0.0, description='Training', layout=Layout(flex='2'), max=6667.0, style=Pro…"
      ]
     },
     "metadata": {},
     "output_type": "display_data"
    },
    {
     "name": "stdout",
     "output_type": "stream",
     "text": [
      "Epoch 22: train=0.666662, val=0.456384, took 599.93 s\n"
     ]
    },
    {
     "data": {
      "application/vnd.jupyter.widget-view+json": {
       "model_id": "",
       "version_major": 2,
       "version_minor": 0
      },
      "text/plain": [
       "HBox(children=(FloatProgress(value=0.0, description='Training', layout=Layout(flex='2'), max=6667.0, style=Pro…"
      ]
     },
     "metadata": {},
     "output_type": "display_data"
    },
    {
     "name": "stdout",
     "output_type": "stream",
     "text": [
      "Epoch 23: train=0.667117, val=0.471129, took 599.92 s\n"
     ]
    },
    {
     "data": {
      "application/vnd.jupyter.widget-view+json": {
       "model_id": "",
       "version_major": 2,
       "version_minor": 0
      },
      "text/plain": [
       "HBox(children=(FloatProgress(value=0.0, description='Training', layout=Layout(flex='2'), max=6667.0, style=Pro…"
      ]
     },
     "metadata": {},
     "output_type": "display_data"
    },
    {
     "name": "stdout",
     "output_type": "stream",
     "text": [
      "Epoch 24: train=0.666894, val=0.483385, took 600.06 s\n"
     ]
    },
    {
     "data": {
      "application/vnd.jupyter.widget-view+json": {
       "model_id": "",
       "version_major": 2,
       "version_minor": 0
      },
      "text/plain": [
       "HBox(children=(FloatProgress(value=0.0, description='Training', layout=Layout(flex='2'), max=6667.0, style=Pro…"
      ]
     },
     "metadata": {},
     "output_type": "display_data"
    },
    {
     "name": "stdout",
     "output_type": "stream",
     "text": [
      "Epoch 25: train=0.665619, val=0.467684, took 600.07 s\n"
     ]
    },
    {
     "data": {
      "application/vnd.jupyter.widget-view+json": {
       "model_id": "",
       "version_major": 2,
       "version_minor": 0
      },
      "text/plain": [
       "HBox(children=(FloatProgress(value=0.0, description='Training', layout=Layout(flex='2'), max=6667.0, style=Pro…"
      ]
     },
     "metadata": {},
     "output_type": "display_data"
    },
    {
     "name": "stdout",
     "output_type": "stream",
     "text": [
      "Epoch 26: train=0.667463, val=0.451983, took 599.99 s\n"
     ]
    },
    {
     "data": {
      "application/vnd.jupyter.widget-view+json": {
       "model_id": "",
       "version_major": 2,
       "version_minor": 0
      },
      "text/plain": [
       "HBox(children=(FloatProgress(value=0.0, description='Training', layout=Layout(flex='2'), max=6667.0, style=Pro…"
      ]
     },
     "metadata": {},
     "output_type": "display_data"
    },
    {
     "name": "stdout",
     "output_type": "stream",
     "text": [
      "Epoch 27: train=0.663383, val=0.559815, took 599.73 s\n"
     ]
    },
    {
     "data": {
      "application/vnd.jupyter.widget-view+json": {
       "model_id": "",
       "version_major": 2,
       "version_minor": 0
      },
      "text/plain": [
       "HBox(children=(FloatProgress(value=0.0, description='Training', layout=Layout(flex='2'), max=6667.0, style=Pro…"
      ]
     },
     "metadata": {},
     "output_type": "display_data"
    },
    {
     "name": "stdout",
     "output_type": "stream",
     "text": [
      "Epoch 28: train=0.666203, val=0.514762, took 599.99 s\n"
     ]
    },
    {
     "data": {
      "application/vnd.jupyter.widget-view+json": {
       "model_id": "",
       "version_major": 2,
       "version_minor": 0
      },
      "text/plain": [
       "HBox(children=(FloatProgress(value=0.0, description='Training', layout=Layout(flex='2'), max=6667.0, style=Pro…"
      ]
     },
     "metadata": {},
     "output_type": "display_data"
    },
    {
     "name": "stdout",
     "output_type": "stream",
     "text": [
      "Epoch 29: train=0.664628, val=0.539519, took 600.49 s\n"
     ]
    },
    {
     "data": {
      "application/vnd.jupyter.widget-view+json": {
       "model_id": "",
       "version_major": 2,
       "version_minor": 0
      },
      "text/plain": [
       "HBox(children=(FloatProgress(value=0.0, description='Training', layout=Layout(flex='2'), max=6667.0, style=Pro…"
      ]
     },
     "metadata": {},
     "output_type": "display_data"
    },
    {
     "name": "stdout",
     "output_type": "stream",
     "text": [
      "Epoch 30: train=0.665955, val=0.446516, took 600.49 s\n"
     ]
    },
    {
     "data": {
      "application/vnd.jupyter.widget-view+json": {
       "model_id": "",
       "version_major": 2,
       "version_minor": 0
      },
      "text/plain": [
       "HBox(children=(FloatProgress(value=0.0, description='Training', layout=Layout(flex='2'), max=6667.0, style=Pro…"
      ]
     },
     "metadata": {},
     "output_type": "display_data"
    },
    {
     "name": "stdout",
     "output_type": "stream",
     "text": [
      "Epoch 31: train=0.663468, val=0.500151, took 600.4 s\n"
     ]
    },
    {
     "data": {
      "application/vnd.jupyter.widget-view+json": {
       "model_id": "",
       "version_major": 2,
       "version_minor": 0
      },
      "text/plain": [
       "HBox(children=(FloatProgress(value=0.0, description='Training', layout=Layout(flex='2'), max=6667.0, style=Pro…"
      ]
     },
     "metadata": {},
     "output_type": "display_data"
    },
    {
     "name": "stdout",
     "output_type": "stream",
     "text": [
      "Epoch 32: train=0.662358, val=0.466501, took 600.41 s\n"
     ]
    },
    {
     "data": {
      "application/vnd.jupyter.widget-view+json": {
       "model_id": "",
       "version_major": 2,
       "version_minor": 0
      },
      "text/plain": [
       "HBox(children=(FloatProgress(value=0.0, description='Training', layout=Layout(flex='2'), max=6667.0, style=Pro…"
      ]
     },
     "metadata": {},
     "output_type": "display_data"
    },
    {
     "name": "stdout",
     "output_type": "stream",
     "text": [
      "Epoch 33: train=0.663913, val=0.445907, took 600.35 s\n"
     ]
    },
    {
     "data": {
      "application/vnd.jupyter.widget-view+json": {
       "model_id": "",
       "version_major": 2,
       "version_minor": 0
      },
      "text/plain": [
       "HBox(children=(FloatProgress(value=0.0, description='Training', layout=Layout(flex='2'), max=6667.0, style=Pro…"
      ]
     },
     "metadata": {},
     "output_type": "display_data"
    },
    {
     "name": "stdout",
     "output_type": "stream",
     "text": [
      "Epoch 34: train=0.66409, val=0.464464, took 600.62 s\n"
     ]
    },
    {
     "data": {
      "application/vnd.jupyter.widget-view+json": {
       "model_id": "",
       "version_major": 2,
       "version_minor": 0
      },
      "text/plain": [
       "HBox(children=(FloatProgress(value=0.0, description='Training', layout=Layout(flex='2'), max=6667.0, style=Pro…"
      ]
     },
     "metadata": {},
     "output_type": "display_data"
    },
    {
     "name": "stdout",
     "output_type": "stream",
     "text": [
      "Epoch 35: train=0.665716, val=0.455068, took 600.11 s\n"
     ]
    },
    {
     "data": {
      "application/vnd.jupyter.widget-view+json": {
       "model_id": "",
       "version_major": 2,
       "version_minor": 0
      },
      "text/plain": [
       "HBox(children=(FloatProgress(value=0.0, description='Training', layout=Layout(flex='2'), max=6667.0, style=Pro…"
      ]
     },
     "metadata": {},
     "output_type": "display_data"
    },
    {
     "name": "stdout",
     "output_type": "stream",
     "text": [
      "Epoch 36: train=0.66296, val=0.474699, took 600.7 s\n"
     ]
    },
    {
     "data": {
      "application/vnd.jupyter.widget-view+json": {
       "model_id": "",
       "version_major": 2,
       "version_minor": 0
      },
      "text/plain": [
       "HBox(children=(FloatProgress(value=0.0, description='Training', layout=Layout(flex='2'), max=6667.0, style=Pro…"
      ]
     },
     "metadata": {},
     "output_type": "display_data"
    },
    {
     "name": "stdout",
     "output_type": "stream",
     "text": [
      "Epoch 37: train=0.664094, val=0.443683, took 600.22 s\n"
     ]
    },
    {
     "data": {
      "application/vnd.jupyter.widget-view+json": {
       "model_id": "",
       "version_major": 2,
       "version_minor": 0
      },
      "text/plain": [
       "HBox(children=(FloatProgress(value=0.0, description='Training', layout=Layout(flex='2'), max=6667.0, style=Pro…"
      ]
     },
     "metadata": {},
     "output_type": "display_data"
    },
    {
     "name": "stdout",
     "output_type": "stream",
     "text": [
      "Epoch 38: train=0.663062, val=0.449566, took 600.41 s\n"
     ]
    },
    {
     "data": {
      "application/vnd.jupyter.widget-view+json": {
       "model_id": "",
       "version_major": 2,
       "version_minor": 0
      },
      "text/plain": [
       "HBox(children=(FloatProgress(value=0.0, description='Training', layout=Layout(flex='2'), max=6667.0, style=Pro…"
      ]
     },
     "metadata": {},
     "output_type": "display_data"
    },
    {
     "name": "stdout",
     "output_type": "stream",
     "text": [
      "Epoch 39: train=0.663841, val=0.450652, took 600.31 s\n"
     ]
    },
    {
     "data": {
      "application/vnd.jupyter.widget-view+json": {
       "model_id": "",
       "version_major": 2,
       "version_minor": 0
      },
      "text/plain": [
       "HBox(children=(FloatProgress(value=0.0, description='Training', layout=Layout(flex='2'), max=6667.0, style=Pro…"
      ]
     },
     "metadata": {},
     "output_type": "display_data"
    },
    {
     "name": "stdout",
     "output_type": "stream",
     "text": [
      "Epoch 40: train=0.663296, val=0.452506, took 600.21 s\n"
     ]
    },
    {
     "data": {
      "application/vnd.jupyter.widget-view+json": {
       "model_id": "",
       "version_major": 2,
       "version_minor": 0
      },
      "text/plain": [
       "HBox(children=(FloatProgress(value=0.0, description='Training', layout=Layout(flex='2'), max=6667.0, style=Pro…"
      ]
     },
     "metadata": {},
     "output_type": "display_data"
    },
    {
     "name": "stdout",
     "output_type": "stream",
     "text": [
      "Epoch 41: train=0.660763, val=0.509012, took 600.53 s\n"
     ]
    },
    {
     "data": {
      "application/vnd.jupyter.widget-view+json": {
       "model_id": "",
       "version_major": 2,
       "version_minor": 0
      },
      "text/plain": [
       "HBox(children=(FloatProgress(value=0.0, description='Training', layout=Layout(flex='2'), max=6667.0, style=Pro…"
      ]
     },
     "metadata": {},
     "output_type": "display_data"
    },
    {
     "name": "stdout",
     "output_type": "stream",
     "text": [
      "Epoch 42: train=0.664251, val=0.460449, took 600.41 s\n"
     ]
    },
    {
     "data": {
      "application/vnd.jupyter.widget-view+json": {
       "model_id": "",
       "version_major": 2,
       "version_minor": 0
      },
      "text/plain": [
       "HBox(children=(FloatProgress(value=0.0, description='Training', layout=Layout(flex='2'), max=6667.0, style=Pro…"
      ]
     },
     "metadata": {},
     "output_type": "display_data"
    },
    {
     "name": "stdout",
     "output_type": "stream",
     "text": [
      "Epoch 43: train=0.661926, val=0.446045, took 599.97 s\n"
     ]
    },
    {
     "data": {
      "application/vnd.jupyter.widget-view+json": {
       "model_id": "",
       "version_major": 2,
       "version_minor": 0
      },
      "text/plain": [
       "HBox(children=(FloatProgress(value=0.0, description='Training', layout=Layout(flex='2'), max=6667.0, style=Pro…"
      ]
     },
     "metadata": {},
     "output_type": "display_data"
    },
    {
     "name": "stdout",
     "output_type": "stream",
     "text": [
      "Epoch 44: train=0.660665, val=0.466957, took 600.12 s\n"
     ]
    },
    {
     "data": {
      "application/vnd.jupyter.widget-view+json": {
       "model_id": "",
       "version_major": 2,
       "version_minor": 0
      },
      "text/plain": [
       "HBox(children=(FloatProgress(value=0.0, description='Training', layout=Layout(flex='2'), max=6667.0, style=Pro…"
      ]
     },
     "metadata": {},
     "output_type": "display_data"
    },
    {
     "name": "stdout",
     "output_type": "stream",
     "text": [
      "Epoch 45: train=0.663626, val=0.457259, took 600.75 s\n"
     ]
    },
    {
     "data": {
      "application/vnd.jupyter.widget-view+json": {
       "model_id": "",
       "version_major": 2,
       "version_minor": 0
      },
      "text/plain": [
       "HBox(children=(FloatProgress(value=0.0, description='Training', layout=Layout(flex='2'), max=6667.0, style=Pro…"
      ]
     },
     "metadata": {},
     "output_type": "display_data"
    },
    {
     "name": "stdout",
     "output_type": "stream",
     "text": [
      "Epoch 46: train=0.660335, val=0.462285, took 600.12 s\n"
     ]
    },
    {
     "data": {
      "application/vnd.jupyter.widget-view+json": {
       "model_id": "",
       "version_major": 2,
       "version_minor": 0
      },
      "text/plain": [
       "HBox(children=(FloatProgress(value=0.0, description='Training', layout=Layout(flex='2'), max=6667.0, style=Pro…"
      ]
     },
     "metadata": {},
     "output_type": "display_data"
    },
    {
     "name": "stdout",
     "output_type": "stream",
     "text": [
      "Epoch 47: train=0.662452, val=0.448274, took 600.13 s\n"
     ]
    },
    {
     "data": {
      "application/vnd.jupyter.widget-view+json": {
       "model_id": "",
       "version_major": 2,
       "version_minor": 0
      },
      "text/plain": [
       "HBox(children=(FloatProgress(value=0.0, description='Training', layout=Layout(flex='2'), max=6667.0, style=Pro…"
      ]
     },
     "metadata": {},
     "output_type": "display_data"
    },
    {
     "name": "stdout",
     "output_type": "stream",
     "text": [
      "Epoch 48: train=0.66097, val=0.444755, took 600.29 s\n"
     ]
    },
    {
     "data": {
      "application/vnd.jupyter.widget-view+json": {
       "model_id": "",
       "version_major": 2,
       "version_minor": 0
      },
      "text/plain": [
       "HBox(children=(FloatProgress(value=0.0, description='Training', layout=Layout(flex='2'), max=6667.0, style=Pro…"
      ]
     },
     "metadata": {},
     "output_type": "display_data"
    },
    {
     "name": "stdout",
     "output_type": "stream",
     "text": [
      "Epoch 49: train=0.660905, val=0.447131, took 600.19 s\n"
     ]
    },
    {
     "data": {
      "application/vnd.jupyter.widget-view+json": {
       "model_id": "",
       "version_major": 2,
       "version_minor": 0
      },
      "text/plain": [
       "HBox(children=(FloatProgress(value=0.0, description='Training', layout=Layout(flex='2'), max=6667.0, style=Pro…"
      ]
     },
     "metadata": {},
     "output_type": "display_data"
    },
    {
     "name": "stdout",
     "output_type": "stream",
     "text": [
      "Epoch 50: train=0.659225, val=0.457415, took 600.63 s\n"
     ]
    },
    {
     "data": {
      "application/vnd.jupyter.widget-view+json": {
       "model_id": "",
       "version_major": 2,
       "version_minor": 0
      },
      "text/plain": [
       "HBox(children=(FloatProgress(value=0.0, description='Training', layout=Layout(flex='2'), max=6667.0, style=Pro…"
      ]
     },
     "metadata": {},
     "output_type": "display_data"
    },
    {
     "name": "stdout",
     "output_type": "stream",
     "text": [
      "Epoch 51: train=0.660303, val=0.464273, took 600.21 s\n"
     ]
    },
    {
     "data": {
      "application/vnd.jupyter.widget-view+json": {
       "model_id": "",
       "version_major": 2,
       "version_minor": 0
      },
      "text/plain": [
       "HBox(children=(FloatProgress(value=0.0, description='Training', layout=Layout(flex='2'), max=6667.0, style=Pro…"
      ]
     },
     "metadata": {},
     "output_type": "display_data"
    },
    {
     "name": "stdout",
     "output_type": "stream",
     "text": [
      "Epoch 52: train=0.661437, val=0.447253, took 599.65 s\n"
     ]
    },
    {
     "data": {
      "application/vnd.jupyter.widget-view+json": {
       "model_id": "",
       "version_major": 2,
       "version_minor": 0
      },
      "text/plain": [
       "HBox(children=(FloatProgress(value=0.0, description='Training', layout=Layout(flex='2'), max=6667.0, style=Pro…"
      ]
     },
     "metadata": {},
     "output_type": "display_data"
    },
    {
     "name": "stdout",
     "output_type": "stream",
     "text": [
      "Epoch 53: train=0.65707, val=0.442134, took 599.86 s\n"
     ]
    },
    {
     "data": {
      "application/vnd.jupyter.widget-view+json": {
       "model_id": "",
       "version_major": 2,
       "version_minor": 0
      },
      "text/plain": [
       "HBox(children=(FloatProgress(value=0.0, description='Training', layout=Layout(flex='2'), max=6667.0, style=Pro…"
      ]
     },
     "metadata": {},
     "output_type": "display_data"
    },
    {
     "name": "stdout",
     "output_type": "stream",
     "text": [
      "Epoch 54: train=0.658248, val=0.475901, took 599.54 s\n"
     ]
    },
    {
     "data": {
      "application/vnd.jupyter.widget-view+json": {
       "model_id": "",
       "version_major": 2,
       "version_minor": 0
      },
      "text/plain": [
       "HBox(children=(FloatProgress(value=0.0, description='Training', layout=Layout(flex='2'), max=6667.0, style=Pro…"
      ]
     },
     "metadata": {},
     "output_type": "display_data"
    },
    {
     "name": "stdout",
     "output_type": "stream",
     "text": [
      "Epoch 55: train=0.659138, val=0.446254, took 600.51 s\n"
     ]
    },
    {
     "data": {
      "application/vnd.jupyter.widget-view+json": {
       "model_id": "",
       "version_major": 2,
       "version_minor": 0
      },
      "text/plain": [
       "HBox(children=(FloatProgress(value=0.0, description='Training', layout=Layout(flex='2'), max=6667.0, style=Pro…"
      ]
     },
     "metadata": {},
     "output_type": "display_data"
    },
    {
     "name": "stdout",
     "output_type": "stream",
     "text": [
      "Epoch 56: train=0.658347, val=0.475454, took 600.21 s\n"
     ]
    },
    {
     "data": {
      "application/vnd.jupyter.widget-view+json": {
       "model_id": "",
       "version_major": 2,
       "version_minor": 0
      },
      "text/plain": [
       "HBox(children=(FloatProgress(value=0.0, description='Training', layout=Layout(flex='2'), max=6667.0, style=Pro…"
      ]
     },
     "metadata": {},
     "output_type": "display_data"
    },
    {
     "name": "stdout",
     "output_type": "stream",
     "text": [
      "Epoch 57: train=0.657769, val=0.482776, took 600.39 s\n"
     ]
    },
    {
     "data": {
      "application/vnd.jupyter.widget-view+json": {
       "model_id": "",
       "version_major": 2,
       "version_minor": 0
      },
      "text/plain": [
       "HBox(children=(FloatProgress(value=0.0, description='Training', layout=Layout(flex='2'), max=6667.0, style=Pro…"
      ]
     },
     "metadata": {},
     "output_type": "display_data"
    },
    {
     "name": "stdout",
     "output_type": "stream",
     "text": [
      "Epoch 58: train=0.661333, val=0.482108, took 600.45 s\n"
     ]
    },
    {
     "data": {
      "application/vnd.jupyter.widget-view+json": {
       "model_id": "",
       "version_major": 2,
       "version_minor": 0
      },
      "text/plain": [
       "HBox(children=(FloatProgress(value=0.0, description='Training', layout=Layout(flex='2'), max=6667.0, style=Pro…"
      ]
     },
     "metadata": {},
     "output_type": "display_data"
    },
    {
     "name": "stdout",
     "output_type": "stream",
     "text": [
      "Epoch 59: train=0.658631, val=0.439924, took 600.3 s\n",
      "\n"
     ]
    }
   ],
   "source": [
    "for result in trainNet(model, optimizer, loss,\n",
    "                        train_loader, val_loader,\n",
    "                        n_epochs, epoch_start=len(results),\n",
    "                        notebook=True):\n",
    "    \n",
    "    results = results.append(pd.Series(result._asdict()), ignore_index=True)\n",
    "    xs = results.index\n",
    "    \n",
    "    # Update the plot above\n",
    "    lines['train'].set_data(results.index,results.cost)\n",
    "    lines['val'].set_data(results.index,results.val)\n",
    "    \n",
    "    #filter first cost epoch (can be really large)\n",
    "    max_cost = max(max(results.cost if len(results.cost)<2 else results.cost[1:]), max(results.val))\n",
    "    min_cost = min(min(results.cost), min(results.val))\n",
    "    \n",
    "    # The plot limits need updating too\n",
    "    \n",
    "    \n",
    "    \n",
    "    ax.set_ylim(min_cost*.9, max_cost*1.1)  \n",
    "    ax.set_xlim(-.5, len(results.cost) - .5)\n",
    "\n",
    "    \n",
    "    # Redraw the figure\n",
    "    fig.canvas.draw()\n",
    "\n",
    "    # Save each model state dictionary\n",
    "    torch.save(model.state_dict(), output / f'{name}_{result.epoch}.pyt')"
   ]
  },
  {
   "cell_type": "markdown",
   "metadata": {},
   "source": [
    "Go ahead and save the final model (even though it was also saved above):"
   ]
  },
  {
   "cell_type": "code",
   "execution_count": 19,
   "metadata": {},
   "outputs": [],
   "source": [
    "torch.save(model.state_dict(), output / f'{name}_final.pyt')"
   ]
  },
  {
   "cell_type": "markdown",
   "metadata": {},
   "source": [
    "Save the output results:"
   ]
  },
  {
   "cell_type": "code",
   "execution_count": 20,
   "metadata": {},
   "outputs": [],
   "source": [
    "results.to_hdf(f'{name}_stats.hdf5', 'results')"
   ]
  },
  {
   "cell_type": "markdown",
   "metadata": {},
   "source": [
    "Save the plot above:"
   ]
  },
  {
   "cell_type": "code",
   "execution_count": 21,
   "metadata": {},
   "outputs": [
    {
     "data": {
      "application/javascript": [
       "/* Put everything inside the global mpl namespace */\n",
       "window.mpl = {};\n",
       "\n",
       "\n",
       "mpl.get_websocket_type = function() {\n",
       "    if (typeof(WebSocket) !== 'undefined') {\n",
       "        return WebSocket;\n",
       "    } else if (typeof(MozWebSocket) !== 'undefined') {\n",
       "        return MozWebSocket;\n",
       "    } else {\n",
       "        alert('Your browser does not have WebSocket support. ' +\n",
       "              'Please try Chrome, Safari or Firefox ≥ 6. ' +\n",
       "              'Firefox 4 and 5 are also supported but you ' +\n",
       "              'have to enable WebSockets in about:config.');\n",
       "    };\n",
       "}\n",
       "\n",
       "mpl.figure = function(figure_id, websocket, ondownload, parent_element) {\n",
       "    this.id = figure_id;\n",
       "\n",
       "    this.ws = websocket;\n",
       "\n",
       "    this.supports_binary = (this.ws.binaryType != undefined);\n",
       "\n",
       "    if (!this.supports_binary) {\n",
       "        var warnings = document.getElementById(\"mpl-warnings\");\n",
       "        if (warnings) {\n",
       "            warnings.style.display = 'block';\n",
       "            warnings.textContent = (\n",
       "                \"This browser does not support binary websocket messages. \" +\n",
       "                    \"Performance may be slow.\");\n",
       "        }\n",
       "    }\n",
       "\n",
       "    this.imageObj = new Image();\n",
       "\n",
       "    this.context = undefined;\n",
       "    this.message = undefined;\n",
       "    this.canvas = undefined;\n",
       "    this.rubberband_canvas = undefined;\n",
       "    this.rubberband_context = undefined;\n",
       "    this.format_dropdown = undefined;\n",
       "\n",
       "    this.image_mode = 'full';\n",
       "\n",
       "    this.root = $('<div/>');\n",
       "    this._root_extra_style(this.root)\n",
       "    this.root.attr('style', 'display: inline-block');\n",
       "\n",
       "    $(parent_element).append(this.root);\n",
       "\n",
       "    this._init_header(this);\n",
       "    this._init_canvas(this);\n",
       "    this._init_toolbar(this);\n",
       "\n",
       "    var fig = this;\n",
       "\n",
       "    this.waiting = false;\n",
       "\n",
       "    this.ws.onopen =  function () {\n",
       "            fig.send_message(\"supports_binary\", {value: fig.supports_binary});\n",
       "            fig.send_message(\"send_image_mode\", {});\n",
       "            if (mpl.ratio != 1) {\n",
       "                fig.send_message(\"set_dpi_ratio\", {'dpi_ratio': mpl.ratio});\n",
       "            }\n",
       "            fig.send_message(\"refresh\", {});\n",
       "        }\n",
       "\n",
       "    this.imageObj.onload = function() {\n",
       "            if (fig.image_mode == 'full') {\n",
       "                // Full images could contain transparency (where diff images\n",
       "                // almost always do), so we need to clear the canvas so that\n",
       "                // there is no ghosting.\n",
       "                fig.context.clearRect(0, 0, fig.canvas.width, fig.canvas.height);\n",
       "            }\n",
       "            fig.context.drawImage(fig.imageObj, 0, 0);\n",
       "        };\n",
       "\n",
       "    this.imageObj.onunload = function() {\n",
       "        fig.ws.close();\n",
       "    }\n",
       "\n",
       "    this.ws.onmessage = this._make_on_message_function(this);\n",
       "\n",
       "    this.ondownload = ondownload;\n",
       "}\n",
       "\n",
       "mpl.figure.prototype._init_header = function() {\n",
       "    var titlebar = $(\n",
       "        '<div class=\"ui-dialog-titlebar ui-widget-header ui-corner-all ' +\n",
       "        'ui-helper-clearfix\"/>');\n",
       "    var titletext = $(\n",
       "        '<div class=\"ui-dialog-title\" style=\"width: 100%; ' +\n",
       "        'text-align: center; padding: 3px;\"/>');\n",
       "    titlebar.append(titletext)\n",
       "    this.root.append(titlebar);\n",
       "    this.header = titletext[0];\n",
       "}\n",
       "\n",
       "\n",
       "\n",
       "mpl.figure.prototype._canvas_extra_style = function(canvas_div) {\n",
       "\n",
       "}\n",
       "\n",
       "\n",
       "mpl.figure.prototype._root_extra_style = function(canvas_div) {\n",
       "\n",
       "}\n",
       "\n",
       "mpl.figure.prototype._init_canvas = function() {\n",
       "    var fig = this;\n",
       "\n",
       "    var canvas_div = $('<div/>');\n",
       "\n",
       "    canvas_div.attr('style', 'position: relative; clear: both; outline: 0');\n",
       "\n",
       "    function canvas_keyboard_event(event) {\n",
       "        return fig.key_event(event, event['data']);\n",
       "    }\n",
       "\n",
       "    canvas_div.keydown('key_press', canvas_keyboard_event);\n",
       "    canvas_div.keyup('key_release', canvas_keyboard_event);\n",
       "    this.canvas_div = canvas_div\n",
       "    this._canvas_extra_style(canvas_div)\n",
       "    this.root.append(canvas_div);\n",
       "\n",
       "    var canvas = $('<canvas/>');\n",
       "    canvas.addClass('mpl-canvas');\n",
       "    canvas.attr('style', \"left: 0; top: 0; z-index: 0; outline: 0\")\n",
       "\n",
       "    this.canvas = canvas[0];\n",
       "    this.context = canvas[0].getContext(\"2d\");\n",
       "\n",
       "    var backingStore = this.context.backingStorePixelRatio ||\n",
       "\tthis.context.webkitBackingStorePixelRatio ||\n",
       "\tthis.context.mozBackingStorePixelRatio ||\n",
       "\tthis.context.msBackingStorePixelRatio ||\n",
       "\tthis.context.oBackingStorePixelRatio ||\n",
       "\tthis.context.backingStorePixelRatio || 1;\n",
       "\n",
       "    mpl.ratio = (window.devicePixelRatio || 1) / backingStore;\n",
       "\n",
       "    var rubberband = $('<canvas/>');\n",
       "    rubberband.attr('style', \"position: absolute; left: 0; top: 0; z-index: 1;\")\n",
       "\n",
       "    var pass_mouse_events = true;\n",
       "\n",
       "    canvas_div.resizable({\n",
       "        start: function(event, ui) {\n",
       "            pass_mouse_events = false;\n",
       "        },\n",
       "        resize: function(event, ui) {\n",
       "            fig.request_resize(ui.size.width, ui.size.height);\n",
       "        },\n",
       "        stop: function(event, ui) {\n",
       "            pass_mouse_events = true;\n",
       "            fig.request_resize(ui.size.width, ui.size.height);\n",
       "        },\n",
       "    });\n",
       "\n",
       "    function mouse_event_fn(event) {\n",
       "        if (pass_mouse_events)\n",
       "            return fig.mouse_event(event, event['data']);\n",
       "    }\n",
       "\n",
       "    rubberband.mousedown('button_press', mouse_event_fn);\n",
       "    rubberband.mouseup('button_release', mouse_event_fn);\n",
       "    // Throttle sequential mouse events to 1 every 20ms.\n",
       "    rubberband.mousemove('motion_notify', mouse_event_fn);\n",
       "\n",
       "    rubberband.mouseenter('figure_enter', mouse_event_fn);\n",
       "    rubberband.mouseleave('figure_leave', mouse_event_fn);\n",
       "\n",
       "    canvas_div.on(\"wheel\", function (event) {\n",
       "        event = event.originalEvent;\n",
       "        event['data'] = 'scroll'\n",
       "        if (event.deltaY < 0) {\n",
       "            event.step = 1;\n",
       "        } else {\n",
       "            event.step = -1;\n",
       "        }\n",
       "        mouse_event_fn(event);\n",
       "    });\n",
       "\n",
       "    canvas_div.append(canvas);\n",
       "    canvas_div.append(rubberband);\n",
       "\n",
       "    this.rubberband = rubberband;\n",
       "    this.rubberband_canvas = rubberband[0];\n",
       "    this.rubberband_context = rubberband[0].getContext(\"2d\");\n",
       "    this.rubberband_context.strokeStyle = \"#000000\";\n",
       "\n",
       "    this._resize_canvas = function(width, height) {\n",
       "        // Keep the size of the canvas, canvas container, and rubber band\n",
       "        // canvas in synch.\n",
       "        canvas_div.css('width', width)\n",
       "        canvas_div.css('height', height)\n",
       "\n",
       "        canvas.attr('width', width * mpl.ratio);\n",
       "        canvas.attr('height', height * mpl.ratio);\n",
       "        canvas.attr('style', 'width: ' + width + 'px; height: ' + height + 'px;');\n",
       "\n",
       "        rubberband.attr('width', width);\n",
       "        rubberband.attr('height', height);\n",
       "    }\n",
       "\n",
       "    // Set the figure to an initial 600x600px, this will subsequently be updated\n",
       "    // upon first draw.\n",
       "    this._resize_canvas(600, 600);\n",
       "\n",
       "    // Disable right mouse context menu.\n",
       "    $(this.rubberband_canvas).bind(\"contextmenu\",function(e){\n",
       "        return false;\n",
       "    });\n",
       "\n",
       "    function set_focus () {\n",
       "        canvas.focus();\n",
       "        canvas_div.focus();\n",
       "    }\n",
       "\n",
       "    window.setTimeout(set_focus, 100);\n",
       "}\n",
       "\n",
       "mpl.figure.prototype._init_toolbar = function() {\n",
       "    var fig = this;\n",
       "\n",
       "    var nav_element = $('<div/>');\n",
       "    nav_element.attr('style', 'width: 100%');\n",
       "    this.root.append(nav_element);\n",
       "\n",
       "    // Define a callback function for later on.\n",
       "    function toolbar_event(event) {\n",
       "        return fig.toolbar_button_onclick(event['data']);\n",
       "    }\n",
       "    function toolbar_mouse_event(event) {\n",
       "        return fig.toolbar_button_onmouseover(event['data']);\n",
       "    }\n",
       "\n",
       "    for(var toolbar_ind in mpl.toolbar_items) {\n",
       "        var name = mpl.toolbar_items[toolbar_ind][0];\n",
       "        var tooltip = mpl.toolbar_items[toolbar_ind][1];\n",
       "        var image = mpl.toolbar_items[toolbar_ind][2];\n",
       "        var method_name = mpl.toolbar_items[toolbar_ind][3];\n",
       "\n",
       "        if (!name) {\n",
       "            // put a spacer in here.\n",
       "            continue;\n",
       "        }\n",
       "        var button = $('<button/>');\n",
       "        button.addClass('ui-button ui-widget ui-state-default ui-corner-all ' +\n",
       "                        'ui-button-icon-only');\n",
       "        button.attr('role', 'button');\n",
       "        button.attr('aria-disabled', 'false');\n",
       "        button.click(method_name, toolbar_event);\n",
       "        button.mouseover(tooltip, toolbar_mouse_event);\n",
       "\n",
       "        var icon_img = $('<span/>');\n",
       "        icon_img.addClass('ui-button-icon-primary ui-icon');\n",
       "        icon_img.addClass(image);\n",
       "        icon_img.addClass('ui-corner-all');\n",
       "\n",
       "        var tooltip_span = $('<span/>');\n",
       "        tooltip_span.addClass('ui-button-text');\n",
       "        tooltip_span.html(tooltip);\n",
       "\n",
       "        button.append(icon_img);\n",
       "        button.append(tooltip_span);\n",
       "\n",
       "        nav_element.append(button);\n",
       "    }\n",
       "\n",
       "    var fmt_picker_span = $('<span/>');\n",
       "\n",
       "    var fmt_picker = $('<select/>');\n",
       "    fmt_picker.addClass('mpl-toolbar-option ui-widget ui-widget-content');\n",
       "    fmt_picker_span.append(fmt_picker);\n",
       "    nav_element.append(fmt_picker_span);\n",
       "    this.format_dropdown = fmt_picker[0];\n",
       "\n",
       "    for (var ind in mpl.extensions) {\n",
       "        var fmt = mpl.extensions[ind];\n",
       "        var option = $(\n",
       "            '<option/>', {selected: fmt === mpl.default_extension}).html(fmt);\n",
       "        fmt_picker.append(option);\n",
       "    }\n",
       "\n",
       "    // Add hover states to the ui-buttons\n",
       "    $( \".ui-button\" ).hover(\n",
       "        function() { $(this).addClass(\"ui-state-hover\");},\n",
       "        function() { $(this).removeClass(\"ui-state-hover\");}\n",
       "    );\n",
       "\n",
       "    var status_bar = $('<span class=\"mpl-message\"/>');\n",
       "    nav_element.append(status_bar);\n",
       "    this.message = status_bar[0];\n",
       "}\n",
       "\n",
       "mpl.figure.prototype.request_resize = function(x_pixels, y_pixels) {\n",
       "    // Request matplotlib to resize the figure. Matplotlib will then trigger a resize in the client,\n",
       "    // which will in turn request a refresh of the image.\n",
       "    this.send_message('resize', {'width': x_pixels, 'height': y_pixels});\n",
       "}\n",
       "\n",
       "mpl.figure.prototype.send_message = function(type, properties) {\n",
       "    properties['type'] = type;\n",
       "    properties['figure_id'] = this.id;\n",
       "    this.ws.send(JSON.stringify(properties));\n",
       "}\n",
       "\n",
       "mpl.figure.prototype.send_draw_message = function() {\n",
       "    if (!this.waiting) {\n",
       "        this.waiting = true;\n",
       "        this.ws.send(JSON.stringify({type: \"draw\", figure_id: this.id}));\n",
       "    }\n",
       "}\n",
       "\n",
       "\n",
       "mpl.figure.prototype.handle_save = function(fig, msg) {\n",
       "    var format_dropdown = fig.format_dropdown;\n",
       "    var format = format_dropdown.options[format_dropdown.selectedIndex].value;\n",
       "    fig.ondownload(fig, format);\n",
       "}\n",
       "\n",
       "\n",
       "mpl.figure.prototype.handle_resize = function(fig, msg) {\n",
       "    var size = msg['size'];\n",
       "    if (size[0] != fig.canvas.width || size[1] != fig.canvas.height) {\n",
       "        fig._resize_canvas(size[0], size[1]);\n",
       "        fig.send_message(\"refresh\", {});\n",
       "    };\n",
       "}\n",
       "\n",
       "mpl.figure.prototype.handle_rubberband = function(fig, msg) {\n",
       "    var x0 = msg['x0'] / mpl.ratio;\n",
       "    var y0 = (fig.canvas.height - msg['y0']) / mpl.ratio;\n",
       "    var x1 = msg['x1'] / mpl.ratio;\n",
       "    var y1 = (fig.canvas.height - msg['y1']) / mpl.ratio;\n",
       "    x0 = Math.floor(x0) + 0.5;\n",
       "    y0 = Math.floor(y0) + 0.5;\n",
       "    x1 = Math.floor(x1) + 0.5;\n",
       "    y1 = Math.floor(y1) + 0.5;\n",
       "    var min_x = Math.min(x0, x1);\n",
       "    var min_y = Math.min(y0, y1);\n",
       "    var width = Math.abs(x1 - x0);\n",
       "    var height = Math.abs(y1 - y0);\n",
       "\n",
       "    fig.rubberband_context.clearRect(\n",
       "        0, 0, fig.canvas.width / mpl.ratio, fig.canvas.height / mpl.ratio);\n",
       "\n",
       "    fig.rubberband_context.strokeRect(min_x, min_y, width, height);\n",
       "}\n",
       "\n",
       "mpl.figure.prototype.handle_figure_label = function(fig, msg) {\n",
       "    // Updates the figure title.\n",
       "    fig.header.textContent = msg['label'];\n",
       "}\n",
       "\n",
       "mpl.figure.prototype.handle_cursor = function(fig, msg) {\n",
       "    var cursor = msg['cursor'];\n",
       "    switch(cursor)\n",
       "    {\n",
       "    case 0:\n",
       "        cursor = 'pointer';\n",
       "        break;\n",
       "    case 1:\n",
       "        cursor = 'default';\n",
       "        break;\n",
       "    case 2:\n",
       "        cursor = 'crosshair';\n",
       "        break;\n",
       "    case 3:\n",
       "        cursor = 'move';\n",
       "        break;\n",
       "    }\n",
       "    fig.rubberband_canvas.style.cursor = cursor;\n",
       "}\n",
       "\n",
       "mpl.figure.prototype.handle_message = function(fig, msg) {\n",
       "    fig.message.textContent = msg['message'];\n",
       "}\n",
       "\n",
       "mpl.figure.prototype.handle_draw = function(fig, msg) {\n",
       "    // Request the server to send over a new figure.\n",
       "    fig.send_draw_message();\n",
       "}\n",
       "\n",
       "mpl.figure.prototype.handle_image_mode = function(fig, msg) {\n",
       "    fig.image_mode = msg['mode'];\n",
       "}\n",
       "\n",
       "mpl.figure.prototype.updated_canvas_event = function() {\n",
       "    // Called whenever the canvas gets updated.\n",
       "    this.send_message(\"ack\", {});\n",
       "}\n",
       "\n",
       "// A function to construct a web socket function for onmessage handling.\n",
       "// Called in the figure constructor.\n",
       "mpl.figure.prototype._make_on_message_function = function(fig) {\n",
       "    return function socket_on_message(evt) {\n",
       "        if (evt.data instanceof Blob) {\n",
       "            /* FIXME: We get \"Resource interpreted as Image but\n",
       "             * transferred with MIME type text/plain:\" errors on\n",
       "             * Chrome.  But how to set the MIME type?  It doesn't seem\n",
       "             * to be part of the websocket stream */\n",
       "            evt.data.type = \"image/png\";\n",
       "\n",
       "            /* Free the memory for the previous frames */\n",
       "            if (fig.imageObj.src) {\n",
       "                (window.URL || window.webkitURL).revokeObjectURL(\n",
       "                    fig.imageObj.src);\n",
       "            }\n",
       "\n",
       "            fig.imageObj.src = (window.URL || window.webkitURL).createObjectURL(\n",
       "                evt.data);\n",
       "            fig.updated_canvas_event();\n",
       "            fig.waiting = false;\n",
       "            return;\n",
       "        }\n",
       "        else if (typeof evt.data === 'string' && evt.data.slice(0, 21) == \"data:image/png;base64\") {\n",
       "            fig.imageObj.src = evt.data;\n",
       "            fig.updated_canvas_event();\n",
       "            fig.waiting = false;\n",
       "            return;\n",
       "        }\n",
       "\n",
       "        var msg = JSON.parse(evt.data);\n",
       "        var msg_type = msg['type'];\n",
       "\n",
       "        // Call the  \"handle_{type}\" callback, which takes\n",
       "        // the figure and JSON message as its only arguments.\n",
       "        try {\n",
       "            var callback = fig[\"handle_\" + msg_type];\n",
       "        } catch (e) {\n",
       "            console.log(\"No handler for the '\" + msg_type + \"' message type: \", msg);\n",
       "            return;\n",
       "        }\n",
       "\n",
       "        if (callback) {\n",
       "            try {\n",
       "                // console.log(\"Handling '\" + msg_type + \"' message: \", msg);\n",
       "                callback(fig, msg);\n",
       "            } catch (e) {\n",
       "                console.log(\"Exception inside the 'handler_\" + msg_type + \"' callback:\", e, e.stack, msg);\n",
       "            }\n",
       "        }\n",
       "    };\n",
       "}\n",
       "\n",
       "// from http://stackoverflow.com/questions/1114465/getting-mouse-location-in-canvas\n",
       "mpl.findpos = function(e) {\n",
       "    //this section is from http://www.quirksmode.org/js/events_properties.html\n",
       "    var targ;\n",
       "    if (!e)\n",
       "        e = window.event;\n",
       "    if (e.target)\n",
       "        targ = e.target;\n",
       "    else if (e.srcElement)\n",
       "        targ = e.srcElement;\n",
       "    if (targ.nodeType == 3) // defeat Safari bug\n",
       "        targ = targ.parentNode;\n",
       "\n",
       "    // jQuery normalizes the pageX and pageY\n",
       "    // pageX,Y are the mouse positions relative to the document\n",
       "    // offset() returns the position of the element relative to the document\n",
       "    var x = e.pageX - $(targ).offset().left;\n",
       "    var y = e.pageY - $(targ).offset().top;\n",
       "\n",
       "    return {\"x\": x, \"y\": y};\n",
       "};\n",
       "\n",
       "/*\n",
       " * return a copy of an object with only non-object keys\n",
       " * we need this to avoid circular references\n",
       " * http://stackoverflow.com/a/24161582/3208463\n",
       " */\n",
       "function simpleKeys (original) {\n",
       "  return Object.keys(original).reduce(function (obj, key) {\n",
       "    if (typeof original[key] !== 'object')\n",
       "        obj[key] = original[key]\n",
       "    return obj;\n",
       "  }, {});\n",
       "}\n",
       "\n",
       "mpl.figure.prototype.mouse_event = function(event, name) {\n",
       "    var canvas_pos = mpl.findpos(event)\n",
       "\n",
       "    if (name === 'button_press')\n",
       "    {\n",
       "        this.canvas.focus();\n",
       "        this.canvas_div.focus();\n",
       "    }\n",
       "\n",
       "    var x = canvas_pos.x * mpl.ratio;\n",
       "    var y = canvas_pos.y * mpl.ratio;\n",
       "\n",
       "    this.send_message(name, {x: x, y: y, button: event.button,\n",
       "                             step: event.step,\n",
       "                             guiEvent: simpleKeys(event)});\n",
       "\n",
       "    /* This prevents the web browser from automatically changing to\n",
       "     * the text insertion cursor when the button is pressed.  We want\n",
       "     * to control all of the cursor setting manually through the\n",
       "     * 'cursor' event from matplotlib */\n",
       "    event.preventDefault();\n",
       "    return false;\n",
       "}\n",
       "\n",
       "mpl.figure.prototype._key_event_extra = function(event, name) {\n",
       "    // Handle any extra behaviour associated with a key event\n",
       "}\n",
       "\n",
       "mpl.figure.prototype.key_event = function(event, name) {\n",
       "\n",
       "    // Prevent repeat events\n",
       "    if (name == 'key_press')\n",
       "    {\n",
       "        if (event.which === this._key)\n",
       "            return;\n",
       "        else\n",
       "            this._key = event.which;\n",
       "    }\n",
       "    if (name == 'key_release')\n",
       "        this._key = null;\n",
       "\n",
       "    var value = '';\n",
       "    if (event.ctrlKey && event.which != 17)\n",
       "        value += \"ctrl+\";\n",
       "    if (event.altKey && event.which != 18)\n",
       "        value += \"alt+\";\n",
       "    if (event.shiftKey && event.which != 16)\n",
       "        value += \"shift+\";\n",
       "\n",
       "    value += 'k';\n",
       "    value += event.which.toString();\n",
       "\n",
       "    this._key_event_extra(event, name);\n",
       "\n",
       "    this.send_message(name, {key: value,\n",
       "                             guiEvent: simpleKeys(event)});\n",
       "    return false;\n",
       "}\n",
       "\n",
       "mpl.figure.prototype.toolbar_button_onclick = function(name) {\n",
       "    if (name == 'download') {\n",
       "        this.handle_save(this, null);\n",
       "    } else {\n",
       "        this.send_message(\"toolbar_button\", {name: name});\n",
       "    }\n",
       "};\n",
       "\n",
       "mpl.figure.prototype.toolbar_button_onmouseover = function(tooltip) {\n",
       "    this.message.textContent = tooltip;\n",
       "};\n",
       "mpl.toolbar_items = [[\"Home\", \"Reset original view\", \"fa fa-home icon-home\", \"home\"], [\"Back\", \"Back to previous view\", \"fa fa-arrow-left icon-arrow-left\", \"back\"], [\"Forward\", \"Forward to next view\", \"fa fa-arrow-right icon-arrow-right\", \"forward\"], [\"\", \"\", \"\", \"\"], [\"Pan\", \"Pan axes with left mouse, zoom with right\", \"fa fa-arrows icon-move\", \"pan\"], [\"Zoom\", \"Zoom to rectangle\", \"fa fa-square-o icon-check-empty\", \"zoom\"], [\"\", \"\", \"\", \"\"], [\"Download\", \"Download plot\", \"fa fa-floppy-o icon-save\", \"download\"]];\n",
       "\n",
       "mpl.extensions = [\"eps\", \"jpeg\", \"pdf\", \"png\", \"ps\", \"raw\", \"svg\", \"tif\"];\n",
       "\n",
       "mpl.default_extension = \"png\";var comm_websocket_adapter = function(comm) {\n",
       "    // Create a \"websocket\"-like object which calls the given IPython comm\n",
       "    // object with the appropriate methods. Currently this is a non binary\n",
       "    // socket, so there is still some room for performance tuning.\n",
       "    var ws = {};\n",
       "\n",
       "    ws.close = function() {\n",
       "        comm.close()\n",
       "    };\n",
       "    ws.send = function(m) {\n",
       "        //console.log('sending', m);\n",
       "        comm.send(m);\n",
       "    };\n",
       "    // Register the callback with on_msg.\n",
       "    comm.on_msg(function(msg) {\n",
       "        //console.log('receiving', msg['content']['data'], msg);\n",
       "        // Pass the mpl event to the overridden (by mpl) onmessage function.\n",
       "        ws.onmessage(msg['content']['data'])\n",
       "    });\n",
       "    return ws;\n",
       "}\n",
       "\n",
       "mpl.mpl_figure_comm = function(comm, msg) {\n",
       "    // This is the function which gets called when the mpl process\n",
       "    // starts-up an IPython Comm through the \"matplotlib\" channel.\n",
       "\n",
       "    var id = msg.content.data.id;\n",
       "    // Get hold of the div created by the display call when the Comm\n",
       "    // socket was opened in Python.\n",
       "    var element = $(\"#\" + id);\n",
       "    var ws_proxy = comm_websocket_adapter(comm)\n",
       "\n",
       "    function ondownload(figure, format) {\n",
       "        window.open(figure.imageObj.src);\n",
       "    }\n",
       "\n",
       "    var fig = new mpl.figure(id, ws_proxy,\n",
       "                           ondownload,\n",
       "                           element.get(0));\n",
       "\n",
       "    // Call onopen now - mpl needs it, as it is assuming we've passed it a real\n",
       "    // web socket which is closed, not our websocket->open comm proxy.\n",
       "    ws_proxy.onopen();\n",
       "\n",
       "    fig.parent_element = element.get(0);\n",
       "    fig.cell_info = mpl.find_output_cell(\"<div id='\" + id + \"'></div>\");\n",
       "    if (!fig.cell_info) {\n",
       "        console.error(\"Failed to find cell for figure\", id, fig);\n",
       "        return;\n",
       "    }\n",
       "\n",
       "    var output_index = fig.cell_info[2]\n",
       "    var cell = fig.cell_info[0];\n",
       "\n",
       "};\n",
       "\n",
       "mpl.figure.prototype.handle_close = function(fig, msg) {\n",
       "    var width = fig.canvas.width/mpl.ratio\n",
       "    fig.root.unbind('remove')\n",
       "\n",
       "    // Update the output cell to use the data from the current canvas.\n",
       "    fig.push_to_output();\n",
       "    var dataURL = fig.canvas.toDataURL();\n",
       "    // Re-enable the keyboard manager in IPython - without this line, in FF,\n",
       "    // the notebook keyboard shortcuts fail.\n",
       "    IPython.keyboard_manager.enable()\n",
       "    $(fig.parent_element).html('<img src=\"' + dataURL + '\" width=\"' + width + '\">');\n",
       "    fig.close_ws(fig, msg);\n",
       "}\n",
       "\n",
       "mpl.figure.prototype.close_ws = function(fig, msg){\n",
       "    fig.send_message('closing', msg);\n",
       "    // fig.ws.close()\n",
       "}\n",
       "\n",
       "mpl.figure.prototype.push_to_output = function(remove_interactive) {\n",
       "    // Turn the data on the canvas into data in the output cell.\n",
       "    var width = this.canvas.width/mpl.ratio\n",
       "    var dataURL = this.canvas.toDataURL();\n",
       "    this.cell_info[1]['text/html'] = '<img src=\"' + dataURL + '\" width=\"' + width + '\">';\n",
       "}\n",
       "\n",
       "mpl.figure.prototype.updated_canvas_event = function() {\n",
       "    // Tell IPython that the notebook contents must change.\n",
       "    IPython.notebook.set_dirty(true);\n",
       "    this.send_message(\"ack\", {});\n",
       "    var fig = this;\n",
       "    // Wait a second, then push the new image to the DOM so\n",
       "    // that it is saved nicely (might be nice to debounce this).\n",
       "    setTimeout(function () { fig.push_to_output() }, 1000);\n",
       "}\n",
       "\n",
       "mpl.figure.prototype._init_toolbar = function() {\n",
       "    var fig = this;\n",
       "\n",
       "    var nav_element = $('<div/>');\n",
       "    nav_element.attr('style', 'width: 100%');\n",
       "    this.root.append(nav_element);\n",
       "\n",
       "    // Define a callback function for later on.\n",
       "    function toolbar_event(event) {\n",
       "        return fig.toolbar_button_onclick(event['data']);\n",
       "    }\n",
       "    function toolbar_mouse_event(event) {\n",
       "        return fig.toolbar_button_onmouseover(event['data']);\n",
       "    }\n",
       "\n",
       "    for(var toolbar_ind in mpl.toolbar_items){\n",
       "        var name = mpl.toolbar_items[toolbar_ind][0];\n",
       "        var tooltip = mpl.toolbar_items[toolbar_ind][1];\n",
       "        var image = mpl.toolbar_items[toolbar_ind][2];\n",
       "        var method_name = mpl.toolbar_items[toolbar_ind][3];\n",
       "\n",
       "        if (!name) { continue; };\n",
       "\n",
       "        var button = $('<button class=\"btn btn-default\" href=\"#\" title=\"' + name + '\"><i class=\"fa ' + image + ' fa-lg\"></i></button>');\n",
       "        button.click(method_name, toolbar_event);\n",
       "        button.mouseover(tooltip, toolbar_mouse_event);\n",
       "        nav_element.append(button);\n",
       "    }\n",
       "\n",
       "    // Add the status bar.\n",
       "    var status_bar = $('<span class=\"mpl-message\" style=\"text-align:right; float: right;\"/>');\n",
       "    nav_element.append(status_bar);\n",
       "    this.message = status_bar[0];\n",
       "\n",
       "    // Add the close button to the window.\n",
       "    var buttongrp = $('<div class=\"btn-group inline pull-right\"></div>');\n",
       "    var button = $('<button class=\"btn btn-mini btn-primary\" href=\"#\" title=\"Stop Interaction\"><i class=\"fa fa-power-off icon-remove icon-large\"></i></button>');\n",
       "    button.click(function (evt) { fig.handle_close(fig, {}); } );\n",
       "    button.mouseover('Stop Interaction', toolbar_mouse_event);\n",
       "    buttongrp.append(button);\n",
       "    var titlebar = this.root.find($('.ui-dialog-titlebar'));\n",
       "    titlebar.prepend(buttongrp);\n",
       "}\n",
       "\n",
       "mpl.figure.prototype._root_extra_style = function(el){\n",
       "    var fig = this\n",
       "    el.on(\"remove\", function(){\n",
       "\tfig.close_ws(fig, {});\n",
       "    });\n",
       "}\n",
       "\n",
       "mpl.figure.prototype._canvas_extra_style = function(el){\n",
       "    // this is important to make the div 'focusable\n",
       "    el.attr('tabindex', 0)\n",
       "    // reach out to IPython and tell the keyboard manager to turn it's self\n",
       "    // off when our div gets focus\n",
       "\n",
       "    // location in version 3\n",
       "    if (IPython.notebook.keyboard_manager) {\n",
       "        IPython.notebook.keyboard_manager.register_events(el);\n",
       "    }\n",
       "    else {\n",
       "        // location in version 2\n",
       "        IPython.keyboard_manager.register_events(el);\n",
       "    }\n",
       "\n",
       "}\n",
       "\n",
       "mpl.figure.prototype._key_event_extra = function(event, name) {\n",
       "    var manager = IPython.notebook.keyboard_manager;\n",
       "    if (!manager)\n",
       "        manager = IPython.keyboard_manager;\n",
       "\n",
       "    // Check for shift+enter\n",
       "    if (event.shiftKey && event.which == 13) {\n",
       "        this.canvas_div.blur();\n",
       "        // select the cell after this one\n",
       "        var index = IPython.notebook.find_cell_index(this.cell_info[0]);\n",
       "        IPython.notebook.select(index + 1);\n",
       "    }\n",
       "}\n",
       "\n",
       "mpl.figure.prototype.handle_save = function(fig, msg) {\n",
       "    fig.ondownload(fig, null);\n",
       "}\n",
       "\n",
       "\n",
       "mpl.find_output_cell = function(html_output) {\n",
       "    // Return the cell and output element which can be found *uniquely* in the notebook.\n",
       "    // Note - this is a bit hacky, but it is done because the \"notebook_saving.Notebook\"\n",
       "    // IPython event is triggered only after the cells have been serialised, which for\n",
       "    // our purposes (turning an active figure into a static one), is too late.\n",
       "    var cells = IPython.notebook.get_cells();\n",
       "    var ncells = cells.length;\n",
       "    for (var i=0; i<ncells; i++) {\n",
       "        var cell = cells[i];\n",
       "        if (cell.cell_type === 'code'){\n",
       "            for (var j=0; j<cell.output_area.outputs.length; j++) {\n",
       "                var data = cell.output_area.outputs[j];\n",
       "                if (data.data) {\n",
       "                    // IPython >= 3 moved mimebundle to data attribute of output\n",
       "                    data = data.data;\n",
       "                }\n",
       "                if (data['text/html'] == html_output) {\n",
       "                    return [cell, data, j];\n",
       "                }\n",
       "            }\n",
       "        }\n",
       "    }\n",
       "}\n",
       "\n",
       "// Register the function which deals with the matplotlib target/channel.\n",
       "// The kernel may be null if the page has been refreshed.\n",
       "if (IPython.notebook.kernel != null) {\n",
       "    IPython.notebook.kernel.comm_manager.register_target('matplotlib', mpl.mpl_figure_comm);\n",
       "}\n"
      ],
      "text/plain": [
       "<IPython.core.display.Javascript object>"
      ]
     },
     "metadata": {},
     "output_type": "display_data"
    },
    {
     "data": {
      "text/html": [
       "<img src=\"data:image/png;base64,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\" width=\"999.75\">"
      ],
      "text/plain": [
       "<IPython.core.display.HTML object>"
      ]
     },
     "metadata": {},
     "output_type": "display_data"
    }
   ],
   "source": [
    "dual_train_plots(results.index,\n",
    "                 results.cost, results.val,\n",
    "                 results.cost, results.val)\n",
    "plt.tight_layout()\n",
    "plt.savefig(str(output / f'{name}_stats_a.png'))"
   ]
  },
  {
   "cell_type": "code",
   "execution_count": null,
   "metadata": {},
   "outputs": [],
   "source": [
    "##quit()"
   ]
  },
  {
   "cell_type": "code",
   "execution_count": null,
   "metadata": {},
   "outputs": [],
   "source": []
  },
  {
   "cell_type": "code",
   "execution_count": null,
   "metadata": {},
   "outputs": [],
   "source": []
  }
 ],
 "metadata": {
  "kernelspec": {
   "display_name": "goofit-june2020",
   "language": "python",
   "name": "goofit-june2020"
  },
  "language_info": {
   "codemirror_mode": {
    "name": "ipython",
    "version": 3
   },
   "file_extension": ".py",
   "mimetype": "text/x-python",
   "name": "python",
   "nbconvert_exporter": "python",
   "pygments_lexer": "ipython3",
   "version": "3.7.6"
  }
 },
 "nbformat": 4,
 "nbformat_minor": 2
}
