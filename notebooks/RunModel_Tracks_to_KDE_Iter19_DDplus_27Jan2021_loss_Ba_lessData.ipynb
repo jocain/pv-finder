{
 "cells": [
  {
   "cell_type": "code",
   "execution_count": 1,
   "metadata": {},
   "outputs": [],
   "source": [
    "##%matplotlib widget\n",
    "## with %matplotlib notebook: seems to require ipympl as part of environment, either\n",
    "## part of the conda environment or \"pip install ipympl\"\n",
    "## otherwise, does not show ANY plots in note\"book, plt.savefig() works\n",
    "%matplotlib notebook  \n",
    "##%matplotlib inline    ## --plt.savefig()  works, but re-sizing does NOT\n"
   ]
  },
  {
   "cell_type": "markdown",
   "metadata": {},
   "source": [
    "This notebook is the second attempt to read in track information and use it to predict the KDE used as input to PvFinder. This time, we are reading in poca KDEs rather than the original KDEs. \n",
    "\n",
    "collectdata_kde_C.py uses poca_z, poca_x, poca_y, major_axis_x, major_axis_y, and major_axis_z as the six track parameters (for the moment)\n"
   ]
  },
  {
   "cell_type": "markdown",
   "metadata": {},
   "source": [
    "Check the current GPU usage. Please try to be nice!"
   ]
  },
  {
   "cell_type": "code",
   "execution_count": 2,
   "metadata": {},
   "outputs": [
    {
     "name": "stdout",
     "output_type": "stream",
     "text": [
      "Wed Jan 27 11:25:32 2021       \n",
      "+-----------------------------------------------------------------------------+\n",
      "| NVIDIA-SMI 440.64.00    Driver Version: 440.64.00    CUDA Version: 10.2     |\n",
      "|-------------------------------+----------------------+----------------------+\n",
      "| GPU  Name        Persistence-M| Bus-Id        Disp.A | Volatile Uncorr. ECC |\n",
      "| Fan  Temp  Perf  Pwr:Usage/Cap|         Memory-Usage | GPU-Util  Compute M. |\n",
      "|===============================+======================+======================|\n",
      "|   0  TITAN V             Off  | 00000000:03:00.0 Off |                  N/A |\n",
      "| 21%   35C    P0    32W / 250W |      0MiB / 12066MiB |      0%      Default |\n",
      "+-------------------------------+----------------------+----------------------+\n",
      "|   1  Tesla P100-PCIE...  Off  | 00000000:83:00.0 Off |                    0 |\n",
      "| N/A   33C    P0    33W / 250W |      0MiB / 16280MiB |      0%      Default |\n",
      "+-------------------------------+----------------------+----------------------+\n",
      "|   2  TITAN V             Off  | 00000000:84:00.0 Off |                  N/A |\n",
      "| 22%   37C    P0    34W / 250W |      0MiB / 12066MiB |      0%      Default |\n",
      "+-------------------------------+----------------------+----------------------+\n",
      "                                                                               \n",
      "+-----------------------------------------------------------------------------+\n",
      "| Processes:                                                       GPU Memory |\n",
      "|  GPU       PID   Type   Process name                             Usage      |\n",
      "|=============================================================================|\n",
      "|  No running processes found                                                 |\n",
      "+-----------------------------------------------------------------------------+\n"
     ]
    }
   ],
   "source": [
    "!nvidia-smi"
   ]
  },
  {
   "cell_type": "markdown",
   "metadata": {},
   "source": [
    "> **WARNING**: The card numbers here are *not* the same as in CUDA. You have been warned."
   ]
  },
  {
   "cell_type": "markdown",
   "metadata": {},
   "source": [
    "This notebook is first attempt to read in track information and use it to predict the KDE used as input to PvFinder.\n"
   ]
  },
  {
   "cell_type": "markdown",
   "metadata": {},
   "source": [
    "## Imports"
   ]
  },
  {
   "cell_type": "code",
   "execution_count": 3,
   "metadata": {},
   "outputs": [],
   "source": [
    "import matplotlib.pyplot as plt\n",
    "import numpy as np\n",
    "import time\n",
    "import torch\n",
    "import pandas as pd\n",
    "\n",
    "# Python 3 standard library\n",
    "from pathlib import Path\n",
    "\n",
    "##from torchsummary import summary"
   ]
  },
  {
   "cell_type": "markdown",
   "metadata": {},
   "source": [
    "### Set up local parameters"
   ]
  },
  {
   "cell_type": "code",
   "execution_count": 4,
   "metadata": {},
   "outputs": [],
   "source": [
    "n_epochs = 80\n",
    "\n",
    "folder = '27Jan_DDplus_loss_Ba_iter19_floatAll_80epochs_1p5em5_4xwill'\n",
    "name   = folder\n",
    "\n",
    "# Make an output folder named \"name\" (change if you want)\n",
    "\n",
    "## Special instructions for those working on goofy at UC\n",
    "## Please be very careful to make sure that your folder\n",
    "## does not live in a subdirectory of your home directory\n",
    "## this disk has very little capacity. Instead, use \n",
    "## a subdirectory in /share/lazy with a symbolic link to\n",
    "## it in this (the notebooks) subdirectory\n",
    "folder = 'ML_dir/' + folder\n",
    "output = Path(folder)\n",
    "\n",
    "\n",
    "# Size of batches\n",
    "batch_size = 64 ## batch_size = 24 ---> 4763MiB / 12066MiB on Titan V\n",
    "# How fast to learn\n",
    "learning_rate = 1.5e-5"
   ]
  },
  {
   "cell_type": "markdown",
   "metadata": {},
   "source": [
    "Make the output directory if it does not exist:"
   ]
  },
  {
   "cell_type": "code",
   "execution_count": 5,
   "metadata": {},
   "outputs": [],
   "source": [
    "output.mkdir(exist_ok=True)"
   ]
  },
  {
   "cell_type": "markdown",
   "metadata": {},
   "source": [
    "## Get the helper functions\n",
    "\n",
    "Add the directory with the model\n",
    "definitions to the path so we can import from it:\n",
    "\n",
    "> When you type `import X`,\n",
    "Python searches `sys.path` for a python\n",
    "file named `X.py` to import. So we need to add the model directory to the path."
   ]
  },
  {
   "cell_type": "code",
   "execution_count": 6,
   "metadata": {
    "scrolled": true
   },
   "outputs": [],
   "source": [
    "from model.collectdata_kde_Ellipsoids import collect_t2kde_data\n",
    "\n",
    "##  It takes 9 input features (poca centers + (A,B,C,D,E,F)) . \n",
    "from model.models_kde import TracksToKDE_Ellipsoids_DDplus as Model\n",
    "\n",
    "# kde_loss_Ba is a Chi2 loss (go and look at it!)\n",
    "from model.kde_loss_Ba import Loss\n",
    "\n",
    "from model.training_kde import trainNet, select_gpu, Results\n",
    "from model.plots import dual_train_plots, replace_in_ax"
   ]
  },
  {
   "cell_type": "code",
   "execution_count": 7,
   "metadata": {},
   "outputs": [],
   "source": [
    "# This gets built up during the run - do not rerun this cell\n",
    "results = pd.DataFrame([], columns=Results._fields)"
   ]
  },
  {
   "cell_type": "markdown",
   "metadata": {},
   "source": [
    "Set up Torch device configuration. All tensors and model parameters need to know where to be put.\n",
    "This takes a BUS ID number: The BUS ID is the same as the listing at the top of this script."
   ]
  },
  {
   "cell_type": "code",
   "execution_count": 8,
   "metadata": {},
   "outputs": [
    {
     "name": "stdout",
     "output_type": "stream",
     "text": [
      "1 available GPUs (initially using device 0):\n",
      "  0 TITAN V\n"
     ]
    }
   ],
   "source": [
    "# either 0 or 2 on goofy (i.e. TITAN V) [1 or 2 on sleepy RTX 2080TI]\n",
    "device = select_gpu(2)\n",
    "##device = \"cpu\""
   ]
  },
  {
   "cell_type": "markdown",
   "metadata": {},
   "source": [
    "## Loading data\n",
    "\n",
    "Load the dataset, split into parts, then move to device (see `collectdata.py` in the `../model` directory)"
   ]
  },
  {
   "cell_type": "markdown",
   "metadata": {},
   "source": [
    "# Preparing the model"
   ]
  },
  {
   "cell_type": "markdown",
   "metadata": {},
   "source": [
    "Prepare a model, use multiple GPUs if they are VISIBLE, and move the model to the device."
   ]
  },
  {
   "cell_type": "code",
   "execution_count": 9,
   "metadata": {
    "scrolled": true
   },
   "outputs": [],
   "source": [
    "##print(\"Let's use\", torch.cuda.device_count(), \"GPUs!\")\n",
    "##if torch.cuda.device_count() > 1:\n",
    "##    model = torch.nn.DataParallel(model)"
   ]
  },
  {
   "cell_type": "code",
   "execution_count": 10,
   "metadata": {},
   "outputs": [
    {
     "name": "stdout",
     "output_type": "stream",
     "text": [
      "ct, child =  0    Linear(in_features=9, out_features=50, bias=True)\n",
      "ct, child =  1    Linear(in_features=50, out_features=50, bias=True)\n",
      "ct, child =  2    Linear(in_features=50, out_features=50, bias=True)\n",
      "ct, child =  3    Linear(in_features=50, out_features=50, bias=True)\n",
      "ct, child =  4    Linear(in_features=50, out_features=50, bias=True)\n",
      "ct, child =  5    Linear(in_features=50, out_features=50, bias=True)\n",
      "ct, child =  6    Linear(in_features=50, out_features=50, bias=True)\n",
      "ct, child =  7    Linear(in_features=50, out_features=50, bias=True)\n",
      "ct, child =  8    Linear(in_features=50, out_features=50, bias=True)\n",
      "ct, child =  9    Linear(in_features=50, out_features=50, bias=True)\n",
      "ct, child =  10    Linear(in_features=50, out_features=50, bias=True)\n",
      "ct, child =  11    Linear(in_features=50, out_features=16000, bias=True)\n",
      "ct, child =  12    Conv1d(4, 25, kernel_size=(25,), stride=(1,), padding=(12,))\n",
      "ct, child =  13    Conv1d(25, 1, kernel_size=(5,), stride=(1,), padding=(2,))\n",
      "ct, child =  14    Linear(in_features=4000, out_features=4000, bias=True)\n",
      "ct, child =  15    Conv1d(25, 1, kernel_size=(15,), stride=(1,), padding=(7,))\n",
      "ct, child =  16    Dropout(p=0.15, inplace=False)\n",
      "ct, child =  17    Dropout(p=0.15, inplace=False)\n"
     ]
    }
   ],
   "source": [
    "## a comment on the web at https://pytorch.org/docs/stable/optim.html says\n",
    "\"\"\"\n",
    "If you need to move a model to GPU via .cuda(), please do so before constructing optimizers for it. \n",
    "Parameters of a model after .cuda() will be different objects with those before the call.\n",
    "\n",
    "In general, you should make sure that optimized parameters live in consistent locations when \n",
    "optimizers are constructed and used.\n",
    "\"\"\"\n",
    "## so move this here (although we are using model.to(device) not explicitly using .cuda()\n",
    "\n",
    "nOut1 = 50\n",
    "nOut2 = 50\n",
    "nOut3 = 50\n",
    "nOut4 = 50\n",
    "nOut5 = 50\n",
    "nOut6 = 50\n",
    "nOut7 = 50\n",
    "nOut8 = 50\n",
    "nOut9 = 50\n",
    "nOut10 = 50\n",
    "nOut11 = 50\n",
    "latentChannels = 4\n",
    "model = Model(nOut1,nOut2,nOut3,nOut4,nOut5,nOut6,nOut7,nOut8,nOut9,nOut10,nOut11,latentChannels)\n",
    "\n",
    "##summary(model, input_size=(4, 4000))\n",
    "##print(model.parameters)\n",
    "\n",
    "## add the following code to allow the user to freeze the some of the weights corresponding \n",
    "## to those taken from an earlier model trained with the original target histograms\n",
    "## presumably -- this leaves either the perturbative filter \"fixed\" and lets the \n",
    "## learning focus on the non-perturbative features, so get started faster, or vice versa\n",
    "ct = 0\n",
    "for child in model.children():\n",
    "  print('ct, child = ',ct, \"  \", child)\n",
    "  if ct < 0:\n",
    "    print(\"     About to set param.requires_grad=False for ct = \", ct, \"params\")\n",
    "    for param in child.parameters():\n",
    "        # fixing parameters\n",
    "        param.requires_grad = False \n",
    "  ct += 1\n",
    "##  mds 200121 loss = Loss(epsilon=1e-5,coefficient=1.0)\n",
    "##  loss = Loss(epsilon=1e-5,coefficient=2.5)\n",
    "##loss = Loss(epsilon=3e-5, debug=False)\n",
    "loss = Loss(epsilon=3e-5)"
   ]
  },
  {
   "cell_type": "markdown",
   "metadata": {},
   "source": [
    "Let's move the model's weight matricies to the GPU:"
   ]
  },
  {
   "cell_type": "code",
   "execution_count": 11,
   "metadata": {
    "scrolled": true
   },
   "outputs": [],
   "source": [
    "model = model.to(device)"
   ]
  },
  {
   "cell_type": "code",
   "execution_count": 12,
   "metadata": {
    "scrolled": true
   },
   "outputs": [],
   "source": [
    "optimizer = torch.optim.Adam(model.parameters(), lr=learning_rate)\n",
    "##optimizer = torch.optim.SGD(model.parameters(), lr=learning_rate)"
   ]
  },
  {
   "cell_type": "code",
   "execution_count": 13,
   "metadata": {
    "scrolled": true
   },
   "outputs": [
    {
     "name": "stdout",
     "output_type": "stream",
     "text": [
      "output =  ML_dir/27Jan_DDplus_loss_Ba_iter19_floatAll_80epochs_1p5em5_4xwill\n",
      "for model_dict\n",
      "index, k =   0    layer1.weight\n",
      "index, k =   1    layer1.bias\n",
      "index, k =   2    layer2.weight\n",
      "index, k =   3    layer2.bias\n",
      "index, k =   4    layer3.weight\n",
      "index, k =   5    layer3.bias\n",
      "index, k =   6    layer4.weight\n",
      "index, k =   7    layer4.bias\n",
      "index, k =   8    layer5.weight\n",
      "index, k =   9    layer5.bias\n",
      "index, k =   10    layer6.weight\n",
      "index, k =   11    layer6.bias\n",
      "index, k =   12    layer7.weight\n",
      "index, k =   13    layer7.bias\n",
      "index, k =   14    layer8.weight\n",
      "index, k =   15    layer8.bias\n",
      "index, k =   16    layer9.weight\n",
      "index, k =   17    layer9.bias\n",
      "index, k =   18    layer10.weight\n",
      "index, k =   19    layer10.bias\n",
      "index, k =   20    layer11.weight\n",
      "index, k =   21    layer11.bias\n",
      "index, k =   22    layer12new.weight\n",
      "index, k =   23    layer12new.bias\n",
      "index, k =   24    conv1.weight\n",
      "index, k =   25    conv1.bias\n",
      "index, k =   26    conv2.weight\n",
      "index, k =   27    conv2.bias\n",
      "index, k =   28    fc1.weight\n",
      "index, k =   29    fc1.bias\n",
      "index, k =   30    finalFilter.weight\n",
      "index, k =   31    finalFilter.bias\n",
      "dict_name =  ML/25Jan_DDplus_loss_Ba_iter18_floatAll_60epochs_1p5em5_4xwill/25Jan_DDplus_loss_Ba_iter18_floatAll_60epochs_1p5em5_4xwill_final.pyt\n",
      " \n",
      "  for pretrained_dict\n",
      "index, k =   0    layer1.weight\n",
      "index, k =   1    layer1.bias\n",
      "index, k =   2    layer2.weight\n",
      "index, k =   3    layer2.bias\n",
      "index, k =   4    layer3.weight\n",
      "index, k =   5    layer3.bias\n",
      "index, k =   6    layer4.weight\n",
      "index, k =   7    layer4.bias\n",
      "index, k =   8    layer5.weight\n",
      "index, k =   9    layer5.bias\n",
      "index, k =   10    layer6.weight\n",
      "index, k =   11    layer6.bias\n",
      "index, k =   12    layer7.weight\n",
      "index, k =   13    layer7.bias\n",
      "index, k =   14    layer8.weight\n",
      "index, k =   15    layer8.bias\n",
      "index, k =   16    layer9.weight\n",
      "index, k =   17    layer9.bias\n",
      "index, k =   18    layer10.weight\n",
      "index, k =   19    layer10.bias\n",
      "index, k =   20    layer11.weight\n",
      "index, k =   21    layer11.bias\n",
      "index, k =   22    layer12new.weight\n",
      "index, k =   23    layer12new.bias\n",
      "index, k =   24    conv1.weight\n",
      "index, k =   25    conv1.bias\n",
      "index, k =   26    conv2.weight\n",
      "index, k =   27    conv2.bias\n",
      "index, k =   28    fc1.weight\n",
      "index, k =   29    fc1.bias\n",
      "index, k =   30    finalFilter.weight\n",
      "index, k =   31    finalFilter.bias\n",
      "pretrained_dict iterated\n"
     ]
    },
    {
     "data": {
      "text/plain": [
       "<All keys matched successfully>"
      ]
     },
     "execution_count": 13,
     "metadata": {},
     "output_type": "execute_result"
    }
   ],
   "source": [
    "print('output = ',output)\n",
    "##print('oldOutput = ',oldOutput)\n",
    "##  use the first four layers from a pre-existing model\n",
    "##  see example at https://discuss.pytorch.org/t/how-to-load-part-of-pre-trained-model/1113\n",
    "\n",
    "##   ML -> /share/lazy/sokoloff/ML\n",
    "model_dict = model.state_dict()\n",
    "## mds 190725 for debugging\n",
    "print(\"for model_dict\")\n",
    "index = 0\n",
    "for k,v in model_dict.items():\n",
    "    print(\"index, k =  \",index,\"  \",k)\n",
    "    index = index+1\n",
    "##    print(\"value = \", v)\n",
    " \n",
    "updated_dict = model_dict\n",
    "##print(\"updated_dict = \",updated_dict)\n",
    "## when starting \"ab initio\", reduce biases as the bias gets summed for each track\n",
    "## contributing to the predicted KDE\n",
    "updated_dict[\"layer1.bias\"] = 0.005*model_dict[\"layer1.bias\"]\n",
    "updated_dict[\"layer2.bias\"] = 0.005*model_dict[\"layer2.bias\"]\n",
    "updated_dict[\"layer3.bias\"] = 0.005*model_dict[\"layer3.bias\"]\n",
    "updated_dict[\"layer4.bias\"] = 0.005*model_dict[\"layer4.bias\"]\n",
    "updated_dict[\"layer5.bias\"] = 0.005*model_dict[\"layer5.bias\"]\n",
    "updated_dict[\"layer6.bias\"] = 0.005*model_dict[\"layer6.bias\"]\n",
    "updated_dict[\"layer7.bias\"] = 0.005*model_dict[\"layer7.bias\"]\n",
    "updated_dict[\"layer8.bias\"] = 0.005*model_dict[\"layer8.bias\"]\n",
    "updated_dict[\"layer9.bias\"] = 0.005*model_dict[\"layer9.bias\"]\n",
    "updated_dict[\"layer10.bias\"] = 0.005*model_dict[\"layer10.bias\"]\n",
    "updated_dict[\"layer11.bias\"] = 0.005*model_dict[\"layer11.bias\"]\n",
    "\n",
    "model.load_state_dict(updated_dict,strict=False)\n",
    "\n",
    "model_dict = model.state_dict()\n",
    "##print(\"updated model_dict = \",model_dict)\n",
    "\n",
    "## print(\" \\n\",\"  for pretrained_dict\")\n",
    "## index = 0\n",
    "##for k,v in pretrained_dict.items():\n",
    "##    print(\"index, k =  \",index,\"  \",k)\n",
    "##    index = index+1\n",
    "## mds  \n",
    "\n",
    "##pretrained_dict = torch.load('ML/29July2020_Trks_to_KDE_C_lossB_100epochs_b64_1m3_nOut_50x50/29July2020_Trks_to_KDE_C_lossB_100epochs_b64_1m3_nOut_50x50_final.pyt')\n",
    "##print(\"model_dict instantiated\")\n",
    "# 1. filter out unnecessary keys\n",
    "##pretrained_dict = {k: v for k, v in pretrained_dict.items() if k in model_dict}\n",
    "##print(\"pretrained_dict iterated\")\n",
    "# 2. overwrite entries in the existing state dict\n",
    "##model_dict.update(pretrained_dict) \n",
    "##\n",
    "#   when starting from a model with a fully connected last layer rather than a convolutional layer\n",
    "# 3. load the new state dict\n",
    "#   need to use strict=False as the two models state model attributes do not agree exactly\n",
    "#   see https://pytorch.org/docs/master/_modules/torch/nn/modules/module.html#Module.load_state_dict\n",
    "\n",
    "##model.load_state_dict(pretrained_dict,strict=False)\n",
    "\n",
    "## print('model_dict =    ', model_dict)\n",
    "\n",
    "## finished at training cost = 1.46, validation cost = 1.50\n",
    "##d_folder = '25December__DDplus_loss_Ba_iter7_floatAll_800epochs_4em6'\n",
    "d_folder = '25Jan_DDplus_loss_Ba_iter18_floatAll_60epochs_1p5em5_4xwill'\n",
    "d_name = d_folder\n",
    "##  for 24Jan_DDplus_loss_Ba_iter17_floatAll_150epochs_1p5em5_4xwill use suffix 87\n",
    "##  as this is the last epoch that ran before I killed the job (don't ask)\n",
    "suffix = 'final'\n",
    "dict_name = 'ML/' + d_folder + '/' + d_name + '_'+ suffix + '.pyt'\n",
    "print('dict_name = ',dict_name)\n",
    "pretrained_dict = torch.load(dict_name)\n",
    "\n",
    "print(\" \")\n",
    "print(\"  for pretrained_dict\")\n",
    "index = 0\n",
    "for k,v in pretrained_dict.items():\n",
    "    print(\"index, k =  \",index,\"  \",k)\n",
    "    index = index+1\n",
    " \n",
    "\n",
    "##print(\"model_dict instantiated\")\n",
    "# 1. filter out unnecessary keys\n",
    "pretrained_dict = {k: v for k, v in pretrained_dict.items() if k in model_dict}\n",
    "print(\"pretrained_dict iterated\")\n",
    "# 2. overwrite entries in the existing state dict\n",
    "model_dict.update(pretrained_dict) \n",
    "##\n",
    "#   when starting from a model with a fully connected last layer rather than a convolutional layer\n",
    "# 3. load the new state dict\n",
    "#   need to use strict=False as the two models state model attributes do not agree exactly\n",
    "#   see https://pytorch.org/docs/master/_modules/torch/nn/modules/module.html#Module.load_state_dict\n",
    "\n",
    "model.load_state_dict(pretrained_dict,strict=False)\n",
    "\n"
   ]
  },
  {
   "cell_type": "code",
   "execution_count": 14,
   "metadata": {},
   "outputs": [],
   "source": [
    "##print('validation.dataset.tensors = ',validation.dataset.tensors)\n",
    "fig_size = plt.rcParams[\"figure.figsize\"]\n",
    "fig_size[0] = 10\n",
    "fig_size[1] = 4\n",
    "plt.rcParams[\"figure.figsize\"] = fig_size"
   ]
  },
  {
   "cell_type": "code",
   "execution_count": 15,
   "metadata": {},
   "outputs": [
    {
     "name": "stdout",
     "output_type": "stream",
     "text": [
      "Loading data...\n",
      "pocaMx.shape =  (80000,)\n",
      "nEvts =  80000\n",
      "len(pocaMx[0]) =  199\n",
      "len(pocaMx[1]) =  25\n",
      "len(pocaMx[2]) =  369\n",
      "len(pocaMx[3]) =  143\n",
      "len(pocaMx[4]) =  160\n",
      "majorAxis.shape =  (80000, 3)\n",
      "minorAxis_1.shape =  (80000, 3)\n",
      "minorAxis_2.shape =  (80000, 3)\n",
      "have entered six_ellipsoid_parameters\n",
      "  \n",
      " \n",
      "  nEvts =  80000\n",
      " iEvt, nTrks =  0 199\n",
      " iEvt, nTrks =  1 25\n",
      " iEvt, nTrks =  2 369\n",
      " iEvt, nTrks =  3 143\n",
      " iEvt, nTrks =  4 160\n",
      " iEvt, nTrks =  5 260\n",
      " iEvt, nTrks =  6 237\n",
      " iEvt, nTrks =  7 327\n",
      " iEvt, nTrks =  8 178\n",
      " iEvt, nTrks =  9 106\n",
      "A.shape =  (80000,)\n",
      "majorAxis[iTrk][0][0] =  0.00045611936\n",
      "majorAxis[iTrk][1][0] =  -4.8292455e-05\n",
      "majorAxis[iTrk][2][0] =  0.090019904\n",
      "minorAxis_1[iTrk][0][0] =  -1.8602173\n",
      "minorAxis_1[iTrk][1][0] =  -17.569641\n",
      "minorAxis_1[iTrk][2][0] =  4.7891795e-08\n",
      "minorAxis_2[iTrk][0][0] =  -17.569414\n",
      "minorAxis_2[iTrk][1][0] =  1.8601931\n",
      "minorAxis_2[iTrk][2][0] =  0.0900199\n",
      "  \n",
      "majorAxis[iTrk][0][0] =  0.002360258\n",
      "majorAxis[iTrk][1][0] =  -0.007426616\n",
      "majorAxis[iTrk][2][0] =  0.3710108\n",
      "minorAxis_1[iTrk][0][0] =  -16.837948\n",
      "minorAxis_1[iTrk][1][0] =  -5.3512807\n",
      "minorAxis_1[iTrk][2][0] =  8.157131e-09\n",
      "minorAxis_2[iTrk][0][0] =  -5.3501005\n",
      "minorAxis_2[iTrk][1][0] =  16.834236\n",
      "minorAxis_2[iTrk][2][0] =  0.3710108\n",
      "  \n",
      "majorAxis[iTrk][0][0] =  6.220712e-05\n",
      "majorAxis[iTrk][1][0] =  -4.4594188e-05\n",
      "majorAxis[iTrk][2][0] =  0.036773544\n",
      "minorAxis_1[iTrk][0][0] =  10.293747\n",
      "minorAxis_1[iTrk][1][0] =  14.359369\n",
      "minorAxis_1[iTrk][2][0] =  1.571041e-06\n",
      "minorAxis_2[iTrk][0][0] =  14.359338\n",
      "minorAxis_2[iTrk][1][0] =  -10.293725\n",
      "minorAxis_2[iTrk][2][0] =  -0.03677354\n",
      "  \n",
      "majorAxis[iTrk][0][0] =  0.0033452737\n",
      "majorAxis[iTrk][1][0] =  0.00013028442\n",
      "majorAxis[iTrk][2][0] =  0.2431933\n",
      "minorAxis_1[iTrk][0][0] =  0.6875674\n",
      "minorAxis_1[iTrk][1][0] =  -17.65446\n",
      "minorAxis_1[iTrk][2][0] =  -6.6602626e-09\n",
      "minorAxis_2[iTrk][0][0] =  -17.652788\n",
      "minorAxis_2[iTrk][1][0] =  -0.68750226\n",
      "minorAxis_2[iTrk][2][0] =  0.2431933\n",
      "  \n",
      "majorAxis[iTrk][0][0] =  -0.00068196515\n",
      "majorAxis[iTrk][1][0] =  -0.00044562915\n",
      "majorAxis[iTrk][2][0] =  0.119970225\n",
      "minorAxis_1[iTrk][0][0] =  9.664597\n",
      "minorAxis_1[iTrk][1][0] =  -14.790141\n",
      "minorAxis_1[iTrk][2][0] =  1.9819232e-08\n",
      "minorAxis_2[iTrk][0][0] =  -14.789802\n",
      "minorAxis_2[iTrk][1][0] =  -9.664374\n",
      "minorAxis_2[iTrk][2][0] =  -0.11997023\n",
      "  \n",
      "majorAxis[iTrk][0][0] =  -8.245073e-05\n",
      "majorAxis[iTrk][1][0] =  0.00015860004\n",
      "majorAxis[iTrk][2][0] =  0.05619731\n",
      "minorAxis_1[iTrk][0][0] =  -15.676071\n",
      "minorAxis_1[iTrk][1][0] =  -8.149452\n",
      "minorAxis_1[iTrk][2][0] =  4.1105773e-07\n",
      "minorAxis_2[iTrk][0][0] =  -8.14941\n",
      "minorAxis_2[iTrk][1][0] =  15.675991\n",
      "minorAxis_2[iTrk][2][0] =  -0.056197315\n",
      "  \n",
      "majorAxis[iTrk][0][0] =  -0.00015151131\n",
      "majorAxis[iTrk][1][0] =  0.00067339616\n",
      "majorAxis[iTrk][2][0] =  0.11042937\n",
      "minorAxis_1[iTrk][0][0] =  17.236937\n",
      "minorAxis_1[iTrk][1][0] =  3.8782384\n",
      "minorAxis_1[iTrk][2][0] =  2.3217373e-08\n",
      "minorAxis_2[iTrk][0][0] =  3.8781626\n",
      "minorAxis_2[iTrk][1][0] =  -17.236599\n",
      "minorAxis_2[iTrk][2][0] =  0.11042936\n",
      "  \n",
      "majorAxis[iTrk][0][0] =  -7.577422e-05\n",
      "majorAxis[iTrk][1][0] =  -0.00036802414\n",
      "majorAxis[iTrk][2][0] =  0.08147708\n",
      "minorAxis_1[iTrk][0][0] =  -17.304853\n",
      "minorAxis_1[iTrk][1][0] =  3.5629773\n",
      "minorAxis_1[iTrk][2][0] =  5.80501e-09\n",
      "minorAxis_2[iTrk][0][0] =  3.5629392\n",
      "minorAxis_2[iTrk][1][0] =  17.304668\n",
      "minorAxis_2[iTrk][2][0] =  0.081477076\n",
      "  \n",
      "majorAxis[iTrk][0][0] =  0.00013397264\n",
      "majorAxis[iTrk][1][0] =  0.00094400026\n",
      "majorAxis[iTrk][2][0] =  0.12978876\n",
      "minorAxis_1[iTrk][0][0] =  17.492561\n",
      "minorAxis_1[iTrk][1][0] =  -2.4825466\n",
      "minorAxis_1[iTrk][2][0] =  1.1329301e-08\n",
      "minorAxis_2[iTrk][0][0] =  -2.4824798\n",
      "minorAxis_2[iTrk][1][0] =  -17.492088\n",
      "minorAxis_2[iTrk][2][0] =  0.12978874\n",
      "  \n",
      "majorAxis[iTrk][0][0] =  0.00043501743\n",
      "majorAxis[iTrk][1][0] =  -0.0016521378\n",
      "majorAxis[iTrk][2][0] =  0.17373301\n",
      "minorAxis_1[iTrk][0][0] =  -17.0855\n",
      "minorAxis_1[iTrk][1][0] =  -4.4987106\n",
      "minorAxis_1[iTrk][2][0] =  -7.7275175e-08\n",
      "minorAxis_2[iTrk][0][0] =  -4.4984937\n",
      "minorAxis_2[iTrk][1][0] =  17.084677\n",
      "minorAxis_2[iTrk][2][0] =  0.17373303\n",
      "  \n",
      "len(X) =  80000\n",
      "len(Xlist) =  1\n",
      "Loaded /share/lazy/will/data/June30_2020_80k_1.h5 in 159.9 s\n",
      "pocaMx.shape =  (80000,)\n",
      "nEvts =  80000\n",
      "len(pocaMx[0]) =  222\n",
      "len(pocaMx[1]) =  133\n",
      "len(pocaMx[2]) =  259\n",
      "len(pocaMx[3]) =  114\n",
      "len(pocaMx[4]) =  143\n",
      "majorAxis.shape =  (80000, 3)\n",
      "minorAxis_1.shape =  (80000, 3)\n",
      "minorAxis_2.shape =  (80000, 3)\n",
      "have entered six_ellipsoid_parameters\n",
      "  \n",
      " \n",
      "  nEvts =  80000\n",
      " iEvt, nTrks =  0 222\n",
      " iEvt, nTrks =  1 133\n",
      " iEvt, nTrks =  2 259\n",
      " iEvt, nTrks =  3 114\n",
      " iEvt, nTrks =  4 143\n",
      " iEvt, nTrks =  5 136\n",
      " iEvt, nTrks =  6 397\n",
      " iEvt, nTrks =  7 370\n",
      " iEvt, nTrks =  8 97\n",
      " iEvt, nTrks =  9 67\n",
      "A.shape =  (80000,)\n",
      "majorAxis[iTrk][0][0] =  -0.001036478\n",
      "majorAxis[iTrk][1][0] =  0.0009833863\n",
      "majorAxis[iTrk][2][0] =  0.15887721\n",
      "minorAxis_1[iTrk][0][0] =  -12.160475\n",
      "minorAxis_1[iTrk][1][0] =  -12.817002\n",
      "minorAxis_1[iTrk][2][0] =  0.0\n",
      "minorAxis_2[iTrk][0][0] =  -12.816484\n",
      "minorAxis_2[iTrk][1][0] =  12.159985\n",
      "minorAxis_2[iTrk][2][0] =  -0.15887721\n",
      "  \n",
      "majorAxis[iTrk][0][0] =  0.0016579849\n",
      "majorAxis[iTrk][1][0] =  0.0020989499\n",
      "majorAxis[iTrk][2][0] =  0.21738033\n",
      "minorAxis_1[iTrk][0][0] =  -13.864233\n",
      "minorAxis_1[iTrk][1][0] =  10.95152\n",
      "minorAxis_1[iTrk][2][0] =  -3.3017489e-09\n",
      "minorAxis_2[iTrk][0][0] =  10.95069\n",
      "minorAxis_2[iTrk][1][0] =  13.863184\n",
      "minorAxis_2[iTrk][2][0] =  -0.21738033\n",
      "  \n",
      "majorAxis[iTrk][0][0] =  0.00012481198\n",
      "majorAxis[iTrk][1][0] =  -0.00028747538\n",
      "majorAxis[iTrk][2][0] =  0.07441149\n",
      "minorAxis_1[iTrk][0][0] =  -16.206305\n",
      "minorAxis_1[iTrk][1][0] =  -7.036224\n",
      "minorAxis_1[iTrk][2][0] =  5.3456716e-08\n",
      "minorAxis_2[iTrk][0][0] =  -7.0361605\n",
      "minorAxis_2[iTrk][1][0] =  16.20616\n",
      "minorAxis_2[iTrk][2][0] =  0.07441148\n",
      "  \n",
      "majorAxis[iTrk][0][0] =  -0.007920195\n",
      "majorAxis[iTrk][1][0] =  -0.009694931\n",
      "majorAxis[iTrk][2][0] =  0.47021532\n",
      "minorAxis_1[iTrk][0][0] =  -13.682467\n",
      "minorAxis_1[iTrk][1][0] =  11.177781\n",
      "minorAxis_1[iTrk][2][0] =  1.8638048e-10\n",
      "minorAxis_2[iTrk][0][0] =  11.173822\n",
      "minorAxis_2[iTrk][1][0] =  13.677622\n",
      "minorAxis_2[iTrk][2][0] =  0.47021535\n",
      "  \n",
      "majorAxis[iTrk][0][0] =  0.00038854493\n",
      "majorAxis[iTrk][1][0] =  0.0009230774\n",
      "majorAxis[iTrk][2][0] =  0.13301943\n",
      "minorAxis_1[iTrk][0][0] =  -16.284061\n",
      "minorAxis_1[iTrk][1][0] =  6.854344\n",
      "minorAxis_1[iTrk][2][0] =  2.2469074e-07\n",
      "minorAxis_2[iTrk][0][0] =  6.8541493\n",
      "minorAxis_2[iTrk][1][0] =  16.283602\n",
      "minorAxis_2[iTrk][2][0] =  -0.13301945\n",
      "  \n",
      "majorAxis[iTrk][0][0] =  -5.6093595e-05\n",
      "majorAxis[iTrk][1][0] =  0.000114469876\n",
      "majorAxis[iTrk][2][0] =  0.04745733\n",
      "minorAxis_1[iTrk][0][0] =  15.865369\n",
      "minorAxis_1[iTrk][1][0] =  7.774496\n",
      "minorAxis_1[iTrk][2][0] =  1.8465234e-06\n",
      "minorAxis_2[iTrk][0][0] =  7.774468\n",
      "minorAxis_2[iTrk][1][0] =  -15.865313\n",
      "minorAxis_2[iTrk][2][0] =  0.04745733\n",
      "  \n",
      "majorAxis[iTrk][0][0] =  9.375396e-05\n",
      "majorAxis[iTrk][1][0] =  0.0002926058\n",
      "majorAxis[iTrk][2][0] =  0.07367872\n",
      "minorAxis_1[iTrk][0][0] =  -16.825275\n",
      "minorAxis_1[iTrk][1][0] =  5.390994\n",
      "minorAxis_1[iTrk][2][0] =  -2.1861728e-08\n",
      "minorAxis_2[iTrk][0][0] =  5.3909473\n",
      "minorAxis_2[iTrk][1][0] =  16.825129\n",
      "minorAxis_2[iTrk][2][0] =  -0.07367872\n",
      "  \n",
      "majorAxis[iTrk][0][0] =  -1.1543522e-06\n",
      "majorAxis[iTrk][1][0] =  2.8112001e-05\n",
      "majorAxis[iTrk][2][0] =  0.022295665\n",
      "minorAxis_1[iTrk][0][0] =  -17.652967\n",
      "minorAxis_1[iTrk][1][0] =  -0.7248769\n",
      "minorAxis_1[iTrk][2][0] =  1.7815448e-07\n",
      "minorAxis_2[iTrk][0][0] =  -0.7248763\n",
      "minorAxis_2[iTrk][1][0] =  17.652954\n",
      "minorAxis_2[iTrk][2][0] =  -0.022295661\n",
      "  \n",
      "majorAxis[iTrk][0][0] =  -0.2612214\n",
      "majorAxis[iTrk][1][0] =  0.83076316\n",
      "majorAxis[iTrk][2][0] =  3.8745012\n",
      "minorAxis_1[iTrk][0][0] =  -16.85429\n",
      "minorAxis_1[iTrk][1][0] =  -5.299587\n",
      "minorAxis_1[iTrk][2][0] =  2.0865195e-11\n",
      "minorAxis_2[iTrk][0][0] =  -5.1705856\n",
      "minorAxis_2[iTrk][1][0] =  16.444027\n",
      "minorAxis_2[iTrk][2][0] =  -3.874501\n",
      "  \n",
      "majorAxis[iTrk][0][0] =  -0.057592034\n",
      "majorAxis[iTrk][1][0] =  0.06503555\n",
      "majorAxis[iTrk][2][0] =  1.2373537\n",
      "minorAxis_1[iTrk][0][0] =  13.227038\n",
      "minorAxis_1[iTrk][1][0] =  11.713163\n",
      "minorAxis_1[iTrk][2][0] =  1.7679876e-10\n",
      "minorAxis_2[iTrk][0][0] =  11.684402\n",
      "minorAxis_2[iTrk][1][0] =  -13.194561\n",
      "minorAxis_2[iTrk][2][0] =  1.2373537\n",
      "  \n",
      "len(X) =  80000\n",
      "len(Xlist) =  2\n",
      "Loaded /share/lazy/will/data/June30_2020_80k_2.h5 in 161.9 s\n",
      "pocaMx.shape =  (80000,)\n"
     ]
    },
    {
     "name": "stdout",
     "output_type": "stream",
     "text": [
      "nEvts =  80000\n",
      "len(pocaMx[0]) =  196\n",
      "len(pocaMx[1]) =  35\n",
      "len(pocaMx[2]) =  265\n",
      "len(pocaMx[3]) =  128\n",
      "len(pocaMx[4]) =  124\n",
      "majorAxis.shape =  (80000, 3)\n",
      "minorAxis_1.shape =  (80000, 3)\n",
      "minorAxis_2.shape =  (80000, 3)\n",
      "have entered six_ellipsoid_parameters\n",
      "  \n",
      " \n",
      "  nEvts =  80000\n",
      " iEvt, nTrks =  0 196\n",
      " iEvt, nTrks =  1 35\n",
      " iEvt, nTrks =  2 265\n",
      " iEvt, nTrks =  3 128\n",
      " iEvt, nTrks =  4 124\n",
      " iEvt, nTrks =  5 122\n",
      " iEvt, nTrks =  6 300\n",
      " iEvt, nTrks =  7 179\n",
      " iEvt, nTrks =  8 243\n",
      " iEvt, nTrks =  9 112\n",
      "A.shape =  (80000,)\n",
      "majorAxis[iTrk][0][0] =  -2.440992e-05\n",
      "majorAxis[iTrk][1][0] =  -0.00038087237\n",
      "majorAxis[iTrk][2][0] =  0.08211532\n",
      "minorAxis_1[iTrk][0][0] =  -17.631672\n",
      "minorAxis_1[iTrk][1][0] =  1.130005\n",
      "minorAxis_1[iTrk][2][0] =  4.7444193e-08\n",
      "minorAxis_2[iTrk][0][0] =  1.1299927\n",
      "minorAxis_2[iTrk][1][0] =  17.631481\n",
      "minorAxis_2[iTrk][2][0] =  0.08211532\n",
      "  \n",
      "majorAxis[iTrk][0][0] =  -0.02277395\n",
      "majorAxis[iTrk][1][0] =  0.0014473597\n",
      "majorAxis[iTrk][2][0] =  0.6347583\n",
      "minorAxis_1[iTrk][0][0] =  -1.1205891\n",
      "minorAxis_1[iTrk][1][0] =  -17.632273\n",
      "minorAxis_1[iTrk][2][0] =  2.1543272e-09\n",
      "minorAxis_2[iTrk][0][0] =  -17.620888\n",
      "minorAxis_2[iTrk][1][0] =  1.1198657\n",
      "minorAxis_2[iTrk][2][0] =  -0.63475823\n",
      "  \n",
      "majorAxis[iTrk][0][0] =  0.0004024825\n",
      "majorAxis[iTrk][1][0] =  -0.00023784715\n",
      "majorAxis[iTrk][2][0] =  0.090883136\n",
      "minorAxis_1[iTrk][0][0] =  -8.988615\n",
      "minorAxis_1[iTrk][1][0] =  -15.210441\n",
      "minorAxis_1[iTrk][2][0] =  -6.56547e-08\n",
      "minorAxis_2[iTrk][0][0] =  -15.21024\n",
      "minorAxis_2[iTrk][1][0] =  8.988497\n",
      "minorAxis_2[iTrk][2][0] =  0.090883136\n",
      "  \n",
      "majorAxis[iTrk][0][0] =  0.0068744724\n",
      "majorAxis[iTrk][1][0] =  0.0017050834\n",
      "majorAxis[iTrk][2][0] =  0.3537121\n",
      "minorAxis_1[iTrk][0][0] =  4.2532983\n",
      "minorAxis_1[iTrk][1][0] =  -17.148241\n",
      "minorAxis_1[iTrk][2][0] =  1.1939819e-09\n",
      "minorAxis_2[iTrk][0][0] =  -17.144806\n",
      "minorAxis_2[iTrk][1][0] =  -4.252446\n",
      "minorAxis_2[iTrk][2][0] =  0.3537121\n",
      "  \n",
      "majorAxis[iTrk][0][0] =  -0.004920899\n",
      "majorAxis[iTrk][1][0] =  0.0009170567\n",
      "majorAxis[iTrk][2][0] =  0.2973651\n",
      "minorAxis_1[iTrk][0][0] =  -3.236844\n",
      "minorAxis_1[iTrk][1][0] =  -17.36881\n",
      "minorAxis_1[iTrk][2][0] =  -4.7397712e-09\n",
      "minorAxis_2[iTrk][0][0] =  -17.36635\n",
      "minorAxis_2[iTrk][1][0] =  3.2363856\n",
      "minorAxis_2[iTrk][2][0] =  -0.29736507\n",
      "  \n",
      "majorAxis[iTrk][0][0] =  -0.0001240533\n",
      "majorAxis[iTrk][1][0] =  0.00033394952\n",
      "majorAxis[iTrk][2][0] =  0.079335004\n",
      "minorAxis_1[iTrk][0][0] =  -16.562042\n",
      "minorAxis_1[iTrk][1][0] =  -6.1523557\n",
      "minorAxis_1[iTrk][2][0] =  3.1261713e-08\n",
      "minorAxis_2[iTrk][0][0] =  -6.1522937\n",
      "minorAxis_2[iTrk][1][0] =  16.561876\n",
      "minorAxis_2[iTrk][2][0] =  -0.079335004\n",
      "  \n",
      "majorAxis[iTrk][0][0] =  0.00010132754\n",
      "majorAxis[iTrk][1][0] =  6.684385e-05\n",
      "majorAxis[iTrk][2][0] =  0.046310693\n",
      "minorAxis_1[iTrk][0][0] =  -9.728917\n",
      "minorAxis_1[iTrk][1][0] =  14.747911\n",
      "minorAxis_1[iTrk][2][0] =  -2.3591362e-07\n",
      "minorAxis_2[iTrk][0][0] =  14.74786\n",
      "minorAxis_2[iTrk][1][0] =  9.728883\n",
      "minorAxis_2[iTrk][2][0] =  -0.04631069\n",
      "  \n",
      "majorAxis[iTrk][0][0] =  0.0042806785\n",
      "majorAxis[iTrk][1][0] =  0.004939851\n",
      "majorAxis[iTrk][2][0] =  0.3398017\n",
      "minorAxis_1[iTrk][0][0] =  13.3521\n",
      "minorAxis_1[iTrk][1][0] =  -11.5704\n",
      "minorAxis_1[iTrk][2][0] =  1.21654296e-08\n",
      "minorAxis_2[iTrk][0][0] =  -11.56826\n",
      "minorAxis_2[iTrk][1][0] =  -13.349631\n",
      "minorAxis_2[iTrk][2][0] =  0.33980173\n",
      "  \n",
      "majorAxis[iTrk][0][0] =  -0.00013103899\n",
      "majorAxis[iTrk][1][0] =  -0.0006021903\n",
      "majorAxis[iTrk][2][0] =  0.10434653\n",
      "minorAxis_1[iTrk][0][0] =  -17.26384\n",
      "minorAxis_1[iTrk][1][0] =  3.7566798\n",
      "minorAxis_1[iTrk][2][0] =  -9.616703e-08\n",
      "minorAxis_2[iTrk][0][0] =  3.7566135\n",
      "minorAxis_2[iTrk][1][0] =  17.263535\n",
      "minorAxis_2[iTrk][2][0] =  0.10434652\n",
      "  \n",
      "majorAxis[iTrk][0][0] =  0.0016481678\n",
      "majorAxis[iTrk][1][0] =  -0.0019788505\n",
      "majorAxis[iTrk][2][0] =  0.21330062\n",
      "minorAxis_1[iTrk][0][0] =  -13.575765\n",
      "minorAxis_1[iTrk][1][0] =  -11.307139\n",
      "minorAxis_1[iTrk][2][0] =  8.543098e-09\n",
      "minorAxis_2[iTrk][0][0] =  -11.306314\n",
      "minorAxis_2[iTrk][1][0] =  13.574774\n",
      "minorAxis_2[iTrk][2][0] =  0.21330062\n",
      "  \n",
      "len(X) =  80000\n",
      "len(Xlist) =  3\n",
      "Loaded /share/lazy/will/data/June30_2020_80k_3.h5 in 166.6 s\n",
      "pocaMx.shape =  (80000,)\n",
      "nEvts =  80000\n",
      "len(pocaMx[0]) =  204\n",
      "len(pocaMx[1]) =  33\n",
      "len(pocaMx[2]) =  206\n",
      "len(pocaMx[3]) =  150\n",
      "len(pocaMx[4]) =  96\n",
      "majorAxis.shape =  (80000, 3)\n",
      "minorAxis_1.shape =  (80000, 3)\n",
      "minorAxis_2.shape =  (80000, 3)\n",
      "have entered six_ellipsoid_parameters\n",
      "  \n",
      " \n",
      "  nEvts =  80000\n",
      " iEvt, nTrks =  0 204\n",
      " iEvt, nTrks =  1 33\n",
      " iEvt, nTrks =  2 206\n",
      " iEvt, nTrks =  3 150\n",
      " iEvt, nTrks =  4 96\n",
      " iEvt, nTrks =  5 10\n",
      " iEvt, nTrks =  6 174\n",
      " iEvt, nTrks =  7 320\n",
      " iEvt, nTrks =  8 164\n",
      " iEvt, nTrks =  9 119\n",
      "A.shape =  (80000,)\n",
      "majorAxis[iTrk][0][0] =  0.00057876867\n",
      "majorAxis[iTrk][1][0] =  0.00037603904\n",
      "majorAxis[iTrk][2][0] =  0.110427074\n",
      "minorAxis_1[iTrk][0][0] =  9.62588\n",
      "minorAxis_1[iTrk][1][0] =  -14.81537\n",
      "minorAxis_1[iTrk][2][0] =  8.391163e-09\n",
      "minorAxis_2[iTrk][0][0] =  -14.815081\n",
      "minorAxis_2[iTrk][1][0] =  -9.625692\n",
      "minorAxis_2[iTrk][2][0] =  0.11042709\n",
      "  \n",
      "majorAxis[iTrk][0][0] =  -7.687664e-05\n",
      "majorAxis[iTrk][1][0] =  -0.0017985329\n",
      "majorAxis[iTrk][2][0] =  0.17833562\n",
      "minorAxis_1[iTrk][0][0] =  -17.651728\n",
      "minorAxis_1[iTrk][1][0] =  0.7545069\n",
      "minorAxis_1[iTrk][2][0] =  -7.932265e-09\n",
      "minorAxis_2[iTrk][0][0] =  0.75446844\n",
      "minorAxis_2[iTrk][1][0] =  17.650827\n",
      "minorAxis_2[iTrk][2][0] =  0.17833562\n",
      "  \n",
      "majorAxis[iTrk][0][0] =  4.5855802e-05\n",
      "majorAxis[iTrk][1][0] =  -0.00054240844\n",
      "majorAxis[iTrk][2][0] =  0.098067455\n",
      "minorAxis_1[iTrk][0][0] =  17.605043\n",
      "minorAxis_1[iTrk][1][0] =  1.4883496\n",
      "minorAxis_1[iTrk][2][0] =  -2.7847218e-08\n",
      "minorAxis_2[iTrk][0][0] =  1.4883265\n",
      "minorAxis_2[iTrk][1][0] =  -17.604773\n",
      "minorAxis_2[iTrk][2][0] =  -0.098067455\n",
      "  \n",
      "majorAxis[iTrk][0][0] =  -0.0013144773\n",
      "majorAxis[iTrk][1][0] =  0.0008680699\n",
      "majorAxis[iTrk][2][0] =  0.16682307\n",
      "minorAxis_1[iTrk][0][0] =  -9.736217\n",
      "minorAxis_1[iTrk][1][0] =  -14.743094\n",
      "minorAxis_1[iTrk][2][0] =  -1.7552136e-08\n",
      "minorAxis_2[iTrk][0][0] =  -14.742435\n",
      "minorAxis_2[iTrk][1][0] =  9.735782\n",
      "minorAxis_2[iTrk][2][0] =  -0.16682304\n",
      "  \n",
      "majorAxis[iTrk][0][0] =  0.032227762\n",
      "majorAxis[iTrk][1][0] =  0.007741693\n",
      "majorAxis[iTrk][2][0] =  0.76488173\n",
      "minorAxis_1[iTrk][0][0] =  -4.1267405\n",
      "minorAxis_1[iTrk][1][0] =  17.179138\n",
      "minorAxis_1[iTrk][2][0] =  -2.3529467e-10\n",
      "minorAxis_2[iTrk][0][0] =  17.16303\n",
      "minorAxis_2[iTrk][1][0] =  4.122871\n",
      "minorAxis_2[iTrk][2][0] =  -0.7648817\n",
      "  \n",
      "majorAxis[iTrk][0][0] =  1.9753945\n",
      "majorAxis[iTrk][1][0] =  2.5669005\n",
      "majorAxis[iTrk][2][0] =  7.226382\n",
      "minorAxis_1[iTrk][0][0] =  14.0017\n",
      "minorAxis_1[iTrk][1][0] =  -10.7752075\n",
      "minorAxis_1[iTrk][2][0] =  5.3286344e-11\n",
      "minorAxis_2[iTrk][0][0] =  -9.832683\n",
      "minorAxis_2[iTrk][1][0] =  -12.776951\n",
      "minorAxis_2[iTrk][2][0] =  7.226381\n",
      "  \n",
      "majorAxis[iTrk][0][0] =  -0.0026900356\n",
      "majorAxis[iTrk][1][0] =  -0.0015841618\n",
      "majorAxis[iTrk][2][0] =  0.234843\n",
      "minorAxis_1[iTrk][0][0] =  -8.965469\n",
      "minorAxis_1[iTrk][1][0] =  15.224096\n",
      "minorAxis_1[iTrk][2][0] =  2.8236277e-08\n",
      "minorAxis_2[iTrk][0][0] =  15.222751\n",
      "minorAxis_2[iTrk][1][0] =  8.964677\n",
      "minorAxis_2[iTrk][2][0] =  0.234843\n",
      "  \n",
      "majorAxis[iTrk][0][0] =  -0.0001692281\n",
      "majorAxis[iTrk][1][0] =  0.0003505444\n",
      "majorAxis[iTrk][2][0] =  0.08292902\n",
      "minorAxis_1[iTrk][0][0] =  -15.910811\n",
      "minorAxis_1[iTrk][1][0] =  -7.68107\n",
      "minorAxis_1[iTrk][2][0] =  1.587002e-08\n",
      "minorAxis_2[iTrk][0][0] =  -7.680986\n",
      "minorAxis_2[iTrk][1][0] =  15.910635\n",
      "minorAxis_2[iTrk][2][0] =  -0.08292903\n",
      "  \n",
      "majorAxis[iTrk][0][0] =  0.0017714669\n",
      "majorAxis[iTrk][1][0] =  -0.001515166\n",
      "majorAxis[iTrk][2][0] =  0.20293355\n",
      "minorAxis_1[iTrk][0][0] =  11.483943\n",
      "minorAxis_1[iTrk][1][0] =  13.426532\n",
      "minorAxis_1[iTrk][2][0] =  -2.7840934e-09\n",
      "minorAxis_2[iTrk][0][0] =  13.425648\n",
      "minorAxis_2[iTrk][1][0] =  -11.483187\n",
      "minorAxis_2[iTrk][2][0] =  -0.20293356\n",
      "  \n",
      "majorAxis[iTrk][0][0] =  0.0006359923\n",
      "majorAxis[iTrk][1][0] =  -0.0003371759\n",
      "majorAxis[iTrk][2][0] =  0.112773284\n",
      "minorAxis_1[iTrk][0][0] =  8.275655\n",
      "minorAxis_1[iTrk][1][0] =  15.609813\n",
      "minorAxis_1[iTrk][2][0] =  -5.6373224e-08\n",
      "minorAxis_2[iTrk][0][0] =  15.609494\n",
      "minorAxis_2[iTrk][1][0] =  -8.275486\n",
      "minorAxis_2[iTrk][2][0] =  -0.11277328\n",
      "  \n",
      "len(X) =  80000\n",
      "len(Xlist) =  4\n",
      "Loaded /share/lazy/will/data/June30_2020_80k_4.h5 in 164.6 s\n",
      "outer loop X.shape =  (320000, 9, 600)\n",
      "Constructing 320000 event dataset took 2.608 s\n",
      "x_t.shape =  torch.Size([320000, 9, 600])\n",
      "x_t.shape[0] =  320000\n",
      "x_t.shape[1] =  9\n",
      "x_t.shape =  torch.Size([320000, 9, 600])\n"
     ]
    }
   ],
   "source": [
    "## Training dataset. You can put as many files here as desired.\n",
    "\n",
    "##train_loader = collect_t2kde_data('/share/lazy/pv-finder/20k_evts_for_KDE_learning_200716.h5',\n",
    "train_loader = collect_t2kde_data('/share/lazy/will/data/June30_2020_80k_1.h5', \n",
    "                                  '/share/lazy/will/data/June30_2020_80k_2.h5',\n",
    "                                  '/share/lazy/will/data/June30_2020_80k_3.h5',\n",
    "                                  '/share/lazy/will/data/June30_2020_80k_4.h5',\n",
    "                             batch_size=batch_size,\n",
    "## if we are using a larger dataset (240K events, with the datasets above, and 11 GB  of GPU memory),\n",
    "## the dataset will overflow the GPU memory; device=device will allow the data to move back\n",
    "## and forth between the CPU and GPU memory. While this allows use of a larger dataset, it slows\n",
    "## down performance by about 10%.  So comment out when not needed.\n",
    "##                          device=device,\n",
    "##                           slice = slice(None,18000)\n",
    "                           )"
   ]
  },
  {
   "cell_type": "code",
   "execution_count": 16,
   "metadata": {
    "scrolled": false
   },
   "outputs": [
    {
     "name": "stdout",
     "output_type": "stream",
     "text": [
      "Loading data...\n",
      "pocaMx.shape =  (20000,)\n",
      "nEvts =  20000\n",
      "len(pocaMx[0]) =  211\n",
      "len(pocaMx[1]) =  21\n",
      "len(pocaMx[2]) =  20\n",
      "len(pocaMx[3]) =  198\n",
      "len(pocaMx[4]) =  233\n",
      "majorAxis.shape =  (20000, 3)\n",
      "minorAxis_1.shape =  (20000, 3)\n",
      "minorAxis_2.shape =  (20000, 3)\n",
      "have entered six_ellipsoid_parameters\n",
      "  \n",
      " \n",
      "  nEvts =  20000\n",
      " iEvt, nTrks =  0 211\n",
      " iEvt, nTrks =  1 21\n",
      " iEvt, nTrks =  2 20\n",
      " iEvt, nTrks =  3 198\n",
      " iEvt, nTrks =  4 233\n",
      " iEvt, nTrks =  5 85\n",
      " iEvt, nTrks =  6 223\n",
      " iEvt, nTrks =  7 425\n",
      " iEvt, nTrks =  8 252\n",
      " iEvt, nTrks =  9 169\n",
      "A.shape =  (20000,)\n",
      "majorAxis[iTrk][0][0] =  -0.00023452607\n",
      "majorAxis[iTrk][1][0] =  -0.00047206535\n",
      "majorAxis[iTrk][2][0] =  0.096502915\n",
      "minorAxis_1[iTrk][0][0] =  -15.822749\n",
      "minorAxis_1[iTrk][1][0] =  7.8608756\n",
      "minorAxis_1[iTrk][2][0] =  -2.6228399e-08\n",
      "minorAxis_2[iTrk][0][0] =  7.860759\n",
      "minorAxis_2[iTrk][1][0] =  15.822513\n",
      "minorAxis_2[iTrk][2][0] =  0.096502915\n",
      "  \n",
      "majorAxis[iTrk][0][0] =  -0.37655562\n",
      "majorAxis[iTrk][1][0] =  0.2768704\n",
      "majorAxis[iTrk][2][0] =  2.8546858\n",
      "minorAxis_1[iTrk][0][0] =  -10.466048\n",
      "minorAxis_1[iTrk][1][0] =  -14.234274\n",
      "minorAxis_1[iTrk][2][0] =  2.2974699e-11\n",
      "minorAxis_2[iTrk][0][0] =  -14.04724\n",
      "minorAxis_2[iTrk][1][0] =  10.328527\n",
      "minorAxis_2[iTrk][2][0] =  -2.8546853\n",
      "  \n",
      "majorAxis[iTrk][0][0] =  -0.024279848\n",
      "majorAxis[iTrk][1][0] =  0.0019689242\n",
      "majorAxis[iTrk][2][0] =  0.65580803\n",
      "minorAxis_1[iTrk][0][0] =  -1.4280497\n",
      "minorAxis_1[iTrk][1][0] =  -17.610037\n",
      "minorAxis_1[iTrk][2][0] =  -6.123401e-10\n",
      "minorAxis_2[iTrk][0][0] =  -17.597902\n",
      "minorAxis_2[iTrk][1][0] =  1.4270656\n",
      "minorAxis_2[iTrk][2][0] =  -0.6558081\n",
      "  \n",
      "majorAxis[iTrk][0][0] =  -0.007825993\n",
      "majorAxis[iTrk][1][0] =  0.004052097\n",
      "majorAxis[iTrk][2][0] =  0.3945435\n",
      "minorAxis_1[iTrk][0][0] =  8.123606\n",
      "minorAxis_1[iTrk][1][0] =  15.689478\n",
      "minorAxis_1[iTrk][2][0] =  -2.4940747e-10\n",
      "minorAxis_2[iTrk][0][0] =  15.685566\n",
      "minorAxis_2[iTrk][1][0] =  -8.12158\n",
      "minorAxis_2[iTrk][2][0] =  0.3945435\n",
      "  \n",
      "majorAxis[iTrk][0][0] =  0.0046102717\n",
      "majorAxis[iTrk][1][0] =  -0.0016007021\n",
      "majorAxis[iTrk][2][0] =  0.29361814\n",
      "minorAxis_1[iTrk][0][0] =  -5.794979\n",
      "minorAxis_1[iTrk][1][0] =  -16.690445\n",
      "minorAxis_1[iTrk][2][0] =  2.4897104e-09\n",
      "minorAxis_2[iTrk][0][0] =  -16.688139\n",
      "minorAxis_2[iTrk][1][0] =  5.794179\n",
      "minorAxis_2[iTrk][2][0] =  0.2936181\n",
      "  \n",
      "majorAxis[iTrk][0][0] =  -0.00020041714\n",
      "majorAxis[iTrk][1][0] =  0.00010468164\n",
      "majorAxis[iTrk][2][0] =  0.06320469\n",
      "minorAxis_1[iTrk][0][0] =  8.179679\n",
      "minorAxis_1[iTrk][1][0] =  15.660318\n",
      "minorAxis_1[iTrk][2][0] =  7.40176e-08\n",
      "minorAxis_2[iTrk][0][0] =  15.660218\n",
      "minorAxis_2[iTrk][1][0] =  -8.179626\n",
      "minorAxis_2[iTrk][2][0] =  0.06320469\n",
      "  \n",
      "majorAxis[iTrk][0][0] =  -0.00020603223\n",
      "majorAxis[iTrk][1][0] =  -0.0005662605\n",
      "majorAxis[iTrk][2][0] =  0.10317981\n",
      "minorAxis_1[iTrk][0][0] =  -16.603\n",
      "minorAxis_1[iTrk][1][0] =  6.040953\n",
      "minorAxis_1[iTrk][2][0] =  4.5812504e-07\n",
      "minorAxis_2[iTrk][0][0] =  6.0408506\n",
      "minorAxis_2[iTrk][1][0] =  16.602718\n",
      "minorAxis_2[iTrk][2][0] =  0.10317982\n",
      "  \n",
      "majorAxis[iTrk][0][0] =  -0.00040561036\n",
      "majorAxis[iTrk][1][0] =  0.00014461782\n",
      "majorAxis[iTrk][2][0] =  0.0872241\n",
      "minorAxis_1[iTrk][0][0] =  -5.933496\n",
      "minorAxis_1[iTrk][1][0] =  -16.641706\n",
      "minorAxis_1[iTrk][2][0] =  1.0720762e-08\n",
      "minorAxis_2[iTrk][0][0] =  -16.641502\n",
      "minorAxis_2[iTrk][1][0] =  5.9334235\n",
      "minorAxis_2[iTrk][2][0] =  -0.0872241\n",
      "  \n",
      "majorAxis[iTrk][0][0] =  0.00038461428\n",
      "majorAxis[iTrk][1][0] =  -3.4232737e-05\n",
      "majorAxis[iTrk][2][0] =  0.08259597\n",
      "minorAxis_1[iTrk][0][0] =  -1.5663412\n",
      "minorAxis_1[iTrk][1][0] =  -17.598276\n",
      "minorAxis_1[iTrk][2][0] =  3.2106848e-07\n",
      "minorAxis_2[iTrk][0][0] =  -17.598082\n",
      "minorAxis_2[iTrk][1][0] =  1.5663238\n",
      "minorAxis_2[iTrk][2][0] =  0.08259596\n",
      "  \n",
      "majorAxis[iTrk][0][0] =  -0.022277953\n",
      "majorAxis[iTrk][1][0] =  -0.0046837274\n",
      "majorAxis[iTrk][2][0] =  0.63399464\n",
      "minorAxis_1[iTrk][0][0] =  -3.6350286\n",
      "minorAxis_1[iTrk][1][0] =  17.289862\n",
      "minorAxis_1[iTrk][2][0] =  9.566169e-10\n",
      "minorAxis_2[iTrk][0][0] =  17.278727\n",
      "minorAxis_2[iTrk][1][0] =  3.6326876\n",
      "minorAxis_2[iTrk][2][0] =  0.6339946\n",
      "  \n",
      "len(X) =  20000\n",
      "len(Xlist) =  1\n",
      "Loaded dataAA/20K_POCA_kernel_evts_200926.h5 in 39.02 s\n",
      "outer loop X.shape =  (20000, 9, 600)\n",
      "Constructing 10000 event dataset took 0.04993 s\n",
      "x_t.shape =  torch.Size([10000, 9, 600])\n",
      "x_t.shape[0] =  10000\n",
      "x_t.shape[1] =  9\n",
      "x_t.shape =  torch.Size([10000, 9, 600])\n"
     ]
    }
   ],
   "source": [
    "                            \n",
    "# Validation dataset. You can slice to reduce the size.\n",
    "## mds no separate validation set yet,\n",
    "\n",
    "## For iter12, change slice(18000,None) to slice(10000,None)\n",
    "## First, we'll see if this changes the validation cost significantly\n",
    "##  Second, we will see if this reduces the validation cost fluctuations\n",
    "val_loader = collect_t2kde_data('dataAA/20K_POCA_kernel_evts_200926.h5',\n",
    "                            batch_size=batch_size,\n",
    "##                            device=device,\n",
    "                            slice = slice(10000,None)\n",
    "                           )"
   ]
  },
  {
   "cell_type": "code",
   "execution_count": 17,
   "metadata": {
    "scrolled": false
   },
   "outputs": [
    {
     "data": {
      "application/javascript": [
       "/* Put everything inside the global mpl namespace */\n",
       "window.mpl = {};\n",
       "\n",
       "\n",
       "mpl.get_websocket_type = function() {\n",
       "    if (typeof(WebSocket) !== 'undefined') {\n",
       "        return WebSocket;\n",
       "    } else if (typeof(MozWebSocket) !== 'undefined') {\n",
       "        return MozWebSocket;\n",
       "    } else {\n",
       "        alert('Your browser does not have WebSocket support. ' +\n",
       "              'Please try Chrome, Safari or Firefox ≥ 6. ' +\n",
       "              'Firefox 4 and 5 are also supported but you ' +\n",
       "              'have to enable WebSockets in about:config.');\n",
       "    };\n",
       "}\n",
       "\n",
       "mpl.figure = function(figure_id, websocket, ondownload, parent_element) {\n",
       "    this.id = figure_id;\n",
       "\n",
       "    this.ws = websocket;\n",
       "\n",
       "    this.supports_binary = (this.ws.binaryType != undefined);\n",
       "\n",
       "    if (!this.supports_binary) {\n",
       "        var warnings = document.getElementById(\"mpl-warnings\");\n",
       "        if (warnings) {\n",
       "            warnings.style.display = 'block';\n",
       "            warnings.textContent = (\n",
       "                \"This browser does not support binary websocket messages. \" +\n",
       "                    \"Performance may be slow.\");\n",
       "        }\n",
       "    }\n",
       "\n",
       "    this.imageObj = new Image();\n",
       "\n",
       "    this.context = undefined;\n",
       "    this.message = undefined;\n",
       "    this.canvas = undefined;\n",
       "    this.rubberband_canvas = undefined;\n",
       "    this.rubberband_context = undefined;\n",
       "    this.format_dropdown = undefined;\n",
       "\n",
       "    this.image_mode = 'full';\n",
       "\n",
       "    this.root = $('<div/>');\n",
       "    this._root_extra_style(this.root)\n",
       "    this.root.attr('style', 'display: inline-block');\n",
       "\n",
       "    $(parent_element).append(this.root);\n",
       "\n",
       "    this._init_header(this);\n",
       "    this._init_canvas(this);\n",
       "    this._init_toolbar(this);\n",
       "\n",
       "    var fig = this;\n",
       "\n",
       "    this.waiting = false;\n",
       "\n",
       "    this.ws.onopen =  function () {\n",
       "            fig.send_message(\"supports_binary\", {value: fig.supports_binary});\n",
       "            fig.send_message(\"send_image_mode\", {});\n",
       "            if (mpl.ratio != 1) {\n",
       "                fig.send_message(\"set_dpi_ratio\", {'dpi_ratio': mpl.ratio});\n",
       "            }\n",
       "            fig.send_message(\"refresh\", {});\n",
       "        }\n",
       "\n",
       "    this.imageObj.onload = function() {\n",
       "            if (fig.image_mode == 'full') {\n",
       "                // Full images could contain transparency (where diff images\n",
       "                // almost always do), so we need to clear the canvas so that\n",
       "                // there is no ghosting.\n",
       "                fig.context.clearRect(0, 0, fig.canvas.width, fig.canvas.height);\n",
       "            }\n",
       "            fig.context.drawImage(fig.imageObj, 0, 0);\n",
       "        };\n",
       "\n",
       "    this.imageObj.onunload = function() {\n",
       "        fig.ws.close();\n",
       "    }\n",
       "\n",
       "    this.ws.onmessage = this._make_on_message_function(this);\n",
       "\n",
       "    this.ondownload = ondownload;\n",
       "}\n",
       "\n",
       "mpl.figure.prototype._init_header = function() {\n",
       "    var titlebar = $(\n",
       "        '<div class=\"ui-dialog-titlebar ui-widget-header ui-corner-all ' +\n",
       "        'ui-helper-clearfix\"/>');\n",
       "    var titletext = $(\n",
       "        '<div class=\"ui-dialog-title\" style=\"width: 100%; ' +\n",
       "        'text-align: center; padding: 3px;\"/>');\n",
       "    titlebar.append(titletext)\n",
       "    this.root.append(titlebar);\n",
       "    this.header = titletext[0];\n",
       "}\n",
       "\n",
       "\n",
       "\n",
       "mpl.figure.prototype._canvas_extra_style = function(canvas_div) {\n",
       "\n",
       "}\n",
       "\n",
       "\n",
       "mpl.figure.prototype._root_extra_style = function(canvas_div) {\n",
       "\n",
       "}\n",
       "\n",
       "mpl.figure.prototype._init_canvas = function() {\n",
       "    var fig = this;\n",
       "\n",
       "    var canvas_div = $('<div/>');\n",
       "\n",
       "    canvas_div.attr('style', 'position: relative; clear: both; outline: 0');\n",
       "\n",
       "    function canvas_keyboard_event(event) {\n",
       "        return fig.key_event(event, event['data']);\n",
       "    }\n",
       "\n",
       "    canvas_div.keydown('key_press', canvas_keyboard_event);\n",
       "    canvas_div.keyup('key_release', canvas_keyboard_event);\n",
       "    this.canvas_div = canvas_div\n",
       "    this._canvas_extra_style(canvas_div)\n",
       "    this.root.append(canvas_div);\n",
       "\n",
       "    var canvas = $('<canvas/>');\n",
       "    canvas.addClass('mpl-canvas');\n",
       "    canvas.attr('style', \"left: 0; top: 0; z-index: 0; outline: 0\")\n",
       "\n",
       "    this.canvas = canvas[0];\n",
       "    this.context = canvas[0].getContext(\"2d\");\n",
       "\n",
       "    var backingStore = this.context.backingStorePixelRatio ||\n",
       "\tthis.context.webkitBackingStorePixelRatio ||\n",
       "\tthis.context.mozBackingStorePixelRatio ||\n",
       "\tthis.context.msBackingStorePixelRatio ||\n",
       "\tthis.context.oBackingStorePixelRatio ||\n",
       "\tthis.context.backingStorePixelRatio || 1;\n",
       "\n",
       "    mpl.ratio = (window.devicePixelRatio || 1) / backingStore;\n",
       "\n",
       "    var rubberband = $('<canvas/>');\n",
       "    rubberband.attr('style', \"position: absolute; left: 0; top: 0; z-index: 1;\")\n",
       "\n",
       "    var pass_mouse_events = true;\n",
       "\n",
       "    canvas_div.resizable({\n",
       "        start: function(event, ui) {\n",
       "            pass_mouse_events = false;\n",
       "        },\n",
       "        resize: function(event, ui) {\n",
       "            fig.request_resize(ui.size.width, ui.size.height);\n",
       "        },\n",
       "        stop: function(event, ui) {\n",
       "            pass_mouse_events = true;\n",
       "            fig.request_resize(ui.size.width, ui.size.height);\n",
       "        },\n",
       "    });\n",
       "\n",
       "    function mouse_event_fn(event) {\n",
       "        if (pass_mouse_events)\n",
       "            return fig.mouse_event(event, event['data']);\n",
       "    }\n",
       "\n",
       "    rubberband.mousedown('button_press', mouse_event_fn);\n",
       "    rubberband.mouseup('button_release', mouse_event_fn);\n",
       "    // Throttle sequential mouse events to 1 every 20ms.\n",
       "    rubberband.mousemove('motion_notify', mouse_event_fn);\n",
       "\n",
       "    rubberband.mouseenter('figure_enter', mouse_event_fn);\n",
       "    rubberband.mouseleave('figure_leave', mouse_event_fn);\n",
       "\n",
       "    canvas_div.on(\"wheel\", function (event) {\n",
       "        event = event.originalEvent;\n",
       "        event['data'] = 'scroll'\n",
       "        if (event.deltaY < 0) {\n",
       "            event.step = 1;\n",
       "        } else {\n",
       "            event.step = -1;\n",
       "        }\n",
       "        mouse_event_fn(event);\n",
       "    });\n",
       "\n",
       "    canvas_div.append(canvas);\n",
       "    canvas_div.append(rubberband);\n",
       "\n",
       "    this.rubberband = rubberband;\n",
       "    this.rubberband_canvas = rubberband[0];\n",
       "    this.rubberband_context = rubberband[0].getContext(\"2d\");\n",
       "    this.rubberband_context.strokeStyle = \"#000000\";\n",
       "\n",
       "    this._resize_canvas = function(width, height) {\n",
       "        // Keep the size of the canvas, canvas container, and rubber band\n",
       "        // canvas in synch.\n",
       "        canvas_div.css('width', width)\n",
       "        canvas_div.css('height', height)\n",
       "\n",
       "        canvas.attr('width', width * mpl.ratio);\n",
       "        canvas.attr('height', height * mpl.ratio);\n",
       "        canvas.attr('style', 'width: ' + width + 'px; height: ' + height + 'px;');\n",
       "\n",
       "        rubberband.attr('width', width);\n",
       "        rubberband.attr('height', height);\n",
       "    }\n",
       "\n",
       "    // Set the figure to an initial 600x600px, this will subsequently be updated\n",
       "    // upon first draw.\n",
       "    this._resize_canvas(600, 600);\n",
       "\n",
       "    // Disable right mouse context menu.\n",
       "    $(this.rubberband_canvas).bind(\"contextmenu\",function(e){\n",
       "        return false;\n",
       "    });\n",
       "\n",
       "    function set_focus () {\n",
       "        canvas.focus();\n",
       "        canvas_div.focus();\n",
       "    }\n",
       "\n",
       "    window.setTimeout(set_focus, 100);\n",
       "}\n",
       "\n",
       "mpl.figure.prototype._init_toolbar = function() {\n",
       "    var fig = this;\n",
       "\n",
       "    var nav_element = $('<div/>');\n",
       "    nav_element.attr('style', 'width: 100%');\n",
       "    this.root.append(nav_element);\n",
       "\n",
       "    // Define a callback function for later on.\n",
       "    function toolbar_event(event) {\n",
       "        return fig.toolbar_button_onclick(event['data']);\n",
       "    }\n",
       "    function toolbar_mouse_event(event) {\n",
       "        return fig.toolbar_button_onmouseover(event['data']);\n",
       "    }\n",
       "\n",
       "    for(var toolbar_ind in mpl.toolbar_items) {\n",
       "        var name = mpl.toolbar_items[toolbar_ind][0];\n",
       "        var tooltip = mpl.toolbar_items[toolbar_ind][1];\n",
       "        var image = mpl.toolbar_items[toolbar_ind][2];\n",
       "        var method_name = mpl.toolbar_items[toolbar_ind][3];\n",
       "\n",
       "        if (!name) {\n",
       "            // put a spacer in here.\n",
       "            continue;\n",
       "        }\n",
       "        var button = $('<button/>');\n",
       "        button.addClass('ui-button ui-widget ui-state-default ui-corner-all ' +\n",
       "                        'ui-button-icon-only');\n",
       "        button.attr('role', 'button');\n",
       "        button.attr('aria-disabled', 'false');\n",
       "        button.click(method_name, toolbar_event);\n",
       "        button.mouseover(tooltip, toolbar_mouse_event);\n",
       "\n",
       "        var icon_img = $('<span/>');\n",
       "        icon_img.addClass('ui-button-icon-primary ui-icon');\n",
       "        icon_img.addClass(image);\n",
       "        icon_img.addClass('ui-corner-all');\n",
       "\n",
       "        var tooltip_span = $('<span/>');\n",
       "        tooltip_span.addClass('ui-button-text');\n",
       "        tooltip_span.html(tooltip);\n",
       "\n",
       "        button.append(icon_img);\n",
       "        button.append(tooltip_span);\n",
       "\n",
       "        nav_element.append(button);\n",
       "    }\n",
       "\n",
       "    var fmt_picker_span = $('<span/>');\n",
       "\n",
       "    var fmt_picker = $('<select/>');\n",
       "    fmt_picker.addClass('mpl-toolbar-option ui-widget ui-widget-content');\n",
       "    fmt_picker_span.append(fmt_picker);\n",
       "    nav_element.append(fmt_picker_span);\n",
       "    this.format_dropdown = fmt_picker[0];\n",
       "\n",
       "    for (var ind in mpl.extensions) {\n",
       "        var fmt = mpl.extensions[ind];\n",
       "        var option = $(\n",
       "            '<option/>', {selected: fmt === mpl.default_extension}).html(fmt);\n",
       "        fmt_picker.append(option);\n",
       "    }\n",
       "\n",
       "    // Add hover states to the ui-buttons\n",
       "    $( \".ui-button\" ).hover(\n",
       "        function() { $(this).addClass(\"ui-state-hover\");},\n",
       "        function() { $(this).removeClass(\"ui-state-hover\");}\n",
       "    );\n",
       "\n",
       "    var status_bar = $('<span class=\"mpl-message\"/>');\n",
       "    nav_element.append(status_bar);\n",
       "    this.message = status_bar[0];\n",
       "}\n",
       "\n",
       "mpl.figure.prototype.request_resize = function(x_pixels, y_pixels) {\n",
       "    // Request matplotlib to resize the figure. Matplotlib will then trigger a resize in the client,\n",
       "    // which will in turn request a refresh of the image.\n",
       "    this.send_message('resize', {'width': x_pixels, 'height': y_pixels});\n",
       "}\n",
       "\n",
       "mpl.figure.prototype.send_message = function(type, properties) {\n",
       "    properties['type'] = type;\n",
       "    properties['figure_id'] = this.id;\n",
       "    this.ws.send(JSON.stringify(properties));\n",
       "}\n",
       "\n",
       "mpl.figure.prototype.send_draw_message = function() {\n",
       "    if (!this.waiting) {\n",
       "        this.waiting = true;\n",
       "        this.ws.send(JSON.stringify({type: \"draw\", figure_id: this.id}));\n",
       "    }\n",
       "}\n",
       "\n",
       "\n",
       "mpl.figure.prototype.handle_save = function(fig, msg) {\n",
       "    var format_dropdown = fig.format_dropdown;\n",
       "    var format = format_dropdown.options[format_dropdown.selectedIndex].value;\n",
       "    fig.ondownload(fig, format);\n",
       "}\n",
       "\n",
       "\n",
       "mpl.figure.prototype.handle_resize = function(fig, msg) {\n",
       "    var size = msg['size'];\n",
       "    if (size[0] != fig.canvas.width || size[1] != fig.canvas.height) {\n",
       "        fig._resize_canvas(size[0], size[1]);\n",
       "        fig.send_message(\"refresh\", {});\n",
       "    };\n",
       "}\n",
       "\n",
       "mpl.figure.prototype.handle_rubberband = function(fig, msg) {\n",
       "    var x0 = msg['x0'] / mpl.ratio;\n",
       "    var y0 = (fig.canvas.height - msg['y0']) / mpl.ratio;\n",
       "    var x1 = msg['x1'] / mpl.ratio;\n",
       "    var y1 = (fig.canvas.height - msg['y1']) / mpl.ratio;\n",
       "    x0 = Math.floor(x0) + 0.5;\n",
       "    y0 = Math.floor(y0) + 0.5;\n",
       "    x1 = Math.floor(x1) + 0.5;\n",
       "    y1 = Math.floor(y1) + 0.5;\n",
       "    var min_x = Math.min(x0, x1);\n",
       "    var min_y = Math.min(y0, y1);\n",
       "    var width = Math.abs(x1 - x0);\n",
       "    var height = Math.abs(y1 - y0);\n",
       "\n",
       "    fig.rubberband_context.clearRect(\n",
       "        0, 0, fig.canvas.width / mpl.ratio, fig.canvas.height / mpl.ratio);\n",
       "\n",
       "    fig.rubberband_context.strokeRect(min_x, min_y, width, height);\n",
       "}\n",
       "\n",
       "mpl.figure.prototype.handle_figure_label = function(fig, msg) {\n",
       "    // Updates the figure title.\n",
       "    fig.header.textContent = msg['label'];\n",
       "}\n",
       "\n",
       "mpl.figure.prototype.handle_cursor = function(fig, msg) {\n",
       "    var cursor = msg['cursor'];\n",
       "    switch(cursor)\n",
       "    {\n",
       "    case 0:\n",
       "        cursor = 'pointer';\n",
       "        break;\n",
       "    case 1:\n",
       "        cursor = 'default';\n",
       "        break;\n",
       "    case 2:\n",
       "        cursor = 'crosshair';\n",
       "        break;\n",
       "    case 3:\n",
       "        cursor = 'move';\n",
       "        break;\n",
       "    }\n",
       "    fig.rubberband_canvas.style.cursor = cursor;\n",
       "}\n",
       "\n",
       "mpl.figure.prototype.handle_message = function(fig, msg) {\n",
       "    fig.message.textContent = msg['message'];\n",
       "}\n",
       "\n",
       "mpl.figure.prototype.handle_draw = function(fig, msg) {\n",
       "    // Request the server to send over a new figure.\n",
       "    fig.send_draw_message();\n",
       "}\n",
       "\n",
       "mpl.figure.prototype.handle_image_mode = function(fig, msg) {\n",
       "    fig.image_mode = msg['mode'];\n",
       "}\n",
       "\n",
       "mpl.figure.prototype.updated_canvas_event = function() {\n",
       "    // Called whenever the canvas gets updated.\n",
       "    this.send_message(\"ack\", {});\n",
       "}\n",
       "\n",
       "// A function to construct a web socket function for onmessage handling.\n",
       "// Called in the figure constructor.\n",
       "mpl.figure.prototype._make_on_message_function = function(fig) {\n",
       "    return function socket_on_message(evt) {\n",
       "        if (evt.data instanceof Blob) {\n",
       "            /* FIXME: We get \"Resource interpreted as Image but\n",
       "             * transferred with MIME type text/plain:\" errors on\n",
       "             * Chrome.  But how to set the MIME type?  It doesn't seem\n",
       "             * to be part of the websocket stream */\n",
       "            evt.data.type = \"image/png\";\n",
       "\n",
       "            /* Free the memory for the previous frames */\n",
       "            if (fig.imageObj.src) {\n",
       "                (window.URL || window.webkitURL).revokeObjectURL(\n",
       "                    fig.imageObj.src);\n",
       "            }\n",
       "\n",
       "            fig.imageObj.src = (window.URL || window.webkitURL).createObjectURL(\n",
       "                evt.data);\n",
       "            fig.updated_canvas_event();\n",
       "            fig.waiting = false;\n",
       "            return;\n",
       "        }\n",
       "        else if (typeof evt.data === 'string' && evt.data.slice(0, 21) == \"data:image/png;base64\") {\n",
       "            fig.imageObj.src = evt.data;\n",
       "            fig.updated_canvas_event();\n",
       "            fig.waiting = false;\n",
       "            return;\n",
       "        }\n",
       "\n",
       "        var msg = JSON.parse(evt.data);\n",
       "        var msg_type = msg['type'];\n",
       "\n",
       "        // Call the  \"handle_{type}\" callback, which takes\n",
       "        // the figure and JSON message as its only arguments.\n",
       "        try {\n",
       "            var callback = fig[\"handle_\" + msg_type];\n",
       "        } catch (e) {\n",
       "            console.log(\"No handler for the '\" + msg_type + \"' message type: \", msg);\n",
       "            return;\n",
       "        }\n",
       "\n",
       "        if (callback) {\n",
       "            try {\n",
       "                // console.log(\"Handling '\" + msg_type + \"' message: \", msg);\n",
       "                callback(fig, msg);\n",
       "            } catch (e) {\n",
       "                console.log(\"Exception inside the 'handler_\" + msg_type + \"' callback:\", e, e.stack, msg);\n",
       "            }\n",
       "        }\n",
       "    };\n",
       "}\n",
       "\n",
       "// from http://stackoverflow.com/questions/1114465/getting-mouse-location-in-canvas\n",
       "mpl.findpos = function(e) {\n",
       "    //this section is from http://www.quirksmode.org/js/events_properties.html\n",
       "    var targ;\n",
       "    if (!e)\n",
       "        e = window.event;\n",
       "    if (e.target)\n",
       "        targ = e.target;\n",
       "    else if (e.srcElement)\n",
       "        targ = e.srcElement;\n",
       "    if (targ.nodeType == 3) // defeat Safari bug\n",
       "        targ = targ.parentNode;\n",
       "\n",
       "    // jQuery normalizes the pageX and pageY\n",
       "    // pageX,Y are the mouse positions relative to the document\n",
       "    // offset() returns the position of the element relative to the document\n",
       "    var x = e.pageX - $(targ).offset().left;\n",
       "    var y = e.pageY - $(targ).offset().top;\n",
       "\n",
       "    return {\"x\": x, \"y\": y};\n",
       "};\n",
       "\n",
       "/*\n",
       " * return a copy of an object with only non-object keys\n",
       " * we need this to avoid circular references\n",
       " * http://stackoverflow.com/a/24161582/3208463\n",
       " */\n",
       "function simpleKeys (original) {\n",
       "  return Object.keys(original).reduce(function (obj, key) {\n",
       "    if (typeof original[key] !== 'object')\n",
       "        obj[key] = original[key]\n",
       "    return obj;\n",
       "  }, {});\n",
       "}\n",
       "\n",
       "mpl.figure.prototype.mouse_event = function(event, name) {\n",
       "    var canvas_pos = mpl.findpos(event)\n",
       "\n",
       "    if (name === 'button_press')\n",
       "    {\n",
       "        this.canvas.focus();\n",
       "        this.canvas_div.focus();\n",
       "    }\n",
       "\n",
       "    var x = canvas_pos.x * mpl.ratio;\n",
       "    var y = canvas_pos.y * mpl.ratio;\n",
       "\n",
       "    this.send_message(name, {x: x, y: y, button: event.button,\n",
       "                             step: event.step,\n",
       "                             guiEvent: simpleKeys(event)});\n",
       "\n",
       "    /* This prevents the web browser from automatically changing to\n",
       "     * the text insertion cursor when the button is pressed.  We want\n",
       "     * to control all of the cursor setting manually through the\n",
       "     * 'cursor' event from matplotlib */\n",
       "    event.preventDefault();\n",
       "    return false;\n",
       "}\n",
       "\n",
       "mpl.figure.prototype._key_event_extra = function(event, name) {\n",
       "    // Handle any extra behaviour associated with a key event\n",
       "}\n",
       "\n",
       "mpl.figure.prototype.key_event = function(event, name) {\n",
       "\n",
       "    // Prevent repeat events\n",
       "    if (name == 'key_press')\n",
       "    {\n",
       "        if (event.which === this._key)\n",
       "            return;\n",
       "        else\n",
       "            this._key = event.which;\n",
       "    }\n",
       "    if (name == 'key_release')\n",
       "        this._key = null;\n",
       "\n",
       "    var value = '';\n",
       "    if (event.ctrlKey && event.which != 17)\n",
       "        value += \"ctrl+\";\n",
       "    if (event.altKey && event.which != 18)\n",
       "        value += \"alt+\";\n",
       "    if (event.shiftKey && event.which != 16)\n",
       "        value += \"shift+\";\n",
       "\n",
       "    value += 'k';\n",
       "    value += event.which.toString();\n",
       "\n",
       "    this._key_event_extra(event, name);\n",
       "\n",
       "    this.send_message(name, {key: value,\n",
       "                             guiEvent: simpleKeys(event)});\n",
       "    return false;\n",
       "}\n",
       "\n",
       "mpl.figure.prototype.toolbar_button_onclick = function(name) {\n",
       "    if (name == 'download') {\n",
       "        this.handle_save(this, null);\n",
       "    } else {\n",
       "        this.send_message(\"toolbar_button\", {name: name});\n",
       "    }\n",
       "};\n",
       "\n",
       "mpl.figure.prototype.toolbar_button_onmouseover = function(tooltip) {\n",
       "    this.message.textContent = tooltip;\n",
       "};\n",
       "mpl.toolbar_items = [[\"Home\", \"Reset original view\", \"fa fa-home icon-home\", \"home\"], [\"Back\", \"Back to previous view\", \"fa fa-arrow-left icon-arrow-left\", \"back\"], [\"Forward\", \"Forward to next view\", \"fa fa-arrow-right icon-arrow-right\", \"forward\"], [\"\", \"\", \"\", \"\"], [\"Pan\", \"Pan axes with left mouse, zoom with right\", \"fa fa-arrows icon-move\", \"pan\"], [\"Zoom\", \"Zoom to rectangle\", \"fa fa-square-o icon-check-empty\", \"zoom\"], [\"\", \"\", \"\", \"\"], [\"Download\", \"Download plot\", \"fa fa-floppy-o icon-save\", \"download\"]];\n",
       "\n",
       "mpl.extensions = [\"eps\", \"jpeg\", \"pdf\", \"png\", \"ps\", \"raw\", \"svg\", \"tif\"];\n",
       "\n",
       "mpl.default_extension = \"png\";var comm_websocket_adapter = function(comm) {\n",
       "    // Create a \"websocket\"-like object which calls the given IPython comm\n",
       "    // object with the appropriate methods. Currently this is a non binary\n",
       "    // socket, so there is still some room for performance tuning.\n",
       "    var ws = {};\n",
       "\n",
       "    ws.close = function() {\n",
       "        comm.close()\n",
       "    };\n",
       "    ws.send = function(m) {\n",
       "        //console.log('sending', m);\n",
       "        comm.send(m);\n",
       "    };\n",
       "    // Register the callback with on_msg.\n",
       "    comm.on_msg(function(msg) {\n",
       "        //console.log('receiving', msg['content']['data'], msg);\n",
       "        // Pass the mpl event to the overridden (by mpl) onmessage function.\n",
       "        ws.onmessage(msg['content']['data'])\n",
       "    });\n",
       "    return ws;\n",
       "}\n",
       "\n",
       "mpl.mpl_figure_comm = function(comm, msg) {\n",
       "    // This is the function which gets called when the mpl process\n",
       "    // starts-up an IPython Comm through the \"matplotlib\" channel.\n",
       "\n",
       "    var id = msg.content.data.id;\n",
       "    // Get hold of the div created by the display call when the Comm\n",
       "    // socket was opened in Python.\n",
       "    var element = $(\"#\" + id);\n",
       "    var ws_proxy = comm_websocket_adapter(comm)\n",
       "\n",
       "    function ondownload(figure, format) {\n",
       "        window.open(figure.imageObj.src);\n",
       "    }\n",
       "\n",
       "    var fig = new mpl.figure(id, ws_proxy,\n",
       "                           ondownload,\n",
       "                           element.get(0));\n",
       "\n",
       "    // Call onopen now - mpl needs it, as it is assuming we've passed it a real\n",
       "    // web socket which is closed, not our websocket->open comm proxy.\n",
       "    ws_proxy.onopen();\n",
       "\n",
       "    fig.parent_element = element.get(0);\n",
       "    fig.cell_info = mpl.find_output_cell(\"<div id='\" + id + \"'></div>\");\n",
       "    if (!fig.cell_info) {\n",
       "        console.error(\"Failed to find cell for figure\", id, fig);\n",
       "        return;\n",
       "    }\n",
       "\n",
       "    var output_index = fig.cell_info[2]\n",
       "    var cell = fig.cell_info[0];\n",
       "\n",
       "};\n",
       "\n",
       "mpl.figure.prototype.handle_close = function(fig, msg) {\n",
       "    var width = fig.canvas.width/mpl.ratio\n",
       "    fig.root.unbind('remove')\n",
       "\n",
       "    // Update the output cell to use the data from the current canvas.\n",
       "    fig.push_to_output();\n",
       "    var dataURL = fig.canvas.toDataURL();\n",
       "    // Re-enable the keyboard manager in IPython - without this line, in FF,\n",
       "    // the notebook keyboard shortcuts fail.\n",
       "    IPython.keyboard_manager.enable()\n",
       "    $(fig.parent_element).html('<img src=\"' + dataURL + '\" width=\"' + width + '\">');\n",
       "    fig.close_ws(fig, msg);\n",
       "}\n",
       "\n",
       "mpl.figure.prototype.close_ws = function(fig, msg){\n",
       "    fig.send_message('closing', msg);\n",
       "    // fig.ws.close()\n",
       "}\n",
       "\n",
       "mpl.figure.prototype.push_to_output = function(remove_interactive) {\n",
       "    // Turn the data on the canvas into data in the output cell.\n",
       "    var width = this.canvas.width/mpl.ratio\n",
       "    var dataURL = this.canvas.toDataURL();\n",
       "    this.cell_info[1]['text/html'] = '<img src=\"' + dataURL + '\" width=\"' + width + '\">';\n",
       "}\n",
       "\n",
       "mpl.figure.prototype.updated_canvas_event = function() {\n",
       "    // Tell IPython that the notebook contents must change.\n",
       "    IPython.notebook.set_dirty(true);\n",
       "    this.send_message(\"ack\", {});\n",
       "    var fig = this;\n",
       "    // Wait a second, then push the new image to the DOM so\n",
       "    // that it is saved nicely (might be nice to debounce this).\n",
       "    setTimeout(function () { fig.push_to_output() }, 1000);\n",
       "}\n",
       "\n",
       "mpl.figure.prototype._init_toolbar = function() {\n",
       "    var fig = this;\n",
       "\n",
       "    var nav_element = $('<div/>');\n",
       "    nav_element.attr('style', 'width: 100%');\n",
       "    this.root.append(nav_element);\n",
       "\n",
       "    // Define a callback function for later on.\n",
       "    function toolbar_event(event) {\n",
       "        return fig.toolbar_button_onclick(event['data']);\n",
       "    }\n",
       "    function toolbar_mouse_event(event) {\n",
       "        return fig.toolbar_button_onmouseover(event['data']);\n",
       "    }\n",
       "\n",
       "    for(var toolbar_ind in mpl.toolbar_items){\n",
       "        var name = mpl.toolbar_items[toolbar_ind][0];\n",
       "        var tooltip = mpl.toolbar_items[toolbar_ind][1];\n",
       "        var image = mpl.toolbar_items[toolbar_ind][2];\n",
       "        var method_name = mpl.toolbar_items[toolbar_ind][3];\n",
       "\n",
       "        if (!name) { continue; };\n",
       "\n",
       "        var button = $('<button class=\"btn btn-default\" href=\"#\" title=\"' + name + '\"><i class=\"fa ' + image + ' fa-lg\"></i></button>');\n",
       "        button.click(method_name, toolbar_event);\n",
       "        button.mouseover(tooltip, toolbar_mouse_event);\n",
       "        nav_element.append(button);\n",
       "    }\n",
       "\n",
       "    // Add the status bar.\n",
       "    var status_bar = $('<span class=\"mpl-message\" style=\"text-align:right; float: right;\"/>');\n",
       "    nav_element.append(status_bar);\n",
       "    this.message = status_bar[0];\n",
       "\n",
       "    // Add the close button to the window.\n",
       "    var buttongrp = $('<div class=\"btn-group inline pull-right\"></div>');\n",
       "    var button = $('<button class=\"btn btn-mini btn-primary\" href=\"#\" title=\"Stop Interaction\"><i class=\"fa fa-power-off icon-remove icon-large\"></i></button>');\n",
       "    button.click(function (evt) { fig.handle_close(fig, {}); } );\n",
       "    button.mouseover('Stop Interaction', toolbar_mouse_event);\n",
       "    buttongrp.append(button);\n",
       "    var titlebar = this.root.find($('.ui-dialog-titlebar'));\n",
       "    titlebar.prepend(buttongrp);\n",
       "}\n",
       "\n",
       "mpl.figure.prototype._root_extra_style = function(el){\n",
       "    var fig = this\n",
       "    el.on(\"remove\", function(){\n",
       "\tfig.close_ws(fig, {});\n",
       "    });\n",
       "}\n",
       "\n",
       "mpl.figure.prototype._canvas_extra_style = function(el){\n",
       "    // this is important to make the div 'focusable\n",
       "    el.attr('tabindex', 0)\n",
       "    // reach out to IPython and tell the keyboard manager to turn it's self\n",
       "    // off when our div gets focus\n",
       "\n",
       "    // location in version 3\n",
       "    if (IPython.notebook.keyboard_manager) {\n",
       "        IPython.notebook.keyboard_manager.register_events(el);\n",
       "    }\n",
       "    else {\n",
       "        // location in version 2\n",
       "        IPython.keyboard_manager.register_events(el);\n",
       "    }\n",
       "\n",
       "}\n",
       "\n",
       "mpl.figure.prototype._key_event_extra = function(event, name) {\n",
       "    var manager = IPython.notebook.keyboard_manager;\n",
       "    if (!manager)\n",
       "        manager = IPython.keyboard_manager;\n",
       "\n",
       "    // Check for shift+enter\n",
       "    if (event.shiftKey && event.which == 13) {\n",
       "        this.canvas_div.blur();\n",
       "        // select the cell after this one\n",
       "        var index = IPython.notebook.find_cell_index(this.cell_info[0]);\n",
       "        IPython.notebook.select(index + 1);\n",
       "    }\n",
       "}\n",
       "\n",
       "mpl.figure.prototype.handle_save = function(fig, msg) {\n",
       "    fig.ondownload(fig, null);\n",
       "}\n",
       "\n",
       "\n",
       "mpl.find_output_cell = function(html_output) {\n",
       "    // Return the cell and output element which can be found *uniquely* in the notebook.\n",
       "    // Note - this is a bit hacky, but it is done because the \"notebook_saving.Notebook\"\n",
       "    // IPython event is triggered only after the cells have been serialised, which for\n",
       "    // our purposes (turning an active figure into a static one), is too late.\n",
       "    var cells = IPython.notebook.get_cells();\n",
       "    var ncells = cells.length;\n",
       "    for (var i=0; i<ncells; i++) {\n",
       "        var cell = cells[i];\n",
       "        if (cell.cell_type === 'code'){\n",
       "            for (var j=0; j<cell.output_area.outputs.length; j++) {\n",
       "                var data = cell.output_area.outputs[j];\n",
       "                if (data.data) {\n",
       "                    // IPython >= 3 moved mimebundle to data attribute of output\n",
       "                    data = data.data;\n",
       "                }\n",
       "                if (data['text/html'] == html_output) {\n",
       "                    return [cell, data, j];\n",
       "                }\n",
       "            }\n",
       "        }\n",
       "    }\n",
       "}\n",
       "\n",
       "// Register the function which deals with the matplotlib target/channel.\n",
       "// The kernel may be null if the page has been refreshed.\n",
       "if (IPython.notebook.kernel != null) {\n",
       "    IPython.notebook.kernel.comm_manager.register_target('matplotlib', mpl.mpl_figure_comm);\n",
       "}\n"
      ],
      "text/plain": [
       "<IPython.core.display.Javascript object>"
      ]
     },
     "metadata": {},
     "output_type": "display_data"
    },
    {
     "data": {
      "text/html": [
       "<img src=\"data:image/png;base64,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\" width=\"1000\">"
      ],
      "text/plain": [
       "<IPython.core.display.HTML object>"
      ]
     },
     "metadata": {},
     "output_type": "display_data"
    }
   ],
   "source": [
    "ax, tax, lax, lines = dual_train_plots()\n",
    "fig = ax.figure\n",
    "plt.tight_layout()"
   ]
  },
  {
   "cell_type": "code",
   "execution_count": 18,
   "metadata": {
    "scrolled": false
   },
   "outputs": [
    {
     "name": "stdout",
     "output_type": "stream",
     "text": [
      "Number of batches: train = 5000, val = 157\n"
     ]
    },
    {
     "data": {
      "application/vnd.jupyter.widget-view+json": {
       "model_id": "eb229356219c4414bec86556452c64ed",
       "version_major": 2,
       "version_minor": 0
      },
      "text/plain": [
       "HBox(children=(FloatProgress(value=0.0, description='Epochs', layout=Layout(flex='2'), max=80.0, style=Progres…"
      ]
     },
     "metadata": {},
     "output_type": "display_data"
    },
    {
     "name": "stdout",
     "output_type": "stream",
     "text": [
      "Number of batches: train = 5000, val = 157\n"
     ]
    },
    {
     "data": {
      "application/vnd.jupyter.widget-view+json": {
       "model_id": "",
       "version_major": 2,
       "version_minor": 0
      },
      "text/plain": [
       "HBox(children=(FloatProgress(value=0.0, description='Training', layout=Layout(flex='2'), max=5000.0, style=Pro…"
      ]
     },
     "metadata": {},
     "output_type": "display_data"
    },
    {
     "name": "stdout",
     "output_type": "stream",
     "text": [
      "Epoch 0: train=0.655179, val=0.448517, took 588.16 s\n"
     ]
    },
    {
     "data": {
      "application/vnd.jupyter.widget-view+json": {
       "model_id": "",
       "version_major": 2,
       "version_minor": 0
      },
      "text/plain": [
       "HBox(children=(FloatProgress(value=0.0, description='Training', layout=Layout(flex='2'), max=5000.0, style=Pro…"
      ]
     },
     "metadata": {},
     "output_type": "display_data"
    },
    {
     "name": "stdout",
     "output_type": "stream",
     "text": [
      "Epoch 1: train=0.6521, val=0.445973, took 593.98 s\n"
     ]
    },
    {
     "data": {
      "application/vnd.jupyter.widget-view+json": {
       "model_id": "",
       "version_major": 2,
       "version_minor": 0
      },
      "text/plain": [
       "HBox(children=(FloatProgress(value=0.0, description='Training', layout=Layout(flex='2'), max=5000.0, style=Pro…"
      ]
     },
     "metadata": {},
     "output_type": "display_data"
    },
    {
     "name": "stdout",
     "output_type": "stream",
     "text": [
      "Epoch 2: train=0.652282, val=0.460689, took 592.56 s\n"
     ]
    },
    {
     "data": {
      "application/vnd.jupyter.widget-view+json": {
       "model_id": "",
       "version_major": 2,
       "version_minor": 0
      },
      "text/plain": [
       "HBox(children=(FloatProgress(value=0.0, description='Training', layout=Layout(flex='2'), max=5000.0, style=Pro…"
      ]
     },
     "metadata": {},
     "output_type": "display_data"
    },
    {
     "name": "stdout",
     "output_type": "stream",
     "text": [
      "Epoch 3: train=0.652913, val=0.451966, took 588.05 s\n"
     ]
    },
    {
     "data": {
      "application/vnd.jupyter.widget-view+json": {
       "model_id": "",
       "version_major": 2,
       "version_minor": 0
      },
      "text/plain": [
       "HBox(children=(FloatProgress(value=0.0, description='Training', layout=Layout(flex='2'), max=5000.0, style=Pro…"
      ]
     },
     "metadata": {},
     "output_type": "display_data"
    },
    {
     "name": "stdout",
     "output_type": "stream",
     "text": [
      "Epoch 4: train=0.651695, val=0.434463, took 584.77 s\n"
     ]
    },
    {
     "data": {
      "application/vnd.jupyter.widget-view+json": {
       "model_id": "",
       "version_major": 2,
       "version_minor": 0
      },
      "text/plain": [
       "HBox(children=(FloatProgress(value=0.0, description='Training', layout=Layout(flex='2'), max=5000.0, style=Pro…"
      ]
     },
     "metadata": {},
     "output_type": "display_data"
    },
    {
     "name": "stdout",
     "output_type": "stream",
     "text": [
      "Epoch 5: train=0.650801, val=0.440005, took 584.43 s\n"
     ]
    },
    {
     "data": {
      "application/vnd.jupyter.widget-view+json": {
       "model_id": "",
       "version_major": 2,
       "version_minor": 0
      },
      "text/plain": [
       "HBox(children=(FloatProgress(value=0.0, description='Training', layout=Layout(flex='2'), max=5000.0, style=Pro…"
      ]
     },
     "metadata": {},
     "output_type": "display_data"
    },
    {
     "name": "stdout",
     "output_type": "stream",
     "text": [
      "Epoch 6: train=0.65131, val=0.500362, took 582.72 s\n"
     ]
    },
    {
     "data": {
      "application/vnd.jupyter.widget-view+json": {
       "model_id": "",
       "version_major": 2,
       "version_minor": 0
      },
      "text/plain": [
       "HBox(children=(FloatProgress(value=0.0, description='Training', layout=Layout(flex='2'), max=5000.0, style=Pro…"
      ]
     },
     "metadata": {},
     "output_type": "display_data"
    },
    {
     "name": "stdout",
     "output_type": "stream",
     "text": [
      "Epoch 7: train=0.65052, val=0.438935, took 582.03 s\n"
     ]
    },
    {
     "data": {
      "application/vnd.jupyter.widget-view+json": {
       "model_id": "",
       "version_major": 2,
       "version_minor": 0
      },
      "text/plain": [
       "HBox(children=(FloatProgress(value=0.0, description='Training', layout=Layout(flex='2'), max=5000.0, style=Pro…"
      ]
     },
     "metadata": {},
     "output_type": "display_data"
    },
    {
     "name": "stdout",
     "output_type": "stream",
     "text": [
      "Epoch 8: train=0.653497, val=0.436579, took 581.78 s\n"
     ]
    },
    {
     "data": {
      "application/vnd.jupyter.widget-view+json": {
       "model_id": "",
       "version_major": 2,
       "version_minor": 0
      },
      "text/plain": [
       "HBox(children=(FloatProgress(value=0.0, description='Training', layout=Layout(flex='2'), max=5000.0, style=Pro…"
      ]
     },
     "metadata": {},
     "output_type": "display_data"
    },
    {
     "name": "stdout",
     "output_type": "stream",
     "text": [
      "Epoch 9: train=0.650018, val=0.463518, took 581.92 s\n"
     ]
    },
    {
     "data": {
      "application/vnd.jupyter.widget-view+json": {
       "model_id": "",
       "version_major": 2,
       "version_minor": 0
      },
      "text/plain": [
       "HBox(children=(FloatProgress(value=0.0, description='Training', layout=Layout(flex='2'), max=5000.0, style=Pro…"
      ]
     },
     "metadata": {},
     "output_type": "display_data"
    },
    {
     "name": "stdout",
     "output_type": "stream",
     "text": [
      "Epoch 10: train=0.651212, val=0.459479, took 581.34 s\n"
     ]
    },
    {
     "data": {
      "application/vnd.jupyter.widget-view+json": {
       "model_id": "",
       "version_major": 2,
       "version_minor": 0
      },
      "text/plain": [
       "HBox(children=(FloatProgress(value=0.0, description='Training', layout=Layout(flex='2'), max=5000.0, style=Pro…"
      ]
     },
     "metadata": {},
     "output_type": "display_data"
    },
    {
     "name": "stdout",
     "output_type": "stream",
     "text": [
      "Epoch 11: train=0.651739, val=0.460797, took 582.32 s\n"
     ]
    },
    {
     "data": {
      "application/vnd.jupyter.widget-view+json": {
       "model_id": "",
       "version_major": 2,
       "version_minor": 0
      },
      "text/plain": [
       "HBox(children=(FloatProgress(value=0.0, description='Training', layout=Layout(flex='2'), max=5000.0, style=Pro…"
      ]
     },
     "metadata": {},
     "output_type": "display_data"
    },
    {
     "name": "stdout",
     "output_type": "stream",
     "text": [
      "Epoch 12: train=0.649402, val=0.4431, took 582.58 s\n"
     ]
    },
    {
     "data": {
      "application/vnd.jupyter.widget-view+json": {
       "model_id": "",
       "version_major": 2,
       "version_minor": 0
      },
      "text/plain": [
       "HBox(children=(FloatProgress(value=0.0, description='Training', layout=Layout(flex='2'), max=5000.0, style=Pro…"
      ]
     },
     "metadata": {},
     "output_type": "display_data"
    },
    {
     "name": "stdout",
     "output_type": "stream",
     "text": [
      "Epoch 13: train=0.650895, val=0.438569, took 581.74 s\n"
     ]
    },
    {
     "data": {
      "application/vnd.jupyter.widget-view+json": {
       "model_id": "",
       "version_major": 2,
       "version_minor": 0
      },
      "text/plain": [
       "HBox(children=(FloatProgress(value=0.0, description='Training', layout=Layout(flex='2'), max=5000.0, style=Pro…"
      ]
     },
     "metadata": {},
     "output_type": "display_data"
    },
    {
     "name": "stdout",
     "output_type": "stream",
     "text": [
      "Epoch 14: train=0.649476, val=0.445971, took 581.91 s\n"
     ]
    },
    {
     "data": {
      "application/vnd.jupyter.widget-view+json": {
       "model_id": "",
       "version_major": 2,
       "version_minor": 0
      },
      "text/plain": [
       "HBox(children=(FloatProgress(value=0.0, description='Training', layout=Layout(flex='2'), max=5000.0, style=Pro…"
      ]
     },
     "metadata": {},
     "output_type": "display_data"
    },
    {
     "name": "stdout",
     "output_type": "stream",
     "text": [
      "Epoch 15: train=0.650798, val=0.437265, took 582.03 s\n"
     ]
    },
    {
     "data": {
      "application/vnd.jupyter.widget-view+json": {
       "model_id": "",
       "version_major": 2,
       "version_minor": 0
      },
      "text/plain": [
       "HBox(children=(FloatProgress(value=0.0, description='Training', layout=Layout(flex='2'), max=5000.0, style=Pro…"
      ]
     },
     "metadata": {},
     "output_type": "display_data"
    },
    {
     "name": "stdout",
     "output_type": "stream",
     "text": [
      "Epoch 16: train=0.650834, val=0.433703, took 582.22 s\n"
     ]
    },
    {
     "data": {
      "application/vnd.jupyter.widget-view+json": {
       "model_id": "",
       "version_major": 2,
       "version_minor": 0
      },
      "text/plain": [
       "HBox(children=(FloatProgress(value=0.0, description='Training', layout=Layout(flex='2'), max=5000.0, style=Pro…"
      ]
     },
     "metadata": {},
     "output_type": "display_data"
    },
    {
     "name": "stdout",
     "output_type": "stream",
     "text": [
      "Epoch 17: train=0.649847, val=0.459952, took 581.73 s\n"
     ]
    },
    {
     "data": {
      "application/vnd.jupyter.widget-view+json": {
       "model_id": "",
       "version_major": 2,
       "version_minor": 0
      },
      "text/plain": [
       "HBox(children=(FloatProgress(value=0.0, description='Training', layout=Layout(flex='2'), max=5000.0, style=Pro…"
      ]
     },
     "metadata": {},
     "output_type": "display_data"
    },
    {
     "name": "stdout",
     "output_type": "stream",
     "text": [
      "Epoch 18: train=0.648867, val=0.449075, took 581.05 s\n"
     ]
    },
    {
     "data": {
      "application/vnd.jupyter.widget-view+json": {
       "model_id": "",
       "version_major": 2,
       "version_minor": 0
      },
      "text/plain": [
       "HBox(children=(FloatProgress(value=0.0, description='Training', layout=Layout(flex='2'), max=5000.0, style=Pro…"
      ]
     },
     "metadata": {},
     "output_type": "display_data"
    },
    {
     "name": "stdout",
     "output_type": "stream",
     "text": [
      "Epoch 19: train=0.648077, val=0.493616, took 581.74 s\n"
     ]
    },
    {
     "data": {
      "application/vnd.jupyter.widget-view+json": {
       "model_id": "",
       "version_major": 2,
       "version_minor": 0
      },
      "text/plain": [
       "HBox(children=(FloatProgress(value=0.0, description='Training', layout=Layout(flex='2'), max=5000.0, style=Pro…"
      ]
     },
     "metadata": {},
     "output_type": "display_data"
    },
    {
     "name": "stdout",
     "output_type": "stream",
     "text": [
      "Epoch 20: train=0.648277, val=0.439559, took 581.76 s\n"
     ]
    },
    {
     "data": {
      "application/vnd.jupyter.widget-view+json": {
       "model_id": "",
       "version_major": 2,
       "version_minor": 0
      },
      "text/plain": [
       "HBox(children=(FloatProgress(value=0.0, description='Training', layout=Layout(flex='2'), max=5000.0, style=Pro…"
      ]
     },
     "metadata": {},
     "output_type": "display_data"
    },
    {
     "name": "stdout",
     "output_type": "stream",
     "text": [
      "Epoch 21: train=0.649846, val=0.477186, took 582.25 s\n"
     ]
    },
    {
     "data": {
      "application/vnd.jupyter.widget-view+json": {
       "model_id": "",
       "version_major": 2,
       "version_minor": 0
      },
      "text/plain": [
       "HBox(children=(FloatProgress(value=0.0, description='Training', layout=Layout(flex='2'), max=5000.0, style=Pro…"
      ]
     },
     "metadata": {},
     "output_type": "display_data"
    },
    {
     "name": "stdout",
     "output_type": "stream",
     "text": [
      "Epoch 22: train=0.647189, val=0.458314, took 581.97 s\n"
     ]
    },
    {
     "data": {
      "application/vnd.jupyter.widget-view+json": {
       "model_id": "",
       "version_major": 2,
       "version_minor": 0
      },
      "text/plain": [
       "HBox(children=(FloatProgress(value=0.0, description='Training', layout=Layout(flex='2'), max=5000.0, style=Pro…"
      ]
     },
     "metadata": {},
     "output_type": "display_data"
    },
    {
     "name": "stdout",
     "output_type": "stream",
     "text": [
      "Epoch 23: train=0.646987, val=0.44353, took 581.28 s\n"
     ]
    },
    {
     "data": {
      "application/vnd.jupyter.widget-view+json": {
       "model_id": "",
       "version_major": 2,
       "version_minor": 0
      },
      "text/plain": [
       "HBox(children=(FloatProgress(value=0.0, description='Training', layout=Layout(flex='2'), max=5000.0, style=Pro…"
      ]
     },
     "metadata": {},
     "output_type": "display_data"
    },
    {
     "name": "stdout",
     "output_type": "stream",
     "text": [
      "Epoch 24: train=0.648149, val=0.445992, took 581.19 s\n"
     ]
    },
    {
     "data": {
      "application/vnd.jupyter.widget-view+json": {
       "model_id": "",
       "version_major": 2,
       "version_minor": 0
      },
      "text/plain": [
       "HBox(children=(FloatProgress(value=0.0, description='Training', layout=Layout(flex='2'), max=5000.0, style=Pro…"
      ]
     },
     "metadata": {},
     "output_type": "display_data"
    },
    {
     "name": "stdout",
     "output_type": "stream",
     "text": [
      "Epoch 25: train=0.646067, val=0.433522, took 581.82 s\n"
     ]
    },
    {
     "data": {
      "application/vnd.jupyter.widget-view+json": {
       "model_id": "",
       "version_major": 2,
       "version_minor": 0
      },
      "text/plain": [
       "HBox(children=(FloatProgress(value=0.0, description='Training', layout=Layout(flex='2'), max=5000.0, style=Pro…"
      ]
     },
     "metadata": {},
     "output_type": "display_data"
    },
    {
     "name": "stdout",
     "output_type": "stream",
     "text": [
      "Epoch 26: train=0.649037, val=0.437751, took 581.47 s\n"
     ]
    },
    {
     "data": {
      "application/vnd.jupyter.widget-view+json": {
       "model_id": "",
       "version_major": 2,
       "version_minor": 0
      },
      "text/plain": [
       "HBox(children=(FloatProgress(value=0.0, description='Training', layout=Layout(flex='2'), max=5000.0, style=Pro…"
      ]
     },
     "metadata": {},
     "output_type": "display_data"
    },
    {
     "name": "stdout",
     "output_type": "stream",
     "text": [
      "Epoch 27: train=0.645422, val=0.436813, took 581.71 s\n"
     ]
    },
    {
     "data": {
      "application/vnd.jupyter.widget-view+json": {
       "model_id": "",
       "version_major": 2,
       "version_minor": 0
      },
      "text/plain": [
       "HBox(children=(FloatProgress(value=0.0, description='Training', layout=Layout(flex='2'), max=5000.0, style=Pro…"
      ]
     },
     "metadata": {},
     "output_type": "display_data"
    },
    {
     "name": "stdout",
     "output_type": "stream",
     "text": [
      "Epoch 28: train=0.646479, val=0.439158, took 600.41 s\n"
     ]
    },
    {
     "data": {
      "application/vnd.jupyter.widget-view+json": {
       "model_id": "",
       "version_major": 2,
       "version_minor": 0
      },
      "text/plain": [
       "HBox(children=(FloatProgress(value=0.0, description='Training', layout=Layout(flex='2'), max=5000.0, style=Pro…"
      ]
     },
     "metadata": {},
     "output_type": "display_data"
    },
    {
     "name": "stdout",
     "output_type": "stream",
     "text": [
      "Epoch 29: train=0.644607, val=0.436956, took 697.32 s\n"
     ]
    },
    {
     "data": {
      "application/vnd.jupyter.widget-view+json": {
       "model_id": "",
       "version_major": 2,
       "version_minor": 0
      },
      "text/plain": [
       "HBox(children=(FloatProgress(value=0.0, description='Training', layout=Layout(flex='2'), max=5000.0, style=Pro…"
      ]
     },
     "metadata": {},
     "output_type": "display_data"
    },
    {
     "name": "stdout",
     "output_type": "stream",
     "text": [
      "Epoch 30: train=0.649479, val=0.437874, took 704.57 s\n"
     ]
    },
    {
     "data": {
      "application/vnd.jupyter.widget-view+json": {
       "model_id": "",
       "version_major": 2,
       "version_minor": 0
      },
      "text/plain": [
       "HBox(children=(FloatProgress(value=0.0, description='Training', layout=Layout(flex='2'), max=5000.0, style=Pro…"
      ]
     },
     "metadata": {},
     "output_type": "display_data"
    },
    {
     "name": "stdout",
     "output_type": "stream",
     "text": [
      "Epoch 31: train=0.645726, val=0.43329, took 718.84 s\n"
     ]
    },
    {
     "data": {
      "application/vnd.jupyter.widget-view+json": {
       "model_id": "",
       "version_major": 2,
       "version_minor": 0
      },
      "text/plain": [
       "HBox(children=(FloatProgress(value=0.0, description='Training', layout=Layout(flex='2'), max=5000.0, style=Pro…"
      ]
     },
     "metadata": {},
     "output_type": "display_data"
    },
    {
     "name": "stdout",
     "output_type": "stream",
     "text": [
      "Epoch 32: train=0.647245, val=0.438305, took 697.84 s\n"
     ]
    },
    {
     "data": {
      "application/vnd.jupyter.widget-view+json": {
       "model_id": "",
       "version_major": 2,
       "version_minor": 0
      },
      "text/plain": [
       "HBox(children=(FloatProgress(value=0.0, description='Training', layout=Layout(flex='2'), max=5000.0, style=Pro…"
      ]
     },
     "metadata": {},
     "output_type": "display_data"
    },
    {
     "name": "stdout",
     "output_type": "stream",
     "text": [
      "Epoch 33: train=0.647755, val=0.439852, took 678.34 s\n"
     ]
    },
    {
     "data": {
      "application/vnd.jupyter.widget-view+json": {
       "model_id": "",
       "version_major": 2,
       "version_minor": 0
      },
      "text/plain": [
       "HBox(children=(FloatProgress(value=0.0, description='Training', layout=Layout(flex='2'), max=5000.0, style=Pro…"
      ]
     },
     "metadata": {},
     "output_type": "display_data"
    },
    {
     "name": "stdout",
     "output_type": "stream",
     "text": [
      "Epoch 34: train=0.645813, val=0.439091, took 685.91 s\n"
     ]
    },
    {
     "data": {
      "application/vnd.jupyter.widget-view+json": {
       "model_id": "",
       "version_major": 2,
       "version_minor": 0
      },
      "text/plain": [
       "HBox(children=(FloatProgress(value=0.0, description='Training', layout=Layout(flex='2'), max=5000.0, style=Pro…"
      ]
     },
     "metadata": {},
     "output_type": "display_data"
    },
    {
     "name": "stdout",
     "output_type": "stream",
     "text": [
      "Epoch 35: train=0.644816, val=0.438429, took 691.19 s\n"
     ]
    },
    {
     "data": {
      "application/vnd.jupyter.widget-view+json": {
       "model_id": "",
       "version_major": 2,
       "version_minor": 0
      },
      "text/plain": [
       "HBox(children=(FloatProgress(value=0.0, description='Training', layout=Layout(flex='2'), max=5000.0, style=Pro…"
      ]
     },
     "metadata": {},
     "output_type": "display_data"
    },
    {
     "name": "stdout",
     "output_type": "stream",
     "text": [
      "Epoch 36: train=0.64677, val=0.432201, took 684.94 s\n"
     ]
    },
    {
     "data": {
      "application/vnd.jupyter.widget-view+json": {
       "model_id": "",
       "version_major": 2,
       "version_minor": 0
      },
      "text/plain": [
       "HBox(children=(FloatProgress(value=0.0, description='Training', layout=Layout(flex='2'), max=5000.0, style=Pro…"
      ]
     },
     "metadata": {},
     "output_type": "display_data"
    },
    {
     "name": "stdout",
     "output_type": "stream",
     "text": [
      "Epoch 37: train=0.645926, val=0.468089, took 691.09 s\n"
     ]
    },
    {
     "data": {
      "application/vnd.jupyter.widget-view+json": {
       "model_id": "",
       "version_major": 2,
       "version_minor": 0
      },
      "text/plain": [
       "HBox(children=(FloatProgress(value=0.0, description='Training', layout=Layout(flex='2'), max=5000.0, style=Pro…"
      ]
     },
     "metadata": {},
     "output_type": "display_data"
    },
    {
     "name": "stdout",
     "output_type": "stream",
     "text": [
      "Epoch 38: train=0.646195, val=0.463201, took 688.33 s\n"
     ]
    },
    {
     "data": {
      "application/vnd.jupyter.widget-view+json": {
       "model_id": "",
       "version_major": 2,
       "version_minor": 0
      },
      "text/plain": [
       "HBox(children=(FloatProgress(value=0.0, description='Training', layout=Layout(flex='2'), max=5000.0, style=Pro…"
      ]
     },
     "metadata": {},
     "output_type": "display_data"
    },
    {
     "name": "stdout",
     "output_type": "stream",
     "text": [
      "Epoch 39: train=0.645169, val=0.443023, took 695.9 s\n"
     ]
    },
    {
     "data": {
      "application/vnd.jupyter.widget-view+json": {
       "model_id": "",
       "version_major": 2,
       "version_minor": 0
      },
      "text/plain": [
       "HBox(children=(FloatProgress(value=0.0, description='Training', layout=Layout(flex='2'), max=5000.0, style=Pro…"
      ]
     },
     "metadata": {},
     "output_type": "display_data"
    },
    {
     "name": "stdout",
     "output_type": "stream",
     "text": [
      "Epoch 40: train=0.645615, val=0.444782, took 600.77 s\n"
     ]
    },
    {
     "data": {
      "application/vnd.jupyter.widget-view+json": {
       "model_id": "",
       "version_major": 2,
       "version_minor": 0
      },
      "text/plain": [
       "HBox(children=(FloatProgress(value=0.0, description='Training', layout=Layout(flex='2'), max=5000.0, style=Pro…"
      ]
     },
     "metadata": {},
     "output_type": "display_data"
    },
    {
     "name": "stdout",
     "output_type": "stream",
     "text": [
      "Epoch 41: train=0.645084, val=0.432592, took 581.84 s\n"
     ]
    },
    {
     "data": {
      "application/vnd.jupyter.widget-view+json": {
       "model_id": "",
       "version_major": 2,
       "version_minor": 0
      },
      "text/plain": [
       "HBox(children=(FloatProgress(value=0.0, description='Training', layout=Layout(flex='2'), max=5000.0, style=Pro…"
      ]
     },
     "metadata": {},
     "output_type": "display_data"
    },
    {
     "name": "stdout",
     "output_type": "stream",
     "text": [
      "Epoch 42: train=0.644099, val=0.448206, took 581.69 s\n"
     ]
    },
    {
     "data": {
      "application/vnd.jupyter.widget-view+json": {
       "model_id": "",
       "version_major": 2,
       "version_minor": 0
      },
      "text/plain": [
       "HBox(children=(FloatProgress(value=0.0, description='Training', layout=Layout(flex='2'), max=5000.0, style=Pro…"
      ]
     },
     "metadata": {},
     "output_type": "display_data"
    },
    {
     "name": "stdout",
     "output_type": "stream",
     "text": [
      "Epoch 43: train=0.645858, val=0.468272, took 580.74 s\n"
     ]
    },
    {
     "data": {
      "application/vnd.jupyter.widget-view+json": {
       "model_id": "",
       "version_major": 2,
       "version_minor": 0
      },
      "text/plain": [
       "HBox(children=(FloatProgress(value=0.0, description='Training', layout=Layout(flex='2'), max=5000.0, style=Pro…"
      ]
     },
     "metadata": {},
     "output_type": "display_data"
    },
    {
     "name": "stdout",
     "output_type": "stream",
     "text": [
      "Epoch 44: train=0.643382, val=0.452812, took 582.23 s\n"
     ]
    },
    {
     "data": {
      "application/vnd.jupyter.widget-view+json": {
       "model_id": "",
       "version_major": 2,
       "version_minor": 0
      },
      "text/plain": [
       "HBox(children=(FloatProgress(value=0.0, description='Training', layout=Layout(flex='2'), max=5000.0, style=Pro…"
      ]
     },
     "metadata": {},
     "output_type": "display_data"
    },
    {
     "name": "stdout",
     "output_type": "stream",
     "text": [
      "Epoch 45: train=0.643907, val=0.462265, took 580.86 s\n"
     ]
    },
    {
     "data": {
      "application/vnd.jupyter.widget-view+json": {
       "model_id": "",
       "version_major": 2,
       "version_minor": 0
      },
      "text/plain": [
       "HBox(children=(FloatProgress(value=0.0, description='Training', layout=Layout(flex='2'), max=5000.0, style=Pro…"
      ]
     },
     "metadata": {},
     "output_type": "display_data"
    },
    {
     "name": "stdout",
     "output_type": "stream",
     "text": [
      "Epoch 46: train=0.644284, val=0.54501, took 580.71 s\n"
     ]
    },
    {
     "data": {
      "application/vnd.jupyter.widget-view+json": {
       "model_id": "",
       "version_major": 2,
       "version_minor": 0
      },
      "text/plain": [
       "HBox(children=(FloatProgress(value=0.0, description='Training', layout=Layout(flex='2'), max=5000.0, style=Pro…"
      ]
     },
     "metadata": {},
     "output_type": "display_data"
    },
    {
     "name": "stdout",
     "output_type": "stream",
     "text": [
      "Epoch 47: train=0.645109, val=0.428985, took 580.53 s\n"
     ]
    },
    {
     "data": {
      "application/vnd.jupyter.widget-view+json": {
       "model_id": "",
       "version_major": 2,
       "version_minor": 0
      },
      "text/plain": [
       "HBox(children=(FloatProgress(value=0.0, description='Training', layout=Layout(flex='2'), max=5000.0, style=Pro…"
      ]
     },
     "metadata": {},
     "output_type": "display_data"
    },
    {
     "name": "stdout",
     "output_type": "stream",
     "text": [
      "Epoch 48: train=0.6428, val=0.456215, took 581.48 s\n"
     ]
    },
    {
     "data": {
      "application/vnd.jupyter.widget-view+json": {
       "model_id": "",
       "version_major": 2,
       "version_minor": 0
      },
      "text/plain": [
       "HBox(children=(FloatProgress(value=0.0, description='Training', layout=Layout(flex='2'), max=5000.0, style=Pro…"
      ]
     },
     "metadata": {},
     "output_type": "display_data"
    },
    {
     "name": "stdout",
     "output_type": "stream",
     "text": [
      "Epoch 49: train=0.643563, val=0.500915, took 581.81 s\n"
     ]
    },
    {
     "data": {
      "application/vnd.jupyter.widget-view+json": {
       "model_id": "",
       "version_major": 2,
       "version_minor": 0
      },
      "text/plain": [
       "HBox(children=(FloatProgress(value=0.0, description='Training', layout=Layout(flex='2'), max=5000.0, style=Pro…"
      ]
     },
     "metadata": {},
     "output_type": "display_data"
    },
    {
     "name": "stdout",
     "output_type": "stream",
     "text": [
      "Epoch 50: train=0.642067, val=0.435033, took 581.26 s\n"
     ]
    },
    {
     "data": {
      "application/vnd.jupyter.widget-view+json": {
       "model_id": "",
       "version_major": 2,
       "version_minor": 0
      },
      "text/plain": [
       "HBox(children=(FloatProgress(value=0.0, description='Training', layout=Layout(flex='2'), max=5000.0, style=Pro…"
      ]
     },
     "metadata": {},
     "output_type": "display_data"
    },
    {
     "name": "stdout",
     "output_type": "stream",
     "text": [
      "Epoch 51: train=0.641639, val=0.445251, took 580.18 s\n"
     ]
    },
    {
     "data": {
      "application/vnd.jupyter.widget-view+json": {
       "model_id": "",
       "version_major": 2,
       "version_minor": 0
      },
      "text/plain": [
       "HBox(children=(FloatProgress(value=0.0, description='Training', layout=Layout(flex='2'), max=5000.0, style=Pro…"
      ]
     },
     "metadata": {},
     "output_type": "display_data"
    },
    {
     "name": "stdout",
     "output_type": "stream",
     "text": [
      "Epoch 52: train=0.64123, val=0.432316, took 580.88 s\n"
     ]
    },
    {
     "data": {
      "application/vnd.jupyter.widget-view+json": {
       "model_id": "",
       "version_major": 2,
       "version_minor": 0
      },
      "text/plain": [
       "HBox(children=(FloatProgress(value=0.0, description='Training', layout=Layout(flex='2'), max=5000.0, style=Pro…"
      ]
     },
     "metadata": {},
     "output_type": "display_data"
    },
    {
     "name": "stdout",
     "output_type": "stream",
     "text": [
      "Epoch 53: train=0.642197, val=0.462676, took 581.64 s\n"
     ]
    },
    {
     "data": {
      "application/vnd.jupyter.widget-view+json": {
       "model_id": "",
       "version_major": 2,
       "version_minor": 0
      },
      "text/plain": [
       "HBox(children=(FloatProgress(value=0.0, description='Training', layout=Layout(flex='2'), max=5000.0, style=Pro…"
      ]
     },
     "metadata": {},
     "output_type": "display_data"
    },
    {
     "name": "stdout",
     "output_type": "stream",
     "text": [
      "Epoch 54: train=0.640704, val=0.43525, took 580.67 s\n"
     ]
    },
    {
     "data": {
      "application/vnd.jupyter.widget-view+json": {
       "model_id": "",
       "version_major": 2,
       "version_minor": 0
      },
      "text/plain": [
       "HBox(children=(FloatProgress(value=0.0, description='Training', layout=Layout(flex='2'), max=5000.0, style=Pro…"
      ]
     },
     "metadata": {},
     "output_type": "display_data"
    },
    {
     "name": "stdout",
     "output_type": "stream",
     "text": [
      "Epoch 55: train=0.640506, val=0.443115, took 581.32 s\n"
     ]
    },
    {
     "data": {
      "application/vnd.jupyter.widget-view+json": {
       "model_id": "",
       "version_major": 2,
       "version_minor": 0
      },
      "text/plain": [
       "HBox(children=(FloatProgress(value=0.0, description='Training', layout=Layout(flex='2'), max=5000.0, style=Pro…"
      ]
     },
     "metadata": {},
     "output_type": "display_data"
    },
    {
     "name": "stdout",
     "output_type": "stream",
     "text": [
      "Epoch 56: train=0.639699, val=0.432908, took 580.42 s\n"
     ]
    },
    {
     "data": {
      "application/vnd.jupyter.widget-view+json": {
       "model_id": "",
       "version_major": 2,
       "version_minor": 0
      },
      "text/plain": [
       "HBox(children=(FloatProgress(value=0.0, description='Training', layout=Layout(flex='2'), max=5000.0, style=Pro…"
      ]
     },
     "metadata": {},
     "output_type": "display_data"
    },
    {
     "name": "stdout",
     "output_type": "stream",
     "text": [
      "Epoch 57: train=0.640729, val=0.444603, took 580.61 s\n"
     ]
    },
    {
     "data": {
      "application/vnd.jupyter.widget-view+json": {
       "model_id": "",
       "version_major": 2,
       "version_minor": 0
      },
      "text/plain": [
       "HBox(children=(FloatProgress(value=0.0, description='Training', layout=Layout(flex='2'), max=5000.0, style=Pro…"
      ]
     },
     "metadata": {},
     "output_type": "display_data"
    },
    {
     "name": "stdout",
     "output_type": "stream",
     "text": [
      "Epoch 58: train=0.639838, val=0.546456, took 581.78 s\n"
     ]
    },
    {
     "data": {
      "application/vnd.jupyter.widget-view+json": {
       "model_id": "",
       "version_major": 2,
       "version_minor": 0
      },
      "text/plain": [
       "HBox(children=(FloatProgress(value=0.0, description='Training', layout=Layout(flex='2'), max=5000.0, style=Pro…"
      ]
     },
     "metadata": {},
     "output_type": "display_data"
    },
    {
     "name": "stdout",
     "output_type": "stream",
     "text": [
      "Epoch 59: train=0.640201, val=0.447533, took 579.38 s\n"
     ]
    },
    {
     "data": {
      "application/vnd.jupyter.widget-view+json": {
       "model_id": "",
       "version_major": 2,
       "version_minor": 0
      },
      "text/plain": [
       "HBox(children=(FloatProgress(value=0.0, description='Training', layout=Layout(flex='2'), max=5000.0, style=Pro…"
      ]
     },
     "metadata": {},
     "output_type": "display_data"
    },
    {
     "name": "stdout",
     "output_type": "stream",
     "text": [
      "Epoch 60: train=0.639357, val=0.428465, took 580.91 s\n"
     ]
    },
    {
     "data": {
      "application/vnd.jupyter.widget-view+json": {
       "model_id": "",
       "version_major": 2,
       "version_minor": 0
      },
      "text/plain": [
       "HBox(children=(FloatProgress(value=0.0, description='Training', layout=Layout(flex='2'), max=5000.0, style=Pro…"
      ]
     },
     "metadata": {},
     "output_type": "display_data"
    },
    {
     "name": "stdout",
     "output_type": "stream",
     "text": [
      "Epoch 61: train=0.639081, val=0.429723, took 581.13 s\n"
     ]
    },
    {
     "data": {
      "application/vnd.jupyter.widget-view+json": {
       "model_id": "",
       "version_major": 2,
       "version_minor": 0
      },
      "text/plain": [
       "HBox(children=(FloatProgress(value=0.0, description='Training', layout=Layout(flex='2'), max=5000.0, style=Pro…"
      ]
     },
     "metadata": {},
     "output_type": "display_data"
    },
    {
     "name": "stdout",
     "output_type": "stream",
     "text": [
      "Epoch 62: train=0.639923, val=0.430609, took 581.13 s\n"
     ]
    },
    {
     "data": {
      "application/vnd.jupyter.widget-view+json": {
       "model_id": "",
       "version_major": 2,
       "version_minor": 0
      },
      "text/plain": [
       "HBox(children=(FloatProgress(value=0.0, description='Training', layout=Layout(flex='2'), max=5000.0, style=Pro…"
      ]
     },
     "metadata": {},
     "output_type": "display_data"
    },
    {
     "name": "stdout",
     "output_type": "stream",
     "text": [
      "Epoch 63: train=0.638022, val=0.430657, took 581.92 s\n"
     ]
    },
    {
     "data": {
      "application/vnd.jupyter.widget-view+json": {
       "model_id": "",
       "version_major": 2,
       "version_minor": 0
      },
      "text/plain": [
       "HBox(children=(FloatProgress(value=0.0, description='Training', layout=Layout(flex='2'), max=5000.0, style=Pro…"
      ]
     },
     "metadata": {},
     "output_type": "display_data"
    },
    {
     "name": "stdout",
     "output_type": "stream",
     "text": [
      "Epoch 64: train=0.639121, val=0.429134, took 580.22 s\n"
     ]
    },
    {
     "data": {
      "application/vnd.jupyter.widget-view+json": {
       "model_id": "",
       "version_major": 2,
       "version_minor": 0
      },
      "text/plain": [
       "HBox(children=(FloatProgress(value=0.0, description='Training', layout=Layout(flex='2'), max=5000.0, style=Pro…"
      ]
     },
     "metadata": {},
     "output_type": "display_data"
    },
    {
     "name": "stdout",
     "output_type": "stream",
     "text": [
      "Epoch 65: train=0.638326, val=0.482883, took 581.26 s\n"
     ]
    },
    {
     "data": {
      "application/vnd.jupyter.widget-view+json": {
       "model_id": "",
       "version_major": 2,
       "version_minor": 0
      },
      "text/plain": [
       "HBox(children=(FloatProgress(value=0.0, description='Training', layout=Layout(flex='2'), max=5000.0, style=Pro…"
      ]
     },
     "metadata": {},
     "output_type": "display_data"
    },
    {
     "name": "stdout",
     "output_type": "stream",
     "text": [
      "Epoch 66: train=0.638506, val=0.457897, took 582.04 s\n"
     ]
    },
    {
     "data": {
      "application/vnd.jupyter.widget-view+json": {
       "model_id": "",
       "version_major": 2,
       "version_minor": 0
      },
      "text/plain": [
       "HBox(children=(FloatProgress(value=0.0, description='Training', layout=Layout(flex='2'), max=5000.0, style=Pro…"
      ]
     },
     "metadata": {},
     "output_type": "display_data"
    },
    {
     "name": "stdout",
     "output_type": "stream",
     "text": [
      "Epoch 67: train=0.637108, val=0.427281, took 581.92 s\n"
     ]
    },
    {
     "data": {
      "application/vnd.jupyter.widget-view+json": {
       "model_id": "",
       "version_major": 2,
       "version_minor": 0
      },
      "text/plain": [
       "HBox(children=(FloatProgress(value=0.0, description='Training', layout=Layout(flex='2'), max=5000.0, style=Pro…"
      ]
     },
     "metadata": {},
     "output_type": "display_data"
    },
    {
     "name": "stdout",
     "output_type": "stream",
     "text": [
      "Epoch 68: train=0.639977, val=0.432215, took 580.46 s\n"
     ]
    },
    {
     "data": {
      "application/vnd.jupyter.widget-view+json": {
       "model_id": "",
       "version_major": 2,
       "version_minor": 0
      },
      "text/plain": [
       "HBox(children=(FloatProgress(value=0.0, description='Training', layout=Layout(flex='2'), max=5000.0, style=Pro…"
      ]
     },
     "metadata": {},
     "output_type": "display_data"
    },
    {
     "name": "stdout",
     "output_type": "stream",
     "text": [
      "Epoch 69: train=0.63708, val=0.435984, took 580.21 s\n"
     ]
    },
    {
     "data": {
      "application/vnd.jupyter.widget-view+json": {
       "model_id": "",
       "version_major": 2,
       "version_minor": 0
      },
      "text/plain": [
       "HBox(children=(FloatProgress(value=0.0, description='Training', layout=Layout(flex='2'), max=5000.0, style=Pro…"
      ]
     },
     "metadata": {},
     "output_type": "display_data"
    },
    {
     "name": "stdout",
     "output_type": "stream",
     "text": [
      "Epoch 70: train=0.638211, val=0.489371, took 579.3 s\n"
     ]
    },
    {
     "data": {
      "application/vnd.jupyter.widget-view+json": {
       "model_id": "",
       "version_major": 2,
       "version_minor": 0
      },
      "text/plain": [
       "HBox(children=(FloatProgress(value=0.0, description='Training', layout=Layout(flex='2'), max=5000.0, style=Pro…"
      ]
     },
     "metadata": {},
     "output_type": "display_data"
    },
    {
     "name": "stdout",
     "output_type": "stream",
     "text": [
      "Epoch 71: train=0.636984, val=0.434056, took 580.84 s\n"
     ]
    },
    {
     "data": {
      "application/vnd.jupyter.widget-view+json": {
       "model_id": "",
       "version_major": 2,
       "version_minor": 0
      },
      "text/plain": [
       "HBox(children=(FloatProgress(value=0.0, description='Training', layout=Layout(flex='2'), max=5000.0, style=Pro…"
      ]
     },
     "metadata": {},
     "output_type": "display_data"
    },
    {
     "name": "stdout",
     "output_type": "stream",
     "text": [
      "Epoch 72: train=0.635676, val=0.446321, took 581.42 s\n"
     ]
    },
    {
     "data": {
      "application/vnd.jupyter.widget-view+json": {
       "model_id": "",
       "version_major": 2,
       "version_minor": 0
      },
      "text/plain": [
       "HBox(children=(FloatProgress(value=0.0, description='Training', layout=Layout(flex='2'), max=5000.0, style=Pro…"
      ]
     },
     "metadata": {},
     "output_type": "display_data"
    },
    {
     "name": "stdout",
     "output_type": "stream",
     "text": [
      "Epoch 73: train=0.636358, val=0.433737, took 580.44 s\n"
     ]
    },
    {
     "data": {
      "application/vnd.jupyter.widget-view+json": {
       "model_id": "",
       "version_major": 2,
       "version_minor": 0
      },
      "text/plain": [
       "HBox(children=(FloatProgress(value=0.0, description='Training', layout=Layout(flex='2'), max=5000.0, style=Pro…"
      ]
     },
     "metadata": {},
     "output_type": "display_data"
    },
    {
     "name": "stdout",
     "output_type": "stream",
     "text": [
      "Epoch 74: train=0.636776, val=0.425937, took 581.79 s\n"
     ]
    },
    {
     "data": {
      "application/vnd.jupyter.widget-view+json": {
       "model_id": "",
       "version_major": 2,
       "version_minor": 0
      },
      "text/plain": [
       "HBox(children=(FloatProgress(value=0.0, description='Training', layout=Layout(flex='2'), max=5000.0, style=Pro…"
      ]
     },
     "metadata": {},
     "output_type": "display_data"
    },
    {
     "name": "stdout",
     "output_type": "stream",
     "text": [
      "Epoch 75: train=0.636986, val=0.433816, took 581.8 s\n"
     ]
    },
    {
     "data": {
      "application/vnd.jupyter.widget-view+json": {
       "model_id": "",
       "version_major": 2,
       "version_minor": 0
      },
      "text/plain": [
       "HBox(children=(FloatProgress(value=0.0, description='Training', layout=Layout(flex='2'), max=5000.0, style=Pro…"
      ]
     },
     "metadata": {},
     "output_type": "display_data"
    },
    {
     "name": "stdout",
     "output_type": "stream",
     "text": [
      "Epoch 76: train=0.635139, val=0.43996, took 581.18 s\n"
     ]
    },
    {
     "data": {
      "application/vnd.jupyter.widget-view+json": {
       "model_id": "",
       "version_major": 2,
       "version_minor": 0
      },
      "text/plain": [
       "HBox(children=(FloatProgress(value=0.0, description='Training', layout=Layout(flex='2'), max=5000.0, style=Pro…"
      ]
     },
     "metadata": {},
     "output_type": "display_data"
    },
    {
     "name": "stdout",
     "output_type": "stream",
     "text": [
      "Epoch 77: train=0.635464, val=0.429449, took 582.09 s\n"
     ]
    },
    {
     "data": {
      "application/vnd.jupyter.widget-view+json": {
       "model_id": "",
       "version_major": 2,
       "version_minor": 0
      },
      "text/plain": [
       "HBox(children=(FloatProgress(value=0.0, description='Training', layout=Layout(flex='2'), max=5000.0, style=Pro…"
      ]
     },
     "metadata": {},
     "output_type": "display_data"
    },
    {
     "name": "stdout",
     "output_type": "stream",
     "text": [
      "Epoch 78: train=0.634535, val=0.439045, took 581.05 s\n"
     ]
    },
    {
     "data": {
      "application/vnd.jupyter.widget-view+json": {
       "model_id": "",
       "version_major": 2,
       "version_minor": 0
      },
      "text/plain": [
       "HBox(children=(FloatProgress(value=0.0, description='Training', layout=Layout(flex='2'), max=5000.0, style=Pro…"
      ]
     },
     "metadata": {},
     "output_type": "display_data"
    },
    {
     "name": "stdout",
     "output_type": "stream",
     "text": [
      "Epoch 79: train=0.635558, val=0.44595, took 581.75 s\n",
      "\n"
     ]
    }
   ],
   "source": [
    "for result in trainNet(model, optimizer, loss,\n",
    "                        train_loader, val_loader,\n",
    "                        n_epochs, epoch_start=len(results),\n",
    "                        notebook=True):\n",
    "    \n",
    "    results = results.append(pd.Series(result._asdict()), ignore_index=True)\n",
    "    xs = results.index\n",
    "    \n",
    "    # Update the plot above\n",
    "    lines['train'].set_data(results.index,results.cost)\n",
    "    lines['val'].set_data(results.index,results.val)\n",
    "    \n",
    "    #filter first cost epoch (can be really large)\n",
    "    max_cost = max(max(results.cost if len(results.cost)<2 else results.cost[1:]), max(results.val))\n",
    "    min_cost = min(min(results.cost), min(results.val))\n",
    "    \n",
    "    # The plot limits need updating too\n",
    "    \n",
    "    \n",
    "    \n",
    "    ax.set_ylim(min_cost*.9, max_cost*1.1)  \n",
    "    ax.set_xlim(-.5, len(results.cost) - .5)\n",
    "\n",
    "    \n",
    "    # Redraw the figure\n",
    "    fig.canvas.draw()\n",
    "\n",
    "    # Save each model state dictionary\n",
    "    torch.save(model.state_dict(), output / f'{name}_{result.epoch}.pyt')"
   ]
  },
  {
   "cell_type": "markdown",
   "metadata": {},
   "source": [
    "Go ahead and save the final model (even though it was also saved above):"
   ]
  },
  {
   "cell_type": "code",
   "execution_count": 19,
   "metadata": {},
   "outputs": [],
   "source": [
    "torch.save(model.state_dict(), output / f'{name}_final.pyt')"
   ]
  },
  {
   "cell_type": "markdown",
   "metadata": {},
   "source": [
    "Save the output results:"
   ]
  },
  {
   "cell_type": "code",
   "execution_count": 20,
   "metadata": {},
   "outputs": [],
   "source": [
    "results.to_hdf(output / f'{name}_stats.hdf5', 'results')"
   ]
  },
  {
   "cell_type": "markdown",
   "metadata": {},
   "source": [
    "Save the plot above:"
   ]
  },
  {
   "cell_type": "code",
   "execution_count": 21,
   "metadata": {},
   "outputs": [
    {
     "data": {
      "application/javascript": [
       "/* Put everything inside the global mpl namespace */\n",
       "window.mpl = {};\n",
       "\n",
       "\n",
       "mpl.get_websocket_type = function() {\n",
       "    if (typeof(WebSocket) !== 'undefined') {\n",
       "        return WebSocket;\n",
       "    } else if (typeof(MozWebSocket) !== 'undefined') {\n",
       "        return MozWebSocket;\n",
       "    } else {\n",
       "        alert('Your browser does not have WebSocket support. ' +\n",
       "              'Please try Chrome, Safari or Firefox ≥ 6. ' +\n",
       "              'Firefox 4 and 5 are also supported but you ' +\n",
       "              'have to enable WebSockets in about:config.');\n",
       "    };\n",
       "}\n",
       "\n",
       "mpl.figure = function(figure_id, websocket, ondownload, parent_element) {\n",
       "    this.id = figure_id;\n",
       "\n",
       "    this.ws = websocket;\n",
       "\n",
       "    this.supports_binary = (this.ws.binaryType != undefined);\n",
       "\n",
       "    if (!this.supports_binary) {\n",
       "        var warnings = document.getElementById(\"mpl-warnings\");\n",
       "        if (warnings) {\n",
       "            warnings.style.display = 'block';\n",
       "            warnings.textContent = (\n",
       "                \"This browser does not support binary websocket messages. \" +\n",
       "                    \"Performance may be slow.\");\n",
       "        }\n",
       "    }\n",
       "\n",
       "    this.imageObj = new Image();\n",
       "\n",
       "    this.context = undefined;\n",
       "    this.message = undefined;\n",
       "    this.canvas = undefined;\n",
       "    this.rubberband_canvas = undefined;\n",
       "    this.rubberband_context = undefined;\n",
       "    this.format_dropdown = undefined;\n",
       "\n",
       "    this.image_mode = 'full';\n",
       "\n",
       "    this.root = $('<div/>');\n",
       "    this._root_extra_style(this.root)\n",
       "    this.root.attr('style', 'display: inline-block');\n",
       "\n",
       "    $(parent_element).append(this.root);\n",
       "\n",
       "    this._init_header(this);\n",
       "    this._init_canvas(this);\n",
       "    this._init_toolbar(this);\n",
       "\n",
       "    var fig = this;\n",
       "\n",
       "    this.waiting = false;\n",
       "\n",
       "    this.ws.onopen =  function () {\n",
       "            fig.send_message(\"supports_binary\", {value: fig.supports_binary});\n",
       "            fig.send_message(\"send_image_mode\", {});\n",
       "            if (mpl.ratio != 1) {\n",
       "                fig.send_message(\"set_dpi_ratio\", {'dpi_ratio': mpl.ratio});\n",
       "            }\n",
       "            fig.send_message(\"refresh\", {});\n",
       "        }\n",
       "\n",
       "    this.imageObj.onload = function() {\n",
       "            if (fig.image_mode == 'full') {\n",
       "                // Full images could contain transparency (where diff images\n",
       "                // almost always do), so we need to clear the canvas so that\n",
       "                // there is no ghosting.\n",
       "                fig.context.clearRect(0, 0, fig.canvas.width, fig.canvas.height);\n",
       "            }\n",
       "            fig.context.drawImage(fig.imageObj, 0, 0);\n",
       "        };\n",
       "\n",
       "    this.imageObj.onunload = function() {\n",
       "        fig.ws.close();\n",
       "    }\n",
       "\n",
       "    this.ws.onmessage = this._make_on_message_function(this);\n",
       "\n",
       "    this.ondownload = ondownload;\n",
       "}\n",
       "\n",
       "mpl.figure.prototype._init_header = function() {\n",
       "    var titlebar = $(\n",
       "        '<div class=\"ui-dialog-titlebar ui-widget-header ui-corner-all ' +\n",
       "        'ui-helper-clearfix\"/>');\n",
       "    var titletext = $(\n",
       "        '<div class=\"ui-dialog-title\" style=\"width: 100%; ' +\n",
       "        'text-align: center; padding: 3px;\"/>');\n",
       "    titlebar.append(titletext)\n",
       "    this.root.append(titlebar);\n",
       "    this.header = titletext[0];\n",
       "}\n",
       "\n",
       "\n",
       "\n",
       "mpl.figure.prototype._canvas_extra_style = function(canvas_div) {\n",
       "\n",
       "}\n",
       "\n",
       "\n",
       "mpl.figure.prototype._root_extra_style = function(canvas_div) {\n",
       "\n",
       "}\n",
       "\n",
       "mpl.figure.prototype._init_canvas = function() {\n",
       "    var fig = this;\n",
       "\n",
       "    var canvas_div = $('<div/>');\n",
       "\n",
       "    canvas_div.attr('style', 'position: relative; clear: both; outline: 0');\n",
       "\n",
       "    function canvas_keyboard_event(event) {\n",
       "        return fig.key_event(event, event['data']);\n",
       "    }\n",
       "\n",
       "    canvas_div.keydown('key_press', canvas_keyboard_event);\n",
       "    canvas_div.keyup('key_release', canvas_keyboard_event);\n",
       "    this.canvas_div = canvas_div\n",
       "    this._canvas_extra_style(canvas_div)\n",
       "    this.root.append(canvas_div);\n",
       "\n",
       "    var canvas = $('<canvas/>');\n",
       "    canvas.addClass('mpl-canvas');\n",
       "    canvas.attr('style', \"left: 0; top: 0; z-index: 0; outline: 0\")\n",
       "\n",
       "    this.canvas = canvas[0];\n",
       "    this.context = canvas[0].getContext(\"2d\");\n",
       "\n",
       "    var backingStore = this.context.backingStorePixelRatio ||\n",
       "\tthis.context.webkitBackingStorePixelRatio ||\n",
       "\tthis.context.mozBackingStorePixelRatio ||\n",
       "\tthis.context.msBackingStorePixelRatio ||\n",
       "\tthis.context.oBackingStorePixelRatio ||\n",
       "\tthis.context.backingStorePixelRatio || 1;\n",
       "\n",
       "    mpl.ratio = (window.devicePixelRatio || 1) / backingStore;\n",
       "\n",
       "    var rubberband = $('<canvas/>');\n",
       "    rubberband.attr('style', \"position: absolute; left: 0; top: 0; z-index: 1;\")\n",
       "\n",
       "    var pass_mouse_events = true;\n",
       "\n",
       "    canvas_div.resizable({\n",
       "        start: function(event, ui) {\n",
       "            pass_mouse_events = false;\n",
       "        },\n",
       "        resize: function(event, ui) {\n",
       "            fig.request_resize(ui.size.width, ui.size.height);\n",
       "        },\n",
       "        stop: function(event, ui) {\n",
       "            pass_mouse_events = true;\n",
       "            fig.request_resize(ui.size.width, ui.size.height);\n",
       "        },\n",
       "    });\n",
       "\n",
       "    function mouse_event_fn(event) {\n",
       "        if (pass_mouse_events)\n",
       "            return fig.mouse_event(event, event['data']);\n",
       "    }\n",
       "\n",
       "    rubberband.mousedown('button_press', mouse_event_fn);\n",
       "    rubberband.mouseup('button_release', mouse_event_fn);\n",
       "    // Throttle sequential mouse events to 1 every 20ms.\n",
       "    rubberband.mousemove('motion_notify', mouse_event_fn);\n",
       "\n",
       "    rubberband.mouseenter('figure_enter', mouse_event_fn);\n",
       "    rubberband.mouseleave('figure_leave', mouse_event_fn);\n",
       "\n",
       "    canvas_div.on(\"wheel\", function (event) {\n",
       "        event = event.originalEvent;\n",
       "        event['data'] = 'scroll'\n",
       "        if (event.deltaY < 0) {\n",
       "            event.step = 1;\n",
       "        } else {\n",
       "            event.step = -1;\n",
       "        }\n",
       "        mouse_event_fn(event);\n",
       "    });\n",
       "\n",
       "    canvas_div.append(canvas);\n",
       "    canvas_div.append(rubberband);\n",
       "\n",
       "    this.rubberband = rubberband;\n",
       "    this.rubberband_canvas = rubberband[0];\n",
       "    this.rubberband_context = rubberband[0].getContext(\"2d\");\n",
       "    this.rubberband_context.strokeStyle = \"#000000\";\n",
       "\n",
       "    this._resize_canvas = function(width, height) {\n",
       "        // Keep the size of the canvas, canvas container, and rubber band\n",
       "        // canvas in synch.\n",
       "        canvas_div.css('width', width)\n",
       "        canvas_div.css('height', height)\n",
       "\n",
       "        canvas.attr('width', width * mpl.ratio);\n",
       "        canvas.attr('height', height * mpl.ratio);\n",
       "        canvas.attr('style', 'width: ' + width + 'px; height: ' + height + 'px;');\n",
       "\n",
       "        rubberband.attr('width', width);\n",
       "        rubberband.attr('height', height);\n",
       "    }\n",
       "\n",
       "    // Set the figure to an initial 600x600px, this will subsequently be updated\n",
       "    // upon first draw.\n",
       "    this._resize_canvas(600, 600);\n",
       "\n",
       "    // Disable right mouse context menu.\n",
       "    $(this.rubberband_canvas).bind(\"contextmenu\",function(e){\n",
       "        return false;\n",
       "    });\n",
       "\n",
       "    function set_focus () {\n",
       "        canvas.focus();\n",
       "        canvas_div.focus();\n",
       "    }\n",
       "\n",
       "    window.setTimeout(set_focus, 100);\n",
       "}\n",
       "\n",
       "mpl.figure.prototype._init_toolbar = function() {\n",
       "    var fig = this;\n",
       "\n",
       "    var nav_element = $('<div/>');\n",
       "    nav_element.attr('style', 'width: 100%');\n",
       "    this.root.append(nav_element);\n",
       "\n",
       "    // Define a callback function for later on.\n",
       "    function toolbar_event(event) {\n",
       "        return fig.toolbar_button_onclick(event['data']);\n",
       "    }\n",
       "    function toolbar_mouse_event(event) {\n",
       "        return fig.toolbar_button_onmouseover(event['data']);\n",
       "    }\n",
       "\n",
       "    for(var toolbar_ind in mpl.toolbar_items) {\n",
       "        var name = mpl.toolbar_items[toolbar_ind][0];\n",
       "        var tooltip = mpl.toolbar_items[toolbar_ind][1];\n",
       "        var image = mpl.toolbar_items[toolbar_ind][2];\n",
       "        var method_name = mpl.toolbar_items[toolbar_ind][3];\n",
       "\n",
       "        if (!name) {\n",
       "            // put a spacer in here.\n",
       "            continue;\n",
       "        }\n",
       "        var button = $('<button/>');\n",
       "        button.addClass('ui-button ui-widget ui-state-default ui-corner-all ' +\n",
       "                        'ui-button-icon-only');\n",
       "        button.attr('role', 'button');\n",
       "        button.attr('aria-disabled', 'false');\n",
       "        button.click(method_name, toolbar_event);\n",
       "        button.mouseover(tooltip, toolbar_mouse_event);\n",
       "\n",
       "        var icon_img = $('<span/>');\n",
       "        icon_img.addClass('ui-button-icon-primary ui-icon');\n",
       "        icon_img.addClass(image);\n",
       "        icon_img.addClass('ui-corner-all');\n",
       "\n",
       "        var tooltip_span = $('<span/>');\n",
       "        tooltip_span.addClass('ui-button-text');\n",
       "        tooltip_span.html(tooltip);\n",
       "\n",
       "        button.append(icon_img);\n",
       "        button.append(tooltip_span);\n",
       "\n",
       "        nav_element.append(button);\n",
       "    }\n",
       "\n",
       "    var fmt_picker_span = $('<span/>');\n",
       "\n",
       "    var fmt_picker = $('<select/>');\n",
       "    fmt_picker.addClass('mpl-toolbar-option ui-widget ui-widget-content');\n",
       "    fmt_picker_span.append(fmt_picker);\n",
       "    nav_element.append(fmt_picker_span);\n",
       "    this.format_dropdown = fmt_picker[0];\n",
       "\n",
       "    for (var ind in mpl.extensions) {\n",
       "        var fmt = mpl.extensions[ind];\n",
       "        var option = $(\n",
       "            '<option/>', {selected: fmt === mpl.default_extension}).html(fmt);\n",
       "        fmt_picker.append(option);\n",
       "    }\n",
       "\n",
       "    // Add hover states to the ui-buttons\n",
       "    $( \".ui-button\" ).hover(\n",
       "        function() { $(this).addClass(\"ui-state-hover\");},\n",
       "        function() { $(this).removeClass(\"ui-state-hover\");}\n",
       "    );\n",
       "\n",
       "    var status_bar = $('<span class=\"mpl-message\"/>');\n",
       "    nav_element.append(status_bar);\n",
       "    this.message = status_bar[0];\n",
       "}\n",
       "\n",
       "mpl.figure.prototype.request_resize = function(x_pixels, y_pixels) {\n",
       "    // Request matplotlib to resize the figure. Matplotlib will then trigger a resize in the client,\n",
       "    // which will in turn request a refresh of the image.\n",
       "    this.send_message('resize', {'width': x_pixels, 'height': y_pixels});\n",
       "}\n",
       "\n",
       "mpl.figure.prototype.send_message = function(type, properties) {\n",
       "    properties['type'] = type;\n",
       "    properties['figure_id'] = this.id;\n",
       "    this.ws.send(JSON.stringify(properties));\n",
       "}\n",
       "\n",
       "mpl.figure.prototype.send_draw_message = function() {\n",
       "    if (!this.waiting) {\n",
       "        this.waiting = true;\n",
       "        this.ws.send(JSON.stringify({type: \"draw\", figure_id: this.id}));\n",
       "    }\n",
       "}\n",
       "\n",
       "\n",
       "mpl.figure.prototype.handle_save = function(fig, msg) {\n",
       "    var format_dropdown = fig.format_dropdown;\n",
       "    var format = format_dropdown.options[format_dropdown.selectedIndex].value;\n",
       "    fig.ondownload(fig, format);\n",
       "}\n",
       "\n",
       "\n",
       "mpl.figure.prototype.handle_resize = function(fig, msg) {\n",
       "    var size = msg['size'];\n",
       "    if (size[0] != fig.canvas.width || size[1] != fig.canvas.height) {\n",
       "        fig._resize_canvas(size[0], size[1]);\n",
       "        fig.send_message(\"refresh\", {});\n",
       "    };\n",
       "}\n",
       "\n",
       "mpl.figure.prototype.handle_rubberband = function(fig, msg) {\n",
       "    var x0 = msg['x0'] / mpl.ratio;\n",
       "    var y0 = (fig.canvas.height - msg['y0']) / mpl.ratio;\n",
       "    var x1 = msg['x1'] / mpl.ratio;\n",
       "    var y1 = (fig.canvas.height - msg['y1']) / mpl.ratio;\n",
       "    x0 = Math.floor(x0) + 0.5;\n",
       "    y0 = Math.floor(y0) + 0.5;\n",
       "    x1 = Math.floor(x1) + 0.5;\n",
       "    y1 = Math.floor(y1) + 0.5;\n",
       "    var min_x = Math.min(x0, x1);\n",
       "    var min_y = Math.min(y0, y1);\n",
       "    var width = Math.abs(x1 - x0);\n",
       "    var height = Math.abs(y1 - y0);\n",
       "\n",
       "    fig.rubberband_context.clearRect(\n",
       "        0, 0, fig.canvas.width / mpl.ratio, fig.canvas.height / mpl.ratio);\n",
       "\n",
       "    fig.rubberband_context.strokeRect(min_x, min_y, width, height);\n",
       "}\n",
       "\n",
       "mpl.figure.prototype.handle_figure_label = function(fig, msg) {\n",
       "    // Updates the figure title.\n",
       "    fig.header.textContent = msg['label'];\n",
       "}\n",
       "\n",
       "mpl.figure.prototype.handle_cursor = function(fig, msg) {\n",
       "    var cursor = msg['cursor'];\n",
       "    switch(cursor)\n",
       "    {\n",
       "    case 0:\n",
       "        cursor = 'pointer';\n",
       "        break;\n",
       "    case 1:\n",
       "        cursor = 'default';\n",
       "        break;\n",
       "    case 2:\n",
       "        cursor = 'crosshair';\n",
       "        break;\n",
       "    case 3:\n",
       "        cursor = 'move';\n",
       "        break;\n",
       "    }\n",
       "    fig.rubberband_canvas.style.cursor = cursor;\n",
       "}\n",
       "\n",
       "mpl.figure.prototype.handle_message = function(fig, msg) {\n",
       "    fig.message.textContent = msg['message'];\n",
       "}\n",
       "\n",
       "mpl.figure.prototype.handle_draw = function(fig, msg) {\n",
       "    // Request the server to send over a new figure.\n",
       "    fig.send_draw_message();\n",
       "}\n",
       "\n",
       "mpl.figure.prototype.handle_image_mode = function(fig, msg) {\n",
       "    fig.image_mode = msg['mode'];\n",
       "}\n",
       "\n",
       "mpl.figure.prototype.updated_canvas_event = function() {\n",
       "    // Called whenever the canvas gets updated.\n",
       "    this.send_message(\"ack\", {});\n",
       "}\n",
       "\n",
       "// A function to construct a web socket function for onmessage handling.\n",
       "// Called in the figure constructor.\n",
       "mpl.figure.prototype._make_on_message_function = function(fig) {\n",
       "    return function socket_on_message(evt) {\n",
       "        if (evt.data instanceof Blob) {\n",
       "            /* FIXME: We get \"Resource interpreted as Image but\n",
       "             * transferred with MIME type text/plain:\" errors on\n",
       "             * Chrome.  But how to set the MIME type?  It doesn't seem\n",
       "             * to be part of the websocket stream */\n",
       "            evt.data.type = \"image/png\";\n",
       "\n",
       "            /* Free the memory for the previous frames */\n",
       "            if (fig.imageObj.src) {\n",
       "                (window.URL || window.webkitURL).revokeObjectURL(\n",
       "                    fig.imageObj.src);\n",
       "            }\n",
       "\n",
       "            fig.imageObj.src = (window.URL || window.webkitURL).createObjectURL(\n",
       "                evt.data);\n",
       "            fig.updated_canvas_event();\n",
       "            fig.waiting = false;\n",
       "            return;\n",
       "        }\n",
       "        else if (typeof evt.data === 'string' && evt.data.slice(0, 21) == \"data:image/png;base64\") {\n",
       "            fig.imageObj.src = evt.data;\n",
       "            fig.updated_canvas_event();\n",
       "            fig.waiting = false;\n",
       "            return;\n",
       "        }\n",
       "\n",
       "        var msg = JSON.parse(evt.data);\n",
       "        var msg_type = msg['type'];\n",
       "\n",
       "        // Call the  \"handle_{type}\" callback, which takes\n",
       "        // the figure and JSON message as its only arguments.\n",
       "        try {\n",
       "            var callback = fig[\"handle_\" + msg_type];\n",
       "        } catch (e) {\n",
       "            console.log(\"No handler for the '\" + msg_type + \"' message type: \", msg);\n",
       "            return;\n",
       "        }\n",
       "\n",
       "        if (callback) {\n",
       "            try {\n",
       "                // console.log(\"Handling '\" + msg_type + \"' message: \", msg);\n",
       "                callback(fig, msg);\n",
       "            } catch (e) {\n",
       "                console.log(\"Exception inside the 'handler_\" + msg_type + \"' callback:\", e, e.stack, msg);\n",
       "            }\n",
       "        }\n",
       "    };\n",
       "}\n",
       "\n",
       "// from http://stackoverflow.com/questions/1114465/getting-mouse-location-in-canvas\n",
       "mpl.findpos = function(e) {\n",
       "    //this section is from http://www.quirksmode.org/js/events_properties.html\n",
       "    var targ;\n",
       "    if (!e)\n",
       "        e = window.event;\n",
       "    if (e.target)\n",
       "        targ = e.target;\n",
       "    else if (e.srcElement)\n",
       "        targ = e.srcElement;\n",
       "    if (targ.nodeType == 3) // defeat Safari bug\n",
       "        targ = targ.parentNode;\n",
       "\n",
       "    // jQuery normalizes the pageX and pageY\n",
       "    // pageX,Y are the mouse positions relative to the document\n",
       "    // offset() returns the position of the element relative to the document\n",
       "    var x = e.pageX - $(targ).offset().left;\n",
       "    var y = e.pageY - $(targ).offset().top;\n",
       "\n",
       "    return {\"x\": x, \"y\": y};\n",
       "};\n",
       "\n",
       "/*\n",
       " * return a copy of an object with only non-object keys\n",
       " * we need this to avoid circular references\n",
       " * http://stackoverflow.com/a/24161582/3208463\n",
       " */\n",
       "function simpleKeys (original) {\n",
       "  return Object.keys(original).reduce(function (obj, key) {\n",
       "    if (typeof original[key] !== 'object')\n",
       "        obj[key] = original[key]\n",
       "    return obj;\n",
       "  }, {});\n",
       "}\n",
       "\n",
       "mpl.figure.prototype.mouse_event = function(event, name) {\n",
       "    var canvas_pos = mpl.findpos(event)\n",
       "\n",
       "    if (name === 'button_press')\n",
       "    {\n",
       "        this.canvas.focus();\n",
       "        this.canvas_div.focus();\n",
       "    }\n",
       "\n",
       "    var x = canvas_pos.x * mpl.ratio;\n",
       "    var y = canvas_pos.y * mpl.ratio;\n",
       "\n",
       "    this.send_message(name, {x: x, y: y, button: event.button,\n",
       "                             step: event.step,\n",
       "                             guiEvent: simpleKeys(event)});\n",
       "\n",
       "    /* This prevents the web browser from automatically changing to\n",
       "     * the text insertion cursor when the button is pressed.  We want\n",
       "     * to control all of the cursor setting manually through the\n",
       "     * 'cursor' event from matplotlib */\n",
       "    event.preventDefault();\n",
       "    return false;\n",
       "}\n",
       "\n",
       "mpl.figure.prototype._key_event_extra = function(event, name) {\n",
       "    // Handle any extra behaviour associated with a key event\n",
       "}\n",
       "\n",
       "mpl.figure.prototype.key_event = function(event, name) {\n",
       "\n",
       "    // Prevent repeat events\n",
       "    if (name == 'key_press')\n",
       "    {\n",
       "        if (event.which === this._key)\n",
       "            return;\n",
       "        else\n",
       "            this._key = event.which;\n",
       "    }\n",
       "    if (name == 'key_release')\n",
       "        this._key = null;\n",
       "\n",
       "    var value = '';\n",
       "    if (event.ctrlKey && event.which != 17)\n",
       "        value += \"ctrl+\";\n",
       "    if (event.altKey && event.which != 18)\n",
       "        value += \"alt+\";\n",
       "    if (event.shiftKey && event.which != 16)\n",
       "        value += \"shift+\";\n",
       "\n",
       "    value += 'k';\n",
       "    value += event.which.toString();\n",
       "\n",
       "    this._key_event_extra(event, name);\n",
       "\n",
       "    this.send_message(name, {key: value,\n",
       "                             guiEvent: simpleKeys(event)});\n",
       "    return false;\n",
       "}\n",
       "\n",
       "mpl.figure.prototype.toolbar_button_onclick = function(name) {\n",
       "    if (name == 'download') {\n",
       "        this.handle_save(this, null);\n",
       "    } else {\n",
       "        this.send_message(\"toolbar_button\", {name: name});\n",
       "    }\n",
       "};\n",
       "\n",
       "mpl.figure.prototype.toolbar_button_onmouseover = function(tooltip) {\n",
       "    this.message.textContent = tooltip;\n",
       "};\n",
       "mpl.toolbar_items = [[\"Home\", \"Reset original view\", \"fa fa-home icon-home\", \"home\"], [\"Back\", \"Back to previous view\", \"fa fa-arrow-left icon-arrow-left\", \"back\"], [\"Forward\", \"Forward to next view\", \"fa fa-arrow-right icon-arrow-right\", \"forward\"], [\"\", \"\", \"\", \"\"], [\"Pan\", \"Pan axes with left mouse, zoom with right\", \"fa fa-arrows icon-move\", \"pan\"], [\"Zoom\", \"Zoom to rectangle\", \"fa fa-square-o icon-check-empty\", \"zoom\"], [\"\", \"\", \"\", \"\"], [\"Download\", \"Download plot\", \"fa fa-floppy-o icon-save\", \"download\"]];\n",
       "\n",
       "mpl.extensions = [\"eps\", \"jpeg\", \"pdf\", \"png\", \"ps\", \"raw\", \"svg\", \"tif\"];\n",
       "\n",
       "mpl.default_extension = \"png\";var comm_websocket_adapter = function(comm) {\n",
       "    // Create a \"websocket\"-like object which calls the given IPython comm\n",
       "    // object with the appropriate methods. Currently this is a non binary\n",
       "    // socket, so there is still some room for performance tuning.\n",
       "    var ws = {};\n",
       "\n",
       "    ws.close = function() {\n",
       "        comm.close()\n",
       "    };\n",
       "    ws.send = function(m) {\n",
       "        //console.log('sending', m);\n",
       "        comm.send(m);\n",
       "    };\n",
       "    // Register the callback with on_msg.\n",
       "    comm.on_msg(function(msg) {\n",
       "        //console.log('receiving', msg['content']['data'], msg);\n",
       "        // Pass the mpl event to the overridden (by mpl) onmessage function.\n",
       "        ws.onmessage(msg['content']['data'])\n",
       "    });\n",
       "    return ws;\n",
       "}\n",
       "\n",
       "mpl.mpl_figure_comm = function(comm, msg) {\n",
       "    // This is the function which gets called when the mpl process\n",
       "    // starts-up an IPython Comm through the \"matplotlib\" channel.\n",
       "\n",
       "    var id = msg.content.data.id;\n",
       "    // Get hold of the div created by the display call when the Comm\n",
       "    // socket was opened in Python.\n",
       "    var element = $(\"#\" + id);\n",
       "    var ws_proxy = comm_websocket_adapter(comm)\n",
       "\n",
       "    function ondownload(figure, format) {\n",
       "        window.open(figure.imageObj.src);\n",
       "    }\n",
       "\n",
       "    var fig = new mpl.figure(id, ws_proxy,\n",
       "                           ondownload,\n",
       "                           element.get(0));\n",
       "\n",
       "    // Call onopen now - mpl needs it, as it is assuming we've passed it a real\n",
       "    // web socket which is closed, not our websocket->open comm proxy.\n",
       "    ws_proxy.onopen();\n",
       "\n",
       "    fig.parent_element = element.get(0);\n",
       "    fig.cell_info = mpl.find_output_cell(\"<div id='\" + id + \"'></div>\");\n",
       "    if (!fig.cell_info) {\n",
       "        console.error(\"Failed to find cell for figure\", id, fig);\n",
       "        return;\n",
       "    }\n",
       "\n",
       "    var output_index = fig.cell_info[2]\n",
       "    var cell = fig.cell_info[0];\n",
       "\n",
       "};\n",
       "\n",
       "mpl.figure.prototype.handle_close = function(fig, msg) {\n",
       "    var width = fig.canvas.width/mpl.ratio\n",
       "    fig.root.unbind('remove')\n",
       "\n",
       "    // Update the output cell to use the data from the current canvas.\n",
       "    fig.push_to_output();\n",
       "    var dataURL = fig.canvas.toDataURL();\n",
       "    // Re-enable the keyboard manager in IPython - without this line, in FF,\n",
       "    // the notebook keyboard shortcuts fail.\n",
       "    IPython.keyboard_manager.enable()\n",
       "    $(fig.parent_element).html('<img src=\"' + dataURL + '\" width=\"' + width + '\">');\n",
       "    fig.close_ws(fig, msg);\n",
       "}\n",
       "\n",
       "mpl.figure.prototype.close_ws = function(fig, msg){\n",
       "    fig.send_message('closing', msg);\n",
       "    // fig.ws.close()\n",
       "}\n",
       "\n",
       "mpl.figure.prototype.push_to_output = function(remove_interactive) {\n",
       "    // Turn the data on the canvas into data in the output cell.\n",
       "    var width = this.canvas.width/mpl.ratio\n",
       "    var dataURL = this.canvas.toDataURL();\n",
       "    this.cell_info[1]['text/html'] = '<img src=\"' + dataURL + '\" width=\"' + width + '\">';\n",
       "}\n",
       "\n",
       "mpl.figure.prototype.updated_canvas_event = function() {\n",
       "    // Tell IPython that the notebook contents must change.\n",
       "    IPython.notebook.set_dirty(true);\n",
       "    this.send_message(\"ack\", {});\n",
       "    var fig = this;\n",
       "    // Wait a second, then push the new image to the DOM so\n",
       "    // that it is saved nicely (might be nice to debounce this).\n",
       "    setTimeout(function () { fig.push_to_output() }, 1000);\n",
       "}\n",
       "\n",
       "mpl.figure.prototype._init_toolbar = function() {\n",
       "    var fig = this;\n",
       "\n",
       "    var nav_element = $('<div/>');\n",
       "    nav_element.attr('style', 'width: 100%');\n",
       "    this.root.append(nav_element);\n",
       "\n",
       "    // Define a callback function for later on.\n",
       "    function toolbar_event(event) {\n",
       "        return fig.toolbar_button_onclick(event['data']);\n",
       "    }\n",
       "    function toolbar_mouse_event(event) {\n",
       "        return fig.toolbar_button_onmouseover(event['data']);\n",
       "    }\n",
       "\n",
       "    for(var toolbar_ind in mpl.toolbar_items){\n",
       "        var name = mpl.toolbar_items[toolbar_ind][0];\n",
       "        var tooltip = mpl.toolbar_items[toolbar_ind][1];\n",
       "        var image = mpl.toolbar_items[toolbar_ind][2];\n",
       "        var method_name = mpl.toolbar_items[toolbar_ind][3];\n",
       "\n",
       "        if (!name) { continue; };\n",
       "\n",
       "        var button = $('<button class=\"btn btn-default\" href=\"#\" title=\"' + name + '\"><i class=\"fa ' + image + ' fa-lg\"></i></button>');\n",
       "        button.click(method_name, toolbar_event);\n",
       "        button.mouseover(tooltip, toolbar_mouse_event);\n",
       "        nav_element.append(button);\n",
       "    }\n",
       "\n",
       "    // Add the status bar.\n",
       "    var status_bar = $('<span class=\"mpl-message\" style=\"text-align:right; float: right;\"/>');\n",
       "    nav_element.append(status_bar);\n",
       "    this.message = status_bar[0];\n",
       "\n",
       "    // Add the close button to the window.\n",
       "    var buttongrp = $('<div class=\"btn-group inline pull-right\"></div>');\n",
       "    var button = $('<button class=\"btn btn-mini btn-primary\" href=\"#\" title=\"Stop Interaction\"><i class=\"fa fa-power-off icon-remove icon-large\"></i></button>');\n",
       "    button.click(function (evt) { fig.handle_close(fig, {}); } );\n",
       "    button.mouseover('Stop Interaction', toolbar_mouse_event);\n",
       "    buttongrp.append(button);\n",
       "    var titlebar = this.root.find($('.ui-dialog-titlebar'));\n",
       "    titlebar.prepend(buttongrp);\n",
       "}\n",
       "\n",
       "mpl.figure.prototype._root_extra_style = function(el){\n",
       "    var fig = this\n",
       "    el.on(\"remove\", function(){\n",
       "\tfig.close_ws(fig, {});\n",
       "    });\n",
       "}\n",
       "\n",
       "mpl.figure.prototype._canvas_extra_style = function(el){\n",
       "    // this is important to make the div 'focusable\n",
       "    el.attr('tabindex', 0)\n",
       "    // reach out to IPython and tell the keyboard manager to turn it's self\n",
       "    // off when our div gets focus\n",
       "\n",
       "    // location in version 3\n",
       "    if (IPython.notebook.keyboard_manager) {\n",
       "        IPython.notebook.keyboard_manager.register_events(el);\n",
       "    }\n",
       "    else {\n",
       "        // location in version 2\n",
       "        IPython.keyboard_manager.register_events(el);\n",
       "    }\n",
       "\n",
       "}\n",
       "\n",
       "mpl.figure.prototype._key_event_extra = function(event, name) {\n",
       "    var manager = IPython.notebook.keyboard_manager;\n",
       "    if (!manager)\n",
       "        manager = IPython.keyboard_manager;\n",
       "\n",
       "    // Check for shift+enter\n",
       "    if (event.shiftKey && event.which == 13) {\n",
       "        this.canvas_div.blur();\n",
       "        // select the cell after this one\n",
       "        var index = IPython.notebook.find_cell_index(this.cell_info[0]);\n",
       "        IPython.notebook.select(index + 1);\n",
       "    }\n",
       "}\n",
       "\n",
       "mpl.figure.prototype.handle_save = function(fig, msg) {\n",
       "    fig.ondownload(fig, null);\n",
       "}\n",
       "\n",
       "\n",
       "mpl.find_output_cell = function(html_output) {\n",
       "    // Return the cell and output element which can be found *uniquely* in the notebook.\n",
       "    // Note - this is a bit hacky, but it is done because the \"notebook_saving.Notebook\"\n",
       "    // IPython event is triggered only after the cells have been serialised, which for\n",
       "    // our purposes (turning an active figure into a static one), is too late.\n",
       "    var cells = IPython.notebook.get_cells();\n",
       "    var ncells = cells.length;\n",
       "    for (var i=0; i<ncells; i++) {\n",
       "        var cell = cells[i];\n",
       "        if (cell.cell_type === 'code'){\n",
       "            for (var j=0; j<cell.output_area.outputs.length; j++) {\n",
       "                var data = cell.output_area.outputs[j];\n",
       "                if (data.data) {\n",
       "                    // IPython >= 3 moved mimebundle to data attribute of output\n",
       "                    data = data.data;\n",
       "                }\n",
       "                if (data['text/html'] == html_output) {\n",
       "                    return [cell, data, j];\n",
       "                }\n",
       "            }\n",
       "        }\n",
       "    }\n",
       "}\n",
       "\n",
       "// Register the function which deals with the matplotlib target/channel.\n",
       "// The kernel may be null if the page has been refreshed.\n",
       "if (IPython.notebook.kernel != null) {\n",
       "    IPython.notebook.kernel.comm_manager.register_target('matplotlib', mpl.mpl_figure_comm);\n",
       "}\n"
      ],
      "text/plain": [
       "<IPython.core.display.Javascript object>"
      ]
     },
     "metadata": {},
     "output_type": "display_data"
    },
    {
     "data": {
      "text/html": [
       "<img src=\"data:image/png;base64,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\" width=\"1000\">"
      ],
      "text/plain": [
       "<IPython.core.display.HTML object>"
      ]
     },
     "metadata": {},
     "output_type": "display_data"
    }
   ],
   "source": [
    "dual_train_plots(results.index,\n",
    "                 results.cost, results.val,\n",
    "                 results.cost, results.val)\n",
    "plt.tight_layout()\n",
    "plt.savefig(str(output / f'{name}_stats_a.png'))"
   ]
  },
  {
   "cell_type": "code",
   "execution_count": 23,
   "metadata": {},
   "outputs": [],
   "source": [
    "quit()"
   ]
  },
  {
   "cell_type": "code",
   "execution_count": null,
   "metadata": {},
   "outputs": [],
   "source": []
  },
  {
   "cell_type": "code",
   "execution_count": null,
   "metadata": {},
   "outputs": [],
   "source": []
  }
 ],
 "metadata": {
  "kernelspec": {
   "display_name": "goofit-june2020",
   "language": "python",
   "name": "goofit-june2020"
  },
  "language_info": {
   "codemirror_mode": {
    "name": "ipython",
    "version": 3
   },
   "file_extension": ".py",
   "mimetype": "text/x-python",
   "name": "python",
   "nbconvert_exporter": "python",
   "pygments_lexer": "ipython3",
   "version": "3.7.6"
  }
 },
 "nbformat": 4,
 "nbformat_minor": 2
}
