{
 "cells": [
  {
   "cell_type": "code",
   "execution_count": 1,
   "metadata": {},
   "outputs": [],
   "source": [
    "##%matplotlib widget\n",
    "## with %matplotlib notebook: seems to require ipympl as part of environment, either\n",
    "## part of the conda environment or \"pip install ipympl\"\n",
    "## otherwise, does not show ANY plots in notebook, plt.savefig() works\n",
    "%matplotlib notebook  \n",
    "##%matplotlib inline    ## --plt.savefig()  works, but re-sizing does NOT\n"
   ]
  },
  {
   "cell_type": "markdown",
   "metadata": {},
   "source": [
    "This notebook is a first attempt to read in track information and use it to predict the the full target histrograms.\n",
    "\n",
    "It will read in the TracksToDKE__Ellipsoids_DDPlus model to predict the KDE, and then feed it into a SimpleCNN model to predict the target histograms.  Initially, it will use previously trained weights.\n"
   ]
  },
  {
   "cell_type": "markdown",
   "metadata": {},
   "source": [
    "Check the current GPU usage. Please try to be nice!"
   ]
  },
  {
   "cell_type": "code",
   "execution_count": 2,
   "metadata": {},
   "outputs": [
    {
     "name": "stdout",
     "output_type": "stream",
     "text": [
      "Wed Jan 13 13:04:20 2021       \r\n",
      "+-----------------------------------------------------------------------------+\r\n",
      "| NVIDIA-SMI 450.36.06    Driver Version: 450.36.06    CUDA Version: 11.0     |\r\n",
      "|-------------------------------+----------------------+----------------------+\r\n",
      "| GPU  Name        Persistence-M| Bus-Id        Disp.A | Volatile Uncorr. ECC |\r\n",
      "| Fan  Temp  Perf  Pwr:Usage/Cap|         Memory-Usage | GPU-Util  Compute M. |\r\n",
      "|                               |                      |               MIG M. |\r\n",
      "|===============================+======================+======================|\r\n",
      "|   0  GeForce RTX 208...  On   | 00000000:18:00.0 Off |                  N/A |\r\n",
      "| 29%   35C    P8    37W / 250W |  10778MiB / 11019MiB |      0%      Default |\r\n",
      "|                               |                      |                  N/A |\r\n",
      "+-------------------------------+----------------------+----------------------+\r\n",
      "|   1  GeForce RTX 208...  On   | 00000000:3B:00.0 Off |                  N/A |\r\n",
      "| 29%   36C    P8    39W / 250W |     60MiB / 11019MiB |      0%      Default |\r\n",
      "|                               |                      |                  N/A |\r\n",
      "+-------------------------------+----------------------+----------------------+\r\n",
      "                                                                               \r\n",
      "+-----------------------------------------------------------------------------+\r\n",
      "| Processes:                                                                  |\r\n",
      "|  GPU   GI   CI        PID   Type   Process name                  GPU Memory |\r\n",
      "|        ID   ID                                                   Usage      |\r\n",
      "|=============================================================================|\r\n",
      "|    0   N/A  N/A     10361      C   ...s/june2020-gpu/bin/python     4215MiB |\r\n",
      "|    0   N/A  N/A    244396      C   ...s/june2020-gpu/bin/python     6559MiB |\r\n",
      "|    1   N/A  N/A      3736      G   /usr/bin/X                         33MiB |\r\n",
      "|    1   N/A  N/A      3790      G   /usr/bin/gnome-shell               24MiB |\r\n",
      "+-----------------------------------------------------------------------------+\r\n"
     ]
    }
   ],
   "source": [
    "!nvidia-smi"
   ]
  },
  {
   "cell_type": "markdown",
   "metadata": {},
   "source": [
    "> **WARNING**: The card numbers here are *not* the same as in CUDA. You have been warned."
   ]
  },
  {
   "cell_type": "markdown",
   "metadata": {},
   "source": [
    "## Imports"
   ]
  },
  {
   "cell_type": "code",
   "execution_count": 3,
   "metadata": {},
   "outputs": [],
   "source": [
    "import matplotlib.pyplot as plt\n",
    "import numpy as np\n",
    "import time\n",
    "import torch\n",
    "import pandas as pd\n",
    "\n",
    "# Python 3 standard library\n",
    "from pathlib import Path\n",
    "\n",
    "from model.efficiency import pv_locations, efficiency\n",
    "\n",
    "##from torchsummary import summary"
   ]
  },
  {
   "cell_type": "markdown",
   "metadata": {},
   "source": [
    "### Set up local parameters"
   ]
  },
  {
   "cell_type": "code",
   "execution_count": 4,
   "metadata": {},
   "outputs": [],
   "source": [
    "n_epochs = 100\n",
    "\n",
    "# Name is the output file name\n",
    "\n",
    "\n",
    "##  200719  mds\n",
    "##folder = '20December_Tracks_to_KDE_TestTrainedModel'\n",
    "##folder = '22December_testing_DDplus_loss_Bb_iter2_floatAll_100epochs_3em6'\n",
    "## 50 epochs using 4 of Will's files with batch_size = 48 should take\n",
    "##  just over 8 hours\n",
    "folder = '13Jan2021_TracksToHists_B_Iter12B_100epochs_lr_3em5_b48_2p5_kde2hists_float_all_4x_will'\n",
    "name = folder\n",
    "\n",
    "# Make an output folder named \"name\" (change if you want)\n",
    "\n",
    "## Special instructions for those working on goofy at UC\n",
    "## Please be very careful to make sure that your folder\n",
    "## does not live in a subdirectory of your home directory\n",
    "## this disk has very little capacity. Instead, use \n",
    "## a subdirectory in /share/lazy with a symbolic link to\n",
    "## it in this (the notebooks) subdirectory\n",
    "folder = 'ML/' + folder\n",
    "output = Path(folder)\n",
    "\n",
    "\n",
    "# Size of batches\n",
    "## reduce batch size from 64 to 32 when floating all the parameters\n",
    "##  it *appears* that storing the gradients requires extra memory\n",
    "##  batch_size = 32 --> 6623MiB / 11019 MiB on sleepy RTX2081 Ti\n",
    "batch_size = 48\n",
    "# How fast to learn\n",
    "## learning rate was 1e-7 for all layers in TracksToHists_A\n",
    "## here we want to learn only weights in the finalFilter layer\n",
    "## of TracksToHists_B, so try a high learning rate, at least initially\n",
    "## 1e-3 did well for the first 10 epochs; let's increase it for the next 40\n",
    "## reduce to 1e-3 for iteration with KDE_to_Hists weights floated\n",
    "##  cost decreased monotonically in previous run, so increase lr to 2e-3\n",
    "##  tried running with lr = 2e-3 and the validation cost function \n",
    "##  bounced around.  Want to try using a lower learning rate and\n",
    "##  a larger training sample\n",
    "##  Iter5B --  float all, leave learning rate = 5e-4\n",
    "##  Iter6C, with lr = 1e-5 rather than 1e-6, seems to be learning more quickly,\n",
    "##  so increase the learning rate to 1e-5 for Iter7B\n",
    "##  training sample xost decreased almost monotonically for Iter8B, so increase to 3e-5 for Iter9B\n",
    "##  (recalling that a higher learning rate introduced many fluctuations around a decreasing trend line\n",
    "##    in a past experiment, but also produced a greater decrease altogether)\n",
    "\n",
    "## for Iter11B, continue with learning_rate = 3e-5 as the cost function continued to drop almost monotonically\n",
    "## in Iter10B; \n",
    "learning_rate = 3e-5"
   ]
  },
  {
   "cell_type": "markdown",
   "metadata": {},
   "source": [
    "Make the output directory if it does not exist:"
   ]
  },
  {
   "cell_type": "code",
   "execution_count": 5,
   "metadata": {},
   "outputs": [],
   "source": [
    "output.mkdir(exist_ok=True)"
   ]
  },
  {
   "cell_type": "markdown",
   "metadata": {},
   "source": [
    "## Get the helper functions\n",
    "\n",
    "Add the directory with the model\n",
    "definitions to the path so we can import from it:\n",
    "\n",
    "> When you type `import X`,\n",
    "Python searches `sys.path` for a python\n",
    "file named `X.py` to import. So we need to add the model directory to the path."
   ]
  },
  {
   "cell_type": "code",
   "execution_count": 6,
   "metadata": {
    "scrolled": true
   },
   "outputs": [],
   "source": [
    "# From model/collectdata.py\n",
    "##from model.collectdata_kde_Ellipsoids import collect_t2kde_data\n",
    "from model.collectdata_t2hists import collect_t2hists_data\n",
    "from model.collectdata_mdsA  import collect_truth\n",
    "\n",
    "# From model/loss.py\n",
    "##from loss import Loss\n",
    "##from model.kde_loss_D import Loss\n",
    "## from model.kde_loss_B import Loss  ## Tracks_to_KDE loss, not for target hists\n",
    "\n",
    "##  \"standard\" ratios loss for hists training\n",
    "from model.alt_loss_A import Loss  ## loss used to train RunModel_Demo_28November2020-SimpleCNNLayer_Ca-Restart_5\n",
    "\n",
    "\n",
    "##from model.models_kde import TracksToKDE_Ellipsoids_DirtyDozen as Model\n",
    "from model.models_kde import TracksToKDE_Ellipsoids_DDplus as t2kde_model\n",
    "##from model.models_mds_G import SimpleCNN5Layer_Ca as kde2hists_model\n",
    "from model.models_mds_28Dec20 import SimpleCNN5Layer_Ca as kde2hists_model  ## copy of models_mds_01June20 for debugging\n",
    "from model.models_t2hists import TracksToHists_B as t2hists_model\n",
    "\n",
    "\n",
    "##from model.training_kde import trainNet, select_gpu, Results\n",
    "## training_t2hists_A.py increases \"difference\" for accepting found\n",
    "## peaks as matched from 5 bins to 7.5 bins (compmared to original training.py)\n",
    "from model.training_t2hists_A import trainNet, select_gpu, Results\n",
    "from model.plots import dual_train_plots, replace_in_ax"
   ]
  },
  {
   "cell_type": "code",
   "execution_count": 7,
   "metadata": {},
   "outputs": [],
   "source": [
    "# This gets built up during the run - do not rerun this cell\n",
    "results = pd.DataFrame([], columns=Results._fields)"
   ]
  },
  {
   "cell_type": "markdown",
   "metadata": {},
   "source": [
    "Set up Torch device configuration. All tensors and model parameters need to know where to be put.\n",
    "This takes a BUS ID number: The BUS ID is the same as the listing at the top of this script."
   ]
  },
  {
   "cell_type": "code",
   "execution_count": 8,
   "metadata": {},
   "outputs": [
    {
     "name": "stdout",
     "output_type": "stream",
     "text": [
      "1 available GPUs (initially using device 0):\n",
      "  0 GeForce RTX 2080 Ti\n"
     ]
    }
   ],
   "source": [
    "device = select_gpu(1)\n",
    "##device = \"cpu\""
   ]
  },
  {
   "cell_type": "markdown",
   "metadata": {},
   "source": [
    "## Loading data\n",
    "\n",
    "Load the dataset, split into parts, then move to device (see `collectdata.py` in the `../model` directory)"
   ]
  },
  {
   "cell_type": "code",
   "execution_count": 9,
   "metadata": {
    "scrolled": false
   },
   "outputs": [
    {
     "name": "stdout",
     "output_type": "stream",
     "text": [
      "Loading data...\n",
      "pocaMx.shape =  (80000,)\n",
      "nEvts =  80000\n",
      "len(pocaMx[0]) =  199\n",
      "len(pocaMx[1]) =  25\n",
      "len(pocaMx[2]) =  369\n",
      "len(pocaMx[3]) =  143\n",
      "len(pocaMx[4]) =  160\n",
      "have entered six_ellipsoid_parameters\n",
      "  \n",
      " \n",
      "  nEvts =  80000\n",
      " iEvt, nTrks =  0 199\n",
      " iEvt, nTrks =  1 25\n",
      " iEvt, nTrks =  2 369\n",
      " iEvt, nTrks =  3 143\n",
      " iEvt, nTrks =  4 160\n",
      " iEvt, nTrks =  5 260\n",
      " iEvt, nTrks =  6 237\n",
      " iEvt, nTrks =  7 327\n",
      " iEvt, nTrks =  8 178\n",
      " iEvt, nTrks =  9 106\n",
      "len(X) =  80000\n",
      "len(Xlist) =  1\n",
      "Loaded /share/lazy/will/data/June30_2020_80k_1.h5 in 114.3 s\n",
      "pocaMx.shape =  (80000,)\n",
      "nEvts =  80000\n",
      "len(pocaMx[0]) =  222\n",
      "len(pocaMx[1]) =  133\n",
      "len(pocaMx[2]) =  259\n",
      "len(pocaMx[3]) =  114\n",
      "len(pocaMx[4]) =  143\n",
      "have entered six_ellipsoid_parameters\n",
      "  \n",
      " \n",
      "  nEvts =  80000\n",
      " iEvt, nTrks =  0 222\n",
      " iEvt, nTrks =  1 133\n",
      " iEvt, nTrks =  2 259\n",
      " iEvt, nTrks =  3 114\n",
      " iEvt, nTrks =  4 143\n",
      " iEvt, nTrks =  5 136\n",
      " iEvt, nTrks =  6 397\n",
      " iEvt, nTrks =  7 370\n",
      " iEvt, nTrks =  8 97\n",
      " iEvt, nTrks =  9 67\n",
      "len(X) =  80000\n",
      "len(Xlist) =  2\n",
      "Loaded /share/lazy/will/data/June30_2020_80k_2.h5 in 110.8 s\n",
      "pocaMx.shape =  (80000,)\n",
      "nEvts =  80000\n",
      "len(pocaMx[0]) =  196\n",
      "len(pocaMx[1]) =  35\n",
      "len(pocaMx[2]) =  265\n",
      "len(pocaMx[3]) =  128\n",
      "len(pocaMx[4]) =  124\n",
      "have entered six_ellipsoid_parameters\n",
      "  \n",
      " \n",
      "  nEvts =  80000\n",
      " iEvt, nTrks =  0 196\n",
      " iEvt, nTrks =  1 35\n",
      " iEvt, nTrks =  2 265\n",
      " iEvt, nTrks =  3 128\n",
      " iEvt, nTrks =  4 124\n",
      " iEvt, nTrks =  5 122\n",
      " iEvt, nTrks =  6 300\n",
      " iEvt, nTrks =  7 179\n",
      " iEvt, nTrks =  8 243\n",
      " iEvt, nTrks =  9 112\n",
      "len(X) =  80000\n",
      "len(Xlist) =  3\n",
      "Loaded /share/lazy/will/data/June30_2020_80k_3.h5 in 105.1 s\n",
      "pocaMx.shape =  (80000,)\n",
      "nEvts =  80000\n",
      "len(pocaMx[0]) =  204\n",
      "len(pocaMx[1]) =  33\n",
      "len(pocaMx[2]) =  206\n",
      "len(pocaMx[3]) =  150\n",
      "len(pocaMx[4]) =  96\n",
      "have entered six_ellipsoid_parameters\n",
      "  \n",
      " \n",
      "  nEvts =  80000\n",
      " iEvt, nTrks =  0 204\n",
      " iEvt, nTrks =  1 33\n",
      " iEvt, nTrks =  2 206\n",
      " iEvt, nTrks =  3 150\n",
      " iEvt, nTrks =  4 96\n",
      " iEvt, nTrks =  5 10\n",
      " iEvt, nTrks =  6 174\n",
      " iEvt, nTrks =  7 320\n",
      " iEvt, nTrks =  8 164\n",
      " iEvt, nTrks =  9 119\n",
      "len(X) =  80000\n",
      "len(Xlist) =  4\n",
      "Loaded /share/lazy/will/data/June30_2020_80k_4.h5 in 104.2 s\n",
      "outer loop X.shape =  (320000, 9, 600)\n",
      "Constructing 320000 event dataset took 1.426 s\n",
      "x_t.shape =  torch.Size([320000, 9, 600])\n",
      "x_t.shape[0] =  320000\n",
      "x_t.shape[1] =  9\n",
      "x_t.shape =  torch.Size([320000, 9, 600])\n",
      "Loading data...\n",
      "pocaMx.shape =  (20000,)\n",
      "nEvts =  20000\n",
      "len(pocaMx[0]) =  211\n",
      "len(pocaMx[1]) =  21\n",
      "len(pocaMx[2]) =  20\n",
      "len(pocaMx[3]) =  198\n",
      "len(pocaMx[4]) =  233\n",
      "have entered six_ellipsoid_parameters\n",
      "  \n",
      " \n",
      "  nEvts =  20000\n",
      " iEvt, nTrks =  0 211\n",
      " iEvt, nTrks =  1 21\n",
      " iEvt, nTrks =  2 20\n",
      " iEvt, nTrks =  3 198\n",
      " iEvt, nTrks =  4 233\n",
      " iEvt, nTrks =  5 85\n",
      " iEvt, nTrks =  6 223\n",
      " iEvt, nTrks =  7 425\n",
      " iEvt, nTrks =  8 252\n",
      " iEvt, nTrks =  9 169\n",
      "len(X) =  20000\n",
      "len(Xlist) =  1\n",
      "Loaded dataAA/20K_POCA_kernel_evts_200926.h5 in 25.34 s\n",
      "outer loop X.shape =  (20000, 9, 600)\n",
      "Constructing 20000 event dataset took 2.18 s\n",
      "x_t.shape =  torch.Size([20000, 9, 600])\n",
      "x_t.shape[0] =  20000\n",
      "x_t.shape[1] =  9\n",
      "x_t.shape =  torch.Size([20000, 9, 600])\n",
      "Loaded dataAA/20K_POCA_kernel_evts_200926.h5 in 0.01259 s\n",
      "PV.n.shape =     (20000,)\n",
      "PV.n[0].shape =  6\n",
      "PV.x[0] =        -0.06039733 0.034324445 0.032115813 0.0021888595 -0.035334907 -0.013019809\n",
      "PV.y[0] =        -0.09381338 -0.013181885 -0.030898828 -0.08940365 -0.0058297813 0.062288247\n",
      "PV.z[0] =        97.82085 61.021088 -0.15807877 134.26784 -29.881668 79.19783\n",
      "PV.n[0] =        24 26 10 7 24 19\n",
      "PV.cat[0] =      1 1 1 1 1 1\n",
      "Loaded dataAA/20K_POCA_kernel_evts_200926.h5 in 0.008686 s\n",
      "SV.n.shape =     (20000,)\n",
      "SV.n[0].shape =  2\n",
      "SV.x[0] =        -0.014751727 0.03923173\n",
      "SV.y[0] =        0.050640453 0.08648109\n",
      "SV.z[0] =        78.924194 79.170876\n",
      "SV.n[0] =        2 0\n",
      "SV.cat[0] =      1 -1\n"
     ]
    }
   ],
   "source": [
    "## 210109 let's use some of Will's toy MC for training rather than the 20K sample I've been using\n",
    "\n",
    "##train_loader = collect_t2hists_data('dataAA/20K_POCA_kernel_evts_200926.h5',\n",
    "train_loader = collect_t2hists_data('/share/lazy/will/data/June30_2020_80k_1.h5', \n",
    "                                    '/share/lazy/will/data/June30_2020_80k_2.h5',\n",
    "                                    '/share/lazy/will/data/June30_2020_80k_3.h5',\n",
    "                                    '/share/lazy/will/data/June30_2020_80k_4.h5',\n",
    "                             batch_size=batch_size,\n",
    "## if we are using a larger dataset (240K events, with the datasets above, and 11 GB  of GPU memory),\n",
    "## not the dataset will overflow the GPU memory; device=device will allow the data to move back\n",
    "## and forth between the CPU and GPU memory. While this allows use of a larger dataset, it slows\n",
    "## down performance by about 10%.  So comment out when not needed.\n",
    "##                           device=device,\n",
    "##                             slice = slice(0,18000)\n",
    "                           )\n",
    "\n",
    "\n",
    "\n",
    "                            \n",
    "# Validation dataset. You can slice to reduce the size.\n",
    "## mds no separate validation set yet,\n",
    "\n",
    "## 210109 and use everything in this 20K file for validation\n",
    "val_loader = collect_t2hists_data('dataAA/20K_POCA_kernel_evts_200926.h5',\n",
    "                            batch_size=batch_size,\n",
    "                            device=device,\n",
    "##                           slice = slice(18000,None)\n",
    "                           )\n",
    "\n",
    "PV = collect_truth('dataAA/20K_POCA_kernel_evts_200926.h5', pvs=True)\n",
    "print('PV.n.shape =    ',  PV.n.shape)\n",
    "print('PV.n[0].shape = ', *PV.n[0].shape)\n",
    "print('PV.x[0] =       ', *PV.x[0])\n",
    "print('PV.y[0] =       ', *PV.y[0])\n",
    "print('PV.z[0] =       ', *PV.z[0])\n",
    "print('PV.n[0] =       ', *PV.n[0])\n",
    "print('PV.cat[0] =     ', *PV.cat[0])\n",
    "\n",
    "SV = collect_truth('dataAA/20K_POCA_kernel_evts_200926.h5', pvs=False)\n",
    "print('SV.n.shape =    ', SV.n.shape)\n",
    "print('SV.n[0].shape = ', *SV.n[0].shape)\n",
    "print('SV.x[0] =       ', *SV.x[0])\n",
    "print('SV.y[0] =       ', *SV.y[0])\n",
    "print('SV.z[0] =       ', *SV.z[0])\n",
    "print('SV.n[0] =       ', *SV.n[0])\n",
    "print('SV.cat[0] =     ', *SV.cat[0])\n"
   ]
  },
  {
   "cell_type": "markdown",
   "metadata": {},
   "source": [
    "# Preparing the model"
   ]
  },
  {
   "cell_type": "markdown",
   "metadata": {},
   "source": [
    "Prepare a model, use multiple GPUs if they are VISIBLE, and move the model to the device."
   ]
  },
  {
   "cell_type": "code",
   "execution_count": 10,
   "metadata": {
    "scrolled": false
   },
   "outputs": [
    {
     "name": "stdout",
     "output_type": "stream",
     "text": [
      "ct, child =  0    Linear(in_features=9, out_features=50, bias=True)\n",
      "ct, child =  1    Linear(in_features=50, out_features=50, bias=True)\n",
      "ct, child =  2    Linear(in_features=50, out_features=50, bias=True)\n",
      "ct, child =  3    Linear(in_features=50, out_features=50, bias=True)\n",
      "ct, child =  4    Linear(in_features=50, out_features=50, bias=True)\n",
      "ct, child =  5    Linear(in_features=50, out_features=50, bias=True)\n",
      "ct, child =  6    Linear(in_features=50, out_features=50, bias=True)\n",
      "ct, child =  7    Linear(in_features=50, out_features=50, bias=True)\n",
      "ct, child =  8    Linear(in_features=50, out_features=50, bias=True)\n",
      "ct, child =  9    Linear(in_features=50, out_features=50, bias=True)\n",
      "ct, child =  10    Linear(in_features=50, out_features=50, bias=True)\n",
      "ct, child =  11    Linear(in_features=50, out_features=16000, bias=True)\n",
      "ct, child =  12    Conv1d(4, 25, kernel_size=(25,), stride=(1,), padding=(12,))\n",
      "ct, child =  13    Conv1d(25, 1, kernel_size=(5,), stride=(1,), padding=(2,))\n",
      "ct, child =  14    Linear(in_features=4000, out_features=4000, bias=True)\n",
      "ct, child =  15    Dropout(p=0.15, inplace=False)\n",
      "ct, child =  16    Dropout(p=0.15, inplace=False)\n",
      "ct, child =  17    Conv1d(1, 20, kernel_size=(25,), stride=(1,), padding=(12,))\n",
      "ct, child =  18    Conv1d(20, 10, kernel_size=(15,), stride=(1,), padding=(7,))\n",
      "ct, child =  19    Conv1d(10, 10, kernel_size=(15,), stride=(1,), padding=(7,))\n",
      "ct, child =  20    Conv1d(10, 10, kernel_size=(15,), stride=(1,), padding=(7,))\n",
      "ct, child =  21    Conv1d(10, 1, kernel_size=(5,), stride=(1,), padding=(2,))\n",
      "ct, child =  22    Dropout(p=0.15, inplace=False)\n",
      "ct, child =  23    Dropout(p=0.15, inplace=False)\n",
      "ct, child =  24    Dropout(p=0.15, inplace=False)\n",
      "ct, child =  25    Dropout(p=0.15, inplace=False)\n",
      "ct, child =  26    Dropout(p=0.35, inplace=False)\n",
      "ct, child =  27    Linear(in_features=4000, out_features=4000, bias=True)\n",
      "ct, child =  28    Conv1d(1, 1, kernel_size=(91,), stride=(1,), padding=(45,))\n"
     ]
    }
   ],
   "source": [
    "nOut1 = 50\n",
    "nOut2 = 50\n",
    "nOut3 = 50\n",
    "nOut4 = 50\n",
    "nOut5 = 50\n",
    "nOut6 = 50\n",
    "nOut7 = 50\n",
    "nOut8 = 50\n",
    "nOut9 = 50\n",
    "nOut10 = 50\n",
    "nOut11 = 50\n",
    "latentChannels = 4\n",
    "model_t2kde = t2kde_model(nOut1,nOut2,nOut3,nOut4,nOut5,nOut6,nOut7,nOut8,nOut9,nOut10,nOut11,latentChannels)\n",
    "model_kde2hists = kde2hists_model()\n",
    "model_t2hists = t2hists_model(nOut1,nOut2,nOut3,nOut4,nOut5,nOut6,nOut7,nOut8,nOut9,nOut10,nOut11,latentChannels)\n",
    "\n",
    "##summary(model, input_size=(4, 4000))\n",
    "##print(model.parameters)\n",
    "\n",
    "## add the following code to allow the user to freeze the some of the weights corresponding \n",
    "## to those taken from an earlier model trained with the original target histograms\n",
    "## presumably -- this leaves either the perturbative filter \"fixed\" and lets the \n",
    "## learning focus on the non-perturbative features, so get started faster, or vice versa\n",
    "\n",
    "## 210110 For Iter0, freeze all weights other than those asociated with\n",
    "## the finalFilter added in moving from TracksToHists_A to TracksToHists_B\n",
    "\n",
    "## for \"float_KDE_to_Hists\" loop over ct<17\n",
    "## for float_all loope over ct < 0\n",
    "ct = 0\n",
    "for child in model_t2hists.children():\n",
    "  print('ct, child = ',ct, \"  \", child)\n",
    "  if (ct < 0) :\n",
    "    print(\"     About to set param.requires_grad=False for ct = \", ct, \"params\")\n",
    "    for param in child.parameters():\n",
    "        param.requires_grad = False \n",
    "  ct += 1\n",
    "\n",
    "loss = Loss(epsilon=1e-5,coefficient=2.5)\n",
    "optimizer = torch.optim.Adam(model_t2hists.parameters(), lr=learning_rate)"
   ]
  },
  {
   "cell_type": "markdown",
   "metadata": {},
   "source": [
    "Let's move the model's weight matricies to the GPU:"
   ]
  },
  {
   "cell_type": "code",
   "execution_count": 11,
   "metadata": {
    "scrolled": false
   },
   "outputs": [
    {
     "data": {
      "text/plain": [
       "<All keys matched successfully>"
      ]
     },
     "execution_count": 11,
     "metadata": {},
     "output_type": "execute_result"
    }
   ],
   "source": [
    "## want to look at all three dictionaries to start:\n",
    "##  t2kde\n",
    "##  kde2hists\n",
    "##  t2hists\n",
    "## the plan is to (initially) copy weights from separate dictionaries into th t2hists dictionary\n",
    "\n",
    "##   ML -> /share/lazy/sokoloff/ML\n",
    "'''\n",
    "model_t2kde_dict = model_t2kde.state_dict()\n",
    "## mds 190725 for debugging\n",
    "print(\"for model_t2kde_dict\")\n",
    "index = 0\n",
    "for k,v in model_t2kde_dict.items():\n",
    "    print(\"index, k =  \",index,\"  \",k)\n",
    "    index = index+1\n",
    "#\n",
    "model_kde2hists_dict = model_kde2hists.state_dict()\n",
    "## mds 190725 for debugging\n",
    "print(\"for model_hists_2kde_dict\")\n",
    "index = 0\n",
    "for k,v in model_kde2hists_dict.items():\n",
    "    print(\"index, k =  \",index,\"  \",k)\n",
    "    index = index+1\n",
    "#\n",
    "model_t2hists_dict = model_t2hists.state_dict()\n",
    "## mds 190725 for debugging\n",
    "print(\"for model_hists_2kde_dict\")\n",
    "index = 0\n",
    "for k,v in model_t2hists_dict.items():\n",
    "    print(\"index, k =  \",index,\"  \",k)\n",
    "    index = index+1\n",
    "#\n",
    "\n",
    "##  build the \"updated_dict\" to become the t2hists_dictionary from the\n",
    "##  t2kde and kde2hist dictionaries\n",
    "update_dict = model_t2hists_dict\n",
    "##print(\"updated_dict = \",updated_dict)\n",
    "## when starting \"ab initio\", reduce biases as the bias gets summed for each track\n",
    "## contributing to the predicted KDE\n",
    "'''\n",
    "\n",
    "\n",
    "'''\n",
    "updated_dict[\"layer1.bias\"] = 0.005*model_dict[\"layer1.bias\"]\n",
    "updated_dict[\"layer2.bias\"] = 0.005*model_dict[\"layer2.bias\"]\n",
    "updated_dict[\"layer3.bias\"] = 0.005*model_dict[\"layer3.bias\"]\n",
    "updated_dict[\"layer4.bias\"] = 0.005*model_dict[\"layer4.bias\"]\n",
    "updated_dict[\"layer5.bias\"] = 0.005*model_dict[\"layer5.bias\"]\n",
    "updated_dict[\"layer6.bias\"] = 0.005*model_dict[\"layer6.bias\"]\n",
    "updated_dict[\"layer7.bias\"] = 0.005*model_dict[\"layer7.bias\"]\n",
    "updated_dict[\"layer8.bias\"] = 0.005*model_dict[\"layer8.bias\"]\n",
    "updated_dict[\"layer9.bias\"] = 0.005*model_dict[\"layer9.bias\"]\n",
    "updated_dict[\"layer10.bias\"] = 0.005*model_dict[\"layer10.bias\"]\n",
    "updated_dict[\"layer11.bias\"] = 0.005*model_dict[\"layer11.bias\"]\n",
    "'''\n",
    "\n",
    "'''\n",
    "##model_t2hists.load_state_dict(updated_dict,strict=False)\n",
    "\n",
    "##model__t2hists_dict = model_t2hists.state_dict()\n",
    "\n",
    "## let's get the tracks-to-kde model here\n",
    "t2kde_folder = '25December__DDplus_loss_Ba_iter5_floatAll_800epochs_5em6'  ## really iter6, really Dec. 27\n",
    "t2kde_folder = '25December__DDplus_loss_Ba_iter7_floatAll_800epochs_4em6'\n",
    "t2kde_name = t2kde_folder\n",
    "suffix = 'final'\n",
    "t2kde_dict_name = 'ML/' + t2kde_folder + '/' + t2kde_name + '_'+ suffix + '.pyt'\n",
    "print('t2kde_dict_name = ',t2kde_dict_name)\n",
    "pretrained_t2kde_dict = torch.load(t2kde_dict_name)\n",
    "\n",
    "print(\" \\n\",\"  for t2kde_pretrained_dict\")\n",
    "index = 0\n",
    "for k,v in pretrained_t2kde_dict.items():\n",
    "    print(\"index, k =  \",index,\"  \",k)\n",
    "    index = index+1\n",
    "    \n",
    "    \n",
    "## let's get the hists-to-kde model here   \n",
    "kde2hists_folder = '02June2020_CNN5Layer_Ca_another200epochs_K'\n",
    "kde2hists_name = kde2hists_folder\n",
    "suffix = 'final'\n",
    "kde2hists_dict_name = 'ML/' + kde2hists_folder + '/' + kde2hists_name + '_'+ suffix + '.pyt'\n",
    "## mds dec28 print('kde2hists_dict_name = ',kde2hists_dict_name)\n",
    "pretrained_kde2hists_dict = torch.load(kde2hists_dict_name)\n",
    "\n",
    "print(\" \\n\",\"  for kde2hists_pretrained_dict\")\n",
    "index = 0\n",
    "for k,v in pretrained_kde2hists_dict.items():\n",
    "    print(\"index, k =  \",index,\"  \",k)\n",
    "    index = index+1\n",
    " \n",
    "\n",
    "\n",
    "##print(\"model_dict instantiated\")\n",
    "# 1. filter out unnecessary keys\n",
    "pretrained_dict = {k: v for k, v in pretrained_t2kde_dict.items() if k in model_t2hists_dict}\n",
    "## mds dec28 print(\"pretrained_dict iterated\")\n",
    "# 2. overwrite entries in the existing state dict\n",
    "model_t2hists_dict.update(pretrained_dict) \n",
    "\n",
    "update_dict[\"hist_conv1.weight\"] = pretrained_kde2hists_dict[\"conv1.weight\"]\n",
    "update_dict[\"hist_conv1.bias\"]   = pretrained_kde2hists_dict[\"conv1.bias\"]\n",
    "update_dict[\"hist_conv2.weight\"] = pretrained_kde2hists_dict[\"conv2.weight\"]\n",
    "update_dict[\"hist_conv2.bias\"]   = pretrained_kde2hists_dict[\"conv2.bias\"]\n",
    "update_dict[\"hist_conv3.weight\"] = pretrained_kde2hists_dict[\"conv3.weight\"]\n",
    "update_dict[\"hist_conv3.bias\"]   = pretrained_kde2hists_dict[\"conv3.bias\"]\n",
    "update_dict[\"hist_conv4.weight\"] = pretrained_kde2hists_dict[\"conv4.weight\"]\n",
    "update_dict[\"hist_conv4.bias\"]   = pretrained_kde2hists_dict[\"conv4.bias\"]\n",
    "update_dict[\"hist_conv5.weight\"] = pretrained_kde2hists_dict[\"conv5.weight\"]\n",
    "update_dict[\"hist_conv5.bias\"]   = pretrained_kde2hists_dict[\"conv5.bias\"]\n",
    "update_dict[\"hist_fc1.weight\"]   = pretrained_kde2hists_dict[\"fc1.weight\"]\n",
    "update_dict[\"hist_fc1.bias\"]     = pretrained_kde2hists_dict[\"fc1.bias\"]\n",
    "\n",
    "##model_t2hists.update(update_dict,strict=False)\n",
    "model_t2hists.load_state_dict(update_dict,strict=False)\n",
    "model_t2hists_dict = model_t2hists.state_dict()\n",
    "'''\n",
    "\n",
    "##\n",
    "#   when starting from a model with a fully connected last layer rather than a convolutional layer\n",
    "# 3. load the new state dict\n",
    "#   need to use strict=False as the two models state model attributes do not agree exactly\n",
    "#   see https://pytorch.org/docs/master/_modules/torch/nn/modules/module.html#Module.load_state_dict\n",
    "\n",
    "t2hists_folder ='11Jan2021_TracksToHists_B_Iter11B_100epochs_lr_3em5_b48_2p5_kde2hists_float_all_4x_will'\n",
    "t2hists_name = t2hists_folder\n",
    "suffix = 'final'\n",
    "t2hists_dict_name = 'ML/' + t2hists_folder + '/' +t2hists_name + '_'+ suffix + '.pyt'\n",
    "## mds dec28 print('kde2hists_dict_name = ',kde2hists_dict_name)\n",
    "pretrained_t2hists_dict = torch.load(t2hists_dict_name) \n",
    "\n",
    "model_t2hists.load_state_dict(pretrained_t2hists_dict,strict=False)\n",
    "\n",
    "##  print('model_t2hists_dict =    ', model_t2hists_dict)\n"
   ]
  },
  {
   "cell_type": "code",
   "execution_count": 12,
   "metadata": {},
   "outputs": [],
   "source": [
    "##print('validation.dataset.tensors = ',validation.dataset.tensors)\n",
    "fig_size = plt.rcParams[\"figure.figsize\"]\n",
    "fig_size[0] = 10\n",
    "fig_size[1] = 4\n",
    "plt.rcParams[\"figure.figsize\"] = fig_size"
   ]
  },
  {
   "cell_type": "code",
   "execution_count": 13,
   "metadata": {
    "scrolled": true
   },
   "outputs": [],
   "source": [
    "model = model_t2hists.to(device)"
   ]
  },
  {
   "cell_type": "code",
   "execution_count": 14,
   "metadata": {},
   "outputs": [
    {
     "data": {
      "application/javascript": [
       "/* Put everything inside the global mpl namespace */\n",
       "window.mpl = {};\n",
       "\n",
       "\n",
       "mpl.get_websocket_type = function() {\n",
       "    if (typeof(WebSocket) !== 'undefined') {\n",
       "        return WebSocket;\n",
       "    } else if (typeof(MozWebSocket) !== 'undefined') {\n",
       "        return MozWebSocket;\n",
       "    } else {\n",
       "        alert('Your browser does not have WebSocket support. ' +\n",
       "              'Please try Chrome, Safari or Firefox ≥ 6. ' +\n",
       "              'Firefox 4 and 5 are also supported but you ' +\n",
       "              'have to enable WebSockets in about:config.');\n",
       "    };\n",
       "}\n",
       "\n",
       "mpl.figure = function(figure_id, websocket, ondownload, parent_element) {\n",
       "    this.id = figure_id;\n",
       "\n",
       "    this.ws = websocket;\n",
       "\n",
       "    this.supports_binary = (this.ws.binaryType != undefined);\n",
       "\n",
       "    if (!this.supports_binary) {\n",
       "        var warnings = document.getElementById(\"mpl-warnings\");\n",
       "        if (warnings) {\n",
       "            warnings.style.display = 'block';\n",
       "            warnings.textContent = (\n",
       "                \"This browser does not support binary websocket messages. \" +\n",
       "                    \"Performance may be slow.\");\n",
       "        }\n",
       "    }\n",
       "\n",
       "    this.imageObj = new Image();\n",
       "\n",
       "    this.context = undefined;\n",
       "    this.message = undefined;\n",
       "    this.canvas = undefined;\n",
       "    this.rubberband_canvas = undefined;\n",
       "    this.rubberband_context = undefined;\n",
       "    this.format_dropdown = undefined;\n",
       "\n",
       "    this.image_mode = 'full';\n",
       "\n",
       "    this.root = $('<div/>');\n",
       "    this._root_extra_style(this.root)\n",
       "    this.root.attr('style', 'display: inline-block');\n",
       "\n",
       "    $(parent_element).append(this.root);\n",
       "\n",
       "    this._init_header(this);\n",
       "    this._init_canvas(this);\n",
       "    this._init_toolbar(this);\n",
       "\n",
       "    var fig = this;\n",
       "\n",
       "    this.waiting = false;\n",
       "\n",
       "    this.ws.onopen =  function () {\n",
       "            fig.send_message(\"supports_binary\", {value: fig.supports_binary});\n",
       "            fig.send_message(\"send_image_mode\", {});\n",
       "            if (mpl.ratio != 1) {\n",
       "                fig.send_message(\"set_dpi_ratio\", {'dpi_ratio': mpl.ratio});\n",
       "            }\n",
       "            fig.send_message(\"refresh\", {});\n",
       "        }\n",
       "\n",
       "    this.imageObj.onload = function() {\n",
       "            if (fig.image_mode == 'full') {\n",
       "                // Full images could contain transparency (where diff images\n",
       "                // almost always do), so we need to clear the canvas so that\n",
       "                // there is no ghosting.\n",
       "                fig.context.clearRect(0, 0, fig.canvas.width, fig.canvas.height);\n",
       "            }\n",
       "            fig.context.drawImage(fig.imageObj, 0, 0);\n",
       "        };\n",
       "\n",
       "    this.imageObj.onunload = function() {\n",
       "        fig.ws.close();\n",
       "    }\n",
       "\n",
       "    this.ws.onmessage = this._make_on_message_function(this);\n",
       "\n",
       "    this.ondownload = ondownload;\n",
       "}\n",
       "\n",
       "mpl.figure.prototype._init_header = function() {\n",
       "    var titlebar = $(\n",
       "        '<div class=\"ui-dialog-titlebar ui-widget-header ui-corner-all ' +\n",
       "        'ui-helper-clearfix\"/>');\n",
       "    var titletext = $(\n",
       "        '<div class=\"ui-dialog-title\" style=\"width: 100%; ' +\n",
       "        'text-align: center; padding: 3px;\"/>');\n",
       "    titlebar.append(titletext)\n",
       "    this.root.append(titlebar);\n",
       "    this.header = titletext[0];\n",
       "}\n",
       "\n",
       "\n",
       "\n",
       "mpl.figure.prototype._canvas_extra_style = function(canvas_div) {\n",
       "\n",
       "}\n",
       "\n",
       "\n",
       "mpl.figure.prototype._root_extra_style = function(canvas_div) {\n",
       "\n",
       "}\n",
       "\n",
       "mpl.figure.prototype._init_canvas = function() {\n",
       "    var fig = this;\n",
       "\n",
       "    var canvas_div = $('<div/>');\n",
       "\n",
       "    canvas_div.attr('style', 'position: relative; clear: both; outline: 0');\n",
       "\n",
       "    function canvas_keyboard_event(event) {\n",
       "        return fig.key_event(event, event['data']);\n",
       "    }\n",
       "\n",
       "    canvas_div.keydown('key_press', canvas_keyboard_event);\n",
       "    canvas_div.keyup('key_release', canvas_keyboard_event);\n",
       "    this.canvas_div = canvas_div\n",
       "    this._canvas_extra_style(canvas_div)\n",
       "    this.root.append(canvas_div);\n",
       "\n",
       "    var canvas = $('<canvas/>');\n",
       "    canvas.addClass('mpl-canvas');\n",
       "    canvas.attr('style', \"left: 0; top: 0; z-index: 0; outline: 0\")\n",
       "\n",
       "    this.canvas = canvas[0];\n",
       "    this.context = canvas[0].getContext(\"2d\");\n",
       "\n",
       "    var backingStore = this.context.backingStorePixelRatio ||\n",
       "\tthis.context.webkitBackingStorePixelRatio ||\n",
       "\tthis.context.mozBackingStorePixelRatio ||\n",
       "\tthis.context.msBackingStorePixelRatio ||\n",
       "\tthis.context.oBackingStorePixelRatio ||\n",
       "\tthis.context.backingStorePixelRatio || 1;\n",
       "\n",
       "    mpl.ratio = (window.devicePixelRatio || 1) / backingStore;\n",
       "\n",
       "    var rubberband = $('<canvas/>');\n",
       "    rubberband.attr('style', \"position: absolute; left: 0; top: 0; z-index: 1;\")\n",
       "\n",
       "    var pass_mouse_events = true;\n",
       "\n",
       "    canvas_div.resizable({\n",
       "        start: function(event, ui) {\n",
       "            pass_mouse_events = false;\n",
       "        },\n",
       "        resize: function(event, ui) {\n",
       "            fig.request_resize(ui.size.width, ui.size.height);\n",
       "        },\n",
       "        stop: function(event, ui) {\n",
       "            pass_mouse_events = true;\n",
       "            fig.request_resize(ui.size.width, ui.size.height);\n",
       "        },\n",
       "    });\n",
       "\n",
       "    function mouse_event_fn(event) {\n",
       "        if (pass_mouse_events)\n",
       "            return fig.mouse_event(event, event['data']);\n",
       "    }\n",
       "\n",
       "    rubberband.mousedown('button_press', mouse_event_fn);\n",
       "    rubberband.mouseup('button_release', mouse_event_fn);\n",
       "    // Throttle sequential mouse events to 1 every 20ms.\n",
       "    rubberband.mousemove('motion_notify', mouse_event_fn);\n",
       "\n",
       "    rubberband.mouseenter('figure_enter', mouse_event_fn);\n",
       "    rubberband.mouseleave('figure_leave', mouse_event_fn);\n",
       "\n",
       "    canvas_div.on(\"wheel\", function (event) {\n",
       "        event = event.originalEvent;\n",
       "        event['data'] = 'scroll'\n",
       "        if (event.deltaY < 0) {\n",
       "            event.step = 1;\n",
       "        } else {\n",
       "            event.step = -1;\n",
       "        }\n",
       "        mouse_event_fn(event);\n",
       "    });\n",
       "\n",
       "    canvas_div.append(canvas);\n",
       "    canvas_div.append(rubberband);\n",
       "\n",
       "    this.rubberband = rubberband;\n",
       "    this.rubberband_canvas = rubberband[0];\n",
       "    this.rubberband_context = rubberband[0].getContext(\"2d\");\n",
       "    this.rubberband_context.strokeStyle = \"#000000\";\n",
       "\n",
       "    this._resize_canvas = function(width, height) {\n",
       "        // Keep the size of the canvas, canvas container, and rubber band\n",
       "        // canvas in synch.\n",
       "        canvas_div.css('width', width)\n",
       "        canvas_div.css('height', height)\n",
       "\n",
       "        canvas.attr('width', width * mpl.ratio);\n",
       "        canvas.attr('height', height * mpl.ratio);\n",
       "        canvas.attr('style', 'width: ' + width + 'px; height: ' + height + 'px;');\n",
       "\n",
       "        rubberband.attr('width', width);\n",
       "        rubberband.attr('height', height);\n",
       "    }\n",
       "\n",
       "    // Set the figure to an initial 600x600px, this will subsequently be updated\n",
       "    // upon first draw.\n",
       "    this._resize_canvas(600, 600);\n",
       "\n",
       "    // Disable right mouse context menu.\n",
       "    $(this.rubberband_canvas).bind(\"contextmenu\",function(e){\n",
       "        return false;\n",
       "    });\n",
       "\n",
       "    function set_focus () {\n",
       "        canvas.focus();\n",
       "        canvas_div.focus();\n",
       "    }\n",
       "\n",
       "    window.setTimeout(set_focus, 100);\n",
       "}\n",
       "\n",
       "mpl.figure.prototype._init_toolbar = function() {\n",
       "    var fig = this;\n",
       "\n",
       "    var nav_element = $('<div/>');\n",
       "    nav_element.attr('style', 'width: 100%');\n",
       "    this.root.append(nav_element);\n",
       "\n",
       "    // Define a callback function for later on.\n",
       "    function toolbar_event(event) {\n",
       "        return fig.toolbar_button_onclick(event['data']);\n",
       "    }\n",
       "    function toolbar_mouse_event(event) {\n",
       "        return fig.toolbar_button_onmouseover(event['data']);\n",
       "    }\n",
       "\n",
       "    for(var toolbar_ind in mpl.toolbar_items) {\n",
       "        var name = mpl.toolbar_items[toolbar_ind][0];\n",
       "        var tooltip = mpl.toolbar_items[toolbar_ind][1];\n",
       "        var image = mpl.toolbar_items[toolbar_ind][2];\n",
       "        var method_name = mpl.toolbar_items[toolbar_ind][3];\n",
       "\n",
       "        if (!name) {\n",
       "            // put a spacer in here.\n",
       "            continue;\n",
       "        }\n",
       "        var button = $('<button/>');\n",
       "        button.addClass('ui-button ui-widget ui-state-default ui-corner-all ' +\n",
       "                        'ui-button-icon-only');\n",
       "        button.attr('role', 'button');\n",
       "        button.attr('aria-disabled', 'false');\n",
       "        button.click(method_name, toolbar_event);\n",
       "        button.mouseover(tooltip, toolbar_mouse_event);\n",
       "\n",
       "        var icon_img = $('<span/>');\n",
       "        icon_img.addClass('ui-button-icon-primary ui-icon');\n",
       "        icon_img.addClass(image);\n",
       "        icon_img.addClass('ui-corner-all');\n",
       "\n",
       "        var tooltip_span = $('<span/>');\n",
       "        tooltip_span.addClass('ui-button-text');\n",
       "        tooltip_span.html(tooltip);\n",
       "\n",
       "        button.append(icon_img);\n",
       "        button.append(tooltip_span);\n",
       "\n",
       "        nav_element.append(button);\n",
       "    }\n",
       "\n",
       "    var fmt_picker_span = $('<span/>');\n",
       "\n",
       "    var fmt_picker = $('<select/>');\n",
       "    fmt_picker.addClass('mpl-toolbar-option ui-widget ui-widget-content');\n",
       "    fmt_picker_span.append(fmt_picker);\n",
       "    nav_element.append(fmt_picker_span);\n",
       "    this.format_dropdown = fmt_picker[0];\n",
       "\n",
       "    for (var ind in mpl.extensions) {\n",
       "        var fmt = mpl.extensions[ind];\n",
       "        var option = $(\n",
       "            '<option/>', {selected: fmt === mpl.default_extension}).html(fmt);\n",
       "        fmt_picker.append(option);\n",
       "    }\n",
       "\n",
       "    // Add hover states to the ui-buttons\n",
       "    $( \".ui-button\" ).hover(\n",
       "        function() { $(this).addClass(\"ui-state-hover\");},\n",
       "        function() { $(this).removeClass(\"ui-state-hover\");}\n",
       "    );\n",
       "\n",
       "    var status_bar = $('<span class=\"mpl-message\"/>');\n",
       "    nav_element.append(status_bar);\n",
       "    this.message = status_bar[0];\n",
       "}\n",
       "\n",
       "mpl.figure.prototype.request_resize = function(x_pixels, y_pixels) {\n",
       "    // Request matplotlib to resize the figure. Matplotlib will then trigger a resize in the client,\n",
       "    // which will in turn request a refresh of the image.\n",
       "    this.send_message('resize', {'width': x_pixels, 'height': y_pixels});\n",
       "}\n",
       "\n",
       "mpl.figure.prototype.send_message = function(type, properties) {\n",
       "    properties['type'] = type;\n",
       "    properties['figure_id'] = this.id;\n",
       "    this.ws.send(JSON.stringify(properties));\n",
       "}\n",
       "\n",
       "mpl.figure.prototype.send_draw_message = function() {\n",
       "    if (!this.waiting) {\n",
       "        this.waiting = true;\n",
       "        this.ws.send(JSON.stringify({type: \"draw\", figure_id: this.id}));\n",
       "    }\n",
       "}\n",
       "\n",
       "\n",
       "mpl.figure.prototype.handle_save = function(fig, msg) {\n",
       "    var format_dropdown = fig.format_dropdown;\n",
       "    var format = format_dropdown.options[format_dropdown.selectedIndex].value;\n",
       "    fig.ondownload(fig, format);\n",
       "}\n",
       "\n",
       "\n",
       "mpl.figure.prototype.handle_resize = function(fig, msg) {\n",
       "    var size = msg['size'];\n",
       "    if (size[0] != fig.canvas.width || size[1] != fig.canvas.height) {\n",
       "        fig._resize_canvas(size[0], size[1]);\n",
       "        fig.send_message(\"refresh\", {});\n",
       "    };\n",
       "}\n",
       "\n",
       "mpl.figure.prototype.handle_rubberband = function(fig, msg) {\n",
       "    var x0 = msg['x0'] / mpl.ratio;\n",
       "    var y0 = (fig.canvas.height - msg['y0']) / mpl.ratio;\n",
       "    var x1 = msg['x1'] / mpl.ratio;\n",
       "    var y1 = (fig.canvas.height - msg['y1']) / mpl.ratio;\n",
       "    x0 = Math.floor(x0) + 0.5;\n",
       "    y0 = Math.floor(y0) + 0.5;\n",
       "    x1 = Math.floor(x1) + 0.5;\n",
       "    y1 = Math.floor(y1) + 0.5;\n",
       "    var min_x = Math.min(x0, x1);\n",
       "    var min_y = Math.min(y0, y1);\n",
       "    var width = Math.abs(x1 - x0);\n",
       "    var height = Math.abs(y1 - y0);\n",
       "\n",
       "    fig.rubberband_context.clearRect(\n",
       "        0, 0, fig.canvas.width / mpl.ratio, fig.canvas.height / mpl.ratio);\n",
       "\n",
       "    fig.rubberband_context.strokeRect(min_x, min_y, width, height);\n",
       "}\n",
       "\n",
       "mpl.figure.prototype.handle_figure_label = function(fig, msg) {\n",
       "    // Updates the figure title.\n",
       "    fig.header.textContent = msg['label'];\n",
       "}\n",
       "\n",
       "mpl.figure.prototype.handle_cursor = function(fig, msg) {\n",
       "    var cursor = msg['cursor'];\n",
       "    switch(cursor)\n",
       "    {\n",
       "    case 0:\n",
       "        cursor = 'pointer';\n",
       "        break;\n",
       "    case 1:\n",
       "        cursor = 'default';\n",
       "        break;\n",
       "    case 2:\n",
       "        cursor = 'crosshair';\n",
       "        break;\n",
       "    case 3:\n",
       "        cursor = 'move';\n",
       "        break;\n",
       "    }\n",
       "    fig.rubberband_canvas.style.cursor = cursor;\n",
       "}\n",
       "\n",
       "mpl.figure.prototype.handle_message = function(fig, msg) {\n",
       "    fig.message.textContent = msg['message'];\n",
       "}\n",
       "\n",
       "mpl.figure.prototype.handle_draw = function(fig, msg) {\n",
       "    // Request the server to send over a new figure.\n",
       "    fig.send_draw_message();\n",
       "}\n",
       "\n",
       "mpl.figure.prototype.handle_image_mode = function(fig, msg) {\n",
       "    fig.image_mode = msg['mode'];\n",
       "}\n",
       "\n",
       "mpl.figure.prototype.updated_canvas_event = function() {\n",
       "    // Called whenever the canvas gets updated.\n",
       "    this.send_message(\"ack\", {});\n",
       "}\n",
       "\n",
       "// A function to construct a web socket function for onmessage handling.\n",
       "// Called in the figure constructor.\n",
       "mpl.figure.prototype._make_on_message_function = function(fig) {\n",
       "    return function socket_on_message(evt) {\n",
       "        if (evt.data instanceof Blob) {\n",
       "            /* FIXME: We get \"Resource interpreted as Image but\n",
       "             * transferred with MIME type text/plain:\" errors on\n",
       "             * Chrome.  But how to set the MIME type?  It doesn't seem\n",
       "             * to be part of the websocket stream */\n",
       "            evt.data.type = \"image/png\";\n",
       "\n",
       "            /* Free the memory for the previous frames */\n",
       "            if (fig.imageObj.src) {\n",
       "                (window.URL || window.webkitURL).revokeObjectURL(\n",
       "                    fig.imageObj.src);\n",
       "            }\n",
       "\n",
       "            fig.imageObj.src = (window.URL || window.webkitURL).createObjectURL(\n",
       "                evt.data);\n",
       "            fig.updated_canvas_event();\n",
       "            fig.waiting = false;\n",
       "            return;\n",
       "        }\n",
       "        else if (typeof evt.data === 'string' && evt.data.slice(0, 21) == \"data:image/png;base64\") {\n",
       "            fig.imageObj.src = evt.data;\n",
       "            fig.updated_canvas_event();\n",
       "            fig.waiting = false;\n",
       "            return;\n",
       "        }\n",
       "\n",
       "        var msg = JSON.parse(evt.data);\n",
       "        var msg_type = msg['type'];\n",
       "\n",
       "        // Call the  \"handle_{type}\" callback, which takes\n",
       "        // the figure and JSON message as its only arguments.\n",
       "        try {\n",
       "            var callback = fig[\"handle_\" + msg_type];\n",
       "        } catch (e) {\n",
       "            console.log(\"No handler for the '\" + msg_type + \"' message type: \", msg);\n",
       "            return;\n",
       "        }\n",
       "\n",
       "        if (callback) {\n",
       "            try {\n",
       "                // console.log(\"Handling '\" + msg_type + \"' message: \", msg);\n",
       "                callback(fig, msg);\n",
       "            } catch (e) {\n",
       "                console.log(\"Exception inside the 'handler_\" + msg_type + \"' callback:\", e, e.stack, msg);\n",
       "            }\n",
       "        }\n",
       "    };\n",
       "}\n",
       "\n",
       "// from http://stackoverflow.com/questions/1114465/getting-mouse-location-in-canvas\n",
       "mpl.findpos = function(e) {\n",
       "    //this section is from http://www.quirksmode.org/js/events_properties.html\n",
       "    var targ;\n",
       "    if (!e)\n",
       "        e = window.event;\n",
       "    if (e.target)\n",
       "        targ = e.target;\n",
       "    else if (e.srcElement)\n",
       "        targ = e.srcElement;\n",
       "    if (targ.nodeType == 3) // defeat Safari bug\n",
       "        targ = targ.parentNode;\n",
       "\n",
       "    // jQuery normalizes the pageX and pageY\n",
       "    // pageX,Y are the mouse positions relative to the document\n",
       "    // offset() returns the position of the element relative to the document\n",
       "    var x = e.pageX - $(targ).offset().left;\n",
       "    var y = e.pageY - $(targ).offset().top;\n",
       "\n",
       "    return {\"x\": x, \"y\": y};\n",
       "};\n",
       "\n",
       "/*\n",
       " * return a copy of an object with only non-object keys\n",
       " * we need this to avoid circular references\n",
       " * http://stackoverflow.com/a/24161582/3208463\n",
       " */\n",
       "function simpleKeys (original) {\n",
       "  return Object.keys(original).reduce(function (obj, key) {\n",
       "    if (typeof original[key] !== 'object')\n",
       "        obj[key] = original[key]\n",
       "    return obj;\n",
       "  }, {});\n",
       "}\n",
       "\n",
       "mpl.figure.prototype.mouse_event = function(event, name) {\n",
       "    var canvas_pos = mpl.findpos(event)\n",
       "\n",
       "    if (name === 'button_press')\n",
       "    {\n",
       "        this.canvas.focus();\n",
       "        this.canvas_div.focus();\n",
       "    }\n",
       "\n",
       "    var x = canvas_pos.x * mpl.ratio;\n",
       "    var y = canvas_pos.y * mpl.ratio;\n",
       "\n",
       "    this.send_message(name, {x: x, y: y, button: event.button,\n",
       "                             step: event.step,\n",
       "                             guiEvent: simpleKeys(event)});\n",
       "\n",
       "    /* This prevents the web browser from automatically changing to\n",
       "     * the text insertion cursor when the button is pressed.  We want\n",
       "     * to control all of the cursor setting manually through the\n",
       "     * 'cursor' event from matplotlib */\n",
       "    event.preventDefault();\n",
       "    return false;\n",
       "}\n",
       "\n",
       "mpl.figure.prototype._key_event_extra = function(event, name) {\n",
       "    // Handle any extra behaviour associated with a key event\n",
       "}\n",
       "\n",
       "mpl.figure.prototype.key_event = function(event, name) {\n",
       "\n",
       "    // Prevent repeat events\n",
       "    if (name == 'key_press')\n",
       "    {\n",
       "        if (event.which === this._key)\n",
       "            return;\n",
       "        else\n",
       "            this._key = event.which;\n",
       "    }\n",
       "    if (name == 'key_release')\n",
       "        this._key = null;\n",
       "\n",
       "    var value = '';\n",
       "    if (event.ctrlKey && event.which != 17)\n",
       "        value += \"ctrl+\";\n",
       "    if (event.altKey && event.which != 18)\n",
       "        value += \"alt+\";\n",
       "    if (event.shiftKey && event.which != 16)\n",
       "        value += \"shift+\";\n",
       "\n",
       "    value += 'k';\n",
       "    value += event.which.toString();\n",
       "\n",
       "    this._key_event_extra(event, name);\n",
       "\n",
       "    this.send_message(name, {key: value,\n",
       "                             guiEvent: simpleKeys(event)});\n",
       "    return false;\n",
       "}\n",
       "\n",
       "mpl.figure.prototype.toolbar_button_onclick = function(name) {\n",
       "    if (name == 'download') {\n",
       "        this.handle_save(this, null);\n",
       "    } else {\n",
       "        this.send_message(\"toolbar_button\", {name: name});\n",
       "    }\n",
       "};\n",
       "\n",
       "mpl.figure.prototype.toolbar_button_onmouseover = function(tooltip) {\n",
       "    this.message.textContent = tooltip;\n",
       "};\n",
       "mpl.toolbar_items = [[\"Home\", \"Reset original view\", \"fa fa-home icon-home\", \"home\"], [\"Back\", \"Back to previous view\", \"fa fa-arrow-left icon-arrow-left\", \"back\"], [\"Forward\", \"Forward to next view\", \"fa fa-arrow-right icon-arrow-right\", \"forward\"], [\"\", \"\", \"\", \"\"], [\"Pan\", \"Pan axes with left mouse, zoom with right\", \"fa fa-arrows icon-move\", \"pan\"], [\"Zoom\", \"Zoom to rectangle\", \"fa fa-square-o icon-check-empty\", \"zoom\"], [\"\", \"\", \"\", \"\"], [\"Download\", \"Download plot\", \"fa fa-floppy-o icon-save\", \"download\"]];\n",
       "\n",
       "mpl.extensions = [\"eps\", \"jpeg\", \"pdf\", \"png\", \"ps\", \"raw\", \"svg\", \"tif\"];\n",
       "\n",
       "mpl.default_extension = \"png\";var comm_websocket_adapter = function(comm) {\n",
       "    // Create a \"websocket\"-like object which calls the given IPython comm\n",
       "    // object with the appropriate methods. Currently this is a non binary\n",
       "    // socket, so there is still some room for performance tuning.\n",
       "    var ws = {};\n",
       "\n",
       "    ws.close = function() {\n",
       "        comm.close()\n",
       "    };\n",
       "    ws.send = function(m) {\n",
       "        //console.log('sending', m);\n",
       "        comm.send(m);\n",
       "    };\n",
       "    // Register the callback with on_msg.\n",
       "    comm.on_msg(function(msg) {\n",
       "        //console.log('receiving', msg['content']['data'], msg);\n",
       "        // Pass the mpl event to the overridden (by mpl) onmessage function.\n",
       "        ws.onmessage(msg['content']['data'])\n",
       "    });\n",
       "    return ws;\n",
       "}\n",
       "\n",
       "mpl.mpl_figure_comm = function(comm, msg) {\n",
       "    // This is the function which gets called when the mpl process\n",
       "    // starts-up an IPython Comm through the \"matplotlib\" channel.\n",
       "\n",
       "    var id = msg.content.data.id;\n",
       "    // Get hold of the div created by the display call when the Comm\n",
       "    // socket was opened in Python.\n",
       "    var element = $(\"#\" + id);\n",
       "    var ws_proxy = comm_websocket_adapter(comm)\n",
       "\n",
       "    function ondownload(figure, format) {\n",
       "        window.open(figure.imageObj.src);\n",
       "    }\n",
       "\n",
       "    var fig = new mpl.figure(id, ws_proxy,\n",
       "                           ondownload,\n",
       "                           element.get(0));\n",
       "\n",
       "    // Call onopen now - mpl needs it, as it is assuming we've passed it a real\n",
       "    // web socket which is closed, not our websocket->open comm proxy.\n",
       "    ws_proxy.onopen();\n",
       "\n",
       "    fig.parent_element = element.get(0);\n",
       "    fig.cell_info = mpl.find_output_cell(\"<div id='\" + id + \"'></div>\");\n",
       "    if (!fig.cell_info) {\n",
       "        console.error(\"Failed to find cell for figure\", id, fig);\n",
       "        return;\n",
       "    }\n",
       "\n",
       "    var output_index = fig.cell_info[2]\n",
       "    var cell = fig.cell_info[0];\n",
       "\n",
       "};\n",
       "\n",
       "mpl.figure.prototype.handle_close = function(fig, msg) {\n",
       "    var width = fig.canvas.width/mpl.ratio\n",
       "    fig.root.unbind('remove')\n",
       "\n",
       "    // Update the output cell to use the data from the current canvas.\n",
       "    fig.push_to_output();\n",
       "    var dataURL = fig.canvas.toDataURL();\n",
       "    // Re-enable the keyboard manager in IPython - without this line, in FF,\n",
       "    // the notebook keyboard shortcuts fail.\n",
       "    IPython.keyboard_manager.enable()\n",
       "    $(fig.parent_element).html('<img src=\"' + dataURL + '\" width=\"' + width + '\">');\n",
       "    fig.close_ws(fig, msg);\n",
       "}\n",
       "\n",
       "mpl.figure.prototype.close_ws = function(fig, msg){\n",
       "    fig.send_message('closing', msg);\n",
       "    // fig.ws.close()\n",
       "}\n",
       "\n",
       "mpl.figure.prototype.push_to_output = function(remove_interactive) {\n",
       "    // Turn the data on the canvas into data in the output cell.\n",
       "    var width = this.canvas.width/mpl.ratio\n",
       "    var dataURL = this.canvas.toDataURL();\n",
       "    this.cell_info[1]['text/html'] = '<img src=\"' + dataURL + '\" width=\"' + width + '\">';\n",
       "}\n",
       "\n",
       "mpl.figure.prototype.updated_canvas_event = function() {\n",
       "    // Tell IPython that the notebook contents must change.\n",
       "    IPython.notebook.set_dirty(true);\n",
       "    this.send_message(\"ack\", {});\n",
       "    var fig = this;\n",
       "    // Wait a second, then push the new image to the DOM so\n",
       "    // that it is saved nicely (might be nice to debounce this).\n",
       "    setTimeout(function () { fig.push_to_output() }, 1000);\n",
       "}\n",
       "\n",
       "mpl.figure.prototype._init_toolbar = function() {\n",
       "    var fig = this;\n",
       "\n",
       "    var nav_element = $('<div/>');\n",
       "    nav_element.attr('style', 'width: 100%');\n",
       "    this.root.append(nav_element);\n",
       "\n",
       "    // Define a callback function for later on.\n",
       "    function toolbar_event(event) {\n",
       "        return fig.toolbar_button_onclick(event['data']);\n",
       "    }\n",
       "    function toolbar_mouse_event(event) {\n",
       "        return fig.toolbar_button_onmouseover(event['data']);\n",
       "    }\n",
       "\n",
       "    for(var toolbar_ind in mpl.toolbar_items){\n",
       "        var name = mpl.toolbar_items[toolbar_ind][0];\n",
       "        var tooltip = mpl.toolbar_items[toolbar_ind][1];\n",
       "        var image = mpl.toolbar_items[toolbar_ind][2];\n",
       "        var method_name = mpl.toolbar_items[toolbar_ind][3];\n",
       "\n",
       "        if (!name) { continue; };\n",
       "\n",
       "        var button = $('<button class=\"btn btn-default\" href=\"#\" title=\"' + name + '\"><i class=\"fa ' + image + ' fa-lg\"></i></button>');\n",
       "        button.click(method_name, toolbar_event);\n",
       "        button.mouseover(tooltip, toolbar_mouse_event);\n",
       "        nav_element.append(button);\n",
       "    }\n",
       "\n",
       "    // Add the status bar.\n",
       "    var status_bar = $('<span class=\"mpl-message\" style=\"text-align:right; float: right;\"/>');\n",
       "    nav_element.append(status_bar);\n",
       "    this.message = status_bar[0];\n",
       "\n",
       "    // Add the close button to the window.\n",
       "    var buttongrp = $('<div class=\"btn-group inline pull-right\"></div>');\n",
       "    var button = $('<button class=\"btn btn-mini btn-primary\" href=\"#\" title=\"Stop Interaction\"><i class=\"fa fa-power-off icon-remove icon-large\"></i></button>');\n",
       "    button.click(function (evt) { fig.handle_close(fig, {}); } );\n",
       "    button.mouseover('Stop Interaction', toolbar_mouse_event);\n",
       "    buttongrp.append(button);\n",
       "    var titlebar = this.root.find($('.ui-dialog-titlebar'));\n",
       "    titlebar.prepend(buttongrp);\n",
       "}\n",
       "\n",
       "mpl.figure.prototype._root_extra_style = function(el){\n",
       "    var fig = this\n",
       "    el.on(\"remove\", function(){\n",
       "\tfig.close_ws(fig, {});\n",
       "    });\n",
       "}\n",
       "\n",
       "mpl.figure.prototype._canvas_extra_style = function(el){\n",
       "    // this is important to make the div 'focusable\n",
       "    el.attr('tabindex', 0)\n",
       "    // reach out to IPython and tell the keyboard manager to turn it's self\n",
       "    // off when our div gets focus\n",
       "\n",
       "    // location in version 3\n",
       "    if (IPython.notebook.keyboard_manager) {\n",
       "        IPython.notebook.keyboard_manager.register_events(el);\n",
       "    }\n",
       "    else {\n",
       "        // location in version 2\n",
       "        IPython.keyboard_manager.register_events(el);\n",
       "    }\n",
       "\n",
       "}\n",
       "\n",
       "mpl.figure.prototype._key_event_extra = function(event, name) {\n",
       "    var manager = IPython.notebook.keyboard_manager;\n",
       "    if (!manager)\n",
       "        manager = IPython.keyboard_manager;\n",
       "\n",
       "    // Check for shift+enter\n",
       "    if (event.shiftKey && event.which == 13) {\n",
       "        this.canvas_div.blur();\n",
       "        // select the cell after this one\n",
       "        var index = IPython.notebook.find_cell_index(this.cell_info[0]);\n",
       "        IPython.notebook.select(index + 1);\n",
       "    }\n",
       "}\n",
       "\n",
       "mpl.figure.prototype.handle_save = function(fig, msg) {\n",
       "    fig.ondownload(fig, null);\n",
       "}\n",
       "\n",
       "\n",
       "mpl.find_output_cell = function(html_output) {\n",
       "    // Return the cell and output element which can be found *uniquely* in the notebook.\n",
       "    // Note - this is a bit hacky, but it is done because the \"notebook_saving.Notebook\"\n",
       "    // IPython event is triggered only after the cells have been serialised, which for\n",
       "    // our purposes (turning an active figure into a static one), is too late.\n",
       "    var cells = IPython.notebook.get_cells();\n",
       "    var ncells = cells.length;\n",
       "    for (var i=0; i<ncells; i++) {\n",
       "        var cell = cells[i];\n",
       "        if (cell.cell_type === 'code'){\n",
       "            for (var j=0; j<cell.output_area.outputs.length; j++) {\n",
       "                var data = cell.output_area.outputs[j];\n",
       "                if (data.data) {\n",
       "                    // IPython >= 3 moved mimebundle to data attribute of output\n",
       "                    data = data.data;\n",
       "                }\n",
       "                if (data['text/html'] == html_output) {\n",
       "                    return [cell, data, j];\n",
       "                }\n",
       "            }\n",
       "        }\n",
       "    }\n",
       "}\n",
       "\n",
       "// Register the function which deals with the matplotlib target/channel.\n",
       "// The kernel may be null if the page has been refreshed.\n",
       "if (IPython.notebook.kernel != null) {\n",
       "    IPython.notebook.kernel.comm_manager.register_target('matplotlib', mpl.mpl_figure_comm);\n",
       "}\n"
      ],
      "text/plain": [
       "<IPython.core.display.Javascript object>"
      ]
     },
     "metadata": {},
     "output_type": "display_data"
    },
    {
     "data": {
      "text/html": [
       "<img src=\"data:image/png;base64,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\" width=\"1000\">"
      ],
      "text/plain": [
       "<IPython.core.display.HTML object>"
      ]
     },
     "metadata": {},
     "output_type": "display_data"
    }
   ],
   "source": [
    "ax, tax, lax, lines = dual_train_plots()\n",
    "fig = ax.figure\n",
    "plt.tight_layout()"
   ]
  },
  {
   "cell_type": "code",
   "execution_count": 15,
   "metadata": {
    "scrolled": false
   },
   "outputs": [
    {
     "name": "stdout",
     "output_type": "stream",
     "text": [
      "Number of batches: train = 6667, val = 417\n"
     ]
    },
    {
     "data": {
      "application/vnd.jupyter.widget-view+json": {
       "model_id": "c9db1d6efbe7484fbd5a5ca0e7b367d6",
       "version_major": 2,
       "version_minor": 0
      },
      "text/plain": [
       "HBox(children=(FloatProgress(value=0.0, description='Epochs', layout=Layout(flex='2'), style=ProgressStyle(des…"
      ]
     },
     "metadata": {},
     "output_type": "display_data"
    },
    {
     "data": {
      "application/vnd.jupyter.widget-view+json": {
       "model_id": "",
       "version_major": 2,
       "version_minor": 0
      },
      "text/plain": [
       "HBox(children=(FloatProgress(value=0.0, description='Training', layout=Layout(flex='2'), max=6667.0, style=Pro…"
      ]
     },
     "metadata": {},
     "output_type": "display_data"
    },
    {
     "name": "stdout",
     "output_type": "stream",
     "text": [
      "Epoch 0: train=9.94733, val=9.92005, took 590.38 s\n",
      "  Validation Found 55635 of 108024, added 6239 (eff 51.50%) (0.312 FP/event)\n"
     ]
    },
    {
     "data": {
      "application/vnd.jupyter.widget-view+json": {
       "model_id": "",
       "version_major": 2,
       "version_minor": 0
      },
      "text/plain": [
       "HBox(children=(FloatProgress(value=0.0, description='Training', layout=Layout(flex='2'), max=6667.0, style=Pro…"
      ]
     },
     "metadata": {},
     "output_type": "display_data"
    },
    {
     "name": "stdout",
     "output_type": "stream",
     "text": [
      "Epoch 1: train=9.93833, val=9.92963, took 594.88 s\n",
      "  Validation Found 55989 of 108024, added 6437 (eff 51.83%) (0.322 FP/event)\n"
     ]
    },
    {
     "data": {
      "application/vnd.jupyter.widget-view+json": {
       "model_id": "",
       "version_major": 2,
       "version_minor": 0
      },
      "text/plain": [
       "HBox(children=(FloatProgress(value=0.0, description='Training', layout=Layout(flex='2'), max=6667.0, style=Pro…"
      ]
     },
     "metadata": {},
     "output_type": "display_data"
    },
    {
     "name": "stdout",
     "output_type": "stream",
     "text": [
      "Epoch 2: train=9.94113, val=9.68378, took 591.88 s\n",
      "  Validation Found 54747 of 108024, added 5729 (eff 50.68%) (0.286 FP/event)\n"
     ]
    },
    {
     "data": {
      "application/vnd.jupyter.widget-view+json": {
       "model_id": "",
       "version_major": 2,
       "version_minor": 0
      },
      "text/plain": [
       "HBox(children=(FloatProgress(value=0.0, description='Training', layout=Layout(flex='2'), max=6667.0, style=Pro…"
      ]
     },
     "metadata": {},
     "output_type": "display_data"
    },
    {
     "name": "stdout",
     "output_type": "stream",
     "text": [
      "Epoch 3: train=9.93841, val=9.88519, took 592.38 s\n",
      "  Validation Found 55882 of 108024, added 6615 (eff 51.73%) (0.331 FP/event)\n"
     ]
    },
    {
     "data": {
      "application/vnd.jupyter.widget-view+json": {
       "model_id": "",
       "version_major": 2,
       "version_minor": 0
      },
      "text/plain": [
       "HBox(children=(FloatProgress(value=0.0, description='Training', layout=Layout(flex='2'), max=6667.0, style=Pro…"
      ]
     },
     "metadata": {},
     "output_type": "display_data"
    },
    {
     "name": "stdout",
     "output_type": "stream",
     "text": [
      "Epoch 4: train=9.93021, val=10.2437, took 590.57 s\n",
      "  Validation Found 55039 of 108024, added 6177 (eff 50.95%) (0.309 FP/event)\n"
     ]
    },
    {
     "data": {
      "application/vnd.jupyter.widget-view+json": {
       "model_id": "",
       "version_major": 2,
       "version_minor": 0
      },
      "text/plain": [
       "HBox(children=(FloatProgress(value=0.0, description='Training', layout=Layout(flex='2'), max=6667.0, style=Pro…"
      ]
     },
     "metadata": {},
     "output_type": "display_data"
    },
    {
     "name": "stdout",
     "output_type": "stream",
     "text": [
      "Epoch 5: train=9.92061, val=9.6482, took 591.69 s\n",
      "  Validation Found 55476 of 108024, added 6245 (eff 51.36%) (0.312 FP/event)\n"
     ]
    },
    {
     "data": {
      "application/vnd.jupyter.widget-view+json": {
       "model_id": "",
       "version_major": 2,
       "version_minor": 0
      },
      "text/plain": [
       "HBox(children=(FloatProgress(value=0.0, description='Training', layout=Layout(flex='2'), max=6667.0, style=Pro…"
      ]
     },
     "metadata": {},
     "output_type": "display_data"
    },
    {
     "name": "stdout",
     "output_type": "stream",
     "text": [
      "Epoch 6: train=9.92607, val=10.2417, took 590.95 s\n",
      "  Validation Found 55706 of 108024, added 6435 (eff 51.57%) (0.322 FP/event)\n"
     ]
    },
    {
     "data": {
      "application/vnd.jupyter.widget-view+json": {
       "model_id": "",
       "version_major": 2,
       "version_minor": 0
      },
      "text/plain": [
       "HBox(children=(FloatProgress(value=0.0, description='Training', layout=Layout(flex='2'), max=6667.0, style=Pro…"
      ]
     },
     "metadata": {},
     "output_type": "display_data"
    },
    {
     "name": "stdout",
     "output_type": "stream",
     "text": [
      "Epoch 7: train=9.92959, val=9.66077, took 591.97 s\n",
      "  Validation Found 55342 of 108024, added 6256 (eff 51.23%) (0.313 FP/event)\n"
     ]
    },
    {
     "data": {
      "application/vnd.jupyter.widget-view+json": {
       "model_id": "",
       "version_major": 2,
       "version_minor": 0
      },
      "text/plain": [
       "HBox(children=(FloatProgress(value=0.0, description='Training', layout=Layout(flex='2'), max=6667.0, style=Pro…"
      ]
     },
     "metadata": {},
     "output_type": "display_data"
    },
    {
     "name": "stdout",
     "output_type": "stream",
     "text": [
      "Epoch 8: train=9.93147, val=9.60252, took 592.4 s\n",
      "  Validation Found 55124 of 108024, added 5901 (eff 51.03%) (0.295 FP/event)\n"
     ]
    },
    {
     "data": {
      "application/vnd.jupyter.widget-view+json": {
       "model_id": "",
       "version_major": 2,
       "version_minor": 0
      },
      "text/plain": [
       "HBox(children=(FloatProgress(value=0.0, description='Training', layout=Layout(flex='2'), max=6667.0, style=Pro…"
      ]
     },
     "metadata": {},
     "output_type": "display_data"
    },
    {
     "name": "stdout",
     "output_type": "stream",
     "text": [
      "Epoch 9: train=9.90946, val=9.62604, took 591.58 s\n",
      "  Validation Found 55810 of 108024, added 6270 (eff 51.66%) (0.313 FP/event)\n"
     ]
    },
    {
     "data": {
      "application/vnd.jupyter.widget-view+json": {
       "model_id": "",
       "version_major": 2,
       "version_minor": 0
      },
      "text/plain": [
       "HBox(children=(FloatProgress(value=0.0, description='Training', layout=Layout(flex='2'), max=6667.0, style=Pro…"
      ]
     },
     "metadata": {},
     "output_type": "display_data"
    },
    {
     "name": "stdout",
     "output_type": "stream",
     "text": [
      "Epoch 10: train=9.91777, val=9.59505, took 590.47 s\n",
      "  Validation Found 55533 of 108024, added 6251 (eff 51.41%) (0.313 FP/event)\n"
     ]
    },
    {
     "data": {
      "application/vnd.jupyter.widget-view+json": {
       "model_id": "",
       "version_major": 2,
       "version_minor": 0
      },
      "text/plain": [
       "HBox(children=(FloatProgress(value=0.0, description='Training', layout=Layout(flex='2'), max=6667.0, style=Pro…"
      ]
     },
     "metadata": {},
     "output_type": "display_data"
    },
    {
     "name": "stdout",
     "output_type": "stream",
     "text": [
      "Epoch 11: train=9.90166, val=9.87493, took 590.13 s\n",
      "  Validation Found 55910 of 108024, added 6465 (eff 51.76%) (0.323 FP/event)\n"
     ]
    },
    {
     "data": {
      "application/vnd.jupyter.widget-view+json": {
       "model_id": "",
       "version_major": 2,
       "version_minor": 0
      },
      "text/plain": [
       "HBox(children=(FloatProgress(value=0.0, description='Training', layout=Layout(flex='2'), max=6667.0, style=Pro…"
      ]
     },
     "metadata": {},
     "output_type": "display_data"
    },
    {
     "name": "stdout",
     "output_type": "stream",
     "text": [
      "Epoch 12: train=9.90459, val=9.62515, took 591.03 s\n",
      "  Validation Found 55650 of 108024, added 6289 (eff 51.52%) (0.314 FP/event)\n"
     ]
    },
    {
     "data": {
      "application/vnd.jupyter.widget-view+json": {
       "model_id": "",
       "version_major": 2,
       "version_minor": 0
      },
      "text/plain": [
       "HBox(children=(FloatProgress(value=0.0, description='Training', layout=Layout(flex='2'), max=6667.0, style=Pro…"
      ]
     },
     "metadata": {},
     "output_type": "display_data"
    },
    {
     "name": "stdout",
     "output_type": "stream",
     "text": [
      "Epoch 13: train=9.90832, val=9.57893, took 590.99 s\n",
      "  Validation Found 56098 of 108024, added 6530 (eff 51.93%) (0.326 FP/event)\n"
     ]
    },
    {
     "data": {
      "application/vnd.jupyter.widget-view+json": {
       "model_id": "",
       "version_major": 2,
       "version_minor": 0
      },
      "text/plain": [
       "HBox(children=(FloatProgress(value=0.0, description='Training', layout=Layout(flex='2'), max=6667.0, style=Pro…"
      ]
     },
     "metadata": {},
     "output_type": "display_data"
    },
    {
     "name": "stdout",
     "output_type": "stream",
     "text": [
      "Epoch 14: train=9.91889, val=9.87463, took 590.58 s\n",
      "  Validation Found 55622 of 108024, added 6345 (eff 51.49%) (0.317 FP/event)\n"
     ]
    },
    {
     "data": {
      "application/vnd.jupyter.widget-view+json": {
       "model_id": "",
       "version_major": 2,
       "version_minor": 0
      },
      "text/plain": [
       "HBox(children=(FloatProgress(value=0.0, description='Training', layout=Layout(flex='2'), max=6667.0, style=Pro…"
      ]
     },
     "metadata": {},
     "output_type": "display_data"
    },
    {
     "name": "stdout",
     "output_type": "stream",
     "text": [
      "Epoch 15: train=9.89141, val=9.70959, took 591.25 s\n",
      "  Validation Found 55925 of 108024, added 6396 (eff 51.77%) (0.32 FP/event)\n"
     ]
    },
    {
     "data": {
      "application/vnd.jupyter.widget-view+json": {
       "model_id": "",
       "version_major": 2,
       "version_minor": 0
      },
      "text/plain": [
       "HBox(children=(FloatProgress(value=0.0, description='Training', layout=Layout(flex='2'), max=6667.0, style=Pro…"
      ]
     },
     "metadata": {},
     "output_type": "display_data"
    },
    {
     "name": "stdout",
     "output_type": "stream",
     "text": [
      "Epoch 16: train=9.90291, val=9.57889, took 590.88 s\n",
      "  Validation Found 55641 of 108024, added 6184 (eff 51.51%) (0.309 FP/event)\n"
     ]
    },
    {
     "data": {
      "application/vnd.jupyter.widget-view+json": {
       "model_id": "",
       "version_major": 2,
       "version_minor": 0
      },
      "text/plain": [
       "HBox(children=(FloatProgress(value=0.0, description='Training', layout=Layout(flex='2'), max=6667.0, style=Pro…"
      ]
     },
     "metadata": {},
     "output_type": "display_data"
    },
    {
     "name": "stdout",
     "output_type": "stream",
     "text": [
      "Epoch 17: train=9.89604, val=9.60095, took 591.74 s\n",
      "  Validation Found 55634 of 108024, added 6064 (eff 51.50%) (0.303 FP/event)\n"
     ]
    },
    {
     "data": {
      "application/vnd.jupyter.widget-view+json": {
       "model_id": "",
       "version_major": 2,
       "version_minor": 0
      },
      "text/plain": [
       "HBox(children=(FloatProgress(value=0.0, description='Training', layout=Layout(flex='2'), max=6667.0, style=Pro…"
      ]
     },
     "metadata": {},
     "output_type": "display_data"
    },
    {
     "name": "stdout",
     "output_type": "stream",
     "text": [
      "Epoch 18: train=9.88596, val=9.61466, took 590.66 s\n",
      "  Validation Found 55611 of 108024, added 6205 (eff 51.48%) (0.31 FP/event)\n"
     ]
    },
    {
     "data": {
      "application/vnd.jupyter.widget-view+json": {
       "model_id": "",
       "version_major": 2,
       "version_minor": 0
      },
      "text/plain": [
       "HBox(children=(FloatProgress(value=0.0, description='Training', layout=Layout(flex='2'), max=6667.0, style=Pro…"
      ]
     },
     "metadata": {},
     "output_type": "display_data"
    },
    {
     "name": "stdout",
     "output_type": "stream",
     "text": [
      "Epoch 19: train=9.89978, val=9.58542, took 590.85 s\n",
      "  Validation Found 55366 of 108024, added 6149 (eff 51.25%) (0.307 FP/event)\n"
     ]
    },
    {
     "data": {
      "application/vnd.jupyter.widget-view+json": {
       "model_id": "",
       "version_major": 2,
       "version_minor": 0
      },
      "text/plain": [
       "HBox(children=(FloatProgress(value=0.0, description='Training', layout=Layout(flex='2'), max=6667.0, style=Pro…"
      ]
     },
     "metadata": {},
     "output_type": "display_data"
    },
    {
     "name": "stdout",
     "output_type": "stream",
     "text": [
      "Epoch 20: train=9.88978, val=9.59287, took 591.02 s\n",
      "  Validation Found 56161 of 108024, added 6279 (eff 51.99%) (0.314 FP/event)\n"
     ]
    },
    {
     "data": {
      "application/vnd.jupyter.widget-view+json": {
       "model_id": "",
       "version_major": 2,
       "version_minor": 0
      },
      "text/plain": [
       "HBox(children=(FloatProgress(value=0.0, description='Training', layout=Layout(flex='2'), max=6667.0, style=Pro…"
      ]
     },
     "metadata": {},
     "output_type": "display_data"
    },
    {
     "name": "stdout",
     "output_type": "stream",
     "text": [
      "Epoch 21: train=9.89394, val=9.6259, took 590.73 s\n",
      "  Validation Found 55436 of 108024, added 6024 (eff 51.32%) (0.301 FP/event)\n"
     ]
    },
    {
     "data": {
      "application/vnd.jupyter.widget-view+json": {
       "model_id": "",
       "version_major": 2,
       "version_minor": 0
      },
      "text/plain": [
       "HBox(children=(FloatProgress(value=0.0, description='Training', layout=Layout(flex='2'), max=6667.0, style=Pro…"
      ]
     },
     "metadata": {},
     "output_type": "display_data"
    },
    {
     "name": "stdout",
     "output_type": "stream",
     "text": [
      "Epoch 22: train=9.89123, val=9.63825, took 590.69 s\n",
      "  Validation Found 56024 of 108024, added 6509 (eff 51.86%) (0.325 FP/event)\n"
     ]
    },
    {
     "data": {
      "application/vnd.jupyter.widget-view+json": {
       "model_id": "",
       "version_major": 2,
       "version_minor": 0
      },
      "text/plain": [
       "HBox(children=(FloatProgress(value=0.0, description='Training', layout=Layout(flex='2'), max=6667.0, style=Pro…"
      ]
     },
     "metadata": {},
     "output_type": "display_data"
    },
    {
     "name": "stdout",
     "output_type": "stream",
     "text": [
      "Epoch 23: train=9.87856, val=9.57045, took 590.43 s\n",
      "  Validation Found 56324 of 108024, added 6517 (eff 52.14%) (0.326 FP/event)\n"
     ]
    },
    {
     "data": {
      "application/vnd.jupyter.widget-view+json": {
       "model_id": "",
       "version_major": 2,
       "version_minor": 0
      },
      "text/plain": [
       "HBox(children=(FloatProgress(value=0.0, description='Training', layout=Layout(flex='2'), max=6667.0, style=Pro…"
      ]
     },
     "metadata": {},
     "output_type": "display_data"
    },
    {
     "name": "stdout",
     "output_type": "stream",
     "text": [
      "Epoch 24: train=9.88273, val=9.57148, took 590.76 s\n",
      "  Validation Found 56908 of 108024, added 6876 (eff 52.68%) (0.344 FP/event)\n"
     ]
    },
    {
     "data": {
      "application/vnd.jupyter.widget-view+json": {
       "model_id": "",
       "version_major": 2,
       "version_minor": 0
      },
      "text/plain": [
       "HBox(children=(FloatProgress(value=0.0, description='Training', layout=Layout(flex='2'), max=6667.0, style=Pro…"
      ]
     },
     "metadata": {},
     "output_type": "display_data"
    },
    {
     "name": "stdout",
     "output_type": "stream",
     "text": [
      "Epoch 25: train=9.8898, val=9.76019, took 590.82 s\n",
      "  Validation Found 56476 of 108024, added 6652 (eff 52.28%) (0.333 FP/event)\n"
     ]
    },
    {
     "data": {
      "application/vnd.jupyter.widget-view+json": {
       "model_id": "",
       "version_major": 2,
       "version_minor": 0
      },
      "text/plain": [
       "HBox(children=(FloatProgress(value=0.0, description='Training', layout=Layout(flex='2'), max=6667.0, style=Pro…"
      ]
     },
     "metadata": {},
     "output_type": "display_data"
    },
    {
     "name": "stdout",
     "output_type": "stream",
     "text": [
      "Epoch 26: train=9.87482, val=9.55449, took 590.68 s\n",
      "  Validation Found 55330 of 108024, added 5916 (eff 51.22%) (0.296 FP/event)\n"
     ]
    },
    {
     "data": {
      "application/vnd.jupyter.widget-view+json": {
       "model_id": "",
       "version_major": 2,
       "version_minor": 0
      },
      "text/plain": [
       "HBox(children=(FloatProgress(value=0.0, description='Training', layout=Layout(flex='2'), max=6667.0, style=Pro…"
      ]
     },
     "metadata": {},
     "output_type": "display_data"
    },
    {
     "name": "stdout",
     "output_type": "stream",
     "text": [
      "Epoch 27: train=9.86455, val=9.59962, took 590.8 s\n",
      "  Validation Found 55598 of 108024, added 6266 (eff 51.47%) (0.313 FP/event)\n"
     ]
    },
    {
     "data": {
      "application/vnd.jupyter.widget-view+json": {
       "model_id": "",
       "version_major": 2,
       "version_minor": 0
      },
      "text/plain": [
       "HBox(children=(FloatProgress(value=0.0, description='Training', layout=Layout(flex='2'), max=6667.0, style=Pro…"
      ]
     },
     "metadata": {},
     "output_type": "display_data"
    },
    {
     "name": "stdout",
     "output_type": "stream",
     "text": [
      "Epoch 28: train=9.87955, val=9.61933, took 590.51 s\n",
      "  Validation Found 55648 of 108024, added 6059 (eff 51.51%) (0.303 FP/event)\n"
     ]
    },
    {
     "data": {
      "application/vnd.jupyter.widget-view+json": {
       "model_id": "",
       "version_major": 2,
       "version_minor": 0
      },
      "text/plain": [
       "HBox(children=(FloatProgress(value=0.0, description='Training', layout=Layout(flex='2'), max=6667.0, style=Pro…"
      ]
     },
     "metadata": {},
     "output_type": "display_data"
    },
    {
     "name": "stdout",
     "output_type": "stream",
     "text": [
      "Epoch 29: train=9.87123, val=9.60841, took 590.83 s\n",
      "  Validation Found 55445 of 108024, added 6119 (eff 51.33%) (0.306 FP/event)\n"
     ]
    },
    {
     "data": {
      "application/vnd.jupyter.widget-view+json": {
       "model_id": "",
       "version_major": 2,
       "version_minor": 0
      },
      "text/plain": [
       "HBox(children=(FloatProgress(value=0.0, description='Training', layout=Layout(flex='2'), max=6667.0, style=Pro…"
      ]
     },
     "metadata": {},
     "output_type": "display_data"
    },
    {
     "name": "stdout",
     "output_type": "stream",
     "text": [
      "Epoch 30: train=9.87013, val=9.7579, took 591.09 s\n",
      "  Validation Found 56096 of 108024, added 6280 (eff 51.93%) (0.314 FP/event)\n"
     ]
    },
    {
     "data": {
      "application/vnd.jupyter.widget-view+json": {
       "model_id": "",
       "version_major": 2,
       "version_minor": 0
      },
      "text/plain": [
       "HBox(children=(FloatProgress(value=0.0, description='Training', layout=Layout(flex='2'), max=6667.0, style=Pro…"
      ]
     },
     "metadata": {},
     "output_type": "display_data"
    },
    {
     "name": "stdout",
     "output_type": "stream",
     "text": [
      "Epoch 31: train=9.86738, val=10.1681, took 590.62 s\n",
      "  Validation Found 56232 of 108024, added 6451 (eff 52.06%) (0.323 FP/event)\n"
     ]
    },
    {
     "data": {
      "application/vnd.jupyter.widget-view+json": {
       "model_id": "",
       "version_major": 2,
       "version_minor": 0
      },
      "text/plain": [
       "HBox(children=(FloatProgress(value=0.0, description='Training', layout=Layout(flex='2'), max=6667.0, style=Pro…"
      ]
     },
     "metadata": {},
     "output_type": "display_data"
    },
    {
     "name": "stdout",
     "output_type": "stream",
     "text": [
      "Epoch 32: train=9.86604, val=9.85683, took 590.31 s\n",
      "  Validation Found 55262 of 108024, added 6003 (eff 51.16%) (0.3 FP/event)\n"
     ]
    },
    {
     "data": {
      "application/vnd.jupyter.widget-view+json": {
       "model_id": "",
       "version_major": 2,
       "version_minor": 0
      },
      "text/plain": [
       "HBox(children=(FloatProgress(value=0.0, description='Training', layout=Layout(flex='2'), max=6667.0, style=Pro…"
      ]
     },
     "metadata": {},
     "output_type": "display_data"
    },
    {
     "name": "stdout",
     "output_type": "stream",
     "text": [
      "Epoch 33: train=9.87069, val=9.64065, took 591.0 s\n",
      "  Validation Found 55922 of 108024, added 6098 (eff 51.77%) (0.305 FP/event)\n"
     ]
    },
    {
     "data": {
      "application/vnd.jupyter.widget-view+json": {
       "model_id": "",
       "version_major": 2,
       "version_minor": 0
      },
      "text/plain": [
       "HBox(children=(FloatProgress(value=0.0, description='Training', layout=Layout(flex='2'), max=6667.0, style=Pro…"
      ]
     },
     "metadata": {},
     "output_type": "display_data"
    },
    {
     "name": "stdout",
     "output_type": "stream",
     "text": [
      "Epoch 34: train=9.85979, val=9.57811, took 590.48 s\n",
      "  Validation Found 55870 of 108024, added 6280 (eff 51.72%) (0.314 FP/event)\n"
     ]
    },
    {
     "data": {
      "application/vnd.jupyter.widget-view+json": {
       "model_id": "",
       "version_major": 2,
       "version_minor": 0
      },
      "text/plain": [
       "HBox(children=(FloatProgress(value=0.0, description='Training', layout=Layout(flex='2'), max=6667.0, style=Pro…"
      ]
     },
     "metadata": {},
     "output_type": "display_data"
    },
    {
     "name": "stdout",
     "output_type": "stream",
     "text": [
      "Epoch 35: train=9.86265, val=9.71232, took 590.77 s\n",
      "  Validation Found 55649 of 108024, added 6210 (eff 51.52%) (0.31 FP/event)\n"
     ]
    },
    {
     "data": {
      "application/vnd.jupyter.widget-view+json": {
       "model_id": "",
       "version_major": 2,
       "version_minor": 0
      },
      "text/plain": [
       "HBox(children=(FloatProgress(value=0.0, description='Training', layout=Layout(flex='2'), max=6667.0, style=Pro…"
      ]
     },
     "metadata": {},
     "output_type": "display_data"
    },
    {
     "name": "stdout",
     "output_type": "stream",
     "text": [
      "Epoch 36: train=9.85127, val=9.57205, took 591.17 s\n",
      "  Validation Found 55777 of 108024, added 6236 (eff 51.63%) (0.312 FP/event)\n"
     ]
    },
    {
     "data": {
      "application/vnd.jupyter.widget-view+json": {
       "model_id": "",
       "version_major": 2,
       "version_minor": 0
      },
      "text/plain": [
       "HBox(children=(FloatProgress(value=0.0, description='Training', layout=Layout(flex='2'), max=6667.0, style=Pro…"
      ]
     },
     "metadata": {},
     "output_type": "display_data"
    },
    {
     "name": "stdout",
     "output_type": "stream",
     "text": [
      "Epoch 37: train=9.85344, val=9.56191, took 591.23 s\n",
      "  Validation Found 55945 of 108024, added 5945 (eff 51.79%) (0.297 FP/event)\n"
     ]
    },
    {
     "data": {
      "application/vnd.jupyter.widget-view+json": {
       "model_id": "",
       "version_major": 2,
       "version_minor": 0
      },
      "text/plain": [
       "HBox(children=(FloatProgress(value=0.0, description='Training', layout=Layout(flex='2'), max=6667.0, style=Pro…"
      ]
     },
     "metadata": {},
     "output_type": "display_data"
    },
    {
     "name": "stdout",
     "output_type": "stream",
     "text": [
      "Epoch 38: train=9.86036, val=9.56219, took 590.64 s\n",
      "  Validation Found 56303 of 108024, added 6223 (eff 52.12%) (0.311 FP/event)\n"
     ]
    },
    {
     "data": {
      "application/vnd.jupyter.widget-view+json": {
       "model_id": "",
       "version_major": 2,
       "version_minor": 0
      },
      "text/plain": [
       "HBox(children=(FloatProgress(value=0.0, description='Training', layout=Layout(flex='2'), max=6667.0, style=Pro…"
      ]
     },
     "metadata": {},
     "output_type": "display_data"
    },
    {
     "name": "stdout",
     "output_type": "stream",
     "text": [
      "Epoch 39: train=9.85539, val=9.62495, took 590.47 s\n",
      "  Validation Found 56323 of 108024, added 6401 (eff 52.14%) (0.32 FP/event)\n"
     ]
    },
    {
     "data": {
      "application/vnd.jupyter.widget-view+json": {
       "model_id": "",
       "version_major": 2,
       "version_minor": 0
      },
      "text/plain": [
       "HBox(children=(FloatProgress(value=0.0, description='Training', layout=Layout(flex='2'), max=6667.0, style=Pro…"
      ]
     },
     "metadata": {},
     "output_type": "display_data"
    },
    {
     "name": "stdout",
     "output_type": "stream",
     "text": [
      "Epoch 40: train=9.86481, val=9.54753, took 590.63 s\n",
      "  Validation Found 55806 of 108024, added 6169 (eff 51.66%) (0.308 FP/event)\n"
     ]
    },
    {
     "data": {
      "application/vnd.jupyter.widget-view+json": {
       "model_id": "",
       "version_major": 2,
       "version_minor": 0
      },
      "text/plain": [
       "HBox(children=(FloatProgress(value=0.0, description='Training', layout=Layout(flex='2'), max=6667.0, style=Pro…"
      ]
     },
     "metadata": {},
     "output_type": "display_data"
    },
    {
     "name": "stdout",
     "output_type": "stream",
     "text": [
      "Epoch 41: train=9.86232, val=9.55161, took 590.82 s\n",
      "  Validation Found 56391 of 108024, added 6388 (eff 52.20%) (0.319 FP/event)\n"
     ]
    },
    {
     "data": {
      "application/vnd.jupyter.widget-view+json": {
       "model_id": "",
       "version_major": 2,
       "version_minor": 0
      },
      "text/plain": [
       "HBox(children=(FloatProgress(value=0.0, description='Training', layout=Layout(flex='2'), max=6667.0, style=Pro…"
      ]
     },
     "metadata": {},
     "output_type": "display_data"
    },
    {
     "name": "stdout",
     "output_type": "stream",
     "text": [
      "Epoch 42: train=9.8499, val=9.8348, took 590.44 s\n",
      "  Validation Found 56366 of 108024, added 6571 (eff 52.18%) (0.329 FP/event)\n"
     ]
    },
    {
     "data": {
      "application/vnd.jupyter.widget-view+json": {
       "model_id": "",
       "version_major": 2,
       "version_minor": 0
      },
      "text/plain": [
       "HBox(children=(FloatProgress(value=0.0, description='Training', layout=Layout(flex='2'), max=6667.0, style=Pro…"
      ]
     },
     "metadata": {},
     "output_type": "display_data"
    },
    {
     "name": "stdout",
     "output_type": "stream",
     "text": [
      "Epoch 43: train=9.85799, val=9.65252, took 590.75 s\n",
      "  Validation Found 56213 of 108024, added 6316 (eff 52.04%) (0.316 FP/event)\n"
     ]
    },
    {
     "data": {
      "application/vnd.jupyter.widget-view+json": {
       "model_id": "",
       "version_major": 2,
       "version_minor": 0
      },
      "text/plain": [
       "HBox(children=(FloatProgress(value=0.0, description='Training', layout=Layout(flex='2'), max=6667.0, style=Pro…"
      ]
     },
     "metadata": {},
     "output_type": "display_data"
    },
    {
     "name": "stdout",
     "output_type": "stream",
     "text": [
      "Epoch 44: train=9.84431, val=9.59094, took 590.78 s\n",
      "  Validation Found 56037 of 108024, added 6201 (eff 51.87%) (0.31 FP/event)\n"
     ]
    },
    {
     "data": {
      "application/vnd.jupyter.widget-view+json": {
       "model_id": "",
       "version_major": 2,
       "version_minor": 0
      },
      "text/plain": [
       "HBox(children=(FloatProgress(value=0.0, description='Training', layout=Layout(flex='2'), max=6667.0, style=Pro…"
      ]
     },
     "metadata": {},
     "output_type": "display_data"
    },
    {
     "name": "stdout",
     "output_type": "stream",
     "text": [
      "Epoch 45: train=9.84027, val=9.63627, took 591.11 s\n",
      "  Validation Found 56112 of 108024, added 6332 (eff 51.94%) (0.317 FP/event)\n"
     ]
    },
    {
     "data": {
      "application/vnd.jupyter.widget-view+json": {
       "model_id": "",
       "version_major": 2,
       "version_minor": 0
      },
      "text/plain": [
       "HBox(children=(FloatProgress(value=0.0, description='Training', layout=Layout(flex='2'), max=6667.0, style=Pro…"
      ]
     },
     "metadata": {},
     "output_type": "display_data"
    },
    {
     "name": "stdout",
     "output_type": "stream",
     "text": [
      "Epoch 46: train=9.84015, val=9.51943, took 590.61 s\n",
      "  Validation Found 55832 of 108024, added 6147 (eff 51.68%) (0.307 FP/event)\n"
     ]
    },
    {
     "data": {
      "application/vnd.jupyter.widget-view+json": {
       "model_id": "",
       "version_major": 2,
       "version_minor": 0
      },
      "text/plain": [
       "HBox(children=(FloatProgress(value=0.0, description='Training', layout=Layout(flex='2'), max=6667.0, style=Pro…"
      ]
     },
     "metadata": {},
     "output_type": "display_data"
    },
    {
     "name": "stdout",
     "output_type": "stream",
     "text": [
      "Epoch 47: train=9.83986, val=9.59396, took 590.61 s\n",
      "  Validation Found 56395 of 108024, added 6220 (eff 52.21%) (0.311 FP/event)\n"
     ]
    },
    {
     "data": {
      "application/vnd.jupyter.widget-view+json": {
       "model_id": "",
       "version_major": 2,
       "version_minor": 0
      },
      "text/plain": [
       "HBox(children=(FloatProgress(value=0.0, description='Training', layout=Layout(flex='2'), max=6667.0, style=Pro…"
      ]
     },
     "metadata": {},
     "output_type": "display_data"
    },
    {
     "name": "stdout",
     "output_type": "stream",
     "text": [
      "Epoch 48: train=9.85563, val=9.56241, took 591.15 s\n",
      "  Validation Found 55995 of 108024, added 6220 (eff 51.84%) (0.311 FP/event)\n"
     ]
    },
    {
     "data": {
      "application/vnd.jupyter.widget-view+json": {
       "model_id": "",
       "version_major": 2,
       "version_minor": 0
      },
      "text/plain": [
       "HBox(children=(FloatProgress(value=0.0, description='Training', layout=Layout(flex='2'), max=6667.0, style=Pro…"
      ]
     },
     "metadata": {},
     "output_type": "display_data"
    },
    {
     "name": "stdout",
     "output_type": "stream",
     "text": [
      "Epoch 49: train=9.83169, val=9.91418, took 590.58 s\n",
      "  Validation Found 56174 of 108024, added 6130 (eff 52.00%) (0.306 FP/event)\n"
     ]
    },
    {
     "data": {
      "application/vnd.jupyter.widget-view+json": {
       "model_id": "",
       "version_major": 2,
       "version_minor": 0
      },
      "text/plain": [
       "HBox(children=(FloatProgress(value=0.0, description='Training', layout=Layout(flex='2'), max=6667.0, style=Pro…"
      ]
     },
     "metadata": {},
     "output_type": "display_data"
    },
    {
     "name": "stdout",
     "output_type": "stream",
     "text": [
      "Epoch 50: train=9.83301, val=9.82346, took 590.94 s\n",
      "  Validation Found 56075 of 108024, added 6056 (eff 51.91%) (0.303 FP/event)\n"
     ]
    },
    {
     "data": {
      "application/vnd.jupyter.widget-view+json": {
       "model_id": "",
       "version_major": 2,
       "version_minor": 0
      },
      "text/plain": [
       "HBox(children=(FloatProgress(value=0.0, description='Training', layout=Layout(flex='2'), max=6667.0, style=Pro…"
      ]
     },
     "metadata": {},
     "output_type": "display_data"
    },
    {
     "name": "stdout",
     "output_type": "stream",
     "text": [
      "Epoch 51: train=9.84016, val=9.54776, took 591.34 s\n",
      "  Validation Found 56146 of 108024, added 6135 (eff 51.98%) (0.307 FP/event)\n"
     ]
    },
    {
     "data": {
      "application/vnd.jupyter.widget-view+json": {
       "model_id": "",
       "version_major": 2,
       "version_minor": 0
      },
      "text/plain": [
       "HBox(children=(FloatProgress(value=0.0, description='Training', layout=Layout(flex='2'), max=6667.0, style=Pro…"
      ]
     },
     "metadata": {},
     "output_type": "display_data"
    },
    {
     "name": "stdout",
     "output_type": "stream",
     "text": [
      "Epoch 52: train=9.82568, val=9.58343, took 590.65 s\n",
      "  Validation Found 55698 of 108024, added 5855 (eff 51.56%) (0.293 FP/event)\n"
     ]
    },
    {
     "data": {
      "application/vnd.jupyter.widget-view+json": {
       "model_id": "",
       "version_major": 2,
       "version_minor": 0
      },
      "text/plain": [
       "HBox(children=(FloatProgress(value=0.0, description='Training', layout=Layout(flex='2'), max=6667.0, style=Pro…"
      ]
     },
     "metadata": {},
     "output_type": "display_data"
    },
    {
     "name": "stdout",
     "output_type": "stream",
     "text": [
      "Epoch 53: train=9.82879, val=9.53184, took 591.19 s\n",
      "  Validation Found 56246 of 108024, added 6022 (eff 52.07%) (0.301 FP/event)\n"
     ]
    },
    {
     "data": {
      "application/vnd.jupyter.widget-view+json": {
       "model_id": "",
       "version_major": 2,
       "version_minor": 0
      },
      "text/plain": [
       "HBox(children=(FloatProgress(value=0.0, description='Training', layout=Layout(flex='2'), max=6667.0, style=Pro…"
      ]
     },
     "metadata": {},
     "output_type": "display_data"
    },
    {
     "name": "stdout",
     "output_type": "stream",
     "text": [
      "Epoch 54: train=9.82346, val=9.70935, took 590.44 s\n",
      "  Validation Found 56218 of 108024, added 6302 (eff 52.04%) (0.315 FP/event)\n"
     ]
    },
    {
     "data": {
      "application/vnd.jupyter.widget-view+json": {
       "model_id": "",
       "version_major": 2,
       "version_minor": 0
      },
      "text/plain": [
       "HBox(children=(FloatProgress(value=0.0, description='Training', layout=Layout(flex='2'), max=6667.0, style=Pro…"
      ]
     },
     "metadata": {},
     "output_type": "display_data"
    },
    {
     "name": "stdout",
     "output_type": "stream",
     "text": [
      "Epoch 55: train=9.81735, val=9.51376, took 590.58 s\n",
      "  Validation Found 56158 of 108024, added 6067 (eff 51.99%) (0.303 FP/event)\n"
     ]
    },
    {
     "data": {
      "application/vnd.jupyter.widget-view+json": {
       "model_id": "",
       "version_major": 2,
       "version_minor": 0
      },
      "text/plain": [
       "HBox(children=(FloatProgress(value=0.0, description='Training', layout=Layout(flex='2'), max=6667.0, style=Pro…"
      ]
     },
     "metadata": {},
     "output_type": "display_data"
    },
    {
     "name": "stdout",
     "output_type": "stream",
     "text": [
      "Epoch 56: train=9.82693, val=10.1065, took 590.69 s\n",
      "  Validation Found 55783 of 108024, added 6152 (eff 51.64%) (0.308 FP/event)\n"
     ]
    },
    {
     "data": {
      "application/vnd.jupyter.widget-view+json": {
       "model_id": "",
       "version_major": 2,
       "version_minor": 0
      },
      "text/plain": [
       "HBox(children=(FloatProgress(value=0.0, description='Training', layout=Layout(flex='2'), max=6667.0, style=Pro…"
      ]
     },
     "metadata": {},
     "output_type": "display_data"
    },
    {
     "name": "stdout",
     "output_type": "stream",
     "text": [
      "Epoch 57: train=9.8235, val=9.73037, took 590.93 s\n",
      "  Validation Found 56560 of 108024, added 6390 (eff 52.36%) (0.319 FP/event)\n"
     ]
    },
    {
     "data": {
      "application/vnd.jupyter.widget-view+json": {
       "model_id": "",
       "version_major": 2,
       "version_minor": 0
      },
      "text/plain": [
       "HBox(children=(FloatProgress(value=0.0, description='Training', layout=Layout(flex='2'), max=6667.0, style=Pro…"
      ]
     },
     "metadata": {},
     "output_type": "display_data"
    },
    {
     "name": "stdout",
     "output_type": "stream",
     "text": [
      "Epoch 58: train=9.82134, val=9.63765, took 591.46 s\n",
      "  Validation Found 56297 of 108024, added 6195 (eff 52.12%) (0.31 FP/event)\n"
     ]
    },
    {
     "data": {
      "application/vnd.jupyter.widget-view+json": {
       "model_id": "",
       "version_major": 2,
       "version_minor": 0
      },
      "text/plain": [
       "HBox(children=(FloatProgress(value=0.0, description='Training', layout=Layout(flex='2'), max=6667.0, style=Pro…"
      ]
     },
     "metadata": {},
     "output_type": "display_data"
    },
    {
     "name": "stdout",
     "output_type": "stream",
     "text": [
      "Epoch 59: train=9.81805, val=9.77271, took 590.58 s\n",
      "  Validation Found 55814 of 108024, added 5976 (eff 51.67%) (0.299 FP/event)\n"
     ]
    },
    {
     "data": {
      "application/vnd.jupyter.widget-view+json": {
       "model_id": "",
       "version_major": 2,
       "version_minor": 0
      },
      "text/plain": [
       "HBox(children=(FloatProgress(value=0.0, description='Training', layout=Layout(flex='2'), max=6667.0, style=Pro…"
      ]
     },
     "metadata": {},
     "output_type": "display_data"
    },
    {
     "name": "stdout",
     "output_type": "stream",
     "text": [
      "Epoch 60: train=9.81985, val=9.68829, took 591.03 s\n",
      "  Validation Found 55766 of 108024, added 6030 (eff 51.62%) (0.301 FP/event)\n"
     ]
    },
    {
     "data": {
      "application/vnd.jupyter.widget-view+json": {
       "model_id": "",
       "version_major": 2,
       "version_minor": 0
      },
      "text/plain": [
       "HBox(children=(FloatProgress(value=0.0, description='Training', layout=Layout(flex='2'), max=6667.0, style=Pro…"
      ]
     },
     "metadata": {},
     "output_type": "display_data"
    },
    {
     "name": "stdout",
     "output_type": "stream",
     "text": [
      "Epoch 61: train=9.80934, val=9.78678, took 591.2 s\n",
      "  Validation Found 55857 of 108024, added 6094 (eff 51.71%) (0.305 FP/event)\n"
     ]
    },
    {
     "data": {
      "application/vnd.jupyter.widget-view+json": {
       "model_id": "",
       "version_major": 2,
       "version_minor": 0
      },
      "text/plain": [
       "HBox(children=(FloatProgress(value=0.0, description='Training', layout=Layout(flex='2'), max=6667.0, style=Pro…"
      ]
     },
     "metadata": {},
     "output_type": "display_data"
    },
    {
     "name": "stdout",
     "output_type": "stream",
     "text": [
      "Epoch 62: train=9.81187, val=9.56275, took 591.38 s\n",
      "  Validation Found 56098 of 108024, added 6039 (eff 51.93%) (0.302 FP/event)\n"
     ]
    },
    {
     "data": {
      "application/vnd.jupyter.widget-view+json": {
       "model_id": "",
       "version_major": 2,
       "version_minor": 0
      },
      "text/plain": [
       "HBox(children=(FloatProgress(value=0.0, description='Training', layout=Layout(flex='2'), max=6667.0, style=Pro…"
      ]
     },
     "metadata": {},
     "output_type": "display_data"
    },
    {
     "name": "stdout",
     "output_type": "stream",
     "text": [
      "Epoch 63: train=9.81123, val=9.573, took 590.65 s\n",
      "  Validation Found 56042 of 108024, added 6136 (eff 51.88%) (0.307 FP/event)\n"
     ]
    },
    {
     "data": {
      "application/vnd.jupyter.widget-view+json": {
       "model_id": "",
       "version_major": 2,
       "version_minor": 0
      },
      "text/plain": [
       "HBox(children=(FloatProgress(value=0.0, description='Training', layout=Layout(flex='2'), max=6667.0, style=Pro…"
      ]
     },
     "metadata": {},
     "output_type": "display_data"
    },
    {
     "name": "stdout",
     "output_type": "stream",
     "text": [
      "Epoch 64: train=9.8173, val=9.89803, took 591.04 s\n",
      "  Validation Found 56172 of 108024, added 6000 (eff 52.00%) (0.3 FP/event)\n"
     ]
    },
    {
     "data": {
      "application/vnd.jupyter.widget-view+json": {
       "model_id": "",
       "version_major": 2,
       "version_minor": 0
      },
      "text/plain": [
       "HBox(children=(FloatProgress(value=0.0, description='Training', layout=Layout(flex='2'), max=6667.0, style=Pro…"
      ]
     },
     "metadata": {},
     "output_type": "display_data"
    },
    {
     "name": "stdout",
     "output_type": "stream",
     "text": [
      "Epoch 65: train=9.80472, val=9.52053, took 590.56 s\n",
      "  Validation Found 55651 of 108024, added 5888 (eff 51.52%) (0.294 FP/event)\n"
     ]
    },
    {
     "data": {
      "application/vnd.jupyter.widget-view+json": {
       "model_id": "",
       "version_major": 2,
       "version_minor": 0
      },
      "text/plain": [
       "HBox(children=(FloatProgress(value=0.0, description='Training', layout=Layout(flex='2'), max=6667.0, style=Pro…"
      ]
     },
     "metadata": {},
     "output_type": "display_data"
    },
    {
     "name": "stdout",
     "output_type": "stream",
     "text": [
      "Epoch 66: train=9.81045, val=10.212, took 591.15 s\n",
      "  Validation Found 56196 of 108024, added 6131 (eff 52.02%) (0.307 FP/event)\n"
     ]
    },
    {
     "data": {
      "application/vnd.jupyter.widget-view+json": {
       "model_id": "",
       "version_major": 2,
       "version_minor": 0
      },
      "text/plain": [
       "HBox(children=(FloatProgress(value=0.0, description='Training', layout=Layout(flex='2'), max=6667.0, style=Pro…"
      ]
     },
     "metadata": {},
     "output_type": "display_data"
    },
    {
     "name": "stdout",
     "output_type": "stream",
     "text": [
      "Epoch 67: train=9.80358, val=9.71415, took 591.38 s\n",
      "  Validation Found 55749 of 108024, added 5943 (eff 51.61%) (0.297 FP/event)\n"
     ]
    },
    {
     "data": {
      "application/vnd.jupyter.widget-view+json": {
       "model_id": "",
       "version_major": 2,
       "version_minor": 0
      },
      "text/plain": [
       "HBox(children=(FloatProgress(value=0.0, description='Training', layout=Layout(flex='2'), max=6667.0, style=Pro…"
      ]
     },
     "metadata": {},
     "output_type": "display_data"
    },
    {
     "name": "stdout",
     "output_type": "stream",
     "text": [
      "Epoch 68: train=9.80905, val=9.77379, took 590.73 s\n",
      "  Validation Found 56096 of 108024, added 6113 (eff 51.93%) (0.306 FP/event)\n"
     ]
    },
    {
     "data": {
      "application/vnd.jupyter.widget-view+json": {
       "model_id": "",
       "version_major": 2,
       "version_minor": 0
      },
      "text/plain": [
       "HBox(children=(FloatProgress(value=0.0, description='Training', layout=Layout(flex='2'), max=6667.0, style=Pro…"
      ]
     },
     "metadata": {},
     "output_type": "display_data"
    },
    {
     "name": "stdout",
     "output_type": "stream",
     "text": [
      "Epoch 69: train=9.80014, val=9.52662, took 590.52 s\n",
      "  Validation Found 56276 of 108024, added 6245 (eff 52.10%) (0.312 FP/event)\n"
     ]
    },
    {
     "data": {
      "application/vnd.jupyter.widget-view+json": {
       "model_id": "",
       "version_major": 2,
       "version_minor": 0
      },
      "text/plain": [
       "HBox(children=(FloatProgress(value=0.0, description='Training', layout=Layout(flex='2'), max=6667.0, style=Pro…"
      ]
     },
     "metadata": {},
     "output_type": "display_data"
    },
    {
     "name": "stdout",
     "output_type": "stream",
     "text": [
      "Epoch 70: train=9.7915, val=9.54001, took 591.04 s\n",
      "  Validation Found 55353 of 108024, added 5483 (eff 51.24%) (0.274 FP/event)\n"
     ]
    },
    {
     "data": {
      "application/vnd.jupyter.widget-view+json": {
       "model_id": "",
       "version_major": 2,
       "version_minor": 0
      },
      "text/plain": [
       "HBox(children=(FloatProgress(value=0.0, description='Training', layout=Layout(flex='2'), max=6667.0, style=Pro…"
      ]
     },
     "metadata": {},
     "output_type": "display_data"
    },
    {
     "name": "stdout",
     "output_type": "stream",
     "text": [
      "Epoch 71: train=9.80389, val=9.53594, took 590.71 s\n",
      "  Validation Found 55939 of 108024, added 5941 (eff 51.78%) (0.297 FP/event)\n"
     ]
    },
    {
     "data": {
      "application/vnd.jupyter.widget-view+json": {
       "model_id": "",
       "version_major": 2,
       "version_minor": 0
      },
      "text/plain": [
       "HBox(children=(FloatProgress(value=0.0, description='Training', layout=Layout(flex='2'), max=6667.0, style=Pro…"
      ]
     },
     "metadata": {},
     "output_type": "display_data"
    },
    {
     "name": "stdout",
     "output_type": "stream",
     "text": [
      "Epoch 72: train=9.7937, val=9.95594, took 590.78 s\n",
      "  Validation Found 55848 of 108024, added 5984 (eff 51.70%) (0.299 FP/event)\n"
     ]
    },
    {
     "data": {
      "application/vnd.jupyter.widget-view+json": {
       "model_id": "",
       "version_major": 2,
       "version_minor": 0
      },
      "text/plain": [
       "HBox(children=(FloatProgress(value=0.0, description='Training', layout=Layout(flex='2'), max=6667.0, style=Pro…"
      ]
     },
     "metadata": {},
     "output_type": "display_data"
    },
    {
     "name": "stdout",
     "output_type": "stream",
     "text": [
      "Epoch 73: train=9.80936, val=9.6841, took 590.48 s\n",
      "  Validation Found 56274 of 108024, added 6078 (eff 52.09%) (0.304 FP/event)\n"
     ]
    },
    {
     "data": {
      "application/vnd.jupyter.widget-view+json": {
       "model_id": "",
       "version_major": 2,
       "version_minor": 0
      },
      "text/plain": [
       "HBox(children=(FloatProgress(value=0.0, description='Training', layout=Layout(flex='2'), max=6667.0, style=Pro…"
      ]
     },
     "metadata": {},
     "output_type": "display_data"
    },
    {
     "name": "stdout",
     "output_type": "stream",
     "text": [
      "Epoch 74: train=9.78471, val=9.5868, took 590.66 s\n",
      "  Validation Found 56758 of 108024, added 6466 (eff 52.54%) (0.323 FP/event)\n"
     ]
    },
    {
     "data": {
      "application/vnd.jupyter.widget-view+json": {
       "model_id": "",
       "version_major": 2,
       "version_minor": 0
      },
      "text/plain": [
       "HBox(children=(FloatProgress(value=0.0, description='Training', layout=Layout(flex='2'), max=6667.0, style=Pro…"
      ]
     },
     "metadata": {},
     "output_type": "display_data"
    },
    {
     "name": "stdout",
     "output_type": "stream",
     "text": [
      "Epoch 75: train=9.78885, val=9.52603, took 591.39 s\n",
      "  Validation Found 55889 of 108024, added 6039 (eff 51.74%) (0.302 FP/event)\n"
     ]
    },
    {
     "data": {
      "application/vnd.jupyter.widget-view+json": {
       "model_id": "",
       "version_major": 2,
       "version_minor": 0
      },
      "text/plain": [
       "HBox(children=(FloatProgress(value=0.0, description='Training', layout=Layout(flex='2'), max=6667.0, style=Pro…"
      ]
     },
     "metadata": {},
     "output_type": "display_data"
    },
    {
     "name": "stdout",
     "output_type": "stream",
     "text": [
      "Epoch 76: train=9.7837, val=9.51324, took 590.57 s\n",
      "  Validation Found 56641 of 108024, added 6391 (eff 52.43%) (0.32 FP/event)\n"
     ]
    },
    {
     "data": {
      "application/vnd.jupyter.widget-view+json": {
       "model_id": "",
       "version_major": 2,
       "version_minor": 0
      },
      "text/plain": [
       "HBox(children=(FloatProgress(value=0.0, description='Training', layout=Layout(flex='2'), max=6667.0, style=Pro…"
      ]
     },
     "metadata": {},
     "output_type": "display_data"
    },
    {
     "name": "stdout",
     "output_type": "stream",
     "text": [
      "Epoch 77: train=9.78821, val=9.61097, took 590.95 s\n",
      "  Validation Found 56653 of 108024, added 6076 (eff 52.44%) (0.304 FP/event)\n"
     ]
    },
    {
     "data": {
      "application/vnd.jupyter.widget-view+json": {
       "model_id": "",
       "version_major": 2,
       "version_minor": 0
      },
      "text/plain": [
       "HBox(children=(FloatProgress(value=0.0, description='Training', layout=Layout(flex='2'), max=6667.0, style=Pro…"
      ]
     },
     "metadata": {},
     "output_type": "display_data"
    },
    {
     "name": "stdout",
     "output_type": "stream",
     "text": [
      "Epoch 78: train=9.7946, val=9.5152, took 591.34 s\n",
      "  Validation Found 55940 of 108024, added 5966 (eff 51.78%) (0.298 FP/event)\n"
     ]
    },
    {
     "data": {
      "application/vnd.jupyter.widget-view+json": {
       "model_id": "",
       "version_major": 2,
       "version_minor": 0
      },
      "text/plain": [
       "HBox(children=(FloatProgress(value=0.0, description='Training', layout=Layout(flex='2'), max=6667.0, style=Pro…"
      ]
     },
     "metadata": {},
     "output_type": "display_data"
    },
    {
     "name": "stdout",
     "output_type": "stream",
     "text": [
      "Epoch 79: train=9.78546, val=9.60054, took 590.77 s\n",
      "  Validation Found 55621 of 108024, added 5624 (eff 51.49%) (0.281 FP/event)\n"
     ]
    },
    {
     "data": {
      "application/vnd.jupyter.widget-view+json": {
       "model_id": "",
       "version_major": 2,
       "version_minor": 0
      },
      "text/plain": [
       "HBox(children=(FloatProgress(value=0.0, description='Training', layout=Layout(flex='2'), max=6667.0, style=Pro…"
      ]
     },
     "metadata": {},
     "output_type": "display_data"
    },
    {
     "name": "stdout",
     "output_type": "stream",
     "text": [
      "Epoch 80: train=9.80212, val=9.89961, took 590.89 s\n",
      "  Validation Found 56376 of 108024, added 6183 (eff 52.19%) (0.309 FP/event)\n"
     ]
    },
    {
     "data": {
      "application/vnd.jupyter.widget-view+json": {
       "model_id": "",
       "version_major": 2,
       "version_minor": 0
      },
      "text/plain": [
       "HBox(children=(FloatProgress(value=0.0, description='Training', layout=Layout(flex='2'), max=6667.0, style=Pro…"
      ]
     },
     "metadata": {},
     "output_type": "display_data"
    },
    {
     "name": "stdout",
     "output_type": "stream",
     "text": [
      "Epoch 81: train=9.78921, val=9.74089, took 590.9 s\n",
      "  Validation Found 55943 of 108024, added 5914 (eff 51.79%) (0.296 FP/event)\n"
     ]
    },
    {
     "data": {
      "application/vnd.jupyter.widget-view+json": {
       "model_id": "",
       "version_major": 2,
       "version_minor": 0
      },
      "text/plain": [
       "HBox(children=(FloatProgress(value=0.0, description='Training', layout=Layout(flex='2'), max=6667.0, style=Pro…"
      ]
     },
     "metadata": {},
     "output_type": "display_data"
    },
    {
     "name": "stdout",
     "output_type": "stream",
     "text": [
      "Epoch 82: train=9.79166, val=9.55267, took 591.04 s\n",
      "  Validation Found 56067 of 108024, added 5938 (eff 51.90%) (0.297 FP/event)\n"
     ]
    },
    {
     "data": {
      "application/vnd.jupyter.widget-view+json": {
       "model_id": "",
       "version_major": 2,
       "version_minor": 0
      },
      "text/plain": [
       "HBox(children=(FloatProgress(value=0.0, description='Training', layout=Layout(flex='2'), max=6667.0, style=Pro…"
      ]
     },
     "metadata": {},
     "output_type": "display_data"
    },
    {
     "name": "stdout",
     "output_type": "stream",
     "text": [
      "Epoch 83: train=9.78366, val=9.65943, took 591.01 s\n",
      "  Validation Found 55942 of 108024, added 5883 (eff 51.79%) (0.294 FP/event)\n"
     ]
    },
    {
     "data": {
      "application/vnd.jupyter.widget-view+json": {
       "model_id": "",
       "version_major": 2,
       "version_minor": 0
      },
      "text/plain": [
       "HBox(children=(FloatProgress(value=0.0, description='Training', layout=Layout(flex='2'), max=6667.0, style=Pro…"
      ]
     },
     "metadata": {},
     "output_type": "display_data"
    },
    {
     "name": "stdout",
     "output_type": "stream",
     "text": [
      "Epoch 84: train=9.78758, val=9.48104, took 590.99 s\n",
      "  Validation Found 55800 of 108024, added 5761 (eff 51.66%) (0.288 FP/event)\n"
     ]
    },
    {
     "data": {
      "application/vnd.jupyter.widget-view+json": {
       "model_id": "",
       "version_major": 2,
       "version_minor": 0
      },
      "text/plain": [
       "HBox(children=(FloatProgress(value=0.0, description='Training', layout=Layout(flex='2'), max=6667.0, style=Pro…"
      ]
     },
     "metadata": {},
     "output_type": "display_data"
    },
    {
     "name": "stdout",
     "output_type": "stream",
     "text": [
      "Epoch 85: train=9.78504, val=9.51055, took 591.09 s\n",
      "  Validation Found 56734 of 108024, added 6206 (eff 52.52%) (0.31 FP/event)\n"
     ]
    },
    {
     "data": {
      "application/vnd.jupyter.widget-view+json": {
       "model_id": "",
       "version_major": 2,
       "version_minor": 0
      },
      "text/plain": [
       "HBox(children=(FloatProgress(value=0.0, description='Training', layout=Layout(flex='2'), max=6667.0, style=Pro…"
      ]
     },
     "metadata": {},
     "output_type": "display_data"
    },
    {
     "name": "stdout",
     "output_type": "stream",
     "text": [
      "Epoch 86: train=9.78643, val=9.74068, took 591.32 s\n",
      "  Validation Found 56115 of 108024, added 6033 (eff 51.95%) (0.302 FP/event)\n"
     ]
    },
    {
     "data": {
      "application/vnd.jupyter.widget-view+json": {
       "model_id": "",
       "version_major": 2,
       "version_minor": 0
      },
      "text/plain": [
       "HBox(children=(FloatProgress(value=0.0, description='Training', layout=Layout(flex='2'), max=6667.0, style=Pro…"
      ]
     },
     "metadata": {},
     "output_type": "display_data"
    },
    {
     "name": "stdout",
     "output_type": "stream",
     "text": [
      "Epoch 87: train=9.77907, val=9.71841, took 591.11 s\n",
      "  Validation Found 55941 of 108024, added 6146 (eff 51.79%) (0.307 FP/event)\n"
     ]
    },
    {
     "data": {
      "application/vnd.jupyter.widget-view+json": {
       "model_id": "",
       "version_major": 2,
       "version_minor": 0
      },
      "text/plain": [
       "HBox(children=(FloatProgress(value=0.0, description='Training', layout=Layout(flex='2'), max=6667.0, style=Pro…"
      ]
     },
     "metadata": {},
     "output_type": "display_data"
    },
    {
     "name": "stdout",
     "output_type": "stream",
     "text": [
      "Epoch 88: train=9.77148, val=9.50329, took 590.69 s\n",
      "  Validation Found 56757 of 108024, added 6339 (eff 52.54%) (0.317 FP/event)\n"
     ]
    },
    {
     "data": {
      "application/vnd.jupyter.widget-view+json": {
       "model_id": "",
       "version_major": 2,
       "version_minor": 0
      },
      "text/plain": [
       "HBox(children=(FloatProgress(value=0.0, description='Training', layout=Layout(flex='2'), max=6667.0, style=Pro…"
      ]
     },
     "metadata": {},
     "output_type": "display_data"
    },
    {
     "name": "stdout",
     "output_type": "stream",
     "text": [
      "Epoch 89: train=9.78956, val=9.52742, took 591.37 s\n",
      "  Validation Found 56639 of 108024, added 6200 (eff 52.43%) (0.31 FP/event)\n"
     ]
    },
    {
     "data": {
      "application/vnd.jupyter.widget-view+json": {
       "model_id": "",
       "version_major": 2,
       "version_minor": 0
      },
      "text/plain": [
       "HBox(children=(FloatProgress(value=0.0, description='Training', layout=Layout(flex='2'), max=6667.0, style=Pro…"
      ]
     },
     "metadata": {},
     "output_type": "display_data"
    },
    {
     "name": "stdout",
     "output_type": "stream",
     "text": [
      "Epoch 90: train=9.78055, val=9.5759, took 591.06 s\n",
      "  Validation Found 56104 of 108024, added 5814 (eff 51.94%) (0.291 FP/event)\n"
     ]
    },
    {
     "data": {
      "application/vnd.jupyter.widget-view+json": {
       "model_id": "",
       "version_major": 2,
       "version_minor": 0
      },
      "text/plain": [
       "HBox(children=(FloatProgress(value=0.0, description='Training', layout=Layout(flex='2'), max=6667.0, style=Pro…"
      ]
     },
     "metadata": {},
     "output_type": "display_data"
    },
    {
     "name": "stdout",
     "output_type": "stream",
     "text": [
      "Epoch 91: train=9.76492, val=9.73661, took 590.74 s\n",
      "  Validation Found 56712 of 108024, added 6312 (eff 52.50%) (0.316 FP/event)\n"
     ]
    },
    {
     "data": {
      "application/vnd.jupyter.widget-view+json": {
       "model_id": "",
       "version_major": 2,
       "version_minor": 0
      },
      "text/plain": [
       "HBox(children=(FloatProgress(value=0.0, description='Training', layout=Layout(flex='2'), max=6667.0, style=Pro…"
      ]
     },
     "metadata": {},
     "output_type": "display_data"
    },
    {
     "name": "stdout",
     "output_type": "stream",
     "text": [
      "Epoch 92: train=9.77294, val=9.61733, took 591.2 s\n",
      "  Validation Found 55935 of 108024, added 5830 (eff 51.78%) (0.291 FP/event)\n"
     ]
    },
    {
     "data": {
      "application/vnd.jupyter.widget-view+json": {
       "model_id": "",
       "version_major": 2,
       "version_minor": 0
      },
      "text/plain": [
       "HBox(children=(FloatProgress(value=0.0, description='Training', layout=Layout(flex='2'), max=6667.0, style=Pro…"
      ]
     },
     "metadata": {},
     "output_type": "display_data"
    },
    {
     "name": "stdout",
     "output_type": "stream",
     "text": [
      "Epoch 93: train=9.77162, val=9.69804, took 591.18 s\n",
      "  Validation Found 55836 of 108024, added 5821 (eff 51.69%) (0.291 FP/event)\n"
     ]
    },
    {
     "data": {
      "application/vnd.jupyter.widget-view+json": {
       "model_id": "",
       "version_major": 2,
       "version_minor": 0
      },
      "text/plain": [
       "HBox(children=(FloatProgress(value=0.0, description='Training', layout=Layout(flex='2'), max=6667.0, style=Pro…"
      ]
     },
     "metadata": {},
     "output_type": "display_data"
    },
    {
     "name": "stdout",
     "output_type": "stream",
     "text": [
      "Epoch 94: train=9.77872, val=9.49151, took 590.77 s\n",
      "  Validation Found 55940 of 108024, added 5843 (eff 51.78%) (0.292 FP/event)\n"
     ]
    },
    {
     "data": {
      "application/vnd.jupyter.widget-view+json": {
       "model_id": "",
       "version_major": 2,
       "version_minor": 0
      },
      "text/plain": [
       "HBox(children=(FloatProgress(value=0.0, description='Training', layout=Layout(flex='2'), max=6667.0, style=Pro…"
      ]
     },
     "metadata": {},
     "output_type": "display_data"
    },
    {
     "name": "stdout",
     "output_type": "stream",
     "text": [
      "Epoch 95: train=9.77185, val=9.48521, took 591.22 s\n",
      "  Validation Found 56058 of 108024, added 5854 (eff 51.89%) (0.293 FP/event)\n"
     ]
    },
    {
     "data": {
      "application/vnd.jupyter.widget-view+json": {
       "model_id": "",
       "version_major": 2,
       "version_minor": 0
      },
      "text/plain": [
       "HBox(children=(FloatProgress(value=0.0, description='Training', layout=Layout(flex='2'), max=6667.0, style=Pro…"
      ]
     },
     "metadata": {},
     "output_type": "display_data"
    },
    {
     "name": "stdout",
     "output_type": "stream",
     "text": [
      "Epoch 96: train=9.76385, val=9.55164, took 590.99 s\n",
      "  Validation Found 56899 of 108024, added 6307 (eff 52.67%) (0.315 FP/event)\n"
     ]
    },
    {
     "data": {
      "application/vnd.jupyter.widget-view+json": {
       "model_id": "",
       "version_major": 2,
       "version_minor": 0
      },
      "text/plain": [
       "HBox(children=(FloatProgress(value=0.0, description='Training', layout=Layout(flex='2'), max=6667.0, style=Pro…"
      ]
     },
     "metadata": {},
     "output_type": "display_data"
    },
    {
     "name": "stdout",
     "output_type": "stream",
     "text": [
      "Epoch 97: train=9.7604, val=9.5026, took 591.42 s\n",
      "  Validation Found 55867 of 108024, added 5775 (eff 51.72%) (0.289 FP/event)\n"
     ]
    },
    {
     "data": {
      "application/vnd.jupyter.widget-view+json": {
       "model_id": "",
       "version_major": 2,
       "version_minor": 0
      },
      "text/plain": [
       "HBox(children=(FloatProgress(value=0.0, description='Training', layout=Layout(flex='2'), max=6667.0, style=Pro…"
      ]
     },
     "metadata": {},
     "output_type": "display_data"
    },
    {
     "name": "stdout",
     "output_type": "stream",
     "text": [
      "Epoch 98: train=9.75979, val=9.4558, took 590.83 s\n",
      "  Validation Found 55916 of 108024, added 5797 (eff 51.76%) (0.29 FP/event)\n"
     ]
    },
    {
     "data": {
      "application/vnd.jupyter.widget-view+json": {
       "model_id": "",
       "version_major": 2,
       "version_minor": 0
      },
      "text/plain": [
       "HBox(children=(FloatProgress(value=0.0, description='Training', layout=Layout(flex='2'), max=6667.0, style=Pro…"
      ]
     },
     "metadata": {},
     "output_type": "display_data"
    },
    {
     "name": "stdout",
     "output_type": "stream",
     "text": [
      "Epoch 99: train=9.75359, val=9.51425, took 591.16 s\n",
      "  Validation Found 56122 of 108024, added 5786 (eff 51.95%) (0.289 FP/event)\n",
      "\n"
     ]
    }
   ],
   "source": [
    "for result in trainNet(model, optimizer, loss,\n",
    "                        train_loader, val_loader,\n",
    "                        n_epochs, epoch_start=len(results),\n",
    "                        notebook=True):\n",
    "    \n",
    "    results = results.append(pd.Series(result._asdict()), ignore_index=True)\n",
    "    \n",
    "    xs = results.index\n",
    "##    print(\"xs = \",xs)\n",
    "    \n",
    "    # Update the plot above\n",
    "##    print(\"results.index = \",results.index,\"  results.cost\", results.cost)\n",
    "##    print(\"results.index = \",results.index,\"  results.val\", results.val)\n",
    "    lines['train'].set_data(results.index,results.cost)\n",
    "    lines['val'].set_data(results.index,results.val)\n",
    "    \n",
    "    #filter first cost epoch (can be really large)\n",
    "    max_cost = max(max(results.cost if len(results.cost)<2 else results.cost[1:]), max(results.val))\n",
    "    min_cost = min(min(results.cost), min(results.val))\n",
    "    \n",
    "    # The plot limits need updating too\n",
    "    \n",
    "    \n",
    "    \n",
    "    ax.set_ylim(min_cost*.9, max_cost*1.1)  \n",
    "    ax.set_xlim(-.5, len(results.cost) - .5)\n",
    "    \n",
    "    replace_in_ax(lax, lines['eff'], xs, results['eff_val'].apply(lambda x: x.eff_rate))\n",
    "    replace_in_ax(tax, lines['fp'], xs, results['eff_val'].apply(lambda x: x.fp_rate))\n",
    "    \n",
    "    # Redraw the figure\n",
    "    fig.canvas.draw()\n",
    "\n",
    "    # Save each model state dictionary\n",
    "    torch.save(model.state_dict(), output / f'{name}_{result.epoch}.pyt')"
   ]
  },
  {
   "cell_type": "code",
   "execution_count": 16,
   "metadata": {},
   "outputs": [],
   "source": [
    "torch.save(model.state_dict(), output / f'{name}_final.pyt')"
   ]
  },
  {
   "cell_type": "code",
   "execution_count": 17,
   "metadata": {},
   "outputs": [
    {
     "name": "stderr",
     "output_type": "stream",
     "text": [
      "/apps/miniconda3/envs/june2020-gpu/lib/python3.7/site-packages/pandas/core/generic.py:2505: PerformanceWarning: \n",
      "your performance may suffer as PyTables will pickle object types that it cannot\n",
      "map directly to c-types [inferred_type->mixed-integer,key->block1_values] [items->Index(['epoch', 'eff_val'], dtype='object')]\n",
      "\n",
      "  encoding=encoding,\n"
     ]
    }
   ],
   "source": [
    "results.to_hdf(f'{name}_stats.hdf5', 'results')"
   ]
  },
  {
   "cell_type": "code",
   "execution_count": 18,
   "metadata": {},
   "outputs": [
    {
     "data": {
      "application/javascript": [
       "/* Put everything inside the global mpl namespace */\n",
       "window.mpl = {};\n",
       "\n",
       "\n",
       "mpl.get_websocket_type = function() {\n",
       "    if (typeof(WebSocket) !== 'undefined') {\n",
       "        return WebSocket;\n",
       "    } else if (typeof(MozWebSocket) !== 'undefined') {\n",
       "        return MozWebSocket;\n",
       "    } else {\n",
       "        alert('Your browser does not have WebSocket support. ' +\n",
       "              'Please try Chrome, Safari or Firefox ≥ 6. ' +\n",
       "              'Firefox 4 and 5 are also supported but you ' +\n",
       "              'have to enable WebSockets in about:config.');\n",
       "    };\n",
       "}\n",
       "\n",
       "mpl.figure = function(figure_id, websocket, ondownload, parent_element) {\n",
       "    this.id = figure_id;\n",
       "\n",
       "    this.ws = websocket;\n",
       "\n",
       "    this.supports_binary = (this.ws.binaryType != undefined);\n",
       "\n",
       "    if (!this.supports_binary) {\n",
       "        var warnings = document.getElementById(\"mpl-warnings\");\n",
       "        if (warnings) {\n",
       "            warnings.style.display = 'block';\n",
       "            warnings.textContent = (\n",
       "                \"This browser does not support binary websocket messages. \" +\n",
       "                    \"Performance may be slow.\");\n",
       "        }\n",
       "    }\n",
       "\n",
       "    this.imageObj = new Image();\n",
       "\n",
       "    this.context = undefined;\n",
       "    this.message = undefined;\n",
       "    this.canvas = undefined;\n",
       "    this.rubberband_canvas = undefined;\n",
       "    this.rubberband_context = undefined;\n",
       "    this.format_dropdown = undefined;\n",
       "\n",
       "    this.image_mode = 'full';\n",
       "\n",
       "    this.root = $('<div/>');\n",
       "    this._root_extra_style(this.root)\n",
       "    this.root.attr('style', 'display: inline-block');\n",
       "\n",
       "    $(parent_element).append(this.root);\n",
       "\n",
       "    this._init_header(this);\n",
       "    this._init_canvas(this);\n",
       "    this._init_toolbar(this);\n",
       "\n",
       "    var fig = this;\n",
       "\n",
       "    this.waiting = false;\n",
       "\n",
       "    this.ws.onopen =  function () {\n",
       "            fig.send_message(\"supports_binary\", {value: fig.supports_binary});\n",
       "            fig.send_message(\"send_image_mode\", {});\n",
       "            if (mpl.ratio != 1) {\n",
       "                fig.send_message(\"set_dpi_ratio\", {'dpi_ratio': mpl.ratio});\n",
       "            }\n",
       "            fig.send_message(\"refresh\", {});\n",
       "        }\n",
       "\n",
       "    this.imageObj.onload = function() {\n",
       "            if (fig.image_mode == 'full') {\n",
       "                // Full images could contain transparency (where diff images\n",
       "                // almost always do), so we need to clear the canvas so that\n",
       "                // there is no ghosting.\n",
       "                fig.context.clearRect(0, 0, fig.canvas.width, fig.canvas.height);\n",
       "            }\n",
       "            fig.context.drawImage(fig.imageObj, 0, 0);\n",
       "        };\n",
       "\n",
       "    this.imageObj.onunload = function() {\n",
       "        fig.ws.close();\n",
       "    }\n",
       "\n",
       "    this.ws.onmessage = this._make_on_message_function(this);\n",
       "\n",
       "    this.ondownload = ondownload;\n",
       "}\n",
       "\n",
       "mpl.figure.prototype._init_header = function() {\n",
       "    var titlebar = $(\n",
       "        '<div class=\"ui-dialog-titlebar ui-widget-header ui-corner-all ' +\n",
       "        'ui-helper-clearfix\"/>');\n",
       "    var titletext = $(\n",
       "        '<div class=\"ui-dialog-title\" style=\"width: 100%; ' +\n",
       "        'text-align: center; padding: 3px;\"/>');\n",
       "    titlebar.append(titletext)\n",
       "    this.root.append(titlebar);\n",
       "    this.header = titletext[0];\n",
       "}\n",
       "\n",
       "\n",
       "\n",
       "mpl.figure.prototype._canvas_extra_style = function(canvas_div) {\n",
       "\n",
       "}\n",
       "\n",
       "\n",
       "mpl.figure.prototype._root_extra_style = function(canvas_div) {\n",
       "\n",
       "}\n",
       "\n",
       "mpl.figure.prototype._init_canvas = function() {\n",
       "    var fig = this;\n",
       "\n",
       "    var canvas_div = $('<div/>');\n",
       "\n",
       "    canvas_div.attr('style', 'position: relative; clear: both; outline: 0');\n",
       "\n",
       "    function canvas_keyboard_event(event) {\n",
       "        return fig.key_event(event, event['data']);\n",
       "    }\n",
       "\n",
       "    canvas_div.keydown('key_press', canvas_keyboard_event);\n",
       "    canvas_div.keyup('key_release', canvas_keyboard_event);\n",
       "    this.canvas_div = canvas_div\n",
       "    this._canvas_extra_style(canvas_div)\n",
       "    this.root.append(canvas_div);\n",
       "\n",
       "    var canvas = $('<canvas/>');\n",
       "    canvas.addClass('mpl-canvas');\n",
       "    canvas.attr('style', \"left: 0; top: 0; z-index: 0; outline: 0\")\n",
       "\n",
       "    this.canvas = canvas[0];\n",
       "    this.context = canvas[0].getContext(\"2d\");\n",
       "\n",
       "    var backingStore = this.context.backingStorePixelRatio ||\n",
       "\tthis.context.webkitBackingStorePixelRatio ||\n",
       "\tthis.context.mozBackingStorePixelRatio ||\n",
       "\tthis.context.msBackingStorePixelRatio ||\n",
       "\tthis.context.oBackingStorePixelRatio ||\n",
       "\tthis.context.backingStorePixelRatio || 1;\n",
       "\n",
       "    mpl.ratio = (window.devicePixelRatio || 1) / backingStore;\n",
       "\n",
       "    var rubberband = $('<canvas/>');\n",
       "    rubberband.attr('style', \"position: absolute; left: 0; top: 0; z-index: 1;\")\n",
       "\n",
       "    var pass_mouse_events = true;\n",
       "\n",
       "    canvas_div.resizable({\n",
       "        start: function(event, ui) {\n",
       "            pass_mouse_events = false;\n",
       "        },\n",
       "        resize: function(event, ui) {\n",
       "            fig.request_resize(ui.size.width, ui.size.height);\n",
       "        },\n",
       "        stop: function(event, ui) {\n",
       "            pass_mouse_events = true;\n",
       "            fig.request_resize(ui.size.width, ui.size.height);\n",
       "        },\n",
       "    });\n",
       "\n",
       "    function mouse_event_fn(event) {\n",
       "        if (pass_mouse_events)\n",
       "            return fig.mouse_event(event, event['data']);\n",
       "    }\n",
       "\n",
       "    rubberband.mousedown('button_press', mouse_event_fn);\n",
       "    rubberband.mouseup('button_release', mouse_event_fn);\n",
       "    // Throttle sequential mouse events to 1 every 20ms.\n",
       "    rubberband.mousemove('motion_notify', mouse_event_fn);\n",
       "\n",
       "    rubberband.mouseenter('figure_enter', mouse_event_fn);\n",
       "    rubberband.mouseleave('figure_leave', mouse_event_fn);\n",
       "\n",
       "    canvas_div.on(\"wheel\", function (event) {\n",
       "        event = event.originalEvent;\n",
       "        event['data'] = 'scroll'\n",
       "        if (event.deltaY < 0) {\n",
       "            event.step = 1;\n",
       "        } else {\n",
       "            event.step = -1;\n",
       "        }\n",
       "        mouse_event_fn(event);\n",
       "    });\n",
       "\n",
       "    canvas_div.append(canvas);\n",
       "    canvas_div.append(rubberband);\n",
       "\n",
       "    this.rubberband = rubberband;\n",
       "    this.rubberband_canvas = rubberband[0];\n",
       "    this.rubberband_context = rubberband[0].getContext(\"2d\");\n",
       "    this.rubberband_context.strokeStyle = \"#000000\";\n",
       "\n",
       "    this._resize_canvas = function(width, height) {\n",
       "        // Keep the size of the canvas, canvas container, and rubber band\n",
       "        // canvas in synch.\n",
       "        canvas_div.css('width', width)\n",
       "        canvas_div.css('height', height)\n",
       "\n",
       "        canvas.attr('width', width * mpl.ratio);\n",
       "        canvas.attr('height', height * mpl.ratio);\n",
       "        canvas.attr('style', 'width: ' + width + 'px; height: ' + height + 'px;');\n",
       "\n",
       "        rubberband.attr('width', width);\n",
       "        rubberband.attr('height', height);\n",
       "    }\n",
       "\n",
       "    // Set the figure to an initial 600x600px, this will subsequently be updated\n",
       "    // upon first draw.\n",
       "    this._resize_canvas(600, 600);\n",
       "\n",
       "    // Disable right mouse context menu.\n",
       "    $(this.rubberband_canvas).bind(\"contextmenu\",function(e){\n",
       "        return false;\n",
       "    });\n",
       "\n",
       "    function set_focus () {\n",
       "        canvas.focus();\n",
       "        canvas_div.focus();\n",
       "    }\n",
       "\n",
       "    window.setTimeout(set_focus, 100);\n",
       "}\n",
       "\n",
       "mpl.figure.prototype._init_toolbar = function() {\n",
       "    var fig = this;\n",
       "\n",
       "    var nav_element = $('<div/>');\n",
       "    nav_element.attr('style', 'width: 100%');\n",
       "    this.root.append(nav_element);\n",
       "\n",
       "    // Define a callback function for later on.\n",
       "    function toolbar_event(event) {\n",
       "        return fig.toolbar_button_onclick(event['data']);\n",
       "    }\n",
       "    function toolbar_mouse_event(event) {\n",
       "        return fig.toolbar_button_onmouseover(event['data']);\n",
       "    }\n",
       "\n",
       "    for(var toolbar_ind in mpl.toolbar_items) {\n",
       "        var name = mpl.toolbar_items[toolbar_ind][0];\n",
       "        var tooltip = mpl.toolbar_items[toolbar_ind][1];\n",
       "        var image = mpl.toolbar_items[toolbar_ind][2];\n",
       "        var method_name = mpl.toolbar_items[toolbar_ind][3];\n",
       "\n",
       "        if (!name) {\n",
       "            // put a spacer in here.\n",
       "            continue;\n",
       "        }\n",
       "        var button = $('<button/>');\n",
       "        button.addClass('ui-button ui-widget ui-state-default ui-corner-all ' +\n",
       "                        'ui-button-icon-only');\n",
       "        button.attr('role', 'button');\n",
       "        button.attr('aria-disabled', 'false');\n",
       "        button.click(method_name, toolbar_event);\n",
       "        button.mouseover(tooltip, toolbar_mouse_event);\n",
       "\n",
       "        var icon_img = $('<span/>');\n",
       "        icon_img.addClass('ui-button-icon-primary ui-icon');\n",
       "        icon_img.addClass(image);\n",
       "        icon_img.addClass('ui-corner-all');\n",
       "\n",
       "        var tooltip_span = $('<span/>');\n",
       "        tooltip_span.addClass('ui-button-text');\n",
       "        tooltip_span.html(tooltip);\n",
       "\n",
       "        button.append(icon_img);\n",
       "        button.append(tooltip_span);\n",
       "\n",
       "        nav_element.append(button);\n",
       "    }\n",
       "\n",
       "    var fmt_picker_span = $('<span/>');\n",
       "\n",
       "    var fmt_picker = $('<select/>');\n",
       "    fmt_picker.addClass('mpl-toolbar-option ui-widget ui-widget-content');\n",
       "    fmt_picker_span.append(fmt_picker);\n",
       "    nav_element.append(fmt_picker_span);\n",
       "    this.format_dropdown = fmt_picker[0];\n",
       "\n",
       "    for (var ind in mpl.extensions) {\n",
       "        var fmt = mpl.extensions[ind];\n",
       "        var option = $(\n",
       "            '<option/>', {selected: fmt === mpl.default_extension}).html(fmt);\n",
       "        fmt_picker.append(option);\n",
       "    }\n",
       "\n",
       "    // Add hover states to the ui-buttons\n",
       "    $( \".ui-button\" ).hover(\n",
       "        function() { $(this).addClass(\"ui-state-hover\");},\n",
       "        function() { $(this).removeClass(\"ui-state-hover\");}\n",
       "    );\n",
       "\n",
       "    var status_bar = $('<span class=\"mpl-message\"/>');\n",
       "    nav_element.append(status_bar);\n",
       "    this.message = status_bar[0];\n",
       "}\n",
       "\n",
       "mpl.figure.prototype.request_resize = function(x_pixels, y_pixels) {\n",
       "    // Request matplotlib to resize the figure. Matplotlib will then trigger a resize in the client,\n",
       "    // which will in turn request a refresh of the image.\n",
       "    this.send_message('resize', {'width': x_pixels, 'height': y_pixels});\n",
       "}\n",
       "\n",
       "mpl.figure.prototype.send_message = function(type, properties) {\n",
       "    properties['type'] = type;\n",
       "    properties['figure_id'] = this.id;\n",
       "    this.ws.send(JSON.stringify(properties));\n",
       "}\n",
       "\n",
       "mpl.figure.prototype.send_draw_message = function() {\n",
       "    if (!this.waiting) {\n",
       "        this.waiting = true;\n",
       "        this.ws.send(JSON.stringify({type: \"draw\", figure_id: this.id}));\n",
       "    }\n",
       "}\n",
       "\n",
       "\n",
       "mpl.figure.prototype.handle_save = function(fig, msg) {\n",
       "    var format_dropdown = fig.format_dropdown;\n",
       "    var format = format_dropdown.options[format_dropdown.selectedIndex].value;\n",
       "    fig.ondownload(fig, format);\n",
       "}\n",
       "\n",
       "\n",
       "mpl.figure.prototype.handle_resize = function(fig, msg) {\n",
       "    var size = msg['size'];\n",
       "    if (size[0] != fig.canvas.width || size[1] != fig.canvas.height) {\n",
       "        fig._resize_canvas(size[0], size[1]);\n",
       "        fig.send_message(\"refresh\", {});\n",
       "    };\n",
       "}\n",
       "\n",
       "mpl.figure.prototype.handle_rubberband = function(fig, msg) {\n",
       "    var x0 = msg['x0'] / mpl.ratio;\n",
       "    var y0 = (fig.canvas.height - msg['y0']) / mpl.ratio;\n",
       "    var x1 = msg['x1'] / mpl.ratio;\n",
       "    var y1 = (fig.canvas.height - msg['y1']) / mpl.ratio;\n",
       "    x0 = Math.floor(x0) + 0.5;\n",
       "    y0 = Math.floor(y0) + 0.5;\n",
       "    x1 = Math.floor(x1) + 0.5;\n",
       "    y1 = Math.floor(y1) + 0.5;\n",
       "    var min_x = Math.min(x0, x1);\n",
       "    var min_y = Math.min(y0, y1);\n",
       "    var width = Math.abs(x1 - x0);\n",
       "    var height = Math.abs(y1 - y0);\n",
       "\n",
       "    fig.rubberband_context.clearRect(\n",
       "        0, 0, fig.canvas.width / mpl.ratio, fig.canvas.height / mpl.ratio);\n",
       "\n",
       "    fig.rubberband_context.strokeRect(min_x, min_y, width, height);\n",
       "}\n",
       "\n",
       "mpl.figure.prototype.handle_figure_label = function(fig, msg) {\n",
       "    // Updates the figure title.\n",
       "    fig.header.textContent = msg['label'];\n",
       "}\n",
       "\n",
       "mpl.figure.prototype.handle_cursor = function(fig, msg) {\n",
       "    var cursor = msg['cursor'];\n",
       "    switch(cursor)\n",
       "    {\n",
       "    case 0:\n",
       "        cursor = 'pointer';\n",
       "        break;\n",
       "    case 1:\n",
       "        cursor = 'default';\n",
       "        break;\n",
       "    case 2:\n",
       "        cursor = 'crosshair';\n",
       "        break;\n",
       "    case 3:\n",
       "        cursor = 'move';\n",
       "        break;\n",
       "    }\n",
       "    fig.rubberband_canvas.style.cursor = cursor;\n",
       "}\n",
       "\n",
       "mpl.figure.prototype.handle_message = function(fig, msg) {\n",
       "    fig.message.textContent = msg['message'];\n",
       "}\n",
       "\n",
       "mpl.figure.prototype.handle_draw = function(fig, msg) {\n",
       "    // Request the server to send over a new figure.\n",
       "    fig.send_draw_message();\n",
       "}\n",
       "\n",
       "mpl.figure.prototype.handle_image_mode = function(fig, msg) {\n",
       "    fig.image_mode = msg['mode'];\n",
       "}\n",
       "\n",
       "mpl.figure.prototype.updated_canvas_event = function() {\n",
       "    // Called whenever the canvas gets updated.\n",
       "    this.send_message(\"ack\", {});\n",
       "}\n",
       "\n",
       "// A function to construct a web socket function for onmessage handling.\n",
       "// Called in the figure constructor.\n",
       "mpl.figure.prototype._make_on_message_function = function(fig) {\n",
       "    return function socket_on_message(evt) {\n",
       "        if (evt.data instanceof Blob) {\n",
       "            /* FIXME: We get \"Resource interpreted as Image but\n",
       "             * transferred with MIME type text/plain:\" errors on\n",
       "             * Chrome.  But how to set the MIME type?  It doesn't seem\n",
       "             * to be part of the websocket stream */\n",
       "            evt.data.type = \"image/png\";\n",
       "\n",
       "            /* Free the memory for the previous frames */\n",
       "            if (fig.imageObj.src) {\n",
       "                (window.URL || window.webkitURL).revokeObjectURL(\n",
       "                    fig.imageObj.src);\n",
       "            }\n",
       "\n",
       "            fig.imageObj.src = (window.URL || window.webkitURL).createObjectURL(\n",
       "                evt.data);\n",
       "            fig.updated_canvas_event();\n",
       "            fig.waiting = false;\n",
       "            return;\n",
       "        }\n",
       "        else if (typeof evt.data === 'string' && evt.data.slice(0, 21) == \"data:image/png;base64\") {\n",
       "            fig.imageObj.src = evt.data;\n",
       "            fig.updated_canvas_event();\n",
       "            fig.waiting = false;\n",
       "            return;\n",
       "        }\n",
       "\n",
       "        var msg = JSON.parse(evt.data);\n",
       "        var msg_type = msg['type'];\n",
       "\n",
       "        // Call the  \"handle_{type}\" callback, which takes\n",
       "        // the figure and JSON message as its only arguments.\n",
       "        try {\n",
       "            var callback = fig[\"handle_\" + msg_type];\n",
       "        } catch (e) {\n",
       "            console.log(\"No handler for the '\" + msg_type + \"' message type: \", msg);\n",
       "            return;\n",
       "        }\n",
       "\n",
       "        if (callback) {\n",
       "            try {\n",
       "                // console.log(\"Handling '\" + msg_type + \"' message: \", msg);\n",
       "                callback(fig, msg);\n",
       "            } catch (e) {\n",
       "                console.log(\"Exception inside the 'handler_\" + msg_type + \"' callback:\", e, e.stack, msg);\n",
       "            }\n",
       "        }\n",
       "    };\n",
       "}\n",
       "\n",
       "// from http://stackoverflow.com/questions/1114465/getting-mouse-location-in-canvas\n",
       "mpl.findpos = function(e) {\n",
       "    //this section is from http://www.quirksmode.org/js/events_properties.html\n",
       "    var targ;\n",
       "    if (!e)\n",
       "        e = window.event;\n",
       "    if (e.target)\n",
       "        targ = e.target;\n",
       "    else if (e.srcElement)\n",
       "        targ = e.srcElement;\n",
       "    if (targ.nodeType == 3) // defeat Safari bug\n",
       "        targ = targ.parentNode;\n",
       "\n",
       "    // jQuery normalizes the pageX and pageY\n",
       "    // pageX,Y are the mouse positions relative to the document\n",
       "    // offset() returns the position of the element relative to the document\n",
       "    var x = e.pageX - $(targ).offset().left;\n",
       "    var y = e.pageY - $(targ).offset().top;\n",
       "\n",
       "    return {\"x\": x, \"y\": y};\n",
       "};\n",
       "\n",
       "/*\n",
       " * return a copy of an object with only non-object keys\n",
       " * we need this to avoid circular references\n",
       " * http://stackoverflow.com/a/24161582/3208463\n",
       " */\n",
       "function simpleKeys (original) {\n",
       "  return Object.keys(original).reduce(function (obj, key) {\n",
       "    if (typeof original[key] !== 'object')\n",
       "        obj[key] = original[key]\n",
       "    return obj;\n",
       "  }, {});\n",
       "}\n",
       "\n",
       "mpl.figure.prototype.mouse_event = function(event, name) {\n",
       "    var canvas_pos = mpl.findpos(event)\n",
       "\n",
       "    if (name === 'button_press')\n",
       "    {\n",
       "        this.canvas.focus();\n",
       "        this.canvas_div.focus();\n",
       "    }\n",
       "\n",
       "    var x = canvas_pos.x * mpl.ratio;\n",
       "    var y = canvas_pos.y * mpl.ratio;\n",
       "\n",
       "    this.send_message(name, {x: x, y: y, button: event.button,\n",
       "                             step: event.step,\n",
       "                             guiEvent: simpleKeys(event)});\n",
       "\n",
       "    /* This prevents the web browser from automatically changing to\n",
       "     * the text insertion cursor when the button is pressed.  We want\n",
       "     * to control all of the cursor setting manually through the\n",
       "     * 'cursor' event from matplotlib */\n",
       "    event.preventDefault();\n",
       "    return false;\n",
       "}\n",
       "\n",
       "mpl.figure.prototype._key_event_extra = function(event, name) {\n",
       "    // Handle any extra behaviour associated with a key event\n",
       "}\n",
       "\n",
       "mpl.figure.prototype.key_event = function(event, name) {\n",
       "\n",
       "    // Prevent repeat events\n",
       "    if (name == 'key_press')\n",
       "    {\n",
       "        if (event.which === this._key)\n",
       "            return;\n",
       "        else\n",
       "            this._key = event.which;\n",
       "    }\n",
       "    if (name == 'key_release')\n",
       "        this._key = null;\n",
       "\n",
       "    var value = '';\n",
       "    if (event.ctrlKey && event.which != 17)\n",
       "        value += \"ctrl+\";\n",
       "    if (event.altKey && event.which != 18)\n",
       "        value += \"alt+\";\n",
       "    if (event.shiftKey && event.which != 16)\n",
       "        value += \"shift+\";\n",
       "\n",
       "    value += 'k';\n",
       "    value += event.which.toString();\n",
       "\n",
       "    this._key_event_extra(event, name);\n",
       "\n",
       "    this.send_message(name, {key: value,\n",
       "                             guiEvent: simpleKeys(event)});\n",
       "    return false;\n",
       "}\n",
       "\n",
       "mpl.figure.prototype.toolbar_button_onclick = function(name) {\n",
       "    if (name == 'download') {\n",
       "        this.handle_save(this, null);\n",
       "    } else {\n",
       "        this.send_message(\"toolbar_button\", {name: name});\n",
       "    }\n",
       "};\n",
       "\n",
       "mpl.figure.prototype.toolbar_button_onmouseover = function(tooltip) {\n",
       "    this.message.textContent = tooltip;\n",
       "};\n",
       "mpl.toolbar_items = [[\"Home\", \"Reset original view\", \"fa fa-home icon-home\", \"home\"], [\"Back\", \"Back to previous view\", \"fa fa-arrow-left icon-arrow-left\", \"back\"], [\"Forward\", \"Forward to next view\", \"fa fa-arrow-right icon-arrow-right\", \"forward\"], [\"\", \"\", \"\", \"\"], [\"Pan\", \"Pan axes with left mouse, zoom with right\", \"fa fa-arrows icon-move\", \"pan\"], [\"Zoom\", \"Zoom to rectangle\", \"fa fa-square-o icon-check-empty\", \"zoom\"], [\"\", \"\", \"\", \"\"], [\"Download\", \"Download plot\", \"fa fa-floppy-o icon-save\", \"download\"]];\n",
       "\n",
       "mpl.extensions = [\"eps\", \"jpeg\", \"pdf\", \"png\", \"ps\", \"raw\", \"svg\", \"tif\"];\n",
       "\n",
       "mpl.default_extension = \"png\";var comm_websocket_adapter = function(comm) {\n",
       "    // Create a \"websocket\"-like object which calls the given IPython comm\n",
       "    // object with the appropriate methods. Currently this is a non binary\n",
       "    // socket, so there is still some room for performance tuning.\n",
       "    var ws = {};\n",
       "\n",
       "    ws.close = function() {\n",
       "        comm.close()\n",
       "    };\n",
       "    ws.send = function(m) {\n",
       "        //console.log('sending', m);\n",
       "        comm.send(m);\n",
       "    };\n",
       "    // Register the callback with on_msg.\n",
       "    comm.on_msg(function(msg) {\n",
       "        //console.log('receiving', msg['content']['data'], msg);\n",
       "        // Pass the mpl event to the overridden (by mpl) onmessage function.\n",
       "        ws.onmessage(msg['content']['data'])\n",
       "    });\n",
       "    return ws;\n",
       "}\n",
       "\n",
       "mpl.mpl_figure_comm = function(comm, msg) {\n",
       "    // This is the function which gets called when the mpl process\n",
       "    // starts-up an IPython Comm through the \"matplotlib\" channel.\n",
       "\n",
       "    var id = msg.content.data.id;\n",
       "    // Get hold of the div created by the display call when the Comm\n",
       "    // socket was opened in Python.\n",
       "    var element = $(\"#\" + id);\n",
       "    var ws_proxy = comm_websocket_adapter(comm)\n",
       "\n",
       "    function ondownload(figure, format) {\n",
       "        window.open(figure.imageObj.src);\n",
       "    }\n",
       "\n",
       "    var fig = new mpl.figure(id, ws_proxy,\n",
       "                           ondownload,\n",
       "                           element.get(0));\n",
       "\n",
       "    // Call onopen now - mpl needs it, as it is assuming we've passed it a real\n",
       "    // web socket which is closed, not our websocket->open comm proxy.\n",
       "    ws_proxy.onopen();\n",
       "\n",
       "    fig.parent_element = element.get(0);\n",
       "    fig.cell_info = mpl.find_output_cell(\"<div id='\" + id + \"'></div>\");\n",
       "    if (!fig.cell_info) {\n",
       "        console.error(\"Failed to find cell for figure\", id, fig);\n",
       "        return;\n",
       "    }\n",
       "\n",
       "    var output_index = fig.cell_info[2]\n",
       "    var cell = fig.cell_info[0];\n",
       "\n",
       "};\n",
       "\n",
       "mpl.figure.prototype.handle_close = function(fig, msg) {\n",
       "    var width = fig.canvas.width/mpl.ratio\n",
       "    fig.root.unbind('remove')\n",
       "\n",
       "    // Update the output cell to use the data from the current canvas.\n",
       "    fig.push_to_output();\n",
       "    var dataURL = fig.canvas.toDataURL();\n",
       "    // Re-enable the keyboard manager in IPython - without this line, in FF,\n",
       "    // the notebook keyboard shortcuts fail.\n",
       "    IPython.keyboard_manager.enable()\n",
       "    $(fig.parent_element).html('<img src=\"' + dataURL + '\" width=\"' + width + '\">');\n",
       "    fig.close_ws(fig, msg);\n",
       "}\n",
       "\n",
       "mpl.figure.prototype.close_ws = function(fig, msg){\n",
       "    fig.send_message('closing', msg);\n",
       "    // fig.ws.close()\n",
       "}\n",
       "\n",
       "mpl.figure.prototype.push_to_output = function(remove_interactive) {\n",
       "    // Turn the data on the canvas into data in the output cell.\n",
       "    var width = this.canvas.width/mpl.ratio\n",
       "    var dataURL = this.canvas.toDataURL();\n",
       "    this.cell_info[1]['text/html'] = '<img src=\"' + dataURL + '\" width=\"' + width + '\">';\n",
       "}\n",
       "\n",
       "mpl.figure.prototype.updated_canvas_event = function() {\n",
       "    // Tell IPython that the notebook contents must change.\n",
       "    IPython.notebook.set_dirty(true);\n",
       "    this.send_message(\"ack\", {});\n",
       "    var fig = this;\n",
       "    // Wait a second, then push the new image to the DOM so\n",
       "    // that it is saved nicely (might be nice to debounce this).\n",
       "    setTimeout(function () { fig.push_to_output() }, 1000);\n",
       "}\n",
       "\n",
       "mpl.figure.prototype._init_toolbar = function() {\n",
       "    var fig = this;\n",
       "\n",
       "    var nav_element = $('<div/>');\n",
       "    nav_element.attr('style', 'width: 100%');\n",
       "    this.root.append(nav_element);\n",
       "\n",
       "    // Define a callback function for later on.\n",
       "    function toolbar_event(event) {\n",
       "        return fig.toolbar_button_onclick(event['data']);\n",
       "    }\n",
       "    function toolbar_mouse_event(event) {\n",
       "        return fig.toolbar_button_onmouseover(event['data']);\n",
       "    }\n",
       "\n",
       "    for(var toolbar_ind in mpl.toolbar_items){\n",
       "        var name = mpl.toolbar_items[toolbar_ind][0];\n",
       "        var tooltip = mpl.toolbar_items[toolbar_ind][1];\n",
       "        var image = mpl.toolbar_items[toolbar_ind][2];\n",
       "        var method_name = mpl.toolbar_items[toolbar_ind][3];\n",
       "\n",
       "        if (!name) { continue; };\n",
       "\n",
       "        var button = $('<button class=\"btn btn-default\" href=\"#\" title=\"' + name + '\"><i class=\"fa ' + image + ' fa-lg\"></i></button>');\n",
       "        button.click(method_name, toolbar_event);\n",
       "        button.mouseover(tooltip, toolbar_mouse_event);\n",
       "        nav_element.append(button);\n",
       "    }\n",
       "\n",
       "    // Add the status bar.\n",
       "    var status_bar = $('<span class=\"mpl-message\" style=\"text-align:right; float: right;\"/>');\n",
       "    nav_element.append(status_bar);\n",
       "    this.message = status_bar[0];\n",
       "\n",
       "    // Add the close button to the window.\n",
       "    var buttongrp = $('<div class=\"btn-group inline pull-right\"></div>');\n",
       "    var button = $('<button class=\"btn btn-mini btn-primary\" href=\"#\" title=\"Stop Interaction\"><i class=\"fa fa-power-off icon-remove icon-large\"></i></button>');\n",
       "    button.click(function (evt) { fig.handle_close(fig, {}); } );\n",
       "    button.mouseover('Stop Interaction', toolbar_mouse_event);\n",
       "    buttongrp.append(button);\n",
       "    var titlebar = this.root.find($('.ui-dialog-titlebar'));\n",
       "    titlebar.prepend(buttongrp);\n",
       "}\n",
       "\n",
       "mpl.figure.prototype._root_extra_style = function(el){\n",
       "    var fig = this\n",
       "    el.on(\"remove\", function(){\n",
       "\tfig.close_ws(fig, {});\n",
       "    });\n",
       "}\n",
       "\n",
       "mpl.figure.prototype._canvas_extra_style = function(el){\n",
       "    // this is important to make the div 'focusable\n",
       "    el.attr('tabindex', 0)\n",
       "    // reach out to IPython and tell the keyboard manager to turn it's self\n",
       "    // off when our div gets focus\n",
       "\n",
       "    // location in version 3\n",
       "    if (IPython.notebook.keyboard_manager) {\n",
       "        IPython.notebook.keyboard_manager.register_events(el);\n",
       "    }\n",
       "    else {\n",
       "        // location in version 2\n",
       "        IPython.keyboard_manager.register_events(el);\n",
       "    }\n",
       "\n",
       "}\n",
       "\n",
       "mpl.figure.prototype._key_event_extra = function(event, name) {\n",
       "    var manager = IPython.notebook.keyboard_manager;\n",
       "    if (!manager)\n",
       "        manager = IPython.keyboard_manager;\n",
       "\n",
       "    // Check for shift+enter\n",
       "    if (event.shiftKey && event.which == 13) {\n",
       "        this.canvas_div.blur();\n",
       "        // select the cell after this one\n",
       "        var index = IPython.notebook.find_cell_index(this.cell_info[0]);\n",
       "        IPython.notebook.select(index + 1);\n",
       "    }\n",
       "}\n",
       "\n",
       "mpl.figure.prototype.handle_save = function(fig, msg) {\n",
       "    fig.ondownload(fig, null);\n",
       "}\n",
       "\n",
       "\n",
       "mpl.find_output_cell = function(html_output) {\n",
       "    // Return the cell and output element which can be found *uniquely* in the notebook.\n",
       "    // Note - this is a bit hacky, but it is done because the \"notebook_saving.Notebook\"\n",
       "    // IPython event is triggered only after the cells have been serialised, which for\n",
       "    // our purposes (turning an active figure into a static one), is too late.\n",
       "    var cells = IPython.notebook.get_cells();\n",
       "    var ncells = cells.length;\n",
       "    for (var i=0; i<ncells; i++) {\n",
       "        var cell = cells[i];\n",
       "        if (cell.cell_type === 'code'){\n",
       "            for (var j=0; j<cell.output_area.outputs.length; j++) {\n",
       "                var data = cell.output_area.outputs[j];\n",
       "                if (data.data) {\n",
       "                    // IPython >= 3 moved mimebundle to data attribute of output\n",
       "                    data = data.data;\n",
       "                }\n",
       "                if (data['text/html'] == html_output) {\n",
       "                    return [cell, data, j];\n",
       "                }\n",
       "            }\n",
       "        }\n",
       "    }\n",
       "}\n",
       "\n",
       "// Register the function which deals with the matplotlib target/channel.\n",
       "// The kernel may be null if the page has been refreshed.\n",
       "if (IPython.notebook.kernel != null) {\n",
       "    IPython.notebook.kernel.comm_manager.register_target('matplotlib', mpl.mpl_figure_comm);\n",
       "}\n"
      ],
      "text/plain": [
       "<IPython.core.display.Javascript object>"
      ]
     },
     "metadata": {},
     "output_type": "display_data"
    },
    {
     "data": {
      "text/html": [
       "<img src=\"data:image/png;base64,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\" width=\"1000\">"
      ],
      "text/plain": [
       "<IPython.core.display.HTML object>"
      ]
     },
     "metadata": {},
     "output_type": "display_data"
    }
   ],
   "source": [
    "dual_train_plots(results.index,\n",
    "                 results.cost, results.val, \n",
    "                 results['eff_val'].apply(lambda x: x.eff_rate),\n",
    "                 results['eff_val'].apply(lambda x: x.fp_rate))\n",
    "plt.tight_layout()\n",
    "plt.savefig(str(output / f'{name}_stats_a.png'))"
   ]
  },
  {
   "cell_type": "markdown",
   "metadata": {},
   "source": [
    "Go ahead and save the final model (even though it was also saved above):"
   ]
  },
  {
   "cell_type": "markdown",
   "metadata": {},
   "source": [
    "Save the output results:"
   ]
  },
  {
   "cell_type": "code",
   "execution_count": 20,
   "metadata": {},
   "outputs": [],
   "source": [
    "##torch.cuda.empty_cache()\"\n",
    "##quit()\n",
    "\n"
   ]
  },
  {
   "cell_type": "code",
   "execution_count": null,
   "metadata": {},
   "outputs": [],
   "source": []
  }
 ],
 "metadata": {
  "kernelspec": {
   "display_name": "june2020-gpu",
   "language": "python",
   "name": "june2020-gpu"
  },
  "language_info": {
   "codemirror_mode": {
    "name": "ipython",
    "version": 3
   },
   "file_extension": ".py",
   "mimetype": "text/x-python",
   "name": "python",
   "nbconvert_exporter": "python",
   "pygments_lexer": "ipython3",
   "version": "3.7.6"
  }
 },
 "nbformat": 4,
 "nbformat_minor": 2
}
