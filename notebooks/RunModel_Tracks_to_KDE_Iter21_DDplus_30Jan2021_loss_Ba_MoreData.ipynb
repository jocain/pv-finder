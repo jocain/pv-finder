{
 "cells": [
  {
   "cell_type": "code",
   "execution_count": 1,
   "metadata": {},
   "outputs": [],
   "source": [
    "##%matplotlib widget\n",
    "## with %matplotlib notebook: seems to require ipympl as part of environment, either\n",
    "## part of the conda environment or \"pip install ipympl\"\n",
    "## otherwise, does not show ANY plots in note\"book, plt.savefig() works\n",
    "%matplotlib notebook  \n",
    "##%matplotlib inline    ## --plt.savefig()  works, but re-sizing does NOT\n"
   ]
  },
  {
   "cell_type": "markdown",
   "metadata": {},
   "source": [
    "This notebook is the second attempt to read in track information and use it to predict the KDE used as input to PvFinder. This time, we are reading in poca KDEs rather than the original KDEs. \n",
    "\n",
    "collectdata_kde_C.py uses poca_z, poca_x, poca_y, major_axis_x, major_axis_y, and major_axis_z as the six track parameters (for the moment)\n"
   ]
  },
  {
   "cell_type": "markdown",
   "metadata": {},
   "source": [
    "Check the current GPU usage. Please try to be nice!"
   ]
  },
  {
   "cell_type": "code",
   "execution_count": 2,
   "metadata": {},
   "outputs": [
    {
     "name": "stdout",
     "output_type": "stream",
     "text": [
      "Sat Jan 30 16:26:50 2021       \n",
      "+-----------------------------------------------------------------------------+\n",
      "| NVIDIA-SMI 440.64.00    Driver Version: 440.64.00    CUDA Version: 10.2     |\n",
      "|-------------------------------+----------------------+----------------------+\n",
      "| GPU  Name        Persistence-M| Bus-Id        Disp.A | Volatile Uncorr. ECC |\n",
      "| Fan  Temp  Perf  Pwr:Usage/Cap|         Memory-Usage | GPU-Util  Compute M. |\n",
      "|===============================+======================+======================|\n",
      "|   0  TITAN V             Off  | 00000000:03:00.0 Off |                  N/A |\n",
      "| 28%   33C    P8    23W / 250W |      0MiB / 12066MiB |      0%      Default |\n",
      "+-------------------------------+----------------------+----------------------+\n",
      "|   1  Tesla P100-PCIE...  Off  | 00000000:83:00.0 Off |                    0 |\n",
      "| N/A   33C    P0    33W / 250W |      0MiB / 16280MiB |      0%      Default |\n",
      "+-------------------------------+----------------------+----------------------+\n",
      "|   2  TITAN V             Off  | 00000000:84:00.0 Off |                  N/A |\n",
      "| 23%   38C    P0    34W / 250W |      0MiB / 12066MiB |      8%      Default |\n",
      "+-------------------------------+----------------------+----------------------+\n",
      "                                                                               \n",
      "+-----------------------------------------------------------------------------+\n",
      "| Processes:                                                       GPU Memory |\n",
      "|  GPU       PID   Type   Process name                             Usage      |\n",
      "|=============================================================================|\n",
      "|  No running processes found                                                 |\n",
      "+-----------------------------------------------------------------------------+\n"
     ]
    }
   ],
   "source": [
    "!nvidia-smi"
   ]
  },
  {
   "cell_type": "markdown",
   "metadata": {},
   "source": [
    "> **WARNING**: The card numbers here are *not* the same as in CUDA. You have been warned."
   ]
  },
  {
   "cell_type": "markdown",
   "metadata": {},
   "source": [
    "This notebook is first attempt to read in track information and use it to predict the KDE used as input to PvFinder.\n"
   ]
  },
  {
   "cell_type": "markdown",
   "metadata": {},
   "source": [
    "## Imports"
   ]
  },
  {
   "cell_type": "code",
   "execution_count": 3,
   "metadata": {},
   "outputs": [],
   "source": [
    "import matplotlib.pyplot as plt\n",
    "import numpy as np\n",
    "import time\n",
    "import torch\n",
    "import pandas as pd\n",
    "\n",
    "# Python 3 standard library\n",
    "from pathlib import Path\n",
    "\n",
    "##from torchsummary import summary"
   ]
  },
  {
   "cell_type": "markdown",
   "metadata": {},
   "source": [
    "### Set up local parameters"
   ]
  },
  {
   "cell_type": "code",
   "execution_count": 4,
   "metadata": {},
   "outputs": [],
   "source": [
    "n_epochs = 150\n",
    "\n",
    "folder = '30Jan_DDplus_loss_Ba_iter21_floatAll_150epochs_1p5em5_4xwill'\n",
    "name   = folder\n",
    "\n",
    "# Make an output folder named \"name\" (change if you want)\n",
    "\n",
    "## Special instructions for those working on goofy at UC\n",
    "## Please be very careful to make sure that your folder\n",
    "## does not live in a subdirectory of your home directory\n",
    "## this disk has very little capacity. Instead, use \n",
    "## a subdirectory in /share/lazy with a symbolic link to\n",
    "## it in this (the notebooks) subdirectory\n",
    "folder = 'ML_dir/' + folder\n",
    "output = Path(folder)\n",
    "\n",
    "\n",
    "# Size of batches\n",
    "batch_size = 64 ## batch_size = 24 ---> 4763MiB / 12066MiB on Titan V\n",
    "# How fast to learn\n",
    "learning_rate = 1.5e-5"
   ]
  },
  {
   "cell_type": "markdown",
   "metadata": {},
   "source": [
    "Make the output directory if it does not exist:"
   ]
  },
  {
   "cell_type": "code",
   "execution_count": 5,
   "metadata": {},
   "outputs": [],
   "source": [
    "output.mkdir(exist_ok=True)"
   ]
  },
  {
   "cell_type": "markdown",
   "metadata": {},
   "source": [
    "## Get the helper functions\n",
    "\n",
    "Add the directory with the model\n",
    "definitions to the path so we can import from it:\n",
    "\n",
    "> When you type `import X`,\n",
    "Python searches `sys.path` for a python\n",
    "file named `X.py` to import. So we need to add the model directory to the path."
   ]
  },
  {
   "cell_type": "code",
   "execution_count": 6,
   "metadata": {
    "scrolled": true
   },
   "outputs": [],
   "source": [
    "from model.collectdata_kde_Ellipsoids import collect_t2kde_data\n",
    "\n",
    "##  It takes 9 input features (poca centers + (A,B,C,D,E,F)) . \n",
    "from model.models_kde import TracksToKDE_Ellipsoids_DDplus as Model\n",
    "\n",
    "# kde_loss_Ba is a Chi2 loss (go and look at it!)\n",
    "from model.kde_loss_Ba import Loss\n",
    "\n",
    "from model.training_kde import trainNet, select_gpu, Results\n",
    "from model.plots import dual_train_plots, replace_in_ax"
   ]
  },
  {
   "cell_type": "code",
   "execution_count": 7,
   "metadata": {},
   "outputs": [],
   "source": [
    "# This gets built up during the run - do not rerun this cell\n",
    "results = pd.DataFrame([], columns=Results._fields)"
   ]
  },
  {
   "cell_type": "markdown",
   "metadata": {},
   "source": [
    "Set up Torch device configuration. All tensors and model parameters need to know where to be put.\n",
    "This takes a BUS ID number: The BUS ID is the same as the listing at the top of this script."
   ]
  },
  {
   "cell_type": "code",
   "execution_count": 8,
   "metadata": {},
   "outputs": [
    {
     "name": "stdout",
     "output_type": "stream",
     "text": [
      "1 available GPUs (initially using device 0):\n",
      "  0 TITAN V\n"
     ]
    }
   ],
   "source": [
    "# either 0 or 2 on goofy (i.e. TITAN V) [1 or 2 on sleepy RTX 2080TI]\n",
    "device = select_gpu(2)\n",
    "##device = \"cpu\""
   ]
  },
  {
   "cell_type": "markdown",
   "metadata": {},
   "source": [
    "## Loading data\n",
    "\n",
    "Load the dataset, split into parts, then move to device (see `collectdata.py` in the `../model` directory)"
   ]
  },
  {
   "cell_type": "markdown",
   "metadata": {},
   "source": [
    "# Preparing the model"
   ]
  },
  {
   "cell_type": "markdown",
   "metadata": {},
   "source": [
    "Prepare a model, use multiple GPUs if they are VISIBLE, and move the model to the device."
   ]
  },
  {
   "cell_type": "code",
   "execution_count": 9,
   "metadata": {
    "scrolled": true
   },
   "outputs": [],
   "source": [
    "##print(\"Let's use\", torch.cuda.device_count(), \"GPUs!\")\n",
    "##if torch.cuda.device_count() > 1:\n",
    "##    model = torch.nn.DataParallel(model)"
   ]
  },
  {
   "cell_type": "code",
   "execution_count": 10,
   "metadata": {},
   "outputs": [
    {
     "name": "stdout",
     "output_type": "stream",
     "text": [
      "ct, child =  0    Linear(in_features=9, out_features=50, bias=True)\n",
      "ct, child =  1    Linear(in_features=50, out_features=50, bias=True)\n",
      "ct, child =  2    Linear(in_features=50, out_features=50, bias=True)\n",
      "ct, child =  3    Linear(in_features=50, out_features=50, bias=True)\n",
      "ct, child =  4    Linear(in_features=50, out_features=50, bias=True)\n",
      "ct, child =  5    Linear(in_features=50, out_features=50, bias=True)\n",
      "ct, child =  6    Linear(in_features=50, out_features=50, bias=True)\n",
      "ct, child =  7    Linear(in_features=50, out_features=50, bias=True)\n",
      "ct, child =  8    Linear(in_features=50, out_features=50, bias=True)\n",
      "ct, child =  9    Linear(in_features=50, out_features=50, bias=True)\n",
      "ct, child =  10    Linear(in_features=50, out_features=50, bias=True)\n",
      "ct, child =  11    Linear(in_features=50, out_features=16000, bias=True)\n",
      "ct, child =  12    Conv1d(4, 25, kernel_size=(25,), stride=(1,), padding=(12,))\n",
      "ct, child =  13    Conv1d(25, 1, kernel_size=(5,), stride=(1,), padding=(2,))\n",
      "ct, child =  14    Linear(in_features=4000, out_features=4000, bias=True)\n",
      "ct, child =  15    Conv1d(25, 1, kernel_size=(15,), stride=(1,), padding=(7,))\n",
      "ct, child =  16    Dropout(p=0.15, inplace=False)\n",
      "ct, child =  17    Dropout(p=0.15, inplace=False)\n"
     ]
    }
   ],
   "source": [
    "## a comment on the web at https://pytorch.org/docs/stable/optim.html says\n",
    "\"\"\"\n",
    "If you need to move a model to GPU via .cuda(), please do so before constructing optimizers for it. \n",
    "Parameters of a model after .cuda() will be different objects with those before the call.\n",
    "\n",
    "In general, you should make sure that optimized parameters live in consistent locations when \n",
    "optimizers are constructed and used.\n",
    "\"\"\"\n",
    "## so move this here (although we are using model.to(device) not explicitly using .cuda()\n",
    "\n",
    "nOut1 = 50\n",
    "nOut2 = 50\n",
    "nOut3 = 50\n",
    "nOut4 = 50\n",
    "nOut5 = 50\n",
    "nOut6 = 50\n",
    "nOut7 = 50\n",
    "nOut8 = 50\n",
    "nOut9 = 50\n",
    "nOut10 = 50\n",
    "nOut11 = 50\n",
    "latentChannels = 4\n",
    "model = Model(nOut1,nOut2,nOut3,nOut4,nOut5,nOut6,nOut7,nOut8,nOut9,nOut10,nOut11,latentChannels)\n",
    "\n",
    "##summary(model, input_size=(4, 4000))\n",
    "##print(model.parameters)\n",
    "\n",
    "## add the following code to allow the user to freeze the some of the weights corresponding \n",
    "## to those taken from an earlier model trained with the original target histograms\n",
    "## presumably -- this leaves either the perturbative filter \"fixed\" and lets the \n",
    "## learning focus on the non-perturbative features, so get started faster, or vice versa\n",
    "ct = 0\n",
    "for child in model.children():\n",
    "  print('ct, child = ',ct, \"  \", child)\n",
    "  if ct < 0:\n",
    "    print(\"     About to set param.requires_grad=False for ct = \", ct, \"params\")\n",
    "    for param in child.parameters():\n",
    "        # fixing parameters\n",
    "        param.requires_grad = False \n",
    "  ct += 1\n",
    "##  mds 200121 loss = Loss(epsilon=1e-5,coefficient=1.0)\n",
    "##  loss = Loss(epsilon=1e-5,coefficient=2.5)\n",
    "##loss = Loss(epsilon=3e-5, debug=False)\n",
    "loss = Loss(epsilon=3e-5)"
   ]
  },
  {
   "cell_type": "markdown",
   "metadata": {},
   "source": [
    "Let's move the model's weight matricies to the GPU:"
   ]
  },
  {
   "cell_type": "code",
   "execution_count": 11,
   "metadata": {
    "scrolled": true
   },
   "outputs": [],
   "source": [
    "model = model.to(device)"
   ]
  },
  {
   "cell_type": "code",
   "execution_count": 12,
   "metadata": {
    "scrolled": true
   },
   "outputs": [],
   "source": [
    "optimizer = torch.optim.Adam(model.parameters(), lr=learning_rate)\n",
    "##optimizer = torch.optim.SGD(model.parameters(), lr=learning_rate)"
   ]
  },
  {
   "cell_type": "code",
   "execution_count": 13,
   "metadata": {
    "scrolled": true
   },
   "outputs": [
    {
     "name": "stdout",
     "output_type": "stream",
     "text": [
      "output =  ML_dir/30Jan_DDplus_loss_Ba_iter21_floatAll_150epochs_1p5em5_4xwill\n",
      "for model_dict\n",
      "index, k =   0    layer1.weight\n",
      "index, k =   1    layer1.bias\n",
      "index, k =   2    layer2.weight\n",
      "index, k =   3    layer2.bias\n",
      "index, k =   4    layer3.weight\n",
      "index, k =   5    layer3.bias\n",
      "index, k =   6    layer4.weight\n",
      "index, k =   7    layer4.bias\n",
      "index, k =   8    layer5.weight\n",
      "index, k =   9    layer5.bias\n",
      "index, k =   10    layer6.weight\n",
      "index, k =   11    layer6.bias\n",
      "index, k =   12    layer7.weight\n",
      "index, k =   13    layer7.bias\n",
      "index, k =   14    layer8.weight\n",
      "index, k =   15    layer8.bias\n",
      "index, k =   16    layer9.weight\n",
      "index, k =   17    layer9.bias\n",
      "index, k =   18    layer10.weight\n",
      "index, k =   19    layer10.bias\n",
      "index, k =   20    layer11.weight\n",
      "index, k =   21    layer11.bias\n",
      "index, k =   22    layer12new.weight\n",
      "index, k =   23    layer12new.bias\n",
      "index, k =   24    conv1.weight\n",
      "index, k =   25    conv1.bias\n",
      "index, k =   26    conv2.weight\n",
      "index, k =   27    conv2.bias\n",
      "index, k =   28    fc1.weight\n",
      "index, k =   29    fc1.bias\n",
      "index, k =   30    finalFilter.weight\n",
      "index, k =   31    finalFilter.bias\n",
      "dict_name =  ML_dir/30Jan_DDplus_loss_Ba_iter21_floatAll_150epochs_1p5em5_4xwill/30Jan_DDplus_loss_Ba_iter21_floatAll_150epochs_1p5em5_4xwill_42.pyt\n",
      " \n",
      "  for pretrained_dict\n",
      "index, k =   0    layer1.weight\n",
      "index, k =   1    layer1.bias\n",
      "index, k =   2    layer2.weight\n",
      "index, k =   3    layer2.bias\n",
      "index, k =   4    layer3.weight\n",
      "index, k =   5    layer3.bias\n",
      "index, k =   6    layer4.weight\n",
      "index, k =   7    layer4.bias\n",
      "index, k =   8    layer5.weight\n",
      "index, k =   9    layer5.bias\n",
      "index, k =   10    layer6.weight\n",
      "index, k =   11    layer6.bias\n",
      "index, k =   12    layer7.weight\n",
      "index, k =   13    layer7.bias\n",
      "index, k =   14    layer8.weight\n",
      "index, k =   15    layer8.bias\n",
      "index, k =   16    layer9.weight\n",
      "index, k =   17    layer9.bias\n",
      "index, k =   18    layer10.weight\n",
      "index, k =   19    layer10.bias\n",
      "index, k =   20    layer11.weight\n",
      "index, k =   21    layer11.bias\n",
      "index, k =   22    layer12new.weight\n",
      "index, k =   23    layer12new.bias\n",
      "index, k =   24    conv1.weight\n",
      "index, k =   25    conv1.bias\n",
      "index, k =   26    conv2.weight\n",
      "index, k =   27    conv2.bias\n",
      "index, k =   28    fc1.weight\n",
      "index, k =   29    fc1.bias\n",
      "index, k =   30    finalFilter.weight\n",
      "index, k =   31    finalFilter.bias\n",
      "pretrained_dict iterated\n"
     ]
    },
    {
     "data": {
      "text/plain": [
       "<All keys matched successfully>"
      ]
     },
     "execution_count": 13,
     "metadata": {},
     "output_type": "execute_result"
    }
   ],
   "source": [
    "print('output = ',output)\n",
    "##print('oldOutput = ',oldOutput)\n",
    "##  use the first four layers from a pre-existing model\n",
    "##  see example at https://discuss.pytorch.org/t/how-to-load-part-of-pre-trained-model/1113\n",
    "\n",
    "##   ML -> /share/lazy/sokoloff/ML\n",
    "model_dict = model.state_dict()\n",
    "## mds 190725 for debugging\n",
    "print(\"for model_dict\")\n",
    "index = 0\n",
    "for k,v in model_dict.items():\n",
    "    print(\"index, k =  \",index,\"  \",k)\n",
    "    index = index+1\n",
    "##    print(\"value = \", v)\n",
    " \n",
    "updated_dict = model_dict\n",
    "##print(\"updated_dict = \",updated_dict)\n",
    "## when starting \"ab initio\", reduce biases as the bias gets summed for each track\n",
    "## contributing to the predicted KDE\n",
    "updated_dict[\"layer1.bias\"] = 0.005*model_dict[\"layer1.bias\"]\n",
    "updated_dict[\"layer2.bias\"] = 0.005*model_dict[\"layer2.bias\"]\n",
    "updated_dict[\"layer3.bias\"] = 0.005*model_dict[\"layer3.bias\"]\n",
    "updated_dict[\"layer4.bias\"] = 0.005*model_dict[\"layer4.bias\"]\n",
    "updated_dict[\"layer5.bias\"] = 0.005*model_dict[\"layer5.bias\"]\n",
    "updated_dict[\"layer6.bias\"] = 0.005*model_dict[\"layer6.bias\"]\n",
    "updated_dict[\"layer7.bias\"] = 0.005*model_dict[\"layer7.bias\"]\n",
    "updated_dict[\"layer8.bias\"] = 0.005*model_dict[\"layer8.bias\"]\n",
    "updated_dict[\"layer9.bias\"] = 0.005*model_dict[\"layer9.bias\"]\n",
    "updated_dict[\"layer10.bias\"] = 0.005*model_dict[\"layer10.bias\"]\n",
    "updated_dict[\"layer11.bias\"] = 0.005*model_dict[\"layer11.bias\"]\n",
    "\n",
    "model.load_state_dict(updated_dict,strict=False)\n",
    "\n",
    "model_dict = model.state_dict()\n",
    "##print(\"updated model_dict = \",model_dict)\n",
    "\n",
    "## print(\" \\n\",\"  for pretrained_dict\")\n",
    "## index = 0\n",
    "##for k,v in pretrained_dict.items():\n",
    "##    print(\"index, k =  \",index,\"  \",k)\n",
    "##    index = index+1\n",
    "## mds  \n",
    "\n",
    "##pretrained_dict = torch.load('ML/29July2020_Trks_to_KDE_C_lossB_100epochs_b64_1m3_nOut_50x50/29July2020_Trks_to_KDE_C_lossB_100epochs_b64_1m3_nOut_50x50_final.pyt')\n",
    "##print(\"model_dict instantiated\")\n",
    "# 1. filter out unnecessary keys\n",
    "##pretrained_dict = {k: v for k, v in pretrained_dict.items() if k in model_dict}\n",
    "##print(\"pretrained_dict iterated\")\n",
    "# 2. overwrite entries in the existing state dict\n",
    "##model_dict.update(pretrained_dict) \n",
    "##\n",
    "#   when starting from a model with a fully connected last layer rather than a convolutional layer\n",
    "# 3. load the new state dict\n",
    "#   need to use strict=False as the two models state model attributes do not agree exactly\n",
    "#   see https://pytorch.org/docs/master/_modules/torch/nn/modules/module.html#Module.load_state_dict\n",
    "\n",
    "##model.load_state_dict(pretrained_dict,strict=False)\n",
    "\n",
    "## print('model_dict =    ', model_dict)\n",
    "\n",
    "## finished at training cost = 1.46, validation cost = 1.50\n",
    "##d_folder = '25December__DDplus_loss_Ba_iter7_floatAll_800epochs_4em6'\n",
    "d_folder = '30Jan_DDplus_loss_Ba_iter21_floatAll_150epochs_1p5em5_4xwill'\n",
    "d_name = d_folder\n",
    "##  for 24Jan_DDplus_loss_Ba_iter17_floatAll_150epochs_1p5em5_4xwill use suffix 87\n",
    "##  as this is the last epoch that ran before I killed the job (don't ask)\n",
    "suffix = '42'\n",
    "dict_name = 'ML_dir/' + d_folder + '/' + d_name + '_'+ suffix + '.pyt'\n",
    "print('dict_name = ',dict_name)\n",
    "pretrained_dict = torch.load(dict_name)\n",
    "\n",
    "print(\" \")\n",
    "print(\"  for pretrained_dict\")\n",
    "index = 0\n",
    "for k,v in pretrained_dict.items():\n",
    "    print(\"index, k =  \",index,\"  \",k)\n",
    "    index = index+1\n",
    " \n",
    "\n",
    "##print(\"model_dict instantiated\")\n",
    "# 1. filter out unnecessary keys\n",
    "pretrained_dict = {k: v for k, v in pretrained_dict.items() if k in model_dict}\n",
    "print(\"pretrained_dict iterated\")\n",
    "# 2. overwrite entries in the existing state dict\n",
    "model_dict.update(pretrained_dict) \n",
    "##\n",
    "#   when starting from a model with a fully connected last layer rather than a convolutional layer\n",
    "# 3. load the new state dict\n",
    "#   need to use strict=False as the two models state model attributes do not agree exactly\n",
    "#   see https://pytorch.org/docs/master/_modules/torch/nn/modules/module.html#Module.load_state_dict\n",
    "\n",
    "model.load_state_dict(pretrained_dict,strict=False)\n",
    "\n"
   ]
  },
  {
   "cell_type": "code",
   "execution_count": 14,
   "metadata": {},
   "outputs": [],
   "source": [
    "##print('validation.dataset.tensors = ',validation.dataset.tensors)\n",
    "fig_size = plt.rcParams[\"figure.figsize\"]\n",
    "fig_size[0] = 10\n",
    "fig_size[1] = 4\n",
    "plt.rcParams[\"figure.figsize\"] = fig_size"
   ]
  },
  {
   "cell_type": "code",
   "execution_count": 15,
   "metadata": {},
   "outputs": [
    {
     "name": "stdout",
     "output_type": "stream",
     "text": [
      "Loading data...\n",
      "pocaMx.shape =  (80000,)\n",
      "nEvts =  80000\n",
      "len(pocaMx[0]) =  199\n",
      "len(pocaMx[1]) =  25\n",
      "len(pocaMx[2]) =  369\n",
      "len(pocaMx[3]) =  143\n",
      "len(pocaMx[4]) =  160\n",
      "majorAxis.shape =  (80000, 3)\n",
      "minorAxis_1.shape =  (80000, 3)\n",
      "minorAxis_2.shape =  (80000, 3)\n",
      "have entered six_ellipsoid_parameters\n",
      "  \n",
      " \n",
      "  nEvts =  80000\n",
      " iEvt, nTrks =  0 199\n",
      " iEvt, nTrks =  1 25\n",
      " iEvt, nTrks =  2 369\n",
      " iEvt, nTrks =  3 143\n",
      " iEvt, nTrks =  4 160\n",
      " iEvt, nTrks =  5 260\n",
      " iEvt, nTrks =  6 237\n",
      " iEvt, nTrks =  7 327\n",
      " iEvt, nTrks =  8 178\n",
      " iEvt, nTrks =  9 106\n",
      "A.shape =  (80000,)\n",
      "majorAxis[iTrk][0][0] =  0.00045611936\n",
      "majorAxis[iTrk][1][0] =  -4.8292455e-05\n",
      "majorAxis[iTrk][2][0] =  0.090019904\n",
      "minorAxis_1[iTrk][0][0] =  -1.8602173\n",
      "minorAxis_1[iTrk][1][0] =  -17.569641\n",
      "minorAxis_1[iTrk][2][0] =  4.7891795e-08\n",
      "minorAxis_2[iTrk][0][0] =  -17.569414\n",
      "minorAxis_2[iTrk][1][0] =  1.8601931\n",
      "minorAxis_2[iTrk][2][0] =  0.0900199\n",
      "  \n",
      "majorAxis[iTrk][0][0] =  0.002360258\n",
      "majorAxis[iTrk][1][0] =  -0.007426616\n",
      "majorAxis[iTrk][2][0] =  0.3710108\n",
      "minorAxis_1[iTrk][0][0] =  -16.837948\n",
      "minorAxis_1[iTrk][1][0] =  -5.3512807\n",
      "minorAxis_1[iTrk][2][0] =  8.157131e-09\n",
      "minorAxis_2[iTrk][0][0] =  -5.3501005\n",
      "minorAxis_2[iTrk][1][0] =  16.834236\n",
      "minorAxis_2[iTrk][2][0] =  0.3710108\n",
      "  \n",
      "majorAxis[iTrk][0][0] =  6.220712e-05\n",
      "majorAxis[iTrk][1][0] =  -4.4594188e-05\n",
      "majorAxis[iTrk][2][0] =  0.036773544\n",
      "minorAxis_1[iTrk][0][0] =  10.293747\n",
      "minorAxis_1[iTrk][1][0] =  14.359369\n",
      "minorAxis_1[iTrk][2][0] =  1.571041e-06\n",
      "minorAxis_2[iTrk][0][0] =  14.359338\n",
      "minorAxis_2[iTrk][1][0] =  -10.293725\n",
      "minorAxis_2[iTrk][2][0] =  -0.03677354\n",
      "  \n",
      "majorAxis[iTrk][0][0] =  0.0033452737\n",
      "majorAxis[iTrk][1][0] =  0.00013028442\n",
      "majorAxis[iTrk][2][0] =  0.2431933\n",
      "minorAxis_1[iTrk][0][0] =  0.6875674\n",
      "minorAxis_1[iTrk][1][0] =  -17.65446\n",
      "minorAxis_1[iTrk][2][0] =  -6.6602626e-09\n",
      "minorAxis_2[iTrk][0][0] =  -17.652788\n",
      "minorAxis_2[iTrk][1][0] =  -0.68750226\n",
      "minorAxis_2[iTrk][2][0] =  0.2431933\n",
      "  \n",
      "majorAxis[iTrk][0][0] =  -0.00068196515\n",
      "majorAxis[iTrk][1][0] =  -0.00044562915\n",
      "majorAxis[iTrk][2][0] =  0.119970225\n",
      "minorAxis_1[iTrk][0][0] =  9.664597\n",
      "minorAxis_1[iTrk][1][0] =  -14.790141\n",
      "minorAxis_1[iTrk][2][0] =  1.9819232e-08\n",
      "minorAxis_2[iTrk][0][0] =  -14.789802\n",
      "minorAxis_2[iTrk][1][0] =  -9.664374\n",
      "minorAxis_2[iTrk][2][0] =  -0.11997023\n",
      "  \n",
      "majorAxis[iTrk][0][0] =  -8.245073e-05\n",
      "majorAxis[iTrk][1][0] =  0.00015860004\n",
      "majorAxis[iTrk][2][0] =  0.05619731\n",
      "minorAxis_1[iTrk][0][0] =  -15.676071\n",
      "minorAxis_1[iTrk][1][0] =  -8.149452\n",
      "minorAxis_1[iTrk][2][0] =  4.1105773e-07\n",
      "minorAxis_2[iTrk][0][0] =  -8.14941\n",
      "minorAxis_2[iTrk][1][0] =  15.675991\n",
      "minorAxis_2[iTrk][2][0] =  -0.056197315\n",
      "  \n",
      "majorAxis[iTrk][0][0] =  -0.00015151131\n",
      "majorAxis[iTrk][1][0] =  0.00067339616\n",
      "majorAxis[iTrk][2][0] =  0.11042937\n",
      "minorAxis_1[iTrk][0][0] =  17.236937\n",
      "minorAxis_1[iTrk][1][0] =  3.8782384\n",
      "minorAxis_1[iTrk][2][0] =  2.3217373e-08\n",
      "minorAxis_2[iTrk][0][0] =  3.8781626\n",
      "minorAxis_2[iTrk][1][0] =  -17.236599\n",
      "minorAxis_2[iTrk][2][0] =  0.11042936\n",
      "  \n",
      "majorAxis[iTrk][0][0] =  -7.577422e-05\n",
      "majorAxis[iTrk][1][0] =  -0.00036802414\n",
      "majorAxis[iTrk][2][0] =  0.08147708\n",
      "minorAxis_1[iTrk][0][0] =  -17.304853\n",
      "minorAxis_1[iTrk][1][0] =  3.5629773\n",
      "minorAxis_1[iTrk][2][0] =  5.80501e-09\n",
      "minorAxis_2[iTrk][0][0] =  3.5629392\n",
      "minorAxis_2[iTrk][1][0] =  17.304668\n",
      "minorAxis_2[iTrk][2][0] =  0.081477076\n",
      "  \n",
      "majorAxis[iTrk][0][0] =  0.00013397264\n",
      "majorAxis[iTrk][1][0] =  0.00094400026\n",
      "majorAxis[iTrk][2][0] =  0.12978876\n",
      "minorAxis_1[iTrk][0][0] =  17.492561\n",
      "minorAxis_1[iTrk][1][0] =  -2.4825466\n",
      "minorAxis_1[iTrk][2][0] =  1.1329301e-08\n",
      "minorAxis_2[iTrk][0][0] =  -2.4824798\n",
      "minorAxis_2[iTrk][1][0] =  -17.492088\n",
      "minorAxis_2[iTrk][2][0] =  0.12978874\n",
      "  \n",
      "majorAxis[iTrk][0][0] =  0.00043501743\n",
      "majorAxis[iTrk][1][0] =  -0.0016521378\n",
      "majorAxis[iTrk][2][0] =  0.17373301\n",
      "minorAxis_1[iTrk][0][0] =  -17.0855\n",
      "minorAxis_1[iTrk][1][0] =  -4.4987106\n",
      "minorAxis_1[iTrk][2][0] =  -7.7275175e-08\n",
      "minorAxis_2[iTrk][0][0] =  -4.4984937\n",
      "minorAxis_2[iTrk][1][0] =  17.084677\n",
      "minorAxis_2[iTrk][2][0] =  0.17373303\n",
      "  \n",
      "len(X) =  80000\n",
      "len(Xlist) =  1\n",
      "Loaded /share/lazy/will/data/June30_2020_80k_1.h5 in 152.9 s\n",
      "pocaMx.shape =  (80000,)\n",
      "nEvts =  80000\n",
      "len(pocaMx[0]) =  222\n",
      "len(pocaMx[1]) =  133\n",
      "len(pocaMx[2]) =  259\n",
      "len(pocaMx[3]) =  114\n",
      "len(pocaMx[4]) =  143\n",
      "majorAxis.shape =  (80000, 3)\n",
      "minorAxis_1.shape =  (80000, 3)\n",
      "minorAxis_2.shape =  (80000, 3)\n",
      "have entered six_ellipsoid_parameters\n",
      "  \n",
      " \n",
      "  nEvts =  80000\n",
      " iEvt, nTrks =  0 222\n",
      " iEvt, nTrks =  1 133\n",
      " iEvt, nTrks =  2 259\n",
      " iEvt, nTrks =  3 114\n",
      " iEvt, nTrks =  4 143\n",
      " iEvt, nTrks =  5 136\n",
      " iEvt, nTrks =  6 397\n",
      " iEvt, nTrks =  7 370\n",
      " iEvt, nTrks =  8 97\n",
      " iEvt, nTrks =  9 67\n",
      "A.shape =  (80000,)\n",
      "majorAxis[iTrk][0][0] =  -0.001036478\n",
      "majorAxis[iTrk][1][0] =  0.0009833863\n",
      "majorAxis[iTrk][2][0] =  0.15887721\n",
      "minorAxis_1[iTrk][0][0] =  -12.160475\n",
      "minorAxis_1[iTrk][1][0] =  -12.817002\n",
      "minorAxis_1[iTrk][2][0] =  0.0\n",
      "minorAxis_2[iTrk][0][0] =  -12.816484\n",
      "minorAxis_2[iTrk][1][0] =  12.159985\n",
      "minorAxis_2[iTrk][2][0] =  -0.15887721\n",
      "  \n",
      "majorAxis[iTrk][0][0] =  0.0016579849\n",
      "majorAxis[iTrk][1][0] =  0.0020989499\n",
      "majorAxis[iTrk][2][0] =  0.21738033\n",
      "minorAxis_1[iTrk][0][0] =  -13.864233\n",
      "minorAxis_1[iTrk][1][0] =  10.95152\n",
      "minorAxis_1[iTrk][2][0] =  -3.3017489e-09\n",
      "minorAxis_2[iTrk][0][0] =  10.95069\n",
      "minorAxis_2[iTrk][1][0] =  13.863184\n",
      "minorAxis_2[iTrk][2][0] =  -0.21738033\n",
      "  \n",
      "majorAxis[iTrk][0][0] =  0.00012481198\n",
      "majorAxis[iTrk][1][0] =  -0.00028747538\n",
      "majorAxis[iTrk][2][0] =  0.07441149\n",
      "minorAxis_1[iTrk][0][0] =  -16.206305\n",
      "minorAxis_1[iTrk][1][0] =  -7.036224\n",
      "minorAxis_1[iTrk][2][0] =  5.3456716e-08\n",
      "minorAxis_2[iTrk][0][0] =  -7.0361605\n",
      "minorAxis_2[iTrk][1][0] =  16.20616\n",
      "minorAxis_2[iTrk][2][0] =  0.07441148\n",
      "  \n",
      "majorAxis[iTrk][0][0] =  -0.007920195\n",
      "majorAxis[iTrk][1][0] =  -0.009694931\n",
      "majorAxis[iTrk][2][0] =  0.47021532\n",
      "minorAxis_1[iTrk][0][0] =  -13.682467\n",
      "minorAxis_1[iTrk][1][0] =  11.177781\n",
      "minorAxis_1[iTrk][2][0] =  1.8638048e-10\n",
      "minorAxis_2[iTrk][0][0] =  11.173822\n",
      "minorAxis_2[iTrk][1][0] =  13.677622\n",
      "minorAxis_2[iTrk][2][0] =  0.47021535\n",
      "  \n",
      "majorAxis[iTrk][0][0] =  0.00038854493\n",
      "majorAxis[iTrk][1][0] =  0.0009230774\n",
      "majorAxis[iTrk][2][0] =  0.13301943\n",
      "minorAxis_1[iTrk][0][0] =  -16.284061\n",
      "minorAxis_1[iTrk][1][0] =  6.854344\n",
      "minorAxis_1[iTrk][2][0] =  2.2469074e-07\n",
      "minorAxis_2[iTrk][0][0] =  6.8541493\n",
      "minorAxis_2[iTrk][1][0] =  16.283602\n",
      "minorAxis_2[iTrk][2][0] =  -0.13301945\n",
      "  \n",
      "majorAxis[iTrk][0][0] =  -5.6093595e-05\n",
      "majorAxis[iTrk][1][0] =  0.000114469876\n",
      "majorAxis[iTrk][2][0] =  0.04745733\n",
      "minorAxis_1[iTrk][0][0] =  15.865369\n",
      "minorAxis_1[iTrk][1][0] =  7.774496\n",
      "minorAxis_1[iTrk][2][0] =  1.8465234e-06\n",
      "minorAxis_2[iTrk][0][0] =  7.774468\n",
      "minorAxis_2[iTrk][1][0] =  -15.865313\n",
      "minorAxis_2[iTrk][2][0] =  0.04745733\n",
      "  \n",
      "majorAxis[iTrk][0][0] =  9.375396e-05\n",
      "majorAxis[iTrk][1][0] =  0.0002926058\n",
      "majorAxis[iTrk][2][0] =  0.07367872\n",
      "minorAxis_1[iTrk][0][0] =  -16.825275\n",
      "minorAxis_1[iTrk][1][0] =  5.390994\n",
      "minorAxis_1[iTrk][2][0] =  -2.1861728e-08\n",
      "minorAxis_2[iTrk][0][0] =  5.3909473\n",
      "minorAxis_2[iTrk][1][0] =  16.825129\n",
      "minorAxis_2[iTrk][2][0] =  -0.07367872\n",
      "  \n",
      "majorAxis[iTrk][0][0] =  -1.1543522e-06\n",
      "majorAxis[iTrk][1][0] =  2.8112001e-05\n",
      "majorAxis[iTrk][2][0] =  0.022295665\n",
      "minorAxis_1[iTrk][0][0] =  -17.652967\n",
      "minorAxis_1[iTrk][1][0] =  -0.7248769\n",
      "minorAxis_1[iTrk][2][0] =  1.7815448e-07\n",
      "minorAxis_2[iTrk][0][0] =  -0.7248763\n",
      "minorAxis_2[iTrk][1][0] =  17.652954\n",
      "minorAxis_2[iTrk][2][0] =  -0.022295661\n",
      "  \n",
      "majorAxis[iTrk][0][0] =  -0.2612214\n",
      "majorAxis[iTrk][1][0] =  0.83076316\n",
      "majorAxis[iTrk][2][0] =  3.8745012\n",
      "minorAxis_1[iTrk][0][0] =  -16.85429\n",
      "minorAxis_1[iTrk][1][0] =  -5.299587\n",
      "minorAxis_1[iTrk][2][0] =  2.0865195e-11\n",
      "minorAxis_2[iTrk][0][0] =  -5.1705856\n",
      "minorAxis_2[iTrk][1][0] =  16.444027\n",
      "minorAxis_2[iTrk][2][0] =  -3.874501\n",
      "  \n",
      "majorAxis[iTrk][0][0] =  -0.057592034\n",
      "majorAxis[iTrk][1][0] =  0.06503555\n",
      "majorAxis[iTrk][2][0] =  1.2373537\n",
      "minorAxis_1[iTrk][0][0] =  13.227038\n",
      "minorAxis_1[iTrk][1][0] =  11.713163\n",
      "minorAxis_1[iTrk][2][0] =  1.7679876e-10\n",
      "minorAxis_2[iTrk][0][0] =  11.684402\n",
      "minorAxis_2[iTrk][1][0] =  -13.194561\n",
      "minorAxis_2[iTrk][2][0] =  1.2373537\n",
      "  \n",
      "len(X) =  80000\n",
      "len(Xlist) =  2\n",
      "Loaded /share/lazy/will/data/June30_2020_80k_2.h5 in 153.5 s\n",
      "pocaMx.shape =  (80000,)\n"
     ]
    },
    {
     "name": "stdout",
     "output_type": "stream",
     "text": [
      "nEvts =  80000\n",
      "len(pocaMx[0]) =  196\n",
      "len(pocaMx[1]) =  35\n",
      "len(pocaMx[2]) =  265\n",
      "len(pocaMx[3]) =  128\n",
      "len(pocaMx[4]) =  124\n",
      "majorAxis.shape =  (80000, 3)\n",
      "minorAxis_1.shape =  (80000, 3)\n",
      "minorAxis_2.shape =  (80000, 3)\n",
      "have entered six_ellipsoid_parameters\n",
      "  \n",
      " \n",
      "  nEvts =  80000\n",
      " iEvt, nTrks =  0 196\n",
      " iEvt, nTrks =  1 35\n",
      " iEvt, nTrks =  2 265\n",
      " iEvt, nTrks =  3 128\n",
      " iEvt, nTrks =  4 124\n",
      " iEvt, nTrks =  5 122\n",
      " iEvt, nTrks =  6 300\n",
      " iEvt, nTrks =  7 179\n",
      " iEvt, nTrks =  8 243\n",
      " iEvt, nTrks =  9 112\n",
      "A.shape =  (80000,)\n",
      "majorAxis[iTrk][0][0] =  -2.440992e-05\n",
      "majorAxis[iTrk][1][0] =  -0.00038087237\n",
      "majorAxis[iTrk][2][0] =  0.08211532\n",
      "minorAxis_1[iTrk][0][0] =  -17.631672\n",
      "minorAxis_1[iTrk][1][0] =  1.130005\n",
      "minorAxis_1[iTrk][2][0] =  4.7444193e-08\n",
      "minorAxis_2[iTrk][0][0] =  1.1299927\n",
      "minorAxis_2[iTrk][1][0] =  17.631481\n",
      "minorAxis_2[iTrk][2][0] =  0.08211532\n",
      "  \n",
      "majorAxis[iTrk][0][0] =  -0.02277395\n",
      "majorAxis[iTrk][1][0] =  0.0014473597\n",
      "majorAxis[iTrk][2][0] =  0.6347583\n",
      "minorAxis_1[iTrk][0][0] =  -1.1205891\n",
      "minorAxis_1[iTrk][1][0] =  -17.632273\n",
      "minorAxis_1[iTrk][2][0] =  2.1543272e-09\n",
      "minorAxis_2[iTrk][0][0] =  -17.620888\n",
      "minorAxis_2[iTrk][1][0] =  1.1198657\n",
      "minorAxis_2[iTrk][2][0] =  -0.63475823\n",
      "  \n",
      "majorAxis[iTrk][0][0] =  0.0004024825\n",
      "majorAxis[iTrk][1][0] =  -0.00023784715\n",
      "majorAxis[iTrk][2][0] =  0.090883136\n",
      "minorAxis_1[iTrk][0][0] =  -8.988615\n",
      "minorAxis_1[iTrk][1][0] =  -15.210441\n",
      "minorAxis_1[iTrk][2][0] =  -6.56547e-08\n",
      "minorAxis_2[iTrk][0][0] =  -15.21024\n",
      "minorAxis_2[iTrk][1][0] =  8.988497\n",
      "minorAxis_2[iTrk][2][0] =  0.090883136\n",
      "  \n",
      "majorAxis[iTrk][0][0] =  0.0068744724\n",
      "majorAxis[iTrk][1][0] =  0.0017050834\n",
      "majorAxis[iTrk][2][0] =  0.3537121\n",
      "minorAxis_1[iTrk][0][0] =  4.2532983\n",
      "minorAxis_1[iTrk][1][0] =  -17.148241\n",
      "minorAxis_1[iTrk][2][0] =  1.1939819e-09\n",
      "minorAxis_2[iTrk][0][0] =  -17.144806\n",
      "minorAxis_2[iTrk][1][0] =  -4.252446\n",
      "minorAxis_2[iTrk][2][0] =  0.3537121\n",
      "  \n",
      "majorAxis[iTrk][0][0] =  -0.004920899\n",
      "majorAxis[iTrk][1][0] =  0.0009170567\n",
      "majorAxis[iTrk][2][0] =  0.2973651\n",
      "minorAxis_1[iTrk][0][0] =  -3.236844\n",
      "minorAxis_1[iTrk][1][0] =  -17.36881\n",
      "minorAxis_1[iTrk][2][0] =  -4.7397712e-09\n",
      "minorAxis_2[iTrk][0][0] =  -17.36635\n",
      "minorAxis_2[iTrk][1][0] =  3.2363856\n",
      "minorAxis_2[iTrk][2][0] =  -0.29736507\n",
      "  \n",
      "majorAxis[iTrk][0][0] =  -0.0001240533\n",
      "majorAxis[iTrk][1][0] =  0.00033394952\n",
      "majorAxis[iTrk][2][0] =  0.079335004\n",
      "minorAxis_1[iTrk][0][0] =  -16.562042\n",
      "minorAxis_1[iTrk][1][0] =  -6.1523557\n",
      "minorAxis_1[iTrk][2][0] =  3.1261713e-08\n",
      "minorAxis_2[iTrk][0][0] =  -6.1522937\n",
      "minorAxis_2[iTrk][1][0] =  16.561876\n",
      "minorAxis_2[iTrk][2][0] =  -0.079335004\n",
      "  \n",
      "majorAxis[iTrk][0][0] =  0.00010132754\n",
      "majorAxis[iTrk][1][0] =  6.684385e-05\n",
      "majorAxis[iTrk][2][0] =  0.046310693\n",
      "minorAxis_1[iTrk][0][0] =  -9.728917\n",
      "minorAxis_1[iTrk][1][0] =  14.747911\n",
      "minorAxis_1[iTrk][2][0] =  -2.3591362e-07\n",
      "minorAxis_2[iTrk][0][0] =  14.74786\n",
      "minorAxis_2[iTrk][1][0] =  9.728883\n",
      "minorAxis_2[iTrk][2][0] =  -0.04631069\n",
      "  \n",
      "majorAxis[iTrk][0][0] =  0.0042806785\n",
      "majorAxis[iTrk][1][0] =  0.004939851\n",
      "majorAxis[iTrk][2][0] =  0.3398017\n",
      "minorAxis_1[iTrk][0][0] =  13.3521\n",
      "minorAxis_1[iTrk][1][0] =  -11.5704\n",
      "minorAxis_1[iTrk][2][0] =  1.21654296e-08\n",
      "minorAxis_2[iTrk][0][0] =  -11.56826\n",
      "minorAxis_2[iTrk][1][0] =  -13.349631\n",
      "minorAxis_2[iTrk][2][0] =  0.33980173\n",
      "  \n",
      "majorAxis[iTrk][0][0] =  -0.00013103899\n",
      "majorAxis[iTrk][1][0] =  -0.0006021903\n",
      "majorAxis[iTrk][2][0] =  0.10434653\n",
      "minorAxis_1[iTrk][0][0] =  -17.26384\n",
      "minorAxis_1[iTrk][1][0] =  3.7566798\n",
      "minorAxis_1[iTrk][2][0] =  -9.616703e-08\n",
      "minorAxis_2[iTrk][0][0] =  3.7566135\n",
      "minorAxis_2[iTrk][1][0] =  17.263535\n",
      "minorAxis_2[iTrk][2][0] =  0.10434652\n",
      "  \n",
      "majorAxis[iTrk][0][0] =  0.0016481678\n",
      "majorAxis[iTrk][1][0] =  -0.0019788505\n",
      "majorAxis[iTrk][2][0] =  0.21330062\n",
      "minorAxis_1[iTrk][0][0] =  -13.575765\n",
      "minorAxis_1[iTrk][1][0] =  -11.307139\n",
      "minorAxis_1[iTrk][2][0] =  8.543098e-09\n",
      "minorAxis_2[iTrk][0][0] =  -11.306314\n",
      "minorAxis_2[iTrk][1][0] =  13.574774\n",
      "minorAxis_2[iTrk][2][0] =  0.21330062\n",
      "  \n",
      "len(X) =  80000\n",
      "len(Xlist) =  3\n",
      "Loaded /share/lazy/will/data/June30_2020_80k_3.h5 in 152.6 s\n",
      "pocaMx.shape =  (80000,)\n",
      "nEvts =  80000\n",
      "len(pocaMx[0]) =  204\n",
      "len(pocaMx[1]) =  33\n",
      "len(pocaMx[2]) =  206\n",
      "len(pocaMx[3]) =  150\n",
      "len(pocaMx[4]) =  96\n",
      "majorAxis.shape =  (80000, 3)\n",
      "minorAxis_1.shape =  (80000, 3)\n",
      "minorAxis_2.shape =  (80000, 3)\n",
      "have entered six_ellipsoid_parameters\n",
      "  \n",
      " \n",
      "  nEvts =  80000\n",
      " iEvt, nTrks =  0 204\n",
      " iEvt, nTrks =  1 33\n",
      " iEvt, nTrks =  2 206\n",
      " iEvt, nTrks =  3 150\n",
      " iEvt, nTrks =  4 96\n",
      " iEvt, nTrks =  5 10\n",
      " iEvt, nTrks =  6 174\n",
      " iEvt, nTrks =  7 320\n",
      " iEvt, nTrks =  8 164\n",
      " iEvt, nTrks =  9 119\n",
      "A.shape =  (80000,)\n",
      "majorAxis[iTrk][0][0] =  0.00057876867\n",
      "majorAxis[iTrk][1][0] =  0.00037603904\n",
      "majorAxis[iTrk][2][0] =  0.110427074\n",
      "minorAxis_1[iTrk][0][0] =  9.62588\n",
      "minorAxis_1[iTrk][1][0] =  -14.81537\n",
      "minorAxis_1[iTrk][2][0] =  8.391163e-09\n",
      "minorAxis_2[iTrk][0][0] =  -14.815081\n",
      "minorAxis_2[iTrk][1][0] =  -9.625692\n",
      "minorAxis_2[iTrk][2][0] =  0.11042709\n",
      "  \n",
      "majorAxis[iTrk][0][0] =  -7.687664e-05\n",
      "majorAxis[iTrk][1][0] =  -0.0017985329\n",
      "majorAxis[iTrk][2][0] =  0.17833562\n",
      "minorAxis_1[iTrk][0][0] =  -17.651728\n",
      "minorAxis_1[iTrk][1][0] =  0.7545069\n",
      "minorAxis_1[iTrk][2][0] =  -7.932265e-09\n",
      "minorAxis_2[iTrk][0][0] =  0.75446844\n",
      "minorAxis_2[iTrk][1][0] =  17.650827\n",
      "minorAxis_2[iTrk][2][0] =  0.17833562\n",
      "  \n",
      "majorAxis[iTrk][0][0] =  4.5855802e-05\n",
      "majorAxis[iTrk][1][0] =  -0.00054240844\n",
      "majorAxis[iTrk][2][0] =  0.098067455\n",
      "minorAxis_1[iTrk][0][0] =  17.605043\n",
      "minorAxis_1[iTrk][1][0] =  1.4883496\n",
      "minorAxis_1[iTrk][2][0] =  -2.7847218e-08\n",
      "minorAxis_2[iTrk][0][0] =  1.4883265\n",
      "minorAxis_2[iTrk][1][0] =  -17.604773\n",
      "minorAxis_2[iTrk][2][0] =  -0.098067455\n",
      "  \n",
      "majorAxis[iTrk][0][0] =  -0.0013144773\n",
      "majorAxis[iTrk][1][0] =  0.0008680699\n",
      "majorAxis[iTrk][2][0] =  0.16682307\n",
      "minorAxis_1[iTrk][0][0] =  -9.736217\n",
      "minorAxis_1[iTrk][1][0] =  -14.743094\n",
      "minorAxis_1[iTrk][2][0] =  -1.7552136e-08\n",
      "minorAxis_2[iTrk][0][0] =  -14.742435\n",
      "minorAxis_2[iTrk][1][0] =  9.735782\n",
      "minorAxis_2[iTrk][2][0] =  -0.16682304\n",
      "  \n",
      "majorAxis[iTrk][0][0] =  0.032227762\n",
      "majorAxis[iTrk][1][0] =  0.007741693\n",
      "majorAxis[iTrk][2][0] =  0.76488173\n",
      "minorAxis_1[iTrk][0][0] =  -4.1267405\n",
      "minorAxis_1[iTrk][1][0] =  17.179138\n",
      "minorAxis_1[iTrk][2][0] =  -2.3529467e-10\n",
      "minorAxis_2[iTrk][0][0] =  17.16303\n",
      "minorAxis_2[iTrk][1][0] =  4.122871\n",
      "minorAxis_2[iTrk][2][0] =  -0.7648817\n",
      "  \n",
      "majorAxis[iTrk][0][0] =  1.9753945\n",
      "majorAxis[iTrk][1][0] =  2.5669005\n",
      "majorAxis[iTrk][2][0] =  7.226382\n",
      "minorAxis_1[iTrk][0][0] =  14.0017\n",
      "minorAxis_1[iTrk][1][0] =  -10.7752075\n",
      "minorAxis_1[iTrk][2][0] =  5.3286344e-11\n",
      "minorAxis_2[iTrk][0][0] =  -9.832683\n",
      "minorAxis_2[iTrk][1][0] =  -12.776951\n",
      "minorAxis_2[iTrk][2][0] =  7.226381\n",
      "  \n",
      "majorAxis[iTrk][0][0] =  -0.0026900356\n",
      "majorAxis[iTrk][1][0] =  -0.0015841618\n",
      "majorAxis[iTrk][2][0] =  0.234843\n",
      "minorAxis_1[iTrk][0][0] =  -8.965469\n",
      "minorAxis_1[iTrk][1][0] =  15.224096\n",
      "minorAxis_1[iTrk][2][0] =  2.8236277e-08\n",
      "minorAxis_2[iTrk][0][0] =  15.222751\n",
      "minorAxis_2[iTrk][1][0] =  8.964677\n",
      "minorAxis_2[iTrk][2][0] =  0.234843\n",
      "  \n",
      "majorAxis[iTrk][0][0] =  -0.0001692281\n",
      "majorAxis[iTrk][1][0] =  0.0003505444\n",
      "majorAxis[iTrk][2][0] =  0.08292902\n",
      "minorAxis_1[iTrk][0][0] =  -15.910811\n",
      "minorAxis_1[iTrk][1][0] =  -7.68107\n",
      "minorAxis_1[iTrk][2][0] =  1.587002e-08\n",
      "minorAxis_2[iTrk][0][0] =  -7.680986\n",
      "minorAxis_2[iTrk][1][0] =  15.910635\n",
      "minorAxis_2[iTrk][2][0] =  -0.08292903\n",
      "  \n",
      "majorAxis[iTrk][0][0] =  0.0017714669\n",
      "majorAxis[iTrk][1][0] =  -0.001515166\n",
      "majorAxis[iTrk][2][0] =  0.20293355\n",
      "minorAxis_1[iTrk][0][0] =  11.483943\n",
      "minorAxis_1[iTrk][1][0] =  13.426532\n",
      "minorAxis_1[iTrk][2][0] =  -2.7840934e-09\n",
      "minorAxis_2[iTrk][0][0] =  13.425648\n",
      "minorAxis_2[iTrk][1][0] =  -11.483187\n",
      "minorAxis_2[iTrk][2][0] =  -0.20293356\n",
      "  \n",
      "majorAxis[iTrk][0][0] =  0.0006359923\n",
      "majorAxis[iTrk][1][0] =  -0.0003371759\n",
      "majorAxis[iTrk][2][0] =  0.112773284\n",
      "minorAxis_1[iTrk][0][0] =  8.275655\n",
      "minorAxis_1[iTrk][1][0] =  15.609813\n",
      "minorAxis_1[iTrk][2][0] =  -5.6373224e-08\n",
      "minorAxis_2[iTrk][0][0] =  15.609494\n",
      "minorAxis_2[iTrk][1][0] =  -8.275486\n",
      "minorAxis_2[iTrk][2][0] =  -0.11277328\n",
      "  \n",
      "len(X) =  80000\n",
      "len(Xlist) =  4\n",
      "Loaded /share/lazy/will/data/June30_2020_80k_4.h5 in 156.1 s\n",
      "outer loop X.shape =  (320000, 9, 600)\n",
      "Constructing 320000 event dataset took 3.795 s\n",
      "x_t.shape =  torch.Size([320000, 9, 600])\n",
      "x_t.shape[0] =  320000\n",
      "x_t.shape[1] =  9\n",
      "x_t.shape =  torch.Size([320000, 9, 600])\n"
     ]
    }
   ],
   "source": [
    "## Training dataset. You can put as many files here as desired.\n",
    "\n",
    "##train_loader = collect_t2kde_data('/share/lazy/pv-finder/20k_evts_for_KDE_learning_200716.h5',\n",
    "train_loader = collect_t2kde_data('/share/lazy/will/data/June30_2020_80k_1.h5', \n",
    "                                  '/share/lazy/will/data/June30_2020_80k_2.h5',\n",
    "                                  '/share/lazy/will/data/June30_2020_80k_3.h5',\n",
    "                                  '/share/lazy/will/data/June30_2020_80k_4.h5',\n",
    "                             batch_size=batch_size,\n",
    "## if we are using a larger dataset (240K events, with the datasets above, and 11 GB  of GPU memory),\n",
    "## the dataset will overflow the GPU memory; device=device will allow the data to move back\n",
    "## and forth between the CPU and GPU memory. While this allows use of a larger dataset, it slows\n",
    "## down performance by about 10%.  So comment out when not needed.\n",
    "##                          device=device,\n",
    "##                           slice = slice(None,18000)\n",
    "                           )"
   ]
  },
  {
   "cell_type": "code",
   "execution_count": 16,
   "metadata": {
    "scrolled": false
   },
   "outputs": [
    {
     "name": "stdout",
     "output_type": "stream",
     "text": [
      "Loading data...\n",
      "pocaMx.shape =  (20000,)\n",
      "nEvts =  20000\n",
      "len(pocaMx[0]) =  211\n",
      "len(pocaMx[1]) =  21\n",
      "len(pocaMx[2]) =  20\n",
      "len(pocaMx[3]) =  198\n",
      "len(pocaMx[4]) =  233\n",
      "majorAxis.shape =  (20000, 3)\n",
      "minorAxis_1.shape =  (20000, 3)\n",
      "minorAxis_2.shape =  (20000, 3)\n",
      "have entered six_ellipsoid_parameters\n",
      "  \n",
      " \n",
      "  nEvts =  20000\n",
      " iEvt, nTrks =  0 211\n",
      " iEvt, nTrks =  1 21\n",
      " iEvt, nTrks =  2 20\n",
      " iEvt, nTrks =  3 198\n",
      " iEvt, nTrks =  4 233\n",
      " iEvt, nTrks =  5 85\n",
      " iEvt, nTrks =  6 223\n",
      " iEvt, nTrks =  7 425\n",
      " iEvt, nTrks =  8 252\n",
      " iEvt, nTrks =  9 169\n",
      "A.shape =  (20000,)\n",
      "majorAxis[iTrk][0][0] =  -0.00023452607\n",
      "majorAxis[iTrk][1][0] =  -0.00047206535\n",
      "majorAxis[iTrk][2][0] =  0.096502915\n",
      "minorAxis_1[iTrk][0][0] =  -15.822749\n",
      "minorAxis_1[iTrk][1][0] =  7.8608756\n",
      "minorAxis_1[iTrk][2][0] =  -2.6228399e-08\n",
      "minorAxis_2[iTrk][0][0] =  7.860759\n",
      "minorAxis_2[iTrk][1][0] =  15.822513\n",
      "minorAxis_2[iTrk][2][0] =  0.096502915\n",
      "  \n",
      "majorAxis[iTrk][0][0] =  -0.37655562\n",
      "majorAxis[iTrk][1][0] =  0.2768704\n",
      "majorAxis[iTrk][2][0] =  2.8546858\n",
      "minorAxis_1[iTrk][0][0] =  -10.466048\n",
      "minorAxis_1[iTrk][1][0] =  -14.234274\n",
      "minorAxis_1[iTrk][2][0] =  2.2974699e-11\n",
      "minorAxis_2[iTrk][0][0] =  -14.04724\n",
      "minorAxis_2[iTrk][1][0] =  10.328527\n",
      "minorAxis_2[iTrk][2][0] =  -2.8546853\n",
      "  \n",
      "majorAxis[iTrk][0][0] =  -0.024279848\n",
      "majorAxis[iTrk][1][0] =  0.0019689242\n",
      "majorAxis[iTrk][2][0] =  0.65580803\n",
      "minorAxis_1[iTrk][0][0] =  -1.4280497\n",
      "minorAxis_1[iTrk][1][0] =  -17.610037\n",
      "minorAxis_1[iTrk][2][0] =  -6.123401e-10\n",
      "minorAxis_2[iTrk][0][0] =  -17.597902\n",
      "minorAxis_2[iTrk][1][0] =  1.4270656\n",
      "minorAxis_2[iTrk][2][0] =  -0.6558081\n",
      "  \n",
      "majorAxis[iTrk][0][0] =  -0.007825993\n",
      "majorAxis[iTrk][1][0] =  0.004052097\n",
      "majorAxis[iTrk][2][0] =  0.3945435\n",
      "minorAxis_1[iTrk][0][0] =  8.123606\n",
      "minorAxis_1[iTrk][1][0] =  15.689478\n",
      "minorAxis_1[iTrk][2][0] =  -2.4940747e-10\n",
      "minorAxis_2[iTrk][0][0] =  15.685566\n",
      "minorAxis_2[iTrk][1][0] =  -8.12158\n",
      "minorAxis_2[iTrk][2][0] =  0.3945435\n",
      "  \n",
      "majorAxis[iTrk][0][0] =  0.0046102717\n",
      "majorAxis[iTrk][1][0] =  -0.0016007021\n",
      "majorAxis[iTrk][2][0] =  0.29361814\n",
      "minorAxis_1[iTrk][0][0] =  -5.794979\n",
      "minorAxis_1[iTrk][1][0] =  -16.690445\n",
      "minorAxis_1[iTrk][2][0] =  2.4897104e-09\n",
      "minorAxis_2[iTrk][0][0] =  -16.688139\n",
      "minorAxis_2[iTrk][1][0] =  5.794179\n",
      "minorAxis_2[iTrk][2][0] =  0.2936181\n",
      "  \n",
      "majorAxis[iTrk][0][0] =  -0.00020041714\n",
      "majorAxis[iTrk][1][0] =  0.00010468164\n",
      "majorAxis[iTrk][2][0] =  0.06320469\n",
      "minorAxis_1[iTrk][0][0] =  8.179679\n",
      "minorAxis_1[iTrk][1][0] =  15.660318\n",
      "minorAxis_1[iTrk][2][0] =  7.40176e-08\n",
      "minorAxis_2[iTrk][0][0] =  15.660218\n",
      "minorAxis_2[iTrk][1][0] =  -8.179626\n",
      "minorAxis_2[iTrk][2][0] =  0.06320469\n",
      "  \n",
      "majorAxis[iTrk][0][0] =  -0.00020603223\n",
      "majorAxis[iTrk][1][0] =  -0.0005662605\n",
      "majorAxis[iTrk][2][0] =  0.10317981\n",
      "minorAxis_1[iTrk][0][0] =  -16.603\n",
      "minorAxis_1[iTrk][1][0] =  6.040953\n",
      "minorAxis_1[iTrk][2][0] =  4.5812504e-07\n",
      "minorAxis_2[iTrk][0][0] =  6.0408506\n",
      "minorAxis_2[iTrk][1][0] =  16.602718\n",
      "minorAxis_2[iTrk][2][0] =  0.10317982\n",
      "  \n",
      "majorAxis[iTrk][0][0] =  -0.00040561036\n",
      "majorAxis[iTrk][1][0] =  0.00014461782\n",
      "majorAxis[iTrk][2][0] =  0.0872241\n",
      "minorAxis_1[iTrk][0][0] =  -5.933496\n",
      "minorAxis_1[iTrk][1][0] =  -16.641706\n",
      "minorAxis_1[iTrk][2][0] =  1.0720762e-08\n",
      "minorAxis_2[iTrk][0][0] =  -16.641502\n",
      "minorAxis_2[iTrk][1][0] =  5.9334235\n",
      "minorAxis_2[iTrk][2][0] =  -0.0872241\n",
      "  \n",
      "majorAxis[iTrk][0][0] =  0.00038461428\n",
      "majorAxis[iTrk][1][0] =  -3.4232737e-05\n",
      "majorAxis[iTrk][2][0] =  0.08259597\n",
      "minorAxis_1[iTrk][0][0] =  -1.5663412\n",
      "minorAxis_1[iTrk][1][0] =  -17.598276\n",
      "minorAxis_1[iTrk][2][0] =  3.2106848e-07\n",
      "minorAxis_2[iTrk][0][0] =  -17.598082\n",
      "minorAxis_2[iTrk][1][0] =  1.5663238\n",
      "minorAxis_2[iTrk][2][0] =  0.08259596\n",
      "  \n",
      "majorAxis[iTrk][0][0] =  -0.022277953\n",
      "majorAxis[iTrk][1][0] =  -0.0046837274\n",
      "majorAxis[iTrk][2][0] =  0.63399464\n",
      "minorAxis_1[iTrk][0][0] =  -3.6350286\n",
      "minorAxis_1[iTrk][1][0] =  17.289862\n",
      "minorAxis_1[iTrk][2][0] =  9.566169e-10\n",
      "minorAxis_2[iTrk][0][0] =  17.278727\n",
      "minorAxis_2[iTrk][1][0] =  3.6326876\n",
      "minorAxis_2[iTrk][2][0] =  0.6339946\n",
      "  \n",
      "len(X) =  20000\n",
      "len(Xlist) =  1\n",
      "Loaded dataAA/20K_POCA_kernel_evts_200926.h5 in 36.78 s\n",
      "outer loop X.shape =  (20000, 9, 600)\n",
      "Constructing 10000 event dataset took 0.08315 s\n",
      "x_t.shape =  torch.Size([10000, 9, 600])\n",
      "x_t.shape[0] =  10000\n",
      "x_t.shape[1] =  9\n",
      "x_t.shape =  torch.Size([10000, 9, 600])\n"
     ]
    }
   ],
   "source": [
    "                            \n",
    "# Validation dataset. You can slice to reduce the size.\n",
    "## mds no separate validation set yet,\n",
    "\n",
    "## For iter12, change slice(18000,None) to slice(10000,None)\n",
    "## First, we'll see if this changes the validation cost significantly\n",
    "##  Second, we will see if this reduces the validation cost fluctuations\n",
    "val_loader = collect_t2kde_data('dataAA/20K_POCA_kernel_evts_200926.h5',\n",
    "                            batch_size=batch_size,\n",
    "##                            device=device,\n",
    "                            slice = slice(10000,None)\n",
    "                           )"
   ]
  },
  {
   "cell_type": "code",
   "execution_count": 17,
   "metadata": {
    "scrolled": false
   },
   "outputs": [
    {
     "data": {
      "application/javascript": [
       "/* Put everything inside the global mpl namespace */\n",
       "window.mpl = {};\n",
       "\n",
       "\n",
       "mpl.get_websocket_type = function() {\n",
       "    if (typeof(WebSocket) !== 'undefined') {\n",
       "        return WebSocket;\n",
       "    } else if (typeof(MozWebSocket) !== 'undefined') {\n",
       "        return MozWebSocket;\n",
       "    } else {\n",
       "        alert('Your browser does not have WebSocket support. ' +\n",
       "              'Please try Chrome, Safari or Firefox ≥ 6. ' +\n",
       "              'Firefox 4 and 5 are also supported but you ' +\n",
       "              'have to enable WebSockets in about:config.');\n",
       "    };\n",
       "}\n",
       "\n",
       "mpl.figure = function(figure_id, websocket, ondownload, parent_element) {\n",
       "    this.id = figure_id;\n",
       "\n",
       "    this.ws = websocket;\n",
       "\n",
       "    this.supports_binary = (this.ws.binaryType != undefined);\n",
       "\n",
       "    if (!this.supports_binary) {\n",
       "        var warnings = document.getElementById(\"mpl-warnings\");\n",
       "        if (warnings) {\n",
       "            warnings.style.display = 'block';\n",
       "            warnings.textContent = (\n",
       "                \"This browser does not support binary websocket messages. \" +\n",
       "                    \"Performance may be slow.\");\n",
       "        }\n",
       "    }\n",
       "\n",
       "    this.imageObj = new Image();\n",
       "\n",
       "    this.context = undefined;\n",
       "    this.message = undefined;\n",
       "    this.canvas = undefined;\n",
       "    this.rubberband_canvas = undefined;\n",
       "    this.rubberband_context = undefined;\n",
       "    this.format_dropdown = undefined;\n",
       "\n",
       "    this.image_mode = 'full';\n",
       "\n",
       "    this.root = $('<div/>');\n",
       "    this._root_extra_style(this.root)\n",
       "    this.root.attr('style', 'display: inline-block');\n",
       "\n",
       "    $(parent_element).append(this.root);\n",
       "\n",
       "    this._init_header(this);\n",
       "    this._init_canvas(this);\n",
       "    this._init_toolbar(this);\n",
       "\n",
       "    var fig = this;\n",
       "\n",
       "    this.waiting = false;\n",
       "\n",
       "    this.ws.onopen =  function () {\n",
       "            fig.send_message(\"supports_binary\", {value: fig.supports_binary});\n",
       "            fig.send_message(\"send_image_mode\", {});\n",
       "            if (mpl.ratio != 1) {\n",
       "                fig.send_message(\"set_dpi_ratio\", {'dpi_ratio': mpl.ratio});\n",
       "            }\n",
       "            fig.send_message(\"refresh\", {});\n",
       "        }\n",
       "\n",
       "    this.imageObj.onload = function() {\n",
       "            if (fig.image_mode == 'full') {\n",
       "                // Full images could contain transparency (where diff images\n",
       "                // almost always do), so we need to clear the canvas so that\n",
       "                // there is no ghosting.\n",
       "                fig.context.clearRect(0, 0, fig.canvas.width, fig.canvas.height);\n",
       "            }\n",
       "            fig.context.drawImage(fig.imageObj, 0, 0);\n",
       "        };\n",
       "\n",
       "    this.imageObj.onunload = function() {\n",
       "        fig.ws.close();\n",
       "    }\n",
       "\n",
       "    this.ws.onmessage = this._make_on_message_function(this);\n",
       "\n",
       "    this.ondownload = ondownload;\n",
       "}\n",
       "\n",
       "mpl.figure.prototype._init_header = function() {\n",
       "    var titlebar = $(\n",
       "        '<div class=\"ui-dialog-titlebar ui-widget-header ui-corner-all ' +\n",
       "        'ui-helper-clearfix\"/>');\n",
       "    var titletext = $(\n",
       "        '<div class=\"ui-dialog-title\" style=\"width: 100%; ' +\n",
       "        'text-align: center; padding: 3px;\"/>');\n",
       "    titlebar.append(titletext)\n",
       "    this.root.append(titlebar);\n",
       "    this.header = titletext[0];\n",
       "}\n",
       "\n",
       "\n",
       "\n",
       "mpl.figure.prototype._canvas_extra_style = function(canvas_div) {\n",
       "\n",
       "}\n",
       "\n",
       "\n",
       "mpl.figure.prototype._root_extra_style = function(canvas_div) {\n",
       "\n",
       "}\n",
       "\n",
       "mpl.figure.prototype._init_canvas = function() {\n",
       "    var fig = this;\n",
       "\n",
       "    var canvas_div = $('<div/>');\n",
       "\n",
       "    canvas_div.attr('style', 'position: relative; clear: both; outline: 0');\n",
       "\n",
       "    function canvas_keyboard_event(event) {\n",
       "        return fig.key_event(event, event['data']);\n",
       "    }\n",
       "\n",
       "    canvas_div.keydown('key_press', canvas_keyboard_event);\n",
       "    canvas_div.keyup('key_release', canvas_keyboard_event);\n",
       "    this.canvas_div = canvas_div\n",
       "    this._canvas_extra_style(canvas_div)\n",
       "    this.root.append(canvas_div);\n",
       "\n",
       "    var canvas = $('<canvas/>');\n",
       "    canvas.addClass('mpl-canvas');\n",
       "    canvas.attr('style', \"left: 0; top: 0; z-index: 0; outline: 0\")\n",
       "\n",
       "    this.canvas = canvas[0];\n",
       "    this.context = canvas[0].getContext(\"2d\");\n",
       "\n",
       "    var backingStore = this.context.backingStorePixelRatio ||\n",
       "\tthis.context.webkitBackingStorePixelRatio ||\n",
       "\tthis.context.mozBackingStorePixelRatio ||\n",
       "\tthis.context.msBackingStorePixelRatio ||\n",
       "\tthis.context.oBackingStorePixelRatio ||\n",
       "\tthis.context.backingStorePixelRatio || 1;\n",
       "\n",
       "    mpl.ratio = (window.devicePixelRatio || 1) / backingStore;\n",
       "\n",
       "    var rubberband = $('<canvas/>');\n",
       "    rubberband.attr('style', \"position: absolute; left: 0; top: 0; z-index: 1;\")\n",
       "\n",
       "    var pass_mouse_events = true;\n",
       "\n",
       "    canvas_div.resizable({\n",
       "        start: function(event, ui) {\n",
       "            pass_mouse_events = false;\n",
       "        },\n",
       "        resize: function(event, ui) {\n",
       "            fig.request_resize(ui.size.width, ui.size.height);\n",
       "        },\n",
       "        stop: function(event, ui) {\n",
       "            pass_mouse_events = true;\n",
       "            fig.request_resize(ui.size.width, ui.size.height);\n",
       "        },\n",
       "    });\n",
       "\n",
       "    function mouse_event_fn(event) {\n",
       "        if (pass_mouse_events)\n",
       "            return fig.mouse_event(event, event['data']);\n",
       "    }\n",
       "\n",
       "    rubberband.mousedown('button_press', mouse_event_fn);\n",
       "    rubberband.mouseup('button_release', mouse_event_fn);\n",
       "    // Throttle sequential mouse events to 1 every 20ms.\n",
       "    rubberband.mousemove('motion_notify', mouse_event_fn);\n",
       "\n",
       "    rubberband.mouseenter('figure_enter', mouse_event_fn);\n",
       "    rubberband.mouseleave('figure_leave', mouse_event_fn);\n",
       "\n",
       "    canvas_div.on(\"wheel\", function (event) {\n",
       "        event = event.originalEvent;\n",
       "        event['data'] = 'scroll'\n",
       "        if (event.deltaY < 0) {\n",
       "            event.step = 1;\n",
       "        } else {\n",
       "            event.step = -1;\n",
       "        }\n",
       "        mouse_event_fn(event);\n",
       "    });\n",
       "\n",
       "    canvas_div.append(canvas);\n",
       "    canvas_div.append(rubberband);\n",
       "\n",
       "    this.rubberband = rubberband;\n",
       "    this.rubberband_canvas = rubberband[0];\n",
       "    this.rubberband_context = rubberband[0].getContext(\"2d\");\n",
       "    this.rubberband_context.strokeStyle = \"#000000\";\n",
       "\n",
       "    this._resize_canvas = function(width, height) {\n",
       "        // Keep the size of the canvas, canvas container, and rubber band\n",
       "        // canvas in synch.\n",
       "        canvas_div.css('width', width)\n",
       "        canvas_div.css('height', height)\n",
       "\n",
       "        canvas.attr('width', width * mpl.ratio);\n",
       "        canvas.attr('height', height * mpl.ratio);\n",
       "        canvas.attr('style', 'width: ' + width + 'px; height: ' + height + 'px;');\n",
       "\n",
       "        rubberband.attr('width', width);\n",
       "        rubberband.attr('height', height);\n",
       "    }\n",
       "\n",
       "    // Set the figure to an initial 600x600px, this will subsequently be updated\n",
       "    // upon first draw.\n",
       "    this._resize_canvas(600, 600);\n",
       "\n",
       "    // Disable right mouse context menu.\n",
       "    $(this.rubberband_canvas).bind(\"contextmenu\",function(e){\n",
       "        return false;\n",
       "    });\n",
       "\n",
       "    function set_focus () {\n",
       "        canvas.focus();\n",
       "        canvas_div.focus();\n",
       "    }\n",
       "\n",
       "    window.setTimeout(set_focus, 100);\n",
       "}\n",
       "\n",
       "mpl.figure.prototype._init_toolbar = function() {\n",
       "    var fig = this;\n",
       "\n",
       "    var nav_element = $('<div/>');\n",
       "    nav_element.attr('style', 'width: 100%');\n",
       "    this.root.append(nav_element);\n",
       "\n",
       "    // Define a callback function for later on.\n",
       "    function toolbar_event(event) {\n",
       "        return fig.toolbar_button_onclick(event['data']);\n",
       "    }\n",
       "    function toolbar_mouse_event(event) {\n",
       "        return fig.toolbar_button_onmouseover(event['data']);\n",
       "    }\n",
       "\n",
       "    for(var toolbar_ind in mpl.toolbar_items) {\n",
       "        var name = mpl.toolbar_items[toolbar_ind][0];\n",
       "        var tooltip = mpl.toolbar_items[toolbar_ind][1];\n",
       "        var image = mpl.toolbar_items[toolbar_ind][2];\n",
       "        var method_name = mpl.toolbar_items[toolbar_ind][3];\n",
       "\n",
       "        if (!name) {\n",
       "            // put a spacer in here.\n",
       "            continue;\n",
       "        }\n",
       "        var button = $('<button/>');\n",
       "        button.addClass('ui-button ui-widget ui-state-default ui-corner-all ' +\n",
       "                        'ui-button-icon-only');\n",
       "        button.attr('role', 'button');\n",
       "        button.attr('aria-disabled', 'false');\n",
       "        button.click(method_name, toolbar_event);\n",
       "        button.mouseover(tooltip, toolbar_mouse_event);\n",
       "\n",
       "        var icon_img = $('<span/>');\n",
       "        icon_img.addClass('ui-button-icon-primary ui-icon');\n",
       "        icon_img.addClass(image);\n",
       "        icon_img.addClass('ui-corner-all');\n",
       "\n",
       "        var tooltip_span = $('<span/>');\n",
       "        tooltip_span.addClass('ui-button-text');\n",
       "        tooltip_span.html(tooltip);\n",
       "\n",
       "        button.append(icon_img);\n",
       "        button.append(tooltip_span);\n",
       "\n",
       "        nav_element.append(button);\n",
       "    }\n",
       "\n",
       "    var fmt_picker_span = $('<span/>');\n",
       "\n",
       "    var fmt_picker = $('<select/>');\n",
       "    fmt_picker.addClass('mpl-toolbar-option ui-widget ui-widget-content');\n",
       "    fmt_picker_span.append(fmt_picker);\n",
       "    nav_element.append(fmt_picker_span);\n",
       "    this.format_dropdown = fmt_picker[0];\n",
       "\n",
       "    for (var ind in mpl.extensions) {\n",
       "        var fmt = mpl.extensions[ind];\n",
       "        var option = $(\n",
       "            '<option/>', {selected: fmt === mpl.default_extension}).html(fmt);\n",
       "        fmt_picker.append(option);\n",
       "    }\n",
       "\n",
       "    // Add hover states to the ui-buttons\n",
       "    $( \".ui-button\" ).hover(\n",
       "        function() { $(this).addClass(\"ui-state-hover\");},\n",
       "        function() { $(this).removeClass(\"ui-state-hover\");}\n",
       "    );\n",
       "\n",
       "    var status_bar = $('<span class=\"mpl-message\"/>');\n",
       "    nav_element.append(status_bar);\n",
       "    this.message = status_bar[0];\n",
       "}\n",
       "\n",
       "mpl.figure.prototype.request_resize = function(x_pixels, y_pixels) {\n",
       "    // Request matplotlib to resize the figure. Matplotlib will then trigger a resize in the client,\n",
       "    // which will in turn request a refresh of the image.\n",
       "    this.send_message('resize', {'width': x_pixels, 'height': y_pixels});\n",
       "}\n",
       "\n",
       "mpl.figure.prototype.send_message = function(type, properties) {\n",
       "    properties['type'] = type;\n",
       "    properties['figure_id'] = this.id;\n",
       "    this.ws.send(JSON.stringify(properties));\n",
       "}\n",
       "\n",
       "mpl.figure.prototype.send_draw_message = function() {\n",
       "    if (!this.waiting) {\n",
       "        this.waiting = true;\n",
       "        this.ws.send(JSON.stringify({type: \"draw\", figure_id: this.id}));\n",
       "    }\n",
       "}\n",
       "\n",
       "\n",
       "mpl.figure.prototype.handle_save = function(fig, msg) {\n",
       "    var format_dropdown = fig.format_dropdown;\n",
       "    var format = format_dropdown.options[format_dropdown.selectedIndex].value;\n",
       "    fig.ondownload(fig, format);\n",
       "}\n",
       "\n",
       "\n",
       "mpl.figure.prototype.handle_resize = function(fig, msg) {\n",
       "    var size = msg['size'];\n",
       "    if (size[0] != fig.canvas.width || size[1] != fig.canvas.height) {\n",
       "        fig._resize_canvas(size[0], size[1]);\n",
       "        fig.send_message(\"refresh\", {});\n",
       "    };\n",
       "}\n",
       "\n",
       "mpl.figure.prototype.handle_rubberband = function(fig, msg) {\n",
       "    var x0 = msg['x0'] / mpl.ratio;\n",
       "    var y0 = (fig.canvas.height - msg['y0']) / mpl.ratio;\n",
       "    var x1 = msg['x1'] / mpl.ratio;\n",
       "    var y1 = (fig.canvas.height - msg['y1']) / mpl.ratio;\n",
       "    x0 = Math.floor(x0) + 0.5;\n",
       "    y0 = Math.floor(y0) + 0.5;\n",
       "    x1 = Math.floor(x1) + 0.5;\n",
       "    y1 = Math.floor(y1) + 0.5;\n",
       "    var min_x = Math.min(x0, x1);\n",
       "    var min_y = Math.min(y0, y1);\n",
       "    var width = Math.abs(x1 - x0);\n",
       "    var height = Math.abs(y1 - y0);\n",
       "\n",
       "    fig.rubberband_context.clearRect(\n",
       "        0, 0, fig.canvas.width / mpl.ratio, fig.canvas.height / mpl.ratio);\n",
       "\n",
       "    fig.rubberband_context.strokeRect(min_x, min_y, width, height);\n",
       "}\n",
       "\n",
       "mpl.figure.prototype.handle_figure_label = function(fig, msg) {\n",
       "    // Updates the figure title.\n",
       "    fig.header.textContent = msg['label'];\n",
       "}\n",
       "\n",
       "mpl.figure.prototype.handle_cursor = function(fig, msg) {\n",
       "    var cursor = msg['cursor'];\n",
       "    switch(cursor)\n",
       "    {\n",
       "    case 0:\n",
       "        cursor = 'pointer';\n",
       "        break;\n",
       "    case 1:\n",
       "        cursor = 'default';\n",
       "        break;\n",
       "    case 2:\n",
       "        cursor = 'crosshair';\n",
       "        break;\n",
       "    case 3:\n",
       "        cursor = 'move';\n",
       "        break;\n",
       "    }\n",
       "    fig.rubberband_canvas.style.cursor = cursor;\n",
       "}\n",
       "\n",
       "mpl.figure.prototype.handle_message = function(fig, msg) {\n",
       "    fig.message.textContent = msg['message'];\n",
       "}\n",
       "\n",
       "mpl.figure.prototype.handle_draw = function(fig, msg) {\n",
       "    // Request the server to send over a new figure.\n",
       "    fig.send_draw_message();\n",
       "}\n",
       "\n",
       "mpl.figure.prototype.handle_image_mode = function(fig, msg) {\n",
       "    fig.image_mode = msg['mode'];\n",
       "}\n",
       "\n",
       "mpl.figure.prototype.updated_canvas_event = function() {\n",
       "    // Called whenever the canvas gets updated.\n",
       "    this.send_message(\"ack\", {});\n",
       "}\n",
       "\n",
       "// A function to construct a web socket function for onmessage handling.\n",
       "// Called in the figure constructor.\n",
       "mpl.figure.prototype._make_on_message_function = function(fig) {\n",
       "    return function socket_on_message(evt) {\n",
       "        if (evt.data instanceof Blob) {\n",
       "            /* FIXME: We get \"Resource interpreted as Image but\n",
       "             * transferred with MIME type text/plain:\" errors on\n",
       "             * Chrome.  But how to set the MIME type?  It doesn't seem\n",
       "             * to be part of the websocket stream */\n",
       "            evt.data.type = \"image/png\";\n",
       "\n",
       "            /* Free the memory for the previous frames */\n",
       "            if (fig.imageObj.src) {\n",
       "                (window.URL || window.webkitURL).revokeObjectURL(\n",
       "                    fig.imageObj.src);\n",
       "            }\n",
       "\n",
       "            fig.imageObj.src = (window.URL || window.webkitURL).createObjectURL(\n",
       "                evt.data);\n",
       "            fig.updated_canvas_event();\n",
       "            fig.waiting = false;\n",
       "            return;\n",
       "        }\n",
       "        else if (typeof evt.data === 'string' && evt.data.slice(0, 21) == \"data:image/png;base64\") {\n",
       "            fig.imageObj.src = evt.data;\n",
       "            fig.updated_canvas_event();\n",
       "            fig.waiting = false;\n",
       "            return;\n",
       "        }\n",
       "\n",
       "        var msg = JSON.parse(evt.data);\n",
       "        var msg_type = msg['type'];\n",
       "\n",
       "        // Call the  \"handle_{type}\" callback, which takes\n",
       "        // the figure and JSON message as its only arguments.\n",
       "        try {\n",
       "            var callback = fig[\"handle_\" + msg_type];\n",
       "        } catch (e) {\n",
       "            console.log(\"No handler for the '\" + msg_type + \"' message type: \", msg);\n",
       "            return;\n",
       "        }\n",
       "\n",
       "        if (callback) {\n",
       "            try {\n",
       "                // console.log(\"Handling '\" + msg_type + \"' message: \", msg);\n",
       "                callback(fig, msg);\n",
       "            } catch (e) {\n",
       "                console.log(\"Exception inside the 'handler_\" + msg_type + \"' callback:\", e, e.stack, msg);\n",
       "            }\n",
       "        }\n",
       "    };\n",
       "}\n",
       "\n",
       "// from http://stackoverflow.com/questions/1114465/getting-mouse-location-in-canvas\n",
       "mpl.findpos = function(e) {\n",
       "    //this section is from http://www.quirksmode.org/js/events_properties.html\n",
       "    var targ;\n",
       "    if (!e)\n",
       "        e = window.event;\n",
       "    if (e.target)\n",
       "        targ = e.target;\n",
       "    else if (e.srcElement)\n",
       "        targ = e.srcElement;\n",
       "    if (targ.nodeType == 3) // defeat Safari bug\n",
       "        targ = targ.parentNode;\n",
       "\n",
       "    // jQuery normalizes the pageX and pageY\n",
       "    // pageX,Y are the mouse positions relative to the document\n",
       "    // offset() returns the position of the element relative to the document\n",
       "    var x = e.pageX - $(targ).offset().left;\n",
       "    var y = e.pageY - $(targ).offset().top;\n",
       "\n",
       "    return {\"x\": x, \"y\": y};\n",
       "};\n",
       "\n",
       "/*\n",
       " * return a copy of an object with only non-object keys\n",
       " * we need this to avoid circular references\n",
       " * http://stackoverflow.com/a/24161582/3208463\n",
       " */\n",
       "function simpleKeys (original) {\n",
       "  return Object.keys(original).reduce(function (obj, key) {\n",
       "    if (typeof original[key] !== 'object')\n",
       "        obj[key] = original[key]\n",
       "    return obj;\n",
       "  }, {});\n",
       "}\n",
       "\n",
       "mpl.figure.prototype.mouse_event = function(event, name) {\n",
       "    var canvas_pos = mpl.findpos(event)\n",
       "\n",
       "    if (name === 'button_press')\n",
       "    {\n",
       "        this.canvas.focus();\n",
       "        this.canvas_div.focus();\n",
       "    }\n",
       "\n",
       "    var x = canvas_pos.x * mpl.ratio;\n",
       "    var y = canvas_pos.y * mpl.ratio;\n",
       "\n",
       "    this.send_message(name, {x: x, y: y, button: event.button,\n",
       "                             step: event.step,\n",
       "                             guiEvent: simpleKeys(event)});\n",
       "\n",
       "    /* This prevents the web browser from automatically changing to\n",
       "     * the text insertion cursor when the button is pressed.  We want\n",
       "     * to control all of the cursor setting manually through the\n",
       "     * 'cursor' event from matplotlib */\n",
       "    event.preventDefault();\n",
       "    return false;\n",
       "}\n",
       "\n",
       "mpl.figure.prototype._key_event_extra = function(event, name) {\n",
       "    // Handle any extra behaviour associated with a key event\n",
       "}\n",
       "\n",
       "mpl.figure.prototype.key_event = function(event, name) {\n",
       "\n",
       "    // Prevent repeat events\n",
       "    if (name == 'key_press')\n",
       "    {\n",
       "        if (event.which === this._key)\n",
       "            return;\n",
       "        else\n",
       "            this._key = event.which;\n",
       "    }\n",
       "    if (name == 'key_release')\n",
       "        this._key = null;\n",
       "\n",
       "    var value = '';\n",
       "    if (event.ctrlKey && event.which != 17)\n",
       "        value += \"ctrl+\";\n",
       "    if (event.altKey && event.which != 18)\n",
       "        value += \"alt+\";\n",
       "    if (event.shiftKey && event.which != 16)\n",
       "        value += \"shift+\";\n",
       "\n",
       "    value += 'k';\n",
       "    value += event.which.toString();\n",
       "\n",
       "    this._key_event_extra(event, name);\n",
       "\n",
       "    this.send_message(name, {key: value,\n",
       "                             guiEvent: simpleKeys(event)});\n",
       "    return false;\n",
       "}\n",
       "\n",
       "mpl.figure.prototype.toolbar_button_onclick = function(name) {\n",
       "    if (name == 'download') {\n",
       "        this.handle_save(this, null);\n",
       "    } else {\n",
       "        this.send_message(\"toolbar_button\", {name: name});\n",
       "    }\n",
       "};\n",
       "\n",
       "mpl.figure.prototype.toolbar_button_onmouseover = function(tooltip) {\n",
       "    this.message.textContent = tooltip;\n",
       "};\n",
       "mpl.toolbar_items = [[\"Home\", \"Reset original view\", \"fa fa-home icon-home\", \"home\"], [\"Back\", \"Back to previous view\", \"fa fa-arrow-left icon-arrow-left\", \"back\"], [\"Forward\", \"Forward to next view\", \"fa fa-arrow-right icon-arrow-right\", \"forward\"], [\"\", \"\", \"\", \"\"], [\"Pan\", \"Pan axes with left mouse, zoom with right\", \"fa fa-arrows icon-move\", \"pan\"], [\"Zoom\", \"Zoom to rectangle\", \"fa fa-square-o icon-check-empty\", \"zoom\"], [\"\", \"\", \"\", \"\"], [\"Download\", \"Download plot\", \"fa fa-floppy-o icon-save\", \"download\"]];\n",
       "\n",
       "mpl.extensions = [\"eps\", \"jpeg\", \"pdf\", \"png\", \"ps\", \"raw\", \"svg\", \"tif\"];\n",
       "\n",
       "mpl.default_extension = \"png\";var comm_websocket_adapter = function(comm) {\n",
       "    // Create a \"websocket\"-like object which calls the given IPython comm\n",
       "    // object with the appropriate methods. Currently this is a non binary\n",
       "    // socket, so there is still some room for performance tuning.\n",
       "    var ws = {};\n",
       "\n",
       "    ws.close = function() {\n",
       "        comm.close()\n",
       "    };\n",
       "    ws.send = function(m) {\n",
       "        //console.log('sending', m);\n",
       "        comm.send(m);\n",
       "    };\n",
       "    // Register the callback with on_msg.\n",
       "    comm.on_msg(function(msg) {\n",
       "        //console.log('receiving', msg['content']['data'], msg);\n",
       "        // Pass the mpl event to the overridden (by mpl) onmessage function.\n",
       "        ws.onmessage(msg['content']['data'])\n",
       "    });\n",
       "    return ws;\n",
       "}\n",
       "\n",
       "mpl.mpl_figure_comm = function(comm, msg) {\n",
       "    // This is the function which gets called when the mpl process\n",
       "    // starts-up an IPython Comm through the \"matplotlib\" channel.\n",
       "\n",
       "    var id = msg.content.data.id;\n",
       "    // Get hold of the div created by the display call when the Comm\n",
       "    // socket was opened in Python.\n",
       "    var element = $(\"#\" + id);\n",
       "    var ws_proxy = comm_websocket_adapter(comm)\n",
       "\n",
       "    function ondownload(figure, format) {\n",
       "        window.open(figure.imageObj.src);\n",
       "    }\n",
       "\n",
       "    var fig = new mpl.figure(id, ws_proxy,\n",
       "                           ondownload,\n",
       "                           element.get(0));\n",
       "\n",
       "    // Call onopen now - mpl needs it, as it is assuming we've passed it a real\n",
       "    // web socket which is closed, not our websocket->open comm proxy.\n",
       "    ws_proxy.onopen();\n",
       "\n",
       "    fig.parent_element = element.get(0);\n",
       "    fig.cell_info = mpl.find_output_cell(\"<div id='\" + id + \"'></div>\");\n",
       "    if (!fig.cell_info) {\n",
       "        console.error(\"Failed to find cell for figure\", id, fig);\n",
       "        return;\n",
       "    }\n",
       "\n",
       "    var output_index = fig.cell_info[2]\n",
       "    var cell = fig.cell_info[0];\n",
       "\n",
       "};\n",
       "\n",
       "mpl.figure.prototype.handle_close = function(fig, msg) {\n",
       "    var width = fig.canvas.width/mpl.ratio\n",
       "    fig.root.unbind('remove')\n",
       "\n",
       "    // Update the output cell to use the data from the current canvas.\n",
       "    fig.push_to_output();\n",
       "    var dataURL = fig.canvas.toDataURL();\n",
       "    // Re-enable the keyboard manager in IPython - without this line, in FF,\n",
       "    // the notebook keyboard shortcuts fail.\n",
       "    IPython.keyboard_manager.enable()\n",
       "    $(fig.parent_element).html('<img src=\"' + dataURL + '\" width=\"' + width + '\">');\n",
       "    fig.close_ws(fig, msg);\n",
       "}\n",
       "\n",
       "mpl.figure.prototype.close_ws = function(fig, msg){\n",
       "    fig.send_message('closing', msg);\n",
       "    // fig.ws.close()\n",
       "}\n",
       "\n",
       "mpl.figure.prototype.push_to_output = function(remove_interactive) {\n",
       "    // Turn the data on the canvas into data in the output cell.\n",
       "    var width = this.canvas.width/mpl.ratio\n",
       "    var dataURL = this.canvas.toDataURL();\n",
       "    this.cell_info[1]['text/html'] = '<img src=\"' + dataURL + '\" width=\"' + width + '\">';\n",
       "}\n",
       "\n",
       "mpl.figure.prototype.updated_canvas_event = function() {\n",
       "    // Tell IPython that the notebook contents must change.\n",
       "    IPython.notebook.set_dirty(true);\n",
       "    this.send_message(\"ack\", {});\n",
       "    var fig = this;\n",
       "    // Wait a second, then push the new image to the DOM so\n",
       "    // that it is saved nicely (might be nice to debounce this).\n",
       "    setTimeout(function () { fig.push_to_output() }, 1000);\n",
       "}\n",
       "\n",
       "mpl.figure.prototype._init_toolbar = function() {\n",
       "    var fig = this;\n",
       "\n",
       "    var nav_element = $('<div/>');\n",
       "    nav_element.attr('style', 'width: 100%');\n",
       "    this.root.append(nav_element);\n",
       "\n",
       "    // Define a callback function for later on.\n",
       "    function toolbar_event(event) {\n",
       "        return fig.toolbar_button_onclick(event['data']);\n",
       "    }\n",
       "    function toolbar_mouse_event(event) {\n",
       "        return fig.toolbar_button_onmouseover(event['data']);\n",
       "    }\n",
       "\n",
       "    for(var toolbar_ind in mpl.toolbar_items){\n",
       "        var name = mpl.toolbar_items[toolbar_ind][0];\n",
       "        var tooltip = mpl.toolbar_items[toolbar_ind][1];\n",
       "        var image = mpl.toolbar_items[toolbar_ind][2];\n",
       "        var method_name = mpl.toolbar_items[toolbar_ind][3];\n",
       "\n",
       "        if (!name) { continue; };\n",
       "\n",
       "        var button = $('<button class=\"btn btn-default\" href=\"#\" title=\"' + name + '\"><i class=\"fa ' + image + ' fa-lg\"></i></button>');\n",
       "        button.click(method_name, toolbar_event);\n",
       "        button.mouseover(tooltip, toolbar_mouse_event);\n",
       "        nav_element.append(button);\n",
       "    }\n",
       "\n",
       "    // Add the status bar.\n",
       "    var status_bar = $('<span class=\"mpl-message\" style=\"text-align:right; float: right;\"/>');\n",
       "    nav_element.append(status_bar);\n",
       "    this.message = status_bar[0];\n",
       "\n",
       "    // Add the close button to the window.\n",
       "    var buttongrp = $('<div class=\"btn-group inline pull-right\"></div>');\n",
       "    var button = $('<button class=\"btn btn-mini btn-primary\" href=\"#\" title=\"Stop Interaction\"><i class=\"fa fa-power-off icon-remove icon-large\"></i></button>');\n",
       "    button.click(function (evt) { fig.handle_close(fig, {}); } );\n",
       "    button.mouseover('Stop Interaction', toolbar_mouse_event);\n",
       "    buttongrp.append(button);\n",
       "    var titlebar = this.root.find($('.ui-dialog-titlebar'));\n",
       "    titlebar.prepend(buttongrp);\n",
       "}\n",
       "\n",
       "mpl.figure.prototype._root_extra_style = function(el){\n",
       "    var fig = this\n",
       "    el.on(\"remove\", function(){\n",
       "\tfig.close_ws(fig, {});\n",
       "    });\n",
       "}\n",
       "\n",
       "mpl.figure.prototype._canvas_extra_style = function(el){\n",
       "    // this is important to make the div 'focusable\n",
       "    el.attr('tabindex', 0)\n",
       "    // reach out to IPython and tell the keyboard manager to turn it's self\n",
       "    // off when our div gets focus\n",
       "\n",
       "    // location in version 3\n",
       "    if (IPython.notebook.keyboard_manager) {\n",
       "        IPython.notebook.keyboard_manager.register_events(el);\n",
       "    }\n",
       "    else {\n",
       "        // location in version 2\n",
       "        IPython.keyboard_manager.register_events(el);\n",
       "    }\n",
       "\n",
       "}\n",
       "\n",
       "mpl.figure.prototype._key_event_extra = function(event, name) {\n",
       "    var manager = IPython.notebook.keyboard_manager;\n",
       "    if (!manager)\n",
       "        manager = IPython.keyboard_manager;\n",
       "\n",
       "    // Check for shift+enter\n",
       "    if (event.shiftKey && event.which == 13) {\n",
       "        this.canvas_div.blur();\n",
       "        // select the cell after this one\n",
       "        var index = IPython.notebook.find_cell_index(this.cell_info[0]);\n",
       "        IPython.notebook.select(index + 1);\n",
       "    }\n",
       "}\n",
       "\n",
       "mpl.figure.prototype.handle_save = function(fig, msg) {\n",
       "    fig.ondownload(fig, null);\n",
       "}\n",
       "\n",
       "\n",
       "mpl.find_output_cell = function(html_output) {\n",
       "    // Return the cell and output element which can be found *uniquely* in the notebook.\n",
       "    // Note - this is a bit hacky, but it is done because the \"notebook_saving.Notebook\"\n",
       "    // IPython event is triggered only after the cells have been serialised, which for\n",
       "    // our purposes (turning an active figure into a static one), is too late.\n",
       "    var cells = IPython.notebook.get_cells();\n",
       "    var ncells = cells.length;\n",
       "    for (var i=0; i<ncells; i++) {\n",
       "        var cell = cells[i];\n",
       "        if (cell.cell_type === 'code'){\n",
       "            for (var j=0; j<cell.output_area.outputs.length; j++) {\n",
       "                var data = cell.output_area.outputs[j];\n",
       "                if (data.data) {\n",
       "                    // IPython >= 3 moved mimebundle to data attribute of output\n",
       "                    data = data.data;\n",
       "                }\n",
       "                if (data['text/html'] == html_output) {\n",
       "                    return [cell, data, j];\n",
       "                }\n",
       "            }\n",
       "        }\n",
       "    }\n",
       "}\n",
       "\n",
       "// Register the function which deals with the matplotlib target/channel.\n",
       "// The kernel may be null if the page has been refreshed.\n",
       "if (IPython.notebook.kernel != null) {\n",
       "    IPython.notebook.kernel.comm_manager.register_target('matplotlib', mpl.mpl_figure_comm);\n",
       "}\n"
      ],
      "text/plain": [
       "<IPython.core.display.Javascript object>"
      ]
     },
     "metadata": {},
     "output_type": "display_data"
    },
    {
     "data": {
      "text/html": [
       "<img src=\"data:image/png;base64,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\" width=\"1000\">"
      ],
      "text/plain": [
       "<IPython.core.display.HTML object>"
      ]
     },
     "metadata": {},
     "output_type": "display_data"
    }
   ],
   "source": [
    "ax, tax, lax, lines = dual_train_plots()\n",
    "fig = ax.figure\n",
    "plt.tight_layout()"
   ]
  },
  {
   "cell_type": "code",
   "execution_count": 18,
   "metadata": {
    "scrolled": false
   },
   "outputs": [
    {
     "name": "stdout",
     "output_type": "stream",
     "text": [
      "Number of batches: train = 5000, val = 157\n"
     ]
    },
    {
     "data": {
      "application/vnd.jupyter.widget-view+json": {
       "model_id": "4258127a94444263983286dfdf9700ba",
       "version_major": 2,
       "version_minor": 0
      },
      "text/plain": [
       "HBox(children=(FloatProgress(value=0.0, description='Epochs', layout=Layout(flex='2'), max=150.0, style=Progre…"
      ]
     },
     "metadata": {},
     "output_type": "display_data"
    },
    {
     "name": "stdout",
     "output_type": "stream",
     "text": [
      "Number of batches: train = 5000, val = 157\n"
     ]
    },
    {
     "data": {
      "application/vnd.jupyter.widget-view+json": {
       "model_id": "",
       "version_major": 2,
       "version_minor": 0
      },
      "text/plain": [
       "HBox(children=(FloatProgress(value=0.0, description='Training', layout=Layout(flex='2'), max=5000.0, style=Pro…"
      ]
     },
     "metadata": {},
     "output_type": "display_data"
    },
    {
     "name": "stdout",
     "output_type": "stream",
     "text": [
      "Epoch 0: train=0.611854, val=0.413278, took 587.7 s\n"
     ]
    },
    {
     "data": {
      "application/vnd.jupyter.widget-view+json": {
       "model_id": "",
       "version_major": 2,
       "version_minor": 0
      },
      "text/plain": [
       "HBox(children=(FloatProgress(value=0.0, description='Training', layout=Layout(flex='2'), max=5000.0, style=Pro…"
      ]
     },
     "metadata": {},
     "output_type": "display_data"
    },
    {
     "name": "stdout",
     "output_type": "stream",
     "text": [
      "Epoch 1: train=0.613025, val=0.46879, took 590.83 s\n"
     ]
    },
    {
     "data": {
      "application/vnd.jupyter.widget-view+json": {
       "model_id": "",
       "version_major": 2,
       "version_minor": 0
      },
      "text/plain": [
       "HBox(children=(FloatProgress(value=0.0, description='Training', layout=Layout(flex='2'), max=5000.0, style=Pro…"
      ]
     },
     "metadata": {},
     "output_type": "display_data"
    },
    {
     "name": "stdout",
     "output_type": "stream",
     "text": [
      "Epoch 2: train=0.61168, val=0.407308, took 588.36 s\n"
     ]
    },
    {
     "data": {
      "application/vnd.jupyter.widget-view+json": {
       "model_id": "",
       "version_major": 2,
       "version_minor": 0
      },
      "text/plain": [
       "HBox(children=(FloatProgress(value=0.0, description='Training', layout=Layout(flex='2'), max=5000.0, style=Pro…"
      ]
     },
     "metadata": {},
     "output_type": "display_data"
    },
    {
     "name": "stdout",
     "output_type": "stream",
     "text": [
      "Epoch 3: train=0.610401, val=0.407116, took 586.88 s\n"
     ]
    },
    {
     "data": {
      "application/vnd.jupyter.widget-view+json": {
       "model_id": "",
       "version_major": 2,
       "version_minor": 0
      },
      "text/plain": [
       "HBox(children=(FloatProgress(value=0.0, description='Training', layout=Layout(flex='2'), max=5000.0, style=Pro…"
      ]
     },
     "metadata": {},
     "output_type": "display_data"
    },
    {
     "name": "stdout",
     "output_type": "stream",
     "text": [
      "Epoch 4: train=0.611954, val=0.418877, took 587.46 s\n"
     ]
    },
    {
     "data": {
      "application/vnd.jupyter.widget-view+json": {
       "model_id": "",
       "version_major": 2,
       "version_minor": 0
      },
      "text/plain": [
       "HBox(children=(FloatProgress(value=0.0, description='Training', layout=Layout(flex='2'), max=5000.0, style=Pro…"
      ]
     },
     "metadata": {},
     "output_type": "display_data"
    },
    {
     "name": "stdout",
     "output_type": "stream",
     "text": [
      "Epoch 5: train=0.609464, val=0.422481, took 587.59 s\n"
     ]
    },
    {
     "data": {
      "application/vnd.jupyter.widget-view+json": {
       "model_id": "",
       "version_major": 2,
       "version_minor": 0
      },
      "text/plain": [
       "HBox(children=(FloatProgress(value=0.0, description='Training', layout=Layout(flex='2'), max=5000.0, style=Pro…"
      ]
     },
     "metadata": {},
     "output_type": "display_data"
    },
    {
     "name": "stdout",
     "output_type": "stream",
     "text": [
      "Epoch 6: train=0.612388, val=0.406175, took 586.74 s\n"
     ]
    },
    {
     "data": {
      "application/vnd.jupyter.widget-view+json": {
       "model_id": "",
       "version_major": 2,
       "version_minor": 0
      },
      "text/plain": [
       "HBox(children=(FloatProgress(value=0.0, description='Training', layout=Layout(flex='2'), max=5000.0, style=Pro…"
      ]
     },
     "metadata": {},
     "output_type": "display_data"
    },
    {
     "name": "stdout",
     "output_type": "stream",
     "text": [
      "Epoch 7: train=0.610799, val=0.40903, took 586.33 s\n"
     ]
    },
    {
     "data": {
      "application/vnd.jupyter.widget-view+json": {
       "model_id": "",
       "version_major": 2,
       "version_minor": 0
      },
      "text/plain": [
       "HBox(children=(FloatProgress(value=0.0, description='Training', layout=Layout(flex='2'), max=5000.0, style=Pro…"
      ]
     },
     "metadata": {},
     "output_type": "display_data"
    },
    {
     "name": "stdout",
     "output_type": "stream",
     "text": [
      "Epoch 8: train=0.61044, val=0.406805, took 586.04 s\n"
     ]
    },
    {
     "data": {
      "application/vnd.jupyter.widget-view+json": {
       "model_id": "",
       "version_major": 2,
       "version_minor": 0
      },
      "text/plain": [
       "HBox(children=(FloatProgress(value=0.0, description='Training', layout=Layout(flex='2'), max=5000.0, style=Pro…"
      ]
     },
     "metadata": {},
     "output_type": "display_data"
    },
    {
     "name": "stdout",
     "output_type": "stream",
     "text": [
      "Epoch 9: train=0.611227, val=0.404792, took 587.64 s\n"
     ]
    },
    {
     "data": {
      "application/vnd.jupyter.widget-view+json": {
       "model_id": "",
       "version_major": 2,
       "version_minor": 0
      },
      "text/plain": [
       "HBox(children=(FloatProgress(value=0.0, description='Training', layout=Layout(flex='2'), max=5000.0, style=Pro…"
      ]
     },
     "metadata": {},
     "output_type": "display_data"
    },
    {
     "name": "stdout",
     "output_type": "stream",
     "text": [
      "Epoch 10: train=0.610715, val=0.409545, took 586.23 s\n"
     ]
    },
    {
     "data": {
      "application/vnd.jupyter.widget-view+json": {
       "model_id": "",
       "version_major": 2,
       "version_minor": 0
      },
      "text/plain": [
       "HBox(children=(FloatProgress(value=0.0, description='Training', layout=Layout(flex='2'), max=5000.0, style=Pro…"
      ]
     },
     "metadata": {},
     "output_type": "display_data"
    },
    {
     "name": "stdout",
     "output_type": "stream",
     "text": [
      "Epoch 11: train=0.610401, val=0.40268, took 586.43 s\n"
     ]
    },
    {
     "data": {
      "application/vnd.jupyter.widget-view+json": {
       "model_id": "",
       "version_major": 2,
       "version_minor": 0
      },
      "text/plain": [
       "HBox(children=(FloatProgress(value=0.0, description='Training', layout=Layout(flex='2'), max=5000.0, style=Pro…"
      ]
     },
     "metadata": {},
     "output_type": "display_data"
    },
    {
     "name": "stdout",
     "output_type": "stream",
     "text": [
      "Epoch 12: train=0.608705, val=0.417666, took 584.66 s\n"
     ]
    },
    {
     "data": {
      "application/vnd.jupyter.widget-view+json": {
       "model_id": "",
       "version_major": 2,
       "version_minor": 0
      },
      "text/plain": [
       "HBox(children=(FloatProgress(value=0.0, description='Training', layout=Layout(flex='2'), max=5000.0, style=Pro…"
      ]
     },
     "metadata": {},
     "output_type": "display_data"
    },
    {
     "name": "stdout",
     "output_type": "stream",
     "text": [
      "Epoch 13: train=0.610794, val=0.405436, took 586.09 s\n"
     ]
    },
    {
     "data": {
      "application/vnd.jupyter.widget-view+json": {
       "model_id": "",
       "version_major": 2,
       "version_minor": 0
      },
      "text/plain": [
       "HBox(children=(FloatProgress(value=0.0, description='Training', layout=Layout(flex='2'), max=5000.0, style=Pro…"
      ]
     },
     "metadata": {},
     "output_type": "display_data"
    },
    {
     "name": "stdout",
     "output_type": "stream",
     "text": [
      "Epoch 14: train=0.610144, val=0.438235, took 584.35 s\n"
     ]
    },
    {
     "data": {
      "application/vnd.jupyter.widget-view+json": {
       "model_id": "",
       "version_major": 2,
       "version_minor": 0
      },
      "text/plain": [
       "HBox(children=(FloatProgress(value=0.0, description='Training', layout=Layout(flex='2'), max=5000.0, style=Pro…"
      ]
     },
     "metadata": {},
     "output_type": "display_data"
    },
    {
     "name": "stdout",
     "output_type": "stream",
     "text": [
      "Epoch 15: train=0.610666, val=0.399997, took 585.21 s\n"
     ]
    },
    {
     "data": {
      "application/vnd.jupyter.widget-view+json": {
       "model_id": "",
       "version_major": 2,
       "version_minor": 0
      },
      "text/plain": [
       "HBox(children=(FloatProgress(value=0.0, description='Training', layout=Layout(flex='2'), max=5000.0, style=Pro…"
      ]
     },
     "metadata": {},
     "output_type": "display_data"
    },
    {
     "name": "stdout",
     "output_type": "stream",
     "text": [
      "Epoch 16: train=0.610052, val=0.410172, took 584.21 s\n"
     ]
    },
    {
     "data": {
      "application/vnd.jupyter.widget-view+json": {
       "model_id": "",
       "version_major": 2,
       "version_minor": 0
      },
      "text/plain": [
       "HBox(children=(FloatProgress(value=0.0, description='Training', layout=Layout(flex='2'), max=5000.0, style=Pro…"
      ]
     },
     "metadata": {},
     "output_type": "display_data"
    },
    {
     "name": "stdout",
     "output_type": "stream",
     "text": [
      "Epoch 17: train=0.610523, val=0.411883, took 585.5 s\n"
     ]
    },
    {
     "data": {
      "application/vnd.jupyter.widget-view+json": {
       "model_id": "",
       "version_major": 2,
       "version_minor": 0
      },
      "text/plain": [
       "HBox(children=(FloatProgress(value=0.0, description='Training', layout=Layout(flex='2'), max=5000.0, style=Pro…"
      ]
     },
     "metadata": {},
     "output_type": "display_data"
    },
    {
     "name": "stdout",
     "output_type": "stream",
     "text": [
      "Epoch 18: train=0.608647, val=0.411094, took 584.81 s\n"
     ]
    },
    {
     "data": {
      "application/vnd.jupyter.widget-view+json": {
       "model_id": "",
       "version_major": 2,
       "version_minor": 0
      },
      "text/plain": [
       "HBox(children=(FloatProgress(value=0.0, description='Training', layout=Layout(flex='2'), max=5000.0, style=Pro…"
      ]
     },
     "metadata": {},
     "output_type": "display_data"
    },
    {
     "name": "stdout",
     "output_type": "stream",
     "text": [
      "Epoch 19: train=0.608866, val=0.405489, took 584.51 s\n"
     ]
    },
    {
     "data": {
      "application/vnd.jupyter.widget-view+json": {
       "model_id": "",
       "version_major": 2,
       "version_minor": 0
      },
      "text/plain": [
       "HBox(children=(FloatProgress(value=0.0, description='Training', layout=Layout(flex='2'), max=5000.0, style=Pro…"
      ]
     },
     "metadata": {},
     "output_type": "display_data"
    },
    {
     "name": "stdout",
     "output_type": "stream",
     "text": [
      "Epoch 20: train=0.608964, val=0.433247, took 585.38 s\n"
     ]
    },
    {
     "data": {
      "application/vnd.jupyter.widget-view+json": {
       "model_id": "",
       "version_major": 2,
       "version_minor": 0
      },
      "text/plain": [
       "HBox(children=(FloatProgress(value=0.0, description='Training', layout=Layout(flex='2'), max=5000.0, style=Pro…"
      ]
     },
     "metadata": {},
     "output_type": "display_data"
    },
    {
     "name": "stdout",
     "output_type": "stream",
     "text": [
      "Epoch 21: train=0.608315, val=0.417497, took 585.24 s\n"
     ]
    },
    {
     "data": {
      "application/vnd.jupyter.widget-view+json": {
       "model_id": "",
       "version_major": 2,
       "version_minor": 0
      },
      "text/plain": [
       "HBox(children=(FloatProgress(value=0.0, description='Training', layout=Layout(flex='2'), max=5000.0, style=Pro…"
      ]
     },
     "metadata": {},
     "output_type": "display_data"
    },
    {
     "name": "stdout",
     "output_type": "stream",
     "text": [
      "Epoch 22: train=0.609562, val=0.424642, took 584.79 s\n"
     ]
    },
    {
     "data": {
      "application/vnd.jupyter.widget-view+json": {
       "model_id": "",
       "version_major": 2,
       "version_minor": 0
      },
      "text/plain": [
       "HBox(children=(FloatProgress(value=0.0, description='Training', layout=Layout(flex='2'), max=5000.0, style=Pro…"
      ]
     },
     "metadata": {},
     "output_type": "display_data"
    },
    {
     "name": "stdout",
     "output_type": "stream",
     "text": [
      "Epoch 23: train=0.608643, val=0.41278, took 584.54 s\n"
     ]
    },
    {
     "data": {
      "application/vnd.jupyter.widget-view+json": {
       "model_id": "",
       "version_major": 2,
       "version_minor": 0
      },
      "text/plain": [
       "HBox(children=(FloatProgress(value=0.0, description='Training', layout=Layout(flex='2'), max=5000.0, style=Pro…"
      ]
     },
     "metadata": {},
     "output_type": "display_data"
    },
    {
     "name": "stdout",
     "output_type": "stream",
     "text": [
      "Epoch 24: train=0.606578, val=0.402788, took 584.64 s\n"
     ]
    },
    {
     "data": {
      "application/vnd.jupyter.widget-view+json": {
       "model_id": "",
       "version_major": 2,
       "version_minor": 0
      },
      "text/plain": [
       "HBox(children=(FloatProgress(value=0.0, description='Training', layout=Layout(flex='2'), max=5000.0, style=Pro…"
      ]
     },
     "metadata": {},
     "output_type": "display_data"
    },
    {
     "name": "stdout",
     "output_type": "stream",
     "text": [
      "Epoch 25: train=0.609367, val=0.405303, took 584.52 s\n"
     ]
    },
    {
     "data": {
      "application/vnd.jupyter.widget-view+json": {
       "model_id": "",
       "version_major": 2,
       "version_minor": 0
      },
      "text/plain": [
       "HBox(children=(FloatProgress(value=0.0, description='Training', layout=Layout(flex='2'), max=5000.0, style=Pro…"
      ]
     },
     "metadata": {},
     "output_type": "display_data"
    },
    {
     "name": "stdout",
     "output_type": "stream",
     "text": [
      "Epoch 26: train=0.608148, val=0.402984, took 584.65 s\n"
     ]
    },
    {
     "data": {
      "application/vnd.jupyter.widget-view+json": {
       "model_id": "",
       "version_major": 2,
       "version_minor": 0
      },
      "text/plain": [
       "HBox(children=(FloatProgress(value=0.0, description='Training', layout=Layout(flex='2'), max=5000.0, style=Pro…"
      ]
     },
     "metadata": {},
     "output_type": "display_data"
    },
    {
     "name": "stdout",
     "output_type": "stream",
     "text": [
      "Epoch 27: train=0.60812, val=0.556839, took 585.06 s\n"
     ]
    },
    {
     "data": {
      "application/vnd.jupyter.widget-view+json": {
       "model_id": "",
       "version_major": 2,
       "version_minor": 0
      },
      "text/plain": [
       "HBox(children=(FloatProgress(value=0.0, description='Training', layout=Layout(flex='2'), max=5000.0, style=Pro…"
      ]
     },
     "metadata": {},
     "output_type": "display_data"
    },
    {
     "name": "stdout",
     "output_type": "stream",
     "text": [
      "Epoch 28: train=0.608687, val=0.403907, took 586.68 s\n"
     ]
    },
    {
     "data": {
      "application/vnd.jupyter.widget-view+json": {
       "model_id": "",
       "version_major": 2,
       "version_minor": 0
      },
      "text/plain": [
       "HBox(children=(FloatProgress(value=0.0, description='Training', layout=Layout(flex='2'), max=5000.0, style=Pro…"
      ]
     },
     "metadata": {},
     "output_type": "display_data"
    },
    {
     "name": "stdout",
     "output_type": "stream",
     "text": [
      "Epoch 29: train=0.606788, val=0.407877, took 583.94 s\n"
     ]
    },
    {
     "data": {
      "application/vnd.jupyter.widget-view+json": {
       "model_id": "",
       "version_major": 2,
       "version_minor": 0
      },
      "text/plain": [
       "HBox(children=(FloatProgress(value=0.0, description='Training', layout=Layout(flex='2'), max=5000.0, style=Pro…"
      ]
     },
     "metadata": {},
     "output_type": "display_data"
    },
    {
     "name": "stdout",
     "output_type": "stream",
     "text": [
      "Epoch 30: train=0.605286, val=0.403821, took 586.68 s\n"
     ]
    },
    {
     "data": {
      "application/vnd.jupyter.widget-view+json": {
       "model_id": "",
       "version_major": 2,
       "version_minor": 0
      },
      "text/plain": [
       "HBox(children=(FloatProgress(value=0.0, description='Training', layout=Layout(flex='2'), max=5000.0, style=Pro…"
      ]
     },
     "metadata": {},
     "output_type": "display_data"
    },
    {
     "name": "stdout",
     "output_type": "stream",
     "text": [
      "Epoch 31: train=0.606341, val=0.417015, took 585.83 s\n"
     ]
    },
    {
     "data": {
      "application/vnd.jupyter.widget-view+json": {
       "model_id": "",
       "version_major": 2,
       "version_minor": 0
      },
      "text/plain": [
       "HBox(children=(FloatProgress(value=0.0, description='Training', layout=Layout(flex='2'), max=5000.0, style=Pro…"
      ]
     },
     "metadata": {},
     "output_type": "display_data"
    },
    {
     "name": "stdout",
     "output_type": "stream",
     "text": [
      "Epoch 32: train=0.607062, val=0.39908, took 585.77 s\n"
     ]
    },
    {
     "data": {
      "application/vnd.jupyter.widget-view+json": {
       "model_id": "",
       "version_major": 2,
       "version_minor": 0
      },
      "text/plain": [
       "HBox(children=(FloatProgress(value=0.0, description='Training', layout=Layout(flex='2'), max=5000.0, style=Pro…"
      ]
     },
     "metadata": {},
     "output_type": "display_data"
    },
    {
     "name": "stdout",
     "output_type": "stream",
     "text": [
      "Epoch 33: train=0.607127, val=0.403097, took 584.56 s\n"
     ]
    },
    {
     "data": {
      "application/vnd.jupyter.widget-view+json": {
       "model_id": "",
       "version_major": 2,
       "version_minor": 0
      },
      "text/plain": [
       "HBox(children=(FloatProgress(value=0.0, description='Training', layout=Layout(flex='2'), max=5000.0, style=Pro…"
      ]
     },
     "metadata": {},
     "output_type": "display_data"
    },
    {
     "name": "stdout",
     "output_type": "stream",
     "text": [
      "Epoch 34: train=0.607568, val=0.410424, took 586.15 s\n"
     ]
    },
    {
     "data": {
      "application/vnd.jupyter.widget-view+json": {
       "model_id": "",
       "version_major": 2,
       "version_minor": 0
      },
      "text/plain": [
       "HBox(children=(FloatProgress(value=0.0, description='Training', layout=Layout(flex='2'), max=5000.0, style=Pro…"
      ]
     },
     "metadata": {},
     "output_type": "display_data"
    },
    {
     "name": "stdout",
     "output_type": "stream",
     "text": [
      "Epoch 35: train=0.607149, val=0.399036, took 585.26 s\n"
     ]
    },
    {
     "data": {
      "application/vnd.jupyter.widget-view+json": {
       "model_id": "",
       "version_major": 2,
       "version_minor": 0
      },
      "text/plain": [
       "HBox(children=(FloatProgress(value=0.0, description='Training', layout=Layout(flex='2'), max=5000.0, style=Pro…"
      ]
     },
     "metadata": {},
     "output_type": "display_data"
    },
    {
     "name": "stdout",
     "output_type": "stream",
     "text": [
      "Epoch 36: train=0.607335, val=0.437661, took 584.52 s\n"
     ]
    },
    {
     "data": {
      "application/vnd.jupyter.widget-view+json": {
       "model_id": "",
       "version_major": 2,
       "version_minor": 0
      },
      "text/plain": [
       "HBox(children=(FloatProgress(value=0.0, description='Training', layout=Layout(flex='2'), max=5000.0, style=Pro…"
      ]
     },
     "metadata": {},
     "output_type": "display_data"
    },
    {
     "name": "stdout",
     "output_type": "stream",
     "text": [
      "Epoch 37: train=0.605863, val=0.407472, took 585.27 s\n"
     ]
    },
    {
     "data": {
      "application/vnd.jupyter.widget-view+json": {
       "model_id": "",
       "version_major": 2,
       "version_minor": 0
      },
      "text/plain": [
       "HBox(children=(FloatProgress(value=0.0, description='Training', layout=Layout(flex='2'), max=5000.0, style=Pro…"
      ]
     },
     "metadata": {},
     "output_type": "display_data"
    },
    {
     "name": "stdout",
     "output_type": "stream",
     "text": [
      "Epoch 38: train=0.604991, val=0.397822, took 585.58 s\n"
     ]
    },
    {
     "data": {
      "application/vnd.jupyter.widget-view+json": {
       "model_id": "",
       "version_major": 2,
       "version_minor": 0
      },
      "text/plain": [
       "HBox(children=(FloatProgress(value=0.0, description='Training', layout=Layout(flex='2'), max=5000.0, style=Pro…"
      ]
     },
     "metadata": {},
     "output_type": "display_data"
    },
    {
     "name": "stdout",
     "output_type": "stream",
     "text": [
      "Epoch 39: train=0.606056, val=0.440968, took 587.05 s\n"
     ]
    },
    {
     "data": {
      "application/vnd.jupyter.widget-view+json": {
       "model_id": "",
       "version_major": 2,
       "version_minor": 0
      },
      "text/plain": [
       "HBox(children=(FloatProgress(value=0.0, description='Training', layout=Layout(flex='2'), max=5000.0, style=Pro…"
      ]
     },
     "metadata": {},
     "output_type": "display_data"
    },
    {
     "name": "stdout",
     "output_type": "stream",
     "text": [
      "Epoch 40: train=0.605054, val=0.402597, took 583.84 s\n"
     ]
    },
    {
     "data": {
      "application/vnd.jupyter.widget-view+json": {
       "model_id": "",
       "version_major": 2,
       "version_minor": 0
      },
      "text/plain": [
       "HBox(children=(FloatProgress(value=0.0, description='Training', layout=Layout(flex='2'), max=5000.0, style=Pro…"
      ]
     },
     "metadata": {},
     "output_type": "display_data"
    },
    {
     "name": "stdout",
     "output_type": "stream",
     "text": [
      "Epoch 41: train=0.605631, val=0.458124, took 584.75 s\n"
     ]
    },
    {
     "data": {
      "application/vnd.jupyter.widget-view+json": {
       "model_id": "",
       "version_major": 2,
       "version_minor": 0
      },
      "text/plain": [
       "HBox(children=(FloatProgress(value=0.0, description='Training', layout=Layout(flex='2'), max=5000.0, style=Pro…"
      ]
     },
     "metadata": {},
     "output_type": "display_data"
    },
    {
     "name": "stdout",
     "output_type": "stream",
     "text": [
      "Epoch 42: train=0.604061, val=0.418981, took 583.34 s\n"
     ]
    },
    {
     "data": {
      "application/vnd.jupyter.widget-view+json": {
       "model_id": "",
       "version_major": 2,
       "version_minor": 0
      },
      "text/plain": [
       "HBox(children=(FloatProgress(value=0.0, description='Training', layout=Layout(flex='2'), max=5000.0, style=Pro…"
      ]
     },
     "metadata": {},
     "output_type": "display_data"
    },
    {
     "name": "stdout",
     "output_type": "stream",
     "text": [
      "Epoch 43: train=0.605016, val=0.40079, took 582.99 s\n"
     ]
    },
    {
     "data": {
      "application/vnd.jupyter.widget-view+json": {
       "model_id": "",
       "version_major": 2,
       "version_minor": 0
      },
      "text/plain": [
       "HBox(children=(FloatProgress(value=0.0, description='Training', layout=Layout(flex='2'), max=5000.0, style=Pro…"
      ]
     },
     "metadata": {},
     "output_type": "display_data"
    },
    {
     "name": "stdout",
     "output_type": "stream",
     "text": [
      "Epoch 44: train=0.60596, val=0.407043, took 583.97 s\n"
     ]
    },
    {
     "data": {
      "application/vnd.jupyter.widget-view+json": {
       "model_id": "",
       "version_major": 2,
       "version_minor": 0
      },
      "text/plain": [
       "HBox(children=(FloatProgress(value=0.0, description='Training', layout=Layout(flex='2'), max=5000.0, style=Pro…"
      ]
     },
     "metadata": {},
     "output_type": "display_data"
    },
    {
     "name": "stdout",
     "output_type": "stream",
     "text": [
      "Epoch 45: train=0.604331, val=0.399035, took 583.95 s\n"
     ]
    },
    {
     "data": {
      "application/vnd.jupyter.widget-view+json": {
       "model_id": "",
       "version_major": 2,
       "version_minor": 0
      },
      "text/plain": [
       "HBox(children=(FloatProgress(value=0.0, description='Training', layout=Layout(flex='2'), max=5000.0, style=Pro…"
      ]
     },
     "metadata": {},
     "output_type": "display_data"
    },
    {
     "name": "stdout",
     "output_type": "stream",
     "text": [
      "Epoch 46: train=0.604709, val=0.402248, took 584.06 s\n"
     ]
    },
    {
     "data": {
      "application/vnd.jupyter.widget-view+json": {
       "model_id": "",
       "version_major": 2,
       "version_minor": 0
      },
      "text/plain": [
       "HBox(children=(FloatProgress(value=0.0, description='Training', layout=Layout(flex='2'), max=5000.0, style=Pro…"
      ]
     },
     "metadata": {},
     "output_type": "display_data"
    },
    {
     "name": "stdout",
     "output_type": "stream",
     "text": [
      "Epoch 47: train=0.604469, val=0.415049, took 585.15 s\n"
     ]
    },
    {
     "data": {
      "application/vnd.jupyter.widget-view+json": {
       "model_id": "",
       "version_major": 2,
       "version_minor": 0
      },
      "text/plain": [
       "HBox(children=(FloatProgress(value=0.0, description='Training', layout=Layout(flex='2'), max=5000.0, style=Pro…"
      ]
     },
     "metadata": {},
     "output_type": "display_data"
    },
    {
     "name": "stdout",
     "output_type": "stream",
     "text": [
      "Epoch 48: train=0.604505, val=0.409434, took 583.99 s\n"
     ]
    },
    {
     "data": {
      "application/vnd.jupyter.widget-view+json": {
       "model_id": "",
       "version_major": 2,
       "version_minor": 0
      },
      "text/plain": [
       "HBox(children=(FloatProgress(value=0.0, description='Training', layout=Layout(flex='2'), max=5000.0, style=Pro…"
      ]
     },
     "metadata": {},
     "output_type": "display_data"
    },
    {
     "name": "stdout",
     "output_type": "stream",
     "text": [
      "Epoch 49: train=0.606084, val=0.414192, took 585.08 s\n"
     ]
    },
    {
     "data": {
      "application/vnd.jupyter.widget-view+json": {
       "model_id": "",
       "version_major": 2,
       "version_minor": 0
      },
      "text/plain": [
       "HBox(children=(FloatProgress(value=0.0, description='Training', layout=Layout(flex='2'), max=5000.0, style=Pro…"
      ]
     },
     "metadata": {},
     "output_type": "display_data"
    },
    {
     "name": "stdout",
     "output_type": "stream",
     "text": [
      "Epoch 50: train=0.602101, val=0.426525, took 585.44 s\n"
     ]
    },
    {
     "data": {
      "application/vnd.jupyter.widget-view+json": {
       "model_id": "",
       "version_major": 2,
       "version_minor": 0
      },
      "text/plain": [
       "HBox(children=(FloatProgress(value=0.0, description='Training', layout=Layout(flex='2'), max=5000.0, style=Pro…"
      ]
     },
     "metadata": {},
     "output_type": "display_data"
    },
    {
     "name": "stdout",
     "output_type": "stream",
     "text": [
      "Epoch 51: train=0.605052, val=0.403579, took 584.37 s\n"
     ]
    },
    {
     "data": {
      "application/vnd.jupyter.widget-view+json": {
       "model_id": "",
       "version_major": 2,
       "version_minor": 0
      },
      "text/plain": [
       "HBox(children=(FloatProgress(value=0.0, description='Training', layout=Layout(flex='2'), max=5000.0, style=Pro…"
      ]
     },
     "metadata": {},
     "output_type": "display_data"
    },
    {
     "name": "stdout",
     "output_type": "stream",
     "text": [
      "Epoch 52: train=0.601772, val=0.416893, took 584.53 s\n"
     ]
    },
    {
     "data": {
      "application/vnd.jupyter.widget-view+json": {
       "model_id": "",
       "version_major": 2,
       "version_minor": 0
      },
      "text/plain": [
       "HBox(children=(FloatProgress(value=0.0, description='Training', layout=Layout(flex='2'), max=5000.0, style=Pro…"
      ]
     },
     "metadata": {},
     "output_type": "display_data"
    },
    {
     "name": "stdout",
     "output_type": "stream",
     "text": [
      "Epoch 53: train=0.604347, val=0.412937, took 585.56 s\n"
     ]
    },
    {
     "data": {
      "application/vnd.jupyter.widget-view+json": {
       "model_id": "",
       "version_major": 2,
       "version_minor": 0
      },
      "text/plain": [
       "HBox(children=(FloatProgress(value=0.0, description='Training', layout=Layout(flex='2'), max=5000.0, style=Pro…"
      ]
     },
     "metadata": {},
     "output_type": "display_data"
    },
    {
     "name": "stdout",
     "output_type": "stream",
     "text": [
      "Epoch 54: train=0.604554, val=0.419694, took 584.4 s\n"
     ]
    },
    {
     "data": {
      "application/vnd.jupyter.widget-view+json": {
       "model_id": "",
       "version_major": 2,
       "version_minor": 0
      },
      "text/plain": [
       "HBox(children=(FloatProgress(value=0.0, description='Training', layout=Layout(flex='2'), max=5000.0, style=Pro…"
      ]
     },
     "metadata": {},
     "output_type": "display_data"
    },
    {
     "name": "stdout",
     "output_type": "stream",
     "text": [
      "Epoch 55: train=0.602608, val=0.396261, took 584.14 s\n"
     ]
    },
    {
     "data": {
      "application/vnd.jupyter.widget-view+json": {
       "model_id": "",
       "version_major": 2,
       "version_minor": 0
      },
      "text/plain": [
       "HBox(children=(FloatProgress(value=0.0, description='Training', layout=Layout(flex='2'), max=5000.0, style=Pro…"
      ]
     },
     "metadata": {},
     "output_type": "display_data"
    },
    {
     "name": "stdout",
     "output_type": "stream",
     "text": [
      "Epoch 56: train=0.604815, val=0.408725, took 582.71 s\n"
     ]
    },
    {
     "data": {
      "application/vnd.jupyter.widget-view+json": {
       "model_id": "",
       "version_major": 2,
       "version_minor": 0
      },
      "text/plain": [
       "HBox(children=(FloatProgress(value=0.0, description='Training', layout=Layout(flex='2'), max=5000.0, style=Pro…"
      ]
     },
     "metadata": {},
     "output_type": "display_data"
    },
    {
     "name": "stdout",
     "output_type": "stream",
     "text": [
      "Epoch 57: train=0.602451, val=0.399489, took 583.97 s\n"
     ]
    },
    {
     "data": {
      "application/vnd.jupyter.widget-view+json": {
       "model_id": "",
       "version_major": 2,
       "version_minor": 0
      },
      "text/plain": [
       "HBox(children=(FloatProgress(value=0.0, description='Training', layout=Layout(flex='2'), max=5000.0, style=Pro…"
      ]
     },
     "metadata": {},
     "output_type": "display_data"
    },
    {
     "name": "stdout",
     "output_type": "stream",
     "text": [
      "Epoch 58: train=0.603153, val=0.48113, took 584.07 s\n"
     ]
    },
    {
     "data": {
      "application/vnd.jupyter.widget-view+json": {
       "model_id": "",
       "version_major": 2,
       "version_minor": 0
      },
      "text/plain": [
       "HBox(children=(FloatProgress(value=0.0, description='Training', layout=Layout(flex='2'), max=5000.0, style=Pro…"
      ]
     },
     "metadata": {},
     "output_type": "display_data"
    },
    {
     "name": "stdout",
     "output_type": "stream",
     "text": [
      "Epoch 59: train=0.602771, val=0.398794, took 585.37 s\n"
     ]
    },
    {
     "data": {
      "application/vnd.jupyter.widget-view+json": {
       "model_id": "",
       "version_major": 2,
       "version_minor": 0
      },
      "text/plain": [
       "HBox(children=(FloatProgress(value=0.0, description='Training', layout=Layout(flex='2'), max=5000.0, style=Pro…"
      ]
     },
     "metadata": {},
     "output_type": "display_data"
    },
    {
     "name": "stdout",
     "output_type": "stream",
     "text": [
      "Epoch 60: train=0.602917, val=0.407561, took 585.1 s\n"
     ]
    },
    {
     "data": {
      "application/vnd.jupyter.widget-view+json": {
       "model_id": "",
       "version_major": 2,
       "version_minor": 0
      },
      "text/plain": [
       "HBox(children=(FloatProgress(value=0.0, description='Training', layout=Layout(flex='2'), max=5000.0, style=Pro…"
      ]
     },
     "metadata": {},
     "output_type": "display_data"
    },
    {
     "name": "stdout",
     "output_type": "stream",
     "text": [
      "Epoch 61: train=0.602086, val=0.399924, took 584.8 s\n"
     ]
    },
    {
     "data": {
      "application/vnd.jupyter.widget-view+json": {
       "model_id": "",
       "version_major": 2,
       "version_minor": 0
      },
      "text/plain": [
       "HBox(children=(FloatProgress(value=0.0, description='Training', layout=Layout(flex='2'), max=5000.0, style=Pro…"
      ]
     },
     "metadata": {},
     "output_type": "display_data"
    },
    {
     "name": "stdout",
     "output_type": "stream",
     "text": [
      "Epoch 62: train=0.601571, val=0.403425, took 585.41 s\n"
     ]
    },
    {
     "data": {
      "application/vnd.jupyter.widget-view+json": {
       "model_id": "",
       "version_major": 2,
       "version_minor": 0
      },
      "text/plain": [
       "HBox(children=(FloatProgress(value=0.0, description='Training', layout=Layout(flex='2'), max=5000.0, style=Pro…"
      ]
     },
     "metadata": {},
     "output_type": "display_data"
    },
    {
     "name": "stdout",
     "output_type": "stream",
     "text": [
      "Epoch 63: train=0.602867, val=0.4, took 584.45 s\n"
     ]
    },
    {
     "data": {
      "application/vnd.jupyter.widget-view+json": {
       "model_id": "",
       "version_major": 2,
       "version_minor": 0
      },
      "text/plain": [
       "HBox(children=(FloatProgress(value=0.0, description='Training', layout=Layout(flex='2'), max=5000.0, style=Pro…"
      ]
     },
     "metadata": {},
     "output_type": "display_data"
    },
    {
     "name": "stdout",
     "output_type": "stream",
     "text": [
      "Epoch 64: train=0.601157, val=0.405801, took 585.69 s\n"
     ]
    },
    {
     "data": {
      "application/vnd.jupyter.widget-view+json": {
       "model_id": "",
       "version_major": 2,
       "version_minor": 0
      },
      "text/plain": [
       "HBox(children=(FloatProgress(value=0.0, description='Training', layout=Layout(flex='2'), max=5000.0, style=Pro…"
      ]
     },
     "metadata": {},
     "output_type": "display_data"
    },
    {
     "name": "stdout",
     "output_type": "stream",
     "text": [
      "Epoch 65: train=0.60064, val=0.399149, took 585.91 s\n"
     ]
    },
    {
     "data": {
      "application/vnd.jupyter.widget-view+json": {
       "model_id": "",
       "version_major": 2,
       "version_minor": 0
      },
      "text/plain": [
       "HBox(children=(FloatProgress(value=0.0, description='Training', layout=Layout(flex='2'), max=5000.0, style=Pro…"
      ]
     },
     "metadata": {},
     "output_type": "display_data"
    },
    {
     "name": "stdout",
     "output_type": "stream",
     "text": [
      "Epoch 66: train=0.602928, val=0.397356, took 584.83 s\n"
     ]
    },
    {
     "data": {
      "application/vnd.jupyter.widget-view+json": {
       "model_id": "",
       "version_major": 2,
       "version_minor": 0
      },
      "text/plain": [
       "HBox(children=(FloatProgress(value=0.0, description='Training', layout=Layout(flex='2'), max=5000.0, style=Pro…"
      ]
     },
     "metadata": {},
     "output_type": "display_data"
    },
    {
     "name": "stdout",
     "output_type": "stream",
     "text": [
      "Epoch 67: train=0.601327, val=0.402086, took 584.33 s\n"
     ]
    },
    {
     "data": {
      "application/vnd.jupyter.widget-view+json": {
       "model_id": "",
       "version_major": 2,
       "version_minor": 0
      },
      "text/plain": [
       "HBox(children=(FloatProgress(value=0.0, description='Training', layout=Layout(flex='2'), max=5000.0, style=Pro…"
      ]
     },
     "metadata": {},
     "output_type": "display_data"
    },
    {
     "name": "stdout",
     "output_type": "stream",
     "text": [
      "Epoch 68: train=0.601048, val=0.404243, took 584.67 s\n"
     ]
    },
    {
     "data": {
      "application/vnd.jupyter.widget-view+json": {
       "model_id": "",
       "version_major": 2,
       "version_minor": 0
      },
      "text/plain": [
       "HBox(children=(FloatProgress(value=0.0, description='Training', layout=Layout(flex='2'), max=5000.0, style=Pro…"
      ]
     },
     "metadata": {},
     "output_type": "display_data"
    },
    {
     "name": "stdout",
     "output_type": "stream",
     "text": [
      "Epoch 69: train=0.599834, val=0.402835, took 585.43 s\n"
     ]
    },
    {
     "data": {
      "application/vnd.jupyter.widget-view+json": {
       "model_id": "",
       "version_major": 2,
       "version_minor": 0
      },
      "text/plain": [
       "HBox(children=(FloatProgress(value=0.0, description='Training', layout=Layout(flex='2'), max=5000.0, style=Pro…"
      ]
     },
     "metadata": {},
     "output_type": "display_data"
    },
    {
     "name": "stdout",
     "output_type": "stream",
     "text": [
      "Epoch 70: train=0.599906, val=0.400493, took 583.87 s\n"
     ]
    },
    {
     "data": {
      "application/vnd.jupyter.widget-view+json": {
       "model_id": "",
       "version_major": 2,
       "version_minor": 0
      },
      "text/plain": [
       "HBox(children=(FloatProgress(value=0.0, description='Training', layout=Layout(flex='2'), max=5000.0, style=Pro…"
      ]
     },
     "metadata": {},
     "output_type": "display_data"
    },
    {
     "name": "stdout",
     "output_type": "stream",
     "text": [
      "Epoch 71: train=0.601248, val=0.417511, took 584.75 s\n"
     ]
    },
    {
     "data": {
      "application/vnd.jupyter.widget-view+json": {
       "model_id": "",
       "version_major": 2,
       "version_minor": 0
      },
      "text/plain": [
       "HBox(children=(FloatProgress(value=0.0, description='Training', layout=Layout(flex='2'), max=5000.0, style=Pro…"
      ]
     },
     "metadata": {},
     "output_type": "display_data"
    },
    {
     "name": "stdout",
     "output_type": "stream",
     "text": [
      "Epoch 72: train=0.600443, val=0.403176, took 585.84 s\n"
     ]
    },
    {
     "data": {
      "application/vnd.jupyter.widget-view+json": {
       "model_id": "",
       "version_major": 2,
       "version_minor": 0
      },
      "text/plain": [
       "HBox(children=(FloatProgress(value=0.0, description='Training', layout=Layout(flex='2'), max=5000.0, style=Pro…"
      ]
     },
     "metadata": {},
     "output_type": "display_data"
    },
    {
     "name": "stdout",
     "output_type": "stream",
     "text": [
      "Epoch 73: train=0.599704, val=0.398329, took 585.41 s\n"
     ]
    },
    {
     "data": {
      "application/vnd.jupyter.widget-view+json": {
       "model_id": "",
       "version_major": 2,
       "version_minor": 0
      },
      "text/plain": [
       "HBox(children=(FloatProgress(value=0.0, description='Training', layout=Layout(flex='2'), max=5000.0, style=Pro…"
      ]
     },
     "metadata": {},
     "output_type": "display_data"
    },
    {
     "name": "stdout",
     "output_type": "stream",
     "text": [
      "Epoch 74: train=0.59895, val=0.420406, took 585.0 s\n"
     ]
    },
    {
     "data": {
      "application/vnd.jupyter.widget-view+json": {
       "model_id": "",
       "version_major": 2,
       "version_minor": 0
      },
      "text/plain": [
       "HBox(children=(FloatProgress(value=0.0, description='Training', layout=Layout(flex='2'), max=5000.0, style=Pro…"
      ]
     },
     "metadata": {},
     "output_type": "display_data"
    },
    {
     "name": "stdout",
     "output_type": "stream",
     "text": [
      "Epoch 75: train=0.602732, val=0.496821, took 584.79 s\n"
     ]
    },
    {
     "data": {
      "application/vnd.jupyter.widget-view+json": {
       "model_id": "",
       "version_major": 2,
       "version_minor": 0
      },
      "text/plain": [
       "HBox(children=(FloatProgress(value=0.0, description='Training', layout=Layout(flex='2'), max=5000.0, style=Pro…"
      ]
     },
     "metadata": {},
     "output_type": "display_data"
    },
    {
     "name": "stdout",
     "output_type": "stream",
     "text": [
      "Epoch 76: train=0.600087, val=0.411822, took 583.55 s\n"
     ]
    },
    {
     "data": {
      "application/vnd.jupyter.widget-view+json": {
       "model_id": "",
       "version_major": 2,
       "version_minor": 0
      },
      "text/plain": [
       "HBox(children=(FloatProgress(value=0.0, description='Training', layout=Layout(flex='2'), max=5000.0, style=Pro…"
      ]
     },
     "metadata": {},
     "output_type": "display_data"
    },
    {
     "name": "stdout",
     "output_type": "stream",
     "text": [
      "Epoch 77: train=0.6001, val=0.399091, took 585.8 s\n"
     ]
    },
    {
     "data": {
      "application/vnd.jupyter.widget-view+json": {
       "model_id": "",
       "version_major": 2,
       "version_minor": 0
      },
      "text/plain": [
       "HBox(children=(FloatProgress(value=0.0, description='Training', layout=Layout(flex='2'), max=5000.0, style=Pro…"
      ]
     },
     "metadata": {},
     "output_type": "display_data"
    },
    {
     "name": "stdout",
     "output_type": "stream",
     "text": [
      "Epoch 78: train=0.600429, val=0.459075, took 585.67 s\n"
     ]
    },
    {
     "data": {
      "application/vnd.jupyter.widget-view+json": {
       "model_id": "",
       "version_major": 2,
       "version_minor": 0
      },
      "text/plain": [
       "HBox(children=(FloatProgress(value=0.0, description='Training', layout=Layout(flex='2'), max=5000.0, style=Pro…"
      ]
     },
     "metadata": {},
     "output_type": "display_data"
    },
    {
     "name": "stdout",
     "output_type": "stream",
     "text": [
      "Epoch 79: train=0.599242, val=0.433623, took 584.44 s\n"
     ]
    },
    {
     "data": {
      "application/vnd.jupyter.widget-view+json": {
       "model_id": "",
       "version_major": 2,
       "version_minor": 0
      },
      "text/plain": [
       "HBox(children=(FloatProgress(value=0.0, description='Training', layout=Layout(flex='2'), max=5000.0, style=Pro…"
      ]
     },
     "metadata": {},
     "output_type": "display_data"
    },
    {
     "name": "stdout",
     "output_type": "stream",
     "text": [
      "Epoch 80: train=0.600639, val=0.398796, took 585.82 s\n"
     ]
    },
    {
     "data": {
      "application/vnd.jupyter.widget-view+json": {
       "model_id": "",
       "version_major": 2,
       "version_minor": 0
      },
      "text/plain": [
       "HBox(children=(FloatProgress(value=0.0, description='Training', layout=Layout(flex='2'), max=5000.0, style=Pro…"
      ]
     },
     "metadata": {},
     "output_type": "display_data"
    },
    {
     "name": "stdout",
     "output_type": "stream",
     "text": [
      "Epoch 81: train=0.598956, val=0.407979, took 585.94 s\n"
     ]
    },
    {
     "data": {
      "application/vnd.jupyter.widget-view+json": {
       "model_id": "",
       "version_major": 2,
       "version_minor": 0
      },
      "text/plain": [
       "HBox(children=(FloatProgress(value=0.0, description='Training', layout=Layout(flex='2'), max=5000.0, style=Pro…"
      ]
     },
     "metadata": {},
     "output_type": "display_data"
    },
    {
     "name": "stdout",
     "output_type": "stream",
     "text": [
      "Epoch 82: train=0.599307, val=0.405029, took 583.83 s\n"
     ]
    },
    {
     "data": {
      "application/vnd.jupyter.widget-view+json": {
       "model_id": "",
       "version_major": 2,
       "version_minor": 0
      },
      "text/plain": [
       "HBox(children=(FloatProgress(value=0.0, description='Training', layout=Layout(flex='2'), max=5000.0, style=Pro…"
      ]
     },
     "metadata": {},
     "output_type": "display_data"
    },
    {
     "name": "stdout",
     "output_type": "stream",
     "text": [
      "Epoch 83: train=0.599155, val=0.3948, took 585.8 s\n"
     ]
    },
    {
     "data": {
      "application/vnd.jupyter.widget-view+json": {
       "model_id": "",
       "version_major": 2,
       "version_minor": 0
      },
      "text/plain": [
       "HBox(children=(FloatProgress(value=0.0, description='Training', layout=Layout(flex='2'), max=5000.0, style=Pro…"
      ]
     },
     "metadata": {},
     "output_type": "display_data"
    },
    {
     "name": "stdout",
     "output_type": "stream",
     "text": [
      "Epoch 84: train=0.600753, val=0.393432, took 584.39 s\n"
     ]
    },
    {
     "data": {
      "application/vnd.jupyter.widget-view+json": {
       "model_id": "",
       "version_major": 2,
       "version_minor": 0
      },
      "text/plain": [
       "HBox(children=(FloatProgress(value=0.0, description='Training', layout=Layout(flex='2'), max=5000.0, style=Pro…"
      ]
     },
     "metadata": {},
     "output_type": "display_data"
    },
    {
     "name": "stdout",
     "output_type": "stream",
     "text": [
      "Epoch 85: train=0.598311, val=0.395273, took 585.53 s\n"
     ]
    },
    {
     "data": {
      "application/vnd.jupyter.widget-view+json": {
       "model_id": "",
       "version_major": 2,
       "version_minor": 0
      },
      "text/plain": [
       "HBox(children=(FloatProgress(value=0.0, description='Training', layout=Layout(flex='2'), max=5000.0, style=Pro…"
      ]
     },
     "metadata": {},
     "output_type": "display_data"
    },
    {
     "name": "stdout",
     "output_type": "stream",
     "text": [
      "Epoch 86: train=0.599436, val=0.395614, took 584.0 s\n"
     ]
    },
    {
     "data": {
      "application/vnd.jupyter.widget-view+json": {
       "model_id": "",
       "version_major": 2,
       "version_minor": 0
      },
      "text/plain": [
       "HBox(children=(FloatProgress(value=0.0, description='Training', layout=Layout(flex='2'), max=5000.0, style=Pro…"
      ]
     },
     "metadata": {},
     "output_type": "display_data"
    },
    {
     "name": "stdout",
     "output_type": "stream",
     "text": [
      "Epoch 87: train=0.596999, val=0.405407, took 584.77 s\n"
     ]
    },
    {
     "data": {
      "application/vnd.jupyter.widget-view+json": {
       "model_id": "",
       "version_major": 2,
       "version_minor": 0
      },
      "text/plain": [
       "HBox(children=(FloatProgress(value=0.0, description='Training', layout=Layout(flex='2'), max=5000.0, style=Pro…"
      ]
     },
     "metadata": {},
     "output_type": "display_data"
    },
    {
     "name": "stdout",
     "output_type": "stream",
     "text": [
      "Epoch 88: train=0.600332, val=0.407451, took 584.69 s\n"
     ]
    },
    {
     "data": {
      "application/vnd.jupyter.widget-view+json": {
       "model_id": "",
       "version_major": 2,
       "version_minor": 0
      },
      "text/plain": [
       "HBox(children=(FloatProgress(value=0.0, description='Training', layout=Layout(flex='2'), max=5000.0, style=Pro…"
      ]
     },
     "metadata": {},
     "output_type": "display_data"
    },
    {
     "name": "stdout",
     "output_type": "stream",
     "text": [
      "Epoch 89: train=0.597274, val=0.397777, took 585.77 s\n"
     ]
    },
    {
     "data": {
      "application/vnd.jupyter.widget-view+json": {
       "model_id": "",
       "version_major": 2,
       "version_minor": 0
      },
      "text/plain": [
       "HBox(children=(FloatProgress(value=0.0, description='Training', layout=Layout(flex='2'), max=5000.0, style=Pro…"
      ]
     },
     "metadata": {},
     "output_type": "display_data"
    },
    {
     "name": "stdout",
     "output_type": "stream",
     "text": [
      "Epoch 90: train=0.598353, val=0.397823, took 584.97 s\n"
     ]
    },
    {
     "data": {
      "application/vnd.jupyter.widget-view+json": {
       "model_id": "",
       "version_major": 2,
       "version_minor": 0
      },
      "text/plain": [
       "HBox(children=(FloatProgress(value=0.0, description='Training', layout=Layout(flex='2'), max=5000.0, style=Pro…"
      ]
     },
     "metadata": {},
     "output_type": "display_data"
    },
    {
     "name": "stdout",
     "output_type": "stream",
     "text": [
      "Epoch 91: train=0.597274, val=0.396311, took 585.5 s\n"
     ]
    },
    {
     "data": {
      "application/vnd.jupyter.widget-view+json": {
       "model_id": "",
       "version_major": 2,
       "version_minor": 0
      },
      "text/plain": [
       "HBox(children=(FloatProgress(value=0.0, description='Training', layout=Layout(flex='2'), max=5000.0, style=Pro…"
      ]
     },
     "metadata": {},
     "output_type": "display_data"
    },
    {
     "name": "stdout",
     "output_type": "stream",
     "text": [
      "Epoch 92: train=0.600451, val=0.413709, took 586.0 s\n"
     ]
    },
    {
     "data": {
      "application/vnd.jupyter.widget-view+json": {
       "model_id": "",
       "version_major": 2,
       "version_minor": 0
      },
      "text/plain": [
       "HBox(children=(FloatProgress(value=0.0, description='Training', layout=Layout(flex='2'), max=5000.0, style=Pro…"
      ]
     },
     "metadata": {},
     "output_type": "display_data"
    },
    {
     "name": "stdout",
     "output_type": "stream",
     "text": [
      "Epoch 93: train=0.597203, val=0.413046, took 585.67 s\n"
     ]
    },
    {
     "data": {
      "application/vnd.jupyter.widget-view+json": {
       "model_id": "",
       "version_major": 2,
       "version_minor": 0
      },
      "text/plain": [
       "HBox(children=(FloatProgress(value=0.0, description='Training', layout=Layout(flex='2'), max=5000.0, style=Pro…"
      ]
     },
     "metadata": {},
     "output_type": "display_data"
    },
    {
     "name": "stdout",
     "output_type": "stream",
     "text": [
      "Epoch 94: train=0.59701, val=0.396348, took 585.12 s\n"
     ]
    },
    {
     "data": {
      "application/vnd.jupyter.widget-view+json": {
       "model_id": "",
       "version_major": 2,
       "version_minor": 0
      },
      "text/plain": [
       "HBox(children=(FloatProgress(value=0.0, description='Training', layout=Layout(flex='2'), max=5000.0, style=Pro…"
      ]
     },
     "metadata": {},
     "output_type": "display_data"
    },
    {
     "name": "stdout",
     "output_type": "stream",
     "text": [
      "Epoch 95: train=0.59816, val=0.443122, took 585.9 s\n"
     ]
    },
    {
     "data": {
      "application/vnd.jupyter.widget-view+json": {
       "model_id": "",
       "version_major": 2,
       "version_minor": 0
      },
      "text/plain": [
       "HBox(children=(FloatProgress(value=0.0, description='Training', layout=Layout(flex='2'), max=5000.0, style=Pro…"
      ]
     },
     "metadata": {},
     "output_type": "display_data"
    },
    {
     "name": "stdout",
     "output_type": "stream",
     "text": [
      "Epoch 96: train=0.598135, val=0.390451, took 585.67 s\n"
     ]
    },
    {
     "data": {
      "application/vnd.jupyter.widget-view+json": {
       "model_id": "",
       "version_major": 2,
       "version_minor": 0
      },
      "text/plain": [
       "HBox(children=(FloatProgress(value=0.0, description='Training', layout=Layout(flex='2'), max=5000.0, style=Pro…"
      ]
     },
     "metadata": {},
     "output_type": "display_data"
    },
    {
     "name": "stdout",
     "output_type": "stream",
     "text": [
      "Epoch 97: train=0.598088, val=0.402341, took 585.13 s\n"
     ]
    },
    {
     "data": {
      "application/vnd.jupyter.widget-view+json": {
       "model_id": "",
       "version_major": 2,
       "version_minor": 0
      },
      "text/plain": [
       "HBox(children=(FloatProgress(value=0.0, description='Training', layout=Layout(flex='2'), max=5000.0, style=Pro…"
      ]
     },
     "metadata": {},
     "output_type": "display_data"
    },
    {
     "name": "stdout",
     "output_type": "stream",
     "text": [
      "Epoch 98: train=0.598469, val=0.394164, took 585.5 s\n"
     ]
    },
    {
     "data": {
      "application/vnd.jupyter.widget-view+json": {
       "model_id": "",
       "version_major": 2,
       "version_minor": 0
      },
      "text/plain": [
       "HBox(children=(FloatProgress(value=0.0, description='Training', layout=Layout(flex='2'), max=5000.0, style=Pro…"
      ]
     },
     "metadata": {},
     "output_type": "display_data"
    },
    {
     "name": "stdout",
     "output_type": "stream",
     "text": [
      "Epoch 99: train=0.595862, val=0.402888, took 583.4 s\n"
     ]
    },
    {
     "data": {
      "application/vnd.jupyter.widget-view+json": {
       "model_id": "",
       "version_major": 2,
       "version_minor": 0
      },
      "text/plain": [
       "HBox(children=(FloatProgress(value=0.0, description='Training', layout=Layout(flex='2'), max=5000.0, style=Pro…"
      ]
     },
     "metadata": {},
     "output_type": "display_data"
    },
    {
     "name": "stdout",
     "output_type": "stream",
     "text": [
      "Epoch 100: train=0.596038, val=0.419365, took 585.81 s\n"
     ]
    },
    {
     "data": {
      "application/vnd.jupyter.widget-view+json": {
       "model_id": "",
       "version_major": 2,
       "version_minor": 0
      },
      "text/plain": [
       "HBox(children=(FloatProgress(value=0.0, description='Training', layout=Layout(flex='2'), max=5000.0, style=Pro…"
      ]
     },
     "metadata": {},
     "output_type": "display_data"
    },
    {
     "name": "stdout",
     "output_type": "stream",
     "text": [
      "Epoch 101: train=0.597858, val=0.409712, took 585.3 s\n"
     ]
    },
    {
     "data": {
      "application/vnd.jupyter.widget-view+json": {
       "model_id": "",
       "version_major": 2,
       "version_minor": 0
      },
      "text/plain": [
       "HBox(children=(FloatProgress(value=0.0, description='Training', layout=Layout(flex='2'), max=5000.0, style=Pro…"
      ]
     },
     "metadata": {},
     "output_type": "display_data"
    },
    {
     "name": "stdout",
     "output_type": "stream",
     "text": [
      "Epoch 102: train=0.596632, val=0.397634, took 585.14 s\n"
     ]
    },
    {
     "data": {
      "application/vnd.jupyter.widget-view+json": {
       "model_id": "",
       "version_major": 2,
       "version_minor": 0
      },
      "text/plain": [
       "HBox(children=(FloatProgress(value=0.0, description='Training', layout=Layout(flex='2'), max=5000.0, style=Pro…"
      ]
     },
     "metadata": {},
     "output_type": "display_data"
    },
    {
     "name": "stdout",
     "output_type": "stream",
     "text": [
      "Epoch 103: train=0.597287, val=0.391902, took 582.68 s\n"
     ]
    },
    {
     "data": {
      "application/vnd.jupyter.widget-view+json": {
       "model_id": "",
       "version_major": 2,
       "version_minor": 0
      },
      "text/plain": [
       "HBox(children=(FloatProgress(value=0.0, description='Training', layout=Layout(flex='2'), max=5000.0, style=Pro…"
      ]
     },
     "metadata": {},
     "output_type": "display_data"
    },
    {
     "name": "stdout",
     "output_type": "stream",
     "text": [
      "Epoch 104: train=0.59628, val=0.394079, took 585.79 s\n"
     ]
    },
    {
     "data": {
      "application/vnd.jupyter.widget-view+json": {
       "model_id": "",
       "version_major": 2,
       "version_minor": 0
      },
      "text/plain": [
       "HBox(children=(FloatProgress(value=0.0, description='Training', layout=Layout(flex='2'), max=5000.0, style=Pro…"
      ]
     },
     "metadata": {},
     "output_type": "display_data"
    },
    {
     "name": "stdout",
     "output_type": "stream",
     "text": [
      "Epoch 105: train=0.595122, val=0.402815, took 584.17 s\n"
     ]
    },
    {
     "data": {
      "application/vnd.jupyter.widget-view+json": {
       "model_id": "",
       "version_major": 2,
       "version_minor": 0
      },
      "text/plain": [
       "HBox(children=(FloatProgress(value=0.0, description='Training', layout=Layout(flex='2'), max=5000.0, style=Pro…"
      ]
     },
     "metadata": {},
     "output_type": "display_data"
    },
    {
     "name": "stdout",
     "output_type": "stream",
     "text": [
      "Epoch 106: train=0.597652, val=0.395631, took 585.7 s\n"
     ]
    },
    {
     "data": {
      "application/vnd.jupyter.widget-view+json": {
       "model_id": "",
       "version_major": 2,
       "version_minor": 0
      },
      "text/plain": [
       "HBox(children=(FloatProgress(value=0.0, description='Training', layout=Layout(flex='2'), max=5000.0, style=Pro…"
      ]
     },
     "metadata": {},
     "output_type": "display_data"
    },
    {
     "name": "stdout",
     "output_type": "stream",
     "text": [
      "Epoch 107: train=0.595912, val=0.392622, took 583.1 s\n"
     ]
    },
    {
     "data": {
      "application/vnd.jupyter.widget-view+json": {
       "model_id": "",
       "version_major": 2,
       "version_minor": 0
      },
      "text/plain": [
       "HBox(children=(FloatProgress(value=0.0, description='Training', layout=Layout(flex='2'), max=5000.0, style=Pro…"
      ]
     },
     "metadata": {},
     "output_type": "display_data"
    },
    {
     "name": "stdout",
     "output_type": "stream",
     "text": [
      "Epoch 108: train=0.595889, val=0.432597, took 585.27 s\n"
     ]
    },
    {
     "data": {
      "application/vnd.jupyter.widget-view+json": {
       "model_id": "",
       "version_major": 2,
       "version_minor": 0
      },
      "text/plain": [
       "HBox(children=(FloatProgress(value=0.0, description='Training', layout=Layout(flex='2'), max=5000.0, style=Pro…"
      ]
     },
     "metadata": {},
     "output_type": "display_data"
    },
    {
     "name": "stdout",
     "output_type": "stream",
     "text": [
      "Epoch 109: train=0.595789, val=0.391446, took 588.4 s\n"
     ]
    },
    {
     "data": {
      "application/vnd.jupyter.widget-view+json": {
       "model_id": "",
       "version_major": 2,
       "version_minor": 0
      },
      "text/plain": [
       "HBox(children=(FloatProgress(value=0.0, description='Training', layout=Layout(flex='2'), max=5000.0, style=Pro…"
      ]
     },
     "metadata": {},
     "output_type": "display_data"
    },
    {
     "name": "stdout",
     "output_type": "stream",
     "text": [
      "Epoch 110: train=0.594742, val=0.411258, took 585.7 s\n"
     ]
    },
    {
     "data": {
      "application/vnd.jupyter.widget-view+json": {
       "model_id": "",
       "version_major": 2,
       "version_minor": 0
      },
      "text/plain": [
       "HBox(children=(FloatProgress(value=0.0, description='Training', layout=Layout(flex='2'), max=5000.0, style=Pro…"
      ]
     },
     "metadata": {},
     "output_type": "display_data"
    },
    {
     "name": "stdout",
     "output_type": "stream",
     "text": [
      "Epoch 111: train=0.595166, val=0.402003, took 585.02 s\n"
     ]
    },
    {
     "data": {
      "application/vnd.jupyter.widget-view+json": {
       "model_id": "",
       "version_major": 2,
       "version_minor": 0
      },
      "text/plain": [
       "HBox(children=(FloatProgress(value=0.0, description='Training', layout=Layout(flex='2'), max=5000.0, style=Pro…"
      ]
     },
     "metadata": {},
     "output_type": "display_data"
    },
    {
     "name": "stdout",
     "output_type": "stream",
     "text": [
      "Epoch 112: train=0.595481, val=0.395484, took 585.88 s\n"
     ]
    },
    {
     "data": {
      "application/vnd.jupyter.widget-view+json": {
       "model_id": "",
       "version_major": 2,
       "version_minor": 0
      },
      "text/plain": [
       "HBox(children=(FloatProgress(value=0.0, description='Training', layout=Layout(flex='2'), max=5000.0, style=Pro…"
      ]
     },
     "metadata": {},
     "output_type": "display_data"
    },
    {
     "name": "stdout",
     "output_type": "stream",
     "text": [
      "Epoch 113: train=0.594728, val=0.391673, took 586.2 s\n"
     ]
    },
    {
     "data": {
      "application/vnd.jupyter.widget-view+json": {
       "model_id": "",
       "version_major": 2,
       "version_minor": 0
      },
      "text/plain": [
       "HBox(children=(FloatProgress(value=0.0, description='Training', layout=Layout(flex='2'), max=5000.0, style=Pro…"
      ]
     },
     "metadata": {},
     "output_type": "display_data"
    },
    {
     "name": "stdout",
     "output_type": "stream",
     "text": [
      "Epoch 114: train=0.594473, val=0.39987, took 585.21 s\n"
     ]
    },
    {
     "data": {
      "application/vnd.jupyter.widget-view+json": {
       "model_id": "",
       "version_major": 2,
       "version_minor": 0
      },
      "text/plain": [
       "HBox(children=(FloatProgress(value=0.0, description='Training', layout=Layout(flex='2'), max=5000.0, style=Pro…"
      ]
     },
     "metadata": {},
     "output_type": "display_data"
    },
    {
     "name": "stdout",
     "output_type": "stream",
     "text": [
      "Epoch 115: train=0.595426, val=0.392163, took 585.29 s\n"
     ]
    },
    {
     "data": {
      "application/vnd.jupyter.widget-view+json": {
       "model_id": "",
       "version_major": 2,
       "version_minor": 0
      },
      "text/plain": [
       "HBox(children=(FloatProgress(value=0.0, description='Training', layout=Layout(flex='2'), max=5000.0, style=Pro…"
      ]
     },
     "metadata": {},
     "output_type": "display_data"
    },
    {
     "name": "stdout",
     "output_type": "stream",
     "text": [
      "Epoch 116: train=0.596836, val=0.39335, took 584.96 s\n"
     ]
    },
    {
     "data": {
      "application/vnd.jupyter.widget-view+json": {
       "model_id": "",
       "version_major": 2,
       "version_minor": 0
      },
      "text/plain": [
       "HBox(children=(FloatProgress(value=0.0, description='Training', layout=Layout(flex='2'), max=5000.0, style=Pro…"
      ]
     },
     "metadata": {},
     "output_type": "display_data"
    },
    {
     "name": "stdout",
     "output_type": "stream",
     "text": [
      "Epoch 117: train=0.594358, val=0.395902, took 585.64 s\n"
     ]
    },
    {
     "data": {
      "application/vnd.jupyter.widget-view+json": {
       "model_id": "",
       "version_major": 2,
       "version_minor": 0
      },
      "text/plain": [
       "HBox(children=(FloatProgress(value=0.0, description='Training', layout=Layout(flex='2'), max=5000.0, style=Pro…"
      ]
     },
     "metadata": {},
     "output_type": "display_data"
    },
    {
     "name": "stdout",
     "output_type": "stream",
     "text": [
      "Epoch 118: train=0.594176, val=0.392624, took 584.56 s\n"
     ]
    },
    {
     "data": {
      "application/vnd.jupyter.widget-view+json": {
       "model_id": "",
       "version_major": 2,
       "version_minor": 0
      },
      "text/plain": [
       "HBox(children=(FloatProgress(value=0.0, description='Training', layout=Layout(flex='2'), max=5000.0, style=Pro…"
      ]
     },
     "metadata": {},
     "output_type": "display_data"
    },
    {
     "name": "stdout",
     "output_type": "stream",
     "text": [
      "Epoch 119: train=0.59476, val=0.402742, took 584.31 s\n"
     ]
    },
    {
     "data": {
      "application/vnd.jupyter.widget-view+json": {
       "model_id": "",
       "version_major": 2,
       "version_minor": 0
      },
      "text/plain": [
       "HBox(children=(FloatProgress(value=0.0, description='Training', layout=Layout(flex='2'), max=5000.0, style=Pro…"
      ]
     },
     "metadata": {},
     "output_type": "display_data"
    },
    {
     "name": "stdout",
     "output_type": "stream",
     "text": [
      "Epoch 120: train=0.593201, val=0.391766, took 584.43 s\n"
     ]
    },
    {
     "data": {
      "application/vnd.jupyter.widget-view+json": {
       "model_id": "",
       "version_major": 2,
       "version_minor": 0
      },
      "text/plain": [
       "HBox(children=(FloatProgress(value=0.0, description='Training', layout=Layout(flex='2'), max=5000.0, style=Pro…"
      ]
     },
     "metadata": {},
     "output_type": "display_data"
    },
    {
     "name": "stdout",
     "output_type": "stream",
     "text": [
      "Epoch 121: train=0.593089, val=0.405764, took 584.4 s\n"
     ]
    },
    {
     "data": {
      "application/vnd.jupyter.widget-view+json": {
       "model_id": "",
       "version_major": 2,
       "version_minor": 0
      },
      "text/plain": [
       "HBox(children=(FloatProgress(value=0.0, description='Training', layout=Layout(flex='2'), max=5000.0, style=Pro…"
      ]
     },
     "metadata": {},
     "output_type": "display_data"
    },
    {
     "name": "stdout",
     "output_type": "stream",
     "text": [
      "Epoch 122: train=0.593778, val=0.402387, took 583.57 s\n"
     ]
    },
    {
     "data": {
      "application/vnd.jupyter.widget-view+json": {
       "model_id": "",
       "version_major": 2,
       "version_minor": 0
      },
      "text/plain": [
       "HBox(children=(FloatProgress(value=0.0, description='Training', layout=Layout(flex='2'), max=5000.0, style=Pro…"
      ]
     },
     "metadata": {},
     "output_type": "display_data"
    },
    {
     "name": "stdout",
     "output_type": "stream",
     "text": [
      "Epoch 123: train=0.593548, val=0.397531, took 586.3 s\n"
     ]
    },
    {
     "data": {
      "application/vnd.jupyter.widget-view+json": {
       "model_id": "",
       "version_major": 2,
       "version_minor": 0
      },
      "text/plain": [
       "HBox(children=(FloatProgress(value=0.0, description='Training', layout=Layout(flex='2'), max=5000.0, style=Pro…"
      ]
     },
     "metadata": {},
     "output_type": "display_data"
    },
    {
     "name": "stdout",
     "output_type": "stream",
     "text": [
      "Epoch 124: train=0.594848, val=0.407809, took 584.39 s\n"
     ]
    },
    {
     "data": {
      "application/vnd.jupyter.widget-view+json": {
       "model_id": "",
       "version_major": 2,
       "version_minor": 0
      },
      "text/plain": [
       "HBox(children=(FloatProgress(value=0.0, description='Training', layout=Layout(flex='2'), max=5000.0, style=Pro…"
      ]
     },
     "metadata": {},
     "output_type": "display_data"
    },
    {
     "name": "stdout",
     "output_type": "stream",
     "text": [
      "Epoch 125: train=0.595139, val=0.389088, took 584.68 s\n"
     ]
    },
    {
     "data": {
      "application/vnd.jupyter.widget-view+json": {
       "model_id": "",
       "version_major": 2,
       "version_minor": 0
      },
      "text/plain": [
       "HBox(children=(FloatProgress(value=0.0, description='Training', layout=Layout(flex='2'), max=5000.0, style=Pro…"
      ]
     },
     "metadata": {},
     "output_type": "display_data"
    },
    {
     "name": "stdout",
     "output_type": "stream",
     "text": [
      "Epoch 126: train=0.592299, val=0.415426, took 584.75 s\n"
     ]
    },
    {
     "data": {
      "application/vnd.jupyter.widget-view+json": {
       "model_id": "",
       "version_major": 2,
       "version_minor": 0
      },
      "text/plain": [
       "HBox(children=(FloatProgress(value=0.0, description='Training', layout=Layout(flex='2'), max=5000.0, style=Pro…"
      ]
     },
     "metadata": {},
     "output_type": "display_data"
    },
    {
     "name": "stdout",
     "output_type": "stream",
     "text": [
      "Epoch 127: train=0.591978, val=0.393131, took 584.6 s\n"
     ]
    },
    {
     "data": {
      "application/vnd.jupyter.widget-view+json": {
       "model_id": "",
       "version_major": 2,
       "version_minor": 0
      },
      "text/plain": [
       "HBox(children=(FloatProgress(value=0.0, description='Training', layout=Layout(flex='2'), max=5000.0, style=Pro…"
      ]
     },
     "metadata": {},
     "output_type": "display_data"
    },
    {
     "name": "stdout",
     "output_type": "stream",
     "text": [
      "Epoch 128: train=0.592561, val=0.443884, took 585.97 s\n"
     ]
    },
    {
     "data": {
      "application/vnd.jupyter.widget-view+json": {
       "model_id": "",
       "version_major": 2,
       "version_minor": 0
      },
      "text/plain": [
       "HBox(children=(FloatProgress(value=0.0, description='Training', layout=Layout(flex='2'), max=5000.0, style=Pro…"
      ]
     },
     "metadata": {},
     "output_type": "display_data"
    },
    {
     "name": "stdout",
     "output_type": "stream",
     "text": [
      "Epoch 129: train=0.593274, val=0.405102, took 584.93 s\n"
     ]
    },
    {
     "data": {
      "application/vnd.jupyter.widget-view+json": {
       "model_id": "",
       "version_major": 2,
       "version_minor": 0
      },
      "text/plain": [
       "HBox(children=(FloatProgress(value=0.0, description='Training', layout=Layout(flex='2'), max=5000.0, style=Pro…"
      ]
     },
     "metadata": {},
     "output_type": "display_data"
    },
    {
     "name": "stdout",
     "output_type": "stream",
     "text": [
      "Epoch 130: train=0.592182, val=0.417598, took 586.5 s\n"
     ]
    },
    {
     "data": {
      "application/vnd.jupyter.widget-view+json": {
       "model_id": "",
       "version_major": 2,
       "version_minor": 0
      },
      "text/plain": [
       "HBox(children=(FloatProgress(value=0.0, description='Training', layout=Layout(flex='2'), max=5000.0, style=Pro…"
      ]
     },
     "metadata": {},
     "output_type": "display_data"
    },
    {
     "name": "stdout",
     "output_type": "stream",
     "text": [
      "Epoch 131: train=0.593759, val=0.40772, took 585.18 s\n"
     ]
    },
    {
     "data": {
      "application/vnd.jupyter.widget-view+json": {
       "model_id": "",
       "version_major": 2,
       "version_minor": 0
      },
      "text/plain": [
       "HBox(children=(FloatProgress(value=0.0, description='Training', layout=Layout(flex='2'), max=5000.0, style=Pro…"
      ]
     },
     "metadata": {},
     "output_type": "display_data"
    },
    {
     "name": "stdout",
     "output_type": "stream",
     "text": [
      "Epoch 132: train=0.591422, val=0.388734, took 584.26 s\n"
     ]
    },
    {
     "data": {
      "application/vnd.jupyter.widget-view+json": {
       "model_id": "",
       "version_major": 2,
       "version_minor": 0
      },
      "text/plain": [
       "HBox(children=(FloatProgress(value=0.0, description='Training', layout=Layout(flex='2'), max=5000.0, style=Pro…"
      ]
     },
     "metadata": {},
     "output_type": "display_data"
    },
    {
     "name": "stdout",
     "output_type": "stream",
     "text": [
      "Epoch 133: train=0.592647, val=0.390575, took 584.76 s\n"
     ]
    },
    {
     "data": {
      "application/vnd.jupyter.widget-view+json": {
       "model_id": "",
       "version_major": 2,
       "version_minor": 0
      },
      "text/plain": [
       "HBox(children=(FloatProgress(value=0.0, description='Training', layout=Layout(flex='2'), max=5000.0, style=Pro…"
      ]
     },
     "metadata": {},
     "output_type": "display_data"
    },
    {
     "name": "stdout",
     "output_type": "stream",
     "text": [
      "Epoch 134: train=0.591839, val=0.397398, took 584.84 s\n"
     ]
    },
    {
     "data": {
      "application/vnd.jupyter.widget-view+json": {
       "model_id": "",
       "version_major": 2,
       "version_minor": 0
      },
      "text/plain": [
       "HBox(children=(FloatProgress(value=0.0, description='Training', layout=Layout(flex='2'), max=5000.0, style=Pro…"
      ]
     },
     "metadata": {},
     "output_type": "display_data"
    },
    {
     "name": "stdout",
     "output_type": "stream",
     "text": [
      "Epoch 135: train=0.592956, val=0.418951, took 584.54 s\n"
     ]
    },
    {
     "data": {
      "application/vnd.jupyter.widget-view+json": {
       "model_id": "",
       "version_major": 2,
       "version_minor": 0
      },
      "text/plain": [
       "HBox(children=(FloatProgress(value=0.0, description='Training', layout=Layout(flex='2'), max=5000.0, style=Pro…"
      ]
     },
     "metadata": {},
     "output_type": "display_data"
    },
    {
     "name": "stdout",
     "output_type": "stream",
     "text": [
      "Epoch 136: train=0.591711, val=0.390254, took 584.36 s\n"
     ]
    },
    {
     "data": {
      "application/vnd.jupyter.widget-view+json": {
       "model_id": "",
       "version_major": 2,
       "version_minor": 0
      },
      "text/plain": [
       "HBox(children=(FloatProgress(value=0.0, description='Training', layout=Layout(flex='2'), max=5000.0, style=Pro…"
      ]
     },
     "metadata": {},
     "output_type": "display_data"
    },
    {
     "name": "stdout",
     "output_type": "stream",
     "text": [
      "Epoch 137: train=0.591813, val=0.493954, took 584.96 s\n"
     ]
    },
    {
     "data": {
      "application/vnd.jupyter.widget-view+json": {
       "model_id": "",
       "version_major": 2,
       "version_minor": 0
      },
      "text/plain": [
       "HBox(children=(FloatProgress(value=0.0, description='Training', layout=Layout(flex='2'), max=5000.0, style=Pro…"
      ]
     },
     "metadata": {},
     "output_type": "display_data"
    },
    {
     "name": "stdout",
     "output_type": "stream",
     "text": [
      "Epoch 138: train=0.591322, val=0.392347, took 586.18 s\n"
     ]
    },
    {
     "data": {
      "application/vnd.jupyter.widget-view+json": {
       "model_id": "",
       "version_major": 2,
       "version_minor": 0
      },
      "text/plain": [
       "HBox(children=(FloatProgress(value=0.0, description='Training', layout=Layout(flex='2'), max=5000.0, style=Pro…"
      ]
     },
     "metadata": {},
     "output_type": "display_data"
    },
    {
     "name": "stdout",
     "output_type": "stream",
     "text": [
      "Epoch 139: train=0.591737, val=0.42129, took 583.94 s\n"
     ]
    },
    {
     "data": {
      "application/vnd.jupyter.widget-view+json": {
       "model_id": "",
       "version_major": 2,
       "version_minor": 0
      },
      "text/plain": [
       "HBox(children=(FloatProgress(value=0.0, description='Training', layout=Layout(flex='2'), max=5000.0, style=Pro…"
      ]
     },
     "metadata": {},
     "output_type": "display_data"
    },
    {
     "name": "stdout",
     "output_type": "stream",
     "text": [
      "Epoch 140: train=0.591124, val=0.400793, took 584.38 s\n"
     ]
    },
    {
     "data": {
      "application/vnd.jupyter.widget-view+json": {
       "model_id": "",
       "version_major": 2,
       "version_minor": 0
      },
      "text/plain": [
       "HBox(children=(FloatProgress(value=0.0, description='Training', layout=Layout(flex='2'), max=5000.0, style=Pro…"
      ]
     },
     "metadata": {},
     "output_type": "display_data"
    },
    {
     "name": "stdout",
     "output_type": "stream",
     "text": [
      "Epoch 141: train=0.591271, val=0.392005, took 585.72 s\n"
     ]
    },
    {
     "data": {
      "application/vnd.jupyter.widget-view+json": {
       "model_id": "",
       "version_major": 2,
       "version_minor": 0
      },
      "text/plain": [
       "HBox(children=(FloatProgress(value=0.0, description='Training', layout=Layout(flex='2'), max=5000.0, style=Pro…"
      ]
     },
     "metadata": {},
     "output_type": "display_data"
    },
    {
     "name": "stdout",
     "output_type": "stream",
     "text": [
      "Epoch 142: train=0.590748, val=0.400522, took 585.49 s\n"
     ]
    },
    {
     "data": {
      "application/vnd.jupyter.widget-view+json": {
       "model_id": "",
       "version_major": 2,
       "version_minor": 0
      },
      "text/plain": [
       "HBox(children=(FloatProgress(value=0.0, description='Training', layout=Layout(flex='2'), max=5000.0, style=Pro…"
      ]
     },
     "metadata": {},
     "output_type": "display_data"
    },
    {
     "name": "stdout",
     "output_type": "stream",
     "text": [
      "Epoch 143: train=0.591553, val=0.398607, took 583.99 s\n"
     ]
    },
    {
     "data": {
      "application/vnd.jupyter.widget-view+json": {
       "model_id": "",
       "version_major": 2,
       "version_minor": 0
      },
      "text/plain": [
       "HBox(children=(FloatProgress(value=0.0, description='Training', layout=Layout(flex='2'), max=5000.0, style=Pro…"
      ]
     },
     "metadata": {},
     "output_type": "display_data"
    },
    {
     "name": "stdout",
     "output_type": "stream",
     "text": [
      "Epoch 144: train=0.59073, val=0.421532, took 584.35 s\n"
     ]
    },
    {
     "data": {
      "application/vnd.jupyter.widget-view+json": {
       "model_id": "",
       "version_major": 2,
       "version_minor": 0
      },
      "text/plain": [
       "HBox(children=(FloatProgress(value=0.0, description='Training', layout=Layout(flex='2'), max=5000.0, style=Pro…"
      ]
     },
     "metadata": {},
     "output_type": "display_data"
    },
    {
     "name": "stdout",
     "output_type": "stream",
     "text": [
      "Epoch 145: train=0.590634, val=0.389044, took 586.3 s\n"
     ]
    },
    {
     "data": {
      "application/vnd.jupyter.widget-view+json": {
       "model_id": "",
       "version_major": 2,
       "version_minor": 0
      },
      "text/plain": [
       "HBox(children=(FloatProgress(value=0.0, description='Training', layout=Layout(flex='2'), max=5000.0, style=Pro…"
      ]
     },
     "metadata": {},
     "output_type": "display_data"
    },
    {
     "name": "stdout",
     "output_type": "stream",
     "text": [
      "Epoch 146: train=0.58945, val=0.392326, took 585.17 s\n"
     ]
    },
    {
     "data": {
      "application/vnd.jupyter.widget-view+json": {
       "model_id": "",
       "version_major": 2,
       "version_minor": 0
      },
      "text/plain": [
       "HBox(children=(FloatProgress(value=0.0, description='Training', layout=Layout(flex='2'), max=5000.0, style=Pro…"
      ]
     },
     "metadata": {},
     "output_type": "display_data"
    },
    {
     "name": "stdout",
     "output_type": "stream",
     "text": [
      "Epoch 147: train=0.59092, val=0.38937, took 584.89 s\n"
     ]
    },
    {
     "data": {
      "application/vnd.jupyter.widget-view+json": {
       "model_id": "",
       "version_major": 2,
       "version_minor": 0
      },
      "text/plain": [
       "HBox(children=(FloatProgress(value=0.0, description='Training', layout=Layout(flex='2'), max=5000.0, style=Pro…"
      ]
     },
     "metadata": {},
     "output_type": "display_data"
    },
    {
     "name": "stdout",
     "output_type": "stream",
     "text": [
      "Epoch 148: train=0.589981, val=0.396255, took 585.12 s\n"
     ]
    },
    {
     "data": {
      "application/vnd.jupyter.widget-view+json": {
       "model_id": "",
       "version_major": 2,
       "version_minor": 0
      },
      "text/plain": [
       "HBox(children=(FloatProgress(value=0.0, description='Training', layout=Layout(flex='2'), max=5000.0, style=Pro…"
      ]
     },
     "metadata": {},
     "output_type": "display_data"
    },
    {
     "name": "stdout",
     "output_type": "stream",
     "text": [
      "Epoch 149: train=0.589212, val=0.38577, took 585.52 s\n",
      "\n"
     ]
    }
   ],
   "source": [
    "for result in trainNet(model, optimizer, loss,\n",
    "                        train_loader, val_loader,\n",
    "                        n_epochs, epoch_start=len(results),\n",
    "                        notebook=True):\n",
    "    \n",
    "    results = results.append(pd.Series(result._asdict()), ignore_index=True)\n",
    "    xs = results.index\n",
    "    \n",
    "    # Update the plot above\n",
    "    lines['train'].set_data(results.index,results.cost)\n",
    "    lines['val'].set_data(results.index,results.val)\n",
    "    \n",
    "    #filter first cost epoch (can be really large)\n",
    "    max_cost = max(max(results.cost if len(results.cost)<2 else results.cost[1:]), max(results.val))\n",
    "    min_cost = min(min(results.cost), min(results.val))\n",
    "    \n",
    "    # The plot limits need updating too\n",
    "    \n",
    "    \n",
    "    \n",
    "    ax.set_ylim(min_cost*.9, max_cost*1.1)  \n",
    "    ax.set_xlim(-.5, len(results.cost) - .5)\n",
    "\n",
    "    \n",
    "    # Redraw the figure\n",
    "    fig.canvas.draw()\n",
    "\n",
    "    # Save each model state dictionary\n",
    "    torch.save(model.state_dict(), output / f'{name}_{result.epoch}.pyt')"
   ]
  },
  {
   "cell_type": "markdown",
   "metadata": {},
   "source": [
    "Go ahead and save the final model (even though it was also saved above):"
   ]
  },
  {
   "cell_type": "code",
   "execution_count": 19,
   "metadata": {},
   "outputs": [],
   "source": [
    "torch.save(model.state_dict(), output / f'{name}_final.pyt')"
   ]
  },
  {
   "cell_type": "markdown",
   "metadata": {},
   "source": [
    "Save the output results:"
   ]
  },
  {
   "cell_type": "code",
   "execution_count": 20,
   "metadata": {},
   "outputs": [],
   "source": [
    "results.to_hdf(output / f'{name}_stats.hdf5', 'results')"
   ]
  },
  {
   "cell_type": "markdown",
   "metadata": {},
   "source": [
    "Save the plot above:"
   ]
  },
  {
   "cell_type": "code",
   "execution_count": 21,
   "metadata": {},
   "outputs": [
    {
     "data": {
      "application/javascript": [
       "/* Put everything inside the global mpl namespace */\n",
       "window.mpl = {};\n",
       "\n",
       "\n",
       "mpl.get_websocket_type = function() {\n",
       "    if (typeof(WebSocket) !== 'undefined') {\n",
       "        return WebSocket;\n",
       "    } else if (typeof(MozWebSocket) !== 'undefined') {\n",
       "        return MozWebSocket;\n",
       "    } else {\n",
       "        alert('Your browser does not have WebSocket support. ' +\n",
       "              'Please try Chrome, Safari or Firefox ≥ 6. ' +\n",
       "              'Firefox 4 and 5 are also supported but you ' +\n",
       "              'have to enable WebSockets in about:config.');\n",
       "    };\n",
       "}\n",
       "\n",
       "mpl.figure = function(figure_id, websocket, ondownload, parent_element) {\n",
       "    this.id = figure_id;\n",
       "\n",
       "    this.ws = websocket;\n",
       "\n",
       "    this.supports_binary = (this.ws.binaryType != undefined);\n",
       "\n",
       "    if (!this.supports_binary) {\n",
       "        var warnings = document.getElementById(\"mpl-warnings\");\n",
       "        if (warnings) {\n",
       "            warnings.style.display = 'block';\n",
       "            warnings.textContent = (\n",
       "                \"This browser does not support binary websocket messages. \" +\n",
       "                    \"Performance may be slow.\");\n",
       "        }\n",
       "    }\n",
       "\n",
       "    this.imageObj = new Image();\n",
       "\n",
       "    this.context = undefined;\n",
       "    this.message = undefined;\n",
       "    this.canvas = undefined;\n",
       "    this.rubberband_canvas = undefined;\n",
       "    this.rubberband_context = undefined;\n",
       "    this.format_dropdown = undefined;\n",
       "\n",
       "    this.image_mode = 'full';\n",
       "\n",
       "    this.root = $('<div/>');\n",
       "    this._root_extra_style(this.root)\n",
       "    this.root.attr('style', 'display: inline-block');\n",
       "\n",
       "    $(parent_element).append(this.root);\n",
       "\n",
       "    this._init_header(this);\n",
       "    this._init_canvas(this);\n",
       "    this._init_toolbar(this);\n",
       "\n",
       "    var fig = this;\n",
       "\n",
       "    this.waiting = false;\n",
       "\n",
       "    this.ws.onopen =  function () {\n",
       "            fig.send_message(\"supports_binary\", {value: fig.supports_binary});\n",
       "            fig.send_message(\"send_image_mode\", {});\n",
       "            if (mpl.ratio != 1) {\n",
       "                fig.send_message(\"set_dpi_ratio\", {'dpi_ratio': mpl.ratio});\n",
       "            }\n",
       "            fig.send_message(\"refresh\", {});\n",
       "        }\n",
       "\n",
       "    this.imageObj.onload = function() {\n",
       "            if (fig.image_mode == 'full') {\n",
       "                // Full images could contain transparency (where diff images\n",
       "                // almost always do), so we need to clear the canvas so that\n",
       "                // there is no ghosting.\n",
       "                fig.context.clearRect(0, 0, fig.canvas.width, fig.canvas.height);\n",
       "            }\n",
       "            fig.context.drawImage(fig.imageObj, 0, 0);\n",
       "        };\n",
       "\n",
       "    this.imageObj.onunload = function() {\n",
       "        fig.ws.close();\n",
       "    }\n",
       "\n",
       "    this.ws.onmessage = this._make_on_message_function(this);\n",
       "\n",
       "    this.ondownload = ondownload;\n",
       "}\n",
       "\n",
       "mpl.figure.prototype._init_header = function() {\n",
       "    var titlebar = $(\n",
       "        '<div class=\"ui-dialog-titlebar ui-widget-header ui-corner-all ' +\n",
       "        'ui-helper-clearfix\"/>');\n",
       "    var titletext = $(\n",
       "        '<div class=\"ui-dialog-title\" style=\"width: 100%; ' +\n",
       "        'text-align: center; padding: 3px;\"/>');\n",
       "    titlebar.append(titletext)\n",
       "    this.root.append(titlebar);\n",
       "    this.header = titletext[0];\n",
       "}\n",
       "\n",
       "\n",
       "\n",
       "mpl.figure.prototype._canvas_extra_style = function(canvas_div) {\n",
       "\n",
       "}\n",
       "\n",
       "\n",
       "mpl.figure.prototype._root_extra_style = function(canvas_div) {\n",
       "\n",
       "}\n",
       "\n",
       "mpl.figure.prototype._init_canvas = function() {\n",
       "    var fig = this;\n",
       "\n",
       "    var canvas_div = $('<div/>');\n",
       "\n",
       "    canvas_div.attr('style', 'position: relative; clear: both; outline: 0');\n",
       "\n",
       "    function canvas_keyboard_event(event) {\n",
       "        return fig.key_event(event, event['data']);\n",
       "    }\n",
       "\n",
       "    canvas_div.keydown('key_press', canvas_keyboard_event);\n",
       "    canvas_div.keyup('key_release', canvas_keyboard_event);\n",
       "    this.canvas_div = canvas_div\n",
       "    this._canvas_extra_style(canvas_div)\n",
       "    this.root.append(canvas_div);\n",
       "\n",
       "    var canvas = $('<canvas/>');\n",
       "    canvas.addClass('mpl-canvas');\n",
       "    canvas.attr('style', \"left: 0; top: 0; z-index: 0; outline: 0\")\n",
       "\n",
       "    this.canvas = canvas[0];\n",
       "    this.context = canvas[0].getContext(\"2d\");\n",
       "\n",
       "    var backingStore = this.context.backingStorePixelRatio ||\n",
       "\tthis.context.webkitBackingStorePixelRatio ||\n",
       "\tthis.context.mozBackingStorePixelRatio ||\n",
       "\tthis.context.msBackingStorePixelRatio ||\n",
       "\tthis.context.oBackingStorePixelRatio ||\n",
       "\tthis.context.backingStorePixelRatio || 1;\n",
       "\n",
       "    mpl.ratio = (window.devicePixelRatio || 1) / backingStore;\n",
       "\n",
       "    var rubberband = $('<canvas/>');\n",
       "    rubberband.attr('style', \"position: absolute; left: 0; top: 0; z-index: 1;\")\n",
       "\n",
       "    var pass_mouse_events = true;\n",
       "\n",
       "    canvas_div.resizable({\n",
       "        start: function(event, ui) {\n",
       "            pass_mouse_events = false;\n",
       "        },\n",
       "        resize: function(event, ui) {\n",
       "            fig.request_resize(ui.size.width, ui.size.height);\n",
       "        },\n",
       "        stop: function(event, ui) {\n",
       "            pass_mouse_events = true;\n",
       "            fig.request_resize(ui.size.width, ui.size.height);\n",
       "        },\n",
       "    });\n",
       "\n",
       "    function mouse_event_fn(event) {\n",
       "        if (pass_mouse_events)\n",
       "            return fig.mouse_event(event, event['data']);\n",
       "    }\n",
       "\n",
       "    rubberband.mousedown('button_press', mouse_event_fn);\n",
       "    rubberband.mouseup('button_release', mouse_event_fn);\n",
       "    // Throttle sequential mouse events to 1 every 20ms.\n",
       "    rubberband.mousemove('motion_notify', mouse_event_fn);\n",
       "\n",
       "    rubberband.mouseenter('figure_enter', mouse_event_fn);\n",
       "    rubberband.mouseleave('figure_leave', mouse_event_fn);\n",
       "\n",
       "    canvas_div.on(\"wheel\", function (event) {\n",
       "        event = event.originalEvent;\n",
       "        event['data'] = 'scroll'\n",
       "        if (event.deltaY < 0) {\n",
       "            event.step = 1;\n",
       "        } else {\n",
       "            event.step = -1;\n",
       "        }\n",
       "        mouse_event_fn(event);\n",
       "    });\n",
       "\n",
       "    canvas_div.append(canvas);\n",
       "    canvas_div.append(rubberband);\n",
       "\n",
       "    this.rubberband = rubberband;\n",
       "    this.rubberband_canvas = rubberband[0];\n",
       "    this.rubberband_context = rubberband[0].getContext(\"2d\");\n",
       "    this.rubberband_context.strokeStyle = \"#000000\";\n",
       "\n",
       "    this._resize_canvas = function(width, height) {\n",
       "        // Keep the size of the canvas, canvas container, and rubber band\n",
       "        // canvas in synch.\n",
       "        canvas_div.css('width', width)\n",
       "        canvas_div.css('height', height)\n",
       "\n",
       "        canvas.attr('width', width * mpl.ratio);\n",
       "        canvas.attr('height', height * mpl.ratio);\n",
       "        canvas.attr('style', 'width: ' + width + 'px; height: ' + height + 'px;');\n",
       "\n",
       "        rubberband.attr('width', width);\n",
       "        rubberband.attr('height', height);\n",
       "    }\n",
       "\n",
       "    // Set the figure to an initial 600x600px, this will subsequently be updated\n",
       "    // upon first draw.\n",
       "    this._resize_canvas(600, 600);\n",
       "\n",
       "    // Disable right mouse context menu.\n",
       "    $(this.rubberband_canvas).bind(\"contextmenu\",function(e){\n",
       "        return false;\n",
       "    });\n",
       "\n",
       "    function set_focus () {\n",
       "        canvas.focus();\n",
       "        canvas_div.focus();\n",
       "    }\n",
       "\n",
       "    window.setTimeout(set_focus, 100);\n",
       "}\n",
       "\n",
       "mpl.figure.prototype._init_toolbar = function() {\n",
       "    var fig = this;\n",
       "\n",
       "    var nav_element = $('<div/>');\n",
       "    nav_element.attr('style', 'width: 100%');\n",
       "    this.root.append(nav_element);\n",
       "\n",
       "    // Define a callback function for later on.\n",
       "    function toolbar_event(event) {\n",
       "        return fig.toolbar_button_onclick(event['data']);\n",
       "    }\n",
       "    function toolbar_mouse_event(event) {\n",
       "        return fig.toolbar_button_onmouseover(event['data']);\n",
       "    }\n",
       "\n",
       "    for(var toolbar_ind in mpl.toolbar_items) {\n",
       "        var name = mpl.toolbar_items[toolbar_ind][0];\n",
       "        var tooltip = mpl.toolbar_items[toolbar_ind][1];\n",
       "        var image = mpl.toolbar_items[toolbar_ind][2];\n",
       "        var method_name = mpl.toolbar_items[toolbar_ind][3];\n",
       "\n",
       "        if (!name) {\n",
       "            // put a spacer in here.\n",
       "            continue;\n",
       "        }\n",
       "        var button = $('<button/>');\n",
       "        button.addClass('ui-button ui-widget ui-state-default ui-corner-all ' +\n",
       "                        'ui-button-icon-only');\n",
       "        button.attr('role', 'button');\n",
       "        button.attr('aria-disabled', 'false');\n",
       "        button.click(method_name, toolbar_event);\n",
       "        button.mouseover(tooltip, toolbar_mouse_event);\n",
       "\n",
       "        var icon_img = $('<span/>');\n",
       "        icon_img.addClass('ui-button-icon-primary ui-icon');\n",
       "        icon_img.addClass(image);\n",
       "        icon_img.addClass('ui-corner-all');\n",
       "\n",
       "        var tooltip_span = $('<span/>');\n",
       "        tooltip_span.addClass('ui-button-text');\n",
       "        tooltip_span.html(tooltip);\n",
       "\n",
       "        button.append(icon_img);\n",
       "        button.append(tooltip_span);\n",
       "\n",
       "        nav_element.append(button);\n",
       "    }\n",
       "\n",
       "    var fmt_picker_span = $('<span/>');\n",
       "\n",
       "    var fmt_picker = $('<select/>');\n",
       "    fmt_picker.addClass('mpl-toolbar-option ui-widget ui-widget-content');\n",
       "    fmt_picker_span.append(fmt_picker);\n",
       "    nav_element.append(fmt_picker_span);\n",
       "    this.format_dropdown = fmt_picker[0];\n",
       "\n",
       "    for (var ind in mpl.extensions) {\n",
       "        var fmt = mpl.extensions[ind];\n",
       "        var option = $(\n",
       "            '<option/>', {selected: fmt === mpl.default_extension}).html(fmt);\n",
       "        fmt_picker.append(option);\n",
       "    }\n",
       "\n",
       "    // Add hover states to the ui-buttons\n",
       "    $( \".ui-button\" ).hover(\n",
       "        function() { $(this).addClass(\"ui-state-hover\");},\n",
       "        function() { $(this).removeClass(\"ui-state-hover\");}\n",
       "    );\n",
       "\n",
       "    var status_bar = $('<span class=\"mpl-message\"/>');\n",
       "    nav_element.append(status_bar);\n",
       "    this.message = status_bar[0];\n",
       "}\n",
       "\n",
       "mpl.figure.prototype.request_resize = function(x_pixels, y_pixels) {\n",
       "    // Request matplotlib to resize the figure. Matplotlib will then trigger a resize in the client,\n",
       "    // which will in turn request a refresh of the image.\n",
       "    this.send_message('resize', {'width': x_pixels, 'height': y_pixels});\n",
       "}\n",
       "\n",
       "mpl.figure.prototype.send_message = function(type, properties) {\n",
       "    properties['type'] = type;\n",
       "    properties['figure_id'] = this.id;\n",
       "    this.ws.send(JSON.stringify(properties));\n",
       "}\n",
       "\n",
       "mpl.figure.prototype.send_draw_message = function() {\n",
       "    if (!this.waiting) {\n",
       "        this.waiting = true;\n",
       "        this.ws.send(JSON.stringify({type: \"draw\", figure_id: this.id}));\n",
       "    }\n",
       "}\n",
       "\n",
       "\n",
       "mpl.figure.prototype.handle_save = function(fig, msg) {\n",
       "    var format_dropdown = fig.format_dropdown;\n",
       "    var format = format_dropdown.options[format_dropdown.selectedIndex].value;\n",
       "    fig.ondownload(fig, format);\n",
       "}\n",
       "\n",
       "\n",
       "mpl.figure.prototype.handle_resize = function(fig, msg) {\n",
       "    var size = msg['size'];\n",
       "    if (size[0] != fig.canvas.width || size[1] != fig.canvas.height) {\n",
       "        fig._resize_canvas(size[0], size[1]);\n",
       "        fig.send_message(\"refresh\", {});\n",
       "    };\n",
       "}\n",
       "\n",
       "mpl.figure.prototype.handle_rubberband = function(fig, msg) {\n",
       "    var x0 = msg['x0'] / mpl.ratio;\n",
       "    var y0 = (fig.canvas.height - msg['y0']) / mpl.ratio;\n",
       "    var x1 = msg['x1'] / mpl.ratio;\n",
       "    var y1 = (fig.canvas.height - msg['y1']) / mpl.ratio;\n",
       "    x0 = Math.floor(x0) + 0.5;\n",
       "    y0 = Math.floor(y0) + 0.5;\n",
       "    x1 = Math.floor(x1) + 0.5;\n",
       "    y1 = Math.floor(y1) + 0.5;\n",
       "    var min_x = Math.min(x0, x1);\n",
       "    var min_y = Math.min(y0, y1);\n",
       "    var width = Math.abs(x1 - x0);\n",
       "    var height = Math.abs(y1 - y0);\n",
       "\n",
       "    fig.rubberband_context.clearRect(\n",
       "        0, 0, fig.canvas.width / mpl.ratio, fig.canvas.height / mpl.ratio);\n",
       "\n",
       "    fig.rubberband_context.strokeRect(min_x, min_y, width, height);\n",
       "}\n",
       "\n",
       "mpl.figure.prototype.handle_figure_label = function(fig, msg) {\n",
       "    // Updates the figure title.\n",
       "    fig.header.textContent = msg['label'];\n",
       "}\n",
       "\n",
       "mpl.figure.prototype.handle_cursor = function(fig, msg) {\n",
       "    var cursor = msg['cursor'];\n",
       "    switch(cursor)\n",
       "    {\n",
       "    case 0:\n",
       "        cursor = 'pointer';\n",
       "        break;\n",
       "    case 1:\n",
       "        cursor = 'default';\n",
       "        break;\n",
       "    case 2:\n",
       "        cursor = 'crosshair';\n",
       "        break;\n",
       "    case 3:\n",
       "        cursor = 'move';\n",
       "        break;\n",
       "    }\n",
       "    fig.rubberband_canvas.style.cursor = cursor;\n",
       "}\n",
       "\n",
       "mpl.figure.prototype.handle_message = function(fig, msg) {\n",
       "    fig.message.textContent = msg['message'];\n",
       "}\n",
       "\n",
       "mpl.figure.prototype.handle_draw = function(fig, msg) {\n",
       "    // Request the server to send over a new figure.\n",
       "    fig.send_draw_message();\n",
       "}\n",
       "\n",
       "mpl.figure.prototype.handle_image_mode = function(fig, msg) {\n",
       "    fig.image_mode = msg['mode'];\n",
       "}\n",
       "\n",
       "mpl.figure.prototype.updated_canvas_event = function() {\n",
       "    // Called whenever the canvas gets updated.\n",
       "    this.send_message(\"ack\", {});\n",
       "}\n",
       "\n",
       "// A function to construct a web socket function for onmessage handling.\n",
       "// Called in the figure constructor.\n",
       "mpl.figure.prototype._make_on_message_function = function(fig) {\n",
       "    return function socket_on_message(evt) {\n",
       "        if (evt.data instanceof Blob) {\n",
       "            /* FIXME: We get \"Resource interpreted as Image but\n",
       "             * transferred with MIME type text/plain:\" errors on\n",
       "             * Chrome.  But how to set the MIME type?  It doesn't seem\n",
       "             * to be part of the websocket stream */\n",
       "            evt.data.type = \"image/png\";\n",
       "\n",
       "            /* Free the memory for the previous frames */\n",
       "            if (fig.imageObj.src) {\n",
       "                (window.URL || window.webkitURL).revokeObjectURL(\n",
       "                    fig.imageObj.src);\n",
       "            }\n",
       "\n",
       "            fig.imageObj.src = (window.URL || window.webkitURL).createObjectURL(\n",
       "                evt.data);\n",
       "            fig.updated_canvas_event();\n",
       "            fig.waiting = false;\n",
       "            return;\n",
       "        }\n",
       "        else if (typeof evt.data === 'string' && evt.data.slice(0, 21) == \"data:image/png;base64\") {\n",
       "            fig.imageObj.src = evt.data;\n",
       "            fig.updated_canvas_event();\n",
       "            fig.waiting = false;\n",
       "            return;\n",
       "        }\n",
       "\n",
       "        var msg = JSON.parse(evt.data);\n",
       "        var msg_type = msg['type'];\n",
       "\n",
       "        // Call the  \"handle_{type}\" callback, which takes\n",
       "        // the figure and JSON message as its only arguments.\n",
       "        try {\n",
       "            var callback = fig[\"handle_\" + msg_type];\n",
       "        } catch (e) {\n",
       "            console.log(\"No handler for the '\" + msg_type + \"' message type: \", msg);\n",
       "            return;\n",
       "        }\n",
       "\n",
       "        if (callback) {\n",
       "            try {\n",
       "                // console.log(\"Handling '\" + msg_type + \"' message: \", msg);\n",
       "                callback(fig, msg);\n",
       "            } catch (e) {\n",
       "                console.log(\"Exception inside the 'handler_\" + msg_type + \"' callback:\", e, e.stack, msg);\n",
       "            }\n",
       "        }\n",
       "    };\n",
       "}\n",
       "\n",
       "// from http://stackoverflow.com/questions/1114465/getting-mouse-location-in-canvas\n",
       "mpl.findpos = function(e) {\n",
       "    //this section is from http://www.quirksmode.org/js/events_properties.html\n",
       "    var targ;\n",
       "    if (!e)\n",
       "        e = window.event;\n",
       "    if (e.target)\n",
       "        targ = e.target;\n",
       "    else if (e.srcElement)\n",
       "        targ = e.srcElement;\n",
       "    if (targ.nodeType == 3) // defeat Safari bug\n",
       "        targ = targ.parentNode;\n",
       "\n",
       "    // jQuery normalizes the pageX and pageY\n",
       "    // pageX,Y are the mouse positions relative to the document\n",
       "    // offset() returns the position of the element relative to the document\n",
       "    var x = e.pageX - $(targ).offset().left;\n",
       "    var y = e.pageY - $(targ).offset().top;\n",
       "\n",
       "    return {\"x\": x, \"y\": y};\n",
       "};\n",
       "\n",
       "/*\n",
       " * return a copy of an object with only non-object keys\n",
       " * we need this to avoid circular references\n",
       " * http://stackoverflow.com/a/24161582/3208463\n",
       " */\n",
       "function simpleKeys (original) {\n",
       "  return Object.keys(original).reduce(function (obj, key) {\n",
       "    if (typeof original[key] !== 'object')\n",
       "        obj[key] = original[key]\n",
       "    return obj;\n",
       "  }, {});\n",
       "}\n",
       "\n",
       "mpl.figure.prototype.mouse_event = function(event, name) {\n",
       "    var canvas_pos = mpl.findpos(event)\n",
       "\n",
       "    if (name === 'button_press')\n",
       "    {\n",
       "        this.canvas.focus();\n",
       "        this.canvas_div.focus();\n",
       "    }\n",
       "\n",
       "    var x = canvas_pos.x * mpl.ratio;\n",
       "    var y = canvas_pos.y * mpl.ratio;\n",
       "\n",
       "    this.send_message(name, {x: x, y: y, button: event.button,\n",
       "                             step: event.step,\n",
       "                             guiEvent: simpleKeys(event)});\n",
       "\n",
       "    /* This prevents the web browser from automatically changing to\n",
       "     * the text insertion cursor when the button is pressed.  We want\n",
       "     * to control all of the cursor setting manually through the\n",
       "     * 'cursor' event from matplotlib */\n",
       "    event.preventDefault();\n",
       "    return false;\n",
       "}\n",
       "\n",
       "mpl.figure.prototype._key_event_extra = function(event, name) {\n",
       "    // Handle any extra behaviour associated with a key event\n",
       "}\n",
       "\n",
       "mpl.figure.prototype.key_event = function(event, name) {\n",
       "\n",
       "    // Prevent repeat events\n",
       "    if (name == 'key_press')\n",
       "    {\n",
       "        if (event.which === this._key)\n",
       "            return;\n",
       "        else\n",
       "            this._key = event.which;\n",
       "    }\n",
       "    if (name == 'key_release')\n",
       "        this._key = null;\n",
       "\n",
       "    var value = '';\n",
       "    if (event.ctrlKey && event.which != 17)\n",
       "        value += \"ctrl+\";\n",
       "    if (event.altKey && event.which != 18)\n",
       "        value += \"alt+\";\n",
       "    if (event.shiftKey && event.which != 16)\n",
       "        value += \"shift+\";\n",
       "\n",
       "    value += 'k';\n",
       "    value += event.which.toString();\n",
       "\n",
       "    this._key_event_extra(event, name);\n",
       "\n",
       "    this.send_message(name, {key: value,\n",
       "                             guiEvent: simpleKeys(event)});\n",
       "    return false;\n",
       "}\n",
       "\n",
       "mpl.figure.prototype.toolbar_button_onclick = function(name) {\n",
       "    if (name == 'download') {\n",
       "        this.handle_save(this, null);\n",
       "    } else {\n",
       "        this.send_message(\"toolbar_button\", {name: name});\n",
       "    }\n",
       "};\n",
       "\n",
       "mpl.figure.prototype.toolbar_button_onmouseover = function(tooltip) {\n",
       "    this.message.textContent = tooltip;\n",
       "};\n",
       "mpl.toolbar_items = [[\"Home\", \"Reset original view\", \"fa fa-home icon-home\", \"home\"], [\"Back\", \"Back to previous view\", \"fa fa-arrow-left icon-arrow-left\", \"back\"], [\"Forward\", \"Forward to next view\", \"fa fa-arrow-right icon-arrow-right\", \"forward\"], [\"\", \"\", \"\", \"\"], [\"Pan\", \"Pan axes with left mouse, zoom with right\", \"fa fa-arrows icon-move\", \"pan\"], [\"Zoom\", \"Zoom to rectangle\", \"fa fa-square-o icon-check-empty\", \"zoom\"], [\"\", \"\", \"\", \"\"], [\"Download\", \"Download plot\", \"fa fa-floppy-o icon-save\", \"download\"]];\n",
       "\n",
       "mpl.extensions = [\"eps\", \"jpeg\", \"pdf\", \"png\", \"ps\", \"raw\", \"svg\", \"tif\"];\n",
       "\n",
       "mpl.default_extension = \"png\";var comm_websocket_adapter = function(comm) {\n",
       "    // Create a \"websocket\"-like object which calls the given IPython comm\n",
       "    // object with the appropriate methods. Currently this is a non binary\n",
       "    // socket, so there is still some room for performance tuning.\n",
       "    var ws = {};\n",
       "\n",
       "    ws.close = function() {\n",
       "        comm.close()\n",
       "    };\n",
       "    ws.send = function(m) {\n",
       "        //console.log('sending', m);\n",
       "        comm.send(m);\n",
       "    };\n",
       "    // Register the callback with on_msg.\n",
       "    comm.on_msg(function(msg) {\n",
       "        //console.log('receiving', msg['content']['data'], msg);\n",
       "        // Pass the mpl event to the overridden (by mpl) onmessage function.\n",
       "        ws.onmessage(msg['content']['data'])\n",
       "    });\n",
       "    return ws;\n",
       "}\n",
       "\n",
       "mpl.mpl_figure_comm = function(comm, msg) {\n",
       "    // This is the function which gets called when the mpl process\n",
       "    // starts-up an IPython Comm through the \"matplotlib\" channel.\n",
       "\n",
       "    var id = msg.content.data.id;\n",
       "    // Get hold of the div created by the display call when the Comm\n",
       "    // socket was opened in Python.\n",
       "    var element = $(\"#\" + id);\n",
       "    var ws_proxy = comm_websocket_adapter(comm)\n",
       "\n",
       "    function ondownload(figure, format) {\n",
       "        window.open(figure.imageObj.src);\n",
       "    }\n",
       "\n",
       "    var fig = new mpl.figure(id, ws_proxy,\n",
       "                           ondownload,\n",
       "                           element.get(0));\n",
       "\n",
       "    // Call onopen now - mpl needs it, as it is assuming we've passed it a real\n",
       "    // web socket which is closed, not our websocket->open comm proxy.\n",
       "    ws_proxy.onopen();\n",
       "\n",
       "    fig.parent_element = element.get(0);\n",
       "    fig.cell_info = mpl.find_output_cell(\"<div id='\" + id + \"'></div>\");\n",
       "    if (!fig.cell_info) {\n",
       "        console.error(\"Failed to find cell for figure\", id, fig);\n",
       "        return;\n",
       "    }\n",
       "\n",
       "    var output_index = fig.cell_info[2]\n",
       "    var cell = fig.cell_info[0];\n",
       "\n",
       "};\n",
       "\n",
       "mpl.figure.prototype.handle_close = function(fig, msg) {\n",
       "    var width = fig.canvas.width/mpl.ratio\n",
       "    fig.root.unbind('remove')\n",
       "\n",
       "    // Update the output cell to use the data from the current canvas.\n",
       "    fig.push_to_output();\n",
       "    var dataURL = fig.canvas.toDataURL();\n",
       "    // Re-enable the keyboard manager in IPython - without this line, in FF,\n",
       "    // the notebook keyboard shortcuts fail.\n",
       "    IPython.keyboard_manager.enable()\n",
       "    $(fig.parent_element).html('<img src=\"' + dataURL + '\" width=\"' + width + '\">');\n",
       "    fig.close_ws(fig, msg);\n",
       "}\n",
       "\n",
       "mpl.figure.prototype.close_ws = function(fig, msg){\n",
       "    fig.send_message('closing', msg);\n",
       "    // fig.ws.close()\n",
       "}\n",
       "\n",
       "mpl.figure.prototype.push_to_output = function(remove_interactive) {\n",
       "    // Turn the data on the canvas into data in the output cell.\n",
       "    var width = this.canvas.width/mpl.ratio\n",
       "    var dataURL = this.canvas.toDataURL();\n",
       "    this.cell_info[1]['text/html'] = '<img src=\"' + dataURL + '\" width=\"' + width + '\">';\n",
       "}\n",
       "\n",
       "mpl.figure.prototype.updated_canvas_event = function() {\n",
       "    // Tell IPython that the notebook contents must change.\n",
       "    IPython.notebook.set_dirty(true);\n",
       "    this.send_message(\"ack\", {});\n",
       "    var fig = this;\n",
       "    // Wait a second, then push the new image to the DOM so\n",
       "    // that it is saved nicely (might be nice to debounce this).\n",
       "    setTimeout(function () { fig.push_to_output() }, 1000);\n",
       "}\n",
       "\n",
       "mpl.figure.prototype._init_toolbar = function() {\n",
       "    var fig = this;\n",
       "\n",
       "    var nav_element = $('<div/>');\n",
       "    nav_element.attr('style', 'width: 100%');\n",
       "    this.root.append(nav_element);\n",
       "\n",
       "    // Define a callback function for later on.\n",
       "    function toolbar_event(event) {\n",
       "        return fig.toolbar_button_onclick(event['data']);\n",
       "    }\n",
       "    function toolbar_mouse_event(event) {\n",
       "        return fig.toolbar_button_onmouseover(event['data']);\n",
       "    }\n",
       "\n",
       "    for(var toolbar_ind in mpl.toolbar_items){\n",
       "        var name = mpl.toolbar_items[toolbar_ind][0];\n",
       "        var tooltip = mpl.toolbar_items[toolbar_ind][1];\n",
       "        var image = mpl.toolbar_items[toolbar_ind][2];\n",
       "        var method_name = mpl.toolbar_items[toolbar_ind][3];\n",
       "\n",
       "        if (!name) { continue; };\n",
       "\n",
       "        var button = $('<button class=\"btn btn-default\" href=\"#\" title=\"' + name + '\"><i class=\"fa ' + image + ' fa-lg\"></i></button>');\n",
       "        button.click(method_name, toolbar_event);\n",
       "        button.mouseover(tooltip, toolbar_mouse_event);\n",
       "        nav_element.append(button);\n",
       "    }\n",
       "\n",
       "    // Add the status bar.\n",
       "    var status_bar = $('<span class=\"mpl-message\" style=\"text-align:right; float: right;\"/>');\n",
       "    nav_element.append(status_bar);\n",
       "    this.message = status_bar[0];\n",
       "\n",
       "    // Add the close button to the window.\n",
       "    var buttongrp = $('<div class=\"btn-group inline pull-right\"></div>');\n",
       "    var button = $('<button class=\"btn btn-mini btn-primary\" href=\"#\" title=\"Stop Interaction\"><i class=\"fa fa-power-off icon-remove icon-large\"></i></button>');\n",
       "    button.click(function (evt) { fig.handle_close(fig, {}); } );\n",
       "    button.mouseover('Stop Interaction', toolbar_mouse_event);\n",
       "    buttongrp.append(button);\n",
       "    var titlebar = this.root.find($('.ui-dialog-titlebar'));\n",
       "    titlebar.prepend(buttongrp);\n",
       "}\n",
       "\n",
       "mpl.figure.prototype._root_extra_style = function(el){\n",
       "    var fig = this\n",
       "    el.on(\"remove\", function(){\n",
       "\tfig.close_ws(fig, {});\n",
       "    });\n",
       "}\n",
       "\n",
       "mpl.figure.prototype._canvas_extra_style = function(el){\n",
       "    // this is important to make the div 'focusable\n",
       "    el.attr('tabindex', 0)\n",
       "    // reach out to IPython and tell the keyboard manager to turn it's self\n",
       "    // off when our div gets focus\n",
       "\n",
       "    // location in version 3\n",
       "    if (IPython.notebook.keyboard_manager) {\n",
       "        IPython.notebook.keyboard_manager.register_events(el);\n",
       "    }\n",
       "    else {\n",
       "        // location in version 2\n",
       "        IPython.keyboard_manager.register_events(el);\n",
       "    }\n",
       "\n",
       "}\n",
       "\n",
       "mpl.figure.prototype._key_event_extra = function(event, name) {\n",
       "    var manager = IPython.notebook.keyboard_manager;\n",
       "    if (!manager)\n",
       "        manager = IPython.keyboard_manager;\n",
       "\n",
       "    // Check for shift+enter\n",
       "    if (event.shiftKey && event.which == 13) {\n",
       "        this.canvas_div.blur();\n",
       "        // select the cell after this one\n",
       "        var index = IPython.notebook.find_cell_index(this.cell_info[0]);\n",
       "        IPython.notebook.select(index + 1);\n",
       "    }\n",
       "}\n",
       "\n",
       "mpl.figure.prototype.handle_save = function(fig, msg) {\n",
       "    fig.ondownload(fig, null);\n",
       "}\n",
       "\n",
       "\n",
       "mpl.find_output_cell = function(html_output) {\n",
       "    // Return the cell and output element which can be found *uniquely* in the notebook.\n",
       "    // Note - this is a bit hacky, but it is done because the \"notebook_saving.Notebook\"\n",
       "    // IPython event is triggered only after the cells have been serialised, which for\n",
       "    // our purposes (turning an active figure into a static one), is too late.\n",
       "    var cells = IPython.notebook.get_cells();\n",
       "    var ncells = cells.length;\n",
       "    for (var i=0; i<ncells; i++) {\n",
       "        var cell = cells[i];\n",
       "        if (cell.cell_type === 'code'){\n",
       "            for (var j=0; j<cell.output_area.outputs.length; j++) {\n",
       "                var data = cell.output_area.outputs[j];\n",
       "                if (data.data) {\n",
       "                    // IPython >= 3 moved mimebundle to data attribute of output\n",
       "                    data = data.data;\n",
       "                }\n",
       "                if (data['text/html'] == html_output) {\n",
       "                    return [cell, data, j];\n",
       "                }\n",
       "            }\n",
       "        }\n",
       "    }\n",
       "}\n",
       "\n",
       "// Register the function which deals with the matplotlib target/channel.\n",
       "// The kernel may be null if the page has been refreshed.\n",
       "if (IPython.notebook.kernel != null) {\n",
       "    IPython.notebook.kernel.comm_manager.register_target('matplotlib', mpl.mpl_figure_comm);\n",
       "}\n"
      ],
      "text/plain": [
       "<IPython.core.display.Javascript object>"
      ]
     },
     "metadata": {},
     "output_type": "display_data"
    },
    {
     "data": {
      "text/html": [
       "<img src=\"data:image/png;base64,iVBORw0KGgoAAAANSUhEUgAAB9AAAAPoCAYAAACGXmWqAAAebElEQVR4nOzBAQEAAACAkP6v7ggKAAAAAAAAAAAAAAAAAAAAAAAAAAAAAAAAAAAAAAAAAAAAAAAAAAAAAAAAAAAAAAAAAAAAAAAAAAAAAAAAAAAAAAAAAAAAAAAAAAAAAAAAAAAAAAAAAAAAAAAAAAAAAAAAAAAAAAAAAAAAAAAAAAAAAAAAAAAAAAAAAAAAAAAAAAAAAAAAAAAAAAAAAAAAAAAAAAAAAAAAAAAAAAAAAAAAAAAAAAAAAAAAAAAAAAAAAAAAAAAAAAAAAAAAAAAAAAAAAAAAAAAAAAAAAAAAAAAAAAAAAAAAAAAAAAAAAAAAAAAAAAAAAAAAAAAAAAAAAAAAAAAAAAAAAAAAAAAAAAAAAAAAAAAAAAAAAAAAAAAAAAAAAAAAAAAAAAAAAAAAAAAAAAAAAAAAAAAAAAAAAAAAAAAAAAAAAAAAAAAAAAAAAAAAAAAAAAAAAAAAAAAAAAAAAAAAAAAAAAAAAAAAAAAAAAAAAAAAAAAAAAAAAAAAAAAAAAAAAAAAAAAAAAAAAAAAAAAAAAAAAAAAAAAAAAAAAAAAAAAAAAAAAAAAAAAAAAAAAAAAAAAAAAAAAAAAAAAAAAAAAAAAAAAAAAAAAAAAAAAAAAAAAAAAAAAAAAAAAAAAAAAAAAAAAAAAAAAAAAAAAAAAAAAAAAAAAAAAAAAAAAAAAAAAAAAAAAAAAAAAAAAAAAAAAAAAAAAAAAAAAAAAAAAAAAAAAAAAAAAAAAAAAAAAAAAAAAAAAAAAAAAAAAAAAAAAAAAAAAAAAAAAAAAAAAAAAAAAAAAAAAAAAAAAAAAAAAAAAAAAAAAAAAAAAAAAAAAAAAAAAAAAAAAAAAAAAAAAAAAAAAAAAAAAAAAAAAAAAAAAAAAAAAAAAAAAAAAAAAAAAAAAAAAAAAAAAAAAAAAAAAAAAAAAAAAAAAAAAAAAAAAAAAAAAAAAAAAAAAAAAAAAAAAAAAAAAAAAAAAAAAAAAAAAAAAAAAAAAAAAAAAAAAAAAAAAAAAAAAAAAAAAAAAAAAAAAAAAAAAAAAAAAAAAAAAAAAAAAAAAAAAAAAAAAAAAAAAAAAAAAAAAAAAAAAAAAAAAAAAAAAAAAAAAAAAAAAAAAAAAAAAAAAAAAAAAAAAAAAAAAAAAAAAAAAAAAAAAAAAAAAAAAAAAAAAAAAAAAAAAAAAAAAAAAAAAAAAAAAAAAAAAAAAAAAAAAAAAAAAAAAAAAAAAAAAAAAAAAAAAAAAAAAAAAAAAAAAAAAAAAAAAAAAAAAAAAAAAAAAAAAAAAAAAAAAAAAAAAAAAAAAAAAAAAAAAAAAAAAAAAAAAAAAAAAAAAAAAAAAAAAAAAAAAAAAAAAAAAAAAAAAAAAAAAAAAAAAAAAAAAAAAAAAAAAAAAAAAAAAAAAAAAAAAAAAAAAAAAAAAAAAAAAAAAAAAAAAAAAAAAAAAAAAAAAAAAAAAAAAAAAAAAAAAAAAAAAAAAAAAAAAAAAAAAAAAAAAAAAAAAAAAAAAAAAAAAAAAAAAAAAAAAAAAAAAAAAAAAAAAAAAAAAAAAAAAAAAAAAAAAAAAAAAAAAAAAAAAAAAAAAAAAAAAAAAAAAAAAAAAAAAAAAAAAAAAAAAAAAAAAAAAAAAAAAAAAAAAAAAAAAAAAAAAAAAAAAAAAAAAAAAAAAAAAAAAAAAAAAAAAAAAAAAAAAAAAAAAAAAAAAAAAAAAAAAAAAAAAAAAAAAAAAAAAAAAAAAAAAAAAAAAAAAAAAAAAAAAAAAAAAAAAAAAAAAAAAAAAAAAAAAAAAAAAAAAAAAAAAAAAAAAAAAAAAAAAAAAAAAAAAAAAAAAAAAAAAAAAAAAAAAAAAAAAAAAAAAAAAAAAAAAAAAAAAAAAAAAAAAAAAAAAAAAAAAAAAAAAAAAAAAAAAAAAAAAAAAAAAAAAAAAAAAAAAAAAAAAAAAAAAAAAAAAAAAAAAAAAAAAAAAAAAAAAAAAAAAAAAAAAAAAAAAAAAAAAAAAAAAAAAAAAAAAAAAAAAAAAAAAAAAAAAAAAAAAAAAAAAAAAAAAAAAAAAAAAAAAAAAAAAAAAAAAAAAAAAAAAAAAAAAAAAAAAAAAAAAAAAAAAAAAAAAAAAAAAAAAAAAAAAAAAAAAAAAAAAAAAAAAAAAAAAAAAAAAAAAAAAAAAAAAAAAAAAAAAAAAAAAAAAAAAAAAAAAAAAAAAAAAAAAAAAAAAAAAAAAAAAAAAAAAAAAAAAAAAAAAAAAAAAAAAAAAAAAAAAAAAAAAAAAAAAAAAAAAAAAAAAAAAAAAAAAAAAAAAAAAAAAAAAAAAAAAAAAAAAAAAAAAAAAAAAAAAAAAAAAAAAAAAAAAAAAAAAAAAAAAAAAAAAAAAAAAAAAAAAAAAAAAAAAAAAAAAAAAAAAAAAAAAAAAAAAAAAAAAAAAAAAAAAAAAAAAAAAAAAAAAAAAAAAAAAAAAAAAAAAAAAAAAAAAAAAAAAAAAAAAAAAAAAAAAAAAAAAAAAAAAAAAAAAAAAAAAAAAAAAAAAAAAAAAAAAAAAAAAAAAAAAAAAAAAAAAAAAAAAAAAAAAAAAAAAAAAAAAAAAAAAAAAAAAAAAAAAAAAAAAAAAAAAAAAAAAAAAAAAAAAAAAAAAAAAAAAAAAAAAAAAAAAAAAAAAAAAAAAAAAAAAAAAAAAAAAAAAAAAAAAAAAAAAAAAAAAAAAAAAAAAAAAAAAAAAAAAAAAAAAAAAAAAAAAAAAAAAAAAAAAAAAAAAAAAAAAAAAAAAAAAAAAAAAAAAAAAAAAAAAAAAAAAAAAAAAAAAAAAAAAAAAAAAAAAAAAAAAAAAAAAAAAAAAAAAAAAAAAAAAAAAAAAAAAAAAAAAAAAAAAAAAAAAAAAAAAAAAAAAAAAAAAAAAAAAAAAAAAAAAAAAAAAAAAAAAAAAAAAAAAAAAAAAAAAAAAAAAAAAAAAAAAAAAAAAAAAAAAAAAAAAAAAAAAAAAAAAAAAAAAAAAAAAAAAAAAAAAAAAAAAAAAAAAAAAAAAAAAAAAAAAAAAAAAAAAAAAAAAAAAAAAAAAAAAAAAAAAAAAAAAAAAAAAAAAAAAAAAAAAAAAAAAAAAAAAAAAAAAAAAAAAAAAAAAAAAAAAAAAAAAAAAAAAAAAAAAAAAAAAAAAAAAAAAAAAAAAAAAAAAAAAAAAAAAAAAAAAAAAAAAAAAAAAAAAAAAAAAAAAAAAAAAAAAAAAAAAAAAAAAAAAAAAAAAAAAAAAAAAAAAAAAAAAAAAAAAAAAAAAAAAAAAAAAAAAAAAAAAAAAAAAAAAAAAAAAAAAAAAAAAAAAAAAAAAAAAAAAAAAAAAAAAAAAAAAAAAAAAAAAAAAAAAAAAAAAAAAAAAAAAAAAAAAAAAAAAAAAAAAAAAAAAAAAAAAAAAAAAAAAAAAAAAAAAAAAAAAAAAAAAAAAAAAAAAAAAAAAAAAAAAAAAAAAAAAAAAAAAAAAAAAAAAAAAAAAAAAAAAAAAAAAAAAAAAAAAAAAAAAAAAAAAAAAAAAAAAAAAAAAAAAAAAAAAAAAAAAAAAAAAAAAAAAAAAAAAAAAAAAAAAAAAAAAAAAAAAAAAAAAAAAAAAAAAAAAAAAAAAAAAAAAAAAAAAAAAAAAAAAAAAAAAAAAAAAAAAAAAAAAAAAAAAAAAAAAAAAAAAAAAAAAAAAAAAAAAAAAAAAAAAAAAAAAAAAAAAAAAAAAAAAAAAAAAAAAAAAAAAAAAAAAAAAAAAAAAAAAAAAAAAAAAAAAAAAAAAAAAAAAAAAAAAAAAAAAAAAAAAAAAAAAAAAAAAAAAAAAAAAAAAAAAAAAAAAAAAAAAAAAAAAAAAAAAAAAAAAAAAAAAAAAAAAAAAAAAAAAAAAAAAAAAAAAAAAAAAAAAAAAAAAAAAAAAAAAAAAAAAAAAAAAAAAAAAAAAAAAAAAAAAAAAAAAAAAAAAAAAAAAAAAAAAAAAAAAAAAAAAAAAAAAAAAAAAAAAAAAAAAAAAAAAAAAAAAAAAAAAAAAAAAAAAAAAAAAAAAAAAAAAAAAAAAAAAAAAAAAAAAAAAAAAAAAAAAAAAAAAAAAAAAAAAAAAAAAAAAAAAAAAAAAAAAAAAAAAAAAAAAAAAAAAAAAAAAAAAAAAAAAAAAAAAAAAAAAAAAAAAAAAAAAAAAAAAAAAAAAAAAAAAAAAAAAAAAAAAAAAAAAAAAAAAAAAAAAAAAAAAAAAAAAAAAAAAAAAAAAAAAAAAAAAAAAAAAAAAAAAAAAAAAAAAAAAAAAAAAAAAAAAAAAAAAAAAAAAAAAAAAAAAAAAAAAAAAAAAAAAAAAAAAAAAAAAAAAAAAAAAAAAAAAAAAAAAAAAAAAAAAAAAAAAAAAAAAAAAAAAAAAAAAAAAAAAAAAAAAAAAAAAAAAAAAAAAAAAAAAAAAAAAAAAAAAAAAAAAAAAAAAAAAAAAAAAAAAAAAAAAAAAAAAAAAAAAAAAAAAAAAAAAAAAAAAAAAAAAAAAAAAAAAAAAAAAAAAAAAAAAAAAAAAAAAAAAAAAAAAAAAAAAAAAAAAAAAAAAAAAAAAAAAAAAAAAAAAAAAAAAAAAAAAAAAAAAAAAAAAAAAAAAAAAAAAAAAAAAAAAAAAAAAAAAAAAAAAAAAAAAAAAAAAAAAAAAAAAAAAAAAAAAAAAAAAAAAAAAAAAAAAAAAAAAAAAAAAAAAAAAAAAAAAAAAAAAAAAAAAAAAAAAAAAAAAAAAAAAAAAAAAAAAAAAAAAAAAAAAAAAAAAAAAAAAAAAAAAAAAAAAAAAAAAAAAAAAAAAAAAAAAAAAAAAAAAAAAAAAAAAAAAAAAAAAAAAAAAAAAAAAAAAAAAAAAAAAAAAAAAAAAAAAAAAAAAAAAAAAAAAAAAAAAAAAAAAAAAAAAAAAAAAAAAAAAAAAAAAAAAAAAAAAAAAAAAAAAAAAAAAAAAAAAAAAAAAAAAAAAAAAAAAAAAAAAAAAAAAAAAAAAAAAAAAAAAAAAAAAAAAAAAAAAAAAAAAAAAAAAAAAAAAAAAAAAAAAAAAAAAAAAAAAAAAAAAAAAAAAAAAAAAAAAAAAAAAAAAAAAAAAAAAAAAAAAAAAAAAAAAAAAAAAAAAAAAAAAAAAAAAAAAAAAAAAAAAAAAAAAAAAAAAAAAAAAAAAAAAAAAAAAAAAAAAAAAAAAAAAAAAAAAAAAAAAAAAAAAAAAAAAAAAAAAAAAAAAAAAAAAAAAAAAAAAAAAAAAAAAAAAAAAAAAAAAAAAAAAAAAAAAAAAAAAAAAAAAAAAAAAAAAAAAAAAAAAAAAAAAAAAAAAAAAAAAAAAAAAAAAAAAAAAAAAAAAAAAAAAAAAAAAAAAAAAAAAAAAAAAAAAAAAAAAAAAAAAAAAAAAAAAAAAAAAAAAAAAAAAAAAAAAAAAAAAAAAAAAAAAAAAAAAAAAAAAAAAAAAAAAAAAAAAAAAAAAAAAAAAAAAAAAAAAAAAAAAAAAAAAAAAAAAAAAAAAAAAAAAAAAAAAAACA24NDAgAAAABB/197wwAAAAAAAAAAAAAAAAAAAAAAAAAAAAAAAAAAAAAAAAAAAAAAAAAAAAAAAAAAAAAAAAAAAAAAAAAAAAAAAAAAAAAAAAAAAAAAAAAAAAAAAAAAAAAAAAAAAAAAAAAAAAAAAAAAAAAAAAAAAAAAAAAAAAAAAAAAAAAAAAAAAAAAAAAAAAAAAAAAAAAAAAAAAAAAAAAAAAAAAAAAAAAAAAAAAAAAAAAAAAAAAAAAAAAAAAAAAAAAAAAAAAAAAAAAAAAAAAAAAAAAAAAAAAAAAAAAAAAAAAAAAAAAAAAAAAAAAAAAAAAAAAAAAAAAAAAAAAAAAAAAAAAAAAAAAAAAAAAAAAAAAAAAAAAAAAAAAAAAAAAAAAAAAAAAAAAAAAAAAAAAAAAAAAAAAAAAAAAAAAAAAAAAAAAAAAAAAAAAAAAAAAAAAAAAAAAAAAAAAAAAAAAAAAAAAAAAAAAAAAAAAAAAAAAAAAAAAAAAAAAAAAAAAAAAAAAAAAAAAAAAAAAAAAAAAAAAAAAAAAAAAAAAAAAAAAAAAAAAAAAAAAAAAAAAAAAAAAAAAAAAAAAAAAAAAAAAAAAAAAAAAAAAAAAAAAAAAAAAAAAAAAAAAAAAAAAAAAAAAAAAAAAAAAAAAAAAAAAAAAAAAAAAAAAAAAAAAAAAAAAAAAAAAAAAAAAAAAAAAAAAAAAAAAAAAAAAAAAAAAAAAAAAAAAAAAAAAAAAAAAAAAAAAAAAAAAAAAAAAAAAAAAAAAAAAAAAAAAAAAAAAAAAAAAAAAAAAAAAAAAAAAAAAAAAAAAAAAAAAAAAAAAAAAAAAAAAAAAAAAAAAAAAAAAAAAAAAAAAAAAAAAAAAAAAAAAAAAAAAAAAAAAAAAAAAAAAAAAAAAAAAAAAAAAAAAAAAAAAAAAAAAAAAAAAAAAAAAAAAAAAAAAAAAAAAAAAAAAAAAAAAAAAAAAAAAAAAAAAAAAAAAAAAAAAAAAAAAAAAAAAAAAAAAAAAAAAAAAAAAAAAAAAAAAAAAAAAAAAAAAAAAAAAAAAAAAAAAAAAAAAAAAAAAAAAAAAAAAAAAAAAAAAAAAAAAAAAAAAAAAAAAAAAAAAAAAAAAAAAAAAAAAAAAAAAAAAAAAAAAAAAAAAAAAAAAAAAAAAAAAAAAAAAAAAAAAAAAAAAAAAAAAAAAAAAAAAAAAAAAAAAAAAAAAAAAAAAAAAAAAAAAAAAAAAAAAAAAAAAAAAAAAAAAAAAAAAAAAAAAAAAAAAAAAAAAAAAAAAAAAAAAAAAAAAAAAAAAAAAAAAAAAAAAAAAAAAAAAAAAAAAAAAAAAAAAAAAAAAAAAAAAAAAAAAAAAAAAAAAAAAAAAAAAAAAAAAAAAAAAAAAAAAAAAAAAAAAAAAAAAAAAAAAAAAAAAAAAAAAAAAAAAAAAAAAAAAAAAAAAAAAAAAAAAAAAAAAAAAAAAAAAAAAAAAAAAAAAAAAAAAAAAAAAAAAAAAAAAAAAAAAAAAAAAAAAAAAAAAAAAAAAAAAAAAAAAAAAAAAAAAAAAAAAAAAAAAAAAAAAAAAAAAAAAAAAAAAAAAAAAAAAAAAAAAAAAAAAAAAAAAAAAAAAAAAAAAAAAAAAAAAAAAAAAAAAAAAAAAAAAAAAAAAAAAAAAAAAAAAAAAAAAAAAAAAAAAAAAAAAAAAAAAAAAAAAAAAAAAAAAAAAAAAAAAAAAAAAAAAAAAAAAAAAAAAAAAAAAAAAAAAAAAAAAAAAAAAAAAAAAAAAAAAAAAAAAAAAAAAAAAAAAAAAAAAAAAAAAAAAAAAAAAAAAAAAAAAAAAAAAAAAAAAAAAAAAAAAAAAAAAAAAAAAAAAAAAAAAAAAAAAAAAAAAAAAAAAAAAAAAAAAAAAAAAAAAAAAAAAAAAAAAAAAAAAAAAAAAAAAAAAAAAAAAAAAAAAAAAAAAAAAAAAAAAAAAAAAAAAAAAAAAAAAAAAAAAAAAAAAAAAAAAAAAAAAAAAAAAAAAAAAAAAAAAAAAAAAAAAAAAAAAAAAAAAAAAAAAAAAAAAAAAAAAAAAAAAAAAAAAAAAAAAAAAAAAAAAAAAAAAAAAAAAAAAAAAAAAAAAAAAAAAAAAAAAAAAAAAAAAAAAAAAAAAAAAAAAAAAAAAAAAAAAAAAAAAAAAAAAAAAAAAAAAAAAAAAAAAAAAAAAAAAAAAAAAAAAAAAAAAAAAAAAAAAAAAAAAAAAAAAAAAAAAAAAAAAAAAAAAAAAAAAAAAAAAAAAAAAAAAAAAAAAAAAAAAAAAAAAAAAAAAAAAAAAAAAAAAAAAAAAAAAAAAAAAAAAAAAAAAAAAAAAAAAAAAAAAAAAAAAAAAAAAAAAAAAAAAAAAAAAAAAAAAAAAAAAAAAAAAAAAAAAAAAAAAAAAAAAAAAAAAAAAAAAAAAAAAAAAAAAAAAAAAAAAAAAAAAAAAAAAAAAAAAAAAAAAAAAAAAAAAAAAAAAAAAAAAAAAAAAAAAAAAAAAAAAAAAAAAAAAAAAAAAAAAAAAAAAAAAAAAAAAAAAAAAAAAAAAAAAAAAAAAAAAAAAAAAAAAAAAAAAAAAAAAAAAAAAAAAAAAAAAAAAAAAAAAAAAAAAAAAAAAAAAAAAAAAAAAAAAAAAAAAAAAAAAAAAAAAAAAAAAAAAAAAAAAAAAAAAAAAAAAAAAAAAAAAAAAAAAAAAAAAAAAAAAAAAAAAAAAAAAAAAAAAAAAAAAAAAAAAAAAAAAAAAAAAAAAAAAAAAAAAAAAAAAAAAAAAAAAAAAAAAAAAAAAAAAAAAAAAAAAAAAAAAAAAAAAAAAAAAAAAAAAAAAAAAAAAAAAAAAAAAAAAAAAAAAAAAAAAAAAAAAAAAAAAAAAAAAAAAAAAAAAAAAAAAAAAAAAAAAAAAAAAAAAAAAAAAAAAAAAAAAAAAAAAAAAAAAAAAAAAAAAAAAAAAAAAAAAAAAAAAAAAAAAAAAAAAAAAAAAAAAAAAAAAAAAAAAAAAAAAAAAAAAAAAAAAAAAAAAAAAAAAAAAAAAAAAAAAAAAAAAAAAAAAAAAAAAAAAAAAAAAAAAAAAAAAAAAAAAAAAAAAAAAAAAAAAAAAAAAAAAAAAAAAAAAAAAAAAAAAAAAAAAAAAAAAAAAAAAAAAAAAAAAAAAAAAAAAAAAAAAAAAAAAAAAAAAAAAAAAAAAAAAAAAAAAAAAAAAAAAAAAAAAAAAAAAAAAAAAAAAAAAAAAAAAAAAAAAAAAAAAAAAAAAAAAAAAAAAAAAAAAAAAAAAAAAAAAAAAAAAAAAAAAAAAAAAAAAAAAAAAAAAAAAAAAAAAAAAAAAAAAAAAAAAAAAAAAAAAAAAAAAAAAAAAAAAAAAAAAAAAAAAAAAAAAAAAAAAAAAAAAAAAAAAAAAAAAAAAAAAAAAAAAAAAAAAAAAAAAAAAAAAAAAAAAAAAAAAAAAAAAAAAAAAAAAAAAAAAAAAAAAAAAAAAAAAAAAAAAAAAAAAAAAAAAAAAAAAAAAAAAAAAAAAAAAAAAAAAAAAAAAAAAAAAAAAAAAAAAAAAAAAAAAAAAAAAAAAAAAAAAAAAAAAAAAAAAAAAAAAAAAAAAAAAAAAAAAAAAAAAAAAAAAAAAAAAAAAAAAAAAAAAAAAAAAAAAAAAAAAAAAAAAAAAAAAAAAAAAAAAAAAAAAAAAAAAAAAAAAAAAAAAAAAAAAAAAAAAAAAAAAAAAAAAAAAAAAAAAAAAAAAAAAAAAAAAAAAAAAAAAAAAAAAAAAAAAAAAAAAAAAAAAAAAAAAAAAAAAAAAAAAAAAAAAAAAAAAAAAAAAAAAAAAAAAAAAAAAAAAAAAAAAAAAAAAAAAAAAAAAAAAAAAAAAAAAAAAAAAAAAAAAAAAAAAAAAAAAAAAAAAAAAAAAAAAAAAAAAAAAAAAAAAAAAAAAAAAAAAAAAAAAAAAAAAAAAAAAAAAAAAAAAAAAAAAAAAAAAAAAAAAAAAAAAAAAAAAAAAAAAAAAAAAAAAAAAAAAAAAAAAAAAAAAAAAAAAAAAAAAAAAAAAAAAAAAAAAAAAAAAAAAAAAAAAAAAAAAAAAAAAAAAAAAAAAAAAAAAAAAAAAAAAAAAAAAAAAAAAAAAAAAAAAAAAAAAAAAAAAAAAAAAAAAAAAAAAAAAAAAAAAAAAAAAAAAAAAAAAAAAAAAAAAAAAAAAAAAAAAAAAAAAAAAAAAAAAAAAAAAAAAAAAAAAAAAAAAAAAAAAAAAAAAAAAAAAAAAAAAAAAAAAAAAAAAAAAAAAAAAAAAAAAAAAAAAAAAAAAAAAAAAAAAAAAAAAAAAAAAAAAAAAAAAAAAAAAAAAAAAAAAAAAAAAAAAAAAAAAAAAAAAAAAAAAAAAAAAAAAAAAAAAAAAAAAAAAAAAAAAAAAAAAAAAAAAAAAAAAAAAAAAAAAAAAAAAAAAAAAAAAAAAAAAAAAAAAAAAAAAAAAAAAAAAAAAAAAAAAAAAAAAAAAAAAAAAAAAAAAAAAAAAAAAAAAAAAAAAAAAAAAAAAAAAAAAAAAAAAAAAAAAAAAAAAAAAAAAAAAAAAAAAAAAAAAAAAAAAAAAAAAAAAAAAAAAAAAAAAAAAAAAAAAAAAAAAAAAAAAAAAAAAAAAAAAAAAAAAAAAAAAAAAAAAAAAAAAAAAAAAAAAAAAAAAAAAAAAAAAAAAAAAAAAAAAAAAAAAAAAAAAAAAAAAAAAAAAAAAAAAAAAAAAAAAAAAAAAAAAAAAAAAAAAAAAAAAAAAAAAAAAAAAAAAAAAAAAAAAAAAAAAAAAAAAAAAAAAAAAAAAAAAAAAAAAAAAAAAAAAAAAAAAAAAAAAAAAAAAAAAAAAAAAAAAAAAAAAAAAAAAAAAAAAAAAAAAAAAAAAAAAAAAAAAAAAAAAAAAAAAAAAAAAAAAAAAAAAAAAAAADAXR0OAAETEuNqAAAAAElFTkSuQmCC\" width=\"1000\">"
      ],
      "text/plain": [
       "<IPython.core.display.HTML object>"
      ]
     },
     "metadata": {},
     "output_type": "display_data"
    }
   ],
   "source": [
    "dual_train_plots(results.index,\n",
    "                 results.cost, results.val,\n",
    "                 results.cost, results.val)\n",
    "plt.tight_layout()\n",
    "plt.savefig(str(output / f'{name}_stats_a.png'))"
   ]
  },
  {
   "cell_type": "code",
   "execution_count": 22,
   "metadata": {},
   "outputs": [],
   "source": [
    "quit()"
   ]
  },
  {
   "cell_type": "code",
   "execution_count": null,
   "metadata": {},
   "outputs": [],
   "source": []
  },
  {
   "cell_type": "code",
   "execution_count": null,
   "metadata": {},
   "outputs": [],
   "source": []
  }
 ],
 "metadata": {
  "kernelspec": {
   "display_name": "goofit-june2020",
   "language": "python",
   "name": "goofit-june2020"
  },
  "language_info": {
   "codemirror_mode": {
    "name": "ipython",
    "version": 3
   },
   "file_extension": ".py",
   "mimetype": "text/x-python",
   "name": "python",
   "nbconvert_exporter": "python",
   "pygments_lexer": "ipython3",
   "version": "3.7.6"
  }
 },
 "nbformat": 4,
 "nbformat_minor": 2
}
