{
 "cells": [
  {
   "cell_type": "code",
   "execution_count": 1,
   "metadata": {},
   "outputs": [],
   "source": [
    "##%matplotlib widget\n",
    "## with %matplotlib notebook: seems to require ipympl as part of environment, either\n",
    "## part of the conda environment or \"pip install ipympl\"\n",
    "## otherwise, does not show ANY plots in notebook, plt.savefig() works\n",
    "%matplotlib notebook  \n",
    "##%matplotlib inline    ## --plt.savefig()  works, but re-sizing does NOT\n"
   ]
  },
  {
   "cell_type": "markdown",
   "metadata": {},
   "source": [
    "This notebook is a first attempt to read in track information and use it to predict the the full target histrograms.\n",
    "\n",
    "It will read in the TracksToDKE__Ellipsoids_DDPlus model to predict the KDE, and then feed it into a SimpleCNN model to predict the target histograms.  Initially, it will use previously trained weights.\n"
   ]
  },
  {
   "cell_type": "markdown",
   "metadata": {},
   "source": [
    "Check the current GPU usage. Please try to be nice!"
   ]
  },
  {
   "cell_type": "code",
   "execution_count": 2,
   "metadata": {},
   "outputs": [
    {
     "name": "stdout",
     "output_type": "stream",
     "text": [
      "Tue Dec 29 11:46:29 2020       \r\n",
      "+-----------------------------------------------------------------------------+\r\n",
      "| NVIDIA-SMI 450.36.06    Driver Version: 450.36.06    CUDA Version: 11.0     |\r\n",
      "|-------------------------------+----------------------+----------------------+\r\n",
      "| GPU  Name        Persistence-M| Bus-Id        Disp.A | Volatile Uncorr. ECC |\r\n",
      "| Fan  Temp  Perf  Pwr:Usage/Cap|         Memory-Usage | GPU-Util  Compute M. |\r\n",
      "|                               |                      |               MIG M. |\r\n",
      "|===============================+======================+======================|\r\n",
      "|   0  GeForce RTX 208...  On   | 00000000:18:00.0 Off |                  N/A |\r\n",
      "| 29%   40C    P8    40W / 250W |    891MiB / 11019MiB |      0%      Default |\r\n",
      "|                               |                      |                  N/A |\r\n",
      "+-------------------------------+----------------------+----------------------+\r\n",
      "|   1  GeForce RTX 208...  On   | 00000000:3B:00.0 Off |                  N/A |\r\n",
      "| 29%   41C    P8    39W / 250W |     64MiB / 11019MiB |      0%      Default |\r\n",
      "|                               |                      |                  N/A |\r\n",
      "+-------------------------------+----------------------+----------------------+\r\n",
      "                                                                               \r\n",
      "+-----------------------------------------------------------------------------+\r\n",
      "| Processes:                                                                  |\r\n",
      "|  GPU   GI   CI        PID   Type   Process name                  GPU Memory |\r\n",
      "|        ID   ID                                                   Usage      |\r\n",
      "|=============================================================================|\r\n",
      "|    0   N/A  N/A     50808      C   ...s/june2020-gpu/bin/python      887MiB |\r\n",
      "|    1   N/A  N/A      3736      G   /usr/bin/X                         33MiB |\r\n",
      "|    1   N/A  N/A      3790      G   /usr/bin/gnome-shell               25MiB |\r\n",
      "+-----------------------------------------------------------------------------+\r\n"
     ]
    }
   ],
   "source": [
    "!nvidia-smi"
   ]
  },
  {
   "cell_type": "markdown",
   "metadata": {},
   "source": [
    "> **WARNING**: The card numbers here are *not* the same as in CUDA. You have been warned."
   ]
  },
  {
   "cell_type": "markdown",
   "metadata": {},
   "source": [
    "## Imports"
   ]
  },
  {
   "cell_type": "code",
   "execution_count": 3,
   "metadata": {},
   "outputs": [],
   "source": [
    "import matplotlib.pyplot as plt\n",
    "import numpy as np\n",
    "import time\n",
    "import torch\n",
    "import pandas as pd\n",
    "\n",
    "# Python 3 standard library\n",
    "from pathlib import Path\n",
    "\n",
    "from model.efficiency import pv_locations, efficiency\n",
    "\n",
    "##from torchsummary import summary"
   ]
  },
  {
   "cell_type": "markdown",
   "metadata": {},
   "source": [
    "### Set up local parameters"
   ]
  },
  {
   "cell_type": "code",
   "execution_count": 4,
   "metadata": {},
   "outputs": [],
   "source": [
    "n_epochs = 100\n",
    "\n",
    "# Name is the output file name\n",
    "\n",
    "\n",
    "##  200719  mds\n",
    "##folder = '20December_Tracks_to_KDE_TestTrainedModel'\n",
    "##folder = '22December_testing_DDplus_loss_Bb_iter2_floatAll_100epochs_3em6'\n",
    "folder = '29December_Tracks_to_Hists_Iteration_2B_100epochs_lr_1em7_2p5_kde2hists_allFloat'\n",
    "name = folder\n",
    "\n",
    "# Make an output folder named \"name\" (change if you want)\n",
    "\n",
    "## Special instructions for those working on goofy at UC\n",
    "## Please be very careful to make sure that your folder\n",
    "## does not live in a subdirectory of your home directory\n",
    "## this disk has very little capacity. Instead, use \n",
    "## a subdirectory in /share/lazy with a symbolic link to\n",
    "## it in this (the notebooks) subdirectory\n",
    "folder = 'ML/' + folder\n",
    "output = Path(folder)\n",
    "\n",
    "\n",
    "# Size of batches\n",
    "batch_size = 16\n",
    "# How fast to learn\n",
    "learning_rate = 1e-7"
   ]
  },
  {
   "cell_type": "markdown",
   "metadata": {},
   "source": [
    "Make the output directory if it does not exist:"
   ]
  },
  {
   "cell_type": "code",
   "execution_count": 5,
   "metadata": {},
   "outputs": [],
   "source": [
    "output.mkdir(exist_ok=True)"
   ]
  },
  {
   "cell_type": "markdown",
   "metadata": {},
   "source": [
    "## Get the helper functions\n",
    "\n",
    "Add the directory with the model\n",
    "definitions to the path so we can import from it:\n",
    "\n",
    "> When you type `import X`,\n",
    "Python searches `sys.path` for a python\n",
    "file named `X.py` to import. So we need to add the model directory to the path."
   ]
  },
  {
   "cell_type": "code",
   "execution_count": 6,
   "metadata": {
    "scrolled": true
   },
   "outputs": [],
   "source": [
    "# From model/collectdata.py\n",
    "##from model.collectdata_kde_Ellipsoids import collect_t2kde_data\n",
    "from model.collectdata_t2hists import collect_t2hists_data\n",
    "from model.collectdata_mdsA  import collect_truth\n",
    "\n",
    "# From model/loss.py\n",
    "##from loss import Loss\n",
    "##from model.kde_loss_D import Loss\n",
    "## from model.kde_loss_B import Loss  ## Tracks_to_KDE loss, not for target hists\n",
    "\n",
    "##  \"standard\" ratios loss for hists training\n",
    "from model.alt_loss_A import Loss  ## loss used to train RunModel_Demo_28November2020-SimpleCNNLayer_Ca-Restart_5\n",
    "\n",
    "\n",
    "##from model.models_kde import TracksToKDE_Ellipsoids_DirtyDozen as Model\n",
    "from model.models_kde import TracksToKDE_Ellipsoids_DDplus as t2kde_model\n",
    "##from model.models_mds_G import SimpleCNN5Layer_Ca as kde2hists_model\n",
    "from model.models_mds_28Dec20 import SimpleCNN5Layer_Ca as kde2hists_model  ## copy of models_mds_01June20 for debugging\n",
    "from model.models_t2hists import TracksToHists_A as t2hists_model\n",
    "\n",
    "\n",
    "##from model.training_kde import trainNet, select_gpu, Results\n",
    "## training_t2hists_A.py increases \"difference\" for accepting found\n",
    "## peaks as matched from 5 bins to 7.5 bins (compmared to original training.py)\n",
    "from model.training_t2hists_A import trainNet, select_gpu, Results\n",
    "from model.plots import dual_train_plots, replace_in_ax"
   ]
  },
  {
   "cell_type": "code",
   "execution_count": 7,
   "metadata": {},
   "outputs": [],
   "source": [
    "# This gets built up during the run - do not rerun this cell\n",
    "results = pd.DataFrame([], columns=Results._fields)"
   ]
  },
  {
   "cell_type": "markdown",
   "metadata": {},
   "source": [
    "Set up Torch device configuration. All tensors and model parameters need to know where to be put.\n",
    "This takes a BUS ID number: The BUS ID is the same as the listing at the top of this script."
   ]
  },
  {
   "cell_type": "code",
   "execution_count": 8,
   "metadata": {},
   "outputs": [
    {
     "name": "stdout",
     "output_type": "stream",
     "text": [
      "1 available GPUs (initially using device 0):\n",
      "  0 GeForce RTX 2080 Ti\n"
     ]
    }
   ],
   "source": [
    "device = select_gpu(0)\n",
    "##device = \"cpu\""
   ]
  },
  {
   "cell_type": "markdown",
   "metadata": {},
   "source": [
    "## Loading data\n",
    "\n",
    "Load the dataset, split into parts, then move to device (see `collectdata.py` in the `../model` directory)"
   ]
  },
  {
   "cell_type": "code",
   "execution_count": 9,
   "metadata": {
    "scrolled": false
   },
   "outputs": [
    {
     "name": "stdout",
     "output_type": "stream",
     "text": [
      "Loading data...\n",
      "pocaMx.shape =  (20000,)\n",
      "nEvts =  20000\n",
      "len(pocaMx[0]) =  211\n",
      "len(pocaMx[1]) =  21\n",
      "len(pocaMx[2]) =  20\n",
      "len(pocaMx[3]) =  198\n",
      "len(pocaMx[4]) =  233\n",
      "have entered six_ellipsoid_parameters\n",
      "  \n",
      " \n",
      "  nEvts =  20000\n",
      " iEvt, nTrks =  0 211\n",
      " iEvt, nTrks =  1 21\n",
      " iEvt, nTrks =  2 20\n",
      " iEvt, nTrks =  3 198\n",
      " iEvt, nTrks =  4 233\n",
      " iEvt, nTrks =  5 85\n",
      " iEvt, nTrks =  6 223\n",
      " iEvt, nTrks =  7 425\n",
      " iEvt, nTrks =  8 252\n",
      " iEvt, nTrks =  9 169\n",
      "len(X) =  20000\n",
      "len(Xlist) =  1\n",
      "Loaded dataAA/20K_POCA_kernel_evts_200926.h5 in 27.58 s\n",
      "outer loop X.shape =  (20000, 9, 600)\n",
      "Constructing 18000 event dataset took 0.2443 s\n",
      "x_t.shape =  torch.Size([18000, 9, 600])\n",
      "x_t.shape[0] =  18000\n",
      "x_t.shape[1] =  9\n",
      "x_t.shape =  torch.Size([18000, 9, 600])\n",
      "Loading data...\n",
      "pocaMx.shape =  (20000,)\n",
      "nEvts =  20000\n",
      "len(pocaMx[0]) =  211\n",
      "len(pocaMx[1]) =  21\n",
      "len(pocaMx[2]) =  20\n",
      "len(pocaMx[3]) =  198\n",
      "len(pocaMx[4]) =  233\n",
      "have entered six_ellipsoid_parameters\n",
      "  \n",
      " \n",
      "  nEvts =  20000\n",
      " iEvt, nTrks =  0 211\n",
      " iEvt, nTrks =  1 21\n",
      " iEvt, nTrks =  2 20\n",
      " iEvt, nTrks =  3 198\n",
      " iEvt, nTrks =  4 233\n",
      " iEvt, nTrks =  5 85\n",
      " iEvt, nTrks =  6 223\n",
      " iEvt, nTrks =  7 425\n",
      " iEvt, nTrks =  8 252\n",
      " iEvt, nTrks =  9 169\n",
      "len(X) =  20000\n",
      "len(Xlist) =  1\n",
      "Loaded dataAA/20K_POCA_kernel_evts_200926.h5 in 27.11 s\n",
      "outer loop X.shape =  (20000, 9, 600)\n",
      "Constructing 2000 event dataset took 2.293 s\n",
      "x_t.shape =  torch.Size([2000, 9, 600])\n",
      "x_t.shape[0] =  2000\n",
      "x_t.shape[1] =  9\n",
      "x_t.shape =  torch.Size([2000, 9, 600])\n",
      "Loaded dataAA/20K_POCA_kernel_evts_200926.h5 in 0.01253 s\n",
      "PV.n.shape =     (20000,)\n",
      "PV.n[0].shape =  6\n",
      "PV.x[0] =        -0.06039733 0.034324445 0.032115813 0.0021888595 -0.035334907 -0.013019809\n",
      "PV.y[0] =        -0.09381338 -0.013181885 -0.030898828 -0.08940365 -0.0058297813 0.062288247\n",
      "PV.z[0] =        97.82085 61.021088 -0.15807877 134.26784 -29.881668 79.19783\n",
      "PV.n[0] =        24 26 10 7 24 19\n",
      "PV.cat[0] =      1 1 1 1 1 1\n",
      "Loaded dataAA/20K_POCA_kernel_evts_200926.h5 in 0.008457 s\n",
      "SV.n.shape =     (20000,)\n",
      "SV.n[0].shape =  2\n",
      "SV.x[0] =        -0.014751727 0.03923173\n",
      "SV.y[0] =        0.050640453 0.08648109\n",
      "SV.z[0] =        78.924194 79.170876\n",
      "SV.n[0] =        2 0\n",
      "SV.cat[0] =      1 -1\n"
     ]
    }
   ],
   "source": [
    "train_loader = collect_t2hists_data('dataAA/20K_POCA_kernel_evts_200926.h5',\n",
    "                             batch_size=batch_size,\n",
    "## if we are using a larger dataset (240K events, with the datasets above, and 11 GB  of GPU memory),\n",
    "## not the dataset will overflow the GPU memory; device=device will allow the data to move back\n",
    "## and forth between the CPU and GPU memory. While this allows use of a larger dataset, it slows\n",
    "## down performance by about 10%.  So comment out when not needed.\n",
    "##                           device=device,\n",
    "                             slice = slice(0,18000)\n",
    "                           )\n",
    "\n",
    "\n",
    "\n",
    "                            \n",
    "# Validation dataset. You can slice to reduce the size.\n",
    "## mds no separate validation set yet,\n",
    "val_loader = collect_t2hists_data('dataAA/20K_POCA_kernel_evts_200926.h5',\n",
    "                            batch_size=batch_size,\n",
    "                            device=device,\n",
    "                            slice = slice(18000,None)\n",
    "                           )\n",
    "\n",
    "PV = collect_truth('dataAA/20K_POCA_kernel_evts_200926.h5', pvs=True)\n",
    "print('PV.n.shape =    ',  PV.n.shape)\n",
    "print('PV.n[0].shape = ', *PV.n[0].shape)\n",
    "print('PV.x[0] =       ', *PV.x[0])\n",
    "print('PV.y[0] =       ', *PV.y[0])\n",
    "print('PV.z[0] =       ', *PV.z[0])\n",
    "print('PV.n[0] =       ', *PV.n[0])\n",
    "print('PV.cat[0] =     ', *PV.cat[0])\n",
    "\n",
    "SV = collect_truth('dataAA/20K_POCA_kernel_evts_200926.h5', pvs=False)\n",
    "print('SV.n.shape =    ', SV.n.shape)\n",
    "print('SV.n[0].shape = ', *SV.n[0].shape)\n",
    "print('SV.x[0] =       ', *SV.x[0])\n",
    "print('SV.y[0] =       ', *SV.y[0])\n",
    "print('SV.z[0] =       ', *SV.z[0])\n",
    "print('SV.n[0] =       ', *SV.n[0])\n",
    "print('SV.cat[0] =     ', *SV.cat[0])\n"
   ]
  },
  {
   "cell_type": "markdown",
   "metadata": {},
   "source": [
    "# Preparing the model"
   ]
  },
  {
   "cell_type": "markdown",
   "metadata": {},
   "source": [
    "Prepare a model, use multiple GPUs if they are VISIBLE, and move the model to the device."
   ]
  },
  {
   "cell_type": "code",
   "execution_count": 10,
   "metadata": {
    "scrolled": false
   },
   "outputs": [
    {
     "name": "stdout",
     "output_type": "stream",
     "text": [
      "ct, child =  0    Linear(in_features=9, out_features=50, bias=True)\n",
      "ct, child =  1    Linear(in_features=50, out_features=50, bias=True)\n",
      "ct, child =  2    Linear(in_features=50, out_features=50, bias=True)\n",
      "ct, child =  3    Linear(in_features=50, out_features=50, bias=True)\n",
      "ct, child =  4    Linear(in_features=50, out_features=50, bias=True)\n",
      "ct, child =  5    Linear(in_features=50, out_features=50, bias=True)\n",
      "ct, child =  6    Linear(in_features=50, out_features=50, bias=True)\n",
      "ct, child =  7    Linear(in_features=50, out_features=50, bias=True)\n",
      "ct, child =  8    Linear(in_features=50, out_features=50, bias=True)\n",
      "ct, child =  9    Linear(in_features=50, out_features=50, bias=True)\n",
      "ct, child =  10    Linear(in_features=50, out_features=50, bias=True)\n",
      "ct, child =  11    Linear(in_features=50, out_features=16000, bias=True)\n",
      "ct, child =  12    Conv1d(4, 25, kernel_size=(25,), stride=(1,), padding=(12,))\n",
      "ct, child =  13    Conv1d(25, 1, kernel_size=(5,), stride=(1,), padding=(2,))\n",
      "ct, child =  14    Linear(in_features=4000, out_features=4000, bias=True)\n",
      "ct, child =  15    Dropout(p=0.15, inplace=False)\n",
      "ct, child =  16    Dropout(p=0.15, inplace=False)\n",
      "ct, child =  17    Conv1d(1, 20, kernel_size=(25,), stride=(1,), padding=(12,))\n",
      "ct, child =  18    Conv1d(20, 10, kernel_size=(15,), stride=(1,), padding=(7,))\n",
      "ct, child =  19    Conv1d(10, 10, kernel_size=(15,), stride=(1,), padding=(7,))\n",
      "ct, child =  20    Conv1d(10, 10, kernel_size=(15,), stride=(1,), padding=(7,))\n",
      "ct, child =  21    Conv1d(10, 1, kernel_size=(5,), stride=(1,), padding=(2,))\n",
      "ct, child =  22    Dropout(p=0.15, inplace=False)\n",
      "ct, child =  23    Dropout(p=0.15, inplace=False)\n",
      "ct, child =  24    Dropout(p=0.15, inplace=False)\n",
      "ct, child =  25    Dropout(p=0.15, inplace=False)\n",
      "ct, child =  26    Dropout(p=0.35, inplace=False)\n",
      "ct, child =  27    Linear(in_features=4000, out_features=4000, bias=True)\n"
     ]
    }
   ],
   "source": [
    "nOut1 = 50\n",
    "nOut2 = 50\n",
    "nOut3 = 50\n",
    "nOut4 = 50\n",
    "nOut5 = 50\n",
    "nOut6 = 50\n",
    "nOut7 = 50\n",
    "nOut8 = 50\n",
    "nOut9 = 50\n",
    "nOut10 = 50\n",
    "nOut11 = 50\n",
    "latentChannels = 4\n",
    "model_t2kde = t2kde_model(nOut1,nOut2,nOut3,nOut4,nOut5,nOut6,nOut7,nOut8,nOut9,nOut10,nOut11,latentChannels)\n",
    "model_kde2hists = kde2hists_model()\n",
    "model_t2hists = t2hists_model(nOut1,nOut2,nOut3,nOut4,nOut5,nOut6,nOut7,nOut8,nOut9,nOut10,nOut11,latentChannels)\n",
    "\n",
    "##summary(model, input_size=(4, 4000))\n",
    "##print(model.parameters)\n",
    "\n",
    "## add the following code to allow the user to freeze the some of the weights corresponding \n",
    "## to those taken from an earlier model trained with the original target histograms\n",
    "## presumably -- this leaves either the perturbative filter \"fixed\" and lets the \n",
    "## learning focus on the non-perturbative features, so get started faster, or vice versa\n",
    "ct = 0\n",
    "for child in model_t2hists.children():\n",
    "  print('ct, child = ',ct, \"  \", child)\n",
    "  if (ct < 0) :\n",
    "    print(\"     About to set param.requires_grad=False for ct = \", ct, \"params\")\n",
    "    for param in child.parameters():\n",
    "        param.requires_grad = False \n",
    "  ct += 1\n",
    "\n",
    "loss = Loss(epsilon=1e-5,coefficient=2.5)\n",
    "optimizer = torch.optim.Adam(model_t2hists.parameters(), lr=learning_rate)"
   ]
  },
  {
   "cell_type": "markdown",
   "metadata": {},
   "source": [
    "Let's move the model's weight matricies to the GPU:"
   ]
  },
  {
   "cell_type": "code",
   "execution_count": 14,
   "metadata": {
    "scrolled": false
   },
   "outputs": [
    {
     "data": {
      "text/plain": [
       "<All keys matched successfully>"
      ]
     },
     "execution_count": 14,
     "metadata": {},
     "output_type": "execute_result"
    }
   ],
   "source": [
    "## want to look at all three dictionaries to start:\n",
    "##  t2kde\n",
    "##  kde2hists\n",
    "##  t2hists\n",
    "## the plan is to (initially) copy weights from separate dictionaries into th t2hists dictionary\n",
    "\n",
    "##   ML -> /share/lazy/sokoloff/ML\n",
    "'''\n",
    "model_t2kde_dict = model_t2kde.state_dict()\n",
    "## mds 190725 for debugging\n",
    "print(\"for model_t2kde_dict\")\n",
    "index = 0\n",
    "for k,v in model_t2kde_dict.items():\n",
    "    print(\"index, k =  \",index,\"  \",k)\n",
    "    index = index+1\n",
    "#\n",
    "model_kde2hists_dict = model_kde2hists.state_dict()\n",
    "## mds 190725 for debugging\n",
    "print(\"for model_hists_2kde_dict\")\n",
    "index = 0\n",
    "for k,v in model_kde2hists_dict.items():\n",
    "    print(\"index, k =  \",index,\"  \",k)\n",
    "    index = index+1\n",
    "#\n",
    "model_t2hists_dict = model_t2hists.state_dict()\n",
    "## mds 190725 for debugging\n",
    "print(\"for model_hists_2kde_dict\")\n",
    "index = 0\n",
    "for k,v in model_t2hists_dict.items():\n",
    "    print(\"index, k =  \",index,\"  \",k)\n",
    "    index = index+1\n",
    "#\n",
    "\n",
    "##  build the \"updated_dict\" to become the t2hists_dictionary from the\n",
    "##  t2kde and kde2hist dictionaries\n",
    "update_dict = model_t2hists_dict\n",
    "##print(\"updated_dict = \",updated_dict)\n",
    "## when starting \"ab initio\", reduce biases as the bias gets summed for each track\n",
    "## contributing to the predicted KDE\n",
    "'''\n",
    "\n",
    "\n",
    "'''\n",
    "updated_dict[\"layer1.bias\"] = 0.005*model_dict[\"layer1.bias\"]\n",
    "updated_dict[\"layer2.bias\"] = 0.005*model_dict[\"layer2.bias\"]\n",
    "updated_dict[\"layer3.bias\"] = 0.005*model_dict[\"layer3.bias\"]\n",
    "updated_dict[\"layer4.bias\"] = 0.005*model_dict[\"layer4.bias\"]\n",
    "updated_dict[\"layer5.bias\"] = 0.005*model_dict[\"layer5.bias\"]\n",
    "updated_dict[\"layer6.bias\"] = 0.005*model_dict[\"layer6.bias\"]\n",
    "updated_dict[\"layer7.bias\"] = 0.005*model_dict[\"layer7.bias\"]\n",
    "updated_dict[\"layer8.bias\"] = 0.005*model_dict[\"layer8.bias\"]\n",
    "updated_dict[\"layer9.bias\"] = 0.005*model_dict[\"layer9.bias\"]\n",
    "updated_dict[\"layer10.bias\"] = 0.005*model_dict[\"layer10.bias\"]\n",
    "updated_dict[\"layer11.bias\"] = 0.005*model_dict[\"layer11.bias\"]\n",
    "'''\n",
    "\n",
    "'''\n",
    "##model_t2hists.load_state_dict(updated_dict,strict=False)\n",
    "\n",
    "##model__t2hists_dict = model_t2hists.state_dict()\n",
    "\n",
    "## let's get the tracks-to-kde model here\n",
    "t2kde_folder = '25December__DDplus_loss_Ba_iter5_floatAll_800epochs_5em6'  ## really iter6, really Dec. 27\n",
    "t2kde_folder = '25December__DDplus_loss_Ba_iter7_floatAll_800epochs_4em6'\n",
    "t2kde_name = t2kde_folder\n",
    "suffix = 'final'\n",
    "t2kde_dict_name = 'ML/' + t2kde_folder + '/' + t2kde_name + '_'+ suffix + '.pyt'\n",
    "print('t2kde_dict_name = ',t2kde_dict_name)\n",
    "pretrained_t2kde_dict = torch.load(t2kde_dict_name)\n",
    "\n",
    "print(\" \\n\",\"  for t2kde_pretrained_dict\")\n",
    "index = 0\n",
    "for k,v in pretrained_t2kde_dict.items():\n",
    "    print(\"index, k =  \",index,\"  \",k)\n",
    "    index = index+1\n",
    "    \n",
    "    \n",
    "## let's get the hists-to-kde model here   \n",
    "kde2hists_folder = '02June2020_CNN5Layer_Ca_another200epochs_K'\n",
    "kde2hists_name = kde2hists_folder\n",
    "suffix = 'final'\n",
    "kde2hists_dict_name = 'ML/' + kde2hists_folder + '/' + kde2hists_name + '_'+ suffix + '.pyt'\n",
    "## mds dec28 print('kde2hists_dict_name = ',kde2hists_dict_name)\n",
    "pretrained_kde2hists_dict = torch.load(kde2hists_dict_name)\n",
    "\n",
    "print(\" \\n\",\"  for kde2hists_pretrained_dict\")\n",
    "index = 0\n",
    "for k,v in pretrained_kde2hists_dict.items():\n",
    "    print(\"index, k =  \",index,\"  \",k)\n",
    "    index = index+1\n",
    " \n",
    "\n",
    "\n",
    "##print(\"model_dict instantiated\")\n",
    "# 1. filter out unnecessary keys\n",
    "pretrained_dict = {k: v for k, v in pretrained_t2kde_dict.items() if k in model_t2hists_dict}\n",
    "## mds dec28 print(\"pretrained_dict iterated\")\n",
    "# 2. overwrite entries in the existing state dict\n",
    "model_t2hists_dict.update(pretrained_dict) \n",
    "\n",
    "update_dict[\"hist_conv1.weight\"] = pretrained_kde2hists_dict[\"conv1.weight\"]\n",
    "update_dict[\"hist_conv1.bias\"]   = pretrained_kde2hists_dict[\"conv1.bias\"]\n",
    "update_dict[\"hist_conv2.weight\"] = pretrained_kde2hists_dict[\"conv2.weight\"]\n",
    "update_dict[\"hist_conv2.bias\"]   = pretrained_kde2hists_dict[\"conv2.bias\"]\n",
    "update_dict[\"hist_conv3.weight\"] = pretrained_kde2hists_dict[\"conv3.weight\"]\n",
    "update_dict[\"hist_conv3.bias\"]   = pretrained_kde2hists_dict[\"conv3.bias\"]\n",
    "update_dict[\"hist_conv4.weight\"] = pretrained_kde2hists_dict[\"conv4.weight\"]\n",
    "update_dict[\"hist_conv4.bias\"]   = pretrained_kde2hists_dict[\"conv4.bias\"]\n",
    "update_dict[\"hist_conv5.weight\"] = pretrained_kde2hists_dict[\"conv5.weight\"]\n",
    "update_dict[\"hist_conv5.bias\"]   = pretrained_kde2hists_dict[\"conv5.bias\"]\n",
    "update_dict[\"hist_fc1.weight\"]   = pretrained_kde2hists_dict[\"fc1.weight\"]\n",
    "update_dict[\"hist_fc1.bias\"]     = pretrained_kde2hists_dict[\"fc1.bias\"]\n",
    "\n",
    "##model_t2hists.update(update_dict,strict=False)\n",
    "model_t2hists.load_state_dict(update_dict,strict=False)\n",
    "model_t2hists_dict = model_t2hists.state_dict()\n",
    "'''\n",
    "\n",
    "##\n",
    "#   when starting from a model with a fully connected last layer rather than a convolutional layer\n",
    "# 3. load the new state dict\n",
    "#   need to use strict=False as the two models state model attributes do not agree exactly\n",
    "#   see https://pytorch.org/docs/master/_modules/torch/nn/modules/module.html#Module.load_state_dict\n",
    "\n",
    "t2hists_folder = '28December_Tracks_to_Hists_FirstTraining_700epochs_lr_1em7_2p5_kde2hists_frozen'\n",
    "t2hists_name = t2hists_folder\n",
    "suffix = 'final'\n",
    "t2hists_dict_name = 'ML/' + t2hists_folder + '/' +t2hists_name + '_'+ suffix + '.pyt'\n",
    "## mds dec28 print('kde2hists_dict_name = ',kde2hists_dict_name)\n",
    "pretrained_t2hists_dict = torch.load(t2hists_dict_name) \n",
    "\n",
    "model_t2hists.load_state_dict(pretrained_t2hists_dict,strict=False)\n",
    "\n",
    "##  print('model_t2hists_dict =    ', model_t2hists_dict)\n"
   ]
  },
  {
   "cell_type": "code",
   "execution_count": 15,
   "metadata": {},
   "outputs": [],
   "source": [
    "##print('validation.dataset.tensors = ',validation.dataset.tensors)\n",
    "fig_size = plt.rcParams[\"figure.figsize\"]\n",
    "fig_size[0] = 10\n",
    "fig_size[1] = 4\n",
    "plt.rcParams[\"figure.figsize\"] = fig_size"
   ]
  },
  {
   "cell_type": "code",
   "execution_count": 16,
   "metadata": {
    "scrolled": true
   },
   "outputs": [],
   "source": [
    "model = model_t2hists.to(device)"
   ]
  },
  {
   "cell_type": "code",
   "execution_count": 17,
   "metadata": {},
   "outputs": [
    {
     "data": {
      "application/javascript": [
       "/* Put everything inside the global mpl namespace */\n",
       "window.mpl = {};\n",
       "\n",
       "\n",
       "mpl.get_websocket_type = function() {\n",
       "    if (typeof(WebSocket) !== 'undefined') {\n",
       "        return WebSocket;\n",
       "    } else if (typeof(MozWebSocket) !== 'undefined') {\n",
       "        return MozWebSocket;\n",
       "    } else {\n",
       "        alert('Your browser does not have WebSocket support. ' +\n",
       "              'Please try Chrome, Safari or Firefox ≥ 6. ' +\n",
       "              'Firefox 4 and 5 are also supported but you ' +\n",
       "              'have to enable WebSockets in about:config.');\n",
       "    };\n",
       "}\n",
       "\n",
       "mpl.figure = function(figure_id, websocket, ondownload, parent_element) {\n",
       "    this.id = figure_id;\n",
       "\n",
       "    this.ws = websocket;\n",
       "\n",
       "    this.supports_binary = (this.ws.binaryType != undefined);\n",
       "\n",
       "    if (!this.supports_binary) {\n",
       "        var warnings = document.getElementById(\"mpl-warnings\");\n",
       "        if (warnings) {\n",
       "            warnings.style.display = 'block';\n",
       "            warnings.textContent = (\n",
       "                \"This browser does not support binary websocket messages. \" +\n",
       "                    \"Performance may be slow.\");\n",
       "        }\n",
       "    }\n",
       "\n",
       "    this.imageObj = new Image();\n",
       "\n",
       "    this.context = undefined;\n",
       "    this.message = undefined;\n",
       "    this.canvas = undefined;\n",
       "    this.rubberband_canvas = undefined;\n",
       "    this.rubberband_context = undefined;\n",
       "    this.format_dropdown = undefined;\n",
       "\n",
       "    this.image_mode = 'full';\n",
       "\n",
       "    this.root = $('<div/>');\n",
       "    this._root_extra_style(this.root)\n",
       "    this.root.attr('style', 'display: inline-block');\n",
       "\n",
       "    $(parent_element).append(this.root);\n",
       "\n",
       "    this._init_header(this);\n",
       "    this._init_canvas(this);\n",
       "    this._init_toolbar(this);\n",
       "\n",
       "    var fig = this;\n",
       "\n",
       "    this.waiting = false;\n",
       "\n",
       "    this.ws.onopen =  function () {\n",
       "            fig.send_message(\"supports_binary\", {value: fig.supports_binary});\n",
       "            fig.send_message(\"send_image_mode\", {});\n",
       "            if (mpl.ratio != 1) {\n",
       "                fig.send_message(\"set_dpi_ratio\", {'dpi_ratio': mpl.ratio});\n",
       "            }\n",
       "            fig.send_message(\"refresh\", {});\n",
       "        }\n",
       "\n",
       "    this.imageObj.onload = function() {\n",
       "            if (fig.image_mode == 'full') {\n",
       "                // Full images could contain transparency (where diff images\n",
       "                // almost always do), so we need to clear the canvas so that\n",
       "                // there is no ghosting.\n",
       "                fig.context.clearRect(0, 0, fig.canvas.width, fig.canvas.height);\n",
       "            }\n",
       "            fig.context.drawImage(fig.imageObj, 0, 0);\n",
       "        };\n",
       "\n",
       "    this.imageObj.onunload = function() {\n",
       "        fig.ws.close();\n",
       "    }\n",
       "\n",
       "    this.ws.onmessage = this._make_on_message_function(this);\n",
       "\n",
       "    this.ondownload = ondownload;\n",
       "}\n",
       "\n",
       "mpl.figure.prototype._init_header = function() {\n",
       "    var titlebar = $(\n",
       "        '<div class=\"ui-dialog-titlebar ui-widget-header ui-corner-all ' +\n",
       "        'ui-helper-clearfix\"/>');\n",
       "    var titletext = $(\n",
       "        '<div class=\"ui-dialog-title\" style=\"width: 100%; ' +\n",
       "        'text-align: center; padding: 3px;\"/>');\n",
       "    titlebar.append(titletext)\n",
       "    this.root.append(titlebar);\n",
       "    this.header = titletext[0];\n",
       "}\n",
       "\n",
       "\n",
       "\n",
       "mpl.figure.prototype._canvas_extra_style = function(canvas_div) {\n",
       "\n",
       "}\n",
       "\n",
       "\n",
       "mpl.figure.prototype._root_extra_style = function(canvas_div) {\n",
       "\n",
       "}\n",
       "\n",
       "mpl.figure.prototype._init_canvas = function() {\n",
       "    var fig = this;\n",
       "\n",
       "    var canvas_div = $('<div/>');\n",
       "\n",
       "    canvas_div.attr('style', 'position: relative; clear: both; outline: 0');\n",
       "\n",
       "    function canvas_keyboard_event(event) {\n",
       "        return fig.key_event(event, event['data']);\n",
       "    }\n",
       "\n",
       "    canvas_div.keydown('key_press', canvas_keyboard_event);\n",
       "    canvas_div.keyup('key_release', canvas_keyboard_event);\n",
       "    this.canvas_div = canvas_div\n",
       "    this._canvas_extra_style(canvas_div)\n",
       "    this.root.append(canvas_div);\n",
       "\n",
       "    var canvas = $('<canvas/>');\n",
       "    canvas.addClass('mpl-canvas');\n",
       "    canvas.attr('style', \"left: 0; top: 0; z-index: 0; outline: 0\")\n",
       "\n",
       "    this.canvas = canvas[0];\n",
       "    this.context = canvas[0].getContext(\"2d\");\n",
       "\n",
       "    var backingStore = this.context.backingStorePixelRatio ||\n",
       "\tthis.context.webkitBackingStorePixelRatio ||\n",
       "\tthis.context.mozBackingStorePixelRatio ||\n",
       "\tthis.context.msBackingStorePixelRatio ||\n",
       "\tthis.context.oBackingStorePixelRatio ||\n",
       "\tthis.context.backingStorePixelRatio || 1;\n",
       "\n",
       "    mpl.ratio = (window.devicePixelRatio || 1) / backingStore;\n",
       "\n",
       "    var rubberband = $('<canvas/>');\n",
       "    rubberband.attr('style', \"position: absolute; left: 0; top: 0; z-index: 1;\")\n",
       "\n",
       "    var pass_mouse_events = true;\n",
       "\n",
       "    canvas_div.resizable({\n",
       "        start: function(event, ui) {\n",
       "            pass_mouse_events = false;\n",
       "        },\n",
       "        resize: function(event, ui) {\n",
       "            fig.request_resize(ui.size.width, ui.size.height);\n",
       "        },\n",
       "        stop: function(event, ui) {\n",
       "            pass_mouse_events = true;\n",
       "            fig.request_resize(ui.size.width, ui.size.height);\n",
       "        },\n",
       "    });\n",
       "\n",
       "    function mouse_event_fn(event) {\n",
       "        if (pass_mouse_events)\n",
       "            return fig.mouse_event(event, event['data']);\n",
       "    }\n",
       "\n",
       "    rubberband.mousedown('button_press', mouse_event_fn);\n",
       "    rubberband.mouseup('button_release', mouse_event_fn);\n",
       "    // Throttle sequential mouse events to 1 every 20ms.\n",
       "    rubberband.mousemove('motion_notify', mouse_event_fn);\n",
       "\n",
       "    rubberband.mouseenter('figure_enter', mouse_event_fn);\n",
       "    rubberband.mouseleave('figure_leave', mouse_event_fn);\n",
       "\n",
       "    canvas_div.on(\"wheel\", function (event) {\n",
       "        event = event.originalEvent;\n",
       "        event['data'] = 'scroll'\n",
       "        if (event.deltaY < 0) {\n",
       "            event.step = 1;\n",
       "        } else {\n",
       "            event.step = -1;\n",
       "        }\n",
       "        mouse_event_fn(event);\n",
       "    });\n",
       "\n",
       "    canvas_div.append(canvas);\n",
       "    canvas_div.append(rubberband);\n",
       "\n",
       "    this.rubberband = rubberband;\n",
       "    this.rubberband_canvas = rubberband[0];\n",
       "    this.rubberband_context = rubberband[0].getContext(\"2d\");\n",
       "    this.rubberband_context.strokeStyle = \"#000000\";\n",
       "\n",
       "    this._resize_canvas = function(width, height) {\n",
       "        // Keep the size of the canvas, canvas container, and rubber band\n",
       "        // canvas in synch.\n",
       "        canvas_div.css('width', width)\n",
       "        canvas_div.css('height', height)\n",
       "\n",
       "        canvas.attr('width', width * mpl.ratio);\n",
       "        canvas.attr('height', height * mpl.ratio);\n",
       "        canvas.attr('style', 'width: ' + width + 'px; height: ' + height + 'px;');\n",
       "\n",
       "        rubberband.attr('width', width);\n",
       "        rubberband.attr('height', height);\n",
       "    }\n",
       "\n",
       "    // Set the figure to an initial 600x600px, this will subsequently be updated\n",
       "    // upon first draw.\n",
       "    this._resize_canvas(600, 600);\n",
       "\n",
       "    // Disable right mouse context menu.\n",
       "    $(this.rubberband_canvas).bind(\"contextmenu\",function(e){\n",
       "        return false;\n",
       "    });\n",
       "\n",
       "    function set_focus () {\n",
       "        canvas.focus();\n",
       "        canvas_div.focus();\n",
       "    }\n",
       "\n",
       "    window.setTimeout(set_focus, 100);\n",
       "}\n",
       "\n",
       "mpl.figure.prototype._init_toolbar = function() {\n",
       "    var fig = this;\n",
       "\n",
       "    var nav_element = $('<div/>');\n",
       "    nav_element.attr('style', 'width: 100%');\n",
       "    this.root.append(nav_element);\n",
       "\n",
       "    // Define a callback function for later on.\n",
       "    function toolbar_event(event) {\n",
       "        return fig.toolbar_button_onclick(event['data']);\n",
       "    }\n",
       "    function toolbar_mouse_event(event) {\n",
       "        return fig.toolbar_button_onmouseover(event['data']);\n",
       "    }\n",
       "\n",
       "    for(var toolbar_ind in mpl.toolbar_items) {\n",
       "        var name = mpl.toolbar_items[toolbar_ind][0];\n",
       "        var tooltip = mpl.toolbar_items[toolbar_ind][1];\n",
       "        var image = mpl.toolbar_items[toolbar_ind][2];\n",
       "        var method_name = mpl.toolbar_items[toolbar_ind][3];\n",
       "\n",
       "        if (!name) {\n",
       "            // put a spacer in here.\n",
       "            continue;\n",
       "        }\n",
       "        var button = $('<button/>');\n",
       "        button.addClass('ui-button ui-widget ui-state-default ui-corner-all ' +\n",
       "                        'ui-button-icon-only');\n",
       "        button.attr('role', 'button');\n",
       "        button.attr('aria-disabled', 'false');\n",
       "        button.click(method_name, toolbar_event);\n",
       "        button.mouseover(tooltip, toolbar_mouse_event);\n",
       "\n",
       "        var icon_img = $('<span/>');\n",
       "        icon_img.addClass('ui-button-icon-primary ui-icon');\n",
       "        icon_img.addClass(image);\n",
       "        icon_img.addClass('ui-corner-all');\n",
       "\n",
       "        var tooltip_span = $('<span/>');\n",
       "        tooltip_span.addClass('ui-button-text');\n",
       "        tooltip_span.html(tooltip);\n",
       "\n",
       "        button.append(icon_img);\n",
       "        button.append(tooltip_span);\n",
       "\n",
       "        nav_element.append(button);\n",
       "    }\n",
       "\n",
       "    var fmt_picker_span = $('<span/>');\n",
       "\n",
       "    var fmt_picker = $('<select/>');\n",
       "    fmt_picker.addClass('mpl-toolbar-option ui-widget ui-widget-content');\n",
       "    fmt_picker_span.append(fmt_picker);\n",
       "    nav_element.append(fmt_picker_span);\n",
       "    this.format_dropdown = fmt_picker[0];\n",
       "\n",
       "    for (var ind in mpl.extensions) {\n",
       "        var fmt = mpl.extensions[ind];\n",
       "        var option = $(\n",
       "            '<option/>', {selected: fmt === mpl.default_extension}).html(fmt);\n",
       "        fmt_picker.append(option);\n",
       "    }\n",
       "\n",
       "    // Add hover states to the ui-buttons\n",
       "    $( \".ui-button\" ).hover(\n",
       "        function() { $(this).addClass(\"ui-state-hover\");},\n",
       "        function() { $(this).removeClass(\"ui-state-hover\");}\n",
       "    );\n",
       "\n",
       "    var status_bar = $('<span class=\"mpl-message\"/>');\n",
       "    nav_element.append(status_bar);\n",
       "    this.message = status_bar[0];\n",
       "}\n",
       "\n",
       "mpl.figure.prototype.request_resize = function(x_pixels, y_pixels) {\n",
       "    // Request matplotlib to resize the figure. Matplotlib will then trigger a resize in the client,\n",
       "    // which will in turn request a refresh of the image.\n",
       "    this.send_message('resize', {'width': x_pixels, 'height': y_pixels});\n",
       "}\n",
       "\n",
       "mpl.figure.prototype.send_message = function(type, properties) {\n",
       "    properties['type'] = type;\n",
       "    properties['figure_id'] = this.id;\n",
       "    this.ws.send(JSON.stringify(properties));\n",
       "}\n",
       "\n",
       "mpl.figure.prototype.send_draw_message = function() {\n",
       "    if (!this.waiting) {\n",
       "        this.waiting = true;\n",
       "        this.ws.send(JSON.stringify({type: \"draw\", figure_id: this.id}));\n",
       "    }\n",
       "}\n",
       "\n",
       "\n",
       "mpl.figure.prototype.handle_save = function(fig, msg) {\n",
       "    var format_dropdown = fig.format_dropdown;\n",
       "    var format = format_dropdown.options[format_dropdown.selectedIndex].value;\n",
       "    fig.ondownload(fig, format);\n",
       "}\n",
       "\n",
       "\n",
       "mpl.figure.prototype.handle_resize = function(fig, msg) {\n",
       "    var size = msg['size'];\n",
       "    if (size[0] != fig.canvas.width || size[1] != fig.canvas.height) {\n",
       "        fig._resize_canvas(size[0], size[1]);\n",
       "        fig.send_message(\"refresh\", {});\n",
       "    };\n",
       "}\n",
       "\n",
       "mpl.figure.prototype.handle_rubberband = function(fig, msg) {\n",
       "    var x0 = msg['x0'] / mpl.ratio;\n",
       "    var y0 = (fig.canvas.height - msg['y0']) / mpl.ratio;\n",
       "    var x1 = msg['x1'] / mpl.ratio;\n",
       "    var y1 = (fig.canvas.height - msg['y1']) / mpl.ratio;\n",
       "    x0 = Math.floor(x0) + 0.5;\n",
       "    y0 = Math.floor(y0) + 0.5;\n",
       "    x1 = Math.floor(x1) + 0.5;\n",
       "    y1 = Math.floor(y1) + 0.5;\n",
       "    var min_x = Math.min(x0, x1);\n",
       "    var min_y = Math.min(y0, y1);\n",
       "    var width = Math.abs(x1 - x0);\n",
       "    var height = Math.abs(y1 - y0);\n",
       "\n",
       "    fig.rubberband_context.clearRect(\n",
       "        0, 0, fig.canvas.width / mpl.ratio, fig.canvas.height / mpl.ratio);\n",
       "\n",
       "    fig.rubberband_context.strokeRect(min_x, min_y, width, height);\n",
       "}\n",
       "\n",
       "mpl.figure.prototype.handle_figure_label = function(fig, msg) {\n",
       "    // Updates the figure title.\n",
       "    fig.header.textContent = msg['label'];\n",
       "}\n",
       "\n",
       "mpl.figure.prototype.handle_cursor = function(fig, msg) {\n",
       "    var cursor = msg['cursor'];\n",
       "    switch(cursor)\n",
       "    {\n",
       "    case 0:\n",
       "        cursor = 'pointer';\n",
       "        break;\n",
       "    case 1:\n",
       "        cursor = 'default';\n",
       "        break;\n",
       "    case 2:\n",
       "        cursor = 'crosshair';\n",
       "        break;\n",
       "    case 3:\n",
       "        cursor = 'move';\n",
       "        break;\n",
       "    }\n",
       "    fig.rubberband_canvas.style.cursor = cursor;\n",
       "}\n",
       "\n",
       "mpl.figure.prototype.handle_message = function(fig, msg) {\n",
       "    fig.message.textContent = msg['message'];\n",
       "}\n",
       "\n",
       "mpl.figure.prototype.handle_draw = function(fig, msg) {\n",
       "    // Request the server to send over a new figure.\n",
       "    fig.send_draw_message();\n",
       "}\n",
       "\n",
       "mpl.figure.prototype.handle_image_mode = function(fig, msg) {\n",
       "    fig.image_mode = msg['mode'];\n",
       "}\n",
       "\n",
       "mpl.figure.prototype.updated_canvas_event = function() {\n",
       "    // Called whenever the canvas gets updated.\n",
       "    this.send_message(\"ack\", {});\n",
       "}\n",
       "\n",
       "// A function to construct a web socket function for onmessage handling.\n",
       "// Called in the figure constructor.\n",
       "mpl.figure.prototype._make_on_message_function = function(fig) {\n",
       "    return function socket_on_message(evt) {\n",
       "        if (evt.data instanceof Blob) {\n",
       "            /* FIXME: We get \"Resource interpreted as Image but\n",
       "             * transferred with MIME type text/plain:\" errors on\n",
       "             * Chrome.  But how to set the MIME type?  It doesn't seem\n",
       "             * to be part of the websocket stream */\n",
       "            evt.data.type = \"image/png\";\n",
       "\n",
       "            /* Free the memory for the previous frames */\n",
       "            if (fig.imageObj.src) {\n",
       "                (window.URL || window.webkitURL).revokeObjectURL(\n",
       "                    fig.imageObj.src);\n",
       "            }\n",
       "\n",
       "            fig.imageObj.src = (window.URL || window.webkitURL).createObjectURL(\n",
       "                evt.data);\n",
       "            fig.updated_canvas_event();\n",
       "            fig.waiting = false;\n",
       "            return;\n",
       "        }\n",
       "        else if (typeof evt.data === 'string' && evt.data.slice(0, 21) == \"data:image/png;base64\") {\n",
       "            fig.imageObj.src = evt.data;\n",
       "            fig.updated_canvas_event();\n",
       "            fig.waiting = false;\n",
       "            return;\n",
       "        }\n",
       "\n",
       "        var msg = JSON.parse(evt.data);\n",
       "        var msg_type = msg['type'];\n",
       "\n",
       "        // Call the  \"handle_{type}\" callback, which takes\n",
       "        // the figure and JSON message as its only arguments.\n",
       "        try {\n",
       "            var callback = fig[\"handle_\" + msg_type];\n",
       "        } catch (e) {\n",
       "            console.log(\"No handler for the '\" + msg_type + \"' message type: \", msg);\n",
       "            return;\n",
       "        }\n",
       "\n",
       "        if (callback) {\n",
       "            try {\n",
       "                // console.log(\"Handling '\" + msg_type + \"' message: \", msg);\n",
       "                callback(fig, msg);\n",
       "            } catch (e) {\n",
       "                console.log(\"Exception inside the 'handler_\" + msg_type + \"' callback:\", e, e.stack, msg);\n",
       "            }\n",
       "        }\n",
       "    };\n",
       "}\n",
       "\n",
       "// from http://stackoverflow.com/questions/1114465/getting-mouse-location-in-canvas\n",
       "mpl.findpos = function(e) {\n",
       "    //this section is from http://www.quirksmode.org/js/events_properties.html\n",
       "    var targ;\n",
       "    if (!e)\n",
       "        e = window.event;\n",
       "    if (e.target)\n",
       "        targ = e.target;\n",
       "    else if (e.srcElement)\n",
       "        targ = e.srcElement;\n",
       "    if (targ.nodeType == 3) // defeat Safari bug\n",
       "        targ = targ.parentNode;\n",
       "\n",
       "    // jQuery normalizes the pageX and pageY\n",
       "    // pageX,Y are the mouse positions relative to the document\n",
       "    // offset() returns the position of the element relative to the document\n",
       "    var x = e.pageX - $(targ).offset().left;\n",
       "    var y = e.pageY - $(targ).offset().top;\n",
       "\n",
       "    return {\"x\": x, \"y\": y};\n",
       "};\n",
       "\n",
       "/*\n",
       " * return a copy of an object with only non-object keys\n",
       " * we need this to avoid circular references\n",
       " * http://stackoverflow.com/a/24161582/3208463\n",
       " */\n",
       "function simpleKeys (original) {\n",
       "  return Object.keys(original).reduce(function (obj, key) {\n",
       "    if (typeof original[key] !== 'object')\n",
       "        obj[key] = original[key]\n",
       "    return obj;\n",
       "  }, {});\n",
       "}\n",
       "\n",
       "mpl.figure.prototype.mouse_event = function(event, name) {\n",
       "    var canvas_pos = mpl.findpos(event)\n",
       "\n",
       "    if (name === 'button_press')\n",
       "    {\n",
       "        this.canvas.focus();\n",
       "        this.canvas_div.focus();\n",
       "    }\n",
       "\n",
       "    var x = canvas_pos.x * mpl.ratio;\n",
       "    var y = canvas_pos.y * mpl.ratio;\n",
       "\n",
       "    this.send_message(name, {x: x, y: y, button: event.button,\n",
       "                             step: event.step,\n",
       "                             guiEvent: simpleKeys(event)});\n",
       "\n",
       "    /* This prevents the web browser from automatically changing to\n",
       "     * the text insertion cursor when the button is pressed.  We want\n",
       "     * to control all of the cursor setting manually through the\n",
       "     * 'cursor' event from matplotlib */\n",
       "    event.preventDefault();\n",
       "    return false;\n",
       "}\n",
       "\n",
       "mpl.figure.prototype._key_event_extra = function(event, name) {\n",
       "    // Handle any extra behaviour associated with a key event\n",
       "}\n",
       "\n",
       "mpl.figure.prototype.key_event = function(event, name) {\n",
       "\n",
       "    // Prevent repeat events\n",
       "    if (name == 'key_press')\n",
       "    {\n",
       "        if (event.which === this._key)\n",
       "            return;\n",
       "        else\n",
       "            this._key = event.which;\n",
       "    }\n",
       "    if (name == 'key_release')\n",
       "        this._key = null;\n",
       "\n",
       "    var value = '';\n",
       "    if (event.ctrlKey && event.which != 17)\n",
       "        value += \"ctrl+\";\n",
       "    if (event.altKey && event.which != 18)\n",
       "        value += \"alt+\";\n",
       "    if (event.shiftKey && event.which != 16)\n",
       "        value += \"shift+\";\n",
       "\n",
       "    value += 'k';\n",
       "    value += event.which.toString();\n",
       "\n",
       "    this._key_event_extra(event, name);\n",
       "\n",
       "    this.send_message(name, {key: value,\n",
       "                             guiEvent: simpleKeys(event)});\n",
       "    return false;\n",
       "}\n",
       "\n",
       "mpl.figure.prototype.toolbar_button_onclick = function(name) {\n",
       "    if (name == 'download') {\n",
       "        this.handle_save(this, null);\n",
       "    } else {\n",
       "        this.send_message(\"toolbar_button\", {name: name});\n",
       "    }\n",
       "};\n",
       "\n",
       "mpl.figure.prototype.toolbar_button_onmouseover = function(tooltip) {\n",
       "    this.message.textContent = tooltip;\n",
       "};\n",
       "mpl.toolbar_items = [[\"Home\", \"Reset original view\", \"fa fa-home icon-home\", \"home\"], [\"Back\", \"Back to previous view\", \"fa fa-arrow-left icon-arrow-left\", \"back\"], [\"Forward\", \"Forward to next view\", \"fa fa-arrow-right icon-arrow-right\", \"forward\"], [\"\", \"\", \"\", \"\"], [\"Pan\", \"Pan axes with left mouse, zoom with right\", \"fa fa-arrows icon-move\", \"pan\"], [\"Zoom\", \"Zoom to rectangle\", \"fa fa-square-o icon-check-empty\", \"zoom\"], [\"\", \"\", \"\", \"\"], [\"Download\", \"Download plot\", \"fa fa-floppy-o icon-save\", \"download\"]];\n",
       "\n",
       "mpl.extensions = [\"eps\", \"jpeg\", \"pdf\", \"png\", \"ps\", \"raw\", \"svg\", \"tif\"];\n",
       "\n",
       "mpl.default_extension = \"png\";var comm_websocket_adapter = function(comm) {\n",
       "    // Create a \"websocket\"-like object which calls the given IPython comm\n",
       "    // object with the appropriate methods. Currently this is a non binary\n",
       "    // socket, so there is still some room for performance tuning.\n",
       "    var ws = {};\n",
       "\n",
       "    ws.close = function() {\n",
       "        comm.close()\n",
       "    };\n",
       "    ws.send = function(m) {\n",
       "        //console.log('sending', m);\n",
       "        comm.send(m);\n",
       "    };\n",
       "    // Register the callback with on_msg.\n",
       "    comm.on_msg(function(msg) {\n",
       "        //console.log('receiving', msg['content']['data'], msg);\n",
       "        // Pass the mpl event to the overridden (by mpl) onmessage function.\n",
       "        ws.onmessage(msg['content']['data'])\n",
       "    });\n",
       "    return ws;\n",
       "}\n",
       "\n",
       "mpl.mpl_figure_comm = function(comm, msg) {\n",
       "    // This is the function which gets called when the mpl process\n",
       "    // starts-up an IPython Comm through the \"matplotlib\" channel.\n",
       "\n",
       "    var id = msg.content.data.id;\n",
       "    // Get hold of the div created by the display call when the Comm\n",
       "    // socket was opened in Python.\n",
       "    var element = $(\"#\" + id);\n",
       "    var ws_proxy = comm_websocket_adapter(comm)\n",
       "\n",
       "    function ondownload(figure, format) {\n",
       "        window.open(figure.imageObj.src);\n",
       "    }\n",
       "\n",
       "    var fig = new mpl.figure(id, ws_proxy,\n",
       "                           ondownload,\n",
       "                           element.get(0));\n",
       "\n",
       "    // Call onopen now - mpl needs it, as it is assuming we've passed it a real\n",
       "    // web socket which is closed, not our websocket->open comm proxy.\n",
       "    ws_proxy.onopen();\n",
       "\n",
       "    fig.parent_element = element.get(0);\n",
       "    fig.cell_info = mpl.find_output_cell(\"<div id='\" + id + \"'></div>\");\n",
       "    if (!fig.cell_info) {\n",
       "        console.error(\"Failed to find cell for figure\", id, fig);\n",
       "        return;\n",
       "    }\n",
       "\n",
       "    var output_index = fig.cell_info[2]\n",
       "    var cell = fig.cell_info[0];\n",
       "\n",
       "};\n",
       "\n",
       "mpl.figure.prototype.handle_close = function(fig, msg) {\n",
       "    var width = fig.canvas.width/mpl.ratio\n",
       "    fig.root.unbind('remove')\n",
       "\n",
       "    // Update the output cell to use the data from the current canvas.\n",
       "    fig.push_to_output();\n",
       "    var dataURL = fig.canvas.toDataURL();\n",
       "    // Re-enable the keyboard manager in IPython - without this line, in FF,\n",
       "    // the notebook keyboard shortcuts fail.\n",
       "    IPython.keyboard_manager.enable()\n",
       "    $(fig.parent_element).html('<img src=\"' + dataURL + '\" width=\"' + width + '\">');\n",
       "    fig.close_ws(fig, msg);\n",
       "}\n",
       "\n",
       "mpl.figure.prototype.close_ws = function(fig, msg){\n",
       "    fig.send_message('closing', msg);\n",
       "    // fig.ws.close()\n",
       "}\n",
       "\n",
       "mpl.figure.prototype.push_to_output = function(remove_interactive) {\n",
       "    // Turn the data on the canvas into data in the output cell.\n",
       "    var width = this.canvas.width/mpl.ratio\n",
       "    var dataURL = this.canvas.toDataURL();\n",
       "    this.cell_info[1]['text/html'] = '<img src=\"' + dataURL + '\" width=\"' + width + '\">';\n",
       "}\n",
       "\n",
       "mpl.figure.prototype.updated_canvas_event = function() {\n",
       "    // Tell IPython that the notebook contents must change.\n",
       "    IPython.notebook.set_dirty(true);\n",
       "    this.send_message(\"ack\", {});\n",
       "    var fig = this;\n",
       "    // Wait a second, then push the new image to the DOM so\n",
       "    // that it is saved nicely (might be nice to debounce this).\n",
       "    setTimeout(function () { fig.push_to_output() }, 1000);\n",
       "}\n",
       "\n",
       "mpl.figure.prototype._init_toolbar = function() {\n",
       "    var fig = this;\n",
       "\n",
       "    var nav_element = $('<div/>');\n",
       "    nav_element.attr('style', 'width: 100%');\n",
       "    this.root.append(nav_element);\n",
       "\n",
       "    // Define a callback function for later on.\n",
       "    function toolbar_event(event) {\n",
       "        return fig.toolbar_button_onclick(event['data']);\n",
       "    }\n",
       "    function toolbar_mouse_event(event) {\n",
       "        return fig.toolbar_button_onmouseover(event['data']);\n",
       "    }\n",
       "\n",
       "    for(var toolbar_ind in mpl.toolbar_items){\n",
       "        var name = mpl.toolbar_items[toolbar_ind][0];\n",
       "        var tooltip = mpl.toolbar_items[toolbar_ind][1];\n",
       "        var image = mpl.toolbar_items[toolbar_ind][2];\n",
       "        var method_name = mpl.toolbar_items[toolbar_ind][3];\n",
       "\n",
       "        if (!name) { continue; };\n",
       "\n",
       "        var button = $('<button class=\"btn btn-default\" href=\"#\" title=\"' + name + '\"><i class=\"fa ' + image + ' fa-lg\"></i></button>');\n",
       "        button.click(method_name, toolbar_event);\n",
       "        button.mouseover(tooltip, toolbar_mouse_event);\n",
       "        nav_element.append(button);\n",
       "    }\n",
       "\n",
       "    // Add the status bar.\n",
       "    var status_bar = $('<span class=\"mpl-message\" style=\"text-align:right; float: right;\"/>');\n",
       "    nav_element.append(status_bar);\n",
       "    this.message = status_bar[0];\n",
       "\n",
       "    // Add the close button to the window.\n",
       "    var buttongrp = $('<div class=\"btn-group inline pull-right\"></div>');\n",
       "    var button = $('<button class=\"btn btn-mini btn-primary\" href=\"#\" title=\"Stop Interaction\"><i class=\"fa fa-power-off icon-remove icon-large\"></i></button>');\n",
       "    button.click(function (evt) { fig.handle_close(fig, {}); } );\n",
       "    button.mouseover('Stop Interaction', toolbar_mouse_event);\n",
       "    buttongrp.append(button);\n",
       "    var titlebar = this.root.find($('.ui-dialog-titlebar'));\n",
       "    titlebar.prepend(buttongrp);\n",
       "}\n",
       "\n",
       "mpl.figure.prototype._root_extra_style = function(el){\n",
       "    var fig = this\n",
       "    el.on(\"remove\", function(){\n",
       "\tfig.close_ws(fig, {});\n",
       "    });\n",
       "}\n",
       "\n",
       "mpl.figure.prototype._canvas_extra_style = function(el){\n",
       "    // this is important to make the div 'focusable\n",
       "    el.attr('tabindex', 0)\n",
       "    // reach out to IPython and tell the keyboard manager to turn it's self\n",
       "    // off when our div gets focus\n",
       "\n",
       "    // location in version 3\n",
       "    if (IPython.notebook.keyboard_manager) {\n",
       "        IPython.notebook.keyboard_manager.register_events(el);\n",
       "    }\n",
       "    else {\n",
       "        // location in version 2\n",
       "        IPython.keyboard_manager.register_events(el);\n",
       "    }\n",
       "\n",
       "}\n",
       "\n",
       "mpl.figure.prototype._key_event_extra = function(event, name) {\n",
       "    var manager = IPython.notebook.keyboard_manager;\n",
       "    if (!manager)\n",
       "        manager = IPython.keyboard_manager;\n",
       "\n",
       "    // Check for shift+enter\n",
       "    if (event.shiftKey && event.which == 13) {\n",
       "        this.canvas_div.blur();\n",
       "        // select the cell after this one\n",
       "        var index = IPython.notebook.find_cell_index(this.cell_info[0]);\n",
       "        IPython.notebook.select(index + 1);\n",
       "    }\n",
       "}\n",
       "\n",
       "mpl.figure.prototype.handle_save = function(fig, msg) {\n",
       "    fig.ondownload(fig, null);\n",
       "}\n",
       "\n",
       "\n",
       "mpl.find_output_cell = function(html_output) {\n",
       "    // Return the cell and output element which can be found *uniquely* in the notebook.\n",
       "    // Note - this is a bit hacky, but it is done because the \"notebook_saving.Notebook\"\n",
       "    // IPython event is triggered only after the cells have been serialised, which for\n",
       "    // our purposes (turning an active figure into a static one), is too late.\n",
       "    var cells = IPython.notebook.get_cells();\n",
       "    var ncells = cells.length;\n",
       "    for (var i=0; i<ncells; i++) {\n",
       "        var cell = cells[i];\n",
       "        if (cell.cell_type === 'code'){\n",
       "            for (var j=0; j<cell.output_area.outputs.length; j++) {\n",
       "                var data = cell.output_area.outputs[j];\n",
       "                if (data.data) {\n",
       "                    // IPython >= 3 moved mimebundle to data attribute of output\n",
       "                    data = data.data;\n",
       "                }\n",
       "                if (data['text/html'] == html_output) {\n",
       "                    return [cell, data, j];\n",
       "                }\n",
       "            }\n",
       "        }\n",
       "    }\n",
       "}\n",
       "\n",
       "// Register the function which deals with the matplotlib target/channel.\n",
       "// The kernel may be null if the page has been refreshed.\n",
       "if (IPython.notebook.kernel != null) {\n",
       "    IPython.notebook.kernel.comm_manager.register_target('matplotlib', mpl.mpl_figure_comm);\n",
       "}\n"
      ],
      "text/plain": [
       "<IPython.core.display.Javascript object>"
      ]
     },
     "metadata": {},
     "output_type": "display_data"
    },
    {
     "data": {
      "text/html": [
       "<img src=\"data:image/png;base64,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\" width=\"999.75\">"
      ],
      "text/plain": [
       "<IPython.core.display.HTML object>"
      ]
     },
     "metadata": {},
     "output_type": "display_data"
    }
   ],
   "source": [
    "ax, tax, lax, lines = dual_train_plots()\n",
    "fig = ax.figure\n",
    "plt.tight_layout()"
   ]
  },
  {
   "cell_type": "code",
   "execution_count": 18,
   "metadata": {
    "scrolled": false
   },
   "outputs": [
    {
     "name": "stdout",
     "output_type": "stream",
     "text": [
      "Number of batches: train = 1125, val = 125\n"
     ]
    },
    {
     "data": {
      "application/vnd.jupyter.widget-view+json": {
       "model_id": "20ac816f005a4b2fbdb5ee0e4df91687",
       "version_major": 2,
       "version_minor": 0
      },
      "text/plain": [
       "HBox(children=(FloatProgress(value=0.0, description='Epochs', layout=Layout(flex='2'), style=ProgressStyle(des…"
      ]
     },
     "metadata": {},
     "output_type": "display_data"
    },
    {
     "data": {
      "application/vnd.jupyter.widget-view+json": {
       "model_id": "",
       "version_major": 2,
       "version_minor": 0
      },
      "text/plain": [
       "HBox(children=(FloatProgress(value=0.0, description='Training', layout=Layout(flex='2'), max=1125.0, style=Pro…"
      ]
     },
     "metadata": {},
     "output_type": "display_data"
    },
    {
     "name": "stdout",
     "output_type": "stream",
     "text": [
      "Epoch 0: train=2.3242, val=2.2777, took 43.171 s\n",
      "  Validation Found 8792 of 10819, added 928 (eff 81.26%) (0.464 FP/event)\n"
     ]
    },
    {
     "data": {
      "application/vnd.jupyter.widget-view+json": {
       "model_id": "",
       "version_major": 2,
       "version_minor": 0
      },
      "text/plain": [
       "HBox(children=(FloatProgress(value=0.0, description='Training', layout=Layout(flex='2'), max=1125.0, style=Pro…"
      ]
     },
     "metadata": {},
     "output_type": "display_data"
    },
    {
     "name": "stdout",
     "output_type": "stream",
     "text": [
      "Epoch 1: train=2.32204, val=2.2793, took 43.68 s\n",
      "  Validation Found 8795 of 10819, added 938 (eff 81.29%) (0.469 FP/event)\n"
     ]
    },
    {
     "data": {
      "application/vnd.jupyter.widget-view+json": {
       "model_id": "",
       "version_major": 2,
       "version_minor": 0
      },
      "text/plain": [
       "HBox(children=(FloatProgress(value=0.0, description='Training', layout=Layout(flex='2'), max=1125.0, style=Pro…"
      ]
     },
     "metadata": {},
     "output_type": "display_data"
    },
    {
     "name": "stdout",
     "output_type": "stream",
     "text": [
      "Epoch 2: train=2.31384, val=2.27606, took 43.678 s\n",
      "  Validation Found 8812 of 10819, added 947 (eff 81.45%) (0.473 FP/event)\n"
     ]
    },
    {
     "data": {
      "application/vnd.jupyter.widget-view+json": {
       "model_id": "",
       "version_major": 2,
       "version_minor": 0
      },
      "text/plain": [
       "HBox(children=(FloatProgress(value=0.0, description='Training', layout=Layout(flex='2'), max=1125.0, style=Pro…"
      ]
     },
     "metadata": {},
     "output_type": "display_data"
    },
    {
     "name": "stdout",
     "output_type": "stream",
     "text": [
      "Epoch 3: train=2.31801, val=2.27639, took 43.612 s\n",
      "  Validation Found 8823 of 10819, added 954 (eff 81.55%) (0.477 FP/event)\n"
     ]
    },
    {
     "data": {
      "application/vnd.jupyter.widget-view+json": {
       "model_id": "",
       "version_major": 2,
       "version_minor": 0
      },
      "text/plain": [
       "HBox(children=(FloatProgress(value=0.0, description='Training', layout=Layout(flex='2'), max=1125.0, style=Pro…"
      ]
     },
     "metadata": {},
     "output_type": "display_data"
    },
    {
     "name": "stdout",
     "output_type": "stream",
     "text": [
      "Epoch 4: train=2.31795, val=2.2745, took 43.676 s\n",
      "  Validation Found 8831 of 10819, added 961 (eff 81.62%) (0.48 FP/event)\n"
     ]
    },
    {
     "data": {
      "application/vnd.jupyter.widget-view+json": {
       "model_id": "",
       "version_major": 2,
       "version_minor": 0
      },
      "text/plain": [
       "HBox(children=(FloatProgress(value=0.0, description='Training', layout=Layout(flex='2'), max=1125.0, style=Pro…"
      ]
     },
     "metadata": {},
     "output_type": "display_data"
    },
    {
     "name": "stdout",
     "output_type": "stream",
     "text": [
      "Epoch 5: train=2.31695, val=2.27546, took 43.739 s\n",
      "  Validation Found 8838 of 10819, added 963 (eff 81.69%) (0.481 FP/event)\n"
     ]
    },
    {
     "data": {
      "application/vnd.jupyter.widget-view+json": {
       "model_id": "",
       "version_major": 2,
       "version_minor": 0
      },
      "text/plain": [
       "HBox(children=(FloatProgress(value=0.0, description='Training', layout=Layout(flex='2'), max=1125.0, style=Pro…"
      ]
     },
     "metadata": {},
     "output_type": "display_data"
    },
    {
     "name": "stdout",
     "output_type": "stream",
     "text": [
      "Epoch 6: train=2.3153, val=2.27406, took 43.833 s\n",
      "  Validation Found 8847 of 10819, added 967 (eff 81.77%) (0.483 FP/event)\n"
     ]
    },
    {
     "data": {
      "application/vnd.jupyter.widget-view+json": {
       "model_id": "",
       "version_major": 2,
       "version_minor": 0
      },
      "text/plain": [
       "HBox(children=(FloatProgress(value=0.0, description='Training', layout=Layout(flex='2'), max=1125.0, style=Pro…"
      ]
     },
     "metadata": {},
     "output_type": "display_data"
    },
    {
     "name": "stdout",
     "output_type": "stream",
     "text": [
      "Epoch 7: train=2.31604, val=2.27279, took 44.042 s\n",
      "  Validation Found 8847 of 10819, added 970 (eff 81.77%) (0.485 FP/event)\n"
     ]
    },
    {
     "data": {
      "application/vnd.jupyter.widget-view+json": {
       "model_id": "",
       "version_major": 2,
       "version_minor": 0
      },
      "text/plain": [
       "HBox(children=(FloatProgress(value=0.0, description='Training', layout=Layout(flex='2'), max=1125.0, style=Pro…"
      ]
     },
     "metadata": {},
     "output_type": "display_data"
    },
    {
     "name": "stdout",
     "output_type": "stream",
     "text": [
      "Epoch 8: train=2.31038, val=2.27131, took 44.082 s\n",
      "  Validation Found 8847 of 10819, added 971 (eff 81.77%) (0.485 FP/event)\n"
     ]
    },
    {
     "data": {
      "application/vnd.jupyter.widget-view+json": {
       "model_id": "",
       "version_major": 2,
       "version_minor": 0
      },
      "text/plain": [
       "HBox(children=(FloatProgress(value=0.0, description='Training', layout=Layout(flex='2'), max=1125.0, style=Pro…"
      ]
     },
     "metadata": {},
     "output_type": "display_data"
    },
    {
     "name": "stdout",
     "output_type": "stream",
     "text": [
      "Epoch 9: train=2.31388, val=2.27031, took 43.945 s\n",
      "  Validation Found 8858 of 10819, added 973 (eff 81.87%) (0.486 FP/event)\n"
     ]
    },
    {
     "data": {
      "application/vnd.jupyter.widget-view+json": {
       "model_id": "",
       "version_major": 2,
       "version_minor": 0
      },
      "text/plain": [
       "HBox(children=(FloatProgress(value=0.0, description='Training', layout=Layout(flex='2'), max=1125.0, style=Pro…"
      ]
     },
     "metadata": {},
     "output_type": "display_data"
    },
    {
     "name": "stdout",
     "output_type": "stream",
     "text": [
      "Epoch 10: train=2.31185, val=2.26951, took 43.853 s\n",
      "  Validation Found 8856 of 10819, added 977 (eff 81.86%) (0.488 FP/event)\n"
     ]
    },
    {
     "data": {
      "application/vnd.jupyter.widget-view+json": {
       "model_id": "",
       "version_major": 2,
       "version_minor": 0
      },
      "text/plain": [
       "HBox(children=(FloatProgress(value=0.0, description='Training', layout=Layout(flex='2'), max=1125.0, style=Pro…"
      ]
     },
     "metadata": {},
     "output_type": "display_data"
    },
    {
     "name": "stdout",
     "output_type": "stream",
     "text": [
      "Epoch 11: train=2.31459, val=2.26892, took 43.989 s\n",
      "  Validation Found 8853 of 10819, added 971 (eff 81.83%) (0.485 FP/event)\n"
     ]
    },
    {
     "data": {
      "application/vnd.jupyter.widget-view+json": {
       "model_id": "",
       "version_major": 2,
       "version_minor": 0
      },
      "text/plain": [
       "HBox(children=(FloatProgress(value=0.0, description='Training', layout=Layout(flex='2'), max=1125.0, style=Pro…"
      ]
     },
     "metadata": {},
     "output_type": "display_data"
    },
    {
     "name": "stdout",
     "output_type": "stream",
     "text": [
      "Epoch 12: train=2.30864, val=2.26738, took 43.9 s\n",
      "  Validation Found 8856 of 10819, added 970 (eff 81.86%) (0.485 FP/event)\n"
     ]
    },
    {
     "data": {
      "application/vnd.jupyter.widget-view+json": {
       "model_id": "",
       "version_major": 2,
       "version_minor": 0
      },
      "text/plain": [
       "HBox(children=(FloatProgress(value=0.0, description='Training', layout=Layout(flex='2'), max=1125.0, style=Pro…"
      ]
     },
     "metadata": {},
     "output_type": "display_data"
    },
    {
     "name": "stdout",
     "output_type": "stream",
     "text": [
      "Epoch 13: train=2.30788, val=2.26716, took 43.91 s\n",
      "  Validation Found 8851 of 10819, added 970 (eff 81.81%) (0.485 FP/event)\n"
     ]
    },
    {
     "data": {
      "application/vnd.jupyter.widget-view+json": {
       "model_id": "",
       "version_major": 2,
       "version_minor": 0
      },
      "text/plain": [
       "HBox(children=(FloatProgress(value=0.0, description='Training', layout=Layout(flex='2'), max=1125.0, style=Pro…"
      ]
     },
     "metadata": {},
     "output_type": "display_data"
    },
    {
     "name": "stdout",
     "output_type": "stream",
     "text": [
      "Epoch 14: train=2.30754, val=2.26769, took 43.904 s\n",
      "  Validation Found 8862 of 10819, added 972 (eff 81.91%) (0.486 FP/event)\n"
     ]
    },
    {
     "data": {
      "application/vnd.jupyter.widget-view+json": {
       "model_id": "",
       "version_major": 2,
       "version_minor": 0
      },
      "text/plain": [
       "HBox(children=(FloatProgress(value=0.0, description='Training', layout=Layout(flex='2'), max=1125.0, style=Pro…"
      ]
     },
     "metadata": {},
     "output_type": "display_data"
    },
    {
     "name": "stdout",
     "output_type": "stream",
     "text": [
      "Epoch 15: train=2.30662, val=2.26544, took 43.85 s\n",
      "  Validation Found 8865 of 10819, added 971 (eff 81.94%) (0.485 FP/event)\n"
     ]
    },
    {
     "data": {
      "application/vnd.jupyter.widget-view+json": {
       "model_id": "",
       "version_major": 2,
       "version_minor": 0
      },
      "text/plain": [
       "HBox(children=(FloatProgress(value=0.0, description='Training', layout=Layout(flex='2'), max=1125.0, style=Pro…"
      ]
     },
     "metadata": {},
     "output_type": "display_data"
    },
    {
     "name": "stdout",
     "output_type": "stream",
     "text": [
      "Epoch 16: train=2.3068, val=2.26429, took 43.884 s\n",
      "  Validation Found 8863 of 10819, added 977 (eff 81.92%) (0.488 FP/event)\n"
     ]
    },
    {
     "data": {
      "application/vnd.jupyter.widget-view+json": {
       "model_id": "",
       "version_major": 2,
       "version_minor": 0
      },
      "text/plain": [
       "HBox(children=(FloatProgress(value=0.0, description='Training', layout=Layout(flex='2'), max=1125.0, style=Pro…"
      ]
     },
     "metadata": {},
     "output_type": "display_data"
    },
    {
     "name": "stdout",
     "output_type": "stream",
     "text": [
      "Epoch 17: train=2.30619, val=2.26389, took 43.864 s\n",
      "  Validation Found 8861 of 10819, added 979 (eff 81.90%) (0.489 FP/event)\n"
     ]
    },
    {
     "data": {
      "application/vnd.jupyter.widget-view+json": {
       "model_id": "",
       "version_major": 2,
       "version_minor": 0
      },
      "text/plain": [
       "HBox(children=(FloatProgress(value=0.0, description='Training', layout=Layout(flex='2'), max=1125.0, style=Pro…"
      ]
     },
     "metadata": {},
     "output_type": "display_data"
    },
    {
     "name": "stdout",
     "output_type": "stream",
     "text": [
      "Epoch 18: train=2.30927, val=2.2628, took 43.878 s\n",
      "  Validation Found 8866 of 10819, added 977 (eff 81.95%) (0.488 FP/event)\n"
     ]
    },
    {
     "data": {
      "application/vnd.jupyter.widget-view+json": {
       "model_id": "",
       "version_major": 2,
       "version_minor": 0
      },
      "text/plain": [
       "HBox(children=(FloatProgress(value=0.0, description='Training', layout=Layout(flex='2'), max=1125.0, style=Pro…"
      ]
     },
     "metadata": {},
     "output_type": "display_data"
    },
    {
     "name": "stdout",
     "output_type": "stream",
     "text": [
      "Epoch 19: train=2.30371, val=2.2622, took 44.25 s\n",
      "  Validation Found 8871 of 10819, added 979 (eff 81.99%) (0.489 FP/event)\n"
     ]
    },
    {
     "data": {
      "application/vnd.jupyter.widget-view+json": {
       "model_id": "",
       "version_major": 2,
       "version_minor": 0
      },
      "text/plain": [
       "HBox(children=(FloatProgress(value=0.0, description='Training', layout=Layout(flex='2'), max=1125.0, style=Pro…"
      ]
     },
     "metadata": {},
     "output_type": "display_data"
    },
    {
     "name": "stdout",
     "output_type": "stream",
     "text": [
      "Epoch 20: train=2.30272, val=2.26095, took 43.62 s\n",
      "  Validation Found 8877 of 10819, added 980 (eff 82.05%) (0.49 FP/event)\n"
     ]
    },
    {
     "data": {
      "application/vnd.jupyter.widget-view+json": {
       "model_id": "",
       "version_major": 2,
       "version_minor": 0
      },
      "text/plain": [
       "HBox(children=(FloatProgress(value=0.0, description='Training', layout=Layout(flex='2'), max=1125.0, style=Pro…"
      ]
     },
     "metadata": {},
     "output_type": "display_data"
    },
    {
     "name": "stdout",
     "output_type": "stream",
     "text": [
      "Epoch 21: train=2.30575, val=2.26043, took 43.9 s\n",
      "  Validation Found 8873 of 10819, added 980 (eff 82.01%) (0.49 FP/event)\n"
     ]
    },
    {
     "data": {
      "application/vnd.jupyter.widget-view+json": {
       "model_id": "",
       "version_major": 2,
       "version_minor": 0
      },
      "text/plain": [
       "HBox(children=(FloatProgress(value=0.0, description='Training', layout=Layout(flex='2'), max=1125.0, style=Pro…"
      ]
     },
     "metadata": {},
     "output_type": "display_data"
    },
    {
     "name": "stdout",
     "output_type": "stream",
     "text": [
      "Epoch 22: train=2.30297, val=2.25952, took 43.613 s\n",
      "  Validation Found 8880 of 10819, added 979 (eff 82.08%) (0.489 FP/event)\n"
     ]
    },
    {
     "data": {
      "application/vnd.jupyter.widget-view+json": {
       "model_id": "",
       "version_major": 2,
       "version_minor": 0
      },
      "text/plain": [
       "HBox(children=(FloatProgress(value=0.0, description='Training', layout=Layout(flex='2'), max=1125.0, style=Pro…"
      ]
     },
     "metadata": {},
     "output_type": "display_data"
    },
    {
     "name": "stdout",
     "output_type": "stream",
     "text": [
      "Epoch 23: train=2.30636, val=2.259, took 43.928 s\n",
      "  Validation Found 8877 of 10819, added 982 (eff 82.05%) (0.491 FP/event)\n"
     ]
    },
    {
     "data": {
      "application/vnd.jupyter.widget-view+json": {
       "model_id": "",
       "version_major": 2,
       "version_minor": 0
      },
      "text/plain": [
       "HBox(children=(FloatProgress(value=0.0, description='Training', layout=Layout(flex='2'), max=1125.0, style=Pro…"
      ]
     },
     "metadata": {},
     "output_type": "display_data"
    },
    {
     "name": "stdout",
     "output_type": "stream",
     "text": [
      "Epoch 24: train=2.2974, val=2.25782, took 43.635 s\n",
      "  Validation Found 8877 of 10819, added 980 (eff 82.05%) (0.49 FP/event)\n"
     ]
    },
    {
     "data": {
      "application/vnd.jupyter.widget-view+json": {
       "model_id": "",
       "version_major": 2,
       "version_minor": 0
      },
      "text/plain": [
       "HBox(children=(FloatProgress(value=0.0, description='Training', layout=Layout(flex='2'), max=1125.0, style=Pro…"
      ]
     },
     "metadata": {},
     "output_type": "display_data"
    },
    {
     "name": "stdout",
     "output_type": "stream",
     "text": [
      "Epoch 25: train=2.30685, val=2.25747, took 43.878 s\n",
      "  Validation Found 8892 of 10819, added 979 (eff 82.19%) (0.489 FP/event)\n"
     ]
    },
    {
     "data": {
      "application/vnd.jupyter.widget-view+json": {
       "model_id": "",
       "version_major": 2,
       "version_minor": 0
      },
      "text/plain": [
       "HBox(children=(FloatProgress(value=0.0, description='Training', layout=Layout(flex='2'), max=1125.0, style=Pro…"
      ]
     },
     "metadata": {},
     "output_type": "display_data"
    },
    {
     "name": "stdout",
     "output_type": "stream",
     "text": [
      "Epoch 26: train=2.30135, val=2.25566, took 44.0 s\n",
      "  Validation Found 8889 of 10819, added 985 (eff 82.16%) (0.492 FP/event)\n"
     ]
    },
    {
     "data": {
      "application/vnd.jupyter.widget-view+json": {
       "model_id": "",
       "version_major": 2,
       "version_minor": 0
      },
      "text/plain": [
       "HBox(children=(FloatProgress(value=0.0, description='Training', layout=Layout(flex='2'), max=1125.0, style=Pro…"
      ]
     },
     "metadata": {},
     "output_type": "display_data"
    },
    {
     "name": "stdout",
     "output_type": "stream",
     "text": [
      "Epoch 27: train=2.29824, val=2.25507, took 43.838 s\n",
      "  Validation Found 8890 of 10819, added 982 (eff 82.17%) (0.491 FP/event)\n"
     ]
    },
    {
     "data": {
      "application/vnd.jupyter.widget-view+json": {
       "model_id": "",
       "version_major": 2,
       "version_minor": 0
      },
      "text/plain": [
       "HBox(children=(FloatProgress(value=0.0, description='Training', layout=Layout(flex='2'), max=1125.0, style=Pro…"
      ]
     },
     "metadata": {},
     "output_type": "display_data"
    },
    {
     "name": "stdout",
     "output_type": "stream",
     "text": [
      "Epoch 28: train=2.30083, val=2.25432, took 43.813 s\n",
      "  Validation Found 8892 of 10819, added 985 (eff 82.19%) (0.492 FP/event)\n"
     ]
    },
    {
     "data": {
      "application/vnd.jupyter.widget-view+json": {
       "model_id": "",
       "version_major": 2,
       "version_minor": 0
      },
      "text/plain": [
       "HBox(children=(FloatProgress(value=0.0, description='Training', layout=Layout(flex='2'), max=1125.0, style=Pro…"
      ]
     },
     "metadata": {},
     "output_type": "display_data"
    },
    {
     "name": "stdout",
     "output_type": "stream",
     "text": [
      "Epoch 29: train=2.30066, val=2.2538, took 43.823 s\n",
      "  Validation Found 8890 of 10819, added 977 (eff 82.17%) (0.488 FP/event)\n"
     ]
    },
    {
     "data": {
      "application/vnd.jupyter.widget-view+json": {
       "model_id": "",
       "version_major": 2,
       "version_minor": 0
      },
      "text/plain": [
       "HBox(children=(FloatProgress(value=0.0, description='Training', layout=Layout(flex='2'), max=1125.0, style=Pro…"
      ]
     },
     "metadata": {},
     "output_type": "display_data"
    },
    {
     "name": "stdout",
     "output_type": "stream",
     "text": [
      "Epoch 30: train=2.30218, val=2.25343, took 43.691 s\n",
      "  Validation Found 8892 of 10819, added 974 (eff 82.19%) (0.487 FP/event)\n"
     ]
    },
    {
     "data": {
      "application/vnd.jupyter.widget-view+json": {
       "model_id": "",
       "version_major": 2,
       "version_minor": 0
      },
      "text/plain": [
       "HBox(children=(FloatProgress(value=0.0, description='Training', layout=Layout(flex='2'), max=1125.0, style=Pro…"
      ]
     },
     "metadata": {},
     "output_type": "display_data"
    },
    {
     "name": "stdout",
     "output_type": "stream",
     "text": [
      "Epoch 31: train=2.29799, val=2.25583, took 43.697 s\n",
      "  Validation Found 8891 of 10819, added 980 (eff 82.18%) (0.49 FP/event)\n"
     ]
    },
    {
     "data": {
      "application/vnd.jupyter.widget-view+json": {
       "model_id": "",
       "version_major": 2,
       "version_minor": 0
      },
      "text/plain": [
       "HBox(children=(FloatProgress(value=0.0, description='Training', layout=Layout(flex='2'), max=1125.0, style=Pro…"
      ]
     },
     "metadata": {},
     "output_type": "display_data"
    },
    {
     "name": "stdout",
     "output_type": "stream",
     "text": [
      "Epoch 32: train=2.30083, val=2.2521, took 43.758 s\n",
      "  Validation Found 8894 of 10819, added 981 (eff 82.21%) (0.49 FP/event)\n"
     ]
    },
    {
     "data": {
      "application/vnd.jupyter.widget-view+json": {
       "model_id": "",
       "version_major": 2,
       "version_minor": 0
      },
      "text/plain": [
       "HBox(children=(FloatProgress(value=0.0, description='Training', layout=Layout(flex='2'), max=1125.0, style=Pro…"
      ]
     },
     "metadata": {},
     "output_type": "display_data"
    },
    {
     "name": "stdout",
     "output_type": "stream",
     "text": [
      "Epoch 33: train=2.2959, val=2.25126, took 43.908 s\n",
      "  Validation Found 8892 of 10819, added 989 (eff 82.19%) (0.494 FP/event)\n"
     ]
    },
    {
     "data": {
      "application/vnd.jupyter.widget-view+json": {
       "model_id": "",
       "version_major": 2,
       "version_minor": 0
      },
      "text/plain": [
       "HBox(children=(FloatProgress(value=0.0, description='Training', layout=Layout(flex='2'), max=1125.0, style=Pro…"
      ]
     },
     "metadata": {},
     "output_type": "display_data"
    },
    {
     "name": "stdout",
     "output_type": "stream",
     "text": [
      "Epoch 34: train=2.29949, val=2.25104, took 43.733 s\n",
      "  Validation Found 8894 of 10819, added 986 (eff 82.21%) (0.493 FP/event)\n"
     ]
    },
    {
     "data": {
      "application/vnd.jupyter.widget-view+json": {
       "model_id": "",
       "version_major": 2,
       "version_minor": 0
      },
      "text/plain": [
       "HBox(children=(FloatProgress(value=0.0, description='Training', layout=Layout(flex='2'), max=1125.0, style=Pro…"
      ]
     },
     "metadata": {},
     "output_type": "display_data"
    },
    {
     "name": "stdout",
     "output_type": "stream",
     "text": [
      "Epoch 35: train=2.29837, val=2.25022, took 43.792 s\n",
      "  Validation Found 8896 of 10819, added 988 (eff 82.23%) (0.494 FP/event)\n"
     ]
    },
    {
     "data": {
      "application/vnd.jupyter.widget-view+json": {
       "model_id": "",
       "version_major": 2,
       "version_minor": 0
      },
      "text/plain": [
       "HBox(children=(FloatProgress(value=0.0, description='Training', layout=Layout(flex='2'), max=1125.0, style=Pro…"
      ]
     },
     "metadata": {},
     "output_type": "display_data"
    },
    {
     "name": "stdout",
     "output_type": "stream",
     "text": [
      "Epoch 36: train=2.2966, val=2.25023, took 43.615 s\n",
      "  Validation Found 8901 of 10819, added 996 (eff 82.27%) (0.498 FP/event)\n"
     ]
    },
    {
     "data": {
      "application/vnd.jupyter.widget-view+json": {
       "model_id": "",
       "version_major": 2,
       "version_minor": 0
      },
      "text/plain": [
       "HBox(children=(FloatProgress(value=0.0, description='Training', layout=Layout(flex='2'), max=1125.0, style=Pro…"
      ]
     },
     "metadata": {},
     "output_type": "display_data"
    },
    {
     "name": "stdout",
     "output_type": "stream",
     "text": [
      "Epoch 37: train=2.29662, val=2.24898, took 43.837 s\n",
      "  Validation Found 8899 of 10819, added 993 (eff 82.25%) (0.496 FP/event)\n"
     ]
    },
    {
     "data": {
      "application/vnd.jupyter.widget-view+json": {
       "model_id": "",
       "version_major": 2,
       "version_minor": 0
      },
      "text/plain": [
       "HBox(children=(FloatProgress(value=0.0, description='Training', layout=Layout(flex='2'), max=1125.0, style=Pro…"
      ]
     },
     "metadata": {},
     "output_type": "display_data"
    },
    {
     "name": "stdout",
     "output_type": "stream",
     "text": [
      "Epoch 38: train=2.29629, val=2.2486, took 43.694 s\n",
      "  Validation Found 8900 of 10819, added 993 (eff 82.26%) (0.496 FP/event)\n"
     ]
    },
    {
     "data": {
      "application/vnd.jupyter.widget-view+json": {
       "model_id": "",
       "version_major": 2,
       "version_minor": 0
      },
      "text/plain": [
       "HBox(children=(FloatProgress(value=0.0, description='Training', layout=Layout(flex='2'), max=1125.0, style=Pro…"
      ]
     },
     "metadata": {},
     "output_type": "display_data"
    },
    {
     "name": "stdout",
     "output_type": "stream",
     "text": [
      "Epoch 39: train=2.29753, val=2.24841, took 43.739 s\n",
      "  Validation Found 8899 of 10819, added 985 (eff 82.25%) (0.492 FP/event)\n"
     ]
    },
    {
     "data": {
      "application/vnd.jupyter.widget-view+json": {
       "model_id": "",
       "version_major": 2,
       "version_minor": 0
      },
      "text/plain": [
       "HBox(children=(FloatProgress(value=0.0, description='Training', layout=Layout(flex='2'), max=1125.0, style=Pro…"
      ]
     },
     "metadata": {},
     "output_type": "display_data"
    },
    {
     "name": "stdout",
     "output_type": "stream",
     "text": [
      "Epoch 40: train=2.29533, val=2.24912, took 43.961 s\n",
      "  Validation Found 8905 of 10819, added 983 (eff 82.31%) (0.491 FP/event)\n"
     ]
    },
    {
     "data": {
      "application/vnd.jupyter.widget-view+json": {
       "model_id": "",
       "version_major": 2,
       "version_minor": 0
      },
      "text/plain": [
       "HBox(children=(FloatProgress(value=0.0, description='Training', layout=Layout(flex='2'), max=1125.0, style=Pro…"
      ]
     },
     "metadata": {},
     "output_type": "display_data"
    },
    {
     "name": "stdout",
     "output_type": "stream",
     "text": [
      "Epoch 41: train=2.29763, val=2.24695, took 43.829 s\n",
      "  Validation Found 8906 of 10819, added 990 (eff 82.32%) (0.495 FP/event)\n"
     ]
    },
    {
     "data": {
      "application/vnd.jupyter.widget-view+json": {
       "model_id": "",
       "version_major": 2,
       "version_minor": 0
      },
      "text/plain": [
       "HBox(children=(FloatProgress(value=0.0, description='Training', layout=Layout(flex='2'), max=1125.0, style=Pro…"
      ]
     },
     "metadata": {},
     "output_type": "display_data"
    },
    {
     "name": "stdout",
     "output_type": "stream",
     "text": [
      "Epoch 42: train=2.2933, val=2.2467, took 43.624 s\n",
      "  Validation Found 8906 of 10819, added 996 (eff 82.32%) (0.498 FP/event)\n"
     ]
    },
    {
     "data": {
      "application/vnd.jupyter.widget-view+json": {
       "model_id": "",
       "version_major": 2,
       "version_minor": 0
      },
      "text/plain": [
       "HBox(children=(FloatProgress(value=0.0, description='Training', layout=Layout(flex='2'), max=1125.0, style=Pro…"
      ]
     },
     "metadata": {},
     "output_type": "display_data"
    },
    {
     "name": "stdout",
     "output_type": "stream",
     "text": [
      "Epoch 43: train=2.29046, val=2.24969, took 43.988 s\n",
      "  Validation Found 8904 of 10819, added 997 (eff 82.30%) (0.498 FP/event)\n"
     ]
    },
    {
     "data": {
      "application/vnd.jupyter.widget-view+json": {
       "model_id": "",
       "version_major": 2,
       "version_minor": 0
      },
      "text/plain": [
       "HBox(children=(FloatProgress(value=0.0, description='Training', layout=Layout(flex='2'), max=1125.0, style=Pro…"
      ]
     },
     "metadata": {},
     "output_type": "display_data"
    },
    {
     "name": "stdout",
     "output_type": "stream",
     "text": [
      "Epoch 44: train=2.29145, val=2.2455, took 44.213 s\n",
      "  Validation Found 8905 of 10819, added 995 (eff 82.31%) (0.497 FP/event)\n"
     ]
    },
    {
     "data": {
      "application/vnd.jupyter.widget-view+json": {
       "model_id": "",
       "version_major": 2,
       "version_minor": 0
      },
      "text/plain": [
       "HBox(children=(FloatProgress(value=0.0, description='Training', layout=Layout(flex='2'), max=1125.0, style=Pro…"
      ]
     },
     "metadata": {},
     "output_type": "display_data"
    },
    {
     "name": "stdout",
     "output_type": "stream",
     "text": [
      "Epoch 45: train=2.29302, val=2.24569, took 43.692 s\n",
      "  Validation Found 8906 of 10819, added 992 (eff 82.32%) (0.496 FP/event)\n"
     ]
    },
    {
     "data": {
      "application/vnd.jupyter.widget-view+json": {
       "model_id": "",
       "version_major": 2,
       "version_minor": 0
      },
      "text/plain": [
       "HBox(children=(FloatProgress(value=0.0, description='Training', layout=Layout(flex='2'), max=1125.0, style=Pro…"
      ]
     },
     "metadata": {},
     "output_type": "display_data"
    },
    {
     "name": "stdout",
     "output_type": "stream",
     "text": [
      "Epoch 46: train=2.29851, val=2.24456, took 43.728 s\n",
      "  Validation Found 8908 of 10819, added 997 (eff 82.34%) (0.498 FP/event)\n"
     ]
    },
    {
     "data": {
      "application/vnd.jupyter.widget-view+json": {
       "model_id": "",
       "version_major": 2,
       "version_minor": 0
      },
      "text/plain": [
       "HBox(children=(FloatProgress(value=0.0, description='Training', layout=Layout(flex='2'), max=1125.0, style=Pro…"
      ]
     },
     "metadata": {},
     "output_type": "display_data"
    },
    {
     "name": "stdout",
     "output_type": "stream",
     "text": [
      "Epoch 47: train=2.29007, val=2.24608, took 43.867 s\n",
      "  Validation Found 8905 of 10819, added 1004 (eff 82.31%) (0.502 FP/event)\n"
     ]
    },
    {
     "data": {
      "application/vnd.jupyter.widget-view+json": {
       "model_id": "",
       "version_major": 2,
       "version_minor": 0
      },
      "text/plain": [
       "HBox(children=(FloatProgress(value=0.0, description='Training', layout=Layout(flex='2'), max=1125.0, style=Pro…"
      ]
     },
     "metadata": {},
     "output_type": "display_data"
    },
    {
     "name": "stdout",
     "output_type": "stream",
     "text": [
      "Epoch 48: train=2.29623, val=2.24442, took 43.662 s\n",
      "  Validation Found 8914 of 10819, added 999 (eff 82.39%) (0.499 FP/event)\n"
     ]
    },
    {
     "data": {
      "application/vnd.jupyter.widget-view+json": {
       "model_id": "",
       "version_major": 2,
       "version_minor": 0
      },
      "text/plain": [
       "HBox(children=(FloatProgress(value=0.0, description='Training', layout=Layout(flex='2'), max=1125.0, style=Pro…"
      ]
     },
     "metadata": {},
     "output_type": "display_data"
    },
    {
     "name": "stdout",
     "output_type": "stream",
     "text": [
      "Epoch 49: train=2.29144, val=2.24617, took 43.607 s\n",
      "  Validation Found 8909 of 10819, added 990 (eff 82.35%) (0.495 FP/event)\n"
     ]
    },
    {
     "data": {
      "application/vnd.jupyter.widget-view+json": {
       "model_id": "",
       "version_major": 2,
       "version_minor": 0
      },
      "text/plain": [
       "HBox(children=(FloatProgress(value=0.0, description='Training', layout=Layout(flex='2'), max=1125.0, style=Pro…"
      ]
     },
     "metadata": {},
     "output_type": "display_data"
    },
    {
     "name": "stdout",
     "output_type": "stream",
     "text": [
      "Epoch 50: train=2.29515, val=2.24329, took 43.842 s\n",
      "  Validation Found 8908 of 10819, added 992 (eff 82.34%) (0.496 FP/event)\n"
     ]
    },
    {
     "data": {
      "application/vnd.jupyter.widget-view+json": {
       "model_id": "",
       "version_major": 2,
       "version_minor": 0
      },
      "text/plain": [
       "HBox(children=(FloatProgress(value=0.0, description='Training', layout=Layout(flex='2'), max=1125.0, style=Pro…"
      ]
     },
     "metadata": {},
     "output_type": "display_data"
    },
    {
     "name": "stdout",
     "output_type": "stream",
     "text": [
      "Epoch 51: train=2.28669, val=2.24313, took 44.12 s\n",
      "  Validation Found 8905 of 10819, added 997 (eff 82.31%) (0.498 FP/event)\n"
     ]
    },
    {
     "data": {
      "application/vnd.jupyter.widget-view+json": {
       "model_id": "",
       "version_major": 2,
       "version_minor": 0
      },
      "text/plain": [
       "HBox(children=(FloatProgress(value=0.0, description='Training', layout=Layout(flex='2'), max=1125.0, style=Pro…"
      ]
     },
     "metadata": {},
     "output_type": "display_data"
    },
    {
     "name": "stdout",
     "output_type": "stream",
     "text": [
      "Epoch 52: train=2.29179, val=2.24238, took 43.803 s\n",
      "  Validation Found 8910 of 10819, added 1004 (eff 82.36%) (0.502 FP/event)\n"
     ]
    },
    {
     "data": {
      "application/vnd.jupyter.widget-view+json": {
       "model_id": "",
       "version_major": 2,
       "version_minor": 0
      },
      "text/plain": [
       "HBox(children=(FloatProgress(value=0.0, description='Training', layout=Layout(flex='2'), max=1125.0, style=Pro…"
      ]
     },
     "metadata": {},
     "output_type": "display_data"
    },
    {
     "name": "stdout",
     "output_type": "stream",
     "text": [
      "Epoch 53: train=2.29152, val=2.24186, took 43.923 s\n",
      "  Validation Found 8913 of 10819, added 1002 (eff 82.38%) (0.501 FP/event)\n"
     ]
    },
    {
     "data": {
      "application/vnd.jupyter.widget-view+json": {
       "model_id": "",
       "version_major": 2,
       "version_minor": 0
      },
      "text/plain": [
       "HBox(children=(FloatProgress(value=0.0, description='Training', layout=Layout(flex='2'), max=1125.0, style=Pro…"
      ]
     },
     "metadata": {},
     "output_type": "display_data"
    },
    {
     "name": "stdout",
     "output_type": "stream",
     "text": [
      "Epoch 54: train=2.29396, val=2.24115, took 43.621 s\n",
      "  Validation Found 8914 of 10819, added 1004 (eff 82.39%) (0.502 FP/event)\n"
     ]
    },
    {
     "data": {
      "application/vnd.jupyter.widget-view+json": {
       "model_id": "",
       "version_major": 2,
       "version_minor": 0
      },
      "text/plain": [
       "HBox(children=(FloatProgress(value=0.0, description='Training', layout=Layout(flex='2'), max=1125.0, style=Pro…"
      ]
     },
     "metadata": {},
     "output_type": "display_data"
    },
    {
     "name": "stdout",
     "output_type": "stream",
     "text": [
      "Epoch 55: train=2.28823, val=2.24141, took 43.966 s\n",
      "  Validation Found 8911 of 10819, added 1008 (eff 82.36%) (0.504 FP/event)\n"
     ]
    },
    {
     "data": {
      "application/vnd.jupyter.widget-view+json": {
       "model_id": "",
       "version_major": 2,
       "version_minor": 0
      },
      "text/plain": [
       "HBox(children=(FloatProgress(value=0.0, description='Training', layout=Layout(flex='2'), max=1125.0, style=Pro…"
      ]
     },
     "metadata": {},
     "output_type": "display_data"
    },
    {
     "name": "stdout",
     "output_type": "stream",
     "text": [
      "Epoch 56: train=2.28825, val=2.24157, took 44.042 s\n",
      "  Validation Found 8900 of 10819, added 1001 (eff 82.26%) (0.5 FP/event)\n"
     ]
    },
    {
     "data": {
      "application/vnd.jupyter.widget-view+json": {
       "model_id": "",
       "version_major": 2,
       "version_minor": 0
      },
      "text/plain": [
       "HBox(children=(FloatProgress(value=0.0, description='Training', layout=Layout(flex='2'), max=1125.0, style=Pro…"
      ]
     },
     "metadata": {},
     "output_type": "display_data"
    },
    {
     "name": "stdout",
     "output_type": "stream",
     "text": [
      "Epoch 57: train=2.29388, val=2.24139, took 43.653 s\n",
      "  Validation Found 8910 of 10819, added 995 (eff 82.36%) (0.497 FP/event)\n"
     ]
    },
    {
     "data": {
      "application/vnd.jupyter.widget-view+json": {
       "model_id": "",
       "version_major": 2,
       "version_minor": 0
      },
      "text/plain": [
       "HBox(children=(FloatProgress(value=0.0, description='Training', layout=Layout(flex='2'), max=1125.0, style=Pro…"
      ]
     },
     "metadata": {},
     "output_type": "display_data"
    },
    {
     "name": "stdout",
     "output_type": "stream",
     "text": [
      "Epoch 58: train=2.29135, val=2.23938, took 43.752 s\n",
      "  Validation Found 8912 of 10819, added 994 (eff 82.37%) (0.497 FP/event)\n"
     ]
    },
    {
     "data": {
      "application/vnd.jupyter.widget-view+json": {
       "model_id": "",
       "version_major": 2,
       "version_minor": 0
      },
      "text/plain": [
       "HBox(children=(FloatProgress(value=0.0, description='Training', layout=Layout(flex='2'), max=1125.0, style=Pro…"
      ]
     },
     "metadata": {},
     "output_type": "display_data"
    },
    {
     "name": "stdout",
     "output_type": "stream",
     "text": [
      "Epoch 59: train=2.2943, val=2.23879, took 43.588 s\n",
      "  Validation Found 8919 of 10819, added 999 (eff 82.44%) (0.499 FP/event)\n"
     ]
    },
    {
     "data": {
      "application/vnd.jupyter.widget-view+json": {
       "model_id": "",
       "version_major": 2,
       "version_minor": 0
      },
      "text/plain": [
       "HBox(children=(FloatProgress(value=0.0, description='Training', layout=Layout(flex='2'), max=1125.0, style=Pro…"
      ]
     },
     "metadata": {},
     "output_type": "display_data"
    },
    {
     "name": "stdout",
     "output_type": "stream",
     "text": [
      "Epoch 60: train=2.28861, val=2.23867, took 44.154 s\n",
      "  Validation Found 8911 of 10819, added 996 (eff 82.36%) (0.498 FP/event)\n"
     ]
    },
    {
     "data": {
      "application/vnd.jupyter.widget-view+json": {
       "model_id": "",
       "version_major": 2,
       "version_minor": 0
      },
      "text/plain": [
       "HBox(children=(FloatProgress(value=0.0, description='Training', layout=Layout(flex='2'), max=1125.0, style=Pro…"
      ]
     },
     "metadata": {},
     "output_type": "display_data"
    },
    {
     "name": "stdout",
     "output_type": "stream",
     "text": [
      "Epoch 61: train=2.28698, val=2.23753, took 43.546 s\n",
      "  Validation Found 8917 of 10819, added 1005 (eff 82.42%) (0.502 FP/event)\n"
     ]
    },
    {
     "data": {
      "application/vnd.jupyter.widget-view+json": {
       "model_id": "",
       "version_major": 2,
       "version_minor": 0
      },
      "text/plain": [
       "HBox(children=(FloatProgress(value=0.0, description='Training', layout=Layout(flex='2'), max=1125.0, style=Pro…"
      ]
     },
     "metadata": {},
     "output_type": "display_data"
    },
    {
     "name": "stdout",
     "output_type": "stream",
     "text": [
      "Epoch 62: train=2.28841, val=2.23767, took 43.888 s\n",
      "  Validation Found 8918 of 10819, added 1003 (eff 82.43%) (0.501 FP/event)\n"
     ]
    },
    {
     "data": {
      "application/vnd.jupyter.widget-view+json": {
       "model_id": "",
       "version_major": 2,
       "version_minor": 0
      },
      "text/plain": [
       "HBox(children=(FloatProgress(value=0.0, description='Training', layout=Layout(flex='2'), max=1125.0, style=Pro…"
      ]
     },
     "metadata": {},
     "output_type": "display_data"
    },
    {
     "name": "stdout",
     "output_type": "stream",
     "text": [
      "Epoch 63: train=2.28351, val=2.23902, took 43.735 s\n",
      "  Validation Found 8910 of 10819, added 1006 (eff 82.36%) (0.503 FP/event)\n"
     ]
    },
    {
     "data": {
      "application/vnd.jupyter.widget-view+json": {
       "model_id": "",
       "version_major": 2,
       "version_minor": 0
      },
      "text/plain": [
       "HBox(children=(FloatProgress(value=0.0, description='Training', layout=Layout(flex='2'), max=1125.0, style=Pro…"
      ]
     },
     "metadata": {},
     "output_type": "display_data"
    },
    {
     "name": "stdout",
     "output_type": "stream",
     "text": [
      "Epoch 64: train=2.2912, val=2.23652, took 43.76 s\n",
      "  Validation Found 8921 of 10819, added 1000 (eff 82.46%) (0.5 FP/event)\n"
     ]
    },
    {
     "data": {
      "application/vnd.jupyter.widget-view+json": {
       "model_id": "",
       "version_major": 2,
       "version_minor": 0
      },
      "text/plain": [
       "HBox(children=(FloatProgress(value=0.0, description='Training', layout=Layout(flex='2'), max=1125.0, style=Pro…"
      ]
     },
     "metadata": {},
     "output_type": "display_data"
    },
    {
     "name": "stdout",
     "output_type": "stream",
     "text": [
      "Epoch 65: train=2.28504, val=2.23671, took 43.826 s\n",
      "  Validation Found 8916 of 10819, added 1002 (eff 82.41%) (0.501 FP/event)\n"
     ]
    },
    {
     "data": {
      "application/vnd.jupyter.widget-view+json": {
       "model_id": "",
       "version_major": 2,
       "version_minor": 0
      },
      "text/plain": [
       "HBox(children=(FloatProgress(value=0.0, description='Training', layout=Layout(flex='2'), max=1125.0, style=Pro…"
      ]
     },
     "metadata": {},
     "output_type": "display_data"
    },
    {
     "name": "stdout",
     "output_type": "stream",
     "text": [
      "Epoch 66: train=2.28351, val=2.23887, took 43.815 s\n",
      "  Validation Found 8911 of 10819, added 1008 (eff 82.36%) (0.504 FP/event)\n"
     ]
    },
    {
     "data": {
      "application/vnd.jupyter.widget-view+json": {
       "model_id": "",
       "version_major": 2,
       "version_minor": 0
      },
      "text/plain": [
       "HBox(children=(FloatProgress(value=0.0, description='Training', layout=Layout(flex='2'), max=1125.0, style=Pro…"
      ]
     },
     "metadata": {},
     "output_type": "display_data"
    },
    {
     "name": "stdout",
     "output_type": "stream",
     "text": [
      "Epoch 67: train=2.28816, val=2.23737, took 43.96 s\n",
      "  Validation Found 8919 of 10819, added 1005 (eff 82.44%) (0.502 FP/event)\n"
     ]
    },
    {
     "data": {
      "application/vnd.jupyter.widget-view+json": {
       "model_id": "",
       "version_major": 2,
       "version_minor": 0
      },
      "text/plain": [
       "HBox(children=(FloatProgress(value=0.0, description='Training', layout=Layout(flex='2'), max=1125.0, style=Pro…"
      ]
     },
     "metadata": {},
     "output_type": "display_data"
    },
    {
     "name": "stdout",
     "output_type": "stream",
     "text": [
      "Epoch 68: train=2.28899, val=2.23515, took 43.68 s\n",
      "  Validation Found 8926 of 10819, added 1002 (eff 82.50%) (0.501 FP/event)\n"
     ]
    },
    {
     "data": {
      "application/vnd.jupyter.widget-view+json": {
       "model_id": "",
       "version_major": 2,
       "version_minor": 0
      },
      "text/plain": [
       "HBox(children=(FloatProgress(value=0.0, description='Training', layout=Layout(flex='2'), max=1125.0, style=Pro…"
      ]
     },
     "metadata": {},
     "output_type": "display_data"
    },
    {
     "name": "stdout",
     "output_type": "stream",
     "text": [
      "Epoch 69: train=2.28746, val=2.2345, took 43.721 s\n",
      "  Validation Found 8927 of 10819, added 1002 (eff 82.51%) (0.501 FP/event)\n"
     ]
    },
    {
     "data": {
      "application/vnd.jupyter.widget-view+json": {
       "model_id": "",
       "version_major": 2,
       "version_minor": 0
      },
      "text/plain": [
       "HBox(children=(FloatProgress(value=0.0, description='Training', layout=Layout(flex='2'), max=1125.0, style=Pro…"
      ]
     },
     "metadata": {},
     "output_type": "display_data"
    },
    {
     "name": "stdout",
     "output_type": "stream",
     "text": [
      "Epoch 70: train=2.29057, val=2.23417, took 43.783 s\n",
      "  Validation Found 8922 of 10819, added 1005 (eff 82.47%) (0.502 FP/event)\n"
     ]
    },
    {
     "data": {
      "application/vnd.jupyter.widget-view+json": {
       "model_id": "",
       "version_major": 2,
       "version_minor": 0
      },
      "text/plain": [
       "HBox(children=(FloatProgress(value=0.0, description='Training', layout=Layout(flex='2'), max=1125.0, style=Pro…"
      ]
     },
     "metadata": {},
     "output_type": "display_data"
    },
    {
     "name": "stdout",
     "output_type": "stream",
     "text": [
      "Epoch 71: train=2.28431, val=2.23756, took 43.845 s\n",
      "  Validation Found 8911 of 10819, added 1006 (eff 82.36%) (0.503 FP/event)\n"
     ]
    },
    {
     "data": {
      "application/vnd.jupyter.widget-view+json": {
       "model_id": "",
       "version_major": 2,
       "version_minor": 0
      },
      "text/plain": [
       "HBox(children=(FloatProgress(value=0.0, description='Training', layout=Layout(flex='2'), max=1125.0, style=Pro…"
      ]
     },
     "metadata": {},
     "output_type": "display_data"
    },
    {
     "name": "stdout",
     "output_type": "stream",
     "text": [
      "Epoch 72: train=2.28575, val=2.23391, took 43.705 s\n",
      "  Validation Found 8920 of 10819, added 1005 (eff 82.45%) (0.502 FP/event)\n"
     ]
    },
    {
     "data": {
      "application/vnd.jupyter.widget-view+json": {
       "model_id": "",
       "version_major": 2,
       "version_minor": 0
      },
      "text/plain": [
       "HBox(children=(FloatProgress(value=0.0, description='Training', layout=Layout(flex='2'), max=1125.0, style=Pro…"
      ]
     },
     "metadata": {},
     "output_type": "display_data"
    },
    {
     "name": "stdout",
     "output_type": "stream",
     "text": [
      "Epoch 73: train=2.28467, val=2.23345, took 43.989 s\n",
      "  Validation Found 8916 of 10819, added 1007 (eff 82.41%) (0.503 FP/event)\n"
     ]
    },
    {
     "data": {
      "application/vnd.jupyter.widget-view+json": {
       "model_id": "",
       "version_major": 2,
       "version_minor": 0
      },
      "text/plain": [
       "HBox(children=(FloatProgress(value=0.0, description='Training', layout=Layout(flex='2'), max=1125.0, style=Pro…"
      ]
     },
     "metadata": {},
     "output_type": "display_data"
    },
    {
     "name": "stdout",
     "output_type": "stream",
     "text": [
      "Epoch 74: train=2.28975, val=2.23633, took 43.76 s\n",
      "  Validation Found 8913 of 10819, added 1010 (eff 82.38%) (0.505 FP/event)\n"
     ]
    },
    {
     "data": {
      "application/vnd.jupyter.widget-view+json": {
       "model_id": "",
       "version_major": 2,
       "version_minor": 0
      },
      "text/plain": [
       "HBox(children=(FloatProgress(value=0.0, description='Training', layout=Layout(flex='2'), max=1125.0, style=Pro…"
      ]
     },
     "metadata": {},
     "output_type": "display_data"
    },
    {
     "name": "stdout",
     "output_type": "stream",
     "text": [
      "Epoch 75: train=2.29019, val=2.23303, took 43.896 s\n",
      "  Validation Found 8928 of 10819, added 1003 (eff 82.52%) (0.501 FP/event)\n"
     ]
    },
    {
     "data": {
      "application/vnd.jupyter.widget-view+json": {
       "model_id": "",
       "version_major": 2,
       "version_minor": 0
      },
      "text/plain": [
       "HBox(children=(FloatProgress(value=0.0, description='Training', layout=Layout(flex='2'), max=1125.0, style=Pro…"
      ]
     },
     "metadata": {},
     "output_type": "display_data"
    },
    {
     "name": "stdout",
     "output_type": "stream",
     "text": [
      "Epoch 76: train=2.2817, val=2.23255, took 43.811 s\n",
      "  Validation Found 8920 of 10819, added 1006 (eff 82.45%) (0.503 FP/event)\n"
     ]
    },
    {
     "data": {
      "application/vnd.jupyter.widget-view+json": {
       "model_id": "",
       "version_major": 2,
       "version_minor": 0
      },
      "text/plain": [
       "HBox(children=(FloatProgress(value=0.0, description='Training', layout=Layout(flex='2'), max=1125.0, style=Pro…"
      ]
     },
     "metadata": {},
     "output_type": "display_data"
    },
    {
     "name": "stdout",
     "output_type": "stream",
     "text": [
      "Epoch 77: train=2.28648, val=2.23175, took 43.804 s\n",
      "  Validation Found 8920 of 10819, added 1009 (eff 82.45%) (0.504 FP/event)\n"
     ]
    },
    {
     "data": {
      "application/vnd.jupyter.widget-view+json": {
       "model_id": "",
       "version_major": 2,
       "version_minor": 0
      },
      "text/plain": [
       "HBox(children=(FloatProgress(value=0.0, description='Training', layout=Layout(flex='2'), max=1125.0, style=Pro…"
      ]
     },
     "metadata": {},
     "output_type": "display_data"
    },
    {
     "name": "stdout",
     "output_type": "stream",
     "text": [
      "Epoch 78: train=2.28335, val=2.23189, took 43.752 s\n",
      "  Validation Found 8925 of 10819, added 1009 (eff 82.49%) (0.504 FP/event)\n"
     ]
    },
    {
     "data": {
      "application/vnd.jupyter.widget-view+json": {
       "model_id": "",
       "version_major": 2,
       "version_minor": 0
      },
      "text/plain": [
       "HBox(children=(FloatProgress(value=0.0, description='Training', layout=Layout(flex='2'), max=1125.0, style=Pro…"
      ]
     },
     "metadata": {},
     "output_type": "display_data"
    },
    {
     "name": "stdout",
     "output_type": "stream",
     "text": [
      "Epoch 79: train=2.28096, val=2.23143, took 43.846 s\n",
      "  Validation Found 8920 of 10819, added 1003 (eff 82.45%) (0.501 FP/event)\n"
     ]
    },
    {
     "data": {
      "application/vnd.jupyter.widget-view+json": {
       "model_id": "",
       "version_major": 2,
       "version_minor": 0
      },
      "text/plain": [
       "HBox(children=(FloatProgress(value=0.0, description='Training', layout=Layout(flex='2'), max=1125.0, style=Pro…"
      ]
     },
     "metadata": {},
     "output_type": "display_data"
    },
    {
     "name": "stdout",
     "output_type": "stream",
     "text": [
      "Epoch 80: train=2.28326, val=2.23171, took 43.794 s\n",
      "  Validation Found 8923 of 10819, added 1003 (eff 82.48%) (0.501 FP/event)\n"
     ]
    },
    {
     "data": {
      "application/vnd.jupyter.widget-view+json": {
       "model_id": "",
       "version_major": 2,
       "version_minor": 0
      },
      "text/plain": [
       "HBox(children=(FloatProgress(value=0.0, description='Training', layout=Layout(flex='2'), max=1125.0, style=Pro…"
      ]
     },
     "metadata": {},
     "output_type": "display_data"
    },
    {
     "name": "stdout",
     "output_type": "stream",
     "text": [
      "Epoch 81: train=2.2811, val=2.23147, took 43.69 s\n",
      "  Validation Found 8928 of 10819, added 1007 (eff 82.52%) (0.503 FP/event)\n"
     ]
    },
    {
     "data": {
      "application/vnd.jupyter.widget-view+json": {
       "model_id": "",
       "version_major": 2,
       "version_minor": 0
      },
      "text/plain": [
       "HBox(children=(FloatProgress(value=0.0, description='Training', layout=Layout(flex='2'), max=1125.0, style=Pro…"
      ]
     },
     "metadata": {},
     "output_type": "display_data"
    },
    {
     "name": "stdout",
     "output_type": "stream",
     "text": [
      "Epoch 82: train=2.28372, val=2.23046, took 43.553 s\n",
      "  Validation Found 8924 of 10819, added 1004 (eff 82.48%) (0.502 FP/event)\n"
     ]
    },
    {
     "data": {
      "application/vnd.jupyter.widget-view+json": {
       "model_id": "",
       "version_major": 2,
       "version_minor": 0
      },
      "text/plain": [
       "HBox(children=(FloatProgress(value=0.0, description='Training', layout=Layout(flex='2'), max=1125.0, style=Pro…"
      ]
     },
     "metadata": {},
     "output_type": "display_data"
    },
    {
     "name": "stdout",
     "output_type": "stream",
     "text": [
      "Epoch 83: train=2.28219, val=2.23, took 43.764 s\n",
      "  Validation Found 8924 of 10819, added 1006 (eff 82.48%) (0.503 FP/event)\n"
     ]
    },
    {
     "data": {
      "application/vnd.jupyter.widget-view+json": {
       "model_id": "",
       "version_major": 2,
       "version_minor": 0
      },
      "text/plain": [
       "HBox(children=(FloatProgress(value=0.0, description='Training', layout=Layout(flex='2'), max=1125.0, style=Pro…"
      ]
     },
     "metadata": {},
     "output_type": "display_data"
    },
    {
     "name": "stdout",
     "output_type": "stream",
     "text": [
      "Epoch 84: train=2.28251, val=2.22972, took 43.811 s\n",
      "  Validation Found 8921 of 10819, added 1009 (eff 82.46%) (0.504 FP/event)\n"
     ]
    },
    {
     "data": {
      "application/vnd.jupyter.widget-view+json": {
       "model_id": "",
       "version_major": 2,
       "version_minor": 0
      },
      "text/plain": [
       "HBox(children=(FloatProgress(value=0.0, description='Training', layout=Layout(flex='2'), max=1125.0, style=Pro…"
      ]
     },
     "metadata": {},
     "output_type": "display_data"
    },
    {
     "name": "stdout",
     "output_type": "stream",
     "text": [
      "Epoch 85: train=2.28097, val=2.23043, took 43.827 s\n",
      "  Validation Found 8927 of 10819, added 1006 (eff 82.51%) (0.503 FP/event)\n"
     ]
    },
    {
     "data": {
      "application/vnd.jupyter.widget-view+json": {
       "model_id": "",
       "version_major": 2,
       "version_minor": 0
      },
      "text/plain": [
       "HBox(children=(FloatProgress(value=0.0, description='Training', layout=Layout(flex='2'), max=1125.0, style=Pro…"
      ]
     },
     "metadata": {},
     "output_type": "display_data"
    },
    {
     "name": "stdout",
     "output_type": "stream",
     "text": [
      "Epoch 86: train=2.28391, val=2.22983, took 43.717 s\n",
      "  Validation Found 8927 of 10819, added 1002 (eff 82.51%) (0.501 FP/event)\n"
     ]
    },
    {
     "data": {
      "application/vnd.jupyter.widget-view+json": {
       "model_id": "",
       "version_major": 2,
       "version_minor": 0
      },
      "text/plain": [
       "HBox(children=(FloatProgress(value=0.0, description='Training', layout=Layout(flex='2'), max=1125.0, style=Pro…"
      ]
     },
     "metadata": {},
     "output_type": "display_data"
    },
    {
     "name": "stdout",
     "output_type": "stream",
     "text": [
      "Epoch 87: train=2.2791, val=2.22936, took 43.589 s\n",
      "  Validation Found 8920 of 10819, added 1010 (eff 82.45%) (0.505 FP/event)\n"
     ]
    },
    {
     "data": {
      "application/vnd.jupyter.widget-view+json": {
       "model_id": "",
       "version_major": 2,
       "version_minor": 0
      },
      "text/plain": [
       "HBox(children=(FloatProgress(value=0.0, description='Training', layout=Layout(flex='2'), max=1125.0, style=Pro…"
      ]
     },
     "metadata": {},
     "output_type": "display_data"
    },
    {
     "name": "stdout",
     "output_type": "stream",
     "text": [
      "Epoch 88: train=2.27991, val=2.22875, took 43.876 s\n",
      "  Validation Found 8918 of 10819, added 1009 (eff 82.43%) (0.504 FP/event)\n"
     ]
    },
    {
     "data": {
      "application/vnd.jupyter.widget-view+json": {
       "model_id": "",
       "version_major": 2,
       "version_minor": 0
      },
      "text/plain": [
       "HBox(children=(FloatProgress(value=0.0, description='Training', layout=Layout(flex='2'), max=1125.0, style=Pro…"
      ]
     },
     "metadata": {},
     "output_type": "display_data"
    },
    {
     "name": "stdout",
     "output_type": "stream",
     "text": [
      "Epoch 89: train=2.27861, val=2.22862, took 43.859 s\n",
      "  Validation Found 8929 of 10819, added 1003 (eff 82.53%) (0.501 FP/event)\n"
     ]
    },
    {
     "data": {
      "application/vnd.jupyter.widget-view+json": {
       "model_id": "",
       "version_major": 2,
       "version_minor": 0
      },
      "text/plain": [
       "HBox(children=(FloatProgress(value=0.0, description='Training', layout=Layout(flex='2'), max=1125.0, style=Pro…"
      ]
     },
     "metadata": {},
     "output_type": "display_data"
    },
    {
     "name": "stdout",
     "output_type": "stream",
     "text": [
      "Epoch 90: train=2.27852, val=2.22781, took 43.737 s\n",
      "  Validation Found 8933 of 10819, added 1005 (eff 82.57%) (0.502 FP/event)\n"
     ]
    },
    {
     "data": {
      "application/vnd.jupyter.widget-view+json": {
       "model_id": "",
       "version_major": 2,
       "version_minor": 0
      },
      "text/plain": [
       "HBox(children=(FloatProgress(value=0.0, description='Training', layout=Layout(flex='2'), max=1125.0, style=Pro…"
      ]
     },
     "metadata": {},
     "output_type": "display_data"
    },
    {
     "name": "stdout",
     "output_type": "stream",
     "text": [
      "Epoch 91: train=2.27957, val=2.22846, took 43.985 s\n",
      "  Validation Found 8932 of 10819, added 1013 (eff 82.56%) (0.506 FP/event)\n"
     ]
    },
    {
     "data": {
      "application/vnd.jupyter.widget-view+json": {
       "model_id": "",
       "version_major": 2,
       "version_minor": 0
      },
      "text/plain": [
       "HBox(children=(FloatProgress(value=0.0, description='Training', layout=Layout(flex='2'), max=1125.0, style=Pro…"
      ]
     },
     "metadata": {},
     "output_type": "display_data"
    },
    {
     "name": "stdout",
     "output_type": "stream",
     "text": [
      "Epoch 92: train=2.27745, val=2.22771, took 44.39 s\n",
      "  Validation Found 8933 of 10819, added 1012 (eff 82.57%) (0.506 FP/event)\n"
     ]
    },
    {
     "data": {
      "application/vnd.jupyter.widget-view+json": {
       "model_id": "",
       "version_major": 2,
       "version_minor": 0
      },
      "text/plain": [
       "HBox(children=(FloatProgress(value=0.0, description='Training', layout=Layout(flex='2'), max=1125.0, style=Pro…"
      ]
     },
     "metadata": {},
     "output_type": "display_data"
    },
    {
     "name": "stdout",
     "output_type": "stream",
     "text": [
      "Epoch 93: train=2.28425, val=2.22765, took 43.808 s\n",
      "  Validation Found 8935 of 10819, added 1015 (eff 82.59%) (0.507 FP/event)\n"
     ]
    },
    {
     "data": {
      "application/vnd.jupyter.widget-view+json": {
       "model_id": "",
       "version_major": 2,
       "version_minor": 0
      },
      "text/plain": [
       "HBox(children=(FloatProgress(value=0.0, description='Training', layout=Layout(flex='2'), max=1125.0, style=Pro…"
      ]
     },
     "metadata": {},
     "output_type": "display_data"
    },
    {
     "name": "stdout",
     "output_type": "stream",
     "text": [
      "Epoch 94: train=2.27754, val=2.22657, took 43.633 s\n",
      "  Validation Found 8931 of 10819, added 1011 (eff 82.55%) (0.505 FP/event)\n"
     ]
    },
    {
     "data": {
      "application/vnd.jupyter.widget-view+json": {
       "model_id": "",
       "version_major": 2,
       "version_minor": 0
      },
      "text/plain": [
       "HBox(children=(FloatProgress(value=0.0, description='Training', layout=Layout(flex='2'), max=1125.0, style=Pro…"
      ]
     },
     "metadata": {},
     "output_type": "display_data"
    },
    {
     "name": "stdout",
     "output_type": "stream",
     "text": [
      "Epoch 95: train=2.27714, val=2.22744, took 43.529 s\n",
      "  Validation Found 8922 of 10819, added 1017 (eff 82.47%) (0.508 FP/event)\n"
     ]
    },
    {
     "data": {
      "application/vnd.jupyter.widget-view+json": {
       "model_id": "",
       "version_major": 2,
       "version_minor": 0
      },
      "text/plain": [
       "HBox(children=(FloatProgress(value=0.0, description='Training', layout=Layout(flex='2'), max=1125.0, style=Pro…"
      ]
     },
     "metadata": {},
     "output_type": "display_data"
    },
    {
     "name": "stdout",
     "output_type": "stream",
     "text": [
      "Epoch 96: train=2.27719, val=2.22634, took 43.833 s\n",
      "  Validation Found 8936 of 10819, added 1007 (eff 82.60%) (0.503 FP/event)\n"
     ]
    },
    {
     "data": {
      "application/vnd.jupyter.widget-view+json": {
       "model_id": "",
       "version_major": 2,
       "version_minor": 0
      },
      "text/plain": [
       "HBox(children=(FloatProgress(value=0.0, description='Training', layout=Layout(flex='2'), max=1125.0, style=Pro…"
      ]
     },
     "metadata": {},
     "output_type": "display_data"
    },
    {
     "name": "stdout",
     "output_type": "stream",
     "text": [
      "Epoch 97: train=2.27486, val=2.22613, took 43.634 s\n",
      "  Validation Found 8925 of 10819, added 1015 (eff 82.49%) (0.507 FP/event)\n"
     ]
    },
    {
     "data": {
      "application/vnd.jupyter.widget-view+json": {
       "model_id": "",
       "version_major": 2,
       "version_minor": 0
      },
      "text/plain": [
       "HBox(children=(FloatProgress(value=0.0, description='Training', layout=Layout(flex='2'), max=1125.0, style=Pro…"
      ]
     },
     "metadata": {},
     "output_type": "display_data"
    },
    {
     "name": "stdout",
     "output_type": "stream",
     "text": [
      "Epoch 98: train=2.28377, val=2.22651, took 43.928 s\n",
      "  Validation Found 8930 of 10819, added 1014 (eff 82.54%) (0.507 FP/event)\n"
     ]
    },
    {
     "data": {
      "application/vnd.jupyter.widget-view+json": {
       "model_id": "",
       "version_major": 2,
       "version_minor": 0
      },
      "text/plain": [
       "HBox(children=(FloatProgress(value=0.0, description='Training', layout=Layout(flex='2'), max=1125.0, style=Pro…"
      ]
     },
     "metadata": {},
     "output_type": "display_data"
    },
    {
     "name": "stdout",
     "output_type": "stream",
     "text": [
      "Epoch 99: train=2.28219, val=2.22648, took 44.458 s\n",
      "  Validation Found 8931 of 10819, added 1015 (eff 82.55%) (0.507 FP/event)\n",
      "\n"
     ]
    }
   ],
   "source": [
    "for result in trainNet(model, optimizer, loss,\n",
    "                        train_loader, val_loader,\n",
    "                        n_epochs, epoch_start=len(results),\n",
    "                        notebook=True):\n",
    "    \n",
    "    results = results.append(pd.Series(result._asdict()), ignore_index=True)\n",
    "    \n",
    "    xs = results.index\n",
    "##    print(\"xs = \",xs)\n",
    "    \n",
    "    # Update the plot above\n",
    "##    print(\"results.index = \",results.index,\"  results.cost\", results.cost)\n",
    "##    print(\"results.index = \",results.index,\"  results.val\", results.val)\n",
    "    lines['train'].set_data(results.index,results.cost)\n",
    "    lines['val'].set_data(results.index,results.val)\n",
    "    \n",
    "    #filter first cost epoch (can be really large)\n",
    "    max_cost = max(max(results.cost if len(results.cost)<2 else results.cost[1:]), max(results.val))\n",
    "    min_cost = min(min(results.cost), min(results.val))\n",
    "    \n",
    "    # The plot limits need updating too\n",
    "    \n",
    "    \n",
    "    \n",
    "    ax.set_ylim(min_cost*.9, max_cost*1.1)  \n",
    "    ax.set_xlim(-.5, len(results.cost) - .5)\n",
    "    \n",
    "    replace_in_ax(lax, lines['eff'], xs, results['eff_val'].apply(lambda x: x.eff_rate))\n",
    "    replace_in_ax(tax, lines['fp'], xs, results['eff_val'].apply(lambda x: x.fp_rate))\n",
    "    \n",
    "    # Redraw the figure\n",
    "    fig.canvas.draw()\n",
    "\n",
    "    # Save each model state dictionary\n",
    "    torch.save(model.state_dict(), output / f'{name}_{result.epoch}.pyt')"
   ]
  },
  {
   "cell_type": "code",
   "execution_count": 19,
   "metadata": {},
   "outputs": [],
   "source": [
    "torch.save(model.state_dict(), output / f'{name}_final.pyt')"
   ]
  },
  {
   "cell_type": "code",
   "execution_count": 20,
   "metadata": {},
   "outputs": [
    {
     "name": "stderr",
     "output_type": "stream",
     "text": [
      "/apps/miniconda3/envs/june2020-gpu/lib/python3.7/site-packages/pandas/core/generic.py:2505: PerformanceWarning: \n",
      "your performance may suffer as PyTables will pickle object types that it cannot\n",
      "map directly to c-types [inferred_type->mixed-integer,key->block1_values] [items->Index(['epoch', 'eff_val'], dtype='object')]\n",
      "\n",
      "  encoding=encoding,\n"
     ]
    }
   ],
   "source": [
    "results.to_hdf(f'{name}_stats.hdf5', 'results')"
   ]
  },
  {
   "cell_type": "code",
   "execution_count": 21,
   "metadata": {},
   "outputs": [
    {
     "data": {
      "application/javascript": [
       "/* Put everything inside the global mpl namespace */\n",
       "window.mpl = {};\n",
       "\n",
       "\n",
       "mpl.get_websocket_type = function() {\n",
       "    if (typeof(WebSocket) !== 'undefined') {\n",
       "        return WebSocket;\n",
       "    } else if (typeof(MozWebSocket) !== 'undefined') {\n",
       "        return MozWebSocket;\n",
       "    } else {\n",
       "        alert('Your browser does not have WebSocket support. ' +\n",
       "              'Please try Chrome, Safari or Firefox ≥ 6. ' +\n",
       "              'Firefox 4 and 5 are also supported but you ' +\n",
       "              'have to enable WebSockets in about:config.');\n",
       "    };\n",
       "}\n",
       "\n",
       "mpl.figure = function(figure_id, websocket, ondownload, parent_element) {\n",
       "    this.id = figure_id;\n",
       "\n",
       "    this.ws = websocket;\n",
       "\n",
       "    this.supports_binary = (this.ws.binaryType != undefined);\n",
       "\n",
       "    if (!this.supports_binary) {\n",
       "        var warnings = document.getElementById(\"mpl-warnings\");\n",
       "        if (warnings) {\n",
       "            warnings.style.display = 'block';\n",
       "            warnings.textContent = (\n",
       "                \"This browser does not support binary websocket messages. \" +\n",
       "                    \"Performance may be slow.\");\n",
       "        }\n",
       "    }\n",
       "\n",
       "    this.imageObj = new Image();\n",
       "\n",
       "    this.context = undefined;\n",
       "    this.message = undefined;\n",
       "    this.canvas = undefined;\n",
       "    this.rubberband_canvas = undefined;\n",
       "    this.rubberband_context = undefined;\n",
       "    this.format_dropdown = undefined;\n",
       "\n",
       "    this.image_mode = 'full';\n",
       "\n",
       "    this.root = $('<div/>');\n",
       "    this._root_extra_style(this.root)\n",
       "    this.root.attr('style', 'display: inline-block');\n",
       "\n",
       "    $(parent_element).append(this.root);\n",
       "\n",
       "    this._init_header(this);\n",
       "    this._init_canvas(this);\n",
       "    this._init_toolbar(this);\n",
       "\n",
       "    var fig = this;\n",
       "\n",
       "    this.waiting = false;\n",
       "\n",
       "    this.ws.onopen =  function () {\n",
       "            fig.send_message(\"supports_binary\", {value: fig.supports_binary});\n",
       "            fig.send_message(\"send_image_mode\", {});\n",
       "            if (mpl.ratio != 1) {\n",
       "                fig.send_message(\"set_dpi_ratio\", {'dpi_ratio': mpl.ratio});\n",
       "            }\n",
       "            fig.send_message(\"refresh\", {});\n",
       "        }\n",
       "\n",
       "    this.imageObj.onload = function() {\n",
       "            if (fig.image_mode == 'full') {\n",
       "                // Full images could contain transparency (where diff images\n",
       "                // almost always do), so we need to clear the canvas so that\n",
       "                // there is no ghosting.\n",
       "                fig.context.clearRect(0, 0, fig.canvas.width, fig.canvas.height);\n",
       "            }\n",
       "            fig.context.drawImage(fig.imageObj, 0, 0);\n",
       "        };\n",
       "\n",
       "    this.imageObj.onunload = function() {\n",
       "        fig.ws.close();\n",
       "    }\n",
       "\n",
       "    this.ws.onmessage = this._make_on_message_function(this);\n",
       "\n",
       "    this.ondownload = ondownload;\n",
       "}\n",
       "\n",
       "mpl.figure.prototype._init_header = function() {\n",
       "    var titlebar = $(\n",
       "        '<div class=\"ui-dialog-titlebar ui-widget-header ui-corner-all ' +\n",
       "        'ui-helper-clearfix\"/>');\n",
       "    var titletext = $(\n",
       "        '<div class=\"ui-dialog-title\" style=\"width: 100%; ' +\n",
       "        'text-align: center; padding: 3px;\"/>');\n",
       "    titlebar.append(titletext)\n",
       "    this.root.append(titlebar);\n",
       "    this.header = titletext[0];\n",
       "}\n",
       "\n",
       "\n",
       "\n",
       "mpl.figure.prototype._canvas_extra_style = function(canvas_div) {\n",
       "\n",
       "}\n",
       "\n",
       "\n",
       "mpl.figure.prototype._root_extra_style = function(canvas_div) {\n",
       "\n",
       "}\n",
       "\n",
       "mpl.figure.prototype._init_canvas = function() {\n",
       "    var fig = this;\n",
       "\n",
       "    var canvas_div = $('<div/>');\n",
       "\n",
       "    canvas_div.attr('style', 'position: relative; clear: both; outline: 0');\n",
       "\n",
       "    function canvas_keyboard_event(event) {\n",
       "        return fig.key_event(event, event['data']);\n",
       "    }\n",
       "\n",
       "    canvas_div.keydown('key_press', canvas_keyboard_event);\n",
       "    canvas_div.keyup('key_release', canvas_keyboard_event);\n",
       "    this.canvas_div = canvas_div\n",
       "    this._canvas_extra_style(canvas_div)\n",
       "    this.root.append(canvas_div);\n",
       "\n",
       "    var canvas = $('<canvas/>');\n",
       "    canvas.addClass('mpl-canvas');\n",
       "    canvas.attr('style', \"left: 0; top: 0; z-index: 0; outline: 0\")\n",
       "\n",
       "    this.canvas = canvas[0];\n",
       "    this.context = canvas[0].getContext(\"2d\");\n",
       "\n",
       "    var backingStore = this.context.backingStorePixelRatio ||\n",
       "\tthis.context.webkitBackingStorePixelRatio ||\n",
       "\tthis.context.mozBackingStorePixelRatio ||\n",
       "\tthis.context.msBackingStorePixelRatio ||\n",
       "\tthis.context.oBackingStorePixelRatio ||\n",
       "\tthis.context.backingStorePixelRatio || 1;\n",
       "\n",
       "    mpl.ratio = (window.devicePixelRatio || 1) / backingStore;\n",
       "\n",
       "    var rubberband = $('<canvas/>');\n",
       "    rubberband.attr('style', \"position: absolute; left: 0; top: 0; z-index: 1;\")\n",
       "\n",
       "    var pass_mouse_events = true;\n",
       "\n",
       "    canvas_div.resizable({\n",
       "        start: function(event, ui) {\n",
       "            pass_mouse_events = false;\n",
       "        },\n",
       "        resize: function(event, ui) {\n",
       "            fig.request_resize(ui.size.width, ui.size.height);\n",
       "        },\n",
       "        stop: function(event, ui) {\n",
       "            pass_mouse_events = true;\n",
       "            fig.request_resize(ui.size.width, ui.size.height);\n",
       "        },\n",
       "    });\n",
       "\n",
       "    function mouse_event_fn(event) {\n",
       "        if (pass_mouse_events)\n",
       "            return fig.mouse_event(event, event['data']);\n",
       "    }\n",
       "\n",
       "    rubberband.mousedown('button_press', mouse_event_fn);\n",
       "    rubberband.mouseup('button_release', mouse_event_fn);\n",
       "    // Throttle sequential mouse events to 1 every 20ms.\n",
       "    rubberband.mousemove('motion_notify', mouse_event_fn);\n",
       "\n",
       "    rubberband.mouseenter('figure_enter', mouse_event_fn);\n",
       "    rubberband.mouseleave('figure_leave', mouse_event_fn);\n",
       "\n",
       "    canvas_div.on(\"wheel\", function (event) {\n",
       "        event = event.originalEvent;\n",
       "        event['data'] = 'scroll'\n",
       "        if (event.deltaY < 0) {\n",
       "            event.step = 1;\n",
       "        } else {\n",
       "            event.step = -1;\n",
       "        }\n",
       "        mouse_event_fn(event);\n",
       "    });\n",
       "\n",
       "    canvas_div.append(canvas);\n",
       "    canvas_div.append(rubberband);\n",
       "\n",
       "    this.rubberband = rubberband;\n",
       "    this.rubberband_canvas = rubberband[0];\n",
       "    this.rubberband_context = rubberband[0].getContext(\"2d\");\n",
       "    this.rubberband_context.strokeStyle = \"#000000\";\n",
       "\n",
       "    this._resize_canvas = function(width, height) {\n",
       "        // Keep the size of the canvas, canvas container, and rubber band\n",
       "        // canvas in synch.\n",
       "        canvas_div.css('width', width)\n",
       "        canvas_div.css('height', height)\n",
       "\n",
       "        canvas.attr('width', width * mpl.ratio);\n",
       "        canvas.attr('height', height * mpl.ratio);\n",
       "        canvas.attr('style', 'width: ' + width + 'px; height: ' + height + 'px;');\n",
       "\n",
       "        rubberband.attr('width', width);\n",
       "        rubberband.attr('height', height);\n",
       "    }\n",
       "\n",
       "    // Set the figure to an initial 600x600px, this will subsequently be updated\n",
       "    // upon first draw.\n",
       "    this._resize_canvas(600, 600);\n",
       "\n",
       "    // Disable right mouse context menu.\n",
       "    $(this.rubberband_canvas).bind(\"contextmenu\",function(e){\n",
       "        return false;\n",
       "    });\n",
       "\n",
       "    function set_focus () {\n",
       "        canvas.focus();\n",
       "        canvas_div.focus();\n",
       "    }\n",
       "\n",
       "    window.setTimeout(set_focus, 100);\n",
       "}\n",
       "\n",
       "mpl.figure.prototype._init_toolbar = function() {\n",
       "    var fig = this;\n",
       "\n",
       "    var nav_element = $('<div/>');\n",
       "    nav_element.attr('style', 'width: 100%');\n",
       "    this.root.append(nav_element);\n",
       "\n",
       "    // Define a callback function for later on.\n",
       "    function toolbar_event(event) {\n",
       "        return fig.toolbar_button_onclick(event['data']);\n",
       "    }\n",
       "    function toolbar_mouse_event(event) {\n",
       "        return fig.toolbar_button_onmouseover(event['data']);\n",
       "    }\n",
       "\n",
       "    for(var toolbar_ind in mpl.toolbar_items) {\n",
       "        var name = mpl.toolbar_items[toolbar_ind][0];\n",
       "        var tooltip = mpl.toolbar_items[toolbar_ind][1];\n",
       "        var image = mpl.toolbar_items[toolbar_ind][2];\n",
       "        var method_name = mpl.toolbar_items[toolbar_ind][3];\n",
       "\n",
       "        if (!name) {\n",
       "            // put a spacer in here.\n",
       "            continue;\n",
       "        }\n",
       "        var button = $('<button/>');\n",
       "        button.addClass('ui-button ui-widget ui-state-default ui-corner-all ' +\n",
       "                        'ui-button-icon-only');\n",
       "        button.attr('role', 'button');\n",
       "        button.attr('aria-disabled', 'false');\n",
       "        button.click(method_name, toolbar_event);\n",
       "        button.mouseover(tooltip, toolbar_mouse_event);\n",
       "\n",
       "        var icon_img = $('<span/>');\n",
       "        icon_img.addClass('ui-button-icon-primary ui-icon');\n",
       "        icon_img.addClass(image);\n",
       "        icon_img.addClass('ui-corner-all');\n",
       "\n",
       "        var tooltip_span = $('<span/>');\n",
       "        tooltip_span.addClass('ui-button-text');\n",
       "        tooltip_span.html(tooltip);\n",
       "\n",
       "        button.append(icon_img);\n",
       "        button.append(tooltip_span);\n",
       "\n",
       "        nav_element.append(button);\n",
       "    }\n",
       "\n",
       "    var fmt_picker_span = $('<span/>');\n",
       "\n",
       "    var fmt_picker = $('<select/>');\n",
       "    fmt_picker.addClass('mpl-toolbar-option ui-widget ui-widget-content');\n",
       "    fmt_picker_span.append(fmt_picker);\n",
       "    nav_element.append(fmt_picker_span);\n",
       "    this.format_dropdown = fmt_picker[0];\n",
       "\n",
       "    for (var ind in mpl.extensions) {\n",
       "        var fmt = mpl.extensions[ind];\n",
       "        var option = $(\n",
       "            '<option/>', {selected: fmt === mpl.default_extension}).html(fmt);\n",
       "        fmt_picker.append(option);\n",
       "    }\n",
       "\n",
       "    // Add hover states to the ui-buttons\n",
       "    $( \".ui-button\" ).hover(\n",
       "        function() { $(this).addClass(\"ui-state-hover\");},\n",
       "        function() { $(this).removeClass(\"ui-state-hover\");}\n",
       "    );\n",
       "\n",
       "    var status_bar = $('<span class=\"mpl-message\"/>');\n",
       "    nav_element.append(status_bar);\n",
       "    this.message = status_bar[0];\n",
       "}\n",
       "\n",
       "mpl.figure.prototype.request_resize = function(x_pixels, y_pixels) {\n",
       "    // Request matplotlib to resize the figure. Matplotlib will then trigger a resize in the client,\n",
       "    // which will in turn request a refresh of the image.\n",
       "    this.send_message('resize', {'width': x_pixels, 'height': y_pixels});\n",
       "}\n",
       "\n",
       "mpl.figure.prototype.send_message = function(type, properties) {\n",
       "    properties['type'] = type;\n",
       "    properties['figure_id'] = this.id;\n",
       "    this.ws.send(JSON.stringify(properties));\n",
       "}\n",
       "\n",
       "mpl.figure.prototype.send_draw_message = function() {\n",
       "    if (!this.waiting) {\n",
       "        this.waiting = true;\n",
       "        this.ws.send(JSON.stringify({type: \"draw\", figure_id: this.id}));\n",
       "    }\n",
       "}\n",
       "\n",
       "\n",
       "mpl.figure.prototype.handle_save = function(fig, msg) {\n",
       "    var format_dropdown = fig.format_dropdown;\n",
       "    var format = format_dropdown.options[format_dropdown.selectedIndex].value;\n",
       "    fig.ondownload(fig, format);\n",
       "}\n",
       "\n",
       "\n",
       "mpl.figure.prototype.handle_resize = function(fig, msg) {\n",
       "    var size = msg['size'];\n",
       "    if (size[0] != fig.canvas.width || size[1] != fig.canvas.height) {\n",
       "        fig._resize_canvas(size[0], size[1]);\n",
       "        fig.send_message(\"refresh\", {});\n",
       "    };\n",
       "}\n",
       "\n",
       "mpl.figure.prototype.handle_rubberband = function(fig, msg) {\n",
       "    var x0 = msg['x0'] / mpl.ratio;\n",
       "    var y0 = (fig.canvas.height - msg['y0']) / mpl.ratio;\n",
       "    var x1 = msg['x1'] / mpl.ratio;\n",
       "    var y1 = (fig.canvas.height - msg['y1']) / mpl.ratio;\n",
       "    x0 = Math.floor(x0) + 0.5;\n",
       "    y0 = Math.floor(y0) + 0.5;\n",
       "    x1 = Math.floor(x1) + 0.5;\n",
       "    y1 = Math.floor(y1) + 0.5;\n",
       "    var min_x = Math.min(x0, x1);\n",
       "    var min_y = Math.min(y0, y1);\n",
       "    var width = Math.abs(x1 - x0);\n",
       "    var height = Math.abs(y1 - y0);\n",
       "\n",
       "    fig.rubberband_context.clearRect(\n",
       "        0, 0, fig.canvas.width / mpl.ratio, fig.canvas.height / mpl.ratio);\n",
       "\n",
       "    fig.rubberband_context.strokeRect(min_x, min_y, width, height);\n",
       "}\n",
       "\n",
       "mpl.figure.prototype.handle_figure_label = function(fig, msg) {\n",
       "    // Updates the figure title.\n",
       "    fig.header.textContent = msg['label'];\n",
       "}\n",
       "\n",
       "mpl.figure.prototype.handle_cursor = function(fig, msg) {\n",
       "    var cursor = msg['cursor'];\n",
       "    switch(cursor)\n",
       "    {\n",
       "    case 0:\n",
       "        cursor = 'pointer';\n",
       "        break;\n",
       "    case 1:\n",
       "        cursor = 'default';\n",
       "        break;\n",
       "    case 2:\n",
       "        cursor = 'crosshair';\n",
       "        break;\n",
       "    case 3:\n",
       "        cursor = 'move';\n",
       "        break;\n",
       "    }\n",
       "    fig.rubberband_canvas.style.cursor = cursor;\n",
       "}\n",
       "\n",
       "mpl.figure.prototype.handle_message = function(fig, msg) {\n",
       "    fig.message.textContent = msg['message'];\n",
       "}\n",
       "\n",
       "mpl.figure.prototype.handle_draw = function(fig, msg) {\n",
       "    // Request the server to send over a new figure.\n",
       "    fig.send_draw_message();\n",
       "}\n",
       "\n",
       "mpl.figure.prototype.handle_image_mode = function(fig, msg) {\n",
       "    fig.image_mode = msg['mode'];\n",
       "}\n",
       "\n",
       "mpl.figure.prototype.updated_canvas_event = function() {\n",
       "    // Called whenever the canvas gets updated.\n",
       "    this.send_message(\"ack\", {});\n",
       "}\n",
       "\n",
       "// A function to construct a web socket function for onmessage handling.\n",
       "// Called in the figure constructor.\n",
       "mpl.figure.prototype._make_on_message_function = function(fig) {\n",
       "    return function socket_on_message(evt) {\n",
       "        if (evt.data instanceof Blob) {\n",
       "            /* FIXME: We get \"Resource interpreted as Image but\n",
       "             * transferred with MIME type text/plain:\" errors on\n",
       "             * Chrome.  But how to set the MIME type?  It doesn't seem\n",
       "             * to be part of the websocket stream */\n",
       "            evt.data.type = \"image/png\";\n",
       "\n",
       "            /* Free the memory for the previous frames */\n",
       "            if (fig.imageObj.src) {\n",
       "                (window.URL || window.webkitURL).revokeObjectURL(\n",
       "                    fig.imageObj.src);\n",
       "            }\n",
       "\n",
       "            fig.imageObj.src = (window.URL || window.webkitURL).createObjectURL(\n",
       "                evt.data);\n",
       "            fig.updated_canvas_event();\n",
       "            fig.waiting = false;\n",
       "            return;\n",
       "        }\n",
       "        else if (typeof evt.data === 'string' && evt.data.slice(0, 21) == \"data:image/png;base64\") {\n",
       "            fig.imageObj.src = evt.data;\n",
       "            fig.updated_canvas_event();\n",
       "            fig.waiting = false;\n",
       "            return;\n",
       "        }\n",
       "\n",
       "        var msg = JSON.parse(evt.data);\n",
       "        var msg_type = msg['type'];\n",
       "\n",
       "        // Call the  \"handle_{type}\" callback, which takes\n",
       "        // the figure and JSON message as its only arguments.\n",
       "        try {\n",
       "            var callback = fig[\"handle_\" + msg_type];\n",
       "        } catch (e) {\n",
       "            console.log(\"No handler for the '\" + msg_type + \"' message type: \", msg);\n",
       "            return;\n",
       "        }\n",
       "\n",
       "        if (callback) {\n",
       "            try {\n",
       "                // console.log(\"Handling '\" + msg_type + \"' message: \", msg);\n",
       "                callback(fig, msg);\n",
       "            } catch (e) {\n",
       "                console.log(\"Exception inside the 'handler_\" + msg_type + \"' callback:\", e, e.stack, msg);\n",
       "            }\n",
       "        }\n",
       "    };\n",
       "}\n",
       "\n",
       "// from http://stackoverflow.com/questions/1114465/getting-mouse-location-in-canvas\n",
       "mpl.findpos = function(e) {\n",
       "    //this section is from http://www.quirksmode.org/js/events_properties.html\n",
       "    var targ;\n",
       "    if (!e)\n",
       "        e = window.event;\n",
       "    if (e.target)\n",
       "        targ = e.target;\n",
       "    else if (e.srcElement)\n",
       "        targ = e.srcElement;\n",
       "    if (targ.nodeType == 3) // defeat Safari bug\n",
       "        targ = targ.parentNode;\n",
       "\n",
       "    // jQuery normalizes the pageX and pageY\n",
       "    // pageX,Y are the mouse positions relative to the document\n",
       "    // offset() returns the position of the element relative to the document\n",
       "    var x = e.pageX - $(targ).offset().left;\n",
       "    var y = e.pageY - $(targ).offset().top;\n",
       "\n",
       "    return {\"x\": x, \"y\": y};\n",
       "};\n",
       "\n",
       "/*\n",
       " * return a copy of an object with only non-object keys\n",
       " * we need this to avoid circular references\n",
       " * http://stackoverflow.com/a/24161582/3208463\n",
       " */\n",
       "function simpleKeys (original) {\n",
       "  return Object.keys(original).reduce(function (obj, key) {\n",
       "    if (typeof original[key] !== 'object')\n",
       "        obj[key] = original[key]\n",
       "    return obj;\n",
       "  }, {});\n",
       "}\n",
       "\n",
       "mpl.figure.prototype.mouse_event = function(event, name) {\n",
       "    var canvas_pos = mpl.findpos(event)\n",
       "\n",
       "    if (name === 'button_press')\n",
       "    {\n",
       "        this.canvas.focus();\n",
       "        this.canvas_div.focus();\n",
       "    }\n",
       "\n",
       "    var x = canvas_pos.x * mpl.ratio;\n",
       "    var y = canvas_pos.y * mpl.ratio;\n",
       "\n",
       "    this.send_message(name, {x: x, y: y, button: event.button,\n",
       "                             step: event.step,\n",
       "                             guiEvent: simpleKeys(event)});\n",
       "\n",
       "    /* This prevents the web browser from automatically changing to\n",
       "     * the text insertion cursor when the button is pressed.  We want\n",
       "     * to control all of the cursor setting manually through the\n",
       "     * 'cursor' event from matplotlib */\n",
       "    event.preventDefault();\n",
       "    return false;\n",
       "}\n",
       "\n",
       "mpl.figure.prototype._key_event_extra = function(event, name) {\n",
       "    // Handle any extra behaviour associated with a key event\n",
       "}\n",
       "\n",
       "mpl.figure.prototype.key_event = function(event, name) {\n",
       "\n",
       "    // Prevent repeat events\n",
       "    if (name == 'key_press')\n",
       "    {\n",
       "        if (event.which === this._key)\n",
       "            return;\n",
       "        else\n",
       "            this._key = event.which;\n",
       "    }\n",
       "    if (name == 'key_release')\n",
       "        this._key = null;\n",
       "\n",
       "    var value = '';\n",
       "    if (event.ctrlKey && event.which != 17)\n",
       "        value += \"ctrl+\";\n",
       "    if (event.altKey && event.which != 18)\n",
       "        value += \"alt+\";\n",
       "    if (event.shiftKey && event.which != 16)\n",
       "        value += \"shift+\";\n",
       "\n",
       "    value += 'k';\n",
       "    value += event.which.toString();\n",
       "\n",
       "    this._key_event_extra(event, name);\n",
       "\n",
       "    this.send_message(name, {key: value,\n",
       "                             guiEvent: simpleKeys(event)});\n",
       "    return false;\n",
       "}\n",
       "\n",
       "mpl.figure.prototype.toolbar_button_onclick = function(name) {\n",
       "    if (name == 'download') {\n",
       "        this.handle_save(this, null);\n",
       "    } else {\n",
       "        this.send_message(\"toolbar_button\", {name: name});\n",
       "    }\n",
       "};\n",
       "\n",
       "mpl.figure.prototype.toolbar_button_onmouseover = function(tooltip) {\n",
       "    this.message.textContent = tooltip;\n",
       "};\n",
       "mpl.toolbar_items = [[\"Home\", \"Reset original view\", \"fa fa-home icon-home\", \"home\"], [\"Back\", \"Back to previous view\", \"fa fa-arrow-left icon-arrow-left\", \"back\"], [\"Forward\", \"Forward to next view\", \"fa fa-arrow-right icon-arrow-right\", \"forward\"], [\"\", \"\", \"\", \"\"], [\"Pan\", \"Pan axes with left mouse, zoom with right\", \"fa fa-arrows icon-move\", \"pan\"], [\"Zoom\", \"Zoom to rectangle\", \"fa fa-square-o icon-check-empty\", \"zoom\"], [\"\", \"\", \"\", \"\"], [\"Download\", \"Download plot\", \"fa fa-floppy-o icon-save\", \"download\"]];\n",
       "\n",
       "mpl.extensions = [\"eps\", \"jpeg\", \"pdf\", \"png\", \"ps\", \"raw\", \"svg\", \"tif\"];\n",
       "\n",
       "mpl.default_extension = \"png\";var comm_websocket_adapter = function(comm) {\n",
       "    // Create a \"websocket\"-like object which calls the given IPython comm\n",
       "    // object with the appropriate methods. Currently this is a non binary\n",
       "    // socket, so there is still some room for performance tuning.\n",
       "    var ws = {};\n",
       "\n",
       "    ws.close = function() {\n",
       "        comm.close()\n",
       "    };\n",
       "    ws.send = function(m) {\n",
       "        //console.log('sending', m);\n",
       "        comm.send(m);\n",
       "    };\n",
       "    // Register the callback with on_msg.\n",
       "    comm.on_msg(function(msg) {\n",
       "        //console.log('receiving', msg['content']['data'], msg);\n",
       "        // Pass the mpl event to the overridden (by mpl) onmessage function.\n",
       "        ws.onmessage(msg['content']['data'])\n",
       "    });\n",
       "    return ws;\n",
       "}\n",
       "\n",
       "mpl.mpl_figure_comm = function(comm, msg) {\n",
       "    // This is the function which gets called when the mpl process\n",
       "    // starts-up an IPython Comm through the \"matplotlib\" channel.\n",
       "\n",
       "    var id = msg.content.data.id;\n",
       "    // Get hold of the div created by the display call when the Comm\n",
       "    // socket was opened in Python.\n",
       "    var element = $(\"#\" + id);\n",
       "    var ws_proxy = comm_websocket_adapter(comm)\n",
       "\n",
       "    function ondownload(figure, format) {\n",
       "        window.open(figure.imageObj.src);\n",
       "    }\n",
       "\n",
       "    var fig = new mpl.figure(id, ws_proxy,\n",
       "                           ondownload,\n",
       "                           element.get(0));\n",
       "\n",
       "    // Call onopen now - mpl needs it, as it is assuming we've passed it a real\n",
       "    // web socket which is closed, not our websocket->open comm proxy.\n",
       "    ws_proxy.onopen();\n",
       "\n",
       "    fig.parent_element = element.get(0);\n",
       "    fig.cell_info = mpl.find_output_cell(\"<div id='\" + id + \"'></div>\");\n",
       "    if (!fig.cell_info) {\n",
       "        console.error(\"Failed to find cell for figure\", id, fig);\n",
       "        return;\n",
       "    }\n",
       "\n",
       "    var output_index = fig.cell_info[2]\n",
       "    var cell = fig.cell_info[0];\n",
       "\n",
       "};\n",
       "\n",
       "mpl.figure.prototype.handle_close = function(fig, msg) {\n",
       "    var width = fig.canvas.width/mpl.ratio\n",
       "    fig.root.unbind('remove')\n",
       "\n",
       "    // Update the output cell to use the data from the current canvas.\n",
       "    fig.push_to_output();\n",
       "    var dataURL = fig.canvas.toDataURL();\n",
       "    // Re-enable the keyboard manager in IPython - without this line, in FF,\n",
       "    // the notebook keyboard shortcuts fail.\n",
       "    IPython.keyboard_manager.enable()\n",
       "    $(fig.parent_element).html('<img src=\"' + dataURL + '\" width=\"' + width + '\">');\n",
       "    fig.close_ws(fig, msg);\n",
       "}\n",
       "\n",
       "mpl.figure.prototype.close_ws = function(fig, msg){\n",
       "    fig.send_message('closing', msg);\n",
       "    // fig.ws.close()\n",
       "}\n",
       "\n",
       "mpl.figure.prototype.push_to_output = function(remove_interactive) {\n",
       "    // Turn the data on the canvas into data in the output cell.\n",
       "    var width = this.canvas.width/mpl.ratio\n",
       "    var dataURL = this.canvas.toDataURL();\n",
       "    this.cell_info[1]['text/html'] = '<img src=\"' + dataURL + '\" width=\"' + width + '\">';\n",
       "}\n",
       "\n",
       "mpl.figure.prototype.updated_canvas_event = function() {\n",
       "    // Tell IPython that the notebook contents must change.\n",
       "    IPython.notebook.set_dirty(true);\n",
       "    this.send_message(\"ack\", {});\n",
       "    var fig = this;\n",
       "    // Wait a second, then push the new image to the DOM so\n",
       "    // that it is saved nicely (might be nice to debounce this).\n",
       "    setTimeout(function () { fig.push_to_output() }, 1000);\n",
       "}\n",
       "\n",
       "mpl.figure.prototype._init_toolbar = function() {\n",
       "    var fig = this;\n",
       "\n",
       "    var nav_element = $('<div/>');\n",
       "    nav_element.attr('style', 'width: 100%');\n",
       "    this.root.append(nav_element);\n",
       "\n",
       "    // Define a callback function for later on.\n",
       "    function toolbar_event(event) {\n",
       "        return fig.toolbar_button_onclick(event['data']);\n",
       "    }\n",
       "    function toolbar_mouse_event(event) {\n",
       "        return fig.toolbar_button_onmouseover(event['data']);\n",
       "    }\n",
       "\n",
       "    for(var toolbar_ind in mpl.toolbar_items){\n",
       "        var name = mpl.toolbar_items[toolbar_ind][0];\n",
       "        var tooltip = mpl.toolbar_items[toolbar_ind][1];\n",
       "        var image = mpl.toolbar_items[toolbar_ind][2];\n",
       "        var method_name = mpl.toolbar_items[toolbar_ind][3];\n",
       "\n",
       "        if (!name) { continue; };\n",
       "\n",
       "        var button = $('<button class=\"btn btn-default\" href=\"#\" title=\"' + name + '\"><i class=\"fa ' + image + ' fa-lg\"></i></button>');\n",
       "        button.click(method_name, toolbar_event);\n",
       "        button.mouseover(tooltip, toolbar_mouse_event);\n",
       "        nav_element.append(button);\n",
       "    }\n",
       "\n",
       "    // Add the status bar.\n",
       "    var status_bar = $('<span class=\"mpl-message\" style=\"text-align:right; float: right;\"/>');\n",
       "    nav_element.append(status_bar);\n",
       "    this.message = status_bar[0];\n",
       "\n",
       "    // Add the close button to the window.\n",
       "    var buttongrp = $('<div class=\"btn-group inline pull-right\"></div>');\n",
       "    var button = $('<button class=\"btn btn-mini btn-primary\" href=\"#\" title=\"Stop Interaction\"><i class=\"fa fa-power-off icon-remove icon-large\"></i></button>');\n",
       "    button.click(function (evt) { fig.handle_close(fig, {}); } );\n",
       "    button.mouseover('Stop Interaction', toolbar_mouse_event);\n",
       "    buttongrp.append(button);\n",
       "    var titlebar = this.root.find($('.ui-dialog-titlebar'));\n",
       "    titlebar.prepend(buttongrp);\n",
       "}\n",
       "\n",
       "mpl.figure.prototype._root_extra_style = function(el){\n",
       "    var fig = this\n",
       "    el.on(\"remove\", function(){\n",
       "\tfig.close_ws(fig, {});\n",
       "    });\n",
       "}\n",
       "\n",
       "mpl.figure.prototype._canvas_extra_style = function(el){\n",
       "    // this is important to make the div 'focusable\n",
       "    el.attr('tabindex', 0)\n",
       "    // reach out to IPython and tell the keyboard manager to turn it's self\n",
       "    // off when our div gets focus\n",
       "\n",
       "    // location in version 3\n",
       "    if (IPython.notebook.keyboard_manager) {\n",
       "        IPython.notebook.keyboard_manager.register_events(el);\n",
       "    }\n",
       "    else {\n",
       "        // location in version 2\n",
       "        IPython.keyboard_manager.register_events(el);\n",
       "    }\n",
       "\n",
       "}\n",
       "\n",
       "mpl.figure.prototype._key_event_extra = function(event, name) {\n",
       "    var manager = IPython.notebook.keyboard_manager;\n",
       "    if (!manager)\n",
       "        manager = IPython.keyboard_manager;\n",
       "\n",
       "    // Check for shift+enter\n",
       "    if (event.shiftKey && event.which == 13) {\n",
       "        this.canvas_div.blur();\n",
       "        // select the cell after this one\n",
       "        var index = IPython.notebook.find_cell_index(this.cell_info[0]);\n",
       "        IPython.notebook.select(index + 1);\n",
       "    }\n",
       "}\n",
       "\n",
       "mpl.figure.prototype.handle_save = function(fig, msg) {\n",
       "    fig.ondownload(fig, null);\n",
       "}\n",
       "\n",
       "\n",
       "mpl.find_output_cell = function(html_output) {\n",
       "    // Return the cell and output element which can be found *uniquely* in the notebook.\n",
       "    // Note - this is a bit hacky, but it is done because the \"notebook_saving.Notebook\"\n",
       "    // IPython event is triggered only after the cells have been serialised, which for\n",
       "    // our purposes (turning an active figure into a static one), is too late.\n",
       "    var cells = IPython.notebook.get_cells();\n",
       "    var ncells = cells.length;\n",
       "    for (var i=0; i<ncells; i++) {\n",
       "        var cell = cells[i];\n",
       "        if (cell.cell_type === 'code'){\n",
       "            for (var j=0; j<cell.output_area.outputs.length; j++) {\n",
       "                var data = cell.output_area.outputs[j];\n",
       "                if (data.data) {\n",
       "                    // IPython >= 3 moved mimebundle to data attribute of output\n",
       "                    data = data.data;\n",
       "                }\n",
       "                if (data['text/html'] == html_output) {\n",
       "                    return [cell, data, j];\n",
       "                }\n",
       "            }\n",
       "        }\n",
       "    }\n",
       "}\n",
       "\n",
       "// Register the function which deals with the matplotlib target/channel.\n",
       "// The kernel may be null if the page has been refreshed.\n",
       "if (IPython.notebook.kernel != null) {\n",
       "    IPython.notebook.kernel.comm_manager.register_target('matplotlib', mpl.mpl_figure_comm);\n",
       "}\n"
      ],
      "text/plain": [
       "<IPython.core.display.Javascript object>"
      ]
     },
     "metadata": {},
     "output_type": "display_data"
    },
    {
     "data": {
      "text/html": [
       "<img src=\"data:image/png;base64,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\" width=\"999.75\">"
      ],
      "text/plain": [
       "<IPython.core.display.HTML object>"
      ]
     },
     "metadata": {},
     "output_type": "display_data"
    }
   ],
   "source": [
    "dual_train_plots(results.index,\n",
    "                 results.cost, results.val, \n",
    "                 results['eff_val'].apply(lambda x: x.eff_rate),\n",
    "                 results['eff_val'].apply(lambda x: x.fp_rate))\n",
    "plt.tight_layout()\n",
    "plt.savefig(str(output / f'{name}_stats_a.png'))"
   ]
  },
  {
   "cell_type": "markdown",
   "metadata": {},
   "source": [
    "Go ahead and save the final model (even though it was also saved above):"
   ]
  },
  {
   "cell_type": "markdown",
   "metadata": {},
   "source": [
    "Save the output results:"
   ]
  },
  {
   "cell_type": "code",
   "execution_count": null,
   "metadata": {},
   "outputs": [],
   "source": [
    "##quit()\n",
    "\n"
   ]
  },
  {
   "cell_type": "code",
   "execution_count": null,
   "metadata": {},
   "outputs": [],
   "source": []
  }
 ],
 "metadata": {
  "kernelspec": {
   "display_name": "june2020-gpu",
   "language": "python",
   "name": "june2020-gpu"
  },
  "language_info": {
   "codemirror_mode": {
    "name": "ipython",
    "version": 3
   },
   "file_extension": ".py",
   "mimetype": "text/x-python",
   "name": "python",
   "nbconvert_exporter": "python",
   "pygments_lexer": "ipython3",
   "version": "3.7.6"
  }
 },
 "nbformat": 4,
 "nbformat_minor": 2
}
