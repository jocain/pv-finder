{
 "cells": [
  {
   "cell_type": "code",
   "execution_count": 1,
   "metadata": {},
   "outputs": [],
   "source": [
    "##%matplotlib widget\n",
    "## with %matplotlib notebook: seems to require ipympl as part of environment, either\n",
    "## part of the conda environment or \"pip install ipympl\"\n",
    "## otherwise, does not show ANY plots in note\"book, plt.savefig() works\n",
    "%matplotlib notebook  \n",
    "##%matplotlib inline    ## --plt.savefig()  works, but re-sizing does NOT\n"
   ]
  },
  {
   "cell_type": "markdown",
   "metadata": {},
   "source": [
    "This notebook has been created from the last iteration of \n",
    "\n",
    "  RunModel_Tracks_to_KDE_Testing_Skipper_14November2020_iter_1A\n",
    "  \n",
    "and has modified to\n",
    "<ol>\n",
    "    <li>  use a different loss function (kde_loss_Ba)</li>\n",
    "    <li>  use much more training data (using Will's files)</li>\n",
    "</ol>\n",
    "    "
   ]
  },
  {
   "cell_type": "markdown",
   "metadata": {},
   "source": [
    "Check the current GPU usage. Please try to be nice!"
   ]
  },
  {
   "cell_type": "code",
   "execution_count": 2,
   "metadata": {},
   "outputs": [
    {
     "name": "stdout",
     "output_type": "stream",
     "text": [
      "Tue Feb 16 08:26:19 2021       \n",
      "+-----------------------------------------------------------------------------+\n",
      "| NVIDIA-SMI 440.64.00    Driver Version: 440.64.00    CUDA Version: 10.2     |\n",
      "|-------------------------------+----------------------+----------------------+\n",
      "| GPU  Name        Persistence-M| Bus-Id        Disp.A | Volatile Uncorr. ECC |\n",
      "| Fan  Temp  Perf  Pwr:Usage/Cap|         Memory-Usage | GPU-Util  Compute M. |\n",
      "|===============================+======================+======================|\n",
      "|   0  TITAN V             Off  | 00000000:03:00.0 Off |                  N/A |\n",
      "| 28%   36C    P2    25W / 250W |   7067MiB / 12066MiB |      0%      Default |\n",
      "+-------------------------------+----------------------+----------------------+\n",
      "|   1  Tesla P100-PCIE...  Off  | 00000000:83:00.0 Off |                    0 |\n",
      "| N/A   32C    P0    33W / 250W |      0MiB / 16280MiB |      0%      Default |\n",
      "+-------------------------------+----------------------+----------------------+\n",
      "|   2  TITAN V             Off  | 00000000:84:00.0 Off |                  N/A |\n",
      "| 22%   37C    P0    34W / 250W |      0MiB / 12066MiB |      0%      Default |\n",
      "+-------------------------------+----------------------+----------------------+\n",
      "                                                                               \n",
      "+-----------------------------------------------------------------------------+\n",
      "| Processes:                                                       GPU Memory |\n",
      "|  GPU       PID   Type   Process name                             Usage      |\n",
      "|=============================================================================|\n",
      "|    0     16190      C   ...a/conda/envs/goofit-june2020/bin/python  7055MiB |\n",
      "+-----------------------------------------------------------------------------+\n"
     ]
    }
   ],
   "source": [
    "!nvidia-smi"
   ]
  },
  {
   "cell_type": "markdown",
   "metadata": {},
   "source": [
    "> **WARNING**: The card numbers here are *not* the same as in CUDA. You have been warned."
   ]
  },
  {
   "cell_type": "markdown",
   "metadata": {},
   "source": [
    "This notebook is first attempt to read in track information and use it to predict the KDE used as input to PvFinder.\n"
   ]
  },
  {
   "cell_type": "markdown",
   "metadata": {},
   "source": [
    "## Imports"
   ]
  },
  {
   "cell_type": "code",
   "execution_count": 3,
   "metadata": {},
   "outputs": [],
   "source": [
    "import matplotlib.pyplot as plt\n",
    "import numpy as np\n",
    "import time\n",
    "import torch\n",
    "import pandas as pd\n",
    "\n",
    "# Python 3 standard library\n",
    "from pathlib import Path\n",
    "\n",
    "##from torchsummary import summary"
   ]
  },
  {
   "cell_type": "markdown",
   "metadata": {},
   "source": [
    "### Set up local parameters"
   ]
  },
  {
   "cell_type": "code",
   "execution_count": 4,
   "metadata": {},
   "outputs": [],
   "source": [
    "n_epochs = 525\n",
    "\n",
    "# Name is the output file name\n",
    "\n",
    "\n",
    "##  201027 -- about to go to bed, so try 2500 epochs with lr = 1e55\n",
    "##  previous iteration had l4 = 3e-5 and cost dropped almost linearly\n",
    "##  for 100 epochs -- final training costs ~ 2.02, validation cost ~ 2.01\n",
    "\n",
    "## Iter 2A ended with training cost = 3.94; validation 3.7 - 3.8\n",
    "## Iter 2A2 ended with training cost = ~3.65, validation cost ~ .45\n",
    "##  for Iter2A3, try increasing the l.r. from 1e-5 to 3e-5 as the decrease\n",
    "##  in training cost was almost monotonic\n",
    "##  Iter2A3 costs jumped and started to come down;  start with Iter2A2 again\n",
    "##   and use an intermediate l.r. = 2e-5\n",
    "##  Iter2A4 costs also jumped, although not so much for validation\n",
    "##  In any case, let's revert to lr. = 1e-5 for the moment\n",
    "folder = '16February_Skipper_iter2A6_525epochs_2em5_4xwill'\n",
    "name   = folder\n",
    "\n",
    "# Make an output folder named \"name\" (change if you want)\n",
    "\n",
    "## Special instructions for those working on goofy at UC\n",
    "## Please be very careful to make sure that your folder\n",
    "## does not live in a subdirectory of your home directory\n",
    "## this disk has very little capacity. Instead, use \n",
    "## a subdirectory in /share/lazy with a symbolic link to\n",
    "## it in this (the notebooks) subdirectory\n",
    "folder = 'ML/' + folder\n",
    "output = Path(folder)\n",
    "\n",
    "\n",
    "# Size of batches\n",
    "batch_size = 64\n",
    "# How fast to learn\n",
    "learning_rate = 1e-5"
   ]
  },
  {
   "cell_type": "markdown",
   "metadata": {},
   "source": [
    "Make the output directory if it does not exist:"
   ]
  },
  {
   "cell_type": "code",
   "execution_count": 5,
   "metadata": {},
   "outputs": [],
   "source": [
    "output.mkdir(exist_ok=True)"
   ]
  },
  {
   "cell_type": "markdown",
   "metadata": {},
   "source": [
    "## Get the helper functions\n",
    "\n",
    "Add the directory with the model\n",
    "definitions to the path so we can import from it:\n",
    "\n",
    "> When you type `import X`,\n",
    "Python searches `sys.path` for a python\n",
    "file named `X.py` to import. So we need to add the model directory to the path."
   ]
  },
  {
   "cell_type": "code",
   "execution_count": 6,
   "metadata": {
    "scrolled": true
   },
   "outputs": [],
   "source": [
    "# From model/collectdata.py\n",
    "##from model.collectdata_kde_B import collect_t2kde_data\n",
    "## collectdata_kde_C should use the new poca KDE rather than the original kernel KDE\n",
    "from model.collectdata_kde_Ellipsoids import collect_t2kde_data\n",
    "from model.collectdata_kdeB_Ellipsoids import load_prebuilt_dataset\n",
    "\n",
    "\n",
    "# From model/loss.py\n",
    "##from loss import Loss\n",
    "## kde_loss_D includes botha ratio term and a chisq term, 98% ave_chisq\n",
    "## kde_loss_E adds a chi^4 term to the kde_loss_D return value\n",
    "## this is intended to emphasize the importance of values significantly different than zero\n",
    "from model.kde_loss_Ba import Loss\n",
    "\n",
    "##  TracksToKDE_Ellipsoids_Skipper has 12 hidden layers producing the 4000-bin KDE historgram\n",
    "##  It takes 9 input features (pocca centers + (A,B,C,D,E,F) . \n",
    "from model.models_kde import TracksToKDE_Ellipsoids_Skipper as Model\n",
    "\n",
    "\n",
    "from model.training_kde import trainNet, select_gpu, Results\n",
    "from model.plots import dual_train_plots, replace_in_ax"
   ]
  },
  {
   "cell_type": "code",
   "execution_count": 7,
   "metadata": {},
   "outputs": [],
   "source": [
    "# This gets built up during the run - do not rerun this cell\n",
    "results = pd.DataFrame([], columns=Results._fields)"
   ]
  },
  {
   "cell_type": "markdown",
   "metadata": {},
   "source": [
    "Set up Torch device configuration. All tensors and model parameters need to know where to be put.\n",
    "This takes a BUS ID number: The BUS ID is the same as the listing at the top of this script."
   ]
  },
  {
   "cell_type": "code",
   "execution_count": 8,
   "metadata": {},
   "outputs": [
    {
     "name": "stdout",
     "output_type": "stream",
     "text": [
      "1 available GPUs (initially using device 0):\n",
      "  0 TITAN V\n"
     ]
    }
   ],
   "source": [
    "device = select_gpu(0)\n",
    "##device = \"cpu\""
   ]
  },
  {
   "cell_type": "markdown",
   "metadata": {},
   "source": [
    "## Loading data\n",
    "\n",
    "Load the dataset, split into parts, then move to device (see `collectdata.py` in the `../model` directory)"
   ]
  },
  {
   "cell_type": "markdown",
   "metadata": {},
   "source": [
    "# Preparing the model"
   ]
  },
  {
   "cell_type": "markdown",
   "metadata": {},
   "source": [
    "Prepare a model, use multiple GPUs if they are VISIBLE, and move the model to the device."
   ]
  },
  {
   "cell_type": "code",
   "execution_count": 9,
   "metadata": {
    "scrolled": true
   },
   "outputs": [],
   "source": [
    "##print(\"Let's use\", torch.cuda.device_count(), \"GPUs!\")\n",
    "##if torch.cuda.device_count() > 1:\n",
    "##    model = torch.nn.DataParallel(model)"
   ]
  },
  {
   "cell_type": "code",
   "execution_count": 10,
   "metadata": {},
   "outputs": [
    {
     "name": "stdout",
     "output_type": "stream",
     "text": [
      "ct, child =  0    Linear(in_features=9, out_features=50, bias=True)\n",
      "ct, child =  1    Linear(in_features=50, out_features=50, bias=True)\n",
      "ct, child =  2    Linear(in_features=50, out_features=50, bias=True)\n",
      "ct, child =  3    Linear(in_features=59, out_features=50, bias=True)\n",
      "ct, child =  4    Linear(in_features=50, out_features=50, bias=True)\n",
      "ct, child =  5    Linear(in_features=50, out_features=50, bias=True)\n",
      "ct, child =  6    Linear(in_features=50, out_features=50, bias=True)\n",
      "ct, child =  7    Linear(in_features=59, out_features=50, bias=True)\n",
      "ct, child =  8    Linear(in_features=50, out_features=50, bias=True)\n",
      "ct, child =  9    Linear(in_features=50, out_features=50, bias=True)\n",
      "ct, child =  10    Linear(in_features=50, out_features=50, bias=True)\n",
      "ct, child =  11    Linear(in_features=59, out_features=4000, bias=True)\n"
     ]
    }
   ],
   "source": [
    "## a comment on the web at https://pytorch.org/docs/stable/optim.html says\n",
    "\"\"\"\n",
    "If you need to move a model to GPU via .cuda(), please do so before constructing optimizers for it. \n",
    "Parameters of a model after .cuda() will be different objects with those before the call.\n",
    "\n",
    "In general, you should make sure that optimized parameters live in consistent locations when \n",
    "optimizers are constructed and used.\n",
    "\"\"\"\n",
    "## so move this here (although we are using model.to(device) not explicitly using .cuda()\n",
    "\n",
    "nOut1 = 50\n",
    "nOut2 = 50\n",
    "nOut3 = 50\n",
    "nOut4 = 50\n",
    "nOut5 = 50\n",
    "nOut6 = 50\n",
    "nOut7 = 50\n",
    "nOut8 = 50\n",
    "nOut9 = 50\n",
    "nOut10 = 50\n",
    "nOut11 = 50\n",
    "model = Model(nOut1,nOut2,nOut3,nOut4,nOut5,nOut6,nOut7,nOut8,nOut9,nOut10,nOut11)\n",
    "\n",
    "##summary(model, input_size=(4, 4000))\n",
    "##print(model.parameters)\n",
    "\n",
    "## add the following code to allow the user to freeze the some of the weights corresponding \n",
    "## to those taken from an earlier model trained with the original target histograms\n",
    "## presumably -- this leaves either the perturbative filter \"fixed\" and lets the \n",
    "## learning focus on the non-perturbative features, so get started faster, or vice versa\n",
    "ct = 0\n",
    "for child in model.children():\n",
    "  print('ct, child = ',ct, \"  \", child)\n",
    "  if ct < 0:\n",
    "    print(\"     About to set param.requires_grad=False for ct = \", ct, \"params\")\n",
    "    for param in child.parameters():\n",
    "        param.requires_grad = False \n",
    "  ct += 1\n",
    "##  mds 200121 loss = Loss(epsilon=1e-5,coefficient=1.0)\n",
    "##  loss = Loss(epsilon=1e-5,coefficient=2.5)\n",
    "##loss = Loss(epsilon=3e-5, debug=False)\n",
    "loss = Loss(epsilon=3e-5)"
   ]
  },
  {
   "cell_type": "markdown",
   "metadata": {},
   "source": [
    "Let's move the model's weight matricies to the GPU:"
   ]
  },
  {
   "cell_type": "code",
   "execution_count": 11,
   "metadata": {
    "scrolled": true
   },
   "outputs": [],
   "source": [
    "model = model.to(device)"
   ]
  },
  {
   "cell_type": "code",
   "execution_count": 12,
   "metadata": {
    "scrolled": true
   },
   "outputs": [],
   "source": [
    "optimizer = torch.optim.Adam(model.parameters(), lr=learning_rate)\n",
    "##optimizer = torch.optim.SGD(model.parameters(), lr=learning_rate)"
   ]
  },
  {
   "cell_type": "code",
   "execution_count": 13,
   "metadata": {},
   "outputs": [
    {
     "name": "stdout",
     "output_type": "stream",
     "text": [
      "output =  ML/16February_Skipper_iter2A6_525epochs_2em5_4xwill\n",
      "for model_dict\n",
      "index, k =   0    layer1.weight\n",
      "index, k =   1    layer1.bias\n",
      "index, k =   2    layer2.weight\n",
      "index, k =   3    layer2.bias\n",
      "index, k =   4    layer3.weight\n",
      "index, k =   5    layer3.bias\n",
      "index, k =   6    layer4.weight\n",
      "index, k =   7    layer4.bias\n",
      "index, k =   8    layer5.weight\n",
      "index, k =   9    layer5.bias\n",
      "index, k =   10    layer6.weight\n",
      "index, k =   11    layer6.bias\n",
      "index, k =   12    layer7.weight\n",
      "index, k =   13    layer7.bias\n",
      "index, k =   14    layer8.weight\n",
      "index, k =   15    layer8.bias\n",
      "index, k =   16    layer9.weight\n",
      "index, k =   17    layer9.bias\n",
      "index, k =   18    layer10.weight\n",
      "index, k =   19    layer10.bias\n",
      "index, k =   20    layer11.weight\n",
      "index, k =   21    layer11.bias\n",
      "index, k =   22    layer12.weight\n",
      "index, k =   23    layer12.bias\n"
     ]
    }
   ],
   "source": [
    "print('output = ',output)\n",
    "##print('oldOutput = ',oldOutput)\n",
    "##  use the first four layers from a pre-existing model\n",
    "##  see example at https://discuss.pytorch.org/t/how-to-load-part-of-pre-trained-model/1113\n",
    "\n",
    "##   ML -> /share/lazy/sokoloff/ML\n",
    "model_dict = model.state_dict()\n",
    "## mds 190725 for debugging\n",
    "print(\"for model_dict\")\n",
    "index = 0\n",
    "for k,v in model_dict.items():\n",
    "    print(\"index, k =  \",index,\"  \",k)\n",
    "    index = index+1\n",
    "##    print(\"value = \", v)\n",
    " \n",
    "updated_dict = model_dict\n",
    "##print(\"updated_dict = \",updated_dict)\n",
    "## when starting \"ab initio\", reduce biases as the bias gets summed for each track\n",
    "## contributing to the predicted KDE\n",
    "updated_dict[\"layer1.bias\"] = 0.005*model_dict[\"layer1.bias\"]\n",
    "updated_dict[\"layer2.bias\"] = 0.005*model_dict[\"layer2.bias\"]\n",
    "updated_dict[\"layer3.bias\"] = 0.005*model_dict[\"layer3.bias\"]\n",
    "updated_dict[\"layer4.bias\"] = 0.005*model_dict[\"layer4.bias\"]\n",
    "updated_dict[\"layer5.bias\"] = 0.005*model_dict[\"layer5.bias\"]\n",
    "updated_dict[\"layer6.bias\"] = 0.005*model_dict[\"layer6.bias\"]\n",
    "updated_dict[\"layer7.bias\"] = 0.005*model_dict[\"layer7.bias\"]\n",
    "updated_dict[\"layer8.bias\"] = 0.005*model_dict[\"layer8.bias\"]\n",
    "updated_dict[\"layer9.bias\"] = 0.005*model_dict[\"layer9.bias\"]\n",
    "updated_dict[\"layer10.bias\"] = 0.005*model_dict[\"layer10.bias\"]\n",
    "updated_dict[\"layer11.bias\"] = 0.005*model_dict[\"layer11.bias\"]\n",
    "\n",
    "model.load_state_dict(updated_dict,strict=False)\n",
    "\n",
    "model_dict = model.state_dict()\n"
   ]
  },
  {
   "cell_type": "code",
   "execution_count": 14,
   "metadata": {
    "scrolled": false
   },
   "outputs": [
    {
     "name": "stdout",
     "output_type": "stream",
     "text": [
      " \n",
      "  for pretrained_dict\n",
      "index, k =   0    layer1.weight\n",
      "index, k =   1    layer1.bias\n",
      "index, k =   2    layer2.weight\n",
      "index, k =   3    layer2.bias\n",
      "index, k =   4    layer3.weight\n",
      "index, k =   5    layer3.bias\n",
      "index, k =   6    layer4.weight\n",
      "index, k =   7    layer4.bias\n",
      "index, k =   8    layer5.weight\n",
      "index, k =   9    layer5.bias\n",
      "index, k =   10    layer6.weight\n",
      "index, k =   11    layer6.bias\n",
      "index, k =   12    layer7.weight\n",
      "index, k =   13    layer7.bias\n",
      "index, k =   14    layer8.weight\n",
      "index, k =   15    layer8.bias\n",
      "index, k =   16    layer9.weight\n",
      "index, k =   17    layer9.bias\n",
      "index, k =   18    layer10.weight\n",
      "index, k =   19    layer10.bias\n",
      "index, k =   20    layer11.weight\n",
      "index, k =   21    layer11.bias\n",
      "index, k =   22    layer12.weight\n",
      "index, k =   23    layer12.bias\n",
      "pretrained_dict iterated\n"
     ]
    },
    {
     "data": {
      "text/plain": [
       "<All keys matched successfully>"
      ]
     },
     "execution_count": 14,
     "metadata": {},
     "output_type": "execute_result"
    }
   ],
   "source": [
    "##old_file = '15November_testing_Skipper_first_learning_iter_2A_1000epochs_1em5'\n",
    "##old_file = '15November_testing_Skipper_first_learning_iter_2B_1000epochs_5em6'\n",
    "##old_file = '15November_testing_Skipper_first_learning_iter_3B_1000epochs_3em6'\n",
    "\n",
    "## for 15February_Skipper_iter2A5_400epochs_2em5_4xwill use iter 394 as it was something of a lcao;\n",
    "## minimum in validation cost, and we will use a lower learning rate for the next iteration\n",
    "old_file = '15February_Skipper_iter2A5_400epochs_2em5_4xwill'\n",
    "old_name = old_file\n",
    "iter_name = \"394\"\n",
    "dict_name = \"ML/\" + old_file + \"/\" + old_name + \"_\" + iter_name + \".pyt\"\n",
    "pretrained_dict = torch.load(dict_name)\n",
    "\n",
    "\n",
    "print(\" \")\n",
    "print(\"  for pretrained_dict\")\n",
    "index = 0\n",
    "for k,v in pretrained_dict.items():\n",
    "    print(\"index, k =  \",index,\"  \",k)\n",
    "    index = index+1\n",
    " \n",
    "\n",
    "##print(\"model_dict instantiated\")\n",
    "# 1. filter out unnecessary keys\n",
    "pretrained_dict = {k: v for k, v in pretrained_dict.items() if k in model_dict}\n",
    "print(\"pretrained_dict iterated\")\n",
    "# 2. overwrite entries in the existing state dict\n",
    "model_dict.update(pretrained_dict) \n",
    "##\n",
    "#   when starting from a model with a fully connected last layer rather than a convolutional layer\n",
    "# 3. load the new state dict\n",
    "#   need to use strict=False as the two models state model attributes do not agree exactly\n",
    "#   see https://pytorch.org/docs/master/_modules/torch/nn/modules/module.html#Module.load_state_dict\n",
    "\n",
    "model.load_state_dict(pretrained_dict,strict=False)"
   ]
  },
  {
   "cell_type": "code",
   "execution_count": 15,
   "metadata": {},
   "outputs": [],
   "source": [
    "##print('validation.dataset.tensors = ',validation.dataset.tensors)\n",
    "fig_size = plt.rcParams[\"figure.figsize\"]\n",
    "fig_size[0] = 10\n",
    "fig_size[1] = 4\n",
    "plt.rcParams[\"figure.figsize\"] = fig_size"
   ]
  },
  {
   "cell_type": "code",
   "execution_count": 16,
   "metadata": {
    "scrolled": false
   },
   "outputs": [
    {
     "name": "stdout",
     "output_type": "stream",
     "text": [
      "Loading data...\n",
      "pocaMx.shape =  (20000,)\n",
      "nEvts =  20000\n",
      "len(pocaMx[0]) =  211\n",
      "len(pocaMx[1]) =  21\n",
      "len(pocaMx[2]) =  20\n",
      "len(pocaMx[3]) =  198\n",
      "len(pocaMx[4]) =  233\n",
      "majorAxis.shape =  (20000, 3)\n",
      "minorAxis_1.shape =  (20000, 3)\n",
      "minorAxis_2.shape =  (20000, 3)\n",
      "have entered six_ellipsoid_parameters\n",
      "  \n",
      " \n",
      "  nEvts =  20000\n",
      " iEvt, nTrks =  0 211\n",
      " iEvt, nTrks =  1 21\n",
      " iEvt, nTrks =  2 20\n",
      " iEvt, nTrks =  3 198\n",
      " iEvt, nTrks =  4 233\n",
      " iEvt, nTrks =  5 85\n",
      " iEvt, nTrks =  6 223\n",
      " iEvt, nTrks =  7 425\n",
      " iEvt, nTrks =  8 252\n",
      " iEvt, nTrks =  9 169\n",
      "A.shape =  (20000,)\n",
      "majorAxis[iTrk][0][0] =  -0.00023452607\n",
      "majorAxis[iTrk][1][0] =  -0.00047206535\n",
      "majorAxis[iTrk][2][0] =  0.096502915\n",
      "minorAxis_1[iTrk][0][0] =  -15.822749\n",
      "minorAxis_1[iTrk][1][0] =  7.8608756\n",
      "minorAxis_1[iTrk][2][0] =  -2.6228399e-08\n",
      "minorAxis_2[iTrk][0][0] =  7.860759\n",
      "minorAxis_2[iTrk][1][0] =  15.822513\n",
      "minorAxis_2[iTrk][2][0] =  0.096502915\n",
      "  \n",
      "majorAxis[iTrk][0][0] =  -0.37655562\n",
      "majorAxis[iTrk][1][0] =  0.2768704\n",
      "majorAxis[iTrk][2][0] =  2.8546858\n",
      "minorAxis_1[iTrk][0][0] =  -10.466048\n",
      "minorAxis_1[iTrk][1][0] =  -14.234274\n",
      "minorAxis_1[iTrk][2][0] =  2.2974699e-11\n",
      "minorAxis_2[iTrk][0][0] =  -14.04724\n",
      "minorAxis_2[iTrk][1][0] =  10.328527\n",
      "minorAxis_2[iTrk][2][0] =  -2.8546853\n",
      "  \n",
      "majorAxis[iTrk][0][0] =  -0.024279848\n",
      "majorAxis[iTrk][1][0] =  0.0019689242\n",
      "majorAxis[iTrk][2][0] =  0.65580803\n",
      "minorAxis_1[iTrk][0][0] =  -1.4280497\n",
      "minorAxis_1[iTrk][1][0] =  -17.610037\n",
      "minorAxis_1[iTrk][2][0] =  -6.123401e-10\n",
      "minorAxis_2[iTrk][0][0] =  -17.597902\n",
      "minorAxis_2[iTrk][1][0] =  1.4270656\n",
      "minorAxis_2[iTrk][2][0] =  -0.6558081\n",
      "  \n",
      "majorAxis[iTrk][0][0] =  -0.007825993\n",
      "majorAxis[iTrk][1][0] =  0.004052097\n",
      "majorAxis[iTrk][2][0] =  0.3945435\n",
      "minorAxis_1[iTrk][0][0] =  8.123606\n",
      "minorAxis_1[iTrk][1][0] =  15.689478\n",
      "minorAxis_1[iTrk][2][0] =  -2.4940747e-10\n",
      "minorAxis_2[iTrk][0][0] =  15.685566\n",
      "minorAxis_2[iTrk][1][0] =  -8.12158\n",
      "minorAxis_2[iTrk][2][0] =  0.3945435\n",
      "  \n",
      "majorAxis[iTrk][0][0] =  0.0046102717\n",
      "majorAxis[iTrk][1][0] =  -0.0016007021\n",
      "majorAxis[iTrk][2][0] =  0.29361814\n",
      "minorAxis_1[iTrk][0][0] =  -5.794979\n",
      "minorAxis_1[iTrk][1][0] =  -16.690445\n",
      "minorAxis_1[iTrk][2][0] =  2.4897104e-09\n",
      "minorAxis_2[iTrk][0][0] =  -16.688139\n",
      "minorAxis_2[iTrk][1][0] =  5.794179\n",
      "minorAxis_2[iTrk][2][0] =  0.2936181\n",
      "  \n",
      "majorAxis[iTrk][0][0] =  -0.00020041714\n",
      "majorAxis[iTrk][1][0] =  0.00010468164\n",
      "majorAxis[iTrk][2][0] =  0.06320469\n",
      "minorAxis_1[iTrk][0][0] =  8.179679\n",
      "minorAxis_1[iTrk][1][0] =  15.660318\n",
      "minorAxis_1[iTrk][2][0] =  7.40176e-08\n",
      "minorAxis_2[iTrk][0][0] =  15.660218\n",
      "minorAxis_2[iTrk][1][0] =  -8.179626\n",
      "minorAxis_2[iTrk][2][0] =  0.06320469\n",
      "  \n",
      "majorAxis[iTrk][0][0] =  -0.00020603223\n",
      "majorAxis[iTrk][1][0] =  -0.0005662605\n",
      "majorAxis[iTrk][2][0] =  0.10317981\n",
      "minorAxis_1[iTrk][0][0] =  -16.603\n",
      "minorAxis_1[iTrk][1][0] =  6.040953\n",
      "minorAxis_1[iTrk][2][0] =  4.5812504e-07\n",
      "minorAxis_2[iTrk][0][0] =  6.0408506\n",
      "minorAxis_2[iTrk][1][0] =  16.602718\n",
      "minorAxis_2[iTrk][2][0] =  0.10317982\n",
      "  \n",
      "majorAxis[iTrk][0][0] =  -0.00040561036\n",
      "majorAxis[iTrk][1][0] =  0.00014461782\n",
      "majorAxis[iTrk][2][0] =  0.0872241\n",
      "minorAxis_1[iTrk][0][0] =  -5.933496\n",
      "minorAxis_1[iTrk][1][0] =  -16.641706\n",
      "minorAxis_1[iTrk][2][0] =  1.0720762e-08\n",
      "minorAxis_2[iTrk][0][0] =  -16.641502\n",
      "minorAxis_2[iTrk][1][0] =  5.9334235\n",
      "minorAxis_2[iTrk][2][0] =  -0.0872241\n",
      "  \n",
      "majorAxis[iTrk][0][0] =  0.00038461428\n",
      "majorAxis[iTrk][1][0] =  -3.4232737e-05\n",
      "majorAxis[iTrk][2][0] =  0.08259597\n",
      "minorAxis_1[iTrk][0][0] =  -1.5663412\n",
      "minorAxis_1[iTrk][1][0] =  -17.598276\n",
      "minorAxis_1[iTrk][2][0] =  3.2106848e-07\n",
      "minorAxis_2[iTrk][0][0] =  -17.598082\n",
      "minorAxis_2[iTrk][1][0] =  1.5663238\n",
      "minorAxis_2[iTrk][2][0] =  0.08259596\n",
      "  \n",
      "majorAxis[iTrk][0][0] =  -0.022277953\n",
      "majorAxis[iTrk][1][0] =  -0.0046837274\n",
      "majorAxis[iTrk][2][0] =  0.63399464\n",
      "minorAxis_1[iTrk][0][0] =  -3.6350286\n",
      "minorAxis_1[iTrk][1][0] =  17.289862\n",
      "minorAxis_1[iTrk][2][0] =  9.566169e-10\n",
      "minorAxis_2[iTrk][0][0] =  17.278727\n",
      "minorAxis_2[iTrk][1][0] =  3.6326876\n",
      "minorAxis_2[iTrk][2][0] =  0.6339946\n",
      "  \n",
      "len(X) =  20000\n",
      "len(Xlist) =  1\n",
      "Loaded dataAA/20K_POCA_kernel_evts_200926.h5 in 38.34 s\n",
      "outer loop X.shape =  (20000, 9, 600)\n",
      "Constructing 20000 event dataset took 0.314 s\n",
      "x_t.shape =  torch.Size([20000, 9, 600])\n",
      "x_t.shape[0] =  20000\n",
      "x_t.shape[1] =  9\n",
      "x_t.shape =  torch.Size([20000, 9, 600])\n"
     ]
    }
   ],
   "source": [
    "\n",
    "## Training dataset. You can put as many files here as desired.\n",
    "\n",
    "## 210109 let's use some of Will's toy MC for training rather than the 20K sample I've been using\n",
    "\n",
    "##train_loader = collect_t2hists_data('dataAA/20K_POCA_kernel_evts_200926.h5',\n",
    "'''train_loader = collect_t2kde_data('/share/lazy/will/data/June30_2020_80k_1.h5', \n",
    "                                  '/share/lazy/will/data/June30_2020_80k_2.h5',\n",
    "                                  '/share/lazy/will/data/June30_2020_80k_3.h5',\n",
    "                                  '/share/lazy/will/data/June30_2020_80k_4.h5',\n",
    "                                ##  '/share/lazy/will/data/June30_2020_80k_5.h5',\n",
    "                                ##  '/share/lazy/will/data/June30_2020_80k_6.h5',\n",
    "                                ##  '/share/lazy/will/data/June30_2020_80k_7.h5',\n",
    "                             batch_size=batch_size,\n",
    "                           )\n",
    "'''\n",
    "\n",
    "##  16 February 2021\n",
    "##  use Will's pre-built data sets; loading them is much faster; they also\n",
    "##  require less CPU memory; it seems likely we can use all 7 rather than 4\n",
    "##  even on goofy; \n",
    "##  stick with 4 for the moment\n",
    "train_loader = load_prebuilt_dataset(batch_size = batch_size, num_files=4)\n",
    "    \n",
    "# Validation dataset. You can slice to reduce the size.\n",
    "## mds no separate validation set yet,\n",
    "val_loader = collect_t2kde_data('dataAA/20K_POCA_kernel_evts_200926.h5',\n",
    "                            batch_size=batch_size,\n",
    "                            device=device,\n",
    "                            ##slice = slice(18000,None)\n",
    "                           )\n"
   ]
  },
  {
   "cell_type": "markdown",
   "metadata": {
    "scrolled": false
   },
   "source": [
    "with torch.no_grad():\n",
    "    counter = 0\n",
    "    event = 0\n",
    "    print(\"train_loader = \",train_loader)\n",
    "    for inputs, labels in train_loader:\n",
    "##        print(\"counter = \",counter)\n",
    "##        print(\"inputs = \",inputs)\n",
    "        print(\"inputs.shape = \",inputs.shape)\n",
    "        if inputs.device != device:\n",
    "            inputs, labels = inputs.to(device), labels.to(device)\n",
    "            \n",
    "        outputs = model(inputs)\n",
    "##        print(\"outputs.shape = \",outputs.shape)\n",
    "        nEvts = outputs.shape[0]\n",
    "        for iEvt in range(nEvts):\n",
    "            y_pred = outputs[iEvt,:]\n",
    "            y_pred = y_pred.cpu().numpy()\n",
    "            \n",
    "            event = event +1\n",
    "##            print(\"event = \",event)\n",
    "            if (event<5):\n",
    "                plt.figure()\n",
    "                plt.plot(y_pred[0:50])\n",
    "                plt.show()\n",
    "                \n",
    "##                print(\"  point AA \")\n",
    "                features = inputs[iEvt,:]\n",
    "                features = features[np.newaxis,:,:]\n",
    "                \n",
    "                \n",
    "                print(\"features.shape = \",features.shape)\n",
    "                \n",
    "                output_A = model(features)\n",
    "                y_prime = output_A[0,:]\n",
    "                y_prime = y_prime.cpu().numpy()\n",
    "                plt.figure()\n",
    "                plt.plot(y_prime[0:50], color=\"r\")\n",
    "                plt.show()\n",
    "                \n",
    "            \n",
    "\n",
    "##        print(\"nEvts = \",nEvts)\n",
    "        \n",
    "        counter = counter+1\n",
    "        \n",
    "        \n",
    "        "
   ]
  },
  {
   "cell_type": "code",
   "execution_count": 17,
   "metadata": {
    "scrolled": false
   },
   "outputs": [
    {
     "data": {
      "application/javascript": [
       "/* Put everything inside the global mpl namespace */\n",
       "window.mpl = {};\n",
       "\n",
       "\n",
       "mpl.get_websocket_type = function() {\n",
       "    if (typeof(WebSocket) !== 'undefined') {\n",
       "        return WebSocket;\n",
       "    } else if (typeof(MozWebSocket) !== 'undefined') {\n",
       "        return MozWebSocket;\n",
       "    } else {\n",
       "        alert('Your browser does not have WebSocket support. ' +\n",
       "              'Please try Chrome, Safari or Firefox ≥ 6. ' +\n",
       "              'Firefox 4 and 5 are also supported but you ' +\n",
       "              'have to enable WebSockets in about:config.');\n",
       "    };\n",
       "}\n",
       "\n",
       "mpl.figure = function(figure_id, websocket, ondownload, parent_element) {\n",
       "    this.id = figure_id;\n",
       "\n",
       "    this.ws = websocket;\n",
       "\n",
       "    this.supports_binary = (this.ws.binaryType != undefined);\n",
       "\n",
       "    if (!this.supports_binary) {\n",
       "        var warnings = document.getElementById(\"mpl-warnings\");\n",
       "        if (warnings) {\n",
       "            warnings.style.display = 'block';\n",
       "            warnings.textContent = (\n",
       "                \"This browser does not support binary websocket messages. \" +\n",
       "                    \"Performance may be slow.\");\n",
       "        }\n",
       "    }\n",
       "\n",
       "    this.imageObj = new Image();\n",
       "\n",
       "    this.context = undefined;\n",
       "    this.message = undefined;\n",
       "    this.canvas = undefined;\n",
       "    this.rubberband_canvas = undefined;\n",
       "    this.rubberband_context = undefined;\n",
       "    this.format_dropdown = undefined;\n",
       "\n",
       "    this.image_mode = 'full';\n",
       "\n",
       "    this.root = $('<div/>');\n",
       "    this._root_extra_style(this.root)\n",
       "    this.root.attr('style', 'display: inline-block');\n",
       "\n",
       "    $(parent_element).append(this.root);\n",
       "\n",
       "    this._init_header(this);\n",
       "    this._init_canvas(this);\n",
       "    this._init_toolbar(this);\n",
       "\n",
       "    var fig = this;\n",
       "\n",
       "    this.waiting = false;\n",
       "\n",
       "    this.ws.onopen =  function () {\n",
       "            fig.send_message(\"supports_binary\", {value: fig.supports_binary});\n",
       "            fig.send_message(\"send_image_mode\", {});\n",
       "            if (mpl.ratio != 1) {\n",
       "                fig.send_message(\"set_dpi_ratio\", {'dpi_ratio': mpl.ratio});\n",
       "            }\n",
       "            fig.send_message(\"refresh\", {});\n",
       "        }\n",
       "\n",
       "    this.imageObj.onload = function() {\n",
       "            if (fig.image_mode == 'full') {\n",
       "                // Full images could contain transparency (where diff images\n",
       "                // almost always do), so we need to clear the canvas so that\n",
       "                // there is no ghosting.\n",
       "                fig.context.clearRect(0, 0, fig.canvas.width, fig.canvas.height);\n",
       "            }\n",
       "            fig.context.drawImage(fig.imageObj, 0, 0);\n",
       "        };\n",
       "\n",
       "    this.imageObj.onunload = function() {\n",
       "        fig.ws.close();\n",
       "    }\n",
       "\n",
       "    this.ws.onmessage = this._make_on_message_function(this);\n",
       "\n",
       "    this.ondownload = ondownload;\n",
       "}\n",
       "\n",
       "mpl.figure.prototype._init_header = function() {\n",
       "    var titlebar = $(\n",
       "        '<div class=\"ui-dialog-titlebar ui-widget-header ui-corner-all ' +\n",
       "        'ui-helper-clearfix\"/>');\n",
       "    var titletext = $(\n",
       "        '<div class=\"ui-dialog-title\" style=\"width: 100%; ' +\n",
       "        'text-align: center; padding: 3px;\"/>');\n",
       "    titlebar.append(titletext)\n",
       "    this.root.append(titlebar);\n",
       "    this.header = titletext[0];\n",
       "}\n",
       "\n",
       "\n",
       "\n",
       "mpl.figure.prototype._canvas_extra_style = function(canvas_div) {\n",
       "\n",
       "}\n",
       "\n",
       "\n",
       "mpl.figure.prototype._root_extra_style = function(canvas_div) {\n",
       "\n",
       "}\n",
       "\n",
       "mpl.figure.prototype._init_canvas = function() {\n",
       "    var fig = this;\n",
       "\n",
       "    var canvas_div = $('<div/>');\n",
       "\n",
       "    canvas_div.attr('style', 'position: relative; clear: both; outline: 0');\n",
       "\n",
       "    function canvas_keyboard_event(event) {\n",
       "        return fig.key_event(event, event['data']);\n",
       "    }\n",
       "\n",
       "    canvas_div.keydown('key_press', canvas_keyboard_event);\n",
       "    canvas_div.keyup('key_release', canvas_keyboard_event);\n",
       "    this.canvas_div = canvas_div\n",
       "    this._canvas_extra_style(canvas_div)\n",
       "    this.root.append(canvas_div);\n",
       "\n",
       "    var canvas = $('<canvas/>');\n",
       "    canvas.addClass('mpl-canvas');\n",
       "    canvas.attr('style', \"left: 0; top: 0; z-index: 0; outline: 0\")\n",
       "\n",
       "    this.canvas = canvas[0];\n",
       "    this.context = canvas[0].getContext(\"2d\");\n",
       "\n",
       "    var backingStore = this.context.backingStorePixelRatio ||\n",
       "\tthis.context.webkitBackingStorePixelRatio ||\n",
       "\tthis.context.mozBackingStorePixelRatio ||\n",
       "\tthis.context.msBackingStorePixelRatio ||\n",
       "\tthis.context.oBackingStorePixelRatio ||\n",
       "\tthis.context.backingStorePixelRatio || 1;\n",
       "\n",
       "    mpl.ratio = (window.devicePixelRatio || 1) / backingStore;\n",
       "\n",
       "    var rubberband = $('<canvas/>');\n",
       "    rubberband.attr('style', \"position: absolute; left: 0; top: 0; z-index: 1;\")\n",
       "\n",
       "    var pass_mouse_events = true;\n",
       "\n",
       "    canvas_div.resizable({\n",
       "        start: function(event, ui) {\n",
       "            pass_mouse_events = false;\n",
       "        },\n",
       "        resize: function(event, ui) {\n",
       "            fig.request_resize(ui.size.width, ui.size.height);\n",
       "        },\n",
       "        stop: function(event, ui) {\n",
       "            pass_mouse_events = true;\n",
       "            fig.request_resize(ui.size.width, ui.size.height);\n",
       "        },\n",
       "    });\n",
       "\n",
       "    function mouse_event_fn(event) {\n",
       "        if (pass_mouse_events)\n",
       "            return fig.mouse_event(event, event['data']);\n",
       "    }\n",
       "\n",
       "    rubberband.mousedown('button_press', mouse_event_fn);\n",
       "    rubberband.mouseup('button_release', mouse_event_fn);\n",
       "    // Throttle sequential mouse events to 1 every 20ms.\n",
       "    rubberband.mousemove('motion_notify', mouse_event_fn);\n",
       "\n",
       "    rubberband.mouseenter('figure_enter', mouse_event_fn);\n",
       "    rubberband.mouseleave('figure_leave', mouse_event_fn);\n",
       "\n",
       "    canvas_div.on(\"wheel\", function (event) {\n",
       "        event = event.originalEvent;\n",
       "        event['data'] = 'scroll'\n",
       "        if (event.deltaY < 0) {\n",
       "            event.step = 1;\n",
       "        } else {\n",
       "            event.step = -1;\n",
       "        }\n",
       "        mouse_event_fn(event);\n",
       "    });\n",
       "\n",
       "    canvas_div.append(canvas);\n",
       "    canvas_div.append(rubberband);\n",
       "\n",
       "    this.rubberband = rubberband;\n",
       "    this.rubberband_canvas = rubberband[0];\n",
       "    this.rubberband_context = rubberband[0].getContext(\"2d\");\n",
       "    this.rubberband_context.strokeStyle = \"#000000\";\n",
       "\n",
       "    this._resize_canvas = function(width, height) {\n",
       "        // Keep the size of the canvas, canvas container, and rubber band\n",
       "        // canvas in synch.\n",
       "        canvas_div.css('width', width)\n",
       "        canvas_div.css('height', height)\n",
       "\n",
       "        canvas.attr('width', width * mpl.ratio);\n",
       "        canvas.attr('height', height * mpl.ratio);\n",
       "        canvas.attr('style', 'width: ' + width + 'px; height: ' + height + 'px;');\n",
       "\n",
       "        rubberband.attr('width', width);\n",
       "        rubberband.attr('height', height);\n",
       "    }\n",
       "\n",
       "    // Set the figure to an initial 600x600px, this will subsequently be updated\n",
       "    // upon first draw.\n",
       "    this._resize_canvas(600, 600);\n",
       "\n",
       "    // Disable right mouse context menu.\n",
       "    $(this.rubberband_canvas).bind(\"contextmenu\",function(e){\n",
       "        return false;\n",
       "    });\n",
       "\n",
       "    function set_focus () {\n",
       "        canvas.focus();\n",
       "        canvas_div.focus();\n",
       "    }\n",
       "\n",
       "    window.setTimeout(set_focus, 100);\n",
       "}\n",
       "\n",
       "mpl.figure.prototype._init_toolbar = function() {\n",
       "    var fig = this;\n",
       "\n",
       "    var nav_element = $('<div/>');\n",
       "    nav_element.attr('style', 'width: 100%');\n",
       "    this.root.append(nav_element);\n",
       "\n",
       "    // Define a callback function for later on.\n",
       "    function toolbar_event(event) {\n",
       "        return fig.toolbar_button_onclick(event['data']);\n",
       "    }\n",
       "    function toolbar_mouse_event(event) {\n",
       "        return fig.toolbar_button_onmouseover(event['data']);\n",
       "    }\n",
       "\n",
       "    for(var toolbar_ind in mpl.toolbar_items) {\n",
       "        var name = mpl.toolbar_items[toolbar_ind][0];\n",
       "        var tooltip = mpl.toolbar_items[toolbar_ind][1];\n",
       "        var image = mpl.toolbar_items[toolbar_ind][2];\n",
       "        var method_name = mpl.toolbar_items[toolbar_ind][3];\n",
       "\n",
       "        if (!name) {\n",
       "            // put a spacer in here.\n",
       "            continue;\n",
       "        }\n",
       "        var button = $('<button/>');\n",
       "        button.addClass('ui-button ui-widget ui-state-default ui-corner-all ' +\n",
       "                        'ui-button-icon-only');\n",
       "        button.attr('role', 'button');\n",
       "        button.attr('aria-disabled', 'false');\n",
       "        button.click(method_name, toolbar_event);\n",
       "        button.mouseover(tooltip, toolbar_mouse_event);\n",
       "\n",
       "        var icon_img = $('<span/>');\n",
       "        icon_img.addClass('ui-button-icon-primary ui-icon');\n",
       "        icon_img.addClass(image);\n",
       "        icon_img.addClass('ui-corner-all');\n",
       "\n",
       "        var tooltip_span = $('<span/>');\n",
       "        tooltip_span.addClass('ui-button-text');\n",
       "        tooltip_span.html(tooltip);\n",
       "\n",
       "        button.append(icon_img);\n",
       "        button.append(tooltip_span);\n",
       "\n",
       "        nav_element.append(button);\n",
       "    }\n",
       "\n",
       "    var fmt_picker_span = $('<span/>');\n",
       "\n",
       "    var fmt_picker = $('<select/>');\n",
       "    fmt_picker.addClass('mpl-toolbar-option ui-widget ui-widget-content');\n",
       "    fmt_picker_span.append(fmt_picker);\n",
       "    nav_element.append(fmt_picker_span);\n",
       "    this.format_dropdown = fmt_picker[0];\n",
       "\n",
       "    for (var ind in mpl.extensions) {\n",
       "        var fmt = mpl.extensions[ind];\n",
       "        var option = $(\n",
       "            '<option/>', {selected: fmt === mpl.default_extension}).html(fmt);\n",
       "        fmt_picker.append(option);\n",
       "    }\n",
       "\n",
       "    // Add hover states to the ui-buttons\n",
       "    $( \".ui-button\" ).hover(\n",
       "        function() { $(this).addClass(\"ui-state-hover\");},\n",
       "        function() { $(this).removeClass(\"ui-state-hover\");}\n",
       "    );\n",
       "\n",
       "    var status_bar = $('<span class=\"mpl-message\"/>');\n",
       "    nav_element.append(status_bar);\n",
       "    this.message = status_bar[0];\n",
       "}\n",
       "\n",
       "mpl.figure.prototype.request_resize = function(x_pixels, y_pixels) {\n",
       "    // Request matplotlib to resize the figure. Matplotlib will then trigger a resize in the client,\n",
       "    // which will in turn request a refresh of the image.\n",
       "    this.send_message('resize', {'width': x_pixels, 'height': y_pixels});\n",
       "}\n",
       "\n",
       "mpl.figure.prototype.send_message = function(type, properties) {\n",
       "    properties['type'] = type;\n",
       "    properties['figure_id'] = this.id;\n",
       "    this.ws.send(JSON.stringify(properties));\n",
       "}\n",
       "\n",
       "mpl.figure.prototype.send_draw_message = function() {\n",
       "    if (!this.waiting) {\n",
       "        this.waiting = true;\n",
       "        this.ws.send(JSON.stringify({type: \"draw\", figure_id: this.id}));\n",
       "    }\n",
       "}\n",
       "\n",
       "\n",
       "mpl.figure.prototype.handle_save = function(fig, msg) {\n",
       "    var format_dropdown = fig.format_dropdown;\n",
       "    var format = format_dropdown.options[format_dropdown.selectedIndex].value;\n",
       "    fig.ondownload(fig, format);\n",
       "}\n",
       "\n",
       "\n",
       "mpl.figure.prototype.handle_resize = function(fig, msg) {\n",
       "    var size = msg['size'];\n",
       "    if (size[0] != fig.canvas.width || size[1] != fig.canvas.height) {\n",
       "        fig._resize_canvas(size[0], size[1]);\n",
       "        fig.send_message(\"refresh\", {});\n",
       "    };\n",
       "}\n",
       "\n",
       "mpl.figure.prototype.handle_rubberband = function(fig, msg) {\n",
       "    var x0 = msg['x0'] / mpl.ratio;\n",
       "    var y0 = (fig.canvas.height - msg['y0']) / mpl.ratio;\n",
       "    var x1 = msg['x1'] / mpl.ratio;\n",
       "    var y1 = (fig.canvas.height - msg['y1']) / mpl.ratio;\n",
       "    x0 = Math.floor(x0) + 0.5;\n",
       "    y0 = Math.floor(y0) + 0.5;\n",
       "    x1 = Math.floor(x1) + 0.5;\n",
       "    y1 = Math.floor(y1) + 0.5;\n",
       "    var min_x = Math.min(x0, x1);\n",
       "    var min_y = Math.min(y0, y1);\n",
       "    var width = Math.abs(x1 - x0);\n",
       "    var height = Math.abs(y1 - y0);\n",
       "\n",
       "    fig.rubberband_context.clearRect(\n",
       "        0, 0, fig.canvas.width / mpl.ratio, fig.canvas.height / mpl.ratio);\n",
       "\n",
       "    fig.rubberband_context.strokeRect(min_x, min_y, width, height);\n",
       "}\n",
       "\n",
       "mpl.figure.prototype.handle_figure_label = function(fig, msg) {\n",
       "    // Updates the figure title.\n",
       "    fig.header.textContent = msg['label'];\n",
       "}\n",
       "\n",
       "mpl.figure.prototype.handle_cursor = function(fig, msg) {\n",
       "    var cursor = msg['cursor'];\n",
       "    switch(cursor)\n",
       "    {\n",
       "    case 0:\n",
       "        cursor = 'pointer';\n",
       "        break;\n",
       "    case 1:\n",
       "        cursor = 'default';\n",
       "        break;\n",
       "    case 2:\n",
       "        cursor = 'crosshair';\n",
       "        break;\n",
       "    case 3:\n",
       "        cursor = 'move';\n",
       "        break;\n",
       "    }\n",
       "    fig.rubberband_canvas.style.cursor = cursor;\n",
       "}\n",
       "\n",
       "mpl.figure.prototype.handle_message = function(fig, msg) {\n",
       "    fig.message.textContent = msg['message'];\n",
       "}\n",
       "\n",
       "mpl.figure.prototype.handle_draw = function(fig, msg) {\n",
       "    // Request the server to send over a new figure.\n",
       "    fig.send_draw_message();\n",
       "}\n",
       "\n",
       "mpl.figure.prototype.handle_image_mode = function(fig, msg) {\n",
       "    fig.image_mode = msg['mode'];\n",
       "}\n",
       "\n",
       "mpl.figure.prototype.updated_canvas_event = function() {\n",
       "    // Called whenever the canvas gets updated.\n",
       "    this.send_message(\"ack\", {});\n",
       "}\n",
       "\n",
       "// A function to construct a web socket function for onmessage handling.\n",
       "// Called in the figure constructor.\n",
       "mpl.figure.prototype._make_on_message_function = function(fig) {\n",
       "    return function socket_on_message(evt) {\n",
       "        if (evt.data instanceof Blob) {\n",
       "            /* FIXME: We get \"Resource interpreted as Image but\n",
       "             * transferred with MIME type text/plain:\" errors on\n",
       "             * Chrome.  But how to set the MIME type?  It doesn't seem\n",
       "             * to be part of the websocket stream */\n",
       "            evt.data.type = \"image/png\";\n",
       "\n",
       "            /* Free the memory for the previous frames */\n",
       "            if (fig.imageObj.src) {\n",
       "                (window.URL || window.webkitURL).revokeObjectURL(\n",
       "                    fig.imageObj.src);\n",
       "            }\n",
       "\n",
       "            fig.imageObj.src = (window.URL || window.webkitURL).createObjectURL(\n",
       "                evt.data);\n",
       "            fig.updated_canvas_event();\n",
       "            fig.waiting = false;\n",
       "            return;\n",
       "        }\n",
       "        else if (typeof evt.data === 'string' && evt.data.slice(0, 21) == \"data:image/png;base64\") {\n",
       "            fig.imageObj.src = evt.data;\n",
       "            fig.updated_canvas_event();\n",
       "            fig.waiting = false;\n",
       "            return;\n",
       "        }\n",
       "\n",
       "        var msg = JSON.parse(evt.data);\n",
       "        var msg_type = msg['type'];\n",
       "\n",
       "        // Call the  \"handle_{type}\" callback, which takes\n",
       "        // the figure and JSON message as its only arguments.\n",
       "        try {\n",
       "            var callback = fig[\"handle_\" + msg_type];\n",
       "        } catch (e) {\n",
       "            console.log(\"No handler for the '\" + msg_type + \"' message type: \", msg);\n",
       "            return;\n",
       "        }\n",
       "\n",
       "        if (callback) {\n",
       "            try {\n",
       "                // console.log(\"Handling '\" + msg_type + \"' message: \", msg);\n",
       "                callback(fig, msg);\n",
       "            } catch (e) {\n",
       "                console.log(\"Exception inside the 'handler_\" + msg_type + \"' callback:\", e, e.stack, msg);\n",
       "            }\n",
       "        }\n",
       "    };\n",
       "}\n",
       "\n",
       "// from http://stackoverflow.com/questions/1114465/getting-mouse-location-in-canvas\n",
       "mpl.findpos = function(e) {\n",
       "    //this section is from http://www.quirksmode.org/js/events_properties.html\n",
       "    var targ;\n",
       "    if (!e)\n",
       "        e = window.event;\n",
       "    if (e.target)\n",
       "        targ = e.target;\n",
       "    else if (e.srcElement)\n",
       "        targ = e.srcElement;\n",
       "    if (targ.nodeType == 3) // defeat Safari bug\n",
       "        targ = targ.parentNode;\n",
       "\n",
       "    // jQuery normalizes the pageX and pageY\n",
       "    // pageX,Y are the mouse positions relative to the document\n",
       "    // offset() returns the position of the element relative to the document\n",
       "    var x = e.pageX - $(targ).offset().left;\n",
       "    var y = e.pageY - $(targ).offset().top;\n",
       "\n",
       "    return {\"x\": x, \"y\": y};\n",
       "};\n",
       "\n",
       "/*\n",
       " * return a copy of an object with only non-object keys\n",
       " * we need this to avoid circular references\n",
       " * http://stackoverflow.com/a/24161582/3208463\n",
       " */\n",
       "function simpleKeys (original) {\n",
       "  return Object.keys(original).reduce(function (obj, key) {\n",
       "    if (typeof original[key] !== 'object')\n",
       "        obj[key] = original[key]\n",
       "    return obj;\n",
       "  }, {});\n",
       "}\n",
       "\n",
       "mpl.figure.prototype.mouse_event = function(event, name) {\n",
       "    var canvas_pos = mpl.findpos(event)\n",
       "\n",
       "    if (name === 'button_press')\n",
       "    {\n",
       "        this.canvas.focus();\n",
       "        this.canvas_div.focus();\n",
       "    }\n",
       "\n",
       "    var x = canvas_pos.x * mpl.ratio;\n",
       "    var y = canvas_pos.y * mpl.ratio;\n",
       "\n",
       "    this.send_message(name, {x: x, y: y, button: event.button,\n",
       "                             step: event.step,\n",
       "                             guiEvent: simpleKeys(event)});\n",
       "\n",
       "    /* This prevents the web browser from automatically changing to\n",
       "     * the text insertion cursor when the button is pressed.  We want\n",
       "     * to control all of the cursor setting manually through the\n",
       "     * 'cursor' event from matplotlib */\n",
       "    event.preventDefault();\n",
       "    return false;\n",
       "}\n",
       "\n",
       "mpl.figure.prototype._key_event_extra = function(event, name) {\n",
       "    // Handle any extra behaviour associated with a key event\n",
       "}\n",
       "\n",
       "mpl.figure.prototype.key_event = function(event, name) {\n",
       "\n",
       "    // Prevent repeat events\n",
       "    if (name == 'key_press')\n",
       "    {\n",
       "        if (event.which === this._key)\n",
       "            return;\n",
       "        else\n",
       "            this._key = event.which;\n",
       "    }\n",
       "    if (name == 'key_release')\n",
       "        this._key = null;\n",
       "\n",
       "    var value = '';\n",
       "    if (event.ctrlKey && event.which != 17)\n",
       "        value += \"ctrl+\";\n",
       "    if (event.altKey && event.which != 18)\n",
       "        value += \"alt+\";\n",
       "    if (event.shiftKey && event.which != 16)\n",
       "        value += \"shift+\";\n",
       "\n",
       "    value += 'k';\n",
       "    value += event.which.toString();\n",
       "\n",
       "    this._key_event_extra(event, name);\n",
       "\n",
       "    this.send_message(name, {key: value,\n",
       "                             guiEvent: simpleKeys(event)});\n",
       "    return false;\n",
       "}\n",
       "\n",
       "mpl.figure.prototype.toolbar_button_onclick = function(name) {\n",
       "    if (name == 'download') {\n",
       "        this.handle_save(this, null);\n",
       "    } else {\n",
       "        this.send_message(\"toolbar_button\", {name: name});\n",
       "    }\n",
       "};\n",
       "\n",
       "mpl.figure.prototype.toolbar_button_onmouseover = function(tooltip) {\n",
       "    this.message.textContent = tooltip;\n",
       "};\n",
       "mpl.toolbar_items = [[\"Home\", \"Reset original view\", \"fa fa-home icon-home\", \"home\"], [\"Back\", \"Back to previous view\", \"fa fa-arrow-left icon-arrow-left\", \"back\"], [\"Forward\", \"Forward to next view\", \"fa fa-arrow-right icon-arrow-right\", \"forward\"], [\"\", \"\", \"\", \"\"], [\"Pan\", \"Pan axes with left mouse, zoom with right\", \"fa fa-arrows icon-move\", \"pan\"], [\"Zoom\", \"Zoom to rectangle\", \"fa fa-square-o icon-check-empty\", \"zoom\"], [\"\", \"\", \"\", \"\"], [\"Download\", \"Download plot\", \"fa fa-floppy-o icon-save\", \"download\"]];\n",
       "\n",
       "mpl.extensions = [\"eps\", \"jpeg\", \"pdf\", \"png\", \"ps\", \"raw\", \"svg\", \"tif\"];\n",
       "\n",
       "mpl.default_extension = \"png\";var comm_websocket_adapter = function(comm) {\n",
       "    // Create a \"websocket\"-like object which calls the given IPython comm\n",
       "    // object with the appropriate methods. Currently this is a non binary\n",
       "    // socket, so there is still some room for performance tuning.\n",
       "    var ws = {};\n",
       "\n",
       "    ws.close = function() {\n",
       "        comm.close()\n",
       "    };\n",
       "    ws.send = function(m) {\n",
       "        //console.log('sending', m);\n",
       "        comm.send(m);\n",
       "    };\n",
       "    // Register the callback with on_msg.\n",
       "    comm.on_msg(function(msg) {\n",
       "        //console.log('receiving', msg['content']['data'], msg);\n",
       "        // Pass the mpl event to the overridden (by mpl) onmessage function.\n",
       "        ws.onmessage(msg['content']['data'])\n",
       "    });\n",
       "    return ws;\n",
       "}\n",
       "\n",
       "mpl.mpl_figure_comm = function(comm, msg) {\n",
       "    // This is the function which gets called when the mpl process\n",
       "    // starts-up an IPython Comm through the \"matplotlib\" channel.\n",
       "\n",
       "    var id = msg.content.data.id;\n",
       "    // Get hold of the div created by the display call when the Comm\n",
       "    // socket was opened in Python.\n",
       "    var element = $(\"#\" + id);\n",
       "    var ws_proxy = comm_websocket_adapter(comm)\n",
       "\n",
       "    function ondownload(figure, format) {\n",
       "        window.open(figure.imageObj.src);\n",
       "    }\n",
       "\n",
       "    var fig = new mpl.figure(id, ws_proxy,\n",
       "                           ondownload,\n",
       "                           element.get(0));\n",
       "\n",
       "    // Call onopen now - mpl needs it, as it is assuming we've passed it a real\n",
       "    // web socket which is closed, not our websocket->open comm proxy.\n",
       "    ws_proxy.onopen();\n",
       "\n",
       "    fig.parent_element = element.get(0);\n",
       "    fig.cell_info = mpl.find_output_cell(\"<div id='\" + id + \"'></div>\");\n",
       "    if (!fig.cell_info) {\n",
       "        console.error(\"Failed to find cell for figure\", id, fig);\n",
       "        return;\n",
       "    }\n",
       "\n",
       "    var output_index = fig.cell_info[2]\n",
       "    var cell = fig.cell_info[0];\n",
       "\n",
       "};\n",
       "\n",
       "mpl.figure.prototype.handle_close = function(fig, msg) {\n",
       "    var width = fig.canvas.width/mpl.ratio\n",
       "    fig.root.unbind('remove')\n",
       "\n",
       "    // Update the output cell to use the data from the current canvas.\n",
       "    fig.push_to_output();\n",
       "    var dataURL = fig.canvas.toDataURL();\n",
       "    // Re-enable the keyboard manager in IPython - without this line, in FF,\n",
       "    // the notebook keyboard shortcuts fail.\n",
       "    IPython.keyboard_manager.enable()\n",
       "    $(fig.parent_element).html('<img src=\"' + dataURL + '\" width=\"' + width + '\">');\n",
       "    fig.close_ws(fig, msg);\n",
       "}\n",
       "\n",
       "mpl.figure.prototype.close_ws = function(fig, msg){\n",
       "    fig.send_message('closing', msg);\n",
       "    // fig.ws.close()\n",
       "}\n",
       "\n",
       "mpl.figure.prototype.push_to_output = function(remove_interactive) {\n",
       "    // Turn the data on the canvas into data in the output cell.\n",
       "    var width = this.canvas.width/mpl.ratio\n",
       "    var dataURL = this.canvas.toDataURL();\n",
       "    this.cell_info[1]['text/html'] = '<img src=\"' + dataURL + '\" width=\"' + width + '\">';\n",
       "}\n",
       "\n",
       "mpl.figure.prototype.updated_canvas_event = function() {\n",
       "    // Tell IPython that the notebook contents must change.\n",
       "    IPython.notebook.set_dirty(true);\n",
       "    this.send_message(\"ack\", {});\n",
       "    var fig = this;\n",
       "    // Wait a second, then push the new image to the DOM so\n",
       "    // that it is saved nicely (might be nice to debounce this).\n",
       "    setTimeout(function () { fig.push_to_output() }, 1000);\n",
       "}\n",
       "\n",
       "mpl.figure.prototype._init_toolbar = function() {\n",
       "    var fig = this;\n",
       "\n",
       "    var nav_element = $('<div/>');\n",
       "    nav_element.attr('style', 'width: 100%');\n",
       "    this.root.append(nav_element);\n",
       "\n",
       "    // Define a callback function for later on.\n",
       "    function toolbar_event(event) {\n",
       "        return fig.toolbar_button_onclick(event['data']);\n",
       "    }\n",
       "    function toolbar_mouse_event(event) {\n",
       "        return fig.toolbar_button_onmouseover(event['data']);\n",
       "    }\n",
       "\n",
       "    for(var toolbar_ind in mpl.toolbar_items){\n",
       "        var name = mpl.toolbar_items[toolbar_ind][0];\n",
       "        var tooltip = mpl.toolbar_items[toolbar_ind][1];\n",
       "        var image = mpl.toolbar_items[toolbar_ind][2];\n",
       "        var method_name = mpl.toolbar_items[toolbar_ind][3];\n",
       "\n",
       "        if (!name) { continue; };\n",
       "\n",
       "        var button = $('<button class=\"btn btn-default\" href=\"#\" title=\"' + name + '\"><i class=\"fa ' + image + ' fa-lg\"></i></button>');\n",
       "        button.click(method_name, toolbar_event);\n",
       "        button.mouseover(tooltip, toolbar_mouse_event);\n",
       "        nav_element.append(button);\n",
       "    }\n",
       "\n",
       "    // Add the status bar.\n",
       "    var status_bar = $('<span class=\"mpl-message\" style=\"text-align:right; float: right;\"/>');\n",
       "    nav_element.append(status_bar);\n",
       "    this.message = status_bar[0];\n",
       "\n",
       "    // Add the close button to the window.\n",
       "    var buttongrp = $('<div class=\"btn-group inline pull-right\"></div>');\n",
       "    var button = $('<button class=\"btn btn-mini btn-primary\" href=\"#\" title=\"Stop Interaction\"><i class=\"fa fa-power-off icon-remove icon-large\"></i></button>');\n",
       "    button.click(function (evt) { fig.handle_close(fig, {}); } );\n",
       "    button.mouseover('Stop Interaction', toolbar_mouse_event);\n",
       "    buttongrp.append(button);\n",
       "    var titlebar = this.root.find($('.ui-dialog-titlebar'));\n",
       "    titlebar.prepend(buttongrp);\n",
       "}\n",
       "\n",
       "mpl.figure.prototype._root_extra_style = function(el){\n",
       "    var fig = this\n",
       "    el.on(\"remove\", function(){\n",
       "\tfig.close_ws(fig, {});\n",
       "    });\n",
       "}\n",
       "\n",
       "mpl.figure.prototype._canvas_extra_style = function(el){\n",
       "    // this is important to make the div 'focusable\n",
       "    el.attr('tabindex', 0)\n",
       "    // reach out to IPython and tell the keyboard manager to turn it's self\n",
       "    // off when our div gets focus\n",
       "\n",
       "    // location in version 3\n",
       "    if (IPython.notebook.keyboard_manager) {\n",
       "        IPython.notebook.keyboard_manager.register_events(el);\n",
       "    }\n",
       "    else {\n",
       "        // location in version 2\n",
       "        IPython.keyboard_manager.register_events(el);\n",
       "    }\n",
       "\n",
       "}\n",
       "\n",
       "mpl.figure.prototype._key_event_extra = function(event, name) {\n",
       "    var manager = IPython.notebook.keyboard_manager;\n",
       "    if (!manager)\n",
       "        manager = IPython.keyboard_manager;\n",
       "\n",
       "    // Check for shift+enter\n",
       "    if (event.shiftKey && event.which == 13) {\n",
       "        this.canvas_div.blur();\n",
       "        // select the cell after this one\n",
       "        var index = IPython.notebook.find_cell_index(this.cell_info[0]);\n",
       "        IPython.notebook.select(index + 1);\n",
       "    }\n",
       "}\n",
       "\n",
       "mpl.figure.prototype.handle_save = function(fig, msg) {\n",
       "    fig.ondownload(fig, null);\n",
       "}\n",
       "\n",
       "\n",
       "mpl.find_output_cell = function(html_output) {\n",
       "    // Return the cell and output element which can be found *uniquely* in the notebook.\n",
       "    // Note - this is a bit hacky, but it is done because the \"notebook_saving.Notebook\"\n",
       "    // IPython event is triggered only after the cells have been serialised, which for\n",
       "    // our purposes (turning an active figure into a static one), is too late.\n",
       "    var cells = IPython.notebook.get_cells();\n",
       "    var ncells = cells.length;\n",
       "    for (var i=0; i<ncells; i++) {\n",
       "        var cell = cells[i];\n",
       "        if (cell.cell_type === 'code'){\n",
       "            for (var j=0; j<cell.output_area.outputs.length; j++) {\n",
       "                var data = cell.output_area.outputs[j];\n",
       "                if (data.data) {\n",
       "                    // IPython >= 3 moved mimebundle to data attribute of output\n",
       "                    data = data.data;\n",
       "                }\n",
       "                if (data['text/html'] == html_output) {\n",
       "                    return [cell, data, j];\n",
       "                }\n",
       "            }\n",
       "        }\n",
       "    }\n",
       "}\n",
       "\n",
       "// Register the function which deals with the matplotlib target/channel.\n",
       "// The kernel may be null if the page has been refreshed.\n",
       "if (IPython.notebook.kernel != null) {\n",
       "    IPython.notebook.kernel.comm_manager.register_target('matplotlib', mpl.mpl_figure_comm);\n",
       "}\n"
      ],
      "text/plain": [
       "<IPython.core.display.Javascript object>"
      ]
     },
     "metadata": {},
     "output_type": "display_data"
    },
    {
     "data": {
      "text/html": [
       "<img src=\"data:image/png;base64,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\" width=\"1000\">"
      ],
      "text/plain": [
       "<IPython.core.display.HTML object>"
      ]
     },
     "metadata": {},
     "output_type": "display_data"
    }
   ],
   "source": [
    "ax, tax, lax, lines = dual_train_plots()\n",
    "fig = ax.figure\n",
    "plt.tight_layout()"
   ]
  },
  {
   "cell_type": "code",
   "execution_count": 18,
   "metadata": {
    "scrolled": false
   },
   "outputs": [
    {
     "name": "stdout",
     "output_type": "stream",
     "text": [
      "Number of batches: train = 5000, val = 313\n"
     ]
    },
    {
     "data": {
      "application/vnd.jupyter.widget-view+json": {
       "model_id": "9b5d51ef117e41d9a78088e09069a6fe",
       "version_major": 2,
       "version_minor": 0
      },
      "text/plain": [
       "HBox(children=(FloatProgress(value=0.0, description='Epochs', layout=Layout(flex='2'), max=525.0, style=Progre…"
      ]
     },
     "metadata": {},
     "output_type": "display_data"
    },
    {
     "name": "stdout",
     "output_type": "stream",
     "text": [
      "Number of batches: train = 5000, val = 313\n"
     ]
    },
    {
     "data": {
      "application/vnd.jupyter.widget-view+json": {
       "model_id": "",
       "version_major": 2,
       "version_minor": 0
      },
      "text/plain": [
       "HBox(children=(FloatProgress(value=0.0, description='Training', layout=Layout(flex='2'), max=5000.0, style=Pro…"
      ]
     },
     "metadata": {},
     "output_type": "display_data"
    },
    {
     "name": "stdout",
     "output_type": "stream",
     "text": [
      "Epoch 0: train=3.40461, val=3.1692, took 165.69 s\n"
     ]
    },
    {
     "data": {
      "application/vnd.jupyter.widget-view+json": {
       "model_id": "",
       "version_major": 2,
       "version_minor": 0
      },
      "text/plain": [
       "HBox(children=(FloatProgress(value=0.0, description='Training', layout=Layout(flex='2'), max=5000.0, style=Pro…"
      ]
     },
     "metadata": {},
     "output_type": "display_data"
    },
    {
     "name": "stdout",
     "output_type": "stream",
     "text": [
      "Epoch 1: train=3.39897, val=3.25033, took 159.89 s\n"
     ]
    },
    {
     "data": {
      "application/vnd.jupyter.widget-view+json": {
       "model_id": "",
       "version_major": 2,
       "version_minor": 0
      },
      "text/plain": [
       "HBox(children=(FloatProgress(value=0.0, description='Training', layout=Layout(flex='2'), max=5000.0, style=Pro…"
      ]
     },
     "metadata": {},
     "output_type": "display_data"
    },
    {
     "name": "stdout",
     "output_type": "stream",
     "text": [
      "Epoch 2: train=3.3997, val=3.29879, took 164.09 s\n"
     ]
    },
    {
     "data": {
      "application/vnd.jupyter.widget-view+json": {
       "model_id": "",
       "version_major": 2,
       "version_minor": 0
      },
      "text/plain": [
       "HBox(children=(FloatProgress(value=0.0, description='Training', layout=Layout(flex='2'), max=5000.0, style=Pro…"
      ]
     },
     "metadata": {},
     "output_type": "display_data"
    },
    {
     "name": "stdout",
     "output_type": "stream",
     "text": [
      "Epoch 3: train=3.39854, val=3.19507, took 161.16 s\n"
     ]
    },
    {
     "data": {
      "application/vnd.jupyter.widget-view+json": {
       "model_id": "",
       "version_major": 2,
       "version_minor": 0
      },
      "text/plain": [
       "HBox(children=(FloatProgress(value=0.0, description='Training', layout=Layout(flex='2'), max=5000.0, style=Pro…"
      ]
     },
     "metadata": {},
     "output_type": "display_data"
    },
    {
     "name": "stdout",
     "output_type": "stream",
     "text": [
      "Epoch 4: train=3.40026, val=3.19178, took 160.6 s\n"
     ]
    },
    {
     "data": {
      "application/vnd.jupyter.widget-view+json": {
       "model_id": "",
       "version_major": 2,
       "version_minor": 0
      },
      "text/plain": [
       "HBox(children=(FloatProgress(value=0.0, description='Training', layout=Layout(flex='2'), max=5000.0, style=Pro…"
      ]
     },
     "metadata": {},
     "output_type": "display_data"
    },
    {
     "name": "stdout",
     "output_type": "stream",
     "text": [
      "Epoch 5: train=3.39736, val=3.226, took 161.34 s\n"
     ]
    },
    {
     "data": {
      "application/vnd.jupyter.widget-view+json": {
       "model_id": "",
       "version_major": 2,
       "version_minor": 0
      },
      "text/plain": [
       "HBox(children=(FloatProgress(value=0.0, description='Training', layout=Layout(flex='2'), max=5000.0, style=Pro…"
      ]
     },
     "metadata": {},
     "output_type": "display_data"
    },
    {
     "name": "stdout",
     "output_type": "stream",
     "text": [
      "Epoch 6: train=3.39563, val=3.17089, took 161.22 s\n"
     ]
    },
    {
     "data": {
      "application/vnd.jupyter.widget-view+json": {
       "model_id": "",
       "version_major": 2,
       "version_minor": 0
      },
      "text/plain": [
       "HBox(children=(FloatProgress(value=0.0, description='Training', layout=Layout(flex='2'), max=5000.0, style=Pro…"
      ]
     },
     "metadata": {},
     "output_type": "display_data"
    },
    {
     "name": "stdout",
     "output_type": "stream",
     "text": [
      "Epoch 7: train=3.39841, val=3.17553, took 160.62 s\n"
     ]
    },
    {
     "data": {
      "application/vnd.jupyter.widget-view+json": {
       "model_id": "",
       "version_major": 2,
       "version_minor": 0
      },
      "text/plain": [
       "HBox(children=(FloatProgress(value=0.0, description='Training', layout=Layout(flex='2'), max=5000.0, style=Pro…"
      ]
     },
     "metadata": {},
     "output_type": "display_data"
    },
    {
     "name": "stdout",
     "output_type": "stream",
     "text": [
      "Epoch 8: train=3.39428, val=3.17968, took 161.29 s\n"
     ]
    },
    {
     "data": {
      "application/vnd.jupyter.widget-view+json": {
       "model_id": "",
       "version_major": 2,
       "version_minor": 0
      },
      "text/plain": [
       "HBox(children=(FloatProgress(value=0.0, description='Training', layout=Layout(flex='2'), max=5000.0, style=Pro…"
      ]
     },
     "metadata": {},
     "output_type": "display_data"
    },
    {
     "name": "stdout",
     "output_type": "stream",
     "text": [
      "Epoch 9: train=3.39651, val=3.21968, took 160.72 s\n"
     ]
    },
    {
     "data": {
      "application/vnd.jupyter.widget-view+json": {
       "model_id": "",
       "version_major": 2,
       "version_minor": 0
      },
      "text/plain": [
       "HBox(children=(FloatProgress(value=0.0, description='Training', layout=Layout(flex='2'), max=5000.0, style=Pro…"
      ]
     },
     "metadata": {},
     "output_type": "display_data"
    },
    {
     "name": "stdout",
     "output_type": "stream",
     "text": [
      "Epoch 10: train=3.39772, val=3.31255, took 159.97 s\n"
     ]
    },
    {
     "data": {
      "application/vnd.jupyter.widget-view+json": {
       "model_id": "",
       "version_major": 2,
       "version_minor": 0
      },
      "text/plain": [
       "HBox(children=(FloatProgress(value=0.0, description='Training', layout=Layout(flex='2'), max=5000.0, style=Pro…"
      ]
     },
     "metadata": {},
     "output_type": "display_data"
    },
    {
     "name": "stdout",
     "output_type": "stream",
     "text": [
      "Epoch 11: train=3.39552, val=3.17244, took 160.2 s\n"
     ]
    },
    {
     "data": {
      "application/vnd.jupyter.widget-view+json": {
       "model_id": "",
       "version_major": 2,
       "version_minor": 0
      },
      "text/plain": [
       "HBox(children=(FloatProgress(value=0.0, description='Training', layout=Layout(flex='2'), max=5000.0, style=Pro…"
      ]
     },
     "metadata": {},
     "output_type": "display_data"
    },
    {
     "name": "stdout",
     "output_type": "stream",
     "text": [
      "Epoch 12: train=3.39279, val=3.17172, took 160.6 s\n"
     ]
    },
    {
     "data": {
      "application/vnd.jupyter.widget-view+json": {
       "model_id": "",
       "version_major": 2,
       "version_minor": 0
      },
      "text/plain": [
       "HBox(children=(FloatProgress(value=0.0, description='Training', layout=Layout(flex='2'), max=5000.0, style=Pro…"
      ]
     },
     "metadata": {},
     "output_type": "display_data"
    },
    {
     "name": "stdout",
     "output_type": "stream",
     "text": [
      "Epoch 13: train=3.39723, val=3.20001, took 159.87 s\n"
     ]
    },
    {
     "data": {
      "application/vnd.jupyter.widget-view+json": {
       "model_id": "",
       "version_major": 2,
       "version_minor": 0
      },
      "text/plain": [
       "HBox(children=(FloatProgress(value=0.0, description='Training', layout=Layout(flex='2'), max=5000.0, style=Pro…"
      ]
     },
     "metadata": {},
     "output_type": "display_data"
    },
    {
     "name": "stdout",
     "output_type": "stream",
     "text": [
      "Epoch 14: train=3.39698, val=3.16281, took 161.5 s\n"
     ]
    },
    {
     "data": {
      "application/vnd.jupyter.widget-view+json": {
       "model_id": "",
       "version_major": 2,
       "version_minor": 0
      },
      "text/plain": [
       "HBox(children=(FloatProgress(value=0.0, description='Training', layout=Layout(flex='2'), max=5000.0, style=Pro…"
      ]
     },
     "metadata": {},
     "output_type": "display_data"
    },
    {
     "name": "stdout",
     "output_type": "stream",
     "text": [
      "Epoch 15: train=3.39431, val=3.18473, took 159.17 s\n"
     ]
    },
    {
     "data": {
      "application/vnd.jupyter.widget-view+json": {
       "model_id": "",
       "version_major": 2,
       "version_minor": 0
      },
      "text/plain": [
       "HBox(children=(FloatProgress(value=0.0, description='Training', layout=Layout(flex='2'), max=5000.0, style=Pro…"
      ]
     },
     "metadata": {},
     "output_type": "display_data"
    },
    {
     "name": "stdout",
     "output_type": "stream",
     "text": [
      "Epoch 16: train=3.38949, val=3.32027, took 160.2 s\n"
     ]
    },
    {
     "data": {
      "application/vnd.jupyter.widget-view+json": {
       "model_id": "",
       "version_major": 2,
       "version_minor": 0
      },
      "text/plain": [
       "HBox(children=(FloatProgress(value=0.0, description='Training', layout=Layout(flex='2'), max=5000.0, style=Pro…"
      ]
     },
     "metadata": {},
     "output_type": "display_data"
    },
    {
     "name": "stdout",
     "output_type": "stream",
     "text": [
      "Epoch 17: train=3.39176, val=3.17592, took 160.8 s\n"
     ]
    },
    {
     "data": {
      "application/vnd.jupyter.widget-view+json": {
       "model_id": "",
       "version_major": 2,
       "version_minor": 0
      },
      "text/plain": [
       "HBox(children=(FloatProgress(value=0.0, description='Training', layout=Layout(flex='2'), max=5000.0, style=Pro…"
      ]
     },
     "metadata": {},
     "output_type": "display_data"
    },
    {
     "name": "stdout",
     "output_type": "stream",
     "text": [
      "Epoch 18: train=3.39131, val=3.23983, took 160.48 s\n"
     ]
    },
    {
     "data": {
      "application/vnd.jupyter.widget-view+json": {
       "model_id": "",
       "version_major": 2,
       "version_minor": 0
      },
      "text/plain": [
       "HBox(children=(FloatProgress(value=0.0, description='Training', layout=Layout(flex='2'), max=5000.0, style=Pro…"
      ]
     },
     "metadata": {},
     "output_type": "display_data"
    },
    {
     "name": "stdout",
     "output_type": "stream",
     "text": [
      "Epoch 19: train=3.39189, val=3.17916, took 160.48 s\n"
     ]
    },
    {
     "data": {
      "application/vnd.jupyter.widget-view+json": {
       "model_id": "",
       "version_major": 2,
       "version_minor": 0
      },
      "text/plain": [
       "HBox(children=(FloatProgress(value=0.0, description='Training', layout=Layout(flex='2'), max=5000.0, style=Pro…"
      ]
     },
     "metadata": {},
     "output_type": "display_data"
    },
    {
     "name": "stdout",
     "output_type": "stream",
     "text": [
      "Epoch 20: train=3.3935, val=3.21293, took 160.25 s\n"
     ]
    },
    {
     "data": {
      "application/vnd.jupyter.widget-view+json": {
       "model_id": "",
       "version_major": 2,
       "version_minor": 0
      },
      "text/plain": [
       "HBox(children=(FloatProgress(value=0.0, description='Training', layout=Layout(flex='2'), max=5000.0, style=Pro…"
      ]
     },
     "metadata": {},
     "output_type": "display_data"
    },
    {
     "name": "stdout",
     "output_type": "stream",
     "text": [
      "Epoch 21: train=3.39463, val=3.25205, took 160.5 s\n"
     ]
    },
    {
     "data": {
      "application/vnd.jupyter.widget-view+json": {
       "model_id": "",
       "version_major": 2,
       "version_minor": 0
      },
      "text/plain": [
       "HBox(children=(FloatProgress(value=0.0, description='Training', layout=Layout(flex='2'), max=5000.0, style=Pro…"
      ]
     },
     "metadata": {},
     "output_type": "display_data"
    },
    {
     "name": "stdout",
     "output_type": "stream",
     "text": [
      "Epoch 22: train=3.38906, val=3.23401, took 160.06 s\n"
     ]
    },
    {
     "data": {
      "application/vnd.jupyter.widget-view+json": {
       "model_id": "",
       "version_major": 2,
       "version_minor": 0
      },
      "text/plain": [
       "HBox(children=(FloatProgress(value=0.0, description='Training', layout=Layout(flex='2'), max=5000.0, style=Pro…"
      ]
     },
     "metadata": {},
     "output_type": "display_data"
    },
    {
     "name": "stdout",
     "output_type": "stream",
     "text": [
      "Epoch 23: train=3.38913, val=3.20815, took 161.17 s\n"
     ]
    },
    {
     "data": {
      "application/vnd.jupyter.widget-view+json": {
       "model_id": "",
       "version_major": 2,
       "version_minor": 0
      },
      "text/plain": [
       "HBox(children=(FloatProgress(value=0.0, description='Training', layout=Layout(flex='2'), max=5000.0, style=Pro…"
      ]
     },
     "metadata": {},
     "output_type": "display_data"
    },
    {
     "name": "stdout",
     "output_type": "stream",
     "text": [
      "Epoch 24: train=3.39184, val=3.2202, took 160.74 s\n"
     ]
    },
    {
     "data": {
      "application/vnd.jupyter.widget-view+json": {
       "model_id": "",
       "version_major": 2,
       "version_minor": 0
      },
      "text/plain": [
       "HBox(children=(FloatProgress(value=0.0, description='Training', layout=Layout(flex='2'), max=5000.0, style=Pro…"
      ]
     },
     "metadata": {},
     "output_type": "display_data"
    },
    {
     "name": "stdout",
     "output_type": "stream",
     "text": [
      "Epoch 25: train=3.38736, val=3.28505, took 160.68 s\n"
     ]
    },
    {
     "data": {
      "application/vnd.jupyter.widget-view+json": {
       "model_id": "",
       "version_major": 2,
       "version_minor": 0
      },
      "text/plain": [
       "HBox(children=(FloatProgress(value=0.0, description='Training', layout=Layout(flex='2'), max=5000.0, style=Pro…"
      ]
     },
     "metadata": {},
     "output_type": "display_data"
    },
    {
     "name": "stdout",
     "output_type": "stream",
     "text": [
      "Epoch 26: train=3.38658, val=3.17641, took 160.57 s\n"
     ]
    },
    {
     "data": {
      "application/vnd.jupyter.widget-view+json": {
       "model_id": "",
       "version_major": 2,
       "version_minor": 0
      },
      "text/plain": [
       "HBox(children=(FloatProgress(value=0.0, description='Training', layout=Layout(flex='2'), max=5000.0, style=Pro…"
      ]
     },
     "metadata": {},
     "output_type": "display_data"
    },
    {
     "name": "stdout",
     "output_type": "stream",
     "text": [
      "Epoch 27: train=3.38754, val=3.18699, took 161.05 s\n"
     ]
    },
    {
     "data": {
      "application/vnd.jupyter.widget-view+json": {
       "model_id": "",
       "version_major": 2,
       "version_minor": 0
      },
      "text/plain": [
       "HBox(children=(FloatProgress(value=0.0, description='Training', layout=Layout(flex='2'), max=5000.0, style=Pro…"
      ]
     },
     "metadata": {},
     "output_type": "display_data"
    },
    {
     "name": "stdout",
     "output_type": "stream",
     "text": [
      "Epoch 28: train=3.38646, val=3.19277, took 160.23 s\n"
     ]
    },
    {
     "data": {
      "application/vnd.jupyter.widget-view+json": {
       "model_id": "",
       "version_major": 2,
       "version_minor": 0
      },
      "text/plain": [
       "HBox(children=(FloatProgress(value=0.0, description='Training', layout=Layout(flex='2'), max=5000.0, style=Pro…"
      ]
     },
     "metadata": {},
     "output_type": "display_data"
    },
    {
     "name": "stdout",
     "output_type": "stream",
     "text": [
      "Epoch 29: train=3.38625, val=3.15482, took 160.24 s\n"
     ]
    },
    {
     "data": {
      "application/vnd.jupyter.widget-view+json": {
       "model_id": "",
       "version_major": 2,
       "version_minor": 0
      },
      "text/plain": [
       "HBox(children=(FloatProgress(value=0.0, description='Training', layout=Layout(flex='2'), max=5000.0, style=Pro…"
      ]
     },
     "metadata": {},
     "output_type": "display_data"
    },
    {
     "name": "stdout",
     "output_type": "stream",
     "text": [
      "Epoch 30: train=3.38566, val=3.25325, took 160.53 s\n"
     ]
    },
    {
     "data": {
      "application/vnd.jupyter.widget-view+json": {
       "model_id": "",
       "version_major": 2,
       "version_minor": 0
      },
      "text/plain": [
       "HBox(children=(FloatProgress(value=0.0, description='Training', layout=Layout(flex='2'), max=5000.0, style=Pro…"
      ]
     },
     "metadata": {},
     "output_type": "display_data"
    },
    {
     "name": "stdout",
     "output_type": "stream",
     "text": [
      "Epoch 31: train=3.38456, val=3.18373, took 160.68 s\n"
     ]
    },
    {
     "data": {
      "application/vnd.jupyter.widget-view+json": {
       "model_id": "",
       "version_major": 2,
       "version_minor": 0
      },
      "text/plain": [
       "HBox(children=(FloatProgress(value=0.0, description='Training', layout=Layout(flex='2'), max=5000.0, style=Pro…"
      ]
     },
     "metadata": {},
     "output_type": "display_data"
    },
    {
     "name": "stdout",
     "output_type": "stream",
     "text": [
      "Epoch 32: train=3.38494, val=3.17474, took 161.59 s\n"
     ]
    },
    {
     "data": {
      "application/vnd.jupyter.widget-view+json": {
       "model_id": "",
       "version_major": 2,
       "version_minor": 0
      },
      "text/plain": [
       "HBox(children=(FloatProgress(value=0.0, description='Training', layout=Layout(flex='2'), max=5000.0, style=Pro…"
      ]
     },
     "metadata": {},
     "output_type": "display_data"
    },
    {
     "name": "stdout",
     "output_type": "stream",
     "text": [
      "Epoch 33: train=3.38606, val=3.20502, took 159.88 s\n"
     ]
    },
    {
     "data": {
      "application/vnd.jupyter.widget-view+json": {
       "model_id": "",
       "version_major": 2,
       "version_minor": 0
      },
      "text/plain": [
       "HBox(children=(FloatProgress(value=0.0, description='Training', layout=Layout(flex='2'), max=5000.0, style=Pro…"
      ]
     },
     "metadata": {},
     "output_type": "display_data"
    },
    {
     "name": "stdout",
     "output_type": "stream",
     "text": [
      "Epoch 34: train=3.38656, val=3.21388, took 160.98 s\n"
     ]
    },
    {
     "data": {
      "application/vnd.jupyter.widget-view+json": {
       "model_id": "",
       "version_major": 2,
       "version_minor": 0
      },
      "text/plain": [
       "HBox(children=(FloatProgress(value=0.0, description='Training', layout=Layout(flex='2'), max=5000.0, style=Pro…"
      ]
     },
     "metadata": {},
     "output_type": "display_data"
    },
    {
     "name": "stdout",
     "output_type": "stream",
     "text": [
      "Epoch 35: train=3.38182, val=3.3069, took 161.98 s\n"
     ]
    },
    {
     "data": {
      "application/vnd.jupyter.widget-view+json": {
       "model_id": "",
       "version_major": 2,
       "version_minor": 0
      },
      "text/plain": [
       "HBox(children=(FloatProgress(value=0.0, description='Training', layout=Layout(flex='2'), max=5000.0, style=Pro…"
      ]
     },
     "metadata": {},
     "output_type": "display_data"
    },
    {
     "name": "stdout",
     "output_type": "stream",
     "text": [
      "Epoch 36: train=3.38773, val=3.26226, took 161.61 s\n"
     ]
    },
    {
     "data": {
      "application/vnd.jupyter.widget-view+json": {
       "model_id": "",
       "version_major": 2,
       "version_minor": 0
      },
      "text/plain": [
       "HBox(children=(FloatProgress(value=0.0, description='Training', layout=Layout(flex='2'), max=5000.0, style=Pro…"
      ]
     },
     "metadata": {},
     "output_type": "display_data"
    },
    {
     "name": "stdout",
     "output_type": "stream",
     "text": [
      "Epoch 37: train=3.38393, val=3.14935, took 160.76 s\n"
     ]
    },
    {
     "data": {
      "application/vnd.jupyter.widget-view+json": {
       "model_id": "",
       "version_major": 2,
       "version_minor": 0
      },
      "text/plain": [
       "HBox(children=(FloatProgress(value=0.0, description='Training', layout=Layout(flex='2'), max=5000.0, style=Pro…"
      ]
     },
     "metadata": {},
     "output_type": "display_data"
    },
    {
     "name": "stdout",
     "output_type": "stream",
     "text": [
      "Epoch 38: train=3.38206, val=3.29445, took 161.77 s\n"
     ]
    },
    {
     "data": {
      "application/vnd.jupyter.widget-view+json": {
       "model_id": "",
       "version_major": 2,
       "version_minor": 0
      },
      "text/plain": [
       "HBox(children=(FloatProgress(value=0.0, description='Training', layout=Layout(flex='2'), max=5000.0, style=Pro…"
      ]
     },
     "metadata": {},
     "output_type": "display_data"
    },
    {
     "name": "stdout",
     "output_type": "stream",
     "text": [
      "Epoch 39: train=3.38552, val=3.14733, took 161.93 s\n"
     ]
    },
    {
     "data": {
      "application/vnd.jupyter.widget-view+json": {
       "model_id": "",
       "version_major": 2,
       "version_minor": 0
      },
      "text/plain": [
       "HBox(children=(FloatProgress(value=0.0, description='Training', layout=Layout(flex='2'), max=5000.0, style=Pro…"
      ]
     },
     "metadata": {},
     "output_type": "display_data"
    },
    {
     "name": "stdout",
     "output_type": "stream",
     "text": [
      "Epoch 40: train=3.38382, val=3.19176, took 162.27 s\n"
     ]
    },
    {
     "data": {
      "application/vnd.jupyter.widget-view+json": {
       "model_id": "",
       "version_major": 2,
       "version_minor": 0
      },
      "text/plain": [
       "HBox(children=(FloatProgress(value=0.0, description='Training', layout=Layout(flex='2'), max=5000.0, style=Pro…"
      ]
     },
     "metadata": {},
     "output_type": "display_data"
    },
    {
     "name": "stdout",
     "output_type": "stream",
     "text": [
      "Epoch 41: train=3.37827, val=3.15116, took 161.16 s\n"
     ]
    },
    {
     "data": {
      "application/vnd.jupyter.widget-view+json": {
       "model_id": "",
       "version_major": 2,
       "version_minor": 0
      },
      "text/plain": [
       "HBox(children=(FloatProgress(value=0.0, description='Training', layout=Layout(flex='2'), max=5000.0, style=Pro…"
      ]
     },
     "metadata": {},
     "output_type": "display_data"
    },
    {
     "name": "stdout",
     "output_type": "stream",
     "text": [
      "Epoch 42: train=3.38044, val=3.4348, took 161.28 s\n"
     ]
    },
    {
     "data": {
      "application/vnd.jupyter.widget-view+json": {
       "model_id": "",
       "version_major": 2,
       "version_minor": 0
      },
      "text/plain": [
       "HBox(children=(FloatProgress(value=0.0, description='Training', layout=Layout(flex='2'), max=5000.0, style=Pro…"
      ]
     },
     "metadata": {},
     "output_type": "display_data"
    },
    {
     "name": "stdout",
     "output_type": "stream",
     "text": [
      "Epoch 43: train=3.38071, val=3.27035, took 160.15 s\n"
     ]
    },
    {
     "data": {
      "application/vnd.jupyter.widget-view+json": {
       "model_id": "",
       "version_major": 2,
       "version_minor": 0
      },
      "text/plain": [
       "HBox(children=(FloatProgress(value=0.0, description='Training', layout=Layout(flex='2'), max=5000.0, style=Pro…"
      ]
     },
     "metadata": {},
     "output_type": "display_data"
    },
    {
     "name": "stdout",
     "output_type": "stream",
     "text": [
      "Epoch 44: train=3.38055, val=3.15415, took 161.59 s\n"
     ]
    },
    {
     "data": {
      "application/vnd.jupyter.widget-view+json": {
       "model_id": "",
       "version_major": 2,
       "version_minor": 0
      },
      "text/plain": [
       "HBox(children=(FloatProgress(value=0.0, description='Training', layout=Layout(flex='2'), max=5000.0, style=Pro…"
      ]
     },
     "metadata": {},
     "output_type": "display_data"
    },
    {
     "name": "stdout",
     "output_type": "stream",
     "text": [
      "Epoch 45: train=3.37984, val=3.14756, took 160.59 s\n"
     ]
    },
    {
     "data": {
      "application/vnd.jupyter.widget-view+json": {
       "model_id": "",
       "version_major": 2,
       "version_minor": 0
      },
      "text/plain": [
       "HBox(children=(FloatProgress(value=0.0, description='Training', layout=Layout(flex='2'), max=5000.0, style=Pro…"
      ]
     },
     "metadata": {},
     "output_type": "display_data"
    },
    {
     "name": "stdout",
     "output_type": "stream",
     "text": [
      "Epoch 46: train=3.37795, val=3.31888, took 160.92 s\n"
     ]
    },
    {
     "data": {
      "application/vnd.jupyter.widget-view+json": {
       "model_id": "",
       "version_major": 2,
       "version_minor": 0
      },
      "text/plain": [
       "HBox(children=(FloatProgress(value=0.0, description='Training', layout=Layout(flex='2'), max=5000.0, style=Pro…"
      ]
     },
     "metadata": {},
     "output_type": "display_data"
    },
    {
     "name": "stdout",
     "output_type": "stream",
     "text": [
      "Epoch 47: train=3.38025, val=3.14466, took 160.72 s\n"
     ]
    },
    {
     "data": {
      "application/vnd.jupyter.widget-view+json": {
       "model_id": "",
       "version_major": 2,
       "version_minor": 0
      },
      "text/plain": [
       "HBox(children=(FloatProgress(value=0.0, description='Training', layout=Layout(flex='2'), max=5000.0, style=Pro…"
      ]
     },
     "metadata": {},
     "output_type": "display_data"
    },
    {
     "name": "stdout",
     "output_type": "stream",
     "text": [
      "Epoch 48: train=3.37972, val=3.19189, took 161.11 s\n"
     ]
    },
    {
     "data": {
      "application/vnd.jupyter.widget-view+json": {
       "model_id": "",
       "version_major": 2,
       "version_minor": 0
      },
      "text/plain": [
       "HBox(children=(FloatProgress(value=0.0, description='Training', layout=Layout(flex='2'), max=5000.0, style=Pro…"
      ]
     },
     "metadata": {},
     "output_type": "display_data"
    },
    {
     "name": "stdout",
     "output_type": "stream",
     "text": [
      "Epoch 49: train=3.37787, val=3.23957, took 161.04 s\n"
     ]
    },
    {
     "data": {
      "application/vnd.jupyter.widget-view+json": {
       "model_id": "",
       "version_major": 2,
       "version_minor": 0
      },
      "text/plain": [
       "HBox(children=(FloatProgress(value=0.0, description='Training', layout=Layout(flex='2'), max=5000.0, style=Pro…"
      ]
     },
     "metadata": {},
     "output_type": "display_data"
    },
    {
     "name": "stdout",
     "output_type": "stream",
     "text": [
      "Epoch 50: train=3.37668, val=3.16043, took 162.23 s\n"
     ]
    },
    {
     "data": {
      "application/vnd.jupyter.widget-view+json": {
       "model_id": "",
       "version_major": 2,
       "version_minor": 0
      },
      "text/plain": [
       "HBox(children=(FloatProgress(value=0.0, description='Training', layout=Layout(flex='2'), max=5000.0, style=Pro…"
      ]
     },
     "metadata": {},
     "output_type": "display_data"
    },
    {
     "name": "stdout",
     "output_type": "stream",
     "text": [
      "Epoch 51: train=3.37599, val=3.18045, took 161.74 s\n"
     ]
    },
    {
     "data": {
      "application/vnd.jupyter.widget-view+json": {
       "model_id": "",
       "version_major": 2,
       "version_minor": 0
      },
      "text/plain": [
       "HBox(children=(FloatProgress(value=0.0, description='Training', layout=Layout(flex='2'), max=5000.0, style=Pro…"
      ]
     },
     "metadata": {},
     "output_type": "display_data"
    },
    {
     "name": "stdout",
     "output_type": "stream",
     "text": [
      "Epoch 52: train=3.37595, val=3.20046, took 162.68 s\n"
     ]
    },
    {
     "data": {
      "application/vnd.jupyter.widget-view+json": {
       "model_id": "",
       "version_major": 2,
       "version_minor": 0
      },
      "text/plain": [
       "HBox(children=(FloatProgress(value=0.0, description='Training', layout=Layout(flex='2'), max=5000.0, style=Pro…"
      ]
     },
     "metadata": {},
     "output_type": "display_data"
    },
    {
     "name": "stdout",
     "output_type": "stream",
     "text": [
      "Epoch 53: train=3.37482, val=3.16738, took 160.86 s\n"
     ]
    },
    {
     "data": {
      "application/vnd.jupyter.widget-view+json": {
       "model_id": "",
       "version_major": 2,
       "version_minor": 0
      },
      "text/plain": [
       "HBox(children=(FloatProgress(value=0.0, description='Training', layout=Layout(flex='2'), max=5000.0, style=Pro…"
      ]
     },
     "metadata": {},
     "output_type": "display_data"
    },
    {
     "name": "stdout",
     "output_type": "stream",
     "text": [
      "Epoch 54: train=3.37679, val=3.26609, took 161.34 s\n"
     ]
    },
    {
     "data": {
      "application/vnd.jupyter.widget-view+json": {
       "model_id": "",
       "version_major": 2,
       "version_minor": 0
      },
      "text/plain": [
       "HBox(children=(FloatProgress(value=0.0, description='Training', layout=Layout(flex='2'), max=5000.0, style=Pro…"
      ]
     },
     "metadata": {},
     "output_type": "display_data"
    },
    {
     "name": "stdout",
     "output_type": "stream",
     "text": [
      "Epoch 55: train=3.37489, val=3.26741, took 162.9 s\n"
     ]
    },
    {
     "data": {
      "application/vnd.jupyter.widget-view+json": {
       "model_id": "",
       "version_major": 2,
       "version_minor": 0
      },
      "text/plain": [
       "HBox(children=(FloatProgress(value=0.0, description='Training', layout=Layout(flex='2'), max=5000.0, style=Pro…"
      ]
     },
     "metadata": {},
     "output_type": "display_data"
    },
    {
     "name": "stdout",
     "output_type": "stream",
     "text": [
      "Epoch 56: train=3.37632, val=3.2071, took 161.55 s\n"
     ]
    },
    {
     "data": {
      "application/vnd.jupyter.widget-view+json": {
       "model_id": "",
       "version_major": 2,
       "version_minor": 0
      },
      "text/plain": [
       "HBox(children=(FloatProgress(value=0.0, description='Training', layout=Layout(flex='2'), max=5000.0, style=Pro…"
      ]
     },
     "metadata": {},
     "output_type": "display_data"
    },
    {
     "name": "stdout",
     "output_type": "stream",
     "text": [
      "Epoch 57: train=3.37422, val=3.14033, took 162.54 s\n"
     ]
    },
    {
     "data": {
      "application/vnd.jupyter.widget-view+json": {
       "model_id": "",
       "version_major": 2,
       "version_minor": 0
      },
      "text/plain": [
       "HBox(children=(FloatProgress(value=0.0, description='Training', layout=Layout(flex='2'), max=5000.0, style=Pro…"
      ]
     },
     "metadata": {},
     "output_type": "display_data"
    },
    {
     "name": "stdout",
     "output_type": "stream",
     "text": [
      "Epoch 58: train=3.37816, val=3.21379, took 161.29 s\n"
     ]
    },
    {
     "data": {
      "application/vnd.jupyter.widget-view+json": {
       "model_id": "",
       "version_major": 2,
       "version_minor": 0
      },
      "text/plain": [
       "HBox(children=(FloatProgress(value=0.0, description='Training', layout=Layout(flex='2'), max=5000.0, style=Pro…"
      ]
     },
     "metadata": {},
     "output_type": "display_data"
    },
    {
     "name": "stdout",
     "output_type": "stream",
     "text": [
      "Epoch 59: train=3.37133, val=3.14051, took 161.64 s\n"
     ]
    },
    {
     "data": {
      "application/vnd.jupyter.widget-view+json": {
       "model_id": "",
       "version_major": 2,
       "version_minor": 0
      },
      "text/plain": [
       "HBox(children=(FloatProgress(value=0.0, description='Training', layout=Layout(flex='2'), max=5000.0, style=Pro…"
      ]
     },
     "metadata": {},
     "output_type": "display_data"
    },
    {
     "name": "stdout",
     "output_type": "stream",
     "text": [
      "Epoch 60: train=3.37358, val=3.1606, took 161.1 s\n"
     ]
    },
    {
     "data": {
      "application/vnd.jupyter.widget-view+json": {
       "model_id": "",
       "version_major": 2,
       "version_minor": 0
      },
      "text/plain": [
       "HBox(children=(FloatProgress(value=0.0, description='Training', layout=Layout(flex='2'), max=5000.0, style=Pro…"
      ]
     },
     "metadata": {},
     "output_type": "display_data"
    },
    {
     "name": "stdout",
     "output_type": "stream",
     "text": [
      "Epoch 61: train=3.37408, val=3.30786, took 160.73 s\n"
     ]
    },
    {
     "data": {
      "application/vnd.jupyter.widget-view+json": {
       "model_id": "",
       "version_major": 2,
       "version_minor": 0
      },
      "text/plain": [
       "HBox(children=(FloatProgress(value=0.0, description='Training', layout=Layout(flex='2'), max=5000.0, style=Pro…"
      ]
     },
     "metadata": {},
     "output_type": "display_data"
    },
    {
     "name": "stdout",
     "output_type": "stream",
     "text": [
      "Epoch 62: train=3.37307, val=3.15311, took 160.4 s\n"
     ]
    },
    {
     "data": {
      "application/vnd.jupyter.widget-view+json": {
       "model_id": "",
       "version_major": 2,
       "version_minor": 0
      },
      "text/plain": [
       "HBox(children=(FloatProgress(value=0.0, description='Training', layout=Layout(flex='2'), max=5000.0, style=Pro…"
      ]
     },
     "metadata": {},
     "output_type": "display_data"
    },
    {
     "name": "stdout",
     "output_type": "stream",
     "text": [
      "Epoch 63: train=3.36832, val=3.22621, took 160.5 s\n"
     ]
    },
    {
     "data": {
      "application/vnd.jupyter.widget-view+json": {
       "model_id": "",
       "version_major": 2,
       "version_minor": 0
      },
      "text/plain": [
       "HBox(children=(FloatProgress(value=0.0, description='Training', layout=Layout(flex='2'), max=5000.0, style=Pro…"
      ]
     },
     "metadata": {},
     "output_type": "display_data"
    },
    {
     "name": "stdout",
     "output_type": "stream",
     "text": [
      "Epoch 64: train=3.3741, val=3.38959, took 160.26 s\n"
     ]
    },
    {
     "data": {
      "application/vnd.jupyter.widget-view+json": {
       "model_id": "",
       "version_major": 2,
       "version_minor": 0
      },
      "text/plain": [
       "HBox(children=(FloatProgress(value=0.0, description='Training', layout=Layout(flex='2'), max=5000.0, style=Pro…"
      ]
     },
     "metadata": {},
     "output_type": "display_data"
    },
    {
     "name": "stdout",
     "output_type": "stream",
     "text": [
      "Epoch 65: train=3.37164, val=3.22562, took 160.64 s\n"
     ]
    },
    {
     "data": {
      "application/vnd.jupyter.widget-view+json": {
       "model_id": "",
       "version_major": 2,
       "version_minor": 0
      },
      "text/plain": [
       "HBox(children=(FloatProgress(value=0.0, description='Training', layout=Layout(flex='2'), max=5000.0, style=Pro…"
      ]
     },
     "metadata": {},
     "output_type": "display_data"
    },
    {
     "name": "stdout",
     "output_type": "stream",
     "text": [
      "Epoch 66: train=3.37399, val=3.22043, took 160.57 s\n"
     ]
    },
    {
     "data": {
      "application/vnd.jupyter.widget-view+json": {
       "model_id": "",
       "version_major": 2,
       "version_minor": 0
      },
      "text/plain": [
       "HBox(children=(FloatProgress(value=0.0, description='Training', layout=Layout(flex='2'), max=5000.0, style=Pro…"
      ]
     },
     "metadata": {},
     "output_type": "display_data"
    },
    {
     "name": "stdout",
     "output_type": "stream",
     "text": [
      "Epoch 67: train=3.36919, val=3.25517, took 161.34 s\n"
     ]
    },
    {
     "data": {
      "application/vnd.jupyter.widget-view+json": {
       "model_id": "",
       "version_major": 2,
       "version_minor": 0
      },
      "text/plain": [
       "HBox(children=(FloatProgress(value=0.0, description='Training', layout=Layout(flex='2'), max=5000.0, style=Pro…"
      ]
     },
     "metadata": {},
     "output_type": "display_data"
    },
    {
     "name": "stdout",
     "output_type": "stream",
     "text": [
      "Epoch 68: train=3.37515, val=3.1765, took 160.88 s\n"
     ]
    },
    {
     "data": {
      "application/vnd.jupyter.widget-view+json": {
       "model_id": "",
       "version_major": 2,
       "version_minor": 0
      },
      "text/plain": [
       "HBox(children=(FloatProgress(value=0.0, description='Training', layout=Layout(flex='2'), max=5000.0, style=Pro…"
      ]
     },
     "metadata": {},
     "output_type": "display_data"
    },
    {
     "name": "stdout",
     "output_type": "stream",
     "text": [
      "Epoch 69: train=3.36933, val=3.15282, took 160.37 s\n"
     ]
    },
    {
     "data": {
      "application/vnd.jupyter.widget-view+json": {
       "model_id": "",
       "version_major": 2,
       "version_minor": 0
      },
      "text/plain": [
       "HBox(children=(FloatProgress(value=0.0, description='Training', layout=Layout(flex='2'), max=5000.0, style=Pro…"
      ]
     },
     "metadata": {},
     "output_type": "display_data"
    },
    {
     "name": "stdout",
     "output_type": "stream",
     "text": [
      "Epoch 70: train=3.37041, val=3.13888, took 161.24 s\n"
     ]
    },
    {
     "data": {
      "application/vnd.jupyter.widget-view+json": {
       "model_id": "",
       "version_major": 2,
       "version_minor": 0
      },
      "text/plain": [
       "HBox(children=(FloatProgress(value=0.0, description='Training', layout=Layout(flex='2'), max=5000.0, style=Pro…"
      ]
     },
     "metadata": {},
     "output_type": "display_data"
    },
    {
     "name": "stdout",
     "output_type": "stream",
     "text": [
      "Epoch 71: train=3.37054, val=3.18602, took 160.62 s\n"
     ]
    },
    {
     "data": {
      "application/vnd.jupyter.widget-view+json": {
       "model_id": "",
       "version_major": 2,
       "version_minor": 0
      },
      "text/plain": [
       "HBox(children=(FloatProgress(value=0.0, description='Training', layout=Layout(flex='2'), max=5000.0, style=Pro…"
      ]
     },
     "metadata": {},
     "output_type": "display_data"
    },
    {
     "name": "stdout",
     "output_type": "stream",
     "text": [
      "Epoch 72: train=3.36986, val=3.19672, took 160.46 s\n"
     ]
    },
    {
     "data": {
      "application/vnd.jupyter.widget-view+json": {
       "model_id": "",
       "version_major": 2,
       "version_minor": 0
      },
      "text/plain": [
       "HBox(children=(FloatProgress(value=0.0, description='Training', layout=Layout(flex='2'), max=5000.0, style=Pro…"
      ]
     },
     "metadata": {},
     "output_type": "display_data"
    },
    {
     "name": "stdout",
     "output_type": "stream",
     "text": [
      "Epoch 73: train=3.37152, val=3.29005, took 161.02 s\n"
     ]
    },
    {
     "data": {
      "application/vnd.jupyter.widget-view+json": {
       "model_id": "",
       "version_major": 2,
       "version_minor": 0
      },
      "text/plain": [
       "HBox(children=(FloatProgress(value=0.0, description='Training', layout=Layout(flex='2'), max=5000.0, style=Pro…"
      ]
     },
     "metadata": {},
     "output_type": "display_data"
    },
    {
     "name": "stdout",
     "output_type": "stream",
     "text": [
      "Epoch 74: train=3.37194, val=3.14346, took 160.78 s\n"
     ]
    },
    {
     "data": {
      "application/vnd.jupyter.widget-view+json": {
       "model_id": "",
       "version_major": 2,
       "version_minor": 0
      },
      "text/plain": [
       "HBox(children=(FloatProgress(value=0.0, description='Training', layout=Layout(flex='2'), max=5000.0, style=Pro…"
      ]
     },
     "metadata": {},
     "output_type": "display_data"
    },
    {
     "name": "stdout",
     "output_type": "stream",
     "text": [
      "Epoch 75: train=3.36619, val=3.23294, took 160.36 s\n"
     ]
    },
    {
     "data": {
      "application/vnd.jupyter.widget-view+json": {
       "model_id": "",
       "version_major": 2,
       "version_minor": 0
      },
      "text/plain": [
       "HBox(children=(FloatProgress(value=0.0, description='Training', layout=Layout(flex='2'), max=5000.0, style=Pro…"
      ]
     },
     "metadata": {},
     "output_type": "display_data"
    },
    {
     "name": "stdout",
     "output_type": "stream",
     "text": [
      "Epoch 76: train=3.37331, val=3.13262, took 161.17 s\n"
     ]
    },
    {
     "data": {
      "application/vnd.jupyter.widget-view+json": {
       "model_id": "",
       "version_major": 2,
       "version_minor": 0
      },
      "text/plain": [
       "HBox(children=(FloatProgress(value=0.0, description='Training', layout=Layout(flex='2'), max=5000.0, style=Pro…"
      ]
     },
     "metadata": {},
     "output_type": "display_data"
    },
    {
     "name": "stdout",
     "output_type": "stream",
     "text": [
      "Epoch 77: train=3.36792, val=3.35874, took 160.25 s\n"
     ]
    },
    {
     "data": {
      "application/vnd.jupyter.widget-view+json": {
       "model_id": "",
       "version_major": 2,
       "version_minor": 0
      },
      "text/plain": [
       "HBox(children=(FloatProgress(value=0.0, description='Training', layout=Layout(flex='2'), max=5000.0, style=Pro…"
      ]
     },
     "metadata": {},
     "output_type": "display_data"
    },
    {
     "name": "stdout",
     "output_type": "stream",
     "text": [
      "Epoch 78: train=3.37119, val=3.19008, took 160.54 s\n"
     ]
    },
    {
     "data": {
      "application/vnd.jupyter.widget-view+json": {
       "model_id": "",
       "version_major": 2,
       "version_minor": 0
      },
      "text/plain": [
       "HBox(children=(FloatProgress(value=0.0, description='Training', layout=Layout(flex='2'), max=5000.0, style=Pro…"
      ]
     },
     "metadata": {},
     "output_type": "display_data"
    },
    {
     "name": "stdout",
     "output_type": "stream",
     "text": [
      "Epoch 79: train=3.36574, val=3.18711, took 161.09 s\n"
     ]
    },
    {
     "data": {
      "application/vnd.jupyter.widget-view+json": {
       "model_id": "",
       "version_major": 2,
       "version_minor": 0
      },
      "text/plain": [
       "HBox(children=(FloatProgress(value=0.0, description='Training', layout=Layout(flex='2'), max=5000.0, style=Pro…"
      ]
     },
     "metadata": {},
     "output_type": "display_data"
    },
    {
     "name": "stdout",
     "output_type": "stream",
     "text": [
      "Epoch 80: train=3.36599, val=3.15197, took 160.49 s\n"
     ]
    },
    {
     "data": {
      "application/vnd.jupyter.widget-view+json": {
       "model_id": "",
       "version_major": 2,
       "version_minor": 0
      },
      "text/plain": [
       "HBox(children=(FloatProgress(value=0.0, description='Training', layout=Layout(flex='2'), max=5000.0, style=Pro…"
      ]
     },
     "metadata": {},
     "output_type": "display_data"
    },
    {
     "name": "stdout",
     "output_type": "stream",
     "text": [
      "Epoch 81: train=3.36666, val=3.13375, took 160.97 s\n"
     ]
    },
    {
     "data": {
      "application/vnd.jupyter.widget-view+json": {
       "model_id": "",
       "version_major": 2,
       "version_minor": 0
      },
      "text/plain": [
       "HBox(children=(FloatProgress(value=0.0, description='Training', layout=Layout(flex='2'), max=5000.0, style=Pro…"
      ]
     },
     "metadata": {},
     "output_type": "display_data"
    },
    {
     "name": "stdout",
     "output_type": "stream",
     "text": [
      "Epoch 82: train=3.36697, val=3.13865, took 160.82 s\n"
     ]
    },
    {
     "data": {
      "application/vnd.jupyter.widget-view+json": {
       "model_id": "",
       "version_major": 2,
       "version_minor": 0
      },
      "text/plain": [
       "HBox(children=(FloatProgress(value=0.0, description='Training', layout=Layout(flex='2'), max=5000.0, style=Pro…"
      ]
     },
     "metadata": {},
     "output_type": "display_data"
    },
    {
     "name": "stdout",
     "output_type": "stream",
     "text": [
      "Epoch 83: train=3.36498, val=3.17227, took 160.78 s\n"
     ]
    },
    {
     "data": {
      "application/vnd.jupyter.widget-view+json": {
       "model_id": "",
       "version_major": 2,
       "version_minor": 0
      },
      "text/plain": [
       "HBox(children=(FloatProgress(value=0.0, description='Training', layout=Layout(flex='2'), max=5000.0, style=Pro…"
      ]
     },
     "metadata": {},
     "output_type": "display_data"
    },
    {
     "name": "stdout",
     "output_type": "stream",
     "text": [
      "Epoch 84: train=3.36781, val=3.23935, took 160.11 s\n"
     ]
    },
    {
     "data": {
      "application/vnd.jupyter.widget-view+json": {
       "model_id": "",
       "version_major": 2,
       "version_minor": 0
      },
      "text/plain": [
       "HBox(children=(FloatProgress(value=0.0, description='Training', layout=Layout(flex='2'), max=5000.0, style=Pro…"
      ]
     },
     "metadata": {},
     "output_type": "display_data"
    },
    {
     "name": "stdout",
     "output_type": "stream",
     "text": [
      "Epoch 85: train=3.36498, val=3.26368, took 160.81 s\n"
     ]
    },
    {
     "data": {
      "application/vnd.jupyter.widget-view+json": {
       "model_id": "",
       "version_major": 2,
       "version_minor": 0
      },
      "text/plain": [
       "HBox(children=(FloatProgress(value=0.0, description='Training', layout=Layout(flex='2'), max=5000.0, style=Pro…"
      ]
     },
     "metadata": {},
     "output_type": "display_data"
    },
    {
     "name": "stdout",
     "output_type": "stream",
     "text": [
      "Epoch 86: train=3.36032, val=3.1345, took 161.03 s\n"
     ]
    },
    {
     "data": {
      "application/vnd.jupyter.widget-view+json": {
       "model_id": "",
       "version_major": 2,
       "version_minor": 0
      },
      "text/plain": [
       "HBox(children=(FloatProgress(value=0.0, description='Training', layout=Layout(flex='2'), max=5000.0, style=Pro…"
      ]
     },
     "metadata": {},
     "output_type": "display_data"
    },
    {
     "name": "stdout",
     "output_type": "stream",
     "text": [
      "Epoch 87: train=3.36307, val=3.21817, took 160.36 s\n"
     ]
    },
    {
     "data": {
      "application/vnd.jupyter.widget-view+json": {
       "model_id": "",
       "version_major": 2,
       "version_minor": 0
      },
      "text/plain": [
       "HBox(children=(FloatProgress(value=0.0, description='Training', layout=Layout(flex='2'), max=5000.0, style=Pro…"
      ]
     },
     "metadata": {},
     "output_type": "display_data"
    },
    {
     "name": "stdout",
     "output_type": "stream",
     "text": [
      "Epoch 88: train=3.36426, val=3.14577, took 161.51 s\n"
     ]
    },
    {
     "data": {
      "application/vnd.jupyter.widget-view+json": {
       "model_id": "",
       "version_major": 2,
       "version_minor": 0
      },
      "text/plain": [
       "HBox(children=(FloatProgress(value=0.0, description='Training', layout=Layout(flex='2'), max=5000.0, style=Pro…"
      ]
     },
     "metadata": {},
     "output_type": "display_data"
    },
    {
     "name": "stdout",
     "output_type": "stream",
     "text": [
      "Epoch 89: train=3.36421, val=3.17215, took 160.37 s\n"
     ]
    },
    {
     "data": {
      "application/vnd.jupyter.widget-view+json": {
       "model_id": "",
       "version_major": 2,
       "version_minor": 0
      },
      "text/plain": [
       "HBox(children=(FloatProgress(value=0.0, description='Training', layout=Layout(flex='2'), max=5000.0, style=Pro…"
      ]
     },
     "metadata": {},
     "output_type": "display_data"
    },
    {
     "name": "stdout",
     "output_type": "stream",
     "text": [
      "Epoch 90: train=3.36199, val=3.12725, took 161.17 s\n"
     ]
    },
    {
     "data": {
      "application/vnd.jupyter.widget-view+json": {
       "model_id": "",
       "version_major": 2,
       "version_minor": 0
      },
      "text/plain": [
       "HBox(children=(FloatProgress(value=0.0, description='Training', layout=Layout(flex='2'), max=5000.0, style=Pro…"
      ]
     },
     "metadata": {},
     "output_type": "display_data"
    },
    {
     "name": "stdout",
     "output_type": "stream",
     "text": [
      "Epoch 91: train=3.36206, val=3.16428, took 161.72 s\n"
     ]
    },
    {
     "data": {
      "application/vnd.jupyter.widget-view+json": {
       "model_id": "",
       "version_major": 2,
       "version_minor": 0
      },
      "text/plain": [
       "HBox(children=(FloatProgress(value=0.0, description='Training', layout=Layout(flex='2'), max=5000.0, style=Pro…"
      ]
     },
     "metadata": {},
     "output_type": "display_data"
    },
    {
     "name": "stdout",
     "output_type": "stream",
     "text": [
      "Epoch 92: train=3.36181, val=3.19058, took 161.53 s\n"
     ]
    },
    {
     "data": {
      "application/vnd.jupyter.widget-view+json": {
       "model_id": "",
       "version_major": 2,
       "version_minor": 0
      },
      "text/plain": [
       "HBox(children=(FloatProgress(value=0.0, description='Training', layout=Layout(flex='2'), max=5000.0, style=Pro…"
      ]
     },
     "metadata": {},
     "output_type": "display_data"
    },
    {
     "name": "stdout",
     "output_type": "stream",
     "text": [
      "Epoch 93: train=3.35923, val=3.27405, took 161.26 s\n"
     ]
    },
    {
     "data": {
      "application/vnd.jupyter.widget-view+json": {
       "model_id": "",
       "version_major": 2,
       "version_minor": 0
      },
      "text/plain": [
       "HBox(children=(FloatProgress(value=0.0, description='Training', layout=Layout(flex='2'), max=5000.0, style=Pro…"
      ]
     },
     "metadata": {},
     "output_type": "display_data"
    },
    {
     "name": "stdout",
     "output_type": "stream",
     "text": [
      "Epoch 94: train=3.36133, val=3.13007, took 160.23 s\n"
     ]
    },
    {
     "data": {
      "application/vnd.jupyter.widget-view+json": {
       "model_id": "",
       "version_major": 2,
       "version_minor": 0
      },
      "text/plain": [
       "HBox(children=(FloatProgress(value=0.0, description='Training', layout=Layout(flex='2'), max=5000.0, style=Pro…"
      ]
     },
     "metadata": {},
     "output_type": "display_data"
    },
    {
     "name": "stdout",
     "output_type": "stream",
     "text": [
      "Epoch 95: train=3.35869, val=3.1246, took 161.29 s\n"
     ]
    },
    {
     "data": {
      "application/vnd.jupyter.widget-view+json": {
       "model_id": "",
       "version_major": 2,
       "version_minor": 0
      },
      "text/plain": [
       "HBox(children=(FloatProgress(value=0.0, description='Training', layout=Layout(flex='2'), max=5000.0, style=Pro…"
      ]
     },
     "metadata": {},
     "output_type": "display_data"
    },
    {
     "name": "stdout",
     "output_type": "stream",
     "text": [
      "Epoch 96: train=3.36129, val=3.12771, took 160.98 s\n"
     ]
    },
    {
     "data": {
      "application/vnd.jupyter.widget-view+json": {
       "model_id": "",
       "version_major": 2,
       "version_minor": 0
      },
      "text/plain": [
       "HBox(children=(FloatProgress(value=0.0, description='Training', layout=Layout(flex='2'), max=5000.0, style=Pro…"
      ]
     },
     "metadata": {},
     "output_type": "display_data"
    },
    {
     "name": "stdout",
     "output_type": "stream",
     "text": [
      "Epoch 97: train=3.35859, val=3.22614, took 160.55 s\n"
     ]
    },
    {
     "data": {
      "application/vnd.jupyter.widget-view+json": {
       "model_id": "",
       "version_major": 2,
       "version_minor": 0
      },
      "text/plain": [
       "HBox(children=(FloatProgress(value=0.0, description='Training', layout=Layout(flex='2'), max=5000.0, style=Pro…"
      ]
     },
     "metadata": {},
     "output_type": "display_data"
    },
    {
     "name": "stdout",
     "output_type": "stream",
     "text": [
      "Epoch 98: train=3.35813, val=3.25782, took 161.16 s\n"
     ]
    },
    {
     "data": {
      "application/vnd.jupyter.widget-view+json": {
       "model_id": "",
       "version_major": 2,
       "version_minor": 0
      },
      "text/plain": [
       "HBox(children=(FloatProgress(value=0.0, description='Training', layout=Layout(flex='2'), max=5000.0, style=Pro…"
      ]
     },
     "metadata": {},
     "output_type": "display_data"
    },
    {
     "name": "stdout",
     "output_type": "stream",
     "text": [
      "Epoch 99: train=3.35563, val=3.30209, took 160.9 s\n"
     ]
    },
    {
     "data": {
      "application/vnd.jupyter.widget-view+json": {
       "model_id": "",
       "version_major": 2,
       "version_minor": 0
      },
      "text/plain": [
       "HBox(children=(FloatProgress(value=0.0, description='Training', layout=Layout(flex='2'), max=5000.0, style=Pro…"
      ]
     },
     "metadata": {},
     "output_type": "display_data"
    },
    {
     "name": "stdout",
     "output_type": "stream",
     "text": [
      "Epoch 100: train=3.35774, val=3.13262, took 161.28 s\n"
     ]
    },
    {
     "data": {
      "application/vnd.jupyter.widget-view+json": {
       "model_id": "",
       "version_major": 2,
       "version_minor": 0
      },
      "text/plain": [
       "HBox(children=(FloatProgress(value=0.0, description='Training', layout=Layout(flex='2'), max=5000.0, style=Pro…"
      ]
     },
     "metadata": {},
     "output_type": "display_data"
    },
    {
     "name": "stdout",
     "output_type": "stream",
     "text": [
      "Epoch 101: train=3.35585, val=3.12333, took 164.33 s\n"
     ]
    },
    {
     "data": {
      "application/vnd.jupyter.widget-view+json": {
       "model_id": "",
       "version_major": 2,
       "version_minor": 0
      },
      "text/plain": [
       "HBox(children=(FloatProgress(value=0.0, description='Training', layout=Layout(flex='2'), max=5000.0, style=Pro…"
      ]
     },
     "metadata": {},
     "output_type": "display_data"
    },
    {
     "name": "stdout",
     "output_type": "stream",
     "text": [
      "Epoch 102: train=3.35619, val=3.16372, took 166.57 s\n"
     ]
    },
    {
     "data": {
      "application/vnd.jupyter.widget-view+json": {
       "model_id": "",
       "version_major": 2,
       "version_minor": 0
      },
      "text/plain": [
       "HBox(children=(FloatProgress(value=0.0, description='Training', layout=Layout(flex='2'), max=5000.0, style=Pro…"
      ]
     },
     "metadata": {},
     "output_type": "display_data"
    },
    {
     "name": "stdout",
     "output_type": "stream",
     "text": [
      "Epoch 103: train=3.35506, val=3.19664, took 166.72 s\n"
     ]
    },
    {
     "data": {
      "application/vnd.jupyter.widget-view+json": {
       "model_id": "",
       "version_major": 2,
       "version_minor": 0
      },
      "text/plain": [
       "HBox(children=(FloatProgress(value=0.0, description='Training', layout=Layout(flex='2'), max=5000.0, style=Pro…"
      ]
     },
     "metadata": {},
     "output_type": "display_data"
    },
    {
     "name": "stdout",
     "output_type": "stream",
     "text": [
      "Epoch 104: train=3.3536, val=3.13023, took 166.23 s\n"
     ]
    },
    {
     "data": {
      "application/vnd.jupyter.widget-view+json": {
       "model_id": "",
       "version_major": 2,
       "version_minor": 0
      },
      "text/plain": [
       "HBox(children=(FloatProgress(value=0.0, description='Training', layout=Layout(flex='2'), max=5000.0, style=Pro…"
      ]
     },
     "metadata": {},
     "output_type": "display_data"
    },
    {
     "name": "stdout",
     "output_type": "stream",
     "text": [
      "Epoch 105: train=3.35255, val=3.13234, took 166.73 s\n"
     ]
    },
    {
     "data": {
      "application/vnd.jupyter.widget-view+json": {
       "model_id": "",
       "version_major": 2,
       "version_minor": 0
      },
      "text/plain": [
       "HBox(children=(FloatProgress(value=0.0, description='Training', layout=Layout(flex='2'), max=5000.0, style=Pro…"
      ]
     },
     "metadata": {},
     "output_type": "display_data"
    },
    {
     "name": "stdout",
     "output_type": "stream",
     "text": [
      "Epoch 106: train=3.35914, val=3.11923, took 169.5 s\n"
     ]
    },
    {
     "data": {
      "application/vnd.jupyter.widget-view+json": {
       "model_id": "",
       "version_major": 2,
       "version_minor": 0
      },
      "text/plain": [
       "HBox(children=(FloatProgress(value=0.0, description='Training', layout=Layout(flex='2'), max=5000.0, style=Pro…"
      ]
     },
     "metadata": {},
     "output_type": "display_data"
    },
    {
     "name": "stdout",
     "output_type": "stream",
     "text": [
      "Epoch 107: train=3.35352, val=3.15622, took 167.61 s\n"
     ]
    },
    {
     "data": {
      "application/vnd.jupyter.widget-view+json": {
       "model_id": "",
       "version_major": 2,
       "version_minor": 0
      },
      "text/plain": [
       "HBox(children=(FloatProgress(value=0.0, description='Training', layout=Layout(flex='2'), max=5000.0, style=Pro…"
      ]
     },
     "metadata": {},
     "output_type": "display_data"
    },
    {
     "name": "stdout",
     "output_type": "stream",
     "text": [
      "Epoch 108: train=3.35058, val=3.1193, took 169.17 s\n"
     ]
    },
    {
     "data": {
      "application/vnd.jupyter.widget-view+json": {
       "model_id": "",
       "version_major": 2,
       "version_minor": 0
      },
      "text/plain": [
       "HBox(children=(FloatProgress(value=0.0, description='Training', layout=Layout(flex='2'), max=5000.0, style=Pro…"
      ]
     },
     "metadata": {},
     "output_type": "display_data"
    },
    {
     "name": "stdout",
     "output_type": "stream",
     "text": [
      "Epoch 109: train=3.35392, val=3.18105, took 166.55 s\n"
     ]
    },
    {
     "data": {
      "application/vnd.jupyter.widget-view+json": {
       "model_id": "",
       "version_major": 2,
       "version_minor": 0
      },
      "text/plain": [
       "HBox(children=(FloatProgress(value=0.0, description='Training', layout=Layout(flex='2'), max=5000.0, style=Pro…"
      ]
     },
     "metadata": {},
     "output_type": "display_data"
    },
    {
     "name": "stdout",
     "output_type": "stream",
     "text": [
      "Epoch 110: train=3.35173, val=3.182, took 164.12 s\n"
     ]
    },
    {
     "data": {
      "application/vnd.jupyter.widget-view+json": {
       "model_id": "",
       "version_major": 2,
       "version_minor": 0
      },
      "text/plain": [
       "HBox(children=(FloatProgress(value=0.0, description='Training', layout=Layout(flex='2'), max=5000.0, style=Pro…"
      ]
     },
     "metadata": {},
     "output_type": "display_data"
    },
    {
     "name": "stdout",
     "output_type": "stream",
     "text": [
      "Epoch 111: train=3.35253, val=3.17955, took 161.82 s\n"
     ]
    },
    {
     "data": {
      "application/vnd.jupyter.widget-view+json": {
       "model_id": "",
       "version_major": 2,
       "version_minor": 0
      },
      "text/plain": [
       "HBox(children=(FloatProgress(value=0.0, description='Training', layout=Layout(flex='2'), max=5000.0, style=Pro…"
      ]
     },
     "metadata": {},
     "output_type": "display_data"
    },
    {
     "name": "stdout",
     "output_type": "stream",
     "text": [
      "Epoch 112: train=3.35408, val=3.11751, took 160.97 s\n"
     ]
    },
    {
     "data": {
      "application/vnd.jupyter.widget-view+json": {
       "model_id": "",
       "version_major": 2,
       "version_minor": 0
      },
      "text/plain": [
       "HBox(children=(FloatProgress(value=0.0, description='Training', layout=Layout(flex='2'), max=5000.0, style=Pro…"
      ]
     },
     "metadata": {},
     "output_type": "display_data"
    },
    {
     "name": "stdout",
     "output_type": "stream",
     "text": [
      "Epoch 113: train=3.34972, val=3.18673, took 160.49 s\n"
     ]
    },
    {
     "data": {
      "application/vnd.jupyter.widget-view+json": {
       "model_id": "",
       "version_major": 2,
       "version_minor": 0
      },
      "text/plain": [
       "HBox(children=(FloatProgress(value=0.0, description='Training', layout=Layout(flex='2'), max=5000.0, style=Pro…"
      ]
     },
     "metadata": {},
     "output_type": "display_data"
    },
    {
     "name": "stdout",
     "output_type": "stream",
     "text": [
      "Epoch 114: train=3.34866, val=3.14689, took 161.54 s\n"
     ]
    },
    {
     "data": {
      "application/vnd.jupyter.widget-view+json": {
       "model_id": "",
       "version_major": 2,
       "version_minor": 0
      },
      "text/plain": [
       "HBox(children=(FloatProgress(value=0.0, description='Training', layout=Layout(flex='2'), max=5000.0, style=Pro…"
      ]
     },
     "metadata": {},
     "output_type": "display_data"
    },
    {
     "name": "stdout",
     "output_type": "stream",
     "text": [
      "Epoch 115: train=3.34693, val=3.13552, took 159.81 s\n"
     ]
    },
    {
     "data": {
      "application/vnd.jupyter.widget-view+json": {
       "model_id": "",
       "version_major": 2,
       "version_minor": 0
      },
      "text/plain": [
       "HBox(children=(FloatProgress(value=0.0, description='Training', layout=Layout(flex='2'), max=5000.0, style=Pro…"
      ]
     },
     "metadata": {},
     "output_type": "display_data"
    },
    {
     "name": "stdout",
     "output_type": "stream",
     "text": [
      "Epoch 116: train=3.34822, val=3.19443, took 159.03 s\n"
     ]
    },
    {
     "data": {
      "application/vnd.jupyter.widget-view+json": {
       "model_id": "",
       "version_major": 2,
       "version_minor": 0
      },
      "text/plain": [
       "HBox(children=(FloatProgress(value=0.0, description='Training', layout=Layout(flex='2'), max=5000.0, style=Pro…"
      ]
     },
     "metadata": {},
     "output_type": "display_data"
    },
    {
     "name": "stdout",
     "output_type": "stream",
     "text": [
      "Epoch 117: train=3.34892, val=3.36578, took 159.12 s\n"
     ]
    },
    {
     "data": {
      "application/vnd.jupyter.widget-view+json": {
       "model_id": "",
       "version_major": 2,
       "version_minor": 0
      },
      "text/plain": [
       "HBox(children=(FloatProgress(value=0.0, description='Training', layout=Layout(flex='2'), max=5000.0, style=Pro…"
      ]
     },
     "metadata": {},
     "output_type": "display_data"
    },
    {
     "name": "stdout",
     "output_type": "stream",
     "text": [
      "Epoch 118: train=3.35347, val=3.13119, took 160.05 s\n"
     ]
    },
    {
     "data": {
      "application/vnd.jupyter.widget-view+json": {
       "model_id": "",
       "version_major": 2,
       "version_minor": 0
      },
      "text/plain": [
       "HBox(children=(FloatProgress(value=0.0, description='Training', layout=Layout(flex='2'), max=5000.0, style=Pro…"
      ]
     },
     "metadata": {},
     "output_type": "display_data"
    },
    {
     "name": "stdout",
     "output_type": "stream",
     "text": [
      "Epoch 119: train=3.34879, val=3.14098, took 159.49 s\n"
     ]
    },
    {
     "data": {
      "application/vnd.jupyter.widget-view+json": {
       "model_id": "",
       "version_major": 2,
       "version_minor": 0
      },
      "text/plain": [
       "HBox(children=(FloatProgress(value=0.0, description='Training', layout=Layout(flex='2'), max=5000.0, style=Pro…"
      ]
     },
     "metadata": {},
     "output_type": "display_data"
    },
    {
     "name": "stdout",
     "output_type": "stream",
     "text": [
      "Epoch 120: train=3.346, val=3.29379, took 159.6 s\n"
     ]
    },
    {
     "data": {
      "application/vnd.jupyter.widget-view+json": {
       "model_id": "",
       "version_major": 2,
       "version_minor": 0
      },
      "text/plain": [
       "HBox(children=(FloatProgress(value=0.0, description='Training', layout=Layout(flex='2'), max=5000.0, style=Pro…"
      ]
     },
     "metadata": {},
     "output_type": "display_data"
    },
    {
     "name": "stdout",
     "output_type": "stream",
     "text": [
      "Epoch 121: train=3.34813, val=3.12257, took 159.39 s\n"
     ]
    },
    {
     "data": {
      "application/vnd.jupyter.widget-view+json": {
       "model_id": "",
       "version_major": 2,
       "version_minor": 0
      },
      "text/plain": [
       "HBox(children=(FloatProgress(value=0.0, description='Training', layout=Layout(flex='2'), max=5000.0, style=Pro…"
      ]
     },
     "metadata": {},
     "output_type": "display_data"
    },
    {
     "name": "stdout",
     "output_type": "stream",
     "text": [
      "Epoch 122: train=3.34627, val=3.14525, took 159.63 s\n"
     ]
    },
    {
     "data": {
      "application/vnd.jupyter.widget-view+json": {
       "model_id": "",
       "version_major": 2,
       "version_minor": 0
      },
      "text/plain": [
       "HBox(children=(FloatProgress(value=0.0, description='Training', layout=Layout(flex='2'), max=5000.0, style=Pro…"
      ]
     },
     "metadata": {},
     "output_type": "display_data"
    },
    {
     "name": "stdout",
     "output_type": "stream",
     "text": [
      "Epoch 123: train=3.35308, val=3.12822, took 160.6 s\n"
     ]
    },
    {
     "data": {
      "application/vnd.jupyter.widget-view+json": {
       "model_id": "",
       "version_major": 2,
       "version_minor": 0
      },
      "text/plain": [
       "HBox(children=(FloatProgress(value=0.0, description='Training', layout=Layout(flex='2'), max=5000.0, style=Pro…"
      ]
     },
     "metadata": {},
     "output_type": "display_data"
    },
    {
     "name": "stdout",
     "output_type": "stream",
     "text": [
      "Epoch 124: train=3.34136, val=3.16817, took 160.63 s\n"
     ]
    },
    {
     "data": {
      "application/vnd.jupyter.widget-view+json": {
       "model_id": "",
       "version_major": 2,
       "version_minor": 0
      },
      "text/plain": [
       "HBox(children=(FloatProgress(value=0.0, description='Training', layout=Layout(flex='2'), max=5000.0, style=Pro…"
      ]
     },
     "metadata": {},
     "output_type": "display_data"
    },
    {
     "name": "stdout",
     "output_type": "stream",
     "text": [
      "Epoch 125: train=3.34493, val=3.11141, took 160.1 s\n"
     ]
    },
    {
     "data": {
      "application/vnd.jupyter.widget-view+json": {
       "model_id": "",
       "version_major": 2,
       "version_minor": 0
      },
      "text/plain": [
       "HBox(children=(FloatProgress(value=0.0, description='Training', layout=Layout(flex='2'), max=5000.0, style=Pro…"
      ]
     },
     "metadata": {},
     "output_type": "display_data"
    },
    {
     "name": "stdout",
     "output_type": "stream",
     "text": [
      "Epoch 126: train=3.34259, val=3.17093, took 160.18 s\n"
     ]
    },
    {
     "data": {
      "application/vnd.jupyter.widget-view+json": {
       "model_id": "",
       "version_major": 2,
       "version_minor": 0
      },
      "text/plain": [
       "HBox(children=(FloatProgress(value=0.0, description='Training', layout=Layout(flex='2'), max=5000.0, style=Pro…"
      ]
     },
     "metadata": {},
     "output_type": "display_data"
    },
    {
     "name": "stdout",
     "output_type": "stream",
     "text": [
      "Epoch 127: train=3.34153, val=3.1979, took 160.19 s\n"
     ]
    },
    {
     "data": {
      "application/vnd.jupyter.widget-view+json": {
       "model_id": "",
       "version_major": 2,
       "version_minor": 0
      },
      "text/plain": [
       "HBox(children=(FloatProgress(value=0.0, description='Training', layout=Layout(flex='2'), max=5000.0, style=Pro…"
      ]
     },
     "metadata": {},
     "output_type": "display_data"
    },
    {
     "name": "stdout",
     "output_type": "stream",
     "text": [
      "Epoch 128: train=3.34186, val=3.11944, took 161.12 s\n"
     ]
    },
    {
     "data": {
      "application/vnd.jupyter.widget-view+json": {
       "model_id": "",
       "version_major": 2,
       "version_minor": 0
      },
      "text/plain": [
       "HBox(children=(FloatProgress(value=0.0, description='Training', layout=Layout(flex='2'), max=5000.0, style=Pro…"
      ]
     },
     "metadata": {},
     "output_type": "display_data"
    },
    {
     "name": "stdout",
     "output_type": "stream",
     "text": [
      "Epoch 129: train=3.33758, val=3.15335, took 158.93 s\n"
     ]
    },
    {
     "data": {
      "application/vnd.jupyter.widget-view+json": {
       "model_id": "",
       "version_major": 2,
       "version_minor": 0
      },
      "text/plain": [
       "HBox(children=(FloatProgress(value=0.0, description='Training', layout=Layout(flex='2'), max=5000.0, style=Pro…"
      ]
     },
     "metadata": {},
     "output_type": "display_data"
    },
    {
     "name": "stdout",
     "output_type": "stream",
     "text": [
      "Epoch 130: train=3.33701, val=3.11339, took 159.29 s\n"
     ]
    },
    {
     "data": {
      "application/vnd.jupyter.widget-view+json": {
       "model_id": "",
       "version_major": 2,
       "version_minor": 0
      },
      "text/plain": [
       "HBox(children=(FloatProgress(value=0.0, description='Training', layout=Layout(flex='2'), max=5000.0, style=Pro…"
      ]
     },
     "metadata": {},
     "output_type": "display_data"
    },
    {
     "name": "stdout",
     "output_type": "stream",
     "text": [
      "Epoch 131: train=3.33959, val=3.14494, took 158.84 s\n"
     ]
    },
    {
     "data": {
      "application/vnd.jupyter.widget-view+json": {
       "model_id": "",
       "version_major": 2,
       "version_minor": 0
      },
      "text/plain": [
       "HBox(children=(FloatProgress(value=0.0, description='Training', layout=Layout(flex='2'), max=5000.0, style=Pro…"
      ]
     },
     "metadata": {},
     "output_type": "display_data"
    },
    {
     "name": "stdout",
     "output_type": "stream",
     "text": [
      "Epoch 132: train=3.33758, val=3.10562, took 159.41 s\n"
     ]
    },
    {
     "data": {
      "application/vnd.jupyter.widget-view+json": {
       "model_id": "",
       "version_major": 2,
       "version_minor": 0
      },
      "text/plain": [
       "HBox(children=(FloatProgress(value=0.0, description='Training', layout=Layout(flex='2'), max=5000.0, style=Pro…"
      ]
     },
     "metadata": {},
     "output_type": "display_data"
    },
    {
     "name": "stdout",
     "output_type": "stream",
     "text": [
      "Epoch 133: train=3.33964, val=3.11594, took 161.87 s\n"
     ]
    },
    {
     "data": {
      "application/vnd.jupyter.widget-view+json": {
       "model_id": "",
       "version_major": 2,
       "version_minor": 0
      },
      "text/plain": [
       "HBox(children=(FloatProgress(value=0.0, description='Training', layout=Layout(flex='2'), max=5000.0, style=Pro…"
      ]
     },
     "metadata": {},
     "output_type": "display_data"
    },
    {
     "name": "stdout",
     "output_type": "stream",
     "text": [
      "Epoch 134: train=3.33455, val=3.10461, took 161.24 s\n"
     ]
    },
    {
     "data": {
      "application/vnd.jupyter.widget-view+json": {
       "model_id": "",
       "version_major": 2,
       "version_minor": 0
      },
      "text/plain": [
       "HBox(children=(FloatProgress(value=0.0, description='Training', layout=Layout(flex='2'), max=5000.0, style=Pro…"
      ]
     },
     "metadata": {},
     "output_type": "display_data"
    },
    {
     "name": "stdout",
     "output_type": "stream",
     "text": [
      "Epoch 135: train=3.3359, val=3.2144, took 161.43 s\n"
     ]
    },
    {
     "data": {
      "application/vnd.jupyter.widget-view+json": {
       "model_id": "",
       "version_major": 2,
       "version_minor": 0
      },
      "text/plain": [
       "HBox(children=(FloatProgress(value=0.0, description='Training', layout=Layout(flex='2'), max=5000.0, style=Pro…"
      ]
     },
     "metadata": {},
     "output_type": "display_data"
    },
    {
     "name": "stdout",
     "output_type": "stream",
     "text": [
      "Epoch 136: train=3.34053, val=3.14259, took 160.16 s\n"
     ]
    },
    {
     "data": {
      "application/vnd.jupyter.widget-view+json": {
       "model_id": "",
       "version_major": 2,
       "version_minor": 0
      },
      "text/plain": [
       "HBox(children=(FloatProgress(value=0.0, description='Training', layout=Layout(flex='2'), max=5000.0, style=Pro…"
      ]
     },
     "metadata": {},
     "output_type": "display_data"
    },
    {
     "name": "stdout",
     "output_type": "stream",
     "text": [
      "Epoch 137: train=3.33622, val=3.17199, took 158.97 s\n"
     ]
    },
    {
     "data": {
      "application/vnd.jupyter.widget-view+json": {
       "model_id": "",
       "version_major": 2,
       "version_minor": 0
      },
      "text/plain": [
       "HBox(children=(FloatProgress(value=0.0, description='Training', layout=Layout(flex='2'), max=5000.0, style=Pro…"
      ]
     },
     "metadata": {},
     "output_type": "display_data"
    },
    {
     "name": "stdout",
     "output_type": "stream",
     "text": [
      "Epoch 138: train=3.33313, val=3.10193, took 158.97 s\n"
     ]
    },
    {
     "data": {
      "application/vnd.jupyter.widget-view+json": {
       "model_id": "",
       "version_major": 2,
       "version_minor": 0
      },
      "text/plain": [
       "HBox(children=(FloatProgress(value=0.0, description='Training', layout=Layout(flex='2'), max=5000.0, style=Pro…"
      ]
     },
     "metadata": {},
     "output_type": "display_data"
    },
    {
     "name": "stdout",
     "output_type": "stream",
     "text": [
      "Epoch 139: train=3.33247, val=3.13264, took 162.92 s\n"
     ]
    },
    {
     "data": {
      "application/vnd.jupyter.widget-view+json": {
       "model_id": "",
       "version_major": 2,
       "version_minor": 0
      },
      "text/plain": [
       "HBox(children=(FloatProgress(value=0.0, description='Training', layout=Layout(flex='2'), max=5000.0, style=Pro…"
      ]
     },
     "metadata": {},
     "output_type": "display_data"
    },
    {
     "name": "stdout",
     "output_type": "stream",
     "text": [
      "Epoch 140: train=3.33308, val=3.28278, took 158.75 s\n"
     ]
    },
    {
     "data": {
      "application/vnd.jupyter.widget-view+json": {
       "model_id": "",
       "version_major": 2,
       "version_minor": 0
      },
      "text/plain": [
       "HBox(children=(FloatProgress(value=0.0, description='Training', layout=Layout(flex='2'), max=5000.0, style=Pro…"
      ]
     },
     "metadata": {},
     "output_type": "display_data"
    },
    {
     "name": "stdout",
     "output_type": "stream",
     "text": [
      "Epoch 141: train=3.32989, val=3.12249, took 162.65 s\n"
     ]
    },
    {
     "data": {
      "application/vnd.jupyter.widget-view+json": {
       "model_id": "",
       "version_major": 2,
       "version_minor": 0
      },
      "text/plain": [
       "HBox(children=(FloatProgress(value=0.0, description='Training', layout=Layout(flex='2'), max=5000.0, style=Pro…"
      ]
     },
     "metadata": {},
     "output_type": "display_data"
    },
    {
     "name": "stdout",
     "output_type": "stream",
     "text": [
      "Epoch 142: train=3.33179, val=3.35291, took 159.22 s\n"
     ]
    },
    {
     "data": {
      "application/vnd.jupyter.widget-view+json": {
       "model_id": "",
       "version_major": 2,
       "version_minor": 0
      },
      "text/plain": [
       "HBox(children=(FloatProgress(value=0.0, description='Training', layout=Layout(flex='2'), max=5000.0, style=Pro…"
      ]
     },
     "metadata": {},
     "output_type": "display_data"
    },
    {
     "name": "stdout",
     "output_type": "stream",
     "text": [
      "Epoch 143: train=3.33588, val=3.12962, took 159.75 s\n"
     ]
    },
    {
     "data": {
      "application/vnd.jupyter.widget-view+json": {
       "model_id": "",
       "version_major": 2,
       "version_minor": 0
      },
      "text/plain": [
       "HBox(children=(FloatProgress(value=0.0, description='Training', layout=Layout(flex='2'), max=5000.0, style=Pro…"
      ]
     },
     "metadata": {},
     "output_type": "display_data"
    },
    {
     "name": "stdout",
     "output_type": "stream",
     "text": [
      "Epoch 144: train=3.33225, val=3.11577, took 159.1 s\n"
     ]
    },
    {
     "data": {
      "application/vnd.jupyter.widget-view+json": {
       "model_id": "",
       "version_major": 2,
       "version_minor": 0
      },
      "text/plain": [
       "HBox(children=(FloatProgress(value=0.0, description='Training', layout=Layout(flex='2'), max=5000.0, style=Pro…"
      ]
     },
     "metadata": {},
     "output_type": "display_data"
    },
    {
     "name": "stdout",
     "output_type": "stream",
     "text": [
      "Epoch 145: train=3.33024, val=3.10463, took 158.74 s\n"
     ]
    },
    {
     "data": {
      "application/vnd.jupyter.widget-view+json": {
       "model_id": "",
       "version_major": 2,
       "version_minor": 0
      },
      "text/plain": [
       "HBox(children=(FloatProgress(value=0.0, description='Training', layout=Layout(flex='2'), max=5000.0, style=Pro…"
      ]
     },
     "metadata": {},
     "output_type": "display_data"
    },
    {
     "name": "stdout",
     "output_type": "stream",
     "text": [
      "Epoch 146: train=3.33684, val=3.10339, took 159.19 s\n"
     ]
    },
    {
     "data": {
      "application/vnd.jupyter.widget-view+json": {
       "model_id": "",
       "version_major": 2,
       "version_minor": 0
      },
      "text/plain": [
       "HBox(children=(FloatProgress(value=0.0, description='Training', layout=Layout(flex='2'), max=5000.0, style=Pro…"
      ]
     },
     "metadata": {},
     "output_type": "display_data"
    },
    {
     "name": "stdout",
     "output_type": "stream",
     "text": [
      "Epoch 147: train=3.3337, val=3.10006, took 159.34 s\n"
     ]
    },
    {
     "data": {
      "application/vnd.jupyter.widget-view+json": {
       "model_id": "",
       "version_major": 2,
       "version_minor": 0
      },
      "text/plain": [
       "HBox(children=(FloatProgress(value=0.0, description='Training', layout=Layout(flex='2'), max=5000.0, style=Pro…"
      ]
     },
     "metadata": {},
     "output_type": "display_data"
    },
    {
     "name": "stdout",
     "output_type": "stream",
     "text": [
      "Epoch 148: train=3.33309, val=3.28022, took 160.99 s\n"
     ]
    },
    {
     "data": {
      "application/vnd.jupyter.widget-view+json": {
       "model_id": "",
       "version_major": 2,
       "version_minor": 0
      },
      "text/plain": [
       "HBox(children=(FloatProgress(value=0.0, description='Training', layout=Layout(flex='2'), max=5000.0, style=Pro…"
      ]
     },
     "metadata": {},
     "output_type": "display_data"
    },
    {
     "name": "stdout",
     "output_type": "stream",
     "text": [
      "Epoch 149: train=3.32817, val=3.10251, took 160.92 s\n"
     ]
    },
    {
     "data": {
      "application/vnd.jupyter.widget-view+json": {
       "model_id": "",
       "version_major": 2,
       "version_minor": 0
      },
      "text/plain": [
       "HBox(children=(FloatProgress(value=0.0, description='Training', layout=Layout(flex='2'), max=5000.0, style=Pro…"
      ]
     },
     "metadata": {},
     "output_type": "display_data"
    },
    {
     "name": "stdout",
     "output_type": "stream",
     "text": [
      "Epoch 150: train=3.33542, val=3.14918, took 159.34 s\n"
     ]
    },
    {
     "data": {
      "application/vnd.jupyter.widget-view+json": {
       "model_id": "",
       "version_major": 2,
       "version_minor": 0
      },
      "text/plain": [
       "HBox(children=(FloatProgress(value=0.0, description='Training', layout=Layout(flex='2'), max=5000.0, style=Pro…"
      ]
     },
     "metadata": {},
     "output_type": "display_data"
    },
    {
     "name": "stdout",
     "output_type": "stream",
     "text": [
      "Epoch 151: train=3.32979, val=3.1032, took 160.52 s\n"
     ]
    },
    {
     "data": {
      "application/vnd.jupyter.widget-view+json": {
       "model_id": "",
       "version_major": 2,
       "version_minor": 0
      },
      "text/plain": [
       "HBox(children=(FloatProgress(value=0.0, description='Training', layout=Layout(flex='2'), max=5000.0, style=Pro…"
      ]
     },
     "metadata": {},
     "output_type": "display_data"
    },
    {
     "name": "stdout",
     "output_type": "stream",
     "text": [
      "Epoch 152: train=3.3281, val=3.15553, took 159.73 s\n"
     ]
    },
    {
     "data": {
      "application/vnd.jupyter.widget-view+json": {
       "model_id": "",
       "version_major": 2,
       "version_minor": 0
      },
      "text/plain": [
       "HBox(children=(FloatProgress(value=0.0, description='Training', layout=Layout(flex='2'), max=5000.0, style=Pro…"
      ]
     },
     "metadata": {},
     "output_type": "display_data"
    },
    {
     "name": "stdout",
     "output_type": "stream",
     "text": [
      "Epoch 153: train=3.3264, val=3.19098, took 161.11 s\n"
     ]
    },
    {
     "data": {
      "application/vnd.jupyter.widget-view+json": {
       "model_id": "",
       "version_major": 2,
       "version_minor": 0
      },
      "text/plain": [
       "HBox(children=(FloatProgress(value=0.0, description='Training', layout=Layout(flex='2'), max=5000.0, style=Pro…"
      ]
     },
     "metadata": {},
     "output_type": "display_data"
    },
    {
     "name": "stdout",
     "output_type": "stream",
     "text": [
      "Epoch 154: train=3.33111, val=3.17549, took 160.17 s\n"
     ]
    },
    {
     "data": {
      "application/vnd.jupyter.widget-view+json": {
       "model_id": "",
       "version_major": 2,
       "version_minor": 0
      },
      "text/plain": [
       "HBox(children=(FloatProgress(value=0.0, description='Training', layout=Layout(flex='2'), max=5000.0, style=Pro…"
      ]
     },
     "metadata": {},
     "output_type": "display_data"
    },
    {
     "name": "stdout",
     "output_type": "stream",
     "text": [
      "Epoch 155: train=3.32726, val=3.13271, took 159.52 s\n"
     ]
    },
    {
     "data": {
      "application/vnd.jupyter.widget-view+json": {
       "model_id": "",
       "version_major": 2,
       "version_minor": 0
      },
      "text/plain": [
       "HBox(children=(FloatProgress(value=0.0, description='Training', layout=Layout(flex='2'), max=5000.0, style=Pro…"
      ]
     },
     "metadata": {},
     "output_type": "display_data"
    },
    {
     "name": "stdout",
     "output_type": "stream",
     "text": [
      "Epoch 156: train=3.32968, val=3.21705, took 159.55 s\n"
     ]
    },
    {
     "data": {
      "application/vnd.jupyter.widget-view+json": {
       "model_id": "",
       "version_major": 2,
       "version_minor": 0
      },
      "text/plain": [
       "HBox(children=(FloatProgress(value=0.0, description='Training', layout=Layout(flex='2'), max=5000.0, style=Pro…"
      ]
     },
     "metadata": {},
     "output_type": "display_data"
    },
    {
     "name": "stdout",
     "output_type": "stream",
     "text": [
      "Epoch 157: train=3.33145, val=3.1121, took 159.39 s\n"
     ]
    },
    {
     "data": {
      "application/vnd.jupyter.widget-view+json": {
       "model_id": "",
       "version_major": 2,
       "version_minor": 0
      },
      "text/plain": [
       "HBox(children=(FloatProgress(value=0.0, description='Training', layout=Layout(flex='2'), max=5000.0, style=Pro…"
      ]
     },
     "metadata": {},
     "output_type": "display_data"
    },
    {
     "name": "stdout",
     "output_type": "stream",
     "text": [
      "Epoch 158: train=3.32916, val=3.09771, took 160.31 s\n"
     ]
    },
    {
     "data": {
      "application/vnd.jupyter.widget-view+json": {
       "model_id": "",
       "version_major": 2,
       "version_minor": 0
      },
      "text/plain": [
       "HBox(children=(FloatProgress(value=0.0, description='Training', layout=Layout(flex='2'), max=5000.0, style=Pro…"
      ]
     },
     "metadata": {},
     "output_type": "display_data"
    },
    {
     "name": "stdout",
     "output_type": "stream",
     "text": [
      "Epoch 159: train=3.32773, val=3.1036, took 159.59 s\n"
     ]
    },
    {
     "data": {
      "application/vnd.jupyter.widget-view+json": {
       "model_id": "",
       "version_major": 2,
       "version_minor": 0
      },
      "text/plain": [
       "HBox(children=(FloatProgress(value=0.0, description='Training', layout=Layout(flex='2'), max=5000.0, style=Pro…"
      ]
     },
     "metadata": {},
     "output_type": "display_data"
    },
    {
     "name": "stdout",
     "output_type": "stream",
     "text": [
      "Epoch 160: train=3.32994, val=3.19538, took 160.96 s\n"
     ]
    },
    {
     "data": {
      "application/vnd.jupyter.widget-view+json": {
       "model_id": "",
       "version_major": 2,
       "version_minor": 0
      },
      "text/plain": [
       "HBox(children=(FloatProgress(value=0.0, description='Training', layout=Layout(flex='2'), max=5000.0, style=Pro…"
      ]
     },
     "metadata": {},
     "output_type": "display_data"
    },
    {
     "name": "stdout",
     "output_type": "stream",
     "text": [
      "Epoch 161: train=3.32674, val=3.1075, took 159.35 s\n"
     ]
    },
    {
     "data": {
      "application/vnd.jupyter.widget-view+json": {
       "model_id": "",
       "version_major": 2,
       "version_minor": 0
      },
      "text/plain": [
       "HBox(children=(FloatProgress(value=0.0, description='Training', layout=Layout(flex='2'), max=5000.0, style=Pro…"
      ]
     },
     "metadata": {},
     "output_type": "display_data"
    },
    {
     "name": "stdout",
     "output_type": "stream",
     "text": [
      "Epoch 162: train=3.32399, val=3.09831, took 159.86 s\n"
     ]
    },
    {
     "data": {
      "application/vnd.jupyter.widget-view+json": {
       "model_id": "",
       "version_major": 2,
       "version_minor": 0
      },
      "text/plain": [
       "HBox(children=(FloatProgress(value=0.0, description='Training', layout=Layout(flex='2'), max=5000.0, style=Pro…"
      ]
     },
     "metadata": {},
     "output_type": "display_data"
    },
    {
     "name": "stdout",
     "output_type": "stream",
     "text": [
      "Epoch 163: train=3.32786, val=3.12819, took 159.49 s\n"
     ]
    },
    {
     "data": {
      "application/vnd.jupyter.widget-view+json": {
       "model_id": "",
       "version_major": 2,
       "version_minor": 0
      },
      "text/plain": [
       "HBox(children=(FloatProgress(value=0.0, description='Training', layout=Layout(flex='2'), max=5000.0, style=Pro…"
      ]
     },
     "metadata": {},
     "output_type": "display_data"
    },
    {
     "name": "stdout",
     "output_type": "stream",
     "text": [
      "Epoch 164: train=3.32482, val=3.164, took 160.62 s\n"
     ]
    },
    {
     "data": {
      "application/vnd.jupyter.widget-view+json": {
       "model_id": "",
       "version_major": 2,
       "version_minor": 0
      },
      "text/plain": [
       "HBox(children=(FloatProgress(value=0.0, description='Training', layout=Layout(flex='2'), max=5000.0, style=Pro…"
      ]
     },
     "metadata": {},
     "output_type": "display_data"
    },
    {
     "name": "stdout",
     "output_type": "stream",
     "text": [
      "Epoch 165: train=3.32394, val=3.09466, took 160.23 s\n"
     ]
    },
    {
     "data": {
      "application/vnd.jupyter.widget-view+json": {
       "model_id": "",
       "version_major": 2,
       "version_minor": 0
      },
      "text/plain": [
       "HBox(children=(FloatProgress(value=0.0, description='Training', layout=Layout(flex='2'), max=5000.0, style=Pro…"
      ]
     },
     "metadata": {},
     "output_type": "display_data"
    },
    {
     "name": "stdout",
     "output_type": "stream",
     "text": [
      "Epoch 166: train=3.32566, val=3.16148, took 160.02 s\n"
     ]
    },
    {
     "data": {
      "application/vnd.jupyter.widget-view+json": {
       "model_id": "",
       "version_major": 2,
       "version_minor": 0
      },
      "text/plain": [
       "HBox(children=(FloatProgress(value=0.0, description='Training', layout=Layout(flex='2'), max=5000.0, style=Pro…"
      ]
     },
     "metadata": {},
     "output_type": "display_data"
    },
    {
     "name": "stdout",
     "output_type": "stream",
     "text": [
      "Epoch 167: train=3.32427, val=3.09632, took 159.31 s\n"
     ]
    },
    {
     "data": {
      "application/vnd.jupyter.widget-view+json": {
       "model_id": "",
       "version_major": 2,
       "version_minor": 0
      },
      "text/plain": [
       "HBox(children=(FloatProgress(value=0.0, description='Training', layout=Layout(flex='2'), max=5000.0, style=Pro…"
      ]
     },
     "metadata": {},
     "output_type": "display_data"
    },
    {
     "name": "stdout",
     "output_type": "stream",
     "text": [
      "Epoch 168: train=3.32568, val=3.25527, took 159.69 s\n"
     ]
    },
    {
     "data": {
      "application/vnd.jupyter.widget-view+json": {
       "model_id": "",
       "version_major": 2,
       "version_minor": 0
      },
      "text/plain": [
       "HBox(children=(FloatProgress(value=0.0, description='Training', layout=Layout(flex='2'), max=5000.0, style=Pro…"
      ]
     },
     "metadata": {},
     "output_type": "display_data"
    },
    {
     "name": "stdout",
     "output_type": "stream",
     "text": [
      "Epoch 169: train=3.32435, val=3.10576, took 159.53 s\n"
     ]
    },
    {
     "data": {
      "application/vnd.jupyter.widget-view+json": {
       "model_id": "",
       "version_major": 2,
       "version_minor": 0
      },
      "text/plain": [
       "HBox(children=(FloatProgress(value=0.0, description='Training', layout=Layout(flex='2'), max=5000.0, style=Pro…"
      ]
     },
     "metadata": {},
     "output_type": "display_data"
    },
    {
     "name": "stdout",
     "output_type": "stream",
     "text": [
      "Epoch 170: train=3.32348, val=3.09942, took 159.42 s\n"
     ]
    },
    {
     "data": {
      "application/vnd.jupyter.widget-view+json": {
       "model_id": "",
       "version_major": 2,
       "version_minor": 0
      },
      "text/plain": [
       "HBox(children=(FloatProgress(value=0.0, description='Training', layout=Layout(flex='2'), max=5000.0, style=Pro…"
      ]
     },
     "metadata": {},
     "output_type": "display_data"
    },
    {
     "name": "stdout",
     "output_type": "stream",
     "text": [
      "Epoch 171: train=3.32217, val=3.18461, took 159.32 s\n"
     ]
    },
    {
     "data": {
      "application/vnd.jupyter.widget-view+json": {
       "model_id": "",
       "version_major": 2,
       "version_minor": 0
      },
      "text/plain": [
       "HBox(children=(FloatProgress(value=0.0, description='Training', layout=Layout(flex='2'), max=5000.0, style=Pro…"
      ]
     },
     "metadata": {},
     "output_type": "display_data"
    },
    {
     "name": "stdout",
     "output_type": "stream",
     "text": [
      "Epoch 172: train=3.32262, val=3.15907, took 159.21 s\n"
     ]
    },
    {
     "data": {
      "application/vnd.jupyter.widget-view+json": {
       "model_id": "",
       "version_major": 2,
       "version_minor": 0
      },
      "text/plain": [
       "HBox(children=(FloatProgress(value=0.0, description='Training', layout=Layout(flex='2'), max=5000.0, style=Pro…"
      ]
     },
     "metadata": {},
     "output_type": "display_data"
    },
    {
     "name": "stdout",
     "output_type": "stream",
     "text": [
      "Epoch 173: train=3.32313, val=3.1048, took 159.76 s\n"
     ]
    },
    {
     "data": {
      "application/vnd.jupyter.widget-view+json": {
       "model_id": "",
       "version_major": 2,
       "version_minor": 0
      },
      "text/plain": [
       "HBox(children=(FloatProgress(value=0.0, description='Training', layout=Layout(flex='2'), max=5000.0, style=Pro…"
      ]
     },
     "metadata": {},
     "output_type": "display_data"
    },
    {
     "name": "stdout",
     "output_type": "stream",
     "text": [
      "Epoch 174: train=3.32052, val=3.19028, took 159.78 s\n"
     ]
    },
    {
     "data": {
      "application/vnd.jupyter.widget-view+json": {
       "model_id": "",
       "version_major": 2,
       "version_minor": 0
      },
      "text/plain": [
       "HBox(children=(FloatProgress(value=0.0, description='Training', layout=Layout(flex='2'), max=5000.0, style=Pro…"
      ]
     },
     "metadata": {},
     "output_type": "display_data"
    },
    {
     "name": "stdout",
     "output_type": "stream",
     "text": [
      "Epoch 175: train=3.31994, val=3.09508, took 159.4 s\n"
     ]
    },
    {
     "data": {
      "application/vnd.jupyter.widget-view+json": {
       "model_id": "",
       "version_major": 2,
       "version_minor": 0
      },
      "text/plain": [
       "HBox(children=(FloatProgress(value=0.0, description='Training', layout=Layout(flex='2'), max=5000.0, style=Pro…"
      ]
     },
     "metadata": {},
     "output_type": "display_data"
    },
    {
     "name": "stdout",
     "output_type": "stream",
     "text": [
      "Epoch 176: train=3.32056, val=3.18221, took 159.42 s\n"
     ]
    },
    {
     "data": {
      "application/vnd.jupyter.widget-view+json": {
       "model_id": "",
       "version_major": 2,
       "version_minor": 0
      },
      "text/plain": [
       "HBox(children=(FloatProgress(value=0.0, description='Training', layout=Layout(flex='2'), max=5000.0, style=Pro…"
      ]
     },
     "metadata": {},
     "output_type": "display_data"
    },
    {
     "name": "stdout",
     "output_type": "stream",
     "text": [
      "Epoch 177: train=3.31922, val=3.15584, took 161.08 s\n"
     ]
    },
    {
     "data": {
      "application/vnd.jupyter.widget-view+json": {
       "model_id": "",
       "version_major": 2,
       "version_minor": 0
      },
      "text/plain": [
       "HBox(children=(FloatProgress(value=0.0, description='Training', layout=Layout(flex='2'), max=5000.0, style=Pro…"
      ]
     },
     "metadata": {},
     "output_type": "display_data"
    },
    {
     "name": "stdout",
     "output_type": "stream",
     "text": [
      "Epoch 178: train=3.31953, val=3.18108, took 162.57 s\n"
     ]
    },
    {
     "data": {
      "application/vnd.jupyter.widget-view+json": {
       "model_id": "",
       "version_major": 2,
       "version_minor": 0
      },
      "text/plain": [
       "HBox(children=(FloatProgress(value=0.0, description='Training', layout=Layout(flex='2'), max=5000.0, style=Pro…"
      ]
     },
     "metadata": {},
     "output_type": "display_data"
    },
    {
     "name": "stdout",
     "output_type": "stream",
     "text": [
      "Epoch 179: train=3.32169, val=3.10153, took 159.81 s\n"
     ]
    },
    {
     "data": {
      "application/vnd.jupyter.widget-view+json": {
       "model_id": "",
       "version_major": 2,
       "version_minor": 0
      },
      "text/plain": [
       "HBox(children=(FloatProgress(value=0.0, description='Training', layout=Layout(flex='2'), max=5000.0, style=Pro…"
      ]
     },
     "metadata": {},
     "output_type": "display_data"
    },
    {
     "name": "stdout",
     "output_type": "stream",
     "text": [
      "Epoch 180: train=3.31582, val=3.0989, took 161.3 s\n"
     ]
    },
    {
     "data": {
      "application/vnd.jupyter.widget-view+json": {
       "model_id": "",
       "version_major": 2,
       "version_minor": 0
      },
      "text/plain": [
       "HBox(children=(FloatProgress(value=0.0, description='Training', layout=Layout(flex='2'), max=5000.0, style=Pro…"
      ]
     },
     "metadata": {},
     "output_type": "display_data"
    },
    {
     "name": "stdout",
     "output_type": "stream",
     "text": [
      "Epoch 181: train=3.31737, val=3.20457, took 160.64 s\n"
     ]
    },
    {
     "data": {
      "application/vnd.jupyter.widget-view+json": {
       "model_id": "",
       "version_major": 2,
       "version_minor": 0
      },
      "text/plain": [
       "HBox(children=(FloatProgress(value=0.0, description='Training', layout=Layout(flex='2'), max=5000.0, style=Pro…"
      ]
     },
     "metadata": {},
     "output_type": "display_data"
    },
    {
     "name": "stdout",
     "output_type": "stream",
     "text": [
      "Epoch 182: train=3.32013, val=3.12366, took 161.36 s\n"
     ]
    },
    {
     "data": {
      "application/vnd.jupyter.widget-view+json": {
       "model_id": "",
       "version_major": 2,
       "version_minor": 0
      },
      "text/plain": [
       "HBox(children=(FloatProgress(value=0.0, description='Training', layout=Layout(flex='2'), max=5000.0, style=Pro…"
      ]
     },
     "metadata": {},
     "output_type": "display_data"
    },
    {
     "name": "stdout",
     "output_type": "stream",
     "text": [
      "Epoch 183: train=3.31506, val=3.25153, took 161.43 s\n"
     ]
    },
    {
     "data": {
      "application/vnd.jupyter.widget-view+json": {
       "model_id": "",
       "version_major": 2,
       "version_minor": 0
      },
      "text/plain": [
       "HBox(children=(FloatProgress(value=0.0, description='Training', layout=Layout(flex='2'), max=5000.0, style=Pro…"
      ]
     },
     "metadata": {},
     "output_type": "display_data"
    },
    {
     "name": "stdout",
     "output_type": "stream",
     "text": [
      "Epoch 184: train=3.31838, val=3.14102, took 158.55 s\n"
     ]
    },
    {
     "data": {
      "application/vnd.jupyter.widget-view+json": {
       "model_id": "",
       "version_major": 2,
       "version_minor": 0
      },
      "text/plain": [
       "HBox(children=(FloatProgress(value=0.0, description='Training', layout=Layout(flex='2'), max=5000.0, style=Pro…"
      ]
     },
     "metadata": {},
     "output_type": "display_data"
    },
    {
     "name": "stdout",
     "output_type": "stream",
     "text": [
      "Epoch 185: train=3.31739, val=3.089, took 160.77 s\n"
     ]
    },
    {
     "data": {
      "application/vnd.jupyter.widget-view+json": {
       "model_id": "",
       "version_major": 2,
       "version_minor": 0
      },
      "text/plain": [
       "HBox(children=(FloatProgress(value=0.0, description='Training', layout=Layout(flex='2'), max=5000.0, style=Pro…"
      ]
     },
     "metadata": {},
     "output_type": "display_data"
    },
    {
     "name": "stdout",
     "output_type": "stream",
     "text": [
      "Epoch 186: train=3.31314, val=3.09837, took 159.22 s\n"
     ]
    },
    {
     "data": {
      "application/vnd.jupyter.widget-view+json": {
       "model_id": "",
       "version_major": 2,
       "version_minor": 0
      },
      "text/plain": [
       "HBox(children=(FloatProgress(value=0.0, description='Training', layout=Layout(flex='2'), max=5000.0, style=Pro…"
      ]
     },
     "metadata": {},
     "output_type": "display_data"
    },
    {
     "name": "stdout",
     "output_type": "stream",
     "text": [
      "Epoch 187: train=3.31691, val=3.11367, took 165.68 s\n"
     ]
    },
    {
     "data": {
      "application/vnd.jupyter.widget-view+json": {
       "model_id": "",
       "version_major": 2,
       "version_minor": 0
      },
      "text/plain": [
       "HBox(children=(FloatProgress(value=0.0, description='Training', layout=Layout(flex='2'), max=5000.0, style=Pro…"
      ]
     },
     "metadata": {},
     "output_type": "display_data"
    },
    {
     "name": "stdout",
     "output_type": "stream",
     "text": [
      "Epoch 188: train=3.31743, val=3.17221, took 158.06 s\n"
     ]
    },
    {
     "data": {
      "application/vnd.jupyter.widget-view+json": {
       "model_id": "",
       "version_major": 2,
       "version_minor": 0
      },
      "text/plain": [
       "HBox(children=(FloatProgress(value=0.0, description='Training', layout=Layout(flex='2'), max=5000.0, style=Pro…"
      ]
     },
     "metadata": {},
     "output_type": "display_data"
    },
    {
     "name": "stdout",
     "output_type": "stream",
     "text": [
      "Epoch 189: train=3.31585, val=3.08721, took 161.17 s\n"
     ]
    },
    {
     "data": {
      "application/vnd.jupyter.widget-view+json": {
       "model_id": "",
       "version_major": 2,
       "version_minor": 0
      },
      "text/plain": [
       "HBox(children=(FloatProgress(value=0.0, description='Training', layout=Layout(flex='2'), max=5000.0, style=Pro…"
      ]
     },
     "metadata": {},
     "output_type": "display_data"
    },
    {
     "name": "stdout",
     "output_type": "stream",
     "text": [
      "Epoch 190: train=3.31303, val=3.08819, took 158.49 s\n"
     ]
    },
    {
     "data": {
      "application/vnd.jupyter.widget-view+json": {
       "model_id": "",
       "version_major": 2,
       "version_minor": 0
      },
      "text/plain": [
       "HBox(children=(FloatProgress(value=0.0, description='Training', layout=Layout(flex='2'), max=5000.0, style=Pro…"
      ]
     },
     "metadata": {},
     "output_type": "display_data"
    },
    {
     "name": "stdout",
     "output_type": "stream",
     "text": [
      "Epoch 191: train=3.31666, val=3.18512, took 158.98 s\n"
     ]
    },
    {
     "data": {
      "application/vnd.jupyter.widget-view+json": {
       "model_id": "",
       "version_major": 2,
       "version_minor": 0
      },
      "text/plain": [
       "HBox(children=(FloatProgress(value=0.0, description='Training', layout=Layout(flex='2'), max=5000.0, style=Pro…"
      ]
     },
     "metadata": {},
     "output_type": "display_data"
    },
    {
     "name": "stdout",
     "output_type": "stream",
     "text": [
      "Epoch 192: train=3.31389, val=3.12928, took 160.05 s\n"
     ]
    },
    {
     "data": {
      "application/vnd.jupyter.widget-view+json": {
       "model_id": "",
       "version_major": 2,
       "version_minor": 0
      },
      "text/plain": [
       "HBox(children=(FloatProgress(value=0.0, description='Training', layout=Layout(flex='2'), max=5000.0, style=Pro…"
      ]
     },
     "metadata": {},
     "output_type": "display_data"
    },
    {
     "name": "stdout",
     "output_type": "stream",
     "text": [
      "Epoch 193: train=3.31086, val=3.14058, took 159.75 s\n"
     ]
    },
    {
     "data": {
      "application/vnd.jupyter.widget-view+json": {
       "model_id": "",
       "version_major": 2,
       "version_minor": 0
      },
      "text/plain": [
       "HBox(children=(FloatProgress(value=0.0, description='Training', layout=Layout(flex='2'), max=5000.0, style=Pro…"
      ]
     },
     "metadata": {},
     "output_type": "display_data"
    },
    {
     "name": "stdout",
     "output_type": "stream",
     "text": [
      "Epoch 194: train=3.31675, val=3.08977, took 158.4 s\n"
     ]
    },
    {
     "data": {
      "application/vnd.jupyter.widget-view+json": {
       "model_id": "",
       "version_major": 2,
       "version_minor": 0
      },
      "text/plain": [
       "HBox(children=(FloatProgress(value=0.0, description='Training', layout=Layout(flex='2'), max=5000.0, style=Pro…"
      ]
     },
     "metadata": {},
     "output_type": "display_data"
    },
    {
     "name": "stdout",
     "output_type": "stream",
     "text": [
      "Epoch 195: train=3.31765, val=3.12412, took 160.11 s\n"
     ]
    },
    {
     "data": {
      "application/vnd.jupyter.widget-view+json": {
       "model_id": "",
       "version_major": 2,
       "version_minor": 0
      },
      "text/plain": [
       "HBox(children=(FloatProgress(value=0.0, description='Training', layout=Layout(flex='2'), max=5000.0, style=Pro…"
      ]
     },
     "metadata": {},
     "output_type": "display_data"
    },
    {
     "name": "stdout",
     "output_type": "stream",
     "text": [
      "Epoch 196: train=3.31602, val=3.19884, took 159.5 s\n"
     ]
    },
    {
     "data": {
      "application/vnd.jupyter.widget-view+json": {
       "model_id": "",
       "version_major": 2,
       "version_minor": 0
      },
      "text/plain": [
       "HBox(children=(FloatProgress(value=0.0, description='Training', layout=Layout(flex='2'), max=5000.0, style=Pro…"
      ]
     },
     "metadata": {},
     "output_type": "display_data"
    },
    {
     "name": "stdout",
     "output_type": "stream",
     "text": [
      "Epoch 197: train=3.31731, val=3.13057, took 160.07 s\n"
     ]
    },
    {
     "data": {
      "application/vnd.jupyter.widget-view+json": {
       "model_id": "",
       "version_major": 2,
       "version_minor": 0
      },
      "text/plain": [
       "HBox(children=(FloatProgress(value=0.0, description='Training', layout=Layout(flex='2'), max=5000.0, style=Pro…"
      ]
     },
     "metadata": {},
     "output_type": "display_data"
    },
    {
     "name": "stdout",
     "output_type": "stream",
     "text": [
      "Epoch 198: train=3.31159, val=3.15336, took 159.85 s\n"
     ]
    },
    {
     "data": {
      "application/vnd.jupyter.widget-view+json": {
       "model_id": "",
       "version_major": 2,
       "version_minor": 0
      },
      "text/plain": [
       "HBox(children=(FloatProgress(value=0.0, description='Training', layout=Layout(flex='2'), max=5000.0, style=Pro…"
      ]
     },
     "metadata": {},
     "output_type": "display_data"
    },
    {
     "name": "stdout",
     "output_type": "stream",
     "text": [
      "Epoch 199: train=3.31166, val=3.13963, took 159.85 s\n"
     ]
    },
    {
     "data": {
      "application/vnd.jupyter.widget-view+json": {
       "model_id": "",
       "version_major": 2,
       "version_minor": 0
      },
      "text/plain": [
       "HBox(children=(FloatProgress(value=0.0, description='Training', layout=Layout(flex='2'), max=5000.0, style=Pro…"
      ]
     },
     "metadata": {},
     "output_type": "display_data"
    },
    {
     "name": "stdout",
     "output_type": "stream",
     "text": [
      "Epoch 200: train=3.31558, val=3.14375, took 160.63 s\n"
     ]
    },
    {
     "data": {
      "application/vnd.jupyter.widget-view+json": {
       "model_id": "",
       "version_major": 2,
       "version_minor": 0
      },
      "text/plain": [
       "HBox(children=(FloatProgress(value=0.0, description='Training', layout=Layout(flex='2'), max=5000.0, style=Pro…"
      ]
     },
     "metadata": {},
     "output_type": "display_data"
    },
    {
     "name": "stdout",
     "output_type": "stream",
     "text": [
      "Epoch 201: train=3.31521, val=3.15863, took 160.47 s\n"
     ]
    },
    {
     "data": {
      "application/vnd.jupyter.widget-view+json": {
       "model_id": "",
       "version_major": 2,
       "version_minor": 0
      },
      "text/plain": [
       "HBox(children=(FloatProgress(value=0.0, description='Training', layout=Layout(flex='2'), max=5000.0, style=Pro…"
      ]
     },
     "metadata": {},
     "output_type": "display_data"
    },
    {
     "name": "stdout",
     "output_type": "stream",
     "text": [
      "Epoch 202: train=3.31559, val=3.08541, took 159.49 s\n"
     ]
    },
    {
     "data": {
      "application/vnd.jupyter.widget-view+json": {
       "model_id": "",
       "version_major": 2,
       "version_minor": 0
      },
      "text/plain": [
       "HBox(children=(FloatProgress(value=0.0, description='Training', layout=Layout(flex='2'), max=5000.0, style=Pro…"
      ]
     },
     "metadata": {},
     "output_type": "display_data"
    },
    {
     "name": "stdout",
     "output_type": "stream",
     "text": [
      "Epoch 203: train=3.31643, val=3.19796, took 160.07 s\n"
     ]
    },
    {
     "data": {
      "application/vnd.jupyter.widget-view+json": {
       "model_id": "",
       "version_major": 2,
       "version_minor": 0
      },
      "text/plain": [
       "HBox(children=(FloatProgress(value=0.0, description='Training', layout=Layout(flex='2'), max=5000.0, style=Pro…"
      ]
     },
     "metadata": {},
     "output_type": "display_data"
    },
    {
     "name": "stdout",
     "output_type": "stream",
     "text": [
      "Epoch 204: train=3.31203, val=3.10101, took 159.3 s\n"
     ]
    },
    {
     "data": {
      "application/vnd.jupyter.widget-view+json": {
       "model_id": "",
       "version_major": 2,
       "version_minor": 0
      },
      "text/plain": [
       "HBox(children=(FloatProgress(value=0.0, description='Training', layout=Layout(flex='2'), max=5000.0, style=Pro…"
      ]
     },
     "metadata": {},
     "output_type": "display_data"
    },
    {
     "name": "stdout",
     "output_type": "stream",
     "text": [
      "Epoch 205: train=3.31246, val=3.19774, took 159.61 s\n"
     ]
    },
    {
     "data": {
      "application/vnd.jupyter.widget-view+json": {
       "model_id": "",
       "version_major": 2,
       "version_minor": 0
      },
      "text/plain": [
       "HBox(children=(FloatProgress(value=0.0, description='Training', layout=Layout(flex='2'), max=5000.0, style=Pro…"
      ]
     },
     "metadata": {},
     "output_type": "display_data"
    },
    {
     "name": "stdout",
     "output_type": "stream",
     "text": [
      "Epoch 206: train=3.3089, val=3.32515, took 158.43 s\n"
     ]
    },
    {
     "data": {
      "application/vnd.jupyter.widget-view+json": {
       "model_id": "",
       "version_major": 2,
       "version_minor": 0
      },
      "text/plain": [
       "HBox(children=(FloatProgress(value=0.0, description='Training', layout=Layout(flex='2'), max=5000.0, style=Pro…"
      ]
     },
     "metadata": {},
     "output_type": "display_data"
    },
    {
     "name": "stdout",
     "output_type": "stream",
     "text": [
      "Epoch 207: train=3.31119, val=3.26719, took 161.02 s\n"
     ]
    },
    {
     "data": {
      "application/vnd.jupyter.widget-view+json": {
       "model_id": "",
       "version_major": 2,
       "version_minor": 0
      },
      "text/plain": [
       "HBox(children=(FloatProgress(value=0.0, description='Training', layout=Layout(flex='2'), max=5000.0, style=Pro…"
      ]
     },
     "metadata": {},
     "output_type": "display_data"
    },
    {
     "name": "stdout",
     "output_type": "stream",
     "text": [
      "Epoch 208: train=3.31429, val=3.21046, took 158.73 s\n"
     ]
    },
    {
     "data": {
      "application/vnd.jupyter.widget-view+json": {
       "model_id": "",
       "version_major": 2,
       "version_minor": 0
      },
      "text/plain": [
       "HBox(children=(FloatProgress(value=0.0, description='Training', layout=Layout(flex='2'), max=5000.0, style=Pro…"
      ]
     },
     "metadata": {},
     "output_type": "display_data"
    },
    {
     "name": "stdout",
     "output_type": "stream",
     "text": [
      "Epoch 209: train=3.31288, val=3.1099, took 158.21 s\n"
     ]
    },
    {
     "data": {
      "application/vnd.jupyter.widget-view+json": {
       "model_id": "",
       "version_major": 2,
       "version_minor": 0
      },
      "text/plain": [
       "HBox(children=(FloatProgress(value=0.0, description='Training', layout=Layout(flex='2'), max=5000.0, style=Pro…"
      ]
     },
     "metadata": {},
     "output_type": "display_data"
    },
    {
     "name": "stdout",
     "output_type": "stream",
     "text": [
      "Epoch 210: train=3.31084, val=3.09621, took 159.82 s\n"
     ]
    },
    {
     "data": {
      "application/vnd.jupyter.widget-view+json": {
       "model_id": "",
       "version_major": 2,
       "version_minor": 0
      },
      "text/plain": [
       "HBox(children=(FloatProgress(value=0.0, description='Training', layout=Layout(flex='2'), max=5000.0, style=Pro…"
      ]
     },
     "metadata": {},
     "output_type": "display_data"
    },
    {
     "name": "stdout",
     "output_type": "stream",
     "text": [
      "Epoch 211: train=3.30965, val=3.10518, took 159.07 s\n"
     ]
    },
    {
     "data": {
      "application/vnd.jupyter.widget-view+json": {
       "model_id": "",
       "version_major": 2,
       "version_minor": 0
      },
      "text/plain": [
       "HBox(children=(FloatProgress(value=0.0, description='Training', layout=Layout(flex='2'), max=5000.0, style=Pro…"
      ]
     },
     "metadata": {},
     "output_type": "display_data"
    },
    {
     "name": "stdout",
     "output_type": "stream",
     "text": [
      "Epoch 212: train=3.31066, val=3.08124, took 157.99 s\n"
     ]
    },
    {
     "data": {
      "application/vnd.jupyter.widget-view+json": {
       "model_id": "",
       "version_major": 2,
       "version_minor": 0
      },
      "text/plain": [
       "HBox(children=(FloatProgress(value=0.0, description='Training', layout=Layout(flex='2'), max=5000.0, style=Pro…"
      ]
     },
     "metadata": {},
     "output_type": "display_data"
    },
    {
     "name": "stdout",
     "output_type": "stream",
     "text": [
      "Epoch 213: train=3.31039, val=3.14691, took 161.77 s\n"
     ]
    },
    {
     "data": {
      "application/vnd.jupyter.widget-view+json": {
       "model_id": "",
       "version_major": 2,
       "version_minor": 0
      },
      "text/plain": [
       "HBox(children=(FloatProgress(value=0.0, description='Training', layout=Layout(flex='2'), max=5000.0, style=Pro…"
      ]
     },
     "metadata": {},
     "output_type": "display_data"
    },
    {
     "name": "stdout",
     "output_type": "stream",
     "text": [
      "Epoch 214: train=3.31345, val=3.13782, took 158.45 s\n"
     ]
    },
    {
     "data": {
      "application/vnd.jupyter.widget-view+json": {
       "model_id": "",
       "version_major": 2,
       "version_minor": 0
      },
      "text/plain": [
       "HBox(children=(FloatProgress(value=0.0, description='Training', layout=Layout(flex='2'), max=5000.0, style=Pro…"
      ]
     },
     "metadata": {},
     "output_type": "display_data"
    },
    {
     "name": "stdout",
     "output_type": "stream",
     "text": [
      "Epoch 215: train=3.30571, val=3.17456, took 160.62 s\n"
     ]
    },
    {
     "data": {
      "application/vnd.jupyter.widget-view+json": {
       "model_id": "",
       "version_major": 2,
       "version_minor": 0
      },
      "text/plain": [
       "HBox(children=(FloatProgress(value=0.0, description='Training', layout=Layout(flex='2'), max=5000.0, style=Pro…"
      ]
     },
     "metadata": {},
     "output_type": "display_data"
    },
    {
     "name": "stdout",
     "output_type": "stream",
     "text": [
      "Epoch 216: train=3.30683, val=3.21131, took 160.33 s\n"
     ]
    },
    {
     "data": {
      "application/vnd.jupyter.widget-view+json": {
       "model_id": "",
       "version_major": 2,
       "version_minor": 0
      },
      "text/plain": [
       "HBox(children=(FloatProgress(value=0.0, description='Training', layout=Layout(flex='2'), max=5000.0, style=Pro…"
      ]
     },
     "metadata": {},
     "output_type": "display_data"
    },
    {
     "name": "stdout",
     "output_type": "stream",
     "text": [
      "Epoch 217: train=3.30746, val=3.07313, took 160.6 s\n"
     ]
    },
    {
     "data": {
      "application/vnd.jupyter.widget-view+json": {
       "model_id": "",
       "version_major": 2,
       "version_minor": 0
      },
      "text/plain": [
       "HBox(children=(FloatProgress(value=0.0, description='Training', layout=Layout(flex='2'), max=5000.0, style=Pro…"
      ]
     },
     "metadata": {},
     "output_type": "display_data"
    },
    {
     "name": "stdout",
     "output_type": "stream",
     "text": [
      "Epoch 218: train=3.30502, val=3.09128, took 158.95 s\n"
     ]
    },
    {
     "data": {
      "application/vnd.jupyter.widget-view+json": {
       "model_id": "",
       "version_major": 2,
       "version_minor": 0
      },
      "text/plain": [
       "HBox(children=(FloatProgress(value=0.0, description='Training', layout=Layout(flex='2'), max=5000.0, style=Pro…"
      ]
     },
     "metadata": {},
     "output_type": "display_data"
    },
    {
     "name": "stdout",
     "output_type": "stream",
     "text": [
      "Epoch 219: train=3.30451, val=3.16976, took 156.12 s\n"
     ]
    },
    {
     "data": {
      "application/vnd.jupyter.widget-view+json": {
       "model_id": "",
       "version_major": 2,
       "version_minor": 0
      },
      "text/plain": [
       "HBox(children=(FloatProgress(value=0.0, description='Training', layout=Layout(flex='2'), max=5000.0, style=Pro…"
      ]
     },
     "metadata": {},
     "output_type": "display_data"
    },
    {
     "name": "stdout",
     "output_type": "stream",
     "text": [
      "Epoch 220: train=3.30445, val=3.15692, took 157.25 s\n"
     ]
    },
    {
     "data": {
      "application/vnd.jupyter.widget-view+json": {
       "model_id": "",
       "version_major": 2,
       "version_minor": 0
      },
      "text/plain": [
       "HBox(children=(FloatProgress(value=0.0, description='Training', layout=Layout(flex='2'), max=5000.0, style=Pro…"
      ]
     },
     "metadata": {},
     "output_type": "display_data"
    },
    {
     "name": "stdout",
     "output_type": "stream",
     "text": [
      "Epoch 221: train=3.30362, val=3.17546, took 160.14 s\n"
     ]
    },
    {
     "data": {
      "application/vnd.jupyter.widget-view+json": {
       "model_id": "",
       "version_major": 2,
       "version_minor": 0
      },
      "text/plain": [
       "HBox(children=(FloatProgress(value=0.0, description='Training', layout=Layout(flex='2'), max=5000.0, style=Pro…"
      ]
     },
     "metadata": {},
     "output_type": "display_data"
    },
    {
     "name": "stdout",
     "output_type": "stream",
     "text": [
      "Epoch 222: train=3.30556, val=3.09953, took 159.86 s\n"
     ]
    },
    {
     "data": {
      "application/vnd.jupyter.widget-view+json": {
       "model_id": "",
       "version_major": 2,
       "version_minor": 0
      },
      "text/plain": [
       "HBox(children=(FloatProgress(value=0.0, description='Training', layout=Layout(flex='2'), max=5000.0, style=Pro…"
      ]
     },
     "metadata": {},
     "output_type": "display_data"
    },
    {
     "name": "stdout",
     "output_type": "stream",
     "text": [
      "Epoch 223: train=3.30349, val=3.13661, took 159.35 s\n"
     ]
    },
    {
     "data": {
      "application/vnd.jupyter.widget-view+json": {
       "model_id": "",
       "version_major": 2,
       "version_minor": 0
      },
      "text/plain": [
       "HBox(children=(FloatProgress(value=0.0, description='Training', layout=Layout(flex='2'), max=5000.0, style=Pro…"
      ]
     },
     "metadata": {},
     "output_type": "display_data"
    },
    {
     "name": "stdout",
     "output_type": "stream",
     "text": [
      "Epoch 224: train=3.30212, val=3.10634, took 160.15 s\n"
     ]
    },
    {
     "data": {
      "application/vnd.jupyter.widget-view+json": {
       "model_id": "",
       "version_major": 2,
       "version_minor": 0
      },
      "text/plain": [
       "HBox(children=(FloatProgress(value=0.0, description='Training', layout=Layout(flex='2'), max=5000.0, style=Pro…"
      ]
     },
     "metadata": {},
     "output_type": "display_data"
    },
    {
     "name": "stdout",
     "output_type": "stream",
     "text": [
      "Epoch 225: train=3.30471, val=3.15938, took 159.55 s\n"
     ]
    },
    {
     "data": {
      "application/vnd.jupyter.widget-view+json": {
       "model_id": "",
       "version_major": 2,
       "version_minor": 0
      },
      "text/plain": [
       "HBox(children=(FloatProgress(value=0.0, description='Training', layout=Layout(flex='2'), max=5000.0, style=Pro…"
      ]
     },
     "metadata": {},
     "output_type": "display_data"
    },
    {
     "name": "stdout",
     "output_type": "stream",
     "text": [
      "Epoch 226: train=3.30095, val=3.21467, took 159.0 s\n"
     ]
    },
    {
     "data": {
      "application/vnd.jupyter.widget-view+json": {
       "model_id": "",
       "version_major": 2,
       "version_minor": 0
      },
      "text/plain": [
       "HBox(children=(FloatProgress(value=0.0, description='Training', layout=Layout(flex='2'), max=5000.0, style=Pro…"
      ]
     },
     "metadata": {},
     "output_type": "display_data"
    },
    {
     "name": "stdout",
     "output_type": "stream",
     "text": [
      "Epoch 227: train=3.30011, val=3.07257, took 160.91 s\n"
     ]
    },
    {
     "data": {
      "application/vnd.jupyter.widget-view+json": {
       "model_id": "",
       "version_major": 2,
       "version_minor": 0
      },
      "text/plain": [
       "HBox(children=(FloatProgress(value=0.0, description='Training', layout=Layout(flex='2'), max=5000.0, style=Pro…"
      ]
     },
     "metadata": {},
     "output_type": "display_data"
    },
    {
     "name": "stdout",
     "output_type": "stream",
     "text": [
      "Epoch 228: train=3.29912, val=3.14147, took 158.19 s\n"
     ]
    },
    {
     "data": {
      "application/vnd.jupyter.widget-view+json": {
       "model_id": "",
       "version_major": 2,
       "version_minor": 0
      },
      "text/plain": [
       "HBox(children=(FloatProgress(value=0.0, description='Training', layout=Layout(flex='2'), max=5000.0, style=Pro…"
      ]
     },
     "metadata": {},
     "output_type": "display_data"
    },
    {
     "name": "stdout",
     "output_type": "stream",
     "text": [
      "Epoch 229: train=3.30108, val=3.23216, took 160.62 s\n"
     ]
    },
    {
     "data": {
      "application/vnd.jupyter.widget-view+json": {
       "model_id": "",
       "version_major": 2,
       "version_minor": 0
      },
      "text/plain": [
       "HBox(children=(FloatProgress(value=0.0, description='Training', layout=Layout(flex='2'), max=5000.0, style=Pro…"
      ]
     },
     "metadata": {},
     "output_type": "display_data"
    },
    {
     "name": "stdout",
     "output_type": "stream",
     "text": [
      "Epoch 230: train=3.29951, val=3.07227, took 159.13 s\n"
     ]
    },
    {
     "data": {
      "application/vnd.jupyter.widget-view+json": {
       "model_id": "",
       "version_major": 2,
       "version_minor": 0
      },
      "text/plain": [
       "HBox(children=(FloatProgress(value=0.0, description='Training', layout=Layout(flex='2'), max=5000.0, style=Pro…"
      ]
     },
     "metadata": {},
     "output_type": "display_data"
    },
    {
     "name": "stdout",
     "output_type": "stream",
     "text": [
      "Epoch 231: train=3.29837, val=3.11745, took 158.05 s\n"
     ]
    },
    {
     "data": {
      "application/vnd.jupyter.widget-view+json": {
       "model_id": "",
       "version_major": 2,
       "version_minor": 0
      },
      "text/plain": [
       "HBox(children=(FloatProgress(value=0.0, description='Training', layout=Layout(flex='2'), max=5000.0, style=Pro…"
      ]
     },
     "metadata": {},
     "output_type": "display_data"
    },
    {
     "name": "stdout",
     "output_type": "stream",
     "text": [
      "Epoch 232: train=3.29829, val=3.0924, took 159.43 s\n"
     ]
    },
    {
     "data": {
      "application/vnd.jupyter.widget-view+json": {
       "model_id": "",
       "version_major": 2,
       "version_minor": 0
      },
      "text/plain": [
       "HBox(children=(FloatProgress(value=0.0, description='Training', layout=Layout(flex='2'), max=5000.0, style=Pro…"
      ]
     },
     "metadata": {},
     "output_type": "display_data"
    },
    {
     "name": "stdout",
     "output_type": "stream",
     "text": [
      "Epoch 233: train=3.29875, val=3.23802, took 157.83 s\n"
     ]
    },
    {
     "data": {
      "application/vnd.jupyter.widget-view+json": {
       "model_id": "",
       "version_major": 2,
       "version_minor": 0
      },
      "text/plain": [
       "HBox(children=(FloatProgress(value=0.0, description='Training', layout=Layout(flex='2'), max=5000.0, style=Pro…"
      ]
     },
     "metadata": {},
     "output_type": "display_data"
    },
    {
     "name": "stdout",
     "output_type": "stream",
     "text": [
      "Epoch 234: train=3.30137, val=3.11701, took 160.34 s\n"
     ]
    },
    {
     "data": {
      "application/vnd.jupyter.widget-view+json": {
       "model_id": "",
       "version_major": 2,
       "version_minor": 0
      },
      "text/plain": [
       "HBox(children=(FloatProgress(value=0.0, description='Training', layout=Layout(flex='2'), max=5000.0, style=Pro…"
      ]
     },
     "metadata": {},
     "output_type": "display_data"
    },
    {
     "name": "stdout",
     "output_type": "stream",
     "text": [
      "Epoch 235: train=3.3005, val=3.07903, took 158.56 s\n"
     ]
    },
    {
     "data": {
      "application/vnd.jupyter.widget-view+json": {
       "model_id": "",
       "version_major": 2,
       "version_minor": 0
      },
      "text/plain": [
       "HBox(children=(FloatProgress(value=0.0, description='Training', layout=Layout(flex='2'), max=5000.0, style=Pro…"
      ]
     },
     "metadata": {},
     "output_type": "display_data"
    },
    {
     "name": "stdout",
     "output_type": "stream",
     "text": [
      "Epoch 236: train=3.30141, val=3.11682, took 158.18 s\n"
     ]
    },
    {
     "data": {
      "application/vnd.jupyter.widget-view+json": {
       "model_id": "",
       "version_major": 2,
       "version_minor": 0
      },
      "text/plain": [
       "HBox(children=(FloatProgress(value=0.0, description='Training', layout=Layout(flex='2'), max=5000.0, style=Pro…"
      ]
     },
     "metadata": {},
     "output_type": "display_data"
    },
    {
     "name": "stdout",
     "output_type": "stream",
     "text": [
      "Epoch 237: train=3.30066, val=3.1509, took 159.67 s\n"
     ]
    },
    {
     "data": {
      "application/vnd.jupyter.widget-view+json": {
       "model_id": "",
       "version_major": 2,
       "version_minor": 0
      },
      "text/plain": [
       "HBox(children=(FloatProgress(value=0.0, description='Training', layout=Layout(flex='2'), max=5000.0, style=Pro…"
      ]
     },
     "metadata": {},
     "output_type": "display_data"
    },
    {
     "name": "stdout",
     "output_type": "stream",
     "text": [
      "Epoch 238: train=3.30314, val=3.18743, took 158.75 s\n"
     ]
    },
    {
     "data": {
      "application/vnd.jupyter.widget-view+json": {
       "model_id": "",
       "version_major": 2,
       "version_minor": 0
      },
      "text/plain": [
       "HBox(children=(FloatProgress(value=0.0, description='Training', layout=Layout(flex='2'), max=5000.0, style=Pro…"
      ]
     },
     "metadata": {},
     "output_type": "display_data"
    },
    {
     "name": "stdout",
     "output_type": "stream",
     "text": [
      "Epoch 239: train=3.29934, val=3.08727, took 161.7 s\n"
     ]
    },
    {
     "data": {
      "application/vnd.jupyter.widget-view+json": {
       "model_id": "",
       "version_major": 2,
       "version_minor": 0
      },
      "text/plain": [
       "HBox(children=(FloatProgress(value=0.0, description='Training', layout=Layout(flex='2'), max=5000.0, style=Pro…"
      ]
     },
     "metadata": {},
     "output_type": "display_data"
    },
    {
     "name": "stdout",
     "output_type": "stream",
     "text": [
      "Epoch 240: train=3.29919, val=3.08043, took 159.05 s\n"
     ]
    },
    {
     "data": {
      "application/vnd.jupyter.widget-view+json": {
       "model_id": "",
       "version_major": 2,
       "version_minor": 0
      },
      "text/plain": [
       "HBox(children=(FloatProgress(value=0.0, description='Training', layout=Layout(flex='2'), max=5000.0, style=Pro…"
      ]
     },
     "metadata": {},
     "output_type": "display_data"
    },
    {
     "name": "stdout",
     "output_type": "stream",
     "text": [
      "Epoch 241: train=3.29768, val=3.1526, took 159.07 s\n"
     ]
    },
    {
     "data": {
      "application/vnd.jupyter.widget-view+json": {
       "model_id": "",
       "version_major": 2,
       "version_minor": 0
      },
      "text/plain": [
       "HBox(children=(FloatProgress(value=0.0, description='Training', layout=Layout(flex='2'), max=5000.0, style=Pro…"
      ]
     },
     "metadata": {},
     "output_type": "display_data"
    },
    {
     "name": "stdout",
     "output_type": "stream",
     "text": [
      "Epoch 242: train=3.29699, val=3.18136, took 157.57 s\n"
     ]
    },
    {
     "data": {
      "application/vnd.jupyter.widget-view+json": {
       "model_id": "",
       "version_major": 2,
       "version_minor": 0
      },
      "text/plain": [
       "HBox(children=(FloatProgress(value=0.0, description='Training', layout=Layout(flex='2'), max=5000.0, style=Pro…"
      ]
     },
     "metadata": {},
     "output_type": "display_data"
    },
    {
     "name": "stdout",
     "output_type": "stream",
     "text": [
      "Epoch 243: train=3.29931, val=3.0707, took 157.62 s\n"
     ]
    },
    {
     "data": {
      "application/vnd.jupyter.widget-view+json": {
       "model_id": "",
       "version_major": 2,
       "version_minor": 0
      },
      "text/plain": [
       "HBox(children=(FloatProgress(value=0.0, description='Training', layout=Layout(flex='2'), max=5000.0, style=Pro…"
      ]
     },
     "metadata": {},
     "output_type": "display_data"
    },
    {
     "name": "stdout",
     "output_type": "stream",
     "text": [
      "Epoch 244: train=3.30006, val=3.16035, took 158.61 s\n"
     ]
    },
    {
     "data": {
      "application/vnd.jupyter.widget-view+json": {
       "model_id": "",
       "version_major": 2,
       "version_minor": 0
      },
      "text/plain": [
       "HBox(children=(FloatProgress(value=0.0, description='Training', layout=Layout(flex='2'), max=5000.0, style=Pro…"
      ]
     },
     "metadata": {},
     "output_type": "display_data"
    },
    {
     "name": "stdout",
     "output_type": "stream",
     "text": [
      "Epoch 245: train=3.29628, val=3.17021, took 158.69 s\n"
     ]
    },
    {
     "data": {
      "application/vnd.jupyter.widget-view+json": {
       "model_id": "",
       "version_major": 2,
       "version_minor": 0
      },
      "text/plain": [
       "HBox(children=(FloatProgress(value=0.0, description='Training', layout=Layout(flex='2'), max=5000.0, style=Pro…"
      ]
     },
     "metadata": {},
     "output_type": "display_data"
    },
    {
     "name": "stdout",
     "output_type": "stream",
     "text": [
      "Epoch 246: train=3.29556, val=3.14876, took 158.96 s\n"
     ]
    },
    {
     "data": {
      "application/vnd.jupyter.widget-view+json": {
       "model_id": "",
       "version_major": 2,
       "version_minor": 0
      },
      "text/plain": [
       "HBox(children=(FloatProgress(value=0.0, description='Training', layout=Layout(flex='2'), max=5000.0, style=Pro…"
      ]
     },
     "metadata": {},
     "output_type": "display_data"
    },
    {
     "name": "stdout",
     "output_type": "stream",
     "text": [
      "Epoch 247: train=3.29656, val=3.08215, took 159.88 s\n"
     ]
    },
    {
     "data": {
      "application/vnd.jupyter.widget-view+json": {
       "model_id": "",
       "version_major": 2,
       "version_minor": 0
      },
      "text/plain": [
       "HBox(children=(FloatProgress(value=0.0, description='Training', layout=Layout(flex='2'), max=5000.0, style=Pro…"
      ]
     },
     "metadata": {},
     "output_type": "display_data"
    },
    {
     "name": "stdout",
     "output_type": "stream",
     "text": [
      "Epoch 248: train=3.29966, val=3.071, took 158.55 s\n"
     ]
    },
    {
     "data": {
      "application/vnd.jupyter.widget-view+json": {
       "model_id": "",
       "version_major": 2,
       "version_minor": 0
      },
      "text/plain": [
       "HBox(children=(FloatProgress(value=0.0, description='Training', layout=Layout(flex='2'), max=5000.0, style=Pro…"
      ]
     },
     "metadata": {},
     "output_type": "display_data"
    },
    {
     "name": "stdout",
     "output_type": "stream",
     "text": [
      "Epoch 249: train=3.29627, val=3.06485, took 160.45 s\n"
     ]
    },
    {
     "data": {
      "application/vnd.jupyter.widget-view+json": {
       "model_id": "",
       "version_major": 2,
       "version_minor": 0
      },
      "text/plain": [
       "HBox(children=(FloatProgress(value=0.0, description='Training', layout=Layout(flex='2'), max=5000.0, style=Pro…"
      ]
     },
     "metadata": {},
     "output_type": "display_data"
    },
    {
     "name": "stdout",
     "output_type": "stream",
     "text": [
      "Epoch 250: train=3.29927, val=3.18417, took 159.55 s\n"
     ]
    },
    {
     "data": {
      "application/vnd.jupyter.widget-view+json": {
       "model_id": "",
       "version_major": 2,
       "version_minor": 0
      },
      "text/plain": [
       "HBox(children=(FloatProgress(value=0.0, description='Training', layout=Layout(flex='2'), max=5000.0, style=Pro…"
      ]
     },
     "metadata": {},
     "output_type": "display_data"
    },
    {
     "name": "stdout",
     "output_type": "stream",
     "text": [
      "Epoch 251: train=3.295, val=3.20655, took 159.75 s\n"
     ]
    },
    {
     "data": {
      "application/vnd.jupyter.widget-view+json": {
       "model_id": "",
       "version_major": 2,
       "version_minor": 0
      },
      "text/plain": [
       "HBox(children=(FloatProgress(value=0.0, description='Training', layout=Layout(flex='2'), max=5000.0, style=Pro…"
      ]
     },
     "metadata": {},
     "output_type": "display_data"
    },
    {
     "name": "stdout",
     "output_type": "stream",
     "text": [
      "Epoch 252: train=3.294, val=3.07755, took 158.78 s\n"
     ]
    },
    {
     "data": {
      "application/vnd.jupyter.widget-view+json": {
       "model_id": "",
       "version_major": 2,
       "version_minor": 0
      },
      "text/plain": [
       "HBox(children=(FloatProgress(value=0.0, description='Training', layout=Layout(flex='2'), max=5000.0, style=Pro…"
      ]
     },
     "metadata": {},
     "output_type": "display_data"
    },
    {
     "name": "stdout",
     "output_type": "stream",
     "text": [
      "Epoch 253: train=3.29345, val=3.06771, took 160.53 s\n"
     ]
    },
    {
     "data": {
      "application/vnd.jupyter.widget-view+json": {
       "model_id": "",
       "version_major": 2,
       "version_minor": 0
      },
      "text/plain": [
       "HBox(children=(FloatProgress(value=0.0, description='Training', layout=Layout(flex='2'), max=5000.0, style=Pro…"
      ]
     },
     "metadata": {},
     "output_type": "display_data"
    },
    {
     "name": "stdout",
     "output_type": "stream",
     "text": [
      "Epoch 254: train=3.29554, val=3.08492, took 159.36 s\n"
     ]
    },
    {
     "data": {
      "application/vnd.jupyter.widget-view+json": {
       "model_id": "",
       "version_major": 2,
       "version_minor": 0
      },
      "text/plain": [
       "HBox(children=(FloatProgress(value=0.0, description='Training', layout=Layout(flex='2'), max=5000.0, style=Pro…"
      ]
     },
     "metadata": {},
     "output_type": "display_data"
    },
    {
     "name": "stdout",
     "output_type": "stream",
     "text": [
      "Epoch 255: train=3.29641, val=3.10245, took 159.74 s\n"
     ]
    },
    {
     "data": {
      "application/vnd.jupyter.widget-view+json": {
       "model_id": "",
       "version_major": 2,
       "version_minor": 0
      },
      "text/plain": [
       "HBox(children=(FloatProgress(value=0.0, description='Training', layout=Layout(flex='2'), max=5000.0, style=Pro…"
      ]
     },
     "metadata": {},
     "output_type": "display_data"
    },
    {
     "name": "stdout",
     "output_type": "stream",
     "text": [
      "Epoch 256: train=3.29354, val=3.06685, took 160.36 s\n"
     ]
    },
    {
     "data": {
      "application/vnd.jupyter.widget-view+json": {
       "model_id": "",
       "version_major": 2,
       "version_minor": 0
      },
      "text/plain": [
       "HBox(children=(FloatProgress(value=0.0, description='Training', layout=Layout(flex='2'), max=5000.0, style=Pro…"
      ]
     },
     "metadata": {},
     "output_type": "display_data"
    },
    {
     "name": "stdout",
     "output_type": "stream",
     "text": [
      "Epoch 257: train=3.29598, val=3.12661, took 161.84 s\n"
     ]
    },
    {
     "data": {
      "application/vnd.jupyter.widget-view+json": {
       "model_id": "",
       "version_major": 2,
       "version_minor": 0
      },
      "text/plain": [
       "HBox(children=(FloatProgress(value=0.0, description='Training', layout=Layout(flex='2'), max=5000.0, style=Pro…"
      ]
     },
     "metadata": {},
     "output_type": "display_data"
    },
    {
     "name": "stdout",
     "output_type": "stream",
     "text": [
      "Epoch 258: train=3.29398, val=3.11736, took 159.69 s\n"
     ]
    },
    {
     "data": {
      "application/vnd.jupyter.widget-view+json": {
       "model_id": "",
       "version_major": 2,
       "version_minor": 0
      },
      "text/plain": [
       "HBox(children=(FloatProgress(value=0.0, description='Training', layout=Layout(flex='2'), max=5000.0, style=Pro…"
      ]
     },
     "metadata": {},
     "output_type": "display_data"
    },
    {
     "name": "stdout",
     "output_type": "stream",
     "text": [
      "Epoch 259: train=3.29598, val=3.15239, took 158.83 s\n"
     ]
    },
    {
     "data": {
      "application/vnd.jupyter.widget-view+json": {
       "model_id": "",
       "version_major": 2,
       "version_minor": 0
      },
      "text/plain": [
       "HBox(children=(FloatProgress(value=0.0, description='Training', layout=Layout(flex='2'), max=5000.0, style=Pro…"
      ]
     },
     "metadata": {},
     "output_type": "display_data"
    },
    {
     "name": "stdout",
     "output_type": "stream",
     "text": [
      "Epoch 260: train=3.29406, val=3.16624, took 159.52 s\n"
     ]
    },
    {
     "data": {
      "application/vnd.jupyter.widget-view+json": {
       "model_id": "",
       "version_major": 2,
       "version_minor": 0
      },
      "text/plain": [
       "HBox(children=(FloatProgress(value=0.0, description='Training', layout=Layout(flex='2'), max=5000.0, style=Pro…"
      ]
     },
     "metadata": {},
     "output_type": "display_data"
    },
    {
     "name": "stdout",
     "output_type": "stream",
     "text": [
      "Epoch 261: train=3.29475, val=3.18753, took 158.5 s\n"
     ]
    },
    {
     "data": {
      "application/vnd.jupyter.widget-view+json": {
       "model_id": "",
       "version_major": 2,
       "version_minor": 0
      },
      "text/plain": [
       "HBox(children=(FloatProgress(value=0.0, description='Training', layout=Layout(flex='2'), max=5000.0, style=Pro…"
      ]
     },
     "metadata": {},
     "output_type": "display_data"
    },
    {
     "name": "stdout",
     "output_type": "stream",
     "text": [
      "Epoch 262: train=3.29458, val=3.06902, took 159.18 s\n"
     ]
    },
    {
     "data": {
      "application/vnd.jupyter.widget-view+json": {
       "model_id": "",
       "version_major": 2,
       "version_minor": 0
      },
      "text/plain": [
       "HBox(children=(FloatProgress(value=0.0, description='Training', layout=Layout(flex='2'), max=5000.0, style=Pro…"
      ]
     },
     "metadata": {},
     "output_type": "display_data"
    },
    {
     "name": "stdout",
     "output_type": "stream",
     "text": [
      "Epoch 263: train=3.2925, val=3.17148, took 159.1 s\n"
     ]
    },
    {
     "data": {
      "application/vnd.jupyter.widget-view+json": {
       "model_id": "",
       "version_major": 2,
       "version_minor": 0
      },
      "text/plain": [
       "HBox(children=(FloatProgress(value=0.0, description='Training', layout=Layout(flex='2'), max=5000.0, style=Pro…"
      ]
     },
     "metadata": {},
     "output_type": "display_data"
    },
    {
     "name": "stdout",
     "output_type": "stream",
     "text": [
      "Epoch 264: train=3.29207, val=3.24626, took 159.57 s\n"
     ]
    },
    {
     "data": {
      "application/vnd.jupyter.widget-view+json": {
       "model_id": "",
       "version_major": 2,
       "version_minor": 0
      },
      "text/plain": [
       "HBox(children=(FloatProgress(value=0.0, description='Training', layout=Layout(flex='2'), max=5000.0, style=Pro…"
      ]
     },
     "metadata": {},
     "output_type": "display_data"
    },
    {
     "name": "stdout",
     "output_type": "stream",
     "text": [
      "Epoch 265: train=3.29188, val=3.16184, took 159.75 s\n"
     ]
    },
    {
     "data": {
      "application/vnd.jupyter.widget-view+json": {
       "model_id": "",
       "version_major": 2,
       "version_minor": 0
      },
      "text/plain": [
       "HBox(children=(FloatProgress(value=0.0, description='Training', layout=Layout(flex='2'), max=5000.0, style=Pro…"
      ]
     },
     "metadata": {},
     "output_type": "display_data"
    },
    {
     "name": "stdout",
     "output_type": "stream",
     "text": [
      "Epoch 266: train=3.29435, val=3.15262, took 159.41 s\n"
     ]
    },
    {
     "data": {
      "application/vnd.jupyter.widget-view+json": {
       "model_id": "",
       "version_major": 2,
       "version_minor": 0
      },
      "text/plain": [
       "HBox(children=(FloatProgress(value=0.0, description='Training', layout=Layout(flex='2'), max=5000.0, style=Pro…"
      ]
     },
     "metadata": {},
     "output_type": "display_data"
    },
    {
     "name": "stdout",
     "output_type": "stream",
     "text": [
      "Epoch 267: train=3.29223, val=3.19998, took 158.31 s\n"
     ]
    },
    {
     "data": {
      "application/vnd.jupyter.widget-view+json": {
       "model_id": "",
       "version_major": 2,
       "version_minor": 0
      },
      "text/plain": [
       "HBox(children=(FloatProgress(value=0.0, description='Training', layout=Layout(flex='2'), max=5000.0, style=Pro…"
      ]
     },
     "metadata": {},
     "output_type": "display_data"
    },
    {
     "name": "stdout",
     "output_type": "stream",
     "text": [
      "Epoch 268: train=3.29504, val=3.09946, took 158.05 s\n"
     ]
    },
    {
     "data": {
      "application/vnd.jupyter.widget-view+json": {
       "model_id": "",
       "version_major": 2,
       "version_minor": 0
      },
      "text/plain": [
       "HBox(children=(FloatProgress(value=0.0, description='Training', layout=Layout(flex='2'), max=5000.0, style=Pro…"
      ]
     },
     "metadata": {},
     "output_type": "display_data"
    },
    {
     "name": "stdout",
     "output_type": "stream",
     "text": [
      "Epoch 269: train=3.29051, val=3.18765, took 158.66 s\n"
     ]
    },
    {
     "data": {
      "application/vnd.jupyter.widget-view+json": {
       "model_id": "",
       "version_major": 2,
       "version_minor": 0
      },
      "text/plain": [
       "HBox(children=(FloatProgress(value=0.0, description='Training', layout=Layout(flex='2'), max=5000.0, style=Pro…"
      ]
     },
     "metadata": {},
     "output_type": "display_data"
    },
    {
     "name": "stdout",
     "output_type": "stream",
     "text": [
      "Epoch 270: train=3.29048, val=3.0722, took 159.08 s\n"
     ]
    },
    {
     "data": {
      "application/vnd.jupyter.widget-view+json": {
       "model_id": "",
       "version_major": 2,
       "version_minor": 0
      },
      "text/plain": [
       "HBox(children=(FloatProgress(value=0.0, description='Training', layout=Layout(flex='2'), max=5000.0, style=Pro…"
      ]
     },
     "metadata": {},
     "output_type": "display_data"
    },
    {
     "name": "stdout",
     "output_type": "stream",
     "text": [
      "Epoch 271: train=3.29324, val=3.15294, took 159.44 s\n"
     ]
    },
    {
     "data": {
      "application/vnd.jupyter.widget-view+json": {
       "model_id": "",
       "version_major": 2,
       "version_minor": 0
      },
      "text/plain": [
       "HBox(children=(FloatProgress(value=0.0, description='Training', layout=Layout(flex='2'), max=5000.0, style=Pro…"
      ]
     },
     "metadata": {},
     "output_type": "display_data"
    },
    {
     "name": "stdout",
     "output_type": "stream",
     "text": [
      "Epoch 272: train=3.29382, val=3.11761, took 161.21 s\n"
     ]
    },
    {
     "data": {
      "application/vnd.jupyter.widget-view+json": {
       "model_id": "",
       "version_major": 2,
       "version_minor": 0
      },
      "text/plain": [
       "HBox(children=(FloatProgress(value=0.0, description='Training', layout=Layout(flex='2'), max=5000.0, style=Pro…"
      ]
     },
     "metadata": {},
     "output_type": "display_data"
    },
    {
     "name": "stdout",
     "output_type": "stream",
     "text": [
      "Epoch 273: train=3.2923, val=3.10103, took 155.23 s\n"
     ]
    },
    {
     "data": {
      "application/vnd.jupyter.widget-view+json": {
       "model_id": "",
       "version_major": 2,
       "version_minor": 0
      },
      "text/plain": [
       "HBox(children=(FloatProgress(value=0.0, description='Training', layout=Layout(flex='2'), max=5000.0, style=Pro…"
      ]
     },
     "metadata": {},
     "output_type": "display_data"
    },
    {
     "name": "stdout",
     "output_type": "stream",
     "text": [
      "Epoch 274: train=3.28998, val=3.11038, took 157.78 s\n"
     ]
    },
    {
     "data": {
      "application/vnd.jupyter.widget-view+json": {
       "model_id": "",
       "version_major": 2,
       "version_minor": 0
      },
      "text/plain": [
       "HBox(children=(FloatProgress(value=0.0, description='Training', layout=Layout(flex='2'), max=5000.0, style=Pro…"
      ]
     },
     "metadata": {},
     "output_type": "display_data"
    },
    {
     "name": "stdout",
     "output_type": "stream",
     "text": [
      "Epoch 275: train=3.29015, val=3.07477, took 159.39 s\n"
     ]
    },
    {
     "data": {
      "application/vnd.jupyter.widget-view+json": {
       "model_id": "",
       "version_major": 2,
       "version_minor": 0
      },
      "text/plain": [
       "HBox(children=(FloatProgress(value=0.0, description='Training', layout=Layout(flex='2'), max=5000.0, style=Pro…"
      ]
     },
     "metadata": {},
     "output_type": "display_data"
    },
    {
     "name": "stdout",
     "output_type": "stream",
     "text": [
      "Epoch 276: train=3.28884, val=3.09445, took 158.59 s\n"
     ]
    },
    {
     "data": {
      "application/vnd.jupyter.widget-view+json": {
       "model_id": "",
       "version_major": 2,
       "version_minor": 0
      },
      "text/plain": [
       "HBox(children=(FloatProgress(value=0.0, description='Training', layout=Layout(flex='2'), max=5000.0, style=Pro…"
      ]
     },
     "metadata": {},
     "output_type": "display_data"
    },
    {
     "name": "stdout",
     "output_type": "stream",
     "text": [
      "Epoch 277: train=3.28957, val=3.0629, took 161.21 s\n"
     ]
    },
    {
     "data": {
      "application/vnd.jupyter.widget-view+json": {
       "model_id": "",
       "version_major": 2,
       "version_minor": 0
      },
      "text/plain": [
       "HBox(children=(FloatProgress(value=0.0, description='Training', layout=Layout(flex='2'), max=5000.0, style=Pro…"
      ]
     },
     "metadata": {},
     "output_type": "display_data"
    },
    {
     "name": "stdout",
     "output_type": "stream",
     "text": [
      "Epoch 278: train=3.29223, val=3.21913, took 160.3 s\n"
     ]
    },
    {
     "data": {
      "application/vnd.jupyter.widget-view+json": {
       "model_id": "",
       "version_major": 2,
       "version_minor": 0
      },
      "text/plain": [
       "HBox(children=(FloatProgress(value=0.0, description='Training', layout=Layout(flex='2'), max=5000.0, style=Pro…"
      ]
     },
     "metadata": {},
     "output_type": "display_data"
    },
    {
     "name": "stdout",
     "output_type": "stream",
     "text": [
      "Epoch 279: train=3.29061, val=3.18112, took 159.46 s\n"
     ]
    },
    {
     "data": {
      "application/vnd.jupyter.widget-view+json": {
       "model_id": "",
       "version_major": 2,
       "version_minor": 0
      },
      "text/plain": [
       "HBox(children=(FloatProgress(value=0.0, description='Training', layout=Layout(flex='2'), max=5000.0, style=Pro…"
      ]
     },
     "metadata": {},
     "output_type": "display_data"
    },
    {
     "name": "stdout",
     "output_type": "stream",
     "text": [
      "Epoch 280: train=3.28755, val=3.1021, took 160.19 s\n"
     ]
    },
    {
     "data": {
      "application/vnd.jupyter.widget-view+json": {
       "model_id": "",
       "version_major": 2,
       "version_minor": 0
      },
      "text/plain": [
       "HBox(children=(FloatProgress(value=0.0, description='Training', layout=Layout(flex='2'), max=5000.0, style=Pro…"
      ]
     },
     "metadata": {},
     "output_type": "display_data"
    },
    {
     "name": "stdout",
     "output_type": "stream",
     "text": [
      "Epoch 281: train=3.28785, val=3.18279, took 159.52 s\n"
     ]
    },
    {
     "data": {
      "application/vnd.jupyter.widget-view+json": {
       "model_id": "",
       "version_major": 2,
       "version_minor": 0
      },
      "text/plain": [
       "HBox(children=(FloatProgress(value=0.0, description='Training', layout=Layout(flex='2'), max=5000.0, style=Pro…"
      ]
     },
     "metadata": {},
     "output_type": "display_data"
    },
    {
     "name": "stdout",
     "output_type": "stream",
     "text": [
      "Epoch 282: train=3.28896, val=3.11762, took 159.72 s\n"
     ]
    },
    {
     "data": {
      "application/vnd.jupyter.widget-view+json": {
       "model_id": "",
       "version_major": 2,
       "version_minor": 0
      },
      "text/plain": [
       "HBox(children=(FloatProgress(value=0.0, description='Training', layout=Layout(flex='2'), max=5000.0, style=Pro…"
      ]
     },
     "metadata": {},
     "output_type": "display_data"
    },
    {
     "name": "stdout",
     "output_type": "stream",
     "text": [
      "Epoch 283: train=3.29462, val=3.074, took 162.25 s\n"
     ]
    },
    {
     "data": {
      "application/vnd.jupyter.widget-view+json": {
       "model_id": "",
       "version_major": 2,
       "version_minor": 0
      },
      "text/plain": [
       "HBox(children=(FloatProgress(value=0.0, description='Training', layout=Layout(flex='2'), max=5000.0, style=Pro…"
      ]
     },
     "metadata": {},
     "output_type": "display_data"
    },
    {
     "name": "stdout",
     "output_type": "stream",
     "text": [
      "Epoch 284: train=3.28714, val=3.09209, took 158.4 s\n"
     ]
    },
    {
     "data": {
      "application/vnd.jupyter.widget-view+json": {
       "model_id": "",
       "version_major": 2,
       "version_minor": 0
      },
      "text/plain": [
       "HBox(children=(FloatProgress(value=0.0, description='Training', layout=Layout(flex='2'), max=5000.0, style=Pro…"
      ]
     },
     "metadata": {},
     "output_type": "display_data"
    },
    {
     "name": "stdout",
     "output_type": "stream",
     "text": [
      "Epoch 285: train=3.28735, val=3.21433, took 161.58 s\n"
     ]
    },
    {
     "data": {
      "application/vnd.jupyter.widget-view+json": {
       "model_id": "",
       "version_major": 2,
       "version_minor": 0
      },
      "text/plain": [
       "HBox(children=(FloatProgress(value=0.0, description='Training', layout=Layout(flex='2'), max=5000.0, style=Pro…"
      ]
     },
     "metadata": {},
     "output_type": "display_data"
    },
    {
     "name": "stdout",
     "output_type": "stream",
     "text": [
      "Epoch 286: train=3.28842, val=3.08054, took 155.76 s\n"
     ]
    },
    {
     "data": {
      "application/vnd.jupyter.widget-view+json": {
       "model_id": "",
       "version_major": 2,
       "version_minor": 0
      },
      "text/plain": [
       "HBox(children=(FloatProgress(value=0.0, description='Training', layout=Layout(flex='2'), max=5000.0, style=Pro…"
      ]
     },
     "metadata": {},
     "output_type": "display_data"
    },
    {
     "name": "stdout",
     "output_type": "stream",
     "text": [
      "Epoch 287: train=3.28861, val=3.09772, took 158.02 s\n"
     ]
    },
    {
     "data": {
      "application/vnd.jupyter.widget-view+json": {
       "model_id": "",
       "version_major": 2,
       "version_minor": 0
      },
      "text/plain": [
       "HBox(children=(FloatProgress(value=0.0, description='Training', layout=Layout(flex='2'), max=5000.0, style=Pro…"
      ]
     },
     "metadata": {},
     "output_type": "display_data"
    },
    {
     "name": "stdout",
     "output_type": "stream",
     "text": [
      "Epoch 288: train=3.29112, val=3.18875, took 158.49 s\n"
     ]
    },
    {
     "data": {
      "application/vnd.jupyter.widget-view+json": {
       "model_id": "",
       "version_major": 2,
       "version_minor": 0
      },
      "text/plain": [
       "HBox(children=(FloatProgress(value=0.0, description='Training', layout=Layout(flex='2'), max=5000.0, style=Pro…"
      ]
     },
     "metadata": {},
     "output_type": "display_data"
    },
    {
     "name": "stdout",
     "output_type": "stream",
     "text": [
      "Epoch 289: train=3.28921, val=3.13784, took 159.02 s\n"
     ]
    },
    {
     "data": {
      "application/vnd.jupyter.widget-view+json": {
       "model_id": "",
       "version_major": 2,
       "version_minor": 0
      },
      "text/plain": [
       "HBox(children=(FloatProgress(value=0.0, description='Training', layout=Layout(flex='2'), max=5000.0, style=Pro…"
      ]
     },
     "metadata": {},
     "output_type": "display_data"
    },
    {
     "name": "stdout",
     "output_type": "stream",
     "text": [
      "Epoch 290: train=3.28872, val=3.08695, took 160.23 s\n"
     ]
    },
    {
     "data": {
      "application/vnd.jupyter.widget-view+json": {
       "model_id": "",
       "version_major": 2,
       "version_minor": 0
      },
      "text/plain": [
       "HBox(children=(FloatProgress(value=0.0, description='Training', layout=Layout(flex='2'), max=5000.0, style=Pro…"
      ]
     },
     "metadata": {},
     "output_type": "display_data"
    },
    {
     "name": "stdout",
     "output_type": "stream",
     "text": [
      "Epoch 291: train=3.29086, val=3.13687, took 159.15 s\n"
     ]
    },
    {
     "data": {
      "application/vnd.jupyter.widget-view+json": {
       "model_id": "",
       "version_major": 2,
       "version_minor": 0
      },
      "text/plain": [
       "HBox(children=(FloatProgress(value=0.0, description='Training', layout=Layout(flex='2'), max=5000.0, style=Pro…"
      ]
     },
     "metadata": {},
     "output_type": "display_data"
    },
    {
     "name": "stdout",
     "output_type": "stream",
     "text": [
      "Epoch 292: train=3.28773, val=3.08641, took 155.82 s\n"
     ]
    },
    {
     "data": {
      "application/vnd.jupyter.widget-view+json": {
       "model_id": "",
       "version_major": 2,
       "version_minor": 0
      },
      "text/plain": [
       "HBox(children=(FloatProgress(value=0.0, description='Training', layout=Layout(flex='2'), max=5000.0, style=Pro…"
      ]
     },
     "metadata": {},
     "output_type": "display_data"
    },
    {
     "name": "stdout",
     "output_type": "stream",
     "text": [
      "Epoch 293: train=3.28526, val=3.12034, took 159.23 s\n"
     ]
    },
    {
     "data": {
      "application/vnd.jupyter.widget-view+json": {
       "model_id": "",
       "version_major": 2,
       "version_minor": 0
      },
      "text/plain": [
       "HBox(children=(FloatProgress(value=0.0, description='Training', layout=Layout(flex='2'), max=5000.0, style=Pro…"
      ]
     },
     "metadata": {},
     "output_type": "display_data"
    },
    {
     "name": "stdout",
     "output_type": "stream",
     "text": [
      "Epoch 294: train=3.28944, val=3.14056, took 160.63 s\n"
     ]
    },
    {
     "data": {
      "application/vnd.jupyter.widget-view+json": {
       "model_id": "",
       "version_major": 2,
       "version_minor": 0
      },
      "text/plain": [
       "HBox(children=(FloatProgress(value=0.0, description='Training', layout=Layout(flex='2'), max=5000.0, style=Pro…"
      ]
     },
     "metadata": {},
     "output_type": "display_data"
    },
    {
     "name": "stdout",
     "output_type": "stream",
     "text": [
      "Epoch 295: train=3.28955, val=3.05333, took 157.66 s\n"
     ]
    },
    {
     "data": {
      "application/vnd.jupyter.widget-view+json": {
       "model_id": "",
       "version_major": 2,
       "version_minor": 0
      },
      "text/plain": [
       "HBox(children=(FloatProgress(value=0.0, description='Training', layout=Layout(flex='2'), max=5000.0, style=Pro…"
      ]
     },
     "metadata": {},
     "output_type": "display_data"
    },
    {
     "name": "stdout",
     "output_type": "stream",
     "text": [
      "Epoch 296: train=3.28657, val=3.09968, took 158.71 s\n"
     ]
    },
    {
     "data": {
      "application/vnd.jupyter.widget-view+json": {
       "model_id": "",
       "version_major": 2,
       "version_minor": 0
      },
      "text/plain": [
       "HBox(children=(FloatProgress(value=0.0, description='Training', layout=Layout(flex='2'), max=5000.0, style=Pro…"
      ]
     },
     "metadata": {},
     "output_type": "display_data"
    },
    {
     "name": "stdout",
     "output_type": "stream",
     "text": [
      "Epoch 297: train=3.2891, val=3.12716, took 158.88 s\n"
     ]
    },
    {
     "data": {
      "application/vnd.jupyter.widget-view+json": {
       "model_id": "",
       "version_major": 2,
       "version_minor": 0
      },
      "text/plain": [
       "HBox(children=(FloatProgress(value=0.0, description='Training', layout=Layout(flex='2'), max=5000.0, style=Pro…"
      ]
     },
     "metadata": {},
     "output_type": "display_data"
    },
    {
     "name": "stdout",
     "output_type": "stream",
     "text": [
      "Epoch 298: train=3.28725, val=3.05487, took 156.89 s\n"
     ]
    },
    {
     "data": {
      "application/vnd.jupyter.widget-view+json": {
       "model_id": "",
       "version_major": 2,
       "version_minor": 0
      },
      "text/plain": [
       "HBox(children=(FloatProgress(value=0.0, description='Training', layout=Layout(flex='2'), max=5000.0, style=Pro…"
      ]
     },
     "metadata": {},
     "output_type": "display_data"
    },
    {
     "name": "stdout",
     "output_type": "stream",
     "text": [
      "Epoch 299: train=3.28605, val=3.1885, took 154.94 s\n"
     ]
    },
    {
     "data": {
      "application/vnd.jupyter.widget-view+json": {
       "model_id": "",
       "version_major": 2,
       "version_minor": 0
      },
      "text/plain": [
       "HBox(children=(FloatProgress(value=0.0, description='Training', layout=Layout(flex='2'), max=5000.0, style=Pro…"
      ]
     },
     "metadata": {},
     "output_type": "display_data"
    },
    {
     "name": "stdout",
     "output_type": "stream",
     "text": [
      "Epoch 300: train=3.28638, val=3.08671, took 161.69 s\n"
     ]
    },
    {
     "data": {
      "application/vnd.jupyter.widget-view+json": {
       "model_id": "",
       "version_major": 2,
       "version_minor": 0
      },
      "text/plain": [
       "HBox(children=(FloatProgress(value=0.0, description='Training', layout=Layout(flex='2'), max=5000.0, style=Pro…"
      ]
     },
     "metadata": {},
     "output_type": "display_data"
    },
    {
     "name": "stdout",
     "output_type": "stream",
     "text": [
      "Epoch 301: train=3.28349, val=3.10526, took 157.25 s\n"
     ]
    },
    {
     "data": {
      "application/vnd.jupyter.widget-view+json": {
       "model_id": "",
       "version_major": 2,
       "version_minor": 0
      },
      "text/plain": [
       "HBox(children=(FloatProgress(value=0.0, description='Training', layout=Layout(flex='2'), max=5000.0, style=Pro…"
      ]
     },
     "metadata": {},
     "output_type": "display_data"
    },
    {
     "name": "stdout",
     "output_type": "stream",
     "text": [
      "Epoch 302: train=3.2876, val=3.12016, took 157.49 s\n"
     ]
    },
    {
     "data": {
      "application/vnd.jupyter.widget-view+json": {
       "model_id": "",
       "version_major": 2,
       "version_minor": 0
      },
      "text/plain": [
       "HBox(children=(FloatProgress(value=0.0, description='Training', layout=Layout(flex='2'), max=5000.0, style=Pro…"
      ]
     },
     "metadata": {},
     "output_type": "display_data"
    },
    {
     "name": "stdout",
     "output_type": "stream",
     "text": [
      "Epoch 303: train=3.28357, val=3.07173, took 158.87 s\n"
     ]
    },
    {
     "data": {
      "application/vnd.jupyter.widget-view+json": {
       "model_id": "",
       "version_major": 2,
       "version_minor": 0
      },
      "text/plain": [
       "HBox(children=(FloatProgress(value=0.0, description='Training', layout=Layout(flex='2'), max=5000.0, style=Pro…"
      ]
     },
     "metadata": {},
     "output_type": "display_data"
    },
    {
     "name": "stdout",
     "output_type": "stream",
     "text": [
      "Epoch 304: train=3.28285, val=3.05193, took 159.67 s\n"
     ]
    },
    {
     "data": {
      "application/vnd.jupyter.widget-view+json": {
       "model_id": "",
       "version_major": 2,
       "version_minor": 0
      },
      "text/plain": [
       "HBox(children=(FloatProgress(value=0.0, description='Training', layout=Layout(flex='2'), max=5000.0, style=Pro…"
      ]
     },
     "metadata": {},
     "output_type": "display_data"
    },
    {
     "name": "stdout",
     "output_type": "stream",
     "text": [
      "Epoch 305: train=3.28644, val=3.06665, took 158.0 s\n"
     ]
    },
    {
     "data": {
      "application/vnd.jupyter.widget-view+json": {
       "model_id": "",
       "version_major": 2,
       "version_minor": 0
      },
      "text/plain": [
       "HBox(children=(FloatProgress(value=0.0, description='Training', layout=Layout(flex='2'), max=5000.0, style=Pro…"
      ]
     },
     "metadata": {},
     "output_type": "display_data"
    },
    {
     "name": "stdout",
     "output_type": "stream",
     "text": [
      "Epoch 306: train=3.28069, val=3.06113, took 157.87 s\n"
     ]
    },
    {
     "data": {
      "application/vnd.jupyter.widget-view+json": {
       "model_id": "",
       "version_major": 2,
       "version_minor": 0
      },
      "text/plain": [
       "HBox(children=(FloatProgress(value=0.0, description='Training', layout=Layout(flex='2'), max=5000.0, style=Pro…"
      ]
     },
     "metadata": {},
     "output_type": "display_data"
    },
    {
     "name": "stdout",
     "output_type": "stream",
     "text": [
      "Epoch 307: train=3.28714, val=3.12694, took 158.15 s\n"
     ]
    },
    {
     "data": {
      "application/vnd.jupyter.widget-view+json": {
       "model_id": "",
       "version_major": 2,
       "version_minor": 0
      },
      "text/plain": [
       "HBox(children=(FloatProgress(value=0.0, description='Training', layout=Layout(flex='2'), max=5000.0, style=Pro…"
      ]
     },
     "metadata": {},
     "output_type": "display_data"
    },
    {
     "name": "stdout",
     "output_type": "stream",
     "text": [
      "Epoch 308: train=3.28665, val=3.08225, took 158.8 s\n"
     ]
    },
    {
     "data": {
      "application/vnd.jupyter.widget-view+json": {
       "model_id": "",
       "version_major": 2,
       "version_minor": 0
      },
      "text/plain": [
       "HBox(children=(FloatProgress(value=0.0, description='Training', layout=Layout(flex='2'), max=5000.0, style=Pro…"
      ]
     },
     "metadata": {},
     "output_type": "display_data"
    },
    {
     "name": "stdout",
     "output_type": "stream",
     "text": [
      "Epoch 309: train=3.28323, val=3.10706, took 158.2 s\n"
     ]
    },
    {
     "data": {
      "application/vnd.jupyter.widget-view+json": {
       "model_id": "",
       "version_major": 2,
       "version_minor": 0
      },
      "text/plain": [
       "HBox(children=(FloatProgress(value=0.0, description='Training', layout=Layout(flex='2'), max=5000.0, style=Pro…"
      ]
     },
     "metadata": {},
     "output_type": "display_data"
    },
    {
     "name": "stdout",
     "output_type": "stream",
     "text": [
      "Epoch 310: train=3.28496, val=3.09623, took 158.91 s\n"
     ]
    },
    {
     "data": {
      "application/vnd.jupyter.widget-view+json": {
       "model_id": "",
       "version_major": 2,
       "version_minor": 0
      },
      "text/plain": [
       "HBox(children=(FloatProgress(value=0.0, description='Training', layout=Layout(flex='2'), max=5000.0, style=Pro…"
      ]
     },
     "metadata": {},
     "output_type": "display_data"
    },
    {
     "name": "stdout",
     "output_type": "stream",
     "text": [
      "Epoch 311: train=3.28023, val=3.16364, took 158.77 s\n"
     ]
    },
    {
     "data": {
      "application/vnd.jupyter.widget-view+json": {
       "model_id": "",
       "version_major": 2,
       "version_minor": 0
      },
      "text/plain": [
       "HBox(children=(FloatProgress(value=0.0, description='Training', layout=Layout(flex='2'), max=5000.0, style=Pro…"
      ]
     },
     "metadata": {},
     "output_type": "display_data"
    },
    {
     "name": "stdout",
     "output_type": "stream",
     "text": [
      "Epoch 312: train=3.28333, val=3.11677, took 158.33 s\n"
     ]
    },
    {
     "data": {
      "application/vnd.jupyter.widget-view+json": {
       "model_id": "",
       "version_major": 2,
       "version_minor": 0
      },
      "text/plain": [
       "HBox(children=(FloatProgress(value=0.0, description='Training', layout=Layout(flex='2'), max=5000.0, style=Pro…"
      ]
     },
     "metadata": {},
     "output_type": "display_data"
    },
    {
     "name": "stdout",
     "output_type": "stream",
     "text": [
      "Epoch 313: train=3.28126, val=3.06033, took 160.33 s\n"
     ]
    },
    {
     "data": {
      "application/vnd.jupyter.widget-view+json": {
       "model_id": "",
       "version_major": 2,
       "version_minor": 0
      },
      "text/plain": [
       "HBox(children=(FloatProgress(value=0.0, description='Training', layout=Layout(flex='2'), max=5000.0, style=Pro…"
      ]
     },
     "metadata": {},
     "output_type": "display_data"
    },
    {
     "name": "stdout",
     "output_type": "stream",
     "text": [
      "Epoch 314: train=3.28372, val=3.0996, took 159.17 s\n"
     ]
    },
    {
     "data": {
      "application/vnd.jupyter.widget-view+json": {
       "model_id": "",
       "version_major": 2,
       "version_minor": 0
      },
      "text/plain": [
       "HBox(children=(FloatProgress(value=0.0, description='Training', layout=Layout(flex='2'), max=5000.0, style=Pro…"
      ]
     },
     "metadata": {},
     "output_type": "display_data"
    },
    {
     "name": "stdout",
     "output_type": "stream",
     "text": [
      "Epoch 315: train=3.28012, val=3.07113, took 158.0 s\n"
     ]
    },
    {
     "data": {
      "application/vnd.jupyter.widget-view+json": {
       "model_id": "",
       "version_major": 2,
       "version_minor": 0
      },
      "text/plain": [
       "HBox(children=(FloatProgress(value=0.0, description='Training', layout=Layout(flex='2'), max=5000.0, style=Pro…"
      ]
     },
     "metadata": {},
     "output_type": "display_data"
    },
    {
     "name": "stdout",
     "output_type": "stream",
     "text": [
      "Epoch 316: train=3.2823, val=3.05461, took 158.08 s\n"
     ]
    },
    {
     "data": {
      "application/vnd.jupyter.widget-view+json": {
       "model_id": "",
       "version_major": 2,
       "version_minor": 0
      },
      "text/plain": [
       "HBox(children=(FloatProgress(value=0.0, description='Training', layout=Layout(flex='2'), max=5000.0, style=Pro…"
      ]
     },
     "metadata": {},
     "output_type": "display_data"
    },
    {
     "name": "stdout",
     "output_type": "stream",
     "text": [
      "Epoch 317: train=3.28241, val=3.10078, took 156.64 s\n"
     ]
    },
    {
     "data": {
      "application/vnd.jupyter.widget-view+json": {
       "model_id": "",
       "version_major": 2,
       "version_minor": 0
      },
      "text/plain": [
       "HBox(children=(FloatProgress(value=0.0, description='Training', layout=Layout(flex='2'), max=5000.0, style=Pro…"
      ]
     },
     "metadata": {},
     "output_type": "display_data"
    },
    {
     "name": "stdout",
     "output_type": "stream",
     "text": [
      "Epoch 318: train=3.28349, val=3.07073, took 158.89 s\n"
     ]
    },
    {
     "data": {
      "application/vnd.jupyter.widget-view+json": {
       "model_id": "",
       "version_major": 2,
       "version_minor": 0
      },
      "text/plain": [
       "HBox(children=(FloatProgress(value=0.0, description='Training', layout=Layout(flex='2'), max=5000.0, style=Pro…"
      ]
     },
     "metadata": {},
     "output_type": "display_data"
    },
    {
     "name": "stdout",
     "output_type": "stream",
     "text": [
      "Epoch 319: train=3.28083, val=3.07247, took 158.85 s\n"
     ]
    },
    {
     "data": {
      "application/vnd.jupyter.widget-view+json": {
       "model_id": "",
       "version_major": 2,
       "version_minor": 0
      },
      "text/plain": [
       "HBox(children=(FloatProgress(value=0.0, description='Training', layout=Layout(flex='2'), max=5000.0, style=Pro…"
      ]
     },
     "metadata": {},
     "output_type": "display_data"
    },
    {
     "name": "stdout",
     "output_type": "stream",
     "text": [
      "Epoch 320: train=3.28236, val=3.09732, took 159.09 s\n"
     ]
    },
    {
     "data": {
      "application/vnd.jupyter.widget-view+json": {
       "model_id": "",
       "version_major": 2,
       "version_minor": 0
      },
      "text/plain": [
       "HBox(children=(FloatProgress(value=0.0, description='Training', layout=Layout(flex='2'), max=5000.0, style=Pro…"
      ]
     },
     "metadata": {},
     "output_type": "display_data"
    },
    {
     "name": "stdout",
     "output_type": "stream",
     "text": [
      "Epoch 321: train=3.28448, val=3.12591, took 160.27 s\n"
     ]
    },
    {
     "data": {
      "application/vnd.jupyter.widget-view+json": {
       "model_id": "",
       "version_major": 2,
       "version_minor": 0
      },
      "text/plain": [
       "HBox(children=(FloatProgress(value=0.0, description='Training', layout=Layout(flex='2'), max=5000.0, style=Pro…"
      ]
     },
     "metadata": {},
     "output_type": "display_data"
    },
    {
     "name": "stdout",
     "output_type": "stream",
     "text": [
      "Epoch 322: train=3.28044, val=3.14469, took 157.64 s\n"
     ]
    },
    {
     "data": {
      "application/vnd.jupyter.widget-view+json": {
       "model_id": "",
       "version_major": 2,
       "version_minor": 0
      },
      "text/plain": [
       "HBox(children=(FloatProgress(value=0.0, description='Training', layout=Layout(flex='2'), max=5000.0, style=Pro…"
      ]
     },
     "metadata": {},
     "output_type": "display_data"
    },
    {
     "name": "stdout",
     "output_type": "stream",
     "text": [
      "Epoch 323: train=3.28211, val=3.11092, took 157.26 s\n"
     ]
    },
    {
     "data": {
      "application/vnd.jupyter.widget-view+json": {
       "model_id": "",
       "version_major": 2,
       "version_minor": 0
      },
      "text/plain": [
       "HBox(children=(FloatProgress(value=0.0, description='Training', layout=Layout(flex='2'), max=5000.0, style=Pro…"
      ]
     },
     "metadata": {},
     "output_type": "display_data"
    },
    {
     "name": "stdout",
     "output_type": "stream",
     "text": [
      "Epoch 324: train=3.28163, val=3.07545, took 156.51 s\n"
     ]
    },
    {
     "data": {
      "application/vnd.jupyter.widget-view+json": {
       "model_id": "",
       "version_major": 2,
       "version_minor": 0
      },
      "text/plain": [
       "HBox(children=(FloatProgress(value=0.0, description='Training', layout=Layout(flex='2'), max=5000.0, style=Pro…"
      ]
     },
     "metadata": {},
     "output_type": "display_data"
    },
    {
     "name": "stdout",
     "output_type": "stream",
     "text": [
      "Epoch 325: train=3.28344, val=3.09627, took 157.79 s\n"
     ]
    },
    {
     "data": {
      "application/vnd.jupyter.widget-view+json": {
       "model_id": "",
       "version_major": 2,
       "version_minor": 0
      },
      "text/plain": [
       "HBox(children=(FloatProgress(value=0.0, description='Training', layout=Layout(flex='2'), max=5000.0, style=Pro…"
      ]
     },
     "metadata": {},
     "output_type": "display_data"
    },
    {
     "name": "stdout",
     "output_type": "stream",
     "text": [
      "Epoch 326: train=3.2794, val=3.14976, took 160.35 s\n"
     ]
    },
    {
     "data": {
      "application/vnd.jupyter.widget-view+json": {
       "model_id": "",
       "version_major": 2,
       "version_minor": 0
      },
      "text/plain": [
       "HBox(children=(FloatProgress(value=0.0, description='Training', layout=Layout(flex='2'), max=5000.0, style=Pro…"
      ]
     },
     "metadata": {},
     "output_type": "display_data"
    },
    {
     "name": "stdout",
     "output_type": "stream",
     "text": [
      "Epoch 327: train=3.28243, val=3.11464, took 161.93 s\n"
     ]
    },
    {
     "data": {
      "application/vnd.jupyter.widget-view+json": {
       "model_id": "",
       "version_major": 2,
       "version_minor": 0
      },
      "text/plain": [
       "HBox(children=(FloatProgress(value=0.0, description='Training', layout=Layout(flex='2'), max=5000.0, style=Pro…"
      ]
     },
     "metadata": {},
     "output_type": "display_data"
    },
    {
     "name": "stdout",
     "output_type": "stream",
     "text": [
      "Epoch 328: train=3.28086, val=3.1065, took 157.47 s\n"
     ]
    },
    {
     "data": {
      "application/vnd.jupyter.widget-view+json": {
       "model_id": "",
       "version_major": 2,
       "version_minor": 0
      },
      "text/plain": [
       "HBox(children=(FloatProgress(value=0.0, description='Training', layout=Layout(flex='2'), max=5000.0, style=Pro…"
      ]
     },
     "metadata": {},
     "output_type": "display_data"
    },
    {
     "name": "stdout",
     "output_type": "stream",
     "text": [
      "Epoch 329: train=3.28688, val=3.17954, took 159.53 s\n"
     ]
    },
    {
     "data": {
      "application/vnd.jupyter.widget-view+json": {
       "model_id": "",
       "version_major": 2,
       "version_minor": 0
      },
      "text/plain": [
       "HBox(children=(FloatProgress(value=0.0, description='Training', layout=Layout(flex='2'), max=5000.0, style=Pro…"
      ]
     },
     "metadata": {},
     "output_type": "display_data"
    },
    {
     "name": "stdout",
     "output_type": "stream",
     "text": [
      "Epoch 330: train=3.27955, val=3.1539, took 157.84 s\n"
     ]
    },
    {
     "data": {
      "application/vnd.jupyter.widget-view+json": {
       "model_id": "",
       "version_major": 2,
       "version_minor": 0
      },
      "text/plain": [
       "HBox(children=(FloatProgress(value=0.0, description='Training', layout=Layout(flex='2'), max=5000.0, style=Pro…"
      ]
     },
     "metadata": {},
     "output_type": "display_data"
    },
    {
     "name": "stdout",
     "output_type": "stream",
     "text": [
      "Epoch 331: train=3.27918, val=3.26805, took 161.03 s\n"
     ]
    },
    {
     "data": {
      "application/vnd.jupyter.widget-view+json": {
       "model_id": "",
       "version_major": 2,
       "version_minor": 0
      },
      "text/plain": [
       "HBox(children=(FloatProgress(value=0.0, description='Training', layout=Layout(flex='2'), max=5000.0, style=Pro…"
      ]
     },
     "metadata": {},
     "output_type": "display_data"
    },
    {
     "name": "stdout",
     "output_type": "stream",
     "text": [
      "Epoch 332: train=3.27789, val=3.15981, took 159.41 s\n"
     ]
    },
    {
     "data": {
      "application/vnd.jupyter.widget-view+json": {
       "model_id": "",
       "version_major": 2,
       "version_minor": 0
      },
      "text/plain": [
       "HBox(children=(FloatProgress(value=0.0, description='Training', layout=Layout(flex='2'), max=5000.0, style=Pro…"
      ]
     },
     "metadata": {},
     "output_type": "display_data"
    },
    {
     "name": "stdout",
     "output_type": "stream",
     "text": [
      "Epoch 333: train=3.27655, val=3.0609, took 157.46 s\n"
     ]
    },
    {
     "data": {
      "application/vnd.jupyter.widget-view+json": {
       "model_id": "",
       "version_major": 2,
       "version_minor": 0
      },
      "text/plain": [
       "HBox(children=(FloatProgress(value=0.0, description='Training', layout=Layout(flex='2'), max=5000.0, style=Pro…"
      ]
     },
     "metadata": {},
     "output_type": "display_data"
    },
    {
     "name": "stdout",
     "output_type": "stream",
     "text": [
      "Epoch 334: train=3.28008, val=3.09711, took 159.6 s\n"
     ]
    },
    {
     "data": {
      "application/vnd.jupyter.widget-view+json": {
       "model_id": "",
       "version_major": 2,
       "version_minor": 0
      },
      "text/plain": [
       "HBox(children=(FloatProgress(value=0.0, description='Training', layout=Layout(flex='2'), max=5000.0, style=Pro…"
      ]
     },
     "metadata": {},
     "output_type": "display_data"
    },
    {
     "name": "stdout",
     "output_type": "stream",
     "text": [
      "Epoch 335: train=3.28025, val=3.048, took 156.98 s\n"
     ]
    },
    {
     "data": {
      "application/vnd.jupyter.widget-view+json": {
       "model_id": "",
       "version_major": 2,
       "version_minor": 0
      },
      "text/plain": [
       "HBox(children=(FloatProgress(value=0.0, description='Training', layout=Layout(flex='2'), max=5000.0, style=Pro…"
      ]
     },
     "metadata": {},
     "output_type": "display_data"
    },
    {
     "name": "stdout",
     "output_type": "stream",
     "text": [
      "Epoch 336: train=3.27712, val=3.06885, took 159.23 s\n"
     ]
    },
    {
     "data": {
      "application/vnd.jupyter.widget-view+json": {
       "model_id": "",
       "version_major": 2,
       "version_minor": 0
      },
      "text/plain": [
       "HBox(children=(FloatProgress(value=0.0, description='Training', layout=Layout(flex='2'), max=5000.0, style=Pro…"
      ]
     },
     "metadata": {},
     "output_type": "display_data"
    },
    {
     "name": "stdout",
     "output_type": "stream",
     "text": [
      "Epoch 337: train=3.27922, val=3.11524, took 157.07 s\n"
     ]
    },
    {
     "data": {
      "application/vnd.jupyter.widget-view+json": {
       "model_id": "",
       "version_major": 2,
       "version_minor": 0
      },
      "text/plain": [
       "HBox(children=(FloatProgress(value=0.0, description='Training', layout=Layout(flex='2'), max=5000.0, style=Pro…"
      ]
     },
     "metadata": {},
     "output_type": "display_data"
    },
    {
     "name": "stdout",
     "output_type": "stream",
     "text": [
      "Epoch 338: train=3.27728, val=3.08745, took 158.46 s\n"
     ]
    },
    {
     "data": {
      "application/vnd.jupyter.widget-view+json": {
       "model_id": "",
       "version_major": 2,
       "version_minor": 0
      },
      "text/plain": [
       "HBox(children=(FloatProgress(value=0.0, description='Training', layout=Layout(flex='2'), max=5000.0, style=Pro…"
      ]
     },
     "metadata": {},
     "output_type": "display_data"
    },
    {
     "name": "stdout",
     "output_type": "stream",
     "text": [
      "Epoch 339: train=3.27566, val=3.20003, took 156.12 s\n"
     ]
    },
    {
     "data": {
      "application/vnd.jupyter.widget-view+json": {
       "model_id": "",
       "version_major": 2,
       "version_minor": 0
      },
      "text/plain": [
       "HBox(children=(FloatProgress(value=0.0, description='Training', layout=Layout(flex='2'), max=5000.0, style=Pro…"
      ]
     },
     "metadata": {},
     "output_type": "display_data"
    },
    {
     "name": "stdout",
     "output_type": "stream",
     "text": [
      "Epoch 340: train=3.27989, val=3.22023, took 157.56 s\n"
     ]
    },
    {
     "data": {
      "application/vnd.jupyter.widget-view+json": {
       "model_id": "",
       "version_major": 2,
       "version_minor": 0
      },
      "text/plain": [
       "HBox(children=(FloatProgress(value=0.0, description='Training', layout=Layout(flex='2'), max=5000.0, style=Pro…"
      ]
     },
     "metadata": {},
     "output_type": "display_data"
    },
    {
     "name": "stdout",
     "output_type": "stream",
     "text": [
      "Epoch 341: train=3.28094, val=3.07255, took 157.6 s\n"
     ]
    },
    {
     "data": {
      "application/vnd.jupyter.widget-view+json": {
       "model_id": "",
       "version_major": 2,
       "version_minor": 0
      },
      "text/plain": [
       "HBox(children=(FloatProgress(value=0.0, description='Training', layout=Layout(flex='2'), max=5000.0, style=Pro…"
      ]
     },
     "metadata": {},
     "output_type": "display_data"
    },
    {
     "name": "stdout",
     "output_type": "stream",
     "text": [
      "Epoch 342: train=3.27972, val=3.14231, took 159.17 s\n"
     ]
    },
    {
     "data": {
      "application/vnd.jupyter.widget-view+json": {
       "model_id": "",
       "version_major": 2,
       "version_minor": 0
      },
      "text/plain": [
       "HBox(children=(FloatProgress(value=0.0, description='Training', layout=Layout(flex='2'), max=5000.0, style=Pro…"
      ]
     },
     "metadata": {},
     "output_type": "display_data"
    },
    {
     "name": "stdout",
     "output_type": "stream",
     "text": [
      "Epoch 343: train=3.27903, val=3.11047, took 158.42 s\n"
     ]
    },
    {
     "data": {
      "application/vnd.jupyter.widget-view+json": {
       "model_id": "",
       "version_major": 2,
       "version_minor": 0
      },
      "text/plain": [
       "HBox(children=(FloatProgress(value=0.0, description='Training', layout=Layout(flex='2'), max=5000.0, style=Pro…"
      ]
     },
     "metadata": {},
     "output_type": "display_data"
    },
    {
     "name": "stdout",
     "output_type": "stream",
     "text": [
      "Epoch 344: train=3.27607, val=3.04767, took 159.09 s\n"
     ]
    },
    {
     "data": {
      "application/vnd.jupyter.widget-view+json": {
       "model_id": "",
       "version_major": 2,
       "version_minor": 0
      },
      "text/plain": [
       "HBox(children=(FloatProgress(value=0.0, description='Training', layout=Layout(flex='2'), max=5000.0, style=Pro…"
      ]
     },
     "metadata": {},
     "output_type": "display_data"
    },
    {
     "name": "stdout",
     "output_type": "stream",
     "text": [
      "Epoch 345: train=3.27723, val=3.15681, took 160.14 s\n"
     ]
    },
    {
     "data": {
      "application/vnd.jupyter.widget-view+json": {
       "model_id": "",
       "version_major": 2,
       "version_minor": 0
      },
      "text/plain": [
       "HBox(children=(FloatProgress(value=0.0, description='Training', layout=Layout(flex='2'), max=5000.0, style=Pro…"
      ]
     },
     "metadata": {},
     "output_type": "display_data"
    },
    {
     "name": "stdout",
     "output_type": "stream",
     "text": [
      "Epoch 346: train=3.27767, val=3.10484, took 160.87 s\n"
     ]
    },
    {
     "data": {
      "application/vnd.jupyter.widget-view+json": {
       "model_id": "",
       "version_major": 2,
       "version_minor": 0
      },
      "text/plain": [
       "HBox(children=(FloatProgress(value=0.0, description='Training', layout=Layout(flex='2'), max=5000.0, style=Pro…"
      ]
     },
     "metadata": {},
     "output_type": "display_data"
    },
    {
     "name": "stdout",
     "output_type": "stream",
     "text": [
      "Epoch 347: train=3.27419, val=3.05575, took 158.29 s\n"
     ]
    },
    {
     "data": {
      "application/vnd.jupyter.widget-view+json": {
       "model_id": "",
       "version_major": 2,
       "version_minor": 0
      },
      "text/plain": [
       "HBox(children=(FloatProgress(value=0.0, description='Training', layout=Layout(flex='2'), max=5000.0, style=Pro…"
      ]
     },
     "metadata": {},
     "output_type": "display_data"
    },
    {
     "name": "stdout",
     "output_type": "stream",
     "text": [
      "Epoch 348: train=3.27516, val=3.13508, took 158.07 s\n"
     ]
    },
    {
     "data": {
      "application/vnd.jupyter.widget-view+json": {
       "model_id": "",
       "version_major": 2,
       "version_minor": 0
      },
      "text/plain": [
       "HBox(children=(FloatProgress(value=0.0, description='Training', layout=Layout(flex='2'), max=5000.0, style=Pro…"
      ]
     },
     "metadata": {},
     "output_type": "display_data"
    },
    {
     "name": "stdout",
     "output_type": "stream",
     "text": [
      "Epoch 349: train=3.27811, val=3.18019, took 160.05 s\n"
     ]
    },
    {
     "data": {
      "application/vnd.jupyter.widget-view+json": {
       "model_id": "",
       "version_major": 2,
       "version_minor": 0
      },
      "text/plain": [
       "HBox(children=(FloatProgress(value=0.0, description='Training', layout=Layout(flex='2'), max=5000.0, style=Pro…"
      ]
     },
     "metadata": {},
     "output_type": "display_data"
    },
    {
     "name": "stdout",
     "output_type": "stream",
     "text": [
      "Epoch 350: train=3.27197, val=3.12958, took 161.1 s\n"
     ]
    },
    {
     "data": {
      "application/vnd.jupyter.widget-view+json": {
       "model_id": "",
       "version_major": 2,
       "version_minor": 0
      },
      "text/plain": [
       "HBox(children=(FloatProgress(value=0.0, description='Training', layout=Layout(flex='2'), max=5000.0, style=Pro…"
      ]
     },
     "metadata": {},
     "output_type": "display_data"
    },
    {
     "name": "stdout",
     "output_type": "stream",
     "text": [
      "Epoch 351: train=3.27691, val=3.05732, took 157.8 s\n"
     ]
    },
    {
     "data": {
      "application/vnd.jupyter.widget-view+json": {
       "model_id": "",
       "version_major": 2,
       "version_minor": 0
      },
      "text/plain": [
       "HBox(children=(FloatProgress(value=0.0, description='Training', layout=Layout(flex='2'), max=5000.0, style=Pro…"
      ]
     },
     "metadata": {},
     "output_type": "display_data"
    },
    {
     "name": "stdout",
     "output_type": "stream",
     "text": [
      "Epoch 352: train=3.27439, val=3.10712, took 159.77 s\n"
     ]
    },
    {
     "data": {
      "application/vnd.jupyter.widget-view+json": {
       "model_id": "",
       "version_major": 2,
       "version_minor": 0
      },
      "text/plain": [
       "HBox(children=(FloatProgress(value=0.0, description='Training', layout=Layout(flex='2'), max=5000.0, style=Pro…"
      ]
     },
     "metadata": {},
     "output_type": "display_data"
    },
    {
     "name": "stdout",
     "output_type": "stream",
     "text": [
      "Epoch 353: train=3.27681, val=3.04821, took 162.28 s\n"
     ]
    },
    {
     "data": {
      "application/vnd.jupyter.widget-view+json": {
       "model_id": "",
       "version_major": 2,
       "version_minor": 0
      },
      "text/plain": [
       "HBox(children=(FloatProgress(value=0.0, description='Training', layout=Layout(flex='2'), max=5000.0, style=Pro…"
      ]
     },
     "metadata": {},
     "output_type": "display_data"
    },
    {
     "name": "stdout",
     "output_type": "stream",
     "text": [
      "Epoch 354: train=3.27519, val=3.11763, took 160.47 s\n"
     ]
    },
    {
     "data": {
      "application/vnd.jupyter.widget-view+json": {
       "model_id": "",
       "version_major": 2,
       "version_minor": 0
      },
      "text/plain": [
       "HBox(children=(FloatProgress(value=0.0, description='Training', layout=Layout(flex='2'), max=5000.0, style=Pro…"
      ]
     },
     "metadata": {},
     "output_type": "display_data"
    },
    {
     "name": "stdout",
     "output_type": "stream",
     "text": [
      "Epoch 355: train=3.2751, val=3.08571, took 156.77 s\n"
     ]
    },
    {
     "data": {
      "application/vnd.jupyter.widget-view+json": {
       "model_id": "",
       "version_major": 2,
       "version_minor": 0
      },
      "text/plain": [
       "HBox(children=(FloatProgress(value=0.0, description='Training', layout=Layout(flex='2'), max=5000.0, style=Pro…"
      ]
     },
     "metadata": {},
     "output_type": "display_data"
    },
    {
     "name": "stdout",
     "output_type": "stream",
     "text": [
      "Epoch 356: train=3.279, val=3.08253, took 160.54 s\n"
     ]
    },
    {
     "data": {
      "application/vnd.jupyter.widget-view+json": {
       "model_id": "",
       "version_major": 2,
       "version_minor": 0
      },
      "text/plain": [
       "HBox(children=(FloatProgress(value=0.0, description='Training', layout=Layout(flex='2'), max=5000.0, style=Pro…"
      ]
     },
     "metadata": {},
     "output_type": "display_data"
    },
    {
     "name": "stdout",
     "output_type": "stream",
     "text": [
      "Epoch 357: train=3.27675, val=3.1049, took 158.57 s\n"
     ]
    },
    {
     "data": {
      "application/vnd.jupyter.widget-view+json": {
       "model_id": "",
       "version_major": 2,
       "version_minor": 0
      },
      "text/plain": [
       "HBox(children=(FloatProgress(value=0.0, description='Training', layout=Layout(flex='2'), max=5000.0, style=Pro…"
      ]
     },
     "metadata": {},
     "output_type": "display_data"
    },
    {
     "name": "stdout",
     "output_type": "stream",
     "text": [
      "Epoch 358: train=3.2754, val=3.23107, took 155.66 s\n"
     ]
    },
    {
     "data": {
      "application/vnd.jupyter.widget-view+json": {
       "model_id": "",
       "version_major": 2,
       "version_minor": 0
      },
      "text/plain": [
       "HBox(children=(FloatProgress(value=0.0, description='Training', layout=Layout(flex='2'), max=5000.0, style=Pro…"
      ]
     },
     "metadata": {},
     "output_type": "display_data"
    },
    {
     "name": "stdout",
     "output_type": "stream",
     "text": [
      "Epoch 359: train=3.27309, val=3.08871, took 155.34 s\n"
     ]
    },
    {
     "data": {
      "application/vnd.jupyter.widget-view+json": {
       "model_id": "",
       "version_major": 2,
       "version_minor": 0
      },
      "text/plain": [
       "HBox(children=(FloatProgress(value=0.0, description='Training', layout=Layout(flex='2'), max=5000.0, style=Pro…"
      ]
     },
     "metadata": {},
     "output_type": "display_data"
    },
    {
     "name": "stdout",
     "output_type": "stream",
     "text": [
      "Epoch 360: train=3.27423, val=3.06904, took 160.57 s\n"
     ]
    },
    {
     "data": {
      "application/vnd.jupyter.widget-view+json": {
       "model_id": "",
       "version_major": 2,
       "version_minor": 0
      },
      "text/plain": [
       "HBox(children=(FloatProgress(value=0.0, description='Training', layout=Layout(flex='2'), max=5000.0, style=Pro…"
      ]
     },
     "metadata": {},
     "output_type": "display_data"
    },
    {
     "name": "stdout",
     "output_type": "stream",
     "text": [
      "Epoch 361: train=3.2747, val=3.058, took 160.59 s\n"
     ]
    },
    {
     "data": {
      "application/vnd.jupyter.widget-view+json": {
       "model_id": "",
       "version_major": 2,
       "version_minor": 0
      },
      "text/plain": [
       "HBox(children=(FloatProgress(value=0.0, description='Training', layout=Layout(flex='2'), max=5000.0, style=Pro…"
      ]
     },
     "metadata": {},
     "output_type": "display_data"
    },
    {
     "name": "stdout",
     "output_type": "stream",
     "text": [
      "Epoch 362: train=3.28067, val=3.07685, took 160.99 s\n"
     ]
    },
    {
     "data": {
      "application/vnd.jupyter.widget-view+json": {
       "model_id": "",
       "version_major": 2,
       "version_minor": 0
      },
      "text/plain": [
       "HBox(children=(FloatProgress(value=0.0, description='Training', layout=Layout(flex='2'), max=5000.0, style=Pro…"
      ]
     },
     "metadata": {},
     "output_type": "display_data"
    },
    {
     "name": "stdout",
     "output_type": "stream",
     "text": [
      "Epoch 363: train=3.2751, val=3.09679, took 160.0 s\n"
     ]
    },
    {
     "data": {
      "application/vnd.jupyter.widget-view+json": {
       "model_id": "",
       "version_major": 2,
       "version_minor": 0
      },
      "text/plain": [
       "HBox(children=(FloatProgress(value=0.0, description='Training', layout=Layout(flex='2'), max=5000.0, style=Pro…"
      ]
     },
     "metadata": {},
     "output_type": "display_data"
    },
    {
     "name": "stdout",
     "output_type": "stream",
     "text": [
      "Epoch 364: train=3.27684, val=3.04742, took 161.51 s\n"
     ]
    },
    {
     "data": {
      "application/vnd.jupyter.widget-view+json": {
       "model_id": "",
       "version_major": 2,
       "version_minor": 0
      },
      "text/plain": [
       "HBox(children=(FloatProgress(value=0.0, description='Training', layout=Layout(flex='2'), max=5000.0, style=Pro…"
      ]
     },
     "metadata": {},
     "output_type": "display_data"
    },
    {
     "name": "stdout",
     "output_type": "stream",
     "text": [
      "Epoch 365: train=3.2732, val=3.1054, took 160.81 s\n"
     ]
    },
    {
     "data": {
      "application/vnd.jupyter.widget-view+json": {
       "model_id": "",
       "version_major": 2,
       "version_minor": 0
      },
      "text/plain": [
       "HBox(children=(FloatProgress(value=0.0, description='Training', layout=Layout(flex='2'), max=5000.0, style=Pro…"
      ]
     },
     "metadata": {},
     "output_type": "display_data"
    },
    {
     "name": "stdout",
     "output_type": "stream",
     "text": [
      "Epoch 366: train=3.27551, val=3.29628, took 160.16 s\n"
     ]
    },
    {
     "data": {
      "application/vnd.jupyter.widget-view+json": {
       "model_id": "",
       "version_major": 2,
       "version_minor": 0
      },
      "text/plain": [
       "HBox(children=(FloatProgress(value=0.0, description='Training', layout=Layout(flex='2'), max=5000.0, style=Pro…"
      ]
     },
     "metadata": {},
     "output_type": "display_data"
    },
    {
     "name": "stdout",
     "output_type": "stream",
     "text": [
      "Epoch 367: train=3.27431, val=3.14566, took 160.99 s\n"
     ]
    },
    {
     "data": {
      "application/vnd.jupyter.widget-view+json": {
       "model_id": "",
       "version_major": 2,
       "version_minor": 0
      },
      "text/plain": [
       "HBox(children=(FloatProgress(value=0.0, description='Training', layout=Layout(flex='2'), max=5000.0, style=Pro…"
      ]
     },
     "metadata": {},
     "output_type": "display_data"
    },
    {
     "name": "stdout",
     "output_type": "stream",
     "text": [
      "Epoch 368: train=3.2766, val=3.15518, took 158.38 s\n"
     ]
    },
    {
     "data": {
      "application/vnd.jupyter.widget-view+json": {
       "model_id": "",
       "version_major": 2,
       "version_minor": 0
      },
      "text/plain": [
       "HBox(children=(FloatProgress(value=0.0, description='Training', layout=Layout(flex='2'), max=5000.0, style=Pro…"
      ]
     },
     "metadata": {},
     "output_type": "display_data"
    },
    {
     "name": "stdout",
     "output_type": "stream",
     "text": [
      "Epoch 369: train=3.27472, val=3.1174, took 160.06 s\n"
     ]
    },
    {
     "data": {
      "application/vnd.jupyter.widget-view+json": {
       "model_id": "",
       "version_major": 2,
       "version_minor": 0
      },
      "text/plain": [
       "HBox(children=(FloatProgress(value=0.0, description='Training', layout=Layout(flex='2'), max=5000.0, style=Pro…"
      ]
     },
     "metadata": {},
     "output_type": "display_data"
    },
    {
     "name": "stdout",
     "output_type": "stream",
     "text": [
      "Epoch 370: train=3.27083, val=3.11017, took 157.3 s\n"
     ]
    },
    {
     "data": {
      "application/vnd.jupyter.widget-view+json": {
       "model_id": "",
       "version_major": 2,
       "version_minor": 0
      },
      "text/plain": [
       "HBox(children=(FloatProgress(value=0.0, description='Training', layout=Layout(flex='2'), max=5000.0, style=Pro…"
      ]
     },
     "metadata": {},
     "output_type": "display_data"
    },
    {
     "name": "stdout",
     "output_type": "stream",
     "text": [
      "Epoch 371: train=3.27656, val=3.09874, took 159.86 s\n"
     ]
    },
    {
     "data": {
      "application/vnd.jupyter.widget-view+json": {
       "model_id": "",
       "version_major": 2,
       "version_minor": 0
      },
      "text/plain": [
       "HBox(children=(FloatProgress(value=0.0, description='Training', layout=Layout(flex='2'), max=5000.0, style=Pro…"
      ]
     },
     "metadata": {},
     "output_type": "display_data"
    },
    {
     "name": "stdout",
     "output_type": "stream",
     "text": [
      "Epoch 372: train=3.27602, val=3.05275, took 158.62 s\n"
     ]
    },
    {
     "data": {
      "application/vnd.jupyter.widget-view+json": {
       "model_id": "",
       "version_major": 2,
       "version_minor": 0
      },
      "text/plain": [
       "HBox(children=(FloatProgress(value=0.0, description='Training', layout=Layout(flex='2'), max=5000.0, style=Pro…"
      ]
     },
     "metadata": {},
     "output_type": "display_data"
    },
    {
     "name": "stdout",
     "output_type": "stream",
     "text": [
      "Epoch 373: train=3.26672, val=3.07798, took 160.46 s\n"
     ]
    },
    {
     "data": {
      "application/vnd.jupyter.widget-view+json": {
       "model_id": "",
       "version_major": 2,
       "version_minor": 0
      },
      "text/plain": [
       "HBox(children=(FloatProgress(value=0.0, description='Training', layout=Layout(flex='2'), max=5000.0, style=Pro…"
      ]
     },
     "metadata": {},
     "output_type": "display_data"
    },
    {
     "name": "stdout",
     "output_type": "stream",
     "text": [
      "Epoch 374: train=3.27049, val=3.13499, took 160.13 s\n"
     ]
    },
    {
     "data": {
      "application/vnd.jupyter.widget-view+json": {
       "model_id": "",
       "version_major": 2,
       "version_minor": 0
      },
      "text/plain": [
       "HBox(children=(FloatProgress(value=0.0, description='Training', layout=Layout(flex='2'), max=5000.0, style=Pro…"
      ]
     },
     "metadata": {},
     "output_type": "display_data"
    },
    {
     "name": "stdout",
     "output_type": "stream",
     "text": [
      "Epoch 375: train=3.27154, val=3.13474, took 159.23 s\n"
     ]
    },
    {
     "data": {
      "application/vnd.jupyter.widget-view+json": {
       "model_id": "",
       "version_major": 2,
       "version_minor": 0
      },
      "text/plain": [
       "HBox(children=(FloatProgress(value=0.0, description='Training', layout=Layout(flex='2'), max=5000.0, style=Pro…"
      ]
     },
     "metadata": {},
     "output_type": "display_data"
    },
    {
     "name": "stdout",
     "output_type": "stream",
     "text": [
      "Epoch 376: train=3.26971, val=3.11472, took 160.49 s\n"
     ]
    },
    {
     "data": {
      "application/vnd.jupyter.widget-view+json": {
       "model_id": "",
       "version_major": 2,
       "version_minor": 0
      },
      "text/plain": [
       "HBox(children=(FloatProgress(value=0.0, description='Training', layout=Layout(flex='2'), max=5000.0, style=Pro…"
      ]
     },
     "metadata": {},
     "output_type": "display_data"
    },
    {
     "name": "stdout",
     "output_type": "stream",
     "text": [
      "Epoch 377: train=3.27102, val=3.35207, took 157.48 s\n"
     ]
    },
    {
     "data": {
      "application/vnd.jupyter.widget-view+json": {
       "model_id": "",
       "version_major": 2,
       "version_minor": 0
      },
      "text/plain": [
       "HBox(children=(FloatProgress(value=0.0, description='Training', layout=Layout(flex='2'), max=5000.0, style=Pro…"
      ]
     },
     "metadata": {},
     "output_type": "display_data"
    },
    {
     "name": "stdout",
     "output_type": "stream",
     "text": [
      "Epoch 378: train=3.26986, val=3.03974, took 156.67 s\n"
     ]
    },
    {
     "data": {
      "application/vnd.jupyter.widget-view+json": {
       "model_id": "",
       "version_major": 2,
       "version_minor": 0
      },
      "text/plain": [
       "HBox(children=(FloatProgress(value=0.0, description='Training', layout=Layout(flex='2'), max=5000.0, style=Pro…"
      ]
     },
     "metadata": {},
     "output_type": "display_data"
    },
    {
     "name": "stdout",
     "output_type": "stream",
     "text": [
      "Epoch 379: train=3.26718, val=3.08344, took 160.61 s\n"
     ]
    },
    {
     "data": {
      "application/vnd.jupyter.widget-view+json": {
       "model_id": "",
       "version_major": 2,
       "version_minor": 0
      },
      "text/plain": [
       "HBox(children=(FloatProgress(value=0.0, description='Training', layout=Layout(flex='2'), max=5000.0, style=Pro…"
      ]
     },
     "metadata": {},
     "output_type": "display_data"
    },
    {
     "name": "stdout",
     "output_type": "stream",
     "text": [
      "Epoch 380: train=3.27317, val=3.17775, took 159.2 s\n"
     ]
    },
    {
     "data": {
      "application/vnd.jupyter.widget-view+json": {
       "model_id": "",
       "version_major": 2,
       "version_minor": 0
      },
      "text/plain": [
       "HBox(children=(FloatProgress(value=0.0, description='Training', layout=Layout(flex='2'), max=5000.0, style=Pro…"
      ]
     },
     "metadata": {},
     "output_type": "display_data"
    },
    {
     "name": "stdout",
     "output_type": "stream",
     "text": [
      "Epoch 381: train=3.27017, val=3.04499, took 158.63 s\n"
     ]
    },
    {
     "data": {
      "application/vnd.jupyter.widget-view+json": {
       "model_id": "",
       "version_major": 2,
       "version_minor": 0
      },
      "text/plain": [
       "HBox(children=(FloatProgress(value=0.0, description='Training', layout=Layout(flex='2'), max=5000.0, style=Pro…"
      ]
     },
     "metadata": {},
     "output_type": "display_data"
    },
    {
     "name": "stdout",
     "output_type": "stream",
     "text": [
      "Epoch 382: train=3.27314, val=3.12856, took 157.83 s\n"
     ]
    },
    {
     "data": {
      "application/vnd.jupyter.widget-view+json": {
       "model_id": "",
       "version_major": 2,
       "version_minor": 0
      },
      "text/plain": [
       "HBox(children=(FloatProgress(value=0.0, description='Training', layout=Layout(flex='2'), max=5000.0, style=Pro…"
      ]
     },
     "metadata": {},
     "output_type": "display_data"
    },
    {
     "name": "stdout",
     "output_type": "stream",
     "text": [
      "Epoch 383: train=3.26451, val=3.06079, took 159.68 s\n"
     ]
    },
    {
     "data": {
      "application/vnd.jupyter.widget-view+json": {
       "model_id": "",
       "version_major": 2,
       "version_minor": 0
      },
      "text/plain": [
       "HBox(children=(FloatProgress(value=0.0, description='Training', layout=Layout(flex='2'), max=5000.0, style=Pro…"
      ]
     },
     "metadata": {},
     "output_type": "display_data"
    },
    {
     "name": "stdout",
     "output_type": "stream",
     "text": [
      "Epoch 384: train=3.26931, val=3.22615, took 158.2 s\n"
     ]
    },
    {
     "data": {
      "application/vnd.jupyter.widget-view+json": {
       "model_id": "",
       "version_major": 2,
       "version_minor": 0
      },
      "text/plain": [
       "HBox(children=(FloatProgress(value=0.0, description='Training', layout=Layout(flex='2'), max=5000.0, style=Pro…"
      ]
     },
     "metadata": {},
     "output_type": "display_data"
    },
    {
     "name": "stdout",
     "output_type": "stream",
     "text": [
      "Epoch 385: train=3.26625, val=3.08642, took 161.15 s\n"
     ]
    },
    {
     "data": {
      "application/vnd.jupyter.widget-view+json": {
       "model_id": "",
       "version_major": 2,
       "version_minor": 0
      },
      "text/plain": [
       "HBox(children=(FloatProgress(value=0.0, description='Training', layout=Layout(flex='2'), max=5000.0, style=Pro…"
      ]
     },
     "metadata": {},
     "output_type": "display_data"
    },
    {
     "name": "stdout",
     "output_type": "stream",
     "text": [
      "Epoch 386: train=3.27118, val=3.16203, took 160.91 s\n"
     ]
    },
    {
     "data": {
      "application/vnd.jupyter.widget-view+json": {
       "model_id": "",
       "version_major": 2,
       "version_minor": 0
      },
      "text/plain": [
       "HBox(children=(FloatProgress(value=0.0, description='Training', layout=Layout(flex='2'), max=5000.0, style=Pro…"
      ]
     },
     "metadata": {},
     "output_type": "display_data"
    },
    {
     "name": "stdout",
     "output_type": "stream",
     "text": [
      "Epoch 387: train=3.26934, val=3.07871, took 160.34 s\n"
     ]
    },
    {
     "data": {
      "application/vnd.jupyter.widget-view+json": {
       "model_id": "",
       "version_major": 2,
       "version_minor": 0
      },
      "text/plain": [
       "HBox(children=(FloatProgress(value=0.0, description='Training', layout=Layout(flex='2'), max=5000.0, style=Pro…"
      ]
     },
     "metadata": {},
     "output_type": "display_data"
    },
    {
     "name": "stdout",
     "output_type": "stream",
     "text": [
      "Epoch 388: train=3.26697, val=3.06073, took 158.17 s\n"
     ]
    },
    {
     "data": {
      "application/vnd.jupyter.widget-view+json": {
       "model_id": "",
       "version_major": 2,
       "version_minor": 0
      },
      "text/plain": [
       "HBox(children=(FloatProgress(value=0.0, description='Training', layout=Layout(flex='2'), max=5000.0, style=Pro…"
      ]
     },
     "metadata": {},
     "output_type": "display_data"
    },
    {
     "name": "stdout",
     "output_type": "stream",
     "text": [
      "Epoch 389: train=3.26837, val=3.07023, took 158.8 s\n"
     ]
    },
    {
     "data": {
      "application/vnd.jupyter.widget-view+json": {
       "model_id": "",
       "version_major": 2,
       "version_minor": 0
      },
      "text/plain": [
       "HBox(children=(FloatProgress(value=0.0, description='Training', layout=Layout(flex='2'), max=5000.0, style=Pro…"
      ]
     },
     "metadata": {},
     "output_type": "display_data"
    },
    {
     "name": "stdout",
     "output_type": "stream",
     "text": [
      "Epoch 390: train=3.26688, val=3.13439, took 158.74 s\n"
     ]
    },
    {
     "data": {
      "application/vnd.jupyter.widget-view+json": {
       "model_id": "",
       "version_major": 2,
       "version_minor": 0
      },
      "text/plain": [
       "HBox(children=(FloatProgress(value=0.0, description='Training', layout=Layout(flex='2'), max=5000.0, style=Pro…"
      ]
     },
     "metadata": {},
     "output_type": "display_data"
    },
    {
     "name": "stdout",
     "output_type": "stream",
     "text": [
      "Epoch 391: train=3.26435, val=3.04752, took 159.72 s\n"
     ]
    },
    {
     "data": {
      "application/vnd.jupyter.widget-view+json": {
       "model_id": "",
       "version_major": 2,
       "version_minor": 0
      },
      "text/plain": [
       "HBox(children=(FloatProgress(value=0.0, description='Training', layout=Layout(flex='2'), max=5000.0, style=Pro…"
      ]
     },
     "metadata": {},
     "output_type": "display_data"
    },
    {
     "name": "stdout",
     "output_type": "stream",
     "text": [
      "Epoch 392: train=3.26327, val=3.09352, took 158.04 s\n"
     ]
    },
    {
     "data": {
      "application/vnd.jupyter.widget-view+json": {
       "model_id": "",
       "version_major": 2,
       "version_minor": 0
      },
      "text/plain": [
       "HBox(children=(FloatProgress(value=0.0, description='Training', layout=Layout(flex='2'), max=5000.0, style=Pro…"
      ]
     },
     "metadata": {},
     "output_type": "display_data"
    },
    {
     "name": "stdout",
     "output_type": "stream",
     "text": [
      "Epoch 393: train=3.26607, val=3.04781, took 155.73 s\n"
     ]
    },
    {
     "data": {
      "application/vnd.jupyter.widget-view+json": {
       "model_id": "",
       "version_major": 2,
       "version_minor": 0
      },
      "text/plain": [
       "HBox(children=(FloatProgress(value=0.0, description='Training', layout=Layout(flex='2'), max=5000.0, style=Pro…"
      ]
     },
     "metadata": {},
     "output_type": "display_data"
    },
    {
     "name": "stdout",
     "output_type": "stream",
     "text": [
      "Epoch 394: train=3.26548, val=3.07503, took 155.82 s\n"
     ]
    },
    {
     "data": {
      "application/vnd.jupyter.widget-view+json": {
       "model_id": "",
       "version_major": 2,
       "version_minor": 0
      },
      "text/plain": [
       "HBox(children=(FloatProgress(value=0.0, description='Training', layout=Layout(flex='2'), max=5000.0, style=Pro…"
      ]
     },
     "metadata": {},
     "output_type": "display_data"
    },
    {
     "name": "stdout",
     "output_type": "stream",
     "text": [
      "Epoch 395: train=3.26326, val=3.13468, took 158.9 s\n"
     ]
    },
    {
     "data": {
      "application/vnd.jupyter.widget-view+json": {
       "model_id": "",
       "version_major": 2,
       "version_minor": 0
      },
      "text/plain": [
       "HBox(children=(FloatProgress(value=0.0, description='Training', layout=Layout(flex='2'), max=5000.0, style=Pro…"
      ]
     },
     "metadata": {},
     "output_type": "display_data"
    },
    {
     "name": "stdout",
     "output_type": "stream",
     "text": [
      "Epoch 396: train=3.26507, val=3.13854, took 161.48 s\n"
     ]
    },
    {
     "data": {
      "application/vnd.jupyter.widget-view+json": {
       "model_id": "",
       "version_major": 2,
       "version_minor": 0
      },
      "text/plain": [
       "HBox(children=(FloatProgress(value=0.0, description='Training', layout=Layout(flex='2'), max=5000.0, style=Pro…"
      ]
     },
     "metadata": {},
     "output_type": "display_data"
    },
    {
     "name": "stdout",
     "output_type": "stream",
     "text": [
      "Epoch 397: train=3.26761, val=3.05894, took 160.14 s\n"
     ]
    },
    {
     "data": {
      "application/vnd.jupyter.widget-view+json": {
       "model_id": "",
       "version_major": 2,
       "version_minor": 0
      },
      "text/plain": [
       "HBox(children=(FloatProgress(value=0.0, description='Training', layout=Layout(flex='2'), max=5000.0, style=Pro…"
      ]
     },
     "metadata": {},
     "output_type": "display_data"
    },
    {
     "name": "stdout",
     "output_type": "stream",
     "text": [
      "Epoch 398: train=3.26557, val=3.08507, took 159.97 s\n"
     ]
    },
    {
     "data": {
      "application/vnd.jupyter.widget-view+json": {
       "model_id": "",
       "version_major": 2,
       "version_minor": 0
      },
      "text/plain": [
       "HBox(children=(FloatProgress(value=0.0, description='Training', layout=Layout(flex='2'), max=5000.0, style=Pro…"
      ]
     },
     "metadata": {},
     "output_type": "display_data"
    },
    {
     "name": "stdout",
     "output_type": "stream",
     "text": [
      "Epoch 399: train=3.26291, val=3.06472, took 158.66 s\n"
     ]
    },
    {
     "data": {
      "application/vnd.jupyter.widget-view+json": {
       "model_id": "",
       "version_major": 2,
       "version_minor": 0
      },
      "text/plain": [
       "HBox(children=(FloatProgress(value=0.0, description='Training', layout=Layout(flex='2'), max=5000.0, style=Pro…"
      ]
     },
     "metadata": {},
     "output_type": "display_data"
    },
    {
     "name": "stdout",
     "output_type": "stream",
     "text": [
      "Epoch 400: train=3.26057, val=3.21445, took 157.73 s\n"
     ]
    },
    {
     "data": {
      "application/vnd.jupyter.widget-view+json": {
       "model_id": "",
       "version_major": 2,
       "version_minor": 0
      },
      "text/plain": [
       "HBox(children=(FloatProgress(value=0.0, description='Training', layout=Layout(flex='2'), max=5000.0, style=Pro…"
      ]
     },
     "metadata": {},
     "output_type": "display_data"
    },
    {
     "name": "stdout",
     "output_type": "stream",
     "text": [
      "Epoch 401: train=3.26245, val=3.09686, took 159.87 s\n"
     ]
    },
    {
     "data": {
      "application/vnd.jupyter.widget-view+json": {
       "model_id": "",
       "version_major": 2,
       "version_minor": 0
      },
      "text/plain": [
       "HBox(children=(FloatProgress(value=0.0, description='Training', layout=Layout(flex='2'), max=5000.0, style=Pro…"
      ]
     },
     "metadata": {},
     "output_type": "display_data"
    },
    {
     "name": "stdout",
     "output_type": "stream",
     "text": [
      "Epoch 402: train=3.26207, val=3.13327, took 159.98 s\n"
     ]
    },
    {
     "data": {
      "application/vnd.jupyter.widget-view+json": {
       "model_id": "",
       "version_major": 2,
       "version_minor": 0
      },
      "text/plain": [
       "HBox(children=(FloatProgress(value=0.0, description='Training', layout=Layout(flex='2'), max=5000.0, style=Pro…"
      ]
     },
     "metadata": {},
     "output_type": "display_data"
    },
    {
     "name": "stdout",
     "output_type": "stream",
     "text": [
      "Epoch 403: train=3.26104, val=3.22824, took 156.33 s\n"
     ]
    },
    {
     "data": {
      "application/vnd.jupyter.widget-view+json": {
       "model_id": "",
       "version_major": 2,
       "version_minor": 0
      },
      "text/plain": [
       "HBox(children=(FloatProgress(value=0.0, description='Training', layout=Layout(flex='2'), max=5000.0, style=Pro…"
      ]
     },
     "metadata": {},
     "output_type": "display_data"
    },
    {
     "name": "stdout",
     "output_type": "stream",
     "text": [
      "Epoch 404: train=3.26206, val=3.12404, took 158.76 s\n"
     ]
    },
    {
     "data": {
      "application/vnd.jupyter.widget-view+json": {
       "model_id": "",
       "version_major": 2,
       "version_minor": 0
      },
      "text/plain": [
       "HBox(children=(FloatProgress(value=0.0, description='Training', layout=Layout(flex='2'), max=5000.0, style=Pro…"
      ]
     },
     "metadata": {},
     "output_type": "display_data"
    },
    {
     "name": "stdout",
     "output_type": "stream",
     "text": [
      "Epoch 405: train=3.2621, val=3.09392, took 159.92 s\n"
     ]
    },
    {
     "data": {
      "application/vnd.jupyter.widget-view+json": {
       "model_id": "",
       "version_major": 2,
       "version_minor": 0
      },
      "text/plain": [
       "HBox(children=(FloatProgress(value=0.0, description='Training', layout=Layout(flex='2'), max=5000.0, style=Pro…"
      ]
     },
     "metadata": {},
     "output_type": "display_data"
    },
    {
     "name": "stdout",
     "output_type": "stream",
     "text": [
      "Epoch 406: train=3.26155, val=3.07757, took 157.89 s\n"
     ]
    },
    {
     "data": {
      "application/vnd.jupyter.widget-view+json": {
       "model_id": "",
       "version_major": 2,
       "version_minor": 0
      },
      "text/plain": [
       "HBox(children=(FloatProgress(value=0.0, description='Training', layout=Layout(flex='2'), max=5000.0, style=Pro…"
      ]
     },
     "metadata": {},
     "output_type": "display_data"
    },
    {
     "name": "stdout",
     "output_type": "stream",
     "text": [
      "Epoch 407: train=3.26401, val=3.16375, took 158.95 s\n"
     ]
    },
    {
     "data": {
      "application/vnd.jupyter.widget-view+json": {
       "model_id": "",
       "version_major": 2,
       "version_minor": 0
      },
      "text/plain": [
       "HBox(children=(FloatProgress(value=0.0, description='Training', layout=Layout(flex='2'), max=5000.0, style=Pro…"
      ]
     },
     "metadata": {},
     "output_type": "display_data"
    },
    {
     "name": "stdout",
     "output_type": "stream",
     "text": [
      "Epoch 408: train=3.26068, val=3.14346, took 161.24 s\n"
     ]
    },
    {
     "data": {
      "application/vnd.jupyter.widget-view+json": {
       "model_id": "",
       "version_major": 2,
       "version_minor": 0
      },
      "text/plain": [
       "HBox(children=(FloatProgress(value=0.0, description='Training', layout=Layout(flex='2'), max=5000.0, style=Pro…"
      ]
     },
     "metadata": {},
     "output_type": "display_data"
    },
    {
     "name": "stdout",
     "output_type": "stream",
     "text": [
      "Epoch 409: train=3.26418, val=3.04007, took 155.45 s\n"
     ]
    },
    {
     "data": {
      "application/vnd.jupyter.widget-view+json": {
       "model_id": "",
       "version_major": 2,
       "version_minor": 0
      },
      "text/plain": [
       "HBox(children=(FloatProgress(value=0.0, description='Training', layout=Layout(flex='2'), max=5000.0, style=Pro…"
      ]
     },
     "metadata": {},
     "output_type": "display_data"
    },
    {
     "name": "stdout",
     "output_type": "stream",
     "text": [
      "Epoch 410: train=3.25986, val=3.07487, took 160.73 s\n"
     ]
    },
    {
     "data": {
      "application/vnd.jupyter.widget-view+json": {
       "model_id": "",
       "version_major": 2,
       "version_minor": 0
      },
      "text/plain": [
       "HBox(children=(FloatProgress(value=0.0, description='Training', layout=Layout(flex='2'), max=5000.0, style=Pro…"
      ]
     },
     "metadata": {},
     "output_type": "display_data"
    },
    {
     "name": "stdout",
     "output_type": "stream",
     "text": [
      "Epoch 411: train=3.26024, val=3.11637, took 160.54 s\n"
     ]
    },
    {
     "data": {
      "application/vnd.jupyter.widget-view+json": {
       "model_id": "",
       "version_major": 2,
       "version_minor": 0
      },
      "text/plain": [
       "HBox(children=(FloatProgress(value=0.0, description='Training', layout=Layout(flex='2'), max=5000.0, style=Pro…"
      ]
     },
     "metadata": {},
     "output_type": "display_data"
    },
    {
     "name": "stdout",
     "output_type": "stream",
     "text": [
      "Epoch 412: train=3.26236, val=3.04759, took 160.97 s\n"
     ]
    },
    {
     "data": {
      "application/vnd.jupyter.widget-view+json": {
       "model_id": "",
       "version_major": 2,
       "version_minor": 0
      },
      "text/plain": [
       "HBox(children=(FloatProgress(value=0.0, description='Training', layout=Layout(flex='2'), max=5000.0, style=Pro…"
      ]
     },
     "metadata": {},
     "output_type": "display_data"
    },
    {
     "name": "stdout",
     "output_type": "stream",
     "text": [
      "Epoch 413: train=3.26338, val=3.0361, took 159.92 s\n"
     ]
    },
    {
     "data": {
      "application/vnd.jupyter.widget-view+json": {
       "model_id": "",
       "version_major": 2,
       "version_minor": 0
      },
      "text/plain": [
       "HBox(children=(FloatProgress(value=0.0, description='Training', layout=Layout(flex='2'), max=5000.0, style=Pro…"
      ]
     },
     "metadata": {},
     "output_type": "display_data"
    },
    {
     "name": "stdout",
     "output_type": "stream",
     "text": [
      "Epoch 414: train=3.26201, val=3.07323, took 161.09 s\n"
     ]
    },
    {
     "data": {
      "application/vnd.jupyter.widget-view+json": {
       "model_id": "",
       "version_major": 2,
       "version_minor": 0
      },
      "text/plain": [
       "HBox(children=(FloatProgress(value=0.0, description='Training', layout=Layout(flex='2'), max=5000.0, style=Pro…"
      ]
     },
     "metadata": {},
     "output_type": "display_data"
    },
    {
     "name": "stdout",
     "output_type": "stream",
     "text": [
      "Epoch 415: train=3.25873, val=3.07435, took 159.91 s\n"
     ]
    },
    {
     "data": {
      "application/vnd.jupyter.widget-view+json": {
       "model_id": "",
       "version_major": 2,
       "version_minor": 0
      },
      "text/plain": [
       "HBox(children=(FloatProgress(value=0.0, description='Training', layout=Layout(flex='2'), max=5000.0, style=Pro…"
      ]
     },
     "metadata": {},
     "output_type": "display_data"
    },
    {
     "name": "stdout",
     "output_type": "stream",
     "text": [
      "Epoch 416: train=3.26319, val=3.09764, took 160.25 s\n"
     ]
    },
    {
     "data": {
      "application/vnd.jupyter.widget-view+json": {
       "model_id": "",
       "version_major": 2,
       "version_minor": 0
      },
      "text/plain": [
       "HBox(children=(FloatProgress(value=0.0, description='Training', layout=Layout(flex='2'), max=5000.0, style=Pro…"
      ]
     },
     "metadata": {},
     "output_type": "display_data"
    },
    {
     "name": "stdout",
     "output_type": "stream",
     "text": [
      "Epoch 417: train=3.25843, val=3.03465, took 158.45 s\n"
     ]
    },
    {
     "data": {
      "application/vnd.jupyter.widget-view+json": {
       "model_id": "",
       "version_major": 2,
       "version_minor": 0
      },
      "text/plain": [
       "HBox(children=(FloatProgress(value=0.0, description='Training', layout=Layout(flex='2'), max=5000.0, style=Pro…"
      ]
     },
     "metadata": {},
     "output_type": "display_data"
    },
    {
     "name": "stdout",
     "output_type": "stream",
     "text": [
      "Epoch 418: train=3.25672, val=3.08638, took 158.21 s\n"
     ]
    },
    {
     "data": {
      "application/vnd.jupyter.widget-view+json": {
       "model_id": "",
       "version_major": 2,
       "version_minor": 0
      },
      "text/plain": [
       "HBox(children=(FloatProgress(value=0.0, description='Training', layout=Layout(flex='2'), max=5000.0, style=Pro…"
      ]
     },
     "metadata": {},
     "output_type": "display_data"
    },
    {
     "name": "stdout",
     "output_type": "stream",
     "text": [
      "Epoch 419: train=3.25724, val=3.16224, took 160.97 s\n"
     ]
    },
    {
     "data": {
      "application/vnd.jupyter.widget-view+json": {
       "model_id": "",
       "version_major": 2,
       "version_minor": 0
      },
      "text/plain": [
       "HBox(children=(FloatProgress(value=0.0, description='Training', layout=Layout(flex='2'), max=5000.0, style=Pro…"
      ]
     },
     "metadata": {},
     "output_type": "display_data"
    },
    {
     "name": "stdout",
     "output_type": "stream",
     "text": [
      "Epoch 420: train=3.2559, val=3.1615, took 159.83 s\n"
     ]
    },
    {
     "data": {
      "application/vnd.jupyter.widget-view+json": {
       "model_id": "",
       "version_major": 2,
       "version_minor": 0
      },
      "text/plain": [
       "HBox(children=(FloatProgress(value=0.0, description='Training', layout=Layout(flex='2'), max=5000.0, style=Pro…"
      ]
     },
     "metadata": {},
     "output_type": "display_data"
    },
    {
     "name": "stdout",
     "output_type": "stream",
     "text": [
      "Epoch 421: train=3.26907, val=3.09648, took 159.31 s\n"
     ]
    },
    {
     "data": {
      "application/vnd.jupyter.widget-view+json": {
       "model_id": "",
       "version_major": 2,
       "version_minor": 0
      },
      "text/plain": [
       "HBox(children=(FloatProgress(value=0.0, description='Training', layout=Layout(flex='2'), max=5000.0, style=Pro…"
      ]
     },
     "metadata": {},
     "output_type": "display_data"
    },
    {
     "name": "stdout",
     "output_type": "stream",
     "text": [
      "Epoch 422: train=3.26024, val=3.04136, took 160.07 s\n"
     ]
    },
    {
     "data": {
      "application/vnd.jupyter.widget-view+json": {
       "model_id": "",
       "version_major": 2,
       "version_minor": 0
      },
      "text/plain": [
       "HBox(children=(FloatProgress(value=0.0, description='Training', layout=Layout(flex='2'), max=5000.0, style=Pro…"
      ]
     },
     "metadata": {},
     "output_type": "display_data"
    },
    {
     "name": "stdout",
     "output_type": "stream",
     "text": [
      "Epoch 423: train=3.25684, val=3.0691, took 157.52 s\n"
     ]
    },
    {
     "data": {
      "application/vnd.jupyter.widget-view+json": {
       "model_id": "",
       "version_major": 2,
       "version_minor": 0
      },
      "text/plain": [
       "HBox(children=(FloatProgress(value=0.0, description='Training', layout=Layout(flex='2'), max=5000.0, style=Pro…"
      ]
     },
     "metadata": {},
     "output_type": "display_data"
    },
    {
     "name": "stdout",
     "output_type": "stream",
     "text": [
      "Epoch 424: train=3.25801, val=3.10423, took 161.77 s\n"
     ]
    },
    {
     "data": {
      "application/vnd.jupyter.widget-view+json": {
       "model_id": "",
       "version_major": 2,
       "version_minor": 0
      },
      "text/plain": [
       "HBox(children=(FloatProgress(value=0.0, description='Training', layout=Layout(flex='2'), max=5000.0, style=Pro…"
      ]
     },
     "metadata": {},
     "output_type": "display_data"
    },
    {
     "name": "stdout",
     "output_type": "stream",
     "text": [
      "Epoch 425: train=3.25761, val=3.03478, took 161.44 s\n"
     ]
    },
    {
     "data": {
      "application/vnd.jupyter.widget-view+json": {
       "model_id": "",
       "version_major": 2,
       "version_minor": 0
      },
      "text/plain": [
       "HBox(children=(FloatProgress(value=0.0, description='Training', layout=Layout(flex='2'), max=5000.0, style=Pro…"
      ]
     },
     "metadata": {},
     "output_type": "display_data"
    },
    {
     "name": "stdout",
     "output_type": "stream",
     "text": [
      "Epoch 426: train=3.25775, val=3.08209, took 159.55 s\n"
     ]
    },
    {
     "data": {
      "application/vnd.jupyter.widget-view+json": {
       "model_id": "",
       "version_major": 2,
       "version_minor": 0
      },
      "text/plain": [
       "HBox(children=(FloatProgress(value=0.0, description='Training', layout=Layout(flex='2'), max=5000.0, style=Pro…"
      ]
     },
     "metadata": {},
     "output_type": "display_data"
    },
    {
     "name": "stdout",
     "output_type": "stream",
     "text": [
      "Epoch 427: train=3.25998, val=3.11782, took 158.0 s\n"
     ]
    },
    {
     "data": {
      "application/vnd.jupyter.widget-view+json": {
       "model_id": "",
       "version_major": 2,
       "version_minor": 0
      },
      "text/plain": [
       "HBox(children=(FloatProgress(value=0.0, description='Training', layout=Layout(flex='2'), max=5000.0, style=Pro…"
      ]
     },
     "metadata": {},
     "output_type": "display_data"
    },
    {
     "name": "stdout",
     "output_type": "stream",
     "text": [
      "Epoch 428: train=3.25657, val=3.11486, took 160.26 s\n"
     ]
    },
    {
     "data": {
      "application/vnd.jupyter.widget-view+json": {
       "model_id": "",
       "version_major": 2,
       "version_minor": 0
      },
      "text/plain": [
       "HBox(children=(FloatProgress(value=0.0, description='Training', layout=Layout(flex='2'), max=5000.0, style=Pro…"
      ]
     },
     "metadata": {},
     "output_type": "display_data"
    },
    {
     "name": "stdout",
     "output_type": "stream",
     "text": [
      "Epoch 429: train=3.26067, val=3.04069, took 160.7 s\n"
     ]
    },
    {
     "data": {
      "application/vnd.jupyter.widget-view+json": {
       "model_id": "",
       "version_major": 2,
       "version_minor": 0
      },
      "text/plain": [
       "HBox(children=(FloatProgress(value=0.0, description='Training', layout=Layout(flex='2'), max=5000.0, style=Pro…"
      ]
     },
     "metadata": {},
     "output_type": "display_data"
    },
    {
     "name": "stdout",
     "output_type": "stream",
     "text": [
      "Epoch 430: train=3.25683, val=3.09583, took 160.73 s\n"
     ]
    },
    {
     "data": {
      "application/vnd.jupyter.widget-view+json": {
       "model_id": "",
       "version_major": 2,
       "version_minor": 0
      },
      "text/plain": [
       "HBox(children=(FloatProgress(value=0.0, description='Training', layout=Layout(flex='2'), max=5000.0, style=Pro…"
      ]
     },
     "metadata": {},
     "output_type": "display_data"
    },
    {
     "name": "stdout",
     "output_type": "stream",
     "text": [
      "Epoch 431: train=3.25891, val=3.0543, took 159.33 s\n"
     ]
    },
    {
     "data": {
      "application/vnd.jupyter.widget-view+json": {
       "model_id": "",
       "version_major": 2,
       "version_minor": 0
      },
      "text/plain": [
       "HBox(children=(FloatProgress(value=0.0, description='Training', layout=Layout(flex='2'), max=5000.0, style=Pro…"
      ]
     },
     "metadata": {},
     "output_type": "display_data"
    },
    {
     "name": "stdout",
     "output_type": "stream",
     "text": [
      "Epoch 432: train=3.26015, val=3.10738, took 159.65 s\n"
     ]
    },
    {
     "data": {
      "application/vnd.jupyter.widget-view+json": {
       "model_id": "",
       "version_major": 2,
       "version_minor": 0
      },
      "text/plain": [
       "HBox(children=(FloatProgress(value=0.0, description='Training', layout=Layout(flex='2'), max=5000.0, style=Pro…"
      ]
     },
     "metadata": {},
     "output_type": "display_data"
    },
    {
     "name": "stdout",
     "output_type": "stream",
     "text": [
      "Epoch 433: train=3.25742, val=3.03183, took 158.64 s\n"
     ]
    },
    {
     "data": {
      "application/vnd.jupyter.widget-view+json": {
       "model_id": "",
       "version_major": 2,
       "version_minor": 0
      },
      "text/plain": [
       "HBox(children=(FloatProgress(value=0.0, description='Training', layout=Layout(flex='2'), max=5000.0, style=Pro…"
      ]
     },
     "metadata": {},
     "output_type": "display_data"
    },
    {
     "name": "stdout",
     "output_type": "stream",
     "text": [
      "Epoch 434: train=3.25564, val=3.03508, took 158.29 s\n"
     ]
    },
    {
     "data": {
      "application/vnd.jupyter.widget-view+json": {
       "model_id": "",
       "version_major": 2,
       "version_minor": 0
      },
      "text/plain": [
       "HBox(children=(FloatProgress(value=0.0, description='Training', layout=Layout(flex='2'), max=5000.0, style=Pro…"
      ]
     },
     "metadata": {},
     "output_type": "display_data"
    },
    {
     "name": "stdout",
     "output_type": "stream",
     "text": [
      "Epoch 435: train=3.2559, val=3.14079, took 157.01 s\n"
     ]
    },
    {
     "data": {
      "application/vnd.jupyter.widget-view+json": {
       "model_id": "",
       "version_major": 2,
       "version_minor": 0
      },
      "text/plain": [
       "HBox(children=(FloatProgress(value=0.0, description='Training', layout=Layout(flex='2'), max=5000.0, style=Pro…"
      ]
     },
     "metadata": {},
     "output_type": "display_data"
    },
    {
     "name": "stdout",
     "output_type": "stream",
     "text": [
      "Epoch 436: train=3.25683, val=3.05173, took 157.16 s\n"
     ]
    },
    {
     "data": {
      "application/vnd.jupyter.widget-view+json": {
       "model_id": "",
       "version_major": 2,
       "version_minor": 0
      },
      "text/plain": [
       "HBox(children=(FloatProgress(value=0.0, description='Training', layout=Layout(flex='2'), max=5000.0, style=Pro…"
      ]
     },
     "metadata": {},
     "output_type": "display_data"
    },
    {
     "name": "stdout",
     "output_type": "stream",
     "text": [
      "Epoch 437: train=3.25664, val=3.08503, took 156.69 s\n"
     ]
    },
    {
     "data": {
      "application/vnd.jupyter.widget-view+json": {
       "model_id": "",
       "version_major": 2,
       "version_minor": 0
      },
      "text/plain": [
       "HBox(children=(FloatProgress(value=0.0, description='Training', layout=Layout(flex='2'), max=5000.0, style=Pro…"
      ]
     },
     "metadata": {},
     "output_type": "display_data"
    },
    {
     "name": "stdout",
     "output_type": "stream",
     "text": [
      "Epoch 438: train=3.25774, val=3.11271, took 157.3 s\n"
     ]
    },
    {
     "data": {
      "application/vnd.jupyter.widget-view+json": {
       "model_id": "",
       "version_major": 2,
       "version_minor": 0
      },
      "text/plain": [
       "HBox(children=(FloatProgress(value=0.0, description='Training', layout=Layout(flex='2'), max=5000.0, style=Pro…"
      ]
     },
     "metadata": {},
     "output_type": "display_data"
    },
    {
     "name": "stdout",
     "output_type": "stream",
     "text": [
      "Epoch 439: train=3.25788, val=3.09177, took 156.44 s\n"
     ]
    },
    {
     "data": {
      "application/vnd.jupyter.widget-view+json": {
       "model_id": "",
       "version_major": 2,
       "version_minor": 0
      },
      "text/plain": [
       "HBox(children=(FloatProgress(value=0.0, description='Training', layout=Layout(flex='2'), max=5000.0, style=Pro…"
      ]
     },
     "metadata": {},
     "output_type": "display_data"
    },
    {
     "name": "stdout",
     "output_type": "stream",
     "text": [
      "Epoch 440: train=3.26109, val=3.04547, took 158.32 s\n"
     ]
    },
    {
     "data": {
      "application/vnd.jupyter.widget-view+json": {
       "model_id": "",
       "version_major": 2,
       "version_minor": 0
      },
      "text/plain": [
       "HBox(children=(FloatProgress(value=0.0, description='Training', layout=Layout(flex='2'), max=5000.0, style=Pro…"
      ]
     },
     "metadata": {},
     "output_type": "display_data"
    },
    {
     "name": "stdout",
     "output_type": "stream",
     "text": [
      "Epoch 441: train=3.25789, val=3.1812, took 158.56 s\n"
     ]
    },
    {
     "data": {
      "application/vnd.jupyter.widget-view+json": {
       "model_id": "",
       "version_major": 2,
       "version_minor": 0
      },
      "text/plain": [
       "HBox(children=(FloatProgress(value=0.0, description='Training', layout=Layout(flex='2'), max=5000.0, style=Pro…"
      ]
     },
     "metadata": {},
     "output_type": "display_data"
    },
    {
     "name": "stdout",
     "output_type": "stream",
     "text": [
      "Epoch 442: train=3.25688, val=3.07972, took 158.44 s\n"
     ]
    },
    {
     "data": {
      "application/vnd.jupyter.widget-view+json": {
       "model_id": "",
       "version_major": 2,
       "version_minor": 0
      },
      "text/plain": [
       "HBox(children=(FloatProgress(value=0.0, description='Training', layout=Layout(flex='2'), max=5000.0, style=Pro…"
      ]
     },
     "metadata": {},
     "output_type": "display_data"
    },
    {
     "name": "stdout",
     "output_type": "stream",
     "text": [
      "Epoch 443: train=3.25603, val=3.09524, took 158.94 s\n"
     ]
    },
    {
     "data": {
      "application/vnd.jupyter.widget-view+json": {
       "model_id": "",
       "version_major": 2,
       "version_minor": 0
      },
      "text/plain": [
       "HBox(children=(FloatProgress(value=0.0, description='Training', layout=Layout(flex='2'), max=5000.0, style=Pro…"
      ]
     },
     "metadata": {},
     "output_type": "display_data"
    },
    {
     "name": "stdout",
     "output_type": "stream",
     "text": [
      "Epoch 444: train=3.25624, val=3.1416, took 157.37 s\n"
     ]
    },
    {
     "data": {
      "application/vnd.jupyter.widget-view+json": {
       "model_id": "",
       "version_major": 2,
       "version_minor": 0
      },
      "text/plain": [
       "HBox(children=(FloatProgress(value=0.0, description='Training', layout=Layout(flex='2'), max=5000.0, style=Pro…"
      ]
     },
     "metadata": {},
     "output_type": "display_data"
    },
    {
     "name": "stdout",
     "output_type": "stream",
     "text": [
      "Epoch 445: train=3.25476, val=3.09362, took 160.54 s\n"
     ]
    },
    {
     "data": {
      "application/vnd.jupyter.widget-view+json": {
       "model_id": "",
       "version_major": 2,
       "version_minor": 0
      },
      "text/plain": [
       "HBox(children=(FloatProgress(value=0.0, description='Training', layout=Layout(flex='2'), max=5000.0, style=Pro…"
      ]
     },
     "metadata": {},
     "output_type": "display_data"
    },
    {
     "name": "stdout",
     "output_type": "stream",
     "text": [
      "Epoch 446: train=3.25846, val=3.04178, took 159.06 s\n"
     ]
    },
    {
     "data": {
      "application/vnd.jupyter.widget-view+json": {
       "model_id": "",
       "version_major": 2,
       "version_minor": 0
      },
      "text/plain": [
       "HBox(children=(FloatProgress(value=0.0, description='Training', layout=Layout(flex='2'), max=5000.0, style=Pro…"
      ]
     },
     "metadata": {},
     "output_type": "display_data"
    },
    {
     "name": "stdout",
     "output_type": "stream",
     "text": [
      "Epoch 447: train=3.25631, val=3.21103, took 159.6 s\n"
     ]
    },
    {
     "data": {
      "application/vnd.jupyter.widget-view+json": {
       "model_id": "",
       "version_major": 2,
       "version_minor": 0
      },
      "text/plain": [
       "HBox(children=(FloatProgress(value=0.0, description='Training', layout=Layout(flex='2'), max=5000.0, style=Pro…"
      ]
     },
     "metadata": {},
     "output_type": "display_data"
    },
    {
     "name": "stdout",
     "output_type": "stream",
     "text": [
      "Epoch 448: train=3.25345, val=3.07297, took 157.19 s\n"
     ]
    },
    {
     "data": {
      "application/vnd.jupyter.widget-view+json": {
       "model_id": "",
       "version_major": 2,
       "version_minor": 0
      },
      "text/plain": [
       "HBox(children=(FloatProgress(value=0.0, description='Training', layout=Layout(flex='2'), max=5000.0, style=Pro…"
      ]
     },
     "metadata": {},
     "output_type": "display_data"
    },
    {
     "name": "stdout",
     "output_type": "stream",
     "text": [
      "Epoch 449: train=3.25291, val=3.09329, took 160.44 s\n"
     ]
    },
    {
     "data": {
      "application/vnd.jupyter.widget-view+json": {
       "model_id": "",
       "version_major": 2,
       "version_minor": 0
      },
      "text/plain": [
       "HBox(children=(FloatProgress(value=0.0, description='Training', layout=Layout(flex='2'), max=5000.0, style=Pro…"
      ]
     },
     "metadata": {},
     "output_type": "display_data"
    },
    {
     "name": "stdout",
     "output_type": "stream",
     "text": [
      "Epoch 450: train=3.25596, val=3.11671, took 159.31 s\n"
     ]
    },
    {
     "data": {
      "application/vnd.jupyter.widget-view+json": {
       "model_id": "",
       "version_major": 2,
       "version_minor": 0
      },
      "text/plain": [
       "HBox(children=(FloatProgress(value=0.0, description='Training', layout=Layout(flex='2'), max=5000.0, style=Pro…"
      ]
     },
     "metadata": {},
     "output_type": "display_data"
    },
    {
     "name": "stdout",
     "output_type": "stream",
     "text": [
      "Epoch 451: train=3.2522, val=3.04719, took 157.38 s\n"
     ]
    },
    {
     "data": {
      "application/vnd.jupyter.widget-view+json": {
       "model_id": "",
       "version_major": 2,
       "version_minor": 0
      },
      "text/plain": [
       "HBox(children=(FloatProgress(value=0.0, description='Training', layout=Layout(flex='2'), max=5000.0, style=Pro…"
      ]
     },
     "metadata": {},
     "output_type": "display_data"
    },
    {
     "name": "stdout",
     "output_type": "stream",
     "text": [
      "Epoch 452: train=3.25126, val=3.07495, took 159.85 s\n"
     ]
    },
    {
     "data": {
      "application/vnd.jupyter.widget-view+json": {
       "model_id": "",
       "version_major": 2,
       "version_minor": 0
      },
      "text/plain": [
       "HBox(children=(FloatProgress(value=0.0, description='Training', layout=Layout(flex='2'), max=5000.0, style=Pro…"
      ]
     },
     "metadata": {},
     "output_type": "display_data"
    },
    {
     "name": "stdout",
     "output_type": "stream",
     "text": [
      "Epoch 453: train=3.25188, val=3.07021, took 157.43 s\n"
     ]
    },
    {
     "data": {
      "application/vnd.jupyter.widget-view+json": {
       "model_id": "",
       "version_major": 2,
       "version_minor": 0
      },
      "text/plain": [
       "HBox(children=(FloatProgress(value=0.0, description='Training', layout=Layout(flex='2'), max=5000.0, style=Pro…"
      ]
     },
     "metadata": {},
     "output_type": "display_data"
    },
    {
     "name": "stdout",
     "output_type": "stream",
     "text": [
      "Epoch 454: train=3.25349, val=3.06956, took 157.52 s\n"
     ]
    },
    {
     "data": {
      "application/vnd.jupyter.widget-view+json": {
       "model_id": "",
       "version_major": 2,
       "version_minor": 0
      },
      "text/plain": [
       "HBox(children=(FloatProgress(value=0.0, description='Training', layout=Layout(flex='2'), max=5000.0, style=Pro…"
      ]
     },
     "metadata": {},
     "output_type": "display_data"
    },
    {
     "name": "stdout",
     "output_type": "stream",
     "text": [
      "Epoch 455: train=3.25365, val=3.08824, took 159.39 s\n"
     ]
    },
    {
     "data": {
      "application/vnd.jupyter.widget-view+json": {
       "model_id": "",
       "version_major": 2,
       "version_minor": 0
      },
      "text/plain": [
       "HBox(children=(FloatProgress(value=0.0, description='Training', layout=Layout(flex='2'), max=5000.0, style=Pro…"
      ]
     },
     "metadata": {},
     "output_type": "display_data"
    },
    {
     "name": "stdout",
     "output_type": "stream",
     "text": [
      "Epoch 456: train=3.24994, val=3.03872, took 158.59 s\n"
     ]
    },
    {
     "data": {
      "application/vnd.jupyter.widget-view+json": {
       "model_id": "",
       "version_major": 2,
       "version_minor": 0
      },
      "text/plain": [
       "HBox(children=(FloatProgress(value=0.0, description='Training', layout=Layout(flex='2'), max=5000.0, style=Pro…"
      ]
     },
     "metadata": {},
     "output_type": "display_data"
    },
    {
     "name": "stdout",
     "output_type": "stream",
     "text": [
      "Epoch 457: train=3.25137, val=3.09867, took 159.44 s\n"
     ]
    },
    {
     "data": {
      "application/vnd.jupyter.widget-view+json": {
       "model_id": "",
       "version_major": 2,
       "version_minor": 0
      },
      "text/plain": [
       "HBox(children=(FloatProgress(value=0.0, description='Training', layout=Layout(flex='2'), max=5000.0, style=Pro…"
      ]
     },
     "metadata": {},
     "output_type": "display_data"
    },
    {
     "name": "stdout",
     "output_type": "stream",
     "text": [
      "Epoch 458: train=3.25557, val=3.12768, took 160.21 s\n"
     ]
    },
    {
     "data": {
      "application/vnd.jupyter.widget-view+json": {
       "model_id": "",
       "version_major": 2,
       "version_minor": 0
      },
      "text/plain": [
       "HBox(children=(FloatProgress(value=0.0, description='Training', layout=Layout(flex='2'), max=5000.0, style=Pro…"
      ]
     },
     "metadata": {},
     "output_type": "display_data"
    },
    {
     "name": "stdout",
     "output_type": "stream",
     "text": [
      "Epoch 459: train=3.25308, val=3.04684, took 161.18 s\n"
     ]
    },
    {
     "data": {
      "application/vnd.jupyter.widget-view+json": {
       "model_id": "",
       "version_major": 2,
       "version_minor": 0
      },
      "text/plain": [
       "HBox(children=(FloatProgress(value=0.0, description='Training', layout=Layout(flex='2'), max=5000.0, style=Pro…"
      ]
     },
     "metadata": {},
     "output_type": "display_data"
    },
    {
     "name": "stdout",
     "output_type": "stream",
     "text": [
      "Epoch 460: train=3.25189, val=3.14965, took 160.89 s\n"
     ]
    },
    {
     "data": {
      "application/vnd.jupyter.widget-view+json": {
       "model_id": "",
       "version_major": 2,
       "version_minor": 0
      },
      "text/plain": [
       "HBox(children=(FloatProgress(value=0.0, description='Training', layout=Layout(flex='2'), max=5000.0, style=Pro…"
      ]
     },
     "metadata": {},
     "output_type": "display_data"
    },
    {
     "name": "stdout",
     "output_type": "stream",
     "text": [
      "Epoch 461: train=3.25395, val=3.10846, took 158.73 s\n"
     ]
    },
    {
     "data": {
      "application/vnd.jupyter.widget-view+json": {
       "model_id": "",
       "version_major": 2,
       "version_minor": 0
      },
      "text/plain": [
       "HBox(children=(FloatProgress(value=0.0, description='Training', layout=Layout(flex='2'), max=5000.0, style=Pro…"
      ]
     },
     "metadata": {},
     "output_type": "display_data"
    },
    {
     "name": "stdout",
     "output_type": "stream",
     "text": [
      "Epoch 462: train=3.24967, val=3.2176, took 160.15 s\n"
     ]
    },
    {
     "data": {
      "application/vnd.jupyter.widget-view+json": {
       "model_id": "",
       "version_major": 2,
       "version_minor": 0
      },
      "text/plain": [
       "HBox(children=(FloatProgress(value=0.0, description='Training', layout=Layout(flex='2'), max=5000.0, style=Pro…"
      ]
     },
     "metadata": {},
     "output_type": "display_data"
    },
    {
     "name": "stdout",
     "output_type": "stream",
     "text": [
      "Epoch 463: train=3.24735, val=3.1562, took 158.51 s\n"
     ]
    },
    {
     "data": {
      "application/vnd.jupyter.widget-view+json": {
       "model_id": "",
       "version_major": 2,
       "version_minor": 0
      },
      "text/plain": [
       "HBox(children=(FloatProgress(value=0.0, description='Training', layout=Layout(flex='2'), max=5000.0, style=Pro…"
      ]
     },
     "metadata": {},
     "output_type": "display_data"
    },
    {
     "name": "stdout",
     "output_type": "stream",
     "text": [
      "Epoch 464: train=3.24931, val=3.07733, took 157.61 s\n"
     ]
    },
    {
     "data": {
      "application/vnd.jupyter.widget-view+json": {
       "model_id": "",
       "version_major": 2,
       "version_minor": 0
      },
      "text/plain": [
       "HBox(children=(FloatProgress(value=0.0, description='Training', layout=Layout(flex='2'), max=5000.0, style=Pro…"
      ]
     },
     "metadata": {},
     "output_type": "display_data"
    },
    {
     "name": "stdout",
     "output_type": "stream",
     "text": [
      "Epoch 465: train=3.2506, val=3.15653, took 158.3 s\n"
     ]
    },
    {
     "data": {
      "application/vnd.jupyter.widget-view+json": {
       "model_id": "",
       "version_major": 2,
       "version_minor": 0
      },
      "text/plain": [
       "HBox(children=(FloatProgress(value=0.0, description='Training', layout=Layout(flex='2'), max=5000.0, style=Pro…"
      ]
     },
     "metadata": {},
     "output_type": "display_data"
    },
    {
     "name": "stdout",
     "output_type": "stream",
     "text": [
      "Epoch 466: train=3.25443, val=3.12805, took 158.28 s\n"
     ]
    },
    {
     "data": {
      "application/vnd.jupyter.widget-view+json": {
       "model_id": "",
       "version_major": 2,
       "version_minor": 0
      },
      "text/plain": [
       "HBox(children=(FloatProgress(value=0.0, description='Training', layout=Layout(flex='2'), max=5000.0, style=Pro…"
      ]
     },
     "metadata": {},
     "output_type": "display_data"
    },
    {
     "name": "stdout",
     "output_type": "stream",
     "text": [
      "Epoch 467: train=3.25567, val=3.06641, took 158.93 s\n"
     ]
    },
    {
     "data": {
      "application/vnd.jupyter.widget-view+json": {
       "model_id": "",
       "version_major": 2,
       "version_minor": 0
      },
      "text/plain": [
       "HBox(children=(FloatProgress(value=0.0, description='Training', layout=Layout(flex='2'), max=5000.0, style=Pro…"
      ]
     },
     "metadata": {},
     "output_type": "display_data"
    },
    {
     "name": "stdout",
     "output_type": "stream",
     "text": [
      "Epoch 468: train=3.25419, val=3.02232, took 158.57 s\n"
     ]
    },
    {
     "data": {
      "application/vnd.jupyter.widget-view+json": {
       "model_id": "",
       "version_major": 2,
       "version_minor": 0
      },
      "text/plain": [
       "HBox(children=(FloatProgress(value=0.0, description='Training', layout=Layout(flex='2'), max=5000.0, style=Pro…"
      ]
     },
     "metadata": {},
     "output_type": "display_data"
    },
    {
     "name": "stdout",
     "output_type": "stream",
     "text": [
      "Epoch 469: train=3.24954, val=3.11044, took 159.08 s\n"
     ]
    },
    {
     "data": {
      "application/vnd.jupyter.widget-view+json": {
       "model_id": "",
       "version_major": 2,
       "version_minor": 0
      },
      "text/plain": [
       "HBox(children=(FloatProgress(value=0.0, description='Training', layout=Layout(flex='2'), max=5000.0, style=Pro…"
      ]
     },
     "metadata": {},
     "output_type": "display_data"
    },
    {
     "name": "stdout",
     "output_type": "stream",
     "text": [
      "Epoch 470: train=3.25197, val=3.04092, took 157.19 s\n"
     ]
    },
    {
     "data": {
      "application/vnd.jupyter.widget-view+json": {
       "model_id": "",
       "version_major": 2,
       "version_minor": 0
      },
      "text/plain": [
       "HBox(children=(FloatProgress(value=0.0, description='Training', layout=Layout(flex='2'), max=5000.0, style=Pro…"
      ]
     },
     "metadata": {},
     "output_type": "display_data"
    },
    {
     "name": "stdout",
     "output_type": "stream",
     "text": [
      "Epoch 471: train=3.25117, val=3.11145, took 157.85 s\n"
     ]
    },
    {
     "data": {
      "application/vnd.jupyter.widget-view+json": {
       "model_id": "",
       "version_major": 2,
       "version_minor": 0
      },
      "text/plain": [
       "HBox(children=(FloatProgress(value=0.0, description='Training', layout=Layout(flex='2'), max=5000.0, style=Pro…"
      ]
     },
     "metadata": {},
     "output_type": "display_data"
    },
    {
     "name": "stdout",
     "output_type": "stream",
     "text": [
      "Epoch 472: train=3.25161, val=3.05477, took 158.04 s\n"
     ]
    },
    {
     "data": {
      "application/vnd.jupyter.widget-view+json": {
       "model_id": "",
       "version_major": 2,
       "version_minor": 0
      },
      "text/plain": [
       "HBox(children=(FloatProgress(value=0.0, description='Training', layout=Layout(flex='2'), max=5000.0, style=Pro…"
      ]
     },
     "metadata": {},
     "output_type": "display_data"
    },
    {
     "name": "stdout",
     "output_type": "stream",
     "text": [
      "Epoch 473: train=3.25319, val=3.08868, took 160.61 s\n"
     ]
    },
    {
     "data": {
      "application/vnd.jupyter.widget-view+json": {
       "model_id": "",
       "version_major": 2,
       "version_minor": 0
      },
      "text/plain": [
       "HBox(children=(FloatProgress(value=0.0, description='Training', layout=Layout(flex='2'), max=5000.0, style=Pro…"
      ]
     },
     "metadata": {},
     "output_type": "display_data"
    },
    {
     "name": "stdout",
     "output_type": "stream",
     "text": [
      "Epoch 474: train=3.24848, val=3.10779, took 163.13 s\n"
     ]
    },
    {
     "data": {
      "application/vnd.jupyter.widget-view+json": {
       "model_id": "",
       "version_major": 2,
       "version_minor": 0
      },
      "text/plain": [
       "HBox(children=(FloatProgress(value=0.0, description='Training', layout=Layout(flex='2'), max=5000.0, style=Pro…"
      ]
     },
     "metadata": {},
     "output_type": "display_data"
    },
    {
     "name": "stdout",
     "output_type": "stream",
     "text": [
      "Epoch 475: train=3.25458, val=3.05098, took 160.79 s\n"
     ]
    },
    {
     "data": {
      "application/vnd.jupyter.widget-view+json": {
       "model_id": "",
       "version_major": 2,
       "version_minor": 0
      },
      "text/plain": [
       "HBox(children=(FloatProgress(value=0.0, description='Training', layout=Layout(flex='2'), max=5000.0, style=Pro…"
      ]
     },
     "metadata": {},
     "output_type": "display_data"
    },
    {
     "name": "stdout",
     "output_type": "stream",
     "text": [
      "Epoch 476: train=3.24722, val=3.11984, took 156.93 s\n"
     ]
    },
    {
     "data": {
      "application/vnd.jupyter.widget-view+json": {
       "model_id": "",
       "version_major": 2,
       "version_minor": 0
      },
      "text/plain": [
       "HBox(children=(FloatProgress(value=0.0, description='Training', layout=Layout(flex='2'), max=5000.0, style=Pro…"
      ]
     },
     "metadata": {},
     "output_type": "display_data"
    },
    {
     "name": "stdout",
     "output_type": "stream",
     "text": [
      "Epoch 477: train=3.25016, val=3.04512, took 156.11 s\n"
     ]
    },
    {
     "data": {
      "application/vnd.jupyter.widget-view+json": {
       "model_id": "",
       "version_major": 2,
       "version_minor": 0
      },
      "text/plain": [
       "HBox(children=(FloatProgress(value=0.0, description='Training', layout=Layout(flex='2'), max=5000.0, style=Pro…"
      ]
     },
     "metadata": {},
     "output_type": "display_data"
    },
    {
     "name": "stdout",
     "output_type": "stream",
     "text": [
      "Epoch 478: train=3.24994, val=3.09151, took 161.26 s\n"
     ]
    },
    {
     "data": {
      "application/vnd.jupyter.widget-view+json": {
       "model_id": "",
       "version_major": 2,
       "version_minor": 0
      },
      "text/plain": [
       "HBox(children=(FloatProgress(value=0.0, description='Training', layout=Layout(flex='2'), max=5000.0, style=Pro…"
      ]
     },
     "metadata": {},
     "output_type": "display_data"
    },
    {
     "name": "stdout",
     "output_type": "stream",
     "text": [
      "Epoch 479: train=3.25042, val=3.03434, took 161.92 s\n"
     ]
    },
    {
     "data": {
      "application/vnd.jupyter.widget-view+json": {
       "model_id": "",
       "version_major": 2,
       "version_minor": 0
      },
      "text/plain": [
       "HBox(children=(FloatProgress(value=0.0, description='Training', layout=Layout(flex='2'), max=5000.0, style=Pro…"
      ]
     },
     "metadata": {},
     "output_type": "display_data"
    },
    {
     "name": "stdout",
     "output_type": "stream",
     "text": [
      "Epoch 480: train=3.24977, val=3.03655, took 158.37 s\n"
     ]
    },
    {
     "data": {
      "application/vnd.jupyter.widget-view+json": {
       "model_id": "",
       "version_major": 2,
       "version_minor": 0
      },
      "text/plain": [
       "HBox(children=(FloatProgress(value=0.0, description='Training', layout=Layout(flex='2'), max=5000.0, style=Pro…"
      ]
     },
     "metadata": {},
     "output_type": "display_data"
    },
    {
     "name": "stdout",
     "output_type": "stream",
     "text": [
      "Epoch 481: train=3.24932, val=3.09276, took 161.45 s\n"
     ]
    },
    {
     "data": {
      "application/vnd.jupyter.widget-view+json": {
       "model_id": "",
       "version_major": 2,
       "version_minor": 0
      },
      "text/plain": [
       "HBox(children=(FloatProgress(value=0.0, description='Training', layout=Layout(flex='2'), max=5000.0, style=Pro…"
      ]
     },
     "metadata": {},
     "output_type": "display_data"
    },
    {
     "name": "stdout",
     "output_type": "stream",
     "text": [
      "Epoch 482: train=3.24775, val=3.07211, took 157.46 s\n"
     ]
    },
    {
     "data": {
      "application/vnd.jupyter.widget-view+json": {
       "model_id": "",
       "version_major": 2,
       "version_minor": 0
      },
      "text/plain": [
       "HBox(children=(FloatProgress(value=0.0, description='Training', layout=Layout(flex='2'), max=5000.0, style=Pro…"
      ]
     },
     "metadata": {},
     "output_type": "display_data"
    },
    {
     "name": "stdout",
     "output_type": "stream",
     "text": [
      "Epoch 483: train=3.24428, val=3.06571, took 158.89 s\n"
     ]
    },
    {
     "data": {
      "application/vnd.jupyter.widget-view+json": {
       "model_id": "",
       "version_major": 2,
       "version_minor": 0
      },
      "text/plain": [
       "HBox(children=(FloatProgress(value=0.0, description='Training', layout=Layout(flex='2'), max=5000.0, style=Pro…"
      ]
     },
     "metadata": {},
     "output_type": "display_data"
    },
    {
     "name": "stdout",
     "output_type": "stream",
     "text": [
      "Epoch 484: train=3.24862, val=3.03398, took 158.45 s\n"
     ]
    },
    {
     "data": {
      "application/vnd.jupyter.widget-view+json": {
       "model_id": "",
       "version_major": 2,
       "version_minor": 0
      },
      "text/plain": [
       "HBox(children=(FloatProgress(value=0.0, description='Training', layout=Layout(flex='2'), max=5000.0, style=Pro…"
      ]
     },
     "metadata": {},
     "output_type": "display_data"
    },
    {
     "name": "stdout",
     "output_type": "stream",
     "text": [
      "Epoch 485: train=3.24435, val=3.03295, took 158.84 s\n"
     ]
    },
    {
     "data": {
      "application/vnd.jupyter.widget-view+json": {
       "model_id": "",
       "version_major": 2,
       "version_minor": 0
      },
      "text/plain": [
       "HBox(children=(FloatProgress(value=0.0, description='Training', layout=Layout(flex='2'), max=5000.0, style=Pro…"
      ]
     },
     "metadata": {},
     "output_type": "display_data"
    },
    {
     "name": "stdout",
     "output_type": "stream",
     "text": [
      "Epoch 486: train=3.24652, val=3.01795, took 158.47 s\n"
     ]
    },
    {
     "data": {
      "application/vnd.jupyter.widget-view+json": {
       "model_id": "",
       "version_major": 2,
       "version_minor": 0
      },
      "text/plain": [
       "HBox(children=(FloatProgress(value=0.0, description='Training', layout=Layout(flex='2'), max=5000.0, style=Pro…"
      ]
     },
     "metadata": {},
     "output_type": "display_data"
    },
    {
     "name": "stdout",
     "output_type": "stream",
     "text": [
      "Epoch 487: train=3.2483, val=3.11649, took 160.72 s\n"
     ]
    },
    {
     "data": {
      "application/vnd.jupyter.widget-view+json": {
       "model_id": "",
       "version_major": 2,
       "version_minor": 0
      },
      "text/plain": [
       "HBox(children=(FloatProgress(value=0.0, description='Training', layout=Layout(flex='2'), max=5000.0, style=Pro…"
      ]
     },
     "metadata": {},
     "output_type": "display_data"
    },
    {
     "name": "stdout",
     "output_type": "stream",
     "text": [
      "Epoch 488: train=3.24488, val=3.13772, took 158.45 s\n"
     ]
    },
    {
     "data": {
      "application/vnd.jupyter.widget-view+json": {
       "model_id": "",
       "version_major": 2,
       "version_minor": 0
      },
      "text/plain": [
       "HBox(children=(FloatProgress(value=0.0, description='Training', layout=Layout(flex='2'), max=5000.0, style=Pro…"
      ]
     },
     "metadata": {},
     "output_type": "display_data"
    },
    {
     "name": "stdout",
     "output_type": "stream",
     "text": [
      "Epoch 489: train=3.24512, val=3.18759, took 157.55 s\n"
     ]
    },
    {
     "data": {
      "application/vnd.jupyter.widget-view+json": {
       "model_id": "",
       "version_major": 2,
       "version_minor": 0
      },
      "text/plain": [
       "HBox(children=(FloatProgress(value=0.0, description='Training', layout=Layout(flex='2'), max=5000.0, style=Pro…"
      ]
     },
     "metadata": {},
     "output_type": "display_data"
    },
    {
     "name": "stdout",
     "output_type": "stream",
     "text": [
      "Epoch 490: train=3.24506, val=3.07654, took 158.49 s\n"
     ]
    },
    {
     "data": {
      "application/vnd.jupyter.widget-view+json": {
       "model_id": "",
       "version_major": 2,
       "version_minor": 0
      },
      "text/plain": [
       "HBox(children=(FloatProgress(value=0.0, description='Training', layout=Layout(flex='2'), max=5000.0, style=Pro…"
      ]
     },
     "metadata": {},
     "output_type": "display_data"
    },
    {
     "name": "stdout",
     "output_type": "stream",
     "text": [
      "Epoch 491: train=3.2487, val=3.18551, took 158.17 s\n"
     ]
    },
    {
     "data": {
      "application/vnd.jupyter.widget-view+json": {
       "model_id": "",
       "version_major": 2,
       "version_minor": 0
      },
      "text/plain": [
       "HBox(children=(FloatProgress(value=0.0, description='Training', layout=Layout(flex='2'), max=5000.0, style=Pro…"
      ]
     },
     "metadata": {},
     "output_type": "display_data"
    },
    {
     "name": "stdout",
     "output_type": "stream",
     "text": [
      "Epoch 492: train=3.24637, val=3.03953, took 157.89 s\n"
     ]
    },
    {
     "data": {
      "application/vnd.jupyter.widget-view+json": {
       "model_id": "",
       "version_major": 2,
       "version_minor": 0
      },
      "text/plain": [
       "HBox(children=(FloatProgress(value=0.0, description='Training', layout=Layout(flex='2'), max=5000.0, style=Pro…"
      ]
     },
     "metadata": {},
     "output_type": "display_data"
    },
    {
     "name": "stdout",
     "output_type": "stream",
     "text": [
      "Epoch 493: train=3.25118, val=3.06096, took 156.83 s\n"
     ]
    },
    {
     "data": {
      "application/vnd.jupyter.widget-view+json": {
       "model_id": "",
       "version_major": 2,
       "version_minor": 0
      },
      "text/plain": [
       "HBox(children=(FloatProgress(value=0.0, description='Training', layout=Layout(flex='2'), max=5000.0, style=Pro…"
      ]
     },
     "metadata": {},
     "output_type": "display_data"
    },
    {
     "name": "stdout",
     "output_type": "stream",
     "text": [
      "Epoch 494: train=3.24827, val=3.05145, took 156.29 s\n"
     ]
    },
    {
     "data": {
      "application/vnd.jupyter.widget-view+json": {
       "model_id": "",
       "version_major": 2,
       "version_minor": 0
      },
      "text/plain": [
       "HBox(children=(FloatProgress(value=0.0, description='Training', layout=Layout(flex='2'), max=5000.0, style=Pro…"
      ]
     },
     "metadata": {},
     "output_type": "display_data"
    },
    {
     "name": "stdout",
     "output_type": "stream",
     "text": [
      "Epoch 495: train=3.24665, val=3.0831, took 160.63 s\n"
     ]
    },
    {
     "data": {
      "application/vnd.jupyter.widget-view+json": {
       "model_id": "",
       "version_major": 2,
       "version_minor": 0
      },
      "text/plain": [
       "HBox(children=(FloatProgress(value=0.0, description='Training', layout=Layout(flex='2'), max=5000.0, style=Pro…"
      ]
     },
     "metadata": {},
     "output_type": "display_data"
    },
    {
     "name": "stdout",
     "output_type": "stream",
     "text": [
      "Epoch 496: train=3.24804, val=3.14513, took 159.21 s\n"
     ]
    },
    {
     "data": {
      "application/vnd.jupyter.widget-view+json": {
       "model_id": "",
       "version_major": 2,
       "version_minor": 0
      },
      "text/plain": [
       "HBox(children=(FloatProgress(value=0.0, description='Training', layout=Layout(flex='2'), max=5000.0, style=Pro…"
      ]
     },
     "metadata": {},
     "output_type": "display_data"
    },
    {
     "name": "stdout",
     "output_type": "stream",
     "text": [
      "Epoch 497: train=3.24507, val=3.25108, took 158.78 s\n"
     ]
    },
    {
     "data": {
      "application/vnd.jupyter.widget-view+json": {
       "model_id": "",
       "version_major": 2,
       "version_minor": 0
      },
      "text/plain": [
       "HBox(children=(FloatProgress(value=0.0, description='Training', layout=Layout(flex='2'), max=5000.0, style=Pro…"
      ]
     },
     "metadata": {},
     "output_type": "display_data"
    },
    {
     "name": "stdout",
     "output_type": "stream",
     "text": [
      "Epoch 498: train=3.243, val=3.10973, took 158.0 s\n"
     ]
    },
    {
     "data": {
      "application/vnd.jupyter.widget-view+json": {
       "model_id": "",
       "version_major": 2,
       "version_minor": 0
      },
      "text/plain": [
       "HBox(children=(FloatProgress(value=0.0, description='Training', layout=Layout(flex='2'), max=5000.0, style=Pro…"
      ]
     },
     "metadata": {},
     "output_type": "display_data"
    },
    {
     "name": "stdout",
     "output_type": "stream",
     "text": [
      "Epoch 499: train=3.24497, val=3.0493, took 159.55 s\n"
     ]
    },
    {
     "data": {
      "application/vnd.jupyter.widget-view+json": {
       "model_id": "",
       "version_major": 2,
       "version_minor": 0
      },
      "text/plain": [
       "HBox(children=(FloatProgress(value=0.0, description='Training', layout=Layout(flex='2'), max=5000.0, style=Pro…"
      ]
     },
     "metadata": {},
     "output_type": "display_data"
    },
    {
     "name": "stdout",
     "output_type": "stream",
     "text": [
      "Epoch 500: train=3.24559, val=3.05715, took 159.66 s\n"
     ]
    },
    {
     "data": {
      "application/vnd.jupyter.widget-view+json": {
       "model_id": "",
       "version_major": 2,
       "version_minor": 0
      },
      "text/plain": [
       "HBox(children=(FloatProgress(value=0.0, description='Training', layout=Layout(flex='2'), max=5000.0, style=Pro…"
      ]
     },
     "metadata": {},
     "output_type": "display_data"
    },
    {
     "name": "stdout",
     "output_type": "stream",
     "text": [
      "Epoch 501: train=3.24346, val=3.19335, took 159.02 s\n"
     ]
    },
    {
     "data": {
      "application/vnd.jupyter.widget-view+json": {
       "model_id": "",
       "version_major": 2,
       "version_minor": 0
      },
      "text/plain": [
       "HBox(children=(FloatProgress(value=0.0, description='Training', layout=Layout(flex='2'), max=5000.0, style=Pro…"
      ]
     },
     "metadata": {},
     "output_type": "display_data"
    },
    {
     "name": "stdout",
     "output_type": "stream",
     "text": [
      "Epoch 502: train=3.24623, val=3.02509, took 160.1 s\n"
     ]
    },
    {
     "data": {
      "application/vnd.jupyter.widget-view+json": {
       "model_id": "",
       "version_major": 2,
       "version_minor": 0
      },
      "text/plain": [
       "HBox(children=(FloatProgress(value=0.0, description='Training', layout=Layout(flex='2'), max=5000.0, style=Pro…"
      ]
     },
     "metadata": {},
     "output_type": "display_data"
    },
    {
     "name": "stdout",
     "output_type": "stream",
     "text": [
      "Epoch 503: train=3.24291, val=3.01701, took 160.26 s\n"
     ]
    },
    {
     "data": {
      "application/vnd.jupyter.widget-view+json": {
       "model_id": "",
       "version_major": 2,
       "version_minor": 0
      },
      "text/plain": [
       "HBox(children=(FloatProgress(value=0.0, description='Training', layout=Layout(flex='2'), max=5000.0, style=Pro…"
      ]
     },
     "metadata": {},
     "output_type": "display_data"
    },
    {
     "name": "stdout",
     "output_type": "stream",
     "text": [
      "Epoch 504: train=3.24457, val=3.06911, took 159.06 s\n"
     ]
    },
    {
     "data": {
      "application/vnd.jupyter.widget-view+json": {
       "model_id": "",
       "version_major": 2,
       "version_minor": 0
      },
      "text/plain": [
       "HBox(children=(FloatProgress(value=0.0, description='Training', layout=Layout(flex='2'), max=5000.0, style=Pro…"
      ]
     },
     "metadata": {},
     "output_type": "display_data"
    },
    {
     "name": "stdout",
     "output_type": "stream",
     "text": [
      "Epoch 505: train=3.24284, val=3.07916, took 159.7 s\n"
     ]
    },
    {
     "data": {
      "application/vnd.jupyter.widget-view+json": {
       "model_id": "",
       "version_major": 2,
       "version_minor": 0
      },
      "text/plain": [
       "HBox(children=(FloatProgress(value=0.0, description='Training', layout=Layout(flex='2'), max=5000.0, style=Pro…"
      ]
     },
     "metadata": {},
     "output_type": "display_data"
    },
    {
     "name": "stdout",
     "output_type": "stream",
     "text": [
      "Epoch 506: train=3.24447, val=3.05202, took 157.07 s\n"
     ]
    },
    {
     "data": {
      "application/vnd.jupyter.widget-view+json": {
       "model_id": "",
       "version_major": 2,
       "version_minor": 0
      },
      "text/plain": [
       "HBox(children=(FloatProgress(value=0.0, description='Training', layout=Layout(flex='2'), max=5000.0, style=Pro…"
      ]
     },
     "metadata": {},
     "output_type": "display_data"
    },
    {
     "name": "stdout",
     "output_type": "stream",
     "text": [
      "Epoch 507: train=3.24277, val=3.01523, took 157.59 s\n"
     ]
    },
    {
     "data": {
      "application/vnd.jupyter.widget-view+json": {
       "model_id": "",
       "version_major": 2,
       "version_minor": 0
      },
      "text/plain": [
       "HBox(children=(FloatProgress(value=0.0, description='Training', layout=Layout(flex='2'), max=5000.0, style=Pro…"
      ]
     },
     "metadata": {},
     "output_type": "display_data"
    },
    {
     "name": "stdout",
     "output_type": "stream",
     "text": [
      "Epoch 508: train=3.24285, val=3.10027, took 158.73 s\n"
     ]
    },
    {
     "data": {
      "application/vnd.jupyter.widget-view+json": {
       "model_id": "",
       "version_major": 2,
       "version_minor": 0
      },
      "text/plain": [
       "HBox(children=(FloatProgress(value=0.0, description='Training', layout=Layout(flex='2'), max=5000.0, style=Pro…"
      ]
     },
     "metadata": {},
     "output_type": "display_data"
    },
    {
     "name": "stdout",
     "output_type": "stream",
     "text": [
      "Epoch 509: train=3.24153, val=3.10976, took 157.13 s\n"
     ]
    },
    {
     "data": {
      "application/vnd.jupyter.widget-view+json": {
       "model_id": "",
       "version_major": 2,
       "version_minor": 0
      },
      "text/plain": [
       "HBox(children=(FloatProgress(value=0.0, description='Training', layout=Layout(flex='2'), max=5000.0, style=Pro…"
      ]
     },
     "metadata": {},
     "output_type": "display_data"
    },
    {
     "name": "stdout",
     "output_type": "stream",
     "text": [
      "Epoch 510: train=3.23896, val=3.0156, took 159.62 s\n"
     ]
    },
    {
     "data": {
      "application/vnd.jupyter.widget-view+json": {
       "model_id": "",
       "version_major": 2,
       "version_minor": 0
      },
      "text/plain": [
       "HBox(children=(FloatProgress(value=0.0, description='Training', layout=Layout(flex='2'), max=5000.0, style=Pro…"
      ]
     },
     "metadata": {},
     "output_type": "display_data"
    },
    {
     "name": "stdout",
     "output_type": "stream",
     "text": [
      "Epoch 511: train=3.23895, val=3.13401, took 158.14 s\n"
     ]
    },
    {
     "data": {
      "application/vnd.jupyter.widget-view+json": {
       "model_id": "",
       "version_major": 2,
       "version_minor": 0
      },
      "text/plain": [
       "HBox(children=(FloatProgress(value=0.0, description='Training', layout=Layout(flex='2'), max=5000.0, style=Pro…"
      ]
     },
     "metadata": {},
     "output_type": "display_data"
    },
    {
     "name": "stdout",
     "output_type": "stream",
     "text": [
      "Epoch 512: train=3.24668, val=3.19408, took 160.91 s\n"
     ]
    },
    {
     "data": {
      "application/vnd.jupyter.widget-view+json": {
       "model_id": "",
       "version_major": 2,
       "version_minor": 0
      },
      "text/plain": [
       "HBox(children=(FloatProgress(value=0.0, description='Training', layout=Layout(flex='2'), max=5000.0, style=Pro…"
      ]
     },
     "metadata": {},
     "output_type": "display_data"
    },
    {
     "name": "stdout",
     "output_type": "stream",
     "text": [
      "Epoch 513: train=3.24101, val=3.09636, took 160.5 s\n"
     ]
    },
    {
     "data": {
      "application/vnd.jupyter.widget-view+json": {
       "model_id": "",
       "version_major": 2,
       "version_minor": 0
      },
      "text/plain": [
       "HBox(children=(FloatProgress(value=0.0, description='Training', layout=Layout(flex='2'), max=5000.0, style=Pro…"
      ]
     },
     "metadata": {},
     "output_type": "display_data"
    },
    {
     "name": "stdout",
     "output_type": "stream",
     "text": [
      "Epoch 514: train=3.24017, val=3.02522, took 161.01 s\n"
     ]
    },
    {
     "data": {
      "application/vnd.jupyter.widget-view+json": {
       "model_id": "",
       "version_major": 2,
       "version_minor": 0
      },
      "text/plain": [
       "HBox(children=(FloatProgress(value=0.0, description='Training', layout=Layout(flex='2'), max=5000.0, style=Pro…"
      ]
     },
     "metadata": {},
     "output_type": "display_data"
    },
    {
     "name": "stdout",
     "output_type": "stream",
     "text": [
      "Epoch 515: train=3.23852, val=3.03968, took 157.67 s\n"
     ]
    },
    {
     "data": {
      "application/vnd.jupyter.widget-view+json": {
       "model_id": "",
       "version_major": 2,
       "version_minor": 0
      },
      "text/plain": [
       "HBox(children=(FloatProgress(value=0.0, description='Training', layout=Layout(flex='2'), max=5000.0, style=Pro…"
      ]
     },
     "metadata": {},
     "output_type": "display_data"
    },
    {
     "name": "stdout",
     "output_type": "stream",
     "text": [
      "Epoch 516: train=3.24281, val=3.06608, took 157.16 s\n"
     ]
    },
    {
     "data": {
      "application/vnd.jupyter.widget-view+json": {
       "model_id": "",
       "version_major": 2,
       "version_minor": 0
      },
      "text/plain": [
       "HBox(children=(FloatProgress(value=0.0, description='Training', layout=Layout(flex='2'), max=5000.0, style=Pro…"
      ]
     },
     "metadata": {},
     "output_type": "display_data"
    },
    {
     "name": "stdout",
     "output_type": "stream",
     "text": [
      "Epoch 517: train=3.23601, val=3.05796, took 157.84 s\n"
     ]
    },
    {
     "data": {
      "application/vnd.jupyter.widget-view+json": {
       "model_id": "",
       "version_major": 2,
       "version_minor": 0
      },
      "text/plain": [
       "HBox(children=(FloatProgress(value=0.0, description='Training', layout=Layout(flex='2'), max=5000.0, style=Pro…"
      ]
     },
     "metadata": {},
     "output_type": "display_data"
    },
    {
     "name": "stdout",
     "output_type": "stream",
     "text": [
      "Epoch 518: train=3.23992, val=3.16855, took 158.59 s\n"
     ]
    },
    {
     "data": {
      "application/vnd.jupyter.widget-view+json": {
       "model_id": "",
       "version_major": 2,
       "version_minor": 0
      },
      "text/plain": [
       "HBox(children=(FloatProgress(value=0.0, description='Training', layout=Layout(flex='2'), max=5000.0, style=Pro…"
      ]
     },
     "metadata": {},
     "output_type": "display_data"
    },
    {
     "name": "stdout",
     "output_type": "stream",
     "text": [
      "Epoch 519: train=3.24451, val=3.03214, took 158.96 s\n"
     ]
    },
    {
     "data": {
      "application/vnd.jupyter.widget-view+json": {
       "model_id": "",
       "version_major": 2,
       "version_minor": 0
      },
      "text/plain": [
       "HBox(children=(FloatProgress(value=0.0, description='Training', layout=Layout(flex='2'), max=5000.0, style=Pro…"
      ]
     },
     "metadata": {},
     "output_type": "display_data"
    },
    {
     "name": "stdout",
     "output_type": "stream",
     "text": [
      "Epoch 520: train=3.23853, val=3.12822, took 156.89 s\n"
     ]
    },
    {
     "data": {
      "application/vnd.jupyter.widget-view+json": {
       "model_id": "",
       "version_major": 2,
       "version_minor": 0
      },
      "text/plain": [
       "HBox(children=(FloatProgress(value=0.0, description='Training', layout=Layout(flex='2'), max=5000.0, style=Pro…"
      ]
     },
     "metadata": {},
     "output_type": "display_data"
    },
    {
     "name": "stdout",
     "output_type": "stream",
     "text": [
      "Epoch 521: train=3.24251, val=3.01924, took 158.66 s\n"
     ]
    },
    {
     "data": {
      "application/vnd.jupyter.widget-view+json": {
       "model_id": "",
       "version_major": 2,
       "version_minor": 0
      },
      "text/plain": [
       "HBox(children=(FloatProgress(value=0.0, description='Training', layout=Layout(flex='2'), max=5000.0, style=Pro…"
      ]
     },
     "metadata": {},
     "output_type": "display_data"
    },
    {
     "name": "stdout",
     "output_type": "stream",
     "text": [
      "Epoch 522: train=3.24196, val=3.08246, took 159.2 s\n"
     ]
    },
    {
     "data": {
      "application/vnd.jupyter.widget-view+json": {
       "model_id": "",
       "version_major": 2,
       "version_minor": 0
      },
      "text/plain": [
       "HBox(children=(FloatProgress(value=0.0, description='Training', layout=Layout(flex='2'), max=5000.0, style=Pro…"
      ]
     },
     "metadata": {},
     "output_type": "display_data"
    },
    {
     "name": "stdout",
     "output_type": "stream",
     "text": [
      "Epoch 523: train=3.24163, val=3.09629, took 157.81 s\n"
     ]
    },
    {
     "data": {
      "application/vnd.jupyter.widget-view+json": {
       "model_id": "",
       "version_major": 2,
       "version_minor": 0
      },
      "text/plain": [
       "HBox(children=(FloatProgress(value=0.0, description='Training', layout=Layout(flex='2'), max=5000.0, style=Pro…"
      ]
     },
     "metadata": {},
     "output_type": "display_data"
    },
    {
     "name": "stdout",
     "output_type": "stream",
     "text": [
      "Epoch 524: train=3.24289, val=3.06047, took 159.58 s\n",
      "\n"
     ]
    }
   ],
   "source": [
    "for result in trainNet(model, optimizer, loss,\n",
    "                        train_loader, val_loader,\n",
    "                        n_epochs, epoch_start=len(results),\n",
    "                        notebook=True):\n",
    "    \n",
    "    results = results.append(pd.Series(result._asdict()), ignore_index=True)\n",
    "    xs = results.index\n",
    "    \n",
    "    # Update the plot above\n",
    "    lines['train'].set_data(results.index,results.cost)\n",
    "    lines['val'].set_data(results.index,results.val)\n",
    "    \n",
    "    #filter first cost epoch (can be really large)\n",
    "    max_cost = max(max(results.cost if len(results.cost)<2 else results.cost[1:]), max(results.val))\n",
    "    min_cost = min(min(results.cost), min(results.val))\n",
    "    \n",
    "    # The plot limits need updating too\n",
    "    \n",
    "    \n",
    "    \n",
    "    ax.set_ylim(min_cost*.9, max_cost*1.1)  \n",
    "    ax.set_xlim(-.5, len(results.cost) - .5)\n",
    "\n",
    "    \n",
    "    # Redraw the figure\n",
    "    fig.canvas.draw()\n",
    "\n",
    "    # Save each model state dictionary\n",
    "    torch.save(model.state_dict(), output / f'{name}_{result.epoch}.pyt')"
   ]
  },
  {
   "cell_type": "markdown",
   "metadata": {},
   "source": [
    "Go ahead and save the final model (even though it was also saved above):"
   ]
  },
  {
   "cell_type": "code",
   "execution_count": 19,
   "metadata": {},
   "outputs": [],
   "source": [
    "torch.save(model.state_dict(), output / f'{name}_final.pyt')"
   ]
  },
  {
   "cell_type": "markdown",
   "metadata": {},
   "source": [
    "Save the output results:"
   ]
  },
  {
   "cell_type": "code",
   "execution_count": 20,
   "metadata": {},
   "outputs": [],
   "source": [
    "results.to_hdf(str(output / f'{name}_stats_a.hdf5'),'results')"
   ]
  },
  {
   "cell_type": "markdown",
   "metadata": {},
   "source": [
    "Save the plot above:"
   ]
  },
  {
   "cell_type": "code",
   "execution_count": 21,
   "metadata": {},
   "outputs": [
    {
     "data": {
      "application/javascript": [
       "/* Put everything inside the global mpl namespace */\n",
       "window.mpl = {};\n",
       "\n",
       "\n",
       "mpl.get_websocket_type = function() {\n",
       "    if (typeof(WebSocket) !== 'undefined') {\n",
       "        return WebSocket;\n",
       "    } else if (typeof(MozWebSocket) !== 'undefined') {\n",
       "        return MozWebSocket;\n",
       "    } else {\n",
       "        alert('Your browser does not have WebSocket support. ' +\n",
       "              'Please try Chrome, Safari or Firefox ≥ 6. ' +\n",
       "              'Firefox 4 and 5 are also supported but you ' +\n",
       "              'have to enable WebSockets in about:config.');\n",
       "    };\n",
       "}\n",
       "\n",
       "mpl.figure = function(figure_id, websocket, ondownload, parent_element) {\n",
       "    this.id = figure_id;\n",
       "\n",
       "    this.ws = websocket;\n",
       "\n",
       "    this.supports_binary = (this.ws.binaryType != undefined);\n",
       "\n",
       "    if (!this.supports_binary) {\n",
       "        var warnings = document.getElementById(\"mpl-warnings\");\n",
       "        if (warnings) {\n",
       "            warnings.style.display = 'block';\n",
       "            warnings.textContent = (\n",
       "                \"This browser does not support binary websocket messages. \" +\n",
       "                    \"Performance may be slow.\");\n",
       "        }\n",
       "    }\n",
       "\n",
       "    this.imageObj = new Image();\n",
       "\n",
       "    this.context = undefined;\n",
       "    this.message = undefined;\n",
       "    this.canvas = undefined;\n",
       "    this.rubberband_canvas = undefined;\n",
       "    this.rubberband_context = undefined;\n",
       "    this.format_dropdown = undefined;\n",
       "\n",
       "    this.image_mode = 'full';\n",
       "\n",
       "    this.root = $('<div/>');\n",
       "    this._root_extra_style(this.root)\n",
       "    this.root.attr('style', 'display: inline-block');\n",
       "\n",
       "    $(parent_element).append(this.root);\n",
       "\n",
       "    this._init_header(this);\n",
       "    this._init_canvas(this);\n",
       "    this._init_toolbar(this);\n",
       "\n",
       "    var fig = this;\n",
       "\n",
       "    this.waiting = false;\n",
       "\n",
       "    this.ws.onopen =  function () {\n",
       "            fig.send_message(\"supports_binary\", {value: fig.supports_binary});\n",
       "            fig.send_message(\"send_image_mode\", {});\n",
       "            if (mpl.ratio != 1) {\n",
       "                fig.send_message(\"set_dpi_ratio\", {'dpi_ratio': mpl.ratio});\n",
       "            }\n",
       "            fig.send_message(\"refresh\", {});\n",
       "        }\n",
       "\n",
       "    this.imageObj.onload = function() {\n",
       "            if (fig.image_mode == 'full') {\n",
       "                // Full images could contain transparency (where diff images\n",
       "                // almost always do), so we need to clear the canvas so that\n",
       "                // there is no ghosting.\n",
       "                fig.context.clearRect(0, 0, fig.canvas.width, fig.canvas.height);\n",
       "            }\n",
       "            fig.context.drawImage(fig.imageObj, 0, 0);\n",
       "        };\n",
       "\n",
       "    this.imageObj.onunload = function() {\n",
       "        fig.ws.close();\n",
       "    }\n",
       "\n",
       "    this.ws.onmessage = this._make_on_message_function(this);\n",
       "\n",
       "    this.ondownload = ondownload;\n",
       "}\n",
       "\n",
       "mpl.figure.prototype._init_header = function() {\n",
       "    var titlebar = $(\n",
       "        '<div class=\"ui-dialog-titlebar ui-widget-header ui-corner-all ' +\n",
       "        'ui-helper-clearfix\"/>');\n",
       "    var titletext = $(\n",
       "        '<div class=\"ui-dialog-title\" style=\"width: 100%; ' +\n",
       "        'text-align: center; padding: 3px;\"/>');\n",
       "    titlebar.append(titletext)\n",
       "    this.root.append(titlebar);\n",
       "    this.header = titletext[0];\n",
       "}\n",
       "\n",
       "\n",
       "\n",
       "mpl.figure.prototype._canvas_extra_style = function(canvas_div) {\n",
       "\n",
       "}\n",
       "\n",
       "\n",
       "mpl.figure.prototype._root_extra_style = function(canvas_div) {\n",
       "\n",
       "}\n",
       "\n",
       "mpl.figure.prototype._init_canvas = function() {\n",
       "    var fig = this;\n",
       "\n",
       "    var canvas_div = $('<div/>');\n",
       "\n",
       "    canvas_div.attr('style', 'position: relative; clear: both; outline: 0');\n",
       "\n",
       "    function canvas_keyboard_event(event) {\n",
       "        return fig.key_event(event, event['data']);\n",
       "    }\n",
       "\n",
       "    canvas_div.keydown('key_press', canvas_keyboard_event);\n",
       "    canvas_div.keyup('key_release', canvas_keyboard_event);\n",
       "    this.canvas_div = canvas_div\n",
       "    this._canvas_extra_style(canvas_div)\n",
       "    this.root.append(canvas_div);\n",
       "\n",
       "    var canvas = $('<canvas/>');\n",
       "    canvas.addClass('mpl-canvas');\n",
       "    canvas.attr('style', \"left: 0; top: 0; z-index: 0; outline: 0\")\n",
       "\n",
       "    this.canvas = canvas[0];\n",
       "    this.context = canvas[0].getContext(\"2d\");\n",
       "\n",
       "    var backingStore = this.context.backingStorePixelRatio ||\n",
       "\tthis.context.webkitBackingStorePixelRatio ||\n",
       "\tthis.context.mozBackingStorePixelRatio ||\n",
       "\tthis.context.msBackingStorePixelRatio ||\n",
       "\tthis.context.oBackingStorePixelRatio ||\n",
       "\tthis.context.backingStorePixelRatio || 1;\n",
       "\n",
       "    mpl.ratio = (window.devicePixelRatio || 1) / backingStore;\n",
       "\n",
       "    var rubberband = $('<canvas/>');\n",
       "    rubberband.attr('style', \"position: absolute; left: 0; top: 0; z-index: 1;\")\n",
       "\n",
       "    var pass_mouse_events = true;\n",
       "\n",
       "    canvas_div.resizable({\n",
       "        start: function(event, ui) {\n",
       "            pass_mouse_events = false;\n",
       "        },\n",
       "        resize: function(event, ui) {\n",
       "            fig.request_resize(ui.size.width, ui.size.height);\n",
       "        },\n",
       "        stop: function(event, ui) {\n",
       "            pass_mouse_events = true;\n",
       "            fig.request_resize(ui.size.width, ui.size.height);\n",
       "        },\n",
       "    });\n",
       "\n",
       "    function mouse_event_fn(event) {\n",
       "        if (pass_mouse_events)\n",
       "            return fig.mouse_event(event, event['data']);\n",
       "    }\n",
       "\n",
       "    rubberband.mousedown('button_press', mouse_event_fn);\n",
       "    rubberband.mouseup('button_release', mouse_event_fn);\n",
       "    // Throttle sequential mouse events to 1 every 20ms.\n",
       "    rubberband.mousemove('motion_notify', mouse_event_fn);\n",
       "\n",
       "    rubberband.mouseenter('figure_enter', mouse_event_fn);\n",
       "    rubberband.mouseleave('figure_leave', mouse_event_fn);\n",
       "\n",
       "    canvas_div.on(\"wheel\", function (event) {\n",
       "        event = event.originalEvent;\n",
       "        event['data'] = 'scroll'\n",
       "        if (event.deltaY < 0) {\n",
       "            event.step = 1;\n",
       "        } else {\n",
       "            event.step = -1;\n",
       "        }\n",
       "        mouse_event_fn(event);\n",
       "    });\n",
       "\n",
       "    canvas_div.append(canvas);\n",
       "    canvas_div.append(rubberband);\n",
       "\n",
       "    this.rubberband = rubberband;\n",
       "    this.rubberband_canvas = rubberband[0];\n",
       "    this.rubberband_context = rubberband[0].getContext(\"2d\");\n",
       "    this.rubberband_context.strokeStyle = \"#000000\";\n",
       "\n",
       "    this._resize_canvas = function(width, height) {\n",
       "        // Keep the size of the canvas, canvas container, and rubber band\n",
       "        // canvas in synch.\n",
       "        canvas_div.css('width', width)\n",
       "        canvas_div.css('height', height)\n",
       "\n",
       "        canvas.attr('width', width * mpl.ratio);\n",
       "        canvas.attr('height', height * mpl.ratio);\n",
       "        canvas.attr('style', 'width: ' + width + 'px; height: ' + height + 'px;');\n",
       "\n",
       "        rubberband.attr('width', width);\n",
       "        rubberband.attr('height', height);\n",
       "    }\n",
       "\n",
       "    // Set the figure to an initial 600x600px, this will subsequently be updated\n",
       "    // upon first draw.\n",
       "    this._resize_canvas(600, 600);\n",
       "\n",
       "    // Disable right mouse context menu.\n",
       "    $(this.rubberband_canvas).bind(\"contextmenu\",function(e){\n",
       "        return false;\n",
       "    });\n",
       "\n",
       "    function set_focus () {\n",
       "        canvas.focus();\n",
       "        canvas_div.focus();\n",
       "    }\n",
       "\n",
       "    window.setTimeout(set_focus, 100);\n",
       "}\n",
       "\n",
       "mpl.figure.prototype._init_toolbar = function() {\n",
       "    var fig = this;\n",
       "\n",
       "    var nav_element = $('<div/>');\n",
       "    nav_element.attr('style', 'width: 100%');\n",
       "    this.root.append(nav_element);\n",
       "\n",
       "    // Define a callback function for later on.\n",
       "    function toolbar_event(event) {\n",
       "        return fig.toolbar_button_onclick(event['data']);\n",
       "    }\n",
       "    function toolbar_mouse_event(event) {\n",
       "        return fig.toolbar_button_onmouseover(event['data']);\n",
       "    }\n",
       "\n",
       "    for(var toolbar_ind in mpl.toolbar_items) {\n",
       "        var name = mpl.toolbar_items[toolbar_ind][0];\n",
       "        var tooltip = mpl.toolbar_items[toolbar_ind][1];\n",
       "        var image = mpl.toolbar_items[toolbar_ind][2];\n",
       "        var method_name = mpl.toolbar_items[toolbar_ind][3];\n",
       "\n",
       "        if (!name) {\n",
       "            // put a spacer in here.\n",
       "            continue;\n",
       "        }\n",
       "        var button = $('<button/>');\n",
       "        button.addClass('ui-button ui-widget ui-state-default ui-corner-all ' +\n",
       "                        'ui-button-icon-only');\n",
       "        button.attr('role', 'button');\n",
       "        button.attr('aria-disabled', 'false');\n",
       "        button.click(method_name, toolbar_event);\n",
       "        button.mouseover(tooltip, toolbar_mouse_event);\n",
       "\n",
       "        var icon_img = $('<span/>');\n",
       "        icon_img.addClass('ui-button-icon-primary ui-icon');\n",
       "        icon_img.addClass(image);\n",
       "        icon_img.addClass('ui-corner-all');\n",
       "\n",
       "        var tooltip_span = $('<span/>');\n",
       "        tooltip_span.addClass('ui-button-text');\n",
       "        tooltip_span.html(tooltip);\n",
       "\n",
       "        button.append(icon_img);\n",
       "        button.append(tooltip_span);\n",
       "\n",
       "        nav_element.append(button);\n",
       "    }\n",
       "\n",
       "    var fmt_picker_span = $('<span/>');\n",
       "\n",
       "    var fmt_picker = $('<select/>');\n",
       "    fmt_picker.addClass('mpl-toolbar-option ui-widget ui-widget-content');\n",
       "    fmt_picker_span.append(fmt_picker);\n",
       "    nav_element.append(fmt_picker_span);\n",
       "    this.format_dropdown = fmt_picker[0];\n",
       "\n",
       "    for (var ind in mpl.extensions) {\n",
       "        var fmt = mpl.extensions[ind];\n",
       "        var option = $(\n",
       "            '<option/>', {selected: fmt === mpl.default_extension}).html(fmt);\n",
       "        fmt_picker.append(option);\n",
       "    }\n",
       "\n",
       "    // Add hover states to the ui-buttons\n",
       "    $( \".ui-button\" ).hover(\n",
       "        function() { $(this).addClass(\"ui-state-hover\");},\n",
       "        function() { $(this).removeClass(\"ui-state-hover\");}\n",
       "    );\n",
       "\n",
       "    var status_bar = $('<span class=\"mpl-message\"/>');\n",
       "    nav_element.append(status_bar);\n",
       "    this.message = status_bar[0];\n",
       "}\n",
       "\n",
       "mpl.figure.prototype.request_resize = function(x_pixels, y_pixels) {\n",
       "    // Request matplotlib to resize the figure. Matplotlib will then trigger a resize in the client,\n",
       "    // which will in turn request a refresh of the image.\n",
       "    this.send_message('resize', {'width': x_pixels, 'height': y_pixels});\n",
       "}\n",
       "\n",
       "mpl.figure.prototype.send_message = function(type, properties) {\n",
       "    properties['type'] = type;\n",
       "    properties['figure_id'] = this.id;\n",
       "    this.ws.send(JSON.stringify(properties));\n",
       "}\n",
       "\n",
       "mpl.figure.prototype.send_draw_message = function() {\n",
       "    if (!this.waiting) {\n",
       "        this.waiting = true;\n",
       "        this.ws.send(JSON.stringify({type: \"draw\", figure_id: this.id}));\n",
       "    }\n",
       "}\n",
       "\n",
       "\n",
       "mpl.figure.prototype.handle_save = function(fig, msg) {\n",
       "    var format_dropdown = fig.format_dropdown;\n",
       "    var format = format_dropdown.options[format_dropdown.selectedIndex].value;\n",
       "    fig.ondownload(fig, format);\n",
       "}\n",
       "\n",
       "\n",
       "mpl.figure.prototype.handle_resize = function(fig, msg) {\n",
       "    var size = msg['size'];\n",
       "    if (size[0] != fig.canvas.width || size[1] != fig.canvas.height) {\n",
       "        fig._resize_canvas(size[0], size[1]);\n",
       "        fig.send_message(\"refresh\", {});\n",
       "    };\n",
       "}\n",
       "\n",
       "mpl.figure.prototype.handle_rubberband = function(fig, msg) {\n",
       "    var x0 = msg['x0'] / mpl.ratio;\n",
       "    var y0 = (fig.canvas.height - msg['y0']) / mpl.ratio;\n",
       "    var x1 = msg['x1'] / mpl.ratio;\n",
       "    var y1 = (fig.canvas.height - msg['y1']) / mpl.ratio;\n",
       "    x0 = Math.floor(x0) + 0.5;\n",
       "    y0 = Math.floor(y0) + 0.5;\n",
       "    x1 = Math.floor(x1) + 0.5;\n",
       "    y1 = Math.floor(y1) + 0.5;\n",
       "    var min_x = Math.min(x0, x1);\n",
       "    var min_y = Math.min(y0, y1);\n",
       "    var width = Math.abs(x1 - x0);\n",
       "    var height = Math.abs(y1 - y0);\n",
       "\n",
       "    fig.rubberband_context.clearRect(\n",
       "        0, 0, fig.canvas.width / mpl.ratio, fig.canvas.height / mpl.ratio);\n",
       "\n",
       "    fig.rubberband_context.strokeRect(min_x, min_y, width, height);\n",
       "}\n",
       "\n",
       "mpl.figure.prototype.handle_figure_label = function(fig, msg) {\n",
       "    // Updates the figure title.\n",
       "    fig.header.textContent = msg['label'];\n",
       "}\n",
       "\n",
       "mpl.figure.prototype.handle_cursor = function(fig, msg) {\n",
       "    var cursor = msg['cursor'];\n",
       "    switch(cursor)\n",
       "    {\n",
       "    case 0:\n",
       "        cursor = 'pointer';\n",
       "        break;\n",
       "    case 1:\n",
       "        cursor = 'default';\n",
       "        break;\n",
       "    case 2:\n",
       "        cursor = 'crosshair';\n",
       "        break;\n",
       "    case 3:\n",
       "        cursor = 'move';\n",
       "        break;\n",
       "    }\n",
       "    fig.rubberband_canvas.style.cursor = cursor;\n",
       "}\n",
       "\n",
       "mpl.figure.prototype.handle_message = function(fig, msg) {\n",
       "    fig.message.textContent = msg['message'];\n",
       "}\n",
       "\n",
       "mpl.figure.prototype.handle_draw = function(fig, msg) {\n",
       "    // Request the server to send over a new figure.\n",
       "    fig.send_draw_message();\n",
       "}\n",
       "\n",
       "mpl.figure.prototype.handle_image_mode = function(fig, msg) {\n",
       "    fig.image_mode = msg['mode'];\n",
       "}\n",
       "\n",
       "mpl.figure.prototype.updated_canvas_event = function() {\n",
       "    // Called whenever the canvas gets updated.\n",
       "    this.send_message(\"ack\", {});\n",
       "}\n",
       "\n",
       "// A function to construct a web socket function for onmessage handling.\n",
       "// Called in the figure constructor.\n",
       "mpl.figure.prototype._make_on_message_function = function(fig) {\n",
       "    return function socket_on_message(evt) {\n",
       "        if (evt.data instanceof Blob) {\n",
       "            /* FIXME: We get \"Resource interpreted as Image but\n",
       "             * transferred with MIME type text/plain:\" errors on\n",
       "             * Chrome.  But how to set the MIME type?  It doesn't seem\n",
       "             * to be part of the websocket stream */\n",
       "            evt.data.type = \"image/png\";\n",
       "\n",
       "            /* Free the memory for the previous frames */\n",
       "            if (fig.imageObj.src) {\n",
       "                (window.URL || window.webkitURL).revokeObjectURL(\n",
       "                    fig.imageObj.src);\n",
       "            }\n",
       "\n",
       "            fig.imageObj.src = (window.URL || window.webkitURL).createObjectURL(\n",
       "                evt.data);\n",
       "            fig.updated_canvas_event();\n",
       "            fig.waiting = false;\n",
       "            return;\n",
       "        }\n",
       "        else if (typeof evt.data === 'string' && evt.data.slice(0, 21) == \"data:image/png;base64\") {\n",
       "            fig.imageObj.src = evt.data;\n",
       "            fig.updated_canvas_event();\n",
       "            fig.waiting = false;\n",
       "            return;\n",
       "        }\n",
       "\n",
       "        var msg = JSON.parse(evt.data);\n",
       "        var msg_type = msg['type'];\n",
       "\n",
       "        // Call the  \"handle_{type}\" callback, which takes\n",
       "        // the figure and JSON message as its only arguments.\n",
       "        try {\n",
       "            var callback = fig[\"handle_\" + msg_type];\n",
       "        } catch (e) {\n",
       "            console.log(\"No handler for the '\" + msg_type + \"' message type: \", msg);\n",
       "            return;\n",
       "        }\n",
       "\n",
       "        if (callback) {\n",
       "            try {\n",
       "                // console.log(\"Handling '\" + msg_type + \"' message: \", msg);\n",
       "                callback(fig, msg);\n",
       "            } catch (e) {\n",
       "                console.log(\"Exception inside the 'handler_\" + msg_type + \"' callback:\", e, e.stack, msg);\n",
       "            }\n",
       "        }\n",
       "    };\n",
       "}\n",
       "\n",
       "// from http://stackoverflow.com/questions/1114465/getting-mouse-location-in-canvas\n",
       "mpl.findpos = function(e) {\n",
       "    //this section is from http://www.quirksmode.org/js/events_properties.html\n",
       "    var targ;\n",
       "    if (!e)\n",
       "        e = window.event;\n",
       "    if (e.target)\n",
       "        targ = e.target;\n",
       "    else if (e.srcElement)\n",
       "        targ = e.srcElement;\n",
       "    if (targ.nodeType == 3) // defeat Safari bug\n",
       "        targ = targ.parentNode;\n",
       "\n",
       "    // jQuery normalizes the pageX and pageY\n",
       "    // pageX,Y are the mouse positions relative to the document\n",
       "    // offset() returns the position of the element relative to the document\n",
       "    var x = e.pageX - $(targ).offset().left;\n",
       "    var y = e.pageY - $(targ).offset().top;\n",
       "\n",
       "    return {\"x\": x, \"y\": y};\n",
       "};\n",
       "\n",
       "/*\n",
       " * return a copy of an object with only non-object keys\n",
       " * we need this to avoid circular references\n",
       " * http://stackoverflow.com/a/24161582/3208463\n",
       " */\n",
       "function simpleKeys (original) {\n",
       "  return Object.keys(original).reduce(function (obj, key) {\n",
       "    if (typeof original[key] !== 'object')\n",
       "        obj[key] = original[key]\n",
       "    return obj;\n",
       "  }, {});\n",
       "}\n",
       "\n",
       "mpl.figure.prototype.mouse_event = function(event, name) {\n",
       "    var canvas_pos = mpl.findpos(event)\n",
       "\n",
       "    if (name === 'button_press')\n",
       "    {\n",
       "        this.canvas.focus();\n",
       "        this.canvas_div.focus();\n",
       "    }\n",
       "\n",
       "    var x = canvas_pos.x * mpl.ratio;\n",
       "    var y = canvas_pos.y * mpl.ratio;\n",
       "\n",
       "    this.send_message(name, {x: x, y: y, button: event.button,\n",
       "                             step: event.step,\n",
       "                             guiEvent: simpleKeys(event)});\n",
       "\n",
       "    /* This prevents the web browser from automatically changing to\n",
       "     * the text insertion cursor when the button is pressed.  We want\n",
       "     * to control all of the cursor setting manually through the\n",
       "     * 'cursor' event from matplotlib */\n",
       "    event.preventDefault();\n",
       "    return false;\n",
       "}\n",
       "\n",
       "mpl.figure.prototype._key_event_extra = function(event, name) {\n",
       "    // Handle any extra behaviour associated with a key event\n",
       "}\n",
       "\n",
       "mpl.figure.prototype.key_event = function(event, name) {\n",
       "\n",
       "    // Prevent repeat events\n",
       "    if (name == 'key_press')\n",
       "    {\n",
       "        if (event.which === this._key)\n",
       "            return;\n",
       "        else\n",
       "            this._key = event.which;\n",
       "    }\n",
       "    if (name == 'key_release')\n",
       "        this._key = null;\n",
       "\n",
       "    var value = '';\n",
       "    if (event.ctrlKey && event.which != 17)\n",
       "        value += \"ctrl+\";\n",
       "    if (event.altKey && event.which != 18)\n",
       "        value += \"alt+\";\n",
       "    if (event.shiftKey && event.which != 16)\n",
       "        value += \"shift+\";\n",
       "\n",
       "    value += 'k';\n",
       "    value += event.which.toString();\n",
       "\n",
       "    this._key_event_extra(event, name);\n",
       "\n",
       "    this.send_message(name, {key: value,\n",
       "                             guiEvent: simpleKeys(event)});\n",
       "    return false;\n",
       "}\n",
       "\n",
       "mpl.figure.prototype.toolbar_button_onclick = function(name) {\n",
       "    if (name == 'download') {\n",
       "        this.handle_save(this, null);\n",
       "    } else {\n",
       "        this.send_message(\"toolbar_button\", {name: name});\n",
       "    }\n",
       "};\n",
       "\n",
       "mpl.figure.prototype.toolbar_button_onmouseover = function(tooltip) {\n",
       "    this.message.textContent = tooltip;\n",
       "};\n",
       "mpl.toolbar_items = [[\"Home\", \"Reset original view\", \"fa fa-home icon-home\", \"home\"], [\"Back\", \"Back to previous view\", \"fa fa-arrow-left icon-arrow-left\", \"back\"], [\"Forward\", \"Forward to next view\", \"fa fa-arrow-right icon-arrow-right\", \"forward\"], [\"\", \"\", \"\", \"\"], [\"Pan\", \"Pan axes with left mouse, zoom with right\", \"fa fa-arrows icon-move\", \"pan\"], [\"Zoom\", \"Zoom to rectangle\", \"fa fa-square-o icon-check-empty\", \"zoom\"], [\"\", \"\", \"\", \"\"], [\"Download\", \"Download plot\", \"fa fa-floppy-o icon-save\", \"download\"]];\n",
       "\n",
       "mpl.extensions = [\"eps\", \"jpeg\", \"pdf\", \"png\", \"ps\", \"raw\", \"svg\", \"tif\"];\n",
       "\n",
       "mpl.default_extension = \"png\";var comm_websocket_adapter = function(comm) {\n",
       "    // Create a \"websocket\"-like object which calls the given IPython comm\n",
       "    // object with the appropriate methods. Currently this is a non binary\n",
       "    // socket, so there is still some room for performance tuning.\n",
       "    var ws = {};\n",
       "\n",
       "    ws.close = function() {\n",
       "        comm.close()\n",
       "    };\n",
       "    ws.send = function(m) {\n",
       "        //console.log('sending', m);\n",
       "        comm.send(m);\n",
       "    };\n",
       "    // Register the callback with on_msg.\n",
       "    comm.on_msg(function(msg) {\n",
       "        //console.log('receiving', msg['content']['data'], msg);\n",
       "        // Pass the mpl event to the overridden (by mpl) onmessage function.\n",
       "        ws.onmessage(msg['content']['data'])\n",
       "    });\n",
       "    return ws;\n",
       "}\n",
       "\n",
       "mpl.mpl_figure_comm = function(comm, msg) {\n",
       "    // This is the function which gets called when the mpl process\n",
       "    // starts-up an IPython Comm through the \"matplotlib\" channel.\n",
       "\n",
       "    var id = msg.content.data.id;\n",
       "    // Get hold of the div created by the display call when the Comm\n",
       "    // socket was opened in Python.\n",
       "    var element = $(\"#\" + id);\n",
       "    var ws_proxy = comm_websocket_adapter(comm)\n",
       "\n",
       "    function ondownload(figure, format) {\n",
       "        window.open(figure.imageObj.src);\n",
       "    }\n",
       "\n",
       "    var fig = new mpl.figure(id, ws_proxy,\n",
       "                           ondownload,\n",
       "                           element.get(0));\n",
       "\n",
       "    // Call onopen now - mpl needs it, as it is assuming we've passed it a real\n",
       "    // web socket which is closed, not our websocket->open comm proxy.\n",
       "    ws_proxy.onopen();\n",
       "\n",
       "    fig.parent_element = element.get(0);\n",
       "    fig.cell_info = mpl.find_output_cell(\"<div id='\" + id + \"'></div>\");\n",
       "    if (!fig.cell_info) {\n",
       "        console.error(\"Failed to find cell for figure\", id, fig);\n",
       "        return;\n",
       "    }\n",
       "\n",
       "    var output_index = fig.cell_info[2]\n",
       "    var cell = fig.cell_info[0];\n",
       "\n",
       "};\n",
       "\n",
       "mpl.figure.prototype.handle_close = function(fig, msg) {\n",
       "    var width = fig.canvas.width/mpl.ratio\n",
       "    fig.root.unbind('remove')\n",
       "\n",
       "    // Update the output cell to use the data from the current canvas.\n",
       "    fig.push_to_output();\n",
       "    var dataURL = fig.canvas.toDataURL();\n",
       "    // Re-enable the keyboard manager in IPython - without this line, in FF,\n",
       "    // the notebook keyboard shortcuts fail.\n",
       "    IPython.keyboard_manager.enable()\n",
       "    $(fig.parent_element).html('<img src=\"' + dataURL + '\" width=\"' + width + '\">');\n",
       "    fig.close_ws(fig, msg);\n",
       "}\n",
       "\n",
       "mpl.figure.prototype.close_ws = function(fig, msg){\n",
       "    fig.send_message('closing', msg);\n",
       "    // fig.ws.close()\n",
       "}\n",
       "\n",
       "mpl.figure.prototype.push_to_output = function(remove_interactive) {\n",
       "    // Turn the data on the canvas into data in the output cell.\n",
       "    var width = this.canvas.width/mpl.ratio\n",
       "    var dataURL = this.canvas.toDataURL();\n",
       "    this.cell_info[1]['text/html'] = '<img src=\"' + dataURL + '\" width=\"' + width + '\">';\n",
       "}\n",
       "\n",
       "mpl.figure.prototype.updated_canvas_event = function() {\n",
       "    // Tell IPython that the notebook contents must change.\n",
       "    IPython.notebook.set_dirty(true);\n",
       "    this.send_message(\"ack\", {});\n",
       "    var fig = this;\n",
       "    // Wait a second, then push the new image to the DOM so\n",
       "    // that it is saved nicely (might be nice to debounce this).\n",
       "    setTimeout(function () { fig.push_to_output() }, 1000);\n",
       "}\n",
       "\n",
       "mpl.figure.prototype._init_toolbar = function() {\n",
       "    var fig = this;\n",
       "\n",
       "    var nav_element = $('<div/>');\n",
       "    nav_element.attr('style', 'width: 100%');\n",
       "    this.root.append(nav_element);\n",
       "\n",
       "    // Define a callback function for later on.\n",
       "    function toolbar_event(event) {\n",
       "        return fig.toolbar_button_onclick(event['data']);\n",
       "    }\n",
       "    function toolbar_mouse_event(event) {\n",
       "        return fig.toolbar_button_onmouseover(event['data']);\n",
       "    }\n",
       "\n",
       "    for(var toolbar_ind in mpl.toolbar_items){\n",
       "        var name = mpl.toolbar_items[toolbar_ind][0];\n",
       "        var tooltip = mpl.toolbar_items[toolbar_ind][1];\n",
       "        var image = mpl.toolbar_items[toolbar_ind][2];\n",
       "        var method_name = mpl.toolbar_items[toolbar_ind][3];\n",
       "\n",
       "        if (!name) { continue; };\n",
       "\n",
       "        var button = $('<button class=\"btn btn-default\" href=\"#\" title=\"' + name + '\"><i class=\"fa ' + image + ' fa-lg\"></i></button>');\n",
       "        button.click(method_name, toolbar_event);\n",
       "        button.mouseover(tooltip, toolbar_mouse_event);\n",
       "        nav_element.append(button);\n",
       "    }\n",
       "\n",
       "    // Add the status bar.\n",
       "    var status_bar = $('<span class=\"mpl-message\" style=\"text-align:right; float: right;\"/>');\n",
       "    nav_element.append(status_bar);\n",
       "    this.message = status_bar[0];\n",
       "\n",
       "    // Add the close button to the window.\n",
       "    var buttongrp = $('<div class=\"btn-group inline pull-right\"></div>');\n",
       "    var button = $('<button class=\"btn btn-mini btn-primary\" href=\"#\" title=\"Stop Interaction\"><i class=\"fa fa-power-off icon-remove icon-large\"></i></button>');\n",
       "    button.click(function (evt) { fig.handle_close(fig, {}); } );\n",
       "    button.mouseover('Stop Interaction', toolbar_mouse_event);\n",
       "    buttongrp.append(button);\n",
       "    var titlebar = this.root.find($('.ui-dialog-titlebar'));\n",
       "    titlebar.prepend(buttongrp);\n",
       "}\n",
       "\n",
       "mpl.figure.prototype._root_extra_style = function(el){\n",
       "    var fig = this\n",
       "    el.on(\"remove\", function(){\n",
       "\tfig.close_ws(fig, {});\n",
       "    });\n",
       "}\n",
       "\n",
       "mpl.figure.prototype._canvas_extra_style = function(el){\n",
       "    // this is important to make the div 'focusable\n",
       "    el.attr('tabindex', 0)\n",
       "    // reach out to IPython and tell the keyboard manager to turn it's self\n",
       "    // off when our div gets focus\n",
       "\n",
       "    // location in version 3\n",
       "    if (IPython.notebook.keyboard_manager) {\n",
       "        IPython.notebook.keyboard_manager.register_events(el);\n",
       "    }\n",
       "    else {\n",
       "        // location in version 2\n",
       "        IPython.keyboard_manager.register_events(el);\n",
       "    }\n",
       "\n",
       "}\n",
       "\n",
       "mpl.figure.prototype._key_event_extra = function(event, name) {\n",
       "    var manager = IPython.notebook.keyboard_manager;\n",
       "    if (!manager)\n",
       "        manager = IPython.keyboard_manager;\n",
       "\n",
       "    // Check for shift+enter\n",
       "    if (event.shiftKey && event.which == 13) {\n",
       "        this.canvas_div.blur();\n",
       "        // select the cell after this one\n",
       "        var index = IPython.notebook.find_cell_index(this.cell_info[0]);\n",
       "        IPython.notebook.select(index + 1);\n",
       "    }\n",
       "}\n",
       "\n",
       "mpl.figure.prototype.handle_save = function(fig, msg) {\n",
       "    fig.ondownload(fig, null);\n",
       "}\n",
       "\n",
       "\n",
       "mpl.find_output_cell = function(html_output) {\n",
       "    // Return the cell and output element which can be found *uniquely* in the notebook.\n",
       "    // Note - this is a bit hacky, but it is done because the \"notebook_saving.Notebook\"\n",
       "    // IPython event is triggered only after the cells have been serialised, which for\n",
       "    // our purposes (turning an active figure into a static one), is too late.\n",
       "    var cells = IPython.notebook.get_cells();\n",
       "    var ncells = cells.length;\n",
       "    for (var i=0; i<ncells; i++) {\n",
       "        var cell = cells[i];\n",
       "        if (cell.cell_type === 'code'){\n",
       "            for (var j=0; j<cell.output_area.outputs.length; j++) {\n",
       "                var data = cell.output_area.outputs[j];\n",
       "                if (data.data) {\n",
       "                    // IPython >= 3 moved mimebundle to data attribute of output\n",
       "                    data = data.data;\n",
       "                }\n",
       "                if (data['text/html'] == html_output) {\n",
       "                    return [cell, data, j];\n",
       "                }\n",
       "            }\n",
       "        }\n",
       "    }\n",
       "}\n",
       "\n",
       "// Register the function which deals with the matplotlib target/channel.\n",
       "// The kernel may be null if the page has been refreshed.\n",
       "if (IPython.notebook.kernel != null) {\n",
       "    IPython.notebook.kernel.comm_manager.register_target('matplotlib', mpl.mpl_figure_comm);\n",
       "}\n"
      ],
      "text/plain": [
       "<IPython.core.display.Javascript object>"
      ]
     },
     "metadata": {},
     "output_type": "display_data"
    },
    {
     "data": {
      "text/html": [
       "<img src=\"data:image/png;base64,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\" width=\"1000\">"
      ],
      "text/plain": [
       "<IPython.core.display.HTML object>"
      ]
     },
     "metadata": {},
     "output_type": "display_data"
    }
   ],
   "source": [
    "dual_train_plots(results.index,\n",
    "                 results.cost, results.val,\n",
    "                 results.cost, results.val)\n",
    "plt.tight_layout()\n",
    "plt.savefig(str(output / f'{name}_stats_a.png'))"
   ]
  },
  {
   "cell_type": "code",
   "execution_count": 23,
   "metadata": {},
   "outputs": [],
   "source": [
    "quit()"
   ]
  },
  {
   "cell_type": "code",
   "execution_count": null,
   "metadata": {},
   "outputs": [],
   "source": []
  },
  {
   "cell_type": "code",
   "execution_count": null,
   "metadata": {},
   "outputs": [],
   "source": []
  }
 ],
 "metadata": {
  "kernelspec": {
   "display_name": "goofit-june2020",
   "language": "python",
   "name": "goofit-june2020"
  },
  "language_info": {
   "codemirror_mode": {
    "name": "ipython",
    "version": 3
   },
   "file_extension": ".py",
   "mimetype": "text/x-python",
   "name": "python",
   "nbconvert_exporter": "python",
   "pygments_lexer": "ipython3",
   "version": "3.7.6"
  }
 },
 "nbformat": 4,
 "nbformat_minor": 2
}
