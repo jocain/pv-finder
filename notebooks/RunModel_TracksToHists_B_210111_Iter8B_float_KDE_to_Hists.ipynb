{
 "cells": [
  {
   "cell_type": "code",
   "execution_count": 1,
   "metadata": {},
   "outputs": [],
   "source": [
    "##%matplotlib widget\n",
    "## with %matplotlib notebook: seems to require ipympl as part of environment, either\n",
    "## part of the conda environment or \"pip install ipympl\"\n",
    "## otherwise, does not show ANY plots in notebook, plt.savefig() works\n",
    "%matplotlib notebook  \n",
    "##%matplotlib inline    ## --plt.savefig()  works, but re-sizing does NOT\n"
   ]
  },
  {
   "cell_type": "markdown",
   "metadata": {},
   "source": [
    "This notebook is a first attempt to read in track information and use it to predict the the full target histrograms.\n",
    "\n",
    "It will read in the TracksToDKE__Ellipsoids_DDPlus model to predict the KDE, and then feed it into a SimpleCNN model to predict the target histograms.  Initially, it will use previously trained weights.\n"
   ]
  },
  {
   "cell_type": "markdown",
   "metadata": {},
   "source": [
    "Check the current GPU usage. Please try to be nice!"
   ]
  },
  {
   "cell_type": "code",
   "execution_count": 2,
   "metadata": {},
   "outputs": [
    {
     "name": "stdout",
     "output_type": "stream",
     "text": [
      "Mon Jan 11 13:37:27 2021       \r\n",
      "+-----------------------------------------------------------------------------+\r\n",
      "| NVIDIA-SMI 450.36.06    Driver Version: 450.36.06    CUDA Version: 11.0     |\r\n",
      "|-------------------------------+----------------------+----------------------+\r\n",
      "| GPU  Name        Persistence-M| Bus-Id        Disp.A | Volatile Uncorr. ECC |\r\n",
      "| Fan  Temp  Perf  Pwr:Usage/Cap|         Memory-Usage | GPU-Util  Compute M. |\r\n",
      "|                               |                      |               MIG M. |\r\n",
      "|===============================+======================+======================|\r\n",
      "|   0  GeForce RTX 208...  On   | 00000000:18:00.0 Off |                  N/A |\r\n",
      "| 29%   35C    P8    38W / 250W |   8977MiB / 11019MiB |      0%      Default |\r\n",
      "|                               |                      |                  N/A |\r\n",
      "+-------------------------------+----------------------+----------------------+\r\n",
      "|   1  GeForce RTX 208...  On   | 00000000:3B:00.0 Off |                  N/A |\r\n",
      "| 29%   36C    P8    39W / 250W |     61MiB / 11019MiB |      0%      Default |\r\n",
      "|                               |                      |                  N/A |\r\n",
      "+-------------------------------+----------------------+----------------------+\r\n",
      "                                                                               \r\n",
      "+-----------------------------------------------------------------------------+\r\n",
      "| Processes:                                                                  |\r\n",
      "|  GPU   GI   CI        PID   Type   Process name                  GPU Memory |\r\n",
      "|        ID   ID                                                   Usage      |\r\n",
      "|=============================================================================|\r\n",
      "|    0   N/A  N/A    278457      C   ...s/june2020-gpu/bin/python     8973MiB |\r\n",
      "|    1   N/A  N/A      3736      G   /usr/bin/X                         33MiB |\r\n",
      "|    1   N/A  N/A      3790      G   /usr/bin/gnome-shell               25MiB |\r\n",
      "+-----------------------------------------------------------------------------+\r\n"
     ]
    }
   ],
   "source": [
    "!nvidia-smi"
   ]
  },
  {
   "cell_type": "markdown",
   "metadata": {},
   "source": [
    "> **WARNING**: The card numbers here are *not* the same as in CUDA. You have been warned."
   ]
  },
  {
   "cell_type": "markdown",
   "metadata": {},
   "source": [
    "## Imports"
   ]
  },
  {
   "cell_type": "code",
   "execution_count": 3,
   "metadata": {},
   "outputs": [],
   "source": [
    "import matplotlib.pyplot as plt\n",
    "import numpy as np\n",
    "import time\n",
    "import torch\n",
    "import pandas as pd\n",
    "\n",
    "# Python 3 standard library\n",
    "from pathlib import Path\n",
    "\n",
    "from model.efficiency import pv_locations, efficiency\n",
    "\n",
    "##from torchsummary import summary"
   ]
  },
  {
   "cell_type": "markdown",
   "metadata": {},
   "source": [
    "### Set up local parameters"
   ]
  },
  {
   "cell_type": "code",
   "execution_count": 4,
   "metadata": {},
   "outputs": [],
   "source": [
    "n_epochs = 50\n",
    "\n",
    "# Name is the output file name\n",
    "\n",
    "\n",
    "##  200719  mds\n",
    "##folder = '20December_Tracks_to_KDE_TestTrainedModel'\n",
    "##folder = '22December_testing_DDplus_loss_Bb_iter2_floatAll_100epochs_3em6'\n",
    "## 50 epochs using 4 of Will's files with batch_size = 48 should take\n",
    "##  just over 8 hours\n",
    "folder = '11Jan2021_TracksToHists_B_Iter8B_50epochs_lr_1em5_b48_2p5_kde2hists_float_all_4x_will'\n",
    "name = folder\n",
    "\n",
    "# Make an output folder named \"name\" (change if you want)\n",
    "\n",
    "## Special instructions for those working on goofy at UC\n",
    "## Please be very careful to make sure that your folder\n",
    "## does not live in a subdirectory of your home directory\n",
    "## this disk has very little capacity. Instead, use \n",
    "## a subdirectory in /share/lazy with a symbolic link to\n",
    "## it in this (the notebooks) subdirectory\n",
    "folder = 'ML/' + folder\n",
    "output = Path(folder)\n",
    "\n",
    "\n",
    "# Size of batches\n",
    "## reduce batch size from 64 to 32 when floating all the parameters\n",
    "##  it *appears* that storing the gradients requires extra memory\n",
    "##  batch_size = 32 --> 6623MiB / 11019 MiB on sleepy RTX2081 Ti\n",
    "batch_size = 48\n",
    "# How fast to learn\n",
    "## learning rate was 1e-7 for all layers in TracksToHists_A\n",
    "## here we want to learn only weights in the finalFilter layer\n",
    "## of TracksToHists_B, so try a high learning rate, at least initially\n",
    "## 1e-3 did well for the first 10 epochs; let's increase it for the next 40\n",
    "## reduce to 1e-3 for iteration with KDE_to_Hists weights floated\n",
    "##  cost decreased monotonically in previous run, so increase lr to 2e-3\n",
    "##  tried running with lr = 2e-3 and the validation cost function \n",
    "##  bounced around.  Want to try using a lower learning rate and\n",
    "##  a larger training sample\n",
    "##  Iter5B --  float all, leave learning rate = 5e-4\n",
    "##  Iter6C, with lr = 1e-5 rather than 1e-6, seems to be learning more quickly,\n",
    "##  so increase the learning rate to 1e-5 for Iter7B\n",
    "learning_rate = 1e-5"
   ]
  },
  {
   "cell_type": "markdown",
   "metadata": {},
   "source": [
    "Make the output directory if it does not exist:"
   ]
  },
  {
   "cell_type": "code",
   "execution_count": 5,
   "metadata": {},
   "outputs": [],
   "source": [
    "output.mkdir(exist_ok=True)"
   ]
  },
  {
   "cell_type": "markdown",
   "metadata": {},
   "source": [
    "## Get the helper functions\n",
    "\n",
    "Add the directory with the model\n",
    "definitions to the path so we can import from it:\n",
    "\n",
    "> When you type `import X`,\n",
    "Python searches `sys.path` for a python\n",
    "file named `X.py` to import. So we need to add the model directory to the path."
   ]
  },
  {
   "cell_type": "code",
   "execution_count": 6,
   "metadata": {
    "scrolled": true
   },
   "outputs": [],
   "source": [
    "# From model/collectdata.py\n",
    "##from model.collectdata_kde_Ellipsoids import collect_t2kde_data\n",
    "from model.collectdata_t2hists import collect_t2hists_data\n",
    "from model.collectdata_mdsA  import collect_truth\n",
    "\n",
    "# From model/loss.py\n",
    "##from loss import Loss\n",
    "##from model.kde_loss_D import Loss\n",
    "## from model.kde_loss_B import Loss  ## Tracks_to_KDE loss, not for target hists\n",
    "\n",
    "##  \"standard\" ratios loss for hists training\n",
    "from model.alt_loss_A import Loss  ## loss used to train RunModel_Demo_28November2020-SimpleCNNLayer_Ca-Restart_5\n",
    "\n",
    "\n",
    "##from model.models_kde import TracksToKDE_Ellipsoids_DirtyDozen as Model\n",
    "from model.models_kde import TracksToKDE_Ellipsoids_DDplus as t2kde_model\n",
    "##from model.models_mds_G import SimpleCNN5Layer_Ca as kde2hists_model\n",
    "from model.models_mds_28Dec20 import SimpleCNN5Layer_Ca as kde2hists_model  ## copy of models_mds_01June20 for debugging\n",
    "from model.models_t2hists import TracksToHists_B as t2hists_model\n",
    "\n",
    "\n",
    "##from model.training_kde import trainNet, select_gpu, Results\n",
    "## training_t2hists_A.py increases \"difference\" for accepting found\n",
    "## peaks as matched from 5 bins to 7.5 bins (compmared to original training.py)\n",
    "from model.training_t2hists_A import trainNet, select_gpu, Results\n",
    "from model.plots import dual_train_plots, replace_in_ax"
   ]
  },
  {
   "cell_type": "code",
   "execution_count": 7,
   "metadata": {},
   "outputs": [],
   "source": [
    "# This gets built up during the run - do not rerun this cell\n",
    "results = pd.DataFrame([], columns=Results._fields)"
   ]
  },
  {
   "cell_type": "markdown",
   "metadata": {},
   "source": [
    "Set up Torch device configuration. All tensors and model parameters need to know where to be put.\n",
    "This takes a BUS ID number: The BUS ID is the same as the listing at the top of this script."
   ]
  },
  {
   "cell_type": "code",
   "execution_count": 8,
   "metadata": {},
   "outputs": [
    {
     "name": "stdout",
     "output_type": "stream",
     "text": [
      "1 available GPUs (initially using device 0):\n",
      "  0 GeForce RTX 2080 Ti\n"
     ]
    }
   ],
   "source": [
    "device = select_gpu(1)\n",
    "##device = \"cpu\""
   ]
  },
  {
   "cell_type": "markdown",
   "metadata": {},
   "source": [
    "## Loading data\n",
    "\n",
    "Load the dataset, split into parts, then move to device (see `collectdata.py` in the `../model` directory)"
   ]
  },
  {
   "cell_type": "code",
   "execution_count": 9,
   "metadata": {
    "scrolled": false
   },
   "outputs": [
    {
     "name": "stdout",
     "output_type": "stream",
     "text": [
      "Loading data...\n",
      "pocaMx.shape =  (80000,)\n",
      "nEvts =  80000\n",
      "len(pocaMx[0]) =  199\n",
      "len(pocaMx[1]) =  25\n",
      "len(pocaMx[2]) =  369\n",
      "len(pocaMx[3]) =  143\n",
      "len(pocaMx[4]) =  160\n",
      "have entered six_ellipsoid_parameters\n",
      "  \n",
      " \n",
      "  nEvts =  80000\n",
      " iEvt, nTrks =  0 199\n",
      " iEvt, nTrks =  1 25\n",
      " iEvt, nTrks =  2 369\n",
      " iEvt, nTrks =  3 143\n",
      " iEvt, nTrks =  4 160\n",
      " iEvt, nTrks =  5 260\n",
      " iEvt, nTrks =  6 237\n",
      " iEvt, nTrks =  7 327\n",
      " iEvt, nTrks =  8 178\n",
      " iEvt, nTrks =  9 106\n",
      "len(X) =  80000\n",
      "len(Xlist) =  1\n",
      "Loaded /share/lazy/will/data/June30_2020_80k_1.h5 in 110.4 s\n",
      "pocaMx.shape =  (80000,)\n",
      "nEvts =  80000\n",
      "len(pocaMx[0]) =  222\n",
      "len(pocaMx[1]) =  133\n",
      "len(pocaMx[2]) =  259\n",
      "len(pocaMx[3]) =  114\n",
      "len(pocaMx[4]) =  143\n",
      "have entered six_ellipsoid_parameters\n",
      "  \n",
      " \n",
      "  nEvts =  80000\n",
      " iEvt, nTrks =  0 222\n",
      " iEvt, nTrks =  1 133\n",
      " iEvt, nTrks =  2 259\n",
      " iEvt, nTrks =  3 114\n",
      " iEvt, nTrks =  4 143\n",
      " iEvt, nTrks =  5 136\n",
      " iEvt, nTrks =  6 397\n",
      " iEvt, nTrks =  7 370\n",
      " iEvt, nTrks =  8 97\n",
      " iEvt, nTrks =  9 67\n",
      "len(X) =  80000\n",
      "len(Xlist) =  2\n",
      "Loaded /share/lazy/will/data/June30_2020_80k_2.h5 in 112.9 s\n",
      "pocaMx.shape =  (80000,)\n",
      "nEvts =  80000\n",
      "len(pocaMx[0]) =  196\n",
      "len(pocaMx[1]) =  35\n",
      "len(pocaMx[2]) =  265\n",
      "len(pocaMx[3]) =  128\n",
      "len(pocaMx[4]) =  124\n",
      "have entered six_ellipsoid_parameters\n",
      "  \n",
      " \n",
      "  nEvts =  80000\n",
      " iEvt, nTrks =  0 196\n",
      " iEvt, nTrks =  1 35\n",
      " iEvt, nTrks =  2 265\n",
      " iEvt, nTrks =  3 128\n",
      " iEvt, nTrks =  4 124\n",
      " iEvt, nTrks =  5 122\n",
      " iEvt, nTrks =  6 300\n",
      " iEvt, nTrks =  7 179\n",
      " iEvt, nTrks =  8 243\n",
      " iEvt, nTrks =  9 112\n",
      "len(X) =  80000\n",
      "len(Xlist) =  3\n",
      "Loaded /share/lazy/will/data/June30_2020_80k_3.h5 in 113.0 s\n",
      "pocaMx.shape =  (80000,)\n",
      "nEvts =  80000\n",
      "len(pocaMx[0]) =  204\n",
      "len(pocaMx[1]) =  33\n",
      "len(pocaMx[2]) =  206\n",
      "len(pocaMx[3]) =  150\n",
      "len(pocaMx[4]) =  96\n",
      "have entered six_ellipsoid_parameters\n",
      "  \n",
      " \n",
      "  nEvts =  80000\n",
      " iEvt, nTrks =  0 204\n",
      " iEvt, nTrks =  1 33\n",
      " iEvt, nTrks =  2 206\n",
      " iEvt, nTrks =  3 150\n",
      " iEvt, nTrks =  4 96\n",
      " iEvt, nTrks =  5 10\n",
      " iEvt, nTrks =  6 174\n",
      " iEvt, nTrks =  7 320\n",
      " iEvt, nTrks =  8 164\n",
      " iEvt, nTrks =  9 119\n",
      "len(X) =  80000\n",
      "len(Xlist) =  4\n",
      "Loaded /share/lazy/will/data/June30_2020_80k_4.h5 in 122.6 s\n",
      "outer loop X.shape =  (320000, 9, 600)\n",
      "Constructing 320000 event dataset took 2.246 s\n",
      "x_t.shape =  torch.Size([320000, 9, 600])\n",
      "x_t.shape[0] =  320000\n",
      "x_t.shape[1] =  9\n",
      "x_t.shape =  torch.Size([320000, 9, 600])\n",
      "Loading data...\n",
      "pocaMx.shape =  (20000,)\n",
      "nEvts =  20000\n",
      "len(pocaMx[0]) =  211\n",
      "len(pocaMx[1]) =  21\n",
      "len(pocaMx[2]) =  20\n",
      "len(pocaMx[3]) =  198\n",
      "len(pocaMx[4]) =  233\n",
      "have entered six_ellipsoid_parameters\n",
      "  \n",
      " \n",
      "  nEvts =  20000\n",
      " iEvt, nTrks =  0 211\n",
      " iEvt, nTrks =  1 21\n",
      " iEvt, nTrks =  2 20\n",
      " iEvt, nTrks =  3 198\n",
      " iEvt, nTrks =  4 233\n",
      " iEvt, nTrks =  5 85\n",
      " iEvt, nTrks =  6 223\n",
      " iEvt, nTrks =  7 425\n",
      " iEvt, nTrks =  8 252\n",
      " iEvt, nTrks =  9 169\n",
      "len(X) =  20000\n",
      "len(Xlist) =  1\n",
      "Loaded dataAA/20K_POCA_kernel_evts_200926.h5 in 28.35 s\n",
      "outer loop X.shape =  (20000, 9, 600)\n",
      "Constructing 20000 event dataset took 2.231 s\n",
      "x_t.shape =  torch.Size([20000, 9, 600])\n",
      "x_t.shape[0] =  20000\n",
      "x_t.shape[1] =  9\n",
      "x_t.shape =  torch.Size([20000, 9, 600])\n",
      "Loaded dataAA/20K_POCA_kernel_evts_200926.h5 in 0.0132 s\n",
      "PV.n.shape =     (20000,)\n",
      "PV.n[0].shape =  6\n",
      "PV.x[0] =        -0.06039733 0.034324445 0.032115813 0.0021888595 -0.035334907 -0.013019809\n",
      "PV.y[0] =        -0.09381338 -0.013181885 -0.030898828 -0.08940365 -0.0058297813 0.062288247\n",
      "PV.z[0] =        97.82085 61.021088 -0.15807877 134.26784 -29.881668 79.19783\n",
      "PV.n[0] =        24 26 10 7 24 19\n",
      "PV.cat[0] =      1 1 1 1 1 1\n",
      "Loaded dataAA/20K_POCA_kernel_evts_200926.h5 in 0.008353 s\n",
      "SV.n.shape =     (20000,)\n",
      "SV.n[0].shape =  2\n",
      "SV.x[0] =        -0.014751727 0.03923173\n",
      "SV.y[0] =        0.050640453 0.08648109\n",
      "SV.z[0] =        78.924194 79.170876\n",
      "SV.n[0] =        2 0\n",
      "SV.cat[0] =      1 -1\n"
     ]
    }
   ],
   "source": [
    "## 210109 let's use some of Will's toy MC for training rather than the 20K sample I've been using\n",
    "\n",
    "##train_loader = collect_t2hists_data('dataAA/20K_POCA_kernel_evts_200926.h5',\n",
    "train_loader = collect_t2hists_data('/share/lazy/will/data/June30_2020_80k_1.h5', \n",
    "                                    '/share/lazy/will/data/June30_2020_80k_2.h5',\n",
    "                                    '/share/lazy/will/data/June30_2020_80k_3.h5',\n",
    "                                    '/share/lazy/will/data/June30_2020_80k_4.h5',\n",
    "                             batch_size=batch_size,\n",
    "## if we are using a larger dataset (240K events, with the datasets above, and 11 GB  of GPU memory),\n",
    "## not the dataset will overflow the GPU memory; device=device will allow the data to move back\n",
    "## and forth between the CPU and GPU memory. While this allows use of a larger dataset, it slows\n",
    "## down performance by about 10%.  So comment out when not needed.\n",
    "##                           device=device,\n",
    "##                             slice = slice(0,18000)\n",
    "                           )\n",
    "\n",
    "\n",
    "\n",
    "                            \n",
    "# Validation dataset. You can slice to reduce the size.\n",
    "## mds no separate validation set yet,\n",
    "\n",
    "## 210109 and use everything in this 20K file for validation\n",
    "val_loader = collect_t2hists_data('dataAA/20K_POCA_kernel_evts_200926.h5',\n",
    "                            batch_size=batch_size,\n",
    "                            device=device,\n",
    "##                           slice = slice(18000,None)\n",
    "                           )\n",
    "\n",
    "PV = collect_truth('dataAA/20K_POCA_kernel_evts_200926.h5', pvs=True)\n",
    "print('PV.n.shape =    ',  PV.n.shape)\n",
    "print('PV.n[0].shape = ', *PV.n[0].shape)\n",
    "print('PV.x[0] =       ', *PV.x[0])\n",
    "print('PV.y[0] =       ', *PV.y[0])\n",
    "print('PV.z[0] =       ', *PV.z[0])\n",
    "print('PV.n[0] =       ', *PV.n[0])\n",
    "print('PV.cat[0] =     ', *PV.cat[0])\n",
    "\n",
    "SV = collect_truth('dataAA/20K_POCA_kernel_evts_200926.h5', pvs=False)\n",
    "print('SV.n.shape =    ', SV.n.shape)\n",
    "print('SV.n[0].shape = ', *SV.n[0].shape)\n",
    "print('SV.x[0] =       ', *SV.x[0])\n",
    "print('SV.y[0] =       ', *SV.y[0])\n",
    "print('SV.z[0] =       ', *SV.z[0])\n",
    "print('SV.n[0] =       ', *SV.n[0])\n",
    "print('SV.cat[0] =     ', *SV.cat[0])\n"
   ]
  },
  {
   "cell_type": "markdown",
   "metadata": {},
   "source": [
    "# Preparing the model"
   ]
  },
  {
   "cell_type": "markdown",
   "metadata": {},
   "source": [
    "Prepare a model, use multiple GPUs if they are VISIBLE, and move the model to the device."
   ]
  },
  {
   "cell_type": "code",
   "execution_count": 10,
   "metadata": {
    "scrolled": false
   },
   "outputs": [
    {
     "name": "stdout",
     "output_type": "stream",
     "text": [
      "ct, child =  0    Linear(in_features=9, out_features=50, bias=True)\n",
      "ct, child =  1    Linear(in_features=50, out_features=50, bias=True)\n",
      "ct, child =  2    Linear(in_features=50, out_features=50, bias=True)\n",
      "ct, child =  3    Linear(in_features=50, out_features=50, bias=True)\n",
      "ct, child =  4    Linear(in_features=50, out_features=50, bias=True)\n",
      "ct, child =  5    Linear(in_features=50, out_features=50, bias=True)\n",
      "ct, child =  6    Linear(in_features=50, out_features=50, bias=True)\n",
      "ct, child =  7    Linear(in_features=50, out_features=50, bias=True)\n",
      "ct, child =  8    Linear(in_features=50, out_features=50, bias=True)\n",
      "ct, child =  9    Linear(in_features=50, out_features=50, bias=True)\n",
      "ct, child =  10    Linear(in_features=50, out_features=50, bias=True)\n",
      "ct, child =  11    Linear(in_features=50, out_features=16000, bias=True)\n",
      "ct, child =  12    Conv1d(4, 25, kernel_size=(25,), stride=(1,), padding=(12,))\n",
      "ct, child =  13    Conv1d(25, 1, kernel_size=(5,), stride=(1,), padding=(2,))\n",
      "ct, child =  14    Linear(in_features=4000, out_features=4000, bias=True)\n",
      "ct, child =  15    Dropout(p=0.15, inplace=False)\n",
      "ct, child =  16    Dropout(p=0.15, inplace=False)\n",
      "ct, child =  17    Conv1d(1, 20, kernel_size=(25,), stride=(1,), padding=(12,))\n",
      "ct, child =  18    Conv1d(20, 10, kernel_size=(15,), stride=(1,), padding=(7,))\n",
      "ct, child =  19    Conv1d(10, 10, kernel_size=(15,), stride=(1,), padding=(7,))\n",
      "ct, child =  20    Conv1d(10, 10, kernel_size=(15,), stride=(1,), padding=(7,))\n",
      "ct, child =  21    Conv1d(10, 1, kernel_size=(5,), stride=(1,), padding=(2,))\n",
      "ct, child =  22    Dropout(p=0.15, inplace=False)\n",
      "ct, child =  23    Dropout(p=0.15, inplace=False)\n",
      "ct, child =  24    Dropout(p=0.15, inplace=False)\n",
      "ct, child =  25    Dropout(p=0.15, inplace=False)\n",
      "ct, child =  26    Dropout(p=0.35, inplace=False)\n",
      "ct, child =  27    Linear(in_features=4000, out_features=4000, bias=True)\n",
      "ct, child =  28    Conv1d(1, 1, kernel_size=(91,), stride=(1,), padding=(45,))\n"
     ]
    }
   ],
   "source": [
    "nOut1 = 50\n",
    "nOut2 = 50\n",
    "nOut3 = 50\n",
    "nOut4 = 50\n",
    "nOut5 = 50\n",
    "nOut6 = 50\n",
    "nOut7 = 50\n",
    "nOut8 = 50\n",
    "nOut9 = 50\n",
    "nOut10 = 50\n",
    "nOut11 = 50\n",
    "latentChannels = 4\n",
    "model_t2kde = t2kde_model(nOut1,nOut2,nOut3,nOut4,nOut5,nOut6,nOut7,nOut8,nOut9,nOut10,nOut11,latentChannels)\n",
    "model_kde2hists = kde2hists_model()\n",
    "model_t2hists = t2hists_model(nOut1,nOut2,nOut3,nOut4,nOut5,nOut6,nOut7,nOut8,nOut9,nOut10,nOut11,latentChannels)\n",
    "\n",
    "##summary(model, input_size=(4, 4000))\n",
    "##print(model.parameters)\n",
    "\n",
    "## add the following code to allow the user to freeze the some of the weights corresponding \n",
    "## to those taken from an earlier model trained with the original target histograms\n",
    "## presumably -- this leaves either the perturbative filter \"fixed\" and lets the \n",
    "## learning focus on the non-perturbative features, so get started faster, or vice versa\n",
    "\n",
    "## 210110 For Iter0, freeze all weights other than those asociated with\n",
    "## the finalFilter added in moving from TracksToHists_A to TracksToHists_B\n",
    "\n",
    "## for \"float_KDE_to_Hists\" loop over ct<17\n",
    "## for float_all loope over ct < 0\n",
    "ct = 0\n",
    "for child in model_t2hists.children():\n",
    "  print('ct, child = ',ct, \"  \", child)\n",
    "  if (ct < 0) :\n",
    "    print(\"     About to set param.requires_grad=False for ct = \", ct, \"params\")\n",
    "    for param in child.parameters():\n",
    "        param.requires_grad = False \n",
    "  ct += 1\n",
    "\n",
    "loss = Loss(epsilon=1e-5,coefficient=2.5)\n",
    "optimizer = torch.optim.Adam(model_t2hists.parameters(), lr=learning_rate)"
   ]
  },
  {
   "cell_type": "markdown",
   "metadata": {},
   "source": [
    "Let's move the model's weight matricies to the GPU:"
   ]
  },
  {
   "cell_type": "code",
   "execution_count": 11,
   "metadata": {
    "scrolled": false
   },
   "outputs": [
    {
     "data": {
      "text/plain": [
       "<All keys matched successfully>"
      ]
     },
     "execution_count": 11,
     "metadata": {},
     "output_type": "execute_result"
    }
   ],
   "source": [
    "## want to look at all three dictionaries to start:\n",
    "##  t2kde\n",
    "##  kde2hists\n",
    "##  t2hists\n",
    "## the plan is to (initially) copy weights from separate dictionaries into th t2hists dictionary\n",
    "\n",
    "##   ML -> /share/lazy/sokoloff/ML\n",
    "'''\n",
    "model_t2kde_dict = model_t2kde.state_dict()\n",
    "## mds 190725 for debugging\n",
    "print(\"for model_t2kde_dict\")\n",
    "index = 0\n",
    "for k,v in model_t2kde_dict.items():\n",
    "    print(\"index, k =  \",index,\"  \",k)\n",
    "    index = index+1\n",
    "#\n",
    "model_kde2hists_dict = model_kde2hists.state_dict()\n",
    "## mds 190725 for debugging\n",
    "print(\"for model_hists_2kde_dict\")\n",
    "index = 0\n",
    "for k,v in model_kde2hists_dict.items():\n",
    "    print(\"index, k =  \",index,\"  \",k)\n",
    "    index = index+1\n",
    "#\n",
    "model_t2hists_dict = model_t2hists.state_dict()\n",
    "## mds 190725 for debugging\n",
    "print(\"for model_hists_2kde_dict\")\n",
    "index = 0\n",
    "for k,v in model_t2hists_dict.items():\n",
    "    print(\"index, k =  \",index,\"  \",k)\n",
    "    index = index+1\n",
    "#\n",
    "\n",
    "##  build the \"updated_dict\" to become the t2hists_dictionary from the\n",
    "##  t2kde and kde2hist dictionaries\n",
    "update_dict = model_t2hists_dict\n",
    "##print(\"updated_dict = \",updated_dict)\n",
    "## when starting \"ab initio\", reduce biases as the bias gets summed for each track\n",
    "## contributing to the predicted KDE\n",
    "'''\n",
    "\n",
    "\n",
    "'''\n",
    "updated_dict[\"layer1.bias\"] = 0.005*model_dict[\"layer1.bias\"]\n",
    "updated_dict[\"layer2.bias\"] = 0.005*model_dict[\"layer2.bias\"]\n",
    "updated_dict[\"layer3.bias\"] = 0.005*model_dict[\"layer3.bias\"]\n",
    "updated_dict[\"layer4.bias\"] = 0.005*model_dict[\"layer4.bias\"]\n",
    "updated_dict[\"layer5.bias\"] = 0.005*model_dict[\"layer5.bias\"]\n",
    "updated_dict[\"layer6.bias\"] = 0.005*model_dict[\"layer6.bias\"]\n",
    "updated_dict[\"layer7.bias\"] = 0.005*model_dict[\"layer7.bias\"]\n",
    "updated_dict[\"layer8.bias\"] = 0.005*model_dict[\"layer8.bias\"]\n",
    "updated_dict[\"layer9.bias\"] = 0.005*model_dict[\"layer9.bias\"]\n",
    "updated_dict[\"layer10.bias\"] = 0.005*model_dict[\"layer10.bias\"]\n",
    "updated_dict[\"layer11.bias\"] = 0.005*model_dict[\"layer11.bias\"]\n",
    "'''\n",
    "\n",
    "'''\n",
    "##model_t2hists.load_state_dict(updated_dict,strict=False)\n",
    "\n",
    "##model__t2hists_dict = model_t2hists.state_dict()\n",
    "\n",
    "## let's get the tracks-to-kde model here\n",
    "t2kde_folder = '25December__DDplus_loss_Ba_iter5_floatAll_800epochs_5em6'  ## really iter6, really Dec. 27\n",
    "t2kde_folder = '25December__DDplus_loss_Ba_iter7_floatAll_800epochs_4em6'\n",
    "t2kde_name = t2kde_folder\n",
    "suffix = 'final'\n",
    "t2kde_dict_name = 'ML/' + t2kde_folder + '/' + t2kde_name + '_'+ suffix + '.pyt'\n",
    "print('t2kde_dict_name = ',t2kde_dict_name)\n",
    "pretrained_t2kde_dict = torch.load(t2kde_dict_name)\n",
    "\n",
    "print(\" \\n\",\"  for t2kde_pretrained_dict\")\n",
    "index = 0\n",
    "for k,v in pretrained_t2kde_dict.items():\n",
    "    print(\"index, k =  \",index,\"  \",k)\n",
    "    index = index+1\n",
    "    \n",
    "    \n",
    "## let's get the hists-to-kde model here   \n",
    "kde2hists_folder = '02June2020_CNN5Layer_Ca_another200epochs_K'\n",
    "kde2hists_name = kde2hists_folder\n",
    "suffix = 'final'\n",
    "kde2hists_dict_name = 'ML/' + kde2hists_folder + '/' + kde2hists_name + '_'+ suffix + '.pyt'\n",
    "## mds dec28 print('kde2hists_dict_name = ',kde2hists_dict_name)\n",
    "pretrained_kde2hists_dict = torch.load(kde2hists_dict_name)\n",
    "\n",
    "print(\" \\n\",\"  for kde2hists_pretrained_dict\")\n",
    "index = 0\n",
    "for k,v in pretrained_kde2hists_dict.items():\n",
    "    print(\"index, k =  \",index,\"  \",k)\n",
    "    index = index+1\n",
    " \n",
    "\n",
    "\n",
    "##print(\"model_dict instantiated\")\n",
    "# 1. filter out unnecessary keys\n",
    "pretrained_dict = {k: v for k, v in pretrained_t2kde_dict.items() if k in model_t2hists_dict}\n",
    "## mds dec28 print(\"pretrained_dict iterated\")\n",
    "# 2. overwrite entries in the existing state dict\n",
    "model_t2hists_dict.update(pretrained_dict) \n",
    "\n",
    "update_dict[\"hist_conv1.weight\"] = pretrained_kde2hists_dict[\"conv1.weight\"]\n",
    "update_dict[\"hist_conv1.bias\"]   = pretrained_kde2hists_dict[\"conv1.bias\"]\n",
    "update_dict[\"hist_conv2.weight\"] = pretrained_kde2hists_dict[\"conv2.weight\"]\n",
    "update_dict[\"hist_conv2.bias\"]   = pretrained_kde2hists_dict[\"conv2.bias\"]\n",
    "update_dict[\"hist_conv3.weight\"] = pretrained_kde2hists_dict[\"conv3.weight\"]\n",
    "update_dict[\"hist_conv3.bias\"]   = pretrained_kde2hists_dict[\"conv3.bias\"]\n",
    "update_dict[\"hist_conv4.weight\"] = pretrained_kde2hists_dict[\"conv4.weight\"]\n",
    "update_dict[\"hist_conv4.bias\"]   = pretrained_kde2hists_dict[\"conv4.bias\"]\n",
    "update_dict[\"hist_conv5.weight\"] = pretrained_kde2hists_dict[\"conv5.weight\"]\n",
    "update_dict[\"hist_conv5.bias\"]   = pretrained_kde2hists_dict[\"conv5.bias\"]\n",
    "update_dict[\"hist_fc1.weight\"]   = pretrained_kde2hists_dict[\"fc1.weight\"]\n",
    "update_dict[\"hist_fc1.bias\"]     = pretrained_kde2hists_dict[\"fc1.bias\"]\n",
    "\n",
    "##model_t2hists.update(update_dict,strict=False)\n",
    "model_t2hists.load_state_dict(update_dict,strict=False)\n",
    "model_t2hists_dict = model_t2hists.state_dict()\n",
    "'''\n",
    "\n",
    "##\n",
    "#   when starting from a model with a fully connected last layer rather than a convolutional layer\n",
    "# 3. load the new state dict\n",
    "#   need to use strict=False as the two models state model attributes do not agree exactly\n",
    "#   see https://pytorch.org/docs/master/_modules/torch/nn/modules/module.html#Module.load_state_dict\n",
    "\n",
    "t2hists_folder = '10Jan2021_TracksToHists_B_Iter7B_50epochs_lr_1em5_b48_2p5_kde2hists_float_all_4x_will'\n",
    "t2hists_name = t2hists_folder\n",
    "suffix = 'final'\n",
    "t2hists_dict_name = 'ML/' + t2hists_folder + '/' +t2hists_name + '_'+ suffix + '.pyt'\n",
    "## mds dec28 print('kde2hists_dict_name = ',kde2hists_dict_name)\n",
    "pretrained_t2hists_dict = torch.load(t2hists_dict_name) \n",
    "\n",
    "model_t2hists.load_state_dict(pretrained_t2hists_dict,strict=False)\n",
    "\n",
    "##  print('model_t2hists_dict =    ', model_t2hists_dict)\n"
   ]
  },
  {
   "cell_type": "code",
   "execution_count": 12,
   "metadata": {},
   "outputs": [],
   "source": [
    "##print('validation.dataset.tensors = ',validation.dataset.tensors)\n",
    "fig_size = plt.rcParams[\"figure.figsize\"]\n",
    "fig_size[0] = 10\n",
    "fig_size[1] = 4\n",
    "plt.rcParams[\"figure.figsize\"] = fig_size"
   ]
  },
  {
   "cell_type": "code",
   "execution_count": 13,
   "metadata": {
    "scrolled": true
   },
   "outputs": [],
   "source": [
    "model = model_t2hists.to(device)"
   ]
  },
  {
   "cell_type": "code",
   "execution_count": 14,
   "metadata": {},
   "outputs": [
    {
     "data": {
      "application/javascript": [
       "/* Put everything inside the global mpl namespace */\n",
       "window.mpl = {};\n",
       "\n",
       "\n",
       "mpl.get_websocket_type = function() {\n",
       "    if (typeof(WebSocket) !== 'undefined') {\n",
       "        return WebSocket;\n",
       "    } else if (typeof(MozWebSocket) !== 'undefined') {\n",
       "        return MozWebSocket;\n",
       "    } else {\n",
       "        alert('Your browser does not have WebSocket support. ' +\n",
       "              'Please try Chrome, Safari or Firefox ≥ 6. ' +\n",
       "              'Firefox 4 and 5 are also supported but you ' +\n",
       "              'have to enable WebSockets in about:config.');\n",
       "    };\n",
       "}\n",
       "\n",
       "mpl.figure = function(figure_id, websocket, ondownload, parent_element) {\n",
       "    this.id = figure_id;\n",
       "\n",
       "    this.ws = websocket;\n",
       "\n",
       "    this.supports_binary = (this.ws.binaryType != undefined);\n",
       "\n",
       "    if (!this.supports_binary) {\n",
       "        var warnings = document.getElementById(\"mpl-warnings\");\n",
       "        if (warnings) {\n",
       "            warnings.style.display = 'block';\n",
       "            warnings.textContent = (\n",
       "                \"This browser does not support binary websocket messages. \" +\n",
       "                    \"Performance may be slow.\");\n",
       "        }\n",
       "    }\n",
       "\n",
       "    this.imageObj = new Image();\n",
       "\n",
       "    this.context = undefined;\n",
       "    this.message = undefined;\n",
       "    this.canvas = undefined;\n",
       "    this.rubberband_canvas = undefined;\n",
       "    this.rubberband_context = undefined;\n",
       "    this.format_dropdown = undefined;\n",
       "\n",
       "    this.image_mode = 'full';\n",
       "\n",
       "    this.root = $('<div/>');\n",
       "    this._root_extra_style(this.root)\n",
       "    this.root.attr('style', 'display: inline-block');\n",
       "\n",
       "    $(parent_element).append(this.root);\n",
       "\n",
       "    this._init_header(this);\n",
       "    this._init_canvas(this);\n",
       "    this._init_toolbar(this);\n",
       "\n",
       "    var fig = this;\n",
       "\n",
       "    this.waiting = false;\n",
       "\n",
       "    this.ws.onopen =  function () {\n",
       "            fig.send_message(\"supports_binary\", {value: fig.supports_binary});\n",
       "            fig.send_message(\"send_image_mode\", {});\n",
       "            if (mpl.ratio != 1) {\n",
       "                fig.send_message(\"set_dpi_ratio\", {'dpi_ratio': mpl.ratio});\n",
       "            }\n",
       "            fig.send_message(\"refresh\", {});\n",
       "        }\n",
       "\n",
       "    this.imageObj.onload = function() {\n",
       "            if (fig.image_mode == 'full') {\n",
       "                // Full images could contain transparency (where diff images\n",
       "                // almost always do), so we need to clear the canvas so that\n",
       "                // there is no ghosting.\n",
       "                fig.context.clearRect(0, 0, fig.canvas.width, fig.canvas.height);\n",
       "            }\n",
       "            fig.context.drawImage(fig.imageObj, 0, 0);\n",
       "        };\n",
       "\n",
       "    this.imageObj.onunload = function() {\n",
       "        fig.ws.close();\n",
       "    }\n",
       "\n",
       "    this.ws.onmessage = this._make_on_message_function(this);\n",
       "\n",
       "    this.ondownload = ondownload;\n",
       "}\n",
       "\n",
       "mpl.figure.prototype._init_header = function() {\n",
       "    var titlebar = $(\n",
       "        '<div class=\"ui-dialog-titlebar ui-widget-header ui-corner-all ' +\n",
       "        'ui-helper-clearfix\"/>');\n",
       "    var titletext = $(\n",
       "        '<div class=\"ui-dialog-title\" style=\"width: 100%; ' +\n",
       "        'text-align: center; padding: 3px;\"/>');\n",
       "    titlebar.append(titletext)\n",
       "    this.root.append(titlebar);\n",
       "    this.header = titletext[0];\n",
       "}\n",
       "\n",
       "\n",
       "\n",
       "mpl.figure.prototype._canvas_extra_style = function(canvas_div) {\n",
       "\n",
       "}\n",
       "\n",
       "\n",
       "mpl.figure.prototype._root_extra_style = function(canvas_div) {\n",
       "\n",
       "}\n",
       "\n",
       "mpl.figure.prototype._init_canvas = function() {\n",
       "    var fig = this;\n",
       "\n",
       "    var canvas_div = $('<div/>');\n",
       "\n",
       "    canvas_div.attr('style', 'position: relative; clear: both; outline: 0');\n",
       "\n",
       "    function canvas_keyboard_event(event) {\n",
       "        return fig.key_event(event, event['data']);\n",
       "    }\n",
       "\n",
       "    canvas_div.keydown('key_press', canvas_keyboard_event);\n",
       "    canvas_div.keyup('key_release', canvas_keyboard_event);\n",
       "    this.canvas_div = canvas_div\n",
       "    this._canvas_extra_style(canvas_div)\n",
       "    this.root.append(canvas_div);\n",
       "\n",
       "    var canvas = $('<canvas/>');\n",
       "    canvas.addClass('mpl-canvas');\n",
       "    canvas.attr('style', \"left: 0; top: 0; z-index: 0; outline: 0\")\n",
       "\n",
       "    this.canvas = canvas[0];\n",
       "    this.context = canvas[0].getContext(\"2d\");\n",
       "\n",
       "    var backingStore = this.context.backingStorePixelRatio ||\n",
       "\tthis.context.webkitBackingStorePixelRatio ||\n",
       "\tthis.context.mozBackingStorePixelRatio ||\n",
       "\tthis.context.msBackingStorePixelRatio ||\n",
       "\tthis.context.oBackingStorePixelRatio ||\n",
       "\tthis.context.backingStorePixelRatio || 1;\n",
       "\n",
       "    mpl.ratio = (window.devicePixelRatio || 1) / backingStore;\n",
       "\n",
       "    var rubberband = $('<canvas/>');\n",
       "    rubberband.attr('style', \"position: absolute; left: 0; top: 0; z-index: 1;\")\n",
       "\n",
       "    var pass_mouse_events = true;\n",
       "\n",
       "    canvas_div.resizable({\n",
       "        start: function(event, ui) {\n",
       "            pass_mouse_events = false;\n",
       "        },\n",
       "        resize: function(event, ui) {\n",
       "            fig.request_resize(ui.size.width, ui.size.height);\n",
       "        },\n",
       "        stop: function(event, ui) {\n",
       "            pass_mouse_events = true;\n",
       "            fig.request_resize(ui.size.width, ui.size.height);\n",
       "        },\n",
       "    });\n",
       "\n",
       "    function mouse_event_fn(event) {\n",
       "        if (pass_mouse_events)\n",
       "            return fig.mouse_event(event, event['data']);\n",
       "    }\n",
       "\n",
       "    rubberband.mousedown('button_press', mouse_event_fn);\n",
       "    rubberband.mouseup('button_release', mouse_event_fn);\n",
       "    // Throttle sequential mouse events to 1 every 20ms.\n",
       "    rubberband.mousemove('motion_notify', mouse_event_fn);\n",
       "\n",
       "    rubberband.mouseenter('figure_enter', mouse_event_fn);\n",
       "    rubberband.mouseleave('figure_leave', mouse_event_fn);\n",
       "\n",
       "    canvas_div.on(\"wheel\", function (event) {\n",
       "        event = event.originalEvent;\n",
       "        event['data'] = 'scroll'\n",
       "        if (event.deltaY < 0) {\n",
       "            event.step = 1;\n",
       "        } else {\n",
       "            event.step = -1;\n",
       "        }\n",
       "        mouse_event_fn(event);\n",
       "    });\n",
       "\n",
       "    canvas_div.append(canvas);\n",
       "    canvas_div.append(rubberband);\n",
       "\n",
       "    this.rubberband = rubberband;\n",
       "    this.rubberband_canvas = rubberband[0];\n",
       "    this.rubberband_context = rubberband[0].getContext(\"2d\");\n",
       "    this.rubberband_context.strokeStyle = \"#000000\";\n",
       "\n",
       "    this._resize_canvas = function(width, height) {\n",
       "        // Keep the size of the canvas, canvas container, and rubber band\n",
       "        // canvas in synch.\n",
       "        canvas_div.css('width', width)\n",
       "        canvas_div.css('height', height)\n",
       "\n",
       "        canvas.attr('width', width * mpl.ratio);\n",
       "        canvas.attr('height', height * mpl.ratio);\n",
       "        canvas.attr('style', 'width: ' + width + 'px; height: ' + height + 'px;');\n",
       "\n",
       "        rubberband.attr('width', width);\n",
       "        rubberband.attr('height', height);\n",
       "    }\n",
       "\n",
       "    // Set the figure to an initial 600x600px, this will subsequently be updated\n",
       "    // upon first draw.\n",
       "    this._resize_canvas(600, 600);\n",
       "\n",
       "    // Disable right mouse context menu.\n",
       "    $(this.rubberband_canvas).bind(\"contextmenu\",function(e){\n",
       "        return false;\n",
       "    });\n",
       "\n",
       "    function set_focus () {\n",
       "        canvas.focus();\n",
       "        canvas_div.focus();\n",
       "    }\n",
       "\n",
       "    window.setTimeout(set_focus, 100);\n",
       "}\n",
       "\n",
       "mpl.figure.prototype._init_toolbar = function() {\n",
       "    var fig = this;\n",
       "\n",
       "    var nav_element = $('<div/>');\n",
       "    nav_element.attr('style', 'width: 100%');\n",
       "    this.root.append(nav_element);\n",
       "\n",
       "    // Define a callback function for later on.\n",
       "    function toolbar_event(event) {\n",
       "        return fig.toolbar_button_onclick(event['data']);\n",
       "    }\n",
       "    function toolbar_mouse_event(event) {\n",
       "        return fig.toolbar_button_onmouseover(event['data']);\n",
       "    }\n",
       "\n",
       "    for(var toolbar_ind in mpl.toolbar_items) {\n",
       "        var name = mpl.toolbar_items[toolbar_ind][0];\n",
       "        var tooltip = mpl.toolbar_items[toolbar_ind][1];\n",
       "        var image = mpl.toolbar_items[toolbar_ind][2];\n",
       "        var method_name = mpl.toolbar_items[toolbar_ind][3];\n",
       "\n",
       "        if (!name) {\n",
       "            // put a spacer in here.\n",
       "            continue;\n",
       "        }\n",
       "        var button = $('<button/>');\n",
       "        button.addClass('ui-button ui-widget ui-state-default ui-corner-all ' +\n",
       "                        'ui-button-icon-only');\n",
       "        button.attr('role', 'button');\n",
       "        button.attr('aria-disabled', 'false');\n",
       "        button.click(method_name, toolbar_event);\n",
       "        button.mouseover(tooltip, toolbar_mouse_event);\n",
       "\n",
       "        var icon_img = $('<span/>');\n",
       "        icon_img.addClass('ui-button-icon-primary ui-icon');\n",
       "        icon_img.addClass(image);\n",
       "        icon_img.addClass('ui-corner-all');\n",
       "\n",
       "        var tooltip_span = $('<span/>');\n",
       "        tooltip_span.addClass('ui-button-text');\n",
       "        tooltip_span.html(tooltip);\n",
       "\n",
       "        button.append(icon_img);\n",
       "        button.append(tooltip_span);\n",
       "\n",
       "        nav_element.append(button);\n",
       "    }\n",
       "\n",
       "    var fmt_picker_span = $('<span/>');\n",
       "\n",
       "    var fmt_picker = $('<select/>');\n",
       "    fmt_picker.addClass('mpl-toolbar-option ui-widget ui-widget-content');\n",
       "    fmt_picker_span.append(fmt_picker);\n",
       "    nav_element.append(fmt_picker_span);\n",
       "    this.format_dropdown = fmt_picker[0];\n",
       "\n",
       "    for (var ind in mpl.extensions) {\n",
       "        var fmt = mpl.extensions[ind];\n",
       "        var option = $(\n",
       "            '<option/>', {selected: fmt === mpl.default_extension}).html(fmt);\n",
       "        fmt_picker.append(option);\n",
       "    }\n",
       "\n",
       "    // Add hover states to the ui-buttons\n",
       "    $( \".ui-button\" ).hover(\n",
       "        function() { $(this).addClass(\"ui-state-hover\");},\n",
       "        function() { $(this).removeClass(\"ui-state-hover\");}\n",
       "    );\n",
       "\n",
       "    var status_bar = $('<span class=\"mpl-message\"/>');\n",
       "    nav_element.append(status_bar);\n",
       "    this.message = status_bar[0];\n",
       "}\n",
       "\n",
       "mpl.figure.prototype.request_resize = function(x_pixels, y_pixels) {\n",
       "    // Request matplotlib to resize the figure. Matplotlib will then trigger a resize in the client,\n",
       "    // which will in turn request a refresh of the image.\n",
       "    this.send_message('resize', {'width': x_pixels, 'height': y_pixels});\n",
       "}\n",
       "\n",
       "mpl.figure.prototype.send_message = function(type, properties) {\n",
       "    properties['type'] = type;\n",
       "    properties['figure_id'] = this.id;\n",
       "    this.ws.send(JSON.stringify(properties));\n",
       "}\n",
       "\n",
       "mpl.figure.prototype.send_draw_message = function() {\n",
       "    if (!this.waiting) {\n",
       "        this.waiting = true;\n",
       "        this.ws.send(JSON.stringify({type: \"draw\", figure_id: this.id}));\n",
       "    }\n",
       "}\n",
       "\n",
       "\n",
       "mpl.figure.prototype.handle_save = function(fig, msg) {\n",
       "    var format_dropdown = fig.format_dropdown;\n",
       "    var format = format_dropdown.options[format_dropdown.selectedIndex].value;\n",
       "    fig.ondownload(fig, format);\n",
       "}\n",
       "\n",
       "\n",
       "mpl.figure.prototype.handle_resize = function(fig, msg) {\n",
       "    var size = msg['size'];\n",
       "    if (size[0] != fig.canvas.width || size[1] != fig.canvas.height) {\n",
       "        fig._resize_canvas(size[0], size[1]);\n",
       "        fig.send_message(\"refresh\", {});\n",
       "    };\n",
       "}\n",
       "\n",
       "mpl.figure.prototype.handle_rubberband = function(fig, msg) {\n",
       "    var x0 = msg['x0'] / mpl.ratio;\n",
       "    var y0 = (fig.canvas.height - msg['y0']) / mpl.ratio;\n",
       "    var x1 = msg['x1'] / mpl.ratio;\n",
       "    var y1 = (fig.canvas.height - msg['y1']) / mpl.ratio;\n",
       "    x0 = Math.floor(x0) + 0.5;\n",
       "    y0 = Math.floor(y0) + 0.5;\n",
       "    x1 = Math.floor(x1) + 0.5;\n",
       "    y1 = Math.floor(y1) + 0.5;\n",
       "    var min_x = Math.min(x0, x1);\n",
       "    var min_y = Math.min(y0, y1);\n",
       "    var width = Math.abs(x1 - x0);\n",
       "    var height = Math.abs(y1 - y0);\n",
       "\n",
       "    fig.rubberband_context.clearRect(\n",
       "        0, 0, fig.canvas.width / mpl.ratio, fig.canvas.height / mpl.ratio);\n",
       "\n",
       "    fig.rubberband_context.strokeRect(min_x, min_y, width, height);\n",
       "}\n",
       "\n",
       "mpl.figure.prototype.handle_figure_label = function(fig, msg) {\n",
       "    // Updates the figure title.\n",
       "    fig.header.textContent = msg['label'];\n",
       "}\n",
       "\n",
       "mpl.figure.prototype.handle_cursor = function(fig, msg) {\n",
       "    var cursor = msg['cursor'];\n",
       "    switch(cursor)\n",
       "    {\n",
       "    case 0:\n",
       "        cursor = 'pointer';\n",
       "        break;\n",
       "    case 1:\n",
       "        cursor = 'default';\n",
       "        break;\n",
       "    case 2:\n",
       "        cursor = 'crosshair';\n",
       "        break;\n",
       "    case 3:\n",
       "        cursor = 'move';\n",
       "        break;\n",
       "    }\n",
       "    fig.rubberband_canvas.style.cursor = cursor;\n",
       "}\n",
       "\n",
       "mpl.figure.prototype.handle_message = function(fig, msg) {\n",
       "    fig.message.textContent = msg['message'];\n",
       "}\n",
       "\n",
       "mpl.figure.prototype.handle_draw = function(fig, msg) {\n",
       "    // Request the server to send over a new figure.\n",
       "    fig.send_draw_message();\n",
       "}\n",
       "\n",
       "mpl.figure.prototype.handle_image_mode = function(fig, msg) {\n",
       "    fig.image_mode = msg['mode'];\n",
       "}\n",
       "\n",
       "mpl.figure.prototype.updated_canvas_event = function() {\n",
       "    // Called whenever the canvas gets updated.\n",
       "    this.send_message(\"ack\", {});\n",
       "}\n",
       "\n",
       "// A function to construct a web socket function for onmessage handling.\n",
       "// Called in the figure constructor.\n",
       "mpl.figure.prototype._make_on_message_function = function(fig) {\n",
       "    return function socket_on_message(evt) {\n",
       "        if (evt.data instanceof Blob) {\n",
       "            /* FIXME: We get \"Resource interpreted as Image but\n",
       "             * transferred with MIME type text/plain:\" errors on\n",
       "             * Chrome.  But how to set the MIME type?  It doesn't seem\n",
       "             * to be part of the websocket stream */\n",
       "            evt.data.type = \"image/png\";\n",
       "\n",
       "            /* Free the memory for the previous frames */\n",
       "            if (fig.imageObj.src) {\n",
       "                (window.URL || window.webkitURL).revokeObjectURL(\n",
       "                    fig.imageObj.src);\n",
       "            }\n",
       "\n",
       "            fig.imageObj.src = (window.URL || window.webkitURL).createObjectURL(\n",
       "                evt.data);\n",
       "            fig.updated_canvas_event();\n",
       "            fig.waiting = false;\n",
       "            return;\n",
       "        }\n",
       "        else if (typeof evt.data === 'string' && evt.data.slice(0, 21) == \"data:image/png;base64\") {\n",
       "            fig.imageObj.src = evt.data;\n",
       "            fig.updated_canvas_event();\n",
       "            fig.waiting = false;\n",
       "            return;\n",
       "        }\n",
       "\n",
       "        var msg = JSON.parse(evt.data);\n",
       "        var msg_type = msg['type'];\n",
       "\n",
       "        // Call the  \"handle_{type}\" callback, which takes\n",
       "        // the figure and JSON message as its only arguments.\n",
       "        try {\n",
       "            var callback = fig[\"handle_\" + msg_type];\n",
       "        } catch (e) {\n",
       "            console.log(\"No handler for the '\" + msg_type + \"' message type: \", msg);\n",
       "            return;\n",
       "        }\n",
       "\n",
       "        if (callback) {\n",
       "            try {\n",
       "                // console.log(\"Handling '\" + msg_type + \"' message: \", msg);\n",
       "                callback(fig, msg);\n",
       "            } catch (e) {\n",
       "                console.log(\"Exception inside the 'handler_\" + msg_type + \"' callback:\", e, e.stack, msg);\n",
       "            }\n",
       "        }\n",
       "    };\n",
       "}\n",
       "\n",
       "// from http://stackoverflow.com/questions/1114465/getting-mouse-location-in-canvas\n",
       "mpl.findpos = function(e) {\n",
       "    //this section is from http://www.quirksmode.org/js/events_properties.html\n",
       "    var targ;\n",
       "    if (!e)\n",
       "        e = window.event;\n",
       "    if (e.target)\n",
       "        targ = e.target;\n",
       "    else if (e.srcElement)\n",
       "        targ = e.srcElement;\n",
       "    if (targ.nodeType == 3) // defeat Safari bug\n",
       "        targ = targ.parentNode;\n",
       "\n",
       "    // jQuery normalizes the pageX and pageY\n",
       "    // pageX,Y are the mouse positions relative to the document\n",
       "    // offset() returns the position of the element relative to the document\n",
       "    var x = e.pageX - $(targ).offset().left;\n",
       "    var y = e.pageY - $(targ).offset().top;\n",
       "\n",
       "    return {\"x\": x, \"y\": y};\n",
       "};\n",
       "\n",
       "/*\n",
       " * return a copy of an object with only non-object keys\n",
       " * we need this to avoid circular references\n",
       " * http://stackoverflow.com/a/24161582/3208463\n",
       " */\n",
       "function simpleKeys (original) {\n",
       "  return Object.keys(original).reduce(function (obj, key) {\n",
       "    if (typeof original[key] !== 'object')\n",
       "        obj[key] = original[key]\n",
       "    return obj;\n",
       "  }, {});\n",
       "}\n",
       "\n",
       "mpl.figure.prototype.mouse_event = function(event, name) {\n",
       "    var canvas_pos = mpl.findpos(event)\n",
       "\n",
       "    if (name === 'button_press')\n",
       "    {\n",
       "        this.canvas.focus();\n",
       "        this.canvas_div.focus();\n",
       "    }\n",
       "\n",
       "    var x = canvas_pos.x * mpl.ratio;\n",
       "    var y = canvas_pos.y * mpl.ratio;\n",
       "\n",
       "    this.send_message(name, {x: x, y: y, button: event.button,\n",
       "                             step: event.step,\n",
       "                             guiEvent: simpleKeys(event)});\n",
       "\n",
       "    /* This prevents the web browser from automatically changing to\n",
       "     * the text insertion cursor when the button is pressed.  We want\n",
       "     * to control all of the cursor setting manually through the\n",
       "     * 'cursor' event from matplotlib */\n",
       "    event.preventDefault();\n",
       "    return false;\n",
       "}\n",
       "\n",
       "mpl.figure.prototype._key_event_extra = function(event, name) {\n",
       "    // Handle any extra behaviour associated with a key event\n",
       "}\n",
       "\n",
       "mpl.figure.prototype.key_event = function(event, name) {\n",
       "\n",
       "    // Prevent repeat events\n",
       "    if (name == 'key_press')\n",
       "    {\n",
       "        if (event.which === this._key)\n",
       "            return;\n",
       "        else\n",
       "            this._key = event.which;\n",
       "    }\n",
       "    if (name == 'key_release')\n",
       "        this._key = null;\n",
       "\n",
       "    var value = '';\n",
       "    if (event.ctrlKey && event.which != 17)\n",
       "        value += \"ctrl+\";\n",
       "    if (event.altKey && event.which != 18)\n",
       "        value += \"alt+\";\n",
       "    if (event.shiftKey && event.which != 16)\n",
       "        value += \"shift+\";\n",
       "\n",
       "    value += 'k';\n",
       "    value += event.which.toString();\n",
       "\n",
       "    this._key_event_extra(event, name);\n",
       "\n",
       "    this.send_message(name, {key: value,\n",
       "                             guiEvent: simpleKeys(event)});\n",
       "    return false;\n",
       "}\n",
       "\n",
       "mpl.figure.prototype.toolbar_button_onclick = function(name) {\n",
       "    if (name == 'download') {\n",
       "        this.handle_save(this, null);\n",
       "    } else {\n",
       "        this.send_message(\"toolbar_button\", {name: name});\n",
       "    }\n",
       "};\n",
       "\n",
       "mpl.figure.prototype.toolbar_button_onmouseover = function(tooltip) {\n",
       "    this.message.textContent = tooltip;\n",
       "};\n",
       "mpl.toolbar_items = [[\"Home\", \"Reset original view\", \"fa fa-home icon-home\", \"home\"], [\"Back\", \"Back to previous view\", \"fa fa-arrow-left icon-arrow-left\", \"back\"], [\"Forward\", \"Forward to next view\", \"fa fa-arrow-right icon-arrow-right\", \"forward\"], [\"\", \"\", \"\", \"\"], [\"Pan\", \"Pan axes with left mouse, zoom with right\", \"fa fa-arrows icon-move\", \"pan\"], [\"Zoom\", \"Zoom to rectangle\", \"fa fa-square-o icon-check-empty\", \"zoom\"], [\"\", \"\", \"\", \"\"], [\"Download\", \"Download plot\", \"fa fa-floppy-o icon-save\", \"download\"]];\n",
       "\n",
       "mpl.extensions = [\"eps\", \"jpeg\", \"pdf\", \"png\", \"ps\", \"raw\", \"svg\", \"tif\"];\n",
       "\n",
       "mpl.default_extension = \"png\";var comm_websocket_adapter = function(comm) {\n",
       "    // Create a \"websocket\"-like object which calls the given IPython comm\n",
       "    // object with the appropriate methods. Currently this is a non binary\n",
       "    // socket, so there is still some room for performance tuning.\n",
       "    var ws = {};\n",
       "\n",
       "    ws.close = function() {\n",
       "        comm.close()\n",
       "    };\n",
       "    ws.send = function(m) {\n",
       "        //console.log('sending', m);\n",
       "        comm.send(m);\n",
       "    };\n",
       "    // Register the callback with on_msg.\n",
       "    comm.on_msg(function(msg) {\n",
       "        //console.log('receiving', msg['content']['data'], msg);\n",
       "        // Pass the mpl event to the overridden (by mpl) onmessage function.\n",
       "        ws.onmessage(msg['content']['data'])\n",
       "    });\n",
       "    return ws;\n",
       "}\n",
       "\n",
       "mpl.mpl_figure_comm = function(comm, msg) {\n",
       "    // This is the function which gets called when the mpl process\n",
       "    // starts-up an IPython Comm through the \"matplotlib\" channel.\n",
       "\n",
       "    var id = msg.content.data.id;\n",
       "    // Get hold of the div created by the display call when the Comm\n",
       "    // socket was opened in Python.\n",
       "    var element = $(\"#\" + id);\n",
       "    var ws_proxy = comm_websocket_adapter(comm)\n",
       "\n",
       "    function ondownload(figure, format) {\n",
       "        window.open(figure.imageObj.src);\n",
       "    }\n",
       "\n",
       "    var fig = new mpl.figure(id, ws_proxy,\n",
       "                           ondownload,\n",
       "                           element.get(0));\n",
       "\n",
       "    // Call onopen now - mpl needs it, as it is assuming we've passed it a real\n",
       "    // web socket which is closed, not our websocket->open comm proxy.\n",
       "    ws_proxy.onopen();\n",
       "\n",
       "    fig.parent_element = element.get(0);\n",
       "    fig.cell_info = mpl.find_output_cell(\"<div id='\" + id + \"'></div>\");\n",
       "    if (!fig.cell_info) {\n",
       "        console.error(\"Failed to find cell for figure\", id, fig);\n",
       "        return;\n",
       "    }\n",
       "\n",
       "    var output_index = fig.cell_info[2]\n",
       "    var cell = fig.cell_info[0];\n",
       "\n",
       "};\n",
       "\n",
       "mpl.figure.prototype.handle_close = function(fig, msg) {\n",
       "    var width = fig.canvas.width/mpl.ratio\n",
       "    fig.root.unbind('remove')\n",
       "\n",
       "    // Update the output cell to use the data from the current canvas.\n",
       "    fig.push_to_output();\n",
       "    var dataURL = fig.canvas.toDataURL();\n",
       "    // Re-enable the keyboard manager in IPython - without this line, in FF,\n",
       "    // the notebook keyboard shortcuts fail.\n",
       "    IPython.keyboard_manager.enable()\n",
       "    $(fig.parent_element).html('<img src=\"' + dataURL + '\" width=\"' + width + '\">');\n",
       "    fig.close_ws(fig, msg);\n",
       "}\n",
       "\n",
       "mpl.figure.prototype.close_ws = function(fig, msg){\n",
       "    fig.send_message('closing', msg);\n",
       "    // fig.ws.close()\n",
       "}\n",
       "\n",
       "mpl.figure.prototype.push_to_output = function(remove_interactive) {\n",
       "    // Turn the data on the canvas into data in the output cell.\n",
       "    var width = this.canvas.width/mpl.ratio\n",
       "    var dataURL = this.canvas.toDataURL();\n",
       "    this.cell_info[1]['text/html'] = '<img src=\"' + dataURL + '\" width=\"' + width + '\">';\n",
       "}\n",
       "\n",
       "mpl.figure.prototype.updated_canvas_event = function() {\n",
       "    // Tell IPython that the notebook contents must change.\n",
       "    IPython.notebook.set_dirty(true);\n",
       "    this.send_message(\"ack\", {});\n",
       "    var fig = this;\n",
       "    // Wait a second, then push the new image to the DOM so\n",
       "    // that it is saved nicely (might be nice to debounce this).\n",
       "    setTimeout(function () { fig.push_to_output() }, 1000);\n",
       "}\n",
       "\n",
       "mpl.figure.prototype._init_toolbar = function() {\n",
       "    var fig = this;\n",
       "\n",
       "    var nav_element = $('<div/>');\n",
       "    nav_element.attr('style', 'width: 100%');\n",
       "    this.root.append(nav_element);\n",
       "\n",
       "    // Define a callback function for later on.\n",
       "    function toolbar_event(event) {\n",
       "        return fig.toolbar_button_onclick(event['data']);\n",
       "    }\n",
       "    function toolbar_mouse_event(event) {\n",
       "        return fig.toolbar_button_onmouseover(event['data']);\n",
       "    }\n",
       "\n",
       "    for(var toolbar_ind in mpl.toolbar_items){\n",
       "        var name = mpl.toolbar_items[toolbar_ind][0];\n",
       "        var tooltip = mpl.toolbar_items[toolbar_ind][1];\n",
       "        var image = mpl.toolbar_items[toolbar_ind][2];\n",
       "        var method_name = mpl.toolbar_items[toolbar_ind][3];\n",
       "\n",
       "        if (!name) { continue; };\n",
       "\n",
       "        var button = $('<button class=\"btn btn-default\" href=\"#\" title=\"' + name + '\"><i class=\"fa ' + image + ' fa-lg\"></i></button>');\n",
       "        button.click(method_name, toolbar_event);\n",
       "        button.mouseover(tooltip, toolbar_mouse_event);\n",
       "        nav_element.append(button);\n",
       "    }\n",
       "\n",
       "    // Add the status bar.\n",
       "    var status_bar = $('<span class=\"mpl-message\" style=\"text-align:right; float: right;\"/>');\n",
       "    nav_element.append(status_bar);\n",
       "    this.message = status_bar[0];\n",
       "\n",
       "    // Add the close button to the window.\n",
       "    var buttongrp = $('<div class=\"btn-group inline pull-right\"></div>');\n",
       "    var button = $('<button class=\"btn btn-mini btn-primary\" href=\"#\" title=\"Stop Interaction\"><i class=\"fa fa-power-off icon-remove icon-large\"></i></button>');\n",
       "    button.click(function (evt) { fig.handle_close(fig, {}); } );\n",
       "    button.mouseover('Stop Interaction', toolbar_mouse_event);\n",
       "    buttongrp.append(button);\n",
       "    var titlebar = this.root.find($('.ui-dialog-titlebar'));\n",
       "    titlebar.prepend(buttongrp);\n",
       "}\n",
       "\n",
       "mpl.figure.prototype._root_extra_style = function(el){\n",
       "    var fig = this\n",
       "    el.on(\"remove\", function(){\n",
       "\tfig.close_ws(fig, {});\n",
       "    });\n",
       "}\n",
       "\n",
       "mpl.figure.prototype._canvas_extra_style = function(el){\n",
       "    // this is important to make the div 'focusable\n",
       "    el.attr('tabindex', 0)\n",
       "    // reach out to IPython and tell the keyboard manager to turn it's self\n",
       "    // off when our div gets focus\n",
       "\n",
       "    // location in version 3\n",
       "    if (IPython.notebook.keyboard_manager) {\n",
       "        IPython.notebook.keyboard_manager.register_events(el);\n",
       "    }\n",
       "    else {\n",
       "        // location in version 2\n",
       "        IPython.keyboard_manager.register_events(el);\n",
       "    }\n",
       "\n",
       "}\n",
       "\n",
       "mpl.figure.prototype._key_event_extra = function(event, name) {\n",
       "    var manager = IPython.notebook.keyboard_manager;\n",
       "    if (!manager)\n",
       "        manager = IPython.keyboard_manager;\n",
       "\n",
       "    // Check for shift+enter\n",
       "    if (event.shiftKey && event.which == 13) {\n",
       "        this.canvas_div.blur();\n",
       "        // select the cell after this one\n",
       "        var index = IPython.notebook.find_cell_index(this.cell_info[0]);\n",
       "        IPython.notebook.select(index + 1);\n",
       "    }\n",
       "}\n",
       "\n",
       "mpl.figure.prototype.handle_save = function(fig, msg) {\n",
       "    fig.ondownload(fig, null);\n",
       "}\n",
       "\n",
       "\n",
       "mpl.find_output_cell = function(html_output) {\n",
       "    // Return the cell and output element which can be found *uniquely* in the notebook.\n",
       "    // Note - this is a bit hacky, but it is done because the \"notebook_saving.Notebook\"\n",
       "    // IPython event is triggered only after the cells have been serialised, which for\n",
       "    // our purposes (turning an active figure into a static one), is too late.\n",
       "    var cells = IPython.notebook.get_cells();\n",
       "    var ncells = cells.length;\n",
       "    for (var i=0; i<ncells; i++) {\n",
       "        var cell = cells[i];\n",
       "        if (cell.cell_type === 'code'){\n",
       "            for (var j=0; j<cell.output_area.outputs.length; j++) {\n",
       "                var data = cell.output_area.outputs[j];\n",
       "                if (data.data) {\n",
       "                    // IPython >= 3 moved mimebundle to data attribute of output\n",
       "                    data = data.data;\n",
       "                }\n",
       "                if (data['text/html'] == html_output) {\n",
       "                    return [cell, data, j];\n",
       "                }\n",
       "            }\n",
       "        }\n",
       "    }\n",
       "}\n",
       "\n",
       "// Register the function which deals with the matplotlib target/channel.\n",
       "// The kernel may be null if the page has been refreshed.\n",
       "if (IPython.notebook.kernel != null) {\n",
       "    IPython.notebook.kernel.comm_manager.register_target('matplotlib', mpl.mpl_figure_comm);\n",
       "}\n"
      ],
      "text/plain": [
       "<IPython.core.display.Javascript object>"
      ]
     },
     "metadata": {},
     "output_type": "display_data"
    },
    {
     "data": {
      "text/html": [
       "<img src=\"data:image/png;base64,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\" width=\"1000\">"
      ],
      "text/plain": [
       "<IPython.core.display.HTML object>"
      ]
     },
     "metadata": {},
     "output_type": "display_data"
    }
   ],
   "source": [
    "ax, tax, lax, lines = dual_train_plots()\n",
    "fig = ax.figure\n",
    "plt.tight_layout()"
   ]
  },
  {
   "cell_type": "code",
   "execution_count": 15,
   "metadata": {
    "scrolled": false
   },
   "outputs": [
    {
     "name": "stdout",
     "output_type": "stream",
     "text": [
      "Number of batches: train = 6667, val = 417\n"
     ]
    },
    {
     "data": {
      "application/vnd.jupyter.widget-view+json": {
       "model_id": "29b374066bc5429c9d72b041458ba2e7",
       "version_major": 2,
       "version_minor": 0
      },
      "text/plain": [
       "HBox(children=(FloatProgress(value=0.0, description='Epochs', layout=Layout(flex='2'), max=50.0, style=Progres…"
      ]
     },
     "metadata": {},
     "output_type": "display_data"
    },
    {
     "data": {
      "application/vnd.jupyter.widget-view+json": {
       "model_id": "",
       "version_major": 2,
       "version_minor": 0
      },
      "text/plain": [
       "HBox(children=(FloatProgress(value=0.0, description='Training', layout=Layout(flex='2'), max=6667.0, style=Pro…"
      ]
     },
     "metadata": {},
     "output_type": "display_data"
    },
    {
     "name": "stdout",
     "output_type": "stream",
     "text": [
      "Epoch 0: train=7.10803, val=6.44765, took 596.56 s\n",
      "  Validation Found 84201 of 108024, added 8287 (eff 77.95%) (0.414 FP/event)\n"
     ]
    },
    {
     "data": {
      "application/vnd.jupyter.widget-view+json": {
       "model_id": "",
       "version_major": 2,
       "version_minor": 0
      },
      "text/plain": [
       "HBox(children=(FloatProgress(value=0.0, description='Training', layout=Layout(flex='2'), max=6667.0, style=Pro…"
      ]
     },
     "metadata": {},
     "output_type": "display_data"
    },
    {
     "name": "stdout",
     "output_type": "stream",
     "text": [
      "Epoch 1: train=7.09777, val=6.53482, took 607.76 s\n",
      "  Validation Found 84542 of 108024, added 8447 (eff 78.26%) (0.422 FP/event)\n"
     ]
    },
    {
     "data": {
      "application/vnd.jupyter.widget-view+json": {
       "model_id": "",
       "version_major": 2,
       "version_minor": 0
      },
      "text/plain": [
       "HBox(children=(FloatProgress(value=0.0, description='Training', layout=Layout(flex='2'), max=6667.0, style=Pro…"
      ]
     },
     "metadata": {},
     "output_type": "display_data"
    },
    {
     "name": "stdout",
     "output_type": "stream",
     "text": [
      "Epoch 2: train=7.09874, val=6.49181, took 598.21 s\n",
      "  Validation Found 84316 of 108024, added 8398 (eff 78.05%) (0.42 FP/event)\n"
     ]
    },
    {
     "data": {
      "application/vnd.jupyter.widget-view+json": {
       "model_id": "",
       "version_major": 2,
       "version_minor": 0
      },
      "text/plain": [
       "HBox(children=(FloatProgress(value=0.0, description='Training', layout=Layout(flex='2'), max=6667.0, style=Pro…"
      ]
     },
     "metadata": {},
     "output_type": "display_data"
    },
    {
     "name": "stdout",
     "output_type": "stream",
     "text": [
      "Epoch 3: train=7.09235, val=6.43378, took 597.56 s\n",
      "  Validation Found 84506 of 108024, added 8482 (eff 78.23%) (0.424 FP/event)\n"
     ]
    },
    {
     "data": {
      "application/vnd.jupyter.widget-view+json": {
       "model_id": "",
       "version_major": 2,
       "version_minor": 0
      },
      "text/plain": [
       "HBox(children=(FloatProgress(value=0.0, description='Training', layout=Layout(flex='2'), max=6667.0, style=Pro…"
      ]
     },
     "metadata": {},
     "output_type": "display_data"
    },
    {
     "name": "stdout",
     "output_type": "stream",
     "text": [
      "Epoch 4: train=7.08485, val=6.58064, took 594.9 s\n",
      "  Validation Found 84662 of 108024, added 8553 (eff 78.37%) (0.428 FP/event)\n"
     ]
    },
    {
     "data": {
      "application/vnd.jupyter.widget-view+json": {
       "model_id": "",
       "version_major": 2,
       "version_minor": 0
      },
      "text/plain": [
       "HBox(children=(FloatProgress(value=0.0, description='Training', layout=Layout(flex='2'), max=6667.0, style=Pro…"
      ]
     },
     "metadata": {},
     "output_type": "display_data"
    },
    {
     "name": "stdout",
     "output_type": "stream",
     "text": [
      "Epoch 5: train=7.07733, val=6.41319, took 594.66 s\n",
      "  Validation Found 84200 of 108024, added 8361 (eff 77.95%) (0.418 FP/event)\n"
     ]
    },
    {
     "data": {
      "application/vnd.jupyter.widget-view+json": {
       "model_id": "",
       "version_major": 2,
       "version_minor": 0
      },
      "text/plain": [
       "HBox(children=(FloatProgress(value=0.0, description='Training', layout=Layout(flex='2'), max=6667.0, style=Pro…"
      ]
     },
     "metadata": {},
     "output_type": "display_data"
    },
    {
     "name": "stdout",
     "output_type": "stream",
     "text": [
      "Epoch 6: train=7.07134, val=6.36177, took 593.61 s\n",
      "  Validation Found 84488 of 108024, added 8428 (eff 78.21%) (0.421 FP/event)\n"
     ]
    },
    {
     "data": {
      "application/vnd.jupyter.widget-view+json": {
       "model_id": "",
       "version_major": 2,
       "version_minor": 0
      },
      "text/plain": [
       "HBox(children=(FloatProgress(value=0.0, description='Training', layout=Layout(flex='2'), max=6667.0, style=Pro…"
      ]
     },
     "metadata": {},
     "output_type": "display_data"
    },
    {
     "name": "stdout",
     "output_type": "stream",
     "text": [
      "Epoch 7: train=7.07163, val=6.49004, took 596.97 s\n",
      "  Validation Found 84613 of 108024, added 8359 (eff 78.33%) (0.418 FP/event)\n"
     ]
    },
    {
     "data": {
      "application/vnd.jupyter.widget-view+json": {
       "model_id": "",
       "version_major": 2,
       "version_minor": 0
      },
      "text/plain": [
       "HBox(children=(FloatProgress(value=0.0, description='Training', layout=Layout(flex='2'), max=6667.0, style=Pro…"
      ]
     },
     "metadata": {},
     "output_type": "display_data"
    },
    {
     "name": "stdout",
     "output_type": "stream",
     "text": [
      "Epoch 8: train=7.06124, val=6.4102, took 593.55 s\n",
      "  Validation Found 85044 of 108024, added 8645 (eff 78.73%) (0.432 FP/event)\n"
     ]
    },
    {
     "data": {
      "application/vnd.jupyter.widget-view+json": {
       "model_id": "",
       "version_major": 2,
       "version_minor": 0
      },
      "text/plain": [
       "HBox(children=(FloatProgress(value=0.0, description='Training', layout=Layout(flex='2'), max=6667.0, style=Pro…"
      ]
     },
     "metadata": {},
     "output_type": "display_data"
    },
    {
     "name": "stdout",
     "output_type": "stream",
     "text": [
      "Epoch 9: train=7.06191, val=6.46627, took 593.44 s\n",
      "  Validation Found 84256 of 108024, added 8343 (eff 78.00%) (0.417 FP/event)\n"
     ]
    },
    {
     "data": {
      "application/vnd.jupyter.widget-view+json": {
       "model_id": "",
       "version_major": 2,
       "version_minor": 0
      },
      "text/plain": [
       "HBox(children=(FloatProgress(value=0.0, description='Training', layout=Layout(flex='2'), max=6667.0, style=Pro…"
      ]
     },
     "metadata": {},
     "output_type": "display_data"
    },
    {
     "name": "stdout",
     "output_type": "stream",
     "text": [
      "Epoch 10: train=7.04763, val=6.35945, took 594.99 s\n",
      "  Validation Found 84837 of 108024, added 8570 (eff 78.54%) (0.428 FP/event)\n"
     ]
    },
    {
     "data": {
      "application/vnd.jupyter.widget-view+json": {
       "model_id": "",
       "version_major": 2,
       "version_minor": 0
      },
      "text/plain": [
       "HBox(children=(FloatProgress(value=0.0, description='Training', layout=Layout(flex='2'), max=6667.0, style=Pro…"
      ]
     },
     "metadata": {},
     "output_type": "display_data"
    },
    {
     "name": "stdout",
     "output_type": "stream",
     "text": [
      "Epoch 11: train=7.04563, val=6.49268, took 591.78 s\n",
      "  Validation Found 84095 of 108024, added 8269 (eff 77.85%) (0.413 FP/event)\n"
     ]
    },
    {
     "data": {
      "application/vnd.jupyter.widget-view+json": {
       "model_id": "",
       "version_major": 2,
       "version_minor": 0
      },
      "text/plain": [
       "HBox(children=(FloatProgress(value=0.0, description='Training', layout=Layout(flex='2'), max=6667.0, style=Pro…"
      ]
     },
     "metadata": {},
     "output_type": "display_data"
    },
    {
     "name": "stdout",
     "output_type": "stream",
     "text": [
      "Epoch 12: train=7.04463, val=6.37203, took 594.23 s\n",
      "  Validation Found 84794 of 108024, added 8450 (eff 78.50%) (0.422 FP/event)\n"
     ]
    },
    {
     "data": {
      "application/vnd.jupyter.widget-view+json": {
       "model_id": "",
       "version_major": 2,
       "version_minor": 0
      },
      "text/plain": [
       "HBox(children=(FloatProgress(value=0.0, description='Training', layout=Layout(flex='2'), max=6667.0, style=Pro…"
      ]
     },
     "metadata": {},
     "output_type": "display_data"
    },
    {
     "name": "stdout",
     "output_type": "stream",
     "text": [
      "Epoch 13: train=7.03953, val=6.36466, took 592.85 s\n",
      "  Validation Found 85110 of 108024, added 8606 (eff 78.79%) (0.43 FP/event)\n"
     ]
    },
    {
     "data": {
      "application/vnd.jupyter.widget-view+json": {
       "model_id": "",
       "version_major": 2,
       "version_minor": 0
      },
      "text/plain": [
       "HBox(children=(FloatProgress(value=0.0, description='Training', layout=Layout(flex='2'), max=6667.0, style=Pro…"
      ]
     },
     "metadata": {},
     "output_type": "display_data"
    },
    {
     "name": "stdout",
     "output_type": "stream",
     "text": [
      "Epoch 14: train=7.03532, val=6.48268, took 591.96 s\n",
      "  Validation Found 84799 of 108024, added 8542 (eff 78.50%) (0.427 FP/event)\n"
     ]
    },
    {
     "data": {
      "application/vnd.jupyter.widget-view+json": {
       "model_id": "",
       "version_major": 2,
       "version_minor": 0
      },
      "text/plain": [
       "HBox(children=(FloatProgress(value=0.0, description='Training', layout=Layout(flex='2'), max=6667.0, style=Pro…"
      ]
     },
     "metadata": {},
     "output_type": "display_data"
    },
    {
     "name": "stdout",
     "output_type": "stream",
     "text": [
      "Epoch 15: train=7.02749, val=6.51716, took 599.15 s\n",
      "  Validation Found 84663 of 108024, added 8426 (eff 78.37%) (0.421 FP/event)\n"
     ]
    },
    {
     "data": {
      "application/vnd.jupyter.widget-view+json": {
       "model_id": "",
       "version_major": 2,
       "version_minor": 0
      },
      "text/plain": [
       "HBox(children=(FloatProgress(value=0.0, description='Training', layout=Layout(flex='2'), max=6667.0, style=Pro…"
      ]
     },
     "metadata": {},
     "output_type": "display_data"
    },
    {
     "name": "stdout",
     "output_type": "stream",
     "text": [
      "Epoch 16: train=7.02342, val=6.35639, took 607.61 s\n",
      "  Validation Found 84865 of 108024, added 8412 (eff 78.56%) (0.421 FP/event)\n"
     ]
    },
    {
     "data": {
      "application/vnd.jupyter.widget-view+json": {
       "model_id": "",
       "version_major": 2,
       "version_minor": 0
      },
      "text/plain": [
       "HBox(children=(FloatProgress(value=0.0, description='Training', layout=Layout(flex='2'), max=6667.0, style=Pro…"
      ]
     },
     "metadata": {},
     "output_type": "display_data"
    },
    {
     "name": "stdout",
     "output_type": "stream",
     "text": [
      "Epoch 17: train=7.01929, val=6.43723, took 607.83 s\n",
      "  Validation Found 84555 of 108024, added 8402 (eff 78.27%) (0.42 FP/event)\n"
     ]
    },
    {
     "data": {
      "application/vnd.jupyter.widget-view+json": {
       "model_id": "",
       "version_major": 2,
       "version_minor": 0
      },
      "text/plain": [
       "HBox(children=(FloatProgress(value=0.0, description='Training', layout=Layout(flex='2'), max=6667.0, style=Pro…"
      ]
     },
     "metadata": {},
     "output_type": "display_data"
    },
    {
     "name": "stdout",
     "output_type": "stream",
     "text": [
      "Epoch 18: train=7.01252, val=6.31509, took 602.6 s\n",
      "  Validation Found 84376 of 108024, added 8233 (eff 78.11%) (0.412 FP/event)\n"
     ]
    },
    {
     "data": {
      "application/vnd.jupyter.widget-view+json": {
       "model_id": "",
       "version_major": 2,
       "version_minor": 0
      },
      "text/plain": [
       "HBox(children=(FloatProgress(value=0.0, description='Training', layout=Layout(flex='2'), max=6667.0, style=Pro…"
      ]
     },
     "metadata": {},
     "output_type": "display_data"
    },
    {
     "name": "stdout",
     "output_type": "stream",
     "text": [
      "Epoch 19: train=7.0086, val=6.65505, took 604.96 s\n",
      "  Validation Found 84631 of 108024, added 8606 (eff 78.34%) (0.43 FP/event)\n"
     ]
    },
    {
     "data": {
      "application/vnd.jupyter.widget-view+json": {
       "model_id": "",
       "version_major": 2,
       "version_minor": 0
      },
      "text/plain": [
       "HBox(children=(FloatProgress(value=0.0, description='Training', layout=Layout(flex='2'), max=6667.0, style=Pro…"
      ]
     },
     "metadata": {},
     "output_type": "display_data"
    },
    {
     "name": "stdout",
     "output_type": "stream",
     "text": [
      "Epoch 20: train=7.00492, val=6.72151, took 603.84 s\n",
      "  Validation Found 84486 of 108024, added 8501 (eff 78.21%) (0.425 FP/event)\n"
     ]
    },
    {
     "data": {
      "application/vnd.jupyter.widget-view+json": {
       "model_id": "",
       "version_major": 2,
       "version_minor": 0
      },
      "text/plain": [
       "HBox(children=(FloatProgress(value=0.0, description='Training', layout=Layout(flex='2'), max=6667.0, style=Pro…"
      ]
     },
     "metadata": {},
     "output_type": "display_data"
    },
    {
     "name": "stdout",
     "output_type": "stream",
     "text": [
      "Epoch 21: train=6.99627, val=6.30571, took 606.79 s\n",
      "  Validation Found 84678 of 108024, added 8306 (eff 78.39%) (0.415 FP/event)\n"
     ]
    },
    {
     "data": {
      "application/vnd.jupyter.widget-view+json": {
       "model_id": "",
       "version_major": 2,
       "version_minor": 0
      },
      "text/plain": [
       "HBox(children=(FloatProgress(value=0.0, description='Training', layout=Layout(flex='2'), max=6667.0, style=Pro…"
      ]
     },
     "metadata": {},
     "output_type": "display_data"
    },
    {
     "name": "stdout",
     "output_type": "stream",
     "text": [
      "Epoch 22: train=7.00122, val=6.3288, took 605.49 s\n",
      "  Validation Found 84891 of 108024, added 8389 (eff 78.59%) (0.419 FP/event)\n"
     ]
    },
    {
     "data": {
      "application/vnd.jupyter.widget-view+json": {
       "model_id": "",
       "version_major": 2,
       "version_minor": 0
      },
      "text/plain": [
       "HBox(children=(FloatProgress(value=0.0, description='Training', layout=Layout(flex='2'), max=6667.0, style=Pro…"
      ]
     },
     "metadata": {},
     "output_type": "display_data"
    },
    {
     "name": "stdout",
     "output_type": "stream",
     "text": [
      "Epoch 23: train=6.98687, val=6.31138, took 603.9 s\n",
      "  Validation Found 85140 of 108024, added 8537 (eff 78.82%) (0.427 FP/event)\n"
     ]
    },
    {
     "data": {
      "application/vnd.jupyter.widget-view+json": {
       "model_id": "",
       "version_major": 2,
       "version_minor": 0
      },
      "text/plain": [
       "HBox(children=(FloatProgress(value=0.0, description='Training', layout=Layout(flex='2'), max=6667.0, style=Pro…"
      ]
     },
     "metadata": {},
     "output_type": "display_data"
    },
    {
     "name": "stdout",
     "output_type": "stream",
     "text": [
      "Epoch 24: train=6.98688, val=6.31036, took 603.45 s\n",
      "  Validation Found 84889 of 108024, added 8286 (eff 78.58%) (0.414 FP/event)\n"
     ]
    },
    {
     "data": {
      "application/vnd.jupyter.widget-view+json": {
       "model_id": "",
       "version_major": 2,
       "version_minor": 0
      },
      "text/plain": [
       "HBox(children=(FloatProgress(value=0.0, description='Training', layout=Layout(flex='2'), max=6667.0, style=Pro…"
      ]
     },
     "metadata": {},
     "output_type": "display_data"
    },
    {
     "name": "stdout",
     "output_type": "stream",
     "text": [
      "Epoch 25: train=6.9823, val=6.30119, took 606.31 s\n",
      "  Validation Found 84936 of 108024, added 8355 (eff 78.63%) (0.418 FP/event)\n"
     ]
    },
    {
     "data": {
      "application/vnd.jupyter.widget-view+json": {
       "model_id": "",
       "version_major": 2,
       "version_minor": 0
      },
      "text/plain": [
       "HBox(children=(FloatProgress(value=0.0, description='Training', layout=Layout(flex='2'), max=6667.0, style=Pro…"
      ]
     },
     "metadata": {},
     "output_type": "display_data"
    },
    {
     "name": "stdout",
     "output_type": "stream",
     "text": [
      "Epoch 26: train=6.97723, val=6.50076, took 606.94 s\n",
      "  Validation Found 85303 of 108024, added 8641 (eff 78.97%) (0.432 FP/event)\n"
     ]
    },
    {
     "data": {
      "application/vnd.jupyter.widget-view+json": {
       "model_id": "",
       "version_major": 2,
       "version_minor": 0
      },
      "text/plain": [
       "HBox(children=(FloatProgress(value=0.0, description='Training', layout=Layout(flex='2'), max=6667.0, style=Pro…"
      ]
     },
     "metadata": {},
     "output_type": "display_data"
    },
    {
     "name": "stdout",
     "output_type": "stream",
     "text": [
      "Epoch 27: train=6.97175, val=6.31444, took 607.35 s\n",
      "  Validation Found 84740 of 108024, added 8346 (eff 78.45%) (0.417 FP/event)\n"
     ]
    },
    {
     "data": {
      "application/vnd.jupyter.widget-view+json": {
       "model_id": "",
       "version_major": 2,
       "version_minor": 0
      },
      "text/plain": [
       "HBox(children=(FloatProgress(value=0.0, description='Training', layout=Layout(flex='2'), max=6667.0, style=Pro…"
      ]
     },
     "metadata": {},
     "output_type": "display_data"
    },
    {
     "name": "stdout",
     "output_type": "stream",
     "text": [
      "Epoch 28: train=6.97344, val=6.33434, took 612.22 s\n",
      "  Validation Found 85209 of 108024, added 8599 (eff 78.88%) (0.43 FP/event)\n"
     ]
    },
    {
     "data": {
      "application/vnd.jupyter.widget-view+json": {
       "model_id": "",
       "version_major": 2,
       "version_minor": 0
      },
      "text/plain": [
       "HBox(children=(FloatProgress(value=0.0, description='Training', layout=Layout(flex='2'), max=6667.0, style=Pro…"
      ]
     },
     "metadata": {},
     "output_type": "display_data"
    },
    {
     "name": "stdout",
     "output_type": "stream",
     "text": [
      "Epoch 29: train=6.96186, val=6.27281, took 611.4 s\n",
      "  Validation Found 85158 of 108024, added 8579 (eff 78.83%) (0.429 FP/event)\n"
     ]
    },
    {
     "data": {
      "application/vnd.jupyter.widget-view+json": {
       "model_id": "",
       "version_major": 2,
       "version_minor": 0
      },
      "text/plain": [
       "HBox(children=(FloatProgress(value=0.0, description='Training', layout=Layout(flex='2'), max=6667.0, style=Pro…"
      ]
     },
     "metadata": {},
     "output_type": "display_data"
    },
    {
     "name": "stdout",
     "output_type": "stream",
     "text": [
      "Epoch 30: train=6.96486, val=6.32657, took 606.49 s\n",
      "  Validation Found 84972 of 108024, added 8430 (eff 78.66%) (0.421 FP/event)\n"
     ]
    },
    {
     "data": {
      "application/vnd.jupyter.widget-view+json": {
       "model_id": "",
       "version_major": 2,
       "version_minor": 0
      },
      "text/plain": [
       "HBox(children=(FloatProgress(value=0.0, description='Training', layout=Layout(flex='2'), max=6667.0, style=Pro…"
      ]
     },
     "metadata": {},
     "output_type": "display_data"
    },
    {
     "name": "stdout",
     "output_type": "stream",
     "text": [
      "Epoch 31: train=6.95686, val=6.42095, took 612.21 s\n",
      "  Validation Found 85487 of 108024, added 8655 (eff 79.14%) (0.433 FP/event)\n"
     ]
    },
    {
     "data": {
      "application/vnd.jupyter.widget-view+json": {
       "model_id": "",
       "version_major": 2,
       "version_minor": 0
      },
      "text/plain": [
       "HBox(children=(FloatProgress(value=0.0, description='Training', layout=Layout(flex='2'), max=6667.0, style=Pro…"
      ]
     },
     "metadata": {},
     "output_type": "display_data"
    },
    {
     "name": "stdout",
     "output_type": "stream",
     "text": [
      "Epoch 32: train=6.94831, val=6.29018, took 605.38 s\n",
      "  Validation Found 85066 of 108024, added 8321 (eff 78.75%) (0.416 FP/event)\n"
     ]
    },
    {
     "data": {
      "application/vnd.jupyter.widget-view+json": {
       "model_id": "",
       "version_major": 2,
       "version_minor": 0
      },
      "text/plain": [
       "HBox(children=(FloatProgress(value=0.0, description='Training', layout=Layout(flex='2'), max=6667.0, style=Pro…"
      ]
     },
     "metadata": {},
     "output_type": "display_data"
    },
    {
     "name": "stdout",
     "output_type": "stream",
     "text": [
      "Epoch 33: train=6.93975, val=6.30318, took 605.89 s\n",
      "  Validation Found 84692 of 108024, added 8331 (eff 78.40%) (0.417 FP/event)\n"
     ]
    },
    {
     "data": {
      "application/vnd.jupyter.widget-view+json": {
       "model_id": "",
       "version_major": 2,
       "version_minor": 0
      },
      "text/plain": [
       "HBox(children=(FloatProgress(value=0.0, description='Training', layout=Layout(flex='2'), max=6667.0, style=Pro…"
      ]
     },
     "metadata": {},
     "output_type": "display_data"
    },
    {
     "name": "stdout",
     "output_type": "stream",
     "text": [
      "Epoch 34: train=6.9423, val=6.31811, took 604.98 s\n",
      "  Validation Found 85020 of 108024, added 8573 (eff 78.70%) (0.429 FP/event)\n"
     ]
    },
    {
     "data": {
      "application/vnd.jupyter.widget-view+json": {
       "model_id": "",
       "version_major": 2,
       "version_minor": 0
      },
      "text/plain": [
       "HBox(children=(FloatProgress(value=0.0, description='Training', layout=Layout(flex='2'), max=6667.0, style=Pro…"
      ]
     },
     "metadata": {},
     "output_type": "display_data"
    },
    {
     "name": "stdout",
     "output_type": "stream",
     "text": [
      "Epoch 35: train=6.94291, val=6.52915, took 606.41 s\n",
      "  Validation Found 85216 of 108024, added 8650 (eff 78.89%) (0.432 FP/event)\n"
     ]
    },
    {
     "data": {
      "application/vnd.jupyter.widget-view+json": {
       "model_id": "",
       "version_major": 2,
       "version_minor": 0
      },
      "text/plain": [
       "HBox(children=(FloatProgress(value=0.0, description='Training', layout=Layout(flex='2'), max=6667.0, style=Pro…"
      ]
     },
     "metadata": {},
     "output_type": "display_data"
    },
    {
     "name": "stdout",
     "output_type": "stream",
     "text": [
      "Epoch 36: train=6.92906, val=6.29553, took 604.54 s\n",
      "  Validation Found 85020 of 108024, added 8401 (eff 78.70%) (0.42 FP/event)\n"
     ]
    },
    {
     "data": {
      "application/vnd.jupyter.widget-view+json": {
       "model_id": "",
       "version_major": 2,
       "version_minor": 0
      },
      "text/plain": [
       "HBox(children=(FloatProgress(value=0.0, description='Training', layout=Layout(flex='2'), max=6667.0, style=Pro…"
      ]
     },
     "metadata": {},
     "output_type": "display_data"
    },
    {
     "name": "stdout",
     "output_type": "stream",
     "text": [
      "Epoch 37: train=6.93492, val=6.30203, took 603.59 s\n",
      "  Validation Found 84840 of 108024, added 8289 (eff 78.54%) (0.414 FP/event)\n"
     ]
    },
    {
     "data": {
      "application/vnd.jupyter.widget-view+json": {
       "model_id": "",
       "version_major": 2,
       "version_minor": 0
      },
      "text/plain": [
       "HBox(children=(FloatProgress(value=0.0, description='Training', layout=Layout(flex='2'), max=6667.0, style=Pro…"
      ]
     },
     "metadata": {},
     "output_type": "display_data"
    },
    {
     "name": "stdout",
     "output_type": "stream",
     "text": [
      "Epoch 38: train=6.92497, val=6.30477, took 603.46 s\n",
      "  Validation Found 85305 of 108024, added 8558 (eff 78.97%) (0.428 FP/event)\n"
     ]
    },
    {
     "data": {
      "application/vnd.jupyter.widget-view+json": {
       "model_id": "",
       "version_major": 2,
       "version_minor": 0
      },
      "text/plain": [
       "HBox(children=(FloatProgress(value=0.0, description='Training', layout=Layout(flex='2'), max=6667.0, style=Pro…"
      ]
     },
     "metadata": {},
     "output_type": "display_data"
    },
    {
     "name": "stdout",
     "output_type": "stream",
     "text": [
      "Epoch 39: train=6.9252, val=6.26757, took 603.24 s\n",
      "  Validation Found 84897 of 108024, added 8339 (eff 78.59%) (0.417 FP/event)\n"
     ]
    },
    {
     "data": {
      "application/vnd.jupyter.widget-view+json": {
       "model_id": "",
       "version_major": 2,
       "version_minor": 0
      },
      "text/plain": [
       "HBox(children=(FloatProgress(value=0.0, description='Training', layout=Layout(flex='2'), max=6667.0, style=Pro…"
      ]
     },
     "metadata": {},
     "output_type": "display_data"
    },
    {
     "name": "stdout",
     "output_type": "stream",
     "text": [
      "Epoch 40: train=6.91923, val=6.23112, took 604.09 s\n",
      "  Validation Found 85079 of 108024, added 8330 (eff 78.76%) (0.416 FP/event)\n"
     ]
    },
    {
     "data": {
      "application/vnd.jupyter.widget-view+json": {
       "model_id": "",
       "version_major": 2,
       "version_minor": 0
      },
      "text/plain": [
       "HBox(children=(FloatProgress(value=0.0, description='Training', layout=Layout(flex='2'), max=6667.0, style=Pro…"
      ]
     },
     "metadata": {},
     "output_type": "display_data"
    },
    {
     "name": "stdout",
     "output_type": "stream",
     "text": [
      "Epoch 41: train=6.91308, val=6.27272, took 602.93 s\n",
      "  Validation Found 85034 of 108024, added 8283 (eff 78.72%) (0.414 FP/event)\n"
     ]
    },
    {
     "data": {
      "application/vnd.jupyter.widget-view+json": {
       "model_id": "",
       "version_major": 2,
       "version_minor": 0
      },
      "text/plain": [
       "HBox(children=(FloatProgress(value=0.0, description='Training', layout=Layout(flex='2'), max=6667.0, style=Pro…"
      ]
     },
     "metadata": {},
     "output_type": "display_data"
    },
    {
     "name": "stdout",
     "output_type": "stream",
     "text": [
      "Epoch 42: train=6.90987, val=6.22949, took 602.75 s\n",
      "  Validation Found 85341 of 108024, added 8483 (eff 79.00%) (0.424 FP/event)\n"
     ]
    },
    {
     "data": {
      "application/vnd.jupyter.widget-view+json": {
       "model_id": "",
       "version_major": 2,
       "version_minor": 0
      },
      "text/plain": [
       "HBox(children=(FloatProgress(value=0.0, description='Training', layout=Layout(flex='2'), max=6667.0, style=Pro…"
      ]
     },
     "metadata": {},
     "output_type": "display_data"
    },
    {
     "name": "stdout",
     "output_type": "stream",
     "text": [
      "Epoch 43: train=6.9052, val=6.24873, took 603.07 s\n",
      "  Validation Found 85008 of 108024, added 8273 (eff 78.69%) (0.414 FP/event)\n"
     ]
    },
    {
     "data": {
      "application/vnd.jupyter.widget-view+json": {
       "model_id": "",
       "version_major": 2,
       "version_minor": 0
      },
      "text/plain": [
       "HBox(children=(FloatProgress(value=0.0, description='Training', layout=Layout(flex='2'), max=6667.0, style=Pro…"
      ]
     },
     "metadata": {},
     "output_type": "display_data"
    },
    {
     "name": "stdout",
     "output_type": "stream",
     "text": [
      "Epoch 44: train=6.90492, val=6.30357, took 604.61 s\n",
      "  Validation Found 85126 of 108024, added 8429 (eff 78.80%) (0.421 FP/event)\n"
     ]
    },
    {
     "data": {
      "application/vnd.jupyter.widget-view+json": {
       "model_id": "",
       "version_major": 2,
       "version_minor": 0
      },
      "text/plain": [
       "HBox(children=(FloatProgress(value=0.0, description='Training', layout=Layout(flex='2'), max=6667.0, style=Pro…"
      ]
     },
     "metadata": {},
     "output_type": "display_data"
    },
    {
     "name": "stdout",
     "output_type": "stream",
     "text": [
      "Epoch 45: train=6.89491, val=6.28171, took 604.33 s\n",
      "  Validation Found 85097 of 108024, added 8409 (eff 78.78%) (0.42 FP/event)\n"
     ]
    },
    {
     "data": {
      "application/vnd.jupyter.widget-view+json": {
       "model_id": "",
       "version_major": 2,
       "version_minor": 0
      },
      "text/plain": [
       "HBox(children=(FloatProgress(value=0.0, description='Training', layout=Layout(flex='2'), max=6667.0, style=Pro…"
      ]
     },
     "metadata": {},
     "output_type": "display_data"
    },
    {
     "name": "stdout",
     "output_type": "stream",
     "text": [
      "Epoch 46: train=6.89022, val=6.23639, took 605.48 s\n",
      "  Validation Found 85426 of 108024, added 8527 (eff 79.08%) (0.426 FP/event)\n"
     ]
    },
    {
     "data": {
      "application/vnd.jupyter.widget-view+json": {
       "model_id": "",
       "version_major": 2,
       "version_minor": 0
      },
      "text/plain": [
       "HBox(children=(FloatProgress(value=0.0, description='Training', layout=Layout(flex='2'), max=6667.0, style=Pro…"
      ]
     },
     "metadata": {},
     "output_type": "display_data"
    },
    {
     "name": "stdout",
     "output_type": "stream",
     "text": [
      "Epoch 47: train=6.89099, val=6.22035, took 602.61 s\n",
      "  Validation Found 85708 of 108024, added 8508 (eff 79.34%) (0.425 FP/event)\n"
     ]
    },
    {
     "data": {
      "application/vnd.jupyter.widget-view+json": {
       "model_id": "",
       "version_major": 2,
       "version_minor": 0
      },
      "text/plain": [
       "HBox(children=(FloatProgress(value=0.0, description='Training', layout=Layout(flex='2'), max=6667.0, style=Pro…"
      ]
     },
     "metadata": {},
     "output_type": "display_data"
    },
    {
     "name": "stdout",
     "output_type": "stream",
     "text": [
      "Epoch 48: train=6.8923, val=6.26919, took 592.03 s\n",
      "  Validation Found 85872 of 108024, added 8772 (eff 79.49%) (0.439 FP/event)\n"
     ]
    },
    {
     "data": {
      "application/vnd.jupyter.widget-view+json": {
       "model_id": "",
       "version_major": 2,
       "version_minor": 0
      },
      "text/plain": [
       "HBox(children=(FloatProgress(value=0.0, description='Training', layout=Layout(flex='2'), max=6667.0, style=Pro…"
      ]
     },
     "metadata": {},
     "output_type": "display_data"
    },
    {
     "name": "stdout",
     "output_type": "stream",
     "text": [
      "Epoch 49: train=6.88364, val=6.47996, took 590.98 s\n",
      "  Validation Found 85325 of 108024, added 8556 (eff 78.99%) (0.428 FP/event)\n",
      "\n"
     ]
    }
   ],
   "source": [
    "for result in trainNet(model, optimizer, loss,\n",
    "                        train_loader, val_loader,\n",
    "                        n_epochs, epoch_start=len(results),\n",
    "                        notebook=True):\n",
    "    \n",
    "    results = results.append(pd.Series(result._asdict()), ignore_index=True)\n",
    "    \n",
    "    xs = results.index\n",
    "##    print(\"xs = \",xs)\n",
    "    \n",
    "    # Update the plot above\n",
    "##    print(\"results.index = \",results.index,\"  results.cost\", results.cost)\n",
    "##    print(\"results.index = \",results.index,\"  results.val\", results.val)\n",
    "    lines['train'].set_data(results.index,results.cost)\n",
    "    lines['val'].set_data(results.index,results.val)\n",
    "    \n",
    "    #filter first cost epoch (can be really large)\n",
    "    max_cost = max(max(results.cost if len(results.cost)<2 else results.cost[1:]), max(results.val))\n",
    "    min_cost = min(min(results.cost), min(results.val))\n",
    "    \n",
    "    # The plot limits need updating too\n",
    "    \n",
    "    \n",
    "    \n",
    "    ax.set_ylim(min_cost*.9, max_cost*1.1)  \n",
    "    ax.set_xlim(-.5, len(results.cost) - .5)\n",
    "    \n",
    "    replace_in_ax(lax, lines['eff'], xs, results['eff_val'].apply(lambda x: x.eff_rate))\n",
    "    replace_in_ax(tax, lines['fp'], xs, results['eff_val'].apply(lambda x: x.fp_rate))\n",
    "    \n",
    "    # Redraw the figure\n",
    "    fig.canvas.draw()\n",
    "\n",
    "    # Save each model state dictionary\n",
    "    torch.save(model.state_dict(), output / f'{name}_{result.epoch}.pyt')"
   ]
  },
  {
   "cell_type": "code",
   "execution_count": 16,
   "metadata": {},
   "outputs": [],
   "source": [
    "torch.save(model.state_dict(), output / f'{name}_final.pyt')"
   ]
  },
  {
   "cell_type": "code",
   "execution_count": 17,
   "metadata": {},
   "outputs": [
    {
     "name": "stderr",
     "output_type": "stream",
     "text": [
      "/apps/miniconda3/envs/june2020-gpu/lib/python3.7/site-packages/pandas/core/generic.py:2505: PerformanceWarning: \n",
      "your performance may suffer as PyTables will pickle object types that it cannot\n",
      "map directly to c-types [inferred_type->mixed-integer,key->block1_values] [items->Index(['epoch', 'eff_val'], dtype='object')]\n",
      "\n",
      "  encoding=encoding,\n"
     ]
    }
   ],
   "source": [
    "results.to_hdf(f'{name}_stats.hdf5', 'results')"
   ]
  },
  {
   "cell_type": "code",
   "execution_count": 18,
   "metadata": {},
   "outputs": [
    {
     "data": {
      "application/javascript": [
       "/* Put everything inside the global mpl namespace */\n",
       "window.mpl = {};\n",
       "\n",
       "\n",
       "mpl.get_websocket_type = function() {\n",
       "    if (typeof(WebSocket) !== 'undefined') {\n",
       "        return WebSocket;\n",
       "    } else if (typeof(MozWebSocket) !== 'undefined') {\n",
       "        return MozWebSocket;\n",
       "    } else {\n",
       "        alert('Your browser does not have WebSocket support. ' +\n",
       "              'Please try Chrome, Safari or Firefox ≥ 6. ' +\n",
       "              'Firefox 4 and 5 are also supported but you ' +\n",
       "              'have to enable WebSockets in about:config.');\n",
       "    };\n",
       "}\n",
       "\n",
       "mpl.figure = function(figure_id, websocket, ondownload, parent_element) {\n",
       "    this.id = figure_id;\n",
       "\n",
       "    this.ws = websocket;\n",
       "\n",
       "    this.supports_binary = (this.ws.binaryType != undefined);\n",
       "\n",
       "    if (!this.supports_binary) {\n",
       "        var warnings = document.getElementById(\"mpl-warnings\");\n",
       "        if (warnings) {\n",
       "            warnings.style.display = 'block';\n",
       "            warnings.textContent = (\n",
       "                \"This browser does not support binary websocket messages. \" +\n",
       "                    \"Performance may be slow.\");\n",
       "        }\n",
       "    }\n",
       "\n",
       "    this.imageObj = new Image();\n",
       "\n",
       "    this.context = undefined;\n",
       "    this.message = undefined;\n",
       "    this.canvas = undefined;\n",
       "    this.rubberband_canvas = undefined;\n",
       "    this.rubberband_context = undefined;\n",
       "    this.format_dropdown = undefined;\n",
       "\n",
       "    this.image_mode = 'full';\n",
       "\n",
       "    this.root = $('<div/>');\n",
       "    this._root_extra_style(this.root)\n",
       "    this.root.attr('style', 'display: inline-block');\n",
       "\n",
       "    $(parent_element).append(this.root);\n",
       "\n",
       "    this._init_header(this);\n",
       "    this._init_canvas(this);\n",
       "    this._init_toolbar(this);\n",
       "\n",
       "    var fig = this;\n",
       "\n",
       "    this.waiting = false;\n",
       "\n",
       "    this.ws.onopen =  function () {\n",
       "            fig.send_message(\"supports_binary\", {value: fig.supports_binary});\n",
       "            fig.send_message(\"send_image_mode\", {});\n",
       "            if (mpl.ratio != 1) {\n",
       "                fig.send_message(\"set_dpi_ratio\", {'dpi_ratio': mpl.ratio});\n",
       "            }\n",
       "            fig.send_message(\"refresh\", {});\n",
       "        }\n",
       "\n",
       "    this.imageObj.onload = function() {\n",
       "            if (fig.image_mode == 'full') {\n",
       "                // Full images could contain transparency (where diff images\n",
       "                // almost always do), so we need to clear the canvas so that\n",
       "                // there is no ghosting.\n",
       "                fig.context.clearRect(0, 0, fig.canvas.width, fig.canvas.height);\n",
       "            }\n",
       "            fig.context.drawImage(fig.imageObj, 0, 0);\n",
       "        };\n",
       "\n",
       "    this.imageObj.onunload = function() {\n",
       "        fig.ws.close();\n",
       "    }\n",
       "\n",
       "    this.ws.onmessage = this._make_on_message_function(this);\n",
       "\n",
       "    this.ondownload = ondownload;\n",
       "}\n",
       "\n",
       "mpl.figure.prototype._init_header = function() {\n",
       "    var titlebar = $(\n",
       "        '<div class=\"ui-dialog-titlebar ui-widget-header ui-corner-all ' +\n",
       "        'ui-helper-clearfix\"/>');\n",
       "    var titletext = $(\n",
       "        '<div class=\"ui-dialog-title\" style=\"width: 100%; ' +\n",
       "        'text-align: center; padding: 3px;\"/>');\n",
       "    titlebar.append(titletext)\n",
       "    this.root.append(titlebar);\n",
       "    this.header = titletext[0];\n",
       "}\n",
       "\n",
       "\n",
       "\n",
       "mpl.figure.prototype._canvas_extra_style = function(canvas_div) {\n",
       "\n",
       "}\n",
       "\n",
       "\n",
       "mpl.figure.prototype._root_extra_style = function(canvas_div) {\n",
       "\n",
       "}\n",
       "\n",
       "mpl.figure.prototype._init_canvas = function() {\n",
       "    var fig = this;\n",
       "\n",
       "    var canvas_div = $('<div/>');\n",
       "\n",
       "    canvas_div.attr('style', 'position: relative; clear: both; outline: 0');\n",
       "\n",
       "    function canvas_keyboard_event(event) {\n",
       "        return fig.key_event(event, event['data']);\n",
       "    }\n",
       "\n",
       "    canvas_div.keydown('key_press', canvas_keyboard_event);\n",
       "    canvas_div.keyup('key_release', canvas_keyboard_event);\n",
       "    this.canvas_div = canvas_div\n",
       "    this._canvas_extra_style(canvas_div)\n",
       "    this.root.append(canvas_div);\n",
       "\n",
       "    var canvas = $('<canvas/>');\n",
       "    canvas.addClass('mpl-canvas');\n",
       "    canvas.attr('style', \"left: 0; top: 0; z-index: 0; outline: 0\")\n",
       "\n",
       "    this.canvas = canvas[0];\n",
       "    this.context = canvas[0].getContext(\"2d\");\n",
       "\n",
       "    var backingStore = this.context.backingStorePixelRatio ||\n",
       "\tthis.context.webkitBackingStorePixelRatio ||\n",
       "\tthis.context.mozBackingStorePixelRatio ||\n",
       "\tthis.context.msBackingStorePixelRatio ||\n",
       "\tthis.context.oBackingStorePixelRatio ||\n",
       "\tthis.context.backingStorePixelRatio || 1;\n",
       "\n",
       "    mpl.ratio = (window.devicePixelRatio || 1) / backingStore;\n",
       "\n",
       "    var rubberband = $('<canvas/>');\n",
       "    rubberband.attr('style', \"position: absolute; left: 0; top: 0; z-index: 1;\")\n",
       "\n",
       "    var pass_mouse_events = true;\n",
       "\n",
       "    canvas_div.resizable({\n",
       "        start: function(event, ui) {\n",
       "            pass_mouse_events = false;\n",
       "        },\n",
       "        resize: function(event, ui) {\n",
       "            fig.request_resize(ui.size.width, ui.size.height);\n",
       "        },\n",
       "        stop: function(event, ui) {\n",
       "            pass_mouse_events = true;\n",
       "            fig.request_resize(ui.size.width, ui.size.height);\n",
       "        },\n",
       "    });\n",
       "\n",
       "    function mouse_event_fn(event) {\n",
       "        if (pass_mouse_events)\n",
       "            return fig.mouse_event(event, event['data']);\n",
       "    }\n",
       "\n",
       "    rubberband.mousedown('button_press', mouse_event_fn);\n",
       "    rubberband.mouseup('button_release', mouse_event_fn);\n",
       "    // Throttle sequential mouse events to 1 every 20ms.\n",
       "    rubberband.mousemove('motion_notify', mouse_event_fn);\n",
       "\n",
       "    rubberband.mouseenter('figure_enter', mouse_event_fn);\n",
       "    rubberband.mouseleave('figure_leave', mouse_event_fn);\n",
       "\n",
       "    canvas_div.on(\"wheel\", function (event) {\n",
       "        event = event.originalEvent;\n",
       "        event['data'] = 'scroll'\n",
       "        if (event.deltaY < 0) {\n",
       "            event.step = 1;\n",
       "        } else {\n",
       "            event.step = -1;\n",
       "        }\n",
       "        mouse_event_fn(event);\n",
       "    });\n",
       "\n",
       "    canvas_div.append(canvas);\n",
       "    canvas_div.append(rubberband);\n",
       "\n",
       "    this.rubberband = rubberband;\n",
       "    this.rubberband_canvas = rubberband[0];\n",
       "    this.rubberband_context = rubberband[0].getContext(\"2d\");\n",
       "    this.rubberband_context.strokeStyle = \"#000000\";\n",
       "\n",
       "    this._resize_canvas = function(width, height) {\n",
       "        // Keep the size of the canvas, canvas container, and rubber band\n",
       "        // canvas in synch.\n",
       "        canvas_div.css('width', width)\n",
       "        canvas_div.css('height', height)\n",
       "\n",
       "        canvas.attr('width', width * mpl.ratio);\n",
       "        canvas.attr('height', height * mpl.ratio);\n",
       "        canvas.attr('style', 'width: ' + width + 'px; height: ' + height + 'px;');\n",
       "\n",
       "        rubberband.attr('width', width);\n",
       "        rubberband.attr('height', height);\n",
       "    }\n",
       "\n",
       "    // Set the figure to an initial 600x600px, this will subsequently be updated\n",
       "    // upon first draw.\n",
       "    this._resize_canvas(600, 600);\n",
       "\n",
       "    // Disable right mouse context menu.\n",
       "    $(this.rubberband_canvas).bind(\"contextmenu\",function(e){\n",
       "        return false;\n",
       "    });\n",
       "\n",
       "    function set_focus () {\n",
       "        canvas.focus();\n",
       "        canvas_div.focus();\n",
       "    }\n",
       "\n",
       "    window.setTimeout(set_focus, 100);\n",
       "}\n",
       "\n",
       "mpl.figure.prototype._init_toolbar = function() {\n",
       "    var fig = this;\n",
       "\n",
       "    var nav_element = $('<div/>');\n",
       "    nav_element.attr('style', 'width: 100%');\n",
       "    this.root.append(nav_element);\n",
       "\n",
       "    // Define a callback function for later on.\n",
       "    function toolbar_event(event) {\n",
       "        return fig.toolbar_button_onclick(event['data']);\n",
       "    }\n",
       "    function toolbar_mouse_event(event) {\n",
       "        return fig.toolbar_button_onmouseover(event['data']);\n",
       "    }\n",
       "\n",
       "    for(var toolbar_ind in mpl.toolbar_items) {\n",
       "        var name = mpl.toolbar_items[toolbar_ind][0];\n",
       "        var tooltip = mpl.toolbar_items[toolbar_ind][1];\n",
       "        var image = mpl.toolbar_items[toolbar_ind][2];\n",
       "        var method_name = mpl.toolbar_items[toolbar_ind][3];\n",
       "\n",
       "        if (!name) {\n",
       "            // put a spacer in here.\n",
       "            continue;\n",
       "        }\n",
       "        var button = $('<button/>');\n",
       "        button.addClass('ui-button ui-widget ui-state-default ui-corner-all ' +\n",
       "                        'ui-button-icon-only');\n",
       "        button.attr('role', 'button');\n",
       "        button.attr('aria-disabled', 'false');\n",
       "        button.click(method_name, toolbar_event);\n",
       "        button.mouseover(tooltip, toolbar_mouse_event);\n",
       "\n",
       "        var icon_img = $('<span/>');\n",
       "        icon_img.addClass('ui-button-icon-primary ui-icon');\n",
       "        icon_img.addClass(image);\n",
       "        icon_img.addClass('ui-corner-all');\n",
       "\n",
       "        var tooltip_span = $('<span/>');\n",
       "        tooltip_span.addClass('ui-button-text');\n",
       "        tooltip_span.html(tooltip);\n",
       "\n",
       "        button.append(icon_img);\n",
       "        button.append(tooltip_span);\n",
       "\n",
       "        nav_element.append(button);\n",
       "    }\n",
       "\n",
       "    var fmt_picker_span = $('<span/>');\n",
       "\n",
       "    var fmt_picker = $('<select/>');\n",
       "    fmt_picker.addClass('mpl-toolbar-option ui-widget ui-widget-content');\n",
       "    fmt_picker_span.append(fmt_picker);\n",
       "    nav_element.append(fmt_picker_span);\n",
       "    this.format_dropdown = fmt_picker[0];\n",
       "\n",
       "    for (var ind in mpl.extensions) {\n",
       "        var fmt = mpl.extensions[ind];\n",
       "        var option = $(\n",
       "            '<option/>', {selected: fmt === mpl.default_extension}).html(fmt);\n",
       "        fmt_picker.append(option);\n",
       "    }\n",
       "\n",
       "    // Add hover states to the ui-buttons\n",
       "    $( \".ui-button\" ).hover(\n",
       "        function() { $(this).addClass(\"ui-state-hover\");},\n",
       "        function() { $(this).removeClass(\"ui-state-hover\");}\n",
       "    );\n",
       "\n",
       "    var status_bar = $('<span class=\"mpl-message\"/>');\n",
       "    nav_element.append(status_bar);\n",
       "    this.message = status_bar[0];\n",
       "}\n",
       "\n",
       "mpl.figure.prototype.request_resize = function(x_pixels, y_pixels) {\n",
       "    // Request matplotlib to resize the figure. Matplotlib will then trigger a resize in the client,\n",
       "    // which will in turn request a refresh of the image.\n",
       "    this.send_message('resize', {'width': x_pixels, 'height': y_pixels});\n",
       "}\n",
       "\n",
       "mpl.figure.prototype.send_message = function(type, properties) {\n",
       "    properties['type'] = type;\n",
       "    properties['figure_id'] = this.id;\n",
       "    this.ws.send(JSON.stringify(properties));\n",
       "}\n",
       "\n",
       "mpl.figure.prototype.send_draw_message = function() {\n",
       "    if (!this.waiting) {\n",
       "        this.waiting = true;\n",
       "        this.ws.send(JSON.stringify({type: \"draw\", figure_id: this.id}));\n",
       "    }\n",
       "}\n",
       "\n",
       "\n",
       "mpl.figure.prototype.handle_save = function(fig, msg) {\n",
       "    var format_dropdown = fig.format_dropdown;\n",
       "    var format = format_dropdown.options[format_dropdown.selectedIndex].value;\n",
       "    fig.ondownload(fig, format);\n",
       "}\n",
       "\n",
       "\n",
       "mpl.figure.prototype.handle_resize = function(fig, msg) {\n",
       "    var size = msg['size'];\n",
       "    if (size[0] != fig.canvas.width || size[1] != fig.canvas.height) {\n",
       "        fig._resize_canvas(size[0], size[1]);\n",
       "        fig.send_message(\"refresh\", {});\n",
       "    };\n",
       "}\n",
       "\n",
       "mpl.figure.prototype.handle_rubberband = function(fig, msg) {\n",
       "    var x0 = msg['x0'] / mpl.ratio;\n",
       "    var y0 = (fig.canvas.height - msg['y0']) / mpl.ratio;\n",
       "    var x1 = msg['x1'] / mpl.ratio;\n",
       "    var y1 = (fig.canvas.height - msg['y1']) / mpl.ratio;\n",
       "    x0 = Math.floor(x0) + 0.5;\n",
       "    y0 = Math.floor(y0) + 0.5;\n",
       "    x1 = Math.floor(x1) + 0.5;\n",
       "    y1 = Math.floor(y1) + 0.5;\n",
       "    var min_x = Math.min(x0, x1);\n",
       "    var min_y = Math.min(y0, y1);\n",
       "    var width = Math.abs(x1 - x0);\n",
       "    var height = Math.abs(y1 - y0);\n",
       "\n",
       "    fig.rubberband_context.clearRect(\n",
       "        0, 0, fig.canvas.width / mpl.ratio, fig.canvas.height / mpl.ratio);\n",
       "\n",
       "    fig.rubberband_context.strokeRect(min_x, min_y, width, height);\n",
       "}\n",
       "\n",
       "mpl.figure.prototype.handle_figure_label = function(fig, msg) {\n",
       "    // Updates the figure title.\n",
       "    fig.header.textContent = msg['label'];\n",
       "}\n",
       "\n",
       "mpl.figure.prototype.handle_cursor = function(fig, msg) {\n",
       "    var cursor = msg['cursor'];\n",
       "    switch(cursor)\n",
       "    {\n",
       "    case 0:\n",
       "        cursor = 'pointer';\n",
       "        break;\n",
       "    case 1:\n",
       "        cursor = 'default';\n",
       "        break;\n",
       "    case 2:\n",
       "        cursor = 'crosshair';\n",
       "        break;\n",
       "    case 3:\n",
       "        cursor = 'move';\n",
       "        break;\n",
       "    }\n",
       "    fig.rubberband_canvas.style.cursor = cursor;\n",
       "}\n",
       "\n",
       "mpl.figure.prototype.handle_message = function(fig, msg) {\n",
       "    fig.message.textContent = msg['message'];\n",
       "}\n",
       "\n",
       "mpl.figure.prototype.handle_draw = function(fig, msg) {\n",
       "    // Request the server to send over a new figure.\n",
       "    fig.send_draw_message();\n",
       "}\n",
       "\n",
       "mpl.figure.prototype.handle_image_mode = function(fig, msg) {\n",
       "    fig.image_mode = msg['mode'];\n",
       "}\n",
       "\n",
       "mpl.figure.prototype.updated_canvas_event = function() {\n",
       "    // Called whenever the canvas gets updated.\n",
       "    this.send_message(\"ack\", {});\n",
       "}\n",
       "\n",
       "// A function to construct a web socket function for onmessage handling.\n",
       "// Called in the figure constructor.\n",
       "mpl.figure.prototype._make_on_message_function = function(fig) {\n",
       "    return function socket_on_message(evt) {\n",
       "        if (evt.data instanceof Blob) {\n",
       "            /* FIXME: We get \"Resource interpreted as Image but\n",
       "             * transferred with MIME type text/plain:\" errors on\n",
       "             * Chrome.  But how to set the MIME type?  It doesn't seem\n",
       "             * to be part of the websocket stream */\n",
       "            evt.data.type = \"image/png\";\n",
       "\n",
       "            /* Free the memory for the previous frames */\n",
       "            if (fig.imageObj.src) {\n",
       "                (window.URL || window.webkitURL).revokeObjectURL(\n",
       "                    fig.imageObj.src);\n",
       "            }\n",
       "\n",
       "            fig.imageObj.src = (window.URL || window.webkitURL).createObjectURL(\n",
       "                evt.data);\n",
       "            fig.updated_canvas_event();\n",
       "            fig.waiting = false;\n",
       "            return;\n",
       "        }\n",
       "        else if (typeof evt.data === 'string' && evt.data.slice(0, 21) == \"data:image/png;base64\") {\n",
       "            fig.imageObj.src = evt.data;\n",
       "            fig.updated_canvas_event();\n",
       "            fig.waiting = false;\n",
       "            return;\n",
       "        }\n",
       "\n",
       "        var msg = JSON.parse(evt.data);\n",
       "        var msg_type = msg['type'];\n",
       "\n",
       "        // Call the  \"handle_{type}\" callback, which takes\n",
       "        // the figure and JSON message as its only arguments.\n",
       "        try {\n",
       "            var callback = fig[\"handle_\" + msg_type];\n",
       "        } catch (e) {\n",
       "            console.log(\"No handler for the '\" + msg_type + \"' message type: \", msg);\n",
       "            return;\n",
       "        }\n",
       "\n",
       "        if (callback) {\n",
       "            try {\n",
       "                // console.log(\"Handling '\" + msg_type + \"' message: \", msg);\n",
       "                callback(fig, msg);\n",
       "            } catch (e) {\n",
       "                console.log(\"Exception inside the 'handler_\" + msg_type + \"' callback:\", e, e.stack, msg);\n",
       "            }\n",
       "        }\n",
       "    };\n",
       "}\n",
       "\n",
       "// from http://stackoverflow.com/questions/1114465/getting-mouse-location-in-canvas\n",
       "mpl.findpos = function(e) {\n",
       "    //this section is from http://www.quirksmode.org/js/events_properties.html\n",
       "    var targ;\n",
       "    if (!e)\n",
       "        e = window.event;\n",
       "    if (e.target)\n",
       "        targ = e.target;\n",
       "    else if (e.srcElement)\n",
       "        targ = e.srcElement;\n",
       "    if (targ.nodeType == 3) // defeat Safari bug\n",
       "        targ = targ.parentNode;\n",
       "\n",
       "    // jQuery normalizes the pageX and pageY\n",
       "    // pageX,Y are the mouse positions relative to the document\n",
       "    // offset() returns the position of the element relative to the document\n",
       "    var x = e.pageX - $(targ).offset().left;\n",
       "    var y = e.pageY - $(targ).offset().top;\n",
       "\n",
       "    return {\"x\": x, \"y\": y};\n",
       "};\n",
       "\n",
       "/*\n",
       " * return a copy of an object with only non-object keys\n",
       " * we need this to avoid circular references\n",
       " * http://stackoverflow.com/a/24161582/3208463\n",
       " */\n",
       "function simpleKeys (original) {\n",
       "  return Object.keys(original).reduce(function (obj, key) {\n",
       "    if (typeof original[key] !== 'object')\n",
       "        obj[key] = original[key]\n",
       "    return obj;\n",
       "  }, {});\n",
       "}\n",
       "\n",
       "mpl.figure.prototype.mouse_event = function(event, name) {\n",
       "    var canvas_pos = mpl.findpos(event)\n",
       "\n",
       "    if (name === 'button_press')\n",
       "    {\n",
       "        this.canvas.focus();\n",
       "        this.canvas_div.focus();\n",
       "    }\n",
       "\n",
       "    var x = canvas_pos.x * mpl.ratio;\n",
       "    var y = canvas_pos.y * mpl.ratio;\n",
       "\n",
       "    this.send_message(name, {x: x, y: y, button: event.button,\n",
       "                             step: event.step,\n",
       "                             guiEvent: simpleKeys(event)});\n",
       "\n",
       "    /* This prevents the web browser from automatically changing to\n",
       "     * the text insertion cursor when the button is pressed.  We want\n",
       "     * to control all of the cursor setting manually through the\n",
       "     * 'cursor' event from matplotlib */\n",
       "    event.preventDefault();\n",
       "    return false;\n",
       "}\n",
       "\n",
       "mpl.figure.prototype._key_event_extra = function(event, name) {\n",
       "    // Handle any extra behaviour associated with a key event\n",
       "}\n",
       "\n",
       "mpl.figure.prototype.key_event = function(event, name) {\n",
       "\n",
       "    // Prevent repeat events\n",
       "    if (name == 'key_press')\n",
       "    {\n",
       "        if (event.which === this._key)\n",
       "            return;\n",
       "        else\n",
       "            this._key = event.which;\n",
       "    }\n",
       "    if (name == 'key_release')\n",
       "        this._key = null;\n",
       "\n",
       "    var value = '';\n",
       "    if (event.ctrlKey && event.which != 17)\n",
       "        value += \"ctrl+\";\n",
       "    if (event.altKey && event.which != 18)\n",
       "        value += \"alt+\";\n",
       "    if (event.shiftKey && event.which != 16)\n",
       "        value += \"shift+\";\n",
       "\n",
       "    value += 'k';\n",
       "    value += event.which.toString();\n",
       "\n",
       "    this._key_event_extra(event, name);\n",
       "\n",
       "    this.send_message(name, {key: value,\n",
       "                             guiEvent: simpleKeys(event)});\n",
       "    return false;\n",
       "}\n",
       "\n",
       "mpl.figure.prototype.toolbar_button_onclick = function(name) {\n",
       "    if (name == 'download') {\n",
       "        this.handle_save(this, null);\n",
       "    } else {\n",
       "        this.send_message(\"toolbar_button\", {name: name});\n",
       "    }\n",
       "};\n",
       "\n",
       "mpl.figure.prototype.toolbar_button_onmouseover = function(tooltip) {\n",
       "    this.message.textContent = tooltip;\n",
       "};\n",
       "mpl.toolbar_items = [[\"Home\", \"Reset original view\", \"fa fa-home icon-home\", \"home\"], [\"Back\", \"Back to previous view\", \"fa fa-arrow-left icon-arrow-left\", \"back\"], [\"Forward\", \"Forward to next view\", \"fa fa-arrow-right icon-arrow-right\", \"forward\"], [\"\", \"\", \"\", \"\"], [\"Pan\", \"Pan axes with left mouse, zoom with right\", \"fa fa-arrows icon-move\", \"pan\"], [\"Zoom\", \"Zoom to rectangle\", \"fa fa-square-o icon-check-empty\", \"zoom\"], [\"\", \"\", \"\", \"\"], [\"Download\", \"Download plot\", \"fa fa-floppy-o icon-save\", \"download\"]];\n",
       "\n",
       "mpl.extensions = [\"eps\", \"jpeg\", \"pdf\", \"png\", \"ps\", \"raw\", \"svg\", \"tif\"];\n",
       "\n",
       "mpl.default_extension = \"png\";var comm_websocket_adapter = function(comm) {\n",
       "    // Create a \"websocket\"-like object which calls the given IPython comm\n",
       "    // object with the appropriate methods. Currently this is a non binary\n",
       "    // socket, so there is still some room for performance tuning.\n",
       "    var ws = {};\n",
       "\n",
       "    ws.close = function() {\n",
       "        comm.close()\n",
       "    };\n",
       "    ws.send = function(m) {\n",
       "        //console.log('sending', m);\n",
       "        comm.send(m);\n",
       "    };\n",
       "    // Register the callback with on_msg.\n",
       "    comm.on_msg(function(msg) {\n",
       "        //console.log('receiving', msg['content']['data'], msg);\n",
       "        // Pass the mpl event to the overridden (by mpl) onmessage function.\n",
       "        ws.onmessage(msg['content']['data'])\n",
       "    });\n",
       "    return ws;\n",
       "}\n",
       "\n",
       "mpl.mpl_figure_comm = function(comm, msg) {\n",
       "    // This is the function which gets called when the mpl process\n",
       "    // starts-up an IPython Comm through the \"matplotlib\" channel.\n",
       "\n",
       "    var id = msg.content.data.id;\n",
       "    // Get hold of the div created by the display call when the Comm\n",
       "    // socket was opened in Python.\n",
       "    var element = $(\"#\" + id);\n",
       "    var ws_proxy = comm_websocket_adapter(comm)\n",
       "\n",
       "    function ondownload(figure, format) {\n",
       "        window.open(figure.imageObj.src);\n",
       "    }\n",
       "\n",
       "    var fig = new mpl.figure(id, ws_proxy,\n",
       "                           ondownload,\n",
       "                           element.get(0));\n",
       "\n",
       "    // Call onopen now - mpl needs it, as it is assuming we've passed it a real\n",
       "    // web socket which is closed, not our websocket->open comm proxy.\n",
       "    ws_proxy.onopen();\n",
       "\n",
       "    fig.parent_element = element.get(0);\n",
       "    fig.cell_info = mpl.find_output_cell(\"<div id='\" + id + \"'></div>\");\n",
       "    if (!fig.cell_info) {\n",
       "        console.error(\"Failed to find cell for figure\", id, fig);\n",
       "        return;\n",
       "    }\n",
       "\n",
       "    var output_index = fig.cell_info[2]\n",
       "    var cell = fig.cell_info[0];\n",
       "\n",
       "};\n",
       "\n",
       "mpl.figure.prototype.handle_close = function(fig, msg) {\n",
       "    var width = fig.canvas.width/mpl.ratio\n",
       "    fig.root.unbind('remove')\n",
       "\n",
       "    // Update the output cell to use the data from the current canvas.\n",
       "    fig.push_to_output();\n",
       "    var dataURL = fig.canvas.toDataURL();\n",
       "    // Re-enable the keyboard manager in IPython - without this line, in FF,\n",
       "    // the notebook keyboard shortcuts fail.\n",
       "    IPython.keyboard_manager.enable()\n",
       "    $(fig.parent_element).html('<img src=\"' + dataURL + '\" width=\"' + width + '\">');\n",
       "    fig.close_ws(fig, msg);\n",
       "}\n",
       "\n",
       "mpl.figure.prototype.close_ws = function(fig, msg){\n",
       "    fig.send_message('closing', msg);\n",
       "    // fig.ws.close()\n",
       "}\n",
       "\n",
       "mpl.figure.prototype.push_to_output = function(remove_interactive) {\n",
       "    // Turn the data on the canvas into data in the output cell.\n",
       "    var width = this.canvas.width/mpl.ratio\n",
       "    var dataURL = this.canvas.toDataURL();\n",
       "    this.cell_info[1]['text/html'] = '<img src=\"' + dataURL + '\" width=\"' + width + '\">';\n",
       "}\n",
       "\n",
       "mpl.figure.prototype.updated_canvas_event = function() {\n",
       "    // Tell IPython that the notebook contents must change.\n",
       "    IPython.notebook.set_dirty(true);\n",
       "    this.send_message(\"ack\", {});\n",
       "    var fig = this;\n",
       "    // Wait a second, then push the new image to the DOM so\n",
       "    // that it is saved nicely (might be nice to debounce this).\n",
       "    setTimeout(function () { fig.push_to_output() }, 1000);\n",
       "}\n",
       "\n",
       "mpl.figure.prototype._init_toolbar = function() {\n",
       "    var fig = this;\n",
       "\n",
       "    var nav_element = $('<div/>');\n",
       "    nav_element.attr('style', 'width: 100%');\n",
       "    this.root.append(nav_element);\n",
       "\n",
       "    // Define a callback function for later on.\n",
       "    function toolbar_event(event) {\n",
       "        return fig.toolbar_button_onclick(event['data']);\n",
       "    }\n",
       "    function toolbar_mouse_event(event) {\n",
       "        return fig.toolbar_button_onmouseover(event['data']);\n",
       "    }\n",
       "\n",
       "    for(var toolbar_ind in mpl.toolbar_items){\n",
       "        var name = mpl.toolbar_items[toolbar_ind][0];\n",
       "        var tooltip = mpl.toolbar_items[toolbar_ind][1];\n",
       "        var image = mpl.toolbar_items[toolbar_ind][2];\n",
       "        var method_name = mpl.toolbar_items[toolbar_ind][3];\n",
       "\n",
       "        if (!name) { continue; };\n",
       "\n",
       "        var button = $('<button class=\"btn btn-default\" href=\"#\" title=\"' + name + '\"><i class=\"fa ' + image + ' fa-lg\"></i></button>');\n",
       "        button.click(method_name, toolbar_event);\n",
       "        button.mouseover(tooltip, toolbar_mouse_event);\n",
       "        nav_element.append(button);\n",
       "    }\n",
       "\n",
       "    // Add the status bar.\n",
       "    var status_bar = $('<span class=\"mpl-message\" style=\"text-align:right; float: right;\"/>');\n",
       "    nav_element.append(status_bar);\n",
       "    this.message = status_bar[0];\n",
       "\n",
       "    // Add the close button to the window.\n",
       "    var buttongrp = $('<div class=\"btn-group inline pull-right\"></div>');\n",
       "    var button = $('<button class=\"btn btn-mini btn-primary\" href=\"#\" title=\"Stop Interaction\"><i class=\"fa fa-power-off icon-remove icon-large\"></i></button>');\n",
       "    button.click(function (evt) { fig.handle_close(fig, {}); } );\n",
       "    button.mouseover('Stop Interaction', toolbar_mouse_event);\n",
       "    buttongrp.append(button);\n",
       "    var titlebar = this.root.find($('.ui-dialog-titlebar'));\n",
       "    titlebar.prepend(buttongrp);\n",
       "}\n",
       "\n",
       "mpl.figure.prototype._root_extra_style = function(el){\n",
       "    var fig = this\n",
       "    el.on(\"remove\", function(){\n",
       "\tfig.close_ws(fig, {});\n",
       "    });\n",
       "}\n",
       "\n",
       "mpl.figure.prototype._canvas_extra_style = function(el){\n",
       "    // this is important to make the div 'focusable\n",
       "    el.attr('tabindex', 0)\n",
       "    // reach out to IPython and tell the keyboard manager to turn it's self\n",
       "    // off when our div gets focus\n",
       "\n",
       "    // location in version 3\n",
       "    if (IPython.notebook.keyboard_manager) {\n",
       "        IPython.notebook.keyboard_manager.register_events(el);\n",
       "    }\n",
       "    else {\n",
       "        // location in version 2\n",
       "        IPython.keyboard_manager.register_events(el);\n",
       "    }\n",
       "\n",
       "}\n",
       "\n",
       "mpl.figure.prototype._key_event_extra = function(event, name) {\n",
       "    var manager = IPython.notebook.keyboard_manager;\n",
       "    if (!manager)\n",
       "        manager = IPython.keyboard_manager;\n",
       "\n",
       "    // Check for shift+enter\n",
       "    if (event.shiftKey && event.which == 13) {\n",
       "        this.canvas_div.blur();\n",
       "        // select the cell after this one\n",
       "        var index = IPython.notebook.find_cell_index(this.cell_info[0]);\n",
       "        IPython.notebook.select(index + 1);\n",
       "    }\n",
       "}\n",
       "\n",
       "mpl.figure.prototype.handle_save = function(fig, msg) {\n",
       "    fig.ondownload(fig, null);\n",
       "}\n",
       "\n",
       "\n",
       "mpl.find_output_cell = function(html_output) {\n",
       "    // Return the cell and output element which can be found *uniquely* in the notebook.\n",
       "    // Note - this is a bit hacky, but it is done because the \"notebook_saving.Notebook\"\n",
       "    // IPython event is triggered only after the cells have been serialised, which for\n",
       "    // our purposes (turning an active figure into a static one), is too late.\n",
       "    var cells = IPython.notebook.get_cells();\n",
       "    var ncells = cells.length;\n",
       "    for (var i=0; i<ncells; i++) {\n",
       "        var cell = cells[i];\n",
       "        if (cell.cell_type === 'code'){\n",
       "            for (var j=0; j<cell.output_area.outputs.length; j++) {\n",
       "                var data = cell.output_area.outputs[j];\n",
       "                if (data.data) {\n",
       "                    // IPython >= 3 moved mimebundle to data attribute of output\n",
       "                    data = data.data;\n",
       "                }\n",
       "                if (data['text/html'] == html_output) {\n",
       "                    return [cell, data, j];\n",
       "                }\n",
       "            }\n",
       "        }\n",
       "    }\n",
       "}\n",
       "\n",
       "// Register the function which deals with the matplotlib target/channel.\n",
       "// The kernel may be null if the page has been refreshed.\n",
       "if (IPython.notebook.kernel != null) {\n",
       "    IPython.notebook.kernel.comm_manager.register_target('matplotlib', mpl.mpl_figure_comm);\n",
       "}\n"
      ],
      "text/plain": [
       "<IPython.core.display.Javascript object>"
      ]
     },
     "metadata": {},
     "output_type": "display_data"
    },
    {
     "data": {
      "text/html": [
       "<img src=\"data:image/png;base64,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\" width=\"1000\">"
      ],
      "text/plain": [
       "<IPython.core.display.HTML object>"
      ]
     },
     "metadata": {},
     "output_type": "display_data"
    }
   ],
   "source": [
    "dual_train_plots(results.index,\n",
    "                 results.cost, results.val, \n",
    "                 results['eff_val'].apply(lambda x: x.eff_rate),\n",
    "                 results['eff_val'].apply(lambda x: x.fp_rate))\n",
    "plt.tight_layout()\n",
    "plt.savefig(str(output / f'{name}_stats_a.png'))"
   ]
  },
  {
   "cell_type": "markdown",
   "metadata": {},
   "source": [
    "Go ahead and save the final model (even though it was also saved above):"
   ]
  },
  {
   "cell_type": "markdown",
   "metadata": {},
   "source": [
    "Save the output results:"
   ]
  },
  {
   "cell_type": "code",
   "execution_count": 20,
   "metadata": {},
   "outputs": [],
   "source": [
    "##torch.cuda.empty_cache()\"\n",
    "##quit()\n",
    "\n"
   ]
  },
  {
   "cell_type": "code",
   "execution_count": null,
   "metadata": {},
   "outputs": [],
   "source": []
  }
 ],
 "metadata": {
  "kernelspec": {
   "display_name": "june2020-gpu",
   "language": "python",
   "name": "june2020-gpu"
  },
  "language_info": {
   "codemirror_mode": {
    "name": "ipython",
    "version": 3
   },
   "file_extension": ".py",
   "mimetype": "text/x-python",
   "name": "python",
   "nbconvert_exporter": "python",
   "pygments_lexer": "ipython3",
   "version": "3.7.6"
  }
 },
 "nbformat": 4,
 "nbformat_minor": 2
}
