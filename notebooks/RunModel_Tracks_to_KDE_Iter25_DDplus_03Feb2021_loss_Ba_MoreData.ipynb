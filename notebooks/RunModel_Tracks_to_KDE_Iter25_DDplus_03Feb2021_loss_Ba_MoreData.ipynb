{
 "cells": [
  {
   "cell_type": "code",
   "execution_count": 1,
   "metadata": {},
   "outputs": [],
   "source": [
    "##%matplotlib widget\n",
    "## with %matplotlib notebook: seems to require ipympl as part of environment, either\n",
    "## part of the conda environment or \"pip install ipympl\"\n",
    "## otherwise, does not show ANY plots in note\"book, plt.savefig() works\n",
    "%matplotlib notebook  \n",
    "##%matplotlib inline    ## --plt.savefig()  works, but re-sizing does NOT\n"
   ]
  },
  {
   "cell_type": "markdown",
   "metadata": {},
   "source": [
    "This notebook is the second attempt to read in track information and use it to predict the KDE used as input to PvFinder. This time, we are reading in poca KDEs rather than the original KDEs. \n",
    "\n",
    "collectdata_kde_C.py uses poca_z, poca_x, poca_y, major_axis_x, major_axis_y, and major_axis_z as the six track parameters (for the moment)\n"
   ]
  },
  {
   "cell_type": "markdown",
   "metadata": {},
   "source": [
    "Check the current GPU usage. Please try to be nice!"
   ]
  },
  {
   "cell_type": "code",
   "execution_count": 2,
   "metadata": {},
   "outputs": [
    {
     "name": "stdout",
     "output_type": "stream",
     "text": [
      "Wed Feb  3 10:00:00 2021       \n",
      "+-----------------------------------------------------------------------------+\n",
      "| NVIDIA-SMI 440.64.00    Driver Version: 440.64.00    CUDA Version: 10.2     |\n",
      "|-------------------------------+----------------------+----------------------+\n",
      "| GPU  Name        Persistence-M| Bus-Id        Disp.A | Volatile Uncorr. ECC |\n",
      "| Fan  Temp  Perf  Pwr:Usage/Cap|         Memory-Usage | GPU-Util  Compute M. |\n",
      "|===============================+======================+======================|\n",
      "|   0  TITAN V             Off  | 00000000:03:00.0 Off |                  N/A |\n",
      "| 28%   31C    P8    23W / 250W |      0MiB / 12066MiB |      0%      Default |\n",
      "+-------------------------------+----------------------+----------------------+\n",
      "|   1  Tesla P100-PCIE...  Off  | 00000000:83:00.0 Off |                    0 |\n",
      "| N/A   32C    P0    33W / 250W |      0MiB / 16280MiB |      0%      Default |\n",
      "+-------------------------------+----------------------+----------------------+\n",
      "|   2  TITAN V             Off  | 00000000:84:00.0 Off |                  N/A |\n",
      "| 22%   37C    P0    34W / 250W |      0MiB / 12066MiB |      0%      Default |\n",
      "+-------------------------------+----------------------+----------------------+\n",
      "                                                                               \n",
      "+-----------------------------------------------------------------------------+\n",
      "| Processes:                                                       GPU Memory |\n",
      "|  GPU       PID   Type   Process name                             Usage      |\n",
      "|=============================================================================|\n",
      "|  No running processes found                                                 |\n",
      "+-----------------------------------------------------------------------------+\n"
     ]
    }
   ],
   "source": [
    "!nvidia-smi"
   ]
  },
  {
   "cell_type": "markdown",
   "metadata": {},
   "source": [
    "> **WARNING**: The card numbers here are *not* the same as in CUDA. You have been warned."
   ]
  },
  {
   "cell_type": "markdown",
   "metadata": {},
   "source": [
    "This notebook is first attempt to read in track information and use it to predict the KDE used as input to PvFinder.\n"
   ]
  },
  {
   "cell_type": "markdown",
   "metadata": {},
   "source": [
    "## Imports"
   ]
  },
  {
   "cell_type": "code",
   "execution_count": 3,
   "metadata": {},
   "outputs": [],
   "source": [
    "import matplotlib.pyplot as plt\n",
    "import numpy as np\n",
    "import time\n",
    "import torch\n",
    "import pandas as pd\n",
    "\n",
    "# Python 3 standard library\n",
    "from pathlib import Path\n",
    "\n",
    "##from torchsummary import summary"
   ]
  },
  {
   "cell_type": "markdown",
   "metadata": {},
   "source": [
    "### Set up local parameters"
   ]
  },
  {
   "cell_type": "code",
   "execution_count": 4,
   "metadata": {},
   "outputs": [],
   "source": [
    "n_epochs = 122\n",
    "\n",
    "folder = '03Feb_DDplus_loss_Ba_iter25_floatAll_150epochs_1p5em5_4xwill'\n",
    "name   = folder\n",
    "\n",
    "# Make an output folder named \"name\" (change if you want)\n",
    "\n",
    "## Special instructions for those working on goofy at UC\n",
    "## Please be very careful to make sure that your folder\n",
    "## does not live in a subdirectory of your home directory\n",
    "## this disk has very little capacity. Instead, use \n",
    "## a subdirectory in /share/lazy with a symbolic link to\n",
    "## it in this (the notebooks) subdirectory\n",
    "folder = 'ML_dir/' + folder\n",
    "output = Path(folder)\n",
    "\n",
    "\n",
    "# Size of batches\n",
    "batch_size = 64 ## batch_size = 24 ---> 4763MiB / 12066MiB on Titan V\n",
    "# How fast to learn\n",
    "learning_rate = 1.5e-5"
   ]
  },
  {
   "cell_type": "markdown",
   "metadata": {},
   "source": [
    "Make the output directory if it does not exist:"
   ]
  },
  {
   "cell_type": "code",
   "execution_count": 5,
   "metadata": {},
   "outputs": [],
   "source": [
    "output.mkdir(exist_ok=True)"
   ]
  },
  {
   "cell_type": "markdown",
   "metadata": {},
   "source": [
    "## Get the helper functions\n",
    "\n",
    "Add the directory with the model\n",
    "definitions to the path so we can import from it:\n",
    "\n",
    "> When you type `import X`,\n",
    "Python searches `sys.path` for a python\n",
    "file named `X.py` to import. So we need to add the model directory to the path."
   ]
  },
  {
   "cell_type": "code",
   "execution_count": 6,
   "metadata": {
    "scrolled": true
   },
   "outputs": [],
   "source": [
    "from model.collectdata_kde_Ellipsoids import collect_t2kde_data\n",
    "\n",
    "##  It takes 9 input features (poca centers + (A,B,C,D,E,F)) . \n",
    "from model.models_kde import TracksToKDE_Ellipsoids_DDplus as Model\n",
    "\n",
    "# kde_loss_Ba is a Chi2 loss (go and look at it!)\n",
    "from model.kde_loss_Ba import Loss\n",
    "\n",
    "from model.training_kde import trainNet, select_gpu, Results\n",
    "from model.plots import dual_train_plots, replace_in_ax"
   ]
  },
  {
   "cell_type": "code",
   "execution_count": 7,
   "metadata": {},
   "outputs": [],
   "source": [
    "# This gets built up during the run - do not rerun this cell\n",
    "results = pd.DataFrame([], columns=Results._fields)"
   ]
  },
  {
   "cell_type": "markdown",
   "metadata": {},
   "source": [
    "Set up Torch device configuration. All tensors and model parameters need to know where to be put.\n",
    "This takes a BUS ID number: The BUS ID is the same as the listing at the top of this script."
   ]
  },
  {
   "cell_type": "code",
   "execution_count": 8,
   "metadata": {},
   "outputs": [
    {
     "name": "stdout",
     "output_type": "stream",
     "text": [
      "1 available GPUs (initially using device 0):\n",
      "  0 TITAN V\n"
     ]
    }
   ],
   "source": [
    "# either 0 or 2 on goofy (i.e. TITAN V) [1 or 2 on sleepy RTX 2080TI]\n",
    "device = select_gpu(2)\n",
    "##device = \"cpu\""
   ]
  },
  {
   "cell_type": "markdown",
   "metadata": {},
   "source": [
    "## Loading data\n",
    "\n",
    "Load the dataset, split into parts, then move to device (see `collectdata.py` in the `../model` directory)"
   ]
  },
  {
   "cell_type": "markdown",
   "metadata": {},
   "source": [
    "# Preparing the model"
   ]
  },
  {
   "cell_type": "markdown",
   "metadata": {},
   "source": [
    "Prepare a model, use multiple GPUs if they are VISIBLE, and move the model to the device."
   ]
  },
  {
   "cell_type": "code",
   "execution_count": 9,
   "metadata": {
    "scrolled": true
   },
   "outputs": [],
   "source": [
    "##print(\"Let's use\", torch.cuda.device_count(), \"GPUs!\")\n",
    "##if torch.cuda.device_count() > 1:\n",
    "##    model = torch.nn.DataParallel(model)"
   ]
  },
  {
   "cell_type": "code",
   "execution_count": 10,
   "metadata": {},
   "outputs": [
    {
     "name": "stdout",
     "output_type": "stream",
     "text": [
      "ct, child =  0    Linear(in_features=9, out_features=50, bias=True)\n",
      "ct, child =  1    Linear(in_features=50, out_features=50, bias=True)\n",
      "ct, child =  2    Linear(in_features=50, out_features=50, bias=True)\n",
      "ct, child =  3    Linear(in_features=50, out_features=50, bias=True)\n",
      "ct, child =  4    Linear(in_features=50, out_features=50, bias=True)\n",
      "ct, child =  5    Linear(in_features=50, out_features=50, bias=True)\n",
      "ct, child =  6    Linear(in_features=50, out_features=50, bias=True)\n",
      "ct, child =  7    Linear(in_features=50, out_features=50, bias=True)\n",
      "ct, child =  8    Linear(in_features=50, out_features=50, bias=True)\n",
      "ct, child =  9    Linear(in_features=50, out_features=50, bias=True)\n",
      "ct, child =  10    Linear(in_features=50, out_features=50, bias=True)\n",
      "ct, child =  11    Linear(in_features=50, out_features=16000, bias=True)\n",
      "ct, child =  12    Conv1d(4, 25, kernel_size=(25,), stride=(1,), padding=(12,))\n",
      "ct, child =  13    Conv1d(25, 1, kernel_size=(5,), stride=(1,), padding=(2,))\n",
      "ct, child =  14    Linear(in_features=4000, out_features=4000, bias=True)\n",
      "ct, child =  15    Conv1d(25, 1, kernel_size=(15,), stride=(1,), padding=(7,))\n",
      "ct, child =  16    Dropout(p=0.15, inplace=False)\n",
      "ct, child =  17    Dropout(p=0.15, inplace=False)\n"
     ]
    }
   ],
   "source": [
    "## a comment on the web at https://pytorch.org/docs/stable/optim.html says\n",
    "\"\"\"\n",
    "If you need to move a model to GPU via .cuda(), please do so before constructing optimizers for it. \n",
    "Parameters of a model after .cuda() will be different objects with those before the call.\n",
    "\n",
    "In general, you should make sure that optimized parameters live in consistent locations when \n",
    "optimizers are constructed and used.\n",
    "\"\"\"\n",
    "## so move this here (although we are using model.to(device) not explicitly using .cuda()\n",
    "\n",
    "nOut1 = 50\n",
    "nOut2 = 50\n",
    "nOut3 = 50\n",
    "nOut4 = 50\n",
    "nOut5 = 50\n",
    "nOut6 = 50\n",
    "nOut7 = 50\n",
    "nOut8 = 50\n",
    "nOut9 = 50\n",
    "nOut10 = 50\n",
    "nOut11 = 50\n",
    "latentChannels = 4\n",
    "model = Model(nOut1,nOut2,nOut3,nOut4,nOut5,nOut6,nOut7,nOut8,nOut9,nOut10,nOut11,latentChannels)\n",
    "\n",
    "##summary(model, input_size=(4, 4000))\n",
    "##print(model.parameters)\n",
    "\n",
    "## add the following code to allow the user to freeze the some of the weights corresponding \n",
    "## to those taken from an earlier model trained with the original target histograms\n",
    "## presumably -- this leaves either the perturbative filter \"fixed\" and lets the \n",
    "## learning focus on the non-perturbative features, so get started faster, or vice versa\n",
    "ct = 0\n",
    "for child in model.children():\n",
    "  print('ct, child = ',ct, \"  \", child)\n",
    "  if ct < 0:\n",
    "    print(\"     About to set param.requires_grad=False for ct = \", ct, \"params\")\n",
    "    for param in child.parameters():\n",
    "        # fixing parameters\n",
    "        param.requires_grad = False \n",
    "  ct += 1\n",
    "##  mds 200121 loss = Loss(epsilon=1e-5,coefficient=1.0)\n",
    "##  loss = Loss(epsilon=1e-5,coefficient=2.5)\n",
    "##loss = Loss(epsilon=3e-5, debug=False)\n",
    "loss = Loss(epsilon=3e-5)"
   ]
  },
  {
   "cell_type": "markdown",
   "metadata": {},
   "source": [
    "Let's move the model's weight matricies to the GPU:"
   ]
  },
  {
   "cell_type": "code",
   "execution_count": 11,
   "metadata": {
    "scrolled": true
   },
   "outputs": [],
   "source": [
    "model = model.to(device)"
   ]
  },
  {
   "cell_type": "code",
   "execution_count": 12,
   "metadata": {
    "scrolled": true
   },
   "outputs": [],
   "source": [
    "optimizer = torch.optim.Adam(model.parameters(), lr=learning_rate)\n",
    "##optimizer = torch.optim.SGD(model.parameters(), lr=learning_rate)"
   ]
  },
  {
   "cell_type": "code",
   "execution_count": 13,
   "metadata": {
    "scrolled": true
   },
   "outputs": [
    {
     "name": "stdout",
     "output_type": "stream",
     "text": [
      "output =  ML_dir/03Feb_DDplus_loss_Ba_iter25_floatAll_150epochs_1p5em5_4xwill\n",
      "for model_dict\n",
      "index, k =   0    layer1.weight\n",
      "index, k =   1    layer1.bias\n",
      "index, k =   2    layer2.weight\n",
      "index, k =   3    layer2.bias\n",
      "index, k =   4    layer3.weight\n",
      "index, k =   5    layer3.bias\n",
      "index, k =   6    layer4.weight\n",
      "index, k =   7    layer4.bias\n",
      "index, k =   8    layer5.weight\n",
      "index, k =   9    layer5.bias\n",
      "index, k =   10    layer6.weight\n",
      "index, k =   11    layer6.bias\n",
      "index, k =   12    layer7.weight\n",
      "index, k =   13    layer7.bias\n",
      "index, k =   14    layer8.weight\n",
      "index, k =   15    layer8.bias\n",
      "index, k =   16    layer9.weight\n",
      "index, k =   17    layer9.bias\n",
      "index, k =   18    layer10.weight\n",
      "index, k =   19    layer10.bias\n",
      "index, k =   20    layer11.weight\n",
      "index, k =   21    layer11.bias\n",
      "index, k =   22    layer12new.weight\n",
      "index, k =   23    layer12new.bias\n",
      "index, k =   24    conv1.weight\n",
      "index, k =   25    conv1.bias\n",
      "index, k =   26    conv2.weight\n",
      "index, k =   27    conv2.bias\n",
      "index, k =   28    fc1.weight\n",
      "index, k =   29    fc1.bias\n",
      "index, k =   30    finalFilter.weight\n",
      "index, k =   31    finalFilter.bias\n",
      "dict_name =  ML_dir/03Feb_DDplus_loss_Ba_iter24_floatAll_150epochs_1p5em5_4xwill/03Feb_DDplus_loss_Ba_iter24_floatAll_150epochs_1p5em5_4xwill_27.pyt\n",
      " \n",
      "  for pretrained_dict\n",
      "index, k =   0    layer1.weight\n",
      "index, k =   1    layer1.bias\n",
      "index, k =   2    layer2.weight\n",
      "index, k =   3    layer2.bias\n",
      "index, k =   4    layer3.weight\n",
      "index, k =   5    layer3.bias\n",
      "index, k =   6    layer4.weight\n",
      "index, k =   7    layer4.bias\n",
      "index, k =   8    layer5.weight\n",
      "index, k =   9    layer5.bias\n",
      "index, k =   10    layer6.weight\n",
      "index, k =   11    layer6.bias\n",
      "index, k =   12    layer7.weight\n",
      "index, k =   13    layer7.bias\n",
      "index, k =   14    layer8.weight\n",
      "index, k =   15    layer8.bias\n",
      "index, k =   16    layer9.weight\n",
      "index, k =   17    layer9.bias\n",
      "index, k =   18    layer10.weight\n",
      "index, k =   19    layer10.bias\n",
      "index, k =   20    layer11.weight\n",
      "index, k =   21    layer11.bias\n",
      "index, k =   22    layer12new.weight\n",
      "index, k =   23    layer12new.bias\n",
      "index, k =   24    conv1.weight\n",
      "index, k =   25    conv1.bias\n",
      "index, k =   26    conv2.weight\n",
      "index, k =   27    conv2.bias\n",
      "index, k =   28    fc1.weight\n",
      "index, k =   29    fc1.bias\n",
      "index, k =   30    finalFilter.weight\n",
      "index, k =   31    finalFilter.bias\n",
      "pretrained_dict iterated\n"
     ]
    },
    {
     "data": {
      "text/plain": [
       "<All keys matched successfully>"
      ]
     },
     "execution_count": 13,
     "metadata": {},
     "output_type": "execute_result"
    }
   ],
   "source": [
    "print('output = ',output)\n",
    "##print('oldOutput = ',oldOutput)\n",
    "##  use the first four layers from a pre-existing model\n",
    "##  see example at https://discuss.pytorch.org/t/how-to-load-part-of-pre-trained-model/1113\n",
    "\n",
    "##   ML -> /share/lazy/sokoloff/ML\n",
    "model_dict = model.state_dict()\n",
    "## mds 190725 for debugging\n",
    "print(\"for model_dict\")\n",
    "index = 0\n",
    "for k,v in model_dict.items():\n",
    "    print(\"index, k =  \",index,\"  \",k)\n",
    "    index = index+1\n",
    "##    print(\"value = \", v)\n",
    " \n",
    "updated_dict = model_dict\n",
    "##print(\"updated_dict = \",updated_dict)\n",
    "## when starting \"ab initio\", reduce biases as the bias gets summed for each track\n",
    "## contributing to the predicted KDE\n",
    "updated_dict[\"layer1.bias\"] = 0.005*model_dict[\"layer1.bias\"]\n",
    "updated_dict[\"layer2.bias\"] = 0.005*model_dict[\"layer2.bias\"]\n",
    "updated_dict[\"layer3.bias\"] = 0.005*model_dict[\"layer3.bias\"]\n",
    "updated_dict[\"layer4.bias\"] = 0.005*model_dict[\"layer4.bias\"]\n",
    "updated_dict[\"layer5.bias\"] = 0.005*model_dict[\"layer5.bias\"]\n",
    "updated_dict[\"layer6.bias\"] = 0.005*model_dict[\"layer6.bias\"]\n",
    "updated_dict[\"layer7.bias\"] = 0.005*model_dict[\"layer7.bias\"]\n",
    "updated_dict[\"layer8.bias\"] = 0.005*model_dict[\"layer8.bias\"]\n",
    "updated_dict[\"layer9.bias\"] = 0.005*model_dict[\"layer9.bias\"]\n",
    "updated_dict[\"layer10.bias\"] = 0.005*model_dict[\"layer10.bias\"]\n",
    "updated_dict[\"layer11.bias\"] = 0.005*model_dict[\"layer11.bias\"]\n",
    "\n",
    "model.load_state_dict(updated_dict,strict=False)\n",
    "\n",
    "model_dict = model.state_dict()\n",
    "##print(\"updated model_dict = \",model_dict)\n",
    "\n",
    "## print(\" \\n\",\"  for pretrained_dict\")\n",
    "## index = 0\n",
    "##for k,v in pretrained_dict.items():\n",
    "##    print(\"index, k =  \",index,\"  \",k)\n",
    "##    index = index+1\n",
    "## mds  \n",
    "\n",
    "##pretrained_dict = torch.load('ML/29July2020_Trks_to_KDE_C_lossB_100epochs_b64_1m3_nOut_50x50/29July2020_Trks_to_KDE_C_lossB_100epochs_b64_1m3_nOut_50x50_final.pyt')\n",
    "##print(\"model_dict instantiated\")\n",
    "# 1. filter out unnecessary keys\n",
    "##pretrained_dict = {k: v for k, v in pretrained_dict.items() if k in model_dict}\n",
    "##print(\"pretrained_dict iterated\")\n",
    "# 2. overwrite entries in the existing state dict\n",
    "##model_dict.update(pretrained_dict) \n",
    "##\n",
    "#   when starting from a model with a fully connected last layer rather than a convolutional layer\n",
    "# 3. load the new state dict\n",
    "#   need to use strict=False as the two models state model attributes do not agree exactly\n",
    "#   see https://pytorch.org/docs/master/_modules/torch/nn/modules/module.html#Module.load_state_dict\n",
    "\n",
    "##model.load_state_dict(pretrained_dict,strict=False)\n",
    "\n",
    "## print('model_dict =    ', model_dict)\n",
    "\n",
    "## finished at training cost = 1.46, validation cost = 1.50\n",
    "##d_folder = '25December__DDplus_loss_Ba_iter7_floatAll_800epochs_4em6'\n",
    "d_folder = '03Feb_DDplus_loss_Ba_iter24_floatAll_150epochs_1p5em5_4xwill'\n",
    "d_name = d_folder\n",
    "##  for 24Jan_DDplus_loss_Ba_iter17_floatAll_150epochs_1p5em5_4xwill use suffix 87\n",
    "##  as this is the last epoch that ran before I killed the job (don't ask)\n",
    "suffix = '27'\n",
    "dict_name = 'ML_dir/' + d_folder + '/' + d_name + '_'+ suffix + '.pyt'\n",
    "print('dict_name = ',dict_name)\n",
    "pretrained_dict = torch.load(dict_name)\n",
    "\n",
    "print(\" \")\n",
    "print(\"  for pretrained_dict\")\n",
    "index = 0\n",
    "for k,v in pretrained_dict.items():\n",
    "    print(\"index, k =  \",index,\"  \",k)\n",
    "    index = index+1\n",
    " \n",
    "\n",
    "##print(\"model_dict instantiated\")\n",
    "# 1. filter out unnecessary keys\n",
    "pretrained_dict = {k: v for k, v in pretrained_dict.items() if k in model_dict}\n",
    "print(\"pretrained_dict iterated\")\n",
    "# 2. overwrite entries in the existing state dict\n",
    "model_dict.update(pretrained_dict) \n",
    "##\n",
    "#   when starting from a model with a fully connected last layer rather than a convolutional layer\n",
    "# 3. load the new state dict\n",
    "#   need to use strict=False as the two models state model attributes do not agree exactly\n",
    "#   see https://pytorch.org/docs/master/_modules/torch/nn/modules/module.html#Module.load_state_dict\n",
    "\n",
    "model.load_state_dict(pretrained_dict,strict=False)\n",
    "\n"
   ]
  },
  {
   "cell_type": "code",
   "execution_count": 14,
   "metadata": {},
   "outputs": [],
   "source": [
    "##print('validation.dataset.tensors = ',validation.dataset.tensors)\n",
    "fig_size = plt.rcParams[\"figure.figsize\"]\n",
    "fig_size[0] = 10\n",
    "fig_size[1] = 4\n",
    "plt.rcParams[\"figure.figsize\"] = fig_size"
   ]
  },
  {
   "cell_type": "code",
   "execution_count": 15,
   "metadata": {},
   "outputs": [
    {
     "name": "stdout",
     "output_type": "stream",
     "text": [
      "Loading data...\n",
      "pocaMx.shape =  (80000,)\n",
      "nEvts =  80000\n",
      "len(pocaMx[0]) =  199\n",
      "len(pocaMx[1]) =  25\n",
      "len(pocaMx[2]) =  369\n",
      "len(pocaMx[3]) =  143\n",
      "len(pocaMx[4]) =  160\n",
      "majorAxis.shape =  (80000, 3)\n",
      "minorAxis_1.shape =  (80000, 3)\n",
      "minorAxis_2.shape =  (80000, 3)\n",
      "have entered six_ellipsoid_parameters\n",
      "  \n",
      " \n",
      "  nEvts =  80000\n",
      " iEvt, nTrks =  0 199\n",
      " iEvt, nTrks =  1 25\n",
      " iEvt, nTrks =  2 369\n",
      " iEvt, nTrks =  3 143\n",
      " iEvt, nTrks =  4 160\n",
      " iEvt, nTrks =  5 260\n",
      " iEvt, nTrks =  6 237\n",
      " iEvt, nTrks =  7 327\n",
      " iEvt, nTrks =  8 178\n",
      " iEvt, nTrks =  9 106\n",
      "A.shape =  (80000,)\n",
      "majorAxis[iTrk][0][0] =  0.00045611936\n",
      "majorAxis[iTrk][1][0] =  -4.8292455e-05\n",
      "majorAxis[iTrk][2][0] =  0.090019904\n",
      "minorAxis_1[iTrk][0][0] =  -1.8602173\n",
      "minorAxis_1[iTrk][1][0] =  -17.569641\n",
      "minorAxis_1[iTrk][2][0] =  4.7891795e-08\n",
      "minorAxis_2[iTrk][0][0] =  -17.569414\n",
      "minorAxis_2[iTrk][1][0] =  1.8601931\n",
      "minorAxis_2[iTrk][2][0] =  0.0900199\n",
      "  \n",
      "majorAxis[iTrk][0][0] =  0.002360258\n",
      "majorAxis[iTrk][1][0] =  -0.007426616\n",
      "majorAxis[iTrk][2][0] =  0.3710108\n",
      "minorAxis_1[iTrk][0][0] =  -16.837948\n",
      "minorAxis_1[iTrk][1][0] =  -5.3512807\n",
      "minorAxis_1[iTrk][2][0] =  8.157131e-09\n",
      "minorAxis_2[iTrk][0][0] =  -5.3501005\n",
      "minorAxis_2[iTrk][1][0] =  16.834236\n",
      "minorAxis_2[iTrk][2][0] =  0.3710108\n",
      "  \n",
      "majorAxis[iTrk][0][0] =  6.220712e-05\n",
      "majorAxis[iTrk][1][0] =  -4.4594188e-05\n",
      "majorAxis[iTrk][2][0] =  0.036773544\n",
      "minorAxis_1[iTrk][0][0] =  10.293747\n",
      "minorAxis_1[iTrk][1][0] =  14.359369\n",
      "minorAxis_1[iTrk][2][0] =  1.571041e-06\n",
      "minorAxis_2[iTrk][0][0] =  14.359338\n",
      "minorAxis_2[iTrk][1][0] =  -10.293725\n",
      "minorAxis_2[iTrk][2][0] =  -0.03677354\n",
      "  \n",
      "majorAxis[iTrk][0][0] =  0.0033452737\n",
      "majorAxis[iTrk][1][0] =  0.00013028442\n",
      "majorAxis[iTrk][2][0] =  0.2431933\n",
      "minorAxis_1[iTrk][0][0] =  0.6875674\n",
      "minorAxis_1[iTrk][1][0] =  -17.65446\n",
      "minorAxis_1[iTrk][2][0] =  -6.6602626e-09\n",
      "minorAxis_2[iTrk][0][0] =  -17.652788\n",
      "minorAxis_2[iTrk][1][0] =  -0.68750226\n",
      "minorAxis_2[iTrk][2][0] =  0.2431933\n",
      "  \n",
      "majorAxis[iTrk][0][0] =  -0.00068196515\n",
      "majorAxis[iTrk][1][0] =  -0.00044562915\n",
      "majorAxis[iTrk][2][0] =  0.119970225\n",
      "minorAxis_1[iTrk][0][0] =  9.664597\n",
      "minorAxis_1[iTrk][1][0] =  -14.790141\n",
      "minorAxis_1[iTrk][2][0] =  1.9819232e-08\n",
      "minorAxis_2[iTrk][0][0] =  -14.789802\n",
      "minorAxis_2[iTrk][1][0] =  -9.664374\n",
      "minorAxis_2[iTrk][2][0] =  -0.11997023\n",
      "  \n",
      "majorAxis[iTrk][0][0] =  -8.245073e-05\n",
      "majorAxis[iTrk][1][0] =  0.00015860004\n",
      "majorAxis[iTrk][2][0] =  0.05619731\n",
      "minorAxis_1[iTrk][0][0] =  -15.676071\n",
      "minorAxis_1[iTrk][1][0] =  -8.149452\n",
      "minorAxis_1[iTrk][2][0] =  4.1105773e-07\n",
      "minorAxis_2[iTrk][0][0] =  -8.14941\n",
      "minorAxis_2[iTrk][1][0] =  15.675991\n",
      "minorAxis_2[iTrk][2][0] =  -0.056197315\n",
      "  \n",
      "majorAxis[iTrk][0][0] =  -0.00015151131\n",
      "majorAxis[iTrk][1][0] =  0.00067339616\n",
      "majorAxis[iTrk][2][0] =  0.11042937\n",
      "minorAxis_1[iTrk][0][0] =  17.236937\n",
      "minorAxis_1[iTrk][1][0] =  3.8782384\n",
      "minorAxis_1[iTrk][2][0] =  2.3217373e-08\n",
      "minorAxis_2[iTrk][0][0] =  3.8781626\n",
      "minorAxis_2[iTrk][1][0] =  -17.236599\n",
      "minorAxis_2[iTrk][2][0] =  0.11042936\n",
      "  \n",
      "majorAxis[iTrk][0][0] =  -7.577422e-05\n",
      "majorAxis[iTrk][1][0] =  -0.00036802414\n",
      "majorAxis[iTrk][2][0] =  0.08147708\n",
      "minorAxis_1[iTrk][0][0] =  -17.304853\n",
      "minorAxis_1[iTrk][1][0] =  3.5629773\n",
      "minorAxis_1[iTrk][2][0] =  5.80501e-09\n",
      "minorAxis_2[iTrk][0][0] =  3.5629392\n",
      "minorAxis_2[iTrk][1][0] =  17.304668\n",
      "minorAxis_2[iTrk][2][0] =  0.081477076\n",
      "  \n",
      "majorAxis[iTrk][0][0] =  0.00013397264\n",
      "majorAxis[iTrk][1][0] =  0.00094400026\n",
      "majorAxis[iTrk][2][0] =  0.12978876\n",
      "minorAxis_1[iTrk][0][0] =  17.492561\n",
      "minorAxis_1[iTrk][1][0] =  -2.4825466\n",
      "minorAxis_1[iTrk][2][0] =  1.1329301e-08\n",
      "minorAxis_2[iTrk][0][0] =  -2.4824798\n",
      "minorAxis_2[iTrk][1][0] =  -17.492088\n",
      "minorAxis_2[iTrk][2][0] =  0.12978874\n",
      "  \n",
      "majorAxis[iTrk][0][0] =  0.00043501743\n",
      "majorAxis[iTrk][1][0] =  -0.0016521378\n",
      "majorAxis[iTrk][2][0] =  0.17373301\n",
      "minorAxis_1[iTrk][0][0] =  -17.0855\n",
      "minorAxis_1[iTrk][1][0] =  -4.4987106\n",
      "minorAxis_1[iTrk][2][0] =  -7.7275175e-08\n",
      "minorAxis_2[iTrk][0][0] =  -4.4984937\n",
      "minorAxis_2[iTrk][1][0] =  17.084677\n",
      "minorAxis_2[iTrk][2][0] =  0.17373303\n",
      "  \n",
      "len(X) =  80000\n",
      "len(Xlist) =  1\n",
      "Loaded /share/lazy/will/data/June30_2020_80k_1.h5 in 144.5 s\n",
      "pocaMx.shape =  (80000,)\n",
      "nEvts =  80000\n",
      "len(pocaMx[0]) =  222\n",
      "len(pocaMx[1]) =  133\n",
      "len(pocaMx[2]) =  259\n",
      "len(pocaMx[3]) =  114\n",
      "len(pocaMx[4]) =  143\n",
      "majorAxis.shape =  (80000, 3)\n",
      "minorAxis_1.shape =  (80000, 3)\n",
      "minorAxis_2.shape =  (80000, 3)\n",
      "have entered six_ellipsoid_parameters\n",
      "  \n",
      " \n",
      "  nEvts =  80000\n",
      " iEvt, nTrks =  0 222\n",
      " iEvt, nTrks =  1 133\n",
      " iEvt, nTrks =  2 259\n",
      " iEvt, nTrks =  3 114\n",
      " iEvt, nTrks =  4 143\n",
      " iEvt, nTrks =  5 136\n",
      " iEvt, nTrks =  6 397\n",
      " iEvt, nTrks =  7 370\n",
      " iEvt, nTrks =  8 97\n",
      " iEvt, nTrks =  9 67\n",
      "A.shape =  (80000,)\n",
      "majorAxis[iTrk][0][0] =  -0.001036478\n",
      "majorAxis[iTrk][1][0] =  0.0009833863\n",
      "majorAxis[iTrk][2][0] =  0.15887721\n",
      "minorAxis_1[iTrk][0][0] =  -12.160475\n",
      "minorAxis_1[iTrk][1][0] =  -12.817002\n",
      "minorAxis_1[iTrk][2][0] =  0.0\n",
      "minorAxis_2[iTrk][0][0] =  -12.816484\n",
      "minorAxis_2[iTrk][1][0] =  12.159985\n",
      "minorAxis_2[iTrk][2][0] =  -0.15887721\n",
      "  \n",
      "majorAxis[iTrk][0][0] =  0.0016579849\n",
      "majorAxis[iTrk][1][0] =  0.0020989499\n",
      "majorAxis[iTrk][2][0] =  0.21738033\n",
      "minorAxis_1[iTrk][0][0] =  -13.864233\n",
      "minorAxis_1[iTrk][1][0] =  10.95152\n",
      "minorAxis_1[iTrk][2][0] =  -3.3017489e-09\n",
      "minorAxis_2[iTrk][0][0] =  10.95069\n",
      "minorAxis_2[iTrk][1][0] =  13.863184\n",
      "minorAxis_2[iTrk][2][0] =  -0.21738033\n",
      "  \n",
      "majorAxis[iTrk][0][0] =  0.00012481198\n",
      "majorAxis[iTrk][1][0] =  -0.00028747538\n",
      "majorAxis[iTrk][2][0] =  0.07441149\n",
      "minorAxis_1[iTrk][0][0] =  -16.206305\n",
      "minorAxis_1[iTrk][1][0] =  -7.036224\n",
      "minorAxis_1[iTrk][2][0] =  5.3456716e-08\n",
      "minorAxis_2[iTrk][0][0] =  -7.0361605\n",
      "minorAxis_2[iTrk][1][0] =  16.20616\n",
      "minorAxis_2[iTrk][2][0] =  0.07441148\n",
      "  \n",
      "majorAxis[iTrk][0][0] =  -0.007920195\n",
      "majorAxis[iTrk][1][0] =  -0.009694931\n",
      "majorAxis[iTrk][2][0] =  0.47021532\n",
      "minorAxis_1[iTrk][0][0] =  -13.682467\n",
      "minorAxis_1[iTrk][1][0] =  11.177781\n",
      "minorAxis_1[iTrk][2][0] =  1.8638048e-10\n",
      "minorAxis_2[iTrk][0][0] =  11.173822\n",
      "minorAxis_2[iTrk][1][0] =  13.677622\n",
      "minorAxis_2[iTrk][2][0] =  0.47021535\n",
      "  \n",
      "majorAxis[iTrk][0][0] =  0.00038854493\n",
      "majorAxis[iTrk][1][0] =  0.0009230774\n",
      "majorAxis[iTrk][2][0] =  0.13301943\n",
      "minorAxis_1[iTrk][0][0] =  -16.284061\n",
      "minorAxis_1[iTrk][1][0] =  6.854344\n",
      "minorAxis_1[iTrk][2][0] =  2.2469074e-07\n",
      "minorAxis_2[iTrk][0][0] =  6.8541493\n",
      "minorAxis_2[iTrk][1][0] =  16.283602\n",
      "minorAxis_2[iTrk][2][0] =  -0.13301945\n",
      "  \n",
      "majorAxis[iTrk][0][0] =  -5.6093595e-05\n",
      "majorAxis[iTrk][1][0] =  0.000114469876\n",
      "majorAxis[iTrk][2][0] =  0.04745733\n",
      "minorAxis_1[iTrk][0][0] =  15.865369\n",
      "minorAxis_1[iTrk][1][0] =  7.774496\n",
      "minorAxis_1[iTrk][2][0] =  1.8465234e-06\n",
      "minorAxis_2[iTrk][0][0] =  7.774468\n",
      "minorAxis_2[iTrk][1][0] =  -15.865313\n",
      "minorAxis_2[iTrk][2][0] =  0.04745733\n",
      "  \n",
      "majorAxis[iTrk][0][0] =  9.375396e-05\n",
      "majorAxis[iTrk][1][0] =  0.0002926058\n",
      "majorAxis[iTrk][2][0] =  0.07367872\n",
      "minorAxis_1[iTrk][0][0] =  -16.825275\n",
      "minorAxis_1[iTrk][1][0] =  5.390994\n",
      "minorAxis_1[iTrk][2][0] =  -2.1861728e-08\n",
      "minorAxis_2[iTrk][0][0] =  5.3909473\n",
      "minorAxis_2[iTrk][1][0] =  16.825129\n",
      "minorAxis_2[iTrk][2][0] =  -0.07367872\n",
      "  \n",
      "majorAxis[iTrk][0][0] =  -1.1543522e-06\n",
      "majorAxis[iTrk][1][0] =  2.8112001e-05\n",
      "majorAxis[iTrk][2][0] =  0.022295665\n",
      "minorAxis_1[iTrk][0][0] =  -17.652967\n",
      "minorAxis_1[iTrk][1][0] =  -0.7248769\n",
      "minorAxis_1[iTrk][2][0] =  1.7815448e-07\n",
      "minorAxis_2[iTrk][0][0] =  -0.7248763\n",
      "minorAxis_2[iTrk][1][0] =  17.652954\n",
      "minorAxis_2[iTrk][2][0] =  -0.022295661\n",
      "  \n",
      "majorAxis[iTrk][0][0] =  -0.2612214\n",
      "majorAxis[iTrk][1][0] =  0.83076316\n",
      "majorAxis[iTrk][2][0] =  3.8745012\n",
      "minorAxis_1[iTrk][0][0] =  -16.85429\n",
      "minorAxis_1[iTrk][1][0] =  -5.299587\n",
      "minorAxis_1[iTrk][2][0] =  2.0865195e-11\n",
      "minorAxis_2[iTrk][0][0] =  -5.1705856\n",
      "minorAxis_2[iTrk][1][0] =  16.444027\n",
      "minorAxis_2[iTrk][2][0] =  -3.874501\n",
      "  \n",
      "majorAxis[iTrk][0][0] =  -0.057592034\n",
      "majorAxis[iTrk][1][0] =  0.06503555\n",
      "majorAxis[iTrk][2][0] =  1.2373537\n",
      "minorAxis_1[iTrk][0][0] =  13.227038\n",
      "minorAxis_1[iTrk][1][0] =  11.713163\n",
      "minorAxis_1[iTrk][2][0] =  1.7679876e-10\n",
      "minorAxis_2[iTrk][0][0] =  11.684402\n",
      "minorAxis_2[iTrk][1][0] =  -13.194561\n",
      "minorAxis_2[iTrk][2][0] =  1.2373537\n",
      "  \n",
      "len(X) =  80000\n",
      "len(Xlist) =  2\n",
      "Loaded /share/lazy/will/data/June30_2020_80k_2.h5 in 146.6 s\n",
      "pocaMx.shape =  (80000,)\n"
     ]
    },
    {
     "name": "stdout",
     "output_type": "stream",
     "text": [
      "nEvts =  80000\n",
      "len(pocaMx[0]) =  196\n",
      "len(pocaMx[1]) =  35\n",
      "len(pocaMx[2]) =  265\n",
      "len(pocaMx[3]) =  128\n",
      "len(pocaMx[4]) =  124\n",
      "majorAxis.shape =  (80000, 3)\n",
      "minorAxis_1.shape =  (80000, 3)\n",
      "minorAxis_2.shape =  (80000, 3)\n",
      "have entered six_ellipsoid_parameters\n",
      "  \n",
      " \n",
      "  nEvts =  80000\n",
      " iEvt, nTrks =  0 196\n",
      " iEvt, nTrks =  1 35\n",
      " iEvt, nTrks =  2 265\n",
      " iEvt, nTrks =  3 128\n",
      " iEvt, nTrks =  4 124\n",
      " iEvt, nTrks =  5 122\n",
      " iEvt, nTrks =  6 300\n",
      " iEvt, nTrks =  7 179\n",
      " iEvt, nTrks =  8 243\n",
      " iEvt, nTrks =  9 112\n",
      "A.shape =  (80000,)\n",
      "majorAxis[iTrk][0][0] =  -2.440992e-05\n",
      "majorAxis[iTrk][1][0] =  -0.00038087237\n",
      "majorAxis[iTrk][2][0] =  0.08211532\n",
      "minorAxis_1[iTrk][0][0] =  -17.631672\n",
      "minorAxis_1[iTrk][1][0] =  1.130005\n",
      "minorAxis_1[iTrk][2][0] =  4.7444193e-08\n",
      "minorAxis_2[iTrk][0][0] =  1.1299927\n",
      "minorAxis_2[iTrk][1][0] =  17.631481\n",
      "minorAxis_2[iTrk][2][0] =  0.08211532\n",
      "  \n",
      "majorAxis[iTrk][0][0] =  -0.02277395\n",
      "majorAxis[iTrk][1][0] =  0.0014473597\n",
      "majorAxis[iTrk][2][0] =  0.6347583\n",
      "minorAxis_1[iTrk][0][0] =  -1.1205891\n",
      "minorAxis_1[iTrk][1][0] =  -17.632273\n",
      "minorAxis_1[iTrk][2][0] =  2.1543272e-09\n",
      "minorAxis_2[iTrk][0][0] =  -17.620888\n",
      "minorAxis_2[iTrk][1][0] =  1.1198657\n",
      "minorAxis_2[iTrk][2][0] =  -0.63475823\n",
      "  \n",
      "majorAxis[iTrk][0][0] =  0.0004024825\n",
      "majorAxis[iTrk][1][0] =  -0.00023784715\n",
      "majorAxis[iTrk][2][0] =  0.090883136\n",
      "minorAxis_1[iTrk][0][0] =  -8.988615\n",
      "minorAxis_1[iTrk][1][0] =  -15.210441\n",
      "minorAxis_1[iTrk][2][0] =  -6.56547e-08\n",
      "minorAxis_2[iTrk][0][0] =  -15.21024\n",
      "minorAxis_2[iTrk][1][0] =  8.988497\n",
      "minorAxis_2[iTrk][2][0] =  0.090883136\n",
      "  \n",
      "majorAxis[iTrk][0][0] =  0.0068744724\n",
      "majorAxis[iTrk][1][0] =  0.0017050834\n",
      "majorAxis[iTrk][2][0] =  0.3537121\n",
      "minorAxis_1[iTrk][0][0] =  4.2532983\n",
      "minorAxis_1[iTrk][1][0] =  -17.148241\n",
      "minorAxis_1[iTrk][2][0] =  1.1939819e-09\n",
      "minorAxis_2[iTrk][0][0] =  -17.144806\n",
      "minorAxis_2[iTrk][1][0] =  -4.252446\n",
      "minorAxis_2[iTrk][2][0] =  0.3537121\n",
      "  \n",
      "majorAxis[iTrk][0][0] =  -0.004920899\n",
      "majorAxis[iTrk][1][0] =  0.0009170567\n",
      "majorAxis[iTrk][2][0] =  0.2973651\n",
      "minorAxis_1[iTrk][0][0] =  -3.236844\n",
      "minorAxis_1[iTrk][1][0] =  -17.36881\n",
      "minorAxis_1[iTrk][2][0] =  -4.7397712e-09\n",
      "minorAxis_2[iTrk][0][0] =  -17.36635\n",
      "minorAxis_2[iTrk][1][0] =  3.2363856\n",
      "minorAxis_2[iTrk][2][0] =  -0.29736507\n",
      "  \n",
      "majorAxis[iTrk][0][0] =  -0.0001240533\n",
      "majorAxis[iTrk][1][0] =  0.00033394952\n",
      "majorAxis[iTrk][2][0] =  0.079335004\n",
      "minorAxis_1[iTrk][0][0] =  -16.562042\n",
      "minorAxis_1[iTrk][1][0] =  -6.1523557\n",
      "minorAxis_1[iTrk][2][0] =  3.1261713e-08\n",
      "minorAxis_2[iTrk][0][0] =  -6.1522937\n",
      "minorAxis_2[iTrk][1][0] =  16.561876\n",
      "minorAxis_2[iTrk][2][0] =  -0.079335004\n",
      "  \n",
      "majorAxis[iTrk][0][0] =  0.00010132754\n",
      "majorAxis[iTrk][1][0] =  6.684385e-05\n",
      "majorAxis[iTrk][2][0] =  0.046310693\n",
      "minorAxis_1[iTrk][0][0] =  -9.728917\n",
      "minorAxis_1[iTrk][1][0] =  14.747911\n",
      "minorAxis_1[iTrk][2][0] =  -2.3591362e-07\n",
      "minorAxis_2[iTrk][0][0] =  14.74786\n",
      "minorAxis_2[iTrk][1][0] =  9.728883\n",
      "minorAxis_2[iTrk][2][0] =  -0.04631069\n",
      "  \n",
      "majorAxis[iTrk][0][0] =  0.0042806785\n",
      "majorAxis[iTrk][1][0] =  0.004939851\n",
      "majorAxis[iTrk][2][0] =  0.3398017\n",
      "minorAxis_1[iTrk][0][0] =  13.3521\n",
      "minorAxis_1[iTrk][1][0] =  -11.5704\n",
      "minorAxis_1[iTrk][2][0] =  1.21654296e-08\n",
      "minorAxis_2[iTrk][0][0] =  -11.56826\n",
      "minorAxis_2[iTrk][1][0] =  -13.349631\n",
      "minorAxis_2[iTrk][2][0] =  0.33980173\n",
      "  \n",
      "majorAxis[iTrk][0][0] =  -0.00013103899\n",
      "majorAxis[iTrk][1][0] =  -0.0006021903\n",
      "majorAxis[iTrk][2][0] =  0.10434653\n",
      "minorAxis_1[iTrk][0][0] =  -17.26384\n",
      "minorAxis_1[iTrk][1][0] =  3.7566798\n",
      "minorAxis_1[iTrk][2][0] =  -9.616703e-08\n",
      "minorAxis_2[iTrk][0][0] =  3.7566135\n",
      "minorAxis_2[iTrk][1][0] =  17.263535\n",
      "minorAxis_2[iTrk][2][0] =  0.10434652\n",
      "  \n",
      "majorAxis[iTrk][0][0] =  0.0016481678\n",
      "majorAxis[iTrk][1][0] =  -0.0019788505\n",
      "majorAxis[iTrk][2][0] =  0.21330062\n",
      "minorAxis_1[iTrk][0][0] =  -13.575765\n",
      "minorAxis_1[iTrk][1][0] =  -11.307139\n",
      "minorAxis_1[iTrk][2][0] =  8.543098e-09\n",
      "minorAxis_2[iTrk][0][0] =  -11.306314\n",
      "minorAxis_2[iTrk][1][0] =  13.574774\n",
      "minorAxis_2[iTrk][2][0] =  0.21330062\n",
      "  \n",
      "len(X) =  80000\n",
      "len(Xlist) =  3\n",
      "Loaded /share/lazy/will/data/June30_2020_80k_3.h5 in 148.4 s\n",
      "pocaMx.shape =  (80000,)\n",
      "nEvts =  80000\n",
      "len(pocaMx[0]) =  204\n",
      "len(pocaMx[1]) =  33\n",
      "len(pocaMx[2]) =  206\n",
      "len(pocaMx[3]) =  150\n",
      "len(pocaMx[4]) =  96\n",
      "majorAxis.shape =  (80000, 3)\n",
      "minorAxis_1.shape =  (80000, 3)\n",
      "minorAxis_2.shape =  (80000, 3)\n",
      "have entered six_ellipsoid_parameters\n",
      "  \n",
      " \n",
      "  nEvts =  80000\n",
      " iEvt, nTrks =  0 204\n",
      " iEvt, nTrks =  1 33\n",
      " iEvt, nTrks =  2 206\n",
      " iEvt, nTrks =  3 150\n",
      " iEvt, nTrks =  4 96\n",
      " iEvt, nTrks =  5 10\n",
      " iEvt, nTrks =  6 174\n",
      " iEvt, nTrks =  7 320\n",
      " iEvt, nTrks =  8 164\n",
      " iEvt, nTrks =  9 119\n",
      "A.shape =  (80000,)\n",
      "majorAxis[iTrk][0][0] =  0.00057876867\n",
      "majorAxis[iTrk][1][0] =  0.00037603904\n",
      "majorAxis[iTrk][2][0] =  0.110427074\n",
      "minorAxis_1[iTrk][0][0] =  9.62588\n",
      "minorAxis_1[iTrk][1][0] =  -14.81537\n",
      "minorAxis_1[iTrk][2][0] =  8.391163e-09\n",
      "minorAxis_2[iTrk][0][0] =  -14.815081\n",
      "minorAxis_2[iTrk][1][0] =  -9.625692\n",
      "minorAxis_2[iTrk][2][0] =  0.11042709\n",
      "  \n",
      "majorAxis[iTrk][0][0] =  -7.687664e-05\n",
      "majorAxis[iTrk][1][0] =  -0.0017985329\n",
      "majorAxis[iTrk][2][0] =  0.17833562\n",
      "minorAxis_1[iTrk][0][0] =  -17.651728\n",
      "minorAxis_1[iTrk][1][0] =  0.7545069\n",
      "minorAxis_1[iTrk][2][0] =  -7.932265e-09\n",
      "minorAxis_2[iTrk][0][0] =  0.75446844\n",
      "minorAxis_2[iTrk][1][0] =  17.650827\n",
      "minorAxis_2[iTrk][2][0] =  0.17833562\n",
      "  \n",
      "majorAxis[iTrk][0][0] =  4.5855802e-05\n",
      "majorAxis[iTrk][1][0] =  -0.00054240844\n",
      "majorAxis[iTrk][2][0] =  0.098067455\n",
      "minorAxis_1[iTrk][0][0] =  17.605043\n",
      "minorAxis_1[iTrk][1][0] =  1.4883496\n",
      "minorAxis_1[iTrk][2][0] =  -2.7847218e-08\n",
      "minorAxis_2[iTrk][0][0] =  1.4883265\n",
      "minorAxis_2[iTrk][1][0] =  -17.604773\n",
      "minorAxis_2[iTrk][2][0] =  -0.098067455\n",
      "  \n",
      "majorAxis[iTrk][0][0] =  -0.0013144773\n",
      "majorAxis[iTrk][1][0] =  0.0008680699\n",
      "majorAxis[iTrk][2][0] =  0.16682307\n",
      "minorAxis_1[iTrk][0][0] =  -9.736217\n",
      "minorAxis_1[iTrk][1][0] =  -14.743094\n",
      "minorAxis_1[iTrk][2][0] =  -1.7552136e-08\n",
      "minorAxis_2[iTrk][0][0] =  -14.742435\n",
      "minorAxis_2[iTrk][1][0] =  9.735782\n",
      "minorAxis_2[iTrk][2][0] =  -0.16682304\n",
      "  \n",
      "majorAxis[iTrk][0][0] =  0.032227762\n",
      "majorAxis[iTrk][1][0] =  0.007741693\n",
      "majorAxis[iTrk][2][0] =  0.76488173\n",
      "minorAxis_1[iTrk][0][0] =  -4.1267405\n",
      "minorAxis_1[iTrk][1][0] =  17.179138\n",
      "minorAxis_1[iTrk][2][0] =  -2.3529467e-10\n",
      "minorAxis_2[iTrk][0][0] =  17.16303\n",
      "minorAxis_2[iTrk][1][0] =  4.122871\n",
      "minorAxis_2[iTrk][2][0] =  -0.7648817\n",
      "  \n",
      "majorAxis[iTrk][0][0] =  1.9753945\n",
      "majorAxis[iTrk][1][0] =  2.5669005\n",
      "majorAxis[iTrk][2][0] =  7.226382\n",
      "minorAxis_1[iTrk][0][0] =  14.0017\n",
      "minorAxis_1[iTrk][1][0] =  -10.7752075\n",
      "minorAxis_1[iTrk][2][0] =  5.3286344e-11\n",
      "minorAxis_2[iTrk][0][0] =  -9.832683\n",
      "minorAxis_2[iTrk][1][0] =  -12.776951\n",
      "minorAxis_2[iTrk][2][0] =  7.226381\n",
      "  \n",
      "majorAxis[iTrk][0][0] =  -0.0026900356\n",
      "majorAxis[iTrk][1][0] =  -0.0015841618\n",
      "majorAxis[iTrk][2][0] =  0.234843\n",
      "minorAxis_1[iTrk][0][0] =  -8.965469\n",
      "minorAxis_1[iTrk][1][0] =  15.224096\n",
      "minorAxis_1[iTrk][2][0] =  2.8236277e-08\n",
      "minorAxis_2[iTrk][0][0] =  15.222751\n",
      "minorAxis_2[iTrk][1][0] =  8.964677\n",
      "minorAxis_2[iTrk][2][0] =  0.234843\n",
      "  \n",
      "majorAxis[iTrk][0][0] =  -0.0001692281\n",
      "majorAxis[iTrk][1][0] =  0.0003505444\n",
      "majorAxis[iTrk][2][0] =  0.08292902\n",
      "minorAxis_1[iTrk][0][0] =  -15.910811\n",
      "minorAxis_1[iTrk][1][0] =  -7.68107\n",
      "minorAxis_1[iTrk][2][0] =  1.587002e-08\n",
      "minorAxis_2[iTrk][0][0] =  -7.680986\n",
      "minorAxis_2[iTrk][1][0] =  15.910635\n",
      "minorAxis_2[iTrk][2][0] =  -0.08292903\n",
      "  \n",
      "majorAxis[iTrk][0][0] =  0.0017714669\n",
      "majorAxis[iTrk][1][0] =  -0.001515166\n",
      "majorAxis[iTrk][2][0] =  0.20293355\n",
      "minorAxis_1[iTrk][0][0] =  11.483943\n",
      "minorAxis_1[iTrk][1][0] =  13.426532\n",
      "minorAxis_1[iTrk][2][0] =  -2.7840934e-09\n",
      "minorAxis_2[iTrk][0][0] =  13.425648\n",
      "minorAxis_2[iTrk][1][0] =  -11.483187\n",
      "minorAxis_2[iTrk][2][0] =  -0.20293356\n",
      "  \n",
      "majorAxis[iTrk][0][0] =  0.0006359923\n",
      "majorAxis[iTrk][1][0] =  -0.0003371759\n",
      "majorAxis[iTrk][2][0] =  0.112773284\n",
      "minorAxis_1[iTrk][0][0] =  8.275655\n",
      "minorAxis_1[iTrk][1][0] =  15.609813\n",
      "minorAxis_1[iTrk][2][0] =  -5.6373224e-08\n",
      "minorAxis_2[iTrk][0][0] =  15.609494\n",
      "minorAxis_2[iTrk][1][0] =  -8.275486\n",
      "minorAxis_2[iTrk][2][0] =  -0.11277328\n",
      "  \n",
      "len(X) =  80000\n",
      "len(Xlist) =  4\n",
      "Loaded /share/lazy/will/data/June30_2020_80k_4.h5 in 146.5 s\n",
      "outer loop X.shape =  (320000, 9, 600)\n",
      "Constructing 320000 event dataset took 2.802 s\n",
      "x_t.shape =  torch.Size([320000, 9, 600])\n",
      "x_t.shape[0] =  320000\n",
      "x_t.shape[1] =  9\n",
      "x_t.shape =  torch.Size([320000, 9, 600])\n"
     ]
    }
   ],
   "source": [
    "## Training dataset. You can put as many files here as desired.\n",
    "\n",
    "##train_loader = collect_t2kde_data('/share/lazy/pv-finder/20k_evts_for_KDE_learning_200716.h5',\n",
    "train_loader = collect_t2kde_data('/share/lazy/will/data/June30_2020_80k_1.h5', \n",
    "                                  '/share/lazy/will/data/June30_2020_80k_2.h5',\n",
    "                                  '/share/lazy/will/data/June30_2020_80k_3.h5',\n",
    "                                  '/share/lazy/will/data/June30_2020_80k_4.h5',\n",
    "                                  #'/share/lazy/will/data/June30_2020_80k_5.h5',\n",
    "                                  #'/share/lazy/will/data/June30_2020_80k_6.h5',\n",
    "                                  #'/share/lazy/will/data/June30_2020_80k_7.h5',\n",
    "                             batch_size=batch_size,\n",
    "## if we are using a larger dataset (240K events, with the datasets above, and 11 GB  of GPU memory),\n",
    "## the dataset will overflow the GPU memory; device=device will allow the data to move back\n",
    "## and forth between the CPU and GPU memory. While this allows use of a larger dataset, it slows\n",
    "## down performance by about 10%.  So comment out when not needed.\n",
    "#                          device=device,\n",
    "##                           slice = slice(None,18000)\n",
    "                           )"
   ]
  },
  {
   "cell_type": "code",
   "execution_count": 16,
   "metadata": {
    "scrolled": false
   },
   "outputs": [
    {
     "name": "stdout",
     "output_type": "stream",
     "text": [
      "Loading data...\n",
      "pocaMx.shape =  (20000,)\n",
      "nEvts =  20000\n",
      "len(pocaMx[0]) =  211\n",
      "len(pocaMx[1]) =  21\n",
      "len(pocaMx[2]) =  20\n",
      "len(pocaMx[3]) =  198\n",
      "len(pocaMx[4]) =  233\n",
      "majorAxis.shape =  (20000, 3)\n",
      "minorAxis_1.shape =  (20000, 3)\n",
      "minorAxis_2.shape =  (20000, 3)\n",
      "have entered six_ellipsoid_parameters\n",
      "  \n",
      " \n",
      "  nEvts =  20000\n",
      " iEvt, nTrks =  0 211\n",
      " iEvt, nTrks =  1 21\n",
      " iEvt, nTrks =  2 20\n",
      " iEvt, nTrks =  3 198\n",
      " iEvt, nTrks =  4 233\n",
      " iEvt, nTrks =  5 85\n",
      " iEvt, nTrks =  6 223\n",
      " iEvt, nTrks =  7 425\n",
      " iEvt, nTrks =  8 252\n",
      " iEvt, nTrks =  9 169\n",
      "A.shape =  (20000,)\n",
      "majorAxis[iTrk][0][0] =  -0.00023452607\n",
      "majorAxis[iTrk][1][0] =  -0.00047206535\n",
      "majorAxis[iTrk][2][0] =  0.096502915\n",
      "minorAxis_1[iTrk][0][0] =  -15.822749\n",
      "minorAxis_1[iTrk][1][0] =  7.8608756\n",
      "minorAxis_1[iTrk][2][0] =  -2.6228399e-08\n",
      "minorAxis_2[iTrk][0][0] =  7.860759\n",
      "minorAxis_2[iTrk][1][0] =  15.822513\n",
      "minorAxis_2[iTrk][2][0] =  0.096502915\n",
      "  \n",
      "majorAxis[iTrk][0][0] =  -0.37655562\n",
      "majorAxis[iTrk][1][0] =  0.2768704\n",
      "majorAxis[iTrk][2][0] =  2.8546858\n",
      "minorAxis_1[iTrk][0][0] =  -10.466048\n",
      "minorAxis_1[iTrk][1][0] =  -14.234274\n",
      "minorAxis_1[iTrk][2][0] =  2.2974699e-11\n",
      "minorAxis_2[iTrk][0][0] =  -14.04724\n",
      "minorAxis_2[iTrk][1][0] =  10.328527\n",
      "minorAxis_2[iTrk][2][0] =  -2.8546853\n",
      "  \n",
      "majorAxis[iTrk][0][0] =  -0.024279848\n",
      "majorAxis[iTrk][1][0] =  0.0019689242\n",
      "majorAxis[iTrk][2][0] =  0.65580803\n",
      "minorAxis_1[iTrk][0][0] =  -1.4280497\n",
      "minorAxis_1[iTrk][1][0] =  -17.610037\n",
      "minorAxis_1[iTrk][2][0] =  -6.123401e-10\n",
      "minorAxis_2[iTrk][0][0] =  -17.597902\n",
      "minorAxis_2[iTrk][1][0] =  1.4270656\n",
      "minorAxis_2[iTrk][2][0] =  -0.6558081\n",
      "  \n",
      "majorAxis[iTrk][0][0] =  -0.007825993\n",
      "majorAxis[iTrk][1][0] =  0.004052097\n",
      "majorAxis[iTrk][2][0] =  0.3945435\n",
      "minorAxis_1[iTrk][0][0] =  8.123606\n",
      "minorAxis_1[iTrk][1][0] =  15.689478\n",
      "minorAxis_1[iTrk][2][0] =  -2.4940747e-10\n",
      "minorAxis_2[iTrk][0][0] =  15.685566\n",
      "minorAxis_2[iTrk][1][0] =  -8.12158\n",
      "minorAxis_2[iTrk][2][0] =  0.3945435\n",
      "  \n",
      "majorAxis[iTrk][0][0] =  0.0046102717\n",
      "majorAxis[iTrk][1][0] =  -0.0016007021\n",
      "majorAxis[iTrk][2][0] =  0.29361814\n",
      "minorAxis_1[iTrk][0][0] =  -5.794979\n",
      "minorAxis_1[iTrk][1][0] =  -16.690445\n",
      "minorAxis_1[iTrk][2][0] =  2.4897104e-09\n",
      "minorAxis_2[iTrk][0][0] =  -16.688139\n",
      "minorAxis_2[iTrk][1][0] =  5.794179\n",
      "minorAxis_2[iTrk][2][0] =  0.2936181\n",
      "  \n",
      "majorAxis[iTrk][0][0] =  -0.00020041714\n",
      "majorAxis[iTrk][1][0] =  0.00010468164\n",
      "majorAxis[iTrk][2][0] =  0.06320469\n",
      "minorAxis_1[iTrk][0][0] =  8.179679\n",
      "minorAxis_1[iTrk][1][0] =  15.660318\n",
      "minorAxis_1[iTrk][2][0] =  7.40176e-08\n",
      "minorAxis_2[iTrk][0][0] =  15.660218\n",
      "minorAxis_2[iTrk][1][0] =  -8.179626\n",
      "minorAxis_2[iTrk][2][0] =  0.06320469\n",
      "  \n",
      "majorAxis[iTrk][0][0] =  -0.00020603223\n",
      "majorAxis[iTrk][1][0] =  -0.0005662605\n",
      "majorAxis[iTrk][2][0] =  0.10317981\n",
      "minorAxis_1[iTrk][0][0] =  -16.603\n",
      "minorAxis_1[iTrk][1][0] =  6.040953\n",
      "minorAxis_1[iTrk][2][0] =  4.5812504e-07\n",
      "minorAxis_2[iTrk][0][0] =  6.0408506\n",
      "minorAxis_2[iTrk][1][0] =  16.602718\n",
      "minorAxis_2[iTrk][2][0] =  0.10317982\n",
      "  \n",
      "majorAxis[iTrk][0][0] =  -0.00040561036\n",
      "majorAxis[iTrk][1][0] =  0.00014461782\n",
      "majorAxis[iTrk][2][0] =  0.0872241\n",
      "minorAxis_1[iTrk][0][0] =  -5.933496\n",
      "minorAxis_1[iTrk][1][0] =  -16.641706\n",
      "minorAxis_1[iTrk][2][0] =  1.0720762e-08\n",
      "minorAxis_2[iTrk][0][0] =  -16.641502\n",
      "minorAxis_2[iTrk][1][0] =  5.9334235\n",
      "minorAxis_2[iTrk][2][0] =  -0.0872241\n",
      "  \n",
      "majorAxis[iTrk][0][0] =  0.00038461428\n",
      "majorAxis[iTrk][1][0] =  -3.4232737e-05\n",
      "majorAxis[iTrk][2][0] =  0.08259597\n",
      "minorAxis_1[iTrk][0][0] =  -1.5663412\n",
      "minorAxis_1[iTrk][1][0] =  -17.598276\n",
      "minorAxis_1[iTrk][2][0] =  3.2106848e-07\n",
      "minorAxis_2[iTrk][0][0] =  -17.598082\n",
      "minorAxis_2[iTrk][1][0] =  1.5663238\n",
      "minorAxis_2[iTrk][2][0] =  0.08259596\n",
      "  \n",
      "majorAxis[iTrk][0][0] =  -0.022277953\n",
      "majorAxis[iTrk][1][0] =  -0.0046837274\n",
      "majorAxis[iTrk][2][0] =  0.63399464\n",
      "minorAxis_1[iTrk][0][0] =  -3.6350286\n",
      "minorAxis_1[iTrk][1][0] =  17.289862\n",
      "minorAxis_1[iTrk][2][0] =  9.566169e-10\n",
      "minorAxis_2[iTrk][0][0] =  17.278727\n",
      "minorAxis_2[iTrk][1][0] =  3.6326876\n",
      "minorAxis_2[iTrk][2][0] =  0.6339946\n",
      "  \n",
      "len(X) =  20000\n",
      "len(Xlist) =  1\n",
      "Loaded dataAA/20K_POCA_kernel_evts_200926.h5 in 35.99 s\n",
      "outer loop X.shape =  (20000, 9, 600)\n",
      "Constructing 10000 event dataset took 0.05094 s\n",
      "x_t.shape =  torch.Size([10000, 9, 600])\n",
      "x_t.shape[0] =  10000\n",
      "x_t.shape[1] =  9\n",
      "x_t.shape =  torch.Size([10000, 9, 600])\n"
     ]
    }
   ],
   "source": [
    "                            \n",
    "# Validation dataset. You can slice to reduce the size.\n",
    "## mds no separate validation set yet,\n",
    "\n",
    "## For iter12, change slice(18000,None) to slice(10000,None)\n",
    "## First, we'll see if this changes the validation cost significantly\n",
    "##  Second, we will see if this reduces the validation cost fluctuations\n",
    "val_loader = collect_t2kde_data('dataAA/20K_POCA_kernel_evts_200926.h5',\n",
    "                            batch_size=batch_size,\n",
    "##                            device=device,\n",
    "                            slice = slice(10000,None)\n",
    "                           )"
   ]
  },
  {
   "cell_type": "code",
   "execution_count": 17,
   "metadata": {
    "scrolled": false
   },
   "outputs": [
    {
     "data": {
      "application/javascript": [
       "/* Put everything inside the global mpl namespace */\n",
       "window.mpl = {};\n",
       "\n",
       "\n",
       "mpl.get_websocket_type = function() {\n",
       "    if (typeof(WebSocket) !== 'undefined') {\n",
       "        return WebSocket;\n",
       "    } else if (typeof(MozWebSocket) !== 'undefined') {\n",
       "        return MozWebSocket;\n",
       "    } else {\n",
       "        alert('Your browser does not have WebSocket support. ' +\n",
       "              'Please try Chrome, Safari or Firefox ≥ 6. ' +\n",
       "              'Firefox 4 and 5 are also supported but you ' +\n",
       "              'have to enable WebSockets in about:config.');\n",
       "    };\n",
       "}\n",
       "\n",
       "mpl.figure = function(figure_id, websocket, ondownload, parent_element) {\n",
       "    this.id = figure_id;\n",
       "\n",
       "    this.ws = websocket;\n",
       "\n",
       "    this.supports_binary = (this.ws.binaryType != undefined);\n",
       "\n",
       "    if (!this.supports_binary) {\n",
       "        var warnings = document.getElementById(\"mpl-warnings\");\n",
       "        if (warnings) {\n",
       "            warnings.style.display = 'block';\n",
       "            warnings.textContent = (\n",
       "                \"This browser does not support binary websocket messages. \" +\n",
       "                    \"Performance may be slow.\");\n",
       "        }\n",
       "    }\n",
       "\n",
       "    this.imageObj = new Image();\n",
       "\n",
       "    this.context = undefined;\n",
       "    this.message = undefined;\n",
       "    this.canvas = undefined;\n",
       "    this.rubberband_canvas = undefined;\n",
       "    this.rubberband_context = undefined;\n",
       "    this.format_dropdown = undefined;\n",
       "\n",
       "    this.image_mode = 'full';\n",
       "\n",
       "    this.root = $('<div/>');\n",
       "    this._root_extra_style(this.root)\n",
       "    this.root.attr('style', 'display: inline-block');\n",
       "\n",
       "    $(parent_element).append(this.root);\n",
       "\n",
       "    this._init_header(this);\n",
       "    this._init_canvas(this);\n",
       "    this._init_toolbar(this);\n",
       "\n",
       "    var fig = this;\n",
       "\n",
       "    this.waiting = false;\n",
       "\n",
       "    this.ws.onopen =  function () {\n",
       "            fig.send_message(\"supports_binary\", {value: fig.supports_binary});\n",
       "            fig.send_message(\"send_image_mode\", {});\n",
       "            if (mpl.ratio != 1) {\n",
       "                fig.send_message(\"set_dpi_ratio\", {'dpi_ratio': mpl.ratio});\n",
       "            }\n",
       "            fig.send_message(\"refresh\", {});\n",
       "        }\n",
       "\n",
       "    this.imageObj.onload = function() {\n",
       "            if (fig.image_mode == 'full') {\n",
       "                // Full images could contain transparency (where diff images\n",
       "                // almost always do), so we need to clear the canvas so that\n",
       "                // there is no ghosting.\n",
       "                fig.context.clearRect(0, 0, fig.canvas.width, fig.canvas.height);\n",
       "            }\n",
       "            fig.context.drawImage(fig.imageObj, 0, 0);\n",
       "        };\n",
       "\n",
       "    this.imageObj.onunload = function() {\n",
       "        fig.ws.close();\n",
       "    }\n",
       "\n",
       "    this.ws.onmessage = this._make_on_message_function(this);\n",
       "\n",
       "    this.ondownload = ondownload;\n",
       "}\n",
       "\n",
       "mpl.figure.prototype._init_header = function() {\n",
       "    var titlebar = $(\n",
       "        '<div class=\"ui-dialog-titlebar ui-widget-header ui-corner-all ' +\n",
       "        'ui-helper-clearfix\"/>');\n",
       "    var titletext = $(\n",
       "        '<div class=\"ui-dialog-title\" style=\"width: 100%; ' +\n",
       "        'text-align: center; padding: 3px;\"/>');\n",
       "    titlebar.append(titletext)\n",
       "    this.root.append(titlebar);\n",
       "    this.header = titletext[0];\n",
       "}\n",
       "\n",
       "\n",
       "\n",
       "mpl.figure.prototype._canvas_extra_style = function(canvas_div) {\n",
       "\n",
       "}\n",
       "\n",
       "\n",
       "mpl.figure.prototype._root_extra_style = function(canvas_div) {\n",
       "\n",
       "}\n",
       "\n",
       "mpl.figure.prototype._init_canvas = function() {\n",
       "    var fig = this;\n",
       "\n",
       "    var canvas_div = $('<div/>');\n",
       "\n",
       "    canvas_div.attr('style', 'position: relative; clear: both; outline: 0');\n",
       "\n",
       "    function canvas_keyboard_event(event) {\n",
       "        return fig.key_event(event, event['data']);\n",
       "    }\n",
       "\n",
       "    canvas_div.keydown('key_press', canvas_keyboard_event);\n",
       "    canvas_div.keyup('key_release', canvas_keyboard_event);\n",
       "    this.canvas_div = canvas_div\n",
       "    this._canvas_extra_style(canvas_div)\n",
       "    this.root.append(canvas_div);\n",
       "\n",
       "    var canvas = $('<canvas/>');\n",
       "    canvas.addClass('mpl-canvas');\n",
       "    canvas.attr('style', \"left: 0; top: 0; z-index: 0; outline: 0\")\n",
       "\n",
       "    this.canvas = canvas[0];\n",
       "    this.context = canvas[0].getContext(\"2d\");\n",
       "\n",
       "    var backingStore = this.context.backingStorePixelRatio ||\n",
       "\tthis.context.webkitBackingStorePixelRatio ||\n",
       "\tthis.context.mozBackingStorePixelRatio ||\n",
       "\tthis.context.msBackingStorePixelRatio ||\n",
       "\tthis.context.oBackingStorePixelRatio ||\n",
       "\tthis.context.backingStorePixelRatio || 1;\n",
       "\n",
       "    mpl.ratio = (window.devicePixelRatio || 1) / backingStore;\n",
       "\n",
       "    var rubberband = $('<canvas/>');\n",
       "    rubberband.attr('style', \"position: absolute; left: 0; top: 0; z-index: 1;\")\n",
       "\n",
       "    var pass_mouse_events = true;\n",
       "\n",
       "    canvas_div.resizable({\n",
       "        start: function(event, ui) {\n",
       "            pass_mouse_events = false;\n",
       "        },\n",
       "        resize: function(event, ui) {\n",
       "            fig.request_resize(ui.size.width, ui.size.height);\n",
       "        },\n",
       "        stop: function(event, ui) {\n",
       "            pass_mouse_events = true;\n",
       "            fig.request_resize(ui.size.width, ui.size.height);\n",
       "        },\n",
       "    });\n",
       "\n",
       "    function mouse_event_fn(event) {\n",
       "        if (pass_mouse_events)\n",
       "            return fig.mouse_event(event, event['data']);\n",
       "    }\n",
       "\n",
       "    rubberband.mousedown('button_press', mouse_event_fn);\n",
       "    rubberband.mouseup('button_release', mouse_event_fn);\n",
       "    // Throttle sequential mouse events to 1 every 20ms.\n",
       "    rubberband.mousemove('motion_notify', mouse_event_fn);\n",
       "\n",
       "    rubberband.mouseenter('figure_enter', mouse_event_fn);\n",
       "    rubberband.mouseleave('figure_leave', mouse_event_fn);\n",
       "\n",
       "    canvas_div.on(\"wheel\", function (event) {\n",
       "        event = event.originalEvent;\n",
       "        event['data'] = 'scroll'\n",
       "        if (event.deltaY < 0) {\n",
       "            event.step = 1;\n",
       "        } else {\n",
       "            event.step = -1;\n",
       "        }\n",
       "        mouse_event_fn(event);\n",
       "    });\n",
       "\n",
       "    canvas_div.append(canvas);\n",
       "    canvas_div.append(rubberband);\n",
       "\n",
       "    this.rubberband = rubberband;\n",
       "    this.rubberband_canvas = rubberband[0];\n",
       "    this.rubberband_context = rubberband[0].getContext(\"2d\");\n",
       "    this.rubberband_context.strokeStyle = \"#000000\";\n",
       "\n",
       "    this._resize_canvas = function(width, height) {\n",
       "        // Keep the size of the canvas, canvas container, and rubber band\n",
       "        // canvas in synch.\n",
       "        canvas_div.css('width', width)\n",
       "        canvas_div.css('height', height)\n",
       "\n",
       "        canvas.attr('width', width * mpl.ratio);\n",
       "        canvas.attr('height', height * mpl.ratio);\n",
       "        canvas.attr('style', 'width: ' + width + 'px; height: ' + height + 'px;');\n",
       "\n",
       "        rubberband.attr('width', width);\n",
       "        rubberband.attr('height', height);\n",
       "    }\n",
       "\n",
       "    // Set the figure to an initial 600x600px, this will subsequently be updated\n",
       "    // upon first draw.\n",
       "    this._resize_canvas(600, 600);\n",
       "\n",
       "    // Disable right mouse context menu.\n",
       "    $(this.rubberband_canvas).bind(\"contextmenu\",function(e){\n",
       "        return false;\n",
       "    });\n",
       "\n",
       "    function set_focus () {\n",
       "        canvas.focus();\n",
       "        canvas_div.focus();\n",
       "    }\n",
       "\n",
       "    window.setTimeout(set_focus, 100);\n",
       "}\n",
       "\n",
       "mpl.figure.prototype._init_toolbar = function() {\n",
       "    var fig = this;\n",
       "\n",
       "    var nav_element = $('<div/>');\n",
       "    nav_element.attr('style', 'width: 100%');\n",
       "    this.root.append(nav_element);\n",
       "\n",
       "    // Define a callback function for later on.\n",
       "    function toolbar_event(event) {\n",
       "        return fig.toolbar_button_onclick(event['data']);\n",
       "    }\n",
       "    function toolbar_mouse_event(event) {\n",
       "        return fig.toolbar_button_onmouseover(event['data']);\n",
       "    }\n",
       "\n",
       "    for(var toolbar_ind in mpl.toolbar_items) {\n",
       "        var name = mpl.toolbar_items[toolbar_ind][0];\n",
       "        var tooltip = mpl.toolbar_items[toolbar_ind][1];\n",
       "        var image = mpl.toolbar_items[toolbar_ind][2];\n",
       "        var method_name = mpl.toolbar_items[toolbar_ind][3];\n",
       "\n",
       "        if (!name) {\n",
       "            // put a spacer in here.\n",
       "            continue;\n",
       "        }\n",
       "        var button = $('<button/>');\n",
       "        button.addClass('ui-button ui-widget ui-state-default ui-corner-all ' +\n",
       "                        'ui-button-icon-only');\n",
       "        button.attr('role', 'button');\n",
       "        button.attr('aria-disabled', 'false');\n",
       "        button.click(method_name, toolbar_event);\n",
       "        button.mouseover(tooltip, toolbar_mouse_event);\n",
       "\n",
       "        var icon_img = $('<span/>');\n",
       "        icon_img.addClass('ui-button-icon-primary ui-icon');\n",
       "        icon_img.addClass(image);\n",
       "        icon_img.addClass('ui-corner-all');\n",
       "\n",
       "        var tooltip_span = $('<span/>');\n",
       "        tooltip_span.addClass('ui-button-text');\n",
       "        tooltip_span.html(tooltip);\n",
       "\n",
       "        button.append(icon_img);\n",
       "        button.append(tooltip_span);\n",
       "\n",
       "        nav_element.append(button);\n",
       "    }\n",
       "\n",
       "    var fmt_picker_span = $('<span/>');\n",
       "\n",
       "    var fmt_picker = $('<select/>');\n",
       "    fmt_picker.addClass('mpl-toolbar-option ui-widget ui-widget-content');\n",
       "    fmt_picker_span.append(fmt_picker);\n",
       "    nav_element.append(fmt_picker_span);\n",
       "    this.format_dropdown = fmt_picker[0];\n",
       "\n",
       "    for (var ind in mpl.extensions) {\n",
       "        var fmt = mpl.extensions[ind];\n",
       "        var option = $(\n",
       "            '<option/>', {selected: fmt === mpl.default_extension}).html(fmt);\n",
       "        fmt_picker.append(option);\n",
       "    }\n",
       "\n",
       "    // Add hover states to the ui-buttons\n",
       "    $( \".ui-button\" ).hover(\n",
       "        function() { $(this).addClass(\"ui-state-hover\");},\n",
       "        function() { $(this).removeClass(\"ui-state-hover\");}\n",
       "    );\n",
       "\n",
       "    var status_bar = $('<span class=\"mpl-message\"/>');\n",
       "    nav_element.append(status_bar);\n",
       "    this.message = status_bar[0];\n",
       "}\n",
       "\n",
       "mpl.figure.prototype.request_resize = function(x_pixels, y_pixels) {\n",
       "    // Request matplotlib to resize the figure. Matplotlib will then trigger a resize in the client,\n",
       "    // which will in turn request a refresh of the image.\n",
       "    this.send_message('resize', {'width': x_pixels, 'height': y_pixels});\n",
       "}\n",
       "\n",
       "mpl.figure.prototype.send_message = function(type, properties) {\n",
       "    properties['type'] = type;\n",
       "    properties['figure_id'] = this.id;\n",
       "    this.ws.send(JSON.stringify(properties));\n",
       "}\n",
       "\n",
       "mpl.figure.prototype.send_draw_message = function() {\n",
       "    if (!this.waiting) {\n",
       "        this.waiting = true;\n",
       "        this.ws.send(JSON.stringify({type: \"draw\", figure_id: this.id}));\n",
       "    }\n",
       "}\n",
       "\n",
       "\n",
       "mpl.figure.prototype.handle_save = function(fig, msg) {\n",
       "    var format_dropdown = fig.format_dropdown;\n",
       "    var format = format_dropdown.options[format_dropdown.selectedIndex].value;\n",
       "    fig.ondownload(fig, format);\n",
       "}\n",
       "\n",
       "\n",
       "mpl.figure.prototype.handle_resize = function(fig, msg) {\n",
       "    var size = msg['size'];\n",
       "    if (size[0] != fig.canvas.width || size[1] != fig.canvas.height) {\n",
       "        fig._resize_canvas(size[0], size[1]);\n",
       "        fig.send_message(\"refresh\", {});\n",
       "    };\n",
       "}\n",
       "\n",
       "mpl.figure.prototype.handle_rubberband = function(fig, msg) {\n",
       "    var x0 = msg['x0'] / mpl.ratio;\n",
       "    var y0 = (fig.canvas.height - msg['y0']) / mpl.ratio;\n",
       "    var x1 = msg['x1'] / mpl.ratio;\n",
       "    var y1 = (fig.canvas.height - msg['y1']) / mpl.ratio;\n",
       "    x0 = Math.floor(x0) + 0.5;\n",
       "    y0 = Math.floor(y0) + 0.5;\n",
       "    x1 = Math.floor(x1) + 0.5;\n",
       "    y1 = Math.floor(y1) + 0.5;\n",
       "    var min_x = Math.min(x0, x1);\n",
       "    var min_y = Math.min(y0, y1);\n",
       "    var width = Math.abs(x1 - x0);\n",
       "    var height = Math.abs(y1 - y0);\n",
       "\n",
       "    fig.rubberband_context.clearRect(\n",
       "        0, 0, fig.canvas.width / mpl.ratio, fig.canvas.height / mpl.ratio);\n",
       "\n",
       "    fig.rubberband_context.strokeRect(min_x, min_y, width, height);\n",
       "}\n",
       "\n",
       "mpl.figure.prototype.handle_figure_label = function(fig, msg) {\n",
       "    // Updates the figure title.\n",
       "    fig.header.textContent = msg['label'];\n",
       "}\n",
       "\n",
       "mpl.figure.prototype.handle_cursor = function(fig, msg) {\n",
       "    var cursor = msg['cursor'];\n",
       "    switch(cursor)\n",
       "    {\n",
       "    case 0:\n",
       "        cursor = 'pointer';\n",
       "        break;\n",
       "    case 1:\n",
       "        cursor = 'default';\n",
       "        break;\n",
       "    case 2:\n",
       "        cursor = 'crosshair';\n",
       "        break;\n",
       "    case 3:\n",
       "        cursor = 'move';\n",
       "        break;\n",
       "    }\n",
       "    fig.rubberband_canvas.style.cursor = cursor;\n",
       "}\n",
       "\n",
       "mpl.figure.prototype.handle_message = function(fig, msg) {\n",
       "    fig.message.textContent = msg['message'];\n",
       "}\n",
       "\n",
       "mpl.figure.prototype.handle_draw = function(fig, msg) {\n",
       "    // Request the server to send over a new figure.\n",
       "    fig.send_draw_message();\n",
       "}\n",
       "\n",
       "mpl.figure.prototype.handle_image_mode = function(fig, msg) {\n",
       "    fig.image_mode = msg['mode'];\n",
       "}\n",
       "\n",
       "mpl.figure.prototype.updated_canvas_event = function() {\n",
       "    // Called whenever the canvas gets updated.\n",
       "    this.send_message(\"ack\", {});\n",
       "}\n",
       "\n",
       "// A function to construct a web socket function for onmessage handling.\n",
       "// Called in the figure constructor.\n",
       "mpl.figure.prototype._make_on_message_function = function(fig) {\n",
       "    return function socket_on_message(evt) {\n",
       "        if (evt.data instanceof Blob) {\n",
       "            /* FIXME: We get \"Resource interpreted as Image but\n",
       "             * transferred with MIME type text/plain:\" errors on\n",
       "             * Chrome.  But how to set the MIME type?  It doesn't seem\n",
       "             * to be part of the websocket stream */\n",
       "            evt.data.type = \"image/png\";\n",
       "\n",
       "            /* Free the memory for the previous frames */\n",
       "            if (fig.imageObj.src) {\n",
       "                (window.URL || window.webkitURL).revokeObjectURL(\n",
       "                    fig.imageObj.src);\n",
       "            }\n",
       "\n",
       "            fig.imageObj.src = (window.URL || window.webkitURL).createObjectURL(\n",
       "                evt.data);\n",
       "            fig.updated_canvas_event();\n",
       "            fig.waiting = false;\n",
       "            return;\n",
       "        }\n",
       "        else if (typeof evt.data === 'string' && evt.data.slice(0, 21) == \"data:image/png;base64\") {\n",
       "            fig.imageObj.src = evt.data;\n",
       "            fig.updated_canvas_event();\n",
       "            fig.waiting = false;\n",
       "            return;\n",
       "        }\n",
       "\n",
       "        var msg = JSON.parse(evt.data);\n",
       "        var msg_type = msg['type'];\n",
       "\n",
       "        // Call the  \"handle_{type}\" callback, which takes\n",
       "        // the figure and JSON message as its only arguments.\n",
       "        try {\n",
       "            var callback = fig[\"handle_\" + msg_type];\n",
       "        } catch (e) {\n",
       "            console.log(\"No handler for the '\" + msg_type + \"' message type: \", msg);\n",
       "            return;\n",
       "        }\n",
       "\n",
       "        if (callback) {\n",
       "            try {\n",
       "                // console.log(\"Handling '\" + msg_type + \"' message: \", msg);\n",
       "                callback(fig, msg);\n",
       "            } catch (e) {\n",
       "                console.log(\"Exception inside the 'handler_\" + msg_type + \"' callback:\", e, e.stack, msg);\n",
       "            }\n",
       "        }\n",
       "    };\n",
       "}\n",
       "\n",
       "// from http://stackoverflow.com/questions/1114465/getting-mouse-location-in-canvas\n",
       "mpl.findpos = function(e) {\n",
       "    //this section is from http://www.quirksmode.org/js/events_properties.html\n",
       "    var targ;\n",
       "    if (!e)\n",
       "        e = window.event;\n",
       "    if (e.target)\n",
       "        targ = e.target;\n",
       "    else if (e.srcElement)\n",
       "        targ = e.srcElement;\n",
       "    if (targ.nodeType == 3) // defeat Safari bug\n",
       "        targ = targ.parentNode;\n",
       "\n",
       "    // jQuery normalizes the pageX and pageY\n",
       "    // pageX,Y are the mouse positions relative to the document\n",
       "    // offset() returns the position of the element relative to the document\n",
       "    var x = e.pageX - $(targ).offset().left;\n",
       "    var y = e.pageY - $(targ).offset().top;\n",
       "\n",
       "    return {\"x\": x, \"y\": y};\n",
       "};\n",
       "\n",
       "/*\n",
       " * return a copy of an object with only non-object keys\n",
       " * we need this to avoid circular references\n",
       " * http://stackoverflow.com/a/24161582/3208463\n",
       " */\n",
       "function simpleKeys (original) {\n",
       "  return Object.keys(original).reduce(function (obj, key) {\n",
       "    if (typeof original[key] !== 'object')\n",
       "        obj[key] = original[key]\n",
       "    return obj;\n",
       "  }, {});\n",
       "}\n",
       "\n",
       "mpl.figure.prototype.mouse_event = function(event, name) {\n",
       "    var canvas_pos = mpl.findpos(event)\n",
       "\n",
       "    if (name === 'button_press')\n",
       "    {\n",
       "        this.canvas.focus();\n",
       "        this.canvas_div.focus();\n",
       "    }\n",
       "\n",
       "    var x = canvas_pos.x * mpl.ratio;\n",
       "    var y = canvas_pos.y * mpl.ratio;\n",
       "\n",
       "    this.send_message(name, {x: x, y: y, button: event.button,\n",
       "                             step: event.step,\n",
       "                             guiEvent: simpleKeys(event)});\n",
       "\n",
       "    /* This prevents the web browser from automatically changing to\n",
       "     * the text insertion cursor when the button is pressed.  We want\n",
       "     * to control all of the cursor setting manually through the\n",
       "     * 'cursor' event from matplotlib */\n",
       "    event.preventDefault();\n",
       "    return false;\n",
       "}\n",
       "\n",
       "mpl.figure.prototype._key_event_extra = function(event, name) {\n",
       "    // Handle any extra behaviour associated with a key event\n",
       "}\n",
       "\n",
       "mpl.figure.prototype.key_event = function(event, name) {\n",
       "\n",
       "    // Prevent repeat events\n",
       "    if (name == 'key_press')\n",
       "    {\n",
       "        if (event.which === this._key)\n",
       "            return;\n",
       "        else\n",
       "            this._key = event.which;\n",
       "    }\n",
       "    if (name == 'key_release')\n",
       "        this._key = null;\n",
       "\n",
       "    var value = '';\n",
       "    if (event.ctrlKey && event.which != 17)\n",
       "        value += \"ctrl+\";\n",
       "    if (event.altKey && event.which != 18)\n",
       "        value += \"alt+\";\n",
       "    if (event.shiftKey && event.which != 16)\n",
       "        value += \"shift+\";\n",
       "\n",
       "    value += 'k';\n",
       "    value += event.which.toString();\n",
       "\n",
       "    this._key_event_extra(event, name);\n",
       "\n",
       "    this.send_message(name, {key: value,\n",
       "                             guiEvent: simpleKeys(event)});\n",
       "    return false;\n",
       "}\n",
       "\n",
       "mpl.figure.prototype.toolbar_button_onclick = function(name) {\n",
       "    if (name == 'download') {\n",
       "        this.handle_save(this, null);\n",
       "    } else {\n",
       "        this.send_message(\"toolbar_button\", {name: name});\n",
       "    }\n",
       "};\n",
       "\n",
       "mpl.figure.prototype.toolbar_button_onmouseover = function(tooltip) {\n",
       "    this.message.textContent = tooltip;\n",
       "};\n",
       "mpl.toolbar_items = [[\"Home\", \"Reset original view\", \"fa fa-home icon-home\", \"home\"], [\"Back\", \"Back to previous view\", \"fa fa-arrow-left icon-arrow-left\", \"back\"], [\"Forward\", \"Forward to next view\", \"fa fa-arrow-right icon-arrow-right\", \"forward\"], [\"\", \"\", \"\", \"\"], [\"Pan\", \"Pan axes with left mouse, zoom with right\", \"fa fa-arrows icon-move\", \"pan\"], [\"Zoom\", \"Zoom to rectangle\", \"fa fa-square-o icon-check-empty\", \"zoom\"], [\"\", \"\", \"\", \"\"], [\"Download\", \"Download plot\", \"fa fa-floppy-o icon-save\", \"download\"]];\n",
       "\n",
       "mpl.extensions = [\"eps\", \"jpeg\", \"pdf\", \"png\", \"ps\", \"raw\", \"svg\", \"tif\"];\n",
       "\n",
       "mpl.default_extension = \"png\";var comm_websocket_adapter = function(comm) {\n",
       "    // Create a \"websocket\"-like object which calls the given IPython comm\n",
       "    // object with the appropriate methods. Currently this is a non binary\n",
       "    // socket, so there is still some room for performance tuning.\n",
       "    var ws = {};\n",
       "\n",
       "    ws.close = function() {\n",
       "        comm.close()\n",
       "    };\n",
       "    ws.send = function(m) {\n",
       "        //console.log('sending', m);\n",
       "        comm.send(m);\n",
       "    };\n",
       "    // Register the callback with on_msg.\n",
       "    comm.on_msg(function(msg) {\n",
       "        //console.log('receiving', msg['content']['data'], msg);\n",
       "        // Pass the mpl event to the overridden (by mpl) onmessage function.\n",
       "        ws.onmessage(msg['content']['data'])\n",
       "    });\n",
       "    return ws;\n",
       "}\n",
       "\n",
       "mpl.mpl_figure_comm = function(comm, msg) {\n",
       "    // This is the function which gets called when the mpl process\n",
       "    // starts-up an IPython Comm through the \"matplotlib\" channel.\n",
       "\n",
       "    var id = msg.content.data.id;\n",
       "    // Get hold of the div created by the display call when the Comm\n",
       "    // socket was opened in Python.\n",
       "    var element = $(\"#\" + id);\n",
       "    var ws_proxy = comm_websocket_adapter(comm)\n",
       "\n",
       "    function ondownload(figure, format) {\n",
       "        window.open(figure.imageObj.src);\n",
       "    }\n",
       "\n",
       "    var fig = new mpl.figure(id, ws_proxy,\n",
       "                           ondownload,\n",
       "                           element.get(0));\n",
       "\n",
       "    // Call onopen now - mpl needs it, as it is assuming we've passed it a real\n",
       "    // web socket which is closed, not our websocket->open comm proxy.\n",
       "    ws_proxy.onopen();\n",
       "\n",
       "    fig.parent_element = element.get(0);\n",
       "    fig.cell_info = mpl.find_output_cell(\"<div id='\" + id + \"'></div>\");\n",
       "    if (!fig.cell_info) {\n",
       "        console.error(\"Failed to find cell for figure\", id, fig);\n",
       "        return;\n",
       "    }\n",
       "\n",
       "    var output_index = fig.cell_info[2]\n",
       "    var cell = fig.cell_info[0];\n",
       "\n",
       "};\n",
       "\n",
       "mpl.figure.prototype.handle_close = function(fig, msg) {\n",
       "    var width = fig.canvas.width/mpl.ratio\n",
       "    fig.root.unbind('remove')\n",
       "\n",
       "    // Update the output cell to use the data from the current canvas.\n",
       "    fig.push_to_output();\n",
       "    var dataURL = fig.canvas.toDataURL();\n",
       "    // Re-enable the keyboard manager in IPython - without this line, in FF,\n",
       "    // the notebook keyboard shortcuts fail.\n",
       "    IPython.keyboard_manager.enable()\n",
       "    $(fig.parent_element).html('<img src=\"' + dataURL + '\" width=\"' + width + '\">');\n",
       "    fig.close_ws(fig, msg);\n",
       "}\n",
       "\n",
       "mpl.figure.prototype.close_ws = function(fig, msg){\n",
       "    fig.send_message('closing', msg);\n",
       "    // fig.ws.close()\n",
       "}\n",
       "\n",
       "mpl.figure.prototype.push_to_output = function(remove_interactive) {\n",
       "    // Turn the data on the canvas into data in the output cell.\n",
       "    var width = this.canvas.width/mpl.ratio\n",
       "    var dataURL = this.canvas.toDataURL();\n",
       "    this.cell_info[1]['text/html'] = '<img src=\"' + dataURL + '\" width=\"' + width + '\">';\n",
       "}\n",
       "\n",
       "mpl.figure.prototype.updated_canvas_event = function() {\n",
       "    // Tell IPython that the notebook contents must change.\n",
       "    IPython.notebook.set_dirty(true);\n",
       "    this.send_message(\"ack\", {});\n",
       "    var fig = this;\n",
       "    // Wait a second, then push the new image to the DOM so\n",
       "    // that it is saved nicely (might be nice to debounce this).\n",
       "    setTimeout(function () { fig.push_to_output() }, 1000);\n",
       "}\n",
       "\n",
       "mpl.figure.prototype._init_toolbar = function() {\n",
       "    var fig = this;\n",
       "\n",
       "    var nav_element = $('<div/>');\n",
       "    nav_element.attr('style', 'width: 100%');\n",
       "    this.root.append(nav_element);\n",
       "\n",
       "    // Define a callback function for later on.\n",
       "    function toolbar_event(event) {\n",
       "        return fig.toolbar_button_onclick(event['data']);\n",
       "    }\n",
       "    function toolbar_mouse_event(event) {\n",
       "        return fig.toolbar_button_onmouseover(event['data']);\n",
       "    }\n",
       "\n",
       "    for(var toolbar_ind in mpl.toolbar_items){\n",
       "        var name = mpl.toolbar_items[toolbar_ind][0];\n",
       "        var tooltip = mpl.toolbar_items[toolbar_ind][1];\n",
       "        var image = mpl.toolbar_items[toolbar_ind][2];\n",
       "        var method_name = mpl.toolbar_items[toolbar_ind][3];\n",
       "\n",
       "        if (!name) { continue; };\n",
       "\n",
       "        var button = $('<button class=\"btn btn-default\" href=\"#\" title=\"' + name + '\"><i class=\"fa ' + image + ' fa-lg\"></i></button>');\n",
       "        button.click(method_name, toolbar_event);\n",
       "        button.mouseover(tooltip, toolbar_mouse_event);\n",
       "        nav_element.append(button);\n",
       "    }\n",
       "\n",
       "    // Add the status bar.\n",
       "    var status_bar = $('<span class=\"mpl-message\" style=\"text-align:right; float: right;\"/>');\n",
       "    nav_element.append(status_bar);\n",
       "    this.message = status_bar[0];\n",
       "\n",
       "    // Add the close button to the window.\n",
       "    var buttongrp = $('<div class=\"btn-group inline pull-right\"></div>');\n",
       "    var button = $('<button class=\"btn btn-mini btn-primary\" href=\"#\" title=\"Stop Interaction\"><i class=\"fa fa-power-off icon-remove icon-large\"></i></button>');\n",
       "    button.click(function (evt) { fig.handle_close(fig, {}); } );\n",
       "    button.mouseover('Stop Interaction', toolbar_mouse_event);\n",
       "    buttongrp.append(button);\n",
       "    var titlebar = this.root.find($('.ui-dialog-titlebar'));\n",
       "    titlebar.prepend(buttongrp);\n",
       "}\n",
       "\n",
       "mpl.figure.prototype._root_extra_style = function(el){\n",
       "    var fig = this\n",
       "    el.on(\"remove\", function(){\n",
       "\tfig.close_ws(fig, {});\n",
       "    });\n",
       "}\n",
       "\n",
       "mpl.figure.prototype._canvas_extra_style = function(el){\n",
       "    // this is important to make the div 'focusable\n",
       "    el.attr('tabindex', 0)\n",
       "    // reach out to IPython and tell the keyboard manager to turn it's self\n",
       "    // off when our div gets focus\n",
       "\n",
       "    // location in version 3\n",
       "    if (IPython.notebook.keyboard_manager) {\n",
       "        IPython.notebook.keyboard_manager.register_events(el);\n",
       "    }\n",
       "    else {\n",
       "        // location in version 2\n",
       "        IPython.keyboard_manager.register_events(el);\n",
       "    }\n",
       "\n",
       "}\n",
       "\n",
       "mpl.figure.prototype._key_event_extra = function(event, name) {\n",
       "    var manager = IPython.notebook.keyboard_manager;\n",
       "    if (!manager)\n",
       "        manager = IPython.keyboard_manager;\n",
       "\n",
       "    // Check for shift+enter\n",
       "    if (event.shiftKey && event.which == 13) {\n",
       "        this.canvas_div.blur();\n",
       "        // select the cell after this one\n",
       "        var index = IPython.notebook.find_cell_index(this.cell_info[0]);\n",
       "        IPython.notebook.select(index + 1);\n",
       "    }\n",
       "}\n",
       "\n",
       "mpl.figure.prototype.handle_save = function(fig, msg) {\n",
       "    fig.ondownload(fig, null);\n",
       "}\n",
       "\n",
       "\n",
       "mpl.find_output_cell = function(html_output) {\n",
       "    // Return the cell and output element which can be found *uniquely* in the notebook.\n",
       "    // Note - this is a bit hacky, but it is done because the \"notebook_saving.Notebook\"\n",
       "    // IPython event is triggered only after the cells have been serialised, which for\n",
       "    // our purposes (turning an active figure into a static one), is too late.\n",
       "    var cells = IPython.notebook.get_cells();\n",
       "    var ncells = cells.length;\n",
       "    for (var i=0; i<ncells; i++) {\n",
       "        var cell = cells[i];\n",
       "        if (cell.cell_type === 'code'){\n",
       "            for (var j=0; j<cell.output_area.outputs.length; j++) {\n",
       "                var data = cell.output_area.outputs[j];\n",
       "                if (data.data) {\n",
       "                    // IPython >= 3 moved mimebundle to data attribute of output\n",
       "                    data = data.data;\n",
       "                }\n",
       "                if (data['text/html'] == html_output) {\n",
       "                    return [cell, data, j];\n",
       "                }\n",
       "            }\n",
       "        }\n",
       "    }\n",
       "}\n",
       "\n",
       "// Register the function which deals with the matplotlib target/channel.\n",
       "// The kernel may be null if the page has been refreshed.\n",
       "if (IPython.notebook.kernel != null) {\n",
       "    IPython.notebook.kernel.comm_manager.register_target('matplotlib', mpl.mpl_figure_comm);\n",
       "}\n"
      ],
      "text/plain": [
       "<IPython.core.display.Javascript object>"
      ]
     },
     "metadata": {},
     "output_type": "display_data"
    },
    {
     "data": {
      "text/html": [
       "<img src=\"data:image/png;base64,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\" width=\"1000\">"
      ],
      "text/plain": [
       "<IPython.core.display.HTML object>"
      ]
     },
     "metadata": {},
     "output_type": "display_data"
    }
   ],
   "source": [
    "ax, tax, lax, lines = dual_train_plots()\n",
    "fig = ax.figure\n",
    "plt.tight_layout()"
   ]
  },
  {
   "cell_type": "code",
   "execution_count": 18,
   "metadata": {
    "scrolled": false
   },
   "outputs": [
    {
     "name": "stdout",
     "output_type": "stream",
     "text": [
      "Number of batches: train = 5000, val = 157\n"
     ]
    },
    {
     "data": {
      "application/vnd.jupyter.widget-view+json": {
       "model_id": "b3492009f41b498f841d59f8a9840ecc",
       "version_major": 2,
       "version_minor": 0
      },
      "text/plain": [
       "HBox(children=(FloatProgress(value=0.0, description='Epochs', layout=Layout(flex='2'), max=122.0, style=Progre…"
      ]
     },
     "metadata": {},
     "output_type": "display_data"
    },
    {
     "name": "stdout",
     "output_type": "stream",
     "text": [
      "Number of batches: train = 5000, val = 157\n"
     ]
    },
    {
     "data": {
      "application/vnd.jupyter.widget-view+json": {
       "model_id": "",
       "version_major": 2,
       "version_minor": 0
      },
      "text/plain": [
       "HBox(children=(FloatProgress(value=0.0, description='Training', layout=Layout(flex='2'), max=5000.0, style=Pro…"
      ]
     },
     "metadata": {},
     "output_type": "display_data"
    },
    {
     "name": "stdout",
     "output_type": "stream",
     "text": [
      "Epoch 0: train=0.5739, val=0.377646, took 587.89 s\n"
     ]
    },
    {
     "data": {
      "application/vnd.jupyter.widget-view+json": {
       "model_id": "",
       "version_major": 2,
       "version_minor": 0
      },
      "text/plain": [
       "HBox(children=(FloatProgress(value=0.0, description='Training', layout=Layout(flex='2'), max=5000.0, style=Pro…"
      ]
     },
     "metadata": {},
     "output_type": "display_data"
    },
    {
     "name": "stdout",
     "output_type": "stream",
     "text": [
      "Epoch 1: train=0.57237, val=0.386246, took 584.92 s\n"
     ]
    },
    {
     "data": {
      "application/vnd.jupyter.widget-view+json": {
       "model_id": "",
       "version_major": 2,
       "version_minor": 0
      },
      "text/plain": [
       "HBox(children=(FloatProgress(value=0.0, description='Training', layout=Layout(flex='2'), max=5000.0, style=Pro…"
      ]
     },
     "metadata": {},
     "output_type": "display_data"
    },
    {
     "name": "stdout",
     "output_type": "stream",
     "text": [
      "Epoch 2: train=0.574182, val=0.383462, took 588.3 s\n"
     ]
    },
    {
     "data": {
      "application/vnd.jupyter.widget-view+json": {
       "model_id": "",
       "version_major": 2,
       "version_minor": 0
      },
      "text/plain": [
       "HBox(children=(FloatProgress(value=0.0, description='Training', layout=Layout(flex='2'), max=5000.0, style=Pro…"
      ]
     },
     "metadata": {},
     "output_type": "display_data"
    },
    {
     "name": "stdout",
     "output_type": "stream",
     "text": [
      "Epoch 3: train=0.572836, val=0.376427, took 590.49 s\n"
     ]
    },
    {
     "data": {
      "application/vnd.jupyter.widget-view+json": {
       "model_id": "",
       "version_major": 2,
       "version_minor": 0
      },
      "text/plain": [
       "HBox(children=(FloatProgress(value=0.0, description='Training', layout=Layout(flex='2'), max=5000.0, style=Pro…"
      ]
     },
     "metadata": {},
     "output_type": "display_data"
    },
    {
     "name": "stdout",
     "output_type": "stream",
     "text": [
      "Epoch 4: train=0.571834, val=0.37371, took 589.64 s\n"
     ]
    },
    {
     "data": {
      "application/vnd.jupyter.widget-view+json": {
       "model_id": "",
       "version_major": 2,
       "version_minor": 0
      },
      "text/plain": [
       "HBox(children=(FloatProgress(value=0.0, description='Training', layout=Layout(flex='2'), max=5000.0, style=Pro…"
      ]
     },
     "metadata": {},
     "output_type": "display_data"
    },
    {
     "name": "stdout",
     "output_type": "stream",
     "text": [
      "Epoch 5: train=0.57195, val=0.377025, took 584.26 s\n"
     ]
    },
    {
     "data": {
      "application/vnd.jupyter.widget-view+json": {
       "model_id": "",
       "version_major": 2,
       "version_minor": 0
      },
      "text/plain": [
       "HBox(children=(FloatProgress(value=0.0, description='Training', layout=Layout(flex='2'), max=5000.0, style=Pro…"
      ]
     },
     "metadata": {},
     "output_type": "display_data"
    },
    {
     "name": "stdout",
     "output_type": "stream",
     "text": [
      "Epoch 6: train=0.573276, val=0.375288, took 585.09 s\n"
     ]
    },
    {
     "data": {
      "application/vnd.jupyter.widget-view+json": {
       "model_id": "",
       "version_major": 2,
       "version_minor": 0
      },
      "text/plain": [
       "HBox(children=(FloatProgress(value=0.0, description='Training', layout=Layout(flex='2'), max=5000.0, style=Pro…"
      ]
     },
     "metadata": {},
     "output_type": "display_data"
    },
    {
     "name": "stdout",
     "output_type": "stream",
     "text": [
      "Epoch 7: train=0.571926, val=0.37564, took 584.19 s\n"
     ]
    },
    {
     "data": {
      "application/vnd.jupyter.widget-view+json": {
       "model_id": "",
       "version_major": 2,
       "version_minor": 0
      },
      "text/plain": [
       "HBox(children=(FloatProgress(value=0.0, description='Training', layout=Layout(flex='2'), max=5000.0, style=Pro…"
      ]
     },
     "metadata": {},
     "output_type": "display_data"
    },
    {
     "name": "stdout",
     "output_type": "stream",
     "text": [
      "Epoch 8: train=0.572227, val=0.374846, took 583.5 s\n"
     ]
    },
    {
     "data": {
      "application/vnd.jupyter.widget-view+json": {
       "model_id": "",
       "version_major": 2,
       "version_minor": 0
      },
      "text/plain": [
       "HBox(children=(FloatProgress(value=0.0, description='Training', layout=Layout(flex='2'), max=5000.0, style=Pro…"
      ]
     },
     "metadata": {},
     "output_type": "display_data"
    },
    {
     "name": "stdout",
     "output_type": "stream",
     "text": [
      "Epoch 9: train=0.571068, val=0.375269, took 583.36 s\n"
     ]
    },
    {
     "data": {
      "application/vnd.jupyter.widget-view+json": {
       "model_id": "",
       "version_major": 2,
       "version_minor": 0
      },
      "text/plain": [
       "HBox(children=(FloatProgress(value=0.0, description='Training', layout=Layout(flex='2'), max=5000.0, style=Pro…"
      ]
     },
     "metadata": {},
     "output_type": "display_data"
    },
    {
     "name": "stdout",
     "output_type": "stream",
     "text": [
      "Epoch 10: train=0.570833, val=0.37818, took 581.85 s\n"
     ]
    },
    {
     "data": {
      "application/vnd.jupyter.widget-view+json": {
       "model_id": "",
       "version_major": 2,
       "version_minor": 0
      },
      "text/plain": [
       "HBox(children=(FloatProgress(value=0.0, description='Training', layout=Layout(flex='2'), max=5000.0, style=Pro…"
      ]
     },
     "metadata": {},
     "output_type": "display_data"
    },
    {
     "name": "stdout",
     "output_type": "stream",
     "text": [
      "Epoch 11: train=0.572625, val=0.376369, took 586.25 s\n"
     ]
    },
    {
     "data": {
      "application/vnd.jupyter.widget-view+json": {
       "model_id": "",
       "version_major": 2,
       "version_minor": 0
      },
      "text/plain": [
       "HBox(children=(FloatProgress(value=0.0, description='Training', layout=Layout(flex='2'), max=5000.0, style=Pro…"
      ]
     },
     "metadata": {},
     "output_type": "display_data"
    },
    {
     "name": "stdout",
     "output_type": "stream",
     "text": [
      "Epoch 12: train=0.571689, val=0.377972, took 580.94 s\n"
     ]
    },
    {
     "data": {
      "application/vnd.jupyter.widget-view+json": {
       "model_id": "",
       "version_major": 2,
       "version_minor": 0
      },
      "text/plain": [
       "HBox(children=(FloatProgress(value=0.0, description='Training', layout=Layout(flex='2'), max=5000.0, style=Pro…"
      ]
     },
     "metadata": {},
     "output_type": "display_data"
    },
    {
     "name": "stdout",
     "output_type": "stream",
     "text": [
      "Epoch 13: train=0.571904, val=0.381363, took 580.11 s\n"
     ]
    },
    {
     "data": {
      "application/vnd.jupyter.widget-view+json": {
       "model_id": "",
       "version_major": 2,
       "version_minor": 0
      },
      "text/plain": [
       "HBox(children=(FloatProgress(value=0.0, description='Training', layout=Layout(flex='2'), max=5000.0, style=Pro…"
      ]
     },
     "metadata": {},
     "output_type": "display_data"
    },
    {
     "name": "stdout",
     "output_type": "stream",
     "text": [
      "Epoch 14: train=0.571766, val=0.381715, took 579.02 s\n"
     ]
    },
    {
     "data": {
      "application/vnd.jupyter.widget-view+json": {
       "model_id": "",
       "version_major": 2,
       "version_minor": 0
      },
      "text/plain": [
       "HBox(children=(FloatProgress(value=0.0, description='Training', layout=Layout(flex='2'), max=5000.0, style=Pro…"
      ]
     },
     "metadata": {},
     "output_type": "display_data"
    },
    {
     "name": "stdout",
     "output_type": "stream",
     "text": [
      "Epoch 15: train=0.570625, val=0.388296, took 578.65 s\n"
     ]
    },
    {
     "data": {
      "application/vnd.jupyter.widget-view+json": {
       "model_id": "",
       "version_major": 2,
       "version_minor": 0
      },
      "text/plain": [
       "HBox(children=(FloatProgress(value=0.0, description='Training', layout=Layout(flex='2'), max=5000.0, style=Pro…"
      ]
     },
     "metadata": {},
     "output_type": "display_data"
    },
    {
     "name": "stdout",
     "output_type": "stream",
     "text": [
      "Epoch 16: train=0.571221, val=0.371114, took 577.33 s\n"
     ]
    },
    {
     "data": {
      "application/vnd.jupyter.widget-view+json": {
       "model_id": "",
       "version_major": 2,
       "version_minor": 0
      },
      "text/plain": [
       "HBox(children=(FloatProgress(value=0.0, description='Training', layout=Layout(flex='2'), max=5000.0, style=Pro…"
      ]
     },
     "metadata": {},
     "output_type": "display_data"
    },
    {
     "name": "stdout",
     "output_type": "stream",
     "text": [
      "Epoch 17: train=0.569798, val=0.383431, took 577.49 s\n"
     ]
    },
    {
     "data": {
      "application/vnd.jupyter.widget-view+json": {
       "model_id": "",
       "version_major": 2,
       "version_minor": 0
      },
      "text/plain": [
       "HBox(children=(FloatProgress(value=0.0, description='Training', layout=Layout(flex='2'), max=5000.0, style=Pro…"
      ]
     },
     "metadata": {},
     "output_type": "display_data"
    },
    {
     "name": "stdout",
     "output_type": "stream",
     "text": [
      "Epoch 18: train=0.570681, val=0.380477, took 576.79 s\n"
     ]
    },
    {
     "data": {
      "application/vnd.jupyter.widget-view+json": {
       "model_id": "",
       "version_major": 2,
       "version_minor": 0
      },
      "text/plain": [
       "HBox(children=(FloatProgress(value=0.0, description='Training', layout=Layout(flex='2'), max=5000.0, style=Pro…"
      ]
     },
     "metadata": {},
     "output_type": "display_data"
    },
    {
     "name": "stdout",
     "output_type": "stream",
     "text": [
      "Epoch 19: train=0.569864, val=0.375454, took 575.56 s\n"
     ]
    },
    {
     "data": {
      "application/vnd.jupyter.widget-view+json": {
       "model_id": "",
       "version_major": 2,
       "version_minor": 0
      },
      "text/plain": [
       "HBox(children=(FloatProgress(value=0.0, description='Training', layout=Layout(flex='2'), max=5000.0, style=Pro…"
      ]
     },
     "metadata": {},
     "output_type": "display_data"
    },
    {
     "name": "stdout",
     "output_type": "stream",
     "text": [
      "Epoch 20: train=0.569078, val=0.395357, took 575.15 s\n"
     ]
    },
    {
     "data": {
      "application/vnd.jupyter.widget-view+json": {
       "model_id": "",
       "version_major": 2,
       "version_minor": 0
      },
      "text/plain": [
       "HBox(children=(FloatProgress(value=0.0, description='Training', layout=Layout(flex='2'), max=5000.0, style=Pro…"
      ]
     },
     "metadata": {},
     "output_type": "display_data"
    },
    {
     "name": "stdout",
     "output_type": "stream",
     "text": [
      "Epoch 21: train=0.570314, val=0.376807, took 575.63 s\n"
     ]
    },
    {
     "data": {
      "application/vnd.jupyter.widget-view+json": {
       "model_id": "",
       "version_major": 2,
       "version_minor": 0
      },
      "text/plain": [
       "HBox(children=(FloatProgress(value=0.0, description='Training', layout=Layout(flex='2'), max=5000.0, style=Pro…"
      ]
     },
     "metadata": {},
     "output_type": "display_data"
    },
    {
     "name": "stdout",
     "output_type": "stream",
     "text": [
      "Epoch 22: train=0.571234, val=0.395515, took 575.41 s\n"
     ]
    },
    {
     "data": {
      "application/vnd.jupyter.widget-view+json": {
       "model_id": "",
       "version_major": 2,
       "version_minor": 0
      },
      "text/plain": [
       "HBox(children=(FloatProgress(value=0.0, description='Training', layout=Layout(flex='2'), max=5000.0, style=Pro…"
      ]
     },
     "metadata": {},
     "output_type": "display_data"
    },
    {
     "name": "stdout",
     "output_type": "stream",
     "text": [
      "Epoch 23: train=0.569817, val=0.376967, took 575.95 s\n"
     ]
    },
    {
     "data": {
      "application/vnd.jupyter.widget-view+json": {
       "model_id": "",
       "version_major": 2,
       "version_minor": 0
      },
      "text/plain": [
       "HBox(children=(FloatProgress(value=0.0, description='Training', layout=Layout(flex='2'), max=5000.0, style=Pro…"
      ]
     },
     "metadata": {},
     "output_type": "display_data"
    },
    {
     "name": "stdout",
     "output_type": "stream",
     "text": [
      "Epoch 24: train=0.5695, val=0.437767, took 576.0 s\n"
     ]
    },
    {
     "data": {
      "application/vnd.jupyter.widget-view+json": {
       "model_id": "",
       "version_major": 2,
       "version_minor": 0
      },
      "text/plain": [
       "HBox(children=(FloatProgress(value=0.0, description='Training', layout=Layout(flex='2'), max=5000.0, style=Pro…"
      ]
     },
     "metadata": {},
     "output_type": "display_data"
    },
    {
     "name": "stdout",
     "output_type": "stream",
     "text": [
      "Epoch 25: train=0.569311, val=0.371086, took 575.76 s\n"
     ]
    },
    {
     "data": {
      "application/vnd.jupyter.widget-view+json": {
       "model_id": "",
       "version_major": 2,
       "version_minor": 0
      },
      "text/plain": [
       "HBox(children=(FloatProgress(value=0.0, description='Training', layout=Layout(flex='2'), max=5000.0, style=Pro…"
      ]
     },
     "metadata": {},
     "output_type": "display_data"
    },
    {
     "name": "stdout",
     "output_type": "stream",
     "text": [
      "Epoch 26: train=0.571488, val=0.380088, took 575.58 s\n"
     ]
    },
    {
     "data": {
      "application/vnd.jupyter.widget-view+json": {
       "model_id": "",
       "version_major": 2,
       "version_minor": 0
      },
      "text/plain": [
       "HBox(children=(FloatProgress(value=0.0, description='Training', layout=Layout(flex='2'), max=5000.0, style=Pro…"
      ]
     },
     "metadata": {},
     "output_type": "display_data"
    },
    {
     "name": "stdout",
     "output_type": "stream",
     "text": [
      "Epoch 27: train=0.570343, val=0.408946, took 575.92 s\n"
     ]
    },
    {
     "data": {
      "application/vnd.jupyter.widget-view+json": {
       "model_id": "",
       "version_major": 2,
       "version_minor": 0
      },
      "text/plain": [
       "HBox(children=(FloatProgress(value=0.0, description='Training', layout=Layout(flex='2'), max=5000.0, style=Pro…"
      ]
     },
     "metadata": {},
     "output_type": "display_data"
    },
    {
     "name": "stdout",
     "output_type": "stream",
     "text": [
      "Epoch 28: train=0.571472, val=0.373849, took 575.82 s\n"
     ]
    },
    {
     "data": {
      "application/vnd.jupyter.widget-view+json": {
       "model_id": "",
       "version_major": 2,
       "version_minor": 0
      },
      "text/plain": [
       "HBox(children=(FloatProgress(value=0.0, description='Training', layout=Layout(flex='2'), max=5000.0, style=Pro…"
      ]
     },
     "metadata": {},
     "output_type": "display_data"
    },
    {
     "name": "stdout",
     "output_type": "stream",
     "text": [
      "Epoch 29: train=0.570005, val=0.390363, took 576.02 s\n"
     ]
    },
    {
     "data": {
      "application/vnd.jupyter.widget-view+json": {
       "model_id": "",
       "version_major": 2,
       "version_minor": 0
      },
      "text/plain": [
       "HBox(children=(FloatProgress(value=0.0, description='Training', layout=Layout(flex='2'), max=5000.0, style=Pro…"
      ]
     },
     "metadata": {},
     "output_type": "display_data"
    },
    {
     "name": "stdout",
     "output_type": "stream",
     "text": [
      "Epoch 30: train=0.568054, val=0.381006, took 575.85 s\n"
     ]
    },
    {
     "data": {
      "application/vnd.jupyter.widget-view+json": {
       "model_id": "",
       "version_major": 2,
       "version_minor": 0
      },
      "text/plain": [
       "HBox(children=(FloatProgress(value=0.0, description='Training', layout=Layout(flex='2'), max=5000.0, style=Pro…"
      ]
     },
     "metadata": {},
     "output_type": "display_data"
    },
    {
     "name": "stdout",
     "output_type": "stream",
     "text": [
      "Epoch 31: train=0.569956, val=0.433496, took 575.87 s\n"
     ]
    },
    {
     "data": {
      "application/vnd.jupyter.widget-view+json": {
       "model_id": "",
       "version_major": 2,
       "version_minor": 0
      },
      "text/plain": [
       "HBox(children=(FloatProgress(value=0.0, description='Training', layout=Layout(flex='2'), max=5000.0, style=Pro…"
      ]
     },
     "metadata": {},
     "output_type": "display_data"
    },
    {
     "name": "stdout",
     "output_type": "stream",
     "text": [
      "Epoch 32: train=0.569501, val=0.378646, took 575.73 s\n"
     ]
    },
    {
     "data": {
      "application/vnd.jupyter.widget-view+json": {
       "model_id": "",
       "version_major": 2,
       "version_minor": 0
      },
      "text/plain": [
       "HBox(children=(FloatProgress(value=0.0, description='Training', layout=Layout(flex='2'), max=5000.0, style=Pro…"
      ]
     },
     "metadata": {},
     "output_type": "display_data"
    },
    {
     "name": "stdout",
     "output_type": "stream",
     "text": [
      "Epoch 33: train=0.567729, val=0.381779, took 575.64 s\n"
     ]
    },
    {
     "data": {
      "application/vnd.jupyter.widget-view+json": {
       "model_id": "",
       "version_major": 2,
       "version_minor": 0
      },
      "text/plain": [
       "HBox(children=(FloatProgress(value=0.0, description='Training', layout=Layout(flex='2'), max=5000.0, style=Pro…"
      ]
     },
     "metadata": {},
     "output_type": "display_data"
    },
    {
     "name": "stdout",
     "output_type": "stream",
     "text": [
      "Epoch 34: train=0.56831, val=0.374606, took 575.67 s\n"
     ]
    },
    {
     "data": {
      "application/vnd.jupyter.widget-view+json": {
       "model_id": "",
       "version_major": 2,
       "version_minor": 0
      },
      "text/plain": [
       "HBox(children=(FloatProgress(value=0.0, description='Training', layout=Layout(flex='2'), max=5000.0, style=Pro…"
      ]
     },
     "metadata": {},
     "output_type": "display_data"
    },
    {
     "name": "stdout",
     "output_type": "stream",
     "text": [
      "Epoch 35: train=0.567838, val=0.376399, took 575.7 s\n"
     ]
    },
    {
     "data": {
      "application/vnd.jupyter.widget-view+json": {
       "model_id": "",
       "version_major": 2,
       "version_minor": 0
      },
      "text/plain": [
       "HBox(children=(FloatProgress(value=0.0, description='Training', layout=Layout(flex='2'), max=5000.0, style=Pro…"
      ]
     },
     "metadata": {},
     "output_type": "display_data"
    },
    {
     "name": "stdout",
     "output_type": "stream",
     "text": [
      "Epoch 36: train=0.570138, val=0.415356, took 575.43 s\n"
     ]
    },
    {
     "data": {
      "application/vnd.jupyter.widget-view+json": {
       "model_id": "",
       "version_major": 2,
       "version_minor": 0
      },
      "text/plain": [
       "HBox(children=(FloatProgress(value=0.0, description='Training', layout=Layout(flex='2'), max=5000.0, style=Pro…"
      ]
     },
     "metadata": {},
     "output_type": "display_data"
    },
    {
     "name": "stdout",
     "output_type": "stream",
     "text": [
      "Epoch 37: train=0.568683, val=0.381577, took 575.82 s\n"
     ]
    },
    {
     "data": {
      "application/vnd.jupyter.widget-view+json": {
       "model_id": "",
       "version_major": 2,
       "version_minor": 0
      },
      "text/plain": [
       "HBox(children=(FloatProgress(value=0.0, description='Training', layout=Layout(flex='2'), max=5000.0, style=Pro…"
      ]
     },
     "metadata": {},
     "output_type": "display_data"
    },
    {
     "name": "stdout",
     "output_type": "stream",
     "text": [
      "Epoch 38: train=0.569552, val=0.374522, took 575.29 s\n"
     ]
    },
    {
     "data": {
      "application/vnd.jupyter.widget-view+json": {
       "model_id": "",
       "version_major": 2,
       "version_minor": 0
      },
      "text/plain": [
       "HBox(children=(FloatProgress(value=0.0, description='Training', layout=Layout(flex='2'), max=5000.0, style=Pro…"
      ]
     },
     "metadata": {},
     "output_type": "display_data"
    },
    {
     "name": "stdout",
     "output_type": "stream",
     "text": [
      "Epoch 39: train=0.567401, val=0.375444, took 575.37 s\n"
     ]
    },
    {
     "data": {
      "application/vnd.jupyter.widget-view+json": {
       "model_id": "",
       "version_major": 2,
       "version_minor": 0
      },
      "text/plain": [
       "HBox(children=(FloatProgress(value=0.0, description='Training', layout=Layout(flex='2'), max=5000.0, style=Pro…"
      ]
     },
     "metadata": {},
     "output_type": "display_data"
    },
    {
     "name": "stdout",
     "output_type": "stream",
     "text": [
      "Epoch 40: train=0.569875, val=0.391437, took 575.59 s\n"
     ]
    },
    {
     "data": {
      "application/vnd.jupyter.widget-view+json": {
       "model_id": "",
       "version_major": 2,
       "version_minor": 0
      },
      "text/plain": [
       "HBox(children=(FloatProgress(value=0.0, description='Training', layout=Layout(flex='2'), max=5000.0, style=Pro…"
      ]
     },
     "metadata": {},
     "output_type": "display_data"
    },
    {
     "name": "stdout",
     "output_type": "stream",
     "text": [
      "Epoch 41: train=0.568175, val=0.376666, took 575.59 s\n"
     ]
    },
    {
     "data": {
      "application/vnd.jupyter.widget-view+json": {
       "model_id": "",
       "version_major": 2,
       "version_minor": 0
      },
      "text/plain": [
       "HBox(children=(FloatProgress(value=0.0, description='Training', layout=Layout(flex='2'), max=5000.0, style=Pro…"
      ]
     },
     "metadata": {},
     "output_type": "display_data"
    },
    {
     "name": "stdout",
     "output_type": "stream",
     "text": [
      "Epoch 42: train=0.568189, val=0.378732, took 575.31 s\n"
     ]
    },
    {
     "data": {
      "application/vnd.jupyter.widget-view+json": {
       "model_id": "",
       "version_major": 2,
       "version_minor": 0
      },
      "text/plain": [
       "HBox(children=(FloatProgress(value=0.0, description='Training', layout=Layout(flex='2'), max=5000.0, style=Pro…"
      ]
     },
     "metadata": {},
     "output_type": "display_data"
    },
    {
     "name": "stdout",
     "output_type": "stream",
     "text": [
      "Epoch 43: train=0.565799, val=0.375086, took 575.41 s\n"
     ]
    },
    {
     "data": {
      "application/vnd.jupyter.widget-view+json": {
       "model_id": "",
       "version_major": 2,
       "version_minor": 0
      },
      "text/plain": [
       "HBox(children=(FloatProgress(value=0.0, description='Training', layout=Layout(flex='2'), max=5000.0, style=Pro…"
      ]
     },
     "metadata": {},
     "output_type": "display_data"
    },
    {
     "name": "stdout",
     "output_type": "stream",
     "text": [
      "Epoch 44: train=0.567605, val=0.383811, took 575.72 s\n"
     ]
    },
    {
     "data": {
      "application/vnd.jupyter.widget-view+json": {
       "model_id": "",
       "version_major": 2,
       "version_minor": 0
      },
      "text/plain": [
       "HBox(children=(FloatProgress(value=0.0, description='Training', layout=Layout(flex='2'), max=5000.0, style=Pro…"
      ]
     },
     "metadata": {},
     "output_type": "display_data"
    },
    {
     "name": "stdout",
     "output_type": "stream",
     "text": [
      "Epoch 45: train=0.56707, val=0.380292, took 575.59 s\n"
     ]
    },
    {
     "data": {
      "application/vnd.jupyter.widget-view+json": {
       "model_id": "",
       "version_major": 2,
       "version_minor": 0
      },
      "text/plain": [
       "HBox(children=(FloatProgress(value=0.0, description='Training', layout=Layout(flex='2'), max=5000.0, style=Pro…"
      ]
     },
     "metadata": {},
     "output_type": "display_data"
    },
    {
     "name": "stdout",
     "output_type": "stream",
     "text": [
      "Epoch 46: train=0.568109, val=0.387784, took 575.45 s\n"
     ]
    },
    {
     "data": {
      "application/vnd.jupyter.widget-view+json": {
       "model_id": "",
       "version_major": 2,
       "version_minor": 0
      },
      "text/plain": [
       "HBox(children=(FloatProgress(value=0.0, description='Training', layout=Layout(flex='2'), max=5000.0, style=Pro…"
      ]
     },
     "metadata": {},
     "output_type": "display_data"
    },
    {
     "name": "stdout",
     "output_type": "stream",
     "text": [
      "Epoch 47: train=0.567326, val=0.374611, took 610.31 s\n"
     ]
    },
    {
     "data": {
      "application/vnd.jupyter.widget-view+json": {
       "model_id": "",
       "version_major": 2,
       "version_minor": 0
      },
      "text/plain": [
       "HBox(children=(FloatProgress(value=0.0, description='Training', layout=Layout(flex='2'), max=5000.0, style=Pro…"
      ]
     },
     "metadata": {},
     "output_type": "display_data"
    },
    {
     "name": "stdout",
     "output_type": "stream",
     "text": [
      "Epoch 48: train=0.568111, val=0.396628, took 581.5 s\n"
     ]
    },
    {
     "data": {
      "application/vnd.jupyter.widget-view+json": {
       "model_id": "",
       "version_major": 2,
       "version_minor": 0
      },
      "text/plain": [
       "HBox(children=(FloatProgress(value=0.0, description='Training', layout=Layout(flex='2'), max=5000.0, style=Pro…"
      ]
     },
     "metadata": {},
     "output_type": "display_data"
    },
    {
     "name": "stdout",
     "output_type": "stream",
     "text": [
      "Epoch 49: train=0.569718, val=0.374327, took 575.59 s\n"
     ]
    },
    {
     "data": {
      "application/vnd.jupyter.widget-view+json": {
       "model_id": "",
       "version_major": 2,
       "version_minor": 0
      },
      "text/plain": [
       "HBox(children=(FloatProgress(value=0.0, description='Training', layout=Layout(flex='2'), max=5000.0, style=Pro…"
      ]
     },
     "metadata": {},
     "output_type": "display_data"
    },
    {
     "name": "stdout",
     "output_type": "stream",
     "text": [
      "Epoch 50: train=0.567633, val=0.372454, took 575.71 s\n"
     ]
    },
    {
     "data": {
      "application/vnd.jupyter.widget-view+json": {
       "model_id": "",
       "version_major": 2,
       "version_minor": 0
      },
      "text/plain": [
       "HBox(children=(FloatProgress(value=0.0, description='Training', layout=Layout(flex='2'), max=5000.0, style=Pro…"
      ]
     },
     "metadata": {},
     "output_type": "display_data"
    },
    {
     "name": "stdout",
     "output_type": "stream",
     "text": [
      "Epoch 51: train=0.569458, val=0.384011, took 575.66 s\n"
     ]
    },
    {
     "data": {
      "application/vnd.jupyter.widget-view+json": {
       "model_id": "",
       "version_major": 2,
       "version_minor": 0
      },
      "text/plain": [
       "HBox(children=(FloatProgress(value=0.0, description='Training', layout=Layout(flex='2'), max=5000.0, style=Pro…"
      ]
     },
     "metadata": {},
     "output_type": "display_data"
    },
    {
     "name": "stdout",
     "output_type": "stream",
     "text": [
      "Epoch 52: train=0.56803, val=0.37736, took 576.96 s\n"
     ]
    },
    {
     "data": {
      "application/vnd.jupyter.widget-view+json": {
       "model_id": "",
       "version_major": 2,
       "version_minor": 0
      },
      "text/plain": [
       "HBox(children=(FloatProgress(value=0.0, description='Training', layout=Layout(flex='2'), max=5000.0, style=Pro…"
      ]
     },
     "metadata": {},
     "output_type": "display_data"
    },
    {
     "name": "stdout",
     "output_type": "stream",
     "text": [
      "Epoch 53: train=0.565198, val=0.385195, took 575.98 s\n"
     ]
    },
    {
     "data": {
      "application/vnd.jupyter.widget-view+json": {
       "model_id": "",
       "version_major": 2,
       "version_minor": 0
      },
      "text/plain": [
       "HBox(children=(FloatProgress(value=0.0, description='Training', layout=Layout(flex='2'), max=5000.0, style=Pro…"
      ]
     },
     "metadata": {},
     "output_type": "display_data"
    },
    {
     "name": "stdout",
     "output_type": "stream",
     "text": [
      "Epoch 54: train=0.566247, val=0.374039, took 575.83 s\n"
     ]
    },
    {
     "data": {
      "application/vnd.jupyter.widget-view+json": {
       "model_id": "",
       "version_major": 2,
       "version_minor": 0
      },
      "text/plain": [
       "HBox(children=(FloatProgress(value=0.0, description='Training', layout=Layout(flex='2'), max=5000.0, style=Pro…"
      ]
     },
     "metadata": {},
     "output_type": "display_data"
    },
    {
     "name": "stdout",
     "output_type": "stream",
     "text": [
      "Epoch 55: train=0.567108, val=0.372364, took 575.16 s\n"
     ]
    },
    {
     "data": {
      "application/vnd.jupyter.widget-view+json": {
       "model_id": "",
       "version_major": 2,
       "version_minor": 0
      },
      "text/plain": [
       "HBox(children=(FloatProgress(value=0.0, description='Training', layout=Layout(flex='2'), max=5000.0, style=Pro…"
      ]
     },
     "metadata": {},
     "output_type": "display_data"
    },
    {
     "name": "stdout",
     "output_type": "stream",
     "text": [
      "Epoch 56: train=0.566788, val=0.377277, took 575.87 s\n"
     ]
    },
    {
     "data": {
      "application/vnd.jupyter.widget-view+json": {
       "model_id": "",
       "version_major": 2,
       "version_minor": 0
      },
      "text/plain": [
       "HBox(children=(FloatProgress(value=0.0, description='Training', layout=Layout(flex='2'), max=5000.0, style=Pro…"
      ]
     },
     "metadata": {},
     "output_type": "display_data"
    },
    {
     "name": "stdout",
     "output_type": "stream",
     "text": [
      "Epoch 57: train=0.569848, val=0.384694, took 575.84 s\n"
     ]
    },
    {
     "data": {
      "application/vnd.jupyter.widget-view+json": {
       "model_id": "",
       "version_major": 2,
       "version_minor": 0
      },
      "text/plain": [
       "HBox(children=(FloatProgress(value=0.0, description='Training', layout=Layout(flex='2'), max=5000.0, style=Pro…"
      ]
     },
     "metadata": {},
     "output_type": "display_data"
    },
    {
     "name": "stdout",
     "output_type": "stream",
     "text": [
      "Epoch 58: train=0.565635, val=0.369129, took 575.31 s\n"
     ]
    },
    {
     "data": {
      "application/vnd.jupyter.widget-view+json": {
       "model_id": "",
       "version_major": 2,
       "version_minor": 0
      },
      "text/plain": [
       "HBox(children=(FloatProgress(value=0.0, description='Training', layout=Layout(flex='2'), max=5000.0, style=Pro…"
      ]
     },
     "metadata": {},
     "output_type": "display_data"
    },
    {
     "name": "stdout",
     "output_type": "stream",
     "text": [
      "Epoch 59: train=0.566317, val=0.372379, took 575.9 s\n"
     ]
    },
    {
     "data": {
      "application/vnd.jupyter.widget-view+json": {
       "model_id": "",
       "version_major": 2,
       "version_minor": 0
      },
      "text/plain": [
       "HBox(children=(FloatProgress(value=0.0, description='Training', layout=Layout(flex='2'), max=5000.0, style=Pro…"
      ]
     },
     "metadata": {},
     "output_type": "display_data"
    },
    {
     "name": "stdout",
     "output_type": "stream",
     "text": [
      "Epoch 60: train=0.566145, val=0.387998, took 577.0 s\n"
     ]
    },
    {
     "data": {
      "application/vnd.jupyter.widget-view+json": {
       "model_id": "",
       "version_major": 2,
       "version_minor": 0
      },
      "text/plain": [
       "HBox(children=(FloatProgress(value=0.0, description='Training', layout=Layout(flex='2'), max=5000.0, style=Pro…"
      ]
     },
     "metadata": {},
     "output_type": "display_data"
    },
    {
     "name": "stdout",
     "output_type": "stream",
     "text": [
      "Epoch 61: train=0.567143, val=0.369811, took 575.34 s\n"
     ]
    },
    {
     "data": {
      "application/vnd.jupyter.widget-view+json": {
       "model_id": "",
       "version_major": 2,
       "version_minor": 0
      },
      "text/plain": [
       "HBox(children=(FloatProgress(value=0.0, description='Training', layout=Layout(flex='2'), max=5000.0, style=Pro…"
      ]
     },
     "metadata": {},
     "output_type": "display_data"
    },
    {
     "name": "stdout",
     "output_type": "stream",
     "text": [
      "Epoch 62: train=0.564799, val=0.383745, took 575.51 s\n"
     ]
    },
    {
     "data": {
      "application/vnd.jupyter.widget-view+json": {
       "model_id": "",
       "version_major": 2,
       "version_minor": 0
      },
      "text/plain": [
       "HBox(children=(FloatProgress(value=0.0, description='Training', layout=Layout(flex='2'), max=5000.0, style=Pro…"
      ]
     },
     "metadata": {},
     "output_type": "display_data"
    },
    {
     "name": "stdout",
     "output_type": "stream",
     "text": [
      "Epoch 63: train=0.566398, val=0.368856, took 574.96 s\n"
     ]
    },
    {
     "data": {
      "application/vnd.jupyter.widget-view+json": {
       "model_id": "",
       "version_major": 2,
       "version_minor": 0
      },
      "text/plain": [
       "HBox(children=(FloatProgress(value=0.0, description='Training', layout=Layout(flex='2'), max=5000.0, style=Pro…"
      ]
     },
     "metadata": {},
     "output_type": "display_data"
    },
    {
     "name": "stdout",
     "output_type": "stream",
     "text": [
      "Epoch 64: train=0.567592, val=0.371389, took 576.27 s\n"
     ]
    },
    {
     "data": {
      "application/vnd.jupyter.widget-view+json": {
       "model_id": "",
       "version_major": 2,
       "version_minor": 0
      },
      "text/plain": [
       "HBox(children=(FloatProgress(value=0.0, description='Training', layout=Layout(flex='2'), max=5000.0, style=Pro…"
      ]
     },
     "metadata": {},
     "output_type": "display_data"
    },
    {
     "name": "stdout",
     "output_type": "stream",
     "text": [
      "Epoch 65: train=0.564789, val=0.381882, took 576.24 s\n"
     ]
    },
    {
     "data": {
      "application/vnd.jupyter.widget-view+json": {
       "model_id": "",
       "version_major": 2,
       "version_minor": 0
      },
      "text/plain": [
       "HBox(children=(FloatProgress(value=0.0, description='Training', layout=Layout(flex='2'), max=5000.0, style=Pro…"
      ]
     },
     "metadata": {},
     "output_type": "display_data"
    },
    {
     "name": "stdout",
     "output_type": "stream",
     "text": [
      "Epoch 66: train=0.566995, val=0.369313, took 575.24 s\n"
     ]
    },
    {
     "data": {
      "application/vnd.jupyter.widget-view+json": {
       "model_id": "",
       "version_major": 2,
       "version_minor": 0
      },
      "text/plain": [
       "HBox(children=(FloatProgress(value=0.0, description='Training', layout=Layout(flex='2'), max=5000.0, style=Pro…"
      ]
     },
     "metadata": {},
     "output_type": "display_data"
    },
    {
     "name": "stdout",
     "output_type": "stream",
     "text": [
      "Epoch 67: train=0.566358, val=0.370081, took 575.93 s\n"
     ]
    },
    {
     "data": {
      "application/vnd.jupyter.widget-view+json": {
       "model_id": "",
       "version_major": 2,
       "version_minor": 0
      },
      "text/plain": [
       "HBox(children=(FloatProgress(value=0.0, description='Training', layout=Layout(flex='2'), max=5000.0, style=Pro…"
      ]
     },
     "metadata": {},
     "output_type": "display_data"
    },
    {
     "name": "stdout",
     "output_type": "stream",
     "text": [
      "Epoch 68: train=0.565674, val=0.375789, took 575.83 s\n"
     ]
    },
    {
     "data": {
      "application/vnd.jupyter.widget-view+json": {
       "model_id": "",
       "version_major": 2,
       "version_minor": 0
      },
      "text/plain": [
       "HBox(children=(FloatProgress(value=0.0, description='Training', layout=Layout(flex='2'), max=5000.0, style=Pro…"
      ]
     },
     "metadata": {},
     "output_type": "display_data"
    },
    {
     "name": "stdout",
     "output_type": "stream",
     "text": [
      "Epoch 69: train=0.56647, val=0.372264, took 577.92 s\n"
     ]
    },
    {
     "data": {
      "application/vnd.jupyter.widget-view+json": {
       "model_id": "",
       "version_major": 2,
       "version_minor": 0
      },
      "text/plain": [
       "HBox(children=(FloatProgress(value=0.0, description='Training', layout=Layout(flex='2'), max=5000.0, style=Pro…"
      ]
     },
     "metadata": {},
     "output_type": "display_data"
    },
    {
     "name": "stdout",
     "output_type": "stream",
     "text": [
      "Epoch 70: train=0.563893, val=0.367522, took 578.52 s\n"
     ]
    },
    {
     "data": {
      "application/vnd.jupyter.widget-view+json": {
       "model_id": "",
       "version_major": 2,
       "version_minor": 0
      },
      "text/plain": [
       "HBox(children=(FloatProgress(value=0.0, description='Training', layout=Layout(flex='2'), max=5000.0, style=Pro…"
      ]
     },
     "metadata": {},
     "output_type": "display_data"
    },
    {
     "name": "stdout",
     "output_type": "stream",
     "text": [
      "Epoch 71: train=0.565144, val=0.376148, took 576.94 s\n"
     ]
    },
    {
     "data": {
      "application/vnd.jupyter.widget-view+json": {
       "model_id": "",
       "version_major": 2,
       "version_minor": 0
      },
      "text/plain": [
       "HBox(children=(FloatProgress(value=0.0, description='Training', layout=Layout(flex='2'), max=5000.0, style=Pro…"
      ]
     },
     "metadata": {},
     "output_type": "display_data"
    },
    {
     "name": "stdout",
     "output_type": "stream",
     "text": [
      "Epoch 72: train=0.563973, val=0.376759, took 578.48 s\n"
     ]
    },
    {
     "data": {
      "application/vnd.jupyter.widget-view+json": {
       "model_id": "",
       "version_major": 2,
       "version_minor": 0
      },
      "text/plain": [
       "HBox(children=(FloatProgress(value=0.0, description='Training', layout=Layout(flex='2'), max=5000.0, style=Pro…"
      ]
     },
     "metadata": {},
     "output_type": "display_data"
    },
    {
     "name": "stdout",
     "output_type": "stream",
     "text": [
      "Epoch 73: train=0.565372, val=0.381448, took 577.16 s\n"
     ]
    },
    {
     "data": {
      "application/vnd.jupyter.widget-view+json": {
       "model_id": "",
       "version_major": 2,
       "version_minor": 0
      },
      "text/plain": [
       "HBox(children=(FloatProgress(value=0.0, description='Training', layout=Layout(flex='2'), max=5000.0, style=Pro…"
      ]
     },
     "metadata": {},
     "output_type": "display_data"
    },
    {
     "name": "stdout",
     "output_type": "stream",
     "text": [
      "Epoch 74: train=0.565761, val=0.378457, took 577.12 s\n"
     ]
    },
    {
     "data": {
      "application/vnd.jupyter.widget-view+json": {
       "model_id": "",
       "version_major": 2,
       "version_minor": 0
      },
      "text/plain": [
       "HBox(children=(FloatProgress(value=0.0, description='Training', layout=Layout(flex='2'), max=5000.0, style=Pro…"
      ]
     },
     "metadata": {},
     "output_type": "display_data"
    },
    {
     "name": "stdout",
     "output_type": "stream",
     "text": [
      "Epoch 75: train=0.566977, val=0.369698, took 576.77 s\n"
     ]
    },
    {
     "data": {
      "application/vnd.jupyter.widget-view+json": {
       "model_id": "",
       "version_major": 2,
       "version_minor": 0
      },
      "text/plain": [
       "HBox(children=(FloatProgress(value=0.0, description='Training', layout=Layout(flex='2'), max=5000.0, style=Pro…"
      ]
     },
     "metadata": {},
     "output_type": "display_data"
    },
    {
     "name": "stdout",
     "output_type": "stream",
     "text": [
      "Epoch 76: train=0.565282, val=0.3714, took 576.93 s\n"
     ]
    },
    {
     "data": {
      "application/vnd.jupyter.widget-view+json": {
       "model_id": "",
       "version_major": 2,
       "version_minor": 0
      },
      "text/plain": [
       "HBox(children=(FloatProgress(value=0.0, description='Training', layout=Layout(flex='2'), max=5000.0, style=Pro…"
      ]
     },
     "metadata": {},
     "output_type": "display_data"
    },
    {
     "name": "stdout",
     "output_type": "stream",
     "text": [
      "Epoch 77: train=0.564177, val=0.3842, took 576.79 s\n"
     ]
    },
    {
     "data": {
      "application/vnd.jupyter.widget-view+json": {
       "model_id": "",
       "version_major": 2,
       "version_minor": 0
      },
      "text/plain": [
       "HBox(children=(FloatProgress(value=0.0, description='Training', layout=Layout(flex='2'), max=5000.0, style=Pro…"
      ]
     },
     "metadata": {},
     "output_type": "display_data"
    },
    {
     "name": "stdout",
     "output_type": "stream",
     "text": [
      "Epoch 78: train=0.564828, val=0.372288, took 576.6 s\n"
     ]
    },
    {
     "data": {
      "application/vnd.jupyter.widget-view+json": {
       "model_id": "",
       "version_major": 2,
       "version_minor": 0
      },
      "text/plain": [
       "HBox(children=(FloatProgress(value=0.0, description='Training', layout=Layout(flex='2'), max=5000.0, style=Pro…"
      ]
     },
     "metadata": {},
     "output_type": "display_data"
    },
    {
     "name": "stdout",
     "output_type": "stream",
     "text": [
      "Epoch 79: train=0.564683, val=0.368265, took 575.76 s\n"
     ]
    },
    {
     "data": {
      "application/vnd.jupyter.widget-view+json": {
       "model_id": "",
       "version_major": 2,
       "version_minor": 0
      },
      "text/plain": [
       "HBox(children=(FloatProgress(value=0.0, description='Training', layout=Layout(flex='2'), max=5000.0, style=Pro…"
      ]
     },
     "metadata": {},
     "output_type": "display_data"
    },
    {
     "name": "stdout",
     "output_type": "stream",
     "text": [
      "Epoch 80: train=0.564777, val=0.366936, took 576.53 s\n"
     ]
    },
    {
     "data": {
      "application/vnd.jupyter.widget-view+json": {
       "model_id": "",
       "version_major": 2,
       "version_minor": 0
      },
      "text/plain": [
       "HBox(children=(FloatProgress(value=0.0, description='Training', layout=Layout(flex='2'), max=5000.0, style=Pro…"
      ]
     },
     "metadata": {},
     "output_type": "display_data"
    },
    {
     "name": "stdout",
     "output_type": "stream",
     "text": [
      "Epoch 81: train=0.564736, val=0.37259, took 576.01 s\n"
     ]
    },
    {
     "data": {
      "application/vnd.jupyter.widget-view+json": {
       "model_id": "",
       "version_major": 2,
       "version_minor": 0
      },
      "text/plain": [
       "HBox(children=(FloatProgress(value=0.0, description='Training', layout=Layout(flex='2'), max=5000.0, style=Pro…"
      ]
     },
     "metadata": {},
     "output_type": "display_data"
    },
    {
     "name": "stdout",
     "output_type": "stream",
     "text": [
      "Epoch 82: train=0.566956, val=0.387898, took 575.71 s\n"
     ]
    },
    {
     "data": {
      "application/vnd.jupyter.widget-view+json": {
       "model_id": "",
       "version_major": 2,
       "version_minor": 0
      },
      "text/plain": [
       "HBox(children=(FloatProgress(value=0.0, description='Training', layout=Layout(flex='2'), max=5000.0, style=Pro…"
      ]
     },
     "metadata": {},
     "output_type": "display_data"
    },
    {
     "name": "stdout",
     "output_type": "stream",
     "text": [
      "Epoch 83: train=0.563944, val=0.370193, took 576.68 s\n"
     ]
    },
    {
     "data": {
      "application/vnd.jupyter.widget-view+json": {
       "model_id": "",
       "version_major": 2,
       "version_minor": 0
      },
      "text/plain": [
       "HBox(children=(FloatProgress(value=0.0, description='Training', layout=Layout(flex='2'), max=5000.0, style=Pro…"
      ]
     },
     "metadata": {},
     "output_type": "display_data"
    },
    {
     "name": "stdout",
     "output_type": "stream",
     "text": [
      "Epoch 84: train=0.563624, val=0.367628, took 576.01 s\n"
     ]
    },
    {
     "data": {
      "application/vnd.jupyter.widget-view+json": {
       "model_id": "",
       "version_major": 2,
       "version_minor": 0
      },
      "text/plain": [
       "HBox(children=(FloatProgress(value=0.0, description='Training', layout=Layout(flex='2'), max=5000.0, style=Pro…"
      ]
     },
     "metadata": {},
     "output_type": "display_data"
    },
    {
     "name": "stdout",
     "output_type": "stream",
     "text": [
      "Epoch 85: train=0.565054, val=0.371785, took 576.34 s\n"
     ]
    },
    {
     "data": {
      "application/vnd.jupyter.widget-view+json": {
       "model_id": "",
       "version_major": 2,
       "version_minor": 0
      },
      "text/plain": [
       "HBox(children=(FloatProgress(value=0.0, description='Training', layout=Layout(flex='2'), max=5000.0, style=Pro…"
      ]
     },
     "metadata": {},
     "output_type": "display_data"
    },
    {
     "name": "stdout",
     "output_type": "stream",
     "text": [
      "Epoch 86: train=0.562598, val=0.368572, took 576.73 s\n"
     ]
    },
    {
     "data": {
      "application/vnd.jupyter.widget-view+json": {
       "model_id": "",
       "version_major": 2,
       "version_minor": 0
      },
      "text/plain": [
       "HBox(children=(FloatProgress(value=0.0, description='Training', layout=Layout(flex='2'), max=5000.0, style=Pro…"
      ]
     },
     "metadata": {},
     "output_type": "display_data"
    },
    {
     "name": "stdout",
     "output_type": "stream",
     "text": [
      "Epoch 87: train=0.562029, val=0.372985, took 576.25 s\n"
     ]
    },
    {
     "data": {
      "application/vnd.jupyter.widget-view+json": {
       "model_id": "",
       "version_major": 2,
       "version_minor": 0
      },
      "text/plain": [
       "HBox(children=(FloatProgress(value=0.0, description='Training', layout=Layout(flex='2'), max=5000.0, style=Pro…"
      ]
     },
     "metadata": {},
     "output_type": "display_data"
    },
    {
     "name": "stdout",
     "output_type": "stream",
     "text": [
      "Epoch 88: train=0.56506, val=0.369607, took 576.76 s\n"
     ]
    },
    {
     "data": {
      "application/vnd.jupyter.widget-view+json": {
       "model_id": "",
       "version_major": 2,
       "version_minor": 0
      },
      "text/plain": [
       "HBox(children=(FloatProgress(value=0.0, description='Training', layout=Layout(flex='2'), max=5000.0, style=Pro…"
      ]
     },
     "metadata": {},
     "output_type": "display_data"
    },
    {
     "name": "stdout",
     "output_type": "stream",
     "text": [
      "Epoch 89: train=0.563423, val=0.366996, took 576.52 s\n"
     ]
    },
    {
     "data": {
      "application/vnd.jupyter.widget-view+json": {
       "model_id": "",
       "version_major": 2,
       "version_minor": 0
      },
      "text/plain": [
       "HBox(children=(FloatProgress(value=0.0, description='Training', layout=Layout(flex='2'), max=5000.0, style=Pro…"
      ]
     },
     "metadata": {},
     "output_type": "display_data"
    },
    {
     "name": "stdout",
     "output_type": "stream",
     "text": [
      "Epoch 90: train=0.563741, val=0.370627, took 576.54 s\n"
     ]
    },
    {
     "data": {
      "application/vnd.jupyter.widget-view+json": {
       "model_id": "",
       "version_major": 2,
       "version_minor": 0
      },
      "text/plain": [
       "HBox(children=(FloatProgress(value=0.0, description='Training', layout=Layout(flex='2'), max=5000.0, style=Pro…"
      ]
     },
     "metadata": {},
     "output_type": "display_data"
    },
    {
     "name": "stdout",
     "output_type": "stream",
     "text": [
      "Epoch 91: train=0.562566, val=0.369136, took 575.65 s\n"
     ]
    },
    {
     "data": {
      "application/vnd.jupyter.widget-view+json": {
       "model_id": "",
       "version_major": 2,
       "version_minor": 0
      },
      "text/plain": [
       "HBox(children=(FloatProgress(value=0.0, description='Training', layout=Layout(flex='2'), max=5000.0, style=Pro…"
      ]
     },
     "metadata": {},
     "output_type": "display_data"
    },
    {
     "name": "stdout",
     "output_type": "stream",
     "text": [
      "Epoch 92: train=0.563415, val=0.366772, took 576.19 s\n"
     ]
    },
    {
     "data": {
      "application/vnd.jupyter.widget-view+json": {
       "model_id": "",
       "version_major": 2,
       "version_minor": 0
      },
      "text/plain": [
       "HBox(children=(FloatProgress(value=0.0, description='Training', layout=Layout(flex='2'), max=5000.0, style=Pro…"
      ]
     },
     "metadata": {},
     "output_type": "display_data"
    },
    {
     "name": "stdout",
     "output_type": "stream",
     "text": [
      "Epoch 93: train=0.562863, val=0.391674, took 575.9 s\n"
     ]
    },
    {
     "data": {
      "application/vnd.jupyter.widget-view+json": {
       "model_id": "",
       "version_major": 2,
       "version_minor": 0
      },
      "text/plain": [
       "HBox(children=(FloatProgress(value=0.0, description='Training', layout=Layout(flex='2'), max=5000.0, style=Pro…"
      ]
     },
     "metadata": {},
     "output_type": "display_data"
    },
    {
     "name": "stdout",
     "output_type": "stream",
     "text": [
      "Epoch 94: train=0.562732, val=0.365546, took 575.43 s\n"
     ]
    },
    {
     "data": {
      "application/vnd.jupyter.widget-view+json": {
       "model_id": "",
       "version_major": 2,
       "version_minor": 0
      },
      "text/plain": [
       "HBox(children=(FloatProgress(value=0.0, description='Training', layout=Layout(flex='2'), max=5000.0, style=Pro…"
      ]
     },
     "metadata": {},
     "output_type": "display_data"
    },
    {
     "name": "stdout",
     "output_type": "stream",
     "text": [
      "Epoch 95: train=0.56316, val=0.415436, took 575.86 s\n"
     ]
    },
    {
     "data": {
      "application/vnd.jupyter.widget-view+json": {
       "model_id": "",
       "version_major": 2,
       "version_minor": 0
      },
      "text/plain": [
       "HBox(children=(FloatProgress(value=0.0, description='Training', layout=Layout(flex='2'), max=5000.0, style=Pro…"
      ]
     },
     "metadata": {},
     "output_type": "display_data"
    },
    {
     "name": "stdout",
     "output_type": "stream",
     "text": [
      "Epoch 96: train=0.56308, val=0.369468, took 575.58 s\n"
     ]
    },
    {
     "data": {
      "application/vnd.jupyter.widget-view+json": {
       "model_id": "",
       "version_major": 2,
       "version_minor": 0
      },
      "text/plain": [
       "HBox(children=(FloatProgress(value=0.0, description='Training', layout=Layout(flex='2'), max=5000.0, style=Pro…"
      ]
     },
     "metadata": {},
     "output_type": "display_data"
    },
    {
     "name": "stdout",
     "output_type": "stream",
     "text": [
      "Epoch 97: train=0.560343, val=0.375722, took 575.76 s\n"
     ]
    },
    {
     "data": {
      "application/vnd.jupyter.widget-view+json": {
       "model_id": "",
       "version_major": 2,
       "version_minor": 0
      },
      "text/plain": [
       "HBox(children=(FloatProgress(value=0.0, description='Training', layout=Layout(flex='2'), max=5000.0, style=Pro…"
      ]
     },
     "metadata": {},
     "output_type": "display_data"
    },
    {
     "name": "stdout",
     "output_type": "stream",
     "text": [
      "Epoch 98: train=0.561642, val=0.3675, took 575.81 s\n"
     ]
    },
    {
     "data": {
      "application/vnd.jupyter.widget-view+json": {
       "model_id": "",
       "version_major": 2,
       "version_minor": 0
      },
      "text/plain": [
       "HBox(children=(FloatProgress(value=0.0, description='Training', layout=Layout(flex='2'), max=5000.0, style=Pro…"
      ]
     },
     "metadata": {},
     "output_type": "display_data"
    },
    {
     "name": "stdout",
     "output_type": "stream",
     "text": [
      "Epoch 99: train=0.562881, val=0.366869, took 575.93 s\n"
     ]
    },
    {
     "data": {
      "application/vnd.jupyter.widget-view+json": {
       "model_id": "",
       "version_major": 2,
       "version_minor": 0
      },
      "text/plain": [
       "HBox(children=(FloatProgress(value=0.0, description='Training', layout=Layout(flex='2'), max=5000.0, style=Pro…"
      ]
     },
     "metadata": {},
     "output_type": "display_data"
    },
    {
     "name": "stdout",
     "output_type": "stream",
     "text": [
      "Epoch 100: train=0.560529, val=0.4133, took 575.86 s\n"
     ]
    },
    {
     "data": {
      "application/vnd.jupyter.widget-view+json": {
       "model_id": "",
       "version_major": 2,
       "version_minor": 0
      },
      "text/plain": [
       "HBox(children=(FloatProgress(value=0.0, description='Training', layout=Layout(flex='2'), max=5000.0, style=Pro…"
      ]
     },
     "metadata": {},
     "output_type": "display_data"
    },
    {
     "name": "stdout",
     "output_type": "stream",
     "text": [
      "Epoch 101: train=0.562302, val=0.37439, took 575.42 s\n"
     ]
    },
    {
     "data": {
      "application/vnd.jupyter.widget-view+json": {
       "model_id": "",
       "version_major": 2,
       "version_minor": 0
      },
      "text/plain": [
       "HBox(children=(FloatProgress(value=0.0, description='Training', layout=Layout(flex='2'), max=5000.0, style=Pro…"
      ]
     },
     "metadata": {},
     "output_type": "display_data"
    },
    {
     "name": "stdout",
     "output_type": "stream",
     "text": [
      "Epoch 102: train=0.563341, val=0.367884, took 575.97 s\n"
     ]
    },
    {
     "data": {
      "application/vnd.jupyter.widget-view+json": {
       "model_id": "",
       "version_major": 2,
       "version_minor": 0
      },
      "text/plain": [
       "HBox(children=(FloatProgress(value=0.0, description='Training', layout=Layout(flex='2'), max=5000.0, style=Pro…"
      ]
     },
     "metadata": {},
     "output_type": "display_data"
    },
    {
     "name": "stdout",
     "output_type": "stream",
     "text": [
      "Epoch 103: train=0.562095, val=0.38707, took 575.06 s\n"
     ]
    },
    {
     "data": {
      "application/vnd.jupyter.widget-view+json": {
       "model_id": "",
       "version_major": 2,
       "version_minor": 0
      },
      "text/plain": [
       "HBox(children=(FloatProgress(value=0.0, description='Training', layout=Layout(flex='2'), max=5000.0, style=Pro…"
      ]
     },
     "metadata": {},
     "output_type": "display_data"
    },
    {
     "name": "stdout",
     "output_type": "stream",
     "text": [
      "Epoch 104: train=0.562257, val=0.385527, took 574.7 s\n"
     ]
    },
    {
     "data": {
      "application/vnd.jupyter.widget-view+json": {
       "model_id": "",
       "version_major": 2,
       "version_minor": 0
      },
      "text/plain": [
       "HBox(children=(FloatProgress(value=0.0, description='Training', layout=Layout(flex='2'), max=5000.0, style=Pro…"
      ]
     },
     "metadata": {},
     "output_type": "display_data"
    },
    {
     "name": "stdout",
     "output_type": "stream",
     "text": [
      "Epoch 105: train=0.562574, val=0.367081, took 575.64 s\n"
     ]
    },
    {
     "data": {
      "application/vnd.jupyter.widget-view+json": {
       "model_id": "",
       "version_major": 2,
       "version_minor": 0
      },
      "text/plain": [
       "HBox(children=(FloatProgress(value=0.0, description='Training', layout=Layout(flex='2'), max=5000.0, style=Pro…"
      ]
     },
     "metadata": {},
     "output_type": "display_data"
    },
    {
     "name": "stdout",
     "output_type": "stream",
     "text": [
      "Epoch 106: train=0.562267, val=0.364919, took 576.09 s\n"
     ]
    },
    {
     "data": {
      "application/vnd.jupyter.widget-view+json": {
       "model_id": "",
       "version_major": 2,
       "version_minor": 0
      },
      "text/plain": [
       "HBox(children=(FloatProgress(value=0.0, description='Training', layout=Layout(flex='2'), max=5000.0, style=Pro…"
      ]
     },
     "metadata": {},
     "output_type": "display_data"
    },
    {
     "name": "stdout",
     "output_type": "stream",
     "text": [
      "Epoch 107: train=0.560605, val=0.390393, took 575.49 s\n"
     ]
    },
    {
     "data": {
      "application/vnd.jupyter.widget-view+json": {
       "model_id": "",
       "version_major": 2,
       "version_minor": 0
      },
      "text/plain": [
       "HBox(children=(FloatProgress(value=0.0, description='Training', layout=Layout(flex='2'), max=5000.0, style=Pro…"
      ]
     },
     "metadata": {},
     "output_type": "display_data"
    },
    {
     "name": "stdout",
     "output_type": "stream",
     "text": [
      "Epoch 108: train=0.562256, val=0.3732, took 575.62 s\n"
     ]
    },
    {
     "data": {
      "application/vnd.jupyter.widget-view+json": {
       "model_id": "",
       "version_major": 2,
       "version_minor": 0
      },
      "text/plain": [
       "HBox(children=(FloatProgress(value=0.0, description='Training', layout=Layout(flex='2'), max=5000.0, style=Pro…"
      ]
     },
     "metadata": {},
     "output_type": "display_data"
    },
    {
     "name": "stdout",
     "output_type": "stream",
     "text": [
      "Epoch 109: train=0.562087, val=0.368877, took 574.89 s\n"
     ]
    },
    {
     "data": {
      "application/vnd.jupyter.widget-view+json": {
       "model_id": "",
       "version_major": 2,
       "version_minor": 0
      },
      "text/plain": [
       "HBox(children=(FloatProgress(value=0.0, description='Training', layout=Layout(flex='2'), max=5000.0, style=Pro…"
      ]
     },
     "metadata": {},
     "output_type": "display_data"
    },
    {
     "name": "stdout",
     "output_type": "stream",
     "text": [
      "Epoch 110: train=0.563044, val=0.39098, took 575.45 s\n"
     ]
    },
    {
     "data": {
      "application/vnd.jupyter.widget-view+json": {
       "model_id": "",
       "version_major": 2,
       "version_minor": 0
      },
      "text/plain": [
       "HBox(children=(FloatProgress(value=0.0, description='Training', layout=Layout(flex='2'), max=5000.0, style=Pro…"
      ]
     },
     "metadata": {},
     "output_type": "display_data"
    },
    {
     "name": "stdout",
     "output_type": "stream",
     "text": [
      "Epoch 111: train=0.563206, val=0.364142, took 576.02 s\n"
     ]
    },
    {
     "data": {
      "application/vnd.jupyter.widget-view+json": {
       "model_id": "",
       "version_major": 2,
       "version_minor": 0
      },
      "text/plain": [
       "HBox(children=(FloatProgress(value=0.0, description='Training', layout=Layout(flex='2'), max=5000.0, style=Pro…"
      ]
     },
     "metadata": {},
     "output_type": "display_data"
    },
    {
     "name": "stdout",
     "output_type": "stream",
     "text": [
      "Epoch 112: train=0.561351, val=0.458562, took 575.39 s\n"
     ]
    },
    {
     "data": {
      "application/vnd.jupyter.widget-view+json": {
       "model_id": "",
       "version_major": 2,
       "version_minor": 0
      },
      "text/plain": [
       "HBox(children=(FloatProgress(value=0.0, description='Training', layout=Layout(flex='2'), max=5000.0, style=Pro…"
      ]
     },
     "metadata": {},
     "output_type": "display_data"
    },
    {
     "name": "stdout",
     "output_type": "stream",
     "text": [
      "Epoch 113: train=0.560665, val=0.363895, took 573.43 s\n"
     ]
    },
    {
     "data": {
      "application/vnd.jupyter.widget-view+json": {
       "model_id": "",
       "version_major": 2,
       "version_minor": 0
      },
      "text/plain": [
       "HBox(children=(FloatProgress(value=0.0, description='Training', layout=Layout(flex='2'), max=5000.0, style=Pro…"
      ]
     },
     "metadata": {},
     "output_type": "display_data"
    },
    {
     "name": "stdout",
     "output_type": "stream",
     "text": [
      "Epoch 114: train=0.560443, val=0.374306, took 575.66 s\n"
     ]
    },
    {
     "data": {
      "application/vnd.jupyter.widget-view+json": {
       "model_id": "",
       "version_major": 2,
       "version_minor": 0
      },
      "text/plain": [
       "HBox(children=(FloatProgress(value=0.0, description='Training', layout=Layout(flex='2'), max=5000.0, style=Pro…"
      ]
     },
     "metadata": {},
     "output_type": "display_data"
    },
    {
     "name": "stdout",
     "output_type": "stream",
     "text": [
      "Epoch 115: train=0.560887, val=0.369774, took 575.61 s\n"
     ]
    },
    {
     "data": {
      "application/vnd.jupyter.widget-view+json": {
       "model_id": "",
       "version_major": 2,
       "version_minor": 0
      },
      "text/plain": [
       "HBox(children=(FloatProgress(value=0.0, description='Training', layout=Layout(flex='2'), max=5000.0, style=Pro…"
      ]
     },
     "metadata": {},
     "output_type": "display_data"
    },
    {
     "name": "stdout",
     "output_type": "stream",
     "text": [
      "Epoch 116: train=0.559349, val=0.377988, took 575.73 s\n"
     ]
    },
    {
     "data": {
      "application/vnd.jupyter.widget-view+json": {
       "model_id": "",
       "version_major": 2,
       "version_minor": 0
      },
      "text/plain": [
       "HBox(children=(FloatProgress(value=0.0, description='Training', layout=Layout(flex='2'), max=5000.0, style=Pro…"
      ]
     },
     "metadata": {},
     "output_type": "display_data"
    },
    {
     "name": "stdout",
     "output_type": "stream",
     "text": [
      "Epoch 117: train=0.560068, val=0.36714, took 575.72 s\n"
     ]
    },
    {
     "data": {
      "application/vnd.jupyter.widget-view+json": {
       "model_id": "",
       "version_major": 2,
       "version_minor": 0
      },
      "text/plain": [
       "HBox(children=(FloatProgress(value=0.0, description='Training', layout=Layout(flex='2'), max=5000.0, style=Pro…"
      ]
     },
     "metadata": {},
     "output_type": "display_data"
    },
    {
     "name": "stdout",
     "output_type": "stream",
     "text": [
      "Epoch 118: train=0.560876, val=0.409762, took 576.28 s\n"
     ]
    },
    {
     "data": {
      "application/vnd.jupyter.widget-view+json": {
       "model_id": "",
       "version_major": 2,
       "version_minor": 0
      },
      "text/plain": [
       "HBox(children=(FloatProgress(value=0.0, description='Training', layout=Layout(flex='2'), max=5000.0, style=Pro…"
      ]
     },
     "metadata": {},
     "output_type": "display_data"
    },
    {
     "name": "stdout",
     "output_type": "stream",
     "text": [
      "Epoch 119: train=0.56129, val=0.36651, took 576.1 s\n"
     ]
    },
    {
     "data": {
      "application/vnd.jupyter.widget-view+json": {
       "model_id": "",
       "version_major": 2,
       "version_minor": 0
      },
      "text/plain": [
       "HBox(children=(FloatProgress(value=0.0, description='Training', layout=Layout(flex='2'), max=5000.0, style=Pro…"
      ]
     },
     "metadata": {},
     "output_type": "display_data"
    },
    {
     "name": "stdout",
     "output_type": "stream",
     "text": [
      "Epoch 120: train=0.560839, val=0.36777, took 576.67 s\n"
     ]
    },
    {
     "data": {
      "application/vnd.jupyter.widget-view+json": {
       "model_id": "",
       "version_major": 2,
       "version_minor": 0
      },
      "text/plain": [
       "HBox(children=(FloatProgress(value=0.0, description='Training', layout=Layout(flex='2'), max=5000.0, style=Pro…"
      ]
     },
     "metadata": {},
     "output_type": "display_data"
    },
    {
     "name": "stdout",
     "output_type": "stream",
     "text": [
      "Epoch 121: train=0.559106, val=0.38583, took 576.34 s\n",
      "\n"
     ]
    }
   ],
   "source": [
    "for result in trainNet(model, optimizer, loss,\n",
    "                        train_loader, val_loader,\n",
    "                        n_epochs, epoch_start=len(results),\n",
    "                        notebook=True):\n",
    "    \n",
    "    results = results.append(pd.Series(result._asdict()), ignore_index=True)\n",
    "    xs = results.index\n",
    "    \n",
    "    # Update the plot above\n",
    "    lines['train'].set_data(results.index,results.cost)\n",
    "    lines['val'].set_data(results.index,results.val)\n",
    "    \n",
    "    #filter first cost epoch (can be really large)\n",
    "    max_cost = max(max(results.cost if len(results.cost)<2 else results.cost[1:]), max(results.val))\n",
    "    min_cost = min(min(results.cost), min(results.val))\n",
    "    \n",
    "    # The plot limits need updating too\n",
    "    \n",
    "    \n",
    "    \n",
    "    ax.set_ylim(min_cost*.9, max_cost*1.1)  \n",
    "    ax.set_xlim(-.5, len(results.cost) - .5)\n",
    "\n",
    "    \n",
    "    # Redraw the figure\n",
    "    fig.canvas.draw()\n",
    "\n",
    "    # Save each model state dictionary\n",
    "    torch.save(model.state_dict(), output / f'{name}_{result.epoch}.pyt')"
   ]
  },
  {
   "cell_type": "markdown",
   "metadata": {},
   "source": [
    "Go ahead and save the final model (even though it was also saved above):"
   ]
  },
  {
   "cell_type": "code",
   "execution_count": 19,
   "metadata": {},
   "outputs": [],
   "source": [
    "torch.save(model.state_dict(), output / f'{name}_final.pyt')"
   ]
  },
  {
   "cell_type": "markdown",
   "metadata": {},
   "source": [
    "Save the output results:"
   ]
  },
  {
   "cell_type": "code",
   "execution_count": 20,
   "metadata": {},
   "outputs": [],
   "source": [
    "results.to_hdf(output / f'{name}_stats.hdf5', 'results')"
   ]
  },
  {
   "cell_type": "markdown",
   "metadata": {},
   "source": [
    "Save the plot above:"
   ]
  },
  {
   "cell_type": "code",
   "execution_count": 21,
   "metadata": {},
   "outputs": [
    {
     "data": {
      "application/javascript": [
       "/* Put everything inside the global mpl namespace */\n",
       "window.mpl = {};\n",
       "\n",
       "\n",
       "mpl.get_websocket_type = function() {\n",
       "    if (typeof(WebSocket) !== 'undefined') {\n",
       "        return WebSocket;\n",
       "    } else if (typeof(MozWebSocket) !== 'undefined') {\n",
       "        return MozWebSocket;\n",
       "    } else {\n",
       "        alert('Your browser does not have WebSocket support. ' +\n",
       "              'Please try Chrome, Safari or Firefox ≥ 6. ' +\n",
       "              'Firefox 4 and 5 are also supported but you ' +\n",
       "              'have to enable WebSockets in about:config.');\n",
       "    };\n",
       "}\n",
       "\n",
       "mpl.figure = function(figure_id, websocket, ondownload, parent_element) {\n",
       "    this.id = figure_id;\n",
       "\n",
       "    this.ws = websocket;\n",
       "\n",
       "    this.supports_binary = (this.ws.binaryType != undefined);\n",
       "\n",
       "    if (!this.supports_binary) {\n",
       "        var warnings = document.getElementById(\"mpl-warnings\");\n",
       "        if (warnings) {\n",
       "            warnings.style.display = 'block';\n",
       "            warnings.textContent = (\n",
       "                \"This browser does not support binary websocket messages. \" +\n",
       "                    \"Performance may be slow.\");\n",
       "        }\n",
       "    }\n",
       "\n",
       "    this.imageObj = new Image();\n",
       "\n",
       "    this.context = undefined;\n",
       "    this.message = undefined;\n",
       "    this.canvas = undefined;\n",
       "    this.rubberband_canvas = undefined;\n",
       "    this.rubberband_context = undefined;\n",
       "    this.format_dropdown = undefined;\n",
       "\n",
       "    this.image_mode = 'full';\n",
       "\n",
       "    this.root = $('<div/>');\n",
       "    this._root_extra_style(this.root)\n",
       "    this.root.attr('style', 'display: inline-block');\n",
       "\n",
       "    $(parent_element).append(this.root);\n",
       "\n",
       "    this._init_header(this);\n",
       "    this._init_canvas(this);\n",
       "    this._init_toolbar(this);\n",
       "\n",
       "    var fig = this;\n",
       "\n",
       "    this.waiting = false;\n",
       "\n",
       "    this.ws.onopen =  function () {\n",
       "            fig.send_message(\"supports_binary\", {value: fig.supports_binary});\n",
       "            fig.send_message(\"send_image_mode\", {});\n",
       "            if (mpl.ratio != 1) {\n",
       "                fig.send_message(\"set_dpi_ratio\", {'dpi_ratio': mpl.ratio});\n",
       "            }\n",
       "            fig.send_message(\"refresh\", {});\n",
       "        }\n",
       "\n",
       "    this.imageObj.onload = function() {\n",
       "            if (fig.image_mode == 'full') {\n",
       "                // Full images could contain transparency (where diff images\n",
       "                // almost always do), so we need to clear the canvas so that\n",
       "                // there is no ghosting.\n",
       "                fig.context.clearRect(0, 0, fig.canvas.width, fig.canvas.height);\n",
       "            }\n",
       "            fig.context.drawImage(fig.imageObj, 0, 0);\n",
       "        };\n",
       "\n",
       "    this.imageObj.onunload = function() {\n",
       "        fig.ws.close();\n",
       "    }\n",
       "\n",
       "    this.ws.onmessage = this._make_on_message_function(this);\n",
       "\n",
       "    this.ondownload = ondownload;\n",
       "}\n",
       "\n",
       "mpl.figure.prototype._init_header = function() {\n",
       "    var titlebar = $(\n",
       "        '<div class=\"ui-dialog-titlebar ui-widget-header ui-corner-all ' +\n",
       "        'ui-helper-clearfix\"/>');\n",
       "    var titletext = $(\n",
       "        '<div class=\"ui-dialog-title\" style=\"width: 100%; ' +\n",
       "        'text-align: center; padding: 3px;\"/>');\n",
       "    titlebar.append(titletext)\n",
       "    this.root.append(titlebar);\n",
       "    this.header = titletext[0];\n",
       "}\n",
       "\n",
       "\n",
       "\n",
       "mpl.figure.prototype._canvas_extra_style = function(canvas_div) {\n",
       "\n",
       "}\n",
       "\n",
       "\n",
       "mpl.figure.prototype._root_extra_style = function(canvas_div) {\n",
       "\n",
       "}\n",
       "\n",
       "mpl.figure.prototype._init_canvas = function() {\n",
       "    var fig = this;\n",
       "\n",
       "    var canvas_div = $('<div/>');\n",
       "\n",
       "    canvas_div.attr('style', 'position: relative; clear: both; outline: 0');\n",
       "\n",
       "    function canvas_keyboard_event(event) {\n",
       "        return fig.key_event(event, event['data']);\n",
       "    }\n",
       "\n",
       "    canvas_div.keydown('key_press', canvas_keyboard_event);\n",
       "    canvas_div.keyup('key_release', canvas_keyboard_event);\n",
       "    this.canvas_div = canvas_div\n",
       "    this._canvas_extra_style(canvas_div)\n",
       "    this.root.append(canvas_div);\n",
       "\n",
       "    var canvas = $('<canvas/>');\n",
       "    canvas.addClass('mpl-canvas');\n",
       "    canvas.attr('style', \"left: 0; top: 0; z-index: 0; outline: 0\")\n",
       "\n",
       "    this.canvas = canvas[0];\n",
       "    this.context = canvas[0].getContext(\"2d\");\n",
       "\n",
       "    var backingStore = this.context.backingStorePixelRatio ||\n",
       "\tthis.context.webkitBackingStorePixelRatio ||\n",
       "\tthis.context.mozBackingStorePixelRatio ||\n",
       "\tthis.context.msBackingStorePixelRatio ||\n",
       "\tthis.context.oBackingStorePixelRatio ||\n",
       "\tthis.context.backingStorePixelRatio || 1;\n",
       "\n",
       "    mpl.ratio = (window.devicePixelRatio || 1) / backingStore;\n",
       "\n",
       "    var rubberband = $('<canvas/>');\n",
       "    rubberband.attr('style', \"position: absolute; left: 0; top: 0; z-index: 1;\")\n",
       "\n",
       "    var pass_mouse_events = true;\n",
       "\n",
       "    canvas_div.resizable({\n",
       "        start: function(event, ui) {\n",
       "            pass_mouse_events = false;\n",
       "        },\n",
       "        resize: function(event, ui) {\n",
       "            fig.request_resize(ui.size.width, ui.size.height);\n",
       "        },\n",
       "        stop: function(event, ui) {\n",
       "            pass_mouse_events = true;\n",
       "            fig.request_resize(ui.size.width, ui.size.height);\n",
       "        },\n",
       "    });\n",
       "\n",
       "    function mouse_event_fn(event) {\n",
       "        if (pass_mouse_events)\n",
       "            return fig.mouse_event(event, event['data']);\n",
       "    }\n",
       "\n",
       "    rubberband.mousedown('button_press', mouse_event_fn);\n",
       "    rubberband.mouseup('button_release', mouse_event_fn);\n",
       "    // Throttle sequential mouse events to 1 every 20ms.\n",
       "    rubberband.mousemove('motion_notify', mouse_event_fn);\n",
       "\n",
       "    rubberband.mouseenter('figure_enter', mouse_event_fn);\n",
       "    rubberband.mouseleave('figure_leave', mouse_event_fn);\n",
       "\n",
       "    canvas_div.on(\"wheel\", function (event) {\n",
       "        event = event.originalEvent;\n",
       "        event['data'] = 'scroll'\n",
       "        if (event.deltaY < 0) {\n",
       "            event.step = 1;\n",
       "        } else {\n",
       "            event.step = -1;\n",
       "        }\n",
       "        mouse_event_fn(event);\n",
       "    });\n",
       "\n",
       "    canvas_div.append(canvas);\n",
       "    canvas_div.append(rubberband);\n",
       "\n",
       "    this.rubberband = rubberband;\n",
       "    this.rubberband_canvas = rubberband[0];\n",
       "    this.rubberband_context = rubberband[0].getContext(\"2d\");\n",
       "    this.rubberband_context.strokeStyle = \"#000000\";\n",
       "\n",
       "    this._resize_canvas = function(width, height) {\n",
       "        // Keep the size of the canvas, canvas container, and rubber band\n",
       "        // canvas in synch.\n",
       "        canvas_div.css('width', width)\n",
       "        canvas_div.css('height', height)\n",
       "\n",
       "        canvas.attr('width', width * mpl.ratio);\n",
       "        canvas.attr('height', height * mpl.ratio);\n",
       "        canvas.attr('style', 'width: ' + width + 'px; height: ' + height + 'px;');\n",
       "\n",
       "        rubberband.attr('width', width);\n",
       "        rubberband.attr('height', height);\n",
       "    }\n",
       "\n",
       "    // Set the figure to an initial 600x600px, this will subsequently be updated\n",
       "    // upon first draw.\n",
       "    this._resize_canvas(600, 600);\n",
       "\n",
       "    // Disable right mouse context menu.\n",
       "    $(this.rubberband_canvas).bind(\"contextmenu\",function(e){\n",
       "        return false;\n",
       "    });\n",
       "\n",
       "    function set_focus () {\n",
       "        canvas.focus();\n",
       "        canvas_div.focus();\n",
       "    }\n",
       "\n",
       "    window.setTimeout(set_focus, 100);\n",
       "}\n",
       "\n",
       "mpl.figure.prototype._init_toolbar = function() {\n",
       "    var fig = this;\n",
       "\n",
       "    var nav_element = $('<div/>');\n",
       "    nav_element.attr('style', 'width: 100%');\n",
       "    this.root.append(nav_element);\n",
       "\n",
       "    // Define a callback function for later on.\n",
       "    function toolbar_event(event) {\n",
       "        return fig.toolbar_button_onclick(event['data']);\n",
       "    }\n",
       "    function toolbar_mouse_event(event) {\n",
       "        return fig.toolbar_button_onmouseover(event['data']);\n",
       "    }\n",
       "\n",
       "    for(var toolbar_ind in mpl.toolbar_items) {\n",
       "        var name = mpl.toolbar_items[toolbar_ind][0];\n",
       "        var tooltip = mpl.toolbar_items[toolbar_ind][1];\n",
       "        var image = mpl.toolbar_items[toolbar_ind][2];\n",
       "        var method_name = mpl.toolbar_items[toolbar_ind][3];\n",
       "\n",
       "        if (!name) {\n",
       "            // put a spacer in here.\n",
       "            continue;\n",
       "        }\n",
       "        var button = $('<button/>');\n",
       "        button.addClass('ui-button ui-widget ui-state-default ui-corner-all ' +\n",
       "                        'ui-button-icon-only');\n",
       "        button.attr('role', 'button');\n",
       "        button.attr('aria-disabled', 'false');\n",
       "        button.click(method_name, toolbar_event);\n",
       "        button.mouseover(tooltip, toolbar_mouse_event);\n",
       "\n",
       "        var icon_img = $('<span/>');\n",
       "        icon_img.addClass('ui-button-icon-primary ui-icon');\n",
       "        icon_img.addClass(image);\n",
       "        icon_img.addClass('ui-corner-all');\n",
       "\n",
       "        var tooltip_span = $('<span/>');\n",
       "        tooltip_span.addClass('ui-button-text');\n",
       "        tooltip_span.html(tooltip);\n",
       "\n",
       "        button.append(icon_img);\n",
       "        button.append(tooltip_span);\n",
       "\n",
       "        nav_element.append(button);\n",
       "    }\n",
       "\n",
       "    var fmt_picker_span = $('<span/>');\n",
       "\n",
       "    var fmt_picker = $('<select/>');\n",
       "    fmt_picker.addClass('mpl-toolbar-option ui-widget ui-widget-content');\n",
       "    fmt_picker_span.append(fmt_picker);\n",
       "    nav_element.append(fmt_picker_span);\n",
       "    this.format_dropdown = fmt_picker[0];\n",
       "\n",
       "    for (var ind in mpl.extensions) {\n",
       "        var fmt = mpl.extensions[ind];\n",
       "        var option = $(\n",
       "            '<option/>', {selected: fmt === mpl.default_extension}).html(fmt);\n",
       "        fmt_picker.append(option);\n",
       "    }\n",
       "\n",
       "    // Add hover states to the ui-buttons\n",
       "    $( \".ui-button\" ).hover(\n",
       "        function() { $(this).addClass(\"ui-state-hover\");},\n",
       "        function() { $(this).removeClass(\"ui-state-hover\");}\n",
       "    );\n",
       "\n",
       "    var status_bar = $('<span class=\"mpl-message\"/>');\n",
       "    nav_element.append(status_bar);\n",
       "    this.message = status_bar[0];\n",
       "}\n",
       "\n",
       "mpl.figure.prototype.request_resize = function(x_pixels, y_pixels) {\n",
       "    // Request matplotlib to resize the figure. Matplotlib will then trigger a resize in the client,\n",
       "    // which will in turn request a refresh of the image.\n",
       "    this.send_message('resize', {'width': x_pixels, 'height': y_pixels});\n",
       "}\n",
       "\n",
       "mpl.figure.prototype.send_message = function(type, properties) {\n",
       "    properties['type'] = type;\n",
       "    properties['figure_id'] = this.id;\n",
       "    this.ws.send(JSON.stringify(properties));\n",
       "}\n",
       "\n",
       "mpl.figure.prototype.send_draw_message = function() {\n",
       "    if (!this.waiting) {\n",
       "        this.waiting = true;\n",
       "        this.ws.send(JSON.stringify({type: \"draw\", figure_id: this.id}));\n",
       "    }\n",
       "}\n",
       "\n",
       "\n",
       "mpl.figure.prototype.handle_save = function(fig, msg) {\n",
       "    var format_dropdown = fig.format_dropdown;\n",
       "    var format = format_dropdown.options[format_dropdown.selectedIndex].value;\n",
       "    fig.ondownload(fig, format);\n",
       "}\n",
       "\n",
       "\n",
       "mpl.figure.prototype.handle_resize = function(fig, msg) {\n",
       "    var size = msg['size'];\n",
       "    if (size[0] != fig.canvas.width || size[1] != fig.canvas.height) {\n",
       "        fig._resize_canvas(size[0], size[1]);\n",
       "        fig.send_message(\"refresh\", {});\n",
       "    };\n",
       "}\n",
       "\n",
       "mpl.figure.prototype.handle_rubberband = function(fig, msg) {\n",
       "    var x0 = msg['x0'] / mpl.ratio;\n",
       "    var y0 = (fig.canvas.height - msg['y0']) / mpl.ratio;\n",
       "    var x1 = msg['x1'] / mpl.ratio;\n",
       "    var y1 = (fig.canvas.height - msg['y1']) / mpl.ratio;\n",
       "    x0 = Math.floor(x0) + 0.5;\n",
       "    y0 = Math.floor(y0) + 0.5;\n",
       "    x1 = Math.floor(x1) + 0.5;\n",
       "    y1 = Math.floor(y1) + 0.5;\n",
       "    var min_x = Math.min(x0, x1);\n",
       "    var min_y = Math.min(y0, y1);\n",
       "    var width = Math.abs(x1 - x0);\n",
       "    var height = Math.abs(y1 - y0);\n",
       "\n",
       "    fig.rubberband_context.clearRect(\n",
       "        0, 0, fig.canvas.width / mpl.ratio, fig.canvas.height / mpl.ratio);\n",
       "\n",
       "    fig.rubberband_context.strokeRect(min_x, min_y, width, height);\n",
       "}\n",
       "\n",
       "mpl.figure.prototype.handle_figure_label = function(fig, msg) {\n",
       "    // Updates the figure title.\n",
       "    fig.header.textContent = msg['label'];\n",
       "}\n",
       "\n",
       "mpl.figure.prototype.handle_cursor = function(fig, msg) {\n",
       "    var cursor = msg['cursor'];\n",
       "    switch(cursor)\n",
       "    {\n",
       "    case 0:\n",
       "        cursor = 'pointer';\n",
       "        break;\n",
       "    case 1:\n",
       "        cursor = 'default';\n",
       "        break;\n",
       "    case 2:\n",
       "        cursor = 'crosshair';\n",
       "        break;\n",
       "    case 3:\n",
       "        cursor = 'move';\n",
       "        break;\n",
       "    }\n",
       "    fig.rubberband_canvas.style.cursor = cursor;\n",
       "}\n",
       "\n",
       "mpl.figure.prototype.handle_message = function(fig, msg) {\n",
       "    fig.message.textContent = msg['message'];\n",
       "}\n",
       "\n",
       "mpl.figure.prototype.handle_draw = function(fig, msg) {\n",
       "    // Request the server to send over a new figure.\n",
       "    fig.send_draw_message();\n",
       "}\n",
       "\n",
       "mpl.figure.prototype.handle_image_mode = function(fig, msg) {\n",
       "    fig.image_mode = msg['mode'];\n",
       "}\n",
       "\n",
       "mpl.figure.prototype.updated_canvas_event = function() {\n",
       "    // Called whenever the canvas gets updated.\n",
       "    this.send_message(\"ack\", {});\n",
       "}\n",
       "\n",
       "// A function to construct a web socket function for onmessage handling.\n",
       "// Called in the figure constructor.\n",
       "mpl.figure.prototype._make_on_message_function = function(fig) {\n",
       "    return function socket_on_message(evt) {\n",
       "        if (evt.data instanceof Blob) {\n",
       "            /* FIXME: We get \"Resource interpreted as Image but\n",
       "             * transferred with MIME type text/plain:\" errors on\n",
       "             * Chrome.  But how to set the MIME type?  It doesn't seem\n",
       "             * to be part of the websocket stream */\n",
       "            evt.data.type = \"image/png\";\n",
       "\n",
       "            /* Free the memory for the previous frames */\n",
       "            if (fig.imageObj.src) {\n",
       "                (window.URL || window.webkitURL).revokeObjectURL(\n",
       "                    fig.imageObj.src);\n",
       "            }\n",
       "\n",
       "            fig.imageObj.src = (window.URL || window.webkitURL).createObjectURL(\n",
       "                evt.data);\n",
       "            fig.updated_canvas_event();\n",
       "            fig.waiting = false;\n",
       "            return;\n",
       "        }\n",
       "        else if (typeof evt.data === 'string' && evt.data.slice(0, 21) == \"data:image/png;base64\") {\n",
       "            fig.imageObj.src = evt.data;\n",
       "            fig.updated_canvas_event();\n",
       "            fig.waiting = false;\n",
       "            return;\n",
       "        }\n",
       "\n",
       "        var msg = JSON.parse(evt.data);\n",
       "        var msg_type = msg['type'];\n",
       "\n",
       "        // Call the  \"handle_{type}\" callback, which takes\n",
       "        // the figure and JSON message as its only arguments.\n",
       "        try {\n",
       "            var callback = fig[\"handle_\" + msg_type];\n",
       "        } catch (e) {\n",
       "            console.log(\"No handler for the '\" + msg_type + \"' message type: \", msg);\n",
       "            return;\n",
       "        }\n",
       "\n",
       "        if (callback) {\n",
       "            try {\n",
       "                // console.log(\"Handling '\" + msg_type + \"' message: \", msg);\n",
       "                callback(fig, msg);\n",
       "            } catch (e) {\n",
       "                console.log(\"Exception inside the 'handler_\" + msg_type + \"' callback:\", e, e.stack, msg);\n",
       "            }\n",
       "        }\n",
       "    };\n",
       "}\n",
       "\n",
       "// from http://stackoverflow.com/questions/1114465/getting-mouse-location-in-canvas\n",
       "mpl.findpos = function(e) {\n",
       "    //this section is from http://www.quirksmode.org/js/events_properties.html\n",
       "    var targ;\n",
       "    if (!e)\n",
       "        e = window.event;\n",
       "    if (e.target)\n",
       "        targ = e.target;\n",
       "    else if (e.srcElement)\n",
       "        targ = e.srcElement;\n",
       "    if (targ.nodeType == 3) // defeat Safari bug\n",
       "        targ = targ.parentNode;\n",
       "\n",
       "    // jQuery normalizes the pageX and pageY\n",
       "    // pageX,Y are the mouse positions relative to the document\n",
       "    // offset() returns the position of the element relative to the document\n",
       "    var x = e.pageX - $(targ).offset().left;\n",
       "    var y = e.pageY - $(targ).offset().top;\n",
       "\n",
       "    return {\"x\": x, \"y\": y};\n",
       "};\n",
       "\n",
       "/*\n",
       " * return a copy of an object with only non-object keys\n",
       " * we need this to avoid circular references\n",
       " * http://stackoverflow.com/a/24161582/3208463\n",
       " */\n",
       "function simpleKeys (original) {\n",
       "  return Object.keys(original).reduce(function (obj, key) {\n",
       "    if (typeof original[key] !== 'object')\n",
       "        obj[key] = original[key]\n",
       "    return obj;\n",
       "  }, {});\n",
       "}\n",
       "\n",
       "mpl.figure.prototype.mouse_event = function(event, name) {\n",
       "    var canvas_pos = mpl.findpos(event)\n",
       "\n",
       "    if (name === 'button_press')\n",
       "    {\n",
       "        this.canvas.focus();\n",
       "        this.canvas_div.focus();\n",
       "    }\n",
       "\n",
       "    var x = canvas_pos.x * mpl.ratio;\n",
       "    var y = canvas_pos.y * mpl.ratio;\n",
       "\n",
       "    this.send_message(name, {x: x, y: y, button: event.button,\n",
       "                             step: event.step,\n",
       "                             guiEvent: simpleKeys(event)});\n",
       "\n",
       "    /* This prevents the web browser from automatically changing to\n",
       "     * the text insertion cursor when the button is pressed.  We want\n",
       "     * to control all of the cursor setting manually through the\n",
       "     * 'cursor' event from matplotlib */\n",
       "    event.preventDefault();\n",
       "    return false;\n",
       "}\n",
       "\n",
       "mpl.figure.prototype._key_event_extra = function(event, name) {\n",
       "    // Handle any extra behaviour associated with a key event\n",
       "}\n",
       "\n",
       "mpl.figure.prototype.key_event = function(event, name) {\n",
       "\n",
       "    // Prevent repeat events\n",
       "    if (name == 'key_press')\n",
       "    {\n",
       "        if (event.which === this._key)\n",
       "            return;\n",
       "        else\n",
       "            this._key = event.which;\n",
       "    }\n",
       "    if (name == 'key_release')\n",
       "        this._key = null;\n",
       "\n",
       "    var value = '';\n",
       "    if (event.ctrlKey && event.which != 17)\n",
       "        value += \"ctrl+\";\n",
       "    if (event.altKey && event.which != 18)\n",
       "        value += \"alt+\";\n",
       "    if (event.shiftKey && event.which != 16)\n",
       "        value += \"shift+\";\n",
       "\n",
       "    value += 'k';\n",
       "    value += event.which.toString();\n",
       "\n",
       "    this._key_event_extra(event, name);\n",
       "\n",
       "    this.send_message(name, {key: value,\n",
       "                             guiEvent: simpleKeys(event)});\n",
       "    return false;\n",
       "}\n",
       "\n",
       "mpl.figure.prototype.toolbar_button_onclick = function(name) {\n",
       "    if (name == 'download') {\n",
       "        this.handle_save(this, null);\n",
       "    } else {\n",
       "        this.send_message(\"toolbar_button\", {name: name});\n",
       "    }\n",
       "};\n",
       "\n",
       "mpl.figure.prototype.toolbar_button_onmouseover = function(tooltip) {\n",
       "    this.message.textContent = tooltip;\n",
       "};\n",
       "mpl.toolbar_items = [[\"Home\", \"Reset original view\", \"fa fa-home icon-home\", \"home\"], [\"Back\", \"Back to previous view\", \"fa fa-arrow-left icon-arrow-left\", \"back\"], [\"Forward\", \"Forward to next view\", \"fa fa-arrow-right icon-arrow-right\", \"forward\"], [\"\", \"\", \"\", \"\"], [\"Pan\", \"Pan axes with left mouse, zoom with right\", \"fa fa-arrows icon-move\", \"pan\"], [\"Zoom\", \"Zoom to rectangle\", \"fa fa-square-o icon-check-empty\", \"zoom\"], [\"\", \"\", \"\", \"\"], [\"Download\", \"Download plot\", \"fa fa-floppy-o icon-save\", \"download\"]];\n",
       "\n",
       "mpl.extensions = [\"eps\", \"jpeg\", \"pdf\", \"png\", \"ps\", \"raw\", \"svg\", \"tif\"];\n",
       "\n",
       "mpl.default_extension = \"png\";var comm_websocket_adapter = function(comm) {\n",
       "    // Create a \"websocket\"-like object which calls the given IPython comm\n",
       "    // object with the appropriate methods. Currently this is a non binary\n",
       "    // socket, so there is still some room for performance tuning.\n",
       "    var ws = {};\n",
       "\n",
       "    ws.close = function() {\n",
       "        comm.close()\n",
       "    };\n",
       "    ws.send = function(m) {\n",
       "        //console.log('sending', m);\n",
       "        comm.send(m);\n",
       "    };\n",
       "    // Register the callback with on_msg.\n",
       "    comm.on_msg(function(msg) {\n",
       "        //console.log('receiving', msg['content']['data'], msg);\n",
       "        // Pass the mpl event to the overridden (by mpl) onmessage function.\n",
       "        ws.onmessage(msg['content']['data'])\n",
       "    });\n",
       "    return ws;\n",
       "}\n",
       "\n",
       "mpl.mpl_figure_comm = function(comm, msg) {\n",
       "    // This is the function which gets called when the mpl process\n",
       "    // starts-up an IPython Comm through the \"matplotlib\" channel.\n",
       "\n",
       "    var id = msg.content.data.id;\n",
       "    // Get hold of the div created by the display call when the Comm\n",
       "    // socket was opened in Python.\n",
       "    var element = $(\"#\" + id);\n",
       "    var ws_proxy = comm_websocket_adapter(comm)\n",
       "\n",
       "    function ondownload(figure, format) {\n",
       "        window.open(figure.imageObj.src);\n",
       "    }\n",
       "\n",
       "    var fig = new mpl.figure(id, ws_proxy,\n",
       "                           ondownload,\n",
       "                           element.get(0));\n",
       "\n",
       "    // Call onopen now - mpl needs it, as it is assuming we've passed it a real\n",
       "    // web socket which is closed, not our websocket->open comm proxy.\n",
       "    ws_proxy.onopen();\n",
       "\n",
       "    fig.parent_element = element.get(0);\n",
       "    fig.cell_info = mpl.find_output_cell(\"<div id='\" + id + \"'></div>\");\n",
       "    if (!fig.cell_info) {\n",
       "        console.error(\"Failed to find cell for figure\", id, fig);\n",
       "        return;\n",
       "    }\n",
       "\n",
       "    var output_index = fig.cell_info[2]\n",
       "    var cell = fig.cell_info[0];\n",
       "\n",
       "};\n",
       "\n",
       "mpl.figure.prototype.handle_close = function(fig, msg) {\n",
       "    var width = fig.canvas.width/mpl.ratio\n",
       "    fig.root.unbind('remove')\n",
       "\n",
       "    // Update the output cell to use the data from the current canvas.\n",
       "    fig.push_to_output();\n",
       "    var dataURL = fig.canvas.toDataURL();\n",
       "    // Re-enable the keyboard manager in IPython - without this line, in FF,\n",
       "    // the notebook keyboard shortcuts fail.\n",
       "    IPython.keyboard_manager.enable()\n",
       "    $(fig.parent_element).html('<img src=\"' + dataURL + '\" width=\"' + width + '\">');\n",
       "    fig.close_ws(fig, msg);\n",
       "}\n",
       "\n",
       "mpl.figure.prototype.close_ws = function(fig, msg){\n",
       "    fig.send_message('closing', msg);\n",
       "    // fig.ws.close()\n",
       "}\n",
       "\n",
       "mpl.figure.prototype.push_to_output = function(remove_interactive) {\n",
       "    // Turn the data on the canvas into data in the output cell.\n",
       "    var width = this.canvas.width/mpl.ratio\n",
       "    var dataURL = this.canvas.toDataURL();\n",
       "    this.cell_info[1]['text/html'] = '<img src=\"' + dataURL + '\" width=\"' + width + '\">';\n",
       "}\n",
       "\n",
       "mpl.figure.prototype.updated_canvas_event = function() {\n",
       "    // Tell IPython that the notebook contents must change.\n",
       "    IPython.notebook.set_dirty(true);\n",
       "    this.send_message(\"ack\", {});\n",
       "    var fig = this;\n",
       "    // Wait a second, then push the new image to the DOM so\n",
       "    // that it is saved nicely (might be nice to debounce this).\n",
       "    setTimeout(function () { fig.push_to_output() }, 1000);\n",
       "}\n",
       "\n",
       "mpl.figure.prototype._init_toolbar = function() {\n",
       "    var fig = this;\n",
       "\n",
       "    var nav_element = $('<div/>');\n",
       "    nav_element.attr('style', 'width: 100%');\n",
       "    this.root.append(nav_element);\n",
       "\n",
       "    // Define a callback function for later on.\n",
       "    function toolbar_event(event) {\n",
       "        return fig.toolbar_button_onclick(event['data']);\n",
       "    }\n",
       "    function toolbar_mouse_event(event) {\n",
       "        return fig.toolbar_button_onmouseover(event['data']);\n",
       "    }\n",
       "\n",
       "    for(var toolbar_ind in mpl.toolbar_items){\n",
       "        var name = mpl.toolbar_items[toolbar_ind][0];\n",
       "        var tooltip = mpl.toolbar_items[toolbar_ind][1];\n",
       "        var image = mpl.toolbar_items[toolbar_ind][2];\n",
       "        var method_name = mpl.toolbar_items[toolbar_ind][3];\n",
       "\n",
       "        if (!name) { continue; };\n",
       "\n",
       "        var button = $('<button class=\"btn btn-default\" href=\"#\" title=\"' + name + '\"><i class=\"fa ' + image + ' fa-lg\"></i></button>');\n",
       "        button.click(method_name, toolbar_event);\n",
       "        button.mouseover(tooltip, toolbar_mouse_event);\n",
       "        nav_element.append(button);\n",
       "    }\n",
       "\n",
       "    // Add the status bar.\n",
       "    var status_bar = $('<span class=\"mpl-message\" style=\"text-align:right; float: right;\"/>');\n",
       "    nav_element.append(status_bar);\n",
       "    this.message = status_bar[0];\n",
       "\n",
       "    // Add the close button to the window.\n",
       "    var buttongrp = $('<div class=\"btn-group inline pull-right\"></div>');\n",
       "    var button = $('<button class=\"btn btn-mini btn-primary\" href=\"#\" title=\"Stop Interaction\"><i class=\"fa fa-power-off icon-remove icon-large\"></i></button>');\n",
       "    button.click(function (evt) { fig.handle_close(fig, {}); } );\n",
       "    button.mouseover('Stop Interaction', toolbar_mouse_event);\n",
       "    buttongrp.append(button);\n",
       "    var titlebar = this.root.find($('.ui-dialog-titlebar'));\n",
       "    titlebar.prepend(buttongrp);\n",
       "}\n",
       "\n",
       "mpl.figure.prototype._root_extra_style = function(el){\n",
       "    var fig = this\n",
       "    el.on(\"remove\", function(){\n",
       "\tfig.close_ws(fig, {});\n",
       "    });\n",
       "}\n",
       "\n",
       "mpl.figure.prototype._canvas_extra_style = function(el){\n",
       "    // this is important to make the div 'focusable\n",
       "    el.attr('tabindex', 0)\n",
       "    // reach out to IPython and tell the keyboard manager to turn it's self\n",
       "    // off when our div gets focus\n",
       "\n",
       "    // location in version 3\n",
       "    if (IPython.notebook.keyboard_manager) {\n",
       "        IPython.notebook.keyboard_manager.register_events(el);\n",
       "    }\n",
       "    else {\n",
       "        // location in version 2\n",
       "        IPython.keyboard_manager.register_events(el);\n",
       "    }\n",
       "\n",
       "}\n",
       "\n",
       "mpl.figure.prototype._key_event_extra = function(event, name) {\n",
       "    var manager = IPython.notebook.keyboard_manager;\n",
       "    if (!manager)\n",
       "        manager = IPython.keyboard_manager;\n",
       "\n",
       "    // Check for shift+enter\n",
       "    if (event.shiftKey && event.which == 13) {\n",
       "        this.canvas_div.blur();\n",
       "        // select the cell after this one\n",
       "        var index = IPython.notebook.find_cell_index(this.cell_info[0]);\n",
       "        IPython.notebook.select(index + 1);\n",
       "    }\n",
       "}\n",
       "\n",
       "mpl.figure.prototype.handle_save = function(fig, msg) {\n",
       "    fig.ondownload(fig, null);\n",
       "}\n",
       "\n",
       "\n",
       "mpl.find_output_cell = function(html_output) {\n",
       "    // Return the cell and output element which can be found *uniquely* in the notebook.\n",
       "    // Note - this is a bit hacky, but it is done because the \"notebook_saving.Notebook\"\n",
       "    // IPython event is triggered only after the cells have been serialised, which for\n",
       "    // our purposes (turning an active figure into a static one), is too late.\n",
       "    var cells = IPython.notebook.get_cells();\n",
       "    var ncells = cells.length;\n",
       "    for (var i=0; i<ncells; i++) {\n",
       "        var cell = cells[i];\n",
       "        if (cell.cell_type === 'code'){\n",
       "            for (var j=0; j<cell.output_area.outputs.length; j++) {\n",
       "                var data = cell.output_area.outputs[j];\n",
       "                if (data.data) {\n",
       "                    // IPython >= 3 moved mimebundle to data attribute of output\n",
       "                    data = data.data;\n",
       "                }\n",
       "                if (data['text/html'] == html_output) {\n",
       "                    return [cell, data, j];\n",
       "                }\n",
       "            }\n",
       "        }\n",
       "    }\n",
       "}\n",
       "\n",
       "// Register the function which deals with the matplotlib target/channel.\n",
       "// The kernel may be null if the page has been refreshed.\n",
       "if (IPython.notebook.kernel != null) {\n",
       "    IPython.notebook.kernel.comm_manager.register_target('matplotlib', mpl.mpl_figure_comm);\n",
       "}\n"
      ],
      "text/plain": [
       "<IPython.core.display.Javascript object>"
      ]
     },
     "metadata": {},
     "output_type": "display_data"
    },
    {
     "data": {
      "text/html": [
       "<img src=\"data:image/png;base64,iVBORw0KGgoAAAANSUhEUgAAB9AAAAPoCAYAAACGXmWqAAAebElEQVR4nOzBAQEAAACAkP6v7ggKAAAAAAAAAAAAAAAAAAAAAAAAAAAAAAAAAAAAAAAAAAAAAAAAAAAAAAAAAAAAAAAAAAAAAAAAAAAAAAAAAAAAAAAAAAAAAAAAAAAAAAAAAAAAAAAAAAAAAAAAAAAAAAAAAAAAAAAAAAAAAAAAAAAAAAAAAAAAAAAAAAAAAAAAAAAAAAAAAAAAAAAAAAAAAAAAAAAAAAAAAAAAAAAAAAAAAAAAAAAAAAAAAAAAAAAAAAAAAAAAAAAAAAAAAAAAAAAAAAAAAAAAAAAAAAAAAAAAAAAAAAAAAAAAAAAAAAAAAAAAAAAAAAAAAAAAAAAAAAAAAAAAAAAAAAAAAAAAAAAAAAAAAAAAAAAAAAAAAAAAAAAAAAAAAAAAAAAAAAAAAAAAAAAAAAAAAAAAAAAAAAAAAAAAAAAAAAAAAAAAAAAAAAAAAAAAAAAAAAAAAAAAAAAAAAAAAAAAAAAAAAAAAAAAAAAAAAAAAAAAAAAAAAAAAAAAAAAAAAAAAAAAAAAAAAAAAAAAAAAAAAAAAAAAAAAAAAAAAAAAAAAAAAAAAAAAAAAAAAAAAAAAAAAAAAAAAAAAAAAAAAAAAAAAAAAAAAAAAAAAAAAAAAAAAAAAAAAAAAAAAAAAAAAAAAAAAAAAAAAAAAAAAAAAAAAAAAAAAAAAAAAAAAAAAAAAAAAAAAAAAAAAAAAAAAAAAAAAAAAAAAAAAAAAAAAAAAAAAAAAAAAAAAAAAAAAAAAAAAAAAAAAAAAAAAAAAAAAAAAAAAAAAAAAAAAAAAAAAAAAAAAAAAAAAAAAAAAAAAAAAAAAAAAAAAAAAAAAAAAAAAAAAAAAAAAAAAAAAAAAAAAAAAAAAAAAAAAAAAAAAAAAAAAAAAAAAAAAAAAAAAAAAAAAAAAAAAAAAAAAAAAAAAAAAAAAAAAAAAAAAAAAAAAAAAAAAAAAAAAAAAAAAAAAAAAAAAAAAAAAAAAAAAAAAAAAAAAAAAAAAAAAAAAAAAAAAAAAAAAAAAAAAAAAAAAAAAAAAAAAAAAAAAAAAAAAAAAAAAAAAAAAAAAAAAAAAAAAAAAAAAAAAAAAAAAAAAAAAAAAAAAAAAAAAAAAAAAAAAAAAAAAAAAAAAAAAAAAAAAAAAAAAAAAAAAAAAAAAAAAAAAAAAAAAAAAAAAAAAAAAAAAAAAAAAAAAAAAAAAAAAAAAAAAAAAAAAAAAAAAAAAAAAAAAAAAAAAAAAAAAAAAAAAAAAAAAAAAAAAAAAAAAAAAAAAAAAAAAAAAAAAAAAAAAAAAAAAAAAAAAAAAAAAAAAAAAAAAAAAAAAAAAAAAAAAAAAAAAAAAAAAAAAAAAAAAAAAAAAAAAAAAAAAAAAAAAAAAAAAAAAAAAAAAAAAAAAAAAAAAAAAAAAAAAAAAAAAAAAAAAAAAAAAAAAAAAAAAAAAAAAAAAAAAAAAAAAAAAAAAAAAAAAAAAAAAAAAAAAAAAAAAAAAAAAAAAAAAAAAAAAAAAAAAAAAAAAAAAAAAAAAAAAAAAAAAAAAAAAAAAAAAAAAAAAAAAAAAAAAAAAAAAAAAAAAAAAAAAAAAAAAAAAAAAAAAAAAAAAAAAAAAAAAAAAAAAAAAAAAAAAAAAAAAAAAAAAAAAAAAAAAAAAAAAAAAAAAAAAAAAAAAAAAAAAAAAAAAAAAAAAAAAAAAAAAAAAAAAAAAAAAAAAAAAAAAAAAAAAAAAAAAAAAAAAAAAAAAAAAAAAAAAAAAAAAAAAAAAAAAAAAAAAAAAAAAAAAAAAAAAAAAAAAAAAAAAAAAAAAAAAAAAAAAAAAAAAAAAAAAAAAAAAAAAAAAAAAAAAAAAAAAAAAAAAAAAAAAAAAAAAAAAAAAAAAAAAAAAAAAAAAAAAAAAAAAAAAAAAAAAAAAAAAAAAAAAAAAAAAAAAAAAAAAAAAAAAAAAAAAAAAAAAAAAAAAAAAAAAAAAAAAAAAAAAAAAAAAAAAAAAAAAAAAAAAAAAAAAAAAAAAAAAAAAAAAAAAAAAAAAAAAAAAAAAAAAAAAAAAAAAAAAAAAAAAAAAAAAAAAAAAAAAAAAAAAAAAAAAAAAAAAAAAAAAAAAAAAAAAAAAAAAAAAAAAAAAAAAAAAAAAAAAAAAAAAAAAAAAAAAAAAAAAAAAAAAAAAAAAAAAAAAAAAAAAAAAAAAAAAAAAAAAAAAAAAAAAAAAAAAAAAAAAAAAAAAAAAAAAAAAAAAAAAAAAAAAAAAAAAAAAAAAAAAAAAAAAAAAAAAAAAAAAAAAAAAAAAAAAAAAAAAAAAAAAAAAAAAAAAAAAAAAAAAAAAAAAAAAAAAAAAAAAAAAAAAAAAAAAAAAAAAAAAAAAAAAAAAAAAAAAAAAAAAAAAAAAAAAAAAAAAAAAAAAAAAAAAAAAAAAAAAAAAAAAAAAAAAAAAAAAAAAAAAAAAAAAAAAAAAAAAAAAAAAAAAAAAAAAAAAAAAAAAAAAAAAAAAAAAAAAAAAAAAAAAAAAAAAAAAAAAAAAAAAAAAAAAAAAAAAAAAAAAAAAAAAAAAAAAAAAAAAAAAAAAAAAAAAAAAAAAAAAAAAAAAAAAAAAAAAAAAAAAAAAAAAAAAAAAAAAAAAAAAAAAAAAAAAAAAAAAAAAAAAAAAAAAAAAAAAAAAAAAAAAAAAAAAAAAAAAAAAAAAAAAAAAAAAAAAAAAAAAAAAAAAAAAAAAAAAAAAAAAAAAAAAAAAAAAAAAAAAAAAAAAAAAAAAAAAAAAAAAAAAAAAAAAAAAAAAAAAAAAAAAAAAAAAAAAAAAAAAAAAAAAAAAAAAAAAAAAAAAAAAAAAAAAAAAAAAAAAAAAAAAAAAAAAAAAAAAAAAAAAAAAAAAAAAAAAAAAAAAAAAAAAAAAAAAAAAAAAAAAAAAAAAAAAAAAAAAAAAAAAAAAAAAAAAAAAAAAAAAAAAAAAAAAAAAAAAAAAAAAAAAAAAAAAAAAAAAAAAAAAAAAAAAAAAAAAAAAAAAAAAAAAAAAAAAAAAAAAAAAAAAAAAAAAAAAAAAAAAAAAAAAAAAAAAAAAAAAAAAAAAAAAAAAAAAAAAAAAAAAAAAAAAAAAAAAAAAAAAAAAAAAAAAAAAAAAAAAAAAAAAAAAAAAAAAAAAAAAAAAAAAAAAAAAAAAAAAAAAAAAAAAAAAAAAAAAAAAAAAAAAAAAAAAAAAAAAAAAAAAAAAAAAAAAAAAAAAAAAAAAAAAAAAAAAAAAAAAAAAAAAAAAAAAAAAAAAAAAAAAAAAAAAAAAAAAAAAAAAAAAAAAAAAAAAAAAAAAAAAAAAAAAAAAAAAAAAAAAAAAAAAAAAAAAAAAAAAAAAAAAAAAAAAAAAAAAAAAAAAAAAAAAAAAAAAAAAAAAAAAAAAAAAAAAAAAAAAAAAAAAAAAAAAAAAAAAAAAAAAAAAAAAAAAAAAAAAAAAAAAAAAAAAAAAAAAAAAAAAAAAAAAAAAAAAAAAAAAAAAAAAAAAAAAAAAAAAAAAAAAAAAAAAAAAAAAAAAAAAAAAAAAAAAAAAAAAAAAAAAAAAAAAAAAAAAAAAAAAAAAAAAAAAAAAAAAAAAAAAAAAAAAAAAAAAAAAAAAAAAAAAAAAAAAAAAAAAAAAAAAAAAAAAAAAAAAAAAAAAAAAAAAAAAAAAAAAAAAAAAAAAAAAAAAAAAAAAAAAAAAAAAAAAAAAAAAAAAAAAAAAAAAAAAAAAAAAAAAAAAAAAAAAAAAAAAAAAAAAAAAAAAAAAAAAAAAAAAAAAAAAAAAAAAAAAAAAAAAAAAAAAAAAAAAAAAAAAAAAAAAAAAAAAAAAAAAAAAAAAAAAAAAAAAAAAAAAAAAAAAAAAAAAAAAAAAAAAAAAAAAAAAAAAAAAAAAAAAAAAAAAAAAAAAAAAAAAAAAAAAAAAAAAAAAAAAAAAAAAAAAAAAAAAAAAAAAAAAAAAAAAAAAAAAAAAAAAAAAAAAAAAAAAAAAAAAAAAAAAAAAAAAAAAAAAAAAAAAAAAAAAAAAAAAAAAAAAAAAAAAAAAAAAAAAAAAAAAAAAAAAAAAAAAAAAAAAAAAAAAAAAAAAAAAAAAAAAAAAAAAAAAAAAAAAAAAAAAAAAAAAAAAAAAAAAAAAAAAAAAAAAAAAAAAAAAAAAAAAAAAAAAAAAAAAAAAAAAAAAAAAAAAAAAAAAAAAAAAAAAAAAAAAAAAAAAAAAAAAAAAAAAAAAAAAAAAAAAAAAAAAAAAAAAAAAAAAAAAAAAAAAAAAAAAAAAAAAAAAAAAAAAAAAAAAAAAAAAAAAAAAAAAAAAAAAAAAAAAAAAAAAAAAAAAAAAAAAAAAAAAAAAAAAAAAAAAAAAAAAAAAAAAAAAAAAAAAAAAAAAAAAAAAAAAAAAAAAAAAAAAAAAAAAAAAAAAAAAAAAAAAAAAAAAAAAAAAAAAAAAAAAAAAAAAAAAAAAAAAAAAAAAAAAAAAAAAAAAAAAAAAAAAAAAAAAAAAAAAAAAAAAAAAAAAAAAAAAAAAAAAAAAAAAAAAAAAAAAAAAAAAAAAAAAAAAAAAAAAAAAAAAAAAAAAAAAAAAAAAAAAAAAAAAAAAAAAAAAAAAAAAAAAAAAAAAAAAAAAAAAAAAAAAAAAAAAAAAAAAAAAAAAAAAAAAAAAAAAAAAAAAAAAAAAAAAAAAAAAAAAAAAAAAAAAAAAAAAAAAAAAAAAAAAAAAAAAAAAAAAAAAAAAAAAAAAAAAAAAAAAAAAAAAAAAAAAAAAAAAAAAAAAAAAAAAAAAAAAAAAAAAAAAAAAAAAAAAAAAAAAAAAAAAAAAAAAAAAAAAAAAAAAAAAAAAAAAAAAAAAAAAAAAAAAAAAAAAAAAAAAAAAAAAAAAAAAAAAAAAAAAAAAAAAAAAAAAAAAAAAAAAAAAAAAAAAAAAAAAAAAAAAAAAAAAAAAAAAAAAAAAAAAAAAAAAAAAAAAAAAAAAAAAAAAAAAAAAAAAAAAAAAAAAAAAAAAAAAAAAAAAAAAAAAAAAAAAAAAAAAAAAAAAAAAAAAAAAAAAAAAAAAAAAAAAAAAAAAAAAAAAAAAAAAAAAAAAAAAAAAAAAAAAAAAAAAAAAAAAAAAAAAAAAAAAAAAAAAAAAAAAAAAAAAAAAAAAAAAAAAAAAAAAAAAAAAAAAAAAAAAAAAAAAAAAAAAAAAAAAAAAAAAAAAAAAAAAAAAAAAAAAAAAAAAAAAAAAAAAAAAAAAAAAAAAAAAAAAAAAAAAAAAAAAAAAAAAAAAAAAAAAAAAAAAAAAAAAAAAAAAAAAAAAAAAAAAAAAAAAAAAAAAAAAAAAAAAAAAAAAAAAAAAAAAAAAAAAAAAAAAAAAAAAAAAAAAAAAAAAAAAAAAAAAAAAAAAAAAAAAAAAAAAAAAAAAAAAAAAAAAAAAAAAAAAAAAAAAAAAAAAAAAAAAAAAAAAAAAAAAAAAAAAAAAAAAAAAAAAAAAAAAAAAAAAAAAAAAAAAAAAAAAAAAAAAAAAAAAAAAAAAAAAAAAAAAACA24NDAgAAAABB/197wwAAAAAAAAAAAAAAAAAAAAAAAAAAAAAAAAAAAAAAAAAAAAAAAAAAAAAAAAAAAAAAAAAAAAAAAAAAAAAAAAAAAAAAAAAAAAAAAAAAAAAAAAAAAAAAAAAAAAAAAAAAAAAAAAAAAAAAAAAAAAAAAAAAAAAAAAAAAAAAAAAAAAAAAAAAAAAAAAAAAAAAAAAAAAAAAAAAAAAAAAAAAAAAAAAAAAAAAAAAAAAAAAAAAAAAAAAAAAAAAAAAAAAAAAAAAAAAAAAAAAAAAAAAAAAAAAAAAAAAAAAAAAAAAAAAAAAAAAAAAAAAAAAAAAAAAAAAAAAAAAAAAAAAAAAAAAAAAAAAAAAAAAAAAAAAAAAAAAAAAAAAAAAAAAAAAAAAAAAAAAAAAAAAAAAAAAAAAAAAAAAAAAAAAAAAAAAAAAAAAAAAAAAAAAAAAAAAAAAAAAAAAAAAAAAAAAAAAAAAAAAAAAAAAAAAAAAAAAAAAAAAAAAAAAAAAAAAAAAAAAAAAAAAAAAAAAAAAAAAAAAAAAAAAAAAAAAAAAAAAAAAAAAAAAAAAAAAAAAAAAAAAAAAAAAAAAAAAAAAAAAAAAAAAAAAAAAAAAAAAAAAAAAAAAAAAAAAAAAAAAAAAAAAAAAAAAAAAAAAAAAAAAAAAAAAAAAAAAAAAAAAAAAAAAAAAAAAAAAAAAAAAAAAAAAAAAAAAAAAAAAAAAAAAAAAAAAAAAAAAAAAAAAAAAAAAAAAAAAAAAAAAAAAAAAAAAAAAAAAAAAAAAAAAAAAAAAAAAAAAAAAAAAAAAAAAAAAAAAAAAAAAAAAAAAAAAAAAAAAAAAAAAAAAAAAAAAAAAAAAAAAAAAAAAAAAAAAAAAAAAAAAAAAAAAAAAAAAAAAAAAAAAAAAAAAAAAAAAAAAAAAAAAAAAAAAAAAAAAAAAAAAAAAAAAAAAAAAAAAAAAAAAAAAAAAAAAAAAAAAAAAAAAAAAAAAAAAAAAAAAAAAAAAAAAAAAAAAAAAAAAAAAAAAAAAAAAAAAAAAAAAAAAAAAAAAAAAAAAAAAAAAAAAAAAAAAAAAAAAAAAAAAAAAAAAAAAAAAAAAAAAAAAAAAAAAAAAAAAAAAAAAAAAAAAAAAAAAAAAAAAAAAAAAAAAAAAAAAAAAAAAAAAAAAAAAAAAAAAAAAAAAAAAAAAAAAAAAAAAAAAAAAAAAAAAAAAAAAAAAAAAAAAAAAAAAAAAAAAAAAAAAAAAAAAAAAAAAAAAAAAAAAAAAAAAAAAAAAAAAAAAAAAAAAAAAAAAAAAAAAAAAAAAAAAAAAAAAAAAAAAAAAAAAAAAAAAAAAAAAAAAAAAAAAAAAAAAAAAAAAAAAAAAAAAAAAAAAAAAAAAAAAAAAAAAAAAAAAAAAAAAAAAAAAAAAAAAAAAAAAAAAAAAAAAAAAAAAAAAAAAAAAAAAAAAAAAAAAAAAAAAAAAAAAAAAAAAAAAAAAAAAAAAAAAAAAAAAAAAAAAAAAAAAAAAAAAAAAAAAAAAAAAAAAAAAAAAAAAAAAAAAAAAAAAAAAAAAAAAAAAAAAAAAAAAAAAAAAAAAAAAAAAAAAAAAAAAAAAAAAAAAAAAAAAAAAAAAAAAAAAAAAAAAAAAAAAAAAAAAAAAAAAAAAAAAAAAAAAAAAAAAAAAAAAAAAAAAAAAAAAAAAAAAAAAAAAAAAAAAAAAAAAAAAAAAAAAAAAAAAAAAAAAAAAAAAAAAAAAAAAAAAAAAAAAAAAAAAAAAAAAAAAAAAAAAAAAAAAAAAAAAAAAAAAAAAAAAAAAAAAAAAAAAAAAAAAAAAAAAAAAAAAAAAAAAAAAAAAAAAAAAAAAAAAAAAAAAAAAAAAAAAAAAAAAAAAAAAAAAAAAAAAAAAAAAAAAAAAAAAAAAAAAAAAAAAAAAAAAAAAAAAAAAAAAAAAAAAAAAAAAAAAAAAAAAAAAAAAAAAAAAAAAAAAAAAAAAAAAAAAAAAAAAAAAAAAAAAAAAAAAAAAAAAAAAAAAAAAAAAAAAAAAAAAAAAAAAAAAAAAAAAAAAAAAAAAAAAAAAAAAAAAAAAAAAAAAAAAAAAAAAAAAAAAAAAAAAAAAAAAAAAAAAAAAAAAAAAAAAAAAAAAAAAAAAAAAAAAAAAAAAAAAAAAAAAAAAAAAAAAAAAAAAAAAAAAAAAAAAAAAAAAAAAAAAAAAAAAAAAAAAAAAAAAAAAAAAAAAAAAAAAAAAAAAAAAAAAAAAAAAAAAAAAAAAAAAAAAAAAAAAAAAAAAAAAAAAAAAAAAAAAAAAAAAAAAAAAAAAAAAAAAAAAAAAAAAAAAAAAAAAAAAAAAAAAAAAAAAAAAAAAAAAAAAAAAAAAAAAAAAAAAAAAAAAAAAAAAAAAAAAAAAAAAAAAAAAAAAAAAAAAAAAAAAAAAAAAAAAAAAAAAAAAAAAAAAAAAAAAAAAAAAAAAAAAAAAAAAAAAAAAAAAAAAAAAAAAAAAAAAAAAAAAAAAAAAAAAAAAAAAAAAAAAAAAAAAAAAAAAAAAAAAAAAAAAAAAAAAAAAAAAAAAAAAAAAAAAAAAAAAAAAAAAAAAAAAAAAAAAAAAAAAAAAAAAAAAAAAAAAAAAAAAAAAAAAAAAAAAAAAAAAAAAAAAAAAAAAAAAAAAAAAAAAAAAAAAAAAAAAAAAAAAAAAAAAAAAAAAAAAAAAAAAAAAAAAAAAAAAAAAAAAAAAAAAAAAAAAAAAAAAAAAAAAAAAAAAAAAAAAAAAAAAAAAAAAAAAAAAAAAAAAAAAAAAAAAAAAAAAAAAAAAAAAAAAAAAAAAAAAAAAAAAAAAAAAAAAAAAAAAAAAAAAAAAAAAAAAAAAAAAAAAAAAAAAAAAAAAAAAAAAAAAAAAAAAAAAAAAAAAAAAAAAAAAAAAAAAAAAAAAAAAAAAAAAAAAAAAAAAAAAAAAAAAAAAAAAAAAAAAAAAAAAAAAAAAAAAAAAAAAAAAAAAAAAAAAAAAAAAAAAAAAAAAAAAAAAAAAAAAAAAAAAAAAAAAAAAAAAAAAAAAAAAAAAAAAAAAAAAAAAAAAAAAAAAAAAAAAAAAAAAAAAAAAAAAAAAAAAAAAAAAAAAAAAAAAAAAAAAAAAAAAAAAAAAAAAAAAAAAAAAAAAAAAAAAAAAAAAAAAAAAAAAAAAAAAAAAAAAAAAAAAAAAAAAAAAAAAAAAAAAAAAAAAAAAAAAAAAAAAAAAAAAAAAAAAAAAAAAAAAAAAAAAAAAAAAAAAAAAAAAAAAAAAAAAAAAAAAAAAAAAAAAAAAAAAAAAAAAAAAAAAAAAAAAAAAAAAAAAAAAAAAAAAAAAAAAAAAAAAAAAAAAAAAAAAAAAAAAAAAAAAAAAAAAAAAAAAAAAAAAAAAAAAAAAAAAAAAAAAAAAAAAAAAAAAAAAAAAAAAAAAAAAAAAAAAAAAAAAAAAAAAAAAAAAAAAAAAAAAAAAAAAAAAAAAAAAAAAAAAAAAAAAAAAAAAAAAAAAAAAAAAAAAAAAAAAAAAAAAAAAAAAAAAAAAAAAAAAAAAAAAAAAAAAAAAAAAAAAAAAAAAAAAAAAAAAAAAAAAAAAAAAAAAAAAAAAAAAAAAAAAAAAAAAAAAAAAAAAAAAAAAAAAAAAAAAAAAAAAAAAAAAAAAAAAAAAAAAAAAAAAAAAAAAAAAAAAAAAAAAAAAAAAAAAAAAAAAAAAAAAAAAAAAAAAAAAAAAAAAAAAAAAAAAAAAAAAAAAAAAAAAAAAAAAAAAAAAAAAAAAAAAAAAAAAAAAAAAAAAAAAAAAAAAAAAAAAAAAAAAAAAAAAAAAAAAAAAAAAAAAAAAAAAAAAAAAAAAAAAAAAAAAAAAAAAAAAAAAAAAAAAAAAAAAAAAAAAAAAAAAAAAAAAAAAAAAAAAAAAAAAAAAAAAAAAAAAAAAAAAAAAAAAAAAAAAAAAAAAAAAAAAAAAAAAAAAAAAAAAAAAAAAAAAAAAAAAAAAAAAAAAAAAAAAAAAAAAAAAAAAAAAAAAAAAAAAAAAAAAAAAAAAAAAAAAAAAAAAAAAAAAAAAAAAAAAAAAAAAAAAAAAAAAAAAAAAAAAAAAAAAAAAAAAAAAAAAAAAAAAAAAAAAAAAAAAAAAAAAAAAAAAAAAAAAAAAAAAAAAAAAAAAAAAAAAAAAAAAAAAAAAAAAAAAAAAAAAAAAAAAAAAAAAAAAAAAAAAAAAAAAAAAAAAAAAAAAAAAAAAAAAAAAAAAAAAAAAAAAAAAAAAAAAAAAAAAAAAAAAAAAAAAAAAAAAAAAAAAAAAAAAAAAAAAAAAAAAAAAAAAAAAAAAAAAAAAAAAAAAAAAAAAAAAAAAAAAAAAAAAAAAAAAAAAAAAAAAAAAAAAAAAAAAAAAAAAAAAAAAAAAAAAAAAAAAAAAAAAAAAAAAAAAAAAAAAAAAAAAAAAAAAAAAAAAAAAAAAAAAAAAAAAAAAAAAAAAAAAAAAAAAAAAAAAAAAAAAAAAAAAAAAAAAAAAAAAAAAAAAAAAAAAAAAAAAAAAAAAAAAAAAAAAAAAAAAAAAAAAAAAAAAAAAAAAAAAAAAAAAAAAAAAAAAAAAAAAAAAAAAAAAAAAAAAAAAAAAAAAAAAAAAAAAAAAAAAAAAAAAAAAAAAAAAAAAAAAAAAAAAAAAAAAAAAAAAAAAAAAAAAAAAAAAAAAAAAAAAAAAAAAAAAAAAAAAAAAAAAAAAAAAAAAAAAAAAAAAAAAAAAAAAAAAAAAAAAAAAAAAAAAAAAAAAAAAAAAAAAAAAAAAAAAAAAAAAAAAAAAAAAAAAAAAAAAAAAAAAAAAAAAAAAAAAAAAAAAAAAAAAAAAAAAAAAAAAAAAAAAAAAAAAAAAAAAAAAAAAAAAAAAAAAAAAAAAAAAAAAAAAAAAAAAAAAAAAAAAAAAAAAAAAAAAAADAXR0OAAETEuNqAAAAAElFTkSuQmCC\" width=\"1000\">"
      ],
      "text/plain": [
       "<IPython.core.display.HTML object>"
      ]
     },
     "metadata": {},
     "output_type": "display_data"
    }
   ],
   "source": [
    "dual_train_plots(results.index,\n",
    "                 results.cost, results.val,\n",
    "                 results.cost, results.val)\n",
    "plt.tight_layout()\n",
    "plt.savefig(str(output / f'{name}_stats_a.png'))"
   ]
  },
  {
   "cell_type": "code",
   "execution_count": 22,
   "metadata": {},
   "outputs": [],
   "source": [
    "quit()"
   ]
  },
  {
   "cell_type": "code",
   "execution_count": null,
   "metadata": {},
   "outputs": [],
   "source": []
  },
  {
   "cell_type": "code",
   "execution_count": null,
   "metadata": {},
   "outputs": [],
   "source": []
  }
 ],
 "metadata": {
  "kernelspec": {
   "display_name": "goofit-june2020",
   "language": "python",
   "name": "goofit-june2020"
  },
  "language_info": {
   "codemirror_mode": {
    "name": "ipython",
    "version": 3
   },
   "file_extension": ".py",
   "mimetype": "text/x-python",
   "name": "python",
   "nbconvert_exporter": "python",
   "pygments_lexer": "ipython3",
   "version": "3.7.6"
  }
 },
 "nbformat": 4,
 "nbformat_minor": 2
}
