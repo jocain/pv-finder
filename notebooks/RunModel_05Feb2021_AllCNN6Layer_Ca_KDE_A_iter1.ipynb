{
 "cells": [
  {
   "cell_type": "code",
   "execution_count": 1,
   "metadata": {},
   "outputs": [],
   "source": [
    "##%matplotlib widget\n",
    "## with %matplotlib notebook: seems to require ipympl as part of environment, either\n",
    "## part of the conda environment or \"pip install ipympl\"\n",
    "## otherwise, does not show ANY plots in notebook, plt.savefig() works\n",
    "%matplotlib notebook  \n",
    "##%matplotlib inline    ## --plt.savefig()  works, but re-sizing does NOT\n"
   ]
  },
  {
   "cell_type": "markdown",
   "metadata": {},
   "source": [
    "This is derived from RunModel_Demo_02June2020-SimpleCNNLayer_Ca\n",
    "\n",
    "This notebook is a short demo to illustrate execution.   For odd historical reasons, it uses \"toy Monte Carlo\" (simulated data)for \"training\" and \"full LHCB MC\" for validation.\n",
    "\n",
    "The network architecture is a \"simple\" model that uses 1 input channel (the KDE [kernel density estimator] but from the track parameters) feeding 5 convolutional layers followed by a fully connected layer.\n",
    "\n",
    "In today's version, the network will start with weights from a previously trained version.\n",
    "\n",
    "The 04Feb2021 version of the code is intended to train the same model, but using the KDE_A kernels rather than the original kernels.  The purpose is to test the code that reads in the KDE.\n",
    " "
   ]
  },
  {
   "cell_type": "markdown",
   "metadata": {},
   "source": [
    "Check the current GPU usage. Please try to be nice!"
   ]
  },
  {
   "cell_type": "code",
   "execution_count": 2,
   "metadata": {},
   "outputs": [
    {
     "name": "stdout",
     "output_type": "stream",
     "text": [
      "Fri Feb  5 20:20:41 2021       \r\n",
      "+-----------------------------------------------------------------------------+\r\n",
      "| NVIDIA-SMI 450.36.06    Driver Version: 450.36.06    CUDA Version: 11.0     |\r\n",
      "|-------------------------------+----------------------+----------------------+\r\n",
      "| GPU  Name        Persistence-M| Bus-Id        Disp.A | Volatile Uncorr. ECC |\r\n",
      "| Fan  Temp  Perf  Pwr:Usage/Cap|         Memory-Usage | GPU-Util  Compute M. |\r\n",
      "|                               |                      |               MIG M. |\r\n",
      "|===============================+======================+======================|\r\n",
      "|   0  GeForce RTX 208...  On   | 00000000:18:00.0 Off |                  N/A |\r\n",
      "| 29%   35C    P8    39W / 250W |   5636MiB / 11019MiB |      0%      Default |\r\n",
      "|                               |                      |                  N/A |\r\n",
      "+-------------------------------+----------------------+----------------------+\r\n",
      "|   1  GeForce RTX 208...  On   | 00000000:3B:00.0 Off |                  N/A |\r\n",
      "| 29%   35C    P8    39W / 250W |     64MiB / 11019MiB |      0%      Default |\r\n",
      "|                               |                      |                  N/A |\r\n",
      "+-------------------------------+----------------------+----------------------+\r\n",
      "                                                                               \r\n",
      "+-----------------------------------------------------------------------------+\r\n",
      "| Processes:                                                                  |\r\n",
      "|  GPU   GI   CI        PID   Type   Process name                  GPU Memory |\r\n",
      "|        ID   ID                                                   Usage      |\r\n",
      "|=============================================================================|\r\n",
      "|    0   N/A  N/A     33516      C   ...s/june2020-gpu/bin/python     4565MiB |\r\n",
      "|    0   N/A  N/A    280734      C   .../envs/will-gpu/bin/python     1067MiB |\r\n",
      "|    1   N/A  N/A      3736      G   /usr/bin/X                         33MiB |\r\n",
      "|    1   N/A  N/A      3790      G   /usr/bin/gnome-shell               25MiB |\r\n",
      "+-----------------------------------------------------------------------------+\r\n"
     ]
    }
   ],
   "source": [
    "!nvidia-smi"
   ]
  },
  {
   "cell_type": "markdown",
   "metadata": {},
   "source": [
    "> **WARNING**: The card numbers here are *not* the same as in CUDA. You have been warned."
   ]
  },
  {
   "cell_type": "markdown",
   "metadata": {},
   "source": [
    "## Imports"
   ]
  },
  {
   "cell_type": "code",
   "execution_count": 3,
   "metadata": {},
   "outputs": [],
   "source": [
    "import matplotlib.pyplot as plt\n",
    "import numpy as np\n",
    "import time\n",
    "import torch\n",
    "import pandas as pd\n",
    "\n",
    "# Python 3 standard library\n",
    "from pathlib import Path\n"
   ]
  },
  {
   "cell_type": "markdown",
   "metadata": {},
   "source": [
    "### Set up local parameters"
   ]
  },
  {
   "cell_type": "code",
   "execution_count": 4,
   "metadata": {},
   "outputs": [],
   "source": [
    "n_epochs = 50\n",
    "\n",
    "\n",
    "folder = '05February2021_AllCNN6Layer_Ca_iter1_50epochs_poca_KDE_A_lr_1em3_loss_1p0_4xwill'\n",
    "name = folder\n",
    "\n",
    "# Make an output folder named \"name\" (change if you want)\n",
    "\n",
    "## Special instructions for those working on goofy at UC\n",
    "## Please be very careful to make sure that your folder\n",
    "## does not live in a subdirectory of your home directory\n",
    "## this disk has very little capacity. Instead, use \n",
    "## a subdirectory in /share/lazy with a symbolic link to\n",
    "## it in this (the notebooks) subdirectory\n",
    "folder = 'ML/' + folder\n",
    "output = Path(folder)\n",
    "\n",
    "\n",
    "# Size of batches\n",
    "batch_size = 128\n",
    "\n",
    "# How fast to learn\n",
    "learning_rate = 1e-3"
   ]
  },
  {
   "cell_type": "markdown",
   "metadata": {},
   "source": [
    "Make the output directory if it does not exist:"
   ]
  },
  {
   "cell_type": "code",
   "execution_count": 5,
   "metadata": {},
   "outputs": [],
   "source": [
    "output.mkdir(exist_ok=True)"
   ]
  },
  {
   "cell_type": "markdown",
   "metadata": {},
   "source": [
    "## Get the helper functions\n",
    "\n",
    "Add the directory with the model\n",
    "definitions to the path so we can import from it:\n",
    "\n",
    "> When you type `import X`,\n",
    "Python searches `sys.path` for a python\n",
    "file named `X.py` to import. So we need to add the model directory to the path."
   ]
  },
  {
   "cell_type": "code",
   "execution_count": 6,
   "metadata": {
    "scrolled": true
   },
   "outputs": [],
   "source": [
    "# From model/collectdata.py\n",
    "from model.collectdata_poca_KDE import collect_data_poca\n",
    "\n",
    "# From model/loss.py\n",
    "##from loss import Loss\n",
    "from model.alt_loss_A import Loss\n",
    "\n",
    "# From model/training.py\n",
    "from model.training import trainNet, select_gpu\n",
    "\n",
    "# From model/models.py\n",
    "##  will start with model from TwoFeatures_CNN6Layer_A in the first instance\n",
    "##  see relevant cell below\n",
    "\n",
    "\n",
    "##from model.models_mds_G import SimpleCNN5Layer_Ca as Model\n",
    "from model.models_mds_G import AllCNN6Layer_Ca as Model\n",
    "\n",
    "from model.training import trainNet, select_gpu, Results\n",
    "from model.plots import dual_train_plots, replace_in_ax"
   ]
  },
  {
   "cell_type": "code",
   "execution_count": 7,
   "metadata": {},
   "outputs": [],
   "source": [
    "# This gets built up during the run - do not rerun this cell\n",
    "results = pd.DataFrame([], columns=Results._fields)"
   ]
  },
  {
   "cell_type": "markdown",
   "metadata": {},
   "source": [
    "Set up Torch device configuration. All tensors and model parameters need to know where to be put.\n",
    "This takes a BUS ID number: The BUS ID is the same as the listing at the top of this script."
   ]
  },
  {
   "cell_type": "code",
   "execution_count": 8,
   "metadata": {},
   "outputs": [
    {
     "name": "stdout",
     "output_type": "stream",
     "text": [
      "1 available GPUs (initially using device 0):\n",
      "  0 GeForce RTX 2080 Ti\n"
     ]
    }
   ],
   "source": [
    "device = select_gpu(0)"
   ]
  },
  {
   "cell_type": "markdown",
   "metadata": {},
   "source": [
    "## Loading data\n",
    "\n",
    "Load the dataset, split into parts, then move to device (see `collectdata.py` in the `../model` directory)"
   ]
  },
  {
   "cell_type": "code",
   "execution_count": 9,
   "metadata": {
    "scrolled": true
   },
   "outputs": [
    {
     "name": "stdout",
     "output_type": "stream",
     "text": [
      "Loading data...\n",
      "Loaded /share/lazy/will/data/June30_2020_80k_1.h5 in 12.71 s\n",
      "Loaded /share/lazy/will/data/June30_2020_80k_2.h5 in 12.22 s\n",
      "Loaded /share/lazy/will/data/June30_2020_80k_3.h5 in 12.25 s\n",
      "Loaded /share/lazy/will/data/June30_2020_80k_4.h5 in 12.11 s\n",
      "Constructing 320000 event dataset took 0.875 s\n",
      "Loading data...\n",
      "Loaded dataAA/20K_POCA_kernel_evts_200926.h5 in 3.055 s\n",
      "Constructing 20000 event dataset took 0.08483 s\n"
     ]
    }
   ],
   "source": [
    "## newer vernacular\n",
    "## Training dataset. You can put as many files here as desired.\n",
    "\n",
    "## in this DEMO example we use only one 80K training set -- the model starts with well-trained weights,\n",
    "## and using a smaller training set reduces both the time to load the data and the time to train an epoch\n",
    "##  set the option load_XandXsq = True to use both DKE and KDE^2 as input features\n",
    "\n",
    "train_loader = collect_data_poca('/share/lazy/will/data/June30_2020_80k_1.h5',\n",
    "                                 '/share/lazy/will/data/June30_2020_80k_2.h5',\n",
    "                                 '/share/lazy/will/data/June30_2020_80k_3.h5',\n",
    "                                 '/share/lazy/will/data/June30_2020_80k_4.h5',\n",
    "                            batch_size=batch_size,\n",
    "                           ## device=device,\n",
    "                            masking=True, shuffle=True,\n",
    "                           ## slice = slice(0,18000)\n",
    "                           )\n",
    "\n",
    "val_loader = collect_data_poca('dataAA/20K_POCA_kernel_evts_200926.h5',\n",
    "                            batch_size=batch_size,\n",
    "                           ## device=device,\n",
    "                            masking=True, shuffle=True,\n",
    "                            ##slice = slice(18000,None)\n",
    "                           )\n",
    "\n"
   ]
  },
  {
   "cell_type": "markdown",
   "metadata": {},
   "source": [
    "# Preparing the model"
   ]
  },
  {
   "cell_type": "markdown",
   "metadata": {},
   "source": [
    "Prepare a model, use multiple GPUs if they are VISIBLE, and move the model to the device."
   ]
  },
  {
   "cell_type": "code",
   "execution_count": 10,
   "metadata": {
    "scrolled": true
   },
   "outputs": [
    {
     "name": "stdout",
     "output_type": "stream",
     "text": [
      "ct, child =  0    Conv1d(1, 20, kernel_size=(25,), stride=(1,), padding=(12,))\n",
      "ct, child =  1    Conv1d(20, 10, kernel_size=(15,), stride=(1,), padding=(7,))\n",
      "ct, child =  2    Conv1d(10, 10, kernel_size=(15,), stride=(1,), padding=(7,))\n",
      "ct, child =  3    Conv1d(10, 10, kernel_size=(15,), stride=(1,), padding=(7,))\n",
      "ct, child =  4    Conv1d(10, 1, kernel_size=(5,), stride=(1,), padding=(2,))\n",
      "ct, child =  5    Dropout(p=0.15, inplace=False)\n",
      "ct, child =  6    Dropout(p=0.15, inplace=False)\n",
      "ct, child =  7    Dropout(p=0.15, inplace=False)\n",
      "ct, child =  8    Dropout(p=0.15, inplace=False)\n",
      "ct, child =  9    Dropout(p=0.35, inplace=False)\n",
      "ct, child =  10    Conv1d(1, 1, kernel_size=(91,), stride=(1,), padding=(45,))\n"
     ]
    }
   ],
   "source": [
    "model = Model()\n",
    "\n",
    "##summary(model, input_size=(4, 4000))\n",
    "##print(model.parameters)\n",
    "\n",
    "## add the following code to allow the user to freeze the some of the weights corresponding \n",
    "## to those taken from an earlier model trained with the original target histograms\n",
    "## presumably -- this leaves either the perturbative filter \"fixed\" and lets the \n",
    "## learning focus on the non-perturbative features, so get started faster, or vice versa\n",
    "ct = 0\n",
    "for child in model.children():\n",
    "  print('ct, child = ',ct, \"  \", child)\n",
    "  if ct < 0:\n",
    "    print(\"     About to set param.requires_grad=False for ct = \", ct, \"params\")\n",
    "    for param in child.parameters():\n",
    "        param.requires_grad = False \n",
    "  ct += 1\n",
    "##  mds 200121 loss = Loss(epsilon=1e-5,coefficient=1.0)\n",
    "loss = Loss(epsilon=1e-5,coefficient=2.5)\n",
    "optimizer = torch.optim.Adam(model.parameters(), lr=learning_rate)"
   ]
  },
  {
   "cell_type": "code",
   "execution_count": 11,
   "metadata": {
    "scrolled": true
   },
   "outputs": [
    {
     "name": "stdout",
     "output_type": "stream",
     "text": [
      "Let's use 1 GPUs!\n"
     ]
    }
   ],
   "source": [
    "print(\"Let's use\", torch.cuda.device_count(), \"GPUs!\")\n",
    "if torch.cuda.device_count() > 1:\n",
    "    model = torch.nn.DataParallel(model)"
   ]
  },
  {
   "cell_type": "markdown",
   "metadata": {},
   "source": [
    "Let's move the model's weight matricies to the GPU:"
   ]
  },
  {
   "cell_type": "code",
   "execution_count": 12,
   "metadata": {},
   "outputs": [
    {
     "name": "stdout",
     "output_type": "stream",
     "text": [
      "output =  ML/05February2021_AllCNN6Layer_Ca_iter1_50epochs_poca_KDE_A_lr_1em3_loss_1p0_4xwill\n",
      "pretrained dict_name =  ML/05February2021_AllCNN6Layer_Ca_iter0_50epochs_poca_KDE_A_lr_1em3_loss_1p0_4xwill/05February2021_AllCNN6Layer_Ca_iter0_50epochs_poca_KDE_A_lr_1em3_loss_1p0_4xwill_final.pyt\n",
      "for model_dict\n",
      "index, k =   0    conv1.weight\n",
      "index, k =   1    conv1.bias\n",
      "index, k =   2    conv2.weight\n",
      "index, k =   3    conv2.bias\n",
      "index, k =   4    conv3.weight\n",
      "index, k =   5    conv3.bias\n",
      "index, k =   6    conv4.weight\n",
      "index, k =   7    conv4.bias\n",
      "index, k =   8    conv5.weight\n",
      "index, k =   9    conv5.bias\n",
      "index, k =   10    finalFilter.weight\n",
      "index, k =   11    finalFilter.bias\n",
      " \n",
      "   for pretrained_dict\n",
      "index, k =   0    conv1.weight\n",
      "index, k =   1    conv1.bias\n",
      "index, k =   2    conv2.weight\n",
      "index, k =   3    conv2.bias\n",
      "index, k =   4    conv3.weight\n",
      "index, k =   5    conv3.bias\n",
      "index, k =   6    conv4.weight\n",
      "index, k =   7    conv4.bias\n",
      "index, k =   8    conv5.weight\n",
      "index, k =   9    conv5.bias\n",
      "index, k =   10    finalFilter.weight\n",
      "index, k =   11    finalFilter.bias\n",
      "model_dict instantiated\n"
     ]
    },
    {
     "data": {
      "text/plain": [
       "<All keys matched successfully>"
      ]
     },
     "execution_count": 12,
     "metadata": {},
     "output_type": "execute_result"
    }
   ],
   "source": [
    "print('output = ',output)\n",
    "##print('oldOutput = ',oldOutput)\n",
    "##  use the first four layers from a pre-existing model\n",
    "##  see example at https://discuss.pytorch.org/t/how-to-load-part-of-pre-trained-model/1113\n",
    "\n",
    "##   ML -> /share/lazy/sokoloff/ML\n",
    "d_name = '05February2021_AllCNN6Layer_Ca_iter0_50epochs_poca_KDE_A_lr_1em3_loss_1p0_4xwill'\n",
    "d_folder = d_name\n",
    "suffix = 'final'\n",
    "dict_name = 'ML/'+d_folder+'/'+d_name+'_'+suffix+'.pyt'\n",
    "print(\"pretrained dict_name = \",dict_name)\n",
    "pretrained_dict = torch.load(dict_name)\n",
    "\n",
    "\n",
    "model_dict = model.state_dict()\n",
    "## mds 190725 for debugging\n",
    "print(\"for model_dict\")\n",
    "index = 0\n",
    "for k,v in model_dict.items():\n",
    "    print(\"index, k =  \",index,\"  \",k)\n",
    "    index = index+1\n",
    "    \n",
    "print(\" \\n\",\"  for pretrained_dict\")\n",
    "index = 0\n",
    "for k,v in pretrained_dict.items():\n",
    "    print(\"index, k =  \",index,\"  \",k)\n",
    "    index = index+1\n",
    "## mds  \n",
    "\n",
    "print(\"model_dict instantiated\")\n",
    "# 1. filter out unnecessary keys\n",
    "pretrained_dict = {k: v for k, v in pretrained_dict.items() if k in model_dict}\n",
    "## print(\"pretrained_dict iterated\")\n",
    "# 2. overwrite entries in the existing state dict\n",
    "model_dict.update(pretrained_dict) \n",
    "##\n",
    "#   when starting from a model with a fully connected last layer rather than a convolutional layer\n",
    "# 3. load the new state dict\n",
    "#   need to use strict=False as the two models state model attributes do not agree exactly\n",
    "#   see https://pytorch.org/docs/master/_modules/torch/nn/modules/module.html#Module.load_state_dict\n",
    "\n",
    "model.load_state_dict(pretrained_dict,strict=False)\n",
    "\n",
    "## print('model_dict =    ', model_dict)\n"
   ]
  },
  {
   "cell_type": "code",
   "execution_count": 13,
   "metadata": {
    "scrolled": true
   },
   "outputs": [],
   "source": [
    "model = model.to(device)"
   ]
  },
  {
   "cell_type": "markdown",
   "metadata": {},
   "source": [
    "## Train \n",
    "\n",
    "\n",
    "\n",
    "The body of this loop runs once per epoch. Results is a named tuple of values (loss per epoch for training and validation, time each). Start by setting up a plot first:"
   ]
  },
  {
   "cell_type": "code",
   "execution_count": 14,
   "metadata": {
    "scrolled": false
   },
   "outputs": [
    {
     "data": {
      "application/javascript": [
       "/* Put everything inside the global mpl namespace */\n",
       "window.mpl = {};\n",
       "\n",
       "\n",
       "mpl.get_websocket_type = function() {\n",
       "    if (typeof(WebSocket) !== 'undefined') {\n",
       "        return WebSocket;\n",
       "    } else if (typeof(MozWebSocket) !== 'undefined') {\n",
       "        return MozWebSocket;\n",
       "    } else {\n",
       "        alert('Your browser does not have WebSocket support. ' +\n",
       "              'Please try Chrome, Safari or Firefox ≥ 6. ' +\n",
       "              'Firefox 4 and 5 are also supported but you ' +\n",
       "              'have to enable WebSockets in about:config.');\n",
       "    };\n",
       "}\n",
       "\n",
       "mpl.figure = function(figure_id, websocket, ondownload, parent_element) {\n",
       "    this.id = figure_id;\n",
       "\n",
       "    this.ws = websocket;\n",
       "\n",
       "    this.supports_binary = (this.ws.binaryType != undefined);\n",
       "\n",
       "    if (!this.supports_binary) {\n",
       "        var warnings = document.getElementById(\"mpl-warnings\");\n",
       "        if (warnings) {\n",
       "            warnings.style.display = 'block';\n",
       "            warnings.textContent = (\n",
       "                \"This browser does not support binary websocket messages. \" +\n",
       "                    \"Performance may be slow.\");\n",
       "        }\n",
       "    }\n",
       "\n",
       "    this.imageObj = new Image();\n",
       "\n",
       "    this.context = undefined;\n",
       "    this.message = undefined;\n",
       "    this.canvas = undefined;\n",
       "    this.rubberband_canvas = undefined;\n",
       "    this.rubberband_context = undefined;\n",
       "    this.format_dropdown = undefined;\n",
       "\n",
       "    this.image_mode = 'full';\n",
       "\n",
       "    this.root = $('<div/>');\n",
       "    this._root_extra_style(this.root)\n",
       "    this.root.attr('style', 'display: inline-block');\n",
       "\n",
       "    $(parent_element).append(this.root);\n",
       "\n",
       "    this._init_header(this);\n",
       "    this._init_canvas(this);\n",
       "    this._init_toolbar(this);\n",
       "\n",
       "    var fig = this;\n",
       "\n",
       "    this.waiting = false;\n",
       "\n",
       "    this.ws.onopen =  function () {\n",
       "            fig.send_message(\"supports_binary\", {value: fig.supports_binary});\n",
       "            fig.send_message(\"send_image_mode\", {});\n",
       "            if (mpl.ratio != 1) {\n",
       "                fig.send_message(\"set_dpi_ratio\", {'dpi_ratio': mpl.ratio});\n",
       "            }\n",
       "            fig.send_message(\"refresh\", {});\n",
       "        }\n",
       "\n",
       "    this.imageObj.onload = function() {\n",
       "            if (fig.image_mode == 'full') {\n",
       "                // Full images could contain transparency (where diff images\n",
       "                // almost always do), so we need to clear the canvas so that\n",
       "                // there is no ghosting.\n",
       "                fig.context.clearRect(0, 0, fig.canvas.width, fig.canvas.height);\n",
       "            }\n",
       "            fig.context.drawImage(fig.imageObj, 0, 0);\n",
       "        };\n",
       "\n",
       "    this.imageObj.onunload = function() {\n",
       "        fig.ws.close();\n",
       "    }\n",
       "\n",
       "    this.ws.onmessage = this._make_on_message_function(this);\n",
       "\n",
       "    this.ondownload = ondownload;\n",
       "}\n",
       "\n",
       "mpl.figure.prototype._init_header = function() {\n",
       "    var titlebar = $(\n",
       "        '<div class=\"ui-dialog-titlebar ui-widget-header ui-corner-all ' +\n",
       "        'ui-helper-clearfix\"/>');\n",
       "    var titletext = $(\n",
       "        '<div class=\"ui-dialog-title\" style=\"width: 100%; ' +\n",
       "        'text-align: center; padding: 3px;\"/>');\n",
       "    titlebar.append(titletext)\n",
       "    this.root.append(titlebar);\n",
       "    this.header = titletext[0];\n",
       "}\n",
       "\n",
       "\n",
       "\n",
       "mpl.figure.prototype._canvas_extra_style = function(canvas_div) {\n",
       "\n",
       "}\n",
       "\n",
       "\n",
       "mpl.figure.prototype._root_extra_style = function(canvas_div) {\n",
       "\n",
       "}\n",
       "\n",
       "mpl.figure.prototype._init_canvas = function() {\n",
       "    var fig = this;\n",
       "\n",
       "    var canvas_div = $('<div/>');\n",
       "\n",
       "    canvas_div.attr('style', 'position: relative; clear: both; outline: 0');\n",
       "\n",
       "    function canvas_keyboard_event(event) {\n",
       "        return fig.key_event(event, event['data']);\n",
       "    }\n",
       "\n",
       "    canvas_div.keydown('key_press', canvas_keyboard_event);\n",
       "    canvas_div.keyup('key_release', canvas_keyboard_event);\n",
       "    this.canvas_div = canvas_div\n",
       "    this._canvas_extra_style(canvas_div)\n",
       "    this.root.append(canvas_div);\n",
       "\n",
       "    var canvas = $('<canvas/>');\n",
       "    canvas.addClass('mpl-canvas');\n",
       "    canvas.attr('style', \"left: 0; top: 0; z-index: 0; outline: 0\")\n",
       "\n",
       "    this.canvas = canvas[0];\n",
       "    this.context = canvas[0].getContext(\"2d\");\n",
       "\n",
       "    var backingStore = this.context.backingStorePixelRatio ||\n",
       "\tthis.context.webkitBackingStorePixelRatio ||\n",
       "\tthis.context.mozBackingStorePixelRatio ||\n",
       "\tthis.context.msBackingStorePixelRatio ||\n",
       "\tthis.context.oBackingStorePixelRatio ||\n",
       "\tthis.context.backingStorePixelRatio || 1;\n",
       "\n",
       "    mpl.ratio = (window.devicePixelRatio || 1) / backingStore;\n",
       "\n",
       "    var rubberband = $('<canvas/>');\n",
       "    rubberband.attr('style', \"position: absolute; left: 0; top: 0; z-index: 1;\")\n",
       "\n",
       "    var pass_mouse_events = true;\n",
       "\n",
       "    canvas_div.resizable({\n",
       "        start: function(event, ui) {\n",
       "            pass_mouse_events = false;\n",
       "        },\n",
       "        resize: function(event, ui) {\n",
       "            fig.request_resize(ui.size.width, ui.size.height);\n",
       "        },\n",
       "        stop: function(event, ui) {\n",
       "            pass_mouse_events = true;\n",
       "            fig.request_resize(ui.size.width, ui.size.height);\n",
       "        },\n",
       "    });\n",
       "\n",
       "    function mouse_event_fn(event) {\n",
       "        if (pass_mouse_events)\n",
       "            return fig.mouse_event(event, event['data']);\n",
       "    }\n",
       "\n",
       "    rubberband.mousedown('button_press', mouse_event_fn);\n",
       "    rubberband.mouseup('button_release', mouse_event_fn);\n",
       "    // Throttle sequential mouse events to 1 every 20ms.\n",
       "    rubberband.mousemove('motion_notify', mouse_event_fn);\n",
       "\n",
       "    rubberband.mouseenter('figure_enter', mouse_event_fn);\n",
       "    rubberband.mouseleave('figure_leave', mouse_event_fn);\n",
       "\n",
       "    canvas_div.on(\"wheel\", function (event) {\n",
       "        event = event.originalEvent;\n",
       "        event['data'] = 'scroll'\n",
       "        if (event.deltaY < 0) {\n",
       "            event.step = 1;\n",
       "        } else {\n",
       "            event.step = -1;\n",
       "        }\n",
       "        mouse_event_fn(event);\n",
       "    });\n",
       "\n",
       "    canvas_div.append(canvas);\n",
       "    canvas_div.append(rubberband);\n",
       "\n",
       "    this.rubberband = rubberband;\n",
       "    this.rubberband_canvas = rubberband[0];\n",
       "    this.rubberband_context = rubberband[0].getContext(\"2d\");\n",
       "    this.rubberband_context.strokeStyle = \"#000000\";\n",
       "\n",
       "    this._resize_canvas = function(width, height) {\n",
       "        // Keep the size of the canvas, canvas container, and rubber band\n",
       "        // canvas in synch.\n",
       "        canvas_div.css('width', width)\n",
       "        canvas_div.css('height', height)\n",
       "\n",
       "        canvas.attr('width', width * mpl.ratio);\n",
       "        canvas.attr('height', height * mpl.ratio);\n",
       "        canvas.attr('style', 'width: ' + width + 'px; height: ' + height + 'px;');\n",
       "\n",
       "        rubberband.attr('width', width);\n",
       "        rubberband.attr('height', height);\n",
       "    }\n",
       "\n",
       "    // Set the figure to an initial 600x600px, this will subsequently be updated\n",
       "    // upon first draw.\n",
       "    this._resize_canvas(600, 600);\n",
       "\n",
       "    // Disable right mouse context menu.\n",
       "    $(this.rubberband_canvas).bind(\"contextmenu\",function(e){\n",
       "        return false;\n",
       "    });\n",
       "\n",
       "    function set_focus () {\n",
       "        canvas.focus();\n",
       "        canvas_div.focus();\n",
       "    }\n",
       "\n",
       "    window.setTimeout(set_focus, 100);\n",
       "}\n",
       "\n",
       "mpl.figure.prototype._init_toolbar = function() {\n",
       "    var fig = this;\n",
       "\n",
       "    var nav_element = $('<div/>');\n",
       "    nav_element.attr('style', 'width: 100%');\n",
       "    this.root.append(nav_element);\n",
       "\n",
       "    // Define a callback function for later on.\n",
       "    function toolbar_event(event) {\n",
       "        return fig.toolbar_button_onclick(event['data']);\n",
       "    }\n",
       "    function toolbar_mouse_event(event) {\n",
       "        return fig.toolbar_button_onmouseover(event['data']);\n",
       "    }\n",
       "\n",
       "    for(var toolbar_ind in mpl.toolbar_items) {\n",
       "        var name = mpl.toolbar_items[toolbar_ind][0];\n",
       "        var tooltip = mpl.toolbar_items[toolbar_ind][1];\n",
       "        var image = mpl.toolbar_items[toolbar_ind][2];\n",
       "        var method_name = mpl.toolbar_items[toolbar_ind][3];\n",
       "\n",
       "        if (!name) {\n",
       "            // put a spacer in here.\n",
       "            continue;\n",
       "        }\n",
       "        var button = $('<button/>');\n",
       "        button.addClass('ui-button ui-widget ui-state-default ui-corner-all ' +\n",
       "                        'ui-button-icon-only');\n",
       "        button.attr('role', 'button');\n",
       "        button.attr('aria-disabled', 'false');\n",
       "        button.click(method_name, toolbar_event);\n",
       "        button.mouseover(tooltip, toolbar_mouse_event);\n",
       "\n",
       "        var icon_img = $('<span/>');\n",
       "        icon_img.addClass('ui-button-icon-primary ui-icon');\n",
       "        icon_img.addClass(image);\n",
       "        icon_img.addClass('ui-corner-all');\n",
       "\n",
       "        var tooltip_span = $('<span/>');\n",
       "        tooltip_span.addClass('ui-button-text');\n",
       "        tooltip_span.html(tooltip);\n",
       "\n",
       "        button.append(icon_img);\n",
       "        button.append(tooltip_span);\n",
       "\n",
       "        nav_element.append(button);\n",
       "    }\n",
       "\n",
       "    var fmt_picker_span = $('<span/>');\n",
       "\n",
       "    var fmt_picker = $('<select/>');\n",
       "    fmt_picker.addClass('mpl-toolbar-option ui-widget ui-widget-content');\n",
       "    fmt_picker_span.append(fmt_picker);\n",
       "    nav_element.append(fmt_picker_span);\n",
       "    this.format_dropdown = fmt_picker[0];\n",
       "\n",
       "    for (var ind in mpl.extensions) {\n",
       "        var fmt = mpl.extensions[ind];\n",
       "        var option = $(\n",
       "            '<option/>', {selected: fmt === mpl.default_extension}).html(fmt);\n",
       "        fmt_picker.append(option);\n",
       "    }\n",
       "\n",
       "    // Add hover states to the ui-buttons\n",
       "    $( \".ui-button\" ).hover(\n",
       "        function() { $(this).addClass(\"ui-state-hover\");},\n",
       "        function() { $(this).removeClass(\"ui-state-hover\");}\n",
       "    );\n",
       "\n",
       "    var status_bar = $('<span class=\"mpl-message\"/>');\n",
       "    nav_element.append(status_bar);\n",
       "    this.message = status_bar[0];\n",
       "}\n",
       "\n",
       "mpl.figure.prototype.request_resize = function(x_pixels, y_pixels) {\n",
       "    // Request matplotlib to resize the figure. Matplotlib will then trigger a resize in the client,\n",
       "    // which will in turn request a refresh of the image.\n",
       "    this.send_message('resize', {'width': x_pixels, 'height': y_pixels});\n",
       "}\n",
       "\n",
       "mpl.figure.prototype.send_message = function(type, properties) {\n",
       "    properties['type'] = type;\n",
       "    properties['figure_id'] = this.id;\n",
       "    this.ws.send(JSON.stringify(properties));\n",
       "}\n",
       "\n",
       "mpl.figure.prototype.send_draw_message = function() {\n",
       "    if (!this.waiting) {\n",
       "        this.waiting = true;\n",
       "        this.ws.send(JSON.stringify({type: \"draw\", figure_id: this.id}));\n",
       "    }\n",
       "}\n",
       "\n",
       "\n",
       "mpl.figure.prototype.handle_save = function(fig, msg) {\n",
       "    var format_dropdown = fig.format_dropdown;\n",
       "    var format = format_dropdown.options[format_dropdown.selectedIndex].value;\n",
       "    fig.ondownload(fig, format);\n",
       "}\n",
       "\n",
       "\n",
       "mpl.figure.prototype.handle_resize = function(fig, msg) {\n",
       "    var size = msg['size'];\n",
       "    if (size[0] != fig.canvas.width || size[1] != fig.canvas.height) {\n",
       "        fig._resize_canvas(size[0], size[1]);\n",
       "        fig.send_message(\"refresh\", {});\n",
       "    };\n",
       "}\n",
       "\n",
       "mpl.figure.prototype.handle_rubberband = function(fig, msg) {\n",
       "    var x0 = msg['x0'] / mpl.ratio;\n",
       "    var y0 = (fig.canvas.height - msg['y0']) / mpl.ratio;\n",
       "    var x1 = msg['x1'] / mpl.ratio;\n",
       "    var y1 = (fig.canvas.height - msg['y1']) / mpl.ratio;\n",
       "    x0 = Math.floor(x0) + 0.5;\n",
       "    y0 = Math.floor(y0) + 0.5;\n",
       "    x1 = Math.floor(x1) + 0.5;\n",
       "    y1 = Math.floor(y1) + 0.5;\n",
       "    var min_x = Math.min(x0, x1);\n",
       "    var min_y = Math.min(y0, y1);\n",
       "    var width = Math.abs(x1 - x0);\n",
       "    var height = Math.abs(y1 - y0);\n",
       "\n",
       "    fig.rubberband_context.clearRect(\n",
       "        0, 0, fig.canvas.width / mpl.ratio, fig.canvas.height / mpl.ratio);\n",
       "\n",
       "    fig.rubberband_context.strokeRect(min_x, min_y, width, height);\n",
       "}\n",
       "\n",
       "mpl.figure.prototype.handle_figure_label = function(fig, msg) {\n",
       "    // Updates the figure title.\n",
       "    fig.header.textContent = msg['label'];\n",
       "}\n",
       "\n",
       "mpl.figure.prototype.handle_cursor = function(fig, msg) {\n",
       "    var cursor = msg['cursor'];\n",
       "    switch(cursor)\n",
       "    {\n",
       "    case 0:\n",
       "        cursor = 'pointer';\n",
       "        break;\n",
       "    case 1:\n",
       "        cursor = 'default';\n",
       "        break;\n",
       "    case 2:\n",
       "        cursor = 'crosshair';\n",
       "        break;\n",
       "    case 3:\n",
       "        cursor = 'move';\n",
       "        break;\n",
       "    }\n",
       "    fig.rubberband_canvas.style.cursor = cursor;\n",
       "}\n",
       "\n",
       "mpl.figure.prototype.handle_message = function(fig, msg) {\n",
       "    fig.message.textContent = msg['message'];\n",
       "}\n",
       "\n",
       "mpl.figure.prototype.handle_draw = function(fig, msg) {\n",
       "    // Request the server to send over a new figure.\n",
       "    fig.send_draw_message();\n",
       "}\n",
       "\n",
       "mpl.figure.prototype.handle_image_mode = function(fig, msg) {\n",
       "    fig.image_mode = msg['mode'];\n",
       "}\n",
       "\n",
       "mpl.figure.prototype.updated_canvas_event = function() {\n",
       "    // Called whenever the canvas gets updated.\n",
       "    this.send_message(\"ack\", {});\n",
       "}\n",
       "\n",
       "// A function to construct a web socket function for onmessage handling.\n",
       "// Called in the figure constructor.\n",
       "mpl.figure.prototype._make_on_message_function = function(fig) {\n",
       "    return function socket_on_message(evt) {\n",
       "        if (evt.data instanceof Blob) {\n",
       "            /* FIXME: We get \"Resource interpreted as Image but\n",
       "             * transferred with MIME type text/plain:\" errors on\n",
       "             * Chrome.  But how to set the MIME type?  It doesn't seem\n",
       "             * to be part of the websocket stream */\n",
       "            evt.data.type = \"image/png\";\n",
       "\n",
       "            /* Free the memory for the previous frames */\n",
       "            if (fig.imageObj.src) {\n",
       "                (window.URL || window.webkitURL).revokeObjectURL(\n",
       "                    fig.imageObj.src);\n",
       "            }\n",
       "\n",
       "            fig.imageObj.src = (window.URL || window.webkitURL).createObjectURL(\n",
       "                evt.data);\n",
       "            fig.updated_canvas_event();\n",
       "            fig.waiting = false;\n",
       "            return;\n",
       "        }\n",
       "        else if (typeof evt.data === 'string' && evt.data.slice(0, 21) == \"data:image/png;base64\") {\n",
       "            fig.imageObj.src = evt.data;\n",
       "            fig.updated_canvas_event();\n",
       "            fig.waiting = false;\n",
       "            return;\n",
       "        }\n",
       "\n",
       "        var msg = JSON.parse(evt.data);\n",
       "        var msg_type = msg['type'];\n",
       "\n",
       "        // Call the  \"handle_{type}\" callback, which takes\n",
       "        // the figure and JSON message as its only arguments.\n",
       "        try {\n",
       "            var callback = fig[\"handle_\" + msg_type];\n",
       "        } catch (e) {\n",
       "            console.log(\"No handler for the '\" + msg_type + \"' message type: \", msg);\n",
       "            return;\n",
       "        }\n",
       "\n",
       "        if (callback) {\n",
       "            try {\n",
       "                // console.log(\"Handling '\" + msg_type + \"' message: \", msg);\n",
       "                callback(fig, msg);\n",
       "            } catch (e) {\n",
       "                console.log(\"Exception inside the 'handler_\" + msg_type + \"' callback:\", e, e.stack, msg);\n",
       "            }\n",
       "        }\n",
       "    };\n",
       "}\n",
       "\n",
       "// from http://stackoverflow.com/questions/1114465/getting-mouse-location-in-canvas\n",
       "mpl.findpos = function(e) {\n",
       "    //this section is from http://www.quirksmode.org/js/events_properties.html\n",
       "    var targ;\n",
       "    if (!e)\n",
       "        e = window.event;\n",
       "    if (e.target)\n",
       "        targ = e.target;\n",
       "    else if (e.srcElement)\n",
       "        targ = e.srcElement;\n",
       "    if (targ.nodeType == 3) // defeat Safari bug\n",
       "        targ = targ.parentNode;\n",
       "\n",
       "    // jQuery normalizes the pageX and pageY\n",
       "    // pageX,Y are the mouse positions relative to the document\n",
       "    // offset() returns the position of the element relative to the document\n",
       "    var x = e.pageX - $(targ).offset().left;\n",
       "    var y = e.pageY - $(targ).offset().top;\n",
       "\n",
       "    return {\"x\": x, \"y\": y};\n",
       "};\n",
       "\n",
       "/*\n",
       " * return a copy of an object with only non-object keys\n",
       " * we need this to avoid circular references\n",
       " * http://stackoverflow.com/a/24161582/3208463\n",
       " */\n",
       "function simpleKeys (original) {\n",
       "  return Object.keys(original).reduce(function (obj, key) {\n",
       "    if (typeof original[key] !== 'object')\n",
       "        obj[key] = original[key]\n",
       "    return obj;\n",
       "  }, {});\n",
       "}\n",
       "\n",
       "mpl.figure.prototype.mouse_event = function(event, name) {\n",
       "    var canvas_pos = mpl.findpos(event)\n",
       "\n",
       "    if (name === 'button_press')\n",
       "    {\n",
       "        this.canvas.focus();\n",
       "        this.canvas_div.focus();\n",
       "    }\n",
       "\n",
       "    var x = canvas_pos.x * mpl.ratio;\n",
       "    var y = canvas_pos.y * mpl.ratio;\n",
       "\n",
       "    this.send_message(name, {x: x, y: y, button: event.button,\n",
       "                             step: event.step,\n",
       "                             guiEvent: simpleKeys(event)});\n",
       "\n",
       "    /* This prevents the web browser from automatically changing to\n",
       "     * the text insertion cursor when the button is pressed.  We want\n",
       "     * to control all of the cursor setting manually through the\n",
       "     * 'cursor' event from matplotlib */\n",
       "    event.preventDefault();\n",
       "    return false;\n",
       "}\n",
       "\n",
       "mpl.figure.prototype._key_event_extra = function(event, name) {\n",
       "    // Handle any extra behaviour associated with a key event\n",
       "}\n",
       "\n",
       "mpl.figure.prototype.key_event = function(event, name) {\n",
       "\n",
       "    // Prevent repeat events\n",
       "    if (name == 'key_press')\n",
       "    {\n",
       "        if (event.which === this._key)\n",
       "            return;\n",
       "        else\n",
       "            this._key = event.which;\n",
       "    }\n",
       "    if (name == 'key_release')\n",
       "        this._key = null;\n",
       "\n",
       "    var value = '';\n",
       "    if (event.ctrlKey && event.which != 17)\n",
       "        value += \"ctrl+\";\n",
       "    if (event.altKey && event.which != 18)\n",
       "        value += \"alt+\";\n",
       "    if (event.shiftKey && event.which != 16)\n",
       "        value += \"shift+\";\n",
       "\n",
       "    value += 'k';\n",
       "    value += event.which.toString();\n",
       "\n",
       "    this._key_event_extra(event, name);\n",
       "\n",
       "    this.send_message(name, {key: value,\n",
       "                             guiEvent: simpleKeys(event)});\n",
       "    return false;\n",
       "}\n",
       "\n",
       "mpl.figure.prototype.toolbar_button_onclick = function(name) {\n",
       "    if (name == 'download') {\n",
       "        this.handle_save(this, null);\n",
       "    } else {\n",
       "        this.send_message(\"toolbar_button\", {name: name});\n",
       "    }\n",
       "};\n",
       "\n",
       "mpl.figure.prototype.toolbar_button_onmouseover = function(tooltip) {\n",
       "    this.message.textContent = tooltip;\n",
       "};\n",
       "mpl.toolbar_items = [[\"Home\", \"Reset original view\", \"fa fa-home icon-home\", \"home\"], [\"Back\", \"Back to previous view\", \"fa fa-arrow-left icon-arrow-left\", \"back\"], [\"Forward\", \"Forward to next view\", \"fa fa-arrow-right icon-arrow-right\", \"forward\"], [\"\", \"\", \"\", \"\"], [\"Pan\", \"Pan axes with left mouse, zoom with right\", \"fa fa-arrows icon-move\", \"pan\"], [\"Zoom\", \"Zoom to rectangle\", \"fa fa-square-o icon-check-empty\", \"zoom\"], [\"\", \"\", \"\", \"\"], [\"Download\", \"Download plot\", \"fa fa-floppy-o icon-save\", \"download\"]];\n",
       "\n",
       "mpl.extensions = [\"eps\", \"jpeg\", \"pdf\", \"png\", \"ps\", \"raw\", \"svg\", \"tif\"];\n",
       "\n",
       "mpl.default_extension = \"png\";var comm_websocket_adapter = function(comm) {\n",
       "    // Create a \"websocket\"-like object which calls the given IPython comm\n",
       "    // object with the appropriate methods. Currently this is a non binary\n",
       "    // socket, so there is still some room for performance tuning.\n",
       "    var ws = {};\n",
       "\n",
       "    ws.close = function() {\n",
       "        comm.close()\n",
       "    };\n",
       "    ws.send = function(m) {\n",
       "        //console.log('sending', m);\n",
       "        comm.send(m);\n",
       "    };\n",
       "    // Register the callback with on_msg.\n",
       "    comm.on_msg(function(msg) {\n",
       "        //console.log('receiving', msg['content']['data'], msg);\n",
       "        // Pass the mpl event to the overridden (by mpl) onmessage function.\n",
       "        ws.onmessage(msg['content']['data'])\n",
       "    });\n",
       "    return ws;\n",
       "}\n",
       "\n",
       "mpl.mpl_figure_comm = function(comm, msg) {\n",
       "    // This is the function which gets called when the mpl process\n",
       "    // starts-up an IPython Comm through the \"matplotlib\" channel.\n",
       "\n",
       "    var id = msg.content.data.id;\n",
       "    // Get hold of the div created by the display call when the Comm\n",
       "    // socket was opened in Python.\n",
       "    var element = $(\"#\" + id);\n",
       "    var ws_proxy = comm_websocket_adapter(comm)\n",
       "\n",
       "    function ondownload(figure, format) {\n",
       "        window.open(figure.imageObj.src);\n",
       "    }\n",
       "\n",
       "    var fig = new mpl.figure(id, ws_proxy,\n",
       "                           ondownload,\n",
       "                           element.get(0));\n",
       "\n",
       "    // Call onopen now - mpl needs it, as it is assuming we've passed it a real\n",
       "    // web socket which is closed, not our websocket->open comm proxy.\n",
       "    ws_proxy.onopen();\n",
       "\n",
       "    fig.parent_element = element.get(0);\n",
       "    fig.cell_info = mpl.find_output_cell(\"<div id='\" + id + \"'></div>\");\n",
       "    if (!fig.cell_info) {\n",
       "        console.error(\"Failed to find cell for figure\", id, fig);\n",
       "        return;\n",
       "    }\n",
       "\n",
       "    var output_index = fig.cell_info[2]\n",
       "    var cell = fig.cell_info[0];\n",
       "\n",
       "};\n",
       "\n",
       "mpl.figure.prototype.handle_close = function(fig, msg) {\n",
       "    var width = fig.canvas.width/mpl.ratio\n",
       "    fig.root.unbind('remove')\n",
       "\n",
       "    // Update the output cell to use the data from the current canvas.\n",
       "    fig.push_to_output();\n",
       "    var dataURL = fig.canvas.toDataURL();\n",
       "    // Re-enable the keyboard manager in IPython - without this line, in FF,\n",
       "    // the notebook keyboard shortcuts fail.\n",
       "    IPython.keyboard_manager.enable()\n",
       "    $(fig.parent_element).html('<img src=\"' + dataURL + '\" width=\"' + width + '\">');\n",
       "    fig.close_ws(fig, msg);\n",
       "}\n",
       "\n",
       "mpl.figure.prototype.close_ws = function(fig, msg){\n",
       "    fig.send_message('closing', msg);\n",
       "    // fig.ws.close()\n",
       "}\n",
       "\n",
       "mpl.figure.prototype.push_to_output = function(remove_interactive) {\n",
       "    // Turn the data on the canvas into data in the output cell.\n",
       "    var width = this.canvas.width/mpl.ratio\n",
       "    var dataURL = this.canvas.toDataURL();\n",
       "    this.cell_info[1]['text/html'] = '<img src=\"' + dataURL + '\" width=\"' + width + '\">';\n",
       "}\n",
       "\n",
       "mpl.figure.prototype.updated_canvas_event = function() {\n",
       "    // Tell IPython that the notebook contents must change.\n",
       "    IPython.notebook.set_dirty(true);\n",
       "    this.send_message(\"ack\", {});\n",
       "    var fig = this;\n",
       "    // Wait a second, then push the new image to the DOM so\n",
       "    // that it is saved nicely (might be nice to debounce this).\n",
       "    setTimeout(function () { fig.push_to_output() }, 1000);\n",
       "}\n",
       "\n",
       "mpl.figure.prototype._init_toolbar = function() {\n",
       "    var fig = this;\n",
       "\n",
       "    var nav_element = $('<div/>');\n",
       "    nav_element.attr('style', 'width: 100%');\n",
       "    this.root.append(nav_element);\n",
       "\n",
       "    // Define a callback function for later on.\n",
       "    function toolbar_event(event) {\n",
       "        return fig.toolbar_button_onclick(event['data']);\n",
       "    }\n",
       "    function toolbar_mouse_event(event) {\n",
       "        return fig.toolbar_button_onmouseover(event['data']);\n",
       "    }\n",
       "\n",
       "    for(var toolbar_ind in mpl.toolbar_items){\n",
       "        var name = mpl.toolbar_items[toolbar_ind][0];\n",
       "        var tooltip = mpl.toolbar_items[toolbar_ind][1];\n",
       "        var image = mpl.toolbar_items[toolbar_ind][2];\n",
       "        var method_name = mpl.toolbar_items[toolbar_ind][3];\n",
       "\n",
       "        if (!name) { continue; };\n",
       "\n",
       "        var button = $('<button class=\"btn btn-default\" href=\"#\" title=\"' + name + '\"><i class=\"fa ' + image + ' fa-lg\"></i></button>');\n",
       "        button.click(method_name, toolbar_event);\n",
       "        button.mouseover(tooltip, toolbar_mouse_event);\n",
       "        nav_element.append(button);\n",
       "    }\n",
       "\n",
       "    // Add the status bar.\n",
       "    var status_bar = $('<span class=\"mpl-message\" style=\"text-align:right; float: right;\"/>');\n",
       "    nav_element.append(status_bar);\n",
       "    this.message = status_bar[0];\n",
       "\n",
       "    // Add the close button to the window.\n",
       "    var buttongrp = $('<div class=\"btn-group inline pull-right\"></div>');\n",
       "    var button = $('<button class=\"btn btn-mini btn-primary\" href=\"#\" title=\"Stop Interaction\"><i class=\"fa fa-power-off icon-remove icon-large\"></i></button>');\n",
       "    button.click(function (evt) { fig.handle_close(fig, {}); } );\n",
       "    button.mouseover('Stop Interaction', toolbar_mouse_event);\n",
       "    buttongrp.append(button);\n",
       "    var titlebar = this.root.find($('.ui-dialog-titlebar'));\n",
       "    titlebar.prepend(buttongrp);\n",
       "}\n",
       "\n",
       "mpl.figure.prototype._root_extra_style = function(el){\n",
       "    var fig = this\n",
       "    el.on(\"remove\", function(){\n",
       "\tfig.close_ws(fig, {});\n",
       "    });\n",
       "}\n",
       "\n",
       "mpl.figure.prototype._canvas_extra_style = function(el){\n",
       "    // this is important to make the div 'focusable\n",
       "    el.attr('tabindex', 0)\n",
       "    // reach out to IPython and tell the keyboard manager to turn it's self\n",
       "    // off when our div gets focus\n",
       "\n",
       "    // location in version 3\n",
       "    if (IPython.notebook.keyboard_manager) {\n",
       "        IPython.notebook.keyboard_manager.register_events(el);\n",
       "    }\n",
       "    else {\n",
       "        // location in version 2\n",
       "        IPython.keyboard_manager.register_events(el);\n",
       "    }\n",
       "\n",
       "}\n",
       "\n",
       "mpl.figure.prototype._key_event_extra = function(event, name) {\n",
       "    var manager = IPython.notebook.keyboard_manager;\n",
       "    if (!manager)\n",
       "        manager = IPython.keyboard_manager;\n",
       "\n",
       "    // Check for shift+enter\n",
       "    if (event.shiftKey && event.which == 13) {\n",
       "        this.canvas_div.blur();\n",
       "        // select the cell after this one\n",
       "        var index = IPython.notebook.find_cell_index(this.cell_info[0]);\n",
       "        IPython.notebook.select(index + 1);\n",
       "    }\n",
       "}\n",
       "\n",
       "mpl.figure.prototype.handle_save = function(fig, msg) {\n",
       "    fig.ondownload(fig, null);\n",
       "}\n",
       "\n",
       "\n",
       "mpl.find_output_cell = function(html_output) {\n",
       "    // Return the cell and output element which can be found *uniquely* in the notebook.\n",
       "    // Note - this is a bit hacky, but it is done because the \"notebook_saving.Notebook\"\n",
       "    // IPython event is triggered only after the cells have been serialised, which for\n",
       "    // our purposes (turning an active figure into a static one), is too late.\n",
       "    var cells = IPython.notebook.get_cells();\n",
       "    var ncells = cells.length;\n",
       "    for (var i=0; i<ncells; i++) {\n",
       "        var cell = cells[i];\n",
       "        if (cell.cell_type === 'code'){\n",
       "            for (var j=0; j<cell.output_area.outputs.length; j++) {\n",
       "                var data = cell.output_area.outputs[j];\n",
       "                if (data.data) {\n",
       "                    // IPython >= 3 moved mimebundle to data attribute of output\n",
       "                    data = data.data;\n",
       "                }\n",
       "                if (data['text/html'] == html_output) {\n",
       "                    return [cell, data, j];\n",
       "                }\n",
       "            }\n",
       "        }\n",
       "    }\n",
       "}\n",
       "\n",
       "// Register the function which deals with the matplotlib target/channel.\n",
       "// The kernel may be null if the page has been refreshed.\n",
       "if (IPython.notebook.kernel != null) {\n",
       "    IPython.notebook.kernel.comm_manager.register_target('matplotlib', mpl.mpl_figure_comm);\n",
       "}\n"
      ],
      "text/plain": [
       "<IPython.core.display.Javascript object>"
      ]
     },
     "metadata": {},
     "output_type": "display_data"
    },
    {
     "data": {
      "text/html": [
       "<img src=\"data:image/png;base64,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\" width=\"1000\">"
      ],
      "text/plain": [
       "<IPython.core.display.HTML object>"
      ]
     },
     "metadata": {},
     "output_type": "display_data"
    }
   ],
   "source": [
    "ax, tax, lax, lines = dual_train_plots()\n",
    "fig = ax.figure\n",
    "plt.tight_layout()"
   ]
  },
  {
   "cell_type": "code",
   "execution_count": 15,
   "metadata": {
    "scrolled": false
   },
   "outputs": [
    {
     "name": "stdout",
     "output_type": "stream",
     "text": [
      "Number of batches: train = 2500, val = 157\n"
     ]
    },
    {
     "data": {
      "application/vnd.jupyter.widget-view+json": {
       "model_id": "729afe3da3384f8cae95bd7fa172e92f",
       "version_major": 2,
       "version_minor": 0
      },
      "text/plain": [
       "HBox(children=(FloatProgress(value=0.0, description='Epochs', layout=Layout(flex='2'), max=50.0, style=Progres…"
      ]
     },
     "metadata": {},
     "output_type": "display_data"
    },
    {
     "data": {
      "application/vnd.jupyter.widget-view+json": {
       "model_id": "",
       "version_major": 2,
       "version_minor": 0
      },
      "text/plain": [
       "HBox(children=(FloatProgress(value=0.0, description='Training', layout=Layout(flex='2'), max=2500.0, style=Pro…"
      ]
     },
     "metadata": {},
     "output_type": "display_data"
    },
    {
     "name": "stdout",
     "output_type": "stream",
     "text": [
      "Epoch 0: train=10.758, val=9.16604, took 63.046 s\n",
      "  Validation Found 100286 of 108007, added 4090 (eff 92.85%) (0.204 FP/event)\n"
     ]
    },
    {
     "data": {
      "application/vnd.jupyter.widget-view+json": {
       "model_id": "",
       "version_major": 2,
       "version_minor": 0
      },
      "text/plain": [
       "HBox(children=(FloatProgress(value=0.0, description='Training', layout=Layout(flex='2'), max=2500.0, style=Pro…"
      ]
     },
     "metadata": {},
     "output_type": "display_data"
    },
    {
     "name": "stdout",
     "output_type": "stream",
     "text": [
      "Epoch 1: train=10.5692, val=8.97164, took 63.991 s\n",
      "  Validation Found 100349 of 108007, added 4137 (eff 92.91%) (0.207 FP/event)\n"
     ]
    },
    {
     "data": {
      "application/vnd.jupyter.widget-view+json": {
       "model_id": "",
       "version_major": 2,
       "version_minor": 0
      },
      "text/plain": [
       "HBox(children=(FloatProgress(value=0.0, description='Training', layout=Layout(flex='2'), max=2500.0, style=Pro…"
      ]
     },
     "metadata": {},
     "output_type": "display_data"
    },
    {
     "name": "stdout",
     "output_type": "stream",
     "text": [
      "Epoch 2: train=10.4667, val=9.00728, took 63.406 s\n",
      "  Validation Found 100272 of 108007, added 4065 (eff 92.84%) (0.203 FP/event)\n"
     ]
    },
    {
     "data": {
      "application/vnd.jupyter.widget-view+json": {
       "model_id": "",
       "version_major": 2,
       "version_minor": 0
      },
      "text/plain": [
       "HBox(children=(FloatProgress(value=0.0, description='Training', layout=Layout(flex='2'), max=2500.0, style=Pro…"
      ]
     },
     "metadata": {},
     "output_type": "display_data"
    },
    {
     "name": "stdout",
     "output_type": "stream",
     "text": [
      "Epoch 3: train=10.4073, val=9.03232, took 63.928 s\n",
      "  Validation Found 99990 of 108007, added 3967 (eff 92.58%) (0.198 FP/event)\n"
     ]
    },
    {
     "data": {
      "application/vnd.jupyter.widget-view+json": {
       "model_id": "",
       "version_major": 2,
       "version_minor": 0
      },
      "text/plain": [
       "HBox(children=(FloatProgress(value=0.0, description='Training', layout=Layout(flex='2'), max=2500.0, style=Pro…"
      ]
     },
     "metadata": {},
     "output_type": "display_data"
    },
    {
     "name": "stdout",
     "output_type": "stream",
     "text": [
      "Epoch 4: train=10.3712, val=8.96134, took 64.583 s\n",
      "  Validation Found 100168 of 108007, added 4271 (eff 92.74%) (0.214 FP/event)\n"
     ]
    },
    {
     "data": {
      "application/vnd.jupyter.widget-view+json": {
       "model_id": "",
       "version_major": 2,
       "version_minor": 0
      },
      "text/plain": [
       "HBox(children=(FloatProgress(value=0.0, description='Training', layout=Layout(flex='2'), max=2500.0, style=Pro…"
      ]
     },
     "metadata": {},
     "output_type": "display_data"
    },
    {
     "name": "stdout",
     "output_type": "stream",
     "text": [
      "Epoch 5: train=10.3485, val=9.00676, took 64.548 s\n",
      "  Validation Found 100004 of 108007, added 3842 (eff 92.59%) (0.192 FP/event)\n"
     ]
    },
    {
     "data": {
      "application/vnd.jupyter.widget-view+json": {
       "model_id": "",
       "version_major": 2,
       "version_minor": 0
      },
      "text/plain": [
       "HBox(children=(FloatProgress(value=0.0, description='Training', layout=Layout(flex='2'), max=2500.0, style=Pro…"
      ]
     },
     "metadata": {},
     "output_type": "display_data"
    },
    {
     "name": "stdout",
     "output_type": "stream",
     "text": [
      "Epoch 6: train=10.3125, val=9.02505, took 64.785 s\n",
      "  Validation Found 99748 of 108007, added 3826 (eff 92.35%) (0.191 FP/event)\n"
     ]
    },
    {
     "data": {
      "application/vnd.jupyter.widget-view+json": {
       "model_id": "",
       "version_major": 2,
       "version_minor": 0
      },
      "text/plain": [
       "HBox(children=(FloatProgress(value=0.0, description='Training', layout=Layout(flex='2'), max=2500.0, style=Pro…"
      ]
     },
     "metadata": {},
     "output_type": "display_data"
    },
    {
     "name": "stdout",
     "output_type": "stream",
     "text": [
      "Epoch 7: train=10.2994, val=9.01842, took 64.99 s\n",
      "  Validation Found 99783 of 108007, added 3836 (eff 92.39%) (0.192 FP/event)\n"
     ]
    },
    {
     "data": {
      "application/vnd.jupyter.widget-view+json": {
       "model_id": "",
       "version_major": 2,
       "version_minor": 0
      },
      "text/plain": [
       "HBox(children=(FloatProgress(value=0.0, description='Training', layout=Layout(flex='2'), max=2500.0, style=Pro…"
      ]
     },
     "metadata": {},
     "output_type": "display_data"
    },
    {
     "name": "stdout",
     "output_type": "stream",
     "text": [
      "Epoch 8: train=10.2806, val=8.9714, took 64.977 s\n",
      "  Validation Found 100417 of 108007, added 4127 (eff 92.97%) (0.206 FP/event)\n"
     ]
    },
    {
     "data": {
      "application/vnd.jupyter.widget-view+json": {
       "model_id": "",
       "version_major": 2,
       "version_minor": 0
      },
      "text/plain": [
       "HBox(children=(FloatProgress(value=0.0, description='Training', layout=Layout(flex='2'), max=2500.0, style=Pro…"
      ]
     },
     "metadata": {},
     "output_type": "display_data"
    },
    {
     "name": "stdout",
     "output_type": "stream",
     "text": [
      "Epoch 9: train=10.2558, val=8.96788, took 64.905 s\n",
      "  Validation Found 100154 of 108007, added 4164 (eff 92.73%) (0.208 FP/event)\n"
     ]
    },
    {
     "data": {
      "application/vnd.jupyter.widget-view+json": {
       "model_id": "",
       "version_major": 2,
       "version_minor": 0
      },
      "text/plain": [
       "HBox(children=(FloatProgress(value=0.0, description='Training', layout=Layout(flex='2'), max=2500.0, style=Pro…"
      ]
     },
     "metadata": {},
     "output_type": "display_data"
    },
    {
     "name": "stdout",
     "output_type": "stream",
     "text": [
      "Epoch 10: train=10.2429, val=8.9473, took 65.051 s\n",
      "  Validation Found 100563 of 108007, added 4301 (eff 93.11%) (0.215 FP/event)\n"
     ]
    },
    {
     "data": {
      "application/vnd.jupyter.widget-view+json": {
       "model_id": "",
       "version_major": 2,
       "version_minor": 0
      },
      "text/plain": [
       "HBox(children=(FloatProgress(value=0.0, description='Training', layout=Layout(flex='2'), max=2500.0, style=Pro…"
      ]
     },
     "metadata": {},
     "output_type": "display_data"
    },
    {
     "name": "stdout",
     "output_type": "stream",
     "text": [
      "Epoch 11: train=10.2225, val=9.03537, took 65.423 s\n",
      "  Validation Found 99963 of 108007, added 4161 (eff 92.55%) (0.208 FP/event)\n"
     ]
    },
    {
     "data": {
      "application/vnd.jupyter.widget-view+json": {
       "model_id": "",
       "version_major": 2,
       "version_minor": 0
      },
      "text/plain": [
       "HBox(children=(FloatProgress(value=0.0, description='Training', layout=Layout(flex='2'), max=2500.0, style=Pro…"
      ]
     },
     "metadata": {},
     "output_type": "display_data"
    },
    {
     "name": "stdout",
     "output_type": "stream",
     "text": [
      "Epoch 12: train=10.2172, val=9.01281, took 65.599 s\n",
      "  Validation Found 100493 of 108007, added 4440 (eff 93.04%) (0.222 FP/event)\n"
     ]
    },
    {
     "data": {
      "application/vnd.jupyter.widget-view+json": {
       "model_id": "",
       "version_major": 2,
       "version_minor": 0
      },
      "text/plain": [
       "HBox(children=(FloatProgress(value=0.0, description='Training', layout=Layout(flex='2'), max=2500.0, style=Pro…"
      ]
     },
     "metadata": {},
     "output_type": "display_data"
    },
    {
     "name": "stdout",
     "output_type": "stream",
     "text": [
      "Epoch 13: train=10.2056, val=8.94216, took 65.146 s\n",
      "  Validation Found 100283 of 108007, added 3979 (eff 92.85%) (0.199 FP/event)\n"
     ]
    },
    {
     "data": {
      "application/vnd.jupyter.widget-view+json": {
       "model_id": "",
       "version_major": 2,
       "version_minor": 0
      },
      "text/plain": [
       "HBox(children=(FloatProgress(value=0.0, description='Training', layout=Layout(flex='2'), max=2500.0, style=Pro…"
      ]
     },
     "metadata": {},
     "output_type": "display_data"
    },
    {
     "name": "stdout",
     "output_type": "stream",
     "text": [
      "Epoch 14: train=10.1943, val=8.95341, took 64.804 s\n",
      "  Validation Found 100362 of 108007, added 4169 (eff 92.92%) (0.208 FP/event)\n"
     ]
    },
    {
     "data": {
      "application/vnd.jupyter.widget-view+json": {
       "model_id": "",
       "version_major": 2,
       "version_minor": 0
      },
      "text/plain": [
       "HBox(children=(FloatProgress(value=0.0, description='Training', layout=Layout(flex='2'), max=2500.0, style=Pro…"
      ]
     },
     "metadata": {},
     "output_type": "display_data"
    },
    {
     "name": "stdout",
     "output_type": "stream",
     "text": [
      "Epoch 15: train=10.1804, val=8.87548, took 65.133 s\n",
      "  Validation Found 100356 of 108007, added 4383 (eff 92.92%) (0.219 FP/event)\n"
     ]
    },
    {
     "data": {
      "application/vnd.jupyter.widget-view+json": {
       "model_id": "",
       "version_major": 2,
       "version_minor": 0
      },
      "text/plain": [
       "HBox(children=(FloatProgress(value=0.0, description='Training', layout=Layout(flex='2'), max=2500.0, style=Pro…"
      ]
     },
     "metadata": {},
     "output_type": "display_data"
    },
    {
     "name": "stdout",
     "output_type": "stream",
     "text": [
      "Epoch 16: train=10.1681, val=8.90019, took 65.112 s\n",
      "  Validation Found 100439 of 108007, added 4228 (eff 92.99%) (0.211 FP/event)\n"
     ]
    },
    {
     "data": {
      "application/vnd.jupyter.widget-view+json": {
       "model_id": "",
       "version_major": 2,
       "version_minor": 0
      },
      "text/plain": [
       "HBox(children=(FloatProgress(value=0.0, description='Training', layout=Layout(flex='2'), max=2500.0, style=Pro…"
      ]
     },
     "metadata": {},
     "output_type": "display_data"
    },
    {
     "name": "stdout",
     "output_type": "stream",
     "text": [
      "Epoch 17: train=10.1586, val=8.95393, took 65.074 s\n",
      "  Validation Found 100285 of 108007, added 4072 (eff 92.85%) (0.204 FP/event)\n"
     ]
    },
    {
     "data": {
      "application/vnd.jupyter.widget-view+json": {
       "model_id": "",
       "version_major": 2,
       "version_minor": 0
      },
      "text/plain": [
       "HBox(children=(FloatProgress(value=0.0, description='Training', layout=Layout(flex='2'), max=2500.0, style=Pro…"
      ]
     },
     "metadata": {},
     "output_type": "display_data"
    },
    {
     "name": "stdout",
     "output_type": "stream",
     "text": [
      "Epoch 18: train=10.1601, val=8.97633, took 64.24 s\n",
      "  Validation Found 100073 of 108007, added 3737 (eff 92.65%) (0.187 FP/event)\n"
     ]
    },
    {
     "data": {
      "application/vnd.jupyter.widget-view+json": {
       "model_id": "",
       "version_major": 2,
       "version_minor": 0
      },
      "text/plain": [
       "HBox(children=(FloatProgress(value=0.0, description='Training', layout=Layout(flex='2'), max=2500.0, style=Pro…"
      ]
     },
     "metadata": {},
     "output_type": "display_data"
    },
    {
     "name": "stdout",
     "output_type": "stream",
     "text": [
      "Epoch 19: train=10.1479, val=8.99062, took 64.238 s\n",
      "  Validation Found 99791 of 108007, added 3436 (eff 92.39%) (0.172 FP/event)\n"
     ]
    },
    {
     "data": {
      "application/vnd.jupyter.widget-view+json": {
       "model_id": "",
       "version_major": 2,
       "version_minor": 0
      },
      "text/plain": [
       "HBox(children=(FloatProgress(value=0.0, description='Training', layout=Layout(flex='2'), max=2500.0, style=Pro…"
      ]
     },
     "metadata": {},
     "output_type": "display_data"
    },
    {
     "name": "stdout",
     "output_type": "stream",
     "text": [
      "Epoch 20: train=10.1369, val=8.87575, took 64.23 s\n",
      "  Validation Found 100713 of 108007, added 4438 (eff 93.25%) (0.222 FP/event)\n"
     ]
    },
    {
     "data": {
      "application/vnd.jupyter.widget-view+json": {
       "model_id": "",
       "version_major": 2,
       "version_minor": 0
      },
      "text/plain": [
       "HBox(children=(FloatProgress(value=0.0, description='Training', layout=Layout(flex='2'), max=2500.0, style=Pro…"
      ]
     },
     "metadata": {},
     "output_type": "display_data"
    },
    {
     "name": "stdout",
     "output_type": "stream",
     "text": [
      "Epoch 21: train=10.1364, val=8.99491, took 64.247 s\n",
      "  Validation Found 100348 of 108007, added 4246 (eff 92.91%) (0.212 FP/event)\n"
     ]
    },
    {
     "data": {
      "application/vnd.jupyter.widget-view+json": {
       "model_id": "",
       "version_major": 2,
       "version_minor": 0
      },
      "text/plain": [
       "HBox(children=(FloatProgress(value=0.0, description='Training', layout=Layout(flex='2'), max=2500.0, style=Pro…"
      ]
     },
     "metadata": {},
     "output_type": "display_data"
    },
    {
     "name": "stdout",
     "output_type": "stream",
     "text": [
      "Epoch 22: train=10.1366, val=8.9078, took 64.995 s\n",
      "  Validation Found 100302 of 108007, added 4092 (eff 92.87%) (0.205 FP/event)\n"
     ]
    },
    {
     "data": {
      "application/vnd.jupyter.widget-view+json": {
       "model_id": "",
       "version_major": 2,
       "version_minor": 0
      },
      "text/plain": [
       "HBox(children=(FloatProgress(value=0.0, description='Training', layout=Layout(flex='2'), max=2500.0, style=Pro…"
      ]
     },
     "metadata": {},
     "output_type": "display_data"
    },
    {
     "name": "stdout",
     "output_type": "stream",
     "text": [
      "Epoch 23: train=10.124, val=8.95461, took 64.848 s\n",
      "  Validation Found 100552 of 108007, added 4263 (eff 93.10%) (0.213 FP/event)\n"
     ]
    },
    {
     "data": {
      "application/vnd.jupyter.widget-view+json": {
       "model_id": "",
       "version_major": 2,
       "version_minor": 0
      },
      "text/plain": [
       "HBox(children=(FloatProgress(value=0.0, description='Training', layout=Layout(flex='2'), max=2500.0, style=Pro…"
      ]
     },
     "metadata": {},
     "output_type": "display_data"
    },
    {
     "name": "stdout",
     "output_type": "stream",
     "text": [
      "Epoch 24: train=10.1165, val=8.92768, took 64.861 s\n",
      "  Validation Found 100450 of 108007, added 4170 (eff 93.00%) (0.208 FP/event)\n"
     ]
    },
    {
     "data": {
      "application/vnd.jupyter.widget-view+json": {
       "model_id": "",
       "version_major": 2,
       "version_minor": 0
      },
      "text/plain": [
       "HBox(children=(FloatProgress(value=0.0, description='Training', layout=Layout(flex='2'), max=2500.0, style=Pro…"
      ]
     },
     "metadata": {},
     "output_type": "display_data"
    },
    {
     "name": "stdout",
     "output_type": "stream",
     "text": [
      "Epoch 25: train=10.1158, val=8.95169, took 65.11 s\n",
      "  Validation Found 100435 of 108007, added 4106 (eff 92.99%) (0.205 FP/event)\n"
     ]
    },
    {
     "data": {
      "application/vnd.jupyter.widget-view+json": {
       "model_id": "",
       "version_major": 2,
       "version_minor": 0
      },
      "text/plain": [
       "HBox(children=(FloatProgress(value=0.0, description='Training', layout=Layout(flex='2'), max=2500.0, style=Pro…"
      ]
     },
     "metadata": {},
     "output_type": "display_data"
    },
    {
     "name": "stdout",
     "output_type": "stream",
     "text": [
      "Epoch 26: train=10.1114, val=8.91081, took 65.297 s\n",
      "  Validation Found 100349 of 108007, added 3928 (eff 92.91%) (0.196 FP/event)\n"
     ]
    },
    {
     "data": {
      "application/vnd.jupyter.widget-view+json": {
       "model_id": "",
       "version_major": 2,
       "version_minor": 0
      },
      "text/plain": [
       "HBox(children=(FloatProgress(value=0.0, description='Training', layout=Layout(flex='2'), max=2500.0, style=Pro…"
      ]
     },
     "metadata": {},
     "output_type": "display_data"
    },
    {
     "name": "stdout",
     "output_type": "stream",
     "text": [
      "Epoch 27: train=10.1116, val=8.92795, took 65.138 s\n",
      "  Validation Found 100779 of 108007, added 4440 (eff 93.31%) (0.222 FP/event)\n"
     ]
    },
    {
     "data": {
      "application/vnd.jupyter.widget-view+json": {
       "model_id": "",
       "version_major": 2,
       "version_minor": 0
      },
      "text/plain": [
       "HBox(children=(FloatProgress(value=0.0, description='Training', layout=Layout(flex='2'), max=2500.0, style=Pro…"
      ]
     },
     "metadata": {},
     "output_type": "display_data"
    },
    {
     "name": "stdout",
     "output_type": "stream",
     "text": [
      "Epoch 28: train=10.0998, val=8.86706, took 64.962 s\n",
      "  Validation Found 100593 of 108007, added 4336 (eff 93.14%) (0.217 FP/event)\n"
     ]
    },
    {
     "data": {
      "application/vnd.jupyter.widget-view+json": {
       "model_id": "",
       "version_major": 2,
       "version_minor": 0
      },
      "text/plain": [
       "HBox(children=(FloatProgress(value=0.0, description='Training', layout=Layout(flex='2'), max=2500.0, style=Pro…"
      ]
     },
     "metadata": {},
     "output_type": "display_data"
    },
    {
     "name": "stdout",
     "output_type": "stream",
     "text": [
      "Epoch 29: train=10.0977, val=8.89779, took 64.663 s\n",
      "  Validation Found 100086 of 108007, added 3858 (eff 92.67%) (0.193 FP/event)\n"
     ]
    },
    {
     "data": {
      "application/vnd.jupyter.widget-view+json": {
       "model_id": "",
       "version_major": 2,
       "version_minor": 0
      },
      "text/plain": [
       "HBox(children=(FloatProgress(value=0.0, description='Training', layout=Layout(flex='2'), max=2500.0, style=Pro…"
      ]
     },
     "metadata": {},
     "output_type": "display_data"
    },
    {
     "name": "stdout",
     "output_type": "stream",
     "text": [
      "Epoch 30: train=10.0932, val=8.88542, took 64.822 s\n",
      "  Validation Found 100238 of 108007, added 3720 (eff 92.81%) (0.186 FP/event)\n"
     ]
    },
    {
     "data": {
      "application/vnd.jupyter.widget-view+json": {
       "model_id": "",
       "version_major": 2,
       "version_minor": 0
      },
      "text/plain": [
       "HBox(children=(FloatProgress(value=0.0, description='Training', layout=Layout(flex='2'), max=2500.0, style=Pro…"
      ]
     },
     "metadata": {},
     "output_type": "display_data"
    },
    {
     "name": "stdout",
     "output_type": "stream",
     "text": [
      "Epoch 31: train=10.0868, val=8.92882, took 64.883 s\n",
      "  Validation Found 100639 of 108007, added 4121 (eff 93.18%) (0.206 FP/event)\n"
     ]
    },
    {
     "data": {
      "application/vnd.jupyter.widget-view+json": {
       "model_id": "",
       "version_major": 2,
       "version_minor": 0
      },
      "text/plain": [
       "HBox(children=(FloatProgress(value=0.0, description='Training', layout=Layout(flex='2'), max=2500.0, style=Pro…"
      ]
     },
     "metadata": {},
     "output_type": "display_data"
    },
    {
     "name": "stdout",
     "output_type": "stream",
     "text": [
      "Epoch 32: train=10.0816, val=8.91802, took 64.989 s\n",
      "  Validation Found 100523 of 108007, added 4019 (eff 93.07%) (0.201 FP/event)\n"
     ]
    },
    {
     "data": {
      "application/vnd.jupyter.widget-view+json": {
       "model_id": "",
       "version_major": 2,
       "version_minor": 0
      },
      "text/plain": [
       "HBox(children=(FloatProgress(value=0.0, description='Training', layout=Layout(flex='2'), max=2500.0, style=Pro…"
      ]
     },
     "metadata": {},
     "output_type": "display_data"
    },
    {
     "name": "stdout",
     "output_type": "stream",
     "text": [
      "Epoch 33: train=10.0775, val=9.00332, took 64.924 s\n",
      "  Validation Found 100317 of 108007, added 4446 (eff 92.88%) (0.222 FP/event)\n"
     ]
    },
    {
     "data": {
      "application/vnd.jupyter.widget-view+json": {
       "model_id": "",
       "version_major": 2,
       "version_minor": 0
      },
      "text/plain": [
       "HBox(children=(FloatProgress(value=0.0, description='Training', layout=Layout(flex='2'), max=2500.0, style=Pro…"
      ]
     },
     "metadata": {},
     "output_type": "display_data"
    },
    {
     "name": "stdout",
     "output_type": "stream",
     "text": [
      "Epoch 34: train=10.0752, val=8.87881, took 64.757 s\n",
      "  Validation Found 100370 of 108007, added 4116 (eff 92.93%) (0.206 FP/event)\n"
     ]
    },
    {
     "data": {
      "application/vnd.jupyter.widget-view+json": {
       "model_id": "",
       "version_major": 2,
       "version_minor": 0
      },
      "text/plain": [
       "HBox(children=(FloatProgress(value=0.0, description='Training', layout=Layout(flex='2'), max=2500.0, style=Pro…"
      ]
     },
     "metadata": {},
     "output_type": "display_data"
    },
    {
     "name": "stdout",
     "output_type": "stream",
     "text": [
      "Epoch 35: train=10.0711, val=8.88135, took 65.01 s\n",
      "  Validation Found 100443 of 108007, added 4012 (eff 93.00%) (0.201 FP/event)\n"
     ]
    },
    {
     "data": {
      "application/vnd.jupyter.widget-view+json": {
       "model_id": "",
       "version_major": 2,
       "version_minor": 0
      },
      "text/plain": [
       "HBox(children=(FloatProgress(value=0.0, description='Training', layout=Layout(flex='2'), max=2500.0, style=Pro…"
      ]
     },
     "metadata": {},
     "output_type": "display_data"
    },
    {
     "name": "stdout",
     "output_type": "stream",
     "text": [
      "Epoch 36: train=10.0664, val=8.9993, took 64.653 s\n",
      "  Validation Found 100283 of 108007, added 3922 (eff 92.85%) (0.196 FP/event)\n"
     ]
    },
    {
     "data": {
      "application/vnd.jupyter.widget-view+json": {
       "model_id": "",
       "version_major": 2,
       "version_minor": 0
      },
      "text/plain": [
       "HBox(children=(FloatProgress(value=0.0, description='Training', layout=Layout(flex='2'), max=2500.0, style=Pro…"
      ]
     },
     "metadata": {},
     "output_type": "display_data"
    },
    {
     "name": "stdout",
     "output_type": "stream",
     "text": [
      "Epoch 37: train=10.0606, val=8.83979, took 64.854 s\n",
      "  Validation Found 100474 of 108007, added 3922 (eff 93.03%) (0.196 FP/event)\n"
     ]
    },
    {
     "data": {
      "application/vnd.jupyter.widget-view+json": {
       "model_id": "",
       "version_major": 2,
       "version_minor": 0
      },
      "text/plain": [
       "HBox(children=(FloatProgress(value=0.0, description='Training', layout=Layout(flex='2'), max=2500.0, style=Pro…"
      ]
     },
     "metadata": {},
     "output_type": "display_data"
    },
    {
     "name": "stdout",
     "output_type": "stream",
     "text": [
      "Epoch 38: train=10.0609, val=8.86804, took 64.668 s\n",
      "  Validation Found 100322 of 108007, added 3848 (eff 92.88%) (0.192 FP/event)\n"
     ]
    },
    {
     "data": {
      "application/vnd.jupyter.widget-view+json": {
       "model_id": "",
       "version_major": 2,
       "version_minor": 0
      },
      "text/plain": [
       "HBox(children=(FloatProgress(value=0.0, description='Training', layout=Layout(flex='2'), max=2500.0, style=Pro…"
      ]
     },
     "metadata": {},
     "output_type": "display_data"
    },
    {
     "name": "stdout",
     "output_type": "stream",
     "text": [
      "Epoch 39: train=10.0506, val=8.87013, took 64.763 s\n",
      "  Validation Found 100584 of 108007, added 4060 (eff 93.13%) (0.203 FP/event)\n"
     ]
    },
    {
     "data": {
      "application/vnd.jupyter.widget-view+json": {
       "model_id": "",
       "version_major": 2,
       "version_minor": 0
      },
      "text/plain": [
       "HBox(children=(FloatProgress(value=0.0, description='Training', layout=Layout(flex='2'), max=2500.0, style=Pro…"
      ]
     },
     "metadata": {},
     "output_type": "display_data"
    },
    {
     "name": "stdout",
     "output_type": "stream",
     "text": [
      "Epoch 40: train=10.0445, val=8.85437, took 65.114 s\n",
      "  Validation Found 100543 of 108007, added 4054 (eff 93.09%) (0.203 FP/event)\n"
     ]
    },
    {
     "data": {
      "application/vnd.jupyter.widget-view+json": {
       "model_id": "",
       "version_major": 2,
       "version_minor": 0
      },
      "text/plain": [
       "HBox(children=(FloatProgress(value=0.0, description='Training', layout=Layout(flex='2'), max=2500.0, style=Pro…"
      ]
     },
     "metadata": {},
     "output_type": "display_data"
    },
    {
     "name": "stdout",
     "output_type": "stream",
     "text": [
      "Epoch 41: train=10.041, val=8.8897, took 64.953 s\n",
      "  Validation Found 100316 of 108007, added 3881 (eff 92.88%) (0.194 FP/event)\n"
     ]
    },
    {
     "data": {
      "application/vnd.jupyter.widget-view+json": {
       "model_id": "",
       "version_major": 2,
       "version_minor": 0
      },
      "text/plain": [
       "HBox(children=(FloatProgress(value=0.0, description='Training', layout=Layout(flex='2'), max=2500.0, style=Pro…"
      ]
     },
     "metadata": {},
     "output_type": "display_data"
    },
    {
     "name": "stdout",
     "output_type": "stream",
     "text": [
      "Epoch 42: train=10.0402, val=8.86712, took 64.817 s\n",
      "  Validation Found 100344 of 108007, added 3879 (eff 92.91%) (0.194 FP/event)\n"
     ]
    },
    {
     "data": {
      "application/vnd.jupyter.widget-view+json": {
       "model_id": "",
       "version_major": 2,
       "version_minor": 0
      },
      "text/plain": [
       "HBox(children=(FloatProgress(value=0.0, description='Training', layout=Layout(flex='2'), max=2500.0, style=Pro…"
      ]
     },
     "metadata": {},
     "output_type": "display_data"
    },
    {
     "name": "stdout",
     "output_type": "stream",
     "text": [
      "Epoch 43: train=10.0305, val=8.86212, took 65.016 s\n",
      "  Validation Found 100162 of 108007, added 3880 (eff 92.74%) (0.194 FP/event)\n"
     ]
    },
    {
     "data": {
      "application/vnd.jupyter.widget-view+json": {
       "model_id": "",
       "version_major": 2,
       "version_minor": 0
      },
      "text/plain": [
       "HBox(children=(FloatProgress(value=0.0, description='Training', layout=Layout(flex='2'), max=2500.0, style=Pro…"
      ]
     },
     "metadata": {},
     "output_type": "display_data"
    },
    {
     "name": "stdout",
     "output_type": "stream",
     "text": [
      "Epoch 44: train=10.028, val=8.95343, took 64.673 s\n",
      "  Validation Found 100304 of 108007, added 3949 (eff 92.87%) (0.197 FP/event)\n"
     ]
    },
    {
     "data": {
      "application/vnd.jupyter.widget-view+json": {
       "model_id": "",
       "version_major": 2,
       "version_minor": 0
      },
      "text/plain": [
       "HBox(children=(FloatProgress(value=0.0, description='Training', layout=Layout(flex='2'), max=2500.0, style=Pro…"
      ]
     },
     "metadata": {},
     "output_type": "display_data"
    },
    {
     "name": "stdout",
     "output_type": "stream",
     "text": [
      "Epoch 45: train=10.025, val=8.88816, took 64.66 s\n",
      "  Validation Found 100949 of 108007, added 4542 (eff 93.47%) (0.227 FP/event)\n"
     ]
    },
    {
     "data": {
      "application/vnd.jupyter.widget-view+json": {
       "model_id": "",
       "version_major": 2,
       "version_minor": 0
      },
      "text/plain": [
       "HBox(children=(FloatProgress(value=0.0, description='Training', layout=Layout(flex='2'), max=2500.0, style=Pro…"
      ]
     },
     "metadata": {},
     "output_type": "display_data"
    },
    {
     "name": "stdout",
     "output_type": "stream",
     "text": [
      "Epoch 46: train=10.017, val=8.91833, took 64.869 s\n",
      "  Validation Found 100819 of 108007, added 4507 (eff 93.34%) (0.225 FP/event)\n"
     ]
    },
    {
     "data": {
      "application/vnd.jupyter.widget-view+json": {
       "model_id": "",
       "version_major": 2,
       "version_minor": 0
      },
      "text/plain": [
       "HBox(children=(FloatProgress(value=0.0, description='Training', layout=Layout(flex='2'), max=2500.0, style=Pro…"
      ]
     },
     "metadata": {},
     "output_type": "display_data"
    },
    {
     "name": "stdout",
     "output_type": "stream",
     "text": [
      "Epoch 47: train=10.0271, val=8.89684, took 64.854 s\n",
      "  Validation Found 100503 of 108007, added 4352 (eff 93.05%) (0.218 FP/event)\n"
     ]
    },
    {
     "data": {
      "application/vnd.jupyter.widget-view+json": {
       "model_id": "",
       "version_major": 2,
       "version_minor": 0
      },
      "text/plain": [
       "HBox(children=(FloatProgress(value=0.0, description='Training', layout=Layout(flex='2'), max=2500.0, style=Pro…"
      ]
     },
     "metadata": {},
     "output_type": "display_data"
    },
    {
     "name": "stdout",
     "output_type": "stream",
     "text": [
      "Epoch 48: train=10.019, val=8.82249, took 64.271 s\n",
      "  Validation Found 100880 of 108007, added 4511 (eff 93.40%) (0.226 FP/event)\n"
     ]
    },
    {
     "data": {
      "application/vnd.jupyter.widget-view+json": {
       "model_id": "",
       "version_major": 2,
       "version_minor": 0
      },
      "text/plain": [
       "HBox(children=(FloatProgress(value=0.0, description='Training', layout=Layout(flex='2'), max=2500.0, style=Pro…"
      ]
     },
     "metadata": {},
     "output_type": "display_data"
    },
    {
     "name": "stdout",
     "output_type": "stream",
     "text": [
      "Epoch 49: train=10.0148, val=8.87064, took 64.273 s\n",
      "  Validation Found 100622 of 108007, added 4228 (eff 93.16%) (0.211 FP/event)\n",
      "\n"
     ]
    }
   ],
   "source": [
    "for result in trainNet(model, optimizer, loss,\n",
    "                        train_loader, val_loader,\n",
    "                        n_epochs, epoch_start=len(results),\n",
    "                        notebook=True):\n",
    "    \n",
    "    results = results.append(pd.Series(result._asdict()), ignore_index=True)\n",
    "    \n",
    "    xs = results.index\n",
    "    \n",
    "    # Update the plot above\n",
    "    lines['train'].set_data(results.index,results.cost)\n",
    "    lines['val'].set_data(results.index,results.val)\n",
    "    \n",
    "    #filter first cost epoch (can be really large)\n",
    "    max_cost = max(max(results.cost if len(results.cost)<2 else results.cost[1:]), max(results.val))\n",
    "    min_cost = min(min(results.cost), min(results.val))\n",
    "    \n",
    "    # The plot limits need updating too\n",
    "    \n",
    "    \n",
    "    \n",
    "    ax.set_ylim(min_cost*.9, max_cost*1.1)  \n",
    "    ax.set_xlim(-.5, len(results.cost) - .5)\n",
    "    \n",
    "    replace_in_ax(lax, lines['eff'], xs, results['eff_val'].apply(lambda x: x.eff_rate))\n",
    "    replace_in_ax(tax, lines['fp'], xs, results['eff_val'].apply(lambda x: x.fp_rate))\n",
    "    \n",
    "    # Redraw the figure\n",
    "    fig.canvas.draw()\n",
    "\n",
    "    # Save each model state dictionary\n",
    "    torch.save(model.state_dict(), output / f'{name}_{result.epoch}.pyt')"
   ]
  },
  {
   "cell_type": "markdown",
   "metadata": {},
   "source": [
    "# Results\n",
    "\n",
    "Let's save some results: (even though if you have not changed the code above, it saves the model every epoch)"
   ]
  },
  {
   "cell_type": "markdown",
   "metadata": {},
   "source": [
    "Go ahead and save the final model (even though it was also saved above):"
   ]
  },
  {
   "cell_type": "code",
   "execution_count": 16,
   "metadata": {},
   "outputs": [],
   "source": [
    "torch.save(model.state_dict(), output / f'{name}_final.pyt')"
   ]
  },
  {
   "cell_type": "markdown",
   "metadata": {},
   "source": [
    "Save the output results:"
   ]
  },
  {
   "cell_type": "code",
   "execution_count": 17,
   "metadata": {},
   "outputs": [
    {
     "name": "stderr",
     "output_type": "stream",
     "text": [
      "/apps/miniconda3/envs/june2020-gpu/lib/python3.7/site-packages/pandas/core/generic.py:2505: PerformanceWarning: \n",
      "your performance may suffer as PyTables will pickle object types that it cannot\n",
      "map directly to c-types [inferred_type->mixed-integer,key->block1_values] [items->Index(['epoch', 'eff_val'], dtype='object')]\n",
      "\n",
      "  encoding=encoding,\n"
     ]
    }
   ],
   "source": [
    "results.to_hdf(f'{name}_stats.hdf5', 'results')\n",
    "results.to_hdf(str(output / f'{name}_stats_a.hdf5'),'results')"
   ]
  },
  {
   "cell_type": "markdown",
   "metadata": {},
   "source": [
    "Save the plot above:"
   ]
  },
  {
   "cell_type": "code",
   "execution_count": 18,
   "metadata": {
    "scrolled": false
   },
   "outputs": [
    {
     "data": {
      "application/javascript": [
       "/* Put everything inside the global mpl namespace */\n",
       "window.mpl = {};\n",
       "\n",
       "\n",
       "mpl.get_websocket_type = function() {\n",
       "    if (typeof(WebSocket) !== 'undefined') {\n",
       "        return WebSocket;\n",
       "    } else if (typeof(MozWebSocket) !== 'undefined') {\n",
       "        return MozWebSocket;\n",
       "    } else {\n",
       "        alert('Your browser does not have WebSocket support. ' +\n",
       "              'Please try Chrome, Safari or Firefox ≥ 6. ' +\n",
       "              'Firefox 4 and 5 are also supported but you ' +\n",
       "              'have to enable WebSockets in about:config.');\n",
       "    };\n",
       "}\n",
       "\n",
       "mpl.figure = function(figure_id, websocket, ondownload, parent_element) {\n",
       "    this.id = figure_id;\n",
       "\n",
       "    this.ws = websocket;\n",
       "\n",
       "    this.supports_binary = (this.ws.binaryType != undefined);\n",
       "\n",
       "    if (!this.supports_binary) {\n",
       "        var warnings = document.getElementById(\"mpl-warnings\");\n",
       "        if (warnings) {\n",
       "            warnings.style.display = 'block';\n",
       "            warnings.textContent = (\n",
       "                \"This browser does not support binary websocket messages. \" +\n",
       "                    \"Performance may be slow.\");\n",
       "        }\n",
       "    }\n",
       "\n",
       "    this.imageObj = new Image();\n",
       "\n",
       "    this.context = undefined;\n",
       "    this.message = undefined;\n",
       "    this.canvas = undefined;\n",
       "    this.rubberband_canvas = undefined;\n",
       "    this.rubberband_context = undefined;\n",
       "    this.format_dropdown = undefined;\n",
       "\n",
       "    this.image_mode = 'full';\n",
       "\n",
       "    this.root = $('<div/>');\n",
       "    this._root_extra_style(this.root)\n",
       "    this.root.attr('style', 'display: inline-block');\n",
       "\n",
       "    $(parent_element).append(this.root);\n",
       "\n",
       "    this._init_header(this);\n",
       "    this._init_canvas(this);\n",
       "    this._init_toolbar(this);\n",
       "\n",
       "    var fig = this;\n",
       "\n",
       "    this.waiting = false;\n",
       "\n",
       "    this.ws.onopen =  function () {\n",
       "            fig.send_message(\"supports_binary\", {value: fig.supports_binary});\n",
       "            fig.send_message(\"send_image_mode\", {});\n",
       "            if (mpl.ratio != 1) {\n",
       "                fig.send_message(\"set_dpi_ratio\", {'dpi_ratio': mpl.ratio});\n",
       "            }\n",
       "            fig.send_message(\"refresh\", {});\n",
       "        }\n",
       "\n",
       "    this.imageObj.onload = function() {\n",
       "            if (fig.image_mode == 'full') {\n",
       "                // Full images could contain transparency (where diff images\n",
       "                // almost always do), so we need to clear the canvas so that\n",
       "                // there is no ghosting.\n",
       "                fig.context.clearRect(0, 0, fig.canvas.width, fig.canvas.height);\n",
       "            }\n",
       "            fig.context.drawImage(fig.imageObj, 0, 0);\n",
       "        };\n",
       "\n",
       "    this.imageObj.onunload = function() {\n",
       "        fig.ws.close();\n",
       "    }\n",
       "\n",
       "    this.ws.onmessage = this._make_on_message_function(this);\n",
       "\n",
       "    this.ondownload = ondownload;\n",
       "}\n",
       "\n",
       "mpl.figure.prototype._init_header = function() {\n",
       "    var titlebar = $(\n",
       "        '<div class=\"ui-dialog-titlebar ui-widget-header ui-corner-all ' +\n",
       "        'ui-helper-clearfix\"/>');\n",
       "    var titletext = $(\n",
       "        '<div class=\"ui-dialog-title\" style=\"width: 100%; ' +\n",
       "        'text-align: center; padding: 3px;\"/>');\n",
       "    titlebar.append(titletext)\n",
       "    this.root.append(titlebar);\n",
       "    this.header = titletext[0];\n",
       "}\n",
       "\n",
       "\n",
       "\n",
       "mpl.figure.prototype._canvas_extra_style = function(canvas_div) {\n",
       "\n",
       "}\n",
       "\n",
       "\n",
       "mpl.figure.prototype._root_extra_style = function(canvas_div) {\n",
       "\n",
       "}\n",
       "\n",
       "mpl.figure.prototype._init_canvas = function() {\n",
       "    var fig = this;\n",
       "\n",
       "    var canvas_div = $('<div/>');\n",
       "\n",
       "    canvas_div.attr('style', 'position: relative; clear: both; outline: 0');\n",
       "\n",
       "    function canvas_keyboard_event(event) {\n",
       "        return fig.key_event(event, event['data']);\n",
       "    }\n",
       "\n",
       "    canvas_div.keydown('key_press', canvas_keyboard_event);\n",
       "    canvas_div.keyup('key_release', canvas_keyboard_event);\n",
       "    this.canvas_div = canvas_div\n",
       "    this._canvas_extra_style(canvas_div)\n",
       "    this.root.append(canvas_div);\n",
       "\n",
       "    var canvas = $('<canvas/>');\n",
       "    canvas.addClass('mpl-canvas');\n",
       "    canvas.attr('style', \"left: 0; top: 0; z-index: 0; outline: 0\")\n",
       "\n",
       "    this.canvas = canvas[0];\n",
       "    this.context = canvas[0].getContext(\"2d\");\n",
       "\n",
       "    var backingStore = this.context.backingStorePixelRatio ||\n",
       "\tthis.context.webkitBackingStorePixelRatio ||\n",
       "\tthis.context.mozBackingStorePixelRatio ||\n",
       "\tthis.context.msBackingStorePixelRatio ||\n",
       "\tthis.context.oBackingStorePixelRatio ||\n",
       "\tthis.context.backingStorePixelRatio || 1;\n",
       "\n",
       "    mpl.ratio = (window.devicePixelRatio || 1) / backingStore;\n",
       "\n",
       "    var rubberband = $('<canvas/>');\n",
       "    rubberband.attr('style', \"position: absolute; left: 0; top: 0; z-index: 1;\")\n",
       "\n",
       "    var pass_mouse_events = true;\n",
       "\n",
       "    canvas_div.resizable({\n",
       "        start: function(event, ui) {\n",
       "            pass_mouse_events = false;\n",
       "        },\n",
       "        resize: function(event, ui) {\n",
       "            fig.request_resize(ui.size.width, ui.size.height);\n",
       "        },\n",
       "        stop: function(event, ui) {\n",
       "            pass_mouse_events = true;\n",
       "            fig.request_resize(ui.size.width, ui.size.height);\n",
       "        },\n",
       "    });\n",
       "\n",
       "    function mouse_event_fn(event) {\n",
       "        if (pass_mouse_events)\n",
       "            return fig.mouse_event(event, event['data']);\n",
       "    }\n",
       "\n",
       "    rubberband.mousedown('button_press', mouse_event_fn);\n",
       "    rubberband.mouseup('button_release', mouse_event_fn);\n",
       "    // Throttle sequential mouse events to 1 every 20ms.\n",
       "    rubberband.mousemove('motion_notify', mouse_event_fn);\n",
       "\n",
       "    rubberband.mouseenter('figure_enter', mouse_event_fn);\n",
       "    rubberband.mouseleave('figure_leave', mouse_event_fn);\n",
       "\n",
       "    canvas_div.on(\"wheel\", function (event) {\n",
       "        event = event.originalEvent;\n",
       "        event['data'] = 'scroll'\n",
       "        if (event.deltaY < 0) {\n",
       "            event.step = 1;\n",
       "        } else {\n",
       "            event.step = -1;\n",
       "        }\n",
       "        mouse_event_fn(event);\n",
       "    });\n",
       "\n",
       "    canvas_div.append(canvas);\n",
       "    canvas_div.append(rubberband);\n",
       "\n",
       "    this.rubberband = rubberband;\n",
       "    this.rubberband_canvas = rubberband[0];\n",
       "    this.rubberband_context = rubberband[0].getContext(\"2d\");\n",
       "    this.rubberband_context.strokeStyle = \"#000000\";\n",
       "\n",
       "    this._resize_canvas = function(width, height) {\n",
       "        // Keep the size of the canvas, canvas container, and rubber band\n",
       "        // canvas in synch.\n",
       "        canvas_div.css('width', width)\n",
       "        canvas_div.css('height', height)\n",
       "\n",
       "        canvas.attr('width', width * mpl.ratio);\n",
       "        canvas.attr('height', height * mpl.ratio);\n",
       "        canvas.attr('style', 'width: ' + width + 'px; height: ' + height + 'px;');\n",
       "\n",
       "        rubberband.attr('width', width);\n",
       "        rubberband.attr('height', height);\n",
       "    }\n",
       "\n",
       "    // Set the figure to an initial 600x600px, this will subsequently be updated\n",
       "    // upon first draw.\n",
       "    this._resize_canvas(600, 600);\n",
       "\n",
       "    // Disable right mouse context menu.\n",
       "    $(this.rubberband_canvas).bind(\"contextmenu\",function(e){\n",
       "        return false;\n",
       "    });\n",
       "\n",
       "    function set_focus () {\n",
       "        canvas.focus();\n",
       "        canvas_div.focus();\n",
       "    }\n",
       "\n",
       "    window.setTimeout(set_focus, 100);\n",
       "}\n",
       "\n",
       "mpl.figure.prototype._init_toolbar = function() {\n",
       "    var fig = this;\n",
       "\n",
       "    var nav_element = $('<div/>');\n",
       "    nav_element.attr('style', 'width: 100%');\n",
       "    this.root.append(nav_element);\n",
       "\n",
       "    // Define a callback function for later on.\n",
       "    function toolbar_event(event) {\n",
       "        return fig.toolbar_button_onclick(event['data']);\n",
       "    }\n",
       "    function toolbar_mouse_event(event) {\n",
       "        return fig.toolbar_button_onmouseover(event['data']);\n",
       "    }\n",
       "\n",
       "    for(var toolbar_ind in mpl.toolbar_items) {\n",
       "        var name = mpl.toolbar_items[toolbar_ind][0];\n",
       "        var tooltip = mpl.toolbar_items[toolbar_ind][1];\n",
       "        var image = mpl.toolbar_items[toolbar_ind][2];\n",
       "        var method_name = mpl.toolbar_items[toolbar_ind][3];\n",
       "\n",
       "        if (!name) {\n",
       "            // put a spacer in here.\n",
       "            continue;\n",
       "        }\n",
       "        var button = $('<button/>');\n",
       "        button.addClass('ui-button ui-widget ui-state-default ui-corner-all ' +\n",
       "                        'ui-button-icon-only');\n",
       "        button.attr('role', 'button');\n",
       "        button.attr('aria-disabled', 'false');\n",
       "        button.click(method_name, toolbar_event);\n",
       "        button.mouseover(tooltip, toolbar_mouse_event);\n",
       "\n",
       "        var icon_img = $('<span/>');\n",
       "        icon_img.addClass('ui-button-icon-primary ui-icon');\n",
       "        icon_img.addClass(image);\n",
       "        icon_img.addClass('ui-corner-all');\n",
       "\n",
       "        var tooltip_span = $('<span/>');\n",
       "        tooltip_span.addClass('ui-button-text');\n",
       "        tooltip_span.html(tooltip);\n",
       "\n",
       "        button.append(icon_img);\n",
       "        button.append(tooltip_span);\n",
       "\n",
       "        nav_element.append(button);\n",
       "    }\n",
       "\n",
       "    var fmt_picker_span = $('<span/>');\n",
       "\n",
       "    var fmt_picker = $('<select/>');\n",
       "    fmt_picker.addClass('mpl-toolbar-option ui-widget ui-widget-content');\n",
       "    fmt_picker_span.append(fmt_picker);\n",
       "    nav_element.append(fmt_picker_span);\n",
       "    this.format_dropdown = fmt_picker[0];\n",
       "\n",
       "    for (var ind in mpl.extensions) {\n",
       "        var fmt = mpl.extensions[ind];\n",
       "        var option = $(\n",
       "            '<option/>', {selected: fmt === mpl.default_extension}).html(fmt);\n",
       "        fmt_picker.append(option);\n",
       "    }\n",
       "\n",
       "    // Add hover states to the ui-buttons\n",
       "    $( \".ui-button\" ).hover(\n",
       "        function() { $(this).addClass(\"ui-state-hover\");},\n",
       "        function() { $(this).removeClass(\"ui-state-hover\");}\n",
       "    );\n",
       "\n",
       "    var status_bar = $('<span class=\"mpl-message\"/>');\n",
       "    nav_element.append(status_bar);\n",
       "    this.message = status_bar[0];\n",
       "}\n",
       "\n",
       "mpl.figure.prototype.request_resize = function(x_pixels, y_pixels) {\n",
       "    // Request matplotlib to resize the figure. Matplotlib will then trigger a resize in the client,\n",
       "    // which will in turn request a refresh of the image.\n",
       "    this.send_message('resize', {'width': x_pixels, 'height': y_pixels});\n",
       "}\n",
       "\n",
       "mpl.figure.prototype.send_message = function(type, properties) {\n",
       "    properties['type'] = type;\n",
       "    properties['figure_id'] = this.id;\n",
       "    this.ws.send(JSON.stringify(properties));\n",
       "}\n",
       "\n",
       "mpl.figure.prototype.send_draw_message = function() {\n",
       "    if (!this.waiting) {\n",
       "        this.waiting = true;\n",
       "        this.ws.send(JSON.stringify({type: \"draw\", figure_id: this.id}));\n",
       "    }\n",
       "}\n",
       "\n",
       "\n",
       "mpl.figure.prototype.handle_save = function(fig, msg) {\n",
       "    var format_dropdown = fig.format_dropdown;\n",
       "    var format = format_dropdown.options[format_dropdown.selectedIndex].value;\n",
       "    fig.ondownload(fig, format);\n",
       "}\n",
       "\n",
       "\n",
       "mpl.figure.prototype.handle_resize = function(fig, msg) {\n",
       "    var size = msg['size'];\n",
       "    if (size[0] != fig.canvas.width || size[1] != fig.canvas.height) {\n",
       "        fig._resize_canvas(size[0], size[1]);\n",
       "        fig.send_message(\"refresh\", {});\n",
       "    };\n",
       "}\n",
       "\n",
       "mpl.figure.prototype.handle_rubberband = function(fig, msg) {\n",
       "    var x0 = msg['x0'] / mpl.ratio;\n",
       "    var y0 = (fig.canvas.height - msg['y0']) / mpl.ratio;\n",
       "    var x1 = msg['x1'] / mpl.ratio;\n",
       "    var y1 = (fig.canvas.height - msg['y1']) / mpl.ratio;\n",
       "    x0 = Math.floor(x0) + 0.5;\n",
       "    y0 = Math.floor(y0) + 0.5;\n",
       "    x1 = Math.floor(x1) + 0.5;\n",
       "    y1 = Math.floor(y1) + 0.5;\n",
       "    var min_x = Math.min(x0, x1);\n",
       "    var min_y = Math.min(y0, y1);\n",
       "    var width = Math.abs(x1 - x0);\n",
       "    var height = Math.abs(y1 - y0);\n",
       "\n",
       "    fig.rubberband_context.clearRect(\n",
       "        0, 0, fig.canvas.width / mpl.ratio, fig.canvas.height / mpl.ratio);\n",
       "\n",
       "    fig.rubberband_context.strokeRect(min_x, min_y, width, height);\n",
       "}\n",
       "\n",
       "mpl.figure.prototype.handle_figure_label = function(fig, msg) {\n",
       "    // Updates the figure title.\n",
       "    fig.header.textContent = msg['label'];\n",
       "}\n",
       "\n",
       "mpl.figure.prototype.handle_cursor = function(fig, msg) {\n",
       "    var cursor = msg['cursor'];\n",
       "    switch(cursor)\n",
       "    {\n",
       "    case 0:\n",
       "        cursor = 'pointer';\n",
       "        break;\n",
       "    case 1:\n",
       "        cursor = 'default';\n",
       "        break;\n",
       "    case 2:\n",
       "        cursor = 'crosshair';\n",
       "        break;\n",
       "    case 3:\n",
       "        cursor = 'move';\n",
       "        break;\n",
       "    }\n",
       "    fig.rubberband_canvas.style.cursor = cursor;\n",
       "}\n",
       "\n",
       "mpl.figure.prototype.handle_message = function(fig, msg) {\n",
       "    fig.message.textContent = msg['message'];\n",
       "}\n",
       "\n",
       "mpl.figure.prototype.handle_draw = function(fig, msg) {\n",
       "    // Request the server to send over a new figure.\n",
       "    fig.send_draw_message();\n",
       "}\n",
       "\n",
       "mpl.figure.prototype.handle_image_mode = function(fig, msg) {\n",
       "    fig.image_mode = msg['mode'];\n",
       "}\n",
       "\n",
       "mpl.figure.prototype.updated_canvas_event = function() {\n",
       "    // Called whenever the canvas gets updated.\n",
       "    this.send_message(\"ack\", {});\n",
       "}\n",
       "\n",
       "// A function to construct a web socket function for onmessage handling.\n",
       "// Called in the figure constructor.\n",
       "mpl.figure.prototype._make_on_message_function = function(fig) {\n",
       "    return function socket_on_message(evt) {\n",
       "        if (evt.data instanceof Blob) {\n",
       "            /* FIXME: We get \"Resource interpreted as Image but\n",
       "             * transferred with MIME type text/plain:\" errors on\n",
       "             * Chrome.  But how to set the MIME type?  It doesn't seem\n",
       "             * to be part of the websocket stream */\n",
       "            evt.data.type = \"image/png\";\n",
       "\n",
       "            /* Free the memory for the previous frames */\n",
       "            if (fig.imageObj.src) {\n",
       "                (window.URL || window.webkitURL).revokeObjectURL(\n",
       "                    fig.imageObj.src);\n",
       "            }\n",
       "\n",
       "            fig.imageObj.src = (window.URL || window.webkitURL).createObjectURL(\n",
       "                evt.data);\n",
       "            fig.updated_canvas_event();\n",
       "            fig.waiting = false;\n",
       "            return;\n",
       "        }\n",
       "        else if (typeof evt.data === 'string' && evt.data.slice(0, 21) == \"data:image/png;base64\") {\n",
       "            fig.imageObj.src = evt.data;\n",
       "            fig.updated_canvas_event();\n",
       "            fig.waiting = false;\n",
       "            return;\n",
       "        }\n",
       "\n",
       "        var msg = JSON.parse(evt.data);\n",
       "        var msg_type = msg['type'];\n",
       "\n",
       "        // Call the  \"handle_{type}\" callback, which takes\n",
       "        // the figure and JSON message as its only arguments.\n",
       "        try {\n",
       "            var callback = fig[\"handle_\" + msg_type];\n",
       "        } catch (e) {\n",
       "            console.log(\"No handler for the '\" + msg_type + \"' message type: \", msg);\n",
       "            return;\n",
       "        }\n",
       "\n",
       "        if (callback) {\n",
       "            try {\n",
       "                // console.log(\"Handling '\" + msg_type + \"' message: \", msg);\n",
       "                callback(fig, msg);\n",
       "            } catch (e) {\n",
       "                console.log(\"Exception inside the 'handler_\" + msg_type + \"' callback:\", e, e.stack, msg);\n",
       "            }\n",
       "        }\n",
       "    };\n",
       "}\n",
       "\n",
       "// from http://stackoverflow.com/questions/1114465/getting-mouse-location-in-canvas\n",
       "mpl.findpos = function(e) {\n",
       "    //this section is from http://www.quirksmode.org/js/events_properties.html\n",
       "    var targ;\n",
       "    if (!e)\n",
       "        e = window.event;\n",
       "    if (e.target)\n",
       "        targ = e.target;\n",
       "    else if (e.srcElement)\n",
       "        targ = e.srcElement;\n",
       "    if (targ.nodeType == 3) // defeat Safari bug\n",
       "        targ = targ.parentNode;\n",
       "\n",
       "    // jQuery normalizes the pageX and pageY\n",
       "    // pageX,Y are the mouse positions relative to the document\n",
       "    // offset() returns the position of the element relative to the document\n",
       "    var x = e.pageX - $(targ).offset().left;\n",
       "    var y = e.pageY - $(targ).offset().top;\n",
       "\n",
       "    return {\"x\": x, \"y\": y};\n",
       "};\n",
       "\n",
       "/*\n",
       " * return a copy of an object with only non-object keys\n",
       " * we need this to avoid circular references\n",
       " * http://stackoverflow.com/a/24161582/3208463\n",
       " */\n",
       "function simpleKeys (original) {\n",
       "  return Object.keys(original).reduce(function (obj, key) {\n",
       "    if (typeof original[key] !== 'object')\n",
       "        obj[key] = original[key]\n",
       "    return obj;\n",
       "  }, {});\n",
       "}\n",
       "\n",
       "mpl.figure.prototype.mouse_event = function(event, name) {\n",
       "    var canvas_pos = mpl.findpos(event)\n",
       "\n",
       "    if (name === 'button_press')\n",
       "    {\n",
       "        this.canvas.focus();\n",
       "        this.canvas_div.focus();\n",
       "    }\n",
       "\n",
       "    var x = canvas_pos.x * mpl.ratio;\n",
       "    var y = canvas_pos.y * mpl.ratio;\n",
       "\n",
       "    this.send_message(name, {x: x, y: y, button: event.button,\n",
       "                             step: event.step,\n",
       "                             guiEvent: simpleKeys(event)});\n",
       "\n",
       "    /* This prevents the web browser from automatically changing to\n",
       "     * the text insertion cursor when the button is pressed.  We want\n",
       "     * to control all of the cursor setting manually through the\n",
       "     * 'cursor' event from matplotlib */\n",
       "    event.preventDefault();\n",
       "    return false;\n",
       "}\n",
       "\n",
       "mpl.figure.prototype._key_event_extra = function(event, name) {\n",
       "    // Handle any extra behaviour associated with a key event\n",
       "}\n",
       "\n",
       "mpl.figure.prototype.key_event = function(event, name) {\n",
       "\n",
       "    // Prevent repeat events\n",
       "    if (name == 'key_press')\n",
       "    {\n",
       "        if (event.which === this._key)\n",
       "            return;\n",
       "        else\n",
       "            this._key = event.which;\n",
       "    }\n",
       "    if (name == 'key_release')\n",
       "        this._key = null;\n",
       "\n",
       "    var value = '';\n",
       "    if (event.ctrlKey && event.which != 17)\n",
       "        value += \"ctrl+\";\n",
       "    if (event.altKey && event.which != 18)\n",
       "        value += \"alt+\";\n",
       "    if (event.shiftKey && event.which != 16)\n",
       "        value += \"shift+\";\n",
       "\n",
       "    value += 'k';\n",
       "    value += event.which.toString();\n",
       "\n",
       "    this._key_event_extra(event, name);\n",
       "\n",
       "    this.send_message(name, {key: value,\n",
       "                             guiEvent: simpleKeys(event)});\n",
       "    return false;\n",
       "}\n",
       "\n",
       "mpl.figure.prototype.toolbar_button_onclick = function(name) {\n",
       "    if (name == 'download') {\n",
       "        this.handle_save(this, null);\n",
       "    } else {\n",
       "        this.send_message(\"toolbar_button\", {name: name});\n",
       "    }\n",
       "};\n",
       "\n",
       "mpl.figure.prototype.toolbar_button_onmouseover = function(tooltip) {\n",
       "    this.message.textContent = tooltip;\n",
       "};\n",
       "mpl.toolbar_items = [[\"Home\", \"Reset original view\", \"fa fa-home icon-home\", \"home\"], [\"Back\", \"Back to previous view\", \"fa fa-arrow-left icon-arrow-left\", \"back\"], [\"Forward\", \"Forward to next view\", \"fa fa-arrow-right icon-arrow-right\", \"forward\"], [\"\", \"\", \"\", \"\"], [\"Pan\", \"Pan axes with left mouse, zoom with right\", \"fa fa-arrows icon-move\", \"pan\"], [\"Zoom\", \"Zoom to rectangle\", \"fa fa-square-o icon-check-empty\", \"zoom\"], [\"\", \"\", \"\", \"\"], [\"Download\", \"Download plot\", \"fa fa-floppy-o icon-save\", \"download\"]];\n",
       "\n",
       "mpl.extensions = [\"eps\", \"jpeg\", \"pdf\", \"png\", \"ps\", \"raw\", \"svg\", \"tif\"];\n",
       "\n",
       "mpl.default_extension = \"png\";var comm_websocket_adapter = function(comm) {\n",
       "    // Create a \"websocket\"-like object which calls the given IPython comm\n",
       "    // object with the appropriate methods. Currently this is a non binary\n",
       "    // socket, so there is still some room for performance tuning.\n",
       "    var ws = {};\n",
       "\n",
       "    ws.close = function() {\n",
       "        comm.close()\n",
       "    };\n",
       "    ws.send = function(m) {\n",
       "        //console.log('sending', m);\n",
       "        comm.send(m);\n",
       "    };\n",
       "    // Register the callback with on_msg.\n",
       "    comm.on_msg(function(msg) {\n",
       "        //console.log('receiving', msg['content']['data'], msg);\n",
       "        // Pass the mpl event to the overridden (by mpl) onmessage function.\n",
       "        ws.onmessage(msg['content']['data'])\n",
       "    });\n",
       "    return ws;\n",
       "}\n",
       "\n",
       "mpl.mpl_figure_comm = function(comm, msg) {\n",
       "    // This is the function which gets called when the mpl process\n",
       "    // starts-up an IPython Comm through the \"matplotlib\" channel.\n",
       "\n",
       "    var id = msg.content.data.id;\n",
       "    // Get hold of the div created by the display call when the Comm\n",
       "    // socket was opened in Python.\n",
       "    var element = $(\"#\" + id);\n",
       "    var ws_proxy = comm_websocket_adapter(comm)\n",
       "\n",
       "    function ondownload(figure, format) {\n",
       "        window.open(figure.imageObj.src);\n",
       "    }\n",
       "\n",
       "    var fig = new mpl.figure(id, ws_proxy,\n",
       "                           ondownload,\n",
       "                           element.get(0));\n",
       "\n",
       "    // Call onopen now - mpl needs it, as it is assuming we've passed it a real\n",
       "    // web socket which is closed, not our websocket->open comm proxy.\n",
       "    ws_proxy.onopen();\n",
       "\n",
       "    fig.parent_element = element.get(0);\n",
       "    fig.cell_info = mpl.find_output_cell(\"<div id='\" + id + \"'></div>\");\n",
       "    if (!fig.cell_info) {\n",
       "        console.error(\"Failed to find cell for figure\", id, fig);\n",
       "        return;\n",
       "    }\n",
       "\n",
       "    var output_index = fig.cell_info[2]\n",
       "    var cell = fig.cell_info[0];\n",
       "\n",
       "};\n",
       "\n",
       "mpl.figure.prototype.handle_close = function(fig, msg) {\n",
       "    var width = fig.canvas.width/mpl.ratio\n",
       "    fig.root.unbind('remove')\n",
       "\n",
       "    // Update the output cell to use the data from the current canvas.\n",
       "    fig.push_to_output();\n",
       "    var dataURL = fig.canvas.toDataURL();\n",
       "    // Re-enable the keyboard manager in IPython - without this line, in FF,\n",
       "    // the notebook keyboard shortcuts fail.\n",
       "    IPython.keyboard_manager.enable()\n",
       "    $(fig.parent_element).html('<img src=\"' + dataURL + '\" width=\"' + width + '\">');\n",
       "    fig.close_ws(fig, msg);\n",
       "}\n",
       "\n",
       "mpl.figure.prototype.close_ws = function(fig, msg){\n",
       "    fig.send_message('closing', msg);\n",
       "    // fig.ws.close()\n",
       "}\n",
       "\n",
       "mpl.figure.prototype.push_to_output = function(remove_interactive) {\n",
       "    // Turn the data on the canvas into data in the output cell.\n",
       "    var width = this.canvas.width/mpl.ratio\n",
       "    var dataURL = this.canvas.toDataURL();\n",
       "    this.cell_info[1]['text/html'] = '<img src=\"' + dataURL + '\" width=\"' + width + '\">';\n",
       "}\n",
       "\n",
       "mpl.figure.prototype.updated_canvas_event = function() {\n",
       "    // Tell IPython that the notebook contents must change.\n",
       "    IPython.notebook.set_dirty(true);\n",
       "    this.send_message(\"ack\", {});\n",
       "    var fig = this;\n",
       "    // Wait a second, then push the new image to the DOM so\n",
       "    // that it is saved nicely (might be nice to debounce this).\n",
       "    setTimeout(function () { fig.push_to_output() }, 1000);\n",
       "}\n",
       "\n",
       "mpl.figure.prototype._init_toolbar = function() {\n",
       "    var fig = this;\n",
       "\n",
       "    var nav_element = $('<div/>');\n",
       "    nav_element.attr('style', 'width: 100%');\n",
       "    this.root.append(nav_element);\n",
       "\n",
       "    // Define a callback function for later on.\n",
       "    function toolbar_event(event) {\n",
       "        return fig.toolbar_button_onclick(event['data']);\n",
       "    }\n",
       "    function toolbar_mouse_event(event) {\n",
       "        return fig.toolbar_button_onmouseover(event['data']);\n",
       "    }\n",
       "\n",
       "    for(var toolbar_ind in mpl.toolbar_items){\n",
       "        var name = mpl.toolbar_items[toolbar_ind][0];\n",
       "        var tooltip = mpl.toolbar_items[toolbar_ind][1];\n",
       "        var image = mpl.toolbar_items[toolbar_ind][2];\n",
       "        var method_name = mpl.toolbar_items[toolbar_ind][3];\n",
       "\n",
       "        if (!name) { continue; };\n",
       "\n",
       "        var button = $('<button class=\"btn btn-default\" href=\"#\" title=\"' + name + '\"><i class=\"fa ' + image + ' fa-lg\"></i></button>');\n",
       "        button.click(method_name, toolbar_event);\n",
       "        button.mouseover(tooltip, toolbar_mouse_event);\n",
       "        nav_element.append(button);\n",
       "    }\n",
       "\n",
       "    // Add the status bar.\n",
       "    var status_bar = $('<span class=\"mpl-message\" style=\"text-align:right; float: right;\"/>');\n",
       "    nav_element.append(status_bar);\n",
       "    this.message = status_bar[0];\n",
       "\n",
       "    // Add the close button to the window.\n",
       "    var buttongrp = $('<div class=\"btn-group inline pull-right\"></div>');\n",
       "    var button = $('<button class=\"btn btn-mini btn-primary\" href=\"#\" title=\"Stop Interaction\"><i class=\"fa fa-power-off icon-remove icon-large\"></i></button>');\n",
       "    button.click(function (evt) { fig.handle_close(fig, {}); } );\n",
       "    button.mouseover('Stop Interaction', toolbar_mouse_event);\n",
       "    buttongrp.append(button);\n",
       "    var titlebar = this.root.find($('.ui-dialog-titlebar'));\n",
       "    titlebar.prepend(buttongrp);\n",
       "}\n",
       "\n",
       "mpl.figure.prototype._root_extra_style = function(el){\n",
       "    var fig = this\n",
       "    el.on(\"remove\", function(){\n",
       "\tfig.close_ws(fig, {});\n",
       "    });\n",
       "}\n",
       "\n",
       "mpl.figure.prototype._canvas_extra_style = function(el){\n",
       "    // this is important to make the div 'focusable\n",
       "    el.attr('tabindex', 0)\n",
       "    // reach out to IPython and tell the keyboard manager to turn it's self\n",
       "    // off when our div gets focus\n",
       "\n",
       "    // location in version 3\n",
       "    if (IPython.notebook.keyboard_manager) {\n",
       "        IPython.notebook.keyboard_manager.register_events(el);\n",
       "    }\n",
       "    else {\n",
       "        // location in version 2\n",
       "        IPython.keyboard_manager.register_events(el);\n",
       "    }\n",
       "\n",
       "}\n",
       "\n",
       "mpl.figure.prototype._key_event_extra = function(event, name) {\n",
       "    var manager = IPython.notebook.keyboard_manager;\n",
       "    if (!manager)\n",
       "        manager = IPython.keyboard_manager;\n",
       "\n",
       "    // Check for shift+enter\n",
       "    if (event.shiftKey && event.which == 13) {\n",
       "        this.canvas_div.blur();\n",
       "        // select the cell after this one\n",
       "        var index = IPython.notebook.find_cell_index(this.cell_info[0]);\n",
       "        IPython.notebook.select(index + 1);\n",
       "    }\n",
       "}\n",
       "\n",
       "mpl.figure.prototype.handle_save = function(fig, msg) {\n",
       "    fig.ondownload(fig, null);\n",
       "}\n",
       "\n",
       "\n",
       "mpl.find_output_cell = function(html_output) {\n",
       "    // Return the cell and output element which can be found *uniquely* in the notebook.\n",
       "    // Note - this is a bit hacky, but it is done because the \"notebook_saving.Notebook\"\n",
       "    // IPython event is triggered only after the cells have been serialised, which for\n",
       "    // our purposes (turning an active figure into a static one), is too late.\n",
       "    var cells = IPython.notebook.get_cells();\n",
       "    var ncells = cells.length;\n",
       "    for (var i=0; i<ncells; i++) {\n",
       "        var cell = cells[i];\n",
       "        if (cell.cell_type === 'code'){\n",
       "            for (var j=0; j<cell.output_area.outputs.length; j++) {\n",
       "                var data = cell.output_area.outputs[j];\n",
       "                if (data.data) {\n",
       "                    // IPython >= 3 moved mimebundle to data attribute of output\n",
       "                    data = data.data;\n",
       "                }\n",
       "                if (data['text/html'] == html_output) {\n",
       "                    return [cell, data, j];\n",
       "                }\n",
       "            }\n",
       "        }\n",
       "    }\n",
       "}\n",
       "\n",
       "// Register the function which deals with the matplotlib target/channel.\n",
       "// The kernel may be null if the page has been refreshed.\n",
       "if (IPython.notebook.kernel != null) {\n",
       "    IPython.notebook.kernel.comm_manager.register_target('matplotlib', mpl.mpl_figure_comm);\n",
       "}\n"
      ],
      "text/plain": [
       "<IPython.core.display.Javascript object>"
      ]
     },
     "metadata": {},
     "output_type": "display_data"
    },
    {
     "data": {
      "text/html": [
       "<img src=\"data:image/png;base64,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\" width=\"1000\">"
      ],
      "text/plain": [
       "<IPython.core.display.HTML object>"
      ]
     },
     "metadata": {},
     "output_type": "display_data"
    }
   ],
   "source": [
    "dual_train_plots(results.index,\n",
    "                 results.cost, results.val, \n",
    "                 results['eff_val'].apply(lambda x: x.eff_rate),\n",
    "                 results['eff_val'].apply(lambda x: x.fp_rate))\n",
    "plt.tight_layout()\n",
    "plt.savefig(str(output / f'{name}_stats_a.png'))"
   ]
  },
  {
   "cell_type": "code",
   "execution_count": 1,
   "metadata": {},
   "outputs": [],
   "source": [
    "##quit()"
   ]
  },
  {
   "cell_type": "code",
   "execution_count": null,
   "metadata": {},
   "outputs": [],
   "source": []
  }
 ],
 "metadata": {
  "kernelspec": {
   "display_name": "june2020-gpu",
   "language": "python",
   "name": "june2020-gpu"
  },
  "language_info": {
   "codemirror_mode": {
    "name": "ipython",
    "version": 3
   },
   "file_extension": ".py",
   "mimetype": "text/x-python",
   "name": "python",
   "nbconvert_exporter": "python",
   "pygments_lexer": "ipython3",
   "version": "3.7.6"
  }
 },
 "nbformat": 4,
 "nbformat_minor": 2
}
