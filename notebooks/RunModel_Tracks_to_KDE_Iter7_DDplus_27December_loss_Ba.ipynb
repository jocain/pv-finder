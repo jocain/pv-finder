{
 "cells": [
  {
   "cell_type": "code",
   "execution_count": 1,
   "metadata": {},
   "outputs": [],
   "source": [
    "##%matplotlib widget\n",
    "## with %matplotlib notebook: seems to require ipympl as part of environment, either\n",
    "## part of the conda environment or \"pip install ipympl\"\n",
    "## otherwise, does not show ANY plots in note\"book, plt.savefig() works\n",
    "%matplotlib notebook  \n",
    "##%matplotlib inline    ## --plt.savefig()  works, but re-sizing does NOT\n"
   ]
  },
  {
   "cell_type": "markdown",
   "metadata": {},
   "source": [
    "This notebook is the second attempt to read in track information and use it to predict the KDE used as input to PvFinder. This time, we are reading in poca KDEs rather than the original KDEs. \n",
    "\n",
    "collectdata_kde_C.py uses poca_z, poca_x, poca_y, major_axis_x, major_axis_y, and major_axis_z as the six track parameters (for the moment)\n"
   ]
  },
  {
   "cell_type": "markdown",
   "metadata": {},
   "source": [
    "Check the current GPU usage. Please try to be nice!"
   ]
  },
  {
   "cell_type": "code",
   "execution_count": 2,
   "metadata": {},
   "outputs": [
    {
     "name": "stdout",
     "output_type": "stream",
     "text": [
      "Sun Dec 27 20:24:18 2020       \n",
      "+-----------------------------------------------------------------------------+\n",
      "| NVIDIA-SMI 450.36.06    Driver Version: 450.36.06    CUDA Version: 11.0     |\n",
      "|-------------------------------+----------------------+----------------------+\n",
      "| GPU  Name        Persistence-M| Bus-Id        Disp.A | Volatile Uncorr. ECC |\n",
      "| Fan  Temp  Perf  Pwr:Usage/Cap|         Memory-Usage | GPU-Util  Compute M. |\n",
      "|                               |                      |               MIG M. |\n",
      "|===============================+======================+======================|\n",
      "|   0  GeForce RTX 208...  On   | 00000000:18:00.0 Off |                  N/A |\n",
      "| 29%   41C    P8    40W / 250W |      1MiB / 11019MiB |      0%      Default |\n",
      "|                               |                      |                  N/A |\n",
      "+-------------------------------+----------------------+----------------------+\n",
      "|   1  GeForce RTX 208...  On   | 00000000:3B:00.0 Off |                  N/A |\n",
      "| 29%   41C    P8    39W / 250W |     61MiB / 11019MiB |      0%      Default |\n",
      "|                               |                      |                  N/A |\n",
      "+-------------------------------+----------------------+----------------------+\n",
      "                                                                               \n",
      "+-----------------------------------------------------------------------------+\n",
      "| Processes:                                                                  |\n",
      "|  GPU   GI   CI        PID   Type   Process name                  GPU Memory |\n",
      "|        ID   ID                                                   Usage      |\n",
      "|=============================================================================|\n",
      "|    1   N/A  N/A      3736      G   /usr/bin/X                         33MiB |\n",
      "|    1   N/A  N/A      3790      G   /usr/bin/gnome-shell               25MiB |\n",
      "+-----------------------------------------------------------------------------+\n"
     ]
    }
   ],
   "source": [
    "!nvidia-smi"
   ]
  },
  {
   "cell_type": "markdown",
   "metadata": {},
   "source": [
    "> **WARNING**: The card numbers here are *not* the same as in CUDA. You have been warned."
   ]
  },
  {
   "cell_type": "markdown",
   "metadata": {},
   "source": [
    "This notebook is first attempt to read in track information and use it to predict the KDE used as input to PvFinder.\n"
   ]
  },
  {
   "cell_type": "markdown",
   "metadata": {},
   "source": [
    "## Imports"
   ]
  },
  {
   "cell_type": "code",
   "execution_count": 3,
   "metadata": {},
   "outputs": [],
   "source": [
    "import matplotlib.pyplot as plt\n",
    "import numpy as np\n",
    "import time\n",
    "import torch\n",
    "import pandas as pd\n",
    "\n",
    "# Python 3 standard library\n",
    "from pathlib import Path\n",
    "\n",
    "##from torchsummary import summary"
   ]
  },
  {
   "cell_type": "markdown",
   "metadata": {},
   "source": [
    "### Set up local parameters"
   ]
  },
  {
   "cell_type": "code",
   "execution_count": 4,
   "metadata": {},
   "outputs": [],
   "source": [
    "n_epochs = 800\n",
    "\n",
    "# Name is the output file name\n",
    "\n",
    "\n",
    "##  201027 -- about to go to bed, so try 2500 epochs with lr = 1e55\n",
    "##  previous iteration had l4 = 3e-5 and cost dropped almost linearly\n",
    "##  for 100 epochs -- final training costs ~ 2.02, validation cost ~ 2.01\n",
    "\n",
    "## for iter 4, try 10 epochs with lr = 3e-6\n",
    "## usually have a big jump down at epoch 0; want to try a\n",
    "## small number of epochs per iteration and see what happens (iter4: 10 epochs gave\n",
    "## traiing cost dropping from 1.54 to 1.50 immediately, then dropping very slowly)\n",
    "folder = '25December__DDplus_loss_Ba_iter7_floatAll_800epochs_4em6'\n",
    "name   = folder\n",
    "\n",
    "# Make an output folder named \"name\" (change if you want)\n",
    "\n",
    "## Special instructions for those working on goofy at UC\n",
    "## Please be very careful to make sure that your folder\n",
    "## does not live in a subdirectory of your home directory\n",
    "## this disk has very little capacity. Instead, use \n",
    "## a subdirectory in /share/lazy with a symbolic link to\n",
    "## it in this (the notebooks) subdirectory\n",
    "folder = 'ML/' + folder\n",
    "output = Path(folder)\n",
    "\n",
    "\n",
    "# Size of batches\n",
    "batch_size = 16 ## was 64\n",
    "# How fast to learn\n",
    "learning_rate = 4e-6"
   ]
  },
  {
   "cell_type": "markdown",
   "metadata": {},
   "source": [
    "Make the output directory if it does not exist:"
   ]
  },
  {
   "cell_type": "code",
   "execution_count": 5,
   "metadata": {},
   "outputs": [],
   "source": [
    "output.mkdir(exist_ok=True)"
   ]
  },
  {
   "cell_type": "markdown",
   "metadata": {},
   "source": [
    "## Get the helper functions\n",
    "\n",
    "Add the directory with the model\n",
    "definitions to the path so we can import from it:\n",
    "\n",
    "> When you type `import X`,\n",
    "Python searches `sys.path` for a python\n",
    "file named `X.py` to import. So we need to add the model directory to the path."
   ]
  },
  {
   "cell_type": "code",
   "execution_count": 6,
   "metadata": {
    "scrolled": true
   },
   "outputs": [],
   "source": [
    "# From model/collectdata.py\n",
    "##from model.collectdata_kde_B import collect_t2kde_data\n",
    "## collectdata_kde_C should use the new poca KDE rather than the original kernel KDE\n",
    "from model.collectdata_kde_Ellipsoids import collect_t2kde_data\n",
    "\n",
    "\n",
    "# From model/loss.py\n",
    "##from loss import Loss\n",
    "## kde_loss_D includes botha ratio term and a chisq term, 98% ave_chisq\n",
    "## kde_loss_E adds a chi^4 term to the kde_loss_D return value\n",
    "## this is intended to emphasize the importance of values significantly different than zero\n",
    "from model.kde_loss_Ba import Loss\n",
    "\n",
    "##  TracksToKDE_Ellipsoids_SevenLayerCake has 7 hidden layers producing the 4000-bin KDE historgram\n",
    "##  It takes 9 input features (pocca centers + (A,B,C,D,E,F) . \n",
    "from model.models_kde import TracksToKDE_Ellipsoids_DDplus as Model\n",
    "\n",
    "\n",
    "from model.training_kde import trainNet, select_gpu, Results\n",
    "from model.plots import dual_train_plots, replace_in_ax"
   ]
  },
  {
   "cell_type": "code",
   "execution_count": 7,
   "metadata": {},
   "outputs": [],
   "source": [
    "# This gets built up during the run - do not rerun this cell\n",
    "results = pd.DataFrame([], columns=Results._fields)"
   ]
  },
  {
   "cell_type": "markdown",
   "metadata": {},
   "source": [
    "Set up Torch device configuration. All tensors and model parameters need to know where to be put.\n",
    "This takes a BUS ID number: The BUS ID is the same as the listing at the top of this script."
   ]
  },
  {
   "cell_type": "code",
   "execution_count": 8,
   "metadata": {},
   "outputs": [
    {
     "name": "stdout",
     "output_type": "stream",
     "text": [
      "1 available GPUs (initially using device 0):\n",
      "  0 GeForce RTX 2080 Ti\n"
     ]
    }
   ],
   "source": [
    "device = select_gpu(0)\n",
    "##device = \"cpu\""
   ]
  },
  {
   "cell_type": "markdown",
   "metadata": {},
   "source": [
    "## Loading data\n",
    "\n",
    "Load the dataset, split into parts, then move to device (see `collectdata.py` in the `../model` directory)"
   ]
  },
  {
   "cell_type": "markdown",
   "metadata": {},
   "source": [
    "# Preparing the model"
   ]
  },
  {
   "cell_type": "markdown",
   "metadata": {},
   "source": [
    "Prepare a model, use multiple GPUs if they are VISIBLE, and move the model to the device."
   ]
  },
  {
   "cell_type": "code",
   "execution_count": 9,
   "metadata": {
    "scrolled": true
   },
   "outputs": [],
   "source": [
    "##print(\"Let's use\", torch.cuda.device_count(), \"GPUs!\")\n",
    "##if torch.cuda.device_count() > 1:\n",
    "##    model = torch.nn.DataParallel(model)"
   ]
  },
  {
   "cell_type": "code",
   "execution_count": 10,
   "metadata": {},
   "outputs": [
    {
     "name": "stdout",
     "output_type": "stream",
     "text": [
      "ct, child =  0    Linear(in_features=9, out_features=50, bias=True)\n",
      "ct, child =  1    Linear(in_features=50, out_features=50, bias=True)\n",
      "ct, child =  2    Linear(in_features=50, out_features=50, bias=True)\n",
      "ct, child =  3    Linear(in_features=50, out_features=50, bias=True)\n",
      "ct, child =  4    Linear(in_features=50, out_features=50, bias=True)\n",
      "ct, child =  5    Linear(in_features=50, out_features=50, bias=True)\n",
      "ct, child =  6    Linear(in_features=50, out_features=50, bias=True)\n",
      "ct, child =  7    Linear(in_features=50, out_features=50, bias=True)\n",
      "ct, child =  8    Linear(in_features=50, out_features=50, bias=True)\n",
      "ct, child =  9    Linear(in_features=50, out_features=50, bias=True)\n",
      "ct, child =  10    Linear(in_features=50, out_features=50, bias=True)\n",
      "ct, child =  11    Linear(in_features=50, out_features=16000, bias=True)\n",
      "ct, child =  12    Conv1d(4, 25, kernel_size=(25,), stride=(1,), padding=(12,))\n",
      "ct, child =  13    Conv1d(25, 1, kernel_size=(5,), stride=(1,), padding=(2,))\n",
      "ct, child =  14    Linear(in_features=4000, out_features=4000, bias=True)\n",
      "ct, child =  15    Conv1d(25, 1, kernel_size=(15,), stride=(1,), padding=(7,))\n",
      "ct, child =  16    Dropout(p=0.15, inplace=False)\n",
      "ct, child =  17    Dropout(p=0.15, inplace=False)\n"
     ]
    }
   ],
   "source": [
    "## a comment on the web at https://pytorch.org/docs/stable/optim.html says\n",
    "\"\"\"\n",
    "If you need to move a model to GPU via .cuda(), please do so before constructing optimizers for it. \n",
    "Parameters of a model after .cuda() will be different objects with those before the call.\n",
    "\n",
    "In general, you should make sure that optimized parameters live in consistent locations when \n",
    "optimizers are constructed and used.\n",
    "\"\"\"\n",
    "## so move this here (although we are using model.to(device) not explicitly using .cuda()\n",
    "\n",
    "nOut1 = 50\n",
    "nOut2 = 50\n",
    "nOut3 = 50\n",
    "nOut4 = 50\n",
    "nOut5 = 50\n",
    "nOut6 = 50\n",
    "nOut7 = 50\n",
    "nOut8 = 50\n",
    "nOut9 = 50\n",
    "nOut10 = 50\n",
    "nOut11 = 50\n",
    "latentChannels = 4\n",
    "model = Model(nOut1,nOut2,nOut3,nOut4,nOut5,nOut6,nOut7,nOut8,nOut9,nOut10,nOut11,latentChannels)\n",
    "\n",
    "##summary(model, input_size=(4, 4000))\n",
    "##print(model.parameters)\n",
    "\n",
    "## add the following code to allow the user to freeze the some of the weights corresponding \n",
    "## to those taken from an earlier model trained with the original target histograms\n",
    "## presumably -- this leaves either the perturbative filter \"fixed\" and lets the \n",
    "## learning focus on the non-perturbative features, so get started faster, or vice versa\n",
    "ct = 0\n",
    "for child in model.children():\n",
    "  print('ct, child = ',ct, \"  \", child)\n",
    "  if ct < 0:\n",
    "    print(\"     About to set param.requires_grad=False for ct = \", ct, \"params\")\n",
    "    for param in child.parameters():\n",
    "        param.requires_grad = False \n",
    "  ct += 1\n",
    "##  mds 200121 loss = Loss(epsilon=1e-5,coefficient=1.0)\n",
    "##  loss = Loss(epsilon=1e-5,coefficient=2.5)\n",
    "##loss = Loss(epsilon=3e-5, debug=False)\n",
    "loss = Loss(epsilon=3e-5)"
   ]
  },
  {
   "cell_type": "markdown",
   "metadata": {},
   "source": [
    "Let's move the model's weight matricies to the GPU:"
   ]
  },
  {
   "cell_type": "code",
   "execution_count": 11,
   "metadata": {
    "scrolled": true
   },
   "outputs": [],
   "source": [
    "model = model.to(device)"
   ]
  },
  {
   "cell_type": "code",
   "execution_count": 12,
   "metadata": {
    "scrolled": true
   },
   "outputs": [],
   "source": [
    "optimizer = torch.optim.Adam(model.parameters(), lr=learning_rate)\n",
    "##optimizer = torch.optim.SGD(model.parameters(), lr=learning_rate)"
   ]
  },
  {
   "cell_type": "code",
   "execution_count": 13,
   "metadata": {
    "scrolled": false
   },
   "outputs": [
    {
     "name": "stdout",
     "output_type": "stream",
     "text": [
      "output =  ML/25December__DDplus_loss_Ba_iter7_floatAll_800epochs_4em6\n",
      "for model_dict\n",
      "index, k =   0    layer1.weight\n",
      "index, k =   1    layer1.bias\n",
      "index, k =   2    layer2.weight\n",
      "index, k =   3    layer2.bias\n",
      "index, k =   4    layer3.weight\n",
      "index, k =   5    layer3.bias\n",
      "index, k =   6    layer4.weight\n",
      "index, k =   7    layer4.bias\n",
      "index, k =   8    layer5.weight\n",
      "index, k =   9    layer5.bias\n",
      "index, k =   10    layer6.weight\n",
      "index, k =   11    layer6.bias\n",
      "index, k =   12    layer7.weight\n",
      "index, k =   13    layer7.bias\n",
      "index, k =   14    layer8.weight\n",
      "index, k =   15    layer8.bias\n",
      "index, k =   16    layer9.weight\n",
      "index, k =   17    layer9.bias\n",
      "index, k =   18    layer10.weight\n",
      "index, k =   19    layer10.bias\n",
      "index, k =   20    layer11.weight\n",
      "index, k =   21    layer11.bias\n",
      "index, k =   22    layer12new.weight\n",
      "index, k =   23    layer12new.bias\n",
      "index, k =   24    conv1.weight\n",
      "index, k =   25    conv1.bias\n",
      "index, k =   26    conv2.weight\n",
      "index, k =   27    conv2.bias\n",
      "index, k =   28    fc1.weight\n",
      "index, k =   29    fc1.bias\n",
      "index, k =   30    finalFilter.weight\n",
      "index, k =   31    finalFilter.bias\n",
      "dict_name =  ML/25December__DDplus_loss_Ba_iter5_floatAll_800epochs_5em6/25December__DDplus_loss_Ba_iter5_floatAll_800epochs_5em6_final.pyt\n",
      " \n",
      "  for pretrained_dict\n",
      "index, k =   0    layer1.weight\n",
      "index, k =   1    layer1.bias\n",
      "index, k =   2    layer2.weight\n",
      "index, k =   3    layer2.bias\n",
      "index, k =   4    layer3.weight\n",
      "index, k =   5    layer3.bias\n",
      "index, k =   6    layer4.weight\n",
      "index, k =   7    layer4.bias\n",
      "index, k =   8    layer5.weight\n",
      "index, k =   9    layer5.bias\n",
      "index, k =   10    layer6.weight\n",
      "index, k =   11    layer6.bias\n",
      "index, k =   12    layer7.weight\n",
      "index, k =   13    layer7.bias\n",
      "index, k =   14    layer8.weight\n",
      "index, k =   15    layer8.bias\n",
      "index, k =   16    layer9.weight\n",
      "index, k =   17    layer9.bias\n",
      "index, k =   18    layer10.weight\n",
      "index, k =   19    layer10.bias\n",
      "index, k =   20    layer11.weight\n",
      "index, k =   21    layer11.bias\n",
      "index, k =   22    layer12new.weight\n",
      "index, k =   23    layer12new.bias\n",
      "index, k =   24    conv1.weight\n",
      "index, k =   25    conv1.bias\n",
      "index, k =   26    conv2.weight\n",
      "index, k =   27    conv2.bias\n",
      "index, k =   28    fc1.weight\n",
      "index, k =   29    fc1.bias\n",
      "index, k =   30    finalFilter.weight\n",
      "index, k =   31    finalFilter.bias\n",
      "pretrained_dict iterated\n"
     ]
    },
    {
     "data": {
      "text/plain": [
       "<All keys matched successfully>"
      ]
     },
     "execution_count": 13,
     "metadata": {},
     "output_type": "execute_result"
    }
   ],
   "source": [
    "print('output = ',output)\n",
    "##print('oldOutput = ',oldOutput)\n",
    "##  use the first four layers from a pre-existing model\n",
    "##  see example at https://discuss.pytorch.org/t/how-to-load-part-of-pre-trained-model/1113\n",
    "\n",
    "##   ML -> /share/lazy/sokoloff/ML\n",
    "model_dict = model.state_dict()\n",
    "## mds 190725 for debugging\n",
    "print(\"for model_dict\")\n",
    "index = 0\n",
    "for k,v in model_dict.items():\n",
    "    print(\"index, k =  \",index,\"  \",k)\n",
    "    index = index+1\n",
    "##    print(\"value = \", v)\n",
    " \n",
    "updated_dict = model_dict\n",
    "##print(\"updated_dict = \",updated_dict)\n",
    "## when starting \"ab initio\", reduce biases as the bias gets summed for each track\n",
    "## contributing to the predicted KDE\n",
    "updated_dict[\"layer1.bias\"] = 0.005*model_dict[\"layer1.bias\"]\n",
    "updated_dict[\"layer2.bias\"] = 0.005*model_dict[\"layer2.bias\"]\n",
    "updated_dict[\"layer3.bias\"] = 0.005*model_dict[\"layer3.bias\"]\n",
    "updated_dict[\"layer4.bias\"] = 0.005*model_dict[\"layer4.bias\"]\n",
    "updated_dict[\"layer5.bias\"] = 0.005*model_dict[\"layer5.bias\"]\n",
    "updated_dict[\"layer6.bias\"] = 0.005*model_dict[\"layer6.bias\"]\n",
    "updated_dict[\"layer7.bias\"] = 0.005*model_dict[\"layer7.bias\"]\n",
    "updated_dict[\"layer8.bias\"] = 0.005*model_dict[\"layer8.bias\"]\n",
    "updated_dict[\"layer9.bias\"] = 0.005*model_dict[\"layer9.bias\"]\n",
    "updated_dict[\"layer10.bias\"] = 0.005*model_dict[\"layer10.bias\"]\n",
    "updated_dict[\"layer11.bias\"] = 0.005*model_dict[\"layer11.bias\"]\n",
    "\n",
    "model.load_state_dict(updated_dict,strict=False)\n",
    "\n",
    "model_dict = model.state_dict()\n",
    "##print(\"updated model_dict = \",model_dict)\n",
    "\n",
    "## print(\" \\n\",\"  for pretrained_dict\")\n",
    "## index = 0\n",
    "##for k,v in pretrained_dict.items():\n",
    "##    print(\"index, k =  \",index,\"  \",k)\n",
    "##    index = index+1\n",
    "## mds  \n",
    "\n",
    "##pretrained_dict = torch.load('ML/29July2020_Trks_to_KDE_C_lossB_100epochs_b64_1m3_nOut_50x50/29July2020_Trks_to_KDE_C_lossB_100epochs_b64_1m3_nOut_50x50_final.pyt')\n",
    "##print(\"model_dict instantiated\")\n",
    "# 1. filter out unnecessary keys\n",
    "##pretrained_dict = {k: v for k, v in pretrained_dict.items() if k in model_dict}\n",
    "##print(\"pretrained_dict iterated\")\n",
    "# 2. overwrite entries in the existing state dict\n",
    "##model_dict.update(pretrained_dict) \n",
    "##\n",
    "#   when starting from a model with a fully connected last layer rather than a convolutional layer\n",
    "# 3. load the new state dict\n",
    "#   need to use strict=False as the two models state model attributes do not agree exactly\n",
    "#   see https://pytorch.org/docs/master/_modules/torch/nn/modules/module.html#Module.load_state_dict\n",
    "\n",
    "##model.load_state_dict(pretrained_dict,strict=False)\n",
    "\n",
    "## print('model_dict =    ', model_dict)\n",
    "\n",
    "## finished at training cost = 1.46, validation cost = 1.50\n",
    "d_folder = '25December__DDplus_loss_Ba_iter5_floatAll_800epochs_5em6'\n",
    "d_name = d_folder\n",
    "suffix = 'final'\n",
    "dict_name = 'ML/' + d_folder + '/' + d_name + '_'+ suffix + '.pyt'\n",
    "print('dict_name = ',dict_name)\n",
    "pretrained_dict = torch.load(dict_name)\n",
    "\n",
    "print(\" \")\n",
    "print(\"  for pretrained_dict\")\n",
    "index = 0\n",
    "for k,v in pretrained_dict.items():\n",
    "    print(\"index, k =  \",index,\"  \",k)\n",
    "    index = index+1\n",
    " \n",
    "\n",
    "##print(\"model_dict instantiated\")\n",
    "# 1. filter out unnecessary keys\n",
    "pretrained_dict = {k: v for k, v in pretrained_dict.items() if k in model_dict}\n",
    "print(\"pretrained_dict iterated\")\n",
    "# 2. overwrite entries in the existing state dict\n",
    "model_dict.update(pretrained_dict) \n",
    "##\n",
    "#   when starting from a model with a fully connected last layer rather than a convolutional layer\n",
    "# 3. load the new state dict\n",
    "#   need to use strict=False as the two models state model attributes do not agree exactly\n",
    "#   see https://pytorch.org/docs/master/_modules/torch/nn/modules/module.html#Module.load_state_dict\n",
    "\n",
    "model.load_state_dict(pretrained_dict,strict=False)\n",
    "\n"
   ]
  },
  {
   "cell_type": "code",
   "execution_count": 14,
   "metadata": {},
   "outputs": [],
   "source": [
    "##print('validation.dataset.tensors = ',validation.dataset.tensors)\n",
    "fig_size = plt.rcParams[\"figure.figsize\"]\n",
    "fig_size[0] = 10\n",
    "fig_size[1] = 4\n",
    "plt.rcParams[\"figure.figsize\"] = fig_size"
   ]
  },
  {
   "cell_type": "code",
   "execution_count": 15,
   "metadata": {
    "scrolled": false
   },
   "outputs": [
    {
     "name": "stdout",
     "output_type": "stream",
     "text": [
      "Loading data...\n",
      "pocaMx.shape =  (20000,)\n",
      "nEvts =  20000\n",
      "len(pocaMx[0]) =  211\n",
      "len(pocaMx[1]) =  21\n",
      "len(pocaMx[2]) =  20\n",
      "len(pocaMx[3]) =  198\n",
      "len(pocaMx[4]) =  233\n",
      "majorAxis.shape =  (20000, 3)\n",
      "minorAxis_1.shape =  (20000, 3)\n",
      "minorAxis_2.shape =  (20000, 3)\n",
      "have entered six_ellipsoid_parameters\n",
      "  \n",
      " \n",
      "  nEvts =  20000\n",
      " iEvt, nTrks =  0 211\n",
      " iEvt, nTrks =  1 21\n",
      " iEvt, nTrks =  2 20\n",
      " iEvt, nTrks =  3 198\n",
      " iEvt, nTrks =  4 233\n",
      " iEvt, nTrks =  5 85\n",
      " iEvt, nTrks =  6 223\n",
      " iEvt, nTrks =  7 425\n",
      " iEvt, nTrks =  8 252\n",
      " iEvt, nTrks =  9 169\n",
      "A.shape =  (20000,)\n",
      "majorAxis[iTrk][0][0] =  -0.00023452607\n",
      "majorAxis[iTrk][1][0] =  -0.00047206535\n",
      "majorAxis[iTrk][2][0] =  0.096502915\n",
      "minorAxis_1[iTrk][0][0] =  -15.822749\n",
      "minorAxis_1[iTrk][1][0] =  7.8608756\n",
      "minorAxis_1[iTrk][2][0] =  -2.6228399e-08\n",
      "minorAxis_2[iTrk][0][0] =  7.860759\n",
      "minorAxis_2[iTrk][1][0] =  15.822513\n",
      "minorAxis_2[iTrk][2][0] =  0.096502915\n",
      "  \n",
      "majorAxis[iTrk][0][0] =  -0.37655562\n",
      "majorAxis[iTrk][1][0] =  0.2768704\n",
      "majorAxis[iTrk][2][0] =  2.8546858\n",
      "minorAxis_1[iTrk][0][0] =  -10.466048\n",
      "minorAxis_1[iTrk][1][0] =  -14.234274\n",
      "minorAxis_1[iTrk][2][0] =  2.2974699e-11\n",
      "minorAxis_2[iTrk][0][0] =  -14.04724\n",
      "minorAxis_2[iTrk][1][0] =  10.328527\n",
      "minorAxis_2[iTrk][2][0] =  -2.8546853\n",
      "  \n",
      "majorAxis[iTrk][0][0] =  -0.024279848\n",
      "majorAxis[iTrk][1][0] =  0.0019689242\n",
      "majorAxis[iTrk][2][0] =  0.65580803\n",
      "minorAxis_1[iTrk][0][0] =  -1.4280497\n",
      "minorAxis_1[iTrk][1][0] =  -17.610037\n",
      "minorAxis_1[iTrk][2][0] =  -6.123401e-10\n",
      "minorAxis_2[iTrk][0][0] =  -17.597902\n",
      "minorAxis_2[iTrk][1][0] =  1.4270656\n",
      "minorAxis_2[iTrk][2][0] =  -0.6558081\n",
      "  \n",
      "majorAxis[iTrk][0][0] =  -0.007825993\n",
      "majorAxis[iTrk][1][0] =  0.004052097\n",
      "majorAxis[iTrk][2][0] =  0.3945435\n",
      "minorAxis_1[iTrk][0][0] =  8.123606\n",
      "minorAxis_1[iTrk][1][0] =  15.689478\n",
      "minorAxis_1[iTrk][2][0] =  -2.4940747e-10\n",
      "minorAxis_2[iTrk][0][0] =  15.685566\n",
      "minorAxis_2[iTrk][1][0] =  -8.12158\n",
      "minorAxis_2[iTrk][2][0] =  0.3945435\n",
      "  \n",
      "majorAxis[iTrk][0][0] =  0.0046102717\n",
      "majorAxis[iTrk][1][0] =  -0.0016007021\n",
      "majorAxis[iTrk][2][0] =  0.29361814\n",
      "minorAxis_1[iTrk][0][0] =  -5.794979\n",
      "minorAxis_1[iTrk][1][0] =  -16.690445\n",
      "minorAxis_1[iTrk][2][0] =  2.4897104e-09\n",
      "minorAxis_2[iTrk][0][0] =  -16.688139\n",
      "minorAxis_2[iTrk][1][0] =  5.794179\n",
      "minorAxis_2[iTrk][2][0] =  0.2936181\n",
      "  \n",
      "majorAxis[iTrk][0][0] =  -0.00020041714\n",
      "majorAxis[iTrk][1][0] =  0.00010468164\n",
      "majorAxis[iTrk][2][0] =  0.06320469\n",
      "minorAxis_1[iTrk][0][0] =  8.179679\n",
      "minorAxis_1[iTrk][1][0] =  15.660318\n",
      "minorAxis_1[iTrk][2][0] =  7.40176e-08\n",
      "minorAxis_2[iTrk][0][0] =  15.660218\n",
      "minorAxis_2[iTrk][1][0] =  -8.179626\n",
      "minorAxis_2[iTrk][2][0] =  0.06320469\n",
      "  \n",
      "majorAxis[iTrk][0][0] =  -0.00020603223\n",
      "majorAxis[iTrk][1][0] =  -0.0005662605\n",
      "majorAxis[iTrk][2][0] =  0.10317981\n",
      "minorAxis_1[iTrk][0][0] =  -16.603\n",
      "minorAxis_1[iTrk][1][0] =  6.040953\n",
      "minorAxis_1[iTrk][2][0] =  4.5812504e-07\n",
      "minorAxis_2[iTrk][0][0] =  6.0408506\n",
      "minorAxis_2[iTrk][1][0] =  16.602718\n",
      "minorAxis_2[iTrk][2][0] =  0.10317982\n",
      "  \n",
      "majorAxis[iTrk][0][0] =  -0.00040561036\n",
      "majorAxis[iTrk][1][0] =  0.00014461782\n",
      "majorAxis[iTrk][2][0] =  0.0872241\n",
      "minorAxis_1[iTrk][0][0] =  -5.933496\n",
      "minorAxis_1[iTrk][1][0] =  -16.641706\n",
      "minorAxis_1[iTrk][2][0] =  1.0720762e-08\n",
      "minorAxis_2[iTrk][0][0] =  -16.641502\n",
      "minorAxis_2[iTrk][1][0] =  5.9334235\n",
      "minorAxis_2[iTrk][2][0] =  -0.0872241\n",
      "  \n",
      "majorAxis[iTrk][0][0] =  0.00038461428\n",
      "majorAxis[iTrk][1][0] =  -3.4232737e-05\n",
      "majorAxis[iTrk][2][0] =  0.08259597\n",
      "minorAxis_1[iTrk][0][0] =  -1.5663412\n",
      "minorAxis_1[iTrk][1][0] =  -17.598276\n",
      "minorAxis_1[iTrk][2][0] =  3.2106848e-07\n",
      "minorAxis_2[iTrk][0][0] =  -17.598082\n",
      "minorAxis_2[iTrk][1][0] =  1.5663238\n",
      "minorAxis_2[iTrk][2][0] =  0.08259596\n",
      "  \n",
      "majorAxis[iTrk][0][0] =  -0.022277953\n",
      "majorAxis[iTrk][1][0] =  -0.0046837274\n",
      "majorAxis[iTrk][2][0] =  0.63399464\n",
      "minorAxis_1[iTrk][0][0] =  -3.6350286\n",
      "minorAxis_1[iTrk][1][0] =  17.289862\n",
      "minorAxis_1[iTrk][2][0] =  9.566169e-10\n",
      "minorAxis_2[iTrk][0][0] =  17.278727\n",
      "minorAxis_2[iTrk][1][0] =  3.6326876\n",
      "minorAxis_2[iTrk][2][0] =  0.6339946\n",
      "  \n",
      "len(X) =  20000\n",
      "len(Xlist) =  1\n",
      "Loaded dataAA/20K_POCA_kernel_evts_200926.h5 in 29.02 s\n",
      "outer loop X.shape =  (20000, 9, 600)\n",
      "Constructing 18000 event dataset took 0.0578 s\n",
      "x_t.shape =  torch.Size([18000, 9, 600])\n",
      "x_t.shape[0] =  18000\n",
      "x_t.shape[1] =  9\n",
      "x_t.shape =  torch.Size([18000, 9, 600])\n",
      "Loading data...\n",
      "pocaMx.shape =  (20000,)\n",
      "nEvts =  20000\n",
      "len(pocaMx[0]) =  211\n",
      "len(pocaMx[1]) =  21\n",
      "len(pocaMx[2]) =  20\n",
      "len(pocaMx[3]) =  198\n",
      "len(pocaMx[4]) =  233\n",
      "majorAxis.shape =  (20000, 3)\n",
      "minorAxis_1.shape =  (20000, 3)\n",
      "minorAxis_2.shape =  (20000, 3)\n",
      "have entered six_ellipsoid_parameters\n",
      "  \n",
      " \n",
      "  nEvts =  20000\n",
      " iEvt, nTrks =  0 211\n",
      " iEvt, nTrks =  1 21\n",
      " iEvt, nTrks =  2 20\n",
      " iEvt, nTrks =  3 198\n",
      " iEvt, nTrks =  4 233\n",
      " iEvt, nTrks =  5 85\n",
      " iEvt, nTrks =  6 223\n",
      " iEvt, nTrks =  7 425\n",
      " iEvt, nTrks =  8 252\n",
      " iEvt, nTrks =  9 169\n",
      "A.shape =  (20000,)\n",
      "majorAxis[iTrk][0][0] =  -0.00023452607\n",
      "majorAxis[iTrk][1][0] =  -0.00047206535\n",
      "majorAxis[iTrk][2][0] =  0.096502915\n",
      "minorAxis_1[iTrk][0][0] =  -15.822749\n",
      "minorAxis_1[iTrk][1][0] =  7.8608756\n",
      "minorAxis_1[iTrk][2][0] =  -2.6228399e-08\n",
      "minorAxis_2[iTrk][0][0] =  7.860759\n",
      "minorAxis_2[iTrk][1][0] =  15.822513\n",
      "minorAxis_2[iTrk][2][0] =  0.096502915\n",
      "  \n",
      "majorAxis[iTrk][0][0] =  -0.37655562\n",
      "majorAxis[iTrk][1][0] =  0.2768704\n",
      "majorAxis[iTrk][2][0] =  2.8546858\n",
      "minorAxis_1[iTrk][0][0] =  -10.466048\n",
      "minorAxis_1[iTrk][1][0] =  -14.234274\n",
      "minorAxis_1[iTrk][2][0] =  2.2974699e-11\n",
      "minorAxis_2[iTrk][0][0] =  -14.04724\n",
      "minorAxis_2[iTrk][1][0] =  10.328527\n",
      "minorAxis_2[iTrk][2][0] =  -2.8546853\n",
      "  \n",
      "majorAxis[iTrk][0][0] =  -0.024279848\n",
      "majorAxis[iTrk][1][0] =  0.0019689242\n",
      "majorAxis[iTrk][2][0] =  0.65580803\n",
      "minorAxis_1[iTrk][0][0] =  -1.4280497\n",
      "minorAxis_1[iTrk][1][0] =  -17.610037\n",
      "minorAxis_1[iTrk][2][0] =  -6.123401e-10\n",
      "minorAxis_2[iTrk][0][0] =  -17.597902\n",
      "minorAxis_2[iTrk][1][0] =  1.4270656\n",
      "minorAxis_2[iTrk][2][0] =  -0.6558081\n",
      "  \n",
      "majorAxis[iTrk][0][0] =  -0.007825993\n",
      "majorAxis[iTrk][1][0] =  0.004052097\n",
      "majorAxis[iTrk][2][0] =  0.3945435\n",
      "minorAxis_1[iTrk][0][0] =  8.123606\n",
      "minorAxis_1[iTrk][1][0] =  15.689478\n",
      "minorAxis_1[iTrk][2][0] =  -2.4940747e-10\n",
      "minorAxis_2[iTrk][0][0] =  15.685566\n",
      "minorAxis_2[iTrk][1][0] =  -8.12158\n",
      "minorAxis_2[iTrk][2][0] =  0.3945435\n",
      "  \n",
      "majorAxis[iTrk][0][0] =  0.0046102717\n",
      "majorAxis[iTrk][1][0] =  -0.0016007021\n",
      "majorAxis[iTrk][2][0] =  0.29361814\n",
      "minorAxis_1[iTrk][0][0] =  -5.794979\n",
      "minorAxis_1[iTrk][1][0] =  -16.690445\n",
      "minorAxis_1[iTrk][2][0] =  2.4897104e-09\n",
      "minorAxis_2[iTrk][0][0] =  -16.688139\n",
      "minorAxis_2[iTrk][1][0] =  5.794179\n",
      "minorAxis_2[iTrk][2][0] =  0.2936181\n",
      "  \n",
      "majorAxis[iTrk][0][0] =  -0.00020041714\n",
      "majorAxis[iTrk][1][0] =  0.00010468164\n",
      "majorAxis[iTrk][2][0] =  0.06320469\n",
      "minorAxis_1[iTrk][0][0] =  8.179679\n",
      "minorAxis_1[iTrk][1][0] =  15.660318\n",
      "minorAxis_1[iTrk][2][0] =  7.40176e-08\n",
      "minorAxis_2[iTrk][0][0] =  15.660218\n",
      "minorAxis_2[iTrk][1][0] =  -8.179626\n",
      "minorAxis_2[iTrk][2][0] =  0.06320469\n",
      "  \n",
      "majorAxis[iTrk][0][0] =  -0.00020603223\n",
      "majorAxis[iTrk][1][0] =  -0.0005662605\n",
      "majorAxis[iTrk][2][0] =  0.10317981\n",
      "minorAxis_1[iTrk][0][0] =  -16.603\n",
      "minorAxis_1[iTrk][1][0] =  6.040953\n",
      "minorAxis_1[iTrk][2][0] =  4.5812504e-07\n",
      "minorAxis_2[iTrk][0][0] =  6.0408506\n",
      "minorAxis_2[iTrk][1][0] =  16.602718\n",
      "minorAxis_2[iTrk][2][0] =  0.10317982\n",
      "  \n",
      "majorAxis[iTrk][0][0] =  -0.00040561036\n",
      "majorAxis[iTrk][1][0] =  0.00014461782\n",
      "majorAxis[iTrk][2][0] =  0.0872241\n",
      "minorAxis_1[iTrk][0][0] =  -5.933496\n",
      "minorAxis_1[iTrk][1][0] =  -16.641706\n",
      "minorAxis_1[iTrk][2][0] =  1.0720762e-08\n",
      "minorAxis_2[iTrk][0][0] =  -16.641502\n",
      "minorAxis_2[iTrk][1][0] =  5.9334235\n",
      "minorAxis_2[iTrk][2][0] =  -0.0872241\n",
      "  \n",
      "majorAxis[iTrk][0][0] =  0.00038461428\n",
      "majorAxis[iTrk][1][0] =  -3.4232737e-05\n",
      "majorAxis[iTrk][2][0] =  0.08259597\n",
      "minorAxis_1[iTrk][0][0] =  -1.5663412\n",
      "minorAxis_1[iTrk][1][0] =  -17.598276\n",
      "minorAxis_1[iTrk][2][0] =  3.2106848e-07\n",
      "minorAxis_2[iTrk][0][0] =  -17.598082\n",
      "minorAxis_2[iTrk][1][0] =  1.5663238\n",
      "minorAxis_2[iTrk][2][0] =  0.08259596\n",
      "  \n",
      "majorAxis[iTrk][0][0] =  -0.022277953\n",
      "majorAxis[iTrk][1][0] =  -0.0046837274\n",
      "majorAxis[iTrk][2][0] =  0.63399464\n",
      "minorAxis_1[iTrk][0][0] =  -3.6350286\n",
      "minorAxis_1[iTrk][1][0] =  17.289862\n",
      "minorAxis_1[iTrk][2][0] =  9.566169e-10\n",
      "minorAxis_2[iTrk][0][0] =  17.278727\n",
      "minorAxis_2[iTrk][1][0] =  3.6326876\n",
      "minorAxis_2[iTrk][2][0] =  0.6339946\n",
      "  \n"
     ]
    },
    {
     "name": "stdout",
     "output_type": "stream",
     "text": [
      "len(X) =  20000\n",
      "len(Xlist) =  1\n",
      "Loaded dataAA/20K_POCA_kernel_evts_200926.h5 in 29.12 s\n",
      "outer loop X.shape =  (20000, 9, 600)\n",
      "Constructing 2000 event dataset took 0.01584 s\n",
      "x_t.shape =  torch.Size([2000, 9, 600])\n",
      "x_t.shape[0] =  2000\n",
      "x_t.shape[1] =  9\n",
      "x_t.shape =  torch.Size([2000, 9, 600])\n"
     ]
    }
   ],
   "source": [
    "\n",
    "## Training dataset. You can put as many files here as desired.\n",
    "\n",
    "##train_loader = collect_t2kde_data('/share/lazy/pv-finder/20k_evts_for_KDE_learning_200716.h5',\n",
    "train_loader = collect_t2kde_data('dataAA/20K_POCA_kernel_evts_200926.h5',\n",
    "##train_loader = collect_t2kde_data('/share/lazy/pv-finder/test_data_for_KDE_learning_BastilleDay20.h5',\n",
    "                            batch_size=batch_size,\n",
    "## if we are using a larger dataset (240K events, with the datasets above, and 11 GB  of GPU memory),\n",
    "## the dataset will overflow the GPU memory; device=device will allow the data to move back\n",
    "## and forth between the CPU and GPU memory. While this allows use of a larger dataset, it slows\n",
    "## down performance by about 10%.  So comment out when not needed.\n",
    "##                          device=device,\n",
    "                           slice = slice(None,18000)\n",
    "                           )\n",
    "                            \n",
    "# Validation dataset. You can slice to reduce the size.\n",
    "## mds no separate validation set yet,\n",
    "val_loader = collect_t2kde_data('dataAA/20K_POCA_kernel_evts_200926.h5',\n",
    "                            batch_size=batch_size,\n",
    "##                            device=device,\n",
    "                            slice = slice(18000,None)\n",
    "                           )\n"
   ]
  },
  {
   "cell_type": "code",
   "execution_count": 16,
   "metadata": {
    "scrolled": false
   },
   "outputs": [
    {
     "data": {
      "application/javascript": [
       "/* Put everything inside the global mpl namespace */\n",
       "window.mpl = {};\n",
       "\n",
       "\n",
       "mpl.get_websocket_type = function() {\n",
       "    if (typeof(WebSocket) !== 'undefined') {\n",
       "        return WebSocket;\n",
       "    } else if (typeof(MozWebSocket) !== 'undefined') {\n",
       "        return MozWebSocket;\n",
       "    } else {\n",
       "        alert('Your browser does not have WebSocket support. ' +\n",
       "              'Please try Chrome, Safari or Firefox ≥ 6. ' +\n",
       "              'Firefox 4 and 5 are also supported but you ' +\n",
       "              'have to enable WebSockets in about:config.');\n",
       "    };\n",
       "}\n",
       "\n",
       "mpl.figure = function(figure_id, websocket, ondownload, parent_element) {\n",
       "    this.id = figure_id;\n",
       "\n",
       "    this.ws = websocket;\n",
       "\n",
       "    this.supports_binary = (this.ws.binaryType != undefined);\n",
       "\n",
       "    if (!this.supports_binary) {\n",
       "        var warnings = document.getElementById(\"mpl-warnings\");\n",
       "        if (warnings) {\n",
       "            warnings.style.display = 'block';\n",
       "            warnings.textContent = (\n",
       "                \"This browser does not support binary websocket messages. \" +\n",
       "                    \"Performance may be slow.\");\n",
       "        }\n",
       "    }\n",
       "\n",
       "    this.imageObj = new Image();\n",
       "\n",
       "    this.context = undefined;\n",
       "    this.message = undefined;\n",
       "    this.canvas = undefined;\n",
       "    this.rubberband_canvas = undefined;\n",
       "    this.rubberband_context = undefined;\n",
       "    this.format_dropdown = undefined;\n",
       "\n",
       "    this.image_mode = 'full';\n",
       "\n",
       "    this.root = $('<div/>');\n",
       "    this._root_extra_style(this.root)\n",
       "    this.root.attr('style', 'display: inline-block');\n",
       "\n",
       "    $(parent_element).append(this.root);\n",
       "\n",
       "    this._init_header(this);\n",
       "    this._init_canvas(this);\n",
       "    this._init_toolbar(this);\n",
       "\n",
       "    var fig = this;\n",
       "\n",
       "    this.waiting = false;\n",
       "\n",
       "    this.ws.onopen =  function () {\n",
       "            fig.send_message(\"supports_binary\", {value: fig.supports_binary});\n",
       "            fig.send_message(\"send_image_mode\", {});\n",
       "            if (mpl.ratio != 1) {\n",
       "                fig.send_message(\"set_dpi_ratio\", {'dpi_ratio': mpl.ratio});\n",
       "            }\n",
       "            fig.send_message(\"refresh\", {});\n",
       "        }\n",
       "\n",
       "    this.imageObj.onload = function() {\n",
       "            if (fig.image_mode == 'full') {\n",
       "                // Full images could contain transparency (where diff images\n",
       "                // almost always do), so we need to clear the canvas so that\n",
       "                // there is no ghosting.\n",
       "                fig.context.clearRect(0, 0, fig.canvas.width, fig.canvas.height);\n",
       "            }\n",
       "            fig.context.drawImage(fig.imageObj, 0, 0);\n",
       "        };\n",
       "\n",
       "    this.imageObj.onunload = function() {\n",
       "        fig.ws.close();\n",
       "    }\n",
       "\n",
       "    this.ws.onmessage = this._make_on_message_function(this);\n",
       "\n",
       "    this.ondownload = ondownload;\n",
       "}\n",
       "\n",
       "mpl.figure.prototype._init_header = function() {\n",
       "    var titlebar = $(\n",
       "        '<div class=\"ui-dialog-titlebar ui-widget-header ui-corner-all ' +\n",
       "        'ui-helper-clearfix\"/>');\n",
       "    var titletext = $(\n",
       "        '<div class=\"ui-dialog-title\" style=\"width: 100%; ' +\n",
       "        'text-align: center; padding: 3px;\"/>');\n",
       "    titlebar.append(titletext)\n",
       "    this.root.append(titlebar);\n",
       "    this.header = titletext[0];\n",
       "}\n",
       "\n",
       "\n",
       "\n",
       "mpl.figure.prototype._canvas_extra_style = function(canvas_div) {\n",
       "\n",
       "}\n",
       "\n",
       "\n",
       "mpl.figure.prototype._root_extra_style = function(canvas_div) {\n",
       "\n",
       "}\n",
       "\n",
       "mpl.figure.prototype._init_canvas = function() {\n",
       "    var fig = this;\n",
       "\n",
       "    var canvas_div = $('<div/>');\n",
       "\n",
       "    canvas_div.attr('style', 'position: relative; clear: both; outline: 0');\n",
       "\n",
       "    function canvas_keyboard_event(event) {\n",
       "        return fig.key_event(event, event['data']);\n",
       "    }\n",
       "\n",
       "    canvas_div.keydown('key_press', canvas_keyboard_event);\n",
       "    canvas_div.keyup('key_release', canvas_keyboard_event);\n",
       "    this.canvas_div = canvas_div\n",
       "    this._canvas_extra_style(canvas_div)\n",
       "    this.root.append(canvas_div);\n",
       "\n",
       "    var canvas = $('<canvas/>');\n",
       "    canvas.addClass('mpl-canvas');\n",
       "    canvas.attr('style', \"left: 0; top: 0; z-index: 0; outline: 0\")\n",
       "\n",
       "    this.canvas = canvas[0];\n",
       "    this.context = canvas[0].getContext(\"2d\");\n",
       "\n",
       "    var backingStore = this.context.backingStorePixelRatio ||\n",
       "\tthis.context.webkitBackingStorePixelRatio ||\n",
       "\tthis.context.mozBackingStorePixelRatio ||\n",
       "\tthis.context.msBackingStorePixelRatio ||\n",
       "\tthis.context.oBackingStorePixelRatio ||\n",
       "\tthis.context.backingStorePixelRatio || 1;\n",
       "\n",
       "    mpl.ratio = (window.devicePixelRatio || 1) / backingStore;\n",
       "\n",
       "    var rubberband = $('<canvas/>');\n",
       "    rubberband.attr('style', \"position: absolute; left: 0; top: 0; z-index: 1;\")\n",
       "\n",
       "    var pass_mouse_events = true;\n",
       "\n",
       "    canvas_div.resizable({\n",
       "        start: function(event, ui) {\n",
       "            pass_mouse_events = false;\n",
       "        },\n",
       "        resize: function(event, ui) {\n",
       "            fig.request_resize(ui.size.width, ui.size.height);\n",
       "        },\n",
       "        stop: function(event, ui) {\n",
       "            pass_mouse_events = true;\n",
       "            fig.request_resize(ui.size.width, ui.size.height);\n",
       "        },\n",
       "    });\n",
       "\n",
       "    function mouse_event_fn(event) {\n",
       "        if (pass_mouse_events)\n",
       "            return fig.mouse_event(event, event['data']);\n",
       "    }\n",
       "\n",
       "    rubberband.mousedown('button_press', mouse_event_fn);\n",
       "    rubberband.mouseup('button_release', mouse_event_fn);\n",
       "    // Throttle sequential mouse events to 1 every 20ms.\n",
       "    rubberband.mousemove('motion_notify', mouse_event_fn);\n",
       "\n",
       "    rubberband.mouseenter('figure_enter', mouse_event_fn);\n",
       "    rubberband.mouseleave('figure_leave', mouse_event_fn);\n",
       "\n",
       "    canvas_div.on(\"wheel\", function (event) {\n",
       "        event = event.originalEvent;\n",
       "        event['data'] = 'scroll'\n",
       "        if (event.deltaY < 0) {\n",
       "            event.step = 1;\n",
       "        } else {\n",
       "            event.step = -1;\n",
       "        }\n",
       "        mouse_event_fn(event);\n",
       "    });\n",
       "\n",
       "    canvas_div.append(canvas);\n",
       "    canvas_div.append(rubberband);\n",
       "\n",
       "    this.rubberband = rubberband;\n",
       "    this.rubberband_canvas = rubberband[0];\n",
       "    this.rubberband_context = rubberband[0].getContext(\"2d\");\n",
       "    this.rubberband_context.strokeStyle = \"#000000\";\n",
       "\n",
       "    this._resize_canvas = function(width, height) {\n",
       "        // Keep the size of the canvas, canvas container, and rubber band\n",
       "        // canvas in synch.\n",
       "        canvas_div.css('width', width)\n",
       "        canvas_div.css('height', height)\n",
       "\n",
       "        canvas.attr('width', width * mpl.ratio);\n",
       "        canvas.attr('height', height * mpl.ratio);\n",
       "        canvas.attr('style', 'width: ' + width + 'px; height: ' + height + 'px;');\n",
       "\n",
       "        rubberband.attr('width', width);\n",
       "        rubberband.attr('height', height);\n",
       "    }\n",
       "\n",
       "    // Set the figure to an initial 600x600px, this will subsequently be updated\n",
       "    // upon first draw.\n",
       "    this._resize_canvas(600, 600);\n",
       "\n",
       "    // Disable right mouse context menu.\n",
       "    $(this.rubberband_canvas).bind(\"contextmenu\",function(e){\n",
       "        return false;\n",
       "    });\n",
       "\n",
       "    function set_focus () {\n",
       "        canvas.focus();\n",
       "        canvas_div.focus();\n",
       "    }\n",
       "\n",
       "    window.setTimeout(set_focus, 100);\n",
       "}\n",
       "\n",
       "mpl.figure.prototype._init_toolbar = function() {\n",
       "    var fig = this;\n",
       "\n",
       "    var nav_element = $('<div/>');\n",
       "    nav_element.attr('style', 'width: 100%');\n",
       "    this.root.append(nav_element);\n",
       "\n",
       "    // Define a callback function for later on.\n",
       "    function toolbar_event(event) {\n",
       "        return fig.toolbar_button_onclick(event['data']);\n",
       "    }\n",
       "    function toolbar_mouse_event(event) {\n",
       "        return fig.toolbar_button_onmouseover(event['data']);\n",
       "    }\n",
       "\n",
       "    for(var toolbar_ind in mpl.toolbar_items) {\n",
       "        var name = mpl.toolbar_items[toolbar_ind][0];\n",
       "        var tooltip = mpl.toolbar_items[toolbar_ind][1];\n",
       "        var image = mpl.toolbar_items[toolbar_ind][2];\n",
       "        var method_name = mpl.toolbar_items[toolbar_ind][3];\n",
       "\n",
       "        if (!name) {\n",
       "            // put a spacer in here.\n",
       "            continue;\n",
       "        }\n",
       "        var button = $('<button/>');\n",
       "        button.addClass('ui-button ui-widget ui-state-default ui-corner-all ' +\n",
       "                        'ui-button-icon-only');\n",
       "        button.attr('role', 'button');\n",
       "        button.attr('aria-disabled', 'false');\n",
       "        button.click(method_name, toolbar_event);\n",
       "        button.mouseover(tooltip, toolbar_mouse_event);\n",
       "\n",
       "        var icon_img = $('<span/>');\n",
       "        icon_img.addClass('ui-button-icon-primary ui-icon');\n",
       "        icon_img.addClass(image);\n",
       "        icon_img.addClass('ui-corner-all');\n",
       "\n",
       "        var tooltip_span = $('<span/>');\n",
       "        tooltip_span.addClass('ui-button-text');\n",
       "        tooltip_span.html(tooltip);\n",
       "\n",
       "        button.append(icon_img);\n",
       "        button.append(tooltip_span);\n",
       "\n",
       "        nav_element.append(button);\n",
       "    }\n",
       "\n",
       "    var fmt_picker_span = $('<span/>');\n",
       "\n",
       "    var fmt_picker = $('<select/>');\n",
       "    fmt_picker.addClass('mpl-toolbar-option ui-widget ui-widget-content');\n",
       "    fmt_picker_span.append(fmt_picker);\n",
       "    nav_element.append(fmt_picker_span);\n",
       "    this.format_dropdown = fmt_picker[0];\n",
       "\n",
       "    for (var ind in mpl.extensions) {\n",
       "        var fmt = mpl.extensions[ind];\n",
       "        var option = $(\n",
       "            '<option/>', {selected: fmt === mpl.default_extension}).html(fmt);\n",
       "        fmt_picker.append(option);\n",
       "    }\n",
       "\n",
       "    // Add hover states to the ui-buttons\n",
       "    $( \".ui-button\" ).hover(\n",
       "        function() { $(this).addClass(\"ui-state-hover\");},\n",
       "        function() { $(this).removeClass(\"ui-state-hover\");}\n",
       "    );\n",
       "\n",
       "    var status_bar = $('<span class=\"mpl-message\"/>');\n",
       "    nav_element.append(status_bar);\n",
       "    this.message = status_bar[0];\n",
       "}\n",
       "\n",
       "mpl.figure.prototype.request_resize = function(x_pixels, y_pixels) {\n",
       "    // Request matplotlib to resize the figure. Matplotlib will then trigger a resize in the client,\n",
       "    // which will in turn request a refresh of the image.\n",
       "    this.send_message('resize', {'width': x_pixels, 'height': y_pixels});\n",
       "}\n",
       "\n",
       "mpl.figure.prototype.send_message = function(type, properties) {\n",
       "    properties['type'] = type;\n",
       "    properties['figure_id'] = this.id;\n",
       "    this.ws.send(JSON.stringify(properties));\n",
       "}\n",
       "\n",
       "mpl.figure.prototype.send_draw_message = function() {\n",
       "    if (!this.waiting) {\n",
       "        this.waiting = true;\n",
       "        this.ws.send(JSON.stringify({type: \"draw\", figure_id: this.id}));\n",
       "    }\n",
       "}\n",
       "\n",
       "\n",
       "mpl.figure.prototype.handle_save = function(fig, msg) {\n",
       "    var format_dropdown = fig.format_dropdown;\n",
       "    var format = format_dropdown.options[format_dropdown.selectedIndex].value;\n",
       "    fig.ondownload(fig, format);\n",
       "}\n",
       "\n",
       "\n",
       "mpl.figure.prototype.handle_resize = function(fig, msg) {\n",
       "    var size = msg['size'];\n",
       "    if (size[0] != fig.canvas.width || size[1] != fig.canvas.height) {\n",
       "        fig._resize_canvas(size[0], size[1]);\n",
       "        fig.send_message(\"refresh\", {});\n",
       "    };\n",
       "}\n",
       "\n",
       "mpl.figure.prototype.handle_rubberband = function(fig, msg) {\n",
       "    var x0 = msg['x0'] / mpl.ratio;\n",
       "    var y0 = (fig.canvas.height - msg['y0']) / mpl.ratio;\n",
       "    var x1 = msg['x1'] / mpl.ratio;\n",
       "    var y1 = (fig.canvas.height - msg['y1']) / mpl.ratio;\n",
       "    x0 = Math.floor(x0) + 0.5;\n",
       "    y0 = Math.floor(y0) + 0.5;\n",
       "    x1 = Math.floor(x1) + 0.5;\n",
       "    y1 = Math.floor(y1) + 0.5;\n",
       "    var min_x = Math.min(x0, x1);\n",
       "    var min_y = Math.min(y0, y1);\n",
       "    var width = Math.abs(x1 - x0);\n",
       "    var height = Math.abs(y1 - y0);\n",
       "\n",
       "    fig.rubberband_context.clearRect(\n",
       "        0, 0, fig.canvas.width / mpl.ratio, fig.canvas.height / mpl.ratio);\n",
       "\n",
       "    fig.rubberband_context.strokeRect(min_x, min_y, width, height);\n",
       "}\n",
       "\n",
       "mpl.figure.prototype.handle_figure_label = function(fig, msg) {\n",
       "    // Updates the figure title.\n",
       "    fig.header.textContent = msg['label'];\n",
       "}\n",
       "\n",
       "mpl.figure.prototype.handle_cursor = function(fig, msg) {\n",
       "    var cursor = msg['cursor'];\n",
       "    switch(cursor)\n",
       "    {\n",
       "    case 0:\n",
       "        cursor = 'pointer';\n",
       "        break;\n",
       "    case 1:\n",
       "        cursor = 'default';\n",
       "        break;\n",
       "    case 2:\n",
       "        cursor = 'crosshair';\n",
       "        break;\n",
       "    case 3:\n",
       "        cursor = 'move';\n",
       "        break;\n",
       "    }\n",
       "    fig.rubberband_canvas.style.cursor = cursor;\n",
       "}\n",
       "\n",
       "mpl.figure.prototype.handle_message = function(fig, msg) {\n",
       "    fig.message.textContent = msg['message'];\n",
       "}\n",
       "\n",
       "mpl.figure.prototype.handle_draw = function(fig, msg) {\n",
       "    // Request the server to send over a new figure.\n",
       "    fig.send_draw_message();\n",
       "}\n",
       "\n",
       "mpl.figure.prototype.handle_image_mode = function(fig, msg) {\n",
       "    fig.image_mode = msg['mode'];\n",
       "}\n",
       "\n",
       "mpl.figure.prototype.updated_canvas_event = function() {\n",
       "    // Called whenever the canvas gets updated.\n",
       "    this.send_message(\"ack\", {});\n",
       "}\n",
       "\n",
       "// A function to construct a web socket function for onmessage handling.\n",
       "// Called in the figure constructor.\n",
       "mpl.figure.prototype._make_on_message_function = function(fig) {\n",
       "    return function socket_on_message(evt) {\n",
       "        if (evt.data instanceof Blob) {\n",
       "            /* FIXME: We get \"Resource interpreted as Image but\n",
       "             * transferred with MIME type text/plain:\" errors on\n",
       "             * Chrome.  But how to set the MIME type?  It doesn't seem\n",
       "             * to be part of the websocket stream */\n",
       "            evt.data.type = \"image/png\";\n",
       "\n",
       "            /* Free the memory for the previous frames */\n",
       "            if (fig.imageObj.src) {\n",
       "                (window.URL || window.webkitURL).revokeObjectURL(\n",
       "                    fig.imageObj.src);\n",
       "            }\n",
       "\n",
       "            fig.imageObj.src = (window.URL || window.webkitURL).createObjectURL(\n",
       "                evt.data);\n",
       "            fig.updated_canvas_event();\n",
       "            fig.waiting = false;\n",
       "            return;\n",
       "        }\n",
       "        else if (typeof evt.data === 'string' && evt.data.slice(0, 21) == \"data:image/png;base64\") {\n",
       "            fig.imageObj.src = evt.data;\n",
       "            fig.updated_canvas_event();\n",
       "            fig.waiting = false;\n",
       "            return;\n",
       "        }\n",
       "\n",
       "        var msg = JSON.parse(evt.data);\n",
       "        var msg_type = msg['type'];\n",
       "\n",
       "        // Call the  \"handle_{type}\" callback, which takes\n",
       "        // the figure and JSON message as its only arguments.\n",
       "        try {\n",
       "            var callback = fig[\"handle_\" + msg_type];\n",
       "        } catch (e) {\n",
       "            console.log(\"No handler for the '\" + msg_type + \"' message type: \", msg);\n",
       "            return;\n",
       "        }\n",
       "\n",
       "        if (callback) {\n",
       "            try {\n",
       "                // console.log(\"Handling '\" + msg_type + \"' message: \", msg);\n",
       "                callback(fig, msg);\n",
       "            } catch (e) {\n",
       "                console.log(\"Exception inside the 'handler_\" + msg_type + \"' callback:\", e, e.stack, msg);\n",
       "            }\n",
       "        }\n",
       "    };\n",
       "}\n",
       "\n",
       "// from http://stackoverflow.com/questions/1114465/getting-mouse-location-in-canvas\n",
       "mpl.findpos = function(e) {\n",
       "    //this section is from http://www.quirksmode.org/js/events_properties.html\n",
       "    var targ;\n",
       "    if (!e)\n",
       "        e = window.event;\n",
       "    if (e.target)\n",
       "        targ = e.target;\n",
       "    else if (e.srcElement)\n",
       "        targ = e.srcElement;\n",
       "    if (targ.nodeType == 3) // defeat Safari bug\n",
       "        targ = targ.parentNode;\n",
       "\n",
       "    // jQuery normalizes the pageX and pageY\n",
       "    // pageX,Y are the mouse positions relative to the document\n",
       "    // offset() returns the position of the element relative to the document\n",
       "    var x = e.pageX - $(targ).offset().left;\n",
       "    var y = e.pageY - $(targ).offset().top;\n",
       "\n",
       "    return {\"x\": x, \"y\": y};\n",
       "};\n",
       "\n",
       "/*\n",
       " * return a copy of an object with only non-object keys\n",
       " * we need this to avoid circular references\n",
       " * http://stackoverflow.com/a/24161582/3208463\n",
       " */\n",
       "function simpleKeys (original) {\n",
       "  return Object.keys(original).reduce(function (obj, key) {\n",
       "    if (typeof original[key] !== 'object')\n",
       "        obj[key] = original[key]\n",
       "    return obj;\n",
       "  }, {});\n",
       "}\n",
       "\n",
       "mpl.figure.prototype.mouse_event = function(event, name) {\n",
       "    var canvas_pos = mpl.findpos(event)\n",
       "\n",
       "    if (name === 'button_press')\n",
       "    {\n",
       "        this.canvas.focus();\n",
       "        this.canvas_div.focus();\n",
       "    }\n",
       "\n",
       "    var x = canvas_pos.x * mpl.ratio;\n",
       "    var y = canvas_pos.y * mpl.ratio;\n",
       "\n",
       "    this.send_message(name, {x: x, y: y, button: event.button,\n",
       "                             step: event.step,\n",
       "                             guiEvent: simpleKeys(event)});\n",
       "\n",
       "    /* This prevents the web browser from automatically changing to\n",
       "     * the text insertion cursor when the button is pressed.  We want\n",
       "     * to control all of the cursor setting manually through the\n",
       "     * 'cursor' event from matplotlib */\n",
       "    event.preventDefault();\n",
       "    return false;\n",
       "}\n",
       "\n",
       "mpl.figure.prototype._key_event_extra = function(event, name) {\n",
       "    // Handle any extra behaviour associated with a key event\n",
       "}\n",
       "\n",
       "mpl.figure.prototype.key_event = function(event, name) {\n",
       "\n",
       "    // Prevent repeat events\n",
       "    if (name == 'key_press')\n",
       "    {\n",
       "        if (event.which === this._key)\n",
       "            return;\n",
       "        else\n",
       "            this._key = event.which;\n",
       "    }\n",
       "    if (name == 'key_release')\n",
       "        this._key = null;\n",
       "\n",
       "    var value = '';\n",
       "    if (event.ctrlKey && event.which != 17)\n",
       "        value += \"ctrl+\";\n",
       "    if (event.altKey && event.which != 18)\n",
       "        value += \"alt+\";\n",
       "    if (event.shiftKey && event.which != 16)\n",
       "        value += \"shift+\";\n",
       "\n",
       "    value += 'k';\n",
       "    value += event.which.toString();\n",
       "\n",
       "    this._key_event_extra(event, name);\n",
       "\n",
       "    this.send_message(name, {key: value,\n",
       "                             guiEvent: simpleKeys(event)});\n",
       "    return false;\n",
       "}\n",
       "\n",
       "mpl.figure.prototype.toolbar_button_onclick = function(name) {\n",
       "    if (name == 'download') {\n",
       "        this.handle_save(this, null);\n",
       "    } else {\n",
       "        this.send_message(\"toolbar_button\", {name: name});\n",
       "    }\n",
       "};\n",
       "\n",
       "mpl.figure.prototype.toolbar_button_onmouseover = function(tooltip) {\n",
       "    this.message.textContent = tooltip;\n",
       "};\n",
       "mpl.toolbar_items = [[\"Home\", \"Reset original view\", \"fa fa-home icon-home\", \"home\"], [\"Back\", \"Back to previous view\", \"fa fa-arrow-left icon-arrow-left\", \"back\"], [\"Forward\", \"Forward to next view\", \"fa fa-arrow-right icon-arrow-right\", \"forward\"], [\"\", \"\", \"\", \"\"], [\"Pan\", \"Pan axes with left mouse, zoom with right\", \"fa fa-arrows icon-move\", \"pan\"], [\"Zoom\", \"Zoom to rectangle\", \"fa fa-square-o icon-check-empty\", \"zoom\"], [\"\", \"\", \"\", \"\"], [\"Download\", \"Download plot\", \"fa fa-floppy-o icon-save\", \"download\"]];\n",
       "\n",
       "mpl.extensions = [\"eps\", \"jpeg\", \"pdf\", \"png\", \"ps\", \"raw\", \"svg\", \"tif\"];\n",
       "\n",
       "mpl.default_extension = \"png\";var comm_websocket_adapter = function(comm) {\n",
       "    // Create a \"websocket\"-like object which calls the given IPython comm\n",
       "    // object with the appropriate methods. Currently this is a non binary\n",
       "    // socket, so there is still some room for performance tuning.\n",
       "    var ws = {};\n",
       "\n",
       "    ws.close = function() {\n",
       "        comm.close()\n",
       "    };\n",
       "    ws.send = function(m) {\n",
       "        //console.log('sending', m);\n",
       "        comm.send(m);\n",
       "    };\n",
       "    // Register the callback with on_msg.\n",
       "    comm.on_msg(function(msg) {\n",
       "        //console.log('receiving', msg['content']['data'], msg);\n",
       "        // Pass the mpl event to the overridden (by mpl) onmessage function.\n",
       "        ws.onmessage(msg['content']['data'])\n",
       "    });\n",
       "    return ws;\n",
       "}\n",
       "\n",
       "mpl.mpl_figure_comm = function(comm, msg) {\n",
       "    // This is the function which gets called when the mpl process\n",
       "    // starts-up an IPython Comm through the \"matplotlib\" channel.\n",
       "\n",
       "    var id = msg.content.data.id;\n",
       "    // Get hold of the div created by the display call when the Comm\n",
       "    // socket was opened in Python.\n",
       "    var element = $(\"#\" + id);\n",
       "    var ws_proxy = comm_websocket_adapter(comm)\n",
       "\n",
       "    function ondownload(figure, format) {\n",
       "        window.open(figure.imageObj.src);\n",
       "    }\n",
       "\n",
       "    var fig = new mpl.figure(id, ws_proxy,\n",
       "                           ondownload,\n",
       "                           element.get(0));\n",
       "\n",
       "    // Call onopen now - mpl needs it, as it is assuming we've passed it a real\n",
       "    // web socket which is closed, not our websocket->open comm proxy.\n",
       "    ws_proxy.onopen();\n",
       "\n",
       "    fig.parent_element = element.get(0);\n",
       "    fig.cell_info = mpl.find_output_cell(\"<div id='\" + id + \"'></div>\");\n",
       "    if (!fig.cell_info) {\n",
       "        console.error(\"Failed to find cell for figure\", id, fig);\n",
       "        return;\n",
       "    }\n",
       "\n",
       "    var output_index = fig.cell_info[2]\n",
       "    var cell = fig.cell_info[0];\n",
       "\n",
       "};\n",
       "\n",
       "mpl.figure.prototype.handle_close = function(fig, msg) {\n",
       "    var width = fig.canvas.width/mpl.ratio\n",
       "    fig.root.unbind('remove')\n",
       "\n",
       "    // Update the output cell to use the data from the current canvas.\n",
       "    fig.push_to_output();\n",
       "    var dataURL = fig.canvas.toDataURL();\n",
       "    // Re-enable the keyboard manager in IPython - without this line, in FF,\n",
       "    // the notebook keyboard shortcuts fail.\n",
       "    IPython.keyboard_manager.enable()\n",
       "    $(fig.parent_element).html('<img src=\"' + dataURL + '\" width=\"' + width + '\">');\n",
       "    fig.close_ws(fig, msg);\n",
       "}\n",
       "\n",
       "mpl.figure.prototype.close_ws = function(fig, msg){\n",
       "    fig.send_message('closing', msg);\n",
       "    // fig.ws.close()\n",
       "}\n",
       "\n",
       "mpl.figure.prototype.push_to_output = function(remove_interactive) {\n",
       "    // Turn the data on the canvas into data in the output cell.\n",
       "    var width = this.canvas.width/mpl.ratio\n",
       "    var dataURL = this.canvas.toDataURL();\n",
       "    this.cell_info[1]['text/html'] = '<img src=\"' + dataURL + '\" width=\"' + width + '\">';\n",
       "}\n",
       "\n",
       "mpl.figure.prototype.updated_canvas_event = function() {\n",
       "    // Tell IPython that the notebook contents must change.\n",
       "    IPython.notebook.set_dirty(true);\n",
       "    this.send_message(\"ack\", {});\n",
       "    var fig = this;\n",
       "    // Wait a second, then push the new image to the DOM so\n",
       "    // that it is saved nicely (might be nice to debounce this).\n",
       "    setTimeout(function () { fig.push_to_output() }, 1000);\n",
       "}\n",
       "\n",
       "mpl.figure.prototype._init_toolbar = function() {\n",
       "    var fig = this;\n",
       "\n",
       "    var nav_element = $('<div/>');\n",
       "    nav_element.attr('style', 'width: 100%');\n",
       "    this.root.append(nav_element);\n",
       "\n",
       "    // Define a callback function for later on.\n",
       "    function toolbar_event(event) {\n",
       "        return fig.toolbar_button_onclick(event['data']);\n",
       "    }\n",
       "    function toolbar_mouse_event(event) {\n",
       "        return fig.toolbar_button_onmouseover(event['data']);\n",
       "    }\n",
       "\n",
       "    for(var toolbar_ind in mpl.toolbar_items){\n",
       "        var name = mpl.toolbar_items[toolbar_ind][0];\n",
       "        var tooltip = mpl.toolbar_items[toolbar_ind][1];\n",
       "        var image = mpl.toolbar_items[toolbar_ind][2];\n",
       "        var method_name = mpl.toolbar_items[toolbar_ind][3];\n",
       "\n",
       "        if (!name) { continue; };\n",
       "\n",
       "        var button = $('<button class=\"btn btn-default\" href=\"#\" title=\"' + name + '\"><i class=\"fa ' + image + ' fa-lg\"></i></button>');\n",
       "        button.click(method_name, toolbar_event);\n",
       "        button.mouseover(tooltip, toolbar_mouse_event);\n",
       "        nav_element.append(button);\n",
       "    }\n",
       "\n",
       "    // Add the status bar.\n",
       "    var status_bar = $('<span class=\"mpl-message\" style=\"text-align:right; float: right;\"/>');\n",
       "    nav_element.append(status_bar);\n",
       "    this.message = status_bar[0];\n",
       "\n",
       "    // Add the close button to the window.\n",
       "    var buttongrp = $('<div class=\"btn-group inline pull-right\"></div>');\n",
       "    var button = $('<button class=\"btn btn-mini btn-primary\" href=\"#\" title=\"Stop Interaction\"><i class=\"fa fa-power-off icon-remove icon-large\"></i></button>');\n",
       "    button.click(function (evt) { fig.handle_close(fig, {}); } );\n",
       "    button.mouseover('Stop Interaction', toolbar_mouse_event);\n",
       "    buttongrp.append(button);\n",
       "    var titlebar = this.root.find($('.ui-dialog-titlebar'));\n",
       "    titlebar.prepend(buttongrp);\n",
       "}\n",
       "\n",
       "mpl.figure.prototype._root_extra_style = function(el){\n",
       "    var fig = this\n",
       "    el.on(\"remove\", function(){\n",
       "\tfig.close_ws(fig, {});\n",
       "    });\n",
       "}\n",
       "\n",
       "mpl.figure.prototype._canvas_extra_style = function(el){\n",
       "    // this is important to make the div 'focusable\n",
       "    el.attr('tabindex', 0)\n",
       "    // reach out to IPython and tell the keyboard manager to turn it's self\n",
       "    // off when our div gets focus\n",
       "\n",
       "    // location in version 3\n",
       "    if (IPython.notebook.keyboard_manager) {\n",
       "        IPython.notebook.keyboard_manager.register_events(el);\n",
       "    }\n",
       "    else {\n",
       "        // location in version 2\n",
       "        IPython.keyboard_manager.register_events(el);\n",
       "    }\n",
       "\n",
       "}\n",
       "\n",
       "mpl.figure.prototype._key_event_extra = function(event, name) {\n",
       "    var manager = IPython.notebook.keyboard_manager;\n",
       "    if (!manager)\n",
       "        manager = IPython.keyboard_manager;\n",
       "\n",
       "    // Check for shift+enter\n",
       "    if (event.shiftKey && event.which == 13) {\n",
       "        this.canvas_div.blur();\n",
       "        // select the cell after this one\n",
       "        var index = IPython.notebook.find_cell_index(this.cell_info[0]);\n",
       "        IPython.notebook.select(index + 1);\n",
       "    }\n",
       "}\n",
       "\n",
       "mpl.figure.prototype.handle_save = function(fig, msg) {\n",
       "    fig.ondownload(fig, null);\n",
       "}\n",
       "\n",
       "\n",
       "mpl.find_output_cell = function(html_output) {\n",
       "    // Return the cell and output element which can be found *uniquely* in the notebook.\n",
       "    // Note - this is a bit hacky, but it is done because the \"notebook_saving.Notebook\"\n",
       "    // IPython event is triggered only after the cells have been serialised, which for\n",
       "    // our purposes (turning an active figure into a static one), is too late.\n",
       "    var cells = IPython.notebook.get_cells();\n",
       "    var ncells = cells.length;\n",
       "    for (var i=0; i<ncells; i++) {\n",
       "        var cell = cells[i];\n",
       "        if (cell.cell_type === 'code'){\n",
       "            for (var j=0; j<cell.output_area.outputs.length; j++) {\n",
       "                var data = cell.output_area.outputs[j];\n",
       "                if (data.data) {\n",
       "                    // IPython >= 3 moved mimebundle to data attribute of output\n",
       "                    data = data.data;\n",
       "                }\n",
       "                if (data['text/html'] == html_output) {\n",
       "                    return [cell, data, j];\n",
       "                }\n",
       "            }\n",
       "        }\n",
       "    }\n",
       "}\n",
       "\n",
       "// Register the function which deals with the matplotlib target/channel.\n",
       "// The kernel may be null if the page has been refreshed.\n",
       "if (IPython.notebook.kernel != null) {\n",
       "    IPython.notebook.kernel.comm_manager.register_target('matplotlib', mpl.mpl_figure_comm);\n",
       "}\n"
      ],
      "text/plain": [
       "<IPython.core.display.Javascript object>"
      ]
     },
     "metadata": {},
     "output_type": "display_data"
    },
    {
     "data": {
      "text/html": [
       "<img src=\"data:image/png;base64,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\" width=\"999.1666666666667\">"
      ],
      "text/plain": [
       "<IPython.core.display.HTML object>"
      ]
     },
     "metadata": {},
     "output_type": "display_data"
    }
   ],
   "source": [
    "ax, tax, lax, lines = dual_train_plots()\n",
    "fig = ax.figure\n",
    "plt.tight_layout()"
   ]
  },
  {
   "cell_type": "code",
   "execution_count": 17,
   "metadata": {
    "scrolled": false
   },
   "outputs": [
    {
     "name": "stdout",
     "output_type": "stream",
     "text": [
      "Number of batches: train = 1125, val = 125\n"
     ]
    },
    {
     "data": {
      "application/vnd.jupyter.widget-view+json": {
       "model_id": "37d885bb18f94eec86abd5a0470b1b23",
       "version_major": 2,
       "version_minor": 0
      },
      "text/plain": [
       "HBox(children=(FloatProgress(value=0.0, description='Epochs', layout=Layout(flex='2'), max=800.0, style=Progre…"
      ]
     },
     "metadata": {},
     "output_type": "display_data"
    },
    {
     "name": "stdout",
     "output_type": "stream",
     "text": [
      "Number of batches: train = 1125, val = 125\n"
     ]
    },
    {
     "data": {
      "application/vnd.jupyter.widget-view+json": {
       "model_id": "",
       "version_major": 2,
       "version_minor": 0
      },
      "text/plain": [
       "HBox(children=(FloatProgress(value=0.0, description='Training', layout=Layout(flex='2'), max=1125.0, style=Pro…"
      ]
     },
     "metadata": {},
     "output_type": "display_data"
    },
    {
     "name": "stdout",
     "output_type": "stream",
     "text": [
      "Epoch 0: train=0.9576, val=0.959144, took 36.769 s\n"
     ]
    },
    {
     "data": {
      "application/vnd.jupyter.widget-view+json": {
       "model_id": "",
       "version_major": 2,
       "version_minor": 0
      },
      "text/plain": [
       "HBox(children=(FloatProgress(value=0.0, description='Training', layout=Layout(flex='2'), max=1125.0, style=Pro…"
      ]
     },
     "metadata": {},
     "output_type": "display_data"
    },
    {
     "name": "stdout",
     "output_type": "stream",
     "text": [
      "Epoch 1: train=0.953898, val=0.963441, took 36.745 s\n"
     ]
    },
    {
     "data": {
      "application/vnd.jupyter.widget-view+json": {
       "model_id": "",
       "version_major": 2,
       "version_minor": 0
      },
      "text/plain": [
       "HBox(children=(FloatProgress(value=0.0, description='Training', layout=Layout(flex='2'), max=1125.0, style=Pro…"
      ]
     },
     "metadata": {},
     "output_type": "display_data"
    },
    {
     "name": "stdout",
     "output_type": "stream",
     "text": [
      "Epoch 2: train=0.953957, val=0.957863, took 36.82 s\n"
     ]
    },
    {
     "data": {
      "application/vnd.jupyter.widget-view+json": {
       "model_id": "",
       "version_major": 2,
       "version_minor": 0
      },
      "text/plain": [
       "HBox(children=(FloatProgress(value=0.0, description='Training', layout=Layout(flex='2'), max=1125.0, style=Pro…"
      ]
     },
     "metadata": {},
     "output_type": "display_data"
    },
    {
     "name": "stdout",
     "output_type": "stream",
     "text": [
      "Epoch 3: train=0.959424, val=0.959393, took 37.508 s\n"
     ]
    },
    {
     "data": {
      "application/vnd.jupyter.widget-view+json": {
       "model_id": "",
       "version_major": 2,
       "version_minor": 0
      },
      "text/plain": [
       "HBox(children=(FloatProgress(value=0.0, description='Training', layout=Layout(flex='2'), max=1125.0, style=Pro…"
      ]
     },
     "metadata": {},
     "output_type": "display_data"
    },
    {
     "name": "stdout",
     "output_type": "stream",
     "text": [
      "Epoch 4: train=0.959056, val=0.966414, took 37.011 s\n"
     ]
    },
    {
     "data": {
      "application/vnd.jupyter.widget-view+json": {
       "model_id": "",
       "version_major": 2,
       "version_minor": 0
      },
      "text/plain": [
       "HBox(children=(FloatProgress(value=0.0, description='Training', layout=Layout(flex='2'), max=1125.0, style=Pro…"
      ]
     },
     "metadata": {},
     "output_type": "display_data"
    },
    {
     "name": "stdout",
     "output_type": "stream",
     "text": [
      "Epoch 5: train=0.953284, val=0.965418, took 36.969 s\n"
     ]
    },
    {
     "data": {
      "application/vnd.jupyter.widget-view+json": {
       "model_id": "",
       "version_major": 2,
       "version_minor": 0
      },
      "text/plain": [
       "HBox(children=(FloatProgress(value=0.0, description='Training', layout=Layout(flex='2'), max=1125.0, style=Pro…"
      ]
     },
     "metadata": {},
     "output_type": "display_data"
    },
    {
     "name": "stdout",
     "output_type": "stream",
     "text": [
      "Epoch 6: train=0.957308, val=0.958094, took 37.025 s\n"
     ]
    },
    {
     "data": {
      "application/vnd.jupyter.widget-view+json": {
       "model_id": "",
       "version_major": 2,
       "version_minor": 0
      },
      "text/plain": [
       "HBox(children=(FloatProgress(value=0.0, description='Training', layout=Layout(flex='2'), max=1125.0, style=Pro…"
      ]
     },
     "metadata": {},
     "output_type": "display_data"
    },
    {
     "name": "stdout",
     "output_type": "stream",
     "text": [
      "Epoch 7: train=0.954761, val=0.974265, took 37.008 s\n"
     ]
    },
    {
     "data": {
      "application/vnd.jupyter.widget-view+json": {
       "model_id": "",
       "version_major": 2,
       "version_minor": 0
      },
      "text/plain": [
       "HBox(children=(FloatProgress(value=0.0, description='Training', layout=Layout(flex='2'), max=1125.0, style=Pro…"
      ]
     },
     "metadata": {},
     "output_type": "display_data"
    },
    {
     "name": "stdout",
     "output_type": "stream",
     "text": [
      "Epoch 8: train=0.951974, val=1.01606, took 36.976 s\n"
     ]
    },
    {
     "data": {
      "application/vnd.jupyter.widget-view+json": {
       "model_id": "",
       "version_major": 2,
       "version_minor": 0
      },
      "text/plain": [
       "HBox(children=(FloatProgress(value=0.0, description='Training', layout=Layout(flex='2'), max=1125.0, style=Pro…"
      ]
     },
     "metadata": {},
     "output_type": "display_data"
    },
    {
     "name": "stdout",
     "output_type": "stream",
     "text": [
      "Epoch 9: train=0.956272, val=0.958814, took 37.028 s\n"
     ]
    },
    {
     "data": {
      "application/vnd.jupyter.widget-view+json": {
       "model_id": "",
       "version_major": 2,
       "version_minor": 0
      },
      "text/plain": [
       "HBox(children=(FloatProgress(value=0.0, description='Training', layout=Layout(flex='2'), max=1125.0, style=Pro…"
      ]
     },
     "metadata": {},
     "output_type": "display_data"
    },
    {
     "name": "stdout",
     "output_type": "stream",
     "text": [
      "Epoch 10: train=0.960073, val=0.999265, took 36.978 s\n"
     ]
    },
    {
     "data": {
      "application/vnd.jupyter.widget-view+json": {
       "model_id": "",
       "version_major": 2,
       "version_minor": 0
      },
      "text/plain": [
       "HBox(children=(FloatProgress(value=0.0, description='Training', layout=Layout(flex='2'), max=1125.0, style=Pro…"
      ]
     },
     "metadata": {},
     "output_type": "display_data"
    },
    {
     "name": "stdout",
     "output_type": "stream",
     "text": [
      "Epoch 11: train=0.956958, val=0.963667, took 37.114 s\n"
     ]
    },
    {
     "data": {
      "application/vnd.jupyter.widget-view+json": {
       "model_id": "",
       "version_major": 2,
       "version_minor": 0
      },
      "text/plain": [
       "HBox(children=(FloatProgress(value=0.0, description='Training', layout=Layout(flex='2'), max=1125.0, style=Pro…"
      ]
     },
     "metadata": {},
     "output_type": "display_data"
    },
    {
     "name": "stdout",
     "output_type": "stream",
     "text": [
      "Epoch 12: train=0.957012, val=0.959382, took 37.003 s\n"
     ]
    },
    {
     "data": {
      "application/vnd.jupyter.widget-view+json": {
       "model_id": "",
       "version_major": 2,
       "version_minor": 0
      },
      "text/plain": [
       "HBox(children=(FloatProgress(value=0.0, description='Training', layout=Layout(flex='2'), max=1125.0, style=Pro…"
      ]
     },
     "metadata": {},
     "output_type": "display_data"
    },
    {
     "name": "stdout",
     "output_type": "stream",
     "text": [
      "Epoch 13: train=0.959702, val=0.968789, took 37.071 s\n"
     ]
    },
    {
     "data": {
      "application/vnd.jupyter.widget-view+json": {
       "model_id": "",
       "version_major": 2,
       "version_minor": 0
      },
      "text/plain": [
       "HBox(children=(FloatProgress(value=0.0, description='Training', layout=Layout(flex='2'), max=1125.0, style=Pro…"
      ]
     },
     "metadata": {},
     "output_type": "display_data"
    },
    {
     "name": "stdout",
     "output_type": "stream",
     "text": [
      "Epoch 14: train=0.955667, val=0.958304, took 37.111 s\n"
     ]
    },
    {
     "data": {
      "application/vnd.jupyter.widget-view+json": {
       "model_id": "",
       "version_major": 2,
       "version_minor": 0
      },
      "text/plain": [
       "HBox(children=(FloatProgress(value=0.0, description='Training', layout=Layout(flex='2'), max=1125.0, style=Pro…"
      ]
     },
     "metadata": {},
     "output_type": "display_data"
    },
    {
     "name": "stdout",
     "output_type": "stream",
     "text": [
      "Epoch 15: train=0.960207, val=0.957459, took 37.087 s\n"
     ]
    },
    {
     "data": {
      "application/vnd.jupyter.widget-view+json": {
       "model_id": "",
       "version_major": 2,
       "version_minor": 0
      },
      "text/plain": [
       "HBox(children=(FloatProgress(value=0.0, description='Training', layout=Layout(flex='2'), max=1125.0, style=Pro…"
      ]
     },
     "metadata": {},
     "output_type": "display_data"
    },
    {
     "name": "stdout",
     "output_type": "stream",
     "text": [
      "Epoch 16: train=0.956076, val=0.962227, took 37.016 s\n"
     ]
    },
    {
     "data": {
      "application/vnd.jupyter.widget-view+json": {
       "model_id": "",
       "version_major": 2,
       "version_minor": 0
      },
      "text/plain": [
       "HBox(children=(FloatProgress(value=0.0, description='Training', layout=Layout(flex='2'), max=1125.0, style=Pro…"
      ]
     },
     "metadata": {},
     "output_type": "display_data"
    },
    {
     "name": "stdout",
     "output_type": "stream",
     "text": [
      "Epoch 17: train=0.954415, val=0.964104, took 37.211 s\n"
     ]
    },
    {
     "data": {
      "application/vnd.jupyter.widget-view+json": {
       "model_id": "",
       "version_major": 2,
       "version_minor": 0
      },
      "text/plain": [
       "HBox(children=(FloatProgress(value=0.0, description='Training', layout=Layout(flex='2'), max=1125.0, style=Pro…"
      ]
     },
     "metadata": {},
     "output_type": "display_data"
    },
    {
     "name": "stdout",
     "output_type": "stream",
     "text": [
      "Epoch 18: train=0.960907, val=0.95925, took 36.941 s\n"
     ]
    },
    {
     "data": {
      "application/vnd.jupyter.widget-view+json": {
       "model_id": "",
       "version_major": 2,
       "version_minor": 0
      },
      "text/plain": [
       "HBox(children=(FloatProgress(value=0.0, description='Training', layout=Layout(flex='2'), max=1125.0, style=Pro…"
      ]
     },
     "metadata": {},
     "output_type": "display_data"
    },
    {
     "name": "stdout",
     "output_type": "stream",
     "text": [
      "Epoch 19: train=0.954209, val=0.959521, took 36.922 s\n"
     ]
    },
    {
     "data": {
      "application/vnd.jupyter.widget-view+json": {
       "model_id": "",
       "version_major": 2,
       "version_minor": 0
      },
      "text/plain": [
       "HBox(children=(FloatProgress(value=0.0, description='Training', layout=Layout(flex='2'), max=1125.0, style=Pro…"
      ]
     },
     "metadata": {},
     "output_type": "display_data"
    },
    {
     "name": "stdout",
     "output_type": "stream",
     "text": [
      "Epoch 20: train=0.950839, val=0.989654, took 36.949 s\n"
     ]
    },
    {
     "data": {
      "application/vnd.jupyter.widget-view+json": {
       "model_id": "",
       "version_major": 2,
       "version_minor": 0
      },
      "text/plain": [
       "HBox(children=(FloatProgress(value=0.0, description='Training', layout=Layout(flex='2'), max=1125.0, style=Pro…"
      ]
     },
     "metadata": {},
     "output_type": "display_data"
    },
    {
     "name": "stdout",
     "output_type": "stream",
     "text": [
      "Epoch 21: train=0.955968, val=0.995922, took 37.055 s\n"
     ]
    },
    {
     "data": {
      "application/vnd.jupyter.widget-view+json": {
       "model_id": "",
       "version_major": 2,
       "version_minor": 0
      },
      "text/plain": [
       "HBox(children=(FloatProgress(value=0.0, description='Training', layout=Layout(flex='2'), max=1125.0, style=Pro…"
      ]
     },
     "metadata": {},
     "output_type": "display_data"
    },
    {
     "name": "stdout",
     "output_type": "stream",
     "text": [
      "Epoch 22: train=0.963266, val=0.978075, took 37.113 s\n"
     ]
    },
    {
     "data": {
      "application/vnd.jupyter.widget-view+json": {
       "model_id": "",
       "version_major": 2,
       "version_minor": 0
      },
      "text/plain": [
       "HBox(children=(FloatProgress(value=0.0, description='Training', layout=Layout(flex='2'), max=1125.0, style=Pro…"
      ]
     },
     "metadata": {},
     "output_type": "display_data"
    },
    {
     "name": "stdout",
     "output_type": "stream",
     "text": [
      "Epoch 23: train=0.951511, val=0.964832, took 36.983 s\n"
     ]
    },
    {
     "data": {
      "application/vnd.jupyter.widget-view+json": {
       "model_id": "",
       "version_major": 2,
       "version_minor": 0
      },
      "text/plain": [
       "HBox(children=(FloatProgress(value=0.0, description='Training', layout=Layout(flex='2'), max=1125.0, style=Pro…"
      ]
     },
     "metadata": {},
     "output_type": "display_data"
    },
    {
     "name": "stdout",
     "output_type": "stream",
     "text": [
      "Epoch 24: train=0.950092, val=0.968314, took 37.208 s\n"
     ]
    },
    {
     "data": {
      "application/vnd.jupyter.widget-view+json": {
       "model_id": "",
       "version_major": 2,
       "version_minor": 0
      },
      "text/plain": [
       "HBox(children=(FloatProgress(value=0.0, description='Training', layout=Layout(flex='2'), max=1125.0, style=Pro…"
      ]
     },
     "metadata": {},
     "output_type": "display_data"
    },
    {
     "name": "stdout",
     "output_type": "stream",
     "text": [
      "Epoch 25: train=0.959704, val=0.957709, took 37.239 s\n"
     ]
    },
    {
     "data": {
      "application/vnd.jupyter.widget-view+json": {
       "model_id": "",
       "version_major": 2,
       "version_minor": 0
      },
      "text/plain": [
       "HBox(children=(FloatProgress(value=0.0, description='Training', layout=Layout(flex='2'), max=1125.0, style=Pro…"
      ]
     },
     "metadata": {},
     "output_type": "display_data"
    },
    {
     "name": "stdout",
     "output_type": "stream",
     "text": [
      "Epoch 26: train=0.956959, val=0.963438, took 37.006 s\n"
     ]
    },
    {
     "data": {
      "application/vnd.jupyter.widget-view+json": {
       "model_id": "",
       "version_major": 2,
       "version_minor": 0
      },
      "text/plain": [
       "HBox(children=(FloatProgress(value=0.0, description='Training', layout=Layout(flex='2'), max=1125.0, style=Pro…"
      ]
     },
     "metadata": {},
     "output_type": "display_data"
    },
    {
     "name": "stdout",
     "output_type": "stream",
     "text": [
      "Epoch 27: train=0.955754, val=0.964147, took 37.074 s\n"
     ]
    },
    {
     "data": {
      "application/vnd.jupyter.widget-view+json": {
       "model_id": "",
       "version_major": 2,
       "version_minor": 0
      },
      "text/plain": [
       "HBox(children=(FloatProgress(value=0.0, description='Training', layout=Layout(flex='2'), max=1125.0, style=Pro…"
      ]
     },
     "metadata": {},
     "output_type": "display_data"
    },
    {
     "name": "stdout",
     "output_type": "stream",
     "text": [
      "Epoch 28: train=0.955095, val=0.962485, took 37.067 s\n"
     ]
    },
    {
     "data": {
      "application/vnd.jupyter.widget-view+json": {
       "model_id": "",
       "version_major": 2,
       "version_minor": 0
      },
      "text/plain": [
       "HBox(children=(FloatProgress(value=0.0, description='Training', layout=Layout(flex='2'), max=1125.0, style=Pro…"
      ]
     },
     "metadata": {},
     "output_type": "display_data"
    },
    {
     "name": "stdout",
     "output_type": "stream",
     "text": [
      "Epoch 29: train=0.951852, val=1.03667, took 36.957 s\n"
     ]
    },
    {
     "data": {
      "application/vnd.jupyter.widget-view+json": {
       "model_id": "",
       "version_major": 2,
       "version_minor": 0
      },
      "text/plain": [
       "HBox(children=(FloatProgress(value=0.0, description='Training', layout=Layout(flex='2'), max=1125.0, style=Pro…"
      ]
     },
     "metadata": {},
     "output_type": "display_data"
    },
    {
     "name": "stdout",
     "output_type": "stream",
     "text": [
      "Epoch 30: train=0.954114, val=1.0026, took 36.89 s\n"
     ]
    },
    {
     "data": {
      "application/vnd.jupyter.widget-view+json": {
       "model_id": "",
       "version_major": 2,
       "version_minor": 0
      },
      "text/plain": [
       "HBox(children=(FloatProgress(value=0.0, description='Training', layout=Layout(flex='2'), max=1125.0, style=Pro…"
      ]
     },
     "metadata": {},
     "output_type": "display_data"
    },
    {
     "name": "stdout",
     "output_type": "stream",
     "text": [
      "Epoch 31: train=0.956496, val=0.962847, took 36.903 s\n"
     ]
    },
    {
     "data": {
      "application/vnd.jupyter.widget-view+json": {
       "model_id": "",
       "version_major": 2,
       "version_minor": 0
      },
      "text/plain": [
       "HBox(children=(FloatProgress(value=0.0, description='Training', layout=Layout(flex='2'), max=1125.0, style=Pro…"
      ]
     },
     "metadata": {},
     "output_type": "display_data"
    },
    {
     "name": "stdout",
     "output_type": "stream",
     "text": [
      "Epoch 32: train=0.952722, val=0.960165, took 36.982 s\n"
     ]
    },
    {
     "data": {
      "application/vnd.jupyter.widget-view+json": {
       "model_id": "",
       "version_major": 2,
       "version_minor": 0
      },
      "text/plain": [
       "HBox(children=(FloatProgress(value=0.0, description='Training', layout=Layout(flex='2'), max=1125.0, style=Pro…"
      ]
     },
     "metadata": {},
     "output_type": "display_data"
    },
    {
     "name": "stdout",
     "output_type": "stream",
     "text": [
      "Epoch 33: train=0.953885, val=0.965397, took 37.306 s\n"
     ]
    },
    {
     "data": {
      "application/vnd.jupyter.widget-view+json": {
       "model_id": "",
       "version_major": 2,
       "version_minor": 0
      },
      "text/plain": [
       "HBox(children=(FloatProgress(value=0.0, description='Training', layout=Layout(flex='2'), max=1125.0, style=Pro…"
      ]
     },
     "metadata": {},
     "output_type": "display_data"
    },
    {
     "name": "stdout",
     "output_type": "stream",
     "text": [
      "Epoch 34: train=0.954638, val=0.959642, took 37.18 s\n"
     ]
    },
    {
     "data": {
      "application/vnd.jupyter.widget-view+json": {
       "model_id": "",
       "version_major": 2,
       "version_minor": 0
      },
      "text/plain": [
       "HBox(children=(FloatProgress(value=0.0, description='Training', layout=Layout(flex='2'), max=1125.0, style=Pro…"
      ]
     },
     "metadata": {},
     "output_type": "display_data"
    },
    {
     "name": "stdout",
     "output_type": "stream",
     "text": [
      "Epoch 35: train=0.951313, val=0.966337, took 37.277 s\n"
     ]
    },
    {
     "data": {
      "application/vnd.jupyter.widget-view+json": {
       "model_id": "",
       "version_major": 2,
       "version_minor": 0
      },
      "text/plain": [
       "HBox(children=(FloatProgress(value=0.0, description='Training', layout=Layout(flex='2'), max=1125.0, style=Pro…"
      ]
     },
     "metadata": {},
     "output_type": "display_data"
    },
    {
     "name": "stdout",
     "output_type": "stream",
     "text": [
      "Epoch 36: train=0.960313, val=0.964907, took 37.117 s\n"
     ]
    },
    {
     "data": {
      "application/vnd.jupyter.widget-view+json": {
       "model_id": "",
       "version_major": 2,
       "version_minor": 0
      },
      "text/plain": [
       "HBox(children=(FloatProgress(value=0.0, description='Training', layout=Layout(flex='2'), max=1125.0, style=Pro…"
      ]
     },
     "metadata": {},
     "output_type": "display_data"
    },
    {
     "name": "stdout",
     "output_type": "stream",
     "text": [
      "Epoch 37: train=0.950656, val=0.97205, took 36.976 s\n"
     ]
    },
    {
     "data": {
      "application/vnd.jupyter.widget-view+json": {
       "model_id": "",
       "version_major": 2,
       "version_minor": 0
      },
      "text/plain": [
       "HBox(children=(FloatProgress(value=0.0, description='Training', layout=Layout(flex='2'), max=1125.0, style=Pro…"
      ]
     },
     "metadata": {},
     "output_type": "display_data"
    },
    {
     "name": "stdout",
     "output_type": "stream",
     "text": [
      "Epoch 38: train=0.953175, val=0.964669, took 37.059 s\n"
     ]
    },
    {
     "data": {
      "application/vnd.jupyter.widget-view+json": {
       "model_id": "",
       "version_major": 2,
       "version_minor": 0
      },
      "text/plain": [
       "HBox(children=(FloatProgress(value=0.0, description='Training', layout=Layout(flex='2'), max=1125.0, style=Pro…"
      ]
     },
     "metadata": {},
     "output_type": "display_data"
    },
    {
     "name": "stdout",
     "output_type": "stream",
     "text": [
      "Epoch 39: train=0.954902, val=0.976626, took 37.289 s\n"
     ]
    },
    {
     "data": {
      "application/vnd.jupyter.widget-view+json": {
       "model_id": "",
       "version_major": 2,
       "version_minor": 0
      },
      "text/plain": [
       "HBox(children=(FloatProgress(value=0.0, description='Training', layout=Layout(flex='2'), max=1125.0, style=Pro…"
      ]
     },
     "metadata": {},
     "output_type": "display_data"
    },
    {
     "name": "stdout",
     "output_type": "stream",
     "text": [
      "Epoch 40: train=0.955192, val=0.96251, took 37.033 s\n"
     ]
    },
    {
     "data": {
      "application/vnd.jupyter.widget-view+json": {
       "model_id": "",
       "version_major": 2,
       "version_minor": 0
      },
      "text/plain": [
       "HBox(children=(FloatProgress(value=0.0, description='Training', layout=Layout(flex='2'), max=1125.0, style=Pro…"
      ]
     },
     "metadata": {},
     "output_type": "display_data"
    },
    {
     "name": "stdout",
     "output_type": "stream",
     "text": [
      "Epoch 41: train=0.951934, val=0.998327, took 37.081 s\n"
     ]
    },
    {
     "data": {
      "application/vnd.jupyter.widget-view+json": {
       "model_id": "",
       "version_major": 2,
       "version_minor": 0
      },
      "text/plain": [
       "HBox(children=(FloatProgress(value=0.0, description='Training', layout=Layout(flex='2'), max=1125.0, style=Pro…"
      ]
     },
     "metadata": {},
     "output_type": "display_data"
    },
    {
     "name": "stdout",
     "output_type": "stream",
     "text": [
      "Epoch 42: train=0.953885, val=0.966447, took 37.021 s\n"
     ]
    },
    {
     "data": {
      "application/vnd.jupyter.widget-view+json": {
       "model_id": "",
       "version_major": 2,
       "version_minor": 0
      },
      "text/plain": [
       "HBox(children=(FloatProgress(value=0.0, description='Training', layout=Layout(flex='2'), max=1125.0, style=Pro…"
      ]
     },
     "metadata": {},
     "output_type": "display_data"
    },
    {
     "name": "stdout",
     "output_type": "stream",
     "text": [
      "Epoch 43: train=0.958952, val=0.958677, took 36.911 s\n"
     ]
    },
    {
     "data": {
      "application/vnd.jupyter.widget-view+json": {
       "model_id": "",
       "version_major": 2,
       "version_minor": 0
      },
      "text/plain": [
       "HBox(children=(FloatProgress(value=0.0, description='Training', layout=Layout(flex='2'), max=1125.0, style=Pro…"
      ]
     },
     "metadata": {},
     "output_type": "display_data"
    },
    {
     "name": "stdout",
     "output_type": "stream",
     "text": [
      "Epoch 44: train=0.954809, val=0.959953, took 36.966 s\n"
     ]
    },
    {
     "data": {
      "application/vnd.jupyter.widget-view+json": {
       "model_id": "",
       "version_major": 2,
       "version_minor": 0
      },
      "text/plain": [
       "HBox(children=(FloatProgress(value=0.0, description='Training', layout=Layout(flex='2'), max=1125.0, style=Pro…"
      ]
     },
     "metadata": {},
     "output_type": "display_data"
    },
    {
     "name": "stdout",
     "output_type": "stream",
     "text": [
      "Epoch 45: train=0.954339, val=0.977299, took 37.002 s\n"
     ]
    },
    {
     "data": {
      "application/vnd.jupyter.widget-view+json": {
       "model_id": "",
       "version_major": 2,
       "version_minor": 0
      },
      "text/plain": [
       "HBox(children=(FloatProgress(value=0.0, description='Training', layout=Layout(flex='2'), max=1125.0, style=Pro…"
      ]
     },
     "metadata": {},
     "output_type": "display_data"
    },
    {
     "name": "stdout",
     "output_type": "stream",
     "text": [
      "Epoch 46: train=0.954919, val=0.989636, took 36.945 s\n"
     ]
    },
    {
     "data": {
      "application/vnd.jupyter.widget-view+json": {
       "model_id": "",
       "version_major": 2,
       "version_minor": 0
      },
      "text/plain": [
       "HBox(children=(FloatProgress(value=0.0, description='Training', layout=Layout(flex='2'), max=1125.0, style=Pro…"
      ]
     },
     "metadata": {},
     "output_type": "display_data"
    },
    {
     "name": "stdout",
     "output_type": "stream",
     "text": [
      "Epoch 47: train=0.954141, val=0.986622, took 36.985 s\n"
     ]
    },
    {
     "data": {
      "application/vnd.jupyter.widget-view+json": {
       "model_id": "",
       "version_major": 2,
       "version_minor": 0
      },
      "text/plain": [
       "HBox(children=(FloatProgress(value=0.0, description='Training', layout=Layout(flex='2'), max=1125.0, style=Pro…"
      ]
     },
     "metadata": {},
     "output_type": "display_data"
    },
    {
     "name": "stdout",
     "output_type": "stream",
     "text": [
      "Epoch 48: train=0.951514, val=0.969537, took 36.984 s\n"
     ]
    },
    {
     "data": {
      "application/vnd.jupyter.widget-view+json": {
       "model_id": "",
       "version_major": 2,
       "version_minor": 0
      },
      "text/plain": [
       "HBox(children=(FloatProgress(value=0.0, description='Training', layout=Layout(flex='2'), max=1125.0, style=Pro…"
      ]
     },
     "metadata": {},
     "output_type": "display_data"
    },
    {
     "name": "stdout",
     "output_type": "stream",
     "text": [
      "Epoch 49: train=0.951105, val=0.971074, took 36.937 s\n"
     ]
    },
    {
     "data": {
      "application/vnd.jupyter.widget-view+json": {
       "model_id": "",
       "version_major": 2,
       "version_minor": 0
      },
      "text/plain": [
       "HBox(children=(FloatProgress(value=0.0, description='Training', layout=Layout(flex='2'), max=1125.0, style=Pro…"
      ]
     },
     "metadata": {},
     "output_type": "display_data"
    },
    {
     "name": "stdout",
     "output_type": "stream",
     "text": [
      "Epoch 50: train=0.95466, val=0.973876, took 37.013 s\n"
     ]
    },
    {
     "data": {
      "application/vnd.jupyter.widget-view+json": {
       "model_id": "",
       "version_major": 2,
       "version_minor": 0
      },
      "text/plain": [
       "HBox(children=(FloatProgress(value=0.0, description='Training', layout=Layout(flex='2'), max=1125.0, style=Pro…"
      ]
     },
     "metadata": {},
     "output_type": "display_data"
    },
    {
     "name": "stdout",
     "output_type": "stream",
     "text": [
      "Epoch 51: train=0.952746, val=0.970622, took 36.953 s\n"
     ]
    },
    {
     "data": {
      "application/vnd.jupyter.widget-view+json": {
       "model_id": "",
       "version_major": 2,
       "version_minor": 0
      },
      "text/plain": [
       "HBox(children=(FloatProgress(value=0.0, description='Training', layout=Layout(flex='2'), max=1125.0, style=Pro…"
      ]
     },
     "metadata": {},
     "output_type": "display_data"
    },
    {
     "name": "stdout",
     "output_type": "stream",
     "text": [
      "Epoch 52: train=0.952954, val=0.9599, took 36.954 s\n"
     ]
    },
    {
     "data": {
      "application/vnd.jupyter.widget-view+json": {
       "model_id": "",
       "version_major": 2,
       "version_minor": 0
      },
      "text/plain": [
       "HBox(children=(FloatProgress(value=0.0, description='Training', layout=Layout(flex='2'), max=1125.0, style=Pro…"
      ]
     },
     "metadata": {},
     "output_type": "display_data"
    },
    {
     "name": "stdout",
     "output_type": "stream",
     "text": [
      "Epoch 53: train=0.954353, val=0.959015, took 37.139 s\n"
     ]
    },
    {
     "data": {
      "application/vnd.jupyter.widget-view+json": {
       "model_id": "",
       "version_major": 2,
       "version_minor": 0
      },
      "text/plain": [
       "HBox(children=(FloatProgress(value=0.0, description='Training', layout=Layout(flex='2'), max=1125.0, style=Pro…"
      ]
     },
     "metadata": {},
     "output_type": "display_data"
    },
    {
     "name": "stdout",
     "output_type": "stream",
     "text": [
      "Epoch 54: train=0.951758, val=0.958907, took 37.103 s\n"
     ]
    },
    {
     "data": {
      "application/vnd.jupyter.widget-view+json": {
       "model_id": "",
       "version_major": 2,
       "version_minor": 0
      },
      "text/plain": [
       "HBox(children=(FloatProgress(value=0.0, description='Training', layout=Layout(flex='2'), max=1125.0, style=Pro…"
      ]
     },
     "metadata": {},
     "output_type": "display_data"
    },
    {
     "name": "stdout",
     "output_type": "stream",
     "text": [
      "Epoch 55: train=0.950961, val=0.967677, took 37.095 s\n"
     ]
    },
    {
     "data": {
      "application/vnd.jupyter.widget-view+json": {
       "model_id": "",
       "version_major": 2,
       "version_minor": 0
      },
      "text/plain": [
       "HBox(children=(FloatProgress(value=0.0, description='Training', layout=Layout(flex='2'), max=1125.0, style=Pro…"
      ]
     },
     "metadata": {},
     "output_type": "display_data"
    },
    {
     "name": "stdout",
     "output_type": "stream",
     "text": [
      "Epoch 56: train=0.950236, val=0.962381, took 37.027 s\n"
     ]
    },
    {
     "data": {
      "application/vnd.jupyter.widget-view+json": {
       "model_id": "",
       "version_major": 2,
       "version_minor": 0
      },
      "text/plain": [
       "HBox(children=(FloatProgress(value=0.0, description='Training', layout=Layout(flex='2'), max=1125.0, style=Pro…"
      ]
     },
     "metadata": {},
     "output_type": "display_data"
    },
    {
     "name": "stdout",
     "output_type": "stream",
     "text": [
      "Epoch 57: train=0.95199, val=0.96597, took 36.979 s\n"
     ]
    },
    {
     "data": {
      "application/vnd.jupyter.widget-view+json": {
       "model_id": "",
       "version_major": 2,
       "version_minor": 0
      },
      "text/plain": [
       "HBox(children=(FloatProgress(value=0.0, description='Training', layout=Layout(flex='2'), max=1125.0, style=Pro…"
      ]
     },
     "metadata": {},
     "output_type": "display_data"
    },
    {
     "name": "stdout",
     "output_type": "stream",
     "text": [
      "Epoch 58: train=0.959922, val=0.961346, took 37.059 s\n"
     ]
    },
    {
     "data": {
      "application/vnd.jupyter.widget-view+json": {
       "model_id": "",
       "version_major": 2,
       "version_minor": 0
      },
      "text/plain": [
       "HBox(children=(FloatProgress(value=0.0, description='Training', layout=Layout(flex='2'), max=1125.0, style=Pro…"
      ]
     },
     "metadata": {},
     "output_type": "display_data"
    },
    {
     "name": "stdout",
     "output_type": "stream",
     "text": [
      "Epoch 59: train=0.951033, val=0.991995, took 36.976 s\n"
     ]
    },
    {
     "data": {
      "application/vnd.jupyter.widget-view+json": {
       "model_id": "",
       "version_major": 2,
       "version_minor": 0
      },
      "text/plain": [
       "HBox(children=(FloatProgress(value=0.0, description='Training', layout=Layout(flex='2'), max=1125.0, style=Pro…"
      ]
     },
     "metadata": {},
     "output_type": "display_data"
    },
    {
     "name": "stdout",
     "output_type": "stream",
     "text": [
      "Epoch 60: train=0.95276, val=0.965757, took 37.188 s\n"
     ]
    },
    {
     "data": {
      "application/vnd.jupyter.widget-view+json": {
       "model_id": "",
       "version_major": 2,
       "version_minor": 0
      },
      "text/plain": [
       "HBox(children=(FloatProgress(value=0.0, description='Training', layout=Layout(flex='2'), max=1125.0, style=Pro…"
      ]
     },
     "metadata": {},
     "output_type": "display_data"
    },
    {
     "name": "stdout",
     "output_type": "stream",
     "text": [
      "Epoch 61: train=0.947644, val=0.958085, took 37.019 s\n"
     ]
    },
    {
     "data": {
      "application/vnd.jupyter.widget-view+json": {
       "model_id": "",
       "version_major": 2,
       "version_minor": 0
      },
      "text/plain": [
       "HBox(children=(FloatProgress(value=0.0, description='Training', layout=Layout(flex='2'), max=1125.0, style=Pro…"
      ]
     },
     "metadata": {},
     "output_type": "display_data"
    },
    {
     "name": "stdout",
     "output_type": "stream",
     "text": [
      "Epoch 62: train=0.95208, val=0.969144, took 36.963 s\n"
     ]
    },
    {
     "data": {
      "application/vnd.jupyter.widget-view+json": {
       "model_id": "",
       "version_major": 2,
       "version_minor": 0
      },
      "text/plain": [
       "HBox(children=(FloatProgress(value=0.0, description='Training', layout=Layout(flex='2'), max=1125.0, style=Pro…"
      ]
     },
     "metadata": {},
     "output_type": "display_data"
    },
    {
     "name": "stdout",
     "output_type": "stream",
     "text": [
      "Epoch 63: train=0.958981, val=0.956876, took 37.289 s\n"
     ]
    },
    {
     "data": {
      "application/vnd.jupyter.widget-view+json": {
       "model_id": "",
       "version_major": 2,
       "version_minor": 0
      },
      "text/plain": [
       "HBox(children=(FloatProgress(value=0.0, description='Training', layout=Layout(flex='2'), max=1125.0, style=Pro…"
      ]
     },
     "metadata": {},
     "output_type": "display_data"
    },
    {
     "name": "stdout",
     "output_type": "stream",
     "text": [
      "Epoch 64: train=0.953528, val=0.959847, took 36.919 s\n"
     ]
    },
    {
     "data": {
      "application/vnd.jupyter.widget-view+json": {
       "model_id": "",
       "version_major": 2,
       "version_minor": 0
      },
      "text/plain": [
       "HBox(children=(FloatProgress(value=0.0, description='Training', layout=Layout(flex='2'), max=1125.0, style=Pro…"
      ]
     },
     "metadata": {},
     "output_type": "display_data"
    },
    {
     "name": "stdout",
     "output_type": "stream",
     "text": [
      "Epoch 65: train=0.951725, val=0.958637, took 36.933 s\n"
     ]
    },
    {
     "data": {
      "application/vnd.jupyter.widget-view+json": {
       "model_id": "",
       "version_major": 2,
       "version_minor": 0
      },
      "text/plain": [
       "HBox(children=(FloatProgress(value=0.0, description='Training', layout=Layout(flex='2'), max=1125.0, style=Pro…"
      ]
     },
     "metadata": {},
     "output_type": "display_data"
    },
    {
     "name": "stdout",
     "output_type": "stream",
     "text": [
      "Epoch 66: train=0.951998, val=0.971513, took 37.005 s\n"
     ]
    },
    {
     "data": {
      "application/vnd.jupyter.widget-view+json": {
       "model_id": "",
       "version_major": 2,
       "version_minor": 0
      },
      "text/plain": [
       "HBox(children=(FloatProgress(value=0.0, description='Training', layout=Layout(flex='2'), max=1125.0, style=Pro…"
      ]
     },
     "metadata": {},
     "output_type": "display_data"
    },
    {
     "name": "stdout",
     "output_type": "stream",
     "text": [
      "Epoch 67: train=0.958768, val=0.95942, took 36.949 s\n"
     ]
    },
    {
     "data": {
      "application/vnd.jupyter.widget-view+json": {
       "model_id": "",
       "version_major": 2,
       "version_minor": 0
      },
      "text/plain": [
       "HBox(children=(FloatProgress(value=0.0, description='Training', layout=Layout(flex='2'), max=1125.0, style=Pro…"
      ]
     },
     "metadata": {},
     "output_type": "display_data"
    },
    {
     "name": "stdout",
     "output_type": "stream",
     "text": [
      "Epoch 68: train=0.950758, val=0.994202, took 36.996 s\n"
     ]
    },
    {
     "data": {
      "application/vnd.jupyter.widget-view+json": {
       "model_id": "",
       "version_major": 2,
       "version_minor": 0
      },
      "text/plain": [
       "HBox(children=(FloatProgress(value=0.0, description='Training', layout=Layout(flex='2'), max=1125.0, style=Pro…"
      ]
     },
     "metadata": {},
     "output_type": "display_data"
    },
    {
     "name": "stdout",
     "output_type": "stream",
     "text": [
      "Epoch 69: train=0.955214, val=0.971509, took 36.958 s\n"
     ]
    },
    {
     "data": {
      "application/vnd.jupyter.widget-view+json": {
       "model_id": "",
       "version_major": 2,
       "version_minor": 0
      },
      "text/plain": [
       "HBox(children=(FloatProgress(value=0.0, description='Training', layout=Layout(flex='2'), max=1125.0, style=Pro…"
      ]
     },
     "metadata": {},
     "output_type": "display_data"
    },
    {
     "name": "stdout",
     "output_type": "stream",
     "text": [
      "Epoch 70: train=0.951689, val=0.961326, took 36.884 s\n"
     ]
    },
    {
     "data": {
      "application/vnd.jupyter.widget-view+json": {
       "model_id": "",
       "version_major": 2,
       "version_minor": 0
      },
      "text/plain": [
       "HBox(children=(FloatProgress(value=0.0, description='Training', layout=Layout(flex='2'), max=1125.0, style=Pro…"
      ]
     },
     "metadata": {},
     "output_type": "display_data"
    },
    {
     "name": "stdout",
     "output_type": "stream",
     "text": [
      "Epoch 71: train=0.949247, val=0.957929, took 36.941 s\n"
     ]
    },
    {
     "data": {
      "application/vnd.jupyter.widget-view+json": {
       "model_id": "",
       "version_major": 2,
       "version_minor": 0
      },
      "text/plain": [
       "HBox(children=(FloatProgress(value=0.0, description='Training', layout=Layout(flex='2'), max=1125.0, style=Pro…"
      ]
     },
     "metadata": {},
     "output_type": "display_data"
    },
    {
     "name": "stdout",
     "output_type": "stream",
     "text": [
      "Epoch 72: train=0.949826, val=0.958088, took 36.95 s\n"
     ]
    },
    {
     "data": {
      "application/vnd.jupyter.widget-view+json": {
       "model_id": "",
       "version_major": 2,
       "version_minor": 0
      },
      "text/plain": [
       "HBox(children=(FloatProgress(value=0.0, description='Training', layout=Layout(flex='2'), max=1125.0, style=Pro…"
      ]
     },
     "metadata": {},
     "output_type": "display_data"
    },
    {
     "name": "stdout",
     "output_type": "stream",
     "text": [
      "Epoch 73: train=0.951828, val=0.961627, took 37.018 s\n"
     ]
    },
    {
     "data": {
      "application/vnd.jupyter.widget-view+json": {
       "model_id": "",
       "version_major": 2,
       "version_minor": 0
      },
      "text/plain": [
       "HBox(children=(FloatProgress(value=0.0, description='Training', layout=Layout(flex='2'), max=1125.0, style=Pro…"
      ]
     },
     "metadata": {},
     "output_type": "display_data"
    },
    {
     "name": "stdout",
     "output_type": "stream",
     "text": [
      "Epoch 74: train=0.951038, val=0.967352, took 36.903 s\n"
     ]
    },
    {
     "data": {
      "application/vnd.jupyter.widget-view+json": {
       "model_id": "",
       "version_major": 2,
       "version_minor": 0
      },
      "text/plain": [
       "HBox(children=(FloatProgress(value=0.0, description='Training', layout=Layout(flex='2'), max=1125.0, style=Pro…"
      ]
     },
     "metadata": {},
     "output_type": "display_data"
    },
    {
     "name": "stdout",
     "output_type": "stream",
     "text": [
      "Epoch 75: train=0.959648, val=0.959416, took 36.86 s\n"
     ]
    },
    {
     "data": {
      "application/vnd.jupyter.widget-view+json": {
       "model_id": "",
       "version_major": 2,
       "version_minor": 0
      },
      "text/plain": [
       "HBox(children=(FloatProgress(value=0.0, description='Training', layout=Layout(flex='2'), max=1125.0, style=Pro…"
      ]
     },
     "metadata": {},
     "output_type": "display_data"
    },
    {
     "name": "stdout",
     "output_type": "stream",
     "text": [
      "Epoch 76: train=0.947527, val=0.957154, took 36.898 s\n"
     ]
    },
    {
     "data": {
      "application/vnd.jupyter.widget-view+json": {
       "model_id": "",
       "version_major": 2,
       "version_minor": 0
      },
      "text/plain": [
       "HBox(children=(FloatProgress(value=0.0, description='Training', layout=Layout(flex='2'), max=1125.0, style=Pro…"
      ]
     },
     "metadata": {},
     "output_type": "display_data"
    },
    {
     "name": "stdout",
     "output_type": "stream",
     "text": [
      "Epoch 77: train=0.95404, val=0.969239, took 36.97 s\n"
     ]
    },
    {
     "data": {
      "application/vnd.jupyter.widget-view+json": {
       "model_id": "",
       "version_major": 2,
       "version_minor": 0
      },
      "text/plain": [
       "HBox(children=(FloatProgress(value=0.0, description='Training', layout=Layout(flex='2'), max=1125.0, style=Pro…"
      ]
     },
     "metadata": {},
     "output_type": "display_data"
    },
    {
     "name": "stdout",
     "output_type": "stream",
     "text": [
      "Epoch 78: train=0.948591, val=0.995779, took 37.053 s\n"
     ]
    },
    {
     "data": {
      "application/vnd.jupyter.widget-view+json": {
       "model_id": "",
       "version_major": 2,
       "version_minor": 0
      },
      "text/plain": [
       "HBox(children=(FloatProgress(value=0.0, description='Training', layout=Layout(flex='2'), max=1125.0, style=Pro…"
      ]
     },
     "metadata": {},
     "output_type": "display_data"
    },
    {
     "name": "stdout",
     "output_type": "stream",
     "text": [
      "Epoch 79: train=0.951598, val=0.983096, took 36.987 s\n"
     ]
    },
    {
     "data": {
      "application/vnd.jupyter.widget-view+json": {
       "model_id": "",
       "version_major": 2,
       "version_minor": 0
      },
      "text/plain": [
       "HBox(children=(FloatProgress(value=0.0, description='Training', layout=Layout(flex='2'), max=1125.0, style=Pro…"
      ]
     },
     "metadata": {},
     "output_type": "display_data"
    },
    {
     "name": "stdout",
     "output_type": "stream",
     "text": [
      "Epoch 80: train=0.956014, val=0.972424, took 37.016 s\n"
     ]
    },
    {
     "data": {
      "application/vnd.jupyter.widget-view+json": {
       "model_id": "",
       "version_major": 2,
       "version_minor": 0
      },
      "text/plain": [
       "HBox(children=(FloatProgress(value=0.0, description='Training', layout=Layout(flex='2'), max=1125.0, style=Pro…"
      ]
     },
     "metadata": {},
     "output_type": "display_data"
    },
    {
     "name": "stdout",
     "output_type": "stream",
     "text": [
      "Epoch 81: train=0.952033, val=0.956473, took 36.963 s\n"
     ]
    },
    {
     "data": {
      "application/vnd.jupyter.widget-view+json": {
       "model_id": "",
       "version_major": 2,
       "version_minor": 0
      },
      "text/plain": [
       "HBox(children=(FloatProgress(value=0.0, description='Training', layout=Layout(flex='2'), max=1125.0, style=Pro…"
      ]
     },
     "metadata": {},
     "output_type": "display_data"
    },
    {
     "name": "stdout",
     "output_type": "stream",
     "text": [
      "Epoch 82: train=0.954279, val=1.03201, took 36.863 s\n"
     ]
    },
    {
     "data": {
      "application/vnd.jupyter.widget-view+json": {
       "model_id": "",
       "version_major": 2,
       "version_minor": 0
      },
      "text/plain": [
       "HBox(children=(FloatProgress(value=0.0, description='Training', layout=Layout(flex='2'), max=1125.0, style=Pro…"
      ]
     },
     "metadata": {},
     "output_type": "display_data"
    },
    {
     "name": "stdout",
     "output_type": "stream",
     "text": [
      "Epoch 83: train=0.955176, val=0.962016, took 36.851 s\n"
     ]
    },
    {
     "data": {
      "application/vnd.jupyter.widget-view+json": {
       "model_id": "",
       "version_major": 2,
       "version_minor": 0
      },
      "text/plain": [
       "HBox(children=(FloatProgress(value=0.0, description='Training', layout=Layout(flex='2'), max=1125.0, style=Pro…"
      ]
     },
     "metadata": {},
     "output_type": "display_data"
    },
    {
     "name": "stdout",
     "output_type": "stream",
     "text": [
      "Epoch 84: train=0.947081, val=1.00646, took 36.966 s\n"
     ]
    },
    {
     "data": {
      "application/vnd.jupyter.widget-view+json": {
       "model_id": "",
       "version_major": 2,
       "version_minor": 0
      },
      "text/plain": [
       "HBox(children=(FloatProgress(value=0.0, description='Training', layout=Layout(flex='2'), max=1125.0, style=Pro…"
      ]
     },
     "metadata": {},
     "output_type": "display_data"
    },
    {
     "name": "stdout",
     "output_type": "stream",
     "text": [
      "Epoch 85: train=0.953254, val=0.960782, took 37.0 s\n"
     ]
    },
    {
     "data": {
      "application/vnd.jupyter.widget-view+json": {
       "model_id": "",
       "version_major": 2,
       "version_minor": 0
      },
      "text/plain": [
       "HBox(children=(FloatProgress(value=0.0, description='Training', layout=Layout(flex='2'), max=1125.0, style=Pro…"
      ]
     },
     "metadata": {},
     "output_type": "display_data"
    },
    {
     "name": "stdout",
     "output_type": "stream",
     "text": [
      "Epoch 86: train=0.953151, val=0.960383, took 36.99 s\n"
     ]
    },
    {
     "data": {
      "application/vnd.jupyter.widget-view+json": {
       "model_id": "",
       "version_major": 2,
       "version_minor": 0
      },
      "text/plain": [
       "HBox(children=(FloatProgress(value=0.0, description='Training', layout=Layout(flex='2'), max=1125.0, style=Pro…"
      ]
     },
     "metadata": {},
     "output_type": "display_data"
    },
    {
     "name": "stdout",
     "output_type": "stream",
     "text": [
      "Epoch 87: train=0.957143, val=0.969933, took 36.916 s\n"
     ]
    },
    {
     "data": {
      "application/vnd.jupyter.widget-view+json": {
       "model_id": "",
       "version_major": 2,
       "version_minor": 0
      },
      "text/plain": [
       "HBox(children=(FloatProgress(value=0.0, description='Training', layout=Layout(flex='2'), max=1125.0, style=Pro…"
      ]
     },
     "metadata": {},
     "output_type": "display_data"
    },
    {
     "name": "stdout",
     "output_type": "stream",
     "text": [
      "Epoch 88: train=0.953993, val=0.958878, took 36.895 s\n"
     ]
    },
    {
     "data": {
      "application/vnd.jupyter.widget-view+json": {
       "model_id": "",
       "version_major": 2,
       "version_minor": 0
      },
      "text/plain": [
       "HBox(children=(FloatProgress(value=0.0, description='Training', layout=Layout(flex='2'), max=1125.0, style=Pro…"
      ]
     },
     "metadata": {},
     "output_type": "display_data"
    },
    {
     "name": "stdout",
     "output_type": "stream",
     "text": [
      "Epoch 89: train=0.949741, val=0.957353, took 37.379 s\n"
     ]
    },
    {
     "data": {
      "application/vnd.jupyter.widget-view+json": {
       "model_id": "",
       "version_major": 2,
       "version_minor": 0
      },
      "text/plain": [
       "HBox(children=(FloatProgress(value=0.0, description='Training', layout=Layout(flex='2'), max=1125.0, style=Pro…"
      ]
     },
     "metadata": {},
     "output_type": "display_data"
    },
    {
     "name": "stdout",
     "output_type": "stream",
     "text": [
      "Epoch 90: train=0.947891, val=0.981875, took 36.903 s\n"
     ]
    },
    {
     "data": {
      "application/vnd.jupyter.widget-view+json": {
       "model_id": "",
       "version_major": 2,
       "version_minor": 0
      },
      "text/plain": [
       "HBox(children=(FloatProgress(value=0.0, description='Training', layout=Layout(flex='2'), max=1125.0, style=Pro…"
      ]
     },
     "metadata": {},
     "output_type": "display_data"
    },
    {
     "name": "stdout",
     "output_type": "stream",
     "text": [
      "Epoch 91: train=0.950748, val=0.984929, took 36.99 s\n"
     ]
    },
    {
     "data": {
      "application/vnd.jupyter.widget-view+json": {
       "model_id": "",
       "version_major": 2,
       "version_minor": 0
      },
      "text/plain": [
       "HBox(children=(FloatProgress(value=0.0, description='Training', layout=Layout(flex='2'), max=1125.0, style=Pro…"
      ]
     },
     "metadata": {},
     "output_type": "display_data"
    },
    {
     "name": "stdout",
     "output_type": "stream",
     "text": [
      "Epoch 92: train=0.956602, val=0.966208, took 36.957 s\n"
     ]
    },
    {
     "data": {
      "application/vnd.jupyter.widget-view+json": {
       "model_id": "",
       "version_major": 2,
       "version_minor": 0
      },
      "text/plain": [
       "HBox(children=(FloatProgress(value=0.0, description='Training', layout=Layout(flex='2'), max=1125.0, style=Pro…"
      ]
     },
     "metadata": {},
     "output_type": "display_data"
    },
    {
     "name": "stdout",
     "output_type": "stream",
     "text": [
      "Epoch 93: train=0.954689, val=0.99375, took 36.909 s\n"
     ]
    },
    {
     "data": {
      "application/vnd.jupyter.widget-view+json": {
       "model_id": "",
       "version_major": 2,
       "version_minor": 0
      },
      "text/plain": [
       "HBox(children=(FloatProgress(value=0.0, description='Training', layout=Layout(flex='2'), max=1125.0, style=Pro…"
      ]
     },
     "metadata": {},
     "output_type": "display_data"
    },
    {
     "name": "stdout",
     "output_type": "stream",
     "text": [
      "Epoch 94: train=0.949409, val=0.973867, took 36.829 s\n"
     ]
    },
    {
     "data": {
      "application/vnd.jupyter.widget-view+json": {
       "model_id": "",
       "version_major": 2,
       "version_minor": 0
      },
      "text/plain": [
       "HBox(children=(FloatProgress(value=0.0, description='Training', layout=Layout(flex='2'), max=1125.0, style=Pro…"
      ]
     },
     "metadata": {},
     "output_type": "display_data"
    },
    {
     "name": "stdout",
     "output_type": "stream",
     "text": [
      "Epoch 95: train=0.943325, val=1.0107, took 36.83 s\n"
     ]
    },
    {
     "data": {
      "application/vnd.jupyter.widget-view+json": {
       "model_id": "",
       "version_major": 2,
       "version_minor": 0
      },
      "text/plain": [
       "HBox(children=(FloatProgress(value=0.0, description='Training', layout=Layout(flex='2'), max=1125.0, style=Pro…"
      ]
     },
     "metadata": {},
     "output_type": "display_data"
    },
    {
     "name": "stdout",
     "output_type": "stream",
     "text": [
      "Epoch 96: train=0.949017, val=0.960834, took 36.902 s\n"
     ]
    },
    {
     "data": {
      "application/vnd.jupyter.widget-view+json": {
       "model_id": "",
       "version_major": 2,
       "version_minor": 0
      },
      "text/plain": [
       "HBox(children=(FloatProgress(value=0.0, description='Training', layout=Layout(flex='2'), max=1125.0, style=Pro…"
      ]
     },
     "metadata": {},
     "output_type": "display_data"
    },
    {
     "name": "stdout",
     "output_type": "stream",
     "text": [
      "Epoch 97: train=0.948473, val=0.972861, took 37.032 s\n"
     ]
    },
    {
     "data": {
      "application/vnd.jupyter.widget-view+json": {
       "model_id": "",
       "version_major": 2,
       "version_minor": 0
      },
      "text/plain": [
       "HBox(children=(FloatProgress(value=0.0, description='Training', layout=Layout(flex='2'), max=1125.0, style=Pro…"
      ]
     },
     "metadata": {},
     "output_type": "display_data"
    },
    {
     "name": "stdout",
     "output_type": "stream",
     "text": [
      "Epoch 98: train=0.946204, val=0.979768, took 37.151 s\n"
     ]
    },
    {
     "data": {
      "application/vnd.jupyter.widget-view+json": {
       "model_id": "",
       "version_major": 2,
       "version_minor": 0
      },
      "text/plain": [
       "HBox(children=(FloatProgress(value=0.0, description='Training', layout=Layout(flex='2'), max=1125.0, style=Pro…"
      ]
     },
     "metadata": {},
     "output_type": "display_data"
    },
    {
     "name": "stdout",
     "output_type": "stream",
     "text": [
      "Epoch 99: train=0.94295, val=0.97867, took 36.964 s\n"
     ]
    },
    {
     "data": {
      "application/vnd.jupyter.widget-view+json": {
       "model_id": "",
       "version_major": 2,
       "version_minor": 0
      },
      "text/plain": [
       "HBox(children=(FloatProgress(value=0.0, description='Training', layout=Layout(flex='2'), max=1125.0, style=Pro…"
      ]
     },
     "metadata": {},
     "output_type": "display_data"
    },
    {
     "name": "stdout",
     "output_type": "stream",
     "text": [
      "Epoch 100: train=0.951733, val=0.957022, took 36.94 s\n"
     ]
    },
    {
     "data": {
      "application/vnd.jupyter.widget-view+json": {
       "model_id": "",
       "version_major": 2,
       "version_minor": 0
      },
      "text/plain": [
       "HBox(children=(FloatProgress(value=0.0, description='Training', layout=Layout(flex='2'), max=1125.0, style=Pro…"
      ]
     },
     "metadata": {},
     "output_type": "display_data"
    },
    {
     "name": "stdout",
     "output_type": "stream",
     "text": [
      "Epoch 101: train=0.949484, val=0.958622, took 36.933 s\n"
     ]
    },
    {
     "data": {
      "application/vnd.jupyter.widget-view+json": {
       "model_id": "",
       "version_major": 2,
       "version_minor": 0
      },
      "text/plain": [
       "HBox(children=(FloatProgress(value=0.0, description='Training', layout=Layout(flex='2'), max=1125.0, style=Pro…"
      ]
     },
     "metadata": {},
     "output_type": "display_data"
    },
    {
     "name": "stdout",
     "output_type": "stream",
     "text": [
      "Epoch 102: train=0.954499, val=0.960168, took 36.969 s\n"
     ]
    },
    {
     "data": {
      "application/vnd.jupyter.widget-view+json": {
       "model_id": "",
       "version_major": 2,
       "version_minor": 0
      },
      "text/plain": [
       "HBox(children=(FloatProgress(value=0.0, description='Training', layout=Layout(flex='2'), max=1125.0, style=Pro…"
      ]
     },
     "metadata": {},
     "output_type": "display_data"
    },
    {
     "name": "stdout",
     "output_type": "stream",
     "text": [
      "Epoch 103: train=0.952213, val=0.957973, took 36.978 s\n"
     ]
    },
    {
     "data": {
      "application/vnd.jupyter.widget-view+json": {
       "model_id": "",
       "version_major": 2,
       "version_minor": 0
      },
      "text/plain": [
       "HBox(children=(FloatProgress(value=0.0, description='Training', layout=Layout(flex='2'), max=1125.0, style=Pro…"
      ]
     },
     "metadata": {},
     "output_type": "display_data"
    },
    {
     "name": "stdout",
     "output_type": "stream",
     "text": [
      "Epoch 104: train=0.949119, val=0.966705, took 36.921 s\n"
     ]
    },
    {
     "data": {
      "application/vnd.jupyter.widget-view+json": {
       "model_id": "",
       "version_major": 2,
       "version_minor": 0
      },
      "text/plain": [
       "HBox(children=(FloatProgress(value=0.0, description='Training', layout=Layout(flex='2'), max=1125.0, style=Pro…"
      ]
     },
     "metadata": {},
     "output_type": "display_data"
    },
    {
     "name": "stdout",
     "output_type": "stream",
     "text": [
      "Epoch 105: train=0.955942, val=0.959933, took 36.852 s\n"
     ]
    },
    {
     "data": {
      "application/vnd.jupyter.widget-view+json": {
       "model_id": "",
       "version_major": 2,
       "version_minor": 0
      },
      "text/plain": [
       "HBox(children=(FloatProgress(value=0.0, description='Training', layout=Layout(flex='2'), max=1125.0, style=Pro…"
      ]
     },
     "metadata": {},
     "output_type": "display_data"
    },
    {
     "name": "stdout",
     "output_type": "stream",
     "text": [
      "Epoch 106: train=0.950261, val=0.996305, took 36.931 s\n"
     ]
    },
    {
     "data": {
      "application/vnd.jupyter.widget-view+json": {
       "model_id": "",
       "version_major": 2,
       "version_minor": 0
      },
      "text/plain": [
       "HBox(children=(FloatProgress(value=0.0, description='Training', layout=Layout(flex='2'), max=1125.0, style=Pro…"
      ]
     },
     "metadata": {},
     "output_type": "display_data"
    },
    {
     "name": "stdout",
     "output_type": "stream",
     "text": [
      "Epoch 107: train=0.951776, val=0.964394, took 36.902 s\n"
     ]
    },
    {
     "data": {
      "application/vnd.jupyter.widget-view+json": {
       "model_id": "",
       "version_major": 2,
       "version_minor": 0
      },
      "text/plain": [
       "HBox(children=(FloatProgress(value=0.0, description='Training', layout=Layout(flex='2'), max=1125.0, style=Pro…"
      ]
     },
     "metadata": {},
     "output_type": "display_data"
    },
    {
     "name": "stdout",
     "output_type": "stream",
     "text": [
      "Epoch 108: train=0.956917, val=1.06635, took 36.915 s\n"
     ]
    },
    {
     "data": {
      "application/vnd.jupyter.widget-view+json": {
       "model_id": "",
       "version_major": 2,
       "version_minor": 0
      },
      "text/plain": [
       "HBox(children=(FloatProgress(value=0.0, description='Training', layout=Layout(flex='2'), max=1125.0, style=Pro…"
      ]
     },
     "metadata": {},
     "output_type": "display_data"
    },
    {
     "name": "stdout",
     "output_type": "stream",
     "text": [
      "Epoch 109: train=0.952952, val=0.960274, took 36.893 s\n"
     ]
    },
    {
     "data": {
      "application/vnd.jupyter.widget-view+json": {
       "model_id": "",
       "version_major": 2,
       "version_minor": 0
      },
      "text/plain": [
       "HBox(children=(FloatProgress(value=0.0, description='Training', layout=Layout(flex='2'), max=1125.0, style=Pro…"
      ]
     },
     "metadata": {},
     "output_type": "display_data"
    },
    {
     "name": "stdout",
     "output_type": "stream",
     "text": [
      "Epoch 110: train=0.952301, val=0.963206, took 36.908 s\n"
     ]
    },
    {
     "data": {
      "application/vnd.jupyter.widget-view+json": {
       "model_id": "",
       "version_major": 2,
       "version_minor": 0
      },
      "text/plain": [
       "HBox(children=(FloatProgress(value=0.0, description='Training', layout=Layout(flex='2'), max=1125.0, style=Pro…"
      ]
     },
     "metadata": {},
     "output_type": "display_data"
    },
    {
     "name": "stdout",
     "output_type": "stream",
     "text": [
      "Epoch 111: train=0.954903, val=0.957332, took 36.87 s\n"
     ]
    },
    {
     "data": {
      "application/vnd.jupyter.widget-view+json": {
       "model_id": "",
       "version_major": 2,
       "version_minor": 0
      },
      "text/plain": [
       "HBox(children=(FloatProgress(value=0.0, description='Training', layout=Layout(flex='2'), max=1125.0, style=Pro…"
      ]
     },
     "metadata": {},
     "output_type": "display_data"
    },
    {
     "name": "stdout",
     "output_type": "stream",
     "text": [
      "Epoch 112: train=0.951118, val=0.966385, took 36.828 s\n"
     ]
    },
    {
     "data": {
      "application/vnd.jupyter.widget-view+json": {
       "model_id": "",
       "version_major": 2,
       "version_minor": 0
      },
      "text/plain": [
       "HBox(children=(FloatProgress(value=0.0, description='Training', layout=Layout(flex='2'), max=1125.0, style=Pro…"
      ]
     },
     "metadata": {},
     "output_type": "display_data"
    },
    {
     "name": "stdout",
     "output_type": "stream",
     "text": [
      "Epoch 113: train=0.952118, val=0.956855, took 36.982 s\n"
     ]
    },
    {
     "data": {
      "application/vnd.jupyter.widget-view+json": {
       "model_id": "",
       "version_major": 2,
       "version_minor": 0
      },
      "text/plain": [
       "HBox(children=(FloatProgress(value=0.0, description='Training', layout=Layout(flex='2'), max=1125.0, style=Pro…"
      ]
     },
     "metadata": {},
     "output_type": "display_data"
    },
    {
     "name": "stdout",
     "output_type": "stream",
     "text": [
      "Epoch 114: train=0.950287, val=0.960193, took 36.843 s\n"
     ]
    },
    {
     "data": {
      "application/vnd.jupyter.widget-view+json": {
       "model_id": "",
       "version_major": 2,
       "version_minor": 0
      },
      "text/plain": [
       "HBox(children=(FloatProgress(value=0.0, description='Training', layout=Layout(flex='2'), max=1125.0, style=Pro…"
      ]
     },
     "metadata": {},
     "output_type": "display_data"
    },
    {
     "name": "stdout",
     "output_type": "stream",
     "text": [
      "Epoch 115: train=0.948759, val=0.959375, took 36.921 s\n"
     ]
    },
    {
     "data": {
      "application/vnd.jupyter.widget-view+json": {
       "model_id": "",
       "version_major": 2,
       "version_minor": 0
      },
      "text/plain": [
       "HBox(children=(FloatProgress(value=0.0, description='Training', layout=Layout(flex='2'), max=1125.0, style=Pro…"
      ]
     },
     "metadata": {},
     "output_type": "display_data"
    },
    {
     "name": "stdout",
     "output_type": "stream",
     "text": [
      "Epoch 116: train=0.950655, val=0.958465, took 36.849 s\n"
     ]
    },
    {
     "data": {
      "application/vnd.jupyter.widget-view+json": {
       "model_id": "",
       "version_major": 2,
       "version_minor": 0
      },
      "text/plain": [
       "HBox(children=(FloatProgress(value=0.0, description='Training', layout=Layout(flex='2'), max=1125.0, style=Pro…"
      ]
     },
     "metadata": {},
     "output_type": "display_data"
    },
    {
     "name": "stdout",
     "output_type": "stream",
     "text": [
      "Epoch 117: train=0.951152, val=0.979968, took 36.873 s\n"
     ]
    },
    {
     "data": {
      "application/vnd.jupyter.widget-view+json": {
       "model_id": "",
       "version_major": 2,
       "version_minor": 0
      },
      "text/plain": [
       "HBox(children=(FloatProgress(value=0.0, description='Training', layout=Layout(flex='2'), max=1125.0, style=Pro…"
      ]
     },
     "metadata": {},
     "output_type": "display_data"
    },
    {
     "name": "stdout",
     "output_type": "stream",
     "text": [
      "Epoch 118: train=0.951988, val=0.957703, took 36.833 s\n"
     ]
    },
    {
     "data": {
      "application/vnd.jupyter.widget-view+json": {
       "model_id": "",
       "version_major": 2,
       "version_minor": 0
      },
      "text/plain": [
       "HBox(children=(FloatProgress(value=0.0, description='Training', layout=Layout(flex='2'), max=1125.0, style=Pro…"
      ]
     },
     "metadata": {},
     "output_type": "display_data"
    },
    {
     "name": "stdout",
     "output_type": "stream",
     "text": [
      "Epoch 119: train=0.950121, val=0.957793, took 36.826 s\n"
     ]
    },
    {
     "data": {
      "application/vnd.jupyter.widget-view+json": {
       "model_id": "",
       "version_major": 2,
       "version_minor": 0
      },
      "text/plain": [
       "HBox(children=(FloatProgress(value=0.0, description='Training', layout=Layout(flex='2'), max=1125.0, style=Pro…"
      ]
     },
     "metadata": {},
     "output_type": "display_data"
    },
    {
     "name": "stdout",
     "output_type": "stream",
     "text": [
      "Epoch 120: train=0.947379, val=0.960613, took 37.063 s\n"
     ]
    },
    {
     "data": {
      "application/vnd.jupyter.widget-view+json": {
       "model_id": "",
       "version_major": 2,
       "version_minor": 0
      },
      "text/plain": [
       "HBox(children=(FloatProgress(value=0.0, description='Training', layout=Layout(flex='2'), max=1125.0, style=Pro…"
      ]
     },
     "metadata": {},
     "output_type": "display_data"
    },
    {
     "name": "stdout",
     "output_type": "stream",
     "text": [
      "Epoch 121: train=0.951172, val=0.956357, took 36.926 s\n"
     ]
    },
    {
     "data": {
      "application/vnd.jupyter.widget-view+json": {
       "model_id": "",
       "version_major": 2,
       "version_minor": 0
      },
      "text/plain": [
       "HBox(children=(FloatProgress(value=0.0, description='Training', layout=Layout(flex='2'), max=1125.0, style=Pro…"
      ]
     },
     "metadata": {},
     "output_type": "display_data"
    },
    {
     "name": "stdout",
     "output_type": "stream",
     "text": [
      "Epoch 122: train=0.949926, val=0.960523, took 36.784 s\n"
     ]
    },
    {
     "data": {
      "application/vnd.jupyter.widget-view+json": {
       "model_id": "",
       "version_major": 2,
       "version_minor": 0
      },
      "text/plain": [
       "HBox(children=(FloatProgress(value=0.0, description='Training', layout=Layout(flex='2'), max=1125.0, style=Pro…"
      ]
     },
     "metadata": {},
     "output_type": "display_data"
    },
    {
     "name": "stdout",
     "output_type": "stream",
     "text": [
      "Epoch 123: train=0.953575, val=0.958131, took 36.808 s\n"
     ]
    },
    {
     "data": {
      "application/vnd.jupyter.widget-view+json": {
       "model_id": "",
       "version_major": 2,
       "version_minor": 0
      },
      "text/plain": [
       "HBox(children=(FloatProgress(value=0.0, description='Training', layout=Layout(flex='2'), max=1125.0, style=Pro…"
      ]
     },
     "metadata": {},
     "output_type": "display_data"
    },
    {
     "name": "stdout",
     "output_type": "stream",
     "text": [
      "Epoch 124: train=0.947823, val=0.984969, took 36.999 s\n"
     ]
    },
    {
     "data": {
      "application/vnd.jupyter.widget-view+json": {
       "model_id": "",
       "version_major": 2,
       "version_minor": 0
      },
      "text/plain": [
       "HBox(children=(FloatProgress(value=0.0, description='Training', layout=Layout(flex='2'), max=1125.0, style=Pro…"
      ]
     },
     "metadata": {},
     "output_type": "display_data"
    },
    {
     "name": "stdout",
     "output_type": "stream",
     "text": [
      "Epoch 125: train=0.950052, val=0.961742, took 36.944 s\n"
     ]
    },
    {
     "data": {
      "application/vnd.jupyter.widget-view+json": {
       "model_id": "",
       "version_major": 2,
       "version_minor": 0
      },
      "text/plain": [
       "HBox(children=(FloatProgress(value=0.0, description='Training', layout=Layout(flex='2'), max=1125.0, style=Pro…"
      ]
     },
     "metadata": {},
     "output_type": "display_data"
    },
    {
     "name": "stdout",
     "output_type": "stream",
     "text": [
      "Epoch 126: train=0.949197, val=0.957684, took 36.818 s\n"
     ]
    },
    {
     "data": {
      "application/vnd.jupyter.widget-view+json": {
       "model_id": "",
       "version_major": 2,
       "version_minor": 0
      },
      "text/plain": [
       "HBox(children=(FloatProgress(value=0.0, description='Training', layout=Layout(flex='2'), max=1125.0, style=Pro…"
      ]
     },
     "metadata": {},
     "output_type": "display_data"
    },
    {
     "name": "stdout",
     "output_type": "stream",
     "text": [
      "Epoch 127: train=0.95163, val=0.967434, took 36.783 s\n"
     ]
    },
    {
     "data": {
      "application/vnd.jupyter.widget-view+json": {
       "model_id": "",
       "version_major": 2,
       "version_minor": 0
      },
      "text/plain": [
       "HBox(children=(FloatProgress(value=0.0, description='Training', layout=Layout(flex='2'), max=1125.0, style=Pro…"
      ]
     },
     "metadata": {},
     "output_type": "display_data"
    },
    {
     "name": "stdout",
     "output_type": "stream",
     "text": [
      "Epoch 128: train=0.949208, val=0.96398, took 36.904 s\n"
     ]
    },
    {
     "data": {
      "application/vnd.jupyter.widget-view+json": {
       "model_id": "",
       "version_major": 2,
       "version_minor": 0
      },
      "text/plain": [
       "HBox(children=(FloatProgress(value=0.0, description='Training', layout=Layout(flex='2'), max=1125.0, style=Pro…"
      ]
     },
     "metadata": {},
     "output_type": "display_data"
    },
    {
     "name": "stdout",
     "output_type": "stream",
     "text": [
      "Epoch 129: train=0.948837, val=0.994313, took 36.863 s\n"
     ]
    },
    {
     "data": {
      "application/vnd.jupyter.widget-view+json": {
       "model_id": "",
       "version_major": 2,
       "version_minor": 0
      },
      "text/plain": [
       "HBox(children=(FloatProgress(value=0.0, description='Training', layout=Layout(flex='2'), max=1125.0, style=Pro…"
      ]
     },
     "metadata": {},
     "output_type": "display_data"
    },
    {
     "name": "stdout",
     "output_type": "stream",
     "text": [
      "Epoch 130: train=0.946685, val=0.957389, took 37.0 s\n"
     ]
    },
    {
     "data": {
      "application/vnd.jupyter.widget-view+json": {
       "model_id": "",
       "version_major": 2,
       "version_minor": 0
      },
      "text/plain": [
       "HBox(children=(FloatProgress(value=0.0, description='Training', layout=Layout(flex='2'), max=1125.0, style=Pro…"
      ]
     },
     "metadata": {},
     "output_type": "display_data"
    },
    {
     "name": "stdout",
     "output_type": "stream",
     "text": [
      "Epoch 131: train=0.95274, val=0.957778, took 36.794 s\n"
     ]
    },
    {
     "data": {
      "application/vnd.jupyter.widget-view+json": {
       "model_id": "",
       "version_major": 2,
       "version_minor": 0
      },
      "text/plain": [
       "HBox(children=(FloatProgress(value=0.0, description='Training', layout=Layout(flex='2'), max=1125.0, style=Pro…"
      ]
     },
     "metadata": {},
     "output_type": "display_data"
    },
    {
     "name": "stdout",
     "output_type": "stream",
     "text": [
      "Epoch 132: train=0.947755, val=0.961479, took 36.828 s\n"
     ]
    },
    {
     "data": {
      "application/vnd.jupyter.widget-view+json": {
       "model_id": "",
       "version_major": 2,
       "version_minor": 0
      },
      "text/plain": [
       "HBox(children=(FloatProgress(value=0.0, description='Training', layout=Layout(flex='2'), max=1125.0, style=Pro…"
      ]
     },
     "metadata": {},
     "output_type": "display_data"
    },
    {
     "name": "stdout",
     "output_type": "stream",
     "text": [
      "Epoch 133: train=0.953257, val=1.01527, took 36.867 s\n"
     ]
    },
    {
     "data": {
      "application/vnd.jupyter.widget-view+json": {
       "model_id": "",
       "version_major": 2,
       "version_minor": 0
      },
      "text/plain": [
       "HBox(children=(FloatProgress(value=0.0, description='Training', layout=Layout(flex='2'), max=1125.0, style=Pro…"
      ]
     },
     "metadata": {},
     "output_type": "display_data"
    },
    {
     "name": "stdout",
     "output_type": "stream",
     "text": [
      "Epoch 134: train=0.954027, val=0.96246, took 37.314 s\n"
     ]
    },
    {
     "data": {
      "application/vnd.jupyter.widget-view+json": {
       "model_id": "",
       "version_major": 2,
       "version_minor": 0
      },
      "text/plain": [
       "HBox(children=(FloatProgress(value=0.0, description='Training', layout=Layout(flex='2'), max=1125.0, style=Pro…"
      ]
     },
     "metadata": {},
     "output_type": "display_data"
    },
    {
     "name": "stdout",
     "output_type": "stream",
     "text": [
      "Epoch 135: train=0.944614, val=1.02932, took 37.183 s\n"
     ]
    },
    {
     "data": {
      "application/vnd.jupyter.widget-view+json": {
       "model_id": "",
       "version_major": 2,
       "version_minor": 0
      },
      "text/plain": [
       "HBox(children=(FloatProgress(value=0.0, description='Training', layout=Layout(flex='2'), max=1125.0, style=Pro…"
      ]
     },
     "metadata": {},
     "output_type": "display_data"
    },
    {
     "name": "stdout",
     "output_type": "stream",
     "text": [
      "Epoch 136: train=0.948673, val=0.995096, took 36.787 s\n"
     ]
    },
    {
     "data": {
      "application/vnd.jupyter.widget-view+json": {
       "model_id": "",
       "version_major": 2,
       "version_minor": 0
      },
      "text/plain": [
       "HBox(children=(FloatProgress(value=0.0, description='Training', layout=Layout(flex='2'), max=1125.0, style=Pro…"
      ]
     },
     "metadata": {},
     "output_type": "display_data"
    },
    {
     "name": "stdout",
     "output_type": "stream",
     "text": [
      "Epoch 137: train=0.951034, val=0.968897, took 36.84 s\n"
     ]
    },
    {
     "data": {
      "application/vnd.jupyter.widget-view+json": {
       "model_id": "",
       "version_major": 2,
       "version_minor": 0
      },
      "text/plain": [
       "HBox(children=(FloatProgress(value=0.0, description='Training', layout=Layout(flex='2'), max=1125.0, style=Pro…"
      ]
     },
     "metadata": {},
     "output_type": "display_data"
    },
    {
     "name": "stdout",
     "output_type": "stream",
     "text": [
      "Epoch 138: train=0.949812, val=0.967462, took 36.864 s\n"
     ]
    },
    {
     "data": {
      "application/vnd.jupyter.widget-view+json": {
       "model_id": "",
       "version_major": 2,
       "version_minor": 0
      },
      "text/plain": [
       "HBox(children=(FloatProgress(value=0.0, description='Training', layout=Layout(flex='2'), max=1125.0, style=Pro…"
      ]
     },
     "metadata": {},
     "output_type": "display_data"
    },
    {
     "name": "stdout",
     "output_type": "stream",
     "text": [
      "Epoch 139: train=0.95437, val=0.957603, took 36.82 s\n"
     ]
    },
    {
     "data": {
      "application/vnd.jupyter.widget-view+json": {
       "model_id": "",
       "version_major": 2,
       "version_minor": 0
      },
      "text/plain": [
       "HBox(children=(FloatProgress(value=0.0, description='Training', layout=Layout(flex='2'), max=1125.0, style=Pro…"
      ]
     },
     "metadata": {},
     "output_type": "display_data"
    },
    {
     "name": "stdout",
     "output_type": "stream",
     "text": [
      "Epoch 140: train=0.947751, val=0.991529, took 36.92 s\n"
     ]
    },
    {
     "data": {
      "application/vnd.jupyter.widget-view+json": {
       "model_id": "",
       "version_major": 2,
       "version_minor": 0
      },
      "text/plain": [
       "HBox(children=(FloatProgress(value=0.0, description='Training', layout=Layout(flex='2'), max=1125.0, style=Pro…"
      ]
     },
     "metadata": {},
     "output_type": "display_data"
    },
    {
     "name": "stdout",
     "output_type": "stream",
     "text": [
      "Epoch 141: train=0.951241, val=0.970555, took 36.92 s\n"
     ]
    },
    {
     "data": {
      "application/vnd.jupyter.widget-view+json": {
       "model_id": "",
       "version_major": 2,
       "version_minor": 0
      },
      "text/plain": [
       "HBox(children=(FloatProgress(value=0.0, description='Training', layout=Layout(flex='2'), max=1125.0, style=Pro…"
      ]
     },
     "metadata": {},
     "output_type": "display_data"
    },
    {
     "name": "stdout",
     "output_type": "stream",
     "text": [
      "Epoch 142: train=0.947548, val=0.968431, took 36.796 s\n"
     ]
    },
    {
     "data": {
      "application/vnd.jupyter.widget-view+json": {
       "model_id": "",
       "version_major": 2,
       "version_minor": 0
      },
      "text/plain": [
       "HBox(children=(FloatProgress(value=0.0, description='Training', layout=Layout(flex='2'), max=1125.0, style=Pro…"
      ]
     },
     "metadata": {},
     "output_type": "display_data"
    },
    {
     "name": "stdout",
     "output_type": "stream",
     "text": [
      "Epoch 143: train=0.94865, val=0.959585, took 36.742 s\n"
     ]
    },
    {
     "data": {
      "application/vnd.jupyter.widget-view+json": {
       "model_id": "",
       "version_major": 2,
       "version_minor": 0
      },
      "text/plain": [
       "HBox(children=(FloatProgress(value=0.0, description='Training', layout=Layout(flex='2'), max=1125.0, style=Pro…"
      ]
     },
     "metadata": {},
     "output_type": "display_data"
    },
    {
     "name": "stdout",
     "output_type": "stream",
     "text": [
      "Epoch 144: train=0.950029, val=0.993204, took 36.846 s\n"
     ]
    },
    {
     "data": {
      "application/vnd.jupyter.widget-view+json": {
       "model_id": "",
       "version_major": 2,
       "version_minor": 0
      },
      "text/plain": [
       "HBox(children=(FloatProgress(value=0.0, description='Training', layout=Layout(flex='2'), max=1125.0, style=Pro…"
      ]
     },
     "metadata": {},
     "output_type": "display_data"
    },
    {
     "name": "stdout",
     "output_type": "stream",
     "text": [
      "Epoch 145: train=0.94588, val=1.00723, took 36.806 s\n"
     ]
    },
    {
     "data": {
      "application/vnd.jupyter.widget-view+json": {
       "model_id": "",
       "version_major": 2,
       "version_minor": 0
      },
      "text/plain": [
       "HBox(children=(FloatProgress(value=0.0, description='Training', layout=Layout(flex='2'), max=1125.0, style=Pro…"
      ]
     },
     "metadata": {},
     "output_type": "display_data"
    },
    {
     "name": "stdout",
     "output_type": "stream",
     "text": [
      "Epoch 146: train=0.947553, val=0.964695, took 36.91 s\n"
     ]
    },
    {
     "data": {
      "application/vnd.jupyter.widget-view+json": {
       "model_id": "",
       "version_major": 2,
       "version_minor": 0
      },
      "text/plain": [
       "HBox(children=(FloatProgress(value=0.0, description='Training', layout=Layout(flex='2'), max=1125.0, style=Pro…"
      ]
     },
     "metadata": {},
     "output_type": "display_data"
    },
    {
     "name": "stdout",
     "output_type": "stream",
     "text": [
      "Epoch 147: train=0.953605, val=0.974832, took 36.844 s\n"
     ]
    },
    {
     "data": {
      "application/vnd.jupyter.widget-view+json": {
       "model_id": "",
       "version_major": 2,
       "version_minor": 0
      },
      "text/plain": [
       "HBox(children=(FloatProgress(value=0.0, description='Training', layout=Layout(flex='2'), max=1125.0, style=Pro…"
      ]
     },
     "metadata": {},
     "output_type": "display_data"
    },
    {
     "name": "stdout",
     "output_type": "stream",
     "text": [
      "Epoch 148: train=0.951071, val=0.997538, took 37.136 s\n"
     ]
    },
    {
     "data": {
      "application/vnd.jupyter.widget-view+json": {
       "model_id": "",
       "version_major": 2,
       "version_minor": 0
      },
      "text/plain": [
       "HBox(children=(FloatProgress(value=0.0, description='Training', layout=Layout(flex='2'), max=1125.0, style=Pro…"
      ]
     },
     "metadata": {},
     "output_type": "display_data"
    },
    {
     "name": "stdout",
     "output_type": "stream",
     "text": [
      "Epoch 149: train=0.949461, val=0.95258, took 36.894 s\n"
     ]
    },
    {
     "data": {
      "application/vnd.jupyter.widget-view+json": {
       "model_id": "",
       "version_major": 2,
       "version_minor": 0
      },
      "text/plain": [
       "HBox(children=(FloatProgress(value=0.0, description='Training', layout=Layout(flex='2'), max=1125.0, style=Pro…"
      ]
     },
     "metadata": {},
     "output_type": "display_data"
    },
    {
     "name": "stdout",
     "output_type": "stream",
     "text": [
      "Epoch 150: train=0.942437, val=0.959305, took 36.894 s\n"
     ]
    },
    {
     "data": {
      "application/vnd.jupyter.widget-view+json": {
       "model_id": "",
       "version_major": 2,
       "version_minor": 0
      },
      "text/plain": [
       "HBox(children=(FloatProgress(value=0.0, description='Training', layout=Layout(flex='2'), max=1125.0, style=Pro…"
      ]
     },
     "metadata": {},
     "output_type": "display_data"
    },
    {
     "name": "stdout",
     "output_type": "stream",
     "text": [
      "Epoch 151: train=0.949927, val=0.959869, took 36.789 s\n"
     ]
    },
    {
     "data": {
      "application/vnd.jupyter.widget-view+json": {
       "model_id": "",
       "version_major": 2,
       "version_minor": 0
      },
      "text/plain": [
       "HBox(children=(FloatProgress(value=0.0, description='Training', layout=Layout(flex='2'), max=1125.0, style=Pro…"
      ]
     },
     "metadata": {},
     "output_type": "display_data"
    },
    {
     "name": "stdout",
     "output_type": "stream",
     "text": [
      "Epoch 152: train=0.947506, val=0.963599, took 36.949 s\n"
     ]
    },
    {
     "data": {
      "application/vnd.jupyter.widget-view+json": {
       "model_id": "",
       "version_major": 2,
       "version_minor": 0
      },
      "text/plain": [
       "HBox(children=(FloatProgress(value=0.0, description='Training', layout=Layout(flex='2'), max=1125.0, style=Pro…"
      ]
     },
     "metadata": {},
     "output_type": "display_data"
    },
    {
     "name": "stdout",
     "output_type": "stream",
     "text": [
      "Epoch 153: train=0.953151, val=0.979904, took 36.973 s\n"
     ]
    },
    {
     "data": {
      "application/vnd.jupyter.widget-view+json": {
       "model_id": "",
       "version_major": 2,
       "version_minor": 0
      },
      "text/plain": [
       "HBox(children=(FloatProgress(value=0.0, description='Training', layout=Layout(flex='2'), max=1125.0, style=Pro…"
      ]
     },
     "metadata": {},
     "output_type": "display_data"
    },
    {
     "name": "stdout",
     "output_type": "stream",
     "text": [
      "Epoch 154: train=0.948709, val=0.958277, took 36.902 s\n"
     ]
    },
    {
     "data": {
      "application/vnd.jupyter.widget-view+json": {
       "model_id": "",
       "version_major": 2,
       "version_minor": 0
      },
      "text/plain": [
       "HBox(children=(FloatProgress(value=0.0, description='Training', layout=Layout(flex='2'), max=1125.0, style=Pro…"
      ]
     },
     "metadata": {},
     "output_type": "display_data"
    },
    {
     "name": "stdout",
     "output_type": "stream",
     "text": [
      "Epoch 155: train=0.946239, val=0.960143, took 36.881 s\n"
     ]
    },
    {
     "data": {
      "application/vnd.jupyter.widget-view+json": {
       "model_id": "",
       "version_major": 2,
       "version_minor": 0
      },
      "text/plain": [
       "HBox(children=(FloatProgress(value=0.0, description='Training', layout=Layout(flex='2'), max=1125.0, style=Pro…"
      ]
     },
     "metadata": {},
     "output_type": "display_data"
    },
    {
     "name": "stdout",
     "output_type": "stream",
     "text": [
      "Epoch 156: train=0.94995, val=0.959086, took 36.83 s\n"
     ]
    },
    {
     "data": {
      "application/vnd.jupyter.widget-view+json": {
       "model_id": "",
       "version_major": 2,
       "version_minor": 0
      },
      "text/plain": [
       "HBox(children=(FloatProgress(value=0.0, description='Training', layout=Layout(flex='2'), max=1125.0, style=Pro…"
      ]
     },
     "metadata": {},
     "output_type": "display_data"
    },
    {
     "name": "stdout",
     "output_type": "stream",
     "text": [
      "Epoch 157: train=0.946817, val=0.955854, took 36.802 s\n"
     ]
    },
    {
     "data": {
      "application/vnd.jupyter.widget-view+json": {
       "model_id": "",
       "version_major": 2,
       "version_minor": 0
      },
      "text/plain": [
       "HBox(children=(FloatProgress(value=0.0, description='Training', layout=Layout(flex='2'), max=1125.0, style=Pro…"
      ]
     },
     "metadata": {},
     "output_type": "display_data"
    },
    {
     "name": "stdout",
     "output_type": "stream",
     "text": [
      "Epoch 158: train=0.9502, val=0.959325, took 36.799 s\n"
     ]
    },
    {
     "data": {
      "application/vnd.jupyter.widget-view+json": {
       "model_id": "",
       "version_major": 2,
       "version_minor": 0
      },
      "text/plain": [
       "HBox(children=(FloatProgress(value=0.0, description='Training', layout=Layout(flex='2'), max=1125.0, style=Pro…"
      ]
     },
     "metadata": {},
     "output_type": "display_data"
    },
    {
     "name": "stdout",
     "output_type": "stream",
     "text": [
      "Epoch 159: train=0.949354, val=0.956466, took 36.884 s\n"
     ]
    },
    {
     "data": {
      "application/vnd.jupyter.widget-view+json": {
       "model_id": "",
       "version_major": 2,
       "version_minor": 0
      },
      "text/plain": [
       "HBox(children=(FloatProgress(value=0.0, description='Training', layout=Layout(flex='2'), max=1125.0, style=Pro…"
      ]
     },
     "metadata": {},
     "output_type": "display_data"
    },
    {
     "name": "stdout",
     "output_type": "stream",
     "text": [
      "Epoch 160: train=0.946725, val=0.955379, took 36.79 s\n"
     ]
    },
    {
     "data": {
      "application/vnd.jupyter.widget-view+json": {
       "model_id": "",
       "version_major": 2,
       "version_minor": 0
      },
      "text/plain": [
       "HBox(children=(FloatProgress(value=0.0, description='Training', layout=Layout(flex='2'), max=1125.0, style=Pro…"
      ]
     },
     "metadata": {},
     "output_type": "display_data"
    },
    {
     "name": "stdout",
     "output_type": "stream",
     "text": [
      "Epoch 161: train=0.944726, val=0.963508, took 36.903 s\n"
     ]
    },
    {
     "data": {
      "application/vnd.jupyter.widget-view+json": {
       "model_id": "",
       "version_major": 2,
       "version_minor": 0
      },
      "text/plain": [
       "HBox(children=(FloatProgress(value=0.0, description='Training', layout=Layout(flex='2'), max=1125.0, style=Pro…"
      ]
     },
     "metadata": {},
     "output_type": "display_data"
    },
    {
     "name": "stdout",
     "output_type": "stream",
     "text": [
      "Epoch 162: train=0.945149, val=0.960742, took 36.851 s\n"
     ]
    },
    {
     "data": {
      "application/vnd.jupyter.widget-view+json": {
       "model_id": "",
       "version_major": 2,
       "version_minor": 0
      },
      "text/plain": [
       "HBox(children=(FloatProgress(value=0.0, description='Training', layout=Layout(flex='2'), max=1125.0, style=Pro…"
      ]
     },
     "metadata": {},
     "output_type": "display_data"
    },
    {
     "name": "stdout",
     "output_type": "stream",
     "text": [
      "Epoch 163: train=0.943839, val=0.968172, took 36.832 s\n"
     ]
    },
    {
     "data": {
      "application/vnd.jupyter.widget-view+json": {
       "model_id": "",
       "version_major": 2,
       "version_minor": 0
      },
      "text/plain": [
       "HBox(children=(FloatProgress(value=0.0, description='Training', layout=Layout(flex='2'), max=1125.0, style=Pro…"
      ]
     },
     "metadata": {},
     "output_type": "display_data"
    },
    {
     "name": "stdout",
     "output_type": "stream",
     "text": [
      "Epoch 164: train=0.951383, val=0.956495, took 36.782 s\n"
     ]
    },
    {
     "data": {
      "application/vnd.jupyter.widget-view+json": {
       "model_id": "",
       "version_major": 2,
       "version_minor": 0
      },
      "text/plain": [
       "HBox(children=(FloatProgress(value=0.0, description='Training', layout=Layout(flex='2'), max=1125.0, style=Pro…"
      ]
     },
     "metadata": {},
     "output_type": "display_data"
    },
    {
     "name": "stdout",
     "output_type": "stream",
     "text": [
      "Epoch 165: train=0.949004, val=0.956208, took 36.935 s\n"
     ]
    },
    {
     "data": {
      "application/vnd.jupyter.widget-view+json": {
       "model_id": "",
       "version_major": 2,
       "version_minor": 0
      },
      "text/plain": [
       "HBox(children=(FloatProgress(value=0.0, description='Training', layout=Layout(flex='2'), max=1125.0, style=Pro…"
      ]
     },
     "metadata": {},
     "output_type": "display_data"
    },
    {
     "name": "stdout",
     "output_type": "stream",
     "text": [
      "Epoch 166: train=0.948742, val=0.964592, took 36.917 s\n"
     ]
    },
    {
     "data": {
      "application/vnd.jupyter.widget-view+json": {
       "model_id": "",
       "version_major": 2,
       "version_minor": 0
      },
      "text/plain": [
       "HBox(children=(FloatProgress(value=0.0, description='Training', layout=Layout(flex='2'), max=1125.0, style=Pro…"
      ]
     },
     "metadata": {},
     "output_type": "display_data"
    },
    {
     "name": "stdout",
     "output_type": "stream",
     "text": [
      "Epoch 167: train=0.947221, val=1.09987, took 36.793 s\n"
     ]
    },
    {
     "data": {
      "application/vnd.jupyter.widget-view+json": {
       "model_id": "",
       "version_major": 2,
       "version_minor": 0
      },
      "text/plain": [
       "HBox(children=(FloatProgress(value=0.0, description='Training', layout=Layout(flex='2'), max=1125.0, style=Pro…"
      ]
     },
     "metadata": {},
     "output_type": "display_data"
    },
    {
     "name": "stdout",
     "output_type": "stream",
     "text": [
      "Epoch 168: train=0.952672, val=0.956293, took 36.79 s\n"
     ]
    },
    {
     "data": {
      "application/vnd.jupyter.widget-view+json": {
       "model_id": "",
       "version_major": 2,
       "version_minor": 0
      },
      "text/plain": [
       "HBox(children=(FloatProgress(value=0.0, description='Training', layout=Layout(flex='2'), max=1125.0, style=Pro…"
      ]
     },
     "metadata": {},
     "output_type": "display_data"
    },
    {
     "name": "stdout",
     "output_type": "stream",
     "text": [
      "Epoch 169: train=0.946186, val=0.974827, took 36.812 s\n"
     ]
    },
    {
     "data": {
      "application/vnd.jupyter.widget-view+json": {
       "model_id": "",
       "version_major": 2,
       "version_minor": 0
      },
      "text/plain": [
       "HBox(children=(FloatProgress(value=0.0, description='Training', layout=Layout(flex='2'), max=1125.0, style=Pro…"
      ]
     },
     "metadata": {},
     "output_type": "display_data"
    },
    {
     "name": "stdout",
     "output_type": "stream",
     "text": [
      "Epoch 170: train=0.95358, val=0.964603, took 36.922 s\n"
     ]
    },
    {
     "data": {
      "application/vnd.jupyter.widget-view+json": {
       "model_id": "",
       "version_major": 2,
       "version_minor": 0
      },
      "text/plain": [
       "HBox(children=(FloatProgress(value=0.0, description='Training', layout=Layout(flex='2'), max=1125.0, style=Pro…"
      ]
     },
     "metadata": {},
     "output_type": "display_data"
    },
    {
     "name": "stdout",
     "output_type": "stream",
     "text": [
      "Epoch 171: train=0.952094, val=0.972593, took 36.901 s\n"
     ]
    },
    {
     "data": {
      "application/vnd.jupyter.widget-view+json": {
       "model_id": "",
       "version_major": 2,
       "version_minor": 0
      },
      "text/plain": [
       "HBox(children=(FloatProgress(value=0.0, description='Training', layout=Layout(flex='2'), max=1125.0, style=Pro…"
      ]
     },
     "metadata": {},
     "output_type": "display_data"
    },
    {
     "name": "stdout",
     "output_type": "stream",
     "text": [
      "Epoch 172: train=0.952644, val=0.973286, took 36.806 s\n"
     ]
    },
    {
     "data": {
      "application/vnd.jupyter.widget-view+json": {
       "model_id": "",
       "version_major": 2,
       "version_minor": 0
      },
      "text/plain": [
       "HBox(children=(FloatProgress(value=0.0, description='Training', layout=Layout(flex='2'), max=1125.0, style=Pro…"
      ]
     },
     "metadata": {},
     "output_type": "display_data"
    },
    {
     "name": "stdout",
     "output_type": "stream",
     "text": [
      "Epoch 173: train=0.941583, val=0.962792, took 36.893 s\n"
     ]
    },
    {
     "data": {
      "application/vnd.jupyter.widget-view+json": {
       "model_id": "",
       "version_major": 2,
       "version_minor": 0
      },
      "text/plain": [
       "HBox(children=(FloatProgress(value=0.0, description='Training', layout=Layout(flex='2'), max=1125.0, style=Pro…"
      ]
     },
     "metadata": {},
     "output_type": "display_data"
    },
    {
     "name": "stdout",
     "output_type": "stream",
     "text": [
      "Epoch 174: train=0.950763, val=0.967974, took 36.881 s\n"
     ]
    },
    {
     "data": {
      "application/vnd.jupyter.widget-view+json": {
       "model_id": "",
       "version_major": 2,
       "version_minor": 0
      },
      "text/plain": [
       "HBox(children=(FloatProgress(value=0.0, description='Training', layout=Layout(flex='2'), max=1125.0, style=Pro…"
      ]
     },
     "metadata": {},
     "output_type": "display_data"
    },
    {
     "name": "stdout",
     "output_type": "stream",
     "text": [
      "Epoch 175: train=0.949731, val=0.966174, took 36.851 s\n"
     ]
    },
    {
     "data": {
      "application/vnd.jupyter.widget-view+json": {
       "model_id": "",
       "version_major": 2,
       "version_minor": 0
      },
      "text/plain": [
       "HBox(children=(FloatProgress(value=0.0, description='Training', layout=Layout(flex='2'), max=1125.0, style=Pro…"
      ]
     },
     "metadata": {},
     "output_type": "display_data"
    },
    {
     "name": "stdout",
     "output_type": "stream",
     "text": [
      "Epoch 176: train=0.946789, val=0.958352, took 36.809 s\n"
     ]
    },
    {
     "data": {
      "application/vnd.jupyter.widget-view+json": {
       "model_id": "",
       "version_major": 2,
       "version_minor": 0
      },
      "text/plain": [
       "HBox(children=(FloatProgress(value=0.0, description='Training', layout=Layout(flex='2'), max=1125.0, style=Pro…"
      ]
     },
     "metadata": {},
     "output_type": "display_data"
    },
    {
     "name": "stdout",
     "output_type": "stream",
     "text": [
      "Epoch 177: train=0.944307, val=0.963046, took 36.908 s\n"
     ]
    },
    {
     "data": {
      "application/vnd.jupyter.widget-view+json": {
       "model_id": "",
       "version_major": 2,
       "version_minor": 0
      },
      "text/plain": [
       "HBox(children=(FloatProgress(value=0.0, description='Training', layout=Layout(flex='2'), max=1125.0, style=Pro…"
      ]
     },
     "metadata": {},
     "output_type": "display_data"
    },
    {
     "name": "stdout",
     "output_type": "stream",
     "text": [
      "Epoch 178: train=0.943288, val=0.963274, took 36.88 s\n"
     ]
    },
    {
     "data": {
      "application/vnd.jupyter.widget-view+json": {
       "model_id": "",
       "version_major": 2,
       "version_minor": 0
      },
      "text/plain": [
       "HBox(children=(FloatProgress(value=0.0, description='Training', layout=Layout(flex='2'), max=1125.0, style=Pro…"
      ]
     },
     "metadata": {},
     "output_type": "display_data"
    },
    {
     "name": "stdout",
     "output_type": "stream",
     "text": [
      "Epoch 179: train=0.951194, val=0.983042, took 36.831 s\n"
     ]
    },
    {
     "data": {
      "application/vnd.jupyter.widget-view+json": {
       "model_id": "",
       "version_major": 2,
       "version_minor": 0
      },
      "text/plain": [
       "HBox(children=(FloatProgress(value=0.0, description='Training', layout=Layout(flex='2'), max=1125.0, style=Pro…"
      ]
     },
     "metadata": {},
     "output_type": "display_data"
    },
    {
     "name": "stdout",
     "output_type": "stream",
     "text": [
      "Epoch 180: train=0.945974, val=0.968657, took 36.909 s\n"
     ]
    },
    {
     "data": {
      "application/vnd.jupyter.widget-view+json": {
       "model_id": "",
       "version_major": 2,
       "version_minor": 0
      },
      "text/plain": [
       "HBox(children=(FloatProgress(value=0.0, description='Training', layout=Layout(flex='2'), max=1125.0, style=Pro…"
      ]
     },
     "metadata": {},
     "output_type": "display_data"
    },
    {
     "name": "stdout",
     "output_type": "stream",
     "text": [
      "Epoch 181: train=0.948571, val=1.01026, took 36.951 s\n"
     ]
    },
    {
     "data": {
      "application/vnd.jupyter.widget-view+json": {
       "model_id": "",
       "version_major": 2,
       "version_minor": 0
      },
      "text/plain": [
       "HBox(children=(FloatProgress(value=0.0, description='Training', layout=Layout(flex='2'), max=1125.0, style=Pro…"
      ]
     },
     "metadata": {},
     "output_type": "display_data"
    },
    {
     "name": "stdout",
     "output_type": "stream",
     "text": [
      "Epoch 182: train=0.949779, val=0.993277, took 36.956 s\n"
     ]
    },
    {
     "data": {
      "application/vnd.jupyter.widget-view+json": {
       "model_id": "",
       "version_major": 2,
       "version_minor": 0
      },
      "text/plain": [
       "HBox(children=(FloatProgress(value=0.0, description='Training', layout=Layout(flex='2'), max=1125.0, style=Pro…"
      ]
     },
     "metadata": {},
     "output_type": "display_data"
    },
    {
     "name": "stdout",
     "output_type": "stream",
     "text": [
      "Epoch 183: train=0.948982, val=0.956127, took 36.785 s\n"
     ]
    },
    {
     "data": {
      "application/vnd.jupyter.widget-view+json": {
       "model_id": "",
       "version_major": 2,
       "version_minor": 0
      },
      "text/plain": [
       "HBox(children=(FloatProgress(value=0.0, description='Training', layout=Layout(flex='2'), max=1125.0, style=Pro…"
      ]
     },
     "metadata": {},
     "output_type": "display_data"
    },
    {
     "name": "stdout",
     "output_type": "stream",
     "text": [
      "Epoch 184: train=0.949511, val=0.954667, took 36.808 s\n"
     ]
    },
    {
     "data": {
      "application/vnd.jupyter.widget-view+json": {
       "model_id": "",
       "version_major": 2,
       "version_minor": 0
      },
      "text/plain": [
       "HBox(children=(FloatProgress(value=0.0, description='Training', layout=Layout(flex='2'), max=1125.0, style=Pro…"
      ]
     },
     "metadata": {},
     "output_type": "display_data"
    },
    {
     "name": "stdout",
     "output_type": "stream",
     "text": [
      "Epoch 185: train=0.949275, val=0.973211, took 36.857 s\n"
     ]
    },
    {
     "data": {
      "application/vnd.jupyter.widget-view+json": {
       "model_id": "",
       "version_major": 2,
       "version_minor": 0
      },
      "text/plain": [
       "HBox(children=(FloatProgress(value=0.0, description='Training', layout=Layout(flex='2'), max=1125.0, style=Pro…"
      ]
     },
     "metadata": {},
     "output_type": "display_data"
    },
    {
     "name": "stdout",
     "output_type": "stream",
     "text": [
      "Epoch 186: train=0.942976, val=0.980821, took 36.936 s\n"
     ]
    },
    {
     "data": {
      "application/vnd.jupyter.widget-view+json": {
       "model_id": "",
       "version_major": 2,
       "version_minor": 0
      },
      "text/plain": [
       "HBox(children=(FloatProgress(value=0.0, description='Training', layout=Layout(flex='2'), max=1125.0, style=Pro…"
      ]
     },
     "metadata": {},
     "output_type": "display_data"
    },
    {
     "name": "stdout",
     "output_type": "stream",
     "text": [
      "Epoch 187: train=0.948937, val=0.959549, took 36.865 s\n"
     ]
    },
    {
     "data": {
      "application/vnd.jupyter.widget-view+json": {
       "model_id": "",
       "version_major": 2,
       "version_minor": 0
      },
      "text/plain": [
       "HBox(children=(FloatProgress(value=0.0, description='Training', layout=Layout(flex='2'), max=1125.0, style=Pro…"
      ]
     },
     "metadata": {},
     "output_type": "display_data"
    },
    {
     "name": "stdout",
     "output_type": "stream",
     "text": [
      "Epoch 188: train=0.945425, val=0.963446, took 36.853 s\n"
     ]
    },
    {
     "data": {
      "application/vnd.jupyter.widget-view+json": {
       "model_id": "",
       "version_major": 2,
       "version_minor": 0
      },
      "text/plain": [
       "HBox(children=(FloatProgress(value=0.0, description='Training', layout=Layout(flex='2'), max=1125.0, style=Pro…"
      ]
     },
     "metadata": {},
     "output_type": "display_data"
    },
    {
     "name": "stdout",
     "output_type": "stream",
     "text": [
      "Epoch 189: train=0.9512, val=0.971301, took 36.894 s\n"
     ]
    },
    {
     "data": {
      "application/vnd.jupyter.widget-view+json": {
       "model_id": "",
       "version_major": 2,
       "version_minor": 0
      },
      "text/plain": [
       "HBox(children=(FloatProgress(value=0.0, description='Training', layout=Layout(flex='2'), max=1125.0, style=Pro…"
      ]
     },
     "metadata": {},
     "output_type": "display_data"
    },
    {
     "name": "stdout",
     "output_type": "stream",
     "text": [
      "Epoch 190: train=0.948704, val=0.961744, took 36.852 s\n"
     ]
    },
    {
     "data": {
      "application/vnd.jupyter.widget-view+json": {
       "model_id": "",
       "version_major": 2,
       "version_minor": 0
      },
      "text/plain": [
       "HBox(children=(FloatProgress(value=0.0, description='Training', layout=Layout(flex='2'), max=1125.0, style=Pro…"
      ]
     },
     "metadata": {},
     "output_type": "display_data"
    },
    {
     "name": "stdout",
     "output_type": "stream",
     "text": [
      "Epoch 191: train=0.950289, val=0.978926, took 36.805 s\n"
     ]
    },
    {
     "data": {
      "application/vnd.jupyter.widget-view+json": {
       "model_id": "",
       "version_major": 2,
       "version_minor": 0
      },
      "text/plain": [
       "HBox(children=(FloatProgress(value=0.0, description='Training', layout=Layout(flex='2'), max=1125.0, style=Pro…"
      ]
     },
     "metadata": {},
     "output_type": "display_data"
    },
    {
     "name": "stdout",
     "output_type": "stream",
     "text": [
      "Epoch 192: train=0.943475, val=0.966644, took 36.803 s\n"
     ]
    },
    {
     "data": {
      "application/vnd.jupyter.widget-view+json": {
       "model_id": "",
       "version_major": 2,
       "version_minor": 0
      },
      "text/plain": [
       "HBox(children=(FloatProgress(value=0.0, description='Training', layout=Layout(flex='2'), max=1125.0, style=Pro…"
      ]
     },
     "metadata": {},
     "output_type": "display_data"
    },
    {
     "name": "stdout",
     "output_type": "stream",
     "text": [
      "Epoch 193: train=0.947057, val=0.956265, took 36.88 s\n"
     ]
    },
    {
     "data": {
      "application/vnd.jupyter.widget-view+json": {
       "model_id": "",
       "version_major": 2,
       "version_minor": 0
      },
      "text/plain": [
       "HBox(children=(FloatProgress(value=0.0, description='Training', layout=Layout(flex='2'), max=1125.0, style=Pro…"
      ]
     },
     "metadata": {},
     "output_type": "display_data"
    },
    {
     "name": "stdout",
     "output_type": "stream",
     "text": [
      "Epoch 194: train=0.949969, val=0.961908, took 36.939 s\n"
     ]
    },
    {
     "data": {
      "application/vnd.jupyter.widget-view+json": {
       "model_id": "",
       "version_major": 2,
       "version_minor": 0
      },
      "text/plain": [
       "HBox(children=(FloatProgress(value=0.0, description='Training', layout=Layout(flex='2'), max=1125.0, style=Pro…"
      ]
     },
     "metadata": {},
     "output_type": "display_data"
    },
    {
     "name": "stdout",
     "output_type": "stream",
     "text": [
      "Epoch 195: train=0.952184, val=0.993317, took 36.8 s\n"
     ]
    },
    {
     "data": {
      "application/vnd.jupyter.widget-view+json": {
       "model_id": "",
       "version_major": 2,
       "version_minor": 0
      },
      "text/plain": [
       "HBox(children=(FloatProgress(value=0.0, description='Training', layout=Layout(flex='2'), max=1125.0, style=Pro…"
      ]
     },
     "metadata": {},
     "output_type": "display_data"
    },
    {
     "name": "stdout",
     "output_type": "stream",
     "text": [
      "Epoch 196: train=0.951399, val=0.970704, took 36.74 s\n"
     ]
    },
    {
     "data": {
      "application/vnd.jupyter.widget-view+json": {
       "model_id": "",
       "version_major": 2,
       "version_minor": 0
      },
      "text/plain": [
       "HBox(children=(FloatProgress(value=0.0, description='Training', layout=Layout(flex='2'), max=1125.0, style=Pro…"
      ]
     },
     "metadata": {},
     "output_type": "display_data"
    },
    {
     "name": "stdout",
     "output_type": "stream",
     "text": [
      "Epoch 197: train=0.946611, val=1.01494, took 36.843 s\n"
     ]
    },
    {
     "data": {
      "application/vnd.jupyter.widget-view+json": {
       "model_id": "",
       "version_major": 2,
       "version_minor": 0
      },
      "text/plain": [
       "HBox(children=(FloatProgress(value=0.0, description='Training', layout=Layout(flex='2'), max=1125.0, style=Pro…"
      ]
     },
     "metadata": {},
     "output_type": "display_data"
    },
    {
     "name": "stdout",
     "output_type": "stream",
     "text": [
      "Epoch 198: train=0.94585, val=0.962091, took 36.815 s\n"
     ]
    },
    {
     "data": {
      "application/vnd.jupyter.widget-view+json": {
       "model_id": "",
       "version_major": 2,
       "version_minor": 0
      },
      "text/plain": [
       "HBox(children=(FloatProgress(value=0.0, description='Training', layout=Layout(flex='2'), max=1125.0, style=Pro…"
      ]
     },
     "metadata": {},
     "output_type": "display_data"
    },
    {
     "name": "stdout",
     "output_type": "stream",
     "text": [
      "Epoch 199: train=0.945345, val=0.960013, took 36.834 s\n"
     ]
    },
    {
     "data": {
      "application/vnd.jupyter.widget-view+json": {
       "model_id": "",
       "version_major": 2,
       "version_minor": 0
      },
      "text/plain": [
       "HBox(children=(FloatProgress(value=0.0, description='Training', layout=Layout(flex='2'), max=1125.0, style=Pro…"
      ]
     },
     "metadata": {},
     "output_type": "display_data"
    },
    {
     "name": "stdout",
     "output_type": "stream",
     "text": [
      "Epoch 200: train=0.950081, val=0.961101, took 36.933 s\n"
     ]
    },
    {
     "data": {
      "application/vnd.jupyter.widget-view+json": {
       "model_id": "",
       "version_major": 2,
       "version_minor": 0
      },
      "text/plain": [
       "HBox(children=(FloatProgress(value=0.0, description='Training', layout=Layout(flex='2'), max=1125.0, style=Pro…"
      ]
     },
     "metadata": {},
     "output_type": "display_data"
    },
    {
     "name": "stdout",
     "output_type": "stream",
     "text": [
      "Epoch 201: train=0.943465, val=0.958416, took 36.855 s\n"
     ]
    },
    {
     "data": {
      "application/vnd.jupyter.widget-view+json": {
       "model_id": "",
       "version_major": 2,
       "version_minor": 0
      },
      "text/plain": [
       "HBox(children=(FloatProgress(value=0.0, description='Training', layout=Layout(flex='2'), max=1125.0, style=Pro…"
      ]
     },
     "metadata": {},
     "output_type": "display_data"
    },
    {
     "name": "stdout",
     "output_type": "stream",
     "text": [
      "Epoch 202: train=0.950629, val=1.01603, took 36.875 s\n"
     ]
    },
    {
     "data": {
      "application/vnd.jupyter.widget-view+json": {
       "model_id": "",
       "version_major": 2,
       "version_minor": 0
      },
      "text/plain": [
       "HBox(children=(FloatProgress(value=0.0, description='Training', layout=Layout(flex='2'), max=1125.0, style=Pro…"
      ]
     },
     "metadata": {},
     "output_type": "display_data"
    },
    {
     "name": "stdout",
     "output_type": "stream",
     "text": [
      "Epoch 203: train=0.951284, val=0.959678, took 36.875 s\n"
     ]
    },
    {
     "data": {
      "application/vnd.jupyter.widget-view+json": {
       "model_id": "",
       "version_major": 2,
       "version_minor": 0
      },
      "text/plain": [
       "HBox(children=(FloatProgress(value=0.0, description='Training', layout=Layout(flex='2'), max=1125.0, style=Pro…"
      ]
     },
     "metadata": {},
     "output_type": "display_data"
    },
    {
     "name": "stdout",
     "output_type": "stream",
     "text": [
      "Epoch 204: train=0.947679, val=0.96302, took 36.9 s\n"
     ]
    },
    {
     "data": {
      "application/vnd.jupyter.widget-view+json": {
       "model_id": "",
       "version_major": 2,
       "version_minor": 0
      },
      "text/plain": [
       "HBox(children=(FloatProgress(value=0.0, description='Training', layout=Layout(flex='2'), max=1125.0, style=Pro…"
      ]
     },
     "metadata": {},
     "output_type": "display_data"
    },
    {
     "name": "stdout",
     "output_type": "stream",
     "text": [
      "Epoch 205: train=0.946922, val=0.963719, took 37.136 s\n"
     ]
    },
    {
     "data": {
      "application/vnd.jupyter.widget-view+json": {
       "model_id": "",
       "version_major": 2,
       "version_minor": 0
      },
      "text/plain": [
       "HBox(children=(FloatProgress(value=0.0, description='Training', layout=Layout(flex='2'), max=1125.0, style=Pro…"
      ]
     },
     "metadata": {},
     "output_type": "display_data"
    },
    {
     "name": "stdout",
     "output_type": "stream",
     "text": [
      "Epoch 206: train=0.949771, val=0.971558, took 36.774 s\n"
     ]
    },
    {
     "data": {
      "application/vnd.jupyter.widget-view+json": {
       "model_id": "",
       "version_major": 2,
       "version_minor": 0
      },
      "text/plain": [
       "HBox(children=(FloatProgress(value=0.0, description='Training', layout=Layout(flex='2'), max=1125.0, style=Pro…"
      ]
     },
     "metadata": {},
     "output_type": "display_data"
    },
    {
     "name": "stdout",
     "output_type": "stream",
     "text": [
      "Epoch 207: train=0.942558, val=0.967554, took 36.927 s\n"
     ]
    },
    {
     "data": {
      "application/vnd.jupyter.widget-view+json": {
       "model_id": "",
       "version_major": 2,
       "version_minor": 0
      },
      "text/plain": [
       "HBox(children=(FloatProgress(value=0.0, description='Training', layout=Layout(flex='2'), max=1125.0, style=Pro…"
      ]
     },
     "metadata": {},
     "output_type": "display_data"
    },
    {
     "name": "stdout",
     "output_type": "stream",
     "text": [
      "Epoch 208: train=0.94547, val=0.956185, took 37.022 s\n"
     ]
    },
    {
     "data": {
      "application/vnd.jupyter.widget-view+json": {
       "model_id": "",
       "version_major": 2,
       "version_minor": 0
      },
      "text/plain": [
       "HBox(children=(FloatProgress(value=0.0, description='Training', layout=Layout(flex='2'), max=1125.0, style=Pro…"
      ]
     },
     "metadata": {},
     "output_type": "display_data"
    },
    {
     "name": "stdout",
     "output_type": "stream",
     "text": [
      "Epoch 209: train=0.948287, val=0.969183, took 36.814 s\n"
     ]
    },
    {
     "data": {
      "application/vnd.jupyter.widget-view+json": {
       "model_id": "",
       "version_major": 2,
       "version_minor": 0
      },
      "text/plain": [
       "HBox(children=(FloatProgress(value=0.0, description='Training', layout=Layout(flex='2'), max=1125.0, style=Pro…"
      ]
     },
     "metadata": {},
     "output_type": "display_data"
    },
    {
     "name": "stdout",
     "output_type": "stream",
     "text": [
      "Epoch 210: train=0.945382, val=0.95982, took 36.857 s\n"
     ]
    },
    {
     "data": {
      "application/vnd.jupyter.widget-view+json": {
       "model_id": "",
       "version_major": 2,
       "version_minor": 0
      },
      "text/plain": [
       "HBox(children=(FloatProgress(value=0.0, description='Training', layout=Layout(flex='2'), max=1125.0, style=Pro…"
      ]
     },
     "metadata": {},
     "output_type": "display_data"
    },
    {
     "name": "stdout",
     "output_type": "stream",
     "text": [
      "Epoch 211: train=0.943719, val=0.959312, took 36.95 s\n"
     ]
    },
    {
     "data": {
      "application/vnd.jupyter.widget-view+json": {
       "model_id": "",
       "version_major": 2,
       "version_minor": 0
      },
      "text/plain": [
       "HBox(children=(FloatProgress(value=0.0, description='Training', layout=Layout(flex='2'), max=1125.0, style=Pro…"
      ]
     },
     "metadata": {},
     "output_type": "display_data"
    },
    {
     "name": "stdout",
     "output_type": "stream",
     "text": [
      "Epoch 212: train=0.946611, val=0.962269, took 36.891 s\n"
     ]
    },
    {
     "data": {
      "application/vnd.jupyter.widget-view+json": {
       "model_id": "",
       "version_major": 2,
       "version_minor": 0
      },
      "text/plain": [
       "HBox(children=(FloatProgress(value=0.0, description='Training', layout=Layout(flex='2'), max=1125.0, style=Pro…"
      ]
     },
     "metadata": {},
     "output_type": "display_data"
    },
    {
     "name": "stdout",
     "output_type": "stream",
     "text": [
      "Epoch 213: train=0.944942, val=0.964426, took 36.814 s\n"
     ]
    },
    {
     "data": {
      "application/vnd.jupyter.widget-view+json": {
       "model_id": "",
       "version_major": 2,
       "version_minor": 0
      },
      "text/plain": [
       "HBox(children=(FloatProgress(value=0.0, description='Training', layout=Layout(flex='2'), max=1125.0, style=Pro…"
      ]
     },
     "metadata": {},
     "output_type": "display_data"
    },
    {
     "name": "stdout",
     "output_type": "stream",
     "text": [
      "Epoch 214: train=0.94598, val=0.965422, took 36.95 s\n"
     ]
    },
    {
     "data": {
      "application/vnd.jupyter.widget-view+json": {
       "model_id": "",
       "version_major": 2,
       "version_minor": 0
      },
      "text/plain": [
       "HBox(children=(FloatProgress(value=0.0, description='Training', layout=Layout(flex='2'), max=1125.0, style=Pro…"
      ]
     },
     "metadata": {},
     "output_type": "display_data"
    },
    {
     "name": "stdout",
     "output_type": "stream",
     "text": [
      "Epoch 215: train=0.945405, val=0.953111, took 37.021 s\n"
     ]
    },
    {
     "data": {
      "application/vnd.jupyter.widget-view+json": {
       "model_id": "",
       "version_major": 2,
       "version_minor": 0
      },
      "text/plain": [
       "HBox(children=(FloatProgress(value=0.0, description='Training', layout=Layout(flex='2'), max=1125.0, style=Pro…"
      ]
     },
     "metadata": {},
     "output_type": "display_data"
    },
    {
     "name": "stdout",
     "output_type": "stream",
     "text": [
      "Epoch 216: train=0.947251, val=0.956408, took 36.855 s\n"
     ]
    },
    {
     "data": {
      "application/vnd.jupyter.widget-view+json": {
       "model_id": "",
       "version_major": 2,
       "version_minor": 0
      },
      "text/plain": [
       "HBox(children=(FloatProgress(value=0.0, description='Training', layout=Layout(flex='2'), max=1125.0, style=Pro…"
      ]
     },
     "metadata": {},
     "output_type": "display_data"
    },
    {
     "name": "stdout",
     "output_type": "stream",
     "text": [
      "Epoch 217: train=0.948847, val=0.984625, took 36.903 s\n"
     ]
    },
    {
     "data": {
      "application/vnd.jupyter.widget-view+json": {
       "model_id": "",
       "version_major": 2,
       "version_minor": 0
      },
      "text/plain": [
       "HBox(children=(FloatProgress(value=0.0, description='Training', layout=Layout(flex='2'), max=1125.0, style=Pro…"
      ]
     },
     "metadata": {},
     "output_type": "display_data"
    },
    {
     "name": "stdout",
     "output_type": "stream",
     "text": [
      "Epoch 218: train=0.947787, val=0.954138, took 36.825 s\n"
     ]
    },
    {
     "data": {
      "application/vnd.jupyter.widget-view+json": {
       "model_id": "",
       "version_major": 2,
       "version_minor": 0
      },
      "text/plain": [
       "HBox(children=(FloatProgress(value=0.0, description='Training', layout=Layout(flex='2'), max=1125.0, style=Pro…"
      ]
     },
     "metadata": {},
     "output_type": "display_data"
    },
    {
     "name": "stdout",
     "output_type": "stream",
     "text": [
      "Epoch 219: train=0.945263, val=0.961992, took 36.957 s\n"
     ]
    },
    {
     "data": {
      "application/vnd.jupyter.widget-view+json": {
       "model_id": "",
       "version_major": 2,
       "version_minor": 0
      },
      "text/plain": [
       "HBox(children=(FloatProgress(value=0.0, description='Training', layout=Layout(flex='2'), max=1125.0, style=Pro…"
      ]
     },
     "metadata": {},
     "output_type": "display_data"
    },
    {
     "name": "stdout",
     "output_type": "stream",
     "text": [
      "Epoch 220: train=0.94558, val=0.962814, took 36.807 s\n"
     ]
    },
    {
     "data": {
      "application/vnd.jupyter.widget-view+json": {
       "model_id": "",
       "version_major": 2,
       "version_minor": 0
      },
      "text/plain": [
       "HBox(children=(FloatProgress(value=0.0, description='Training', layout=Layout(flex='2'), max=1125.0, style=Pro…"
      ]
     },
     "metadata": {},
     "output_type": "display_data"
    },
    {
     "name": "stdout",
     "output_type": "stream",
     "text": [
      "Epoch 221: train=0.946061, val=0.95546, took 36.871 s\n"
     ]
    },
    {
     "data": {
      "application/vnd.jupyter.widget-view+json": {
       "model_id": "",
       "version_major": 2,
       "version_minor": 0
      },
      "text/plain": [
       "HBox(children=(FloatProgress(value=0.0, description='Training', layout=Layout(flex='2'), max=1125.0, style=Pro…"
      ]
     },
     "metadata": {},
     "output_type": "display_data"
    },
    {
     "name": "stdout",
     "output_type": "stream",
     "text": [
      "Epoch 222: train=0.94966, val=0.963046, took 36.911 s\n"
     ]
    },
    {
     "data": {
      "application/vnd.jupyter.widget-view+json": {
       "model_id": "",
       "version_major": 2,
       "version_minor": 0
      },
      "text/plain": [
       "HBox(children=(FloatProgress(value=0.0, description='Training', layout=Layout(flex='2'), max=1125.0, style=Pro…"
      ]
     },
     "metadata": {},
     "output_type": "display_data"
    },
    {
     "name": "stdout",
     "output_type": "stream",
     "text": [
      "Epoch 223: train=0.949869, val=0.980397, took 36.951 s\n"
     ]
    },
    {
     "data": {
      "application/vnd.jupyter.widget-view+json": {
       "model_id": "",
       "version_major": 2,
       "version_minor": 0
      },
      "text/plain": [
       "HBox(children=(FloatProgress(value=0.0, description='Training', layout=Layout(flex='2'), max=1125.0, style=Pro…"
      ]
     },
     "metadata": {},
     "output_type": "display_data"
    },
    {
     "name": "stdout",
     "output_type": "stream",
     "text": [
      "Epoch 224: train=0.944983, val=0.993487, took 37.035 s\n"
     ]
    },
    {
     "data": {
      "application/vnd.jupyter.widget-view+json": {
       "model_id": "",
       "version_major": 2,
       "version_minor": 0
      },
      "text/plain": [
       "HBox(children=(FloatProgress(value=0.0, description='Training', layout=Layout(flex='2'), max=1125.0, style=Pro…"
      ]
     },
     "metadata": {},
     "output_type": "display_data"
    },
    {
     "name": "stdout",
     "output_type": "stream",
     "text": [
      "Epoch 225: train=0.949433, val=0.957061, took 36.942 s\n"
     ]
    },
    {
     "data": {
      "application/vnd.jupyter.widget-view+json": {
       "model_id": "",
       "version_major": 2,
       "version_minor": 0
      },
      "text/plain": [
       "HBox(children=(FloatProgress(value=0.0, description='Training', layout=Layout(flex='2'), max=1125.0, style=Pro…"
      ]
     },
     "metadata": {},
     "output_type": "display_data"
    },
    {
     "name": "stdout",
     "output_type": "stream",
     "text": [
      "Epoch 226: train=0.947173, val=0.973599, took 36.863 s\n"
     ]
    },
    {
     "data": {
      "application/vnd.jupyter.widget-view+json": {
       "model_id": "",
       "version_major": 2,
       "version_minor": 0
      },
      "text/plain": [
       "HBox(children=(FloatProgress(value=0.0, description='Training', layout=Layout(flex='2'), max=1125.0, style=Pro…"
      ]
     },
     "metadata": {},
     "output_type": "display_data"
    },
    {
     "name": "stdout",
     "output_type": "stream",
     "text": [
      "Epoch 227: train=0.947637, val=1.03056, took 36.764 s\n"
     ]
    },
    {
     "data": {
      "application/vnd.jupyter.widget-view+json": {
       "model_id": "",
       "version_major": 2,
       "version_minor": 0
      },
      "text/plain": [
       "HBox(children=(FloatProgress(value=0.0, description='Training', layout=Layout(flex='2'), max=1125.0, style=Pro…"
      ]
     },
     "metadata": {},
     "output_type": "display_data"
    },
    {
     "name": "stdout",
     "output_type": "stream",
     "text": [
      "Epoch 228: train=0.946298, val=0.960904, took 36.984 s\n"
     ]
    },
    {
     "data": {
      "application/vnd.jupyter.widget-view+json": {
       "model_id": "",
       "version_major": 2,
       "version_minor": 0
      },
      "text/plain": [
       "HBox(children=(FloatProgress(value=0.0, description='Training', layout=Layout(flex='2'), max=1125.0, style=Pro…"
      ]
     },
     "metadata": {},
     "output_type": "display_data"
    },
    {
     "name": "stdout",
     "output_type": "stream",
     "text": [
      "Epoch 229: train=0.943404, val=0.956436, took 36.801 s\n"
     ]
    },
    {
     "data": {
      "application/vnd.jupyter.widget-view+json": {
       "model_id": "",
       "version_major": 2,
       "version_minor": 0
      },
      "text/plain": [
       "HBox(children=(FloatProgress(value=0.0, description='Training', layout=Layout(flex='2'), max=1125.0, style=Pro…"
      ]
     },
     "metadata": {},
     "output_type": "display_data"
    },
    {
     "name": "stdout",
     "output_type": "stream",
     "text": [
      "Epoch 230: train=0.942088, val=0.963569, took 36.988 s\n"
     ]
    },
    {
     "data": {
      "application/vnd.jupyter.widget-view+json": {
       "model_id": "",
       "version_major": 2,
       "version_minor": 0
      },
      "text/plain": [
       "HBox(children=(FloatProgress(value=0.0, description='Training', layout=Layout(flex='2'), max=1125.0, style=Pro…"
      ]
     },
     "metadata": {},
     "output_type": "display_data"
    },
    {
     "name": "stdout",
     "output_type": "stream",
     "text": [
      "Epoch 231: train=0.945895, val=0.960529, took 36.794 s\n"
     ]
    },
    {
     "data": {
      "application/vnd.jupyter.widget-view+json": {
       "model_id": "",
       "version_major": 2,
       "version_minor": 0
      },
      "text/plain": [
       "HBox(children=(FloatProgress(value=0.0, description='Training', layout=Layout(flex='2'), max=1125.0, style=Pro…"
      ]
     },
     "metadata": {},
     "output_type": "display_data"
    },
    {
     "name": "stdout",
     "output_type": "stream",
     "text": [
      "Epoch 232: train=0.944833, val=0.979109, took 37.055 s\n"
     ]
    },
    {
     "data": {
      "application/vnd.jupyter.widget-view+json": {
       "model_id": "",
       "version_major": 2,
       "version_minor": 0
      },
      "text/plain": [
       "HBox(children=(FloatProgress(value=0.0, description='Training', layout=Layout(flex='2'), max=1125.0, style=Pro…"
      ]
     },
     "metadata": {},
     "output_type": "display_data"
    },
    {
     "name": "stdout",
     "output_type": "stream",
     "text": [
      "Epoch 233: train=0.944346, val=0.956457, took 37.048 s\n"
     ]
    },
    {
     "data": {
      "application/vnd.jupyter.widget-view+json": {
       "model_id": "",
       "version_major": 2,
       "version_minor": 0
      },
      "text/plain": [
       "HBox(children=(FloatProgress(value=0.0, description='Training', layout=Layout(flex='2'), max=1125.0, style=Pro…"
      ]
     },
     "metadata": {},
     "output_type": "display_data"
    },
    {
     "name": "stdout",
     "output_type": "stream",
     "text": [
      "Epoch 234: train=0.948078, val=0.958088, took 36.837 s\n"
     ]
    },
    {
     "data": {
      "application/vnd.jupyter.widget-view+json": {
       "model_id": "",
       "version_major": 2,
       "version_minor": 0
      },
      "text/plain": [
       "HBox(children=(FloatProgress(value=0.0, description='Training', layout=Layout(flex='2'), max=1125.0, style=Pro…"
      ]
     },
     "metadata": {},
     "output_type": "display_data"
    },
    {
     "name": "stdout",
     "output_type": "stream",
     "text": [
      "Epoch 235: train=0.946036, val=0.96717, took 36.969 s\n"
     ]
    },
    {
     "data": {
      "application/vnd.jupyter.widget-view+json": {
       "model_id": "",
       "version_major": 2,
       "version_minor": 0
      },
      "text/plain": [
       "HBox(children=(FloatProgress(value=0.0, description='Training', layout=Layout(flex='2'), max=1125.0, style=Pro…"
      ]
     },
     "metadata": {},
     "output_type": "display_data"
    },
    {
     "name": "stdout",
     "output_type": "stream",
     "text": [
      "Epoch 236: train=0.943531, val=0.961157, took 36.806 s\n"
     ]
    },
    {
     "data": {
      "application/vnd.jupyter.widget-view+json": {
       "model_id": "",
       "version_major": 2,
       "version_minor": 0
      },
      "text/plain": [
       "HBox(children=(FloatProgress(value=0.0, description='Training', layout=Layout(flex='2'), max=1125.0, style=Pro…"
      ]
     },
     "metadata": {},
     "output_type": "display_data"
    },
    {
     "name": "stdout",
     "output_type": "stream",
     "text": [
      "Epoch 237: train=0.947053, val=0.986467, took 37.005 s\n"
     ]
    },
    {
     "data": {
      "application/vnd.jupyter.widget-view+json": {
       "model_id": "",
       "version_major": 2,
       "version_minor": 0
      },
      "text/plain": [
       "HBox(children=(FloatProgress(value=0.0, description='Training', layout=Layout(flex='2'), max=1125.0, style=Pro…"
      ]
     },
     "metadata": {},
     "output_type": "display_data"
    },
    {
     "name": "stdout",
     "output_type": "stream",
     "text": [
      "Epoch 238: train=0.950162, val=0.955152, took 36.898 s\n"
     ]
    },
    {
     "data": {
      "application/vnd.jupyter.widget-view+json": {
       "model_id": "",
       "version_major": 2,
       "version_minor": 0
      },
      "text/plain": [
       "HBox(children=(FloatProgress(value=0.0, description='Training', layout=Layout(flex='2'), max=1125.0, style=Pro…"
      ]
     },
     "metadata": {},
     "output_type": "display_data"
    },
    {
     "name": "stdout",
     "output_type": "stream",
     "text": [
      "Epoch 239: train=0.942947, val=0.957254, took 36.962 s\n"
     ]
    },
    {
     "data": {
      "application/vnd.jupyter.widget-view+json": {
       "model_id": "",
       "version_major": 2,
       "version_minor": 0
      },
      "text/plain": [
       "HBox(children=(FloatProgress(value=0.0, description='Training', layout=Layout(flex='2'), max=1125.0, style=Pro…"
      ]
     },
     "metadata": {},
     "output_type": "display_data"
    },
    {
     "name": "stdout",
     "output_type": "stream",
     "text": [
      "Epoch 240: train=0.941376, val=0.98435, took 36.845 s\n"
     ]
    },
    {
     "data": {
      "application/vnd.jupyter.widget-view+json": {
       "model_id": "",
       "version_major": 2,
       "version_minor": 0
      },
      "text/plain": [
       "HBox(children=(FloatProgress(value=0.0, description='Training', layout=Layout(flex='2'), max=1125.0, style=Pro…"
      ]
     },
     "metadata": {},
     "output_type": "display_data"
    },
    {
     "name": "stdout",
     "output_type": "stream",
     "text": [
      "Epoch 241: train=0.941187, val=0.96306, took 36.825 s\n"
     ]
    },
    {
     "data": {
      "application/vnd.jupyter.widget-view+json": {
       "model_id": "",
       "version_major": 2,
       "version_minor": 0
      },
      "text/plain": [
       "HBox(children=(FloatProgress(value=0.0, description='Training', layout=Layout(flex='2'), max=1125.0, style=Pro…"
      ]
     },
     "metadata": {},
     "output_type": "display_data"
    },
    {
     "name": "stdout",
     "output_type": "stream",
     "text": [
      "Epoch 242: train=0.946878, val=0.956022, took 36.749 s\n"
     ]
    },
    {
     "data": {
      "application/vnd.jupyter.widget-view+json": {
       "model_id": "",
       "version_major": 2,
       "version_minor": 0
      },
      "text/plain": [
       "HBox(children=(FloatProgress(value=0.0, description='Training', layout=Layout(flex='2'), max=1125.0, style=Pro…"
      ]
     },
     "metadata": {},
     "output_type": "display_data"
    },
    {
     "name": "stdout",
     "output_type": "stream",
     "text": [
      "Epoch 243: train=0.949672, val=0.957304, took 36.84 s\n"
     ]
    },
    {
     "data": {
      "application/vnd.jupyter.widget-view+json": {
       "model_id": "",
       "version_major": 2,
       "version_minor": 0
      },
      "text/plain": [
       "HBox(children=(FloatProgress(value=0.0, description='Training', layout=Layout(flex='2'), max=1125.0, style=Pro…"
      ]
     },
     "metadata": {},
     "output_type": "display_data"
    },
    {
     "name": "stdout",
     "output_type": "stream",
     "text": [
      "Epoch 244: train=0.946338, val=0.957201, took 36.8 s\n"
     ]
    },
    {
     "data": {
      "application/vnd.jupyter.widget-view+json": {
       "model_id": "",
       "version_major": 2,
       "version_minor": 0
      },
      "text/plain": [
       "HBox(children=(FloatProgress(value=0.0, description='Training', layout=Layout(flex='2'), max=1125.0, style=Pro…"
      ]
     },
     "metadata": {},
     "output_type": "display_data"
    },
    {
     "name": "stdout",
     "output_type": "stream",
     "text": [
      "Epoch 245: train=0.943654, val=0.978193, took 36.869 s\n"
     ]
    },
    {
     "data": {
      "application/vnd.jupyter.widget-view+json": {
       "model_id": "",
       "version_major": 2,
       "version_minor": 0
      },
      "text/plain": [
       "HBox(children=(FloatProgress(value=0.0, description='Training', layout=Layout(flex='2'), max=1125.0, style=Pro…"
      ]
     },
     "metadata": {},
     "output_type": "display_data"
    },
    {
     "name": "stdout",
     "output_type": "stream",
     "text": [
      "Epoch 246: train=0.948208, val=0.959771, took 36.837 s\n"
     ]
    },
    {
     "data": {
      "application/vnd.jupyter.widget-view+json": {
       "model_id": "",
       "version_major": 2,
       "version_minor": 0
      },
      "text/plain": [
       "HBox(children=(FloatProgress(value=0.0, description='Training', layout=Layout(flex='2'), max=1125.0, style=Pro…"
      ]
     },
     "metadata": {},
     "output_type": "display_data"
    },
    {
     "name": "stdout",
     "output_type": "stream",
     "text": [
      "Epoch 247: train=0.944059, val=0.957656, took 36.777 s\n"
     ]
    },
    {
     "data": {
      "application/vnd.jupyter.widget-view+json": {
       "model_id": "",
       "version_major": 2,
       "version_minor": 0
      },
      "text/plain": [
       "HBox(children=(FloatProgress(value=0.0, description='Training', layout=Layout(flex='2'), max=1125.0, style=Pro…"
      ]
     },
     "metadata": {},
     "output_type": "display_data"
    },
    {
     "name": "stdout",
     "output_type": "stream",
     "text": [
      "Epoch 248: train=0.943562, val=0.958668, took 36.832 s\n"
     ]
    },
    {
     "data": {
      "application/vnd.jupyter.widget-view+json": {
       "model_id": "",
       "version_major": 2,
       "version_minor": 0
      },
      "text/plain": [
       "HBox(children=(FloatProgress(value=0.0, description='Training', layout=Layout(flex='2'), max=1125.0, style=Pro…"
      ]
     },
     "metadata": {},
     "output_type": "display_data"
    },
    {
     "name": "stdout",
     "output_type": "stream",
     "text": [
      "Epoch 249: train=0.946729, val=0.953492, took 37.038 s\n"
     ]
    },
    {
     "data": {
      "application/vnd.jupyter.widget-view+json": {
       "model_id": "",
       "version_major": 2,
       "version_minor": 0
      },
      "text/plain": [
       "HBox(children=(FloatProgress(value=0.0, description='Training', layout=Layout(flex='2'), max=1125.0, style=Pro…"
      ]
     },
     "metadata": {},
     "output_type": "display_data"
    },
    {
     "name": "stdout",
     "output_type": "stream",
     "text": [
      "Epoch 250: train=0.941493, val=0.956362, took 36.868 s\n"
     ]
    },
    {
     "data": {
      "application/vnd.jupyter.widget-view+json": {
       "model_id": "",
       "version_major": 2,
       "version_minor": 0
      },
      "text/plain": [
       "HBox(children=(FloatProgress(value=0.0, description='Training', layout=Layout(flex='2'), max=1125.0, style=Pro…"
      ]
     },
     "metadata": {},
     "output_type": "display_data"
    },
    {
     "name": "stdout",
     "output_type": "stream",
     "text": [
      "Epoch 251: train=0.944437, val=0.954941, took 36.848 s\n"
     ]
    },
    {
     "data": {
      "application/vnd.jupyter.widget-view+json": {
       "model_id": "",
       "version_major": 2,
       "version_minor": 0
      },
      "text/plain": [
       "HBox(children=(FloatProgress(value=0.0, description='Training', layout=Layout(flex='2'), max=1125.0, style=Pro…"
      ]
     },
     "metadata": {},
     "output_type": "display_data"
    },
    {
     "name": "stdout",
     "output_type": "stream",
     "text": [
      "Epoch 252: train=0.942355, val=0.965778, took 36.855 s\n"
     ]
    },
    {
     "data": {
      "application/vnd.jupyter.widget-view+json": {
       "model_id": "",
       "version_major": 2,
       "version_minor": 0
      },
      "text/plain": [
       "HBox(children=(FloatProgress(value=0.0, description='Training', layout=Layout(flex='2'), max=1125.0, style=Pro…"
      ]
     },
     "metadata": {},
     "output_type": "display_data"
    },
    {
     "name": "stdout",
     "output_type": "stream",
     "text": [
      "Epoch 253: train=0.946539, val=0.959753, took 36.822 s\n"
     ]
    },
    {
     "data": {
      "application/vnd.jupyter.widget-view+json": {
       "model_id": "",
       "version_major": 2,
       "version_minor": 0
      },
      "text/plain": [
       "HBox(children=(FloatProgress(value=0.0, description='Training', layout=Layout(flex='2'), max=1125.0, style=Pro…"
      ]
     },
     "metadata": {},
     "output_type": "display_data"
    },
    {
     "name": "stdout",
     "output_type": "stream",
     "text": [
      "Epoch 254: train=0.945747, val=0.953961, took 36.785 s\n"
     ]
    },
    {
     "data": {
      "application/vnd.jupyter.widget-view+json": {
       "model_id": "",
       "version_major": 2,
       "version_minor": 0
      },
      "text/plain": [
       "HBox(children=(FloatProgress(value=0.0, description='Training', layout=Layout(flex='2'), max=1125.0, style=Pro…"
      ]
     },
     "metadata": {},
     "output_type": "display_data"
    },
    {
     "name": "stdout",
     "output_type": "stream",
     "text": [
      "Epoch 255: train=0.939428, val=0.955888, took 36.995 s\n"
     ]
    },
    {
     "data": {
      "application/vnd.jupyter.widget-view+json": {
       "model_id": "",
       "version_major": 2,
       "version_minor": 0
      },
      "text/plain": [
       "HBox(children=(FloatProgress(value=0.0, description='Training', layout=Layout(flex='2'), max=1125.0, style=Pro…"
      ]
     },
     "metadata": {},
     "output_type": "display_data"
    },
    {
     "name": "stdout",
     "output_type": "stream",
     "text": [
      "Epoch 256: train=0.941146, val=0.976659, took 36.872 s\n"
     ]
    },
    {
     "data": {
      "application/vnd.jupyter.widget-view+json": {
       "model_id": "",
       "version_major": 2,
       "version_minor": 0
      },
      "text/plain": [
       "HBox(children=(FloatProgress(value=0.0, description='Training', layout=Layout(flex='2'), max=1125.0, style=Pro…"
      ]
     },
     "metadata": {},
     "output_type": "display_data"
    },
    {
     "name": "stdout",
     "output_type": "stream",
     "text": [
      "Epoch 257: train=0.944848, val=0.973686, took 36.819 s\n"
     ]
    },
    {
     "data": {
      "application/vnd.jupyter.widget-view+json": {
       "model_id": "",
       "version_major": 2,
       "version_minor": 0
      },
      "text/plain": [
       "HBox(children=(FloatProgress(value=0.0, description='Training', layout=Layout(flex='2'), max=1125.0, style=Pro…"
      ]
     },
     "metadata": {},
     "output_type": "display_data"
    },
    {
     "name": "stdout",
     "output_type": "stream",
     "text": [
      "Epoch 258: train=0.941863, val=0.966724, took 36.81 s\n"
     ]
    },
    {
     "data": {
      "application/vnd.jupyter.widget-view+json": {
       "model_id": "",
       "version_major": 2,
       "version_minor": 0
      },
      "text/plain": [
       "HBox(children=(FloatProgress(value=0.0, description='Training', layout=Layout(flex='2'), max=1125.0, style=Pro…"
      ]
     },
     "metadata": {},
     "output_type": "display_data"
    },
    {
     "name": "stdout",
     "output_type": "stream",
     "text": [
      "Epoch 259: train=0.943903, val=0.975037, took 36.824 s\n"
     ]
    },
    {
     "data": {
      "application/vnd.jupyter.widget-view+json": {
       "model_id": "",
       "version_major": 2,
       "version_minor": 0
      },
      "text/plain": [
       "HBox(children=(FloatProgress(value=0.0, description='Training', layout=Layout(flex='2'), max=1125.0, style=Pro…"
      ]
     },
     "metadata": {},
     "output_type": "display_data"
    },
    {
     "name": "stdout",
     "output_type": "stream",
     "text": [
      "Epoch 260: train=0.939957, val=0.956239, took 36.799 s\n"
     ]
    },
    {
     "data": {
      "application/vnd.jupyter.widget-view+json": {
       "model_id": "",
       "version_major": 2,
       "version_minor": 0
      },
      "text/plain": [
       "HBox(children=(FloatProgress(value=0.0, description='Training', layout=Layout(flex='2'), max=1125.0, style=Pro…"
      ]
     },
     "metadata": {},
     "output_type": "display_data"
    },
    {
     "name": "stdout",
     "output_type": "stream",
     "text": [
      "Epoch 261: train=0.940161, val=1.00825, took 36.828 s\n"
     ]
    },
    {
     "data": {
      "application/vnd.jupyter.widget-view+json": {
       "model_id": "",
       "version_major": 2,
       "version_minor": 0
      },
      "text/plain": [
       "HBox(children=(FloatProgress(value=0.0, description='Training', layout=Layout(flex='2'), max=1125.0, style=Pro…"
      ]
     },
     "metadata": {},
     "output_type": "display_data"
    },
    {
     "name": "stdout",
     "output_type": "stream",
     "text": [
      "Epoch 262: train=0.949428, val=0.951629, took 36.93 s\n"
     ]
    },
    {
     "data": {
      "application/vnd.jupyter.widget-view+json": {
       "model_id": "",
       "version_major": 2,
       "version_minor": 0
      },
      "text/plain": [
       "HBox(children=(FloatProgress(value=0.0, description='Training', layout=Layout(flex='2'), max=1125.0, style=Pro…"
      ]
     },
     "metadata": {},
     "output_type": "display_data"
    },
    {
     "name": "stdout",
     "output_type": "stream",
     "text": [
      "Epoch 263: train=0.943113, val=0.95222, took 36.788 s\n"
     ]
    },
    {
     "data": {
      "application/vnd.jupyter.widget-view+json": {
       "model_id": "",
       "version_major": 2,
       "version_minor": 0
      },
      "text/plain": [
       "HBox(children=(FloatProgress(value=0.0, description='Training', layout=Layout(flex='2'), max=1125.0, style=Pro…"
      ]
     },
     "metadata": {},
     "output_type": "display_data"
    },
    {
     "name": "stdout",
     "output_type": "stream",
     "text": [
      "Epoch 264: train=0.943357, val=0.957034, took 36.907 s\n"
     ]
    },
    {
     "data": {
      "application/vnd.jupyter.widget-view+json": {
       "model_id": "",
       "version_major": 2,
       "version_minor": 0
      },
      "text/plain": [
       "HBox(children=(FloatProgress(value=0.0, description='Training', layout=Layout(flex='2'), max=1125.0, style=Pro…"
      ]
     },
     "metadata": {},
     "output_type": "display_data"
    },
    {
     "name": "stdout",
     "output_type": "stream",
     "text": [
      "Epoch 265: train=0.945884, val=0.981712, took 37.069 s\n"
     ]
    },
    {
     "data": {
      "application/vnd.jupyter.widget-view+json": {
       "model_id": "",
       "version_major": 2,
       "version_minor": 0
      },
      "text/plain": [
       "HBox(children=(FloatProgress(value=0.0, description='Training', layout=Layout(flex='2'), max=1125.0, style=Pro…"
      ]
     },
     "metadata": {},
     "output_type": "display_data"
    },
    {
     "name": "stdout",
     "output_type": "stream",
     "text": [
      "Epoch 266: train=0.941259, val=0.961916, took 36.844 s\n"
     ]
    },
    {
     "data": {
      "application/vnd.jupyter.widget-view+json": {
       "model_id": "",
       "version_major": 2,
       "version_minor": 0
      },
      "text/plain": [
       "HBox(children=(FloatProgress(value=0.0, description='Training', layout=Layout(flex='2'), max=1125.0, style=Pro…"
      ]
     },
     "metadata": {},
     "output_type": "display_data"
    },
    {
     "name": "stdout",
     "output_type": "stream",
     "text": [
      "Epoch 267: train=0.937347, val=1.01588, took 36.906 s\n"
     ]
    },
    {
     "data": {
      "application/vnd.jupyter.widget-view+json": {
       "model_id": "",
       "version_major": 2,
       "version_minor": 0
      },
      "text/plain": [
       "HBox(children=(FloatProgress(value=0.0, description='Training', layout=Layout(flex='2'), max=1125.0, style=Pro…"
      ]
     },
     "metadata": {},
     "output_type": "display_data"
    },
    {
     "name": "stdout",
     "output_type": "stream",
     "text": [
      "Epoch 268: train=0.946082, val=0.98274, took 36.845 s\n"
     ]
    },
    {
     "data": {
      "application/vnd.jupyter.widget-view+json": {
       "model_id": "",
       "version_major": 2,
       "version_minor": 0
      },
      "text/plain": [
       "HBox(children=(FloatProgress(value=0.0, description='Training', layout=Layout(flex='2'), max=1125.0, style=Pro…"
      ]
     },
     "metadata": {},
     "output_type": "display_data"
    },
    {
     "name": "stdout",
     "output_type": "stream",
     "text": [
      "Epoch 269: train=0.94667, val=0.960692, took 37.103 s\n"
     ]
    },
    {
     "data": {
      "application/vnd.jupyter.widget-view+json": {
       "model_id": "",
       "version_major": 2,
       "version_minor": 0
      },
      "text/plain": [
       "HBox(children=(FloatProgress(value=0.0, description='Training', layout=Layout(flex='2'), max=1125.0, style=Pro…"
      ]
     },
     "metadata": {},
     "output_type": "display_data"
    },
    {
     "name": "stdout",
     "output_type": "stream",
     "text": [
      "Epoch 270: train=0.942962, val=0.954367, took 36.979 s\n"
     ]
    },
    {
     "data": {
      "application/vnd.jupyter.widget-view+json": {
       "model_id": "",
       "version_major": 2,
       "version_minor": 0
      },
      "text/plain": [
       "HBox(children=(FloatProgress(value=0.0, description='Training', layout=Layout(flex='2'), max=1125.0, style=Pro…"
      ]
     },
     "metadata": {},
     "output_type": "display_data"
    },
    {
     "name": "stdout",
     "output_type": "stream",
     "text": [
      "Epoch 271: train=0.944089, val=0.952274, took 36.804 s\n"
     ]
    },
    {
     "data": {
      "application/vnd.jupyter.widget-view+json": {
       "model_id": "",
       "version_major": 2,
       "version_minor": 0
      },
      "text/plain": [
       "HBox(children=(FloatProgress(value=0.0, description='Training', layout=Layout(flex='2'), max=1125.0, style=Pro…"
      ]
     },
     "metadata": {},
     "output_type": "display_data"
    },
    {
     "name": "stdout",
     "output_type": "stream",
     "text": [
      "Epoch 272: train=0.941127, val=0.964998, took 36.821 s\n"
     ]
    },
    {
     "data": {
      "application/vnd.jupyter.widget-view+json": {
       "model_id": "",
       "version_major": 2,
       "version_minor": 0
      },
      "text/plain": [
       "HBox(children=(FloatProgress(value=0.0, description='Training', layout=Layout(flex='2'), max=1125.0, style=Pro…"
      ]
     },
     "metadata": {},
     "output_type": "display_data"
    },
    {
     "name": "stdout",
     "output_type": "stream",
     "text": [
      "Epoch 273: train=0.938751, val=0.968521, took 36.999 s\n"
     ]
    },
    {
     "data": {
      "application/vnd.jupyter.widget-view+json": {
       "model_id": "",
       "version_major": 2,
       "version_minor": 0
      },
      "text/plain": [
       "HBox(children=(FloatProgress(value=0.0, description='Training', layout=Layout(flex='2'), max=1125.0, style=Pro…"
      ]
     },
     "metadata": {},
     "output_type": "display_data"
    },
    {
     "name": "stdout",
     "output_type": "stream",
     "text": [
      "Epoch 274: train=0.944692, val=0.95522, took 36.868 s\n"
     ]
    },
    {
     "data": {
      "application/vnd.jupyter.widget-view+json": {
       "model_id": "",
       "version_major": 2,
       "version_minor": 0
      },
      "text/plain": [
       "HBox(children=(FloatProgress(value=0.0, description='Training', layout=Layout(flex='2'), max=1125.0, style=Pro…"
      ]
     },
     "metadata": {},
     "output_type": "display_data"
    },
    {
     "name": "stdout",
     "output_type": "stream",
     "text": [
      "Epoch 275: train=0.943815, val=0.954282, took 36.905 s\n"
     ]
    },
    {
     "data": {
      "application/vnd.jupyter.widget-view+json": {
       "model_id": "",
       "version_major": 2,
       "version_minor": 0
      },
      "text/plain": [
       "HBox(children=(FloatProgress(value=0.0, description='Training', layout=Layout(flex='2'), max=1125.0, style=Pro…"
      ]
     },
     "metadata": {},
     "output_type": "display_data"
    },
    {
     "name": "stdout",
     "output_type": "stream",
     "text": [
      "Epoch 276: train=0.939666, val=0.95511, took 36.848 s\n"
     ]
    },
    {
     "data": {
      "application/vnd.jupyter.widget-view+json": {
       "model_id": "",
       "version_major": 2,
       "version_minor": 0
      },
      "text/plain": [
       "HBox(children=(FloatProgress(value=0.0, description='Training', layout=Layout(flex='2'), max=1125.0, style=Pro…"
      ]
     },
     "metadata": {},
     "output_type": "display_data"
    },
    {
     "name": "stdout",
     "output_type": "stream",
     "text": [
      "Epoch 277: train=0.945581, val=0.953502, took 36.892 s\n"
     ]
    },
    {
     "data": {
      "application/vnd.jupyter.widget-view+json": {
       "model_id": "",
       "version_major": 2,
       "version_minor": 0
      },
      "text/plain": [
       "HBox(children=(FloatProgress(value=0.0, description='Training', layout=Layout(flex='2'), max=1125.0, style=Pro…"
      ]
     },
     "metadata": {},
     "output_type": "display_data"
    },
    {
     "name": "stdout",
     "output_type": "stream",
     "text": [
      "Epoch 278: train=0.937763, val=0.953884, took 36.858 s\n"
     ]
    },
    {
     "data": {
      "application/vnd.jupyter.widget-view+json": {
       "model_id": "",
       "version_major": 2,
       "version_minor": 0
      },
      "text/plain": [
       "HBox(children=(FloatProgress(value=0.0, description='Training', layout=Layout(flex='2'), max=1125.0, style=Pro…"
      ]
     },
     "metadata": {},
     "output_type": "display_data"
    },
    {
     "name": "stdout",
     "output_type": "stream",
     "text": [
      "Epoch 279: train=0.946022, val=0.962542, took 36.92 s\n"
     ]
    },
    {
     "data": {
      "application/vnd.jupyter.widget-view+json": {
       "model_id": "",
       "version_major": 2,
       "version_minor": 0
      },
      "text/plain": [
       "HBox(children=(FloatProgress(value=0.0, description='Training', layout=Layout(flex='2'), max=1125.0, style=Pro…"
      ]
     },
     "metadata": {},
     "output_type": "display_data"
    },
    {
     "name": "stdout",
     "output_type": "stream",
     "text": [
      "Epoch 280: train=0.948798, val=0.966743, took 36.804 s\n"
     ]
    },
    {
     "data": {
      "application/vnd.jupyter.widget-view+json": {
       "model_id": "",
       "version_major": 2,
       "version_minor": 0
      },
      "text/plain": [
       "HBox(children=(FloatProgress(value=0.0, description='Training', layout=Layout(flex='2'), max=1125.0, style=Pro…"
      ]
     },
     "metadata": {},
     "output_type": "display_data"
    },
    {
     "name": "stdout",
     "output_type": "stream",
     "text": [
      "Epoch 281: train=0.941547, val=0.988655, took 36.757 s\n"
     ]
    },
    {
     "data": {
      "application/vnd.jupyter.widget-view+json": {
       "model_id": "",
       "version_major": 2,
       "version_minor": 0
      },
      "text/plain": [
       "HBox(children=(FloatProgress(value=0.0, description='Training', layout=Layout(flex='2'), max=1125.0, style=Pro…"
      ]
     },
     "metadata": {},
     "output_type": "display_data"
    },
    {
     "name": "stdout",
     "output_type": "stream",
     "text": [
      "Epoch 282: train=0.942944, val=0.960855, took 36.799 s\n"
     ]
    },
    {
     "data": {
      "application/vnd.jupyter.widget-view+json": {
       "model_id": "",
       "version_major": 2,
       "version_minor": 0
      },
      "text/plain": [
       "HBox(children=(FloatProgress(value=0.0, description='Training', layout=Layout(flex='2'), max=1125.0, style=Pro…"
      ]
     },
     "metadata": {},
     "output_type": "display_data"
    },
    {
     "name": "stdout",
     "output_type": "stream",
     "text": [
      "Epoch 283: train=0.941173, val=0.987739, took 36.847 s\n"
     ]
    },
    {
     "data": {
      "application/vnd.jupyter.widget-view+json": {
       "model_id": "",
       "version_major": 2,
       "version_minor": 0
      },
      "text/plain": [
       "HBox(children=(FloatProgress(value=0.0, description='Training', layout=Layout(flex='2'), max=1125.0, style=Pro…"
      ]
     },
     "metadata": {},
     "output_type": "display_data"
    },
    {
     "name": "stdout",
     "output_type": "stream",
     "text": [
      "Epoch 284: train=0.94045, val=0.956387, took 36.882 s\n"
     ]
    },
    {
     "data": {
      "application/vnd.jupyter.widget-view+json": {
       "model_id": "",
       "version_major": 2,
       "version_minor": 0
      },
      "text/plain": [
       "HBox(children=(FloatProgress(value=0.0, description='Training', layout=Layout(flex='2'), max=1125.0, style=Pro…"
      ]
     },
     "metadata": {},
     "output_type": "display_data"
    },
    {
     "name": "stdout",
     "output_type": "stream",
     "text": [
      "Epoch 285: train=0.94241, val=0.971754, took 36.799 s\n"
     ]
    },
    {
     "data": {
      "application/vnd.jupyter.widget-view+json": {
       "model_id": "",
       "version_major": 2,
       "version_minor": 0
      },
      "text/plain": [
       "HBox(children=(FloatProgress(value=0.0, description='Training', layout=Layout(flex='2'), max=1125.0, style=Pro…"
      ]
     },
     "metadata": {},
     "output_type": "display_data"
    },
    {
     "name": "stdout",
     "output_type": "stream",
     "text": [
      "Epoch 286: train=0.942587, val=0.963327, took 36.862 s\n"
     ]
    },
    {
     "data": {
      "application/vnd.jupyter.widget-view+json": {
       "model_id": "",
       "version_major": 2,
       "version_minor": 0
      },
      "text/plain": [
       "HBox(children=(FloatProgress(value=0.0, description='Training', layout=Layout(flex='2'), max=1125.0, style=Pro…"
      ]
     },
     "metadata": {},
     "output_type": "display_data"
    },
    {
     "name": "stdout",
     "output_type": "stream",
     "text": [
      "Epoch 287: train=0.942431, val=0.965405, took 36.927 s\n"
     ]
    },
    {
     "data": {
      "application/vnd.jupyter.widget-view+json": {
       "model_id": "",
       "version_major": 2,
       "version_minor": 0
      },
      "text/plain": [
       "HBox(children=(FloatProgress(value=0.0, description='Training', layout=Layout(flex='2'), max=1125.0, style=Pro…"
      ]
     },
     "metadata": {},
     "output_type": "display_data"
    },
    {
     "name": "stdout",
     "output_type": "stream",
     "text": [
      "Epoch 288: train=0.935443, val=0.954426, took 36.915 s\n"
     ]
    },
    {
     "data": {
      "application/vnd.jupyter.widget-view+json": {
       "model_id": "",
       "version_major": 2,
       "version_minor": 0
      },
      "text/plain": [
       "HBox(children=(FloatProgress(value=0.0, description='Training', layout=Layout(flex='2'), max=1125.0, style=Pro…"
      ]
     },
     "metadata": {},
     "output_type": "display_data"
    },
    {
     "name": "stdout",
     "output_type": "stream",
     "text": [
      "Epoch 289: train=0.945537, val=0.955717, took 36.86 s\n"
     ]
    },
    {
     "data": {
      "application/vnd.jupyter.widget-view+json": {
       "model_id": "",
       "version_major": 2,
       "version_minor": 0
      },
      "text/plain": [
       "HBox(children=(FloatProgress(value=0.0, description='Training', layout=Layout(flex='2'), max=1125.0, style=Pro…"
      ]
     },
     "metadata": {},
     "output_type": "display_data"
    },
    {
     "name": "stdout",
     "output_type": "stream",
     "text": [
      "Epoch 290: train=0.938554, val=0.95549, took 36.936 s\n"
     ]
    },
    {
     "data": {
      "application/vnd.jupyter.widget-view+json": {
       "model_id": "",
       "version_major": 2,
       "version_minor": 0
      },
      "text/plain": [
       "HBox(children=(FloatProgress(value=0.0, description='Training', layout=Layout(flex='2'), max=1125.0, style=Pro…"
      ]
     },
     "metadata": {},
     "output_type": "display_data"
    },
    {
     "name": "stdout",
     "output_type": "stream",
     "text": [
      "Epoch 291: train=0.944103, val=0.970087, took 36.842 s\n"
     ]
    },
    {
     "data": {
      "application/vnd.jupyter.widget-view+json": {
       "model_id": "",
       "version_major": 2,
       "version_minor": 0
      },
      "text/plain": [
       "HBox(children=(FloatProgress(value=0.0, description='Training', layout=Layout(flex='2'), max=1125.0, style=Pro…"
      ]
     },
     "metadata": {},
     "output_type": "display_data"
    },
    {
     "name": "stdout",
     "output_type": "stream",
     "text": [
      "Epoch 292: train=0.944795, val=0.987022, took 36.811 s\n"
     ]
    },
    {
     "data": {
      "application/vnd.jupyter.widget-view+json": {
       "model_id": "",
       "version_major": 2,
       "version_minor": 0
      },
      "text/plain": [
       "HBox(children=(FloatProgress(value=0.0, description='Training', layout=Layout(flex='2'), max=1125.0, style=Pro…"
      ]
     },
     "metadata": {},
     "output_type": "display_data"
    },
    {
     "name": "stdout",
     "output_type": "stream",
     "text": [
      "Epoch 293: train=0.944044, val=0.953746, took 36.779 s\n"
     ]
    },
    {
     "data": {
      "application/vnd.jupyter.widget-view+json": {
       "model_id": "",
       "version_major": 2,
       "version_minor": 0
      },
      "text/plain": [
       "HBox(children=(FloatProgress(value=0.0, description='Training', layout=Layout(flex='2'), max=1125.0, style=Pro…"
      ]
     },
     "metadata": {},
     "output_type": "display_data"
    },
    {
     "name": "stdout",
     "output_type": "stream",
     "text": [
      "Epoch 294: train=0.942168, val=0.956193, took 37.064 s\n"
     ]
    },
    {
     "data": {
      "application/vnd.jupyter.widget-view+json": {
       "model_id": "",
       "version_major": 2,
       "version_minor": 0
      },
      "text/plain": [
       "HBox(children=(FloatProgress(value=0.0, description='Training', layout=Layout(flex='2'), max=1125.0, style=Pro…"
      ]
     },
     "metadata": {},
     "output_type": "display_data"
    },
    {
     "name": "stdout",
     "output_type": "stream",
     "text": [
      "Epoch 295: train=0.94515, val=0.95435, took 36.842 s\n"
     ]
    },
    {
     "data": {
      "application/vnd.jupyter.widget-view+json": {
       "model_id": "",
       "version_major": 2,
       "version_minor": 0
      },
      "text/plain": [
       "HBox(children=(FloatProgress(value=0.0, description='Training', layout=Layout(flex='2'), max=1125.0, style=Pro…"
      ]
     },
     "metadata": {},
     "output_type": "display_data"
    },
    {
     "name": "stdout",
     "output_type": "stream",
     "text": [
      "Epoch 296: train=0.941476, val=0.956132, took 36.903 s\n"
     ]
    },
    {
     "data": {
      "application/vnd.jupyter.widget-view+json": {
       "model_id": "",
       "version_major": 2,
       "version_minor": 0
      },
      "text/plain": [
       "HBox(children=(FloatProgress(value=0.0, description='Training', layout=Layout(flex='2'), max=1125.0, style=Pro…"
      ]
     },
     "metadata": {},
     "output_type": "display_data"
    },
    {
     "name": "stdout",
     "output_type": "stream",
     "text": [
      "Epoch 297: train=0.941388, val=0.956527, took 37.012 s\n"
     ]
    },
    {
     "data": {
      "application/vnd.jupyter.widget-view+json": {
       "model_id": "",
       "version_major": 2,
       "version_minor": 0
      },
      "text/plain": [
       "HBox(children=(FloatProgress(value=0.0, description='Training', layout=Layout(flex='2'), max=1125.0, style=Pro…"
      ]
     },
     "metadata": {},
     "output_type": "display_data"
    },
    {
     "name": "stdout",
     "output_type": "stream",
     "text": [
      "Epoch 298: train=0.947567, val=0.957807, took 36.95 s\n"
     ]
    },
    {
     "data": {
      "application/vnd.jupyter.widget-view+json": {
       "model_id": "",
       "version_major": 2,
       "version_minor": 0
      },
      "text/plain": [
       "HBox(children=(FloatProgress(value=0.0, description='Training', layout=Layout(flex='2'), max=1125.0, style=Pro…"
      ]
     },
     "metadata": {},
     "output_type": "display_data"
    },
    {
     "name": "stdout",
     "output_type": "stream",
     "text": [
      "Epoch 299: train=0.940232, val=1.01275, took 36.846 s\n"
     ]
    },
    {
     "data": {
      "application/vnd.jupyter.widget-view+json": {
       "model_id": "",
       "version_major": 2,
       "version_minor": 0
      },
      "text/plain": [
       "HBox(children=(FloatProgress(value=0.0, description='Training', layout=Layout(flex='2'), max=1125.0, style=Pro…"
      ]
     },
     "metadata": {},
     "output_type": "display_data"
    },
    {
     "name": "stdout",
     "output_type": "stream",
     "text": [
      "Epoch 300: train=0.94213, val=0.972412, took 36.847 s\n"
     ]
    },
    {
     "data": {
      "application/vnd.jupyter.widget-view+json": {
       "model_id": "",
       "version_major": 2,
       "version_minor": 0
      },
      "text/plain": [
       "HBox(children=(FloatProgress(value=0.0, description='Training', layout=Layout(flex='2'), max=1125.0, style=Pro…"
      ]
     },
     "metadata": {},
     "output_type": "display_data"
    },
    {
     "name": "stdout",
     "output_type": "stream",
     "text": [
      "Epoch 301: train=0.942648, val=0.969525, took 36.88 s\n"
     ]
    },
    {
     "data": {
      "application/vnd.jupyter.widget-view+json": {
       "model_id": "",
       "version_major": 2,
       "version_minor": 0
      },
      "text/plain": [
       "HBox(children=(FloatProgress(value=0.0, description='Training', layout=Layout(flex='2'), max=1125.0, style=Pro…"
      ]
     },
     "metadata": {},
     "output_type": "display_data"
    },
    {
     "name": "stdout",
     "output_type": "stream",
     "text": [
      "Epoch 302: train=0.942141, val=1.00027, took 37.119 s\n"
     ]
    },
    {
     "data": {
      "application/vnd.jupyter.widget-view+json": {
       "model_id": "",
       "version_major": 2,
       "version_minor": 0
      },
      "text/plain": [
       "HBox(children=(FloatProgress(value=0.0, description='Training', layout=Layout(flex='2'), max=1125.0, style=Pro…"
      ]
     },
     "metadata": {},
     "output_type": "display_data"
    },
    {
     "name": "stdout",
     "output_type": "stream",
     "text": [
      "Epoch 303: train=0.949509, val=0.95305, took 36.903 s\n"
     ]
    },
    {
     "data": {
      "application/vnd.jupyter.widget-view+json": {
       "model_id": "",
       "version_major": 2,
       "version_minor": 0
      },
      "text/plain": [
       "HBox(children=(FloatProgress(value=0.0, description='Training', layout=Layout(flex='2'), max=1125.0, style=Pro…"
      ]
     },
     "metadata": {},
     "output_type": "display_data"
    },
    {
     "name": "stdout",
     "output_type": "stream",
     "text": [
      "Epoch 304: train=0.938797, val=0.952897, took 36.913 s\n"
     ]
    },
    {
     "data": {
      "application/vnd.jupyter.widget-view+json": {
       "model_id": "",
       "version_major": 2,
       "version_minor": 0
      },
      "text/plain": [
       "HBox(children=(FloatProgress(value=0.0, description='Training', layout=Layout(flex='2'), max=1125.0, style=Pro…"
      ]
     },
     "metadata": {},
     "output_type": "display_data"
    },
    {
     "name": "stdout",
     "output_type": "stream",
     "text": [
      "Epoch 305: train=0.940231, val=0.959394, took 36.928 s\n"
     ]
    },
    {
     "data": {
      "application/vnd.jupyter.widget-view+json": {
       "model_id": "",
       "version_major": 2,
       "version_minor": 0
      },
      "text/plain": [
       "HBox(children=(FloatProgress(value=0.0, description='Training', layout=Layout(flex='2'), max=1125.0, style=Pro…"
      ]
     },
     "metadata": {},
     "output_type": "display_data"
    },
    {
     "name": "stdout",
     "output_type": "stream",
     "text": [
      "Epoch 306: train=0.942591, val=0.962965, took 37.04 s\n"
     ]
    },
    {
     "data": {
      "application/vnd.jupyter.widget-view+json": {
       "model_id": "",
       "version_major": 2,
       "version_minor": 0
      },
      "text/plain": [
       "HBox(children=(FloatProgress(value=0.0, description='Training', layout=Layout(flex='2'), max=1125.0, style=Pro…"
      ]
     },
     "metadata": {},
     "output_type": "display_data"
    },
    {
     "name": "stdout",
     "output_type": "stream",
     "text": [
      "Epoch 307: train=0.946338, val=1.02494, took 36.965 s\n"
     ]
    },
    {
     "data": {
      "application/vnd.jupyter.widget-view+json": {
       "model_id": "",
       "version_major": 2,
       "version_minor": 0
      },
      "text/plain": [
       "HBox(children=(FloatProgress(value=0.0, description='Training', layout=Layout(flex='2'), max=1125.0, style=Pro…"
      ]
     },
     "metadata": {},
     "output_type": "display_data"
    },
    {
     "name": "stdout",
     "output_type": "stream",
     "text": [
      "Epoch 308: train=0.946172, val=0.959903, took 36.948 s\n"
     ]
    },
    {
     "data": {
      "application/vnd.jupyter.widget-view+json": {
       "model_id": "",
       "version_major": 2,
       "version_minor": 0
      },
      "text/plain": [
       "HBox(children=(FloatProgress(value=0.0, description='Training', layout=Layout(flex='2'), max=1125.0, style=Pro…"
      ]
     },
     "metadata": {},
     "output_type": "display_data"
    },
    {
     "name": "stdout",
     "output_type": "stream",
     "text": [
      "Epoch 309: train=0.95392, val=0.993443, took 36.965 s\n"
     ]
    },
    {
     "data": {
      "application/vnd.jupyter.widget-view+json": {
       "model_id": "",
       "version_major": 2,
       "version_minor": 0
      },
      "text/plain": [
       "HBox(children=(FloatProgress(value=0.0, description='Training', layout=Layout(flex='2'), max=1125.0, style=Pro…"
      ]
     },
     "metadata": {},
     "output_type": "display_data"
    },
    {
     "name": "stdout",
     "output_type": "stream",
     "text": [
      "Epoch 310: train=0.944547, val=0.953866, took 36.906 s\n"
     ]
    },
    {
     "data": {
      "application/vnd.jupyter.widget-view+json": {
       "model_id": "",
       "version_major": 2,
       "version_minor": 0
      },
      "text/plain": [
       "HBox(children=(FloatProgress(value=0.0, description='Training', layout=Layout(flex='2'), max=1125.0, style=Pro…"
      ]
     },
     "metadata": {},
     "output_type": "display_data"
    },
    {
     "name": "stdout",
     "output_type": "stream",
     "text": [
      "Epoch 311: train=0.939724, val=0.966323, took 36.872 s\n"
     ]
    },
    {
     "data": {
      "application/vnd.jupyter.widget-view+json": {
       "model_id": "",
       "version_major": 2,
       "version_minor": 0
      },
      "text/plain": [
       "HBox(children=(FloatProgress(value=0.0, description='Training', layout=Layout(flex='2'), max=1125.0, style=Pro…"
      ]
     },
     "metadata": {},
     "output_type": "display_data"
    },
    {
     "name": "stdout",
     "output_type": "stream",
     "text": [
      "Epoch 312: train=0.94282, val=0.956127, took 36.848 s\n"
     ]
    },
    {
     "data": {
      "application/vnd.jupyter.widget-view+json": {
       "model_id": "",
       "version_major": 2,
       "version_minor": 0
      },
      "text/plain": [
       "HBox(children=(FloatProgress(value=0.0, description='Training', layout=Layout(flex='2'), max=1125.0, style=Pro…"
      ]
     },
     "metadata": {},
     "output_type": "display_data"
    },
    {
     "name": "stdout",
     "output_type": "stream",
     "text": [
      "Epoch 313: train=0.942808, val=0.959957, took 36.95 s\n"
     ]
    },
    {
     "data": {
      "application/vnd.jupyter.widget-view+json": {
       "model_id": "",
       "version_major": 2,
       "version_minor": 0
      },
      "text/plain": [
       "HBox(children=(FloatProgress(value=0.0, description='Training', layout=Layout(flex='2'), max=1125.0, style=Pro…"
      ]
     },
     "metadata": {},
     "output_type": "display_data"
    },
    {
     "name": "stdout",
     "output_type": "stream",
     "text": [
      "Epoch 314: train=0.944645, val=0.955499, took 37.066 s\n"
     ]
    },
    {
     "data": {
      "application/vnd.jupyter.widget-view+json": {
       "model_id": "",
       "version_major": 2,
       "version_minor": 0
      },
      "text/plain": [
       "HBox(children=(FloatProgress(value=0.0, description='Training', layout=Layout(flex='2'), max=1125.0, style=Pro…"
      ]
     },
     "metadata": {},
     "output_type": "display_data"
    },
    {
     "name": "stdout",
     "output_type": "stream",
     "text": [
      "Epoch 315: train=0.938941, val=0.989519, took 37.001 s\n"
     ]
    },
    {
     "data": {
      "application/vnd.jupyter.widget-view+json": {
       "model_id": "",
       "version_major": 2,
       "version_minor": 0
      },
      "text/plain": [
       "HBox(children=(FloatProgress(value=0.0, description='Training', layout=Layout(flex='2'), max=1125.0, style=Pro…"
      ]
     },
     "metadata": {},
     "output_type": "display_data"
    },
    {
     "name": "stdout",
     "output_type": "stream",
     "text": [
      "Epoch 316: train=0.943948, val=0.954016, took 36.87 s\n"
     ]
    },
    {
     "data": {
      "application/vnd.jupyter.widget-view+json": {
       "model_id": "",
       "version_major": 2,
       "version_minor": 0
      },
      "text/plain": [
       "HBox(children=(FloatProgress(value=0.0, description='Training', layout=Layout(flex='2'), max=1125.0, style=Pro…"
      ]
     },
     "metadata": {},
     "output_type": "display_data"
    },
    {
     "name": "stdout",
     "output_type": "stream",
     "text": [
      "Epoch 317: train=0.944336, val=0.959989, took 36.889 s\n"
     ]
    },
    {
     "data": {
      "application/vnd.jupyter.widget-view+json": {
       "model_id": "",
       "version_major": 2,
       "version_minor": 0
      },
      "text/plain": [
       "HBox(children=(FloatProgress(value=0.0, description='Training', layout=Layout(flex='2'), max=1125.0, style=Pro…"
      ]
     },
     "metadata": {},
     "output_type": "display_data"
    },
    {
     "name": "stdout",
     "output_type": "stream",
     "text": [
      "Epoch 318: train=0.941722, val=0.959197, took 36.918 s\n"
     ]
    },
    {
     "data": {
      "application/vnd.jupyter.widget-view+json": {
       "model_id": "",
       "version_major": 2,
       "version_minor": 0
      },
      "text/plain": [
       "HBox(children=(FloatProgress(value=0.0, description='Training', layout=Layout(flex='2'), max=1125.0, style=Pro…"
      ]
     },
     "metadata": {},
     "output_type": "display_data"
    },
    {
     "name": "stdout",
     "output_type": "stream",
     "text": [
      "Epoch 319: train=0.939944, val=0.960952, took 37.037 s\n"
     ]
    },
    {
     "data": {
      "application/vnd.jupyter.widget-view+json": {
       "model_id": "",
       "version_major": 2,
       "version_minor": 0
      },
      "text/plain": [
       "HBox(children=(FloatProgress(value=0.0, description='Training', layout=Layout(flex='2'), max=1125.0, style=Pro…"
      ]
     },
     "metadata": {},
     "output_type": "display_data"
    },
    {
     "name": "stdout",
     "output_type": "stream",
     "text": [
      "Epoch 320: train=0.937525, val=0.953897, took 36.856 s\n"
     ]
    },
    {
     "data": {
      "application/vnd.jupyter.widget-view+json": {
       "model_id": "",
       "version_major": 2,
       "version_minor": 0
      },
      "text/plain": [
       "HBox(children=(FloatProgress(value=0.0, description='Training', layout=Layout(flex='2'), max=1125.0, style=Pro…"
      ]
     },
     "metadata": {},
     "output_type": "display_data"
    },
    {
     "name": "stdout",
     "output_type": "stream",
     "text": [
      "Epoch 321: train=0.942481, val=0.960731, took 37.138 s\n"
     ]
    },
    {
     "data": {
      "application/vnd.jupyter.widget-view+json": {
       "model_id": "",
       "version_major": 2,
       "version_minor": 0
      },
      "text/plain": [
       "HBox(children=(FloatProgress(value=0.0, description='Training', layout=Layout(flex='2'), max=1125.0, style=Pro…"
      ]
     },
     "metadata": {},
     "output_type": "display_data"
    },
    {
     "name": "stdout",
     "output_type": "stream",
     "text": [
      "Epoch 322: train=0.94707, val=0.960036, took 36.947 s\n"
     ]
    },
    {
     "data": {
      "application/vnd.jupyter.widget-view+json": {
       "model_id": "",
       "version_major": 2,
       "version_minor": 0
      },
      "text/plain": [
       "HBox(children=(FloatProgress(value=0.0, description='Training', layout=Layout(flex='2'), max=1125.0, style=Pro…"
      ]
     },
     "metadata": {},
     "output_type": "display_data"
    },
    {
     "name": "stdout",
     "output_type": "stream",
     "text": [
      "Epoch 323: train=0.942025, val=0.994525, took 36.946 s\n"
     ]
    },
    {
     "data": {
      "application/vnd.jupyter.widget-view+json": {
       "model_id": "",
       "version_major": 2,
       "version_minor": 0
      },
      "text/plain": [
       "HBox(children=(FloatProgress(value=0.0, description='Training', layout=Layout(flex='2'), max=1125.0, style=Pro…"
      ]
     },
     "metadata": {},
     "output_type": "display_data"
    },
    {
     "name": "stdout",
     "output_type": "stream",
     "text": [
      "Epoch 324: train=0.937276, val=0.951694, took 36.879 s\n"
     ]
    },
    {
     "data": {
      "application/vnd.jupyter.widget-view+json": {
       "model_id": "",
       "version_major": 2,
       "version_minor": 0
      },
      "text/plain": [
       "HBox(children=(FloatProgress(value=0.0, description='Training', layout=Layout(flex='2'), max=1125.0, style=Pro…"
      ]
     },
     "metadata": {},
     "output_type": "display_data"
    },
    {
     "name": "stdout",
     "output_type": "stream",
     "text": [
      "Epoch 325: train=0.939264, val=0.954894, took 36.96 s\n"
     ]
    },
    {
     "data": {
      "application/vnd.jupyter.widget-view+json": {
       "model_id": "",
       "version_major": 2,
       "version_minor": 0
      },
      "text/plain": [
       "HBox(children=(FloatProgress(value=0.0, description='Training', layout=Layout(flex='2'), max=1125.0, style=Pro…"
      ]
     },
     "metadata": {},
     "output_type": "display_data"
    },
    {
     "name": "stdout",
     "output_type": "stream",
     "text": [
      "Epoch 326: train=0.937094, val=0.953468, took 36.892 s\n"
     ]
    },
    {
     "data": {
      "application/vnd.jupyter.widget-view+json": {
       "model_id": "",
       "version_major": 2,
       "version_minor": 0
      },
      "text/plain": [
       "HBox(children=(FloatProgress(value=0.0, description='Training', layout=Layout(flex='2'), max=1125.0, style=Pro…"
      ]
     },
     "metadata": {},
     "output_type": "display_data"
    },
    {
     "name": "stdout",
     "output_type": "stream",
     "text": [
      "Epoch 327: train=0.938019, val=0.982158, took 37.049 s\n"
     ]
    },
    {
     "data": {
      "application/vnd.jupyter.widget-view+json": {
       "model_id": "",
       "version_major": 2,
       "version_minor": 0
      },
      "text/plain": [
       "HBox(children=(FloatProgress(value=0.0, description='Training', layout=Layout(flex='2'), max=1125.0, style=Pro…"
      ]
     },
     "metadata": {},
     "output_type": "display_data"
    },
    {
     "name": "stdout",
     "output_type": "stream",
     "text": [
      "Epoch 328: train=0.945753, val=0.954916, took 36.894 s\n"
     ]
    },
    {
     "data": {
      "application/vnd.jupyter.widget-view+json": {
       "model_id": "",
       "version_major": 2,
       "version_minor": 0
      },
      "text/plain": [
       "HBox(children=(FloatProgress(value=0.0, description='Training', layout=Layout(flex='2'), max=1125.0, style=Pro…"
      ]
     },
     "metadata": {},
     "output_type": "display_data"
    },
    {
     "name": "stdout",
     "output_type": "stream",
     "text": [
      "Epoch 329: train=0.94235, val=0.954606, took 37.038 s\n"
     ]
    },
    {
     "data": {
      "application/vnd.jupyter.widget-view+json": {
       "model_id": "",
       "version_major": 2,
       "version_minor": 0
      },
      "text/plain": [
       "HBox(children=(FloatProgress(value=0.0, description='Training', layout=Layout(flex='2'), max=1125.0, style=Pro…"
      ]
     },
     "metadata": {},
     "output_type": "display_data"
    },
    {
     "name": "stdout",
     "output_type": "stream",
     "text": [
      "Epoch 330: train=0.942202, val=0.987954, took 37.021 s\n"
     ]
    },
    {
     "data": {
      "application/vnd.jupyter.widget-view+json": {
       "model_id": "",
       "version_major": 2,
       "version_minor": 0
      },
      "text/plain": [
       "HBox(children=(FloatProgress(value=0.0, description='Training', layout=Layout(flex='2'), max=1125.0, style=Pro…"
      ]
     },
     "metadata": {},
     "output_type": "display_data"
    },
    {
     "name": "stdout",
     "output_type": "stream",
     "text": [
      "Epoch 331: train=0.941729, val=0.965628, took 36.965 s\n"
     ]
    },
    {
     "data": {
      "application/vnd.jupyter.widget-view+json": {
       "model_id": "",
       "version_major": 2,
       "version_minor": 0
      },
      "text/plain": [
       "HBox(children=(FloatProgress(value=0.0, description='Training', layout=Layout(flex='2'), max=1125.0, style=Pro…"
      ]
     },
     "metadata": {},
     "output_type": "display_data"
    },
    {
     "name": "stdout",
     "output_type": "stream",
     "text": [
      "Epoch 332: train=0.940798, val=0.953317, took 36.951 s\n"
     ]
    },
    {
     "data": {
      "application/vnd.jupyter.widget-view+json": {
       "model_id": "",
       "version_major": 2,
       "version_minor": 0
      },
      "text/plain": [
       "HBox(children=(FloatProgress(value=0.0, description='Training', layout=Layout(flex='2'), max=1125.0, style=Pro…"
      ]
     },
     "metadata": {},
     "output_type": "display_data"
    },
    {
     "name": "stdout",
     "output_type": "stream",
     "text": [
      "Epoch 333: train=0.940388, val=0.950798, took 36.88 s\n"
     ]
    },
    {
     "data": {
      "application/vnd.jupyter.widget-view+json": {
       "model_id": "",
       "version_major": 2,
       "version_minor": 0
      },
      "text/plain": [
       "HBox(children=(FloatProgress(value=0.0, description='Training', layout=Layout(flex='2'), max=1125.0, style=Pro…"
      ]
     },
     "metadata": {},
     "output_type": "display_data"
    },
    {
     "name": "stdout",
     "output_type": "stream",
     "text": [
      "Epoch 334: train=0.940902, val=0.95325, took 36.901 s\n"
     ]
    },
    {
     "data": {
      "application/vnd.jupyter.widget-view+json": {
       "model_id": "",
       "version_major": 2,
       "version_minor": 0
      },
      "text/plain": [
       "HBox(children=(FloatProgress(value=0.0, description='Training', layout=Layout(flex='2'), max=1125.0, style=Pro…"
      ]
     },
     "metadata": {},
     "output_type": "display_data"
    },
    {
     "name": "stdout",
     "output_type": "stream",
     "text": [
      "Epoch 335: train=0.940287, val=0.959474, took 36.844 s\n"
     ]
    },
    {
     "data": {
      "application/vnd.jupyter.widget-view+json": {
       "model_id": "",
       "version_major": 2,
       "version_minor": 0
      },
      "text/plain": [
       "HBox(children=(FloatProgress(value=0.0, description='Training', layout=Layout(flex='2'), max=1125.0, style=Pro…"
      ]
     },
     "metadata": {},
     "output_type": "display_data"
    },
    {
     "name": "stdout",
     "output_type": "stream",
     "text": [
      "Epoch 336: train=0.939904, val=0.951546, took 36.872 s\n"
     ]
    },
    {
     "data": {
      "application/vnd.jupyter.widget-view+json": {
       "model_id": "",
       "version_major": 2,
       "version_minor": 0
      },
      "text/plain": [
       "HBox(children=(FloatProgress(value=0.0, description='Training', layout=Layout(flex='2'), max=1125.0, style=Pro…"
      ]
     },
     "metadata": {},
     "output_type": "display_data"
    },
    {
     "name": "stdout",
     "output_type": "stream",
     "text": [
      "Epoch 337: train=0.94592, val=0.952386, took 36.858 s\n"
     ]
    },
    {
     "data": {
      "application/vnd.jupyter.widget-view+json": {
       "model_id": "",
       "version_major": 2,
       "version_minor": 0
      },
      "text/plain": [
       "HBox(children=(FloatProgress(value=0.0, description='Training', layout=Layout(flex='2'), max=1125.0, style=Pro…"
      ]
     },
     "metadata": {},
     "output_type": "display_data"
    },
    {
     "name": "stdout",
     "output_type": "stream",
     "text": [
      "Epoch 338: train=0.945148, val=0.961955, took 36.824 s\n"
     ]
    },
    {
     "data": {
      "application/vnd.jupyter.widget-view+json": {
       "model_id": "",
       "version_major": 2,
       "version_minor": 0
      },
      "text/plain": [
       "HBox(children=(FloatProgress(value=0.0, description='Training', layout=Layout(flex='2'), max=1125.0, style=Pro…"
      ]
     },
     "metadata": {},
     "output_type": "display_data"
    },
    {
     "name": "stdout",
     "output_type": "stream",
     "text": [
      "Epoch 339: train=0.940578, val=0.96841, took 36.918 s\n"
     ]
    },
    {
     "data": {
      "application/vnd.jupyter.widget-view+json": {
       "model_id": "",
       "version_major": 2,
       "version_minor": 0
      },
      "text/plain": [
       "HBox(children=(FloatProgress(value=0.0, description='Training', layout=Layout(flex='2'), max=1125.0, style=Pro…"
      ]
     },
     "metadata": {},
     "output_type": "display_data"
    },
    {
     "name": "stdout",
     "output_type": "stream",
     "text": [
      "Epoch 340: train=0.938076, val=0.962914, took 36.885 s\n"
     ]
    },
    {
     "data": {
      "application/vnd.jupyter.widget-view+json": {
       "model_id": "",
       "version_major": 2,
       "version_minor": 0
      },
      "text/plain": [
       "HBox(children=(FloatProgress(value=0.0, description='Training', layout=Layout(flex='2'), max=1125.0, style=Pro…"
      ]
     },
     "metadata": {},
     "output_type": "display_data"
    },
    {
     "name": "stdout",
     "output_type": "stream",
     "text": [
      "Epoch 341: train=0.938225, val=0.965175, took 36.881 s\n"
     ]
    },
    {
     "data": {
      "application/vnd.jupyter.widget-view+json": {
       "model_id": "",
       "version_major": 2,
       "version_minor": 0
      },
      "text/plain": [
       "HBox(children=(FloatProgress(value=0.0, description='Training', layout=Layout(flex='2'), max=1125.0, style=Pro…"
      ]
     },
     "metadata": {},
     "output_type": "display_data"
    },
    {
     "name": "stdout",
     "output_type": "stream",
     "text": [
      "Epoch 342: train=0.937578, val=0.951363, took 36.931 s\n"
     ]
    },
    {
     "data": {
      "application/vnd.jupyter.widget-view+json": {
       "model_id": "",
       "version_major": 2,
       "version_minor": 0
      },
      "text/plain": [
       "HBox(children=(FloatProgress(value=0.0, description='Training', layout=Layout(flex='2'), max=1125.0, style=Pro…"
      ]
     },
     "metadata": {},
     "output_type": "display_data"
    },
    {
     "name": "stdout",
     "output_type": "stream",
     "text": [
      "Epoch 343: train=0.936856, val=0.963321, took 36.797 s\n"
     ]
    },
    {
     "data": {
      "application/vnd.jupyter.widget-view+json": {
       "model_id": "",
       "version_major": 2,
       "version_minor": 0
      },
      "text/plain": [
       "HBox(children=(FloatProgress(value=0.0, description='Training', layout=Layout(flex='2'), max=1125.0, style=Pro…"
      ]
     },
     "metadata": {},
     "output_type": "display_data"
    },
    {
     "name": "stdout",
     "output_type": "stream",
     "text": [
      "Epoch 344: train=0.939002, val=0.975908, took 36.85 s\n"
     ]
    },
    {
     "data": {
      "application/vnd.jupyter.widget-view+json": {
       "model_id": "",
       "version_major": 2,
       "version_minor": 0
      },
      "text/plain": [
       "HBox(children=(FloatProgress(value=0.0, description='Training', layout=Layout(flex='2'), max=1125.0, style=Pro…"
      ]
     },
     "metadata": {},
     "output_type": "display_data"
    },
    {
     "name": "stdout",
     "output_type": "stream",
     "text": [
      "Epoch 345: train=0.944245, val=1.00007, took 36.822 s\n"
     ]
    },
    {
     "data": {
      "application/vnd.jupyter.widget-view+json": {
       "model_id": "",
       "version_major": 2,
       "version_minor": 0
      },
      "text/plain": [
       "HBox(children=(FloatProgress(value=0.0, description='Training', layout=Layout(flex='2'), max=1125.0, style=Pro…"
      ]
     },
     "metadata": {},
     "output_type": "display_data"
    },
    {
     "name": "stdout",
     "output_type": "stream",
     "text": [
      "Epoch 346: train=0.939368, val=0.955874, took 36.971 s\n"
     ]
    },
    {
     "data": {
      "application/vnd.jupyter.widget-view+json": {
       "model_id": "",
       "version_major": 2,
       "version_minor": 0
      },
      "text/plain": [
       "HBox(children=(FloatProgress(value=0.0, description='Training', layout=Layout(flex='2'), max=1125.0, style=Pro…"
      ]
     },
     "metadata": {},
     "output_type": "display_data"
    },
    {
     "name": "stdout",
     "output_type": "stream",
     "text": [
      "Epoch 347: train=0.93922, val=0.952724, took 36.879 s\n"
     ]
    },
    {
     "data": {
      "application/vnd.jupyter.widget-view+json": {
       "model_id": "",
       "version_major": 2,
       "version_minor": 0
      },
      "text/plain": [
       "HBox(children=(FloatProgress(value=0.0, description='Training', layout=Layout(flex='2'), max=1125.0, style=Pro…"
      ]
     },
     "metadata": {},
     "output_type": "display_data"
    },
    {
     "name": "stdout",
     "output_type": "stream",
     "text": [
      "Epoch 348: train=0.938948, val=0.95989, took 36.949 s\n"
     ]
    },
    {
     "data": {
      "application/vnd.jupyter.widget-view+json": {
       "model_id": "",
       "version_major": 2,
       "version_minor": 0
      },
      "text/plain": [
       "HBox(children=(FloatProgress(value=0.0, description='Training', layout=Layout(flex='2'), max=1125.0, style=Pro…"
      ]
     },
     "metadata": {},
     "output_type": "display_data"
    },
    {
     "name": "stdout",
     "output_type": "stream",
     "text": [
      "Epoch 349: train=0.939363, val=0.963432, took 36.824 s\n"
     ]
    },
    {
     "data": {
      "application/vnd.jupyter.widget-view+json": {
       "model_id": "",
       "version_major": 2,
       "version_minor": 0
      },
      "text/plain": [
       "HBox(children=(FloatProgress(value=0.0, description='Training', layout=Layout(flex='2'), max=1125.0, style=Pro…"
      ]
     },
     "metadata": {},
     "output_type": "display_data"
    },
    {
     "name": "stdout",
     "output_type": "stream",
     "text": [
      "Epoch 350: train=0.93727, val=0.951015, took 36.887 s\n"
     ]
    },
    {
     "data": {
      "application/vnd.jupyter.widget-view+json": {
       "model_id": "",
       "version_major": 2,
       "version_minor": 0
      },
      "text/plain": [
       "HBox(children=(FloatProgress(value=0.0, description='Training', layout=Layout(flex='2'), max=1125.0, style=Pro…"
      ]
     },
     "metadata": {},
     "output_type": "display_data"
    },
    {
     "name": "stdout",
     "output_type": "stream",
     "text": [
      "Epoch 351: train=0.939414, val=0.950805, took 37.019 s\n"
     ]
    },
    {
     "data": {
      "application/vnd.jupyter.widget-view+json": {
       "model_id": "",
       "version_major": 2,
       "version_minor": 0
      },
      "text/plain": [
       "HBox(children=(FloatProgress(value=0.0, description='Training', layout=Layout(flex='2'), max=1125.0, style=Pro…"
      ]
     },
     "metadata": {},
     "output_type": "display_data"
    },
    {
     "name": "stdout",
     "output_type": "stream",
     "text": [
      "Epoch 352: train=0.94504, val=0.967311, took 36.914 s\n"
     ]
    },
    {
     "data": {
      "application/vnd.jupyter.widget-view+json": {
       "model_id": "",
       "version_major": 2,
       "version_minor": 0
      },
      "text/plain": [
       "HBox(children=(FloatProgress(value=0.0, description='Training', layout=Layout(flex='2'), max=1125.0, style=Pro…"
      ]
     },
     "metadata": {},
     "output_type": "display_data"
    },
    {
     "name": "stdout",
     "output_type": "stream",
     "text": [
      "Epoch 353: train=0.938245, val=0.996352, took 36.823 s\n"
     ]
    },
    {
     "data": {
      "application/vnd.jupyter.widget-view+json": {
       "model_id": "",
       "version_major": 2,
       "version_minor": 0
      },
      "text/plain": [
       "HBox(children=(FloatProgress(value=0.0, description='Training', layout=Layout(flex='2'), max=1125.0, style=Pro…"
      ]
     },
     "metadata": {},
     "output_type": "display_data"
    },
    {
     "name": "stdout",
     "output_type": "stream",
     "text": [
      "Epoch 354: train=0.936708, val=0.957175, took 36.847 s\n"
     ]
    },
    {
     "data": {
      "application/vnd.jupyter.widget-view+json": {
       "model_id": "",
       "version_major": 2,
       "version_minor": 0
      },
      "text/plain": [
       "HBox(children=(FloatProgress(value=0.0, description='Training', layout=Layout(flex='2'), max=1125.0, style=Pro…"
      ]
     },
     "metadata": {},
     "output_type": "display_data"
    },
    {
     "name": "stdout",
     "output_type": "stream",
     "text": [
      "Epoch 355: train=0.94302, val=0.949981, took 36.947 s\n"
     ]
    },
    {
     "data": {
      "application/vnd.jupyter.widget-view+json": {
       "model_id": "",
       "version_major": 2,
       "version_minor": 0
      },
      "text/plain": [
       "HBox(children=(FloatProgress(value=0.0, description='Training', layout=Layout(flex='2'), max=1125.0, style=Pro…"
      ]
     },
     "metadata": {},
     "output_type": "display_data"
    },
    {
     "name": "stdout",
     "output_type": "stream",
     "text": [
      "Epoch 356: train=0.941479, val=0.95828, took 37.18 s\n"
     ]
    },
    {
     "data": {
      "application/vnd.jupyter.widget-view+json": {
       "model_id": "",
       "version_major": 2,
       "version_minor": 0
      },
      "text/plain": [
       "HBox(children=(FloatProgress(value=0.0, description='Training', layout=Layout(flex='2'), max=1125.0, style=Pro…"
      ]
     },
     "metadata": {},
     "output_type": "display_data"
    },
    {
     "name": "stdout",
     "output_type": "stream",
     "text": [
      "Epoch 357: train=0.939561, val=0.954927, took 36.971 s\n"
     ]
    },
    {
     "data": {
      "application/vnd.jupyter.widget-view+json": {
       "model_id": "",
       "version_major": 2,
       "version_minor": 0
      },
      "text/plain": [
       "HBox(children=(FloatProgress(value=0.0, description='Training', layout=Layout(flex='2'), max=1125.0, style=Pro…"
      ]
     },
     "metadata": {},
     "output_type": "display_data"
    },
    {
     "name": "stdout",
     "output_type": "stream",
     "text": [
      "Epoch 358: train=0.937042, val=0.955145, took 36.799 s\n"
     ]
    },
    {
     "data": {
      "application/vnd.jupyter.widget-view+json": {
       "model_id": "",
       "version_major": 2,
       "version_minor": 0
      },
      "text/plain": [
       "HBox(children=(FloatProgress(value=0.0, description='Training', layout=Layout(flex='2'), max=1125.0, style=Pro…"
      ]
     },
     "metadata": {},
     "output_type": "display_data"
    },
    {
     "name": "stdout",
     "output_type": "stream",
     "text": [
      "Epoch 359: train=0.937783, val=0.970002, took 36.897 s\n"
     ]
    },
    {
     "data": {
      "application/vnd.jupyter.widget-view+json": {
       "model_id": "",
       "version_major": 2,
       "version_minor": 0
      },
      "text/plain": [
       "HBox(children=(FloatProgress(value=0.0, description='Training', layout=Layout(flex='2'), max=1125.0, style=Pro…"
      ]
     },
     "metadata": {},
     "output_type": "display_data"
    },
    {
     "name": "stdout",
     "output_type": "stream",
     "text": [
      "Epoch 360: train=0.938737, val=0.958233, took 36.829 s\n"
     ]
    },
    {
     "data": {
      "application/vnd.jupyter.widget-view+json": {
       "model_id": "",
       "version_major": 2,
       "version_minor": 0
      },
      "text/plain": [
       "HBox(children=(FloatProgress(value=0.0, description='Training', layout=Layout(flex='2'), max=1125.0, style=Pro…"
      ]
     },
     "metadata": {},
     "output_type": "display_data"
    },
    {
     "name": "stdout",
     "output_type": "stream",
     "text": [
      "Epoch 361: train=0.941035, val=0.960775, took 36.796 s\n"
     ]
    },
    {
     "data": {
      "application/vnd.jupyter.widget-view+json": {
       "model_id": "",
       "version_major": 2,
       "version_minor": 0
      },
      "text/plain": [
       "HBox(children=(FloatProgress(value=0.0, description='Training', layout=Layout(flex='2'), max=1125.0, style=Pro…"
      ]
     },
     "metadata": {},
     "output_type": "display_data"
    },
    {
     "name": "stdout",
     "output_type": "stream",
     "text": [
      "Epoch 362: train=0.942988, val=0.991563, took 36.865 s\n"
     ]
    },
    {
     "data": {
      "application/vnd.jupyter.widget-view+json": {
       "model_id": "",
       "version_major": 2,
       "version_minor": 0
      },
      "text/plain": [
       "HBox(children=(FloatProgress(value=0.0, description='Training', layout=Layout(flex='2'), max=1125.0, style=Pro…"
      ]
     },
     "metadata": {},
     "output_type": "display_data"
    },
    {
     "name": "stdout",
     "output_type": "stream",
     "text": [
      "Epoch 363: train=0.935988, val=0.961098, took 36.85 s\n"
     ]
    },
    {
     "data": {
      "application/vnd.jupyter.widget-view+json": {
       "model_id": "",
       "version_major": 2,
       "version_minor": 0
      },
      "text/plain": [
       "HBox(children=(FloatProgress(value=0.0, description='Training', layout=Layout(flex='2'), max=1125.0, style=Pro…"
      ]
     },
     "metadata": {},
     "output_type": "display_data"
    },
    {
     "name": "stdout",
     "output_type": "stream",
     "text": [
      "Epoch 364: train=0.941063, val=0.966775, took 36.827 s\n"
     ]
    },
    {
     "data": {
      "application/vnd.jupyter.widget-view+json": {
       "model_id": "",
       "version_major": 2,
       "version_minor": 0
      },
      "text/plain": [
       "HBox(children=(FloatProgress(value=0.0, description='Training', layout=Layout(flex='2'), max=1125.0, style=Pro…"
      ]
     },
     "metadata": {},
     "output_type": "display_data"
    },
    {
     "name": "stdout",
     "output_type": "stream",
     "text": [
      "Epoch 365: train=0.940056, val=0.991275, took 36.926 s\n"
     ]
    },
    {
     "data": {
      "application/vnd.jupyter.widget-view+json": {
       "model_id": "",
       "version_major": 2,
       "version_minor": 0
      },
      "text/plain": [
       "HBox(children=(FloatProgress(value=0.0, description='Training', layout=Layout(flex='2'), max=1125.0, style=Pro…"
      ]
     },
     "metadata": {},
     "output_type": "display_data"
    },
    {
     "name": "stdout",
     "output_type": "stream",
     "text": [
      "Epoch 366: train=0.938772, val=0.957421, took 36.975 s\n"
     ]
    },
    {
     "data": {
      "application/vnd.jupyter.widget-view+json": {
       "model_id": "",
       "version_major": 2,
       "version_minor": 0
      },
      "text/plain": [
       "HBox(children=(FloatProgress(value=0.0, description='Training', layout=Layout(flex='2'), max=1125.0, style=Pro…"
      ]
     },
     "metadata": {},
     "output_type": "display_data"
    },
    {
     "name": "stdout",
     "output_type": "stream",
     "text": [
      "Epoch 367: train=0.940141, val=0.955429, took 36.836 s\n"
     ]
    },
    {
     "data": {
      "application/vnd.jupyter.widget-view+json": {
       "model_id": "",
       "version_major": 2,
       "version_minor": 0
      },
      "text/plain": [
       "HBox(children=(FloatProgress(value=0.0, description='Training', layout=Layout(flex='2'), max=1125.0, style=Pro…"
      ]
     },
     "metadata": {},
     "output_type": "display_data"
    },
    {
     "name": "stdout",
     "output_type": "stream",
     "text": [
      "Epoch 368: train=0.944072, val=0.968704, took 37.096 s\n"
     ]
    },
    {
     "data": {
      "application/vnd.jupyter.widget-view+json": {
       "model_id": "",
       "version_major": 2,
       "version_minor": 0
      },
      "text/plain": [
       "HBox(children=(FloatProgress(value=0.0, description='Training', layout=Layout(flex='2'), max=1125.0, style=Pro…"
      ]
     },
     "metadata": {},
     "output_type": "display_data"
    },
    {
     "name": "stdout",
     "output_type": "stream",
     "text": [
      "Epoch 369: train=0.936725, val=0.961293, took 37.319 s\n"
     ]
    },
    {
     "data": {
      "application/vnd.jupyter.widget-view+json": {
       "model_id": "",
       "version_major": 2,
       "version_minor": 0
      },
      "text/plain": [
       "HBox(children=(FloatProgress(value=0.0, description='Training', layout=Layout(flex='2'), max=1125.0, style=Pro…"
      ]
     },
     "metadata": {},
     "output_type": "display_data"
    },
    {
     "name": "stdout",
     "output_type": "stream",
     "text": [
      "Epoch 370: train=0.936332, val=0.953752, took 37.101 s\n"
     ]
    },
    {
     "data": {
      "application/vnd.jupyter.widget-view+json": {
       "model_id": "",
       "version_major": 2,
       "version_minor": 0
      },
      "text/plain": [
       "HBox(children=(FloatProgress(value=0.0, description='Training', layout=Layout(flex='2'), max=1125.0, style=Pro…"
      ]
     },
     "metadata": {},
     "output_type": "display_data"
    },
    {
     "name": "stdout",
     "output_type": "stream",
     "text": [
      "Epoch 371: train=0.934724, val=0.961453, took 36.847 s\n"
     ]
    },
    {
     "data": {
      "application/vnd.jupyter.widget-view+json": {
       "model_id": "",
       "version_major": 2,
       "version_minor": 0
      },
      "text/plain": [
       "HBox(children=(FloatProgress(value=0.0, description='Training', layout=Layout(flex='2'), max=1125.0, style=Pro…"
      ]
     },
     "metadata": {},
     "output_type": "display_data"
    },
    {
     "name": "stdout",
     "output_type": "stream",
     "text": [
      "Epoch 372: train=0.939868, val=1.00745, took 36.86 s\n"
     ]
    },
    {
     "data": {
      "application/vnd.jupyter.widget-view+json": {
       "model_id": "",
       "version_major": 2,
       "version_minor": 0
      },
      "text/plain": [
       "HBox(children=(FloatProgress(value=0.0, description='Training', layout=Layout(flex='2'), max=1125.0, style=Pro…"
      ]
     },
     "metadata": {},
     "output_type": "display_data"
    },
    {
     "name": "stdout",
     "output_type": "stream",
     "text": [
      "Epoch 373: train=0.941559, val=0.95325, took 37.034 s\n"
     ]
    },
    {
     "data": {
      "application/vnd.jupyter.widget-view+json": {
       "model_id": "",
       "version_major": 2,
       "version_minor": 0
      },
      "text/plain": [
       "HBox(children=(FloatProgress(value=0.0, description='Training', layout=Layout(flex='2'), max=1125.0, style=Pro…"
      ]
     },
     "metadata": {},
     "output_type": "display_data"
    },
    {
     "name": "stdout",
     "output_type": "stream",
     "text": [
      "Epoch 374: train=0.942875, val=0.960701, took 37.189 s\n"
     ]
    },
    {
     "data": {
      "application/vnd.jupyter.widget-view+json": {
       "model_id": "",
       "version_major": 2,
       "version_minor": 0
      },
      "text/plain": [
       "HBox(children=(FloatProgress(value=0.0, description='Training', layout=Layout(flex='2'), max=1125.0, style=Pro…"
      ]
     },
     "metadata": {},
     "output_type": "display_data"
    },
    {
     "name": "stdout",
     "output_type": "stream",
     "text": [
      "Epoch 375: train=0.939147, val=0.954741, took 36.842 s\n"
     ]
    },
    {
     "data": {
      "application/vnd.jupyter.widget-view+json": {
       "model_id": "",
       "version_major": 2,
       "version_minor": 0
      },
      "text/plain": [
       "HBox(children=(FloatProgress(value=0.0, description='Training', layout=Layout(flex='2'), max=1125.0, style=Pro…"
      ]
     },
     "metadata": {},
     "output_type": "display_data"
    },
    {
     "name": "stdout",
     "output_type": "stream",
     "text": [
      "Epoch 376: train=0.936541, val=0.95441, took 36.986 s\n"
     ]
    },
    {
     "data": {
      "application/vnd.jupyter.widget-view+json": {
       "model_id": "",
       "version_major": 2,
       "version_minor": 0
      },
      "text/plain": [
       "HBox(children=(FloatProgress(value=0.0, description='Training', layout=Layout(flex='2'), max=1125.0, style=Pro…"
      ]
     },
     "metadata": {},
     "output_type": "display_data"
    },
    {
     "name": "stdout",
     "output_type": "stream",
     "text": [
      "Epoch 377: train=0.932766, val=0.960876, took 36.891 s\n"
     ]
    },
    {
     "data": {
      "application/vnd.jupyter.widget-view+json": {
       "model_id": "",
       "version_major": 2,
       "version_minor": 0
      },
      "text/plain": [
       "HBox(children=(FloatProgress(value=0.0, description='Training', layout=Layout(flex='2'), max=1125.0, style=Pro…"
      ]
     },
     "metadata": {},
     "output_type": "display_data"
    },
    {
     "name": "stdout",
     "output_type": "stream",
     "text": [
      "Epoch 378: train=0.942099, val=0.956694, took 36.815 s\n"
     ]
    },
    {
     "data": {
      "application/vnd.jupyter.widget-view+json": {
       "model_id": "",
       "version_major": 2,
       "version_minor": 0
      },
      "text/plain": [
       "HBox(children=(FloatProgress(value=0.0, description='Training', layout=Layout(flex='2'), max=1125.0, style=Pro…"
      ]
     },
     "metadata": {},
     "output_type": "display_data"
    },
    {
     "name": "stdout",
     "output_type": "stream",
     "text": [
      "Epoch 379: train=0.933613, val=0.954593, took 36.864 s\n"
     ]
    },
    {
     "data": {
      "application/vnd.jupyter.widget-view+json": {
       "model_id": "",
       "version_major": 2,
       "version_minor": 0
      },
      "text/plain": [
       "HBox(children=(FloatProgress(value=0.0, description='Training', layout=Layout(flex='2'), max=1125.0, style=Pro…"
      ]
     },
     "metadata": {},
     "output_type": "display_data"
    },
    {
     "name": "stdout",
     "output_type": "stream",
     "text": [
      "Epoch 380: train=0.936769, val=0.952203, took 36.872 s\n"
     ]
    },
    {
     "data": {
      "application/vnd.jupyter.widget-view+json": {
       "model_id": "",
       "version_major": 2,
       "version_minor": 0
      },
      "text/plain": [
       "HBox(children=(FloatProgress(value=0.0, description='Training', layout=Layout(flex='2'), max=1125.0, style=Pro…"
      ]
     },
     "metadata": {},
     "output_type": "display_data"
    },
    {
     "name": "stdout",
     "output_type": "stream",
     "text": [
      "Epoch 381: train=0.937696, val=0.95311, took 36.865 s\n"
     ]
    },
    {
     "data": {
      "application/vnd.jupyter.widget-view+json": {
       "model_id": "",
       "version_major": 2,
       "version_minor": 0
      },
      "text/plain": [
       "HBox(children=(FloatProgress(value=0.0, description='Training', layout=Layout(flex='2'), max=1125.0, style=Pro…"
      ]
     },
     "metadata": {},
     "output_type": "display_data"
    },
    {
     "name": "stdout",
     "output_type": "stream",
     "text": [
      "Epoch 382: train=0.937007, val=0.952986, took 36.845 s\n"
     ]
    },
    {
     "data": {
      "application/vnd.jupyter.widget-view+json": {
       "model_id": "",
       "version_major": 2,
       "version_minor": 0
      },
      "text/plain": [
       "HBox(children=(FloatProgress(value=0.0, description='Training', layout=Layout(flex='2'), max=1125.0, style=Pro…"
      ]
     },
     "metadata": {},
     "output_type": "display_data"
    },
    {
     "name": "stdout",
     "output_type": "stream",
     "text": [
      "Epoch 383: train=0.937127, val=0.961942, took 37.052 s\n"
     ]
    },
    {
     "data": {
      "application/vnd.jupyter.widget-view+json": {
       "model_id": "",
       "version_major": 2,
       "version_minor": 0
      },
      "text/plain": [
       "HBox(children=(FloatProgress(value=0.0, description='Training', layout=Layout(flex='2'), max=1125.0, style=Pro…"
      ]
     },
     "metadata": {},
     "output_type": "display_data"
    },
    {
     "name": "stdout",
     "output_type": "stream",
     "text": [
      "Epoch 384: train=0.936322, val=0.961145, took 36.8 s\n"
     ]
    },
    {
     "data": {
      "application/vnd.jupyter.widget-view+json": {
       "model_id": "",
       "version_major": 2,
       "version_minor": 0
      },
      "text/plain": [
       "HBox(children=(FloatProgress(value=0.0, description='Training', layout=Layout(flex='2'), max=1125.0, style=Pro…"
      ]
     },
     "metadata": {},
     "output_type": "display_data"
    },
    {
     "name": "stdout",
     "output_type": "stream",
     "text": [
      "Epoch 385: train=0.936867, val=0.954246, took 36.824 s\n"
     ]
    },
    {
     "data": {
      "application/vnd.jupyter.widget-view+json": {
       "model_id": "",
       "version_major": 2,
       "version_minor": 0
      },
      "text/plain": [
       "HBox(children=(FloatProgress(value=0.0, description='Training', layout=Layout(flex='2'), max=1125.0, style=Pro…"
      ]
     },
     "metadata": {},
     "output_type": "display_data"
    },
    {
     "name": "stdout",
     "output_type": "stream",
     "text": [
      "Epoch 386: train=0.934844, val=0.953841, took 36.836 s\n"
     ]
    },
    {
     "data": {
      "application/vnd.jupyter.widget-view+json": {
       "model_id": "",
       "version_major": 2,
       "version_minor": 0
      },
      "text/plain": [
       "HBox(children=(FloatProgress(value=0.0, description='Training', layout=Layout(flex='2'), max=1125.0, style=Pro…"
      ]
     },
     "metadata": {},
     "output_type": "display_data"
    },
    {
     "name": "stdout",
     "output_type": "stream",
     "text": [
      "Epoch 387: train=0.937426, val=0.9663, took 36.774 s\n"
     ]
    },
    {
     "data": {
      "application/vnd.jupyter.widget-view+json": {
       "model_id": "",
       "version_major": 2,
       "version_minor": 0
      },
      "text/plain": [
       "HBox(children=(FloatProgress(value=0.0, description='Training', layout=Layout(flex='2'), max=1125.0, style=Pro…"
      ]
     },
     "metadata": {},
     "output_type": "display_data"
    },
    {
     "name": "stdout",
     "output_type": "stream",
     "text": [
      "Epoch 388: train=0.940772, val=0.96391, took 36.973 s\n"
     ]
    },
    {
     "data": {
      "application/vnd.jupyter.widget-view+json": {
       "model_id": "",
       "version_major": 2,
       "version_minor": 0
      },
      "text/plain": [
       "HBox(children=(FloatProgress(value=0.0, description='Training', layout=Layout(flex='2'), max=1125.0, style=Pro…"
      ]
     },
     "metadata": {},
     "output_type": "display_data"
    },
    {
     "name": "stdout",
     "output_type": "stream",
     "text": [
      "Epoch 389: train=0.938812, val=0.958135, took 36.925 s\n"
     ]
    },
    {
     "data": {
      "application/vnd.jupyter.widget-view+json": {
       "model_id": "",
       "version_major": 2,
       "version_minor": 0
      },
      "text/plain": [
       "HBox(children=(FloatProgress(value=0.0, description='Training', layout=Layout(flex='2'), max=1125.0, style=Pro…"
      ]
     },
     "metadata": {},
     "output_type": "display_data"
    },
    {
     "name": "stdout",
     "output_type": "stream",
     "text": [
      "Epoch 390: train=0.94196, val=0.950932, took 36.861 s\n"
     ]
    },
    {
     "data": {
      "application/vnd.jupyter.widget-view+json": {
       "model_id": "",
       "version_major": 2,
       "version_minor": 0
      },
      "text/plain": [
       "HBox(children=(FloatProgress(value=0.0, description='Training', layout=Layout(flex='2'), max=1125.0, style=Pro…"
      ]
     },
     "metadata": {},
     "output_type": "display_data"
    },
    {
     "name": "stdout",
     "output_type": "stream",
     "text": [
      "Epoch 391: train=0.939391, val=1.00131, took 36.808 s\n"
     ]
    },
    {
     "data": {
      "application/vnd.jupyter.widget-view+json": {
       "model_id": "",
       "version_major": 2,
       "version_minor": 0
      },
      "text/plain": [
       "HBox(children=(FloatProgress(value=0.0, description='Training', layout=Layout(flex='2'), max=1125.0, style=Pro…"
      ]
     },
     "metadata": {},
     "output_type": "display_data"
    },
    {
     "name": "stdout",
     "output_type": "stream",
     "text": [
      "Epoch 392: train=0.937655, val=0.952059, took 36.907 s\n"
     ]
    },
    {
     "data": {
      "application/vnd.jupyter.widget-view+json": {
       "model_id": "",
       "version_major": 2,
       "version_minor": 0
      },
      "text/plain": [
       "HBox(children=(FloatProgress(value=0.0, description='Training', layout=Layout(flex='2'), max=1125.0, style=Pro…"
      ]
     },
     "metadata": {},
     "output_type": "display_data"
    },
    {
     "name": "stdout",
     "output_type": "stream",
     "text": [
      "Epoch 393: train=0.936579, val=0.961522, took 37.102 s\n"
     ]
    },
    {
     "data": {
      "application/vnd.jupyter.widget-view+json": {
       "model_id": "",
       "version_major": 2,
       "version_minor": 0
      },
      "text/plain": [
       "HBox(children=(FloatProgress(value=0.0, description='Training', layout=Layout(flex='2'), max=1125.0, style=Pro…"
      ]
     },
     "metadata": {},
     "output_type": "display_data"
    },
    {
     "name": "stdout",
     "output_type": "stream",
     "text": [
      "Epoch 394: train=0.937103, val=0.953715, took 36.896 s\n"
     ]
    },
    {
     "data": {
      "application/vnd.jupyter.widget-view+json": {
       "model_id": "",
       "version_major": 2,
       "version_minor": 0
      },
      "text/plain": [
       "HBox(children=(FloatProgress(value=0.0, description='Training', layout=Layout(flex='2'), max=1125.0, style=Pro…"
      ]
     },
     "metadata": {},
     "output_type": "display_data"
    },
    {
     "name": "stdout",
     "output_type": "stream",
     "text": [
      "Epoch 395: train=0.939211, val=0.960316, took 36.887 s\n"
     ]
    },
    {
     "data": {
      "application/vnd.jupyter.widget-view+json": {
       "model_id": "",
       "version_major": 2,
       "version_minor": 0
      },
      "text/plain": [
       "HBox(children=(FloatProgress(value=0.0, description='Training', layout=Layout(flex='2'), max=1125.0, style=Pro…"
      ]
     },
     "metadata": {},
     "output_type": "display_data"
    },
    {
     "name": "stdout",
     "output_type": "stream",
     "text": [
      "Epoch 396: train=0.935196, val=0.95883, took 36.874 s\n"
     ]
    },
    {
     "data": {
      "application/vnd.jupyter.widget-view+json": {
       "model_id": "",
       "version_major": 2,
       "version_minor": 0
      },
      "text/plain": [
       "HBox(children=(FloatProgress(value=0.0, description='Training', layout=Layout(flex='2'), max=1125.0, style=Pro…"
      ]
     },
     "metadata": {},
     "output_type": "display_data"
    },
    {
     "name": "stdout",
     "output_type": "stream",
     "text": [
      "Epoch 397: train=0.9321, val=0.950847, took 36.851 s\n"
     ]
    },
    {
     "data": {
      "application/vnd.jupyter.widget-view+json": {
       "model_id": "",
       "version_major": 2,
       "version_minor": 0
      },
      "text/plain": [
       "HBox(children=(FloatProgress(value=0.0, description='Training', layout=Layout(flex='2'), max=1125.0, style=Pro…"
      ]
     },
     "metadata": {},
     "output_type": "display_data"
    },
    {
     "name": "stdout",
     "output_type": "stream",
     "text": [
      "Epoch 398: train=0.93683, val=0.972736, took 36.993 s\n"
     ]
    },
    {
     "data": {
      "application/vnd.jupyter.widget-view+json": {
       "model_id": "",
       "version_major": 2,
       "version_minor": 0
      },
      "text/plain": [
       "HBox(children=(FloatProgress(value=0.0, description='Training', layout=Layout(flex='2'), max=1125.0, style=Pro…"
      ]
     },
     "metadata": {},
     "output_type": "display_data"
    },
    {
     "name": "stdout",
     "output_type": "stream",
     "text": [
      "Epoch 399: train=0.942916, val=0.958359, took 37.294 s\n"
     ]
    },
    {
     "data": {
      "application/vnd.jupyter.widget-view+json": {
       "model_id": "",
       "version_major": 2,
       "version_minor": 0
      },
      "text/plain": [
       "HBox(children=(FloatProgress(value=0.0, description='Training', layout=Layout(flex='2'), max=1125.0, style=Pro…"
      ]
     },
     "metadata": {},
     "output_type": "display_data"
    },
    {
     "name": "stdout",
     "output_type": "stream",
     "text": [
      "Epoch 400: train=0.938224, val=0.987857, took 37.032 s\n"
     ]
    },
    {
     "data": {
      "application/vnd.jupyter.widget-view+json": {
       "model_id": "",
       "version_major": 2,
       "version_minor": 0
      },
      "text/plain": [
       "HBox(children=(FloatProgress(value=0.0, description='Training', layout=Layout(flex='2'), max=1125.0, style=Pro…"
      ]
     },
     "metadata": {},
     "output_type": "display_data"
    },
    {
     "name": "stdout",
     "output_type": "stream",
     "text": [
      "Epoch 401: train=0.937477, val=0.955512, took 36.775 s\n"
     ]
    },
    {
     "data": {
      "application/vnd.jupyter.widget-view+json": {
       "model_id": "",
       "version_major": 2,
       "version_minor": 0
      },
      "text/plain": [
       "HBox(children=(FloatProgress(value=0.0, description='Training', layout=Layout(flex='2'), max=1125.0, style=Pro…"
      ]
     },
     "metadata": {},
     "output_type": "display_data"
    },
    {
     "name": "stdout",
     "output_type": "stream",
     "text": [
      "Epoch 402: train=0.938072, val=0.979199, took 36.799 s\n"
     ]
    },
    {
     "data": {
      "application/vnd.jupyter.widget-view+json": {
       "model_id": "",
       "version_major": 2,
       "version_minor": 0
      },
      "text/plain": [
       "HBox(children=(FloatProgress(value=0.0, description='Training', layout=Layout(flex='2'), max=1125.0, style=Pro…"
      ]
     },
     "metadata": {},
     "output_type": "display_data"
    },
    {
     "name": "stdout",
     "output_type": "stream",
     "text": [
      "Epoch 403: train=0.938842, val=0.955442, took 36.819 s\n"
     ]
    },
    {
     "data": {
      "application/vnd.jupyter.widget-view+json": {
       "model_id": "",
       "version_major": 2,
       "version_minor": 0
      },
      "text/plain": [
       "HBox(children=(FloatProgress(value=0.0, description='Training', layout=Layout(flex='2'), max=1125.0, style=Pro…"
      ]
     },
     "metadata": {},
     "output_type": "display_data"
    },
    {
     "name": "stdout",
     "output_type": "stream",
     "text": [
      "Epoch 404: train=0.933995, val=0.984208, took 36.831 s\n"
     ]
    },
    {
     "data": {
      "application/vnd.jupyter.widget-view+json": {
       "model_id": "",
       "version_major": 2,
       "version_minor": 0
      },
      "text/plain": [
       "HBox(children=(FloatProgress(value=0.0, description='Training', layout=Layout(flex='2'), max=1125.0, style=Pro…"
      ]
     },
     "metadata": {},
     "output_type": "display_data"
    },
    {
     "name": "stdout",
     "output_type": "stream",
     "text": [
      "Epoch 405: train=0.937808, val=0.951067, took 36.894 s\n"
     ]
    },
    {
     "data": {
      "application/vnd.jupyter.widget-view+json": {
       "model_id": "",
       "version_major": 2,
       "version_minor": 0
      },
      "text/plain": [
       "HBox(children=(FloatProgress(value=0.0, description='Training', layout=Layout(flex='2'), max=1125.0, style=Pro…"
      ]
     },
     "metadata": {},
     "output_type": "display_data"
    },
    {
     "name": "stdout",
     "output_type": "stream",
     "text": [
      "Epoch 406: train=0.93413, val=0.966356, took 36.883 s\n"
     ]
    },
    {
     "data": {
      "application/vnd.jupyter.widget-view+json": {
       "model_id": "",
       "version_major": 2,
       "version_minor": 0
      },
      "text/plain": [
       "HBox(children=(FloatProgress(value=0.0, description='Training', layout=Layout(flex='2'), max=1125.0, style=Pro…"
      ]
     },
     "metadata": {},
     "output_type": "display_data"
    },
    {
     "name": "stdout",
     "output_type": "stream",
     "text": [
      "Epoch 407: train=0.939591, val=0.97172, took 36.954 s\n"
     ]
    },
    {
     "data": {
      "application/vnd.jupyter.widget-view+json": {
       "model_id": "",
       "version_major": 2,
       "version_minor": 0
      },
      "text/plain": [
       "HBox(children=(FloatProgress(value=0.0, description='Training', layout=Layout(flex='2'), max=1125.0, style=Pro…"
      ]
     },
     "metadata": {},
     "output_type": "display_data"
    },
    {
     "name": "stdout",
     "output_type": "stream",
     "text": [
      "Epoch 408: train=0.940235, val=1.00014, took 37.117 s\n"
     ]
    },
    {
     "data": {
      "application/vnd.jupyter.widget-view+json": {
       "model_id": "",
       "version_major": 2,
       "version_minor": 0
      },
      "text/plain": [
       "HBox(children=(FloatProgress(value=0.0, description='Training', layout=Layout(flex='2'), max=1125.0, style=Pro…"
      ]
     },
     "metadata": {},
     "output_type": "display_data"
    },
    {
     "name": "stdout",
     "output_type": "stream",
     "text": [
      "Epoch 409: train=0.932422, val=0.988872, took 36.819 s\n"
     ]
    },
    {
     "data": {
      "application/vnd.jupyter.widget-view+json": {
       "model_id": "",
       "version_major": 2,
       "version_minor": 0
      },
      "text/plain": [
       "HBox(children=(FloatProgress(value=0.0, description='Training', layout=Layout(flex='2'), max=1125.0, style=Pro…"
      ]
     },
     "metadata": {},
     "output_type": "display_data"
    },
    {
     "name": "stdout",
     "output_type": "stream",
     "text": [
      "Epoch 410: train=0.932092, val=0.972254, took 36.892 s\n"
     ]
    },
    {
     "data": {
      "application/vnd.jupyter.widget-view+json": {
       "model_id": "",
       "version_major": 2,
       "version_minor": 0
      },
      "text/plain": [
       "HBox(children=(FloatProgress(value=0.0, description='Training', layout=Layout(flex='2'), max=1125.0, style=Pro…"
      ]
     },
     "metadata": {},
     "output_type": "display_data"
    },
    {
     "name": "stdout",
     "output_type": "stream",
     "text": [
      "Epoch 411: train=0.935861, val=0.951978, took 36.919 s\n"
     ]
    },
    {
     "data": {
      "application/vnd.jupyter.widget-view+json": {
       "model_id": "",
       "version_major": 2,
       "version_minor": 0
      },
      "text/plain": [
       "HBox(children=(FloatProgress(value=0.0, description='Training', layout=Layout(flex='2'), max=1125.0, style=Pro…"
      ]
     },
     "metadata": {},
     "output_type": "display_data"
    },
    {
     "name": "stdout",
     "output_type": "stream",
     "text": [
      "Epoch 412: train=0.94371, val=0.955607, took 36.962 s\n"
     ]
    },
    {
     "data": {
      "application/vnd.jupyter.widget-view+json": {
       "model_id": "",
       "version_major": 2,
       "version_minor": 0
      },
      "text/plain": [
       "HBox(children=(FloatProgress(value=0.0, description='Training', layout=Layout(flex='2'), max=1125.0, style=Pro…"
      ]
     },
     "metadata": {},
     "output_type": "display_data"
    },
    {
     "name": "stdout",
     "output_type": "stream",
     "text": [
      "Epoch 413: train=0.938231, val=0.955682, took 36.774 s\n"
     ]
    },
    {
     "data": {
      "application/vnd.jupyter.widget-view+json": {
       "model_id": "",
       "version_major": 2,
       "version_minor": 0
      },
      "text/plain": [
       "HBox(children=(FloatProgress(value=0.0, description='Training', layout=Layout(flex='2'), max=1125.0, style=Pro…"
      ]
     },
     "metadata": {},
     "output_type": "display_data"
    },
    {
     "name": "stdout",
     "output_type": "stream",
     "text": [
      "Epoch 414: train=0.935446, val=0.954914, took 36.948 s\n"
     ]
    },
    {
     "data": {
      "application/vnd.jupyter.widget-view+json": {
       "model_id": "",
       "version_major": 2,
       "version_minor": 0
      },
      "text/plain": [
       "HBox(children=(FloatProgress(value=0.0, description='Training', layout=Layout(flex='2'), max=1125.0, style=Pro…"
      ]
     },
     "metadata": {},
     "output_type": "display_data"
    },
    {
     "name": "stdout",
     "output_type": "stream",
     "text": [
      "Epoch 415: train=0.938226, val=0.952744, took 37.081 s\n"
     ]
    },
    {
     "data": {
      "application/vnd.jupyter.widget-view+json": {
       "model_id": "",
       "version_major": 2,
       "version_minor": 0
      },
      "text/plain": [
       "HBox(children=(FloatProgress(value=0.0, description='Training', layout=Layout(flex='2'), max=1125.0, style=Pro…"
      ]
     },
     "metadata": {},
     "output_type": "display_data"
    },
    {
     "name": "stdout",
     "output_type": "stream",
     "text": [
      "Epoch 416: train=0.937279, val=0.950381, took 37.004 s\n"
     ]
    },
    {
     "data": {
      "application/vnd.jupyter.widget-view+json": {
       "model_id": "",
       "version_major": 2,
       "version_minor": 0
      },
      "text/plain": [
       "HBox(children=(FloatProgress(value=0.0, description='Training', layout=Layout(flex='2'), max=1125.0, style=Pro…"
      ]
     },
     "metadata": {},
     "output_type": "display_data"
    },
    {
     "name": "stdout",
     "output_type": "stream",
     "text": [
      "Epoch 417: train=0.93627, val=0.976956, took 36.992 s\n"
     ]
    },
    {
     "data": {
      "application/vnd.jupyter.widget-view+json": {
       "model_id": "",
       "version_major": 2,
       "version_minor": 0
      },
      "text/plain": [
       "HBox(children=(FloatProgress(value=0.0, description='Training', layout=Layout(flex='2'), max=1125.0, style=Pro…"
      ]
     },
     "metadata": {},
     "output_type": "display_data"
    },
    {
     "name": "stdout",
     "output_type": "stream",
     "text": [
      "Epoch 418: train=0.941626, val=0.99342, took 36.834 s\n"
     ]
    },
    {
     "data": {
      "application/vnd.jupyter.widget-view+json": {
       "model_id": "",
       "version_major": 2,
       "version_minor": 0
      },
      "text/plain": [
       "HBox(children=(FloatProgress(value=0.0, description='Training', layout=Layout(flex='2'), max=1125.0, style=Pro…"
      ]
     },
     "metadata": {},
     "output_type": "display_data"
    },
    {
     "name": "stdout",
     "output_type": "stream",
     "text": [
      "Epoch 419: train=0.938333, val=0.954998, took 36.936 s\n"
     ]
    },
    {
     "data": {
      "application/vnd.jupyter.widget-view+json": {
       "model_id": "",
       "version_major": 2,
       "version_minor": 0
      },
      "text/plain": [
       "HBox(children=(FloatProgress(value=0.0, description='Training', layout=Layout(flex='2'), max=1125.0, style=Pro…"
      ]
     },
     "metadata": {},
     "output_type": "display_data"
    },
    {
     "name": "stdout",
     "output_type": "stream",
     "text": [
      "Epoch 420: train=0.935722, val=0.950627, took 36.834 s\n"
     ]
    },
    {
     "data": {
      "application/vnd.jupyter.widget-view+json": {
       "model_id": "",
       "version_major": 2,
       "version_minor": 0
      },
      "text/plain": [
       "HBox(children=(FloatProgress(value=0.0, description='Training', layout=Layout(flex='2'), max=1125.0, style=Pro…"
      ]
     },
     "metadata": {},
     "output_type": "display_data"
    },
    {
     "name": "stdout",
     "output_type": "stream",
     "text": [
      "Epoch 421: train=0.932243, val=0.951055, took 37.06 s\n"
     ]
    },
    {
     "data": {
      "application/vnd.jupyter.widget-view+json": {
       "model_id": "",
       "version_major": 2,
       "version_minor": 0
      },
      "text/plain": [
       "HBox(children=(FloatProgress(value=0.0, description='Training', layout=Layout(flex='2'), max=1125.0, style=Pro…"
      ]
     },
     "metadata": {},
     "output_type": "display_data"
    },
    {
     "name": "stdout",
     "output_type": "stream",
     "text": [
      "Epoch 422: train=0.933129, val=0.955903, took 36.964 s\n"
     ]
    },
    {
     "data": {
      "application/vnd.jupyter.widget-view+json": {
       "model_id": "",
       "version_major": 2,
       "version_minor": 0
      },
      "text/plain": [
       "HBox(children=(FloatProgress(value=0.0, description='Training', layout=Layout(flex='2'), max=1125.0, style=Pro…"
      ]
     },
     "metadata": {},
     "output_type": "display_data"
    },
    {
     "name": "stdout",
     "output_type": "stream",
     "text": [
      "Epoch 423: train=0.941151, val=0.98936, took 36.835 s\n"
     ]
    },
    {
     "data": {
      "application/vnd.jupyter.widget-view+json": {
       "model_id": "",
       "version_major": 2,
       "version_minor": 0
      },
      "text/plain": [
       "HBox(children=(FloatProgress(value=0.0, description='Training', layout=Layout(flex='2'), max=1125.0, style=Pro…"
      ]
     },
     "metadata": {},
     "output_type": "display_data"
    },
    {
     "name": "stdout",
     "output_type": "stream",
     "text": [
      "Epoch 424: train=0.935093, val=0.9681, took 36.828 s\n"
     ]
    },
    {
     "data": {
      "application/vnd.jupyter.widget-view+json": {
       "model_id": "",
       "version_major": 2,
       "version_minor": 0
      },
      "text/plain": [
       "HBox(children=(FloatProgress(value=0.0, description='Training', layout=Layout(flex='2'), max=1125.0, style=Pro…"
      ]
     },
     "metadata": {},
     "output_type": "display_data"
    },
    {
     "name": "stdout",
     "output_type": "stream",
     "text": [
      "Epoch 425: train=0.93502, val=0.955823, took 36.895 s\n"
     ]
    },
    {
     "data": {
      "application/vnd.jupyter.widget-view+json": {
       "model_id": "",
       "version_major": 2,
       "version_minor": 0
      },
      "text/plain": [
       "HBox(children=(FloatProgress(value=0.0, description='Training', layout=Layout(flex='2'), max=1125.0, style=Pro…"
      ]
     },
     "metadata": {},
     "output_type": "display_data"
    },
    {
     "name": "stdout",
     "output_type": "stream",
     "text": [
      "Epoch 426: train=0.933108, val=0.977986, took 37.055 s\n"
     ]
    },
    {
     "data": {
      "application/vnd.jupyter.widget-view+json": {
       "model_id": "",
       "version_major": 2,
       "version_minor": 0
      },
      "text/plain": [
       "HBox(children=(FloatProgress(value=0.0, description='Training', layout=Layout(flex='2'), max=1125.0, style=Pro…"
      ]
     },
     "metadata": {},
     "output_type": "display_data"
    },
    {
     "name": "stdout",
     "output_type": "stream",
     "text": [
      "Epoch 427: train=0.932712, val=0.956471, took 36.832 s\n"
     ]
    },
    {
     "data": {
      "application/vnd.jupyter.widget-view+json": {
       "model_id": "",
       "version_major": 2,
       "version_minor": 0
      },
      "text/plain": [
       "HBox(children=(FloatProgress(value=0.0, description='Training', layout=Layout(flex='2'), max=1125.0, style=Pro…"
      ]
     },
     "metadata": {},
     "output_type": "display_data"
    },
    {
     "name": "stdout",
     "output_type": "stream",
     "text": [
      "Epoch 428: train=0.942545, val=0.950958, took 36.864 s\n"
     ]
    },
    {
     "data": {
      "application/vnd.jupyter.widget-view+json": {
       "model_id": "",
       "version_major": 2,
       "version_minor": 0
      },
      "text/plain": [
       "HBox(children=(FloatProgress(value=0.0, description='Training', layout=Layout(flex='2'), max=1125.0, style=Pro…"
      ]
     },
     "metadata": {},
     "output_type": "display_data"
    },
    {
     "name": "stdout",
     "output_type": "stream",
     "text": [
      "Epoch 429: train=0.939354, val=0.952006, took 36.858 s\n"
     ]
    },
    {
     "data": {
      "application/vnd.jupyter.widget-view+json": {
       "model_id": "",
       "version_major": 2,
       "version_minor": 0
      },
      "text/plain": [
       "HBox(children=(FloatProgress(value=0.0, description='Training', layout=Layout(flex='2'), max=1125.0, style=Pro…"
      ]
     },
     "metadata": {},
     "output_type": "display_data"
    },
    {
     "name": "stdout",
     "output_type": "stream",
     "text": [
      "Epoch 430: train=0.93753, val=0.963949, took 36.812 s\n"
     ]
    },
    {
     "data": {
      "application/vnd.jupyter.widget-view+json": {
       "model_id": "",
       "version_major": 2,
       "version_minor": 0
      },
      "text/plain": [
       "HBox(children=(FloatProgress(value=0.0, description='Training', layout=Layout(flex='2'), max=1125.0, style=Pro…"
      ]
     },
     "metadata": {},
     "output_type": "display_data"
    },
    {
     "name": "stdout",
     "output_type": "stream",
     "text": [
      "Epoch 431: train=0.935723, val=0.989898, took 36.821 s\n"
     ]
    },
    {
     "data": {
      "application/vnd.jupyter.widget-view+json": {
       "model_id": "",
       "version_major": 2,
       "version_minor": 0
      },
      "text/plain": [
       "HBox(children=(FloatProgress(value=0.0, description='Training', layout=Layout(flex='2'), max=1125.0, style=Pro…"
      ]
     },
     "metadata": {},
     "output_type": "display_data"
    },
    {
     "name": "stdout",
     "output_type": "stream",
     "text": [
      "Epoch 432: train=0.933866, val=0.959836, took 36.804 s\n"
     ]
    },
    {
     "data": {
      "application/vnd.jupyter.widget-view+json": {
       "model_id": "",
       "version_major": 2,
       "version_minor": 0
      },
      "text/plain": [
       "HBox(children=(FloatProgress(value=0.0, description='Training', layout=Layout(flex='2'), max=1125.0, style=Pro…"
      ]
     },
     "metadata": {},
     "output_type": "display_data"
    },
    {
     "name": "stdout",
     "output_type": "stream",
     "text": [
      "Epoch 433: train=0.936814, val=0.955004, took 36.749 s\n"
     ]
    },
    {
     "data": {
      "application/vnd.jupyter.widget-view+json": {
       "model_id": "",
       "version_major": 2,
       "version_minor": 0
      },
      "text/plain": [
       "HBox(children=(FloatProgress(value=0.0, description='Training', layout=Layout(flex='2'), max=1125.0, style=Pro…"
      ]
     },
     "metadata": {},
     "output_type": "display_data"
    },
    {
     "name": "stdout",
     "output_type": "stream",
     "text": [
      "Epoch 434: train=0.936898, val=0.948335, took 36.894 s\n"
     ]
    },
    {
     "data": {
      "application/vnd.jupyter.widget-view+json": {
       "model_id": "",
       "version_major": 2,
       "version_minor": 0
      },
      "text/plain": [
       "HBox(children=(FloatProgress(value=0.0, description='Training', layout=Layout(flex='2'), max=1125.0, style=Pro…"
      ]
     },
     "metadata": {},
     "output_type": "display_data"
    },
    {
     "name": "stdout",
     "output_type": "stream",
     "text": [
      "Epoch 435: train=0.933426, val=0.950468, took 36.865 s\n"
     ]
    },
    {
     "data": {
      "application/vnd.jupyter.widget-view+json": {
       "model_id": "",
       "version_major": 2,
       "version_minor": 0
      },
      "text/plain": [
       "HBox(children=(FloatProgress(value=0.0, description='Training', layout=Layout(flex='2'), max=1125.0, style=Pro…"
      ]
     },
     "metadata": {},
     "output_type": "display_data"
    },
    {
     "name": "stdout",
     "output_type": "stream",
     "text": [
      "Epoch 436: train=0.935055, val=0.988576, took 36.942 s\n"
     ]
    },
    {
     "data": {
      "application/vnd.jupyter.widget-view+json": {
       "model_id": "",
       "version_major": 2,
       "version_minor": 0
      },
      "text/plain": [
       "HBox(children=(FloatProgress(value=0.0, description='Training', layout=Layout(flex='2'), max=1125.0, style=Pro…"
      ]
     },
     "metadata": {},
     "output_type": "display_data"
    },
    {
     "name": "stdout",
     "output_type": "stream",
     "text": [
      "Epoch 437: train=0.93557, val=0.964424, took 36.907 s\n"
     ]
    },
    {
     "data": {
      "application/vnd.jupyter.widget-view+json": {
       "model_id": "",
       "version_major": 2,
       "version_minor": 0
      },
      "text/plain": [
       "HBox(children=(FloatProgress(value=0.0, description='Training', layout=Layout(flex='2'), max=1125.0, style=Pro…"
      ]
     },
     "metadata": {},
     "output_type": "display_data"
    },
    {
     "name": "stdout",
     "output_type": "stream",
     "text": [
      "Epoch 438: train=0.932832, val=0.950537, took 36.979 s\n"
     ]
    },
    {
     "data": {
      "application/vnd.jupyter.widget-view+json": {
       "model_id": "",
       "version_major": 2,
       "version_minor": 0
      },
      "text/plain": [
       "HBox(children=(FloatProgress(value=0.0, description='Training', layout=Layout(flex='2'), max=1125.0, style=Pro…"
      ]
     },
     "metadata": {},
     "output_type": "display_data"
    },
    {
     "name": "stdout",
     "output_type": "stream",
     "text": [
      "Epoch 439: train=0.933602, val=0.954158, took 36.898 s\n"
     ]
    },
    {
     "data": {
      "application/vnd.jupyter.widget-view+json": {
       "model_id": "",
       "version_major": 2,
       "version_minor": 0
      },
      "text/plain": [
       "HBox(children=(FloatProgress(value=0.0, description='Training', layout=Layout(flex='2'), max=1125.0, style=Pro…"
      ]
     },
     "metadata": {},
     "output_type": "display_data"
    },
    {
     "name": "stdout",
     "output_type": "stream",
     "text": [
      "Epoch 440: train=0.932617, val=0.948477, took 36.817 s\n"
     ]
    },
    {
     "data": {
      "application/vnd.jupyter.widget-view+json": {
       "model_id": "",
       "version_major": 2,
       "version_minor": 0
      },
      "text/plain": [
       "HBox(children=(FloatProgress(value=0.0, description='Training', layout=Layout(flex='2'), max=1125.0, style=Pro…"
      ]
     },
     "metadata": {},
     "output_type": "display_data"
    },
    {
     "name": "stdout",
     "output_type": "stream",
     "text": [
      "Epoch 441: train=0.932189, val=0.963808, took 36.878 s\n"
     ]
    },
    {
     "data": {
      "application/vnd.jupyter.widget-view+json": {
       "model_id": "",
       "version_major": 2,
       "version_minor": 0
      },
      "text/plain": [
       "HBox(children=(FloatProgress(value=0.0, description='Training', layout=Layout(flex='2'), max=1125.0, style=Pro…"
      ]
     },
     "metadata": {},
     "output_type": "display_data"
    },
    {
     "name": "stdout",
     "output_type": "stream",
     "text": [
      "Epoch 442: train=0.937883, val=0.955002, took 36.907 s\n"
     ]
    },
    {
     "data": {
      "application/vnd.jupyter.widget-view+json": {
       "model_id": "",
       "version_major": 2,
       "version_minor": 0
      },
      "text/plain": [
       "HBox(children=(FloatProgress(value=0.0, description='Training', layout=Layout(flex='2'), max=1125.0, style=Pro…"
      ]
     },
     "metadata": {},
     "output_type": "display_data"
    },
    {
     "name": "stdout",
     "output_type": "stream",
     "text": [
      "Epoch 443: train=0.933314, val=0.960129, took 36.815 s\n"
     ]
    },
    {
     "data": {
      "application/vnd.jupyter.widget-view+json": {
       "model_id": "",
       "version_major": 2,
       "version_minor": 0
      },
      "text/plain": [
       "HBox(children=(FloatProgress(value=0.0, description='Training', layout=Layout(flex='2'), max=1125.0, style=Pro…"
      ]
     },
     "metadata": {},
     "output_type": "display_data"
    },
    {
     "name": "stdout",
     "output_type": "stream",
     "text": [
      "Epoch 444: train=0.930181, val=0.952181, took 36.808 s\n"
     ]
    },
    {
     "data": {
      "application/vnd.jupyter.widget-view+json": {
       "model_id": "",
       "version_major": 2,
       "version_minor": 0
      },
      "text/plain": [
       "HBox(children=(FloatProgress(value=0.0, description='Training', layout=Layout(flex='2'), max=1125.0, style=Pro…"
      ]
     },
     "metadata": {},
     "output_type": "display_data"
    },
    {
     "name": "stdout",
     "output_type": "stream",
     "text": [
      "Epoch 445: train=0.938005, val=0.952967, took 36.873 s\n"
     ]
    },
    {
     "data": {
      "application/vnd.jupyter.widget-view+json": {
       "model_id": "",
       "version_major": 2,
       "version_minor": 0
      },
      "text/plain": [
       "HBox(children=(FloatProgress(value=0.0, description='Training', layout=Layout(flex='2'), max=1125.0, style=Pro…"
      ]
     },
     "metadata": {},
     "output_type": "display_data"
    },
    {
     "name": "stdout",
     "output_type": "stream",
     "text": [
      "Epoch 446: train=0.93395, val=0.974889, took 36.934 s\n"
     ]
    },
    {
     "data": {
      "application/vnd.jupyter.widget-view+json": {
       "model_id": "",
       "version_major": 2,
       "version_minor": 0
      },
      "text/plain": [
       "HBox(children=(FloatProgress(value=0.0, description='Training', layout=Layout(flex='2'), max=1125.0, style=Pro…"
      ]
     },
     "metadata": {},
     "output_type": "display_data"
    },
    {
     "name": "stdout",
     "output_type": "stream",
     "text": [
      "Epoch 447: train=0.934157, val=0.966485, took 36.954 s\n"
     ]
    },
    {
     "data": {
      "application/vnd.jupyter.widget-view+json": {
       "model_id": "",
       "version_major": 2,
       "version_minor": 0
      },
      "text/plain": [
       "HBox(children=(FloatProgress(value=0.0, description='Training', layout=Layout(flex='2'), max=1125.0, style=Pro…"
      ]
     },
     "metadata": {},
     "output_type": "display_data"
    },
    {
     "name": "stdout",
     "output_type": "stream",
     "text": [
      "Epoch 448: train=0.94267, val=0.958361, took 36.877 s\n"
     ]
    },
    {
     "data": {
      "application/vnd.jupyter.widget-view+json": {
       "model_id": "",
       "version_major": 2,
       "version_minor": 0
      },
      "text/plain": [
       "HBox(children=(FloatProgress(value=0.0, description='Training', layout=Layout(flex='2'), max=1125.0, style=Pro…"
      ]
     },
     "metadata": {},
     "output_type": "display_data"
    },
    {
     "name": "stdout",
     "output_type": "stream",
     "text": [
      "Epoch 449: train=0.935764, val=0.952567, took 36.889 s\n"
     ]
    },
    {
     "data": {
      "application/vnd.jupyter.widget-view+json": {
       "model_id": "",
       "version_major": 2,
       "version_minor": 0
      },
      "text/plain": [
       "HBox(children=(FloatProgress(value=0.0, description='Training', layout=Layout(flex='2'), max=1125.0, style=Pro…"
      ]
     },
     "metadata": {},
     "output_type": "display_data"
    },
    {
     "name": "stdout",
     "output_type": "stream",
     "text": [
      "Epoch 450: train=0.93167, val=0.953459, took 36.932 s\n"
     ]
    },
    {
     "data": {
      "application/vnd.jupyter.widget-view+json": {
       "model_id": "",
       "version_major": 2,
       "version_minor": 0
      },
      "text/plain": [
       "HBox(children=(FloatProgress(value=0.0, description='Training', layout=Layout(flex='2'), max=1125.0, style=Pro…"
      ]
     },
     "metadata": {},
     "output_type": "display_data"
    },
    {
     "name": "stdout",
     "output_type": "stream",
     "text": [
      "Epoch 451: train=0.934195, val=0.955018, took 36.871 s\n"
     ]
    },
    {
     "data": {
      "application/vnd.jupyter.widget-view+json": {
       "model_id": "",
       "version_major": 2,
       "version_minor": 0
      },
      "text/plain": [
       "HBox(children=(FloatProgress(value=0.0, description='Training', layout=Layout(flex='2'), max=1125.0, style=Pro…"
      ]
     },
     "metadata": {},
     "output_type": "display_data"
    },
    {
     "name": "stdout",
     "output_type": "stream",
     "text": [
      "Epoch 452: train=0.93604, val=0.963432, took 36.882 s\n"
     ]
    },
    {
     "data": {
      "application/vnd.jupyter.widget-view+json": {
       "model_id": "",
       "version_major": 2,
       "version_minor": 0
      },
      "text/plain": [
       "HBox(children=(FloatProgress(value=0.0, description='Training', layout=Layout(flex='2'), max=1125.0, style=Pro…"
      ]
     },
     "metadata": {},
     "output_type": "display_data"
    },
    {
     "name": "stdout",
     "output_type": "stream",
     "text": [
      "Epoch 453: train=0.936696, val=0.953332, took 36.889 s\n"
     ]
    },
    {
     "data": {
      "application/vnd.jupyter.widget-view+json": {
       "model_id": "",
       "version_major": 2,
       "version_minor": 0
      },
      "text/plain": [
       "HBox(children=(FloatProgress(value=0.0, description='Training', layout=Layout(flex='2'), max=1125.0, style=Pro…"
      ]
     },
     "metadata": {},
     "output_type": "display_data"
    },
    {
     "name": "stdout",
     "output_type": "stream",
     "text": [
      "Epoch 454: train=0.93152, val=0.954652, took 36.931 s\n"
     ]
    },
    {
     "data": {
      "application/vnd.jupyter.widget-view+json": {
       "model_id": "",
       "version_major": 2,
       "version_minor": 0
      },
      "text/plain": [
       "HBox(children=(FloatProgress(value=0.0, description='Training', layout=Layout(flex='2'), max=1125.0, style=Pro…"
      ]
     },
     "metadata": {},
     "output_type": "display_data"
    },
    {
     "name": "stdout",
     "output_type": "stream",
     "text": [
      "Epoch 455: train=0.937832, val=0.993133, took 36.804 s\n"
     ]
    },
    {
     "data": {
      "application/vnd.jupyter.widget-view+json": {
       "model_id": "",
       "version_major": 2,
       "version_minor": 0
      },
      "text/plain": [
       "HBox(children=(FloatProgress(value=0.0, description='Training', layout=Layout(flex='2'), max=1125.0, style=Pro…"
      ]
     },
     "metadata": {},
     "output_type": "display_data"
    },
    {
     "name": "stdout",
     "output_type": "stream",
     "text": [
      "Epoch 456: train=0.934909, val=0.962281, took 36.802 s\n"
     ]
    },
    {
     "data": {
      "application/vnd.jupyter.widget-view+json": {
       "model_id": "",
       "version_major": 2,
       "version_minor": 0
      },
      "text/plain": [
       "HBox(children=(FloatProgress(value=0.0, description='Training', layout=Layout(flex='2'), max=1125.0, style=Pro…"
      ]
     },
     "metadata": {},
     "output_type": "display_data"
    },
    {
     "name": "stdout",
     "output_type": "stream",
     "text": [
      "Epoch 457: train=0.935561, val=0.972097, took 36.823 s\n"
     ]
    },
    {
     "data": {
      "application/vnd.jupyter.widget-view+json": {
       "model_id": "",
       "version_major": 2,
       "version_minor": 0
      },
      "text/plain": [
       "HBox(children=(FloatProgress(value=0.0, description='Training', layout=Layout(flex='2'), max=1125.0, style=Pro…"
      ]
     },
     "metadata": {},
     "output_type": "display_data"
    },
    {
     "name": "stdout",
     "output_type": "stream",
     "text": [
      "Epoch 458: train=0.933566, val=1.03654, took 36.87 s\n"
     ]
    },
    {
     "data": {
      "application/vnd.jupyter.widget-view+json": {
       "model_id": "",
       "version_major": 2,
       "version_minor": 0
      },
      "text/plain": [
       "HBox(children=(FloatProgress(value=0.0, description='Training', layout=Layout(flex='2'), max=1125.0, style=Pro…"
      ]
     },
     "metadata": {},
     "output_type": "display_data"
    },
    {
     "name": "stdout",
     "output_type": "stream",
     "text": [
      "Epoch 459: train=0.934801, val=0.952154, took 36.902 s\n"
     ]
    },
    {
     "data": {
      "application/vnd.jupyter.widget-view+json": {
       "model_id": "",
       "version_major": 2,
       "version_minor": 0
      },
      "text/plain": [
       "HBox(children=(FloatProgress(value=0.0, description='Training', layout=Layout(flex='2'), max=1125.0, style=Pro…"
      ]
     },
     "metadata": {},
     "output_type": "display_data"
    },
    {
     "name": "stdout",
     "output_type": "stream",
     "text": [
      "Epoch 460: train=0.935656, val=1.02519, took 36.925 s\n"
     ]
    },
    {
     "data": {
      "application/vnd.jupyter.widget-view+json": {
       "model_id": "",
       "version_major": 2,
       "version_minor": 0
      },
      "text/plain": [
       "HBox(children=(FloatProgress(value=0.0, description='Training', layout=Layout(flex='2'), max=1125.0, style=Pro…"
      ]
     },
     "metadata": {},
     "output_type": "display_data"
    },
    {
     "name": "stdout",
     "output_type": "stream",
     "text": [
      "Epoch 461: train=0.933983, val=0.95974, took 36.843 s\n"
     ]
    },
    {
     "data": {
      "application/vnd.jupyter.widget-view+json": {
       "model_id": "",
       "version_major": 2,
       "version_minor": 0
      },
      "text/plain": [
       "HBox(children=(FloatProgress(value=0.0, description='Training', layout=Layout(flex='2'), max=1125.0, style=Pro…"
      ]
     },
     "metadata": {},
     "output_type": "display_data"
    },
    {
     "name": "stdout",
     "output_type": "stream",
     "text": [
      "Epoch 462: train=0.940285, val=0.955094, took 36.835 s\n"
     ]
    },
    {
     "data": {
      "application/vnd.jupyter.widget-view+json": {
       "model_id": "",
       "version_major": 2,
       "version_minor": 0
      },
      "text/plain": [
       "HBox(children=(FloatProgress(value=0.0, description='Training', layout=Layout(flex='2'), max=1125.0, style=Pro…"
      ]
     },
     "metadata": {},
     "output_type": "display_data"
    },
    {
     "name": "stdout",
     "output_type": "stream",
     "text": [
      "Epoch 463: train=0.933641, val=0.952193, took 36.881 s\n"
     ]
    },
    {
     "data": {
      "application/vnd.jupyter.widget-view+json": {
       "model_id": "",
       "version_major": 2,
       "version_minor": 0
      },
      "text/plain": [
       "HBox(children=(FloatProgress(value=0.0, description='Training', layout=Layout(flex='2'), max=1125.0, style=Pro…"
      ]
     },
     "metadata": {},
     "output_type": "display_data"
    },
    {
     "name": "stdout",
     "output_type": "stream",
     "text": [
      "Epoch 464: train=0.939842, val=0.949407, took 37.018 s\n"
     ]
    },
    {
     "data": {
      "application/vnd.jupyter.widget-view+json": {
       "model_id": "",
       "version_major": 2,
       "version_minor": 0
      },
      "text/plain": [
       "HBox(children=(FloatProgress(value=0.0, description='Training', layout=Layout(flex='2'), max=1125.0, style=Pro…"
      ]
     },
     "metadata": {},
     "output_type": "display_data"
    },
    {
     "name": "stdout",
     "output_type": "stream",
     "text": [
      "Epoch 465: train=0.933522, val=0.947824, took 36.99 s\n"
     ]
    },
    {
     "data": {
      "application/vnd.jupyter.widget-view+json": {
       "model_id": "",
       "version_major": 2,
       "version_minor": 0
      },
      "text/plain": [
       "HBox(children=(FloatProgress(value=0.0, description='Training', layout=Layout(flex='2'), max=1125.0, style=Pro…"
      ]
     },
     "metadata": {},
     "output_type": "display_data"
    },
    {
     "name": "stdout",
     "output_type": "stream",
     "text": [
      "Epoch 466: train=0.938701, val=0.959263, took 36.838 s\n"
     ]
    },
    {
     "data": {
      "application/vnd.jupyter.widget-view+json": {
       "model_id": "",
       "version_major": 2,
       "version_minor": 0
      },
      "text/plain": [
       "HBox(children=(FloatProgress(value=0.0, description='Training', layout=Layout(flex='2'), max=1125.0, style=Pro…"
      ]
     },
     "metadata": {},
     "output_type": "display_data"
    },
    {
     "name": "stdout",
     "output_type": "stream",
     "text": [
      "Epoch 467: train=0.928986, val=0.96817, took 36.867 s\n"
     ]
    },
    {
     "data": {
      "application/vnd.jupyter.widget-view+json": {
       "model_id": "",
       "version_major": 2,
       "version_minor": 0
      },
      "text/plain": [
       "HBox(children=(FloatProgress(value=0.0, description='Training', layout=Layout(flex='2'), max=1125.0, style=Pro…"
      ]
     },
     "metadata": {},
     "output_type": "display_data"
    },
    {
     "name": "stdout",
     "output_type": "stream",
     "text": [
      "Epoch 468: train=0.93839, val=0.958494, took 36.998 s\n"
     ]
    },
    {
     "data": {
      "application/vnd.jupyter.widget-view+json": {
       "model_id": "",
       "version_major": 2,
       "version_minor": 0
      },
      "text/plain": [
       "HBox(children=(FloatProgress(value=0.0, description='Training', layout=Layout(flex='2'), max=1125.0, style=Pro…"
      ]
     },
     "metadata": {},
     "output_type": "display_data"
    },
    {
     "name": "stdout",
     "output_type": "stream",
     "text": [
      "Epoch 469: train=0.931828, val=0.978802, took 36.968 s\n"
     ]
    },
    {
     "data": {
      "application/vnd.jupyter.widget-view+json": {
       "model_id": "",
       "version_major": 2,
       "version_minor": 0
      },
      "text/plain": [
       "HBox(children=(FloatProgress(value=0.0, description='Training', layout=Layout(flex='2'), max=1125.0, style=Pro…"
      ]
     },
     "metadata": {},
     "output_type": "display_data"
    },
    {
     "name": "stdout",
     "output_type": "stream",
     "text": [
      "Epoch 470: train=0.935744, val=0.957996, took 36.828 s\n"
     ]
    },
    {
     "data": {
      "application/vnd.jupyter.widget-view+json": {
       "model_id": "",
       "version_major": 2,
       "version_minor": 0
      },
      "text/plain": [
       "HBox(children=(FloatProgress(value=0.0, description='Training', layout=Layout(flex='2'), max=1125.0, style=Pro…"
      ]
     },
     "metadata": {},
     "output_type": "display_data"
    },
    {
     "name": "stdout",
     "output_type": "stream",
     "text": [
      "Epoch 471: train=0.936179, val=0.95156, took 36.92 s\n"
     ]
    },
    {
     "data": {
      "application/vnd.jupyter.widget-view+json": {
       "model_id": "",
       "version_major": 2,
       "version_minor": 0
      },
      "text/plain": [
       "HBox(children=(FloatProgress(value=0.0, description='Training', layout=Layout(flex='2'), max=1125.0, style=Pro…"
      ]
     },
     "metadata": {},
     "output_type": "display_data"
    },
    {
     "name": "stdout",
     "output_type": "stream",
     "text": [
      "Epoch 472: train=0.933023, val=0.954238, took 36.866 s\n"
     ]
    },
    {
     "data": {
      "application/vnd.jupyter.widget-view+json": {
       "model_id": "",
       "version_major": 2,
       "version_minor": 0
      },
      "text/plain": [
       "HBox(children=(FloatProgress(value=0.0, description='Training', layout=Layout(flex='2'), max=1125.0, style=Pro…"
      ]
     },
     "metadata": {},
     "output_type": "display_data"
    },
    {
     "name": "stdout",
     "output_type": "stream",
     "text": [
      "Epoch 473: train=0.939628, val=0.951643, took 36.901 s\n"
     ]
    },
    {
     "data": {
      "application/vnd.jupyter.widget-view+json": {
       "model_id": "",
       "version_major": 2,
       "version_minor": 0
      },
      "text/plain": [
       "HBox(children=(FloatProgress(value=0.0, description='Training', layout=Layout(flex='2'), max=1125.0, style=Pro…"
      ]
     },
     "metadata": {},
     "output_type": "display_data"
    },
    {
     "name": "stdout",
     "output_type": "stream",
     "text": [
      "Epoch 474: train=0.933526, val=0.964783, took 36.845 s\n"
     ]
    },
    {
     "data": {
      "application/vnd.jupyter.widget-view+json": {
       "model_id": "",
       "version_major": 2,
       "version_minor": 0
      },
      "text/plain": [
       "HBox(children=(FloatProgress(value=0.0, description='Training', layout=Layout(flex='2'), max=1125.0, style=Pro…"
      ]
     },
     "metadata": {},
     "output_type": "display_data"
    },
    {
     "name": "stdout",
     "output_type": "stream",
     "text": [
      "Epoch 475: train=0.932286, val=0.957832, took 36.819 s\n"
     ]
    },
    {
     "data": {
      "application/vnd.jupyter.widget-view+json": {
       "model_id": "",
       "version_major": 2,
       "version_minor": 0
      },
      "text/plain": [
       "HBox(children=(FloatProgress(value=0.0, description='Training', layout=Layout(flex='2'), max=1125.0, style=Pro…"
      ]
     },
     "metadata": {},
     "output_type": "display_data"
    },
    {
     "name": "stdout",
     "output_type": "stream",
     "text": [
      "Epoch 476: train=0.937191, val=0.954725, took 36.883 s\n"
     ]
    },
    {
     "data": {
      "application/vnd.jupyter.widget-view+json": {
       "model_id": "",
       "version_major": 2,
       "version_minor": 0
      },
      "text/plain": [
       "HBox(children=(FloatProgress(value=0.0, description='Training', layout=Layout(flex='2'), max=1125.0, style=Pro…"
      ]
     },
     "metadata": {},
     "output_type": "display_data"
    },
    {
     "name": "stdout",
     "output_type": "stream",
     "text": [
      "Epoch 477: train=0.936953, val=0.957477, took 36.815 s\n"
     ]
    },
    {
     "data": {
      "application/vnd.jupyter.widget-view+json": {
       "model_id": "",
       "version_major": 2,
       "version_minor": 0
      },
      "text/plain": [
       "HBox(children=(FloatProgress(value=0.0, description='Training', layout=Layout(flex='2'), max=1125.0, style=Pro…"
      ]
     },
     "metadata": {},
     "output_type": "display_data"
    },
    {
     "name": "stdout",
     "output_type": "stream",
     "text": [
      "Epoch 478: train=0.935849, val=0.966101, took 36.805 s\n"
     ]
    },
    {
     "data": {
      "application/vnd.jupyter.widget-view+json": {
       "model_id": "",
       "version_major": 2,
       "version_minor": 0
      },
      "text/plain": [
       "HBox(children=(FloatProgress(value=0.0, description='Training', layout=Layout(flex='2'), max=1125.0, style=Pro…"
      ]
     },
     "metadata": {},
     "output_type": "display_data"
    },
    {
     "name": "stdout",
     "output_type": "stream",
     "text": [
      "Epoch 479: train=0.935608, val=0.958148, took 36.894 s\n"
     ]
    },
    {
     "data": {
      "application/vnd.jupyter.widget-view+json": {
       "model_id": "",
       "version_major": 2,
       "version_minor": 0
      },
      "text/plain": [
       "HBox(children=(FloatProgress(value=0.0, description='Training', layout=Layout(flex='2'), max=1125.0, style=Pro…"
      ]
     },
     "metadata": {},
     "output_type": "display_data"
    },
    {
     "name": "stdout",
     "output_type": "stream",
     "text": [
      "Epoch 480: train=0.935027, val=0.950066, took 36.855 s\n"
     ]
    },
    {
     "data": {
      "application/vnd.jupyter.widget-view+json": {
       "model_id": "",
       "version_major": 2,
       "version_minor": 0
      },
      "text/plain": [
       "HBox(children=(FloatProgress(value=0.0, description='Training', layout=Layout(flex='2'), max=1125.0, style=Pro…"
      ]
     },
     "metadata": {},
     "output_type": "display_data"
    },
    {
     "name": "stdout",
     "output_type": "stream",
     "text": [
      "Epoch 481: train=0.938298, val=0.959838, took 36.777 s\n"
     ]
    },
    {
     "data": {
      "application/vnd.jupyter.widget-view+json": {
       "model_id": "",
       "version_major": 2,
       "version_minor": 0
      },
      "text/plain": [
       "HBox(children=(FloatProgress(value=0.0, description='Training', layout=Layout(flex='2'), max=1125.0, style=Pro…"
      ]
     },
     "metadata": {},
     "output_type": "display_data"
    },
    {
     "name": "stdout",
     "output_type": "stream",
     "text": [
      "Epoch 482: train=0.936047, val=0.980274, took 36.851 s\n"
     ]
    },
    {
     "data": {
      "application/vnd.jupyter.widget-view+json": {
       "model_id": "",
       "version_major": 2,
       "version_minor": 0
      },
      "text/plain": [
       "HBox(children=(FloatProgress(value=0.0, description='Training', layout=Layout(flex='2'), max=1125.0, style=Pro…"
      ]
     },
     "metadata": {},
     "output_type": "display_data"
    },
    {
     "name": "stdout",
     "output_type": "stream",
     "text": [
      "Epoch 483: train=0.937161, val=0.952252, took 36.827 s\n"
     ]
    },
    {
     "data": {
      "application/vnd.jupyter.widget-view+json": {
       "model_id": "",
       "version_major": 2,
       "version_minor": 0
      },
      "text/plain": [
       "HBox(children=(FloatProgress(value=0.0, description='Training', layout=Layout(flex='2'), max=1125.0, style=Pro…"
      ]
     },
     "metadata": {},
     "output_type": "display_data"
    },
    {
     "name": "stdout",
     "output_type": "stream",
     "text": [
      "Epoch 484: train=0.932259, val=0.955585, took 36.933 s\n"
     ]
    },
    {
     "data": {
      "application/vnd.jupyter.widget-view+json": {
       "model_id": "",
       "version_major": 2,
       "version_minor": 0
      },
      "text/plain": [
       "HBox(children=(FloatProgress(value=0.0, description='Training', layout=Layout(flex='2'), max=1125.0, style=Pro…"
      ]
     },
     "metadata": {},
     "output_type": "display_data"
    },
    {
     "name": "stdout",
     "output_type": "stream",
     "text": [
      "Epoch 485: train=0.935334, val=0.949037, took 37.054 s\n"
     ]
    },
    {
     "data": {
      "application/vnd.jupyter.widget-view+json": {
       "model_id": "",
       "version_major": 2,
       "version_minor": 0
      },
      "text/plain": [
       "HBox(children=(FloatProgress(value=0.0, description='Training', layout=Layout(flex='2'), max=1125.0, style=Pro…"
      ]
     },
     "metadata": {},
     "output_type": "display_data"
    },
    {
     "name": "stdout",
     "output_type": "stream",
     "text": [
      "Epoch 486: train=0.932235, val=0.94812, took 36.933 s\n"
     ]
    },
    {
     "data": {
      "application/vnd.jupyter.widget-view+json": {
       "model_id": "",
       "version_major": 2,
       "version_minor": 0
      },
      "text/plain": [
       "HBox(children=(FloatProgress(value=0.0, description='Training', layout=Layout(flex='2'), max=1125.0, style=Pro…"
      ]
     },
     "metadata": {},
     "output_type": "display_data"
    },
    {
     "name": "stdout",
     "output_type": "stream",
     "text": [
      "Epoch 487: train=0.937411, val=0.951654, took 37.09 s\n"
     ]
    },
    {
     "data": {
      "application/vnd.jupyter.widget-view+json": {
       "model_id": "",
       "version_major": 2,
       "version_minor": 0
      },
      "text/plain": [
       "HBox(children=(FloatProgress(value=0.0, description='Training', layout=Layout(flex='2'), max=1125.0, style=Pro…"
      ]
     },
     "metadata": {},
     "output_type": "display_data"
    },
    {
     "name": "stdout",
     "output_type": "stream",
     "text": [
      "Epoch 488: train=0.933641, val=0.949306, took 36.908 s\n"
     ]
    },
    {
     "data": {
      "application/vnd.jupyter.widget-view+json": {
       "model_id": "",
       "version_major": 2,
       "version_minor": 0
      },
      "text/plain": [
       "HBox(children=(FloatProgress(value=0.0, description='Training', layout=Layout(flex='2'), max=1125.0, style=Pro…"
      ]
     },
     "metadata": {},
     "output_type": "display_data"
    },
    {
     "name": "stdout",
     "output_type": "stream",
     "text": [
      "Epoch 489: train=0.939333, val=0.965883, took 36.927 s\n"
     ]
    },
    {
     "data": {
      "application/vnd.jupyter.widget-view+json": {
       "model_id": "",
       "version_major": 2,
       "version_minor": 0
      },
      "text/plain": [
       "HBox(children=(FloatProgress(value=0.0, description='Training', layout=Layout(flex='2'), max=1125.0, style=Pro…"
      ]
     },
     "metadata": {},
     "output_type": "display_data"
    },
    {
     "name": "stdout",
     "output_type": "stream",
     "text": [
      "Epoch 490: train=0.930238, val=0.95073, took 36.931 s\n"
     ]
    },
    {
     "data": {
      "application/vnd.jupyter.widget-view+json": {
       "model_id": "",
       "version_major": 2,
       "version_minor": 0
      },
      "text/plain": [
       "HBox(children=(FloatProgress(value=0.0, description='Training', layout=Layout(flex='2'), max=1125.0, style=Pro…"
      ]
     },
     "metadata": {},
     "output_type": "display_data"
    },
    {
     "name": "stdout",
     "output_type": "stream",
     "text": [
      "Epoch 491: train=0.932448, val=0.954254, took 36.801 s\n"
     ]
    },
    {
     "data": {
      "application/vnd.jupyter.widget-view+json": {
       "model_id": "",
       "version_major": 2,
       "version_minor": 0
      },
      "text/plain": [
       "HBox(children=(FloatProgress(value=0.0, description='Training', layout=Layout(flex='2'), max=1125.0, style=Pro…"
      ]
     },
     "metadata": {},
     "output_type": "display_data"
    },
    {
     "name": "stdout",
     "output_type": "stream",
     "text": [
      "Epoch 492: train=0.933763, val=0.971385, took 36.791 s\n"
     ]
    },
    {
     "data": {
      "application/vnd.jupyter.widget-view+json": {
       "model_id": "",
       "version_major": 2,
       "version_minor": 0
      },
      "text/plain": [
       "HBox(children=(FloatProgress(value=0.0, description='Training', layout=Layout(flex='2'), max=1125.0, style=Pro…"
      ]
     },
     "metadata": {},
     "output_type": "display_data"
    },
    {
     "name": "stdout",
     "output_type": "stream",
     "text": [
      "Epoch 493: train=0.932669, val=0.952619, took 36.799 s\n"
     ]
    },
    {
     "data": {
      "application/vnd.jupyter.widget-view+json": {
       "model_id": "",
       "version_major": 2,
       "version_minor": 0
      },
      "text/plain": [
       "HBox(children=(FloatProgress(value=0.0, description='Training', layout=Layout(flex='2'), max=1125.0, style=Pro…"
      ]
     },
     "metadata": {},
     "output_type": "display_data"
    },
    {
     "name": "stdout",
     "output_type": "stream",
     "text": [
      "Epoch 494: train=0.93554, val=0.97074, took 36.86 s\n"
     ]
    },
    {
     "data": {
      "application/vnd.jupyter.widget-view+json": {
       "model_id": "",
       "version_major": 2,
       "version_minor": 0
      },
      "text/plain": [
       "HBox(children=(FloatProgress(value=0.0, description='Training', layout=Layout(flex='2'), max=1125.0, style=Pro…"
      ]
     },
     "metadata": {},
     "output_type": "display_data"
    },
    {
     "name": "stdout",
     "output_type": "stream",
     "text": [
      "Epoch 495: train=0.931018, val=0.954336, took 36.971 s\n"
     ]
    },
    {
     "data": {
      "application/vnd.jupyter.widget-view+json": {
       "model_id": "",
       "version_major": 2,
       "version_minor": 0
      },
      "text/plain": [
       "HBox(children=(FloatProgress(value=0.0, description='Training', layout=Layout(flex='2'), max=1125.0, style=Pro…"
      ]
     },
     "metadata": {},
     "output_type": "display_data"
    },
    {
     "name": "stdout",
     "output_type": "stream",
     "text": [
      "Epoch 496: train=0.934, val=0.951082, took 36.894 s\n"
     ]
    },
    {
     "data": {
      "application/vnd.jupyter.widget-view+json": {
       "model_id": "",
       "version_major": 2,
       "version_minor": 0
      },
      "text/plain": [
       "HBox(children=(FloatProgress(value=0.0, description='Training', layout=Layout(flex='2'), max=1125.0, style=Pro…"
      ]
     },
     "metadata": {},
     "output_type": "display_data"
    },
    {
     "name": "stdout",
     "output_type": "stream",
     "text": [
      "Epoch 497: train=0.932492, val=0.95675, took 36.836 s\n"
     ]
    },
    {
     "data": {
      "application/vnd.jupyter.widget-view+json": {
       "model_id": "",
       "version_major": 2,
       "version_minor": 0
      },
      "text/plain": [
       "HBox(children=(FloatProgress(value=0.0, description='Training', layout=Layout(flex='2'), max=1125.0, style=Pro…"
      ]
     },
     "metadata": {},
     "output_type": "display_data"
    },
    {
     "name": "stdout",
     "output_type": "stream",
     "text": [
      "Epoch 498: train=0.93978, val=1.00493, took 37.05 s\n"
     ]
    },
    {
     "data": {
      "application/vnd.jupyter.widget-view+json": {
       "model_id": "",
       "version_major": 2,
       "version_minor": 0
      },
      "text/plain": [
       "HBox(children=(FloatProgress(value=0.0, description='Training', layout=Layout(flex='2'), max=1125.0, style=Pro…"
      ]
     },
     "metadata": {},
     "output_type": "display_data"
    },
    {
     "name": "stdout",
     "output_type": "stream",
     "text": [
      "Epoch 499: train=0.93311, val=0.960173, took 36.853 s\n"
     ]
    },
    {
     "data": {
      "application/vnd.jupyter.widget-view+json": {
       "model_id": "",
       "version_major": 2,
       "version_minor": 0
      },
      "text/plain": [
       "HBox(children=(FloatProgress(value=0.0, description='Training', layout=Layout(flex='2'), max=1125.0, style=Pro…"
      ]
     },
     "metadata": {},
     "output_type": "display_data"
    },
    {
     "name": "stdout",
     "output_type": "stream",
     "text": [
      "Epoch 500: train=0.935402, val=0.974303, took 36.928 s\n"
     ]
    },
    {
     "data": {
      "application/vnd.jupyter.widget-view+json": {
       "model_id": "",
       "version_major": 2,
       "version_minor": 0
      },
      "text/plain": [
       "HBox(children=(FloatProgress(value=0.0, description='Training', layout=Layout(flex='2'), max=1125.0, style=Pro…"
      ]
     },
     "metadata": {},
     "output_type": "display_data"
    },
    {
     "name": "stdout",
     "output_type": "stream",
     "text": [
      "Epoch 501: train=0.930586, val=0.967202, took 36.903 s\n"
     ]
    },
    {
     "data": {
      "application/vnd.jupyter.widget-view+json": {
       "model_id": "",
       "version_major": 2,
       "version_minor": 0
      },
      "text/plain": [
       "HBox(children=(FloatProgress(value=0.0, description='Training', layout=Layout(flex='2'), max=1125.0, style=Pro…"
      ]
     },
     "metadata": {},
     "output_type": "display_data"
    },
    {
     "name": "stdout",
     "output_type": "stream",
     "text": [
      "Epoch 502: train=0.938871, val=0.983659, took 36.857 s\n"
     ]
    },
    {
     "data": {
      "application/vnd.jupyter.widget-view+json": {
       "model_id": "",
       "version_major": 2,
       "version_minor": 0
      },
      "text/plain": [
       "HBox(children=(FloatProgress(value=0.0, description='Training', layout=Layout(flex='2'), max=1125.0, style=Pro…"
      ]
     },
     "metadata": {},
     "output_type": "display_data"
    },
    {
     "name": "stdout",
     "output_type": "stream",
     "text": [
      "Epoch 503: train=0.932752, val=0.976439, took 36.887 s\n"
     ]
    },
    {
     "data": {
      "application/vnd.jupyter.widget-view+json": {
       "model_id": "",
       "version_major": 2,
       "version_minor": 0
      },
      "text/plain": [
       "HBox(children=(FloatProgress(value=0.0, description='Training', layout=Layout(flex='2'), max=1125.0, style=Pro…"
      ]
     },
     "metadata": {},
     "output_type": "display_data"
    },
    {
     "name": "stdout",
     "output_type": "stream",
     "text": [
      "Epoch 504: train=0.93366, val=0.949687, took 36.912 s\n"
     ]
    },
    {
     "data": {
      "application/vnd.jupyter.widget-view+json": {
       "model_id": "",
       "version_major": 2,
       "version_minor": 0
      },
      "text/plain": [
       "HBox(children=(FloatProgress(value=0.0, description='Training', layout=Layout(flex='2'), max=1125.0, style=Pro…"
      ]
     },
     "metadata": {},
     "output_type": "display_data"
    },
    {
     "name": "stdout",
     "output_type": "stream",
     "text": [
      "Epoch 505: train=0.938248, val=0.959639, took 36.893 s\n"
     ]
    },
    {
     "data": {
      "application/vnd.jupyter.widget-view+json": {
       "model_id": "",
       "version_major": 2,
       "version_minor": 0
      },
      "text/plain": [
       "HBox(children=(FloatProgress(value=0.0, description='Training', layout=Layout(flex='2'), max=1125.0, style=Pro…"
      ]
     },
     "metadata": {},
     "output_type": "display_data"
    },
    {
     "name": "stdout",
     "output_type": "stream",
     "text": [
      "Epoch 506: train=0.936785, val=0.953005, took 36.97 s\n"
     ]
    },
    {
     "data": {
      "application/vnd.jupyter.widget-view+json": {
       "model_id": "",
       "version_major": 2,
       "version_minor": 0
      },
      "text/plain": [
       "HBox(children=(FloatProgress(value=0.0, description='Training', layout=Layout(flex='2'), max=1125.0, style=Pro…"
      ]
     },
     "metadata": {},
     "output_type": "display_data"
    },
    {
     "name": "stdout",
     "output_type": "stream",
     "text": [
      "Epoch 507: train=0.927804, val=0.956753, took 36.865 s\n"
     ]
    },
    {
     "data": {
      "application/vnd.jupyter.widget-view+json": {
       "model_id": "",
       "version_major": 2,
       "version_minor": 0
      },
      "text/plain": [
       "HBox(children=(FloatProgress(value=0.0, description='Training', layout=Layout(flex='2'), max=1125.0, style=Pro…"
      ]
     },
     "metadata": {},
     "output_type": "display_data"
    },
    {
     "name": "stdout",
     "output_type": "stream",
     "text": [
      "Epoch 508: train=0.933421, val=0.953016, took 36.825 s\n"
     ]
    },
    {
     "data": {
      "application/vnd.jupyter.widget-view+json": {
       "model_id": "",
       "version_major": 2,
       "version_minor": 0
      },
      "text/plain": [
       "HBox(children=(FloatProgress(value=0.0, description='Training', layout=Layout(flex='2'), max=1125.0, style=Pro…"
      ]
     },
     "metadata": {},
     "output_type": "display_data"
    },
    {
     "name": "stdout",
     "output_type": "stream",
     "text": [
      "Epoch 509: train=0.934009, val=0.951085, took 36.849 s\n"
     ]
    },
    {
     "data": {
      "application/vnd.jupyter.widget-view+json": {
       "model_id": "",
       "version_major": 2,
       "version_minor": 0
      },
      "text/plain": [
       "HBox(children=(FloatProgress(value=0.0, description='Training', layout=Layout(flex='2'), max=1125.0, style=Pro…"
      ]
     },
     "metadata": {},
     "output_type": "display_data"
    },
    {
     "name": "stdout",
     "output_type": "stream",
     "text": [
      "Epoch 510: train=0.932473, val=0.953718, took 36.804 s\n"
     ]
    },
    {
     "data": {
      "application/vnd.jupyter.widget-view+json": {
       "model_id": "",
       "version_major": 2,
       "version_minor": 0
      },
      "text/plain": [
       "HBox(children=(FloatProgress(value=0.0, description='Training', layout=Layout(flex='2'), max=1125.0, style=Pro…"
      ]
     },
     "metadata": {},
     "output_type": "display_data"
    },
    {
     "name": "stdout",
     "output_type": "stream",
     "text": [
      "Epoch 511: train=0.933356, val=0.956538, took 36.876 s\n"
     ]
    },
    {
     "data": {
      "application/vnd.jupyter.widget-view+json": {
       "model_id": "",
       "version_major": 2,
       "version_minor": 0
      },
      "text/plain": [
       "HBox(children=(FloatProgress(value=0.0, description='Training', layout=Layout(flex='2'), max=1125.0, style=Pro…"
      ]
     },
     "metadata": {},
     "output_type": "display_data"
    },
    {
     "name": "stdout",
     "output_type": "stream",
     "text": [
      "Epoch 512: train=0.930365, val=0.959554, took 36.956 s\n"
     ]
    },
    {
     "data": {
      "application/vnd.jupyter.widget-view+json": {
       "model_id": "",
       "version_major": 2,
       "version_minor": 0
      },
      "text/plain": [
       "HBox(children=(FloatProgress(value=0.0, description='Training', layout=Layout(flex='2'), max=1125.0, style=Pro…"
      ]
     },
     "metadata": {},
     "output_type": "display_data"
    },
    {
     "name": "stdout",
     "output_type": "stream",
     "text": [
      "Epoch 513: train=0.927619, val=0.95024, took 36.853 s\n"
     ]
    },
    {
     "data": {
      "application/vnd.jupyter.widget-view+json": {
       "model_id": "",
       "version_major": 2,
       "version_minor": 0
      },
      "text/plain": [
       "HBox(children=(FloatProgress(value=0.0, description='Training', layout=Layout(flex='2'), max=1125.0, style=Pro…"
      ]
     },
     "metadata": {},
     "output_type": "display_data"
    },
    {
     "name": "stdout",
     "output_type": "stream",
     "text": [
      "Epoch 514: train=0.932066, val=0.953015, took 36.942 s\n"
     ]
    },
    {
     "data": {
      "application/vnd.jupyter.widget-view+json": {
       "model_id": "",
       "version_major": 2,
       "version_minor": 0
      },
      "text/plain": [
       "HBox(children=(FloatProgress(value=0.0, description='Training', layout=Layout(flex='2'), max=1125.0, style=Pro…"
      ]
     },
     "metadata": {},
     "output_type": "display_data"
    },
    {
     "name": "stdout",
     "output_type": "stream",
     "text": [
      "Epoch 515: train=0.935107, val=0.959854, took 36.899 s\n"
     ]
    },
    {
     "data": {
      "application/vnd.jupyter.widget-view+json": {
       "model_id": "",
       "version_major": 2,
       "version_minor": 0
      },
      "text/plain": [
       "HBox(children=(FloatProgress(value=0.0, description='Training', layout=Layout(flex='2'), max=1125.0, style=Pro…"
      ]
     },
     "metadata": {},
     "output_type": "display_data"
    },
    {
     "name": "stdout",
     "output_type": "stream",
     "text": [
      "Epoch 516: train=0.93591, val=0.955499, took 37.135 s\n"
     ]
    },
    {
     "data": {
      "application/vnd.jupyter.widget-view+json": {
       "model_id": "",
       "version_major": 2,
       "version_minor": 0
      },
      "text/plain": [
       "HBox(children=(FloatProgress(value=0.0, description='Training', layout=Layout(flex='2'), max=1125.0, style=Pro…"
      ]
     },
     "metadata": {},
     "output_type": "display_data"
    },
    {
     "name": "stdout",
     "output_type": "stream",
     "text": [
      "Epoch 517: train=0.936537, val=0.952527, took 36.892 s\n"
     ]
    },
    {
     "data": {
      "application/vnd.jupyter.widget-view+json": {
       "model_id": "",
       "version_major": 2,
       "version_minor": 0
      },
      "text/plain": [
       "HBox(children=(FloatProgress(value=0.0, description='Training', layout=Layout(flex='2'), max=1125.0, style=Pro…"
      ]
     },
     "metadata": {},
     "output_type": "display_data"
    },
    {
     "name": "stdout",
     "output_type": "stream",
     "text": [
      "Epoch 518: train=0.934184, val=0.950352, took 36.798 s\n"
     ]
    },
    {
     "data": {
      "application/vnd.jupyter.widget-view+json": {
       "model_id": "",
       "version_major": 2,
       "version_minor": 0
      },
      "text/plain": [
       "HBox(children=(FloatProgress(value=0.0, description='Training', layout=Layout(flex='2'), max=1125.0, style=Pro…"
      ]
     },
     "metadata": {},
     "output_type": "display_data"
    },
    {
     "name": "stdout",
     "output_type": "stream",
     "text": [
      "Epoch 519: train=0.930052, val=0.958417, took 36.905 s\n"
     ]
    },
    {
     "data": {
      "application/vnd.jupyter.widget-view+json": {
       "model_id": "",
       "version_major": 2,
       "version_minor": 0
      },
      "text/plain": [
       "HBox(children=(FloatProgress(value=0.0, description='Training', layout=Layout(flex='2'), max=1125.0, style=Pro…"
      ]
     },
     "metadata": {},
     "output_type": "display_data"
    },
    {
     "name": "stdout",
     "output_type": "stream",
     "text": [
      "Epoch 520: train=0.932639, val=0.963133, took 36.88 s\n"
     ]
    },
    {
     "data": {
      "application/vnd.jupyter.widget-view+json": {
       "model_id": "",
       "version_major": 2,
       "version_minor": 0
      },
      "text/plain": [
       "HBox(children=(FloatProgress(value=0.0, description='Training', layout=Layout(flex='2'), max=1125.0, style=Pro…"
      ]
     },
     "metadata": {},
     "output_type": "display_data"
    },
    {
     "name": "stdout",
     "output_type": "stream",
     "text": [
      "Epoch 521: train=0.92682, val=0.957157, took 36.848 s\n"
     ]
    },
    {
     "data": {
      "application/vnd.jupyter.widget-view+json": {
       "model_id": "",
       "version_major": 2,
       "version_minor": 0
      },
      "text/plain": [
       "HBox(children=(FloatProgress(value=0.0, description='Training', layout=Layout(flex='2'), max=1125.0, style=Pro…"
      ]
     },
     "metadata": {},
     "output_type": "display_data"
    },
    {
     "name": "stdout",
     "output_type": "stream",
     "text": [
      "Epoch 522: train=0.924511, val=0.959797, took 36.796 s\n"
     ]
    },
    {
     "data": {
      "application/vnd.jupyter.widget-view+json": {
       "model_id": "",
       "version_major": 2,
       "version_minor": 0
      },
      "text/plain": [
       "HBox(children=(FloatProgress(value=0.0, description='Training', layout=Layout(flex='2'), max=1125.0, style=Pro…"
      ]
     },
     "metadata": {},
     "output_type": "display_data"
    },
    {
     "name": "stdout",
     "output_type": "stream",
     "text": [
      "Epoch 523: train=0.931271, val=0.967979, took 36.851 s\n"
     ]
    },
    {
     "data": {
      "application/vnd.jupyter.widget-view+json": {
       "model_id": "",
       "version_major": 2,
       "version_minor": 0
      },
      "text/plain": [
       "HBox(children=(FloatProgress(value=0.0, description='Training', layout=Layout(flex='2'), max=1125.0, style=Pro…"
      ]
     },
     "metadata": {},
     "output_type": "display_data"
    },
    {
     "name": "stdout",
     "output_type": "stream",
     "text": [
      "Epoch 524: train=0.933143, val=0.95135, took 36.873 s\n"
     ]
    },
    {
     "data": {
      "application/vnd.jupyter.widget-view+json": {
       "model_id": "",
       "version_major": 2,
       "version_minor": 0
      },
      "text/plain": [
       "HBox(children=(FloatProgress(value=0.0, description='Training', layout=Layout(flex='2'), max=1125.0, style=Pro…"
      ]
     },
     "metadata": {},
     "output_type": "display_data"
    },
    {
     "name": "stdout",
     "output_type": "stream",
     "text": [
      "Epoch 525: train=0.930182, val=0.950445, took 36.893 s\n"
     ]
    },
    {
     "data": {
      "application/vnd.jupyter.widget-view+json": {
       "model_id": "",
       "version_major": 2,
       "version_minor": 0
      },
      "text/plain": [
       "HBox(children=(FloatProgress(value=0.0, description='Training', layout=Layout(flex='2'), max=1125.0, style=Pro…"
      ]
     },
     "metadata": {},
     "output_type": "display_data"
    },
    {
     "name": "stdout",
     "output_type": "stream",
     "text": [
      "Epoch 526: train=0.931062, val=0.956453, took 36.932 s\n"
     ]
    },
    {
     "data": {
      "application/vnd.jupyter.widget-view+json": {
       "model_id": "",
       "version_major": 2,
       "version_minor": 0
      },
      "text/plain": [
       "HBox(children=(FloatProgress(value=0.0, description='Training', layout=Layout(flex='2'), max=1125.0, style=Pro…"
      ]
     },
     "metadata": {},
     "output_type": "display_data"
    },
    {
     "name": "stdout",
     "output_type": "stream",
     "text": [
      "Epoch 527: train=0.930466, val=0.954257, took 36.918 s\n"
     ]
    },
    {
     "data": {
      "application/vnd.jupyter.widget-view+json": {
       "model_id": "",
       "version_major": 2,
       "version_minor": 0
      },
      "text/plain": [
       "HBox(children=(FloatProgress(value=0.0, description='Training', layout=Layout(flex='2'), max=1125.0, style=Pro…"
      ]
     },
     "metadata": {},
     "output_type": "display_data"
    },
    {
     "name": "stdout",
     "output_type": "stream",
     "text": [
      "Epoch 528: train=0.935947, val=0.950547, took 36.898 s\n"
     ]
    },
    {
     "data": {
      "application/vnd.jupyter.widget-view+json": {
       "model_id": "",
       "version_major": 2,
       "version_minor": 0
      },
      "text/plain": [
       "HBox(children=(FloatProgress(value=0.0, description='Training', layout=Layout(flex='2'), max=1125.0, style=Pro…"
      ]
     },
     "metadata": {},
     "output_type": "display_data"
    },
    {
     "name": "stdout",
     "output_type": "stream",
     "text": [
      "Epoch 529: train=0.931246, val=0.965255, took 36.799 s\n"
     ]
    },
    {
     "data": {
      "application/vnd.jupyter.widget-view+json": {
       "model_id": "",
       "version_major": 2,
       "version_minor": 0
      },
      "text/plain": [
       "HBox(children=(FloatProgress(value=0.0, description='Training', layout=Layout(flex='2'), max=1125.0, style=Pro…"
      ]
     },
     "metadata": {},
     "output_type": "display_data"
    },
    {
     "name": "stdout",
     "output_type": "stream",
     "text": [
      "Epoch 530: train=0.926025, val=0.955596, took 36.954 s\n"
     ]
    },
    {
     "data": {
      "application/vnd.jupyter.widget-view+json": {
       "model_id": "",
       "version_major": 2,
       "version_minor": 0
      },
      "text/plain": [
       "HBox(children=(FloatProgress(value=0.0, description='Training', layout=Layout(flex='2'), max=1125.0, style=Pro…"
      ]
     },
     "metadata": {},
     "output_type": "display_data"
    },
    {
     "name": "stdout",
     "output_type": "stream",
     "text": [
      "Epoch 531: train=0.930987, val=0.948791, took 36.79 s\n"
     ]
    },
    {
     "data": {
      "application/vnd.jupyter.widget-view+json": {
       "model_id": "",
       "version_major": 2,
       "version_minor": 0
      },
      "text/plain": [
       "HBox(children=(FloatProgress(value=0.0, description='Training', layout=Layout(flex='2'), max=1125.0, style=Pro…"
      ]
     },
     "metadata": {},
     "output_type": "display_data"
    },
    {
     "name": "stdout",
     "output_type": "stream",
     "text": [
      "Epoch 532: train=0.932594, val=0.948581, took 36.84 s\n"
     ]
    },
    {
     "data": {
      "application/vnd.jupyter.widget-view+json": {
       "model_id": "",
       "version_major": 2,
       "version_minor": 0
      },
      "text/plain": [
       "HBox(children=(FloatProgress(value=0.0, description='Training', layout=Layout(flex='2'), max=1125.0, style=Pro…"
      ]
     },
     "metadata": {},
     "output_type": "display_data"
    },
    {
     "name": "stdout",
     "output_type": "stream",
     "text": [
      "Epoch 533: train=0.932813, val=0.960163, took 36.761 s\n"
     ]
    },
    {
     "data": {
      "application/vnd.jupyter.widget-view+json": {
       "model_id": "",
       "version_major": 2,
       "version_minor": 0
      },
      "text/plain": [
       "HBox(children=(FloatProgress(value=0.0, description='Training', layout=Layout(flex='2'), max=1125.0, style=Pro…"
      ]
     },
     "metadata": {},
     "output_type": "display_data"
    },
    {
     "name": "stdout",
     "output_type": "stream",
     "text": [
      "Epoch 534: train=0.932027, val=0.954571, took 36.839 s\n"
     ]
    },
    {
     "data": {
      "application/vnd.jupyter.widget-view+json": {
       "model_id": "",
       "version_major": 2,
       "version_minor": 0
      },
      "text/plain": [
       "HBox(children=(FloatProgress(value=0.0, description='Training', layout=Layout(flex='2'), max=1125.0, style=Pro…"
      ]
     },
     "metadata": {},
     "output_type": "display_data"
    },
    {
     "name": "stdout",
     "output_type": "stream",
     "text": [
      "Epoch 535: train=0.932184, val=0.971164, took 36.809 s\n"
     ]
    },
    {
     "data": {
      "application/vnd.jupyter.widget-view+json": {
       "model_id": "",
       "version_major": 2,
       "version_minor": 0
      },
      "text/plain": [
       "HBox(children=(FloatProgress(value=0.0, description='Training', layout=Layout(flex='2'), max=1125.0, style=Pro…"
      ]
     },
     "metadata": {},
     "output_type": "display_data"
    },
    {
     "name": "stdout",
     "output_type": "stream",
     "text": [
      "Epoch 536: train=0.934032, val=0.949526, took 36.808 s\n"
     ]
    },
    {
     "data": {
      "application/vnd.jupyter.widget-view+json": {
       "model_id": "",
       "version_major": 2,
       "version_minor": 0
      },
      "text/plain": [
       "HBox(children=(FloatProgress(value=0.0, description='Training', layout=Layout(flex='2'), max=1125.0, style=Pro…"
      ]
     },
     "metadata": {},
     "output_type": "display_data"
    },
    {
     "name": "stdout",
     "output_type": "stream",
     "text": [
      "Epoch 537: train=0.930745, val=0.957503, took 36.845 s\n"
     ]
    },
    {
     "data": {
      "application/vnd.jupyter.widget-view+json": {
       "model_id": "",
       "version_major": 2,
       "version_minor": 0
      },
      "text/plain": [
       "HBox(children=(FloatProgress(value=0.0, description='Training', layout=Layout(flex='2'), max=1125.0, style=Pro…"
      ]
     },
     "metadata": {},
     "output_type": "display_data"
    },
    {
     "name": "stdout",
     "output_type": "stream",
     "text": [
      "Epoch 538: train=0.934459, val=0.951204, took 36.882 s\n"
     ]
    },
    {
     "data": {
      "application/vnd.jupyter.widget-view+json": {
       "model_id": "",
       "version_major": 2,
       "version_minor": 0
      },
      "text/plain": [
       "HBox(children=(FloatProgress(value=0.0, description='Training', layout=Layout(flex='2'), max=1125.0, style=Pro…"
      ]
     },
     "metadata": {},
     "output_type": "display_data"
    },
    {
     "name": "stdout",
     "output_type": "stream",
     "text": [
      "Epoch 539: train=0.929278, val=0.970406, took 36.961 s\n"
     ]
    },
    {
     "data": {
      "application/vnd.jupyter.widget-view+json": {
       "model_id": "",
       "version_major": 2,
       "version_minor": 0
      },
      "text/plain": [
       "HBox(children=(FloatProgress(value=0.0, description='Training', layout=Layout(flex='2'), max=1125.0, style=Pro…"
      ]
     },
     "metadata": {},
     "output_type": "display_data"
    },
    {
     "name": "stdout",
     "output_type": "stream",
     "text": [
      "Epoch 540: train=0.936201, val=0.957072, took 36.888 s\n"
     ]
    },
    {
     "data": {
      "application/vnd.jupyter.widget-view+json": {
       "model_id": "",
       "version_major": 2,
       "version_minor": 0
      },
      "text/plain": [
       "HBox(children=(FloatProgress(value=0.0, description='Training', layout=Layout(flex='2'), max=1125.0, style=Pro…"
      ]
     },
     "metadata": {},
     "output_type": "display_data"
    },
    {
     "name": "stdout",
     "output_type": "stream",
     "text": [
      "Epoch 541: train=0.933888, val=0.98406, took 37.004 s\n"
     ]
    },
    {
     "data": {
      "application/vnd.jupyter.widget-view+json": {
       "model_id": "",
       "version_major": 2,
       "version_minor": 0
      },
      "text/plain": [
       "HBox(children=(FloatProgress(value=0.0, description='Training', layout=Layout(flex='2'), max=1125.0, style=Pro…"
      ]
     },
     "metadata": {},
     "output_type": "display_data"
    },
    {
     "name": "stdout",
     "output_type": "stream",
     "text": [
      "Epoch 542: train=0.930195, val=0.975319, took 36.901 s\n"
     ]
    },
    {
     "data": {
      "application/vnd.jupyter.widget-view+json": {
       "model_id": "",
       "version_major": 2,
       "version_minor": 0
      },
      "text/plain": [
       "HBox(children=(FloatProgress(value=0.0, description='Training', layout=Layout(flex='2'), max=1125.0, style=Pro…"
      ]
     },
     "metadata": {},
     "output_type": "display_data"
    },
    {
     "name": "stdout",
     "output_type": "stream",
     "text": [
      "Epoch 543: train=0.929752, val=1.00252, took 36.893 s\n"
     ]
    },
    {
     "data": {
      "application/vnd.jupyter.widget-view+json": {
       "model_id": "",
       "version_major": 2,
       "version_minor": 0
      },
      "text/plain": [
       "HBox(children=(FloatProgress(value=0.0, description='Training', layout=Layout(flex='2'), max=1125.0, style=Pro…"
      ]
     },
     "metadata": {},
     "output_type": "display_data"
    },
    {
     "name": "stdout",
     "output_type": "stream",
     "text": [
      "Epoch 544: train=0.932884, val=0.953041, took 36.937 s\n"
     ]
    },
    {
     "data": {
      "application/vnd.jupyter.widget-view+json": {
       "model_id": "",
       "version_major": 2,
       "version_minor": 0
      },
      "text/plain": [
       "HBox(children=(FloatProgress(value=0.0, description='Training', layout=Layout(flex='2'), max=1125.0, style=Pro…"
      ]
     },
     "metadata": {},
     "output_type": "display_data"
    },
    {
     "name": "stdout",
     "output_type": "stream",
     "text": [
      "Epoch 545: train=0.930619, val=0.948741, took 36.874 s\n"
     ]
    },
    {
     "data": {
      "application/vnd.jupyter.widget-view+json": {
       "model_id": "",
       "version_major": 2,
       "version_minor": 0
      },
      "text/plain": [
       "HBox(children=(FloatProgress(value=0.0, description='Training', layout=Layout(flex='2'), max=1125.0, style=Pro…"
      ]
     },
     "metadata": {},
     "output_type": "display_data"
    },
    {
     "name": "stdout",
     "output_type": "stream",
     "text": [
      "Epoch 546: train=0.935143, val=0.951263, took 36.97 s\n"
     ]
    },
    {
     "data": {
      "application/vnd.jupyter.widget-view+json": {
       "model_id": "",
       "version_major": 2,
       "version_minor": 0
      },
      "text/plain": [
       "HBox(children=(FloatProgress(value=0.0, description='Training', layout=Layout(flex='2'), max=1125.0, style=Pro…"
      ]
     },
     "metadata": {},
     "output_type": "display_data"
    },
    {
     "name": "stdout",
     "output_type": "stream",
     "text": [
      "Epoch 547: train=0.93192, val=0.971671, took 36.904 s\n"
     ]
    },
    {
     "data": {
      "application/vnd.jupyter.widget-view+json": {
       "model_id": "",
       "version_major": 2,
       "version_minor": 0
      },
      "text/plain": [
       "HBox(children=(FloatProgress(value=0.0, description='Training', layout=Layout(flex='2'), max=1125.0, style=Pro…"
      ]
     },
     "metadata": {},
     "output_type": "display_data"
    },
    {
     "name": "stdout",
     "output_type": "stream",
     "text": [
      "Epoch 548: train=0.933245, val=1.01236, took 36.864 s\n"
     ]
    },
    {
     "data": {
      "application/vnd.jupyter.widget-view+json": {
       "model_id": "",
       "version_major": 2,
       "version_minor": 0
      },
      "text/plain": [
       "HBox(children=(FloatProgress(value=0.0, description='Training', layout=Layout(flex='2'), max=1125.0, style=Pro…"
      ]
     },
     "metadata": {},
     "output_type": "display_data"
    },
    {
     "name": "stdout",
     "output_type": "stream",
     "text": [
      "Epoch 549: train=0.937537, val=0.948137, took 36.919 s\n"
     ]
    },
    {
     "data": {
      "application/vnd.jupyter.widget-view+json": {
       "model_id": "",
       "version_major": 2,
       "version_minor": 0
      },
      "text/plain": [
       "HBox(children=(FloatProgress(value=0.0, description='Training', layout=Layout(flex='2'), max=1125.0, style=Pro…"
      ]
     },
     "metadata": {},
     "output_type": "display_data"
    },
    {
     "name": "stdout",
     "output_type": "stream",
     "text": [
      "Epoch 550: train=0.934479, val=0.952413, took 36.961 s\n"
     ]
    },
    {
     "data": {
      "application/vnd.jupyter.widget-view+json": {
       "model_id": "",
       "version_major": 2,
       "version_minor": 0
      },
      "text/plain": [
       "HBox(children=(FloatProgress(value=0.0, description='Training', layout=Layout(flex='2'), max=1125.0, style=Pro…"
      ]
     },
     "metadata": {},
     "output_type": "display_data"
    },
    {
     "name": "stdout",
     "output_type": "stream",
     "text": [
      "Epoch 551: train=0.929036, val=0.950844, took 36.825 s\n"
     ]
    },
    {
     "data": {
      "application/vnd.jupyter.widget-view+json": {
       "model_id": "",
       "version_major": 2,
       "version_minor": 0
      },
      "text/plain": [
       "HBox(children=(FloatProgress(value=0.0, description='Training', layout=Layout(flex='2'), max=1125.0, style=Pro…"
      ]
     },
     "metadata": {},
     "output_type": "display_data"
    },
    {
     "name": "stdout",
     "output_type": "stream",
     "text": [
      "Epoch 552: train=0.927514, val=0.955745, took 36.896 s\n"
     ]
    },
    {
     "data": {
      "application/vnd.jupyter.widget-view+json": {
       "model_id": "",
       "version_major": 2,
       "version_minor": 0
      },
      "text/plain": [
       "HBox(children=(FloatProgress(value=0.0, description='Training', layout=Layout(flex='2'), max=1125.0, style=Pro…"
      ]
     },
     "metadata": {},
     "output_type": "display_data"
    },
    {
     "name": "stdout",
     "output_type": "stream",
     "text": [
      "Epoch 553: train=0.926275, val=0.948435, took 36.793 s\n"
     ]
    },
    {
     "data": {
      "application/vnd.jupyter.widget-view+json": {
       "model_id": "",
       "version_major": 2,
       "version_minor": 0
      },
      "text/plain": [
       "HBox(children=(FloatProgress(value=0.0, description='Training', layout=Layout(flex='2'), max=1125.0, style=Pro…"
      ]
     },
     "metadata": {},
     "output_type": "display_data"
    },
    {
     "name": "stdout",
     "output_type": "stream",
     "text": [
      "Epoch 554: train=0.933042, val=0.948881, took 36.94 s\n"
     ]
    },
    {
     "data": {
      "application/vnd.jupyter.widget-view+json": {
       "model_id": "",
       "version_major": 2,
       "version_minor": 0
      },
      "text/plain": [
       "HBox(children=(FloatProgress(value=0.0, description='Training', layout=Layout(flex='2'), max=1125.0, style=Pro…"
      ]
     },
     "metadata": {},
     "output_type": "display_data"
    },
    {
     "name": "stdout",
     "output_type": "stream",
     "text": [
      "Epoch 555: train=0.930971, val=0.949293, took 36.821 s\n"
     ]
    },
    {
     "data": {
      "application/vnd.jupyter.widget-view+json": {
       "model_id": "",
       "version_major": 2,
       "version_minor": 0
      },
      "text/plain": [
       "HBox(children=(FloatProgress(value=0.0, description='Training', layout=Layout(flex='2'), max=1125.0, style=Pro…"
      ]
     },
     "metadata": {},
     "output_type": "display_data"
    },
    {
     "name": "stdout",
     "output_type": "stream",
     "text": [
      "Epoch 556: train=0.925806, val=0.947783, took 36.973 s\n"
     ]
    },
    {
     "data": {
      "application/vnd.jupyter.widget-view+json": {
       "model_id": "",
       "version_major": 2,
       "version_minor": 0
      },
      "text/plain": [
       "HBox(children=(FloatProgress(value=0.0, description='Training', layout=Layout(flex='2'), max=1125.0, style=Pro…"
      ]
     },
     "metadata": {},
     "output_type": "display_data"
    },
    {
     "name": "stdout",
     "output_type": "stream",
     "text": [
      "Epoch 557: train=0.931995, val=0.948739, took 37.159 s\n"
     ]
    },
    {
     "data": {
      "application/vnd.jupyter.widget-view+json": {
       "model_id": "",
       "version_major": 2,
       "version_minor": 0
      },
      "text/plain": [
       "HBox(children=(FloatProgress(value=0.0, description='Training', layout=Layout(flex='2'), max=1125.0, style=Pro…"
      ]
     },
     "metadata": {},
     "output_type": "display_data"
    },
    {
     "name": "stdout",
     "output_type": "stream",
     "text": [
      "Epoch 558: train=0.931542, val=0.970517, took 36.845 s\n"
     ]
    },
    {
     "data": {
      "application/vnd.jupyter.widget-view+json": {
       "model_id": "",
       "version_major": 2,
       "version_minor": 0
      },
      "text/plain": [
       "HBox(children=(FloatProgress(value=0.0, description='Training', layout=Layout(flex='2'), max=1125.0, style=Pro…"
      ]
     },
     "metadata": {},
     "output_type": "display_data"
    },
    {
     "name": "stdout",
     "output_type": "stream",
     "text": [
      "Epoch 559: train=0.934733, val=0.948818, took 36.872 s\n"
     ]
    },
    {
     "data": {
      "application/vnd.jupyter.widget-view+json": {
       "model_id": "",
       "version_major": 2,
       "version_minor": 0
      },
      "text/plain": [
       "HBox(children=(FloatProgress(value=0.0, description='Training', layout=Layout(flex='2'), max=1125.0, style=Pro…"
      ]
     },
     "metadata": {},
     "output_type": "display_data"
    },
    {
     "name": "stdout",
     "output_type": "stream",
     "text": [
      "Epoch 560: train=0.926723, val=0.959072, took 37.205 s\n"
     ]
    },
    {
     "data": {
      "application/vnd.jupyter.widget-view+json": {
       "model_id": "",
       "version_major": 2,
       "version_minor": 0
      },
      "text/plain": [
       "HBox(children=(FloatProgress(value=0.0, description='Training', layout=Layout(flex='2'), max=1125.0, style=Pro…"
      ]
     },
     "metadata": {},
     "output_type": "display_data"
    },
    {
     "name": "stdout",
     "output_type": "stream",
     "text": [
      "Epoch 561: train=0.933754, val=0.973107, took 36.815 s\n"
     ]
    },
    {
     "data": {
      "application/vnd.jupyter.widget-view+json": {
       "model_id": "",
       "version_major": 2,
       "version_minor": 0
      },
      "text/plain": [
       "HBox(children=(FloatProgress(value=0.0, description='Training', layout=Layout(flex='2'), max=1125.0, style=Pro…"
      ]
     },
     "metadata": {},
     "output_type": "display_data"
    },
    {
     "name": "stdout",
     "output_type": "stream",
     "text": [
      "Epoch 562: train=0.935834, val=0.959443, took 36.79 s\n"
     ]
    },
    {
     "data": {
      "application/vnd.jupyter.widget-view+json": {
       "model_id": "",
       "version_major": 2,
       "version_minor": 0
      },
      "text/plain": [
       "HBox(children=(FloatProgress(value=0.0, description='Training', layout=Layout(flex='2'), max=1125.0, style=Pro…"
      ]
     },
     "metadata": {},
     "output_type": "display_data"
    },
    {
     "name": "stdout",
     "output_type": "stream",
     "text": [
      "Epoch 563: train=0.937786, val=0.94931, took 36.901 s\n"
     ]
    },
    {
     "data": {
      "application/vnd.jupyter.widget-view+json": {
       "model_id": "",
       "version_major": 2,
       "version_minor": 0
      },
      "text/plain": [
       "HBox(children=(FloatProgress(value=0.0, description='Training', layout=Layout(flex='2'), max=1125.0, style=Pro…"
      ]
     },
     "metadata": {},
     "output_type": "display_data"
    },
    {
     "name": "stdout",
     "output_type": "stream",
     "text": [
      "Epoch 564: train=0.933232, val=1.00192, took 37.071 s\n"
     ]
    },
    {
     "data": {
      "application/vnd.jupyter.widget-view+json": {
       "model_id": "",
       "version_major": 2,
       "version_minor": 0
      },
      "text/plain": [
       "HBox(children=(FloatProgress(value=0.0, description='Training', layout=Layout(flex='2'), max=1125.0, style=Pro…"
      ]
     },
     "metadata": {},
     "output_type": "display_data"
    },
    {
     "name": "stdout",
     "output_type": "stream",
     "text": [
      "Epoch 565: train=0.930932, val=0.957496, took 36.95 s\n"
     ]
    },
    {
     "data": {
      "application/vnd.jupyter.widget-view+json": {
       "model_id": "",
       "version_major": 2,
       "version_minor": 0
      },
      "text/plain": [
       "HBox(children=(FloatProgress(value=0.0, description='Training', layout=Layout(flex='2'), max=1125.0, style=Pro…"
      ]
     },
     "metadata": {},
     "output_type": "display_data"
    },
    {
     "name": "stdout",
     "output_type": "stream",
     "text": [
      "Epoch 566: train=0.926299, val=0.954119, took 36.806 s\n"
     ]
    },
    {
     "data": {
      "application/vnd.jupyter.widget-view+json": {
       "model_id": "",
       "version_major": 2,
       "version_minor": 0
      },
      "text/plain": [
       "HBox(children=(FloatProgress(value=0.0, description='Training', layout=Layout(flex='2'), max=1125.0, style=Pro…"
      ]
     },
     "metadata": {},
     "output_type": "display_data"
    },
    {
     "name": "stdout",
     "output_type": "stream",
     "text": [
      "Epoch 567: train=0.932234, val=0.962633, took 36.906 s\n"
     ]
    },
    {
     "data": {
      "application/vnd.jupyter.widget-view+json": {
       "model_id": "",
       "version_major": 2,
       "version_minor": 0
      },
      "text/plain": [
       "HBox(children=(FloatProgress(value=0.0, description='Training', layout=Layout(flex='2'), max=1125.0, style=Pro…"
      ]
     },
     "metadata": {},
     "output_type": "display_data"
    },
    {
     "name": "stdout",
     "output_type": "stream",
     "text": [
      "Epoch 568: train=0.928737, val=0.951429, took 36.931 s\n"
     ]
    },
    {
     "data": {
      "application/vnd.jupyter.widget-view+json": {
       "model_id": "",
       "version_major": 2,
       "version_minor": 0
      },
      "text/plain": [
       "HBox(children=(FloatProgress(value=0.0, description='Training', layout=Layout(flex='2'), max=1125.0, style=Pro…"
      ]
     },
     "metadata": {},
     "output_type": "display_data"
    },
    {
     "name": "stdout",
     "output_type": "stream",
     "text": [
      "Epoch 569: train=0.930777, val=1.02244, took 36.926 s\n"
     ]
    },
    {
     "data": {
      "application/vnd.jupyter.widget-view+json": {
       "model_id": "",
       "version_major": 2,
       "version_minor": 0
      },
      "text/plain": [
       "HBox(children=(FloatProgress(value=0.0, description='Training', layout=Layout(flex='2'), max=1125.0, style=Pro…"
      ]
     },
     "metadata": {},
     "output_type": "display_data"
    },
    {
     "name": "stdout",
     "output_type": "stream",
     "text": [
      "Epoch 570: train=0.929189, val=0.986398, took 36.946 s\n"
     ]
    },
    {
     "data": {
      "application/vnd.jupyter.widget-view+json": {
       "model_id": "",
       "version_major": 2,
       "version_minor": 0
      },
      "text/plain": [
       "HBox(children=(FloatProgress(value=0.0, description='Training', layout=Layout(flex='2'), max=1125.0, style=Pro…"
      ]
     },
     "metadata": {},
     "output_type": "display_data"
    },
    {
     "name": "stdout",
     "output_type": "stream",
     "text": [
      "Epoch 571: train=0.933604, val=0.950874, took 36.826 s\n"
     ]
    },
    {
     "data": {
      "application/vnd.jupyter.widget-view+json": {
       "model_id": "",
       "version_major": 2,
       "version_minor": 0
      },
      "text/plain": [
       "HBox(children=(FloatProgress(value=0.0, description='Training', layout=Layout(flex='2'), max=1125.0, style=Pro…"
      ]
     },
     "metadata": {},
     "output_type": "display_data"
    },
    {
     "name": "stdout",
     "output_type": "stream",
     "text": [
      "Epoch 572: train=0.931874, val=0.953248, took 36.954 s\n"
     ]
    },
    {
     "data": {
      "application/vnd.jupyter.widget-view+json": {
       "model_id": "",
       "version_major": 2,
       "version_minor": 0
      },
      "text/plain": [
       "HBox(children=(FloatProgress(value=0.0, description='Training', layout=Layout(flex='2'), max=1125.0, style=Pro…"
      ]
     },
     "metadata": {},
     "output_type": "display_data"
    },
    {
     "name": "stdout",
     "output_type": "stream",
     "text": [
      "Epoch 573: train=0.930142, val=0.969562, took 36.917 s\n"
     ]
    },
    {
     "data": {
      "application/vnd.jupyter.widget-view+json": {
       "model_id": "",
       "version_major": 2,
       "version_minor": 0
      },
      "text/plain": [
       "HBox(children=(FloatProgress(value=0.0, description='Training', layout=Layout(flex='2'), max=1125.0, style=Pro…"
      ]
     },
     "metadata": {},
     "output_type": "display_data"
    },
    {
     "name": "stdout",
     "output_type": "stream",
     "text": [
      "Epoch 574: train=0.929761, val=0.954826, took 36.898 s\n"
     ]
    },
    {
     "data": {
      "application/vnd.jupyter.widget-view+json": {
       "model_id": "",
       "version_major": 2,
       "version_minor": 0
      },
      "text/plain": [
       "HBox(children=(FloatProgress(value=0.0, description='Training', layout=Layout(flex='2'), max=1125.0, style=Pro…"
      ]
     },
     "metadata": {},
     "output_type": "display_data"
    },
    {
     "name": "stdout",
     "output_type": "stream",
     "text": [
      "Epoch 575: train=0.9264, val=0.951333, took 36.896 s\n"
     ]
    },
    {
     "data": {
      "application/vnd.jupyter.widget-view+json": {
       "model_id": "",
       "version_major": 2,
       "version_minor": 0
      },
      "text/plain": [
       "HBox(children=(FloatProgress(value=0.0, description='Training', layout=Layout(flex='2'), max=1125.0, style=Pro…"
      ]
     },
     "metadata": {},
     "output_type": "display_data"
    },
    {
     "name": "stdout",
     "output_type": "stream",
     "text": [
      "Epoch 576: train=0.932195, val=0.950973, took 36.787 s\n"
     ]
    },
    {
     "data": {
      "application/vnd.jupyter.widget-view+json": {
       "model_id": "",
       "version_major": 2,
       "version_minor": 0
      },
      "text/plain": [
       "HBox(children=(FloatProgress(value=0.0, description='Training', layout=Layout(flex='2'), max=1125.0, style=Pro…"
      ]
     },
     "metadata": {},
     "output_type": "display_data"
    },
    {
     "name": "stdout",
     "output_type": "stream",
     "text": [
      "Epoch 577: train=0.928948, val=0.966059, took 36.94 s\n"
     ]
    },
    {
     "data": {
      "application/vnd.jupyter.widget-view+json": {
       "model_id": "",
       "version_major": 2,
       "version_minor": 0
      },
      "text/plain": [
       "HBox(children=(FloatProgress(value=0.0, description='Training', layout=Layout(flex='2'), max=1125.0, style=Pro…"
      ]
     },
     "metadata": {},
     "output_type": "display_data"
    },
    {
     "name": "stdout",
     "output_type": "stream",
     "text": [
      "Epoch 578: train=0.926105, val=0.95214, took 36.893 s\n"
     ]
    },
    {
     "data": {
      "application/vnd.jupyter.widget-view+json": {
       "model_id": "",
       "version_major": 2,
       "version_minor": 0
      },
      "text/plain": [
       "HBox(children=(FloatProgress(value=0.0, description='Training', layout=Layout(flex='2'), max=1125.0, style=Pro…"
      ]
     },
     "metadata": {},
     "output_type": "display_data"
    },
    {
     "name": "stdout",
     "output_type": "stream",
     "text": [
      "Epoch 579: train=0.929094, val=0.948082, took 36.911 s\n"
     ]
    },
    {
     "data": {
      "application/vnd.jupyter.widget-view+json": {
       "model_id": "",
       "version_major": 2,
       "version_minor": 0
      },
      "text/plain": [
       "HBox(children=(FloatProgress(value=0.0, description='Training', layout=Layout(flex='2'), max=1125.0, style=Pro…"
      ]
     },
     "metadata": {},
     "output_type": "display_data"
    },
    {
     "name": "stdout",
     "output_type": "stream",
     "text": [
      "Epoch 580: train=0.929113, val=0.955091, took 36.961 s\n"
     ]
    },
    {
     "data": {
      "application/vnd.jupyter.widget-view+json": {
       "model_id": "",
       "version_major": 2,
       "version_minor": 0
      },
      "text/plain": [
       "HBox(children=(FloatProgress(value=0.0, description='Training', layout=Layout(flex='2'), max=1125.0, style=Pro…"
      ]
     },
     "metadata": {},
     "output_type": "display_data"
    },
    {
     "name": "stdout",
     "output_type": "stream",
     "text": [
      "Epoch 581: train=0.93019, val=0.98442, took 36.891 s\n"
     ]
    },
    {
     "data": {
      "application/vnd.jupyter.widget-view+json": {
       "model_id": "",
       "version_major": 2,
       "version_minor": 0
      },
      "text/plain": [
       "HBox(children=(FloatProgress(value=0.0, description='Training', layout=Layout(flex='2'), max=1125.0, style=Pro…"
      ]
     },
     "metadata": {},
     "output_type": "display_data"
    },
    {
     "name": "stdout",
     "output_type": "stream",
     "text": [
      "Epoch 582: train=0.933491, val=0.993278, took 36.971 s\n"
     ]
    },
    {
     "data": {
      "application/vnd.jupyter.widget-view+json": {
       "model_id": "",
       "version_major": 2,
       "version_minor": 0
      },
      "text/plain": [
       "HBox(children=(FloatProgress(value=0.0, description='Training', layout=Layout(flex='2'), max=1125.0, style=Pro…"
      ]
     },
     "metadata": {},
     "output_type": "display_data"
    },
    {
     "name": "stdout",
     "output_type": "stream",
     "text": [
      "Epoch 583: train=0.927055, val=0.979015, took 36.795 s\n"
     ]
    },
    {
     "data": {
      "application/vnd.jupyter.widget-view+json": {
       "model_id": "",
       "version_major": 2,
       "version_minor": 0
      },
      "text/plain": [
       "HBox(children=(FloatProgress(value=0.0, description='Training', layout=Layout(flex='2'), max=1125.0, style=Pro…"
      ]
     },
     "metadata": {},
     "output_type": "display_data"
    },
    {
     "name": "stdout",
     "output_type": "stream",
     "text": [
      "Epoch 584: train=0.930829, val=0.950677, took 36.931 s\n"
     ]
    },
    {
     "data": {
      "application/vnd.jupyter.widget-view+json": {
       "model_id": "",
       "version_major": 2,
       "version_minor": 0
      },
      "text/plain": [
       "HBox(children=(FloatProgress(value=0.0, description='Training', layout=Layout(flex='2'), max=1125.0, style=Pro…"
      ]
     },
     "metadata": {},
     "output_type": "display_data"
    },
    {
     "name": "stdout",
     "output_type": "stream",
     "text": [
      "Epoch 585: train=0.936096, val=0.969063, took 36.912 s\n"
     ]
    },
    {
     "data": {
      "application/vnd.jupyter.widget-view+json": {
       "model_id": "",
       "version_major": 2,
       "version_minor": 0
      },
      "text/plain": [
       "HBox(children=(FloatProgress(value=0.0, description='Training', layout=Layout(flex='2'), max=1125.0, style=Pro…"
      ]
     },
     "metadata": {},
     "output_type": "display_data"
    },
    {
     "name": "stdout",
     "output_type": "stream",
     "text": [
      "Epoch 586: train=0.930705, val=0.951966, took 36.86 s\n"
     ]
    },
    {
     "data": {
      "application/vnd.jupyter.widget-view+json": {
       "model_id": "",
       "version_major": 2,
       "version_minor": 0
      },
      "text/plain": [
       "HBox(children=(FloatProgress(value=0.0, description='Training', layout=Layout(flex='2'), max=1125.0, style=Pro…"
      ]
     },
     "metadata": {},
     "output_type": "display_data"
    },
    {
     "name": "stdout",
     "output_type": "stream",
     "text": [
      "Epoch 587: train=0.933095, val=0.94821, took 36.799 s\n"
     ]
    },
    {
     "data": {
      "application/vnd.jupyter.widget-view+json": {
       "model_id": "",
       "version_major": 2,
       "version_minor": 0
      },
      "text/plain": [
       "HBox(children=(FloatProgress(value=0.0, description='Training', layout=Layout(flex='2'), max=1125.0, style=Pro…"
      ]
     },
     "metadata": {},
     "output_type": "display_data"
    },
    {
     "name": "stdout",
     "output_type": "stream",
     "text": [
      "Epoch 588: train=0.93342, val=0.949414, took 36.976 s\n"
     ]
    },
    {
     "data": {
      "application/vnd.jupyter.widget-view+json": {
       "model_id": "",
       "version_major": 2,
       "version_minor": 0
      },
      "text/plain": [
       "HBox(children=(FloatProgress(value=0.0, description='Training', layout=Layout(flex='2'), max=1125.0, style=Pro…"
      ]
     },
     "metadata": {},
     "output_type": "display_data"
    },
    {
     "name": "stdout",
     "output_type": "stream",
     "text": [
      "Epoch 589: train=0.927696, val=0.949088, took 36.847 s\n"
     ]
    },
    {
     "data": {
      "application/vnd.jupyter.widget-view+json": {
       "model_id": "",
       "version_major": 2,
       "version_minor": 0
      },
      "text/plain": [
       "HBox(children=(FloatProgress(value=0.0, description='Training', layout=Layout(flex='2'), max=1125.0, style=Pro…"
      ]
     },
     "metadata": {},
     "output_type": "display_data"
    },
    {
     "name": "stdout",
     "output_type": "stream",
     "text": [
      "Epoch 590: train=0.929189, val=0.955414, took 36.978 s\n"
     ]
    },
    {
     "data": {
      "application/vnd.jupyter.widget-view+json": {
       "model_id": "",
       "version_major": 2,
       "version_minor": 0
      },
      "text/plain": [
       "HBox(children=(FloatProgress(value=0.0, description='Training', layout=Layout(flex='2'), max=1125.0, style=Pro…"
      ]
     },
     "metadata": {},
     "output_type": "display_data"
    },
    {
     "name": "stdout",
     "output_type": "stream",
     "text": [
      "Epoch 591: train=0.93112, val=0.951519, took 36.877 s\n"
     ]
    },
    {
     "data": {
      "application/vnd.jupyter.widget-view+json": {
       "model_id": "",
       "version_major": 2,
       "version_minor": 0
      },
      "text/plain": [
       "HBox(children=(FloatProgress(value=0.0, description='Training', layout=Layout(flex='2'), max=1125.0, style=Pro…"
      ]
     },
     "metadata": {},
     "output_type": "display_data"
    },
    {
     "name": "stdout",
     "output_type": "stream",
     "text": [
      "Epoch 592: train=0.932318, val=0.950124, took 36.87 s\n"
     ]
    },
    {
     "data": {
      "application/vnd.jupyter.widget-view+json": {
       "model_id": "",
       "version_major": 2,
       "version_minor": 0
      },
      "text/plain": [
       "HBox(children=(FloatProgress(value=0.0, description='Training', layout=Layout(flex='2'), max=1125.0, style=Pro…"
      ]
     },
     "metadata": {},
     "output_type": "display_data"
    },
    {
     "name": "stdout",
     "output_type": "stream",
     "text": [
      "Epoch 593: train=0.925768, val=0.961078, took 36.794 s\n"
     ]
    },
    {
     "data": {
      "application/vnd.jupyter.widget-view+json": {
       "model_id": "",
       "version_major": 2,
       "version_minor": 0
      },
      "text/plain": [
       "HBox(children=(FloatProgress(value=0.0, description='Training', layout=Layout(flex='2'), max=1125.0, style=Pro…"
      ]
     },
     "metadata": {},
     "output_type": "display_data"
    },
    {
     "name": "stdout",
     "output_type": "stream",
     "text": [
      "Epoch 594: train=0.930608, val=0.948003, took 36.907 s\n"
     ]
    },
    {
     "data": {
      "application/vnd.jupyter.widget-view+json": {
       "model_id": "",
       "version_major": 2,
       "version_minor": 0
      },
      "text/plain": [
       "HBox(children=(FloatProgress(value=0.0, description='Training', layout=Layout(flex='2'), max=1125.0, style=Pro…"
      ]
     },
     "metadata": {},
     "output_type": "display_data"
    },
    {
     "name": "stdout",
     "output_type": "stream",
     "text": [
      "Epoch 595: train=0.9306, val=0.948867, took 36.874 s\n"
     ]
    },
    {
     "data": {
      "application/vnd.jupyter.widget-view+json": {
       "model_id": "",
       "version_major": 2,
       "version_minor": 0
      },
      "text/plain": [
       "HBox(children=(FloatProgress(value=0.0, description='Training', layout=Layout(flex='2'), max=1125.0, style=Pro…"
      ]
     },
     "metadata": {},
     "output_type": "display_data"
    },
    {
     "name": "stdout",
     "output_type": "stream",
     "text": [
      "Epoch 596: train=0.931142, val=0.993504, took 36.889 s\n"
     ]
    },
    {
     "data": {
      "application/vnd.jupyter.widget-view+json": {
       "model_id": "",
       "version_major": 2,
       "version_minor": 0
      },
      "text/plain": [
       "HBox(children=(FloatProgress(value=0.0, description='Training', layout=Layout(flex='2'), max=1125.0, style=Pro…"
      ]
     },
     "metadata": {},
     "output_type": "display_data"
    },
    {
     "name": "stdout",
     "output_type": "stream",
     "text": [
      "Epoch 597: train=0.934205, val=0.981302, took 36.818 s\n"
     ]
    },
    {
     "data": {
      "application/vnd.jupyter.widget-view+json": {
       "model_id": "",
       "version_major": 2,
       "version_minor": 0
      },
      "text/plain": [
       "HBox(children=(FloatProgress(value=0.0, description='Training', layout=Layout(flex='2'), max=1125.0, style=Pro…"
      ]
     },
     "metadata": {},
     "output_type": "display_data"
    },
    {
     "name": "stdout",
     "output_type": "stream",
     "text": [
      "Epoch 598: train=0.925651, val=0.958532, took 36.834 s\n"
     ]
    },
    {
     "data": {
      "application/vnd.jupyter.widget-view+json": {
       "model_id": "",
       "version_major": 2,
       "version_minor": 0
      },
      "text/plain": [
       "HBox(children=(FloatProgress(value=0.0, description='Training', layout=Layout(flex='2'), max=1125.0, style=Pro…"
      ]
     },
     "metadata": {},
     "output_type": "display_data"
    },
    {
     "name": "stdout",
     "output_type": "stream",
     "text": [
      "Epoch 599: train=0.924269, val=0.953653, took 36.853 s\n"
     ]
    },
    {
     "data": {
      "application/vnd.jupyter.widget-view+json": {
       "model_id": "",
       "version_major": 2,
       "version_minor": 0
      },
      "text/plain": [
       "HBox(children=(FloatProgress(value=0.0, description='Training', layout=Layout(flex='2'), max=1125.0, style=Pro…"
      ]
     },
     "metadata": {},
     "output_type": "display_data"
    },
    {
     "name": "stdout",
     "output_type": "stream",
     "text": [
      "Epoch 600: train=0.931429, val=0.952239, took 36.808 s\n"
     ]
    },
    {
     "data": {
      "application/vnd.jupyter.widget-view+json": {
       "model_id": "",
       "version_major": 2,
       "version_minor": 0
      },
      "text/plain": [
       "HBox(children=(FloatProgress(value=0.0, description='Training', layout=Layout(flex='2'), max=1125.0, style=Pro…"
      ]
     },
     "metadata": {},
     "output_type": "display_data"
    },
    {
     "name": "stdout",
     "output_type": "stream",
     "text": [
      "Epoch 601: train=0.92755, val=0.961758, took 36.871 s\n"
     ]
    },
    {
     "data": {
      "application/vnd.jupyter.widget-view+json": {
       "model_id": "",
       "version_major": 2,
       "version_minor": 0
      },
      "text/plain": [
       "HBox(children=(FloatProgress(value=0.0, description='Training', layout=Layout(flex='2'), max=1125.0, style=Pro…"
      ]
     },
     "metadata": {},
     "output_type": "display_data"
    },
    {
     "name": "stdout",
     "output_type": "stream",
     "text": [
      "Epoch 602: train=0.931724, val=0.955766, took 36.823 s\n"
     ]
    },
    {
     "data": {
      "application/vnd.jupyter.widget-view+json": {
       "model_id": "",
       "version_major": 2,
       "version_minor": 0
      },
      "text/plain": [
       "HBox(children=(FloatProgress(value=0.0, description='Training', layout=Layout(flex='2'), max=1125.0, style=Pro…"
      ]
     },
     "metadata": {},
     "output_type": "display_data"
    },
    {
     "name": "stdout",
     "output_type": "stream",
     "text": [
      "Epoch 603: train=0.934559, val=0.953821, took 36.83 s\n"
     ]
    },
    {
     "data": {
      "application/vnd.jupyter.widget-view+json": {
       "model_id": "",
       "version_major": 2,
       "version_minor": 0
      },
      "text/plain": [
       "HBox(children=(FloatProgress(value=0.0, description='Training', layout=Layout(flex='2'), max=1125.0, style=Pro…"
      ]
     },
     "metadata": {},
     "output_type": "display_data"
    },
    {
     "name": "stdout",
     "output_type": "stream",
     "text": [
      "Epoch 604: train=0.932088, val=0.972883, took 36.973 s\n"
     ]
    },
    {
     "data": {
      "application/vnd.jupyter.widget-view+json": {
       "model_id": "",
       "version_major": 2,
       "version_minor": 0
      },
      "text/plain": [
       "HBox(children=(FloatProgress(value=0.0, description='Training', layout=Layout(flex='2'), max=1125.0, style=Pro…"
      ]
     },
     "metadata": {},
     "output_type": "display_data"
    },
    {
     "name": "stdout",
     "output_type": "stream",
     "text": [
      "Epoch 605: train=0.931495, val=0.949814, took 36.921 s\n"
     ]
    },
    {
     "data": {
      "application/vnd.jupyter.widget-view+json": {
       "model_id": "",
       "version_major": 2,
       "version_minor": 0
      },
      "text/plain": [
       "HBox(children=(FloatProgress(value=0.0, description='Training', layout=Layout(flex='2'), max=1125.0, style=Pro…"
      ]
     },
     "metadata": {},
     "output_type": "display_data"
    },
    {
     "name": "stdout",
     "output_type": "stream",
     "text": [
      "Epoch 606: train=0.929603, val=0.950517, took 36.777 s\n"
     ]
    },
    {
     "data": {
      "application/vnd.jupyter.widget-view+json": {
       "model_id": "",
       "version_major": 2,
       "version_minor": 0
      },
      "text/plain": [
       "HBox(children=(FloatProgress(value=0.0, description='Training', layout=Layout(flex='2'), max=1125.0, style=Pro…"
      ]
     },
     "metadata": {},
     "output_type": "display_data"
    },
    {
     "name": "stdout",
     "output_type": "stream",
     "text": [
      "Epoch 607: train=0.926924, val=0.947563, took 36.899 s\n"
     ]
    },
    {
     "data": {
      "application/vnd.jupyter.widget-view+json": {
       "model_id": "",
       "version_major": 2,
       "version_minor": 0
      },
      "text/plain": [
       "HBox(children=(FloatProgress(value=0.0, description='Training', layout=Layout(flex='2'), max=1125.0, style=Pro…"
      ]
     },
     "metadata": {},
     "output_type": "display_data"
    },
    {
     "name": "stdout",
     "output_type": "stream",
     "text": [
      "Epoch 608: train=0.926219, val=0.977522, took 37.082 s\n"
     ]
    },
    {
     "data": {
      "application/vnd.jupyter.widget-view+json": {
       "model_id": "",
       "version_major": 2,
       "version_minor": 0
      },
      "text/plain": [
       "HBox(children=(FloatProgress(value=0.0, description='Training', layout=Layout(flex='2'), max=1125.0, style=Pro…"
      ]
     },
     "metadata": {},
     "output_type": "display_data"
    },
    {
     "name": "stdout",
     "output_type": "stream",
     "text": [
      "Epoch 609: train=0.928781, val=0.949592, took 36.873 s\n"
     ]
    },
    {
     "data": {
      "application/vnd.jupyter.widget-view+json": {
       "model_id": "",
       "version_major": 2,
       "version_minor": 0
      },
      "text/plain": [
       "HBox(children=(FloatProgress(value=0.0, description='Training', layout=Layout(flex='2'), max=1125.0, style=Pro…"
      ]
     },
     "metadata": {},
     "output_type": "display_data"
    },
    {
     "name": "stdout",
     "output_type": "stream",
     "text": [
      "Epoch 610: train=0.93287, val=1.00255, took 36.865 s\n"
     ]
    },
    {
     "data": {
      "application/vnd.jupyter.widget-view+json": {
       "model_id": "",
       "version_major": 2,
       "version_minor": 0
      },
      "text/plain": [
       "HBox(children=(FloatProgress(value=0.0, description='Training', layout=Layout(flex='2'), max=1125.0, style=Pro…"
      ]
     },
     "metadata": {},
     "output_type": "display_data"
    },
    {
     "name": "stdout",
     "output_type": "stream",
     "text": [
      "Epoch 611: train=0.92951, val=0.953361, took 36.862 s\n"
     ]
    },
    {
     "data": {
      "application/vnd.jupyter.widget-view+json": {
       "model_id": "",
       "version_major": 2,
       "version_minor": 0
      },
      "text/plain": [
       "HBox(children=(FloatProgress(value=0.0, description='Training', layout=Layout(flex='2'), max=1125.0, style=Pro…"
      ]
     },
     "metadata": {},
     "output_type": "display_data"
    },
    {
     "name": "stdout",
     "output_type": "stream",
     "text": [
      "Epoch 612: train=0.92959, val=0.946515, took 36.906 s\n"
     ]
    },
    {
     "data": {
      "application/vnd.jupyter.widget-view+json": {
       "model_id": "",
       "version_major": 2,
       "version_minor": 0
      },
      "text/plain": [
       "HBox(children=(FloatProgress(value=0.0, description='Training', layout=Layout(flex='2'), max=1125.0, style=Pro…"
      ]
     },
     "metadata": {},
     "output_type": "display_data"
    },
    {
     "name": "stdout",
     "output_type": "stream",
     "text": [
      "Epoch 613: train=0.925701, val=0.950164, took 36.937 s\n"
     ]
    },
    {
     "data": {
      "application/vnd.jupyter.widget-view+json": {
       "model_id": "",
       "version_major": 2,
       "version_minor": 0
      },
      "text/plain": [
       "HBox(children=(FloatProgress(value=0.0, description='Training', layout=Layout(flex='2'), max=1125.0, style=Pro…"
      ]
     },
     "metadata": {},
     "output_type": "display_data"
    },
    {
     "name": "stdout",
     "output_type": "stream",
     "text": [
      "Epoch 614: train=0.93073, val=0.972321, took 36.825 s\n"
     ]
    },
    {
     "data": {
      "application/vnd.jupyter.widget-view+json": {
       "model_id": "",
       "version_major": 2,
       "version_minor": 0
      },
      "text/plain": [
       "HBox(children=(FloatProgress(value=0.0, description='Training', layout=Layout(flex='2'), max=1125.0, style=Pro…"
      ]
     },
     "metadata": {},
     "output_type": "display_data"
    },
    {
     "name": "stdout",
     "output_type": "stream",
     "text": [
      "Epoch 615: train=0.92773, val=0.949542, took 36.973 s\n"
     ]
    },
    {
     "data": {
      "application/vnd.jupyter.widget-view+json": {
       "model_id": "",
       "version_major": 2,
       "version_minor": 0
      },
      "text/plain": [
       "HBox(children=(FloatProgress(value=0.0, description='Training', layout=Layout(flex='2'), max=1125.0, style=Pro…"
      ]
     },
     "metadata": {},
     "output_type": "display_data"
    },
    {
     "name": "stdout",
     "output_type": "stream",
     "text": [
      "Epoch 616: train=0.925472, val=0.952897, took 36.932 s\n"
     ]
    },
    {
     "data": {
      "application/vnd.jupyter.widget-view+json": {
       "model_id": "",
       "version_major": 2,
       "version_minor": 0
      },
      "text/plain": [
       "HBox(children=(FloatProgress(value=0.0, description='Training', layout=Layout(flex='2'), max=1125.0, style=Pro…"
      ]
     },
     "metadata": {},
     "output_type": "display_data"
    },
    {
     "name": "stdout",
     "output_type": "stream",
     "text": [
      "Epoch 617: train=0.932147, val=0.977527, took 36.856 s\n"
     ]
    },
    {
     "data": {
      "application/vnd.jupyter.widget-view+json": {
       "model_id": "",
       "version_major": 2,
       "version_minor": 0
      },
      "text/plain": [
       "HBox(children=(FloatProgress(value=0.0, description='Training', layout=Layout(flex='2'), max=1125.0, style=Pro…"
      ]
     },
     "metadata": {},
     "output_type": "display_data"
    },
    {
     "name": "stdout",
     "output_type": "stream",
     "text": [
      "Epoch 618: train=0.932654, val=0.981024, took 36.833 s\n"
     ]
    },
    {
     "data": {
      "application/vnd.jupyter.widget-view+json": {
       "model_id": "",
       "version_major": 2,
       "version_minor": 0
      },
      "text/plain": [
       "HBox(children=(FloatProgress(value=0.0, description='Training', layout=Layout(flex='2'), max=1125.0, style=Pro…"
      ]
     },
     "metadata": {},
     "output_type": "display_data"
    },
    {
     "name": "stdout",
     "output_type": "stream",
     "text": [
      "Epoch 619: train=0.925982, val=0.955187, took 36.935 s\n"
     ]
    },
    {
     "data": {
      "application/vnd.jupyter.widget-view+json": {
       "model_id": "",
       "version_major": 2,
       "version_minor": 0
      },
      "text/plain": [
       "HBox(children=(FloatProgress(value=0.0, description='Training', layout=Layout(flex='2'), max=1125.0, style=Pro…"
      ]
     },
     "metadata": {},
     "output_type": "display_data"
    },
    {
     "name": "stdout",
     "output_type": "stream",
     "text": [
      "Epoch 620: train=0.927809, val=1.02503, took 37.05 s\n"
     ]
    },
    {
     "data": {
      "application/vnd.jupyter.widget-view+json": {
       "model_id": "",
       "version_major": 2,
       "version_minor": 0
      },
      "text/plain": [
       "HBox(children=(FloatProgress(value=0.0, description='Training', layout=Layout(flex='2'), max=1125.0, style=Pro…"
      ]
     },
     "metadata": {},
     "output_type": "display_data"
    },
    {
     "name": "stdout",
     "output_type": "stream",
     "text": [
      "Epoch 621: train=0.925459, val=0.947076, took 36.903 s\n"
     ]
    },
    {
     "data": {
      "application/vnd.jupyter.widget-view+json": {
       "model_id": "",
       "version_major": 2,
       "version_minor": 0
      },
      "text/plain": [
       "HBox(children=(FloatProgress(value=0.0, description='Training', layout=Layout(flex='2'), max=1125.0, style=Pro…"
      ]
     },
     "metadata": {},
     "output_type": "display_data"
    },
    {
     "name": "stdout",
     "output_type": "stream",
     "text": [
      "Epoch 622: train=0.933014, val=0.957076, took 36.823 s\n"
     ]
    },
    {
     "data": {
      "application/vnd.jupyter.widget-view+json": {
       "model_id": "",
       "version_major": 2,
       "version_minor": 0
      },
      "text/plain": [
       "HBox(children=(FloatProgress(value=0.0, description='Training', layout=Layout(flex='2'), max=1125.0, style=Pro…"
      ]
     },
     "metadata": {},
     "output_type": "display_data"
    },
    {
     "name": "stdout",
     "output_type": "stream",
     "text": [
      "Epoch 623: train=0.928806, val=0.963212, took 37.021 s\n"
     ]
    },
    {
     "data": {
      "application/vnd.jupyter.widget-view+json": {
       "model_id": "",
       "version_major": 2,
       "version_minor": 0
      },
      "text/plain": [
       "HBox(children=(FloatProgress(value=0.0, description='Training', layout=Layout(flex='2'), max=1125.0, style=Pro…"
      ]
     },
     "metadata": {},
     "output_type": "display_data"
    },
    {
     "name": "stdout",
     "output_type": "stream",
     "text": [
      "Epoch 624: train=0.926033, val=0.953336, took 36.839 s\n"
     ]
    },
    {
     "data": {
      "application/vnd.jupyter.widget-view+json": {
       "model_id": "",
       "version_major": 2,
       "version_minor": 0
      },
      "text/plain": [
       "HBox(children=(FloatProgress(value=0.0, description='Training', layout=Layout(flex='2'), max=1125.0, style=Pro…"
      ]
     },
     "metadata": {},
     "output_type": "display_data"
    },
    {
     "name": "stdout",
     "output_type": "stream",
     "text": [
      "Epoch 625: train=0.92233, val=0.952975, took 36.908 s\n"
     ]
    },
    {
     "data": {
      "application/vnd.jupyter.widget-view+json": {
       "model_id": "",
       "version_major": 2,
       "version_minor": 0
      },
      "text/plain": [
       "HBox(children=(FloatProgress(value=0.0, description='Training', layout=Layout(flex='2'), max=1125.0, style=Pro…"
      ]
     },
     "metadata": {},
     "output_type": "display_data"
    },
    {
     "name": "stdout",
     "output_type": "stream",
     "text": [
      "Epoch 626: train=0.933446, val=0.950964, took 37.13 s\n"
     ]
    },
    {
     "data": {
      "application/vnd.jupyter.widget-view+json": {
       "model_id": "",
       "version_major": 2,
       "version_minor": 0
      },
      "text/plain": [
       "HBox(children=(FloatProgress(value=0.0, description='Training', layout=Layout(flex='2'), max=1125.0, style=Pro…"
      ]
     },
     "metadata": {},
     "output_type": "display_data"
    },
    {
     "name": "stdout",
     "output_type": "stream",
     "text": [
      "Epoch 627: train=0.929393, val=0.955113, took 37.081 s\n"
     ]
    },
    {
     "data": {
      "application/vnd.jupyter.widget-view+json": {
       "model_id": "",
       "version_major": 2,
       "version_minor": 0
      },
      "text/plain": [
       "HBox(children=(FloatProgress(value=0.0, description='Training', layout=Layout(flex='2'), max=1125.0, style=Pro…"
      ]
     },
     "metadata": {},
     "output_type": "display_data"
    },
    {
     "name": "stdout",
     "output_type": "stream",
     "text": [
      "Epoch 628: train=0.925204, val=0.977361, took 36.826 s\n"
     ]
    },
    {
     "data": {
      "application/vnd.jupyter.widget-view+json": {
       "model_id": "",
       "version_major": 2,
       "version_minor": 0
      },
      "text/plain": [
       "HBox(children=(FloatProgress(value=0.0, description='Training', layout=Layout(flex='2'), max=1125.0, style=Pro…"
      ]
     },
     "metadata": {},
     "output_type": "display_data"
    },
    {
     "name": "stdout",
     "output_type": "stream",
     "text": [
      "Epoch 629: train=0.928079, val=0.951208, took 37.065 s\n"
     ]
    },
    {
     "data": {
      "application/vnd.jupyter.widget-view+json": {
       "model_id": "",
       "version_major": 2,
       "version_minor": 0
      },
      "text/plain": [
       "HBox(children=(FloatProgress(value=0.0, description='Training', layout=Layout(flex='2'), max=1125.0, style=Pro…"
      ]
     },
     "metadata": {},
     "output_type": "display_data"
    },
    {
     "name": "stdout",
     "output_type": "stream",
     "text": [
      "Epoch 630: train=0.925744, val=0.947925, took 37.005 s\n"
     ]
    },
    {
     "data": {
      "application/vnd.jupyter.widget-view+json": {
       "model_id": "",
       "version_major": 2,
       "version_minor": 0
      },
      "text/plain": [
       "HBox(children=(FloatProgress(value=0.0, description='Training', layout=Layout(flex='2'), max=1125.0, style=Pro…"
      ]
     },
     "metadata": {},
     "output_type": "display_data"
    },
    {
     "name": "stdout",
     "output_type": "stream",
     "text": [
      "Epoch 631: train=0.929347, val=0.95063, took 36.961 s\n"
     ]
    },
    {
     "data": {
      "application/vnd.jupyter.widget-view+json": {
       "model_id": "",
       "version_major": 2,
       "version_minor": 0
      },
      "text/plain": [
       "HBox(children=(FloatProgress(value=0.0, description='Training', layout=Layout(flex='2'), max=1125.0, style=Pro…"
      ]
     },
     "metadata": {},
     "output_type": "display_data"
    },
    {
     "name": "stdout",
     "output_type": "stream",
     "text": [
      "Epoch 632: train=0.926434, val=0.947118, took 36.813 s\n"
     ]
    },
    {
     "data": {
      "application/vnd.jupyter.widget-view+json": {
       "model_id": "",
       "version_major": 2,
       "version_minor": 0
      },
      "text/plain": [
       "HBox(children=(FloatProgress(value=0.0, description='Training', layout=Layout(flex='2'), max=1125.0, style=Pro…"
      ]
     },
     "metadata": {},
     "output_type": "display_data"
    },
    {
     "name": "stdout",
     "output_type": "stream",
     "text": [
      "Epoch 633: train=0.924342, val=0.947538, took 36.903 s\n"
     ]
    },
    {
     "data": {
      "application/vnd.jupyter.widget-view+json": {
       "model_id": "",
       "version_major": 2,
       "version_minor": 0
      },
      "text/plain": [
       "HBox(children=(FloatProgress(value=0.0, description='Training', layout=Layout(flex='2'), max=1125.0, style=Pro…"
      ]
     },
     "metadata": {},
     "output_type": "display_data"
    },
    {
     "name": "stdout",
     "output_type": "stream",
     "text": [
      "Epoch 634: train=0.927525, val=0.967002, took 36.879 s\n"
     ]
    },
    {
     "data": {
      "application/vnd.jupyter.widget-view+json": {
       "model_id": "",
       "version_major": 2,
       "version_minor": 0
      },
      "text/plain": [
       "HBox(children=(FloatProgress(value=0.0, description='Training', layout=Layout(flex='2'), max=1125.0, style=Pro…"
      ]
     },
     "metadata": {},
     "output_type": "display_data"
    },
    {
     "name": "stdout",
     "output_type": "stream",
     "text": [
      "Epoch 635: train=0.933299, val=0.952785, took 36.875 s\n"
     ]
    },
    {
     "data": {
      "application/vnd.jupyter.widget-view+json": {
       "model_id": "",
       "version_major": 2,
       "version_minor": 0
      },
      "text/plain": [
       "HBox(children=(FloatProgress(value=0.0, description='Training', layout=Layout(flex='2'), max=1125.0, style=Pro…"
      ]
     },
     "metadata": {},
     "output_type": "display_data"
    },
    {
     "name": "stdout",
     "output_type": "stream",
     "text": [
      "Epoch 636: train=0.930257, val=0.968407, took 36.998 s\n"
     ]
    },
    {
     "data": {
      "application/vnd.jupyter.widget-view+json": {
       "model_id": "",
       "version_major": 2,
       "version_minor": 0
      },
      "text/plain": [
       "HBox(children=(FloatProgress(value=0.0, description='Training', layout=Layout(flex='2'), max=1125.0, style=Pro…"
      ]
     },
     "metadata": {},
     "output_type": "display_data"
    },
    {
     "name": "stdout",
     "output_type": "stream",
     "text": [
      "Epoch 637: train=0.922115, val=0.983762, took 36.927 s\n"
     ]
    },
    {
     "data": {
      "application/vnd.jupyter.widget-view+json": {
       "model_id": "",
       "version_major": 2,
       "version_minor": 0
      },
      "text/plain": [
       "HBox(children=(FloatProgress(value=0.0, description='Training', layout=Layout(flex='2'), max=1125.0, style=Pro…"
      ]
     },
     "metadata": {},
     "output_type": "display_data"
    },
    {
     "name": "stdout",
     "output_type": "stream",
     "text": [
      "Epoch 638: train=0.929398, val=0.981258, took 36.83 s\n"
     ]
    },
    {
     "data": {
      "application/vnd.jupyter.widget-view+json": {
       "model_id": "",
       "version_major": 2,
       "version_minor": 0
      },
      "text/plain": [
       "HBox(children=(FloatProgress(value=0.0, description='Training', layout=Layout(flex='2'), max=1125.0, style=Pro…"
      ]
     },
     "metadata": {},
     "output_type": "display_data"
    },
    {
     "name": "stdout",
     "output_type": "stream",
     "text": [
      "Epoch 639: train=0.927685, val=0.951009, took 36.863 s\n"
     ]
    },
    {
     "data": {
      "application/vnd.jupyter.widget-view+json": {
       "model_id": "",
       "version_major": 2,
       "version_minor": 0
      },
      "text/plain": [
       "HBox(children=(FloatProgress(value=0.0, description='Training', layout=Layout(flex='2'), max=1125.0, style=Pro…"
      ]
     },
     "metadata": {},
     "output_type": "display_data"
    },
    {
     "name": "stdout",
     "output_type": "stream",
     "text": [
      "Epoch 640: train=0.931553, val=0.976608, took 36.852 s\n"
     ]
    },
    {
     "data": {
      "application/vnd.jupyter.widget-view+json": {
       "model_id": "",
       "version_major": 2,
       "version_minor": 0
      },
      "text/plain": [
       "HBox(children=(FloatProgress(value=0.0, description='Training', layout=Layout(flex='2'), max=1125.0, style=Pro…"
      ]
     },
     "metadata": {},
     "output_type": "display_data"
    },
    {
     "name": "stdout",
     "output_type": "stream",
     "text": [
      "Epoch 641: train=0.923275, val=0.948247, took 37.069 s\n"
     ]
    },
    {
     "data": {
      "application/vnd.jupyter.widget-view+json": {
       "model_id": "",
       "version_major": 2,
       "version_minor": 0
      },
      "text/plain": [
       "HBox(children=(FloatProgress(value=0.0, description='Training', layout=Layout(flex='2'), max=1125.0, style=Pro…"
      ]
     },
     "metadata": {},
     "output_type": "display_data"
    },
    {
     "name": "stdout",
     "output_type": "stream",
     "text": [
      "Epoch 642: train=0.931321, val=0.958331, took 36.907 s\n"
     ]
    },
    {
     "data": {
      "application/vnd.jupyter.widget-view+json": {
       "model_id": "",
       "version_major": 2,
       "version_minor": 0
      },
      "text/plain": [
       "HBox(children=(FloatProgress(value=0.0, description='Training', layout=Layout(flex='2'), max=1125.0, style=Pro…"
      ]
     },
     "metadata": {},
     "output_type": "display_data"
    },
    {
     "name": "stdout",
     "output_type": "stream",
     "text": [
      "Epoch 643: train=0.930145, val=0.979222, took 36.813 s\n"
     ]
    },
    {
     "data": {
      "application/vnd.jupyter.widget-view+json": {
       "model_id": "",
       "version_major": 2,
       "version_minor": 0
      },
      "text/plain": [
       "HBox(children=(FloatProgress(value=0.0, description='Training', layout=Layout(flex='2'), max=1125.0, style=Pro…"
      ]
     },
     "metadata": {},
     "output_type": "display_data"
    },
    {
     "name": "stdout",
     "output_type": "stream",
     "text": [
      "Epoch 644: train=0.929806, val=0.949151, took 36.991 s\n"
     ]
    },
    {
     "data": {
      "application/vnd.jupyter.widget-view+json": {
       "model_id": "",
       "version_major": 2,
       "version_minor": 0
      },
      "text/plain": [
       "HBox(children=(FloatProgress(value=0.0, description='Training', layout=Layout(flex='2'), max=1125.0, style=Pro…"
      ]
     },
     "metadata": {},
     "output_type": "display_data"
    },
    {
     "name": "stdout",
     "output_type": "stream",
     "text": [
      "Epoch 645: train=0.927945, val=0.956639, took 36.838 s\n"
     ]
    },
    {
     "data": {
      "application/vnd.jupyter.widget-view+json": {
       "model_id": "",
       "version_major": 2,
       "version_minor": 0
      },
      "text/plain": [
       "HBox(children=(FloatProgress(value=0.0, description='Training', layout=Layout(flex='2'), max=1125.0, style=Pro…"
      ]
     },
     "metadata": {},
     "output_type": "display_data"
    },
    {
     "name": "stdout",
     "output_type": "stream",
     "text": [
      "Epoch 646: train=0.92674, val=0.947749, took 36.768 s\n"
     ]
    },
    {
     "data": {
      "application/vnd.jupyter.widget-view+json": {
       "model_id": "",
       "version_major": 2,
       "version_minor": 0
      },
      "text/plain": [
       "HBox(children=(FloatProgress(value=0.0, description='Training', layout=Layout(flex='2'), max=1125.0, style=Pro…"
      ]
     },
     "metadata": {},
     "output_type": "display_data"
    },
    {
     "name": "stdout",
     "output_type": "stream",
     "text": [
      "Epoch 647: train=0.930674, val=0.963605, took 36.963 s\n"
     ]
    },
    {
     "data": {
      "application/vnd.jupyter.widget-view+json": {
       "model_id": "",
       "version_major": 2,
       "version_minor": 0
      },
      "text/plain": [
       "HBox(children=(FloatProgress(value=0.0, description='Training', layout=Layout(flex='2'), max=1125.0, style=Pro…"
      ]
     },
     "metadata": {},
     "output_type": "display_data"
    },
    {
     "name": "stdout",
     "output_type": "stream",
     "text": [
      "Epoch 648: train=0.931606, val=0.973734, took 36.864 s\n"
     ]
    },
    {
     "data": {
      "application/vnd.jupyter.widget-view+json": {
       "model_id": "",
       "version_major": 2,
       "version_minor": 0
      },
      "text/plain": [
       "HBox(children=(FloatProgress(value=0.0, description='Training', layout=Layout(flex='2'), max=1125.0, style=Pro…"
      ]
     },
     "metadata": {},
     "output_type": "display_data"
    },
    {
     "name": "stdout",
     "output_type": "stream",
     "text": [
      "Epoch 649: train=0.930562, val=0.955787, took 36.907 s\n"
     ]
    },
    {
     "data": {
      "application/vnd.jupyter.widget-view+json": {
       "model_id": "",
       "version_major": 2,
       "version_minor": 0
      },
      "text/plain": [
       "HBox(children=(FloatProgress(value=0.0, description='Training', layout=Layout(flex='2'), max=1125.0, style=Pro…"
      ]
     },
     "metadata": {},
     "output_type": "display_data"
    },
    {
     "name": "stdout",
     "output_type": "stream",
     "text": [
      "Epoch 650: train=0.929476, val=0.951027, took 36.876 s\n"
     ]
    },
    {
     "data": {
      "application/vnd.jupyter.widget-view+json": {
       "model_id": "",
       "version_major": 2,
       "version_minor": 0
      },
      "text/plain": [
       "HBox(children=(FloatProgress(value=0.0, description='Training', layout=Layout(flex='2'), max=1125.0, style=Pro…"
      ]
     },
     "metadata": {},
     "output_type": "display_data"
    },
    {
     "name": "stdout",
     "output_type": "stream",
     "text": [
      "Epoch 651: train=0.926843, val=0.952034, took 36.9 s\n"
     ]
    },
    {
     "data": {
      "application/vnd.jupyter.widget-view+json": {
       "model_id": "",
       "version_major": 2,
       "version_minor": 0
      },
      "text/plain": [
       "HBox(children=(FloatProgress(value=0.0, description='Training', layout=Layout(flex='2'), max=1125.0, style=Pro…"
      ]
     },
     "metadata": {},
     "output_type": "display_data"
    },
    {
     "name": "stdout",
     "output_type": "stream",
     "text": [
      "Epoch 652: train=0.926752, val=0.978491, took 36.998 s\n"
     ]
    },
    {
     "data": {
      "application/vnd.jupyter.widget-view+json": {
       "model_id": "",
       "version_major": 2,
       "version_minor": 0
      },
      "text/plain": [
       "HBox(children=(FloatProgress(value=0.0, description='Training', layout=Layout(flex='2'), max=1125.0, style=Pro…"
      ]
     },
     "metadata": {},
     "output_type": "display_data"
    },
    {
     "name": "stdout",
     "output_type": "stream",
     "text": [
      "Epoch 653: train=0.925661, val=0.950621, took 36.959 s\n"
     ]
    },
    {
     "data": {
      "application/vnd.jupyter.widget-view+json": {
       "model_id": "",
       "version_major": 2,
       "version_minor": 0
      },
      "text/plain": [
       "HBox(children=(FloatProgress(value=0.0, description='Training', layout=Layout(flex='2'), max=1125.0, style=Pro…"
      ]
     },
     "metadata": {},
     "output_type": "display_data"
    },
    {
     "name": "stdout",
     "output_type": "stream",
     "text": [
      "Epoch 654: train=0.924444, val=0.945467, took 36.825 s\n"
     ]
    },
    {
     "data": {
      "application/vnd.jupyter.widget-view+json": {
       "model_id": "",
       "version_major": 2,
       "version_minor": 0
      },
      "text/plain": [
       "HBox(children=(FloatProgress(value=0.0, description='Training', layout=Layout(flex='2'), max=1125.0, style=Pro…"
      ]
     },
     "metadata": {},
     "output_type": "display_data"
    },
    {
     "name": "stdout",
     "output_type": "stream",
     "text": [
      "Epoch 655: train=0.926932, val=0.946257, took 36.907 s\n"
     ]
    },
    {
     "data": {
      "application/vnd.jupyter.widget-view+json": {
       "model_id": "",
       "version_major": 2,
       "version_minor": 0
      },
      "text/plain": [
       "HBox(children=(FloatProgress(value=0.0, description='Training', layout=Layout(flex='2'), max=1125.0, style=Pro…"
      ]
     },
     "metadata": {},
     "output_type": "display_data"
    },
    {
     "name": "stdout",
     "output_type": "stream",
     "text": [
      "Epoch 656: train=0.926074, val=0.971796, took 37.009 s\n"
     ]
    },
    {
     "data": {
      "application/vnd.jupyter.widget-view+json": {
       "model_id": "",
       "version_major": 2,
       "version_minor": 0
      },
      "text/plain": [
       "HBox(children=(FloatProgress(value=0.0, description='Training', layout=Layout(flex='2'), max=1125.0, style=Pro…"
      ]
     },
     "metadata": {},
     "output_type": "display_data"
    },
    {
     "name": "stdout",
     "output_type": "stream",
     "text": [
      "Epoch 657: train=0.930571, val=0.951641, took 37.222 s\n"
     ]
    },
    {
     "data": {
      "application/vnd.jupyter.widget-view+json": {
       "model_id": "",
       "version_major": 2,
       "version_minor": 0
      },
      "text/plain": [
       "HBox(children=(FloatProgress(value=0.0, description='Training', layout=Layout(flex='2'), max=1125.0, style=Pro…"
      ]
     },
     "metadata": {},
     "output_type": "display_data"
    },
    {
     "name": "stdout",
     "output_type": "stream",
     "text": [
      "Epoch 658: train=0.925428, val=0.953081, took 36.91 s\n"
     ]
    },
    {
     "data": {
      "application/vnd.jupyter.widget-view+json": {
       "model_id": "",
       "version_major": 2,
       "version_minor": 0
      },
      "text/plain": [
       "HBox(children=(FloatProgress(value=0.0, description='Training', layout=Layout(flex='2'), max=1125.0, style=Pro…"
      ]
     },
     "metadata": {},
     "output_type": "display_data"
    },
    {
     "name": "stdout",
     "output_type": "stream",
     "text": [
      "Epoch 659: train=0.927309, val=0.948591, took 36.823 s\n"
     ]
    },
    {
     "data": {
      "application/vnd.jupyter.widget-view+json": {
       "model_id": "",
       "version_major": 2,
       "version_minor": 0
      },
      "text/plain": [
       "HBox(children=(FloatProgress(value=0.0, description='Training', layout=Layout(flex='2'), max=1125.0, style=Pro…"
      ]
     },
     "metadata": {},
     "output_type": "display_data"
    },
    {
     "name": "stdout",
     "output_type": "stream",
     "text": [
      "Epoch 660: train=0.922991, val=0.947338, took 36.872 s\n"
     ]
    },
    {
     "data": {
      "application/vnd.jupyter.widget-view+json": {
       "model_id": "",
       "version_major": 2,
       "version_minor": 0
      },
      "text/plain": [
       "HBox(children=(FloatProgress(value=0.0, description='Training', layout=Layout(flex='2'), max=1125.0, style=Pro…"
      ]
     },
     "metadata": {},
     "output_type": "display_data"
    },
    {
     "name": "stdout",
     "output_type": "stream",
     "text": [
      "Epoch 661: train=0.930761, val=0.961971, took 36.782 s\n"
     ]
    },
    {
     "data": {
      "application/vnd.jupyter.widget-view+json": {
       "model_id": "",
       "version_major": 2,
       "version_minor": 0
      },
      "text/plain": [
       "HBox(children=(FloatProgress(value=0.0, description='Training', layout=Layout(flex='2'), max=1125.0, style=Pro…"
      ]
     },
     "metadata": {},
     "output_type": "display_data"
    },
    {
     "name": "stdout",
     "output_type": "stream",
     "text": [
      "Epoch 662: train=0.927799, val=0.954011, took 36.852 s\n"
     ]
    },
    {
     "data": {
      "application/vnd.jupyter.widget-view+json": {
       "model_id": "",
       "version_major": 2,
       "version_minor": 0
      },
      "text/plain": [
       "HBox(children=(FloatProgress(value=0.0, description='Training', layout=Layout(flex='2'), max=1125.0, style=Pro…"
      ]
     },
     "metadata": {},
     "output_type": "display_data"
    },
    {
     "name": "stdout",
     "output_type": "stream",
     "text": [
      "Epoch 663: train=0.922538, val=0.95359, took 36.927 s\n"
     ]
    },
    {
     "data": {
      "application/vnd.jupyter.widget-view+json": {
       "model_id": "",
       "version_major": 2,
       "version_minor": 0
      },
      "text/plain": [
       "HBox(children=(FloatProgress(value=0.0, description='Training', layout=Layout(flex='2'), max=1125.0, style=Pro…"
      ]
     },
     "metadata": {},
     "output_type": "display_data"
    },
    {
     "name": "stdout",
     "output_type": "stream",
     "text": [
      "Epoch 664: train=0.926666, val=0.947931, took 36.83 s\n"
     ]
    },
    {
     "data": {
      "application/vnd.jupyter.widget-view+json": {
       "model_id": "",
       "version_major": 2,
       "version_minor": 0
      },
      "text/plain": [
       "HBox(children=(FloatProgress(value=0.0, description='Training', layout=Layout(flex='2'), max=1125.0, style=Pro…"
      ]
     },
     "metadata": {},
     "output_type": "display_data"
    },
    {
     "name": "stdout",
     "output_type": "stream",
     "text": [
      "Epoch 665: train=0.927501, val=0.948676, took 36.904 s\n"
     ]
    },
    {
     "data": {
      "application/vnd.jupyter.widget-view+json": {
       "model_id": "",
       "version_major": 2,
       "version_minor": 0
      },
      "text/plain": [
       "HBox(children=(FloatProgress(value=0.0, description='Training', layout=Layout(flex='2'), max=1125.0, style=Pro…"
      ]
     },
     "metadata": {},
     "output_type": "display_data"
    },
    {
     "name": "stdout",
     "output_type": "stream",
     "text": [
      "Epoch 666: train=0.927053, val=0.954316, took 36.855 s\n"
     ]
    },
    {
     "data": {
      "application/vnd.jupyter.widget-view+json": {
       "model_id": "",
       "version_major": 2,
       "version_minor": 0
      },
      "text/plain": [
       "HBox(children=(FloatProgress(value=0.0, description='Training', layout=Layout(flex='2'), max=1125.0, style=Pro…"
      ]
     },
     "metadata": {},
     "output_type": "display_data"
    },
    {
     "name": "stdout",
     "output_type": "stream",
     "text": [
      "Epoch 667: train=0.921603, val=1.01144, took 36.955 s\n"
     ]
    },
    {
     "data": {
      "application/vnd.jupyter.widget-view+json": {
       "model_id": "",
       "version_major": 2,
       "version_minor": 0
      },
      "text/plain": [
       "HBox(children=(FloatProgress(value=0.0, description='Training', layout=Layout(flex='2'), max=1125.0, style=Pro…"
      ]
     },
     "metadata": {},
     "output_type": "display_data"
    },
    {
     "name": "stdout",
     "output_type": "stream",
     "text": [
      "Epoch 668: train=0.926283, val=0.952689, took 36.952 s\n"
     ]
    },
    {
     "data": {
      "application/vnd.jupyter.widget-view+json": {
       "model_id": "",
       "version_major": 2,
       "version_minor": 0
      },
      "text/plain": [
       "HBox(children=(FloatProgress(value=0.0, description='Training', layout=Layout(flex='2'), max=1125.0, style=Pro…"
      ]
     },
     "metadata": {},
     "output_type": "display_data"
    },
    {
     "name": "stdout",
     "output_type": "stream",
     "text": [
      "Epoch 669: train=0.922501, val=0.949566, took 36.836 s\n"
     ]
    },
    {
     "data": {
      "application/vnd.jupyter.widget-view+json": {
       "model_id": "",
       "version_major": 2,
       "version_minor": 0
      },
      "text/plain": [
       "HBox(children=(FloatProgress(value=0.0, description='Training', layout=Layout(flex='2'), max=1125.0, style=Pro…"
      ]
     },
     "metadata": {},
     "output_type": "display_data"
    },
    {
     "name": "stdout",
     "output_type": "stream",
     "text": [
      "Epoch 670: train=0.930255, val=0.971061, took 37.01 s\n"
     ]
    },
    {
     "data": {
      "application/vnd.jupyter.widget-view+json": {
       "model_id": "",
       "version_major": 2,
       "version_minor": 0
      },
      "text/plain": [
       "HBox(children=(FloatProgress(value=0.0, description='Training', layout=Layout(flex='2'), max=1125.0, style=Pro…"
      ]
     },
     "metadata": {},
     "output_type": "display_data"
    },
    {
     "name": "stdout",
     "output_type": "stream",
     "text": [
      "Epoch 671: train=0.9222, val=0.964767, took 37.066 s\n"
     ]
    },
    {
     "data": {
      "application/vnd.jupyter.widget-view+json": {
       "model_id": "",
       "version_major": 2,
       "version_minor": 0
      },
      "text/plain": [
       "HBox(children=(FloatProgress(value=0.0, description='Training', layout=Layout(flex='2'), max=1125.0, style=Pro…"
      ]
     },
     "metadata": {},
     "output_type": "display_data"
    },
    {
     "name": "stdout",
     "output_type": "stream",
     "text": [
      "Epoch 672: train=0.926078, val=0.949072, took 36.969 s\n"
     ]
    },
    {
     "data": {
      "application/vnd.jupyter.widget-view+json": {
       "model_id": "",
       "version_major": 2,
       "version_minor": 0
      },
      "text/plain": [
       "HBox(children=(FloatProgress(value=0.0, description='Training', layout=Layout(flex='2'), max=1125.0, style=Pro…"
      ]
     },
     "metadata": {},
     "output_type": "display_data"
    },
    {
     "name": "stdout",
     "output_type": "stream",
     "text": [
      "Epoch 673: train=0.930623, val=0.953874, took 36.969 s\n"
     ]
    },
    {
     "data": {
      "application/vnd.jupyter.widget-view+json": {
       "model_id": "",
       "version_major": 2,
       "version_minor": 0
      },
      "text/plain": [
       "HBox(children=(FloatProgress(value=0.0, description='Training', layout=Layout(flex='2'), max=1125.0, style=Pro…"
      ]
     },
     "metadata": {},
     "output_type": "display_data"
    },
    {
     "name": "stdout",
     "output_type": "stream",
     "text": [
      "Epoch 674: train=0.926807, val=0.948302, took 36.872 s\n"
     ]
    },
    {
     "data": {
      "application/vnd.jupyter.widget-view+json": {
       "model_id": "",
       "version_major": 2,
       "version_minor": 0
      },
      "text/plain": [
       "HBox(children=(FloatProgress(value=0.0, description='Training', layout=Layout(flex='2'), max=1125.0, style=Pro…"
      ]
     },
     "metadata": {},
     "output_type": "display_data"
    },
    {
     "name": "stdout",
     "output_type": "stream",
     "text": [
      "Epoch 675: train=0.924765, val=0.961503, took 36.753 s\n"
     ]
    },
    {
     "data": {
      "application/vnd.jupyter.widget-view+json": {
       "model_id": "",
       "version_major": 2,
       "version_minor": 0
      },
      "text/plain": [
       "HBox(children=(FloatProgress(value=0.0, description='Training', layout=Layout(flex='2'), max=1125.0, style=Pro…"
      ]
     },
     "metadata": {},
     "output_type": "display_data"
    },
    {
     "name": "stdout",
     "output_type": "stream",
     "text": [
      "Epoch 676: train=0.922445, val=0.954217, took 36.958 s\n"
     ]
    },
    {
     "data": {
      "application/vnd.jupyter.widget-view+json": {
       "model_id": "",
       "version_major": 2,
       "version_minor": 0
      },
      "text/plain": [
       "HBox(children=(FloatProgress(value=0.0, description='Training', layout=Layout(flex='2'), max=1125.0, style=Pro…"
      ]
     },
     "metadata": {},
     "output_type": "display_data"
    },
    {
     "name": "stdout",
     "output_type": "stream",
     "text": [
      "Epoch 677: train=0.926506, val=0.950356, took 36.875 s\n"
     ]
    },
    {
     "data": {
      "application/vnd.jupyter.widget-view+json": {
       "model_id": "",
       "version_major": 2,
       "version_minor": 0
      },
      "text/plain": [
       "HBox(children=(FloatProgress(value=0.0, description='Training', layout=Layout(flex='2'), max=1125.0, style=Pro…"
      ]
     },
     "metadata": {},
     "output_type": "display_data"
    },
    {
     "name": "stdout",
     "output_type": "stream",
     "text": [
      "Epoch 678: train=0.928162, val=1.01711, took 36.897 s\n"
     ]
    },
    {
     "data": {
      "application/vnd.jupyter.widget-view+json": {
       "model_id": "",
       "version_major": 2,
       "version_minor": 0
      },
      "text/plain": [
       "HBox(children=(FloatProgress(value=0.0, description='Training', layout=Layout(flex='2'), max=1125.0, style=Pro…"
      ]
     },
     "metadata": {},
     "output_type": "display_data"
    },
    {
     "name": "stdout",
     "output_type": "stream",
     "text": [
      "Epoch 679: train=0.924049, val=0.951104, took 36.837 s\n"
     ]
    },
    {
     "data": {
      "application/vnd.jupyter.widget-view+json": {
       "model_id": "",
       "version_major": 2,
       "version_minor": 0
      },
      "text/plain": [
       "HBox(children=(FloatProgress(value=0.0, description='Training', layout=Layout(flex='2'), max=1125.0, style=Pro…"
      ]
     },
     "metadata": {},
     "output_type": "display_data"
    },
    {
     "name": "stdout",
     "output_type": "stream",
     "text": [
      "Epoch 680: train=0.928144, val=0.959298, took 36.954 s\n"
     ]
    },
    {
     "data": {
      "application/vnd.jupyter.widget-view+json": {
       "model_id": "",
       "version_major": 2,
       "version_minor": 0
      },
      "text/plain": [
       "HBox(children=(FloatProgress(value=0.0, description='Training', layout=Layout(flex='2'), max=1125.0, style=Pro…"
      ]
     },
     "metadata": {},
     "output_type": "display_data"
    },
    {
     "name": "stdout",
     "output_type": "stream",
     "text": [
      "Epoch 681: train=0.921586, val=0.94804, took 36.887 s\n"
     ]
    },
    {
     "data": {
      "application/vnd.jupyter.widget-view+json": {
       "model_id": "",
       "version_major": 2,
       "version_minor": 0
      },
      "text/plain": [
       "HBox(children=(FloatProgress(value=0.0, description='Training', layout=Layout(flex='2'), max=1125.0, style=Pro…"
      ]
     },
     "metadata": {},
     "output_type": "display_data"
    },
    {
     "name": "stdout",
     "output_type": "stream",
     "text": [
      "Epoch 682: train=0.922377, val=0.95076, took 36.832 s\n"
     ]
    },
    {
     "data": {
      "application/vnd.jupyter.widget-view+json": {
       "model_id": "",
       "version_major": 2,
       "version_minor": 0
      },
      "text/plain": [
       "HBox(children=(FloatProgress(value=0.0, description='Training', layout=Layout(flex='2'), max=1125.0, style=Pro…"
      ]
     },
     "metadata": {},
     "output_type": "display_data"
    },
    {
     "name": "stdout",
     "output_type": "stream",
     "text": [
      "Epoch 683: train=0.927902, val=0.952754, took 36.986 s\n"
     ]
    },
    {
     "data": {
      "application/vnd.jupyter.widget-view+json": {
       "model_id": "",
       "version_major": 2,
       "version_minor": 0
      },
      "text/plain": [
       "HBox(children=(FloatProgress(value=0.0, description='Training', layout=Layout(flex='2'), max=1125.0, style=Pro…"
      ]
     },
     "metadata": {},
     "output_type": "display_data"
    },
    {
     "name": "stdout",
     "output_type": "stream",
     "text": [
      "Epoch 684: train=0.924754, val=0.954555, took 37.0 s\n"
     ]
    },
    {
     "data": {
      "application/vnd.jupyter.widget-view+json": {
       "model_id": "",
       "version_major": 2,
       "version_minor": 0
      },
      "text/plain": [
       "HBox(children=(FloatProgress(value=0.0, description='Training', layout=Layout(flex='2'), max=1125.0, style=Pro…"
      ]
     },
     "metadata": {},
     "output_type": "display_data"
    },
    {
     "name": "stdout",
     "output_type": "stream",
     "text": [
      "Epoch 685: train=0.929902, val=0.948014, took 37.116 s\n"
     ]
    },
    {
     "data": {
      "application/vnd.jupyter.widget-view+json": {
       "model_id": "",
       "version_major": 2,
       "version_minor": 0
      },
      "text/plain": [
       "HBox(children=(FloatProgress(value=0.0, description='Training', layout=Layout(flex='2'), max=1125.0, style=Pro…"
      ]
     },
     "metadata": {},
     "output_type": "display_data"
    },
    {
     "name": "stdout",
     "output_type": "stream",
     "text": [
      "Epoch 686: train=0.926143, val=0.97873, took 36.963 s\n"
     ]
    },
    {
     "data": {
      "application/vnd.jupyter.widget-view+json": {
       "model_id": "",
       "version_major": 2,
       "version_minor": 0
      },
      "text/plain": [
       "HBox(children=(FloatProgress(value=0.0, description='Training', layout=Layout(flex='2'), max=1125.0, style=Pro…"
      ]
     },
     "metadata": {},
     "output_type": "display_data"
    },
    {
     "name": "stdout",
     "output_type": "stream",
     "text": [
      "Epoch 687: train=0.926573, val=0.962558, took 36.983 s\n"
     ]
    },
    {
     "data": {
      "application/vnd.jupyter.widget-view+json": {
       "model_id": "",
       "version_major": 2,
       "version_minor": 0
      },
      "text/plain": [
       "HBox(children=(FloatProgress(value=0.0, description='Training', layout=Layout(flex='2'), max=1125.0, style=Pro…"
      ]
     },
     "metadata": {},
     "output_type": "display_data"
    },
    {
     "name": "stdout",
     "output_type": "stream",
     "text": [
      "Epoch 688: train=0.918626, val=0.957765, took 36.858 s\n"
     ]
    },
    {
     "data": {
      "application/vnd.jupyter.widget-view+json": {
       "model_id": "",
       "version_major": 2,
       "version_minor": 0
      },
      "text/plain": [
       "HBox(children=(FloatProgress(value=0.0, description='Training', layout=Layout(flex='2'), max=1125.0, style=Pro…"
      ]
     },
     "metadata": {},
     "output_type": "display_data"
    },
    {
     "name": "stdout",
     "output_type": "stream",
     "text": [
      "Epoch 689: train=0.927112, val=0.968635, took 36.783 s\n"
     ]
    },
    {
     "data": {
      "application/vnd.jupyter.widget-view+json": {
       "model_id": "",
       "version_major": 2,
       "version_minor": 0
      },
      "text/plain": [
       "HBox(children=(FloatProgress(value=0.0, description='Training', layout=Layout(flex='2'), max=1125.0, style=Pro…"
      ]
     },
     "metadata": {},
     "output_type": "display_data"
    },
    {
     "name": "stdout",
     "output_type": "stream",
     "text": [
      "Epoch 690: train=0.928392, val=0.953483, took 36.898 s\n"
     ]
    },
    {
     "data": {
      "application/vnd.jupyter.widget-view+json": {
       "model_id": "",
       "version_major": 2,
       "version_minor": 0
      },
      "text/plain": [
       "HBox(children=(FloatProgress(value=0.0, description='Training', layout=Layout(flex='2'), max=1125.0, style=Pro…"
      ]
     },
     "metadata": {},
     "output_type": "display_data"
    },
    {
     "name": "stdout",
     "output_type": "stream",
     "text": [
      "Epoch 691: train=0.922002, val=0.946105, took 36.957 s\n"
     ]
    },
    {
     "data": {
      "application/vnd.jupyter.widget-view+json": {
       "model_id": "",
       "version_major": 2,
       "version_minor": 0
      },
      "text/plain": [
       "HBox(children=(FloatProgress(value=0.0, description='Training', layout=Layout(flex='2'), max=1125.0, style=Pro…"
      ]
     },
     "metadata": {},
     "output_type": "display_data"
    },
    {
     "name": "stdout",
     "output_type": "stream",
     "text": [
      "Epoch 692: train=0.924523, val=0.947299, took 36.864 s\n"
     ]
    },
    {
     "data": {
      "application/vnd.jupyter.widget-view+json": {
       "model_id": "",
       "version_major": 2,
       "version_minor": 0
      },
      "text/plain": [
       "HBox(children=(FloatProgress(value=0.0, description='Training', layout=Layout(flex='2'), max=1125.0, style=Pro…"
      ]
     },
     "metadata": {},
     "output_type": "display_data"
    },
    {
     "name": "stdout",
     "output_type": "stream",
     "text": [
      "Epoch 693: train=0.924212, val=0.956634, took 36.98 s\n"
     ]
    },
    {
     "data": {
      "application/vnd.jupyter.widget-view+json": {
       "model_id": "",
       "version_major": 2,
       "version_minor": 0
      },
      "text/plain": [
       "HBox(children=(FloatProgress(value=0.0, description='Training', layout=Layout(flex='2'), max=1125.0, style=Pro…"
      ]
     },
     "metadata": {},
     "output_type": "display_data"
    },
    {
     "name": "stdout",
     "output_type": "stream",
     "text": [
      "Epoch 694: train=0.922389, val=0.953751, took 36.959 s\n"
     ]
    },
    {
     "data": {
      "application/vnd.jupyter.widget-view+json": {
       "model_id": "",
       "version_major": 2,
       "version_minor": 0
      },
      "text/plain": [
       "HBox(children=(FloatProgress(value=0.0, description='Training', layout=Layout(flex='2'), max=1125.0, style=Pro…"
      ]
     },
     "metadata": {},
     "output_type": "display_data"
    },
    {
     "name": "stdout",
     "output_type": "stream",
     "text": [
      "Epoch 695: train=0.928007, val=1.00467, took 36.924 s\n"
     ]
    },
    {
     "data": {
      "application/vnd.jupyter.widget-view+json": {
       "model_id": "",
       "version_major": 2,
       "version_minor": 0
      },
      "text/plain": [
       "HBox(children=(FloatProgress(value=0.0, description='Training', layout=Layout(flex='2'), max=1125.0, style=Pro…"
      ]
     },
     "metadata": {},
     "output_type": "display_data"
    },
    {
     "name": "stdout",
     "output_type": "stream",
     "text": [
      "Epoch 696: train=0.92005, val=0.95434, took 36.977 s\n"
     ]
    },
    {
     "data": {
      "application/vnd.jupyter.widget-view+json": {
       "model_id": "",
       "version_major": 2,
       "version_minor": 0
      },
      "text/plain": [
       "HBox(children=(FloatProgress(value=0.0, description='Training', layout=Layout(flex='2'), max=1125.0, style=Pro…"
      ]
     },
     "metadata": {},
     "output_type": "display_data"
    },
    {
     "name": "stdout",
     "output_type": "stream",
     "text": [
      "Epoch 697: train=0.927835, val=0.950521, took 36.856 s\n"
     ]
    },
    {
     "data": {
      "application/vnd.jupyter.widget-view+json": {
       "model_id": "",
       "version_major": 2,
       "version_minor": 0
      },
      "text/plain": [
       "HBox(children=(FloatProgress(value=0.0, description='Training', layout=Layout(flex='2'), max=1125.0, style=Pro…"
      ]
     },
     "metadata": {},
     "output_type": "display_data"
    },
    {
     "name": "stdout",
     "output_type": "stream",
     "text": [
      "Epoch 698: train=0.919372, val=0.948476, took 36.917 s\n"
     ]
    },
    {
     "data": {
      "application/vnd.jupyter.widget-view+json": {
       "model_id": "",
       "version_major": 2,
       "version_minor": 0
      },
      "text/plain": [
       "HBox(children=(FloatProgress(value=0.0, description='Training', layout=Layout(flex='2'), max=1125.0, style=Pro…"
      ]
     },
     "metadata": {},
     "output_type": "display_data"
    },
    {
     "name": "stdout",
     "output_type": "stream",
     "text": [
      "Epoch 699: train=0.924365, val=0.973307, took 36.884 s\n"
     ]
    },
    {
     "data": {
      "application/vnd.jupyter.widget-view+json": {
       "model_id": "",
       "version_major": 2,
       "version_minor": 0
      },
      "text/plain": [
       "HBox(children=(FloatProgress(value=0.0, description='Training', layout=Layout(flex='2'), max=1125.0, style=Pro…"
      ]
     },
     "metadata": {},
     "output_type": "display_data"
    },
    {
     "name": "stdout",
     "output_type": "stream",
     "text": [
      "Epoch 700: train=0.927912, val=0.950209, took 36.966 s\n"
     ]
    },
    {
     "data": {
      "application/vnd.jupyter.widget-view+json": {
       "model_id": "",
       "version_major": 2,
       "version_minor": 0
      },
      "text/plain": [
       "HBox(children=(FloatProgress(value=0.0, description='Training', layout=Layout(flex='2'), max=1125.0, style=Pro…"
      ]
     },
     "metadata": {},
     "output_type": "display_data"
    },
    {
     "name": "stdout",
     "output_type": "stream",
     "text": [
      "Epoch 701: train=0.927939, val=0.94732, took 36.879 s\n"
     ]
    },
    {
     "data": {
      "application/vnd.jupyter.widget-view+json": {
       "model_id": "",
       "version_major": 2,
       "version_minor": 0
      },
      "text/plain": [
       "HBox(children=(FloatProgress(value=0.0, description='Training', layout=Layout(flex='2'), max=1125.0, style=Pro…"
      ]
     },
     "metadata": {},
     "output_type": "display_data"
    },
    {
     "name": "stdout",
     "output_type": "stream",
     "text": [
      "Epoch 702: train=0.921046, val=0.947723, took 36.834 s\n"
     ]
    },
    {
     "data": {
      "application/vnd.jupyter.widget-view+json": {
       "model_id": "",
       "version_major": 2,
       "version_minor": 0
      },
      "text/plain": [
       "HBox(children=(FloatProgress(value=0.0, description='Training', layout=Layout(flex='2'), max=1125.0, style=Pro…"
      ]
     },
     "metadata": {},
     "output_type": "display_data"
    },
    {
     "name": "stdout",
     "output_type": "stream",
     "text": [
      "Epoch 703: train=0.928093, val=0.946955, took 36.963 s\n"
     ]
    },
    {
     "data": {
      "application/vnd.jupyter.widget-view+json": {
       "model_id": "",
       "version_major": 2,
       "version_minor": 0
      },
      "text/plain": [
       "HBox(children=(FloatProgress(value=0.0, description='Training', layout=Layout(flex='2'), max=1125.0, style=Pro…"
      ]
     },
     "metadata": {},
     "output_type": "display_data"
    },
    {
     "name": "stdout",
     "output_type": "stream",
     "text": [
      "Epoch 704: train=0.929468, val=0.948118, took 36.884 s\n"
     ]
    },
    {
     "data": {
      "application/vnd.jupyter.widget-view+json": {
       "model_id": "",
       "version_major": 2,
       "version_minor": 0
      },
      "text/plain": [
       "HBox(children=(FloatProgress(value=0.0, description='Training', layout=Layout(flex='2'), max=1125.0, style=Pro…"
      ]
     },
     "metadata": {},
     "output_type": "display_data"
    },
    {
     "name": "stdout",
     "output_type": "stream",
     "text": [
      "Epoch 705: train=0.924815, val=0.944612, took 36.923 s\n"
     ]
    },
    {
     "data": {
      "application/vnd.jupyter.widget-view+json": {
       "model_id": "",
       "version_major": 2,
       "version_minor": 0
      },
      "text/plain": [
       "HBox(children=(FloatProgress(value=0.0, description='Training', layout=Layout(flex='2'), max=1125.0, style=Pro…"
      ]
     },
     "metadata": {},
     "output_type": "display_data"
    },
    {
     "name": "stdout",
     "output_type": "stream",
     "text": [
      "Epoch 706: train=0.927072, val=0.953345, took 36.863 s\n"
     ]
    },
    {
     "data": {
      "application/vnd.jupyter.widget-view+json": {
       "model_id": "",
       "version_major": 2,
       "version_minor": 0
      },
      "text/plain": [
       "HBox(children=(FloatProgress(value=0.0, description='Training', layout=Layout(flex='2'), max=1125.0, style=Pro…"
      ]
     },
     "metadata": {},
     "output_type": "display_data"
    },
    {
     "name": "stdout",
     "output_type": "stream",
     "text": [
      "Epoch 707: train=0.920793, val=0.955469, took 36.869 s\n"
     ]
    },
    {
     "data": {
      "application/vnd.jupyter.widget-view+json": {
       "model_id": "",
       "version_major": 2,
       "version_minor": 0
      },
      "text/plain": [
       "HBox(children=(FloatProgress(value=0.0, description='Training', layout=Layout(flex='2'), max=1125.0, style=Pro…"
      ]
     },
     "metadata": {},
     "output_type": "display_data"
    },
    {
     "name": "stdout",
     "output_type": "stream",
     "text": [
      "Epoch 708: train=0.929134, val=0.957125, took 36.879 s\n"
     ]
    },
    {
     "data": {
      "application/vnd.jupyter.widget-view+json": {
       "model_id": "",
       "version_major": 2,
       "version_minor": 0
      },
      "text/plain": [
       "HBox(children=(FloatProgress(value=0.0, description='Training', layout=Layout(flex='2'), max=1125.0, style=Pro…"
      ]
     },
     "metadata": {},
     "output_type": "display_data"
    },
    {
     "name": "stdout",
     "output_type": "stream",
     "text": [
      "Epoch 709: train=0.922413, val=0.958925, took 36.918 s\n"
     ]
    },
    {
     "data": {
      "application/vnd.jupyter.widget-view+json": {
       "model_id": "",
       "version_major": 2,
       "version_minor": 0
      },
      "text/plain": [
       "HBox(children=(FloatProgress(value=0.0, description='Training', layout=Layout(flex='2'), max=1125.0, style=Pro…"
      ]
     },
     "metadata": {},
     "output_type": "display_data"
    },
    {
     "name": "stdout",
     "output_type": "stream",
     "text": [
      "Epoch 710: train=0.930072, val=0.970037, took 36.883 s\n"
     ]
    },
    {
     "data": {
      "application/vnd.jupyter.widget-view+json": {
       "model_id": "",
       "version_major": 2,
       "version_minor": 0
      },
      "text/plain": [
       "HBox(children=(FloatProgress(value=0.0, description='Training', layout=Layout(flex='2'), max=1125.0, style=Pro…"
      ]
     },
     "metadata": {},
     "output_type": "display_data"
    },
    {
     "name": "stdout",
     "output_type": "stream",
     "text": [
      "Epoch 711: train=0.923972, val=0.946362, took 36.977 s\n"
     ]
    },
    {
     "data": {
      "application/vnd.jupyter.widget-view+json": {
       "model_id": "",
       "version_major": 2,
       "version_minor": 0
      },
      "text/plain": [
       "HBox(children=(FloatProgress(value=0.0, description='Training', layout=Layout(flex='2'), max=1125.0, style=Pro…"
      ]
     },
     "metadata": {},
     "output_type": "display_data"
    },
    {
     "name": "stdout",
     "output_type": "stream",
     "text": [
      "Epoch 712: train=0.927465, val=0.951226, took 36.862 s\n"
     ]
    },
    {
     "data": {
      "application/vnd.jupyter.widget-view+json": {
       "model_id": "",
       "version_major": 2,
       "version_minor": 0
      },
      "text/plain": [
       "HBox(children=(FloatProgress(value=0.0, description='Training', layout=Layout(flex='2'), max=1125.0, style=Pro…"
      ]
     },
     "metadata": {},
     "output_type": "display_data"
    },
    {
     "name": "stdout",
     "output_type": "stream",
     "text": [
      "Epoch 713: train=0.925608, val=0.977384, took 36.883 s\n"
     ]
    },
    {
     "data": {
      "application/vnd.jupyter.widget-view+json": {
       "model_id": "",
       "version_major": 2,
       "version_minor": 0
      },
      "text/plain": [
       "HBox(children=(FloatProgress(value=0.0, description='Training', layout=Layout(flex='2'), max=1125.0, style=Pro…"
      ]
     },
     "metadata": {},
     "output_type": "display_data"
    },
    {
     "name": "stdout",
     "output_type": "stream",
     "text": [
      "Epoch 714: train=0.931131, val=0.948258, took 36.887 s\n"
     ]
    },
    {
     "data": {
      "application/vnd.jupyter.widget-view+json": {
       "model_id": "",
       "version_major": 2,
       "version_minor": 0
      },
      "text/plain": [
       "HBox(children=(FloatProgress(value=0.0, description='Training', layout=Layout(flex='2'), max=1125.0, style=Pro…"
      ]
     },
     "metadata": {},
     "output_type": "display_data"
    },
    {
     "name": "stdout",
     "output_type": "stream",
     "text": [
      "Epoch 715: train=0.924372, val=0.954431, took 36.943 s\n"
     ]
    },
    {
     "data": {
      "application/vnd.jupyter.widget-view+json": {
       "model_id": "",
       "version_major": 2,
       "version_minor": 0
      },
      "text/plain": [
       "HBox(children=(FloatProgress(value=0.0, description='Training', layout=Layout(flex='2'), max=1125.0, style=Pro…"
      ]
     },
     "metadata": {},
     "output_type": "display_data"
    },
    {
     "name": "stdout",
     "output_type": "stream",
     "text": [
      "Epoch 716: train=0.922616, val=0.974946, took 36.94 s\n"
     ]
    },
    {
     "data": {
      "application/vnd.jupyter.widget-view+json": {
       "model_id": "",
       "version_major": 2,
       "version_minor": 0
      },
      "text/plain": [
       "HBox(children=(FloatProgress(value=0.0, description='Training', layout=Layout(flex='2'), max=1125.0, style=Pro…"
      ]
     },
     "metadata": {},
     "output_type": "display_data"
    },
    {
     "name": "stdout",
     "output_type": "stream",
     "text": [
      "Epoch 717: train=0.924836, val=0.953117, took 36.983 s\n"
     ]
    },
    {
     "data": {
      "application/vnd.jupyter.widget-view+json": {
       "model_id": "",
       "version_major": 2,
       "version_minor": 0
      },
      "text/plain": [
       "HBox(children=(FloatProgress(value=0.0, description='Training', layout=Layout(flex='2'), max=1125.0, style=Pro…"
      ]
     },
     "metadata": {},
     "output_type": "display_data"
    },
    {
     "name": "stdout",
     "output_type": "stream",
     "text": [
      "Epoch 718: train=0.92284, val=0.948575, took 37.024 s\n"
     ]
    },
    {
     "data": {
      "application/vnd.jupyter.widget-view+json": {
       "model_id": "",
       "version_major": 2,
       "version_minor": 0
      },
      "text/plain": [
       "HBox(children=(FloatProgress(value=0.0, description='Training', layout=Layout(flex='2'), max=1125.0, style=Pro…"
      ]
     },
     "metadata": {},
     "output_type": "display_data"
    },
    {
     "name": "stdout",
     "output_type": "stream",
     "text": [
      "Epoch 719: train=0.925472, val=0.947599, took 36.925 s\n"
     ]
    },
    {
     "data": {
      "application/vnd.jupyter.widget-view+json": {
       "model_id": "",
       "version_major": 2,
       "version_minor": 0
      },
      "text/plain": [
       "HBox(children=(FloatProgress(value=0.0, description='Training', layout=Layout(flex='2'), max=1125.0, style=Pro…"
      ]
     },
     "metadata": {},
     "output_type": "display_data"
    },
    {
     "name": "stdout",
     "output_type": "stream",
     "text": [
      "Epoch 720: train=0.928101, val=0.946943, took 36.843 s\n"
     ]
    },
    {
     "data": {
      "application/vnd.jupyter.widget-view+json": {
       "model_id": "",
       "version_major": 2,
       "version_minor": 0
      },
      "text/plain": [
       "HBox(children=(FloatProgress(value=0.0, description='Training', layout=Layout(flex='2'), max=1125.0, style=Pro…"
      ]
     },
     "metadata": {},
     "output_type": "display_data"
    },
    {
     "name": "stdout",
     "output_type": "stream",
     "text": [
      "Epoch 721: train=0.924449, val=0.948034, took 36.903 s\n"
     ]
    },
    {
     "data": {
      "application/vnd.jupyter.widget-view+json": {
       "model_id": "",
       "version_major": 2,
       "version_minor": 0
      },
      "text/plain": [
       "HBox(children=(FloatProgress(value=0.0, description='Training', layout=Layout(flex='2'), max=1125.0, style=Pro…"
      ]
     },
     "metadata": {},
     "output_type": "display_data"
    },
    {
     "name": "stdout",
     "output_type": "stream",
     "text": [
      "Epoch 722: train=0.923012, val=0.961007, took 36.927 s\n"
     ]
    },
    {
     "data": {
      "application/vnd.jupyter.widget-view+json": {
       "model_id": "",
       "version_major": 2,
       "version_minor": 0
      },
      "text/plain": [
       "HBox(children=(FloatProgress(value=0.0, description='Training', layout=Layout(flex='2'), max=1125.0, style=Pro…"
      ]
     },
     "metadata": {},
     "output_type": "display_data"
    },
    {
     "name": "stdout",
     "output_type": "stream",
     "text": [
      "Epoch 723: train=0.923009, val=0.971294, took 37.111 s\n"
     ]
    },
    {
     "data": {
      "application/vnd.jupyter.widget-view+json": {
       "model_id": "",
       "version_major": 2,
       "version_minor": 0
      },
      "text/plain": [
       "HBox(children=(FloatProgress(value=0.0, description='Training', layout=Layout(flex='2'), max=1125.0, style=Pro…"
      ]
     },
     "metadata": {},
     "output_type": "display_data"
    },
    {
     "name": "stdout",
     "output_type": "stream",
     "text": [
      "Epoch 724: train=0.930395, val=0.961098, took 37.061 s\n"
     ]
    },
    {
     "data": {
      "application/vnd.jupyter.widget-view+json": {
       "model_id": "",
       "version_major": 2,
       "version_minor": 0
      },
      "text/plain": [
       "HBox(children=(FloatProgress(value=0.0, description='Training', layout=Layout(flex='2'), max=1125.0, style=Pro…"
      ]
     },
     "metadata": {},
     "output_type": "display_data"
    },
    {
     "name": "stdout",
     "output_type": "stream",
     "text": [
      "Epoch 725: train=0.920769, val=0.96298, took 36.876 s\n"
     ]
    },
    {
     "data": {
      "application/vnd.jupyter.widget-view+json": {
       "model_id": "",
       "version_major": 2,
       "version_minor": 0
      },
      "text/plain": [
       "HBox(children=(FloatProgress(value=0.0, description='Training', layout=Layout(flex='2'), max=1125.0, style=Pro…"
      ]
     },
     "metadata": {},
     "output_type": "display_data"
    },
    {
     "name": "stdout",
     "output_type": "stream",
     "text": [
      "Epoch 726: train=0.925017, val=0.960898, took 36.808 s\n"
     ]
    },
    {
     "data": {
      "application/vnd.jupyter.widget-view+json": {
       "model_id": "",
       "version_major": 2,
       "version_minor": 0
      },
      "text/plain": [
       "HBox(children=(FloatProgress(value=0.0, description='Training', layout=Layout(flex='2'), max=1125.0, style=Pro…"
      ]
     },
     "metadata": {},
     "output_type": "display_data"
    },
    {
     "name": "stdout",
     "output_type": "stream",
     "text": [
      "Epoch 727: train=0.931973, val=0.947774, took 36.968 s\n"
     ]
    },
    {
     "data": {
      "application/vnd.jupyter.widget-view+json": {
       "model_id": "",
       "version_major": 2,
       "version_minor": 0
      },
      "text/plain": [
       "HBox(children=(FloatProgress(value=0.0, description='Training', layout=Layout(flex='2'), max=1125.0, style=Pro…"
      ]
     },
     "metadata": {},
     "output_type": "display_data"
    },
    {
     "name": "stdout",
     "output_type": "stream",
     "text": [
      "Epoch 728: train=0.923128, val=0.948361, took 37.074 s\n"
     ]
    },
    {
     "data": {
      "application/vnd.jupyter.widget-view+json": {
       "model_id": "",
       "version_major": 2,
       "version_minor": 0
      },
      "text/plain": [
       "HBox(children=(FloatProgress(value=0.0, description='Training', layout=Layout(flex='2'), max=1125.0, style=Pro…"
      ]
     },
     "metadata": {},
     "output_type": "display_data"
    },
    {
     "name": "stdout",
     "output_type": "stream",
     "text": [
      "Epoch 729: train=0.923531, val=0.946147, took 37.007 s\n"
     ]
    },
    {
     "data": {
      "application/vnd.jupyter.widget-view+json": {
       "model_id": "",
       "version_major": 2,
       "version_minor": 0
      },
      "text/plain": [
       "HBox(children=(FloatProgress(value=0.0, description='Training', layout=Layout(flex='2'), max=1125.0, style=Pro…"
      ]
     },
     "metadata": {},
     "output_type": "display_data"
    },
    {
     "name": "stdout",
     "output_type": "stream",
     "text": [
      "Epoch 730: train=0.923833, val=0.946212, took 37.137 s\n"
     ]
    },
    {
     "data": {
      "application/vnd.jupyter.widget-view+json": {
       "model_id": "",
       "version_major": 2,
       "version_minor": 0
      },
      "text/plain": [
       "HBox(children=(FloatProgress(value=0.0, description='Training', layout=Layout(flex='2'), max=1125.0, style=Pro…"
      ]
     },
     "metadata": {},
     "output_type": "display_data"
    },
    {
     "name": "stdout",
     "output_type": "stream",
     "text": [
      "Epoch 731: train=0.922167, val=0.94671, took 36.867 s\n"
     ]
    },
    {
     "data": {
      "application/vnd.jupyter.widget-view+json": {
       "model_id": "",
       "version_major": 2,
       "version_minor": 0
      },
      "text/plain": [
       "HBox(children=(FloatProgress(value=0.0, description='Training', layout=Layout(flex='2'), max=1125.0, style=Pro…"
      ]
     },
     "metadata": {},
     "output_type": "display_data"
    },
    {
     "name": "stdout",
     "output_type": "stream",
     "text": [
      "Epoch 732: train=0.927782, val=0.949708, took 36.79 s\n"
     ]
    },
    {
     "data": {
      "application/vnd.jupyter.widget-view+json": {
       "model_id": "",
       "version_major": 2,
       "version_minor": 0
      },
      "text/plain": [
       "HBox(children=(FloatProgress(value=0.0, description='Training', layout=Layout(flex='2'), max=1125.0, style=Pro…"
      ]
     },
     "metadata": {},
     "output_type": "display_data"
    },
    {
     "name": "stdout",
     "output_type": "stream",
     "text": [
      "Epoch 733: train=0.925442, val=0.945025, took 36.914 s\n"
     ]
    },
    {
     "data": {
      "application/vnd.jupyter.widget-view+json": {
       "model_id": "",
       "version_major": 2,
       "version_minor": 0
      },
      "text/plain": [
       "HBox(children=(FloatProgress(value=0.0, description='Training', layout=Layout(flex='2'), max=1125.0, style=Pro…"
      ]
     },
     "metadata": {},
     "output_type": "display_data"
    },
    {
     "name": "stdout",
     "output_type": "stream",
     "text": [
      "Epoch 734: train=0.925337, val=0.961137, took 36.909 s\n"
     ]
    },
    {
     "data": {
      "application/vnd.jupyter.widget-view+json": {
       "model_id": "",
       "version_major": 2,
       "version_minor": 0
      },
      "text/plain": [
       "HBox(children=(FloatProgress(value=0.0, description='Training', layout=Layout(flex='2'), max=1125.0, style=Pro…"
      ]
     },
     "metadata": {},
     "output_type": "display_data"
    },
    {
     "name": "stdout",
     "output_type": "stream",
     "text": [
      "Epoch 735: train=0.924166, val=0.961033, took 36.827 s\n"
     ]
    },
    {
     "data": {
      "application/vnd.jupyter.widget-view+json": {
       "model_id": "",
       "version_major": 2,
       "version_minor": 0
      },
      "text/plain": [
       "HBox(children=(FloatProgress(value=0.0, description='Training', layout=Layout(flex='2'), max=1125.0, style=Pro…"
      ]
     },
     "metadata": {},
     "output_type": "display_data"
    },
    {
     "name": "stdout",
     "output_type": "stream",
     "text": [
      "Epoch 736: train=0.920955, val=0.944858, took 36.875 s\n"
     ]
    },
    {
     "data": {
      "application/vnd.jupyter.widget-view+json": {
       "model_id": "",
       "version_major": 2,
       "version_minor": 0
      },
      "text/plain": [
       "HBox(children=(FloatProgress(value=0.0, description='Training', layout=Layout(flex='2'), max=1125.0, style=Pro…"
      ]
     },
     "metadata": {},
     "output_type": "display_data"
    },
    {
     "name": "stdout",
     "output_type": "stream",
     "text": [
      "Epoch 737: train=0.92581, val=0.951561, took 36.822 s\n"
     ]
    },
    {
     "data": {
      "application/vnd.jupyter.widget-view+json": {
       "model_id": "",
       "version_major": 2,
       "version_minor": 0
      },
      "text/plain": [
       "HBox(children=(FloatProgress(value=0.0, description='Training', layout=Layout(flex='2'), max=1125.0, style=Pro…"
      ]
     },
     "metadata": {},
     "output_type": "display_data"
    },
    {
     "name": "stdout",
     "output_type": "stream",
     "text": [
      "Epoch 738: train=0.926962, val=0.959637, took 36.981 s\n"
     ]
    },
    {
     "data": {
      "application/vnd.jupyter.widget-view+json": {
       "model_id": "",
       "version_major": 2,
       "version_minor": 0
      },
      "text/plain": [
       "HBox(children=(FloatProgress(value=0.0, description='Training', layout=Layout(flex='2'), max=1125.0, style=Pro…"
      ]
     },
     "metadata": {},
     "output_type": "display_data"
    },
    {
     "name": "stdout",
     "output_type": "stream",
     "text": [
      "Epoch 739: train=0.925672, val=0.947679, took 37.347 s\n"
     ]
    },
    {
     "data": {
      "application/vnd.jupyter.widget-view+json": {
       "model_id": "",
       "version_major": 2,
       "version_minor": 0
      },
      "text/plain": [
       "HBox(children=(FloatProgress(value=0.0, description='Training', layout=Layout(flex='2'), max=1125.0, style=Pro…"
      ]
     },
     "metadata": {},
     "output_type": "display_data"
    },
    {
     "name": "stdout",
     "output_type": "stream",
     "text": [
      "Epoch 740: train=0.920938, val=0.944383, took 37.128 s\n"
     ]
    },
    {
     "data": {
      "application/vnd.jupyter.widget-view+json": {
       "model_id": "",
       "version_major": 2,
       "version_minor": 0
      },
      "text/plain": [
       "HBox(children=(FloatProgress(value=0.0, description='Training', layout=Layout(flex='2'), max=1125.0, style=Pro…"
      ]
     },
     "metadata": {},
     "output_type": "display_data"
    },
    {
     "name": "stdout",
     "output_type": "stream",
     "text": [
      "Epoch 741: train=0.918676, val=0.95946, took 36.875 s\n"
     ]
    },
    {
     "data": {
      "application/vnd.jupyter.widget-view+json": {
       "model_id": "",
       "version_major": 2,
       "version_minor": 0
      },
      "text/plain": [
       "HBox(children=(FloatProgress(value=0.0, description='Training', layout=Layout(flex='2'), max=1125.0, style=Pro…"
      ]
     },
     "metadata": {},
     "output_type": "display_data"
    },
    {
     "name": "stdout",
     "output_type": "stream",
     "text": [
      "Epoch 742: train=0.924051, val=0.948249, took 36.878 s\n"
     ]
    },
    {
     "data": {
      "application/vnd.jupyter.widget-view+json": {
       "model_id": "",
       "version_major": 2,
       "version_minor": 0
      },
      "text/plain": [
       "HBox(children=(FloatProgress(value=0.0, description='Training', layout=Layout(flex='2'), max=1125.0, style=Pro…"
      ]
     },
     "metadata": {},
     "output_type": "display_data"
    },
    {
     "name": "stdout",
     "output_type": "stream",
     "text": [
      "Epoch 743: train=0.922252, val=1.01323, took 36.911 s\n"
     ]
    },
    {
     "data": {
      "application/vnd.jupyter.widget-view+json": {
       "model_id": "",
       "version_major": 2,
       "version_minor": 0
      },
      "text/plain": [
       "HBox(children=(FloatProgress(value=0.0, description='Training', layout=Layout(flex='2'), max=1125.0, style=Pro…"
      ]
     },
     "metadata": {},
     "output_type": "display_data"
    },
    {
     "name": "stdout",
     "output_type": "stream",
     "text": [
      "Epoch 744: train=0.922346, val=0.945679, took 36.896 s\n"
     ]
    },
    {
     "data": {
      "application/vnd.jupyter.widget-view+json": {
       "model_id": "",
       "version_major": 2,
       "version_minor": 0
      },
      "text/plain": [
       "HBox(children=(FloatProgress(value=0.0, description='Training', layout=Layout(flex='2'), max=1125.0, style=Pro…"
      ]
     },
     "metadata": {},
     "output_type": "display_data"
    },
    {
     "name": "stdout",
     "output_type": "stream",
     "text": [
      "Epoch 745: train=0.919903, val=0.952401, took 36.845 s\n"
     ]
    },
    {
     "data": {
      "application/vnd.jupyter.widget-view+json": {
       "model_id": "",
       "version_major": 2,
       "version_minor": 0
      },
      "text/plain": [
       "HBox(children=(FloatProgress(value=0.0, description='Training', layout=Layout(flex='2'), max=1125.0, style=Pro…"
      ]
     },
     "metadata": {},
     "output_type": "display_data"
    },
    {
     "name": "stdout",
     "output_type": "stream",
     "text": [
      "Epoch 746: train=0.921807, val=0.956114, took 37.039 s\n"
     ]
    },
    {
     "data": {
      "application/vnd.jupyter.widget-view+json": {
       "model_id": "",
       "version_major": 2,
       "version_minor": 0
      },
      "text/plain": [
       "HBox(children=(FloatProgress(value=0.0, description='Training', layout=Layout(flex='2'), max=1125.0, style=Pro…"
      ]
     },
     "metadata": {},
     "output_type": "display_data"
    },
    {
     "name": "stdout",
     "output_type": "stream",
     "text": [
      "Epoch 747: train=0.925695, val=0.960475, took 36.937 s\n"
     ]
    },
    {
     "data": {
      "application/vnd.jupyter.widget-view+json": {
       "model_id": "",
       "version_major": 2,
       "version_minor": 0
      },
      "text/plain": [
       "HBox(children=(FloatProgress(value=0.0, description='Training', layout=Layout(flex='2'), max=1125.0, style=Pro…"
      ]
     },
     "metadata": {},
     "output_type": "display_data"
    },
    {
     "name": "stdout",
     "output_type": "stream",
     "text": [
      "Epoch 748: train=0.930749, val=0.952396, took 36.93 s\n"
     ]
    },
    {
     "data": {
      "application/vnd.jupyter.widget-view+json": {
       "model_id": "",
       "version_major": 2,
       "version_minor": 0
      },
      "text/plain": [
       "HBox(children=(FloatProgress(value=0.0, description='Training', layout=Layout(flex='2'), max=1125.0, style=Pro…"
      ]
     },
     "metadata": {},
     "output_type": "display_data"
    },
    {
     "name": "stdout",
     "output_type": "stream",
     "text": [
      "Epoch 749: train=0.929998, val=0.959247, took 37.017 s\n"
     ]
    },
    {
     "data": {
      "application/vnd.jupyter.widget-view+json": {
       "model_id": "",
       "version_major": 2,
       "version_minor": 0
      },
      "text/plain": [
       "HBox(children=(FloatProgress(value=0.0, description='Training', layout=Layout(flex='2'), max=1125.0, style=Pro…"
      ]
     },
     "metadata": {},
     "output_type": "display_data"
    },
    {
     "name": "stdout",
     "output_type": "stream",
     "text": [
      "Epoch 750: train=0.9319, val=0.958858, took 36.829 s\n"
     ]
    },
    {
     "data": {
      "application/vnd.jupyter.widget-view+json": {
       "model_id": "",
       "version_major": 2,
       "version_minor": 0
      },
      "text/plain": [
       "HBox(children=(FloatProgress(value=0.0, description='Training', layout=Layout(flex='2'), max=1125.0, style=Pro…"
      ]
     },
     "metadata": {},
     "output_type": "display_data"
    },
    {
     "name": "stdout",
     "output_type": "stream",
     "text": [
      "Epoch 751: train=0.921937, val=0.94806, took 36.976 s\n"
     ]
    },
    {
     "data": {
      "application/vnd.jupyter.widget-view+json": {
       "model_id": "",
       "version_major": 2,
       "version_minor": 0
      },
      "text/plain": [
       "HBox(children=(FloatProgress(value=0.0, description='Training', layout=Layout(flex='2'), max=1125.0, style=Pro…"
      ]
     },
     "metadata": {},
     "output_type": "display_data"
    },
    {
     "name": "stdout",
     "output_type": "stream",
     "text": [
      "Epoch 752: train=0.925982, val=0.949724, took 36.923 s\n"
     ]
    },
    {
     "data": {
      "application/vnd.jupyter.widget-view+json": {
       "model_id": "",
       "version_major": 2,
       "version_minor": 0
      },
      "text/plain": [
       "HBox(children=(FloatProgress(value=0.0, description='Training', layout=Layout(flex='2'), max=1125.0, style=Pro…"
      ]
     },
     "metadata": {},
     "output_type": "display_data"
    },
    {
     "name": "stdout",
     "output_type": "stream",
     "text": [
      "Epoch 753: train=0.928145, val=0.947105, took 36.852 s\n"
     ]
    },
    {
     "data": {
      "application/vnd.jupyter.widget-view+json": {
       "model_id": "",
       "version_major": 2,
       "version_minor": 0
      },
      "text/plain": [
       "HBox(children=(FloatProgress(value=0.0, description='Training', layout=Layout(flex='2'), max=1125.0, style=Pro…"
      ]
     },
     "metadata": {},
     "output_type": "display_data"
    },
    {
     "name": "stdout",
     "output_type": "stream",
     "text": [
      "Epoch 754: train=0.926329, val=0.947051, took 36.963 s\n"
     ]
    },
    {
     "data": {
      "application/vnd.jupyter.widget-view+json": {
       "model_id": "",
       "version_major": 2,
       "version_minor": 0
      },
      "text/plain": [
       "HBox(children=(FloatProgress(value=0.0, description='Training', layout=Layout(flex='2'), max=1125.0, style=Pro…"
      ]
     },
     "metadata": {},
     "output_type": "display_data"
    },
    {
     "name": "stdout",
     "output_type": "stream",
     "text": [
      "Epoch 755: train=0.919093, val=0.956997, took 36.869 s\n"
     ]
    },
    {
     "data": {
      "application/vnd.jupyter.widget-view+json": {
       "model_id": "",
       "version_major": 2,
       "version_minor": 0
      },
      "text/plain": [
       "HBox(children=(FloatProgress(value=0.0, description='Training', layout=Layout(flex='2'), max=1125.0, style=Pro…"
      ]
     },
     "metadata": {},
     "output_type": "display_data"
    },
    {
     "name": "stdout",
     "output_type": "stream",
     "text": [
      "Epoch 756: train=0.926266, val=0.946604, took 36.749 s\n"
     ]
    },
    {
     "data": {
      "application/vnd.jupyter.widget-view+json": {
       "model_id": "",
       "version_major": 2,
       "version_minor": 0
      },
      "text/plain": [
       "HBox(children=(FloatProgress(value=0.0, description='Training', layout=Layout(flex='2'), max=1125.0, style=Pro…"
      ]
     },
     "metadata": {},
     "output_type": "display_data"
    },
    {
     "name": "stdout",
     "output_type": "stream",
     "text": [
      "Epoch 757: train=0.924235, val=1.00704, took 36.877 s\n"
     ]
    },
    {
     "data": {
      "application/vnd.jupyter.widget-view+json": {
       "model_id": "",
       "version_major": 2,
       "version_minor": 0
      },
      "text/plain": [
       "HBox(children=(FloatProgress(value=0.0, description='Training', layout=Layout(flex='2'), max=1125.0, style=Pro…"
      ]
     },
     "metadata": {},
     "output_type": "display_data"
    },
    {
     "name": "stdout",
     "output_type": "stream",
     "text": [
      "Epoch 758: train=0.921201, val=0.958525, took 36.981 s\n"
     ]
    },
    {
     "data": {
      "application/vnd.jupyter.widget-view+json": {
       "model_id": "",
       "version_major": 2,
       "version_minor": 0
      },
      "text/plain": [
       "HBox(children=(FloatProgress(value=0.0, description='Training', layout=Layout(flex='2'), max=1125.0, style=Pro…"
      ]
     },
     "metadata": {},
     "output_type": "display_data"
    },
    {
     "name": "stdout",
     "output_type": "stream",
     "text": [
      "Epoch 759: train=0.929925, val=0.957665, took 36.782 s\n"
     ]
    },
    {
     "data": {
      "application/vnd.jupyter.widget-view+json": {
       "model_id": "",
       "version_major": 2,
       "version_minor": 0
      },
      "text/plain": [
       "HBox(children=(FloatProgress(value=0.0, description='Training', layout=Layout(flex='2'), max=1125.0, style=Pro…"
      ]
     },
     "metadata": {},
     "output_type": "display_data"
    },
    {
     "name": "stdout",
     "output_type": "stream",
     "text": [
      "Epoch 760: train=0.919033, val=0.9457, took 36.943 s\n"
     ]
    },
    {
     "data": {
      "application/vnd.jupyter.widget-view+json": {
       "model_id": "",
       "version_major": 2,
       "version_minor": 0
      },
      "text/plain": [
       "HBox(children=(FloatProgress(value=0.0, description='Training', layout=Layout(flex='2'), max=1125.0, style=Pro…"
      ]
     },
     "metadata": {},
     "output_type": "display_data"
    },
    {
     "name": "stdout",
     "output_type": "stream",
     "text": [
      "Epoch 761: train=0.92276, val=0.974231, took 36.879 s\n"
     ]
    },
    {
     "data": {
      "application/vnd.jupyter.widget-view+json": {
       "model_id": "",
       "version_major": 2,
       "version_minor": 0
      },
      "text/plain": [
       "HBox(children=(FloatProgress(value=0.0, description='Training', layout=Layout(flex='2'), max=1125.0, style=Pro…"
      ]
     },
     "metadata": {},
     "output_type": "display_data"
    },
    {
     "name": "stdout",
     "output_type": "stream",
     "text": [
      "Epoch 762: train=0.923977, val=0.949343, took 36.942 s\n"
     ]
    },
    {
     "data": {
      "application/vnd.jupyter.widget-view+json": {
       "model_id": "",
       "version_major": 2,
       "version_minor": 0
      },
      "text/plain": [
       "HBox(children=(FloatProgress(value=0.0, description='Training', layout=Layout(flex='2'), max=1125.0, style=Pro…"
      ]
     },
     "metadata": {},
     "output_type": "display_data"
    },
    {
     "name": "stdout",
     "output_type": "stream",
     "text": [
      "Epoch 763: train=0.917698, val=0.947794, took 36.814 s\n"
     ]
    },
    {
     "data": {
      "application/vnd.jupyter.widget-view+json": {
       "model_id": "",
       "version_major": 2,
       "version_minor": 0
      },
      "text/plain": [
       "HBox(children=(FloatProgress(value=0.0, description='Training', layout=Layout(flex='2'), max=1125.0, style=Pro…"
      ]
     },
     "metadata": {},
     "output_type": "display_data"
    },
    {
     "name": "stdout",
     "output_type": "stream",
     "text": [
      "Epoch 764: train=0.920205, val=0.948908, took 36.839 s\n"
     ]
    },
    {
     "data": {
      "application/vnd.jupyter.widget-view+json": {
       "model_id": "",
       "version_major": 2,
       "version_minor": 0
      },
      "text/plain": [
       "HBox(children=(FloatProgress(value=0.0, description='Training', layout=Layout(flex='2'), max=1125.0, style=Pro…"
      ]
     },
     "metadata": {},
     "output_type": "display_data"
    },
    {
     "name": "stdout",
     "output_type": "stream",
     "text": [
      "Epoch 765: train=0.922047, val=0.948688, took 37.007 s\n"
     ]
    },
    {
     "data": {
      "application/vnd.jupyter.widget-view+json": {
       "model_id": "",
       "version_major": 2,
       "version_minor": 0
      },
      "text/plain": [
       "HBox(children=(FloatProgress(value=0.0, description='Training', layout=Layout(flex='2'), max=1125.0, style=Pro…"
      ]
     },
     "metadata": {},
     "output_type": "display_data"
    },
    {
     "name": "stdout",
     "output_type": "stream",
     "text": [
      "Epoch 766: train=0.931721, val=0.962467, took 37.075 s\n"
     ]
    },
    {
     "data": {
      "application/vnd.jupyter.widget-view+json": {
       "model_id": "",
       "version_major": 2,
       "version_minor": 0
      },
      "text/plain": [
       "HBox(children=(FloatProgress(value=0.0, description='Training', layout=Layout(flex='2'), max=1125.0, style=Pro…"
      ]
     },
     "metadata": {},
     "output_type": "display_data"
    },
    {
     "name": "stdout",
     "output_type": "stream",
     "text": [
      "Epoch 767: train=0.917866, val=0.945683, took 37.129 s\n"
     ]
    },
    {
     "data": {
      "application/vnd.jupyter.widget-view+json": {
       "model_id": "",
       "version_major": 2,
       "version_minor": 0
      },
      "text/plain": [
       "HBox(children=(FloatProgress(value=0.0, description='Training', layout=Layout(flex='2'), max=1125.0, style=Pro…"
      ]
     },
     "metadata": {},
     "output_type": "display_data"
    },
    {
     "name": "stdout",
     "output_type": "stream",
     "text": [
      "Epoch 768: train=0.921192, val=0.949462, took 37.014 s\n"
     ]
    },
    {
     "data": {
      "application/vnd.jupyter.widget-view+json": {
       "model_id": "",
       "version_major": 2,
       "version_minor": 0
      },
      "text/plain": [
       "HBox(children=(FloatProgress(value=0.0, description='Training', layout=Layout(flex='2'), max=1125.0, style=Pro…"
      ]
     },
     "metadata": {},
     "output_type": "display_data"
    },
    {
     "name": "stdout",
     "output_type": "stream",
     "text": [
      "Epoch 769: train=0.923335, val=0.945308, took 36.828 s\n"
     ]
    },
    {
     "data": {
      "application/vnd.jupyter.widget-view+json": {
       "model_id": "",
       "version_major": 2,
       "version_minor": 0
      },
      "text/plain": [
       "HBox(children=(FloatProgress(value=0.0, description='Training', layout=Layout(flex='2'), max=1125.0, style=Pro…"
      ]
     },
     "metadata": {},
     "output_type": "display_data"
    },
    {
     "name": "stdout",
     "output_type": "stream",
     "text": [
      "Epoch 770: train=0.918914, val=0.947763, took 36.923 s\n"
     ]
    },
    {
     "data": {
      "application/vnd.jupyter.widget-view+json": {
       "model_id": "",
       "version_major": 2,
       "version_minor": 0
      },
      "text/plain": [
       "HBox(children=(FloatProgress(value=0.0, description='Training', layout=Layout(flex='2'), max=1125.0, style=Pro…"
      ]
     },
     "metadata": {},
     "output_type": "display_data"
    },
    {
     "name": "stdout",
     "output_type": "stream",
     "text": [
      "Epoch 771: train=0.922903, val=0.948083, took 37.071 s\n"
     ]
    },
    {
     "data": {
      "application/vnd.jupyter.widget-view+json": {
       "model_id": "",
       "version_major": 2,
       "version_minor": 0
      },
      "text/plain": [
       "HBox(children=(FloatProgress(value=0.0, description='Training', layout=Layout(flex='2'), max=1125.0, style=Pro…"
      ]
     },
     "metadata": {},
     "output_type": "display_data"
    },
    {
     "name": "stdout",
     "output_type": "stream",
     "text": [
      "Epoch 772: train=0.921277, val=0.952734, took 36.919 s\n"
     ]
    },
    {
     "data": {
      "application/vnd.jupyter.widget-view+json": {
       "model_id": "",
       "version_major": 2,
       "version_minor": 0
      },
      "text/plain": [
       "HBox(children=(FloatProgress(value=0.0, description='Training', layout=Layout(flex='2'), max=1125.0, style=Pro…"
      ]
     },
     "metadata": {},
     "output_type": "display_data"
    },
    {
     "name": "stdout",
     "output_type": "stream",
     "text": [
      "Epoch 773: train=0.918711, val=0.952128, took 37.014 s\n"
     ]
    },
    {
     "data": {
      "application/vnd.jupyter.widget-view+json": {
       "model_id": "",
       "version_major": 2,
       "version_minor": 0
      },
      "text/plain": [
       "HBox(children=(FloatProgress(value=0.0, description='Training', layout=Layout(flex='2'), max=1125.0, style=Pro…"
      ]
     },
     "metadata": {},
     "output_type": "display_data"
    },
    {
     "name": "stdout",
     "output_type": "stream",
     "text": [
      "Epoch 774: train=0.923777, val=0.947855, took 36.912 s\n"
     ]
    },
    {
     "data": {
      "application/vnd.jupyter.widget-view+json": {
       "model_id": "",
       "version_major": 2,
       "version_minor": 0
      },
      "text/plain": [
       "HBox(children=(FloatProgress(value=0.0, description='Training', layout=Layout(flex='2'), max=1125.0, style=Pro…"
      ]
     },
     "metadata": {},
     "output_type": "display_data"
    },
    {
     "name": "stdout",
     "output_type": "stream",
     "text": [
      "Epoch 775: train=0.9196, val=0.951416, took 36.972 s\n"
     ]
    },
    {
     "data": {
      "application/vnd.jupyter.widget-view+json": {
       "model_id": "",
       "version_major": 2,
       "version_minor": 0
      },
      "text/plain": [
       "HBox(children=(FloatProgress(value=0.0, description='Training', layout=Layout(flex='2'), max=1125.0, style=Pro…"
      ]
     },
     "metadata": {},
     "output_type": "display_data"
    },
    {
     "name": "stdout",
     "output_type": "stream",
     "text": [
      "Epoch 776: train=0.922569, val=0.944846, took 37.124 s\n"
     ]
    },
    {
     "data": {
      "application/vnd.jupyter.widget-view+json": {
       "model_id": "",
       "version_major": 2,
       "version_minor": 0
      },
      "text/plain": [
       "HBox(children=(FloatProgress(value=0.0, description='Training', layout=Layout(flex='2'), max=1125.0, style=Pro…"
      ]
     },
     "metadata": {},
     "output_type": "display_data"
    },
    {
     "name": "stdout",
     "output_type": "stream",
     "text": [
      "Epoch 777: train=0.92324, val=0.966095, took 36.877 s\n"
     ]
    },
    {
     "data": {
      "application/vnd.jupyter.widget-view+json": {
       "model_id": "",
       "version_major": 2,
       "version_minor": 0
      },
      "text/plain": [
       "HBox(children=(FloatProgress(value=0.0, description='Training', layout=Layout(flex='2'), max=1125.0, style=Pro…"
      ]
     },
     "metadata": {},
     "output_type": "display_data"
    },
    {
     "name": "stdout",
     "output_type": "stream",
     "text": [
      "Epoch 778: train=0.919275, val=0.946794, took 37.067 s\n"
     ]
    },
    {
     "data": {
      "application/vnd.jupyter.widget-view+json": {
       "model_id": "",
       "version_major": 2,
       "version_minor": 0
      },
      "text/plain": [
       "HBox(children=(FloatProgress(value=0.0, description='Training', layout=Layout(flex='2'), max=1125.0, style=Pro…"
      ]
     },
     "metadata": {},
     "output_type": "display_data"
    },
    {
     "name": "stdout",
     "output_type": "stream",
     "text": [
      "Epoch 779: train=0.922505, val=0.945932, took 36.976 s\n"
     ]
    },
    {
     "data": {
      "application/vnd.jupyter.widget-view+json": {
       "model_id": "",
       "version_major": 2,
       "version_minor": 0
      },
      "text/plain": [
       "HBox(children=(FloatProgress(value=0.0, description='Training', layout=Layout(flex='2'), max=1125.0, style=Pro…"
      ]
     },
     "metadata": {},
     "output_type": "display_data"
    },
    {
     "name": "stdout",
     "output_type": "stream",
     "text": [
      "Epoch 780: train=0.92534, val=0.943807, took 36.827 s\n"
     ]
    },
    {
     "data": {
      "application/vnd.jupyter.widget-view+json": {
       "model_id": "",
       "version_major": 2,
       "version_minor": 0
      },
      "text/plain": [
       "HBox(children=(FloatProgress(value=0.0, description='Training', layout=Layout(flex='2'), max=1125.0, style=Pro…"
      ]
     },
     "metadata": {},
     "output_type": "display_data"
    },
    {
     "name": "stdout",
     "output_type": "stream",
     "text": [
      "Epoch 781: train=0.923605, val=0.988248, took 36.778 s\n"
     ]
    },
    {
     "data": {
      "application/vnd.jupyter.widget-view+json": {
       "model_id": "",
       "version_major": 2,
       "version_minor": 0
      },
      "text/plain": [
       "HBox(children=(FloatProgress(value=0.0, description='Training', layout=Layout(flex='2'), max=1125.0, style=Pro…"
      ]
     },
     "metadata": {},
     "output_type": "display_data"
    },
    {
     "name": "stdout",
     "output_type": "stream",
     "text": [
      "Epoch 782: train=0.919032, val=0.94367, took 36.955 s\n"
     ]
    },
    {
     "data": {
      "application/vnd.jupyter.widget-view+json": {
       "model_id": "",
       "version_major": 2,
       "version_minor": 0
      },
      "text/plain": [
       "HBox(children=(FloatProgress(value=0.0, description='Training', layout=Layout(flex='2'), max=1125.0, style=Pro…"
      ]
     },
     "metadata": {},
     "output_type": "display_data"
    },
    {
     "name": "stdout",
     "output_type": "stream",
     "text": [
      "Epoch 783: train=0.92348, val=0.949914, took 36.818 s\n"
     ]
    },
    {
     "data": {
      "application/vnd.jupyter.widget-view+json": {
       "model_id": "",
       "version_major": 2,
       "version_minor": 0
      },
      "text/plain": [
       "HBox(children=(FloatProgress(value=0.0, description='Training', layout=Layout(flex='2'), max=1125.0, style=Pro…"
      ]
     },
     "metadata": {},
     "output_type": "display_data"
    },
    {
     "name": "stdout",
     "output_type": "stream",
     "text": [
      "Epoch 784: train=0.924953, val=0.946843, took 36.889 s\n"
     ]
    },
    {
     "data": {
      "application/vnd.jupyter.widget-view+json": {
       "model_id": "",
       "version_major": 2,
       "version_minor": 0
      },
      "text/plain": [
       "HBox(children=(FloatProgress(value=0.0, description='Training', layout=Layout(flex='2'), max=1125.0, style=Pro…"
      ]
     },
     "metadata": {},
     "output_type": "display_data"
    },
    {
     "name": "stdout",
     "output_type": "stream",
     "text": [
      "Epoch 785: train=0.922718, val=0.949515, took 36.867 s\n"
     ]
    },
    {
     "data": {
      "application/vnd.jupyter.widget-view+json": {
       "model_id": "",
       "version_major": 2,
       "version_minor": 0
      },
      "text/plain": [
       "HBox(children=(FloatProgress(value=0.0, description='Training', layout=Layout(flex='2'), max=1125.0, style=Pro…"
      ]
     },
     "metadata": {},
     "output_type": "display_data"
    },
    {
     "name": "stdout",
     "output_type": "stream",
     "text": [
      "Epoch 786: train=0.917034, val=0.979981, took 36.9 s\n"
     ]
    },
    {
     "data": {
      "application/vnd.jupyter.widget-view+json": {
       "model_id": "",
       "version_major": 2,
       "version_minor": 0
      },
      "text/plain": [
       "HBox(children=(FloatProgress(value=0.0, description='Training', layout=Layout(flex='2'), max=1125.0, style=Pro…"
      ]
     },
     "metadata": {},
     "output_type": "display_data"
    },
    {
     "name": "stdout",
     "output_type": "stream",
     "text": [
      "Epoch 787: train=0.92747, val=0.993167, took 36.935 s\n"
     ]
    },
    {
     "data": {
      "application/vnd.jupyter.widget-view+json": {
       "model_id": "",
       "version_major": 2,
       "version_minor": 0
      },
      "text/plain": [
       "HBox(children=(FloatProgress(value=0.0, description='Training', layout=Layout(flex='2'), max=1125.0, style=Pro…"
      ]
     },
     "metadata": {},
     "output_type": "display_data"
    },
    {
     "name": "stdout",
     "output_type": "stream",
     "text": [
      "Epoch 788: train=0.924409, val=0.961473, took 37.579 s\n"
     ]
    },
    {
     "data": {
      "application/vnd.jupyter.widget-view+json": {
       "model_id": "",
       "version_major": 2,
       "version_minor": 0
      },
      "text/plain": [
       "HBox(children=(FloatProgress(value=0.0, description='Training', layout=Layout(flex='2'), max=1125.0, style=Pro…"
      ]
     },
     "metadata": {},
     "output_type": "display_data"
    },
    {
     "name": "stdout",
     "output_type": "stream",
     "text": [
      "Epoch 789: train=0.925299, val=0.959882, took 36.92 s\n"
     ]
    },
    {
     "data": {
      "application/vnd.jupyter.widget-view+json": {
       "model_id": "",
       "version_major": 2,
       "version_minor": 0
      },
      "text/plain": [
       "HBox(children=(FloatProgress(value=0.0, description='Training', layout=Layout(flex='2'), max=1125.0, style=Pro…"
      ]
     },
     "metadata": {},
     "output_type": "display_data"
    },
    {
     "name": "stdout",
     "output_type": "stream",
     "text": [
      "Epoch 790: train=0.917258, val=0.961083, took 36.93 s\n"
     ]
    },
    {
     "data": {
      "application/vnd.jupyter.widget-view+json": {
       "model_id": "",
       "version_major": 2,
       "version_minor": 0
      },
      "text/plain": [
       "HBox(children=(FloatProgress(value=0.0, description='Training', layout=Layout(flex='2'), max=1125.0, style=Pro…"
      ]
     },
     "metadata": {},
     "output_type": "display_data"
    },
    {
     "name": "stdout",
     "output_type": "stream",
     "text": [
      "Epoch 791: train=0.923127, val=0.990675, took 36.961 s\n"
     ]
    },
    {
     "data": {
      "application/vnd.jupyter.widget-view+json": {
       "model_id": "",
       "version_major": 2,
       "version_minor": 0
      },
      "text/plain": [
       "HBox(children=(FloatProgress(value=0.0, description='Training', layout=Layout(flex='2'), max=1125.0, style=Pro…"
      ]
     },
     "metadata": {},
     "output_type": "display_data"
    },
    {
     "name": "stdout",
     "output_type": "stream",
     "text": [
      "Epoch 792: train=0.921187, val=0.952151, took 36.843 s\n"
     ]
    },
    {
     "data": {
      "application/vnd.jupyter.widget-view+json": {
       "model_id": "",
       "version_major": 2,
       "version_minor": 0
      },
      "text/plain": [
       "HBox(children=(FloatProgress(value=0.0, description='Training', layout=Layout(flex='2'), max=1125.0, style=Pro…"
      ]
     },
     "metadata": {},
     "output_type": "display_data"
    },
    {
     "name": "stdout",
     "output_type": "stream",
     "text": [
      "Epoch 793: train=0.924583, val=0.947018, took 36.891 s\n"
     ]
    },
    {
     "data": {
      "application/vnd.jupyter.widget-view+json": {
       "model_id": "",
       "version_major": 2,
       "version_minor": 0
      },
      "text/plain": [
       "HBox(children=(FloatProgress(value=0.0, description='Training', layout=Layout(flex='2'), max=1125.0, style=Pro…"
      ]
     },
     "metadata": {},
     "output_type": "display_data"
    },
    {
     "name": "stdout",
     "output_type": "stream",
     "text": [
      "Epoch 794: train=0.923975, val=0.967473, took 36.911 s\n"
     ]
    },
    {
     "data": {
      "application/vnd.jupyter.widget-view+json": {
       "model_id": "",
       "version_major": 2,
       "version_minor": 0
      },
      "text/plain": [
       "HBox(children=(FloatProgress(value=0.0, description='Training', layout=Layout(flex='2'), max=1125.0, style=Pro…"
      ]
     },
     "metadata": {},
     "output_type": "display_data"
    },
    {
     "name": "stdout",
     "output_type": "stream",
     "text": [
      "Epoch 795: train=0.916468, val=0.945931, took 37.059 s\n"
     ]
    },
    {
     "data": {
      "application/vnd.jupyter.widget-view+json": {
       "model_id": "",
       "version_major": 2,
       "version_minor": 0
      },
      "text/plain": [
       "HBox(children=(FloatProgress(value=0.0, description='Training', layout=Layout(flex='2'), max=1125.0, style=Pro…"
      ]
     },
     "metadata": {},
     "output_type": "display_data"
    },
    {
     "name": "stdout",
     "output_type": "stream",
     "text": [
      "Epoch 796: train=0.922674, val=0.944872, took 36.921 s\n"
     ]
    },
    {
     "data": {
      "application/vnd.jupyter.widget-view+json": {
       "model_id": "",
       "version_major": 2,
       "version_minor": 0
      },
      "text/plain": [
       "HBox(children=(FloatProgress(value=0.0, description='Training', layout=Layout(flex='2'), max=1125.0, style=Pro…"
      ]
     },
     "metadata": {},
     "output_type": "display_data"
    },
    {
     "name": "stdout",
     "output_type": "stream",
     "text": [
      "Epoch 797: train=0.919265, val=0.947981, took 37.022 s\n"
     ]
    },
    {
     "data": {
      "application/vnd.jupyter.widget-view+json": {
       "model_id": "",
       "version_major": 2,
       "version_minor": 0
      },
      "text/plain": [
       "HBox(children=(FloatProgress(value=0.0, description='Training', layout=Layout(flex='2'), max=1125.0, style=Pro…"
      ]
     },
     "metadata": {},
     "output_type": "display_data"
    },
    {
     "name": "stdout",
     "output_type": "stream",
     "text": [
      "Epoch 798: train=0.919042, val=0.949304, took 36.896 s\n"
     ]
    },
    {
     "data": {
      "application/vnd.jupyter.widget-view+json": {
       "model_id": "",
       "version_major": 2,
       "version_minor": 0
      },
      "text/plain": [
       "HBox(children=(FloatProgress(value=0.0, description='Training', layout=Layout(flex='2'), max=1125.0, style=Pro…"
      ]
     },
     "metadata": {},
     "output_type": "display_data"
    },
    {
     "name": "stdout",
     "output_type": "stream",
     "text": [
      "Epoch 799: train=0.921305, val=0.956971, took 36.846 s\n",
      "\n"
     ]
    }
   ],
   "source": [
    "for result in trainNet(model, optimizer, loss,\n",
    "                        train_loader, val_loader,\n",
    "                        n_epochs, epoch_start=len(results),\n",
    "                        notebook=True):\n",
    "    \n",
    "    results = results.append(pd.Series(result._asdict()), ignore_index=True)\n",
    "    xs = results.index\n",
    "    \n",
    "    # Update the plot above\n",
    "    lines['train'].set_data(results.index,results.cost)\n",
    "    lines['val'].set_data(results.index,results.val)\n",
    "    \n",
    "    #filter first cost epoch (can be really large)\n",
    "    max_cost = max(max(results.cost if len(results.cost)<2 else results.cost[1:]), max(results.val))\n",
    "    min_cost = min(min(results.cost), min(results.val))\n",
    "    \n",
    "    # The plot limits need updating too\n",
    "    \n",
    "    \n",
    "    \n",
    "    ax.set_ylim(min_cost*.9, max_cost*1.1)  \n",
    "    ax.set_xlim(-.5, len(results.cost) - .5)\n",
    "\n",
    "    \n",
    "    # Redraw the figure\n",
    "    fig.canvas.draw()\n",
    "\n",
    "    # Save each model state dictionary\n",
    "    torch.save(model.state_dict(), output / f'{name}_{result.epoch}.pyt')"
   ]
  },
  {
   "cell_type": "markdown",
   "metadata": {},
   "source": [
    "Go ahead and save the final model (even though it was also saved above):"
   ]
  },
  {
   "cell_type": "code",
   "execution_count": 18,
   "metadata": {},
   "outputs": [],
   "source": [
    "torch.save(model.state_dict(), output / f'{name}_final.pyt')"
   ]
  },
  {
   "cell_type": "markdown",
   "metadata": {},
   "source": [
    "Save the output results:"
   ]
  },
  {
   "cell_type": "code",
   "execution_count": 19,
   "metadata": {},
   "outputs": [],
   "source": [
    "results.to_hdf(f'{name}_stats.hdf5', 'results')"
   ]
  },
  {
   "cell_type": "markdown",
   "metadata": {},
   "source": [
    "Save the plot above:"
   ]
  },
  {
   "cell_type": "code",
   "execution_count": 20,
   "metadata": {},
   "outputs": [
    {
     "data": {
      "application/javascript": [
       "/* Put everything inside the global mpl namespace */\n",
       "window.mpl = {};\n",
       "\n",
       "\n",
       "mpl.get_websocket_type = function() {\n",
       "    if (typeof(WebSocket) !== 'undefined') {\n",
       "        return WebSocket;\n",
       "    } else if (typeof(MozWebSocket) !== 'undefined') {\n",
       "        return MozWebSocket;\n",
       "    } else {\n",
       "        alert('Your browser does not have WebSocket support. ' +\n",
       "              'Please try Chrome, Safari or Firefox ≥ 6. ' +\n",
       "              'Firefox 4 and 5 are also supported but you ' +\n",
       "              'have to enable WebSockets in about:config.');\n",
       "    };\n",
       "}\n",
       "\n",
       "mpl.figure = function(figure_id, websocket, ondownload, parent_element) {\n",
       "    this.id = figure_id;\n",
       "\n",
       "    this.ws = websocket;\n",
       "\n",
       "    this.supports_binary = (this.ws.binaryType != undefined);\n",
       "\n",
       "    if (!this.supports_binary) {\n",
       "        var warnings = document.getElementById(\"mpl-warnings\");\n",
       "        if (warnings) {\n",
       "            warnings.style.display = 'block';\n",
       "            warnings.textContent = (\n",
       "                \"This browser does not support binary websocket messages. \" +\n",
       "                    \"Performance may be slow.\");\n",
       "        }\n",
       "    }\n",
       "\n",
       "    this.imageObj = new Image();\n",
       "\n",
       "    this.context = undefined;\n",
       "    this.message = undefined;\n",
       "    this.canvas = undefined;\n",
       "    this.rubberband_canvas = undefined;\n",
       "    this.rubberband_context = undefined;\n",
       "    this.format_dropdown = undefined;\n",
       "\n",
       "    this.image_mode = 'full';\n",
       "\n",
       "    this.root = $('<div/>');\n",
       "    this._root_extra_style(this.root)\n",
       "    this.root.attr('style', 'display: inline-block');\n",
       "\n",
       "    $(parent_element).append(this.root);\n",
       "\n",
       "    this._init_header(this);\n",
       "    this._init_canvas(this);\n",
       "    this._init_toolbar(this);\n",
       "\n",
       "    var fig = this;\n",
       "\n",
       "    this.waiting = false;\n",
       "\n",
       "    this.ws.onopen =  function () {\n",
       "            fig.send_message(\"supports_binary\", {value: fig.supports_binary});\n",
       "            fig.send_message(\"send_image_mode\", {});\n",
       "            if (mpl.ratio != 1) {\n",
       "                fig.send_message(\"set_dpi_ratio\", {'dpi_ratio': mpl.ratio});\n",
       "            }\n",
       "            fig.send_message(\"refresh\", {});\n",
       "        }\n",
       "\n",
       "    this.imageObj.onload = function() {\n",
       "            if (fig.image_mode == 'full') {\n",
       "                // Full images could contain transparency (where diff images\n",
       "                // almost always do), so we need to clear the canvas so that\n",
       "                // there is no ghosting.\n",
       "                fig.context.clearRect(0, 0, fig.canvas.width, fig.canvas.height);\n",
       "            }\n",
       "            fig.context.drawImage(fig.imageObj, 0, 0);\n",
       "        };\n",
       "\n",
       "    this.imageObj.onunload = function() {\n",
       "        fig.ws.close();\n",
       "    }\n",
       "\n",
       "    this.ws.onmessage = this._make_on_message_function(this);\n",
       "\n",
       "    this.ondownload = ondownload;\n",
       "}\n",
       "\n",
       "mpl.figure.prototype._init_header = function() {\n",
       "    var titlebar = $(\n",
       "        '<div class=\"ui-dialog-titlebar ui-widget-header ui-corner-all ' +\n",
       "        'ui-helper-clearfix\"/>');\n",
       "    var titletext = $(\n",
       "        '<div class=\"ui-dialog-title\" style=\"width: 100%; ' +\n",
       "        'text-align: center; padding: 3px;\"/>');\n",
       "    titlebar.append(titletext)\n",
       "    this.root.append(titlebar);\n",
       "    this.header = titletext[0];\n",
       "}\n",
       "\n",
       "\n",
       "\n",
       "mpl.figure.prototype._canvas_extra_style = function(canvas_div) {\n",
       "\n",
       "}\n",
       "\n",
       "\n",
       "mpl.figure.prototype._root_extra_style = function(canvas_div) {\n",
       "\n",
       "}\n",
       "\n",
       "mpl.figure.prototype._init_canvas = function() {\n",
       "    var fig = this;\n",
       "\n",
       "    var canvas_div = $('<div/>');\n",
       "\n",
       "    canvas_div.attr('style', 'position: relative; clear: both; outline: 0');\n",
       "\n",
       "    function canvas_keyboard_event(event) {\n",
       "        return fig.key_event(event, event['data']);\n",
       "    }\n",
       "\n",
       "    canvas_div.keydown('key_press', canvas_keyboard_event);\n",
       "    canvas_div.keyup('key_release', canvas_keyboard_event);\n",
       "    this.canvas_div = canvas_div\n",
       "    this._canvas_extra_style(canvas_div)\n",
       "    this.root.append(canvas_div);\n",
       "\n",
       "    var canvas = $('<canvas/>');\n",
       "    canvas.addClass('mpl-canvas');\n",
       "    canvas.attr('style', \"left: 0; top: 0; z-index: 0; outline: 0\")\n",
       "\n",
       "    this.canvas = canvas[0];\n",
       "    this.context = canvas[0].getContext(\"2d\");\n",
       "\n",
       "    var backingStore = this.context.backingStorePixelRatio ||\n",
       "\tthis.context.webkitBackingStorePixelRatio ||\n",
       "\tthis.context.mozBackingStorePixelRatio ||\n",
       "\tthis.context.msBackingStorePixelRatio ||\n",
       "\tthis.context.oBackingStorePixelRatio ||\n",
       "\tthis.context.backingStorePixelRatio || 1;\n",
       "\n",
       "    mpl.ratio = (window.devicePixelRatio || 1) / backingStore;\n",
       "\n",
       "    var rubberband = $('<canvas/>');\n",
       "    rubberband.attr('style', \"position: absolute; left: 0; top: 0; z-index: 1;\")\n",
       "\n",
       "    var pass_mouse_events = true;\n",
       "\n",
       "    canvas_div.resizable({\n",
       "        start: function(event, ui) {\n",
       "            pass_mouse_events = false;\n",
       "        },\n",
       "        resize: function(event, ui) {\n",
       "            fig.request_resize(ui.size.width, ui.size.height);\n",
       "        },\n",
       "        stop: function(event, ui) {\n",
       "            pass_mouse_events = true;\n",
       "            fig.request_resize(ui.size.width, ui.size.height);\n",
       "        },\n",
       "    });\n",
       "\n",
       "    function mouse_event_fn(event) {\n",
       "        if (pass_mouse_events)\n",
       "            return fig.mouse_event(event, event['data']);\n",
       "    }\n",
       "\n",
       "    rubberband.mousedown('button_press', mouse_event_fn);\n",
       "    rubberband.mouseup('button_release', mouse_event_fn);\n",
       "    // Throttle sequential mouse events to 1 every 20ms.\n",
       "    rubberband.mousemove('motion_notify', mouse_event_fn);\n",
       "\n",
       "    rubberband.mouseenter('figure_enter', mouse_event_fn);\n",
       "    rubberband.mouseleave('figure_leave', mouse_event_fn);\n",
       "\n",
       "    canvas_div.on(\"wheel\", function (event) {\n",
       "        event = event.originalEvent;\n",
       "        event['data'] = 'scroll'\n",
       "        if (event.deltaY < 0) {\n",
       "            event.step = 1;\n",
       "        } else {\n",
       "            event.step = -1;\n",
       "        }\n",
       "        mouse_event_fn(event);\n",
       "    });\n",
       "\n",
       "    canvas_div.append(canvas);\n",
       "    canvas_div.append(rubberband);\n",
       "\n",
       "    this.rubberband = rubberband;\n",
       "    this.rubberband_canvas = rubberband[0];\n",
       "    this.rubberband_context = rubberband[0].getContext(\"2d\");\n",
       "    this.rubberband_context.strokeStyle = \"#000000\";\n",
       "\n",
       "    this._resize_canvas = function(width, height) {\n",
       "        // Keep the size of the canvas, canvas container, and rubber band\n",
       "        // canvas in synch.\n",
       "        canvas_div.css('width', width)\n",
       "        canvas_div.css('height', height)\n",
       "\n",
       "        canvas.attr('width', width * mpl.ratio);\n",
       "        canvas.attr('height', height * mpl.ratio);\n",
       "        canvas.attr('style', 'width: ' + width + 'px; height: ' + height + 'px;');\n",
       "\n",
       "        rubberband.attr('width', width);\n",
       "        rubberband.attr('height', height);\n",
       "    }\n",
       "\n",
       "    // Set the figure to an initial 600x600px, this will subsequently be updated\n",
       "    // upon first draw.\n",
       "    this._resize_canvas(600, 600);\n",
       "\n",
       "    // Disable right mouse context menu.\n",
       "    $(this.rubberband_canvas).bind(\"contextmenu\",function(e){\n",
       "        return false;\n",
       "    });\n",
       "\n",
       "    function set_focus () {\n",
       "        canvas.focus();\n",
       "        canvas_div.focus();\n",
       "    }\n",
       "\n",
       "    window.setTimeout(set_focus, 100);\n",
       "}\n",
       "\n",
       "mpl.figure.prototype._init_toolbar = function() {\n",
       "    var fig = this;\n",
       "\n",
       "    var nav_element = $('<div/>');\n",
       "    nav_element.attr('style', 'width: 100%');\n",
       "    this.root.append(nav_element);\n",
       "\n",
       "    // Define a callback function for later on.\n",
       "    function toolbar_event(event) {\n",
       "        return fig.toolbar_button_onclick(event['data']);\n",
       "    }\n",
       "    function toolbar_mouse_event(event) {\n",
       "        return fig.toolbar_button_onmouseover(event['data']);\n",
       "    }\n",
       "\n",
       "    for(var toolbar_ind in mpl.toolbar_items) {\n",
       "        var name = mpl.toolbar_items[toolbar_ind][0];\n",
       "        var tooltip = mpl.toolbar_items[toolbar_ind][1];\n",
       "        var image = mpl.toolbar_items[toolbar_ind][2];\n",
       "        var method_name = mpl.toolbar_items[toolbar_ind][3];\n",
       "\n",
       "        if (!name) {\n",
       "            // put a spacer in here.\n",
       "            continue;\n",
       "        }\n",
       "        var button = $('<button/>');\n",
       "        button.addClass('ui-button ui-widget ui-state-default ui-corner-all ' +\n",
       "                        'ui-button-icon-only');\n",
       "        button.attr('role', 'button');\n",
       "        button.attr('aria-disabled', 'false');\n",
       "        button.click(method_name, toolbar_event);\n",
       "        button.mouseover(tooltip, toolbar_mouse_event);\n",
       "\n",
       "        var icon_img = $('<span/>');\n",
       "        icon_img.addClass('ui-button-icon-primary ui-icon');\n",
       "        icon_img.addClass(image);\n",
       "        icon_img.addClass('ui-corner-all');\n",
       "\n",
       "        var tooltip_span = $('<span/>');\n",
       "        tooltip_span.addClass('ui-button-text');\n",
       "        tooltip_span.html(tooltip);\n",
       "\n",
       "        button.append(icon_img);\n",
       "        button.append(tooltip_span);\n",
       "\n",
       "        nav_element.append(button);\n",
       "    }\n",
       "\n",
       "    var fmt_picker_span = $('<span/>');\n",
       "\n",
       "    var fmt_picker = $('<select/>');\n",
       "    fmt_picker.addClass('mpl-toolbar-option ui-widget ui-widget-content');\n",
       "    fmt_picker_span.append(fmt_picker);\n",
       "    nav_element.append(fmt_picker_span);\n",
       "    this.format_dropdown = fmt_picker[0];\n",
       "\n",
       "    for (var ind in mpl.extensions) {\n",
       "        var fmt = mpl.extensions[ind];\n",
       "        var option = $(\n",
       "            '<option/>', {selected: fmt === mpl.default_extension}).html(fmt);\n",
       "        fmt_picker.append(option);\n",
       "    }\n",
       "\n",
       "    // Add hover states to the ui-buttons\n",
       "    $( \".ui-button\" ).hover(\n",
       "        function() { $(this).addClass(\"ui-state-hover\");},\n",
       "        function() { $(this).removeClass(\"ui-state-hover\");}\n",
       "    );\n",
       "\n",
       "    var status_bar = $('<span class=\"mpl-message\"/>');\n",
       "    nav_element.append(status_bar);\n",
       "    this.message = status_bar[0];\n",
       "}\n",
       "\n",
       "mpl.figure.prototype.request_resize = function(x_pixels, y_pixels) {\n",
       "    // Request matplotlib to resize the figure. Matplotlib will then trigger a resize in the client,\n",
       "    // which will in turn request a refresh of the image.\n",
       "    this.send_message('resize', {'width': x_pixels, 'height': y_pixels});\n",
       "}\n",
       "\n",
       "mpl.figure.prototype.send_message = function(type, properties) {\n",
       "    properties['type'] = type;\n",
       "    properties['figure_id'] = this.id;\n",
       "    this.ws.send(JSON.stringify(properties));\n",
       "}\n",
       "\n",
       "mpl.figure.prototype.send_draw_message = function() {\n",
       "    if (!this.waiting) {\n",
       "        this.waiting = true;\n",
       "        this.ws.send(JSON.stringify({type: \"draw\", figure_id: this.id}));\n",
       "    }\n",
       "}\n",
       "\n",
       "\n",
       "mpl.figure.prototype.handle_save = function(fig, msg) {\n",
       "    var format_dropdown = fig.format_dropdown;\n",
       "    var format = format_dropdown.options[format_dropdown.selectedIndex].value;\n",
       "    fig.ondownload(fig, format);\n",
       "}\n",
       "\n",
       "\n",
       "mpl.figure.prototype.handle_resize = function(fig, msg) {\n",
       "    var size = msg['size'];\n",
       "    if (size[0] != fig.canvas.width || size[1] != fig.canvas.height) {\n",
       "        fig._resize_canvas(size[0], size[1]);\n",
       "        fig.send_message(\"refresh\", {});\n",
       "    };\n",
       "}\n",
       "\n",
       "mpl.figure.prototype.handle_rubberband = function(fig, msg) {\n",
       "    var x0 = msg['x0'] / mpl.ratio;\n",
       "    var y0 = (fig.canvas.height - msg['y0']) / mpl.ratio;\n",
       "    var x1 = msg['x1'] / mpl.ratio;\n",
       "    var y1 = (fig.canvas.height - msg['y1']) / mpl.ratio;\n",
       "    x0 = Math.floor(x0) + 0.5;\n",
       "    y0 = Math.floor(y0) + 0.5;\n",
       "    x1 = Math.floor(x1) + 0.5;\n",
       "    y1 = Math.floor(y1) + 0.5;\n",
       "    var min_x = Math.min(x0, x1);\n",
       "    var min_y = Math.min(y0, y1);\n",
       "    var width = Math.abs(x1 - x0);\n",
       "    var height = Math.abs(y1 - y0);\n",
       "\n",
       "    fig.rubberband_context.clearRect(\n",
       "        0, 0, fig.canvas.width / mpl.ratio, fig.canvas.height / mpl.ratio);\n",
       "\n",
       "    fig.rubberband_context.strokeRect(min_x, min_y, width, height);\n",
       "}\n",
       "\n",
       "mpl.figure.prototype.handle_figure_label = function(fig, msg) {\n",
       "    // Updates the figure title.\n",
       "    fig.header.textContent = msg['label'];\n",
       "}\n",
       "\n",
       "mpl.figure.prototype.handle_cursor = function(fig, msg) {\n",
       "    var cursor = msg['cursor'];\n",
       "    switch(cursor)\n",
       "    {\n",
       "    case 0:\n",
       "        cursor = 'pointer';\n",
       "        break;\n",
       "    case 1:\n",
       "        cursor = 'default';\n",
       "        break;\n",
       "    case 2:\n",
       "        cursor = 'crosshair';\n",
       "        break;\n",
       "    case 3:\n",
       "        cursor = 'move';\n",
       "        break;\n",
       "    }\n",
       "    fig.rubberband_canvas.style.cursor = cursor;\n",
       "}\n",
       "\n",
       "mpl.figure.prototype.handle_message = function(fig, msg) {\n",
       "    fig.message.textContent = msg['message'];\n",
       "}\n",
       "\n",
       "mpl.figure.prototype.handle_draw = function(fig, msg) {\n",
       "    // Request the server to send over a new figure.\n",
       "    fig.send_draw_message();\n",
       "}\n",
       "\n",
       "mpl.figure.prototype.handle_image_mode = function(fig, msg) {\n",
       "    fig.image_mode = msg['mode'];\n",
       "}\n",
       "\n",
       "mpl.figure.prototype.updated_canvas_event = function() {\n",
       "    // Called whenever the canvas gets updated.\n",
       "    this.send_message(\"ack\", {});\n",
       "}\n",
       "\n",
       "// A function to construct a web socket function for onmessage handling.\n",
       "// Called in the figure constructor.\n",
       "mpl.figure.prototype._make_on_message_function = function(fig) {\n",
       "    return function socket_on_message(evt) {\n",
       "        if (evt.data instanceof Blob) {\n",
       "            /* FIXME: We get \"Resource interpreted as Image but\n",
       "             * transferred with MIME type text/plain:\" errors on\n",
       "             * Chrome.  But how to set the MIME type?  It doesn't seem\n",
       "             * to be part of the websocket stream */\n",
       "            evt.data.type = \"image/png\";\n",
       "\n",
       "            /* Free the memory for the previous frames */\n",
       "            if (fig.imageObj.src) {\n",
       "                (window.URL || window.webkitURL).revokeObjectURL(\n",
       "                    fig.imageObj.src);\n",
       "            }\n",
       "\n",
       "            fig.imageObj.src = (window.URL || window.webkitURL).createObjectURL(\n",
       "                evt.data);\n",
       "            fig.updated_canvas_event();\n",
       "            fig.waiting = false;\n",
       "            return;\n",
       "        }\n",
       "        else if (typeof evt.data === 'string' && evt.data.slice(0, 21) == \"data:image/png;base64\") {\n",
       "            fig.imageObj.src = evt.data;\n",
       "            fig.updated_canvas_event();\n",
       "            fig.waiting = false;\n",
       "            return;\n",
       "        }\n",
       "\n",
       "        var msg = JSON.parse(evt.data);\n",
       "        var msg_type = msg['type'];\n",
       "\n",
       "        // Call the  \"handle_{type}\" callback, which takes\n",
       "        // the figure and JSON message as its only arguments.\n",
       "        try {\n",
       "            var callback = fig[\"handle_\" + msg_type];\n",
       "        } catch (e) {\n",
       "            console.log(\"No handler for the '\" + msg_type + \"' message type: \", msg);\n",
       "            return;\n",
       "        }\n",
       "\n",
       "        if (callback) {\n",
       "            try {\n",
       "                // console.log(\"Handling '\" + msg_type + \"' message: \", msg);\n",
       "                callback(fig, msg);\n",
       "            } catch (e) {\n",
       "                console.log(\"Exception inside the 'handler_\" + msg_type + \"' callback:\", e, e.stack, msg);\n",
       "            }\n",
       "        }\n",
       "    };\n",
       "}\n",
       "\n",
       "// from http://stackoverflow.com/questions/1114465/getting-mouse-location-in-canvas\n",
       "mpl.findpos = function(e) {\n",
       "    //this section is from http://www.quirksmode.org/js/events_properties.html\n",
       "    var targ;\n",
       "    if (!e)\n",
       "        e = window.event;\n",
       "    if (e.target)\n",
       "        targ = e.target;\n",
       "    else if (e.srcElement)\n",
       "        targ = e.srcElement;\n",
       "    if (targ.nodeType == 3) // defeat Safari bug\n",
       "        targ = targ.parentNode;\n",
       "\n",
       "    // jQuery normalizes the pageX and pageY\n",
       "    // pageX,Y are the mouse positions relative to the document\n",
       "    // offset() returns the position of the element relative to the document\n",
       "    var x = e.pageX - $(targ).offset().left;\n",
       "    var y = e.pageY - $(targ).offset().top;\n",
       "\n",
       "    return {\"x\": x, \"y\": y};\n",
       "};\n",
       "\n",
       "/*\n",
       " * return a copy of an object with only non-object keys\n",
       " * we need this to avoid circular references\n",
       " * http://stackoverflow.com/a/24161582/3208463\n",
       " */\n",
       "function simpleKeys (original) {\n",
       "  return Object.keys(original).reduce(function (obj, key) {\n",
       "    if (typeof original[key] !== 'object')\n",
       "        obj[key] = original[key]\n",
       "    return obj;\n",
       "  }, {});\n",
       "}\n",
       "\n",
       "mpl.figure.prototype.mouse_event = function(event, name) {\n",
       "    var canvas_pos = mpl.findpos(event)\n",
       "\n",
       "    if (name === 'button_press')\n",
       "    {\n",
       "        this.canvas.focus();\n",
       "        this.canvas_div.focus();\n",
       "    }\n",
       "\n",
       "    var x = canvas_pos.x * mpl.ratio;\n",
       "    var y = canvas_pos.y * mpl.ratio;\n",
       "\n",
       "    this.send_message(name, {x: x, y: y, button: event.button,\n",
       "                             step: event.step,\n",
       "                             guiEvent: simpleKeys(event)});\n",
       "\n",
       "    /* This prevents the web browser from automatically changing to\n",
       "     * the text insertion cursor when the button is pressed.  We want\n",
       "     * to control all of the cursor setting manually through the\n",
       "     * 'cursor' event from matplotlib */\n",
       "    event.preventDefault();\n",
       "    return false;\n",
       "}\n",
       "\n",
       "mpl.figure.prototype._key_event_extra = function(event, name) {\n",
       "    // Handle any extra behaviour associated with a key event\n",
       "}\n",
       "\n",
       "mpl.figure.prototype.key_event = function(event, name) {\n",
       "\n",
       "    // Prevent repeat events\n",
       "    if (name == 'key_press')\n",
       "    {\n",
       "        if (event.which === this._key)\n",
       "            return;\n",
       "        else\n",
       "            this._key = event.which;\n",
       "    }\n",
       "    if (name == 'key_release')\n",
       "        this._key = null;\n",
       "\n",
       "    var value = '';\n",
       "    if (event.ctrlKey && event.which != 17)\n",
       "        value += \"ctrl+\";\n",
       "    if (event.altKey && event.which != 18)\n",
       "        value += \"alt+\";\n",
       "    if (event.shiftKey && event.which != 16)\n",
       "        value += \"shift+\";\n",
       "\n",
       "    value += 'k';\n",
       "    value += event.which.toString();\n",
       "\n",
       "    this._key_event_extra(event, name);\n",
       "\n",
       "    this.send_message(name, {key: value,\n",
       "                             guiEvent: simpleKeys(event)});\n",
       "    return false;\n",
       "}\n",
       "\n",
       "mpl.figure.prototype.toolbar_button_onclick = function(name) {\n",
       "    if (name == 'download') {\n",
       "        this.handle_save(this, null);\n",
       "    } else {\n",
       "        this.send_message(\"toolbar_button\", {name: name});\n",
       "    }\n",
       "};\n",
       "\n",
       "mpl.figure.prototype.toolbar_button_onmouseover = function(tooltip) {\n",
       "    this.message.textContent = tooltip;\n",
       "};\n",
       "mpl.toolbar_items = [[\"Home\", \"Reset original view\", \"fa fa-home icon-home\", \"home\"], [\"Back\", \"Back to previous view\", \"fa fa-arrow-left icon-arrow-left\", \"back\"], [\"Forward\", \"Forward to next view\", \"fa fa-arrow-right icon-arrow-right\", \"forward\"], [\"\", \"\", \"\", \"\"], [\"Pan\", \"Pan axes with left mouse, zoom with right\", \"fa fa-arrows icon-move\", \"pan\"], [\"Zoom\", \"Zoom to rectangle\", \"fa fa-square-o icon-check-empty\", \"zoom\"], [\"\", \"\", \"\", \"\"], [\"Download\", \"Download plot\", \"fa fa-floppy-o icon-save\", \"download\"]];\n",
       "\n",
       "mpl.extensions = [\"eps\", \"jpeg\", \"pdf\", \"png\", \"ps\", \"raw\", \"svg\", \"tif\"];\n",
       "\n",
       "mpl.default_extension = \"png\";var comm_websocket_adapter = function(comm) {\n",
       "    // Create a \"websocket\"-like object which calls the given IPython comm\n",
       "    // object with the appropriate methods. Currently this is a non binary\n",
       "    // socket, so there is still some room for performance tuning.\n",
       "    var ws = {};\n",
       "\n",
       "    ws.close = function() {\n",
       "        comm.close()\n",
       "    };\n",
       "    ws.send = function(m) {\n",
       "        //console.log('sending', m);\n",
       "        comm.send(m);\n",
       "    };\n",
       "    // Register the callback with on_msg.\n",
       "    comm.on_msg(function(msg) {\n",
       "        //console.log('receiving', msg['content']['data'], msg);\n",
       "        // Pass the mpl event to the overridden (by mpl) onmessage function.\n",
       "        ws.onmessage(msg['content']['data'])\n",
       "    });\n",
       "    return ws;\n",
       "}\n",
       "\n",
       "mpl.mpl_figure_comm = function(comm, msg) {\n",
       "    // This is the function which gets called when the mpl process\n",
       "    // starts-up an IPython Comm through the \"matplotlib\" channel.\n",
       "\n",
       "    var id = msg.content.data.id;\n",
       "    // Get hold of the div created by the display call when the Comm\n",
       "    // socket was opened in Python.\n",
       "    var element = $(\"#\" + id);\n",
       "    var ws_proxy = comm_websocket_adapter(comm)\n",
       "\n",
       "    function ondownload(figure, format) {\n",
       "        window.open(figure.imageObj.src);\n",
       "    }\n",
       "\n",
       "    var fig = new mpl.figure(id, ws_proxy,\n",
       "                           ondownload,\n",
       "                           element.get(0));\n",
       "\n",
       "    // Call onopen now - mpl needs it, as it is assuming we've passed it a real\n",
       "    // web socket which is closed, not our websocket->open comm proxy.\n",
       "    ws_proxy.onopen();\n",
       "\n",
       "    fig.parent_element = element.get(0);\n",
       "    fig.cell_info = mpl.find_output_cell(\"<div id='\" + id + \"'></div>\");\n",
       "    if (!fig.cell_info) {\n",
       "        console.error(\"Failed to find cell for figure\", id, fig);\n",
       "        return;\n",
       "    }\n",
       "\n",
       "    var output_index = fig.cell_info[2]\n",
       "    var cell = fig.cell_info[0];\n",
       "\n",
       "};\n",
       "\n",
       "mpl.figure.prototype.handle_close = function(fig, msg) {\n",
       "    var width = fig.canvas.width/mpl.ratio\n",
       "    fig.root.unbind('remove')\n",
       "\n",
       "    // Update the output cell to use the data from the current canvas.\n",
       "    fig.push_to_output();\n",
       "    var dataURL = fig.canvas.toDataURL();\n",
       "    // Re-enable the keyboard manager in IPython - without this line, in FF,\n",
       "    // the notebook keyboard shortcuts fail.\n",
       "    IPython.keyboard_manager.enable()\n",
       "    $(fig.parent_element).html('<img src=\"' + dataURL + '\" width=\"' + width + '\">');\n",
       "    fig.close_ws(fig, msg);\n",
       "}\n",
       "\n",
       "mpl.figure.prototype.close_ws = function(fig, msg){\n",
       "    fig.send_message('closing', msg);\n",
       "    // fig.ws.close()\n",
       "}\n",
       "\n",
       "mpl.figure.prototype.push_to_output = function(remove_interactive) {\n",
       "    // Turn the data on the canvas into data in the output cell.\n",
       "    var width = this.canvas.width/mpl.ratio\n",
       "    var dataURL = this.canvas.toDataURL();\n",
       "    this.cell_info[1]['text/html'] = '<img src=\"' + dataURL + '\" width=\"' + width + '\">';\n",
       "}\n",
       "\n",
       "mpl.figure.prototype.updated_canvas_event = function() {\n",
       "    // Tell IPython that the notebook contents must change.\n",
       "    IPython.notebook.set_dirty(true);\n",
       "    this.send_message(\"ack\", {});\n",
       "    var fig = this;\n",
       "    // Wait a second, then push the new image to the DOM so\n",
       "    // that it is saved nicely (might be nice to debounce this).\n",
       "    setTimeout(function () { fig.push_to_output() }, 1000);\n",
       "}\n",
       "\n",
       "mpl.figure.prototype._init_toolbar = function() {\n",
       "    var fig = this;\n",
       "\n",
       "    var nav_element = $('<div/>');\n",
       "    nav_element.attr('style', 'width: 100%');\n",
       "    this.root.append(nav_element);\n",
       "\n",
       "    // Define a callback function for later on.\n",
       "    function toolbar_event(event) {\n",
       "        return fig.toolbar_button_onclick(event['data']);\n",
       "    }\n",
       "    function toolbar_mouse_event(event) {\n",
       "        return fig.toolbar_button_onmouseover(event['data']);\n",
       "    }\n",
       "\n",
       "    for(var toolbar_ind in mpl.toolbar_items){\n",
       "        var name = mpl.toolbar_items[toolbar_ind][0];\n",
       "        var tooltip = mpl.toolbar_items[toolbar_ind][1];\n",
       "        var image = mpl.toolbar_items[toolbar_ind][2];\n",
       "        var method_name = mpl.toolbar_items[toolbar_ind][3];\n",
       "\n",
       "        if (!name) { continue; };\n",
       "\n",
       "        var button = $('<button class=\"btn btn-default\" href=\"#\" title=\"' + name + '\"><i class=\"fa ' + image + ' fa-lg\"></i></button>');\n",
       "        button.click(method_name, toolbar_event);\n",
       "        button.mouseover(tooltip, toolbar_mouse_event);\n",
       "        nav_element.append(button);\n",
       "    }\n",
       "\n",
       "    // Add the status bar.\n",
       "    var status_bar = $('<span class=\"mpl-message\" style=\"text-align:right; float: right;\"/>');\n",
       "    nav_element.append(status_bar);\n",
       "    this.message = status_bar[0];\n",
       "\n",
       "    // Add the close button to the window.\n",
       "    var buttongrp = $('<div class=\"btn-group inline pull-right\"></div>');\n",
       "    var button = $('<button class=\"btn btn-mini btn-primary\" href=\"#\" title=\"Stop Interaction\"><i class=\"fa fa-power-off icon-remove icon-large\"></i></button>');\n",
       "    button.click(function (evt) { fig.handle_close(fig, {}); } );\n",
       "    button.mouseover('Stop Interaction', toolbar_mouse_event);\n",
       "    buttongrp.append(button);\n",
       "    var titlebar = this.root.find($('.ui-dialog-titlebar'));\n",
       "    titlebar.prepend(buttongrp);\n",
       "}\n",
       "\n",
       "mpl.figure.prototype._root_extra_style = function(el){\n",
       "    var fig = this\n",
       "    el.on(\"remove\", function(){\n",
       "\tfig.close_ws(fig, {});\n",
       "    });\n",
       "}\n",
       "\n",
       "mpl.figure.prototype._canvas_extra_style = function(el){\n",
       "    // this is important to make the div 'focusable\n",
       "    el.attr('tabindex', 0)\n",
       "    // reach out to IPython and tell the keyboard manager to turn it's self\n",
       "    // off when our div gets focus\n",
       "\n",
       "    // location in version 3\n",
       "    if (IPython.notebook.keyboard_manager) {\n",
       "        IPython.notebook.keyboard_manager.register_events(el);\n",
       "    }\n",
       "    else {\n",
       "        // location in version 2\n",
       "        IPython.keyboard_manager.register_events(el);\n",
       "    }\n",
       "\n",
       "}\n",
       "\n",
       "mpl.figure.prototype._key_event_extra = function(event, name) {\n",
       "    var manager = IPython.notebook.keyboard_manager;\n",
       "    if (!manager)\n",
       "        manager = IPython.keyboard_manager;\n",
       "\n",
       "    // Check for shift+enter\n",
       "    if (event.shiftKey && event.which == 13) {\n",
       "        this.canvas_div.blur();\n",
       "        // select the cell after this one\n",
       "        var index = IPython.notebook.find_cell_index(this.cell_info[0]);\n",
       "        IPython.notebook.select(index + 1);\n",
       "    }\n",
       "}\n",
       "\n",
       "mpl.figure.prototype.handle_save = function(fig, msg) {\n",
       "    fig.ondownload(fig, null);\n",
       "}\n",
       "\n",
       "\n",
       "mpl.find_output_cell = function(html_output) {\n",
       "    // Return the cell and output element which can be found *uniquely* in the notebook.\n",
       "    // Note - this is a bit hacky, but it is done because the \"notebook_saving.Notebook\"\n",
       "    // IPython event is triggered only after the cells have been serialised, which for\n",
       "    // our purposes (turning an active figure into a static one), is too late.\n",
       "    var cells = IPython.notebook.get_cells();\n",
       "    var ncells = cells.length;\n",
       "    for (var i=0; i<ncells; i++) {\n",
       "        var cell = cells[i];\n",
       "        if (cell.cell_type === 'code'){\n",
       "            for (var j=0; j<cell.output_area.outputs.length; j++) {\n",
       "                var data = cell.output_area.outputs[j];\n",
       "                if (data.data) {\n",
       "                    // IPython >= 3 moved mimebundle to data attribute of output\n",
       "                    data = data.data;\n",
       "                }\n",
       "                if (data['text/html'] == html_output) {\n",
       "                    return [cell, data, j];\n",
       "                }\n",
       "            }\n",
       "        }\n",
       "    }\n",
       "}\n",
       "\n",
       "// Register the function which deals with the matplotlib target/channel.\n",
       "// The kernel may be null if the page has been refreshed.\n",
       "if (IPython.notebook.kernel != null) {\n",
       "    IPython.notebook.kernel.comm_manager.register_target('matplotlib', mpl.mpl_figure_comm);\n",
       "}\n"
      ],
      "text/plain": [
       "<IPython.core.display.Javascript object>"
      ]
     },
     "metadata": {},
     "output_type": "display_data"
    },
    {
     "data": {
      "text/html": [
       "<img src=\"data:image/png;base64,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\" width=\"999.1666666666667\">"
      ],
      "text/plain": [
       "<IPython.core.display.HTML object>"
      ]
     },
     "metadata": {},
     "output_type": "display_data"
    }
   ],
   "source": [
    "dual_train_plots(results.index,\n",
    "                 results.cost, results.val,\n",
    "                 results.cost, results.val)\n",
    "plt.tight_layout()\n",
    "plt.savefig(str(output / f'{name}_stats_a.png'))"
   ]
  },
  {
   "cell_type": "code",
   "execution_count": 22,
   "metadata": {},
   "outputs": [],
   "source": [
    "##quit()"
   ]
  },
  {
   "cell_type": "code",
   "execution_count": null,
   "metadata": {},
   "outputs": [],
   "source": []
  },
  {
   "cell_type": "code",
   "execution_count": null,
   "metadata": {},
   "outputs": [],
   "source": []
  }
 ],
 "metadata": {
  "kernelspec": {
   "display_name": "goofit-june2020",
   "language": "python",
   "name": "goofit-june2020"
  },
  "language_info": {
   "codemirror_mode": {
    "name": "ipython",
    "version": 3
   },
   "file_extension": ".py",
   "mimetype": "text/x-python",
   "name": "python",
   "nbconvert_exporter": "python",
   "pygments_lexer": "ipython3",
   "version": "3.7.6"
  }
 },
 "nbformat": 4,
 "nbformat_minor": 2
}
