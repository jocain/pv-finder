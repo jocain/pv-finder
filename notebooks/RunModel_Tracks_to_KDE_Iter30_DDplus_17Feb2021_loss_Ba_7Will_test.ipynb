{
 "cells": [
  {
   "cell_type": "code",
   "execution_count": 1,
   "metadata": {},
   "outputs": [],
   "source": [
    "##%matplotlib widget\n",
    "## with %matplotlib notebook: seems to require ipympl as part of environment, either\n",
    "## part of the conda environment or \"pip install ipympl\"\n",
    "## otherwise, does not show ANY plots in note\"book, plt.savefig() works\n",
    "%matplotlib notebook  \n",
    "##%matplotlib inline    ## --plt.savefig()  works, but re-sizing does NOT\n"
   ]
  },
  {
   "cell_type": "markdown",
   "metadata": {},
   "source": [
    "This notebook is the second attempt to read in track information and use it to predict the KDE used as input to PvFinder. This time, we are reading in poca KDEs rather than the original KDEs. \n",
    "\n",
    "collectdata_kde_C.py uses poca_z, poca_x, poca_y, major_axis_x, major_axis_y, and major_axis_z as the six track parameters (for the moment)\n"
   ]
  },
  {
   "cell_type": "markdown",
   "metadata": {},
   "source": [
    "Check the current GPU usage. Please try to be nice!"
   ]
  },
  {
   "cell_type": "code",
   "execution_count": 2,
   "metadata": {},
   "outputs": [
    {
     "name": "stdout",
     "output_type": "stream",
     "text": [
      "Wed Feb 17 12:05:22 2021       \n",
      "+-----------------------------------------------------------------------------+\n",
      "| NVIDIA-SMI 440.64.00    Driver Version: 440.64.00    CUDA Version: 10.2     |\n",
      "|-------------------------------+----------------------+----------------------+\n",
      "| GPU  Name        Persistence-M| Bus-Id        Disp.A | Volatile Uncorr. ECC |\n",
      "| Fan  Temp  Perf  Pwr:Usage/Cap|         Memory-Usage | GPU-Util  Compute M. |\n",
      "|===============================+======================+======================|\n",
      "|   0  TITAN V             Off  | 00000000:03:00.0 Off |                  N/A |\n",
      "| 25%   34C    P0    32W / 250W |      0MiB / 12066MiB |      0%      Default |\n",
      "+-------------------------------+----------------------+----------------------+\n",
      "|   1  Tesla P100-PCIE...  Off  | 00000000:83:00.0 Off |                    0 |\n",
      "| N/A   33C    P0    27W / 250W |      0MiB / 16280MiB |      0%      Default |\n",
      "+-------------------------------+----------------------+----------------------+\n",
      "|   2  TITAN V             Off  | 00000000:84:00.0 Off |                  N/A |\n",
      "| 48%   66C    P2   113W / 250W |   2257MiB / 12066MiB |     91%      Default |\n",
      "+-------------------------------+----------------------+----------------------+\n",
      "                                                                               \n",
      "+-----------------------------------------------------------------------------+\n",
      "| Processes:                                                       GPU Memory |\n",
      "|  GPU       PID   Type   Process name                             Usage      |\n",
      "|=============================================================================|\n",
      "|    2      5252      C   ...a/conda/envs/goofit-june2020/bin/python  2245MiB |\n",
      "+-----------------------------------------------------------------------------+\n"
     ]
    }
   ],
   "source": [
    "!nvidia-smi"
   ]
  },
  {
   "cell_type": "markdown",
   "metadata": {},
   "source": [
    "> **WARNING**: The card numbers here are *not* the same as in CUDA. You have been warned."
   ]
  },
  {
   "cell_type": "markdown",
   "metadata": {},
   "source": [
    "This notebook is first attempt to read in track information and use it to predict the KDE used as input to PvFinder.\n"
   ]
  },
  {
   "cell_type": "markdown",
   "metadata": {},
   "source": [
    "## Imports"
   ]
  },
  {
   "cell_type": "code",
   "execution_count": 3,
   "metadata": {},
   "outputs": [],
   "source": [
    "import matplotlib.pyplot as plt\n",
    "import numpy as np\n",
    "import time\n",
    "import torch\n",
    "import pandas as pd\n",
    "\n",
    "# Python 3 standard library\n",
    "from pathlib import Path\n",
    "\n",
    "##from torchsummary import summary"
   ]
  },
  {
   "cell_type": "markdown",
   "metadata": {},
   "source": [
    "### Set up local parameters"
   ]
  },
  {
   "cell_type": "code",
   "execution_count": 4,
   "metadata": {},
   "outputs": [],
   "source": [
    "n_epochs = 50\n",
    "\n",
    "folder = '17Feb_DDplus_loss_Ba_iter30_floatAll_50epochs_1p5em5_7xwill'\n",
    "name   = folder\n",
    "\n",
    "# Make an output folder named \"name\" (change if you want)\n",
    "\n",
    "## Special instructions for those working on goofy at UC\n",
    "## Please be very careful to make sure that your folder\n",
    "## does not live in a subdirectory of your home directory\n",
    "## this disk has very little capacity. Instead, use \n",
    "## a subdirectory in /share/lazy with a symbolic link to\n",
    "## it in this (the notebooks) subdirectory\n",
    "folder = 'ML_dir/' + folder\n",
    "output = Path(folder)\n",
    "\n",
    "\n",
    "# Size of batches\n",
    "batch_size = 64 ## batch_size = 24 ---> 4763MiB / 12066MiB on Titan V\n",
    "# How fast to learn\n",
    "learning_rate = 1.5e-5"
   ]
  },
  {
   "cell_type": "markdown",
   "metadata": {},
   "source": [
    "Make the output directory if it does not exist:"
   ]
  },
  {
   "cell_type": "code",
   "execution_count": 5,
   "metadata": {},
   "outputs": [],
   "source": [
    "output.mkdir(exist_ok=True)"
   ]
  },
  {
   "cell_type": "markdown",
   "metadata": {},
   "source": [
    "## Get the helper functions\n",
    "\n",
    "Add the directory with the model\n",
    "definitions to the path so we can import from it:\n",
    "\n",
    "> When you type `import X`,\n",
    "Python searches `sys.path` for a python\n",
    "file named `X.py` to import. So we need to add the model directory to the path."
   ]
  },
  {
   "cell_type": "code",
   "execution_count": 6,
   "metadata": {
    "scrolled": true
   },
   "outputs": [],
   "source": [
    "from model.collectdata_kde_Ellipsoids import collect_t2kde_data\n",
    "from model.collectdata_kdeB_Ellipsoids import load_prebuilt_dataset\n",
    "\n",
    "##  It takes 9 input features (poca centers + (A,B,C,D,E,F)) . \n",
    "from model.models_kde import TracksToKDE_Ellipsoids_DDplus as Model\n",
    "\n",
    "# kde_loss_Ba is a Chi2 loss (go and look at it!)\n",
    "from model.kde_loss_Ba import Loss\n",
    "\n",
    "from model.training_kde import trainNet, select_gpu, Results\n",
    "from model.plots import dual_train_plots, dual_train_plots_tracks_to_KDE, replace_in_ax"
   ]
  },
  {
   "cell_type": "code",
   "execution_count": 7,
   "metadata": {},
   "outputs": [],
   "source": [
    "# This gets built up during the run - do not rerun this cell\n",
    "results = pd.DataFrame([], columns=Results._fields)"
   ]
  },
  {
   "cell_type": "markdown",
   "metadata": {},
   "source": [
    "Set up Torch device configuration. All tensors and model parameters need to know where to be put.\n",
    "This takes a BUS ID number: The BUS ID is the same as the listing at the top of this script."
   ]
  },
  {
   "cell_type": "code",
   "execution_count": 8,
   "metadata": {},
   "outputs": [
    {
     "name": "stdout",
     "output_type": "stream",
     "text": [
      "1 available GPUs (initially using device 0):\n",
      "  0 TITAN V\n"
     ]
    }
   ],
   "source": [
    "# either 0 or 2 on goofy (i.e. TITAN V) [1 or 2 on sleepy RTX 2080TI]\n",
    "device = select_gpu(0)\n",
    "##device = \"cpu\""
   ]
  },
  {
   "cell_type": "markdown",
   "metadata": {},
   "source": [
    "## Loading data\n",
    "\n",
    "Load the dataset, split into parts, then move to device (see `collectdata.py` in the `../model` directory)"
   ]
  },
  {
   "cell_type": "markdown",
   "metadata": {},
   "source": [
    "# Preparing the model"
   ]
  },
  {
   "cell_type": "markdown",
   "metadata": {},
   "source": [
    "Prepare a model, use multiple GPUs if they are VISIBLE, and move the model to the device."
   ]
  },
  {
   "cell_type": "code",
   "execution_count": 9,
   "metadata": {
    "scrolled": true
   },
   "outputs": [],
   "source": [
    "##print(\"Let's use\", torch.cuda.device_count(), \"GPUs!\")\n",
    "##if torch.cuda.device_count() > 1:\n",
    "##    model = torch.nn.DataParallel(model)"
   ]
  },
  {
   "cell_type": "code",
   "execution_count": 10,
   "metadata": {},
   "outputs": [
    {
     "name": "stdout",
     "output_type": "stream",
     "text": [
      "ct, child =  0    Linear(in_features=9, out_features=50, bias=True)\n",
      "ct, child =  1    Linear(in_features=50, out_features=50, bias=True)\n",
      "ct, child =  2    Linear(in_features=50, out_features=50, bias=True)\n",
      "ct, child =  3    Linear(in_features=50, out_features=50, bias=True)\n",
      "ct, child =  4    Linear(in_features=50, out_features=50, bias=True)\n",
      "ct, child =  5    Linear(in_features=50, out_features=50, bias=True)\n",
      "ct, child =  6    Linear(in_features=50, out_features=50, bias=True)\n",
      "ct, child =  7    Linear(in_features=50, out_features=50, bias=True)\n",
      "ct, child =  8    Linear(in_features=50, out_features=50, bias=True)\n",
      "ct, child =  9    Linear(in_features=50, out_features=50, bias=True)\n",
      "ct, child =  10    Linear(in_features=50, out_features=50, bias=True)\n",
      "ct, child =  11    Linear(in_features=50, out_features=16000, bias=True)\n",
      "ct, child =  12    Conv1d(4, 25, kernel_size=(25,), stride=(1,), padding=(12,))\n",
      "ct, child =  13    Conv1d(25, 1, kernel_size=(5,), stride=(1,), padding=(2,))\n",
      "ct, child =  14    Linear(in_features=4000, out_features=4000, bias=True)\n",
      "ct, child =  15    Conv1d(25, 1, kernel_size=(15,), stride=(1,), padding=(7,))\n",
      "ct, child =  16    Dropout(p=0.15, inplace=False)\n",
      "ct, child =  17    Dropout(p=0.15, inplace=False)\n"
     ]
    }
   ],
   "source": [
    "## a comment on the web at https://pytorch.org/docs/stable/optim.html says\n",
    "\"\"\"\n",
    "If you need to move a model to GPU via .cuda(), please do so before constructing optimizers for it. \n",
    "Parameters of a model after .cuda() will be different objects with those before the call.\n",
    "\n",
    "In general, you should make sure that optimized parameters live in consistent locations when \n",
    "optimizers are constructed and used.\n",
    "\"\"\"\n",
    "## so move this here (although we are using model.to(device) not explicitly using .cuda()\n",
    "\n",
    "nOut1 = 50\n",
    "nOut2 = 50\n",
    "nOut3 = 50\n",
    "nOut4 = 50\n",
    "nOut5 = 50\n",
    "nOut6 = 50\n",
    "nOut7 = 50\n",
    "nOut8 = 50\n",
    "nOut9 = 50\n",
    "nOut10 = 50\n",
    "nOut11 = 50\n",
    "latentChannels = 4\n",
    "model = Model(nOut1,nOut2,nOut3,nOut4,nOut5,nOut6,nOut7,nOut8,nOut9,nOut10,nOut11,latentChannels)\n",
    "\n",
    "##summary(model, input_size=(4, 4000))\n",
    "##print(model.parameters)\n",
    "\n",
    "## add the following code to allow the user to freeze the some of the weights corresponding \n",
    "## to those taken from an earlier model trained with the original target histograms\n",
    "## presumably -- this leaves either the perturbative filter \"fixed\" and lets the \n",
    "## learning focus on the non-perturbative features, so get started faster, or vice versa\n",
    "ct = 0\n",
    "for child in model.children():\n",
    "  print('ct, child = ',ct, \"  \", child)\n",
    "  if ct < 0:\n",
    "    print(\"     About to set param.requires_grad=False for ct = \", ct, \"params\")\n",
    "    for param in child.parameters():\n",
    "        # fixing parameters\n",
    "        param.requires_grad = False \n",
    "  ct += 1\n",
    "##  mds 200121 loss = Loss(epsilon=1e-5,coefficient=1.0)\n",
    "##  loss = Loss(epsilon=1e-5,coefficient=2.5)\n",
    "##loss = Loss(epsilon=3e-5, debug=False)\n",
    "loss = Loss(epsilon=3e-5)"
   ]
  },
  {
   "cell_type": "markdown",
   "metadata": {},
   "source": [
    "Let's move the model's weight matricies to the GPU:"
   ]
  },
  {
   "cell_type": "code",
   "execution_count": 11,
   "metadata": {
    "scrolled": true
   },
   "outputs": [],
   "source": [
    "model = model.to(device)"
   ]
  },
  {
   "cell_type": "code",
   "execution_count": 12,
   "metadata": {
    "scrolled": true
   },
   "outputs": [],
   "source": [
    "optimizer = torch.optim.Adam(model.parameters(), lr=learning_rate)\n",
    "##optimizer = torch.optim.SGD(model.parameters(), lr=learning_rate)"
   ]
  },
  {
   "cell_type": "code",
   "execution_count": 13,
   "metadata": {
    "scrolled": true
   },
   "outputs": [
    {
     "name": "stdout",
     "output_type": "stream",
     "text": [
      "output =  ML_dir/17Feb_DDplus_loss_Ba_iter30_floatAll_50epochs_1p5em5_7xwill\n",
      "for model_dict\n",
      "index, k =   0    layer1.weight\n",
      "index, k =   1    layer1.bias\n",
      "index, k =   2    layer2.weight\n",
      "index, k =   3    layer2.bias\n",
      "index, k =   4    layer3.weight\n",
      "index, k =   5    layer3.bias\n",
      "index, k =   6    layer4.weight\n",
      "index, k =   7    layer4.bias\n",
      "index, k =   8    layer5.weight\n",
      "index, k =   9    layer5.bias\n",
      "index, k =   10    layer6.weight\n",
      "index, k =   11    layer6.bias\n",
      "index, k =   12    layer7.weight\n",
      "index, k =   13    layer7.bias\n",
      "index, k =   14    layer8.weight\n",
      "index, k =   15    layer8.bias\n",
      "index, k =   16    layer9.weight\n",
      "index, k =   17    layer9.bias\n",
      "index, k =   18    layer10.weight\n",
      "index, k =   19    layer10.bias\n",
      "index, k =   20    layer11.weight\n",
      "index, k =   21    layer11.bias\n",
      "index, k =   22    layer12new.weight\n",
      "index, k =   23    layer12new.bias\n",
      "index, k =   24    conv1.weight\n",
      "index, k =   25    conv1.bias\n",
      "index, k =   26    conv2.weight\n",
      "index, k =   27    conv2.bias\n",
      "index, k =   28    fc1.weight\n",
      "index, k =   29    fc1.bias\n",
      "index, k =   30    finalFilter.weight\n",
      "index, k =   31    finalFilter.bias\n",
      "dict_name =  ML_dir/07Feb_DDplus_loss_Ba_iter29_floatAll_100epochs_1p5em5_4xwill/07Feb_DDplus_loss_Ba_iter29_floatAll_100epochs_1p5em5_4xwill_final.pyt\n",
      " \n",
      "  for pretrained_dict\n",
      "index, k =   0    layer1.weight\n",
      "index, k =   1    layer1.bias\n",
      "index, k =   2    layer2.weight\n",
      "index, k =   3    layer2.bias\n",
      "index, k =   4    layer3.weight\n",
      "index, k =   5    layer3.bias\n",
      "index, k =   6    layer4.weight\n",
      "index, k =   7    layer4.bias\n",
      "index, k =   8    layer5.weight\n",
      "index, k =   9    layer5.bias\n",
      "index, k =   10    layer6.weight\n",
      "index, k =   11    layer6.bias\n",
      "index, k =   12    layer7.weight\n",
      "index, k =   13    layer7.bias\n",
      "index, k =   14    layer8.weight\n",
      "index, k =   15    layer8.bias\n",
      "index, k =   16    layer9.weight\n",
      "index, k =   17    layer9.bias\n",
      "index, k =   18    layer10.weight\n",
      "index, k =   19    layer10.bias\n",
      "index, k =   20    layer11.weight\n",
      "index, k =   21    layer11.bias\n",
      "index, k =   22    layer12new.weight\n",
      "index, k =   23    layer12new.bias\n",
      "index, k =   24    conv1.weight\n",
      "index, k =   25    conv1.bias\n",
      "index, k =   26    conv2.weight\n",
      "index, k =   27    conv2.bias\n",
      "index, k =   28    fc1.weight\n",
      "index, k =   29    fc1.bias\n",
      "index, k =   30    finalFilter.weight\n",
      "index, k =   31    finalFilter.bias\n",
      "pretrained_dict iterated\n"
     ]
    },
    {
     "data": {
      "text/plain": [
       "<All keys matched successfully>"
      ]
     },
     "execution_count": 13,
     "metadata": {},
     "output_type": "execute_result"
    }
   ],
   "source": [
    "print('output = ',output)\n",
    "##print('oldOutput = ',oldOutput)\n",
    "##  use the first four layers from a pre-existing model\n",
    "##  see example at https://discuss.pytorch.org/t/how-to-load-part-of-pre-trained-model/1113\n",
    "\n",
    "##   ML -> /share/lazy/sokoloff/ML\n",
    "model_dict = model.state_dict()\n",
    "## mds 190725 for debugging\n",
    "print(\"for model_dict\")\n",
    "index = 0\n",
    "for k,v in model_dict.items():\n",
    "    print(\"index, k =  \",index,\"  \",k)\n",
    "    index = index+1\n",
    "##    print(\"value = \", v)\n",
    " \n",
    "updated_dict = model_dict\n",
    "##print(\"updated_dict = \",updated_dict)\n",
    "## when starting \"ab initio\", reduce biases as the bias gets summed for each track\n",
    "## contributing to the predicted KDE\n",
    "updated_dict[\"layer1.bias\"] = 0.005*model_dict[\"layer1.bias\"]\n",
    "updated_dict[\"layer2.bias\"] = 0.005*model_dict[\"layer2.bias\"]\n",
    "updated_dict[\"layer3.bias\"] = 0.005*model_dict[\"layer3.bias\"]\n",
    "updated_dict[\"layer4.bias\"] = 0.005*model_dict[\"layer4.bias\"]\n",
    "updated_dict[\"layer5.bias\"] = 0.005*model_dict[\"layer5.bias\"]\n",
    "updated_dict[\"layer6.bias\"] = 0.005*model_dict[\"layer6.bias\"]\n",
    "updated_dict[\"layer7.bias\"] = 0.005*model_dict[\"layer7.bias\"]\n",
    "updated_dict[\"layer8.bias\"] = 0.005*model_dict[\"layer8.bias\"]\n",
    "updated_dict[\"layer9.bias\"] = 0.005*model_dict[\"layer9.bias\"]\n",
    "updated_dict[\"layer10.bias\"] = 0.005*model_dict[\"layer10.bias\"]\n",
    "updated_dict[\"layer11.bias\"] = 0.005*model_dict[\"layer11.bias\"]\n",
    "\n",
    "model.load_state_dict(updated_dict,strict=False)\n",
    "\n",
    "model_dict = model.state_dict()\n",
    "##print(\"updated model_dict = \",model_dict)\n",
    "\n",
    "## print(\" \\n\",\"  for pretrained_dict\")\n",
    "## index = 0\n",
    "##for k,v in pretrained_dict.items():\n",
    "##    print(\"index, k =  \",index,\"  \",k)\n",
    "##    index = index+1\n",
    "## mds  \n",
    "\n",
    "##pretrained_dict = torch.load('ML/29July2020_Trks_to_KDE_C_lossB_100epochs_b64_1m3_nOut_50x50/29July2020_Trks_to_KDE_C_lossB_100epochs_b64_1m3_nOut_50x50_final.pyt')\n",
    "##print(\"model_dict instantiated\")\n",
    "# 1. filter out unnecessary keys\n",
    "##pretrained_dict = {k: v for k, v in pretrained_dict.items() if k in model_dict}\n",
    "##print(\"pretrained_dict iterated\")\n",
    "# 2. overwrite entries in the existing state dict\n",
    "##model_dict.update(pretrained_dict) \n",
    "##\n",
    "#   when starting from a model with a fully connected last layer rather than a convolutional layer\n",
    "# 3. load the new state dict\n",
    "#   need to use strict=False as the two models state model attributes do not agree exactly\n",
    "#   see https://pytorch.org/docs/master/_modules/torch/nn/modules/module.html#Module.load_state_dict\n",
    "\n",
    "##model.load_state_dict(pretrained_dict,strict=False)\n",
    "\n",
    "## print('model_dict =    ', model_dict)\n",
    "\n",
    "## finished at training cost = 1.46, validation cost = 1.50\n",
    "##d_folder = '25December__DDplus_loss_Ba_iter7_floatAll_800epochs_4em6'\n",
    "d_folder = '07Feb_DDplus_loss_Ba_iter29_floatAll_100epochs_1p5em5_4xwill'\n",
    "d_name = d_folder\n",
    "##  for 24Jan_DDplus_loss_Ba_iter17_floatAll_150epochs_1p5em5_4xwill use suffix 87\n",
    "##  as this is the last epoch that ran before I killed the job (don't ask)\n",
    "suffix = 'final'\n",
    "dict_name = 'ML_dir/' + d_folder + '/' + d_name + '_'+ suffix + '.pyt'\n",
    "print('dict_name = ',dict_name)\n",
    "pretrained_dict = torch.load(dict_name)\n",
    "\n",
    "print(\" \")\n",
    "print(\"  for pretrained_dict\")\n",
    "index = 0\n",
    "for k,v in pretrained_dict.items():\n",
    "    print(\"index, k =  \",index,\"  \",k)\n",
    "    index = index+1\n",
    " \n",
    "\n",
    "##print(\"model_dict instantiated\")\n",
    "# 1. filter out unnecessary keys\n",
    "pretrained_dict = {k: v for k, v in pretrained_dict.items() if k in model_dict}\n",
    "print(\"pretrained_dict iterated\")\n",
    "# 2. overwrite entries in the existing state dict\n",
    "model_dict.update(pretrained_dict) \n",
    "##\n",
    "#   when starting from a model with a fully connected last layer rather than a convolutional layer\n",
    "# 3. load the new state dict\n",
    "#   need to use strict=False as the two models state model attributes do not agree exactly\n",
    "#   see https://pytorch.org/docs/master/_modules/torch/nn/modules/module.html#Module.load_state_dict\n",
    "\n",
    "model.load_state_dict(pretrained_dict,strict=False)\n",
    "\n"
   ]
  },
  {
   "cell_type": "code",
   "execution_count": 14,
   "metadata": {},
   "outputs": [],
   "source": [
    "##print('validation.dataset.tensors = ',validation.dataset.tensors)\n",
    "fig_size = plt.rcParams[\"figure.figsize\"]\n",
    "fig_size[0] = 10\n",
    "fig_size[1] = 4\n",
    "plt.rcParams[\"figure.figsize\"] = fig_size"
   ]
  },
  {
   "cell_type": "code",
   "execution_count": 15,
   "metadata": {},
   "outputs": [],
   "source": [
    "## Training dataset. You can put as many files here as desired.\n",
    "\n",
    "##train_loader = collect_t2kde_data('/share/lazy/pv-finder/20k_evts_for_KDE_learning_200716.h5',\n",
    "'''\n",
    "train_loader = collect_t2kde_data('/share/lazy/will/data/June30_2020_80k_1.h5', \n",
    "                                  '/share/lazy/will/data/June30_2020_80k_2.h5',\n",
    "                                  '/share/lazy/will/data/June30_2020_80k_3.h5',\n",
    "                                  '/share/lazy/will/data/June30_2020_80k_4.h5',\n",
    "                                  #'/share/lazy/will/data/June30_2020_80k_5.h5',\n",
    "                                  #'/share/lazy/will/data/June30_2020_80k_6.h5',\n",
    "                                  #'/share/lazy/will/data/June30_2020_80k_7.h5',\n",
    "                             batch_size=batch_size,\n",
    "## if we are using a larger dataset (240K events, with the datasets above, and 11 GB  of GPU memory),\n",
    "## the dataset will overflow the GPU memory; device=device will allow the data to move back\n",
    "## and forth between the CPU and GPU memory. While this allows use of a larger dataset, it slows\n",
    "## down performance by about 10%.  So comment out when not needed.\n",
    "#                          device=device,\n",
    "##                           slice = slice(None,18000)\n",
    "                           )\n",
    "'''\n",
    "##  use Will's pre-built data sets; loading them is much faster; they also\n",
    "##  require less CPU memory; it seems likely we can use all 7 rather than 4\n",
    "##  even on goofy; \n",
    "train_loader = load_prebuilt_dataset(batch_size = batch_size, num_files=7)\n"
   ]
  },
  {
   "cell_type": "code",
   "execution_count": 16,
   "metadata": {
    "scrolled": false
   },
   "outputs": [
    {
     "name": "stdout",
     "output_type": "stream",
     "text": [
      "Loading data...\n",
      "pocaMx.shape =  (20000,)\n",
      "nEvts =  20000\n",
      "len(pocaMx[0]) =  211\n",
      "len(pocaMx[1]) =  21\n",
      "len(pocaMx[2]) =  20\n",
      "len(pocaMx[3]) =  198\n",
      "len(pocaMx[4]) =  233\n",
      "majorAxis.shape =  (20000, 3)\n",
      "minorAxis_1.shape =  (20000, 3)\n",
      "minorAxis_2.shape =  (20000, 3)\n",
      "have entered six_ellipsoid_parameters\n",
      "  \n",
      " \n",
      "  nEvts =  20000\n",
      " iEvt, nTrks =  0 211\n",
      " iEvt, nTrks =  1 21\n",
      " iEvt, nTrks =  2 20\n",
      " iEvt, nTrks =  3 198\n",
      " iEvt, nTrks =  4 233\n",
      " iEvt, nTrks =  5 85\n",
      " iEvt, nTrks =  6 223\n",
      " iEvt, nTrks =  7 425\n",
      " iEvt, nTrks =  8 252\n",
      " iEvt, nTrks =  9 169\n",
      "A.shape =  (20000,)\n",
      "majorAxis[iTrk][0][0] =  -0.00023452607\n",
      "majorAxis[iTrk][1][0] =  -0.00047206535\n",
      "majorAxis[iTrk][2][0] =  0.096502915\n",
      "minorAxis_1[iTrk][0][0] =  -15.822749\n",
      "minorAxis_1[iTrk][1][0] =  7.8608756\n",
      "minorAxis_1[iTrk][2][0] =  -2.6228399e-08\n",
      "minorAxis_2[iTrk][0][0] =  7.860759\n",
      "minorAxis_2[iTrk][1][0] =  15.822513\n",
      "minorAxis_2[iTrk][2][0] =  0.096502915\n",
      "  \n",
      "majorAxis[iTrk][0][0] =  -0.37655562\n",
      "majorAxis[iTrk][1][0] =  0.2768704\n",
      "majorAxis[iTrk][2][0] =  2.8546858\n",
      "minorAxis_1[iTrk][0][0] =  -10.466048\n",
      "minorAxis_1[iTrk][1][0] =  -14.234274\n",
      "minorAxis_1[iTrk][2][0] =  2.2974699e-11\n",
      "minorAxis_2[iTrk][0][0] =  -14.04724\n",
      "minorAxis_2[iTrk][1][0] =  10.328527\n",
      "minorAxis_2[iTrk][2][0] =  -2.8546853\n",
      "  \n",
      "majorAxis[iTrk][0][0] =  -0.024279848\n",
      "majorAxis[iTrk][1][0] =  0.0019689242\n",
      "majorAxis[iTrk][2][0] =  0.65580803\n",
      "minorAxis_1[iTrk][0][0] =  -1.4280497\n",
      "minorAxis_1[iTrk][1][0] =  -17.610037\n",
      "minorAxis_1[iTrk][2][0] =  -6.123401e-10\n",
      "minorAxis_2[iTrk][0][0] =  -17.597902\n",
      "minorAxis_2[iTrk][1][0] =  1.4270656\n",
      "minorAxis_2[iTrk][2][0] =  -0.6558081\n",
      "  \n",
      "majorAxis[iTrk][0][0] =  -0.007825993\n",
      "majorAxis[iTrk][1][0] =  0.004052097\n",
      "majorAxis[iTrk][2][0] =  0.3945435\n",
      "minorAxis_1[iTrk][0][0] =  8.123606\n",
      "minorAxis_1[iTrk][1][0] =  15.689478\n",
      "minorAxis_1[iTrk][2][0] =  -2.4940747e-10\n",
      "minorAxis_2[iTrk][0][0] =  15.685566\n",
      "minorAxis_2[iTrk][1][0] =  -8.12158\n",
      "minorAxis_2[iTrk][2][0] =  0.3945435\n",
      "  \n",
      "majorAxis[iTrk][0][0] =  0.0046102717\n",
      "majorAxis[iTrk][1][0] =  -0.0016007021\n",
      "majorAxis[iTrk][2][0] =  0.29361814\n",
      "minorAxis_1[iTrk][0][0] =  -5.794979\n",
      "minorAxis_1[iTrk][1][0] =  -16.690445\n",
      "minorAxis_1[iTrk][2][0] =  2.4897104e-09\n",
      "minorAxis_2[iTrk][0][0] =  -16.688139\n",
      "minorAxis_2[iTrk][1][0] =  5.794179\n",
      "minorAxis_2[iTrk][2][0] =  0.2936181\n",
      "  \n",
      "majorAxis[iTrk][0][0] =  -0.00020041714\n",
      "majorAxis[iTrk][1][0] =  0.00010468164\n",
      "majorAxis[iTrk][2][0] =  0.06320469\n",
      "minorAxis_1[iTrk][0][0] =  8.179679\n",
      "minorAxis_1[iTrk][1][0] =  15.660318\n",
      "minorAxis_1[iTrk][2][0] =  7.40176e-08\n",
      "minorAxis_2[iTrk][0][0] =  15.660218\n",
      "minorAxis_2[iTrk][1][0] =  -8.179626\n",
      "minorAxis_2[iTrk][2][0] =  0.06320469\n",
      "  \n",
      "majorAxis[iTrk][0][0] =  -0.00020603223\n",
      "majorAxis[iTrk][1][0] =  -0.0005662605\n",
      "majorAxis[iTrk][2][0] =  0.10317981\n",
      "minorAxis_1[iTrk][0][0] =  -16.603\n",
      "minorAxis_1[iTrk][1][0] =  6.040953\n",
      "minorAxis_1[iTrk][2][0] =  4.5812504e-07\n",
      "minorAxis_2[iTrk][0][0] =  6.0408506\n",
      "minorAxis_2[iTrk][1][0] =  16.602718\n",
      "minorAxis_2[iTrk][2][0] =  0.10317982\n",
      "  \n",
      "majorAxis[iTrk][0][0] =  -0.00040561036\n",
      "majorAxis[iTrk][1][0] =  0.00014461782\n",
      "majorAxis[iTrk][2][0] =  0.0872241\n",
      "minorAxis_1[iTrk][0][0] =  -5.933496\n",
      "minorAxis_1[iTrk][1][0] =  -16.641706\n",
      "minorAxis_1[iTrk][2][0] =  1.0720762e-08\n",
      "minorAxis_2[iTrk][0][0] =  -16.641502\n",
      "minorAxis_2[iTrk][1][0] =  5.9334235\n",
      "minorAxis_2[iTrk][2][0] =  -0.0872241\n",
      "  \n",
      "majorAxis[iTrk][0][0] =  0.00038461428\n",
      "majorAxis[iTrk][1][0] =  -3.4232737e-05\n",
      "majorAxis[iTrk][2][0] =  0.08259597\n",
      "minorAxis_1[iTrk][0][0] =  -1.5663412\n",
      "minorAxis_1[iTrk][1][0] =  -17.598276\n",
      "minorAxis_1[iTrk][2][0] =  3.2106848e-07\n",
      "minorAxis_2[iTrk][0][0] =  -17.598082\n",
      "minorAxis_2[iTrk][1][0] =  1.5663238\n",
      "minorAxis_2[iTrk][2][0] =  0.08259596\n",
      "  \n",
      "majorAxis[iTrk][0][0] =  -0.022277953\n",
      "majorAxis[iTrk][1][0] =  -0.0046837274\n",
      "majorAxis[iTrk][2][0] =  0.63399464\n",
      "minorAxis_1[iTrk][0][0] =  -3.6350286\n",
      "minorAxis_1[iTrk][1][0] =  17.289862\n",
      "minorAxis_1[iTrk][2][0] =  9.566169e-10\n",
      "minorAxis_2[iTrk][0][0] =  17.278727\n",
      "minorAxis_2[iTrk][1][0] =  3.6326876\n",
      "minorAxis_2[iTrk][2][0] =  0.6339946\n",
      "  \n",
      "len(X) =  20000\n",
      "len(Xlist) =  1\n",
      "Loaded dataAA/20K_POCA_kernel_evts_200926.h5 in 38.13 s\n",
      "outer loop X.shape =  (20000, 9, 600)\n",
      "Constructing 10000 event dataset took 0.1339 s\n",
      "x_t.shape =  torch.Size([10000, 9, 600])\n",
      "x_t.shape[0] =  10000\n",
      "x_t.shape[1] =  9\n",
      "x_t.shape =  torch.Size([10000, 9, 600])\n"
     ]
    }
   ],
   "source": [
    "                            \n",
    "# Validation dataset. You can slice to reduce the size.\n",
    "## mds no separate validation set yet,\n",
    "\n",
    "## For iter12, change slice(18000,None) to slice(10000,None)\n",
    "## First, we'll see if this changes the validation cost significantly\n",
    "##  Second, we will see if this reduces the validation cost fluctuations\n",
    "val_loader = collect_t2kde_data('dataAA/20K_POCA_kernel_evts_200926.h5',\n",
    "                            batch_size=batch_size,\n",
    "##                            device=device,\n",
    "                            slice = slice(10000,None)\n",
    "                           )"
   ]
  },
  {
   "cell_type": "code",
   "execution_count": 17,
   "metadata": {
    "scrolled": false
   },
   "outputs": [
    {
     "data": {
      "application/javascript": [
       "/* Put everything inside the global mpl namespace */\n",
       "window.mpl = {};\n",
       "\n",
       "\n",
       "mpl.get_websocket_type = function() {\n",
       "    if (typeof(WebSocket) !== 'undefined') {\n",
       "        return WebSocket;\n",
       "    } else if (typeof(MozWebSocket) !== 'undefined') {\n",
       "        return MozWebSocket;\n",
       "    } else {\n",
       "        alert('Your browser does not have WebSocket support. ' +\n",
       "              'Please try Chrome, Safari or Firefox ≥ 6. ' +\n",
       "              'Firefox 4 and 5 are also supported but you ' +\n",
       "              'have to enable WebSockets in about:config.');\n",
       "    };\n",
       "}\n",
       "\n",
       "mpl.figure = function(figure_id, websocket, ondownload, parent_element) {\n",
       "    this.id = figure_id;\n",
       "\n",
       "    this.ws = websocket;\n",
       "\n",
       "    this.supports_binary = (this.ws.binaryType != undefined);\n",
       "\n",
       "    if (!this.supports_binary) {\n",
       "        var warnings = document.getElementById(\"mpl-warnings\");\n",
       "        if (warnings) {\n",
       "            warnings.style.display = 'block';\n",
       "            warnings.textContent = (\n",
       "                \"This browser does not support binary websocket messages. \" +\n",
       "                    \"Performance may be slow.\");\n",
       "        }\n",
       "    }\n",
       "\n",
       "    this.imageObj = new Image();\n",
       "\n",
       "    this.context = undefined;\n",
       "    this.message = undefined;\n",
       "    this.canvas = undefined;\n",
       "    this.rubberband_canvas = undefined;\n",
       "    this.rubberband_context = undefined;\n",
       "    this.format_dropdown = undefined;\n",
       "\n",
       "    this.image_mode = 'full';\n",
       "\n",
       "    this.root = $('<div/>');\n",
       "    this._root_extra_style(this.root)\n",
       "    this.root.attr('style', 'display: inline-block');\n",
       "\n",
       "    $(parent_element).append(this.root);\n",
       "\n",
       "    this._init_header(this);\n",
       "    this._init_canvas(this);\n",
       "    this._init_toolbar(this);\n",
       "\n",
       "    var fig = this;\n",
       "\n",
       "    this.waiting = false;\n",
       "\n",
       "    this.ws.onopen =  function () {\n",
       "            fig.send_message(\"supports_binary\", {value: fig.supports_binary});\n",
       "            fig.send_message(\"send_image_mode\", {});\n",
       "            if (mpl.ratio != 1) {\n",
       "                fig.send_message(\"set_dpi_ratio\", {'dpi_ratio': mpl.ratio});\n",
       "            }\n",
       "            fig.send_message(\"refresh\", {});\n",
       "        }\n",
       "\n",
       "    this.imageObj.onload = function() {\n",
       "            if (fig.image_mode == 'full') {\n",
       "                // Full images could contain transparency (where diff images\n",
       "                // almost always do), so we need to clear the canvas so that\n",
       "                // there is no ghosting.\n",
       "                fig.context.clearRect(0, 0, fig.canvas.width, fig.canvas.height);\n",
       "            }\n",
       "            fig.context.drawImage(fig.imageObj, 0, 0);\n",
       "        };\n",
       "\n",
       "    this.imageObj.onunload = function() {\n",
       "        fig.ws.close();\n",
       "    }\n",
       "\n",
       "    this.ws.onmessage = this._make_on_message_function(this);\n",
       "\n",
       "    this.ondownload = ondownload;\n",
       "}\n",
       "\n",
       "mpl.figure.prototype._init_header = function() {\n",
       "    var titlebar = $(\n",
       "        '<div class=\"ui-dialog-titlebar ui-widget-header ui-corner-all ' +\n",
       "        'ui-helper-clearfix\"/>');\n",
       "    var titletext = $(\n",
       "        '<div class=\"ui-dialog-title\" style=\"width: 100%; ' +\n",
       "        'text-align: center; padding: 3px;\"/>');\n",
       "    titlebar.append(titletext)\n",
       "    this.root.append(titlebar);\n",
       "    this.header = titletext[0];\n",
       "}\n",
       "\n",
       "\n",
       "\n",
       "mpl.figure.prototype._canvas_extra_style = function(canvas_div) {\n",
       "\n",
       "}\n",
       "\n",
       "\n",
       "mpl.figure.prototype._root_extra_style = function(canvas_div) {\n",
       "\n",
       "}\n",
       "\n",
       "mpl.figure.prototype._init_canvas = function() {\n",
       "    var fig = this;\n",
       "\n",
       "    var canvas_div = $('<div/>');\n",
       "\n",
       "    canvas_div.attr('style', 'position: relative; clear: both; outline: 0');\n",
       "\n",
       "    function canvas_keyboard_event(event) {\n",
       "        return fig.key_event(event, event['data']);\n",
       "    }\n",
       "\n",
       "    canvas_div.keydown('key_press', canvas_keyboard_event);\n",
       "    canvas_div.keyup('key_release', canvas_keyboard_event);\n",
       "    this.canvas_div = canvas_div\n",
       "    this._canvas_extra_style(canvas_div)\n",
       "    this.root.append(canvas_div);\n",
       "\n",
       "    var canvas = $('<canvas/>');\n",
       "    canvas.addClass('mpl-canvas');\n",
       "    canvas.attr('style', \"left: 0; top: 0; z-index: 0; outline: 0\")\n",
       "\n",
       "    this.canvas = canvas[0];\n",
       "    this.context = canvas[0].getContext(\"2d\");\n",
       "\n",
       "    var backingStore = this.context.backingStorePixelRatio ||\n",
       "\tthis.context.webkitBackingStorePixelRatio ||\n",
       "\tthis.context.mozBackingStorePixelRatio ||\n",
       "\tthis.context.msBackingStorePixelRatio ||\n",
       "\tthis.context.oBackingStorePixelRatio ||\n",
       "\tthis.context.backingStorePixelRatio || 1;\n",
       "\n",
       "    mpl.ratio = (window.devicePixelRatio || 1) / backingStore;\n",
       "\n",
       "    var rubberband = $('<canvas/>');\n",
       "    rubberband.attr('style', \"position: absolute; left: 0; top: 0; z-index: 1;\")\n",
       "\n",
       "    var pass_mouse_events = true;\n",
       "\n",
       "    canvas_div.resizable({\n",
       "        start: function(event, ui) {\n",
       "            pass_mouse_events = false;\n",
       "        },\n",
       "        resize: function(event, ui) {\n",
       "            fig.request_resize(ui.size.width, ui.size.height);\n",
       "        },\n",
       "        stop: function(event, ui) {\n",
       "            pass_mouse_events = true;\n",
       "            fig.request_resize(ui.size.width, ui.size.height);\n",
       "        },\n",
       "    });\n",
       "\n",
       "    function mouse_event_fn(event) {\n",
       "        if (pass_mouse_events)\n",
       "            return fig.mouse_event(event, event['data']);\n",
       "    }\n",
       "\n",
       "    rubberband.mousedown('button_press', mouse_event_fn);\n",
       "    rubberband.mouseup('button_release', mouse_event_fn);\n",
       "    // Throttle sequential mouse events to 1 every 20ms.\n",
       "    rubberband.mousemove('motion_notify', mouse_event_fn);\n",
       "\n",
       "    rubberband.mouseenter('figure_enter', mouse_event_fn);\n",
       "    rubberband.mouseleave('figure_leave', mouse_event_fn);\n",
       "\n",
       "    canvas_div.on(\"wheel\", function (event) {\n",
       "        event = event.originalEvent;\n",
       "        event['data'] = 'scroll'\n",
       "        if (event.deltaY < 0) {\n",
       "            event.step = 1;\n",
       "        } else {\n",
       "            event.step = -1;\n",
       "        }\n",
       "        mouse_event_fn(event);\n",
       "    });\n",
       "\n",
       "    canvas_div.append(canvas);\n",
       "    canvas_div.append(rubberband);\n",
       "\n",
       "    this.rubberband = rubberband;\n",
       "    this.rubberband_canvas = rubberband[0];\n",
       "    this.rubberband_context = rubberband[0].getContext(\"2d\");\n",
       "    this.rubberband_context.strokeStyle = \"#000000\";\n",
       "\n",
       "    this._resize_canvas = function(width, height) {\n",
       "        // Keep the size of the canvas, canvas container, and rubber band\n",
       "        // canvas in synch.\n",
       "        canvas_div.css('width', width)\n",
       "        canvas_div.css('height', height)\n",
       "\n",
       "        canvas.attr('width', width * mpl.ratio);\n",
       "        canvas.attr('height', height * mpl.ratio);\n",
       "        canvas.attr('style', 'width: ' + width + 'px; height: ' + height + 'px;');\n",
       "\n",
       "        rubberband.attr('width', width);\n",
       "        rubberband.attr('height', height);\n",
       "    }\n",
       "\n",
       "    // Set the figure to an initial 600x600px, this will subsequently be updated\n",
       "    // upon first draw.\n",
       "    this._resize_canvas(600, 600);\n",
       "\n",
       "    // Disable right mouse context menu.\n",
       "    $(this.rubberband_canvas).bind(\"contextmenu\",function(e){\n",
       "        return false;\n",
       "    });\n",
       "\n",
       "    function set_focus () {\n",
       "        canvas.focus();\n",
       "        canvas_div.focus();\n",
       "    }\n",
       "\n",
       "    window.setTimeout(set_focus, 100);\n",
       "}\n",
       "\n",
       "mpl.figure.prototype._init_toolbar = function() {\n",
       "    var fig = this;\n",
       "\n",
       "    var nav_element = $('<div/>');\n",
       "    nav_element.attr('style', 'width: 100%');\n",
       "    this.root.append(nav_element);\n",
       "\n",
       "    // Define a callback function for later on.\n",
       "    function toolbar_event(event) {\n",
       "        return fig.toolbar_button_onclick(event['data']);\n",
       "    }\n",
       "    function toolbar_mouse_event(event) {\n",
       "        return fig.toolbar_button_onmouseover(event['data']);\n",
       "    }\n",
       "\n",
       "    for(var toolbar_ind in mpl.toolbar_items) {\n",
       "        var name = mpl.toolbar_items[toolbar_ind][0];\n",
       "        var tooltip = mpl.toolbar_items[toolbar_ind][1];\n",
       "        var image = mpl.toolbar_items[toolbar_ind][2];\n",
       "        var method_name = mpl.toolbar_items[toolbar_ind][3];\n",
       "\n",
       "        if (!name) {\n",
       "            // put a spacer in here.\n",
       "            continue;\n",
       "        }\n",
       "        var button = $('<button/>');\n",
       "        button.addClass('ui-button ui-widget ui-state-default ui-corner-all ' +\n",
       "                        'ui-button-icon-only');\n",
       "        button.attr('role', 'button');\n",
       "        button.attr('aria-disabled', 'false');\n",
       "        button.click(method_name, toolbar_event);\n",
       "        button.mouseover(tooltip, toolbar_mouse_event);\n",
       "\n",
       "        var icon_img = $('<span/>');\n",
       "        icon_img.addClass('ui-button-icon-primary ui-icon');\n",
       "        icon_img.addClass(image);\n",
       "        icon_img.addClass('ui-corner-all');\n",
       "\n",
       "        var tooltip_span = $('<span/>');\n",
       "        tooltip_span.addClass('ui-button-text');\n",
       "        tooltip_span.html(tooltip);\n",
       "\n",
       "        button.append(icon_img);\n",
       "        button.append(tooltip_span);\n",
       "\n",
       "        nav_element.append(button);\n",
       "    }\n",
       "\n",
       "    var fmt_picker_span = $('<span/>');\n",
       "\n",
       "    var fmt_picker = $('<select/>');\n",
       "    fmt_picker.addClass('mpl-toolbar-option ui-widget ui-widget-content');\n",
       "    fmt_picker_span.append(fmt_picker);\n",
       "    nav_element.append(fmt_picker_span);\n",
       "    this.format_dropdown = fmt_picker[0];\n",
       "\n",
       "    for (var ind in mpl.extensions) {\n",
       "        var fmt = mpl.extensions[ind];\n",
       "        var option = $(\n",
       "            '<option/>', {selected: fmt === mpl.default_extension}).html(fmt);\n",
       "        fmt_picker.append(option);\n",
       "    }\n",
       "\n",
       "    // Add hover states to the ui-buttons\n",
       "    $( \".ui-button\" ).hover(\n",
       "        function() { $(this).addClass(\"ui-state-hover\");},\n",
       "        function() { $(this).removeClass(\"ui-state-hover\");}\n",
       "    );\n",
       "\n",
       "    var status_bar = $('<span class=\"mpl-message\"/>');\n",
       "    nav_element.append(status_bar);\n",
       "    this.message = status_bar[0];\n",
       "}\n",
       "\n",
       "mpl.figure.prototype.request_resize = function(x_pixels, y_pixels) {\n",
       "    // Request matplotlib to resize the figure. Matplotlib will then trigger a resize in the client,\n",
       "    // which will in turn request a refresh of the image.\n",
       "    this.send_message('resize', {'width': x_pixels, 'height': y_pixels});\n",
       "}\n",
       "\n",
       "mpl.figure.prototype.send_message = function(type, properties) {\n",
       "    properties['type'] = type;\n",
       "    properties['figure_id'] = this.id;\n",
       "    this.ws.send(JSON.stringify(properties));\n",
       "}\n",
       "\n",
       "mpl.figure.prototype.send_draw_message = function() {\n",
       "    if (!this.waiting) {\n",
       "        this.waiting = true;\n",
       "        this.ws.send(JSON.stringify({type: \"draw\", figure_id: this.id}));\n",
       "    }\n",
       "}\n",
       "\n",
       "\n",
       "mpl.figure.prototype.handle_save = function(fig, msg) {\n",
       "    var format_dropdown = fig.format_dropdown;\n",
       "    var format = format_dropdown.options[format_dropdown.selectedIndex].value;\n",
       "    fig.ondownload(fig, format);\n",
       "}\n",
       "\n",
       "\n",
       "mpl.figure.prototype.handle_resize = function(fig, msg) {\n",
       "    var size = msg['size'];\n",
       "    if (size[0] != fig.canvas.width || size[1] != fig.canvas.height) {\n",
       "        fig._resize_canvas(size[0], size[1]);\n",
       "        fig.send_message(\"refresh\", {});\n",
       "    };\n",
       "}\n",
       "\n",
       "mpl.figure.prototype.handle_rubberband = function(fig, msg) {\n",
       "    var x0 = msg['x0'] / mpl.ratio;\n",
       "    var y0 = (fig.canvas.height - msg['y0']) / mpl.ratio;\n",
       "    var x1 = msg['x1'] / mpl.ratio;\n",
       "    var y1 = (fig.canvas.height - msg['y1']) / mpl.ratio;\n",
       "    x0 = Math.floor(x0) + 0.5;\n",
       "    y0 = Math.floor(y0) + 0.5;\n",
       "    x1 = Math.floor(x1) + 0.5;\n",
       "    y1 = Math.floor(y1) + 0.5;\n",
       "    var min_x = Math.min(x0, x1);\n",
       "    var min_y = Math.min(y0, y1);\n",
       "    var width = Math.abs(x1 - x0);\n",
       "    var height = Math.abs(y1 - y0);\n",
       "\n",
       "    fig.rubberband_context.clearRect(\n",
       "        0, 0, fig.canvas.width / mpl.ratio, fig.canvas.height / mpl.ratio);\n",
       "\n",
       "    fig.rubberband_context.strokeRect(min_x, min_y, width, height);\n",
       "}\n",
       "\n",
       "mpl.figure.prototype.handle_figure_label = function(fig, msg) {\n",
       "    // Updates the figure title.\n",
       "    fig.header.textContent = msg['label'];\n",
       "}\n",
       "\n",
       "mpl.figure.prototype.handle_cursor = function(fig, msg) {\n",
       "    var cursor = msg['cursor'];\n",
       "    switch(cursor)\n",
       "    {\n",
       "    case 0:\n",
       "        cursor = 'pointer';\n",
       "        break;\n",
       "    case 1:\n",
       "        cursor = 'default';\n",
       "        break;\n",
       "    case 2:\n",
       "        cursor = 'crosshair';\n",
       "        break;\n",
       "    case 3:\n",
       "        cursor = 'move';\n",
       "        break;\n",
       "    }\n",
       "    fig.rubberband_canvas.style.cursor = cursor;\n",
       "}\n",
       "\n",
       "mpl.figure.prototype.handle_message = function(fig, msg) {\n",
       "    fig.message.textContent = msg['message'];\n",
       "}\n",
       "\n",
       "mpl.figure.prototype.handle_draw = function(fig, msg) {\n",
       "    // Request the server to send over a new figure.\n",
       "    fig.send_draw_message();\n",
       "}\n",
       "\n",
       "mpl.figure.prototype.handle_image_mode = function(fig, msg) {\n",
       "    fig.image_mode = msg['mode'];\n",
       "}\n",
       "\n",
       "mpl.figure.prototype.updated_canvas_event = function() {\n",
       "    // Called whenever the canvas gets updated.\n",
       "    this.send_message(\"ack\", {});\n",
       "}\n",
       "\n",
       "// A function to construct a web socket function for onmessage handling.\n",
       "// Called in the figure constructor.\n",
       "mpl.figure.prototype._make_on_message_function = function(fig) {\n",
       "    return function socket_on_message(evt) {\n",
       "        if (evt.data instanceof Blob) {\n",
       "            /* FIXME: We get \"Resource interpreted as Image but\n",
       "             * transferred with MIME type text/plain:\" errors on\n",
       "             * Chrome.  But how to set the MIME type?  It doesn't seem\n",
       "             * to be part of the websocket stream */\n",
       "            evt.data.type = \"image/png\";\n",
       "\n",
       "            /* Free the memory for the previous frames */\n",
       "            if (fig.imageObj.src) {\n",
       "                (window.URL || window.webkitURL).revokeObjectURL(\n",
       "                    fig.imageObj.src);\n",
       "            }\n",
       "\n",
       "            fig.imageObj.src = (window.URL || window.webkitURL).createObjectURL(\n",
       "                evt.data);\n",
       "            fig.updated_canvas_event();\n",
       "            fig.waiting = false;\n",
       "            return;\n",
       "        }\n",
       "        else if (typeof evt.data === 'string' && evt.data.slice(0, 21) == \"data:image/png;base64\") {\n",
       "            fig.imageObj.src = evt.data;\n",
       "            fig.updated_canvas_event();\n",
       "            fig.waiting = false;\n",
       "            return;\n",
       "        }\n",
       "\n",
       "        var msg = JSON.parse(evt.data);\n",
       "        var msg_type = msg['type'];\n",
       "\n",
       "        // Call the  \"handle_{type}\" callback, which takes\n",
       "        // the figure and JSON message as its only arguments.\n",
       "        try {\n",
       "            var callback = fig[\"handle_\" + msg_type];\n",
       "        } catch (e) {\n",
       "            console.log(\"No handler for the '\" + msg_type + \"' message type: \", msg);\n",
       "            return;\n",
       "        }\n",
       "\n",
       "        if (callback) {\n",
       "            try {\n",
       "                // console.log(\"Handling '\" + msg_type + \"' message: \", msg);\n",
       "                callback(fig, msg);\n",
       "            } catch (e) {\n",
       "                console.log(\"Exception inside the 'handler_\" + msg_type + \"' callback:\", e, e.stack, msg);\n",
       "            }\n",
       "        }\n",
       "    };\n",
       "}\n",
       "\n",
       "// from http://stackoverflow.com/questions/1114465/getting-mouse-location-in-canvas\n",
       "mpl.findpos = function(e) {\n",
       "    //this section is from http://www.quirksmode.org/js/events_properties.html\n",
       "    var targ;\n",
       "    if (!e)\n",
       "        e = window.event;\n",
       "    if (e.target)\n",
       "        targ = e.target;\n",
       "    else if (e.srcElement)\n",
       "        targ = e.srcElement;\n",
       "    if (targ.nodeType == 3) // defeat Safari bug\n",
       "        targ = targ.parentNode;\n",
       "\n",
       "    // jQuery normalizes the pageX and pageY\n",
       "    // pageX,Y are the mouse positions relative to the document\n",
       "    // offset() returns the position of the element relative to the document\n",
       "    var x = e.pageX - $(targ).offset().left;\n",
       "    var y = e.pageY - $(targ).offset().top;\n",
       "\n",
       "    return {\"x\": x, \"y\": y};\n",
       "};\n",
       "\n",
       "/*\n",
       " * return a copy of an object with only non-object keys\n",
       " * we need this to avoid circular references\n",
       " * http://stackoverflow.com/a/24161582/3208463\n",
       " */\n",
       "function simpleKeys (original) {\n",
       "  return Object.keys(original).reduce(function (obj, key) {\n",
       "    if (typeof original[key] !== 'object')\n",
       "        obj[key] = original[key]\n",
       "    return obj;\n",
       "  }, {});\n",
       "}\n",
       "\n",
       "mpl.figure.prototype.mouse_event = function(event, name) {\n",
       "    var canvas_pos = mpl.findpos(event)\n",
       "\n",
       "    if (name === 'button_press')\n",
       "    {\n",
       "        this.canvas.focus();\n",
       "        this.canvas_div.focus();\n",
       "    }\n",
       "\n",
       "    var x = canvas_pos.x * mpl.ratio;\n",
       "    var y = canvas_pos.y * mpl.ratio;\n",
       "\n",
       "    this.send_message(name, {x: x, y: y, button: event.button,\n",
       "                             step: event.step,\n",
       "                             guiEvent: simpleKeys(event)});\n",
       "\n",
       "    /* This prevents the web browser from automatically changing to\n",
       "     * the text insertion cursor when the button is pressed.  We want\n",
       "     * to control all of the cursor setting manually through the\n",
       "     * 'cursor' event from matplotlib */\n",
       "    event.preventDefault();\n",
       "    return false;\n",
       "}\n",
       "\n",
       "mpl.figure.prototype._key_event_extra = function(event, name) {\n",
       "    // Handle any extra behaviour associated with a key event\n",
       "}\n",
       "\n",
       "mpl.figure.prototype.key_event = function(event, name) {\n",
       "\n",
       "    // Prevent repeat events\n",
       "    if (name == 'key_press')\n",
       "    {\n",
       "        if (event.which === this._key)\n",
       "            return;\n",
       "        else\n",
       "            this._key = event.which;\n",
       "    }\n",
       "    if (name == 'key_release')\n",
       "        this._key = null;\n",
       "\n",
       "    var value = '';\n",
       "    if (event.ctrlKey && event.which != 17)\n",
       "        value += \"ctrl+\";\n",
       "    if (event.altKey && event.which != 18)\n",
       "        value += \"alt+\";\n",
       "    if (event.shiftKey && event.which != 16)\n",
       "        value += \"shift+\";\n",
       "\n",
       "    value += 'k';\n",
       "    value += event.which.toString();\n",
       "\n",
       "    this._key_event_extra(event, name);\n",
       "\n",
       "    this.send_message(name, {key: value,\n",
       "                             guiEvent: simpleKeys(event)});\n",
       "    return false;\n",
       "}\n",
       "\n",
       "mpl.figure.prototype.toolbar_button_onclick = function(name) {\n",
       "    if (name == 'download') {\n",
       "        this.handle_save(this, null);\n",
       "    } else {\n",
       "        this.send_message(\"toolbar_button\", {name: name});\n",
       "    }\n",
       "};\n",
       "\n",
       "mpl.figure.prototype.toolbar_button_onmouseover = function(tooltip) {\n",
       "    this.message.textContent = tooltip;\n",
       "};\n",
       "mpl.toolbar_items = [[\"Home\", \"Reset original view\", \"fa fa-home icon-home\", \"home\"], [\"Back\", \"Back to previous view\", \"fa fa-arrow-left icon-arrow-left\", \"back\"], [\"Forward\", \"Forward to next view\", \"fa fa-arrow-right icon-arrow-right\", \"forward\"], [\"\", \"\", \"\", \"\"], [\"Pan\", \"Pan axes with left mouse, zoom with right\", \"fa fa-arrows icon-move\", \"pan\"], [\"Zoom\", \"Zoom to rectangle\", \"fa fa-square-o icon-check-empty\", \"zoom\"], [\"\", \"\", \"\", \"\"], [\"Download\", \"Download plot\", \"fa fa-floppy-o icon-save\", \"download\"]];\n",
       "\n",
       "mpl.extensions = [\"eps\", \"jpeg\", \"pdf\", \"png\", \"ps\", \"raw\", \"svg\", \"tif\"];\n",
       "\n",
       "mpl.default_extension = \"png\";var comm_websocket_adapter = function(comm) {\n",
       "    // Create a \"websocket\"-like object which calls the given IPython comm\n",
       "    // object with the appropriate methods. Currently this is a non binary\n",
       "    // socket, so there is still some room for performance tuning.\n",
       "    var ws = {};\n",
       "\n",
       "    ws.close = function() {\n",
       "        comm.close()\n",
       "    };\n",
       "    ws.send = function(m) {\n",
       "        //console.log('sending', m);\n",
       "        comm.send(m);\n",
       "    };\n",
       "    // Register the callback with on_msg.\n",
       "    comm.on_msg(function(msg) {\n",
       "        //console.log('receiving', msg['content']['data'], msg);\n",
       "        // Pass the mpl event to the overridden (by mpl) onmessage function.\n",
       "        ws.onmessage(msg['content']['data'])\n",
       "    });\n",
       "    return ws;\n",
       "}\n",
       "\n",
       "mpl.mpl_figure_comm = function(comm, msg) {\n",
       "    // This is the function which gets called when the mpl process\n",
       "    // starts-up an IPython Comm through the \"matplotlib\" channel.\n",
       "\n",
       "    var id = msg.content.data.id;\n",
       "    // Get hold of the div created by the display call when the Comm\n",
       "    // socket was opened in Python.\n",
       "    var element = $(\"#\" + id);\n",
       "    var ws_proxy = comm_websocket_adapter(comm)\n",
       "\n",
       "    function ondownload(figure, format) {\n",
       "        window.open(figure.imageObj.src);\n",
       "    }\n",
       "\n",
       "    var fig = new mpl.figure(id, ws_proxy,\n",
       "                           ondownload,\n",
       "                           element.get(0));\n",
       "\n",
       "    // Call onopen now - mpl needs it, as it is assuming we've passed it a real\n",
       "    // web socket which is closed, not our websocket->open comm proxy.\n",
       "    ws_proxy.onopen();\n",
       "\n",
       "    fig.parent_element = element.get(0);\n",
       "    fig.cell_info = mpl.find_output_cell(\"<div id='\" + id + \"'></div>\");\n",
       "    if (!fig.cell_info) {\n",
       "        console.error(\"Failed to find cell for figure\", id, fig);\n",
       "        return;\n",
       "    }\n",
       "\n",
       "    var output_index = fig.cell_info[2]\n",
       "    var cell = fig.cell_info[0];\n",
       "\n",
       "};\n",
       "\n",
       "mpl.figure.prototype.handle_close = function(fig, msg) {\n",
       "    var width = fig.canvas.width/mpl.ratio\n",
       "    fig.root.unbind('remove')\n",
       "\n",
       "    // Update the output cell to use the data from the current canvas.\n",
       "    fig.push_to_output();\n",
       "    var dataURL = fig.canvas.toDataURL();\n",
       "    // Re-enable the keyboard manager in IPython - without this line, in FF,\n",
       "    // the notebook keyboard shortcuts fail.\n",
       "    IPython.keyboard_manager.enable()\n",
       "    $(fig.parent_element).html('<img src=\"' + dataURL + '\" width=\"' + width + '\">');\n",
       "    fig.close_ws(fig, msg);\n",
       "}\n",
       "\n",
       "mpl.figure.prototype.close_ws = function(fig, msg){\n",
       "    fig.send_message('closing', msg);\n",
       "    // fig.ws.close()\n",
       "}\n",
       "\n",
       "mpl.figure.prototype.push_to_output = function(remove_interactive) {\n",
       "    // Turn the data on the canvas into data in the output cell.\n",
       "    var width = this.canvas.width/mpl.ratio\n",
       "    var dataURL = this.canvas.toDataURL();\n",
       "    this.cell_info[1]['text/html'] = '<img src=\"' + dataURL + '\" width=\"' + width + '\">';\n",
       "}\n",
       "\n",
       "mpl.figure.prototype.updated_canvas_event = function() {\n",
       "    // Tell IPython that the notebook contents must change.\n",
       "    IPython.notebook.set_dirty(true);\n",
       "    this.send_message(\"ack\", {});\n",
       "    var fig = this;\n",
       "    // Wait a second, then push the new image to the DOM so\n",
       "    // that it is saved nicely (might be nice to debounce this).\n",
       "    setTimeout(function () { fig.push_to_output() }, 1000);\n",
       "}\n",
       "\n",
       "mpl.figure.prototype._init_toolbar = function() {\n",
       "    var fig = this;\n",
       "\n",
       "    var nav_element = $('<div/>');\n",
       "    nav_element.attr('style', 'width: 100%');\n",
       "    this.root.append(nav_element);\n",
       "\n",
       "    // Define a callback function for later on.\n",
       "    function toolbar_event(event) {\n",
       "        return fig.toolbar_button_onclick(event['data']);\n",
       "    }\n",
       "    function toolbar_mouse_event(event) {\n",
       "        return fig.toolbar_button_onmouseover(event['data']);\n",
       "    }\n",
       "\n",
       "    for(var toolbar_ind in mpl.toolbar_items){\n",
       "        var name = mpl.toolbar_items[toolbar_ind][0];\n",
       "        var tooltip = mpl.toolbar_items[toolbar_ind][1];\n",
       "        var image = mpl.toolbar_items[toolbar_ind][2];\n",
       "        var method_name = mpl.toolbar_items[toolbar_ind][3];\n",
       "\n",
       "        if (!name) { continue; };\n",
       "\n",
       "        var button = $('<button class=\"btn btn-default\" href=\"#\" title=\"' + name + '\"><i class=\"fa ' + image + ' fa-lg\"></i></button>');\n",
       "        button.click(method_name, toolbar_event);\n",
       "        button.mouseover(tooltip, toolbar_mouse_event);\n",
       "        nav_element.append(button);\n",
       "    }\n",
       "\n",
       "    // Add the status bar.\n",
       "    var status_bar = $('<span class=\"mpl-message\" style=\"text-align:right; float: right;\"/>');\n",
       "    nav_element.append(status_bar);\n",
       "    this.message = status_bar[0];\n",
       "\n",
       "    // Add the close button to the window.\n",
       "    var buttongrp = $('<div class=\"btn-group inline pull-right\"></div>');\n",
       "    var button = $('<button class=\"btn btn-mini btn-primary\" href=\"#\" title=\"Stop Interaction\"><i class=\"fa fa-power-off icon-remove icon-large\"></i></button>');\n",
       "    button.click(function (evt) { fig.handle_close(fig, {}); } );\n",
       "    button.mouseover('Stop Interaction', toolbar_mouse_event);\n",
       "    buttongrp.append(button);\n",
       "    var titlebar = this.root.find($('.ui-dialog-titlebar'));\n",
       "    titlebar.prepend(buttongrp);\n",
       "}\n",
       "\n",
       "mpl.figure.prototype._root_extra_style = function(el){\n",
       "    var fig = this\n",
       "    el.on(\"remove\", function(){\n",
       "\tfig.close_ws(fig, {});\n",
       "    });\n",
       "}\n",
       "\n",
       "mpl.figure.prototype._canvas_extra_style = function(el){\n",
       "    // this is important to make the div 'focusable\n",
       "    el.attr('tabindex', 0)\n",
       "    // reach out to IPython and tell the keyboard manager to turn it's self\n",
       "    // off when our div gets focus\n",
       "\n",
       "    // location in version 3\n",
       "    if (IPython.notebook.keyboard_manager) {\n",
       "        IPython.notebook.keyboard_manager.register_events(el);\n",
       "    }\n",
       "    else {\n",
       "        // location in version 2\n",
       "        IPython.keyboard_manager.register_events(el);\n",
       "    }\n",
       "\n",
       "}\n",
       "\n",
       "mpl.figure.prototype._key_event_extra = function(event, name) {\n",
       "    var manager = IPython.notebook.keyboard_manager;\n",
       "    if (!manager)\n",
       "        manager = IPython.keyboard_manager;\n",
       "\n",
       "    // Check for shift+enter\n",
       "    if (event.shiftKey && event.which == 13) {\n",
       "        this.canvas_div.blur();\n",
       "        // select the cell after this one\n",
       "        var index = IPython.notebook.find_cell_index(this.cell_info[0]);\n",
       "        IPython.notebook.select(index + 1);\n",
       "    }\n",
       "}\n",
       "\n",
       "mpl.figure.prototype.handle_save = function(fig, msg) {\n",
       "    fig.ondownload(fig, null);\n",
       "}\n",
       "\n",
       "\n",
       "mpl.find_output_cell = function(html_output) {\n",
       "    // Return the cell and output element which can be found *uniquely* in the notebook.\n",
       "    // Note - this is a bit hacky, but it is done because the \"notebook_saving.Notebook\"\n",
       "    // IPython event is triggered only after the cells have been serialised, which for\n",
       "    // our purposes (turning an active figure into a static one), is too late.\n",
       "    var cells = IPython.notebook.get_cells();\n",
       "    var ncells = cells.length;\n",
       "    for (var i=0; i<ncells; i++) {\n",
       "        var cell = cells[i];\n",
       "        if (cell.cell_type === 'code'){\n",
       "            for (var j=0; j<cell.output_area.outputs.length; j++) {\n",
       "                var data = cell.output_area.outputs[j];\n",
       "                if (data.data) {\n",
       "                    // IPython >= 3 moved mimebundle to data attribute of output\n",
       "                    data = data.data;\n",
       "                }\n",
       "                if (data['text/html'] == html_output) {\n",
       "                    return [cell, data, j];\n",
       "                }\n",
       "            }\n",
       "        }\n",
       "    }\n",
       "}\n",
       "\n",
       "// Register the function which deals with the matplotlib target/channel.\n",
       "// The kernel may be null if the page has been refreshed.\n",
       "if (IPython.notebook.kernel != null) {\n",
       "    IPython.notebook.kernel.comm_manager.register_target('matplotlib', mpl.mpl_figure_comm);\n",
       "}\n"
      ],
      "text/plain": [
       "<IPython.core.display.Javascript object>"
      ]
     },
     "metadata": {},
     "output_type": "display_data"
    },
    {
     "data": {
      "text/html": [
       "<img src=\"data:image/png;base64,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\" width=\"1000\">"
      ],
      "text/plain": [
       "<IPython.core.display.HTML object>"
      ]
     },
     "metadata": {},
     "output_type": "display_data"
    }
   ],
   "source": [
    "ax, lax, lines = dual_train_plots_tracks_to_KDE()\n",
    "fig = ax.figure\n",
    "plt.tight_layout()"
   ]
  },
  {
   "cell_type": "code",
   "execution_count": 18,
   "metadata": {
    "scrolled": false
   },
   "outputs": [
    {
     "name": "stdout",
     "output_type": "stream",
     "text": [
      "Number of batches: train = 8750, val = 157\n"
     ]
    },
    {
     "data": {
      "application/vnd.jupyter.widget-view+json": {
       "model_id": "a51f3723a8c54949b9e217c99061fbb6",
       "version_major": 2,
       "version_minor": 0
      },
      "text/plain": [
       "HBox(children=(FloatProgress(value=0.0, description='Epochs', layout=Layout(flex='2'), max=50.0, style=Progres…"
      ]
     },
     "metadata": {},
     "output_type": "display_data"
    },
    {
     "name": "stdout",
     "output_type": "stream",
     "text": [
      "Number of batches: train = 8750, val = 157\n"
     ]
    },
    {
     "data": {
      "application/vnd.jupyter.widget-view+json": {
       "model_id": "",
       "version_major": 2,
       "version_minor": 0
      },
      "text/plain": [
       "HBox(children=(FloatProgress(value=0.0, description='Training', layout=Layout(flex='2'), max=8750.0, style=Pro…"
      ]
     },
     "metadata": {},
     "output_type": "display_data"
    },
    {
     "name": "stdout",
     "output_type": "stream",
     "text": [
      "Epoch 0: train=0.534262, val=0.384754, took 1021.5 s\n"
     ]
    },
    {
     "data": {
      "application/vnd.jupyter.widget-view+json": {
       "model_id": "",
       "version_major": 2,
       "version_minor": 0
      },
      "text/plain": [
       "HBox(children=(FloatProgress(value=0.0, description='Training', layout=Layout(flex='2'), max=8750.0, style=Pro…"
      ]
     },
     "metadata": {},
     "output_type": "display_data"
    },
    {
     "name": "stdout",
     "output_type": "stream",
     "text": [
      "Epoch 1: train=0.533802, val=0.368324, took 1035.9 s\n"
     ]
    },
    {
     "data": {
      "application/vnd.jupyter.widget-view+json": {
       "model_id": "",
       "version_major": 2,
       "version_minor": 0
      },
      "text/plain": [
       "HBox(children=(FloatProgress(value=0.0, description='Training', layout=Layout(flex='2'), max=8750.0, style=Pro…"
      ]
     },
     "metadata": {},
     "output_type": "display_data"
    },
    {
     "name": "stdout",
     "output_type": "stream",
     "text": [
      "Epoch 2: train=0.533999, val=0.339385, took 1024.2 s\n"
     ]
    },
    {
     "data": {
      "application/vnd.jupyter.widget-view+json": {
       "model_id": "",
       "version_major": 2,
       "version_minor": 0
      },
      "text/plain": [
       "HBox(children=(FloatProgress(value=0.0, description='Training', layout=Layout(flex='2'), max=8750.0, style=Pro…"
      ]
     },
     "metadata": {},
     "output_type": "display_data"
    },
    {
     "name": "stdout",
     "output_type": "stream",
     "text": [
      "Epoch 3: train=0.532971, val=0.414614, took 1029.2 s\n"
     ]
    },
    {
     "data": {
      "application/vnd.jupyter.widget-view+json": {
       "model_id": "",
       "version_major": 2,
       "version_minor": 0
      },
      "text/plain": [
       "HBox(children=(FloatProgress(value=0.0, description='Training', layout=Layout(flex='2'), max=8750.0, style=Pro…"
      ]
     },
     "metadata": {},
     "output_type": "display_data"
    },
    {
     "name": "stdout",
     "output_type": "stream",
     "text": [
      "Epoch 4: train=0.531838, val=0.34971, took 1030.3 s\n"
     ]
    },
    {
     "data": {
      "application/vnd.jupyter.widget-view+json": {
       "model_id": "",
       "version_major": 2,
       "version_minor": 0
      },
      "text/plain": [
       "HBox(children=(FloatProgress(value=0.0, description='Training', layout=Layout(flex='2'), max=8750.0, style=Pro…"
      ]
     },
     "metadata": {},
     "output_type": "display_data"
    },
    {
     "name": "stdout",
     "output_type": "stream",
     "text": [
      "Epoch 5: train=0.533022, val=0.363529, took 1027.6 s\n"
     ]
    },
    {
     "data": {
      "application/vnd.jupyter.widget-view+json": {
       "model_id": "",
       "version_major": 2,
       "version_minor": 0
      },
      "text/plain": [
       "HBox(children=(FloatProgress(value=0.0, description='Training', layout=Layout(flex='2'), max=8750.0, style=Pro…"
      ]
     },
     "metadata": {},
     "output_type": "display_data"
    },
    {
     "name": "stdout",
     "output_type": "stream",
     "text": [
      "Epoch 6: train=0.53349, val=0.366944, took 1028.3 s\n"
     ]
    },
    {
     "data": {
      "application/vnd.jupyter.widget-view+json": {
       "model_id": "",
       "version_major": 2,
       "version_minor": 0
      },
      "text/plain": [
       "HBox(children=(FloatProgress(value=0.0, description='Training', layout=Layout(flex='2'), max=8750.0, style=Pro…"
      ]
     },
     "metadata": {},
     "output_type": "display_data"
    },
    {
     "name": "stdout",
     "output_type": "stream",
     "text": [
      "Epoch 7: train=0.533935, val=0.379481, took 1025.2 s\n"
     ]
    },
    {
     "data": {
      "application/vnd.jupyter.widget-view+json": {
       "model_id": "",
       "version_major": 2,
       "version_minor": 0
      },
      "text/plain": [
       "HBox(children=(FloatProgress(value=0.0, description='Training', layout=Layout(flex='2'), max=8750.0, style=Pro…"
      ]
     },
     "metadata": {},
     "output_type": "display_data"
    },
    {
     "name": "stdout",
     "output_type": "stream",
     "text": [
      "Epoch 8: train=0.532221, val=0.355265, took 1019.4 s\n"
     ]
    },
    {
     "data": {
      "application/vnd.jupyter.widget-view+json": {
       "model_id": "",
       "version_major": 2,
       "version_minor": 0
      },
      "text/plain": [
       "HBox(children=(FloatProgress(value=0.0, description='Training', layout=Layout(flex='2'), max=8750.0, style=Pro…"
      ]
     },
     "metadata": {},
     "output_type": "display_data"
    },
    {
     "name": "stdout",
     "output_type": "stream",
     "text": [
      "Epoch 9: train=0.532296, val=0.343068, took 1018.1 s\n"
     ]
    },
    {
     "data": {
      "application/vnd.jupyter.widget-view+json": {
       "model_id": "",
       "version_major": 2,
       "version_minor": 0
      },
      "text/plain": [
       "HBox(children=(FloatProgress(value=0.0, description='Training', layout=Layout(flex='2'), max=8750.0, style=Pro…"
      ]
     },
     "metadata": {},
     "output_type": "display_data"
    },
    {
     "name": "stdout",
     "output_type": "stream",
     "text": [
      "Epoch 10: train=0.531912, val=0.375908, took 1013.3 s\n"
     ]
    },
    {
     "data": {
      "application/vnd.jupyter.widget-view+json": {
       "model_id": "",
       "version_major": 2,
       "version_minor": 0
      },
      "text/plain": [
       "HBox(children=(FloatProgress(value=0.0, description='Training', layout=Layout(flex='2'), max=8750.0, style=Pro…"
      ]
     },
     "metadata": {},
     "output_type": "display_data"
    },
    {
     "name": "stdout",
     "output_type": "stream",
     "text": [
      "Epoch 11: train=0.531284, val=0.367872, took 1013.1 s\n"
     ]
    },
    {
     "data": {
      "application/vnd.jupyter.widget-view+json": {
       "model_id": "",
       "version_major": 2,
       "version_minor": 0
      },
      "text/plain": [
       "HBox(children=(FloatProgress(value=0.0, description='Training', layout=Layout(flex='2'), max=8750.0, style=Pro…"
      ]
     },
     "metadata": {},
     "output_type": "display_data"
    },
    {
     "name": "stdout",
     "output_type": "stream",
     "text": [
      "Epoch 12: train=0.530664, val=0.344714, took 1013.2 s\n"
     ]
    },
    {
     "data": {
      "application/vnd.jupyter.widget-view+json": {
       "model_id": "",
       "version_major": 2,
       "version_minor": 0
      },
      "text/plain": [
       "HBox(children=(FloatProgress(value=0.0, description='Training', layout=Layout(flex='2'), max=8750.0, style=Pro…"
      ]
     },
     "metadata": {},
     "output_type": "display_data"
    },
    {
     "name": "stdout",
     "output_type": "stream",
     "text": [
      "Epoch 13: train=0.531196, val=0.340366, took 1013.9 s\n"
     ]
    },
    {
     "data": {
      "application/vnd.jupyter.widget-view+json": {
       "model_id": "",
       "version_major": 2,
       "version_minor": 0
      },
      "text/plain": [
       "HBox(children=(FloatProgress(value=0.0, description='Training', layout=Layout(flex='2'), max=8750.0, style=Pro…"
      ]
     },
     "metadata": {},
     "output_type": "display_data"
    },
    {
     "name": "stdout",
     "output_type": "stream",
     "text": [
      "Epoch 14: train=0.532128, val=0.340668, took 1014.2 s\n"
     ]
    },
    {
     "data": {
      "application/vnd.jupyter.widget-view+json": {
       "model_id": "",
       "version_major": 2,
       "version_minor": 0
      },
      "text/plain": [
       "HBox(children=(FloatProgress(value=0.0, description='Training', layout=Layout(flex='2'), max=8750.0, style=Pro…"
      ]
     },
     "metadata": {},
     "output_type": "display_data"
    },
    {
     "name": "stdout",
     "output_type": "stream",
     "text": [
      "Epoch 15: train=0.531811, val=0.356164, took 1013.0 s\n"
     ]
    },
    {
     "data": {
      "application/vnd.jupyter.widget-view+json": {
       "model_id": "",
       "version_major": 2,
       "version_minor": 0
      },
      "text/plain": [
       "HBox(children=(FloatProgress(value=0.0, description='Training', layout=Layout(flex='2'), max=8750.0, style=Pro…"
      ]
     },
     "metadata": {},
     "output_type": "display_data"
    },
    {
     "name": "stdout",
     "output_type": "stream",
     "text": [
      "Epoch 16: train=0.531056, val=0.345649, took 1013.3 s\n"
     ]
    },
    {
     "data": {
      "application/vnd.jupyter.widget-view+json": {
       "model_id": "",
       "version_major": 2,
       "version_minor": 0
      },
      "text/plain": [
       "HBox(children=(FloatProgress(value=0.0, description='Training', layout=Layout(flex='2'), max=8750.0, style=Pro…"
      ]
     },
     "metadata": {},
     "output_type": "display_data"
    },
    {
     "name": "stdout",
     "output_type": "stream",
     "text": [
      "Epoch 17: train=0.530896, val=0.33885, took 1013.5 s\n"
     ]
    },
    {
     "data": {
      "application/vnd.jupyter.widget-view+json": {
       "model_id": "",
       "version_major": 2,
       "version_minor": 0
      },
      "text/plain": [
       "HBox(children=(FloatProgress(value=0.0, description='Training', layout=Layout(flex='2'), max=8750.0, style=Pro…"
      ]
     },
     "metadata": {},
     "output_type": "display_data"
    },
    {
     "name": "stdout",
     "output_type": "stream",
     "text": [
      "Epoch 18: train=0.529914, val=0.362124, took 1013.1 s\n"
     ]
    },
    {
     "data": {
      "application/vnd.jupyter.widget-view+json": {
       "model_id": "",
       "version_major": 2,
       "version_minor": 0
      },
      "text/plain": [
       "HBox(children=(FloatProgress(value=0.0, description='Training', layout=Layout(flex='2'), max=8750.0, style=Pro…"
      ]
     },
     "metadata": {},
     "output_type": "display_data"
    },
    {
     "name": "stdout",
     "output_type": "stream",
     "text": [
      "Epoch 19: train=0.530803, val=0.373657, took 1012.5 s\n"
     ]
    },
    {
     "data": {
      "application/vnd.jupyter.widget-view+json": {
       "model_id": "",
       "version_major": 2,
       "version_minor": 0
      },
      "text/plain": [
       "HBox(children=(FloatProgress(value=0.0, description='Training', layout=Layout(flex='2'), max=8750.0, style=Pro…"
      ]
     },
     "metadata": {},
     "output_type": "display_data"
    },
    {
     "name": "stdout",
     "output_type": "stream",
     "text": [
      "Epoch 20: train=0.531062, val=0.339172, took 1013.4 s\n"
     ]
    },
    {
     "data": {
      "application/vnd.jupyter.widget-view+json": {
       "model_id": "",
       "version_major": 2,
       "version_minor": 0
      },
      "text/plain": [
       "HBox(children=(FloatProgress(value=0.0, description='Training', layout=Layout(flex='2'), max=8750.0, style=Pro…"
      ]
     },
     "metadata": {},
     "output_type": "display_data"
    },
    {
     "name": "stdout",
     "output_type": "stream",
     "text": [
      "Epoch 21: train=0.529101, val=0.428965, took 1014.2 s\n"
     ]
    },
    {
     "data": {
      "application/vnd.jupyter.widget-view+json": {
       "model_id": "",
       "version_major": 2,
       "version_minor": 0
      },
      "text/plain": [
       "HBox(children=(FloatProgress(value=0.0, description='Training', layout=Layout(flex='2'), max=8750.0, style=Pro…"
      ]
     },
     "metadata": {},
     "output_type": "display_data"
    },
    {
     "name": "stdout",
     "output_type": "stream",
     "text": [
      "Epoch 22: train=0.530209, val=0.376442, took 1013.0 s\n"
     ]
    },
    {
     "data": {
      "application/vnd.jupyter.widget-view+json": {
       "model_id": "",
       "version_major": 2,
       "version_minor": 0
      },
      "text/plain": [
       "HBox(children=(FloatProgress(value=0.0, description='Training', layout=Layout(flex='2'), max=8750.0, style=Pro…"
      ]
     },
     "metadata": {},
     "output_type": "display_data"
    },
    {
     "name": "stdout",
     "output_type": "stream",
     "text": [
      "Epoch 23: train=0.530373, val=0.426888, took 1012.7 s\n"
     ]
    },
    {
     "data": {
      "application/vnd.jupyter.widget-view+json": {
       "model_id": "",
       "version_major": 2,
       "version_minor": 0
      },
      "text/plain": [
       "HBox(children=(FloatProgress(value=0.0, description='Training', layout=Layout(flex='2'), max=8750.0, style=Pro…"
      ]
     },
     "metadata": {},
     "output_type": "display_data"
    },
    {
     "name": "stdout",
     "output_type": "stream",
     "text": [
      "Epoch 24: train=0.529953, val=0.337203, took 1012.9 s\n"
     ]
    },
    {
     "data": {
      "application/vnd.jupyter.widget-view+json": {
       "model_id": "",
       "version_major": 2,
       "version_minor": 0
      },
      "text/plain": [
       "HBox(children=(FloatProgress(value=0.0, description='Training', layout=Layout(flex='2'), max=8750.0, style=Pro…"
      ]
     },
     "metadata": {},
     "output_type": "display_data"
    },
    {
     "name": "stdout",
     "output_type": "stream",
     "text": [
      "Epoch 25: train=0.53009, val=0.352499, took 1013.0 s\n"
     ]
    },
    {
     "data": {
      "application/vnd.jupyter.widget-view+json": {
       "model_id": "",
       "version_major": 2,
       "version_minor": 0
      },
      "text/plain": [
       "HBox(children=(FloatProgress(value=0.0, description='Training', layout=Layout(flex='2'), max=8750.0, style=Pro…"
      ]
     },
     "metadata": {},
     "output_type": "display_data"
    },
    {
     "name": "stdout",
     "output_type": "stream",
     "text": [
      "Epoch 26: train=0.530945, val=0.355352, took 1015.3 s\n"
     ]
    },
    {
     "data": {
      "application/vnd.jupyter.widget-view+json": {
       "model_id": "",
       "version_major": 2,
       "version_minor": 0
      },
      "text/plain": [
       "HBox(children=(FloatProgress(value=0.0, description='Training', layout=Layout(flex='2'), max=8750.0, style=Pro…"
      ]
     },
     "metadata": {},
     "output_type": "display_data"
    },
    {
     "name": "stdout",
     "output_type": "stream",
     "text": [
      "Epoch 27: train=0.529975, val=0.371867, took 1022.8 s\n"
     ]
    },
    {
     "data": {
      "application/vnd.jupyter.widget-view+json": {
       "model_id": "",
       "version_major": 2,
       "version_minor": 0
      },
      "text/plain": [
       "HBox(children=(FloatProgress(value=0.0, description='Training', layout=Layout(flex='2'), max=8750.0, style=Pro…"
      ]
     },
     "metadata": {},
     "output_type": "display_data"
    },
    {
     "name": "stdout",
     "output_type": "stream",
     "text": [
      "Epoch 28: train=0.52936, val=0.347922, took 1018.0 s\n"
     ]
    },
    {
     "data": {
      "application/vnd.jupyter.widget-view+json": {
       "model_id": "",
       "version_major": 2,
       "version_minor": 0
      },
      "text/plain": [
       "HBox(children=(FloatProgress(value=0.0, description='Training', layout=Layout(flex='2'), max=8750.0, style=Pro…"
      ]
     },
     "metadata": {},
     "output_type": "display_data"
    },
    {
     "name": "stdout",
     "output_type": "stream",
     "text": [
      "Epoch 29: train=0.529071, val=0.334843, took 1024.1 s\n"
     ]
    },
    {
     "data": {
      "application/vnd.jupyter.widget-view+json": {
       "model_id": "",
       "version_major": 2,
       "version_minor": 0
      },
      "text/plain": [
       "HBox(children=(FloatProgress(value=0.0, description='Training', layout=Layout(flex='2'), max=8750.0, style=Pro…"
      ]
     },
     "metadata": {},
     "output_type": "display_data"
    },
    {
     "name": "stdout",
     "output_type": "stream",
     "text": [
      "Epoch 30: train=0.53012, val=0.337639, took 1021.8 s\n"
     ]
    },
    {
     "data": {
      "application/vnd.jupyter.widget-view+json": {
       "model_id": "",
       "version_major": 2,
       "version_minor": 0
      },
      "text/plain": [
       "HBox(children=(FloatProgress(value=0.0, description='Training', layout=Layout(flex='2'), max=8750.0, style=Pro…"
      ]
     },
     "metadata": {},
     "output_type": "display_data"
    },
    {
     "name": "stdout",
     "output_type": "stream",
     "text": [
      "Epoch 31: train=0.528632, val=0.360452, took 1023.5 s\n"
     ]
    },
    {
     "data": {
      "application/vnd.jupyter.widget-view+json": {
       "model_id": "",
       "version_major": 2,
       "version_minor": 0
      },
      "text/plain": [
       "HBox(children=(FloatProgress(value=0.0, description='Training', layout=Layout(flex='2'), max=8750.0, style=Pro…"
      ]
     },
     "metadata": {},
     "output_type": "display_data"
    },
    {
     "name": "stdout",
     "output_type": "stream",
     "text": [
      "Epoch 32: train=0.528531, val=0.334983, took 1022.5 s\n"
     ]
    },
    {
     "data": {
      "application/vnd.jupyter.widget-view+json": {
       "model_id": "",
       "version_major": 2,
       "version_minor": 0
      },
      "text/plain": [
       "HBox(children=(FloatProgress(value=0.0, description='Training', layout=Layout(flex='2'), max=8750.0, style=Pro…"
      ]
     },
     "metadata": {},
     "output_type": "display_data"
    },
    {
     "name": "stdout",
     "output_type": "stream",
     "text": [
      "Epoch 33: train=0.530434, val=0.337791, took 1020.9 s\n"
     ]
    },
    {
     "data": {
      "application/vnd.jupyter.widget-view+json": {
       "model_id": "",
       "version_major": 2,
       "version_minor": 0
      },
      "text/plain": [
       "HBox(children=(FloatProgress(value=0.0, description='Training', layout=Layout(flex='2'), max=8750.0, style=Pro…"
      ]
     },
     "metadata": {},
     "output_type": "display_data"
    },
    {
     "name": "stdout",
     "output_type": "stream",
     "text": [
      "Epoch 34: train=0.528026, val=0.333743, took 1022.7 s\n"
     ]
    },
    {
     "data": {
      "application/vnd.jupyter.widget-view+json": {
       "model_id": "",
       "version_major": 2,
       "version_minor": 0
      },
      "text/plain": [
       "HBox(children=(FloatProgress(value=0.0, description='Training', layout=Layout(flex='2'), max=8750.0, style=Pro…"
      ]
     },
     "metadata": {},
     "output_type": "display_data"
    },
    {
     "name": "stdout",
     "output_type": "stream",
     "text": [
      "Epoch 35: train=0.528665, val=0.338875, took 1022.0 s\n"
     ]
    },
    {
     "data": {
      "application/vnd.jupyter.widget-view+json": {
       "model_id": "",
       "version_major": 2,
       "version_minor": 0
      },
      "text/plain": [
       "HBox(children=(FloatProgress(value=0.0, description='Training', layout=Layout(flex='2'), max=8750.0, style=Pro…"
      ]
     },
     "metadata": {},
     "output_type": "display_data"
    },
    {
     "name": "stdout",
     "output_type": "stream",
     "text": [
      "Epoch 36: train=0.527955, val=0.337557, took 1021.0 s\n"
     ]
    },
    {
     "data": {
      "application/vnd.jupyter.widget-view+json": {
       "model_id": "",
       "version_major": 2,
       "version_minor": 0
      },
      "text/plain": [
       "HBox(children=(FloatProgress(value=0.0, description='Training', layout=Layout(flex='2'), max=8750.0, style=Pro…"
      ]
     },
     "metadata": {},
     "output_type": "display_data"
    },
    {
     "name": "stdout",
     "output_type": "stream",
     "text": [
      "Epoch 37: train=0.528662, val=0.337334, took 1022.0 s\n"
     ]
    },
    {
     "data": {
      "application/vnd.jupyter.widget-view+json": {
       "model_id": "",
       "version_major": 2,
       "version_minor": 0
      },
      "text/plain": [
       "HBox(children=(FloatProgress(value=0.0, description='Training', layout=Layout(flex='2'), max=8750.0, style=Pro…"
      ]
     },
     "metadata": {},
     "output_type": "display_data"
    },
    {
     "name": "stdout",
     "output_type": "stream",
     "text": [
      "Epoch 38: train=0.526915, val=0.357093, took 1012.6 s\n"
     ]
    },
    {
     "data": {
      "application/vnd.jupyter.widget-view+json": {
       "model_id": "",
       "version_major": 2,
       "version_minor": 0
      },
      "text/plain": [
       "HBox(children=(FloatProgress(value=0.0, description='Training', layout=Layout(flex='2'), max=8750.0, style=Pro…"
      ]
     },
     "metadata": {},
     "output_type": "display_data"
    },
    {
     "name": "stdout",
     "output_type": "stream",
     "text": [
      "Epoch 39: train=0.527726, val=0.337711, took 1013.7 s\n"
     ]
    },
    {
     "data": {
      "application/vnd.jupyter.widget-view+json": {
       "model_id": "",
       "version_major": 2,
       "version_minor": 0
      },
      "text/plain": [
       "HBox(children=(FloatProgress(value=0.0, description='Training', layout=Layout(flex='2'), max=8750.0, style=Pro…"
      ]
     },
     "metadata": {},
     "output_type": "display_data"
    },
    {
     "name": "stdout",
     "output_type": "stream",
     "text": [
      "Epoch 40: train=0.527851, val=0.34347, took 1012.3 s\n"
     ]
    },
    {
     "data": {
      "application/vnd.jupyter.widget-view+json": {
       "model_id": "",
       "version_major": 2,
       "version_minor": 0
      },
      "text/plain": [
       "HBox(children=(FloatProgress(value=0.0, description='Training', layout=Layout(flex='2'), max=8750.0, style=Pro…"
      ]
     },
     "metadata": {},
     "output_type": "display_data"
    },
    {
     "name": "stdout",
     "output_type": "stream",
     "text": [
      "Epoch 41: train=0.527854, val=0.364743, took 1008.0 s\n"
     ]
    },
    {
     "data": {
      "application/vnd.jupyter.widget-view+json": {
       "model_id": "",
       "version_major": 2,
       "version_minor": 0
      },
      "text/plain": [
       "HBox(children=(FloatProgress(value=0.0, description='Training', layout=Layout(flex='2'), max=8750.0, style=Pro…"
      ]
     },
     "metadata": {},
     "output_type": "display_data"
    },
    {
     "name": "stdout",
     "output_type": "stream",
     "text": [
      "Epoch 42: train=0.527766, val=0.404425, took 1008.1 s\n"
     ]
    },
    {
     "data": {
      "application/vnd.jupyter.widget-view+json": {
       "model_id": "",
       "version_major": 2,
       "version_minor": 0
      },
      "text/plain": [
       "HBox(children=(FloatProgress(value=0.0, description='Training', layout=Layout(flex='2'), max=8750.0, style=Pro…"
      ]
     },
     "metadata": {},
     "output_type": "display_data"
    },
    {
     "name": "stdout",
     "output_type": "stream",
     "text": [
      "Epoch 43: train=0.527213, val=0.346403, took 1007.7 s\n"
     ]
    },
    {
     "data": {
      "application/vnd.jupyter.widget-view+json": {
       "model_id": "",
       "version_major": 2,
       "version_minor": 0
      },
      "text/plain": [
       "HBox(children=(FloatProgress(value=0.0, description='Training', layout=Layout(flex='2'), max=8750.0, style=Pro…"
      ]
     },
     "metadata": {},
     "output_type": "display_data"
    },
    {
     "name": "stdout",
     "output_type": "stream",
     "text": [
      "Epoch 44: train=0.526751, val=0.347538, took 1007.6 s\n"
     ]
    },
    {
     "data": {
      "application/vnd.jupyter.widget-view+json": {
       "model_id": "",
       "version_major": 2,
       "version_minor": 0
      },
      "text/plain": [
       "HBox(children=(FloatProgress(value=0.0, description='Training', layout=Layout(flex='2'), max=8750.0, style=Pro…"
      ]
     },
     "metadata": {},
     "output_type": "display_data"
    },
    {
     "name": "stdout",
     "output_type": "stream",
     "text": [
      "Epoch 45: train=0.52742, val=0.333331, took 1008.6 s\n"
     ]
    },
    {
     "data": {
      "application/vnd.jupyter.widget-view+json": {
       "model_id": "",
       "version_major": 2,
       "version_minor": 0
      },
      "text/plain": [
       "HBox(children=(FloatProgress(value=0.0, description='Training', layout=Layout(flex='2'), max=8750.0, style=Pro…"
      ]
     },
     "metadata": {},
     "output_type": "display_data"
    },
    {
     "name": "stdout",
     "output_type": "stream",
     "text": [
      "Epoch 46: train=0.526857, val=0.335477, took 1008.2 s\n"
     ]
    },
    {
     "data": {
      "application/vnd.jupyter.widget-view+json": {
       "model_id": "",
       "version_major": 2,
       "version_minor": 0
      },
      "text/plain": [
       "HBox(children=(FloatProgress(value=0.0, description='Training', layout=Layout(flex='2'), max=8750.0, style=Pro…"
      ]
     },
     "metadata": {},
     "output_type": "display_data"
    },
    {
     "name": "stdout",
     "output_type": "stream",
     "text": [
      "Epoch 47: train=0.527549, val=0.334062, took 1007.1 s\n"
     ]
    },
    {
     "data": {
      "application/vnd.jupyter.widget-view+json": {
       "model_id": "",
       "version_major": 2,
       "version_minor": 0
      },
      "text/plain": [
       "HBox(children=(FloatProgress(value=0.0, description='Training', layout=Layout(flex='2'), max=8750.0, style=Pro…"
      ]
     },
     "metadata": {},
     "output_type": "display_data"
    },
    {
     "name": "stdout",
     "output_type": "stream",
     "text": [
      "Epoch 48: train=0.52626, val=0.411802, took 1007.9 s\n"
     ]
    },
    {
     "data": {
      "application/vnd.jupyter.widget-view+json": {
       "model_id": "",
       "version_major": 2,
       "version_minor": 0
      },
      "text/plain": [
       "HBox(children=(FloatProgress(value=0.0, description='Training', layout=Layout(flex='2'), max=8750.0, style=Pro…"
      ]
     },
     "metadata": {},
     "output_type": "display_data"
    },
    {
     "name": "stdout",
     "output_type": "stream",
     "text": [
      "Epoch 49: train=0.528609, val=0.343352, took 1007.6 s\n",
      "\n"
     ]
    }
   ],
   "source": [
    "for result in trainNet(model, optimizer, loss,\n",
    "                        train_loader, val_loader,\n",
    "                        n_epochs, epoch_start=len(results),\n",
    "                        notebook=True):\n",
    "    \n",
    "    results = results.append(pd.Series(result._asdict()), ignore_index=True)\n",
    "    xs = results.index\n",
    "    \n",
    "    # Update the plot above\n",
    "    lines['train'].set_data(results.index,results.cost)\n",
    "    lines['val'].set_data(results.index,results.val)\n",
    "    \n",
    "    #filter first cost epoch (can be really large)\n",
    "    max_cost = max(max(results.cost if len(results.cost)<2 else results.cost[1:]), max(results.val))\n",
    "    min_cost = min(min(results.cost), min(results.val))\n",
    "    \n",
    "    # The plot limits need updating too\n",
    "    \n",
    "    \n",
    "    \n",
    "    ax.set_ylim(min_cost*.9, max_cost*1.1)  \n",
    "    ax.set_xlim(-.5, len(results.cost) - .5)\n",
    "\n",
    "    \n",
    "    # Redraw the figure\n",
    "    fig.canvas.draw()\n",
    "\n",
    "    # Save each model state dictionary\n",
    "    torch.save(model.state_dict(), output / f'{name}_{result.epoch}.pyt')"
   ]
  },
  {
   "cell_type": "markdown",
   "metadata": {},
   "source": [
    "Go ahead and save the final model (even though it was also saved above):"
   ]
  },
  {
   "cell_type": "code",
   "execution_count": 19,
   "metadata": {},
   "outputs": [],
   "source": [
    "torch.save(model.state_dict(), output / f'{name}_final.pyt')"
   ]
  },
  {
   "cell_type": "markdown",
   "metadata": {},
   "source": [
    "Save the output results:"
   ]
  },
  {
   "cell_type": "code",
   "execution_count": 20,
   "metadata": {},
   "outputs": [],
   "source": [
    "results.to_hdf(output / f'{name}_stats.hdf5', 'results')"
   ]
  },
  {
   "cell_type": "markdown",
   "metadata": {},
   "source": [
    "Save the plot above:"
   ]
  },
  {
   "cell_type": "code",
   "execution_count": 21,
   "metadata": {},
   "outputs": [
    {
     "data": {
      "application/javascript": [
       "/* Put everything inside the global mpl namespace */\n",
       "window.mpl = {};\n",
       "\n",
       "\n",
       "mpl.get_websocket_type = function() {\n",
       "    if (typeof(WebSocket) !== 'undefined') {\n",
       "        return WebSocket;\n",
       "    } else if (typeof(MozWebSocket) !== 'undefined') {\n",
       "        return MozWebSocket;\n",
       "    } else {\n",
       "        alert('Your browser does not have WebSocket support. ' +\n",
       "              'Please try Chrome, Safari or Firefox ≥ 6. ' +\n",
       "              'Firefox 4 and 5 are also supported but you ' +\n",
       "              'have to enable WebSockets in about:config.');\n",
       "    };\n",
       "}\n",
       "\n",
       "mpl.figure = function(figure_id, websocket, ondownload, parent_element) {\n",
       "    this.id = figure_id;\n",
       "\n",
       "    this.ws = websocket;\n",
       "\n",
       "    this.supports_binary = (this.ws.binaryType != undefined);\n",
       "\n",
       "    if (!this.supports_binary) {\n",
       "        var warnings = document.getElementById(\"mpl-warnings\");\n",
       "        if (warnings) {\n",
       "            warnings.style.display = 'block';\n",
       "            warnings.textContent = (\n",
       "                \"This browser does not support binary websocket messages. \" +\n",
       "                    \"Performance may be slow.\");\n",
       "        }\n",
       "    }\n",
       "\n",
       "    this.imageObj = new Image();\n",
       "\n",
       "    this.context = undefined;\n",
       "    this.message = undefined;\n",
       "    this.canvas = undefined;\n",
       "    this.rubberband_canvas = undefined;\n",
       "    this.rubberband_context = undefined;\n",
       "    this.format_dropdown = undefined;\n",
       "\n",
       "    this.image_mode = 'full';\n",
       "\n",
       "    this.root = $('<div/>');\n",
       "    this._root_extra_style(this.root)\n",
       "    this.root.attr('style', 'display: inline-block');\n",
       "\n",
       "    $(parent_element).append(this.root);\n",
       "\n",
       "    this._init_header(this);\n",
       "    this._init_canvas(this);\n",
       "    this._init_toolbar(this);\n",
       "\n",
       "    var fig = this;\n",
       "\n",
       "    this.waiting = false;\n",
       "\n",
       "    this.ws.onopen =  function () {\n",
       "            fig.send_message(\"supports_binary\", {value: fig.supports_binary});\n",
       "            fig.send_message(\"send_image_mode\", {});\n",
       "            if (mpl.ratio != 1) {\n",
       "                fig.send_message(\"set_dpi_ratio\", {'dpi_ratio': mpl.ratio});\n",
       "            }\n",
       "            fig.send_message(\"refresh\", {});\n",
       "        }\n",
       "\n",
       "    this.imageObj.onload = function() {\n",
       "            if (fig.image_mode == 'full') {\n",
       "                // Full images could contain transparency (where diff images\n",
       "                // almost always do), so we need to clear the canvas so that\n",
       "                // there is no ghosting.\n",
       "                fig.context.clearRect(0, 0, fig.canvas.width, fig.canvas.height);\n",
       "            }\n",
       "            fig.context.drawImage(fig.imageObj, 0, 0);\n",
       "        };\n",
       "\n",
       "    this.imageObj.onunload = function() {\n",
       "        fig.ws.close();\n",
       "    }\n",
       "\n",
       "    this.ws.onmessage = this._make_on_message_function(this);\n",
       "\n",
       "    this.ondownload = ondownload;\n",
       "}\n",
       "\n",
       "mpl.figure.prototype._init_header = function() {\n",
       "    var titlebar = $(\n",
       "        '<div class=\"ui-dialog-titlebar ui-widget-header ui-corner-all ' +\n",
       "        'ui-helper-clearfix\"/>');\n",
       "    var titletext = $(\n",
       "        '<div class=\"ui-dialog-title\" style=\"width: 100%; ' +\n",
       "        'text-align: center; padding: 3px;\"/>');\n",
       "    titlebar.append(titletext)\n",
       "    this.root.append(titlebar);\n",
       "    this.header = titletext[0];\n",
       "}\n",
       "\n",
       "\n",
       "\n",
       "mpl.figure.prototype._canvas_extra_style = function(canvas_div) {\n",
       "\n",
       "}\n",
       "\n",
       "\n",
       "mpl.figure.prototype._root_extra_style = function(canvas_div) {\n",
       "\n",
       "}\n",
       "\n",
       "mpl.figure.prototype._init_canvas = function() {\n",
       "    var fig = this;\n",
       "\n",
       "    var canvas_div = $('<div/>');\n",
       "\n",
       "    canvas_div.attr('style', 'position: relative; clear: both; outline: 0');\n",
       "\n",
       "    function canvas_keyboard_event(event) {\n",
       "        return fig.key_event(event, event['data']);\n",
       "    }\n",
       "\n",
       "    canvas_div.keydown('key_press', canvas_keyboard_event);\n",
       "    canvas_div.keyup('key_release', canvas_keyboard_event);\n",
       "    this.canvas_div = canvas_div\n",
       "    this._canvas_extra_style(canvas_div)\n",
       "    this.root.append(canvas_div);\n",
       "\n",
       "    var canvas = $('<canvas/>');\n",
       "    canvas.addClass('mpl-canvas');\n",
       "    canvas.attr('style', \"left: 0; top: 0; z-index: 0; outline: 0\")\n",
       "\n",
       "    this.canvas = canvas[0];\n",
       "    this.context = canvas[0].getContext(\"2d\");\n",
       "\n",
       "    var backingStore = this.context.backingStorePixelRatio ||\n",
       "\tthis.context.webkitBackingStorePixelRatio ||\n",
       "\tthis.context.mozBackingStorePixelRatio ||\n",
       "\tthis.context.msBackingStorePixelRatio ||\n",
       "\tthis.context.oBackingStorePixelRatio ||\n",
       "\tthis.context.backingStorePixelRatio || 1;\n",
       "\n",
       "    mpl.ratio = (window.devicePixelRatio || 1) / backingStore;\n",
       "\n",
       "    var rubberband = $('<canvas/>');\n",
       "    rubberband.attr('style', \"position: absolute; left: 0; top: 0; z-index: 1;\")\n",
       "\n",
       "    var pass_mouse_events = true;\n",
       "\n",
       "    canvas_div.resizable({\n",
       "        start: function(event, ui) {\n",
       "            pass_mouse_events = false;\n",
       "        },\n",
       "        resize: function(event, ui) {\n",
       "            fig.request_resize(ui.size.width, ui.size.height);\n",
       "        },\n",
       "        stop: function(event, ui) {\n",
       "            pass_mouse_events = true;\n",
       "            fig.request_resize(ui.size.width, ui.size.height);\n",
       "        },\n",
       "    });\n",
       "\n",
       "    function mouse_event_fn(event) {\n",
       "        if (pass_mouse_events)\n",
       "            return fig.mouse_event(event, event['data']);\n",
       "    }\n",
       "\n",
       "    rubberband.mousedown('button_press', mouse_event_fn);\n",
       "    rubberband.mouseup('button_release', mouse_event_fn);\n",
       "    // Throttle sequential mouse events to 1 every 20ms.\n",
       "    rubberband.mousemove('motion_notify', mouse_event_fn);\n",
       "\n",
       "    rubberband.mouseenter('figure_enter', mouse_event_fn);\n",
       "    rubberband.mouseleave('figure_leave', mouse_event_fn);\n",
       "\n",
       "    canvas_div.on(\"wheel\", function (event) {\n",
       "        event = event.originalEvent;\n",
       "        event['data'] = 'scroll'\n",
       "        if (event.deltaY < 0) {\n",
       "            event.step = 1;\n",
       "        } else {\n",
       "            event.step = -1;\n",
       "        }\n",
       "        mouse_event_fn(event);\n",
       "    });\n",
       "\n",
       "    canvas_div.append(canvas);\n",
       "    canvas_div.append(rubberband);\n",
       "\n",
       "    this.rubberband = rubberband;\n",
       "    this.rubberband_canvas = rubberband[0];\n",
       "    this.rubberband_context = rubberband[0].getContext(\"2d\");\n",
       "    this.rubberband_context.strokeStyle = \"#000000\";\n",
       "\n",
       "    this._resize_canvas = function(width, height) {\n",
       "        // Keep the size of the canvas, canvas container, and rubber band\n",
       "        // canvas in synch.\n",
       "        canvas_div.css('width', width)\n",
       "        canvas_div.css('height', height)\n",
       "\n",
       "        canvas.attr('width', width * mpl.ratio);\n",
       "        canvas.attr('height', height * mpl.ratio);\n",
       "        canvas.attr('style', 'width: ' + width + 'px; height: ' + height + 'px;');\n",
       "\n",
       "        rubberband.attr('width', width);\n",
       "        rubberband.attr('height', height);\n",
       "    }\n",
       "\n",
       "    // Set the figure to an initial 600x600px, this will subsequently be updated\n",
       "    // upon first draw.\n",
       "    this._resize_canvas(600, 600);\n",
       "\n",
       "    // Disable right mouse context menu.\n",
       "    $(this.rubberband_canvas).bind(\"contextmenu\",function(e){\n",
       "        return false;\n",
       "    });\n",
       "\n",
       "    function set_focus () {\n",
       "        canvas.focus();\n",
       "        canvas_div.focus();\n",
       "    }\n",
       "\n",
       "    window.setTimeout(set_focus, 100);\n",
       "}\n",
       "\n",
       "mpl.figure.prototype._init_toolbar = function() {\n",
       "    var fig = this;\n",
       "\n",
       "    var nav_element = $('<div/>');\n",
       "    nav_element.attr('style', 'width: 100%');\n",
       "    this.root.append(nav_element);\n",
       "\n",
       "    // Define a callback function for later on.\n",
       "    function toolbar_event(event) {\n",
       "        return fig.toolbar_button_onclick(event['data']);\n",
       "    }\n",
       "    function toolbar_mouse_event(event) {\n",
       "        return fig.toolbar_button_onmouseover(event['data']);\n",
       "    }\n",
       "\n",
       "    for(var toolbar_ind in mpl.toolbar_items) {\n",
       "        var name = mpl.toolbar_items[toolbar_ind][0];\n",
       "        var tooltip = mpl.toolbar_items[toolbar_ind][1];\n",
       "        var image = mpl.toolbar_items[toolbar_ind][2];\n",
       "        var method_name = mpl.toolbar_items[toolbar_ind][3];\n",
       "\n",
       "        if (!name) {\n",
       "            // put a spacer in here.\n",
       "            continue;\n",
       "        }\n",
       "        var button = $('<button/>');\n",
       "        button.addClass('ui-button ui-widget ui-state-default ui-corner-all ' +\n",
       "                        'ui-button-icon-only');\n",
       "        button.attr('role', 'button');\n",
       "        button.attr('aria-disabled', 'false');\n",
       "        button.click(method_name, toolbar_event);\n",
       "        button.mouseover(tooltip, toolbar_mouse_event);\n",
       "\n",
       "        var icon_img = $('<span/>');\n",
       "        icon_img.addClass('ui-button-icon-primary ui-icon');\n",
       "        icon_img.addClass(image);\n",
       "        icon_img.addClass('ui-corner-all');\n",
       "\n",
       "        var tooltip_span = $('<span/>');\n",
       "        tooltip_span.addClass('ui-button-text');\n",
       "        tooltip_span.html(tooltip);\n",
       "\n",
       "        button.append(icon_img);\n",
       "        button.append(tooltip_span);\n",
       "\n",
       "        nav_element.append(button);\n",
       "    }\n",
       "\n",
       "    var fmt_picker_span = $('<span/>');\n",
       "\n",
       "    var fmt_picker = $('<select/>');\n",
       "    fmt_picker.addClass('mpl-toolbar-option ui-widget ui-widget-content');\n",
       "    fmt_picker_span.append(fmt_picker);\n",
       "    nav_element.append(fmt_picker_span);\n",
       "    this.format_dropdown = fmt_picker[0];\n",
       "\n",
       "    for (var ind in mpl.extensions) {\n",
       "        var fmt = mpl.extensions[ind];\n",
       "        var option = $(\n",
       "            '<option/>', {selected: fmt === mpl.default_extension}).html(fmt);\n",
       "        fmt_picker.append(option);\n",
       "    }\n",
       "\n",
       "    // Add hover states to the ui-buttons\n",
       "    $( \".ui-button\" ).hover(\n",
       "        function() { $(this).addClass(\"ui-state-hover\");},\n",
       "        function() { $(this).removeClass(\"ui-state-hover\");}\n",
       "    );\n",
       "\n",
       "    var status_bar = $('<span class=\"mpl-message\"/>');\n",
       "    nav_element.append(status_bar);\n",
       "    this.message = status_bar[0];\n",
       "}\n",
       "\n",
       "mpl.figure.prototype.request_resize = function(x_pixels, y_pixels) {\n",
       "    // Request matplotlib to resize the figure. Matplotlib will then trigger a resize in the client,\n",
       "    // which will in turn request a refresh of the image.\n",
       "    this.send_message('resize', {'width': x_pixels, 'height': y_pixels});\n",
       "}\n",
       "\n",
       "mpl.figure.prototype.send_message = function(type, properties) {\n",
       "    properties['type'] = type;\n",
       "    properties['figure_id'] = this.id;\n",
       "    this.ws.send(JSON.stringify(properties));\n",
       "}\n",
       "\n",
       "mpl.figure.prototype.send_draw_message = function() {\n",
       "    if (!this.waiting) {\n",
       "        this.waiting = true;\n",
       "        this.ws.send(JSON.stringify({type: \"draw\", figure_id: this.id}));\n",
       "    }\n",
       "}\n",
       "\n",
       "\n",
       "mpl.figure.prototype.handle_save = function(fig, msg) {\n",
       "    var format_dropdown = fig.format_dropdown;\n",
       "    var format = format_dropdown.options[format_dropdown.selectedIndex].value;\n",
       "    fig.ondownload(fig, format);\n",
       "}\n",
       "\n",
       "\n",
       "mpl.figure.prototype.handle_resize = function(fig, msg) {\n",
       "    var size = msg['size'];\n",
       "    if (size[0] != fig.canvas.width || size[1] != fig.canvas.height) {\n",
       "        fig._resize_canvas(size[0], size[1]);\n",
       "        fig.send_message(\"refresh\", {});\n",
       "    };\n",
       "}\n",
       "\n",
       "mpl.figure.prototype.handle_rubberband = function(fig, msg) {\n",
       "    var x0 = msg['x0'] / mpl.ratio;\n",
       "    var y0 = (fig.canvas.height - msg['y0']) / mpl.ratio;\n",
       "    var x1 = msg['x1'] / mpl.ratio;\n",
       "    var y1 = (fig.canvas.height - msg['y1']) / mpl.ratio;\n",
       "    x0 = Math.floor(x0) + 0.5;\n",
       "    y0 = Math.floor(y0) + 0.5;\n",
       "    x1 = Math.floor(x1) + 0.5;\n",
       "    y1 = Math.floor(y1) + 0.5;\n",
       "    var min_x = Math.min(x0, x1);\n",
       "    var min_y = Math.min(y0, y1);\n",
       "    var width = Math.abs(x1 - x0);\n",
       "    var height = Math.abs(y1 - y0);\n",
       "\n",
       "    fig.rubberband_context.clearRect(\n",
       "        0, 0, fig.canvas.width / mpl.ratio, fig.canvas.height / mpl.ratio);\n",
       "\n",
       "    fig.rubberband_context.strokeRect(min_x, min_y, width, height);\n",
       "}\n",
       "\n",
       "mpl.figure.prototype.handle_figure_label = function(fig, msg) {\n",
       "    // Updates the figure title.\n",
       "    fig.header.textContent = msg['label'];\n",
       "}\n",
       "\n",
       "mpl.figure.prototype.handle_cursor = function(fig, msg) {\n",
       "    var cursor = msg['cursor'];\n",
       "    switch(cursor)\n",
       "    {\n",
       "    case 0:\n",
       "        cursor = 'pointer';\n",
       "        break;\n",
       "    case 1:\n",
       "        cursor = 'default';\n",
       "        break;\n",
       "    case 2:\n",
       "        cursor = 'crosshair';\n",
       "        break;\n",
       "    case 3:\n",
       "        cursor = 'move';\n",
       "        break;\n",
       "    }\n",
       "    fig.rubberband_canvas.style.cursor = cursor;\n",
       "}\n",
       "\n",
       "mpl.figure.prototype.handle_message = function(fig, msg) {\n",
       "    fig.message.textContent = msg['message'];\n",
       "}\n",
       "\n",
       "mpl.figure.prototype.handle_draw = function(fig, msg) {\n",
       "    // Request the server to send over a new figure.\n",
       "    fig.send_draw_message();\n",
       "}\n",
       "\n",
       "mpl.figure.prototype.handle_image_mode = function(fig, msg) {\n",
       "    fig.image_mode = msg['mode'];\n",
       "}\n",
       "\n",
       "mpl.figure.prototype.updated_canvas_event = function() {\n",
       "    // Called whenever the canvas gets updated.\n",
       "    this.send_message(\"ack\", {});\n",
       "}\n",
       "\n",
       "// A function to construct a web socket function for onmessage handling.\n",
       "// Called in the figure constructor.\n",
       "mpl.figure.prototype._make_on_message_function = function(fig) {\n",
       "    return function socket_on_message(evt) {\n",
       "        if (evt.data instanceof Blob) {\n",
       "            /* FIXME: We get \"Resource interpreted as Image but\n",
       "             * transferred with MIME type text/plain:\" errors on\n",
       "             * Chrome.  But how to set the MIME type?  It doesn't seem\n",
       "             * to be part of the websocket stream */\n",
       "            evt.data.type = \"image/png\";\n",
       "\n",
       "            /* Free the memory for the previous frames */\n",
       "            if (fig.imageObj.src) {\n",
       "                (window.URL || window.webkitURL).revokeObjectURL(\n",
       "                    fig.imageObj.src);\n",
       "            }\n",
       "\n",
       "            fig.imageObj.src = (window.URL || window.webkitURL).createObjectURL(\n",
       "                evt.data);\n",
       "            fig.updated_canvas_event();\n",
       "            fig.waiting = false;\n",
       "            return;\n",
       "        }\n",
       "        else if (typeof evt.data === 'string' && evt.data.slice(0, 21) == \"data:image/png;base64\") {\n",
       "            fig.imageObj.src = evt.data;\n",
       "            fig.updated_canvas_event();\n",
       "            fig.waiting = false;\n",
       "            return;\n",
       "        }\n",
       "\n",
       "        var msg = JSON.parse(evt.data);\n",
       "        var msg_type = msg['type'];\n",
       "\n",
       "        // Call the  \"handle_{type}\" callback, which takes\n",
       "        // the figure and JSON message as its only arguments.\n",
       "        try {\n",
       "            var callback = fig[\"handle_\" + msg_type];\n",
       "        } catch (e) {\n",
       "            console.log(\"No handler for the '\" + msg_type + \"' message type: \", msg);\n",
       "            return;\n",
       "        }\n",
       "\n",
       "        if (callback) {\n",
       "            try {\n",
       "                // console.log(\"Handling '\" + msg_type + \"' message: \", msg);\n",
       "                callback(fig, msg);\n",
       "            } catch (e) {\n",
       "                console.log(\"Exception inside the 'handler_\" + msg_type + \"' callback:\", e, e.stack, msg);\n",
       "            }\n",
       "        }\n",
       "    };\n",
       "}\n",
       "\n",
       "// from http://stackoverflow.com/questions/1114465/getting-mouse-location-in-canvas\n",
       "mpl.findpos = function(e) {\n",
       "    //this section is from http://www.quirksmode.org/js/events_properties.html\n",
       "    var targ;\n",
       "    if (!e)\n",
       "        e = window.event;\n",
       "    if (e.target)\n",
       "        targ = e.target;\n",
       "    else if (e.srcElement)\n",
       "        targ = e.srcElement;\n",
       "    if (targ.nodeType == 3) // defeat Safari bug\n",
       "        targ = targ.parentNode;\n",
       "\n",
       "    // jQuery normalizes the pageX and pageY\n",
       "    // pageX,Y are the mouse positions relative to the document\n",
       "    // offset() returns the position of the element relative to the document\n",
       "    var x = e.pageX - $(targ).offset().left;\n",
       "    var y = e.pageY - $(targ).offset().top;\n",
       "\n",
       "    return {\"x\": x, \"y\": y};\n",
       "};\n",
       "\n",
       "/*\n",
       " * return a copy of an object with only non-object keys\n",
       " * we need this to avoid circular references\n",
       " * http://stackoverflow.com/a/24161582/3208463\n",
       " */\n",
       "function simpleKeys (original) {\n",
       "  return Object.keys(original).reduce(function (obj, key) {\n",
       "    if (typeof original[key] !== 'object')\n",
       "        obj[key] = original[key]\n",
       "    return obj;\n",
       "  }, {});\n",
       "}\n",
       "\n",
       "mpl.figure.prototype.mouse_event = function(event, name) {\n",
       "    var canvas_pos = mpl.findpos(event)\n",
       "\n",
       "    if (name === 'button_press')\n",
       "    {\n",
       "        this.canvas.focus();\n",
       "        this.canvas_div.focus();\n",
       "    }\n",
       "\n",
       "    var x = canvas_pos.x * mpl.ratio;\n",
       "    var y = canvas_pos.y * mpl.ratio;\n",
       "\n",
       "    this.send_message(name, {x: x, y: y, button: event.button,\n",
       "                             step: event.step,\n",
       "                             guiEvent: simpleKeys(event)});\n",
       "\n",
       "    /* This prevents the web browser from automatically changing to\n",
       "     * the text insertion cursor when the button is pressed.  We want\n",
       "     * to control all of the cursor setting manually through the\n",
       "     * 'cursor' event from matplotlib */\n",
       "    event.preventDefault();\n",
       "    return false;\n",
       "}\n",
       "\n",
       "mpl.figure.prototype._key_event_extra = function(event, name) {\n",
       "    // Handle any extra behaviour associated with a key event\n",
       "}\n",
       "\n",
       "mpl.figure.prototype.key_event = function(event, name) {\n",
       "\n",
       "    // Prevent repeat events\n",
       "    if (name == 'key_press')\n",
       "    {\n",
       "        if (event.which === this._key)\n",
       "            return;\n",
       "        else\n",
       "            this._key = event.which;\n",
       "    }\n",
       "    if (name == 'key_release')\n",
       "        this._key = null;\n",
       "\n",
       "    var value = '';\n",
       "    if (event.ctrlKey && event.which != 17)\n",
       "        value += \"ctrl+\";\n",
       "    if (event.altKey && event.which != 18)\n",
       "        value += \"alt+\";\n",
       "    if (event.shiftKey && event.which != 16)\n",
       "        value += \"shift+\";\n",
       "\n",
       "    value += 'k';\n",
       "    value += event.which.toString();\n",
       "\n",
       "    this._key_event_extra(event, name);\n",
       "\n",
       "    this.send_message(name, {key: value,\n",
       "                             guiEvent: simpleKeys(event)});\n",
       "    return false;\n",
       "}\n",
       "\n",
       "mpl.figure.prototype.toolbar_button_onclick = function(name) {\n",
       "    if (name == 'download') {\n",
       "        this.handle_save(this, null);\n",
       "    } else {\n",
       "        this.send_message(\"toolbar_button\", {name: name});\n",
       "    }\n",
       "};\n",
       "\n",
       "mpl.figure.prototype.toolbar_button_onmouseover = function(tooltip) {\n",
       "    this.message.textContent = tooltip;\n",
       "};\n",
       "mpl.toolbar_items = [[\"Home\", \"Reset original view\", \"fa fa-home icon-home\", \"home\"], [\"Back\", \"Back to previous view\", \"fa fa-arrow-left icon-arrow-left\", \"back\"], [\"Forward\", \"Forward to next view\", \"fa fa-arrow-right icon-arrow-right\", \"forward\"], [\"\", \"\", \"\", \"\"], [\"Pan\", \"Pan axes with left mouse, zoom with right\", \"fa fa-arrows icon-move\", \"pan\"], [\"Zoom\", \"Zoom to rectangle\", \"fa fa-square-o icon-check-empty\", \"zoom\"], [\"\", \"\", \"\", \"\"], [\"Download\", \"Download plot\", \"fa fa-floppy-o icon-save\", \"download\"]];\n",
       "\n",
       "mpl.extensions = [\"eps\", \"jpeg\", \"pdf\", \"png\", \"ps\", \"raw\", \"svg\", \"tif\"];\n",
       "\n",
       "mpl.default_extension = \"png\";var comm_websocket_adapter = function(comm) {\n",
       "    // Create a \"websocket\"-like object which calls the given IPython comm\n",
       "    // object with the appropriate methods. Currently this is a non binary\n",
       "    // socket, so there is still some room for performance tuning.\n",
       "    var ws = {};\n",
       "\n",
       "    ws.close = function() {\n",
       "        comm.close()\n",
       "    };\n",
       "    ws.send = function(m) {\n",
       "        //console.log('sending', m);\n",
       "        comm.send(m);\n",
       "    };\n",
       "    // Register the callback with on_msg.\n",
       "    comm.on_msg(function(msg) {\n",
       "        //console.log('receiving', msg['content']['data'], msg);\n",
       "        // Pass the mpl event to the overridden (by mpl) onmessage function.\n",
       "        ws.onmessage(msg['content']['data'])\n",
       "    });\n",
       "    return ws;\n",
       "}\n",
       "\n",
       "mpl.mpl_figure_comm = function(comm, msg) {\n",
       "    // This is the function which gets called when the mpl process\n",
       "    // starts-up an IPython Comm through the \"matplotlib\" channel.\n",
       "\n",
       "    var id = msg.content.data.id;\n",
       "    // Get hold of the div created by the display call when the Comm\n",
       "    // socket was opened in Python.\n",
       "    var element = $(\"#\" + id);\n",
       "    var ws_proxy = comm_websocket_adapter(comm)\n",
       "\n",
       "    function ondownload(figure, format) {\n",
       "        window.open(figure.imageObj.src);\n",
       "    }\n",
       "\n",
       "    var fig = new mpl.figure(id, ws_proxy,\n",
       "                           ondownload,\n",
       "                           element.get(0));\n",
       "\n",
       "    // Call onopen now - mpl needs it, as it is assuming we've passed it a real\n",
       "    // web socket which is closed, not our websocket->open comm proxy.\n",
       "    ws_proxy.onopen();\n",
       "\n",
       "    fig.parent_element = element.get(0);\n",
       "    fig.cell_info = mpl.find_output_cell(\"<div id='\" + id + \"'></div>\");\n",
       "    if (!fig.cell_info) {\n",
       "        console.error(\"Failed to find cell for figure\", id, fig);\n",
       "        return;\n",
       "    }\n",
       "\n",
       "    var output_index = fig.cell_info[2]\n",
       "    var cell = fig.cell_info[0];\n",
       "\n",
       "};\n",
       "\n",
       "mpl.figure.prototype.handle_close = function(fig, msg) {\n",
       "    var width = fig.canvas.width/mpl.ratio\n",
       "    fig.root.unbind('remove')\n",
       "\n",
       "    // Update the output cell to use the data from the current canvas.\n",
       "    fig.push_to_output();\n",
       "    var dataURL = fig.canvas.toDataURL();\n",
       "    // Re-enable the keyboard manager in IPython - without this line, in FF,\n",
       "    // the notebook keyboard shortcuts fail.\n",
       "    IPython.keyboard_manager.enable()\n",
       "    $(fig.parent_element).html('<img src=\"' + dataURL + '\" width=\"' + width + '\">');\n",
       "    fig.close_ws(fig, msg);\n",
       "}\n",
       "\n",
       "mpl.figure.prototype.close_ws = function(fig, msg){\n",
       "    fig.send_message('closing', msg);\n",
       "    // fig.ws.close()\n",
       "}\n",
       "\n",
       "mpl.figure.prototype.push_to_output = function(remove_interactive) {\n",
       "    // Turn the data on the canvas into data in the output cell.\n",
       "    var width = this.canvas.width/mpl.ratio\n",
       "    var dataURL = this.canvas.toDataURL();\n",
       "    this.cell_info[1]['text/html'] = '<img src=\"' + dataURL + '\" width=\"' + width + '\">';\n",
       "}\n",
       "\n",
       "mpl.figure.prototype.updated_canvas_event = function() {\n",
       "    // Tell IPython that the notebook contents must change.\n",
       "    IPython.notebook.set_dirty(true);\n",
       "    this.send_message(\"ack\", {});\n",
       "    var fig = this;\n",
       "    // Wait a second, then push the new image to the DOM so\n",
       "    // that it is saved nicely (might be nice to debounce this).\n",
       "    setTimeout(function () { fig.push_to_output() }, 1000);\n",
       "}\n",
       "\n",
       "mpl.figure.prototype._init_toolbar = function() {\n",
       "    var fig = this;\n",
       "\n",
       "    var nav_element = $('<div/>');\n",
       "    nav_element.attr('style', 'width: 100%');\n",
       "    this.root.append(nav_element);\n",
       "\n",
       "    // Define a callback function for later on.\n",
       "    function toolbar_event(event) {\n",
       "        return fig.toolbar_button_onclick(event['data']);\n",
       "    }\n",
       "    function toolbar_mouse_event(event) {\n",
       "        return fig.toolbar_button_onmouseover(event['data']);\n",
       "    }\n",
       "\n",
       "    for(var toolbar_ind in mpl.toolbar_items){\n",
       "        var name = mpl.toolbar_items[toolbar_ind][0];\n",
       "        var tooltip = mpl.toolbar_items[toolbar_ind][1];\n",
       "        var image = mpl.toolbar_items[toolbar_ind][2];\n",
       "        var method_name = mpl.toolbar_items[toolbar_ind][3];\n",
       "\n",
       "        if (!name) { continue; };\n",
       "\n",
       "        var button = $('<button class=\"btn btn-default\" href=\"#\" title=\"' + name + '\"><i class=\"fa ' + image + ' fa-lg\"></i></button>');\n",
       "        button.click(method_name, toolbar_event);\n",
       "        button.mouseover(tooltip, toolbar_mouse_event);\n",
       "        nav_element.append(button);\n",
       "    }\n",
       "\n",
       "    // Add the status bar.\n",
       "    var status_bar = $('<span class=\"mpl-message\" style=\"text-align:right; float: right;\"/>');\n",
       "    nav_element.append(status_bar);\n",
       "    this.message = status_bar[0];\n",
       "\n",
       "    // Add the close button to the window.\n",
       "    var buttongrp = $('<div class=\"btn-group inline pull-right\"></div>');\n",
       "    var button = $('<button class=\"btn btn-mini btn-primary\" href=\"#\" title=\"Stop Interaction\"><i class=\"fa fa-power-off icon-remove icon-large\"></i></button>');\n",
       "    button.click(function (evt) { fig.handle_close(fig, {}); } );\n",
       "    button.mouseover('Stop Interaction', toolbar_mouse_event);\n",
       "    buttongrp.append(button);\n",
       "    var titlebar = this.root.find($('.ui-dialog-titlebar'));\n",
       "    titlebar.prepend(buttongrp);\n",
       "}\n",
       "\n",
       "mpl.figure.prototype._root_extra_style = function(el){\n",
       "    var fig = this\n",
       "    el.on(\"remove\", function(){\n",
       "\tfig.close_ws(fig, {});\n",
       "    });\n",
       "}\n",
       "\n",
       "mpl.figure.prototype._canvas_extra_style = function(el){\n",
       "    // this is important to make the div 'focusable\n",
       "    el.attr('tabindex', 0)\n",
       "    // reach out to IPython and tell the keyboard manager to turn it's self\n",
       "    // off when our div gets focus\n",
       "\n",
       "    // location in version 3\n",
       "    if (IPython.notebook.keyboard_manager) {\n",
       "        IPython.notebook.keyboard_manager.register_events(el);\n",
       "    }\n",
       "    else {\n",
       "        // location in version 2\n",
       "        IPython.keyboard_manager.register_events(el);\n",
       "    }\n",
       "\n",
       "}\n",
       "\n",
       "mpl.figure.prototype._key_event_extra = function(event, name) {\n",
       "    var manager = IPython.notebook.keyboard_manager;\n",
       "    if (!manager)\n",
       "        manager = IPython.keyboard_manager;\n",
       "\n",
       "    // Check for shift+enter\n",
       "    if (event.shiftKey && event.which == 13) {\n",
       "        this.canvas_div.blur();\n",
       "        // select the cell after this one\n",
       "        var index = IPython.notebook.find_cell_index(this.cell_info[0]);\n",
       "        IPython.notebook.select(index + 1);\n",
       "    }\n",
       "}\n",
       "\n",
       "mpl.figure.prototype.handle_save = function(fig, msg) {\n",
       "    fig.ondownload(fig, null);\n",
       "}\n",
       "\n",
       "\n",
       "mpl.find_output_cell = function(html_output) {\n",
       "    // Return the cell and output element which can be found *uniquely* in the notebook.\n",
       "    // Note - this is a bit hacky, but it is done because the \"notebook_saving.Notebook\"\n",
       "    // IPython event is triggered only after the cells have been serialised, which for\n",
       "    // our purposes (turning an active figure into a static one), is too late.\n",
       "    var cells = IPython.notebook.get_cells();\n",
       "    var ncells = cells.length;\n",
       "    for (var i=0; i<ncells; i++) {\n",
       "        var cell = cells[i];\n",
       "        if (cell.cell_type === 'code'){\n",
       "            for (var j=0; j<cell.output_area.outputs.length; j++) {\n",
       "                var data = cell.output_area.outputs[j];\n",
       "                if (data.data) {\n",
       "                    // IPython >= 3 moved mimebundle to data attribute of output\n",
       "                    data = data.data;\n",
       "                }\n",
       "                if (data['text/html'] == html_output) {\n",
       "                    return [cell, data, j];\n",
       "                }\n",
       "            }\n",
       "        }\n",
       "    }\n",
       "}\n",
       "\n",
       "// Register the function which deals with the matplotlib target/channel.\n",
       "// The kernel may be null if the page has been refreshed.\n",
       "if (IPython.notebook.kernel != null) {\n",
       "    IPython.notebook.kernel.comm_manager.register_target('matplotlib', mpl.mpl_figure_comm);\n",
       "}\n"
      ],
      "text/plain": [
       "<IPython.core.display.Javascript object>"
      ]
     },
     "metadata": {},
     "output_type": "display_data"
    },
    {
     "data": {
      "text/html": [
       "<img src=\"data:image/png;base64,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\" width=\"1000\">"
      ],
      "text/plain": [
       "<IPython.core.display.HTML object>"
      ]
     },
     "metadata": {},
     "output_type": "display_data"
    }
   ],
   "source": [
    "dual_train_plots_tracks_to_KDE(results.index,\n",
    "                               results.cost, results.val,\n",
    "                               results.cost, results.val)\n",
    "plt.tight_layout()\n",
    "plt.savefig(str(output / f'{name}_stats_a.png'))"
   ]
  },
  {
   "cell_type": "code",
   "execution_count": 22,
   "metadata": {},
   "outputs": [],
   "source": [
    "#quit()"
   ]
  },
  {
   "cell_type": "code",
   "execution_count": null,
   "metadata": {},
   "outputs": [],
   "source": []
  },
  {
   "cell_type": "code",
   "execution_count": null,
   "metadata": {},
   "outputs": [],
   "source": []
  },
  {
   "cell_type": "code",
   "execution_count": null,
   "metadata": {},
   "outputs": [],
   "source": []
  }
 ],
 "metadata": {
  "kernelspec": {
   "display_name": "goofit-june2020",
   "language": "python",
   "name": "goofit-june2020"
  },
  "language_info": {
   "codemirror_mode": {
    "name": "ipython",
    "version": 3
   },
   "file_extension": ".py",
   "mimetype": "text/x-python",
   "name": "python",
   "nbconvert_exporter": "python",
   "pygments_lexer": "ipython3",
   "version": "3.7.6"
  }
 },
 "nbformat": 4,
 "nbformat_minor": 2
}
