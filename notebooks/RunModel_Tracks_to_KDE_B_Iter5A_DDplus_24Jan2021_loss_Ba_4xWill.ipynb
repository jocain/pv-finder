{
 "cells": [
  {
   "cell_type": "code",
   "execution_count": 1,
   "metadata": {},
   "outputs": [],
   "source": [
    "##%matplotlib widget\n",
    "## with %matplotlib notebook: seems to require ipympl as part of environment, either\n",
    "## part of the conda environment or \"pip install ipympl\"\n",
    "## otherwise, does not show ANY plots in note\"book, plt.savefig() works\n",
    "%matplotlib notebook  \n",
    "##%matplotlib inline    ## --plt.savefig()  works, but re-sizing does NOT\n"
   ]
  },
  {
   "cell_type": "markdown",
   "metadata": {},
   "source": [
    "This notebook is the second attempt to read in track information and use it to predict the KDE used as input to PvFinder. This time, we are reading in poca KDEs rather than the original KDEs. \n",
    "\n",
    "collectdata_kde_C.py uses poca_z, poca_x, poca_y, major_axis_x, major_axis_y, and major_axis_z as the six track parameters (for the moment)\n"
   ]
  },
  {
   "cell_type": "markdown",
   "metadata": {},
   "source": [
    "Check the current GPU usage. Please try to be nice!"
   ]
  },
  {
   "cell_type": "code",
   "execution_count": 2,
   "metadata": {},
   "outputs": [
    {
     "name": "stdout",
     "output_type": "stream",
     "text": [
      "Sun Jan 24 09:43:09 2021       \r\n",
      "+-----------------------------------------------------------------------------+\r\n",
      "| NVIDIA-SMI 450.36.06    Driver Version: 450.36.06    CUDA Version: 11.0     |\r\n",
      "|-------------------------------+----------------------+----------------------+\r\n",
      "| GPU  Name        Persistence-M| Bus-Id        Disp.A | Volatile Uncorr. ECC |\r\n",
      "| Fan  Temp  Perf  Pwr:Usage/Cap|         Memory-Usage | GPU-Util  Compute M. |\r\n",
      "|                               |                      |               MIG M. |\r\n",
      "|===============================+======================+======================|\r\n",
      "|   0  GeForce RTX 208...  On   | 00000000:18:00.0 Off |                  N/A |\r\n",
      "| 29%   35C    P8    39W / 250W |   8135MiB / 11019MiB |      0%      Default |\r\n",
      "|                               |                      |                  N/A |\r\n",
      "+-------------------------------+----------------------+----------------------+\r\n",
      "|   1  GeForce RTX 208...  On   | 00000000:3B:00.0 Off |                  N/A |\r\n",
      "| 29%   36C    P8    39W / 250W |     61MiB / 11019MiB |      0%      Default |\r\n",
      "|                               |                      |                  N/A |\r\n",
      "+-------------------------------+----------------------+----------------------+\r\n",
      "                                                                               \r\n",
      "+-----------------------------------------------------------------------------+\r\n",
      "| Processes:                                                                  |\r\n",
      "|  GPU   GI   CI        PID   Type   Process name                  GPU Memory |\r\n",
      "|        ID   ID                                                   Usage      |\r\n",
      "|=============================================================================|\r\n",
      "|    0   N/A  N/A    264567      C   ...s/june2020-gpu/bin/python     8131MiB |\r\n",
      "|    1   N/A  N/A      3736      G   /usr/bin/X                         33MiB |\r\n",
      "|    1   N/A  N/A      3790      G   /usr/bin/gnome-shell               25MiB |\r\n",
      "+-----------------------------------------------------------------------------+\r\n"
     ]
    }
   ],
   "source": [
    "!nvidia-smi"
   ]
  },
  {
   "cell_type": "markdown",
   "metadata": {},
   "source": [
    "> **WARNING**: The card numbers here are *not* the same as in CUDA. You have been warned."
   ]
  },
  {
   "cell_type": "markdown",
   "metadata": {},
   "source": [
    "This notebook is first attempt to read in track information and use it to predict the KDE used as input to PvFinder.\n"
   ]
  },
  {
   "cell_type": "markdown",
   "metadata": {},
   "source": [
    "## Imports"
   ]
  },
  {
   "cell_type": "code",
   "execution_count": 3,
   "metadata": {},
   "outputs": [],
   "source": [
    "import matplotlib.pyplot as plt\n",
    "import numpy as np\n",
    "import time\n",
    "import torch\n",
    "import pandas as pd\n",
    "\n",
    "# Python 3 standard library\n",
    "from pathlib import Path\n",
    "\n",
    "##from torchsummary import summary"
   ]
  },
  {
   "cell_type": "markdown",
   "metadata": {},
   "source": [
    "### Set up local parameters"
   ]
  },
  {
   "cell_type": "code",
   "execution_count": 4,
   "metadata": {},
   "outputs": [],
   "source": [
    "n_epochs = 75\n",
    "\n",
    "# Name is the output file name\n",
    "\n",
    "\n",
    "\n",
    "\n",
    "\n",
    "folder = '24Jan_DDplus_KDE_B_loss_Ba_ite5A_floatAll_75epochs_3em5_4xwill'\n",
    "name   = folder\n",
    "\n",
    "# Make an output folder named \"name\" (change if you want)\n",
    "\n",
    "## Special instructions for those working on goofy at UC\n",
    "## Please be very careful to make sure that your folder\n",
    "## does not live in a subdirectory of your home directory\n",
    "## this disk has very little capacity. Instead, use \n",
    "## a subdirectory in /share/lazy with a symbolic link to\n",
    "## it in this (the notebooks) subdirectory\n",
    "folder = 'ML/' + folder\n",
    "output = Path(folder)\n",
    "\n",
    "\n",
    "# Size of batches\n",
    "batch_size = 48 ## batch_size = 24 ---> 4763MiB / 12066MiB on Titan V\n",
    "# How fast to learn\n",
    "learning_rate = 3e-5"
   ]
  },
  {
   "cell_type": "markdown",
   "metadata": {},
   "source": [
    "Make the output directory if it does not exist:"
   ]
  },
  {
   "cell_type": "code",
   "execution_count": 5,
   "metadata": {},
   "outputs": [],
   "source": [
    "output.mkdir(exist_ok=True)"
   ]
  },
  {
   "cell_type": "markdown",
   "metadata": {},
   "source": [
    "## Get the helper functions\n",
    "\n",
    "Add the directory with the model\n",
    "definitions to the path so we can import from it:\n",
    "\n",
    "> When you type `import X`,\n",
    "Python searches `sys.path` for a python\n",
    "file named `X.py` to import. So we need to add the model directory to the path."
   ]
  },
  {
   "cell_type": "code",
   "execution_count": 6,
   "metadata": {
    "scrolled": true
   },
   "outputs": [],
   "source": [
    "# From model/collectdata.py\n",
    "##from model.collectdata_kde_B import collect_t2kde_data\n",
    "## collectdata_kde_C should use the new poca KDE rather than the original kernel KDE\n",
    "from model.collectdata_kdeB_Ellipsoids import collect_t2kde_data\n",
    "\n",
    "\n",
    "# From model/loss.py\n",
    "##from loss import Loss\n",
    "## kde_loss_D includes botha ratio term and a chisq term, 98% ave_chisq\n",
    "## kde_loss_E adds a chi^4 term to the kde_loss_D return value\n",
    "## this is intended to emphasize the importance of values significantly different than zero\n",
    "from model.kde_loss_Ba import Loss\n",
    "\n",
    "##  TracksToKDE_Ellipsoids_SevenLayerCake has 7 hidden layers producing the 4000-bin KDE historgram\n",
    "##  It takes 9 input features (pocca centers + (A,B,C,D,E,F) . \n",
    "from model.models_kde import TracksToKDE_Ellipsoids_DDplus as Model\n",
    "\n",
    "\n",
    "from model.training_kde import trainNet, select_gpu, Results\n",
    "from model.plots import dual_train_plots, replace_in_ax"
   ]
  },
  {
   "cell_type": "code",
   "execution_count": 7,
   "metadata": {},
   "outputs": [],
   "source": [
    "# This gets built up during the run - do not rerun this cell\n",
    "results = pd.DataFrame([], columns=Results._fields)"
   ]
  },
  {
   "cell_type": "markdown",
   "metadata": {},
   "source": [
    "Set up Torch device configuration. All tensors and model parameters need to know where to be put.\n",
    "This takes a BUS ID number: The BUS ID is the same as the listing at the top of this script."
   ]
  },
  {
   "cell_type": "code",
   "execution_count": 8,
   "metadata": {},
   "outputs": [
    {
     "name": "stdout",
     "output_type": "stream",
     "text": [
      "1 available GPUs (initially using device 0):\n",
      "  0 GeForce RTX 2080 Ti\n"
     ]
    }
   ],
   "source": [
    "device = select_gpu(1)\n",
    "##device = \"cpu\""
   ]
  },
  {
   "cell_type": "markdown",
   "metadata": {},
   "source": [
    "## Loading data\n",
    "\n",
    "Load the dataset, split into parts, then move to device (see `collectdata.py` in the `../model` directory)"
   ]
  },
  {
   "cell_type": "markdown",
   "metadata": {},
   "source": [
    "# Preparing the model"
   ]
  },
  {
   "cell_type": "markdown",
   "metadata": {},
   "source": [
    "Prepare a model, use multiple GPUs if they are VISIBLE, and move the model to the device."
   ]
  },
  {
   "cell_type": "code",
   "execution_count": 9,
   "metadata": {
    "scrolled": true
   },
   "outputs": [],
   "source": [
    "##print(\"Let's use\", torch.cuda.device_count(), \"GPUs!\")\n",
    "##if torch.cuda.device_count() > 1:\n",
    "##    model = torch.nn.DataParallel(model)"
   ]
  },
  {
   "cell_type": "code",
   "execution_count": 10,
   "metadata": {},
   "outputs": [
    {
     "name": "stdout",
     "output_type": "stream",
     "text": [
      "ct, child =  0    Linear(in_features=9, out_features=50, bias=True)\n",
      "ct, child =  1    Linear(in_features=50, out_features=50, bias=True)\n",
      "ct, child =  2    Linear(in_features=50, out_features=50, bias=True)\n",
      "ct, child =  3    Linear(in_features=50, out_features=50, bias=True)\n",
      "ct, child =  4    Linear(in_features=50, out_features=50, bias=True)\n",
      "ct, child =  5    Linear(in_features=50, out_features=50, bias=True)\n",
      "ct, child =  6    Linear(in_features=50, out_features=50, bias=True)\n",
      "ct, child =  7    Linear(in_features=50, out_features=50, bias=True)\n",
      "ct, child =  8    Linear(in_features=50, out_features=50, bias=True)\n",
      "ct, child =  9    Linear(in_features=50, out_features=50, bias=True)\n",
      "ct, child =  10    Linear(in_features=50, out_features=50, bias=True)\n",
      "ct, child =  11    Linear(in_features=50, out_features=16000, bias=True)\n",
      "ct, child =  12    Conv1d(4, 25, kernel_size=(25,), stride=(1,), padding=(12,))\n",
      "ct, child =  13    Conv1d(25, 1, kernel_size=(5,), stride=(1,), padding=(2,))\n",
      "ct, child =  14    Linear(in_features=4000, out_features=4000, bias=True)\n",
      "ct, child =  15    Conv1d(25, 1, kernel_size=(15,), stride=(1,), padding=(7,))\n",
      "ct, child =  16    Dropout(p=0.15, inplace=False)\n",
      "ct, child =  17    Dropout(p=0.15, inplace=False)\n"
     ]
    }
   ],
   "source": [
    "## a comment on the web at https://pytorch.org/docs/stable/optim.html says\n",
    "\"\"\"\n",
    "If you need to move a model to GPU via .cuda(), please do so before constructing optimizers for it. \n",
    "Parameters of a model after .cuda() will be different objects with those before the call.\n",
    "\n",
    "In general, you should make sure that optimized parameters live in consistent locations when \n",
    "optimizers are constructed and used.\n",
    "\"\"\"\n",
    "## so move this here (although we are using model.to(device) not explicitly using .cuda()\n",
    "\n",
    "nOut1 = 50\n",
    "nOut2 = 50\n",
    "nOut3 = 50\n",
    "nOut4 = 50\n",
    "nOut5 = 50\n",
    "nOut6 = 50\n",
    "nOut7 = 50\n",
    "nOut8 = 50\n",
    "nOut9 = 50\n",
    "nOut10 = 50\n",
    "nOut11 = 50\n",
    "latentChannels = 4\n",
    "model = Model(nOut1,nOut2,nOut3,nOut4,nOut5,nOut6,nOut7,nOut8,nOut9,nOut10,nOut11,latentChannels)\n",
    "\n",
    "##summary(model, input_size=(4, 4000))\n",
    "##print(model.parameters)\n",
    "\n",
    "## add the following code to allow the user to freeze the some of the weights corresponding \n",
    "## to those taken from an earlier model trained with the original target histograms\n",
    "## presumably -- this leaves either the perturbative filter \"fixed\" and lets the \n",
    "## learning focus on the non-perturbative features, so get started faster, or vice versa\n",
    "ct = 0\n",
    "for child in model.children():\n",
    "  print('ct, child = ',ct, \"  \", child)\n",
    "  if ct < 0:\n",
    "    print(\"     About to set param.requires_grad=False for ct = \", ct, \"params\")\n",
    "    for param in child.parameters():\n",
    "        param.requires_grad = False \n",
    "  ct += 1\n",
    "##  mds 200121 loss = Loss(epsilon=1e-5,coefficient=1.0)\n",
    "##  loss = Loss(epsilon=1e-5,coefficient=2.5)\n",
    "##loss = Loss(epsilon=3e-5, debug=False)\n",
    "loss = Loss(epsilon=3e-5)"
   ]
  },
  {
   "cell_type": "markdown",
   "metadata": {},
   "source": [
    "Let's move the model's weight matricies to the GPU:"
   ]
  },
  {
   "cell_type": "code",
   "execution_count": 11,
   "metadata": {
    "scrolled": true
   },
   "outputs": [],
   "source": [
    "model = model.to(device)"
   ]
  },
  {
   "cell_type": "code",
   "execution_count": 12,
   "metadata": {
    "scrolled": true
   },
   "outputs": [],
   "source": [
    "optimizer = torch.optim.Adam(model.parameters(), lr=learning_rate)\n",
    "##optimizer = torch.optim.SGD(model.parameters(), lr=learning_rate)"
   ]
  },
  {
   "cell_type": "code",
   "execution_count": 13,
   "metadata": {
    "scrolled": false
   },
   "outputs": [
    {
     "name": "stdout",
     "output_type": "stream",
     "text": [
      "output =  ML/24Jan_DDplus_KDE_B_loss_Ba_ite5A_floatAll_75epochs_3em5_4xwill\n",
      "for model_dict\n",
      "index, k =   0    layer1.weight\n",
      "index, k =   1    layer1.bias\n",
      "index, k =   2    layer2.weight\n",
      "index, k =   3    layer2.bias\n",
      "index, k =   4    layer3.weight\n",
      "index, k =   5    layer3.bias\n",
      "index, k =   6    layer4.weight\n",
      "index, k =   7    layer4.bias\n",
      "index, k =   8    layer5.weight\n",
      "index, k =   9    layer5.bias\n",
      "index, k =   10    layer6.weight\n",
      "index, k =   11    layer6.bias\n",
      "index, k =   12    layer7.weight\n",
      "index, k =   13    layer7.bias\n",
      "index, k =   14    layer8.weight\n",
      "index, k =   15    layer8.bias\n",
      "index, k =   16    layer9.weight\n",
      "index, k =   17    layer9.bias\n",
      "index, k =   18    layer10.weight\n",
      "index, k =   19    layer10.bias\n",
      "index, k =   20    layer11.weight\n",
      "index, k =   21    layer11.bias\n",
      "index, k =   22    layer12new.weight\n",
      "index, k =   23    layer12new.bias\n",
      "index, k =   24    conv1.weight\n",
      "index, k =   25    conv1.bias\n",
      "index, k =   26    conv2.weight\n",
      "index, k =   27    conv2.bias\n",
      "index, k =   28    fc1.weight\n",
      "index, k =   29    fc1.bias\n",
      "index, k =   30    finalFilter.weight\n",
      "index, k =   31    finalFilter.bias\n",
      "dict_name =  ML/23Jan_DDplus_KDE_B_loss_Ba_ite4A_floatAll_75epochs_3em5_4xwill/23Jan_DDplus_KDE_B_loss_Ba_ite4A_floatAll_75epochs_3em5_4xwill_final.pyt\n",
      " \n",
      "  for pretrained_dict\n",
      "index, k =   0    layer1.weight\n",
      "index, k =   1    layer1.bias\n",
      "index, k =   2    layer2.weight\n",
      "index, k =   3    layer2.bias\n",
      "index, k =   4    layer3.weight\n",
      "index, k =   5    layer3.bias\n",
      "index, k =   6    layer4.weight\n",
      "index, k =   7    layer4.bias\n",
      "index, k =   8    layer5.weight\n",
      "index, k =   9    layer5.bias\n",
      "index, k =   10    layer6.weight\n",
      "index, k =   11    layer6.bias\n",
      "index, k =   12    layer7.weight\n",
      "index, k =   13    layer7.bias\n",
      "index, k =   14    layer8.weight\n",
      "index, k =   15    layer8.bias\n",
      "index, k =   16    layer9.weight\n",
      "index, k =   17    layer9.bias\n",
      "index, k =   18    layer10.weight\n",
      "index, k =   19    layer10.bias\n",
      "index, k =   20    layer11.weight\n",
      "index, k =   21    layer11.bias\n",
      "index, k =   22    layer12new.weight\n",
      "index, k =   23    layer12new.bias\n",
      "index, k =   24    conv1.weight\n",
      "index, k =   25    conv1.bias\n",
      "index, k =   26    conv2.weight\n",
      "index, k =   27    conv2.bias\n",
      "index, k =   28    fc1.weight\n",
      "index, k =   29    fc1.bias\n",
      "index, k =   30    finalFilter.weight\n",
      "index, k =   31    finalFilter.bias\n",
      "pretrained_dict iterated\n"
     ]
    },
    {
     "data": {
      "text/plain": [
       "<All keys matched successfully>"
      ]
     },
     "execution_count": 13,
     "metadata": {},
     "output_type": "execute_result"
    }
   ],
   "source": [
    "print('output = ',output)\n",
    "##print('oldOutput = ',oldOutput)\n",
    "##  use the first four layers from a pre-existing model\n",
    "##  see example at https://discuss.pytorch.org/t/how-to-load-part-of-pre-trained-model/1113\n",
    "\n",
    "##   ML -> /share/lazy/sokoloff/ML\n",
    "model_dict = model.state_dict()\n",
    "## mds 190725 for debugging\n",
    "print(\"for model_dict\")\n",
    "index = 0\n",
    "for k,v in model_dict.items():\n",
    "    print(\"index, k =  \",index,\"  \",k)\n",
    "    index = index+1\n",
    "##    print(\"value = \", v)\n",
    " \n",
    "updated_dict = model_dict\n",
    "##print(\"updated_dict = \",updated_dict)\n",
    "## when starting \"ab initio\", reduce biases as the bias gets summed for each track\n",
    "## contributing to the predicted KDE\n",
    "updated_dict[\"layer1.bias\"] = 0.005*model_dict[\"layer1.bias\"]\n",
    "updated_dict[\"layer2.bias\"] = 0.005*model_dict[\"layer2.bias\"]\n",
    "updated_dict[\"layer3.bias\"] = 0.005*model_dict[\"layer3.bias\"]\n",
    "updated_dict[\"layer4.bias\"] = 0.005*model_dict[\"layer4.bias\"]\n",
    "updated_dict[\"layer5.bias\"] = 0.005*model_dict[\"layer5.bias\"]\n",
    "updated_dict[\"layer6.bias\"] = 0.005*model_dict[\"layer6.bias\"]\n",
    "updated_dict[\"layer7.bias\"] = 0.005*model_dict[\"layer7.bias\"]\n",
    "updated_dict[\"layer8.bias\"] = 0.005*model_dict[\"layer8.bias\"]\n",
    "updated_dict[\"layer9.bias\"] = 0.005*model_dict[\"layer9.bias\"]\n",
    "updated_dict[\"layer10.bias\"] = 0.005*model_dict[\"layer10.bias\"]\n",
    "updated_dict[\"layer11.bias\"] = 0.005*model_dict[\"layer11.bias\"]\n",
    "\n",
    "model.load_state_dict(updated_dict,strict=False)\n",
    "\n",
    "model_dict = model.state_dict()\n",
    "##print(\"updated model_dict = \",model_dict)\n",
    "\n",
    "## print(\" \\n\",\"  for pretrained_dict\")\n",
    "## index = 0\n",
    "##for k,v in pretrained_dict.items():\n",
    "##    print(\"index, k =  \",index,\"  \",k)\n",
    "##    index = index+1\n",
    "## mds  \n",
    "\n",
    "##pretrained_dict = torch.load('ML/29July2020_Trks_to_KDE_C_lossB_100epochs_b64_1m3_nOut_50x50/29July2020_Trks_to_KDE_C_lossB_100epochs_b64_1m3_nOut_50x50_final.pyt')\n",
    "##print(\"model_dict instantiated\")\n",
    "# 1. filter out unnecessary keys\n",
    "##pretrained_dict = {k: v for k, v in pretrained_dict.items() if k in model_dict}\n",
    "##print(\"pretrained_dict iterated\")\n",
    "# 2. overwrite entries in the existing state dict\n",
    "##model_dict.update(pretrained_dict) \n",
    "##\n",
    "#   when starting from a model with a fully connected last layer rather than a convolutional layer\n",
    "# 3. load the new state dict\n",
    "#   need to use strict=False as the two models state model attributes do not agree exactly\n",
    "#   see https://pytorch.org/docs/master/_modules/torch/nn/modules/module.html#Module.load_state_dict\n",
    "\n",
    "##model.load_state_dict(pretrained_dict,strict=False)\n",
    "\n",
    "## print('model_dict =    ', model_dict)\n",
    "\n",
    "## finished at training cost = 1.46, validation cost = 1.50\n",
    "##d_folder = '25December__DDplus_loss_Ba_iter7_floatAll_800epochs_4em6'\n",
    "d_folder = '23Jan_DDplus_KDE_B_loss_Ba_ite4A_floatAll_75epochs_3em5_4xwill'\n",
    "d_name = d_folder\n",
    "suffix = 'final'\n",
    "dict_name = 'ML/' + d_folder + '/' + d_name + '_'+ suffix + '.pyt'\n",
    "print('dict_name = ',dict_name)\n",
    "pretrained_dict = torch.load(dict_name)\n",
    "\n",
    "print(\" \")\n",
    "print(\"  for pretrained_dict\")\n",
    "index = 0\n",
    "for k,v in pretrained_dict.items():\n",
    "    print(\"index, k =  \",index,\"  \",k)\n",
    "    index = index+1\n",
    " \n",
    "\n",
    "##print(\"model_dict instantiated\")\n",
    "# 1. filter out unnecessary keys\n",
    "pretrained_dict = {k: v for k, v in pretrained_dict.items() if k in model_dict}\n",
    "print(\"pretrained_dict iterated\")\n",
    "# 2. overwrite entries in the existing state dict\n",
    "model_dict.update(pretrained_dict) \n",
    "##\n",
    "#   when starting from a model with a fully connected last layer rather than a convolutional layer\n",
    "# 3. load the new state dict\n",
    "#   need to use strict=False as the two models state model attributes do not agree exactly\n",
    "#   see https://pytorch.org/docs/master/_modules/torch/nn/modules/module.html#Module.load_state_dict\n",
    "\n",
    "model.load_state_dict(pretrained_dict,strict=False)\n",
    "\n"
   ]
  },
  {
   "cell_type": "code",
   "execution_count": 14,
   "metadata": {},
   "outputs": [],
   "source": [
    "##print('validation.dataset.tensors = ',validation.dataset.tensors)\n",
    "fig_size = plt.rcParams[\"figure.figsize\"]\n",
    "fig_size[0] = 10\n",
    "fig_size[1] = 4\n",
    "plt.rcParams[\"figure.figsize\"] = fig_size"
   ]
  },
  {
   "cell_type": "code",
   "execution_count": 15,
   "metadata": {
    "scrolled": false
   },
   "outputs": [
    {
     "name": "stdout",
     "output_type": "stream",
     "text": [
      "Loading data...\n",
      "pocaMx.shape =  (80000,)\n",
      "nEvts =  80000\n",
      "len(pocaMx[0]) =  199\n",
      "len(pocaMx[1]) =  25\n",
      "len(pocaMx[2]) =  369\n",
      "len(pocaMx[3]) =  143\n",
      "len(pocaMx[4]) =  160\n",
      "majorAxis.shape =  (80000, 3)\n",
      "minorAxis_1.shape =  (80000, 3)\n",
      "minorAxis_2.shape =  (80000, 3)\n",
      "have entered six_ellipsoid_parameters\n",
      "  \n",
      " \n",
      "  nEvts =  80000\n",
      " iEvt, nTrks =  0 199\n",
      " iEvt, nTrks =  1 25\n",
      " iEvt, nTrks =  2 369\n",
      " iEvt, nTrks =  3 143\n",
      " iEvt, nTrks =  4 160\n",
      " iEvt, nTrks =  5 260\n",
      " iEvt, nTrks =  6 237\n",
      " iEvt, nTrks =  7 327\n",
      " iEvt, nTrks =  8 178\n",
      " iEvt, nTrks =  9 106\n",
      "A.shape =  (80000,)\n",
      "majorAxis[iTrk][0][0] =  0.00045611936\n",
      "majorAxis[iTrk][1][0] =  -4.8292455e-05\n",
      "majorAxis[iTrk][2][0] =  0.090019904\n",
      "minorAxis_1[iTrk][0][0] =  -1.8602173\n",
      "minorAxis_1[iTrk][1][0] =  -17.569641\n",
      "minorAxis_1[iTrk][2][0] =  4.7891795e-08\n",
      "minorAxis_2[iTrk][0][0] =  -17.569414\n",
      "minorAxis_2[iTrk][1][0] =  1.8601931\n",
      "minorAxis_2[iTrk][2][0] =  0.0900199\n",
      "  \n",
      "majorAxis[iTrk][0][0] =  0.002360258\n",
      "majorAxis[iTrk][1][0] =  -0.007426616\n",
      "majorAxis[iTrk][2][0] =  0.3710108\n",
      "minorAxis_1[iTrk][0][0] =  -16.837948\n",
      "minorAxis_1[iTrk][1][0] =  -5.3512807\n",
      "minorAxis_1[iTrk][2][0] =  8.157131e-09\n",
      "minorAxis_2[iTrk][0][0] =  -5.3501005\n",
      "minorAxis_2[iTrk][1][0] =  16.834236\n",
      "minorAxis_2[iTrk][2][0] =  0.3710108\n",
      "  \n",
      "majorAxis[iTrk][0][0] =  6.220712e-05\n",
      "majorAxis[iTrk][1][0] =  -4.4594188e-05\n",
      "majorAxis[iTrk][2][0] =  0.036773544\n",
      "minorAxis_1[iTrk][0][0] =  10.293747\n",
      "minorAxis_1[iTrk][1][0] =  14.359369\n",
      "minorAxis_1[iTrk][2][0] =  1.571041e-06\n",
      "minorAxis_2[iTrk][0][0] =  14.359338\n",
      "minorAxis_2[iTrk][1][0] =  -10.293725\n",
      "minorAxis_2[iTrk][2][0] =  -0.03677354\n",
      "  \n",
      "len(X) =  80000\n",
      "len(Xlist) =  1\n",
      "Loaded /share/lazy/will/data/June30_2020_80k_1.h5 in 124.6 s\n",
      "pocaMx.shape =  (80000,)\n",
      "nEvts =  80000\n",
      "len(pocaMx[0]) =  222\n",
      "len(pocaMx[1]) =  133\n",
      "len(pocaMx[2]) =  259\n",
      "len(pocaMx[3]) =  114\n",
      "len(pocaMx[4]) =  143\n",
      "majorAxis.shape =  (80000, 3)\n",
      "minorAxis_1.shape =  (80000, 3)\n",
      "minorAxis_2.shape =  (80000, 3)\n",
      "have entered six_ellipsoid_parameters\n",
      "  \n",
      " \n",
      "  nEvts =  80000\n",
      " iEvt, nTrks =  0 222\n",
      " iEvt, nTrks =  1 133\n",
      " iEvt, nTrks =  2 259\n",
      " iEvt, nTrks =  3 114\n",
      " iEvt, nTrks =  4 143\n",
      " iEvt, nTrks =  5 136\n",
      " iEvt, nTrks =  6 397\n",
      " iEvt, nTrks =  7 370\n",
      " iEvt, nTrks =  8 97\n",
      " iEvt, nTrks =  9 67\n",
      "A.shape =  (80000,)\n",
      "majorAxis[iTrk][0][0] =  -0.001036478\n",
      "majorAxis[iTrk][1][0] =  0.0009833863\n",
      "majorAxis[iTrk][2][0] =  0.15887721\n",
      "minorAxis_1[iTrk][0][0] =  -12.160475\n",
      "minorAxis_1[iTrk][1][0] =  -12.817002\n",
      "minorAxis_1[iTrk][2][0] =  0.0\n",
      "minorAxis_2[iTrk][0][0] =  -12.816484\n",
      "minorAxis_2[iTrk][1][0] =  12.159985\n",
      "minorAxis_2[iTrk][2][0] =  -0.15887721\n",
      "  \n",
      "majorAxis[iTrk][0][0] =  0.0016579849\n",
      "majorAxis[iTrk][1][0] =  0.0020989499\n",
      "majorAxis[iTrk][2][0] =  0.21738033\n",
      "minorAxis_1[iTrk][0][0] =  -13.864233\n",
      "minorAxis_1[iTrk][1][0] =  10.95152\n",
      "minorAxis_1[iTrk][2][0] =  -3.3017489e-09\n",
      "minorAxis_2[iTrk][0][0] =  10.95069\n",
      "minorAxis_2[iTrk][1][0] =  13.863184\n",
      "minorAxis_2[iTrk][2][0] =  -0.21738033\n",
      "  \n",
      "majorAxis[iTrk][0][0] =  0.00012481198\n",
      "majorAxis[iTrk][1][0] =  -0.00028747538\n",
      "majorAxis[iTrk][2][0] =  0.07441149\n",
      "minorAxis_1[iTrk][0][0] =  -16.206305\n",
      "minorAxis_1[iTrk][1][0] =  -7.036224\n",
      "minorAxis_1[iTrk][2][0] =  5.3456716e-08\n",
      "minorAxis_2[iTrk][0][0] =  -7.0361605\n",
      "minorAxis_2[iTrk][1][0] =  16.20616\n",
      "minorAxis_2[iTrk][2][0] =  0.07441148\n",
      "  \n",
      "len(X) =  80000\n",
      "len(Xlist) =  2\n",
      "Loaded /share/lazy/will/data/June30_2020_80k_2.h5 in 122.6 s\n",
      "pocaMx.shape =  (80000,)\n",
      "nEvts =  80000\n",
      "len(pocaMx[0]) =  196\n",
      "len(pocaMx[1]) =  35\n",
      "len(pocaMx[2]) =  265\n",
      "len(pocaMx[3]) =  128\n",
      "len(pocaMx[4]) =  124\n",
      "majorAxis.shape =  (80000, 3)\n",
      "minorAxis_1.shape =  (80000, 3)\n",
      "minorAxis_2.shape =  (80000, 3)\n",
      "have entered six_ellipsoid_parameters\n",
      "  \n",
      " \n",
      "  nEvts =  80000\n",
      " iEvt, nTrks =  0 196\n",
      " iEvt, nTrks =  1 35\n",
      " iEvt, nTrks =  2 265\n",
      " iEvt, nTrks =  3 128\n",
      " iEvt, nTrks =  4 124\n",
      " iEvt, nTrks =  5 122\n",
      " iEvt, nTrks =  6 300\n",
      " iEvt, nTrks =  7 179\n",
      " iEvt, nTrks =  8 243\n",
      " iEvt, nTrks =  9 112\n",
      "A.shape =  (80000,)\n",
      "majorAxis[iTrk][0][0] =  -2.440992e-05\n",
      "majorAxis[iTrk][1][0] =  -0.00038087237\n",
      "majorAxis[iTrk][2][0] =  0.08211532\n",
      "minorAxis_1[iTrk][0][0] =  -17.631672\n",
      "minorAxis_1[iTrk][1][0] =  1.130005\n",
      "minorAxis_1[iTrk][2][0] =  4.7444193e-08\n",
      "minorAxis_2[iTrk][0][0] =  1.1299927\n",
      "minorAxis_2[iTrk][1][0] =  17.631481\n",
      "minorAxis_2[iTrk][2][0] =  0.08211532\n",
      "  \n",
      "majorAxis[iTrk][0][0] =  -0.02277395\n",
      "majorAxis[iTrk][1][0] =  0.0014473597\n",
      "majorAxis[iTrk][2][0] =  0.6347583\n",
      "minorAxis_1[iTrk][0][0] =  -1.1205891\n",
      "minorAxis_1[iTrk][1][0] =  -17.632273\n",
      "minorAxis_1[iTrk][2][0] =  2.1543272e-09\n",
      "minorAxis_2[iTrk][0][0] =  -17.620888\n",
      "minorAxis_2[iTrk][1][0] =  1.1198657\n",
      "minorAxis_2[iTrk][2][0] =  -0.63475823\n",
      "  \n",
      "majorAxis[iTrk][0][0] =  0.0004024825\n",
      "majorAxis[iTrk][1][0] =  -0.00023784715\n",
      "majorAxis[iTrk][2][0] =  0.090883136\n",
      "minorAxis_1[iTrk][0][0] =  -8.988615\n",
      "minorAxis_1[iTrk][1][0] =  -15.210441\n",
      "minorAxis_1[iTrk][2][0] =  -6.56547e-08\n",
      "minorAxis_2[iTrk][0][0] =  -15.21024\n",
      "minorAxis_2[iTrk][1][0] =  8.988497\n",
      "minorAxis_2[iTrk][2][0] =  0.090883136\n",
      "  \n",
      "len(X) =  80000\n",
      "len(Xlist) =  3\n",
      "Loaded /share/lazy/will/data/June30_2020_80k_3.h5 in 121.1 s\n",
      "pocaMx.shape =  (80000,)\n",
      "nEvts =  80000\n",
      "len(pocaMx[0]) =  204\n",
      "len(pocaMx[1]) =  33\n",
      "len(pocaMx[2]) =  206\n",
      "len(pocaMx[3]) =  150\n",
      "len(pocaMx[4]) =  96\n",
      "majorAxis.shape =  (80000, 3)\n",
      "minorAxis_1.shape =  (80000, 3)\n",
      "minorAxis_2.shape =  (80000, 3)\n",
      "have entered six_ellipsoid_parameters\n",
      "  \n",
      " \n",
      "  nEvts =  80000\n",
      " iEvt, nTrks =  0 204\n",
      " iEvt, nTrks =  1 33\n",
      " iEvt, nTrks =  2 206\n",
      " iEvt, nTrks =  3 150\n",
      " iEvt, nTrks =  4 96\n",
      " iEvt, nTrks =  5 10\n",
      " iEvt, nTrks =  6 174\n",
      " iEvt, nTrks =  7 320\n",
      " iEvt, nTrks =  8 164\n",
      " iEvt, nTrks =  9 119\n",
      "A.shape =  (80000,)\n",
      "majorAxis[iTrk][0][0] =  0.00057876867\n",
      "majorAxis[iTrk][1][0] =  0.00037603904\n",
      "majorAxis[iTrk][2][0] =  0.110427074\n",
      "minorAxis_1[iTrk][0][0] =  9.62588\n",
      "minorAxis_1[iTrk][1][0] =  -14.81537\n",
      "minorAxis_1[iTrk][2][0] =  8.391163e-09\n",
      "minorAxis_2[iTrk][0][0] =  -14.815081\n",
      "minorAxis_2[iTrk][1][0] =  -9.625692\n",
      "minorAxis_2[iTrk][2][0] =  0.11042709\n",
      "  \n",
      "majorAxis[iTrk][0][0] =  -7.687664e-05\n",
      "majorAxis[iTrk][1][0] =  -0.0017985329\n",
      "majorAxis[iTrk][2][0] =  0.17833562\n",
      "minorAxis_1[iTrk][0][0] =  -17.651728\n",
      "minorAxis_1[iTrk][1][0] =  0.7545069\n",
      "minorAxis_1[iTrk][2][0] =  -7.932265e-09\n",
      "minorAxis_2[iTrk][0][0] =  0.75446844\n",
      "minorAxis_2[iTrk][1][0] =  17.650827\n",
      "minorAxis_2[iTrk][2][0] =  0.17833562\n",
      "  \n",
      "majorAxis[iTrk][0][0] =  4.5855802e-05\n",
      "majorAxis[iTrk][1][0] =  -0.00054240844\n",
      "majorAxis[iTrk][2][0] =  0.098067455\n",
      "minorAxis_1[iTrk][0][0] =  17.605043\n",
      "minorAxis_1[iTrk][1][0] =  1.4883496\n",
      "minorAxis_1[iTrk][2][0] =  -2.7847218e-08\n",
      "minorAxis_2[iTrk][0][0] =  1.4883265\n",
      "minorAxis_2[iTrk][1][0] =  -17.604773\n",
      "minorAxis_2[iTrk][2][0] =  -0.098067455\n",
      "  \n",
      "len(X) =  80000\n",
      "len(Xlist) =  4\n",
      "Loaded /share/lazy/will/data/June30_2020_80k_4.h5 in 121.3 s\n",
      "outer loop X.shape =  (320000, 9, 600)\n",
      "Constructing 320000 event dataset took 2.5 s\n",
      "x_t.shape =  torch.Size([320000, 9, 600])\n",
      "x_t.shape[0] =  320000\n",
      "x_t.shape[1] =  9\n",
      "x_t.shape =  torch.Size([320000, 9, 600])\n",
      "Loading data...\n",
      "pocaMx.shape =  (20000,)\n",
      "nEvts =  20000\n",
      "len(pocaMx[0]) =  211\n",
      "len(pocaMx[1]) =  21\n",
      "len(pocaMx[2]) =  20\n",
      "len(pocaMx[3]) =  198\n",
      "len(pocaMx[4]) =  233\n",
      "majorAxis.shape =  (20000, 3)\n",
      "minorAxis_1.shape =  (20000, 3)\n",
      "minorAxis_2.shape =  (20000, 3)\n",
      "have entered six_ellipsoid_parameters\n",
      "  \n",
      " \n",
      "  nEvts =  20000\n",
      " iEvt, nTrks =  0 211\n",
      " iEvt, nTrks =  1 21\n",
      " iEvt, nTrks =  2 20\n",
      " iEvt, nTrks =  3 198\n",
      " iEvt, nTrks =  4 233\n",
      " iEvt, nTrks =  5 85\n",
      " iEvt, nTrks =  6 223\n",
      " iEvt, nTrks =  7 425\n",
      " iEvt, nTrks =  8 252\n",
      " iEvt, nTrks =  9 169\n",
      "A.shape =  (20000,)\n",
      "majorAxis[iTrk][0][0] =  -0.00023452607\n",
      "majorAxis[iTrk][1][0] =  -0.00047206535\n",
      "majorAxis[iTrk][2][0] =  0.096502915\n",
      "minorAxis_1[iTrk][0][0] =  -15.822749\n",
      "minorAxis_1[iTrk][1][0] =  7.8608756\n",
      "minorAxis_1[iTrk][2][0] =  -2.6228399e-08\n",
      "minorAxis_2[iTrk][0][0] =  7.860759\n",
      "minorAxis_2[iTrk][1][0] =  15.822513\n",
      "minorAxis_2[iTrk][2][0] =  0.096502915\n",
      "  \n",
      "majorAxis[iTrk][0][0] =  -0.37655562\n",
      "majorAxis[iTrk][1][0] =  0.2768704\n",
      "majorAxis[iTrk][2][0] =  2.8546858\n",
      "minorAxis_1[iTrk][0][0] =  -10.466048\n",
      "minorAxis_1[iTrk][1][0] =  -14.234274\n",
      "minorAxis_1[iTrk][2][0] =  2.2974699e-11\n",
      "minorAxis_2[iTrk][0][0] =  -14.04724\n",
      "minorAxis_2[iTrk][1][0] =  10.328527\n",
      "minorAxis_2[iTrk][2][0] =  -2.8546853\n",
      "  \n",
      "majorAxis[iTrk][0][0] =  -0.024279848\n",
      "majorAxis[iTrk][1][0] =  0.0019689242\n",
      "majorAxis[iTrk][2][0] =  0.65580803\n",
      "minorAxis_1[iTrk][0][0] =  -1.4280497\n",
      "minorAxis_1[iTrk][1][0] =  -17.610037\n",
      "minorAxis_1[iTrk][2][0] =  -6.123401e-10\n",
      "minorAxis_2[iTrk][0][0] =  -17.597902\n",
      "minorAxis_2[iTrk][1][0] =  1.4270656\n",
      "minorAxis_2[iTrk][2][0] =  -0.6558081\n",
      "  \n"
     ]
    },
    {
     "name": "stdout",
     "output_type": "stream",
     "text": [
      "len(X) =  20000\n",
      "len(Xlist) =  1\n",
      "Loaded dataAA/20K_POCA_kernel_evts_200926.h5 in 28.88 s\n",
      "outer loop X.shape =  (20000, 9, 600)\n",
      "Constructing 10000 event dataset took 0.08721 s\n",
      "x_t.shape =  torch.Size([10000, 9, 600])\n",
      "x_t.shape[0] =  10000\n",
      "x_t.shape[1] =  9\n",
      "x_t.shape =  torch.Size([10000, 9, 600])\n"
     ]
    }
   ],
   "source": [
    "\n",
    "## Training dataset. You can put as many files here as desired.\n",
    "\n",
    "##train_loader = collect_t2kde_data('/share/lazy/pv-finder/20k_evts_for_KDE_learning_200716.h5',\n",
    "train_loader = collect_t2kde_data('/share/lazy/will/data/June30_2020_80k_1.h5', \n",
    "                                    '/share/lazy/will/data/June30_2020_80k_2.h5',\n",
    "                                    '/share/lazy/will/data/June30_2020_80k_3.h5',\n",
    "                                    '/share/lazy/will/data/June30_2020_80k_4.h5',\n",
    "                             batch_size=batch_size,\n",
    "## if we are using a larger dataset (240K events, with the datasets above, and 11 GB  of GPU memory),\n",
    "## the dataset will overflow the GPU memory; device=device will allow the data to move back\n",
    "## and forth between the CPU and GPU memory. While this allows use of a larger dataset, it slows\n",
    "## down performance by about 10%.  So comment out when not needed.\n",
    "##                          device=device,\n",
    "##                           slice = slice(None,18000)\n",
    "                           )\n",
    "                            \n",
    "# Validation dataset. You can slice to reduce the size.\n",
    "## mds no separate validation set yet,\n",
    "\n",
    "## For iter12, change slice(18000,None) to slice(10000,None)\n",
    "## First, we'll see if this changes the validation cost significantly\n",
    "##  Second, we will see if this reduces the validation cost fluctuations\n",
    "val_loader = collect_t2kde_data('dataAA/20K_POCA_kernel_evts_200926.h5',\n",
    "                            batch_size=batch_size,\n",
    "##                            device=device,\n",
    "                            slice = slice(10000,None)\n",
    "                           )\n"
   ]
  },
  {
   "cell_type": "code",
   "execution_count": 16,
   "metadata": {
    "scrolled": false
   },
   "outputs": [
    {
     "data": {
      "application/javascript": [
       "/* Put everything inside the global mpl namespace */\n",
       "window.mpl = {};\n",
       "\n",
       "\n",
       "mpl.get_websocket_type = function() {\n",
       "    if (typeof(WebSocket) !== 'undefined') {\n",
       "        return WebSocket;\n",
       "    } else if (typeof(MozWebSocket) !== 'undefined') {\n",
       "        return MozWebSocket;\n",
       "    } else {\n",
       "        alert('Your browser does not have WebSocket support. ' +\n",
       "              'Please try Chrome, Safari or Firefox ≥ 6. ' +\n",
       "              'Firefox 4 and 5 are also supported but you ' +\n",
       "              'have to enable WebSockets in about:config.');\n",
       "    };\n",
       "}\n",
       "\n",
       "mpl.figure = function(figure_id, websocket, ondownload, parent_element) {\n",
       "    this.id = figure_id;\n",
       "\n",
       "    this.ws = websocket;\n",
       "\n",
       "    this.supports_binary = (this.ws.binaryType != undefined);\n",
       "\n",
       "    if (!this.supports_binary) {\n",
       "        var warnings = document.getElementById(\"mpl-warnings\");\n",
       "        if (warnings) {\n",
       "            warnings.style.display = 'block';\n",
       "            warnings.textContent = (\n",
       "                \"This browser does not support binary websocket messages. \" +\n",
       "                    \"Performance may be slow.\");\n",
       "        }\n",
       "    }\n",
       "\n",
       "    this.imageObj = new Image();\n",
       "\n",
       "    this.context = undefined;\n",
       "    this.message = undefined;\n",
       "    this.canvas = undefined;\n",
       "    this.rubberband_canvas = undefined;\n",
       "    this.rubberband_context = undefined;\n",
       "    this.format_dropdown = undefined;\n",
       "\n",
       "    this.image_mode = 'full';\n",
       "\n",
       "    this.root = $('<div/>');\n",
       "    this._root_extra_style(this.root)\n",
       "    this.root.attr('style', 'display: inline-block');\n",
       "\n",
       "    $(parent_element).append(this.root);\n",
       "\n",
       "    this._init_header(this);\n",
       "    this._init_canvas(this);\n",
       "    this._init_toolbar(this);\n",
       "\n",
       "    var fig = this;\n",
       "\n",
       "    this.waiting = false;\n",
       "\n",
       "    this.ws.onopen =  function () {\n",
       "            fig.send_message(\"supports_binary\", {value: fig.supports_binary});\n",
       "            fig.send_message(\"send_image_mode\", {});\n",
       "            if (mpl.ratio != 1) {\n",
       "                fig.send_message(\"set_dpi_ratio\", {'dpi_ratio': mpl.ratio});\n",
       "            }\n",
       "            fig.send_message(\"refresh\", {});\n",
       "        }\n",
       "\n",
       "    this.imageObj.onload = function() {\n",
       "            if (fig.image_mode == 'full') {\n",
       "                // Full images could contain transparency (where diff images\n",
       "                // almost always do), so we need to clear the canvas so that\n",
       "                // there is no ghosting.\n",
       "                fig.context.clearRect(0, 0, fig.canvas.width, fig.canvas.height);\n",
       "            }\n",
       "            fig.context.drawImage(fig.imageObj, 0, 0);\n",
       "        };\n",
       "\n",
       "    this.imageObj.onunload = function() {\n",
       "        fig.ws.close();\n",
       "    }\n",
       "\n",
       "    this.ws.onmessage = this._make_on_message_function(this);\n",
       "\n",
       "    this.ondownload = ondownload;\n",
       "}\n",
       "\n",
       "mpl.figure.prototype._init_header = function() {\n",
       "    var titlebar = $(\n",
       "        '<div class=\"ui-dialog-titlebar ui-widget-header ui-corner-all ' +\n",
       "        'ui-helper-clearfix\"/>');\n",
       "    var titletext = $(\n",
       "        '<div class=\"ui-dialog-title\" style=\"width: 100%; ' +\n",
       "        'text-align: center; padding: 3px;\"/>');\n",
       "    titlebar.append(titletext)\n",
       "    this.root.append(titlebar);\n",
       "    this.header = titletext[0];\n",
       "}\n",
       "\n",
       "\n",
       "\n",
       "mpl.figure.prototype._canvas_extra_style = function(canvas_div) {\n",
       "\n",
       "}\n",
       "\n",
       "\n",
       "mpl.figure.prototype._root_extra_style = function(canvas_div) {\n",
       "\n",
       "}\n",
       "\n",
       "mpl.figure.prototype._init_canvas = function() {\n",
       "    var fig = this;\n",
       "\n",
       "    var canvas_div = $('<div/>');\n",
       "\n",
       "    canvas_div.attr('style', 'position: relative; clear: both; outline: 0');\n",
       "\n",
       "    function canvas_keyboard_event(event) {\n",
       "        return fig.key_event(event, event['data']);\n",
       "    }\n",
       "\n",
       "    canvas_div.keydown('key_press', canvas_keyboard_event);\n",
       "    canvas_div.keyup('key_release', canvas_keyboard_event);\n",
       "    this.canvas_div = canvas_div\n",
       "    this._canvas_extra_style(canvas_div)\n",
       "    this.root.append(canvas_div);\n",
       "\n",
       "    var canvas = $('<canvas/>');\n",
       "    canvas.addClass('mpl-canvas');\n",
       "    canvas.attr('style', \"left: 0; top: 0; z-index: 0; outline: 0\")\n",
       "\n",
       "    this.canvas = canvas[0];\n",
       "    this.context = canvas[0].getContext(\"2d\");\n",
       "\n",
       "    var backingStore = this.context.backingStorePixelRatio ||\n",
       "\tthis.context.webkitBackingStorePixelRatio ||\n",
       "\tthis.context.mozBackingStorePixelRatio ||\n",
       "\tthis.context.msBackingStorePixelRatio ||\n",
       "\tthis.context.oBackingStorePixelRatio ||\n",
       "\tthis.context.backingStorePixelRatio || 1;\n",
       "\n",
       "    mpl.ratio = (window.devicePixelRatio || 1) / backingStore;\n",
       "\n",
       "    var rubberband = $('<canvas/>');\n",
       "    rubberband.attr('style', \"position: absolute; left: 0; top: 0; z-index: 1;\")\n",
       "\n",
       "    var pass_mouse_events = true;\n",
       "\n",
       "    canvas_div.resizable({\n",
       "        start: function(event, ui) {\n",
       "            pass_mouse_events = false;\n",
       "        },\n",
       "        resize: function(event, ui) {\n",
       "            fig.request_resize(ui.size.width, ui.size.height);\n",
       "        },\n",
       "        stop: function(event, ui) {\n",
       "            pass_mouse_events = true;\n",
       "            fig.request_resize(ui.size.width, ui.size.height);\n",
       "        },\n",
       "    });\n",
       "\n",
       "    function mouse_event_fn(event) {\n",
       "        if (pass_mouse_events)\n",
       "            return fig.mouse_event(event, event['data']);\n",
       "    }\n",
       "\n",
       "    rubberband.mousedown('button_press', mouse_event_fn);\n",
       "    rubberband.mouseup('button_release', mouse_event_fn);\n",
       "    // Throttle sequential mouse events to 1 every 20ms.\n",
       "    rubberband.mousemove('motion_notify', mouse_event_fn);\n",
       "\n",
       "    rubberband.mouseenter('figure_enter', mouse_event_fn);\n",
       "    rubberband.mouseleave('figure_leave', mouse_event_fn);\n",
       "\n",
       "    canvas_div.on(\"wheel\", function (event) {\n",
       "        event = event.originalEvent;\n",
       "        event['data'] = 'scroll'\n",
       "        if (event.deltaY < 0) {\n",
       "            event.step = 1;\n",
       "        } else {\n",
       "            event.step = -1;\n",
       "        }\n",
       "        mouse_event_fn(event);\n",
       "    });\n",
       "\n",
       "    canvas_div.append(canvas);\n",
       "    canvas_div.append(rubberband);\n",
       "\n",
       "    this.rubberband = rubberband;\n",
       "    this.rubberband_canvas = rubberband[0];\n",
       "    this.rubberband_context = rubberband[0].getContext(\"2d\");\n",
       "    this.rubberband_context.strokeStyle = \"#000000\";\n",
       "\n",
       "    this._resize_canvas = function(width, height) {\n",
       "        // Keep the size of the canvas, canvas container, and rubber band\n",
       "        // canvas in synch.\n",
       "        canvas_div.css('width', width)\n",
       "        canvas_div.css('height', height)\n",
       "\n",
       "        canvas.attr('width', width * mpl.ratio);\n",
       "        canvas.attr('height', height * mpl.ratio);\n",
       "        canvas.attr('style', 'width: ' + width + 'px; height: ' + height + 'px;');\n",
       "\n",
       "        rubberband.attr('width', width);\n",
       "        rubberband.attr('height', height);\n",
       "    }\n",
       "\n",
       "    // Set the figure to an initial 600x600px, this will subsequently be updated\n",
       "    // upon first draw.\n",
       "    this._resize_canvas(600, 600);\n",
       "\n",
       "    // Disable right mouse context menu.\n",
       "    $(this.rubberband_canvas).bind(\"contextmenu\",function(e){\n",
       "        return false;\n",
       "    });\n",
       "\n",
       "    function set_focus () {\n",
       "        canvas.focus();\n",
       "        canvas_div.focus();\n",
       "    }\n",
       "\n",
       "    window.setTimeout(set_focus, 100);\n",
       "}\n",
       "\n",
       "mpl.figure.prototype._init_toolbar = function() {\n",
       "    var fig = this;\n",
       "\n",
       "    var nav_element = $('<div/>');\n",
       "    nav_element.attr('style', 'width: 100%');\n",
       "    this.root.append(nav_element);\n",
       "\n",
       "    // Define a callback function for later on.\n",
       "    function toolbar_event(event) {\n",
       "        return fig.toolbar_button_onclick(event['data']);\n",
       "    }\n",
       "    function toolbar_mouse_event(event) {\n",
       "        return fig.toolbar_button_onmouseover(event['data']);\n",
       "    }\n",
       "\n",
       "    for(var toolbar_ind in mpl.toolbar_items) {\n",
       "        var name = mpl.toolbar_items[toolbar_ind][0];\n",
       "        var tooltip = mpl.toolbar_items[toolbar_ind][1];\n",
       "        var image = mpl.toolbar_items[toolbar_ind][2];\n",
       "        var method_name = mpl.toolbar_items[toolbar_ind][3];\n",
       "\n",
       "        if (!name) {\n",
       "            // put a spacer in here.\n",
       "            continue;\n",
       "        }\n",
       "        var button = $('<button/>');\n",
       "        button.addClass('ui-button ui-widget ui-state-default ui-corner-all ' +\n",
       "                        'ui-button-icon-only');\n",
       "        button.attr('role', 'button');\n",
       "        button.attr('aria-disabled', 'false');\n",
       "        button.click(method_name, toolbar_event);\n",
       "        button.mouseover(tooltip, toolbar_mouse_event);\n",
       "\n",
       "        var icon_img = $('<span/>');\n",
       "        icon_img.addClass('ui-button-icon-primary ui-icon');\n",
       "        icon_img.addClass(image);\n",
       "        icon_img.addClass('ui-corner-all');\n",
       "\n",
       "        var tooltip_span = $('<span/>');\n",
       "        tooltip_span.addClass('ui-button-text');\n",
       "        tooltip_span.html(tooltip);\n",
       "\n",
       "        button.append(icon_img);\n",
       "        button.append(tooltip_span);\n",
       "\n",
       "        nav_element.append(button);\n",
       "    }\n",
       "\n",
       "    var fmt_picker_span = $('<span/>');\n",
       "\n",
       "    var fmt_picker = $('<select/>');\n",
       "    fmt_picker.addClass('mpl-toolbar-option ui-widget ui-widget-content');\n",
       "    fmt_picker_span.append(fmt_picker);\n",
       "    nav_element.append(fmt_picker_span);\n",
       "    this.format_dropdown = fmt_picker[0];\n",
       "\n",
       "    for (var ind in mpl.extensions) {\n",
       "        var fmt = mpl.extensions[ind];\n",
       "        var option = $(\n",
       "            '<option/>', {selected: fmt === mpl.default_extension}).html(fmt);\n",
       "        fmt_picker.append(option);\n",
       "    }\n",
       "\n",
       "    // Add hover states to the ui-buttons\n",
       "    $( \".ui-button\" ).hover(\n",
       "        function() { $(this).addClass(\"ui-state-hover\");},\n",
       "        function() { $(this).removeClass(\"ui-state-hover\");}\n",
       "    );\n",
       "\n",
       "    var status_bar = $('<span class=\"mpl-message\"/>');\n",
       "    nav_element.append(status_bar);\n",
       "    this.message = status_bar[0];\n",
       "}\n",
       "\n",
       "mpl.figure.prototype.request_resize = function(x_pixels, y_pixels) {\n",
       "    // Request matplotlib to resize the figure. Matplotlib will then trigger a resize in the client,\n",
       "    // which will in turn request a refresh of the image.\n",
       "    this.send_message('resize', {'width': x_pixels, 'height': y_pixels});\n",
       "}\n",
       "\n",
       "mpl.figure.prototype.send_message = function(type, properties) {\n",
       "    properties['type'] = type;\n",
       "    properties['figure_id'] = this.id;\n",
       "    this.ws.send(JSON.stringify(properties));\n",
       "}\n",
       "\n",
       "mpl.figure.prototype.send_draw_message = function() {\n",
       "    if (!this.waiting) {\n",
       "        this.waiting = true;\n",
       "        this.ws.send(JSON.stringify({type: \"draw\", figure_id: this.id}));\n",
       "    }\n",
       "}\n",
       "\n",
       "\n",
       "mpl.figure.prototype.handle_save = function(fig, msg) {\n",
       "    var format_dropdown = fig.format_dropdown;\n",
       "    var format = format_dropdown.options[format_dropdown.selectedIndex].value;\n",
       "    fig.ondownload(fig, format);\n",
       "}\n",
       "\n",
       "\n",
       "mpl.figure.prototype.handle_resize = function(fig, msg) {\n",
       "    var size = msg['size'];\n",
       "    if (size[0] != fig.canvas.width || size[1] != fig.canvas.height) {\n",
       "        fig._resize_canvas(size[0], size[1]);\n",
       "        fig.send_message(\"refresh\", {});\n",
       "    };\n",
       "}\n",
       "\n",
       "mpl.figure.prototype.handle_rubberband = function(fig, msg) {\n",
       "    var x0 = msg['x0'] / mpl.ratio;\n",
       "    var y0 = (fig.canvas.height - msg['y0']) / mpl.ratio;\n",
       "    var x1 = msg['x1'] / mpl.ratio;\n",
       "    var y1 = (fig.canvas.height - msg['y1']) / mpl.ratio;\n",
       "    x0 = Math.floor(x0) + 0.5;\n",
       "    y0 = Math.floor(y0) + 0.5;\n",
       "    x1 = Math.floor(x1) + 0.5;\n",
       "    y1 = Math.floor(y1) + 0.5;\n",
       "    var min_x = Math.min(x0, x1);\n",
       "    var min_y = Math.min(y0, y1);\n",
       "    var width = Math.abs(x1 - x0);\n",
       "    var height = Math.abs(y1 - y0);\n",
       "\n",
       "    fig.rubberband_context.clearRect(\n",
       "        0, 0, fig.canvas.width / mpl.ratio, fig.canvas.height / mpl.ratio);\n",
       "\n",
       "    fig.rubberband_context.strokeRect(min_x, min_y, width, height);\n",
       "}\n",
       "\n",
       "mpl.figure.prototype.handle_figure_label = function(fig, msg) {\n",
       "    // Updates the figure title.\n",
       "    fig.header.textContent = msg['label'];\n",
       "}\n",
       "\n",
       "mpl.figure.prototype.handle_cursor = function(fig, msg) {\n",
       "    var cursor = msg['cursor'];\n",
       "    switch(cursor)\n",
       "    {\n",
       "    case 0:\n",
       "        cursor = 'pointer';\n",
       "        break;\n",
       "    case 1:\n",
       "        cursor = 'default';\n",
       "        break;\n",
       "    case 2:\n",
       "        cursor = 'crosshair';\n",
       "        break;\n",
       "    case 3:\n",
       "        cursor = 'move';\n",
       "        break;\n",
       "    }\n",
       "    fig.rubberband_canvas.style.cursor = cursor;\n",
       "}\n",
       "\n",
       "mpl.figure.prototype.handle_message = function(fig, msg) {\n",
       "    fig.message.textContent = msg['message'];\n",
       "}\n",
       "\n",
       "mpl.figure.prototype.handle_draw = function(fig, msg) {\n",
       "    // Request the server to send over a new figure.\n",
       "    fig.send_draw_message();\n",
       "}\n",
       "\n",
       "mpl.figure.prototype.handle_image_mode = function(fig, msg) {\n",
       "    fig.image_mode = msg['mode'];\n",
       "}\n",
       "\n",
       "mpl.figure.prototype.updated_canvas_event = function() {\n",
       "    // Called whenever the canvas gets updated.\n",
       "    this.send_message(\"ack\", {});\n",
       "}\n",
       "\n",
       "// A function to construct a web socket function for onmessage handling.\n",
       "// Called in the figure constructor.\n",
       "mpl.figure.prototype._make_on_message_function = function(fig) {\n",
       "    return function socket_on_message(evt) {\n",
       "        if (evt.data instanceof Blob) {\n",
       "            /* FIXME: We get \"Resource interpreted as Image but\n",
       "             * transferred with MIME type text/plain:\" errors on\n",
       "             * Chrome.  But how to set the MIME type?  It doesn't seem\n",
       "             * to be part of the websocket stream */\n",
       "            evt.data.type = \"image/png\";\n",
       "\n",
       "            /* Free the memory for the previous frames */\n",
       "            if (fig.imageObj.src) {\n",
       "                (window.URL || window.webkitURL).revokeObjectURL(\n",
       "                    fig.imageObj.src);\n",
       "            }\n",
       "\n",
       "            fig.imageObj.src = (window.URL || window.webkitURL).createObjectURL(\n",
       "                evt.data);\n",
       "            fig.updated_canvas_event();\n",
       "            fig.waiting = false;\n",
       "            return;\n",
       "        }\n",
       "        else if (typeof evt.data === 'string' && evt.data.slice(0, 21) == \"data:image/png;base64\") {\n",
       "            fig.imageObj.src = evt.data;\n",
       "            fig.updated_canvas_event();\n",
       "            fig.waiting = false;\n",
       "            return;\n",
       "        }\n",
       "\n",
       "        var msg = JSON.parse(evt.data);\n",
       "        var msg_type = msg['type'];\n",
       "\n",
       "        // Call the  \"handle_{type}\" callback, which takes\n",
       "        // the figure and JSON message as its only arguments.\n",
       "        try {\n",
       "            var callback = fig[\"handle_\" + msg_type];\n",
       "        } catch (e) {\n",
       "            console.log(\"No handler for the '\" + msg_type + \"' message type: \", msg);\n",
       "            return;\n",
       "        }\n",
       "\n",
       "        if (callback) {\n",
       "            try {\n",
       "                // console.log(\"Handling '\" + msg_type + \"' message: \", msg);\n",
       "                callback(fig, msg);\n",
       "            } catch (e) {\n",
       "                console.log(\"Exception inside the 'handler_\" + msg_type + \"' callback:\", e, e.stack, msg);\n",
       "            }\n",
       "        }\n",
       "    };\n",
       "}\n",
       "\n",
       "// from http://stackoverflow.com/questions/1114465/getting-mouse-location-in-canvas\n",
       "mpl.findpos = function(e) {\n",
       "    //this section is from http://www.quirksmode.org/js/events_properties.html\n",
       "    var targ;\n",
       "    if (!e)\n",
       "        e = window.event;\n",
       "    if (e.target)\n",
       "        targ = e.target;\n",
       "    else if (e.srcElement)\n",
       "        targ = e.srcElement;\n",
       "    if (targ.nodeType == 3) // defeat Safari bug\n",
       "        targ = targ.parentNode;\n",
       "\n",
       "    // jQuery normalizes the pageX and pageY\n",
       "    // pageX,Y are the mouse positions relative to the document\n",
       "    // offset() returns the position of the element relative to the document\n",
       "    var x = e.pageX - $(targ).offset().left;\n",
       "    var y = e.pageY - $(targ).offset().top;\n",
       "\n",
       "    return {\"x\": x, \"y\": y};\n",
       "};\n",
       "\n",
       "/*\n",
       " * return a copy of an object with only non-object keys\n",
       " * we need this to avoid circular references\n",
       " * http://stackoverflow.com/a/24161582/3208463\n",
       " */\n",
       "function simpleKeys (original) {\n",
       "  return Object.keys(original).reduce(function (obj, key) {\n",
       "    if (typeof original[key] !== 'object')\n",
       "        obj[key] = original[key]\n",
       "    return obj;\n",
       "  }, {});\n",
       "}\n",
       "\n",
       "mpl.figure.prototype.mouse_event = function(event, name) {\n",
       "    var canvas_pos = mpl.findpos(event)\n",
       "\n",
       "    if (name === 'button_press')\n",
       "    {\n",
       "        this.canvas.focus();\n",
       "        this.canvas_div.focus();\n",
       "    }\n",
       "\n",
       "    var x = canvas_pos.x * mpl.ratio;\n",
       "    var y = canvas_pos.y * mpl.ratio;\n",
       "\n",
       "    this.send_message(name, {x: x, y: y, button: event.button,\n",
       "                             step: event.step,\n",
       "                             guiEvent: simpleKeys(event)});\n",
       "\n",
       "    /* This prevents the web browser from automatically changing to\n",
       "     * the text insertion cursor when the button is pressed.  We want\n",
       "     * to control all of the cursor setting manually through the\n",
       "     * 'cursor' event from matplotlib */\n",
       "    event.preventDefault();\n",
       "    return false;\n",
       "}\n",
       "\n",
       "mpl.figure.prototype._key_event_extra = function(event, name) {\n",
       "    // Handle any extra behaviour associated with a key event\n",
       "}\n",
       "\n",
       "mpl.figure.prototype.key_event = function(event, name) {\n",
       "\n",
       "    // Prevent repeat events\n",
       "    if (name == 'key_press')\n",
       "    {\n",
       "        if (event.which === this._key)\n",
       "            return;\n",
       "        else\n",
       "            this._key = event.which;\n",
       "    }\n",
       "    if (name == 'key_release')\n",
       "        this._key = null;\n",
       "\n",
       "    var value = '';\n",
       "    if (event.ctrlKey && event.which != 17)\n",
       "        value += \"ctrl+\";\n",
       "    if (event.altKey && event.which != 18)\n",
       "        value += \"alt+\";\n",
       "    if (event.shiftKey && event.which != 16)\n",
       "        value += \"shift+\";\n",
       "\n",
       "    value += 'k';\n",
       "    value += event.which.toString();\n",
       "\n",
       "    this._key_event_extra(event, name);\n",
       "\n",
       "    this.send_message(name, {key: value,\n",
       "                             guiEvent: simpleKeys(event)});\n",
       "    return false;\n",
       "}\n",
       "\n",
       "mpl.figure.prototype.toolbar_button_onclick = function(name) {\n",
       "    if (name == 'download') {\n",
       "        this.handle_save(this, null);\n",
       "    } else {\n",
       "        this.send_message(\"toolbar_button\", {name: name});\n",
       "    }\n",
       "};\n",
       "\n",
       "mpl.figure.prototype.toolbar_button_onmouseover = function(tooltip) {\n",
       "    this.message.textContent = tooltip;\n",
       "};\n",
       "mpl.toolbar_items = [[\"Home\", \"Reset original view\", \"fa fa-home icon-home\", \"home\"], [\"Back\", \"Back to previous view\", \"fa fa-arrow-left icon-arrow-left\", \"back\"], [\"Forward\", \"Forward to next view\", \"fa fa-arrow-right icon-arrow-right\", \"forward\"], [\"\", \"\", \"\", \"\"], [\"Pan\", \"Pan axes with left mouse, zoom with right\", \"fa fa-arrows icon-move\", \"pan\"], [\"Zoom\", \"Zoom to rectangle\", \"fa fa-square-o icon-check-empty\", \"zoom\"], [\"\", \"\", \"\", \"\"], [\"Download\", \"Download plot\", \"fa fa-floppy-o icon-save\", \"download\"]];\n",
       "\n",
       "mpl.extensions = [\"eps\", \"jpeg\", \"pdf\", \"png\", \"ps\", \"raw\", \"svg\", \"tif\"];\n",
       "\n",
       "mpl.default_extension = \"png\";var comm_websocket_adapter = function(comm) {\n",
       "    // Create a \"websocket\"-like object which calls the given IPython comm\n",
       "    // object with the appropriate methods. Currently this is a non binary\n",
       "    // socket, so there is still some room for performance tuning.\n",
       "    var ws = {};\n",
       "\n",
       "    ws.close = function() {\n",
       "        comm.close()\n",
       "    };\n",
       "    ws.send = function(m) {\n",
       "        //console.log('sending', m);\n",
       "        comm.send(m);\n",
       "    };\n",
       "    // Register the callback with on_msg.\n",
       "    comm.on_msg(function(msg) {\n",
       "        //console.log('receiving', msg['content']['data'], msg);\n",
       "        // Pass the mpl event to the overridden (by mpl) onmessage function.\n",
       "        ws.onmessage(msg['content']['data'])\n",
       "    });\n",
       "    return ws;\n",
       "}\n",
       "\n",
       "mpl.mpl_figure_comm = function(comm, msg) {\n",
       "    // This is the function which gets called when the mpl process\n",
       "    // starts-up an IPython Comm through the \"matplotlib\" channel.\n",
       "\n",
       "    var id = msg.content.data.id;\n",
       "    // Get hold of the div created by the display call when the Comm\n",
       "    // socket was opened in Python.\n",
       "    var element = $(\"#\" + id);\n",
       "    var ws_proxy = comm_websocket_adapter(comm)\n",
       "\n",
       "    function ondownload(figure, format) {\n",
       "        window.open(figure.imageObj.src);\n",
       "    }\n",
       "\n",
       "    var fig = new mpl.figure(id, ws_proxy,\n",
       "                           ondownload,\n",
       "                           element.get(0));\n",
       "\n",
       "    // Call onopen now - mpl needs it, as it is assuming we've passed it a real\n",
       "    // web socket which is closed, not our websocket->open comm proxy.\n",
       "    ws_proxy.onopen();\n",
       "\n",
       "    fig.parent_element = element.get(0);\n",
       "    fig.cell_info = mpl.find_output_cell(\"<div id='\" + id + \"'></div>\");\n",
       "    if (!fig.cell_info) {\n",
       "        console.error(\"Failed to find cell for figure\", id, fig);\n",
       "        return;\n",
       "    }\n",
       "\n",
       "    var output_index = fig.cell_info[2]\n",
       "    var cell = fig.cell_info[0];\n",
       "\n",
       "};\n",
       "\n",
       "mpl.figure.prototype.handle_close = function(fig, msg) {\n",
       "    var width = fig.canvas.width/mpl.ratio\n",
       "    fig.root.unbind('remove')\n",
       "\n",
       "    // Update the output cell to use the data from the current canvas.\n",
       "    fig.push_to_output();\n",
       "    var dataURL = fig.canvas.toDataURL();\n",
       "    // Re-enable the keyboard manager in IPython - without this line, in FF,\n",
       "    // the notebook keyboard shortcuts fail.\n",
       "    IPython.keyboard_manager.enable()\n",
       "    $(fig.parent_element).html('<img src=\"' + dataURL + '\" width=\"' + width + '\">');\n",
       "    fig.close_ws(fig, msg);\n",
       "}\n",
       "\n",
       "mpl.figure.prototype.close_ws = function(fig, msg){\n",
       "    fig.send_message('closing', msg);\n",
       "    // fig.ws.close()\n",
       "}\n",
       "\n",
       "mpl.figure.prototype.push_to_output = function(remove_interactive) {\n",
       "    // Turn the data on the canvas into data in the output cell.\n",
       "    var width = this.canvas.width/mpl.ratio\n",
       "    var dataURL = this.canvas.toDataURL();\n",
       "    this.cell_info[1]['text/html'] = '<img src=\"' + dataURL + '\" width=\"' + width + '\">';\n",
       "}\n",
       "\n",
       "mpl.figure.prototype.updated_canvas_event = function() {\n",
       "    // Tell IPython that the notebook contents must change.\n",
       "    IPython.notebook.set_dirty(true);\n",
       "    this.send_message(\"ack\", {});\n",
       "    var fig = this;\n",
       "    // Wait a second, then push the new image to the DOM so\n",
       "    // that it is saved nicely (might be nice to debounce this).\n",
       "    setTimeout(function () { fig.push_to_output() }, 1000);\n",
       "}\n",
       "\n",
       "mpl.figure.prototype._init_toolbar = function() {\n",
       "    var fig = this;\n",
       "\n",
       "    var nav_element = $('<div/>');\n",
       "    nav_element.attr('style', 'width: 100%');\n",
       "    this.root.append(nav_element);\n",
       "\n",
       "    // Define a callback function for later on.\n",
       "    function toolbar_event(event) {\n",
       "        return fig.toolbar_button_onclick(event['data']);\n",
       "    }\n",
       "    function toolbar_mouse_event(event) {\n",
       "        return fig.toolbar_button_onmouseover(event['data']);\n",
       "    }\n",
       "\n",
       "    for(var toolbar_ind in mpl.toolbar_items){\n",
       "        var name = mpl.toolbar_items[toolbar_ind][0];\n",
       "        var tooltip = mpl.toolbar_items[toolbar_ind][1];\n",
       "        var image = mpl.toolbar_items[toolbar_ind][2];\n",
       "        var method_name = mpl.toolbar_items[toolbar_ind][3];\n",
       "\n",
       "        if (!name) { continue; };\n",
       "\n",
       "        var button = $('<button class=\"btn btn-default\" href=\"#\" title=\"' + name + '\"><i class=\"fa ' + image + ' fa-lg\"></i></button>');\n",
       "        button.click(method_name, toolbar_event);\n",
       "        button.mouseover(tooltip, toolbar_mouse_event);\n",
       "        nav_element.append(button);\n",
       "    }\n",
       "\n",
       "    // Add the status bar.\n",
       "    var status_bar = $('<span class=\"mpl-message\" style=\"text-align:right; float: right;\"/>');\n",
       "    nav_element.append(status_bar);\n",
       "    this.message = status_bar[0];\n",
       "\n",
       "    // Add the close button to the window.\n",
       "    var buttongrp = $('<div class=\"btn-group inline pull-right\"></div>');\n",
       "    var button = $('<button class=\"btn btn-mini btn-primary\" href=\"#\" title=\"Stop Interaction\"><i class=\"fa fa-power-off icon-remove icon-large\"></i></button>');\n",
       "    button.click(function (evt) { fig.handle_close(fig, {}); } );\n",
       "    button.mouseover('Stop Interaction', toolbar_mouse_event);\n",
       "    buttongrp.append(button);\n",
       "    var titlebar = this.root.find($('.ui-dialog-titlebar'));\n",
       "    titlebar.prepend(buttongrp);\n",
       "}\n",
       "\n",
       "mpl.figure.prototype._root_extra_style = function(el){\n",
       "    var fig = this\n",
       "    el.on(\"remove\", function(){\n",
       "\tfig.close_ws(fig, {});\n",
       "    });\n",
       "}\n",
       "\n",
       "mpl.figure.prototype._canvas_extra_style = function(el){\n",
       "    // this is important to make the div 'focusable\n",
       "    el.attr('tabindex', 0)\n",
       "    // reach out to IPython and tell the keyboard manager to turn it's self\n",
       "    // off when our div gets focus\n",
       "\n",
       "    // location in version 3\n",
       "    if (IPython.notebook.keyboard_manager) {\n",
       "        IPython.notebook.keyboard_manager.register_events(el);\n",
       "    }\n",
       "    else {\n",
       "        // location in version 2\n",
       "        IPython.keyboard_manager.register_events(el);\n",
       "    }\n",
       "\n",
       "}\n",
       "\n",
       "mpl.figure.prototype._key_event_extra = function(event, name) {\n",
       "    var manager = IPython.notebook.keyboard_manager;\n",
       "    if (!manager)\n",
       "        manager = IPython.keyboard_manager;\n",
       "\n",
       "    // Check for shift+enter\n",
       "    if (event.shiftKey && event.which == 13) {\n",
       "        this.canvas_div.blur();\n",
       "        // select the cell after this one\n",
       "        var index = IPython.notebook.find_cell_index(this.cell_info[0]);\n",
       "        IPython.notebook.select(index + 1);\n",
       "    }\n",
       "}\n",
       "\n",
       "mpl.figure.prototype.handle_save = function(fig, msg) {\n",
       "    fig.ondownload(fig, null);\n",
       "}\n",
       "\n",
       "\n",
       "mpl.find_output_cell = function(html_output) {\n",
       "    // Return the cell and output element which can be found *uniquely* in the notebook.\n",
       "    // Note - this is a bit hacky, but it is done because the \"notebook_saving.Notebook\"\n",
       "    // IPython event is triggered only after the cells have been serialised, which for\n",
       "    // our purposes (turning an active figure into a static one), is too late.\n",
       "    var cells = IPython.notebook.get_cells();\n",
       "    var ncells = cells.length;\n",
       "    for (var i=0; i<ncells; i++) {\n",
       "        var cell = cells[i];\n",
       "        if (cell.cell_type === 'code'){\n",
       "            for (var j=0; j<cell.output_area.outputs.length; j++) {\n",
       "                var data = cell.output_area.outputs[j];\n",
       "                if (data.data) {\n",
       "                    // IPython >= 3 moved mimebundle to data attribute of output\n",
       "                    data = data.data;\n",
       "                }\n",
       "                if (data['text/html'] == html_output) {\n",
       "                    return [cell, data, j];\n",
       "                }\n",
       "            }\n",
       "        }\n",
       "    }\n",
       "}\n",
       "\n",
       "// Register the function which deals with the matplotlib target/channel.\n",
       "// The kernel may be null if the page has been refreshed.\n",
       "if (IPython.notebook.kernel != null) {\n",
       "    IPython.notebook.kernel.comm_manager.register_target('matplotlib', mpl.mpl_figure_comm);\n",
       "}\n"
      ],
      "text/plain": [
       "<IPython.core.display.Javascript object>"
      ]
     },
     "metadata": {},
     "output_type": "display_data"
    },
    {
     "data": {
      "text/html": [
       "<img src=\"data:image/png;base64,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\" width=\"1000\">"
      ],
      "text/plain": [
       "<IPython.core.display.HTML object>"
      ]
     },
     "metadata": {},
     "output_type": "display_data"
    }
   ],
   "source": [
    "ax, tax, lax, lines = dual_train_plots()\n",
    "fig = ax.figure\n",
    "plt.tight_layout()"
   ]
  },
  {
   "cell_type": "code",
   "execution_count": 17,
   "metadata": {
    "scrolled": false
   },
   "outputs": [
    {
     "name": "stdout",
     "output_type": "stream",
     "text": [
      "Number of batches: train = 6667, val = 209\n"
     ]
    },
    {
     "data": {
      "application/vnd.jupyter.widget-view+json": {
       "model_id": "28d378d40aed4531bd3d39e1b75ac306",
       "version_major": 2,
       "version_minor": 0
      },
      "text/plain": [
       "HBox(children=(FloatProgress(value=0.0, description='Epochs', layout=Layout(flex='2'), max=75.0, style=Progres…"
      ]
     },
     "metadata": {},
     "output_type": "display_data"
    },
    {
     "name": "stdout",
     "output_type": "stream",
     "text": [
      "Number of batches: train = 6667, val = 209\n"
     ]
    },
    {
     "data": {
      "application/vnd.jupyter.widget-view+json": {
       "model_id": "",
       "version_major": 2,
       "version_minor": 0
      },
      "text/plain": [
       "HBox(children=(FloatProgress(value=0.0, description='Training', layout=Layout(flex='2'), max=6667.0, style=Pro…"
      ]
     },
     "metadata": {},
     "output_type": "display_data"
    },
    {
     "name": "stdout",
     "output_type": "stream",
     "text": [
      "Epoch 0: train=4.57325, val=3.91186, took 543.54 s\n"
     ]
    },
    {
     "data": {
      "application/vnd.jupyter.widget-view+json": {
       "model_id": "",
       "version_major": 2,
       "version_minor": 0
      },
      "text/plain": [
       "HBox(children=(FloatProgress(value=0.0, description='Training', layout=Layout(flex='2'), max=6667.0, style=Pro…"
      ]
     },
     "metadata": {},
     "output_type": "display_data"
    },
    {
     "name": "stdout",
     "output_type": "stream",
     "text": [
      "Epoch 1: train=4.50301, val=3.52068, took 555.68 s\n"
     ]
    },
    {
     "data": {
      "application/vnd.jupyter.widget-view+json": {
       "model_id": "",
       "version_major": 2,
       "version_minor": 0
      },
      "text/plain": [
       "HBox(children=(FloatProgress(value=0.0, description='Training', layout=Layout(flex='2'), max=6667.0, style=Pro…"
      ]
     },
     "metadata": {},
     "output_type": "display_data"
    },
    {
     "name": "stdout",
     "output_type": "stream",
     "text": [
      "Epoch 2: train=4.53422, val=4.10286, took 549.53 s\n"
     ]
    },
    {
     "data": {
      "application/vnd.jupyter.widget-view+json": {
       "model_id": "",
       "version_major": 2,
       "version_minor": 0
      },
      "text/plain": [
       "HBox(children=(FloatProgress(value=0.0, description='Training', layout=Layout(flex='2'), max=6667.0, style=Pro…"
      ]
     },
     "metadata": {},
     "output_type": "display_data"
    },
    {
     "name": "stdout",
     "output_type": "stream",
     "text": [
      "Epoch 3: train=4.49699, val=3.55556, took 549.88 s\n"
     ]
    },
    {
     "data": {
      "application/vnd.jupyter.widget-view+json": {
       "model_id": "",
       "version_major": 2,
       "version_minor": 0
      },
      "text/plain": [
       "HBox(children=(FloatProgress(value=0.0, description='Training', layout=Layout(flex='2'), max=6667.0, style=Pro…"
      ]
     },
     "metadata": {},
     "output_type": "display_data"
    },
    {
     "name": "stdout",
     "output_type": "stream",
     "text": [
      "Epoch 4: train=4.52537, val=3.71327, took 554.3 s\n"
     ]
    },
    {
     "data": {
      "application/vnd.jupyter.widget-view+json": {
       "model_id": "",
       "version_major": 2,
       "version_minor": 0
      },
      "text/plain": [
       "HBox(children=(FloatProgress(value=0.0, description='Training', layout=Layout(flex='2'), max=6667.0, style=Pro…"
      ]
     },
     "metadata": {},
     "output_type": "display_data"
    },
    {
     "name": "stdout",
     "output_type": "stream",
     "text": [
      "Epoch 5: train=4.50377, val=3.44863, took 554.34 s\n"
     ]
    },
    {
     "data": {
      "application/vnd.jupyter.widget-view+json": {
       "model_id": "",
       "version_major": 2,
       "version_minor": 0
      },
      "text/plain": [
       "HBox(children=(FloatProgress(value=0.0, description='Training', layout=Layout(flex='2'), max=6667.0, style=Pro…"
      ]
     },
     "metadata": {},
     "output_type": "display_data"
    },
    {
     "name": "stdout",
     "output_type": "stream",
     "text": [
      "Epoch 6: train=4.47297, val=3.48694, took 554.34 s\n"
     ]
    },
    {
     "data": {
      "application/vnd.jupyter.widget-view+json": {
       "model_id": "",
       "version_major": 2,
       "version_minor": 0
      },
      "text/plain": [
       "HBox(children=(FloatProgress(value=0.0, description='Training', layout=Layout(flex='2'), max=6667.0, style=Pro…"
      ]
     },
     "metadata": {},
     "output_type": "display_data"
    },
    {
     "name": "stdout",
     "output_type": "stream",
     "text": [
      "Epoch 7: train=4.48899, val=3.43117, took 632.11 s\n"
     ]
    },
    {
     "data": {
      "application/vnd.jupyter.widget-view+json": {
       "model_id": "",
       "version_major": 2,
       "version_minor": 0
      },
      "text/plain": [
       "HBox(children=(FloatProgress(value=0.0, description='Training', layout=Layout(flex='2'), max=6667.0, style=Pro…"
      ]
     },
     "metadata": {},
     "output_type": "display_data"
    },
    {
     "name": "stdout",
     "output_type": "stream",
     "text": [
      "Epoch 8: train=4.47419, val=3.80731, took 568.58 s\n"
     ]
    },
    {
     "data": {
      "application/vnd.jupyter.widget-view+json": {
       "model_id": "",
       "version_major": 2,
       "version_minor": 0
      },
      "text/plain": [
       "HBox(children=(FloatProgress(value=0.0, description='Training', layout=Layout(flex='2'), max=6667.0, style=Pro…"
      ]
     },
     "metadata": {},
     "output_type": "display_data"
    },
    {
     "name": "stdout",
     "output_type": "stream",
     "text": [
      "Epoch 9: train=4.56293, val=3.55986, took 553.19 s\n"
     ]
    },
    {
     "data": {
      "application/vnd.jupyter.widget-view+json": {
       "model_id": "",
       "version_major": 2,
       "version_minor": 0
      },
      "text/plain": [
       "HBox(children=(FloatProgress(value=0.0, description='Training', layout=Layout(flex='2'), max=6667.0, style=Pro…"
      ]
     },
     "metadata": {},
     "output_type": "display_data"
    },
    {
     "name": "stdout",
     "output_type": "stream",
     "text": [
      "Epoch 10: train=4.46127, val=3.51017, took 551.96 s\n"
     ]
    },
    {
     "data": {
      "application/vnd.jupyter.widget-view+json": {
       "model_id": "",
       "version_major": 2,
       "version_minor": 0
      },
      "text/plain": [
       "HBox(children=(FloatProgress(value=0.0, description='Training', layout=Layout(flex='2'), max=6667.0, style=Pro…"
      ]
     },
     "metadata": {},
     "output_type": "display_data"
    },
    {
     "name": "stdout",
     "output_type": "stream",
     "text": [
      "Epoch 11: train=4.49289, val=3.88226, took 551.59 s\n"
     ]
    },
    {
     "data": {
      "application/vnd.jupyter.widget-view+json": {
       "model_id": "",
       "version_major": 2,
       "version_minor": 0
      },
      "text/plain": [
       "HBox(children=(FloatProgress(value=0.0, description='Training', layout=Layout(flex='2'), max=6667.0, style=Pro…"
      ]
     },
     "metadata": {},
     "output_type": "display_data"
    },
    {
     "name": "stdout",
     "output_type": "stream",
     "text": [
      "Epoch 12: train=4.47161, val=4.07603, took 549.56 s\n"
     ]
    },
    {
     "data": {
      "application/vnd.jupyter.widget-view+json": {
       "model_id": "",
       "version_major": 2,
       "version_minor": 0
      },
      "text/plain": [
       "HBox(children=(FloatProgress(value=0.0, description='Training', layout=Layout(flex='2'), max=6667.0, style=Pro…"
      ]
     },
     "metadata": {},
     "output_type": "display_data"
    },
    {
     "name": "stdout",
     "output_type": "stream",
     "text": [
      "Epoch 13: train=4.47258, val=3.67161, took 550.15 s\n"
     ]
    },
    {
     "data": {
      "application/vnd.jupyter.widget-view+json": {
       "model_id": "",
       "version_major": 2,
       "version_minor": 0
      },
      "text/plain": [
       "HBox(children=(FloatProgress(value=0.0, description='Training', layout=Layout(flex='2'), max=6667.0, style=Pro…"
      ]
     },
     "metadata": {},
     "output_type": "display_data"
    },
    {
     "name": "stdout",
     "output_type": "stream",
     "text": [
      "Epoch 14: train=4.4946, val=3.49874, took 549.49 s\n"
     ]
    },
    {
     "data": {
      "application/vnd.jupyter.widget-view+json": {
       "model_id": "",
       "version_major": 2,
       "version_minor": 0
      },
      "text/plain": [
       "HBox(children=(FloatProgress(value=0.0, description='Training', layout=Layout(flex='2'), max=6667.0, style=Pro…"
      ]
     },
     "metadata": {},
     "output_type": "display_data"
    },
    {
     "name": "stdout",
     "output_type": "stream",
     "text": [
      "Epoch 15: train=4.47833, val=3.48503, took 549.74 s\n"
     ]
    },
    {
     "data": {
      "application/vnd.jupyter.widget-view+json": {
       "model_id": "",
       "version_major": 2,
       "version_minor": 0
      },
      "text/plain": [
       "HBox(children=(FloatProgress(value=0.0, description='Training', layout=Layout(flex='2'), max=6667.0, style=Pro…"
      ]
     },
     "metadata": {},
     "output_type": "display_data"
    },
    {
     "name": "stdout",
     "output_type": "stream",
     "text": [
      "Epoch 16: train=4.44963, val=3.69824, took 553.8 s\n"
     ]
    },
    {
     "data": {
      "application/vnd.jupyter.widget-view+json": {
       "model_id": "",
       "version_major": 2,
       "version_minor": 0
      },
      "text/plain": [
       "HBox(children=(FloatProgress(value=0.0, description='Training', layout=Layout(flex='2'), max=6667.0, style=Pro…"
      ]
     },
     "metadata": {},
     "output_type": "display_data"
    },
    {
     "name": "stdout",
     "output_type": "stream",
     "text": [
      "Epoch 17: train=4.46132, val=3.45847, took 550.74 s\n"
     ]
    },
    {
     "data": {
      "application/vnd.jupyter.widget-view+json": {
       "model_id": "",
       "version_major": 2,
       "version_minor": 0
      },
      "text/plain": [
       "HBox(children=(FloatProgress(value=0.0, description='Training', layout=Layout(flex='2'), max=6667.0, style=Pro…"
      ]
     },
     "metadata": {},
     "output_type": "display_data"
    },
    {
     "name": "stdout",
     "output_type": "stream",
     "text": [
      "Epoch 18: train=4.47131, val=4.17682, took 549.96 s\n"
     ]
    },
    {
     "data": {
      "application/vnd.jupyter.widget-view+json": {
       "model_id": "",
       "version_major": 2,
       "version_minor": 0
      },
      "text/plain": [
       "HBox(children=(FloatProgress(value=0.0, description='Training', layout=Layout(flex='2'), max=6667.0, style=Pro…"
      ]
     },
     "metadata": {},
     "output_type": "display_data"
    },
    {
     "name": "stdout",
     "output_type": "stream",
     "text": [
      "Epoch 19: train=4.48189, val=3.57142, took 551.57 s\n"
     ]
    },
    {
     "data": {
      "application/vnd.jupyter.widget-view+json": {
       "model_id": "",
       "version_major": 2,
       "version_minor": 0
      },
      "text/plain": [
       "HBox(children=(FloatProgress(value=0.0, description='Training', layout=Layout(flex='2'), max=6667.0, style=Pro…"
      ]
     },
     "metadata": {},
     "output_type": "display_data"
    },
    {
     "name": "stdout",
     "output_type": "stream",
     "text": [
      "Epoch 20: train=4.46883, val=3.49244, took 550.62 s\n"
     ]
    },
    {
     "data": {
      "application/vnd.jupyter.widget-view+json": {
       "model_id": "",
       "version_major": 2,
       "version_minor": 0
      },
      "text/plain": [
       "HBox(children=(FloatProgress(value=0.0, description='Training', layout=Layout(flex='2'), max=6667.0, style=Pro…"
      ]
     },
     "metadata": {},
     "output_type": "display_data"
    },
    {
     "name": "stdout",
     "output_type": "stream",
     "text": [
      "Epoch 21: train=4.44727, val=3.44151, took 548.47 s\n"
     ]
    },
    {
     "data": {
      "application/vnd.jupyter.widget-view+json": {
       "model_id": "",
       "version_major": 2,
       "version_minor": 0
      },
      "text/plain": [
       "HBox(children=(FloatProgress(value=0.0, description='Training', layout=Layout(flex='2'), max=6667.0, style=Pro…"
      ]
     },
     "metadata": {},
     "output_type": "display_data"
    },
    {
     "name": "stdout",
     "output_type": "stream",
     "text": [
      "Epoch 22: train=4.44065, val=3.36604, took 548.86 s\n"
     ]
    },
    {
     "data": {
      "application/vnd.jupyter.widget-view+json": {
       "model_id": "",
       "version_major": 2,
       "version_minor": 0
      },
      "text/plain": [
       "HBox(children=(FloatProgress(value=0.0, description='Training', layout=Layout(flex='2'), max=6667.0, style=Pro…"
      ]
     },
     "metadata": {},
     "output_type": "display_data"
    },
    {
     "name": "stdout",
     "output_type": "stream",
     "text": [
      "Epoch 23: train=4.44363, val=3.40312, took 551.27 s\n"
     ]
    },
    {
     "data": {
      "application/vnd.jupyter.widget-view+json": {
       "model_id": "",
       "version_major": 2,
       "version_minor": 0
      },
      "text/plain": [
       "HBox(children=(FloatProgress(value=0.0, description='Training', layout=Layout(flex='2'), max=6667.0, style=Pro…"
      ]
     },
     "metadata": {},
     "output_type": "display_data"
    },
    {
     "name": "stdout",
     "output_type": "stream",
     "text": [
      "Epoch 24: train=4.44812, val=3.56344, took 547.58 s\n"
     ]
    },
    {
     "data": {
      "application/vnd.jupyter.widget-view+json": {
       "model_id": "",
       "version_major": 2,
       "version_minor": 0
      },
      "text/plain": [
       "HBox(children=(FloatProgress(value=0.0, description='Training', layout=Layout(flex='2'), max=6667.0, style=Pro…"
      ]
     },
     "metadata": {},
     "output_type": "display_data"
    },
    {
     "name": "stdout",
     "output_type": "stream",
     "text": [
      "Epoch 25: train=4.42581, val=3.75785, took 548.53 s\n"
     ]
    },
    {
     "data": {
      "application/vnd.jupyter.widget-view+json": {
       "model_id": "",
       "version_major": 2,
       "version_minor": 0
      },
      "text/plain": [
       "HBox(children=(FloatProgress(value=0.0, description='Training', layout=Layout(flex='2'), max=6667.0, style=Pro…"
      ]
     },
     "metadata": {},
     "output_type": "display_data"
    },
    {
     "name": "stdout",
     "output_type": "stream",
     "text": [
      "Epoch 26: train=4.45298, val=3.36993, took 547.62 s\n"
     ]
    },
    {
     "data": {
      "application/vnd.jupyter.widget-view+json": {
       "model_id": "",
       "version_major": 2,
       "version_minor": 0
      },
      "text/plain": [
       "HBox(children=(FloatProgress(value=0.0, description='Training', layout=Layout(flex='2'), max=6667.0, style=Pro…"
      ]
     },
     "metadata": {},
     "output_type": "display_data"
    },
    {
     "name": "stdout",
     "output_type": "stream",
     "text": [
      "Epoch 27: train=4.45332, val=3.39241, took 549.02 s\n"
     ]
    },
    {
     "data": {
      "application/vnd.jupyter.widget-view+json": {
       "model_id": "",
       "version_major": 2,
       "version_minor": 0
      },
      "text/plain": [
       "HBox(children=(FloatProgress(value=0.0, description='Training', layout=Layout(flex='2'), max=6667.0, style=Pro…"
      ]
     },
     "metadata": {},
     "output_type": "display_data"
    },
    {
     "name": "stdout",
     "output_type": "stream",
     "text": [
      "Epoch 28: train=4.45378, val=3.94651, took 554.21 s\n"
     ]
    },
    {
     "data": {
      "application/vnd.jupyter.widget-view+json": {
       "model_id": "",
       "version_major": 2,
       "version_minor": 0
      },
      "text/plain": [
       "HBox(children=(FloatProgress(value=0.0, description='Training', layout=Layout(flex='2'), max=6667.0, style=Pro…"
      ]
     },
     "metadata": {},
     "output_type": "display_data"
    },
    {
     "name": "stdout",
     "output_type": "stream",
     "text": [
      "Epoch 29: train=4.44541, val=3.34772, took 556.92 s\n"
     ]
    },
    {
     "data": {
      "application/vnd.jupyter.widget-view+json": {
       "model_id": "",
       "version_major": 2,
       "version_minor": 0
      },
      "text/plain": [
       "HBox(children=(FloatProgress(value=0.0, description='Training', layout=Layout(flex='2'), max=6667.0, style=Pro…"
      ]
     },
     "metadata": {},
     "output_type": "display_data"
    },
    {
     "name": "stdout",
     "output_type": "stream",
     "text": [
      "Epoch 30: train=4.43128, val=3.38452, took 654.92 s\n"
     ]
    },
    {
     "data": {
      "application/vnd.jupyter.widget-view+json": {
       "model_id": "",
       "version_major": 2,
       "version_minor": 0
      },
      "text/plain": [
       "HBox(children=(FloatProgress(value=0.0, description='Training', layout=Layout(flex='2'), max=6667.0, style=Pro…"
      ]
     },
     "metadata": {},
     "output_type": "display_data"
    },
    {
     "name": "stdout",
     "output_type": "stream",
     "text": [
      "Epoch 31: train=4.44311, val=3.422, took 568.42 s\n"
     ]
    },
    {
     "data": {
      "application/vnd.jupyter.widget-view+json": {
       "model_id": "",
       "version_major": 2,
       "version_minor": 0
      },
      "text/plain": [
       "HBox(children=(FloatProgress(value=0.0, description='Training', layout=Layout(flex='2'), max=6667.0, style=Pro…"
      ]
     },
     "metadata": {},
     "output_type": "display_data"
    },
    {
     "name": "stdout",
     "output_type": "stream",
     "text": [
      "Epoch 32: train=4.43162, val=3.38891, took 556.35 s\n"
     ]
    },
    {
     "data": {
      "application/vnd.jupyter.widget-view+json": {
       "model_id": "",
       "version_major": 2,
       "version_minor": 0
      },
      "text/plain": [
       "HBox(children=(FloatProgress(value=0.0, description='Training', layout=Layout(flex='2'), max=6667.0, style=Pro…"
      ]
     },
     "metadata": {},
     "output_type": "display_data"
    },
    {
     "name": "stdout",
     "output_type": "stream",
     "text": [
      "Epoch 33: train=4.42098, val=3.48142, took 554.14 s\n"
     ]
    },
    {
     "data": {
      "application/vnd.jupyter.widget-view+json": {
       "model_id": "",
       "version_major": 2,
       "version_minor": 0
      },
      "text/plain": [
       "HBox(children=(FloatProgress(value=0.0, description='Training', layout=Layout(flex='2'), max=6667.0, style=Pro…"
      ]
     },
     "metadata": {},
     "output_type": "display_data"
    },
    {
     "name": "stdout",
     "output_type": "stream",
     "text": [
      "Epoch 34: train=4.41939, val=3.437, took 555.28 s\n"
     ]
    },
    {
     "data": {
      "application/vnd.jupyter.widget-view+json": {
       "model_id": "",
       "version_major": 2,
       "version_minor": 0
      },
      "text/plain": [
       "HBox(children=(FloatProgress(value=0.0, description='Training', layout=Layout(flex='2'), max=6667.0, style=Pro…"
      ]
     },
     "metadata": {},
     "output_type": "display_data"
    },
    {
     "name": "stdout",
     "output_type": "stream",
     "text": [
      "Epoch 35: train=4.38375, val=3.52124, took 555.64 s\n"
     ]
    },
    {
     "data": {
      "application/vnd.jupyter.widget-view+json": {
       "model_id": "",
       "version_major": 2,
       "version_minor": 0
      },
      "text/plain": [
       "HBox(children=(FloatProgress(value=0.0, description='Training', layout=Layout(flex='2'), max=6667.0, style=Pro…"
      ]
     },
     "metadata": {},
     "output_type": "display_data"
    },
    {
     "name": "stdout",
     "output_type": "stream",
     "text": [
      "Epoch 36: train=4.44938, val=3.35258, took 553.5 s\n"
     ]
    },
    {
     "data": {
      "application/vnd.jupyter.widget-view+json": {
       "model_id": "",
       "version_major": 2,
       "version_minor": 0
      },
      "text/plain": [
       "HBox(children=(FloatProgress(value=0.0, description='Training', layout=Layout(flex='2'), max=6667.0, style=Pro…"
      ]
     },
     "metadata": {},
     "output_type": "display_data"
    },
    {
     "name": "stdout",
     "output_type": "stream",
     "text": [
      "Epoch 37: train=4.38993, val=3.79961, took 555.28 s\n"
     ]
    },
    {
     "data": {
      "application/vnd.jupyter.widget-view+json": {
       "model_id": "",
       "version_major": 2,
       "version_minor": 0
      },
      "text/plain": [
       "HBox(children=(FloatProgress(value=0.0, description='Training', layout=Layout(flex='2'), max=6667.0, style=Pro…"
      ]
     },
     "metadata": {},
     "output_type": "display_data"
    },
    {
     "name": "stdout",
     "output_type": "stream",
     "text": [
      "Epoch 38: train=4.40507, val=3.64862, took 554.88 s\n"
     ]
    },
    {
     "data": {
      "application/vnd.jupyter.widget-view+json": {
       "model_id": "",
       "version_major": 2,
       "version_minor": 0
      },
      "text/plain": [
       "HBox(children=(FloatProgress(value=0.0, description='Training', layout=Layout(flex='2'), max=6667.0, style=Pro…"
      ]
     },
     "metadata": {},
     "output_type": "display_data"
    },
    {
     "name": "stdout",
     "output_type": "stream",
     "text": [
      "Epoch 39: train=4.43128, val=3.59035, took 553.93 s\n"
     ]
    },
    {
     "data": {
      "application/vnd.jupyter.widget-view+json": {
       "model_id": "",
       "version_major": 2,
       "version_minor": 0
      },
      "text/plain": [
       "HBox(children=(FloatProgress(value=0.0, description='Training', layout=Layout(flex='2'), max=6667.0, style=Pro…"
      ]
     },
     "metadata": {},
     "output_type": "display_data"
    },
    {
     "name": "stdout",
     "output_type": "stream",
     "text": [
      "Epoch 40: train=4.42112, val=3.56071, took 553.28 s\n"
     ]
    },
    {
     "data": {
      "application/vnd.jupyter.widget-view+json": {
       "model_id": "",
       "version_major": 2,
       "version_minor": 0
      },
      "text/plain": [
       "HBox(children=(FloatProgress(value=0.0, description='Training', layout=Layout(flex='2'), max=6667.0, style=Pro…"
      ]
     },
     "metadata": {},
     "output_type": "display_data"
    },
    {
     "name": "stdout",
     "output_type": "stream",
     "text": [
      "Epoch 41: train=4.39851, val=3.42066, took 557.39 s\n"
     ]
    },
    {
     "data": {
      "application/vnd.jupyter.widget-view+json": {
       "model_id": "",
       "version_major": 2,
       "version_minor": 0
      },
      "text/plain": [
       "HBox(children=(FloatProgress(value=0.0, description='Training', layout=Layout(flex='2'), max=6667.0, style=Pro…"
      ]
     },
     "metadata": {},
     "output_type": "display_data"
    },
    {
     "name": "stdout",
     "output_type": "stream",
     "text": [
      "Epoch 42: train=4.39285, val=3.37977, took 552.34 s\n"
     ]
    },
    {
     "data": {
      "application/vnd.jupyter.widget-view+json": {
       "model_id": "",
       "version_major": 2,
       "version_minor": 0
      },
      "text/plain": [
       "HBox(children=(FloatProgress(value=0.0, description='Training', layout=Layout(flex='2'), max=6667.0, style=Pro…"
      ]
     },
     "metadata": {},
     "output_type": "display_data"
    },
    {
     "name": "stdout",
     "output_type": "stream",
     "text": [
      "Epoch 43: train=4.39853, val=3.35419, took 557.32 s\n"
     ]
    },
    {
     "data": {
      "application/vnd.jupyter.widget-view+json": {
       "model_id": "",
       "version_major": 2,
       "version_minor": 0
      },
      "text/plain": [
       "HBox(children=(FloatProgress(value=0.0, description='Training', layout=Layout(flex='2'), max=6667.0, style=Pro…"
      ]
     },
     "metadata": {},
     "output_type": "display_data"
    },
    {
     "name": "stdout",
     "output_type": "stream",
     "text": [
      "Epoch 44: train=4.35907, val=3.38344, took 555.06 s\n"
     ]
    },
    {
     "data": {
      "application/vnd.jupyter.widget-view+json": {
       "model_id": "",
       "version_major": 2,
       "version_minor": 0
      },
      "text/plain": [
       "HBox(children=(FloatProgress(value=0.0, description='Training', layout=Layout(flex='2'), max=6667.0, style=Pro…"
      ]
     },
     "metadata": {},
     "output_type": "display_data"
    },
    {
     "name": "stdout",
     "output_type": "stream",
     "text": [
      "Epoch 45: train=4.37394, val=3.38217, took 556.79 s\n"
     ]
    },
    {
     "data": {
      "application/vnd.jupyter.widget-view+json": {
       "model_id": "",
       "version_major": 2,
       "version_minor": 0
      },
      "text/plain": [
       "HBox(children=(FloatProgress(value=0.0, description='Training', layout=Layout(flex='2'), max=6667.0, style=Pro…"
      ]
     },
     "metadata": {},
     "output_type": "display_data"
    },
    {
     "name": "stdout",
     "output_type": "stream",
     "text": [
      "Epoch 46: train=4.38302, val=3.86231, took 555.08 s\n"
     ]
    },
    {
     "data": {
      "application/vnd.jupyter.widget-view+json": {
       "model_id": "",
       "version_major": 2,
       "version_minor": 0
      },
      "text/plain": [
       "HBox(children=(FloatProgress(value=0.0, description='Training', layout=Layout(flex='2'), max=6667.0, style=Pro…"
      ]
     },
     "metadata": {},
     "output_type": "display_data"
    },
    {
     "name": "stdout",
     "output_type": "stream",
     "text": [
      "Epoch 47: train=4.38814, val=3.31381, took 554.99 s\n"
     ]
    },
    {
     "data": {
      "application/vnd.jupyter.widget-view+json": {
       "model_id": "",
       "version_major": 2,
       "version_minor": 0
      },
      "text/plain": [
       "HBox(children=(FloatProgress(value=0.0, description='Training', layout=Layout(flex='2'), max=6667.0, style=Pro…"
      ]
     },
     "metadata": {},
     "output_type": "display_data"
    },
    {
     "name": "stdout",
     "output_type": "stream",
     "text": [
      "Epoch 48: train=4.35745, val=3.40012, took 554.2 s\n"
     ]
    },
    {
     "data": {
      "application/vnd.jupyter.widget-view+json": {
       "model_id": "",
       "version_major": 2,
       "version_minor": 0
      },
      "text/plain": [
       "HBox(children=(FloatProgress(value=0.0, description='Training', layout=Layout(flex='2'), max=6667.0, style=Pro…"
      ]
     },
     "metadata": {},
     "output_type": "display_data"
    },
    {
     "name": "stdout",
     "output_type": "stream",
     "text": [
      "Epoch 49: train=4.37447, val=3.74909, took 554.9 s\n"
     ]
    },
    {
     "data": {
      "application/vnd.jupyter.widget-view+json": {
       "model_id": "",
       "version_major": 2,
       "version_minor": 0
      },
      "text/plain": [
       "HBox(children=(FloatProgress(value=0.0, description='Training', layout=Layout(flex='2'), max=6667.0, style=Pro…"
      ]
     },
     "metadata": {},
     "output_type": "display_data"
    },
    {
     "name": "stdout",
     "output_type": "stream",
     "text": [
      "Epoch 50: train=4.3636, val=4.1932, took 553.63 s\n"
     ]
    },
    {
     "data": {
      "application/vnd.jupyter.widget-view+json": {
       "model_id": "",
       "version_major": 2,
       "version_minor": 0
      },
      "text/plain": [
       "HBox(children=(FloatProgress(value=0.0, description='Training', layout=Layout(flex='2'), max=6667.0, style=Pro…"
      ]
     },
     "metadata": {},
     "output_type": "display_data"
    },
    {
     "name": "stdout",
     "output_type": "stream",
     "text": [
      "Epoch 51: train=4.41268, val=3.49958, took 550.19 s\n"
     ]
    },
    {
     "data": {
      "application/vnd.jupyter.widget-view+json": {
       "model_id": "",
       "version_major": 2,
       "version_minor": 0
      },
      "text/plain": [
       "HBox(children=(FloatProgress(value=0.0, description='Training', layout=Layout(flex='2'), max=6667.0, style=Pro…"
      ]
     },
     "metadata": {},
     "output_type": "display_data"
    },
    {
     "name": "stdout",
     "output_type": "stream",
     "text": [
      "Epoch 52: train=4.35963, val=3.38655, took 549.47 s\n"
     ]
    },
    {
     "data": {
      "application/vnd.jupyter.widget-view+json": {
       "model_id": "",
       "version_major": 2,
       "version_minor": 0
      },
      "text/plain": [
       "HBox(children=(FloatProgress(value=0.0, description='Training', layout=Layout(flex='2'), max=6667.0, style=Pro…"
      ]
     },
     "metadata": {},
     "output_type": "display_data"
    },
    {
     "name": "stdout",
     "output_type": "stream",
     "text": [
      "Epoch 53: train=4.36813, val=4.11258, took 550.15 s\n"
     ]
    },
    {
     "data": {
      "application/vnd.jupyter.widget-view+json": {
       "model_id": "",
       "version_major": 2,
       "version_minor": 0
      },
      "text/plain": [
       "HBox(children=(FloatProgress(value=0.0, description='Training', layout=Layout(flex='2'), max=6667.0, style=Pro…"
      ]
     },
     "metadata": {},
     "output_type": "display_data"
    },
    {
     "name": "stdout",
     "output_type": "stream",
     "text": [
      "Epoch 54: train=4.38335, val=4.33461, took 554.73 s\n"
     ]
    },
    {
     "data": {
      "application/vnd.jupyter.widget-view+json": {
       "model_id": "",
       "version_major": 2,
       "version_minor": 0
      },
      "text/plain": [
       "HBox(children=(FloatProgress(value=0.0, description='Training', layout=Layout(flex='2'), max=6667.0, style=Pro…"
      ]
     },
     "metadata": {},
     "output_type": "display_data"
    },
    {
     "name": "stdout",
     "output_type": "stream",
     "text": [
      "Epoch 55: train=4.37267, val=3.29035, took 558.21 s\n"
     ]
    },
    {
     "data": {
      "application/vnd.jupyter.widget-view+json": {
       "model_id": "",
       "version_major": 2,
       "version_minor": 0
      },
      "text/plain": [
       "HBox(children=(FloatProgress(value=0.0, description='Training', layout=Layout(flex='2'), max=6667.0, style=Pro…"
      ]
     },
     "metadata": {},
     "output_type": "display_data"
    },
    {
     "name": "stdout",
     "output_type": "stream",
     "text": [
      "Epoch 56: train=4.34519, val=3.80192, took 552.09 s\n"
     ]
    },
    {
     "data": {
      "application/vnd.jupyter.widget-view+json": {
       "model_id": "",
       "version_major": 2,
       "version_minor": 0
      },
      "text/plain": [
       "HBox(children=(FloatProgress(value=0.0, description='Training', layout=Layout(flex='2'), max=6667.0, style=Pro…"
      ]
     },
     "metadata": {},
     "output_type": "display_data"
    },
    {
     "name": "stdout",
     "output_type": "stream",
     "text": [
      "Epoch 57: train=4.35331, val=3.35374, took 552.09 s\n"
     ]
    },
    {
     "data": {
      "application/vnd.jupyter.widget-view+json": {
       "model_id": "",
       "version_major": 2,
       "version_minor": 0
      },
      "text/plain": [
       "HBox(children=(FloatProgress(value=0.0, description='Training', layout=Layout(flex='2'), max=6667.0, style=Pro…"
      ]
     },
     "metadata": {},
     "output_type": "display_data"
    },
    {
     "name": "stdout",
     "output_type": "stream",
     "text": [
      "Epoch 58: train=4.35601, val=3.55453, took 554.31 s\n"
     ]
    },
    {
     "data": {
      "application/vnd.jupyter.widget-view+json": {
       "model_id": "",
       "version_major": 2,
       "version_minor": 0
      },
      "text/plain": [
       "HBox(children=(FloatProgress(value=0.0, description='Training', layout=Layout(flex='2'), max=6667.0, style=Pro…"
      ]
     },
     "metadata": {},
     "output_type": "display_data"
    },
    {
     "name": "stdout",
     "output_type": "stream",
     "text": [
      "Epoch 59: train=4.33209, val=3.6308, took 553.44 s\n"
     ]
    },
    {
     "data": {
      "application/vnd.jupyter.widget-view+json": {
       "model_id": "",
       "version_major": 2,
       "version_minor": 0
      },
      "text/plain": [
       "HBox(children=(FloatProgress(value=0.0, description='Training', layout=Layout(flex='2'), max=6667.0, style=Pro…"
      ]
     },
     "metadata": {},
     "output_type": "display_data"
    },
    {
     "name": "stdout",
     "output_type": "stream",
     "text": [
      "Epoch 60: train=4.35804, val=3.32125, took 551.15 s\n"
     ]
    },
    {
     "data": {
      "application/vnd.jupyter.widget-view+json": {
       "model_id": "",
       "version_major": 2,
       "version_minor": 0
      },
      "text/plain": [
       "HBox(children=(FloatProgress(value=0.0, description='Training', layout=Layout(flex='2'), max=6667.0, style=Pro…"
      ]
     },
     "metadata": {},
     "output_type": "display_data"
    },
    {
     "name": "stdout",
     "output_type": "stream",
     "text": [
      "Epoch 61: train=4.32599, val=3.58242, took 549.78 s\n"
     ]
    },
    {
     "data": {
      "application/vnd.jupyter.widget-view+json": {
       "model_id": "",
       "version_major": 2,
       "version_minor": 0
      },
      "text/plain": [
       "HBox(children=(FloatProgress(value=0.0, description='Training', layout=Layout(flex='2'), max=6667.0, style=Pro…"
      ]
     },
     "metadata": {},
     "output_type": "display_data"
    },
    {
     "name": "stdout",
     "output_type": "stream",
     "text": [
      "Epoch 62: train=4.34703, val=3.43376, took 549.59 s\n"
     ]
    },
    {
     "data": {
      "application/vnd.jupyter.widget-view+json": {
       "model_id": "",
       "version_major": 2,
       "version_minor": 0
      },
      "text/plain": [
       "HBox(children=(FloatProgress(value=0.0, description='Training', layout=Layout(flex='2'), max=6667.0, style=Pro…"
      ]
     },
     "metadata": {},
     "output_type": "display_data"
    },
    {
     "name": "stdout",
     "output_type": "stream",
     "text": [
      "Epoch 63: train=4.34672, val=3.59009, took 553.05 s\n"
     ]
    },
    {
     "data": {
      "application/vnd.jupyter.widget-view+json": {
       "model_id": "",
       "version_major": 2,
       "version_minor": 0
      },
      "text/plain": [
       "HBox(children=(FloatProgress(value=0.0, description='Training', layout=Layout(flex='2'), max=6667.0, style=Pro…"
      ]
     },
     "metadata": {},
     "output_type": "display_data"
    },
    {
     "name": "stdout",
     "output_type": "stream",
     "text": [
      "Epoch 64: train=4.32674, val=3.55722, took 551.3 s\n"
     ]
    },
    {
     "data": {
      "application/vnd.jupyter.widget-view+json": {
       "model_id": "",
       "version_major": 2,
       "version_minor": 0
      },
      "text/plain": [
       "HBox(children=(FloatProgress(value=0.0, description='Training', layout=Layout(flex='2'), max=6667.0, style=Pro…"
      ]
     },
     "metadata": {},
     "output_type": "display_data"
    },
    {
     "name": "stdout",
     "output_type": "stream",
     "text": [
      "Epoch 65: train=4.35799, val=3.76774, took 551.47 s\n"
     ]
    },
    {
     "data": {
      "application/vnd.jupyter.widget-view+json": {
       "model_id": "",
       "version_major": 2,
       "version_minor": 0
      },
      "text/plain": [
       "HBox(children=(FloatProgress(value=0.0, description='Training', layout=Layout(flex='2'), max=6667.0, style=Pro…"
      ]
     },
     "metadata": {},
     "output_type": "display_data"
    },
    {
     "name": "stdout",
     "output_type": "stream",
     "text": [
      "Epoch 66: train=4.34127, val=3.36143, took 549.56 s\n"
     ]
    },
    {
     "data": {
      "application/vnd.jupyter.widget-view+json": {
       "model_id": "",
       "version_major": 2,
       "version_minor": 0
      },
      "text/plain": [
       "HBox(children=(FloatProgress(value=0.0, description='Training', layout=Layout(flex='2'), max=6667.0, style=Pro…"
      ]
     },
     "metadata": {},
     "output_type": "display_data"
    },
    {
     "name": "stdout",
     "output_type": "stream",
     "text": [
      "Epoch 67: train=4.33313, val=3.34854, took 551.17 s\n"
     ]
    },
    {
     "data": {
      "application/vnd.jupyter.widget-view+json": {
       "model_id": "",
       "version_major": 2,
       "version_minor": 0
      },
      "text/plain": [
       "HBox(children=(FloatProgress(value=0.0, description='Training', layout=Layout(flex='2'), max=6667.0, style=Pro…"
      ]
     },
     "metadata": {},
     "output_type": "display_data"
    },
    {
     "name": "stdout",
     "output_type": "stream",
     "text": [
      "Epoch 68: train=4.32919, val=3.49348, took 558.11 s\n"
     ]
    },
    {
     "data": {
      "application/vnd.jupyter.widget-view+json": {
       "model_id": "",
       "version_major": 2,
       "version_minor": 0
      },
      "text/plain": [
       "HBox(children=(FloatProgress(value=0.0, description='Training', layout=Layout(flex='2'), max=6667.0, style=Pro…"
      ]
     },
     "metadata": {},
     "output_type": "display_data"
    },
    {
     "name": "stdout",
     "output_type": "stream",
     "text": [
      "Epoch 69: train=4.31448, val=3.69135, took 552.17 s\n"
     ]
    },
    {
     "data": {
      "application/vnd.jupyter.widget-view+json": {
       "model_id": "",
       "version_major": 2,
       "version_minor": 0
      },
      "text/plain": [
       "HBox(children=(FloatProgress(value=0.0, description='Training', layout=Layout(flex='2'), max=6667.0, style=Pro…"
      ]
     },
     "metadata": {},
     "output_type": "display_data"
    },
    {
     "name": "stdout",
     "output_type": "stream",
     "text": [
      "Epoch 70: train=4.33447, val=3.32366, took 554.83 s\n"
     ]
    },
    {
     "data": {
      "application/vnd.jupyter.widget-view+json": {
       "model_id": "",
       "version_major": 2,
       "version_minor": 0
      },
      "text/plain": [
       "HBox(children=(FloatProgress(value=0.0, description='Training', layout=Layout(flex='2'), max=6667.0, style=Pro…"
      ]
     },
     "metadata": {},
     "output_type": "display_data"
    },
    {
     "name": "stdout",
     "output_type": "stream",
     "text": [
      "Epoch 71: train=4.36421, val=3.38819, took 552.43 s\n"
     ]
    },
    {
     "data": {
      "application/vnd.jupyter.widget-view+json": {
       "model_id": "",
       "version_major": 2,
       "version_minor": 0
      },
      "text/plain": [
       "HBox(children=(FloatProgress(value=0.0, description='Training', layout=Layout(flex='2'), max=6667.0, style=Pro…"
      ]
     },
     "metadata": {},
     "output_type": "display_data"
    },
    {
     "name": "stdout",
     "output_type": "stream",
     "text": [
      "Epoch 72: train=4.29934, val=3.25442, took 562.49 s\n"
     ]
    },
    {
     "data": {
      "application/vnd.jupyter.widget-view+json": {
       "model_id": "",
       "version_major": 2,
       "version_minor": 0
      },
      "text/plain": [
       "HBox(children=(FloatProgress(value=0.0, description='Training', layout=Layout(flex='2'), max=6667.0, style=Pro…"
      ]
     },
     "metadata": {},
     "output_type": "display_data"
    },
    {
     "name": "stdout",
     "output_type": "stream",
     "text": [
      "Epoch 73: train=4.30496, val=3.45443, took 549.38 s\n"
     ]
    },
    {
     "data": {
      "application/vnd.jupyter.widget-view+json": {
       "model_id": "",
       "version_major": 2,
       "version_minor": 0
      },
      "text/plain": [
       "HBox(children=(FloatProgress(value=0.0, description='Training', layout=Layout(flex='2'), max=6667.0, style=Pro…"
      ]
     },
     "metadata": {},
     "output_type": "display_data"
    },
    {
     "name": "stdout",
     "output_type": "stream",
     "text": [
      "Epoch 74: train=4.30605, val=3.66184, took 549.59 s\n",
      "\n"
     ]
    }
   ],
   "source": [
    "for result in trainNet(model, optimizer, loss,\n",
    "                        train_loader, val_loader,\n",
    "                        n_epochs, epoch_start=len(results),\n",
    "                        notebook=True):\n",
    "    \n",
    "    results = results.append(pd.Series(result._asdict()), ignore_index=True)\n",
    "    xs = results.index\n",
    "    \n",
    "    # Update the plot above\n",
    "    lines['train'].set_data(results.index,results.cost)\n",
    "    lines['val'].set_data(results.index,results.val)\n",
    "    \n",
    "    #filter first cost epoch (can be really large)\n",
    "    max_cost = max(max(results.cost if len(results.cost)<2 else results.cost[1:]), max(results.val))\n",
    "    min_cost = min(min(results.cost), min(results.val))\n",
    "    \n",
    "    # The plot limits need updating too\n",
    "    \n",
    "    \n",
    "    \n",
    "    ax.set_ylim(min_cost*.9, max_cost*1.1)  \n",
    "    ax.set_xlim(-.5, len(results.cost) - .5)\n",
    "\n",
    "    \n",
    "    # Redraw the figure\n",
    "    fig.canvas.draw()\n",
    "\n",
    "    # Save each model state dictionary\n",
    "    torch.save(model.state_dict(), output / f'{name}_{result.epoch}.pyt')"
   ]
  },
  {
   "cell_type": "markdown",
   "metadata": {},
   "source": [
    "Go ahead and save the final model (even though it was also saved above):"
   ]
  },
  {
   "cell_type": "code",
   "execution_count": 18,
   "metadata": {},
   "outputs": [],
   "source": [
    "torch.save(model.state_dict(), output / f'{name}_final.pyt')"
   ]
  },
  {
   "cell_type": "markdown",
   "metadata": {},
   "source": [
    "Save the output results:"
   ]
  },
  {
   "cell_type": "code",
   "execution_count": 19,
   "metadata": {},
   "outputs": [],
   "source": [
    "results.to_hdf(f'{name}_stats.hdf5', 'results')"
   ]
  },
  {
   "cell_type": "markdown",
   "metadata": {},
   "source": [
    "Save the plot above:"
   ]
  },
  {
   "cell_type": "code",
   "execution_count": 20,
   "metadata": {
    "scrolled": true
   },
   "outputs": [
    {
     "data": {
      "application/javascript": [
       "/* Put everything inside the global mpl namespace */\n",
       "window.mpl = {};\n",
       "\n",
       "\n",
       "mpl.get_websocket_type = function() {\n",
       "    if (typeof(WebSocket) !== 'undefined') {\n",
       "        return WebSocket;\n",
       "    } else if (typeof(MozWebSocket) !== 'undefined') {\n",
       "        return MozWebSocket;\n",
       "    } else {\n",
       "        alert('Your browser does not have WebSocket support. ' +\n",
       "              'Please try Chrome, Safari or Firefox ≥ 6. ' +\n",
       "              'Firefox 4 and 5 are also supported but you ' +\n",
       "              'have to enable WebSockets in about:config.');\n",
       "    };\n",
       "}\n",
       "\n",
       "mpl.figure = function(figure_id, websocket, ondownload, parent_element) {\n",
       "    this.id = figure_id;\n",
       "\n",
       "    this.ws = websocket;\n",
       "\n",
       "    this.supports_binary = (this.ws.binaryType != undefined);\n",
       "\n",
       "    if (!this.supports_binary) {\n",
       "        var warnings = document.getElementById(\"mpl-warnings\");\n",
       "        if (warnings) {\n",
       "            warnings.style.display = 'block';\n",
       "            warnings.textContent = (\n",
       "                \"This browser does not support binary websocket messages. \" +\n",
       "                    \"Performance may be slow.\");\n",
       "        }\n",
       "    }\n",
       "\n",
       "    this.imageObj = new Image();\n",
       "\n",
       "    this.context = undefined;\n",
       "    this.message = undefined;\n",
       "    this.canvas = undefined;\n",
       "    this.rubberband_canvas = undefined;\n",
       "    this.rubberband_context = undefined;\n",
       "    this.format_dropdown = undefined;\n",
       "\n",
       "    this.image_mode = 'full';\n",
       "\n",
       "    this.root = $('<div/>');\n",
       "    this._root_extra_style(this.root)\n",
       "    this.root.attr('style', 'display: inline-block');\n",
       "\n",
       "    $(parent_element).append(this.root);\n",
       "\n",
       "    this._init_header(this);\n",
       "    this._init_canvas(this);\n",
       "    this._init_toolbar(this);\n",
       "\n",
       "    var fig = this;\n",
       "\n",
       "    this.waiting = false;\n",
       "\n",
       "    this.ws.onopen =  function () {\n",
       "            fig.send_message(\"supports_binary\", {value: fig.supports_binary});\n",
       "            fig.send_message(\"send_image_mode\", {});\n",
       "            if (mpl.ratio != 1) {\n",
       "                fig.send_message(\"set_dpi_ratio\", {'dpi_ratio': mpl.ratio});\n",
       "            }\n",
       "            fig.send_message(\"refresh\", {});\n",
       "        }\n",
       "\n",
       "    this.imageObj.onload = function() {\n",
       "            if (fig.image_mode == 'full') {\n",
       "                // Full images could contain transparency (where diff images\n",
       "                // almost always do), so we need to clear the canvas so that\n",
       "                // there is no ghosting.\n",
       "                fig.context.clearRect(0, 0, fig.canvas.width, fig.canvas.height);\n",
       "            }\n",
       "            fig.context.drawImage(fig.imageObj, 0, 0);\n",
       "        };\n",
       "\n",
       "    this.imageObj.onunload = function() {\n",
       "        fig.ws.close();\n",
       "    }\n",
       "\n",
       "    this.ws.onmessage = this._make_on_message_function(this);\n",
       "\n",
       "    this.ondownload = ondownload;\n",
       "}\n",
       "\n",
       "mpl.figure.prototype._init_header = function() {\n",
       "    var titlebar = $(\n",
       "        '<div class=\"ui-dialog-titlebar ui-widget-header ui-corner-all ' +\n",
       "        'ui-helper-clearfix\"/>');\n",
       "    var titletext = $(\n",
       "        '<div class=\"ui-dialog-title\" style=\"width: 100%; ' +\n",
       "        'text-align: center; padding: 3px;\"/>');\n",
       "    titlebar.append(titletext)\n",
       "    this.root.append(titlebar);\n",
       "    this.header = titletext[0];\n",
       "}\n",
       "\n",
       "\n",
       "\n",
       "mpl.figure.prototype._canvas_extra_style = function(canvas_div) {\n",
       "\n",
       "}\n",
       "\n",
       "\n",
       "mpl.figure.prototype._root_extra_style = function(canvas_div) {\n",
       "\n",
       "}\n",
       "\n",
       "mpl.figure.prototype._init_canvas = function() {\n",
       "    var fig = this;\n",
       "\n",
       "    var canvas_div = $('<div/>');\n",
       "\n",
       "    canvas_div.attr('style', 'position: relative; clear: both; outline: 0');\n",
       "\n",
       "    function canvas_keyboard_event(event) {\n",
       "        return fig.key_event(event, event['data']);\n",
       "    }\n",
       "\n",
       "    canvas_div.keydown('key_press', canvas_keyboard_event);\n",
       "    canvas_div.keyup('key_release', canvas_keyboard_event);\n",
       "    this.canvas_div = canvas_div\n",
       "    this._canvas_extra_style(canvas_div)\n",
       "    this.root.append(canvas_div);\n",
       "\n",
       "    var canvas = $('<canvas/>');\n",
       "    canvas.addClass('mpl-canvas');\n",
       "    canvas.attr('style', \"left: 0; top: 0; z-index: 0; outline: 0\")\n",
       "\n",
       "    this.canvas = canvas[0];\n",
       "    this.context = canvas[0].getContext(\"2d\");\n",
       "\n",
       "    var backingStore = this.context.backingStorePixelRatio ||\n",
       "\tthis.context.webkitBackingStorePixelRatio ||\n",
       "\tthis.context.mozBackingStorePixelRatio ||\n",
       "\tthis.context.msBackingStorePixelRatio ||\n",
       "\tthis.context.oBackingStorePixelRatio ||\n",
       "\tthis.context.backingStorePixelRatio || 1;\n",
       "\n",
       "    mpl.ratio = (window.devicePixelRatio || 1) / backingStore;\n",
       "\n",
       "    var rubberband = $('<canvas/>');\n",
       "    rubberband.attr('style', \"position: absolute; left: 0; top: 0; z-index: 1;\")\n",
       "\n",
       "    var pass_mouse_events = true;\n",
       "\n",
       "    canvas_div.resizable({\n",
       "        start: function(event, ui) {\n",
       "            pass_mouse_events = false;\n",
       "        },\n",
       "        resize: function(event, ui) {\n",
       "            fig.request_resize(ui.size.width, ui.size.height);\n",
       "        },\n",
       "        stop: function(event, ui) {\n",
       "            pass_mouse_events = true;\n",
       "            fig.request_resize(ui.size.width, ui.size.height);\n",
       "        },\n",
       "    });\n",
       "\n",
       "    function mouse_event_fn(event) {\n",
       "        if (pass_mouse_events)\n",
       "            return fig.mouse_event(event, event['data']);\n",
       "    }\n",
       "\n",
       "    rubberband.mousedown('button_press', mouse_event_fn);\n",
       "    rubberband.mouseup('button_release', mouse_event_fn);\n",
       "    // Throttle sequential mouse events to 1 every 20ms.\n",
       "    rubberband.mousemove('motion_notify', mouse_event_fn);\n",
       "\n",
       "    rubberband.mouseenter('figure_enter', mouse_event_fn);\n",
       "    rubberband.mouseleave('figure_leave', mouse_event_fn);\n",
       "\n",
       "    canvas_div.on(\"wheel\", function (event) {\n",
       "        event = event.originalEvent;\n",
       "        event['data'] = 'scroll'\n",
       "        if (event.deltaY < 0) {\n",
       "            event.step = 1;\n",
       "        } else {\n",
       "            event.step = -1;\n",
       "        }\n",
       "        mouse_event_fn(event);\n",
       "    });\n",
       "\n",
       "    canvas_div.append(canvas);\n",
       "    canvas_div.append(rubberband);\n",
       "\n",
       "    this.rubberband = rubberband;\n",
       "    this.rubberband_canvas = rubberband[0];\n",
       "    this.rubberband_context = rubberband[0].getContext(\"2d\");\n",
       "    this.rubberband_context.strokeStyle = \"#000000\";\n",
       "\n",
       "    this._resize_canvas = function(width, height) {\n",
       "        // Keep the size of the canvas, canvas container, and rubber band\n",
       "        // canvas in synch.\n",
       "        canvas_div.css('width', width)\n",
       "        canvas_div.css('height', height)\n",
       "\n",
       "        canvas.attr('width', width * mpl.ratio);\n",
       "        canvas.attr('height', height * mpl.ratio);\n",
       "        canvas.attr('style', 'width: ' + width + 'px; height: ' + height + 'px;');\n",
       "\n",
       "        rubberband.attr('width', width);\n",
       "        rubberband.attr('height', height);\n",
       "    }\n",
       "\n",
       "    // Set the figure to an initial 600x600px, this will subsequently be updated\n",
       "    // upon first draw.\n",
       "    this._resize_canvas(600, 600);\n",
       "\n",
       "    // Disable right mouse context menu.\n",
       "    $(this.rubberband_canvas).bind(\"contextmenu\",function(e){\n",
       "        return false;\n",
       "    });\n",
       "\n",
       "    function set_focus () {\n",
       "        canvas.focus();\n",
       "        canvas_div.focus();\n",
       "    }\n",
       "\n",
       "    window.setTimeout(set_focus, 100);\n",
       "}\n",
       "\n",
       "mpl.figure.prototype._init_toolbar = function() {\n",
       "    var fig = this;\n",
       "\n",
       "    var nav_element = $('<div/>');\n",
       "    nav_element.attr('style', 'width: 100%');\n",
       "    this.root.append(nav_element);\n",
       "\n",
       "    // Define a callback function for later on.\n",
       "    function toolbar_event(event) {\n",
       "        return fig.toolbar_button_onclick(event['data']);\n",
       "    }\n",
       "    function toolbar_mouse_event(event) {\n",
       "        return fig.toolbar_button_onmouseover(event['data']);\n",
       "    }\n",
       "\n",
       "    for(var toolbar_ind in mpl.toolbar_items) {\n",
       "        var name = mpl.toolbar_items[toolbar_ind][0];\n",
       "        var tooltip = mpl.toolbar_items[toolbar_ind][1];\n",
       "        var image = mpl.toolbar_items[toolbar_ind][2];\n",
       "        var method_name = mpl.toolbar_items[toolbar_ind][3];\n",
       "\n",
       "        if (!name) {\n",
       "            // put a spacer in here.\n",
       "            continue;\n",
       "        }\n",
       "        var button = $('<button/>');\n",
       "        button.addClass('ui-button ui-widget ui-state-default ui-corner-all ' +\n",
       "                        'ui-button-icon-only');\n",
       "        button.attr('role', 'button');\n",
       "        button.attr('aria-disabled', 'false');\n",
       "        button.click(method_name, toolbar_event);\n",
       "        button.mouseover(tooltip, toolbar_mouse_event);\n",
       "\n",
       "        var icon_img = $('<span/>');\n",
       "        icon_img.addClass('ui-button-icon-primary ui-icon');\n",
       "        icon_img.addClass(image);\n",
       "        icon_img.addClass('ui-corner-all');\n",
       "\n",
       "        var tooltip_span = $('<span/>');\n",
       "        tooltip_span.addClass('ui-button-text');\n",
       "        tooltip_span.html(tooltip);\n",
       "\n",
       "        button.append(icon_img);\n",
       "        button.append(tooltip_span);\n",
       "\n",
       "        nav_element.append(button);\n",
       "    }\n",
       "\n",
       "    var fmt_picker_span = $('<span/>');\n",
       "\n",
       "    var fmt_picker = $('<select/>');\n",
       "    fmt_picker.addClass('mpl-toolbar-option ui-widget ui-widget-content');\n",
       "    fmt_picker_span.append(fmt_picker);\n",
       "    nav_element.append(fmt_picker_span);\n",
       "    this.format_dropdown = fmt_picker[0];\n",
       "\n",
       "    for (var ind in mpl.extensions) {\n",
       "        var fmt = mpl.extensions[ind];\n",
       "        var option = $(\n",
       "            '<option/>', {selected: fmt === mpl.default_extension}).html(fmt);\n",
       "        fmt_picker.append(option);\n",
       "    }\n",
       "\n",
       "    // Add hover states to the ui-buttons\n",
       "    $( \".ui-button\" ).hover(\n",
       "        function() { $(this).addClass(\"ui-state-hover\");},\n",
       "        function() { $(this).removeClass(\"ui-state-hover\");}\n",
       "    );\n",
       "\n",
       "    var status_bar = $('<span class=\"mpl-message\"/>');\n",
       "    nav_element.append(status_bar);\n",
       "    this.message = status_bar[0];\n",
       "}\n",
       "\n",
       "mpl.figure.prototype.request_resize = function(x_pixels, y_pixels) {\n",
       "    // Request matplotlib to resize the figure. Matplotlib will then trigger a resize in the client,\n",
       "    // which will in turn request a refresh of the image.\n",
       "    this.send_message('resize', {'width': x_pixels, 'height': y_pixels});\n",
       "}\n",
       "\n",
       "mpl.figure.prototype.send_message = function(type, properties) {\n",
       "    properties['type'] = type;\n",
       "    properties['figure_id'] = this.id;\n",
       "    this.ws.send(JSON.stringify(properties));\n",
       "}\n",
       "\n",
       "mpl.figure.prototype.send_draw_message = function() {\n",
       "    if (!this.waiting) {\n",
       "        this.waiting = true;\n",
       "        this.ws.send(JSON.stringify({type: \"draw\", figure_id: this.id}));\n",
       "    }\n",
       "}\n",
       "\n",
       "\n",
       "mpl.figure.prototype.handle_save = function(fig, msg) {\n",
       "    var format_dropdown = fig.format_dropdown;\n",
       "    var format = format_dropdown.options[format_dropdown.selectedIndex].value;\n",
       "    fig.ondownload(fig, format);\n",
       "}\n",
       "\n",
       "\n",
       "mpl.figure.prototype.handle_resize = function(fig, msg) {\n",
       "    var size = msg['size'];\n",
       "    if (size[0] != fig.canvas.width || size[1] != fig.canvas.height) {\n",
       "        fig._resize_canvas(size[0], size[1]);\n",
       "        fig.send_message(\"refresh\", {});\n",
       "    };\n",
       "}\n",
       "\n",
       "mpl.figure.prototype.handle_rubberband = function(fig, msg) {\n",
       "    var x0 = msg['x0'] / mpl.ratio;\n",
       "    var y0 = (fig.canvas.height - msg['y0']) / mpl.ratio;\n",
       "    var x1 = msg['x1'] / mpl.ratio;\n",
       "    var y1 = (fig.canvas.height - msg['y1']) / mpl.ratio;\n",
       "    x0 = Math.floor(x0) + 0.5;\n",
       "    y0 = Math.floor(y0) + 0.5;\n",
       "    x1 = Math.floor(x1) + 0.5;\n",
       "    y1 = Math.floor(y1) + 0.5;\n",
       "    var min_x = Math.min(x0, x1);\n",
       "    var min_y = Math.min(y0, y1);\n",
       "    var width = Math.abs(x1 - x0);\n",
       "    var height = Math.abs(y1 - y0);\n",
       "\n",
       "    fig.rubberband_context.clearRect(\n",
       "        0, 0, fig.canvas.width / mpl.ratio, fig.canvas.height / mpl.ratio);\n",
       "\n",
       "    fig.rubberband_context.strokeRect(min_x, min_y, width, height);\n",
       "}\n",
       "\n",
       "mpl.figure.prototype.handle_figure_label = function(fig, msg) {\n",
       "    // Updates the figure title.\n",
       "    fig.header.textContent = msg['label'];\n",
       "}\n",
       "\n",
       "mpl.figure.prototype.handle_cursor = function(fig, msg) {\n",
       "    var cursor = msg['cursor'];\n",
       "    switch(cursor)\n",
       "    {\n",
       "    case 0:\n",
       "        cursor = 'pointer';\n",
       "        break;\n",
       "    case 1:\n",
       "        cursor = 'default';\n",
       "        break;\n",
       "    case 2:\n",
       "        cursor = 'crosshair';\n",
       "        break;\n",
       "    case 3:\n",
       "        cursor = 'move';\n",
       "        break;\n",
       "    }\n",
       "    fig.rubberband_canvas.style.cursor = cursor;\n",
       "}\n",
       "\n",
       "mpl.figure.prototype.handle_message = function(fig, msg) {\n",
       "    fig.message.textContent = msg['message'];\n",
       "}\n",
       "\n",
       "mpl.figure.prototype.handle_draw = function(fig, msg) {\n",
       "    // Request the server to send over a new figure.\n",
       "    fig.send_draw_message();\n",
       "}\n",
       "\n",
       "mpl.figure.prototype.handle_image_mode = function(fig, msg) {\n",
       "    fig.image_mode = msg['mode'];\n",
       "}\n",
       "\n",
       "mpl.figure.prototype.updated_canvas_event = function() {\n",
       "    // Called whenever the canvas gets updated.\n",
       "    this.send_message(\"ack\", {});\n",
       "}\n",
       "\n",
       "// A function to construct a web socket function for onmessage handling.\n",
       "// Called in the figure constructor.\n",
       "mpl.figure.prototype._make_on_message_function = function(fig) {\n",
       "    return function socket_on_message(evt) {\n",
       "        if (evt.data instanceof Blob) {\n",
       "            /* FIXME: We get \"Resource interpreted as Image but\n",
       "             * transferred with MIME type text/plain:\" errors on\n",
       "             * Chrome.  But how to set the MIME type?  It doesn't seem\n",
       "             * to be part of the websocket stream */\n",
       "            evt.data.type = \"image/png\";\n",
       "\n",
       "            /* Free the memory for the previous frames */\n",
       "            if (fig.imageObj.src) {\n",
       "                (window.URL || window.webkitURL).revokeObjectURL(\n",
       "                    fig.imageObj.src);\n",
       "            }\n",
       "\n",
       "            fig.imageObj.src = (window.URL || window.webkitURL).createObjectURL(\n",
       "                evt.data);\n",
       "            fig.updated_canvas_event();\n",
       "            fig.waiting = false;\n",
       "            return;\n",
       "        }\n",
       "        else if (typeof evt.data === 'string' && evt.data.slice(0, 21) == \"data:image/png;base64\") {\n",
       "            fig.imageObj.src = evt.data;\n",
       "            fig.updated_canvas_event();\n",
       "            fig.waiting = false;\n",
       "            return;\n",
       "        }\n",
       "\n",
       "        var msg = JSON.parse(evt.data);\n",
       "        var msg_type = msg['type'];\n",
       "\n",
       "        // Call the  \"handle_{type}\" callback, which takes\n",
       "        // the figure and JSON message as its only arguments.\n",
       "        try {\n",
       "            var callback = fig[\"handle_\" + msg_type];\n",
       "        } catch (e) {\n",
       "            console.log(\"No handler for the '\" + msg_type + \"' message type: \", msg);\n",
       "            return;\n",
       "        }\n",
       "\n",
       "        if (callback) {\n",
       "            try {\n",
       "                // console.log(\"Handling '\" + msg_type + \"' message: \", msg);\n",
       "                callback(fig, msg);\n",
       "            } catch (e) {\n",
       "                console.log(\"Exception inside the 'handler_\" + msg_type + \"' callback:\", e, e.stack, msg);\n",
       "            }\n",
       "        }\n",
       "    };\n",
       "}\n",
       "\n",
       "// from http://stackoverflow.com/questions/1114465/getting-mouse-location-in-canvas\n",
       "mpl.findpos = function(e) {\n",
       "    //this section is from http://www.quirksmode.org/js/events_properties.html\n",
       "    var targ;\n",
       "    if (!e)\n",
       "        e = window.event;\n",
       "    if (e.target)\n",
       "        targ = e.target;\n",
       "    else if (e.srcElement)\n",
       "        targ = e.srcElement;\n",
       "    if (targ.nodeType == 3) // defeat Safari bug\n",
       "        targ = targ.parentNode;\n",
       "\n",
       "    // jQuery normalizes the pageX and pageY\n",
       "    // pageX,Y are the mouse positions relative to the document\n",
       "    // offset() returns the position of the element relative to the document\n",
       "    var x = e.pageX - $(targ).offset().left;\n",
       "    var y = e.pageY - $(targ).offset().top;\n",
       "\n",
       "    return {\"x\": x, \"y\": y};\n",
       "};\n",
       "\n",
       "/*\n",
       " * return a copy of an object with only non-object keys\n",
       " * we need this to avoid circular references\n",
       " * http://stackoverflow.com/a/24161582/3208463\n",
       " */\n",
       "function simpleKeys (original) {\n",
       "  return Object.keys(original).reduce(function (obj, key) {\n",
       "    if (typeof original[key] !== 'object')\n",
       "        obj[key] = original[key]\n",
       "    return obj;\n",
       "  }, {});\n",
       "}\n",
       "\n",
       "mpl.figure.prototype.mouse_event = function(event, name) {\n",
       "    var canvas_pos = mpl.findpos(event)\n",
       "\n",
       "    if (name === 'button_press')\n",
       "    {\n",
       "        this.canvas.focus();\n",
       "        this.canvas_div.focus();\n",
       "    }\n",
       "\n",
       "    var x = canvas_pos.x * mpl.ratio;\n",
       "    var y = canvas_pos.y * mpl.ratio;\n",
       "\n",
       "    this.send_message(name, {x: x, y: y, button: event.button,\n",
       "                             step: event.step,\n",
       "                             guiEvent: simpleKeys(event)});\n",
       "\n",
       "    /* This prevents the web browser from automatically changing to\n",
       "     * the text insertion cursor when the button is pressed.  We want\n",
       "     * to control all of the cursor setting manually through the\n",
       "     * 'cursor' event from matplotlib */\n",
       "    event.preventDefault();\n",
       "    return false;\n",
       "}\n",
       "\n",
       "mpl.figure.prototype._key_event_extra = function(event, name) {\n",
       "    // Handle any extra behaviour associated with a key event\n",
       "}\n",
       "\n",
       "mpl.figure.prototype.key_event = function(event, name) {\n",
       "\n",
       "    // Prevent repeat events\n",
       "    if (name == 'key_press')\n",
       "    {\n",
       "        if (event.which === this._key)\n",
       "            return;\n",
       "        else\n",
       "            this._key = event.which;\n",
       "    }\n",
       "    if (name == 'key_release')\n",
       "        this._key = null;\n",
       "\n",
       "    var value = '';\n",
       "    if (event.ctrlKey && event.which != 17)\n",
       "        value += \"ctrl+\";\n",
       "    if (event.altKey && event.which != 18)\n",
       "        value += \"alt+\";\n",
       "    if (event.shiftKey && event.which != 16)\n",
       "        value += \"shift+\";\n",
       "\n",
       "    value += 'k';\n",
       "    value += event.which.toString();\n",
       "\n",
       "    this._key_event_extra(event, name);\n",
       "\n",
       "    this.send_message(name, {key: value,\n",
       "                             guiEvent: simpleKeys(event)});\n",
       "    return false;\n",
       "}\n",
       "\n",
       "mpl.figure.prototype.toolbar_button_onclick = function(name) {\n",
       "    if (name == 'download') {\n",
       "        this.handle_save(this, null);\n",
       "    } else {\n",
       "        this.send_message(\"toolbar_button\", {name: name});\n",
       "    }\n",
       "};\n",
       "\n",
       "mpl.figure.prototype.toolbar_button_onmouseover = function(tooltip) {\n",
       "    this.message.textContent = tooltip;\n",
       "};\n",
       "mpl.toolbar_items = [[\"Home\", \"Reset original view\", \"fa fa-home icon-home\", \"home\"], [\"Back\", \"Back to previous view\", \"fa fa-arrow-left icon-arrow-left\", \"back\"], [\"Forward\", \"Forward to next view\", \"fa fa-arrow-right icon-arrow-right\", \"forward\"], [\"\", \"\", \"\", \"\"], [\"Pan\", \"Pan axes with left mouse, zoom with right\", \"fa fa-arrows icon-move\", \"pan\"], [\"Zoom\", \"Zoom to rectangle\", \"fa fa-square-o icon-check-empty\", \"zoom\"], [\"\", \"\", \"\", \"\"], [\"Download\", \"Download plot\", \"fa fa-floppy-o icon-save\", \"download\"]];\n",
       "\n",
       "mpl.extensions = [\"eps\", \"jpeg\", \"pdf\", \"png\", \"ps\", \"raw\", \"svg\", \"tif\"];\n",
       "\n",
       "mpl.default_extension = \"png\";var comm_websocket_adapter = function(comm) {\n",
       "    // Create a \"websocket\"-like object which calls the given IPython comm\n",
       "    // object with the appropriate methods. Currently this is a non binary\n",
       "    // socket, so there is still some room for performance tuning.\n",
       "    var ws = {};\n",
       "\n",
       "    ws.close = function() {\n",
       "        comm.close()\n",
       "    };\n",
       "    ws.send = function(m) {\n",
       "        //console.log('sending', m);\n",
       "        comm.send(m);\n",
       "    };\n",
       "    // Register the callback with on_msg.\n",
       "    comm.on_msg(function(msg) {\n",
       "        //console.log('receiving', msg['content']['data'], msg);\n",
       "        // Pass the mpl event to the overridden (by mpl) onmessage function.\n",
       "        ws.onmessage(msg['content']['data'])\n",
       "    });\n",
       "    return ws;\n",
       "}\n",
       "\n",
       "mpl.mpl_figure_comm = function(comm, msg) {\n",
       "    // This is the function which gets called when the mpl process\n",
       "    // starts-up an IPython Comm through the \"matplotlib\" channel.\n",
       "\n",
       "    var id = msg.content.data.id;\n",
       "    // Get hold of the div created by the display call when the Comm\n",
       "    // socket was opened in Python.\n",
       "    var element = $(\"#\" + id);\n",
       "    var ws_proxy = comm_websocket_adapter(comm)\n",
       "\n",
       "    function ondownload(figure, format) {\n",
       "        window.open(figure.imageObj.src);\n",
       "    }\n",
       "\n",
       "    var fig = new mpl.figure(id, ws_proxy,\n",
       "                           ondownload,\n",
       "                           element.get(0));\n",
       "\n",
       "    // Call onopen now - mpl needs it, as it is assuming we've passed it a real\n",
       "    // web socket which is closed, not our websocket->open comm proxy.\n",
       "    ws_proxy.onopen();\n",
       "\n",
       "    fig.parent_element = element.get(0);\n",
       "    fig.cell_info = mpl.find_output_cell(\"<div id='\" + id + \"'></div>\");\n",
       "    if (!fig.cell_info) {\n",
       "        console.error(\"Failed to find cell for figure\", id, fig);\n",
       "        return;\n",
       "    }\n",
       "\n",
       "    var output_index = fig.cell_info[2]\n",
       "    var cell = fig.cell_info[0];\n",
       "\n",
       "};\n",
       "\n",
       "mpl.figure.prototype.handle_close = function(fig, msg) {\n",
       "    var width = fig.canvas.width/mpl.ratio\n",
       "    fig.root.unbind('remove')\n",
       "\n",
       "    // Update the output cell to use the data from the current canvas.\n",
       "    fig.push_to_output();\n",
       "    var dataURL = fig.canvas.toDataURL();\n",
       "    // Re-enable the keyboard manager in IPython - without this line, in FF,\n",
       "    // the notebook keyboard shortcuts fail.\n",
       "    IPython.keyboard_manager.enable()\n",
       "    $(fig.parent_element).html('<img src=\"' + dataURL + '\" width=\"' + width + '\">');\n",
       "    fig.close_ws(fig, msg);\n",
       "}\n",
       "\n",
       "mpl.figure.prototype.close_ws = function(fig, msg){\n",
       "    fig.send_message('closing', msg);\n",
       "    // fig.ws.close()\n",
       "}\n",
       "\n",
       "mpl.figure.prototype.push_to_output = function(remove_interactive) {\n",
       "    // Turn the data on the canvas into data in the output cell.\n",
       "    var width = this.canvas.width/mpl.ratio\n",
       "    var dataURL = this.canvas.toDataURL();\n",
       "    this.cell_info[1]['text/html'] = '<img src=\"' + dataURL + '\" width=\"' + width + '\">';\n",
       "}\n",
       "\n",
       "mpl.figure.prototype.updated_canvas_event = function() {\n",
       "    // Tell IPython that the notebook contents must change.\n",
       "    IPython.notebook.set_dirty(true);\n",
       "    this.send_message(\"ack\", {});\n",
       "    var fig = this;\n",
       "    // Wait a second, then push the new image to the DOM so\n",
       "    // that it is saved nicely (might be nice to debounce this).\n",
       "    setTimeout(function () { fig.push_to_output() }, 1000);\n",
       "}\n",
       "\n",
       "mpl.figure.prototype._init_toolbar = function() {\n",
       "    var fig = this;\n",
       "\n",
       "    var nav_element = $('<div/>');\n",
       "    nav_element.attr('style', 'width: 100%');\n",
       "    this.root.append(nav_element);\n",
       "\n",
       "    // Define a callback function for later on.\n",
       "    function toolbar_event(event) {\n",
       "        return fig.toolbar_button_onclick(event['data']);\n",
       "    }\n",
       "    function toolbar_mouse_event(event) {\n",
       "        return fig.toolbar_button_onmouseover(event['data']);\n",
       "    }\n",
       "\n",
       "    for(var toolbar_ind in mpl.toolbar_items){\n",
       "        var name = mpl.toolbar_items[toolbar_ind][0];\n",
       "        var tooltip = mpl.toolbar_items[toolbar_ind][1];\n",
       "        var image = mpl.toolbar_items[toolbar_ind][2];\n",
       "        var method_name = mpl.toolbar_items[toolbar_ind][3];\n",
       "\n",
       "        if (!name) { continue; };\n",
       "\n",
       "        var button = $('<button class=\"btn btn-default\" href=\"#\" title=\"' + name + '\"><i class=\"fa ' + image + ' fa-lg\"></i></button>');\n",
       "        button.click(method_name, toolbar_event);\n",
       "        button.mouseover(tooltip, toolbar_mouse_event);\n",
       "        nav_element.append(button);\n",
       "    }\n",
       "\n",
       "    // Add the status bar.\n",
       "    var status_bar = $('<span class=\"mpl-message\" style=\"text-align:right; float: right;\"/>');\n",
       "    nav_element.append(status_bar);\n",
       "    this.message = status_bar[0];\n",
       "\n",
       "    // Add the close button to the window.\n",
       "    var buttongrp = $('<div class=\"btn-group inline pull-right\"></div>');\n",
       "    var button = $('<button class=\"btn btn-mini btn-primary\" href=\"#\" title=\"Stop Interaction\"><i class=\"fa fa-power-off icon-remove icon-large\"></i></button>');\n",
       "    button.click(function (evt) { fig.handle_close(fig, {}); } );\n",
       "    button.mouseover('Stop Interaction', toolbar_mouse_event);\n",
       "    buttongrp.append(button);\n",
       "    var titlebar = this.root.find($('.ui-dialog-titlebar'));\n",
       "    titlebar.prepend(buttongrp);\n",
       "}\n",
       "\n",
       "mpl.figure.prototype._root_extra_style = function(el){\n",
       "    var fig = this\n",
       "    el.on(\"remove\", function(){\n",
       "\tfig.close_ws(fig, {});\n",
       "    });\n",
       "}\n",
       "\n",
       "mpl.figure.prototype._canvas_extra_style = function(el){\n",
       "    // this is important to make the div 'focusable\n",
       "    el.attr('tabindex', 0)\n",
       "    // reach out to IPython and tell the keyboard manager to turn it's self\n",
       "    // off when our div gets focus\n",
       "\n",
       "    // location in version 3\n",
       "    if (IPython.notebook.keyboard_manager) {\n",
       "        IPython.notebook.keyboard_manager.register_events(el);\n",
       "    }\n",
       "    else {\n",
       "        // location in version 2\n",
       "        IPython.keyboard_manager.register_events(el);\n",
       "    }\n",
       "\n",
       "}\n",
       "\n",
       "mpl.figure.prototype._key_event_extra = function(event, name) {\n",
       "    var manager = IPython.notebook.keyboard_manager;\n",
       "    if (!manager)\n",
       "        manager = IPython.keyboard_manager;\n",
       "\n",
       "    // Check for shift+enter\n",
       "    if (event.shiftKey && event.which == 13) {\n",
       "        this.canvas_div.blur();\n",
       "        // select the cell after this one\n",
       "        var index = IPython.notebook.find_cell_index(this.cell_info[0]);\n",
       "        IPython.notebook.select(index + 1);\n",
       "    }\n",
       "}\n",
       "\n",
       "mpl.figure.prototype.handle_save = function(fig, msg) {\n",
       "    fig.ondownload(fig, null);\n",
       "}\n",
       "\n",
       "\n",
       "mpl.find_output_cell = function(html_output) {\n",
       "    // Return the cell and output element which can be found *uniquely* in the notebook.\n",
       "    // Note - this is a bit hacky, but it is done because the \"notebook_saving.Notebook\"\n",
       "    // IPython event is triggered only after the cells have been serialised, which for\n",
       "    // our purposes (turning an active figure into a static one), is too late.\n",
       "    var cells = IPython.notebook.get_cells();\n",
       "    var ncells = cells.length;\n",
       "    for (var i=0; i<ncells; i++) {\n",
       "        var cell = cells[i];\n",
       "        if (cell.cell_type === 'code'){\n",
       "            for (var j=0; j<cell.output_area.outputs.length; j++) {\n",
       "                var data = cell.output_area.outputs[j];\n",
       "                if (data.data) {\n",
       "                    // IPython >= 3 moved mimebundle to data attribute of output\n",
       "                    data = data.data;\n",
       "                }\n",
       "                if (data['text/html'] == html_output) {\n",
       "                    return [cell, data, j];\n",
       "                }\n",
       "            }\n",
       "        }\n",
       "    }\n",
       "}\n",
       "\n",
       "// Register the function which deals with the matplotlib target/channel.\n",
       "// The kernel may be null if the page has been refreshed.\n",
       "if (IPython.notebook.kernel != null) {\n",
       "    IPython.notebook.kernel.comm_manager.register_target('matplotlib', mpl.mpl_figure_comm);\n",
       "}\n"
      ],
      "text/plain": [
       "<IPython.core.display.Javascript object>"
      ]
     },
     "metadata": {},
     "output_type": "display_data"
    },
    {
     "data": {
      "text/html": [
       "<img src=\"data:image/png;base64,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\" width=\"1000\">"
      ],
      "text/plain": [
       "<IPython.core.display.HTML object>"
      ]
     },
     "metadata": {},
     "output_type": "display_data"
    }
   ],
   "source": [
    "dual_train_plots(results.index,\n",
    "                 results.cost, results.val,\n",
    "                 results.cost, results.val)\n",
    "plt.tight_layout()\n",
    "plt.savefig(str(output / f'{name}_stats_a.png'))"
   ]
  },
  {
   "cell_type": "code",
   "execution_count": 22,
   "metadata": {},
   "outputs": [],
   "source": [
    "##quit()"
   ]
  },
  {
   "cell_type": "code",
   "execution_count": null,
   "metadata": {},
   "outputs": [],
   "source": []
  },
  {
   "cell_type": "code",
   "execution_count": null,
   "metadata": {},
   "outputs": [],
   "source": []
  }
 ],
 "metadata": {
  "kernelspec": {
   "display_name": "june2020-gpu",
   "language": "python",
   "name": "june2020-gpu"
  },
  "language_info": {
   "codemirror_mode": {
    "name": "ipython",
    "version": 3
   },
   "file_extension": ".py",
   "mimetype": "text/x-python",
   "name": "python",
   "nbconvert_exporter": "python",
   "pygments_lexer": "ipython3",
   "version": "3.7.6"
  }
 },
 "nbformat": 4,
 "nbformat_minor": 2
}
