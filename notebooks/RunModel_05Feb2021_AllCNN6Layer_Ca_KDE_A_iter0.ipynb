{
 "cells": [
  {
   "cell_type": "code",
   "execution_count": 1,
   "metadata": {},
   "outputs": [],
   "source": [
    "##%matplotlib widget\n",
    "## with %matplotlib notebook: seems to require ipympl as part of environment, either\n",
    "## part of the conda environment or \"pip install ipympl\"\n",
    "## otherwise, does not show ANY plots in notebook, plt.savefig() works\n",
    "%matplotlib notebook  \n",
    "##%matplotlib inline    ## --plt.savefig()  works, but re-sizing does NOT\n"
   ]
  },
  {
   "cell_type": "markdown",
   "metadata": {},
   "source": [
    "This is derived from RunModel_Demo_02June2020-SimpleCNNLayer_Ca\n",
    "\n",
    "This notebook is a short demo to illustrate execution.   For odd historical reasons, it uses \"toy Monte Carlo\" (simulated data)for \"training\" and \"full LHCB MC\" for validation.\n",
    "\n",
    "The network architecture is a \"simple\" model that uses 1 input channel (the KDE [kernel density estimator] but from the track parameters) feeding 5 convolutional layers followed by a fully connected layer.\n",
    "\n",
    "In today's version, the network will start with weights from a previously trained version.\n",
    "\n",
    "The 04Feb2021 version of the code is intended to train the same model, but using the KDE_A kernels rather than the original kernels.  The purpose is to test the code that reads in the KDE.\n",
    " "
   ]
  },
  {
   "cell_type": "markdown",
   "metadata": {},
   "source": [
    "Check the current GPU usage. Please try to be nice!"
   ]
  },
  {
   "cell_type": "code",
   "execution_count": 2,
   "metadata": {},
   "outputs": [
    {
     "name": "stdout",
     "output_type": "stream",
     "text": [
      "Fri Feb  5 19:29:36 2021       \r\n",
      "+-----------------------------------------------------------------------------+\r\n",
      "| NVIDIA-SMI 450.36.06    Driver Version: 450.36.06    CUDA Version: 11.0     |\r\n",
      "|-------------------------------+----------------------+----------------------+\r\n",
      "| GPU  Name        Persistence-M| Bus-Id        Disp.A | Volatile Uncorr. ECC |\r\n",
      "| Fan  Temp  Perf  Pwr:Usage/Cap|         Memory-Usage | GPU-Util  Compute M. |\r\n",
      "|                               |                      |               MIG M. |\r\n",
      "|===============================+======================+======================|\r\n",
      "|   0  GeForce RTX 208...  On   | 00000000:18:00.0 Off |                  N/A |\r\n",
      "| 29%   35C    P8    39W / 250W |   5636MiB / 11019MiB |      0%      Default |\r\n",
      "|                               |                      |                  N/A |\r\n",
      "+-------------------------------+----------------------+----------------------+\r\n",
      "|   1  GeForce RTX 208...  On   | 00000000:3B:00.0 Off |                  N/A |\r\n",
      "| 29%   36C    P8    39W / 250W |     63MiB / 11019MiB |      0%      Default |\r\n",
      "|                               |                      |                  N/A |\r\n",
      "+-------------------------------+----------------------+----------------------+\r\n",
      "                                                                               \r\n",
      "+-----------------------------------------------------------------------------+\r\n",
      "| Processes:                                                                  |\r\n",
      "|  GPU   GI   CI        PID   Type   Process name                  GPU Memory |\r\n",
      "|        ID   ID                                                   Usage      |\r\n",
      "|=============================================================================|\r\n",
      "|    0   N/A  N/A     33516      C   ...s/june2020-gpu/bin/python     4565MiB |\r\n",
      "|    0   N/A  N/A    280734      C   .../envs/will-gpu/bin/python     1067MiB |\r\n",
      "|    1   N/A  N/A      3736      G   /usr/bin/X                         33MiB |\r\n",
      "|    1   N/A  N/A      3790      G   /usr/bin/gnome-shell               24MiB |\r\n",
      "+-----------------------------------------------------------------------------+\r\n"
     ]
    }
   ],
   "source": [
    "!nvidia-smi"
   ]
  },
  {
   "cell_type": "markdown",
   "metadata": {},
   "source": [
    "> **WARNING**: The card numbers here are *not* the same as in CUDA. You have been warned."
   ]
  },
  {
   "cell_type": "markdown",
   "metadata": {},
   "source": [
    "## Imports"
   ]
  },
  {
   "cell_type": "code",
   "execution_count": 3,
   "metadata": {},
   "outputs": [],
   "source": [
    "import matplotlib.pyplot as plt\n",
    "import numpy as np\n",
    "import time\n",
    "import torch\n",
    "import pandas as pd\n",
    "\n",
    "# Python 3 standard library\n",
    "from pathlib import Path\n"
   ]
  },
  {
   "cell_type": "markdown",
   "metadata": {},
   "source": [
    "### Set up local parameters"
   ]
  },
  {
   "cell_type": "code",
   "execution_count": 4,
   "metadata": {},
   "outputs": [],
   "source": [
    "n_epochs = 50\n",
    "\n",
    "\n",
    "folder = '05February2021_AllCNN6Layer_Ca_iter0_50epochs_poca_KDE_A_lr_1em3_loss_1p0_4xwill'\n",
    "name = folder\n",
    "\n",
    "# Make an output folder named \"name\" (change if you want)\n",
    "\n",
    "## Special instructions for those working on goofy at UC\n",
    "## Please be very careful to make sure that your folder\n",
    "## does not live in a subdirectory of your home directory\n",
    "## this disk has very little capacity. Instead, use \n",
    "## a subdirectory in /share/lazy with a symbolic link to\n",
    "## it in this (the notebooks) subdirectory\n",
    "folder = 'ML/' + folder\n",
    "output = Path(folder)\n",
    "\n",
    "\n",
    "# Size of batches\n",
    "batch_size = 128\n",
    "\n",
    "# How fast to learn\n",
    "learning_rate = 1e-3"
   ]
  },
  {
   "cell_type": "markdown",
   "metadata": {},
   "source": [
    "Make the output directory if it does not exist:"
   ]
  },
  {
   "cell_type": "code",
   "execution_count": 5,
   "metadata": {},
   "outputs": [],
   "source": [
    "output.mkdir(exist_ok=True)"
   ]
  },
  {
   "cell_type": "markdown",
   "metadata": {},
   "source": [
    "## Get the helper functions\n",
    "\n",
    "Add the directory with the model\n",
    "definitions to the path so we can import from it:\n",
    "\n",
    "> When you type `import X`,\n",
    "Python searches `sys.path` for a python\n",
    "file named `X.py` to import. So we need to add the model directory to the path."
   ]
  },
  {
   "cell_type": "code",
   "execution_count": 6,
   "metadata": {
    "scrolled": true
   },
   "outputs": [],
   "source": [
    "# From model/collectdata.py\n",
    "from model.collectdata_poca_KDE import collect_data_poca\n",
    "\n",
    "# From model/loss.py\n",
    "##from loss import Loss\n",
    "from model.alt_loss_A import Loss\n",
    "\n",
    "# From model/training.py\n",
    "from model.training import trainNet, select_gpu\n",
    "\n",
    "# From model/models.py\n",
    "##  will start with model from TwoFeatures_CNN6Layer_A in the first instance\n",
    "##  see relevant cell below\n",
    "\n",
    "\n",
    "##from model.models_mds_G import SimpleCNN5Layer_Ca as Model\n",
    "from model.models_mds_G import AllCNN6Layer_Ca as Model\n",
    "\n",
    "from model.training import trainNet, select_gpu, Results\n",
    "from model.plots import dual_train_plots, replace_in_ax"
   ]
  },
  {
   "cell_type": "code",
   "execution_count": 7,
   "metadata": {},
   "outputs": [],
   "source": [
    "# This gets built up during the run - do not rerun this cell\n",
    "results = pd.DataFrame([], columns=Results._fields)"
   ]
  },
  {
   "cell_type": "markdown",
   "metadata": {},
   "source": [
    "Set up Torch device configuration. All tensors and model parameters need to know where to be put.\n",
    "This takes a BUS ID number: The BUS ID is the same as the listing at the top of this script."
   ]
  },
  {
   "cell_type": "code",
   "execution_count": 8,
   "metadata": {},
   "outputs": [
    {
     "name": "stdout",
     "output_type": "stream",
     "text": [
      "1 available GPUs (initially using device 0):\n",
      "  0 GeForce RTX 2080 Ti\n"
     ]
    }
   ],
   "source": [
    "device = select_gpu(0)"
   ]
  },
  {
   "cell_type": "markdown",
   "metadata": {},
   "source": [
    "## Loading data\n",
    "\n",
    "Load the dataset, split into parts, then move to device (see `collectdata.py` in the `../model` directory)"
   ]
  },
  {
   "cell_type": "code",
   "execution_count": 9,
   "metadata": {
    "scrolled": true
   },
   "outputs": [
    {
     "name": "stdout",
     "output_type": "stream",
     "text": [
      "Loading data...\n",
      "Loaded /share/lazy/will/data/June30_2020_80k_1.h5 in 12.09 s\n",
      "Loaded /share/lazy/will/data/June30_2020_80k_2.h5 in 12.6 s\n",
      "Loaded /share/lazy/will/data/June30_2020_80k_3.h5 in 12.83 s\n",
      "Loaded /share/lazy/will/data/June30_2020_80k_4.h5 in 12.82 s\n",
      "Constructing 320000 event dataset took 2.175 s\n",
      "Loading data...\n",
      "Loaded dataAA/20K_POCA_kernel_evts_200926.h5 in 2.987 s\n",
      "Constructing 20000 event dataset took 0.08346 s\n"
     ]
    }
   ],
   "source": [
    "## newer vernacular\n",
    "## Training dataset. You can put as many files here as desired.\n",
    "\n",
    "## in this DEMO example we use only one 80K training set -- the model starts with well-trained weights,\n",
    "## and using a smaller training set reduces both the time to load the data and the time to train an epoch\n",
    "##  set the option load_XandXsq = True to use both DKE and KDE^2 as input features\n",
    "\n",
    "train_loader = collect_data_poca('/share/lazy/will/data/June30_2020_80k_1.h5',\n",
    "                                 '/share/lazy/will/data/June30_2020_80k_2.h5',\n",
    "                                 '/share/lazy/will/data/June30_2020_80k_3.h5',\n",
    "                                 '/share/lazy/will/data/June30_2020_80k_4.h5',\n",
    "                            batch_size=batch_size,\n",
    "                           ## device=device,\n",
    "                            masking=True, shuffle=True,\n",
    "                           ## slice = slice(0,18000)\n",
    "                           )\n",
    "\n",
    "val_loader = collect_data_poca('dataAA/20K_POCA_kernel_evts_200926.h5',\n",
    "                            batch_size=batch_size,\n",
    "                           ## device=device,\n",
    "                            masking=True, shuffle=True,\n",
    "                            ##slice = slice(18000,None)\n",
    "                           )\n",
    "\n"
   ]
  },
  {
   "cell_type": "markdown",
   "metadata": {},
   "source": [
    "# Preparing the model"
   ]
  },
  {
   "cell_type": "markdown",
   "metadata": {},
   "source": [
    "Prepare a model, use multiple GPUs if they are VISIBLE, and move the model to the device."
   ]
  },
  {
   "cell_type": "code",
   "execution_count": 10,
   "metadata": {
    "scrolled": true
   },
   "outputs": [
    {
     "name": "stdout",
     "output_type": "stream",
     "text": [
      "ct, child =  0    Conv1d(1, 20, kernel_size=(25,), stride=(1,), padding=(12,))\n",
      "     About to set param.requires_grad=False for ct =  0 params\n",
      "ct, child =  1    Conv1d(20, 10, kernel_size=(15,), stride=(1,), padding=(7,))\n",
      "     About to set param.requires_grad=False for ct =  1 params\n",
      "ct, child =  2    Conv1d(10, 10, kernel_size=(15,), stride=(1,), padding=(7,))\n",
      "     About to set param.requires_grad=False for ct =  2 params\n",
      "ct, child =  3    Conv1d(10, 10, kernel_size=(15,), stride=(1,), padding=(7,))\n",
      "     About to set param.requires_grad=False for ct =  3 params\n",
      "ct, child =  4    Conv1d(10, 1, kernel_size=(5,), stride=(1,), padding=(2,))\n",
      "     About to set param.requires_grad=False for ct =  4 params\n",
      "ct, child =  5    Dropout(p=0.15, inplace=False)\n",
      "     About to set param.requires_grad=False for ct =  5 params\n",
      "ct, child =  6    Dropout(p=0.15, inplace=False)\n",
      "     About to set param.requires_grad=False for ct =  6 params\n",
      "ct, child =  7    Dropout(p=0.15, inplace=False)\n",
      "     About to set param.requires_grad=False for ct =  7 params\n",
      "ct, child =  8    Dropout(p=0.15, inplace=False)\n",
      "     About to set param.requires_grad=False for ct =  8 params\n",
      "ct, child =  9    Dropout(p=0.35, inplace=False)\n",
      "     About to set param.requires_grad=False for ct =  9 params\n",
      "ct, child =  10    Conv1d(1, 1, kernel_size=(91,), stride=(1,), padding=(45,))\n"
     ]
    }
   ],
   "source": [
    "model = Model()\n",
    "\n",
    "##summary(model, input_size=(4, 4000))\n",
    "##print(model.parameters)\n",
    "\n",
    "## add the following code to allow the user to freeze the some of the weights corresponding \n",
    "## to those taken from an earlier model trained with the original target histograms\n",
    "## presumably -- this leaves either the perturbative filter \"fixed\" and lets the \n",
    "## learning focus on the non-perturbative features, so get started faster, or vice versa\n",
    "ct = 0\n",
    "for child in model.children():\n",
    "  print('ct, child = ',ct, \"  \", child)\n",
    "  if ct < 10:\n",
    "    print(\"     About to set param.requires_grad=False for ct = \", ct, \"params\")\n",
    "    for param in child.parameters():\n",
    "        param.requires_grad = False \n",
    "  ct += 1\n",
    "##  mds 200121 loss = Loss(epsilon=1e-5,coefficient=1.0)\n",
    "loss = Loss(epsilon=1e-5,coefficient=2.5)\n",
    "optimizer = torch.optim.Adam(model.parameters(), lr=learning_rate)"
   ]
  },
  {
   "cell_type": "code",
   "execution_count": 11,
   "metadata": {
    "scrolled": true
   },
   "outputs": [
    {
     "name": "stdout",
     "output_type": "stream",
     "text": [
      "Let's use 1 GPUs!\n"
     ]
    }
   ],
   "source": [
    "print(\"Let's use\", torch.cuda.device_count(), \"GPUs!\")\n",
    "if torch.cuda.device_count() > 1:\n",
    "    model = torch.nn.DataParallel(model)"
   ]
  },
  {
   "cell_type": "markdown",
   "metadata": {},
   "source": [
    "Let's move the model's weight matricies to the GPU:"
   ]
  },
  {
   "cell_type": "code",
   "execution_count": 12,
   "metadata": {},
   "outputs": [
    {
     "name": "stdout",
     "output_type": "stream",
     "text": [
      "output =  ML/05February2021_AllCNN6Layer_Ca_iter0_50epochs_poca_KDE_A_lr_1em3_loss_1p0_4xwill\n",
      "pretrained dict_name =  ML/04February2021_SimpleCNN5Layer_Ca_iter3_600epochs_poca_KDE_A_lr_3em4_loss_1p0_4xwill/04February2021_SimpleCNN5Layer_Ca_iter3_600epochs_poca_KDE_A_lr_3em4_loss_1p0_4xwill_final.pyt\n",
      "for model_dict\n",
      "index, k =   0    conv1.weight\n",
      "index, k =   1    conv1.bias\n",
      "index, k =   2    conv2.weight\n",
      "index, k =   3    conv2.bias\n",
      "index, k =   4    conv3.weight\n",
      "index, k =   5    conv3.bias\n",
      "index, k =   6    conv4.weight\n",
      "index, k =   7    conv4.bias\n",
      "index, k =   8    conv5.weight\n",
      "index, k =   9    conv5.bias\n",
      "index, k =   10    finalFilter.weight\n",
      "index, k =   11    finalFilter.bias\n",
      " \n",
      "   for pretrained_dict\n",
      "index, k =   0    conv1.weight\n",
      "index, k =   1    conv1.bias\n",
      "index, k =   2    conv2.weight\n",
      "index, k =   3    conv2.bias\n",
      "index, k =   4    conv3.weight\n",
      "index, k =   5    conv3.bias\n",
      "index, k =   6    conv4.weight\n",
      "index, k =   7    conv4.bias\n",
      "index, k =   8    conv5.weight\n",
      "index, k =   9    conv5.bias\n",
      "index, k =   10    fc1.weight\n",
      "index, k =   11    fc1.bias\n",
      "model_dict instantiated\n"
     ]
    },
    {
     "data": {
      "text/plain": [
       "_IncompatibleKeys(missing_keys=['finalFilter.weight', 'finalFilter.bias'], unexpected_keys=[])"
      ]
     },
     "execution_count": 12,
     "metadata": {},
     "output_type": "execute_result"
    }
   ],
   "source": [
    "print('output = ',output)\n",
    "##print('oldOutput = ',oldOutput)\n",
    "##  use the first four layers from a pre-existing model\n",
    "##  see example at https://discuss.pytorch.org/t/how-to-load-part-of-pre-trained-model/1113\n",
    "\n",
    "##   ML -> /share/lazy/sokoloff/ML\n",
    "d_name = '04February2021_SimpleCNN5Layer_Ca_iter3_600epochs_poca_KDE_A_lr_3em4_loss_1p0_4xwill'\n",
    "d_folder = d_name\n",
    "suffix = 'final'\n",
    "dict_name = 'ML/'+d_folder+'/'+d_name+'_'+suffix+'.pyt'\n",
    "print(\"pretrained dict_name = \",dict_name)\n",
    "pretrained_dict = torch.load(dict_name)\n",
    "\n",
    "\n",
    "model_dict = model.state_dict()\n",
    "## mds 190725 for debugging\n",
    "print(\"for model_dict\")\n",
    "index = 0\n",
    "for k,v in model_dict.items():\n",
    "    print(\"index, k =  \",index,\"  \",k)\n",
    "    index = index+1\n",
    "    \n",
    "print(\" \\n\",\"  for pretrained_dict\")\n",
    "index = 0\n",
    "for k,v in pretrained_dict.items():\n",
    "    print(\"index, k =  \",index,\"  \",k)\n",
    "    index = index+1\n",
    "## mds  \n",
    "\n",
    "print(\"model_dict instantiated\")\n",
    "# 1. filter out unnecessary keys\n",
    "pretrained_dict = {k: v for k, v in pretrained_dict.items() if k in model_dict}\n",
    "## print(\"pretrained_dict iterated\")\n",
    "# 2. overwrite entries in the existing state dict\n",
    "model_dict.update(pretrained_dict) \n",
    "##\n",
    "#   when starting from a model with a fully connected last layer rather than a convolutional layer\n",
    "# 3. load the new state dict\n",
    "#   need to use strict=False as the two models state model attributes do not agree exactly\n",
    "#   see https://pytorch.org/docs/master/_modules/torch/nn/modules/module.html#Module.load_state_dict\n",
    "\n",
    "model.load_state_dict(pretrained_dict,strict=False)\n",
    "\n",
    "## print('model_dict =    ', model_dict)\n"
   ]
  },
  {
   "cell_type": "code",
   "execution_count": 13,
   "metadata": {
    "scrolled": true
   },
   "outputs": [],
   "source": [
    "model = model.to(device)"
   ]
  },
  {
   "cell_type": "markdown",
   "metadata": {},
   "source": [
    "## Train \n",
    "\n",
    "\n",
    "\n",
    "The body of this loop runs once per epoch. Results is a named tuple of values (loss per epoch for training and validation, time each). Start by setting up a plot first:"
   ]
  },
  {
   "cell_type": "code",
   "execution_count": 14,
   "metadata": {
    "scrolled": false
   },
   "outputs": [
    {
     "data": {
      "application/javascript": [
       "/* Put everything inside the global mpl namespace */\n",
       "window.mpl = {};\n",
       "\n",
       "\n",
       "mpl.get_websocket_type = function() {\n",
       "    if (typeof(WebSocket) !== 'undefined') {\n",
       "        return WebSocket;\n",
       "    } else if (typeof(MozWebSocket) !== 'undefined') {\n",
       "        return MozWebSocket;\n",
       "    } else {\n",
       "        alert('Your browser does not have WebSocket support. ' +\n",
       "              'Please try Chrome, Safari or Firefox ≥ 6. ' +\n",
       "              'Firefox 4 and 5 are also supported but you ' +\n",
       "              'have to enable WebSockets in about:config.');\n",
       "    };\n",
       "}\n",
       "\n",
       "mpl.figure = function(figure_id, websocket, ondownload, parent_element) {\n",
       "    this.id = figure_id;\n",
       "\n",
       "    this.ws = websocket;\n",
       "\n",
       "    this.supports_binary = (this.ws.binaryType != undefined);\n",
       "\n",
       "    if (!this.supports_binary) {\n",
       "        var warnings = document.getElementById(\"mpl-warnings\");\n",
       "        if (warnings) {\n",
       "            warnings.style.display = 'block';\n",
       "            warnings.textContent = (\n",
       "                \"This browser does not support binary websocket messages. \" +\n",
       "                    \"Performance may be slow.\");\n",
       "        }\n",
       "    }\n",
       "\n",
       "    this.imageObj = new Image();\n",
       "\n",
       "    this.context = undefined;\n",
       "    this.message = undefined;\n",
       "    this.canvas = undefined;\n",
       "    this.rubberband_canvas = undefined;\n",
       "    this.rubberband_context = undefined;\n",
       "    this.format_dropdown = undefined;\n",
       "\n",
       "    this.image_mode = 'full';\n",
       "\n",
       "    this.root = $('<div/>');\n",
       "    this._root_extra_style(this.root)\n",
       "    this.root.attr('style', 'display: inline-block');\n",
       "\n",
       "    $(parent_element).append(this.root);\n",
       "\n",
       "    this._init_header(this);\n",
       "    this._init_canvas(this);\n",
       "    this._init_toolbar(this);\n",
       "\n",
       "    var fig = this;\n",
       "\n",
       "    this.waiting = false;\n",
       "\n",
       "    this.ws.onopen =  function () {\n",
       "            fig.send_message(\"supports_binary\", {value: fig.supports_binary});\n",
       "            fig.send_message(\"send_image_mode\", {});\n",
       "            if (mpl.ratio != 1) {\n",
       "                fig.send_message(\"set_dpi_ratio\", {'dpi_ratio': mpl.ratio});\n",
       "            }\n",
       "            fig.send_message(\"refresh\", {});\n",
       "        }\n",
       "\n",
       "    this.imageObj.onload = function() {\n",
       "            if (fig.image_mode == 'full') {\n",
       "                // Full images could contain transparency (where diff images\n",
       "                // almost always do), so we need to clear the canvas so that\n",
       "                // there is no ghosting.\n",
       "                fig.context.clearRect(0, 0, fig.canvas.width, fig.canvas.height);\n",
       "            }\n",
       "            fig.context.drawImage(fig.imageObj, 0, 0);\n",
       "        };\n",
       "\n",
       "    this.imageObj.onunload = function() {\n",
       "        fig.ws.close();\n",
       "    }\n",
       "\n",
       "    this.ws.onmessage = this._make_on_message_function(this);\n",
       "\n",
       "    this.ondownload = ondownload;\n",
       "}\n",
       "\n",
       "mpl.figure.prototype._init_header = function() {\n",
       "    var titlebar = $(\n",
       "        '<div class=\"ui-dialog-titlebar ui-widget-header ui-corner-all ' +\n",
       "        'ui-helper-clearfix\"/>');\n",
       "    var titletext = $(\n",
       "        '<div class=\"ui-dialog-title\" style=\"width: 100%; ' +\n",
       "        'text-align: center; padding: 3px;\"/>');\n",
       "    titlebar.append(titletext)\n",
       "    this.root.append(titlebar);\n",
       "    this.header = titletext[0];\n",
       "}\n",
       "\n",
       "\n",
       "\n",
       "mpl.figure.prototype._canvas_extra_style = function(canvas_div) {\n",
       "\n",
       "}\n",
       "\n",
       "\n",
       "mpl.figure.prototype._root_extra_style = function(canvas_div) {\n",
       "\n",
       "}\n",
       "\n",
       "mpl.figure.prototype._init_canvas = function() {\n",
       "    var fig = this;\n",
       "\n",
       "    var canvas_div = $('<div/>');\n",
       "\n",
       "    canvas_div.attr('style', 'position: relative; clear: both; outline: 0');\n",
       "\n",
       "    function canvas_keyboard_event(event) {\n",
       "        return fig.key_event(event, event['data']);\n",
       "    }\n",
       "\n",
       "    canvas_div.keydown('key_press', canvas_keyboard_event);\n",
       "    canvas_div.keyup('key_release', canvas_keyboard_event);\n",
       "    this.canvas_div = canvas_div\n",
       "    this._canvas_extra_style(canvas_div)\n",
       "    this.root.append(canvas_div);\n",
       "\n",
       "    var canvas = $('<canvas/>');\n",
       "    canvas.addClass('mpl-canvas');\n",
       "    canvas.attr('style', \"left: 0; top: 0; z-index: 0; outline: 0\")\n",
       "\n",
       "    this.canvas = canvas[0];\n",
       "    this.context = canvas[0].getContext(\"2d\");\n",
       "\n",
       "    var backingStore = this.context.backingStorePixelRatio ||\n",
       "\tthis.context.webkitBackingStorePixelRatio ||\n",
       "\tthis.context.mozBackingStorePixelRatio ||\n",
       "\tthis.context.msBackingStorePixelRatio ||\n",
       "\tthis.context.oBackingStorePixelRatio ||\n",
       "\tthis.context.backingStorePixelRatio || 1;\n",
       "\n",
       "    mpl.ratio = (window.devicePixelRatio || 1) / backingStore;\n",
       "\n",
       "    var rubberband = $('<canvas/>');\n",
       "    rubberband.attr('style', \"position: absolute; left: 0; top: 0; z-index: 1;\")\n",
       "\n",
       "    var pass_mouse_events = true;\n",
       "\n",
       "    canvas_div.resizable({\n",
       "        start: function(event, ui) {\n",
       "            pass_mouse_events = false;\n",
       "        },\n",
       "        resize: function(event, ui) {\n",
       "            fig.request_resize(ui.size.width, ui.size.height);\n",
       "        },\n",
       "        stop: function(event, ui) {\n",
       "            pass_mouse_events = true;\n",
       "            fig.request_resize(ui.size.width, ui.size.height);\n",
       "        },\n",
       "    });\n",
       "\n",
       "    function mouse_event_fn(event) {\n",
       "        if (pass_mouse_events)\n",
       "            return fig.mouse_event(event, event['data']);\n",
       "    }\n",
       "\n",
       "    rubberband.mousedown('button_press', mouse_event_fn);\n",
       "    rubberband.mouseup('button_release', mouse_event_fn);\n",
       "    // Throttle sequential mouse events to 1 every 20ms.\n",
       "    rubberband.mousemove('motion_notify', mouse_event_fn);\n",
       "\n",
       "    rubberband.mouseenter('figure_enter', mouse_event_fn);\n",
       "    rubberband.mouseleave('figure_leave', mouse_event_fn);\n",
       "\n",
       "    canvas_div.on(\"wheel\", function (event) {\n",
       "        event = event.originalEvent;\n",
       "        event['data'] = 'scroll'\n",
       "        if (event.deltaY < 0) {\n",
       "            event.step = 1;\n",
       "        } else {\n",
       "            event.step = -1;\n",
       "        }\n",
       "        mouse_event_fn(event);\n",
       "    });\n",
       "\n",
       "    canvas_div.append(canvas);\n",
       "    canvas_div.append(rubberband);\n",
       "\n",
       "    this.rubberband = rubberband;\n",
       "    this.rubberband_canvas = rubberband[0];\n",
       "    this.rubberband_context = rubberband[0].getContext(\"2d\");\n",
       "    this.rubberband_context.strokeStyle = \"#000000\";\n",
       "\n",
       "    this._resize_canvas = function(width, height) {\n",
       "        // Keep the size of the canvas, canvas container, and rubber band\n",
       "        // canvas in synch.\n",
       "        canvas_div.css('width', width)\n",
       "        canvas_div.css('height', height)\n",
       "\n",
       "        canvas.attr('width', width * mpl.ratio);\n",
       "        canvas.attr('height', height * mpl.ratio);\n",
       "        canvas.attr('style', 'width: ' + width + 'px; height: ' + height + 'px;');\n",
       "\n",
       "        rubberband.attr('width', width);\n",
       "        rubberband.attr('height', height);\n",
       "    }\n",
       "\n",
       "    // Set the figure to an initial 600x600px, this will subsequently be updated\n",
       "    // upon first draw.\n",
       "    this._resize_canvas(600, 600);\n",
       "\n",
       "    // Disable right mouse context menu.\n",
       "    $(this.rubberband_canvas).bind(\"contextmenu\",function(e){\n",
       "        return false;\n",
       "    });\n",
       "\n",
       "    function set_focus () {\n",
       "        canvas.focus();\n",
       "        canvas_div.focus();\n",
       "    }\n",
       "\n",
       "    window.setTimeout(set_focus, 100);\n",
       "}\n",
       "\n",
       "mpl.figure.prototype._init_toolbar = function() {\n",
       "    var fig = this;\n",
       "\n",
       "    var nav_element = $('<div/>');\n",
       "    nav_element.attr('style', 'width: 100%');\n",
       "    this.root.append(nav_element);\n",
       "\n",
       "    // Define a callback function for later on.\n",
       "    function toolbar_event(event) {\n",
       "        return fig.toolbar_button_onclick(event['data']);\n",
       "    }\n",
       "    function toolbar_mouse_event(event) {\n",
       "        return fig.toolbar_button_onmouseover(event['data']);\n",
       "    }\n",
       "\n",
       "    for(var toolbar_ind in mpl.toolbar_items) {\n",
       "        var name = mpl.toolbar_items[toolbar_ind][0];\n",
       "        var tooltip = mpl.toolbar_items[toolbar_ind][1];\n",
       "        var image = mpl.toolbar_items[toolbar_ind][2];\n",
       "        var method_name = mpl.toolbar_items[toolbar_ind][3];\n",
       "\n",
       "        if (!name) {\n",
       "            // put a spacer in here.\n",
       "            continue;\n",
       "        }\n",
       "        var button = $('<button/>');\n",
       "        button.addClass('ui-button ui-widget ui-state-default ui-corner-all ' +\n",
       "                        'ui-button-icon-only');\n",
       "        button.attr('role', 'button');\n",
       "        button.attr('aria-disabled', 'false');\n",
       "        button.click(method_name, toolbar_event);\n",
       "        button.mouseover(tooltip, toolbar_mouse_event);\n",
       "\n",
       "        var icon_img = $('<span/>');\n",
       "        icon_img.addClass('ui-button-icon-primary ui-icon');\n",
       "        icon_img.addClass(image);\n",
       "        icon_img.addClass('ui-corner-all');\n",
       "\n",
       "        var tooltip_span = $('<span/>');\n",
       "        tooltip_span.addClass('ui-button-text');\n",
       "        tooltip_span.html(tooltip);\n",
       "\n",
       "        button.append(icon_img);\n",
       "        button.append(tooltip_span);\n",
       "\n",
       "        nav_element.append(button);\n",
       "    }\n",
       "\n",
       "    var fmt_picker_span = $('<span/>');\n",
       "\n",
       "    var fmt_picker = $('<select/>');\n",
       "    fmt_picker.addClass('mpl-toolbar-option ui-widget ui-widget-content');\n",
       "    fmt_picker_span.append(fmt_picker);\n",
       "    nav_element.append(fmt_picker_span);\n",
       "    this.format_dropdown = fmt_picker[0];\n",
       "\n",
       "    for (var ind in mpl.extensions) {\n",
       "        var fmt = mpl.extensions[ind];\n",
       "        var option = $(\n",
       "            '<option/>', {selected: fmt === mpl.default_extension}).html(fmt);\n",
       "        fmt_picker.append(option);\n",
       "    }\n",
       "\n",
       "    // Add hover states to the ui-buttons\n",
       "    $( \".ui-button\" ).hover(\n",
       "        function() { $(this).addClass(\"ui-state-hover\");},\n",
       "        function() { $(this).removeClass(\"ui-state-hover\");}\n",
       "    );\n",
       "\n",
       "    var status_bar = $('<span class=\"mpl-message\"/>');\n",
       "    nav_element.append(status_bar);\n",
       "    this.message = status_bar[0];\n",
       "}\n",
       "\n",
       "mpl.figure.prototype.request_resize = function(x_pixels, y_pixels) {\n",
       "    // Request matplotlib to resize the figure. Matplotlib will then trigger a resize in the client,\n",
       "    // which will in turn request a refresh of the image.\n",
       "    this.send_message('resize', {'width': x_pixels, 'height': y_pixels});\n",
       "}\n",
       "\n",
       "mpl.figure.prototype.send_message = function(type, properties) {\n",
       "    properties['type'] = type;\n",
       "    properties['figure_id'] = this.id;\n",
       "    this.ws.send(JSON.stringify(properties));\n",
       "}\n",
       "\n",
       "mpl.figure.prototype.send_draw_message = function() {\n",
       "    if (!this.waiting) {\n",
       "        this.waiting = true;\n",
       "        this.ws.send(JSON.stringify({type: \"draw\", figure_id: this.id}));\n",
       "    }\n",
       "}\n",
       "\n",
       "\n",
       "mpl.figure.prototype.handle_save = function(fig, msg) {\n",
       "    var format_dropdown = fig.format_dropdown;\n",
       "    var format = format_dropdown.options[format_dropdown.selectedIndex].value;\n",
       "    fig.ondownload(fig, format);\n",
       "}\n",
       "\n",
       "\n",
       "mpl.figure.prototype.handle_resize = function(fig, msg) {\n",
       "    var size = msg['size'];\n",
       "    if (size[0] != fig.canvas.width || size[1] != fig.canvas.height) {\n",
       "        fig._resize_canvas(size[0], size[1]);\n",
       "        fig.send_message(\"refresh\", {});\n",
       "    };\n",
       "}\n",
       "\n",
       "mpl.figure.prototype.handle_rubberband = function(fig, msg) {\n",
       "    var x0 = msg['x0'] / mpl.ratio;\n",
       "    var y0 = (fig.canvas.height - msg['y0']) / mpl.ratio;\n",
       "    var x1 = msg['x1'] / mpl.ratio;\n",
       "    var y1 = (fig.canvas.height - msg['y1']) / mpl.ratio;\n",
       "    x0 = Math.floor(x0) + 0.5;\n",
       "    y0 = Math.floor(y0) + 0.5;\n",
       "    x1 = Math.floor(x1) + 0.5;\n",
       "    y1 = Math.floor(y1) + 0.5;\n",
       "    var min_x = Math.min(x0, x1);\n",
       "    var min_y = Math.min(y0, y1);\n",
       "    var width = Math.abs(x1 - x0);\n",
       "    var height = Math.abs(y1 - y0);\n",
       "\n",
       "    fig.rubberband_context.clearRect(\n",
       "        0, 0, fig.canvas.width / mpl.ratio, fig.canvas.height / mpl.ratio);\n",
       "\n",
       "    fig.rubberband_context.strokeRect(min_x, min_y, width, height);\n",
       "}\n",
       "\n",
       "mpl.figure.prototype.handle_figure_label = function(fig, msg) {\n",
       "    // Updates the figure title.\n",
       "    fig.header.textContent = msg['label'];\n",
       "}\n",
       "\n",
       "mpl.figure.prototype.handle_cursor = function(fig, msg) {\n",
       "    var cursor = msg['cursor'];\n",
       "    switch(cursor)\n",
       "    {\n",
       "    case 0:\n",
       "        cursor = 'pointer';\n",
       "        break;\n",
       "    case 1:\n",
       "        cursor = 'default';\n",
       "        break;\n",
       "    case 2:\n",
       "        cursor = 'crosshair';\n",
       "        break;\n",
       "    case 3:\n",
       "        cursor = 'move';\n",
       "        break;\n",
       "    }\n",
       "    fig.rubberband_canvas.style.cursor = cursor;\n",
       "}\n",
       "\n",
       "mpl.figure.prototype.handle_message = function(fig, msg) {\n",
       "    fig.message.textContent = msg['message'];\n",
       "}\n",
       "\n",
       "mpl.figure.prototype.handle_draw = function(fig, msg) {\n",
       "    // Request the server to send over a new figure.\n",
       "    fig.send_draw_message();\n",
       "}\n",
       "\n",
       "mpl.figure.prototype.handle_image_mode = function(fig, msg) {\n",
       "    fig.image_mode = msg['mode'];\n",
       "}\n",
       "\n",
       "mpl.figure.prototype.updated_canvas_event = function() {\n",
       "    // Called whenever the canvas gets updated.\n",
       "    this.send_message(\"ack\", {});\n",
       "}\n",
       "\n",
       "// A function to construct a web socket function for onmessage handling.\n",
       "// Called in the figure constructor.\n",
       "mpl.figure.prototype._make_on_message_function = function(fig) {\n",
       "    return function socket_on_message(evt) {\n",
       "        if (evt.data instanceof Blob) {\n",
       "            /* FIXME: We get \"Resource interpreted as Image but\n",
       "             * transferred with MIME type text/plain:\" errors on\n",
       "             * Chrome.  But how to set the MIME type?  It doesn't seem\n",
       "             * to be part of the websocket stream */\n",
       "            evt.data.type = \"image/png\";\n",
       "\n",
       "            /* Free the memory for the previous frames */\n",
       "            if (fig.imageObj.src) {\n",
       "                (window.URL || window.webkitURL).revokeObjectURL(\n",
       "                    fig.imageObj.src);\n",
       "            }\n",
       "\n",
       "            fig.imageObj.src = (window.URL || window.webkitURL).createObjectURL(\n",
       "                evt.data);\n",
       "            fig.updated_canvas_event();\n",
       "            fig.waiting = false;\n",
       "            return;\n",
       "        }\n",
       "        else if (typeof evt.data === 'string' && evt.data.slice(0, 21) == \"data:image/png;base64\") {\n",
       "            fig.imageObj.src = evt.data;\n",
       "            fig.updated_canvas_event();\n",
       "            fig.waiting = false;\n",
       "            return;\n",
       "        }\n",
       "\n",
       "        var msg = JSON.parse(evt.data);\n",
       "        var msg_type = msg['type'];\n",
       "\n",
       "        // Call the  \"handle_{type}\" callback, which takes\n",
       "        // the figure and JSON message as its only arguments.\n",
       "        try {\n",
       "            var callback = fig[\"handle_\" + msg_type];\n",
       "        } catch (e) {\n",
       "            console.log(\"No handler for the '\" + msg_type + \"' message type: \", msg);\n",
       "            return;\n",
       "        }\n",
       "\n",
       "        if (callback) {\n",
       "            try {\n",
       "                // console.log(\"Handling '\" + msg_type + \"' message: \", msg);\n",
       "                callback(fig, msg);\n",
       "            } catch (e) {\n",
       "                console.log(\"Exception inside the 'handler_\" + msg_type + \"' callback:\", e, e.stack, msg);\n",
       "            }\n",
       "        }\n",
       "    };\n",
       "}\n",
       "\n",
       "// from http://stackoverflow.com/questions/1114465/getting-mouse-location-in-canvas\n",
       "mpl.findpos = function(e) {\n",
       "    //this section is from http://www.quirksmode.org/js/events_properties.html\n",
       "    var targ;\n",
       "    if (!e)\n",
       "        e = window.event;\n",
       "    if (e.target)\n",
       "        targ = e.target;\n",
       "    else if (e.srcElement)\n",
       "        targ = e.srcElement;\n",
       "    if (targ.nodeType == 3) // defeat Safari bug\n",
       "        targ = targ.parentNode;\n",
       "\n",
       "    // jQuery normalizes the pageX and pageY\n",
       "    // pageX,Y are the mouse positions relative to the document\n",
       "    // offset() returns the position of the element relative to the document\n",
       "    var x = e.pageX - $(targ).offset().left;\n",
       "    var y = e.pageY - $(targ).offset().top;\n",
       "\n",
       "    return {\"x\": x, \"y\": y};\n",
       "};\n",
       "\n",
       "/*\n",
       " * return a copy of an object with only non-object keys\n",
       " * we need this to avoid circular references\n",
       " * http://stackoverflow.com/a/24161582/3208463\n",
       " */\n",
       "function simpleKeys (original) {\n",
       "  return Object.keys(original).reduce(function (obj, key) {\n",
       "    if (typeof original[key] !== 'object')\n",
       "        obj[key] = original[key]\n",
       "    return obj;\n",
       "  }, {});\n",
       "}\n",
       "\n",
       "mpl.figure.prototype.mouse_event = function(event, name) {\n",
       "    var canvas_pos = mpl.findpos(event)\n",
       "\n",
       "    if (name === 'button_press')\n",
       "    {\n",
       "        this.canvas.focus();\n",
       "        this.canvas_div.focus();\n",
       "    }\n",
       "\n",
       "    var x = canvas_pos.x * mpl.ratio;\n",
       "    var y = canvas_pos.y * mpl.ratio;\n",
       "\n",
       "    this.send_message(name, {x: x, y: y, button: event.button,\n",
       "                             step: event.step,\n",
       "                             guiEvent: simpleKeys(event)});\n",
       "\n",
       "    /* This prevents the web browser from automatically changing to\n",
       "     * the text insertion cursor when the button is pressed.  We want\n",
       "     * to control all of the cursor setting manually through the\n",
       "     * 'cursor' event from matplotlib */\n",
       "    event.preventDefault();\n",
       "    return false;\n",
       "}\n",
       "\n",
       "mpl.figure.prototype._key_event_extra = function(event, name) {\n",
       "    // Handle any extra behaviour associated with a key event\n",
       "}\n",
       "\n",
       "mpl.figure.prototype.key_event = function(event, name) {\n",
       "\n",
       "    // Prevent repeat events\n",
       "    if (name == 'key_press')\n",
       "    {\n",
       "        if (event.which === this._key)\n",
       "            return;\n",
       "        else\n",
       "            this._key = event.which;\n",
       "    }\n",
       "    if (name == 'key_release')\n",
       "        this._key = null;\n",
       "\n",
       "    var value = '';\n",
       "    if (event.ctrlKey && event.which != 17)\n",
       "        value += \"ctrl+\";\n",
       "    if (event.altKey && event.which != 18)\n",
       "        value += \"alt+\";\n",
       "    if (event.shiftKey && event.which != 16)\n",
       "        value += \"shift+\";\n",
       "\n",
       "    value += 'k';\n",
       "    value += event.which.toString();\n",
       "\n",
       "    this._key_event_extra(event, name);\n",
       "\n",
       "    this.send_message(name, {key: value,\n",
       "                             guiEvent: simpleKeys(event)});\n",
       "    return false;\n",
       "}\n",
       "\n",
       "mpl.figure.prototype.toolbar_button_onclick = function(name) {\n",
       "    if (name == 'download') {\n",
       "        this.handle_save(this, null);\n",
       "    } else {\n",
       "        this.send_message(\"toolbar_button\", {name: name});\n",
       "    }\n",
       "};\n",
       "\n",
       "mpl.figure.prototype.toolbar_button_onmouseover = function(tooltip) {\n",
       "    this.message.textContent = tooltip;\n",
       "};\n",
       "mpl.toolbar_items = [[\"Home\", \"Reset original view\", \"fa fa-home icon-home\", \"home\"], [\"Back\", \"Back to previous view\", \"fa fa-arrow-left icon-arrow-left\", \"back\"], [\"Forward\", \"Forward to next view\", \"fa fa-arrow-right icon-arrow-right\", \"forward\"], [\"\", \"\", \"\", \"\"], [\"Pan\", \"Pan axes with left mouse, zoom with right\", \"fa fa-arrows icon-move\", \"pan\"], [\"Zoom\", \"Zoom to rectangle\", \"fa fa-square-o icon-check-empty\", \"zoom\"], [\"\", \"\", \"\", \"\"], [\"Download\", \"Download plot\", \"fa fa-floppy-o icon-save\", \"download\"]];\n",
       "\n",
       "mpl.extensions = [\"eps\", \"jpeg\", \"pdf\", \"png\", \"ps\", \"raw\", \"svg\", \"tif\"];\n",
       "\n",
       "mpl.default_extension = \"png\";var comm_websocket_adapter = function(comm) {\n",
       "    // Create a \"websocket\"-like object which calls the given IPython comm\n",
       "    // object with the appropriate methods. Currently this is a non binary\n",
       "    // socket, so there is still some room for performance tuning.\n",
       "    var ws = {};\n",
       "\n",
       "    ws.close = function() {\n",
       "        comm.close()\n",
       "    };\n",
       "    ws.send = function(m) {\n",
       "        //console.log('sending', m);\n",
       "        comm.send(m);\n",
       "    };\n",
       "    // Register the callback with on_msg.\n",
       "    comm.on_msg(function(msg) {\n",
       "        //console.log('receiving', msg['content']['data'], msg);\n",
       "        // Pass the mpl event to the overridden (by mpl) onmessage function.\n",
       "        ws.onmessage(msg['content']['data'])\n",
       "    });\n",
       "    return ws;\n",
       "}\n",
       "\n",
       "mpl.mpl_figure_comm = function(comm, msg) {\n",
       "    // This is the function which gets called when the mpl process\n",
       "    // starts-up an IPython Comm through the \"matplotlib\" channel.\n",
       "\n",
       "    var id = msg.content.data.id;\n",
       "    // Get hold of the div created by the display call when the Comm\n",
       "    // socket was opened in Python.\n",
       "    var element = $(\"#\" + id);\n",
       "    var ws_proxy = comm_websocket_adapter(comm)\n",
       "\n",
       "    function ondownload(figure, format) {\n",
       "        window.open(figure.imageObj.src);\n",
       "    }\n",
       "\n",
       "    var fig = new mpl.figure(id, ws_proxy,\n",
       "                           ondownload,\n",
       "                           element.get(0));\n",
       "\n",
       "    // Call onopen now - mpl needs it, as it is assuming we've passed it a real\n",
       "    // web socket which is closed, not our websocket->open comm proxy.\n",
       "    ws_proxy.onopen();\n",
       "\n",
       "    fig.parent_element = element.get(0);\n",
       "    fig.cell_info = mpl.find_output_cell(\"<div id='\" + id + \"'></div>\");\n",
       "    if (!fig.cell_info) {\n",
       "        console.error(\"Failed to find cell for figure\", id, fig);\n",
       "        return;\n",
       "    }\n",
       "\n",
       "    var output_index = fig.cell_info[2]\n",
       "    var cell = fig.cell_info[0];\n",
       "\n",
       "};\n",
       "\n",
       "mpl.figure.prototype.handle_close = function(fig, msg) {\n",
       "    var width = fig.canvas.width/mpl.ratio\n",
       "    fig.root.unbind('remove')\n",
       "\n",
       "    // Update the output cell to use the data from the current canvas.\n",
       "    fig.push_to_output();\n",
       "    var dataURL = fig.canvas.toDataURL();\n",
       "    // Re-enable the keyboard manager in IPython - without this line, in FF,\n",
       "    // the notebook keyboard shortcuts fail.\n",
       "    IPython.keyboard_manager.enable()\n",
       "    $(fig.parent_element).html('<img src=\"' + dataURL + '\" width=\"' + width + '\">');\n",
       "    fig.close_ws(fig, msg);\n",
       "}\n",
       "\n",
       "mpl.figure.prototype.close_ws = function(fig, msg){\n",
       "    fig.send_message('closing', msg);\n",
       "    // fig.ws.close()\n",
       "}\n",
       "\n",
       "mpl.figure.prototype.push_to_output = function(remove_interactive) {\n",
       "    // Turn the data on the canvas into data in the output cell.\n",
       "    var width = this.canvas.width/mpl.ratio\n",
       "    var dataURL = this.canvas.toDataURL();\n",
       "    this.cell_info[1]['text/html'] = '<img src=\"' + dataURL + '\" width=\"' + width + '\">';\n",
       "}\n",
       "\n",
       "mpl.figure.prototype.updated_canvas_event = function() {\n",
       "    // Tell IPython that the notebook contents must change.\n",
       "    IPython.notebook.set_dirty(true);\n",
       "    this.send_message(\"ack\", {});\n",
       "    var fig = this;\n",
       "    // Wait a second, then push the new image to the DOM so\n",
       "    // that it is saved nicely (might be nice to debounce this).\n",
       "    setTimeout(function () { fig.push_to_output() }, 1000);\n",
       "}\n",
       "\n",
       "mpl.figure.prototype._init_toolbar = function() {\n",
       "    var fig = this;\n",
       "\n",
       "    var nav_element = $('<div/>');\n",
       "    nav_element.attr('style', 'width: 100%');\n",
       "    this.root.append(nav_element);\n",
       "\n",
       "    // Define a callback function for later on.\n",
       "    function toolbar_event(event) {\n",
       "        return fig.toolbar_button_onclick(event['data']);\n",
       "    }\n",
       "    function toolbar_mouse_event(event) {\n",
       "        return fig.toolbar_button_onmouseover(event['data']);\n",
       "    }\n",
       "\n",
       "    for(var toolbar_ind in mpl.toolbar_items){\n",
       "        var name = mpl.toolbar_items[toolbar_ind][0];\n",
       "        var tooltip = mpl.toolbar_items[toolbar_ind][1];\n",
       "        var image = mpl.toolbar_items[toolbar_ind][2];\n",
       "        var method_name = mpl.toolbar_items[toolbar_ind][3];\n",
       "\n",
       "        if (!name) { continue; };\n",
       "\n",
       "        var button = $('<button class=\"btn btn-default\" href=\"#\" title=\"' + name + '\"><i class=\"fa ' + image + ' fa-lg\"></i></button>');\n",
       "        button.click(method_name, toolbar_event);\n",
       "        button.mouseover(tooltip, toolbar_mouse_event);\n",
       "        nav_element.append(button);\n",
       "    }\n",
       "\n",
       "    // Add the status bar.\n",
       "    var status_bar = $('<span class=\"mpl-message\" style=\"text-align:right; float: right;\"/>');\n",
       "    nav_element.append(status_bar);\n",
       "    this.message = status_bar[0];\n",
       "\n",
       "    // Add the close button to the window.\n",
       "    var buttongrp = $('<div class=\"btn-group inline pull-right\"></div>');\n",
       "    var button = $('<button class=\"btn btn-mini btn-primary\" href=\"#\" title=\"Stop Interaction\"><i class=\"fa fa-power-off icon-remove icon-large\"></i></button>');\n",
       "    button.click(function (evt) { fig.handle_close(fig, {}); } );\n",
       "    button.mouseover('Stop Interaction', toolbar_mouse_event);\n",
       "    buttongrp.append(button);\n",
       "    var titlebar = this.root.find($('.ui-dialog-titlebar'));\n",
       "    titlebar.prepend(buttongrp);\n",
       "}\n",
       "\n",
       "mpl.figure.prototype._root_extra_style = function(el){\n",
       "    var fig = this\n",
       "    el.on(\"remove\", function(){\n",
       "\tfig.close_ws(fig, {});\n",
       "    });\n",
       "}\n",
       "\n",
       "mpl.figure.prototype._canvas_extra_style = function(el){\n",
       "    // this is important to make the div 'focusable\n",
       "    el.attr('tabindex', 0)\n",
       "    // reach out to IPython and tell the keyboard manager to turn it's self\n",
       "    // off when our div gets focus\n",
       "\n",
       "    // location in version 3\n",
       "    if (IPython.notebook.keyboard_manager) {\n",
       "        IPython.notebook.keyboard_manager.register_events(el);\n",
       "    }\n",
       "    else {\n",
       "        // location in version 2\n",
       "        IPython.keyboard_manager.register_events(el);\n",
       "    }\n",
       "\n",
       "}\n",
       "\n",
       "mpl.figure.prototype._key_event_extra = function(event, name) {\n",
       "    var manager = IPython.notebook.keyboard_manager;\n",
       "    if (!manager)\n",
       "        manager = IPython.keyboard_manager;\n",
       "\n",
       "    // Check for shift+enter\n",
       "    if (event.shiftKey && event.which == 13) {\n",
       "        this.canvas_div.blur();\n",
       "        // select the cell after this one\n",
       "        var index = IPython.notebook.find_cell_index(this.cell_info[0]);\n",
       "        IPython.notebook.select(index + 1);\n",
       "    }\n",
       "}\n",
       "\n",
       "mpl.figure.prototype.handle_save = function(fig, msg) {\n",
       "    fig.ondownload(fig, null);\n",
       "}\n",
       "\n",
       "\n",
       "mpl.find_output_cell = function(html_output) {\n",
       "    // Return the cell and output element which can be found *uniquely* in the notebook.\n",
       "    // Note - this is a bit hacky, but it is done because the \"notebook_saving.Notebook\"\n",
       "    // IPython event is triggered only after the cells have been serialised, which for\n",
       "    // our purposes (turning an active figure into a static one), is too late.\n",
       "    var cells = IPython.notebook.get_cells();\n",
       "    var ncells = cells.length;\n",
       "    for (var i=0; i<ncells; i++) {\n",
       "        var cell = cells[i];\n",
       "        if (cell.cell_type === 'code'){\n",
       "            for (var j=0; j<cell.output_area.outputs.length; j++) {\n",
       "                var data = cell.output_area.outputs[j];\n",
       "                if (data.data) {\n",
       "                    // IPython >= 3 moved mimebundle to data attribute of output\n",
       "                    data = data.data;\n",
       "                }\n",
       "                if (data['text/html'] == html_output) {\n",
       "                    return [cell, data, j];\n",
       "                }\n",
       "            }\n",
       "        }\n",
       "    }\n",
       "}\n",
       "\n",
       "// Register the function which deals with the matplotlib target/channel.\n",
       "// The kernel may be null if the page has been refreshed.\n",
       "if (IPython.notebook.kernel != null) {\n",
       "    IPython.notebook.kernel.comm_manager.register_target('matplotlib', mpl.mpl_figure_comm);\n",
       "}\n"
      ],
      "text/plain": [
       "<IPython.core.display.Javascript object>"
      ]
     },
     "metadata": {},
     "output_type": "display_data"
    },
    {
     "data": {
      "text/html": [
       "<img src=\"data:image/png;base64,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\" width=\"1000\">"
      ],
      "text/plain": [
       "<IPython.core.display.HTML object>"
      ]
     },
     "metadata": {},
     "output_type": "display_data"
    }
   ],
   "source": [
    "ax, tax, lax, lines = dual_train_plots()\n",
    "fig = ax.figure\n",
    "plt.tight_layout()"
   ]
  },
  {
   "cell_type": "code",
   "execution_count": 15,
   "metadata": {
    "scrolled": false
   },
   "outputs": [
    {
     "name": "stdout",
     "output_type": "stream",
     "text": [
      "Number of batches: train = 2500, val = 157\n"
     ]
    },
    {
     "data": {
      "application/vnd.jupyter.widget-view+json": {
       "model_id": "287b348c314f45599ae71d3b63436c4c",
       "version_major": 2,
       "version_minor": 0
      },
      "text/plain": [
       "HBox(children=(FloatProgress(value=0.0, description='Epochs', layout=Layout(flex='2'), max=50.0, style=Progres…"
      ]
     },
     "metadata": {},
     "output_type": "display_data"
    },
    {
     "data": {
      "application/vnd.jupyter.widget-view+json": {
       "model_id": "",
       "version_major": 2,
       "version_minor": 0
      },
      "text/plain": [
       "HBox(children=(FloatProgress(value=0.0, description='Training', layout=Layout(flex='2'), max=2500.0, style=Pro…"
      ]
     },
     "metadata": {},
     "output_type": "display_data"
    },
    {
     "name": "stdout",
     "output_type": "stream",
     "text": [
      "Epoch 0: train=688.319, val=174.035, took 30.928 s\n",
      "  Validation Found 17 of 108007, added 17341 (eff 0.02%) (0.867 FP/event)\n"
     ]
    },
    {
     "data": {
      "application/vnd.jupyter.widget-view+json": {
       "model_id": "",
       "version_major": 2,
       "version_minor": 0
      },
      "text/plain": [
       "HBox(children=(FloatProgress(value=0.0, description='Training', layout=Layout(flex='2'), max=2500.0, style=Pro…"
      ]
     },
     "metadata": {},
     "output_type": "display_data"
    },
    {
     "name": "stdout",
     "output_type": "stream",
     "text": [
      "Epoch 1: train=88.9281, val=54.7279, took 24.029 s\n",
      "  Validation Found 9 of 108007, added 5291 (eff 0.01%) (0.265 FP/event)\n"
     ]
    },
    {
     "data": {
      "application/vnd.jupyter.widget-view+json": {
       "model_id": "",
       "version_major": 2,
       "version_minor": 0
      },
      "text/plain": [
       "HBox(children=(FloatProgress(value=0.0, description='Training', layout=Layout(flex='2'), max=2500.0, style=Pro…"
      ]
     },
     "metadata": {},
     "output_type": "display_data"
    },
    {
     "name": "stdout",
     "output_type": "stream",
     "text": [
      "Epoch 2: train=51.9648, val=46.4943, took 23.574 s\n",
      "  Validation Found 7 of 108007, added 2224 (eff 0.01%) (0.111 FP/event)\n"
     ]
    },
    {
     "data": {
      "application/vnd.jupyter.widget-view+json": {
       "model_id": "",
       "version_major": 2,
       "version_minor": 0
      },
      "text/plain": [
       "HBox(children=(FloatProgress(value=0.0, description='Training', layout=Layout(flex='2'), max=2500.0, style=Pro…"
      ]
     },
     "metadata": {},
     "output_type": "display_data"
    },
    {
     "name": "stdout",
     "output_type": "stream",
     "text": [
      "Epoch 3: train=45.9951, val=43.5957, took 24.621 s\n",
      "  Validation Found 7 of 108007, added 921 (eff 0.01%) (0.046 FP/event)\n"
     ]
    },
    {
     "data": {
      "application/vnd.jupyter.widget-view+json": {
       "model_id": "",
       "version_major": 2,
       "version_minor": 0
      },
      "text/plain": [
       "HBox(children=(FloatProgress(value=0.0, description='Training', layout=Layout(flex='2'), max=2500.0, style=Pro…"
      ]
     },
     "metadata": {},
     "output_type": "display_data"
    },
    {
     "name": "stdout",
     "output_type": "stream",
     "text": [
      "Epoch 4: train=43.8646, val=42.7573, took 24.048 s\n",
      "  Validation Found 9 of 108007, added 277 (eff 0.01%) (0.0138 FP/event)\n"
     ]
    },
    {
     "data": {
      "application/vnd.jupyter.widget-view+json": {
       "model_id": "",
       "version_major": 2,
       "version_minor": 0
      },
      "text/plain": [
       "HBox(children=(FloatProgress(value=0.0, description='Training', layout=Layout(flex='2'), max=2500.0, style=Pro…"
      ]
     },
     "metadata": {},
     "output_type": "display_data"
    },
    {
     "name": "stdout",
     "output_type": "stream",
     "text": [
      "Epoch 5: train=43.0536, val=42.4615, took 24.429 s\n",
      "  Validation Found 15 of 108007, added 109 (eff 0.01%) (0.00545 FP/event)\n"
     ]
    },
    {
     "data": {
      "application/vnd.jupyter.widget-view+json": {
       "model_id": "",
       "version_major": 2,
       "version_minor": 0
      },
      "text/plain": [
       "HBox(children=(FloatProgress(value=0.0, description='Training', layout=Layout(flex='2'), max=2500.0, style=Pro…"
      ]
     },
     "metadata": {},
     "output_type": "display_data"
    },
    {
     "name": "stdout",
     "output_type": "stream",
     "text": [
      "Epoch 6: train=40.127, val=18.0942, took 24.263 s\n",
      "  Validation Found 74986 of 108007, added 5306 (eff 69.43%) (0.265 FP/event)\n"
     ]
    },
    {
     "data": {
      "application/vnd.jupyter.widget-view+json": {
       "model_id": "",
       "version_major": 2,
       "version_minor": 0
      },
      "text/plain": [
       "HBox(children=(FloatProgress(value=0.0, description='Training', layout=Layout(flex='2'), max=2500.0, style=Pro…"
      ]
     },
     "metadata": {},
     "output_type": "display_data"
    },
    {
     "name": "stdout",
     "output_type": "stream",
     "text": [
      "Epoch 7: train=17.4976, val=13.5013, took 24.803 s\n",
      "  Validation Found 98127 of 108007, added 6165 (eff 90.85%) (0.308 FP/event)\n"
     ]
    },
    {
     "data": {
      "application/vnd.jupyter.widget-view+json": {
       "model_id": "",
       "version_major": 2,
       "version_minor": 0
      },
      "text/plain": [
       "HBox(children=(FloatProgress(value=0.0, description='Training', layout=Layout(flex='2'), max=2500.0, style=Pro…"
      ]
     },
     "metadata": {},
     "output_type": "display_data"
    },
    {
     "name": "stdout",
     "output_type": "stream",
     "text": [
      "Epoch 8: train=14.3986, val=11.9137, took 24.777 s\n",
      "  Validation Found 100113 of 108007, added 5805 (eff 92.69%) (0.29 FP/event)\n"
     ]
    },
    {
     "data": {
      "application/vnd.jupyter.widget-view+json": {
       "model_id": "",
       "version_major": 2,
       "version_minor": 0
      },
      "text/plain": [
       "HBox(children=(FloatProgress(value=0.0, description='Training', layout=Layout(flex='2'), max=2500.0, style=Pro…"
      ]
     },
     "metadata": {},
     "output_type": "display_data"
    },
    {
     "name": "stdout",
     "output_type": "stream",
     "text": [
      "Epoch 9: train=12.5484, val=10.0476, took 23.055 s\n",
      "  Validation Found 100552 of 108007, added 5031 (eff 93.10%) (0.252 FP/event)\n"
     ]
    },
    {
     "data": {
      "application/vnd.jupyter.widget-view+json": {
       "model_id": "",
       "version_major": 2,
       "version_minor": 0
      },
      "text/plain": [
       "HBox(children=(FloatProgress(value=0.0, description='Training', layout=Layout(flex='2'), max=2500.0, style=Pro…"
      ]
     },
     "metadata": {},
     "output_type": "display_data"
    },
    {
     "name": "stdout",
     "output_type": "stream",
     "text": [
      "Epoch 10: train=11.1888, val=9.17601, took 23.251 s\n",
      "  Validation Found 100383 of 108007, added 3908 (eff 92.94%) (0.195 FP/event)\n"
     ]
    },
    {
     "data": {
      "application/vnd.jupyter.widget-view+json": {
       "model_id": "",
       "version_major": 2,
       "version_minor": 0
      },
      "text/plain": [
       "HBox(children=(FloatProgress(value=0.0, description='Training', layout=Layout(flex='2'), max=2500.0, style=Pro…"
      ]
     },
     "metadata": {},
     "output_type": "display_data"
    },
    {
     "name": "stdout",
     "output_type": "stream",
     "text": [
      "Epoch 11: train=10.8631, val=9.1174, took 23.331 s\n",
      "  Validation Found 100198 of 108007, added 3619 (eff 92.77%) (0.181 FP/event)\n"
     ]
    },
    {
     "data": {
      "application/vnd.jupyter.widget-view+json": {
       "model_id": "",
       "version_major": 2,
       "version_minor": 0
      },
      "text/plain": [
       "HBox(children=(FloatProgress(value=0.0, description='Training', layout=Layout(flex='2'), max=2500.0, style=Pro…"
      ]
     },
     "metadata": {},
     "output_type": "display_data"
    },
    {
     "name": "stdout",
     "output_type": "stream",
     "text": [
      "Epoch 12: train=10.8509, val=9.11651, took 22.967 s\n",
      "  Validation Found 100192 of 108007, added 3616 (eff 92.76%) (0.181 FP/event)\n"
     ]
    },
    {
     "data": {
      "application/vnd.jupyter.widget-view+json": {
       "model_id": "",
       "version_major": 2,
       "version_minor": 0
      },
      "text/plain": [
       "HBox(children=(FloatProgress(value=0.0, description='Training', layout=Layout(flex='2'), max=2500.0, style=Pro…"
      ]
     },
     "metadata": {},
     "output_type": "display_data"
    },
    {
     "name": "stdout",
     "output_type": "stream",
     "text": [
      "Epoch 13: train=10.8556, val=9.10686, took 23.291 s\n",
      "  Validation Found 100151 of 108007, added 3625 (eff 92.73%) (0.181 FP/event)\n"
     ]
    },
    {
     "data": {
      "application/vnd.jupyter.widget-view+json": {
       "model_id": "",
       "version_major": 2,
       "version_minor": 0
      },
      "text/plain": [
       "HBox(children=(FloatProgress(value=0.0, description='Training', layout=Layout(flex='2'), max=2500.0, style=Pro…"
      ]
     },
     "metadata": {},
     "output_type": "display_data"
    },
    {
     "name": "stdout",
     "output_type": "stream",
     "text": [
      "Epoch 14: train=10.8562, val=9.09677, took 23.339 s\n",
      "  Validation Found 100132 of 108007, added 3590 (eff 92.71%) (0.179 FP/event)\n"
     ]
    },
    {
     "data": {
      "application/vnd.jupyter.widget-view+json": {
       "model_id": "",
       "version_major": 2,
       "version_minor": 0
      },
      "text/plain": [
       "HBox(children=(FloatProgress(value=0.0, description='Training', layout=Layout(flex='2'), max=2500.0, style=Pro…"
      ]
     },
     "metadata": {},
     "output_type": "display_data"
    },
    {
     "name": "stdout",
     "output_type": "stream",
     "text": [
      "Epoch 15: train=10.853, val=9.10655, took 24.293 s\n",
      "  Validation Found 100138 of 108007, added 3604 (eff 92.71%) (0.18 FP/event)\n"
     ]
    },
    {
     "data": {
      "application/vnd.jupyter.widget-view+json": {
       "model_id": "",
       "version_major": 2,
       "version_minor": 0
      },
      "text/plain": [
       "HBox(children=(FloatProgress(value=0.0, description='Training', layout=Layout(flex='2'), max=2500.0, style=Pro…"
      ]
     },
     "metadata": {},
     "output_type": "display_data"
    },
    {
     "name": "stdout",
     "output_type": "stream",
     "text": [
      "Epoch 16: train=10.8567, val=9.11515, took 24.286 s\n",
      "  Validation Found 100183 of 108007, added 3627 (eff 92.76%) (0.181 FP/event)\n"
     ]
    },
    {
     "data": {
      "application/vnd.jupyter.widget-view+json": {
       "model_id": "",
       "version_major": 2,
       "version_minor": 0
      },
      "text/plain": [
       "HBox(children=(FloatProgress(value=0.0, description='Training', layout=Layout(flex='2'), max=2500.0, style=Pro…"
      ]
     },
     "metadata": {},
     "output_type": "display_data"
    },
    {
     "name": "stdout",
     "output_type": "stream",
     "text": [
      "Epoch 17: train=10.8574, val=9.11751, took 24.336 s\n",
      "  Validation Found 100197 of 108007, added 3636 (eff 92.77%) (0.182 FP/event)\n"
     ]
    },
    {
     "data": {
      "application/vnd.jupyter.widget-view+json": {
       "model_id": "",
       "version_major": 2,
       "version_minor": 0
      },
      "text/plain": [
       "HBox(children=(FloatProgress(value=0.0, description='Training', layout=Layout(flex='2'), max=2500.0, style=Pro…"
      ]
     },
     "metadata": {},
     "output_type": "display_data"
    },
    {
     "name": "stdout",
     "output_type": "stream",
     "text": [
      "Epoch 18: train=10.8531, val=9.10352, took 24.05 s\n",
      "  Validation Found 100147 of 108007, added 3589 (eff 92.72%) (0.179 FP/event)\n"
     ]
    },
    {
     "data": {
      "application/vnd.jupyter.widget-view+json": {
       "model_id": "",
       "version_major": 2,
       "version_minor": 0
      },
      "text/plain": [
       "HBox(children=(FloatProgress(value=0.0, description='Training', layout=Layout(flex='2'), max=2500.0, style=Pro…"
      ]
     },
     "metadata": {},
     "output_type": "display_data"
    },
    {
     "name": "stdout",
     "output_type": "stream",
     "text": [
      "Epoch 19: train=10.8628, val=9.11033, took 23.912 s\n",
      "  Validation Found 100180 of 108007, added 3610 (eff 92.75%) (0.18 FP/event)\n"
     ]
    },
    {
     "data": {
      "application/vnd.jupyter.widget-view+json": {
       "model_id": "",
       "version_major": 2,
       "version_minor": 0
      },
      "text/plain": [
       "HBox(children=(FloatProgress(value=0.0, description='Training', layout=Layout(flex='2'), max=2500.0, style=Pro…"
      ]
     },
     "metadata": {},
     "output_type": "display_data"
    },
    {
     "name": "stdout",
     "output_type": "stream",
     "text": [
      "Epoch 20: train=10.8606, val=9.11829, took 23.854 s\n",
      "  Validation Found 100205 of 108007, added 3620 (eff 92.78%) (0.181 FP/event)\n"
     ]
    },
    {
     "data": {
      "application/vnd.jupyter.widget-view+json": {
       "model_id": "",
       "version_major": 2,
       "version_minor": 0
      },
      "text/plain": [
       "HBox(children=(FloatProgress(value=0.0, description='Training', layout=Layout(flex='2'), max=2500.0, style=Pro…"
      ]
     },
     "metadata": {},
     "output_type": "display_data"
    },
    {
     "name": "stdout",
     "output_type": "stream",
     "text": [
      "Epoch 21: train=10.8587, val=9.1061, took 23.901 s\n",
      "  Validation Found 100161 of 108007, added 3590 (eff 92.74%) (0.179 FP/event)\n"
     ]
    },
    {
     "data": {
      "application/vnd.jupyter.widget-view+json": {
       "model_id": "",
       "version_major": 2,
       "version_minor": 0
      },
      "text/plain": [
       "HBox(children=(FloatProgress(value=0.0, description='Training', layout=Layout(flex='2'), max=2500.0, style=Pro…"
      ]
     },
     "metadata": {},
     "output_type": "display_data"
    },
    {
     "name": "stdout",
     "output_type": "stream",
     "text": [
      "Epoch 22: train=10.8571, val=9.10804, took 23.87 s\n",
      "  Validation Found 100176 of 108007, added 3611 (eff 92.75%) (0.181 FP/event)\n"
     ]
    },
    {
     "data": {
      "application/vnd.jupyter.widget-view+json": {
       "model_id": "",
       "version_major": 2,
       "version_minor": 0
      },
      "text/plain": [
       "HBox(children=(FloatProgress(value=0.0, description='Training', layout=Layout(flex='2'), max=2500.0, style=Pro…"
      ]
     },
     "metadata": {},
     "output_type": "display_data"
    },
    {
     "name": "stdout",
     "output_type": "stream",
     "text": [
      "Epoch 23: train=10.8553, val=9.11421, took 23.943 s\n",
      "  Validation Found 100181 of 108007, added 3626 (eff 92.75%) (0.181 FP/event)\n"
     ]
    },
    {
     "data": {
      "application/vnd.jupyter.widget-view+json": {
       "model_id": "",
       "version_major": 2,
       "version_minor": 0
      },
      "text/plain": [
       "HBox(children=(FloatProgress(value=0.0, description='Training', layout=Layout(flex='2'), max=2500.0, style=Pro…"
      ]
     },
     "metadata": {},
     "output_type": "display_data"
    },
    {
     "name": "stdout",
     "output_type": "stream",
     "text": [
      "Epoch 24: train=10.8529, val=9.11367, took 24.144 s\n",
      "  Validation Found 100187 of 108007, added 3596 (eff 92.76%) (0.18 FP/event)\n"
     ]
    },
    {
     "data": {
      "application/vnd.jupyter.widget-view+json": {
       "model_id": "",
       "version_major": 2,
       "version_minor": 0
      },
      "text/plain": [
       "HBox(children=(FloatProgress(value=0.0, description='Training', layout=Layout(flex='2'), max=2500.0, style=Pro…"
      ]
     },
     "metadata": {},
     "output_type": "display_data"
    },
    {
     "name": "stdout",
     "output_type": "stream",
     "text": [
      "Epoch 25: train=10.8569, val=9.1131, took 23.898 s\n",
      "  Validation Found 100179 of 108007, added 3616 (eff 92.75%) (0.181 FP/event)\n"
     ]
    },
    {
     "data": {
      "application/vnd.jupyter.widget-view+json": {
       "model_id": "",
       "version_major": 2,
       "version_minor": 0
      },
      "text/plain": [
       "HBox(children=(FloatProgress(value=0.0, description='Training', layout=Layout(flex='2'), max=2500.0, style=Pro…"
      ]
     },
     "metadata": {},
     "output_type": "display_data"
    },
    {
     "name": "stdout",
     "output_type": "stream",
     "text": [
      "Epoch 26: train=10.8533, val=9.09563, took 24.286 s\n",
      "  Validation Found 100145 of 108007, added 3583 (eff 92.72%) (0.179 FP/event)\n"
     ]
    },
    {
     "data": {
      "application/vnd.jupyter.widget-view+json": {
       "model_id": "",
       "version_major": 2,
       "version_minor": 0
      },
      "text/plain": [
       "HBox(children=(FloatProgress(value=0.0, description='Training', layout=Layout(flex='2'), max=2500.0, style=Pro…"
      ]
     },
     "metadata": {},
     "output_type": "display_data"
    },
    {
     "name": "stdout",
     "output_type": "stream",
     "text": [
      "Epoch 27: train=10.8556, val=9.09763, took 24.18 s\n",
      "  Validation Found 100138 of 108007, added 3592 (eff 92.71%) (0.18 FP/event)\n"
     ]
    },
    {
     "data": {
      "application/vnd.jupyter.widget-view+json": {
       "model_id": "",
       "version_major": 2,
       "version_minor": 0
      },
      "text/plain": [
       "HBox(children=(FloatProgress(value=0.0, description='Training', layout=Layout(flex='2'), max=2500.0, style=Pro…"
      ]
     },
     "metadata": {},
     "output_type": "display_data"
    },
    {
     "name": "stdout",
     "output_type": "stream",
     "text": [
      "Epoch 28: train=10.855, val=9.11083, took 24.854 s\n",
      "  Validation Found 100165 of 108007, added 3610 (eff 92.74%) (0.18 FP/event)\n"
     ]
    },
    {
     "data": {
      "application/vnd.jupyter.widget-view+json": {
       "model_id": "",
       "version_major": 2,
       "version_minor": 0
      },
      "text/plain": [
       "HBox(children=(FloatProgress(value=0.0, description='Training', layout=Layout(flex='2'), max=2500.0, style=Pro…"
      ]
     },
     "metadata": {},
     "output_type": "display_data"
    },
    {
     "name": "stdout",
     "output_type": "stream",
     "text": [
      "Epoch 29: train=10.8581, val=9.11046, took 24.323 s\n",
      "  Validation Found 100188 of 108007, added 3596 (eff 92.76%) (0.18 FP/event)\n"
     ]
    },
    {
     "data": {
      "application/vnd.jupyter.widget-view+json": {
       "model_id": "",
       "version_major": 2,
       "version_minor": 0
      },
      "text/plain": [
       "HBox(children=(FloatProgress(value=0.0, description='Training', layout=Layout(flex='2'), max=2500.0, style=Pro…"
      ]
     },
     "metadata": {},
     "output_type": "display_data"
    },
    {
     "name": "stdout",
     "output_type": "stream",
     "text": [
      "Epoch 30: train=10.8535, val=9.10869, took 24.262 s\n",
      "  Validation Found 100176 of 108007, added 3594 (eff 92.75%) (0.18 FP/event)\n"
     ]
    },
    {
     "data": {
      "application/vnd.jupyter.widget-view+json": {
       "model_id": "",
       "version_major": 2,
       "version_minor": 0
      },
      "text/plain": [
       "HBox(children=(FloatProgress(value=0.0, description='Training', layout=Layout(flex='2'), max=2500.0, style=Pro…"
      ]
     },
     "metadata": {},
     "output_type": "display_data"
    },
    {
     "name": "stdout",
     "output_type": "stream",
     "text": [
      "Epoch 31: train=10.858, val=9.10433, took 23.901 s\n",
      "  Validation Found 100147 of 108007, added 3610 (eff 92.72%) (0.18 FP/event)\n"
     ]
    },
    {
     "data": {
      "application/vnd.jupyter.widget-view+json": {
       "model_id": "",
       "version_major": 2,
       "version_minor": 0
      },
      "text/plain": [
       "HBox(children=(FloatProgress(value=0.0, description='Training', layout=Layout(flex='2'), max=2500.0, style=Pro…"
      ]
     },
     "metadata": {},
     "output_type": "display_data"
    },
    {
     "name": "stdout",
     "output_type": "stream",
     "text": [
      "Epoch 32: train=10.86, val=9.10825, took 24.8 s\n",
      "  Validation Found 100164 of 108007, added 3602 (eff 92.74%) (0.18 FP/event)\n"
     ]
    },
    {
     "data": {
      "application/vnd.jupyter.widget-view+json": {
       "model_id": "",
       "version_major": 2,
       "version_minor": 0
      },
      "text/plain": [
       "HBox(children=(FloatProgress(value=0.0, description='Training', layout=Layout(flex='2'), max=2500.0, style=Pro…"
      ]
     },
     "metadata": {},
     "output_type": "display_data"
    },
    {
     "name": "stdout",
     "output_type": "stream",
     "text": [
      "Epoch 33: train=10.8571, val=9.10573, took 25.218 s\n",
      "  Validation Found 100147 of 108007, added 3594 (eff 92.72%) (0.18 FP/event)\n"
     ]
    },
    {
     "data": {
      "application/vnd.jupyter.widget-view+json": {
       "model_id": "",
       "version_major": 2,
       "version_minor": 0
      },
      "text/plain": [
       "HBox(children=(FloatProgress(value=0.0, description='Training', layout=Layout(flex='2'), max=2500.0, style=Pro…"
      ]
     },
     "metadata": {},
     "output_type": "display_data"
    },
    {
     "name": "stdout",
     "output_type": "stream",
     "text": [
      "Epoch 34: train=10.8593, val=9.11187, took 24.416 s\n",
      "  Validation Found 100176 of 108007, added 3607 (eff 92.75%) (0.18 FP/event)\n"
     ]
    },
    {
     "data": {
      "application/vnd.jupyter.widget-view+json": {
       "model_id": "",
       "version_major": 2,
       "version_minor": 0
      },
      "text/plain": [
       "HBox(children=(FloatProgress(value=0.0, description='Training', layout=Layout(flex='2'), max=2500.0, style=Pro…"
      ]
     },
     "metadata": {},
     "output_type": "display_data"
    },
    {
     "name": "stdout",
     "output_type": "stream",
     "text": [
      "Epoch 35: train=10.8525, val=9.11493, took 24.432 s\n",
      "  Validation Found 100193 of 108007, added 3610 (eff 92.77%) (0.18 FP/event)\n"
     ]
    },
    {
     "data": {
      "application/vnd.jupyter.widget-view+json": {
       "model_id": "",
       "version_major": 2,
       "version_minor": 0
      },
      "text/plain": [
       "HBox(children=(FloatProgress(value=0.0, description='Training', layout=Layout(flex='2'), max=2500.0, style=Pro…"
      ]
     },
     "metadata": {},
     "output_type": "display_data"
    },
    {
     "name": "stdout",
     "output_type": "stream",
     "text": [
      "Epoch 36: train=10.8555, val=9.10476, took 24.317 s\n",
      "  Validation Found 100155 of 108007, added 3607 (eff 92.73%) (0.18 FP/event)\n"
     ]
    },
    {
     "data": {
      "application/vnd.jupyter.widget-view+json": {
       "model_id": "",
       "version_major": 2,
       "version_minor": 0
      },
      "text/plain": [
       "HBox(children=(FloatProgress(value=0.0, description='Training', layout=Layout(flex='2'), max=2500.0, style=Pro…"
      ]
     },
     "metadata": {},
     "output_type": "display_data"
    },
    {
     "name": "stdout",
     "output_type": "stream",
     "text": [
      "Epoch 37: train=10.8609, val=9.12312, took 23.954 s\n",
      "  Validation Found 100204 of 108007, added 3642 (eff 92.78%) (0.182 FP/event)\n"
     ]
    },
    {
     "data": {
      "application/vnd.jupyter.widget-view+json": {
       "model_id": "",
       "version_major": 2,
       "version_minor": 0
      },
      "text/plain": [
       "HBox(children=(FloatProgress(value=0.0, description='Training', layout=Layout(flex='2'), max=2500.0, style=Pro…"
      ]
     },
     "metadata": {},
     "output_type": "display_data"
    },
    {
     "name": "stdout",
     "output_type": "stream",
     "text": [
      "Epoch 38: train=10.8586, val=9.12424, took 24.048 s\n",
      "  Validation Found 100221 of 108007, added 3654 (eff 92.79%) (0.183 FP/event)\n"
     ]
    },
    {
     "data": {
      "application/vnd.jupyter.widget-view+json": {
       "model_id": "",
       "version_major": 2,
       "version_minor": 0
      },
      "text/plain": [
       "HBox(children=(FloatProgress(value=0.0, description='Training', layout=Layout(flex='2'), max=2500.0, style=Pro…"
      ]
     },
     "metadata": {},
     "output_type": "display_data"
    },
    {
     "name": "stdout",
     "output_type": "stream",
     "text": [
      "Epoch 39: train=10.8555, val=9.11138, took 24.182 s\n",
      "  Validation Found 100171 of 108007, added 3606 (eff 92.74%) (0.18 FP/event)\n"
     ]
    },
    {
     "data": {
      "application/vnd.jupyter.widget-view+json": {
       "model_id": "",
       "version_major": 2,
       "version_minor": 0
      },
      "text/plain": [
       "HBox(children=(FloatProgress(value=0.0, description='Training', layout=Layout(flex='2'), max=2500.0, style=Pro…"
      ]
     },
     "metadata": {},
     "output_type": "display_data"
    },
    {
     "name": "stdout",
     "output_type": "stream",
     "text": [
      "Epoch 40: train=10.8543, val=9.10965, took 24.117 s\n",
      "  Validation Found 100173 of 108007, added 3603 (eff 92.75%) (0.18 FP/event)\n"
     ]
    },
    {
     "data": {
      "application/vnd.jupyter.widget-view+json": {
       "model_id": "",
       "version_major": 2,
       "version_minor": 0
      },
      "text/plain": [
       "HBox(children=(FloatProgress(value=0.0, description='Training', layout=Layout(flex='2'), max=2500.0, style=Pro…"
      ]
     },
     "metadata": {},
     "output_type": "display_data"
    },
    {
     "name": "stdout",
     "output_type": "stream",
     "text": [
      "Epoch 41: train=10.8587, val=9.11573, took 24.132 s\n",
      "  Validation Found 100185 of 108007, added 3632 (eff 92.76%) (0.182 FP/event)\n"
     ]
    },
    {
     "data": {
      "application/vnd.jupyter.widget-view+json": {
       "model_id": "",
       "version_major": 2,
       "version_minor": 0
      },
      "text/plain": [
       "HBox(children=(FloatProgress(value=0.0, description='Training', layout=Layout(flex='2'), max=2500.0, style=Pro…"
      ]
     },
     "metadata": {},
     "output_type": "display_data"
    },
    {
     "name": "stdout",
     "output_type": "stream",
     "text": [
      "Epoch 42: train=10.8535, val=9.09624, took 24.414 s\n",
      "  Validation Found 100131 of 108007, added 3613 (eff 92.71%) (0.181 FP/event)\n"
     ]
    },
    {
     "data": {
      "application/vnd.jupyter.widget-view+json": {
       "model_id": "",
       "version_major": 2,
       "version_minor": 0
      },
      "text/plain": [
       "HBox(children=(FloatProgress(value=0.0, description='Training', layout=Layout(flex='2'), max=2500.0, style=Pro…"
      ]
     },
     "metadata": {},
     "output_type": "display_data"
    },
    {
     "name": "stdout",
     "output_type": "stream",
     "text": [
      "Epoch 43: train=10.8548, val=9.11571, took 24.177 s\n",
      "  Validation Found 100197 of 108007, added 3624 (eff 92.77%) (0.181 FP/event)\n"
     ]
    },
    {
     "data": {
      "application/vnd.jupyter.widget-view+json": {
       "model_id": "",
       "version_major": 2,
       "version_minor": 0
      },
      "text/plain": [
       "HBox(children=(FloatProgress(value=0.0, description='Training', layout=Layout(flex='2'), max=2500.0, style=Pro…"
      ]
     },
     "metadata": {},
     "output_type": "display_data"
    },
    {
     "name": "stdout",
     "output_type": "stream",
     "text": [
      "Epoch 44: train=10.8576, val=9.09859, took 23.964 s\n",
      "  Validation Found 100137 of 108007, added 3579 (eff 92.71%) (0.179 FP/event)\n"
     ]
    },
    {
     "data": {
      "application/vnd.jupyter.widget-view+json": {
       "model_id": "",
       "version_major": 2,
       "version_minor": 0
      },
      "text/plain": [
       "HBox(children=(FloatProgress(value=0.0, description='Training', layout=Layout(flex='2'), max=2500.0, style=Pro…"
      ]
     },
     "metadata": {},
     "output_type": "display_data"
    },
    {
     "name": "stdout",
     "output_type": "stream",
     "text": [
      "Epoch 45: train=10.8577, val=9.10981, took 24.066 s\n",
      "  Validation Found 100161 of 108007, added 3610 (eff 92.74%) (0.18 FP/event)\n"
     ]
    },
    {
     "data": {
      "application/vnd.jupyter.widget-view+json": {
       "model_id": "",
       "version_major": 2,
       "version_minor": 0
      },
      "text/plain": [
       "HBox(children=(FloatProgress(value=0.0, description='Training', layout=Layout(flex='2'), max=2500.0, style=Pro…"
      ]
     },
     "metadata": {},
     "output_type": "display_data"
    },
    {
     "name": "stdout",
     "output_type": "stream",
     "text": [
      "Epoch 46: train=10.855, val=9.11129, took 24.108 s\n",
      "  Validation Found 100168 of 108007, added 3607 (eff 92.74%) (0.18 FP/event)\n"
     ]
    },
    {
     "data": {
      "application/vnd.jupyter.widget-view+json": {
       "model_id": "",
       "version_major": 2,
       "version_minor": 0
      },
      "text/plain": [
       "HBox(children=(FloatProgress(value=0.0, description='Training', layout=Layout(flex='2'), max=2500.0, style=Pro…"
      ]
     },
     "metadata": {},
     "output_type": "display_data"
    },
    {
     "name": "stdout",
     "output_type": "stream",
     "text": [
      "Epoch 47: train=10.8543, val=9.11322, took 23.862 s\n",
      "  Validation Found 100166 of 108007, added 3622 (eff 92.74%) (0.181 FP/event)\n"
     ]
    },
    {
     "data": {
      "application/vnd.jupyter.widget-view+json": {
       "model_id": "",
       "version_major": 2,
       "version_minor": 0
      },
      "text/plain": [
       "HBox(children=(FloatProgress(value=0.0, description='Training', layout=Layout(flex='2'), max=2500.0, style=Pro…"
      ]
     },
     "metadata": {},
     "output_type": "display_data"
    },
    {
     "name": "stdout",
     "output_type": "stream",
     "text": [
      "Epoch 48: train=10.8551, val=9.1195, took 24.101 s\n",
      "  Validation Found 100210 of 108007, added 3633 (eff 92.78%) (0.182 FP/event)\n"
     ]
    },
    {
     "data": {
      "application/vnd.jupyter.widget-view+json": {
       "model_id": "",
       "version_major": 2,
       "version_minor": 0
      },
      "text/plain": [
       "HBox(children=(FloatProgress(value=0.0, description='Training', layout=Layout(flex='2'), max=2500.0, style=Pro…"
      ]
     },
     "metadata": {},
     "output_type": "display_data"
    },
    {
     "name": "stdout",
     "output_type": "stream",
     "text": [
      "Epoch 49: train=10.8503, val=9.10782, took 24.39 s\n",
      "  Validation Found 100152 of 108007, added 3609 (eff 92.73%) (0.18 FP/event)\n",
      "\n"
     ]
    }
   ],
   "source": [
    "for result in trainNet(model, optimizer, loss,\n",
    "                        train_loader, val_loader,\n",
    "                        n_epochs, epoch_start=len(results),\n",
    "                        notebook=True):\n",
    "    \n",
    "    results = results.append(pd.Series(result._asdict()), ignore_index=True)\n",
    "    \n",
    "    xs = results.index\n",
    "    \n",
    "    # Update the plot above\n",
    "    lines['train'].set_data(results.index,results.cost)\n",
    "    lines['val'].set_data(results.index,results.val)\n",
    "    \n",
    "    #filter first cost epoch (can be really large)\n",
    "    max_cost = max(max(results.cost if len(results.cost)<2 else results.cost[1:]), max(results.val))\n",
    "    min_cost = min(min(results.cost), min(results.val))\n",
    "    \n",
    "    # The plot limits need updating too\n",
    "    \n",
    "    \n",
    "    \n",
    "    ax.set_ylim(min_cost*.9, max_cost*1.1)  \n",
    "    ax.set_xlim(-.5, len(results.cost) - .5)\n",
    "    \n",
    "    replace_in_ax(lax, lines['eff'], xs, results['eff_val'].apply(lambda x: x.eff_rate))\n",
    "    replace_in_ax(tax, lines['fp'], xs, results['eff_val'].apply(lambda x: x.fp_rate))\n",
    "    \n",
    "    # Redraw the figure\n",
    "    fig.canvas.draw()\n",
    "\n",
    "    # Save each model state dictionary\n",
    "    torch.save(model.state_dict(), output / f'{name}_{result.epoch}.pyt')"
   ]
  },
  {
   "cell_type": "markdown",
   "metadata": {},
   "source": [
    "# Results\n",
    "\n",
    "Let's save some results: (even though if you have not changed the code above, it saves the model every epoch)"
   ]
  },
  {
   "cell_type": "markdown",
   "metadata": {},
   "source": [
    "Go ahead and save the final model (even though it was also saved above):"
   ]
  },
  {
   "cell_type": "code",
   "execution_count": 16,
   "metadata": {},
   "outputs": [],
   "source": [
    "torch.save(model.state_dict(), output / f'{name}_final.pyt')"
   ]
  },
  {
   "cell_type": "markdown",
   "metadata": {},
   "source": [
    "Save the output results:"
   ]
  },
  {
   "cell_type": "code",
   "execution_count": 17,
   "metadata": {},
   "outputs": [
    {
     "name": "stderr",
     "output_type": "stream",
     "text": [
      "/apps/miniconda3/envs/june2020-gpu/lib/python3.7/site-packages/pandas/core/generic.py:2505: PerformanceWarning: \n",
      "your performance may suffer as PyTables will pickle object types that it cannot\n",
      "map directly to c-types [inferred_type->mixed-integer,key->block1_values] [items->Index(['epoch', 'eff_val'], dtype='object')]\n",
      "\n",
      "  encoding=encoding,\n"
     ]
    }
   ],
   "source": [
    "results.to_hdf(f'{name}_stats.hdf5', 'results')\n",
    "results.to_hdf(str(output / f'{name}_stats_a.hdf5'),'results')"
   ]
  },
  {
   "cell_type": "markdown",
   "metadata": {},
   "source": [
    "Save the plot above:"
   ]
  },
  {
   "cell_type": "code",
   "execution_count": 18,
   "metadata": {
    "scrolled": false
   },
   "outputs": [
    {
     "data": {
      "application/javascript": [
       "/* Put everything inside the global mpl namespace */\n",
       "window.mpl = {};\n",
       "\n",
       "\n",
       "mpl.get_websocket_type = function() {\n",
       "    if (typeof(WebSocket) !== 'undefined') {\n",
       "        return WebSocket;\n",
       "    } else if (typeof(MozWebSocket) !== 'undefined') {\n",
       "        return MozWebSocket;\n",
       "    } else {\n",
       "        alert('Your browser does not have WebSocket support. ' +\n",
       "              'Please try Chrome, Safari or Firefox ≥ 6. ' +\n",
       "              'Firefox 4 and 5 are also supported but you ' +\n",
       "              'have to enable WebSockets in about:config.');\n",
       "    };\n",
       "}\n",
       "\n",
       "mpl.figure = function(figure_id, websocket, ondownload, parent_element) {\n",
       "    this.id = figure_id;\n",
       "\n",
       "    this.ws = websocket;\n",
       "\n",
       "    this.supports_binary = (this.ws.binaryType != undefined);\n",
       "\n",
       "    if (!this.supports_binary) {\n",
       "        var warnings = document.getElementById(\"mpl-warnings\");\n",
       "        if (warnings) {\n",
       "            warnings.style.display = 'block';\n",
       "            warnings.textContent = (\n",
       "                \"This browser does not support binary websocket messages. \" +\n",
       "                    \"Performance may be slow.\");\n",
       "        }\n",
       "    }\n",
       "\n",
       "    this.imageObj = new Image();\n",
       "\n",
       "    this.context = undefined;\n",
       "    this.message = undefined;\n",
       "    this.canvas = undefined;\n",
       "    this.rubberband_canvas = undefined;\n",
       "    this.rubberband_context = undefined;\n",
       "    this.format_dropdown = undefined;\n",
       "\n",
       "    this.image_mode = 'full';\n",
       "\n",
       "    this.root = $('<div/>');\n",
       "    this._root_extra_style(this.root)\n",
       "    this.root.attr('style', 'display: inline-block');\n",
       "\n",
       "    $(parent_element).append(this.root);\n",
       "\n",
       "    this._init_header(this);\n",
       "    this._init_canvas(this);\n",
       "    this._init_toolbar(this);\n",
       "\n",
       "    var fig = this;\n",
       "\n",
       "    this.waiting = false;\n",
       "\n",
       "    this.ws.onopen =  function () {\n",
       "            fig.send_message(\"supports_binary\", {value: fig.supports_binary});\n",
       "            fig.send_message(\"send_image_mode\", {});\n",
       "            if (mpl.ratio != 1) {\n",
       "                fig.send_message(\"set_dpi_ratio\", {'dpi_ratio': mpl.ratio});\n",
       "            }\n",
       "            fig.send_message(\"refresh\", {});\n",
       "        }\n",
       "\n",
       "    this.imageObj.onload = function() {\n",
       "            if (fig.image_mode == 'full') {\n",
       "                // Full images could contain transparency (where diff images\n",
       "                // almost always do), so we need to clear the canvas so that\n",
       "                // there is no ghosting.\n",
       "                fig.context.clearRect(0, 0, fig.canvas.width, fig.canvas.height);\n",
       "            }\n",
       "            fig.context.drawImage(fig.imageObj, 0, 0);\n",
       "        };\n",
       "\n",
       "    this.imageObj.onunload = function() {\n",
       "        fig.ws.close();\n",
       "    }\n",
       "\n",
       "    this.ws.onmessage = this._make_on_message_function(this);\n",
       "\n",
       "    this.ondownload = ondownload;\n",
       "}\n",
       "\n",
       "mpl.figure.prototype._init_header = function() {\n",
       "    var titlebar = $(\n",
       "        '<div class=\"ui-dialog-titlebar ui-widget-header ui-corner-all ' +\n",
       "        'ui-helper-clearfix\"/>');\n",
       "    var titletext = $(\n",
       "        '<div class=\"ui-dialog-title\" style=\"width: 100%; ' +\n",
       "        'text-align: center; padding: 3px;\"/>');\n",
       "    titlebar.append(titletext)\n",
       "    this.root.append(titlebar);\n",
       "    this.header = titletext[0];\n",
       "}\n",
       "\n",
       "\n",
       "\n",
       "mpl.figure.prototype._canvas_extra_style = function(canvas_div) {\n",
       "\n",
       "}\n",
       "\n",
       "\n",
       "mpl.figure.prototype._root_extra_style = function(canvas_div) {\n",
       "\n",
       "}\n",
       "\n",
       "mpl.figure.prototype._init_canvas = function() {\n",
       "    var fig = this;\n",
       "\n",
       "    var canvas_div = $('<div/>');\n",
       "\n",
       "    canvas_div.attr('style', 'position: relative; clear: both; outline: 0');\n",
       "\n",
       "    function canvas_keyboard_event(event) {\n",
       "        return fig.key_event(event, event['data']);\n",
       "    }\n",
       "\n",
       "    canvas_div.keydown('key_press', canvas_keyboard_event);\n",
       "    canvas_div.keyup('key_release', canvas_keyboard_event);\n",
       "    this.canvas_div = canvas_div\n",
       "    this._canvas_extra_style(canvas_div)\n",
       "    this.root.append(canvas_div);\n",
       "\n",
       "    var canvas = $('<canvas/>');\n",
       "    canvas.addClass('mpl-canvas');\n",
       "    canvas.attr('style', \"left: 0; top: 0; z-index: 0; outline: 0\")\n",
       "\n",
       "    this.canvas = canvas[0];\n",
       "    this.context = canvas[0].getContext(\"2d\");\n",
       "\n",
       "    var backingStore = this.context.backingStorePixelRatio ||\n",
       "\tthis.context.webkitBackingStorePixelRatio ||\n",
       "\tthis.context.mozBackingStorePixelRatio ||\n",
       "\tthis.context.msBackingStorePixelRatio ||\n",
       "\tthis.context.oBackingStorePixelRatio ||\n",
       "\tthis.context.backingStorePixelRatio || 1;\n",
       "\n",
       "    mpl.ratio = (window.devicePixelRatio || 1) / backingStore;\n",
       "\n",
       "    var rubberband = $('<canvas/>');\n",
       "    rubberband.attr('style', \"position: absolute; left: 0; top: 0; z-index: 1;\")\n",
       "\n",
       "    var pass_mouse_events = true;\n",
       "\n",
       "    canvas_div.resizable({\n",
       "        start: function(event, ui) {\n",
       "            pass_mouse_events = false;\n",
       "        },\n",
       "        resize: function(event, ui) {\n",
       "            fig.request_resize(ui.size.width, ui.size.height);\n",
       "        },\n",
       "        stop: function(event, ui) {\n",
       "            pass_mouse_events = true;\n",
       "            fig.request_resize(ui.size.width, ui.size.height);\n",
       "        },\n",
       "    });\n",
       "\n",
       "    function mouse_event_fn(event) {\n",
       "        if (pass_mouse_events)\n",
       "            return fig.mouse_event(event, event['data']);\n",
       "    }\n",
       "\n",
       "    rubberband.mousedown('button_press', mouse_event_fn);\n",
       "    rubberband.mouseup('button_release', mouse_event_fn);\n",
       "    // Throttle sequential mouse events to 1 every 20ms.\n",
       "    rubberband.mousemove('motion_notify', mouse_event_fn);\n",
       "\n",
       "    rubberband.mouseenter('figure_enter', mouse_event_fn);\n",
       "    rubberband.mouseleave('figure_leave', mouse_event_fn);\n",
       "\n",
       "    canvas_div.on(\"wheel\", function (event) {\n",
       "        event = event.originalEvent;\n",
       "        event['data'] = 'scroll'\n",
       "        if (event.deltaY < 0) {\n",
       "            event.step = 1;\n",
       "        } else {\n",
       "            event.step = -1;\n",
       "        }\n",
       "        mouse_event_fn(event);\n",
       "    });\n",
       "\n",
       "    canvas_div.append(canvas);\n",
       "    canvas_div.append(rubberband);\n",
       "\n",
       "    this.rubberband = rubberband;\n",
       "    this.rubberband_canvas = rubberband[0];\n",
       "    this.rubberband_context = rubberband[0].getContext(\"2d\");\n",
       "    this.rubberband_context.strokeStyle = \"#000000\";\n",
       "\n",
       "    this._resize_canvas = function(width, height) {\n",
       "        // Keep the size of the canvas, canvas container, and rubber band\n",
       "        // canvas in synch.\n",
       "        canvas_div.css('width', width)\n",
       "        canvas_div.css('height', height)\n",
       "\n",
       "        canvas.attr('width', width * mpl.ratio);\n",
       "        canvas.attr('height', height * mpl.ratio);\n",
       "        canvas.attr('style', 'width: ' + width + 'px; height: ' + height + 'px;');\n",
       "\n",
       "        rubberband.attr('width', width);\n",
       "        rubberband.attr('height', height);\n",
       "    }\n",
       "\n",
       "    // Set the figure to an initial 600x600px, this will subsequently be updated\n",
       "    // upon first draw.\n",
       "    this._resize_canvas(600, 600);\n",
       "\n",
       "    // Disable right mouse context menu.\n",
       "    $(this.rubberband_canvas).bind(\"contextmenu\",function(e){\n",
       "        return false;\n",
       "    });\n",
       "\n",
       "    function set_focus () {\n",
       "        canvas.focus();\n",
       "        canvas_div.focus();\n",
       "    }\n",
       "\n",
       "    window.setTimeout(set_focus, 100);\n",
       "}\n",
       "\n",
       "mpl.figure.prototype._init_toolbar = function() {\n",
       "    var fig = this;\n",
       "\n",
       "    var nav_element = $('<div/>');\n",
       "    nav_element.attr('style', 'width: 100%');\n",
       "    this.root.append(nav_element);\n",
       "\n",
       "    // Define a callback function for later on.\n",
       "    function toolbar_event(event) {\n",
       "        return fig.toolbar_button_onclick(event['data']);\n",
       "    }\n",
       "    function toolbar_mouse_event(event) {\n",
       "        return fig.toolbar_button_onmouseover(event['data']);\n",
       "    }\n",
       "\n",
       "    for(var toolbar_ind in mpl.toolbar_items) {\n",
       "        var name = mpl.toolbar_items[toolbar_ind][0];\n",
       "        var tooltip = mpl.toolbar_items[toolbar_ind][1];\n",
       "        var image = mpl.toolbar_items[toolbar_ind][2];\n",
       "        var method_name = mpl.toolbar_items[toolbar_ind][3];\n",
       "\n",
       "        if (!name) {\n",
       "            // put a spacer in here.\n",
       "            continue;\n",
       "        }\n",
       "        var button = $('<button/>');\n",
       "        button.addClass('ui-button ui-widget ui-state-default ui-corner-all ' +\n",
       "                        'ui-button-icon-only');\n",
       "        button.attr('role', 'button');\n",
       "        button.attr('aria-disabled', 'false');\n",
       "        button.click(method_name, toolbar_event);\n",
       "        button.mouseover(tooltip, toolbar_mouse_event);\n",
       "\n",
       "        var icon_img = $('<span/>');\n",
       "        icon_img.addClass('ui-button-icon-primary ui-icon');\n",
       "        icon_img.addClass(image);\n",
       "        icon_img.addClass('ui-corner-all');\n",
       "\n",
       "        var tooltip_span = $('<span/>');\n",
       "        tooltip_span.addClass('ui-button-text');\n",
       "        tooltip_span.html(tooltip);\n",
       "\n",
       "        button.append(icon_img);\n",
       "        button.append(tooltip_span);\n",
       "\n",
       "        nav_element.append(button);\n",
       "    }\n",
       "\n",
       "    var fmt_picker_span = $('<span/>');\n",
       "\n",
       "    var fmt_picker = $('<select/>');\n",
       "    fmt_picker.addClass('mpl-toolbar-option ui-widget ui-widget-content');\n",
       "    fmt_picker_span.append(fmt_picker);\n",
       "    nav_element.append(fmt_picker_span);\n",
       "    this.format_dropdown = fmt_picker[0];\n",
       "\n",
       "    for (var ind in mpl.extensions) {\n",
       "        var fmt = mpl.extensions[ind];\n",
       "        var option = $(\n",
       "            '<option/>', {selected: fmt === mpl.default_extension}).html(fmt);\n",
       "        fmt_picker.append(option);\n",
       "    }\n",
       "\n",
       "    // Add hover states to the ui-buttons\n",
       "    $( \".ui-button\" ).hover(\n",
       "        function() { $(this).addClass(\"ui-state-hover\");},\n",
       "        function() { $(this).removeClass(\"ui-state-hover\");}\n",
       "    );\n",
       "\n",
       "    var status_bar = $('<span class=\"mpl-message\"/>');\n",
       "    nav_element.append(status_bar);\n",
       "    this.message = status_bar[0];\n",
       "}\n",
       "\n",
       "mpl.figure.prototype.request_resize = function(x_pixels, y_pixels) {\n",
       "    // Request matplotlib to resize the figure. Matplotlib will then trigger a resize in the client,\n",
       "    // which will in turn request a refresh of the image.\n",
       "    this.send_message('resize', {'width': x_pixels, 'height': y_pixels});\n",
       "}\n",
       "\n",
       "mpl.figure.prototype.send_message = function(type, properties) {\n",
       "    properties['type'] = type;\n",
       "    properties['figure_id'] = this.id;\n",
       "    this.ws.send(JSON.stringify(properties));\n",
       "}\n",
       "\n",
       "mpl.figure.prototype.send_draw_message = function() {\n",
       "    if (!this.waiting) {\n",
       "        this.waiting = true;\n",
       "        this.ws.send(JSON.stringify({type: \"draw\", figure_id: this.id}));\n",
       "    }\n",
       "}\n",
       "\n",
       "\n",
       "mpl.figure.prototype.handle_save = function(fig, msg) {\n",
       "    var format_dropdown = fig.format_dropdown;\n",
       "    var format = format_dropdown.options[format_dropdown.selectedIndex].value;\n",
       "    fig.ondownload(fig, format);\n",
       "}\n",
       "\n",
       "\n",
       "mpl.figure.prototype.handle_resize = function(fig, msg) {\n",
       "    var size = msg['size'];\n",
       "    if (size[0] != fig.canvas.width || size[1] != fig.canvas.height) {\n",
       "        fig._resize_canvas(size[0], size[1]);\n",
       "        fig.send_message(\"refresh\", {});\n",
       "    };\n",
       "}\n",
       "\n",
       "mpl.figure.prototype.handle_rubberband = function(fig, msg) {\n",
       "    var x0 = msg['x0'] / mpl.ratio;\n",
       "    var y0 = (fig.canvas.height - msg['y0']) / mpl.ratio;\n",
       "    var x1 = msg['x1'] / mpl.ratio;\n",
       "    var y1 = (fig.canvas.height - msg['y1']) / mpl.ratio;\n",
       "    x0 = Math.floor(x0) + 0.5;\n",
       "    y0 = Math.floor(y0) + 0.5;\n",
       "    x1 = Math.floor(x1) + 0.5;\n",
       "    y1 = Math.floor(y1) + 0.5;\n",
       "    var min_x = Math.min(x0, x1);\n",
       "    var min_y = Math.min(y0, y1);\n",
       "    var width = Math.abs(x1 - x0);\n",
       "    var height = Math.abs(y1 - y0);\n",
       "\n",
       "    fig.rubberband_context.clearRect(\n",
       "        0, 0, fig.canvas.width / mpl.ratio, fig.canvas.height / mpl.ratio);\n",
       "\n",
       "    fig.rubberband_context.strokeRect(min_x, min_y, width, height);\n",
       "}\n",
       "\n",
       "mpl.figure.prototype.handle_figure_label = function(fig, msg) {\n",
       "    // Updates the figure title.\n",
       "    fig.header.textContent = msg['label'];\n",
       "}\n",
       "\n",
       "mpl.figure.prototype.handle_cursor = function(fig, msg) {\n",
       "    var cursor = msg['cursor'];\n",
       "    switch(cursor)\n",
       "    {\n",
       "    case 0:\n",
       "        cursor = 'pointer';\n",
       "        break;\n",
       "    case 1:\n",
       "        cursor = 'default';\n",
       "        break;\n",
       "    case 2:\n",
       "        cursor = 'crosshair';\n",
       "        break;\n",
       "    case 3:\n",
       "        cursor = 'move';\n",
       "        break;\n",
       "    }\n",
       "    fig.rubberband_canvas.style.cursor = cursor;\n",
       "}\n",
       "\n",
       "mpl.figure.prototype.handle_message = function(fig, msg) {\n",
       "    fig.message.textContent = msg['message'];\n",
       "}\n",
       "\n",
       "mpl.figure.prototype.handle_draw = function(fig, msg) {\n",
       "    // Request the server to send over a new figure.\n",
       "    fig.send_draw_message();\n",
       "}\n",
       "\n",
       "mpl.figure.prototype.handle_image_mode = function(fig, msg) {\n",
       "    fig.image_mode = msg['mode'];\n",
       "}\n",
       "\n",
       "mpl.figure.prototype.updated_canvas_event = function() {\n",
       "    // Called whenever the canvas gets updated.\n",
       "    this.send_message(\"ack\", {});\n",
       "}\n",
       "\n",
       "// A function to construct a web socket function for onmessage handling.\n",
       "// Called in the figure constructor.\n",
       "mpl.figure.prototype._make_on_message_function = function(fig) {\n",
       "    return function socket_on_message(evt) {\n",
       "        if (evt.data instanceof Blob) {\n",
       "            /* FIXME: We get \"Resource interpreted as Image but\n",
       "             * transferred with MIME type text/plain:\" errors on\n",
       "             * Chrome.  But how to set the MIME type?  It doesn't seem\n",
       "             * to be part of the websocket stream */\n",
       "            evt.data.type = \"image/png\";\n",
       "\n",
       "            /* Free the memory for the previous frames */\n",
       "            if (fig.imageObj.src) {\n",
       "                (window.URL || window.webkitURL).revokeObjectURL(\n",
       "                    fig.imageObj.src);\n",
       "            }\n",
       "\n",
       "            fig.imageObj.src = (window.URL || window.webkitURL).createObjectURL(\n",
       "                evt.data);\n",
       "            fig.updated_canvas_event();\n",
       "            fig.waiting = false;\n",
       "            return;\n",
       "        }\n",
       "        else if (typeof evt.data === 'string' && evt.data.slice(0, 21) == \"data:image/png;base64\") {\n",
       "            fig.imageObj.src = evt.data;\n",
       "            fig.updated_canvas_event();\n",
       "            fig.waiting = false;\n",
       "            return;\n",
       "        }\n",
       "\n",
       "        var msg = JSON.parse(evt.data);\n",
       "        var msg_type = msg['type'];\n",
       "\n",
       "        // Call the  \"handle_{type}\" callback, which takes\n",
       "        // the figure and JSON message as its only arguments.\n",
       "        try {\n",
       "            var callback = fig[\"handle_\" + msg_type];\n",
       "        } catch (e) {\n",
       "            console.log(\"No handler for the '\" + msg_type + \"' message type: \", msg);\n",
       "            return;\n",
       "        }\n",
       "\n",
       "        if (callback) {\n",
       "            try {\n",
       "                // console.log(\"Handling '\" + msg_type + \"' message: \", msg);\n",
       "                callback(fig, msg);\n",
       "            } catch (e) {\n",
       "                console.log(\"Exception inside the 'handler_\" + msg_type + \"' callback:\", e, e.stack, msg);\n",
       "            }\n",
       "        }\n",
       "    };\n",
       "}\n",
       "\n",
       "// from http://stackoverflow.com/questions/1114465/getting-mouse-location-in-canvas\n",
       "mpl.findpos = function(e) {\n",
       "    //this section is from http://www.quirksmode.org/js/events_properties.html\n",
       "    var targ;\n",
       "    if (!e)\n",
       "        e = window.event;\n",
       "    if (e.target)\n",
       "        targ = e.target;\n",
       "    else if (e.srcElement)\n",
       "        targ = e.srcElement;\n",
       "    if (targ.nodeType == 3) // defeat Safari bug\n",
       "        targ = targ.parentNode;\n",
       "\n",
       "    // jQuery normalizes the pageX and pageY\n",
       "    // pageX,Y are the mouse positions relative to the document\n",
       "    // offset() returns the position of the element relative to the document\n",
       "    var x = e.pageX - $(targ).offset().left;\n",
       "    var y = e.pageY - $(targ).offset().top;\n",
       "\n",
       "    return {\"x\": x, \"y\": y};\n",
       "};\n",
       "\n",
       "/*\n",
       " * return a copy of an object with only non-object keys\n",
       " * we need this to avoid circular references\n",
       " * http://stackoverflow.com/a/24161582/3208463\n",
       " */\n",
       "function simpleKeys (original) {\n",
       "  return Object.keys(original).reduce(function (obj, key) {\n",
       "    if (typeof original[key] !== 'object')\n",
       "        obj[key] = original[key]\n",
       "    return obj;\n",
       "  }, {});\n",
       "}\n",
       "\n",
       "mpl.figure.prototype.mouse_event = function(event, name) {\n",
       "    var canvas_pos = mpl.findpos(event)\n",
       "\n",
       "    if (name === 'button_press')\n",
       "    {\n",
       "        this.canvas.focus();\n",
       "        this.canvas_div.focus();\n",
       "    }\n",
       "\n",
       "    var x = canvas_pos.x * mpl.ratio;\n",
       "    var y = canvas_pos.y * mpl.ratio;\n",
       "\n",
       "    this.send_message(name, {x: x, y: y, button: event.button,\n",
       "                             step: event.step,\n",
       "                             guiEvent: simpleKeys(event)});\n",
       "\n",
       "    /* This prevents the web browser from automatically changing to\n",
       "     * the text insertion cursor when the button is pressed.  We want\n",
       "     * to control all of the cursor setting manually through the\n",
       "     * 'cursor' event from matplotlib */\n",
       "    event.preventDefault();\n",
       "    return false;\n",
       "}\n",
       "\n",
       "mpl.figure.prototype._key_event_extra = function(event, name) {\n",
       "    // Handle any extra behaviour associated with a key event\n",
       "}\n",
       "\n",
       "mpl.figure.prototype.key_event = function(event, name) {\n",
       "\n",
       "    // Prevent repeat events\n",
       "    if (name == 'key_press')\n",
       "    {\n",
       "        if (event.which === this._key)\n",
       "            return;\n",
       "        else\n",
       "            this._key = event.which;\n",
       "    }\n",
       "    if (name == 'key_release')\n",
       "        this._key = null;\n",
       "\n",
       "    var value = '';\n",
       "    if (event.ctrlKey && event.which != 17)\n",
       "        value += \"ctrl+\";\n",
       "    if (event.altKey && event.which != 18)\n",
       "        value += \"alt+\";\n",
       "    if (event.shiftKey && event.which != 16)\n",
       "        value += \"shift+\";\n",
       "\n",
       "    value += 'k';\n",
       "    value += event.which.toString();\n",
       "\n",
       "    this._key_event_extra(event, name);\n",
       "\n",
       "    this.send_message(name, {key: value,\n",
       "                             guiEvent: simpleKeys(event)});\n",
       "    return false;\n",
       "}\n",
       "\n",
       "mpl.figure.prototype.toolbar_button_onclick = function(name) {\n",
       "    if (name == 'download') {\n",
       "        this.handle_save(this, null);\n",
       "    } else {\n",
       "        this.send_message(\"toolbar_button\", {name: name});\n",
       "    }\n",
       "};\n",
       "\n",
       "mpl.figure.prototype.toolbar_button_onmouseover = function(tooltip) {\n",
       "    this.message.textContent = tooltip;\n",
       "};\n",
       "mpl.toolbar_items = [[\"Home\", \"Reset original view\", \"fa fa-home icon-home\", \"home\"], [\"Back\", \"Back to previous view\", \"fa fa-arrow-left icon-arrow-left\", \"back\"], [\"Forward\", \"Forward to next view\", \"fa fa-arrow-right icon-arrow-right\", \"forward\"], [\"\", \"\", \"\", \"\"], [\"Pan\", \"Pan axes with left mouse, zoom with right\", \"fa fa-arrows icon-move\", \"pan\"], [\"Zoom\", \"Zoom to rectangle\", \"fa fa-square-o icon-check-empty\", \"zoom\"], [\"\", \"\", \"\", \"\"], [\"Download\", \"Download plot\", \"fa fa-floppy-o icon-save\", \"download\"]];\n",
       "\n",
       "mpl.extensions = [\"eps\", \"jpeg\", \"pdf\", \"png\", \"ps\", \"raw\", \"svg\", \"tif\"];\n",
       "\n",
       "mpl.default_extension = \"png\";var comm_websocket_adapter = function(comm) {\n",
       "    // Create a \"websocket\"-like object which calls the given IPython comm\n",
       "    // object with the appropriate methods. Currently this is a non binary\n",
       "    // socket, so there is still some room for performance tuning.\n",
       "    var ws = {};\n",
       "\n",
       "    ws.close = function() {\n",
       "        comm.close()\n",
       "    };\n",
       "    ws.send = function(m) {\n",
       "        //console.log('sending', m);\n",
       "        comm.send(m);\n",
       "    };\n",
       "    // Register the callback with on_msg.\n",
       "    comm.on_msg(function(msg) {\n",
       "        //console.log('receiving', msg['content']['data'], msg);\n",
       "        // Pass the mpl event to the overridden (by mpl) onmessage function.\n",
       "        ws.onmessage(msg['content']['data'])\n",
       "    });\n",
       "    return ws;\n",
       "}\n",
       "\n",
       "mpl.mpl_figure_comm = function(comm, msg) {\n",
       "    // This is the function which gets called when the mpl process\n",
       "    // starts-up an IPython Comm through the \"matplotlib\" channel.\n",
       "\n",
       "    var id = msg.content.data.id;\n",
       "    // Get hold of the div created by the display call when the Comm\n",
       "    // socket was opened in Python.\n",
       "    var element = $(\"#\" + id);\n",
       "    var ws_proxy = comm_websocket_adapter(comm)\n",
       "\n",
       "    function ondownload(figure, format) {\n",
       "        window.open(figure.imageObj.src);\n",
       "    }\n",
       "\n",
       "    var fig = new mpl.figure(id, ws_proxy,\n",
       "                           ondownload,\n",
       "                           element.get(0));\n",
       "\n",
       "    // Call onopen now - mpl needs it, as it is assuming we've passed it a real\n",
       "    // web socket which is closed, not our websocket->open comm proxy.\n",
       "    ws_proxy.onopen();\n",
       "\n",
       "    fig.parent_element = element.get(0);\n",
       "    fig.cell_info = mpl.find_output_cell(\"<div id='\" + id + \"'></div>\");\n",
       "    if (!fig.cell_info) {\n",
       "        console.error(\"Failed to find cell for figure\", id, fig);\n",
       "        return;\n",
       "    }\n",
       "\n",
       "    var output_index = fig.cell_info[2]\n",
       "    var cell = fig.cell_info[0];\n",
       "\n",
       "};\n",
       "\n",
       "mpl.figure.prototype.handle_close = function(fig, msg) {\n",
       "    var width = fig.canvas.width/mpl.ratio\n",
       "    fig.root.unbind('remove')\n",
       "\n",
       "    // Update the output cell to use the data from the current canvas.\n",
       "    fig.push_to_output();\n",
       "    var dataURL = fig.canvas.toDataURL();\n",
       "    // Re-enable the keyboard manager in IPython - without this line, in FF,\n",
       "    // the notebook keyboard shortcuts fail.\n",
       "    IPython.keyboard_manager.enable()\n",
       "    $(fig.parent_element).html('<img src=\"' + dataURL + '\" width=\"' + width + '\">');\n",
       "    fig.close_ws(fig, msg);\n",
       "}\n",
       "\n",
       "mpl.figure.prototype.close_ws = function(fig, msg){\n",
       "    fig.send_message('closing', msg);\n",
       "    // fig.ws.close()\n",
       "}\n",
       "\n",
       "mpl.figure.prototype.push_to_output = function(remove_interactive) {\n",
       "    // Turn the data on the canvas into data in the output cell.\n",
       "    var width = this.canvas.width/mpl.ratio\n",
       "    var dataURL = this.canvas.toDataURL();\n",
       "    this.cell_info[1]['text/html'] = '<img src=\"' + dataURL + '\" width=\"' + width + '\">';\n",
       "}\n",
       "\n",
       "mpl.figure.prototype.updated_canvas_event = function() {\n",
       "    // Tell IPython that the notebook contents must change.\n",
       "    IPython.notebook.set_dirty(true);\n",
       "    this.send_message(\"ack\", {});\n",
       "    var fig = this;\n",
       "    // Wait a second, then push the new image to the DOM so\n",
       "    // that it is saved nicely (might be nice to debounce this).\n",
       "    setTimeout(function () { fig.push_to_output() }, 1000);\n",
       "}\n",
       "\n",
       "mpl.figure.prototype._init_toolbar = function() {\n",
       "    var fig = this;\n",
       "\n",
       "    var nav_element = $('<div/>');\n",
       "    nav_element.attr('style', 'width: 100%');\n",
       "    this.root.append(nav_element);\n",
       "\n",
       "    // Define a callback function for later on.\n",
       "    function toolbar_event(event) {\n",
       "        return fig.toolbar_button_onclick(event['data']);\n",
       "    }\n",
       "    function toolbar_mouse_event(event) {\n",
       "        return fig.toolbar_button_onmouseover(event['data']);\n",
       "    }\n",
       "\n",
       "    for(var toolbar_ind in mpl.toolbar_items){\n",
       "        var name = mpl.toolbar_items[toolbar_ind][0];\n",
       "        var tooltip = mpl.toolbar_items[toolbar_ind][1];\n",
       "        var image = mpl.toolbar_items[toolbar_ind][2];\n",
       "        var method_name = mpl.toolbar_items[toolbar_ind][3];\n",
       "\n",
       "        if (!name) { continue; };\n",
       "\n",
       "        var button = $('<button class=\"btn btn-default\" href=\"#\" title=\"' + name + '\"><i class=\"fa ' + image + ' fa-lg\"></i></button>');\n",
       "        button.click(method_name, toolbar_event);\n",
       "        button.mouseover(tooltip, toolbar_mouse_event);\n",
       "        nav_element.append(button);\n",
       "    }\n",
       "\n",
       "    // Add the status bar.\n",
       "    var status_bar = $('<span class=\"mpl-message\" style=\"text-align:right; float: right;\"/>');\n",
       "    nav_element.append(status_bar);\n",
       "    this.message = status_bar[0];\n",
       "\n",
       "    // Add the close button to the window.\n",
       "    var buttongrp = $('<div class=\"btn-group inline pull-right\"></div>');\n",
       "    var button = $('<button class=\"btn btn-mini btn-primary\" href=\"#\" title=\"Stop Interaction\"><i class=\"fa fa-power-off icon-remove icon-large\"></i></button>');\n",
       "    button.click(function (evt) { fig.handle_close(fig, {}); } );\n",
       "    button.mouseover('Stop Interaction', toolbar_mouse_event);\n",
       "    buttongrp.append(button);\n",
       "    var titlebar = this.root.find($('.ui-dialog-titlebar'));\n",
       "    titlebar.prepend(buttongrp);\n",
       "}\n",
       "\n",
       "mpl.figure.prototype._root_extra_style = function(el){\n",
       "    var fig = this\n",
       "    el.on(\"remove\", function(){\n",
       "\tfig.close_ws(fig, {});\n",
       "    });\n",
       "}\n",
       "\n",
       "mpl.figure.prototype._canvas_extra_style = function(el){\n",
       "    // this is important to make the div 'focusable\n",
       "    el.attr('tabindex', 0)\n",
       "    // reach out to IPython and tell the keyboard manager to turn it's self\n",
       "    // off when our div gets focus\n",
       "\n",
       "    // location in version 3\n",
       "    if (IPython.notebook.keyboard_manager) {\n",
       "        IPython.notebook.keyboard_manager.register_events(el);\n",
       "    }\n",
       "    else {\n",
       "        // location in version 2\n",
       "        IPython.keyboard_manager.register_events(el);\n",
       "    }\n",
       "\n",
       "}\n",
       "\n",
       "mpl.figure.prototype._key_event_extra = function(event, name) {\n",
       "    var manager = IPython.notebook.keyboard_manager;\n",
       "    if (!manager)\n",
       "        manager = IPython.keyboard_manager;\n",
       "\n",
       "    // Check for shift+enter\n",
       "    if (event.shiftKey && event.which == 13) {\n",
       "        this.canvas_div.blur();\n",
       "        // select the cell after this one\n",
       "        var index = IPython.notebook.find_cell_index(this.cell_info[0]);\n",
       "        IPython.notebook.select(index + 1);\n",
       "    }\n",
       "}\n",
       "\n",
       "mpl.figure.prototype.handle_save = function(fig, msg) {\n",
       "    fig.ondownload(fig, null);\n",
       "}\n",
       "\n",
       "\n",
       "mpl.find_output_cell = function(html_output) {\n",
       "    // Return the cell and output element which can be found *uniquely* in the notebook.\n",
       "    // Note - this is a bit hacky, but it is done because the \"notebook_saving.Notebook\"\n",
       "    // IPython event is triggered only after the cells have been serialised, which for\n",
       "    // our purposes (turning an active figure into a static one), is too late.\n",
       "    var cells = IPython.notebook.get_cells();\n",
       "    var ncells = cells.length;\n",
       "    for (var i=0; i<ncells; i++) {\n",
       "        var cell = cells[i];\n",
       "        if (cell.cell_type === 'code'){\n",
       "            for (var j=0; j<cell.output_area.outputs.length; j++) {\n",
       "                var data = cell.output_area.outputs[j];\n",
       "                if (data.data) {\n",
       "                    // IPython >= 3 moved mimebundle to data attribute of output\n",
       "                    data = data.data;\n",
       "                }\n",
       "                if (data['text/html'] == html_output) {\n",
       "                    return [cell, data, j];\n",
       "                }\n",
       "            }\n",
       "        }\n",
       "    }\n",
       "}\n",
       "\n",
       "// Register the function which deals with the matplotlib target/channel.\n",
       "// The kernel may be null if the page has been refreshed.\n",
       "if (IPython.notebook.kernel != null) {\n",
       "    IPython.notebook.kernel.comm_manager.register_target('matplotlib', mpl.mpl_figure_comm);\n",
       "}\n"
      ],
      "text/plain": [
       "<IPython.core.display.Javascript object>"
      ]
     },
     "metadata": {},
     "output_type": "display_data"
    },
    {
     "data": {
      "text/html": [
       "<img src=\"data:image/png;base64,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\" width=\"1000\">"
      ],
      "text/plain": [
       "<IPython.core.display.HTML object>"
      ]
     },
     "metadata": {},
     "output_type": "display_data"
    }
   ],
   "source": [
    "dual_train_plots(results.index,\n",
    "                 results.cost, results.val, \n",
    "                 results['eff_val'].apply(lambda x: x.eff_rate),\n",
    "                 results['eff_val'].apply(lambda x: x.fp_rate))\n",
    "plt.tight_layout()\n",
    "plt.savefig(str(output / f'{name}_stats_a.png'))"
   ]
  },
  {
   "cell_type": "code",
   "execution_count": 20,
   "metadata": {},
   "outputs": [],
   "source": [
    "##quit()"
   ]
  },
  {
   "cell_type": "code",
   "execution_count": null,
   "metadata": {},
   "outputs": [],
   "source": []
  }
 ],
 "metadata": {
  "kernelspec": {
   "display_name": "june2020-gpu",
   "language": "python",
   "name": "june2020-gpu"
  },
  "language_info": {
   "codemirror_mode": {
    "name": "ipython",
    "version": 3
   },
   "file_extension": ".py",
   "mimetype": "text/x-python",
   "name": "python",
   "nbconvert_exporter": "python",
   "pygments_lexer": "ipython3",
   "version": "3.7.6"
  }
 },
 "nbformat": 4,
 "nbformat_minor": 2
}
