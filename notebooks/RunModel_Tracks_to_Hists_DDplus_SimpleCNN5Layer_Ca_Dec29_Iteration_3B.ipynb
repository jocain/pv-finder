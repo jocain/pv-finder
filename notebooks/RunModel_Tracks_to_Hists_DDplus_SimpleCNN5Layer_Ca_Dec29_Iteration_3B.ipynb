{
 "cells": [
  {
   "cell_type": "code",
   "execution_count": 1,
   "metadata": {},
   "outputs": [],
   "source": [
    "##%matplotlib widget\n",
    "## with %matplotlib notebook: seems to require ipympl as part of environment, either\n",
    "## part of the conda environment or \"pip install ipympl\"\n",
    "## otherwise, does not show ANY plots in notebook, plt.savefig() works\n",
    "%matplotlib notebook  \n",
    "##%matplotlib inline    ## --plt.savefig()  works, but re-sizing does NOT\n"
   ]
  },
  {
   "cell_type": "markdown",
   "metadata": {},
   "source": [
    "This notebook is a first attempt to read in track information and use it to predict the the full target histrograms.\n",
    "\n",
    "It will read in the TracksToDKE__Ellipsoids_DDPlus model to predict the KDE, and then feed it into a SimpleCNN model to predict the target histograms.  Initially, it will use previously trained weights.\n"
   ]
  },
  {
   "cell_type": "markdown",
   "metadata": {},
   "source": [
    "Check the current GPU usage. Please try to be nice!"
   ]
  },
  {
   "cell_type": "code",
   "execution_count": 2,
   "metadata": {},
   "outputs": [
    {
     "name": "stdout",
     "output_type": "stream",
     "text": [
      "Tue Dec 29 14:21:53 2020       \r\n",
      "+-----------------------------------------------------------------------------+\r\n",
      "| NVIDIA-SMI 450.36.06    Driver Version: 450.36.06    CUDA Version: 11.0     |\r\n",
      "|-------------------------------+----------------------+----------------------+\r\n",
      "| GPU  Name        Persistence-M| Bus-Id        Disp.A | Volatile Uncorr. ECC |\r\n",
      "| Fan  Temp  Perf  Pwr:Usage/Cap|         Memory-Usage | GPU-Util  Compute M. |\r\n",
      "|                               |                      |               MIG M. |\r\n",
      "|===============================+======================+======================|\r\n",
      "|   0  GeForce RTX 208...  On   | 00000000:18:00.0 Off |                  N/A |\r\n",
      "| 29%   41C    P8    40W / 250W |   6350MiB / 11019MiB |      0%      Default |\r\n",
      "|                               |                      |                  N/A |\r\n",
      "+-------------------------------+----------------------+----------------------+\r\n",
      "|   1  GeForce RTX 208...  On   | 00000000:3B:00.0 Off |                  N/A |\r\n",
      "| 41%   69C    P2   195W / 250W |   5459MiB / 11019MiB |     32%      Default |\r\n",
      "|                               |                      |                  N/A |\r\n",
      "+-------------------------------+----------------------+----------------------+\r\n",
      "                                                                               \r\n",
      "+-----------------------------------------------------------------------------+\r\n",
      "| Processes:                                                                  |\r\n",
      "|  GPU   GI   CI        PID   Type   Process name                  GPU Memory |\r\n",
      "|        ID   ID                                                   Usage      |\r\n",
      "|=============================================================================|\r\n",
      "|    0   N/A  N/A     35722      C   ...s/june2020-gpu/bin/python     3529MiB |\r\n",
      "|    0   N/A  N/A     50808      C   ...s/june2020-gpu/bin/python      887MiB |\r\n",
      "|    0   N/A  N/A    143437      C   python                            919MiB |\r\n",
      "|    0   N/A  N/A    147786      C   ...s/june2020-gpu/bin/python     1011MiB |\r\n",
      "|    1   N/A  N/A      3736      G   /usr/bin/X                         33MiB |\r\n",
      "|    1   N/A  N/A      3790      G   /usr/bin/gnome-shell               25MiB |\r\n",
      "|    1   N/A  N/A    143437      C   python                           5395MiB |\r\n",
      "+-----------------------------------------------------------------------------+\r\n"
     ]
    }
   ],
   "source": [
    "!nvidia-smi"
   ]
  },
  {
   "cell_type": "markdown",
   "metadata": {},
   "source": [
    "> **WARNING**: The card numbers here are *not* the same as in CUDA. You have been warned."
   ]
  },
  {
   "cell_type": "markdown",
   "metadata": {},
   "source": [
    "## Imports"
   ]
  },
  {
   "cell_type": "code",
   "execution_count": 3,
   "metadata": {},
   "outputs": [],
   "source": [
    "import matplotlib.pyplot as plt\n",
    "import numpy as np\n",
    "import time\n",
    "import torch\n",
    "import pandas as pd\n",
    "\n",
    "# Python 3 standard library\n",
    "from pathlib import Path\n",
    "\n",
    "from model.efficiency import pv_locations, efficiency\n",
    "\n",
    "##from torchsummary import summary"
   ]
  },
  {
   "cell_type": "markdown",
   "metadata": {},
   "source": [
    "### Set up local parameters"
   ]
  },
  {
   "cell_type": "code",
   "execution_count": 4,
   "metadata": {},
   "outputs": [],
   "source": [
    "n_epochs = 300\n",
    "\n",
    "# Name is the output file name\n",
    "\n",
    "\n",
    "##  200719  mds\n",
    "##folder = '20December_Tracks_to_KDE_TestTrainedModel'\n",
    "##folder = '22December_testing_DDplus_loss_Bb_iter2_floatAll_100epochs_3em6'\n",
    "folder = '29December_Tracks_to_Hists_Iteration_3B_300epochs_lr_2em7_2p5_kde2hists_allFloat'\n",
    "name = folder\n",
    "\n",
    "# Make an output folder named \"name\" (change if you want)\n",
    "\n",
    "## Special instructions for those working on goofy at UC\n",
    "## Please be very careful to make sure that your folder\n",
    "## does not live in a subdirectory of your home directory\n",
    "## this disk has very little capacity. Instead, use \n",
    "## a subdirectory in /share/lazy with a symbolic link to\n",
    "## it in this (the notebooks) subdirectory\n",
    "folder = 'ML/' + folder\n",
    "output = Path(folder)\n",
    "\n",
    "\n",
    "# Size of batches\n",
    "batch_size = 16\n",
    "# How fast to learn\n",
    "learning_rate = 2e-7"
   ]
  },
  {
   "cell_type": "markdown",
   "metadata": {},
   "source": [
    "Make the output directory if it does not exist:"
   ]
  },
  {
   "cell_type": "code",
   "execution_count": 5,
   "metadata": {},
   "outputs": [],
   "source": [
    "output.mkdir(exist_ok=True)"
   ]
  },
  {
   "cell_type": "markdown",
   "metadata": {},
   "source": [
    "## Get the helper functions\n",
    "\n",
    "Add the directory with the model\n",
    "definitions to the path so we can import from it:\n",
    "\n",
    "> When you type `import X`,\n",
    "Python searches `sys.path` for a python\n",
    "file named `X.py` to import. So we need to add the model directory to the path."
   ]
  },
  {
   "cell_type": "code",
   "execution_count": 6,
   "metadata": {
    "scrolled": true
   },
   "outputs": [],
   "source": [
    "# From model/collectdata.py\n",
    "##from model.collectdata_kde_Ellipsoids import collect_t2kde_data\n",
    "from model.collectdata_t2hists import collect_t2hists_data\n",
    "from model.collectdata_mdsA  import collect_truth\n",
    "\n",
    "# From model/loss.py\n",
    "##from loss import Loss\n",
    "##from model.kde_loss_D import Loss\n",
    "## from model.kde_loss_B import Loss  ## Tracks_to_KDE loss, not for target hists\n",
    "\n",
    "##  \"standard\" ratios loss for hists training\n",
    "from model.alt_loss_A import Loss  ## loss used to train RunModel_Demo_28November2020-SimpleCNNLayer_Ca-Restart_5\n",
    "\n",
    "\n",
    "##from model.models_kde import TracksToKDE_Ellipsoids_DirtyDozen as Model\n",
    "from model.models_kde import TracksToKDE_Ellipsoids_DDplus as t2kde_model\n",
    "##from model.models_mds_G import SimpleCNN5Layer_Ca as kde2hists_model\n",
    "from model.models_mds_28Dec20 import SimpleCNN5Layer_Ca as kde2hists_model  ## copy of models_mds_01June20 for debugging\n",
    "from model.models_t2hists import TracksToHists_A as t2hists_model\n",
    "\n",
    "\n",
    "##from model.training_kde import trainNet, select_gpu, Results\n",
    "## training_t2hists_A.py increases \"difference\" for accepting found\n",
    "## peaks as matched from 5 bins to 7.5 bins (compmared to original training.py)\n",
    "from model.training_t2hists_A import trainNet, select_gpu, Results\n",
    "from model.plots import dual_train_plots, replace_in_ax"
   ]
  },
  {
   "cell_type": "code",
   "execution_count": 7,
   "metadata": {},
   "outputs": [],
   "source": [
    "# This gets built up during the run - do not rerun this cell\n",
    "results = pd.DataFrame([], columns=Results._fields)"
   ]
  },
  {
   "cell_type": "markdown",
   "metadata": {},
   "source": [
    "Set up Torch device configuration. All tensors and model parameters need to know where to be put.\n",
    "This takes a BUS ID number: The BUS ID is the same as the listing at the top of this script."
   ]
  },
  {
   "cell_type": "code",
   "execution_count": 8,
   "metadata": {},
   "outputs": [
    {
     "name": "stdout",
     "output_type": "stream",
     "text": [
      "1 available GPUs (initially using device 0):\n",
      "  0 GeForce RTX 2080 Ti\n"
     ]
    }
   ],
   "source": [
    "device = select_gpu(0)\n",
    "##device = \"cpu\""
   ]
  },
  {
   "cell_type": "markdown",
   "metadata": {},
   "source": [
    "## Loading data\n",
    "\n",
    "Load the dataset, split into parts, then move to device (see `collectdata.py` in the `../model` directory)"
   ]
  },
  {
   "cell_type": "code",
   "execution_count": 9,
   "metadata": {
    "scrolled": false
   },
   "outputs": [
    {
     "name": "stdout",
     "output_type": "stream",
     "text": [
      "Loading data...\n",
      "pocaMx.shape =  (20000,)\n",
      "nEvts =  20000\n",
      "len(pocaMx[0]) =  211\n",
      "len(pocaMx[1]) =  21\n",
      "len(pocaMx[2]) =  20\n",
      "len(pocaMx[3]) =  198\n",
      "len(pocaMx[4]) =  233\n",
      "have entered six_ellipsoid_parameters\n",
      "  \n",
      " \n",
      "  nEvts =  20000\n",
      " iEvt, nTrks =  0 211\n",
      " iEvt, nTrks =  1 21\n",
      " iEvt, nTrks =  2 20\n",
      " iEvt, nTrks =  3 198\n",
      " iEvt, nTrks =  4 233\n",
      " iEvt, nTrks =  5 85\n",
      " iEvt, nTrks =  6 223\n",
      " iEvt, nTrks =  7 425\n",
      " iEvt, nTrks =  8 252\n",
      " iEvt, nTrks =  9 169\n",
      "len(X) =  20000\n",
      "len(Xlist) =  1\n",
      "Loaded dataAA/20K_POCA_kernel_evts_200926.h5 in 26.49 s\n",
      "outer loop X.shape =  (20000, 9, 600)\n",
      "Constructing 18000 event dataset took 0.08889 s\n",
      "x_t.shape =  torch.Size([18000, 9, 600])\n",
      "x_t.shape[0] =  18000\n",
      "x_t.shape[1] =  9\n",
      "x_t.shape =  torch.Size([18000, 9, 600])\n",
      "Loading data...\n",
      "pocaMx.shape =  (20000,)\n",
      "nEvts =  20000\n",
      "len(pocaMx[0]) =  211\n",
      "len(pocaMx[1]) =  21\n",
      "len(pocaMx[2]) =  20\n",
      "len(pocaMx[3]) =  198\n",
      "len(pocaMx[4]) =  233\n",
      "have entered six_ellipsoid_parameters\n",
      "  \n",
      " \n",
      "  nEvts =  20000\n",
      " iEvt, nTrks =  0 211\n",
      " iEvt, nTrks =  1 21\n",
      " iEvt, nTrks =  2 20\n",
      " iEvt, nTrks =  3 198\n",
      " iEvt, nTrks =  4 233\n",
      " iEvt, nTrks =  5 85\n",
      " iEvt, nTrks =  6 223\n",
      " iEvt, nTrks =  7 425\n",
      " iEvt, nTrks =  8 252\n",
      " iEvt, nTrks =  9 169\n",
      "len(X) =  20000\n",
      "len(Xlist) =  1\n",
      "Loaded dataAA/20K_POCA_kernel_evts_200926.h5 in 26.21 s\n",
      "outer loop X.shape =  (20000, 9, 600)\n",
      "Constructing 2000 event dataset took 2.49 s\n",
      "x_t.shape =  torch.Size([2000, 9, 600])\n",
      "x_t.shape[0] =  2000\n",
      "x_t.shape[1] =  9\n",
      "x_t.shape =  torch.Size([2000, 9, 600])\n",
      "Loaded dataAA/20K_POCA_kernel_evts_200926.h5 in 0.01243 s\n",
      "PV.n.shape =     (20000,)\n",
      "PV.n[0].shape =  6\n",
      "PV.x[0] =        -0.06039733 0.034324445 0.032115813 0.0021888595 -0.035334907 -0.013019809\n",
      "PV.y[0] =        -0.09381338 -0.013181885 -0.030898828 -0.08940365 -0.0058297813 0.062288247\n",
      "PV.z[0] =        97.82085 61.021088 -0.15807877 134.26784 -29.881668 79.19783\n",
      "PV.n[0] =        24 26 10 7 24 19\n",
      "PV.cat[0] =      1 1 1 1 1 1\n",
      "Loaded dataAA/20K_POCA_kernel_evts_200926.h5 in 0.009059 s\n",
      "SV.n.shape =     (20000,)\n",
      "SV.n[0].shape =  2\n",
      "SV.x[0] =        -0.014751727 0.03923173\n",
      "SV.y[0] =        0.050640453 0.08648109\n",
      "SV.z[0] =        78.924194 79.170876\n",
      "SV.n[0] =        2 0\n",
      "SV.cat[0] =      1 -1\n"
     ]
    }
   ],
   "source": [
    "train_loader = collect_t2hists_data('dataAA/20K_POCA_kernel_evts_200926.h5',\n",
    "                             batch_size=batch_size,\n",
    "## if we are using a larger dataset (240K events, with the datasets above, and 11 GB  of GPU memory),\n",
    "## not the dataset will overflow the GPU memory; device=device will allow the data to move back\n",
    "## and forth between the CPU and GPU memory. While this allows use of a larger dataset, it slows\n",
    "## down performance by about 10%.  So comment out when not needed.\n",
    "##                           device=device,\n",
    "                             slice = slice(0,18000)\n",
    "                           )\n",
    "\n",
    "\n",
    "\n",
    "                            \n",
    "# Validation dataset. You can slice to reduce the size.\n",
    "## mds no separate validation set yet,\n",
    "val_loader = collect_t2hists_data('dataAA/20K_POCA_kernel_evts_200926.h5',\n",
    "                            batch_size=batch_size,\n",
    "                            device=device,\n",
    "                            slice = slice(18000,None)\n",
    "                           )\n",
    "\n",
    "PV = collect_truth('dataAA/20K_POCA_kernel_evts_200926.h5', pvs=True)\n",
    "print('PV.n.shape =    ',  PV.n.shape)\n",
    "print('PV.n[0].shape = ', *PV.n[0].shape)\n",
    "print('PV.x[0] =       ', *PV.x[0])\n",
    "print('PV.y[0] =       ', *PV.y[0])\n",
    "print('PV.z[0] =       ', *PV.z[0])\n",
    "print('PV.n[0] =       ', *PV.n[0])\n",
    "print('PV.cat[0] =     ', *PV.cat[0])\n",
    "\n",
    "SV = collect_truth('dataAA/20K_POCA_kernel_evts_200926.h5', pvs=False)\n",
    "print('SV.n.shape =    ', SV.n.shape)\n",
    "print('SV.n[0].shape = ', *SV.n[0].shape)\n",
    "print('SV.x[0] =       ', *SV.x[0])\n",
    "print('SV.y[0] =       ', *SV.y[0])\n",
    "print('SV.z[0] =       ', *SV.z[0])\n",
    "print('SV.n[0] =       ', *SV.n[0])\n",
    "print('SV.cat[0] =     ', *SV.cat[0])\n"
   ]
  },
  {
   "cell_type": "markdown",
   "metadata": {},
   "source": [
    "# Preparing the model"
   ]
  },
  {
   "cell_type": "markdown",
   "metadata": {},
   "source": [
    "Prepare a model, use multiple GPUs if they are VISIBLE, and move the model to the device."
   ]
  },
  {
   "cell_type": "code",
   "execution_count": 10,
   "metadata": {
    "scrolled": false
   },
   "outputs": [
    {
     "name": "stdout",
     "output_type": "stream",
     "text": [
      "ct, child =  0    Linear(in_features=9, out_features=50, bias=True)\n",
      "ct, child =  1    Linear(in_features=50, out_features=50, bias=True)\n",
      "ct, child =  2    Linear(in_features=50, out_features=50, bias=True)\n",
      "ct, child =  3    Linear(in_features=50, out_features=50, bias=True)\n",
      "ct, child =  4    Linear(in_features=50, out_features=50, bias=True)\n",
      "ct, child =  5    Linear(in_features=50, out_features=50, bias=True)\n",
      "ct, child =  6    Linear(in_features=50, out_features=50, bias=True)\n",
      "ct, child =  7    Linear(in_features=50, out_features=50, bias=True)\n",
      "ct, child =  8    Linear(in_features=50, out_features=50, bias=True)\n",
      "ct, child =  9    Linear(in_features=50, out_features=50, bias=True)\n",
      "ct, child =  10    Linear(in_features=50, out_features=50, bias=True)\n",
      "ct, child =  11    Linear(in_features=50, out_features=16000, bias=True)\n",
      "ct, child =  12    Conv1d(4, 25, kernel_size=(25,), stride=(1,), padding=(12,))\n",
      "ct, child =  13    Conv1d(25, 1, kernel_size=(5,), stride=(1,), padding=(2,))\n",
      "ct, child =  14    Linear(in_features=4000, out_features=4000, bias=True)\n",
      "ct, child =  15    Dropout(p=0.15, inplace=False)\n",
      "ct, child =  16    Dropout(p=0.15, inplace=False)\n",
      "ct, child =  17    Conv1d(1, 20, kernel_size=(25,), stride=(1,), padding=(12,))\n",
      "ct, child =  18    Conv1d(20, 10, kernel_size=(15,), stride=(1,), padding=(7,))\n",
      "ct, child =  19    Conv1d(10, 10, kernel_size=(15,), stride=(1,), padding=(7,))\n",
      "ct, child =  20    Conv1d(10, 10, kernel_size=(15,), stride=(1,), padding=(7,))\n",
      "ct, child =  21    Conv1d(10, 1, kernel_size=(5,), stride=(1,), padding=(2,))\n",
      "ct, child =  22    Dropout(p=0.15, inplace=False)\n",
      "ct, child =  23    Dropout(p=0.15, inplace=False)\n",
      "ct, child =  24    Dropout(p=0.15, inplace=False)\n",
      "ct, child =  25    Dropout(p=0.15, inplace=False)\n",
      "ct, child =  26    Dropout(p=0.35, inplace=False)\n",
      "ct, child =  27    Linear(in_features=4000, out_features=4000, bias=True)\n"
     ]
    }
   ],
   "source": [
    "nOut1 = 50\n",
    "nOut2 = 50\n",
    "nOut3 = 50\n",
    "nOut4 = 50\n",
    "nOut5 = 50\n",
    "nOut6 = 50\n",
    "nOut7 = 50\n",
    "nOut8 = 50\n",
    "nOut9 = 50\n",
    "nOut10 = 50\n",
    "nOut11 = 50\n",
    "latentChannels = 4\n",
    "model_t2kde = t2kde_model(nOut1,nOut2,nOut3,nOut4,nOut5,nOut6,nOut7,nOut8,nOut9,nOut10,nOut11,latentChannels)\n",
    "model_kde2hists = kde2hists_model()\n",
    "model_t2hists = t2hists_model(nOut1,nOut2,nOut3,nOut4,nOut5,nOut6,nOut7,nOut8,nOut9,nOut10,nOut11,latentChannels)\n",
    "\n",
    "##summary(model, input_size=(4, 4000))\n",
    "##print(model.parameters)\n",
    "\n",
    "## add the following code to allow the user to freeze the some of the weights corresponding \n",
    "## to those taken from an earlier model trained with the original target histograms\n",
    "## presumably -- this leaves either the perturbative filter \"fixed\" and lets the \n",
    "## learning focus on the non-perturbative features, so get started faster, or vice versa\n",
    "ct = 0\n",
    "for child in model_t2hists.children():\n",
    "  print('ct, child = ',ct, \"  \", child)\n",
    "  if (ct < 0) :\n",
    "    print(\"     About to set param.requires_grad=False for ct = \", ct, \"params\")\n",
    "    for param in child.parameters():\n",
    "        param.requires_grad = False \n",
    "  ct += 1\n",
    "\n",
    "loss = Loss(epsilon=1e-5,coefficient=2.5)\n",
    "optimizer = torch.optim.Adam(model_t2hists.parameters(), lr=learning_rate)"
   ]
  },
  {
   "cell_type": "markdown",
   "metadata": {},
   "source": [
    "Let's move the model's weight matricies to the GPU:"
   ]
  },
  {
   "cell_type": "code",
   "execution_count": 11,
   "metadata": {
    "scrolled": false
   },
   "outputs": [
    {
     "data": {
      "text/plain": [
       "<All keys matched successfully>"
      ]
     },
     "execution_count": 11,
     "metadata": {},
     "output_type": "execute_result"
    }
   ],
   "source": [
    "## want to look at all three dictionaries to start:\n",
    "##  t2kde\n",
    "##  kde2hists\n",
    "##  t2hists\n",
    "## the plan is to (initially) copy weights from separate dictionaries into th t2hists dictionary\n",
    "\n",
    "##   ML -> /share/lazy/sokoloff/ML\n",
    "'''\n",
    "model_t2kde_dict = model_t2kde.state_dict()\n",
    "## mds 190725 for debugging\n",
    "print(\"for model_t2kde_dict\")\n",
    "index = 0\n",
    "for k,v in model_t2kde_dict.items():\n",
    "    print(\"index, k =  \",index,\"  \",k)\n",
    "    index = index+1\n",
    "#\n",
    "model_kde2hists_dict = model_kde2hists.state_dict()\n",
    "## mds 190725 for debugging\n",
    "print(\"for model_hists_2kde_dict\")\n",
    "index = 0\n",
    "for k,v in model_kde2hists_dict.items():\n",
    "    print(\"index, k =  \",index,\"  \",k)\n",
    "    index = index+1\n",
    "#\n",
    "model_t2hists_dict = model_t2hists.state_dict()\n",
    "## mds 190725 for debugging\n",
    "print(\"for model_hists_2kde_dict\")\n",
    "index = 0\n",
    "for k,v in model_t2hists_dict.items():\n",
    "    print(\"index, k =  \",index,\"  \",k)\n",
    "    index = index+1\n",
    "#\n",
    "\n",
    "##  build the \"updated_dict\" to become the t2hists_dictionary from the\n",
    "##  t2kde and kde2hist dictionaries\n",
    "update_dict = model_t2hists_dict\n",
    "##print(\"updated_dict = \",updated_dict)\n",
    "## when starting \"ab initio\", reduce biases as the bias gets summed for each track\n",
    "## contributing to the predicted KDE\n",
    "'''\n",
    "\n",
    "\n",
    "'''\n",
    "updated_dict[\"layer1.bias\"] = 0.005*model_dict[\"layer1.bias\"]\n",
    "updated_dict[\"layer2.bias\"] = 0.005*model_dict[\"layer2.bias\"]\n",
    "updated_dict[\"layer3.bias\"] = 0.005*model_dict[\"layer3.bias\"]\n",
    "updated_dict[\"layer4.bias\"] = 0.005*model_dict[\"layer4.bias\"]\n",
    "updated_dict[\"layer5.bias\"] = 0.005*model_dict[\"layer5.bias\"]\n",
    "updated_dict[\"layer6.bias\"] = 0.005*model_dict[\"layer6.bias\"]\n",
    "updated_dict[\"layer7.bias\"] = 0.005*model_dict[\"layer7.bias\"]\n",
    "updated_dict[\"layer8.bias\"] = 0.005*model_dict[\"layer8.bias\"]\n",
    "updated_dict[\"layer9.bias\"] = 0.005*model_dict[\"layer9.bias\"]\n",
    "updated_dict[\"layer10.bias\"] = 0.005*model_dict[\"layer10.bias\"]\n",
    "updated_dict[\"layer11.bias\"] = 0.005*model_dict[\"layer11.bias\"]\n",
    "'''\n",
    "\n",
    "'''\n",
    "##model_t2hists.load_state_dict(updated_dict,strict=False)\n",
    "\n",
    "##model__t2hists_dict = model_t2hists.state_dict()\n",
    "\n",
    "## let's get the tracks-to-kde model here\n",
    "t2kde_folder = '25December__DDplus_loss_Ba_iter5_floatAll_800epochs_5em6'  ## really iter6, really Dec. 27\n",
    "t2kde_folder = '25December__DDplus_loss_Ba_iter7_floatAll_800epochs_4em6'\n",
    "t2kde_name = t2kde_folder\n",
    "suffix = 'final'\n",
    "t2kde_dict_name = 'ML/' + t2kde_folder + '/' + t2kde_name + '_'+ suffix + '.pyt'\n",
    "print('t2kde_dict_name = ',t2kde_dict_name)\n",
    "pretrained_t2kde_dict = torch.load(t2kde_dict_name)\n",
    "\n",
    "print(\" \\n\",\"  for t2kde_pretrained_dict\")\n",
    "index = 0\n",
    "for k,v in pretrained_t2kde_dict.items():\n",
    "    print(\"index, k =  \",index,\"  \",k)\n",
    "    index = index+1\n",
    "    \n",
    "    \n",
    "## let's get the hists-to-kde model here   \n",
    "kde2hists_folder = '02June2020_CNN5Layer_Ca_another200epochs_K'\n",
    "kde2hists_name = kde2hists_folder\n",
    "suffix = 'final'\n",
    "kde2hists_dict_name = 'ML/' + kde2hists_folder + '/' + kde2hists_name + '_'+ suffix + '.pyt'\n",
    "## mds dec28 print('kde2hists_dict_name = ',kde2hists_dict_name)\n",
    "pretrained_kde2hists_dict = torch.load(kde2hists_dict_name)\n",
    "\n",
    "print(\" \\n\",\"  for kde2hists_pretrained_dict\")\n",
    "index = 0\n",
    "for k,v in pretrained_kde2hists_dict.items():\n",
    "    print(\"index, k =  \",index,\"  \",k)\n",
    "    index = index+1\n",
    " \n",
    "\n",
    "\n",
    "##print(\"model_dict instantiated\")\n",
    "# 1. filter out unnecessary keys\n",
    "pretrained_dict = {k: v for k, v in pretrained_t2kde_dict.items() if k in model_t2hists_dict}\n",
    "## mds dec28 print(\"pretrained_dict iterated\")\n",
    "# 2. overwrite entries in the existing state dict\n",
    "model_t2hists_dict.update(pretrained_dict) \n",
    "\n",
    "update_dict[\"hist_conv1.weight\"] = pretrained_kde2hists_dict[\"conv1.weight\"]\n",
    "update_dict[\"hist_conv1.bias\"]   = pretrained_kde2hists_dict[\"conv1.bias\"]\n",
    "update_dict[\"hist_conv2.weight\"] = pretrained_kde2hists_dict[\"conv2.weight\"]\n",
    "update_dict[\"hist_conv2.bias\"]   = pretrained_kde2hists_dict[\"conv2.bias\"]\n",
    "update_dict[\"hist_conv3.weight\"] = pretrained_kde2hists_dict[\"conv3.weight\"]\n",
    "update_dict[\"hist_conv3.bias\"]   = pretrained_kde2hists_dict[\"conv3.bias\"]\n",
    "update_dict[\"hist_conv4.weight\"] = pretrained_kde2hists_dict[\"conv4.weight\"]\n",
    "update_dict[\"hist_conv4.bias\"]   = pretrained_kde2hists_dict[\"conv4.bias\"]\n",
    "update_dict[\"hist_conv5.weight\"] = pretrained_kde2hists_dict[\"conv5.weight\"]\n",
    "update_dict[\"hist_conv5.bias\"]   = pretrained_kde2hists_dict[\"conv5.bias\"]\n",
    "update_dict[\"hist_fc1.weight\"]   = pretrained_kde2hists_dict[\"fc1.weight\"]\n",
    "update_dict[\"hist_fc1.bias\"]     = pretrained_kde2hists_dict[\"fc1.bias\"]\n",
    "\n",
    "##model_t2hists.update(update_dict,strict=False)\n",
    "model_t2hists.load_state_dict(update_dict,strict=False)\n",
    "model_t2hists_dict = model_t2hists.state_dict()\n",
    "'''\n",
    "\n",
    "##\n",
    "#   when starting from a model with a fully connected last layer rather than a convolutional layer\n",
    "# 3. load the new state dict\n",
    "#   need to use strict=False as the two models state model attributes do not agree exactly\n",
    "#   see https://pytorch.org/docs/master/_modules/torch/nn/modules/module.html#Module.load_state_dict\n",
    "\n",
    "t2hists_folder = '29December_Tracks_to_Hists_Iteration_2B_100epochs_lr_1em7_2p5_kde2hists_allFloat'\n",
    "t2hists_name = t2hists_folder\n",
    "suffix = 'final'\n",
    "t2hists_dict_name = 'ML/' + t2hists_folder + '/' +t2hists_name + '_'+ suffix + '.pyt'\n",
    "## mds dec28 print('kde2hists_dict_name = ',kde2hists_dict_name)\n",
    "pretrained_t2hists_dict = torch.load(t2hists_dict_name) \n",
    "\n",
    "model_t2hists.load_state_dict(pretrained_t2hists_dict,strict=False)\n",
    "\n",
    "##  print('model_t2hists_dict =    ', model_t2hists_dict)\n"
   ]
  },
  {
   "cell_type": "code",
   "execution_count": 12,
   "metadata": {},
   "outputs": [],
   "source": [
    "##print('validation.dataset.tensors = ',validation.dataset.tensors)\n",
    "fig_size = plt.rcParams[\"figure.figsize\"]\n",
    "fig_size[0] = 10\n",
    "fig_size[1] = 4\n",
    "plt.rcParams[\"figure.figsize\"] = fig_size"
   ]
  },
  {
   "cell_type": "code",
   "execution_count": 13,
   "metadata": {
    "scrolled": true
   },
   "outputs": [],
   "source": [
    "model = model_t2hists.to(device)"
   ]
  },
  {
   "cell_type": "code",
   "execution_count": 14,
   "metadata": {},
   "outputs": [
    {
     "data": {
      "application/javascript": [
       "/* Put everything inside the global mpl namespace */\n",
       "window.mpl = {};\n",
       "\n",
       "\n",
       "mpl.get_websocket_type = function() {\n",
       "    if (typeof(WebSocket) !== 'undefined') {\n",
       "        return WebSocket;\n",
       "    } else if (typeof(MozWebSocket) !== 'undefined') {\n",
       "        return MozWebSocket;\n",
       "    } else {\n",
       "        alert('Your browser does not have WebSocket support. ' +\n",
       "              'Please try Chrome, Safari or Firefox ≥ 6. ' +\n",
       "              'Firefox 4 and 5 are also supported but you ' +\n",
       "              'have to enable WebSockets in about:config.');\n",
       "    };\n",
       "}\n",
       "\n",
       "mpl.figure = function(figure_id, websocket, ondownload, parent_element) {\n",
       "    this.id = figure_id;\n",
       "\n",
       "    this.ws = websocket;\n",
       "\n",
       "    this.supports_binary = (this.ws.binaryType != undefined);\n",
       "\n",
       "    if (!this.supports_binary) {\n",
       "        var warnings = document.getElementById(\"mpl-warnings\");\n",
       "        if (warnings) {\n",
       "            warnings.style.display = 'block';\n",
       "            warnings.textContent = (\n",
       "                \"This browser does not support binary websocket messages. \" +\n",
       "                    \"Performance may be slow.\");\n",
       "        }\n",
       "    }\n",
       "\n",
       "    this.imageObj = new Image();\n",
       "\n",
       "    this.context = undefined;\n",
       "    this.message = undefined;\n",
       "    this.canvas = undefined;\n",
       "    this.rubberband_canvas = undefined;\n",
       "    this.rubberband_context = undefined;\n",
       "    this.format_dropdown = undefined;\n",
       "\n",
       "    this.image_mode = 'full';\n",
       "\n",
       "    this.root = $('<div/>');\n",
       "    this._root_extra_style(this.root)\n",
       "    this.root.attr('style', 'display: inline-block');\n",
       "\n",
       "    $(parent_element).append(this.root);\n",
       "\n",
       "    this._init_header(this);\n",
       "    this._init_canvas(this);\n",
       "    this._init_toolbar(this);\n",
       "\n",
       "    var fig = this;\n",
       "\n",
       "    this.waiting = false;\n",
       "\n",
       "    this.ws.onopen =  function () {\n",
       "            fig.send_message(\"supports_binary\", {value: fig.supports_binary});\n",
       "            fig.send_message(\"send_image_mode\", {});\n",
       "            if (mpl.ratio != 1) {\n",
       "                fig.send_message(\"set_dpi_ratio\", {'dpi_ratio': mpl.ratio});\n",
       "            }\n",
       "            fig.send_message(\"refresh\", {});\n",
       "        }\n",
       "\n",
       "    this.imageObj.onload = function() {\n",
       "            if (fig.image_mode == 'full') {\n",
       "                // Full images could contain transparency (where diff images\n",
       "                // almost always do), so we need to clear the canvas so that\n",
       "                // there is no ghosting.\n",
       "                fig.context.clearRect(0, 0, fig.canvas.width, fig.canvas.height);\n",
       "            }\n",
       "            fig.context.drawImage(fig.imageObj, 0, 0);\n",
       "        };\n",
       "\n",
       "    this.imageObj.onunload = function() {\n",
       "        fig.ws.close();\n",
       "    }\n",
       "\n",
       "    this.ws.onmessage = this._make_on_message_function(this);\n",
       "\n",
       "    this.ondownload = ondownload;\n",
       "}\n",
       "\n",
       "mpl.figure.prototype._init_header = function() {\n",
       "    var titlebar = $(\n",
       "        '<div class=\"ui-dialog-titlebar ui-widget-header ui-corner-all ' +\n",
       "        'ui-helper-clearfix\"/>');\n",
       "    var titletext = $(\n",
       "        '<div class=\"ui-dialog-title\" style=\"width: 100%; ' +\n",
       "        'text-align: center; padding: 3px;\"/>');\n",
       "    titlebar.append(titletext)\n",
       "    this.root.append(titlebar);\n",
       "    this.header = titletext[0];\n",
       "}\n",
       "\n",
       "\n",
       "\n",
       "mpl.figure.prototype._canvas_extra_style = function(canvas_div) {\n",
       "\n",
       "}\n",
       "\n",
       "\n",
       "mpl.figure.prototype._root_extra_style = function(canvas_div) {\n",
       "\n",
       "}\n",
       "\n",
       "mpl.figure.prototype._init_canvas = function() {\n",
       "    var fig = this;\n",
       "\n",
       "    var canvas_div = $('<div/>');\n",
       "\n",
       "    canvas_div.attr('style', 'position: relative; clear: both; outline: 0');\n",
       "\n",
       "    function canvas_keyboard_event(event) {\n",
       "        return fig.key_event(event, event['data']);\n",
       "    }\n",
       "\n",
       "    canvas_div.keydown('key_press', canvas_keyboard_event);\n",
       "    canvas_div.keyup('key_release', canvas_keyboard_event);\n",
       "    this.canvas_div = canvas_div\n",
       "    this._canvas_extra_style(canvas_div)\n",
       "    this.root.append(canvas_div);\n",
       "\n",
       "    var canvas = $('<canvas/>');\n",
       "    canvas.addClass('mpl-canvas');\n",
       "    canvas.attr('style', \"left: 0; top: 0; z-index: 0; outline: 0\")\n",
       "\n",
       "    this.canvas = canvas[0];\n",
       "    this.context = canvas[0].getContext(\"2d\");\n",
       "\n",
       "    var backingStore = this.context.backingStorePixelRatio ||\n",
       "\tthis.context.webkitBackingStorePixelRatio ||\n",
       "\tthis.context.mozBackingStorePixelRatio ||\n",
       "\tthis.context.msBackingStorePixelRatio ||\n",
       "\tthis.context.oBackingStorePixelRatio ||\n",
       "\tthis.context.backingStorePixelRatio || 1;\n",
       "\n",
       "    mpl.ratio = (window.devicePixelRatio || 1) / backingStore;\n",
       "\n",
       "    var rubberband = $('<canvas/>');\n",
       "    rubberband.attr('style', \"position: absolute; left: 0; top: 0; z-index: 1;\")\n",
       "\n",
       "    var pass_mouse_events = true;\n",
       "\n",
       "    canvas_div.resizable({\n",
       "        start: function(event, ui) {\n",
       "            pass_mouse_events = false;\n",
       "        },\n",
       "        resize: function(event, ui) {\n",
       "            fig.request_resize(ui.size.width, ui.size.height);\n",
       "        },\n",
       "        stop: function(event, ui) {\n",
       "            pass_mouse_events = true;\n",
       "            fig.request_resize(ui.size.width, ui.size.height);\n",
       "        },\n",
       "    });\n",
       "\n",
       "    function mouse_event_fn(event) {\n",
       "        if (pass_mouse_events)\n",
       "            return fig.mouse_event(event, event['data']);\n",
       "    }\n",
       "\n",
       "    rubberband.mousedown('button_press', mouse_event_fn);\n",
       "    rubberband.mouseup('button_release', mouse_event_fn);\n",
       "    // Throttle sequential mouse events to 1 every 20ms.\n",
       "    rubberband.mousemove('motion_notify', mouse_event_fn);\n",
       "\n",
       "    rubberband.mouseenter('figure_enter', mouse_event_fn);\n",
       "    rubberband.mouseleave('figure_leave', mouse_event_fn);\n",
       "\n",
       "    canvas_div.on(\"wheel\", function (event) {\n",
       "        event = event.originalEvent;\n",
       "        event['data'] = 'scroll'\n",
       "        if (event.deltaY < 0) {\n",
       "            event.step = 1;\n",
       "        } else {\n",
       "            event.step = -1;\n",
       "        }\n",
       "        mouse_event_fn(event);\n",
       "    });\n",
       "\n",
       "    canvas_div.append(canvas);\n",
       "    canvas_div.append(rubberband);\n",
       "\n",
       "    this.rubberband = rubberband;\n",
       "    this.rubberband_canvas = rubberband[0];\n",
       "    this.rubberband_context = rubberband[0].getContext(\"2d\");\n",
       "    this.rubberband_context.strokeStyle = \"#000000\";\n",
       "\n",
       "    this._resize_canvas = function(width, height) {\n",
       "        // Keep the size of the canvas, canvas container, and rubber band\n",
       "        // canvas in synch.\n",
       "        canvas_div.css('width', width)\n",
       "        canvas_div.css('height', height)\n",
       "\n",
       "        canvas.attr('width', width * mpl.ratio);\n",
       "        canvas.attr('height', height * mpl.ratio);\n",
       "        canvas.attr('style', 'width: ' + width + 'px; height: ' + height + 'px;');\n",
       "\n",
       "        rubberband.attr('width', width);\n",
       "        rubberband.attr('height', height);\n",
       "    }\n",
       "\n",
       "    // Set the figure to an initial 600x600px, this will subsequently be updated\n",
       "    // upon first draw.\n",
       "    this._resize_canvas(600, 600);\n",
       "\n",
       "    // Disable right mouse context menu.\n",
       "    $(this.rubberband_canvas).bind(\"contextmenu\",function(e){\n",
       "        return false;\n",
       "    });\n",
       "\n",
       "    function set_focus () {\n",
       "        canvas.focus();\n",
       "        canvas_div.focus();\n",
       "    }\n",
       "\n",
       "    window.setTimeout(set_focus, 100);\n",
       "}\n",
       "\n",
       "mpl.figure.prototype._init_toolbar = function() {\n",
       "    var fig = this;\n",
       "\n",
       "    var nav_element = $('<div/>');\n",
       "    nav_element.attr('style', 'width: 100%');\n",
       "    this.root.append(nav_element);\n",
       "\n",
       "    // Define a callback function for later on.\n",
       "    function toolbar_event(event) {\n",
       "        return fig.toolbar_button_onclick(event['data']);\n",
       "    }\n",
       "    function toolbar_mouse_event(event) {\n",
       "        return fig.toolbar_button_onmouseover(event['data']);\n",
       "    }\n",
       "\n",
       "    for(var toolbar_ind in mpl.toolbar_items) {\n",
       "        var name = mpl.toolbar_items[toolbar_ind][0];\n",
       "        var tooltip = mpl.toolbar_items[toolbar_ind][1];\n",
       "        var image = mpl.toolbar_items[toolbar_ind][2];\n",
       "        var method_name = mpl.toolbar_items[toolbar_ind][3];\n",
       "\n",
       "        if (!name) {\n",
       "            // put a spacer in here.\n",
       "            continue;\n",
       "        }\n",
       "        var button = $('<button/>');\n",
       "        button.addClass('ui-button ui-widget ui-state-default ui-corner-all ' +\n",
       "                        'ui-button-icon-only');\n",
       "        button.attr('role', 'button');\n",
       "        button.attr('aria-disabled', 'false');\n",
       "        button.click(method_name, toolbar_event);\n",
       "        button.mouseover(tooltip, toolbar_mouse_event);\n",
       "\n",
       "        var icon_img = $('<span/>');\n",
       "        icon_img.addClass('ui-button-icon-primary ui-icon');\n",
       "        icon_img.addClass(image);\n",
       "        icon_img.addClass('ui-corner-all');\n",
       "\n",
       "        var tooltip_span = $('<span/>');\n",
       "        tooltip_span.addClass('ui-button-text');\n",
       "        tooltip_span.html(tooltip);\n",
       "\n",
       "        button.append(icon_img);\n",
       "        button.append(tooltip_span);\n",
       "\n",
       "        nav_element.append(button);\n",
       "    }\n",
       "\n",
       "    var fmt_picker_span = $('<span/>');\n",
       "\n",
       "    var fmt_picker = $('<select/>');\n",
       "    fmt_picker.addClass('mpl-toolbar-option ui-widget ui-widget-content');\n",
       "    fmt_picker_span.append(fmt_picker);\n",
       "    nav_element.append(fmt_picker_span);\n",
       "    this.format_dropdown = fmt_picker[0];\n",
       "\n",
       "    for (var ind in mpl.extensions) {\n",
       "        var fmt = mpl.extensions[ind];\n",
       "        var option = $(\n",
       "            '<option/>', {selected: fmt === mpl.default_extension}).html(fmt);\n",
       "        fmt_picker.append(option);\n",
       "    }\n",
       "\n",
       "    // Add hover states to the ui-buttons\n",
       "    $( \".ui-button\" ).hover(\n",
       "        function() { $(this).addClass(\"ui-state-hover\");},\n",
       "        function() { $(this).removeClass(\"ui-state-hover\");}\n",
       "    );\n",
       "\n",
       "    var status_bar = $('<span class=\"mpl-message\"/>');\n",
       "    nav_element.append(status_bar);\n",
       "    this.message = status_bar[0];\n",
       "}\n",
       "\n",
       "mpl.figure.prototype.request_resize = function(x_pixels, y_pixels) {\n",
       "    // Request matplotlib to resize the figure. Matplotlib will then trigger a resize in the client,\n",
       "    // which will in turn request a refresh of the image.\n",
       "    this.send_message('resize', {'width': x_pixels, 'height': y_pixels});\n",
       "}\n",
       "\n",
       "mpl.figure.prototype.send_message = function(type, properties) {\n",
       "    properties['type'] = type;\n",
       "    properties['figure_id'] = this.id;\n",
       "    this.ws.send(JSON.stringify(properties));\n",
       "}\n",
       "\n",
       "mpl.figure.prototype.send_draw_message = function() {\n",
       "    if (!this.waiting) {\n",
       "        this.waiting = true;\n",
       "        this.ws.send(JSON.stringify({type: \"draw\", figure_id: this.id}));\n",
       "    }\n",
       "}\n",
       "\n",
       "\n",
       "mpl.figure.prototype.handle_save = function(fig, msg) {\n",
       "    var format_dropdown = fig.format_dropdown;\n",
       "    var format = format_dropdown.options[format_dropdown.selectedIndex].value;\n",
       "    fig.ondownload(fig, format);\n",
       "}\n",
       "\n",
       "\n",
       "mpl.figure.prototype.handle_resize = function(fig, msg) {\n",
       "    var size = msg['size'];\n",
       "    if (size[0] != fig.canvas.width || size[1] != fig.canvas.height) {\n",
       "        fig._resize_canvas(size[0], size[1]);\n",
       "        fig.send_message(\"refresh\", {});\n",
       "    };\n",
       "}\n",
       "\n",
       "mpl.figure.prototype.handle_rubberband = function(fig, msg) {\n",
       "    var x0 = msg['x0'] / mpl.ratio;\n",
       "    var y0 = (fig.canvas.height - msg['y0']) / mpl.ratio;\n",
       "    var x1 = msg['x1'] / mpl.ratio;\n",
       "    var y1 = (fig.canvas.height - msg['y1']) / mpl.ratio;\n",
       "    x0 = Math.floor(x0) + 0.5;\n",
       "    y0 = Math.floor(y0) + 0.5;\n",
       "    x1 = Math.floor(x1) + 0.5;\n",
       "    y1 = Math.floor(y1) + 0.5;\n",
       "    var min_x = Math.min(x0, x1);\n",
       "    var min_y = Math.min(y0, y1);\n",
       "    var width = Math.abs(x1 - x0);\n",
       "    var height = Math.abs(y1 - y0);\n",
       "\n",
       "    fig.rubberband_context.clearRect(\n",
       "        0, 0, fig.canvas.width / mpl.ratio, fig.canvas.height / mpl.ratio);\n",
       "\n",
       "    fig.rubberband_context.strokeRect(min_x, min_y, width, height);\n",
       "}\n",
       "\n",
       "mpl.figure.prototype.handle_figure_label = function(fig, msg) {\n",
       "    // Updates the figure title.\n",
       "    fig.header.textContent = msg['label'];\n",
       "}\n",
       "\n",
       "mpl.figure.prototype.handle_cursor = function(fig, msg) {\n",
       "    var cursor = msg['cursor'];\n",
       "    switch(cursor)\n",
       "    {\n",
       "    case 0:\n",
       "        cursor = 'pointer';\n",
       "        break;\n",
       "    case 1:\n",
       "        cursor = 'default';\n",
       "        break;\n",
       "    case 2:\n",
       "        cursor = 'crosshair';\n",
       "        break;\n",
       "    case 3:\n",
       "        cursor = 'move';\n",
       "        break;\n",
       "    }\n",
       "    fig.rubberband_canvas.style.cursor = cursor;\n",
       "}\n",
       "\n",
       "mpl.figure.prototype.handle_message = function(fig, msg) {\n",
       "    fig.message.textContent = msg['message'];\n",
       "}\n",
       "\n",
       "mpl.figure.prototype.handle_draw = function(fig, msg) {\n",
       "    // Request the server to send over a new figure.\n",
       "    fig.send_draw_message();\n",
       "}\n",
       "\n",
       "mpl.figure.prototype.handle_image_mode = function(fig, msg) {\n",
       "    fig.image_mode = msg['mode'];\n",
       "}\n",
       "\n",
       "mpl.figure.prototype.updated_canvas_event = function() {\n",
       "    // Called whenever the canvas gets updated.\n",
       "    this.send_message(\"ack\", {});\n",
       "}\n",
       "\n",
       "// A function to construct a web socket function for onmessage handling.\n",
       "// Called in the figure constructor.\n",
       "mpl.figure.prototype._make_on_message_function = function(fig) {\n",
       "    return function socket_on_message(evt) {\n",
       "        if (evt.data instanceof Blob) {\n",
       "            /* FIXME: We get \"Resource interpreted as Image but\n",
       "             * transferred with MIME type text/plain:\" errors on\n",
       "             * Chrome.  But how to set the MIME type?  It doesn't seem\n",
       "             * to be part of the websocket stream */\n",
       "            evt.data.type = \"image/png\";\n",
       "\n",
       "            /* Free the memory for the previous frames */\n",
       "            if (fig.imageObj.src) {\n",
       "                (window.URL || window.webkitURL).revokeObjectURL(\n",
       "                    fig.imageObj.src);\n",
       "            }\n",
       "\n",
       "            fig.imageObj.src = (window.URL || window.webkitURL).createObjectURL(\n",
       "                evt.data);\n",
       "            fig.updated_canvas_event();\n",
       "            fig.waiting = false;\n",
       "            return;\n",
       "        }\n",
       "        else if (typeof evt.data === 'string' && evt.data.slice(0, 21) == \"data:image/png;base64\") {\n",
       "            fig.imageObj.src = evt.data;\n",
       "            fig.updated_canvas_event();\n",
       "            fig.waiting = false;\n",
       "            return;\n",
       "        }\n",
       "\n",
       "        var msg = JSON.parse(evt.data);\n",
       "        var msg_type = msg['type'];\n",
       "\n",
       "        // Call the  \"handle_{type}\" callback, which takes\n",
       "        // the figure and JSON message as its only arguments.\n",
       "        try {\n",
       "            var callback = fig[\"handle_\" + msg_type];\n",
       "        } catch (e) {\n",
       "            console.log(\"No handler for the '\" + msg_type + \"' message type: \", msg);\n",
       "            return;\n",
       "        }\n",
       "\n",
       "        if (callback) {\n",
       "            try {\n",
       "                // console.log(\"Handling '\" + msg_type + \"' message: \", msg);\n",
       "                callback(fig, msg);\n",
       "            } catch (e) {\n",
       "                console.log(\"Exception inside the 'handler_\" + msg_type + \"' callback:\", e, e.stack, msg);\n",
       "            }\n",
       "        }\n",
       "    };\n",
       "}\n",
       "\n",
       "// from http://stackoverflow.com/questions/1114465/getting-mouse-location-in-canvas\n",
       "mpl.findpos = function(e) {\n",
       "    //this section is from http://www.quirksmode.org/js/events_properties.html\n",
       "    var targ;\n",
       "    if (!e)\n",
       "        e = window.event;\n",
       "    if (e.target)\n",
       "        targ = e.target;\n",
       "    else if (e.srcElement)\n",
       "        targ = e.srcElement;\n",
       "    if (targ.nodeType == 3) // defeat Safari bug\n",
       "        targ = targ.parentNode;\n",
       "\n",
       "    // jQuery normalizes the pageX and pageY\n",
       "    // pageX,Y are the mouse positions relative to the document\n",
       "    // offset() returns the position of the element relative to the document\n",
       "    var x = e.pageX - $(targ).offset().left;\n",
       "    var y = e.pageY - $(targ).offset().top;\n",
       "\n",
       "    return {\"x\": x, \"y\": y};\n",
       "};\n",
       "\n",
       "/*\n",
       " * return a copy of an object with only non-object keys\n",
       " * we need this to avoid circular references\n",
       " * http://stackoverflow.com/a/24161582/3208463\n",
       " */\n",
       "function simpleKeys (original) {\n",
       "  return Object.keys(original).reduce(function (obj, key) {\n",
       "    if (typeof original[key] !== 'object')\n",
       "        obj[key] = original[key]\n",
       "    return obj;\n",
       "  }, {});\n",
       "}\n",
       "\n",
       "mpl.figure.prototype.mouse_event = function(event, name) {\n",
       "    var canvas_pos = mpl.findpos(event)\n",
       "\n",
       "    if (name === 'button_press')\n",
       "    {\n",
       "        this.canvas.focus();\n",
       "        this.canvas_div.focus();\n",
       "    }\n",
       "\n",
       "    var x = canvas_pos.x * mpl.ratio;\n",
       "    var y = canvas_pos.y * mpl.ratio;\n",
       "\n",
       "    this.send_message(name, {x: x, y: y, button: event.button,\n",
       "                             step: event.step,\n",
       "                             guiEvent: simpleKeys(event)});\n",
       "\n",
       "    /* This prevents the web browser from automatically changing to\n",
       "     * the text insertion cursor when the button is pressed.  We want\n",
       "     * to control all of the cursor setting manually through the\n",
       "     * 'cursor' event from matplotlib */\n",
       "    event.preventDefault();\n",
       "    return false;\n",
       "}\n",
       "\n",
       "mpl.figure.prototype._key_event_extra = function(event, name) {\n",
       "    // Handle any extra behaviour associated with a key event\n",
       "}\n",
       "\n",
       "mpl.figure.prototype.key_event = function(event, name) {\n",
       "\n",
       "    // Prevent repeat events\n",
       "    if (name == 'key_press')\n",
       "    {\n",
       "        if (event.which === this._key)\n",
       "            return;\n",
       "        else\n",
       "            this._key = event.which;\n",
       "    }\n",
       "    if (name == 'key_release')\n",
       "        this._key = null;\n",
       "\n",
       "    var value = '';\n",
       "    if (event.ctrlKey && event.which != 17)\n",
       "        value += \"ctrl+\";\n",
       "    if (event.altKey && event.which != 18)\n",
       "        value += \"alt+\";\n",
       "    if (event.shiftKey && event.which != 16)\n",
       "        value += \"shift+\";\n",
       "\n",
       "    value += 'k';\n",
       "    value += event.which.toString();\n",
       "\n",
       "    this._key_event_extra(event, name);\n",
       "\n",
       "    this.send_message(name, {key: value,\n",
       "                             guiEvent: simpleKeys(event)});\n",
       "    return false;\n",
       "}\n",
       "\n",
       "mpl.figure.prototype.toolbar_button_onclick = function(name) {\n",
       "    if (name == 'download') {\n",
       "        this.handle_save(this, null);\n",
       "    } else {\n",
       "        this.send_message(\"toolbar_button\", {name: name});\n",
       "    }\n",
       "};\n",
       "\n",
       "mpl.figure.prototype.toolbar_button_onmouseover = function(tooltip) {\n",
       "    this.message.textContent = tooltip;\n",
       "};\n",
       "mpl.toolbar_items = [[\"Home\", \"Reset original view\", \"fa fa-home icon-home\", \"home\"], [\"Back\", \"Back to previous view\", \"fa fa-arrow-left icon-arrow-left\", \"back\"], [\"Forward\", \"Forward to next view\", \"fa fa-arrow-right icon-arrow-right\", \"forward\"], [\"\", \"\", \"\", \"\"], [\"Pan\", \"Pan axes with left mouse, zoom with right\", \"fa fa-arrows icon-move\", \"pan\"], [\"Zoom\", \"Zoom to rectangle\", \"fa fa-square-o icon-check-empty\", \"zoom\"], [\"\", \"\", \"\", \"\"], [\"Download\", \"Download plot\", \"fa fa-floppy-o icon-save\", \"download\"]];\n",
       "\n",
       "mpl.extensions = [\"eps\", \"jpeg\", \"pdf\", \"png\", \"ps\", \"raw\", \"svg\", \"tif\"];\n",
       "\n",
       "mpl.default_extension = \"png\";var comm_websocket_adapter = function(comm) {\n",
       "    // Create a \"websocket\"-like object which calls the given IPython comm\n",
       "    // object with the appropriate methods. Currently this is a non binary\n",
       "    // socket, so there is still some room for performance tuning.\n",
       "    var ws = {};\n",
       "\n",
       "    ws.close = function() {\n",
       "        comm.close()\n",
       "    };\n",
       "    ws.send = function(m) {\n",
       "        //console.log('sending', m);\n",
       "        comm.send(m);\n",
       "    };\n",
       "    // Register the callback with on_msg.\n",
       "    comm.on_msg(function(msg) {\n",
       "        //console.log('receiving', msg['content']['data'], msg);\n",
       "        // Pass the mpl event to the overridden (by mpl) onmessage function.\n",
       "        ws.onmessage(msg['content']['data'])\n",
       "    });\n",
       "    return ws;\n",
       "}\n",
       "\n",
       "mpl.mpl_figure_comm = function(comm, msg) {\n",
       "    // This is the function which gets called when the mpl process\n",
       "    // starts-up an IPython Comm through the \"matplotlib\" channel.\n",
       "\n",
       "    var id = msg.content.data.id;\n",
       "    // Get hold of the div created by the display call when the Comm\n",
       "    // socket was opened in Python.\n",
       "    var element = $(\"#\" + id);\n",
       "    var ws_proxy = comm_websocket_adapter(comm)\n",
       "\n",
       "    function ondownload(figure, format) {\n",
       "        window.open(figure.imageObj.src);\n",
       "    }\n",
       "\n",
       "    var fig = new mpl.figure(id, ws_proxy,\n",
       "                           ondownload,\n",
       "                           element.get(0));\n",
       "\n",
       "    // Call onopen now - mpl needs it, as it is assuming we've passed it a real\n",
       "    // web socket which is closed, not our websocket->open comm proxy.\n",
       "    ws_proxy.onopen();\n",
       "\n",
       "    fig.parent_element = element.get(0);\n",
       "    fig.cell_info = mpl.find_output_cell(\"<div id='\" + id + \"'></div>\");\n",
       "    if (!fig.cell_info) {\n",
       "        console.error(\"Failed to find cell for figure\", id, fig);\n",
       "        return;\n",
       "    }\n",
       "\n",
       "    var output_index = fig.cell_info[2]\n",
       "    var cell = fig.cell_info[0];\n",
       "\n",
       "};\n",
       "\n",
       "mpl.figure.prototype.handle_close = function(fig, msg) {\n",
       "    var width = fig.canvas.width/mpl.ratio\n",
       "    fig.root.unbind('remove')\n",
       "\n",
       "    // Update the output cell to use the data from the current canvas.\n",
       "    fig.push_to_output();\n",
       "    var dataURL = fig.canvas.toDataURL();\n",
       "    // Re-enable the keyboard manager in IPython - without this line, in FF,\n",
       "    // the notebook keyboard shortcuts fail.\n",
       "    IPython.keyboard_manager.enable()\n",
       "    $(fig.parent_element).html('<img src=\"' + dataURL + '\" width=\"' + width + '\">');\n",
       "    fig.close_ws(fig, msg);\n",
       "}\n",
       "\n",
       "mpl.figure.prototype.close_ws = function(fig, msg){\n",
       "    fig.send_message('closing', msg);\n",
       "    // fig.ws.close()\n",
       "}\n",
       "\n",
       "mpl.figure.prototype.push_to_output = function(remove_interactive) {\n",
       "    // Turn the data on the canvas into data in the output cell.\n",
       "    var width = this.canvas.width/mpl.ratio\n",
       "    var dataURL = this.canvas.toDataURL();\n",
       "    this.cell_info[1]['text/html'] = '<img src=\"' + dataURL + '\" width=\"' + width + '\">';\n",
       "}\n",
       "\n",
       "mpl.figure.prototype.updated_canvas_event = function() {\n",
       "    // Tell IPython that the notebook contents must change.\n",
       "    IPython.notebook.set_dirty(true);\n",
       "    this.send_message(\"ack\", {});\n",
       "    var fig = this;\n",
       "    // Wait a second, then push the new image to the DOM so\n",
       "    // that it is saved nicely (might be nice to debounce this).\n",
       "    setTimeout(function () { fig.push_to_output() }, 1000);\n",
       "}\n",
       "\n",
       "mpl.figure.prototype._init_toolbar = function() {\n",
       "    var fig = this;\n",
       "\n",
       "    var nav_element = $('<div/>');\n",
       "    nav_element.attr('style', 'width: 100%');\n",
       "    this.root.append(nav_element);\n",
       "\n",
       "    // Define a callback function for later on.\n",
       "    function toolbar_event(event) {\n",
       "        return fig.toolbar_button_onclick(event['data']);\n",
       "    }\n",
       "    function toolbar_mouse_event(event) {\n",
       "        return fig.toolbar_button_onmouseover(event['data']);\n",
       "    }\n",
       "\n",
       "    for(var toolbar_ind in mpl.toolbar_items){\n",
       "        var name = mpl.toolbar_items[toolbar_ind][0];\n",
       "        var tooltip = mpl.toolbar_items[toolbar_ind][1];\n",
       "        var image = mpl.toolbar_items[toolbar_ind][2];\n",
       "        var method_name = mpl.toolbar_items[toolbar_ind][3];\n",
       "\n",
       "        if (!name) { continue; };\n",
       "\n",
       "        var button = $('<button class=\"btn btn-default\" href=\"#\" title=\"' + name + '\"><i class=\"fa ' + image + ' fa-lg\"></i></button>');\n",
       "        button.click(method_name, toolbar_event);\n",
       "        button.mouseover(tooltip, toolbar_mouse_event);\n",
       "        nav_element.append(button);\n",
       "    }\n",
       "\n",
       "    // Add the status bar.\n",
       "    var status_bar = $('<span class=\"mpl-message\" style=\"text-align:right; float: right;\"/>');\n",
       "    nav_element.append(status_bar);\n",
       "    this.message = status_bar[0];\n",
       "\n",
       "    // Add the close button to the window.\n",
       "    var buttongrp = $('<div class=\"btn-group inline pull-right\"></div>');\n",
       "    var button = $('<button class=\"btn btn-mini btn-primary\" href=\"#\" title=\"Stop Interaction\"><i class=\"fa fa-power-off icon-remove icon-large\"></i></button>');\n",
       "    button.click(function (evt) { fig.handle_close(fig, {}); } );\n",
       "    button.mouseover('Stop Interaction', toolbar_mouse_event);\n",
       "    buttongrp.append(button);\n",
       "    var titlebar = this.root.find($('.ui-dialog-titlebar'));\n",
       "    titlebar.prepend(buttongrp);\n",
       "}\n",
       "\n",
       "mpl.figure.prototype._root_extra_style = function(el){\n",
       "    var fig = this\n",
       "    el.on(\"remove\", function(){\n",
       "\tfig.close_ws(fig, {});\n",
       "    });\n",
       "}\n",
       "\n",
       "mpl.figure.prototype._canvas_extra_style = function(el){\n",
       "    // this is important to make the div 'focusable\n",
       "    el.attr('tabindex', 0)\n",
       "    // reach out to IPython and tell the keyboard manager to turn it's self\n",
       "    // off when our div gets focus\n",
       "\n",
       "    // location in version 3\n",
       "    if (IPython.notebook.keyboard_manager) {\n",
       "        IPython.notebook.keyboard_manager.register_events(el);\n",
       "    }\n",
       "    else {\n",
       "        // location in version 2\n",
       "        IPython.keyboard_manager.register_events(el);\n",
       "    }\n",
       "\n",
       "}\n",
       "\n",
       "mpl.figure.prototype._key_event_extra = function(event, name) {\n",
       "    var manager = IPython.notebook.keyboard_manager;\n",
       "    if (!manager)\n",
       "        manager = IPython.keyboard_manager;\n",
       "\n",
       "    // Check for shift+enter\n",
       "    if (event.shiftKey && event.which == 13) {\n",
       "        this.canvas_div.blur();\n",
       "        // select the cell after this one\n",
       "        var index = IPython.notebook.find_cell_index(this.cell_info[0]);\n",
       "        IPython.notebook.select(index + 1);\n",
       "    }\n",
       "}\n",
       "\n",
       "mpl.figure.prototype.handle_save = function(fig, msg) {\n",
       "    fig.ondownload(fig, null);\n",
       "}\n",
       "\n",
       "\n",
       "mpl.find_output_cell = function(html_output) {\n",
       "    // Return the cell and output element which can be found *uniquely* in the notebook.\n",
       "    // Note - this is a bit hacky, but it is done because the \"notebook_saving.Notebook\"\n",
       "    // IPython event is triggered only after the cells have been serialised, which for\n",
       "    // our purposes (turning an active figure into a static one), is too late.\n",
       "    var cells = IPython.notebook.get_cells();\n",
       "    var ncells = cells.length;\n",
       "    for (var i=0; i<ncells; i++) {\n",
       "        var cell = cells[i];\n",
       "        if (cell.cell_type === 'code'){\n",
       "            for (var j=0; j<cell.output_area.outputs.length; j++) {\n",
       "                var data = cell.output_area.outputs[j];\n",
       "                if (data.data) {\n",
       "                    // IPython >= 3 moved mimebundle to data attribute of output\n",
       "                    data = data.data;\n",
       "                }\n",
       "                if (data['text/html'] == html_output) {\n",
       "                    return [cell, data, j];\n",
       "                }\n",
       "            }\n",
       "        }\n",
       "    }\n",
       "}\n",
       "\n",
       "// Register the function which deals with the matplotlib target/channel.\n",
       "// The kernel may be null if the page has been refreshed.\n",
       "if (IPython.notebook.kernel != null) {\n",
       "    IPython.notebook.kernel.comm_manager.register_target('matplotlib', mpl.mpl_figure_comm);\n",
       "}\n"
      ],
      "text/plain": [
       "<IPython.core.display.Javascript object>"
      ]
     },
     "metadata": {},
     "output_type": "display_data"
    },
    {
     "data": {
      "text/html": [
       "<img src=\"data:image/png;base64,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\" width=\"999.75\">"
      ],
      "text/plain": [
       "<IPython.core.display.HTML object>"
      ]
     },
     "metadata": {},
     "output_type": "display_data"
    }
   ],
   "source": [
    "ax, tax, lax, lines = dual_train_plots()\n",
    "fig = ax.figure\n",
    "plt.tight_layout()"
   ]
  },
  {
   "cell_type": "code",
   "execution_count": 15,
   "metadata": {
    "scrolled": false
   },
   "outputs": [
    {
     "name": "stdout",
     "output_type": "stream",
     "text": [
      "Number of batches: train = 1125, val = 125\n"
     ]
    },
    {
     "data": {
      "application/vnd.jupyter.widget-view+json": {
       "model_id": "618b6c270325413da17eda5820382720",
       "version_major": 2,
       "version_minor": 0
      },
      "text/plain": [
       "HBox(children=(FloatProgress(value=0.0, description='Epochs', layout=Layout(flex='2'), max=300.0, style=Progre…"
      ]
     },
     "metadata": {},
     "output_type": "display_data"
    },
    {
     "data": {
      "application/vnd.jupyter.widget-view+json": {
       "model_id": "",
       "version_major": 2,
       "version_minor": 0
      },
      "text/plain": [
       "HBox(children=(FloatProgress(value=0.0, description='Training', layout=Layout(flex='2'), max=1125.0, style=Pro…"
      ]
     },
     "metadata": {},
     "output_type": "display_data"
    },
    {
     "name": "stdout",
     "output_type": "stream",
     "text": [
      "Epoch 0: train=2.28087, val=2.22606, took 44.292 s\n",
      "  Validation Found 8938 of 10819, added 1011 (eff 82.61%) (0.505 FP/event)\n"
     ]
    },
    {
     "data": {
      "application/vnd.jupyter.widget-view+json": {
       "model_id": "",
       "version_major": 2,
       "version_minor": 0
      },
      "text/plain": [
       "HBox(children=(FloatProgress(value=0.0, description='Training', layout=Layout(flex='2'), max=1125.0, style=Pro…"
      ]
     },
     "metadata": {},
     "output_type": "display_data"
    },
    {
     "name": "stdout",
     "output_type": "stream",
     "text": [
      "Epoch 1: train=2.28155, val=2.22651, took 43.379 s\n",
      "  Validation Found 8919 of 10819, added 1012 (eff 82.44%) (0.506 FP/event)\n"
     ]
    },
    {
     "data": {
      "application/vnd.jupyter.widget-view+json": {
       "model_id": "",
       "version_major": 2,
       "version_minor": 0
      },
      "text/plain": [
       "HBox(children=(FloatProgress(value=0.0, description='Training', layout=Layout(flex='2'), max=1125.0, style=Pro…"
      ]
     },
     "metadata": {},
     "output_type": "display_data"
    },
    {
     "name": "stdout",
     "output_type": "stream",
     "text": [
      "Epoch 2: train=2.27386, val=2.23174, took 43.752 s\n",
      "  Validation Found 8934 of 10819, added 1005 (eff 82.58%) (0.502 FP/event)\n"
     ]
    },
    {
     "data": {
      "application/vnd.jupyter.widget-view+json": {
       "model_id": "",
       "version_major": 2,
       "version_minor": 0
      },
      "text/plain": [
       "HBox(children=(FloatProgress(value=0.0, description='Training', layout=Layout(flex='2'), max=1125.0, style=Pro…"
      ]
     },
     "metadata": {},
     "output_type": "display_data"
    },
    {
     "name": "stdout",
     "output_type": "stream",
     "text": [
      "Epoch 3: train=2.27701, val=2.22635, took 44.045 s\n",
      "  Validation Found 8930 of 10819, added 1009 (eff 82.54%) (0.504 FP/event)\n"
     ]
    },
    {
     "data": {
      "application/vnd.jupyter.widget-view+json": {
       "model_id": "",
       "version_major": 2,
       "version_minor": 0
      },
      "text/plain": [
       "HBox(children=(FloatProgress(value=0.0, description='Training', layout=Layout(flex='2'), max=1125.0, style=Pro…"
      ]
     },
     "metadata": {},
     "output_type": "display_data"
    },
    {
     "name": "stdout",
     "output_type": "stream",
     "text": [
      "Epoch 4: train=2.278, val=2.22765, took 44.093 s\n",
      "  Validation Found 8934 of 10819, added 1007 (eff 82.58%) (0.503 FP/event)\n"
     ]
    },
    {
     "data": {
      "application/vnd.jupyter.widget-view+json": {
       "model_id": "",
       "version_major": 2,
       "version_minor": 0
      },
      "text/plain": [
       "HBox(children=(FloatProgress(value=0.0, description='Training', layout=Layout(flex='2'), max=1125.0, style=Pro…"
      ]
     },
     "metadata": {},
     "output_type": "display_data"
    },
    {
     "name": "stdout",
     "output_type": "stream",
     "text": [
      "Epoch 5: train=2.27615, val=2.22661, took 44.153 s\n",
      "  Validation Found 8931 of 10819, added 1011 (eff 82.55%) (0.505 FP/event)\n"
     ]
    },
    {
     "data": {
      "application/vnd.jupyter.widget-view+json": {
       "model_id": "",
       "version_major": 2,
       "version_minor": 0
      },
      "text/plain": [
       "HBox(children=(FloatProgress(value=0.0, description='Training', layout=Layout(flex='2'), max=1125.0, style=Pro…"
      ]
     },
     "metadata": {},
     "output_type": "display_data"
    },
    {
     "name": "stdout",
     "output_type": "stream",
     "text": [
      "Epoch 6: train=2.27966, val=2.22501, took 44.059 s\n",
      "  Validation Found 8930 of 10819, added 1015 (eff 82.54%) (0.507 FP/event)\n"
     ]
    },
    {
     "data": {
      "application/vnd.jupyter.widget-view+json": {
       "model_id": "",
       "version_major": 2,
       "version_minor": 0
      },
      "text/plain": [
       "HBox(children=(FloatProgress(value=0.0, description='Training', layout=Layout(flex='2'), max=1125.0, style=Pro…"
      ]
     },
     "metadata": {},
     "output_type": "display_data"
    },
    {
     "name": "stdout",
     "output_type": "stream",
     "text": [
      "Epoch 7: train=2.27604, val=2.22377, took 44.225 s\n",
      "  Validation Found 8938 of 10819, added 1014 (eff 82.61%) (0.507 FP/event)\n"
     ]
    },
    {
     "data": {
      "application/vnd.jupyter.widget-view+json": {
       "model_id": "",
       "version_major": 2,
       "version_minor": 0
      },
      "text/plain": [
       "HBox(children=(FloatProgress(value=0.0, description='Training', layout=Layout(flex='2'), max=1125.0, style=Pro…"
      ]
     },
     "metadata": {},
     "output_type": "display_data"
    },
    {
     "name": "stdout",
     "output_type": "stream",
     "text": [
      "Epoch 8: train=2.27879, val=2.22273, took 44.178 s\n",
      "  Validation Found 8939 of 10819, added 1008 (eff 82.62%) (0.504 FP/event)\n"
     ]
    },
    {
     "data": {
      "application/vnd.jupyter.widget-view+json": {
       "model_id": "",
       "version_major": 2,
       "version_minor": 0
      },
      "text/plain": [
       "HBox(children=(FloatProgress(value=0.0, description='Training', layout=Layout(flex='2'), max=1125.0, style=Pro…"
      ]
     },
     "metadata": {},
     "output_type": "display_data"
    },
    {
     "name": "stdout",
     "output_type": "stream",
     "text": [
      "Epoch 9: train=2.27554, val=2.22393, took 44.201 s\n",
      "  Validation Found 8935 of 10819, added 1019 (eff 82.59%) (0.509 FP/event)\n"
     ]
    },
    {
     "data": {
      "application/vnd.jupyter.widget-view+json": {
       "model_id": "",
       "version_major": 2,
       "version_minor": 0
      },
      "text/plain": [
       "HBox(children=(FloatProgress(value=0.0, description='Training', layout=Layout(flex='2'), max=1125.0, style=Pro…"
      ]
     },
     "metadata": {},
     "output_type": "display_data"
    },
    {
     "name": "stdout",
     "output_type": "stream",
     "text": [
      "Epoch 10: train=2.27532, val=2.22338, took 44.158 s\n",
      "  Validation Found 8933 of 10819, added 1025 (eff 82.57%) (0.512 FP/event)\n"
     ]
    },
    {
     "data": {
      "application/vnd.jupyter.widget-view+json": {
       "model_id": "",
       "version_major": 2,
       "version_minor": 0
      },
      "text/plain": [
       "HBox(children=(FloatProgress(value=0.0, description='Training', layout=Layout(flex='2'), max=1125.0, style=Pro…"
      ]
     },
     "metadata": {},
     "output_type": "display_data"
    },
    {
     "name": "stdout",
     "output_type": "stream",
     "text": [
      "Epoch 11: train=2.27418, val=2.2216, took 44.026 s\n",
      "  Validation Found 8944 of 10819, added 1018 (eff 82.67%) (0.509 FP/event)\n"
     ]
    },
    {
     "data": {
      "application/vnd.jupyter.widget-view+json": {
       "model_id": "",
       "version_major": 2,
       "version_minor": 0
      },
      "text/plain": [
       "HBox(children=(FloatProgress(value=0.0, description='Training', layout=Layout(flex='2'), max=1125.0, style=Pro…"
      ]
     },
     "metadata": {},
     "output_type": "display_data"
    },
    {
     "name": "stdout",
     "output_type": "stream",
     "text": [
      "Epoch 12: train=2.27681, val=2.22129, took 44.163 s\n",
      "  Validation Found 8949 of 10819, added 1030 (eff 82.72%) (0.515 FP/event)\n"
     ]
    },
    {
     "data": {
      "application/vnd.jupyter.widget-view+json": {
       "model_id": "",
       "version_major": 2,
       "version_minor": 0
      },
      "text/plain": [
       "HBox(children=(FloatProgress(value=0.0, description='Training', layout=Layout(flex='2'), max=1125.0, style=Pro…"
      ]
     },
     "metadata": {},
     "output_type": "display_data"
    },
    {
     "name": "stdout",
     "output_type": "stream",
     "text": [
      "Epoch 13: train=2.27335, val=2.22117, took 44.155 s\n",
      "  Validation Found 8943 of 10819, added 1015 (eff 82.66%) (0.507 FP/event)\n"
     ]
    },
    {
     "data": {
      "application/vnd.jupyter.widget-view+json": {
       "model_id": "",
       "version_major": 2,
       "version_minor": 0
      },
      "text/plain": [
       "HBox(children=(FloatProgress(value=0.0, description='Training', layout=Layout(flex='2'), max=1125.0, style=Pro…"
      ]
     },
     "metadata": {},
     "output_type": "display_data"
    },
    {
     "name": "stdout",
     "output_type": "stream",
     "text": [
      "Epoch 14: train=2.27358, val=2.21971, took 44.143 s\n",
      "  Validation Found 8950 of 10819, added 1022 (eff 82.72%) (0.511 FP/event)\n"
     ]
    },
    {
     "data": {
      "application/vnd.jupyter.widget-view+json": {
       "model_id": "",
       "version_major": 2,
       "version_minor": 0
      },
      "text/plain": [
       "HBox(children=(FloatProgress(value=0.0, description='Training', layout=Layout(flex='2'), max=1125.0, style=Pro…"
      ]
     },
     "metadata": {},
     "output_type": "display_data"
    },
    {
     "name": "stdout",
     "output_type": "stream",
     "text": [
      "Epoch 15: train=2.2722, val=2.21955, took 44.155 s\n",
      "  Validation Found 8934 of 10819, added 1024 (eff 82.58%) (0.512 FP/event)\n"
     ]
    },
    {
     "data": {
      "application/vnd.jupyter.widget-view+json": {
       "model_id": "",
       "version_major": 2,
       "version_minor": 0
      },
      "text/plain": [
       "HBox(children=(FloatProgress(value=0.0, description='Training', layout=Layout(flex='2'), max=1125.0, style=Pro…"
      ]
     },
     "metadata": {},
     "output_type": "display_data"
    },
    {
     "name": "stdout",
     "output_type": "stream",
     "text": [
      "Epoch 16: train=2.27526, val=2.22072, took 44.101 s\n",
      "  Validation Found 8937 of 10819, added 1019 (eff 82.60%) (0.509 FP/event)\n"
     ]
    },
    {
     "data": {
      "application/vnd.jupyter.widget-view+json": {
       "model_id": "",
       "version_major": 2,
       "version_minor": 0
      },
      "text/plain": [
       "HBox(children=(FloatProgress(value=0.0, description='Training', layout=Layout(flex='2'), max=1125.0, style=Pro…"
      ]
     },
     "metadata": {},
     "output_type": "display_data"
    },
    {
     "name": "stdout",
     "output_type": "stream",
     "text": [
      "Epoch 17: train=2.27411, val=2.21806, took 44.144 s\n",
      "  Validation Found 8942 of 10819, added 1025 (eff 82.65%) (0.512 FP/event)\n"
     ]
    },
    {
     "data": {
      "application/vnd.jupyter.widget-view+json": {
       "model_id": "",
       "version_major": 2,
       "version_minor": 0
      },
      "text/plain": [
       "HBox(children=(FloatProgress(value=0.0, description='Training', layout=Layout(flex='2'), max=1125.0, style=Pro…"
      ]
     },
     "metadata": {},
     "output_type": "display_data"
    },
    {
     "name": "stdout",
     "output_type": "stream",
     "text": [
      "Epoch 18: train=2.26845, val=2.21735, took 43.601 s\n",
      "  Validation Found 8936 of 10819, added 1021 (eff 82.60%) (0.51 FP/event)\n"
     ]
    },
    {
     "data": {
      "application/vnd.jupyter.widget-view+json": {
       "model_id": "",
       "version_major": 2,
       "version_minor": 0
      },
      "text/plain": [
       "HBox(children=(FloatProgress(value=0.0, description='Training', layout=Layout(flex='2'), max=1125.0, style=Pro…"
      ]
     },
     "metadata": {},
     "output_type": "display_data"
    },
    {
     "name": "stdout",
     "output_type": "stream",
     "text": [
      "Epoch 19: train=2.2678, val=2.21724, took 44.034 s\n",
      "  Validation Found 8938 of 10819, added 1021 (eff 82.61%) (0.51 FP/event)\n"
     ]
    },
    {
     "data": {
      "application/vnd.jupyter.widget-view+json": {
       "model_id": "",
       "version_major": 2,
       "version_minor": 0
      },
      "text/plain": [
       "HBox(children=(FloatProgress(value=0.0, description='Training', layout=Layout(flex='2'), max=1125.0, style=Pro…"
      ]
     },
     "metadata": {},
     "output_type": "display_data"
    },
    {
     "name": "stdout",
     "output_type": "stream",
     "text": [
      "Epoch 20: train=2.26717, val=2.21709, took 43.831 s\n",
      "  Validation Found 8936 of 10819, added 1025 (eff 82.60%) (0.512 FP/event)\n"
     ]
    },
    {
     "data": {
      "application/vnd.jupyter.widget-view+json": {
       "model_id": "",
       "version_major": 2,
       "version_minor": 0
      },
      "text/plain": [
       "HBox(children=(FloatProgress(value=0.0, description='Training', layout=Layout(flex='2'), max=1125.0, style=Pro…"
      ]
     },
     "metadata": {},
     "output_type": "display_data"
    },
    {
     "name": "stdout",
     "output_type": "stream",
     "text": [
      "Epoch 21: train=2.26716, val=2.21688, took 43.757 s\n",
      "  Validation Found 8946 of 10819, added 1023 (eff 82.69%) (0.511 FP/event)\n"
     ]
    },
    {
     "data": {
      "application/vnd.jupyter.widget-view+json": {
       "model_id": "",
       "version_major": 2,
       "version_minor": 0
      },
      "text/plain": [
       "HBox(children=(FloatProgress(value=0.0, description='Training', layout=Layout(flex='2'), max=1125.0, style=Pro…"
      ]
     },
     "metadata": {},
     "output_type": "display_data"
    },
    {
     "name": "stdout",
     "output_type": "stream",
     "text": [
      "Epoch 22: train=2.27696, val=2.21805, took 43.743 s\n",
      "  Validation Found 8955 of 10819, added 1020 (eff 82.77%) (0.51 FP/event)\n"
     ]
    },
    {
     "data": {
      "application/vnd.jupyter.widget-view+json": {
       "model_id": "",
       "version_major": 2,
       "version_minor": 0
      },
      "text/plain": [
       "HBox(children=(FloatProgress(value=0.0, description='Training', layout=Layout(flex='2'), max=1125.0, style=Pro…"
      ]
     },
     "metadata": {},
     "output_type": "display_data"
    },
    {
     "name": "stdout",
     "output_type": "stream",
     "text": [
      "Epoch 23: train=2.26832, val=2.21731, took 43.833 s\n",
      "  Validation Found 8943 of 10819, added 1020 (eff 82.66%) (0.51 FP/event)\n"
     ]
    },
    {
     "data": {
      "application/vnd.jupyter.widget-view+json": {
       "model_id": "",
       "version_major": 2,
       "version_minor": 0
      },
      "text/plain": [
       "HBox(children=(FloatProgress(value=0.0, description='Training', layout=Layout(flex='2'), max=1125.0, style=Pro…"
      ]
     },
     "metadata": {},
     "output_type": "display_data"
    },
    {
     "name": "stdout",
     "output_type": "stream",
     "text": [
      "Epoch 24: train=2.26847, val=2.21597, took 43.872 s\n",
      "  Validation Found 8952 of 10819, added 1021 (eff 82.74%) (0.51 FP/event)\n"
     ]
    },
    {
     "data": {
      "application/vnd.jupyter.widget-view+json": {
       "model_id": "",
       "version_major": 2,
       "version_minor": 0
      },
      "text/plain": [
       "HBox(children=(FloatProgress(value=0.0, description='Training', layout=Layout(flex='2'), max=1125.0, style=Pro…"
      ]
     },
     "metadata": {},
     "output_type": "display_data"
    },
    {
     "name": "stdout",
     "output_type": "stream",
     "text": [
      "Epoch 25: train=2.27398, val=2.21527, took 43.764 s\n",
      "  Validation Found 8948 of 10819, added 1019 (eff 82.71%) (0.509 FP/event)\n"
     ]
    },
    {
     "data": {
      "application/vnd.jupyter.widget-view+json": {
       "model_id": "",
       "version_major": 2,
       "version_minor": 0
      },
      "text/plain": [
       "HBox(children=(FloatProgress(value=0.0, description='Training', layout=Layout(flex='2'), max=1125.0, style=Pro…"
      ]
     },
     "metadata": {},
     "output_type": "display_data"
    },
    {
     "name": "stdout",
     "output_type": "stream",
     "text": [
      "Epoch 26: train=2.26639, val=2.21449, took 43.794 s\n",
      "  Validation Found 8943 of 10819, added 1016 (eff 82.66%) (0.508 FP/event)\n"
     ]
    },
    {
     "data": {
      "application/vnd.jupyter.widget-view+json": {
       "model_id": "",
       "version_major": 2,
       "version_minor": 0
      },
      "text/plain": [
       "HBox(children=(FloatProgress(value=0.0, description='Training', layout=Layout(flex='2'), max=1125.0, style=Pro…"
      ]
     },
     "metadata": {},
     "output_type": "display_data"
    },
    {
     "name": "stdout",
     "output_type": "stream",
     "text": [
      "Epoch 27: train=2.27225, val=2.21557, took 43.835 s\n",
      "  Validation Found 8952 of 10819, added 1019 (eff 82.74%) (0.509 FP/event)\n"
     ]
    },
    {
     "data": {
      "application/vnd.jupyter.widget-view+json": {
       "model_id": "",
       "version_major": 2,
       "version_minor": 0
      },
      "text/plain": [
       "HBox(children=(FloatProgress(value=0.0, description='Training', layout=Layout(flex='2'), max=1125.0, style=Pro…"
      ]
     },
     "metadata": {},
     "output_type": "display_data"
    },
    {
     "name": "stdout",
     "output_type": "stream",
     "text": [
      "Epoch 28: train=2.26534, val=2.21474, took 43.57 s\n",
      "  Validation Found 8949 of 10819, added 1028 (eff 82.72%) (0.514 FP/event)\n"
     ]
    },
    {
     "data": {
      "application/vnd.jupyter.widget-view+json": {
       "model_id": "",
       "version_major": 2,
       "version_minor": 0
      },
      "text/plain": [
       "HBox(children=(FloatProgress(value=0.0, description='Training', layout=Layout(flex='2'), max=1125.0, style=Pro…"
      ]
     },
     "metadata": {},
     "output_type": "display_data"
    },
    {
     "name": "stdout",
     "output_type": "stream",
     "text": [
      "Epoch 29: train=2.26491, val=2.21433, took 43.933 s\n",
      "  Validation Found 8950 of 10819, added 1020 (eff 82.72%) (0.51 FP/event)\n"
     ]
    },
    {
     "data": {
      "application/vnd.jupyter.widget-view+json": {
       "model_id": "",
       "version_major": 2,
       "version_minor": 0
      },
      "text/plain": [
       "HBox(children=(FloatProgress(value=0.0, description='Training', layout=Layout(flex='2'), max=1125.0, style=Pro…"
      ]
     },
     "metadata": {},
     "output_type": "display_data"
    },
    {
     "name": "stdout",
     "output_type": "stream",
     "text": [
      "Epoch 30: train=2.27072, val=2.21328, took 43.935 s\n",
      "  Validation Found 8952 of 10819, added 1014 (eff 82.74%) (0.507 FP/event)\n"
     ]
    },
    {
     "data": {
      "application/vnd.jupyter.widget-view+json": {
       "model_id": "",
       "version_major": 2,
       "version_minor": 0
      },
      "text/plain": [
       "HBox(children=(FloatProgress(value=0.0, description='Training', layout=Layout(flex='2'), max=1125.0, style=Pro…"
      ]
     },
     "metadata": {},
     "output_type": "display_data"
    },
    {
     "name": "stdout",
     "output_type": "stream",
     "text": [
      "Epoch 31: train=2.26942, val=2.21332, took 43.754 s\n",
      "  Validation Found 8954 of 10819, added 1023 (eff 82.76%) (0.511 FP/event)\n"
     ]
    },
    {
     "data": {
      "application/vnd.jupyter.widget-view+json": {
       "model_id": "",
       "version_major": 2,
       "version_minor": 0
      },
      "text/plain": [
       "HBox(children=(FloatProgress(value=0.0, description='Training', layout=Layout(flex='2'), max=1125.0, style=Pro…"
      ]
     },
     "metadata": {},
     "output_type": "display_data"
    },
    {
     "name": "stdout",
     "output_type": "stream",
     "text": [
      "Epoch 32: train=2.26336, val=2.21251, took 44.055 s\n",
      "  Validation Found 8950 of 10819, added 1028 (eff 82.72%) (0.514 FP/event)\n"
     ]
    },
    {
     "data": {
      "application/vnd.jupyter.widget-view+json": {
       "model_id": "",
       "version_major": 2,
       "version_minor": 0
      },
      "text/plain": [
       "HBox(children=(FloatProgress(value=0.0, description='Training', layout=Layout(flex='2'), max=1125.0, style=Pro…"
      ]
     },
     "metadata": {},
     "output_type": "display_data"
    },
    {
     "name": "stdout",
     "output_type": "stream",
     "text": [
      "Epoch 33: train=2.26941, val=2.21358, took 43.656 s\n",
      "  Validation Found 8943 of 10819, added 1025 (eff 82.66%) (0.512 FP/event)\n"
     ]
    },
    {
     "data": {
      "application/vnd.jupyter.widget-view+json": {
       "model_id": "",
       "version_major": 2,
       "version_minor": 0
      },
      "text/plain": [
       "HBox(children=(FloatProgress(value=0.0, description='Training', layout=Layout(flex='2'), max=1125.0, style=Pro…"
      ]
     },
     "metadata": {},
     "output_type": "display_data"
    },
    {
     "name": "stdout",
     "output_type": "stream",
     "text": [
      "Epoch 34: train=2.26412, val=2.21393, took 44.028 s\n",
      "  Validation Found 8947 of 10819, added 1013 (eff 82.70%) (0.506 FP/event)\n"
     ]
    },
    {
     "data": {
      "application/vnd.jupyter.widget-view+json": {
       "model_id": "",
       "version_major": 2,
       "version_minor": 0
      },
      "text/plain": [
       "HBox(children=(FloatProgress(value=0.0, description='Training', layout=Layout(flex='2'), max=1125.0, style=Pro…"
      ]
     },
     "metadata": {},
     "output_type": "display_data"
    },
    {
     "name": "stdout",
     "output_type": "stream",
     "text": [
      "Epoch 35: train=2.26799, val=2.21372, took 44.041 s\n",
      "  Validation Found 8947 of 10819, added 1020 (eff 82.70%) (0.51 FP/event)\n"
     ]
    },
    {
     "data": {
      "application/vnd.jupyter.widget-view+json": {
       "model_id": "",
       "version_major": 2,
       "version_minor": 0
      },
      "text/plain": [
       "HBox(children=(FloatProgress(value=0.0, description='Training', layout=Layout(flex='2'), max=1125.0, style=Pro…"
      ]
     },
     "metadata": {},
     "output_type": "display_data"
    },
    {
     "name": "stdout",
     "output_type": "stream",
     "text": [
      "Epoch 36: train=2.26539, val=2.21161, took 44.154 s\n",
      "  Validation Found 8951 of 10819, added 1021 (eff 82.73%) (0.51 FP/event)\n"
     ]
    },
    {
     "data": {
      "application/vnd.jupyter.widget-view+json": {
       "model_id": "",
       "version_major": 2,
       "version_minor": 0
      },
      "text/plain": [
       "HBox(children=(FloatProgress(value=0.0, description='Training', layout=Layout(flex='2'), max=1125.0, style=Pro…"
      ]
     },
     "metadata": {},
     "output_type": "display_data"
    },
    {
     "name": "stdout",
     "output_type": "stream",
     "text": [
      "Epoch 37: train=2.26765, val=2.21066, took 43.981 s\n",
      "  Validation Found 8943 of 10819, added 1025 (eff 82.66%) (0.512 FP/event)\n"
     ]
    },
    {
     "data": {
      "application/vnd.jupyter.widget-view+json": {
       "model_id": "",
       "version_major": 2,
       "version_minor": 0
      },
      "text/plain": [
       "HBox(children=(FloatProgress(value=0.0, description='Training', layout=Layout(flex='2'), max=1125.0, style=Pro…"
      ]
     },
     "metadata": {},
     "output_type": "display_data"
    },
    {
     "name": "stdout",
     "output_type": "stream",
     "text": [
      "Epoch 38: train=2.26623, val=2.21125, took 43.807 s\n",
      "  Validation Found 8954 of 10819, added 1025 (eff 82.76%) (0.512 FP/event)\n"
     ]
    },
    {
     "data": {
      "application/vnd.jupyter.widget-view+json": {
       "model_id": "",
       "version_major": 2,
       "version_minor": 0
      },
      "text/plain": [
       "HBox(children=(FloatProgress(value=0.0, description='Training', layout=Layout(flex='2'), max=1125.0, style=Pro…"
      ]
     },
     "metadata": {},
     "output_type": "display_data"
    },
    {
     "name": "stdout",
     "output_type": "stream",
     "text": [
      "Epoch 39: train=2.26363, val=2.21297, took 43.87 s\n",
      "  Validation Found 8950 of 10819, added 1026 (eff 82.72%) (0.513 FP/event)\n"
     ]
    },
    {
     "data": {
      "application/vnd.jupyter.widget-view+json": {
       "model_id": "",
       "version_major": 2,
       "version_minor": 0
      },
      "text/plain": [
       "HBox(children=(FloatProgress(value=0.0, description='Training', layout=Layout(flex='2'), max=1125.0, style=Pro…"
      ]
     },
     "metadata": {},
     "output_type": "display_data"
    },
    {
     "name": "stdout",
     "output_type": "stream",
     "text": [
      "Epoch 40: train=2.26186, val=2.21144, took 44.088 s\n",
      "  Validation Found 8956 of 10819, added 1030 (eff 82.78%) (0.515 FP/event)\n"
     ]
    },
    {
     "data": {
      "application/vnd.jupyter.widget-view+json": {
       "model_id": "",
       "version_major": 2,
       "version_minor": 0
      },
      "text/plain": [
       "HBox(children=(FloatProgress(value=0.0, description='Training', layout=Layout(flex='2'), max=1125.0, style=Pro…"
      ]
     },
     "metadata": {},
     "output_type": "display_data"
    },
    {
     "name": "stdout",
     "output_type": "stream",
     "text": [
      "Epoch 41: train=2.26325, val=2.21067, took 44.005 s\n",
      "  Validation Found 8961 of 10819, added 1028 (eff 82.83%) (0.514 FP/event)\n"
     ]
    },
    {
     "data": {
      "application/vnd.jupyter.widget-view+json": {
       "model_id": "",
       "version_major": 2,
       "version_minor": 0
      },
      "text/plain": [
       "HBox(children=(FloatProgress(value=0.0, description='Training', layout=Layout(flex='2'), max=1125.0, style=Pro…"
      ]
     },
     "metadata": {},
     "output_type": "display_data"
    },
    {
     "name": "stdout",
     "output_type": "stream",
     "text": [
      "Epoch 42: train=2.26401, val=2.21172, took 44.009 s\n",
      "  Validation Found 8944 of 10819, added 1023 (eff 82.67%) (0.511 FP/event)\n"
     ]
    },
    {
     "data": {
      "application/vnd.jupyter.widget-view+json": {
       "model_id": "",
       "version_major": 2,
       "version_minor": 0
      },
      "text/plain": [
       "HBox(children=(FloatProgress(value=0.0, description='Training', layout=Layout(flex='2'), max=1125.0, style=Pro…"
      ]
     },
     "metadata": {},
     "output_type": "display_data"
    },
    {
     "name": "stdout",
     "output_type": "stream",
     "text": [
      "Epoch 43: train=2.26478, val=2.21256, took 44.009 s\n",
      "  Validation Found 8942 of 10819, added 1025 (eff 82.65%) (0.512 FP/event)\n"
     ]
    },
    {
     "data": {
      "application/vnd.jupyter.widget-view+json": {
       "model_id": "",
       "version_major": 2,
       "version_minor": 0
      },
      "text/plain": [
       "HBox(children=(FloatProgress(value=0.0, description='Training', layout=Layout(flex='2'), max=1125.0, style=Pro…"
      ]
     },
     "metadata": {},
     "output_type": "display_data"
    },
    {
     "name": "stdout",
     "output_type": "stream",
     "text": [
      "Epoch 44: train=2.26327, val=2.20874, took 43.731 s\n",
      "  Validation Found 8951 of 10819, added 1019 (eff 82.73%) (0.509 FP/event)\n"
     ]
    },
    {
     "data": {
      "application/vnd.jupyter.widget-view+json": {
       "model_id": "",
       "version_major": 2,
       "version_minor": 0
      },
      "text/plain": [
       "HBox(children=(FloatProgress(value=0.0, description='Training', layout=Layout(flex='2'), max=1125.0, style=Pro…"
      ]
     },
     "metadata": {},
     "output_type": "display_data"
    },
    {
     "name": "stdout",
     "output_type": "stream",
     "text": [
      "Epoch 45: train=2.26102, val=2.21482, took 43.984 s\n",
      "  Validation Found 8941 of 10819, added 1021 (eff 82.64%) (0.51 FP/event)\n"
     ]
    },
    {
     "data": {
      "application/vnd.jupyter.widget-view+json": {
       "model_id": "",
       "version_major": 2,
       "version_minor": 0
      },
      "text/plain": [
       "HBox(children=(FloatProgress(value=0.0, description='Training', layout=Layout(flex='2'), max=1125.0, style=Pro…"
      ]
     },
     "metadata": {},
     "output_type": "display_data"
    },
    {
     "name": "stdout",
     "output_type": "stream",
     "text": [
      "Epoch 46: train=2.26302, val=2.2103, took 43.948 s\n",
      "  Validation Found 8949 of 10819, added 1027 (eff 82.72%) (0.513 FP/event)\n"
     ]
    },
    {
     "data": {
      "application/vnd.jupyter.widget-view+json": {
       "model_id": "",
       "version_major": 2,
       "version_minor": 0
      },
      "text/plain": [
       "HBox(children=(FloatProgress(value=0.0, description='Training', layout=Layout(flex='2'), max=1125.0, style=Pro…"
      ]
     },
     "metadata": {},
     "output_type": "display_data"
    },
    {
     "name": "stdout",
     "output_type": "stream",
     "text": [
      "Epoch 47: train=2.26525, val=2.20845, took 43.992 s\n",
      "  Validation Found 8958 of 10819, added 1015 (eff 82.80%) (0.507 FP/event)\n"
     ]
    },
    {
     "data": {
      "application/vnd.jupyter.widget-view+json": {
       "model_id": "",
       "version_major": 2,
       "version_minor": 0
      },
      "text/plain": [
       "HBox(children=(FloatProgress(value=0.0, description='Training', layout=Layout(flex='2'), max=1125.0, style=Pro…"
      ]
     },
     "metadata": {},
     "output_type": "display_data"
    },
    {
     "name": "stdout",
     "output_type": "stream",
     "text": [
      "Epoch 48: train=2.26558, val=2.20897, took 44.12 s\n",
      "  Validation Found 8964 of 10819, added 1027 (eff 82.85%) (0.513 FP/event)\n"
     ]
    },
    {
     "data": {
      "application/vnd.jupyter.widget-view+json": {
       "model_id": "",
       "version_major": 2,
       "version_minor": 0
      },
      "text/plain": [
       "HBox(children=(FloatProgress(value=0.0, description='Training', layout=Layout(flex='2'), max=1125.0, style=Pro…"
      ]
     },
     "metadata": {},
     "output_type": "display_data"
    },
    {
     "name": "stdout",
     "output_type": "stream",
     "text": [
      "Epoch 49: train=2.26159, val=2.20853, took 44.116 s\n",
      "  Validation Found 8954 of 10819, added 1020 (eff 82.76%) (0.51 FP/event)\n"
     ]
    },
    {
     "data": {
      "application/vnd.jupyter.widget-view+json": {
       "model_id": "",
       "version_major": 2,
       "version_minor": 0
      },
      "text/plain": [
       "HBox(children=(FloatProgress(value=0.0, description='Training', layout=Layout(flex='2'), max=1125.0, style=Pro…"
      ]
     },
     "metadata": {},
     "output_type": "display_data"
    },
    {
     "name": "stdout",
     "output_type": "stream",
     "text": [
      "Epoch 50: train=2.25865, val=2.21186, took 43.918 s\n",
      "  Validation Found 8969 of 10819, added 1027 (eff 82.90%) (0.513 FP/event)\n"
     ]
    },
    {
     "data": {
      "application/vnd.jupyter.widget-view+json": {
       "model_id": "",
       "version_major": 2,
       "version_minor": 0
      },
      "text/plain": [
       "HBox(children=(FloatProgress(value=0.0, description='Training', layout=Layout(flex='2'), max=1125.0, style=Pro…"
      ]
     },
     "metadata": {},
     "output_type": "display_data"
    },
    {
     "name": "stdout",
     "output_type": "stream",
     "text": [
      "Epoch 51: train=2.25987, val=2.20757, took 43.764 s\n",
      "  Validation Found 8966 of 10819, added 1017 (eff 82.87%) (0.508 FP/event)\n"
     ]
    },
    {
     "data": {
      "application/vnd.jupyter.widget-view+json": {
       "model_id": "",
       "version_major": 2,
       "version_minor": 0
      },
      "text/plain": [
       "HBox(children=(FloatProgress(value=0.0, description='Training', layout=Layout(flex='2'), max=1125.0, style=Pro…"
      ]
     },
     "metadata": {},
     "output_type": "display_data"
    },
    {
     "name": "stdout",
     "output_type": "stream",
     "text": [
      "Epoch 52: train=2.25898, val=2.20641, took 43.898 s\n",
      "  Validation Found 8964 of 10819, added 1020 (eff 82.85%) (0.51 FP/event)\n"
     ]
    },
    {
     "data": {
      "application/vnd.jupyter.widget-view+json": {
       "model_id": "",
       "version_major": 2,
       "version_minor": 0
      },
      "text/plain": [
       "HBox(children=(FloatProgress(value=0.0, description='Training', layout=Layout(flex='2'), max=1125.0, style=Pro…"
      ]
     },
     "metadata": {},
     "output_type": "display_data"
    },
    {
     "name": "stdout",
     "output_type": "stream",
     "text": [
      "Epoch 53: train=2.25551, val=2.20645, took 43.952 s\n",
      "  Validation Found 8963 of 10819, added 1025 (eff 82.84%) (0.512 FP/event)\n"
     ]
    },
    {
     "data": {
      "application/vnd.jupyter.widget-view+json": {
       "model_id": "",
       "version_major": 2,
       "version_minor": 0
      },
      "text/plain": [
       "HBox(children=(FloatProgress(value=0.0, description='Training', layout=Layout(flex='2'), max=1125.0, style=Pro…"
      ]
     },
     "metadata": {},
     "output_type": "display_data"
    },
    {
     "name": "stdout",
     "output_type": "stream",
     "text": [
      "Epoch 54: train=2.25982, val=2.20672, took 43.795 s\n",
      "  Validation Found 8960 of 10819, added 1024 (eff 82.82%) (0.512 FP/event)\n"
     ]
    },
    {
     "data": {
      "application/vnd.jupyter.widget-view+json": {
       "model_id": "",
       "version_major": 2,
       "version_minor": 0
      },
      "text/plain": [
       "HBox(children=(FloatProgress(value=0.0, description='Training', layout=Layout(flex='2'), max=1125.0, style=Pro…"
      ]
     },
     "metadata": {},
     "output_type": "display_data"
    },
    {
     "name": "stdout",
     "output_type": "stream",
     "text": [
      "Epoch 55: train=2.26066, val=2.20585, took 43.926 s\n",
      "  Validation Found 8966 of 10819, added 1026 (eff 82.87%) (0.513 FP/event)\n"
     ]
    },
    {
     "data": {
      "application/vnd.jupyter.widget-view+json": {
       "model_id": "",
       "version_major": 2,
       "version_minor": 0
      },
      "text/plain": [
       "HBox(children=(FloatProgress(value=0.0, description='Training', layout=Layout(flex='2'), max=1125.0, style=Pro…"
      ]
     },
     "metadata": {},
     "output_type": "display_data"
    },
    {
     "name": "stdout",
     "output_type": "stream",
     "text": [
      "Epoch 56: train=2.26275, val=2.20683, took 43.839 s\n",
      "  Validation Found 8948 of 10819, added 1026 (eff 82.71%) (0.513 FP/event)\n"
     ]
    },
    {
     "data": {
      "application/vnd.jupyter.widget-view+json": {
       "model_id": "",
       "version_major": 2,
       "version_minor": 0
      },
      "text/plain": [
       "HBox(children=(FloatProgress(value=0.0, description='Training', layout=Layout(flex='2'), max=1125.0, style=Pro…"
      ]
     },
     "metadata": {},
     "output_type": "display_data"
    },
    {
     "name": "stdout",
     "output_type": "stream",
     "text": [
      "Epoch 57: train=2.26082, val=2.20554, took 44.087 s\n",
      "  Validation Found 8964 of 10819, added 1016 (eff 82.85%) (0.508 FP/event)\n"
     ]
    },
    {
     "data": {
      "application/vnd.jupyter.widget-view+json": {
       "model_id": "",
       "version_major": 2,
       "version_minor": 0
      },
      "text/plain": [
       "HBox(children=(FloatProgress(value=0.0, description='Training', layout=Layout(flex='2'), max=1125.0, style=Pro…"
      ]
     },
     "metadata": {},
     "output_type": "display_data"
    },
    {
     "name": "stdout",
     "output_type": "stream",
     "text": [
      "Epoch 58: train=2.25369, val=2.20554, took 43.935 s\n",
      "  Validation Found 8965 of 10819, added 1016 (eff 82.86%) (0.508 FP/event)\n"
     ]
    },
    {
     "data": {
      "application/vnd.jupyter.widget-view+json": {
       "model_id": "",
       "version_major": 2,
       "version_minor": 0
      },
      "text/plain": [
       "HBox(children=(FloatProgress(value=0.0, description='Training', layout=Layout(flex='2'), max=1125.0, style=Pro…"
      ]
     },
     "metadata": {},
     "output_type": "display_data"
    },
    {
     "name": "stdout",
     "output_type": "stream",
     "text": [
      "Epoch 59: train=2.25758, val=2.20596, took 43.868 s\n",
      "  Validation Found 8975 of 10819, added 1014 (eff 82.96%) (0.507 FP/event)\n"
     ]
    },
    {
     "data": {
      "application/vnd.jupyter.widget-view+json": {
       "model_id": "",
       "version_major": 2,
       "version_minor": 0
      },
      "text/plain": [
       "HBox(children=(FloatProgress(value=0.0, description='Training', layout=Layout(flex='2'), max=1125.0, style=Pro…"
      ]
     },
     "metadata": {},
     "output_type": "display_data"
    },
    {
     "name": "stdout",
     "output_type": "stream",
     "text": [
      "Epoch 60: train=2.25763, val=2.20527, took 44.037 s\n",
      "  Validation Found 8969 of 10819, added 1026 (eff 82.90%) (0.513 FP/event)\n"
     ]
    },
    {
     "data": {
      "application/vnd.jupyter.widget-view+json": {
       "model_id": "",
       "version_major": 2,
       "version_minor": 0
      },
      "text/plain": [
       "HBox(children=(FloatProgress(value=0.0, description='Training', layout=Layout(flex='2'), max=1125.0, style=Pro…"
      ]
     },
     "metadata": {},
     "output_type": "display_data"
    },
    {
     "name": "stdout",
     "output_type": "stream",
     "text": [
      "Epoch 61: train=2.25511, val=2.20471, took 43.892 s\n",
      "  Validation Found 8966 of 10819, added 1017 (eff 82.87%) (0.508 FP/event)\n"
     ]
    },
    {
     "data": {
      "application/vnd.jupyter.widget-view+json": {
       "model_id": "",
       "version_major": 2,
       "version_minor": 0
      },
      "text/plain": [
       "HBox(children=(FloatProgress(value=0.0, description='Training', layout=Layout(flex='2'), max=1125.0, style=Pro…"
      ]
     },
     "metadata": {},
     "output_type": "display_data"
    },
    {
     "name": "stdout",
     "output_type": "stream",
     "text": [
      "Epoch 62: train=2.25679, val=2.20578, took 44.013 s\n",
      "  Validation Found 8959 of 10819, added 1026 (eff 82.81%) (0.513 FP/event)\n"
     ]
    },
    {
     "data": {
      "application/vnd.jupyter.widget-view+json": {
       "model_id": "",
       "version_major": 2,
       "version_minor": 0
      },
      "text/plain": [
       "HBox(children=(FloatProgress(value=0.0, description='Training', layout=Layout(flex='2'), max=1125.0, style=Pro…"
      ]
     },
     "metadata": {},
     "output_type": "display_data"
    },
    {
     "name": "stdout",
     "output_type": "stream",
     "text": [
      "Epoch 63: train=2.25727, val=2.20381, took 44.034 s\n",
      "  Validation Found 8969 of 10819, added 1024 (eff 82.90%) (0.512 FP/event)\n"
     ]
    },
    {
     "data": {
      "application/vnd.jupyter.widget-view+json": {
       "model_id": "",
       "version_major": 2,
       "version_minor": 0
      },
      "text/plain": [
       "HBox(children=(FloatProgress(value=0.0, description='Training', layout=Layout(flex='2'), max=1125.0, style=Pro…"
      ]
     },
     "metadata": {},
     "output_type": "display_data"
    },
    {
     "name": "stdout",
     "output_type": "stream",
     "text": [
      "Epoch 64: train=2.26069, val=2.20531, took 43.745 s\n",
      "  Validation Found 8965 of 10819, added 1014 (eff 82.86%) (0.507 FP/event)\n"
     ]
    },
    {
     "data": {
      "application/vnd.jupyter.widget-view+json": {
       "model_id": "",
       "version_major": 2,
       "version_minor": 0
      },
      "text/plain": [
       "HBox(children=(FloatProgress(value=0.0, description='Training', layout=Layout(flex='2'), max=1125.0, style=Pro…"
      ]
     },
     "metadata": {},
     "output_type": "display_data"
    },
    {
     "name": "stdout",
     "output_type": "stream",
     "text": [
      "Epoch 65: train=2.26057, val=2.20529, took 43.95 s\n",
      "  Validation Found 8954 of 10819, added 1016 (eff 82.76%) (0.508 FP/event)\n"
     ]
    },
    {
     "data": {
      "application/vnd.jupyter.widget-view+json": {
       "model_id": "",
       "version_major": 2,
       "version_minor": 0
      },
      "text/plain": [
       "HBox(children=(FloatProgress(value=0.0, description='Training', layout=Layout(flex='2'), max=1125.0, style=Pro…"
      ]
     },
     "metadata": {},
     "output_type": "display_data"
    },
    {
     "name": "stdout",
     "output_type": "stream",
     "text": [
      "Epoch 66: train=2.25622, val=2.20828, took 43.93 s\n",
      "  Validation Found 8961 of 10819, added 1017 (eff 82.83%) (0.508 FP/event)\n"
     ]
    },
    {
     "data": {
      "application/vnd.jupyter.widget-view+json": {
       "model_id": "",
       "version_major": 2,
       "version_minor": 0
      },
      "text/plain": [
       "HBox(children=(FloatProgress(value=0.0, description='Training', layout=Layout(flex='2'), max=1125.0, style=Pro…"
      ]
     },
     "metadata": {},
     "output_type": "display_data"
    },
    {
     "name": "stdout",
     "output_type": "stream",
     "text": [
      "Epoch 67: train=2.25963, val=2.20474, took 43.737 s\n",
      "  Validation Found 8950 of 10819, added 1021 (eff 82.72%) (0.51 FP/event)\n"
     ]
    },
    {
     "data": {
      "application/vnd.jupyter.widget-view+json": {
       "model_id": "",
       "version_major": 2,
       "version_minor": 0
      },
      "text/plain": [
       "HBox(children=(FloatProgress(value=0.0, description='Training', layout=Layout(flex='2'), max=1125.0, style=Pro…"
      ]
     },
     "metadata": {},
     "output_type": "display_data"
    },
    {
     "name": "stdout",
     "output_type": "stream",
     "text": [
      "Epoch 68: train=2.24739, val=2.20453, took 43.826 s\n",
      "  Validation Found 8959 of 10819, added 1025 (eff 82.81%) (0.512 FP/event)\n"
     ]
    },
    {
     "data": {
      "application/vnd.jupyter.widget-view+json": {
       "model_id": "",
       "version_major": 2,
       "version_minor": 0
      },
      "text/plain": [
       "HBox(children=(FloatProgress(value=0.0, description='Training', layout=Layout(flex='2'), max=1125.0, style=Pro…"
      ]
     },
     "metadata": {},
     "output_type": "display_data"
    },
    {
     "name": "stdout",
     "output_type": "stream",
     "text": [
      "Epoch 69: train=2.25173, val=2.20272, took 43.864 s\n",
      "  Validation Found 8960 of 10819, added 1020 (eff 82.82%) (0.51 FP/event)\n"
     ]
    },
    {
     "data": {
      "application/vnd.jupyter.widget-view+json": {
       "model_id": "",
       "version_major": 2,
       "version_minor": 0
      },
      "text/plain": [
       "HBox(children=(FloatProgress(value=0.0, description='Training', layout=Layout(flex='2'), max=1125.0, style=Pro…"
      ]
     },
     "metadata": {},
     "output_type": "display_data"
    },
    {
     "name": "stdout",
     "output_type": "stream",
     "text": [
      "Epoch 70: train=2.25227, val=2.2084, took 44.129 s\n",
      "  Validation Found 8962 of 10819, added 1022 (eff 82.84%) (0.511 FP/event)\n"
     ]
    },
    {
     "data": {
      "application/vnd.jupyter.widget-view+json": {
       "model_id": "",
       "version_major": 2,
       "version_minor": 0
      },
      "text/plain": [
       "HBox(children=(FloatProgress(value=0.0, description='Training', layout=Layout(flex='2'), max=1125.0, style=Pro…"
      ]
     },
     "metadata": {},
     "output_type": "display_data"
    },
    {
     "name": "stdout",
     "output_type": "stream",
     "text": [
      "Epoch 71: train=2.2579, val=2.21034, took 43.702 s\n",
      "  Validation Found 8959 of 10819, added 1019 (eff 82.81%) (0.509 FP/event)\n"
     ]
    },
    {
     "data": {
      "application/vnd.jupyter.widget-view+json": {
       "model_id": "",
       "version_major": 2,
       "version_minor": 0
      },
      "text/plain": [
       "HBox(children=(FloatProgress(value=0.0, description='Training', layout=Layout(flex='2'), max=1125.0, style=Pro…"
      ]
     },
     "metadata": {},
     "output_type": "display_data"
    },
    {
     "name": "stdout",
     "output_type": "stream",
     "text": [
      "Epoch 72: train=2.25344, val=2.20264, took 44.024 s\n",
      "  Validation Found 8961 of 10819, added 1024 (eff 82.83%) (0.512 FP/event)\n"
     ]
    },
    {
     "data": {
      "application/vnd.jupyter.widget-view+json": {
       "model_id": "",
       "version_major": 2,
       "version_minor": 0
      },
      "text/plain": [
       "HBox(children=(FloatProgress(value=0.0, description='Training', layout=Layout(flex='2'), max=1125.0, style=Pro…"
      ]
     },
     "metadata": {},
     "output_type": "display_data"
    },
    {
     "name": "stdout",
     "output_type": "stream",
     "text": [
      "Epoch 73: train=2.25386, val=2.20327, took 43.86 s\n",
      "  Validation Found 8977 of 10819, added 1028 (eff 82.97%) (0.514 FP/event)\n"
     ]
    },
    {
     "data": {
      "application/vnd.jupyter.widget-view+json": {
       "model_id": "",
       "version_major": 2,
       "version_minor": 0
      },
      "text/plain": [
       "HBox(children=(FloatProgress(value=0.0, description='Training', layout=Layout(flex='2'), max=1125.0, style=Pro…"
      ]
     },
     "metadata": {},
     "output_type": "display_data"
    },
    {
     "name": "stdout",
     "output_type": "stream",
     "text": [
      "Epoch 74: train=2.25089, val=2.20207, took 43.933 s\n",
      "  Validation Found 8972 of 10819, added 1024 (eff 82.93%) (0.512 FP/event)\n"
     ]
    },
    {
     "data": {
      "application/vnd.jupyter.widget-view+json": {
       "model_id": "",
       "version_major": 2,
       "version_minor": 0
      },
      "text/plain": [
       "HBox(children=(FloatProgress(value=0.0, description='Training', layout=Layout(flex='2'), max=1125.0, style=Pro…"
      ]
     },
     "metadata": {},
     "output_type": "display_data"
    },
    {
     "name": "stdout",
     "output_type": "stream",
     "text": [
      "Epoch 75: train=2.25235, val=2.20391, took 44.063 s\n",
      "  Validation Found 8960 of 10819, added 1021 (eff 82.82%) (0.51 FP/event)\n"
     ]
    },
    {
     "data": {
      "application/vnd.jupyter.widget-view+json": {
       "model_id": "",
       "version_major": 2,
       "version_minor": 0
      },
      "text/plain": [
       "HBox(children=(FloatProgress(value=0.0, description='Training', layout=Layout(flex='2'), max=1125.0, style=Pro…"
      ]
     },
     "metadata": {},
     "output_type": "display_data"
    },
    {
     "name": "stdout",
     "output_type": "stream",
     "text": [
      "Epoch 76: train=2.25022, val=2.20325, took 44.025 s\n",
      "  Validation Found 8978 of 10819, added 1018 (eff 82.98%) (0.509 FP/event)\n"
     ]
    },
    {
     "data": {
      "application/vnd.jupyter.widget-view+json": {
       "model_id": "",
       "version_major": 2,
       "version_minor": 0
      },
      "text/plain": [
       "HBox(children=(FloatProgress(value=0.0, description='Training', layout=Layout(flex='2'), max=1125.0, style=Pro…"
      ]
     },
     "metadata": {},
     "output_type": "display_data"
    },
    {
     "name": "stdout",
     "output_type": "stream",
     "text": [
      "Epoch 77: train=2.24974, val=2.20125, took 43.704 s\n",
      "  Validation Found 8965 of 10819, added 1028 (eff 82.86%) (0.514 FP/event)\n"
     ]
    },
    {
     "data": {
      "application/vnd.jupyter.widget-view+json": {
       "model_id": "",
       "version_major": 2,
       "version_minor": 0
      },
      "text/plain": [
       "HBox(children=(FloatProgress(value=0.0, description='Training', layout=Layout(flex='2'), max=1125.0, style=Pro…"
      ]
     },
     "metadata": {},
     "output_type": "display_data"
    },
    {
     "name": "stdout",
     "output_type": "stream",
     "text": [
      "Epoch 78: train=2.2517, val=2.20115, took 43.861 s\n",
      "  Validation Found 8968 of 10819, added 1020 (eff 82.89%) (0.51 FP/event)\n"
     ]
    },
    {
     "data": {
      "application/vnd.jupyter.widget-view+json": {
       "model_id": "",
       "version_major": 2,
       "version_minor": 0
      },
      "text/plain": [
       "HBox(children=(FloatProgress(value=0.0, description='Training', layout=Layout(flex='2'), max=1125.0, style=Pro…"
      ]
     },
     "metadata": {},
     "output_type": "display_data"
    },
    {
     "name": "stdout",
     "output_type": "stream",
     "text": [
      "Epoch 79: train=2.24791, val=2.20002, took 44.202 s\n",
      "  Validation Found 8971 of 10819, added 1028 (eff 82.92%) (0.514 FP/event)\n"
     ]
    },
    {
     "data": {
      "application/vnd.jupyter.widget-view+json": {
       "model_id": "",
       "version_major": 2,
       "version_minor": 0
      },
      "text/plain": [
       "HBox(children=(FloatProgress(value=0.0, description='Training', layout=Layout(flex='2'), max=1125.0, style=Pro…"
      ]
     },
     "metadata": {},
     "output_type": "display_data"
    },
    {
     "name": "stdout",
     "output_type": "stream",
     "text": [
      "Epoch 80: train=2.25046, val=2.19979, took 43.765 s\n",
      "  Validation Found 8971 of 10819, added 1025 (eff 82.92%) (0.512 FP/event)\n"
     ]
    },
    {
     "data": {
      "application/vnd.jupyter.widget-view+json": {
       "model_id": "",
       "version_major": 2,
       "version_minor": 0
      },
      "text/plain": [
       "HBox(children=(FloatProgress(value=0.0, description='Training', layout=Layout(flex='2'), max=1125.0, style=Pro…"
      ]
     },
     "metadata": {},
     "output_type": "display_data"
    },
    {
     "name": "stdout",
     "output_type": "stream",
     "text": [
      "Epoch 81: train=2.24967, val=2.20091, took 43.874 s\n",
      "  Validation Found 8970 of 10819, added 1023 (eff 82.91%) (0.511 FP/event)\n"
     ]
    },
    {
     "data": {
      "application/vnd.jupyter.widget-view+json": {
       "model_id": "",
       "version_major": 2,
       "version_minor": 0
      },
      "text/plain": [
       "HBox(children=(FloatProgress(value=0.0, description='Training', layout=Layout(flex='2'), max=1125.0, style=Pro…"
      ]
     },
     "metadata": {},
     "output_type": "display_data"
    },
    {
     "name": "stdout",
     "output_type": "stream",
     "text": [
      "Epoch 82: train=2.24565, val=2.20116, took 43.977 s\n",
      "  Validation Found 8975 of 10819, added 1022 (eff 82.96%) (0.511 FP/event)\n"
     ]
    },
    {
     "data": {
      "application/vnd.jupyter.widget-view+json": {
       "model_id": "",
       "version_major": 2,
       "version_minor": 0
      },
      "text/plain": [
       "HBox(children=(FloatProgress(value=0.0, description='Training', layout=Layout(flex='2'), max=1125.0, style=Pro…"
      ]
     },
     "metadata": {},
     "output_type": "display_data"
    },
    {
     "name": "stdout",
     "output_type": "stream",
     "text": [
      "Epoch 83: train=2.25049, val=2.19928, took 43.564 s\n",
      "  Validation Found 8965 of 10819, added 1026 (eff 82.86%) (0.513 FP/event)\n"
     ]
    },
    {
     "data": {
      "application/vnd.jupyter.widget-view+json": {
       "model_id": "",
       "version_major": 2,
       "version_minor": 0
      },
      "text/plain": [
       "HBox(children=(FloatProgress(value=0.0, description='Training', layout=Layout(flex='2'), max=1125.0, style=Pro…"
      ]
     },
     "metadata": {},
     "output_type": "display_data"
    },
    {
     "name": "stdout",
     "output_type": "stream",
     "text": [
      "Epoch 84: train=2.24723, val=2.1998, took 43.947 s\n",
      "  Validation Found 8961 of 10819, added 1021 (eff 82.83%) (0.51 FP/event)\n"
     ]
    },
    {
     "data": {
      "application/vnd.jupyter.widget-view+json": {
       "model_id": "",
       "version_major": 2,
       "version_minor": 0
      },
      "text/plain": [
       "HBox(children=(FloatProgress(value=0.0, description='Training', layout=Layout(flex='2'), max=1125.0, style=Pro…"
      ]
     },
     "metadata": {},
     "output_type": "display_data"
    },
    {
     "name": "stdout",
     "output_type": "stream",
     "text": [
      "Epoch 85: train=2.24661, val=2.19931, took 43.565 s\n",
      "  Validation Found 8970 of 10819, added 1020 (eff 82.91%) (0.51 FP/event)\n"
     ]
    },
    {
     "data": {
      "application/vnd.jupyter.widget-view+json": {
       "model_id": "",
       "version_major": 2,
       "version_minor": 0
      },
      "text/plain": [
       "HBox(children=(FloatProgress(value=0.0, description='Training', layout=Layout(flex='2'), max=1125.0, style=Pro…"
      ]
     },
     "metadata": {},
     "output_type": "display_data"
    },
    {
     "name": "stdout",
     "output_type": "stream",
     "text": [
      "Epoch 86: train=2.24578, val=2.1987, took 43.775 s\n",
      "  Validation Found 8963 of 10819, added 1029 (eff 82.84%) (0.514 FP/event)\n"
     ]
    },
    {
     "data": {
      "application/vnd.jupyter.widget-view+json": {
       "model_id": "",
       "version_major": 2,
       "version_minor": 0
      },
      "text/plain": [
       "HBox(children=(FloatProgress(value=0.0, description='Training', layout=Layout(flex='2'), max=1125.0, style=Pro…"
      ]
     },
     "metadata": {},
     "output_type": "display_data"
    },
    {
     "name": "stdout",
     "output_type": "stream",
     "text": [
      "Epoch 87: train=2.24935, val=2.19921, took 44.006 s\n",
      "  Validation Found 8961 of 10819, added 1021 (eff 82.83%) (0.51 FP/event)\n"
     ]
    },
    {
     "data": {
      "application/vnd.jupyter.widget-view+json": {
       "model_id": "",
       "version_major": 2,
       "version_minor": 0
      },
      "text/plain": [
       "HBox(children=(FloatProgress(value=0.0, description='Training', layout=Layout(flex='2'), max=1125.0, style=Pro…"
      ]
     },
     "metadata": {},
     "output_type": "display_data"
    },
    {
     "name": "stdout",
     "output_type": "stream",
     "text": [
      "Epoch 88: train=2.24775, val=2.19843, took 43.718 s\n",
      "  Validation Found 8968 of 10819, added 1022 (eff 82.89%) (0.511 FP/event)\n"
     ]
    },
    {
     "data": {
      "application/vnd.jupyter.widget-view+json": {
       "model_id": "",
       "version_major": 2,
       "version_minor": 0
      },
      "text/plain": [
       "HBox(children=(FloatProgress(value=0.0, description='Training', layout=Layout(flex='2'), max=1125.0, style=Pro…"
      ]
     },
     "metadata": {},
     "output_type": "display_data"
    },
    {
     "name": "stdout",
     "output_type": "stream",
     "text": [
      "Epoch 89: train=2.24767, val=2.19822, took 43.929 s\n",
      "  Validation Found 8973 of 10819, added 1020 (eff 82.94%) (0.51 FP/event)\n"
     ]
    },
    {
     "data": {
      "application/vnd.jupyter.widget-view+json": {
       "model_id": "",
       "version_major": 2,
       "version_minor": 0
      },
      "text/plain": [
       "HBox(children=(FloatProgress(value=0.0, description='Training', layout=Layout(flex='2'), max=1125.0, style=Pro…"
      ]
     },
     "metadata": {},
     "output_type": "display_data"
    },
    {
     "name": "stdout",
     "output_type": "stream",
     "text": [
      "Epoch 90: train=2.24551, val=2.19789, took 43.8 s\n",
      "  Validation Found 8972 of 10819, added 1020 (eff 82.93%) (0.51 FP/event)\n"
     ]
    },
    {
     "data": {
      "application/vnd.jupyter.widget-view+json": {
       "model_id": "",
       "version_major": 2,
       "version_minor": 0
      },
      "text/plain": [
       "HBox(children=(FloatProgress(value=0.0, description='Training', layout=Layout(flex='2'), max=1125.0, style=Pro…"
      ]
     },
     "metadata": {},
     "output_type": "display_data"
    },
    {
     "name": "stdout",
     "output_type": "stream",
     "text": [
      "Epoch 91: train=2.2448, val=2.19868, took 43.774 s\n",
      "  Validation Found 8970 of 10819, added 1026 (eff 82.91%) (0.513 FP/event)\n"
     ]
    },
    {
     "data": {
      "application/vnd.jupyter.widget-view+json": {
       "model_id": "",
       "version_major": 2,
       "version_minor": 0
      },
      "text/plain": [
       "HBox(children=(FloatProgress(value=0.0, description='Training', layout=Layout(flex='2'), max=1125.0, style=Pro…"
      ]
     },
     "metadata": {},
     "output_type": "display_data"
    },
    {
     "name": "stdout",
     "output_type": "stream",
     "text": [
      "Epoch 92: train=2.24908, val=2.19725, took 44.085 s\n",
      "  Validation Found 8981 of 10819, added 1026 (eff 83.01%) (0.513 FP/event)\n"
     ]
    },
    {
     "data": {
      "application/vnd.jupyter.widget-view+json": {
       "model_id": "",
       "version_major": 2,
       "version_minor": 0
      },
      "text/plain": [
       "HBox(children=(FloatProgress(value=0.0, description='Training', layout=Layout(flex='2'), max=1125.0, style=Pro…"
      ]
     },
     "metadata": {},
     "output_type": "display_data"
    },
    {
     "name": "stdout",
     "output_type": "stream",
     "text": [
      "Epoch 93: train=2.24631, val=2.19683, took 44.039 s\n",
      "  Validation Found 8979 of 10819, added 1021 (eff 82.99%) (0.51 FP/event)\n"
     ]
    },
    {
     "data": {
      "application/vnd.jupyter.widget-view+json": {
       "model_id": "",
       "version_major": 2,
       "version_minor": 0
      },
      "text/plain": [
       "HBox(children=(FloatProgress(value=0.0, description='Training', layout=Layout(flex='2'), max=1125.0, style=Pro…"
      ]
     },
     "metadata": {},
     "output_type": "display_data"
    },
    {
     "name": "stdout",
     "output_type": "stream",
     "text": [
      "Epoch 94: train=2.24701, val=2.1976, took 43.836 s\n",
      "  Validation Found 8963 of 10819, added 1033 (eff 82.84%) (0.516 FP/event)\n"
     ]
    },
    {
     "data": {
      "application/vnd.jupyter.widget-view+json": {
       "model_id": "",
       "version_major": 2,
       "version_minor": 0
      },
      "text/plain": [
       "HBox(children=(FloatProgress(value=0.0, description='Training', layout=Layout(flex='2'), max=1125.0, style=Pro…"
      ]
     },
     "metadata": {},
     "output_type": "display_data"
    },
    {
     "name": "stdout",
     "output_type": "stream",
     "text": [
      "Epoch 95: train=2.2452, val=2.20027, took 43.772 s\n",
      "  Validation Found 8973 of 10819, added 1024 (eff 82.94%) (0.512 FP/event)\n"
     ]
    },
    {
     "data": {
      "application/vnd.jupyter.widget-view+json": {
       "model_id": "",
       "version_major": 2,
       "version_minor": 0
      },
      "text/plain": [
       "HBox(children=(FloatProgress(value=0.0, description='Training', layout=Layout(flex='2'), max=1125.0, style=Pro…"
      ]
     },
     "metadata": {},
     "output_type": "display_data"
    },
    {
     "name": "stdout",
     "output_type": "stream",
     "text": [
      "Epoch 96: train=2.24838, val=2.19792, took 43.912 s\n",
      "  Validation Found 8968 of 10819, added 1024 (eff 82.89%) (0.512 FP/event)\n"
     ]
    },
    {
     "data": {
      "application/vnd.jupyter.widget-view+json": {
       "model_id": "",
       "version_major": 2,
       "version_minor": 0
      },
      "text/plain": [
       "HBox(children=(FloatProgress(value=0.0, description='Training', layout=Layout(flex='2'), max=1125.0, style=Pro…"
      ]
     },
     "metadata": {},
     "output_type": "display_data"
    },
    {
     "name": "stdout",
     "output_type": "stream",
     "text": [
      "Epoch 97: train=2.24461, val=2.20272, took 43.85 s\n",
      "  Validation Found 8956 of 10819, added 1031 (eff 82.78%) (0.515 FP/event)\n"
     ]
    },
    {
     "data": {
      "application/vnd.jupyter.widget-view+json": {
       "model_id": "",
       "version_major": 2,
       "version_minor": 0
      },
      "text/plain": [
       "HBox(children=(FloatProgress(value=0.0, description='Training', layout=Layout(flex='2'), max=1125.0, style=Pro…"
      ]
     },
     "metadata": {},
     "output_type": "display_data"
    },
    {
     "name": "stdout",
     "output_type": "stream",
     "text": [
      "Epoch 98: train=2.24295, val=2.19654, took 44.041 s\n",
      "  Validation Found 8964 of 10819, added 1020 (eff 82.85%) (0.51 FP/event)\n"
     ]
    },
    {
     "data": {
      "application/vnd.jupyter.widget-view+json": {
       "model_id": "",
       "version_major": 2,
       "version_minor": 0
      },
      "text/plain": [
       "HBox(children=(FloatProgress(value=0.0, description='Training', layout=Layout(flex='2'), max=1125.0, style=Pro…"
      ]
     },
     "metadata": {},
     "output_type": "display_data"
    },
    {
     "name": "stdout",
     "output_type": "stream",
     "text": [
      "Epoch 99: train=2.24512, val=2.20271, took 44.069 s\n",
      "  Validation Found 8988 of 10819, added 1010 (eff 83.08%) (0.505 FP/event)\n"
     ]
    },
    {
     "data": {
      "application/vnd.jupyter.widget-view+json": {
       "model_id": "",
       "version_major": 2,
       "version_minor": 0
      },
      "text/plain": [
       "HBox(children=(FloatProgress(value=0.0, description='Training', layout=Layout(flex='2'), max=1125.0, style=Pro…"
      ]
     },
     "metadata": {},
     "output_type": "display_data"
    },
    {
     "name": "stdout",
     "output_type": "stream",
     "text": [
      "Epoch 100: train=2.24775, val=2.19659, took 43.983 s\n",
      "  Validation Found 8973 of 10819, added 1028 (eff 82.94%) (0.514 FP/event)\n"
     ]
    },
    {
     "data": {
      "application/vnd.jupyter.widget-view+json": {
       "model_id": "",
       "version_major": 2,
       "version_minor": 0
      },
      "text/plain": [
       "HBox(children=(FloatProgress(value=0.0, description='Training', layout=Layout(flex='2'), max=1125.0, style=Pro…"
      ]
     },
     "metadata": {},
     "output_type": "display_data"
    },
    {
     "name": "stdout",
     "output_type": "stream",
     "text": [
      "Epoch 101: train=2.24659, val=2.19509, took 44.099 s\n",
      "  Validation Found 8980 of 10819, added 1019 (eff 83.00%) (0.509 FP/event)\n"
     ]
    },
    {
     "data": {
      "application/vnd.jupyter.widget-view+json": {
       "model_id": "",
       "version_major": 2,
       "version_minor": 0
      },
      "text/plain": [
       "HBox(children=(FloatProgress(value=0.0, description='Training', layout=Layout(flex='2'), max=1125.0, style=Pro…"
      ]
     },
     "metadata": {},
     "output_type": "display_data"
    },
    {
     "name": "stdout",
     "output_type": "stream",
     "text": [
      "Epoch 102: train=2.24788, val=2.1971, took 44.083 s\n",
      "  Validation Found 8975 of 10819, added 1028 (eff 82.96%) (0.514 FP/event)\n"
     ]
    },
    {
     "data": {
      "application/vnd.jupyter.widget-view+json": {
       "model_id": "",
       "version_major": 2,
       "version_minor": 0
      },
      "text/plain": [
       "HBox(children=(FloatProgress(value=0.0, description='Training', layout=Layout(flex='2'), max=1125.0, style=Pro…"
      ]
     },
     "metadata": {},
     "output_type": "display_data"
    },
    {
     "name": "stdout",
     "output_type": "stream",
     "text": [
      "Epoch 103: train=2.24641, val=2.19583, took 44.077 s\n",
      "  Validation Found 8983 of 10819, added 1029 (eff 83.03%) (0.514 FP/event)\n"
     ]
    },
    {
     "data": {
      "application/vnd.jupyter.widget-view+json": {
       "model_id": "",
       "version_major": 2,
       "version_minor": 0
      },
      "text/plain": [
       "HBox(children=(FloatProgress(value=0.0, description='Training', layout=Layout(flex='2'), max=1125.0, style=Pro…"
      ]
     },
     "metadata": {},
     "output_type": "display_data"
    },
    {
     "name": "stdout",
     "output_type": "stream",
     "text": [
      "Epoch 104: train=2.24316, val=2.19543, took 44.145 s\n",
      "  Validation Found 8980 of 10819, added 1027 (eff 83.00%) (0.513 FP/event)\n"
     ]
    },
    {
     "data": {
      "application/vnd.jupyter.widget-view+json": {
       "model_id": "",
       "version_major": 2,
       "version_minor": 0
      },
      "text/plain": [
       "HBox(children=(FloatProgress(value=0.0, description='Training', layout=Layout(flex='2'), max=1125.0, style=Pro…"
      ]
     },
     "metadata": {},
     "output_type": "display_data"
    },
    {
     "name": "stdout",
     "output_type": "stream",
     "text": [
      "Epoch 105: train=2.2414, val=2.19524, took 44.089 s\n",
      "  Validation Found 8987 of 10819, added 1018 (eff 83.07%) (0.509 FP/event)\n"
     ]
    },
    {
     "data": {
      "application/vnd.jupyter.widget-view+json": {
       "model_id": "",
       "version_major": 2,
       "version_minor": 0
      },
      "text/plain": [
       "HBox(children=(FloatProgress(value=0.0, description='Training', layout=Layout(flex='2'), max=1125.0, style=Pro…"
      ]
     },
     "metadata": {},
     "output_type": "display_data"
    },
    {
     "name": "stdout",
     "output_type": "stream",
     "text": [
      "Epoch 106: train=2.24309, val=2.19568, took 43.916 s\n",
      "  Validation Found 8973 of 10819, added 1023 (eff 82.94%) (0.511 FP/event)\n"
     ]
    },
    {
     "data": {
      "application/vnd.jupyter.widget-view+json": {
       "model_id": "",
       "version_major": 2,
       "version_minor": 0
      },
      "text/plain": [
       "HBox(children=(FloatProgress(value=0.0, description='Training', layout=Layout(flex='2'), max=1125.0, style=Pro…"
      ]
     },
     "metadata": {},
     "output_type": "display_data"
    },
    {
     "name": "stdout",
     "output_type": "stream",
     "text": [
      "Epoch 107: train=2.2413, val=2.19678, took 44.05 s\n",
      "  Validation Found 8969 of 10819, added 1033 (eff 82.90%) (0.516 FP/event)\n"
     ]
    },
    {
     "data": {
      "application/vnd.jupyter.widget-view+json": {
       "model_id": "",
       "version_major": 2,
       "version_minor": 0
      },
      "text/plain": [
       "HBox(children=(FloatProgress(value=0.0, description='Training', layout=Layout(flex='2'), max=1125.0, style=Pro…"
      ]
     },
     "metadata": {},
     "output_type": "display_data"
    },
    {
     "name": "stdout",
     "output_type": "stream",
     "text": [
      "Epoch 108: train=2.23992, val=2.19625, took 43.987 s\n",
      "  Validation Found 8967 of 10819, added 1022 (eff 82.88%) (0.511 FP/event)\n"
     ]
    },
    {
     "data": {
      "application/vnd.jupyter.widget-view+json": {
       "model_id": "",
       "version_major": 2,
       "version_minor": 0
      },
      "text/plain": [
       "HBox(children=(FloatProgress(value=0.0, description='Training', layout=Layout(flex='2'), max=1125.0, style=Pro…"
      ]
     },
     "metadata": {},
     "output_type": "display_data"
    },
    {
     "name": "stdout",
     "output_type": "stream",
     "text": [
      "Epoch 109: train=2.23876, val=2.20023, took 43.96 s\n",
      "  Validation Found 8969 of 10819, added 1021 (eff 82.90%) (0.51 FP/event)\n"
     ]
    },
    {
     "data": {
      "application/vnd.jupyter.widget-view+json": {
       "model_id": "",
       "version_major": 2,
       "version_minor": 0
      },
      "text/plain": [
       "HBox(children=(FloatProgress(value=0.0, description='Training', layout=Layout(flex='2'), max=1125.0, style=Pro…"
      ]
     },
     "metadata": {},
     "output_type": "display_data"
    },
    {
     "name": "stdout",
     "output_type": "stream",
     "text": [
      "Epoch 110: train=2.24004, val=2.19468, took 43.963 s\n",
      "  Validation Found 8987 of 10819, added 1021 (eff 83.07%) (0.51 FP/event)\n"
     ]
    },
    {
     "data": {
      "application/vnd.jupyter.widget-view+json": {
       "model_id": "",
       "version_major": 2,
       "version_minor": 0
      },
      "text/plain": [
       "HBox(children=(FloatProgress(value=0.0, description='Training', layout=Layout(flex='2'), max=1125.0, style=Pro…"
      ]
     },
     "metadata": {},
     "output_type": "display_data"
    },
    {
     "name": "stdout",
     "output_type": "stream",
     "text": [
      "Epoch 111: train=2.2397, val=2.19917, took 43.75 s\n",
      "  Validation Found 8979 of 10819, added 1023 (eff 82.99%) (0.511 FP/event)\n"
     ]
    },
    {
     "data": {
      "application/vnd.jupyter.widget-view+json": {
       "model_id": "",
       "version_major": 2,
       "version_minor": 0
      },
      "text/plain": [
       "HBox(children=(FloatProgress(value=0.0, description='Training', layout=Layout(flex='2'), max=1125.0, style=Pro…"
      ]
     },
     "metadata": {},
     "output_type": "display_data"
    },
    {
     "name": "stdout",
     "output_type": "stream",
     "text": [
      "Epoch 112: train=2.2406, val=2.19396, took 44.101 s\n",
      "  Validation Found 8973 of 10819, added 1020 (eff 82.94%) (0.51 FP/event)\n"
     ]
    },
    {
     "data": {
      "application/vnd.jupyter.widget-view+json": {
       "model_id": "",
       "version_major": 2,
       "version_minor": 0
      },
      "text/plain": [
       "HBox(children=(FloatProgress(value=0.0, description='Training', layout=Layout(flex='2'), max=1125.0, style=Pro…"
      ]
     },
     "metadata": {},
     "output_type": "display_data"
    },
    {
     "name": "stdout",
     "output_type": "stream",
     "text": [
      "Epoch 113: train=2.23621, val=2.19311, took 44.112 s\n",
      "  Validation Found 8972 of 10819, added 1023 (eff 82.93%) (0.511 FP/event)\n"
     ]
    },
    {
     "data": {
      "application/vnd.jupyter.widget-view+json": {
       "model_id": "",
       "version_major": 2,
       "version_minor": 0
      },
      "text/plain": [
       "HBox(children=(FloatProgress(value=0.0, description='Training', layout=Layout(flex='2'), max=1125.0, style=Pro…"
      ]
     },
     "metadata": {},
     "output_type": "display_data"
    },
    {
     "name": "stdout",
     "output_type": "stream",
     "text": [
      "Epoch 114: train=2.24382, val=2.19358, took 44.116 s\n",
      "  Validation Found 8976 of 10819, added 1020 (eff 82.97%) (0.51 FP/event)\n"
     ]
    },
    {
     "data": {
      "application/vnd.jupyter.widget-view+json": {
       "model_id": "",
       "version_major": 2,
       "version_minor": 0
      },
      "text/plain": [
       "HBox(children=(FloatProgress(value=0.0, description='Training', layout=Layout(flex='2'), max=1125.0, style=Pro…"
      ]
     },
     "metadata": {},
     "output_type": "display_data"
    },
    {
     "name": "stdout",
     "output_type": "stream",
     "text": [
      "Epoch 115: train=2.23497, val=2.19369, took 43.936 s\n",
      "  Validation Found 8989 of 10819, added 1015 (eff 83.09%) (0.507 FP/event)\n"
     ]
    },
    {
     "data": {
      "application/vnd.jupyter.widget-view+json": {
       "model_id": "",
       "version_major": 2,
       "version_minor": 0
      },
      "text/plain": [
       "HBox(children=(FloatProgress(value=0.0, description='Training', layout=Layout(flex='2'), max=1125.0, style=Pro…"
      ]
     },
     "metadata": {},
     "output_type": "display_data"
    },
    {
     "name": "stdout",
     "output_type": "stream",
     "text": [
      "Epoch 116: train=2.23918, val=2.19453, took 43.6 s\n",
      "  Validation Found 8976 of 10819, added 1023 (eff 82.97%) (0.511 FP/event)\n"
     ]
    },
    {
     "data": {
      "application/vnd.jupyter.widget-view+json": {
       "model_id": "",
       "version_major": 2,
       "version_minor": 0
      },
      "text/plain": [
       "HBox(children=(FloatProgress(value=0.0, description='Training', layout=Layout(flex='2'), max=1125.0, style=Pro…"
      ]
     },
     "metadata": {},
     "output_type": "display_data"
    },
    {
     "name": "stdout",
     "output_type": "stream",
     "text": [
      "Epoch 117: train=2.24246, val=2.19409, took 43.856 s\n",
      "  Validation Found 8978 of 10819, added 1022 (eff 82.98%) (0.511 FP/event)\n"
     ]
    },
    {
     "data": {
      "application/vnd.jupyter.widget-view+json": {
       "model_id": "",
       "version_major": 2,
       "version_minor": 0
      },
      "text/plain": [
       "HBox(children=(FloatProgress(value=0.0, description='Training', layout=Layout(flex='2'), max=1125.0, style=Pro…"
      ]
     },
     "metadata": {},
     "output_type": "display_data"
    },
    {
     "name": "stdout",
     "output_type": "stream",
     "text": [
      "Epoch 118: train=2.23842, val=2.19367, took 44.044 s\n",
      "  Validation Found 8980 of 10819, added 1014 (eff 83.00%) (0.507 FP/event)\n"
     ]
    },
    {
     "data": {
      "application/vnd.jupyter.widget-view+json": {
       "model_id": "",
       "version_major": 2,
       "version_minor": 0
      },
      "text/plain": [
       "HBox(children=(FloatProgress(value=0.0, description='Training', layout=Layout(flex='2'), max=1125.0, style=Pro…"
      ]
     },
     "metadata": {},
     "output_type": "display_data"
    },
    {
     "name": "stdout",
     "output_type": "stream",
     "text": [
      "Epoch 119: train=2.24047, val=2.19264, took 43.842 s\n",
      "  Validation Found 8991 of 10819, added 1018 (eff 83.10%) (0.509 FP/event)\n"
     ]
    },
    {
     "data": {
      "application/vnd.jupyter.widget-view+json": {
       "model_id": "",
       "version_major": 2,
       "version_minor": 0
      },
      "text/plain": [
       "HBox(children=(FloatProgress(value=0.0, description='Training', layout=Layout(flex='2'), max=1125.0, style=Pro…"
      ]
     },
     "metadata": {},
     "output_type": "display_data"
    },
    {
     "name": "stdout",
     "output_type": "stream",
     "text": [
      "Epoch 120: train=2.23958, val=2.1978, took 43.676 s\n",
      "  Validation Found 8991 of 10819, added 1016 (eff 83.10%) (0.508 FP/event)\n"
     ]
    },
    {
     "data": {
      "application/vnd.jupyter.widget-view+json": {
       "model_id": "",
       "version_major": 2,
       "version_minor": 0
      },
      "text/plain": [
       "HBox(children=(FloatProgress(value=0.0, description='Training', layout=Layout(flex='2'), max=1125.0, style=Pro…"
      ]
     },
     "metadata": {},
     "output_type": "display_data"
    },
    {
     "name": "stdout",
     "output_type": "stream",
     "text": [
      "Epoch 121: train=2.24106, val=2.19241, took 43.941 s\n",
      "  Validation Found 8979 of 10819, added 1031 (eff 82.99%) (0.515 FP/event)\n"
     ]
    },
    {
     "data": {
      "application/vnd.jupyter.widget-view+json": {
       "model_id": "",
       "version_major": 2,
       "version_minor": 0
      },
      "text/plain": [
       "HBox(children=(FloatProgress(value=0.0, description='Training', layout=Layout(flex='2'), max=1125.0, style=Pro…"
      ]
     },
     "metadata": {},
     "output_type": "display_data"
    },
    {
     "name": "stdout",
     "output_type": "stream",
     "text": [
      "Epoch 122: train=2.23736, val=2.19226, took 43.804 s\n",
      "  Validation Found 8990 of 10819, added 1018 (eff 83.09%) (0.509 FP/event)\n"
     ]
    },
    {
     "data": {
      "application/vnd.jupyter.widget-view+json": {
       "model_id": "",
       "version_major": 2,
       "version_minor": 0
      },
      "text/plain": [
       "HBox(children=(FloatProgress(value=0.0, description='Training', layout=Layout(flex='2'), max=1125.0, style=Pro…"
      ]
     },
     "metadata": {},
     "output_type": "display_data"
    },
    {
     "name": "stdout",
     "output_type": "stream",
     "text": [
      "Epoch 123: train=2.23924, val=2.1921, took 44.004 s\n",
      "  Validation Found 8986 of 10819, added 1018 (eff 83.06%) (0.509 FP/event)\n"
     ]
    },
    {
     "data": {
      "application/vnd.jupyter.widget-view+json": {
       "model_id": "",
       "version_major": 2,
       "version_minor": 0
      },
      "text/plain": [
       "HBox(children=(FloatProgress(value=0.0, description='Training', layout=Layout(flex='2'), max=1125.0, style=Pro…"
      ]
     },
     "metadata": {},
     "output_type": "display_data"
    },
    {
     "name": "stdout",
     "output_type": "stream",
     "text": [
      "Epoch 124: train=2.23953, val=2.19255, took 43.91 s\n",
      "  Validation Found 8986 of 10819, added 1021 (eff 83.06%) (0.51 FP/event)\n"
     ]
    },
    {
     "data": {
      "application/vnd.jupyter.widget-view+json": {
       "model_id": "",
       "version_major": 2,
       "version_minor": 0
      },
      "text/plain": [
       "HBox(children=(FloatProgress(value=0.0, description='Training', layout=Layout(flex='2'), max=1125.0, style=Pro…"
      ]
     },
     "metadata": {},
     "output_type": "display_data"
    },
    {
     "name": "stdout",
     "output_type": "stream",
     "text": [
      "Epoch 125: train=2.2393, val=2.19251, took 44.002 s\n",
      "  Validation Found 8989 of 10819, added 1025 (eff 83.09%) (0.512 FP/event)\n"
     ]
    },
    {
     "data": {
      "application/vnd.jupyter.widget-view+json": {
       "model_id": "",
       "version_major": 2,
       "version_minor": 0
      },
      "text/plain": [
       "HBox(children=(FloatProgress(value=0.0, description='Training', layout=Layout(flex='2'), max=1125.0, style=Pro…"
      ]
     },
     "metadata": {},
     "output_type": "display_data"
    },
    {
     "name": "stdout",
     "output_type": "stream",
     "text": [
      "Epoch 126: train=2.23479, val=2.19193, took 44.07 s\n",
      "  Validation Found 8990 of 10819, added 1029 (eff 83.09%) (0.514 FP/event)\n"
     ]
    },
    {
     "data": {
      "application/vnd.jupyter.widget-view+json": {
       "model_id": "",
       "version_major": 2,
       "version_minor": 0
      },
      "text/plain": [
       "HBox(children=(FloatProgress(value=0.0, description='Training', layout=Layout(flex='2'), max=1125.0, style=Pro…"
      ]
     },
     "metadata": {},
     "output_type": "display_data"
    },
    {
     "name": "stdout",
     "output_type": "stream",
     "text": [
      "Epoch 127: train=2.24091, val=2.19483, took 44.107 s\n",
      "  Validation Found 8980 of 10819, added 1024 (eff 83.00%) (0.512 FP/event)\n"
     ]
    },
    {
     "data": {
      "application/vnd.jupyter.widget-view+json": {
       "model_id": "",
       "version_major": 2,
       "version_minor": 0
      },
      "text/plain": [
       "HBox(children=(FloatProgress(value=0.0, description='Training', layout=Layout(flex='2'), max=1125.0, style=Pro…"
      ]
     },
     "metadata": {},
     "output_type": "display_data"
    },
    {
     "name": "stdout",
     "output_type": "stream",
     "text": [
      "Epoch 128: train=2.23685, val=2.19451, took 43.781 s\n",
      "  Validation Found 8990 of 10819, added 1027 (eff 83.09%) (0.513 FP/event)\n"
     ]
    },
    {
     "data": {
      "application/vnd.jupyter.widget-view+json": {
       "model_id": "",
       "version_major": 2,
       "version_minor": 0
      },
      "text/plain": [
       "HBox(children=(FloatProgress(value=0.0, description='Training', layout=Layout(flex='2'), max=1125.0, style=Pro…"
      ]
     },
     "metadata": {},
     "output_type": "display_data"
    },
    {
     "name": "stdout",
     "output_type": "stream",
     "text": [
      "Epoch 129: train=2.23405, val=2.19115, took 43.811 s\n",
      "  Validation Found 8989 of 10819, added 1026 (eff 83.09%) (0.513 FP/event)\n"
     ]
    },
    {
     "data": {
      "application/vnd.jupyter.widget-view+json": {
       "model_id": "",
       "version_major": 2,
       "version_minor": 0
      },
      "text/plain": [
       "HBox(children=(FloatProgress(value=0.0, description='Training', layout=Layout(flex='2'), max=1125.0, style=Pro…"
      ]
     },
     "metadata": {},
     "output_type": "display_data"
    },
    {
     "name": "stdout",
     "output_type": "stream",
     "text": [
      "Epoch 130: train=2.23607, val=2.19149, took 43.84 s\n",
      "  Validation Found 8997 of 10819, added 1026 (eff 83.16%) (0.513 FP/event)\n"
     ]
    },
    {
     "data": {
      "application/vnd.jupyter.widget-view+json": {
       "model_id": "",
       "version_major": 2,
       "version_minor": 0
      },
      "text/plain": [
       "HBox(children=(FloatProgress(value=0.0, description='Training', layout=Layout(flex='2'), max=1125.0, style=Pro…"
      ]
     },
     "metadata": {},
     "output_type": "display_data"
    },
    {
     "name": "stdout",
     "output_type": "stream",
     "text": [
      "Epoch 131: train=2.23678, val=2.19105, took 43.731 s\n",
      "  Validation Found 8991 of 10819, added 1024 (eff 83.10%) (0.512 FP/event)\n"
     ]
    },
    {
     "data": {
      "application/vnd.jupyter.widget-view+json": {
       "model_id": "",
       "version_major": 2,
       "version_minor": 0
      },
      "text/plain": [
       "HBox(children=(FloatProgress(value=0.0, description='Training', layout=Layout(flex='2'), max=1125.0, style=Pro…"
      ]
     },
     "metadata": {},
     "output_type": "display_data"
    },
    {
     "name": "stdout",
     "output_type": "stream",
     "text": [
      "Epoch 132: train=2.23275, val=2.1898, took 44.097 s\n",
      "  Validation Found 8993 of 10819, added 1028 (eff 83.12%) (0.514 FP/event)\n"
     ]
    },
    {
     "data": {
      "application/vnd.jupyter.widget-view+json": {
       "model_id": "",
       "version_major": 2,
       "version_minor": 0
      },
      "text/plain": [
       "HBox(children=(FloatProgress(value=0.0, description='Training', layout=Layout(flex='2'), max=1125.0, style=Pro…"
      ]
     },
     "metadata": {},
     "output_type": "display_data"
    },
    {
     "name": "stdout",
     "output_type": "stream",
     "text": [
      "Epoch 133: train=2.2324, val=2.18954, took 44.039 s\n",
      "  Validation Found 8987 of 10819, added 1022 (eff 83.07%) (0.511 FP/event)\n"
     ]
    },
    {
     "data": {
      "application/vnd.jupyter.widget-view+json": {
       "model_id": "",
       "version_major": 2,
       "version_minor": 0
      },
      "text/plain": [
       "HBox(children=(FloatProgress(value=0.0, description='Training', layout=Layout(flex='2'), max=1125.0, style=Pro…"
      ]
     },
     "metadata": {},
     "output_type": "display_data"
    },
    {
     "name": "stdout",
     "output_type": "stream",
     "text": [
      "Epoch 134: train=2.23488, val=2.1921, took 43.801 s\n",
      "  Validation Found 8989 of 10819, added 1020 (eff 83.09%) (0.51 FP/event)\n"
     ]
    },
    {
     "data": {
      "application/vnd.jupyter.widget-view+json": {
       "model_id": "",
       "version_major": 2,
       "version_minor": 0
      },
      "text/plain": [
       "HBox(children=(FloatProgress(value=0.0, description='Training', layout=Layout(flex='2'), max=1125.0, style=Pro…"
      ]
     },
     "metadata": {},
     "output_type": "display_data"
    },
    {
     "name": "stdout",
     "output_type": "stream",
     "text": [
      "Epoch 135: train=2.2324, val=2.19168, took 43.913 s\n",
      "  Validation Found 8994 of 10819, added 1024 (eff 83.13%) (0.512 FP/event)\n"
     ]
    },
    {
     "data": {
      "application/vnd.jupyter.widget-view+json": {
       "model_id": "",
       "version_major": 2,
       "version_minor": 0
      },
      "text/plain": [
       "HBox(children=(FloatProgress(value=0.0, description='Training', layout=Layout(flex='2'), max=1125.0, style=Pro…"
      ]
     },
     "metadata": {},
     "output_type": "display_data"
    },
    {
     "name": "stdout",
     "output_type": "stream",
     "text": [
      "Epoch 136: train=2.23512, val=2.19138, took 44.011 s\n",
      "  Validation Found 8987 of 10819, added 1021 (eff 83.07%) (0.51 FP/event)\n"
     ]
    },
    {
     "data": {
      "application/vnd.jupyter.widget-view+json": {
       "model_id": "",
       "version_major": 2,
       "version_minor": 0
      },
      "text/plain": [
       "HBox(children=(FloatProgress(value=0.0, description='Training', layout=Layout(flex='2'), max=1125.0, style=Pro…"
      ]
     },
     "metadata": {},
     "output_type": "display_data"
    },
    {
     "name": "stdout",
     "output_type": "stream",
     "text": [
      "Epoch 137: train=2.2349, val=2.18849, took 43.972 s\n",
      "  Validation Found 8989 of 10819, added 1033 (eff 83.09%) (0.516 FP/event)\n"
     ]
    },
    {
     "data": {
      "application/vnd.jupyter.widget-view+json": {
       "model_id": "",
       "version_major": 2,
       "version_minor": 0
      },
      "text/plain": [
       "HBox(children=(FloatProgress(value=0.0, description='Training', layout=Layout(flex='2'), max=1125.0, style=Pro…"
      ]
     },
     "metadata": {},
     "output_type": "display_data"
    },
    {
     "name": "stdout",
     "output_type": "stream",
     "text": [
      "Epoch 138: train=2.23459, val=2.18988, took 44.138 s\n",
      "  Validation Found 8993 of 10819, added 1023 (eff 83.12%) (0.511 FP/event)\n"
     ]
    },
    {
     "data": {
      "application/vnd.jupyter.widget-view+json": {
       "model_id": "",
       "version_major": 2,
       "version_minor": 0
      },
      "text/plain": [
       "HBox(children=(FloatProgress(value=0.0, description='Training', layout=Layout(flex='2'), max=1125.0, style=Pro…"
      ]
     },
     "metadata": {},
     "output_type": "display_data"
    },
    {
     "name": "stdout",
     "output_type": "stream",
     "text": [
      "Epoch 139: train=2.23564, val=2.18961, took 44.108 s\n",
      "  Validation Found 8994 of 10819, added 1024 (eff 83.13%) (0.512 FP/event)\n"
     ]
    },
    {
     "data": {
      "application/vnd.jupyter.widget-view+json": {
       "model_id": "",
       "version_major": 2,
       "version_minor": 0
      },
      "text/plain": [
       "HBox(children=(FloatProgress(value=0.0, description='Training', layout=Layout(flex='2'), max=1125.0, style=Pro…"
      ]
     },
     "metadata": {},
     "output_type": "display_data"
    },
    {
     "name": "stdout",
     "output_type": "stream",
     "text": [
      "Epoch 140: train=2.23341, val=2.19148, took 43.99 s\n",
      "  Validation Found 8988 of 10819, added 1021 (eff 83.08%) (0.51 FP/event)\n"
     ]
    },
    {
     "data": {
      "application/vnd.jupyter.widget-view+json": {
       "model_id": "",
       "version_major": 2,
       "version_minor": 0
      },
      "text/plain": [
       "HBox(children=(FloatProgress(value=0.0, description='Training', layout=Layout(flex='2'), max=1125.0, style=Pro…"
      ]
     },
     "metadata": {},
     "output_type": "display_data"
    },
    {
     "name": "stdout",
     "output_type": "stream",
     "text": [
      "Epoch 141: train=2.23355, val=2.19441, took 44.054 s\n",
      "  Validation Found 8992 of 10819, added 1018 (eff 83.11%) (0.509 FP/event)\n"
     ]
    },
    {
     "data": {
      "application/vnd.jupyter.widget-view+json": {
       "model_id": "",
       "version_major": 2,
       "version_minor": 0
      },
      "text/plain": [
       "HBox(children=(FloatProgress(value=0.0, description='Training', layout=Layout(flex='2'), max=1125.0, style=Pro…"
      ]
     },
     "metadata": {},
     "output_type": "display_data"
    },
    {
     "name": "stdout",
     "output_type": "stream",
     "text": [
      "Epoch 142: train=2.23199, val=2.18845, took 44.023 s\n",
      "  Validation Found 9003 of 10819, added 1023 (eff 83.21%) (0.511 FP/event)\n"
     ]
    },
    {
     "data": {
      "application/vnd.jupyter.widget-view+json": {
       "model_id": "",
       "version_major": 2,
       "version_minor": 0
      },
      "text/plain": [
       "HBox(children=(FloatProgress(value=0.0, description='Training', layout=Layout(flex='2'), max=1125.0, style=Pro…"
      ]
     },
     "metadata": {},
     "output_type": "display_data"
    },
    {
     "name": "stdout",
     "output_type": "stream",
     "text": [
      "Epoch 143: train=2.23037, val=2.1912, took 43.843 s\n",
      "  Validation Found 8996 of 10819, added 1027 (eff 83.15%) (0.513 FP/event)\n"
     ]
    },
    {
     "data": {
      "application/vnd.jupyter.widget-view+json": {
       "model_id": "",
       "version_major": 2,
       "version_minor": 0
      },
      "text/plain": [
       "HBox(children=(FloatProgress(value=0.0, description='Training', layout=Layout(flex='2'), max=1125.0, style=Pro…"
      ]
     },
     "metadata": {},
     "output_type": "display_data"
    },
    {
     "name": "stdout",
     "output_type": "stream",
     "text": [
      "Epoch 144: train=2.23683, val=2.18871, took 44.207 s\n",
      "  Validation Found 9000 of 10819, added 1021 (eff 83.19%) (0.51 FP/event)\n"
     ]
    },
    {
     "data": {
      "application/vnd.jupyter.widget-view+json": {
       "model_id": "",
       "version_major": 2,
       "version_minor": 0
      },
      "text/plain": [
       "HBox(children=(FloatProgress(value=0.0, description='Training', layout=Layout(flex='2'), max=1125.0, style=Pro…"
      ]
     },
     "metadata": {},
     "output_type": "display_data"
    },
    {
     "name": "stdout",
     "output_type": "stream",
     "text": [
      "Epoch 145: train=2.23225, val=2.19071, took 44.02 s\n",
      "  Validation Found 8994 of 10819, added 1030 (eff 83.13%) (0.515 FP/event)\n"
     ]
    },
    {
     "data": {
      "application/vnd.jupyter.widget-view+json": {
       "model_id": "",
       "version_major": 2,
       "version_minor": 0
      },
      "text/plain": [
       "HBox(children=(FloatProgress(value=0.0, description='Training', layout=Layout(flex='2'), max=1125.0, style=Pro…"
      ]
     },
     "metadata": {},
     "output_type": "display_data"
    },
    {
     "name": "stdout",
     "output_type": "stream",
     "text": [
      "Epoch 146: train=2.23596, val=2.18798, took 43.947 s\n",
      "  Validation Found 8998 of 10819, added 1030 (eff 83.17%) (0.515 FP/event)\n"
     ]
    },
    {
     "data": {
      "application/vnd.jupyter.widget-view+json": {
       "model_id": "",
       "version_major": 2,
       "version_minor": 0
      },
      "text/plain": [
       "HBox(children=(FloatProgress(value=0.0, description='Training', layout=Layout(flex='2'), max=1125.0, style=Pro…"
      ]
     },
     "metadata": {},
     "output_type": "display_data"
    },
    {
     "name": "stdout",
     "output_type": "stream",
     "text": [
      "Epoch 147: train=2.22988, val=2.19134, took 44.111 s\n",
      "  Validation Found 9001 of 10819, added 1027 (eff 83.20%) (0.513 FP/event)\n"
     ]
    },
    {
     "data": {
      "application/vnd.jupyter.widget-view+json": {
       "model_id": "",
       "version_major": 2,
       "version_minor": 0
      },
      "text/plain": [
       "HBox(children=(FloatProgress(value=0.0, description='Training', layout=Layout(flex='2'), max=1125.0, style=Pro…"
      ]
     },
     "metadata": {},
     "output_type": "display_data"
    },
    {
     "name": "stdout",
     "output_type": "stream",
     "text": [
      "Epoch 148: train=2.22844, val=2.18638, took 44.386 s\n",
      "  Validation Found 8994 of 10819, added 1026 (eff 83.13%) (0.513 FP/event)\n"
     ]
    },
    {
     "data": {
      "application/vnd.jupyter.widget-view+json": {
       "model_id": "",
       "version_major": 2,
       "version_minor": 0
      },
      "text/plain": [
       "HBox(children=(FloatProgress(value=0.0, description='Training', layout=Layout(flex='2'), max=1125.0, style=Pro…"
      ]
     },
     "metadata": {},
     "output_type": "display_data"
    },
    {
     "name": "stdout",
     "output_type": "stream",
     "text": [
      "Epoch 149: train=2.23017, val=2.18749, took 44.036 s\n",
      "  Validation Found 9004 of 10819, added 1028 (eff 83.22%) (0.514 FP/event)\n"
     ]
    },
    {
     "data": {
      "application/vnd.jupyter.widget-view+json": {
       "model_id": "",
       "version_major": 2,
       "version_minor": 0
      },
      "text/plain": [
       "HBox(children=(FloatProgress(value=0.0, description='Training', layout=Layout(flex='2'), max=1125.0, style=Pro…"
      ]
     },
     "metadata": {},
     "output_type": "display_data"
    },
    {
     "name": "stdout",
     "output_type": "stream",
     "text": [
      "Epoch 150: train=2.23192, val=2.18908, took 44.111 s\n",
      "  Validation Found 8992 of 10819, added 1026 (eff 83.11%) (0.513 FP/event)\n"
     ]
    },
    {
     "data": {
      "application/vnd.jupyter.widget-view+json": {
       "model_id": "",
       "version_major": 2,
       "version_minor": 0
      },
      "text/plain": [
       "HBox(children=(FloatProgress(value=0.0, description='Training', layout=Layout(flex='2'), max=1125.0, style=Pro…"
      ]
     },
     "metadata": {},
     "output_type": "display_data"
    },
    {
     "name": "stdout",
     "output_type": "stream",
     "text": [
      "Epoch 151: train=2.23073, val=2.18877, took 44.002 s\n",
      "  Validation Found 8998 of 10819, added 1028 (eff 83.17%) (0.514 FP/event)\n"
     ]
    },
    {
     "data": {
      "application/vnd.jupyter.widget-view+json": {
       "model_id": "",
       "version_major": 2,
       "version_minor": 0
      },
      "text/plain": [
       "HBox(children=(FloatProgress(value=0.0, description='Training', layout=Layout(flex='2'), max=1125.0, style=Pro…"
      ]
     },
     "metadata": {},
     "output_type": "display_data"
    },
    {
     "name": "stdout",
     "output_type": "stream",
     "text": [
      "Epoch 152: train=2.23011, val=2.18679, took 44.118 s\n",
      "  Validation Found 8998 of 10819, added 1025 (eff 83.17%) (0.512 FP/event)\n"
     ]
    },
    {
     "data": {
      "application/vnd.jupyter.widget-view+json": {
       "model_id": "",
       "version_major": 2,
       "version_minor": 0
      },
      "text/plain": [
       "HBox(children=(FloatProgress(value=0.0, description='Training', layout=Layout(flex='2'), max=1125.0, style=Pro…"
      ]
     },
     "metadata": {},
     "output_type": "display_data"
    },
    {
     "name": "stdout",
     "output_type": "stream",
     "text": [
      "Epoch 153: train=2.23365, val=2.18602, took 44.098 s\n",
      "  Validation Found 8999 of 10819, added 1031 (eff 83.18%) (0.515 FP/event)\n"
     ]
    },
    {
     "data": {
      "application/vnd.jupyter.widget-view+json": {
       "model_id": "",
       "version_major": 2,
       "version_minor": 0
      },
      "text/plain": [
       "HBox(children=(FloatProgress(value=0.0, description='Training', layout=Layout(flex='2'), max=1125.0, style=Pro…"
      ]
     },
     "metadata": {},
     "output_type": "display_data"
    },
    {
     "name": "stdout",
     "output_type": "stream",
     "text": [
      "Epoch 154: train=2.23327, val=2.18864, took 44.303 s\n",
      "  Validation Found 9000 of 10819, added 1024 (eff 83.19%) (0.512 FP/event)\n"
     ]
    },
    {
     "data": {
      "application/vnd.jupyter.widget-view+json": {
       "model_id": "",
       "version_major": 2,
       "version_minor": 0
      },
      "text/plain": [
       "HBox(children=(FloatProgress(value=0.0, description='Training', layout=Layout(flex='2'), max=1125.0, style=Pro…"
      ]
     },
     "metadata": {},
     "output_type": "display_data"
    },
    {
     "name": "stdout",
     "output_type": "stream",
     "text": [
      "Epoch 155: train=2.2291, val=2.18475, took 44.144 s\n",
      "  Validation Found 8990 of 10819, added 1030 (eff 83.09%) (0.515 FP/event)\n"
     ]
    },
    {
     "data": {
      "application/vnd.jupyter.widget-view+json": {
       "model_id": "",
       "version_major": 2,
       "version_minor": 0
      },
      "text/plain": [
       "HBox(children=(FloatProgress(value=0.0, description='Training', layout=Layout(flex='2'), max=1125.0, style=Pro…"
      ]
     },
     "metadata": {},
     "output_type": "display_data"
    },
    {
     "name": "stdout",
     "output_type": "stream",
     "text": [
      "Epoch 156: train=2.23054, val=2.18495, took 44.187 s\n",
      "  Validation Found 8991 of 10819, added 1022 (eff 83.10%) (0.511 FP/event)\n"
     ]
    },
    {
     "data": {
      "application/vnd.jupyter.widget-view+json": {
       "model_id": "",
       "version_major": 2,
       "version_minor": 0
      },
      "text/plain": [
       "HBox(children=(FloatProgress(value=0.0, description='Training', layout=Layout(flex='2'), max=1125.0, style=Pro…"
      ]
     },
     "metadata": {},
     "output_type": "display_data"
    },
    {
     "name": "stdout",
     "output_type": "stream",
     "text": [
      "Epoch 157: train=2.2325, val=2.18567, took 44.068 s\n",
      "  Validation Found 8989 of 10819, added 1019 (eff 83.09%) (0.509 FP/event)\n"
     ]
    },
    {
     "data": {
      "application/vnd.jupyter.widget-view+json": {
       "model_id": "",
       "version_major": 2,
       "version_minor": 0
      },
      "text/plain": [
       "HBox(children=(FloatProgress(value=0.0, description='Training', layout=Layout(flex='2'), max=1125.0, style=Pro…"
      ]
     },
     "metadata": {},
     "output_type": "display_data"
    },
    {
     "name": "stdout",
     "output_type": "stream",
     "text": [
      "Epoch 158: train=2.22941, val=2.18597, took 44.249 s\n",
      "  Validation Found 8990 of 10819, added 1023 (eff 83.09%) (0.511 FP/event)\n"
     ]
    },
    {
     "data": {
      "application/vnd.jupyter.widget-view+json": {
       "model_id": "",
       "version_major": 2,
       "version_minor": 0
      },
      "text/plain": [
       "HBox(children=(FloatProgress(value=0.0, description='Training', layout=Layout(flex='2'), max=1125.0, style=Pro…"
      ]
     },
     "metadata": {},
     "output_type": "display_data"
    },
    {
     "name": "stdout",
     "output_type": "stream",
     "text": [
      "Epoch 159: train=2.22856, val=2.18469, took 44.202 s\n",
      "  Validation Found 8993 of 10819, added 1029 (eff 83.12%) (0.514 FP/event)\n"
     ]
    },
    {
     "data": {
      "application/vnd.jupyter.widget-view+json": {
       "model_id": "",
       "version_major": 2,
       "version_minor": 0
      },
      "text/plain": [
       "HBox(children=(FloatProgress(value=0.0, description='Training', layout=Layout(flex='2'), max=1125.0, style=Pro…"
      ]
     },
     "metadata": {},
     "output_type": "display_data"
    },
    {
     "name": "stdout",
     "output_type": "stream",
     "text": [
      "Epoch 160: train=2.23157, val=2.18456, took 44.184 s\n",
      "  Validation Found 8993 of 10819, added 1024 (eff 83.12%) (0.512 FP/event)\n"
     ]
    },
    {
     "data": {
      "application/vnd.jupyter.widget-view+json": {
       "model_id": "",
       "version_major": 2,
       "version_minor": 0
      },
      "text/plain": [
       "HBox(children=(FloatProgress(value=0.0, description='Training', layout=Layout(flex='2'), max=1125.0, style=Pro…"
      ]
     },
     "metadata": {},
     "output_type": "display_data"
    },
    {
     "name": "stdout",
     "output_type": "stream",
     "text": [
      "Epoch 161: train=2.22324, val=2.18393, took 44.176 s\n",
      "  Validation Found 8992 of 10819, added 1022 (eff 83.11%) (0.511 FP/event)\n"
     ]
    },
    {
     "data": {
      "application/vnd.jupyter.widget-view+json": {
       "model_id": "",
       "version_major": 2,
       "version_minor": 0
      },
      "text/plain": [
       "HBox(children=(FloatProgress(value=0.0, description='Training', layout=Layout(flex='2'), max=1125.0, style=Pro…"
      ]
     },
     "metadata": {},
     "output_type": "display_data"
    },
    {
     "name": "stdout",
     "output_type": "stream",
     "text": [
      "Epoch 162: train=2.2303, val=2.1844, took 44.14 s\n",
      "  Validation Found 8993 of 10819, added 1019 (eff 83.12%) (0.509 FP/event)\n"
     ]
    },
    {
     "data": {
      "application/vnd.jupyter.widget-view+json": {
       "model_id": "",
       "version_major": 2,
       "version_minor": 0
      },
      "text/plain": [
       "HBox(children=(FloatProgress(value=0.0, description='Training', layout=Layout(flex='2'), max=1125.0, style=Pro…"
      ]
     },
     "metadata": {},
     "output_type": "display_data"
    },
    {
     "name": "stdout",
     "output_type": "stream",
     "text": [
      "Epoch 163: train=2.22853, val=2.18542, took 44.199 s\n",
      "  Validation Found 8995 of 10819, added 1027 (eff 83.14%) (0.513 FP/event)\n"
     ]
    },
    {
     "data": {
      "application/vnd.jupyter.widget-view+json": {
       "model_id": "",
       "version_major": 2,
       "version_minor": 0
      },
      "text/plain": [
       "HBox(children=(FloatProgress(value=0.0, description='Training', layout=Layout(flex='2'), max=1125.0, style=Pro…"
      ]
     },
     "metadata": {},
     "output_type": "display_data"
    },
    {
     "name": "stdout",
     "output_type": "stream",
     "text": [
      "Epoch 164: train=2.22527, val=2.18504, took 44.193 s\n",
      "  Validation Found 8999 of 10819, added 1020 (eff 83.18%) (0.51 FP/event)\n"
     ]
    },
    {
     "data": {
      "application/vnd.jupyter.widget-view+json": {
       "model_id": "",
       "version_major": 2,
       "version_minor": 0
      },
      "text/plain": [
       "HBox(children=(FloatProgress(value=0.0, description='Training', layout=Layout(flex='2'), max=1125.0, style=Pro…"
      ]
     },
     "metadata": {},
     "output_type": "display_data"
    },
    {
     "name": "stdout",
     "output_type": "stream",
     "text": [
      "Epoch 165: train=2.22435, val=2.18818, took 44.05 s\n",
      "  Validation Found 8983 of 10819, added 1029 (eff 83.03%) (0.514 FP/event)\n"
     ]
    },
    {
     "data": {
      "application/vnd.jupyter.widget-view+json": {
       "model_id": "",
       "version_major": 2,
       "version_minor": 0
      },
      "text/plain": [
       "HBox(children=(FloatProgress(value=0.0, description='Training', layout=Layout(flex='2'), max=1125.0, style=Pro…"
      ]
     },
     "metadata": {},
     "output_type": "display_data"
    },
    {
     "name": "stdout",
     "output_type": "stream",
     "text": [
      "Epoch 166: train=2.23066, val=2.18647, took 44.206 s\n",
      "  Validation Found 8999 of 10819, added 1020 (eff 83.18%) (0.51 FP/event)\n"
     ]
    },
    {
     "data": {
      "application/vnd.jupyter.widget-view+json": {
       "model_id": "",
       "version_major": 2,
       "version_minor": 0
      },
      "text/plain": [
       "HBox(children=(FloatProgress(value=0.0, description='Training', layout=Layout(flex='2'), max=1125.0, style=Pro…"
      ]
     },
     "metadata": {},
     "output_type": "display_data"
    },
    {
     "name": "stdout",
     "output_type": "stream",
     "text": [
      "Epoch 167: train=2.22918, val=2.18707, took 44.105 s\n",
      "  Validation Found 8998 of 10819, added 1021 (eff 83.17%) (0.51 FP/event)\n"
     ]
    },
    {
     "data": {
      "application/vnd.jupyter.widget-view+json": {
       "model_id": "",
       "version_major": 2,
       "version_minor": 0
      },
      "text/plain": [
       "HBox(children=(FloatProgress(value=0.0, description='Training', layout=Layout(flex='2'), max=1125.0, style=Pro…"
      ]
     },
     "metadata": {},
     "output_type": "display_data"
    },
    {
     "name": "stdout",
     "output_type": "stream",
     "text": [
      "Epoch 168: train=2.22502, val=2.18465, took 44.11 s\n",
      "  Validation Found 8996 of 10819, added 1019 (eff 83.15%) (0.509 FP/event)\n"
     ]
    },
    {
     "data": {
      "application/vnd.jupyter.widget-view+json": {
       "model_id": "",
       "version_major": 2,
       "version_minor": 0
      },
      "text/plain": [
       "HBox(children=(FloatProgress(value=0.0, description='Training', layout=Layout(flex='2'), max=1125.0, style=Pro…"
      ]
     },
     "metadata": {},
     "output_type": "display_data"
    },
    {
     "name": "stdout",
     "output_type": "stream",
     "text": [
      "Epoch 169: train=2.23055, val=2.18501, took 44.122 s\n",
      "  Validation Found 8986 of 10819, added 1017 (eff 83.06%) (0.508 FP/event)\n"
     ]
    },
    {
     "data": {
      "application/vnd.jupyter.widget-view+json": {
       "model_id": "",
       "version_major": 2,
       "version_minor": 0
      },
      "text/plain": [
       "HBox(children=(FloatProgress(value=0.0, description='Training', layout=Layout(flex='2'), max=1125.0, style=Pro…"
      ]
     },
     "metadata": {},
     "output_type": "display_data"
    },
    {
     "name": "stdout",
     "output_type": "stream",
     "text": [
      "Epoch 170: train=2.22677, val=2.18435, took 44.078 s\n",
      "  Validation Found 8997 of 10819, added 1016 (eff 83.16%) (0.508 FP/event)\n"
     ]
    },
    {
     "data": {
      "application/vnd.jupyter.widget-view+json": {
       "model_id": "",
       "version_major": 2,
       "version_minor": 0
      },
      "text/plain": [
       "HBox(children=(FloatProgress(value=0.0, description='Training', layout=Layout(flex='2'), max=1125.0, style=Pro…"
      ]
     },
     "metadata": {},
     "output_type": "display_data"
    },
    {
     "name": "stdout",
     "output_type": "stream",
     "text": [
      "Epoch 171: train=2.22965, val=2.18666, took 44.006 s\n",
      "  Validation Found 8992 of 10819, added 1019 (eff 83.11%) (0.509 FP/event)\n"
     ]
    },
    {
     "data": {
      "application/vnd.jupyter.widget-view+json": {
       "model_id": "",
       "version_major": 2,
       "version_minor": 0
      },
      "text/plain": [
       "HBox(children=(FloatProgress(value=0.0, description='Training', layout=Layout(flex='2'), max=1125.0, style=Pro…"
      ]
     },
     "metadata": {},
     "output_type": "display_data"
    },
    {
     "name": "stdout",
     "output_type": "stream",
     "text": [
      "Epoch 172: train=2.22416, val=2.18367, took 44.042 s\n",
      "  Validation Found 8996 of 10819, added 1018 (eff 83.15%) (0.509 FP/event)\n"
     ]
    },
    {
     "data": {
      "application/vnd.jupyter.widget-view+json": {
       "model_id": "",
       "version_major": 2,
       "version_minor": 0
      },
      "text/plain": [
       "HBox(children=(FloatProgress(value=0.0, description='Training', layout=Layout(flex='2'), max=1125.0, style=Pro…"
      ]
     },
     "metadata": {},
     "output_type": "display_data"
    },
    {
     "name": "stdout",
     "output_type": "stream",
     "text": [
      "Epoch 173: train=2.22681, val=2.18395, took 44.07 s\n",
      "  Validation Found 9005 of 10819, added 1026 (eff 83.23%) (0.513 FP/event)\n"
     ]
    },
    {
     "data": {
      "application/vnd.jupyter.widget-view+json": {
       "model_id": "",
       "version_major": 2,
       "version_minor": 0
      },
      "text/plain": [
       "HBox(children=(FloatProgress(value=0.0, description='Training', layout=Layout(flex='2'), max=1125.0, style=Pro…"
      ]
     },
     "metadata": {},
     "output_type": "display_data"
    },
    {
     "name": "stdout",
     "output_type": "stream",
     "text": [
      "Epoch 174: train=2.22159, val=2.18379, took 44.063 s\n",
      "  Validation Found 8998 of 10819, added 1020 (eff 83.17%) (0.51 FP/event)\n"
     ]
    },
    {
     "data": {
      "application/vnd.jupyter.widget-view+json": {
       "model_id": "",
       "version_major": 2,
       "version_minor": 0
      },
      "text/plain": [
       "HBox(children=(FloatProgress(value=0.0, description='Training', layout=Layout(flex='2'), max=1125.0, style=Pro…"
      ]
     },
     "metadata": {},
     "output_type": "display_data"
    },
    {
     "name": "stdout",
     "output_type": "stream",
     "text": [
      "Epoch 175: train=2.22517, val=2.18455, took 44.122 s\n",
      "  Validation Found 9006 of 10819, added 1015 (eff 83.24%) (0.507 FP/event)\n"
     ]
    },
    {
     "data": {
      "application/vnd.jupyter.widget-view+json": {
       "model_id": "",
       "version_major": 2,
       "version_minor": 0
      },
      "text/plain": [
       "HBox(children=(FloatProgress(value=0.0, description='Training', layout=Layout(flex='2'), max=1125.0, style=Pro…"
      ]
     },
     "metadata": {},
     "output_type": "display_data"
    },
    {
     "name": "stdout",
     "output_type": "stream",
     "text": [
      "Epoch 176: train=2.22799, val=2.18354, took 44.298 s\n",
      "  Validation Found 9007 of 10819, added 1019 (eff 83.25%) (0.509 FP/event)\n"
     ]
    },
    {
     "data": {
      "application/vnd.jupyter.widget-view+json": {
       "model_id": "",
       "version_major": 2,
       "version_minor": 0
      },
      "text/plain": [
       "HBox(children=(FloatProgress(value=0.0, description='Training', layout=Layout(flex='2'), max=1125.0, style=Pro…"
      ]
     },
     "metadata": {},
     "output_type": "display_data"
    },
    {
     "name": "stdout",
     "output_type": "stream",
     "text": [
      "Epoch 177: train=2.22381, val=2.18256, took 44.246 s\n",
      "  Validation Found 9008 of 10819, added 1020 (eff 83.26%) (0.51 FP/event)\n"
     ]
    },
    {
     "data": {
      "application/vnd.jupyter.widget-view+json": {
       "model_id": "",
       "version_major": 2,
       "version_minor": 0
      },
      "text/plain": [
       "HBox(children=(FloatProgress(value=0.0, description='Training', layout=Layout(flex='2'), max=1125.0, style=Pro…"
      ]
     },
     "metadata": {},
     "output_type": "display_data"
    },
    {
     "name": "stdout",
     "output_type": "stream",
     "text": [
      "Epoch 178: train=2.22387, val=2.1838, took 44.071 s\n",
      "  Validation Found 9006 of 10819, added 1026 (eff 83.24%) (0.513 FP/event)\n"
     ]
    },
    {
     "data": {
      "application/vnd.jupyter.widget-view+json": {
       "model_id": "",
       "version_major": 2,
       "version_minor": 0
      },
      "text/plain": [
       "HBox(children=(FloatProgress(value=0.0, description='Training', layout=Layout(flex='2'), max=1125.0, style=Pro…"
      ]
     },
     "metadata": {},
     "output_type": "display_data"
    },
    {
     "name": "stdout",
     "output_type": "stream",
     "text": [
      "Epoch 179: train=2.22688, val=2.18423, took 44.094 s\n",
      "  Validation Found 9005 of 10819, added 1025 (eff 83.23%) (0.512 FP/event)\n"
     ]
    },
    {
     "data": {
      "application/vnd.jupyter.widget-view+json": {
       "model_id": "",
       "version_major": 2,
       "version_minor": 0
      },
      "text/plain": [
       "HBox(children=(FloatProgress(value=0.0, description='Training', layout=Layout(flex='2'), max=1125.0, style=Pro…"
      ]
     },
     "metadata": {},
     "output_type": "display_data"
    },
    {
     "name": "stdout",
     "output_type": "stream",
     "text": [
      "Epoch 180: train=2.21974, val=2.18327, took 44.096 s\n",
      "  Validation Found 8988 of 10819, added 1023 (eff 83.08%) (0.511 FP/event)\n"
     ]
    },
    {
     "data": {
      "application/vnd.jupyter.widget-view+json": {
       "model_id": "",
       "version_major": 2,
       "version_minor": 0
      },
      "text/plain": [
       "HBox(children=(FloatProgress(value=0.0, description='Training', layout=Layout(flex='2'), max=1125.0, style=Pro…"
      ]
     },
     "metadata": {},
     "output_type": "display_data"
    },
    {
     "name": "stdout",
     "output_type": "stream",
     "text": [
      "Epoch 181: train=2.22229, val=2.18133, took 44.168 s\n",
      "  Validation Found 8997 of 10819, added 1022 (eff 83.16%) (0.511 FP/event)\n"
     ]
    },
    {
     "data": {
      "application/vnd.jupyter.widget-view+json": {
       "model_id": "",
       "version_major": 2,
       "version_minor": 0
      },
      "text/plain": [
       "HBox(children=(FloatProgress(value=0.0, description='Training', layout=Layout(flex='2'), max=1125.0, style=Pro…"
      ]
     },
     "metadata": {},
     "output_type": "display_data"
    },
    {
     "name": "stdout",
     "output_type": "stream",
     "text": [
      "Epoch 182: train=2.2235, val=2.18302, took 44.206 s\n",
      "  Validation Found 9014 of 10819, added 1024 (eff 83.32%) (0.512 FP/event)\n"
     ]
    },
    {
     "data": {
      "application/vnd.jupyter.widget-view+json": {
       "model_id": "",
       "version_major": 2,
       "version_minor": 0
      },
      "text/plain": [
       "HBox(children=(FloatProgress(value=0.0, description='Training', layout=Layout(flex='2'), max=1125.0, style=Pro…"
      ]
     },
     "metadata": {},
     "output_type": "display_data"
    },
    {
     "name": "stdout",
     "output_type": "stream",
     "text": [
      "Epoch 183: train=2.2225, val=2.18159, took 44.143 s\n",
      "  Validation Found 9013 of 10819, added 1022 (eff 83.31%) (0.511 FP/event)\n"
     ]
    },
    {
     "data": {
      "application/vnd.jupyter.widget-view+json": {
       "model_id": "",
       "version_major": 2,
       "version_minor": 0
      },
      "text/plain": [
       "HBox(children=(FloatProgress(value=0.0, description='Training', layout=Layout(flex='2'), max=1125.0, style=Pro…"
      ]
     },
     "metadata": {},
     "output_type": "display_data"
    },
    {
     "name": "stdout",
     "output_type": "stream",
     "text": [
      "Epoch 184: train=2.21818, val=2.18292, took 44.13 s\n",
      "  Validation Found 9010 of 10819, added 1025 (eff 83.28%) (0.512 FP/event)\n"
     ]
    },
    {
     "data": {
      "application/vnd.jupyter.widget-view+json": {
       "model_id": "",
       "version_major": 2,
       "version_minor": 0
      },
      "text/plain": [
       "HBox(children=(FloatProgress(value=0.0, description='Training', layout=Layout(flex='2'), max=1125.0, style=Pro…"
      ]
     },
     "metadata": {},
     "output_type": "display_data"
    },
    {
     "name": "stdout",
     "output_type": "stream",
     "text": [
      "Epoch 185: train=2.22015, val=2.18343, took 44.161 s\n",
      "  Validation Found 9010 of 10819, added 1026 (eff 83.28%) (0.513 FP/event)\n"
     ]
    },
    {
     "data": {
      "application/vnd.jupyter.widget-view+json": {
       "model_id": "",
       "version_major": 2,
       "version_minor": 0
      },
      "text/plain": [
       "HBox(children=(FloatProgress(value=0.0, description='Training', layout=Layout(flex='2'), max=1125.0, style=Pro…"
      ]
     },
     "metadata": {},
     "output_type": "display_data"
    },
    {
     "name": "stdout",
     "output_type": "stream",
     "text": [
      "Epoch 186: train=2.22453, val=2.18097, took 44.13 s\n",
      "  Validation Found 8996 of 10819, added 1028 (eff 83.15%) (0.514 FP/event)\n"
     ]
    },
    {
     "data": {
      "application/vnd.jupyter.widget-view+json": {
       "model_id": "",
       "version_major": 2,
       "version_minor": 0
      },
      "text/plain": [
       "HBox(children=(FloatProgress(value=0.0, description='Training', layout=Layout(flex='2'), max=1125.0, style=Pro…"
      ]
     },
     "metadata": {},
     "output_type": "display_data"
    },
    {
     "name": "stdout",
     "output_type": "stream",
     "text": [
      "Epoch 187: train=2.21755, val=2.18115, took 44.009 s\n",
      "  Validation Found 8998 of 10819, added 1018 (eff 83.17%) (0.509 FP/event)\n"
     ]
    },
    {
     "data": {
      "application/vnd.jupyter.widget-view+json": {
       "model_id": "",
       "version_major": 2,
       "version_minor": 0
      },
      "text/plain": [
       "HBox(children=(FloatProgress(value=0.0, description='Training', layout=Layout(flex='2'), max=1125.0, style=Pro…"
      ]
     },
     "metadata": {},
     "output_type": "display_data"
    },
    {
     "name": "stdout",
     "output_type": "stream",
     "text": [
      "Epoch 188: train=2.21903, val=2.18118, took 44.07 s\n",
      "  Validation Found 9005 of 10819, added 1029 (eff 83.23%) (0.514 FP/event)\n"
     ]
    },
    {
     "data": {
      "application/vnd.jupyter.widget-view+json": {
       "model_id": "",
       "version_major": 2,
       "version_minor": 0
      },
      "text/plain": [
       "HBox(children=(FloatProgress(value=0.0, description='Training', layout=Layout(flex='2'), max=1125.0, style=Pro…"
      ]
     },
     "metadata": {},
     "output_type": "display_data"
    },
    {
     "name": "stdout",
     "output_type": "stream",
     "text": [
      "Epoch 189: train=2.22564, val=2.18154, took 44.093 s\n",
      "  Validation Found 9002 of 10819, added 1023 (eff 83.21%) (0.511 FP/event)\n"
     ]
    },
    {
     "data": {
      "application/vnd.jupyter.widget-view+json": {
       "model_id": "",
       "version_major": 2,
       "version_minor": 0
      },
      "text/plain": [
       "HBox(children=(FloatProgress(value=0.0, description='Training', layout=Layout(flex='2'), max=1125.0, style=Pro…"
      ]
     },
     "metadata": {},
     "output_type": "display_data"
    },
    {
     "name": "stdout",
     "output_type": "stream",
     "text": [
      "Epoch 190: train=2.21722, val=2.18647, took 44.084 s\n",
      "  Validation Found 8997 of 10819, added 1028 (eff 83.16%) (0.514 FP/event)\n"
     ]
    },
    {
     "data": {
      "application/vnd.jupyter.widget-view+json": {
       "model_id": "",
       "version_major": 2,
       "version_minor": 0
      },
      "text/plain": [
       "HBox(children=(FloatProgress(value=0.0, description='Training', layout=Layout(flex='2'), max=1125.0, style=Pro…"
      ]
     },
     "metadata": {},
     "output_type": "display_data"
    },
    {
     "name": "stdout",
     "output_type": "stream",
     "text": [
      "Epoch 191: train=2.21689, val=2.1814, took 44.175 s\n",
      "  Validation Found 9002 of 10819, added 1027 (eff 83.21%) (0.513 FP/event)\n"
     ]
    },
    {
     "data": {
      "application/vnd.jupyter.widget-view+json": {
       "model_id": "",
       "version_major": 2,
       "version_minor": 0
      },
      "text/plain": [
       "HBox(children=(FloatProgress(value=0.0, description='Training', layout=Layout(flex='2'), max=1125.0, style=Pro…"
      ]
     },
     "metadata": {},
     "output_type": "display_data"
    },
    {
     "name": "stdout",
     "output_type": "stream",
     "text": [
      "Epoch 192: train=2.22039, val=2.18527, took 44.185 s\n",
      "  Validation Found 9001 of 10819, added 1026 (eff 83.20%) (0.513 FP/event)\n"
     ]
    },
    {
     "data": {
      "application/vnd.jupyter.widget-view+json": {
       "model_id": "",
       "version_major": 2,
       "version_minor": 0
      },
      "text/plain": [
       "HBox(children=(FloatProgress(value=0.0, description='Training', layout=Layout(flex='2'), max=1125.0, style=Pro…"
      ]
     },
     "metadata": {},
     "output_type": "display_data"
    },
    {
     "name": "stdout",
     "output_type": "stream",
     "text": [
      "Epoch 193: train=2.21996, val=2.18011, took 44.131 s\n",
      "  Validation Found 9004 of 10819, added 1022 (eff 83.22%) (0.511 FP/event)\n"
     ]
    },
    {
     "data": {
      "application/vnd.jupyter.widget-view+json": {
       "model_id": "",
       "version_major": 2,
       "version_minor": 0
      },
      "text/plain": [
       "HBox(children=(FloatProgress(value=0.0, description='Training', layout=Layout(flex='2'), max=1125.0, style=Pro…"
      ]
     },
     "metadata": {},
     "output_type": "display_data"
    },
    {
     "name": "stdout",
     "output_type": "stream",
     "text": [
      "Epoch 194: train=2.22012, val=2.18021, took 44.097 s\n",
      "  Validation Found 9001 of 10819, added 1026 (eff 83.20%) (0.513 FP/event)\n"
     ]
    },
    {
     "data": {
      "application/vnd.jupyter.widget-view+json": {
       "model_id": "",
       "version_major": 2,
       "version_minor": 0
      },
      "text/plain": [
       "HBox(children=(FloatProgress(value=0.0, description='Training', layout=Layout(flex='2'), max=1125.0, style=Pro…"
      ]
     },
     "metadata": {},
     "output_type": "display_data"
    },
    {
     "name": "stdout",
     "output_type": "stream",
     "text": [
      "Epoch 195: train=2.21967, val=2.17952, took 43.928 s\n",
      "  Validation Found 9004 of 10819, added 1025 (eff 83.22%) (0.512 FP/event)\n"
     ]
    },
    {
     "data": {
      "application/vnd.jupyter.widget-view+json": {
       "model_id": "",
       "version_major": 2,
       "version_minor": 0
      },
      "text/plain": [
       "HBox(children=(FloatProgress(value=0.0, description='Training', layout=Layout(flex='2'), max=1125.0, style=Pro…"
      ]
     },
     "metadata": {},
     "output_type": "display_data"
    },
    {
     "name": "stdout",
     "output_type": "stream",
     "text": [
      "Epoch 196: train=2.22521, val=2.1788, took 44.04 s\n",
      "  Validation Found 9002 of 10819, added 1029 (eff 83.21%) (0.514 FP/event)\n"
     ]
    },
    {
     "data": {
      "application/vnd.jupyter.widget-view+json": {
       "model_id": "",
       "version_major": 2,
       "version_minor": 0
      },
      "text/plain": [
       "HBox(children=(FloatProgress(value=0.0, description='Training', layout=Layout(flex='2'), max=1125.0, style=Pro…"
      ]
     },
     "metadata": {},
     "output_type": "display_data"
    },
    {
     "name": "stdout",
     "output_type": "stream",
     "text": [
      "Epoch 197: train=2.22079, val=2.18119, took 44.297 s\n",
      "  Validation Found 8999 of 10819, added 1023 (eff 83.18%) (0.511 FP/event)\n"
     ]
    },
    {
     "data": {
      "application/vnd.jupyter.widget-view+json": {
       "model_id": "",
       "version_major": 2,
       "version_minor": 0
      },
      "text/plain": [
       "HBox(children=(FloatProgress(value=0.0, description='Training', layout=Layout(flex='2'), max=1125.0, style=Pro…"
      ]
     },
     "metadata": {},
     "output_type": "display_data"
    },
    {
     "name": "stdout",
     "output_type": "stream",
     "text": [
      "Epoch 198: train=2.21518, val=2.17914, took 44.219 s\n",
      "  Validation Found 8998 of 10819, added 1025 (eff 83.17%) (0.512 FP/event)\n"
     ]
    },
    {
     "data": {
      "application/vnd.jupyter.widget-view+json": {
       "model_id": "",
       "version_major": 2,
       "version_minor": 0
      },
      "text/plain": [
       "HBox(children=(FloatProgress(value=0.0, description='Training', layout=Layout(flex='2'), max=1125.0, style=Pro…"
      ]
     },
     "metadata": {},
     "output_type": "display_data"
    },
    {
     "name": "stdout",
     "output_type": "stream",
     "text": [
      "Epoch 199: train=2.22046, val=2.17928, took 44.123 s\n",
      "  Validation Found 9009 of 10819, added 1016 (eff 83.27%) (0.508 FP/event)\n"
     ]
    },
    {
     "data": {
      "application/vnd.jupyter.widget-view+json": {
       "model_id": "",
       "version_major": 2,
       "version_minor": 0
      },
      "text/plain": [
       "HBox(children=(FloatProgress(value=0.0, description='Training', layout=Layout(flex='2'), max=1125.0, style=Pro…"
      ]
     },
     "metadata": {},
     "output_type": "display_data"
    },
    {
     "name": "stdout",
     "output_type": "stream",
     "text": [
      "Epoch 200: train=2.21598, val=2.17885, took 44.128 s\n",
      "  Validation Found 8999 of 10819, added 1019 (eff 83.18%) (0.509 FP/event)\n"
     ]
    },
    {
     "data": {
      "application/vnd.jupyter.widget-view+json": {
       "model_id": "",
       "version_major": 2,
       "version_minor": 0
      },
      "text/plain": [
       "HBox(children=(FloatProgress(value=0.0, description='Training', layout=Layout(flex='2'), max=1125.0, style=Pro…"
      ]
     },
     "metadata": {},
     "output_type": "display_data"
    },
    {
     "name": "stdout",
     "output_type": "stream",
     "text": [
      "Epoch 201: train=2.21488, val=2.17895, took 44.14 s\n",
      "  Validation Found 8998 of 10819, added 1018 (eff 83.17%) (0.509 FP/event)\n"
     ]
    },
    {
     "data": {
      "application/vnd.jupyter.widget-view+json": {
       "model_id": "",
       "version_major": 2,
       "version_minor": 0
      },
      "text/plain": [
       "HBox(children=(FloatProgress(value=0.0, description='Training', layout=Layout(flex='2'), max=1125.0, style=Pro…"
      ]
     },
     "metadata": {},
     "output_type": "display_data"
    },
    {
     "name": "stdout",
     "output_type": "stream",
     "text": [
      "Epoch 202: train=2.21749, val=2.17945, took 44.238 s\n",
      "  Validation Found 9003 of 10819, added 1015 (eff 83.21%) (0.507 FP/event)\n"
     ]
    },
    {
     "data": {
      "application/vnd.jupyter.widget-view+json": {
       "model_id": "",
       "version_major": 2,
       "version_minor": 0
      },
      "text/plain": [
       "HBox(children=(FloatProgress(value=0.0, description='Training', layout=Layout(flex='2'), max=1125.0, style=Pro…"
      ]
     },
     "metadata": {},
     "output_type": "display_data"
    },
    {
     "name": "stdout",
     "output_type": "stream",
     "text": [
      "Epoch 203: train=2.21694, val=2.17854, took 44.145 s\n",
      "  Validation Found 9008 of 10819, added 1011 (eff 83.26%) (0.505 FP/event)\n"
     ]
    },
    {
     "data": {
      "application/vnd.jupyter.widget-view+json": {
       "model_id": "",
       "version_major": 2,
       "version_minor": 0
      },
      "text/plain": [
       "HBox(children=(FloatProgress(value=0.0, description='Training', layout=Layout(flex='2'), max=1125.0, style=Pro…"
      ]
     },
     "metadata": {},
     "output_type": "display_data"
    },
    {
     "name": "stdout",
     "output_type": "stream",
     "text": [
      "Epoch 204: train=2.21896, val=2.17905, took 44.211 s\n",
      "  Validation Found 9002 of 10819, added 1023 (eff 83.21%) (0.511 FP/event)\n"
     ]
    },
    {
     "data": {
      "application/vnd.jupyter.widget-view+json": {
       "model_id": "",
       "version_major": 2,
       "version_minor": 0
      },
      "text/plain": [
       "HBox(children=(FloatProgress(value=0.0, description='Training', layout=Layout(flex='2'), max=1125.0, style=Pro…"
      ]
     },
     "metadata": {},
     "output_type": "display_data"
    },
    {
     "name": "stdout",
     "output_type": "stream",
     "text": [
      "Epoch 205: train=2.2206, val=2.18065, took 44.024 s\n",
      "  Validation Found 8998 of 10819, added 1026 (eff 83.17%) (0.513 FP/event)\n"
     ]
    },
    {
     "data": {
      "application/vnd.jupyter.widget-view+json": {
       "model_id": "",
       "version_major": 2,
       "version_minor": 0
      },
      "text/plain": [
       "HBox(children=(FloatProgress(value=0.0, description='Training', layout=Layout(flex='2'), max=1125.0, style=Pro…"
      ]
     },
     "metadata": {},
     "output_type": "display_data"
    },
    {
     "name": "stdout",
     "output_type": "stream",
     "text": [
      "Epoch 206: train=2.21994, val=2.18055, took 44.099 s\n",
      "  Validation Found 9005 of 10819, added 1026 (eff 83.23%) (0.513 FP/event)\n"
     ]
    },
    {
     "data": {
      "application/vnd.jupyter.widget-view+json": {
       "model_id": "",
       "version_major": 2,
       "version_minor": 0
      },
      "text/plain": [
       "HBox(children=(FloatProgress(value=0.0, description='Training', layout=Layout(flex='2'), max=1125.0, style=Pro…"
      ]
     },
     "metadata": {},
     "output_type": "display_data"
    },
    {
     "name": "stdout",
     "output_type": "stream",
     "text": [
      "Epoch 207: train=2.21853, val=2.17741, took 43.959 s\n",
      "  Validation Found 9007 of 10819, added 1021 (eff 83.25%) (0.51 FP/event)\n"
     ]
    },
    {
     "data": {
      "application/vnd.jupyter.widget-view+json": {
       "model_id": "",
       "version_major": 2,
       "version_minor": 0
      },
      "text/plain": [
       "HBox(children=(FloatProgress(value=0.0, description='Training', layout=Layout(flex='2'), max=1125.0, style=Pro…"
      ]
     },
     "metadata": {},
     "output_type": "display_data"
    },
    {
     "name": "stdout",
     "output_type": "stream",
     "text": [
      "Epoch 208: train=2.21401, val=2.17962, took 44.218 s\n",
      "  Validation Found 9009 of 10819, added 1025 (eff 83.27%) (0.512 FP/event)\n"
     ]
    },
    {
     "data": {
      "application/vnd.jupyter.widget-view+json": {
       "model_id": "",
       "version_major": 2,
       "version_minor": 0
      },
      "text/plain": [
       "HBox(children=(FloatProgress(value=0.0, description='Training', layout=Layout(flex='2'), max=1125.0, style=Pro…"
      ]
     },
     "metadata": {},
     "output_type": "display_data"
    },
    {
     "name": "stdout",
     "output_type": "stream",
     "text": [
      "Epoch 209: train=2.21442, val=2.18187, took 44.064 s\n",
      "  Validation Found 9009 of 10819, added 1025 (eff 83.27%) (0.512 FP/event)\n"
     ]
    },
    {
     "data": {
      "application/vnd.jupyter.widget-view+json": {
       "model_id": "",
       "version_major": 2,
       "version_minor": 0
      },
      "text/plain": [
       "HBox(children=(FloatProgress(value=0.0, description='Training', layout=Layout(flex='2'), max=1125.0, style=Pro…"
      ]
     },
     "metadata": {},
     "output_type": "display_data"
    },
    {
     "name": "stdout",
     "output_type": "stream",
     "text": [
      "Epoch 210: train=2.22108, val=2.17763, took 44.304 s\n",
      "  Validation Found 9020 of 10819, added 1018 (eff 83.37%) (0.509 FP/event)\n"
     ]
    },
    {
     "data": {
      "application/vnd.jupyter.widget-view+json": {
       "model_id": "",
       "version_major": 2,
       "version_minor": 0
      },
      "text/plain": [
       "HBox(children=(FloatProgress(value=0.0, description='Training', layout=Layout(flex='2'), max=1125.0, style=Pro…"
      ]
     },
     "metadata": {},
     "output_type": "display_data"
    },
    {
     "name": "stdout",
     "output_type": "stream",
     "text": [
      "Epoch 211: train=2.21665, val=2.17646, took 44.229 s\n",
      "  Validation Found 9018 of 10819, added 1020 (eff 83.35%) (0.51 FP/event)\n"
     ]
    },
    {
     "data": {
      "application/vnd.jupyter.widget-view+json": {
       "model_id": "",
       "version_major": 2,
       "version_minor": 0
      },
      "text/plain": [
       "HBox(children=(FloatProgress(value=0.0, description='Training', layout=Layout(flex='2'), max=1125.0, style=Pro…"
      ]
     },
     "metadata": {},
     "output_type": "display_data"
    },
    {
     "name": "stdout",
     "output_type": "stream",
     "text": [
      "Epoch 212: train=2.21752, val=2.18371, took 44.27 s\n",
      "  Validation Found 9013 of 10819, added 1025 (eff 83.31%) (0.512 FP/event)\n"
     ]
    },
    {
     "data": {
      "application/vnd.jupyter.widget-view+json": {
       "model_id": "",
       "version_major": 2,
       "version_minor": 0
      },
      "text/plain": [
       "HBox(children=(FloatProgress(value=0.0, description='Training', layout=Layout(flex='2'), max=1125.0, style=Pro…"
      ]
     },
     "metadata": {},
     "output_type": "display_data"
    },
    {
     "name": "stdout",
     "output_type": "stream",
     "text": [
      "Epoch 213: train=2.21228, val=2.17817, took 44.186 s\n",
      "  Validation Found 9015 of 10819, added 1023 (eff 83.33%) (0.511 FP/event)\n"
     ]
    },
    {
     "data": {
      "application/vnd.jupyter.widget-view+json": {
       "model_id": "",
       "version_major": 2,
       "version_minor": 0
      },
      "text/plain": [
       "HBox(children=(FloatProgress(value=0.0, description='Training', layout=Layout(flex='2'), max=1125.0, style=Pro…"
      ]
     },
     "metadata": {},
     "output_type": "display_data"
    },
    {
     "name": "stdout",
     "output_type": "stream",
     "text": [
      "Epoch 214: train=2.22123, val=2.17837, took 44.091 s\n",
      "  Validation Found 9007 of 10819, added 1022 (eff 83.25%) (0.511 FP/event)\n"
     ]
    },
    {
     "data": {
      "application/vnd.jupyter.widget-view+json": {
       "model_id": "",
       "version_major": 2,
       "version_minor": 0
      },
      "text/plain": [
       "HBox(children=(FloatProgress(value=0.0, description='Training', layout=Layout(flex='2'), max=1125.0, style=Pro…"
      ]
     },
     "metadata": {},
     "output_type": "display_data"
    },
    {
     "name": "stdout",
     "output_type": "stream",
     "text": [
      "Epoch 215: train=2.21774, val=2.17653, took 44.06 s\n",
      "  Validation Found 9013 of 10819, added 1010 (eff 83.31%) (0.505 FP/event)\n"
     ]
    },
    {
     "data": {
      "application/vnd.jupyter.widget-view+json": {
       "model_id": "",
       "version_major": 2,
       "version_minor": 0
      },
      "text/plain": [
       "HBox(children=(FloatProgress(value=0.0, description='Training', layout=Layout(flex='2'), max=1125.0, style=Pro…"
      ]
     },
     "metadata": {},
     "output_type": "display_data"
    },
    {
     "name": "stdout",
     "output_type": "stream",
     "text": [
      "Epoch 216: train=2.21545, val=2.17681, took 44.041 s\n",
      "  Validation Found 9005 of 10819, added 1020 (eff 83.23%) (0.51 FP/event)\n"
     ]
    },
    {
     "data": {
      "application/vnd.jupyter.widget-view+json": {
       "model_id": "",
       "version_major": 2,
       "version_minor": 0
      },
      "text/plain": [
       "HBox(children=(FloatProgress(value=0.0, description='Training', layout=Layout(flex='2'), max=1125.0, style=Pro…"
      ]
     },
     "metadata": {},
     "output_type": "display_data"
    },
    {
     "name": "stdout",
     "output_type": "stream",
     "text": [
      "Epoch 217: train=2.2145, val=2.17894, took 44.144 s\n",
      "  Validation Found 9003 of 10819, added 1011 (eff 83.21%) (0.505 FP/event)\n"
     ]
    },
    {
     "data": {
      "application/vnd.jupyter.widget-view+json": {
       "model_id": "",
       "version_major": 2,
       "version_minor": 0
      },
      "text/plain": [
       "HBox(children=(FloatProgress(value=0.0, description='Training', layout=Layout(flex='2'), max=1125.0, style=Pro…"
      ]
     },
     "metadata": {},
     "output_type": "display_data"
    },
    {
     "name": "stdout",
     "output_type": "stream",
     "text": [
      "Epoch 218: train=2.21361, val=2.17564, took 44.119 s\n",
      "  Validation Found 9010 of 10819, added 1010 (eff 83.28%) (0.505 FP/event)\n"
     ]
    },
    {
     "data": {
      "application/vnd.jupyter.widget-view+json": {
       "model_id": "",
       "version_major": 2,
       "version_minor": 0
      },
      "text/plain": [
       "HBox(children=(FloatProgress(value=0.0, description='Training', layout=Layout(flex='2'), max=1125.0, style=Pro…"
      ]
     },
     "metadata": {},
     "output_type": "display_data"
    },
    {
     "name": "stdout",
     "output_type": "stream",
     "text": [
      "Epoch 219: train=2.21584, val=2.17646, took 44.113 s\n",
      "  Validation Found 9010 of 10819, added 1025 (eff 83.28%) (0.512 FP/event)\n"
     ]
    },
    {
     "data": {
      "application/vnd.jupyter.widget-view+json": {
       "model_id": "",
       "version_major": 2,
       "version_minor": 0
      },
      "text/plain": [
       "HBox(children=(FloatProgress(value=0.0, description='Training', layout=Layout(flex='2'), max=1125.0, style=Pro…"
      ]
     },
     "metadata": {},
     "output_type": "display_data"
    },
    {
     "name": "stdout",
     "output_type": "stream",
     "text": [
      "Epoch 220: train=2.21481, val=2.17742, took 44.171 s\n",
      "  Validation Found 9001 of 10819, added 1024 (eff 83.20%) (0.512 FP/event)\n"
     ]
    },
    {
     "data": {
      "application/vnd.jupyter.widget-view+json": {
       "model_id": "",
       "version_major": 2,
       "version_minor": 0
      },
      "text/plain": [
       "HBox(children=(FloatProgress(value=0.0, description='Training', layout=Layout(flex='2'), max=1125.0, style=Pro…"
      ]
     },
     "metadata": {},
     "output_type": "display_data"
    },
    {
     "name": "stdout",
     "output_type": "stream",
     "text": [
      "Epoch 221: train=2.21372, val=2.17604, took 44.022 s\n",
      "  Validation Found 9006 of 10819, added 1021 (eff 83.24%) (0.51 FP/event)\n"
     ]
    },
    {
     "data": {
      "application/vnd.jupyter.widget-view+json": {
       "model_id": "",
       "version_major": 2,
       "version_minor": 0
      },
      "text/plain": [
       "HBox(children=(FloatProgress(value=0.0, description='Training', layout=Layout(flex='2'), max=1125.0, style=Pro…"
      ]
     },
     "metadata": {},
     "output_type": "display_data"
    },
    {
     "name": "stdout",
     "output_type": "stream",
     "text": [
      "Epoch 222: train=2.21241, val=2.17735, took 44.117 s\n",
      "  Validation Found 9007 of 10819, added 1024 (eff 83.25%) (0.512 FP/event)\n"
     ]
    },
    {
     "data": {
      "application/vnd.jupyter.widget-view+json": {
       "model_id": "",
       "version_major": 2,
       "version_minor": 0
      },
      "text/plain": [
       "HBox(children=(FloatProgress(value=0.0, description='Training', layout=Layout(flex='2'), max=1125.0, style=Pro…"
      ]
     },
     "metadata": {},
     "output_type": "display_data"
    },
    {
     "name": "stdout",
     "output_type": "stream",
     "text": [
      "Epoch 223: train=2.21317, val=2.17657, took 44.045 s\n",
      "  Validation Found 9002 of 10819, added 1024 (eff 83.21%) (0.512 FP/event)\n"
     ]
    },
    {
     "data": {
      "application/vnd.jupyter.widget-view+json": {
       "model_id": "",
       "version_major": 2,
       "version_minor": 0
      },
      "text/plain": [
       "HBox(children=(FloatProgress(value=0.0, description='Training', layout=Layout(flex='2'), max=1125.0, style=Pro…"
      ]
     },
     "metadata": {},
     "output_type": "display_data"
    },
    {
     "name": "stdout",
     "output_type": "stream",
     "text": [
      "Epoch 224: train=2.21668, val=2.17639, took 44.076 s\n",
      "  Validation Found 9005 of 10819, added 1025 (eff 83.23%) (0.512 FP/event)\n"
     ]
    },
    {
     "data": {
      "application/vnd.jupyter.widget-view+json": {
       "model_id": "",
       "version_major": 2,
       "version_minor": 0
      },
      "text/plain": [
       "HBox(children=(FloatProgress(value=0.0, description='Training', layout=Layout(flex='2'), max=1125.0, style=Pro…"
      ]
     },
     "metadata": {},
     "output_type": "display_data"
    },
    {
     "name": "stdout",
     "output_type": "stream",
     "text": [
      "Epoch 225: train=2.21217, val=2.18387, took 44.034 s\n",
      "  Validation Found 9011 of 10819, added 1020 (eff 83.29%) (0.51 FP/event)\n"
     ]
    },
    {
     "data": {
      "application/vnd.jupyter.widget-view+json": {
       "model_id": "",
       "version_major": 2,
       "version_minor": 0
      },
      "text/plain": [
       "HBox(children=(FloatProgress(value=0.0, description='Training', layout=Layout(flex='2'), max=1125.0, style=Pro…"
      ]
     },
     "metadata": {},
     "output_type": "display_data"
    },
    {
     "name": "stdout",
     "output_type": "stream",
     "text": [
      "Epoch 226: train=2.21241, val=2.17877, took 44.101 s\n",
      "  Validation Found 9010 of 10819, added 1022 (eff 83.28%) (0.511 FP/event)\n"
     ]
    },
    {
     "data": {
      "application/vnd.jupyter.widget-view+json": {
       "model_id": "",
       "version_major": 2,
       "version_minor": 0
      },
      "text/plain": [
       "HBox(children=(FloatProgress(value=0.0, description='Training', layout=Layout(flex='2'), max=1125.0, style=Pro…"
      ]
     },
     "metadata": {},
     "output_type": "display_data"
    },
    {
     "name": "stdout",
     "output_type": "stream",
     "text": [
      "Epoch 227: train=2.21135, val=2.17531, took 43.906 s\n",
      "  Validation Found 9001 of 10819, added 1014 (eff 83.20%) (0.507 FP/event)\n"
     ]
    },
    {
     "data": {
      "application/vnd.jupyter.widget-view+json": {
       "model_id": "",
       "version_major": 2,
       "version_minor": 0
      },
      "text/plain": [
       "HBox(children=(FloatProgress(value=0.0, description='Training', layout=Layout(flex='2'), max=1125.0, style=Pro…"
      ]
     },
     "metadata": {},
     "output_type": "display_data"
    },
    {
     "name": "stdout",
     "output_type": "stream",
     "text": [
      "Epoch 228: train=2.21257, val=2.17548, took 44.053 s\n",
      "  Validation Found 8996 of 10819, added 1014 (eff 83.15%) (0.507 FP/event)\n"
     ]
    },
    {
     "data": {
      "application/vnd.jupyter.widget-view+json": {
       "model_id": "",
       "version_major": 2,
       "version_minor": 0
      },
      "text/plain": [
       "HBox(children=(FloatProgress(value=0.0, description='Training', layout=Layout(flex='2'), max=1125.0, style=Pro…"
      ]
     },
     "metadata": {},
     "output_type": "display_data"
    },
    {
     "name": "stdout",
     "output_type": "stream",
     "text": [
      "Epoch 229: train=2.21161, val=2.17594, took 44.125 s\n",
      "  Validation Found 8999 of 10819, added 1020 (eff 83.18%) (0.51 FP/event)\n"
     ]
    },
    {
     "data": {
      "application/vnd.jupyter.widget-view+json": {
       "model_id": "",
       "version_major": 2,
       "version_minor": 0
      },
      "text/plain": [
       "HBox(children=(FloatProgress(value=0.0, description='Training', layout=Layout(flex='2'), max=1125.0, style=Pro…"
      ]
     },
     "metadata": {},
     "output_type": "display_data"
    },
    {
     "name": "stdout",
     "output_type": "stream",
     "text": [
      "Epoch 230: train=2.2134, val=2.17485, took 44.123 s\n",
      "  Validation Found 8998 of 10819, added 1022 (eff 83.17%) (0.511 FP/event)\n"
     ]
    },
    {
     "data": {
      "application/vnd.jupyter.widget-view+json": {
       "model_id": "",
       "version_major": 2,
       "version_minor": 0
      },
      "text/plain": [
       "HBox(children=(FloatProgress(value=0.0, description='Training', layout=Layout(flex='2'), max=1125.0, style=Pro…"
      ]
     },
     "metadata": {},
     "output_type": "display_data"
    },
    {
     "name": "stdout",
     "output_type": "stream",
     "text": [
      "Epoch 231: train=2.20842, val=2.17667, took 44.296 s\n",
      "  Validation Found 9009 of 10819, added 1018 (eff 83.27%) (0.509 FP/event)\n"
     ]
    },
    {
     "data": {
      "application/vnd.jupyter.widget-view+json": {
       "model_id": "",
       "version_major": 2,
       "version_minor": 0
      },
      "text/plain": [
       "HBox(children=(FloatProgress(value=0.0, description='Training', layout=Layout(flex='2'), max=1125.0, style=Pro…"
      ]
     },
     "metadata": {},
     "output_type": "display_data"
    },
    {
     "name": "stdout",
     "output_type": "stream",
     "text": [
      "Epoch 232: train=2.2155, val=2.18414, took 44.193 s\n",
      "  Validation Found 9003 of 10819, added 1016 (eff 83.21%) (0.508 FP/event)\n"
     ]
    },
    {
     "data": {
      "application/vnd.jupyter.widget-view+json": {
       "model_id": "",
       "version_major": 2,
       "version_minor": 0
      },
      "text/plain": [
       "HBox(children=(FloatProgress(value=0.0, description='Training', layout=Layout(flex='2'), max=1125.0, style=Pro…"
      ]
     },
     "metadata": {},
     "output_type": "display_data"
    },
    {
     "name": "stdout",
     "output_type": "stream",
     "text": [
      "Epoch 233: train=2.20999, val=2.17524, took 44.11 s\n",
      "  Validation Found 8996 of 10819, added 1019 (eff 83.15%) (0.509 FP/event)\n"
     ]
    },
    {
     "data": {
      "application/vnd.jupyter.widget-view+json": {
       "model_id": "",
       "version_major": 2,
       "version_minor": 0
      },
      "text/plain": [
       "HBox(children=(FloatProgress(value=0.0, description='Training', layout=Layout(flex='2'), max=1125.0, style=Pro…"
      ]
     },
     "metadata": {},
     "output_type": "display_data"
    },
    {
     "name": "stdout",
     "output_type": "stream",
     "text": [
      "Epoch 234: train=2.21593, val=2.17589, took 44.143 s\n",
      "  Validation Found 9012 of 10819, added 1013 (eff 83.30%) (0.506 FP/event)\n"
     ]
    },
    {
     "data": {
      "application/vnd.jupyter.widget-view+json": {
       "model_id": "",
       "version_major": 2,
       "version_minor": 0
      },
      "text/plain": [
       "HBox(children=(FloatProgress(value=0.0, description='Training', layout=Layout(flex='2'), max=1125.0, style=Pro…"
      ]
     },
     "metadata": {},
     "output_type": "display_data"
    },
    {
     "name": "stdout",
     "output_type": "stream",
     "text": [
      "Epoch 235: train=2.21195, val=2.17952, took 44.105 s\n",
      "  Validation Found 9009 of 10819, added 1018 (eff 83.27%) (0.509 FP/event)\n"
     ]
    },
    {
     "data": {
      "application/vnd.jupyter.widget-view+json": {
       "model_id": "",
       "version_major": 2,
       "version_minor": 0
      },
      "text/plain": [
       "HBox(children=(FloatProgress(value=0.0, description='Training', layout=Layout(flex='2'), max=1125.0, style=Pro…"
      ]
     },
     "metadata": {},
     "output_type": "display_data"
    },
    {
     "name": "stdout",
     "output_type": "stream",
     "text": [
      "Epoch 236: train=2.21054, val=2.1756, took 43.915 s\n",
      "  Validation Found 9012 of 10819, added 1018 (eff 83.30%) (0.509 FP/event)\n"
     ]
    },
    {
     "data": {
      "application/vnd.jupyter.widget-view+json": {
       "model_id": "",
       "version_major": 2,
       "version_minor": 0
      },
      "text/plain": [
       "HBox(children=(FloatProgress(value=0.0, description='Training', layout=Layout(flex='2'), max=1125.0, style=Pro…"
      ]
     },
     "metadata": {},
     "output_type": "display_data"
    },
    {
     "name": "stdout",
     "output_type": "stream",
     "text": [
      "Epoch 237: train=2.21007, val=2.17644, took 44.114 s\n",
      "  Validation Found 9000 of 10819, added 1025 (eff 83.19%) (0.512 FP/event)\n"
     ]
    },
    {
     "data": {
      "application/vnd.jupyter.widget-view+json": {
       "model_id": "",
       "version_major": 2,
       "version_minor": 0
      },
      "text/plain": [
       "HBox(children=(FloatProgress(value=0.0, description='Training', layout=Layout(flex='2'), max=1125.0, style=Pro…"
      ]
     },
     "metadata": {},
     "output_type": "display_data"
    },
    {
     "name": "stdout",
     "output_type": "stream",
     "text": [
      "Epoch 238: train=2.20868, val=2.17651, took 44.088 s\n",
      "  Validation Found 9004 of 10819, added 1011 (eff 83.22%) (0.505 FP/event)\n"
     ]
    },
    {
     "data": {
      "application/vnd.jupyter.widget-view+json": {
       "model_id": "",
       "version_major": 2,
       "version_minor": 0
      },
      "text/plain": [
       "HBox(children=(FloatProgress(value=0.0, description='Training', layout=Layout(flex='2'), max=1125.0, style=Pro…"
      ]
     },
     "metadata": {},
     "output_type": "display_data"
    },
    {
     "name": "stdout",
     "output_type": "stream",
     "text": [
      "Epoch 239: train=2.20635, val=2.18137, took 44.042 s\n",
      "  Validation Found 8993 of 10819, added 1011 (eff 83.12%) (0.505 FP/event)\n"
     ]
    },
    {
     "data": {
      "application/vnd.jupyter.widget-view+json": {
       "model_id": "",
       "version_major": 2,
       "version_minor": 0
      },
      "text/plain": [
       "HBox(children=(FloatProgress(value=0.0, description='Training', layout=Layout(flex='2'), max=1125.0, style=Pro…"
      ]
     },
     "metadata": {},
     "output_type": "display_data"
    },
    {
     "name": "stdout",
     "output_type": "stream",
     "text": [
      "Epoch 240: train=2.20738, val=2.17464, took 43.985 s\n",
      "  Validation Found 9010 of 10819, added 1015 (eff 83.28%) (0.507 FP/event)\n"
     ]
    },
    {
     "data": {
      "application/vnd.jupyter.widget-view+json": {
       "model_id": "",
       "version_major": 2,
       "version_minor": 0
      },
      "text/plain": [
       "HBox(children=(FloatProgress(value=0.0, description='Training', layout=Layout(flex='2'), max=1125.0, style=Pro…"
      ]
     },
     "metadata": {},
     "output_type": "display_data"
    },
    {
     "name": "stdout",
     "output_type": "stream",
     "text": [
      "Epoch 241: train=2.2092, val=2.17583, took 44.018 s\n",
      "  Validation Found 9008 of 10819, added 1019 (eff 83.26%) (0.509 FP/event)\n"
     ]
    },
    {
     "data": {
      "application/vnd.jupyter.widget-view+json": {
       "model_id": "",
       "version_major": 2,
       "version_minor": 0
      },
      "text/plain": [
       "HBox(children=(FloatProgress(value=0.0, description='Training', layout=Layout(flex='2'), max=1125.0, style=Pro…"
      ]
     },
     "metadata": {},
     "output_type": "display_data"
    },
    {
     "name": "stdout",
     "output_type": "stream",
     "text": [
      "Epoch 242: train=2.20678, val=2.17493, took 44.106 s\n",
      "  Validation Found 9016 of 10819, added 1018 (eff 83.33%) (0.509 FP/event)\n"
     ]
    },
    {
     "data": {
      "application/vnd.jupyter.widget-view+json": {
       "model_id": "",
       "version_major": 2,
       "version_minor": 0
      },
      "text/plain": [
       "HBox(children=(FloatProgress(value=0.0, description='Training', layout=Layout(flex='2'), max=1125.0, style=Pro…"
      ]
     },
     "metadata": {},
     "output_type": "display_data"
    },
    {
     "name": "stdout",
     "output_type": "stream",
     "text": [
      "Epoch 243: train=2.21194, val=2.17554, took 44.006 s\n",
      "  Validation Found 9007 of 10819, added 1017 (eff 83.25%) (0.508 FP/event)\n"
     ]
    },
    {
     "data": {
      "application/vnd.jupyter.widget-view+json": {
       "model_id": "",
       "version_major": 2,
       "version_minor": 0
      },
      "text/plain": [
       "HBox(children=(FloatProgress(value=0.0, description='Training', layout=Layout(flex='2'), max=1125.0, style=Pro…"
      ]
     },
     "metadata": {},
     "output_type": "display_data"
    },
    {
     "name": "stdout",
     "output_type": "stream",
     "text": [
      "Epoch 244: train=2.20817, val=2.1756, took 44.083 s\n",
      "  Validation Found 9018 of 10819, added 1015 (eff 83.35%) (0.507 FP/event)\n"
     ]
    },
    {
     "data": {
      "application/vnd.jupyter.widget-view+json": {
       "model_id": "",
       "version_major": 2,
       "version_minor": 0
      },
      "text/plain": [
       "HBox(children=(FloatProgress(value=0.0, description='Training', layout=Layout(flex='2'), max=1125.0, style=Pro…"
      ]
     },
     "metadata": {},
     "output_type": "display_data"
    },
    {
     "name": "stdout",
     "output_type": "stream",
     "text": [
      "Epoch 245: train=2.20968, val=2.17471, took 44.22 s\n",
      "  Validation Found 9008 of 10819, added 1021 (eff 83.26%) (0.51 FP/event)\n"
     ]
    },
    {
     "data": {
      "application/vnd.jupyter.widget-view+json": {
       "model_id": "",
       "version_major": 2,
       "version_minor": 0
      },
      "text/plain": [
       "HBox(children=(FloatProgress(value=0.0, description='Training', layout=Layout(flex='2'), max=1125.0, style=Pro…"
      ]
     },
     "metadata": {},
     "output_type": "display_data"
    },
    {
     "name": "stdout",
     "output_type": "stream",
     "text": [
      "Epoch 246: train=2.21089, val=2.17342, took 44.18 s\n",
      "  Validation Found 9005 of 10819, added 1011 (eff 83.23%) (0.505 FP/event)\n"
     ]
    },
    {
     "data": {
      "application/vnd.jupyter.widget-view+json": {
       "model_id": "",
       "version_major": 2,
       "version_minor": 0
      },
      "text/plain": [
       "HBox(children=(FloatProgress(value=0.0, description='Training', layout=Layout(flex='2'), max=1125.0, style=Pro…"
      ]
     },
     "metadata": {},
     "output_type": "display_data"
    },
    {
     "name": "stdout",
     "output_type": "stream",
     "text": [
      "Epoch 247: train=2.20658, val=2.17808, took 44.173 s\n",
      "  Validation Found 8999 of 10819, added 1013 (eff 83.18%) (0.506 FP/event)\n"
     ]
    },
    {
     "data": {
      "application/vnd.jupyter.widget-view+json": {
       "model_id": "",
       "version_major": 2,
       "version_minor": 0
      },
      "text/plain": [
       "HBox(children=(FloatProgress(value=0.0, description='Training', layout=Layout(flex='2'), max=1125.0, style=Pro…"
      ]
     },
     "metadata": {},
     "output_type": "display_data"
    },
    {
     "name": "stdout",
     "output_type": "stream",
     "text": [
      "Epoch 248: train=2.20983, val=2.17304, took 44.188 s\n",
      "  Validation Found 9013 of 10819, added 1007 (eff 83.31%) (0.503 FP/event)\n"
     ]
    },
    {
     "data": {
      "application/vnd.jupyter.widget-view+json": {
       "model_id": "",
       "version_major": 2,
       "version_minor": 0
      },
      "text/plain": [
       "HBox(children=(FloatProgress(value=0.0, description='Training', layout=Layout(flex='2'), max=1125.0, style=Pro…"
      ]
     },
     "metadata": {},
     "output_type": "display_data"
    },
    {
     "name": "stdout",
     "output_type": "stream",
     "text": [
      "Epoch 249: train=2.20861, val=2.17319, took 44.313 s\n",
      "  Validation Found 9013 of 10819, added 1010 (eff 83.31%) (0.505 FP/event)\n"
     ]
    },
    {
     "data": {
      "application/vnd.jupyter.widget-view+json": {
       "model_id": "",
       "version_major": 2,
       "version_minor": 0
      },
      "text/plain": [
       "HBox(children=(FloatProgress(value=0.0, description='Training', layout=Layout(flex='2'), max=1125.0, style=Pro…"
      ]
     },
     "metadata": {},
     "output_type": "display_data"
    },
    {
     "name": "stdout",
     "output_type": "stream",
     "text": [
      "Epoch 250: train=2.20829, val=2.18164, took 44.06 s\n",
      "  Validation Found 9008 of 10819, added 1018 (eff 83.26%) (0.509 FP/event)\n"
     ]
    },
    {
     "data": {
      "application/vnd.jupyter.widget-view+json": {
       "model_id": "",
       "version_major": 2,
       "version_minor": 0
      },
      "text/plain": [
       "HBox(children=(FloatProgress(value=0.0, description='Training', layout=Layout(flex='2'), max=1125.0, style=Pro…"
      ]
     },
     "metadata": {},
     "output_type": "display_data"
    },
    {
     "name": "stdout",
     "output_type": "stream",
     "text": [
      "Epoch 251: train=2.20791, val=2.17643, took 44.131 s\n",
      "  Validation Found 9011 of 10819, added 1010 (eff 83.29%) (0.505 FP/event)\n"
     ]
    },
    {
     "data": {
      "application/vnd.jupyter.widget-view+json": {
       "model_id": "",
       "version_major": 2,
       "version_minor": 0
      },
      "text/plain": [
       "HBox(children=(FloatProgress(value=0.0, description='Training', layout=Layout(flex='2'), max=1125.0, style=Pro…"
      ]
     },
     "metadata": {},
     "output_type": "display_data"
    },
    {
     "name": "stdout",
     "output_type": "stream",
     "text": [
      "Epoch 252: train=2.20562, val=2.17256, took 44.45 s\n",
      "  Validation Found 9013 of 10819, added 1010 (eff 83.31%) (0.505 FP/event)\n"
     ]
    },
    {
     "data": {
      "application/vnd.jupyter.widget-view+json": {
       "model_id": "",
       "version_major": 2,
       "version_minor": 0
      },
      "text/plain": [
       "HBox(children=(FloatProgress(value=0.0, description='Training', layout=Layout(flex='2'), max=1125.0, style=Pro…"
      ]
     },
     "metadata": {},
     "output_type": "display_data"
    },
    {
     "name": "stdout",
     "output_type": "stream",
     "text": [
      "Epoch 253: train=2.20798, val=2.18244, took 44.125 s\n",
      "  Validation Found 9008 of 10819, added 1014 (eff 83.26%) (0.507 FP/event)\n"
     ]
    },
    {
     "data": {
      "application/vnd.jupyter.widget-view+json": {
       "model_id": "",
       "version_major": 2,
       "version_minor": 0
      },
      "text/plain": [
       "HBox(children=(FloatProgress(value=0.0, description='Training', layout=Layout(flex='2'), max=1125.0, style=Pro…"
      ]
     },
     "metadata": {},
     "output_type": "display_data"
    },
    {
     "name": "stdout",
     "output_type": "stream",
     "text": [
      "Epoch 254: train=2.20443, val=2.17385, took 43.972 s\n",
      "  Validation Found 9000 of 10819, added 1015 (eff 83.19%) (0.507 FP/event)\n"
     ]
    },
    {
     "data": {
      "application/vnd.jupyter.widget-view+json": {
       "model_id": "",
       "version_major": 2,
       "version_minor": 0
      },
      "text/plain": [
       "HBox(children=(FloatProgress(value=0.0, description='Training', layout=Layout(flex='2'), max=1125.0, style=Pro…"
      ]
     },
     "metadata": {},
     "output_type": "display_data"
    },
    {
     "name": "stdout",
     "output_type": "stream",
     "text": [
      "Epoch 255: train=2.21048, val=2.17272, took 44.124 s\n",
      "  Validation Found 9009 of 10819, added 1008 (eff 83.27%) (0.504 FP/event)\n"
     ]
    },
    {
     "data": {
      "application/vnd.jupyter.widget-view+json": {
       "model_id": "",
       "version_major": 2,
       "version_minor": 0
      },
      "text/plain": [
       "HBox(children=(FloatProgress(value=0.0, description='Training', layout=Layout(flex='2'), max=1125.0, style=Pro…"
      ]
     },
     "metadata": {},
     "output_type": "display_data"
    },
    {
     "name": "stdout",
     "output_type": "stream",
     "text": [
      "Epoch 256: train=2.2072, val=2.17328, took 44.187 s\n",
      "  Validation Found 9004 of 10819, added 1009 (eff 83.22%) (0.504 FP/event)\n"
     ]
    },
    {
     "data": {
      "application/vnd.jupyter.widget-view+json": {
       "model_id": "",
       "version_major": 2,
       "version_minor": 0
      },
      "text/plain": [
       "HBox(children=(FloatProgress(value=0.0, description='Training', layout=Layout(flex='2'), max=1125.0, style=Pro…"
      ]
     },
     "metadata": {},
     "output_type": "display_data"
    },
    {
     "name": "stdout",
     "output_type": "stream",
     "text": [
      "Epoch 257: train=2.20778, val=2.17261, took 44.066 s\n",
      "  Validation Found 8998 of 10819, added 1021 (eff 83.17%) (0.51 FP/event)\n"
     ]
    },
    {
     "data": {
      "application/vnd.jupyter.widget-view+json": {
       "model_id": "",
       "version_major": 2,
       "version_minor": 0
      },
      "text/plain": [
       "HBox(children=(FloatProgress(value=0.0, description='Training', layout=Layout(flex='2'), max=1125.0, style=Pro…"
      ]
     },
     "metadata": {},
     "output_type": "display_data"
    },
    {
     "name": "stdout",
     "output_type": "stream",
     "text": [
      "Epoch 258: train=2.20238, val=2.17413, took 43.907 s\n",
      "  Validation Found 9013 of 10819, added 1010 (eff 83.31%) (0.505 FP/event)\n"
     ]
    },
    {
     "data": {
      "application/vnd.jupyter.widget-view+json": {
       "model_id": "",
       "version_major": 2,
       "version_minor": 0
      },
      "text/plain": [
       "HBox(children=(FloatProgress(value=0.0, description='Training', layout=Layout(flex='2'), max=1125.0, style=Pro…"
      ]
     },
     "metadata": {},
     "output_type": "display_data"
    },
    {
     "name": "stdout",
     "output_type": "stream",
     "text": [
      "Epoch 259: train=2.2021, val=2.17247, took 43.993 s\n",
      "  Validation Found 9009 of 10819, added 1008 (eff 83.27%) (0.504 FP/event)\n"
     ]
    },
    {
     "data": {
      "application/vnd.jupyter.widget-view+json": {
       "model_id": "",
       "version_major": 2,
       "version_minor": 0
      },
      "text/plain": [
       "HBox(children=(FloatProgress(value=0.0, description='Training', layout=Layout(flex='2'), max=1125.0, style=Pro…"
      ]
     },
     "metadata": {},
     "output_type": "display_data"
    },
    {
     "name": "stdout",
     "output_type": "stream",
     "text": [
      "Epoch 260: train=2.20091, val=2.17366, took 44.177 s\n",
      "  Validation Found 9010 of 10819, added 1012 (eff 83.28%) (0.506 FP/event)\n"
     ]
    },
    {
     "data": {
      "application/vnd.jupyter.widget-view+json": {
       "model_id": "",
       "version_major": 2,
       "version_minor": 0
      },
      "text/plain": [
       "HBox(children=(FloatProgress(value=0.0, description='Training', layout=Layout(flex='2'), max=1125.0, style=Pro…"
      ]
     },
     "metadata": {},
     "output_type": "display_data"
    },
    {
     "name": "stdout",
     "output_type": "stream",
     "text": [
      "Epoch 261: train=2.20867, val=2.17402, took 44.058 s\n",
      "  Validation Found 9010 of 10819, added 1021 (eff 83.28%) (0.51 FP/event)\n"
     ]
    },
    {
     "data": {
      "application/vnd.jupyter.widget-view+json": {
       "model_id": "",
       "version_major": 2,
       "version_minor": 0
      },
      "text/plain": [
       "HBox(children=(FloatProgress(value=0.0, description='Training', layout=Layout(flex='2'), max=1125.0, style=Pro…"
      ]
     },
     "metadata": {},
     "output_type": "display_data"
    },
    {
     "name": "stdout",
     "output_type": "stream",
     "text": [
      "Epoch 262: train=2.20288, val=2.17425, took 44.04 s\n",
      "  Validation Found 9002 of 10819, added 1012 (eff 83.21%) (0.506 FP/event)\n"
     ]
    },
    {
     "data": {
      "application/vnd.jupyter.widget-view+json": {
       "model_id": "",
       "version_major": 2,
       "version_minor": 0
      },
      "text/plain": [
       "HBox(children=(FloatProgress(value=0.0, description='Training', layout=Layout(flex='2'), max=1125.0, style=Pro…"
      ]
     },
     "metadata": {},
     "output_type": "display_data"
    },
    {
     "name": "stdout",
     "output_type": "stream",
     "text": [
      "Epoch 263: train=2.20589, val=2.17256, took 44.07 s\n",
      "  Validation Found 9010 of 10819, added 1019 (eff 83.28%) (0.509 FP/event)\n"
     ]
    },
    {
     "data": {
      "application/vnd.jupyter.widget-view+json": {
       "model_id": "",
       "version_major": 2,
       "version_minor": 0
      },
      "text/plain": [
       "HBox(children=(FloatProgress(value=0.0, description='Training', layout=Layout(flex='2'), max=1125.0, style=Pro…"
      ]
     },
     "metadata": {},
     "output_type": "display_data"
    },
    {
     "name": "stdout",
     "output_type": "stream",
     "text": [
      "Epoch 264: train=2.20475, val=2.17191, took 44.165 s\n",
      "  Validation Found 9014 of 10819, added 1013 (eff 83.32%) (0.506 FP/event)\n"
     ]
    },
    {
     "data": {
      "application/vnd.jupyter.widget-view+json": {
       "model_id": "",
       "version_major": 2,
       "version_minor": 0
      },
      "text/plain": [
       "HBox(children=(FloatProgress(value=0.0, description='Training', layout=Layout(flex='2'), max=1125.0, style=Pro…"
      ]
     },
     "metadata": {},
     "output_type": "display_data"
    },
    {
     "name": "stdout",
     "output_type": "stream",
     "text": [
      "Epoch 265: train=2.20326, val=2.17605, took 44.033 s\n",
      "  Validation Found 9006 of 10819, added 1025 (eff 83.24%) (0.512 FP/event)\n"
     ]
    },
    {
     "data": {
      "application/vnd.jupyter.widget-view+json": {
       "model_id": "",
       "version_major": 2,
       "version_minor": 0
      },
      "text/plain": [
       "HBox(children=(FloatProgress(value=0.0, description='Training', layout=Layout(flex='2'), max=1125.0, style=Pro…"
      ]
     },
     "metadata": {},
     "output_type": "display_data"
    },
    {
     "name": "stdout",
     "output_type": "stream",
     "text": [
      "Epoch 266: train=2.20442, val=2.1725, took 44.04 s\n",
      "  Validation Found 9001 of 10819, added 1010 (eff 83.20%) (0.505 FP/event)\n"
     ]
    },
    {
     "data": {
      "application/vnd.jupyter.widget-view+json": {
       "model_id": "",
       "version_major": 2,
       "version_minor": 0
      },
      "text/plain": [
       "HBox(children=(FloatProgress(value=0.0, description='Training', layout=Layout(flex='2'), max=1125.0, style=Pro…"
      ]
     },
     "metadata": {},
     "output_type": "display_data"
    },
    {
     "name": "stdout",
     "output_type": "stream",
     "text": [
      "Epoch 267: train=2.20589, val=2.17391, took 43.932 s\n",
      "  Validation Found 9001 of 10819, added 1025 (eff 83.20%) (0.512 FP/event)\n"
     ]
    },
    {
     "data": {
      "application/vnd.jupyter.widget-view+json": {
       "model_id": "",
       "version_major": 2,
       "version_minor": 0
      },
      "text/plain": [
       "HBox(children=(FloatProgress(value=0.0, description='Training', layout=Layout(flex='2'), max=1125.0, style=Pro…"
      ]
     },
     "metadata": {},
     "output_type": "display_data"
    },
    {
     "name": "stdout",
     "output_type": "stream",
     "text": [
      "Epoch 268: train=2.20796, val=2.17508, took 43.997 s\n",
      "  Validation Found 8997 of 10819, added 1018 (eff 83.16%) (0.509 FP/event)\n"
     ]
    },
    {
     "data": {
      "application/vnd.jupyter.widget-view+json": {
       "model_id": "",
       "version_major": 2,
       "version_minor": 0
      },
      "text/plain": [
       "HBox(children=(FloatProgress(value=0.0, description='Training', layout=Layout(flex='2'), max=1125.0, style=Pro…"
      ]
     },
     "metadata": {},
     "output_type": "display_data"
    },
    {
     "name": "stdout",
     "output_type": "stream",
     "text": [
      "Epoch 269: train=2.20358, val=2.17272, took 43.893 s\n",
      "  Validation Found 9002 of 10819, added 1021 (eff 83.21%) (0.51 FP/event)\n"
     ]
    },
    {
     "data": {
      "application/vnd.jupyter.widget-view+json": {
       "model_id": "",
       "version_major": 2,
       "version_minor": 0
      },
      "text/plain": [
       "HBox(children=(FloatProgress(value=0.0, description='Training', layout=Layout(flex='2'), max=1125.0, style=Pro…"
      ]
     },
     "metadata": {},
     "output_type": "display_data"
    },
    {
     "name": "stdout",
     "output_type": "stream",
     "text": [
      "Epoch 270: train=2.20248, val=2.17096, took 43.938 s\n",
      "  Validation Found 9014 of 10819, added 1013 (eff 83.32%) (0.506 FP/event)\n"
     ]
    },
    {
     "data": {
      "application/vnd.jupyter.widget-view+json": {
       "model_id": "",
       "version_major": 2,
       "version_minor": 0
      },
      "text/plain": [
       "HBox(children=(FloatProgress(value=0.0, description='Training', layout=Layout(flex='2'), max=1125.0, style=Pro…"
      ]
     },
     "metadata": {},
     "output_type": "display_data"
    },
    {
     "name": "stdout",
     "output_type": "stream",
     "text": [
      "Epoch 271: train=2.20202, val=2.17405, took 44.295 s\n",
      "  Validation Found 9002 of 10819, added 1014 (eff 83.21%) (0.507 FP/event)\n"
     ]
    },
    {
     "data": {
      "application/vnd.jupyter.widget-view+json": {
       "model_id": "",
       "version_major": 2,
       "version_minor": 0
      },
      "text/plain": [
       "HBox(children=(FloatProgress(value=0.0, description='Training', layout=Layout(flex='2'), max=1125.0, style=Pro…"
      ]
     },
     "metadata": {},
     "output_type": "display_data"
    },
    {
     "name": "stdout",
     "output_type": "stream",
     "text": [
      "Epoch 272: train=2.20512, val=2.1716, took 44.207 s\n",
      "  Validation Found 9008 of 10819, added 1006 (eff 83.26%) (0.503 FP/event)\n"
     ]
    },
    {
     "data": {
      "application/vnd.jupyter.widget-view+json": {
       "model_id": "",
       "version_major": 2,
       "version_minor": 0
      },
      "text/plain": [
       "HBox(children=(FloatProgress(value=0.0, description='Training', layout=Layout(flex='2'), max=1125.0, style=Pro…"
      ]
     },
     "metadata": {},
     "output_type": "display_data"
    },
    {
     "name": "stdout",
     "output_type": "stream",
     "text": [
      "Epoch 273: train=2.20332, val=2.17372, took 44.01 s\n",
      "  Validation Found 9007 of 10819, added 1014 (eff 83.25%) (0.507 FP/event)\n"
     ]
    },
    {
     "data": {
      "application/vnd.jupyter.widget-view+json": {
       "model_id": "",
       "version_major": 2,
       "version_minor": 0
      },
      "text/plain": [
       "HBox(children=(FloatProgress(value=0.0, description='Training', layout=Layout(flex='2'), max=1125.0, style=Pro…"
      ]
     },
     "metadata": {},
     "output_type": "display_data"
    },
    {
     "name": "stdout",
     "output_type": "stream",
     "text": [
      "Epoch 274: train=2.20341, val=2.17099, took 44.129 s\n",
      "  Validation Found 9005 of 10819, added 1013 (eff 83.23%) (0.506 FP/event)\n"
     ]
    },
    {
     "data": {
      "application/vnd.jupyter.widget-view+json": {
       "model_id": "",
       "version_major": 2,
       "version_minor": 0
      },
      "text/plain": [
       "HBox(children=(FloatProgress(value=0.0, description='Training', layout=Layout(flex='2'), max=1125.0, style=Pro…"
      ]
     },
     "metadata": {},
     "output_type": "display_data"
    },
    {
     "name": "stdout",
     "output_type": "stream",
     "text": [
      "Epoch 275: train=2.20165, val=2.1748, took 44.142 s\n",
      "  Validation Found 9003 of 10819, added 1011 (eff 83.21%) (0.505 FP/event)\n"
     ]
    },
    {
     "data": {
      "application/vnd.jupyter.widget-view+json": {
       "model_id": "",
       "version_major": 2,
       "version_minor": 0
      },
      "text/plain": [
       "HBox(children=(FloatProgress(value=0.0, description='Training', layout=Layout(flex='2'), max=1125.0, style=Pro…"
      ]
     },
     "metadata": {},
     "output_type": "display_data"
    },
    {
     "name": "stdout",
     "output_type": "stream",
     "text": [
      "Epoch 276: train=2.20329, val=2.17249, took 44.111 s\n",
      "  Validation Found 9011 of 10819, added 1001 (eff 83.29%) (0.5 FP/event)\n"
     ]
    },
    {
     "data": {
      "application/vnd.jupyter.widget-view+json": {
       "model_id": "",
       "version_major": 2,
       "version_minor": 0
      },
      "text/plain": [
       "HBox(children=(FloatProgress(value=0.0, description='Training', layout=Layout(flex='2'), max=1125.0, style=Pro…"
      ]
     },
     "metadata": {},
     "output_type": "display_data"
    },
    {
     "name": "stdout",
     "output_type": "stream",
     "text": [
      "Epoch 277: train=2.20392, val=2.16996, took 44.12 s\n",
      "  Validation Found 9006 of 10819, added 1010 (eff 83.24%) (0.505 FP/event)\n"
     ]
    },
    {
     "data": {
      "application/vnd.jupyter.widget-view+json": {
       "model_id": "",
       "version_major": 2,
       "version_minor": 0
      },
      "text/plain": [
       "HBox(children=(FloatProgress(value=0.0, description='Training', layout=Layout(flex='2'), max=1125.0, style=Pro…"
      ]
     },
     "metadata": {},
     "output_type": "display_data"
    },
    {
     "name": "stdout",
     "output_type": "stream",
     "text": [
      "Epoch 278: train=2.19876, val=2.17269, took 43.914 s\n",
      "  Validation Found 9018 of 10819, added 1011 (eff 83.35%) (0.505 FP/event)\n"
     ]
    },
    {
     "data": {
      "application/vnd.jupyter.widget-view+json": {
       "model_id": "",
       "version_major": 2,
       "version_minor": 0
      },
      "text/plain": [
       "HBox(children=(FloatProgress(value=0.0, description='Training', layout=Layout(flex='2'), max=1125.0, style=Pro…"
      ]
     },
     "metadata": {},
     "output_type": "display_data"
    },
    {
     "name": "stdout",
     "output_type": "stream",
     "text": [
      "Epoch 279: train=2.20173, val=2.1696, took 44.096 s\n",
      "  Validation Found 9023 of 10819, added 1013 (eff 83.40%) (0.506 FP/event)\n"
     ]
    },
    {
     "data": {
      "application/vnd.jupyter.widget-view+json": {
       "model_id": "",
       "version_major": 2,
       "version_minor": 0
      },
      "text/plain": [
       "HBox(children=(FloatProgress(value=0.0, description='Training', layout=Layout(flex='2'), max=1125.0, style=Pro…"
      ]
     },
     "metadata": {},
     "output_type": "display_data"
    },
    {
     "name": "stdout",
     "output_type": "stream",
     "text": [
      "Epoch 280: train=2.19736, val=2.16996, took 44.124 s\n",
      "  Validation Found 9023 of 10819, added 1009 (eff 83.40%) (0.504 FP/event)\n"
     ]
    },
    {
     "data": {
      "application/vnd.jupyter.widget-view+json": {
       "model_id": "",
       "version_major": 2,
       "version_minor": 0
      },
      "text/plain": [
       "HBox(children=(FloatProgress(value=0.0, description='Training', layout=Layout(flex='2'), max=1125.0, style=Pro…"
      ]
     },
     "metadata": {},
     "output_type": "display_data"
    },
    {
     "name": "stdout",
     "output_type": "stream",
     "text": [
      "Epoch 281: train=2.20082, val=2.17032, took 44.125 s\n",
      "  Validation Found 9020 of 10819, added 1020 (eff 83.37%) (0.51 FP/event)\n"
     ]
    },
    {
     "data": {
      "application/vnd.jupyter.widget-view+json": {
       "model_id": "",
       "version_major": 2,
       "version_minor": 0
      },
      "text/plain": [
       "HBox(children=(FloatProgress(value=0.0, description='Training', layout=Layout(flex='2'), max=1125.0, style=Pro…"
      ]
     },
     "metadata": {},
     "output_type": "display_data"
    },
    {
     "name": "stdout",
     "output_type": "stream",
     "text": [
      "Epoch 282: train=2.19933, val=2.16947, took 44.02 s\n",
      "  Validation Found 9009 of 10819, added 1014 (eff 83.27%) (0.507 FP/event)\n"
     ]
    },
    {
     "data": {
      "application/vnd.jupyter.widget-view+json": {
       "model_id": "",
       "version_major": 2,
       "version_minor": 0
      },
      "text/plain": [
       "HBox(children=(FloatProgress(value=0.0, description='Training', layout=Layout(flex='2'), max=1125.0, style=Pro…"
      ]
     },
     "metadata": {},
     "output_type": "display_data"
    },
    {
     "name": "stdout",
     "output_type": "stream",
     "text": [
      "Epoch 283: train=2.20431, val=2.1708, took 43.955 s\n",
      "  Validation Found 9019 of 10819, added 1017 (eff 83.36%) (0.508 FP/event)\n"
     ]
    },
    {
     "data": {
      "application/vnd.jupyter.widget-view+json": {
       "model_id": "",
       "version_major": 2,
       "version_minor": 0
      },
      "text/plain": [
       "HBox(children=(FloatProgress(value=0.0, description='Training', layout=Layout(flex='2'), max=1125.0, style=Pro…"
      ]
     },
     "metadata": {},
     "output_type": "display_data"
    },
    {
     "name": "stdout",
     "output_type": "stream",
     "text": [
      "Epoch 284: train=2.19849, val=2.17069, took 44.054 s\n",
      "  Validation Found 9014 of 10819, added 1003 (eff 83.32%) (0.501 FP/event)\n"
     ]
    },
    {
     "data": {
      "application/vnd.jupyter.widget-view+json": {
       "model_id": "",
       "version_major": 2,
       "version_minor": 0
      },
      "text/plain": [
       "HBox(children=(FloatProgress(value=0.0, description='Training', layout=Layout(flex='2'), max=1125.0, style=Pro…"
      ]
     },
     "metadata": {},
     "output_type": "display_data"
    },
    {
     "name": "stdout",
     "output_type": "stream",
     "text": [
      "Epoch 285: train=2.20124, val=2.16893, took 44.035 s\n",
      "  Validation Found 9015 of 10819, added 1011 (eff 83.33%) (0.505 FP/event)\n"
     ]
    },
    {
     "data": {
      "application/vnd.jupyter.widget-view+json": {
       "model_id": "",
       "version_major": 2,
       "version_minor": 0
      },
      "text/plain": [
       "HBox(children=(FloatProgress(value=0.0, description='Training', layout=Layout(flex='2'), max=1125.0, style=Pro…"
      ]
     },
     "metadata": {},
     "output_type": "display_data"
    },
    {
     "name": "stdout",
     "output_type": "stream",
     "text": [
      "Epoch 286: train=2.20149, val=2.16931, took 44.036 s\n",
      "  Validation Found 9014 of 10819, added 1013 (eff 83.32%) (0.506 FP/event)\n"
     ]
    },
    {
     "data": {
      "application/vnd.jupyter.widget-view+json": {
       "model_id": "",
       "version_major": 2,
       "version_minor": 0
      },
      "text/plain": [
       "HBox(children=(FloatProgress(value=0.0, description='Training', layout=Layout(flex='2'), max=1125.0, style=Pro…"
      ]
     },
     "metadata": {},
     "output_type": "display_data"
    },
    {
     "name": "stdout",
     "output_type": "stream",
     "text": [
      "Epoch 287: train=2.20049, val=2.16971, took 44.099 s\n",
      "  Validation Found 9017 of 10819, added 1017 (eff 83.34%) (0.508 FP/event)\n"
     ]
    },
    {
     "data": {
      "application/vnd.jupyter.widget-view+json": {
       "model_id": "",
       "version_major": 2,
       "version_minor": 0
      },
      "text/plain": [
       "HBox(children=(FloatProgress(value=0.0, description='Training', layout=Layout(flex='2'), max=1125.0, style=Pro…"
      ]
     },
     "metadata": {},
     "output_type": "display_data"
    },
    {
     "name": "stdout",
     "output_type": "stream",
     "text": [
      "Epoch 288: train=2.20329, val=2.16901, took 44.072 s\n",
      "  Validation Found 9012 of 10819, added 1008 (eff 83.30%) (0.504 FP/event)\n"
     ]
    },
    {
     "data": {
      "application/vnd.jupyter.widget-view+json": {
       "model_id": "",
       "version_major": 2,
       "version_minor": 0
      },
      "text/plain": [
       "HBox(children=(FloatProgress(value=0.0, description='Training', layout=Layout(flex='2'), max=1125.0, style=Pro…"
      ]
     },
     "metadata": {},
     "output_type": "display_data"
    },
    {
     "name": "stdout",
     "output_type": "stream",
     "text": [
      "Epoch 289: train=2.19713, val=2.16857, took 43.454 s\n",
      "  Validation Found 9009 of 10819, added 1010 (eff 83.27%) (0.505 FP/event)\n"
     ]
    },
    {
     "data": {
      "application/vnd.jupyter.widget-view+json": {
       "model_id": "",
       "version_major": 2,
       "version_minor": 0
      },
      "text/plain": [
       "HBox(children=(FloatProgress(value=0.0, description='Training', layout=Layout(flex='2'), max=1125.0, style=Pro…"
      ]
     },
     "metadata": {},
     "output_type": "display_data"
    },
    {
     "name": "stdout",
     "output_type": "stream",
     "text": [
      "Epoch 290: train=2.19792, val=2.16781, took 43.532 s\n",
      "  Validation Found 9013 of 10819, added 1006 (eff 83.31%) (0.503 FP/event)\n"
     ]
    },
    {
     "data": {
      "application/vnd.jupyter.widget-view+json": {
       "model_id": "",
       "version_major": 2,
       "version_minor": 0
      },
      "text/plain": [
       "HBox(children=(FloatProgress(value=0.0, description='Training', layout=Layout(flex='2'), max=1125.0, style=Pro…"
      ]
     },
     "metadata": {},
     "output_type": "display_data"
    },
    {
     "name": "stdout",
     "output_type": "stream",
     "text": [
      "Epoch 291: train=2.19873, val=2.16907, took 43.751 s\n",
      "  Validation Found 9024 of 10819, added 1012 (eff 83.41%) (0.506 FP/event)\n"
     ]
    },
    {
     "data": {
      "application/vnd.jupyter.widget-view+json": {
       "model_id": "",
       "version_major": 2,
       "version_minor": 0
      },
      "text/plain": [
       "HBox(children=(FloatProgress(value=0.0, description='Training', layout=Layout(flex='2'), max=1125.0, style=Pro…"
      ]
     },
     "metadata": {},
     "output_type": "display_data"
    },
    {
     "name": "stdout",
     "output_type": "stream",
     "text": [
      "Epoch 292: train=2.19986, val=2.17121, took 43.576 s\n",
      "  Validation Found 9019 of 10819, added 1018 (eff 83.36%) (0.509 FP/event)\n"
     ]
    },
    {
     "data": {
      "application/vnd.jupyter.widget-view+json": {
       "model_id": "",
       "version_major": 2,
       "version_minor": 0
      },
      "text/plain": [
       "HBox(children=(FloatProgress(value=0.0, description='Training', layout=Layout(flex='2'), max=1125.0, style=Pro…"
      ]
     },
     "metadata": {},
     "output_type": "display_data"
    },
    {
     "name": "stdout",
     "output_type": "stream",
     "text": [
      "Epoch 293: train=2.20146, val=2.16839, took 43.84 s\n",
      "  Validation Found 9020 of 10819, added 1003 (eff 83.37%) (0.501 FP/event)\n"
     ]
    },
    {
     "data": {
      "application/vnd.jupyter.widget-view+json": {
       "model_id": "",
       "version_major": 2,
       "version_minor": 0
      },
      "text/plain": [
       "HBox(children=(FloatProgress(value=0.0, description='Training', layout=Layout(flex='2'), max=1125.0, style=Pro…"
      ]
     },
     "metadata": {},
     "output_type": "display_data"
    },
    {
     "name": "stdout",
     "output_type": "stream",
     "text": [
      "Epoch 294: train=2.1949, val=2.16748, took 43.714 s\n",
      "  Validation Found 9011 of 10819, added 1014 (eff 83.29%) (0.507 FP/event)\n"
     ]
    },
    {
     "data": {
      "application/vnd.jupyter.widget-view+json": {
       "model_id": "",
       "version_major": 2,
       "version_minor": 0
      },
      "text/plain": [
       "HBox(children=(FloatProgress(value=0.0, description='Training', layout=Layout(flex='2'), max=1125.0, style=Pro…"
      ]
     },
     "metadata": {},
     "output_type": "display_data"
    },
    {
     "name": "stdout",
     "output_type": "stream",
     "text": [
      "Epoch 295: train=2.1979, val=2.16848, took 43.611 s\n",
      "  Validation Found 9020 of 10819, added 1008 (eff 83.37%) (0.504 FP/event)\n"
     ]
    },
    {
     "data": {
      "application/vnd.jupyter.widget-view+json": {
       "model_id": "",
       "version_major": 2,
       "version_minor": 0
      },
      "text/plain": [
       "HBox(children=(FloatProgress(value=0.0, description='Training', layout=Layout(flex='2'), max=1125.0, style=Pro…"
      ]
     },
     "metadata": {},
     "output_type": "display_data"
    },
    {
     "name": "stdout",
     "output_type": "stream",
     "text": [
      "Epoch 296: train=2.19371, val=2.16671, took 43.681 s\n",
      "  Validation Found 9018 of 10819, added 1008 (eff 83.35%) (0.504 FP/event)\n"
     ]
    },
    {
     "data": {
      "application/vnd.jupyter.widget-view+json": {
       "model_id": "",
       "version_major": 2,
       "version_minor": 0
      },
      "text/plain": [
       "HBox(children=(FloatProgress(value=0.0, description='Training', layout=Layout(flex='2'), max=1125.0, style=Pro…"
      ]
     },
     "metadata": {},
     "output_type": "display_data"
    },
    {
     "name": "stdout",
     "output_type": "stream",
     "text": [
      "Epoch 297: train=2.20237, val=2.16693, took 43.678 s\n",
      "  Validation Found 9022 of 10819, added 1006 (eff 83.39%) (0.503 FP/event)\n"
     ]
    },
    {
     "data": {
      "application/vnd.jupyter.widget-view+json": {
       "model_id": "",
       "version_major": 2,
       "version_minor": 0
      },
      "text/plain": [
       "HBox(children=(FloatProgress(value=0.0, description='Training', layout=Layout(flex='2'), max=1125.0, style=Pro…"
      ]
     },
     "metadata": {},
     "output_type": "display_data"
    },
    {
     "name": "stdout",
     "output_type": "stream",
     "text": [
      "Epoch 298: train=2.19664, val=2.16862, took 43.651 s\n",
      "  Validation Found 9012 of 10819, added 1009 (eff 83.30%) (0.504 FP/event)\n"
     ]
    },
    {
     "data": {
      "application/vnd.jupyter.widget-view+json": {
       "model_id": "",
       "version_major": 2,
       "version_minor": 0
      },
      "text/plain": [
       "HBox(children=(FloatProgress(value=0.0, description='Training', layout=Layout(flex='2'), max=1125.0, style=Pro…"
      ]
     },
     "metadata": {},
     "output_type": "display_data"
    },
    {
     "name": "stdout",
     "output_type": "stream",
     "text": [
      "Epoch 299: train=2.19781, val=2.1678, took 43.55 s\n",
      "  Validation Found 9009 of 10819, added 1006 (eff 83.27%) (0.503 FP/event)\n",
      "\n"
     ]
    }
   ],
   "source": [
    "for result in trainNet(model, optimizer, loss,\n",
    "                        train_loader, val_loader,\n",
    "                        n_epochs, epoch_start=len(results),\n",
    "                        notebook=True):\n",
    "    \n",
    "    results = results.append(pd.Series(result._asdict()), ignore_index=True)\n",
    "    \n",
    "    xs = results.index\n",
    "##    print(\"xs = \",xs)\n",
    "    \n",
    "    # Update the plot above\n",
    "##    print(\"results.index = \",results.index,\"  results.cost\", results.cost)\n",
    "##    print(\"results.index = \",results.index,\"  results.val\", results.val)\n",
    "    lines['train'].set_data(results.index,results.cost)\n",
    "    lines['val'].set_data(results.index,results.val)\n",
    "    \n",
    "    #filter first cost epoch (can be really large)\n",
    "    max_cost = max(max(results.cost if len(results.cost)<2 else results.cost[1:]), max(results.val))\n",
    "    min_cost = min(min(results.cost), min(results.val))\n",
    "    \n",
    "    # The plot limits need updating too\n",
    "    \n",
    "    \n",
    "    \n",
    "    ax.set_ylim(min_cost*.9, max_cost*1.1)  \n",
    "    ax.set_xlim(-.5, len(results.cost) - .5)\n",
    "    \n",
    "    replace_in_ax(lax, lines['eff'], xs, results['eff_val'].apply(lambda x: x.eff_rate))\n",
    "    replace_in_ax(tax, lines['fp'], xs, results['eff_val'].apply(lambda x: x.fp_rate))\n",
    "    \n",
    "    # Redraw the figure\n",
    "    fig.canvas.draw()\n",
    "\n",
    "    # Save each model state dictionary\n",
    "    torch.save(model.state_dict(), output / f'{name}_{result.epoch}.pyt')"
   ]
  },
  {
   "cell_type": "code",
   "execution_count": 16,
   "metadata": {},
   "outputs": [],
   "source": [
    "torch.save(model.state_dict(), output / f'{name}_final.pyt')"
   ]
  },
  {
   "cell_type": "code",
   "execution_count": 17,
   "metadata": {},
   "outputs": [
    {
     "name": "stderr",
     "output_type": "stream",
     "text": [
      "/apps/miniconda3/envs/june2020-gpu/lib/python3.7/site-packages/pandas/core/generic.py:2505: PerformanceWarning: \n",
      "your performance may suffer as PyTables will pickle object types that it cannot\n",
      "map directly to c-types [inferred_type->mixed-integer,key->block1_values] [items->Index(['epoch', 'eff_val'], dtype='object')]\n",
      "\n",
      "  encoding=encoding,\n"
     ]
    }
   ],
   "source": [
    "results.to_hdf(f'{name}_stats.hdf5', 'results')"
   ]
  },
  {
   "cell_type": "code",
   "execution_count": 18,
   "metadata": {},
   "outputs": [
    {
     "data": {
      "application/javascript": [
       "/* Put everything inside the global mpl namespace */\n",
       "window.mpl = {};\n",
       "\n",
       "\n",
       "mpl.get_websocket_type = function() {\n",
       "    if (typeof(WebSocket) !== 'undefined') {\n",
       "        return WebSocket;\n",
       "    } else if (typeof(MozWebSocket) !== 'undefined') {\n",
       "        return MozWebSocket;\n",
       "    } else {\n",
       "        alert('Your browser does not have WebSocket support. ' +\n",
       "              'Please try Chrome, Safari or Firefox ≥ 6. ' +\n",
       "              'Firefox 4 and 5 are also supported but you ' +\n",
       "              'have to enable WebSockets in about:config.');\n",
       "    };\n",
       "}\n",
       "\n",
       "mpl.figure = function(figure_id, websocket, ondownload, parent_element) {\n",
       "    this.id = figure_id;\n",
       "\n",
       "    this.ws = websocket;\n",
       "\n",
       "    this.supports_binary = (this.ws.binaryType != undefined);\n",
       "\n",
       "    if (!this.supports_binary) {\n",
       "        var warnings = document.getElementById(\"mpl-warnings\");\n",
       "        if (warnings) {\n",
       "            warnings.style.display = 'block';\n",
       "            warnings.textContent = (\n",
       "                \"This browser does not support binary websocket messages. \" +\n",
       "                    \"Performance may be slow.\");\n",
       "        }\n",
       "    }\n",
       "\n",
       "    this.imageObj = new Image();\n",
       "\n",
       "    this.context = undefined;\n",
       "    this.message = undefined;\n",
       "    this.canvas = undefined;\n",
       "    this.rubberband_canvas = undefined;\n",
       "    this.rubberband_context = undefined;\n",
       "    this.format_dropdown = undefined;\n",
       "\n",
       "    this.image_mode = 'full';\n",
       "\n",
       "    this.root = $('<div/>');\n",
       "    this._root_extra_style(this.root)\n",
       "    this.root.attr('style', 'display: inline-block');\n",
       "\n",
       "    $(parent_element).append(this.root);\n",
       "\n",
       "    this._init_header(this);\n",
       "    this._init_canvas(this);\n",
       "    this._init_toolbar(this);\n",
       "\n",
       "    var fig = this;\n",
       "\n",
       "    this.waiting = false;\n",
       "\n",
       "    this.ws.onopen =  function () {\n",
       "            fig.send_message(\"supports_binary\", {value: fig.supports_binary});\n",
       "            fig.send_message(\"send_image_mode\", {});\n",
       "            if (mpl.ratio != 1) {\n",
       "                fig.send_message(\"set_dpi_ratio\", {'dpi_ratio': mpl.ratio});\n",
       "            }\n",
       "            fig.send_message(\"refresh\", {});\n",
       "        }\n",
       "\n",
       "    this.imageObj.onload = function() {\n",
       "            if (fig.image_mode == 'full') {\n",
       "                // Full images could contain transparency (where diff images\n",
       "                // almost always do), so we need to clear the canvas so that\n",
       "                // there is no ghosting.\n",
       "                fig.context.clearRect(0, 0, fig.canvas.width, fig.canvas.height);\n",
       "            }\n",
       "            fig.context.drawImage(fig.imageObj, 0, 0);\n",
       "        };\n",
       "\n",
       "    this.imageObj.onunload = function() {\n",
       "        fig.ws.close();\n",
       "    }\n",
       "\n",
       "    this.ws.onmessage = this._make_on_message_function(this);\n",
       "\n",
       "    this.ondownload = ondownload;\n",
       "}\n",
       "\n",
       "mpl.figure.prototype._init_header = function() {\n",
       "    var titlebar = $(\n",
       "        '<div class=\"ui-dialog-titlebar ui-widget-header ui-corner-all ' +\n",
       "        'ui-helper-clearfix\"/>');\n",
       "    var titletext = $(\n",
       "        '<div class=\"ui-dialog-title\" style=\"width: 100%; ' +\n",
       "        'text-align: center; padding: 3px;\"/>');\n",
       "    titlebar.append(titletext)\n",
       "    this.root.append(titlebar);\n",
       "    this.header = titletext[0];\n",
       "}\n",
       "\n",
       "\n",
       "\n",
       "mpl.figure.prototype._canvas_extra_style = function(canvas_div) {\n",
       "\n",
       "}\n",
       "\n",
       "\n",
       "mpl.figure.prototype._root_extra_style = function(canvas_div) {\n",
       "\n",
       "}\n",
       "\n",
       "mpl.figure.prototype._init_canvas = function() {\n",
       "    var fig = this;\n",
       "\n",
       "    var canvas_div = $('<div/>');\n",
       "\n",
       "    canvas_div.attr('style', 'position: relative; clear: both; outline: 0');\n",
       "\n",
       "    function canvas_keyboard_event(event) {\n",
       "        return fig.key_event(event, event['data']);\n",
       "    }\n",
       "\n",
       "    canvas_div.keydown('key_press', canvas_keyboard_event);\n",
       "    canvas_div.keyup('key_release', canvas_keyboard_event);\n",
       "    this.canvas_div = canvas_div\n",
       "    this._canvas_extra_style(canvas_div)\n",
       "    this.root.append(canvas_div);\n",
       "\n",
       "    var canvas = $('<canvas/>');\n",
       "    canvas.addClass('mpl-canvas');\n",
       "    canvas.attr('style', \"left: 0; top: 0; z-index: 0; outline: 0\")\n",
       "\n",
       "    this.canvas = canvas[0];\n",
       "    this.context = canvas[0].getContext(\"2d\");\n",
       "\n",
       "    var backingStore = this.context.backingStorePixelRatio ||\n",
       "\tthis.context.webkitBackingStorePixelRatio ||\n",
       "\tthis.context.mozBackingStorePixelRatio ||\n",
       "\tthis.context.msBackingStorePixelRatio ||\n",
       "\tthis.context.oBackingStorePixelRatio ||\n",
       "\tthis.context.backingStorePixelRatio || 1;\n",
       "\n",
       "    mpl.ratio = (window.devicePixelRatio || 1) / backingStore;\n",
       "\n",
       "    var rubberband = $('<canvas/>');\n",
       "    rubberband.attr('style', \"position: absolute; left: 0; top: 0; z-index: 1;\")\n",
       "\n",
       "    var pass_mouse_events = true;\n",
       "\n",
       "    canvas_div.resizable({\n",
       "        start: function(event, ui) {\n",
       "            pass_mouse_events = false;\n",
       "        },\n",
       "        resize: function(event, ui) {\n",
       "            fig.request_resize(ui.size.width, ui.size.height);\n",
       "        },\n",
       "        stop: function(event, ui) {\n",
       "            pass_mouse_events = true;\n",
       "            fig.request_resize(ui.size.width, ui.size.height);\n",
       "        },\n",
       "    });\n",
       "\n",
       "    function mouse_event_fn(event) {\n",
       "        if (pass_mouse_events)\n",
       "            return fig.mouse_event(event, event['data']);\n",
       "    }\n",
       "\n",
       "    rubberband.mousedown('button_press', mouse_event_fn);\n",
       "    rubberband.mouseup('button_release', mouse_event_fn);\n",
       "    // Throttle sequential mouse events to 1 every 20ms.\n",
       "    rubberband.mousemove('motion_notify', mouse_event_fn);\n",
       "\n",
       "    rubberband.mouseenter('figure_enter', mouse_event_fn);\n",
       "    rubberband.mouseleave('figure_leave', mouse_event_fn);\n",
       "\n",
       "    canvas_div.on(\"wheel\", function (event) {\n",
       "        event = event.originalEvent;\n",
       "        event['data'] = 'scroll'\n",
       "        if (event.deltaY < 0) {\n",
       "            event.step = 1;\n",
       "        } else {\n",
       "            event.step = -1;\n",
       "        }\n",
       "        mouse_event_fn(event);\n",
       "    });\n",
       "\n",
       "    canvas_div.append(canvas);\n",
       "    canvas_div.append(rubberband);\n",
       "\n",
       "    this.rubberband = rubberband;\n",
       "    this.rubberband_canvas = rubberband[0];\n",
       "    this.rubberband_context = rubberband[0].getContext(\"2d\");\n",
       "    this.rubberband_context.strokeStyle = \"#000000\";\n",
       "\n",
       "    this._resize_canvas = function(width, height) {\n",
       "        // Keep the size of the canvas, canvas container, and rubber band\n",
       "        // canvas in synch.\n",
       "        canvas_div.css('width', width)\n",
       "        canvas_div.css('height', height)\n",
       "\n",
       "        canvas.attr('width', width * mpl.ratio);\n",
       "        canvas.attr('height', height * mpl.ratio);\n",
       "        canvas.attr('style', 'width: ' + width + 'px; height: ' + height + 'px;');\n",
       "\n",
       "        rubberband.attr('width', width);\n",
       "        rubberband.attr('height', height);\n",
       "    }\n",
       "\n",
       "    // Set the figure to an initial 600x600px, this will subsequently be updated\n",
       "    // upon first draw.\n",
       "    this._resize_canvas(600, 600);\n",
       "\n",
       "    // Disable right mouse context menu.\n",
       "    $(this.rubberband_canvas).bind(\"contextmenu\",function(e){\n",
       "        return false;\n",
       "    });\n",
       "\n",
       "    function set_focus () {\n",
       "        canvas.focus();\n",
       "        canvas_div.focus();\n",
       "    }\n",
       "\n",
       "    window.setTimeout(set_focus, 100);\n",
       "}\n",
       "\n",
       "mpl.figure.prototype._init_toolbar = function() {\n",
       "    var fig = this;\n",
       "\n",
       "    var nav_element = $('<div/>');\n",
       "    nav_element.attr('style', 'width: 100%');\n",
       "    this.root.append(nav_element);\n",
       "\n",
       "    // Define a callback function for later on.\n",
       "    function toolbar_event(event) {\n",
       "        return fig.toolbar_button_onclick(event['data']);\n",
       "    }\n",
       "    function toolbar_mouse_event(event) {\n",
       "        return fig.toolbar_button_onmouseover(event['data']);\n",
       "    }\n",
       "\n",
       "    for(var toolbar_ind in mpl.toolbar_items) {\n",
       "        var name = mpl.toolbar_items[toolbar_ind][0];\n",
       "        var tooltip = mpl.toolbar_items[toolbar_ind][1];\n",
       "        var image = mpl.toolbar_items[toolbar_ind][2];\n",
       "        var method_name = mpl.toolbar_items[toolbar_ind][3];\n",
       "\n",
       "        if (!name) {\n",
       "            // put a spacer in here.\n",
       "            continue;\n",
       "        }\n",
       "        var button = $('<button/>');\n",
       "        button.addClass('ui-button ui-widget ui-state-default ui-corner-all ' +\n",
       "                        'ui-button-icon-only');\n",
       "        button.attr('role', 'button');\n",
       "        button.attr('aria-disabled', 'false');\n",
       "        button.click(method_name, toolbar_event);\n",
       "        button.mouseover(tooltip, toolbar_mouse_event);\n",
       "\n",
       "        var icon_img = $('<span/>');\n",
       "        icon_img.addClass('ui-button-icon-primary ui-icon');\n",
       "        icon_img.addClass(image);\n",
       "        icon_img.addClass('ui-corner-all');\n",
       "\n",
       "        var tooltip_span = $('<span/>');\n",
       "        tooltip_span.addClass('ui-button-text');\n",
       "        tooltip_span.html(tooltip);\n",
       "\n",
       "        button.append(icon_img);\n",
       "        button.append(tooltip_span);\n",
       "\n",
       "        nav_element.append(button);\n",
       "    }\n",
       "\n",
       "    var fmt_picker_span = $('<span/>');\n",
       "\n",
       "    var fmt_picker = $('<select/>');\n",
       "    fmt_picker.addClass('mpl-toolbar-option ui-widget ui-widget-content');\n",
       "    fmt_picker_span.append(fmt_picker);\n",
       "    nav_element.append(fmt_picker_span);\n",
       "    this.format_dropdown = fmt_picker[0];\n",
       "\n",
       "    for (var ind in mpl.extensions) {\n",
       "        var fmt = mpl.extensions[ind];\n",
       "        var option = $(\n",
       "            '<option/>', {selected: fmt === mpl.default_extension}).html(fmt);\n",
       "        fmt_picker.append(option);\n",
       "    }\n",
       "\n",
       "    // Add hover states to the ui-buttons\n",
       "    $( \".ui-button\" ).hover(\n",
       "        function() { $(this).addClass(\"ui-state-hover\");},\n",
       "        function() { $(this).removeClass(\"ui-state-hover\");}\n",
       "    );\n",
       "\n",
       "    var status_bar = $('<span class=\"mpl-message\"/>');\n",
       "    nav_element.append(status_bar);\n",
       "    this.message = status_bar[0];\n",
       "}\n",
       "\n",
       "mpl.figure.prototype.request_resize = function(x_pixels, y_pixels) {\n",
       "    // Request matplotlib to resize the figure. Matplotlib will then trigger a resize in the client,\n",
       "    // which will in turn request a refresh of the image.\n",
       "    this.send_message('resize', {'width': x_pixels, 'height': y_pixels});\n",
       "}\n",
       "\n",
       "mpl.figure.prototype.send_message = function(type, properties) {\n",
       "    properties['type'] = type;\n",
       "    properties['figure_id'] = this.id;\n",
       "    this.ws.send(JSON.stringify(properties));\n",
       "}\n",
       "\n",
       "mpl.figure.prototype.send_draw_message = function() {\n",
       "    if (!this.waiting) {\n",
       "        this.waiting = true;\n",
       "        this.ws.send(JSON.stringify({type: \"draw\", figure_id: this.id}));\n",
       "    }\n",
       "}\n",
       "\n",
       "\n",
       "mpl.figure.prototype.handle_save = function(fig, msg) {\n",
       "    var format_dropdown = fig.format_dropdown;\n",
       "    var format = format_dropdown.options[format_dropdown.selectedIndex].value;\n",
       "    fig.ondownload(fig, format);\n",
       "}\n",
       "\n",
       "\n",
       "mpl.figure.prototype.handle_resize = function(fig, msg) {\n",
       "    var size = msg['size'];\n",
       "    if (size[0] != fig.canvas.width || size[1] != fig.canvas.height) {\n",
       "        fig._resize_canvas(size[0], size[1]);\n",
       "        fig.send_message(\"refresh\", {});\n",
       "    };\n",
       "}\n",
       "\n",
       "mpl.figure.prototype.handle_rubberband = function(fig, msg) {\n",
       "    var x0 = msg['x0'] / mpl.ratio;\n",
       "    var y0 = (fig.canvas.height - msg['y0']) / mpl.ratio;\n",
       "    var x1 = msg['x1'] / mpl.ratio;\n",
       "    var y1 = (fig.canvas.height - msg['y1']) / mpl.ratio;\n",
       "    x0 = Math.floor(x0) + 0.5;\n",
       "    y0 = Math.floor(y0) + 0.5;\n",
       "    x1 = Math.floor(x1) + 0.5;\n",
       "    y1 = Math.floor(y1) + 0.5;\n",
       "    var min_x = Math.min(x0, x1);\n",
       "    var min_y = Math.min(y0, y1);\n",
       "    var width = Math.abs(x1 - x0);\n",
       "    var height = Math.abs(y1 - y0);\n",
       "\n",
       "    fig.rubberband_context.clearRect(\n",
       "        0, 0, fig.canvas.width / mpl.ratio, fig.canvas.height / mpl.ratio);\n",
       "\n",
       "    fig.rubberband_context.strokeRect(min_x, min_y, width, height);\n",
       "}\n",
       "\n",
       "mpl.figure.prototype.handle_figure_label = function(fig, msg) {\n",
       "    // Updates the figure title.\n",
       "    fig.header.textContent = msg['label'];\n",
       "}\n",
       "\n",
       "mpl.figure.prototype.handle_cursor = function(fig, msg) {\n",
       "    var cursor = msg['cursor'];\n",
       "    switch(cursor)\n",
       "    {\n",
       "    case 0:\n",
       "        cursor = 'pointer';\n",
       "        break;\n",
       "    case 1:\n",
       "        cursor = 'default';\n",
       "        break;\n",
       "    case 2:\n",
       "        cursor = 'crosshair';\n",
       "        break;\n",
       "    case 3:\n",
       "        cursor = 'move';\n",
       "        break;\n",
       "    }\n",
       "    fig.rubberband_canvas.style.cursor = cursor;\n",
       "}\n",
       "\n",
       "mpl.figure.prototype.handle_message = function(fig, msg) {\n",
       "    fig.message.textContent = msg['message'];\n",
       "}\n",
       "\n",
       "mpl.figure.prototype.handle_draw = function(fig, msg) {\n",
       "    // Request the server to send over a new figure.\n",
       "    fig.send_draw_message();\n",
       "}\n",
       "\n",
       "mpl.figure.prototype.handle_image_mode = function(fig, msg) {\n",
       "    fig.image_mode = msg['mode'];\n",
       "}\n",
       "\n",
       "mpl.figure.prototype.updated_canvas_event = function() {\n",
       "    // Called whenever the canvas gets updated.\n",
       "    this.send_message(\"ack\", {});\n",
       "}\n",
       "\n",
       "// A function to construct a web socket function for onmessage handling.\n",
       "// Called in the figure constructor.\n",
       "mpl.figure.prototype._make_on_message_function = function(fig) {\n",
       "    return function socket_on_message(evt) {\n",
       "        if (evt.data instanceof Blob) {\n",
       "            /* FIXME: We get \"Resource interpreted as Image but\n",
       "             * transferred with MIME type text/plain:\" errors on\n",
       "             * Chrome.  But how to set the MIME type?  It doesn't seem\n",
       "             * to be part of the websocket stream */\n",
       "            evt.data.type = \"image/png\";\n",
       "\n",
       "            /* Free the memory for the previous frames */\n",
       "            if (fig.imageObj.src) {\n",
       "                (window.URL || window.webkitURL).revokeObjectURL(\n",
       "                    fig.imageObj.src);\n",
       "            }\n",
       "\n",
       "            fig.imageObj.src = (window.URL || window.webkitURL).createObjectURL(\n",
       "                evt.data);\n",
       "            fig.updated_canvas_event();\n",
       "            fig.waiting = false;\n",
       "            return;\n",
       "        }\n",
       "        else if (typeof evt.data === 'string' && evt.data.slice(0, 21) == \"data:image/png;base64\") {\n",
       "            fig.imageObj.src = evt.data;\n",
       "            fig.updated_canvas_event();\n",
       "            fig.waiting = false;\n",
       "            return;\n",
       "        }\n",
       "\n",
       "        var msg = JSON.parse(evt.data);\n",
       "        var msg_type = msg['type'];\n",
       "\n",
       "        // Call the  \"handle_{type}\" callback, which takes\n",
       "        // the figure and JSON message as its only arguments.\n",
       "        try {\n",
       "            var callback = fig[\"handle_\" + msg_type];\n",
       "        } catch (e) {\n",
       "            console.log(\"No handler for the '\" + msg_type + \"' message type: \", msg);\n",
       "            return;\n",
       "        }\n",
       "\n",
       "        if (callback) {\n",
       "            try {\n",
       "                // console.log(\"Handling '\" + msg_type + \"' message: \", msg);\n",
       "                callback(fig, msg);\n",
       "            } catch (e) {\n",
       "                console.log(\"Exception inside the 'handler_\" + msg_type + \"' callback:\", e, e.stack, msg);\n",
       "            }\n",
       "        }\n",
       "    };\n",
       "}\n",
       "\n",
       "// from http://stackoverflow.com/questions/1114465/getting-mouse-location-in-canvas\n",
       "mpl.findpos = function(e) {\n",
       "    //this section is from http://www.quirksmode.org/js/events_properties.html\n",
       "    var targ;\n",
       "    if (!e)\n",
       "        e = window.event;\n",
       "    if (e.target)\n",
       "        targ = e.target;\n",
       "    else if (e.srcElement)\n",
       "        targ = e.srcElement;\n",
       "    if (targ.nodeType == 3) // defeat Safari bug\n",
       "        targ = targ.parentNode;\n",
       "\n",
       "    // jQuery normalizes the pageX and pageY\n",
       "    // pageX,Y are the mouse positions relative to the document\n",
       "    // offset() returns the position of the element relative to the document\n",
       "    var x = e.pageX - $(targ).offset().left;\n",
       "    var y = e.pageY - $(targ).offset().top;\n",
       "\n",
       "    return {\"x\": x, \"y\": y};\n",
       "};\n",
       "\n",
       "/*\n",
       " * return a copy of an object with only non-object keys\n",
       " * we need this to avoid circular references\n",
       " * http://stackoverflow.com/a/24161582/3208463\n",
       " */\n",
       "function simpleKeys (original) {\n",
       "  return Object.keys(original).reduce(function (obj, key) {\n",
       "    if (typeof original[key] !== 'object')\n",
       "        obj[key] = original[key]\n",
       "    return obj;\n",
       "  }, {});\n",
       "}\n",
       "\n",
       "mpl.figure.prototype.mouse_event = function(event, name) {\n",
       "    var canvas_pos = mpl.findpos(event)\n",
       "\n",
       "    if (name === 'button_press')\n",
       "    {\n",
       "        this.canvas.focus();\n",
       "        this.canvas_div.focus();\n",
       "    }\n",
       "\n",
       "    var x = canvas_pos.x * mpl.ratio;\n",
       "    var y = canvas_pos.y * mpl.ratio;\n",
       "\n",
       "    this.send_message(name, {x: x, y: y, button: event.button,\n",
       "                             step: event.step,\n",
       "                             guiEvent: simpleKeys(event)});\n",
       "\n",
       "    /* This prevents the web browser from automatically changing to\n",
       "     * the text insertion cursor when the button is pressed.  We want\n",
       "     * to control all of the cursor setting manually through the\n",
       "     * 'cursor' event from matplotlib */\n",
       "    event.preventDefault();\n",
       "    return false;\n",
       "}\n",
       "\n",
       "mpl.figure.prototype._key_event_extra = function(event, name) {\n",
       "    // Handle any extra behaviour associated with a key event\n",
       "}\n",
       "\n",
       "mpl.figure.prototype.key_event = function(event, name) {\n",
       "\n",
       "    // Prevent repeat events\n",
       "    if (name == 'key_press')\n",
       "    {\n",
       "        if (event.which === this._key)\n",
       "            return;\n",
       "        else\n",
       "            this._key = event.which;\n",
       "    }\n",
       "    if (name == 'key_release')\n",
       "        this._key = null;\n",
       "\n",
       "    var value = '';\n",
       "    if (event.ctrlKey && event.which != 17)\n",
       "        value += \"ctrl+\";\n",
       "    if (event.altKey && event.which != 18)\n",
       "        value += \"alt+\";\n",
       "    if (event.shiftKey && event.which != 16)\n",
       "        value += \"shift+\";\n",
       "\n",
       "    value += 'k';\n",
       "    value += event.which.toString();\n",
       "\n",
       "    this._key_event_extra(event, name);\n",
       "\n",
       "    this.send_message(name, {key: value,\n",
       "                             guiEvent: simpleKeys(event)});\n",
       "    return false;\n",
       "}\n",
       "\n",
       "mpl.figure.prototype.toolbar_button_onclick = function(name) {\n",
       "    if (name == 'download') {\n",
       "        this.handle_save(this, null);\n",
       "    } else {\n",
       "        this.send_message(\"toolbar_button\", {name: name});\n",
       "    }\n",
       "};\n",
       "\n",
       "mpl.figure.prototype.toolbar_button_onmouseover = function(tooltip) {\n",
       "    this.message.textContent = tooltip;\n",
       "};\n",
       "mpl.toolbar_items = [[\"Home\", \"Reset original view\", \"fa fa-home icon-home\", \"home\"], [\"Back\", \"Back to previous view\", \"fa fa-arrow-left icon-arrow-left\", \"back\"], [\"Forward\", \"Forward to next view\", \"fa fa-arrow-right icon-arrow-right\", \"forward\"], [\"\", \"\", \"\", \"\"], [\"Pan\", \"Pan axes with left mouse, zoom with right\", \"fa fa-arrows icon-move\", \"pan\"], [\"Zoom\", \"Zoom to rectangle\", \"fa fa-square-o icon-check-empty\", \"zoom\"], [\"\", \"\", \"\", \"\"], [\"Download\", \"Download plot\", \"fa fa-floppy-o icon-save\", \"download\"]];\n",
       "\n",
       "mpl.extensions = [\"eps\", \"jpeg\", \"pdf\", \"png\", \"ps\", \"raw\", \"svg\", \"tif\"];\n",
       "\n",
       "mpl.default_extension = \"png\";var comm_websocket_adapter = function(comm) {\n",
       "    // Create a \"websocket\"-like object which calls the given IPython comm\n",
       "    // object with the appropriate methods. Currently this is a non binary\n",
       "    // socket, so there is still some room for performance tuning.\n",
       "    var ws = {};\n",
       "\n",
       "    ws.close = function() {\n",
       "        comm.close()\n",
       "    };\n",
       "    ws.send = function(m) {\n",
       "        //console.log('sending', m);\n",
       "        comm.send(m);\n",
       "    };\n",
       "    // Register the callback with on_msg.\n",
       "    comm.on_msg(function(msg) {\n",
       "        //console.log('receiving', msg['content']['data'], msg);\n",
       "        // Pass the mpl event to the overridden (by mpl) onmessage function.\n",
       "        ws.onmessage(msg['content']['data'])\n",
       "    });\n",
       "    return ws;\n",
       "}\n",
       "\n",
       "mpl.mpl_figure_comm = function(comm, msg) {\n",
       "    // This is the function which gets called when the mpl process\n",
       "    // starts-up an IPython Comm through the \"matplotlib\" channel.\n",
       "\n",
       "    var id = msg.content.data.id;\n",
       "    // Get hold of the div created by the display call when the Comm\n",
       "    // socket was opened in Python.\n",
       "    var element = $(\"#\" + id);\n",
       "    var ws_proxy = comm_websocket_adapter(comm)\n",
       "\n",
       "    function ondownload(figure, format) {\n",
       "        window.open(figure.imageObj.src);\n",
       "    }\n",
       "\n",
       "    var fig = new mpl.figure(id, ws_proxy,\n",
       "                           ondownload,\n",
       "                           element.get(0));\n",
       "\n",
       "    // Call onopen now - mpl needs it, as it is assuming we've passed it a real\n",
       "    // web socket which is closed, not our websocket->open comm proxy.\n",
       "    ws_proxy.onopen();\n",
       "\n",
       "    fig.parent_element = element.get(0);\n",
       "    fig.cell_info = mpl.find_output_cell(\"<div id='\" + id + \"'></div>\");\n",
       "    if (!fig.cell_info) {\n",
       "        console.error(\"Failed to find cell for figure\", id, fig);\n",
       "        return;\n",
       "    }\n",
       "\n",
       "    var output_index = fig.cell_info[2]\n",
       "    var cell = fig.cell_info[0];\n",
       "\n",
       "};\n",
       "\n",
       "mpl.figure.prototype.handle_close = function(fig, msg) {\n",
       "    var width = fig.canvas.width/mpl.ratio\n",
       "    fig.root.unbind('remove')\n",
       "\n",
       "    // Update the output cell to use the data from the current canvas.\n",
       "    fig.push_to_output();\n",
       "    var dataURL = fig.canvas.toDataURL();\n",
       "    // Re-enable the keyboard manager in IPython - without this line, in FF,\n",
       "    // the notebook keyboard shortcuts fail.\n",
       "    IPython.keyboard_manager.enable()\n",
       "    $(fig.parent_element).html('<img src=\"' + dataURL + '\" width=\"' + width + '\">');\n",
       "    fig.close_ws(fig, msg);\n",
       "}\n",
       "\n",
       "mpl.figure.prototype.close_ws = function(fig, msg){\n",
       "    fig.send_message('closing', msg);\n",
       "    // fig.ws.close()\n",
       "}\n",
       "\n",
       "mpl.figure.prototype.push_to_output = function(remove_interactive) {\n",
       "    // Turn the data on the canvas into data in the output cell.\n",
       "    var width = this.canvas.width/mpl.ratio\n",
       "    var dataURL = this.canvas.toDataURL();\n",
       "    this.cell_info[1]['text/html'] = '<img src=\"' + dataURL + '\" width=\"' + width + '\">';\n",
       "}\n",
       "\n",
       "mpl.figure.prototype.updated_canvas_event = function() {\n",
       "    // Tell IPython that the notebook contents must change.\n",
       "    IPython.notebook.set_dirty(true);\n",
       "    this.send_message(\"ack\", {});\n",
       "    var fig = this;\n",
       "    // Wait a second, then push the new image to the DOM so\n",
       "    // that it is saved nicely (might be nice to debounce this).\n",
       "    setTimeout(function () { fig.push_to_output() }, 1000);\n",
       "}\n",
       "\n",
       "mpl.figure.prototype._init_toolbar = function() {\n",
       "    var fig = this;\n",
       "\n",
       "    var nav_element = $('<div/>');\n",
       "    nav_element.attr('style', 'width: 100%');\n",
       "    this.root.append(nav_element);\n",
       "\n",
       "    // Define a callback function for later on.\n",
       "    function toolbar_event(event) {\n",
       "        return fig.toolbar_button_onclick(event['data']);\n",
       "    }\n",
       "    function toolbar_mouse_event(event) {\n",
       "        return fig.toolbar_button_onmouseover(event['data']);\n",
       "    }\n",
       "\n",
       "    for(var toolbar_ind in mpl.toolbar_items){\n",
       "        var name = mpl.toolbar_items[toolbar_ind][0];\n",
       "        var tooltip = mpl.toolbar_items[toolbar_ind][1];\n",
       "        var image = mpl.toolbar_items[toolbar_ind][2];\n",
       "        var method_name = mpl.toolbar_items[toolbar_ind][3];\n",
       "\n",
       "        if (!name) { continue; };\n",
       "\n",
       "        var button = $('<button class=\"btn btn-default\" href=\"#\" title=\"' + name + '\"><i class=\"fa ' + image + ' fa-lg\"></i></button>');\n",
       "        button.click(method_name, toolbar_event);\n",
       "        button.mouseover(tooltip, toolbar_mouse_event);\n",
       "        nav_element.append(button);\n",
       "    }\n",
       "\n",
       "    // Add the status bar.\n",
       "    var status_bar = $('<span class=\"mpl-message\" style=\"text-align:right; float: right;\"/>');\n",
       "    nav_element.append(status_bar);\n",
       "    this.message = status_bar[0];\n",
       "\n",
       "    // Add the close button to the window.\n",
       "    var buttongrp = $('<div class=\"btn-group inline pull-right\"></div>');\n",
       "    var button = $('<button class=\"btn btn-mini btn-primary\" href=\"#\" title=\"Stop Interaction\"><i class=\"fa fa-power-off icon-remove icon-large\"></i></button>');\n",
       "    button.click(function (evt) { fig.handle_close(fig, {}); } );\n",
       "    button.mouseover('Stop Interaction', toolbar_mouse_event);\n",
       "    buttongrp.append(button);\n",
       "    var titlebar = this.root.find($('.ui-dialog-titlebar'));\n",
       "    titlebar.prepend(buttongrp);\n",
       "}\n",
       "\n",
       "mpl.figure.prototype._root_extra_style = function(el){\n",
       "    var fig = this\n",
       "    el.on(\"remove\", function(){\n",
       "\tfig.close_ws(fig, {});\n",
       "    });\n",
       "}\n",
       "\n",
       "mpl.figure.prototype._canvas_extra_style = function(el){\n",
       "    // this is important to make the div 'focusable\n",
       "    el.attr('tabindex', 0)\n",
       "    // reach out to IPython and tell the keyboard manager to turn it's self\n",
       "    // off when our div gets focus\n",
       "\n",
       "    // location in version 3\n",
       "    if (IPython.notebook.keyboard_manager) {\n",
       "        IPython.notebook.keyboard_manager.register_events(el);\n",
       "    }\n",
       "    else {\n",
       "        // location in version 2\n",
       "        IPython.keyboard_manager.register_events(el);\n",
       "    }\n",
       "\n",
       "}\n",
       "\n",
       "mpl.figure.prototype._key_event_extra = function(event, name) {\n",
       "    var manager = IPython.notebook.keyboard_manager;\n",
       "    if (!manager)\n",
       "        manager = IPython.keyboard_manager;\n",
       "\n",
       "    // Check for shift+enter\n",
       "    if (event.shiftKey && event.which == 13) {\n",
       "        this.canvas_div.blur();\n",
       "        // select the cell after this one\n",
       "        var index = IPython.notebook.find_cell_index(this.cell_info[0]);\n",
       "        IPython.notebook.select(index + 1);\n",
       "    }\n",
       "}\n",
       "\n",
       "mpl.figure.prototype.handle_save = function(fig, msg) {\n",
       "    fig.ondownload(fig, null);\n",
       "}\n",
       "\n",
       "\n",
       "mpl.find_output_cell = function(html_output) {\n",
       "    // Return the cell and output element which can be found *uniquely* in the notebook.\n",
       "    // Note - this is a bit hacky, but it is done because the \"notebook_saving.Notebook\"\n",
       "    // IPython event is triggered only after the cells have been serialised, which for\n",
       "    // our purposes (turning an active figure into a static one), is too late.\n",
       "    var cells = IPython.notebook.get_cells();\n",
       "    var ncells = cells.length;\n",
       "    for (var i=0; i<ncells; i++) {\n",
       "        var cell = cells[i];\n",
       "        if (cell.cell_type === 'code'){\n",
       "            for (var j=0; j<cell.output_area.outputs.length; j++) {\n",
       "                var data = cell.output_area.outputs[j];\n",
       "                if (data.data) {\n",
       "                    // IPython >= 3 moved mimebundle to data attribute of output\n",
       "                    data = data.data;\n",
       "                }\n",
       "                if (data['text/html'] == html_output) {\n",
       "                    return [cell, data, j];\n",
       "                }\n",
       "            }\n",
       "        }\n",
       "    }\n",
       "}\n",
       "\n",
       "// Register the function which deals with the matplotlib target/channel.\n",
       "// The kernel may be null if the page has been refreshed.\n",
       "if (IPython.notebook.kernel != null) {\n",
       "    IPython.notebook.kernel.comm_manager.register_target('matplotlib', mpl.mpl_figure_comm);\n",
       "}\n"
      ],
      "text/plain": [
       "<IPython.core.display.Javascript object>"
      ]
     },
     "metadata": {},
     "output_type": "display_data"
    },
    {
     "data": {
      "text/html": [
       "<img src=\"data:image/png;base64,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\" width=\"999.75\">"
      ],
      "text/plain": [
       "<IPython.core.display.HTML object>"
      ]
     },
     "metadata": {},
     "output_type": "display_data"
    }
   ],
   "source": [
    "dual_train_plots(results.index,\n",
    "                 results.cost, results.val, \n",
    "                 results['eff_val'].apply(lambda x: x.eff_rate),\n",
    "                 results['eff_val'].apply(lambda x: x.fp_rate))\n",
    "plt.tight_layout()\n",
    "plt.savefig(str(output / f'{name}_stats_a.png'))"
   ]
  },
  {
   "cell_type": "markdown",
   "metadata": {},
   "source": [
    "Go ahead and save the final model (even though it was also saved above):"
   ]
  },
  {
   "cell_type": "markdown",
   "metadata": {},
   "source": [
    "Save the output results:"
   ]
  },
  {
   "cell_type": "code",
   "execution_count": 20,
   "metadata": {},
   "outputs": [],
   "source": [
    "##quit()\n",
    "\n"
   ]
  },
  {
   "cell_type": "code",
   "execution_count": null,
   "metadata": {},
   "outputs": [],
   "source": []
  }
 ],
 "metadata": {
  "kernelspec": {
   "display_name": "june2020-gpu",
   "language": "python",
   "name": "june2020-gpu"
  },
  "language_info": {
   "codemirror_mode": {
    "name": "ipython",
    "version": 3
   },
   "file_extension": ".py",
   "mimetype": "text/x-python",
   "name": "python",
   "nbconvert_exporter": "python",
   "pygments_lexer": "ipython3",
   "version": "3.7.6"
  }
 },
 "nbformat": 4,
 "nbformat_minor": 2
}
