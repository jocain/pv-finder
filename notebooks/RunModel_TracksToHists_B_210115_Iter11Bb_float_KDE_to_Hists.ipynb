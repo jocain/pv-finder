{
 "cells": [
  {
   "cell_type": "code",
   "execution_count": 1,
   "metadata": {},
   "outputs": [],
   "source": [
    "##%matplotlib widget\n",
    "## with %matplotlib notebook: seems to require ipympl as part of environment, either\n",
    "## part of the conda environment or \"pip install ipympl\"\n",
    "## otherwise, does not show ANY plots in notebook, plt.savefig() works\n",
    "%matplotlib notebook  \n",
    "##%matplotlib inline    ## --plt.savefig()  works, but re-sizing does NOT\n"
   ]
  },
  {
   "cell_type": "markdown",
   "metadata": {},
   "source": [
    "This notebook is a first attempt to read in track information and use it to predict the the full target histrograms.\n",
    "\n",
    "It will read in the TracksToDKE__Ellipsoids_DDPlus model to predict the KDE, and then feed it into a SimpleCNN model to predict the target histograms.  Initially, it will use previously trained weights.\n"
   ]
  },
  {
   "cell_type": "markdown",
   "metadata": {},
   "source": [
    "Check the current GPU usage. Please try to be nice!"
   ]
  },
  {
   "cell_type": "code",
   "execution_count": 2,
   "metadata": {},
   "outputs": [
    {
     "name": "stdout",
     "output_type": "stream",
     "text": [
      "Fri Jan 15 07:45:39 2021       \r\n",
      "+-----------------------------------------------------------------------------+\r\n",
      "| NVIDIA-SMI 450.36.06    Driver Version: 450.36.06    CUDA Version: 11.0     |\r\n",
      "|-------------------------------+----------------------+----------------------+\r\n",
      "| GPU  Name        Persistence-M| Bus-Id        Disp.A | Volatile Uncorr. ECC |\r\n",
      "| Fan  Temp  Perf  Pwr:Usage/Cap|         Memory-Usage | GPU-Util  Compute M. |\r\n",
      "|                               |                      |               MIG M. |\r\n",
      "|===============================+======================+======================|\r\n",
      "|   0  GeForce RTX 208...  On   | 00000000:18:00.0 Off |                  N/A |\r\n",
      "| 29%   35C    P8    37W / 250W |  10778MiB / 11019MiB |      0%      Default |\r\n",
      "|                               |                      |                  N/A |\r\n",
      "+-------------------------------+----------------------+----------------------+\r\n",
      "|   1  GeForce RTX 208...  On   | 00000000:3B:00.0 Off |                  N/A |\r\n",
      "| 29%   36C    P8    39W / 250W |     61MiB / 11019MiB |      0%      Default |\r\n",
      "|                               |                      |                  N/A |\r\n",
      "+-------------------------------+----------------------+----------------------+\r\n",
      "                                                                               \r\n",
      "+-----------------------------------------------------------------------------+\r\n",
      "| Processes:                                                                  |\r\n",
      "|  GPU   GI   CI        PID   Type   Process name                  GPU Memory |\r\n",
      "|        ID   ID                                                   Usage      |\r\n",
      "|=============================================================================|\r\n",
      "|    0   N/A  N/A     10361      C   ...s/june2020-gpu/bin/python     4215MiB |\r\n",
      "|    0   N/A  N/A    244396      C   ...s/june2020-gpu/bin/python     6559MiB |\r\n",
      "|    1   N/A  N/A      3736      G   /usr/bin/X                         33MiB |\r\n",
      "|    1   N/A  N/A      3790      G   /usr/bin/gnome-shell               25MiB |\r\n",
      "+-----------------------------------------------------------------------------+\r\n"
     ]
    }
   ],
   "source": [
    "!nvidia-smi"
   ]
  },
  {
   "cell_type": "markdown",
   "metadata": {},
   "source": [
    "> **WARNING**: The card numbers here are *not* the same as in CUDA. You have been warned."
   ]
  },
  {
   "cell_type": "markdown",
   "metadata": {},
   "source": [
    "## Imports"
   ]
  },
  {
   "cell_type": "code",
   "execution_count": 3,
   "metadata": {},
   "outputs": [],
   "source": [
    "import matplotlib.pyplot as plt\n",
    "import numpy as np\n",
    "import time\n",
    "import torch\n",
    "import pandas as pd\n",
    "\n",
    "# Python 3 standard library\n",
    "from pathlib import Path\n",
    "\n",
    "from model.efficiency import pv_locations, efficiency\n",
    "\n",
    "##from torchsummary import summary"
   ]
  },
  {
   "cell_type": "markdown",
   "metadata": {},
   "source": [
    "### Set up local parameters"
   ]
  },
  {
   "cell_type": "code",
   "execution_count": 4,
   "metadata": {},
   "outputs": [],
   "source": [
    "n_epochs = 50\n",
    "\n",
    "# Name is the output file name\n",
    "\n",
    "\n",
    "##  200719  mds\n",
    "##folder = '20December_Tracks_to_KDE_TestTrainedModel'\n",
    "##folder = '22December_testing_DDplus_loss_Bb_iter2_floatAll_100epochs_3em6'\n",
    "## 50 epochs using 4 of Will's files with batch_size = 48 should take\n",
    "##  just over 8 hours\n",
    "folder = '15Jan2021_TracksToHists_B_Iter11Bb_50epochs_lr_1p5em5_b48_2p5_kde2hists_float_all_4x_will'\n",
    "name = folder\n",
    "\n",
    "# Make an output folder named \"name\" (change if you want)\n",
    "\n",
    "## Special instructions for those working on goofy at UC\n",
    "## Please be very careful to make sure that your folder\n",
    "## does not live in a subdirectory of your home directory\n",
    "## this disk has very little capacity. Instead, use \n",
    "## a subdirectory in /share/lazy with a symbolic link to\n",
    "## it in this (the notebooks) subdirectory\n",
    "folder = 'ML/' + folder\n",
    "output = Path(folder)\n",
    "\n",
    "\n",
    "# Size of batches\n",
    "## reduce batch size from 64 to 32 when floating all the parameters\n",
    "##  it *appears* that storing the gradients requires extra memory\n",
    "##  batch_size = 32 --> 6623MiB / 11019 MiB on sleepy RTX2081 Ti\n",
    "batch_size = 48\n",
    "# How fast to learn\n",
    "## learning rate was 1e-7 for all layers in TracksToHists_A\n",
    "## here we want to learn only weights in the finalFilter layer\n",
    "## of TracksToHists_B, so try a high learning rate, at least initially\n",
    "## 1e-3 did well for the first 10 epochs; let's increase it for the next 40\n",
    "## reduce to 1e-3 for iteration with KDE_to_Hists weights floated\n",
    "##  cost decreased monotonically in previous run, so increase lr to 2e-3\n",
    "##  tried running with lr = 2e-3 and the validation cost function \n",
    "##  bounced around.  Want to try using a lower learning rate and\n",
    "##  a larger training sample\n",
    "##  Iter5B --  float all, leave learning rate = 5e-4\n",
    "##  Iter6C, with lr = 1e-5 rather than 1e-6, seems to be learning more quickly,\n",
    "##  so increase the learning rate to 1e-5 for Iter7B\n",
    "learning_rate = 1.5e-5"
   ]
  },
  {
   "cell_type": "markdown",
   "metadata": {},
   "source": [
    "Make the output directory if it does not exist:"
   ]
  },
  {
   "cell_type": "code",
   "execution_count": 5,
   "metadata": {},
   "outputs": [],
   "source": [
    "output.mkdir(exist_ok=True)"
   ]
  },
  {
   "cell_type": "markdown",
   "metadata": {},
   "source": [
    "## Get the helper functions\n",
    "\n",
    "Add the directory with the model\n",
    "definitions to the path so we can import from it:\n",
    "\n",
    "> When you type `import X`,\n",
    "Python searches `sys.path` for a python\n",
    "file named `X.py` to import. So we need to add the model directory to the path."
   ]
  },
  {
   "cell_type": "code",
   "execution_count": 6,
   "metadata": {
    "scrolled": true
   },
   "outputs": [],
   "source": [
    "# From model/collectdata.py\n",
    "##from model.collectdata_kde_Ellipsoids import collect_t2kde_data\n",
    "from model.collectdata_t2hists import collect_t2hists_data\n",
    "from model.collectdata_mdsA  import collect_truth\n",
    "\n",
    "# From model/loss.py\n",
    "##from loss import Loss\n",
    "##from model.kde_loss_D import Loss\n",
    "## from model.kde_loss_B import Loss  ## Tracks_to_KDE loss, not for target hists\n",
    "\n",
    "##  \"standard\" ratios loss for hists training\n",
    "from model.alt_loss_A import Loss  ## loss used to train RunModel_Demo_28November2020-SimpleCNNLayer_Ca-Restart_5\n",
    "\n",
    "\n",
    "##from model.models_kde import TracksToKDE_Ellipsoids_DirtyDozen as Model\n",
    "from model.models_kde import TracksToKDE_Ellipsoids_DDplus as t2kde_model\n",
    "##from model.models_mds_G import SimpleCNN5Layer_Ca as kde2hists_model\n",
    "from model.models_mds_28Dec20 import SimpleCNN5Layer_Ca as kde2hists_model  ## copy of models_mds_01June20 for debugging\n",
    "from model.models_t2hists import TracksToHists_B as t2hists_model\n",
    "\n",
    "\n",
    "##from model.training_kde import trainNet, select_gpu, Results\n",
    "## training_t2hists_A.py increases \"difference\" for accepting found\n",
    "## peaks as matched from 5 bins to 7.5 bins (compmared to original training.py)\n",
    "from model.training_t2hists_A import trainNet, select_gpu, Results\n",
    "from model.plots import dual_train_plots, replace_in_ax"
   ]
  },
  {
   "cell_type": "code",
   "execution_count": 7,
   "metadata": {},
   "outputs": [],
   "source": [
    "# This gets built up during the run - do not rerun this cell\n",
    "results = pd.DataFrame([], columns=Results._fields)"
   ]
  },
  {
   "cell_type": "markdown",
   "metadata": {},
   "source": [
    "Set up Torch device configuration. All tensors and model parameters need to know where to be put.\n",
    "This takes a BUS ID number: The BUS ID is the same as the listing at the top of this script."
   ]
  },
  {
   "cell_type": "code",
   "execution_count": 8,
   "metadata": {},
   "outputs": [
    {
     "name": "stdout",
     "output_type": "stream",
     "text": [
      "1 available GPUs (initially using device 0):\n",
      "  0 GeForce RTX 2080 Ti\n"
     ]
    }
   ],
   "source": [
    "device = select_gpu(1)\n",
    "##device = \"cpu\""
   ]
  },
  {
   "cell_type": "markdown",
   "metadata": {},
   "source": [
    "## Loading data\n",
    "\n",
    "Load the dataset, split into parts, then move to device (see `collectdata.py` in the `../model` directory)"
   ]
  },
  {
   "cell_type": "code",
   "execution_count": 9,
   "metadata": {
    "scrolled": false
   },
   "outputs": [
    {
     "name": "stdout",
     "output_type": "stream",
     "text": [
      "Loading data...\n",
      "pocaMx.shape =  (80000,)\n",
      "nEvts =  80000\n",
      "len(pocaMx[0]) =  199\n",
      "len(pocaMx[1]) =  25\n",
      "len(pocaMx[2]) =  369\n",
      "len(pocaMx[3]) =  143\n",
      "len(pocaMx[4]) =  160\n",
      "have entered six_ellipsoid_parameters\n",
      "  \n",
      " \n",
      "  nEvts =  80000\n",
      " iEvt, nTrks =  0 199\n",
      " iEvt, nTrks =  1 25\n",
      " iEvt, nTrks =  2 369\n",
      " iEvt, nTrks =  3 143\n",
      " iEvt, nTrks =  4 160\n",
      " iEvt, nTrks =  5 260\n",
      " iEvt, nTrks =  6 237\n",
      " iEvt, nTrks =  7 327\n",
      " iEvt, nTrks =  8 178\n",
      " iEvt, nTrks =  9 106\n",
      "len(X) =  80000\n",
      "len(Xlist) =  1\n",
      "Loaded /share/lazy/will/data/June30_2020_80k_1.h5 in 105.5 s\n",
      "pocaMx.shape =  (80000,)\n",
      "nEvts =  80000\n",
      "len(pocaMx[0]) =  222\n",
      "len(pocaMx[1]) =  133\n",
      "len(pocaMx[2]) =  259\n",
      "len(pocaMx[3]) =  114\n",
      "len(pocaMx[4]) =  143\n",
      "have entered six_ellipsoid_parameters\n",
      "  \n",
      " \n",
      "  nEvts =  80000\n",
      " iEvt, nTrks =  0 222\n",
      " iEvt, nTrks =  1 133\n",
      " iEvt, nTrks =  2 259\n",
      " iEvt, nTrks =  3 114\n",
      " iEvt, nTrks =  4 143\n",
      " iEvt, nTrks =  5 136\n",
      " iEvt, nTrks =  6 397\n",
      " iEvt, nTrks =  7 370\n",
      " iEvt, nTrks =  8 97\n",
      " iEvt, nTrks =  9 67\n",
      "len(X) =  80000\n",
      "len(Xlist) =  2\n",
      "Loaded /share/lazy/will/data/June30_2020_80k_2.h5 in 104.2 s\n",
      "pocaMx.shape =  (80000,)\n",
      "nEvts =  80000\n",
      "len(pocaMx[0]) =  196\n",
      "len(pocaMx[1]) =  35\n",
      "len(pocaMx[2]) =  265\n",
      "len(pocaMx[3]) =  128\n",
      "len(pocaMx[4]) =  124\n",
      "have entered six_ellipsoid_parameters\n",
      "  \n",
      " \n",
      "  nEvts =  80000\n",
      " iEvt, nTrks =  0 196\n",
      " iEvt, nTrks =  1 35\n",
      " iEvt, nTrks =  2 265\n",
      " iEvt, nTrks =  3 128\n",
      " iEvt, nTrks =  4 124\n",
      " iEvt, nTrks =  5 122\n",
      " iEvt, nTrks =  6 300\n",
      " iEvt, nTrks =  7 179\n",
      " iEvt, nTrks =  8 243\n",
      " iEvt, nTrks =  9 112\n",
      "len(X) =  80000\n",
      "len(Xlist) =  3\n",
      "Loaded /share/lazy/will/data/June30_2020_80k_3.h5 in 104.8 s\n",
      "pocaMx.shape =  (80000,)\n",
      "nEvts =  80000\n",
      "len(pocaMx[0]) =  204\n",
      "len(pocaMx[1]) =  33\n",
      "len(pocaMx[2]) =  206\n",
      "len(pocaMx[3]) =  150\n",
      "len(pocaMx[4]) =  96\n",
      "have entered six_ellipsoid_parameters\n",
      "  \n",
      " \n",
      "  nEvts =  80000\n",
      " iEvt, nTrks =  0 204\n",
      " iEvt, nTrks =  1 33\n",
      " iEvt, nTrks =  2 206\n",
      " iEvt, nTrks =  3 150\n",
      " iEvt, nTrks =  4 96\n",
      " iEvt, nTrks =  5 10\n",
      " iEvt, nTrks =  6 174\n",
      " iEvt, nTrks =  7 320\n",
      " iEvt, nTrks =  8 164\n",
      " iEvt, nTrks =  9 119\n",
      "len(X) =  80000\n",
      "len(Xlist) =  4\n",
      "Loaded /share/lazy/will/data/June30_2020_80k_4.h5 in 105.5 s\n",
      "outer loop X.shape =  (320000, 9, 600)\n",
      "Constructing 320000 event dataset took 1.774 s\n",
      "x_t.shape =  torch.Size([320000, 9, 600])\n",
      "x_t.shape[0] =  320000\n",
      "x_t.shape[1] =  9\n",
      "x_t.shape =  torch.Size([320000, 9, 600])\n",
      "Loading data...\n",
      "pocaMx.shape =  (20000,)\n",
      "nEvts =  20000\n",
      "len(pocaMx[0]) =  211\n",
      "len(pocaMx[1]) =  21\n",
      "len(pocaMx[2]) =  20\n",
      "len(pocaMx[3]) =  198\n",
      "len(pocaMx[4]) =  233\n",
      "have entered six_ellipsoid_parameters\n",
      "  \n",
      " \n",
      "  nEvts =  20000\n",
      " iEvt, nTrks =  0 211\n",
      " iEvt, nTrks =  1 21\n",
      " iEvt, nTrks =  2 20\n",
      " iEvt, nTrks =  3 198\n",
      " iEvt, nTrks =  4 233\n",
      " iEvt, nTrks =  5 85\n",
      " iEvt, nTrks =  6 223\n",
      " iEvt, nTrks =  7 425\n",
      " iEvt, nTrks =  8 252\n",
      " iEvt, nTrks =  9 169\n",
      "len(X) =  20000\n",
      "len(Xlist) =  1\n",
      "Loaded dataAA/20K_POCA_kernel_evts_200926.h5 in 24.93 s\n",
      "outer loop X.shape =  (20000, 9, 600)\n",
      "Constructing 20000 event dataset took 2.248 s\n",
      "x_t.shape =  torch.Size([20000, 9, 600])\n",
      "x_t.shape[0] =  20000\n",
      "x_t.shape[1] =  9\n",
      "x_t.shape =  torch.Size([20000, 9, 600])\n",
      "Loaded dataAA/20K_POCA_kernel_evts_200926.h5 in 0.01419 s\n",
      "PV.n.shape =     (20000,)\n",
      "PV.n[0].shape =  6\n",
      "PV.x[0] =        -0.06039733 0.034324445 0.032115813 0.0021888595 -0.035334907 -0.013019809\n",
      "PV.y[0] =        -0.09381338 -0.013181885 -0.030898828 -0.08940365 -0.0058297813 0.062288247\n",
      "PV.z[0] =        97.82085 61.021088 -0.15807877 134.26784 -29.881668 79.19783\n",
      "PV.n[0] =        24 26 10 7 24 19\n",
      "PV.cat[0] =      1 1 1 1 1 1\n",
      "Loaded dataAA/20K_POCA_kernel_evts_200926.h5 in 0.007728 s\n",
      "SV.n.shape =     (20000,)\n",
      "SV.n[0].shape =  2\n",
      "SV.x[0] =        -0.014751727 0.03923173\n",
      "SV.y[0] =        0.050640453 0.08648109\n",
      "SV.z[0] =        78.924194 79.170876\n",
      "SV.n[0] =        2 0\n",
      "SV.cat[0] =      1 -1\n"
     ]
    }
   ],
   "source": [
    "## 210109 let's use some of Will's toy MC for training rather than the 20K sample I've been using\n",
    "\n",
    "##train_loader = collect_t2hists_data('dataAA/20K_POCA_kernel_evts_200926.h5',\n",
    "train_loader = collect_t2hists_data('/share/lazy/will/data/June30_2020_80k_1.h5', \n",
    "                                    '/share/lazy/will/data/June30_2020_80k_2.h5',\n",
    "                                    '/share/lazy/will/data/June30_2020_80k_3.h5',\n",
    "                                    '/share/lazy/will/data/June30_2020_80k_4.h5',\n",
    "                             batch_size=batch_size,\n",
    "## if we are using a larger dataset (240K events, with the datasets above, and 11 GB  of GPU memory),\n",
    "## not the dataset will overflow the GPU memory; device=device will allow the data to move back\n",
    "## and forth between the CPU and GPU memory. While this allows use of a larger dataset, it slows\n",
    "## down performance by about 10%.  So comment out when not needed.\n",
    "##                           device=device,\n",
    "##                             slice = slice(0,18000)\n",
    "                           )\n",
    "\n",
    "\n",
    "\n",
    "                            \n",
    "# Validation dataset. You can slice to reduce the size.\n",
    "## mds no separate validation set yet,\n",
    "\n",
    "## 210109 and use everything in this 20K file for validation\n",
    "val_loader = collect_t2hists_data('dataAA/20K_POCA_kernel_evts_200926.h5',\n",
    "                            batch_size=batch_size,\n",
    "                            device=device,\n",
    "##                           slice = slice(18000,None)\n",
    "                           )\n",
    "\n",
    "PV = collect_truth('dataAA/20K_POCA_kernel_evts_200926.h5', pvs=True)\n",
    "print('PV.n.shape =    ',  PV.n.shape)\n",
    "print('PV.n[0].shape = ', *PV.n[0].shape)\n",
    "print('PV.x[0] =       ', *PV.x[0])\n",
    "print('PV.y[0] =       ', *PV.y[0])\n",
    "print('PV.z[0] =       ', *PV.z[0])\n",
    "print('PV.n[0] =       ', *PV.n[0])\n",
    "print('PV.cat[0] =     ', *PV.cat[0])\n",
    "\n",
    "SV = collect_truth('dataAA/20K_POCA_kernel_evts_200926.h5', pvs=False)\n",
    "print('SV.n.shape =    ', SV.n.shape)\n",
    "print('SV.n[0].shape = ', *SV.n[0].shape)\n",
    "print('SV.x[0] =       ', *SV.x[0])\n",
    "print('SV.y[0] =       ', *SV.y[0])\n",
    "print('SV.z[0] =       ', *SV.z[0])\n",
    "print('SV.n[0] =       ', *SV.n[0])\n",
    "print('SV.cat[0] =     ', *SV.cat[0])\n"
   ]
  },
  {
   "cell_type": "markdown",
   "metadata": {},
   "source": [
    "# Preparing the model"
   ]
  },
  {
   "cell_type": "markdown",
   "metadata": {},
   "source": [
    "Prepare a model, use multiple GPUs if they are VISIBLE, and move the model to the device."
   ]
  },
  {
   "cell_type": "code",
   "execution_count": 10,
   "metadata": {
    "scrolled": false
   },
   "outputs": [
    {
     "name": "stdout",
     "output_type": "stream",
     "text": [
      "ct, child =  0    Linear(in_features=9, out_features=50, bias=True)\n",
      "ct, child =  1    Linear(in_features=50, out_features=50, bias=True)\n",
      "ct, child =  2    Linear(in_features=50, out_features=50, bias=True)\n",
      "ct, child =  3    Linear(in_features=50, out_features=50, bias=True)\n",
      "ct, child =  4    Linear(in_features=50, out_features=50, bias=True)\n",
      "ct, child =  5    Linear(in_features=50, out_features=50, bias=True)\n",
      "ct, child =  6    Linear(in_features=50, out_features=50, bias=True)\n",
      "ct, child =  7    Linear(in_features=50, out_features=50, bias=True)\n",
      "ct, child =  8    Linear(in_features=50, out_features=50, bias=True)\n",
      "ct, child =  9    Linear(in_features=50, out_features=50, bias=True)\n",
      "ct, child =  10    Linear(in_features=50, out_features=50, bias=True)\n",
      "ct, child =  11    Linear(in_features=50, out_features=16000, bias=True)\n",
      "ct, child =  12    Conv1d(4, 25, kernel_size=(25,), stride=(1,), padding=(12,))\n",
      "ct, child =  13    Conv1d(25, 1, kernel_size=(5,), stride=(1,), padding=(2,))\n",
      "ct, child =  14    Linear(in_features=4000, out_features=4000, bias=True)\n",
      "ct, child =  15    Dropout(p=0.15, inplace=False)\n",
      "ct, child =  16    Dropout(p=0.15, inplace=False)\n",
      "ct, child =  17    Conv1d(1, 20, kernel_size=(25,), stride=(1,), padding=(12,))\n",
      "ct, child =  18    Conv1d(20, 10, kernel_size=(15,), stride=(1,), padding=(7,))\n",
      "ct, child =  19    Conv1d(10, 10, kernel_size=(15,), stride=(1,), padding=(7,))\n",
      "ct, child =  20    Conv1d(10, 10, kernel_size=(15,), stride=(1,), padding=(7,))\n",
      "ct, child =  21    Conv1d(10, 1, kernel_size=(5,), stride=(1,), padding=(2,))\n",
      "ct, child =  22    Dropout(p=0.15, inplace=False)\n",
      "ct, child =  23    Dropout(p=0.15, inplace=False)\n",
      "ct, child =  24    Dropout(p=0.15, inplace=False)\n",
      "ct, child =  25    Dropout(p=0.15, inplace=False)\n",
      "ct, child =  26    Dropout(p=0.35, inplace=False)\n",
      "ct, child =  27    Linear(in_features=4000, out_features=4000, bias=True)\n",
      "ct, child =  28    Conv1d(1, 1, kernel_size=(91,), stride=(1,), padding=(45,))\n"
     ]
    }
   ],
   "source": [
    "nOut1 = 50\n",
    "nOut2 = 50\n",
    "nOut3 = 50\n",
    "nOut4 = 50\n",
    "nOut5 = 50\n",
    "nOut6 = 50\n",
    "nOut7 = 50\n",
    "nOut8 = 50\n",
    "nOut9 = 50\n",
    "nOut10 = 50\n",
    "nOut11 = 50\n",
    "latentChannels = 4\n",
    "model_t2kde = t2kde_model(nOut1,nOut2,nOut3,nOut4,nOut5,nOut6,nOut7,nOut8,nOut9,nOut10,nOut11,latentChannels)\n",
    "model_kde2hists = kde2hists_model()\n",
    "model_t2hists = t2hists_model(nOut1,nOut2,nOut3,nOut4,nOut5,nOut6,nOut7,nOut8,nOut9,nOut10,nOut11,latentChannels)\n",
    "\n",
    "##summary(model, input_size=(4, 4000))\n",
    "##print(model.parameters)\n",
    "\n",
    "## add the following code to allow the user to freeze the some of the weights corresponding \n",
    "## to those taken from an earlier model trained with the original target histograms\n",
    "## presumably -- this leaves either the perturbative filter \"fixed\" and lets the \n",
    "## learning focus on the non-perturbative features, so get started faster, or vice versa\n",
    "\n",
    "## 210110 For Iter0, freeze all weights other than those asociated with\n",
    "## the finalFilter added in moving from TracksToHists_A to TracksToHists_B\n",
    "\n",
    "## for \"float_KDE_to_Hists\" loop over ct<17\n",
    "## for float_all loope over ct < 0\n",
    "ct = 0\n",
    "for child in model_t2hists.children():\n",
    "  print('ct, child = ',ct, \"  \", child)\n",
    "  if (ct < 0) :\n",
    "    print(\"     About to set param.requires_grad=False for ct = \", ct, \"params\")\n",
    "    for param in child.parameters():\n",
    "        param.requires_grad = False \n",
    "  ct += 1\n",
    "\n",
    "loss = Loss(epsilon=1e-5,coefficient=2.5)\n",
    "optimizer = torch.optim.Adam(model_t2hists.parameters(), lr=learning_rate)"
   ]
  },
  {
   "cell_type": "markdown",
   "metadata": {},
   "source": [
    "Let's move the model's weight matricies to the GPU:"
   ]
  },
  {
   "cell_type": "code",
   "execution_count": 11,
   "metadata": {
    "scrolled": false
   },
   "outputs": [
    {
     "data": {
      "text/plain": [
       "<All keys matched successfully>"
      ]
     },
     "execution_count": 11,
     "metadata": {},
     "output_type": "execute_result"
    }
   ],
   "source": [
    "## want to look at all three dictionaries to start:\n",
    "##  t2kde\n",
    "##  kde2hists\n",
    "##  t2hists\n",
    "## the plan is to (initially) copy weights from separate dictionaries into th t2hists dictionary\n",
    "\n",
    "##   ML -> /share/lazy/sokoloff/ML\n",
    "'''\n",
    "model_t2kde_dict = model_t2kde.state_dict()\n",
    "## mds 190725 for debugging\n",
    "print(\"for model_t2kde_dict\")\n",
    "index = 0\n",
    "for k,v in model_t2kde_dict.items():\n",
    "    print(\"index, k =  \",index,\"  \",k)\n",
    "    index = index+1\n",
    "#\n",
    "model_kde2hists_dict = model_kde2hists.state_dict()\n",
    "## mds 190725 for debugging\n",
    "print(\"for model_hists_2kde_dict\")\n",
    "index = 0\n",
    "for k,v in model_kde2hists_dict.items():\n",
    "    print(\"index, k =  \",index,\"  \",k)\n",
    "    index = index+1\n",
    "#\n",
    "model_t2hists_dict = model_t2hists.state_dict()\n",
    "## mds 190725 for debugging\n",
    "print(\"for model_hists_2kde_dict\")\n",
    "index = 0\n",
    "for k,v in model_t2hists_dict.items():\n",
    "    print(\"index, k =  \",index,\"  \",k)\n",
    "    index = index+1\n",
    "#\n",
    "\n",
    "##  build the \"updated_dict\" to become the t2hists_dictionary from the\n",
    "##  t2kde and kde2hist dictionaries\n",
    "update_dict = model_t2hists_dict\n",
    "##print(\"updated_dict = \",updated_dict)\n",
    "## when starting \"ab initio\", reduce biases as the bias gets summed for each track\n",
    "## contributing to the predicted KDE\n",
    "'''\n",
    "\n",
    "\n",
    "'''\n",
    "updated_dict[\"layer1.bias\"] = 0.005*model_dict[\"layer1.bias\"]\n",
    "updated_dict[\"layer2.bias\"] = 0.005*model_dict[\"layer2.bias\"]\n",
    "updated_dict[\"layer3.bias\"] = 0.005*model_dict[\"layer3.bias\"]\n",
    "updated_dict[\"layer4.bias\"] = 0.005*model_dict[\"layer4.bias\"]\n",
    "updated_dict[\"layer5.bias\"] = 0.005*model_dict[\"layer5.bias\"]\n",
    "updated_dict[\"layer6.bias\"] = 0.005*model_dict[\"layer6.bias\"]\n",
    "updated_dict[\"layer7.bias\"] = 0.005*model_dict[\"layer7.bias\"]\n",
    "updated_dict[\"layer8.bias\"] = 0.005*model_dict[\"layer8.bias\"]\n",
    "updated_dict[\"layer9.bias\"] = 0.005*model_dict[\"layer9.bias\"]\n",
    "updated_dict[\"layer10.bias\"] = 0.005*model_dict[\"layer10.bias\"]\n",
    "updated_dict[\"layer11.bias\"] = 0.005*model_dict[\"layer11.bias\"]\n",
    "'''\n",
    "\n",
    "'''\n",
    "##model_t2hists.load_state_dict(updated_dict,strict=False)\n",
    "\n",
    "##model__t2hists_dict = model_t2hists.state_dict()\n",
    "\n",
    "## let's get the tracks-to-kde model here\n",
    "t2kde_folder = '25December__DDplus_loss_Ba_iter5_floatAll_800epochs_5em6'  ## really iter6, really Dec. 27\n",
    "t2kde_folder = '25December__DDplus_loss_Ba_iter7_floatAll_800epochs_4em6'\n",
    "t2kde_name = t2kde_folder\n",
    "suffix = 'final'\n",
    "t2kde_dict_name = 'ML/' + t2kde_folder + '/' + t2kde_name + '_'+ suffix + '.pyt'\n",
    "print('t2kde_dict_name = ',t2kde_dict_name)\n",
    "pretrained_t2kde_dict = torch.load(t2kde_dict_name)\n",
    "\n",
    "print(\" \\n\",\"  for t2kde_pretrained_dict\")\n",
    "index = 0\n",
    "for k,v in pretrained_t2kde_dict.items():\n",
    "    print(\"index, k =  \",index,\"  \",k)\n",
    "    index = index+1\n",
    "    \n",
    "    \n",
    "## let's get the hists-to-kde model here   \n",
    "kde2hists_folder = '02June2020_CNN5Layer_Ca_another200epochs_K'\n",
    "kde2hists_name = kde2hists_folder\n",
    "suffix = 'final'\n",
    "kde2hists_dict_name = 'ML/' + kde2hists_folder + '/' + kde2hists_name + '_'+ suffix + '.pyt'\n",
    "## mds dec28 print('kde2hists_dict_name = ',kde2hists_dict_name)\n",
    "pretrained_kde2hists_dict = torch.load(kde2hists_dict_name)\n",
    "\n",
    "print(\" \\n\",\"  for kde2hists_pretrained_dict\")\n",
    "index = 0\n",
    "for k,v in pretrained_kde2hists_dict.items():\n",
    "    print(\"index, k =  \",index,\"  \",k)\n",
    "    index = index+1\n",
    " \n",
    "\n",
    "\n",
    "##print(\"model_dict instantiated\")\n",
    "# 1. filter out unnecessary keys\n",
    "pretrained_dict = {k: v for k, v in pretrained_t2kde_dict.items() if k in model_t2hists_dict}\n",
    "## mds dec28 print(\"pretrained_dict iterated\")\n",
    "# 2. overwrite entries in the existing state dict\n",
    "model_t2hists_dict.update(pretrained_dict) \n",
    "\n",
    "update_dict[\"hist_conv1.weight\"] = pretrained_kde2hists_dict[\"conv1.weight\"]\n",
    "update_dict[\"hist_conv1.bias\"]   = pretrained_kde2hists_dict[\"conv1.bias\"]\n",
    "update_dict[\"hist_conv2.weight\"] = pretrained_kde2hists_dict[\"conv2.weight\"]\n",
    "update_dict[\"hist_conv2.bias\"]   = pretrained_kde2hists_dict[\"conv2.bias\"]\n",
    "update_dict[\"hist_conv3.weight\"] = pretrained_kde2hists_dict[\"conv3.weight\"]\n",
    "update_dict[\"hist_conv3.bias\"]   = pretrained_kde2hists_dict[\"conv3.bias\"]\n",
    "update_dict[\"hist_conv4.weight\"] = pretrained_kde2hists_dict[\"conv4.weight\"]\n",
    "update_dict[\"hist_conv4.bias\"]   = pretrained_kde2hists_dict[\"conv4.bias\"]\n",
    "update_dict[\"hist_conv5.weight\"] = pretrained_kde2hists_dict[\"conv5.weight\"]\n",
    "update_dict[\"hist_conv5.bias\"]   = pretrained_kde2hists_dict[\"conv5.bias\"]\n",
    "update_dict[\"hist_fc1.weight\"]   = pretrained_kde2hists_dict[\"fc1.weight\"]\n",
    "update_dict[\"hist_fc1.bias\"]     = pretrained_kde2hists_dict[\"fc1.bias\"]\n",
    "\n",
    "##model_t2hists.update(update_dict,strict=False)\n",
    "model_t2hists.load_state_dict(update_dict,strict=False)\n",
    "model_t2hists_dict = model_t2hists.state_dict()\n",
    "'''\n",
    "\n",
    "##\n",
    "#   when starting from a model with a fully connected last layer rather than a convolutional layer\n",
    "# 3. load the new state dict\n",
    "#   need to use strict=False as the two models state model attributes do not agree exactly\n",
    "#   see https://pytorch.org/docs/master/_modules/torch/nn/modules/module.html#Module.load_state_dict\n",
    "\n",
    "t2hists_folder = '14Jan2021_TracksToHists_B_Iter10Bb_50epochs_lr_1p5em5_b48_2p5_kde2hists_float_all_4x_will'\n",
    "t2hists_name = t2hists_folder\n",
    "suffix = 'final'\n",
    "t2hists_dict_name = 'ML/' + t2hists_folder + '/' +t2hists_name + '_'+ suffix + '.pyt'\n",
    "## mds dec28 print('kde2hists_dict_name = ',kde2hists_dict_name)\n",
    "pretrained_t2hists_dict = torch.load(t2hists_dict_name) \n",
    "\n",
    "model_t2hists.load_state_dict(pretrained_t2hists_dict,strict=False)\n",
    "\n",
    "##  print('model_t2hists_dict =    ', model_t2hists_dict)\n"
   ]
  },
  {
   "cell_type": "code",
   "execution_count": 12,
   "metadata": {},
   "outputs": [],
   "source": [
    "##print('validation.dataset.tensors = ',validation.dataset.tensors)\n",
    "fig_size = plt.rcParams[\"figure.figsize\"]\n",
    "fig_size[0] = 10\n",
    "fig_size[1] = 4\n",
    "plt.rcParams[\"figure.figsize\"] = fig_size"
   ]
  },
  {
   "cell_type": "code",
   "execution_count": 13,
   "metadata": {
    "scrolled": true
   },
   "outputs": [],
   "source": [
    "model = model_t2hists.to(device)"
   ]
  },
  {
   "cell_type": "code",
   "execution_count": 14,
   "metadata": {},
   "outputs": [
    {
     "data": {
      "application/javascript": [
       "/* Put everything inside the global mpl namespace */\n",
       "window.mpl = {};\n",
       "\n",
       "\n",
       "mpl.get_websocket_type = function() {\n",
       "    if (typeof(WebSocket) !== 'undefined') {\n",
       "        return WebSocket;\n",
       "    } else if (typeof(MozWebSocket) !== 'undefined') {\n",
       "        return MozWebSocket;\n",
       "    } else {\n",
       "        alert('Your browser does not have WebSocket support. ' +\n",
       "              'Please try Chrome, Safari or Firefox ≥ 6. ' +\n",
       "              'Firefox 4 and 5 are also supported but you ' +\n",
       "              'have to enable WebSockets in about:config.');\n",
       "    };\n",
       "}\n",
       "\n",
       "mpl.figure = function(figure_id, websocket, ondownload, parent_element) {\n",
       "    this.id = figure_id;\n",
       "\n",
       "    this.ws = websocket;\n",
       "\n",
       "    this.supports_binary = (this.ws.binaryType != undefined);\n",
       "\n",
       "    if (!this.supports_binary) {\n",
       "        var warnings = document.getElementById(\"mpl-warnings\");\n",
       "        if (warnings) {\n",
       "            warnings.style.display = 'block';\n",
       "            warnings.textContent = (\n",
       "                \"This browser does not support binary websocket messages. \" +\n",
       "                    \"Performance may be slow.\");\n",
       "        }\n",
       "    }\n",
       "\n",
       "    this.imageObj = new Image();\n",
       "\n",
       "    this.context = undefined;\n",
       "    this.message = undefined;\n",
       "    this.canvas = undefined;\n",
       "    this.rubberband_canvas = undefined;\n",
       "    this.rubberband_context = undefined;\n",
       "    this.format_dropdown = undefined;\n",
       "\n",
       "    this.image_mode = 'full';\n",
       "\n",
       "    this.root = $('<div/>');\n",
       "    this._root_extra_style(this.root)\n",
       "    this.root.attr('style', 'display: inline-block');\n",
       "\n",
       "    $(parent_element).append(this.root);\n",
       "\n",
       "    this._init_header(this);\n",
       "    this._init_canvas(this);\n",
       "    this._init_toolbar(this);\n",
       "\n",
       "    var fig = this;\n",
       "\n",
       "    this.waiting = false;\n",
       "\n",
       "    this.ws.onopen =  function () {\n",
       "            fig.send_message(\"supports_binary\", {value: fig.supports_binary});\n",
       "            fig.send_message(\"send_image_mode\", {});\n",
       "            if (mpl.ratio != 1) {\n",
       "                fig.send_message(\"set_dpi_ratio\", {'dpi_ratio': mpl.ratio});\n",
       "            }\n",
       "            fig.send_message(\"refresh\", {});\n",
       "        }\n",
       "\n",
       "    this.imageObj.onload = function() {\n",
       "            if (fig.image_mode == 'full') {\n",
       "                // Full images could contain transparency (where diff images\n",
       "                // almost always do), so we need to clear the canvas so that\n",
       "                // there is no ghosting.\n",
       "                fig.context.clearRect(0, 0, fig.canvas.width, fig.canvas.height);\n",
       "            }\n",
       "            fig.context.drawImage(fig.imageObj, 0, 0);\n",
       "        };\n",
       "\n",
       "    this.imageObj.onunload = function() {\n",
       "        fig.ws.close();\n",
       "    }\n",
       "\n",
       "    this.ws.onmessage = this._make_on_message_function(this);\n",
       "\n",
       "    this.ondownload = ondownload;\n",
       "}\n",
       "\n",
       "mpl.figure.prototype._init_header = function() {\n",
       "    var titlebar = $(\n",
       "        '<div class=\"ui-dialog-titlebar ui-widget-header ui-corner-all ' +\n",
       "        'ui-helper-clearfix\"/>');\n",
       "    var titletext = $(\n",
       "        '<div class=\"ui-dialog-title\" style=\"width: 100%; ' +\n",
       "        'text-align: center; padding: 3px;\"/>');\n",
       "    titlebar.append(titletext)\n",
       "    this.root.append(titlebar);\n",
       "    this.header = titletext[0];\n",
       "}\n",
       "\n",
       "\n",
       "\n",
       "mpl.figure.prototype._canvas_extra_style = function(canvas_div) {\n",
       "\n",
       "}\n",
       "\n",
       "\n",
       "mpl.figure.prototype._root_extra_style = function(canvas_div) {\n",
       "\n",
       "}\n",
       "\n",
       "mpl.figure.prototype._init_canvas = function() {\n",
       "    var fig = this;\n",
       "\n",
       "    var canvas_div = $('<div/>');\n",
       "\n",
       "    canvas_div.attr('style', 'position: relative; clear: both; outline: 0');\n",
       "\n",
       "    function canvas_keyboard_event(event) {\n",
       "        return fig.key_event(event, event['data']);\n",
       "    }\n",
       "\n",
       "    canvas_div.keydown('key_press', canvas_keyboard_event);\n",
       "    canvas_div.keyup('key_release', canvas_keyboard_event);\n",
       "    this.canvas_div = canvas_div\n",
       "    this._canvas_extra_style(canvas_div)\n",
       "    this.root.append(canvas_div);\n",
       "\n",
       "    var canvas = $('<canvas/>');\n",
       "    canvas.addClass('mpl-canvas');\n",
       "    canvas.attr('style', \"left: 0; top: 0; z-index: 0; outline: 0\")\n",
       "\n",
       "    this.canvas = canvas[0];\n",
       "    this.context = canvas[0].getContext(\"2d\");\n",
       "\n",
       "    var backingStore = this.context.backingStorePixelRatio ||\n",
       "\tthis.context.webkitBackingStorePixelRatio ||\n",
       "\tthis.context.mozBackingStorePixelRatio ||\n",
       "\tthis.context.msBackingStorePixelRatio ||\n",
       "\tthis.context.oBackingStorePixelRatio ||\n",
       "\tthis.context.backingStorePixelRatio || 1;\n",
       "\n",
       "    mpl.ratio = (window.devicePixelRatio || 1) / backingStore;\n",
       "\n",
       "    var rubberband = $('<canvas/>');\n",
       "    rubberband.attr('style', \"position: absolute; left: 0; top: 0; z-index: 1;\")\n",
       "\n",
       "    var pass_mouse_events = true;\n",
       "\n",
       "    canvas_div.resizable({\n",
       "        start: function(event, ui) {\n",
       "            pass_mouse_events = false;\n",
       "        },\n",
       "        resize: function(event, ui) {\n",
       "            fig.request_resize(ui.size.width, ui.size.height);\n",
       "        },\n",
       "        stop: function(event, ui) {\n",
       "            pass_mouse_events = true;\n",
       "            fig.request_resize(ui.size.width, ui.size.height);\n",
       "        },\n",
       "    });\n",
       "\n",
       "    function mouse_event_fn(event) {\n",
       "        if (pass_mouse_events)\n",
       "            return fig.mouse_event(event, event['data']);\n",
       "    }\n",
       "\n",
       "    rubberband.mousedown('button_press', mouse_event_fn);\n",
       "    rubberband.mouseup('button_release', mouse_event_fn);\n",
       "    // Throttle sequential mouse events to 1 every 20ms.\n",
       "    rubberband.mousemove('motion_notify', mouse_event_fn);\n",
       "\n",
       "    rubberband.mouseenter('figure_enter', mouse_event_fn);\n",
       "    rubberband.mouseleave('figure_leave', mouse_event_fn);\n",
       "\n",
       "    canvas_div.on(\"wheel\", function (event) {\n",
       "        event = event.originalEvent;\n",
       "        event['data'] = 'scroll'\n",
       "        if (event.deltaY < 0) {\n",
       "            event.step = 1;\n",
       "        } else {\n",
       "            event.step = -1;\n",
       "        }\n",
       "        mouse_event_fn(event);\n",
       "    });\n",
       "\n",
       "    canvas_div.append(canvas);\n",
       "    canvas_div.append(rubberband);\n",
       "\n",
       "    this.rubberband = rubberband;\n",
       "    this.rubberband_canvas = rubberband[0];\n",
       "    this.rubberband_context = rubberband[0].getContext(\"2d\");\n",
       "    this.rubberband_context.strokeStyle = \"#000000\";\n",
       "\n",
       "    this._resize_canvas = function(width, height) {\n",
       "        // Keep the size of the canvas, canvas container, and rubber band\n",
       "        // canvas in synch.\n",
       "        canvas_div.css('width', width)\n",
       "        canvas_div.css('height', height)\n",
       "\n",
       "        canvas.attr('width', width * mpl.ratio);\n",
       "        canvas.attr('height', height * mpl.ratio);\n",
       "        canvas.attr('style', 'width: ' + width + 'px; height: ' + height + 'px;');\n",
       "\n",
       "        rubberband.attr('width', width);\n",
       "        rubberband.attr('height', height);\n",
       "    }\n",
       "\n",
       "    // Set the figure to an initial 600x600px, this will subsequently be updated\n",
       "    // upon first draw.\n",
       "    this._resize_canvas(600, 600);\n",
       "\n",
       "    // Disable right mouse context menu.\n",
       "    $(this.rubberband_canvas).bind(\"contextmenu\",function(e){\n",
       "        return false;\n",
       "    });\n",
       "\n",
       "    function set_focus () {\n",
       "        canvas.focus();\n",
       "        canvas_div.focus();\n",
       "    }\n",
       "\n",
       "    window.setTimeout(set_focus, 100);\n",
       "}\n",
       "\n",
       "mpl.figure.prototype._init_toolbar = function() {\n",
       "    var fig = this;\n",
       "\n",
       "    var nav_element = $('<div/>');\n",
       "    nav_element.attr('style', 'width: 100%');\n",
       "    this.root.append(nav_element);\n",
       "\n",
       "    // Define a callback function for later on.\n",
       "    function toolbar_event(event) {\n",
       "        return fig.toolbar_button_onclick(event['data']);\n",
       "    }\n",
       "    function toolbar_mouse_event(event) {\n",
       "        return fig.toolbar_button_onmouseover(event['data']);\n",
       "    }\n",
       "\n",
       "    for(var toolbar_ind in mpl.toolbar_items) {\n",
       "        var name = mpl.toolbar_items[toolbar_ind][0];\n",
       "        var tooltip = mpl.toolbar_items[toolbar_ind][1];\n",
       "        var image = mpl.toolbar_items[toolbar_ind][2];\n",
       "        var method_name = mpl.toolbar_items[toolbar_ind][3];\n",
       "\n",
       "        if (!name) {\n",
       "            // put a spacer in here.\n",
       "            continue;\n",
       "        }\n",
       "        var button = $('<button/>');\n",
       "        button.addClass('ui-button ui-widget ui-state-default ui-corner-all ' +\n",
       "                        'ui-button-icon-only');\n",
       "        button.attr('role', 'button');\n",
       "        button.attr('aria-disabled', 'false');\n",
       "        button.click(method_name, toolbar_event);\n",
       "        button.mouseover(tooltip, toolbar_mouse_event);\n",
       "\n",
       "        var icon_img = $('<span/>');\n",
       "        icon_img.addClass('ui-button-icon-primary ui-icon');\n",
       "        icon_img.addClass(image);\n",
       "        icon_img.addClass('ui-corner-all');\n",
       "\n",
       "        var tooltip_span = $('<span/>');\n",
       "        tooltip_span.addClass('ui-button-text');\n",
       "        tooltip_span.html(tooltip);\n",
       "\n",
       "        button.append(icon_img);\n",
       "        button.append(tooltip_span);\n",
       "\n",
       "        nav_element.append(button);\n",
       "    }\n",
       "\n",
       "    var fmt_picker_span = $('<span/>');\n",
       "\n",
       "    var fmt_picker = $('<select/>');\n",
       "    fmt_picker.addClass('mpl-toolbar-option ui-widget ui-widget-content');\n",
       "    fmt_picker_span.append(fmt_picker);\n",
       "    nav_element.append(fmt_picker_span);\n",
       "    this.format_dropdown = fmt_picker[0];\n",
       "\n",
       "    for (var ind in mpl.extensions) {\n",
       "        var fmt = mpl.extensions[ind];\n",
       "        var option = $(\n",
       "            '<option/>', {selected: fmt === mpl.default_extension}).html(fmt);\n",
       "        fmt_picker.append(option);\n",
       "    }\n",
       "\n",
       "    // Add hover states to the ui-buttons\n",
       "    $( \".ui-button\" ).hover(\n",
       "        function() { $(this).addClass(\"ui-state-hover\");},\n",
       "        function() { $(this).removeClass(\"ui-state-hover\");}\n",
       "    );\n",
       "\n",
       "    var status_bar = $('<span class=\"mpl-message\"/>');\n",
       "    nav_element.append(status_bar);\n",
       "    this.message = status_bar[0];\n",
       "}\n",
       "\n",
       "mpl.figure.prototype.request_resize = function(x_pixels, y_pixels) {\n",
       "    // Request matplotlib to resize the figure. Matplotlib will then trigger a resize in the client,\n",
       "    // which will in turn request a refresh of the image.\n",
       "    this.send_message('resize', {'width': x_pixels, 'height': y_pixels});\n",
       "}\n",
       "\n",
       "mpl.figure.prototype.send_message = function(type, properties) {\n",
       "    properties['type'] = type;\n",
       "    properties['figure_id'] = this.id;\n",
       "    this.ws.send(JSON.stringify(properties));\n",
       "}\n",
       "\n",
       "mpl.figure.prototype.send_draw_message = function() {\n",
       "    if (!this.waiting) {\n",
       "        this.waiting = true;\n",
       "        this.ws.send(JSON.stringify({type: \"draw\", figure_id: this.id}));\n",
       "    }\n",
       "}\n",
       "\n",
       "\n",
       "mpl.figure.prototype.handle_save = function(fig, msg) {\n",
       "    var format_dropdown = fig.format_dropdown;\n",
       "    var format = format_dropdown.options[format_dropdown.selectedIndex].value;\n",
       "    fig.ondownload(fig, format);\n",
       "}\n",
       "\n",
       "\n",
       "mpl.figure.prototype.handle_resize = function(fig, msg) {\n",
       "    var size = msg['size'];\n",
       "    if (size[0] != fig.canvas.width || size[1] != fig.canvas.height) {\n",
       "        fig._resize_canvas(size[0], size[1]);\n",
       "        fig.send_message(\"refresh\", {});\n",
       "    };\n",
       "}\n",
       "\n",
       "mpl.figure.prototype.handle_rubberband = function(fig, msg) {\n",
       "    var x0 = msg['x0'] / mpl.ratio;\n",
       "    var y0 = (fig.canvas.height - msg['y0']) / mpl.ratio;\n",
       "    var x1 = msg['x1'] / mpl.ratio;\n",
       "    var y1 = (fig.canvas.height - msg['y1']) / mpl.ratio;\n",
       "    x0 = Math.floor(x0) + 0.5;\n",
       "    y0 = Math.floor(y0) + 0.5;\n",
       "    x1 = Math.floor(x1) + 0.5;\n",
       "    y1 = Math.floor(y1) + 0.5;\n",
       "    var min_x = Math.min(x0, x1);\n",
       "    var min_y = Math.min(y0, y1);\n",
       "    var width = Math.abs(x1 - x0);\n",
       "    var height = Math.abs(y1 - y0);\n",
       "\n",
       "    fig.rubberband_context.clearRect(\n",
       "        0, 0, fig.canvas.width / mpl.ratio, fig.canvas.height / mpl.ratio);\n",
       "\n",
       "    fig.rubberband_context.strokeRect(min_x, min_y, width, height);\n",
       "}\n",
       "\n",
       "mpl.figure.prototype.handle_figure_label = function(fig, msg) {\n",
       "    // Updates the figure title.\n",
       "    fig.header.textContent = msg['label'];\n",
       "}\n",
       "\n",
       "mpl.figure.prototype.handle_cursor = function(fig, msg) {\n",
       "    var cursor = msg['cursor'];\n",
       "    switch(cursor)\n",
       "    {\n",
       "    case 0:\n",
       "        cursor = 'pointer';\n",
       "        break;\n",
       "    case 1:\n",
       "        cursor = 'default';\n",
       "        break;\n",
       "    case 2:\n",
       "        cursor = 'crosshair';\n",
       "        break;\n",
       "    case 3:\n",
       "        cursor = 'move';\n",
       "        break;\n",
       "    }\n",
       "    fig.rubberband_canvas.style.cursor = cursor;\n",
       "}\n",
       "\n",
       "mpl.figure.prototype.handle_message = function(fig, msg) {\n",
       "    fig.message.textContent = msg['message'];\n",
       "}\n",
       "\n",
       "mpl.figure.prototype.handle_draw = function(fig, msg) {\n",
       "    // Request the server to send over a new figure.\n",
       "    fig.send_draw_message();\n",
       "}\n",
       "\n",
       "mpl.figure.prototype.handle_image_mode = function(fig, msg) {\n",
       "    fig.image_mode = msg['mode'];\n",
       "}\n",
       "\n",
       "mpl.figure.prototype.updated_canvas_event = function() {\n",
       "    // Called whenever the canvas gets updated.\n",
       "    this.send_message(\"ack\", {});\n",
       "}\n",
       "\n",
       "// A function to construct a web socket function for onmessage handling.\n",
       "// Called in the figure constructor.\n",
       "mpl.figure.prototype._make_on_message_function = function(fig) {\n",
       "    return function socket_on_message(evt) {\n",
       "        if (evt.data instanceof Blob) {\n",
       "            /* FIXME: We get \"Resource interpreted as Image but\n",
       "             * transferred with MIME type text/plain:\" errors on\n",
       "             * Chrome.  But how to set the MIME type?  It doesn't seem\n",
       "             * to be part of the websocket stream */\n",
       "            evt.data.type = \"image/png\";\n",
       "\n",
       "            /* Free the memory for the previous frames */\n",
       "            if (fig.imageObj.src) {\n",
       "                (window.URL || window.webkitURL).revokeObjectURL(\n",
       "                    fig.imageObj.src);\n",
       "            }\n",
       "\n",
       "            fig.imageObj.src = (window.URL || window.webkitURL).createObjectURL(\n",
       "                evt.data);\n",
       "            fig.updated_canvas_event();\n",
       "            fig.waiting = false;\n",
       "            return;\n",
       "        }\n",
       "        else if (typeof evt.data === 'string' && evt.data.slice(0, 21) == \"data:image/png;base64\") {\n",
       "            fig.imageObj.src = evt.data;\n",
       "            fig.updated_canvas_event();\n",
       "            fig.waiting = false;\n",
       "            return;\n",
       "        }\n",
       "\n",
       "        var msg = JSON.parse(evt.data);\n",
       "        var msg_type = msg['type'];\n",
       "\n",
       "        // Call the  \"handle_{type}\" callback, which takes\n",
       "        // the figure and JSON message as its only arguments.\n",
       "        try {\n",
       "            var callback = fig[\"handle_\" + msg_type];\n",
       "        } catch (e) {\n",
       "            console.log(\"No handler for the '\" + msg_type + \"' message type: \", msg);\n",
       "            return;\n",
       "        }\n",
       "\n",
       "        if (callback) {\n",
       "            try {\n",
       "                // console.log(\"Handling '\" + msg_type + \"' message: \", msg);\n",
       "                callback(fig, msg);\n",
       "            } catch (e) {\n",
       "                console.log(\"Exception inside the 'handler_\" + msg_type + \"' callback:\", e, e.stack, msg);\n",
       "            }\n",
       "        }\n",
       "    };\n",
       "}\n",
       "\n",
       "// from http://stackoverflow.com/questions/1114465/getting-mouse-location-in-canvas\n",
       "mpl.findpos = function(e) {\n",
       "    //this section is from http://www.quirksmode.org/js/events_properties.html\n",
       "    var targ;\n",
       "    if (!e)\n",
       "        e = window.event;\n",
       "    if (e.target)\n",
       "        targ = e.target;\n",
       "    else if (e.srcElement)\n",
       "        targ = e.srcElement;\n",
       "    if (targ.nodeType == 3) // defeat Safari bug\n",
       "        targ = targ.parentNode;\n",
       "\n",
       "    // jQuery normalizes the pageX and pageY\n",
       "    // pageX,Y are the mouse positions relative to the document\n",
       "    // offset() returns the position of the element relative to the document\n",
       "    var x = e.pageX - $(targ).offset().left;\n",
       "    var y = e.pageY - $(targ).offset().top;\n",
       "\n",
       "    return {\"x\": x, \"y\": y};\n",
       "};\n",
       "\n",
       "/*\n",
       " * return a copy of an object with only non-object keys\n",
       " * we need this to avoid circular references\n",
       " * http://stackoverflow.com/a/24161582/3208463\n",
       " */\n",
       "function simpleKeys (original) {\n",
       "  return Object.keys(original).reduce(function (obj, key) {\n",
       "    if (typeof original[key] !== 'object')\n",
       "        obj[key] = original[key]\n",
       "    return obj;\n",
       "  }, {});\n",
       "}\n",
       "\n",
       "mpl.figure.prototype.mouse_event = function(event, name) {\n",
       "    var canvas_pos = mpl.findpos(event)\n",
       "\n",
       "    if (name === 'button_press')\n",
       "    {\n",
       "        this.canvas.focus();\n",
       "        this.canvas_div.focus();\n",
       "    }\n",
       "\n",
       "    var x = canvas_pos.x * mpl.ratio;\n",
       "    var y = canvas_pos.y * mpl.ratio;\n",
       "\n",
       "    this.send_message(name, {x: x, y: y, button: event.button,\n",
       "                             step: event.step,\n",
       "                             guiEvent: simpleKeys(event)});\n",
       "\n",
       "    /* This prevents the web browser from automatically changing to\n",
       "     * the text insertion cursor when the button is pressed.  We want\n",
       "     * to control all of the cursor setting manually through the\n",
       "     * 'cursor' event from matplotlib */\n",
       "    event.preventDefault();\n",
       "    return false;\n",
       "}\n",
       "\n",
       "mpl.figure.prototype._key_event_extra = function(event, name) {\n",
       "    // Handle any extra behaviour associated with a key event\n",
       "}\n",
       "\n",
       "mpl.figure.prototype.key_event = function(event, name) {\n",
       "\n",
       "    // Prevent repeat events\n",
       "    if (name == 'key_press')\n",
       "    {\n",
       "        if (event.which === this._key)\n",
       "            return;\n",
       "        else\n",
       "            this._key = event.which;\n",
       "    }\n",
       "    if (name == 'key_release')\n",
       "        this._key = null;\n",
       "\n",
       "    var value = '';\n",
       "    if (event.ctrlKey && event.which != 17)\n",
       "        value += \"ctrl+\";\n",
       "    if (event.altKey && event.which != 18)\n",
       "        value += \"alt+\";\n",
       "    if (event.shiftKey && event.which != 16)\n",
       "        value += \"shift+\";\n",
       "\n",
       "    value += 'k';\n",
       "    value += event.which.toString();\n",
       "\n",
       "    this._key_event_extra(event, name);\n",
       "\n",
       "    this.send_message(name, {key: value,\n",
       "                             guiEvent: simpleKeys(event)});\n",
       "    return false;\n",
       "}\n",
       "\n",
       "mpl.figure.prototype.toolbar_button_onclick = function(name) {\n",
       "    if (name == 'download') {\n",
       "        this.handle_save(this, null);\n",
       "    } else {\n",
       "        this.send_message(\"toolbar_button\", {name: name});\n",
       "    }\n",
       "};\n",
       "\n",
       "mpl.figure.prototype.toolbar_button_onmouseover = function(tooltip) {\n",
       "    this.message.textContent = tooltip;\n",
       "};\n",
       "mpl.toolbar_items = [[\"Home\", \"Reset original view\", \"fa fa-home icon-home\", \"home\"], [\"Back\", \"Back to previous view\", \"fa fa-arrow-left icon-arrow-left\", \"back\"], [\"Forward\", \"Forward to next view\", \"fa fa-arrow-right icon-arrow-right\", \"forward\"], [\"\", \"\", \"\", \"\"], [\"Pan\", \"Pan axes with left mouse, zoom with right\", \"fa fa-arrows icon-move\", \"pan\"], [\"Zoom\", \"Zoom to rectangle\", \"fa fa-square-o icon-check-empty\", \"zoom\"], [\"\", \"\", \"\", \"\"], [\"Download\", \"Download plot\", \"fa fa-floppy-o icon-save\", \"download\"]];\n",
       "\n",
       "mpl.extensions = [\"eps\", \"jpeg\", \"pdf\", \"png\", \"ps\", \"raw\", \"svg\", \"tif\"];\n",
       "\n",
       "mpl.default_extension = \"png\";var comm_websocket_adapter = function(comm) {\n",
       "    // Create a \"websocket\"-like object which calls the given IPython comm\n",
       "    // object with the appropriate methods. Currently this is a non binary\n",
       "    // socket, so there is still some room for performance tuning.\n",
       "    var ws = {};\n",
       "\n",
       "    ws.close = function() {\n",
       "        comm.close()\n",
       "    };\n",
       "    ws.send = function(m) {\n",
       "        //console.log('sending', m);\n",
       "        comm.send(m);\n",
       "    };\n",
       "    // Register the callback with on_msg.\n",
       "    comm.on_msg(function(msg) {\n",
       "        //console.log('receiving', msg['content']['data'], msg);\n",
       "        // Pass the mpl event to the overridden (by mpl) onmessage function.\n",
       "        ws.onmessage(msg['content']['data'])\n",
       "    });\n",
       "    return ws;\n",
       "}\n",
       "\n",
       "mpl.mpl_figure_comm = function(comm, msg) {\n",
       "    // This is the function which gets called when the mpl process\n",
       "    // starts-up an IPython Comm through the \"matplotlib\" channel.\n",
       "\n",
       "    var id = msg.content.data.id;\n",
       "    // Get hold of the div created by the display call when the Comm\n",
       "    // socket was opened in Python.\n",
       "    var element = $(\"#\" + id);\n",
       "    var ws_proxy = comm_websocket_adapter(comm)\n",
       "\n",
       "    function ondownload(figure, format) {\n",
       "        window.open(figure.imageObj.src);\n",
       "    }\n",
       "\n",
       "    var fig = new mpl.figure(id, ws_proxy,\n",
       "                           ondownload,\n",
       "                           element.get(0));\n",
       "\n",
       "    // Call onopen now - mpl needs it, as it is assuming we've passed it a real\n",
       "    // web socket which is closed, not our websocket->open comm proxy.\n",
       "    ws_proxy.onopen();\n",
       "\n",
       "    fig.parent_element = element.get(0);\n",
       "    fig.cell_info = mpl.find_output_cell(\"<div id='\" + id + \"'></div>\");\n",
       "    if (!fig.cell_info) {\n",
       "        console.error(\"Failed to find cell for figure\", id, fig);\n",
       "        return;\n",
       "    }\n",
       "\n",
       "    var output_index = fig.cell_info[2]\n",
       "    var cell = fig.cell_info[0];\n",
       "\n",
       "};\n",
       "\n",
       "mpl.figure.prototype.handle_close = function(fig, msg) {\n",
       "    var width = fig.canvas.width/mpl.ratio\n",
       "    fig.root.unbind('remove')\n",
       "\n",
       "    // Update the output cell to use the data from the current canvas.\n",
       "    fig.push_to_output();\n",
       "    var dataURL = fig.canvas.toDataURL();\n",
       "    // Re-enable the keyboard manager in IPython - without this line, in FF,\n",
       "    // the notebook keyboard shortcuts fail.\n",
       "    IPython.keyboard_manager.enable()\n",
       "    $(fig.parent_element).html('<img src=\"' + dataURL + '\" width=\"' + width + '\">');\n",
       "    fig.close_ws(fig, msg);\n",
       "}\n",
       "\n",
       "mpl.figure.prototype.close_ws = function(fig, msg){\n",
       "    fig.send_message('closing', msg);\n",
       "    // fig.ws.close()\n",
       "}\n",
       "\n",
       "mpl.figure.prototype.push_to_output = function(remove_interactive) {\n",
       "    // Turn the data on the canvas into data in the output cell.\n",
       "    var width = this.canvas.width/mpl.ratio\n",
       "    var dataURL = this.canvas.toDataURL();\n",
       "    this.cell_info[1]['text/html'] = '<img src=\"' + dataURL + '\" width=\"' + width + '\">';\n",
       "}\n",
       "\n",
       "mpl.figure.prototype.updated_canvas_event = function() {\n",
       "    // Tell IPython that the notebook contents must change.\n",
       "    IPython.notebook.set_dirty(true);\n",
       "    this.send_message(\"ack\", {});\n",
       "    var fig = this;\n",
       "    // Wait a second, then push the new image to the DOM so\n",
       "    // that it is saved nicely (might be nice to debounce this).\n",
       "    setTimeout(function () { fig.push_to_output() }, 1000);\n",
       "}\n",
       "\n",
       "mpl.figure.prototype._init_toolbar = function() {\n",
       "    var fig = this;\n",
       "\n",
       "    var nav_element = $('<div/>');\n",
       "    nav_element.attr('style', 'width: 100%');\n",
       "    this.root.append(nav_element);\n",
       "\n",
       "    // Define a callback function for later on.\n",
       "    function toolbar_event(event) {\n",
       "        return fig.toolbar_button_onclick(event['data']);\n",
       "    }\n",
       "    function toolbar_mouse_event(event) {\n",
       "        return fig.toolbar_button_onmouseover(event['data']);\n",
       "    }\n",
       "\n",
       "    for(var toolbar_ind in mpl.toolbar_items){\n",
       "        var name = mpl.toolbar_items[toolbar_ind][0];\n",
       "        var tooltip = mpl.toolbar_items[toolbar_ind][1];\n",
       "        var image = mpl.toolbar_items[toolbar_ind][2];\n",
       "        var method_name = mpl.toolbar_items[toolbar_ind][3];\n",
       "\n",
       "        if (!name) { continue; };\n",
       "\n",
       "        var button = $('<button class=\"btn btn-default\" href=\"#\" title=\"' + name + '\"><i class=\"fa ' + image + ' fa-lg\"></i></button>');\n",
       "        button.click(method_name, toolbar_event);\n",
       "        button.mouseover(tooltip, toolbar_mouse_event);\n",
       "        nav_element.append(button);\n",
       "    }\n",
       "\n",
       "    // Add the status bar.\n",
       "    var status_bar = $('<span class=\"mpl-message\" style=\"text-align:right; float: right;\"/>');\n",
       "    nav_element.append(status_bar);\n",
       "    this.message = status_bar[0];\n",
       "\n",
       "    // Add the close button to the window.\n",
       "    var buttongrp = $('<div class=\"btn-group inline pull-right\"></div>');\n",
       "    var button = $('<button class=\"btn btn-mini btn-primary\" href=\"#\" title=\"Stop Interaction\"><i class=\"fa fa-power-off icon-remove icon-large\"></i></button>');\n",
       "    button.click(function (evt) { fig.handle_close(fig, {}); } );\n",
       "    button.mouseover('Stop Interaction', toolbar_mouse_event);\n",
       "    buttongrp.append(button);\n",
       "    var titlebar = this.root.find($('.ui-dialog-titlebar'));\n",
       "    titlebar.prepend(buttongrp);\n",
       "}\n",
       "\n",
       "mpl.figure.prototype._root_extra_style = function(el){\n",
       "    var fig = this\n",
       "    el.on(\"remove\", function(){\n",
       "\tfig.close_ws(fig, {});\n",
       "    });\n",
       "}\n",
       "\n",
       "mpl.figure.prototype._canvas_extra_style = function(el){\n",
       "    // this is important to make the div 'focusable\n",
       "    el.attr('tabindex', 0)\n",
       "    // reach out to IPython and tell the keyboard manager to turn it's self\n",
       "    // off when our div gets focus\n",
       "\n",
       "    // location in version 3\n",
       "    if (IPython.notebook.keyboard_manager) {\n",
       "        IPython.notebook.keyboard_manager.register_events(el);\n",
       "    }\n",
       "    else {\n",
       "        // location in version 2\n",
       "        IPython.keyboard_manager.register_events(el);\n",
       "    }\n",
       "\n",
       "}\n",
       "\n",
       "mpl.figure.prototype._key_event_extra = function(event, name) {\n",
       "    var manager = IPython.notebook.keyboard_manager;\n",
       "    if (!manager)\n",
       "        manager = IPython.keyboard_manager;\n",
       "\n",
       "    // Check for shift+enter\n",
       "    if (event.shiftKey && event.which == 13) {\n",
       "        this.canvas_div.blur();\n",
       "        // select the cell after this one\n",
       "        var index = IPython.notebook.find_cell_index(this.cell_info[0]);\n",
       "        IPython.notebook.select(index + 1);\n",
       "    }\n",
       "}\n",
       "\n",
       "mpl.figure.prototype.handle_save = function(fig, msg) {\n",
       "    fig.ondownload(fig, null);\n",
       "}\n",
       "\n",
       "\n",
       "mpl.find_output_cell = function(html_output) {\n",
       "    // Return the cell and output element which can be found *uniquely* in the notebook.\n",
       "    // Note - this is a bit hacky, but it is done because the \"notebook_saving.Notebook\"\n",
       "    // IPython event is triggered only after the cells have been serialised, which for\n",
       "    // our purposes (turning an active figure into a static one), is too late.\n",
       "    var cells = IPython.notebook.get_cells();\n",
       "    var ncells = cells.length;\n",
       "    for (var i=0; i<ncells; i++) {\n",
       "        var cell = cells[i];\n",
       "        if (cell.cell_type === 'code'){\n",
       "            for (var j=0; j<cell.output_area.outputs.length; j++) {\n",
       "                var data = cell.output_area.outputs[j];\n",
       "                if (data.data) {\n",
       "                    // IPython >= 3 moved mimebundle to data attribute of output\n",
       "                    data = data.data;\n",
       "                }\n",
       "                if (data['text/html'] == html_output) {\n",
       "                    return [cell, data, j];\n",
       "                }\n",
       "            }\n",
       "        }\n",
       "    }\n",
       "}\n",
       "\n",
       "// Register the function which deals with the matplotlib target/channel.\n",
       "// The kernel may be null if the page has been refreshed.\n",
       "if (IPython.notebook.kernel != null) {\n",
       "    IPython.notebook.kernel.comm_manager.register_target('matplotlib', mpl.mpl_figure_comm);\n",
       "}\n"
      ],
      "text/plain": [
       "<IPython.core.display.Javascript object>"
      ]
     },
     "metadata": {},
     "output_type": "display_data"
    },
    {
     "data": {
      "text/html": [
       "<img src=\"data:image/png;base64,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\" width=\"1000\">"
      ],
      "text/plain": [
       "<IPython.core.display.HTML object>"
      ]
     },
     "metadata": {},
     "output_type": "display_data"
    }
   ],
   "source": [
    "ax, tax, lax, lines = dual_train_plots()\n",
    "fig = ax.figure\n",
    "plt.tight_layout()"
   ]
  },
  {
   "cell_type": "code",
   "execution_count": 15,
   "metadata": {
    "scrolled": false
   },
   "outputs": [
    {
     "name": "stdout",
     "output_type": "stream",
     "text": [
      "Number of batches: train = 6667, val = 417\n"
     ]
    },
    {
     "data": {
      "application/vnd.jupyter.widget-view+json": {
       "model_id": "8bd67c445e524d25a34e531a97db7755",
       "version_major": 2,
       "version_minor": 0
      },
      "text/plain": [
       "HBox(children=(FloatProgress(value=0.0, description='Epochs', layout=Layout(flex='2'), max=50.0, style=Progres…"
      ]
     },
     "metadata": {},
     "output_type": "display_data"
    },
    {
     "data": {
      "application/vnd.jupyter.widget-view+json": {
       "model_id": "",
       "version_major": 2,
       "version_minor": 0
      },
      "text/plain": [
       "HBox(children=(FloatProgress(value=0.0, description='Training', layout=Layout(flex='2'), max=6667.0, style=Pro…"
      ]
     },
     "metadata": {},
     "output_type": "display_data"
    },
    {
     "name": "stdout",
     "output_type": "stream",
     "text": [
      "Epoch 0: train=6.68882, val=6.52192, took 602.1 s\n",
      "  Validation Found 87056 of 108024, added 8897 (eff 80.59%) (0.445 FP/event)\n"
     ]
    },
    {
     "data": {
      "application/vnd.jupyter.widget-view+json": {
       "model_id": "",
       "version_major": 2,
       "version_minor": 0
      },
      "text/plain": [
       "HBox(children=(FloatProgress(value=0.0, description='Training', layout=Layout(flex='2'), max=6667.0, style=Pro…"
      ]
     },
     "metadata": {},
     "output_type": "display_data"
    },
    {
     "name": "stdout",
     "output_type": "stream",
     "text": [
      "Epoch 1: train=6.67161, val=6.06071, took 593.38 s\n",
      "  Validation Found 86959 of 108024, added 8546 (eff 80.50%) (0.427 FP/event)\n"
     ]
    },
    {
     "data": {
      "application/vnd.jupyter.widget-view+json": {
       "model_id": "",
       "version_major": 2,
       "version_minor": 0
      },
      "text/plain": [
       "HBox(children=(FloatProgress(value=0.0, description='Training', layout=Layout(flex='2'), max=6667.0, style=Pro…"
      ]
     },
     "metadata": {},
     "output_type": "display_data"
    },
    {
     "name": "stdout",
     "output_type": "stream",
     "text": [
      "Epoch 2: train=6.6734, val=6.04442, took 594.8 s\n",
      "  Validation Found 86757 of 108024, added 8400 (eff 80.31%) (0.42 FP/event)\n"
     ]
    },
    {
     "data": {
      "application/vnd.jupyter.widget-view+json": {
       "model_id": "",
       "version_major": 2,
       "version_minor": 0
      },
      "text/plain": [
       "HBox(children=(FloatProgress(value=0.0, description='Training', layout=Layout(flex='2'), max=6667.0, style=Pro…"
      ]
     },
     "metadata": {},
     "output_type": "display_data"
    },
    {
     "name": "stdout",
     "output_type": "stream",
     "text": [
      "Epoch 3: train=6.66535, val=6.28434, took 592.42 s\n",
      "  Validation Found 86965 of 108024, added 8808 (eff 80.51%) (0.44 FP/event)\n"
     ]
    },
    {
     "data": {
      "application/vnd.jupyter.widget-view+json": {
       "model_id": "",
       "version_major": 2,
       "version_minor": 0
      },
      "text/plain": [
       "HBox(children=(FloatProgress(value=0.0, description='Training', layout=Layout(flex='2'), max=6667.0, style=Pro…"
      ]
     },
     "metadata": {},
     "output_type": "display_data"
    },
    {
     "name": "stdout",
     "output_type": "stream",
     "text": [
      "Epoch 4: train=6.66313, val=6.04531, took 591.54 s\n",
      "  Validation Found 87229 of 108024, added 8607 (eff 80.75%) (0.43 FP/event)\n"
     ]
    },
    {
     "data": {
      "application/vnd.jupyter.widget-view+json": {
       "model_id": "",
       "version_major": 2,
       "version_minor": 0
      },
      "text/plain": [
       "HBox(children=(FloatProgress(value=0.0, description='Training', layout=Layout(flex='2'), max=6667.0, style=Pro…"
      ]
     },
     "metadata": {},
     "output_type": "display_data"
    },
    {
     "name": "stdout",
     "output_type": "stream",
     "text": [
      "Epoch 5: train=6.66202, val=6.08119, took 590.43 s\n",
      "  Validation Found 86524 of 108024, added 8279 (eff 80.10%) (0.414 FP/event)\n"
     ]
    },
    {
     "data": {
      "application/vnd.jupyter.widget-view+json": {
       "model_id": "",
       "version_major": 2,
       "version_minor": 0
      },
      "text/plain": [
       "HBox(children=(FloatProgress(value=0.0, description='Training', layout=Layout(flex='2'), max=6667.0, style=Pro…"
      ]
     },
     "metadata": {},
     "output_type": "display_data"
    },
    {
     "name": "stdout",
     "output_type": "stream",
     "text": [
      "Epoch 6: train=6.66276, val=5.98246, took 590.31 s\n",
      "  Validation Found 87248 of 108024, added 8617 (eff 80.77%) (0.431 FP/event)\n"
     ]
    },
    {
     "data": {
      "application/vnd.jupyter.widget-view+json": {
       "model_id": "",
       "version_major": 2,
       "version_minor": 0
      },
      "text/plain": [
       "HBox(children=(FloatProgress(value=0.0, description='Training', layout=Layout(flex='2'), max=6667.0, style=Pro…"
      ]
     },
     "metadata": {},
     "output_type": "display_data"
    },
    {
     "name": "stdout",
     "output_type": "stream",
     "text": [
      "Epoch 7: train=6.65702, val=6.37984, took 590.2 s\n",
      "  Validation Found 87169 of 108024, added 8828 (eff 80.69%) (0.441 FP/event)\n"
     ]
    },
    {
     "data": {
      "application/vnd.jupyter.widget-view+json": {
       "model_id": "",
       "version_major": 2,
       "version_minor": 0
      },
      "text/plain": [
       "HBox(children=(FloatProgress(value=0.0, description='Training', layout=Layout(flex='2'), max=6667.0, style=Pro…"
      ]
     },
     "metadata": {},
     "output_type": "display_data"
    },
    {
     "name": "stdout",
     "output_type": "stream",
     "text": [
      "Epoch 8: train=6.64937, val=6.28984, took 590.33 s\n",
      "  Validation Found 87322 of 108024, added 8792 (eff 80.84%) (0.44 FP/event)\n"
     ]
    },
    {
     "data": {
      "application/vnd.jupyter.widget-view+json": {
       "model_id": "",
       "version_major": 2,
       "version_minor": 0
      },
      "text/plain": [
       "HBox(children=(FloatProgress(value=0.0, description='Training', layout=Layout(flex='2'), max=6667.0, style=Pro…"
      ]
     },
     "metadata": {},
     "output_type": "display_data"
    },
    {
     "name": "stdout",
     "output_type": "stream",
     "text": [
      "Epoch 9: train=6.64628, val=6.03653, took 590.84 s\n",
      "  Validation Found 87244 of 108024, added 8609 (eff 80.76%) (0.43 FP/event)\n"
     ]
    },
    {
     "data": {
      "application/vnd.jupyter.widget-view+json": {
       "model_id": "",
       "version_major": 2,
       "version_minor": 0
      },
      "text/plain": [
       "HBox(children=(FloatProgress(value=0.0, description='Training', layout=Layout(flex='2'), max=6667.0, style=Pro…"
      ]
     },
     "metadata": {},
     "output_type": "display_data"
    },
    {
     "name": "stdout",
     "output_type": "stream",
     "text": [
      "Epoch 10: train=6.6373, val=6.05229, took 590.17 s\n",
      "  Validation Found 87540 of 108024, added 8877 (eff 81.04%) (0.444 FP/event)\n"
     ]
    },
    {
     "data": {
      "application/vnd.jupyter.widget-view+json": {
       "model_id": "",
       "version_major": 2,
       "version_minor": 0
      },
      "text/plain": [
       "HBox(children=(FloatProgress(value=0.0, description='Training', layout=Layout(flex='2'), max=6667.0, style=Pro…"
      ]
     },
     "metadata": {},
     "output_type": "display_data"
    },
    {
     "name": "stdout",
     "output_type": "stream",
     "text": [
      "Epoch 11: train=6.63788, val=6.03757, took 590.21 s\n",
      "  Validation Found 86979 of 108024, added 8709 (eff 80.52%) (0.435 FP/event)\n"
     ]
    },
    {
     "data": {
      "application/vnd.jupyter.widget-view+json": {
       "model_id": "",
       "version_major": 2,
       "version_minor": 0
      },
      "text/plain": [
       "HBox(children=(FloatProgress(value=0.0, description='Training', layout=Layout(flex='2'), max=6667.0, style=Pro…"
      ]
     },
     "metadata": {},
     "output_type": "display_data"
    },
    {
     "name": "stdout",
     "output_type": "stream",
     "text": [
      "Epoch 12: train=6.63365, val=5.99852, took 590.66 s\n",
      "  Validation Found 87181 of 108024, added 8565 (eff 80.71%) (0.428 FP/event)\n"
     ]
    },
    {
     "data": {
      "application/vnd.jupyter.widget-view+json": {
       "model_id": "",
       "version_major": 2,
       "version_minor": 0
      },
      "text/plain": [
       "HBox(children=(FloatProgress(value=0.0, description='Training', layout=Layout(flex='2'), max=6667.0, style=Pro…"
      ]
     },
     "metadata": {},
     "output_type": "display_data"
    },
    {
     "name": "stdout",
     "output_type": "stream",
     "text": [
      "Epoch 13: train=6.62716, val=5.99097, took 589.95 s\n",
      "  Validation Found 86985 of 108024, added 8575 (eff 80.52%) (0.429 FP/event)\n"
     ]
    },
    {
     "data": {
      "application/vnd.jupyter.widget-view+json": {
       "model_id": "",
       "version_major": 2,
       "version_minor": 0
      },
      "text/plain": [
       "HBox(children=(FloatProgress(value=0.0, description='Training', layout=Layout(flex='2'), max=6667.0, style=Pro…"
      ]
     },
     "metadata": {},
     "output_type": "display_data"
    },
    {
     "name": "stdout",
     "output_type": "stream",
     "text": [
      "Epoch 14: train=6.6286, val=6.01059, took 590.28 s\n",
      "  Validation Found 87208 of 108024, added 8724 (eff 80.73%) (0.436 FP/event)\n"
     ]
    },
    {
     "data": {
      "application/vnd.jupyter.widget-view+json": {
       "model_id": "",
       "version_major": 2,
       "version_minor": 0
      },
      "text/plain": [
       "HBox(children=(FloatProgress(value=0.0, description='Training', layout=Layout(flex='2'), max=6667.0, style=Pro…"
      ]
     },
     "metadata": {},
     "output_type": "display_data"
    },
    {
     "name": "stdout",
     "output_type": "stream",
     "text": [
      "Epoch 15: train=6.62184, val=6.44315, took 589.94 s\n",
      "  Validation Found 86985 of 108024, added 8712 (eff 80.52%) (0.436 FP/event)\n"
     ]
    },
    {
     "data": {
      "application/vnd.jupyter.widget-view+json": {
       "model_id": "",
       "version_major": 2,
       "version_minor": 0
      },
      "text/plain": [
       "HBox(children=(FloatProgress(value=0.0, description='Training', layout=Layout(flex='2'), max=6667.0, style=Pro…"
      ]
     },
     "metadata": {},
     "output_type": "display_data"
    },
    {
     "name": "stdout",
     "output_type": "stream",
     "text": [
      "Epoch 16: train=6.61705, val=5.981, took 590.56 s\n",
      "  Validation Found 87030 of 108024, added 8528 (eff 80.57%) (0.426 FP/event)\n"
     ]
    },
    {
     "data": {
      "application/vnd.jupyter.widget-view+json": {
       "model_id": "",
       "version_major": 2,
       "version_minor": 0
      },
      "text/plain": [
       "HBox(children=(FloatProgress(value=0.0, description='Training', layout=Layout(flex='2'), max=6667.0, style=Pro…"
      ]
     },
     "metadata": {},
     "output_type": "display_data"
    },
    {
     "name": "stdout",
     "output_type": "stream",
     "text": [
      "Epoch 17: train=6.61706, val=6.50565, took 590.4 s\n",
      "  Validation Found 87681 of 108024, added 9043 (eff 81.17%) (0.452 FP/event)\n"
     ]
    },
    {
     "data": {
      "application/vnd.jupyter.widget-view+json": {
       "model_id": "",
       "version_major": 2,
       "version_minor": 0
      },
      "text/plain": [
       "HBox(children=(FloatProgress(value=0.0, description='Training', layout=Layout(flex='2'), max=6667.0, style=Pro…"
      ]
     },
     "metadata": {},
     "output_type": "display_data"
    },
    {
     "name": "stdout",
     "output_type": "stream",
     "text": [
      "Epoch 18: train=6.61637, val=6.24689, took 590.35 s\n",
      "  Validation Found 87293 of 108024, added 8844 (eff 80.81%) (0.442 FP/event)\n"
     ]
    },
    {
     "data": {
      "application/vnd.jupyter.widget-view+json": {
       "model_id": "",
       "version_major": 2,
       "version_minor": 0
      },
      "text/plain": [
       "HBox(children=(FloatProgress(value=0.0, description='Training', layout=Layout(flex='2'), max=6667.0, style=Pro…"
      ]
     },
     "metadata": {},
     "output_type": "display_data"
    },
    {
     "name": "stdout",
     "output_type": "stream",
     "text": [
      "Epoch 19: train=6.60949, val=5.9937, took 590.4 s\n",
      "  Validation Found 86952 of 108024, added 8452 (eff 80.49%) (0.423 FP/event)\n"
     ]
    },
    {
     "data": {
      "application/vnd.jupyter.widget-view+json": {
       "model_id": "",
       "version_major": 2,
       "version_minor": 0
      },
      "text/plain": [
       "HBox(children=(FloatProgress(value=0.0, description='Training', layout=Layout(flex='2'), max=6667.0, style=Pro…"
      ]
     },
     "metadata": {},
     "output_type": "display_data"
    },
    {
     "name": "stdout",
     "output_type": "stream",
     "text": [
      "Epoch 20: train=6.60713, val=5.95383, took 590.53 s\n",
      "  Validation Found 87406 of 108024, added 8701 (eff 80.91%) (0.435 FP/event)\n"
     ]
    },
    {
     "data": {
      "application/vnd.jupyter.widget-view+json": {
       "model_id": "",
       "version_major": 2,
       "version_minor": 0
      },
      "text/plain": [
       "HBox(children=(FloatProgress(value=0.0, description='Training', layout=Layout(flex='2'), max=6667.0, style=Pro…"
      ]
     },
     "metadata": {},
     "output_type": "display_data"
    },
    {
     "name": "stdout",
     "output_type": "stream",
     "text": [
      "Epoch 21: train=6.60708, val=5.97607, took 590.28 s\n",
      "  Validation Found 86886 of 108024, added 8396 (eff 80.43%) (0.42 FP/event)\n"
     ]
    },
    {
     "data": {
      "application/vnd.jupyter.widget-view+json": {
       "model_id": "",
       "version_major": 2,
       "version_minor": 0
      },
      "text/plain": [
       "HBox(children=(FloatProgress(value=0.0, description='Training', layout=Layout(flex='2'), max=6667.0, style=Pro…"
      ]
     },
     "metadata": {},
     "output_type": "display_data"
    },
    {
     "name": "stdout",
     "output_type": "stream",
     "text": [
      "Epoch 22: train=6.60156, val=6.21122, took 590.33 s\n",
      "  Validation Found 87206 of 108024, added 8453 (eff 80.73%) (0.423 FP/event)\n"
     ]
    },
    {
     "data": {
      "application/vnd.jupyter.widget-view+json": {
       "model_id": "",
       "version_major": 2,
       "version_minor": 0
      },
      "text/plain": [
       "HBox(children=(FloatProgress(value=0.0, description='Training', layout=Layout(flex='2'), max=6667.0, style=Pro…"
      ]
     },
     "metadata": {},
     "output_type": "display_data"
    },
    {
     "name": "stdout",
     "output_type": "stream",
     "text": [
      "Epoch 23: train=6.58985, val=6.07093, took 590.14 s\n",
      "  Validation Found 87335 of 108024, added 8844 (eff 80.85%) (0.442 FP/event)\n"
     ]
    },
    {
     "data": {
      "application/vnd.jupyter.widget-view+json": {
       "model_id": "",
       "version_major": 2,
       "version_minor": 0
      },
      "text/plain": [
       "HBox(children=(FloatProgress(value=0.0, description='Training', layout=Layout(flex='2'), max=6667.0, style=Pro…"
      ]
     },
     "metadata": {},
     "output_type": "display_data"
    },
    {
     "name": "stdout",
     "output_type": "stream",
     "text": [
      "Epoch 24: train=6.59709, val=6.1847, took 590.04 s\n",
      "  Validation Found 87939 of 108024, added 8913 (eff 81.41%) (0.446 FP/event)\n"
     ]
    },
    {
     "data": {
      "application/vnd.jupyter.widget-view+json": {
       "model_id": "",
       "version_major": 2,
       "version_minor": 0
      },
      "text/plain": [
       "HBox(children=(FloatProgress(value=0.0, description='Training', layout=Layout(flex='2'), max=6667.0, style=Pro…"
      ]
     },
     "metadata": {},
     "output_type": "display_data"
    },
    {
     "name": "stdout",
     "output_type": "stream",
     "text": [
      "Epoch 25: train=6.59281, val=6.02037, took 590.21 s\n",
      "  Validation Found 87297 of 108024, added 8675 (eff 80.81%) (0.434 FP/event)\n"
     ]
    },
    {
     "data": {
      "application/vnd.jupyter.widget-view+json": {
       "model_id": "",
       "version_major": 2,
       "version_minor": 0
      },
      "text/plain": [
       "HBox(children=(FloatProgress(value=0.0, description='Training', layout=Layout(flex='2'), max=6667.0, style=Pro…"
      ]
     },
     "metadata": {},
     "output_type": "display_data"
    },
    {
     "name": "stdout",
     "output_type": "stream",
     "text": [
      "Epoch 26: train=6.57819, val=5.99059, took 590.53 s\n",
      "  Validation Found 87854 of 108024, added 8860 (eff 81.33%) (0.443 FP/event)\n"
     ]
    },
    {
     "data": {
      "application/vnd.jupyter.widget-view+json": {
       "model_id": "",
       "version_major": 2,
       "version_minor": 0
      },
      "text/plain": [
       "HBox(children=(FloatProgress(value=0.0, description='Training', layout=Layout(flex='2'), max=6667.0, style=Pro…"
      ]
     },
     "metadata": {},
     "output_type": "display_data"
    },
    {
     "name": "stdout",
     "output_type": "stream",
     "text": [
      "Epoch 27: train=6.57692, val=6.00565, took 589.84 s\n",
      "  Validation Found 87617 of 108024, added 8885 (eff 81.11%) (0.444 FP/event)\n"
     ]
    },
    {
     "data": {
      "application/vnd.jupyter.widget-view+json": {
       "model_id": "",
       "version_major": 2,
       "version_minor": 0
      },
      "text/plain": [
       "HBox(children=(FloatProgress(value=0.0, description='Training', layout=Layout(flex='2'), max=6667.0, style=Pro…"
      ]
     },
     "metadata": {},
     "output_type": "display_data"
    },
    {
     "name": "stdout",
     "output_type": "stream",
     "text": [
      "Epoch 28: train=6.58083, val=5.9971, took 590.18 s\n",
      "  Validation Found 87421 of 108024, added 8723 (eff 80.93%) (0.436 FP/event)\n"
     ]
    },
    {
     "data": {
      "application/vnd.jupyter.widget-view+json": {
       "model_id": "",
       "version_major": 2,
       "version_minor": 0
      },
      "text/plain": [
       "HBox(children=(FloatProgress(value=0.0, description='Training', layout=Layout(flex='2'), max=6667.0, style=Pro…"
      ]
     },
     "metadata": {},
     "output_type": "display_data"
    },
    {
     "name": "stdout",
     "output_type": "stream",
     "text": [
      "Epoch 29: train=6.5866, val=6.14758, took 590.29 s\n",
      "  Validation Found 87673 of 108024, added 8781 (eff 81.16%) (0.439 FP/event)\n"
     ]
    },
    {
     "data": {
      "application/vnd.jupyter.widget-view+json": {
       "model_id": "",
       "version_major": 2,
       "version_minor": 0
      },
      "text/plain": [
       "HBox(children=(FloatProgress(value=0.0, description='Training', layout=Layout(flex='2'), max=6667.0, style=Pro…"
      ]
     },
     "metadata": {},
     "output_type": "display_data"
    },
    {
     "name": "stdout",
     "output_type": "stream",
     "text": [
      "Epoch 30: train=6.57361, val=6.00085, took 590.21 s\n",
      "  Validation Found 87660 of 108024, added 8781 (eff 81.15%) (0.439 FP/event)\n"
     ]
    },
    {
     "data": {
      "application/vnd.jupyter.widget-view+json": {
       "model_id": "",
       "version_major": 2,
       "version_minor": 0
      },
      "text/plain": [
       "HBox(children=(FloatProgress(value=0.0, description='Training', layout=Layout(flex='2'), max=6667.0, style=Pro…"
      ]
     },
     "metadata": {},
     "output_type": "display_data"
    },
    {
     "name": "stdout",
     "output_type": "stream",
     "text": [
      "Epoch 31: train=6.57489, val=5.96264, took 590.18 s\n",
      "  Validation Found 87952 of 108024, added 8930 (eff 81.42%) (0.446 FP/event)\n"
     ]
    },
    {
     "data": {
      "application/vnd.jupyter.widget-view+json": {
       "model_id": "",
       "version_major": 2,
       "version_minor": 0
      },
      "text/plain": [
       "HBox(children=(FloatProgress(value=0.0, description='Training', layout=Layout(flex='2'), max=6667.0, style=Pro…"
      ]
     },
     "metadata": {},
     "output_type": "display_data"
    },
    {
     "name": "stdout",
     "output_type": "stream",
     "text": [
      "Epoch 32: train=6.56521, val=5.99244, took 590.34 s\n",
      "  Validation Found 87614 of 108024, added 8785 (eff 81.11%) (0.439 FP/event)\n"
     ]
    },
    {
     "data": {
      "application/vnd.jupyter.widget-view+json": {
       "model_id": "",
       "version_major": 2,
       "version_minor": 0
      },
      "text/plain": [
       "HBox(children=(FloatProgress(value=0.0, description='Training', layout=Layout(flex='2'), max=6667.0, style=Pro…"
      ]
     },
     "metadata": {},
     "output_type": "display_data"
    },
    {
     "name": "stdout",
     "output_type": "stream",
     "text": [
      "Epoch 33: train=6.55834, val=5.93543, took 590.49 s\n",
      "  Validation Found 87748 of 108024, added 8803 (eff 81.23%) (0.44 FP/event)\n"
     ]
    },
    {
     "data": {
      "application/vnd.jupyter.widget-view+json": {
       "model_id": "",
       "version_major": 2,
       "version_minor": 0
      },
      "text/plain": [
       "HBox(children=(FloatProgress(value=0.0, description='Training', layout=Layout(flex='2'), max=6667.0, style=Pro…"
      ]
     },
     "metadata": {},
     "output_type": "display_data"
    },
    {
     "name": "stdout",
     "output_type": "stream",
     "text": [
      "Epoch 34: train=6.55809, val=7.0491, took 589.99 s\n",
      "  Validation Found 88150 of 108024, added 9541 (eff 81.60%) (0.477 FP/event)\n"
     ]
    },
    {
     "data": {
      "application/vnd.jupyter.widget-view+json": {
       "model_id": "",
       "version_major": 2,
       "version_minor": 0
      },
      "text/plain": [
       "HBox(children=(FloatProgress(value=0.0, description='Training', layout=Layout(flex='2'), max=6667.0, style=Pro…"
      ]
     },
     "metadata": {},
     "output_type": "display_data"
    },
    {
     "name": "stdout",
     "output_type": "stream",
     "text": [
      "Epoch 35: train=6.55812, val=5.9742, took 590.27 s\n",
      "  Validation Found 87626 of 108024, added 8722 (eff 81.12%) (0.436 FP/event)\n"
     ]
    },
    {
     "data": {
      "application/vnd.jupyter.widget-view+json": {
       "model_id": "",
       "version_major": 2,
       "version_minor": 0
      },
      "text/plain": [
       "HBox(children=(FloatProgress(value=0.0, description='Training', layout=Layout(flex='2'), max=6667.0, style=Pro…"
      ]
     },
     "metadata": {},
     "output_type": "display_data"
    },
    {
     "name": "stdout",
     "output_type": "stream",
     "text": [
      "Epoch 36: train=6.55148, val=6.05482, took 590.2 s\n",
      "  Validation Found 87702 of 108024, added 8606 (eff 81.19%) (0.43 FP/event)\n"
     ]
    },
    {
     "data": {
      "application/vnd.jupyter.widget-view+json": {
       "model_id": "",
       "version_major": 2,
       "version_minor": 0
      },
      "text/plain": [
       "HBox(children=(FloatProgress(value=0.0, description='Training', layout=Layout(flex='2'), max=6667.0, style=Pro…"
      ]
     },
     "metadata": {},
     "output_type": "display_data"
    },
    {
     "name": "stdout",
     "output_type": "stream",
     "text": [
      "Epoch 37: train=6.55515, val=5.92581, took 590.24 s\n",
      "  Validation Found 87459 of 108024, added 8455 (eff 80.96%) (0.423 FP/event)\n"
     ]
    },
    {
     "data": {
      "application/vnd.jupyter.widget-view+json": {
       "model_id": "",
       "version_major": 2,
       "version_minor": 0
      },
      "text/plain": [
       "HBox(children=(FloatProgress(value=0.0, description='Training', layout=Layout(flex='2'), max=6667.0, style=Pro…"
      ]
     },
     "metadata": {},
     "output_type": "display_data"
    },
    {
     "name": "stdout",
     "output_type": "stream",
     "text": [
      "Epoch 38: train=6.54279, val=6.11692, took 590.14 s\n",
      "  Validation Found 87851 of 108024, added 8683 (eff 81.33%) (0.434 FP/event)\n"
     ]
    },
    {
     "data": {
      "application/vnd.jupyter.widget-view+json": {
       "model_id": "",
       "version_major": 2,
       "version_minor": 0
      },
      "text/plain": [
       "HBox(children=(FloatProgress(value=0.0, description='Training', layout=Layout(flex='2'), max=6667.0, style=Pro…"
      ]
     },
     "metadata": {},
     "output_type": "display_data"
    },
    {
     "name": "stdout",
     "output_type": "stream",
     "text": [
      "Epoch 39: train=6.53725, val=6.09002, took 590.47 s\n",
      "  Validation Found 87719 of 108024, added 8765 (eff 81.20%) (0.438 FP/event)\n"
     ]
    },
    {
     "data": {
      "application/vnd.jupyter.widget-view+json": {
       "model_id": "",
       "version_major": 2,
       "version_minor": 0
      },
      "text/plain": [
       "HBox(children=(FloatProgress(value=0.0, description='Training', layout=Layout(flex='2'), max=6667.0, style=Pro…"
      ]
     },
     "metadata": {},
     "output_type": "display_data"
    },
    {
     "name": "stdout",
     "output_type": "stream",
     "text": [
      "Epoch 40: train=6.54383, val=6.11524, took 590.41 s\n",
      "  Validation Found 87093 of 108024, added 8344 (eff 80.62%) (0.417 FP/event)\n"
     ]
    },
    {
     "data": {
      "application/vnd.jupyter.widget-view+json": {
       "model_id": "",
       "version_major": 2,
       "version_minor": 0
      },
      "text/plain": [
       "HBox(children=(FloatProgress(value=0.0, description='Training', layout=Layout(flex='2'), max=6667.0, style=Pro…"
      ]
     },
     "metadata": {},
     "output_type": "display_data"
    },
    {
     "name": "stdout",
     "output_type": "stream",
     "text": [
      "Epoch 41: train=6.5328, val=6.0536, took 590.1 s\n",
      "  Validation Found 88315 of 108024, added 8971 (eff 81.75%) (0.449 FP/event)\n"
     ]
    },
    {
     "data": {
      "application/vnd.jupyter.widget-view+json": {
       "model_id": "",
       "version_major": 2,
       "version_minor": 0
      },
      "text/plain": [
       "HBox(children=(FloatProgress(value=0.0, description='Training', layout=Layout(flex='2'), max=6667.0, style=Pro…"
      ]
     },
     "metadata": {},
     "output_type": "display_data"
    },
    {
     "name": "stdout",
     "output_type": "stream",
     "text": [
      "Epoch 42: train=6.53343, val=5.96094, took 590.42 s\n",
      "  Validation Found 87752 of 108024, added 8727 (eff 81.23%) (0.436 FP/event)\n"
     ]
    },
    {
     "data": {
      "application/vnd.jupyter.widget-view+json": {
       "model_id": "",
       "version_major": 2,
       "version_minor": 0
      },
      "text/plain": [
       "HBox(children=(FloatProgress(value=0.0, description='Training', layout=Layout(flex='2'), max=6667.0, style=Pro…"
      ]
     },
     "metadata": {},
     "output_type": "display_data"
    },
    {
     "name": "stdout",
     "output_type": "stream",
     "text": [
      "Epoch 43: train=6.52951, val=6.15477, took 590.16 s\n",
      "  Validation Found 87659 of 108024, added 8665 (eff 81.15%) (0.433 FP/event)\n"
     ]
    },
    {
     "data": {
      "application/vnd.jupyter.widget-view+json": {
       "model_id": "",
       "version_major": 2,
       "version_minor": 0
      },
      "text/plain": [
       "HBox(children=(FloatProgress(value=0.0, description='Training', layout=Layout(flex='2'), max=6667.0, style=Pro…"
      ]
     },
     "metadata": {},
     "output_type": "display_data"
    },
    {
     "name": "stdout",
     "output_type": "stream",
     "text": [
      "Epoch 44: train=6.53531, val=5.91914, took 591.36 s\n",
      "  Validation Found 88274 of 108024, added 8941 (eff 81.72%) (0.447 FP/event)\n"
     ]
    },
    {
     "data": {
      "application/vnd.jupyter.widget-view+json": {
       "model_id": "",
       "version_major": 2,
       "version_minor": 0
      },
      "text/plain": [
       "HBox(children=(FloatProgress(value=0.0, description='Training', layout=Layout(flex='2'), max=6667.0, style=Pro…"
      ]
     },
     "metadata": {},
     "output_type": "display_data"
    },
    {
     "name": "stdout",
     "output_type": "stream",
     "text": [
      "Epoch 45: train=6.53337, val=6.08797, took 589.91 s\n",
      "  Validation Found 87603 of 108024, added 8693 (eff 81.10%) (0.435 FP/event)\n"
     ]
    },
    {
     "data": {
      "application/vnd.jupyter.widget-view+json": {
       "model_id": "",
       "version_major": 2,
       "version_minor": 0
      },
      "text/plain": [
       "HBox(children=(FloatProgress(value=0.0, description='Training', layout=Layout(flex='2'), max=6667.0, style=Pro…"
      ]
     },
     "metadata": {},
     "output_type": "display_data"
    },
    {
     "name": "stdout",
     "output_type": "stream",
     "text": [
      "Epoch 46: train=6.52179, val=5.93593, took 590.05 s\n",
      "  Validation Found 87869 of 108024, added 8642 (eff 81.34%) (0.432 FP/event)\n"
     ]
    },
    {
     "data": {
      "application/vnd.jupyter.widget-view+json": {
       "model_id": "",
       "version_major": 2,
       "version_minor": 0
      },
      "text/plain": [
       "HBox(children=(FloatProgress(value=0.0, description='Training', layout=Layout(flex='2'), max=6667.0, style=Pro…"
      ]
     },
     "metadata": {},
     "output_type": "display_data"
    },
    {
     "name": "stdout",
     "output_type": "stream",
     "text": [
      "Epoch 47: train=6.52131, val=5.91501, took 589.85 s\n",
      "  Validation Found 87990 of 108024, added 8834 (eff 81.45%) (0.442 FP/event)\n"
     ]
    },
    {
     "data": {
      "application/vnd.jupyter.widget-view+json": {
       "model_id": "",
       "version_major": 2,
       "version_minor": 0
      },
      "text/plain": [
       "HBox(children=(FloatProgress(value=0.0, description='Training', layout=Layout(flex='2'), max=6667.0, style=Pro…"
      ]
     },
     "metadata": {},
     "output_type": "display_data"
    },
    {
     "name": "stdout",
     "output_type": "stream",
     "text": [
      "Epoch 48: train=6.51412, val=5.90364, took 589.78 s\n",
      "  Validation Found 87758 of 108024, added 8748 (eff 81.24%) (0.437 FP/event)\n"
     ]
    },
    {
     "data": {
      "application/vnd.jupyter.widget-view+json": {
       "model_id": "",
       "version_major": 2,
       "version_minor": 0
      },
      "text/plain": [
       "HBox(children=(FloatProgress(value=0.0, description='Training', layout=Layout(flex='2'), max=6667.0, style=Pro…"
      ]
     },
     "metadata": {},
     "output_type": "display_data"
    },
    {
     "name": "stdout",
     "output_type": "stream",
     "text": [
      "Epoch 49: train=6.51108, val=5.96701, took 590.11 s\n",
      "  Validation Found 87565 of 108024, added 8589 (eff 81.06%) (0.429 FP/event)\n",
      "\n"
     ]
    }
   ],
   "source": [
    "for result in trainNet(model, optimizer, loss,\n",
    "                        train_loader, val_loader,\n",
    "                        n_epochs, epoch_start=len(results),\n",
    "                        notebook=True):\n",
    "    \n",
    "    results = results.append(pd.Series(result._asdict()), ignore_index=True)\n",
    "    \n",
    "    xs = results.index\n",
    "##    print(\"xs = \",xs)\n",
    "    \n",
    "    # Update the plot above\n",
    "##    print(\"results.index = \",results.index,\"  results.cost\", results.cost)\n",
    "##    print(\"results.index = \",results.index,\"  results.val\", results.val)\n",
    "    lines['train'].set_data(results.index,results.cost)\n",
    "    lines['val'].set_data(results.index,results.val)\n",
    "    \n",
    "    #filter first cost epoch (can be really large)\n",
    "    max_cost = max(max(results.cost if len(results.cost)<2 else results.cost[1:]), max(results.val))\n",
    "    min_cost = min(min(results.cost), min(results.val))\n",
    "    \n",
    "    # The plot limits need updating too\n",
    "    \n",
    "    \n",
    "    \n",
    "    ax.set_ylim(min_cost*.9, max_cost*1.1)  \n",
    "    ax.set_xlim(-.5, len(results.cost) - .5)\n",
    "    \n",
    "    replace_in_ax(lax, lines['eff'], xs, results['eff_val'].apply(lambda x: x.eff_rate))\n",
    "    replace_in_ax(tax, lines['fp'], xs, results['eff_val'].apply(lambda x: x.fp_rate))\n",
    "    \n",
    "    # Redraw the figure\n",
    "    fig.canvas.draw()\n",
    "\n",
    "    # Save each model state dictionary\n",
    "    torch.save(model.state_dict(), output / f'{name}_{result.epoch}.pyt')"
   ]
  },
  {
   "cell_type": "code",
   "execution_count": 16,
   "metadata": {},
   "outputs": [],
   "source": [
    "torch.save(model.state_dict(), output / f'{name}_final.pyt')"
   ]
  },
  {
   "cell_type": "code",
   "execution_count": 17,
   "metadata": {},
   "outputs": [
    {
     "name": "stderr",
     "output_type": "stream",
     "text": [
      "/apps/miniconda3/envs/june2020-gpu/lib/python3.7/site-packages/pandas/core/generic.py:2505: PerformanceWarning: \n",
      "your performance may suffer as PyTables will pickle object types that it cannot\n",
      "map directly to c-types [inferred_type->mixed-integer,key->block1_values] [items->Index(['epoch', 'eff_val'], dtype='object')]\n",
      "\n",
      "  encoding=encoding,\n"
     ]
    }
   ],
   "source": [
    "results.to_hdf(f'{name}_stats.hdf5', 'results')"
   ]
  },
  {
   "cell_type": "code",
   "execution_count": 18,
   "metadata": {},
   "outputs": [
    {
     "data": {
      "application/javascript": [
       "/* Put everything inside the global mpl namespace */\n",
       "window.mpl = {};\n",
       "\n",
       "\n",
       "mpl.get_websocket_type = function() {\n",
       "    if (typeof(WebSocket) !== 'undefined') {\n",
       "        return WebSocket;\n",
       "    } else if (typeof(MozWebSocket) !== 'undefined') {\n",
       "        return MozWebSocket;\n",
       "    } else {\n",
       "        alert('Your browser does not have WebSocket support. ' +\n",
       "              'Please try Chrome, Safari or Firefox ≥ 6. ' +\n",
       "              'Firefox 4 and 5 are also supported but you ' +\n",
       "              'have to enable WebSockets in about:config.');\n",
       "    };\n",
       "}\n",
       "\n",
       "mpl.figure = function(figure_id, websocket, ondownload, parent_element) {\n",
       "    this.id = figure_id;\n",
       "\n",
       "    this.ws = websocket;\n",
       "\n",
       "    this.supports_binary = (this.ws.binaryType != undefined);\n",
       "\n",
       "    if (!this.supports_binary) {\n",
       "        var warnings = document.getElementById(\"mpl-warnings\");\n",
       "        if (warnings) {\n",
       "            warnings.style.display = 'block';\n",
       "            warnings.textContent = (\n",
       "                \"This browser does not support binary websocket messages. \" +\n",
       "                    \"Performance may be slow.\");\n",
       "        }\n",
       "    }\n",
       "\n",
       "    this.imageObj = new Image();\n",
       "\n",
       "    this.context = undefined;\n",
       "    this.message = undefined;\n",
       "    this.canvas = undefined;\n",
       "    this.rubberband_canvas = undefined;\n",
       "    this.rubberband_context = undefined;\n",
       "    this.format_dropdown = undefined;\n",
       "\n",
       "    this.image_mode = 'full';\n",
       "\n",
       "    this.root = $('<div/>');\n",
       "    this._root_extra_style(this.root)\n",
       "    this.root.attr('style', 'display: inline-block');\n",
       "\n",
       "    $(parent_element).append(this.root);\n",
       "\n",
       "    this._init_header(this);\n",
       "    this._init_canvas(this);\n",
       "    this._init_toolbar(this);\n",
       "\n",
       "    var fig = this;\n",
       "\n",
       "    this.waiting = false;\n",
       "\n",
       "    this.ws.onopen =  function () {\n",
       "            fig.send_message(\"supports_binary\", {value: fig.supports_binary});\n",
       "            fig.send_message(\"send_image_mode\", {});\n",
       "            if (mpl.ratio != 1) {\n",
       "                fig.send_message(\"set_dpi_ratio\", {'dpi_ratio': mpl.ratio});\n",
       "            }\n",
       "            fig.send_message(\"refresh\", {});\n",
       "        }\n",
       "\n",
       "    this.imageObj.onload = function() {\n",
       "            if (fig.image_mode == 'full') {\n",
       "                // Full images could contain transparency (where diff images\n",
       "                // almost always do), so we need to clear the canvas so that\n",
       "                // there is no ghosting.\n",
       "                fig.context.clearRect(0, 0, fig.canvas.width, fig.canvas.height);\n",
       "            }\n",
       "            fig.context.drawImage(fig.imageObj, 0, 0);\n",
       "        };\n",
       "\n",
       "    this.imageObj.onunload = function() {\n",
       "        fig.ws.close();\n",
       "    }\n",
       "\n",
       "    this.ws.onmessage = this._make_on_message_function(this);\n",
       "\n",
       "    this.ondownload = ondownload;\n",
       "}\n",
       "\n",
       "mpl.figure.prototype._init_header = function() {\n",
       "    var titlebar = $(\n",
       "        '<div class=\"ui-dialog-titlebar ui-widget-header ui-corner-all ' +\n",
       "        'ui-helper-clearfix\"/>');\n",
       "    var titletext = $(\n",
       "        '<div class=\"ui-dialog-title\" style=\"width: 100%; ' +\n",
       "        'text-align: center; padding: 3px;\"/>');\n",
       "    titlebar.append(titletext)\n",
       "    this.root.append(titlebar);\n",
       "    this.header = titletext[0];\n",
       "}\n",
       "\n",
       "\n",
       "\n",
       "mpl.figure.prototype._canvas_extra_style = function(canvas_div) {\n",
       "\n",
       "}\n",
       "\n",
       "\n",
       "mpl.figure.prototype._root_extra_style = function(canvas_div) {\n",
       "\n",
       "}\n",
       "\n",
       "mpl.figure.prototype._init_canvas = function() {\n",
       "    var fig = this;\n",
       "\n",
       "    var canvas_div = $('<div/>');\n",
       "\n",
       "    canvas_div.attr('style', 'position: relative; clear: both; outline: 0');\n",
       "\n",
       "    function canvas_keyboard_event(event) {\n",
       "        return fig.key_event(event, event['data']);\n",
       "    }\n",
       "\n",
       "    canvas_div.keydown('key_press', canvas_keyboard_event);\n",
       "    canvas_div.keyup('key_release', canvas_keyboard_event);\n",
       "    this.canvas_div = canvas_div\n",
       "    this._canvas_extra_style(canvas_div)\n",
       "    this.root.append(canvas_div);\n",
       "\n",
       "    var canvas = $('<canvas/>');\n",
       "    canvas.addClass('mpl-canvas');\n",
       "    canvas.attr('style', \"left: 0; top: 0; z-index: 0; outline: 0\")\n",
       "\n",
       "    this.canvas = canvas[0];\n",
       "    this.context = canvas[0].getContext(\"2d\");\n",
       "\n",
       "    var backingStore = this.context.backingStorePixelRatio ||\n",
       "\tthis.context.webkitBackingStorePixelRatio ||\n",
       "\tthis.context.mozBackingStorePixelRatio ||\n",
       "\tthis.context.msBackingStorePixelRatio ||\n",
       "\tthis.context.oBackingStorePixelRatio ||\n",
       "\tthis.context.backingStorePixelRatio || 1;\n",
       "\n",
       "    mpl.ratio = (window.devicePixelRatio || 1) / backingStore;\n",
       "\n",
       "    var rubberband = $('<canvas/>');\n",
       "    rubberband.attr('style', \"position: absolute; left: 0; top: 0; z-index: 1;\")\n",
       "\n",
       "    var pass_mouse_events = true;\n",
       "\n",
       "    canvas_div.resizable({\n",
       "        start: function(event, ui) {\n",
       "            pass_mouse_events = false;\n",
       "        },\n",
       "        resize: function(event, ui) {\n",
       "            fig.request_resize(ui.size.width, ui.size.height);\n",
       "        },\n",
       "        stop: function(event, ui) {\n",
       "            pass_mouse_events = true;\n",
       "            fig.request_resize(ui.size.width, ui.size.height);\n",
       "        },\n",
       "    });\n",
       "\n",
       "    function mouse_event_fn(event) {\n",
       "        if (pass_mouse_events)\n",
       "            return fig.mouse_event(event, event['data']);\n",
       "    }\n",
       "\n",
       "    rubberband.mousedown('button_press', mouse_event_fn);\n",
       "    rubberband.mouseup('button_release', mouse_event_fn);\n",
       "    // Throttle sequential mouse events to 1 every 20ms.\n",
       "    rubberband.mousemove('motion_notify', mouse_event_fn);\n",
       "\n",
       "    rubberband.mouseenter('figure_enter', mouse_event_fn);\n",
       "    rubberband.mouseleave('figure_leave', mouse_event_fn);\n",
       "\n",
       "    canvas_div.on(\"wheel\", function (event) {\n",
       "        event = event.originalEvent;\n",
       "        event['data'] = 'scroll'\n",
       "        if (event.deltaY < 0) {\n",
       "            event.step = 1;\n",
       "        } else {\n",
       "            event.step = -1;\n",
       "        }\n",
       "        mouse_event_fn(event);\n",
       "    });\n",
       "\n",
       "    canvas_div.append(canvas);\n",
       "    canvas_div.append(rubberband);\n",
       "\n",
       "    this.rubberband = rubberband;\n",
       "    this.rubberband_canvas = rubberband[0];\n",
       "    this.rubberband_context = rubberband[0].getContext(\"2d\");\n",
       "    this.rubberband_context.strokeStyle = \"#000000\";\n",
       "\n",
       "    this._resize_canvas = function(width, height) {\n",
       "        // Keep the size of the canvas, canvas container, and rubber band\n",
       "        // canvas in synch.\n",
       "        canvas_div.css('width', width)\n",
       "        canvas_div.css('height', height)\n",
       "\n",
       "        canvas.attr('width', width * mpl.ratio);\n",
       "        canvas.attr('height', height * mpl.ratio);\n",
       "        canvas.attr('style', 'width: ' + width + 'px; height: ' + height + 'px;');\n",
       "\n",
       "        rubberband.attr('width', width);\n",
       "        rubberband.attr('height', height);\n",
       "    }\n",
       "\n",
       "    // Set the figure to an initial 600x600px, this will subsequently be updated\n",
       "    // upon first draw.\n",
       "    this._resize_canvas(600, 600);\n",
       "\n",
       "    // Disable right mouse context menu.\n",
       "    $(this.rubberband_canvas).bind(\"contextmenu\",function(e){\n",
       "        return false;\n",
       "    });\n",
       "\n",
       "    function set_focus () {\n",
       "        canvas.focus();\n",
       "        canvas_div.focus();\n",
       "    }\n",
       "\n",
       "    window.setTimeout(set_focus, 100);\n",
       "}\n",
       "\n",
       "mpl.figure.prototype._init_toolbar = function() {\n",
       "    var fig = this;\n",
       "\n",
       "    var nav_element = $('<div/>');\n",
       "    nav_element.attr('style', 'width: 100%');\n",
       "    this.root.append(nav_element);\n",
       "\n",
       "    // Define a callback function for later on.\n",
       "    function toolbar_event(event) {\n",
       "        return fig.toolbar_button_onclick(event['data']);\n",
       "    }\n",
       "    function toolbar_mouse_event(event) {\n",
       "        return fig.toolbar_button_onmouseover(event['data']);\n",
       "    }\n",
       "\n",
       "    for(var toolbar_ind in mpl.toolbar_items) {\n",
       "        var name = mpl.toolbar_items[toolbar_ind][0];\n",
       "        var tooltip = mpl.toolbar_items[toolbar_ind][1];\n",
       "        var image = mpl.toolbar_items[toolbar_ind][2];\n",
       "        var method_name = mpl.toolbar_items[toolbar_ind][3];\n",
       "\n",
       "        if (!name) {\n",
       "            // put a spacer in here.\n",
       "            continue;\n",
       "        }\n",
       "        var button = $('<button/>');\n",
       "        button.addClass('ui-button ui-widget ui-state-default ui-corner-all ' +\n",
       "                        'ui-button-icon-only');\n",
       "        button.attr('role', 'button');\n",
       "        button.attr('aria-disabled', 'false');\n",
       "        button.click(method_name, toolbar_event);\n",
       "        button.mouseover(tooltip, toolbar_mouse_event);\n",
       "\n",
       "        var icon_img = $('<span/>');\n",
       "        icon_img.addClass('ui-button-icon-primary ui-icon');\n",
       "        icon_img.addClass(image);\n",
       "        icon_img.addClass('ui-corner-all');\n",
       "\n",
       "        var tooltip_span = $('<span/>');\n",
       "        tooltip_span.addClass('ui-button-text');\n",
       "        tooltip_span.html(tooltip);\n",
       "\n",
       "        button.append(icon_img);\n",
       "        button.append(tooltip_span);\n",
       "\n",
       "        nav_element.append(button);\n",
       "    }\n",
       "\n",
       "    var fmt_picker_span = $('<span/>');\n",
       "\n",
       "    var fmt_picker = $('<select/>');\n",
       "    fmt_picker.addClass('mpl-toolbar-option ui-widget ui-widget-content');\n",
       "    fmt_picker_span.append(fmt_picker);\n",
       "    nav_element.append(fmt_picker_span);\n",
       "    this.format_dropdown = fmt_picker[0];\n",
       "\n",
       "    for (var ind in mpl.extensions) {\n",
       "        var fmt = mpl.extensions[ind];\n",
       "        var option = $(\n",
       "            '<option/>', {selected: fmt === mpl.default_extension}).html(fmt);\n",
       "        fmt_picker.append(option);\n",
       "    }\n",
       "\n",
       "    // Add hover states to the ui-buttons\n",
       "    $( \".ui-button\" ).hover(\n",
       "        function() { $(this).addClass(\"ui-state-hover\");},\n",
       "        function() { $(this).removeClass(\"ui-state-hover\");}\n",
       "    );\n",
       "\n",
       "    var status_bar = $('<span class=\"mpl-message\"/>');\n",
       "    nav_element.append(status_bar);\n",
       "    this.message = status_bar[0];\n",
       "}\n",
       "\n",
       "mpl.figure.prototype.request_resize = function(x_pixels, y_pixels) {\n",
       "    // Request matplotlib to resize the figure. Matplotlib will then trigger a resize in the client,\n",
       "    // which will in turn request a refresh of the image.\n",
       "    this.send_message('resize', {'width': x_pixels, 'height': y_pixels});\n",
       "}\n",
       "\n",
       "mpl.figure.prototype.send_message = function(type, properties) {\n",
       "    properties['type'] = type;\n",
       "    properties['figure_id'] = this.id;\n",
       "    this.ws.send(JSON.stringify(properties));\n",
       "}\n",
       "\n",
       "mpl.figure.prototype.send_draw_message = function() {\n",
       "    if (!this.waiting) {\n",
       "        this.waiting = true;\n",
       "        this.ws.send(JSON.stringify({type: \"draw\", figure_id: this.id}));\n",
       "    }\n",
       "}\n",
       "\n",
       "\n",
       "mpl.figure.prototype.handle_save = function(fig, msg) {\n",
       "    var format_dropdown = fig.format_dropdown;\n",
       "    var format = format_dropdown.options[format_dropdown.selectedIndex].value;\n",
       "    fig.ondownload(fig, format);\n",
       "}\n",
       "\n",
       "\n",
       "mpl.figure.prototype.handle_resize = function(fig, msg) {\n",
       "    var size = msg['size'];\n",
       "    if (size[0] != fig.canvas.width || size[1] != fig.canvas.height) {\n",
       "        fig._resize_canvas(size[0], size[1]);\n",
       "        fig.send_message(\"refresh\", {});\n",
       "    };\n",
       "}\n",
       "\n",
       "mpl.figure.prototype.handle_rubberband = function(fig, msg) {\n",
       "    var x0 = msg['x0'] / mpl.ratio;\n",
       "    var y0 = (fig.canvas.height - msg['y0']) / mpl.ratio;\n",
       "    var x1 = msg['x1'] / mpl.ratio;\n",
       "    var y1 = (fig.canvas.height - msg['y1']) / mpl.ratio;\n",
       "    x0 = Math.floor(x0) + 0.5;\n",
       "    y0 = Math.floor(y0) + 0.5;\n",
       "    x1 = Math.floor(x1) + 0.5;\n",
       "    y1 = Math.floor(y1) + 0.5;\n",
       "    var min_x = Math.min(x0, x1);\n",
       "    var min_y = Math.min(y0, y1);\n",
       "    var width = Math.abs(x1 - x0);\n",
       "    var height = Math.abs(y1 - y0);\n",
       "\n",
       "    fig.rubberband_context.clearRect(\n",
       "        0, 0, fig.canvas.width / mpl.ratio, fig.canvas.height / mpl.ratio);\n",
       "\n",
       "    fig.rubberband_context.strokeRect(min_x, min_y, width, height);\n",
       "}\n",
       "\n",
       "mpl.figure.prototype.handle_figure_label = function(fig, msg) {\n",
       "    // Updates the figure title.\n",
       "    fig.header.textContent = msg['label'];\n",
       "}\n",
       "\n",
       "mpl.figure.prototype.handle_cursor = function(fig, msg) {\n",
       "    var cursor = msg['cursor'];\n",
       "    switch(cursor)\n",
       "    {\n",
       "    case 0:\n",
       "        cursor = 'pointer';\n",
       "        break;\n",
       "    case 1:\n",
       "        cursor = 'default';\n",
       "        break;\n",
       "    case 2:\n",
       "        cursor = 'crosshair';\n",
       "        break;\n",
       "    case 3:\n",
       "        cursor = 'move';\n",
       "        break;\n",
       "    }\n",
       "    fig.rubberband_canvas.style.cursor = cursor;\n",
       "}\n",
       "\n",
       "mpl.figure.prototype.handle_message = function(fig, msg) {\n",
       "    fig.message.textContent = msg['message'];\n",
       "}\n",
       "\n",
       "mpl.figure.prototype.handle_draw = function(fig, msg) {\n",
       "    // Request the server to send over a new figure.\n",
       "    fig.send_draw_message();\n",
       "}\n",
       "\n",
       "mpl.figure.prototype.handle_image_mode = function(fig, msg) {\n",
       "    fig.image_mode = msg['mode'];\n",
       "}\n",
       "\n",
       "mpl.figure.prototype.updated_canvas_event = function() {\n",
       "    // Called whenever the canvas gets updated.\n",
       "    this.send_message(\"ack\", {});\n",
       "}\n",
       "\n",
       "// A function to construct a web socket function for onmessage handling.\n",
       "// Called in the figure constructor.\n",
       "mpl.figure.prototype._make_on_message_function = function(fig) {\n",
       "    return function socket_on_message(evt) {\n",
       "        if (evt.data instanceof Blob) {\n",
       "            /* FIXME: We get \"Resource interpreted as Image but\n",
       "             * transferred with MIME type text/plain:\" errors on\n",
       "             * Chrome.  But how to set the MIME type?  It doesn't seem\n",
       "             * to be part of the websocket stream */\n",
       "            evt.data.type = \"image/png\";\n",
       "\n",
       "            /* Free the memory for the previous frames */\n",
       "            if (fig.imageObj.src) {\n",
       "                (window.URL || window.webkitURL).revokeObjectURL(\n",
       "                    fig.imageObj.src);\n",
       "            }\n",
       "\n",
       "            fig.imageObj.src = (window.URL || window.webkitURL).createObjectURL(\n",
       "                evt.data);\n",
       "            fig.updated_canvas_event();\n",
       "            fig.waiting = false;\n",
       "            return;\n",
       "        }\n",
       "        else if (typeof evt.data === 'string' && evt.data.slice(0, 21) == \"data:image/png;base64\") {\n",
       "            fig.imageObj.src = evt.data;\n",
       "            fig.updated_canvas_event();\n",
       "            fig.waiting = false;\n",
       "            return;\n",
       "        }\n",
       "\n",
       "        var msg = JSON.parse(evt.data);\n",
       "        var msg_type = msg['type'];\n",
       "\n",
       "        // Call the  \"handle_{type}\" callback, which takes\n",
       "        // the figure and JSON message as its only arguments.\n",
       "        try {\n",
       "            var callback = fig[\"handle_\" + msg_type];\n",
       "        } catch (e) {\n",
       "            console.log(\"No handler for the '\" + msg_type + \"' message type: \", msg);\n",
       "            return;\n",
       "        }\n",
       "\n",
       "        if (callback) {\n",
       "            try {\n",
       "                // console.log(\"Handling '\" + msg_type + \"' message: \", msg);\n",
       "                callback(fig, msg);\n",
       "            } catch (e) {\n",
       "                console.log(\"Exception inside the 'handler_\" + msg_type + \"' callback:\", e, e.stack, msg);\n",
       "            }\n",
       "        }\n",
       "    };\n",
       "}\n",
       "\n",
       "// from http://stackoverflow.com/questions/1114465/getting-mouse-location-in-canvas\n",
       "mpl.findpos = function(e) {\n",
       "    //this section is from http://www.quirksmode.org/js/events_properties.html\n",
       "    var targ;\n",
       "    if (!e)\n",
       "        e = window.event;\n",
       "    if (e.target)\n",
       "        targ = e.target;\n",
       "    else if (e.srcElement)\n",
       "        targ = e.srcElement;\n",
       "    if (targ.nodeType == 3) // defeat Safari bug\n",
       "        targ = targ.parentNode;\n",
       "\n",
       "    // jQuery normalizes the pageX and pageY\n",
       "    // pageX,Y are the mouse positions relative to the document\n",
       "    // offset() returns the position of the element relative to the document\n",
       "    var x = e.pageX - $(targ).offset().left;\n",
       "    var y = e.pageY - $(targ).offset().top;\n",
       "\n",
       "    return {\"x\": x, \"y\": y};\n",
       "};\n",
       "\n",
       "/*\n",
       " * return a copy of an object with only non-object keys\n",
       " * we need this to avoid circular references\n",
       " * http://stackoverflow.com/a/24161582/3208463\n",
       " */\n",
       "function simpleKeys (original) {\n",
       "  return Object.keys(original).reduce(function (obj, key) {\n",
       "    if (typeof original[key] !== 'object')\n",
       "        obj[key] = original[key]\n",
       "    return obj;\n",
       "  }, {});\n",
       "}\n",
       "\n",
       "mpl.figure.prototype.mouse_event = function(event, name) {\n",
       "    var canvas_pos = mpl.findpos(event)\n",
       "\n",
       "    if (name === 'button_press')\n",
       "    {\n",
       "        this.canvas.focus();\n",
       "        this.canvas_div.focus();\n",
       "    }\n",
       "\n",
       "    var x = canvas_pos.x * mpl.ratio;\n",
       "    var y = canvas_pos.y * mpl.ratio;\n",
       "\n",
       "    this.send_message(name, {x: x, y: y, button: event.button,\n",
       "                             step: event.step,\n",
       "                             guiEvent: simpleKeys(event)});\n",
       "\n",
       "    /* This prevents the web browser from automatically changing to\n",
       "     * the text insertion cursor when the button is pressed.  We want\n",
       "     * to control all of the cursor setting manually through the\n",
       "     * 'cursor' event from matplotlib */\n",
       "    event.preventDefault();\n",
       "    return false;\n",
       "}\n",
       "\n",
       "mpl.figure.prototype._key_event_extra = function(event, name) {\n",
       "    // Handle any extra behaviour associated with a key event\n",
       "}\n",
       "\n",
       "mpl.figure.prototype.key_event = function(event, name) {\n",
       "\n",
       "    // Prevent repeat events\n",
       "    if (name == 'key_press')\n",
       "    {\n",
       "        if (event.which === this._key)\n",
       "            return;\n",
       "        else\n",
       "            this._key = event.which;\n",
       "    }\n",
       "    if (name == 'key_release')\n",
       "        this._key = null;\n",
       "\n",
       "    var value = '';\n",
       "    if (event.ctrlKey && event.which != 17)\n",
       "        value += \"ctrl+\";\n",
       "    if (event.altKey && event.which != 18)\n",
       "        value += \"alt+\";\n",
       "    if (event.shiftKey && event.which != 16)\n",
       "        value += \"shift+\";\n",
       "\n",
       "    value += 'k';\n",
       "    value += event.which.toString();\n",
       "\n",
       "    this._key_event_extra(event, name);\n",
       "\n",
       "    this.send_message(name, {key: value,\n",
       "                             guiEvent: simpleKeys(event)});\n",
       "    return false;\n",
       "}\n",
       "\n",
       "mpl.figure.prototype.toolbar_button_onclick = function(name) {\n",
       "    if (name == 'download') {\n",
       "        this.handle_save(this, null);\n",
       "    } else {\n",
       "        this.send_message(\"toolbar_button\", {name: name});\n",
       "    }\n",
       "};\n",
       "\n",
       "mpl.figure.prototype.toolbar_button_onmouseover = function(tooltip) {\n",
       "    this.message.textContent = tooltip;\n",
       "};\n",
       "mpl.toolbar_items = [[\"Home\", \"Reset original view\", \"fa fa-home icon-home\", \"home\"], [\"Back\", \"Back to previous view\", \"fa fa-arrow-left icon-arrow-left\", \"back\"], [\"Forward\", \"Forward to next view\", \"fa fa-arrow-right icon-arrow-right\", \"forward\"], [\"\", \"\", \"\", \"\"], [\"Pan\", \"Pan axes with left mouse, zoom with right\", \"fa fa-arrows icon-move\", \"pan\"], [\"Zoom\", \"Zoom to rectangle\", \"fa fa-square-o icon-check-empty\", \"zoom\"], [\"\", \"\", \"\", \"\"], [\"Download\", \"Download plot\", \"fa fa-floppy-o icon-save\", \"download\"]];\n",
       "\n",
       "mpl.extensions = [\"eps\", \"jpeg\", \"pdf\", \"png\", \"ps\", \"raw\", \"svg\", \"tif\"];\n",
       "\n",
       "mpl.default_extension = \"png\";var comm_websocket_adapter = function(comm) {\n",
       "    // Create a \"websocket\"-like object which calls the given IPython comm\n",
       "    // object with the appropriate methods. Currently this is a non binary\n",
       "    // socket, so there is still some room for performance tuning.\n",
       "    var ws = {};\n",
       "\n",
       "    ws.close = function() {\n",
       "        comm.close()\n",
       "    };\n",
       "    ws.send = function(m) {\n",
       "        //console.log('sending', m);\n",
       "        comm.send(m);\n",
       "    };\n",
       "    // Register the callback with on_msg.\n",
       "    comm.on_msg(function(msg) {\n",
       "        //console.log('receiving', msg['content']['data'], msg);\n",
       "        // Pass the mpl event to the overridden (by mpl) onmessage function.\n",
       "        ws.onmessage(msg['content']['data'])\n",
       "    });\n",
       "    return ws;\n",
       "}\n",
       "\n",
       "mpl.mpl_figure_comm = function(comm, msg) {\n",
       "    // This is the function which gets called when the mpl process\n",
       "    // starts-up an IPython Comm through the \"matplotlib\" channel.\n",
       "\n",
       "    var id = msg.content.data.id;\n",
       "    // Get hold of the div created by the display call when the Comm\n",
       "    // socket was opened in Python.\n",
       "    var element = $(\"#\" + id);\n",
       "    var ws_proxy = comm_websocket_adapter(comm)\n",
       "\n",
       "    function ondownload(figure, format) {\n",
       "        window.open(figure.imageObj.src);\n",
       "    }\n",
       "\n",
       "    var fig = new mpl.figure(id, ws_proxy,\n",
       "                           ondownload,\n",
       "                           element.get(0));\n",
       "\n",
       "    // Call onopen now - mpl needs it, as it is assuming we've passed it a real\n",
       "    // web socket which is closed, not our websocket->open comm proxy.\n",
       "    ws_proxy.onopen();\n",
       "\n",
       "    fig.parent_element = element.get(0);\n",
       "    fig.cell_info = mpl.find_output_cell(\"<div id='\" + id + \"'></div>\");\n",
       "    if (!fig.cell_info) {\n",
       "        console.error(\"Failed to find cell for figure\", id, fig);\n",
       "        return;\n",
       "    }\n",
       "\n",
       "    var output_index = fig.cell_info[2]\n",
       "    var cell = fig.cell_info[0];\n",
       "\n",
       "};\n",
       "\n",
       "mpl.figure.prototype.handle_close = function(fig, msg) {\n",
       "    var width = fig.canvas.width/mpl.ratio\n",
       "    fig.root.unbind('remove')\n",
       "\n",
       "    // Update the output cell to use the data from the current canvas.\n",
       "    fig.push_to_output();\n",
       "    var dataURL = fig.canvas.toDataURL();\n",
       "    // Re-enable the keyboard manager in IPython - without this line, in FF,\n",
       "    // the notebook keyboard shortcuts fail.\n",
       "    IPython.keyboard_manager.enable()\n",
       "    $(fig.parent_element).html('<img src=\"' + dataURL + '\" width=\"' + width + '\">');\n",
       "    fig.close_ws(fig, msg);\n",
       "}\n",
       "\n",
       "mpl.figure.prototype.close_ws = function(fig, msg){\n",
       "    fig.send_message('closing', msg);\n",
       "    // fig.ws.close()\n",
       "}\n",
       "\n",
       "mpl.figure.prototype.push_to_output = function(remove_interactive) {\n",
       "    // Turn the data on the canvas into data in the output cell.\n",
       "    var width = this.canvas.width/mpl.ratio\n",
       "    var dataURL = this.canvas.toDataURL();\n",
       "    this.cell_info[1]['text/html'] = '<img src=\"' + dataURL + '\" width=\"' + width + '\">';\n",
       "}\n",
       "\n",
       "mpl.figure.prototype.updated_canvas_event = function() {\n",
       "    // Tell IPython that the notebook contents must change.\n",
       "    IPython.notebook.set_dirty(true);\n",
       "    this.send_message(\"ack\", {});\n",
       "    var fig = this;\n",
       "    // Wait a second, then push the new image to the DOM so\n",
       "    // that it is saved nicely (might be nice to debounce this).\n",
       "    setTimeout(function () { fig.push_to_output() }, 1000);\n",
       "}\n",
       "\n",
       "mpl.figure.prototype._init_toolbar = function() {\n",
       "    var fig = this;\n",
       "\n",
       "    var nav_element = $('<div/>');\n",
       "    nav_element.attr('style', 'width: 100%');\n",
       "    this.root.append(nav_element);\n",
       "\n",
       "    // Define a callback function for later on.\n",
       "    function toolbar_event(event) {\n",
       "        return fig.toolbar_button_onclick(event['data']);\n",
       "    }\n",
       "    function toolbar_mouse_event(event) {\n",
       "        return fig.toolbar_button_onmouseover(event['data']);\n",
       "    }\n",
       "\n",
       "    for(var toolbar_ind in mpl.toolbar_items){\n",
       "        var name = mpl.toolbar_items[toolbar_ind][0];\n",
       "        var tooltip = mpl.toolbar_items[toolbar_ind][1];\n",
       "        var image = mpl.toolbar_items[toolbar_ind][2];\n",
       "        var method_name = mpl.toolbar_items[toolbar_ind][3];\n",
       "\n",
       "        if (!name) { continue; };\n",
       "\n",
       "        var button = $('<button class=\"btn btn-default\" href=\"#\" title=\"' + name + '\"><i class=\"fa ' + image + ' fa-lg\"></i></button>');\n",
       "        button.click(method_name, toolbar_event);\n",
       "        button.mouseover(tooltip, toolbar_mouse_event);\n",
       "        nav_element.append(button);\n",
       "    }\n",
       "\n",
       "    // Add the status bar.\n",
       "    var status_bar = $('<span class=\"mpl-message\" style=\"text-align:right; float: right;\"/>');\n",
       "    nav_element.append(status_bar);\n",
       "    this.message = status_bar[0];\n",
       "\n",
       "    // Add the close button to the window.\n",
       "    var buttongrp = $('<div class=\"btn-group inline pull-right\"></div>');\n",
       "    var button = $('<button class=\"btn btn-mini btn-primary\" href=\"#\" title=\"Stop Interaction\"><i class=\"fa fa-power-off icon-remove icon-large\"></i></button>');\n",
       "    button.click(function (evt) { fig.handle_close(fig, {}); } );\n",
       "    button.mouseover('Stop Interaction', toolbar_mouse_event);\n",
       "    buttongrp.append(button);\n",
       "    var titlebar = this.root.find($('.ui-dialog-titlebar'));\n",
       "    titlebar.prepend(buttongrp);\n",
       "}\n",
       "\n",
       "mpl.figure.prototype._root_extra_style = function(el){\n",
       "    var fig = this\n",
       "    el.on(\"remove\", function(){\n",
       "\tfig.close_ws(fig, {});\n",
       "    });\n",
       "}\n",
       "\n",
       "mpl.figure.prototype._canvas_extra_style = function(el){\n",
       "    // this is important to make the div 'focusable\n",
       "    el.attr('tabindex', 0)\n",
       "    // reach out to IPython and tell the keyboard manager to turn it's self\n",
       "    // off when our div gets focus\n",
       "\n",
       "    // location in version 3\n",
       "    if (IPython.notebook.keyboard_manager) {\n",
       "        IPython.notebook.keyboard_manager.register_events(el);\n",
       "    }\n",
       "    else {\n",
       "        // location in version 2\n",
       "        IPython.keyboard_manager.register_events(el);\n",
       "    }\n",
       "\n",
       "}\n",
       "\n",
       "mpl.figure.prototype._key_event_extra = function(event, name) {\n",
       "    var manager = IPython.notebook.keyboard_manager;\n",
       "    if (!manager)\n",
       "        manager = IPython.keyboard_manager;\n",
       "\n",
       "    // Check for shift+enter\n",
       "    if (event.shiftKey && event.which == 13) {\n",
       "        this.canvas_div.blur();\n",
       "        // select the cell after this one\n",
       "        var index = IPython.notebook.find_cell_index(this.cell_info[0]);\n",
       "        IPython.notebook.select(index + 1);\n",
       "    }\n",
       "}\n",
       "\n",
       "mpl.figure.prototype.handle_save = function(fig, msg) {\n",
       "    fig.ondownload(fig, null);\n",
       "}\n",
       "\n",
       "\n",
       "mpl.find_output_cell = function(html_output) {\n",
       "    // Return the cell and output element which can be found *uniquely* in the notebook.\n",
       "    // Note - this is a bit hacky, but it is done because the \"notebook_saving.Notebook\"\n",
       "    // IPython event is triggered only after the cells have been serialised, which for\n",
       "    // our purposes (turning an active figure into a static one), is too late.\n",
       "    var cells = IPython.notebook.get_cells();\n",
       "    var ncells = cells.length;\n",
       "    for (var i=0; i<ncells; i++) {\n",
       "        var cell = cells[i];\n",
       "        if (cell.cell_type === 'code'){\n",
       "            for (var j=0; j<cell.output_area.outputs.length; j++) {\n",
       "                var data = cell.output_area.outputs[j];\n",
       "                if (data.data) {\n",
       "                    // IPython >= 3 moved mimebundle to data attribute of output\n",
       "                    data = data.data;\n",
       "                }\n",
       "                if (data['text/html'] == html_output) {\n",
       "                    return [cell, data, j];\n",
       "                }\n",
       "            }\n",
       "        }\n",
       "    }\n",
       "}\n",
       "\n",
       "// Register the function which deals with the matplotlib target/channel.\n",
       "// The kernel may be null if the page has been refreshed.\n",
       "if (IPython.notebook.kernel != null) {\n",
       "    IPython.notebook.kernel.comm_manager.register_target('matplotlib', mpl.mpl_figure_comm);\n",
       "}\n"
      ],
      "text/plain": [
       "<IPython.core.display.Javascript object>"
      ]
     },
     "metadata": {},
     "output_type": "display_data"
    },
    {
     "data": {
      "text/html": [
       "<img src=\"data:image/png;base64,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\" width=\"1000\">"
      ],
      "text/plain": [
       "<IPython.core.display.HTML object>"
      ]
     },
     "metadata": {},
     "output_type": "display_data"
    }
   ],
   "source": [
    "dual_train_plots(results.index,\n",
    "                 results.cost, results.val, \n",
    "                 results['eff_val'].apply(lambda x: x.eff_rate),\n",
    "                 results['eff_val'].apply(lambda x: x.fp_rate))\n",
    "plt.tight_layout()\n",
    "plt.savefig(str(output / f'{name}_stats_a.png'))"
   ]
  },
  {
   "cell_type": "markdown",
   "metadata": {},
   "source": [
    "Go ahead and save the final model (even though it was also saved above):"
   ]
  },
  {
   "cell_type": "markdown",
   "metadata": {},
   "source": [
    "Save the output results:"
   ]
  },
  {
   "cell_type": "code",
   "execution_count": 20,
   "metadata": {},
   "outputs": [],
   "source": [
    "##torch.cuda.empty_cache()\"\n",
    "##\n",
    "quit()\n",
    "\n"
   ]
  },
  {
   "cell_type": "code",
   "execution_count": null,
   "metadata": {},
   "outputs": [],
   "source": []
  }
 ],
 "metadata": {
  "kernelspec": {
   "display_name": "june2020-gpu",
   "language": "python",
   "name": "june2020-gpu"
  },
  "language_info": {
   "codemirror_mode": {
    "name": "ipython",
    "version": 3
   },
   "file_extension": ".py",
   "mimetype": "text/x-python",
   "name": "python",
   "nbconvert_exporter": "python",
   "pygments_lexer": "ipython3",
   "version": "3.7.6"
  }
 },
 "nbformat": 4,
 "nbformat_minor": 2
}
