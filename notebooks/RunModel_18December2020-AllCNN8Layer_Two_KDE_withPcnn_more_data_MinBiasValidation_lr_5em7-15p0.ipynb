{
 "cells": [
  {
   "cell_type": "code",
   "execution_count": 1,
   "metadata": {},
   "outputs": [],
   "source": [
    "##%matplotlib widget\n",
    "## with %matplotlib notebook: seems to require ipympl as part of environment, either\n",
    "## part of the conda environment or \"pip install ipympl\"\n",
    "## otherwise, does not show ANY plots in notebook, plt.savefig() works\n",
    "%matplotlib notebook  \n",
    "##%matplotlib inline    ## --plt.savefig()  works, but re-sizing does NOT\n",
    "\n"
   ]
  },
  {
   "cell_type": "markdown",
   "metadata": {},
   "source": [
    "This notebook is derived from RunModel_Demo_28November2020-SimpleCNNLayer_Ca which \"worked\", but did not reach as high efficiency as earlier models. Here, the number of hidden convolutional layers is increased by 2 and the number of output channels per layer is increased by using SimpleCNN7Layer_Ca_Two_KDE in place of SimpleCNN5Layer_Ca_Two_KDE\n",
    "\n",
    "The goal is to use two channels of input -- poca_KDE_A and poca_KDE_B to see if this improves the performance of the algorithm, all else being equal.\n",
    "\n",
    "\"withPfc\" denotes using poca_KDE_A_xMax & poca_KDE_A_yMax as perturbative features\n",
    "\n",
    "We use full LHCb MC for both training and validation here, albeit a training sample slightly less than 100K events.\n"
   ]
  },
  {
   "cell_type": "markdown",
   "metadata": {},
   "source": [
    "Check the current GPU usage. Please try to be nice!"
   ]
  },
  {
   "cell_type": "code",
   "execution_count": 2,
   "metadata": {},
   "outputs": [
    {
     "name": "stdout",
     "output_type": "stream",
     "text": [
      "Fri Dec 18 21:52:45 2020       \n",
      "+-----------------------------------------------------------------------------+\n",
      "| NVIDIA-SMI 440.64.00    Driver Version: 440.64.00    CUDA Version: 10.2     |\n",
      "|-------------------------------+----------------------+----------------------+\n",
      "| GPU  Name        Persistence-M| Bus-Id        Disp.A | Volatile Uncorr. ECC |\n",
      "| Fan  Temp  Perf  Pwr:Usage/Cap|         Memory-Usage | GPU-Util  Compute M. |\n",
      "|===============================+======================+======================|\n",
      "|   0  TITAN V             Off  | 00000000:03:00.0 Off |                  N/A |\n",
      "| 28%   37C    P8    23W / 250W |   5572MiB / 12066MiB |      0%      Default |\n",
      "+-------------------------------+----------------------+----------------------+\n",
      "|   1  Tesla P100-PCIE...  Off  | 00000000:83:00.0 Off |                    0 |\n",
      "| N/A   37C    P0    27W / 250W |      0MiB / 16280MiB |      0%      Default |\n",
      "+-------------------------------+----------------------+----------------------+\n",
      "|   2  TITAN V             Off  | 00000000:84:00.0 Off |                  N/A |\n",
      "| 28%   41C    P8    27W / 250W |   1641MiB / 12066MiB |      0%      Default |\n",
      "+-------------------------------+----------------------+----------------------+\n",
      "                                                                               \n",
      "+-----------------------------------------------------------------------------+\n",
      "| Processes:                                                       GPU Memory |\n",
      "|  GPU       PID   Type   Process name                             Usage      |\n",
      "|=============================================================================|\n",
      "|    0     39823      C   /data/conda/envs/goofit/bin/python          2351MiB |\n",
      "|    0     44398      C   /data/conda/envs/goofit/bin/python          3209MiB |\n",
      "|    2      4304      C   ...a/conda/envs/goofit-june2020/bin/python  1629MiB |\n",
      "+-----------------------------------------------------------------------------+\n"
     ]
    }
   ],
   "source": [
    "!nvidia-smi"
   ]
  },
  {
   "cell_type": "markdown",
   "metadata": {},
   "source": [
    "> **WARNING**: The card numbers here are *not* the same as in CUDA. You have been warned."
   ]
  },
  {
   "cell_type": "markdown",
   "metadata": {},
   "source": [
    "## Imports"
   ]
  },
  {
   "cell_type": "code",
   "execution_count": 3,
   "metadata": {},
   "outputs": [],
   "source": [
    "import matplotlib.pyplot as plt\n",
    "import numpy as np\n",
    "import time\n",
    "import torch\n",
    "import pandas as pd\n",
    "\n",
    "# Python 3 standard library\n",
    "from pathlib import Path\n",
    "\n",
    "from torchsummary import summary"
   ]
  },
  {
   "cell_type": "markdown",
   "metadata": {},
   "source": [
    "### Set up local parameters"
   ]
  },
  {
   "cell_type": "code",
   "execution_count": 4,
   "metadata": {},
   "outputs": [],
   "source": [
    "n_epochs = 50\n",
    "\n",
    "# Name is the output file name\n",
    "\n",
    "\n",
    "##  201128  mds\n",
    "##  iter2 follows from iter0 (only last layer weights allowed to be learned)\n",
    "##  due to operator error, the file/folder name was iter1 rather than iter2\n",
    "##  so the labeling is slightly mis-leading.  This is the first iteration\n",
    "##  when all weights are allowed to vary\n",
    "folder = '18December2020_AllCNN8Layer_withPcnn_50epochs_moreDataIter1_lr_5em7_aymm_15p0'\n",
    "name = folder\n",
    "\n",
    "# Make an output folder named \"name\" (change if you want)\n",
    "\n",
    "## Special instructions for those working on goofy at UC\n",
    "## Please be very careful to make sure that your folder\n",
    "## does not live in a subdirectory of your home directory\n",
    "## this disk has very little capacity. Instead, use \n",
    "## a subdirectory in /share/lazy with a symbolic link to\n",
    "## it in this (the notebooks) subdirectory\n",
    "folder = 'ML/' + folder\n",
    "output = Path(folder)\n",
    "\n",
    "\n",
    "# Size of batches\n",
    "batch_size = 128\n",
    "\n",
    "# How fast to learn\n",
    "learning_rate = 5e-7"
   ]
  },
  {
   "cell_type": "markdown",
   "metadata": {},
   "source": [
    "Make the output directory if it does not exist:"
   ]
  },
  {
   "cell_type": "code",
   "execution_count": 5,
   "metadata": {},
   "outputs": [],
   "source": [
    "output.mkdir(exist_ok=True)"
   ]
  },
  {
   "cell_type": "markdown",
   "metadata": {},
   "source": [
    "## Get the helper functions\n",
    "\n",
    "Add the directory with the model\n",
    "definitions to the path so we can import from it:\n",
    "\n",
    "> When you type `import X`,\n",
    "Python searches `sys.path` for a python\n",
    "file named `X.py` to import. So we need to add the model directory to the path."
   ]
  },
  {
   "cell_type": "code",
   "execution_count": 6,
   "metadata": {
    "scrolled": true
   },
   "outputs": [],
   "source": [
    "# From model/collectdata.py\n",
    "from model.collectdata_poca_KDE import collect_data_poca\n",
    "\n",
    "# From model/loss.py\n",
    "##from loss import Loss\n",
    "from model.alt_loss_A import Loss\n",
    "\n",
    "# From model/training.py\n",
    "from model.training import trainNet, select_gpu\n",
    "\n",
    "# From model/models.py\n",
    "##  will start with model from TwoFeatures_CNN6Layer_A in the first instance\n",
    "##  see relevant cell below\n",
    "\n",
    "\n",
    "from model.models_mds_G import AllCNN8Layer_Ca_Two_KDE_withPcnn as Model\n",
    "\n",
    "from model.training import trainNet, select_gpu, Results\n",
    "from model.plots import dual_train_plots, replace_in_ax"
   ]
  },
  {
   "cell_type": "code",
   "execution_count": 7,
   "metadata": {},
   "outputs": [],
   "source": [
    "# This gets built up during the run - do not rerun this cell\n",
    "results = pd.DataFrame([], columns=Results._fields)"
   ]
  },
  {
   "cell_type": "markdown",
   "metadata": {},
   "source": [
    "Set up Torch device configuration. All tensors and model parameters need to know where to be put.\n",
    "This takes a BUS ID number: The BUS ID is the same as the listing at the top of this script."
   ]
  },
  {
   "cell_type": "code",
   "execution_count": 8,
   "metadata": {},
   "outputs": [
    {
     "name": "stdout",
     "output_type": "stream",
     "text": [
      "1 available GPUs (initially using device 0):\n",
      "  0 TITAN V\n"
     ]
    }
   ],
   "source": [
    "device = select_gpu(2)"
   ]
  },
  {
   "cell_type": "markdown",
   "metadata": {},
   "source": [
    "## Loading data\n",
    "\n",
    "Load the dataset, split into parts, then move to device (see `collectdata.py` in the `../model` directory)"
   ]
  },
  {
   "cell_type": "code",
   "execution_count": 9,
   "metadata": {
    "scrolled": true
   },
   "outputs": [
    {
     "name": "stdout",
     "output_type": "stream",
     "text": [
      "Loading data...\n",
      "Loaded dataAA/pv_HLT1CPU_MinBiasMagDown_14Nov.h5 in 18.33 s\n",
      "Loaded dataAA/pv_HLT1CPU_JpsiPhiMagDown_12Dec.h5 in 30.94 s\n",
      "Loaded dataAA/pv_HLT1CPU_D0piMagUp_12Dec.h5 in 30.54 s\n",
      "Loaded dataAA/pv_HLT1CPU_MinBiasMagUp_14Nov.h5 in 18.05 s\n",
      "Constructing 260000 event dataset took 2.01 s\n",
      "Loading data...\n",
      "Loaded dataAA/pv_HLT1CPU_MinBiasMagUp_14Nov.h5 in 18.14 s\n",
      "Constructing 18349 event dataset took 0.1859 s\n"
     ]
    }
   ],
   "source": [
    "## newer vernacular\n",
    "## Training dataset. You can put as many files here as desired.\n",
    "\n",
    "## in this DEMO example we use only one 80K training set -- the model starts with well-trained weights,\n",
    "## and using a smaller training set reduces both the time to load the data and the time to train an epoch\n",
    "##  set the option load_XandXsq = True to use both DKE and KDE^2 as input features\n",
    "##  added dataAA/pv_HLT1CPU_D0piMagUp_12Dec.h5  201212\n",
    "\n",
    "##  pv_HLT1CPU_D0piMagUp_12Dec.h5 + pv_HLT1CPU_MinBiasMagDown_14Nov.h5 contain 138810 events\n",
    "##  pv_HLT1CPU_MinBiasMagUp_14Nov.h5 contains 51349\n",
    "##  choose which to \"load\" and slices to produce 180K event training sample\n",
    "##   and 10159 event validation sample\n",
    "train_loader = collect_data_poca(\n",
    "                              'dataAA/pv_HLT1CPU_MinBiasMagDown_14Nov.h5',\n",
    "                              'dataAA/pv_HLT1CPU_JpsiPhiMagDown_12Dec.h5',\n",
    "                              'dataAA/pv_HLT1CPU_D0piMagUp_12Dec.h5',\n",
    "                              'dataAA/pv_HLT1CPU_MinBiasMagUp_14Nov.h5',\n",
    "                               slice = slice(None,260000),\n",
    "##                             device = device,\n",
    "                             batch_size=batch_size,\n",
    "## if we are using a larger dataset (240K events, with the datasets above, and 11 GB  of GPU memory),\n",
    "## not the dataset will overflow the GPU memory; device=device will allow the data to move back\n",
    "## and forth between the CPU and GPU memory. While this allows use of a larger dataset, it slows\n",
    "## down performance by about 10%.  So comment out when not needed.\n",
    "##                           device=device,\n",
    "                            masking=True, shuffle=True,\n",
    "                            load_XandXsq=False,\n",
    "                            load_A_and_B = True,\n",
    "                            load_xy=True)\n",
    "\n",
    "# Validation dataset. You can slice to reduce the size.\n",
    "## dataAA -> /share/lazy/sokoloff/ML-data_AA/\n",
    "val_loader = collect_data_poca(\n",
    "##                          'dataAA/pv_HLT1CPU_MinBiasMagDown_14Nov.h5',\n",
    "                            'dataAA/pv_HLT1CPU_MinBiasMagUp_14Nov.h5',\n",
    "##                            'dataAA/pv_HLT1CPU_D0piMagUp_12Dec.h5',\n",
    "                          batch_size=batch_size,\n",
    "                          slice=slice(33000,None),\n",
    "##                          device=device,\n",
    "                          masking=True, shuffle=False,\n",
    "                          load_XandXsq=False,\n",
    "                          load_A_and_B = True,\n",
    "                          load_xy=True)"
   ]
  },
  {
   "cell_type": "markdown",
   "metadata": {},
   "source": [
    "# Preparing the model"
   ]
  },
  {
   "cell_type": "markdown",
   "metadata": {},
   "source": [
    "Prepare a model, use multiple GPUs if they are VISIBLE, and move the model to the device."
   ]
  },
  {
   "cell_type": "code",
   "execution_count": 10,
   "metadata": {
    "scrolled": true
   },
   "outputs": [
    {
     "name": "stdout",
     "output_type": "stream",
     "text": [
      "ct, child =  0    Conv1d(2, 25, kernel_size=(25,), stride=(1,), padding=(12,))\n",
      "ct, child =  1    Conv1d(25, 25, kernel_size=(15,), stride=(1,), padding=(7,))\n",
      "ct, child =  2    Conv1d(25, 25, kernel_size=(15,), stride=(1,), padding=(7,))\n",
      "ct, child =  3    Conv1d(25, 25, kernel_size=(15,), stride=(1,), padding=(7,))\n",
      "ct, child =  4    Conv1d(25, 25, kernel_size=(15,), stride=(1,), padding=(7,))\n",
      "ct, child =  5    Conv1d(25, 25, kernel_size=(15,), stride=(1,), padding=(7,))\n",
      "ct, child =  6    Conv1d(25, 1, kernel_size=(5,), stride=(1,), padding=(2,))\n",
      "ct, child =  7    Dropout(p=0.15, inplace=False)\n",
      "ct, child =  8    Dropout(p=0.15, inplace=False)\n",
      "ct, child =  9    Dropout(p=0.15, inplace=False)\n",
      "ct, child =  10    Dropout(p=0.15, inplace=False)\n",
      "ct, child =  11    Dropout(p=0.15, inplace=False)\n",
      "ct, child =  12    Dropout(p=0.15, inplace=False)\n",
      "ct, child =  13    Dropout(p=0.15, inplace=False)\n",
      "ct, child =  14    Linear(in_features=4000, out_features=4000, bias=True)\n",
      "ct, child =  15    Conv1d(1, 1, kernel_size=(91,), stride=(1,), padding=(45,))\n",
      "ct, child =  16    Conv1d(2, 20, kernel_size=(25,), stride=(1,), padding=(12,))\n",
      "ct, child =  17    Conv1d(20, 15, kernel_size=(15,), stride=(1,), padding=(7,))\n",
      "ct, child =  18    Conv1d(15, 1, kernel_size=(5,), stride=(1,), padding=(2,))\n",
      "ct, child =  19    Linear(in_features=4000, out_features=4000, bias=True)\n",
      "ct, child =  20    Conv1d(1, 1, kernel_size=(31,), stride=(1,), padding=(15,))\n"
     ]
    }
   ],
   "source": [
    "model = Model()\n",
    "\n",
    "##summary(model, input_size=(4, 4000))\n",
    "##print(model.parameters)\n",
    "\n",
    "## add the following code to allow the user to freeze the some of the weights corresponding \n",
    "## to those taken from an earlier model trained with the original target histograms\n",
    "## presumably -- this leaves either the perturbative filter \"fixed\" and lets the \n",
    "## learning focus on the non-perturbative features, so get started faster, or vice versa\n",
    "ct = 0\n",
    "for child in model.children():\n",
    "  print('ct, child = ',ct, \"  \", child)\n",
    "  if ct < 0:\n",
    "    print(\"     About to set param.requires_grad=False for ct = \", ct, \"params\")\n",
    "    for param in child.parameters():\n",
    "        param.requires_grad = False \n",
    "  ct += 1\n",
    "##  mds 200121 loss = Loss(epsilon=1e-5,coefficient=1.0)\n",
    "loss = Loss(epsilon=1e-5,coefficient=15.0)\n",
    "optimizer = torch.optim.Adam(model.parameters(), lr=learning_rate)"
   ]
  },
  {
   "cell_type": "code",
   "execution_count": 11,
   "metadata": {
    "scrolled": true
   },
   "outputs": [
    {
     "name": "stdout",
     "output_type": "stream",
     "text": [
      "Let's use 1 GPUs!\n"
     ]
    }
   ],
   "source": [
    "print(\"Let's use\", torch.cuda.device_count(), \"GPUs!\")\n",
    "if torch.cuda.device_count() > 1:\n",
    "    model = torch.nn.DataParallel(model)"
   ]
  },
  {
   "cell_type": "markdown",
   "metadata": {},
   "source": [
    "Let's move the model's weight matricies to the GPU:"
   ]
  },
  {
   "cell_type": "code",
   "execution_count": 12,
   "metadata": {},
   "outputs": [
    {
     "name": "stdout",
     "output_type": "stream",
     "text": [
      "dictName =  ML/18December2020_AllCNN8Layer_withPcnn_50epochs_moreDataIter1_lr_5em7_aymm_10p0/18December2020_AllCNN8Layer_withPcnn_50epochs_moreDataIter1_lr_5em7_aymm_10p0_final.pyt\n",
      "for model_dict\n",
      "index, k =   0    conv1.weight\n",
      "index, k =   1    conv1.bias\n",
      "index, k =   2    conv2.weight\n",
      "index, k =   3    conv2.bias\n",
      "index, k =   4    conv3.weight\n",
      "index, k =   5    conv3.bias\n",
      "index, k =   6    conv4.weight\n",
      "index, k =   7    conv4.bias\n",
      "index, k =   8    conv5.weight\n",
      "index, k =   9    conv5.bias\n",
      "index, k =   10    conv6.weight\n",
      "index, k =   11    conv6.bias\n",
      "index, k =   12    conv7.weight\n",
      "index, k =   13    conv7.bias\n",
      "index, k =   14    fc1.weight\n",
      "index, k =   15    fc1.bias\n",
      "index, k =   16    finalFilter.weight\n",
      "index, k =   17    finalFilter.bias\n",
      "index, k =   18    ppConv1.weight\n",
      "index, k =   19    ppConv1.bias\n",
      "index, k =   20    ppConv2.weight\n",
      "index, k =   21    ppConv2.bias\n",
      "index, k =   22    ppConv3.weight\n",
      "index, k =   23    ppConv3.bias\n",
      "index, k =   24    ppFc1.weight\n",
      "index, k =   25    ppFc1.bias\n",
      "index, k =   26    ppFinalFilter.weight\n",
      "index, k =   27    ppFinalFilter.bias\n",
      " \n",
      "   for pretrained_dict\n",
      "index, k =   0    conv1.weight\n",
      "index, k =   1    conv1.bias\n",
      "index, k =   2    conv2.weight\n",
      "index, k =   3    conv2.bias\n",
      "index, k =   4    conv3.weight\n",
      "index, k =   5    conv3.bias\n",
      "index, k =   6    conv4.weight\n",
      "index, k =   7    conv4.bias\n",
      "index, k =   8    conv5.weight\n",
      "index, k =   9    conv5.bias\n",
      "index, k =   10    conv6.weight\n",
      "index, k =   11    conv6.bias\n",
      "index, k =   12    conv7.weight\n",
      "index, k =   13    conv7.bias\n",
      "index, k =   14    fc1.weight\n",
      "index, k =   15    fc1.bias\n",
      "index, k =   16    finalFilter.weight\n",
      "index, k =   17    finalFilter.bias\n",
      "index, k =   18    ppConv1.weight\n",
      "index, k =   19    ppConv1.bias\n",
      "index, k =   20    ppConv2.weight\n",
      "index, k =   21    ppConv2.bias\n",
      "index, k =   22    ppConv3.weight\n",
      "index, k =   23    ppConv3.bias\n",
      "index, k =   24    ppFc1.weight\n",
      "index, k =   25    ppFc1.bias\n",
      "index, k =   26    ppFinalFilter.weight\n",
      "index, k =   27    ppFinalFilter.bias\n",
      "model_dict instantiated\n"
     ]
    },
    {
     "data": {
      "text/plain": [
       "<All keys matched successfully>"
      ]
     },
     "execution_count": 12,
     "metadata": {},
     "output_type": "execute_result"
    }
   ],
   "source": [
    "##print('output = ',output)\n",
    "##print('oldOutput = ',oldOutput)\n",
    "##  use the first four layers from a pre-existing model\n",
    "##  see example at https://discuss.pytorch.org/t/how-to-load-part-of-pre-trained-model/1113\n",
    "\n",
    "##   ML -> /share/lazy/sokoloff/ML\n",
    "## not that m1p0 in file name is mis-leading  201212\n",
    "oldName = '18December2020_AllCNN8Layer_withPcnn_50epochs_moreDataIter1_lr_5em7_aymm_10p0'\n",
    "oldFolder = oldName\n",
    "suffix = 'final'\n",
    "dictName = 'ML/'+oldFolder+'/'+oldName+'_'+suffix+'.pyt'\n",
    "print('dictName = ',dictName)\n",
    "pretrained_dict = torch.load(dictName)\n",
    "model_dict = model.state_dict()\n",
    "## mds 190725 for debugging\n",
    "print(\"for model_dict\")\n",
    "index = 0\n",
    "for k,v in model_dict.items():\n",
    "    print(\"index, k =  \",index,\"  \",k)\n",
    "    index = index+1\n",
    "    \n",
    "print(\" \\n\",\"  for pretrained_dict\")\n",
    "index = 0\n",
    "for k,v in pretrained_dict.items():\n",
    "    print(\"index, k =  \",index,\"  \",k)\n",
    "    index = index+1\n",
    "## mds  \n",
    "\n",
    "print(\"model_dict instantiated\")\n",
    "# 1. filter out unnecessary keys\n",
    "pretrained_dict = {k: v for k, v in pretrained_dict.items() if k in model_dict}\n",
    "## print(\"pretrained_dict iterated\")\n",
    "# 2. overwrite entries in the existing state dict\n",
    "model_dict.update(pretrained_dict) \n",
    "##\n",
    "#   when starting from a model with a fully connected last layer rather than a convolutional layer\n",
    "# 3. load the new state dict\n",
    "#   need to use strict=False as the two models state model attributes do not agree exactly\n",
    "#   see https://pytorch.org/docs/master/_modules/torch/nn/modules/module.html#Module.load_state_dict\n",
    "\n",
    "model.load_state_dict(pretrained_dict,strict=False)\n",
    "\n",
    "## print('model_dict =    ', model_dict)\n"
   ]
  },
  {
   "cell_type": "code",
   "execution_count": 13,
   "metadata": {
    "scrolled": true
   },
   "outputs": [],
   "source": [
    "model = model.to(device)"
   ]
  },
  {
   "cell_type": "markdown",
   "metadata": {},
   "source": [
    "## Train \n",
    "\n",
    "\n",
    "\n",
    "The body of this loop runs once per epoch. Results is a named tuple of values (loss per epoch for training and validation, time each). Start by setting up a plot first:"
   ]
  },
  {
   "cell_type": "code",
   "execution_count": 14,
   "metadata": {
    "scrolled": false
   },
   "outputs": [
    {
     "data": {
      "application/javascript": [
       "/* Put everything inside the global mpl namespace */\n",
       "window.mpl = {};\n",
       "\n",
       "\n",
       "mpl.get_websocket_type = function() {\n",
       "    if (typeof(WebSocket) !== 'undefined') {\n",
       "        return WebSocket;\n",
       "    } else if (typeof(MozWebSocket) !== 'undefined') {\n",
       "        return MozWebSocket;\n",
       "    } else {\n",
       "        alert('Your browser does not have WebSocket support. ' +\n",
       "              'Please try Chrome, Safari or Firefox ≥ 6. ' +\n",
       "              'Firefox 4 and 5 are also supported but you ' +\n",
       "              'have to enable WebSockets in about:config.');\n",
       "    };\n",
       "}\n",
       "\n",
       "mpl.figure = function(figure_id, websocket, ondownload, parent_element) {\n",
       "    this.id = figure_id;\n",
       "\n",
       "    this.ws = websocket;\n",
       "\n",
       "    this.supports_binary = (this.ws.binaryType != undefined);\n",
       "\n",
       "    if (!this.supports_binary) {\n",
       "        var warnings = document.getElementById(\"mpl-warnings\");\n",
       "        if (warnings) {\n",
       "            warnings.style.display = 'block';\n",
       "            warnings.textContent = (\n",
       "                \"This browser does not support binary websocket messages. \" +\n",
       "                    \"Performance may be slow.\");\n",
       "        }\n",
       "    }\n",
       "\n",
       "    this.imageObj = new Image();\n",
       "\n",
       "    this.context = undefined;\n",
       "    this.message = undefined;\n",
       "    this.canvas = undefined;\n",
       "    this.rubberband_canvas = undefined;\n",
       "    this.rubberband_context = undefined;\n",
       "    this.format_dropdown = undefined;\n",
       "\n",
       "    this.image_mode = 'full';\n",
       "\n",
       "    this.root = $('<div/>');\n",
       "    this._root_extra_style(this.root)\n",
       "    this.root.attr('style', 'display: inline-block');\n",
       "\n",
       "    $(parent_element).append(this.root);\n",
       "\n",
       "    this._init_header(this);\n",
       "    this._init_canvas(this);\n",
       "    this._init_toolbar(this);\n",
       "\n",
       "    var fig = this;\n",
       "\n",
       "    this.waiting = false;\n",
       "\n",
       "    this.ws.onopen =  function () {\n",
       "            fig.send_message(\"supports_binary\", {value: fig.supports_binary});\n",
       "            fig.send_message(\"send_image_mode\", {});\n",
       "            if (mpl.ratio != 1) {\n",
       "                fig.send_message(\"set_dpi_ratio\", {'dpi_ratio': mpl.ratio});\n",
       "            }\n",
       "            fig.send_message(\"refresh\", {});\n",
       "        }\n",
       "\n",
       "    this.imageObj.onload = function() {\n",
       "            if (fig.image_mode == 'full') {\n",
       "                // Full images could contain transparency (where diff images\n",
       "                // almost always do), so we need to clear the canvas so that\n",
       "                // there is no ghosting.\n",
       "                fig.context.clearRect(0, 0, fig.canvas.width, fig.canvas.height);\n",
       "            }\n",
       "            fig.context.drawImage(fig.imageObj, 0, 0);\n",
       "        };\n",
       "\n",
       "    this.imageObj.onunload = function() {\n",
       "        fig.ws.close();\n",
       "    }\n",
       "\n",
       "    this.ws.onmessage = this._make_on_message_function(this);\n",
       "\n",
       "    this.ondownload = ondownload;\n",
       "}\n",
       "\n",
       "mpl.figure.prototype._init_header = function() {\n",
       "    var titlebar = $(\n",
       "        '<div class=\"ui-dialog-titlebar ui-widget-header ui-corner-all ' +\n",
       "        'ui-helper-clearfix\"/>');\n",
       "    var titletext = $(\n",
       "        '<div class=\"ui-dialog-title\" style=\"width: 100%; ' +\n",
       "        'text-align: center; padding: 3px;\"/>');\n",
       "    titlebar.append(titletext)\n",
       "    this.root.append(titlebar);\n",
       "    this.header = titletext[0];\n",
       "}\n",
       "\n",
       "\n",
       "\n",
       "mpl.figure.prototype._canvas_extra_style = function(canvas_div) {\n",
       "\n",
       "}\n",
       "\n",
       "\n",
       "mpl.figure.prototype._root_extra_style = function(canvas_div) {\n",
       "\n",
       "}\n",
       "\n",
       "mpl.figure.prototype._init_canvas = function() {\n",
       "    var fig = this;\n",
       "\n",
       "    var canvas_div = $('<div/>');\n",
       "\n",
       "    canvas_div.attr('style', 'position: relative; clear: both; outline: 0');\n",
       "\n",
       "    function canvas_keyboard_event(event) {\n",
       "        return fig.key_event(event, event['data']);\n",
       "    }\n",
       "\n",
       "    canvas_div.keydown('key_press', canvas_keyboard_event);\n",
       "    canvas_div.keyup('key_release', canvas_keyboard_event);\n",
       "    this.canvas_div = canvas_div\n",
       "    this._canvas_extra_style(canvas_div)\n",
       "    this.root.append(canvas_div);\n",
       "\n",
       "    var canvas = $('<canvas/>');\n",
       "    canvas.addClass('mpl-canvas');\n",
       "    canvas.attr('style', \"left: 0; top: 0; z-index: 0; outline: 0\")\n",
       "\n",
       "    this.canvas = canvas[0];\n",
       "    this.context = canvas[0].getContext(\"2d\");\n",
       "\n",
       "    var backingStore = this.context.backingStorePixelRatio ||\n",
       "\tthis.context.webkitBackingStorePixelRatio ||\n",
       "\tthis.context.mozBackingStorePixelRatio ||\n",
       "\tthis.context.msBackingStorePixelRatio ||\n",
       "\tthis.context.oBackingStorePixelRatio ||\n",
       "\tthis.context.backingStorePixelRatio || 1;\n",
       "\n",
       "    mpl.ratio = (window.devicePixelRatio || 1) / backingStore;\n",
       "\n",
       "    var rubberband = $('<canvas/>');\n",
       "    rubberband.attr('style', \"position: absolute; left: 0; top: 0; z-index: 1;\")\n",
       "\n",
       "    var pass_mouse_events = true;\n",
       "\n",
       "    canvas_div.resizable({\n",
       "        start: function(event, ui) {\n",
       "            pass_mouse_events = false;\n",
       "        },\n",
       "        resize: function(event, ui) {\n",
       "            fig.request_resize(ui.size.width, ui.size.height);\n",
       "        },\n",
       "        stop: function(event, ui) {\n",
       "            pass_mouse_events = true;\n",
       "            fig.request_resize(ui.size.width, ui.size.height);\n",
       "        },\n",
       "    });\n",
       "\n",
       "    function mouse_event_fn(event) {\n",
       "        if (pass_mouse_events)\n",
       "            return fig.mouse_event(event, event['data']);\n",
       "    }\n",
       "\n",
       "    rubberband.mousedown('button_press', mouse_event_fn);\n",
       "    rubberband.mouseup('button_release', mouse_event_fn);\n",
       "    // Throttle sequential mouse events to 1 every 20ms.\n",
       "    rubberband.mousemove('motion_notify', mouse_event_fn);\n",
       "\n",
       "    rubberband.mouseenter('figure_enter', mouse_event_fn);\n",
       "    rubberband.mouseleave('figure_leave', mouse_event_fn);\n",
       "\n",
       "    canvas_div.on(\"wheel\", function (event) {\n",
       "        event = event.originalEvent;\n",
       "        event['data'] = 'scroll'\n",
       "        if (event.deltaY < 0) {\n",
       "            event.step = 1;\n",
       "        } else {\n",
       "            event.step = -1;\n",
       "        }\n",
       "        mouse_event_fn(event);\n",
       "    });\n",
       "\n",
       "    canvas_div.append(canvas);\n",
       "    canvas_div.append(rubberband);\n",
       "\n",
       "    this.rubberband = rubberband;\n",
       "    this.rubberband_canvas = rubberband[0];\n",
       "    this.rubberband_context = rubberband[0].getContext(\"2d\");\n",
       "    this.rubberband_context.strokeStyle = \"#000000\";\n",
       "\n",
       "    this._resize_canvas = function(width, height) {\n",
       "        // Keep the size of the canvas, canvas container, and rubber band\n",
       "        // canvas in synch.\n",
       "        canvas_div.css('width', width)\n",
       "        canvas_div.css('height', height)\n",
       "\n",
       "        canvas.attr('width', width * mpl.ratio);\n",
       "        canvas.attr('height', height * mpl.ratio);\n",
       "        canvas.attr('style', 'width: ' + width + 'px; height: ' + height + 'px;');\n",
       "\n",
       "        rubberband.attr('width', width);\n",
       "        rubberband.attr('height', height);\n",
       "    }\n",
       "\n",
       "    // Set the figure to an initial 600x600px, this will subsequently be updated\n",
       "    // upon first draw.\n",
       "    this._resize_canvas(600, 600);\n",
       "\n",
       "    // Disable right mouse context menu.\n",
       "    $(this.rubberband_canvas).bind(\"contextmenu\",function(e){\n",
       "        return false;\n",
       "    });\n",
       "\n",
       "    function set_focus () {\n",
       "        canvas.focus();\n",
       "        canvas_div.focus();\n",
       "    }\n",
       "\n",
       "    window.setTimeout(set_focus, 100);\n",
       "}\n",
       "\n",
       "mpl.figure.prototype._init_toolbar = function() {\n",
       "    var fig = this;\n",
       "\n",
       "    var nav_element = $('<div/>');\n",
       "    nav_element.attr('style', 'width: 100%');\n",
       "    this.root.append(nav_element);\n",
       "\n",
       "    // Define a callback function for later on.\n",
       "    function toolbar_event(event) {\n",
       "        return fig.toolbar_button_onclick(event['data']);\n",
       "    }\n",
       "    function toolbar_mouse_event(event) {\n",
       "        return fig.toolbar_button_onmouseover(event['data']);\n",
       "    }\n",
       "\n",
       "    for(var toolbar_ind in mpl.toolbar_items) {\n",
       "        var name = mpl.toolbar_items[toolbar_ind][0];\n",
       "        var tooltip = mpl.toolbar_items[toolbar_ind][1];\n",
       "        var image = mpl.toolbar_items[toolbar_ind][2];\n",
       "        var method_name = mpl.toolbar_items[toolbar_ind][3];\n",
       "\n",
       "        if (!name) {\n",
       "            // put a spacer in here.\n",
       "            continue;\n",
       "        }\n",
       "        var button = $('<button/>');\n",
       "        button.addClass('ui-button ui-widget ui-state-default ui-corner-all ' +\n",
       "                        'ui-button-icon-only');\n",
       "        button.attr('role', 'button');\n",
       "        button.attr('aria-disabled', 'false');\n",
       "        button.click(method_name, toolbar_event);\n",
       "        button.mouseover(tooltip, toolbar_mouse_event);\n",
       "\n",
       "        var icon_img = $('<span/>');\n",
       "        icon_img.addClass('ui-button-icon-primary ui-icon');\n",
       "        icon_img.addClass(image);\n",
       "        icon_img.addClass('ui-corner-all');\n",
       "\n",
       "        var tooltip_span = $('<span/>');\n",
       "        tooltip_span.addClass('ui-button-text');\n",
       "        tooltip_span.html(tooltip);\n",
       "\n",
       "        button.append(icon_img);\n",
       "        button.append(tooltip_span);\n",
       "\n",
       "        nav_element.append(button);\n",
       "    }\n",
       "\n",
       "    var fmt_picker_span = $('<span/>');\n",
       "\n",
       "    var fmt_picker = $('<select/>');\n",
       "    fmt_picker.addClass('mpl-toolbar-option ui-widget ui-widget-content');\n",
       "    fmt_picker_span.append(fmt_picker);\n",
       "    nav_element.append(fmt_picker_span);\n",
       "    this.format_dropdown = fmt_picker[0];\n",
       "\n",
       "    for (var ind in mpl.extensions) {\n",
       "        var fmt = mpl.extensions[ind];\n",
       "        var option = $(\n",
       "            '<option/>', {selected: fmt === mpl.default_extension}).html(fmt);\n",
       "        fmt_picker.append(option);\n",
       "    }\n",
       "\n",
       "    // Add hover states to the ui-buttons\n",
       "    $( \".ui-button\" ).hover(\n",
       "        function() { $(this).addClass(\"ui-state-hover\");},\n",
       "        function() { $(this).removeClass(\"ui-state-hover\");}\n",
       "    );\n",
       "\n",
       "    var status_bar = $('<span class=\"mpl-message\"/>');\n",
       "    nav_element.append(status_bar);\n",
       "    this.message = status_bar[0];\n",
       "}\n",
       "\n",
       "mpl.figure.prototype.request_resize = function(x_pixels, y_pixels) {\n",
       "    // Request matplotlib to resize the figure. Matplotlib will then trigger a resize in the client,\n",
       "    // which will in turn request a refresh of the image.\n",
       "    this.send_message('resize', {'width': x_pixels, 'height': y_pixels});\n",
       "}\n",
       "\n",
       "mpl.figure.prototype.send_message = function(type, properties) {\n",
       "    properties['type'] = type;\n",
       "    properties['figure_id'] = this.id;\n",
       "    this.ws.send(JSON.stringify(properties));\n",
       "}\n",
       "\n",
       "mpl.figure.prototype.send_draw_message = function() {\n",
       "    if (!this.waiting) {\n",
       "        this.waiting = true;\n",
       "        this.ws.send(JSON.stringify({type: \"draw\", figure_id: this.id}));\n",
       "    }\n",
       "}\n",
       "\n",
       "\n",
       "mpl.figure.prototype.handle_save = function(fig, msg) {\n",
       "    var format_dropdown = fig.format_dropdown;\n",
       "    var format = format_dropdown.options[format_dropdown.selectedIndex].value;\n",
       "    fig.ondownload(fig, format);\n",
       "}\n",
       "\n",
       "\n",
       "mpl.figure.prototype.handle_resize = function(fig, msg) {\n",
       "    var size = msg['size'];\n",
       "    if (size[0] != fig.canvas.width || size[1] != fig.canvas.height) {\n",
       "        fig._resize_canvas(size[0], size[1]);\n",
       "        fig.send_message(\"refresh\", {});\n",
       "    };\n",
       "}\n",
       "\n",
       "mpl.figure.prototype.handle_rubberband = function(fig, msg) {\n",
       "    var x0 = msg['x0'] / mpl.ratio;\n",
       "    var y0 = (fig.canvas.height - msg['y0']) / mpl.ratio;\n",
       "    var x1 = msg['x1'] / mpl.ratio;\n",
       "    var y1 = (fig.canvas.height - msg['y1']) / mpl.ratio;\n",
       "    x0 = Math.floor(x0) + 0.5;\n",
       "    y0 = Math.floor(y0) + 0.5;\n",
       "    x1 = Math.floor(x1) + 0.5;\n",
       "    y1 = Math.floor(y1) + 0.5;\n",
       "    var min_x = Math.min(x0, x1);\n",
       "    var min_y = Math.min(y0, y1);\n",
       "    var width = Math.abs(x1 - x0);\n",
       "    var height = Math.abs(y1 - y0);\n",
       "\n",
       "    fig.rubberband_context.clearRect(\n",
       "        0, 0, fig.canvas.width / mpl.ratio, fig.canvas.height / mpl.ratio);\n",
       "\n",
       "    fig.rubberband_context.strokeRect(min_x, min_y, width, height);\n",
       "}\n",
       "\n",
       "mpl.figure.prototype.handle_figure_label = function(fig, msg) {\n",
       "    // Updates the figure title.\n",
       "    fig.header.textContent = msg['label'];\n",
       "}\n",
       "\n",
       "mpl.figure.prototype.handle_cursor = function(fig, msg) {\n",
       "    var cursor = msg['cursor'];\n",
       "    switch(cursor)\n",
       "    {\n",
       "    case 0:\n",
       "        cursor = 'pointer';\n",
       "        break;\n",
       "    case 1:\n",
       "        cursor = 'default';\n",
       "        break;\n",
       "    case 2:\n",
       "        cursor = 'crosshair';\n",
       "        break;\n",
       "    case 3:\n",
       "        cursor = 'move';\n",
       "        break;\n",
       "    }\n",
       "    fig.rubberband_canvas.style.cursor = cursor;\n",
       "}\n",
       "\n",
       "mpl.figure.prototype.handle_message = function(fig, msg) {\n",
       "    fig.message.textContent = msg['message'];\n",
       "}\n",
       "\n",
       "mpl.figure.prototype.handle_draw = function(fig, msg) {\n",
       "    // Request the server to send over a new figure.\n",
       "    fig.send_draw_message();\n",
       "}\n",
       "\n",
       "mpl.figure.prototype.handle_image_mode = function(fig, msg) {\n",
       "    fig.image_mode = msg['mode'];\n",
       "}\n",
       "\n",
       "mpl.figure.prototype.updated_canvas_event = function() {\n",
       "    // Called whenever the canvas gets updated.\n",
       "    this.send_message(\"ack\", {});\n",
       "}\n",
       "\n",
       "// A function to construct a web socket function for onmessage handling.\n",
       "// Called in the figure constructor.\n",
       "mpl.figure.prototype._make_on_message_function = function(fig) {\n",
       "    return function socket_on_message(evt) {\n",
       "        if (evt.data instanceof Blob) {\n",
       "            /* FIXME: We get \"Resource interpreted as Image but\n",
       "             * transferred with MIME type text/plain:\" errors on\n",
       "             * Chrome.  But how to set the MIME type?  It doesn't seem\n",
       "             * to be part of the websocket stream */\n",
       "            evt.data.type = \"image/png\";\n",
       "\n",
       "            /* Free the memory for the previous frames */\n",
       "            if (fig.imageObj.src) {\n",
       "                (window.URL || window.webkitURL).revokeObjectURL(\n",
       "                    fig.imageObj.src);\n",
       "            }\n",
       "\n",
       "            fig.imageObj.src = (window.URL || window.webkitURL).createObjectURL(\n",
       "                evt.data);\n",
       "            fig.updated_canvas_event();\n",
       "            fig.waiting = false;\n",
       "            return;\n",
       "        }\n",
       "        else if (typeof evt.data === 'string' && evt.data.slice(0, 21) == \"data:image/png;base64\") {\n",
       "            fig.imageObj.src = evt.data;\n",
       "            fig.updated_canvas_event();\n",
       "            fig.waiting = false;\n",
       "            return;\n",
       "        }\n",
       "\n",
       "        var msg = JSON.parse(evt.data);\n",
       "        var msg_type = msg['type'];\n",
       "\n",
       "        // Call the  \"handle_{type}\" callback, which takes\n",
       "        // the figure and JSON message as its only arguments.\n",
       "        try {\n",
       "            var callback = fig[\"handle_\" + msg_type];\n",
       "        } catch (e) {\n",
       "            console.log(\"No handler for the '\" + msg_type + \"' message type: \", msg);\n",
       "            return;\n",
       "        }\n",
       "\n",
       "        if (callback) {\n",
       "            try {\n",
       "                // console.log(\"Handling '\" + msg_type + \"' message: \", msg);\n",
       "                callback(fig, msg);\n",
       "            } catch (e) {\n",
       "                console.log(\"Exception inside the 'handler_\" + msg_type + \"' callback:\", e, e.stack, msg);\n",
       "            }\n",
       "        }\n",
       "    };\n",
       "}\n",
       "\n",
       "// from http://stackoverflow.com/questions/1114465/getting-mouse-location-in-canvas\n",
       "mpl.findpos = function(e) {\n",
       "    //this section is from http://www.quirksmode.org/js/events_properties.html\n",
       "    var targ;\n",
       "    if (!e)\n",
       "        e = window.event;\n",
       "    if (e.target)\n",
       "        targ = e.target;\n",
       "    else if (e.srcElement)\n",
       "        targ = e.srcElement;\n",
       "    if (targ.nodeType == 3) // defeat Safari bug\n",
       "        targ = targ.parentNode;\n",
       "\n",
       "    // jQuery normalizes the pageX and pageY\n",
       "    // pageX,Y are the mouse positions relative to the document\n",
       "    // offset() returns the position of the element relative to the document\n",
       "    var x = e.pageX - $(targ).offset().left;\n",
       "    var y = e.pageY - $(targ).offset().top;\n",
       "\n",
       "    return {\"x\": x, \"y\": y};\n",
       "};\n",
       "\n",
       "/*\n",
       " * return a copy of an object with only non-object keys\n",
       " * we need this to avoid circular references\n",
       " * http://stackoverflow.com/a/24161582/3208463\n",
       " */\n",
       "function simpleKeys (original) {\n",
       "  return Object.keys(original).reduce(function (obj, key) {\n",
       "    if (typeof original[key] !== 'object')\n",
       "        obj[key] = original[key]\n",
       "    return obj;\n",
       "  }, {});\n",
       "}\n",
       "\n",
       "mpl.figure.prototype.mouse_event = function(event, name) {\n",
       "    var canvas_pos = mpl.findpos(event)\n",
       "\n",
       "    if (name === 'button_press')\n",
       "    {\n",
       "        this.canvas.focus();\n",
       "        this.canvas_div.focus();\n",
       "    }\n",
       "\n",
       "    var x = canvas_pos.x * mpl.ratio;\n",
       "    var y = canvas_pos.y * mpl.ratio;\n",
       "\n",
       "    this.send_message(name, {x: x, y: y, button: event.button,\n",
       "                             step: event.step,\n",
       "                             guiEvent: simpleKeys(event)});\n",
       "\n",
       "    /* This prevents the web browser from automatically changing to\n",
       "     * the text insertion cursor when the button is pressed.  We want\n",
       "     * to control all of the cursor setting manually through the\n",
       "     * 'cursor' event from matplotlib */\n",
       "    event.preventDefault();\n",
       "    return false;\n",
       "}\n",
       "\n",
       "mpl.figure.prototype._key_event_extra = function(event, name) {\n",
       "    // Handle any extra behaviour associated with a key event\n",
       "}\n",
       "\n",
       "mpl.figure.prototype.key_event = function(event, name) {\n",
       "\n",
       "    // Prevent repeat events\n",
       "    if (name == 'key_press')\n",
       "    {\n",
       "        if (event.which === this._key)\n",
       "            return;\n",
       "        else\n",
       "            this._key = event.which;\n",
       "    }\n",
       "    if (name == 'key_release')\n",
       "        this._key = null;\n",
       "\n",
       "    var value = '';\n",
       "    if (event.ctrlKey && event.which != 17)\n",
       "        value += \"ctrl+\";\n",
       "    if (event.altKey && event.which != 18)\n",
       "        value += \"alt+\";\n",
       "    if (event.shiftKey && event.which != 16)\n",
       "        value += \"shift+\";\n",
       "\n",
       "    value += 'k';\n",
       "    value += event.which.toString();\n",
       "\n",
       "    this._key_event_extra(event, name);\n",
       "\n",
       "    this.send_message(name, {key: value,\n",
       "                             guiEvent: simpleKeys(event)});\n",
       "    return false;\n",
       "}\n",
       "\n",
       "mpl.figure.prototype.toolbar_button_onclick = function(name) {\n",
       "    if (name == 'download') {\n",
       "        this.handle_save(this, null);\n",
       "    } else {\n",
       "        this.send_message(\"toolbar_button\", {name: name});\n",
       "    }\n",
       "};\n",
       "\n",
       "mpl.figure.prototype.toolbar_button_onmouseover = function(tooltip) {\n",
       "    this.message.textContent = tooltip;\n",
       "};\n",
       "mpl.toolbar_items = [[\"Home\", \"Reset original view\", \"fa fa-home icon-home\", \"home\"], [\"Back\", \"Back to previous view\", \"fa fa-arrow-left icon-arrow-left\", \"back\"], [\"Forward\", \"Forward to next view\", \"fa fa-arrow-right icon-arrow-right\", \"forward\"], [\"\", \"\", \"\", \"\"], [\"Pan\", \"Pan axes with left mouse, zoom with right\", \"fa fa-arrows icon-move\", \"pan\"], [\"Zoom\", \"Zoom to rectangle\", \"fa fa-square-o icon-check-empty\", \"zoom\"], [\"\", \"\", \"\", \"\"], [\"Download\", \"Download plot\", \"fa fa-floppy-o icon-save\", \"download\"]];\n",
       "\n",
       "mpl.extensions = [\"eps\", \"jpeg\", \"pdf\", \"png\", \"ps\", \"raw\", \"svg\", \"tif\"];\n",
       "\n",
       "mpl.default_extension = \"png\";var comm_websocket_adapter = function(comm) {\n",
       "    // Create a \"websocket\"-like object which calls the given IPython comm\n",
       "    // object with the appropriate methods. Currently this is a non binary\n",
       "    // socket, so there is still some room for performance tuning.\n",
       "    var ws = {};\n",
       "\n",
       "    ws.close = function() {\n",
       "        comm.close()\n",
       "    };\n",
       "    ws.send = function(m) {\n",
       "        //console.log('sending', m);\n",
       "        comm.send(m);\n",
       "    };\n",
       "    // Register the callback with on_msg.\n",
       "    comm.on_msg(function(msg) {\n",
       "        //console.log('receiving', msg['content']['data'], msg);\n",
       "        // Pass the mpl event to the overridden (by mpl) onmessage function.\n",
       "        ws.onmessage(msg['content']['data'])\n",
       "    });\n",
       "    return ws;\n",
       "}\n",
       "\n",
       "mpl.mpl_figure_comm = function(comm, msg) {\n",
       "    // This is the function which gets called when the mpl process\n",
       "    // starts-up an IPython Comm through the \"matplotlib\" channel.\n",
       "\n",
       "    var id = msg.content.data.id;\n",
       "    // Get hold of the div created by the display call when the Comm\n",
       "    // socket was opened in Python.\n",
       "    var element = $(\"#\" + id);\n",
       "    var ws_proxy = comm_websocket_adapter(comm)\n",
       "\n",
       "    function ondownload(figure, format) {\n",
       "        window.open(figure.imageObj.src);\n",
       "    }\n",
       "\n",
       "    var fig = new mpl.figure(id, ws_proxy,\n",
       "                           ondownload,\n",
       "                           element.get(0));\n",
       "\n",
       "    // Call onopen now - mpl needs it, as it is assuming we've passed it a real\n",
       "    // web socket which is closed, not our websocket->open comm proxy.\n",
       "    ws_proxy.onopen();\n",
       "\n",
       "    fig.parent_element = element.get(0);\n",
       "    fig.cell_info = mpl.find_output_cell(\"<div id='\" + id + \"'></div>\");\n",
       "    if (!fig.cell_info) {\n",
       "        console.error(\"Failed to find cell for figure\", id, fig);\n",
       "        return;\n",
       "    }\n",
       "\n",
       "    var output_index = fig.cell_info[2]\n",
       "    var cell = fig.cell_info[0];\n",
       "\n",
       "};\n",
       "\n",
       "mpl.figure.prototype.handle_close = function(fig, msg) {\n",
       "    var width = fig.canvas.width/mpl.ratio\n",
       "    fig.root.unbind('remove')\n",
       "\n",
       "    // Update the output cell to use the data from the current canvas.\n",
       "    fig.push_to_output();\n",
       "    var dataURL = fig.canvas.toDataURL();\n",
       "    // Re-enable the keyboard manager in IPython - without this line, in FF,\n",
       "    // the notebook keyboard shortcuts fail.\n",
       "    IPython.keyboard_manager.enable()\n",
       "    $(fig.parent_element).html('<img src=\"' + dataURL + '\" width=\"' + width + '\">');\n",
       "    fig.close_ws(fig, msg);\n",
       "}\n",
       "\n",
       "mpl.figure.prototype.close_ws = function(fig, msg){\n",
       "    fig.send_message('closing', msg);\n",
       "    // fig.ws.close()\n",
       "}\n",
       "\n",
       "mpl.figure.prototype.push_to_output = function(remove_interactive) {\n",
       "    // Turn the data on the canvas into data in the output cell.\n",
       "    var width = this.canvas.width/mpl.ratio\n",
       "    var dataURL = this.canvas.toDataURL();\n",
       "    this.cell_info[1]['text/html'] = '<img src=\"' + dataURL + '\" width=\"' + width + '\">';\n",
       "}\n",
       "\n",
       "mpl.figure.prototype.updated_canvas_event = function() {\n",
       "    // Tell IPython that the notebook contents must change.\n",
       "    IPython.notebook.set_dirty(true);\n",
       "    this.send_message(\"ack\", {});\n",
       "    var fig = this;\n",
       "    // Wait a second, then push the new image to the DOM so\n",
       "    // that it is saved nicely (might be nice to debounce this).\n",
       "    setTimeout(function () { fig.push_to_output() }, 1000);\n",
       "}\n",
       "\n",
       "mpl.figure.prototype._init_toolbar = function() {\n",
       "    var fig = this;\n",
       "\n",
       "    var nav_element = $('<div/>');\n",
       "    nav_element.attr('style', 'width: 100%');\n",
       "    this.root.append(nav_element);\n",
       "\n",
       "    // Define a callback function for later on.\n",
       "    function toolbar_event(event) {\n",
       "        return fig.toolbar_button_onclick(event['data']);\n",
       "    }\n",
       "    function toolbar_mouse_event(event) {\n",
       "        return fig.toolbar_button_onmouseover(event['data']);\n",
       "    }\n",
       "\n",
       "    for(var toolbar_ind in mpl.toolbar_items){\n",
       "        var name = mpl.toolbar_items[toolbar_ind][0];\n",
       "        var tooltip = mpl.toolbar_items[toolbar_ind][1];\n",
       "        var image = mpl.toolbar_items[toolbar_ind][2];\n",
       "        var method_name = mpl.toolbar_items[toolbar_ind][3];\n",
       "\n",
       "        if (!name) { continue; };\n",
       "\n",
       "        var button = $('<button class=\"btn btn-default\" href=\"#\" title=\"' + name + '\"><i class=\"fa ' + image + ' fa-lg\"></i></button>');\n",
       "        button.click(method_name, toolbar_event);\n",
       "        button.mouseover(tooltip, toolbar_mouse_event);\n",
       "        nav_element.append(button);\n",
       "    }\n",
       "\n",
       "    // Add the status bar.\n",
       "    var status_bar = $('<span class=\"mpl-message\" style=\"text-align:right; float: right;\"/>');\n",
       "    nav_element.append(status_bar);\n",
       "    this.message = status_bar[0];\n",
       "\n",
       "    // Add the close button to the window.\n",
       "    var buttongrp = $('<div class=\"btn-group inline pull-right\"></div>');\n",
       "    var button = $('<button class=\"btn btn-mini btn-primary\" href=\"#\" title=\"Stop Interaction\"><i class=\"fa fa-power-off icon-remove icon-large\"></i></button>');\n",
       "    button.click(function (evt) { fig.handle_close(fig, {}); } );\n",
       "    button.mouseover('Stop Interaction', toolbar_mouse_event);\n",
       "    buttongrp.append(button);\n",
       "    var titlebar = this.root.find($('.ui-dialog-titlebar'));\n",
       "    titlebar.prepend(buttongrp);\n",
       "}\n",
       "\n",
       "mpl.figure.prototype._root_extra_style = function(el){\n",
       "    var fig = this\n",
       "    el.on(\"remove\", function(){\n",
       "\tfig.close_ws(fig, {});\n",
       "    });\n",
       "}\n",
       "\n",
       "mpl.figure.prototype._canvas_extra_style = function(el){\n",
       "    // this is important to make the div 'focusable\n",
       "    el.attr('tabindex', 0)\n",
       "    // reach out to IPython and tell the keyboard manager to turn it's self\n",
       "    // off when our div gets focus\n",
       "\n",
       "    // location in version 3\n",
       "    if (IPython.notebook.keyboard_manager) {\n",
       "        IPython.notebook.keyboard_manager.register_events(el);\n",
       "    }\n",
       "    else {\n",
       "        // location in version 2\n",
       "        IPython.keyboard_manager.register_events(el);\n",
       "    }\n",
       "\n",
       "}\n",
       "\n",
       "mpl.figure.prototype._key_event_extra = function(event, name) {\n",
       "    var manager = IPython.notebook.keyboard_manager;\n",
       "    if (!manager)\n",
       "        manager = IPython.keyboard_manager;\n",
       "\n",
       "    // Check for shift+enter\n",
       "    if (event.shiftKey && event.which == 13) {\n",
       "        this.canvas_div.blur();\n",
       "        // select the cell after this one\n",
       "        var index = IPython.notebook.find_cell_index(this.cell_info[0]);\n",
       "        IPython.notebook.select(index + 1);\n",
       "    }\n",
       "}\n",
       "\n",
       "mpl.figure.prototype.handle_save = function(fig, msg) {\n",
       "    fig.ondownload(fig, null);\n",
       "}\n",
       "\n",
       "\n",
       "mpl.find_output_cell = function(html_output) {\n",
       "    // Return the cell and output element which can be found *uniquely* in the notebook.\n",
       "    // Note - this is a bit hacky, but it is done because the \"notebook_saving.Notebook\"\n",
       "    // IPython event is triggered only after the cells have been serialised, which for\n",
       "    // our purposes (turning an active figure into a static one), is too late.\n",
       "    var cells = IPython.notebook.get_cells();\n",
       "    var ncells = cells.length;\n",
       "    for (var i=0; i<ncells; i++) {\n",
       "        var cell = cells[i];\n",
       "        if (cell.cell_type === 'code'){\n",
       "            for (var j=0; j<cell.output_area.outputs.length; j++) {\n",
       "                var data = cell.output_area.outputs[j];\n",
       "                if (data.data) {\n",
       "                    // IPython >= 3 moved mimebundle to data attribute of output\n",
       "                    data = data.data;\n",
       "                }\n",
       "                if (data['text/html'] == html_output) {\n",
       "                    return [cell, data, j];\n",
       "                }\n",
       "            }\n",
       "        }\n",
       "    }\n",
       "}\n",
       "\n",
       "// Register the function which deals with the matplotlib target/channel.\n",
       "// The kernel may be null if the page has been refreshed.\n",
       "if (IPython.notebook.kernel != null) {\n",
       "    IPython.notebook.kernel.comm_manager.register_target('matplotlib', mpl.mpl_figure_comm);\n",
       "}\n"
      ],
      "text/plain": [
       "<IPython.core.display.Javascript object>"
      ]
     },
     "metadata": {},
     "output_type": "display_data"
    },
    {
     "data": {
      "text/html": [
       "<img src=\"data:image/png;base64,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\" width=\"999.75\">"
      ],
      "text/plain": [
       "<IPython.core.display.HTML object>"
      ]
     },
     "metadata": {},
     "output_type": "display_data"
    }
   ],
   "source": [
    "ax, tax, lax, lines = dual_train_plots()\n",
    "fig = ax.figure\n",
    "plt.tight_layout()"
   ]
  },
  {
   "cell_type": "code",
   "execution_count": 15,
   "metadata": {
    "scrolled": false
   },
   "outputs": [
    {
     "name": "stdout",
     "output_type": "stream",
     "text": [
      "Number of batches: train = 2032, val = 144\n"
     ]
    },
    {
     "data": {
      "application/vnd.jupyter.widget-view+json": {
       "model_id": "abf241568edf4a1f9950c970effeafe9",
       "version_major": 2,
       "version_minor": 0
      },
      "text/plain": [
       "HBox(children=(FloatProgress(value=0.0, description='Epochs', layout=Layout(flex='2'), max=50.0, style=Progres…"
      ]
     },
     "metadata": {},
     "output_type": "display_data"
    },
    {
     "data": {
      "application/vnd.jupyter.widget-view+json": {
       "model_id": "",
       "version_major": 2,
       "version_minor": 0
      },
      "text/plain": [
       "HBox(children=(FloatProgress(value=0.0, description='Training', layout=Layout(flex='2'), max=2032.0, style=Pro…"
      ]
     },
     "metadata": {},
     "output_type": "display_data"
    },
    {
     "name": "stdout",
     "output_type": "stream",
     "text": [
      "x0 =  tensor([[2.0562e-33, 3.3589e-30, 1.6231e-28,  ..., 1.5498e-17, 1.4611e-14,\n",
      "         7.4538e-09],\n",
      "        [7.5554e-21, 2.9710e-23, 4.7560e-27,  ..., 5.8011e-17, 1.6164e-18,\n",
      "         4.2498e-11],\n",
      "        [1.3985e-20, 5.5533e-19, 1.8861e-15,  ..., 2.1064e-15, 2.0252e-15,\n",
      "         1.4246e-17],\n",
      "        ...,\n",
      "        [1.9662e-27, 4.6398e-29, 1.4883e-27,  ..., 2.8439e-12, 8.6544e-15,\n",
      "         2.8287e-16],\n",
      "        [6.4784e-39, 4.1614e-38, 2.0879e-38,  ..., 1.0742e-19, 7.3741e-17,\n",
      "         3.7921e-16],\n",
      "        [1.1717e-28, 3.2235e-32, 1.5291e-35,  ..., 2.1126e-20, 1.5597e-17,\n",
      "         1.6725e-15]], device='cuda:0', grad_fn=<SoftplusBackward>)\n",
      "x1 =  tensor([[ 0.0616,  0.0446,  0.0305,  ..., -0.0374, -0.0123,  0.0115],\n",
      "        [-0.0169, -0.0620, -0.1038,  ..., -0.0592, -0.0271,  0.0051],\n",
      "        [ 0.0948,  0.0932,  0.0919,  ..., -0.0691, -0.0383, -0.0017],\n",
      "        ...,\n",
      "        [ 0.0788,  0.0728,  0.0673,  ..., -0.0095,  0.0088,  0.0236],\n",
      "        [ 0.0147, -0.0199, -0.0550,  ..., -0.0739, -0.0358, -0.0012],\n",
      "        [ 0.0526,  0.0370,  0.0204,  ..., -0.2157, -0.1549, -0.1159]],\n",
      "       device='cuda:0', grad_fn=<ViewBackward>)\n",
      "neuronValues =  tensor([[1.2669e-34, 1.4984e-31, 4.9584e-30,  ..., -0.0000e+00, -0.0000e+00,\n",
      "         8.5888e-11],\n",
      "        [-0.0000e+00, -0.0000e+00, -0.0000e+00,  ..., -0.0000e+00, -0.0000e+00,\n",
      "         2.1648e-13],\n",
      "        [1.3260e-21, 5.1734e-20, 1.7327e-16,  ..., -0.0000e+00, -0.0000e+00,\n",
      "         -0.0000e+00],\n",
      "        ...,\n",
      "        [1.5495e-28, 3.3776e-30, 1.0023e-28,  ..., -0.0000e+00, 7.6509e-17,\n",
      "         6.6699e-18],\n",
      "        [9.5067e-41, -0.0000e+00, -0.0000e+00,  ..., -0.0000e+00, -0.0000e+00,\n",
      "         -0.0000e+00],\n",
      "        [6.1683e-30, 1.1912e-33, 3.1160e-37,  ..., -0.0000e+00, -0.0000e+00,\n",
      "         -0.0000e+00]], device='cuda:0', grad_fn=<LeakyReluBackward0>)\n",
      "Epoch 0: train=9.58191, val=8.60792, took 106.24 s\n",
      "  Validation Found 91998 of 93880, added 4618 (eff 98.00%) (0.252 FP/event)\n"
     ]
    },
    {
     "data": {
      "application/vnd.jupyter.widget-view+json": {
       "model_id": "",
       "version_major": 2,
       "version_minor": 0
      },
      "text/plain": [
       "HBox(children=(FloatProgress(value=0.0, description='Training', layout=Layout(flex='2'), max=2032.0, style=Pro…"
      ]
     },
     "metadata": {},
     "output_type": "display_data"
    },
    {
     "name": "stdout",
     "output_type": "stream",
     "text": [
      "Epoch 1: train=9.52289, val=8.60366, took 97.255 s\n",
      "  Validation Found 91988 of 93880, added 4671 (eff 97.98%) (0.255 FP/event)\n"
     ]
    },
    {
     "data": {
      "application/vnd.jupyter.widget-view+json": {
       "model_id": "",
       "version_major": 2,
       "version_minor": 0
      },
      "text/plain": [
       "HBox(children=(FloatProgress(value=0.0, description='Training', layout=Layout(flex='2'), max=2032.0, style=Pro…"
      ]
     },
     "metadata": {},
     "output_type": "display_data"
    },
    {
     "name": "stdout",
     "output_type": "stream",
     "text": [
      "Epoch 2: train=9.53385, val=8.60232, took 94.596 s\n",
      "  Validation Found 91987 of 93880, added 4645 (eff 97.98%) (0.253 FP/event)\n"
     ]
    },
    {
     "data": {
      "application/vnd.jupyter.widget-view+json": {
       "model_id": "",
       "version_major": 2,
       "version_minor": 0
      },
      "text/plain": [
       "HBox(children=(FloatProgress(value=0.0, description='Training', layout=Layout(flex='2'), max=2032.0, style=Pro…"
      ]
     },
     "metadata": {},
     "output_type": "display_data"
    },
    {
     "name": "stdout",
     "output_type": "stream",
     "text": [
      "Epoch 3: train=9.53384, val=8.60256, took 94.123 s\n",
      "  Validation Found 91988 of 93880, added 4665 (eff 97.98%) (0.254 FP/event)\n"
     ]
    },
    {
     "data": {
      "application/vnd.jupyter.widget-view+json": {
       "model_id": "",
       "version_major": 2,
       "version_minor": 0
      },
      "text/plain": [
       "HBox(children=(FloatProgress(value=0.0, description='Training', layout=Layout(flex='2'), max=2032.0, style=Pro…"
      ]
     },
     "metadata": {},
     "output_type": "display_data"
    },
    {
     "name": "stdout",
     "output_type": "stream",
     "text": [
      "Epoch 4: train=9.53528, val=8.60095, took 94.823 s\n",
      "  Validation Found 91984 of 93880, added 4629 (eff 97.98%) (0.252 FP/event)\n"
     ]
    },
    {
     "data": {
      "application/vnd.jupyter.widget-view+json": {
       "model_id": "",
       "version_major": 2,
       "version_minor": 0
      },
      "text/plain": [
       "HBox(children=(FloatProgress(value=0.0, description='Training', layout=Layout(flex='2'), max=2032.0, style=Pro…"
      ]
     },
     "metadata": {},
     "output_type": "display_data"
    },
    {
     "name": "stdout",
     "output_type": "stream",
     "text": [
      "Epoch 5: train=9.53013, val=8.59916, took 94.619 s\n",
      "  Validation Found 91982 of 93880, added 4657 (eff 97.98%) (0.254 FP/event)\n"
     ]
    },
    {
     "data": {
      "application/vnd.jupyter.widget-view+json": {
       "model_id": "",
       "version_major": 2,
       "version_minor": 0
      },
      "text/plain": [
       "HBox(children=(FloatProgress(value=0.0, description='Training', layout=Layout(flex='2'), max=2032.0, style=Pro…"
      ]
     },
     "metadata": {},
     "output_type": "display_data"
    },
    {
     "name": "stdout",
     "output_type": "stream",
     "text": [
      "Epoch 6: train=9.53121, val=8.59862, took 95.416 s\n",
      "  Validation Found 91983 of 93880, added 4643 (eff 97.98%) (0.253 FP/event)\n"
     ]
    },
    {
     "data": {
      "application/vnd.jupyter.widget-view+json": {
       "model_id": "",
       "version_major": 2,
       "version_minor": 0
      },
      "text/plain": [
       "HBox(children=(FloatProgress(value=0.0, description='Training', layout=Layout(flex='2'), max=2032.0, style=Pro…"
      ]
     },
     "metadata": {},
     "output_type": "display_data"
    },
    {
     "name": "stdout",
     "output_type": "stream",
     "text": [
      "Epoch 7: train=9.52105, val=8.59318, took 95.352 s\n",
      "  Validation Found 91980 of 93880, added 4649 (eff 97.98%) (0.253 FP/event)\n"
     ]
    },
    {
     "data": {
      "application/vnd.jupyter.widget-view+json": {
       "model_id": "",
       "version_major": 2,
       "version_minor": 0
      },
      "text/plain": [
       "HBox(children=(FloatProgress(value=0.0, description='Training', layout=Layout(flex='2'), max=2032.0, style=Pro…"
      ]
     },
     "metadata": {},
     "output_type": "display_data"
    },
    {
     "name": "stdout",
     "output_type": "stream",
     "text": [
      "Epoch 8: train=9.52743, val=8.59041, took 95.09 s\n",
      "  Validation Found 91979 of 93880, added 4672 (eff 97.98%) (0.255 FP/event)\n"
     ]
    },
    {
     "data": {
      "application/vnd.jupyter.widget-view+json": {
       "model_id": "",
       "version_major": 2,
       "version_minor": 0
      },
      "text/plain": [
       "HBox(children=(FloatProgress(value=0.0, description='Training', layout=Layout(flex='2'), max=2032.0, style=Pro…"
      ]
     },
     "metadata": {},
     "output_type": "display_data"
    },
    {
     "name": "stdout",
     "output_type": "stream",
     "text": [
      "Epoch 9: train=9.52772, val=8.58677, took 95.186 s\n",
      "  Validation Found 91982 of 93880, added 4674 (eff 97.98%) (0.255 FP/event)\n"
     ]
    },
    {
     "data": {
      "application/vnd.jupyter.widget-view+json": {
       "model_id": "",
       "version_major": 2,
       "version_minor": 0
      },
      "text/plain": [
       "HBox(children=(FloatProgress(value=0.0, description='Training', layout=Layout(flex='2'), max=2032.0, style=Pro…"
      ]
     },
     "metadata": {},
     "output_type": "display_data"
    },
    {
     "name": "stdout",
     "output_type": "stream",
     "text": [
      "Epoch 10: train=9.52766, val=8.58622, took 94.65 s\n",
      "  Validation Found 91981 of 93880, added 4718 (eff 97.98%) (0.257 FP/event)\n"
     ]
    },
    {
     "data": {
      "application/vnd.jupyter.widget-view+json": {
       "model_id": "",
       "version_major": 2,
       "version_minor": 0
      },
      "text/plain": [
       "HBox(children=(FloatProgress(value=0.0, description='Training', layout=Layout(flex='2'), max=2032.0, style=Pro…"
      ]
     },
     "metadata": {},
     "output_type": "display_data"
    },
    {
     "name": "stdout",
     "output_type": "stream",
     "text": [
      "Epoch 11: train=9.51078, val=8.59257, took 94.88 s\n",
      "  Validation Found 91982 of 93880, added 4636 (eff 97.98%) (0.253 FP/event)\n"
     ]
    },
    {
     "data": {
      "application/vnd.jupyter.widget-view+json": {
       "model_id": "",
       "version_major": 2,
       "version_minor": 0
      },
      "text/plain": [
       "HBox(children=(FloatProgress(value=0.0, description='Training', layout=Layout(flex='2'), max=2032.0, style=Pro…"
      ]
     },
     "metadata": {},
     "output_type": "display_data"
    },
    {
     "name": "stdout",
     "output_type": "stream",
     "text": [
      "Epoch 12: train=9.51926, val=8.58512, took 95.379 s\n",
      "  Validation Found 91978 of 93880, added 4686 (eff 97.97%) (0.255 FP/event)\n"
     ]
    },
    {
     "data": {
      "application/vnd.jupyter.widget-view+json": {
       "model_id": "",
       "version_major": 2,
       "version_minor": 0
      },
      "text/plain": [
       "HBox(children=(FloatProgress(value=0.0, description='Training', layout=Layout(flex='2'), max=2032.0, style=Pro…"
      ]
     },
     "metadata": {},
     "output_type": "display_data"
    },
    {
     "name": "stdout",
     "output_type": "stream",
     "text": [
      "Epoch 13: train=9.5184, val=8.58593, took 94.901 s\n",
      "  Validation Found 91975 of 93880, added 4645 (eff 97.97%) (0.253 FP/event)\n"
     ]
    },
    {
     "data": {
      "application/vnd.jupyter.widget-view+json": {
       "model_id": "",
       "version_major": 2,
       "version_minor": 0
      },
      "text/plain": [
       "HBox(children=(FloatProgress(value=0.0, description='Training', layout=Layout(flex='2'), max=2032.0, style=Pro…"
      ]
     },
     "metadata": {},
     "output_type": "display_data"
    },
    {
     "name": "stdout",
     "output_type": "stream",
     "text": [
      "Epoch 14: train=9.52029, val=8.58817, took 95.211 s\n",
      "  Validation Found 91973 of 93880, added 4648 (eff 97.97%) (0.253 FP/event)\n"
     ]
    },
    {
     "data": {
      "application/vnd.jupyter.widget-view+json": {
       "model_id": "",
       "version_major": 2,
       "version_minor": 0
      },
      "text/plain": [
       "HBox(children=(FloatProgress(value=0.0, description='Training', layout=Layout(flex='2'), max=2032.0, style=Pro…"
      ]
     },
     "metadata": {},
     "output_type": "display_data"
    },
    {
     "name": "stdout",
     "output_type": "stream",
     "text": [
      "Epoch 15: train=9.51996, val=8.58772, took 95.081 s\n",
      "  Validation Found 91978 of 93880, added 4645 (eff 97.97%) (0.253 FP/event)\n"
     ]
    },
    {
     "data": {
      "application/vnd.jupyter.widget-view+json": {
       "model_id": "",
       "version_major": 2,
       "version_minor": 0
      },
      "text/plain": [
       "HBox(children=(FloatProgress(value=0.0, description='Training', layout=Layout(flex='2'), max=2032.0, style=Pro…"
      ]
     },
     "metadata": {},
     "output_type": "display_data"
    },
    {
     "name": "stdout",
     "output_type": "stream",
     "text": [
      "Epoch 16: train=9.51396, val=8.58577, took 95.152 s\n",
      "  Validation Found 91976 of 93880, added 4660 (eff 97.97%) (0.254 FP/event)\n"
     ]
    },
    {
     "data": {
      "application/vnd.jupyter.widget-view+json": {
       "model_id": "",
       "version_major": 2,
       "version_minor": 0
      },
      "text/plain": [
       "HBox(children=(FloatProgress(value=0.0, description='Training', layout=Layout(flex='2'), max=2032.0, style=Pro…"
      ]
     },
     "metadata": {},
     "output_type": "display_data"
    },
    {
     "name": "stdout",
     "output_type": "stream",
     "text": [
      "Epoch 17: train=9.51522, val=8.58809, took 95.728 s\n",
      "  Validation Found 91977 of 93880, added 4625 (eff 97.97%) (0.252 FP/event)\n"
     ]
    },
    {
     "data": {
      "application/vnd.jupyter.widget-view+json": {
       "model_id": "",
       "version_major": 2,
       "version_minor": 0
      },
      "text/plain": [
       "HBox(children=(FloatProgress(value=0.0, description='Training', layout=Layout(flex='2'), max=2032.0, style=Pro…"
      ]
     },
     "metadata": {},
     "output_type": "display_data"
    },
    {
     "name": "stdout",
     "output_type": "stream",
     "text": [
      "Epoch 18: train=9.52539, val=8.57812, took 95.211 s\n",
      "  Validation Found 91976 of 93880, added 4744 (eff 97.97%) (0.259 FP/event)\n"
     ]
    },
    {
     "data": {
      "application/vnd.jupyter.widget-view+json": {
       "model_id": "",
       "version_major": 2,
       "version_minor": 0
      },
      "text/plain": [
       "HBox(children=(FloatProgress(value=0.0, description='Training', layout=Layout(flex='2'), max=2032.0, style=Pro…"
      ]
     },
     "metadata": {},
     "output_type": "display_data"
    },
    {
     "name": "stdout",
     "output_type": "stream",
     "text": [
      "Epoch 19: train=9.51387, val=8.58437, took 95.044 s\n",
      "  Validation Found 91972 of 93880, added 4661 (eff 97.97%) (0.254 FP/event)\n"
     ]
    },
    {
     "data": {
      "application/vnd.jupyter.widget-view+json": {
       "model_id": "",
       "version_major": 2,
       "version_minor": 0
      },
      "text/plain": [
       "HBox(children=(FloatProgress(value=0.0, description='Training', layout=Layout(flex='2'), max=2032.0, style=Pro…"
      ]
     },
     "metadata": {},
     "output_type": "display_data"
    },
    {
     "name": "stdout",
     "output_type": "stream",
     "text": [
      "Epoch 20: train=9.51812, val=8.58346, took 95.235 s\n",
      "  Validation Found 91971 of 93880, added 4629 (eff 97.97%) (0.252 FP/event)\n"
     ]
    },
    {
     "data": {
      "application/vnd.jupyter.widget-view+json": {
       "model_id": "",
       "version_major": 2,
       "version_minor": 0
      },
      "text/plain": [
       "HBox(children=(FloatProgress(value=0.0, description='Training', layout=Layout(flex='2'), max=2032.0, style=Pro…"
      ]
     },
     "metadata": {},
     "output_type": "display_data"
    },
    {
     "name": "stdout",
     "output_type": "stream",
     "text": [
      "Epoch 21: train=9.51339, val=8.58219, took 95.064 s\n",
      "  Validation Found 91970 of 93880, added 4670 (eff 97.97%) (0.254 FP/event)\n"
     ]
    },
    {
     "data": {
      "application/vnd.jupyter.widget-view+json": {
       "model_id": "",
       "version_major": 2,
       "version_minor": 0
      },
      "text/plain": [
       "HBox(children=(FloatProgress(value=0.0, description='Training', layout=Layout(flex='2'), max=2032.0, style=Pro…"
      ]
     },
     "metadata": {},
     "output_type": "display_data"
    },
    {
     "name": "stdout",
     "output_type": "stream",
     "text": [
      "Epoch 22: train=9.51641, val=8.57937, took 95.543 s\n",
      "  Validation Found 91969 of 93880, added 4675 (eff 97.96%) (0.255 FP/event)\n"
     ]
    },
    {
     "data": {
      "application/vnd.jupyter.widget-view+json": {
       "model_id": "",
       "version_major": 2,
       "version_minor": 0
      },
      "text/plain": [
       "HBox(children=(FloatProgress(value=0.0, description='Training', layout=Layout(flex='2'), max=2032.0, style=Pro…"
      ]
     },
     "metadata": {},
     "output_type": "display_data"
    },
    {
     "name": "stdout",
     "output_type": "stream",
     "text": [
      "Epoch 23: train=9.51944, val=8.57966, took 95.252 s\n",
      "  Validation Found 91974 of 93880, added 4668 (eff 97.97%) (0.254 FP/event)\n"
     ]
    },
    {
     "data": {
      "application/vnd.jupyter.widget-view+json": {
       "model_id": "",
       "version_major": 2,
       "version_minor": 0
      },
      "text/plain": [
       "HBox(children=(FloatProgress(value=0.0, description='Training', layout=Layout(flex='2'), max=2032.0, style=Pro…"
      ]
     },
     "metadata": {},
     "output_type": "display_data"
    },
    {
     "name": "stdout",
     "output_type": "stream",
     "text": [
      "Epoch 24: train=9.50698, val=8.57774, took 95.498 s\n",
      "  Validation Found 91967 of 93880, added 4677 (eff 97.96%) (0.255 FP/event)\n"
     ]
    },
    {
     "data": {
      "application/vnd.jupyter.widget-view+json": {
       "model_id": "",
       "version_major": 2,
       "version_minor": 0
      },
      "text/plain": [
       "HBox(children=(FloatProgress(value=0.0, description='Training', layout=Layout(flex='2'), max=2032.0, style=Pro…"
      ]
     },
     "metadata": {},
     "output_type": "display_data"
    },
    {
     "name": "stdout",
     "output_type": "stream",
     "text": [
      "Epoch 25: train=9.51105, val=8.5783, took 95.535 s\n",
      "  Validation Found 91969 of 93880, added 4654 (eff 97.96%) (0.254 FP/event)\n"
     ]
    },
    {
     "data": {
      "application/vnd.jupyter.widget-view+json": {
       "model_id": "",
       "version_major": 2,
       "version_minor": 0
      },
      "text/plain": [
       "HBox(children=(FloatProgress(value=0.0, description='Training', layout=Layout(flex='2'), max=2032.0, style=Pro…"
      ]
     },
     "metadata": {},
     "output_type": "display_data"
    },
    {
     "name": "stdout",
     "output_type": "stream",
     "text": [
      "Epoch 26: train=9.5146, val=8.57652, took 95.118 s\n",
      "  Validation Found 91975 of 93880, added 4700 (eff 97.97%) (0.256 FP/event)\n"
     ]
    },
    {
     "data": {
      "application/vnd.jupyter.widget-view+json": {
       "model_id": "",
       "version_major": 2,
       "version_minor": 0
      },
      "text/plain": [
       "HBox(children=(FloatProgress(value=0.0, description='Training', layout=Layout(flex='2'), max=2032.0, style=Pro…"
      ]
     },
     "metadata": {},
     "output_type": "display_data"
    },
    {
     "name": "stdout",
     "output_type": "stream",
     "text": [
      "Epoch 27: train=9.51289, val=8.5744, took 95.018 s\n",
      "  Validation Found 91977 of 93880, added 4703 (eff 97.97%) (0.256 FP/event)\n"
     ]
    },
    {
     "data": {
      "application/vnd.jupyter.widget-view+json": {
       "model_id": "",
       "version_major": 2,
       "version_minor": 0
      },
      "text/plain": [
       "HBox(children=(FloatProgress(value=0.0, description='Training', layout=Layout(flex='2'), max=2032.0, style=Pro…"
      ]
     },
     "metadata": {},
     "output_type": "display_data"
    },
    {
     "name": "stdout",
     "output_type": "stream",
     "text": [
      "Epoch 28: train=9.51069, val=8.5794, took 95.274 s\n",
      "  Validation Found 91967 of 93880, added 4620 (eff 97.96%) (0.252 FP/event)\n"
     ]
    },
    {
     "data": {
      "application/vnd.jupyter.widget-view+json": {
       "model_id": "",
       "version_major": 2,
       "version_minor": 0
      },
      "text/plain": [
       "HBox(children=(FloatProgress(value=0.0, description='Training', layout=Layout(flex='2'), max=2032.0, style=Pro…"
      ]
     },
     "metadata": {},
     "output_type": "display_data"
    },
    {
     "name": "stdout",
     "output_type": "stream",
     "text": [
      "Epoch 29: train=9.50896, val=8.579, took 95.312 s\n",
      "  Validation Found 91964 of 93880, added 4638 (eff 97.96%) (0.253 FP/event)\n"
     ]
    },
    {
     "data": {
      "application/vnd.jupyter.widget-view+json": {
       "model_id": "",
       "version_major": 2,
       "version_minor": 0
      },
      "text/plain": [
       "HBox(children=(FloatProgress(value=0.0, description='Training', layout=Layout(flex='2'), max=2032.0, style=Pro…"
      ]
     },
     "metadata": {},
     "output_type": "display_data"
    },
    {
     "name": "stdout",
     "output_type": "stream",
     "text": [
      "Epoch 30: train=9.50801, val=8.57812, took 95.143 s\n",
      "  Validation Found 91970 of 93880, added 4646 (eff 97.97%) (0.253 FP/event)\n"
     ]
    },
    {
     "data": {
      "application/vnd.jupyter.widget-view+json": {
       "model_id": "",
       "version_major": 2,
       "version_minor": 0
      },
      "text/plain": [
       "HBox(children=(FloatProgress(value=0.0, description='Training', layout=Layout(flex='2'), max=2032.0, style=Pro…"
      ]
     },
     "metadata": {},
     "output_type": "display_data"
    },
    {
     "name": "stdout",
     "output_type": "stream",
     "text": [
      "Epoch 31: train=9.51003, val=8.57524, took 95.232 s\n",
      "  Validation Found 91971 of 93880, added 4661 (eff 97.97%) (0.254 FP/event)\n"
     ]
    },
    {
     "data": {
      "application/vnd.jupyter.widget-view+json": {
       "model_id": "",
       "version_major": 2,
       "version_minor": 0
      },
      "text/plain": [
       "HBox(children=(FloatProgress(value=0.0, description='Training', layout=Layout(flex='2'), max=2032.0, style=Pro…"
      ]
     },
     "metadata": {},
     "output_type": "display_data"
    },
    {
     "name": "stdout",
     "output_type": "stream",
     "text": [
      "Epoch 32: train=9.50706, val=8.58268, took 96.683 s\n",
      "  Validation Found 91962 of 93880, added 4604 (eff 97.96%) (0.251 FP/event)\n"
     ]
    },
    {
     "data": {
      "application/vnd.jupyter.widget-view+json": {
       "model_id": "",
       "version_major": 2,
       "version_minor": 0
      },
      "text/plain": [
       "HBox(children=(FloatProgress(value=0.0, description='Training', layout=Layout(flex='2'), max=2032.0, style=Pro…"
      ]
     },
     "metadata": {},
     "output_type": "display_data"
    },
    {
     "name": "stdout",
     "output_type": "stream",
     "text": [
      "Epoch 33: train=9.51332, val=8.57612, took 95.431 s\n",
      "  Validation Found 91969 of 93880, added 4656 (eff 97.96%) (0.254 FP/event)\n"
     ]
    },
    {
     "data": {
      "application/vnd.jupyter.widget-view+json": {
       "model_id": "",
       "version_major": 2,
       "version_minor": 0
      },
      "text/plain": [
       "HBox(children=(FloatProgress(value=0.0, description='Training', layout=Layout(flex='2'), max=2032.0, style=Pro…"
      ]
     },
     "metadata": {},
     "output_type": "display_data"
    },
    {
     "name": "stdout",
     "output_type": "stream",
     "text": [
      "Epoch 34: train=9.51349, val=8.57814, took 95.709 s\n",
      "  Validation Found 91968 of 93880, added 4658 (eff 97.96%) (0.254 FP/event)\n"
     ]
    },
    {
     "data": {
      "application/vnd.jupyter.widget-view+json": {
       "model_id": "",
       "version_major": 2,
       "version_minor": 0
      },
      "text/plain": [
       "HBox(children=(FloatProgress(value=0.0, description='Training', layout=Layout(flex='2'), max=2032.0, style=Pro…"
      ]
     },
     "metadata": {},
     "output_type": "display_data"
    },
    {
     "name": "stdout",
     "output_type": "stream",
     "text": [
      "Epoch 35: train=9.50928, val=8.57328, took 95.402 s\n",
      "  Validation Found 91970 of 93880, added 4672 (eff 97.97%) (0.255 FP/event)\n"
     ]
    },
    {
     "data": {
      "application/vnd.jupyter.widget-view+json": {
       "model_id": "",
       "version_major": 2,
       "version_minor": 0
      },
      "text/plain": [
       "HBox(children=(FloatProgress(value=0.0, description='Training', layout=Layout(flex='2'), max=2032.0, style=Pro…"
      ]
     },
     "metadata": {},
     "output_type": "display_data"
    },
    {
     "name": "stdout",
     "output_type": "stream",
     "text": [
      "Epoch 36: train=9.51165, val=8.57252, took 95.83 s\n",
      "  Validation Found 91967 of 93880, added 4670 (eff 97.96%) (0.254 FP/event)\n"
     ]
    },
    {
     "data": {
      "application/vnd.jupyter.widget-view+json": {
       "model_id": "",
       "version_major": 2,
       "version_minor": 0
      },
      "text/plain": [
       "HBox(children=(FloatProgress(value=0.0, description='Training', layout=Layout(flex='2'), max=2032.0, style=Pro…"
      ]
     },
     "metadata": {},
     "output_type": "display_data"
    },
    {
     "name": "stdout",
     "output_type": "stream",
     "text": [
      "Epoch 37: train=9.50703, val=8.57225, took 95.146 s\n",
      "  Validation Found 91972 of 93880, added 4680 (eff 97.97%) (0.255 FP/event)\n"
     ]
    },
    {
     "data": {
      "application/vnd.jupyter.widget-view+json": {
       "model_id": "",
       "version_major": 2,
       "version_minor": 0
      },
      "text/plain": [
       "HBox(children=(FloatProgress(value=0.0, description='Training', layout=Layout(flex='2'), max=2032.0, style=Pro…"
      ]
     },
     "metadata": {},
     "output_type": "display_data"
    },
    {
     "name": "stdout",
     "output_type": "stream",
     "text": [
      "Epoch 38: train=9.49951, val=8.57087, took 94.885 s\n",
      "  Validation Found 91975 of 93880, added 4683 (eff 97.97%) (0.255 FP/event)\n"
     ]
    },
    {
     "data": {
      "application/vnd.jupyter.widget-view+json": {
       "model_id": "",
       "version_major": 2,
       "version_minor": 0
      },
      "text/plain": [
       "HBox(children=(FloatProgress(value=0.0, description='Training', layout=Layout(flex='2'), max=2032.0, style=Pro…"
      ]
     },
     "metadata": {},
     "output_type": "display_data"
    },
    {
     "name": "stdout",
     "output_type": "stream",
     "text": [
      "Epoch 39: train=9.50682, val=8.56806, took 95.413 s\n",
      "  Validation Found 91969 of 93880, added 4688 (eff 97.96%) (0.255 FP/event)\n"
     ]
    },
    {
     "data": {
      "application/vnd.jupyter.widget-view+json": {
       "model_id": "",
       "version_major": 2,
       "version_minor": 0
      },
      "text/plain": [
       "HBox(children=(FloatProgress(value=0.0, description='Training', layout=Layout(flex='2'), max=2032.0, style=Pro…"
      ]
     },
     "metadata": {},
     "output_type": "display_data"
    },
    {
     "name": "stdout",
     "output_type": "stream",
     "text": [
      "Epoch 40: train=9.50037, val=8.57175, took 96.099 s\n",
      "  Validation Found 91970 of 93880, added 4652 (eff 97.97%) (0.254 FP/event)\n"
     ]
    },
    {
     "data": {
      "application/vnd.jupyter.widget-view+json": {
       "model_id": "",
       "version_major": 2,
       "version_minor": 0
      },
      "text/plain": [
       "HBox(children=(FloatProgress(value=0.0, description='Training', layout=Layout(flex='2'), max=2032.0, style=Pro…"
      ]
     },
     "metadata": {},
     "output_type": "display_data"
    },
    {
     "name": "stdout",
     "output_type": "stream",
     "text": [
      "Epoch 41: train=9.50081, val=8.5726, took 95.071 s\n",
      "  Validation Found 91973 of 93880, added 4653 (eff 97.97%) (0.254 FP/event)\n"
     ]
    },
    {
     "data": {
      "application/vnd.jupyter.widget-view+json": {
       "model_id": "",
       "version_major": 2,
       "version_minor": 0
      },
      "text/plain": [
       "HBox(children=(FloatProgress(value=0.0, description='Training', layout=Layout(flex='2'), max=2032.0, style=Pro…"
      ]
     },
     "metadata": {},
     "output_type": "display_data"
    },
    {
     "name": "stdout",
     "output_type": "stream",
     "text": [
      "Epoch 42: train=9.50298, val=8.56741, took 95.063 s\n",
      "  Validation Found 91975 of 93880, added 4689 (eff 97.97%) (0.256 FP/event)\n"
     ]
    },
    {
     "data": {
      "application/vnd.jupyter.widget-view+json": {
       "model_id": "",
       "version_major": 2,
       "version_minor": 0
      },
      "text/plain": [
       "HBox(children=(FloatProgress(value=0.0, description='Training', layout=Layout(flex='2'), max=2032.0, style=Pro…"
      ]
     },
     "metadata": {},
     "output_type": "display_data"
    },
    {
     "name": "stdout",
     "output_type": "stream",
     "text": [
      "Epoch 43: train=9.50375, val=8.57192, took 95.382 s\n",
      "  Validation Found 91969 of 93880, added 4651 (eff 97.96%) (0.253 FP/event)\n"
     ]
    },
    {
     "data": {
      "application/vnd.jupyter.widget-view+json": {
       "model_id": "",
       "version_major": 2,
       "version_minor": 0
      },
      "text/plain": [
       "HBox(children=(FloatProgress(value=0.0, description='Training', layout=Layout(flex='2'), max=2032.0, style=Pro…"
      ]
     },
     "metadata": {},
     "output_type": "display_data"
    },
    {
     "name": "stdout",
     "output_type": "stream",
     "text": [
      "Epoch 44: train=9.50069, val=8.57011, took 95.158 s\n",
      "  Validation Found 91973 of 93880, added 4638 (eff 97.97%) (0.253 FP/event)\n"
     ]
    },
    {
     "data": {
      "application/vnd.jupyter.widget-view+json": {
       "model_id": "",
       "version_major": 2,
       "version_minor": 0
      },
      "text/plain": [
       "HBox(children=(FloatProgress(value=0.0, description='Training', layout=Layout(flex='2'), max=2032.0, style=Pro…"
      ]
     },
     "metadata": {},
     "output_type": "display_data"
    },
    {
     "name": "stdout",
     "output_type": "stream",
     "text": [
      "Epoch 45: train=9.50059, val=8.56869, took 95.473 s\n",
      "  Validation Found 91972 of 93880, added 4643 (eff 97.97%) (0.253 FP/event)\n"
     ]
    },
    {
     "data": {
      "application/vnd.jupyter.widget-view+json": {
       "model_id": "",
       "version_major": 2,
       "version_minor": 0
      },
      "text/plain": [
       "HBox(children=(FloatProgress(value=0.0, description='Training', layout=Layout(flex='2'), max=2032.0, style=Pro…"
      ]
     },
     "metadata": {},
     "output_type": "display_data"
    },
    {
     "name": "stdout",
     "output_type": "stream",
     "text": [
      "Epoch 46: train=9.50445, val=8.56441, took 95.073 s\n",
      "  Validation Found 91974 of 93880, added 4727 (eff 97.97%) (0.258 FP/event)\n"
     ]
    },
    {
     "data": {
      "application/vnd.jupyter.widget-view+json": {
       "model_id": "",
       "version_major": 2,
       "version_minor": 0
      },
      "text/plain": [
       "HBox(children=(FloatProgress(value=0.0, description='Training', layout=Layout(flex='2'), max=2032.0, style=Pro…"
      ]
     },
     "metadata": {},
     "output_type": "display_data"
    },
    {
     "name": "stdout",
     "output_type": "stream",
     "text": [
      "Epoch 47: train=9.49462, val=8.56978, took 95.158 s\n",
      "  Validation Found 91972 of 93880, added 4631 (eff 97.97%) (0.252 FP/event)\n"
     ]
    },
    {
     "data": {
      "application/vnd.jupyter.widget-view+json": {
       "model_id": "",
       "version_major": 2,
       "version_minor": 0
      },
      "text/plain": [
       "HBox(children=(FloatProgress(value=0.0, description='Training', layout=Layout(flex='2'), max=2032.0, style=Pro…"
      ]
     },
     "metadata": {},
     "output_type": "display_data"
    },
    {
     "name": "stdout",
     "output_type": "stream",
     "text": [
      "Epoch 48: train=9.50497, val=8.57032, took 95.347 s\n",
      "  Validation Found 91971 of 93880, added 4641 (eff 97.97%) (0.253 FP/event)\n"
     ]
    },
    {
     "data": {
      "application/vnd.jupyter.widget-view+json": {
       "model_id": "",
       "version_major": 2,
       "version_minor": 0
      },
      "text/plain": [
       "HBox(children=(FloatProgress(value=0.0, description='Training', layout=Layout(flex='2'), max=2032.0, style=Pro…"
      ]
     },
     "metadata": {},
     "output_type": "display_data"
    },
    {
     "name": "stdout",
     "output_type": "stream",
     "text": [
      "Epoch 49: train=9.49563, val=8.56315, took 95.009 s\n",
      "  Validation Found 91979 of 93880, added 4708 (eff 97.98%) (0.257 FP/event)\n",
      "\n"
     ]
    }
   ],
   "source": [
    "for result in trainNet(model, optimizer, loss,\n",
    "                        train_loader, val_loader,\n",
    "                        n_epochs, epoch_start=len(results),\n",
    "                        notebook=True):\n",
    "    \n",
    "    results = results.append(pd.Series(result._asdict()), ignore_index=True)\n",
    "    \n",
    "    xs = results.index\n",
    "    \n",
    "    # Update the plot above\n",
    "    lines['train'].set_data(results.index,results.cost)\n",
    "    lines['val'].set_data(results.index,results.val)\n",
    "    \n",
    "    #filter first cost epoch (can be really large)\n",
    "    max_cost = max(max(results.cost if len(results.cost)<2 else results.cost[1:]), max(results.val))\n",
    "    min_cost = min(min(results.cost), min(results.val))\n",
    "    \n",
    "    # The plot limits need updating too\n",
    "    \n",
    "    \n",
    "    \n",
    "    ax.set_ylim(min_cost*.9, max_cost*1.1)  \n",
    "    ax.set_xlim(-.5, len(results.cost) - .5)\n",
    "    \n",
    "    replace_in_ax(lax, lines['eff'], xs, results['eff_val'].apply(lambda x: x.eff_rate))\n",
    "    replace_in_ax(tax, lines['fp'], xs, results['eff_val'].apply(lambda x: x.fp_rate))\n",
    "    \n",
    "    # Redraw the figure\n",
    "    fig.canvas.draw()\n",
    "\n",
    "    # Save each model state dictionary\n",
    "    torch.save(model.state_dict(), output / f'{name}_{result.epoch}.pyt')"
   ]
  },
  {
   "cell_type": "markdown",
   "metadata": {},
   "source": [
    "# Results\n",
    "\n",
    "Let's save some results: (even though if you have not changed the code above, it saves the model every epoch)"
   ]
  },
  {
   "cell_type": "markdown",
   "metadata": {},
   "source": [
    "Go ahead and save the final model (even though it was also saved above):"
   ]
  },
  {
   "cell_type": "code",
   "execution_count": 16,
   "metadata": {},
   "outputs": [],
   "source": [
    "torch.save(model.state_dict(), output / f'{name}_final.pyt')"
   ]
  },
  {
   "cell_type": "markdown",
   "metadata": {},
   "source": [
    "Save the output results:"
   ]
  },
  {
   "cell_type": "code",
   "execution_count": 17,
   "metadata": {},
   "outputs": [
    {
     "name": "stderr",
     "output_type": "stream",
     "text": [
      "/data/conda/envs/goofit/lib/python3.7/site-packages/pandas/core/generic.py:2505: PerformanceWarning: \n",
      "your performance may suffer as PyTables will pickle object types that it cannot\n",
      "map directly to c-types [inferred_type->mixed-integer,key->block1_values] [items->Index(['epoch', 'eff_val'], dtype='object')]\n",
      "\n",
      "  encoding=encoding,\n"
     ]
    }
   ],
   "source": [
    "results.to_hdf(f'{name}_stats.hdf5', 'results')"
   ]
  },
  {
   "cell_type": "markdown",
   "metadata": {},
   "source": [
    "Save the plot above:"
   ]
  },
  {
   "cell_type": "code",
   "execution_count": 18,
   "metadata": {
    "scrolled": false
   },
   "outputs": [
    {
     "data": {
      "application/javascript": [
       "/* Put everything inside the global mpl namespace */\n",
       "window.mpl = {};\n",
       "\n",
       "\n",
       "mpl.get_websocket_type = function() {\n",
       "    if (typeof(WebSocket) !== 'undefined') {\n",
       "        return WebSocket;\n",
       "    } else if (typeof(MozWebSocket) !== 'undefined') {\n",
       "        return MozWebSocket;\n",
       "    } else {\n",
       "        alert('Your browser does not have WebSocket support. ' +\n",
       "              'Please try Chrome, Safari or Firefox ≥ 6. ' +\n",
       "              'Firefox 4 and 5 are also supported but you ' +\n",
       "              'have to enable WebSockets in about:config.');\n",
       "    };\n",
       "}\n",
       "\n",
       "mpl.figure = function(figure_id, websocket, ondownload, parent_element) {\n",
       "    this.id = figure_id;\n",
       "\n",
       "    this.ws = websocket;\n",
       "\n",
       "    this.supports_binary = (this.ws.binaryType != undefined);\n",
       "\n",
       "    if (!this.supports_binary) {\n",
       "        var warnings = document.getElementById(\"mpl-warnings\");\n",
       "        if (warnings) {\n",
       "            warnings.style.display = 'block';\n",
       "            warnings.textContent = (\n",
       "                \"This browser does not support binary websocket messages. \" +\n",
       "                    \"Performance may be slow.\");\n",
       "        }\n",
       "    }\n",
       "\n",
       "    this.imageObj = new Image();\n",
       "\n",
       "    this.context = undefined;\n",
       "    this.message = undefined;\n",
       "    this.canvas = undefined;\n",
       "    this.rubberband_canvas = undefined;\n",
       "    this.rubberband_context = undefined;\n",
       "    this.format_dropdown = undefined;\n",
       "\n",
       "    this.image_mode = 'full';\n",
       "\n",
       "    this.root = $('<div/>');\n",
       "    this._root_extra_style(this.root)\n",
       "    this.root.attr('style', 'display: inline-block');\n",
       "\n",
       "    $(parent_element).append(this.root);\n",
       "\n",
       "    this._init_header(this);\n",
       "    this._init_canvas(this);\n",
       "    this._init_toolbar(this);\n",
       "\n",
       "    var fig = this;\n",
       "\n",
       "    this.waiting = false;\n",
       "\n",
       "    this.ws.onopen =  function () {\n",
       "            fig.send_message(\"supports_binary\", {value: fig.supports_binary});\n",
       "            fig.send_message(\"send_image_mode\", {});\n",
       "            if (mpl.ratio != 1) {\n",
       "                fig.send_message(\"set_dpi_ratio\", {'dpi_ratio': mpl.ratio});\n",
       "            }\n",
       "            fig.send_message(\"refresh\", {});\n",
       "        }\n",
       "\n",
       "    this.imageObj.onload = function() {\n",
       "            if (fig.image_mode == 'full') {\n",
       "                // Full images could contain transparency (where diff images\n",
       "                // almost always do), so we need to clear the canvas so that\n",
       "                // there is no ghosting.\n",
       "                fig.context.clearRect(0, 0, fig.canvas.width, fig.canvas.height);\n",
       "            }\n",
       "            fig.context.drawImage(fig.imageObj, 0, 0);\n",
       "        };\n",
       "\n",
       "    this.imageObj.onunload = function() {\n",
       "        fig.ws.close();\n",
       "    }\n",
       "\n",
       "    this.ws.onmessage = this._make_on_message_function(this);\n",
       "\n",
       "    this.ondownload = ondownload;\n",
       "}\n",
       "\n",
       "mpl.figure.prototype._init_header = function() {\n",
       "    var titlebar = $(\n",
       "        '<div class=\"ui-dialog-titlebar ui-widget-header ui-corner-all ' +\n",
       "        'ui-helper-clearfix\"/>');\n",
       "    var titletext = $(\n",
       "        '<div class=\"ui-dialog-title\" style=\"width: 100%; ' +\n",
       "        'text-align: center; padding: 3px;\"/>');\n",
       "    titlebar.append(titletext)\n",
       "    this.root.append(titlebar);\n",
       "    this.header = titletext[0];\n",
       "}\n",
       "\n",
       "\n",
       "\n",
       "mpl.figure.prototype._canvas_extra_style = function(canvas_div) {\n",
       "\n",
       "}\n",
       "\n",
       "\n",
       "mpl.figure.prototype._root_extra_style = function(canvas_div) {\n",
       "\n",
       "}\n",
       "\n",
       "mpl.figure.prototype._init_canvas = function() {\n",
       "    var fig = this;\n",
       "\n",
       "    var canvas_div = $('<div/>');\n",
       "\n",
       "    canvas_div.attr('style', 'position: relative; clear: both; outline: 0');\n",
       "\n",
       "    function canvas_keyboard_event(event) {\n",
       "        return fig.key_event(event, event['data']);\n",
       "    }\n",
       "\n",
       "    canvas_div.keydown('key_press', canvas_keyboard_event);\n",
       "    canvas_div.keyup('key_release', canvas_keyboard_event);\n",
       "    this.canvas_div = canvas_div\n",
       "    this._canvas_extra_style(canvas_div)\n",
       "    this.root.append(canvas_div);\n",
       "\n",
       "    var canvas = $('<canvas/>');\n",
       "    canvas.addClass('mpl-canvas');\n",
       "    canvas.attr('style', \"left: 0; top: 0; z-index: 0; outline: 0\")\n",
       "\n",
       "    this.canvas = canvas[0];\n",
       "    this.context = canvas[0].getContext(\"2d\");\n",
       "\n",
       "    var backingStore = this.context.backingStorePixelRatio ||\n",
       "\tthis.context.webkitBackingStorePixelRatio ||\n",
       "\tthis.context.mozBackingStorePixelRatio ||\n",
       "\tthis.context.msBackingStorePixelRatio ||\n",
       "\tthis.context.oBackingStorePixelRatio ||\n",
       "\tthis.context.backingStorePixelRatio || 1;\n",
       "\n",
       "    mpl.ratio = (window.devicePixelRatio || 1) / backingStore;\n",
       "\n",
       "    var rubberband = $('<canvas/>');\n",
       "    rubberband.attr('style', \"position: absolute; left: 0; top: 0; z-index: 1;\")\n",
       "\n",
       "    var pass_mouse_events = true;\n",
       "\n",
       "    canvas_div.resizable({\n",
       "        start: function(event, ui) {\n",
       "            pass_mouse_events = false;\n",
       "        },\n",
       "        resize: function(event, ui) {\n",
       "            fig.request_resize(ui.size.width, ui.size.height);\n",
       "        },\n",
       "        stop: function(event, ui) {\n",
       "            pass_mouse_events = true;\n",
       "            fig.request_resize(ui.size.width, ui.size.height);\n",
       "        },\n",
       "    });\n",
       "\n",
       "    function mouse_event_fn(event) {\n",
       "        if (pass_mouse_events)\n",
       "            return fig.mouse_event(event, event['data']);\n",
       "    }\n",
       "\n",
       "    rubberband.mousedown('button_press', mouse_event_fn);\n",
       "    rubberband.mouseup('button_release', mouse_event_fn);\n",
       "    // Throttle sequential mouse events to 1 every 20ms.\n",
       "    rubberband.mousemove('motion_notify', mouse_event_fn);\n",
       "\n",
       "    rubberband.mouseenter('figure_enter', mouse_event_fn);\n",
       "    rubberband.mouseleave('figure_leave', mouse_event_fn);\n",
       "\n",
       "    canvas_div.on(\"wheel\", function (event) {\n",
       "        event = event.originalEvent;\n",
       "        event['data'] = 'scroll'\n",
       "        if (event.deltaY < 0) {\n",
       "            event.step = 1;\n",
       "        } else {\n",
       "            event.step = -1;\n",
       "        }\n",
       "        mouse_event_fn(event);\n",
       "    });\n",
       "\n",
       "    canvas_div.append(canvas);\n",
       "    canvas_div.append(rubberband);\n",
       "\n",
       "    this.rubberband = rubberband;\n",
       "    this.rubberband_canvas = rubberband[0];\n",
       "    this.rubberband_context = rubberband[0].getContext(\"2d\");\n",
       "    this.rubberband_context.strokeStyle = \"#000000\";\n",
       "\n",
       "    this._resize_canvas = function(width, height) {\n",
       "        // Keep the size of the canvas, canvas container, and rubber band\n",
       "        // canvas in synch.\n",
       "        canvas_div.css('width', width)\n",
       "        canvas_div.css('height', height)\n",
       "\n",
       "        canvas.attr('width', width * mpl.ratio);\n",
       "        canvas.attr('height', height * mpl.ratio);\n",
       "        canvas.attr('style', 'width: ' + width + 'px; height: ' + height + 'px;');\n",
       "\n",
       "        rubberband.attr('width', width);\n",
       "        rubberband.attr('height', height);\n",
       "    }\n",
       "\n",
       "    // Set the figure to an initial 600x600px, this will subsequently be updated\n",
       "    // upon first draw.\n",
       "    this._resize_canvas(600, 600);\n",
       "\n",
       "    // Disable right mouse context menu.\n",
       "    $(this.rubberband_canvas).bind(\"contextmenu\",function(e){\n",
       "        return false;\n",
       "    });\n",
       "\n",
       "    function set_focus () {\n",
       "        canvas.focus();\n",
       "        canvas_div.focus();\n",
       "    }\n",
       "\n",
       "    window.setTimeout(set_focus, 100);\n",
       "}\n",
       "\n",
       "mpl.figure.prototype._init_toolbar = function() {\n",
       "    var fig = this;\n",
       "\n",
       "    var nav_element = $('<div/>');\n",
       "    nav_element.attr('style', 'width: 100%');\n",
       "    this.root.append(nav_element);\n",
       "\n",
       "    // Define a callback function for later on.\n",
       "    function toolbar_event(event) {\n",
       "        return fig.toolbar_button_onclick(event['data']);\n",
       "    }\n",
       "    function toolbar_mouse_event(event) {\n",
       "        return fig.toolbar_button_onmouseover(event['data']);\n",
       "    }\n",
       "\n",
       "    for(var toolbar_ind in mpl.toolbar_items) {\n",
       "        var name = mpl.toolbar_items[toolbar_ind][0];\n",
       "        var tooltip = mpl.toolbar_items[toolbar_ind][1];\n",
       "        var image = mpl.toolbar_items[toolbar_ind][2];\n",
       "        var method_name = mpl.toolbar_items[toolbar_ind][3];\n",
       "\n",
       "        if (!name) {\n",
       "            // put a spacer in here.\n",
       "            continue;\n",
       "        }\n",
       "        var button = $('<button/>');\n",
       "        button.addClass('ui-button ui-widget ui-state-default ui-corner-all ' +\n",
       "                        'ui-button-icon-only');\n",
       "        button.attr('role', 'button');\n",
       "        button.attr('aria-disabled', 'false');\n",
       "        button.click(method_name, toolbar_event);\n",
       "        button.mouseover(tooltip, toolbar_mouse_event);\n",
       "\n",
       "        var icon_img = $('<span/>');\n",
       "        icon_img.addClass('ui-button-icon-primary ui-icon');\n",
       "        icon_img.addClass(image);\n",
       "        icon_img.addClass('ui-corner-all');\n",
       "\n",
       "        var tooltip_span = $('<span/>');\n",
       "        tooltip_span.addClass('ui-button-text');\n",
       "        tooltip_span.html(tooltip);\n",
       "\n",
       "        button.append(icon_img);\n",
       "        button.append(tooltip_span);\n",
       "\n",
       "        nav_element.append(button);\n",
       "    }\n",
       "\n",
       "    var fmt_picker_span = $('<span/>');\n",
       "\n",
       "    var fmt_picker = $('<select/>');\n",
       "    fmt_picker.addClass('mpl-toolbar-option ui-widget ui-widget-content');\n",
       "    fmt_picker_span.append(fmt_picker);\n",
       "    nav_element.append(fmt_picker_span);\n",
       "    this.format_dropdown = fmt_picker[0];\n",
       "\n",
       "    for (var ind in mpl.extensions) {\n",
       "        var fmt = mpl.extensions[ind];\n",
       "        var option = $(\n",
       "            '<option/>', {selected: fmt === mpl.default_extension}).html(fmt);\n",
       "        fmt_picker.append(option);\n",
       "    }\n",
       "\n",
       "    // Add hover states to the ui-buttons\n",
       "    $( \".ui-button\" ).hover(\n",
       "        function() { $(this).addClass(\"ui-state-hover\");},\n",
       "        function() { $(this).removeClass(\"ui-state-hover\");}\n",
       "    );\n",
       "\n",
       "    var status_bar = $('<span class=\"mpl-message\"/>');\n",
       "    nav_element.append(status_bar);\n",
       "    this.message = status_bar[0];\n",
       "}\n",
       "\n",
       "mpl.figure.prototype.request_resize = function(x_pixels, y_pixels) {\n",
       "    // Request matplotlib to resize the figure. Matplotlib will then trigger a resize in the client,\n",
       "    // which will in turn request a refresh of the image.\n",
       "    this.send_message('resize', {'width': x_pixels, 'height': y_pixels});\n",
       "}\n",
       "\n",
       "mpl.figure.prototype.send_message = function(type, properties) {\n",
       "    properties['type'] = type;\n",
       "    properties['figure_id'] = this.id;\n",
       "    this.ws.send(JSON.stringify(properties));\n",
       "}\n",
       "\n",
       "mpl.figure.prototype.send_draw_message = function() {\n",
       "    if (!this.waiting) {\n",
       "        this.waiting = true;\n",
       "        this.ws.send(JSON.stringify({type: \"draw\", figure_id: this.id}));\n",
       "    }\n",
       "}\n",
       "\n",
       "\n",
       "mpl.figure.prototype.handle_save = function(fig, msg) {\n",
       "    var format_dropdown = fig.format_dropdown;\n",
       "    var format = format_dropdown.options[format_dropdown.selectedIndex].value;\n",
       "    fig.ondownload(fig, format);\n",
       "}\n",
       "\n",
       "\n",
       "mpl.figure.prototype.handle_resize = function(fig, msg) {\n",
       "    var size = msg['size'];\n",
       "    if (size[0] != fig.canvas.width || size[1] != fig.canvas.height) {\n",
       "        fig._resize_canvas(size[0], size[1]);\n",
       "        fig.send_message(\"refresh\", {});\n",
       "    };\n",
       "}\n",
       "\n",
       "mpl.figure.prototype.handle_rubberband = function(fig, msg) {\n",
       "    var x0 = msg['x0'] / mpl.ratio;\n",
       "    var y0 = (fig.canvas.height - msg['y0']) / mpl.ratio;\n",
       "    var x1 = msg['x1'] / mpl.ratio;\n",
       "    var y1 = (fig.canvas.height - msg['y1']) / mpl.ratio;\n",
       "    x0 = Math.floor(x0) + 0.5;\n",
       "    y0 = Math.floor(y0) + 0.5;\n",
       "    x1 = Math.floor(x1) + 0.5;\n",
       "    y1 = Math.floor(y1) + 0.5;\n",
       "    var min_x = Math.min(x0, x1);\n",
       "    var min_y = Math.min(y0, y1);\n",
       "    var width = Math.abs(x1 - x0);\n",
       "    var height = Math.abs(y1 - y0);\n",
       "\n",
       "    fig.rubberband_context.clearRect(\n",
       "        0, 0, fig.canvas.width / mpl.ratio, fig.canvas.height / mpl.ratio);\n",
       "\n",
       "    fig.rubberband_context.strokeRect(min_x, min_y, width, height);\n",
       "}\n",
       "\n",
       "mpl.figure.prototype.handle_figure_label = function(fig, msg) {\n",
       "    // Updates the figure title.\n",
       "    fig.header.textContent = msg['label'];\n",
       "}\n",
       "\n",
       "mpl.figure.prototype.handle_cursor = function(fig, msg) {\n",
       "    var cursor = msg['cursor'];\n",
       "    switch(cursor)\n",
       "    {\n",
       "    case 0:\n",
       "        cursor = 'pointer';\n",
       "        break;\n",
       "    case 1:\n",
       "        cursor = 'default';\n",
       "        break;\n",
       "    case 2:\n",
       "        cursor = 'crosshair';\n",
       "        break;\n",
       "    case 3:\n",
       "        cursor = 'move';\n",
       "        break;\n",
       "    }\n",
       "    fig.rubberband_canvas.style.cursor = cursor;\n",
       "}\n",
       "\n",
       "mpl.figure.prototype.handle_message = function(fig, msg) {\n",
       "    fig.message.textContent = msg['message'];\n",
       "}\n",
       "\n",
       "mpl.figure.prototype.handle_draw = function(fig, msg) {\n",
       "    // Request the server to send over a new figure.\n",
       "    fig.send_draw_message();\n",
       "}\n",
       "\n",
       "mpl.figure.prototype.handle_image_mode = function(fig, msg) {\n",
       "    fig.image_mode = msg['mode'];\n",
       "}\n",
       "\n",
       "mpl.figure.prototype.updated_canvas_event = function() {\n",
       "    // Called whenever the canvas gets updated.\n",
       "    this.send_message(\"ack\", {});\n",
       "}\n",
       "\n",
       "// A function to construct a web socket function for onmessage handling.\n",
       "// Called in the figure constructor.\n",
       "mpl.figure.prototype._make_on_message_function = function(fig) {\n",
       "    return function socket_on_message(evt) {\n",
       "        if (evt.data instanceof Blob) {\n",
       "            /* FIXME: We get \"Resource interpreted as Image but\n",
       "             * transferred with MIME type text/plain:\" errors on\n",
       "             * Chrome.  But how to set the MIME type?  It doesn't seem\n",
       "             * to be part of the websocket stream */\n",
       "            evt.data.type = \"image/png\";\n",
       "\n",
       "            /* Free the memory for the previous frames */\n",
       "            if (fig.imageObj.src) {\n",
       "                (window.URL || window.webkitURL).revokeObjectURL(\n",
       "                    fig.imageObj.src);\n",
       "            }\n",
       "\n",
       "            fig.imageObj.src = (window.URL || window.webkitURL).createObjectURL(\n",
       "                evt.data);\n",
       "            fig.updated_canvas_event();\n",
       "            fig.waiting = false;\n",
       "            return;\n",
       "        }\n",
       "        else if (typeof evt.data === 'string' && evt.data.slice(0, 21) == \"data:image/png;base64\") {\n",
       "            fig.imageObj.src = evt.data;\n",
       "            fig.updated_canvas_event();\n",
       "            fig.waiting = false;\n",
       "            return;\n",
       "        }\n",
       "\n",
       "        var msg = JSON.parse(evt.data);\n",
       "        var msg_type = msg['type'];\n",
       "\n",
       "        // Call the  \"handle_{type}\" callback, which takes\n",
       "        // the figure and JSON message as its only arguments.\n",
       "        try {\n",
       "            var callback = fig[\"handle_\" + msg_type];\n",
       "        } catch (e) {\n",
       "            console.log(\"No handler for the '\" + msg_type + \"' message type: \", msg);\n",
       "            return;\n",
       "        }\n",
       "\n",
       "        if (callback) {\n",
       "            try {\n",
       "                // console.log(\"Handling '\" + msg_type + \"' message: \", msg);\n",
       "                callback(fig, msg);\n",
       "            } catch (e) {\n",
       "                console.log(\"Exception inside the 'handler_\" + msg_type + \"' callback:\", e, e.stack, msg);\n",
       "            }\n",
       "        }\n",
       "    };\n",
       "}\n",
       "\n",
       "// from http://stackoverflow.com/questions/1114465/getting-mouse-location-in-canvas\n",
       "mpl.findpos = function(e) {\n",
       "    //this section is from http://www.quirksmode.org/js/events_properties.html\n",
       "    var targ;\n",
       "    if (!e)\n",
       "        e = window.event;\n",
       "    if (e.target)\n",
       "        targ = e.target;\n",
       "    else if (e.srcElement)\n",
       "        targ = e.srcElement;\n",
       "    if (targ.nodeType == 3) // defeat Safari bug\n",
       "        targ = targ.parentNode;\n",
       "\n",
       "    // jQuery normalizes the pageX and pageY\n",
       "    // pageX,Y are the mouse positions relative to the document\n",
       "    // offset() returns the position of the element relative to the document\n",
       "    var x = e.pageX - $(targ).offset().left;\n",
       "    var y = e.pageY - $(targ).offset().top;\n",
       "\n",
       "    return {\"x\": x, \"y\": y};\n",
       "};\n",
       "\n",
       "/*\n",
       " * return a copy of an object with only non-object keys\n",
       " * we need this to avoid circular references\n",
       " * http://stackoverflow.com/a/24161582/3208463\n",
       " */\n",
       "function simpleKeys (original) {\n",
       "  return Object.keys(original).reduce(function (obj, key) {\n",
       "    if (typeof original[key] !== 'object')\n",
       "        obj[key] = original[key]\n",
       "    return obj;\n",
       "  }, {});\n",
       "}\n",
       "\n",
       "mpl.figure.prototype.mouse_event = function(event, name) {\n",
       "    var canvas_pos = mpl.findpos(event)\n",
       "\n",
       "    if (name === 'button_press')\n",
       "    {\n",
       "        this.canvas.focus();\n",
       "        this.canvas_div.focus();\n",
       "    }\n",
       "\n",
       "    var x = canvas_pos.x * mpl.ratio;\n",
       "    var y = canvas_pos.y * mpl.ratio;\n",
       "\n",
       "    this.send_message(name, {x: x, y: y, button: event.button,\n",
       "                             step: event.step,\n",
       "                             guiEvent: simpleKeys(event)});\n",
       "\n",
       "    /* This prevents the web browser from automatically changing to\n",
       "     * the text insertion cursor when the button is pressed.  We want\n",
       "     * to control all of the cursor setting manually through the\n",
       "     * 'cursor' event from matplotlib */\n",
       "    event.preventDefault();\n",
       "    return false;\n",
       "}\n",
       "\n",
       "mpl.figure.prototype._key_event_extra = function(event, name) {\n",
       "    // Handle any extra behaviour associated with a key event\n",
       "}\n",
       "\n",
       "mpl.figure.prototype.key_event = function(event, name) {\n",
       "\n",
       "    // Prevent repeat events\n",
       "    if (name == 'key_press')\n",
       "    {\n",
       "        if (event.which === this._key)\n",
       "            return;\n",
       "        else\n",
       "            this._key = event.which;\n",
       "    }\n",
       "    if (name == 'key_release')\n",
       "        this._key = null;\n",
       "\n",
       "    var value = '';\n",
       "    if (event.ctrlKey && event.which != 17)\n",
       "        value += \"ctrl+\";\n",
       "    if (event.altKey && event.which != 18)\n",
       "        value += \"alt+\";\n",
       "    if (event.shiftKey && event.which != 16)\n",
       "        value += \"shift+\";\n",
       "\n",
       "    value += 'k';\n",
       "    value += event.which.toString();\n",
       "\n",
       "    this._key_event_extra(event, name);\n",
       "\n",
       "    this.send_message(name, {key: value,\n",
       "                             guiEvent: simpleKeys(event)});\n",
       "    return false;\n",
       "}\n",
       "\n",
       "mpl.figure.prototype.toolbar_button_onclick = function(name) {\n",
       "    if (name == 'download') {\n",
       "        this.handle_save(this, null);\n",
       "    } else {\n",
       "        this.send_message(\"toolbar_button\", {name: name});\n",
       "    }\n",
       "};\n",
       "\n",
       "mpl.figure.prototype.toolbar_button_onmouseover = function(tooltip) {\n",
       "    this.message.textContent = tooltip;\n",
       "};\n",
       "mpl.toolbar_items = [[\"Home\", \"Reset original view\", \"fa fa-home icon-home\", \"home\"], [\"Back\", \"Back to previous view\", \"fa fa-arrow-left icon-arrow-left\", \"back\"], [\"Forward\", \"Forward to next view\", \"fa fa-arrow-right icon-arrow-right\", \"forward\"], [\"\", \"\", \"\", \"\"], [\"Pan\", \"Pan axes with left mouse, zoom with right\", \"fa fa-arrows icon-move\", \"pan\"], [\"Zoom\", \"Zoom to rectangle\", \"fa fa-square-o icon-check-empty\", \"zoom\"], [\"\", \"\", \"\", \"\"], [\"Download\", \"Download plot\", \"fa fa-floppy-o icon-save\", \"download\"]];\n",
       "\n",
       "mpl.extensions = [\"eps\", \"jpeg\", \"pdf\", \"png\", \"ps\", \"raw\", \"svg\", \"tif\"];\n",
       "\n",
       "mpl.default_extension = \"png\";var comm_websocket_adapter = function(comm) {\n",
       "    // Create a \"websocket\"-like object which calls the given IPython comm\n",
       "    // object with the appropriate methods. Currently this is a non binary\n",
       "    // socket, so there is still some room for performance tuning.\n",
       "    var ws = {};\n",
       "\n",
       "    ws.close = function() {\n",
       "        comm.close()\n",
       "    };\n",
       "    ws.send = function(m) {\n",
       "        //console.log('sending', m);\n",
       "        comm.send(m);\n",
       "    };\n",
       "    // Register the callback with on_msg.\n",
       "    comm.on_msg(function(msg) {\n",
       "        //console.log('receiving', msg['content']['data'], msg);\n",
       "        // Pass the mpl event to the overridden (by mpl) onmessage function.\n",
       "        ws.onmessage(msg['content']['data'])\n",
       "    });\n",
       "    return ws;\n",
       "}\n",
       "\n",
       "mpl.mpl_figure_comm = function(comm, msg) {\n",
       "    // This is the function which gets called when the mpl process\n",
       "    // starts-up an IPython Comm through the \"matplotlib\" channel.\n",
       "\n",
       "    var id = msg.content.data.id;\n",
       "    // Get hold of the div created by the display call when the Comm\n",
       "    // socket was opened in Python.\n",
       "    var element = $(\"#\" + id);\n",
       "    var ws_proxy = comm_websocket_adapter(comm)\n",
       "\n",
       "    function ondownload(figure, format) {\n",
       "        window.open(figure.imageObj.src);\n",
       "    }\n",
       "\n",
       "    var fig = new mpl.figure(id, ws_proxy,\n",
       "                           ondownload,\n",
       "                           element.get(0));\n",
       "\n",
       "    // Call onopen now - mpl needs it, as it is assuming we've passed it a real\n",
       "    // web socket which is closed, not our websocket->open comm proxy.\n",
       "    ws_proxy.onopen();\n",
       "\n",
       "    fig.parent_element = element.get(0);\n",
       "    fig.cell_info = mpl.find_output_cell(\"<div id='\" + id + \"'></div>\");\n",
       "    if (!fig.cell_info) {\n",
       "        console.error(\"Failed to find cell for figure\", id, fig);\n",
       "        return;\n",
       "    }\n",
       "\n",
       "    var output_index = fig.cell_info[2]\n",
       "    var cell = fig.cell_info[0];\n",
       "\n",
       "};\n",
       "\n",
       "mpl.figure.prototype.handle_close = function(fig, msg) {\n",
       "    var width = fig.canvas.width/mpl.ratio\n",
       "    fig.root.unbind('remove')\n",
       "\n",
       "    // Update the output cell to use the data from the current canvas.\n",
       "    fig.push_to_output();\n",
       "    var dataURL = fig.canvas.toDataURL();\n",
       "    // Re-enable the keyboard manager in IPython - without this line, in FF,\n",
       "    // the notebook keyboard shortcuts fail.\n",
       "    IPython.keyboard_manager.enable()\n",
       "    $(fig.parent_element).html('<img src=\"' + dataURL + '\" width=\"' + width + '\">');\n",
       "    fig.close_ws(fig, msg);\n",
       "}\n",
       "\n",
       "mpl.figure.prototype.close_ws = function(fig, msg){\n",
       "    fig.send_message('closing', msg);\n",
       "    // fig.ws.close()\n",
       "}\n",
       "\n",
       "mpl.figure.prototype.push_to_output = function(remove_interactive) {\n",
       "    // Turn the data on the canvas into data in the output cell.\n",
       "    var width = this.canvas.width/mpl.ratio\n",
       "    var dataURL = this.canvas.toDataURL();\n",
       "    this.cell_info[1]['text/html'] = '<img src=\"' + dataURL + '\" width=\"' + width + '\">';\n",
       "}\n",
       "\n",
       "mpl.figure.prototype.updated_canvas_event = function() {\n",
       "    // Tell IPython that the notebook contents must change.\n",
       "    IPython.notebook.set_dirty(true);\n",
       "    this.send_message(\"ack\", {});\n",
       "    var fig = this;\n",
       "    // Wait a second, then push the new image to the DOM so\n",
       "    // that it is saved nicely (might be nice to debounce this).\n",
       "    setTimeout(function () { fig.push_to_output() }, 1000);\n",
       "}\n",
       "\n",
       "mpl.figure.prototype._init_toolbar = function() {\n",
       "    var fig = this;\n",
       "\n",
       "    var nav_element = $('<div/>');\n",
       "    nav_element.attr('style', 'width: 100%');\n",
       "    this.root.append(nav_element);\n",
       "\n",
       "    // Define a callback function for later on.\n",
       "    function toolbar_event(event) {\n",
       "        return fig.toolbar_button_onclick(event['data']);\n",
       "    }\n",
       "    function toolbar_mouse_event(event) {\n",
       "        return fig.toolbar_button_onmouseover(event['data']);\n",
       "    }\n",
       "\n",
       "    for(var toolbar_ind in mpl.toolbar_items){\n",
       "        var name = mpl.toolbar_items[toolbar_ind][0];\n",
       "        var tooltip = mpl.toolbar_items[toolbar_ind][1];\n",
       "        var image = mpl.toolbar_items[toolbar_ind][2];\n",
       "        var method_name = mpl.toolbar_items[toolbar_ind][3];\n",
       "\n",
       "        if (!name) { continue; };\n",
       "\n",
       "        var button = $('<button class=\"btn btn-default\" href=\"#\" title=\"' + name + '\"><i class=\"fa ' + image + ' fa-lg\"></i></button>');\n",
       "        button.click(method_name, toolbar_event);\n",
       "        button.mouseover(tooltip, toolbar_mouse_event);\n",
       "        nav_element.append(button);\n",
       "    }\n",
       "\n",
       "    // Add the status bar.\n",
       "    var status_bar = $('<span class=\"mpl-message\" style=\"text-align:right; float: right;\"/>');\n",
       "    nav_element.append(status_bar);\n",
       "    this.message = status_bar[0];\n",
       "\n",
       "    // Add the close button to the window.\n",
       "    var buttongrp = $('<div class=\"btn-group inline pull-right\"></div>');\n",
       "    var button = $('<button class=\"btn btn-mini btn-primary\" href=\"#\" title=\"Stop Interaction\"><i class=\"fa fa-power-off icon-remove icon-large\"></i></button>');\n",
       "    button.click(function (evt) { fig.handle_close(fig, {}); } );\n",
       "    button.mouseover('Stop Interaction', toolbar_mouse_event);\n",
       "    buttongrp.append(button);\n",
       "    var titlebar = this.root.find($('.ui-dialog-titlebar'));\n",
       "    titlebar.prepend(buttongrp);\n",
       "}\n",
       "\n",
       "mpl.figure.prototype._root_extra_style = function(el){\n",
       "    var fig = this\n",
       "    el.on(\"remove\", function(){\n",
       "\tfig.close_ws(fig, {});\n",
       "    });\n",
       "}\n",
       "\n",
       "mpl.figure.prototype._canvas_extra_style = function(el){\n",
       "    // this is important to make the div 'focusable\n",
       "    el.attr('tabindex', 0)\n",
       "    // reach out to IPython and tell the keyboard manager to turn it's self\n",
       "    // off when our div gets focus\n",
       "\n",
       "    // location in version 3\n",
       "    if (IPython.notebook.keyboard_manager) {\n",
       "        IPython.notebook.keyboard_manager.register_events(el);\n",
       "    }\n",
       "    else {\n",
       "        // location in version 2\n",
       "        IPython.keyboard_manager.register_events(el);\n",
       "    }\n",
       "\n",
       "}\n",
       "\n",
       "mpl.figure.prototype._key_event_extra = function(event, name) {\n",
       "    var manager = IPython.notebook.keyboard_manager;\n",
       "    if (!manager)\n",
       "        manager = IPython.keyboard_manager;\n",
       "\n",
       "    // Check for shift+enter\n",
       "    if (event.shiftKey && event.which == 13) {\n",
       "        this.canvas_div.blur();\n",
       "        // select the cell after this one\n",
       "        var index = IPython.notebook.find_cell_index(this.cell_info[0]);\n",
       "        IPython.notebook.select(index + 1);\n",
       "    }\n",
       "}\n",
       "\n",
       "mpl.figure.prototype.handle_save = function(fig, msg) {\n",
       "    fig.ondownload(fig, null);\n",
       "}\n",
       "\n",
       "\n",
       "mpl.find_output_cell = function(html_output) {\n",
       "    // Return the cell and output element which can be found *uniquely* in the notebook.\n",
       "    // Note - this is a bit hacky, but it is done because the \"notebook_saving.Notebook\"\n",
       "    // IPython event is triggered only after the cells have been serialised, which for\n",
       "    // our purposes (turning an active figure into a static one), is too late.\n",
       "    var cells = IPython.notebook.get_cells();\n",
       "    var ncells = cells.length;\n",
       "    for (var i=0; i<ncells; i++) {\n",
       "        var cell = cells[i];\n",
       "        if (cell.cell_type === 'code'){\n",
       "            for (var j=0; j<cell.output_area.outputs.length; j++) {\n",
       "                var data = cell.output_area.outputs[j];\n",
       "                if (data.data) {\n",
       "                    // IPython >= 3 moved mimebundle to data attribute of output\n",
       "                    data = data.data;\n",
       "                }\n",
       "                if (data['text/html'] == html_output) {\n",
       "                    return [cell, data, j];\n",
       "                }\n",
       "            }\n",
       "        }\n",
       "    }\n",
       "}\n",
       "\n",
       "// Register the function which deals with the matplotlib target/channel.\n",
       "// The kernel may be null if the page has been refreshed.\n",
       "if (IPython.notebook.kernel != null) {\n",
       "    IPython.notebook.kernel.comm_manager.register_target('matplotlib', mpl.mpl_figure_comm);\n",
       "}\n"
      ],
      "text/plain": [
       "<IPython.core.display.Javascript object>"
      ]
     },
     "metadata": {},
     "output_type": "display_data"
    },
    {
     "data": {
      "text/html": [
       "<img src=\"data:image/png;base64,iVBORw0KGgoAAAANSUhEUgAABTUAAAKaCAYAAADvZL0gAAANiUlEQVR4nO3BMQEAAADCoPVPbQ0PoAAAAAAAAAAAAAAAAAAAAAAAAAAAAAAAAAAAAAAAAAAAAAAAAAAAAAAAAAAAAAAAAAAAAAAAAAAAAAAAAAAAAAAAAAAAAAAAAAAAAAAAAAAAAAAAAAAAAAAAAAAAAAAAAAAAAAAAAAAAAAAAAAAAAAAAAAAAAAAAAAAAAAAAAAAAAAAAAAAAAAAAAAAAAAAAAAAAAAAAAAAAAAAAAAAAAAAAAAAAAAAAAAAAAAAAAAAAAAAAAAAAAAAAAAAAAAAAAAAAAAAAAAAAAAAAAAAAAAAAAAAAAAAAAAAAAAAAAAAAAAAAAAAAAAAAAAAAAAAAAAAAAAAAAAAAAAAAAAAAAAAAAAAAAAAAAAAAAAAAAAAAAAAAAAAAAAAAAAAAAAAAAAAAAAAAAAAAAAAAAAAAAAAAAAAAAAAAAAAAAAAAAAAAAAAAAAAAAAAAAAAAAAAAAAAAAAAAAAAAAAAAAAAAAAAAAAAAAAAAAAAAAAAAAAAAAAAAAAAAAAAAAAAAAAAAAAAAAAAAAAAAAAAAAAAAAAAAAAAAAAAAAAAAAAAAAAAAAAAAAAAAAAAAAAAAAAAAAAAAAAAAAAAAAAAAAAAAAAAAAAAAAAAAAAAAAAAAAAAAAAAAAAAAAAAAAAAAAAAAAAAAAAAAAAAAAAAAAAAAAAAAAAAAAAAAAAAAAAAAAAAAAAAAAAAAAAAAAAAAAAAAAAAAAAAAAAAAAAAAAAAAAAAAAAAAAAAAAAAAAAAAAAAAAAAAAAAAAAAAAAAAAAAAAAAAAAAAAAAAAAAAAAAAAAAAAAAAAAAAAAAAAAAAAAAAAAAAAAAAAAAAAAAAAAAAAAAAAAAAAAAAAAAAAAAAAAAAAAAAAAAAAAAAAAAAAAAAAAAAAAAAAAAAAAAAAAAAAAAAAAAAAAAAAAAAAAAAAAAAAAAAAAAAAAAAAAAAAAAAAAAAAAAAAAAAAAAAAAAAAAAAAAAAAAAAAAAAAAAAAAAAAAAAAAAAAAAAAAAAAAAAAAAAAAAAAAAAAAAAAAAAAAAAAAAAAAAAAAAAAAAAAAAAAAAAAAAAAAAAAAAAAAAAAAAAAAAAAAAAAAAAAAAAAAAAAAAAAAAAAAAAAAAAAAAAAAAAAAAAAAAAAAAAAAAAAAAAAAAAAAAAAAAAAAAAAAAAAAAAAAAAAAAAAAAAAAAAAAAAAAAAAAAAAAAAAAAAAAAAAAAAAAAAAAAAAAAAAAAAAAAAAAAAAAAAAAAAAAAAAAAAAAAAAAAAAAAAAAAAAAAAAAAAAAAAAAAAAAAAAAAAAAAAAAAAAAAAAAAAAAAAAAAAAAAAAAAAAAAAAAAAAAAAAAAAAAAAAAAAAAAAAAAAAAAAAAAAAAAAAAAAAAAAAAAAAAAAAAAAAAAAAAAAAAAAAAAAAAAAAAAAAAAAAAAAAAAAAAAAAAAAAAAAAAAAAAAAAAAAAAAAAAAAAAAAAAAAAAAAAAAAAAAAAAAAAAAAAAAAAAAAAAAAAAAAAAAAAAAAAAAAAAAAAAAAAAAAAAAAAAAAAAAAAAAAAAAAAAAAAAAAAAAAAAAAAAAAAAAAAAAAAAAAAAAAAAAAAAAAAAAAAAAAAAAAAAAAAAAAAAAAAAAAAAAAAAAAAAAAAAAAAAAAAAAAAAAAAAAAAAAAAAAAAAAAAAAAAAAAAAAAAAAAAAAAAAAAAAAAAAAAAAAAAAAAAAAAAAAAAAAAAAAAAAAAAAAAAAAAAAAAAAAAAAAAAAAAAAAAAAAAAAAAAAAAAAAAAAAAAAAAAAAAAAAAAAAAAAAAAAAAAAAAAAAAAAAAAAAAAAAAAAAAAAAAAAAAAAAAAAAAAAAAAAAAAAAAAAAAAAAAAAAAAAAAAAAAAAAAAAAAAAAAAAAAAAAAAAAAAAAAAAAAAAAAAAAAAAAAAAAAAAAAAAAAAAAAAAAAAAAAAAAAAAAAAAAAAAAAAAAAAAAAAAAAAAAAAAAAAAAAAAAAAAAAAAAAAAAAAAAAAAAAAAAAAAAAAAAAAAAAAAAAAAAAAAAAAAAAAAAAAAAAAAAAAAAAAAAAAAAAAAAAAAAAAAAAAAAAAAAAAAAAAAAAAAAAAAAAAAAAAAAAAAAAAAAAAAAAAAAAAAAAAAAAAAAAAAAAAAAAAAAAAAAAAAAAAAAAAAAAAAAAAAAAAAAAAAAAAAAAAAAAAAAAAAAAAAAAAAAAAAAAAAAAAAAAAAAAAAAAAAAAAAAAAAAAAAAAAAAAAAAAAAAAAAAAAAAAAAAAAAAAAAAAAAAAAAAAAAAAAAAAAAAAAAAAAAAAAAAAAAAAAAAAAAAAAAAAAAAAAAAAAAAAAAAAAAAAAAAAAAAAAAAAAAAAAAAAAAAAAAAAAAAAAAAAAAAAAAAAAAAAAAAAAAAAAAAAAAAAAAAAAAAAAAAAAAAAAAAAAAAAAAAAAAAAAAAAAAAAAAAAAAAAAAAAAAAAAAAAAAAAAAAAAAAAAAAAAAAAAAAAAAAAAAAAAAAAAAAAAAAAAAAAAAAAAAAAAAAAAAAAAAAAAAAAAAAAAAAAAAAAAAAAAAAAAAAAAAAAAAAAAAAAAAAAAAAAAAAAAAAAAAAAAAAAAAAAAAAAAAAAAAAAAAAAAAAAAAAAAAAAAAAAAAAAAAAAAAAAAAAAAAAAAAAAAAAAAAAAAAAAAAAAAAAAAAAAAAAAAAAAAAAAAAAAAAAAAAAAAAAAAAAAAAAAAAAAAAAAAAAAAAAAAAAAAAAAAAAAAAAAAAAAAAAAAAAAAAAAAAAAAAAAAAAAAAAAAAAAAAAAAAAAAAAAAAAAAAAAAAAAAAAAAAAAAAAAAAAAAAAAAAAAAAAAAAAAAAAAAAAAAAAAAAAAAAAAAAAAAAAAAAAAAAAAAAAAAAAAAAAAAAAAAAAAAAAAAAAAAAAAAAAAAAAAAAAAAAAAAAAAAAAAAAAAAAAAAAAAAAAAAAAAAAAAAAAAAAAAAAAAAAAAAAAAAAAAAAAAAAAAAAAAAAAAAAAAAAAAAAAAAAAAAAAAAAAAAAAAAAAAAAAAAAAAAAAAAAAAAAAAAAAAAAAAAAAAAAAAAAAAAAAAAAAAAAAAAAAAAAAAAAAAAAAAAAAAAAAAAAAAAAAAAAAAAAAAAAAAAAAAAAAAAAAAAAAAAAAAAAAAAAAAAAAAAAAAAAAAAAAAAAAAAAAAAAAAAAAAAAAAAAAAAAAAAAAAAAAAAAAAAAAAAAAAAAAAAAAAAAAAAAAAAAAAAAAAAAAAAAAAAAAAAAAAAAAAAAAAAAAAAAAAAAAAAAAAAAAAAAAAAAAAAAAAAAAAAAAAAAAAAAAAAAAAAAAAAAAAAAAAAAAAAAAAAAAAAAAAAAAAAAAAAAAAAAAAAAAAAAAAAAAAAAAAAAAAAAAAAAAAAAAAAAAAAAAAAAAAAAAAAAAAAAAAAAAAAAAAAAAAAAAAAAAAAAAAAAAAAAAAAAAAAAAAAAAAAAAAAAAAAAAAAAAAAAAAAAAAAAAAAAAAAAAAAAAAAAAAAAAAAAAAAAAAAAAAAAAAAAAAAAAAAAAAAAAAAAAAAAAAAAAAAAAAAAAAAAAAAAAAAAAAAAAAAAAAAAAAAAAAAAAAAAAAAAAAAAAAAAAAAAAAAAAAAAAAAAAAAAAAAAAAAAAAAAAAAAAAAAAAAAAAAAAAAAAAAAAAAAAAAAAAAAAAAAAAAAAAAAAAAAAAAAAAAAAAAAAAAAAAAAAAAAAAAAAAAAAAAAAAAAAAAAAAAAAAAAAAAAAAAAAAAAAAAAAAAAAAAAAAAAAAAAAAAAAAAAAAAAAAAAAAAAAAAAAAAAAAAAAAAAAAAAAAAAAAAAAAAAAAAAAAAAAAAAAAAAAAAAAAAAAAAAAAAAAAAAAAAAAAAAAAAAAAAAAAAAAAAAAAAAAAAAAAAAAAAAAAAAAAAAAAAAAAAAAAAAAAAAAAAAAAAAAAAAAAAAAAAAAAAAAAAAAAAAAAAAAAAAAAAAAAAAAAAAAAAAAAAAAAAAAAAAAAAAAAAAAAAAAAAAAAAAAAAAAAAAAAAAAAAAAAAAAAAAAAAAAAAAAAAAAAAAAAAAAAAAAAAAAAAAAAAAAAAAAAAAAAAAAAAAAAAAAAAAAAAAAAAAAAAAAAAAAAAAAAAAAAAAAAAAAAAAAAAAAAAAAAAAAAAAAAAAAAAAAAAAAAAAAAAAAAAAAAAAAAAAAAAAAAAAAAAAAAAAAAAAAAAAAAAAAAAAAAAAAAAAAAAAAAAAAAAAAAAAAAAAAAAAAAAAAAAAAAAAAAAAAAAAAAAAAAAAAAAAAAAAAAAAAAAAAAAAAAAAAAAAAAAAAAAAAAAAAAAAAAAAAAAAAAAAAAAAAAAAAAAAAAAAAAAAAAAAAAAAAAAAAAAAAAAAAAAAAAAAAAAAAAAAAAAAAAAAAAAAAAAAAAAAAAAAAAAAAAAAAAAAAAAAAAAAAAAAAAAAAAAAAAAAAAAAAAAAAAAAAAAAAAAAAAAAAAAAAAAAAAAAAAAAAAAAAAAAAAAAAAAAAAAAAAAAAAAAAAAAAAAAAAAAAAAAAAAAAAAAAAAAAAAAAAAAAAAAAAAAAAAAAAAAAAAAAAAAAAAAAAAAAAAAAAAAAAAAAAAAAAAAAAAAAAAODRADVMAAFUlmbzAAAAAElFTkSuQmCC\" width=\"999.75\">"
      ],
      "text/plain": [
       "<IPython.core.display.HTML object>"
      ]
     },
     "metadata": {},
     "output_type": "display_data"
    }
   ],
   "source": [
    "dual_train_plots(results.index,\n",
    "                 results.cost, results.val, \n",
    "                 results['eff_val'].apply(lambda x: x.eff_rate),\n",
    "                 results['eff_val'].apply(lambda x: x.fp_rate))\n",
    "plt.tight_layout()\n",
    "plt.savefig(str(output / f'{name}_stats_a.png'))"
   ]
  },
  {
   "cell_type": "code",
   "execution_count": 19,
   "metadata": {},
   "outputs": [],
   "source": [
    "quit()"
   ]
  },
  {
   "cell_type": "code",
   "execution_count": null,
   "metadata": {},
   "outputs": [],
   "source": []
  }
 ],
 "metadata": {
  "kernelspec": {
   "display_name": "goofit",
   "language": "python",
   "name": "goofit"
  },
  "language_info": {
   "codemirror_mode": {
    "name": "ipython",
    "version": 3
   },
   "file_extension": ".py",
   "mimetype": "text/x-python",
   "name": "python",
   "nbconvert_exporter": "python",
   "pygments_lexer": "ipython3",
   "version": "3.7.6"
  }
 },
 "nbformat": 4,
 "nbformat_minor": 2
}
