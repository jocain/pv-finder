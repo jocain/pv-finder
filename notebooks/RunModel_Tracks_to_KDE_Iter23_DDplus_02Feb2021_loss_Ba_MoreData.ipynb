{
 "cells": [
  {
   "cell_type": "code",
   "execution_count": 1,
   "metadata": {},
   "outputs": [],
   "source": [
    "##%matplotlib widget\n",
    "## with %matplotlib notebook: seems to require ipympl as part of environment, either\n",
    "## part of the conda environment or \"pip install ipympl\"\n",
    "## otherwise, does not show ANY plots in note\"book, plt.savefig() works\n",
    "%matplotlib notebook  \n",
    "##%matplotlib inline    ## --plt.savefig()  works, but re-sizing does NOT\n"
   ]
  },
  {
   "cell_type": "markdown",
   "metadata": {},
   "source": [
    "This notebook is the second attempt to read in track information and use it to predict the KDE used as input to PvFinder. This time, we are reading in poca KDEs rather than the original KDEs. \n",
    "\n",
    "collectdata_kde_C.py uses poca_z, poca_x, poca_y, major_axis_x, major_axis_y, and major_axis_z as the six track parameters (for the moment)\n"
   ]
  },
  {
   "cell_type": "markdown",
   "metadata": {},
   "source": [
    "Check the current GPU usage. Please try to be nice!"
   ]
  },
  {
   "cell_type": "code",
   "execution_count": 2,
   "metadata": {},
   "outputs": [
    {
     "name": "stdout",
     "output_type": "stream",
     "text": [
      "Tue Feb  2 14:02:56 2021       \r\n",
      "+-----------------------------------------------------------------------------+\r\n",
      "| NVIDIA-SMI 440.64.00    Driver Version: 440.64.00    CUDA Version: 10.2     |\r\n",
      "|-------------------------------+----------------------+----------------------+\r\n",
      "| GPU  Name        Persistence-M| Bus-Id        Disp.A | Volatile Uncorr. ECC |\r\n",
      "| Fan  Temp  Perf  Pwr:Usage/Cap|         Memory-Usage | GPU-Util  Compute M. |\r\n",
      "|===============================+======================+======================|\r\n",
      "|   0  TITAN V             Off  | 00000000:03:00.0 Off |                  N/A |\r\n",
      "| 28%   31C    P8    22W / 250W |      0MiB / 12066MiB |      0%      Default |\r\n",
      "+-------------------------------+----------------------+----------------------+\r\n",
      "|   1  Tesla P100-PCIE...  Off  | 00000000:83:00.0 Off |                    0 |\r\n",
      "| N/A   32C    P0    33W / 250W |      0MiB / 16280MiB |      0%      Default |\r\n",
      "+-------------------------------+----------------------+----------------------+\r\n",
      "|   2  TITAN V             Off  | 00000000:84:00.0 Off |                  N/A |\r\n",
      "| 22%   37C    P0    34W / 250W |      0MiB / 12066MiB |      8%      Default |\r\n",
      "+-------------------------------+----------------------+----------------------+\r\n",
      "                                                                               \r\n",
      "+-----------------------------------------------------------------------------+\r\n",
      "| Processes:                                                       GPU Memory |\r\n",
      "|  GPU       PID   Type   Process name                             Usage      |\r\n",
      "|=============================================================================|\r\n",
      "|  No running processes found                                                 |\r\n",
      "+-----------------------------------------------------------------------------+\r\n"
     ]
    }
   ],
   "source": [
    "!nvidia-smi"
   ]
  },
  {
   "cell_type": "markdown",
   "metadata": {},
   "source": [
    "> **WARNING**: The card numbers here are *not* the same as in CUDA. You have been warned."
   ]
  },
  {
   "cell_type": "markdown",
   "metadata": {},
   "source": [
    "This notebook is first attempt to read in track information and use it to predict the KDE used as input to PvFinder.\n"
   ]
  },
  {
   "cell_type": "markdown",
   "metadata": {},
   "source": [
    "## Imports"
   ]
  },
  {
   "cell_type": "code",
   "execution_count": 3,
   "metadata": {},
   "outputs": [],
   "source": [
    "import matplotlib.pyplot as plt\n",
    "import numpy as np\n",
    "import time\n",
    "import torch\n",
    "import pandas as pd\n",
    "\n",
    "# Python 3 standard library\n",
    "from pathlib import Path\n",
    "\n",
    "##from torchsummary import summary"
   ]
  },
  {
   "cell_type": "markdown",
   "metadata": {},
   "source": [
    "### Set up local parameters"
   ]
  },
  {
   "cell_type": "code",
   "execution_count": 4,
   "metadata": {},
   "outputs": [],
   "source": [
    "n_epochs = 80\n",
    "\n",
    "folder = '02Feb_DDplus_loss_Ba_iter23_floatAll_80epochs_1p5em5_4xwill'\n",
    "name   = folder\n",
    "\n",
    "# Make an output folder named \"name\" (change if you want)\n",
    "\n",
    "## Special instructions for those working on goofy at UC\n",
    "## Please be very careful to make sure that your folder\n",
    "## does not live in a subdirectory of your home directory\n",
    "## this disk has very little capacity. Instead, use \n",
    "## a subdirectory in /share/lazy with a symbolic link to\n",
    "## it in this (the notebooks) subdirectory\n",
    "folder = 'ML_dir/' + folder\n",
    "output = Path(folder)\n",
    "\n",
    "\n",
    "# Size of batches\n",
    "batch_size = 64 ## batch_size = 24 ---> 4763MiB / 12066MiB on Titan V\n",
    "# How fast to learn\n",
    "learning_rate = 1.5e-5"
   ]
  },
  {
   "cell_type": "markdown",
   "metadata": {},
   "source": [
    "Make the output directory if it does not exist:"
   ]
  },
  {
   "cell_type": "code",
   "execution_count": 5,
   "metadata": {},
   "outputs": [],
   "source": [
    "output.mkdir(exist_ok=True)"
   ]
  },
  {
   "cell_type": "markdown",
   "metadata": {},
   "source": [
    "## Get the helper functions\n",
    "\n",
    "Add the directory with the model\n",
    "definitions to the path so we can import from it:\n",
    "\n",
    "> When you type `import X`,\n",
    "Python searches `sys.path` for a python\n",
    "file named `X.py` to import. So we need to add the model directory to the path."
   ]
  },
  {
   "cell_type": "code",
   "execution_count": 6,
   "metadata": {
    "scrolled": true
   },
   "outputs": [],
   "source": [
    "from model.collectdata_kde_Ellipsoids import collect_t2kde_data\n",
    "\n",
    "##  It takes 9 input features (poca centers + (A,B,C,D,E,F)) . \n",
    "from model.models_kde import TracksToKDE_Ellipsoids_DDplus as Model\n",
    "\n",
    "# kde_loss_Ba is a Chi2 loss (go and look at it!)\n",
    "from model.kde_loss_Ba import Loss\n",
    "\n",
    "from model.training_kde import trainNet, select_gpu, Results\n",
    "from model.plots import dual_train_plots, replace_in_ax"
   ]
  },
  {
   "cell_type": "code",
   "execution_count": 7,
   "metadata": {},
   "outputs": [],
   "source": [
    "# This gets built up during the run - do not rerun this cell\n",
    "results = pd.DataFrame([], columns=Results._fields)"
   ]
  },
  {
   "cell_type": "markdown",
   "metadata": {},
   "source": [
    "Set up Torch device configuration. All tensors and model parameters need to know where to be put.\n",
    "This takes a BUS ID number: The BUS ID is the same as the listing at the top of this script."
   ]
  },
  {
   "cell_type": "code",
   "execution_count": 8,
   "metadata": {},
   "outputs": [
    {
     "name": "stdout",
     "output_type": "stream",
     "text": [
      "1 available GPUs (initially using device 0):\n",
      "  0 TITAN V\n"
     ]
    }
   ],
   "source": [
    "# either 0 or 2 on goofy (i.e. TITAN V) [1 or 2 on sleepy RTX 2080TI]\n",
    "device = select_gpu(2)\n",
    "##device = \"cpu\""
   ]
  },
  {
   "cell_type": "markdown",
   "metadata": {},
   "source": [
    "## Loading data\n",
    "\n",
    "Load the dataset, split into parts, then move to device (see `collectdata.py` in the `../model` directory)"
   ]
  },
  {
   "cell_type": "markdown",
   "metadata": {},
   "source": [
    "# Preparing the model"
   ]
  },
  {
   "cell_type": "markdown",
   "metadata": {},
   "source": [
    "Prepare a model, use multiple GPUs if they are VISIBLE, and move the model to the device."
   ]
  },
  {
   "cell_type": "code",
   "execution_count": 9,
   "metadata": {
    "scrolled": true
   },
   "outputs": [],
   "source": [
    "##print(\"Let's use\", torch.cuda.device_count(), \"GPUs!\")\n",
    "##if torch.cuda.device_count() > 1:\n",
    "##    model = torch.nn.DataParallel(model)"
   ]
  },
  {
   "cell_type": "code",
   "execution_count": 10,
   "metadata": {},
   "outputs": [
    {
     "name": "stdout",
     "output_type": "stream",
     "text": [
      "ct, child =  0    Linear(in_features=9, out_features=50, bias=True)\n",
      "ct, child =  1    Linear(in_features=50, out_features=50, bias=True)\n",
      "ct, child =  2    Linear(in_features=50, out_features=50, bias=True)\n",
      "ct, child =  3    Linear(in_features=50, out_features=50, bias=True)\n",
      "ct, child =  4    Linear(in_features=50, out_features=50, bias=True)\n",
      "ct, child =  5    Linear(in_features=50, out_features=50, bias=True)\n",
      "ct, child =  6    Linear(in_features=50, out_features=50, bias=True)\n",
      "ct, child =  7    Linear(in_features=50, out_features=50, bias=True)\n",
      "ct, child =  8    Linear(in_features=50, out_features=50, bias=True)\n",
      "ct, child =  9    Linear(in_features=50, out_features=50, bias=True)\n",
      "ct, child =  10    Linear(in_features=50, out_features=50, bias=True)\n",
      "ct, child =  11    Linear(in_features=50, out_features=16000, bias=True)\n",
      "ct, child =  12    Conv1d(4, 25, kernel_size=(25,), stride=(1,), padding=(12,))\n",
      "ct, child =  13    Conv1d(25, 1, kernel_size=(5,), stride=(1,), padding=(2,))\n",
      "ct, child =  14    Linear(in_features=4000, out_features=4000, bias=True)\n",
      "ct, child =  15    Conv1d(25, 1, kernel_size=(15,), stride=(1,), padding=(7,))\n",
      "ct, child =  16    Dropout(p=0.15, inplace=False)\n",
      "ct, child =  17    Dropout(p=0.15, inplace=False)\n"
     ]
    }
   ],
   "source": [
    "## a comment on the web at https://pytorch.org/docs/stable/optim.html says\n",
    "\"\"\"\n",
    "If you need to move a model to GPU via .cuda(), please do so before constructing optimizers for it. \n",
    "Parameters of a model after .cuda() will be different objects with those before the call.\n",
    "\n",
    "In general, you should make sure that optimized parameters live in consistent locations when \n",
    "optimizers are constructed and used.\n",
    "\"\"\"\n",
    "## so move this here (although we are using model.to(device) not explicitly using .cuda()\n",
    "\n",
    "nOut1 = 50\n",
    "nOut2 = 50\n",
    "nOut3 = 50\n",
    "nOut4 = 50\n",
    "nOut5 = 50\n",
    "nOut6 = 50\n",
    "nOut7 = 50\n",
    "nOut8 = 50\n",
    "nOut9 = 50\n",
    "nOut10 = 50\n",
    "nOut11 = 50\n",
    "latentChannels = 4\n",
    "model = Model(nOut1,nOut2,nOut3,nOut4,nOut5,nOut6,nOut7,nOut8,nOut9,nOut10,nOut11,latentChannels)\n",
    "\n",
    "##summary(model, input_size=(4, 4000))\n",
    "##print(model.parameters)\n",
    "\n",
    "## add the following code to allow the user to freeze the some of the weights corresponding \n",
    "## to those taken from an earlier model trained with the original target histograms\n",
    "## presumably -- this leaves either the perturbative filter \"fixed\" and lets the \n",
    "## learning focus on the non-perturbative features, so get started faster, or vice versa\n",
    "ct = 0\n",
    "for child in model.children():\n",
    "  print('ct, child = ',ct, \"  \", child)\n",
    "  if ct < 0:\n",
    "    print(\"     About to set param.requires_grad=False for ct = \", ct, \"params\")\n",
    "    for param in child.parameters():\n",
    "        # fixing parameters\n",
    "        param.requires_grad = False \n",
    "  ct += 1\n",
    "##  mds 200121 loss = Loss(epsilon=1e-5,coefficient=1.0)\n",
    "##  loss = Loss(epsilon=1e-5,coefficient=2.5)\n",
    "##loss = Loss(epsilon=3e-5, debug=False)\n",
    "loss = Loss(epsilon=3e-5)"
   ]
  },
  {
   "cell_type": "markdown",
   "metadata": {},
   "source": [
    "Let's move the model's weight matricies to the GPU:"
   ]
  },
  {
   "cell_type": "code",
   "execution_count": 11,
   "metadata": {
    "scrolled": true
   },
   "outputs": [],
   "source": [
    "model = model.to(device)"
   ]
  },
  {
   "cell_type": "code",
   "execution_count": 12,
   "metadata": {
    "scrolled": true
   },
   "outputs": [],
   "source": [
    "optimizer = torch.optim.Adam(model.parameters(), lr=learning_rate)\n",
    "##optimizer = torch.optim.SGD(model.parameters(), lr=learning_rate)"
   ]
  },
  {
   "cell_type": "code",
   "execution_count": 13,
   "metadata": {
    "scrolled": true
   },
   "outputs": [
    {
     "name": "stdout",
     "output_type": "stream",
     "text": [
      "output =  ML_dir/02Feb_DDplus_loss_Ba_iter23_floatAll_80epochs_1p5em5_4xwill\n",
      "for model_dict\n",
      "index, k =   0    layer1.weight\n",
      "index, k =   1    layer1.bias\n",
      "index, k =   2    layer2.weight\n",
      "index, k =   3    layer2.bias\n",
      "index, k =   4    layer3.weight\n",
      "index, k =   5    layer3.bias\n",
      "index, k =   6    layer4.weight\n",
      "index, k =   7    layer4.bias\n",
      "index, k =   8    layer5.weight\n",
      "index, k =   9    layer5.bias\n",
      "index, k =   10    layer6.weight\n",
      "index, k =   11    layer6.bias\n",
      "index, k =   12    layer7.weight\n",
      "index, k =   13    layer7.bias\n",
      "index, k =   14    layer8.weight\n",
      "index, k =   15    layer8.bias\n",
      "index, k =   16    layer9.weight\n",
      "index, k =   17    layer9.bias\n",
      "index, k =   18    layer10.weight\n",
      "index, k =   19    layer10.bias\n",
      "index, k =   20    layer11.weight\n",
      "index, k =   21    layer11.bias\n",
      "index, k =   22    layer12new.weight\n",
      "index, k =   23    layer12new.bias\n",
      "index, k =   24    conv1.weight\n",
      "index, k =   25    conv1.bias\n",
      "index, k =   26    conv2.weight\n",
      "index, k =   27    conv2.bias\n",
      "index, k =   28    fc1.weight\n",
      "index, k =   29    fc1.bias\n",
      "index, k =   30    finalFilter.weight\n",
      "index, k =   31    finalFilter.bias\n",
      "dict_name =  ML_dir/01Feb_DDplus_loss_Ba_iter22_floatAll_40epochs_1p5em5_4xwill/01Feb_DDplus_loss_Ba_iter22_floatAll_40epochs_1p5em5_4xwill_final.pyt\n",
      " \n",
      "  for pretrained_dict\n",
      "index, k =   0    layer1.weight\n",
      "index, k =   1    layer1.bias\n",
      "index, k =   2    layer2.weight\n",
      "index, k =   3    layer2.bias\n",
      "index, k =   4    layer3.weight\n",
      "index, k =   5    layer3.bias\n",
      "index, k =   6    layer4.weight\n",
      "index, k =   7    layer4.bias\n",
      "index, k =   8    layer5.weight\n",
      "index, k =   9    layer5.bias\n",
      "index, k =   10    layer6.weight\n",
      "index, k =   11    layer6.bias\n",
      "index, k =   12    layer7.weight\n",
      "index, k =   13    layer7.bias\n",
      "index, k =   14    layer8.weight\n",
      "index, k =   15    layer8.bias\n",
      "index, k =   16    layer9.weight\n",
      "index, k =   17    layer9.bias\n",
      "index, k =   18    layer10.weight\n",
      "index, k =   19    layer10.bias\n",
      "index, k =   20    layer11.weight\n",
      "index, k =   21    layer11.bias\n",
      "index, k =   22    layer12new.weight\n",
      "index, k =   23    layer12new.bias\n",
      "index, k =   24    conv1.weight\n",
      "index, k =   25    conv1.bias\n",
      "index, k =   26    conv2.weight\n",
      "index, k =   27    conv2.bias\n",
      "index, k =   28    fc1.weight\n",
      "index, k =   29    fc1.bias\n",
      "index, k =   30    finalFilter.weight\n",
      "index, k =   31    finalFilter.bias\n",
      "pretrained_dict iterated\n"
     ]
    },
    {
     "data": {
      "text/plain": [
       "<All keys matched successfully>"
      ]
     },
     "execution_count": 13,
     "metadata": {},
     "output_type": "execute_result"
    }
   ],
   "source": [
    "print('output = ',output)\n",
    "##print('oldOutput = ',oldOutput)\n",
    "##  use the first four layers from a pre-existing model\n",
    "##  see example at https://discuss.pytorch.org/t/how-to-load-part-of-pre-trained-model/1113\n",
    "\n",
    "##   ML -> /share/lazy/sokoloff/ML\n",
    "model_dict = model.state_dict()\n",
    "## mds 190725 for debugging\n",
    "print(\"for model_dict\")\n",
    "index = 0\n",
    "for k,v in model_dict.items():\n",
    "    print(\"index, k =  \",index,\"  \",k)\n",
    "    index = index+1\n",
    "##    print(\"value = \", v)\n",
    " \n",
    "updated_dict = model_dict\n",
    "##print(\"updated_dict = \",updated_dict)\n",
    "## when starting \"ab initio\", reduce biases as the bias gets summed for each track\n",
    "## contributing to the predicted KDE\n",
    "updated_dict[\"layer1.bias\"] = 0.005*model_dict[\"layer1.bias\"]\n",
    "updated_dict[\"layer2.bias\"] = 0.005*model_dict[\"layer2.bias\"]\n",
    "updated_dict[\"layer3.bias\"] = 0.005*model_dict[\"layer3.bias\"]\n",
    "updated_dict[\"layer4.bias\"] = 0.005*model_dict[\"layer4.bias\"]\n",
    "updated_dict[\"layer5.bias\"] = 0.005*model_dict[\"layer5.bias\"]\n",
    "updated_dict[\"layer6.bias\"] = 0.005*model_dict[\"layer6.bias\"]\n",
    "updated_dict[\"layer7.bias\"] = 0.005*model_dict[\"layer7.bias\"]\n",
    "updated_dict[\"layer8.bias\"] = 0.005*model_dict[\"layer8.bias\"]\n",
    "updated_dict[\"layer9.bias\"] = 0.005*model_dict[\"layer9.bias\"]\n",
    "updated_dict[\"layer10.bias\"] = 0.005*model_dict[\"layer10.bias\"]\n",
    "updated_dict[\"layer11.bias\"] = 0.005*model_dict[\"layer11.bias\"]\n",
    "\n",
    "model.load_state_dict(updated_dict,strict=False)\n",
    "\n",
    "model_dict = model.state_dict()\n",
    "##print(\"updated model_dict = \",model_dict)\n",
    "\n",
    "## print(\" \\n\",\"  for pretrained_dict\")\n",
    "## index = 0\n",
    "##for k,v in pretrained_dict.items():\n",
    "##    print(\"index, k =  \",index,\"  \",k)\n",
    "##    index = index+1\n",
    "## mds  \n",
    "\n",
    "##pretrained_dict = torch.load('ML/29July2020_Trks_to_KDE_C_lossB_100epochs_b64_1m3_nOut_50x50/29July2020_Trks_to_KDE_C_lossB_100epochs_b64_1m3_nOut_50x50_final.pyt')\n",
    "##print(\"model_dict instantiated\")\n",
    "# 1. filter out unnecessary keys\n",
    "##pretrained_dict = {k: v for k, v in pretrained_dict.items() if k in model_dict}\n",
    "##print(\"pretrained_dict iterated\")\n",
    "# 2. overwrite entries in the existing state dict\n",
    "##model_dict.update(pretrained_dict) \n",
    "##\n",
    "#   when starting from a model with a fully connected last layer rather than a convolutional layer\n",
    "# 3. load the new state dict\n",
    "#   need to use strict=False as the two models state model attributes do not agree exactly\n",
    "#   see https://pytorch.org/docs/master/_modules/torch/nn/modules/module.html#Module.load_state_dict\n",
    "\n",
    "##model.load_state_dict(pretrained_dict,strict=False)\n",
    "\n",
    "## print('model_dict =    ', model_dict)\n",
    "\n",
    "## finished at training cost = 1.46, validation cost = 1.50\n",
    "##d_folder = '25December__DDplus_loss_Ba_iter7_floatAll_800epochs_4em6'\n",
    "d_folder = '01Feb_DDplus_loss_Ba_iter22_floatAll_40epochs_1p5em5_4xwill'\n",
    "d_name = d_folder\n",
    "##  for 24Jan_DDplus_loss_Ba_iter17_floatAll_150epochs_1p5em5_4xwill use suffix 87\n",
    "##  as this is the last epoch that ran before I killed the job (don't ask)\n",
    "suffix = 'final'\n",
    "dict_name = 'ML_dir/' + d_folder + '/' + d_name + '_'+ suffix + '.pyt'\n",
    "print('dict_name = ',dict_name)\n",
    "pretrained_dict = torch.load(dict_name)\n",
    "\n",
    "print(\" \")\n",
    "print(\"  for pretrained_dict\")\n",
    "index = 0\n",
    "for k,v in pretrained_dict.items():\n",
    "    print(\"index, k =  \",index,\"  \",k)\n",
    "    index = index+1\n",
    " \n",
    "\n",
    "##print(\"model_dict instantiated\")\n",
    "# 1. filter out unnecessary keys\n",
    "pretrained_dict = {k: v for k, v in pretrained_dict.items() if k in model_dict}\n",
    "print(\"pretrained_dict iterated\")\n",
    "# 2. overwrite entries in the existing state dict\n",
    "model_dict.update(pretrained_dict) \n",
    "##\n",
    "#   when starting from a model with a fully connected last layer rather than a convolutional layer\n",
    "# 3. load the new state dict\n",
    "#   need to use strict=False as the two models state model attributes do not agree exactly\n",
    "#   see https://pytorch.org/docs/master/_modules/torch/nn/modules/module.html#Module.load_state_dict\n",
    "\n",
    "model.load_state_dict(pretrained_dict,strict=False)\n",
    "\n"
   ]
  },
  {
   "cell_type": "code",
   "execution_count": 14,
   "metadata": {},
   "outputs": [],
   "source": [
    "##print('validation.dataset.tensors = ',validation.dataset.tensors)\n",
    "fig_size = plt.rcParams[\"figure.figsize\"]\n",
    "fig_size[0] = 10\n",
    "fig_size[1] = 4\n",
    "plt.rcParams[\"figure.figsize\"] = fig_size"
   ]
  },
  {
   "cell_type": "code",
   "execution_count": 15,
   "metadata": {},
   "outputs": [
    {
     "name": "stdout",
     "output_type": "stream",
     "text": [
      "Loading data...\n",
      "pocaMx.shape =  (80000,)\n",
      "nEvts =  80000\n",
      "len(pocaMx[0]) =  199\n",
      "len(pocaMx[1]) =  25\n",
      "len(pocaMx[2]) =  369\n",
      "len(pocaMx[3]) =  143\n",
      "len(pocaMx[4]) =  160\n",
      "majorAxis.shape =  (80000, 3)\n",
      "minorAxis_1.shape =  (80000, 3)\n",
      "minorAxis_2.shape =  (80000, 3)\n",
      "have entered six_ellipsoid_parameters\n",
      "  \n",
      " \n",
      "  nEvts =  80000\n",
      " iEvt, nTrks =  0 199\n",
      " iEvt, nTrks =  1 25\n",
      " iEvt, nTrks =  2 369\n",
      " iEvt, nTrks =  3 143\n",
      " iEvt, nTrks =  4 160\n",
      " iEvt, nTrks =  5 260\n",
      " iEvt, nTrks =  6 237\n",
      " iEvt, nTrks =  7 327\n",
      " iEvt, nTrks =  8 178\n",
      " iEvt, nTrks =  9 106\n",
      "A.shape =  (80000,)\n",
      "majorAxis[iTrk][0][0] =  0.00045611936\n",
      "majorAxis[iTrk][1][0] =  -4.8292455e-05\n",
      "majorAxis[iTrk][2][0] =  0.090019904\n",
      "minorAxis_1[iTrk][0][0] =  -1.8602173\n",
      "minorAxis_1[iTrk][1][0] =  -17.569641\n",
      "minorAxis_1[iTrk][2][0] =  4.7891795e-08\n",
      "minorAxis_2[iTrk][0][0] =  -17.569414\n",
      "minorAxis_2[iTrk][1][0] =  1.8601931\n",
      "minorAxis_2[iTrk][2][0] =  0.0900199\n",
      "  \n",
      "majorAxis[iTrk][0][0] =  0.002360258\n",
      "majorAxis[iTrk][1][0] =  -0.007426616\n",
      "majorAxis[iTrk][2][0] =  0.3710108\n",
      "minorAxis_1[iTrk][0][0] =  -16.837948\n",
      "minorAxis_1[iTrk][1][0] =  -5.3512807\n",
      "minorAxis_1[iTrk][2][0] =  8.157131e-09\n",
      "minorAxis_2[iTrk][0][0] =  -5.3501005\n",
      "minorAxis_2[iTrk][1][0] =  16.834236\n",
      "minorAxis_2[iTrk][2][0] =  0.3710108\n",
      "  \n",
      "majorAxis[iTrk][0][0] =  6.220712e-05\n",
      "majorAxis[iTrk][1][0] =  -4.4594188e-05\n",
      "majorAxis[iTrk][2][0] =  0.036773544\n",
      "minorAxis_1[iTrk][0][0] =  10.293747\n",
      "minorAxis_1[iTrk][1][0] =  14.359369\n",
      "minorAxis_1[iTrk][2][0] =  1.571041e-06\n",
      "minorAxis_2[iTrk][0][0] =  14.359338\n",
      "minorAxis_2[iTrk][1][0] =  -10.293725\n",
      "minorAxis_2[iTrk][2][0] =  -0.03677354\n",
      "  \n",
      "majorAxis[iTrk][0][0] =  0.0033452737\n",
      "majorAxis[iTrk][1][0] =  0.00013028442\n",
      "majorAxis[iTrk][2][0] =  0.2431933\n",
      "minorAxis_1[iTrk][0][0] =  0.6875674\n",
      "minorAxis_1[iTrk][1][0] =  -17.65446\n",
      "minorAxis_1[iTrk][2][0] =  -6.6602626e-09\n",
      "minorAxis_2[iTrk][0][0] =  -17.652788\n",
      "minorAxis_2[iTrk][1][0] =  -0.68750226\n",
      "minorAxis_2[iTrk][2][0] =  0.2431933\n",
      "  \n",
      "majorAxis[iTrk][0][0] =  -0.00068196515\n",
      "majorAxis[iTrk][1][0] =  -0.00044562915\n",
      "majorAxis[iTrk][2][0] =  0.119970225\n",
      "minorAxis_1[iTrk][0][0] =  9.664597\n",
      "minorAxis_1[iTrk][1][0] =  -14.790141\n",
      "minorAxis_1[iTrk][2][0] =  1.9819232e-08\n",
      "minorAxis_2[iTrk][0][0] =  -14.789802\n",
      "minorAxis_2[iTrk][1][0] =  -9.664374\n",
      "minorAxis_2[iTrk][2][0] =  -0.11997023\n",
      "  \n",
      "majorAxis[iTrk][0][0] =  -8.245073e-05\n",
      "majorAxis[iTrk][1][0] =  0.00015860004\n",
      "majorAxis[iTrk][2][0] =  0.05619731\n",
      "minorAxis_1[iTrk][0][0] =  -15.676071\n",
      "minorAxis_1[iTrk][1][0] =  -8.149452\n",
      "minorAxis_1[iTrk][2][0] =  4.1105773e-07\n",
      "minorAxis_2[iTrk][0][0] =  -8.14941\n",
      "minorAxis_2[iTrk][1][0] =  15.675991\n",
      "minorAxis_2[iTrk][2][0] =  -0.056197315\n",
      "  \n",
      "majorAxis[iTrk][0][0] =  -0.00015151131\n",
      "majorAxis[iTrk][1][0] =  0.00067339616\n",
      "majorAxis[iTrk][2][0] =  0.11042937\n",
      "minorAxis_1[iTrk][0][0] =  17.236937\n",
      "minorAxis_1[iTrk][1][0] =  3.8782384\n",
      "minorAxis_1[iTrk][2][0] =  2.3217373e-08\n",
      "minorAxis_2[iTrk][0][0] =  3.8781626\n",
      "minorAxis_2[iTrk][1][0] =  -17.236599\n",
      "minorAxis_2[iTrk][2][0] =  0.11042936\n",
      "  \n",
      "majorAxis[iTrk][0][0] =  -7.577422e-05\n",
      "majorAxis[iTrk][1][0] =  -0.00036802414\n",
      "majorAxis[iTrk][2][0] =  0.08147708\n",
      "minorAxis_1[iTrk][0][0] =  -17.304853\n",
      "minorAxis_1[iTrk][1][0] =  3.5629773\n",
      "minorAxis_1[iTrk][2][0] =  5.80501e-09\n",
      "minorAxis_2[iTrk][0][0] =  3.5629392\n",
      "minorAxis_2[iTrk][1][0] =  17.304668\n",
      "minorAxis_2[iTrk][2][0] =  0.081477076\n",
      "  \n",
      "majorAxis[iTrk][0][0] =  0.00013397264\n",
      "majorAxis[iTrk][1][0] =  0.00094400026\n",
      "majorAxis[iTrk][2][0] =  0.12978876\n",
      "minorAxis_1[iTrk][0][0] =  17.492561\n",
      "minorAxis_1[iTrk][1][0] =  -2.4825466\n",
      "minorAxis_1[iTrk][2][0] =  1.1329301e-08\n",
      "minorAxis_2[iTrk][0][0] =  -2.4824798\n",
      "minorAxis_2[iTrk][1][0] =  -17.492088\n",
      "minorAxis_2[iTrk][2][0] =  0.12978874\n",
      "  \n",
      "majorAxis[iTrk][0][0] =  0.00043501743\n",
      "majorAxis[iTrk][1][0] =  -0.0016521378\n",
      "majorAxis[iTrk][2][0] =  0.17373301\n",
      "minorAxis_1[iTrk][0][0] =  -17.0855\n",
      "minorAxis_1[iTrk][1][0] =  -4.4987106\n",
      "minorAxis_1[iTrk][2][0] =  -7.7275175e-08\n",
      "minorAxis_2[iTrk][0][0] =  -4.4984937\n",
      "minorAxis_2[iTrk][1][0] =  17.084677\n",
      "minorAxis_2[iTrk][2][0] =  0.17373303\n",
      "  \n",
      "len(X) =  80000\n",
      "len(Xlist) =  1\n",
      "Loaded /share/lazy/will/data/June30_2020_80k_1.h5 in 151.4 s\n",
      "pocaMx.shape =  (80000,)\n",
      "nEvts =  80000\n",
      "len(pocaMx[0]) =  222\n",
      "len(pocaMx[1]) =  133\n",
      "len(pocaMx[2]) =  259\n",
      "len(pocaMx[3]) =  114\n",
      "len(pocaMx[4]) =  143\n",
      "majorAxis.shape =  (80000, 3)\n",
      "minorAxis_1.shape =  (80000, 3)\n",
      "minorAxis_2.shape =  (80000, 3)\n",
      "have entered six_ellipsoid_parameters\n",
      "  \n",
      " \n",
      "  nEvts =  80000\n",
      " iEvt, nTrks =  0 222\n",
      " iEvt, nTrks =  1 133\n",
      " iEvt, nTrks =  2 259\n",
      " iEvt, nTrks =  3 114\n",
      " iEvt, nTrks =  4 143\n",
      " iEvt, nTrks =  5 136\n",
      " iEvt, nTrks =  6 397\n",
      " iEvt, nTrks =  7 370\n",
      " iEvt, nTrks =  8 97\n",
      " iEvt, nTrks =  9 67\n",
      "A.shape =  (80000,)\n",
      "majorAxis[iTrk][0][0] =  -0.001036478\n",
      "majorAxis[iTrk][1][0] =  0.0009833863\n",
      "majorAxis[iTrk][2][0] =  0.15887721\n",
      "minorAxis_1[iTrk][0][0] =  -12.160475\n",
      "minorAxis_1[iTrk][1][0] =  -12.817002\n",
      "minorAxis_1[iTrk][2][0] =  0.0\n",
      "minorAxis_2[iTrk][0][0] =  -12.816484\n",
      "minorAxis_2[iTrk][1][0] =  12.159985\n",
      "minorAxis_2[iTrk][2][0] =  -0.15887721\n",
      "  \n",
      "majorAxis[iTrk][0][0] =  0.0016579849\n",
      "majorAxis[iTrk][1][0] =  0.0020989499\n",
      "majorAxis[iTrk][2][0] =  0.21738033\n",
      "minorAxis_1[iTrk][0][0] =  -13.864233\n",
      "minorAxis_1[iTrk][1][0] =  10.95152\n",
      "minorAxis_1[iTrk][2][0] =  -3.3017489e-09\n",
      "minorAxis_2[iTrk][0][0] =  10.95069\n",
      "minorAxis_2[iTrk][1][0] =  13.863184\n",
      "minorAxis_2[iTrk][2][0] =  -0.21738033\n",
      "  \n",
      "majorAxis[iTrk][0][0] =  0.00012481198\n",
      "majorAxis[iTrk][1][0] =  -0.00028747538\n",
      "majorAxis[iTrk][2][0] =  0.07441149\n",
      "minorAxis_1[iTrk][0][0] =  -16.206305\n",
      "minorAxis_1[iTrk][1][0] =  -7.036224\n",
      "minorAxis_1[iTrk][2][0] =  5.3456716e-08\n",
      "minorAxis_2[iTrk][0][0] =  -7.0361605\n",
      "minorAxis_2[iTrk][1][0] =  16.20616\n",
      "minorAxis_2[iTrk][2][0] =  0.07441148\n",
      "  \n",
      "majorAxis[iTrk][0][0] =  -0.007920195\n",
      "majorAxis[iTrk][1][0] =  -0.009694931\n",
      "majorAxis[iTrk][2][0] =  0.47021532\n",
      "minorAxis_1[iTrk][0][0] =  -13.682467\n",
      "minorAxis_1[iTrk][1][0] =  11.177781\n",
      "minorAxis_1[iTrk][2][0] =  1.8638048e-10\n",
      "minorAxis_2[iTrk][0][0] =  11.173822\n",
      "minorAxis_2[iTrk][1][0] =  13.677622\n",
      "minorAxis_2[iTrk][2][0] =  0.47021535\n",
      "  \n",
      "majorAxis[iTrk][0][0] =  0.00038854493\n",
      "majorAxis[iTrk][1][0] =  0.0009230774\n",
      "majorAxis[iTrk][2][0] =  0.13301943\n",
      "minorAxis_1[iTrk][0][0] =  -16.284061\n",
      "minorAxis_1[iTrk][1][0] =  6.854344\n",
      "minorAxis_1[iTrk][2][0] =  2.2469074e-07\n",
      "minorAxis_2[iTrk][0][0] =  6.8541493\n",
      "minorAxis_2[iTrk][1][0] =  16.283602\n",
      "minorAxis_2[iTrk][2][0] =  -0.13301945\n",
      "  \n",
      "majorAxis[iTrk][0][0] =  -5.6093595e-05\n",
      "majorAxis[iTrk][1][0] =  0.000114469876\n",
      "majorAxis[iTrk][2][0] =  0.04745733\n",
      "minorAxis_1[iTrk][0][0] =  15.865369\n",
      "minorAxis_1[iTrk][1][0] =  7.774496\n",
      "minorAxis_1[iTrk][2][0] =  1.8465234e-06\n",
      "minorAxis_2[iTrk][0][0] =  7.774468\n",
      "minorAxis_2[iTrk][1][0] =  -15.865313\n",
      "minorAxis_2[iTrk][2][0] =  0.04745733\n",
      "  \n",
      "majorAxis[iTrk][0][0] =  9.375396e-05\n",
      "majorAxis[iTrk][1][0] =  0.0002926058\n",
      "majorAxis[iTrk][2][0] =  0.07367872\n",
      "minorAxis_1[iTrk][0][0] =  -16.825275\n",
      "minorAxis_1[iTrk][1][0] =  5.390994\n",
      "minorAxis_1[iTrk][2][0] =  -2.1861728e-08\n",
      "minorAxis_2[iTrk][0][0] =  5.3909473\n",
      "minorAxis_2[iTrk][1][0] =  16.825129\n",
      "minorAxis_2[iTrk][2][0] =  -0.07367872\n",
      "  \n",
      "majorAxis[iTrk][0][0] =  -1.1543522e-06\n",
      "majorAxis[iTrk][1][0] =  2.8112001e-05\n",
      "majorAxis[iTrk][2][0] =  0.022295665\n",
      "minorAxis_1[iTrk][0][0] =  -17.652967\n",
      "minorAxis_1[iTrk][1][0] =  -0.7248769\n",
      "minorAxis_1[iTrk][2][0] =  1.7815448e-07\n",
      "minorAxis_2[iTrk][0][0] =  -0.7248763\n",
      "minorAxis_2[iTrk][1][0] =  17.652954\n",
      "minorAxis_2[iTrk][2][0] =  -0.022295661\n",
      "  \n",
      "majorAxis[iTrk][0][0] =  -0.2612214\n",
      "majorAxis[iTrk][1][0] =  0.83076316\n",
      "majorAxis[iTrk][2][0] =  3.8745012\n",
      "minorAxis_1[iTrk][0][0] =  -16.85429\n",
      "minorAxis_1[iTrk][1][0] =  -5.299587\n",
      "minorAxis_1[iTrk][2][0] =  2.0865195e-11\n",
      "minorAxis_2[iTrk][0][0] =  -5.1705856\n",
      "minorAxis_2[iTrk][1][0] =  16.444027\n",
      "minorAxis_2[iTrk][2][0] =  -3.874501\n",
      "  \n",
      "majorAxis[iTrk][0][0] =  -0.057592034\n",
      "majorAxis[iTrk][1][0] =  0.06503555\n",
      "majorAxis[iTrk][2][0] =  1.2373537\n",
      "minorAxis_1[iTrk][0][0] =  13.227038\n",
      "minorAxis_1[iTrk][1][0] =  11.713163\n",
      "minorAxis_1[iTrk][2][0] =  1.7679876e-10\n",
      "minorAxis_2[iTrk][0][0] =  11.684402\n",
      "minorAxis_2[iTrk][1][0] =  -13.194561\n",
      "minorAxis_2[iTrk][2][0] =  1.2373537\n",
      "  \n",
      "len(X) =  80000\n",
      "len(Xlist) =  2\n",
      "Loaded /share/lazy/will/data/June30_2020_80k_2.h5 in 153.6 s\n",
      "pocaMx.shape =  (80000,)\n"
     ]
    },
    {
     "name": "stdout",
     "output_type": "stream",
     "text": [
      "nEvts =  80000\n",
      "len(pocaMx[0]) =  196\n",
      "len(pocaMx[1]) =  35\n",
      "len(pocaMx[2]) =  265\n",
      "len(pocaMx[3]) =  128\n",
      "len(pocaMx[4]) =  124\n",
      "majorAxis.shape =  (80000, 3)\n",
      "minorAxis_1.shape =  (80000, 3)\n",
      "minorAxis_2.shape =  (80000, 3)\n",
      "have entered six_ellipsoid_parameters\n",
      "  \n",
      " \n",
      "  nEvts =  80000\n",
      " iEvt, nTrks =  0 196\n",
      " iEvt, nTrks =  1 35\n",
      " iEvt, nTrks =  2 265\n",
      " iEvt, nTrks =  3 128\n",
      " iEvt, nTrks =  4 124\n",
      " iEvt, nTrks =  5 122\n",
      " iEvt, nTrks =  6 300\n",
      " iEvt, nTrks =  7 179\n",
      " iEvt, nTrks =  8 243\n",
      " iEvt, nTrks =  9 112\n",
      "A.shape =  (80000,)\n",
      "majorAxis[iTrk][0][0] =  -2.440992e-05\n",
      "majorAxis[iTrk][1][0] =  -0.00038087237\n",
      "majorAxis[iTrk][2][0] =  0.08211532\n",
      "minorAxis_1[iTrk][0][0] =  -17.631672\n",
      "minorAxis_1[iTrk][1][0] =  1.130005\n",
      "minorAxis_1[iTrk][2][0] =  4.7444193e-08\n",
      "minorAxis_2[iTrk][0][0] =  1.1299927\n",
      "minorAxis_2[iTrk][1][0] =  17.631481\n",
      "minorAxis_2[iTrk][2][0] =  0.08211532\n",
      "  \n",
      "majorAxis[iTrk][0][0] =  -0.02277395\n",
      "majorAxis[iTrk][1][0] =  0.0014473597\n",
      "majorAxis[iTrk][2][0] =  0.6347583\n",
      "minorAxis_1[iTrk][0][0] =  -1.1205891\n",
      "minorAxis_1[iTrk][1][0] =  -17.632273\n",
      "minorAxis_1[iTrk][2][0] =  2.1543272e-09\n",
      "minorAxis_2[iTrk][0][0] =  -17.620888\n",
      "minorAxis_2[iTrk][1][0] =  1.1198657\n",
      "minorAxis_2[iTrk][2][0] =  -0.63475823\n",
      "  \n",
      "majorAxis[iTrk][0][0] =  0.0004024825\n",
      "majorAxis[iTrk][1][0] =  -0.00023784715\n",
      "majorAxis[iTrk][2][0] =  0.090883136\n",
      "minorAxis_1[iTrk][0][0] =  -8.988615\n",
      "minorAxis_1[iTrk][1][0] =  -15.210441\n",
      "minorAxis_1[iTrk][2][0] =  -6.56547e-08\n",
      "minorAxis_2[iTrk][0][0] =  -15.21024\n",
      "minorAxis_2[iTrk][1][0] =  8.988497\n",
      "minorAxis_2[iTrk][2][0] =  0.090883136\n",
      "  \n",
      "majorAxis[iTrk][0][0] =  0.0068744724\n",
      "majorAxis[iTrk][1][0] =  0.0017050834\n",
      "majorAxis[iTrk][2][0] =  0.3537121\n",
      "minorAxis_1[iTrk][0][0] =  4.2532983\n",
      "minorAxis_1[iTrk][1][0] =  -17.148241\n",
      "minorAxis_1[iTrk][2][0] =  1.1939819e-09\n",
      "minorAxis_2[iTrk][0][0] =  -17.144806\n",
      "minorAxis_2[iTrk][1][0] =  -4.252446\n",
      "minorAxis_2[iTrk][2][0] =  0.3537121\n",
      "  \n",
      "majorAxis[iTrk][0][0] =  -0.004920899\n",
      "majorAxis[iTrk][1][0] =  0.0009170567\n",
      "majorAxis[iTrk][2][0] =  0.2973651\n",
      "minorAxis_1[iTrk][0][0] =  -3.236844\n",
      "minorAxis_1[iTrk][1][0] =  -17.36881\n",
      "minorAxis_1[iTrk][2][0] =  -4.7397712e-09\n",
      "minorAxis_2[iTrk][0][0] =  -17.36635\n",
      "minorAxis_2[iTrk][1][0] =  3.2363856\n",
      "minorAxis_2[iTrk][2][0] =  -0.29736507\n",
      "  \n",
      "majorAxis[iTrk][0][0] =  -0.0001240533\n",
      "majorAxis[iTrk][1][0] =  0.00033394952\n",
      "majorAxis[iTrk][2][0] =  0.079335004\n",
      "minorAxis_1[iTrk][0][0] =  -16.562042\n",
      "minorAxis_1[iTrk][1][0] =  -6.1523557\n",
      "minorAxis_1[iTrk][2][0] =  3.1261713e-08\n",
      "minorAxis_2[iTrk][0][0] =  -6.1522937\n",
      "minorAxis_2[iTrk][1][0] =  16.561876\n",
      "minorAxis_2[iTrk][2][0] =  -0.079335004\n",
      "  \n",
      "majorAxis[iTrk][0][0] =  0.00010132754\n",
      "majorAxis[iTrk][1][0] =  6.684385e-05\n",
      "majorAxis[iTrk][2][0] =  0.046310693\n",
      "minorAxis_1[iTrk][0][0] =  -9.728917\n",
      "minorAxis_1[iTrk][1][0] =  14.747911\n",
      "minorAxis_1[iTrk][2][0] =  -2.3591362e-07\n",
      "minorAxis_2[iTrk][0][0] =  14.74786\n",
      "minorAxis_2[iTrk][1][0] =  9.728883\n",
      "minorAxis_2[iTrk][2][0] =  -0.04631069\n",
      "  \n",
      "majorAxis[iTrk][0][0] =  0.0042806785\n",
      "majorAxis[iTrk][1][0] =  0.004939851\n",
      "majorAxis[iTrk][2][0] =  0.3398017\n",
      "minorAxis_1[iTrk][0][0] =  13.3521\n",
      "minorAxis_1[iTrk][1][0] =  -11.5704\n",
      "minorAxis_1[iTrk][2][0] =  1.21654296e-08\n",
      "minorAxis_2[iTrk][0][0] =  -11.56826\n",
      "minorAxis_2[iTrk][1][0] =  -13.349631\n",
      "minorAxis_2[iTrk][2][0] =  0.33980173\n",
      "  \n",
      "majorAxis[iTrk][0][0] =  -0.00013103899\n",
      "majorAxis[iTrk][1][0] =  -0.0006021903\n",
      "majorAxis[iTrk][2][0] =  0.10434653\n",
      "minorAxis_1[iTrk][0][0] =  -17.26384\n",
      "minorAxis_1[iTrk][1][0] =  3.7566798\n",
      "minorAxis_1[iTrk][2][0] =  -9.616703e-08\n",
      "minorAxis_2[iTrk][0][0] =  3.7566135\n",
      "minorAxis_2[iTrk][1][0] =  17.263535\n",
      "minorAxis_2[iTrk][2][0] =  0.10434652\n",
      "  \n",
      "majorAxis[iTrk][0][0] =  0.0016481678\n",
      "majorAxis[iTrk][1][0] =  -0.0019788505\n",
      "majorAxis[iTrk][2][0] =  0.21330062\n",
      "minorAxis_1[iTrk][0][0] =  -13.575765\n",
      "minorAxis_1[iTrk][1][0] =  -11.307139\n",
      "minorAxis_1[iTrk][2][0] =  8.543098e-09\n",
      "minorAxis_2[iTrk][0][0] =  -11.306314\n",
      "minorAxis_2[iTrk][1][0] =  13.574774\n",
      "minorAxis_2[iTrk][2][0] =  0.21330062\n",
      "  \n",
      "len(X) =  80000\n",
      "len(Xlist) =  3\n",
      "Loaded /share/lazy/will/data/June30_2020_80k_3.h5 in 155.4 s\n",
      "pocaMx.shape =  (80000,)\n",
      "nEvts =  80000\n",
      "len(pocaMx[0]) =  204\n",
      "len(pocaMx[1]) =  33\n",
      "len(pocaMx[2]) =  206\n",
      "len(pocaMx[3]) =  150\n",
      "len(pocaMx[4]) =  96\n",
      "majorAxis.shape =  (80000, 3)\n",
      "minorAxis_1.shape =  (80000, 3)\n",
      "minorAxis_2.shape =  (80000, 3)\n",
      "have entered six_ellipsoid_parameters\n",
      "  \n",
      " \n",
      "  nEvts =  80000\n",
      " iEvt, nTrks =  0 204\n",
      " iEvt, nTrks =  1 33\n",
      " iEvt, nTrks =  2 206\n",
      " iEvt, nTrks =  3 150\n",
      " iEvt, nTrks =  4 96\n",
      " iEvt, nTrks =  5 10\n",
      " iEvt, nTrks =  6 174\n",
      " iEvt, nTrks =  7 320\n",
      " iEvt, nTrks =  8 164\n",
      " iEvt, nTrks =  9 119\n",
      "A.shape =  (80000,)\n",
      "majorAxis[iTrk][0][0] =  0.00057876867\n",
      "majorAxis[iTrk][1][0] =  0.00037603904\n",
      "majorAxis[iTrk][2][0] =  0.110427074\n",
      "minorAxis_1[iTrk][0][0] =  9.62588\n",
      "minorAxis_1[iTrk][1][0] =  -14.81537\n",
      "minorAxis_1[iTrk][2][0] =  8.391163e-09\n",
      "minorAxis_2[iTrk][0][0] =  -14.815081\n",
      "minorAxis_2[iTrk][1][0] =  -9.625692\n",
      "minorAxis_2[iTrk][2][0] =  0.11042709\n",
      "  \n",
      "majorAxis[iTrk][0][0] =  -7.687664e-05\n",
      "majorAxis[iTrk][1][0] =  -0.0017985329\n",
      "majorAxis[iTrk][2][0] =  0.17833562\n",
      "minorAxis_1[iTrk][0][0] =  -17.651728\n",
      "minorAxis_1[iTrk][1][0] =  0.7545069\n",
      "minorAxis_1[iTrk][2][0] =  -7.932265e-09\n",
      "minorAxis_2[iTrk][0][0] =  0.75446844\n",
      "minorAxis_2[iTrk][1][0] =  17.650827\n",
      "minorAxis_2[iTrk][2][0] =  0.17833562\n",
      "  \n",
      "majorAxis[iTrk][0][0] =  4.5855802e-05\n",
      "majorAxis[iTrk][1][0] =  -0.00054240844\n",
      "majorAxis[iTrk][2][0] =  0.098067455\n",
      "minorAxis_1[iTrk][0][0] =  17.605043\n",
      "minorAxis_1[iTrk][1][0] =  1.4883496\n",
      "minorAxis_1[iTrk][2][0] =  -2.7847218e-08\n",
      "minorAxis_2[iTrk][0][0] =  1.4883265\n",
      "minorAxis_2[iTrk][1][0] =  -17.604773\n",
      "minorAxis_2[iTrk][2][0] =  -0.098067455\n",
      "  \n",
      "majorAxis[iTrk][0][0] =  -0.0013144773\n",
      "majorAxis[iTrk][1][0] =  0.0008680699\n",
      "majorAxis[iTrk][2][0] =  0.16682307\n",
      "minorAxis_1[iTrk][0][0] =  -9.736217\n",
      "minorAxis_1[iTrk][1][0] =  -14.743094\n",
      "minorAxis_1[iTrk][2][0] =  -1.7552136e-08\n",
      "minorAxis_2[iTrk][0][0] =  -14.742435\n",
      "minorAxis_2[iTrk][1][0] =  9.735782\n",
      "minorAxis_2[iTrk][2][0] =  -0.16682304\n",
      "  \n",
      "majorAxis[iTrk][0][0] =  0.032227762\n",
      "majorAxis[iTrk][1][0] =  0.007741693\n",
      "majorAxis[iTrk][2][0] =  0.76488173\n",
      "minorAxis_1[iTrk][0][0] =  -4.1267405\n",
      "minorAxis_1[iTrk][1][0] =  17.179138\n",
      "minorAxis_1[iTrk][2][0] =  -2.3529467e-10\n",
      "minorAxis_2[iTrk][0][0] =  17.16303\n",
      "minorAxis_2[iTrk][1][0] =  4.122871\n",
      "minorAxis_2[iTrk][2][0] =  -0.7648817\n",
      "  \n",
      "majorAxis[iTrk][0][0] =  1.9753945\n",
      "majorAxis[iTrk][1][0] =  2.5669005\n",
      "majorAxis[iTrk][2][0] =  7.226382\n",
      "minorAxis_1[iTrk][0][0] =  14.0017\n",
      "minorAxis_1[iTrk][1][0] =  -10.7752075\n",
      "minorAxis_1[iTrk][2][0] =  5.3286344e-11\n",
      "minorAxis_2[iTrk][0][0] =  -9.832683\n",
      "minorAxis_2[iTrk][1][0] =  -12.776951\n",
      "minorAxis_2[iTrk][2][0] =  7.226381\n",
      "  \n",
      "majorAxis[iTrk][0][0] =  -0.0026900356\n",
      "majorAxis[iTrk][1][0] =  -0.0015841618\n",
      "majorAxis[iTrk][2][0] =  0.234843\n",
      "minorAxis_1[iTrk][0][0] =  -8.965469\n",
      "minorAxis_1[iTrk][1][0] =  15.224096\n",
      "minorAxis_1[iTrk][2][0] =  2.8236277e-08\n",
      "minorAxis_2[iTrk][0][0] =  15.222751\n",
      "minorAxis_2[iTrk][1][0] =  8.964677\n",
      "minorAxis_2[iTrk][2][0] =  0.234843\n",
      "  \n",
      "majorAxis[iTrk][0][0] =  -0.0001692281\n",
      "majorAxis[iTrk][1][0] =  0.0003505444\n",
      "majorAxis[iTrk][2][0] =  0.08292902\n",
      "minorAxis_1[iTrk][0][0] =  -15.910811\n",
      "minorAxis_1[iTrk][1][0] =  -7.68107\n",
      "minorAxis_1[iTrk][2][0] =  1.587002e-08\n",
      "minorAxis_2[iTrk][0][0] =  -7.680986\n",
      "minorAxis_2[iTrk][1][0] =  15.910635\n",
      "minorAxis_2[iTrk][2][0] =  -0.08292903\n",
      "  \n",
      "majorAxis[iTrk][0][0] =  0.0017714669\n",
      "majorAxis[iTrk][1][0] =  -0.001515166\n",
      "majorAxis[iTrk][2][0] =  0.20293355\n",
      "minorAxis_1[iTrk][0][0] =  11.483943\n",
      "minorAxis_1[iTrk][1][0] =  13.426532\n",
      "minorAxis_1[iTrk][2][0] =  -2.7840934e-09\n",
      "minorAxis_2[iTrk][0][0] =  13.425648\n",
      "minorAxis_2[iTrk][1][0] =  -11.483187\n",
      "minorAxis_2[iTrk][2][0] =  -0.20293356\n",
      "  \n",
      "majorAxis[iTrk][0][0] =  0.0006359923\n",
      "majorAxis[iTrk][1][0] =  -0.0003371759\n",
      "majorAxis[iTrk][2][0] =  0.112773284\n",
      "minorAxis_1[iTrk][0][0] =  8.275655\n",
      "minorAxis_1[iTrk][1][0] =  15.609813\n",
      "minorAxis_1[iTrk][2][0] =  -5.6373224e-08\n",
      "minorAxis_2[iTrk][0][0] =  15.609494\n",
      "minorAxis_2[iTrk][1][0] =  -8.275486\n",
      "minorAxis_2[iTrk][2][0] =  -0.11277328\n",
      "  \n",
      "len(X) =  80000\n",
      "len(Xlist) =  4\n",
      "Loaded /share/lazy/will/data/June30_2020_80k_4.h5 in 154.5 s\n",
      "outer loop X.shape =  (320000, 9, 600)\n",
      "Constructing 320000 event dataset took 1.295 s\n",
      "x_t.shape =  torch.Size([320000, 9, 600])\n",
      "x_t.shape[0] =  320000\n",
      "x_t.shape[1] =  9\n",
      "x_t.shape =  torch.Size([320000, 9, 600])\n"
     ]
    }
   ],
   "source": [
    "## Training dataset. You can put as many files here as desired.\n",
    "\n",
    "##train_loader = collect_t2kde_data('/share/lazy/pv-finder/20k_evts_for_KDE_learning_200716.h5',\n",
    "train_loader = collect_t2kde_data('/share/lazy/will/data/June30_2020_80k_1.h5', \n",
    "                                  '/share/lazy/will/data/June30_2020_80k_2.h5',\n",
    "                                  '/share/lazy/will/data/June30_2020_80k_3.h5',\n",
    "                                  '/share/lazy/will/data/June30_2020_80k_4.h5',\n",
    "                                  #'/share/lazy/will/data/June30_2020_80k_5.h5',\n",
    "                                  #'/share/lazy/will/data/June30_2020_80k_6.h5',\n",
    "                                  #'/share/lazy/will/data/June30_2020_80k_7.h5',\n",
    "                             batch_size=batch_size,\n",
    "## if we are using a larger dataset (240K events, with the datasets above, and 11 GB  of GPU memory),\n",
    "## the dataset will overflow the GPU memory; device=device will allow the data to move back\n",
    "## and forth between the CPU and GPU memory. While this allows use of a larger dataset, it slows\n",
    "## down performance by about 10%.  So comment out when not needed.\n",
    "#                          device=device,\n",
    "##                           slice = slice(None,18000)\n",
    "                           )"
   ]
  },
  {
   "cell_type": "code",
   "execution_count": 16,
   "metadata": {
    "scrolled": false
   },
   "outputs": [
    {
     "name": "stdout",
     "output_type": "stream",
     "text": [
      "Loading data...\n",
      "pocaMx.shape =  (20000,)\n",
      "nEvts =  20000\n",
      "len(pocaMx[0]) =  211\n",
      "len(pocaMx[1]) =  21\n",
      "len(pocaMx[2]) =  20\n",
      "len(pocaMx[3]) =  198\n",
      "len(pocaMx[4]) =  233\n",
      "majorAxis.shape =  (20000, 3)\n",
      "minorAxis_1.shape =  (20000, 3)\n",
      "minorAxis_2.shape =  (20000, 3)\n",
      "have entered six_ellipsoid_parameters\n",
      "  \n",
      " \n",
      "  nEvts =  20000\n",
      " iEvt, nTrks =  0 211\n",
      " iEvt, nTrks =  1 21\n",
      " iEvt, nTrks =  2 20\n",
      " iEvt, nTrks =  3 198\n",
      " iEvt, nTrks =  4 233\n",
      " iEvt, nTrks =  5 85\n",
      " iEvt, nTrks =  6 223\n",
      " iEvt, nTrks =  7 425\n",
      " iEvt, nTrks =  8 252\n",
      " iEvt, nTrks =  9 169\n",
      "A.shape =  (20000,)\n",
      "majorAxis[iTrk][0][0] =  -0.00023452607\n",
      "majorAxis[iTrk][1][0] =  -0.00047206535\n",
      "majorAxis[iTrk][2][0] =  0.096502915\n",
      "minorAxis_1[iTrk][0][0] =  -15.822749\n",
      "minorAxis_1[iTrk][1][0] =  7.8608756\n",
      "minorAxis_1[iTrk][2][0] =  -2.6228399e-08\n",
      "minorAxis_2[iTrk][0][0] =  7.860759\n",
      "minorAxis_2[iTrk][1][0] =  15.822513\n",
      "minorAxis_2[iTrk][2][0] =  0.096502915\n",
      "  \n",
      "majorAxis[iTrk][0][0] =  -0.37655562\n",
      "majorAxis[iTrk][1][0] =  0.2768704\n",
      "majorAxis[iTrk][2][0] =  2.8546858\n",
      "minorAxis_1[iTrk][0][0] =  -10.466048\n",
      "minorAxis_1[iTrk][1][0] =  -14.234274\n",
      "minorAxis_1[iTrk][2][0] =  2.2974699e-11\n",
      "minorAxis_2[iTrk][0][0] =  -14.04724\n",
      "minorAxis_2[iTrk][1][0] =  10.328527\n",
      "minorAxis_2[iTrk][2][0] =  -2.8546853\n",
      "  \n",
      "majorAxis[iTrk][0][0] =  -0.024279848\n",
      "majorAxis[iTrk][1][0] =  0.0019689242\n",
      "majorAxis[iTrk][2][0] =  0.65580803\n",
      "minorAxis_1[iTrk][0][0] =  -1.4280497\n",
      "minorAxis_1[iTrk][1][0] =  -17.610037\n",
      "minorAxis_1[iTrk][2][0] =  -6.123401e-10\n",
      "minorAxis_2[iTrk][0][0] =  -17.597902\n",
      "minorAxis_2[iTrk][1][0] =  1.4270656\n",
      "minorAxis_2[iTrk][2][0] =  -0.6558081\n",
      "  \n",
      "majorAxis[iTrk][0][0] =  -0.007825993\n",
      "majorAxis[iTrk][1][0] =  0.004052097\n",
      "majorAxis[iTrk][2][0] =  0.3945435\n",
      "minorAxis_1[iTrk][0][0] =  8.123606\n",
      "minorAxis_1[iTrk][1][0] =  15.689478\n",
      "minorAxis_1[iTrk][2][0] =  -2.4940747e-10\n",
      "minorAxis_2[iTrk][0][0] =  15.685566\n",
      "minorAxis_2[iTrk][1][0] =  -8.12158\n",
      "minorAxis_2[iTrk][2][0] =  0.3945435\n",
      "  \n",
      "majorAxis[iTrk][0][0] =  0.0046102717\n",
      "majorAxis[iTrk][1][0] =  -0.0016007021\n",
      "majorAxis[iTrk][2][0] =  0.29361814\n",
      "minorAxis_1[iTrk][0][0] =  -5.794979\n",
      "minorAxis_1[iTrk][1][0] =  -16.690445\n",
      "minorAxis_1[iTrk][2][0] =  2.4897104e-09\n",
      "minorAxis_2[iTrk][0][0] =  -16.688139\n",
      "minorAxis_2[iTrk][1][0] =  5.794179\n",
      "minorAxis_2[iTrk][2][0] =  0.2936181\n",
      "  \n",
      "majorAxis[iTrk][0][0] =  -0.00020041714\n",
      "majorAxis[iTrk][1][0] =  0.00010468164\n",
      "majorAxis[iTrk][2][0] =  0.06320469\n",
      "minorAxis_1[iTrk][0][0] =  8.179679\n",
      "minorAxis_1[iTrk][1][0] =  15.660318\n",
      "minorAxis_1[iTrk][2][0] =  7.40176e-08\n",
      "minorAxis_2[iTrk][0][0] =  15.660218\n",
      "minorAxis_2[iTrk][1][0] =  -8.179626\n",
      "minorAxis_2[iTrk][2][0] =  0.06320469\n",
      "  \n",
      "majorAxis[iTrk][0][0] =  -0.00020603223\n",
      "majorAxis[iTrk][1][0] =  -0.0005662605\n",
      "majorAxis[iTrk][2][0] =  0.10317981\n",
      "minorAxis_1[iTrk][0][0] =  -16.603\n",
      "minorAxis_1[iTrk][1][0] =  6.040953\n",
      "minorAxis_1[iTrk][2][0] =  4.5812504e-07\n",
      "minorAxis_2[iTrk][0][0] =  6.0408506\n",
      "minorAxis_2[iTrk][1][0] =  16.602718\n",
      "minorAxis_2[iTrk][2][0] =  0.10317982\n",
      "  \n",
      "majorAxis[iTrk][0][0] =  -0.00040561036\n",
      "majorAxis[iTrk][1][0] =  0.00014461782\n",
      "majorAxis[iTrk][2][0] =  0.0872241\n",
      "minorAxis_1[iTrk][0][0] =  -5.933496\n",
      "minorAxis_1[iTrk][1][0] =  -16.641706\n",
      "minorAxis_1[iTrk][2][0] =  1.0720762e-08\n",
      "minorAxis_2[iTrk][0][0] =  -16.641502\n",
      "minorAxis_2[iTrk][1][0] =  5.9334235\n",
      "minorAxis_2[iTrk][2][0] =  -0.0872241\n",
      "  \n",
      "majorAxis[iTrk][0][0] =  0.00038461428\n",
      "majorAxis[iTrk][1][0] =  -3.4232737e-05\n",
      "majorAxis[iTrk][2][0] =  0.08259597\n",
      "minorAxis_1[iTrk][0][0] =  -1.5663412\n",
      "minorAxis_1[iTrk][1][0] =  -17.598276\n",
      "minorAxis_1[iTrk][2][0] =  3.2106848e-07\n",
      "minorAxis_2[iTrk][0][0] =  -17.598082\n",
      "minorAxis_2[iTrk][1][0] =  1.5663238\n",
      "minorAxis_2[iTrk][2][0] =  0.08259596\n",
      "  \n",
      "majorAxis[iTrk][0][0] =  -0.022277953\n",
      "majorAxis[iTrk][1][0] =  -0.0046837274\n",
      "majorAxis[iTrk][2][0] =  0.63399464\n",
      "minorAxis_1[iTrk][0][0] =  -3.6350286\n",
      "minorAxis_1[iTrk][1][0] =  17.289862\n",
      "minorAxis_1[iTrk][2][0] =  9.566169e-10\n",
      "minorAxis_2[iTrk][0][0] =  17.278727\n",
      "minorAxis_2[iTrk][1][0] =  3.6326876\n",
      "minorAxis_2[iTrk][2][0] =  0.6339946\n",
      "  \n",
      "len(X) =  20000\n",
      "len(Xlist) =  1\n",
      "Loaded dataAA/20K_POCA_kernel_evts_200926.h5 in 38.54 s\n",
      "outer loop X.shape =  (20000, 9, 600)\n",
      "Constructing 10000 event dataset took 0.04396 s\n",
      "x_t.shape =  torch.Size([10000, 9, 600])\n",
      "x_t.shape[0] =  10000\n",
      "x_t.shape[1] =  9\n",
      "x_t.shape =  torch.Size([10000, 9, 600])\n"
     ]
    }
   ],
   "source": [
    "                            \n",
    "# Validation dataset. You can slice to reduce the size.\n",
    "## mds no separate validation set yet,\n",
    "\n",
    "## For iter12, change slice(18000,None) to slice(10000,None)\n",
    "## First, we'll see if this changes the validation cost significantly\n",
    "##  Second, we will see if this reduces the validation cost fluctuations\n",
    "val_loader = collect_t2kde_data('dataAA/20K_POCA_kernel_evts_200926.h5',\n",
    "                            batch_size=batch_size,\n",
    "##                            device=device,\n",
    "                            slice = slice(10000,None)\n",
    "                           )"
   ]
  },
  {
   "cell_type": "code",
   "execution_count": 17,
   "metadata": {
    "scrolled": false
   },
   "outputs": [
    {
     "data": {
      "application/javascript": [
       "/* Put everything inside the global mpl namespace */\n",
       "window.mpl = {};\n",
       "\n",
       "\n",
       "mpl.get_websocket_type = function() {\n",
       "    if (typeof(WebSocket) !== 'undefined') {\n",
       "        return WebSocket;\n",
       "    } else if (typeof(MozWebSocket) !== 'undefined') {\n",
       "        return MozWebSocket;\n",
       "    } else {\n",
       "        alert('Your browser does not have WebSocket support. ' +\n",
       "              'Please try Chrome, Safari or Firefox ≥ 6. ' +\n",
       "              'Firefox 4 and 5 are also supported but you ' +\n",
       "              'have to enable WebSockets in about:config.');\n",
       "    };\n",
       "}\n",
       "\n",
       "mpl.figure = function(figure_id, websocket, ondownload, parent_element) {\n",
       "    this.id = figure_id;\n",
       "\n",
       "    this.ws = websocket;\n",
       "\n",
       "    this.supports_binary = (this.ws.binaryType != undefined);\n",
       "\n",
       "    if (!this.supports_binary) {\n",
       "        var warnings = document.getElementById(\"mpl-warnings\");\n",
       "        if (warnings) {\n",
       "            warnings.style.display = 'block';\n",
       "            warnings.textContent = (\n",
       "                \"This browser does not support binary websocket messages. \" +\n",
       "                    \"Performance may be slow.\");\n",
       "        }\n",
       "    }\n",
       "\n",
       "    this.imageObj = new Image();\n",
       "\n",
       "    this.context = undefined;\n",
       "    this.message = undefined;\n",
       "    this.canvas = undefined;\n",
       "    this.rubberband_canvas = undefined;\n",
       "    this.rubberband_context = undefined;\n",
       "    this.format_dropdown = undefined;\n",
       "\n",
       "    this.image_mode = 'full';\n",
       "\n",
       "    this.root = $('<div/>');\n",
       "    this._root_extra_style(this.root)\n",
       "    this.root.attr('style', 'display: inline-block');\n",
       "\n",
       "    $(parent_element).append(this.root);\n",
       "\n",
       "    this._init_header(this);\n",
       "    this._init_canvas(this);\n",
       "    this._init_toolbar(this);\n",
       "\n",
       "    var fig = this;\n",
       "\n",
       "    this.waiting = false;\n",
       "\n",
       "    this.ws.onopen =  function () {\n",
       "            fig.send_message(\"supports_binary\", {value: fig.supports_binary});\n",
       "            fig.send_message(\"send_image_mode\", {});\n",
       "            if (mpl.ratio != 1) {\n",
       "                fig.send_message(\"set_dpi_ratio\", {'dpi_ratio': mpl.ratio});\n",
       "            }\n",
       "            fig.send_message(\"refresh\", {});\n",
       "        }\n",
       "\n",
       "    this.imageObj.onload = function() {\n",
       "            if (fig.image_mode == 'full') {\n",
       "                // Full images could contain transparency (where diff images\n",
       "                // almost always do), so we need to clear the canvas so that\n",
       "                // there is no ghosting.\n",
       "                fig.context.clearRect(0, 0, fig.canvas.width, fig.canvas.height);\n",
       "            }\n",
       "            fig.context.drawImage(fig.imageObj, 0, 0);\n",
       "        };\n",
       "\n",
       "    this.imageObj.onunload = function() {\n",
       "        fig.ws.close();\n",
       "    }\n",
       "\n",
       "    this.ws.onmessage = this._make_on_message_function(this);\n",
       "\n",
       "    this.ondownload = ondownload;\n",
       "}\n",
       "\n",
       "mpl.figure.prototype._init_header = function() {\n",
       "    var titlebar = $(\n",
       "        '<div class=\"ui-dialog-titlebar ui-widget-header ui-corner-all ' +\n",
       "        'ui-helper-clearfix\"/>');\n",
       "    var titletext = $(\n",
       "        '<div class=\"ui-dialog-title\" style=\"width: 100%; ' +\n",
       "        'text-align: center; padding: 3px;\"/>');\n",
       "    titlebar.append(titletext)\n",
       "    this.root.append(titlebar);\n",
       "    this.header = titletext[0];\n",
       "}\n",
       "\n",
       "\n",
       "\n",
       "mpl.figure.prototype._canvas_extra_style = function(canvas_div) {\n",
       "\n",
       "}\n",
       "\n",
       "\n",
       "mpl.figure.prototype._root_extra_style = function(canvas_div) {\n",
       "\n",
       "}\n",
       "\n",
       "mpl.figure.prototype._init_canvas = function() {\n",
       "    var fig = this;\n",
       "\n",
       "    var canvas_div = $('<div/>');\n",
       "\n",
       "    canvas_div.attr('style', 'position: relative; clear: both; outline: 0');\n",
       "\n",
       "    function canvas_keyboard_event(event) {\n",
       "        return fig.key_event(event, event['data']);\n",
       "    }\n",
       "\n",
       "    canvas_div.keydown('key_press', canvas_keyboard_event);\n",
       "    canvas_div.keyup('key_release', canvas_keyboard_event);\n",
       "    this.canvas_div = canvas_div\n",
       "    this._canvas_extra_style(canvas_div)\n",
       "    this.root.append(canvas_div);\n",
       "\n",
       "    var canvas = $('<canvas/>');\n",
       "    canvas.addClass('mpl-canvas');\n",
       "    canvas.attr('style', \"left: 0; top: 0; z-index: 0; outline: 0\")\n",
       "\n",
       "    this.canvas = canvas[0];\n",
       "    this.context = canvas[0].getContext(\"2d\");\n",
       "\n",
       "    var backingStore = this.context.backingStorePixelRatio ||\n",
       "\tthis.context.webkitBackingStorePixelRatio ||\n",
       "\tthis.context.mozBackingStorePixelRatio ||\n",
       "\tthis.context.msBackingStorePixelRatio ||\n",
       "\tthis.context.oBackingStorePixelRatio ||\n",
       "\tthis.context.backingStorePixelRatio || 1;\n",
       "\n",
       "    mpl.ratio = (window.devicePixelRatio || 1) / backingStore;\n",
       "\n",
       "    var rubberband = $('<canvas/>');\n",
       "    rubberband.attr('style', \"position: absolute; left: 0; top: 0; z-index: 1;\")\n",
       "\n",
       "    var pass_mouse_events = true;\n",
       "\n",
       "    canvas_div.resizable({\n",
       "        start: function(event, ui) {\n",
       "            pass_mouse_events = false;\n",
       "        },\n",
       "        resize: function(event, ui) {\n",
       "            fig.request_resize(ui.size.width, ui.size.height);\n",
       "        },\n",
       "        stop: function(event, ui) {\n",
       "            pass_mouse_events = true;\n",
       "            fig.request_resize(ui.size.width, ui.size.height);\n",
       "        },\n",
       "    });\n",
       "\n",
       "    function mouse_event_fn(event) {\n",
       "        if (pass_mouse_events)\n",
       "            return fig.mouse_event(event, event['data']);\n",
       "    }\n",
       "\n",
       "    rubberband.mousedown('button_press', mouse_event_fn);\n",
       "    rubberband.mouseup('button_release', mouse_event_fn);\n",
       "    // Throttle sequential mouse events to 1 every 20ms.\n",
       "    rubberband.mousemove('motion_notify', mouse_event_fn);\n",
       "\n",
       "    rubberband.mouseenter('figure_enter', mouse_event_fn);\n",
       "    rubberband.mouseleave('figure_leave', mouse_event_fn);\n",
       "\n",
       "    canvas_div.on(\"wheel\", function (event) {\n",
       "        event = event.originalEvent;\n",
       "        event['data'] = 'scroll'\n",
       "        if (event.deltaY < 0) {\n",
       "            event.step = 1;\n",
       "        } else {\n",
       "            event.step = -1;\n",
       "        }\n",
       "        mouse_event_fn(event);\n",
       "    });\n",
       "\n",
       "    canvas_div.append(canvas);\n",
       "    canvas_div.append(rubberband);\n",
       "\n",
       "    this.rubberband = rubberband;\n",
       "    this.rubberband_canvas = rubberband[0];\n",
       "    this.rubberband_context = rubberband[0].getContext(\"2d\");\n",
       "    this.rubberband_context.strokeStyle = \"#000000\";\n",
       "\n",
       "    this._resize_canvas = function(width, height) {\n",
       "        // Keep the size of the canvas, canvas container, and rubber band\n",
       "        // canvas in synch.\n",
       "        canvas_div.css('width', width)\n",
       "        canvas_div.css('height', height)\n",
       "\n",
       "        canvas.attr('width', width * mpl.ratio);\n",
       "        canvas.attr('height', height * mpl.ratio);\n",
       "        canvas.attr('style', 'width: ' + width + 'px; height: ' + height + 'px;');\n",
       "\n",
       "        rubberband.attr('width', width);\n",
       "        rubberband.attr('height', height);\n",
       "    }\n",
       "\n",
       "    // Set the figure to an initial 600x600px, this will subsequently be updated\n",
       "    // upon first draw.\n",
       "    this._resize_canvas(600, 600);\n",
       "\n",
       "    // Disable right mouse context menu.\n",
       "    $(this.rubberband_canvas).bind(\"contextmenu\",function(e){\n",
       "        return false;\n",
       "    });\n",
       "\n",
       "    function set_focus () {\n",
       "        canvas.focus();\n",
       "        canvas_div.focus();\n",
       "    }\n",
       "\n",
       "    window.setTimeout(set_focus, 100);\n",
       "}\n",
       "\n",
       "mpl.figure.prototype._init_toolbar = function() {\n",
       "    var fig = this;\n",
       "\n",
       "    var nav_element = $('<div/>');\n",
       "    nav_element.attr('style', 'width: 100%');\n",
       "    this.root.append(nav_element);\n",
       "\n",
       "    // Define a callback function for later on.\n",
       "    function toolbar_event(event) {\n",
       "        return fig.toolbar_button_onclick(event['data']);\n",
       "    }\n",
       "    function toolbar_mouse_event(event) {\n",
       "        return fig.toolbar_button_onmouseover(event['data']);\n",
       "    }\n",
       "\n",
       "    for(var toolbar_ind in mpl.toolbar_items) {\n",
       "        var name = mpl.toolbar_items[toolbar_ind][0];\n",
       "        var tooltip = mpl.toolbar_items[toolbar_ind][1];\n",
       "        var image = mpl.toolbar_items[toolbar_ind][2];\n",
       "        var method_name = mpl.toolbar_items[toolbar_ind][3];\n",
       "\n",
       "        if (!name) {\n",
       "            // put a spacer in here.\n",
       "            continue;\n",
       "        }\n",
       "        var button = $('<button/>');\n",
       "        button.addClass('ui-button ui-widget ui-state-default ui-corner-all ' +\n",
       "                        'ui-button-icon-only');\n",
       "        button.attr('role', 'button');\n",
       "        button.attr('aria-disabled', 'false');\n",
       "        button.click(method_name, toolbar_event);\n",
       "        button.mouseover(tooltip, toolbar_mouse_event);\n",
       "\n",
       "        var icon_img = $('<span/>');\n",
       "        icon_img.addClass('ui-button-icon-primary ui-icon');\n",
       "        icon_img.addClass(image);\n",
       "        icon_img.addClass('ui-corner-all');\n",
       "\n",
       "        var tooltip_span = $('<span/>');\n",
       "        tooltip_span.addClass('ui-button-text');\n",
       "        tooltip_span.html(tooltip);\n",
       "\n",
       "        button.append(icon_img);\n",
       "        button.append(tooltip_span);\n",
       "\n",
       "        nav_element.append(button);\n",
       "    }\n",
       "\n",
       "    var fmt_picker_span = $('<span/>');\n",
       "\n",
       "    var fmt_picker = $('<select/>');\n",
       "    fmt_picker.addClass('mpl-toolbar-option ui-widget ui-widget-content');\n",
       "    fmt_picker_span.append(fmt_picker);\n",
       "    nav_element.append(fmt_picker_span);\n",
       "    this.format_dropdown = fmt_picker[0];\n",
       "\n",
       "    for (var ind in mpl.extensions) {\n",
       "        var fmt = mpl.extensions[ind];\n",
       "        var option = $(\n",
       "            '<option/>', {selected: fmt === mpl.default_extension}).html(fmt);\n",
       "        fmt_picker.append(option);\n",
       "    }\n",
       "\n",
       "    // Add hover states to the ui-buttons\n",
       "    $( \".ui-button\" ).hover(\n",
       "        function() { $(this).addClass(\"ui-state-hover\");},\n",
       "        function() { $(this).removeClass(\"ui-state-hover\");}\n",
       "    );\n",
       "\n",
       "    var status_bar = $('<span class=\"mpl-message\"/>');\n",
       "    nav_element.append(status_bar);\n",
       "    this.message = status_bar[0];\n",
       "}\n",
       "\n",
       "mpl.figure.prototype.request_resize = function(x_pixels, y_pixels) {\n",
       "    // Request matplotlib to resize the figure. Matplotlib will then trigger a resize in the client,\n",
       "    // which will in turn request a refresh of the image.\n",
       "    this.send_message('resize', {'width': x_pixels, 'height': y_pixels});\n",
       "}\n",
       "\n",
       "mpl.figure.prototype.send_message = function(type, properties) {\n",
       "    properties['type'] = type;\n",
       "    properties['figure_id'] = this.id;\n",
       "    this.ws.send(JSON.stringify(properties));\n",
       "}\n",
       "\n",
       "mpl.figure.prototype.send_draw_message = function() {\n",
       "    if (!this.waiting) {\n",
       "        this.waiting = true;\n",
       "        this.ws.send(JSON.stringify({type: \"draw\", figure_id: this.id}));\n",
       "    }\n",
       "}\n",
       "\n",
       "\n",
       "mpl.figure.prototype.handle_save = function(fig, msg) {\n",
       "    var format_dropdown = fig.format_dropdown;\n",
       "    var format = format_dropdown.options[format_dropdown.selectedIndex].value;\n",
       "    fig.ondownload(fig, format);\n",
       "}\n",
       "\n",
       "\n",
       "mpl.figure.prototype.handle_resize = function(fig, msg) {\n",
       "    var size = msg['size'];\n",
       "    if (size[0] != fig.canvas.width || size[1] != fig.canvas.height) {\n",
       "        fig._resize_canvas(size[0], size[1]);\n",
       "        fig.send_message(\"refresh\", {});\n",
       "    };\n",
       "}\n",
       "\n",
       "mpl.figure.prototype.handle_rubberband = function(fig, msg) {\n",
       "    var x0 = msg['x0'] / mpl.ratio;\n",
       "    var y0 = (fig.canvas.height - msg['y0']) / mpl.ratio;\n",
       "    var x1 = msg['x1'] / mpl.ratio;\n",
       "    var y1 = (fig.canvas.height - msg['y1']) / mpl.ratio;\n",
       "    x0 = Math.floor(x0) + 0.5;\n",
       "    y0 = Math.floor(y0) + 0.5;\n",
       "    x1 = Math.floor(x1) + 0.5;\n",
       "    y1 = Math.floor(y1) + 0.5;\n",
       "    var min_x = Math.min(x0, x1);\n",
       "    var min_y = Math.min(y0, y1);\n",
       "    var width = Math.abs(x1 - x0);\n",
       "    var height = Math.abs(y1 - y0);\n",
       "\n",
       "    fig.rubberband_context.clearRect(\n",
       "        0, 0, fig.canvas.width / mpl.ratio, fig.canvas.height / mpl.ratio);\n",
       "\n",
       "    fig.rubberband_context.strokeRect(min_x, min_y, width, height);\n",
       "}\n",
       "\n",
       "mpl.figure.prototype.handle_figure_label = function(fig, msg) {\n",
       "    // Updates the figure title.\n",
       "    fig.header.textContent = msg['label'];\n",
       "}\n",
       "\n",
       "mpl.figure.prototype.handle_cursor = function(fig, msg) {\n",
       "    var cursor = msg['cursor'];\n",
       "    switch(cursor)\n",
       "    {\n",
       "    case 0:\n",
       "        cursor = 'pointer';\n",
       "        break;\n",
       "    case 1:\n",
       "        cursor = 'default';\n",
       "        break;\n",
       "    case 2:\n",
       "        cursor = 'crosshair';\n",
       "        break;\n",
       "    case 3:\n",
       "        cursor = 'move';\n",
       "        break;\n",
       "    }\n",
       "    fig.rubberband_canvas.style.cursor = cursor;\n",
       "}\n",
       "\n",
       "mpl.figure.prototype.handle_message = function(fig, msg) {\n",
       "    fig.message.textContent = msg['message'];\n",
       "}\n",
       "\n",
       "mpl.figure.prototype.handle_draw = function(fig, msg) {\n",
       "    // Request the server to send over a new figure.\n",
       "    fig.send_draw_message();\n",
       "}\n",
       "\n",
       "mpl.figure.prototype.handle_image_mode = function(fig, msg) {\n",
       "    fig.image_mode = msg['mode'];\n",
       "}\n",
       "\n",
       "mpl.figure.prototype.updated_canvas_event = function() {\n",
       "    // Called whenever the canvas gets updated.\n",
       "    this.send_message(\"ack\", {});\n",
       "}\n",
       "\n",
       "// A function to construct a web socket function for onmessage handling.\n",
       "// Called in the figure constructor.\n",
       "mpl.figure.prototype._make_on_message_function = function(fig) {\n",
       "    return function socket_on_message(evt) {\n",
       "        if (evt.data instanceof Blob) {\n",
       "            /* FIXME: We get \"Resource interpreted as Image but\n",
       "             * transferred with MIME type text/plain:\" errors on\n",
       "             * Chrome.  But how to set the MIME type?  It doesn't seem\n",
       "             * to be part of the websocket stream */\n",
       "            evt.data.type = \"image/png\";\n",
       "\n",
       "            /* Free the memory for the previous frames */\n",
       "            if (fig.imageObj.src) {\n",
       "                (window.URL || window.webkitURL).revokeObjectURL(\n",
       "                    fig.imageObj.src);\n",
       "            }\n",
       "\n",
       "            fig.imageObj.src = (window.URL || window.webkitURL).createObjectURL(\n",
       "                evt.data);\n",
       "            fig.updated_canvas_event();\n",
       "            fig.waiting = false;\n",
       "            return;\n",
       "        }\n",
       "        else if (typeof evt.data === 'string' && evt.data.slice(0, 21) == \"data:image/png;base64\") {\n",
       "            fig.imageObj.src = evt.data;\n",
       "            fig.updated_canvas_event();\n",
       "            fig.waiting = false;\n",
       "            return;\n",
       "        }\n",
       "\n",
       "        var msg = JSON.parse(evt.data);\n",
       "        var msg_type = msg['type'];\n",
       "\n",
       "        // Call the  \"handle_{type}\" callback, which takes\n",
       "        // the figure and JSON message as its only arguments.\n",
       "        try {\n",
       "            var callback = fig[\"handle_\" + msg_type];\n",
       "        } catch (e) {\n",
       "            console.log(\"No handler for the '\" + msg_type + \"' message type: \", msg);\n",
       "            return;\n",
       "        }\n",
       "\n",
       "        if (callback) {\n",
       "            try {\n",
       "                // console.log(\"Handling '\" + msg_type + \"' message: \", msg);\n",
       "                callback(fig, msg);\n",
       "            } catch (e) {\n",
       "                console.log(\"Exception inside the 'handler_\" + msg_type + \"' callback:\", e, e.stack, msg);\n",
       "            }\n",
       "        }\n",
       "    };\n",
       "}\n",
       "\n",
       "// from http://stackoverflow.com/questions/1114465/getting-mouse-location-in-canvas\n",
       "mpl.findpos = function(e) {\n",
       "    //this section is from http://www.quirksmode.org/js/events_properties.html\n",
       "    var targ;\n",
       "    if (!e)\n",
       "        e = window.event;\n",
       "    if (e.target)\n",
       "        targ = e.target;\n",
       "    else if (e.srcElement)\n",
       "        targ = e.srcElement;\n",
       "    if (targ.nodeType == 3) // defeat Safari bug\n",
       "        targ = targ.parentNode;\n",
       "\n",
       "    // jQuery normalizes the pageX and pageY\n",
       "    // pageX,Y are the mouse positions relative to the document\n",
       "    // offset() returns the position of the element relative to the document\n",
       "    var x = e.pageX - $(targ).offset().left;\n",
       "    var y = e.pageY - $(targ).offset().top;\n",
       "\n",
       "    return {\"x\": x, \"y\": y};\n",
       "};\n",
       "\n",
       "/*\n",
       " * return a copy of an object with only non-object keys\n",
       " * we need this to avoid circular references\n",
       " * http://stackoverflow.com/a/24161582/3208463\n",
       " */\n",
       "function simpleKeys (original) {\n",
       "  return Object.keys(original).reduce(function (obj, key) {\n",
       "    if (typeof original[key] !== 'object')\n",
       "        obj[key] = original[key]\n",
       "    return obj;\n",
       "  }, {});\n",
       "}\n",
       "\n",
       "mpl.figure.prototype.mouse_event = function(event, name) {\n",
       "    var canvas_pos = mpl.findpos(event)\n",
       "\n",
       "    if (name === 'button_press')\n",
       "    {\n",
       "        this.canvas.focus();\n",
       "        this.canvas_div.focus();\n",
       "    }\n",
       "\n",
       "    var x = canvas_pos.x * mpl.ratio;\n",
       "    var y = canvas_pos.y * mpl.ratio;\n",
       "\n",
       "    this.send_message(name, {x: x, y: y, button: event.button,\n",
       "                             step: event.step,\n",
       "                             guiEvent: simpleKeys(event)});\n",
       "\n",
       "    /* This prevents the web browser from automatically changing to\n",
       "     * the text insertion cursor when the button is pressed.  We want\n",
       "     * to control all of the cursor setting manually through the\n",
       "     * 'cursor' event from matplotlib */\n",
       "    event.preventDefault();\n",
       "    return false;\n",
       "}\n",
       "\n",
       "mpl.figure.prototype._key_event_extra = function(event, name) {\n",
       "    // Handle any extra behaviour associated with a key event\n",
       "}\n",
       "\n",
       "mpl.figure.prototype.key_event = function(event, name) {\n",
       "\n",
       "    // Prevent repeat events\n",
       "    if (name == 'key_press')\n",
       "    {\n",
       "        if (event.which === this._key)\n",
       "            return;\n",
       "        else\n",
       "            this._key = event.which;\n",
       "    }\n",
       "    if (name == 'key_release')\n",
       "        this._key = null;\n",
       "\n",
       "    var value = '';\n",
       "    if (event.ctrlKey && event.which != 17)\n",
       "        value += \"ctrl+\";\n",
       "    if (event.altKey && event.which != 18)\n",
       "        value += \"alt+\";\n",
       "    if (event.shiftKey && event.which != 16)\n",
       "        value += \"shift+\";\n",
       "\n",
       "    value += 'k';\n",
       "    value += event.which.toString();\n",
       "\n",
       "    this._key_event_extra(event, name);\n",
       "\n",
       "    this.send_message(name, {key: value,\n",
       "                             guiEvent: simpleKeys(event)});\n",
       "    return false;\n",
       "}\n",
       "\n",
       "mpl.figure.prototype.toolbar_button_onclick = function(name) {\n",
       "    if (name == 'download') {\n",
       "        this.handle_save(this, null);\n",
       "    } else {\n",
       "        this.send_message(\"toolbar_button\", {name: name});\n",
       "    }\n",
       "};\n",
       "\n",
       "mpl.figure.prototype.toolbar_button_onmouseover = function(tooltip) {\n",
       "    this.message.textContent = tooltip;\n",
       "};\n",
       "mpl.toolbar_items = [[\"Home\", \"Reset original view\", \"fa fa-home icon-home\", \"home\"], [\"Back\", \"Back to previous view\", \"fa fa-arrow-left icon-arrow-left\", \"back\"], [\"Forward\", \"Forward to next view\", \"fa fa-arrow-right icon-arrow-right\", \"forward\"], [\"\", \"\", \"\", \"\"], [\"Pan\", \"Pan axes with left mouse, zoom with right\", \"fa fa-arrows icon-move\", \"pan\"], [\"Zoom\", \"Zoom to rectangle\", \"fa fa-square-o icon-check-empty\", \"zoom\"], [\"\", \"\", \"\", \"\"], [\"Download\", \"Download plot\", \"fa fa-floppy-o icon-save\", \"download\"]];\n",
       "\n",
       "mpl.extensions = [\"eps\", \"jpeg\", \"pdf\", \"png\", \"ps\", \"raw\", \"svg\", \"tif\"];\n",
       "\n",
       "mpl.default_extension = \"png\";var comm_websocket_adapter = function(comm) {\n",
       "    // Create a \"websocket\"-like object which calls the given IPython comm\n",
       "    // object with the appropriate methods. Currently this is a non binary\n",
       "    // socket, so there is still some room for performance tuning.\n",
       "    var ws = {};\n",
       "\n",
       "    ws.close = function() {\n",
       "        comm.close()\n",
       "    };\n",
       "    ws.send = function(m) {\n",
       "        //console.log('sending', m);\n",
       "        comm.send(m);\n",
       "    };\n",
       "    // Register the callback with on_msg.\n",
       "    comm.on_msg(function(msg) {\n",
       "        //console.log('receiving', msg['content']['data'], msg);\n",
       "        // Pass the mpl event to the overridden (by mpl) onmessage function.\n",
       "        ws.onmessage(msg['content']['data'])\n",
       "    });\n",
       "    return ws;\n",
       "}\n",
       "\n",
       "mpl.mpl_figure_comm = function(comm, msg) {\n",
       "    // This is the function which gets called when the mpl process\n",
       "    // starts-up an IPython Comm through the \"matplotlib\" channel.\n",
       "\n",
       "    var id = msg.content.data.id;\n",
       "    // Get hold of the div created by the display call when the Comm\n",
       "    // socket was opened in Python.\n",
       "    var element = $(\"#\" + id);\n",
       "    var ws_proxy = comm_websocket_adapter(comm)\n",
       "\n",
       "    function ondownload(figure, format) {\n",
       "        window.open(figure.imageObj.src);\n",
       "    }\n",
       "\n",
       "    var fig = new mpl.figure(id, ws_proxy,\n",
       "                           ondownload,\n",
       "                           element.get(0));\n",
       "\n",
       "    // Call onopen now - mpl needs it, as it is assuming we've passed it a real\n",
       "    // web socket which is closed, not our websocket->open comm proxy.\n",
       "    ws_proxy.onopen();\n",
       "\n",
       "    fig.parent_element = element.get(0);\n",
       "    fig.cell_info = mpl.find_output_cell(\"<div id='\" + id + \"'></div>\");\n",
       "    if (!fig.cell_info) {\n",
       "        console.error(\"Failed to find cell for figure\", id, fig);\n",
       "        return;\n",
       "    }\n",
       "\n",
       "    var output_index = fig.cell_info[2]\n",
       "    var cell = fig.cell_info[0];\n",
       "\n",
       "};\n",
       "\n",
       "mpl.figure.prototype.handle_close = function(fig, msg) {\n",
       "    var width = fig.canvas.width/mpl.ratio\n",
       "    fig.root.unbind('remove')\n",
       "\n",
       "    // Update the output cell to use the data from the current canvas.\n",
       "    fig.push_to_output();\n",
       "    var dataURL = fig.canvas.toDataURL();\n",
       "    // Re-enable the keyboard manager in IPython - without this line, in FF,\n",
       "    // the notebook keyboard shortcuts fail.\n",
       "    IPython.keyboard_manager.enable()\n",
       "    $(fig.parent_element).html('<img src=\"' + dataURL + '\" width=\"' + width + '\">');\n",
       "    fig.close_ws(fig, msg);\n",
       "}\n",
       "\n",
       "mpl.figure.prototype.close_ws = function(fig, msg){\n",
       "    fig.send_message('closing', msg);\n",
       "    // fig.ws.close()\n",
       "}\n",
       "\n",
       "mpl.figure.prototype.push_to_output = function(remove_interactive) {\n",
       "    // Turn the data on the canvas into data in the output cell.\n",
       "    var width = this.canvas.width/mpl.ratio\n",
       "    var dataURL = this.canvas.toDataURL();\n",
       "    this.cell_info[1]['text/html'] = '<img src=\"' + dataURL + '\" width=\"' + width + '\">';\n",
       "}\n",
       "\n",
       "mpl.figure.prototype.updated_canvas_event = function() {\n",
       "    // Tell IPython that the notebook contents must change.\n",
       "    IPython.notebook.set_dirty(true);\n",
       "    this.send_message(\"ack\", {});\n",
       "    var fig = this;\n",
       "    // Wait a second, then push the new image to the DOM so\n",
       "    // that it is saved nicely (might be nice to debounce this).\n",
       "    setTimeout(function () { fig.push_to_output() }, 1000);\n",
       "}\n",
       "\n",
       "mpl.figure.prototype._init_toolbar = function() {\n",
       "    var fig = this;\n",
       "\n",
       "    var nav_element = $('<div/>');\n",
       "    nav_element.attr('style', 'width: 100%');\n",
       "    this.root.append(nav_element);\n",
       "\n",
       "    // Define a callback function for later on.\n",
       "    function toolbar_event(event) {\n",
       "        return fig.toolbar_button_onclick(event['data']);\n",
       "    }\n",
       "    function toolbar_mouse_event(event) {\n",
       "        return fig.toolbar_button_onmouseover(event['data']);\n",
       "    }\n",
       "\n",
       "    for(var toolbar_ind in mpl.toolbar_items){\n",
       "        var name = mpl.toolbar_items[toolbar_ind][0];\n",
       "        var tooltip = mpl.toolbar_items[toolbar_ind][1];\n",
       "        var image = mpl.toolbar_items[toolbar_ind][2];\n",
       "        var method_name = mpl.toolbar_items[toolbar_ind][3];\n",
       "\n",
       "        if (!name) { continue; };\n",
       "\n",
       "        var button = $('<button class=\"btn btn-default\" href=\"#\" title=\"' + name + '\"><i class=\"fa ' + image + ' fa-lg\"></i></button>');\n",
       "        button.click(method_name, toolbar_event);\n",
       "        button.mouseover(tooltip, toolbar_mouse_event);\n",
       "        nav_element.append(button);\n",
       "    }\n",
       "\n",
       "    // Add the status bar.\n",
       "    var status_bar = $('<span class=\"mpl-message\" style=\"text-align:right; float: right;\"/>');\n",
       "    nav_element.append(status_bar);\n",
       "    this.message = status_bar[0];\n",
       "\n",
       "    // Add the close button to the window.\n",
       "    var buttongrp = $('<div class=\"btn-group inline pull-right\"></div>');\n",
       "    var button = $('<button class=\"btn btn-mini btn-primary\" href=\"#\" title=\"Stop Interaction\"><i class=\"fa fa-power-off icon-remove icon-large\"></i></button>');\n",
       "    button.click(function (evt) { fig.handle_close(fig, {}); } );\n",
       "    button.mouseover('Stop Interaction', toolbar_mouse_event);\n",
       "    buttongrp.append(button);\n",
       "    var titlebar = this.root.find($('.ui-dialog-titlebar'));\n",
       "    titlebar.prepend(buttongrp);\n",
       "}\n",
       "\n",
       "mpl.figure.prototype._root_extra_style = function(el){\n",
       "    var fig = this\n",
       "    el.on(\"remove\", function(){\n",
       "\tfig.close_ws(fig, {});\n",
       "    });\n",
       "}\n",
       "\n",
       "mpl.figure.prototype._canvas_extra_style = function(el){\n",
       "    // this is important to make the div 'focusable\n",
       "    el.attr('tabindex', 0)\n",
       "    // reach out to IPython and tell the keyboard manager to turn it's self\n",
       "    // off when our div gets focus\n",
       "\n",
       "    // location in version 3\n",
       "    if (IPython.notebook.keyboard_manager) {\n",
       "        IPython.notebook.keyboard_manager.register_events(el);\n",
       "    }\n",
       "    else {\n",
       "        // location in version 2\n",
       "        IPython.keyboard_manager.register_events(el);\n",
       "    }\n",
       "\n",
       "}\n",
       "\n",
       "mpl.figure.prototype._key_event_extra = function(event, name) {\n",
       "    var manager = IPython.notebook.keyboard_manager;\n",
       "    if (!manager)\n",
       "        manager = IPython.keyboard_manager;\n",
       "\n",
       "    // Check for shift+enter\n",
       "    if (event.shiftKey && event.which == 13) {\n",
       "        this.canvas_div.blur();\n",
       "        // select the cell after this one\n",
       "        var index = IPython.notebook.find_cell_index(this.cell_info[0]);\n",
       "        IPython.notebook.select(index + 1);\n",
       "    }\n",
       "}\n",
       "\n",
       "mpl.figure.prototype.handle_save = function(fig, msg) {\n",
       "    fig.ondownload(fig, null);\n",
       "}\n",
       "\n",
       "\n",
       "mpl.find_output_cell = function(html_output) {\n",
       "    // Return the cell and output element which can be found *uniquely* in the notebook.\n",
       "    // Note - this is a bit hacky, but it is done because the \"notebook_saving.Notebook\"\n",
       "    // IPython event is triggered only after the cells have been serialised, which for\n",
       "    // our purposes (turning an active figure into a static one), is too late.\n",
       "    var cells = IPython.notebook.get_cells();\n",
       "    var ncells = cells.length;\n",
       "    for (var i=0; i<ncells; i++) {\n",
       "        var cell = cells[i];\n",
       "        if (cell.cell_type === 'code'){\n",
       "            for (var j=0; j<cell.output_area.outputs.length; j++) {\n",
       "                var data = cell.output_area.outputs[j];\n",
       "                if (data.data) {\n",
       "                    // IPython >= 3 moved mimebundle to data attribute of output\n",
       "                    data = data.data;\n",
       "                }\n",
       "                if (data['text/html'] == html_output) {\n",
       "                    return [cell, data, j];\n",
       "                }\n",
       "            }\n",
       "        }\n",
       "    }\n",
       "}\n",
       "\n",
       "// Register the function which deals with the matplotlib target/channel.\n",
       "// The kernel may be null if the page has been refreshed.\n",
       "if (IPython.notebook.kernel != null) {\n",
       "    IPython.notebook.kernel.comm_manager.register_target('matplotlib', mpl.mpl_figure_comm);\n",
       "}\n"
      ],
      "text/plain": [
       "<IPython.core.display.Javascript object>"
      ]
     },
     "metadata": {},
     "output_type": "display_data"
    },
    {
     "data": {
      "text/html": [
       "<img src=\"data:image/png;base64,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\" width=\"1000\">"
      ],
      "text/plain": [
       "<IPython.core.display.HTML object>"
      ]
     },
     "metadata": {},
     "output_type": "display_data"
    }
   ],
   "source": [
    "ax, tax, lax, lines = dual_train_plots()\n",
    "fig = ax.figure\n",
    "plt.tight_layout()"
   ]
  },
  {
   "cell_type": "code",
   "execution_count": 18,
   "metadata": {
    "scrolled": false
   },
   "outputs": [
    {
     "name": "stdout",
     "output_type": "stream",
     "text": [
      "Number of batches: train = 5000, val = 157\n"
     ]
    },
    {
     "data": {
      "application/vnd.jupyter.widget-view+json": {
       "model_id": "cbc005664bab4cd9b4496b9003956143",
       "version_major": 2,
       "version_minor": 0
      },
      "text/plain": [
       "HBox(children=(FloatProgress(value=0.0, description='Epochs', layout=Layout(flex='2'), max=80.0, style=Progres…"
      ]
     },
     "metadata": {},
     "output_type": "display_data"
    },
    {
     "name": "stdout",
     "output_type": "stream",
     "text": [
      "Number of batches: train = 5000, val = 157\n"
     ]
    },
    {
     "data": {
      "application/vnd.jupyter.widget-view+json": {
       "model_id": "",
       "version_major": 2,
       "version_minor": 0
      },
      "text/plain": [
       "HBox(children=(FloatProgress(value=0.0, description='Training', layout=Layout(flex='2'), max=5000.0, style=Pro…"
      ]
     },
     "metadata": {},
     "output_type": "display_data"
    },
    {
     "name": "stdout",
     "output_type": "stream",
     "text": [
      "Epoch 0: train=0.586606, val=0.389413, took 582.82 s\n"
     ]
    },
    {
     "data": {
      "application/vnd.jupyter.widget-view+json": {
       "model_id": "",
       "version_major": 2,
       "version_minor": 0
      },
      "text/plain": [
       "HBox(children=(FloatProgress(value=0.0, description='Training', layout=Layout(flex='2'), max=5000.0, style=Pro…"
      ]
     },
     "metadata": {},
     "output_type": "display_data"
    },
    {
     "name": "stdout",
     "output_type": "stream",
     "text": [
      "Epoch 1: train=0.583984, val=0.385239, took 579.79 s\n"
     ]
    },
    {
     "data": {
      "application/vnd.jupyter.widget-view+json": {
       "model_id": "",
       "version_major": 2,
       "version_minor": 0
      },
      "text/plain": [
       "HBox(children=(FloatProgress(value=0.0, description='Training', layout=Layout(flex='2'), max=5000.0, style=Pro…"
      ]
     },
     "metadata": {},
     "output_type": "display_data"
    },
    {
     "name": "stdout",
     "output_type": "stream",
     "text": [
      "Epoch 2: train=0.585996, val=0.382997, took 579.03 s\n"
     ]
    },
    {
     "data": {
      "application/vnd.jupyter.widget-view+json": {
       "model_id": "",
       "version_major": 2,
       "version_minor": 0
      },
      "text/plain": [
       "HBox(children=(FloatProgress(value=0.0, description='Training', layout=Layout(flex='2'), max=5000.0, style=Pro…"
      ]
     },
     "metadata": {},
     "output_type": "display_data"
    },
    {
     "name": "stdout",
     "output_type": "stream",
     "text": [
      "Epoch 3: train=0.583761, val=0.396588, took 579.05 s\n"
     ]
    },
    {
     "data": {
      "application/vnd.jupyter.widget-view+json": {
       "model_id": "",
       "version_major": 2,
       "version_minor": 0
      },
      "text/plain": [
       "HBox(children=(FloatProgress(value=0.0, description='Training', layout=Layout(flex='2'), max=5000.0, style=Pro…"
      ]
     },
     "metadata": {},
     "output_type": "display_data"
    },
    {
     "name": "stdout",
     "output_type": "stream",
     "text": [
      "Epoch 4: train=0.586658, val=0.392774, took 577.94 s\n"
     ]
    },
    {
     "data": {
      "application/vnd.jupyter.widget-view+json": {
       "model_id": "",
       "version_major": 2,
       "version_minor": 0
      },
      "text/plain": [
       "HBox(children=(FloatProgress(value=0.0, description='Training', layout=Layout(flex='2'), max=5000.0, style=Pro…"
      ]
     },
     "metadata": {},
     "output_type": "display_data"
    },
    {
     "name": "stdout",
     "output_type": "stream",
     "text": [
      "Epoch 5: train=0.585354, val=0.385163, took 578.85 s\n"
     ]
    },
    {
     "data": {
      "application/vnd.jupyter.widget-view+json": {
       "model_id": "",
       "version_major": 2,
       "version_minor": 0
      },
      "text/plain": [
       "HBox(children=(FloatProgress(value=0.0, description='Training', layout=Layout(flex='2'), max=5000.0, style=Pro…"
      ]
     },
     "metadata": {},
     "output_type": "display_data"
    },
    {
     "name": "stdout",
     "output_type": "stream",
     "text": [
      "Epoch 6: train=0.586437, val=0.414769, took 578.44 s\n"
     ]
    },
    {
     "data": {
      "application/vnd.jupyter.widget-view+json": {
       "model_id": "",
       "version_major": 2,
       "version_minor": 0
      },
      "text/plain": [
       "HBox(children=(FloatProgress(value=0.0, description='Training', layout=Layout(flex='2'), max=5000.0, style=Pro…"
      ]
     },
     "metadata": {},
     "output_type": "display_data"
    },
    {
     "name": "stdout",
     "output_type": "stream",
     "text": [
      "Epoch 7: train=0.583088, val=0.385106, took 578.78 s\n"
     ]
    },
    {
     "data": {
      "application/vnd.jupyter.widget-view+json": {
       "model_id": "",
       "version_major": 2,
       "version_minor": 0
      },
      "text/plain": [
       "HBox(children=(FloatProgress(value=0.0, description='Training', layout=Layout(flex='2'), max=5000.0, style=Pro…"
      ]
     },
     "metadata": {},
     "output_type": "display_data"
    },
    {
     "name": "stdout",
     "output_type": "stream",
     "text": [
      "Epoch 8: train=0.584246, val=0.394736, took 578.31 s\n"
     ]
    },
    {
     "data": {
      "application/vnd.jupyter.widget-view+json": {
       "model_id": "",
       "version_major": 2,
       "version_minor": 0
      },
      "text/plain": [
       "HBox(children=(FloatProgress(value=0.0, description='Training', layout=Layout(flex='2'), max=5000.0, style=Pro…"
      ]
     },
     "metadata": {},
     "output_type": "display_data"
    },
    {
     "name": "stdout",
     "output_type": "stream",
     "text": [
      "Epoch 9: train=0.583672, val=0.385007, took 577.67 s\n"
     ]
    },
    {
     "data": {
      "application/vnd.jupyter.widget-view+json": {
       "model_id": "",
       "version_major": 2,
       "version_minor": 0
      },
      "text/plain": [
       "HBox(children=(FloatProgress(value=0.0, description='Training', layout=Layout(flex='2'), max=5000.0, style=Pro…"
      ]
     },
     "metadata": {},
     "output_type": "display_data"
    },
    {
     "name": "stdout",
     "output_type": "stream",
     "text": [
      "Epoch 10: train=0.584433, val=0.395474, took 578.85 s\n"
     ]
    },
    {
     "data": {
      "application/vnd.jupyter.widget-view+json": {
       "model_id": "",
       "version_major": 2,
       "version_minor": 0
      },
      "text/plain": [
       "HBox(children=(FloatProgress(value=0.0, description='Training', layout=Layout(flex='2'), max=5000.0, style=Pro…"
      ]
     },
     "metadata": {},
     "output_type": "display_data"
    },
    {
     "name": "stdout",
     "output_type": "stream",
     "text": [
      "Epoch 11: train=0.583626, val=0.384061, took 578.77 s\n"
     ]
    },
    {
     "data": {
      "application/vnd.jupyter.widget-view+json": {
       "model_id": "",
       "version_major": 2,
       "version_minor": 0
      },
      "text/plain": [
       "HBox(children=(FloatProgress(value=0.0, description='Training', layout=Layout(flex='2'), max=5000.0, style=Pro…"
      ]
     },
     "metadata": {},
     "output_type": "display_data"
    },
    {
     "name": "stdout",
     "output_type": "stream",
     "text": [
      "Epoch 12: train=0.583062, val=0.405374, took 578.35 s\n"
     ]
    },
    {
     "data": {
      "application/vnd.jupyter.widget-view+json": {
       "model_id": "",
       "version_major": 2,
       "version_minor": 0
      },
      "text/plain": [
       "HBox(children=(FloatProgress(value=0.0, description='Training', layout=Layout(flex='2'), max=5000.0, style=Pro…"
      ]
     },
     "metadata": {},
     "output_type": "display_data"
    },
    {
     "name": "stdout",
     "output_type": "stream",
     "text": [
      "Epoch 13: train=0.583485, val=0.425283, took 579.22 s\n"
     ]
    },
    {
     "data": {
      "application/vnd.jupyter.widget-view+json": {
       "model_id": "",
       "version_major": 2,
       "version_minor": 0
      },
      "text/plain": [
       "HBox(children=(FloatProgress(value=0.0, description='Training', layout=Layout(flex='2'), max=5000.0, style=Pro…"
      ]
     },
     "metadata": {},
     "output_type": "display_data"
    },
    {
     "name": "stdout",
     "output_type": "stream",
     "text": [
      "Epoch 14: train=0.58651, val=0.393086, took 578.06 s\n"
     ]
    },
    {
     "data": {
      "application/vnd.jupyter.widget-view+json": {
       "model_id": "",
       "version_major": 2,
       "version_minor": 0
      },
      "text/plain": [
       "HBox(children=(FloatProgress(value=0.0, description='Training', layout=Layout(flex='2'), max=5000.0, style=Pro…"
      ]
     },
     "metadata": {},
     "output_type": "display_data"
    },
    {
     "name": "stdout",
     "output_type": "stream",
     "text": [
      "Epoch 15: train=0.582425, val=0.380481, took 577.86 s\n"
     ]
    },
    {
     "data": {
      "application/vnd.jupyter.widget-view+json": {
       "model_id": "",
       "version_major": 2,
       "version_minor": 0
      },
      "text/plain": [
       "HBox(children=(FloatProgress(value=0.0, description='Training', layout=Layout(flex='2'), max=5000.0, style=Pro…"
      ]
     },
     "metadata": {},
     "output_type": "display_data"
    },
    {
     "name": "stdout",
     "output_type": "stream",
     "text": [
      "Epoch 16: train=0.583747, val=0.421091, took 579.03 s\n"
     ]
    },
    {
     "data": {
      "application/vnd.jupyter.widget-view+json": {
       "model_id": "",
       "version_major": 2,
       "version_minor": 0
      },
      "text/plain": [
       "HBox(children=(FloatProgress(value=0.0, description='Training', layout=Layout(flex='2'), max=5000.0, style=Pro…"
      ]
     },
     "metadata": {},
     "output_type": "display_data"
    },
    {
     "name": "stdout",
     "output_type": "stream",
     "text": [
      "Epoch 17: train=0.582822, val=0.386053, took 577.61 s\n"
     ]
    },
    {
     "data": {
      "application/vnd.jupyter.widget-view+json": {
       "model_id": "",
       "version_major": 2,
       "version_minor": 0
      },
      "text/plain": [
       "HBox(children=(FloatProgress(value=0.0, description='Training', layout=Layout(flex='2'), max=5000.0, style=Pro…"
      ]
     },
     "metadata": {},
     "output_type": "display_data"
    },
    {
     "name": "stdout",
     "output_type": "stream",
     "text": [
      "Epoch 18: train=0.582284, val=0.385878, took 578.78 s\n"
     ]
    },
    {
     "data": {
      "application/vnd.jupyter.widget-view+json": {
       "model_id": "",
       "version_major": 2,
       "version_minor": 0
      },
      "text/plain": [
       "HBox(children=(FloatProgress(value=0.0, description='Training', layout=Layout(flex='2'), max=5000.0, style=Pro…"
      ]
     },
     "metadata": {},
     "output_type": "display_data"
    },
    {
     "name": "stdout",
     "output_type": "stream",
     "text": [
      "Epoch 19: train=0.582094, val=0.383871, took 577.03 s\n"
     ]
    },
    {
     "data": {
      "application/vnd.jupyter.widget-view+json": {
       "model_id": "",
       "version_major": 2,
       "version_minor": 0
      },
      "text/plain": [
       "HBox(children=(FloatProgress(value=0.0, description='Training', layout=Layout(flex='2'), max=5000.0, style=Pro…"
      ]
     },
     "metadata": {},
     "output_type": "display_data"
    },
    {
     "name": "stdout",
     "output_type": "stream",
     "text": [
      "Epoch 20: train=0.580016, val=0.38412, took 578.58 s\n"
     ]
    },
    {
     "data": {
      "application/vnd.jupyter.widget-view+json": {
       "model_id": "",
       "version_major": 2,
       "version_minor": 0
      },
      "text/plain": [
       "HBox(children=(FloatProgress(value=0.0, description='Training', layout=Layout(flex='2'), max=5000.0, style=Pro…"
      ]
     },
     "metadata": {},
     "output_type": "display_data"
    },
    {
     "name": "stdout",
     "output_type": "stream",
     "text": [
      "Epoch 21: train=0.582234, val=0.38733, took 578.58 s\n"
     ]
    },
    {
     "data": {
      "application/vnd.jupyter.widget-view+json": {
       "model_id": "",
       "version_major": 2,
       "version_minor": 0
      },
      "text/plain": [
       "HBox(children=(FloatProgress(value=0.0, description='Training', layout=Layout(flex='2'), max=5000.0, style=Pro…"
      ]
     },
     "metadata": {},
     "output_type": "display_data"
    },
    {
     "name": "stdout",
     "output_type": "stream",
     "text": [
      "Epoch 22: train=0.582962, val=0.384126, took 577.42 s\n"
     ]
    },
    {
     "data": {
      "application/vnd.jupyter.widget-view+json": {
       "model_id": "",
       "version_major": 2,
       "version_minor": 0
      },
      "text/plain": [
       "HBox(children=(FloatProgress(value=0.0, description='Training', layout=Layout(flex='2'), max=5000.0, style=Pro…"
      ]
     },
     "metadata": {},
     "output_type": "display_data"
    },
    {
     "name": "stdout",
     "output_type": "stream",
     "text": [
      "Epoch 23: train=0.58148, val=0.383103, took 577.98 s\n"
     ]
    },
    {
     "data": {
      "application/vnd.jupyter.widget-view+json": {
       "model_id": "",
       "version_major": 2,
       "version_minor": 0
      },
      "text/plain": [
       "HBox(children=(FloatProgress(value=0.0, description='Training', layout=Layout(flex='2'), max=5000.0, style=Pro…"
      ]
     },
     "metadata": {},
     "output_type": "display_data"
    },
    {
     "name": "stdout",
     "output_type": "stream",
     "text": [
      "Epoch 24: train=0.581685, val=0.382039, took 577.43 s\n"
     ]
    },
    {
     "data": {
      "application/vnd.jupyter.widget-view+json": {
       "model_id": "",
       "version_major": 2,
       "version_minor": 0
      },
      "text/plain": [
       "HBox(children=(FloatProgress(value=0.0, description='Training', layout=Layout(flex='2'), max=5000.0, style=Pro…"
      ]
     },
     "metadata": {},
     "output_type": "display_data"
    },
    {
     "name": "stdout",
     "output_type": "stream",
     "text": [
      "Epoch 25: train=0.581345, val=0.391353, took 577.79 s\n"
     ]
    },
    {
     "data": {
      "application/vnd.jupyter.widget-view+json": {
       "model_id": "",
       "version_major": 2,
       "version_minor": 0
      },
      "text/plain": [
       "HBox(children=(FloatProgress(value=0.0, description='Training', layout=Layout(flex='2'), max=5000.0, style=Pro…"
      ]
     },
     "metadata": {},
     "output_type": "display_data"
    },
    {
     "name": "stdout",
     "output_type": "stream",
     "text": [
      "Epoch 26: train=0.581022, val=0.392536, took 577.33 s\n"
     ]
    },
    {
     "data": {
      "application/vnd.jupyter.widget-view+json": {
       "model_id": "",
       "version_major": 2,
       "version_minor": 0
      },
      "text/plain": [
       "HBox(children=(FloatProgress(value=0.0, description='Training', layout=Layout(flex='2'), max=5000.0, style=Pro…"
      ]
     },
     "metadata": {},
     "output_type": "display_data"
    },
    {
     "name": "stdout",
     "output_type": "stream",
     "text": [
      "Epoch 27: train=0.582268, val=0.384518, took 578.95 s\n"
     ]
    },
    {
     "data": {
      "application/vnd.jupyter.widget-view+json": {
       "model_id": "",
       "version_major": 2,
       "version_minor": 0
      },
      "text/plain": [
       "HBox(children=(FloatProgress(value=0.0, description='Training', layout=Layout(flex='2'), max=5000.0, style=Pro…"
      ]
     },
     "metadata": {},
     "output_type": "display_data"
    },
    {
     "name": "stdout",
     "output_type": "stream",
     "text": [
      "Epoch 28: train=0.583623, val=0.399449, took 578.46 s\n"
     ]
    },
    {
     "data": {
      "application/vnd.jupyter.widget-view+json": {
       "model_id": "",
       "version_major": 2,
       "version_minor": 0
      },
      "text/plain": [
       "HBox(children=(FloatProgress(value=0.0, description='Training', layout=Layout(flex='2'), max=5000.0, style=Pro…"
      ]
     },
     "metadata": {},
     "output_type": "display_data"
    },
    {
     "name": "stdout",
     "output_type": "stream",
     "text": [
      "Epoch 29: train=0.581933, val=0.429991, took 577.57 s\n"
     ]
    },
    {
     "data": {
      "application/vnd.jupyter.widget-view+json": {
       "model_id": "",
       "version_major": 2,
       "version_minor": 0
      },
      "text/plain": [
       "HBox(children=(FloatProgress(value=0.0, description='Training', layout=Layout(flex='2'), max=5000.0, style=Pro…"
      ]
     },
     "metadata": {},
     "output_type": "display_data"
    },
    {
     "name": "stdout",
     "output_type": "stream",
     "text": [
      "Epoch 30: train=0.581527, val=0.379643, took 578.13 s\n"
     ]
    },
    {
     "data": {
      "application/vnd.jupyter.widget-view+json": {
       "model_id": "",
       "version_major": 2,
       "version_minor": 0
      },
      "text/plain": [
       "HBox(children=(FloatProgress(value=0.0, description='Training', layout=Layout(flex='2'), max=5000.0, style=Pro…"
      ]
     },
     "metadata": {},
     "output_type": "display_data"
    },
    {
     "name": "stdout",
     "output_type": "stream",
     "text": [
      "Epoch 31: train=0.581948, val=0.382899, took 578.64 s\n"
     ]
    },
    {
     "data": {
      "application/vnd.jupyter.widget-view+json": {
       "model_id": "",
       "version_major": 2,
       "version_minor": 0
      },
      "text/plain": [
       "HBox(children=(FloatProgress(value=0.0, description='Training', layout=Layout(flex='2'), max=5000.0, style=Pro…"
      ]
     },
     "metadata": {},
     "output_type": "display_data"
    },
    {
     "name": "stdout",
     "output_type": "stream",
     "text": [
      "Epoch 32: train=0.581274, val=0.39622, took 577.96 s\n"
     ]
    },
    {
     "data": {
      "application/vnd.jupyter.widget-view+json": {
       "model_id": "",
       "version_major": 2,
       "version_minor": 0
      },
      "text/plain": [
       "HBox(children=(FloatProgress(value=0.0, description='Training', layout=Layout(flex='2'), max=5000.0, style=Pro…"
      ]
     },
     "metadata": {},
     "output_type": "display_data"
    },
    {
     "name": "stdout",
     "output_type": "stream",
     "text": [
      "Epoch 33: train=0.580066, val=0.390957, took 578.93 s\n"
     ]
    },
    {
     "data": {
      "application/vnd.jupyter.widget-view+json": {
       "model_id": "",
       "version_major": 2,
       "version_minor": 0
      },
      "text/plain": [
       "HBox(children=(FloatProgress(value=0.0, description='Training', layout=Layout(flex='2'), max=5000.0, style=Pro…"
      ]
     },
     "metadata": {},
     "output_type": "display_data"
    },
    {
     "name": "stdout",
     "output_type": "stream",
     "text": [
      "Epoch 34: train=0.582169, val=0.388264, took 577.39 s\n"
     ]
    },
    {
     "data": {
      "application/vnd.jupyter.widget-view+json": {
       "model_id": "",
       "version_major": 2,
       "version_minor": 0
      },
      "text/plain": [
       "HBox(children=(FloatProgress(value=0.0, description='Training', layout=Layout(flex='2'), max=5000.0, style=Pro…"
      ]
     },
     "metadata": {},
     "output_type": "display_data"
    },
    {
     "name": "stdout",
     "output_type": "stream",
     "text": [
      "Epoch 35: train=0.579542, val=0.415413, took 578.28 s\n"
     ]
    },
    {
     "data": {
      "application/vnd.jupyter.widget-view+json": {
       "model_id": "",
       "version_major": 2,
       "version_minor": 0
      },
      "text/plain": [
       "HBox(children=(FloatProgress(value=0.0, description='Training', layout=Layout(flex='2'), max=5000.0, style=Pro…"
      ]
     },
     "metadata": {},
     "output_type": "display_data"
    },
    {
     "name": "stdout",
     "output_type": "stream",
     "text": [
      "Epoch 36: train=0.581826, val=0.387545, took 578.79 s\n"
     ]
    },
    {
     "data": {
      "application/vnd.jupyter.widget-view+json": {
       "model_id": "",
       "version_major": 2,
       "version_minor": 0
      },
      "text/plain": [
       "HBox(children=(FloatProgress(value=0.0, description='Training', layout=Layout(flex='2'), max=5000.0, style=Pro…"
      ]
     },
     "metadata": {},
     "output_type": "display_data"
    },
    {
     "name": "stdout",
     "output_type": "stream",
     "text": [
      "Epoch 37: train=0.581449, val=0.387082, took 579.09 s\n"
     ]
    },
    {
     "data": {
      "application/vnd.jupyter.widget-view+json": {
       "model_id": "",
       "version_major": 2,
       "version_minor": 0
      },
      "text/plain": [
       "HBox(children=(FloatProgress(value=0.0, description='Training', layout=Layout(flex='2'), max=5000.0, style=Pro…"
      ]
     },
     "metadata": {},
     "output_type": "display_data"
    },
    {
     "name": "stdout",
     "output_type": "stream",
     "text": [
      "Epoch 38: train=0.581581, val=0.38262, took 577.62 s\n"
     ]
    },
    {
     "data": {
      "application/vnd.jupyter.widget-view+json": {
       "model_id": "",
       "version_major": 2,
       "version_minor": 0
      },
      "text/plain": [
       "HBox(children=(FloatProgress(value=0.0, description='Training', layout=Layout(flex='2'), max=5000.0, style=Pro…"
      ]
     },
     "metadata": {},
     "output_type": "display_data"
    },
    {
     "name": "stdout",
     "output_type": "stream",
     "text": [
      "Epoch 39: train=0.580285, val=0.385758, took 577.4 s\n"
     ]
    },
    {
     "data": {
      "application/vnd.jupyter.widget-view+json": {
       "model_id": "",
       "version_major": 2,
       "version_minor": 0
      },
      "text/plain": [
       "HBox(children=(FloatProgress(value=0.0, description='Training', layout=Layout(flex='2'), max=5000.0, style=Pro…"
      ]
     },
     "metadata": {},
     "output_type": "display_data"
    },
    {
     "name": "stdout",
     "output_type": "stream",
     "text": [
      "Epoch 40: train=0.580495, val=0.403709, took 578.64 s\n"
     ]
    },
    {
     "data": {
      "application/vnd.jupyter.widget-view+json": {
       "model_id": "",
       "version_major": 2,
       "version_minor": 0
      },
      "text/plain": [
       "HBox(children=(FloatProgress(value=0.0, description='Training', layout=Layout(flex='2'), max=5000.0, style=Pro…"
      ]
     },
     "metadata": {},
     "output_type": "display_data"
    },
    {
     "name": "stdout",
     "output_type": "stream",
     "text": [
      "Epoch 41: train=0.578153, val=0.386794, took 577.26 s\n"
     ]
    },
    {
     "data": {
      "application/vnd.jupyter.widget-view+json": {
       "model_id": "",
       "version_major": 2,
       "version_minor": 0
      },
      "text/plain": [
       "HBox(children=(FloatProgress(value=0.0, description='Training', layout=Layout(flex='2'), max=5000.0, style=Pro…"
      ]
     },
     "metadata": {},
     "output_type": "display_data"
    },
    {
     "name": "stdout",
     "output_type": "stream",
     "text": [
      "Epoch 42: train=0.580164, val=0.383161, took 578.77 s\n"
     ]
    },
    {
     "data": {
      "application/vnd.jupyter.widget-view+json": {
       "model_id": "",
       "version_major": 2,
       "version_minor": 0
      },
      "text/plain": [
       "HBox(children=(FloatProgress(value=0.0, description='Training', layout=Layout(flex='2'), max=5000.0, style=Pro…"
      ]
     },
     "metadata": {},
     "output_type": "display_data"
    },
    {
     "name": "stdout",
     "output_type": "stream",
     "text": [
      "Epoch 43: train=0.579274, val=0.38473, took 578.92 s\n"
     ]
    },
    {
     "data": {
      "application/vnd.jupyter.widget-view+json": {
       "model_id": "",
       "version_major": 2,
       "version_minor": 0
      },
      "text/plain": [
       "HBox(children=(FloatProgress(value=0.0, description='Training', layout=Layout(flex='2'), max=5000.0, style=Pro…"
      ]
     },
     "metadata": {},
     "output_type": "display_data"
    },
    {
     "name": "stdout",
     "output_type": "stream",
     "text": [
      "Epoch 44: train=0.579746, val=0.383411, took 577.98 s\n"
     ]
    },
    {
     "data": {
      "application/vnd.jupyter.widget-view+json": {
       "model_id": "",
       "version_major": 2,
       "version_minor": 0
      },
      "text/plain": [
       "HBox(children=(FloatProgress(value=0.0, description='Training', layout=Layout(flex='2'), max=5000.0, style=Pro…"
      ]
     },
     "metadata": {},
     "output_type": "display_data"
    },
    {
     "name": "stdout",
     "output_type": "stream",
     "text": [
      "Epoch 45: train=0.580561, val=0.381772, took 577.99 s\n"
     ]
    },
    {
     "data": {
      "application/vnd.jupyter.widget-view+json": {
       "model_id": "",
       "version_major": 2,
       "version_minor": 0
      },
      "text/plain": [
       "HBox(children=(FloatProgress(value=0.0, description='Training', layout=Layout(flex='2'), max=5000.0, style=Pro…"
      ]
     },
     "metadata": {},
     "output_type": "display_data"
    },
    {
     "name": "stdout",
     "output_type": "stream",
     "text": [
      "Epoch 46: train=0.579308, val=0.379165, took 578.21 s\n"
     ]
    },
    {
     "data": {
      "application/vnd.jupyter.widget-view+json": {
       "model_id": "",
       "version_major": 2,
       "version_minor": 0
      },
      "text/plain": [
       "HBox(children=(FloatProgress(value=0.0, description='Training', layout=Layout(flex='2'), max=5000.0, style=Pro…"
      ]
     },
     "metadata": {},
     "output_type": "display_data"
    },
    {
     "name": "stdout",
     "output_type": "stream",
     "text": [
      "Epoch 47: train=0.578425, val=0.397119, took 578.53 s\n"
     ]
    },
    {
     "data": {
      "application/vnd.jupyter.widget-view+json": {
       "model_id": "",
       "version_major": 2,
       "version_minor": 0
      },
      "text/plain": [
       "HBox(children=(FloatProgress(value=0.0, description='Training', layout=Layout(flex='2'), max=5000.0, style=Pro…"
      ]
     },
     "metadata": {},
     "output_type": "display_data"
    },
    {
     "name": "stdout",
     "output_type": "stream",
     "text": [
      "Epoch 48: train=0.57978, val=0.440359, took 578.77 s\n"
     ]
    },
    {
     "data": {
      "application/vnd.jupyter.widget-view+json": {
       "model_id": "",
       "version_major": 2,
       "version_minor": 0
      },
      "text/plain": [
       "HBox(children=(FloatProgress(value=0.0, description='Training', layout=Layout(flex='2'), max=5000.0, style=Pro…"
      ]
     },
     "metadata": {},
     "output_type": "display_data"
    },
    {
     "name": "stdout",
     "output_type": "stream",
     "text": [
      "Epoch 49: train=0.578675, val=0.402292, took 578.29 s\n"
     ]
    },
    {
     "data": {
      "application/vnd.jupyter.widget-view+json": {
       "model_id": "",
       "version_major": 2,
       "version_minor": 0
      },
      "text/plain": [
       "HBox(children=(FloatProgress(value=0.0, description='Training', layout=Layout(flex='2'), max=5000.0, style=Pro…"
      ]
     },
     "metadata": {},
     "output_type": "display_data"
    },
    {
     "name": "stdout",
     "output_type": "stream",
     "text": [
      "Epoch 50: train=0.578465, val=0.38675, took 578.53 s\n"
     ]
    },
    {
     "data": {
      "application/vnd.jupyter.widget-view+json": {
       "model_id": "",
       "version_major": 2,
       "version_minor": 0
      },
      "text/plain": [
       "HBox(children=(FloatProgress(value=0.0, description='Training', layout=Layout(flex='2'), max=5000.0, style=Pro…"
      ]
     },
     "metadata": {},
     "output_type": "display_data"
    },
    {
     "name": "stdout",
     "output_type": "stream",
     "text": [
      "Epoch 51: train=0.57935, val=0.390427, took 578.86 s\n"
     ]
    },
    {
     "data": {
      "application/vnd.jupyter.widget-view+json": {
       "model_id": "",
       "version_major": 2,
       "version_minor": 0
      },
      "text/plain": [
       "HBox(children=(FloatProgress(value=0.0, description='Training', layout=Layout(flex='2'), max=5000.0, style=Pro…"
      ]
     },
     "metadata": {},
     "output_type": "display_data"
    },
    {
     "name": "stdout",
     "output_type": "stream",
     "text": [
      "Epoch 52: train=0.579745, val=0.383466, took 578.79 s\n"
     ]
    },
    {
     "data": {
      "application/vnd.jupyter.widget-view+json": {
       "model_id": "",
       "version_major": 2,
       "version_minor": 0
      },
      "text/plain": [
       "HBox(children=(FloatProgress(value=0.0, description='Training', layout=Layout(flex='2'), max=5000.0, style=Pro…"
      ]
     },
     "metadata": {},
     "output_type": "display_data"
    },
    {
     "name": "stdout",
     "output_type": "stream",
     "text": [
      "Epoch 53: train=0.577454, val=0.481628, took 578.7 s\n"
     ]
    },
    {
     "data": {
      "application/vnd.jupyter.widget-view+json": {
       "model_id": "",
       "version_major": 2,
       "version_minor": 0
      },
      "text/plain": [
       "HBox(children=(FloatProgress(value=0.0, description='Training', layout=Layout(flex='2'), max=5000.0, style=Pro…"
      ]
     },
     "metadata": {},
     "output_type": "display_data"
    },
    {
     "name": "stdout",
     "output_type": "stream",
     "text": [
      "Epoch 54: train=0.579063, val=0.393723, took 578.54 s\n"
     ]
    },
    {
     "data": {
      "application/vnd.jupyter.widget-view+json": {
       "model_id": "",
       "version_major": 2,
       "version_minor": 0
      },
      "text/plain": [
       "HBox(children=(FloatProgress(value=0.0, description='Training', layout=Layout(flex='2'), max=5000.0, style=Pro…"
      ]
     },
     "metadata": {},
     "output_type": "display_data"
    },
    {
     "name": "stdout",
     "output_type": "stream",
     "text": [
      "Epoch 55: train=0.579804, val=0.37881, took 578.88 s\n"
     ]
    },
    {
     "data": {
      "application/vnd.jupyter.widget-view+json": {
       "model_id": "",
       "version_major": 2,
       "version_minor": 0
      },
      "text/plain": [
       "HBox(children=(FloatProgress(value=0.0, description='Training', layout=Layout(flex='2'), max=5000.0, style=Pro…"
      ]
     },
     "metadata": {},
     "output_type": "display_data"
    },
    {
     "name": "stdout",
     "output_type": "stream",
     "text": [
      "Epoch 56: train=0.579002, val=0.376987, took 577.68 s\n"
     ]
    },
    {
     "data": {
      "application/vnd.jupyter.widget-view+json": {
       "model_id": "",
       "version_major": 2,
       "version_minor": 0
      },
      "text/plain": [
       "HBox(children=(FloatProgress(value=0.0, description='Training', layout=Layout(flex='2'), max=5000.0, style=Pro…"
      ]
     },
     "metadata": {},
     "output_type": "display_data"
    },
    {
     "name": "stdout",
     "output_type": "stream",
     "text": [
      "Epoch 57: train=0.577601, val=0.384785, took 578.6 s\n"
     ]
    },
    {
     "data": {
      "application/vnd.jupyter.widget-view+json": {
       "model_id": "",
       "version_major": 2,
       "version_minor": 0
      },
      "text/plain": [
       "HBox(children=(FloatProgress(value=0.0, description='Training', layout=Layout(flex='2'), max=5000.0, style=Pro…"
      ]
     },
     "metadata": {},
     "output_type": "display_data"
    },
    {
     "name": "stdout",
     "output_type": "stream",
     "text": [
      "Epoch 58: train=0.580511, val=0.420211, took 576.35 s\n"
     ]
    },
    {
     "data": {
      "application/vnd.jupyter.widget-view+json": {
       "model_id": "",
       "version_major": 2,
       "version_minor": 0
      },
      "text/plain": [
       "HBox(children=(FloatProgress(value=0.0, description='Training', layout=Layout(flex='2'), max=5000.0, style=Pro…"
      ]
     },
     "metadata": {},
     "output_type": "display_data"
    },
    {
     "name": "stdout",
     "output_type": "stream",
     "text": [
      "Epoch 59: train=0.578091, val=0.382021, took 578.15 s\n"
     ]
    },
    {
     "data": {
      "application/vnd.jupyter.widget-view+json": {
       "model_id": "",
       "version_major": 2,
       "version_minor": 0
      },
      "text/plain": [
       "HBox(children=(FloatProgress(value=0.0, description='Training', layout=Layout(flex='2'), max=5000.0, style=Pro…"
      ]
     },
     "metadata": {},
     "output_type": "display_data"
    },
    {
     "name": "stdout",
     "output_type": "stream",
     "text": [
      "Epoch 60: train=0.578693, val=0.380284, took 579.02 s\n"
     ]
    },
    {
     "data": {
      "application/vnd.jupyter.widget-view+json": {
       "model_id": "",
       "version_major": 2,
       "version_minor": 0
      },
      "text/plain": [
       "HBox(children=(FloatProgress(value=0.0, description='Training', layout=Layout(flex='2'), max=5000.0, style=Pro…"
      ]
     },
     "metadata": {},
     "output_type": "display_data"
    },
    {
     "name": "stdout",
     "output_type": "stream",
     "text": [
      "Epoch 61: train=0.576649, val=0.449195, took 577.63 s\n"
     ]
    },
    {
     "data": {
      "application/vnd.jupyter.widget-view+json": {
       "model_id": "",
       "version_major": 2,
       "version_minor": 0
      },
      "text/plain": [
       "HBox(children=(FloatProgress(value=0.0, description='Training', layout=Layout(flex='2'), max=5000.0, style=Pro…"
      ]
     },
     "metadata": {},
     "output_type": "display_data"
    },
    {
     "name": "stdout",
     "output_type": "stream",
     "text": [
      "Epoch 62: train=0.577699, val=0.380372, took 577.92 s\n"
     ]
    },
    {
     "data": {
      "application/vnd.jupyter.widget-view+json": {
       "model_id": "",
       "version_major": 2,
       "version_minor": 0
      },
      "text/plain": [
       "HBox(children=(FloatProgress(value=0.0, description='Training', layout=Layout(flex='2'), max=5000.0, style=Pro…"
      ]
     },
     "metadata": {},
     "output_type": "display_data"
    },
    {
     "name": "stdout",
     "output_type": "stream",
     "text": [
      "Epoch 63: train=0.577859, val=0.398997, took 578.52 s\n"
     ]
    },
    {
     "data": {
      "application/vnd.jupyter.widget-view+json": {
       "model_id": "",
       "version_major": 2,
       "version_minor": 0
      },
      "text/plain": [
       "HBox(children=(FloatProgress(value=0.0, description='Training', layout=Layout(flex='2'), max=5000.0, style=Pro…"
      ]
     },
     "metadata": {},
     "output_type": "display_data"
    },
    {
     "name": "stdout",
     "output_type": "stream",
     "text": [
      "Epoch 64: train=0.577036, val=0.384305, took 578.83 s\n"
     ]
    },
    {
     "data": {
      "application/vnd.jupyter.widget-view+json": {
       "model_id": "",
       "version_major": 2,
       "version_minor": 0
      },
      "text/plain": [
       "HBox(children=(FloatProgress(value=0.0, description='Training', layout=Layout(flex='2'), max=5000.0, style=Pro…"
      ]
     },
     "metadata": {},
     "output_type": "display_data"
    },
    {
     "name": "stdout",
     "output_type": "stream",
     "text": [
      "Epoch 65: train=0.576558, val=0.381167, took 578.68 s\n"
     ]
    },
    {
     "data": {
      "application/vnd.jupyter.widget-view+json": {
       "model_id": "",
       "version_major": 2,
       "version_minor": 0
      },
      "text/plain": [
       "HBox(children=(FloatProgress(value=0.0, description='Training', layout=Layout(flex='2'), max=5000.0, style=Pro…"
      ]
     },
     "metadata": {},
     "output_type": "display_data"
    },
    {
     "name": "stdout",
     "output_type": "stream",
     "text": [
      "Epoch 66: train=0.577074, val=0.399408, took 577.47 s\n"
     ]
    },
    {
     "data": {
      "application/vnd.jupyter.widget-view+json": {
       "model_id": "",
       "version_major": 2,
       "version_minor": 0
      },
      "text/plain": [
       "HBox(children=(FloatProgress(value=0.0, description='Training', layout=Layout(flex='2'), max=5000.0, style=Pro…"
      ]
     },
     "metadata": {},
     "output_type": "display_data"
    },
    {
     "name": "stdout",
     "output_type": "stream",
     "text": [
      "Epoch 67: train=0.578564, val=0.376043, took 577.65 s\n"
     ]
    },
    {
     "data": {
      "application/vnd.jupyter.widget-view+json": {
       "model_id": "",
       "version_major": 2,
       "version_minor": 0
      },
      "text/plain": [
       "HBox(children=(FloatProgress(value=0.0, description='Training', layout=Layout(flex='2'), max=5000.0, style=Pro…"
      ]
     },
     "metadata": {},
     "output_type": "display_data"
    },
    {
     "name": "stdout",
     "output_type": "stream",
     "text": [
      "Epoch 68: train=0.575904, val=0.379594, took 578.94 s\n"
     ]
    },
    {
     "data": {
      "application/vnd.jupyter.widget-view+json": {
       "model_id": "",
       "version_major": 2,
       "version_minor": 0
      },
      "text/plain": [
       "HBox(children=(FloatProgress(value=0.0, description='Training', layout=Layout(flex='2'), max=5000.0, style=Pro…"
      ]
     },
     "metadata": {},
     "output_type": "display_data"
    },
    {
     "name": "stdout",
     "output_type": "stream",
     "text": [
      "Epoch 69: train=0.575284, val=0.380458, took 578.47 s\n"
     ]
    },
    {
     "data": {
      "application/vnd.jupyter.widget-view+json": {
       "model_id": "",
       "version_major": 2,
       "version_minor": 0
      },
      "text/plain": [
       "HBox(children=(FloatProgress(value=0.0, description='Training', layout=Layout(flex='2'), max=5000.0, style=Pro…"
      ]
     },
     "metadata": {},
     "output_type": "display_data"
    },
    {
     "name": "stdout",
     "output_type": "stream",
     "text": [
      "Epoch 70: train=0.577223, val=0.382735, took 578.33 s\n"
     ]
    },
    {
     "data": {
      "application/vnd.jupyter.widget-view+json": {
       "model_id": "",
       "version_major": 2,
       "version_minor": 0
      },
      "text/plain": [
       "HBox(children=(FloatProgress(value=0.0, description='Training', layout=Layout(flex='2'), max=5000.0, style=Pro…"
      ]
     },
     "metadata": {},
     "output_type": "display_data"
    },
    {
     "name": "stdout",
     "output_type": "stream",
     "text": [
      "Epoch 71: train=0.576921, val=0.380588, took 577.69 s\n"
     ]
    },
    {
     "data": {
      "application/vnd.jupyter.widget-view+json": {
       "model_id": "",
       "version_major": 2,
       "version_minor": 0
      },
      "text/plain": [
       "HBox(children=(FloatProgress(value=0.0, description='Training', layout=Layout(flex='2'), max=5000.0, style=Pro…"
      ]
     },
     "metadata": {},
     "output_type": "display_data"
    },
    {
     "name": "stdout",
     "output_type": "stream",
     "text": [
      "Epoch 72: train=0.576908, val=0.383201, took 578.44 s\n"
     ]
    },
    {
     "data": {
      "application/vnd.jupyter.widget-view+json": {
       "model_id": "",
       "version_major": 2,
       "version_minor": 0
      },
      "text/plain": [
       "HBox(children=(FloatProgress(value=0.0, description='Training', layout=Layout(flex='2'), max=5000.0, style=Pro…"
      ]
     },
     "metadata": {},
     "output_type": "display_data"
    },
    {
     "name": "stdout",
     "output_type": "stream",
     "text": [
      "Epoch 73: train=0.5775, val=0.382413, took 578.71 s\n"
     ]
    },
    {
     "data": {
      "application/vnd.jupyter.widget-view+json": {
       "model_id": "",
       "version_major": 2,
       "version_minor": 0
      },
      "text/plain": [
       "HBox(children=(FloatProgress(value=0.0, description='Training', layout=Layout(flex='2'), max=5000.0, style=Pro…"
      ]
     },
     "metadata": {},
     "output_type": "display_data"
    },
    {
     "name": "stdout",
     "output_type": "stream",
     "text": [
      "Epoch 74: train=0.575329, val=0.423207, took 578.0 s\n"
     ]
    },
    {
     "data": {
      "application/vnd.jupyter.widget-view+json": {
       "model_id": "",
       "version_major": 2,
       "version_minor": 0
      },
      "text/plain": [
       "HBox(children=(FloatProgress(value=0.0, description='Training', layout=Layout(flex='2'), max=5000.0, style=Pro…"
      ]
     },
     "metadata": {},
     "output_type": "display_data"
    },
    {
     "name": "stdout",
     "output_type": "stream",
     "text": [
      "Epoch 75: train=0.575668, val=0.383166, took 579.03 s\n"
     ]
    },
    {
     "data": {
      "application/vnd.jupyter.widget-view+json": {
       "model_id": "",
       "version_major": 2,
       "version_minor": 0
      },
      "text/plain": [
       "HBox(children=(FloatProgress(value=0.0, description='Training', layout=Layout(flex='2'), max=5000.0, style=Pro…"
      ]
     },
     "metadata": {},
     "output_type": "display_data"
    },
    {
     "name": "stdout",
     "output_type": "stream",
     "text": [
      "Epoch 76: train=0.576775, val=0.396386, took 578.42 s\n"
     ]
    },
    {
     "data": {
      "application/vnd.jupyter.widget-view+json": {
       "model_id": "",
       "version_major": 2,
       "version_minor": 0
      },
      "text/plain": [
       "HBox(children=(FloatProgress(value=0.0, description='Training', layout=Layout(flex='2'), max=5000.0, style=Pro…"
      ]
     },
     "metadata": {},
     "output_type": "display_data"
    },
    {
     "name": "stdout",
     "output_type": "stream",
     "text": [
      "Epoch 77: train=0.574441, val=0.383539, took 578.2 s\n"
     ]
    },
    {
     "data": {
      "application/vnd.jupyter.widget-view+json": {
       "model_id": "",
       "version_major": 2,
       "version_minor": 0
      },
      "text/plain": [
       "HBox(children=(FloatProgress(value=0.0, description='Training', layout=Layout(flex='2'), max=5000.0, style=Pro…"
      ]
     },
     "metadata": {},
     "output_type": "display_data"
    },
    {
     "name": "stdout",
     "output_type": "stream",
     "text": [
      "Epoch 78: train=0.577906, val=0.398132, took 578.29 s\n"
     ]
    },
    {
     "data": {
      "application/vnd.jupyter.widget-view+json": {
       "model_id": "",
       "version_major": 2,
       "version_minor": 0
      },
      "text/plain": [
       "HBox(children=(FloatProgress(value=0.0, description='Training', layout=Layout(flex='2'), max=5000.0, style=Pro…"
      ]
     },
     "metadata": {},
     "output_type": "display_data"
    },
    {
     "name": "stdout",
     "output_type": "stream",
     "text": [
      "Epoch 79: train=0.575263, val=0.377257, took 578.17 s\n",
      "\n"
     ]
    }
   ],
   "source": [
    "for result in trainNet(model, optimizer, loss,\n",
    "                        train_loader, val_loader,\n",
    "                        n_epochs, epoch_start=len(results),\n",
    "                        notebook=True):\n",
    "    \n",
    "    results = results.append(pd.Series(result._asdict()), ignore_index=True)\n",
    "    xs = results.index\n",
    "    \n",
    "    # Update the plot above\n",
    "    lines['train'].set_data(results.index,results.cost)\n",
    "    lines['val'].set_data(results.index,results.val)\n",
    "    \n",
    "    #filter first cost epoch (can be really large)\n",
    "    max_cost = max(max(results.cost if len(results.cost)<2 else results.cost[1:]), max(results.val))\n",
    "    min_cost = min(min(results.cost), min(results.val))\n",
    "    \n",
    "    # The plot limits need updating too\n",
    "    \n",
    "    \n",
    "    \n",
    "    ax.set_ylim(min_cost*.9, max_cost*1.1)  \n",
    "    ax.set_xlim(-.5, len(results.cost) - .5)\n",
    "\n",
    "    \n",
    "    # Redraw the figure\n",
    "    fig.canvas.draw()\n",
    "\n",
    "    # Save each model state dictionary\n",
    "    torch.save(model.state_dict(), output / f'{name}_{result.epoch}.pyt')"
   ]
  },
  {
   "cell_type": "markdown",
   "metadata": {},
   "source": [
    "Go ahead and save the final model (even though it was also saved above):"
   ]
  },
  {
   "cell_type": "code",
   "execution_count": 19,
   "metadata": {},
   "outputs": [],
   "source": [
    "torch.save(model.state_dict(), output / f'{name}_final.pyt')"
   ]
  },
  {
   "cell_type": "markdown",
   "metadata": {},
   "source": [
    "Save the output results:"
   ]
  },
  {
   "cell_type": "code",
   "execution_count": 20,
   "metadata": {},
   "outputs": [],
   "source": [
    "results.to_hdf(output / f'{name}_stats.hdf5', 'results')"
   ]
  },
  {
   "cell_type": "markdown",
   "metadata": {},
   "source": [
    "Save the plot above:"
   ]
  },
  {
   "cell_type": "code",
   "execution_count": 21,
   "metadata": {},
   "outputs": [
    {
     "data": {
      "application/javascript": [
       "/* Put everything inside the global mpl namespace */\n",
       "window.mpl = {};\n",
       "\n",
       "\n",
       "mpl.get_websocket_type = function() {\n",
       "    if (typeof(WebSocket) !== 'undefined') {\n",
       "        return WebSocket;\n",
       "    } else if (typeof(MozWebSocket) !== 'undefined') {\n",
       "        return MozWebSocket;\n",
       "    } else {\n",
       "        alert('Your browser does not have WebSocket support. ' +\n",
       "              'Please try Chrome, Safari or Firefox ≥ 6. ' +\n",
       "              'Firefox 4 and 5 are also supported but you ' +\n",
       "              'have to enable WebSockets in about:config.');\n",
       "    };\n",
       "}\n",
       "\n",
       "mpl.figure = function(figure_id, websocket, ondownload, parent_element) {\n",
       "    this.id = figure_id;\n",
       "\n",
       "    this.ws = websocket;\n",
       "\n",
       "    this.supports_binary = (this.ws.binaryType != undefined);\n",
       "\n",
       "    if (!this.supports_binary) {\n",
       "        var warnings = document.getElementById(\"mpl-warnings\");\n",
       "        if (warnings) {\n",
       "            warnings.style.display = 'block';\n",
       "            warnings.textContent = (\n",
       "                \"This browser does not support binary websocket messages. \" +\n",
       "                    \"Performance may be slow.\");\n",
       "        }\n",
       "    }\n",
       "\n",
       "    this.imageObj = new Image();\n",
       "\n",
       "    this.context = undefined;\n",
       "    this.message = undefined;\n",
       "    this.canvas = undefined;\n",
       "    this.rubberband_canvas = undefined;\n",
       "    this.rubberband_context = undefined;\n",
       "    this.format_dropdown = undefined;\n",
       "\n",
       "    this.image_mode = 'full';\n",
       "\n",
       "    this.root = $('<div/>');\n",
       "    this._root_extra_style(this.root)\n",
       "    this.root.attr('style', 'display: inline-block');\n",
       "\n",
       "    $(parent_element).append(this.root);\n",
       "\n",
       "    this._init_header(this);\n",
       "    this._init_canvas(this);\n",
       "    this._init_toolbar(this);\n",
       "\n",
       "    var fig = this;\n",
       "\n",
       "    this.waiting = false;\n",
       "\n",
       "    this.ws.onopen =  function () {\n",
       "            fig.send_message(\"supports_binary\", {value: fig.supports_binary});\n",
       "            fig.send_message(\"send_image_mode\", {});\n",
       "            if (mpl.ratio != 1) {\n",
       "                fig.send_message(\"set_dpi_ratio\", {'dpi_ratio': mpl.ratio});\n",
       "            }\n",
       "            fig.send_message(\"refresh\", {});\n",
       "        }\n",
       "\n",
       "    this.imageObj.onload = function() {\n",
       "            if (fig.image_mode == 'full') {\n",
       "                // Full images could contain transparency (where diff images\n",
       "                // almost always do), so we need to clear the canvas so that\n",
       "                // there is no ghosting.\n",
       "                fig.context.clearRect(0, 0, fig.canvas.width, fig.canvas.height);\n",
       "            }\n",
       "            fig.context.drawImage(fig.imageObj, 0, 0);\n",
       "        };\n",
       "\n",
       "    this.imageObj.onunload = function() {\n",
       "        fig.ws.close();\n",
       "    }\n",
       "\n",
       "    this.ws.onmessage = this._make_on_message_function(this);\n",
       "\n",
       "    this.ondownload = ondownload;\n",
       "}\n",
       "\n",
       "mpl.figure.prototype._init_header = function() {\n",
       "    var titlebar = $(\n",
       "        '<div class=\"ui-dialog-titlebar ui-widget-header ui-corner-all ' +\n",
       "        'ui-helper-clearfix\"/>');\n",
       "    var titletext = $(\n",
       "        '<div class=\"ui-dialog-title\" style=\"width: 100%; ' +\n",
       "        'text-align: center; padding: 3px;\"/>');\n",
       "    titlebar.append(titletext)\n",
       "    this.root.append(titlebar);\n",
       "    this.header = titletext[0];\n",
       "}\n",
       "\n",
       "\n",
       "\n",
       "mpl.figure.prototype._canvas_extra_style = function(canvas_div) {\n",
       "\n",
       "}\n",
       "\n",
       "\n",
       "mpl.figure.prototype._root_extra_style = function(canvas_div) {\n",
       "\n",
       "}\n",
       "\n",
       "mpl.figure.prototype._init_canvas = function() {\n",
       "    var fig = this;\n",
       "\n",
       "    var canvas_div = $('<div/>');\n",
       "\n",
       "    canvas_div.attr('style', 'position: relative; clear: both; outline: 0');\n",
       "\n",
       "    function canvas_keyboard_event(event) {\n",
       "        return fig.key_event(event, event['data']);\n",
       "    }\n",
       "\n",
       "    canvas_div.keydown('key_press', canvas_keyboard_event);\n",
       "    canvas_div.keyup('key_release', canvas_keyboard_event);\n",
       "    this.canvas_div = canvas_div\n",
       "    this._canvas_extra_style(canvas_div)\n",
       "    this.root.append(canvas_div);\n",
       "\n",
       "    var canvas = $('<canvas/>');\n",
       "    canvas.addClass('mpl-canvas');\n",
       "    canvas.attr('style', \"left: 0; top: 0; z-index: 0; outline: 0\")\n",
       "\n",
       "    this.canvas = canvas[0];\n",
       "    this.context = canvas[0].getContext(\"2d\");\n",
       "\n",
       "    var backingStore = this.context.backingStorePixelRatio ||\n",
       "\tthis.context.webkitBackingStorePixelRatio ||\n",
       "\tthis.context.mozBackingStorePixelRatio ||\n",
       "\tthis.context.msBackingStorePixelRatio ||\n",
       "\tthis.context.oBackingStorePixelRatio ||\n",
       "\tthis.context.backingStorePixelRatio || 1;\n",
       "\n",
       "    mpl.ratio = (window.devicePixelRatio || 1) / backingStore;\n",
       "\n",
       "    var rubberband = $('<canvas/>');\n",
       "    rubberband.attr('style', \"position: absolute; left: 0; top: 0; z-index: 1;\")\n",
       "\n",
       "    var pass_mouse_events = true;\n",
       "\n",
       "    canvas_div.resizable({\n",
       "        start: function(event, ui) {\n",
       "            pass_mouse_events = false;\n",
       "        },\n",
       "        resize: function(event, ui) {\n",
       "            fig.request_resize(ui.size.width, ui.size.height);\n",
       "        },\n",
       "        stop: function(event, ui) {\n",
       "            pass_mouse_events = true;\n",
       "            fig.request_resize(ui.size.width, ui.size.height);\n",
       "        },\n",
       "    });\n",
       "\n",
       "    function mouse_event_fn(event) {\n",
       "        if (pass_mouse_events)\n",
       "            return fig.mouse_event(event, event['data']);\n",
       "    }\n",
       "\n",
       "    rubberband.mousedown('button_press', mouse_event_fn);\n",
       "    rubberband.mouseup('button_release', mouse_event_fn);\n",
       "    // Throttle sequential mouse events to 1 every 20ms.\n",
       "    rubberband.mousemove('motion_notify', mouse_event_fn);\n",
       "\n",
       "    rubberband.mouseenter('figure_enter', mouse_event_fn);\n",
       "    rubberband.mouseleave('figure_leave', mouse_event_fn);\n",
       "\n",
       "    canvas_div.on(\"wheel\", function (event) {\n",
       "        event = event.originalEvent;\n",
       "        event['data'] = 'scroll'\n",
       "        if (event.deltaY < 0) {\n",
       "            event.step = 1;\n",
       "        } else {\n",
       "            event.step = -1;\n",
       "        }\n",
       "        mouse_event_fn(event);\n",
       "    });\n",
       "\n",
       "    canvas_div.append(canvas);\n",
       "    canvas_div.append(rubberband);\n",
       "\n",
       "    this.rubberband = rubberband;\n",
       "    this.rubberband_canvas = rubberband[0];\n",
       "    this.rubberband_context = rubberband[0].getContext(\"2d\");\n",
       "    this.rubberband_context.strokeStyle = \"#000000\";\n",
       "\n",
       "    this._resize_canvas = function(width, height) {\n",
       "        // Keep the size of the canvas, canvas container, and rubber band\n",
       "        // canvas in synch.\n",
       "        canvas_div.css('width', width)\n",
       "        canvas_div.css('height', height)\n",
       "\n",
       "        canvas.attr('width', width * mpl.ratio);\n",
       "        canvas.attr('height', height * mpl.ratio);\n",
       "        canvas.attr('style', 'width: ' + width + 'px; height: ' + height + 'px;');\n",
       "\n",
       "        rubberband.attr('width', width);\n",
       "        rubberband.attr('height', height);\n",
       "    }\n",
       "\n",
       "    // Set the figure to an initial 600x600px, this will subsequently be updated\n",
       "    // upon first draw.\n",
       "    this._resize_canvas(600, 600);\n",
       "\n",
       "    // Disable right mouse context menu.\n",
       "    $(this.rubberband_canvas).bind(\"contextmenu\",function(e){\n",
       "        return false;\n",
       "    });\n",
       "\n",
       "    function set_focus () {\n",
       "        canvas.focus();\n",
       "        canvas_div.focus();\n",
       "    }\n",
       "\n",
       "    window.setTimeout(set_focus, 100);\n",
       "}\n",
       "\n",
       "mpl.figure.prototype._init_toolbar = function() {\n",
       "    var fig = this;\n",
       "\n",
       "    var nav_element = $('<div/>');\n",
       "    nav_element.attr('style', 'width: 100%');\n",
       "    this.root.append(nav_element);\n",
       "\n",
       "    // Define a callback function for later on.\n",
       "    function toolbar_event(event) {\n",
       "        return fig.toolbar_button_onclick(event['data']);\n",
       "    }\n",
       "    function toolbar_mouse_event(event) {\n",
       "        return fig.toolbar_button_onmouseover(event['data']);\n",
       "    }\n",
       "\n",
       "    for(var toolbar_ind in mpl.toolbar_items) {\n",
       "        var name = mpl.toolbar_items[toolbar_ind][0];\n",
       "        var tooltip = mpl.toolbar_items[toolbar_ind][1];\n",
       "        var image = mpl.toolbar_items[toolbar_ind][2];\n",
       "        var method_name = mpl.toolbar_items[toolbar_ind][3];\n",
       "\n",
       "        if (!name) {\n",
       "            // put a spacer in here.\n",
       "            continue;\n",
       "        }\n",
       "        var button = $('<button/>');\n",
       "        button.addClass('ui-button ui-widget ui-state-default ui-corner-all ' +\n",
       "                        'ui-button-icon-only');\n",
       "        button.attr('role', 'button');\n",
       "        button.attr('aria-disabled', 'false');\n",
       "        button.click(method_name, toolbar_event);\n",
       "        button.mouseover(tooltip, toolbar_mouse_event);\n",
       "\n",
       "        var icon_img = $('<span/>');\n",
       "        icon_img.addClass('ui-button-icon-primary ui-icon');\n",
       "        icon_img.addClass(image);\n",
       "        icon_img.addClass('ui-corner-all');\n",
       "\n",
       "        var tooltip_span = $('<span/>');\n",
       "        tooltip_span.addClass('ui-button-text');\n",
       "        tooltip_span.html(tooltip);\n",
       "\n",
       "        button.append(icon_img);\n",
       "        button.append(tooltip_span);\n",
       "\n",
       "        nav_element.append(button);\n",
       "    }\n",
       "\n",
       "    var fmt_picker_span = $('<span/>');\n",
       "\n",
       "    var fmt_picker = $('<select/>');\n",
       "    fmt_picker.addClass('mpl-toolbar-option ui-widget ui-widget-content');\n",
       "    fmt_picker_span.append(fmt_picker);\n",
       "    nav_element.append(fmt_picker_span);\n",
       "    this.format_dropdown = fmt_picker[0];\n",
       "\n",
       "    for (var ind in mpl.extensions) {\n",
       "        var fmt = mpl.extensions[ind];\n",
       "        var option = $(\n",
       "            '<option/>', {selected: fmt === mpl.default_extension}).html(fmt);\n",
       "        fmt_picker.append(option);\n",
       "    }\n",
       "\n",
       "    // Add hover states to the ui-buttons\n",
       "    $( \".ui-button\" ).hover(\n",
       "        function() { $(this).addClass(\"ui-state-hover\");},\n",
       "        function() { $(this).removeClass(\"ui-state-hover\");}\n",
       "    );\n",
       "\n",
       "    var status_bar = $('<span class=\"mpl-message\"/>');\n",
       "    nav_element.append(status_bar);\n",
       "    this.message = status_bar[0];\n",
       "}\n",
       "\n",
       "mpl.figure.prototype.request_resize = function(x_pixels, y_pixels) {\n",
       "    // Request matplotlib to resize the figure. Matplotlib will then trigger a resize in the client,\n",
       "    // which will in turn request a refresh of the image.\n",
       "    this.send_message('resize', {'width': x_pixels, 'height': y_pixels});\n",
       "}\n",
       "\n",
       "mpl.figure.prototype.send_message = function(type, properties) {\n",
       "    properties['type'] = type;\n",
       "    properties['figure_id'] = this.id;\n",
       "    this.ws.send(JSON.stringify(properties));\n",
       "}\n",
       "\n",
       "mpl.figure.prototype.send_draw_message = function() {\n",
       "    if (!this.waiting) {\n",
       "        this.waiting = true;\n",
       "        this.ws.send(JSON.stringify({type: \"draw\", figure_id: this.id}));\n",
       "    }\n",
       "}\n",
       "\n",
       "\n",
       "mpl.figure.prototype.handle_save = function(fig, msg) {\n",
       "    var format_dropdown = fig.format_dropdown;\n",
       "    var format = format_dropdown.options[format_dropdown.selectedIndex].value;\n",
       "    fig.ondownload(fig, format);\n",
       "}\n",
       "\n",
       "\n",
       "mpl.figure.prototype.handle_resize = function(fig, msg) {\n",
       "    var size = msg['size'];\n",
       "    if (size[0] != fig.canvas.width || size[1] != fig.canvas.height) {\n",
       "        fig._resize_canvas(size[0], size[1]);\n",
       "        fig.send_message(\"refresh\", {});\n",
       "    };\n",
       "}\n",
       "\n",
       "mpl.figure.prototype.handle_rubberband = function(fig, msg) {\n",
       "    var x0 = msg['x0'] / mpl.ratio;\n",
       "    var y0 = (fig.canvas.height - msg['y0']) / mpl.ratio;\n",
       "    var x1 = msg['x1'] / mpl.ratio;\n",
       "    var y1 = (fig.canvas.height - msg['y1']) / mpl.ratio;\n",
       "    x0 = Math.floor(x0) + 0.5;\n",
       "    y0 = Math.floor(y0) + 0.5;\n",
       "    x1 = Math.floor(x1) + 0.5;\n",
       "    y1 = Math.floor(y1) + 0.5;\n",
       "    var min_x = Math.min(x0, x1);\n",
       "    var min_y = Math.min(y0, y1);\n",
       "    var width = Math.abs(x1 - x0);\n",
       "    var height = Math.abs(y1 - y0);\n",
       "\n",
       "    fig.rubberband_context.clearRect(\n",
       "        0, 0, fig.canvas.width / mpl.ratio, fig.canvas.height / mpl.ratio);\n",
       "\n",
       "    fig.rubberband_context.strokeRect(min_x, min_y, width, height);\n",
       "}\n",
       "\n",
       "mpl.figure.prototype.handle_figure_label = function(fig, msg) {\n",
       "    // Updates the figure title.\n",
       "    fig.header.textContent = msg['label'];\n",
       "}\n",
       "\n",
       "mpl.figure.prototype.handle_cursor = function(fig, msg) {\n",
       "    var cursor = msg['cursor'];\n",
       "    switch(cursor)\n",
       "    {\n",
       "    case 0:\n",
       "        cursor = 'pointer';\n",
       "        break;\n",
       "    case 1:\n",
       "        cursor = 'default';\n",
       "        break;\n",
       "    case 2:\n",
       "        cursor = 'crosshair';\n",
       "        break;\n",
       "    case 3:\n",
       "        cursor = 'move';\n",
       "        break;\n",
       "    }\n",
       "    fig.rubberband_canvas.style.cursor = cursor;\n",
       "}\n",
       "\n",
       "mpl.figure.prototype.handle_message = function(fig, msg) {\n",
       "    fig.message.textContent = msg['message'];\n",
       "}\n",
       "\n",
       "mpl.figure.prototype.handle_draw = function(fig, msg) {\n",
       "    // Request the server to send over a new figure.\n",
       "    fig.send_draw_message();\n",
       "}\n",
       "\n",
       "mpl.figure.prototype.handle_image_mode = function(fig, msg) {\n",
       "    fig.image_mode = msg['mode'];\n",
       "}\n",
       "\n",
       "mpl.figure.prototype.updated_canvas_event = function() {\n",
       "    // Called whenever the canvas gets updated.\n",
       "    this.send_message(\"ack\", {});\n",
       "}\n",
       "\n",
       "// A function to construct a web socket function for onmessage handling.\n",
       "// Called in the figure constructor.\n",
       "mpl.figure.prototype._make_on_message_function = function(fig) {\n",
       "    return function socket_on_message(evt) {\n",
       "        if (evt.data instanceof Blob) {\n",
       "            /* FIXME: We get \"Resource interpreted as Image but\n",
       "             * transferred with MIME type text/plain:\" errors on\n",
       "             * Chrome.  But how to set the MIME type?  It doesn't seem\n",
       "             * to be part of the websocket stream */\n",
       "            evt.data.type = \"image/png\";\n",
       "\n",
       "            /* Free the memory for the previous frames */\n",
       "            if (fig.imageObj.src) {\n",
       "                (window.URL || window.webkitURL).revokeObjectURL(\n",
       "                    fig.imageObj.src);\n",
       "            }\n",
       "\n",
       "            fig.imageObj.src = (window.URL || window.webkitURL).createObjectURL(\n",
       "                evt.data);\n",
       "            fig.updated_canvas_event();\n",
       "            fig.waiting = false;\n",
       "            return;\n",
       "        }\n",
       "        else if (typeof evt.data === 'string' && evt.data.slice(0, 21) == \"data:image/png;base64\") {\n",
       "            fig.imageObj.src = evt.data;\n",
       "            fig.updated_canvas_event();\n",
       "            fig.waiting = false;\n",
       "            return;\n",
       "        }\n",
       "\n",
       "        var msg = JSON.parse(evt.data);\n",
       "        var msg_type = msg['type'];\n",
       "\n",
       "        // Call the  \"handle_{type}\" callback, which takes\n",
       "        // the figure and JSON message as its only arguments.\n",
       "        try {\n",
       "            var callback = fig[\"handle_\" + msg_type];\n",
       "        } catch (e) {\n",
       "            console.log(\"No handler for the '\" + msg_type + \"' message type: \", msg);\n",
       "            return;\n",
       "        }\n",
       "\n",
       "        if (callback) {\n",
       "            try {\n",
       "                // console.log(\"Handling '\" + msg_type + \"' message: \", msg);\n",
       "                callback(fig, msg);\n",
       "            } catch (e) {\n",
       "                console.log(\"Exception inside the 'handler_\" + msg_type + \"' callback:\", e, e.stack, msg);\n",
       "            }\n",
       "        }\n",
       "    };\n",
       "}\n",
       "\n",
       "// from http://stackoverflow.com/questions/1114465/getting-mouse-location-in-canvas\n",
       "mpl.findpos = function(e) {\n",
       "    //this section is from http://www.quirksmode.org/js/events_properties.html\n",
       "    var targ;\n",
       "    if (!e)\n",
       "        e = window.event;\n",
       "    if (e.target)\n",
       "        targ = e.target;\n",
       "    else if (e.srcElement)\n",
       "        targ = e.srcElement;\n",
       "    if (targ.nodeType == 3) // defeat Safari bug\n",
       "        targ = targ.parentNode;\n",
       "\n",
       "    // jQuery normalizes the pageX and pageY\n",
       "    // pageX,Y are the mouse positions relative to the document\n",
       "    // offset() returns the position of the element relative to the document\n",
       "    var x = e.pageX - $(targ).offset().left;\n",
       "    var y = e.pageY - $(targ).offset().top;\n",
       "\n",
       "    return {\"x\": x, \"y\": y};\n",
       "};\n",
       "\n",
       "/*\n",
       " * return a copy of an object with only non-object keys\n",
       " * we need this to avoid circular references\n",
       " * http://stackoverflow.com/a/24161582/3208463\n",
       " */\n",
       "function simpleKeys (original) {\n",
       "  return Object.keys(original).reduce(function (obj, key) {\n",
       "    if (typeof original[key] !== 'object')\n",
       "        obj[key] = original[key]\n",
       "    return obj;\n",
       "  }, {});\n",
       "}\n",
       "\n",
       "mpl.figure.prototype.mouse_event = function(event, name) {\n",
       "    var canvas_pos = mpl.findpos(event)\n",
       "\n",
       "    if (name === 'button_press')\n",
       "    {\n",
       "        this.canvas.focus();\n",
       "        this.canvas_div.focus();\n",
       "    }\n",
       "\n",
       "    var x = canvas_pos.x * mpl.ratio;\n",
       "    var y = canvas_pos.y * mpl.ratio;\n",
       "\n",
       "    this.send_message(name, {x: x, y: y, button: event.button,\n",
       "                             step: event.step,\n",
       "                             guiEvent: simpleKeys(event)});\n",
       "\n",
       "    /* This prevents the web browser from automatically changing to\n",
       "     * the text insertion cursor when the button is pressed.  We want\n",
       "     * to control all of the cursor setting manually through the\n",
       "     * 'cursor' event from matplotlib */\n",
       "    event.preventDefault();\n",
       "    return false;\n",
       "}\n",
       "\n",
       "mpl.figure.prototype._key_event_extra = function(event, name) {\n",
       "    // Handle any extra behaviour associated with a key event\n",
       "}\n",
       "\n",
       "mpl.figure.prototype.key_event = function(event, name) {\n",
       "\n",
       "    // Prevent repeat events\n",
       "    if (name == 'key_press')\n",
       "    {\n",
       "        if (event.which === this._key)\n",
       "            return;\n",
       "        else\n",
       "            this._key = event.which;\n",
       "    }\n",
       "    if (name == 'key_release')\n",
       "        this._key = null;\n",
       "\n",
       "    var value = '';\n",
       "    if (event.ctrlKey && event.which != 17)\n",
       "        value += \"ctrl+\";\n",
       "    if (event.altKey && event.which != 18)\n",
       "        value += \"alt+\";\n",
       "    if (event.shiftKey && event.which != 16)\n",
       "        value += \"shift+\";\n",
       "\n",
       "    value += 'k';\n",
       "    value += event.which.toString();\n",
       "\n",
       "    this._key_event_extra(event, name);\n",
       "\n",
       "    this.send_message(name, {key: value,\n",
       "                             guiEvent: simpleKeys(event)});\n",
       "    return false;\n",
       "}\n",
       "\n",
       "mpl.figure.prototype.toolbar_button_onclick = function(name) {\n",
       "    if (name == 'download') {\n",
       "        this.handle_save(this, null);\n",
       "    } else {\n",
       "        this.send_message(\"toolbar_button\", {name: name});\n",
       "    }\n",
       "};\n",
       "\n",
       "mpl.figure.prototype.toolbar_button_onmouseover = function(tooltip) {\n",
       "    this.message.textContent = tooltip;\n",
       "};\n",
       "mpl.toolbar_items = [[\"Home\", \"Reset original view\", \"fa fa-home icon-home\", \"home\"], [\"Back\", \"Back to previous view\", \"fa fa-arrow-left icon-arrow-left\", \"back\"], [\"Forward\", \"Forward to next view\", \"fa fa-arrow-right icon-arrow-right\", \"forward\"], [\"\", \"\", \"\", \"\"], [\"Pan\", \"Pan axes with left mouse, zoom with right\", \"fa fa-arrows icon-move\", \"pan\"], [\"Zoom\", \"Zoom to rectangle\", \"fa fa-square-o icon-check-empty\", \"zoom\"], [\"\", \"\", \"\", \"\"], [\"Download\", \"Download plot\", \"fa fa-floppy-o icon-save\", \"download\"]];\n",
       "\n",
       "mpl.extensions = [\"eps\", \"jpeg\", \"pdf\", \"png\", \"ps\", \"raw\", \"svg\", \"tif\"];\n",
       "\n",
       "mpl.default_extension = \"png\";var comm_websocket_adapter = function(comm) {\n",
       "    // Create a \"websocket\"-like object which calls the given IPython comm\n",
       "    // object with the appropriate methods. Currently this is a non binary\n",
       "    // socket, so there is still some room for performance tuning.\n",
       "    var ws = {};\n",
       "\n",
       "    ws.close = function() {\n",
       "        comm.close()\n",
       "    };\n",
       "    ws.send = function(m) {\n",
       "        //console.log('sending', m);\n",
       "        comm.send(m);\n",
       "    };\n",
       "    // Register the callback with on_msg.\n",
       "    comm.on_msg(function(msg) {\n",
       "        //console.log('receiving', msg['content']['data'], msg);\n",
       "        // Pass the mpl event to the overridden (by mpl) onmessage function.\n",
       "        ws.onmessage(msg['content']['data'])\n",
       "    });\n",
       "    return ws;\n",
       "}\n",
       "\n",
       "mpl.mpl_figure_comm = function(comm, msg) {\n",
       "    // This is the function which gets called when the mpl process\n",
       "    // starts-up an IPython Comm through the \"matplotlib\" channel.\n",
       "\n",
       "    var id = msg.content.data.id;\n",
       "    // Get hold of the div created by the display call when the Comm\n",
       "    // socket was opened in Python.\n",
       "    var element = $(\"#\" + id);\n",
       "    var ws_proxy = comm_websocket_adapter(comm)\n",
       "\n",
       "    function ondownload(figure, format) {\n",
       "        window.open(figure.imageObj.src);\n",
       "    }\n",
       "\n",
       "    var fig = new mpl.figure(id, ws_proxy,\n",
       "                           ondownload,\n",
       "                           element.get(0));\n",
       "\n",
       "    // Call onopen now - mpl needs it, as it is assuming we've passed it a real\n",
       "    // web socket which is closed, not our websocket->open comm proxy.\n",
       "    ws_proxy.onopen();\n",
       "\n",
       "    fig.parent_element = element.get(0);\n",
       "    fig.cell_info = mpl.find_output_cell(\"<div id='\" + id + \"'></div>\");\n",
       "    if (!fig.cell_info) {\n",
       "        console.error(\"Failed to find cell for figure\", id, fig);\n",
       "        return;\n",
       "    }\n",
       "\n",
       "    var output_index = fig.cell_info[2]\n",
       "    var cell = fig.cell_info[0];\n",
       "\n",
       "};\n",
       "\n",
       "mpl.figure.prototype.handle_close = function(fig, msg) {\n",
       "    var width = fig.canvas.width/mpl.ratio\n",
       "    fig.root.unbind('remove')\n",
       "\n",
       "    // Update the output cell to use the data from the current canvas.\n",
       "    fig.push_to_output();\n",
       "    var dataURL = fig.canvas.toDataURL();\n",
       "    // Re-enable the keyboard manager in IPython - without this line, in FF,\n",
       "    // the notebook keyboard shortcuts fail.\n",
       "    IPython.keyboard_manager.enable()\n",
       "    $(fig.parent_element).html('<img src=\"' + dataURL + '\" width=\"' + width + '\">');\n",
       "    fig.close_ws(fig, msg);\n",
       "}\n",
       "\n",
       "mpl.figure.prototype.close_ws = function(fig, msg){\n",
       "    fig.send_message('closing', msg);\n",
       "    // fig.ws.close()\n",
       "}\n",
       "\n",
       "mpl.figure.prototype.push_to_output = function(remove_interactive) {\n",
       "    // Turn the data on the canvas into data in the output cell.\n",
       "    var width = this.canvas.width/mpl.ratio\n",
       "    var dataURL = this.canvas.toDataURL();\n",
       "    this.cell_info[1]['text/html'] = '<img src=\"' + dataURL + '\" width=\"' + width + '\">';\n",
       "}\n",
       "\n",
       "mpl.figure.prototype.updated_canvas_event = function() {\n",
       "    // Tell IPython that the notebook contents must change.\n",
       "    IPython.notebook.set_dirty(true);\n",
       "    this.send_message(\"ack\", {});\n",
       "    var fig = this;\n",
       "    // Wait a second, then push the new image to the DOM so\n",
       "    // that it is saved nicely (might be nice to debounce this).\n",
       "    setTimeout(function () { fig.push_to_output() }, 1000);\n",
       "}\n",
       "\n",
       "mpl.figure.prototype._init_toolbar = function() {\n",
       "    var fig = this;\n",
       "\n",
       "    var nav_element = $('<div/>');\n",
       "    nav_element.attr('style', 'width: 100%');\n",
       "    this.root.append(nav_element);\n",
       "\n",
       "    // Define a callback function for later on.\n",
       "    function toolbar_event(event) {\n",
       "        return fig.toolbar_button_onclick(event['data']);\n",
       "    }\n",
       "    function toolbar_mouse_event(event) {\n",
       "        return fig.toolbar_button_onmouseover(event['data']);\n",
       "    }\n",
       "\n",
       "    for(var toolbar_ind in mpl.toolbar_items){\n",
       "        var name = mpl.toolbar_items[toolbar_ind][0];\n",
       "        var tooltip = mpl.toolbar_items[toolbar_ind][1];\n",
       "        var image = mpl.toolbar_items[toolbar_ind][2];\n",
       "        var method_name = mpl.toolbar_items[toolbar_ind][3];\n",
       "\n",
       "        if (!name) { continue; };\n",
       "\n",
       "        var button = $('<button class=\"btn btn-default\" href=\"#\" title=\"' + name + '\"><i class=\"fa ' + image + ' fa-lg\"></i></button>');\n",
       "        button.click(method_name, toolbar_event);\n",
       "        button.mouseover(tooltip, toolbar_mouse_event);\n",
       "        nav_element.append(button);\n",
       "    }\n",
       "\n",
       "    // Add the status bar.\n",
       "    var status_bar = $('<span class=\"mpl-message\" style=\"text-align:right; float: right;\"/>');\n",
       "    nav_element.append(status_bar);\n",
       "    this.message = status_bar[0];\n",
       "\n",
       "    // Add the close button to the window.\n",
       "    var buttongrp = $('<div class=\"btn-group inline pull-right\"></div>');\n",
       "    var button = $('<button class=\"btn btn-mini btn-primary\" href=\"#\" title=\"Stop Interaction\"><i class=\"fa fa-power-off icon-remove icon-large\"></i></button>');\n",
       "    button.click(function (evt) { fig.handle_close(fig, {}); } );\n",
       "    button.mouseover('Stop Interaction', toolbar_mouse_event);\n",
       "    buttongrp.append(button);\n",
       "    var titlebar = this.root.find($('.ui-dialog-titlebar'));\n",
       "    titlebar.prepend(buttongrp);\n",
       "}\n",
       "\n",
       "mpl.figure.prototype._root_extra_style = function(el){\n",
       "    var fig = this\n",
       "    el.on(\"remove\", function(){\n",
       "\tfig.close_ws(fig, {});\n",
       "    });\n",
       "}\n",
       "\n",
       "mpl.figure.prototype._canvas_extra_style = function(el){\n",
       "    // this is important to make the div 'focusable\n",
       "    el.attr('tabindex', 0)\n",
       "    // reach out to IPython and tell the keyboard manager to turn it's self\n",
       "    // off when our div gets focus\n",
       "\n",
       "    // location in version 3\n",
       "    if (IPython.notebook.keyboard_manager) {\n",
       "        IPython.notebook.keyboard_manager.register_events(el);\n",
       "    }\n",
       "    else {\n",
       "        // location in version 2\n",
       "        IPython.keyboard_manager.register_events(el);\n",
       "    }\n",
       "\n",
       "}\n",
       "\n",
       "mpl.figure.prototype._key_event_extra = function(event, name) {\n",
       "    var manager = IPython.notebook.keyboard_manager;\n",
       "    if (!manager)\n",
       "        manager = IPython.keyboard_manager;\n",
       "\n",
       "    // Check for shift+enter\n",
       "    if (event.shiftKey && event.which == 13) {\n",
       "        this.canvas_div.blur();\n",
       "        // select the cell after this one\n",
       "        var index = IPython.notebook.find_cell_index(this.cell_info[0]);\n",
       "        IPython.notebook.select(index + 1);\n",
       "    }\n",
       "}\n",
       "\n",
       "mpl.figure.prototype.handle_save = function(fig, msg) {\n",
       "    fig.ondownload(fig, null);\n",
       "}\n",
       "\n",
       "\n",
       "mpl.find_output_cell = function(html_output) {\n",
       "    // Return the cell and output element which can be found *uniquely* in the notebook.\n",
       "    // Note - this is a bit hacky, but it is done because the \"notebook_saving.Notebook\"\n",
       "    // IPython event is triggered only after the cells have been serialised, which for\n",
       "    // our purposes (turning an active figure into a static one), is too late.\n",
       "    var cells = IPython.notebook.get_cells();\n",
       "    var ncells = cells.length;\n",
       "    for (var i=0; i<ncells; i++) {\n",
       "        var cell = cells[i];\n",
       "        if (cell.cell_type === 'code'){\n",
       "            for (var j=0; j<cell.output_area.outputs.length; j++) {\n",
       "                var data = cell.output_area.outputs[j];\n",
       "                if (data.data) {\n",
       "                    // IPython >= 3 moved mimebundle to data attribute of output\n",
       "                    data = data.data;\n",
       "                }\n",
       "                if (data['text/html'] == html_output) {\n",
       "                    return [cell, data, j];\n",
       "                }\n",
       "            }\n",
       "        }\n",
       "    }\n",
       "}\n",
       "\n",
       "// Register the function which deals with the matplotlib target/channel.\n",
       "// The kernel may be null if the page has been refreshed.\n",
       "if (IPython.notebook.kernel != null) {\n",
       "    IPython.notebook.kernel.comm_manager.register_target('matplotlib', mpl.mpl_figure_comm);\n",
       "}\n"
      ],
      "text/plain": [
       "<IPython.core.display.Javascript object>"
      ]
     },
     "metadata": {},
     "output_type": "display_data"
    },
    {
     "data": {
      "text/html": [
       "<img src=\"data:image/png;base64,iVBORw0KGgoAAAANSUhEUgAAB9AAAAPoCAYAAACGXmWqAAAebElEQVR4nOzBAQEAAACAkP6v7ggKAAAAAAAAAAAAAAAAAAAAAAAAAAAAAAAAAAAAAAAAAAAAAAAAAAAAAAAAAAAAAAAAAAAAAAAAAAAAAAAAAAAAAAAAAAAAAAAAAAAAAAAAAAAAAAAAAAAAAAAAAAAAAAAAAAAAAAAAAAAAAAAAAAAAAAAAAAAAAAAAAAAAAAAAAAAAAAAAAAAAAAAAAAAAAAAAAAAAAAAAAAAAAAAAAAAAAAAAAAAAAAAAAAAAAAAAAAAAAAAAAAAAAAAAAAAAAAAAAAAAAAAAAAAAAAAAAAAAAAAAAAAAAAAAAAAAAAAAAAAAAAAAAAAAAAAAAAAAAAAAAAAAAAAAAAAAAAAAAAAAAAAAAAAAAAAAAAAAAAAAAAAAAAAAAAAAAAAAAAAAAAAAAAAAAAAAAAAAAAAAAAAAAAAAAAAAAAAAAAAAAAAAAAAAAAAAAAAAAAAAAAAAAAAAAAAAAAAAAAAAAAAAAAAAAAAAAAAAAAAAAAAAAAAAAAAAAAAAAAAAAAAAAAAAAAAAAAAAAAAAAAAAAAAAAAAAAAAAAAAAAAAAAAAAAAAAAAAAAAAAAAAAAAAAAAAAAAAAAAAAAAAAAAAAAAAAAAAAAAAAAAAAAAAAAAAAAAAAAAAAAAAAAAAAAAAAAAAAAAAAAAAAAAAAAAAAAAAAAAAAAAAAAAAAAAAAAAAAAAAAAAAAAAAAAAAAAAAAAAAAAAAAAAAAAAAAAAAAAAAAAAAAAAAAAAAAAAAAAAAAAAAAAAAAAAAAAAAAAAAAAAAAAAAAAAAAAAAAAAAAAAAAAAAAAAAAAAAAAAAAAAAAAAAAAAAAAAAAAAAAAAAAAAAAAAAAAAAAAAAAAAAAAAAAAAAAAAAAAAAAAAAAAAAAAAAAAAAAAAAAAAAAAAAAAAAAAAAAAAAAAAAAAAAAAAAAAAAAAAAAAAAAAAAAAAAAAAAAAAAAAAAAAAAAAAAAAAAAAAAAAAAAAAAAAAAAAAAAAAAAAAAAAAAAAAAAAAAAAAAAAAAAAAAAAAAAAAAAAAAAAAAAAAAAAAAAAAAAAAAAAAAAAAAAAAAAAAAAAAAAAAAAAAAAAAAAAAAAAAAAAAAAAAAAAAAAAAAAAAAAAAAAAAAAAAAAAAAAAAAAAAAAAAAAAAAAAAAAAAAAAAAAAAAAAAAAAAAAAAAAAAAAAAAAAAAAAAAAAAAAAAAAAAAAAAAAAAAAAAAAAAAAAAAAAAAAAAAAAAAAAAAAAAAAAAAAAAAAAAAAAAAAAAAAAAAAAAAAAAAAAAAAAAAAAAAAAAAAAAAAAAAAAAAAAAAAAAAAAAAAAAAAAAAAAAAAAAAAAAAAAAAAAAAAAAAAAAAAAAAAAAAAAAAAAAAAAAAAAAAAAAAAAAAAAAAAAAAAAAAAAAAAAAAAAAAAAAAAAAAAAAAAAAAAAAAAAAAAAAAAAAAAAAAAAAAAAAAAAAAAAAAAAAAAAAAAAAAAAAAAAAAAAAAAAAAAAAAAAAAAAAAAAAAAAAAAAAAAAAAAAAAAAAAAAAAAAAAAAAAAAAAAAAAAAAAAAAAAAAAAAAAAAAAAAAAAAAAAAAAAAAAAAAAAAAAAAAAAAAAAAAAAAAAAAAAAAAAAAAAAAAAAAAAAAAAAAAAAAAAAAAAAAAAAAAAAAAAAAAAAAAAAAAAAAAAAAAAAAAAAAAAAAAAAAAAAAAAAAAAAAAAAAAAAAAAAAAAAAAAAAAAAAAAAAAAAAAAAAAAAAAAAAAAAAAAAAAAAAAAAAAAAAAAAAAAAAAAAAAAAAAAAAAAAAAAAAAAAAAAAAAAAAAAAAAAAAAAAAAAAAAAAAAAAAAAAAAAAAAAAAAAAAAAAAAAAAAAAAAAAAAAAAAAAAAAAAAAAAAAAAAAAAAAAAAAAAAAAAAAAAAAAAAAAAAAAAAAAAAAAAAAAAAAAAAAAAAAAAAAAAAAAAAAAAAAAAAAAAAAAAAAAAAAAAAAAAAAAAAAAAAAAAAAAAAAAAAAAAAAAAAAAAAAAAAAAAAAAAAAAAAAAAAAAAAAAAAAAAAAAAAAAAAAAAAAAAAAAAAAAAAAAAAAAAAAAAAAAAAAAAAAAAAAAAAAAAAAAAAAAAAAAAAAAAAAAAAAAAAAAAAAAAAAAAAAAAAAAAAAAAAAAAAAAAAAAAAAAAAAAAAAAAAAAAAAAAAAAAAAAAAAAAAAAAAAAAAAAAAAAAAAAAAAAAAAAAAAAAAAAAAAAAAAAAAAAAAAAAAAAAAAAAAAAAAAAAAAAAAAAAAAAAAAAAAAAAAAAAAAAAAAAAAAAAAAAAAAAAAAAAAAAAAAAAAAAAAAAAAAAAAAAAAAAAAAAAAAAAAAAAAAAAAAAAAAAAAAAAAAAAAAAAAAAAAAAAAAAAAAAAAAAAAAAAAAAAAAAAAAAAAAAAAAAAAAAAAAAAAAAAAAAAAAAAAAAAAAAAAAAAAAAAAAAAAAAAAAAAAAAAAAAAAAAAAAAAAAAAAAAAAAAAAAAAAAAAAAAAAAAAAAAAAAAAAAAAAAAAAAAAAAAAAAAAAAAAAAAAAAAAAAAAAAAAAAAAAAAAAAAAAAAAAAAAAAAAAAAAAAAAAAAAAAAAAAAAAAAAAAAAAAAAAAAAAAAAAAAAAAAAAAAAAAAAAAAAAAAAAAAAAAAAAAAAAAAAAAAAAAAAAAAAAAAAAAAAAAAAAAAAAAAAAAAAAAAAAAAAAAAAAAAAAAAAAAAAAAAAAAAAAAAAAAAAAAAAAAAAAAAAAAAAAAAAAAAAAAAAAAAAAAAAAAAAAAAAAAAAAAAAAAAAAAAAAAAAAAAAAAAAAAAAAAAAAAAAAAAAAAAAAAAAAAAAAAAAAAAAAAAAAAAAAAAAAAAAAAAAAAAAAAAAAAAAAAAAAAAAAAAAAAAAAAAAAAAAAAAAAAAAAAAAAAAAAAAAAAAAAAAAAAAAAAAAAAAAAAAAAAAAAAAAAAAAAAAAAAAAAAAAAAAAAAAAAAAAAAAAAAAAAAAAAAAAAAAAAAAAAAAAAAAAAAAAAAAAAAAAAAAAAAAAAAAAAAAAAAAAAAAAAAAAAAAAAAAAAAAAAAAAAAAAAAAAAAAAAAAAAAAAAAAAAAAAAAAAAAAAAAAAAAAAAAAAAAAAAAAAAAAAAAAAAAAAAAAAAAAAAAAAAAAAAAAAAAAAAAAAAAAAAAAAAAAAAAAAAAAAAAAAAAAAAAAAAAAAAAAAAAAAAAAAAAAAAAAAAAAAAAAAAAAAAAAAAAAAAAAAAAAAAAAAAAAAAAAAAAAAAAAAAAAAAAAAAAAAAAAAAAAAAAAAAAAAAAAAAAAAAAAAAAAAAAAAAAAAAAAAAAAAAAAAAAAAAAAAAAAAAAAAAAAAAAAAAAAAAAAAAAAAAAAAAAAAAAAAAAAAAAAAAAAAAAAAAAAAAAAAAAAAAAAAAAAAAAAAAAAAAAAAAAAAAAAAAAAAAAAAAAAAAAAAAAAAAAAAAAAAAAAAAAAAAAAAAAAAAAAAAAAAAAAAAAAAAAAAAAAAAAAAAAAAAAAAAAAAAAAAAAAAAAAAAAAAAAAAAAAAAAAAAAAAAAAAAAAAAAAAAAAAAAAAAAAAAAAAAAAAAAAAAAAAAAAAAAAAAAAAAAAAAAAAAAAAAAAAAAAAAAAAAAAAAAAAAAAAAAAAAAAAAAAAAAAAAAAAAAAAAAAAAAAAAAAAAAAAAAAAAAAAAAAAAAAAAAAAAAAAAAAAAAAAAAAAAAAAAAAAAAAAAAAAAAAAAAAAAAAAAAAAAAAAAAAAAAAAAAAAAAAAAAAAAAAAAAAAAAAAAAAAAAAAAAAAAAAAAAAAAAAAAAAAAAAAAAAAAAAAAAAAAAAAAAAAAAAAAAAAAAAAAAAAAAAAAAAAAAAAAAAAAAAAAAAAAAAAAAAAAAAAAAAAAAAAAAAAAAAAAAAAAAAAAAAAAAAAAAAAAAAAAAAAAAAAAAAAAAAAAAAAAAAAAAAAAAAAAAAAAAAAAAAAAAAAAAAAAAAAAAAAAAAAAAAAAAAAAAAAAAAAAAAAAAAAAAAAAAAAAAAAAAAAAAAAAAAAAAAAAAAAAAAAAAAAAAAAAAAAAAAAAAAAAAAAAAAAAAAAAAAAAAAAAAAAAAAAAAAAAAAAAAAAAAAAAAAAAAAAAAAAAAAAAAAAAAAAAAAAAAAAAAAAAAAAAAAAAAAAAAAAAAAAAAAAAAAAAAAAAAAAAAAAAAAAAAAAAAAAAAAAAAAAAAAAAAAAAAAAAAAAAAAAAAAAAAAAAAAAAAAAAAAAAAAAAAAAAAAAAAAAAAAAAAAAAAAAAAAAAAAAAAAAAAAAAAAAAAAAAAAAAAAAAAAAAAAAAAAAAAAAAAAAAAAAAAAAAAAAAAAAAAAAAAAAAAAAAAAAAAAAAAAAAAAAAAAAAAAAAAAAAAAAAAAAAAAAAAAAAAAAAAAAAAAAAAAAAAAAAAAAAAAAAAAAAAAAAAAAAAAAAAAAAAAAAAAAAAAAAAAAAAAAAAAAAAAAAAAAAAAAAAAAAAAAAAAAAAAAAAAAAAAAAAAAAAAAAAAAAAAAAAAAAAAAAAAAAAAAAAAAAAAAAAAAAAAAAAAAAAAAAAAAAAAAAAAAAAAAAAAAAAAAAAAAAAAAAAAAAAAAAAAAAAAAAAAAAAAAAAAAAAAAAAAAAAAAAAAAAAAAAAAAAAAAAAAAAAAAAAAAAAAAAAAAAAAAAAAAAAAAAAAAAAAAAAAAAAAAAAAAAAAAAAAAAAAAAAAAAAAAAAAAAAAAAAAAAAAAAAAAAAAAAAAAAAAAAAAAAAAAAAAAAAAAAAAAAAAAAAAAAAAAAAAAAAAAAAAAAAAAAAAAAAAAAAAAAAAAAAAAAAAAAAAAAAAAAAAAAAAAAAAAAAAAAAAAAAAAAAAAAAAAAAAAAAAAAAAAAAAAAAAAAAAAAAAAAAAAAAAAAAAAAAAAAAAAAAAAAAAAAAAAAAAAAAAAAAAAAAAAAAAAAAAAAAAAAAAAAAAAAAAAAAAAAAAAAAAAAAAAAAAAAAAAAAAAAAAAAAAAAAAAAAAAAAAAAAAAAAAAAAAAAAAAAAAAAAAAAAAAAAAAAAAAAAAAAAAAAAAAAAAAAAAAAAAAAAAAAAAAAAAAAAAAAAAAAAAAAAAAAAAAAAAAAAAAAAAAAAAAAAAAAAAAAAAAAAAAAAAAAAAAAAAAAAAAAAAAAAAAAAAAAAAAAAAAAAAAAAAAAAAAAAAAAAAAAAAAAAAAAAAAAAAAAAAAAAAAAAAAAAAAAAAAAAAAAAAAAAAAAAAAAAAAAAAAAAAAAAAAAAAAAAAAAAAAAAAAAAAAAAAAAAAAAAAAAAAAAAAAAAAAAAAAAAAAAAAAAAAAAAAAAAAAAAAAAAAAAAAAAAAAAAAAAAAAAAAAAAAAAAAAAAAAAAAAAAAAAAAAAAAAAAAAAAAAAAAAAAAAAAAAAAAAAAAAAAAAAAAAAAAAAAAAAAAAAAAAAAAAAAAAAAAAAAAAAAAAAAAAAAAAAAAAAAAAAAAAACA24NDAgAAAABB/197wwAAAAAAAAAAAAAAAAAAAAAAAAAAAAAAAAAAAAAAAAAAAAAAAAAAAAAAAAAAAAAAAAAAAAAAAAAAAAAAAAAAAAAAAAAAAAAAAAAAAAAAAAAAAAAAAAAAAAAAAAAAAAAAAAAAAAAAAAAAAAAAAAAAAAAAAAAAAAAAAAAAAAAAAAAAAAAAAAAAAAAAAAAAAAAAAAAAAAAAAAAAAAAAAAAAAAAAAAAAAAAAAAAAAAAAAAAAAAAAAAAAAAAAAAAAAAAAAAAAAAAAAAAAAAAAAAAAAAAAAAAAAAAAAAAAAAAAAAAAAAAAAAAAAAAAAAAAAAAAAAAAAAAAAAAAAAAAAAAAAAAAAAAAAAAAAAAAAAAAAAAAAAAAAAAAAAAAAAAAAAAAAAAAAAAAAAAAAAAAAAAAAAAAAAAAAAAAAAAAAAAAAAAAAAAAAAAAAAAAAAAAAAAAAAAAAAAAAAAAAAAAAAAAAAAAAAAAAAAAAAAAAAAAAAAAAAAAAAAAAAAAAAAAAAAAAAAAAAAAAAAAAAAAAAAAAAAAAAAAAAAAAAAAAAAAAAAAAAAAAAAAAAAAAAAAAAAAAAAAAAAAAAAAAAAAAAAAAAAAAAAAAAAAAAAAAAAAAAAAAAAAAAAAAAAAAAAAAAAAAAAAAAAAAAAAAAAAAAAAAAAAAAAAAAAAAAAAAAAAAAAAAAAAAAAAAAAAAAAAAAAAAAAAAAAAAAAAAAAAAAAAAAAAAAAAAAAAAAAAAAAAAAAAAAAAAAAAAAAAAAAAAAAAAAAAAAAAAAAAAAAAAAAAAAAAAAAAAAAAAAAAAAAAAAAAAAAAAAAAAAAAAAAAAAAAAAAAAAAAAAAAAAAAAAAAAAAAAAAAAAAAAAAAAAAAAAAAAAAAAAAAAAAAAAAAAAAAAAAAAAAAAAAAAAAAAAAAAAAAAAAAAAAAAAAAAAAAAAAAAAAAAAAAAAAAAAAAAAAAAAAAAAAAAAAAAAAAAAAAAAAAAAAAAAAAAAAAAAAAAAAAAAAAAAAAAAAAAAAAAAAAAAAAAAAAAAAAAAAAAAAAAAAAAAAAAAAAAAAAAAAAAAAAAAAAAAAAAAAAAAAAAAAAAAAAAAAAAAAAAAAAAAAAAAAAAAAAAAAAAAAAAAAAAAAAAAAAAAAAAAAAAAAAAAAAAAAAAAAAAAAAAAAAAAAAAAAAAAAAAAAAAAAAAAAAAAAAAAAAAAAAAAAAAAAAAAAAAAAAAAAAAAAAAAAAAAAAAAAAAAAAAAAAAAAAAAAAAAAAAAAAAAAAAAAAAAAAAAAAAAAAAAAAAAAAAAAAAAAAAAAAAAAAAAAAAAAAAAAAAAAAAAAAAAAAAAAAAAAAAAAAAAAAAAAAAAAAAAAAAAAAAAAAAAAAAAAAAAAAAAAAAAAAAAAAAAAAAAAAAAAAAAAAAAAAAAAAAAAAAAAAAAAAAAAAAAAAAAAAAAAAAAAAAAAAAAAAAAAAAAAAAAAAAAAAAAAAAAAAAAAAAAAAAAAAAAAAAAAAAAAAAAAAAAAAAAAAAAAAAAAAAAAAAAAAAAAAAAAAAAAAAAAAAAAAAAAAAAAAAAAAAAAAAAAAAAAAAAAAAAAAAAAAAAAAAAAAAAAAAAAAAAAAAAAAAAAAAAAAAAAAAAAAAAAAAAAAAAAAAAAAAAAAAAAAAAAAAAAAAAAAAAAAAAAAAAAAAAAAAAAAAAAAAAAAAAAAAAAAAAAAAAAAAAAAAAAAAAAAAAAAAAAAAAAAAAAAAAAAAAAAAAAAAAAAAAAAAAAAAAAAAAAAAAAAAAAAAAAAAAAAAAAAAAAAAAAAAAAAAAAAAAAAAAAAAAAAAAAAAAAAAAAAAAAAAAAAAAAAAAAAAAAAAAAAAAAAAAAAAAAAAAAAAAAAAAAAAAAAAAAAAAAAAAAAAAAAAAAAAAAAAAAAAAAAAAAAAAAAAAAAAAAAAAAAAAAAAAAAAAAAAAAAAAAAAAAAAAAAAAAAAAAAAAAAAAAAAAAAAAAAAAAAAAAAAAAAAAAAAAAAAAAAAAAAAAAAAAAAAAAAAAAAAAAAAAAAAAAAAAAAAAAAAAAAAAAAAAAAAAAAAAAAAAAAAAAAAAAAAAAAAAAAAAAAAAAAAAAAAAAAAAAAAAAAAAAAAAAAAAAAAAAAAAAAAAAAAAAAAAAAAAAAAAAAAAAAAAAAAAAAAAAAAAAAAAAAAAAAAAAAAAAAAAAAAAAAAAAAAAAAAAAAAAAAAAAAAAAAAAAAAAAAAAAAAAAAAAAAAAAAAAAAAAAAAAAAAAAAAAAAAAAAAAAAAAAAAAAAAAAAAAAAAAAAAAAAAAAAAAAAAAAAAAAAAAAAAAAAAAAAAAAAAAAAAAAAAAAAAAAAAAAAAAAAAAAAAAAAAAAAAAAAAAAAAAAAAAAAAAAAAAAAAAAAAAAAAAAAAAAAAAAAAAAAAAAAAAAAAAAAAAAAAAAAAAAAAAAAAAAAAAAAAAAAAAAAAAAAAAAAAAAAAAAAAAAAAAAAAAAAAAAAAAAAAAAAAAAAAAAAAAAAAAAAAAAAAAAAAAAAAAAAAAAAAAAAAAAAAAAAAAAAAAAAAAAAAAAAAAAAAAAAAAAAAAAAAAAAAAAAAAAAAAAAAAAAAAAAAAAAAAAAAAAAAAAAAAAAAAAAAAAAAAAAAAAAAAAAAAAAAAAAAAAAAAAAAAAAAAAAAAAAAAAAAAAAAAAAAAAAAAAAAAAAAAAAAAAAAAAAAAAAAAAAAAAAAAAAAAAAAAAAAAAAAAAAAAAAAAAAAAAAAAAAAAAAAAAAAAAAAAAAAAAAAAAAAAAAAAAAAAAAAAAAAAAAAAAAAAAAAAAAAAAAAAAAAAAAAAAAAAAAAAAAAAAAAAAAAAAAAAAAAAAAAAAAAAAAAAAAAAAAAAAAAAAAAAAAAAAAAAAAAAAAAAAAAAAAAAAAAAAAAAAAAAAAAAAAAAAAAAAAAAAAAAAAAAAAAAAAAAAAAAAAAAAAAAAAAAAAAAAAAAAAAAAAAAAAAAAAAAAAAAAAAAAAAAAAAAAAAAAAAAAAAAAAAAAAAAAAAAAAAAAAAAAAAAAAAAAAAAAAAAAAAAAAAAAAAAAAAAAAAAAAAAAAAAAAAAAAAAAAAAAAAAAAAAAAAAAAAAAAAAAAAAAAAAAAAAAAAAAAAAAAAAAAAAAAAAAAAAAAAAAAAAAAAAAAAAAAAAAAAAAAAAAAAAAAAAAAAAAAAAAAAAAAAAAAAAAAAAAAAAAAAAAAAAAAAAAAAAAAAAAAAAAAAAAAAAAAAAAAAAAAAAAAAAAAAAAAAAAAAAAAAAAAAAAAAAAAAAAAAAAAAAAAAAAAAAAAAAAAAAAAAAAAAAAAAAAAAAAAAAAAAAAAAAAAAAAAAAAAAAAAAAAAAAAAAAAAAAAAAAAAAAAAAAAAAAAAAAAAAAAAAAAAAAAAAAAAAAAAAAAAAAAAAAAAAAAAAAAAAAAAAAAAAAAAAAAAAAAAAAAAAAAAAAAAAAAAAAAAAAAAAAAAAAAAAAAAAAAAAAAAAAAAAAAAAAAAAAAAAAAAAAAAAAAAAAAAAAAAAAAAAAAAAAAAAAAAAAAAAAAAAAAAAAAAAAAAAAAAAAAAAAAAAAAAAAAAAAAAAAAAAAAAAAAAAAAAAAAAAAAAAAAAAAAAAAAAAAAAAAAAAAAAAAAAAAAAAAAAAAAAAAAAAAAAAAAAAAAAAAAAAAAAAAAAAAAAAAAAAAAAAAAAAAAAAAAAAAAAAAAAAAAAAAAAAAAAAAAAAAAAAAAAAAAAAAAAAAAAAAAAAAAAAAAAAAAAAAAAAAAAAAAAAAAAAAAAAAAAAAAAAAAAAAAAAAAAAAAAAAAAAAAAAAAAAAAAAAAAAAAAAAAAAAAAAAAAAAAAAAAAAAAAAAAAAAAAAAAAAAAAAAAAAAAAAAAAAAAAAAAAAAAAAAAAAAAAAAAAAAAAAAAAAAAAAAAAAAAAAAAAAAAAAAAAAAAAAAAAAAAAAAAAAAAAAAAAAAAAAAAAAAAAAAAAAAAAAAAAAAAAAAAAAAAAAAAAAAAAAAAAAAAAAAAAAAAAAAAAAAAAAAAAAAAAAAAAAAAAAAAAAAAAAAAAAAAAAAAAAAAAAAAAAAAAAAAAAAAAAAAAAAAAAAAAAAAAAAAAAAAAAAAAAAAAAAAAAAAAAAAAAAAAAAAAAAAAAAAAAAAAAAAAAAAAAAAAAAAAAAAAAAAAAAAAAAAAAAAAAAAAAAAAAAAAAAAAAAAAAAAAAAAAAAAAAAAAAAAAAAAAAAAAAAAAAAAAAAAAAAAAAAAAAAAAAAAAAAAAAAAAAAAAAAAAAAAAAAAAAAAAAAAAAAAAAAAAAAAAAAAAAAAAAAAAAAAAAAAAAAAAAAAAAAAAAAAAAAAAAAAAAAAAAAAAAAAAAAAAAAAAAAAAAAAAAAAAAAAAAAAAAAAAAAAAAAAAAAAAAAAAAAAAAAAAAAAAAAAAAAAAAAAAAAAAAAAAAAAAAAAAAAAAAAAAAAAAAAAAAAAAAAAAAAAAAAAAAAAAAAAAAAAAAAAAAAAAAAAAAAAAAAAAAAAAAAAAAAAAAAAAAAAAAAAAAAAAAAAAAAAAAAAAAAAAAAAAAAAAAAAAAAAAAAAAAAAAAAAAAAAAAAAAAAAAAAAAAAAAAAAAAAAAAAAAAAAAAAAAAAAAAAAAAAAAAAAAAAAAAAAAAAAAAAAAAAAAAAAAAAAAAAAAAAAAAAAAAAAAAAAAAAAAAAAAAAAAAAAAAAAAAAAAAAAAAAAAAAAAAAAAAAAAAAAAAAAAAAAAAAAAAAAAAAAAAAAAAAAAAAAAAAAAAAAAAAAAAAAAAAAAAAAAAAAAAAAAAAAAAAAAAAAAAAAAAAAAAAAAAAAAAAAAAAAAAAAAAAAAAAAAAAAAAAAAAAAAAAAAAAAAAAAAAADAXR0OAAETEuNqAAAAAElFTkSuQmCC\" width=\"1000\">"
      ],
      "text/plain": [
       "<IPython.core.display.HTML object>"
      ]
     },
     "metadata": {},
     "output_type": "display_data"
    }
   ],
   "source": [
    "dual_train_plots(results.index,\n",
    "                 results.cost, results.val,\n",
    "                 results.cost, results.val)\n",
    "plt.tight_layout()\n",
    "plt.savefig(str(output / f'{name}_stats_a.png'))"
   ]
  },
  {
   "cell_type": "code",
   "execution_count": 22,
   "metadata": {},
   "outputs": [],
   "source": [
    "quit()"
   ]
  },
  {
   "cell_type": "code",
   "execution_count": null,
   "metadata": {},
   "outputs": [],
   "source": []
  },
  {
   "cell_type": "code",
   "execution_count": null,
   "metadata": {},
   "outputs": [],
   "source": []
  }
 ],
 "metadata": {
  "kernelspec": {
   "display_name": "goofit-june2020",
   "language": "python",
   "name": "goofit-june2020"
  },
  "language_info": {
   "codemirror_mode": {
    "name": "ipython",
    "version": 3
   },
   "file_extension": ".py",
   "mimetype": "text/x-python",
   "name": "python",
   "nbconvert_exporter": "python",
   "pygments_lexer": "ipython3",
   "version": "3.7.6"
  }
 },
 "nbformat": 4,
 "nbformat_minor": 2
}
