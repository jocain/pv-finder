{
 "cells": [
  {
   "cell_type": "code",
   "execution_count": 1,
   "metadata": {},
   "outputs": [],
   "source": [
    "##%matplotlib widget\n",
    "## with %matplotlib notebook: seems to require ipympl as part of environment, either\n",
    "## part of the conda environment or \"pip install ipympl\"\n",
    "## otherwise, does not show ANY plots in note\"book, plt.savefig() works\n",
    "%matplotlib notebook  \n",
    "##%matplotlib inline    ## --plt.savefig()  works, but re-sizing does NOT\n"
   ]
  },
  {
   "cell_type": "markdown",
   "metadata": {},
   "source": [
    "This notebook is the second attempt to read in track information and use it to predict the KDE used as input to PvFinder. This time, we are reading in poca KDEs rather than the original KDEs. \n",
    "\n",
    "collectdata_kde_C.py uses poca_z, poca_x, poca_y, major_axis_x, major_axis_y, and major_axis_z as the six track parameters (for the moment)\n"
   ]
  },
  {
   "cell_type": "markdown",
   "metadata": {},
   "source": [
    "Check the current GPU usage. Please try to be nice!"
   ]
  },
  {
   "cell_type": "code",
   "execution_count": 2,
   "metadata": {},
   "outputs": [
    {
     "name": "stdout",
     "output_type": "stream",
     "text": [
      "Thu Jan 28 12:46:40 2021       \n",
      "+-----------------------------------------------------------------------------+\n",
      "| NVIDIA-SMI 440.64.00    Driver Version: 440.64.00    CUDA Version: 10.2     |\n",
      "|-------------------------------+----------------------+----------------------+\n",
      "| GPU  Name        Persistence-M| Bus-Id        Disp.A | Volatile Uncorr. ECC |\n",
      "| Fan  Temp  Perf  Pwr:Usage/Cap|         Memory-Usage | GPU-Util  Compute M. |\n",
      "|===============================+======================+======================|\n",
      "|   0  TITAN V             Off  | 00000000:03:00.0 Off |                  N/A |\n",
      "| 20%   35C    P0    32W / 250W |      0MiB / 12066MiB |      0%      Default |\n",
      "+-------------------------------+----------------------+----------------------+\n",
      "|   1  Tesla P100-PCIE...  Off  | 00000000:83:00.0 Off |                    0 |\n",
      "| N/A   32C    P0    33W / 250W |      0MiB / 16280MiB |      0%      Default |\n",
      "+-------------------------------+----------------------+----------------------+\n",
      "|   2  TITAN V             Off  | 00000000:84:00.0 Off |                  N/A |\n",
      "| 24%   36C    P0    34W / 250W |      0MiB / 12066MiB |      0%      Default |\n",
      "+-------------------------------+----------------------+----------------------+\n",
      "                                                                               \n",
      "+-----------------------------------------------------------------------------+\n",
      "| Processes:                                                       GPU Memory |\n",
      "|  GPU       PID   Type   Process name                             Usage      |\n",
      "|=============================================================================|\n",
      "|  No running processes found                                                 |\n",
      "+-----------------------------------------------------------------------------+\n"
     ]
    }
   ],
   "source": [
    "!nvidia-smi"
   ]
  },
  {
   "cell_type": "markdown",
   "metadata": {},
   "source": [
    "> **WARNING**: The card numbers here are *not* the same as in CUDA. You have been warned."
   ]
  },
  {
   "cell_type": "markdown",
   "metadata": {},
   "source": [
    "This notebook is first attempt to read in track information and use it to predict the KDE used as input to PvFinder.\n"
   ]
  },
  {
   "cell_type": "markdown",
   "metadata": {},
   "source": [
    "## Imports"
   ]
  },
  {
   "cell_type": "code",
   "execution_count": 3,
   "metadata": {},
   "outputs": [],
   "source": [
    "import matplotlib.pyplot as plt\n",
    "import numpy as np\n",
    "import time\n",
    "import torch\n",
    "import pandas as pd\n",
    "\n",
    "# Python 3 standard library\n",
    "from pathlib import Path\n",
    "\n",
    "##from torchsummary import summary"
   ]
  },
  {
   "cell_type": "markdown",
   "metadata": {},
   "source": [
    "### Set up local parameters"
   ]
  },
  {
   "cell_type": "code",
   "execution_count": 4,
   "metadata": {},
   "outputs": [],
   "source": [
    "n_epochs = 80\n",
    "\n",
    "folder = '28Jan_DDplus_loss_Ba_iter20_floatAll_80epochs_1p5em5_4xwill'\n",
    "name   = folder\n",
    "\n",
    "# Make an output folder named \"name\" (change if you want)\n",
    "\n",
    "## Special instructions for those working on goofy at UC\n",
    "## Please be very careful to make sure that your folder\n",
    "## does not live in a subdirectory of your home directory\n",
    "## this disk has very little capacity. Instead, use \n",
    "## a subdirectory in /share/lazy with a symbolic link to\n",
    "## it in this (the notebooks) subdirectory\n",
    "folder = 'ML_dir/' + folder\n",
    "output = Path(folder)\n",
    "\n",
    "\n",
    "# Size of batches\n",
    "batch_size = 64 ## batch_size = 24 ---> 4763MiB / 12066MiB on Titan V\n",
    "# How fast to learn\n",
    "learning_rate = 1.5e-5"
   ]
  },
  {
   "cell_type": "markdown",
   "metadata": {},
   "source": [
    "Make the output directory if it does not exist:"
   ]
  },
  {
   "cell_type": "code",
   "execution_count": 5,
   "metadata": {},
   "outputs": [],
   "source": [
    "output.mkdir(exist_ok=True)"
   ]
  },
  {
   "cell_type": "markdown",
   "metadata": {},
   "source": [
    "## Get the helper functions\n",
    "\n",
    "Add the directory with the model\n",
    "definitions to the path so we can import from it:\n",
    "\n",
    "> When you type `import X`,\n",
    "Python searches `sys.path` for a python\n",
    "file named `X.py` to import. So we need to add the model directory to the path."
   ]
  },
  {
   "cell_type": "code",
   "execution_count": 6,
   "metadata": {
    "scrolled": true
   },
   "outputs": [],
   "source": [
    "from model.collectdata_kde_Ellipsoids import collect_t2kde_data\n",
    "\n",
    "##  It takes 9 input features (poca centers + (A,B,C,D,E,F)) . \n",
    "from model.models_kde import TracksToKDE_Ellipsoids_DDplus as Model\n",
    "\n",
    "# kde_loss_Ba is a Chi2 loss (go and look at it!)\n",
    "from model.kde_loss_Ba import Loss\n",
    "\n",
    "from model.training_kde import trainNet, select_gpu, Results\n",
    "from model.plots import dual_train_plots, replace_in_ax"
   ]
  },
  {
   "cell_type": "code",
   "execution_count": 7,
   "metadata": {},
   "outputs": [],
   "source": [
    "# This gets built up during the run - do not rerun this cell\n",
    "results = pd.DataFrame([], columns=Results._fields)"
   ]
  },
  {
   "cell_type": "markdown",
   "metadata": {},
   "source": [
    "Set up Torch device configuration. All tensors and model parameters need to know where to be put.\n",
    "This takes a BUS ID number: The BUS ID is the same as the listing at the top of this script."
   ]
  },
  {
   "cell_type": "code",
   "execution_count": 8,
   "metadata": {},
   "outputs": [
    {
     "name": "stdout",
     "output_type": "stream",
     "text": [
      "1 available GPUs (initially using device 0):\n",
      "  0 TITAN V\n"
     ]
    }
   ],
   "source": [
    "# either 0 or 2 on goofy (i.e. TITAN V) [1 or 2 on sleepy RTX 2080TI]\n",
    "device = select_gpu(2)\n",
    "##device = \"cpu\""
   ]
  },
  {
   "cell_type": "markdown",
   "metadata": {},
   "source": [
    "## Loading data\n",
    "\n",
    "Load the dataset, split into parts, then move to device (see `collectdata.py` in the `../model` directory)"
   ]
  },
  {
   "cell_type": "markdown",
   "metadata": {},
   "source": [
    "# Preparing the model"
   ]
  },
  {
   "cell_type": "markdown",
   "metadata": {},
   "source": [
    "Prepare a model, use multiple GPUs if they are VISIBLE, and move the model to the device."
   ]
  },
  {
   "cell_type": "code",
   "execution_count": 9,
   "metadata": {
    "scrolled": true
   },
   "outputs": [],
   "source": [
    "##print(\"Let's use\", torch.cuda.device_count(), \"GPUs!\")\n",
    "##if torch.cuda.device_count() > 1:\n",
    "##    model = torch.nn.DataParallel(model)"
   ]
  },
  {
   "cell_type": "code",
   "execution_count": 10,
   "metadata": {},
   "outputs": [
    {
     "name": "stdout",
     "output_type": "stream",
     "text": [
      "ct, child =  0    Linear(in_features=9, out_features=50, bias=True)\n",
      "ct, child =  1    Linear(in_features=50, out_features=50, bias=True)\n",
      "ct, child =  2    Linear(in_features=50, out_features=50, bias=True)\n",
      "ct, child =  3    Linear(in_features=50, out_features=50, bias=True)\n",
      "ct, child =  4    Linear(in_features=50, out_features=50, bias=True)\n",
      "ct, child =  5    Linear(in_features=50, out_features=50, bias=True)\n",
      "ct, child =  6    Linear(in_features=50, out_features=50, bias=True)\n",
      "ct, child =  7    Linear(in_features=50, out_features=50, bias=True)\n",
      "ct, child =  8    Linear(in_features=50, out_features=50, bias=True)\n",
      "ct, child =  9    Linear(in_features=50, out_features=50, bias=True)\n",
      "ct, child =  10    Linear(in_features=50, out_features=50, bias=True)\n",
      "ct, child =  11    Linear(in_features=50, out_features=16000, bias=True)\n",
      "ct, child =  12    Conv1d(4, 25, kernel_size=(25,), stride=(1,), padding=(12,))\n",
      "ct, child =  13    Conv1d(25, 1, kernel_size=(5,), stride=(1,), padding=(2,))\n",
      "ct, child =  14    Linear(in_features=4000, out_features=4000, bias=True)\n",
      "ct, child =  15    Conv1d(25, 1, kernel_size=(15,), stride=(1,), padding=(7,))\n",
      "ct, child =  16    Dropout(p=0.15, inplace=False)\n",
      "ct, child =  17    Dropout(p=0.15, inplace=False)\n"
     ]
    }
   ],
   "source": [
    "## a comment on the web at https://pytorch.org/docs/stable/optim.html says\n",
    "\"\"\"\n",
    "If you need to move a model to GPU via .cuda(), please do so before constructing optimizers for it. \n",
    "Parameters of a model after .cuda() will be different objects with those before the call.\n",
    "\n",
    "In general, you should make sure that optimized parameters live in consistent locations when \n",
    "optimizers are constructed and used.\n",
    "\"\"\"\n",
    "## so move this here (although we are using model.to(device) not explicitly using .cuda()\n",
    "\n",
    "nOut1 = 50\n",
    "nOut2 = 50\n",
    "nOut3 = 50\n",
    "nOut4 = 50\n",
    "nOut5 = 50\n",
    "nOut6 = 50\n",
    "nOut7 = 50\n",
    "nOut8 = 50\n",
    "nOut9 = 50\n",
    "nOut10 = 50\n",
    "nOut11 = 50\n",
    "latentChannels = 4\n",
    "model = Model(nOut1,nOut2,nOut3,nOut4,nOut5,nOut6,nOut7,nOut8,nOut9,nOut10,nOut11,latentChannels)\n",
    "\n",
    "##summary(model, input_size=(4, 4000))\n",
    "##print(model.parameters)\n",
    "\n",
    "## add the following code to allow the user to freeze the some of the weights corresponding \n",
    "## to those taken from an earlier model trained with the original target histograms\n",
    "## presumably -- this leaves either the perturbative filter \"fixed\" and lets the \n",
    "## learning focus on the non-perturbative features, so get started faster, or vice versa\n",
    "ct = 0\n",
    "for child in model.children():\n",
    "  print('ct, child = ',ct, \"  \", child)\n",
    "  if ct < 0:\n",
    "    print(\"     About to set param.requires_grad=False for ct = \", ct, \"params\")\n",
    "    for param in child.parameters():\n",
    "        # fixing parameters\n",
    "        param.requires_grad = False \n",
    "  ct += 1\n",
    "##  mds 200121 loss = Loss(epsilon=1e-5,coefficient=1.0)\n",
    "##  loss = Loss(epsilon=1e-5,coefficient=2.5)\n",
    "##loss = Loss(epsilon=3e-5, debug=False)\n",
    "loss = Loss(epsilon=3e-5)"
   ]
  },
  {
   "cell_type": "markdown",
   "metadata": {},
   "source": [
    "Let's move the model's weight matricies to the GPU:"
   ]
  },
  {
   "cell_type": "code",
   "execution_count": 11,
   "metadata": {
    "scrolled": true
   },
   "outputs": [],
   "source": [
    "model = model.to(device)"
   ]
  },
  {
   "cell_type": "code",
   "execution_count": 12,
   "metadata": {
    "scrolled": true
   },
   "outputs": [],
   "source": [
    "optimizer = torch.optim.Adam(model.parameters(), lr=learning_rate)\n",
    "##optimizer = torch.optim.SGD(model.parameters(), lr=learning_rate)"
   ]
  },
  {
   "cell_type": "code",
   "execution_count": 13,
   "metadata": {
    "scrolled": true
   },
   "outputs": [
    {
     "name": "stdout",
     "output_type": "stream",
     "text": [
      "output =  ML_dir/28Jan_DDplus_loss_Ba_iter20_floatAll_80epochs_1p5em5_4xwill\n",
      "for model_dict\n",
      "index, k =   0    layer1.weight\n",
      "index, k =   1    layer1.bias\n",
      "index, k =   2    layer2.weight\n",
      "index, k =   3    layer2.bias\n",
      "index, k =   4    layer3.weight\n",
      "index, k =   5    layer3.bias\n",
      "index, k =   6    layer4.weight\n",
      "index, k =   7    layer4.bias\n",
      "index, k =   8    layer5.weight\n",
      "index, k =   9    layer5.bias\n",
      "index, k =   10    layer6.weight\n",
      "index, k =   11    layer6.bias\n",
      "index, k =   12    layer7.weight\n",
      "index, k =   13    layer7.bias\n",
      "index, k =   14    layer8.weight\n",
      "index, k =   15    layer8.bias\n",
      "index, k =   16    layer9.weight\n",
      "index, k =   17    layer9.bias\n",
      "index, k =   18    layer10.weight\n",
      "index, k =   19    layer10.bias\n",
      "index, k =   20    layer11.weight\n",
      "index, k =   21    layer11.bias\n",
      "index, k =   22    layer12new.weight\n",
      "index, k =   23    layer12new.bias\n",
      "index, k =   24    conv1.weight\n",
      "index, k =   25    conv1.bias\n",
      "index, k =   26    conv2.weight\n",
      "index, k =   27    conv2.bias\n",
      "index, k =   28    fc1.weight\n",
      "index, k =   29    fc1.bias\n",
      "index, k =   30    finalFilter.weight\n",
      "index, k =   31    finalFilter.bias\n",
      "dict_name =  ML_dir/27Jan_DDplus_loss_Ba_iter19_floatAll_80epochs_1p5em5_4xwill/27Jan_DDplus_loss_Ba_iter19_floatAll_80epochs_1p5em5_4xwill_final.pyt\n",
      " \n",
      "  for pretrained_dict\n",
      "index, k =   0    layer1.weight\n",
      "index, k =   1    layer1.bias\n",
      "index, k =   2    layer2.weight\n",
      "index, k =   3    layer2.bias\n",
      "index, k =   4    layer3.weight\n",
      "index, k =   5    layer3.bias\n",
      "index, k =   6    layer4.weight\n",
      "index, k =   7    layer4.bias\n",
      "index, k =   8    layer5.weight\n",
      "index, k =   9    layer5.bias\n",
      "index, k =   10    layer6.weight\n",
      "index, k =   11    layer6.bias\n",
      "index, k =   12    layer7.weight\n",
      "index, k =   13    layer7.bias\n",
      "index, k =   14    layer8.weight\n",
      "index, k =   15    layer8.bias\n",
      "index, k =   16    layer9.weight\n",
      "index, k =   17    layer9.bias\n",
      "index, k =   18    layer10.weight\n",
      "index, k =   19    layer10.bias\n",
      "index, k =   20    layer11.weight\n",
      "index, k =   21    layer11.bias\n",
      "index, k =   22    layer12new.weight\n",
      "index, k =   23    layer12new.bias\n",
      "index, k =   24    conv1.weight\n",
      "index, k =   25    conv1.bias\n",
      "index, k =   26    conv2.weight\n",
      "index, k =   27    conv2.bias\n",
      "index, k =   28    fc1.weight\n",
      "index, k =   29    fc1.bias\n",
      "index, k =   30    finalFilter.weight\n",
      "index, k =   31    finalFilter.bias\n",
      "pretrained_dict iterated\n"
     ]
    },
    {
     "data": {
      "text/plain": [
       "<All keys matched successfully>"
      ]
     },
     "execution_count": 13,
     "metadata": {},
     "output_type": "execute_result"
    }
   ],
   "source": [
    "print('output = ',output)\n",
    "##print('oldOutput = ',oldOutput)\n",
    "##  use the first four layers from a pre-existing model\n",
    "##  see example at https://discuss.pytorch.org/t/how-to-load-part-of-pre-trained-model/1113\n",
    "\n",
    "##   ML -> /share/lazy/sokoloff/ML\n",
    "model_dict = model.state_dict()\n",
    "## mds 190725 for debugging\n",
    "print(\"for model_dict\")\n",
    "index = 0\n",
    "for k,v in model_dict.items():\n",
    "    print(\"index, k =  \",index,\"  \",k)\n",
    "    index = index+1\n",
    "##    print(\"value = \", v)\n",
    " \n",
    "updated_dict = model_dict\n",
    "##print(\"updated_dict = \",updated_dict)\n",
    "## when starting \"ab initio\", reduce biases as the bias gets summed for each track\n",
    "## contributing to the predicted KDE\n",
    "updated_dict[\"layer1.bias\"] = 0.005*model_dict[\"layer1.bias\"]\n",
    "updated_dict[\"layer2.bias\"] = 0.005*model_dict[\"layer2.bias\"]\n",
    "updated_dict[\"layer3.bias\"] = 0.005*model_dict[\"layer3.bias\"]\n",
    "updated_dict[\"layer4.bias\"] = 0.005*model_dict[\"layer4.bias\"]\n",
    "updated_dict[\"layer5.bias\"] = 0.005*model_dict[\"layer5.bias\"]\n",
    "updated_dict[\"layer6.bias\"] = 0.005*model_dict[\"layer6.bias\"]\n",
    "updated_dict[\"layer7.bias\"] = 0.005*model_dict[\"layer7.bias\"]\n",
    "updated_dict[\"layer8.bias\"] = 0.005*model_dict[\"layer8.bias\"]\n",
    "updated_dict[\"layer9.bias\"] = 0.005*model_dict[\"layer9.bias\"]\n",
    "updated_dict[\"layer10.bias\"] = 0.005*model_dict[\"layer10.bias\"]\n",
    "updated_dict[\"layer11.bias\"] = 0.005*model_dict[\"layer11.bias\"]\n",
    "\n",
    "model.load_state_dict(updated_dict,strict=False)\n",
    "\n",
    "model_dict = model.state_dict()\n",
    "##print(\"updated model_dict = \",model_dict)\n",
    "\n",
    "## print(\" \\n\",\"  for pretrained_dict\")\n",
    "## index = 0\n",
    "##for k,v in pretrained_dict.items():\n",
    "##    print(\"index, k =  \",index,\"  \",k)\n",
    "##    index = index+1\n",
    "## mds  \n",
    "\n",
    "##pretrained_dict = torch.load('ML/29July2020_Trks_to_KDE_C_lossB_100epochs_b64_1m3_nOut_50x50/29July2020_Trks_to_KDE_C_lossB_100epochs_b64_1m3_nOut_50x50_final.pyt')\n",
    "##print(\"model_dict instantiated\")\n",
    "# 1. filter out unnecessary keys\n",
    "##pretrained_dict = {k: v for k, v in pretrained_dict.items() if k in model_dict}\n",
    "##print(\"pretrained_dict iterated\")\n",
    "# 2. overwrite entries in the existing state dict\n",
    "##model_dict.update(pretrained_dict) \n",
    "##\n",
    "#   when starting from a model with a fully connected last layer rather than a convolutional layer\n",
    "# 3. load the new state dict\n",
    "#   need to use strict=False as the two models state model attributes do not agree exactly\n",
    "#   see https://pytorch.org/docs/master/_modules/torch/nn/modules/module.html#Module.load_state_dict\n",
    "\n",
    "##model.load_state_dict(pretrained_dict,strict=False)\n",
    "\n",
    "## print('model_dict =    ', model_dict)\n",
    "\n",
    "## finished at training cost = 1.46, validation cost = 1.50\n",
    "##d_folder = '25December__DDplus_loss_Ba_iter7_floatAll_800epochs_4em6'\n",
    "d_folder = '27Jan_DDplus_loss_Ba_iter19_floatAll_80epochs_1p5em5_4xwill'\n",
    "d_name = d_folder\n",
    "##  for 24Jan_DDplus_loss_Ba_iter17_floatAll_150epochs_1p5em5_4xwill use suffix 87\n",
    "##  as this is the last epoch that ran before I killed the job (don't ask)\n",
    "suffix = 'final'\n",
    "dict_name = 'ML_dir/' + d_folder + '/' + d_name + '_'+ suffix + '.pyt'\n",
    "print('dict_name = ',dict_name)\n",
    "pretrained_dict = torch.load(dict_name)\n",
    "\n",
    "print(\" \")\n",
    "print(\"  for pretrained_dict\")\n",
    "index = 0\n",
    "for k,v in pretrained_dict.items():\n",
    "    print(\"index, k =  \",index,\"  \",k)\n",
    "    index = index+1\n",
    " \n",
    "\n",
    "##print(\"model_dict instantiated\")\n",
    "# 1. filter out unnecessary keys\n",
    "pretrained_dict = {k: v for k, v in pretrained_dict.items() if k in model_dict}\n",
    "print(\"pretrained_dict iterated\")\n",
    "# 2. overwrite entries in the existing state dict\n",
    "model_dict.update(pretrained_dict) \n",
    "##\n",
    "#   when starting from a model with a fully connected last layer rather than a convolutional layer\n",
    "# 3. load the new state dict\n",
    "#   need to use strict=False as the two models state model attributes do not agree exactly\n",
    "#   see https://pytorch.org/docs/master/_modules/torch/nn/modules/module.html#Module.load_state_dict\n",
    "\n",
    "model.load_state_dict(pretrained_dict,strict=False)\n",
    "\n"
   ]
  },
  {
   "cell_type": "code",
   "execution_count": 14,
   "metadata": {},
   "outputs": [],
   "source": [
    "##print('validation.dataset.tensors = ',validation.dataset.tensors)\n",
    "fig_size = plt.rcParams[\"figure.figsize\"]\n",
    "fig_size[0] = 10\n",
    "fig_size[1] = 4\n",
    "plt.rcParams[\"figure.figsize\"] = fig_size"
   ]
  },
  {
   "cell_type": "code",
   "execution_count": 15,
   "metadata": {},
   "outputs": [
    {
     "name": "stdout",
     "output_type": "stream",
     "text": [
      "Loading data...\n",
      "pocaMx.shape =  (80000,)\n",
      "nEvts =  80000\n",
      "len(pocaMx[0]) =  199\n",
      "len(pocaMx[1]) =  25\n",
      "len(pocaMx[2]) =  369\n",
      "len(pocaMx[3]) =  143\n",
      "len(pocaMx[4]) =  160\n",
      "majorAxis.shape =  (80000, 3)\n",
      "minorAxis_1.shape =  (80000, 3)\n",
      "minorAxis_2.shape =  (80000, 3)\n",
      "have entered six_ellipsoid_parameters\n",
      "  \n",
      " \n",
      "  nEvts =  80000\n",
      " iEvt, nTrks =  0 199\n",
      " iEvt, nTrks =  1 25\n",
      " iEvt, nTrks =  2 369\n",
      " iEvt, nTrks =  3 143\n",
      " iEvt, nTrks =  4 160\n",
      " iEvt, nTrks =  5 260\n",
      " iEvt, nTrks =  6 237\n",
      " iEvt, nTrks =  7 327\n",
      " iEvt, nTrks =  8 178\n",
      " iEvt, nTrks =  9 106\n",
      "A.shape =  (80000,)\n",
      "majorAxis[iTrk][0][0] =  0.00045611936\n",
      "majorAxis[iTrk][1][0] =  -4.8292455e-05\n",
      "majorAxis[iTrk][2][0] =  0.090019904\n",
      "minorAxis_1[iTrk][0][0] =  -1.8602173\n",
      "minorAxis_1[iTrk][1][0] =  -17.569641\n",
      "minorAxis_1[iTrk][2][0] =  4.7891795e-08\n",
      "minorAxis_2[iTrk][0][0] =  -17.569414\n",
      "minorAxis_2[iTrk][1][0] =  1.8601931\n",
      "minorAxis_2[iTrk][2][0] =  0.0900199\n",
      "  \n",
      "majorAxis[iTrk][0][0] =  0.002360258\n",
      "majorAxis[iTrk][1][0] =  -0.007426616\n",
      "majorAxis[iTrk][2][0] =  0.3710108\n",
      "minorAxis_1[iTrk][0][0] =  -16.837948\n",
      "minorAxis_1[iTrk][1][0] =  -5.3512807\n",
      "minorAxis_1[iTrk][2][0] =  8.157131e-09\n",
      "minorAxis_2[iTrk][0][0] =  -5.3501005\n",
      "minorAxis_2[iTrk][1][0] =  16.834236\n",
      "minorAxis_2[iTrk][2][0] =  0.3710108\n",
      "  \n",
      "majorAxis[iTrk][0][0] =  6.220712e-05\n",
      "majorAxis[iTrk][1][0] =  -4.4594188e-05\n",
      "majorAxis[iTrk][2][0] =  0.036773544\n",
      "minorAxis_1[iTrk][0][0] =  10.293747\n",
      "minorAxis_1[iTrk][1][0] =  14.359369\n",
      "minorAxis_1[iTrk][2][0] =  1.571041e-06\n",
      "minorAxis_2[iTrk][0][0] =  14.359338\n",
      "minorAxis_2[iTrk][1][0] =  -10.293725\n",
      "minorAxis_2[iTrk][2][0] =  -0.03677354\n",
      "  \n",
      "majorAxis[iTrk][0][0] =  0.0033452737\n",
      "majorAxis[iTrk][1][0] =  0.00013028442\n",
      "majorAxis[iTrk][2][0] =  0.2431933\n",
      "minorAxis_1[iTrk][0][0] =  0.6875674\n",
      "minorAxis_1[iTrk][1][0] =  -17.65446\n",
      "minorAxis_1[iTrk][2][0] =  -6.6602626e-09\n",
      "minorAxis_2[iTrk][0][0] =  -17.652788\n",
      "minorAxis_2[iTrk][1][0] =  -0.68750226\n",
      "minorAxis_2[iTrk][2][0] =  0.2431933\n",
      "  \n",
      "majorAxis[iTrk][0][0] =  -0.00068196515\n",
      "majorAxis[iTrk][1][0] =  -0.00044562915\n",
      "majorAxis[iTrk][2][0] =  0.119970225\n",
      "minorAxis_1[iTrk][0][0] =  9.664597\n",
      "minorAxis_1[iTrk][1][0] =  -14.790141\n",
      "minorAxis_1[iTrk][2][0] =  1.9819232e-08\n",
      "minorAxis_2[iTrk][0][0] =  -14.789802\n",
      "minorAxis_2[iTrk][1][0] =  -9.664374\n",
      "minorAxis_2[iTrk][2][0] =  -0.11997023\n",
      "  \n",
      "majorAxis[iTrk][0][0] =  -8.245073e-05\n",
      "majorAxis[iTrk][1][0] =  0.00015860004\n",
      "majorAxis[iTrk][2][0] =  0.05619731\n",
      "minorAxis_1[iTrk][0][0] =  -15.676071\n",
      "minorAxis_1[iTrk][1][0] =  -8.149452\n",
      "minorAxis_1[iTrk][2][0] =  4.1105773e-07\n",
      "minorAxis_2[iTrk][0][0] =  -8.14941\n",
      "minorAxis_2[iTrk][1][0] =  15.675991\n",
      "minorAxis_2[iTrk][2][0] =  -0.056197315\n",
      "  \n",
      "majorAxis[iTrk][0][0] =  -0.00015151131\n",
      "majorAxis[iTrk][1][0] =  0.00067339616\n",
      "majorAxis[iTrk][2][0] =  0.11042937\n",
      "minorAxis_1[iTrk][0][0] =  17.236937\n",
      "minorAxis_1[iTrk][1][0] =  3.8782384\n",
      "minorAxis_1[iTrk][2][0] =  2.3217373e-08\n",
      "minorAxis_2[iTrk][0][0] =  3.8781626\n",
      "minorAxis_2[iTrk][1][0] =  -17.236599\n",
      "minorAxis_2[iTrk][2][0] =  0.11042936\n",
      "  \n",
      "majorAxis[iTrk][0][0] =  -7.577422e-05\n",
      "majorAxis[iTrk][1][0] =  -0.00036802414\n",
      "majorAxis[iTrk][2][0] =  0.08147708\n",
      "minorAxis_1[iTrk][0][0] =  -17.304853\n",
      "minorAxis_1[iTrk][1][0] =  3.5629773\n",
      "minorAxis_1[iTrk][2][0] =  5.80501e-09\n",
      "minorAxis_2[iTrk][0][0] =  3.5629392\n",
      "minorAxis_2[iTrk][1][0] =  17.304668\n",
      "minorAxis_2[iTrk][2][0] =  0.081477076\n",
      "  \n",
      "majorAxis[iTrk][0][0] =  0.00013397264\n",
      "majorAxis[iTrk][1][0] =  0.00094400026\n",
      "majorAxis[iTrk][2][0] =  0.12978876\n",
      "minorAxis_1[iTrk][0][0] =  17.492561\n",
      "minorAxis_1[iTrk][1][0] =  -2.4825466\n",
      "minorAxis_1[iTrk][2][0] =  1.1329301e-08\n",
      "minorAxis_2[iTrk][0][0] =  -2.4824798\n",
      "minorAxis_2[iTrk][1][0] =  -17.492088\n",
      "minorAxis_2[iTrk][2][0] =  0.12978874\n",
      "  \n",
      "majorAxis[iTrk][0][0] =  0.00043501743\n",
      "majorAxis[iTrk][1][0] =  -0.0016521378\n",
      "majorAxis[iTrk][2][0] =  0.17373301\n",
      "minorAxis_1[iTrk][0][0] =  -17.0855\n",
      "minorAxis_1[iTrk][1][0] =  -4.4987106\n",
      "minorAxis_1[iTrk][2][0] =  -7.7275175e-08\n",
      "minorAxis_2[iTrk][0][0] =  -4.4984937\n",
      "minorAxis_2[iTrk][1][0] =  17.084677\n",
      "minorAxis_2[iTrk][2][0] =  0.17373303\n",
      "  \n",
      "len(X) =  80000\n",
      "len(Xlist) =  1\n",
      "Loaded /share/lazy/will/data/June30_2020_80k_1.h5 in 163.9 s\n",
      "pocaMx.shape =  (80000,)\n",
      "nEvts =  80000\n",
      "len(pocaMx[0]) =  222\n",
      "len(pocaMx[1]) =  133\n",
      "len(pocaMx[2]) =  259\n",
      "len(pocaMx[3]) =  114\n",
      "len(pocaMx[4]) =  143\n",
      "majorAxis.shape =  (80000, 3)\n",
      "minorAxis_1.shape =  (80000, 3)\n",
      "minorAxis_2.shape =  (80000, 3)\n",
      "have entered six_ellipsoid_parameters\n",
      "  \n",
      " \n",
      "  nEvts =  80000\n",
      " iEvt, nTrks =  0 222\n",
      " iEvt, nTrks =  1 133\n",
      " iEvt, nTrks =  2 259\n",
      " iEvt, nTrks =  3 114\n",
      " iEvt, nTrks =  4 143\n",
      " iEvt, nTrks =  5 136\n",
      " iEvt, nTrks =  6 397\n",
      " iEvt, nTrks =  7 370\n",
      " iEvt, nTrks =  8 97\n",
      " iEvt, nTrks =  9 67\n",
      "A.shape =  (80000,)\n",
      "majorAxis[iTrk][0][0] =  -0.001036478\n",
      "majorAxis[iTrk][1][0] =  0.0009833863\n",
      "majorAxis[iTrk][2][0] =  0.15887721\n",
      "minorAxis_1[iTrk][0][0] =  -12.160475\n",
      "minorAxis_1[iTrk][1][0] =  -12.817002\n",
      "minorAxis_1[iTrk][2][0] =  0.0\n",
      "minorAxis_2[iTrk][0][0] =  -12.816484\n",
      "minorAxis_2[iTrk][1][0] =  12.159985\n",
      "minorAxis_2[iTrk][2][0] =  -0.15887721\n",
      "  \n",
      "majorAxis[iTrk][0][0] =  0.0016579849\n",
      "majorAxis[iTrk][1][0] =  0.0020989499\n",
      "majorAxis[iTrk][2][0] =  0.21738033\n",
      "minorAxis_1[iTrk][0][0] =  -13.864233\n",
      "minorAxis_1[iTrk][1][0] =  10.95152\n",
      "minorAxis_1[iTrk][2][0] =  -3.3017489e-09\n",
      "minorAxis_2[iTrk][0][0] =  10.95069\n",
      "minorAxis_2[iTrk][1][0] =  13.863184\n",
      "minorAxis_2[iTrk][2][0] =  -0.21738033\n",
      "  \n",
      "majorAxis[iTrk][0][0] =  0.00012481198\n",
      "majorAxis[iTrk][1][0] =  -0.00028747538\n",
      "majorAxis[iTrk][2][0] =  0.07441149\n",
      "minorAxis_1[iTrk][0][0] =  -16.206305\n",
      "minorAxis_1[iTrk][1][0] =  -7.036224\n",
      "minorAxis_1[iTrk][2][0] =  5.3456716e-08\n",
      "minorAxis_2[iTrk][0][0] =  -7.0361605\n",
      "minorAxis_2[iTrk][1][0] =  16.20616\n",
      "minorAxis_2[iTrk][2][0] =  0.07441148\n",
      "  \n",
      "majorAxis[iTrk][0][0] =  -0.007920195\n",
      "majorAxis[iTrk][1][0] =  -0.009694931\n",
      "majorAxis[iTrk][2][0] =  0.47021532\n",
      "minorAxis_1[iTrk][0][0] =  -13.682467\n",
      "minorAxis_1[iTrk][1][0] =  11.177781\n",
      "minorAxis_1[iTrk][2][0] =  1.8638048e-10\n",
      "minorAxis_2[iTrk][0][0] =  11.173822\n",
      "minorAxis_2[iTrk][1][0] =  13.677622\n",
      "minorAxis_2[iTrk][2][0] =  0.47021535\n",
      "  \n",
      "majorAxis[iTrk][0][0] =  0.00038854493\n",
      "majorAxis[iTrk][1][0] =  0.0009230774\n",
      "majorAxis[iTrk][2][0] =  0.13301943\n",
      "minorAxis_1[iTrk][0][0] =  -16.284061\n",
      "minorAxis_1[iTrk][1][0] =  6.854344\n",
      "minorAxis_1[iTrk][2][0] =  2.2469074e-07\n",
      "minorAxis_2[iTrk][0][0] =  6.8541493\n",
      "minorAxis_2[iTrk][1][0] =  16.283602\n",
      "minorAxis_2[iTrk][2][0] =  -0.13301945\n",
      "  \n",
      "majorAxis[iTrk][0][0] =  -5.6093595e-05\n",
      "majorAxis[iTrk][1][0] =  0.000114469876\n",
      "majorAxis[iTrk][2][0] =  0.04745733\n",
      "minorAxis_1[iTrk][0][0] =  15.865369\n",
      "minorAxis_1[iTrk][1][0] =  7.774496\n",
      "minorAxis_1[iTrk][2][0] =  1.8465234e-06\n",
      "minorAxis_2[iTrk][0][0] =  7.774468\n",
      "minorAxis_2[iTrk][1][0] =  -15.865313\n",
      "minorAxis_2[iTrk][2][0] =  0.04745733\n",
      "  \n",
      "majorAxis[iTrk][0][0] =  9.375396e-05\n",
      "majorAxis[iTrk][1][0] =  0.0002926058\n",
      "majorAxis[iTrk][2][0] =  0.07367872\n",
      "minorAxis_1[iTrk][0][0] =  -16.825275\n",
      "minorAxis_1[iTrk][1][0] =  5.390994\n",
      "minorAxis_1[iTrk][2][0] =  -2.1861728e-08\n",
      "minorAxis_2[iTrk][0][0] =  5.3909473\n",
      "minorAxis_2[iTrk][1][0] =  16.825129\n",
      "minorAxis_2[iTrk][2][0] =  -0.07367872\n",
      "  \n",
      "majorAxis[iTrk][0][0] =  -1.1543522e-06\n",
      "majorAxis[iTrk][1][0] =  2.8112001e-05\n",
      "majorAxis[iTrk][2][0] =  0.022295665\n",
      "minorAxis_1[iTrk][0][0] =  -17.652967\n",
      "minorAxis_1[iTrk][1][0] =  -0.7248769\n",
      "minorAxis_1[iTrk][2][0] =  1.7815448e-07\n",
      "minorAxis_2[iTrk][0][0] =  -0.7248763\n",
      "minorAxis_2[iTrk][1][0] =  17.652954\n",
      "minorAxis_2[iTrk][2][0] =  -0.022295661\n",
      "  \n",
      "majorAxis[iTrk][0][0] =  -0.2612214\n",
      "majorAxis[iTrk][1][0] =  0.83076316\n",
      "majorAxis[iTrk][2][0] =  3.8745012\n",
      "minorAxis_1[iTrk][0][0] =  -16.85429\n",
      "minorAxis_1[iTrk][1][0] =  -5.299587\n",
      "minorAxis_1[iTrk][2][0] =  2.0865195e-11\n",
      "minorAxis_2[iTrk][0][0] =  -5.1705856\n",
      "minorAxis_2[iTrk][1][0] =  16.444027\n",
      "minorAxis_2[iTrk][2][0] =  -3.874501\n",
      "  \n",
      "majorAxis[iTrk][0][0] =  -0.057592034\n",
      "majorAxis[iTrk][1][0] =  0.06503555\n",
      "majorAxis[iTrk][2][0] =  1.2373537\n",
      "minorAxis_1[iTrk][0][0] =  13.227038\n",
      "minorAxis_1[iTrk][1][0] =  11.713163\n",
      "minorAxis_1[iTrk][2][0] =  1.7679876e-10\n",
      "minorAxis_2[iTrk][0][0] =  11.684402\n",
      "minorAxis_2[iTrk][1][0] =  -13.194561\n",
      "minorAxis_2[iTrk][2][0] =  1.2373537\n",
      "  \n",
      "len(X) =  80000\n",
      "len(Xlist) =  2\n",
      "Loaded /share/lazy/will/data/June30_2020_80k_2.h5 in 178.2 s\n",
      "pocaMx.shape =  (80000,)\n"
     ]
    },
    {
     "name": "stdout",
     "output_type": "stream",
     "text": [
      "nEvts =  80000\n",
      "len(pocaMx[0]) =  196\n",
      "len(pocaMx[1]) =  35\n",
      "len(pocaMx[2]) =  265\n",
      "len(pocaMx[3]) =  128\n",
      "len(pocaMx[4]) =  124\n",
      "majorAxis.shape =  (80000, 3)\n",
      "minorAxis_1.shape =  (80000, 3)\n",
      "minorAxis_2.shape =  (80000, 3)\n",
      "have entered six_ellipsoid_parameters\n",
      "  \n",
      " \n",
      "  nEvts =  80000\n",
      " iEvt, nTrks =  0 196\n",
      " iEvt, nTrks =  1 35\n",
      " iEvt, nTrks =  2 265\n",
      " iEvt, nTrks =  3 128\n",
      " iEvt, nTrks =  4 124\n",
      " iEvt, nTrks =  5 122\n",
      " iEvt, nTrks =  6 300\n",
      " iEvt, nTrks =  7 179\n",
      " iEvt, nTrks =  8 243\n",
      " iEvt, nTrks =  9 112\n",
      "A.shape =  (80000,)\n",
      "majorAxis[iTrk][0][0] =  -2.440992e-05\n",
      "majorAxis[iTrk][1][0] =  -0.00038087237\n",
      "majorAxis[iTrk][2][0] =  0.08211532\n",
      "minorAxis_1[iTrk][0][0] =  -17.631672\n",
      "minorAxis_1[iTrk][1][0] =  1.130005\n",
      "minorAxis_1[iTrk][2][0] =  4.7444193e-08\n",
      "minorAxis_2[iTrk][0][0] =  1.1299927\n",
      "minorAxis_2[iTrk][1][0] =  17.631481\n",
      "minorAxis_2[iTrk][2][0] =  0.08211532\n",
      "  \n",
      "majorAxis[iTrk][0][0] =  -0.02277395\n",
      "majorAxis[iTrk][1][0] =  0.0014473597\n",
      "majorAxis[iTrk][2][0] =  0.6347583\n",
      "minorAxis_1[iTrk][0][0] =  -1.1205891\n",
      "minorAxis_1[iTrk][1][0] =  -17.632273\n",
      "minorAxis_1[iTrk][2][0] =  2.1543272e-09\n",
      "minorAxis_2[iTrk][0][0] =  -17.620888\n",
      "minorAxis_2[iTrk][1][0] =  1.1198657\n",
      "minorAxis_2[iTrk][2][0] =  -0.63475823\n",
      "  \n",
      "majorAxis[iTrk][0][0] =  0.0004024825\n",
      "majorAxis[iTrk][1][0] =  -0.00023784715\n",
      "majorAxis[iTrk][2][0] =  0.090883136\n",
      "minorAxis_1[iTrk][0][0] =  -8.988615\n",
      "minorAxis_1[iTrk][1][0] =  -15.210441\n",
      "minorAxis_1[iTrk][2][0] =  -6.56547e-08\n",
      "minorAxis_2[iTrk][0][0] =  -15.21024\n",
      "minorAxis_2[iTrk][1][0] =  8.988497\n",
      "minorAxis_2[iTrk][2][0] =  0.090883136\n",
      "  \n",
      "majorAxis[iTrk][0][0] =  0.0068744724\n",
      "majorAxis[iTrk][1][0] =  0.0017050834\n",
      "majorAxis[iTrk][2][0] =  0.3537121\n",
      "minorAxis_1[iTrk][0][0] =  4.2532983\n",
      "minorAxis_1[iTrk][1][0] =  -17.148241\n",
      "minorAxis_1[iTrk][2][0] =  1.1939819e-09\n",
      "minorAxis_2[iTrk][0][0] =  -17.144806\n",
      "minorAxis_2[iTrk][1][0] =  -4.252446\n",
      "minorAxis_2[iTrk][2][0] =  0.3537121\n",
      "  \n",
      "majorAxis[iTrk][0][0] =  -0.004920899\n",
      "majorAxis[iTrk][1][0] =  0.0009170567\n",
      "majorAxis[iTrk][2][0] =  0.2973651\n",
      "minorAxis_1[iTrk][0][0] =  -3.236844\n",
      "minorAxis_1[iTrk][1][0] =  -17.36881\n",
      "minorAxis_1[iTrk][2][0] =  -4.7397712e-09\n",
      "minorAxis_2[iTrk][0][0] =  -17.36635\n",
      "minorAxis_2[iTrk][1][0] =  3.2363856\n",
      "minorAxis_2[iTrk][2][0] =  -0.29736507\n",
      "  \n",
      "majorAxis[iTrk][0][0] =  -0.0001240533\n",
      "majorAxis[iTrk][1][0] =  0.00033394952\n",
      "majorAxis[iTrk][2][0] =  0.079335004\n",
      "minorAxis_1[iTrk][0][0] =  -16.562042\n",
      "minorAxis_1[iTrk][1][0] =  -6.1523557\n",
      "minorAxis_1[iTrk][2][0] =  3.1261713e-08\n",
      "minorAxis_2[iTrk][0][0] =  -6.1522937\n",
      "minorAxis_2[iTrk][1][0] =  16.561876\n",
      "minorAxis_2[iTrk][2][0] =  -0.079335004\n",
      "  \n",
      "majorAxis[iTrk][0][0] =  0.00010132754\n",
      "majorAxis[iTrk][1][0] =  6.684385e-05\n",
      "majorAxis[iTrk][2][0] =  0.046310693\n",
      "minorAxis_1[iTrk][0][0] =  -9.728917\n",
      "minorAxis_1[iTrk][1][0] =  14.747911\n",
      "minorAxis_1[iTrk][2][0] =  -2.3591362e-07\n",
      "minorAxis_2[iTrk][0][0] =  14.74786\n",
      "minorAxis_2[iTrk][1][0] =  9.728883\n",
      "minorAxis_2[iTrk][2][0] =  -0.04631069\n",
      "  \n",
      "majorAxis[iTrk][0][0] =  0.0042806785\n",
      "majorAxis[iTrk][1][0] =  0.004939851\n",
      "majorAxis[iTrk][2][0] =  0.3398017\n",
      "minorAxis_1[iTrk][0][0] =  13.3521\n",
      "minorAxis_1[iTrk][1][0] =  -11.5704\n",
      "minorAxis_1[iTrk][2][0] =  1.21654296e-08\n",
      "minorAxis_2[iTrk][0][0] =  -11.56826\n",
      "minorAxis_2[iTrk][1][0] =  -13.349631\n",
      "minorAxis_2[iTrk][2][0] =  0.33980173\n",
      "  \n",
      "majorAxis[iTrk][0][0] =  -0.00013103899\n",
      "majorAxis[iTrk][1][0] =  -0.0006021903\n",
      "majorAxis[iTrk][2][0] =  0.10434653\n",
      "minorAxis_1[iTrk][0][0] =  -17.26384\n",
      "minorAxis_1[iTrk][1][0] =  3.7566798\n",
      "minorAxis_1[iTrk][2][0] =  -9.616703e-08\n",
      "minorAxis_2[iTrk][0][0] =  3.7566135\n",
      "minorAxis_2[iTrk][1][0] =  17.263535\n",
      "minorAxis_2[iTrk][2][0] =  0.10434652\n",
      "  \n",
      "majorAxis[iTrk][0][0] =  0.0016481678\n",
      "majorAxis[iTrk][1][0] =  -0.0019788505\n",
      "majorAxis[iTrk][2][0] =  0.21330062\n",
      "minorAxis_1[iTrk][0][0] =  -13.575765\n",
      "minorAxis_1[iTrk][1][0] =  -11.307139\n",
      "minorAxis_1[iTrk][2][0] =  8.543098e-09\n",
      "minorAxis_2[iTrk][0][0] =  -11.306314\n",
      "minorAxis_2[iTrk][1][0] =  13.574774\n",
      "minorAxis_2[iTrk][2][0] =  0.21330062\n",
      "  \n",
      "len(X) =  80000\n",
      "len(Xlist) =  3\n",
      "Loaded /share/lazy/will/data/June30_2020_80k_3.h5 in 179.5 s\n",
      "pocaMx.shape =  (80000,)\n",
      "nEvts =  80000\n",
      "len(pocaMx[0]) =  204\n",
      "len(pocaMx[1]) =  33\n",
      "len(pocaMx[2]) =  206\n",
      "len(pocaMx[3]) =  150\n",
      "len(pocaMx[4]) =  96\n",
      "majorAxis.shape =  (80000, 3)\n",
      "minorAxis_1.shape =  (80000, 3)\n",
      "minorAxis_2.shape =  (80000, 3)\n",
      "have entered six_ellipsoid_parameters\n",
      "  \n",
      " \n",
      "  nEvts =  80000\n",
      " iEvt, nTrks =  0 204\n",
      " iEvt, nTrks =  1 33\n",
      " iEvt, nTrks =  2 206\n",
      " iEvt, nTrks =  3 150\n",
      " iEvt, nTrks =  4 96\n",
      " iEvt, nTrks =  5 10\n",
      " iEvt, nTrks =  6 174\n",
      " iEvt, nTrks =  7 320\n",
      " iEvt, nTrks =  8 164\n",
      " iEvt, nTrks =  9 119\n",
      "A.shape =  (80000,)\n",
      "majorAxis[iTrk][0][0] =  0.00057876867\n",
      "majorAxis[iTrk][1][0] =  0.00037603904\n",
      "majorAxis[iTrk][2][0] =  0.110427074\n",
      "minorAxis_1[iTrk][0][0] =  9.62588\n",
      "minorAxis_1[iTrk][1][0] =  -14.81537\n",
      "minorAxis_1[iTrk][2][0] =  8.391163e-09\n",
      "minorAxis_2[iTrk][0][0] =  -14.815081\n",
      "minorAxis_2[iTrk][1][0] =  -9.625692\n",
      "minorAxis_2[iTrk][2][0] =  0.11042709\n",
      "  \n",
      "majorAxis[iTrk][0][0] =  -7.687664e-05\n",
      "majorAxis[iTrk][1][0] =  -0.0017985329\n",
      "majorAxis[iTrk][2][0] =  0.17833562\n",
      "minorAxis_1[iTrk][0][0] =  -17.651728\n",
      "minorAxis_1[iTrk][1][0] =  0.7545069\n",
      "minorAxis_1[iTrk][2][0] =  -7.932265e-09\n",
      "minorAxis_2[iTrk][0][0] =  0.75446844\n",
      "minorAxis_2[iTrk][1][0] =  17.650827\n",
      "minorAxis_2[iTrk][2][0] =  0.17833562\n",
      "  \n",
      "majorAxis[iTrk][0][0] =  4.5855802e-05\n",
      "majorAxis[iTrk][1][0] =  -0.00054240844\n",
      "majorAxis[iTrk][2][0] =  0.098067455\n",
      "minorAxis_1[iTrk][0][0] =  17.605043\n",
      "minorAxis_1[iTrk][1][0] =  1.4883496\n",
      "minorAxis_1[iTrk][2][0] =  -2.7847218e-08\n",
      "minorAxis_2[iTrk][0][0] =  1.4883265\n",
      "minorAxis_2[iTrk][1][0] =  -17.604773\n",
      "minorAxis_2[iTrk][2][0] =  -0.098067455\n",
      "  \n",
      "majorAxis[iTrk][0][0] =  -0.0013144773\n",
      "majorAxis[iTrk][1][0] =  0.0008680699\n",
      "majorAxis[iTrk][2][0] =  0.16682307\n",
      "minorAxis_1[iTrk][0][0] =  -9.736217\n",
      "minorAxis_1[iTrk][1][0] =  -14.743094\n",
      "minorAxis_1[iTrk][2][0] =  -1.7552136e-08\n",
      "minorAxis_2[iTrk][0][0] =  -14.742435\n",
      "minorAxis_2[iTrk][1][0] =  9.735782\n",
      "minorAxis_2[iTrk][2][0] =  -0.16682304\n",
      "  \n",
      "majorAxis[iTrk][0][0] =  0.032227762\n",
      "majorAxis[iTrk][1][0] =  0.007741693\n",
      "majorAxis[iTrk][2][0] =  0.76488173\n",
      "minorAxis_1[iTrk][0][0] =  -4.1267405\n",
      "minorAxis_1[iTrk][1][0] =  17.179138\n",
      "minorAxis_1[iTrk][2][0] =  -2.3529467e-10\n",
      "minorAxis_2[iTrk][0][0] =  17.16303\n",
      "minorAxis_2[iTrk][1][0] =  4.122871\n",
      "minorAxis_2[iTrk][2][0] =  -0.7648817\n",
      "  \n",
      "majorAxis[iTrk][0][0] =  1.9753945\n",
      "majorAxis[iTrk][1][0] =  2.5669005\n",
      "majorAxis[iTrk][2][0] =  7.226382\n",
      "minorAxis_1[iTrk][0][0] =  14.0017\n",
      "minorAxis_1[iTrk][1][0] =  -10.7752075\n",
      "minorAxis_1[iTrk][2][0] =  5.3286344e-11\n",
      "minorAxis_2[iTrk][0][0] =  -9.832683\n",
      "minorAxis_2[iTrk][1][0] =  -12.776951\n",
      "minorAxis_2[iTrk][2][0] =  7.226381\n",
      "  \n",
      "majorAxis[iTrk][0][0] =  -0.0026900356\n",
      "majorAxis[iTrk][1][0] =  -0.0015841618\n",
      "majorAxis[iTrk][2][0] =  0.234843\n",
      "minorAxis_1[iTrk][0][0] =  -8.965469\n",
      "minorAxis_1[iTrk][1][0] =  15.224096\n",
      "minorAxis_1[iTrk][2][0] =  2.8236277e-08\n",
      "minorAxis_2[iTrk][0][0] =  15.222751\n",
      "minorAxis_2[iTrk][1][0] =  8.964677\n",
      "minorAxis_2[iTrk][2][0] =  0.234843\n",
      "  \n",
      "majorAxis[iTrk][0][0] =  -0.0001692281\n",
      "majorAxis[iTrk][1][0] =  0.0003505444\n",
      "majorAxis[iTrk][2][0] =  0.08292902\n",
      "minorAxis_1[iTrk][0][0] =  -15.910811\n",
      "minorAxis_1[iTrk][1][0] =  -7.68107\n",
      "minorAxis_1[iTrk][2][0] =  1.587002e-08\n",
      "minorAxis_2[iTrk][0][0] =  -7.680986\n",
      "minorAxis_2[iTrk][1][0] =  15.910635\n",
      "minorAxis_2[iTrk][2][0] =  -0.08292903\n",
      "  \n",
      "majorAxis[iTrk][0][0] =  0.0017714669\n",
      "majorAxis[iTrk][1][0] =  -0.001515166\n",
      "majorAxis[iTrk][2][0] =  0.20293355\n",
      "minorAxis_1[iTrk][0][0] =  11.483943\n",
      "minorAxis_1[iTrk][1][0] =  13.426532\n",
      "minorAxis_1[iTrk][2][0] =  -2.7840934e-09\n",
      "minorAxis_2[iTrk][0][0] =  13.425648\n",
      "minorAxis_2[iTrk][1][0] =  -11.483187\n",
      "minorAxis_2[iTrk][2][0] =  -0.20293356\n",
      "  \n",
      "majorAxis[iTrk][0][0] =  0.0006359923\n",
      "majorAxis[iTrk][1][0] =  -0.0003371759\n",
      "majorAxis[iTrk][2][0] =  0.112773284\n",
      "minorAxis_1[iTrk][0][0] =  8.275655\n",
      "minorAxis_1[iTrk][1][0] =  15.609813\n",
      "minorAxis_1[iTrk][2][0] =  -5.6373224e-08\n",
      "minorAxis_2[iTrk][0][0] =  15.609494\n",
      "minorAxis_2[iTrk][1][0] =  -8.275486\n",
      "minorAxis_2[iTrk][2][0] =  -0.11277328\n",
      "  \n",
      "len(X) =  80000\n",
      "len(Xlist) =  4\n",
      "Loaded /share/lazy/will/data/June30_2020_80k_4.h5 in 174.5 s\n",
      "outer loop X.shape =  (320000, 9, 600)\n",
      "Constructing 320000 event dataset took 3.316 s\n",
      "x_t.shape =  torch.Size([320000, 9, 600])\n",
      "x_t.shape[0] =  320000\n",
      "x_t.shape[1] =  9\n",
      "x_t.shape =  torch.Size([320000, 9, 600])\n"
     ]
    }
   ],
   "source": [
    "## Training dataset. You can put as many files here as desired.\n",
    "\n",
    "##train_loader = collect_t2kde_data('/share/lazy/pv-finder/20k_evts_for_KDE_learning_200716.h5',\n",
    "train_loader = collect_t2kde_data('/share/lazy/will/data/June30_2020_80k_1.h5', \n",
    "                                  '/share/lazy/will/data/June30_2020_80k_2.h5',\n",
    "                                  '/share/lazy/will/data/June30_2020_80k_3.h5',\n",
    "                                  '/share/lazy/will/data/June30_2020_80k_4.h5',\n",
    "                             batch_size=batch_size,\n",
    "## if we are using a larger dataset (240K events, with the datasets above, and 11 GB  of GPU memory),\n",
    "## the dataset will overflow the GPU memory; device=device will allow the data to move back\n",
    "## and forth between the CPU and GPU memory. While this allows use of a larger dataset, it slows\n",
    "## down performance by about 10%.  So comment out when not needed.\n",
    "##                          device=device,\n",
    "##                           slice = slice(None,18000)\n",
    "                           )"
   ]
  },
  {
   "cell_type": "code",
   "execution_count": 16,
   "metadata": {
    "scrolled": false
   },
   "outputs": [
    {
     "name": "stdout",
     "output_type": "stream",
     "text": [
      "Loading data...\n",
      "pocaMx.shape =  (20000,)\n",
      "nEvts =  20000\n",
      "len(pocaMx[0]) =  211\n",
      "len(pocaMx[1]) =  21\n",
      "len(pocaMx[2]) =  20\n",
      "len(pocaMx[3]) =  198\n",
      "len(pocaMx[4]) =  233\n",
      "majorAxis.shape =  (20000, 3)\n",
      "minorAxis_1.shape =  (20000, 3)\n",
      "minorAxis_2.shape =  (20000, 3)\n",
      "have entered six_ellipsoid_parameters\n",
      "  \n",
      " \n",
      "  nEvts =  20000\n",
      " iEvt, nTrks =  0 211\n",
      " iEvt, nTrks =  1 21\n",
      " iEvt, nTrks =  2 20\n",
      " iEvt, nTrks =  3 198\n",
      " iEvt, nTrks =  4 233\n",
      " iEvt, nTrks =  5 85\n",
      " iEvt, nTrks =  6 223\n",
      " iEvt, nTrks =  7 425\n",
      " iEvt, nTrks =  8 252\n",
      " iEvt, nTrks =  9 169\n",
      "A.shape =  (20000,)\n",
      "majorAxis[iTrk][0][0] =  -0.00023452607\n",
      "majorAxis[iTrk][1][0] =  -0.00047206535\n",
      "majorAxis[iTrk][2][0] =  0.096502915\n",
      "minorAxis_1[iTrk][0][0] =  -15.822749\n",
      "minorAxis_1[iTrk][1][0] =  7.8608756\n",
      "minorAxis_1[iTrk][2][0] =  -2.6228399e-08\n",
      "minorAxis_2[iTrk][0][0] =  7.860759\n",
      "minorAxis_2[iTrk][1][0] =  15.822513\n",
      "minorAxis_2[iTrk][2][0] =  0.096502915\n",
      "  \n",
      "majorAxis[iTrk][0][0] =  -0.37655562\n",
      "majorAxis[iTrk][1][0] =  0.2768704\n",
      "majorAxis[iTrk][2][0] =  2.8546858\n",
      "minorAxis_1[iTrk][0][0] =  -10.466048\n",
      "minorAxis_1[iTrk][1][0] =  -14.234274\n",
      "minorAxis_1[iTrk][2][0] =  2.2974699e-11\n",
      "minorAxis_2[iTrk][0][0] =  -14.04724\n",
      "minorAxis_2[iTrk][1][0] =  10.328527\n",
      "minorAxis_2[iTrk][2][0] =  -2.8546853\n",
      "  \n",
      "majorAxis[iTrk][0][0] =  -0.024279848\n",
      "majorAxis[iTrk][1][0] =  0.0019689242\n",
      "majorAxis[iTrk][2][0] =  0.65580803\n",
      "minorAxis_1[iTrk][0][0] =  -1.4280497\n",
      "minorAxis_1[iTrk][1][0] =  -17.610037\n",
      "minorAxis_1[iTrk][2][0] =  -6.123401e-10\n",
      "minorAxis_2[iTrk][0][0] =  -17.597902\n",
      "minorAxis_2[iTrk][1][0] =  1.4270656\n",
      "minorAxis_2[iTrk][2][0] =  -0.6558081\n",
      "  \n",
      "majorAxis[iTrk][0][0] =  -0.007825993\n",
      "majorAxis[iTrk][1][0] =  0.004052097\n",
      "majorAxis[iTrk][2][0] =  0.3945435\n",
      "minorAxis_1[iTrk][0][0] =  8.123606\n",
      "minorAxis_1[iTrk][1][0] =  15.689478\n",
      "minorAxis_1[iTrk][2][0] =  -2.4940747e-10\n",
      "minorAxis_2[iTrk][0][0] =  15.685566\n",
      "minorAxis_2[iTrk][1][0] =  -8.12158\n",
      "minorAxis_2[iTrk][2][0] =  0.3945435\n",
      "  \n",
      "majorAxis[iTrk][0][0] =  0.0046102717\n",
      "majorAxis[iTrk][1][0] =  -0.0016007021\n",
      "majorAxis[iTrk][2][0] =  0.29361814\n",
      "minorAxis_1[iTrk][0][0] =  -5.794979\n",
      "minorAxis_1[iTrk][1][0] =  -16.690445\n",
      "minorAxis_1[iTrk][2][0] =  2.4897104e-09\n",
      "minorAxis_2[iTrk][0][0] =  -16.688139\n",
      "minorAxis_2[iTrk][1][0] =  5.794179\n",
      "minorAxis_2[iTrk][2][0] =  0.2936181\n",
      "  \n",
      "majorAxis[iTrk][0][0] =  -0.00020041714\n",
      "majorAxis[iTrk][1][0] =  0.00010468164\n",
      "majorAxis[iTrk][2][0] =  0.06320469\n",
      "minorAxis_1[iTrk][0][0] =  8.179679\n",
      "minorAxis_1[iTrk][1][0] =  15.660318\n",
      "minorAxis_1[iTrk][2][0] =  7.40176e-08\n",
      "minorAxis_2[iTrk][0][0] =  15.660218\n",
      "minorAxis_2[iTrk][1][0] =  -8.179626\n",
      "minorAxis_2[iTrk][2][0] =  0.06320469\n",
      "  \n",
      "majorAxis[iTrk][0][0] =  -0.00020603223\n",
      "majorAxis[iTrk][1][0] =  -0.0005662605\n",
      "majorAxis[iTrk][2][0] =  0.10317981\n",
      "minorAxis_1[iTrk][0][0] =  -16.603\n",
      "minorAxis_1[iTrk][1][0] =  6.040953\n",
      "minorAxis_1[iTrk][2][0] =  4.5812504e-07\n",
      "minorAxis_2[iTrk][0][0] =  6.0408506\n",
      "minorAxis_2[iTrk][1][0] =  16.602718\n",
      "minorAxis_2[iTrk][2][0] =  0.10317982\n",
      "  \n",
      "majorAxis[iTrk][0][0] =  -0.00040561036\n",
      "majorAxis[iTrk][1][0] =  0.00014461782\n",
      "majorAxis[iTrk][2][0] =  0.0872241\n",
      "minorAxis_1[iTrk][0][0] =  -5.933496\n",
      "minorAxis_1[iTrk][1][0] =  -16.641706\n",
      "minorAxis_1[iTrk][2][0] =  1.0720762e-08\n",
      "minorAxis_2[iTrk][0][0] =  -16.641502\n",
      "minorAxis_2[iTrk][1][0] =  5.9334235\n",
      "minorAxis_2[iTrk][2][0] =  -0.0872241\n",
      "  \n",
      "majorAxis[iTrk][0][0] =  0.00038461428\n",
      "majorAxis[iTrk][1][0] =  -3.4232737e-05\n",
      "majorAxis[iTrk][2][0] =  0.08259597\n",
      "minorAxis_1[iTrk][0][0] =  -1.5663412\n",
      "minorAxis_1[iTrk][1][0] =  -17.598276\n",
      "minorAxis_1[iTrk][2][0] =  3.2106848e-07\n",
      "minorAxis_2[iTrk][0][0] =  -17.598082\n",
      "minorAxis_2[iTrk][1][0] =  1.5663238\n",
      "minorAxis_2[iTrk][2][0] =  0.08259596\n",
      "  \n",
      "majorAxis[iTrk][0][0] =  -0.022277953\n",
      "majorAxis[iTrk][1][0] =  -0.0046837274\n",
      "majorAxis[iTrk][2][0] =  0.63399464\n",
      "minorAxis_1[iTrk][0][0] =  -3.6350286\n",
      "minorAxis_1[iTrk][1][0] =  17.289862\n",
      "minorAxis_1[iTrk][2][0] =  9.566169e-10\n",
      "minorAxis_2[iTrk][0][0] =  17.278727\n",
      "minorAxis_2[iTrk][1][0] =  3.6326876\n",
      "minorAxis_2[iTrk][2][0] =  0.6339946\n",
      "  \n",
      "len(X) =  20000\n",
      "len(Xlist) =  1\n",
      "Loaded dataAA/20K_POCA_kernel_evts_200926.h5 in 41.97 s\n",
      "outer loop X.shape =  (20000, 9, 600)\n",
      "Constructing 10000 event dataset took 0.08752 s\n",
      "x_t.shape =  torch.Size([10000, 9, 600])\n",
      "x_t.shape[0] =  10000\n",
      "x_t.shape[1] =  9\n",
      "x_t.shape =  torch.Size([10000, 9, 600])\n"
     ]
    }
   ],
   "source": [
    "                            \n",
    "# Validation dataset. You can slice to reduce the size.\n",
    "## mds no separate validation set yet,\n",
    "\n",
    "## For iter12, change slice(18000,None) to slice(10000,None)\n",
    "## First, we'll see if this changes the validation cost significantly\n",
    "##  Second, we will see if this reduces the validation cost fluctuations\n",
    "val_loader = collect_t2kde_data('dataAA/20K_POCA_kernel_evts_200926.h5',\n",
    "                            batch_size=batch_size,\n",
    "##                            device=device,\n",
    "                            slice = slice(10000,None)\n",
    "                           )"
   ]
  },
  {
   "cell_type": "code",
   "execution_count": 17,
   "metadata": {
    "scrolled": false
   },
   "outputs": [
    {
     "data": {
      "application/javascript": [
       "/* Put everything inside the global mpl namespace */\n",
       "window.mpl = {};\n",
       "\n",
       "\n",
       "mpl.get_websocket_type = function() {\n",
       "    if (typeof(WebSocket) !== 'undefined') {\n",
       "        return WebSocket;\n",
       "    } else if (typeof(MozWebSocket) !== 'undefined') {\n",
       "        return MozWebSocket;\n",
       "    } else {\n",
       "        alert('Your browser does not have WebSocket support. ' +\n",
       "              'Please try Chrome, Safari or Firefox ≥ 6. ' +\n",
       "              'Firefox 4 and 5 are also supported but you ' +\n",
       "              'have to enable WebSockets in about:config.');\n",
       "    };\n",
       "}\n",
       "\n",
       "mpl.figure = function(figure_id, websocket, ondownload, parent_element) {\n",
       "    this.id = figure_id;\n",
       "\n",
       "    this.ws = websocket;\n",
       "\n",
       "    this.supports_binary = (this.ws.binaryType != undefined);\n",
       "\n",
       "    if (!this.supports_binary) {\n",
       "        var warnings = document.getElementById(\"mpl-warnings\");\n",
       "        if (warnings) {\n",
       "            warnings.style.display = 'block';\n",
       "            warnings.textContent = (\n",
       "                \"This browser does not support binary websocket messages. \" +\n",
       "                    \"Performance may be slow.\");\n",
       "        }\n",
       "    }\n",
       "\n",
       "    this.imageObj = new Image();\n",
       "\n",
       "    this.context = undefined;\n",
       "    this.message = undefined;\n",
       "    this.canvas = undefined;\n",
       "    this.rubberband_canvas = undefined;\n",
       "    this.rubberband_context = undefined;\n",
       "    this.format_dropdown = undefined;\n",
       "\n",
       "    this.image_mode = 'full';\n",
       "\n",
       "    this.root = $('<div/>');\n",
       "    this._root_extra_style(this.root)\n",
       "    this.root.attr('style', 'display: inline-block');\n",
       "\n",
       "    $(parent_element).append(this.root);\n",
       "\n",
       "    this._init_header(this);\n",
       "    this._init_canvas(this);\n",
       "    this._init_toolbar(this);\n",
       "\n",
       "    var fig = this;\n",
       "\n",
       "    this.waiting = false;\n",
       "\n",
       "    this.ws.onopen =  function () {\n",
       "            fig.send_message(\"supports_binary\", {value: fig.supports_binary});\n",
       "            fig.send_message(\"send_image_mode\", {});\n",
       "            if (mpl.ratio != 1) {\n",
       "                fig.send_message(\"set_dpi_ratio\", {'dpi_ratio': mpl.ratio});\n",
       "            }\n",
       "            fig.send_message(\"refresh\", {});\n",
       "        }\n",
       "\n",
       "    this.imageObj.onload = function() {\n",
       "            if (fig.image_mode == 'full') {\n",
       "                // Full images could contain transparency (where diff images\n",
       "                // almost always do), so we need to clear the canvas so that\n",
       "                // there is no ghosting.\n",
       "                fig.context.clearRect(0, 0, fig.canvas.width, fig.canvas.height);\n",
       "            }\n",
       "            fig.context.drawImage(fig.imageObj, 0, 0);\n",
       "        };\n",
       "\n",
       "    this.imageObj.onunload = function() {\n",
       "        fig.ws.close();\n",
       "    }\n",
       "\n",
       "    this.ws.onmessage = this._make_on_message_function(this);\n",
       "\n",
       "    this.ondownload = ondownload;\n",
       "}\n",
       "\n",
       "mpl.figure.prototype._init_header = function() {\n",
       "    var titlebar = $(\n",
       "        '<div class=\"ui-dialog-titlebar ui-widget-header ui-corner-all ' +\n",
       "        'ui-helper-clearfix\"/>');\n",
       "    var titletext = $(\n",
       "        '<div class=\"ui-dialog-title\" style=\"width: 100%; ' +\n",
       "        'text-align: center; padding: 3px;\"/>');\n",
       "    titlebar.append(titletext)\n",
       "    this.root.append(titlebar);\n",
       "    this.header = titletext[0];\n",
       "}\n",
       "\n",
       "\n",
       "\n",
       "mpl.figure.prototype._canvas_extra_style = function(canvas_div) {\n",
       "\n",
       "}\n",
       "\n",
       "\n",
       "mpl.figure.prototype._root_extra_style = function(canvas_div) {\n",
       "\n",
       "}\n",
       "\n",
       "mpl.figure.prototype._init_canvas = function() {\n",
       "    var fig = this;\n",
       "\n",
       "    var canvas_div = $('<div/>');\n",
       "\n",
       "    canvas_div.attr('style', 'position: relative; clear: both; outline: 0');\n",
       "\n",
       "    function canvas_keyboard_event(event) {\n",
       "        return fig.key_event(event, event['data']);\n",
       "    }\n",
       "\n",
       "    canvas_div.keydown('key_press', canvas_keyboard_event);\n",
       "    canvas_div.keyup('key_release', canvas_keyboard_event);\n",
       "    this.canvas_div = canvas_div\n",
       "    this._canvas_extra_style(canvas_div)\n",
       "    this.root.append(canvas_div);\n",
       "\n",
       "    var canvas = $('<canvas/>');\n",
       "    canvas.addClass('mpl-canvas');\n",
       "    canvas.attr('style', \"left: 0; top: 0; z-index: 0; outline: 0\")\n",
       "\n",
       "    this.canvas = canvas[0];\n",
       "    this.context = canvas[0].getContext(\"2d\");\n",
       "\n",
       "    var backingStore = this.context.backingStorePixelRatio ||\n",
       "\tthis.context.webkitBackingStorePixelRatio ||\n",
       "\tthis.context.mozBackingStorePixelRatio ||\n",
       "\tthis.context.msBackingStorePixelRatio ||\n",
       "\tthis.context.oBackingStorePixelRatio ||\n",
       "\tthis.context.backingStorePixelRatio || 1;\n",
       "\n",
       "    mpl.ratio = (window.devicePixelRatio || 1) / backingStore;\n",
       "\n",
       "    var rubberband = $('<canvas/>');\n",
       "    rubberband.attr('style', \"position: absolute; left: 0; top: 0; z-index: 1;\")\n",
       "\n",
       "    var pass_mouse_events = true;\n",
       "\n",
       "    canvas_div.resizable({\n",
       "        start: function(event, ui) {\n",
       "            pass_mouse_events = false;\n",
       "        },\n",
       "        resize: function(event, ui) {\n",
       "            fig.request_resize(ui.size.width, ui.size.height);\n",
       "        },\n",
       "        stop: function(event, ui) {\n",
       "            pass_mouse_events = true;\n",
       "            fig.request_resize(ui.size.width, ui.size.height);\n",
       "        },\n",
       "    });\n",
       "\n",
       "    function mouse_event_fn(event) {\n",
       "        if (pass_mouse_events)\n",
       "            return fig.mouse_event(event, event['data']);\n",
       "    }\n",
       "\n",
       "    rubberband.mousedown('button_press', mouse_event_fn);\n",
       "    rubberband.mouseup('button_release', mouse_event_fn);\n",
       "    // Throttle sequential mouse events to 1 every 20ms.\n",
       "    rubberband.mousemove('motion_notify', mouse_event_fn);\n",
       "\n",
       "    rubberband.mouseenter('figure_enter', mouse_event_fn);\n",
       "    rubberband.mouseleave('figure_leave', mouse_event_fn);\n",
       "\n",
       "    canvas_div.on(\"wheel\", function (event) {\n",
       "        event = event.originalEvent;\n",
       "        event['data'] = 'scroll'\n",
       "        if (event.deltaY < 0) {\n",
       "            event.step = 1;\n",
       "        } else {\n",
       "            event.step = -1;\n",
       "        }\n",
       "        mouse_event_fn(event);\n",
       "    });\n",
       "\n",
       "    canvas_div.append(canvas);\n",
       "    canvas_div.append(rubberband);\n",
       "\n",
       "    this.rubberband = rubberband;\n",
       "    this.rubberband_canvas = rubberband[0];\n",
       "    this.rubberband_context = rubberband[0].getContext(\"2d\");\n",
       "    this.rubberband_context.strokeStyle = \"#000000\";\n",
       "\n",
       "    this._resize_canvas = function(width, height) {\n",
       "        // Keep the size of the canvas, canvas container, and rubber band\n",
       "        // canvas in synch.\n",
       "        canvas_div.css('width', width)\n",
       "        canvas_div.css('height', height)\n",
       "\n",
       "        canvas.attr('width', width * mpl.ratio);\n",
       "        canvas.attr('height', height * mpl.ratio);\n",
       "        canvas.attr('style', 'width: ' + width + 'px; height: ' + height + 'px;');\n",
       "\n",
       "        rubberband.attr('width', width);\n",
       "        rubberband.attr('height', height);\n",
       "    }\n",
       "\n",
       "    // Set the figure to an initial 600x600px, this will subsequently be updated\n",
       "    // upon first draw.\n",
       "    this._resize_canvas(600, 600);\n",
       "\n",
       "    // Disable right mouse context menu.\n",
       "    $(this.rubberband_canvas).bind(\"contextmenu\",function(e){\n",
       "        return false;\n",
       "    });\n",
       "\n",
       "    function set_focus () {\n",
       "        canvas.focus();\n",
       "        canvas_div.focus();\n",
       "    }\n",
       "\n",
       "    window.setTimeout(set_focus, 100);\n",
       "}\n",
       "\n",
       "mpl.figure.prototype._init_toolbar = function() {\n",
       "    var fig = this;\n",
       "\n",
       "    var nav_element = $('<div/>');\n",
       "    nav_element.attr('style', 'width: 100%');\n",
       "    this.root.append(nav_element);\n",
       "\n",
       "    // Define a callback function for later on.\n",
       "    function toolbar_event(event) {\n",
       "        return fig.toolbar_button_onclick(event['data']);\n",
       "    }\n",
       "    function toolbar_mouse_event(event) {\n",
       "        return fig.toolbar_button_onmouseover(event['data']);\n",
       "    }\n",
       "\n",
       "    for(var toolbar_ind in mpl.toolbar_items) {\n",
       "        var name = mpl.toolbar_items[toolbar_ind][0];\n",
       "        var tooltip = mpl.toolbar_items[toolbar_ind][1];\n",
       "        var image = mpl.toolbar_items[toolbar_ind][2];\n",
       "        var method_name = mpl.toolbar_items[toolbar_ind][3];\n",
       "\n",
       "        if (!name) {\n",
       "            // put a spacer in here.\n",
       "            continue;\n",
       "        }\n",
       "        var button = $('<button/>');\n",
       "        button.addClass('ui-button ui-widget ui-state-default ui-corner-all ' +\n",
       "                        'ui-button-icon-only');\n",
       "        button.attr('role', 'button');\n",
       "        button.attr('aria-disabled', 'false');\n",
       "        button.click(method_name, toolbar_event);\n",
       "        button.mouseover(tooltip, toolbar_mouse_event);\n",
       "\n",
       "        var icon_img = $('<span/>');\n",
       "        icon_img.addClass('ui-button-icon-primary ui-icon');\n",
       "        icon_img.addClass(image);\n",
       "        icon_img.addClass('ui-corner-all');\n",
       "\n",
       "        var tooltip_span = $('<span/>');\n",
       "        tooltip_span.addClass('ui-button-text');\n",
       "        tooltip_span.html(tooltip);\n",
       "\n",
       "        button.append(icon_img);\n",
       "        button.append(tooltip_span);\n",
       "\n",
       "        nav_element.append(button);\n",
       "    }\n",
       "\n",
       "    var fmt_picker_span = $('<span/>');\n",
       "\n",
       "    var fmt_picker = $('<select/>');\n",
       "    fmt_picker.addClass('mpl-toolbar-option ui-widget ui-widget-content');\n",
       "    fmt_picker_span.append(fmt_picker);\n",
       "    nav_element.append(fmt_picker_span);\n",
       "    this.format_dropdown = fmt_picker[0];\n",
       "\n",
       "    for (var ind in mpl.extensions) {\n",
       "        var fmt = mpl.extensions[ind];\n",
       "        var option = $(\n",
       "            '<option/>', {selected: fmt === mpl.default_extension}).html(fmt);\n",
       "        fmt_picker.append(option);\n",
       "    }\n",
       "\n",
       "    // Add hover states to the ui-buttons\n",
       "    $( \".ui-button\" ).hover(\n",
       "        function() { $(this).addClass(\"ui-state-hover\");},\n",
       "        function() { $(this).removeClass(\"ui-state-hover\");}\n",
       "    );\n",
       "\n",
       "    var status_bar = $('<span class=\"mpl-message\"/>');\n",
       "    nav_element.append(status_bar);\n",
       "    this.message = status_bar[0];\n",
       "}\n",
       "\n",
       "mpl.figure.prototype.request_resize = function(x_pixels, y_pixels) {\n",
       "    // Request matplotlib to resize the figure. Matplotlib will then trigger a resize in the client,\n",
       "    // which will in turn request a refresh of the image.\n",
       "    this.send_message('resize', {'width': x_pixels, 'height': y_pixels});\n",
       "}\n",
       "\n",
       "mpl.figure.prototype.send_message = function(type, properties) {\n",
       "    properties['type'] = type;\n",
       "    properties['figure_id'] = this.id;\n",
       "    this.ws.send(JSON.stringify(properties));\n",
       "}\n",
       "\n",
       "mpl.figure.prototype.send_draw_message = function() {\n",
       "    if (!this.waiting) {\n",
       "        this.waiting = true;\n",
       "        this.ws.send(JSON.stringify({type: \"draw\", figure_id: this.id}));\n",
       "    }\n",
       "}\n",
       "\n",
       "\n",
       "mpl.figure.prototype.handle_save = function(fig, msg) {\n",
       "    var format_dropdown = fig.format_dropdown;\n",
       "    var format = format_dropdown.options[format_dropdown.selectedIndex].value;\n",
       "    fig.ondownload(fig, format);\n",
       "}\n",
       "\n",
       "\n",
       "mpl.figure.prototype.handle_resize = function(fig, msg) {\n",
       "    var size = msg['size'];\n",
       "    if (size[0] != fig.canvas.width || size[1] != fig.canvas.height) {\n",
       "        fig._resize_canvas(size[0], size[1]);\n",
       "        fig.send_message(\"refresh\", {});\n",
       "    };\n",
       "}\n",
       "\n",
       "mpl.figure.prototype.handle_rubberband = function(fig, msg) {\n",
       "    var x0 = msg['x0'] / mpl.ratio;\n",
       "    var y0 = (fig.canvas.height - msg['y0']) / mpl.ratio;\n",
       "    var x1 = msg['x1'] / mpl.ratio;\n",
       "    var y1 = (fig.canvas.height - msg['y1']) / mpl.ratio;\n",
       "    x0 = Math.floor(x0) + 0.5;\n",
       "    y0 = Math.floor(y0) + 0.5;\n",
       "    x1 = Math.floor(x1) + 0.5;\n",
       "    y1 = Math.floor(y1) + 0.5;\n",
       "    var min_x = Math.min(x0, x1);\n",
       "    var min_y = Math.min(y0, y1);\n",
       "    var width = Math.abs(x1 - x0);\n",
       "    var height = Math.abs(y1 - y0);\n",
       "\n",
       "    fig.rubberband_context.clearRect(\n",
       "        0, 0, fig.canvas.width / mpl.ratio, fig.canvas.height / mpl.ratio);\n",
       "\n",
       "    fig.rubberband_context.strokeRect(min_x, min_y, width, height);\n",
       "}\n",
       "\n",
       "mpl.figure.prototype.handle_figure_label = function(fig, msg) {\n",
       "    // Updates the figure title.\n",
       "    fig.header.textContent = msg['label'];\n",
       "}\n",
       "\n",
       "mpl.figure.prototype.handle_cursor = function(fig, msg) {\n",
       "    var cursor = msg['cursor'];\n",
       "    switch(cursor)\n",
       "    {\n",
       "    case 0:\n",
       "        cursor = 'pointer';\n",
       "        break;\n",
       "    case 1:\n",
       "        cursor = 'default';\n",
       "        break;\n",
       "    case 2:\n",
       "        cursor = 'crosshair';\n",
       "        break;\n",
       "    case 3:\n",
       "        cursor = 'move';\n",
       "        break;\n",
       "    }\n",
       "    fig.rubberband_canvas.style.cursor = cursor;\n",
       "}\n",
       "\n",
       "mpl.figure.prototype.handle_message = function(fig, msg) {\n",
       "    fig.message.textContent = msg['message'];\n",
       "}\n",
       "\n",
       "mpl.figure.prototype.handle_draw = function(fig, msg) {\n",
       "    // Request the server to send over a new figure.\n",
       "    fig.send_draw_message();\n",
       "}\n",
       "\n",
       "mpl.figure.prototype.handle_image_mode = function(fig, msg) {\n",
       "    fig.image_mode = msg['mode'];\n",
       "}\n",
       "\n",
       "mpl.figure.prototype.updated_canvas_event = function() {\n",
       "    // Called whenever the canvas gets updated.\n",
       "    this.send_message(\"ack\", {});\n",
       "}\n",
       "\n",
       "// A function to construct a web socket function for onmessage handling.\n",
       "// Called in the figure constructor.\n",
       "mpl.figure.prototype._make_on_message_function = function(fig) {\n",
       "    return function socket_on_message(evt) {\n",
       "        if (evt.data instanceof Blob) {\n",
       "            /* FIXME: We get \"Resource interpreted as Image but\n",
       "             * transferred with MIME type text/plain:\" errors on\n",
       "             * Chrome.  But how to set the MIME type?  It doesn't seem\n",
       "             * to be part of the websocket stream */\n",
       "            evt.data.type = \"image/png\";\n",
       "\n",
       "            /* Free the memory for the previous frames */\n",
       "            if (fig.imageObj.src) {\n",
       "                (window.URL || window.webkitURL).revokeObjectURL(\n",
       "                    fig.imageObj.src);\n",
       "            }\n",
       "\n",
       "            fig.imageObj.src = (window.URL || window.webkitURL).createObjectURL(\n",
       "                evt.data);\n",
       "            fig.updated_canvas_event();\n",
       "            fig.waiting = false;\n",
       "            return;\n",
       "        }\n",
       "        else if (typeof evt.data === 'string' && evt.data.slice(0, 21) == \"data:image/png;base64\") {\n",
       "            fig.imageObj.src = evt.data;\n",
       "            fig.updated_canvas_event();\n",
       "            fig.waiting = false;\n",
       "            return;\n",
       "        }\n",
       "\n",
       "        var msg = JSON.parse(evt.data);\n",
       "        var msg_type = msg['type'];\n",
       "\n",
       "        // Call the  \"handle_{type}\" callback, which takes\n",
       "        // the figure and JSON message as its only arguments.\n",
       "        try {\n",
       "            var callback = fig[\"handle_\" + msg_type];\n",
       "        } catch (e) {\n",
       "            console.log(\"No handler for the '\" + msg_type + \"' message type: \", msg);\n",
       "            return;\n",
       "        }\n",
       "\n",
       "        if (callback) {\n",
       "            try {\n",
       "                // console.log(\"Handling '\" + msg_type + \"' message: \", msg);\n",
       "                callback(fig, msg);\n",
       "            } catch (e) {\n",
       "                console.log(\"Exception inside the 'handler_\" + msg_type + \"' callback:\", e, e.stack, msg);\n",
       "            }\n",
       "        }\n",
       "    };\n",
       "}\n",
       "\n",
       "// from http://stackoverflow.com/questions/1114465/getting-mouse-location-in-canvas\n",
       "mpl.findpos = function(e) {\n",
       "    //this section is from http://www.quirksmode.org/js/events_properties.html\n",
       "    var targ;\n",
       "    if (!e)\n",
       "        e = window.event;\n",
       "    if (e.target)\n",
       "        targ = e.target;\n",
       "    else if (e.srcElement)\n",
       "        targ = e.srcElement;\n",
       "    if (targ.nodeType == 3) // defeat Safari bug\n",
       "        targ = targ.parentNode;\n",
       "\n",
       "    // jQuery normalizes the pageX and pageY\n",
       "    // pageX,Y are the mouse positions relative to the document\n",
       "    // offset() returns the position of the element relative to the document\n",
       "    var x = e.pageX - $(targ).offset().left;\n",
       "    var y = e.pageY - $(targ).offset().top;\n",
       "\n",
       "    return {\"x\": x, \"y\": y};\n",
       "};\n",
       "\n",
       "/*\n",
       " * return a copy of an object with only non-object keys\n",
       " * we need this to avoid circular references\n",
       " * http://stackoverflow.com/a/24161582/3208463\n",
       " */\n",
       "function simpleKeys (original) {\n",
       "  return Object.keys(original).reduce(function (obj, key) {\n",
       "    if (typeof original[key] !== 'object')\n",
       "        obj[key] = original[key]\n",
       "    return obj;\n",
       "  }, {});\n",
       "}\n",
       "\n",
       "mpl.figure.prototype.mouse_event = function(event, name) {\n",
       "    var canvas_pos = mpl.findpos(event)\n",
       "\n",
       "    if (name === 'button_press')\n",
       "    {\n",
       "        this.canvas.focus();\n",
       "        this.canvas_div.focus();\n",
       "    }\n",
       "\n",
       "    var x = canvas_pos.x * mpl.ratio;\n",
       "    var y = canvas_pos.y * mpl.ratio;\n",
       "\n",
       "    this.send_message(name, {x: x, y: y, button: event.button,\n",
       "                             step: event.step,\n",
       "                             guiEvent: simpleKeys(event)});\n",
       "\n",
       "    /* This prevents the web browser from automatically changing to\n",
       "     * the text insertion cursor when the button is pressed.  We want\n",
       "     * to control all of the cursor setting manually through the\n",
       "     * 'cursor' event from matplotlib */\n",
       "    event.preventDefault();\n",
       "    return false;\n",
       "}\n",
       "\n",
       "mpl.figure.prototype._key_event_extra = function(event, name) {\n",
       "    // Handle any extra behaviour associated with a key event\n",
       "}\n",
       "\n",
       "mpl.figure.prototype.key_event = function(event, name) {\n",
       "\n",
       "    // Prevent repeat events\n",
       "    if (name == 'key_press')\n",
       "    {\n",
       "        if (event.which === this._key)\n",
       "            return;\n",
       "        else\n",
       "            this._key = event.which;\n",
       "    }\n",
       "    if (name == 'key_release')\n",
       "        this._key = null;\n",
       "\n",
       "    var value = '';\n",
       "    if (event.ctrlKey && event.which != 17)\n",
       "        value += \"ctrl+\";\n",
       "    if (event.altKey && event.which != 18)\n",
       "        value += \"alt+\";\n",
       "    if (event.shiftKey && event.which != 16)\n",
       "        value += \"shift+\";\n",
       "\n",
       "    value += 'k';\n",
       "    value += event.which.toString();\n",
       "\n",
       "    this._key_event_extra(event, name);\n",
       "\n",
       "    this.send_message(name, {key: value,\n",
       "                             guiEvent: simpleKeys(event)});\n",
       "    return false;\n",
       "}\n",
       "\n",
       "mpl.figure.prototype.toolbar_button_onclick = function(name) {\n",
       "    if (name == 'download') {\n",
       "        this.handle_save(this, null);\n",
       "    } else {\n",
       "        this.send_message(\"toolbar_button\", {name: name});\n",
       "    }\n",
       "};\n",
       "\n",
       "mpl.figure.prototype.toolbar_button_onmouseover = function(tooltip) {\n",
       "    this.message.textContent = tooltip;\n",
       "};\n",
       "mpl.toolbar_items = [[\"Home\", \"Reset original view\", \"fa fa-home icon-home\", \"home\"], [\"Back\", \"Back to previous view\", \"fa fa-arrow-left icon-arrow-left\", \"back\"], [\"Forward\", \"Forward to next view\", \"fa fa-arrow-right icon-arrow-right\", \"forward\"], [\"\", \"\", \"\", \"\"], [\"Pan\", \"Pan axes with left mouse, zoom with right\", \"fa fa-arrows icon-move\", \"pan\"], [\"Zoom\", \"Zoom to rectangle\", \"fa fa-square-o icon-check-empty\", \"zoom\"], [\"\", \"\", \"\", \"\"], [\"Download\", \"Download plot\", \"fa fa-floppy-o icon-save\", \"download\"]];\n",
       "\n",
       "mpl.extensions = [\"eps\", \"jpeg\", \"pdf\", \"png\", \"ps\", \"raw\", \"svg\", \"tif\"];\n",
       "\n",
       "mpl.default_extension = \"png\";var comm_websocket_adapter = function(comm) {\n",
       "    // Create a \"websocket\"-like object which calls the given IPython comm\n",
       "    // object with the appropriate methods. Currently this is a non binary\n",
       "    // socket, so there is still some room for performance tuning.\n",
       "    var ws = {};\n",
       "\n",
       "    ws.close = function() {\n",
       "        comm.close()\n",
       "    };\n",
       "    ws.send = function(m) {\n",
       "        //console.log('sending', m);\n",
       "        comm.send(m);\n",
       "    };\n",
       "    // Register the callback with on_msg.\n",
       "    comm.on_msg(function(msg) {\n",
       "        //console.log('receiving', msg['content']['data'], msg);\n",
       "        // Pass the mpl event to the overridden (by mpl) onmessage function.\n",
       "        ws.onmessage(msg['content']['data'])\n",
       "    });\n",
       "    return ws;\n",
       "}\n",
       "\n",
       "mpl.mpl_figure_comm = function(comm, msg) {\n",
       "    // This is the function which gets called when the mpl process\n",
       "    // starts-up an IPython Comm through the \"matplotlib\" channel.\n",
       "\n",
       "    var id = msg.content.data.id;\n",
       "    // Get hold of the div created by the display call when the Comm\n",
       "    // socket was opened in Python.\n",
       "    var element = $(\"#\" + id);\n",
       "    var ws_proxy = comm_websocket_adapter(comm)\n",
       "\n",
       "    function ondownload(figure, format) {\n",
       "        window.open(figure.imageObj.src);\n",
       "    }\n",
       "\n",
       "    var fig = new mpl.figure(id, ws_proxy,\n",
       "                           ondownload,\n",
       "                           element.get(0));\n",
       "\n",
       "    // Call onopen now - mpl needs it, as it is assuming we've passed it a real\n",
       "    // web socket which is closed, not our websocket->open comm proxy.\n",
       "    ws_proxy.onopen();\n",
       "\n",
       "    fig.parent_element = element.get(0);\n",
       "    fig.cell_info = mpl.find_output_cell(\"<div id='\" + id + \"'></div>\");\n",
       "    if (!fig.cell_info) {\n",
       "        console.error(\"Failed to find cell for figure\", id, fig);\n",
       "        return;\n",
       "    }\n",
       "\n",
       "    var output_index = fig.cell_info[2]\n",
       "    var cell = fig.cell_info[0];\n",
       "\n",
       "};\n",
       "\n",
       "mpl.figure.prototype.handle_close = function(fig, msg) {\n",
       "    var width = fig.canvas.width/mpl.ratio\n",
       "    fig.root.unbind('remove')\n",
       "\n",
       "    // Update the output cell to use the data from the current canvas.\n",
       "    fig.push_to_output();\n",
       "    var dataURL = fig.canvas.toDataURL();\n",
       "    // Re-enable the keyboard manager in IPython - without this line, in FF,\n",
       "    // the notebook keyboard shortcuts fail.\n",
       "    IPython.keyboard_manager.enable()\n",
       "    $(fig.parent_element).html('<img src=\"' + dataURL + '\" width=\"' + width + '\">');\n",
       "    fig.close_ws(fig, msg);\n",
       "}\n",
       "\n",
       "mpl.figure.prototype.close_ws = function(fig, msg){\n",
       "    fig.send_message('closing', msg);\n",
       "    // fig.ws.close()\n",
       "}\n",
       "\n",
       "mpl.figure.prototype.push_to_output = function(remove_interactive) {\n",
       "    // Turn the data on the canvas into data in the output cell.\n",
       "    var width = this.canvas.width/mpl.ratio\n",
       "    var dataURL = this.canvas.toDataURL();\n",
       "    this.cell_info[1]['text/html'] = '<img src=\"' + dataURL + '\" width=\"' + width + '\">';\n",
       "}\n",
       "\n",
       "mpl.figure.prototype.updated_canvas_event = function() {\n",
       "    // Tell IPython that the notebook contents must change.\n",
       "    IPython.notebook.set_dirty(true);\n",
       "    this.send_message(\"ack\", {});\n",
       "    var fig = this;\n",
       "    // Wait a second, then push the new image to the DOM so\n",
       "    // that it is saved nicely (might be nice to debounce this).\n",
       "    setTimeout(function () { fig.push_to_output() }, 1000);\n",
       "}\n",
       "\n",
       "mpl.figure.prototype._init_toolbar = function() {\n",
       "    var fig = this;\n",
       "\n",
       "    var nav_element = $('<div/>');\n",
       "    nav_element.attr('style', 'width: 100%');\n",
       "    this.root.append(nav_element);\n",
       "\n",
       "    // Define a callback function for later on.\n",
       "    function toolbar_event(event) {\n",
       "        return fig.toolbar_button_onclick(event['data']);\n",
       "    }\n",
       "    function toolbar_mouse_event(event) {\n",
       "        return fig.toolbar_button_onmouseover(event['data']);\n",
       "    }\n",
       "\n",
       "    for(var toolbar_ind in mpl.toolbar_items){\n",
       "        var name = mpl.toolbar_items[toolbar_ind][0];\n",
       "        var tooltip = mpl.toolbar_items[toolbar_ind][1];\n",
       "        var image = mpl.toolbar_items[toolbar_ind][2];\n",
       "        var method_name = mpl.toolbar_items[toolbar_ind][3];\n",
       "\n",
       "        if (!name) { continue; };\n",
       "\n",
       "        var button = $('<button class=\"btn btn-default\" href=\"#\" title=\"' + name + '\"><i class=\"fa ' + image + ' fa-lg\"></i></button>');\n",
       "        button.click(method_name, toolbar_event);\n",
       "        button.mouseover(tooltip, toolbar_mouse_event);\n",
       "        nav_element.append(button);\n",
       "    }\n",
       "\n",
       "    // Add the status bar.\n",
       "    var status_bar = $('<span class=\"mpl-message\" style=\"text-align:right; float: right;\"/>');\n",
       "    nav_element.append(status_bar);\n",
       "    this.message = status_bar[0];\n",
       "\n",
       "    // Add the close button to the window.\n",
       "    var buttongrp = $('<div class=\"btn-group inline pull-right\"></div>');\n",
       "    var button = $('<button class=\"btn btn-mini btn-primary\" href=\"#\" title=\"Stop Interaction\"><i class=\"fa fa-power-off icon-remove icon-large\"></i></button>');\n",
       "    button.click(function (evt) { fig.handle_close(fig, {}); } );\n",
       "    button.mouseover('Stop Interaction', toolbar_mouse_event);\n",
       "    buttongrp.append(button);\n",
       "    var titlebar = this.root.find($('.ui-dialog-titlebar'));\n",
       "    titlebar.prepend(buttongrp);\n",
       "}\n",
       "\n",
       "mpl.figure.prototype._root_extra_style = function(el){\n",
       "    var fig = this\n",
       "    el.on(\"remove\", function(){\n",
       "\tfig.close_ws(fig, {});\n",
       "    });\n",
       "}\n",
       "\n",
       "mpl.figure.prototype._canvas_extra_style = function(el){\n",
       "    // this is important to make the div 'focusable\n",
       "    el.attr('tabindex', 0)\n",
       "    // reach out to IPython and tell the keyboard manager to turn it's self\n",
       "    // off when our div gets focus\n",
       "\n",
       "    // location in version 3\n",
       "    if (IPython.notebook.keyboard_manager) {\n",
       "        IPython.notebook.keyboard_manager.register_events(el);\n",
       "    }\n",
       "    else {\n",
       "        // location in version 2\n",
       "        IPython.keyboard_manager.register_events(el);\n",
       "    }\n",
       "\n",
       "}\n",
       "\n",
       "mpl.figure.prototype._key_event_extra = function(event, name) {\n",
       "    var manager = IPython.notebook.keyboard_manager;\n",
       "    if (!manager)\n",
       "        manager = IPython.keyboard_manager;\n",
       "\n",
       "    // Check for shift+enter\n",
       "    if (event.shiftKey && event.which == 13) {\n",
       "        this.canvas_div.blur();\n",
       "        // select the cell after this one\n",
       "        var index = IPython.notebook.find_cell_index(this.cell_info[0]);\n",
       "        IPython.notebook.select(index + 1);\n",
       "    }\n",
       "}\n",
       "\n",
       "mpl.figure.prototype.handle_save = function(fig, msg) {\n",
       "    fig.ondownload(fig, null);\n",
       "}\n",
       "\n",
       "\n",
       "mpl.find_output_cell = function(html_output) {\n",
       "    // Return the cell and output element which can be found *uniquely* in the notebook.\n",
       "    // Note - this is a bit hacky, but it is done because the \"notebook_saving.Notebook\"\n",
       "    // IPython event is triggered only after the cells have been serialised, which for\n",
       "    // our purposes (turning an active figure into a static one), is too late.\n",
       "    var cells = IPython.notebook.get_cells();\n",
       "    var ncells = cells.length;\n",
       "    for (var i=0; i<ncells; i++) {\n",
       "        var cell = cells[i];\n",
       "        if (cell.cell_type === 'code'){\n",
       "            for (var j=0; j<cell.output_area.outputs.length; j++) {\n",
       "                var data = cell.output_area.outputs[j];\n",
       "                if (data.data) {\n",
       "                    // IPython >= 3 moved mimebundle to data attribute of output\n",
       "                    data = data.data;\n",
       "                }\n",
       "                if (data['text/html'] == html_output) {\n",
       "                    return [cell, data, j];\n",
       "                }\n",
       "            }\n",
       "        }\n",
       "    }\n",
       "}\n",
       "\n",
       "// Register the function which deals with the matplotlib target/channel.\n",
       "// The kernel may be null if the page has been refreshed.\n",
       "if (IPython.notebook.kernel != null) {\n",
       "    IPython.notebook.kernel.comm_manager.register_target('matplotlib', mpl.mpl_figure_comm);\n",
       "}\n"
      ],
      "text/plain": [
       "<IPython.core.display.Javascript object>"
      ]
     },
     "metadata": {},
     "output_type": "display_data"
    },
    {
     "data": {
      "text/html": [
       "<img src=\"data:image/png;base64,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\" width=\"1000\">"
      ],
      "text/plain": [
       "<IPython.core.display.HTML object>"
      ]
     },
     "metadata": {},
     "output_type": "display_data"
    }
   ],
   "source": [
    "ax, tax, lax, lines = dual_train_plots()\n",
    "fig = ax.figure\n",
    "plt.tight_layout()"
   ]
  },
  {
   "cell_type": "code",
   "execution_count": 18,
   "metadata": {
    "scrolled": false
   },
   "outputs": [
    {
     "name": "stdout",
     "output_type": "stream",
     "text": [
      "Number of batches: train = 5000, val = 157\n"
     ]
    },
    {
     "data": {
      "application/vnd.jupyter.widget-view+json": {
       "model_id": "5bcd1d492b56442083bd0dcdbf2f248b",
       "version_major": 2,
       "version_minor": 0
      },
      "text/plain": [
       "HBox(children=(FloatProgress(value=0.0, description='Epochs', layout=Layout(flex='2'), max=80.0, style=Progres…"
      ]
     },
     "metadata": {},
     "output_type": "display_data"
    },
    {
     "name": "stdout",
     "output_type": "stream",
     "text": [
      "Number of batches: train = 5000, val = 157\n"
     ]
    },
    {
     "data": {
      "application/vnd.jupyter.widget-view+json": {
       "model_id": "",
       "version_major": 2,
       "version_minor": 0
      },
      "text/plain": [
       "HBox(children=(FloatProgress(value=0.0, description='Training', layout=Layout(flex='2'), max=5000.0, style=Pro…"
      ]
     },
     "metadata": {},
     "output_type": "display_data"
    },
    {
     "name": "stdout",
     "output_type": "stream",
     "text": [
      "Epoch 0: train=0.638283, val=0.424835, took 593.23 s\n"
     ]
    },
    {
     "data": {
      "application/vnd.jupyter.widget-view+json": {
       "model_id": "",
       "version_major": 2,
       "version_minor": 0
      },
      "text/plain": [
       "HBox(children=(FloatProgress(value=0.0, description='Training', layout=Layout(flex='2'), max=5000.0, style=Pro…"
      ]
     },
     "metadata": {},
     "output_type": "display_data"
    },
    {
     "name": "stdout",
     "output_type": "stream",
     "text": [
      "Epoch 1: train=0.6326, val=0.425365, took 591.36 s\n"
     ]
    },
    {
     "data": {
      "application/vnd.jupyter.widget-view+json": {
       "model_id": "",
       "version_major": 2,
       "version_minor": 0
      },
      "text/plain": [
       "HBox(children=(FloatProgress(value=0.0, description='Training', layout=Layout(flex='2'), max=5000.0, style=Pro…"
      ]
     },
     "metadata": {},
     "output_type": "display_data"
    },
    {
     "name": "stdout",
     "output_type": "stream",
     "text": [
      "Epoch 2: train=0.635654, val=0.4275, took 597.62 s\n"
     ]
    },
    {
     "data": {
      "application/vnd.jupyter.widget-view+json": {
       "model_id": "",
       "version_major": 2,
       "version_minor": 0
      },
      "text/plain": [
       "HBox(children=(FloatProgress(value=0.0, description='Training', layout=Layout(flex='2'), max=5000.0, style=Pro…"
      ]
     },
     "metadata": {},
     "output_type": "display_data"
    },
    {
     "name": "stdout",
     "output_type": "stream",
     "text": [
      "Epoch 3: train=0.633492, val=0.426625, took 590.47 s\n"
     ]
    },
    {
     "data": {
      "application/vnd.jupyter.widget-view+json": {
       "model_id": "",
       "version_major": 2,
       "version_minor": 0
      },
      "text/plain": [
       "HBox(children=(FloatProgress(value=0.0, description='Training', layout=Layout(flex='2'), max=5000.0, style=Pro…"
      ]
     },
     "metadata": {},
     "output_type": "display_data"
    },
    {
     "name": "stdout",
     "output_type": "stream",
     "text": [
      "Epoch 4: train=0.633536, val=0.50067, took 588.31 s\n"
     ]
    },
    {
     "data": {
      "application/vnd.jupyter.widget-view+json": {
       "model_id": "",
       "version_major": 2,
       "version_minor": 0
      },
      "text/plain": [
       "HBox(children=(FloatProgress(value=0.0, description='Training', layout=Layout(flex='2'), max=5000.0, style=Pro…"
      ]
     },
     "metadata": {},
     "output_type": "display_data"
    },
    {
     "name": "stdout",
     "output_type": "stream",
     "text": [
      "Epoch 5: train=0.632544, val=0.442407, took 588.41 s\n"
     ]
    },
    {
     "data": {
      "application/vnd.jupyter.widget-view+json": {
       "model_id": "",
       "version_major": 2,
       "version_minor": 0
      },
      "text/plain": [
       "HBox(children=(FloatProgress(value=0.0, description='Training', layout=Layout(flex='2'), max=5000.0, style=Pro…"
      ]
     },
     "metadata": {},
     "output_type": "display_data"
    },
    {
     "name": "stdout",
     "output_type": "stream",
     "text": [
      "Epoch 6: train=0.632369, val=0.437639, took 587.08 s\n"
     ]
    },
    {
     "data": {
      "application/vnd.jupyter.widget-view+json": {
       "model_id": "",
       "version_major": 2,
       "version_minor": 0
      },
      "text/plain": [
       "HBox(children=(FloatProgress(value=0.0, description='Training', layout=Layout(flex='2'), max=5000.0, style=Pro…"
      ]
     },
     "metadata": {},
     "output_type": "display_data"
    },
    {
     "name": "stdout",
     "output_type": "stream",
     "text": [
      "Epoch 7: train=0.632143, val=0.436163, took 586.68 s\n"
     ]
    },
    {
     "data": {
      "application/vnd.jupyter.widget-view+json": {
       "model_id": "",
       "version_major": 2,
       "version_minor": 0
      },
      "text/plain": [
       "HBox(children=(FloatProgress(value=0.0, description='Training', layout=Layout(flex='2'), max=5000.0, style=Pro…"
      ]
     },
     "metadata": {},
     "output_type": "display_data"
    },
    {
     "name": "stdout",
     "output_type": "stream",
     "text": [
      "Epoch 8: train=0.631359, val=0.427414, took 586.18 s\n"
     ]
    },
    {
     "data": {
      "application/vnd.jupyter.widget-view+json": {
       "model_id": "",
       "version_major": 2,
       "version_minor": 0
      },
      "text/plain": [
       "HBox(children=(FloatProgress(value=0.0, description='Training', layout=Layout(flex='2'), max=5000.0, style=Pro…"
      ]
     },
     "metadata": {},
     "output_type": "display_data"
    },
    {
     "name": "stdout",
     "output_type": "stream",
     "text": [
      "Epoch 9: train=0.632009, val=0.489514, took 585.5 s\n"
     ]
    },
    {
     "data": {
      "application/vnd.jupyter.widget-view+json": {
       "model_id": "",
       "version_major": 2,
       "version_minor": 0
      },
      "text/plain": [
       "HBox(children=(FloatProgress(value=0.0, description='Training', layout=Layout(flex='2'), max=5000.0, style=Pro…"
      ]
     },
     "metadata": {},
     "output_type": "display_data"
    },
    {
     "name": "stdout",
     "output_type": "stream",
     "text": [
      "Epoch 10: train=0.632578, val=0.424212, took 585.47 s\n"
     ]
    },
    {
     "data": {
      "application/vnd.jupyter.widget-view+json": {
       "model_id": "",
       "version_major": 2,
       "version_minor": 0
      },
      "text/plain": [
       "HBox(children=(FloatProgress(value=0.0, description='Training', layout=Layout(flex='2'), max=5000.0, style=Pro…"
      ]
     },
     "metadata": {},
     "output_type": "display_data"
    },
    {
     "name": "stdout",
     "output_type": "stream",
     "text": [
      "Epoch 11: train=0.631048, val=0.422223, took 586.01 s\n"
     ]
    },
    {
     "data": {
      "application/vnd.jupyter.widget-view+json": {
       "model_id": "",
       "version_major": 2,
       "version_minor": 0
      },
      "text/plain": [
       "HBox(children=(FloatProgress(value=0.0, description='Training', layout=Layout(flex='2'), max=5000.0, style=Pro…"
      ]
     },
     "metadata": {},
     "output_type": "display_data"
    },
    {
     "name": "stdout",
     "output_type": "stream",
     "text": [
      "Epoch 12: train=0.632277, val=0.422489, took 585.12 s\n"
     ]
    },
    {
     "data": {
      "application/vnd.jupyter.widget-view+json": {
       "model_id": "",
       "version_major": 2,
       "version_minor": 0
      },
      "text/plain": [
       "HBox(children=(FloatProgress(value=0.0, description='Training', layout=Layout(flex='2'), max=5000.0, style=Pro…"
      ]
     },
     "metadata": {},
     "output_type": "display_data"
    },
    {
     "name": "stdout",
     "output_type": "stream",
     "text": [
      "Epoch 13: train=0.630298, val=0.418012, took 584.58 s\n"
     ]
    },
    {
     "data": {
      "application/vnd.jupyter.widget-view+json": {
       "model_id": "",
       "version_major": 2,
       "version_minor": 0
      },
      "text/plain": [
       "HBox(children=(FloatProgress(value=0.0, description='Training', layout=Layout(flex='2'), max=5000.0, style=Pro…"
      ]
     },
     "metadata": {},
     "output_type": "display_data"
    },
    {
     "name": "stdout",
     "output_type": "stream",
     "text": [
      "Epoch 14: train=0.63116, val=0.4255, took 585.54 s\n"
     ]
    },
    {
     "data": {
      "application/vnd.jupyter.widget-view+json": {
       "model_id": "",
       "version_major": 2,
       "version_minor": 0
      },
      "text/plain": [
       "HBox(children=(FloatProgress(value=0.0, description='Training', layout=Layout(flex='2'), max=5000.0, style=Pro…"
      ]
     },
     "metadata": {},
     "output_type": "display_data"
    },
    {
     "name": "stdout",
     "output_type": "stream",
     "text": [
      "Epoch 15: train=0.630073, val=0.491604, took 585.36 s\n"
     ]
    },
    {
     "data": {
      "application/vnd.jupyter.widget-view+json": {
       "model_id": "",
       "version_major": 2,
       "version_minor": 0
      },
      "text/plain": [
       "HBox(children=(FloatProgress(value=0.0, description='Training', layout=Layout(flex='2'), max=5000.0, style=Pro…"
      ]
     },
     "metadata": {},
     "output_type": "display_data"
    },
    {
     "name": "stdout",
     "output_type": "stream",
     "text": [
      "Epoch 16: train=0.633084, val=0.419082, took 585.15 s\n"
     ]
    },
    {
     "data": {
      "application/vnd.jupyter.widget-view+json": {
       "model_id": "",
       "version_major": 2,
       "version_minor": 0
      },
      "text/plain": [
       "HBox(children=(FloatProgress(value=0.0, description='Training', layout=Layout(flex='2'), max=5000.0, style=Pro…"
      ]
     },
     "metadata": {},
     "output_type": "display_data"
    },
    {
     "name": "stdout",
     "output_type": "stream",
     "text": [
      "Epoch 17: train=0.630733, val=0.452662, took 585.28 s\n"
     ]
    },
    {
     "data": {
      "application/vnd.jupyter.widget-view+json": {
       "model_id": "",
       "version_major": 2,
       "version_minor": 0
      },
      "text/plain": [
       "HBox(children=(FloatProgress(value=0.0, description='Training', layout=Layout(flex='2'), max=5000.0, style=Pro…"
      ]
     },
     "metadata": {},
     "output_type": "display_data"
    },
    {
     "name": "stdout",
     "output_type": "stream",
     "text": [
      "Epoch 18: train=0.63036, val=0.453143, took 585.66 s\n"
     ]
    },
    {
     "data": {
      "application/vnd.jupyter.widget-view+json": {
       "model_id": "",
       "version_major": 2,
       "version_minor": 0
      },
      "text/plain": [
       "HBox(children=(FloatProgress(value=0.0, description='Training', layout=Layout(flex='2'), max=5000.0, style=Pro…"
      ]
     },
     "metadata": {},
     "output_type": "display_data"
    },
    {
     "name": "stdout",
     "output_type": "stream",
     "text": [
      "Epoch 19: train=0.63101, val=0.431007, took 586.1 s\n"
     ]
    },
    {
     "data": {
      "application/vnd.jupyter.widget-view+json": {
       "model_id": "",
       "version_major": 2,
       "version_minor": 0
      },
      "text/plain": [
       "HBox(children=(FloatProgress(value=0.0, description='Training', layout=Layout(flex='2'), max=5000.0, style=Pro…"
      ]
     },
     "metadata": {},
     "output_type": "display_data"
    },
    {
     "name": "stdout",
     "output_type": "stream",
     "text": [
      "Epoch 20: train=0.63023, val=0.417864, took 585.46 s\n"
     ]
    },
    {
     "data": {
      "application/vnd.jupyter.widget-view+json": {
       "model_id": "",
       "version_major": 2,
       "version_minor": 0
      },
      "text/plain": [
       "HBox(children=(FloatProgress(value=0.0, description='Training', layout=Layout(flex='2'), max=5000.0, style=Pro…"
      ]
     },
     "metadata": {},
     "output_type": "display_data"
    },
    {
     "name": "stdout",
     "output_type": "stream",
     "text": [
      "Epoch 21: train=0.630868, val=0.419527, took 585.79 s\n"
     ]
    },
    {
     "data": {
      "application/vnd.jupyter.widget-view+json": {
       "model_id": "",
       "version_major": 2,
       "version_minor": 0
      },
      "text/plain": [
       "HBox(children=(FloatProgress(value=0.0, description='Training', layout=Layout(flex='2'), max=5000.0, style=Pro…"
      ]
     },
     "metadata": {},
     "output_type": "display_data"
    },
    {
     "name": "stdout",
     "output_type": "stream",
     "text": [
      "Epoch 22: train=0.629561, val=0.436391, took 585.79 s\n"
     ]
    },
    {
     "data": {
      "application/vnd.jupyter.widget-view+json": {
       "model_id": "",
       "version_major": 2,
       "version_minor": 0
      },
      "text/plain": [
       "HBox(children=(FloatProgress(value=0.0, description='Training', layout=Layout(flex='2'), max=5000.0, style=Pro…"
      ]
     },
     "metadata": {},
     "output_type": "display_data"
    },
    {
     "name": "stdout",
     "output_type": "stream",
     "text": [
      "Epoch 23: train=0.628509, val=0.426629, took 586.51 s\n"
     ]
    },
    {
     "data": {
      "application/vnd.jupyter.widget-view+json": {
       "model_id": "",
       "version_major": 2,
       "version_minor": 0
      },
      "text/plain": [
       "HBox(children=(FloatProgress(value=0.0, description='Training', layout=Layout(flex='2'), max=5000.0, style=Pro…"
      ]
     },
     "metadata": {},
     "output_type": "display_data"
    },
    {
     "name": "stdout",
     "output_type": "stream",
     "text": [
      "Epoch 24: train=0.629337, val=0.472126, took 585.82 s\n"
     ]
    },
    {
     "data": {
      "application/vnd.jupyter.widget-view+json": {
       "model_id": "",
       "version_major": 2,
       "version_minor": 0
      },
      "text/plain": [
       "HBox(children=(FloatProgress(value=0.0, description='Training', layout=Layout(flex='2'), max=5000.0, style=Pro…"
      ]
     },
     "metadata": {},
     "output_type": "display_data"
    },
    {
     "name": "stdout",
     "output_type": "stream",
     "text": [
      "Epoch 25: train=0.627674, val=0.422801, took 595.61 s\n"
     ]
    },
    {
     "data": {
      "application/vnd.jupyter.widget-view+json": {
       "model_id": "",
       "version_major": 2,
       "version_minor": 0
      },
      "text/plain": [
       "HBox(children=(FloatProgress(value=0.0, description='Training', layout=Layout(flex='2'), max=5000.0, style=Pro…"
      ]
     },
     "metadata": {},
     "output_type": "display_data"
    },
    {
     "name": "stdout",
     "output_type": "stream",
     "text": [
      "Epoch 26: train=0.628513, val=0.424387, took 608.03 s\n"
     ]
    },
    {
     "data": {
      "application/vnd.jupyter.widget-view+json": {
       "model_id": "",
       "version_major": 2,
       "version_minor": 0
      },
      "text/plain": [
       "HBox(children=(FloatProgress(value=0.0, description='Training', layout=Layout(flex='2'), max=5000.0, style=Pro…"
      ]
     },
     "metadata": {},
     "output_type": "display_data"
    },
    {
     "name": "stdout",
     "output_type": "stream",
     "text": [
      "Epoch 27: train=0.628468, val=0.419156, took 593.55 s\n"
     ]
    },
    {
     "data": {
      "application/vnd.jupyter.widget-view+json": {
       "model_id": "",
       "version_major": 2,
       "version_minor": 0
      },
      "text/plain": [
       "HBox(children=(FloatProgress(value=0.0, description='Training', layout=Layout(flex='2'), max=5000.0, style=Pro…"
      ]
     },
     "metadata": {},
     "output_type": "display_data"
    },
    {
     "name": "stdout",
     "output_type": "stream",
     "text": [
      "Epoch 28: train=0.629846, val=0.417795, took 607.78 s\n"
     ]
    },
    {
     "data": {
      "application/vnd.jupyter.widget-view+json": {
       "model_id": "",
       "version_major": 2,
       "version_minor": 0
      },
      "text/plain": [
       "HBox(children=(FloatProgress(value=0.0, description='Training', layout=Layout(flex='2'), max=5000.0, style=Pro…"
      ]
     },
     "metadata": {},
     "output_type": "display_data"
    },
    {
     "name": "stdout",
     "output_type": "stream",
     "text": [
      "Epoch 29: train=0.629628, val=0.451695, took 585.67 s\n"
     ]
    },
    {
     "data": {
      "application/vnd.jupyter.widget-view+json": {
       "model_id": "",
       "version_major": 2,
       "version_minor": 0
      },
      "text/plain": [
       "HBox(children=(FloatProgress(value=0.0, description='Training', layout=Layout(flex='2'), max=5000.0, style=Pro…"
      ]
     },
     "metadata": {},
     "output_type": "display_data"
    },
    {
     "name": "stdout",
     "output_type": "stream",
     "text": [
      "Epoch 30: train=0.62713, val=0.478217, took 584.38 s\n"
     ]
    },
    {
     "data": {
      "application/vnd.jupyter.widget-view+json": {
       "model_id": "",
       "version_major": 2,
       "version_minor": 0
      },
      "text/plain": [
       "HBox(children=(FloatProgress(value=0.0, description='Training', layout=Layout(flex='2'), max=5000.0, style=Pro…"
      ]
     },
     "metadata": {},
     "output_type": "display_data"
    },
    {
     "name": "stdout",
     "output_type": "stream",
     "text": [
      "Epoch 31: train=0.626739, val=0.417248, took 586.63 s\n"
     ]
    },
    {
     "data": {
      "application/vnd.jupyter.widget-view+json": {
       "model_id": "",
       "version_major": 2,
       "version_minor": 0
      },
      "text/plain": [
       "HBox(children=(FloatProgress(value=0.0, description='Training', layout=Layout(flex='2'), max=5000.0, style=Pro…"
      ]
     },
     "metadata": {},
     "output_type": "display_data"
    },
    {
     "name": "stdout",
     "output_type": "stream",
     "text": [
      "Epoch 32: train=0.628653, val=0.429596, took 585.73 s\n"
     ]
    },
    {
     "data": {
      "application/vnd.jupyter.widget-view+json": {
       "model_id": "",
       "version_major": 2,
       "version_minor": 0
      },
      "text/plain": [
       "HBox(children=(FloatProgress(value=0.0, description='Training', layout=Layout(flex='2'), max=5000.0, style=Pro…"
      ]
     },
     "metadata": {},
     "output_type": "display_data"
    },
    {
     "name": "stdout",
     "output_type": "stream",
     "text": [
      "Epoch 33: train=0.627038, val=0.43167, took 585.75 s\n"
     ]
    },
    {
     "data": {
      "application/vnd.jupyter.widget-view+json": {
       "model_id": "",
       "version_major": 2,
       "version_minor": 0
      },
      "text/plain": [
       "HBox(children=(FloatProgress(value=0.0, description='Training', layout=Layout(flex='2'), max=5000.0, style=Pro…"
      ]
     },
     "metadata": {},
     "output_type": "display_data"
    },
    {
     "name": "stdout",
     "output_type": "stream",
     "text": [
      "Epoch 34: train=0.628879, val=0.433265, took 585.48 s\n"
     ]
    },
    {
     "data": {
      "application/vnd.jupyter.widget-view+json": {
       "model_id": "",
       "version_major": 2,
       "version_minor": 0
      },
      "text/plain": [
       "HBox(children=(FloatProgress(value=0.0, description='Training', layout=Layout(flex='2'), max=5000.0, style=Pro…"
      ]
     },
     "metadata": {},
     "output_type": "display_data"
    },
    {
     "name": "stdout",
     "output_type": "stream",
     "text": [
      "Epoch 35: train=0.62825, val=0.424898, took 585.67 s\n"
     ]
    },
    {
     "data": {
      "application/vnd.jupyter.widget-view+json": {
       "model_id": "",
       "version_major": 2,
       "version_minor": 0
      },
      "text/plain": [
       "HBox(children=(FloatProgress(value=0.0, description='Training', layout=Layout(flex='2'), max=5000.0, style=Pro…"
      ]
     },
     "metadata": {},
     "output_type": "display_data"
    },
    {
     "name": "stdout",
     "output_type": "stream",
     "text": [
      "Epoch 36: train=0.626364, val=0.425478, took 585.1 s\n"
     ]
    },
    {
     "data": {
      "application/vnd.jupyter.widget-view+json": {
       "model_id": "",
       "version_major": 2,
       "version_minor": 0
      },
      "text/plain": [
       "HBox(children=(FloatProgress(value=0.0, description='Training', layout=Layout(flex='2'), max=5000.0, style=Pro…"
      ]
     },
     "metadata": {},
     "output_type": "display_data"
    },
    {
     "name": "stdout",
     "output_type": "stream",
     "text": [
      "Epoch 37: train=0.627384, val=0.420913, took 584.12 s\n"
     ]
    },
    {
     "data": {
      "application/vnd.jupyter.widget-view+json": {
       "model_id": "",
       "version_major": 2,
       "version_minor": 0
      },
      "text/plain": [
       "HBox(children=(FloatProgress(value=0.0, description='Training', layout=Layout(flex='2'), max=5000.0, style=Pro…"
      ]
     },
     "metadata": {},
     "output_type": "display_data"
    },
    {
     "name": "stdout",
     "output_type": "stream",
     "text": [
      "Epoch 38: train=0.627183, val=0.421282, took 584.46 s\n"
     ]
    },
    {
     "data": {
      "application/vnd.jupyter.widget-view+json": {
       "model_id": "",
       "version_major": 2,
       "version_minor": 0
      },
      "text/plain": [
       "HBox(children=(FloatProgress(value=0.0, description='Training', layout=Layout(flex='2'), max=5000.0, style=Pro…"
      ]
     },
     "metadata": {},
     "output_type": "display_data"
    },
    {
     "name": "stdout",
     "output_type": "stream",
     "text": [
      "Epoch 39: train=0.626556, val=0.486677, took 583.86 s\n"
     ]
    },
    {
     "data": {
      "application/vnd.jupyter.widget-view+json": {
       "model_id": "",
       "version_major": 2,
       "version_minor": 0
      },
      "text/plain": [
       "HBox(children=(FloatProgress(value=0.0, description='Training', layout=Layout(flex='2'), max=5000.0, style=Pro…"
      ]
     },
     "metadata": {},
     "output_type": "display_data"
    },
    {
     "name": "stdout",
     "output_type": "stream",
     "text": [
      "Epoch 40: train=0.626374, val=0.436053, took 584.39 s\n"
     ]
    },
    {
     "data": {
      "application/vnd.jupyter.widget-view+json": {
       "model_id": "",
       "version_major": 2,
       "version_minor": 0
      },
      "text/plain": [
       "HBox(children=(FloatProgress(value=0.0, description='Training', layout=Layout(flex='2'), max=5000.0, style=Pro…"
      ]
     },
     "metadata": {},
     "output_type": "display_data"
    },
    {
     "name": "stdout",
     "output_type": "stream",
     "text": [
      "Epoch 41: train=0.625291, val=0.413752, took 583.98 s\n"
     ]
    },
    {
     "data": {
      "application/vnd.jupyter.widget-view+json": {
       "model_id": "",
       "version_major": 2,
       "version_minor": 0
      },
      "text/plain": [
       "HBox(children=(FloatProgress(value=0.0, description='Training', layout=Layout(flex='2'), max=5000.0, style=Pro…"
      ]
     },
     "metadata": {},
     "output_type": "display_data"
    },
    {
     "name": "stdout",
     "output_type": "stream",
     "text": [
      "Epoch 42: train=0.625885, val=0.431266, took 584.39 s\n"
     ]
    },
    {
     "data": {
      "application/vnd.jupyter.widget-view+json": {
       "model_id": "",
       "version_major": 2,
       "version_minor": 0
      },
      "text/plain": [
       "HBox(children=(FloatProgress(value=0.0, description='Training', layout=Layout(flex='2'), max=5000.0, style=Pro…"
      ]
     },
     "metadata": {},
     "output_type": "display_data"
    },
    {
     "name": "stdout",
     "output_type": "stream",
     "text": [
      "Epoch 43: train=0.62708, val=0.442301, took 584.19 s\n"
     ]
    },
    {
     "data": {
      "application/vnd.jupyter.widget-view+json": {
       "model_id": "",
       "version_major": 2,
       "version_minor": 0
      },
      "text/plain": [
       "HBox(children=(FloatProgress(value=0.0, description='Training', layout=Layout(flex='2'), max=5000.0, style=Pro…"
      ]
     },
     "metadata": {},
     "output_type": "display_data"
    },
    {
     "name": "stdout",
     "output_type": "stream",
     "text": [
      "Epoch 44: train=0.624617, val=0.415898, took 582.79 s\n"
     ]
    },
    {
     "data": {
      "application/vnd.jupyter.widget-view+json": {
       "model_id": "",
       "version_major": 2,
       "version_minor": 0
      },
      "text/plain": [
       "HBox(children=(FloatProgress(value=0.0, description='Training', layout=Layout(flex='2'), max=5000.0, style=Pro…"
      ]
     },
     "metadata": {},
     "output_type": "display_data"
    },
    {
     "name": "stdout",
     "output_type": "stream",
     "text": [
      "Epoch 45: train=0.625031, val=0.423546, took 584.92 s\n"
     ]
    },
    {
     "data": {
      "application/vnd.jupyter.widget-view+json": {
       "model_id": "",
       "version_major": 2,
       "version_minor": 0
      },
      "text/plain": [
       "HBox(children=(FloatProgress(value=0.0, description='Training', layout=Layout(flex='2'), max=5000.0, style=Pro…"
      ]
     },
     "metadata": {},
     "output_type": "display_data"
    },
    {
     "name": "stdout",
     "output_type": "stream",
     "text": [
      "Epoch 46: train=0.626441, val=0.431283, took 584.64 s\n"
     ]
    },
    {
     "data": {
      "application/vnd.jupyter.widget-view+json": {
       "model_id": "",
       "version_major": 2,
       "version_minor": 0
      },
      "text/plain": [
       "HBox(children=(FloatProgress(value=0.0, description='Training', layout=Layout(flex='2'), max=5000.0, style=Pro…"
      ]
     },
     "metadata": {},
     "output_type": "display_data"
    },
    {
     "name": "stdout",
     "output_type": "stream",
     "text": [
      "Epoch 47: train=0.622711, val=0.422046, took 587.34 s\n"
     ]
    },
    {
     "data": {
      "application/vnd.jupyter.widget-view+json": {
       "model_id": "",
       "version_major": 2,
       "version_minor": 0
      },
      "text/plain": [
       "HBox(children=(FloatProgress(value=0.0, description='Training', layout=Layout(flex='2'), max=5000.0, style=Pro…"
      ]
     },
     "metadata": {},
     "output_type": "display_data"
    },
    {
     "name": "stdout",
     "output_type": "stream",
     "text": [
      "Epoch 48: train=0.623729, val=0.424228, took 585.58 s\n"
     ]
    },
    {
     "data": {
      "application/vnd.jupyter.widget-view+json": {
       "model_id": "",
       "version_major": 2,
       "version_minor": 0
      },
      "text/plain": [
       "HBox(children=(FloatProgress(value=0.0, description='Training', layout=Layout(flex='2'), max=5000.0, style=Pro…"
      ]
     },
     "metadata": {},
     "output_type": "display_data"
    },
    {
     "name": "stdout",
     "output_type": "stream",
     "text": [
      "Epoch 49: train=0.623941, val=0.439884, took 587.82 s\n"
     ]
    },
    {
     "data": {
      "application/vnd.jupyter.widget-view+json": {
       "model_id": "",
       "version_major": 2,
       "version_minor": 0
      },
      "text/plain": [
       "HBox(children=(FloatProgress(value=0.0, description='Training', layout=Layout(flex='2'), max=5000.0, style=Pro…"
      ]
     },
     "metadata": {},
     "output_type": "display_data"
    },
    {
     "name": "stdout",
     "output_type": "stream",
     "text": [
      "Epoch 50: train=0.625965, val=0.416359, took 585.5 s\n"
     ]
    },
    {
     "data": {
      "application/vnd.jupyter.widget-view+json": {
       "model_id": "",
       "version_major": 2,
       "version_minor": 0
      },
      "text/plain": [
       "HBox(children=(FloatProgress(value=0.0, description='Training', layout=Layout(flex='2'), max=5000.0, style=Pro…"
      ]
     },
     "metadata": {},
     "output_type": "display_data"
    },
    {
     "name": "stdout",
     "output_type": "stream",
     "text": [
      "Epoch 51: train=0.624389, val=0.419433, took 584.96 s\n"
     ]
    },
    {
     "data": {
      "application/vnd.jupyter.widget-view+json": {
       "model_id": "",
       "version_major": 2,
       "version_minor": 0
      },
      "text/plain": [
       "HBox(children=(FloatProgress(value=0.0, description='Training', layout=Layout(flex='2'), max=5000.0, style=Pro…"
      ]
     },
     "metadata": {},
     "output_type": "display_data"
    },
    {
     "name": "stdout",
     "output_type": "stream",
     "text": [
      "Epoch 52: train=0.624363, val=0.459682, took 585.2 s\n"
     ]
    },
    {
     "data": {
      "application/vnd.jupyter.widget-view+json": {
       "model_id": "",
       "version_major": 2,
       "version_minor": 0
      },
      "text/plain": [
       "HBox(children=(FloatProgress(value=0.0, description='Training', layout=Layout(flex='2'), max=5000.0, style=Pro…"
      ]
     },
     "metadata": {},
     "output_type": "display_data"
    },
    {
     "name": "stdout",
     "output_type": "stream",
     "text": [
      "Epoch 53: train=0.622797, val=0.411008, took 586.82 s\n"
     ]
    },
    {
     "data": {
      "application/vnd.jupyter.widget-view+json": {
       "model_id": "",
       "version_major": 2,
       "version_minor": 0
      },
      "text/plain": [
       "HBox(children=(FloatProgress(value=0.0, description='Training', layout=Layout(flex='2'), max=5000.0, style=Pro…"
      ]
     },
     "metadata": {},
     "output_type": "display_data"
    },
    {
     "name": "stdout",
     "output_type": "stream",
     "text": [
      "Epoch 54: train=0.624079, val=0.424121, took 586.01 s\n"
     ]
    },
    {
     "data": {
      "application/vnd.jupyter.widget-view+json": {
       "model_id": "",
       "version_major": 2,
       "version_minor": 0
      },
      "text/plain": [
       "HBox(children=(FloatProgress(value=0.0, description='Training', layout=Layout(flex='2'), max=5000.0, style=Pro…"
      ]
     },
     "metadata": {},
     "output_type": "display_data"
    },
    {
     "name": "stdout",
     "output_type": "stream",
     "text": [
      "Epoch 55: train=0.622507, val=0.418883, took 585.72 s\n"
     ]
    },
    {
     "data": {
      "application/vnd.jupyter.widget-view+json": {
       "model_id": "",
       "version_major": 2,
       "version_minor": 0
      },
      "text/plain": [
       "HBox(children=(FloatProgress(value=0.0, description='Training', layout=Layout(flex='2'), max=5000.0, style=Pro…"
      ]
     },
     "metadata": {},
     "output_type": "display_data"
    },
    {
     "name": "stdout",
     "output_type": "stream",
     "text": [
      "Epoch 56: train=0.623646, val=0.418562, took 585.68 s\n"
     ]
    },
    {
     "data": {
      "application/vnd.jupyter.widget-view+json": {
       "model_id": "",
       "version_major": 2,
       "version_minor": 0
      },
      "text/plain": [
       "HBox(children=(FloatProgress(value=0.0, description='Training', layout=Layout(flex='2'), max=5000.0, style=Pro…"
      ]
     },
     "metadata": {},
     "output_type": "display_data"
    },
    {
     "name": "stdout",
     "output_type": "stream",
     "text": [
      "Epoch 57: train=0.621936, val=0.447528, took 586.78 s\n"
     ]
    },
    {
     "data": {
      "application/vnd.jupyter.widget-view+json": {
       "model_id": "",
       "version_major": 2,
       "version_minor": 0
      },
      "text/plain": [
       "HBox(children=(FloatProgress(value=0.0, description='Training', layout=Layout(flex='2'), max=5000.0, style=Pro…"
      ]
     },
     "metadata": {},
     "output_type": "display_data"
    },
    {
     "name": "stdout",
     "output_type": "stream",
     "text": [
      "Epoch 58: train=0.623462, val=0.437497, took 586.97 s\n"
     ]
    },
    {
     "data": {
      "application/vnd.jupyter.widget-view+json": {
       "model_id": "",
       "version_major": 2,
       "version_minor": 0
      },
      "text/plain": [
       "HBox(children=(FloatProgress(value=0.0, description='Training', layout=Layout(flex='2'), max=5000.0, style=Pro…"
      ]
     },
     "metadata": {},
     "output_type": "display_data"
    },
    {
     "name": "stdout",
     "output_type": "stream",
     "text": [
      "Epoch 59: train=0.622163, val=0.419593, took 585.77 s\n"
     ]
    },
    {
     "data": {
      "application/vnd.jupyter.widget-view+json": {
       "model_id": "",
       "version_major": 2,
       "version_minor": 0
      },
      "text/plain": [
       "HBox(children=(FloatProgress(value=0.0, description='Training', layout=Layout(flex='2'), max=5000.0, style=Pro…"
      ]
     },
     "metadata": {},
     "output_type": "display_data"
    },
    {
     "name": "stdout",
     "output_type": "stream",
     "text": [
      "Epoch 60: train=0.623139, val=0.41594, took 585.64 s\n"
     ]
    },
    {
     "data": {
      "application/vnd.jupyter.widget-view+json": {
       "model_id": "",
       "version_major": 2,
       "version_minor": 0
      },
      "text/plain": [
       "HBox(children=(FloatProgress(value=0.0, description='Training', layout=Layout(flex='2'), max=5000.0, style=Pro…"
      ]
     },
     "metadata": {},
     "output_type": "display_data"
    },
    {
     "name": "stdout",
     "output_type": "stream",
     "text": [
      "Epoch 61: train=0.622977, val=0.41261, took 585.67 s\n"
     ]
    },
    {
     "data": {
      "application/vnd.jupyter.widget-view+json": {
       "model_id": "",
       "version_major": 2,
       "version_minor": 0
      },
      "text/plain": [
       "HBox(children=(FloatProgress(value=0.0, description='Training', layout=Layout(flex='2'), max=5000.0, style=Pro…"
      ]
     },
     "metadata": {},
     "output_type": "display_data"
    },
    {
     "name": "stdout",
     "output_type": "stream",
     "text": [
      "Epoch 62: train=0.62291, val=0.436747, took 585.48 s\n"
     ]
    },
    {
     "data": {
      "application/vnd.jupyter.widget-view+json": {
       "model_id": "",
       "version_major": 2,
       "version_minor": 0
      },
      "text/plain": [
       "HBox(children=(FloatProgress(value=0.0, description='Training', layout=Layout(flex='2'), max=5000.0, style=Pro…"
      ]
     },
     "metadata": {},
     "output_type": "display_data"
    },
    {
     "name": "stdout",
     "output_type": "stream",
     "text": [
      "Epoch 63: train=0.621206, val=0.473325, took 585.6 s\n"
     ]
    },
    {
     "data": {
      "application/vnd.jupyter.widget-view+json": {
       "model_id": "",
       "version_major": 2,
       "version_minor": 0
      },
      "text/plain": [
       "HBox(children=(FloatProgress(value=0.0, description='Training', layout=Layout(flex='2'), max=5000.0, style=Pro…"
      ]
     },
     "metadata": {},
     "output_type": "display_data"
    },
    {
     "name": "stdout",
     "output_type": "stream",
     "text": [
      "Epoch 64: train=0.621814, val=0.412398, took 585.18 s\n"
     ]
    },
    {
     "data": {
      "application/vnd.jupyter.widget-view+json": {
       "model_id": "",
       "version_major": 2,
       "version_minor": 0
      },
      "text/plain": [
       "HBox(children=(FloatProgress(value=0.0, description='Training', layout=Layout(flex='2'), max=5000.0, style=Pro…"
      ]
     },
     "metadata": {},
     "output_type": "display_data"
    },
    {
     "name": "stdout",
     "output_type": "stream",
     "text": [
      "Epoch 65: train=0.620658, val=0.412982, took 586.0 s\n"
     ]
    },
    {
     "data": {
      "application/vnd.jupyter.widget-view+json": {
       "model_id": "",
       "version_major": 2,
       "version_minor": 0
      },
      "text/plain": [
       "HBox(children=(FloatProgress(value=0.0, description='Training', layout=Layout(flex='2'), max=5000.0, style=Pro…"
      ]
     },
     "metadata": {},
     "output_type": "display_data"
    },
    {
     "name": "stdout",
     "output_type": "stream",
     "text": [
      "Epoch 66: train=0.622438, val=0.415077, took 585.8 s\n"
     ]
    },
    {
     "data": {
      "application/vnd.jupyter.widget-view+json": {
       "model_id": "",
       "version_major": 2,
       "version_minor": 0
      },
      "text/plain": [
       "HBox(children=(FloatProgress(value=0.0, description='Training', layout=Layout(flex='2'), max=5000.0, style=Pro…"
      ]
     },
     "metadata": {},
     "output_type": "display_data"
    },
    {
     "name": "stdout",
     "output_type": "stream",
     "text": [
      "Epoch 67: train=0.620952, val=0.409178, took 585.32 s\n"
     ]
    },
    {
     "data": {
      "application/vnd.jupyter.widget-view+json": {
       "model_id": "",
       "version_major": 2,
       "version_minor": 0
      },
      "text/plain": [
       "HBox(children=(FloatProgress(value=0.0, description='Training', layout=Layout(flex='2'), max=5000.0, style=Pro…"
      ]
     },
     "metadata": {},
     "output_type": "display_data"
    },
    {
     "name": "stdout",
     "output_type": "stream",
     "text": [
      "Epoch 68: train=0.621276, val=0.422548, took 585.21 s\n"
     ]
    },
    {
     "data": {
      "application/vnd.jupyter.widget-view+json": {
       "model_id": "",
       "version_major": 2,
       "version_minor": 0
      },
      "text/plain": [
       "HBox(children=(FloatProgress(value=0.0, description='Training', layout=Layout(flex='2'), max=5000.0, style=Pro…"
      ]
     },
     "metadata": {},
     "output_type": "display_data"
    },
    {
     "name": "stdout",
     "output_type": "stream",
     "text": [
      "Epoch 69: train=0.619581, val=0.419899, took 585.73 s\n"
     ]
    },
    {
     "data": {
      "application/vnd.jupyter.widget-view+json": {
       "model_id": "",
       "version_major": 2,
       "version_minor": 0
      },
      "text/plain": [
       "HBox(children=(FloatProgress(value=0.0, description='Training', layout=Layout(flex='2'), max=5000.0, style=Pro…"
      ]
     },
     "metadata": {},
     "output_type": "display_data"
    },
    {
     "name": "stdout",
     "output_type": "stream",
     "text": [
      "Epoch 70: train=0.621196, val=0.429379, took 585.5 s\n"
     ]
    },
    {
     "data": {
      "application/vnd.jupyter.widget-view+json": {
       "model_id": "",
       "version_major": 2,
       "version_minor": 0
      },
      "text/plain": [
       "HBox(children=(FloatProgress(value=0.0, description='Training', layout=Layout(flex='2'), max=5000.0, style=Pro…"
      ]
     },
     "metadata": {},
     "output_type": "display_data"
    },
    {
     "name": "stdout",
     "output_type": "stream",
     "text": [
      "Epoch 71: train=0.621908, val=0.428664, took 585.19 s\n"
     ]
    },
    {
     "data": {
      "application/vnd.jupyter.widget-view+json": {
       "model_id": "",
       "version_major": 2,
       "version_minor": 0
      },
      "text/plain": [
       "HBox(children=(FloatProgress(value=0.0, description='Training', layout=Layout(flex='2'), max=5000.0, style=Pro…"
      ]
     },
     "metadata": {},
     "output_type": "display_data"
    },
    {
     "name": "stdout",
     "output_type": "stream",
     "text": [
      "Epoch 72: train=0.61849, val=0.43402, took 586.25 s\n"
     ]
    },
    {
     "data": {
      "application/vnd.jupyter.widget-view+json": {
       "model_id": "",
       "version_major": 2,
       "version_minor": 0
      },
      "text/plain": [
       "HBox(children=(FloatProgress(value=0.0, description='Training', layout=Layout(flex='2'), max=5000.0, style=Pro…"
      ]
     },
     "metadata": {},
     "output_type": "display_data"
    },
    {
     "name": "stdout",
     "output_type": "stream",
     "text": [
      "Epoch 73: train=0.62232, val=0.463682, took 585.34 s\n"
     ]
    },
    {
     "data": {
      "application/vnd.jupyter.widget-view+json": {
       "model_id": "",
       "version_major": 2,
       "version_minor": 0
      },
      "text/plain": [
       "HBox(children=(FloatProgress(value=0.0, description='Training', layout=Layout(flex='2'), max=5000.0, style=Pro…"
      ]
     },
     "metadata": {},
     "output_type": "display_data"
    },
    {
     "name": "stdout",
     "output_type": "stream",
     "text": [
      "Epoch 74: train=0.620409, val=0.415783, took 584.95 s\n"
     ]
    },
    {
     "data": {
      "application/vnd.jupyter.widget-view+json": {
       "model_id": "",
       "version_major": 2,
       "version_minor": 0
      },
      "text/plain": [
       "HBox(children=(FloatProgress(value=0.0, description='Training', layout=Layout(flex='2'), max=5000.0, style=Pro…"
      ]
     },
     "metadata": {},
     "output_type": "display_data"
    },
    {
     "name": "stdout",
     "output_type": "stream",
     "text": [
      "Epoch 75: train=0.618537, val=0.419563, took 585.32 s\n"
     ]
    },
    {
     "data": {
      "application/vnd.jupyter.widget-view+json": {
       "model_id": "",
       "version_major": 2,
       "version_minor": 0
      },
      "text/plain": [
       "HBox(children=(FloatProgress(value=0.0, description='Training', layout=Layout(flex='2'), max=5000.0, style=Pro…"
      ]
     },
     "metadata": {},
     "output_type": "display_data"
    },
    {
     "name": "stdout",
     "output_type": "stream",
     "text": [
      "Epoch 76: train=0.617935, val=0.441714, took 585.51 s\n"
     ]
    },
    {
     "data": {
      "application/vnd.jupyter.widget-view+json": {
       "model_id": "",
       "version_major": 2,
       "version_minor": 0
      },
      "text/plain": [
       "HBox(children=(FloatProgress(value=0.0, description='Training', layout=Layout(flex='2'), max=5000.0, style=Pro…"
      ]
     },
     "metadata": {},
     "output_type": "display_data"
    },
    {
     "name": "stdout",
     "output_type": "stream",
     "text": [
      "Epoch 77: train=0.620551, val=0.445952, took 585.68 s\n"
     ]
    },
    {
     "data": {
      "application/vnd.jupyter.widget-view+json": {
       "model_id": "",
       "version_major": 2,
       "version_minor": 0
      },
      "text/plain": [
       "HBox(children=(FloatProgress(value=0.0, description='Training', layout=Layout(flex='2'), max=5000.0, style=Pro…"
      ]
     },
     "metadata": {},
     "output_type": "display_data"
    },
    {
     "name": "stdout",
     "output_type": "stream",
     "text": [
      "Epoch 78: train=0.620279, val=0.414807, took 586.4 s\n"
     ]
    },
    {
     "data": {
      "application/vnd.jupyter.widget-view+json": {
       "model_id": "",
       "version_major": 2,
       "version_minor": 0
      },
      "text/plain": [
       "HBox(children=(FloatProgress(value=0.0, description='Training', layout=Layout(flex='2'), max=5000.0, style=Pro…"
      ]
     },
     "metadata": {},
     "output_type": "display_data"
    },
    {
     "name": "stdout",
     "output_type": "stream",
     "text": [
      "Epoch 79: train=0.619621, val=0.413892, took 585.73 s\n",
      "\n"
     ]
    }
   ],
   "source": [
    "for result in trainNet(model, optimizer, loss,\n",
    "                        train_loader, val_loader,\n",
    "                        n_epochs, epoch_start=len(results),\n",
    "                        notebook=True):\n",
    "    \n",
    "    results = results.append(pd.Series(result._asdict()), ignore_index=True)\n",
    "    xs = results.index\n",
    "    \n",
    "    # Update the plot above\n",
    "    lines['train'].set_data(results.index,results.cost)\n",
    "    lines['val'].set_data(results.index,results.val)\n",
    "    \n",
    "    #filter first cost epoch (can be really large)\n",
    "    max_cost = max(max(results.cost if len(results.cost)<2 else results.cost[1:]), max(results.val))\n",
    "    min_cost = min(min(results.cost), min(results.val))\n",
    "    \n",
    "    # The plot limits need updating too\n",
    "    \n",
    "    \n",
    "    \n",
    "    ax.set_ylim(min_cost*.9, max_cost*1.1)  \n",
    "    ax.set_xlim(-.5, len(results.cost) - .5)\n",
    "\n",
    "    \n",
    "    # Redraw the figure\n",
    "    fig.canvas.draw()\n",
    "\n",
    "    # Save each model state dictionary\n",
    "    torch.save(model.state_dict(), output / f'{name}_{result.epoch}.pyt')"
   ]
  },
  {
   "cell_type": "markdown",
   "metadata": {},
   "source": [
    "Go ahead and save the final model (even though it was also saved above):"
   ]
  },
  {
   "cell_type": "code",
   "execution_count": 1,
   "metadata": {},
   "outputs": [
    {
     "ename": "NameError",
     "evalue": "name 'torch' is not defined",
     "output_type": "error",
     "traceback": [
      "\u001b[0;31m---------------------------------------------------------------------------\u001b[0m",
      "\u001b[0;31mNameError\u001b[0m                                 Traceback (most recent call last)",
      "\u001b[0;32m<ipython-input-1-4d6cba947f12>\u001b[0m in \u001b[0;36m<module>\u001b[0;34m\u001b[0m\n\u001b[0;32m----> 1\u001b[0;31m \u001b[0mtorch\u001b[0m\u001b[0;34m.\u001b[0m\u001b[0msave\u001b[0m\u001b[0;34m(\u001b[0m\u001b[0mmodel\u001b[0m\u001b[0;34m.\u001b[0m\u001b[0mstate_dict\u001b[0m\u001b[0;34m(\u001b[0m\u001b[0;34m)\u001b[0m\u001b[0;34m,\u001b[0m \u001b[0moutput\u001b[0m \u001b[0;34m/\u001b[0m \u001b[0;34mf'{name}_final.pyt'\u001b[0m\u001b[0;34m)\u001b[0m\u001b[0;34m\u001b[0m\u001b[0;34m\u001b[0m\u001b[0m\n\u001b[0m",
      "\u001b[0;31mNameError\u001b[0m: name 'torch' is not defined"
     ]
    }
   ],
   "source": [
    "torch.save(model.state_dict(), output / f'{name}_final.pyt')"
   ]
  },
  {
   "cell_type": "markdown",
   "metadata": {},
   "source": [
    "Save the output results:"
   ]
  },
  {
   "cell_type": "code",
   "execution_count": 20,
   "metadata": {},
   "outputs": [],
   "source": [
    "results.to_hdf(output / f'{name}_stats.hdf5', 'results')"
   ]
  },
  {
   "cell_type": "markdown",
   "metadata": {},
   "source": [
    "Save the plot above:"
   ]
  },
  {
   "cell_type": "code",
   "execution_count": 21,
   "metadata": {},
   "outputs": [
    {
     "data": {
      "application/javascript": [
       "/* Put everything inside the global mpl namespace */\n",
       "window.mpl = {};\n",
       "\n",
       "\n",
       "mpl.get_websocket_type = function() {\n",
       "    if (typeof(WebSocket) !== 'undefined') {\n",
       "        return WebSocket;\n",
       "    } else if (typeof(MozWebSocket) !== 'undefined') {\n",
       "        return MozWebSocket;\n",
       "    } else {\n",
       "        alert('Your browser does not have WebSocket support. ' +\n",
       "              'Please try Chrome, Safari or Firefox ≥ 6. ' +\n",
       "              'Firefox 4 and 5 are also supported but you ' +\n",
       "              'have to enable WebSockets in about:config.');\n",
       "    };\n",
       "}\n",
       "\n",
       "mpl.figure = function(figure_id, websocket, ondownload, parent_element) {\n",
       "    this.id = figure_id;\n",
       "\n",
       "    this.ws = websocket;\n",
       "\n",
       "    this.supports_binary = (this.ws.binaryType != undefined);\n",
       "\n",
       "    if (!this.supports_binary) {\n",
       "        var warnings = document.getElementById(\"mpl-warnings\");\n",
       "        if (warnings) {\n",
       "            warnings.style.display = 'block';\n",
       "            warnings.textContent = (\n",
       "                \"This browser does not support binary websocket messages. \" +\n",
       "                    \"Performance may be slow.\");\n",
       "        }\n",
       "    }\n",
       "\n",
       "    this.imageObj = new Image();\n",
       "\n",
       "    this.context = undefined;\n",
       "    this.message = undefined;\n",
       "    this.canvas = undefined;\n",
       "    this.rubberband_canvas = undefined;\n",
       "    this.rubberband_context = undefined;\n",
       "    this.format_dropdown = undefined;\n",
       "\n",
       "    this.image_mode = 'full';\n",
       "\n",
       "    this.root = $('<div/>');\n",
       "    this._root_extra_style(this.root)\n",
       "    this.root.attr('style', 'display: inline-block');\n",
       "\n",
       "    $(parent_element).append(this.root);\n",
       "\n",
       "    this._init_header(this);\n",
       "    this._init_canvas(this);\n",
       "    this._init_toolbar(this);\n",
       "\n",
       "    var fig = this;\n",
       "\n",
       "    this.waiting = false;\n",
       "\n",
       "    this.ws.onopen =  function () {\n",
       "            fig.send_message(\"supports_binary\", {value: fig.supports_binary});\n",
       "            fig.send_message(\"send_image_mode\", {});\n",
       "            if (mpl.ratio != 1) {\n",
       "                fig.send_message(\"set_dpi_ratio\", {'dpi_ratio': mpl.ratio});\n",
       "            }\n",
       "            fig.send_message(\"refresh\", {});\n",
       "        }\n",
       "\n",
       "    this.imageObj.onload = function() {\n",
       "            if (fig.image_mode == 'full') {\n",
       "                // Full images could contain transparency (where diff images\n",
       "                // almost always do), so we need to clear the canvas so that\n",
       "                // there is no ghosting.\n",
       "                fig.context.clearRect(0, 0, fig.canvas.width, fig.canvas.height);\n",
       "            }\n",
       "            fig.context.drawImage(fig.imageObj, 0, 0);\n",
       "        };\n",
       "\n",
       "    this.imageObj.onunload = function() {\n",
       "        fig.ws.close();\n",
       "    }\n",
       "\n",
       "    this.ws.onmessage = this._make_on_message_function(this);\n",
       "\n",
       "    this.ondownload = ondownload;\n",
       "}\n",
       "\n",
       "mpl.figure.prototype._init_header = function() {\n",
       "    var titlebar = $(\n",
       "        '<div class=\"ui-dialog-titlebar ui-widget-header ui-corner-all ' +\n",
       "        'ui-helper-clearfix\"/>');\n",
       "    var titletext = $(\n",
       "        '<div class=\"ui-dialog-title\" style=\"width: 100%; ' +\n",
       "        'text-align: center; padding: 3px;\"/>');\n",
       "    titlebar.append(titletext)\n",
       "    this.root.append(titlebar);\n",
       "    this.header = titletext[0];\n",
       "}\n",
       "\n",
       "\n",
       "\n",
       "mpl.figure.prototype._canvas_extra_style = function(canvas_div) {\n",
       "\n",
       "}\n",
       "\n",
       "\n",
       "mpl.figure.prototype._root_extra_style = function(canvas_div) {\n",
       "\n",
       "}\n",
       "\n",
       "mpl.figure.prototype._init_canvas = function() {\n",
       "    var fig = this;\n",
       "\n",
       "    var canvas_div = $('<div/>');\n",
       "\n",
       "    canvas_div.attr('style', 'position: relative; clear: both; outline: 0');\n",
       "\n",
       "    function canvas_keyboard_event(event) {\n",
       "        return fig.key_event(event, event['data']);\n",
       "    }\n",
       "\n",
       "    canvas_div.keydown('key_press', canvas_keyboard_event);\n",
       "    canvas_div.keyup('key_release', canvas_keyboard_event);\n",
       "    this.canvas_div = canvas_div\n",
       "    this._canvas_extra_style(canvas_div)\n",
       "    this.root.append(canvas_div);\n",
       "\n",
       "    var canvas = $('<canvas/>');\n",
       "    canvas.addClass('mpl-canvas');\n",
       "    canvas.attr('style', \"left: 0; top: 0; z-index: 0; outline: 0\")\n",
       "\n",
       "    this.canvas = canvas[0];\n",
       "    this.context = canvas[0].getContext(\"2d\");\n",
       "\n",
       "    var backingStore = this.context.backingStorePixelRatio ||\n",
       "\tthis.context.webkitBackingStorePixelRatio ||\n",
       "\tthis.context.mozBackingStorePixelRatio ||\n",
       "\tthis.context.msBackingStorePixelRatio ||\n",
       "\tthis.context.oBackingStorePixelRatio ||\n",
       "\tthis.context.backingStorePixelRatio || 1;\n",
       "\n",
       "    mpl.ratio = (window.devicePixelRatio || 1) / backingStore;\n",
       "\n",
       "    var rubberband = $('<canvas/>');\n",
       "    rubberband.attr('style', \"position: absolute; left: 0; top: 0; z-index: 1;\")\n",
       "\n",
       "    var pass_mouse_events = true;\n",
       "\n",
       "    canvas_div.resizable({\n",
       "        start: function(event, ui) {\n",
       "            pass_mouse_events = false;\n",
       "        },\n",
       "        resize: function(event, ui) {\n",
       "            fig.request_resize(ui.size.width, ui.size.height);\n",
       "        },\n",
       "        stop: function(event, ui) {\n",
       "            pass_mouse_events = true;\n",
       "            fig.request_resize(ui.size.width, ui.size.height);\n",
       "        },\n",
       "    });\n",
       "\n",
       "    function mouse_event_fn(event) {\n",
       "        if (pass_mouse_events)\n",
       "            return fig.mouse_event(event, event['data']);\n",
       "    }\n",
       "\n",
       "    rubberband.mousedown('button_press', mouse_event_fn);\n",
       "    rubberband.mouseup('button_release', mouse_event_fn);\n",
       "    // Throttle sequential mouse events to 1 every 20ms.\n",
       "    rubberband.mousemove('motion_notify', mouse_event_fn);\n",
       "\n",
       "    rubberband.mouseenter('figure_enter', mouse_event_fn);\n",
       "    rubberband.mouseleave('figure_leave', mouse_event_fn);\n",
       "\n",
       "    canvas_div.on(\"wheel\", function (event) {\n",
       "        event = event.originalEvent;\n",
       "        event['data'] = 'scroll'\n",
       "        if (event.deltaY < 0) {\n",
       "            event.step = 1;\n",
       "        } else {\n",
       "            event.step = -1;\n",
       "        }\n",
       "        mouse_event_fn(event);\n",
       "    });\n",
       "\n",
       "    canvas_div.append(canvas);\n",
       "    canvas_div.append(rubberband);\n",
       "\n",
       "    this.rubberband = rubberband;\n",
       "    this.rubberband_canvas = rubberband[0];\n",
       "    this.rubberband_context = rubberband[0].getContext(\"2d\");\n",
       "    this.rubberband_context.strokeStyle = \"#000000\";\n",
       "\n",
       "    this._resize_canvas = function(width, height) {\n",
       "        // Keep the size of the canvas, canvas container, and rubber band\n",
       "        // canvas in synch.\n",
       "        canvas_div.css('width', width)\n",
       "        canvas_div.css('height', height)\n",
       "\n",
       "        canvas.attr('width', width * mpl.ratio);\n",
       "        canvas.attr('height', height * mpl.ratio);\n",
       "        canvas.attr('style', 'width: ' + width + 'px; height: ' + height + 'px;');\n",
       "\n",
       "        rubberband.attr('width', width);\n",
       "        rubberband.attr('height', height);\n",
       "    }\n",
       "\n",
       "    // Set the figure to an initial 600x600px, this will subsequently be updated\n",
       "    // upon first draw.\n",
       "    this._resize_canvas(600, 600);\n",
       "\n",
       "    // Disable right mouse context menu.\n",
       "    $(this.rubberband_canvas).bind(\"contextmenu\",function(e){\n",
       "        return false;\n",
       "    });\n",
       "\n",
       "    function set_focus () {\n",
       "        canvas.focus();\n",
       "        canvas_div.focus();\n",
       "    }\n",
       "\n",
       "    window.setTimeout(set_focus, 100);\n",
       "}\n",
       "\n",
       "mpl.figure.prototype._init_toolbar = function() {\n",
       "    var fig = this;\n",
       "\n",
       "    var nav_element = $('<div/>');\n",
       "    nav_element.attr('style', 'width: 100%');\n",
       "    this.root.append(nav_element);\n",
       "\n",
       "    // Define a callback function for later on.\n",
       "    function toolbar_event(event) {\n",
       "        return fig.toolbar_button_onclick(event['data']);\n",
       "    }\n",
       "    function toolbar_mouse_event(event) {\n",
       "        return fig.toolbar_button_onmouseover(event['data']);\n",
       "    }\n",
       "\n",
       "    for(var toolbar_ind in mpl.toolbar_items) {\n",
       "        var name = mpl.toolbar_items[toolbar_ind][0];\n",
       "        var tooltip = mpl.toolbar_items[toolbar_ind][1];\n",
       "        var image = mpl.toolbar_items[toolbar_ind][2];\n",
       "        var method_name = mpl.toolbar_items[toolbar_ind][3];\n",
       "\n",
       "        if (!name) {\n",
       "            // put a spacer in here.\n",
       "            continue;\n",
       "        }\n",
       "        var button = $('<button/>');\n",
       "        button.addClass('ui-button ui-widget ui-state-default ui-corner-all ' +\n",
       "                        'ui-button-icon-only');\n",
       "        button.attr('role', 'button');\n",
       "        button.attr('aria-disabled', 'false');\n",
       "        button.click(method_name, toolbar_event);\n",
       "        button.mouseover(tooltip, toolbar_mouse_event);\n",
       "\n",
       "        var icon_img = $('<span/>');\n",
       "        icon_img.addClass('ui-button-icon-primary ui-icon');\n",
       "        icon_img.addClass(image);\n",
       "        icon_img.addClass('ui-corner-all');\n",
       "\n",
       "        var tooltip_span = $('<span/>');\n",
       "        tooltip_span.addClass('ui-button-text');\n",
       "        tooltip_span.html(tooltip);\n",
       "\n",
       "        button.append(icon_img);\n",
       "        button.append(tooltip_span);\n",
       "\n",
       "        nav_element.append(button);\n",
       "    }\n",
       "\n",
       "    var fmt_picker_span = $('<span/>');\n",
       "\n",
       "    var fmt_picker = $('<select/>');\n",
       "    fmt_picker.addClass('mpl-toolbar-option ui-widget ui-widget-content');\n",
       "    fmt_picker_span.append(fmt_picker);\n",
       "    nav_element.append(fmt_picker_span);\n",
       "    this.format_dropdown = fmt_picker[0];\n",
       "\n",
       "    for (var ind in mpl.extensions) {\n",
       "        var fmt = mpl.extensions[ind];\n",
       "        var option = $(\n",
       "            '<option/>', {selected: fmt === mpl.default_extension}).html(fmt);\n",
       "        fmt_picker.append(option);\n",
       "    }\n",
       "\n",
       "    // Add hover states to the ui-buttons\n",
       "    $( \".ui-button\" ).hover(\n",
       "        function() { $(this).addClass(\"ui-state-hover\");},\n",
       "        function() { $(this).removeClass(\"ui-state-hover\");}\n",
       "    );\n",
       "\n",
       "    var status_bar = $('<span class=\"mpl-message\"/>');\n",
       "    nav_element.append(status_bar);\n",
       "    this.message = status_bar[0];\n",
       "}\n",
       "\n",
       "mpl.figure.prototype.request_resize = function(x_pixels, y_pixels) {\n",
       "    // Request matplotlib to resize the figure. Matplotlib will then trigger a resize in the client,\n",
       "    // which will in turn request a refresh of the image.\n",
       "    this.send_message('resize', {'width': x_pixels, 'height': y_pixels});\n",
       "}\n",
       "\n",
       "mpl.figure.prototype.send_message = function(type, properties) {\n",
       "    properties['type'] = type;\n",
       "    properties['figure_id'] = this.id;\n",
       "    this.ws.send(JSON.stringify(properties));\n",
       "}\n",
       "\n",
       "mpl.figure.prototype.send_draw_message = function() {\n",
       "    if (!this.waiting) {\n",
       "        this.waiting = true;\n",
       "        this.ws.send(JSON.stringify({type: \"draw\", figure_id: this.id}));\n",
       "    }\n",
       "}\n",
       "\n",
       "\n",
       "mpl.figure.prototype.handle_save = function(fig, msg) {\n",
       "    var format_dropdown = fig.format_dropdown;\n",
       "    var format = format_dropdown.options[format_dropdown.selectedIndex].value;\n",
       "    fig.ondownload(fig, format);\n",
       "}\n",
       "\n",
       "\n",
       "mpl.figure.prototype.handle_resize = function(fig, msg) {\n",
       "    var size = msg['size'];\n",
       "    if (size[0] != fig.canvas.width || size[1] != fig.canvas.height) {\n",
       "        fig._resize_canvas(size[0], size[1]);\n",
       "        fig.send_message(\"refresh\", {});\n",
       "    };\n",
       "}\n",
       "\n",
       "mpl.figure.prototype.handle_rubberband = function(fig, msg) {\n",
       "    var x0 = msg['x0'] / mpl.ratio;\n",
       "    var y0 = (fig.canvas.height - msg['y0']) / mpl.ratio;\n",
       "    var x1 = msg['x1'] / mpl.ratio;\n",
       "    var y1 = (fig.canvas.height - msg['y1']) / mpl.ratio;\n",
       "    x0 = Math.floor(x0) + 0.5;\n",
       "    y0 = Math.floor(y0) + 0.5;\n",
       "    x1 = Math.floor(x1) + 0.5;\n",
       "    y1 = Math.floor(y1) + 0.5;\n",
       "    var min_x = Math.min(x0, x1);\n",
       "    var min_y = Math.min(y0, y1);\n",
       "    var width = Math.abs(x1 - x0);\n",
       "    var height = Math.abs(y1 - y0);\n",
       "\n",
       "    fig.rubberband_context.clearRect(\n",
       "        0, 0, fig.canvas.width / mpl.ratio, fig.canvas.height / mpl.ratio);\n",
       "\n",
       "    fig.rubberband_context.strokeRect(min_x, min_y, width, height);\n",
       "}\n",
       "\n",
       "mpl.figure.prototype.handle_figure_label = function(fig, msg) {\n",
       "    // Updates the figure title.\n",
       "    fig.header.textContent = msg['label'];\n",
       "}\n",
       "\n",
       "mpl.figure.prototype.handle_cursor = function(fig, msg) {\n",
       "    var cursor = msg['cursor'];\n",
       "    switch(cursor)\n",
       "    {\n",
       "    case 0:\n",
       "        cursor = 'pointer';\n",
       "        break;\n",
       "    case 1:\n",
       "        cursor = 'default';\n",
       "        break;\n",
       "    case 2:\n",
       "        cursor = 'crosshair';\n",
       "        break;\n",
       "    case 3:\n",
       "        cursor = 'move';\n",
       "        break;\n",
       "    }\n",
       "    fig.rubberband_canvas.style.cursor = cursor;\n",
       "}\n",
       "\n",
       "mpl.figure.prototype.handle_message = function(fig, msg) {\n",
       "    fig.message.textContent = msg['message'];\n",
       "}\n",
       "\n",
       "mpl.figure.prototype.handle_draw = function(fig, msg) {\n",
       "    // Request the server to send over a new figure.\n",
       "    fig.send_draw_message();\n",
       "}\n",
       "\n",
       "mpl.figure.prototype.handle_image_mode = function(fig, msg) {\n",
       "    fig.image_mode = msg['mode'];\n",
       "}\n",
       "\n",
       "mpl.figure.prototype.updated_canvas_event = function() {\n",
       "    // Called whenever the canvas gets updated.\n",
       "    this.send_message(\"ack\", {});\n",
       "}\n",
       "\n",
       "// A function to construct a web socket function for onmessage handling.\n",
       "// Called in the figure constructor.\n",
       "mpl.figure.prototype._make_on_message_function = function(fig) {\n",
       "    return function socket_on_message(evt) {\n",
       "        if (evt.data instanceof Blob) {\n",
       "            /* FIXME: We get \"Resource interpreted as Image but\n",
       "             * transferred with MIME type text/plain:\" errors on\n",
       "             * Chrome.  But how to set the MIME type?  It doesn't seem\n",
       "             * to be part of the websocket stream */\n",
       "            evt.data.type = \"image/png\";\n",
       "\n",
       "            /* Free the memory for the previous frames */\n",
       "            if (fig.imageObj.src) {\n",
       "                (window.URL || window.webkitURL).revokeObjectURL(\n",
       "                    fig.imageObj.src);\n",
       "            }\n",
       "\n",
       "            fig.imageObj.src = (window.URL || window.webkitURL).createObjectURL(\n",
       "                evt.data);\n",
       "            fig.updated_canvas_event();\n",
       "            fig.waiting = false;\n",
       "            return;\n",
       "        }\n",
       "        else if (typeof evt.data === 'string' && evt.data.slice(0, 21) == \"data:image/png;base64\") {\n",
       "            fig.imageObj.src = evt.data;\n",
       "            fig.updated_canvas_event();\n",
       "            fig.waiting = false;\n",
       "            return;\n",
       "        }\n",
       "\n",
       "        var msg = JSON.parse(evt.data);\n",
       "        var msg_type = msg['type'];\n",
       "\n",
       "        // Call the  \"handle_{type}\" callback, which takes\n",
       "        // the figure and JSON message as its only arguments.\n",
       "        try {\n",
       "            var callback = fig[\"handle_\" + msg_type];\n",
       "        } catch (e) {\n",
       "            console.log(\"No handler for the '\" + msg_type + \"' message type: \", msg);\n",
       "            return;\n",
       "        }\n",
       "\n",
       "        if (callback) {\n",
       "            try {\n",
       "                // console.log(\"Handling '\" + msg_type + \"' message: \", msg);\n",
       "                callback(fig, msg);\n",
       "            } catch (e) {\n",
       "                console.log(\"Exception inside the 'handler_\" + msg_type + \"' callback:\", e, e.stack, msg);\n",
       "            }\n",
       "        }\n",
       "    };\n",
       "}\n",
       "\n",
       "// from http://stackoverflow.com/questions/1114465/getting-mouse-location-in-canvas\n",
       "mpl.findpos = function(e) {\n",
       "    //this section is from http://www.quirksmode.org/js/events_properties.html\n",
       "    var targ;\n",
       "    if (!e)\n",
       "        e = window.event;\n",
       "    if (e.target)\n",
       "        targ = e.target;\n",
       "    else if (e.srcElement)\n",
       "        targ = e.srcElement;\n",
       "    if (targ.nodeType == 3) // defeat Safari bug\n",
       "        targ = targ.parentNode;\n",
       "\n",
       "    // jQuery normalizes the pageX and pageY\n",
       "    // pageX,Y are the mouse positions relative to the document\n",
       "    // offset() returns the position of the element relative to the document\n",
       "    var x = e.pageX - $(targ).offset().left;\n",
       "    var y = e.pageY - $(targ).offset().top;\n",
       "\n",
       "    return {\"x\": x, \"y\": y};\n",
       "};\n",
       "\n",
       "/*\n",
       " * return a copy of an object with only non-object keys\n",
       " * we need this to avoid circular references\n",
       " * http://stackoverflow.com/a/24161582/3208463\n",
       " */\n",
       "function simpleKeys (original) {\n",
       "  return Object.keys(original).reduce(function (obj, key) {\n",
       "    if (typeof original[key] !== 'object')\n",
       "        obj[key] = original[key]\n",
       "    return obj;\n",
       "  }, {});\n",
       "}\n",
       "\n",
       "mpl.figure.prototype.mouse_event = function(event, name) {\n",
       "    var canvas_pos = mpl.findpos(event)\n",
       "\n",
       "    if (name === 'button_press')\n",
       "    {\n",
       "        this.canvas.focus();\n",
       "        this.canvas_div.focus();\n",
       "    }\n",
       "\n",
       "    var x = canvas_pos.x * mpl.ratio;\n",
       "    var y = canvas_pos.y * mpl.ratio;\n",
       "\n",
       "    this.send_message(name, {x: x, y: y, button: event.button,\n",
       "                             step: event.step,\n",
       "                             guiEvent: simpleKeys(event)});\n",
       "\n",
       "    /* This prevents the web browser from automatically changing to\n",
       "     * the text insertion cursor when the button is pressed.  We want\n",
       "     * to control all of the cursor setting manually through the\n",
       "     * 'cursor' event from matplotlib */\n",
       "    event.preventDefault();\n",
       "    return false;\n",
       "}\n",
       "\n",
       "mpl.figure.prototype._key_event_extra = function(event, name) {\n",
       "    // Handle any extra behaviour associated with a key event\n",
       "}\n",
       "\n",
       "mpl.figure.prototype.key_event = function(event, name) {\n",
       "\n",
       "    // Prevent repeat events\n",
       "    if (name == 'key_press')\n",
       "    {\n",
       "        if (event.which === this._key)\n",
       "            return;\n",
       "        else\n",
       "            this._key = event.which;\n",
       "    }\n",
       "    if (name == 'key_release')\n",
       "        this._key = null;\n",
       "\n",
       "    var value = '';\n",
       "    if (event.ctrlKey && event.which != 17)\n",
       "        value += \"ctrl+\";\n",
       "    if (event.altKey && event.which != 18)\n",
       "        value += \"alt+\";\n",
       "    if (event.shiftKey && event.which != 16)\n",
       "        value += \"shift+\";\n",
       "\n",
       "    value += 'k';\n",
       "    value += event.which.toString();\n",
       "\n",
       "    this._key_event_extra(event, name);\n",
       "\n",
       "    this.send_message(name, {key: value,\n",
       "                             guiEvent: simpleKeys(event)});\n",
       "    return false;\n",
       "}\n",
       "\n",
       "mpl.figure.prototype.toolbar_button_onclick = function(name) {\n",
       "    if (name == 'download') {\n",
       "        this.handle_save(this, null);\n",
       "    } else {\n",
       "        this.send_message(\"toolbar_button\", {name: name});\n",
       "    }\n",
       "};\n",
       "\n",
       "mpl.figure.prototype.toolbar_button_onmouseover = function(tooltip) {\n",
       "    this.message.textContent = tooltip;\n",
       "};\n",
       "mpl.toolbar_items = [[\"Home\", \"Reset original view\", \"fa fa-home icon-home\", \"home\"], [\"Back\", \"Back to previous view\", \"fa fa-arrow-left icon-arrow-left\", \"back\"], [\"Forward\", \"Forward to next view\", \"fa fa-arrow-right icon-arrow-right\", \"forward\"], [\"\", \"\", \"\", \"\"], [\"Pan\", \"Pan axes with left mouse, zoom with right\", \"fa fa-arrows icon-move\", \"pan\"], [\"Zoom\", \"Zoom to rectangle\", \"fa fa-square-o icon-check-empty\", \"zoom\"], [\"\", \"\", \"\", \"\"], [\"Download\", \"Download plot\", \"fa fa-floppy-o icon-save\", \"download\"]];\n",
       "\n",
       "mpl.extensions = [\"eps\", \"jpeg\", \"pdf\", \"png\", \"ps\", \"raw\", \"svg\", \"tif\"];\n",
       "\n",
       "mpl.default_extension = \"png\";var comm_websocket_adapter = function(comm) {\n",
       "    // Create a \"websocket\"-like object which calls the given IPython comm\n",
       "    // object with the appropriate methods. Currently this is a non binary\n",
       "    // socket, so there is still some room for performance tuning.\n",
       "    var ws = {};\n",
       "\n",
       "    ws.close = function() {\n",
       "        comm.close()\n",
       "    };\n",
       "    ws.send = function(m) {\n",
       "        //console.log('sending', m);\n",
       "        comm.send(m);\n",
       "    };\n",
       "    // Register the callback with on_msg.\n",
       "    comm.on_msg(function(msg) {\n",
       "        //console.log('receiving', msg['content']['data'], msg);\n",
       "        // Pass the mpl event to the overridden (by mpl) onmessage function.\n",
       "        ws.onmessage(msg['content']['data'])\n",
       "    });\n",
       "    return ws;\n",
       "}\n",
       "\n",
       "mpl.mpl_figure_comm = function(comm, msg) {\n",
       "    // This is the function which gets called when the mpl process\n",
       "    // starts-up an IPython Comm through the \"matplotlib\" channel.\n",
       "\n",
       "    var id = msg.content.data.id;\n",
       "    // Get hold of the div created by the display call when the Comm\n",
       "    // socket was opened in Python.\n",
       "    var element = $(\"#\" + id);\n",
       "    var ws_proxy = comm_websocket_adapter(comm)\n",
       "\n",
       "    function ondownload(figure, format) {\n",
       "        window.open(figure.imageObj.src);\n",
       "    }\n",
       "\n",
       "    var fig = new mpl.figure(id, ws_proxy,\n",
       "                           ondownload,\n",
       "                           element.get(0));\n",
       "\n",
       "    // Call onopen now - mpl needs it, as it is assuming we've passed it a real\n",
       "    // web socket which is closed, not our websocket->open comm proxy.\n",
       "    ws_proxy.onopen();\n",
       "\n",
       "    fig.parent_element = element.get(0);\n",
       "    fig.cell_info = mpl.find_output_cell(\"<div id='\" + id + \"'></div>\");\n",
       "    if (!fig.cell_info) {\n",
       "        console.error(\"Failed to find cell for figure\", id, fig);\n",
       "        return;\n",
       "    }\n",
       "\n",
       "    var output_index = fig.cell_info[2]\n",
       "    var cell = fig.cell_info[0];\n",
       "\n",
       "};\n",
       "\n",
       "mpl.figure.prototype.handle_close = function(fig, msg) {\n",
       "    var width = fig.canvas.width/mpl.ratio\n",
       "    fig.root.unbind('remove')\n",
       "\n",
       "    // Update the output cell to use the data from the current canvas.\n",
       "    fig.push_to_output();\n",
       "    var dataURL = fig.canvas.toDataURL();\n",
       "    // Re-enable the keyboard manager in IPython - without this line, in FF,\n",
       "    // the notebook keyboard shortcuts fail.\n",
       "    IPython.keyboard_manager.enable()\n",
       "    $(fig.parent_element).html('<img src=\"' + dataURL + '\" width=\"' + width + '\">');\n",
       "    fig.close_ws(fig, msg);\n",
       "}\n",
       "\n",
       "mpl.figure.prototype.close_ws = function(fig, msg){\n",
       "    fig.send_message('closing', msg);\n",
       "    // fig.ws.close()\n",
       "}\n",
       "\n",
       "mpl.figure.prototype.push_to_output = function(remove_interactive) {\n",
       "    // Turn the data on the canvas into data in the output cell.\n",
       "    var width = this.canvas.width/mpl.ratio\n",
       "    var dataURL = this.canvas.toDataURL();\n",
       "    this.cell_info[1]['text/html'] = '<img src=\"' + dataURL + '\" width=\"' + width + '\">';\n",
       "}\n",
       "\n",
       "mpl.figure.prototype.updated_canvas_event = function() {\n",
       "    // Tell IPython that the notebook contents must change.\n",
       "    IPython.notebook.set_dirty(true);\n",
       "    this.send_message(\"ack\", {});\n",
       "    var fig = this;\n",
       "    // Wait a second, then push the new image to the DOM so\n",
       "    // that it is saved nicely (might be nice to debounce this).\n",
       "    setTimeout(function () { fig.push_to_output() }, 1000);\n",
       "}\n",
       "\n",
       "mpl.figure.prototype._init_toolbar = function() {\n",
       "    var fig = this;\n",
       "\n",
       "    var nav_element = $('<div/>');\n",
       "    nav_element.attr('style', 'width: 100%');\n",
       "    this.root.append(nav_element);\n",
       "\n",
       "    // Define a callback function for later on.\n",
       "    function toolbar_event(event) {\n",
       "        return fig.toolbar_button_onclick(event['data']);\n",
       "    }\n",
       "    function toolbar_mouse_event(event) {\n",
       "        return fig.toolbar_button_onmouseover(event['data']);\n",
       "    }\n",
       "\n",
       "    for(var toolbar_ind in mpl.toolbar_items){\n",
       "        var name = mpl.toolbar_items[toolbar_ind][0];\n",
       "        var tooltip = mpl.toolbar_items[toolbar_ind][1];\n",
       "        var image = mpl.toolbar_items[toolbar_ind][2];\n",
       "        var method_name = mpl.toolbar_items[toolbar_ind][3];\n",
       "\n",
       "        if (!name) { continue; };\n",
       "\n",
       "        var button = $('<button class=\"btn btn-default\" href=\"#\" title=\"' + name + '\"><i class=\"fa ' + image + ' fa-lg\"></i></button>');\n",
       "        button.click(method_name, toolbar_event);\n",
       "        button.mouseover(tooltip, toolbar_mouse_event);\n",
       "        nav_element.append(button);\n",
       "    }\n",
       "\n",
       "    // Add the status bar.\n",
       "    var status_bar = $('<span class=\"mpl-message\" style=\"text-align:right; float: right;\"/>');\n",
       "    nav_element.append(status_bar);\n",
       "    this.message = status_bar[0];\n",
       "\n",
       "    // Add the close button to the window.\n",
       "    var buttongrp = $('<div class=\"btn-group inline pull-right\"></div>');\n",
       "    var button = $('<button class=\"btn btn-mini btn-primary\" href=\"#\" title=\"Stop Interaction\"><i class=\"fa fa-power-off icon-remove icon-large\"></i></button>');\n",
       "    button.click(function (evt) { fig.handle_close(fig, {}); } );\n",
       "    button.mouseover('Stop Interaction', toolbar_mouse_event);\n",
       "    buttongrp.append(button);\n",
       "    var titlebar = this.root.find($('.ui-dialog-titlebar'));\n",
       "    titlebar.prepend(buttongrp);\n",
       "}\n",
       "\n",
       "mpl.figure.prototype._root_extra_style = function(el){\n",
       "    var fig = this\n",
       "    el.on(\"remove\", function(){\n",
       "\tfig.close_ws(fig, {});\n",
       "    });\n",
       "}\n",
       "\n",
       "mpl.figure.prototype._canvas_extra_style = function(el){\n",
       "    // this is important to make the div 'focusable\n",
       "    el.attr('tabindex', 0)\n",
       "    // reach out to IPython and tell the keyboard manager to turn it's self\n",
       "    // off when our div gets focus\n",
       "\n",
       "    // location in version 3\n",
       "    if (IPython.notebook.keyboard_manager) {\n",
       "        IPython.notebook.keyboard_manager.register_events(el);\n",
       "    }\n",
       "    else {\n",
       "        // location in version 2\n",
       "        IPython.keyboard_manager.register_events(el);\n",
       "    }\n",
       "\n",
       "}\n",
       "\n",
       "mpl.figure.prototype._key_event_extra = function(event, name) {\n",
       "    var manager = IPython.notebook.keyboard_manager;\n",
       "    if (!manager)\n",
       "        manager = IPython.keyboard_manager;\n",
       "\n",
       "    // Check for shift+enter\n",
       "    if (event.shiftKey && event.which == 13) {\n",
       "        this.canvas_div.blur();\n",
       "        // select the cell after this one\n",
       "        var index = IPython.notebook.find_cell_index(this.cell_info[0]);\n",
       "        IPython.notebook.select(index + 1);\n",
       "    }\n",
       "}\n",
       "\n",
       "mpl.figure.prototype.handle_save = function(fig, msg) {\n",
       "    fig.ondownload(fig, null);\n",
       "}\n",
       "\n",
       "\n",
       "mpl.find_output_cell = function(html_output) {\n",
       "    // Return the cell and output element which can be found *uniquely* in the notebook.\n",
       "    // Note - this is a bit hacky, but it is done because the \"notebook_saving.Notebook\"\n",
       "    // IPython event is triggered only after the cells have been serialised, which for\n",
       "    // our purposes (turning an active figure into a static one), is too late.\n",
       "    var cells = IPython.notebook.get_cells();\n",
       "    var ncells = cells.length;\n",
       "    for (var i=0; i<ncells; i++) {\n",
       "        var cell = cells[i];\n",
       "        if (cell.cell_type === 'code'){\n",
       "            for (var j=0; j<cell.output_area.outputs.length; j++) {\n",
       "                var data = cell.output_area.outputs[j];\n",
       "                if (data.data) {\n",
       "                    // IPython >= 3 moved mimebundle to data attribute of output\n",
       "                    data = data.data;\n",
       "                }\n",
       "                if (data['text/html'] == html_output) {\n",
       "                    return [cell, data, j];\n",
       "                }\n",
       "            }\n",
       "        }\n",
       "    }\n",
       "}\n",
       "\n",
       "// Register the function which deals with the matplotlib target/channel.\n",
       "// The kernel may be null if the page has been refreshed.\n",
       "if (IPython.notebook.kernel != null) {\n",
       "    IPython.notebook.kernel.comm_manager.register_target('matplotlib', mpl.mpl_figure_comm);\n",
       "}\n"
      ],
      "text/plain": [
       "<IPython.core.display.Javascript object>"
      ]
     },
     "metadata": {},
     "output_type": "display_data"
    },
    {
     "data": {
      "text/html": [
       "<img src=\"data:image/png;base64,iVBORw0KGgoAAAANSUhEUgAAB9AAAAPoCAYAAACGXmWqAAAebElEQVR4nOzBAQEAAACAkP6v7ggKAAAAAAAAAAAAAAAAAAAAAAAAAAAAAAAAAAAAAAAAAAAAAAAAAAAAAAAAAAAAAAAAAAAAAAAAAAAAAAAAAAAAAAAAAAAAAAAAAAAAAAAAAAAAAAAAAAAAAAAAAAAAAAAAAAAAAAAAAAAAAAAAAAAAAAAAAAAAAAAAAAAAAAAAAAAAAAAAAAAAAAAAAAAAAAAAAAAAAAAAAAAAAAAAAAAAAAAAAAAAAAAAAAAAAAAAAAAAAAAAAAAAAAAAAAAAAAAAAAAAAAAAAAAAAAAAAAAAAAAAAAAAAAAAAAAAAAAAAAAAAAAAAAAAAAAAAAAAAAAAAAAAAAAAAAAAAAAAAAAAAAAAAAAAAAAAAAAAAAAAAAAAAAAAAAAAAAAAAAAAAAAAAAAAAAAAAAAAAAAAAAAAAAAAAAAAAAAAAAAAAAAAAAAAAAAAAAAAAAAAAAAAAAAAAAAAAAAAAAAAAAAAAAAAAAAAAAAAAAAAAAAAAAAAAAAAAAAAAAAAAAAAAAAAAAAAAAAAAAAAAAAAAAAAAAAAAAAAAAAAAAAAAAAAAAAAAAAAAAAAAAAAAAAAAAAAAAAAAAAAAAAAAAAAAAAAAAAAAAAAAAAAAAAAAAAAAAAAAAAAAAAAAAAAAAAAAAAAAAAAAAAAAAAAAAAAAAAAAAAAAAAAAAAAAAAAAAAAAAAAAAAAAAAAAAAAAAAAAAAAAAAAAAAAAAAAAAAAAAAAAAAAAAAAAAAAAAAAAAAAAAAAAAAAAAAAAAAAAAAAAAAAAAAAAAAAAAAAAAAAAAAAAAAAAAAAAAAAAAAAAAAAAAAAAAAAAAAAAAAAAAAAAAAAAAAAAAAAAAAAAAAAAAAAAAAAAAAAAAAAAAAAAAAAAAAAAAAAAAAAAAAAAAAAAAAAAAAAAAAAAAAAAAAAAAAAAAAAAAAAAAAAAAAAAAAAAAAAAAAAAAAAAAAAAAAAAAAAAAAAAAAAAAAAAAAAAAAAAAAAAAAAAAAAAAAAAAAAAAAAAAAAAAAAAAAAAAAAAAAAAAAAAAAAAAAAAAAAAAAAAAAAAAAAAAAAAAAAAAAAAAAAAAAAAAAAAAAAAAAAAAAAAAAAAAAAAAAAAAAAAAAAAAAAAAAAAAAAAAAAAAAAAAAAAAAAAAAAAAAAAAAAAAAAAAAAAAAAAAAAAAAAAAAAAAAAAAAAAAAAAAAAAAAAAAAAAAAAAAAAAAAAAAAAAAAAAAAAAAAAAAAAAAAAAAAAAAAAAAAAAAAAAAAAAAAAAAAAAAAAAAAAAAAAAAAAAAAAAAAAAAAAAAAAAAAAAAAAAAAAAAAAAAAAAAAAAAAAAAAAAAAAAAAAAAAAAAAAAAAAAAAAAAAAAAAAAAAAAAAAAAAAAAAAAAAAAAAAAAAAAAAAAAAAAAAAAAAAAAAAAAAAAAAAAAAAAAAAAAAAAAAAAAAAAAAAAAAAAAAAAAAAAAAAAAAAAAAAAAAAAAAAAAAAAAAAAAAAAAAAAAAAAAAAAAAAAAAAAAAAAAAAAAAAAAAAAAAAAAAAAAAAAAAAAAAAAAAAAAAAAAAAAAAAAAAAAAAAAAAAAAAAAAAAAAAAAAAAAAAAAAAAAAAAAAAAAAAAAAAAAAAAAAAAAAAAAAAAAAAAAAAAAAAAAAAAAAAAAAAAAAAAAAAAAAAAAAAAAAAAAAAAAAAAAAAAAAAAAAAAAAAAAAAAAAAAAAAAAAAAAAAAAAAAAAAAAAAAAAAAAAAAAAAAAAAAAAAAAAAAAAAAAAAAAAAAAAAAAAAAAAAAAAAAAAAAAAAAAAAAAAAAAAAAAAAAAAAAAAAAAAAAAAAAAAAAAAAAAAAAAAAAAAAAAAAAAAAAAAAAAAAAAAAAAAAAAAAAAAAAAAAAAAAAAAAAAAAAAAAAAAAAAAAAAAAAAAAAAAAAAAAAAAAAAAAAAAAAAAAAAAAAAAAAAAAAAAAAAAAAAAAAAAAAAAAAAAAAAAAAAAAAAAAAAAAAAAAAAAAAAAAAAAAAAAAAAAAAAAAAAAAAAAAAAAAAAAAAAAAAAAAAAAAAAAAAAAAAAAAAAAAAAAAAAAAAAAAAAAAAAAAAAAAAAAAAAAAAAAAAAAAAAAAAAAAAAAAAAAAAAAAAAAAAAAAAAAAAAAAAAAAAAAAAAAAAAAAAAAAAAAAAAAAAAAAAAAAAAAAAAAAAAAAAAAAAAAAAAAAAAAAAAAAAAAAAAAAAAAAAAAAAAAAAAAAAAAAAAAAAAAAAAAAAAAAAAAAAAAAAAAAAAAAAAAAAAAAAAAAAAAAAAAAAAAAAAAAAAAAAAAAAAAAAAAAAAAAAAAAAAAAAAAAAAAAAAAAAAAAAAAAAAAAAAAAAAAAAAAAAAAAAAAAAAAAAAAAAAAAAAAAAAAAAAAAAAAAAAAAAAAAAAAAAAAAAAAAAAAAAAAAAAAAAAAAAAAAAAAAAAAAAAAAAAAAAAAAAAAAAAAAAAAAAAAAAAAAAAAAAAAAAAAAAAAAAAAAAAAAAAAAAAAAAAAAAAAAAAAAAAAAAAAAAAAAAAAAAAAAAAAAAAAAAAAAAAAAAAAAAAAAAAAAAAAAAAAAAAAAAAAAAAAAAAAAAAAAAAAAAAAAAAAAAAAAAAAAAAAAAAAAAAAAAAAAAAAAAAAAAAAAAAAAAAAAAAAAAAAAAAAAAAAAAAAAAAAAAAAAAAAAAAAAAAAAAAAAAAAAAAAAAAAAAAAAAAAAAAAAAAAAAAAAAAAAAAAAAAAAAAAAAAAAAAAAAAAAAAAAAAAAAAAAAAAAAAAAAAAAAAAAAAAAAAAAAAAAAAAAAAAAAAAAAAAAAAAAAAAAAAAAAAAAAAAAAAAAAAAAAAAAAAAAAAAAAAAAAAAAAAAAAAAAAAAAAAAAAAAAAAAAAAAAAAAAAAAAAAAAAAAAAAAAAAAAAAAAAAAAAAAAAAAAAAAAAAAAAAAAAAAAAAAAAAAAAAAAAAAAAAAAAAAAAAAAAAAAAAAAAAAAAAAAAAAAAAAAAAAAAAAAAAAAAAAAAAAAAAAAAAAAAAAAAAAAAAAAAAAAAAAAAAAAAAAAAAAAAAAAAAAAAAAAAAAAAAAAAAAAAAAAAAAAAAAAAAAAAAAAAAAAAAAAAAAAAAAAAAAAAAAAAAAAAAAAAAAAAAAAAAAAAAAAAAAAAAAAAAAAAAAAAAAAAAAAAAAAAAAAAAAAAAAAAAAAAAAAAAAAAAAAAAAAAAAAAAAAAAAAAAAAAAAAAAAAAAAAAAAAAAAAAAAAAAAAAAAAAAAAAAAAAAAAAAAAAAAAAAAAAAAAAAAAAAAAAAAAAAAAAAAAAAAAAAAAAAAAAAAAAAAAAAAAAAAAAAAAAAAAAAAAAAAAAAAAAAAAAAAAAAAAAAAAAAAAAAAAAAAAAAAAAAAAAAAAAAAAAAAAAAAAAAAAAAAAAAAAAAAAAAAAAAAAAAAAAAAAAAAAAAAAAAAAAAAAAAAAAAAAAAAAAAAAAAAAAAAAAAAAAAAAAAAAAAAAAAAAAAAAAAAAAAAAAAAAAAAAAAAAAAAAAAAAAAAAAAAAAAAAAAAAAAAAAAAAAAAAAAAAAAAAAAAAAAAAAAAAAAAAAAAAAAAAAAAAAAAAAAAAAAAAAAAAAAAAAAAAAAAAAAAAAAAAAAAAAAAAAAAAAAAAAAAAAAAAAAAAAAAAAAAAAAAAAAAAAAAAAAAAAAAAAAAAAAAAAAAAAAAAAAAAAAAAAAAAAAAAAAAAAAAAAAAAAAAAAAAAAAAAAAAAAAAAAAAAAAAAAAAAAAAAAAAAAAAAAAAAAAAAAAAAAAAAAAAAAAAAAAAAAAAAAAAAAAAAAAAAAAAAAAAAAAAAAAAAAAAAAAAAAAAAAAAAAAAAAAAAAAAAAAAAAAAAAAAAAAAAAAAAAAAAAAAAAAAAAAAAAAAAAAAAAAAAAAAAAAAAAAAAAAAAAAAAAAAAAAAAAAAAAAAAAAAAAAAAAAAAAAAAAAAAAAAAAAAAAAAAAAAAAAAAAAAAAAAAAAAAAAAAAAAAAAAAAAAAAAAAAAAAAAAAAAAAAAAAAAAAAAAAAAAAAAAAAAAAAAAAAAAAAAAAAAAAAAAAAAAAAAAAAAAAAAAAAAAAAAAAAAAAAAAAAAAAAAAAAAAAAAAAAAAAAAAAAAAAAAAAAAAAAAAAAAAAAAAAAAAAAAAAAAAAAAAAAAAAAAAAAAAAAAAAAAAAAAAAAAAAAAAAAAAAAAAAAAAAAAAAAAAAAAAAAAAAAAAAAAAAAAAAAAAAAAAAAAAAAAAAAAAAAAAAAAAAAAAAAAAAAAAAAAAAAAAAAAAAAAAAAAAAAAAAAAAAAAAAAAAAAAAAAAAAAAAAAAAAAAAAAAAAAAAAAAAAAAAAAAAAAAAAAAAAAAAAAAAAAAAAAAAAAAAAAAAAAAAAAAAAAAAAAAAAAAAAAAAAAAAAAAAAAAAAAAAAAAAAAAAAAAAAAAAAAAAAAAAAAAAAAAAAAAAAAAAAAAAAAAAAAAAAAAAAAAAAAAAAAAAAAAAAAAAAAAAAAAAAAAAAAAAAAAAAAAAAAAAAAAAAAAAAAAAAAAAAAAAAAAAAAAAAAAAAAAAAAAAAAAAAAAAAAAAAAAAAAAAAAAAAAAAAAAAAAAAAAAAAAAAAAAAAAAAAAAAAAAAAAAAAAAAAAAAAAAAAAAAAAAAAAAAAAAAAAAAAAAAAAAAAAAAAAAAAAAAAAAAAAAAAAAAAAAAAAAAAAAAAAAAAAAAAAAAAAAAAAAAAAAAAAAAAAAAAAAAAAAAAAAAAAAAAAAAAAAAAAAAAAAAAAAAAAAAAAAAAAAAAAAAAAAAAAAAAAAAAAAAAAAAAAAAAAAAAAAAAAAAAAAAAAAAAAAAAAAAAAAAAAAAAAAAAAAAAAAAAAAAAAAAAAAAAAAAAAAAAAAAAAAAAAAAAAAAAAAAAAAAAAAAAAAAAAAAAAAAAAAAAAAAAAAAAAAAAAAAAAAAAAAAAAAAAAAAAAAAAAAAAAAAAAAAAAAAAAAAAAAAAAAAAAAAAAAAAAAAAAAAAAAAAAAAAAAAAAAAAAAAAAAAAAAAAAAAAAAAAAAAAAAAAAAAAAAAAAAAAAAAAAAAAAAAAAAAAAAAAAAAAAAAAAAAAAAAAAAAAAAAAAAAAAAAAAAAAAAAAAAAAAAAAAAAAAAAAAAAAAAAAAAAAAAAAAAAAAAAAAAAAAAAAAAAAAAAAAAAAAAAAAAAAAAAAAAAAAAAAAAAAAAAAAAAAAAAAAAAAAAAAAAAAAAAAAAAAAAAAAAAAAAAAAAAAAAAAAAAAAAAAAAAAAAAAAAAAAAAAAAAAAAAAAAAAAAAAAAAAAAAAAAAAAAAAAAAAAAAAAAAAAAAAAAAAAAAAAAAAAAAAAAAAAAAAAAAAAAAAAAAAAAAAAAAAAAAAAAAAAAAAAAAAAAAAAAAAAAAAAAAAAAAAAAAAAAAAAAAAAAAAAAAAAAAAAAAAAAAAAAAAAAAAAAAAAAAAAAAAAAAAAAAAAAACA24NDAgAAAABB/197wwAAAAAAAAAAAAAAAAAAAAAAAAAAAAAAAAAAAAAAAAAAAAAAAAAAAAAAAAAAAAAAAAAAAAAAAAAAAAAAAAAAAAAAAAAAAAAAAAAAAAAAAAAAAAAAAAAAAAAAAAAAAAAAAAAAAAAAAAAAAAAAAAAAAAAAAAAAAAAAAAAAAAAAAAAAAAAAAAAAAAAAAAAAAAAAAAAAAAAAAAAAAAAAAAAAAAAAAAAAAAAAAAAAAAAAAAAAAAAAAAAAAAAAAAAAAAAAAAAAAAAAAAAAAAAAAAAAAAAAAAAAAAAAAAAAAAAAAAAAAAAAAAAAAAAAAAAAAAAAAAAAAAAAAAAAAAAAAAAAAAAAAAAAAAAAAAAAAAAAAAAAAAAAAAAAAAAAAAAAAAAAAAAAAAAAAAAAAAAAAAAAAAAAAAAAAAAAAAAAAAAAAAAAAAAAAAAAAAAAAAAAAAAAAAAAAAAAAAAAAAAAAAAAAAAAAAAAAAAAAAAAAAAAAAAAAAAAAAAAAAAAAAAAAAAAAAAAAAAAAAAAAAAAAAAAAAAAAAAAAAAAAAAAAAAAAAAAAAAAAAAAAAAAAAAAAAAAAAAAAAAAAAAAAAAAAAAAAAAAAAAAAAAAAAAAAAAAAAAAAAAAAAAAAAAAAAAAAAAAAAAAAAAAAAAAAAAAAAAAAAAAAAAAAAAAAAAAAAAAAAAAAAAAAAAAAAAAAAAAAAAAAAAAAAAAAAAAAAAAAAAAAAAAAAAAAAAAAAAAAAAAAAAAAAAAAAAAAAAAAAAAAAAAAAAAAAAAAAAAAAAAAAAAAAAAAAAAAAAAAAAAAAAAAAAAAAAAAAAAAAAAAAAAAAAAAAAAAAAAAAAAAAAAAAAAAAAAAAAAAAAAAAAAAAAAAAAAAAAAAAAAAAAAAAAAAAAAAAAAAAAAAAAAAAAAAAAAAAAAAAAAAAAAAAAAAAAAAAAAAAAAAAAAAAAAAAAAAAAAAAAAAAAAAAAAAAAAAAAAAAAAAAAAAAAAAAAAAAAAAAAAAAAAAAAAAAAAAAAAAAAAAAAAAAAAAAAAAAAAAAAAAAAAAAAAAAAAAAAAAAAAAAAAAAAAAAAAAAAAAAAAAAAAAAAAAAAAAAAAAAAAAAAAAAAAAAAAAAAAAAAAAAAAAAAAAAAAAAAAAAAAAAAAAAAAAAAAAAAAAAAAAAAAAAAAAAAAAAAAAAAAAAAAAAAAAAAAAAAAAAAAAAAAAAAAAAAAAAAAAAAAAAAAAAAAAAAAAAAAAAAAAAAAAAAAAAAAAAAAAAAAAAAAAAAAAAAAAAAAAAAAAAAAAAAAAAAAAAAAAAAAAAAAAAAAAAAAAAAAAAAAAAAAAAAAAAAAAAAAAAAAAAAAAAAAAAAAAAAAAAAAAAAAAAAAAAAAAAAAAAAAAAAAAAAAAAAAAAAAAAAAAAAAAAAAAAAAAAAAAAAAAAAAAAAAAAAAAAAAAAAAAAAAAAAAAAAAAAAAAAAAAAAAAAAAAAAAAAAAAAAAAAAAAAAAAAAAAAAAAAAAAAAAAAAAAAAAAAAAAAAAAAAAAAAAAAAAAAAAAAAAAAAAAAAAAAAAAAAAAAAAAAAAAAAAAAAAAAAAAAAAAAAAAAAAAAAAAAAAAAAAAAAAAAAAAAAAAAAAAAAAAAAAAAAAAAAAAAAAAAAAAAAAAAAAAAAAAAAAAAAAAAAAAAAAAAAAAAAAAAAAAAAAAAAAAAAAAAAAAAAAAAAAAAAAAAAAAAAAAAAAAAAAAAAAAAAAAAAAAAAAAAAAAAAAAAAAAAAAAAAAAAAAAAAAAAAAAAAAAAAAAAAAAAAAAAAAAAAAAAAAAAAAAAAAAAAAAAAAAAAAAAAAAAAAAAAAAAAAAAAAAAAAAAAAAAAAAAAAAAAAAAAAAAAAAAAAAAAAAAAAAAAAAAAAAAAAAAAAAAAAAAAAAAAAAAAAAAAAAAAAAAAAAAAAAAAAAAAAAAAAAAAAAAAAAAAAAAAAAAAAAAAAAAAAAAAAAAAAAAAAAAAAAAAAAAAAAAAAAAAAAAAAAAAAAAAAAAAAAAAAAAAAAAAAAAAAAAAAAAAAAAAAAAAAAAAAAAAAAAAAAAAAAAAAAAAAAAAAAAAAAAAAAAAAAAAAAAAAAAAAAAAAAAAAAAAAAAAAAAAAAAAAAAAAAAAAAAAAAAAAAAAAAAAAAAAAAAAAAAAAAAAAAAAAAAAAAAAAAAAAAAAAAAAAAAAAAAAAAAAAAAAAAAAAAAAAAAAAAAAAAAAAAAAAAAAAAAAAAAAAAAAAAAAAAAAAAAAAAAAAAAAAAAAAAAAAAAAAAAAAAAAAAAAAAAAAAAAAAAAAAAAAAAAAAAAAAAAAAAAAAAAAAAAAAAAAAAAAAAAAAAAAAAAAAAAAAAAAAAAAAAAAAAAAAAAAAAAAAAAAAAAAAAAAAAAAAAAAAAAAAAAAAAAAAAAAAAAAAAAAAAAAAAAAAAAAAAAAAAAAAAAAAAAAAAAAAAAAAAAAAAAAAAAAAAAAAAAAAAAAAAAAAAAAAAAAAAAAAAAAAAAAAAAAAAAAAAAAAAAAAAAAAAAAAAAAAAAAAAAAAAAAAAAAAAAAAAAAAAAAAAAAAAAAAAAAAAAAAAAAAAAAAAAAAAAAAAAAAAAAAAAAAAAAAAAAAAAAAAAAAAAAAAAAAAAAAAAAAAAAAAAAAAAAAAAAAAAAAAAAAAAAAAAAAAAAAAAAAAAAAAAAAAAAAAAAAAAAAAAAAAAAAAAAAAAAAAAAAAAAAAAAAAAAAAAAAAAAAAAAAAAAAAAAAAAAAAAAAAAAAAAAAAAAAAAAAAAAAAAAAAAAAAAAAAAAAAAAAAAAAAAAAAAAAAAAAAAAAAAAAAAAAAAAAAAAAAAAAAAAAAAAAAAAAAAAAAAAAAAAAAAAAAAAAAAAAAAAAAAAAAAAAAAAAAAAAAAAAAAAAAAAAAAAAAAAAAAAAAAAAAAAAAAAAAAAAAAAAAAAAAAAAAAAAAAAAAAAAAAAAAAAAAAAAAAAAAAAAAAAAAAAAAAAAAAAAAAAAAAAAAAAAAAAAAAAAAAAAAAAAAAAAAAAAAAAAAAAAAAAAAAAAAAAAAAAAAAAAAAAAAAAAAAAAAAAAAAAAAAAAAAAAAAAAAAAAAAAAAAAAAAAAAAAAAAAAAAAAAAAAAAAAAAAAAAAAAAAAAAAAAAAAAAAAAAAAAAAAAAAAAAAAAAAAAAAAAAAAAAAAAAAAAAAAAAAAAAAAAAAAAAAAAAAAAAAAAAAAAAAAAAAAAAAAAAAAAAAAAAAAAAAAAAAAAAAAAAAAAAAAAAAAAAAAAAAAAAAAAAAAAAAAAAAAAAAAAAAAAAAAAAAAAAAAAAAAAAAAAAAAAAAAAAAAAAAAAAAAAAAAAAAAAAAAAAAAAAAAAAAAAAAAAAAAAAAAAAAAAAAAAAAAAAAAAAAAAAAAAAAAAAAAAAAAAAAAAAAAAAAAAAAAAAAAAAAAAAAAAAAAAAAAAAAAAAAAAAAAAAAAAAAAAAAAAAAAAAAAAAAAAAAAAAAAAAAAAAAAAAAAAAAAAAAAAAAAAAAAAAAAAAAAAAAAAAAAAAAAAAAAAAAAAAAAAAAAAAAAAAAAAAAAAAAAAAAAAAAAAAAAAAAAAAAAAAAAAAAAAAAAAAAAAAAAAAAAAAAAAAAAAAAAAAAAAAAAAAAAAAAAAAAAAAAAAAAAAAAAAAAAAAAAAAAAAAAAAAAAAAAAAAAAAAAAAAAAAAAAAAAAAAAAAAAAAAAAAAAAAAAAAAAAAAAAAAAAAAAAAAAAAAAAAAAAAAAAAAAAAAAAAAAAAAAAAAAAAAAAAAAAAAAAAAAAAAAAAAAAAAAAAAAAAAAAAAAAAAAAAAAAAAAAAAAAAAAAAAAAAAAAAAAAAAAAAAAAAAAAAAAAAAAAAAAAAAAAAAAAAAAAAAAAAAAAAAAAAAAAAAAAAAAAAAAAAAAAAAAAAAAAAAAAAAAAAAAAAAAAAAAAAAAAAAAAAAAAAAAAAAAAAAAAAAAAAAAAAAAAAAAAAAAAAAAAAAAAAAAAAAAAAAAAAAAAAAAAAAAAAAAAAAAAAAAAAAAAAAAAAAAAAAAAAAAAAAAAAAAAAAAAAAAAAAAAAAAAAAAAAAAAAAAAAAAAAAAAAAAAAAAAAAAAAAAAAAAAAAAAAAAAAAAAAAAAAAAAAAAAAAAAAAAAAAAAAAAAAAAAAAAAAAAAAAAAAAAAAAAAAAAAAAAAAAAAAAAAAAAAAAAAAAAAAAAAAAAAAAAAAAAAAAAAAAAAAAAAAAAAAAAAAAAAAAAAAAAAAAAAAAAAAAAAAAAAAAAAAAAAAAAAAAAAAAAAAAAAAAAAAAAAAAAAAAAAAAAAAAAAAAAAAAAAAAAAAAAAAAAAAAAAAAAAAAAAAAAAAAAAAAAAAAAAAAAAAAAAAAAAAAAAAAAAAAAAAAAAAAAAAAAAAAAAAAAAAAAAAAAAAAAAAAAAAAAAAAAAAAAAAAAAAAAAAAAAAAAAAAAAAAAAAAAAAAAAAAAAAAAAAAAAAAAAAAAAAAAAAAAAAAAAAAAAAAAAAAAAAAAAAAAAAAAAAAAAAAAAAAAAAAAAAAAAAAAAAAAAAAAAAAAAAAAAAAAAAAAAAAAAAAAAAAAAAAAAAAAAAAAAAAAAAAAAAAAAAAAAAAAAAAAAAAAAAAAAAAAAAAAAAAAAAAAAAAAAAAAAAAAAAAAAAAAAAAAAAAAAAAAAAAAAAAAAAAAAAAAAAAAAAAAAAAAAAAAAAAAAAAAAAAAAAAAAAAAAAAAAAAAAAAAAAAAAAAAAAAAAAAAAAAAAAAAAAAAAAAAAAAAAAAAAAAAAAAAAAAAAAAAAAAAAAAAAAAAAAAAAAAAAAAAAAAAAAAAAAAAAAAAAAAAAAAAAAAAAAAAAAAAAAAAAAAAAAAAAAAAAADAXR0OAAETEuNqAAAAAElFTkSuQmCC\" width=\"1000\">"
      ],
      "text/plain": [
       "<IPython.core.display.HTML object>"
      ]
     },
     "metadata": {},
     "output_type": "display_data"
    }
   ],
   "source": [
    "dual_train_plots(results.index,\n",
    "                 results.cost, results.val,\n",
    "                 results.cost, results.val)\n",
    "plt.tight_layout()\n",
    "plt.savefig(str(output / f'{name}_stats_a.png'))"
   ]
  },
  {
   "cell_type": "code",
   "execution_count": 22,
   "metadata": {},
   "outputs": [],
   "source": [
    "quit()"
   ]
  },
  {
   "cell_type": "code",
   "execution_count": null,
   "metadata": {},
   "outputs": [],
   "source": []
  },
  {
   "cell_type": "code",
   "execution_count": null,
   "metadata": {},
   "outputs": [],
   "source": []
  }
 ],
 "metadata": {
  "kernelspec": {
   "display_name": "goofit-june2020",
   "language": "python",
   "name": "goofit-june2020"
  },
  "language_info": {
   "codemirror_mode": {
    "name": "ipython",
    "version": 3
   },
   "file_extension": ".py",
   "mimetype": "text/x-python",
   "name": "python",
   "nbconvert_exporter": "python",
   "pygments_lexer": "ipython3",
   "version": "3.7.6"
  }
 },
 "nbformat": 4,
 "nbformat_minor": 2
}
