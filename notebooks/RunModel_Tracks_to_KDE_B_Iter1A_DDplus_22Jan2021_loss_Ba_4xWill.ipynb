{
 "cells": [
  {
   "cell_type": "code",
   "execution_count": 1,
   "metadata": {},
   "outputs": [],
   "source": [
    "##%matplotlib widget\n",
    "## with %matplotlib notebook: seems to require ipympl as part of environment, either\n",
    "## part of the conda environment or \"pip install ipympl\"\n",
    "## otherwise, does not show ANY plots in note\"book, plt.savefig() works\n",
    "%matplotlib notebook  \n",
    "##%matplotlib inline    ## --plt.savefig()  works, but re-sizing does NOT\n"
   ]
  },
  {
   "cell_type": "markdown",
   "metadata": {},
   "source": [
    "This notebook is the second attempt to read in track information and use it to predict the KDE used as input to PvFinder. This time, we are reading in poca KDEs rather than the original KDEs. \n",
    "\n",
    "collectdata_kde_C.py uses poca_z, poca_x, poca_y, major_axis_x, major_axis_y, and major_axis_z as the six track parameters (for the moment)\n"
   ]
  },
  {
   "cell_type": "markdown",
   "metadata": {},
   "source": [
    "Check the current GPU usage. Please try to be nice!"
   ]
  },
  {
   "cell_type": "code",
   "execution_count": 2,
   "metadata": {},
   "outputs": [
    {
     "name": "stdout",
     "output_type": "stream",
     "text": [
      "Fri Jan 22 23:01:14 2021       \r\n",
      "+-----------------------------------------------------------------------------+\r\n",
      "| NVIDIA-SMI 450.36.06    Driver Version: 450.36.06    CUDA Version: 11.0     |\r\n",
      "|-------------------------------+----------------------+----------------------+\r\n",
      "| GPU  Name        Persistence-M| Bus-Id        Disp.A | Volatile Uncorr. ECC |\r\n",
      "| Fan  Temp  Perf  Pwr:Usage/Cap|         Memory-Usage | GPU-Util  Compute M. |\r\n",
      "|                               |                      |               MIG M. |\r\n",
      "|===============================+======================+======================|\r\n",
      "|   0  GeForce RTX 208...  On   | 00000000:18:00.0 Off |                  N/A |\r\n",
      "| 29%   35C    P8    38W / 250W |   8135MiB / 11019MiB |      0%      Default |\r\n",
      "|                               |                      |                  N/A |\r\n",
      "+-------------------------------+----------------------+----------------------+\r\n",
      "|   1  GeForce RTX 208...  On   | 00000000:3B:00.0 Off |                  N/A |\r\n",
      "| 29%   36C    P8    39W / 250W |     60MiB / 11019MiB |      0%      Default |\r\n",
      "|                               |                      |                  N/A |\r\n",
      "+-------------------------------+----------------------+----------------------+\r\n",
      "                                                                               \r\n",
      "+-----------------------------------------------------------------------------+\r\n",
      "| Processes:                                                                  |\r\n",
      "|  GPU   GI   CI        PID   Type   Process name                  GPU Memory |\r\n",
      "|        ID   ID                                                   Usage      |\r\n",
      "|=============================================================================|\r\n",
      "|    0   N/A  N/A     32433      C   ...s/june2020-gpu/bin/python     8131MiB |\r\n",
      "|    1   N/A  N/A      3736      G   /usr/bin/X                         33MiB |\r\n",
      "|    1   N/A  N/A      3790      G   /usr/bin/gnome-shell               24MiB |\r\n",
      "+-----------------------------------------------------------------------------+\r\n"
     ]
    }
   ],
   "source": [
    "!nvidia-smi"
   ]
  },
  {
   "cell_type": "markdown",
   "metadata": {},
   "source": [
    "> **WARNING**: The card numbers here are *not* the same as in CUDA. You have been warned."
   ]
  },
  {
   "cell_type": "markdown",
   "metadata": {},
   "source": [
    "This notebook is first attempt to read in track information and use it to predict the KDE used as input to PvFinder.\n"
   ]
  },
  {
   "cell_type": "markdown",
   "metadata": {},
   "source": [
    "## Imports"
   ]
  },
  {
   "cell_type": "code",
   "execution_count": 3,
   "metadata": {},
   "outputs": [],
   "source": [
    "import matplotlib.pyplot as plt\n",
    "import numpy as np\n",
    "import time\n",
    "import torch\n",
    "import pandas as pd\n",
    "\n",
    "# Python 3 standard library\n",
    "from pathlib import Path\n",
    "\n",
    "##from torchsummary import summary"
   ]
  },
  {
   "cell_type": "markdown",
   "metadata": {},
   "source": [
    "### Set up local parameters"
   ]
  },
  {
   "cell_type": "code",
   "execution_count": 4,
   "metadata": {},
   "outputs": [],
   "source": [
    "n_epochs = 60\n",
    "\n",
    "# Name is the output file name\n",
    "\n",
    "\n",
    "\n",
    "\n",
    "\n",
    "folder = '22Jan_DDplus_KDE_B_loss_Ba_iter1A_floatAll_60epochs_1em5_4xwill'\n",
    "name   = folder\n",
    "\n",
    "# Make an output folder named \"name\" (change if you want)\n",
    "\n",
    "## Special instructions for those working on goofy at UC\n",
    "## Please be very careful to make sure that your folder\n",
    "## does not live in a subdirectory of your home directory\n",
    "## this disk has very little capacity. Instead, use \n",
    "## a subdirectory in /share/lazy with a symbolic link to\n",
    "## it in this (the notebooks) subdirectory\n",
    "folder = 'ML/' + folder\n",
    "output = Path(folder)\n",
    "\n",
    "\n",
    "# Size of batches\n",
    "batch_size = 48 ## batch_size = 24 ---> 4763MiB / 12066MiB on Titan V\n",
    "# How fast to learn\n",
    "learning_rate = 1e-5"
   ]
  },
  {
   "cell_type": "markdown",
   "metadata": {},
   "source": [
    "Make the output directory if it does not exist:"
   ]
  },
  {
   "cell_type": "code",
   "execution_count": 5,
   "metadata": {},
   "outputs": [],
   "source": [
    "output.mkdir(exist_ok=True)"
   ]
  },
  {
   "cell_type": "markdown",
   "metadata": {},
   "source": [
    "## Get the helper functions\n",
    "\n",
    "Add the directory with the model\n",
    "definitions to the path so we can import from it:\n",
    "\n",
    "> When you type `import X`,\n",
    "Python searches `sys.path` for a python\n",
    "file named `X.py` to import. So we need to add the model directory to the path."
   ]
  },
  {
   "cell_type": "code",
   "execution_count": 6,
   "metadata": {
    "scrolled": true
   },
   "outputs": [],
   "source": [
    "# From model/collectdata.py\n",
    "##from model.collectdata_kde_B import collect_t2kde_data\n",
    "## collectdata_kde_C should use the new poca KDE rather than the original kernel KDE\n",
    "from model.collectdata_kdeB_Ellipsoids import collect_t2kde_data\n",
    "\n",
    "\n",
    "# From model/loss.py\n",
    "##from loss import Loss\n",
    "## kde_loss_D includes botha ratio term and a chisq term, 98% ave_chisq\n",
    "## kde_loss_E adds a chi^4 term to the kde_loss_D return value\n",
    "## this is intended to emphasize the importance of values significantly different than zero\n",
    "from model.kde_loss_Ba import Loss\n",
    "\n",
    "##  TracksToKDE_Ellipsoids_SevenLayerCake has 7 hidden layers producing the 4000-bin KDE historgram\n",
    "##  It takes 9 input features (pocca centers + (A,B,C,D,E,F) . \n",
    "from model.models_kde import TracksToKDE_Ellipsoids_DDplus as Model\n",
    "\n",
    "\n",
    "from model.training_kde import trainNet, select_gpu, Results\n",
    "from model.plots import dual_train_plots, replace_in_ax"
   ]
  },
  {
   "cell_type": "code",
   "execution_count": 7,
   "metadata": {},
   "outputs": [],
   "source": [
    "# This gets built up during the run - do not rerun this cell\n",
    "results = pd.DataFrame([], columns=Results._fields)"
   ]
  },
  {
   "cell_type": "markdown",
   "metadata": {},
   "source": [
    "Set up Torch device configuration. All tensors and model parameters need to know where to be put.\n",
    "This takes a BUS ID number: The BUS ID is the same as the listing at the top of this script."
   ]
  },
  {
   "cell_type": "code",
   "execution_count": 8,
   "metadata": {},
   "outputs": [
    {
     "name": "stdout",
     "output_type": "stream",
     "text": [
      "1 available GPUs (initially using device 0):\n",
      "  0 GeForce RTX 2080 Ti\n"
     ]
    }
   ],
   "source": [
    "device = select_gpu(1)\n",
    "##device = \"cpu\""
   ]
  },
  {
   "cell_type": "markdown",
   "metadata": {},
   "source": [
    "## Loading data\n",
    "\n",
    "Load the dataset, split into parts, then move to device (see `collectdata.py` in the `../model` directory)"
   ]
  },
  {
   "cell_type": "markdown",
   "metadata": {},
   "source": [
    "# Preparing the model"
   ]
  },
  {
   "cell_type": "markdown",
   "metadata": {},
   "source": [
    "Prepare a model, use multiple GPUs if they are VISIBLE, and move the model to the device."
   ]
  },
  {
   "cell_type": "code",
   "execution_count": 9,
   "metadata": {
    "scrolled": true
   },
   "outputs": [],
   "source": [
    "##print(\"Let's use\", torch.cuda.device_count(), \"GPUs!\")\n",
    "##if torch.cuda.device_count() > 1:\n",
    "##    model = torch.nn.DataParallel(model)"
   ]
  },
  {
   "cell_type": "code",
   "execution_count": 10,
   "metadata": {},
   "outputs": [
    {
     "name": "stdout",
     "output_type": "stream",
     "text": [
      "ct, child =  0    Linear(in_features=9, out_features=50, bias=True)\n",
      "ct, child =  1    Linear(in_features=50, out_features=50, bias=True)\n",
      "ct, child =  2    Linear(in_features=50, out_features=50, bias=True)\n",
      "ct, child =  3    Linear(in_features=50, out_features=50, bias=True)\n",
      "ct, child =  4    Linear(in_features=50, out_features=50, bias=True)\n",
      "ct, child =  5    Linear(in_features=50, out_features=50, bias=True)\n",
      "ct, child =  6    Linear(in_features=50, out_features=50, bias=True)\n",
      "ct, child =  7    Linear(in_features=50, out_features=50, bias=True)\n",
      "ct, child =  8    Linear(in_features=50, out_features=50, bias=True)\n",
      "ct, child =  9    Linear(in_features=50, out_features=50, bias=True)\n",
      "ct, child =  10    Linear(in_features=50, out_features=50, bias=True)\n",
      "ct, child =  11    Linear(in_features=50, out_features=16000, bias=True)\n",
      "ct, child =  12    Conv1d(4, 25, kernel_size=(25,), stride=(1,), padding=(12,))\n",
      "ct, child =  13    Conv1d(25, 1, kernel_size=(5,), stride=(1,), padding=(2,))\n",
      "ct, child =  14    Linear(in_features=4000, out_features=4000, bias=True)\n",
      "ct, child =  15    Conv1d(25, 1, kernel_size=(15,), stride=(1,), padding=(7,))\n",
      "ct, child =  16    Dropout(p=0.15, inplace=False)\n",
      "ct, child =  17    Dropout(p=0.15, inplace=False)\n"
     ]
    }
   ],
   "source": [
    "## a comment on the web at https://pytorch.org/docs/stable/optim.html says\n",
    "\"\"\"\n",
    "If you need to move a model to GPU via .cuda(), please do so before constructing optimizers for it. \n",
    "Parameters of a model after .cuda() will be different objects with those before the call.\n",
    "\n",
    "In general, you should make sure that optimized parameters live in consistent locations when \n",
    "optimizers are constructed and used.\n",
    "\"\"\"\n",
    "## so move this here (although we are using model.to(device) not explicitly using .cuda()\n",
    "\n",
    "nOut1 = 50\n",
    "nOut2 = 50\n",
    "nOut3 = 50\n",
    "nOut4 = 50\n",
    "nOut5 = 50\n",
    "nOut6 = 50\n",
    "nOut7 = 50\n",
    "nOut8 = 50\n",
    "nOut9 = 50\n",
    "nOut10 = 50\n",
    "nOut11 = 50\n",
    "latentChannels = 4\n",
    "model = Model(nOut1,nOut2,nOut3,nOut4,nOut5,nOut6,nOut7,nOut8,nOut9,nOut10,nOut11,latentChannels)\n",
    "\n",
    "##summary(model, input_size=(4, 4000))\n",
    "##print(model.parameters)\n",
    "\n",
    "## add the following code to allow the user to freeze the some of the weights corresponding \n",
    "## to those taken from an earlier model trained with the original target histograms\n",
    "## presumably -- this leaves either the perturbative filter \"fixed\" and lets the \n",
    "## learning focus on the non-perturbative features, so get started faster, or vice versa\n",
    "ct = 0\n",
    "for child in model.children():\n",
    "  print('ct, child = ',ct, \"  \", child)\n",
    "  if ct < 0:\n",
    "    print(\"     About to set param.requires_grad=False for ct = \", ct, \"params\")\n",
    "    for param in child.parameters():\n",
    "        param.requires_grad = False \n",
    "  ct += 1\n",
    "##  mds 200121 loss = Loss(epsilon=1e-5,coefficient=1.0)\n",
    "##  loss = Loss(epsilon=1e-5,coefficient=2.5)\n",
    "##loss = Loss(epsilon=3e-5, debug=False)\n",
    "loss = Loss(epsilon=3e-5)"
   ]
  },
  {
   "cell_type": "markdown",
   "metadata": {},
   "source": [
    "Let's move the model's weight matricies to the GPU:"
   ]
  },
  {
   "cell_type": "code",
   "execution_count": 11,
   "metadata": {
    "scrolled": true
   },
   "outputs": [],
   "source": [
    "model = model.to(device)"
   ]
  },
  {
   "cell_type": "code",
   "execution_count": 12,
   "metadata": {
    "scrolled": true
   },
   "outputs": [],
   "source": [
    "optimizer = torch.optim.Adam(model.parameters(), lr=learning_rate)\n",
    "##optimizer = torch.optim.SGD(model.parameters(), lr=learning_rate)"
   ]
  },
  {
   "cell_type": "code",
   "execution_count": 13,
   "metadata": {
    "scrolled": false
   },
   "outputs": [
    {
     "name": "stdout",
     "output_type": "stream",
     "text": [
      "output =  ML/22Jan_DDplus_KDE_B_loss_Ba_iter1A_floatAll_60epochs_1em5_4xwill\n",
      "for model_dict\n",
      "index, k =   0    layer1.weight\n",
      "index, k =   1    layer1.bias\n",
      "index, k =   2    layer2.weight\n",
      "index, k =   3    layer2.bias\n",
      "index, k =   4    layer3.weight\n",
      "index, k =   5    layer3.bias\n",
      "index, k =   6    layer4.weight\n",
      "index, k =   7    layer4.bias\n",
      "index, k =   8    layer5.weight\n",
      "index, k =   9    layer5.bias\n",
      "index, k =   10    layer6.weight\n",
      "index, k =   11    layer6.bias\n",
      "index, k =   12    layer7.weight\n",
      "index, k =   13    layer7.bias\n",
      "index, k =   14    layer8.weight\n",
      "index, k =   15    layer8.bias\n",
      "index, k =   16    layer9.weight\n",
      "index, k =   17    layer9.bias\n",
      "index, k =   18    layer10.weight\n",
      "index, k =   19    layer10.bias\n",
      "index, k =   20    layer11.weight\n",
      "index, k =   21    layer11.bias\n",
      "index, k =   22    layer12new.weight\n",
      "index, k =   23    layer12new.bias\n",
      "index, k =   24    conv1.weight\n",
      "index, k =   25    conv1.bias\n",
      "index, k =   26    conv2.weight\n",
      "index, k =   27    conv2.bias\n",
      "index, k =   28    fc1.weight\n",
      "index, k =   29    fc1.bias\n",
      "index, k =   30    finalFilter.weight\n",
      "index, k =   31    finalFilter.bias\n",
      "dict_name =  ML/22Jan_DDplus_KDE_B_loss_Ba_iter0A_floatAll_6epochs_1em5_4xwill/22Jan_DDplus_KDE_B_loss_Ba_iter0A_floatAll_6epochs_1em5_4xwill_final.pyt\n",
      " \n",
      "  for pretrained_dict\n",
      "index, k =   0    layer1.weight\n",
      "index, k =   1    layer1.bias\n",
      "index, k =   2    layer2.weight\n",
      "index, k =   3    layer2.bias\n",
      "index, k =   4    layer3.weight\n",
      "index, k =   5    layer3.bias\n",
      "index, k =   6    layer4.weight\n",
      "index, k =   7    layer4.bias\n",
      "index, k =   8    layer5.weight\n",
      "index, k =   9    layer5.bias\n",
      "index, k =   10    layer6.weight\n",
      "index, k =   11    layer6.bias\n",
      "index, k =   12    layer7.weight\n",
      "index, k =   13    layer7.bias\n",
      "index, k =   14    layer8.weight\n",
      "index, k =   15    layer8.bias\n",
      "index, k =   16    layer9.weight\n",
      "index, k =   17    layer9.bias\n",
      "index, k =   18    layer10.weight\n",
      "index, k =   19    layer10.bias\n",
      "index, k =   20    layer11.weight\n",
      "index, k =   21    layer11.bias\n",
      "index, k =   22    layer12new.weight\n",
      "index, k =   23    layer12new.bias\n",
      "index, k =   24    conv1.weight\n",
      "index, k =   25    conv1.bias\n",
      "index, k =   26    conv2.weight\n",
      "index, k =   27    conv2.bias\n",
      "index, k =   28    fc1.weight\n",
      "index, k =   29    fc1.bias\n",
      "index, k =   30    finalFilter.weight\n",
      "index, k =   31    finalFilter.bias\n",
      "pretrained_dict iterated\n"
     ]
    },
    {
     "data": {
      "text/plain": [
       "<All keys matched successfully>"
      ]
     },
     "execution_count": 13,
     "metadata": {},
     "output_type": "execute_result"
    }
   ],
   "source": [
    "print('output = ',output)\n",
    "##print('oldOutput = ',oldOutput)\n",
    "##  use the first four layers from a pre-existing model\n",
    "##  see example at https://discuss.pytorch.org/t/how-to-load-part-of-pre-trained-model/1113\n",
    "\n",
    "##   ML -> /share/lazy/sokoloff/ML\n",
    "model_dict = model.state_dict()\n",
    "## mds 190725 for debugging\n",
    "print(\"for model_dict\")\n",
    "index = 0\n",
    "for k,v in model_dict.items():\n",
    "    print(\"index, k =  \",index,\"  \",k)\n",
    "    index = index+1\n",
    "##    print(\"value = \", v)\n",
    " \n",
    "updated_dict = model_dict\n",
    "##print(\"updated_dict = \",updated_dict)\n",
    "## when starting \"ab initio\", reduce biases as the bias gets summed for each track\n",
    "## contributing to the predicted KDE\n",
    "updated_dict[\"layer1.bias\"] = 0.005*model_dict[\"layer1.bias\"]\n",
    "updated_dict[\"layer2.bias\"] = 0.005*model_dict[\"layer2.bias\"]\n",
    "updated_dict[\"layer3.bias\"] = 0.005*model_dict[\"layer3.bias\"]\n",
    "updated_dict[\"layer4.bias\"] = 0.005*model_dict[\"layer4.bias\"]\n",
    "updated_dict[\"layer5.bias\"] = 0.005*model_dict[\"layer5.bias\"]\n",
    "updated_dict[\"layer6.bias\"] = 0.005*model_dict[\"layer6.bias\"]\n",
    "updated_dict[\"layer7.bias\"] = 0.005*model_dict[\"layer7.bias\"]\n",
    "updated_dict[\"layer8.bias\"] = 0.005*model_dict[\"layer8.bias\"]\n",
    "updated_dict[\"layer9.bias\"] = 0.005*model_dict[\"layer9.bias\"]\n",
    "updated_dict[\"layer10.bias\"] = 0.005*model_dict[\"layer10.bias\"]\n",
    "updated_dict[\"layer11.bias\"] = 0.005*model_dict[\"layer11.bias\"]\n",
    "\n",
    "model.load_state_dict(updated_dict,strict=False)\n",
    "\n",
    "model_dict = model.state_dict()\n",
    "##print(\"updated model_dict = \",model_dict)\n",
    "\n",
    "## print(\" \\n\",\"  for pretrained_dict\")\n",
    "## index = 0\n",
    "##for k,v in pretrained_dict.items():\n",
    "##    print(\"index, k =  \",index,\"  \",k)\n",
    "##    index = index+1\n",
    "## mds  \n",
    "\n",
    "##pretrained_dict = torch.load('ML/29July2020_Trks_to_KDE_C_lossB_100epochs_b64_1m3_nOut_50x50/29July2020_Trks_to_KDE_C_lossB_100epochs_b64_1m3_nOut_50x50_final.pyt')\n",
    "##print(\"model_dict instantiated\")\n",
    "# 1. filter out unnecessary keys\n",
    "##pretrained_dict = {k: v for k, v in pretrained_dict.items() if k in model_dict}\n",
    "##print(\"pretrained_dict iterated\")\n",
    "# 2. overwrite entries in the existing state dict\n",
    "##model_dict.update(pretrained_dict) \n",
    "##\n",
    "#   when starting from a model with a fully connected last layer rather than a convolutional layer\n",
    "# 3. load the new state dict\n",
    "#   need to use strict=False as the two models state model attributes do not agree exactly\n",
    "#   see https://pytorch.org/docs/master/_modules/torch/nn/modules/module.html#Module.load_state_dict\n",
    "\n",
    "##model.load_state_dict(pretrained_dict,strict=False)\n",
    "\n",
    "## print('model_dict =    ', model_dict)\n",
    "\n",
    "## finished at training cost = 1.46, validation cost = 1.50\n",
    "##d_folder = '25December__DDplus_loss_Ba_iter7_floatAll_800epochs_4em6'\n",
    "d_folder = '22Jan_DDplus_KDE_B_loss_Ba_iter0A_floatAll_6epochs_1em5_4xwill'\n",
    "d_name = d_folder\n",
    "suffix = 'final'\n",
    "dict_name = 'ML/' + d_folder + '/' + d_name + '_'+ suffix + '.pyt'\n",
    "print('dict_name = ',dict_name)\n",
    "pretrained_dict = torch.load(dict_name)\n",
    "\n",
    "print(\" \")\n",
    "print(\"  for pretrained_dict\")\n",
    "index = 0\n",
    "for k,v in pretrained_dict.items():\n",
    "    print(\"index, k =  \",index,\"  \",k)\n",
    "    index = index+1\n",
    " \n",
    "\n",
    "##print(\"model_dict instantiated\")\n",
    "# 1. filter out unnecessary keys\n",
    "pretrained_dict = {k: v for k, v in pretrained_dict.items() if k in model_dict}\n",
    "print(\"pretrained_dict iterated\")\n",
    "# 2. overwrite entries in the existing state dict\n",
    "model_dict.update(pretrained_dict) \n",
    "##\n",
    "#   when starting from a model with a fully connected last layer rather than a convolutional layer\n",
    "# 3. load the new state dict\n",
    "#   need to use strict=False as the two models state model attributes do not agree exactly\n",
    "#   see https://pytorch.org/docs/master/_modules/torch/nn/modules/module.html#Module.load_state_dict\n",
    "\n",
    "model.load_state_dict(pretrained_dict,strict=False)\n",
    "\n"
   ]
  },
  {
   "cell_type": "code",
   "execution_count": 14,
   "metadata": {},
   "outputs": [],
   "source": [
    "##print('validation.dataset.tensors = ',validation.dataset.tensors)\n",
    "fig_size = plt.rcParams[\"figure.figsize\"]\n",
    "fig_size[0] = 10\n",
    "fig_size[1] = 4\n",
    "plt.rcParams[\"figure.figsize\"] = fig_size"
   ]
  },
  {
   "cell_type": "code",
   "execution_count": 15,
   "metadata": {
    "scrolled": false
   },
   "outputs": [
    {
     "name": "stdout",
     "output_type": "stream",
     "text": [
      "Loading data...\n",
      "pocaMx.shape =  (80000,)\n",
      "nEvts =  80000\n",
      "len(pocaMx[0]) =  199\n",
      "len(pocaMx[1]) =  25\n",
      "len(pocaMx[2]) =  369\n",
      "len(pocaMx[3]) =  143\n",
      "len(pocaMx[4]) =  160\n",
      "majorAxis.shape =  (80000, 3)\n",
      "minorAxis_1.shape =  (80000, 3)\n",
      "minorAxis_2.shape =  (80000, 3)\n",
      "have entered six_ellipsoid_parameters\n",
      "  \n",
      " \n",
      "  nEvts =  80000\n",
      " iEvt, nTrks =  0 199\n",
      " iEvt, nTrks =  1 25\n",
      " iEvt, nTrks =  2 369\n",
      " iEvt, nTrks =  3 143\n",
      " iEvt, nTrks =  4 160\n",
      " iEvt, nTrks =  5 260\n",
      " iEvt, nTrks =  6 237\n",
      " iEvt, nTrks =  7 327\n",
      " iEvt, nTrks =  8 178\n",
      " iEvt, nTrks =  9 106\n",
      "A.shape =  (80000,)\n",
      "majorAxis[iTrk][0][0] =  0.00045611936\n",
      "majorAxis[iTrk][1][0] =  -4.8292455e-05\n",
      "majorAxis[iTrk][2][0] =  0.090019904\n",
      "minorAxis_1[iTrk][0][0] =  -1.8602173\n",
      "minorAxis_1[iTrk][1][0] =  -17.569641\n",
      "minorAxis_1[iTrk][2][0] =  4.7891795e-08\n",
      "minorAxis_2[iTrk][0][0] =  -17.569414\n",
      "minorAxis_2[iTrk][1][0] =  1.8601931\n",
      "minorAxis_2[iTrk][2][0] =  0.0900199\n",
      "  \n",
      "majorAxis[iTrk][0][0] =  0.002360258\n",
      "majorAxis[iTrk][1][0] =  -0.007426616\n",
      "majorAxis[iTrk][2][0] =  0.3710108\n",
      "minorAxis_1[iTrk][0][0] =  -16.837948\n",
      "minorAxis_1[iTrk][1][0] =  -5.3512807\n",
      "minorAxis_1[iTrk][2][0] =  8.157131e-09\n",
      "minorAxis_2[iTrk][0][0] =  -5.3501005\n",
      "minorAxis_2[iTrk][1][0] =  16.834236\n",
      "minorAxis_2[iTrk][2][0] =  0.3710108\n",
      "  \n",
      "majorAxis[iTrk][0][0] =  6.220712e-05\n",
      "majorAxis[iTrk][1][0] =  -4.4594188e-05\n",
      "majorAxis[iTrk][2][0] =  0.036773544\n",
      "minorAxis_1[iTrk][0][0] =  10.293747\n",
      "minorAxis_1[iTrk][1][0] =  14.359369\n",
      "minorAxis_1[iTrk][2][0] =  1.571041e-06\n",
      "minorAxis_2[iTrk][0][0] =  14.359338\n",
      "minorAxis_2[iTrk][1][0] =  -10.293725\n",
      "minorAxis_2[iTrk][2][0] =  -0.03677354\n",
      "  \n",
      "len(X) =  80000\n",
      "len(Xlist) =  1\n",
      "Loaded /share/lazy/will/data/June30_2020_80k_1.h5 in 121.2 s\n",
      "pocaMx.shape =  (80000,)\n",
      "nEvts =  80000\n",
      "len(pocaMx[0]) =  222\n",
      "len(pocaMx[1]) =  133\n",
      "len(pocaMx[2]) =  259\n",
      "len(pocaMx[3]) =  114\n",
      "len(pocaMx[4]) =  143\n",
      "majorAxis.shape =  (80000, 3)\n",
      "minorAxis_1.shape =  (80000, 3)\n",
      "minorAxis_2.shape =  (80000, 3)\n",
      "have entered six_ellipsoid_parameters\n",
      "  \n",
      " \n",
      "  nEvts =  80000\n",
      " iEvt, nTrks =  0 222\n",
      " iEvt, nTrks =  1 133\n",
      " iEvt, nTrks =  2 259\n",
      " iEvt, nTrks =  3 114\n",
      " iEvt, nTrks =  4 143\n",
      " iEvt, nTrks =  5 136\n",
      " iEvt, nTrks =  6 397\n",
      " iEvt, nTrks =  7 370\n",
      " iEvt, nTrks =  8 97\n",
      " iEvt, nTrks =  9 67\n",
      "A.shape =  (80000,)\n",
      "majorAxis[iTrk][0][0] =  -0.001036478\n",
      "majorAxis[iTrk][1][0] =  0.0009833863\n",
      "majorAxis[iTrk][2][0] =  0.15887721\n",
      "minorAxis_1[iTrk][0][0] =  -12.160475\n",
      "minorAxis_1[iTrk][1][0] =  -12.817002\n",
      "minorAxis_1[iTrk][2][0] =  0.0\n",
      "minorAxis_2[iTrk][0][0] =  -12.816484\n",
      "minorAxis_2[iTrk][1][0] =  12.159985\n",
      "minorAxis_2[iTrk][2][0] =  -0.15887721\n",
      "  \n",
      "majorAxis[iTrk][0][0] =  0.0016579849\n",
      "majorAxis[iTrk][1][0] =  0.0020989499\n",
      "majorAxis[iTrk][2][0] =  0.21738033\n",
      "minorAxis_1[iTrk][0][0] =  -13.864233\n",
      "minorAxis_1[iTrk][1][0] =  10.95152\n",
      "minorAxis_1[iTrk][2][0] =  -3.3017489e-09\n",
      "minorAxis_2[iTrk][0][0] =  10.95069\n",
      "minorAxis_2[iTrk][1][0] =  13.863184\n",
      "minorAxis_2[iTrk][2][0] =  -0.21738033\n",
      "  \n",
      "majorAxis[iTrk][0][0] =  0.00012481198\n",
      "majorAxis[iTrk][1][0] =  -0.00028747538\n",
      "majorAxis[iTrk][2][0] =  0.07441149\n",
      "minorAxis_1[iTrk][0][0] =  -16.206305\n",
      "minorAxis_1[iTrk][1][0] =  -7.036224\n",
      "minorAxis_1[iTrk][2][0] =  5.3456716e-08\n",
      "minorAxis_2[iTrk][0][0] =  -7.0361605\n",
      "minorAxis_2[iTrk][1][0] =  16.20616\n",
      "minorAxis_2[iTrk][2][0] =  0.07441148\n",
      "  \n",
      "len(X) =  80000\n",
      "len(Xlist) =  2\n",
      "Loaded /share/lazy/will/data/June30_2020_80k_2.h5 in 122.7 s\n",
      "pocaMx.shape =  (80000,)\n",
      "nEvts =  80000\n",
      "len(pocaMx[0]) =  196\n",
      "len(pocaMx[1]) =  35\n",
      "len(pocaMx[2]) =  265\n",
      "len(pocaMx[3]) =  128\n",
      "len(pocaMx[4]) =  124\n",
      "majorAxis.shape =  (80000, 3)\n",
      "minorAxis_1.shape =  (80000, 3)\n",
      "minorAxis_2.shape =  (80000, 3)\n",
      "have entered six_ellipsoid_parameters\n",
      "  \n",
      " \n",
      "  nEvts =  80000\n",
      " iEvt, nTrks =  0 196\n",
      " iEvt, nTrks =  1 35\n",
      " iEvt, nTrks =  2 265\n",
      " iEvt, nTrks =  3 128\n",
      " iEvt, nTrks =  4 124\n",
      " iEvt, nTrks =  5 122\n",
      " iEvt, nTrks =  6 300\n",
      " iEvt, nTrks =  7 179\n",
      " iEvt, nTrks =  8 243\n",
      " iEvt, nTrks =  9 112\n",
      "A.shape =  (80000,)\n",
      "majorAxis[iTrk][0][0] =  -2.440992e-05\n",
      "majorAxis[iTrk][1][0] =  -0.00038087237\n",
      "majorAxis[iTrk][2][0] =  0.08211532\n",
      "minorAxis_1[iTrk][0][0] =  -17.631672\n",
      "minorAxis_1[iTrk][1][0] =  1.130005\n",
      "minorAxis_1[iTrk][2][0] =  4.7444193e-08\n",
      "minorAxis_2[iTrk][0][0] =  1.1299927\n",
      "minorAxis_2[iTrk][1][0] =  17.631481\n",
      "minorAxis_2[iTrk][2][0] =  0.08211532\n",
      "  \n",
      "majorAxis[iTrk][0][0] =  -0.02277395\n",
      "majorAxis[iTrk][1][0] =  0.0014473597\n",
      "majorAxis[iTrk][2][0] =  0.6347583\n",
      "minorAxis_1[iTrk][0][0] =  -1.1205891\n",
      "minorAxis_1[iTrk][1][0] =  -17.632273\n",
      "minorAxis_1[iTrk][2][0] =  2.1543272e-09\n",
      "minorAxis_2[iTrk][0][0] =  -17.620888\n",
      "minorAxis_2[iTrk][1][0] =  1.1198657\n",
      "minorAxis_2[iTrk][2][0] =  -0.63475823\n",
      "  \n",
      "majorAxis[iTrk][0][0] =  0.0004024825\n",
      "majorAxis[iTrk][1][0] =  -0.00023784715\n",
      "majorAxis[iTrk][2][0] =  0.090883136\n",
      "minorAxis_1[iTrk][0][0] =  -8.988615\n",
      "minorAxis_1[iTrk][1][0] =  -15.210441\n",
      "minorAxis_1[iTrk][2][0] =  -6.56547e-08\n",
      "minorAxis_2[iTrk][0][0] =  -15.21024\n",
      "minorAxis_2[iTrk][1][0] =  8.988497\n",
      "minorAxis_2[iTrk][2][0] =  0.090883136\n",
      "  \n",
      "len(X) =  80000\n",
      "len(Xlist) =  3\n",
      "Loaded /share/lazy/will/data/June30_2020_80k_3.h5 in 123.8 s\n",
      "pocaMx.shape =  (80000,)\n",
      "nEvts =  80000\n",
      "len(pocaMx[0]) =  204\n",
      "len(pocaMx[1]) =  33\n",
      "len(pocaMx[2]) =  206\n",
      "len(pocaMx[3]) =  150\n",
      "len(pocaMx[4]) =  96\n",
      "majorAxis.shape =  (80000, 3)\n",
      "minorAxis_1.shape =  (80000, 3)\n",
      "minorAxis_2.shape =  (80000, 3)\n",
      "have entered six_ellipsoid_parameters\n",
      "  \n",
      " \n",
      "  nEvts =  80000\n",
      " iEvt, nTrks =  0 204\n",
      " iEvt, nTrks =  1 33\n",
      " iEvt, nTrks =  2 206\n",
      " iEvt, nTrks =  3 150\n",
      " iEvt, nTrks =  4 96\n",
      " iEvt, nTrks =  5 10\n",
      " iEvt, nTrks =  6 174\n",
      " iEvt, nTrks =  7 320\n",
      " iEvt, nTrks =  8 164\n",
      " iEvt, nTrks =  9 119\n",
      "A.shape =  (80000,)\n",
      "majorAxis[iTrk][0][0] =  0.00057876867\n",
      "majorAxis[iTrk][1][0] =  0.00037603904\n",
      "majorAxis[iTrk][2][0] =  0.110427074\n",
      "minorAxis_1[iTrk][0][0] =  9.62588\n",
      "minorAxis_1[iTrk][1][0] =  -14.81537\n",
      "minorAxis_1[iTrk][2][0] =  8.391163e-09\n",
      "minorAxis_2[iTrk][0][0] =  -14.815081\n",
      "minorAxis_2[iTrk][1][0] =  -9.625692\n",
      "minorAxis_2[iTrk][2][0] =  0.11042709\n",
      "  \n",
      "majorAxis[iTrk][0][0] =  -7.687664e-05\n",
      "majorAxis[iTrk][1][0] =  -0.0017985329\n",
      "majorAxis[iTrk][2][0] =  0.17833562\n",
      "minorAxis_1[iTrk][0][0] =  -17.651728\n",
      "minorAxis_1[iTrk][1][0] =  0.7545069\n",
      "minorAxis_1[iTrk][2][0] =  -7.932265e-09\n",
      "minorAxis_2[iTrk][0][0] =  0.75446844\n",
      "minorAxis_2[iTrk][1][0] =  17.650827\n",
      "minorAxis_2[iTrk][2][0] =  0.17833562\n",
      "  \n",
      "majorAxis[iTrk][0][0] =  4.5855802e-05\n",
      "majorAxis[iTrk][1][0] =  -0.00054240844\n",
      "majorAxis[iTrk][2][0] =  0.098067455\n",
      "minorAxis_1[iTrk][0][0] =  17.605043\n",
      "minorAxis_1[iTrk][1][0] =  1.4883496\n",
      "minorAxis_1[iTrk][2][0] =  -2.7847218e-08\n",
      "minorAxis_2[iTrk][0][0] =  1.4883265\n",
      "minorAxis_2[iTrk][1][0] =  -17.604773\n",
      "minorAxis_2[iTrk][2][0] =  -0.098067455\n",
      "  \n",
      "len(X) =  80000\n",
      "len(Xlist) =  4\n",
      "Loaded /share/lazy/will/data/June30_2020_80k_4.h5 in 122.7 s\n",
      "outer loop X.shape =  (320000, 9, 600)\n",
      "Constructing 320000 event dataset took 2.495 s\n",
      "x_t.shape =  torch.Size([320000, 9, 600])\n",
      "x_t.shape[0] =  320000\n",
      "x_t.shape[1] =  9\n",
      "x_t.shape =  torch.Size([320000, 9, 600])\n",
      "Loading data...\n",
      "pocaMx.shape =  (20000,)\n",
      "nEvts =  20000\n",
      "len(pocaMx[0]) =  211\n",
      "len(pocaMx[1]) =  21\n",
      "len(pocaMx[2]) =  20\n",
      "len(pocaMx[3]) =  198\n",
      "len(pocaMx[4]) =  233\n",
      "majorAxis.shape =  (20000, 3)\n",
      "minorAxis_1.shape =  (20000, 3)\n",
      "minorAxis_2.shape =  (20000, 3)\n",
      "have entered six_ellipsoid_parameters\n",
      "  \n",
      " \n",
      "  nEvts =  20000\n",
      " iEvt, nTrks =  0 211\n",
      " iEvt, nTrks =  1 21\n",
      " iEvt, nTrks =  2 20\n",
      " iEvt, nTrks =  3 198\n",
      " iEvt, nTrks =  4 233\n",
      " iEvt, nTrks =  5 85\n",
      " iEvt, nTrks =  6 223\n",
      " iEvt, nTrks =  7 425\n",
      " iEvt, nTrks =  8 252\n",
      " iEvt, nTrks =  9 169\n",
      "A.shape =  (20000,)\n",
      "majorAxis[iTrk][0][0] =  -0.00023452607\n",
      "majorAxis[iTrk][1][0] =  -0.00047206535\n",
      "majorAxis[iTrk][2][0] =  0.096502915\n",
      "minorAxis_1[iTrk][0][0] =  -15.822749\n",
      "minorAxis_1[iTrk][1][0] =  7.8608756\n",
      "minorAxis_1[iTrk][2][0] =  -2.6228399e-08\n",
      "minorAxis_2[iTrk][0][0] =  7.860759\n",
      "minorAxis_2[iTrk][1][0] =  15.822513\n",
      "minorAxis_2[iTrk][2][0] =  0.096502915\n",
      "  \n",
      "majorAxis[iTrk][0][0] =  -0.37655562\n",
      "majorAxis[iTrk][1][0] =  0.2768704\n",
      "majorAxis[iTrk][2][0] =  2.8546858\n",
      "minorAxis_1[iTrk][0][0] =  -10.466048\n",
      "minorAxis_1[iTrk][1][0] =  -14.234274\n",
      "minorAxis_1[iTrk][2][0] =  2.2974699e-11\n",
      "minorAxis_2[iTrk][0][0] =  -14.04724\n",
      "minorAxis_2[iTrk][1][0] =  10.328527\n",
      "minorAxis_2[iTrk][2][0] =  -2.8546853\n",
      "  \n",
      "majorAxis[iTrk][0][0] =  -0.024279848\n",
      "majorAxis[iTrk][1][0] =  0.0019689242\n",
      "majorAxis[iTrk][2][0] =  0.65580803\n",
      "minorAxis_1[iTrk][0][0] =  -1.4280497\n",
      "minorAxis_1[iTrk][1][0] =  -17.610037\n",
      "minorAxis_1[iTrk][2][0] =  -6.123401e-10\n",
      "minorAxis_2[iTrk][0][0] =  -17.597902\n",
      "minorAxis_2[iTrk][1][0] =  1.4270656\n",
      "minorAxis_2[iTrk][2][0] =  -0.6558081\n",
      "  \n"
     ]
    },
    {
     "name": "stdout",
     "output_type": "stream",
     "text": [
      "len(X) =  20000\n",
      "len(Xlist) =  1\n",
      "Loaded dataAA/20K_POCA_kernel_evts_200926.h5 in 30.9 s\n",
      "outer loop X.shape =  (20000, 9, 600)\n",
      "Constructing 10000 event dataset took 0.09045 s\n",
      "x_t.shape =  torch.Size([10000, 9, 600])\n",
      "x_t.shape[0] =  10000\n",
      "x_t.shape[1] =  9\n",
      "x_t.shape =  torch.Size([10000, 9, 600])\n"
     ]
    }
   ],
   "source": [
    "\n",
    "## Training dataset. You can put as many files here as desired.\n",
    "\n",
    "##train_loader = collect_t2kde_data('/share/lazy/pv-finder/20k_evts_for_KDE_learning_200716.h5',\n",
    "train_loader = collect_t2kde_data('/share/lazy/will/data/June30_2020_80k_1.h5', \n",
    "                                    '/share/lazy/will/data/June30_2020_80k_2.h5',\n",
    "                                    '/share/lazy/will/data/June30_2020_80k_3.h5',\n",
    "                                    '/share/lazy/will/data/June30_2020_80k_4.h5',\n",
    "                             batch_size=batch_size,\n",
    "## if we are using a larger dataset (240K events, with the datasets above, and 11 GB  of GPU memory),\n",
    "## the dataset will overflow the GPU memory; device=device will allow the data to move back\n",
    "## and forth between the CPU and GPU memory. While this allows use of a larger dataset, it slows\n",
    "## down performance by about 10%.  So comment out when not needed.\n",
    "##                          device=device,\n",
    "##                           slice = slice(None,18000)\n",
    "                           )\n",
    "                            \n",
    "# Validation dataset. You can slice to reduce the size.\n",
    "## mds no separate validation set yet,\n",
    "\n",
    "## For iter12, change slice(18000,None) to slice(10000,None)\n",
    "## First, we'll see if this changes the validation cost significantly\n",
    "##  Second, we will see if this reduces the validation cost fluctuations\n",
    "val_loader = collect_t2kde_data('dataAA/20K_POCA_kernel_evts_200926.h5',\n",
    "                            batch_size=batch_size,\n",
    "##                            device=device,\n",
    "                            slice = slice(10000,None)\n",
    "                           )\n"
   ]
  },
  {
   "cell_type": "code",
   "execution_count": 16,
   "metadata": {
    "scrolled": false
   },
   "outputs": [
    {
     "data": {
      "application/javascript": [
       "/* Put everything inside the global mpl namespace */\n",
       "window.mpl = {};\n",
       "\n",
       "\n",
       "mpl.get_websocket_type = function() {\n",
       "    if (typeof(WebSocket) !== 'undefined') {\n",
       "        return WebSocket;\n",
       "    } else if (typeof(MozWebSocket) !== 'undefined') {\n",
       "        return MozWebSocket;\n",
       "    } else {\n",
       "        alert('Your browser does not have WebSocket support. ' +\n",
       "              'Please try Chrome, Safari or Firefox ≥ 6. ' +\n",
       "              'Firefox 4 and 5 are also supported but you ' +\n",
       "              'have to enable WebSockets in about:config.');\n",
       "    };\n",
       "}\n",
       "\n",
       "mpl.figure = function(figure_id, websocket, ondownload, parent_element) {\n",
       "    this.id = figure_id;\n",
       "\n",
       "    this.ws = websocket;\n",
       "\n",
       "    this.supports_binary = (this.ws.binaryType != undefined);\n",
       "\n",
       "    if (!this.supports_binary) {\n",
       "        var warnings = document.getElementById(\"mpl-warnings\");\n",
       "        if (warnings) {\n",
       "            warnings.style.display = 'block';\n",
       "            warnings.textContent = (\n",
       "                \"This browser does not support binary websocket messages. \" +\n",
       "                    \"Performance may be slow.\");\n",
       "        }\n",
       "    }\n",
       "\n",
       "    this.imageObj = new Image();\n",
       "\n",
       "    this.context = undefined;\n",
       "    this.message = undefined;\n",
       "    this.canvas = undefined;\n",
       "    this.rubberband_canvas = undefined;\n",
       "    this.rubberband_context = undefined;\n",
       "    this.format_dropdown = undefined;\n",
       "\n",
       "    this.image_mode = 'full';\n",
       "\n",
       "    this.root = $('<div/>');\n",
       "    this._root_extra_style(this.root)\n",
       "    this.root.attr('style', 'display: inline-block');\n",
       "\n",
       "    $(parent_element).append(this.root);\n",
       "\n",
       "    this._init_header(this);\n",
       "    this._init_canvas(this);\n",
       "    this._init_toolbar(this);\n",
       "\n",
       "    var fig = this;\n",
       "\n",
       "    this.waiting = false;\n",
       "\n",
       "    this.ws.onopen =  function () {\n",
       "            fig.send_message(\"supports_binary\", {value: fig.supports_binary});\n",
       "            fig.send_message(\"send_image_mode\", {});\n",
       "            if (mpl.ratio != 1) {\n",
       "                fig.send_message(\"set_dpi_ratio\", {'dpi_ratio': mpl.ratio});\n",
       "            }\n",
       "            fig.send_message(\"refresh\", {});\n",
       "        }\n",
       "\n",
       "    this.imageObj.onload = function() {\n",
       "            if (fig.image_mode == 'full') {\n",
       "                // Full images could contain transparency (where diff images\n",
       "                // almost always do), so we need to clear the canvas so that\n",
       "                // there is no ghosting.\n",
       "                fig.context.clearRect(0, 0, fig.canvas.width, fig.canvas.height);\n",
       "            }\n",
       "            fig.context.drawImage(fig.imageObj, 0, 0);\n",
       "        };\n",
       "\n",
       "    this.imageObj.onunload = function() {\n",
       "        fig.ws.close();\n",
       "    }\n",
       "\n",
       "    this.ws.onmessage = this._make_on_message_function(this);\n",
       "\n",
       "    this.ondownload = ondownload;\n",
       "}\n",
       "\n",
       "mpl.figure.prototype._init_header = function() {\n",
       "    var titlebar = $(\n",
       "        '<div class=\"ui-dialog-titlebar ui-widget-header ui-corner-all ' +\n",
       "        'ui-helper-clearfix\"/>');\n",
       "    var titletext = $(\n",
       "        '<div class=\"ui-dialog-title\" style=\"width: 100%; ' +\n",
       "        'text-align: center; padding: 3px;\"/>');\n",
       "    titlebar.append(titletext)\n",
       "    this.root.append(titlebar);\n",
       "    this.header = titletext[0];\n",
       "}\n",
       "\n",
       "\n",
       "\n",
       "mpl.figure.prototype._canvas_extra_style = function(canvas_div) {\n",
       "\n",
       "}\n",
       "\n",
       "\n",
       "mpl.figure.prototype._root_extra_style = function(canvas_div) {\n",
       "\n",
       "}\n",
       "\n",
       "mpl.figure.prototype._init_canvas = function() {\n",
       "    var fig = this;\n",
       "\n",
       "    var canvas_div = $('<div/>');\n",
       "\n",
       "    canvas_div.attr('style', 'position: relative; clear: both; outline: 0');\n",
       "\n",
       "    function canvas_keyboard_event(event) {\n",
       "        return fig.key_event(event, event['data']);\n",
       "    }\n",
       "\n",
       "    canvas_div.keydown('key_press', canvas_keyboard_event);\n",
       "    canvas_div.keyup('key_release', canvas_keyboard_event);\n",
       "    this.canvas_div = canvas_div\n",
       "    this._canvas_extra_style(canvas_div)\n",
       "    this.root.append(canvas_div);\n",
       "\n",
       "    var canvas = $('<canvas/>');\n",
       "    canvas.addClass('mpl-canvas');\n",
       "    canvas.attr('style', \"left: 0; top: 0; z-index: 0; outline: 0\")\n",
       "\n",
       "    this.canvas = canvas[0];\n",
       "    this.context = canvas[0].getContext(\"2d\");\n",
       "\n",
       "    var backingStore = this.context.backingStorePixelRatio ||\n",
       "\tthis.context.webkitBackingStorePixelRatio ||\n",
       "\tthis.context.mozBackingStorePixelRatio ||\n",
       "\tthis.context.msBackingStorePixelRatio ||\n",
       "\tthis.context.oBackingStorePixelRatio ||\n",
       "\tthis.context.backingStorePixelRatio || 1;\n",
       "\n",
       "    mpl.ratio = (window.devicePixelRatio || 1) / backingStore;\n",
       "\n",
       "    var rubberband = $('<canvas/>');\n",
       "    rubberband.attr('style', \"position: absolute; left: 0; top: 0; z-index: 1;\")\n",
       "\n",
       "    var pass_mouse_events = true;\n",
       "\n",
       "    canvas_div.resizable({\n",
       "        start: function(event, ui) {\n",
       "            pass_mouse_events = false;\n",
       "        },\n",
       "        resize: function(event, ui) {\n",
       "            fig.request_resize(ui.size.width, ui.size.height);\n",
       "        },\n",
       "        stop: function(event, ui) {\n",
       "            pass_mouse_events = true;\n",
       "            fig.request_resize(ui.size.width, ui.size.height);\n",
       "        },\n",
       "    });\n",
       "\n",
       "    function mouse_event_fn(event) {\n",
       "        if (pass_mouse_events)\n",
       "            return fig.mouse_event(event, event['data']);\n",
       "    }\n",
       "\n",
       "    rubberband.mousedown('button_press', mouse_event_fn);\n",
       "    rubberband.mouseup('button_release', mouse_event_fn);\n",
       "    // Throttle sequential mouse events to 1 every 20ms.\n",
       "    rubberband.mousemove('motion_notify', mouse_event_fn);\n",
       "\n",
       "    rubberband.mouseenter('figure_enter', mouse_event_fn);\n",
       "    rubberband.mouseleave('figure_leave', mouse_event_fn);\n",
       "\n",
       "    canvas_div.on(\"wheel\", function (event) {\n",
       "        event = event.originalEvent;\n",
       "        event['data'] = 'scroll'\n",
       "        if (event.deltaY < 0) {\n",
       "            event.step = 1;\n",
       "        } else {\n",
       "            event.step = -1;\n",
       "        }\n",
       "        mouse_event_fn(event);\n",
       "    });\n",
       "\n",
       "    canvas_div.append(canvas);\n",
       "    canvas_div.append(rubberband);\n",
       "\n",
       "    this.rubberband = rubberband;\n",
       "    this.rubberband_canvas = rubberband[0];\n",
       "    this.rubberband_context = rubberband[0].getContext(\"2d\");\n",
       "    this.rubberband_context.strokeStyle = \"#000000\";\n",
       "\n",
       "    this._resize_canvas = function(width, height) {\n",
       "        // Keep the size of the canvas, canvas container, and rubber band\n",
       "        // canvas in synch.\n",
       "        canvas_div.css('width', width)\n",
       "        canvas_div.css('height', height)\n",
       "\n",
       "        canvas.attr('width', width * mpl.ratio);\n",
       "        canvas.attr('height', height * mpl.ratio);\n",
       "        canvas.attr('style', 'width: ' + width + 'px; height: ' + height + 'px;');\n",
       "\n",
       "        rubberband.attr('width', width);\n",
       "        rubberband.attr('height', height);\n",
       "    }\n",
       "\n",
       "    // Set the figure to an initial 600x600px, this will subsequently be updated\n",
       "    // upon first draw.\n",
       "    this._resize_canvas(600, 600);\n",
       "\n",
       "    // Disable right mouse context menu.\n",
       "    $(this.rubberband_canvas).bind(\"contextmenu\",function(e){\n",
       "        return false;\n",
       "    });\n",
       "\n",
       "    function set_focus () {\n",
       "        canvas.focus();\n",
       "        canvas_div.focus();\n",
       "    }\n",
       "\n",
       "    window.setTimeout(set_focus, 100);\n",
       "}\n",
       "\n",
       "mpl.figure.prototype._init_toolbar = function() {\n",
       "    var fig = this;\n",
       "\n",
       "    var nav_element = $('<div/>');\n",
       "    nav_element.attr('style', 'width: 100%');\n",
       "    this.root.append(nav_element);\n",
       "\n",
       "    // Define a callback function for later on.\n",
       "    function toolbar_event(event) {\n",
       "        return fig.toolbar_button_onclick(event['data']);\n",
       "    }\n",
       "    function toolbar_mouse_event(event) {\n",
       "        return fig.toolbar_button_onmouseover(event['data']);\n",
       "    }\n",
       "\n",
       "    for(var toolbar_ind in mpl.toolbar_items) {\n",
       "        var name = mpl.toolbar_items[toolbar_ind][0];\n",
       "        var tooltip = mpl.toolbar_items[toolbar_ind][1];\n",
       "        var image = mpl.toolbar_items[toolbar_ind][2];\n",
       "        var method_name = mpl.toolbar_items[toolbar_ind][3];\n",
       "\n",
       "        if (!name) {\n",
       "            // put a spacer in here.\n",
       "            continue;\n",
       "        }\n",
       "        var button = $('<button/>');\n",
       "        button.addClass('ui-button ui-widget ui-state-default ui-corner-all ' +\n",
       "                        'ui-button-icon-only');\n",
       "        button.attr('role', 'button');\n",
       "        button.attr('aria-disabled', 'false');\n",
       "        button.click(method_name, toolbar_event);\n",
       "        button.mouseover(tooltip, toolbar_mouse_event);\n",
       "\n",
       "        var icon_img = $('<span/>');\n",
       "        icon_img.addClass('ui-button-icon-primary ui-icon');\n",
       "        icon_img.addClass(image);\n",
       "        icon_img.addClass('ui-corner-all');\n",
       "\n",
       "        var tooltip_span = $('<span/>');\n",
       "        tooltip_span.addClass('ui-button-text');\n",
       "        tooltip_span.html(tooltip);\n",
       "\n",
       "        button.append(icon_img);\n",
       "        button.append(tooltip_span);\n",
       "\n",
       "        nav_element.append(button);\n",
       "    }\n",
       "\n",
       "    var fmt_picker_span = $('<span/>');\n",
       "\n",
       "    var fmt_picker = $('<select/>');\n",
       "    fmt_picker.addClass('mpl-toolbar-option ui-widget ui-widget-content');\n",
       "    fmt_picker_span.append(fmt_picker);\n",
       "    nav_element.append(fmt_picker_span);\n",
       "    this.format_dropdown = fmt_picker[0];\n",
       "\n",
       "    for (var ind in mpl.extensions) {\n",
       "        var fmt = mpl.extensions[ind];\n",
       "        var option = $(\n",
       "            '<option/>', {selected: fmt === mpl.default_extension}).html(fmt);\n",
       "        fmt_picker.append(option);\n",
       "    }\n",
       "\n",
       "    // Add hover states to the ui-buttons\n",
       "    $( \".ui-button\" ).hover(\n",
       "        function() { $(this).addClass(\"ui-state-hover\");},\n",
       "        function() { $(this).removeClass(\"ui-state-hover\");}\n",
       "    );\n",
       "\n",
       "    var status_bar = $('<span class=\"mpl-message\"/>');\n",
       "    nav_element.append(status_bar);\n",
       "    this.message = status_bar[0];\n",
       "}\n",
       "\n",
       "mpl.figure.prototype.request_resize = function(x_pixels, y_pixels) {\n",
       "    // Request matplotlib to resize the figure. Matplotlib will then trigger a resize in the client,\n",
       "    // which will in turn request a refresh of the image.\n",
       "    this.send_message('resize', {'width': x_pixels, 'height': y_pixels});\n",
       "}\n",
       "\n",
       "mpl.figure.prototype.send_message = function(type, properties) {\n",
       "    properties['type'] = type;\n",
       "    properties['figure_id'] = this.id;\n",
       "    this.ws.send(JSON.stringify(properties));\n",
       "}\n",
       "\n",
       "mpl.figure.prototype.send_draw_message = function() {\n",
       "    if (!this.waiting) {\n",
       "        this.waiting = true;\n",
       "        this.ws.send(JSON.stringify({type: \"draw\", figure_id: this.id}));\n",
       "    }\n",
       "}\n",
       "\n",
       "\n",
       "mpl.figure.prototype.handle_save = function(fig, msg) {\n",
       "    var format_dropdown = fig.format_dropdown;\n",
       "    var format = format_dropdown.options[format_dropdown.selectedIndex].value;\n",
       "    fig.ondownload(fig, format);\n",
       "}\n",
       "\n",
       "\n",
       "mpl.figure.prototype.handle_resize = function(fig, msg) {\n",
       "    var size = msg['size'];\n",
       "    if (size[0] != fig.canvas.width || size[1] != fig.canvas.height) {\n",
       "        fig._resize_canvas(size[0], size[1]);\n",
       "        fig.send_message(\"refresh\", {});\n",
       "    };\n",
       "}\n",
       "\n",
       "mpl.figure.prototype.handle_rubberband = function(fig, msg) {\n",
       "    var x0 = msg['x0'] / mpl.ratio;\n",
       "    var y0 = (fig.canvas.height - msg['y0']) / mpl.ratio;\n",
       "    var x1 = msg['x1'] / mpl.ratio;\n",
       "    var y1 = (fig.canvas.height - msg['y1']) / mpl.ratio;\n",
       "    x0 = Math.floor(x0) + 0.5;\n",
       "    y0 = Math.floor(y0) + 0.5;\n",
       "    x1 = Math.floor(x1) + 0.5;\n",
       "    y1 = Math.floor(y1) + 0.5;\n",
       "    var min_x = Math.min(x0, x1);\n",
       "    var min_y = Math.min(y0, y1);\n",
       "    var width = Math.abs(x1 - x0);\n",
       "    var height = Math.abs(y1 - y0);\n",
       "\n",
       "    fig.rubberband_context.clearRect(\n",
       "        0, 0, fig.canvas.width / mpl.ratio, fig.canvas.height / mpl.ratio);\n",
       "\n",
       "    fig.rubberband_context.strokeRect(min_x, min_y, width, height);\n",
       "}\n",
       "\n",
       "mpl.figure.prototype.handle_figure_label = function(fig, msg) {\n",
       "    // Updates the figure title.\n",
       "    fig.header.textContent = msg['label'];\n",
       "}\n",
       "\n",
       "mpl.figure.prototype.handle_cursor = function(fig, msg) {\n",
       "    var cursor = msg['cursor'];\n",
       "    switch(cursor)\n",
       "    {\n",
       "    case 0:\n",
       "        cursor = 'pointer';\n",
       "        break;\n",
       "    case 1:\n",
       "        cursor = 'default';\n",
       "        break;\n",
       "    case 2:\n",
       "        cursor = 'crosshair';\n",
       "        break;\n",
       "    case 3:\n",
       "        cursor = 'move';\n",
       "        break;\n",
       "    }\n",
       "    fig.rubberband_canvas.style.cursor = cursor;\n",
       "}\n",
       "\n",
       "mpl.figure.prototype.handle_message = function(fig, msg) {\n",
       "    fig.message.textContent = msg['message'];\n",
       "}\n",
       "\n",
       "mpl.figure.prototype.handle_draw = function(fig, msg) {\n",
       "    // Request the server to send over a new figure.\n",
       "    fig.send_draw_message();\n",
       "}\n",
       "\n",
       "mpl.figure.prototype.handle_image_mode = function(fig, msg) {\n",
       "    fig.image_mode = msg['mode'];\n",
       "}\n",
       "\n",
       "mpl.figure.prototype.updated_canvas_event = function() {\n",
       "    // Called whenever the canvas gets updated.\n",
       "    this.send_message(\"ack\", {});\n",
       "}\n",
       "\n",
       "// A function to construct a web socket function for onmessage handling.\n",
       "// Called in the figure constructor.\n",
       "mpl.figure.prototype._make_on_message_function = function(fig) {\n",
       "    return function socket_on_message(evt) {\n",
       "        if (evt.data instanceof Blob) {\n",
       "            /* FIXME: We get \"Resource interpreted as Image but\n",
       "             * transferred with MIME type text/plain:\" errors on\n",
       "             * Chrome.  But how to set the MIME type?  It doesn't seem\n",
       "             * to be part of the websocket stream */\n",
       "            evt.data.type = \"image/png\";\n",
       "\n",
       "            /* Free the memory for the previous frames */\n",
       "            if (fig.imageObj.src) {\n",
       "                (window.URL || window.webkitURL).revokeObjectURL(\n",
       "                    fig.imageObj.src);\n",
       "            }\n",
       "\n",
       "            fig.imageObj.src = (window.URL || window.webkitURL).createObjectURL(\n",
       "                evt.data);\n",
       "            fig.updated_canvas_event();\n",
       "            fig.waiting = false;\n",
       "            return;\n",
       "        }\n",
       "        else if (typeof evt.data === 'string' && evt.data.slice(0, 21) == \"data:image/png;base64\") {\n",
       "            fig.imageObj.src = evt.data;\n",
       "            fig.updated_canvas_event();\n",
       "            fig.waiting = false;\n",
       "            return;\n",
       "        }\n",
       "\n",
       "        var msg = JSON.parse(evt.data);\n",
       "        var msg_type = msg['type'];\n",
       "\n",
       "        // Call the  \"handle_{type}\" callback, which takes\n",
       "        // the figure and JSON message as its only arguments.\n",
       "        try {\n",
       "            var callback = fig[\"handle_\" + msg_type];\n",
       "        } catch (e) {\n",
       "            console.log(\"No handler for the '\" + msg_type + \"' message type: \", msg);\n",
       "            return;\n",
       "        }\n",
       "\n",
       "        if (callback) {\n",
       "            try {\n",
       "                // console.log(\"Handling '\" + msg_type + \"' message: \", msg);\n",
       "                callback(fig, msg);\n",
       "            } catch (e) {\n",
       "                console.log(\"Exception inside the 'handler_\" + msg_type + \"' callback:\", e, e.stack, msg);\n",
       "            }\n",
       "        }\n",
       "    };\n",
       "}\n",
       "\n",
       "// from http://stackoverflow.com/questions/1114465/getting-mouse-location-in-canvas\n",
       "mpl.findpos = function(e) {\n",
       "    //this section is from http://www.quirksmode.org/js/events_properties.html\n",
       "    var targ;\n",
       "    if (!e)\n",
       "        e = window.event;\n",
       "    if (e.target)\n",
       "        targ = e.target;\n",
       "    else if (e.srcElement)\n",
       "        targ = e.srcElement;\n",
       "    if (targ.nodeType == 3) // defeat Safari bug\n",
       "        targ = targ.parentNode;\n",
       "\n",
       "    // jQuery normalizes the pageX and pageY\n",
       "    // pageX,Y are the mouse positions relative to the document\n",
       "    // offset() returns the position of the element relative to the document\n",
       "    var x = e.pageX - $(targ).offset().left;\n",
       "    var y = e.pageY - $(targ).offset().top;\n",
       "\n",
       "    return {\"x\": x, \"y\": y};\n",
       "};\n",
       "\n",
       "/*\n",
       " * return a copy of an object with only non-object keys\n",
       " * we need this to avoid circular references\n",
       " * http://stackoverflow.com/a/24161582/3208463\n",
       " */\n",
       "function simpleKeys (original) {\n",
       "  return Object.keys(original).reduce(function (obj, key) {\n",
       "    if (typeof original[key] !== 'object')\n",
       "        obj[key] = original[key]\n",
       "    return obj;\n",
       "  }, {});\n",
       "}\n",
       "\n",
       "mpl.figure.prototype.mouse_event = function(event, name) {\n",
       "    var canvas_pos = mpl.findpos(event)\n",
       "\n",
       "    if (name === 'button_press')\n",
       "    {\n",
       "        this.canvas.focus();\n",
       "        this.canvas_div.focus();\n",
       "    }\n",
       "\n",
       "    var x = canvas_pos.x * mpl.ratio;\n",
       "    var y = canvas_pos.y * mpl.ratio;\n",
       "\n",
       "    this.send_message(name, {x: x, y: y, button: event.button,\n",
       "                             step: event.step,\n",
       "                             guiEvent: simpleKeys(event)});\n",
       "\n",
       "    /* This prevents the web browser from automatically changing to\n",
       "     * the text insertion cursor when the button is pressed.  We want\n",
       "     * to control all of the cursor setting manually through the\n",
       "     * 'cursor' event from matplotlib */\n",
       "    event.preventDefault();\n",
       "    return false;\n",
       "}\n",
       "\n",
       "mpl.figure.prototype._key_event_extra = function(event, name) {\n",
       "    // Handle any extra behaviour associated with a key event\n",
       "}\n",
       "\n",
       "mpl.figure.prototype.key_event = function(event, name) {\n",
       "\n",
       "    // Prevent repeat events\n",
       "    if (name == 'key_press')\n",
       "    {\n",
       "        if (event.which === this._key)\n",
       "            return;\n",
       "        else\n",
       "            this._key = event.which;\n",
       "    }\n",
       "    if (name == 'key_release')\n",
       "        this._key = null;\n",
       "\n",
       "    var value = '';\n",
       "    if (event.ctrlKey && event.which != 17)\n",
       "        value += \"ctrl+\";\n",
       "    if (event.altKey && event.which != 18)\n",
       "        value += \"alt+\";\n",
       "    if (event.shiftKey && event.which != 16)\n",
       "        value += \"shift+\";\n",
       "\n",
       "    value += 'k';\n",
       "    value += event.which.toString();\n",
       "\n",
       "    this._key_event_extra(event, name);\n",
       "\n",
       "    this.send_message(name, {key: value,\n",
       "                             guiEvent: simpleKeys(event)});\n",
       "    return false;\n",
       "}\n",
       "\n",
       "mpl.figure.prototype.toolbar_button_onclick = function(name) {\n",
       "    if (name == 'download') {\n",
       "        this.handle_save(this, null);\n",
       "    } else {\n",
       "        this.send_message(\"toolbar_button\", {name: name});\n",
       "    }\n",
       "};\n",
       "\n",
       "mpl.figure.prototype.toolbar_button_onmouseover = function(tooltip) {\n",
       "    this.message.textContent = tooltip;\n",
       "};\n",
       "mpl.toolbar_items = [[\"Home\", \"Reset original view\", \"fa fa-home icon-home\", \"home\"], [\"Back\", \"Back to previous view\", \"fa fa-arrow-left icon-arrow-left\", \"back\"], [\"Forward\", \"Forward to next view\", \"fa fa-arrow-right icon-arrow-right\", \"forward\"], [\"\", \"\", \"\", \"\"], [\"Pan\", \"Pan axes with left mouse, zoom with right\", \"fa fa-arrows icon-move\", \"pan\"], [\"Zoom\", \"Zoom to rectangle\", \"fa fa-square-o icon-check-empty\", \"zoom\"], [\"\", \"\", \"\", \"\"], [\"Download\", \"Download plot\", \"fa fa-floppy-o icon-save\", \"download\"]];\n",
       "\n",
       "mpl.extensions = [\"eps\", \"jpeg\", \"pdf\", \"png\", \"ps\", \"raw\", \"svg\", \"tif\"];\n",
       "\n",
       "mpl.default_extension = \"png\";var comm_websocket_adapter = function(comm) {\n",
       "    // Create a \"websocket\"-like object which calls the given IPython comm\n",
       "    // object with the appropriate methods. Currently this is a non binary\n",
       "    // socket, so there is still some room for performance tuning.\n",
       "    var ws = {};\n",
       "\n",
       "    ws.close = function() {\n",
       "        comm.close()\n",
       "    };\n",
       "    ws.send = function(m) {\n",
       "        //console.log('sending', m);\n",
       "        comm.send(m);\n",
       "    };\n",
       "    // Register the callback with on_msg.\n",
       "    comm.on_msg(function(msg) {\n",
       "        //console.log('receiving', msg['content']['data'], msg);\n",
       "        // Pass the mpl event to the overridden (by mpl) onmessage function.\n",
       "        ws.onmessage(msg['content']['data'])\n",
       "    });\n",
       "    return ws;\n",
       "}\n",
       "\n",
       "mpl.mpl_figure_comm = function(comm, msg) {\n",
       "    // This is the function which gets called when the mpl process\n",
       "    // starts-up an IPython Comm through the \"matplotlib\" channel.\n",
       "\n",
       "    var id = msg.content.data.id;\n",
       "    // Get hold of the div created by the display call when the Comm\n",
       "    // socket was opened in Python.\n",
       "    var element = $(\"#\" + id);\n",
       "    var ws_proxy = comm_websocket_adapter(comm)\n",
       "\n",
       "    function ondownload(figure, format) {\n",
       "        window.open(figure.imageObj.src);\n",
       "    }\n",
       "\n",
       "    var fig = new mpl.figure(id, ws_proxy,\n",
       "                           ondownload,\n",
       "                           element.get(0));\n",
       "\n",
       "    // Call onopen now - mpl needs it, as it is assuming we've passed it a real\n",
       "    // web socket which is closed, not our websocket->open comm proxy.\n",
       "    ws_proxy.onopen();\n",
       "\n",
       "    fig.parent_element = element.get(0);\n",
       "    fig.cell_info = mpl.find_output_cell(\"<div id='\" + id + \"'></div>\");\n",
       "    if (!fig.cell_info) {\n",
       "        console.error(\"Failed to find cell for figure\", id, fig);\n",
       "        return;\n",
       "    }\n",
       "\n",
       "    var output_index = fig.cell_info[2]\n",
       "    var cell = fig.cell_info[0];\n",
       "\n",
       "};\n",
       "\n",
       "mpl.figure.prototype.handle_close = function(fig, msg) {\n",
       "    var width = fig.canvas.width/mpl.ratio\n",
       "    fig.root.unbind('remove')\n",
       "\n",
       "    // Update the output cell to use the data from the current canvas.\n",
       "    fig.push_to_output();\n",
       "    var dataURL = fig.canvas.toDataURL();\n",
       "    // Re-enable the keyboard manager in IPython - without this line, in FF,\n",
       "    // the notebook keyboard shortcuts fail.\n",
       "    IPython.keyboard_manager.enable()\n",
       "    $(fig.parent_element).html('<img src=\"' + dataURL + '\" width=\"' + width + '\">');\n",
       "    fig.close_ws(fig, msg);\n",
       "}\n",
       "\n",
       "mpl.figure.prototype.close_ws = function(fig, msg){\n",
       "    fig.send_message('closing', msg);\n",
       "    // fig.ws.close()\n",
       "}\n",
       "\n",
       "mpl.figure.prototype.push_to_output = function(remove_interactive) {\n",
       "    // Turn the data on the canvas into data in the output cell.\n",
       "    var width = this.canvas.width/mpl.ratio\n",
       "    var dataURL = this.canvas.toDataURL();\n",
       "    this.cell_info[1]['text/html'] = '<img src=\"' + dataURL + '\" width=\"' + width + '\">';\n",
       "}\n",
       "\n",
       "mpl.figure.prototype.updated_canvas_event = function() {\n",
       "    // Tell IPython that the notebook contents must change.\n",
       "    IPython.notebook.set_dirty(true);\n",
       "    this.send_message(\"ack\", {});\n",
       "    var fig = this;\n",
       "    // Wait a second, then push the new image to the DOM so\n",
       "    // that it is saved nicely (might be nice to debounce this).\n",
       "    setTimeout(function () { fig.push_to_output() }, 1000);\n",
       "}\n",
       "\n",
       "mpl.figure.prototype._init_toolbar = function() {\n",
       "    var fig = this;\n",
       "\n",
       "    var nav_element = $('<div/>');\n",
       "    nav_element.attr('style', 'width: 100%');\n",
       "    this.root.append(nav_element);\n",
       "\n",
       "    // Define a callback function for later on.\n",
       "    function toolbar_event(event) {\n",
       "        return fig.toolbar_button_onclick(event['data']);\n",
       "    }\n",
       "    function toolbar_mouse_event(event) {\n",
       "        return fig.toolbar_button_onmouseover(event['data']);\n",
       "    }\n",
       "\n",
       "    for(var toolbar_ind in mpl.toolbar_items){\n",
       "        var name = mpl.toolbar_items[toolbar_ind][0];\n",
       "        var tooltip = mpl.toolbar_items[toolbar_ind][1];\n",
       "        var image = mpl.toolbar_items[toolbar_ind][2];\n",
       "        var method_name = mpl.toolbar_items[toolbar_ind][3];\n",
       "\n",
       "        if (!name) { continue; };\n",
       "\n",
       "        var button = $('<button class=\"btn btn-default\" href=\"#\" title=\"' + name + '\"><i class=\"fa ' + image + ' fa-lg\"></i></button>');\n",
       "        button.click(method_name, toolbar_event);\n",
       "        button.mouseover(tooltip, toolbar_mouse_event);\n",
       "        nav_element.append(button);\n",
       "    }\n",
       "\n",
       "    // Add the status bar.\n",
       "    var status_bar = $('<span class=\"mpl-message\" style=\"text-align:right; float: right;\"/>');\n",
       "    nav_element.append(status_bar);\n",
       "    this.message = status_bar[0];\n",
       "\n",
       "    // Add the close button to the window.\n",
       "    var buttongrp = $('<div class=\"btn-group inline pull-right\"></div>');\n",
       "    var button = $('<button class=\"btn btn-mini btn-primary\" href=\"#\" title=\"Stop Interaction\"><i class=\"fa fa-power-off icon-remove icon-large\"></i></button>');\n",
       "    button.click(function (evt) { fig.handle_close(fig, {}); } );\n",
       "    button.mouseover('Stop Interaction', toolbar_mouse_event);\n",
       "    buttongrp.append(button);\n",
       "    var titlebar = this.root.find($('.ui-dialog-titlebar'));\n",
       "    titlebar.prepend(buttongrp);\n",
       "}\n",
       "\n",
       "mpl.figure.prototype._root_extra_style = function(el){\n",
       "    var fig = this\n",
       "    el.on(\"remove\", function(){\n",
       "\tfig.close_ws(fig, {});\n",
       "    });\n",
       "}\n",
       "\n",
       "mpl.figure.prototype._canvas_extra_style = function(el){\n",
       "    // this is important to make the div 'focusable\n",
       "    el.attr('tabindex', 0)\n",
       "    // reach out to IPython and tell the keyboard manager to turn it's self\n",
       "    // off when our div gets focus\n",
       "\n",
       "    // location in version 3\n",
       "    if (IPython.notebook.keyboard_manager) {\n",
       "        IPython.notebook.keyboard_manager.register_events(el);\n",
       "    }\n",
       "    else {\n",
       "        // location in version 2\n",
       "        IPython.keyboard_manager.register_events(el);\n",
       "    }\n",
       "\n",
       "}\n",
       "\n",
       "mpl.figure.prototype._key_event_extra = function(event, name) {\n",
       "    var manager = IPython.notebook.keyboard_manager;\n",
       "    if (!manager)\n",
       "        manager = IPython.keyboard_manager;\n",
       "\n",
       "    // Check for shift+enter\n",
       "    if (event.shiftKey && event.which == 13) {\n",
       "        this.canvas_div.blur();\n",
       "        // select the cell after this one\n",
       "        var index = IPython.notebook.find_cell_index(this.cell_info[0]);\n",
       "        IPython.notebook.select(index + 1);\n",
       "    }\n",
       "}\n",
       "\n",
       "mpl.figure.prototype.handle_save = function(fig, msg) {\n",
       "    fig.ondownload(fig, null);\n",
       "}\n",
       "\n",
       "\n",
       "mpl.find_output_cell = function(html_output) {\n",
       "    // Return the cell and output element which can be found *uniquely* in the notebook.\n",
       "    // Note - this is a bit hacky, but it is done because the \"notebook_saving.Notebook\"\n",
       "    // IPython event is triggered only after the cells have been serialised, which for\n",
       "    // our purposes (turning an active figure into a static one), is too late.\n",
       "    var cells = IPython.notebook.get_cells();\n",
       "    var ncells = cells.length;\n",
       "    for (var i=0; i<ncells; i++) {\n",
       "        var cell = cells[i];\n",
       "        if (cell.cell_type === 'code'){\n",
       "            for (var j=0; j<cell.output_area.outputs.length; j++) {\n",
       "                var data = cell.output_area.outputs[j];\n",
       "                if (data.data) {\n",
       "                    // IPython >= 3 moved mimebundle to data attribute of output\n",
       "                    data = data.data;\n",
       "                }\n",
       "                if (data['text/html'] == html_output) {\n",
       "                    return [cell, data, j];\n",
       "                }\n",
       "            }\n",
       "        }\n",
       "    }\n",
       "}\n",
       "\n",
       "// Register the function which deals with the matplotlib target/channel.\n",
       "// The kernel may be null if the page has been refreshed.\n",
       "if (IPython.notebook.kernel != null) {\n",
       "    IPython.notebook.kernel.comm_manager.register_target('matplotlib', mpl.mpl_figure_comm);\n",
       "}\n"
      ],
      "text/plain": [
       "<IPython.core.display.Javascript object>"
      ]
     },
     "metadata": {},
     "output_type": "display_data"
    },
    {
     "data": {
      "text/html": [
       "<img src=\"data:image/png;base64,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\" width=\"1000\">"
      ],
      "text/plain": [
       "<IPython.core.display.HTML object>"
      ]
     },
     "metadata": {},
     "output_type": "display_data"
    }
   ],
   "source": [
    "ax, tax, lax, lines = dual_train_plots()\n",
    "fig = ax.figure\n",
    "plt.tight_layout()"
   ]
  },
  {
   "cell_type": "code",
   "execution_count": 17,
   "metadata": {
    "scrolled": false
   },
   "outputs": [
    {
     "name": "stdout",
     "output_type": "stream",
     "text": [
      "Number of batches: train = 6667, val = 209\n"
     ]
    },
    {
     "data": {
      "application/vnd.jupyter.widget-view+json": {
       "model_id": "d7f564968ba346d3b3eac1036209f44c",
       "version_major": 2,
       "version_minor": 0
      },
      "text/plain": [
       "HBox(children=(FloatProgress(value=0.0, description='Epochs', layout=Layout(flex='2'), max=60.0, style=Progres…"
      ]
     },
     "metadata": {},
     "output_type": "display_data"
    },
    {
     "name": "stdout",
     "output_type": "stream",
     "text": [
      "Number of batches: train = 6667, val = 209\n"
     ]
    },
    {
     "data": {
      "application/vnd.jupyter.widget-view+json": {
       "model_id": "",
       "version_major": 2,
       "version_minor": 0
      },
      "text/plain": [
       "HBox(children=(FloatProgress(value=0.0, description='Training', layout=Layout(flex='2'), max=6667.0, style=Pro…"
      ]
     },
     "metadata": {},
     "output_type": "display_data"
    },
    {
     "name": "stdout",
     "output_type": "stream",
     "text": [
      "Epoch 0: train=5.10243, val=4.15201, took 540.03 s\n"
     ]
    },
    {
     "data": {
      "application/vnd.jupyter.widget-view+json": {
       "model_id": "",
       "version_major": 2,
       "version_minor": 0
      },
      "text/plain": [
       "HBox(children=(FloatProgress(value=0.0, description='Training', layout=Layout(flex='2'), max=6667.0, style=Pro…"
      ]
     },
     "metadata": {},
     "output_type": "display_data"
    },
    {
     "name": "stdout",
     "output_type": "stream",
     "text": [
      "Epoch 1: train=5.08632, val=4.14463, took 539.02 s\n"
     ]
    },
    {
     "data": {
      "application/vnd.jupyter.widget-view+json": {
       "model_id": "",
       "version_major": 2,
       "version_minor": 0
      },
      "text/plain": [
       "HBox(children=(FloatProgress(value=0.0, description='Training', layout=Layout(flex='2'), max=6667.0, style=Pro…"
      ]
     },
     "metadata": {},
     "output_type": "display_data"
    },
    {
     "name": "stdout",
     "output_type": "stream",
     "text": [
      "Epoch 2: train=5.07707, val=4.15564, took 539.3 s\n"
     ]
    },
    {
     "data": {
      "application/vnd.jupyter.widget-view+json": {
       "model_id": "",
       "version_major": 2,
       "version_minor": 0
      },
      "text/plain": [
       "HBox(children=(FloatProgress(value=0.0, description='Training', layout=Layout(flex='2'), max=6667.0, style=Pro…"
      ]
     },
     "metadata": {},
     "output_type": "display_data"
    },
    {
     "name": "stdout",
     "output_type": "stream",
     "text": [
      "Epoch 3: train=5.06013, val=4.18433, took 535.07 s\n"
     ]
    },
    {
     "data": {
      "application/vnd.jupyter.widget-view+json": {
       "model_id": "",
       "version_major": 2,
       "version_minor": 0
      },
      "text/plain": [
       "HBox(children=(FloatProgress(value=0.0, description='Training', layout=Layout(flex='2'), max=6667.0, style=Pro…"
      ]
     },
     "metadata": {},
     "output_type": "display_data"
    },
    {
     "name": "stdout",
     "output_type": "stream",
     "text": [
      "Epoch 4: train=5.05413, val=4.33915, took 534.91 s\n"
     ]
    },
    {
     "data": {
      "application/vnd.jupyter.widget-view+json": {
       "model_id": "",
       "version_major": 2,
       "version_minor": 0
      },
      "text/plain": [
       "HBox(children=(FloatProgress(value=0.0, description='Training', layout=Layout(flex='2'), max=6667.0, style=Pro…"
      ]
     },
     "metadata": {},
     "output_type": "display_data"
    },
    {
     "name": "stdout",
     "output_type": "stream",
     "text": [
      "Epoch 5: train=5.05498, val=4.27289, took 535.62 s\n"
     ]
    },
    {
     "data": {
      "application/vnd.jupyter.widget-view+json": {
       "model_id": "",
       "version_major": 2,
       "version_minor": 0
      },
      "text/plain": [
       "HBox(children=(FloatProgress(value=0.0, description='Training', layout=Layout(flex='2'), max=6667.0, style=Pro…"
      ]
     },
     "metadata": {},
     "output_type": "display_data"
    },
    {
     "name": "stdout",
     "output_type": "stream",
     "text": [
      "Epoch 6: train=5.04523, val=4.09899, took 535.39 s\n"
     ]
    },
    {
     "data": {
      "application/vnd.jupyter.widget-view+json": {
       "model_id": "",
       "version_major": 2,
       "version_minor": 0
      },
      "text/plain": [
       "HBox(children=(FloatProgress(value=0.0, description='Training', layout=Layout(flex='2'), max=6667.0, style=Pro…"
      ]
     },
     "metadata": {},
     "output_type": "display_data"
    },
    {
     "name": "stdout",
     "output_type": "stream",
     "text": [
      "Epoch 7: train=5.03303, val=4.1072, took 535.32 s\n"
     ]
    },
    {
     "data": {
      "application/vnd.jupyter.widget-view+json": {
       "model_id": "",
       "version_major": 2,
       "version_minor": 0
      },
      "text/plain": [
       "HBox(children=(FloatProgress(value=0.0, description='Training', layout=Layout(flex='2'), max=6667.0, style=Pro…"
      ]
     },
     "metadata": {},
     "output_type": "display_data"
    },
    {
     "name": "stdout",
     "output_type": "stream",
     "text": [
      "Epoch 8: train=5.02628, val=4.30985, took 534.98 s\n"
     ]
    },
    {
     "data": {
      "application/vnd.jupyter.widget-view+json": {
       "model_id": "",
       "version_major": 2,
       "version_minor": 0
      },
      "text/plain": [
       "HBox(children=(FloatProgress(value=0.0, description='Training', layout=Layout(flex='2'), max=6667.0, style=Pro…"
      ]
     },
     "metadata": {},
     "output_type": "display_data"
    },
    {
     "name": "stdout",
     "output_type": "stream",
     "text": [
      "Epoch 9: train=5.01653, val=4.06176, took 534.63 s\n"
     ]
    },
    {
     "data": {
      "application/vnd.jupyter.widget-view+json": {
       "model_id": "",
       "version_major": 2,
       "version_minor": 0
      },
      "text/plain": [
       "HBox(children=(FloatProgress(value=0.0, description='Training', layout=Layout(flex='2'), max=6667.0, style=Pro…"
      ]
     },
     "metadata": {},
     "output_type": "display_data"
    },
    {
     "name": "stdout",
     "output_type": "stream",
     "text": [
      "Epoch 10: train=5.01499, val=4.09132, took 535.13 s\n"
     ]
    },
    {
     "data": {
      "application/vnd.jupyter.widget-view+json": {
       "model_id": "",
       "version_major": 2,
       "version_minor": 0
      },
      "text/plain": [
       "HBox(children=(FloatProgress(value=0.0, description='Training', layout=Layout(flex='2'), max=6667.0, style=Pro…"
      ]
     },
     "metadata": {},
     "output_type": "display_data"
    },
    {
     "name": "stdout",
     "output_type": "stream",
     "text": [
      "Epoch 11: train=5.00455, val=4.0977, took 535.01 s\n"
     ]
    },
    {
     "data": {
      "application/vnd.jupyter.widget-view+json": {
       "model_id": "",
       "version_major": 2,
       "version_minor": 0
      },
      "text/plain": [
       "HBox(children=(FloatProgress(value=0.0, description='Training', layout=Layout(flex='2'), max=6667.0, style=Pro…"
      ]
     },
     "metadata": {},
     "output_type": "display_data"
    },
    {
     "name": "stdout",
     "output_type": "stream",
     "text": [
      "Epoch 12: train=5.00469, val=4.07097, took 535.11 s\n"
     ]
    },
    {
     "data": {
      "application/vnd.jupyter.widget-view+json": {
       "model_id": "",
       "version_major": 2,
       "version_minor": 0
      },
      "text/plain": [
       "HBox(children=(FloatProgress(value=0.0, description='Training', layout=Layout(flex='2'), max=6667.0, style=Pro…"
      ]
     },
     "metadata": {},
     "output_type": "display_data"
    },
    {
     "name": "stdout",
     "output_type": "stream",
     "text": [
      "Epoch 13: train=4.98806, val=4.11953, took 534.69 s\n"
     ]
    },
    {
     "data": {
      "application/vnd.jupyter.widget-view+json": {
       "model_id": "",
       "version_major": 2,
       "version_minor": 0
      },
      "text/plain": [
       "HBox(children=(FloatProgress(value=0.0, description='Training', layout=Layout(flex='2'), max=6667.0, style=Pro…"
      ]
     },
     "metadata": {},
     "output_type": "display_data"
    },
    {
     "name": "stdout",
     "output_type": "stream",
     "text": [
      "Epoch 14: train=4.98526, val=4.05687, took 534.47 s\n"
     ]
    },
    {
     "data": {
      "application/vnd.jupyter.widget-view+json": {
       "model_id": "",
       "version_major": 2,
       "version_minor": 0
      },
      "text/plain": [
       "HBox(children=(FloatProgress(value=0.0, description='Training', layout=Layout(flex='2'), max=6667.0, style=Pro…"
      ]
     },
     "metadata": {},
     "output_type": "display_data"
    },
    {
     "name": "stdout",
     "output_type": "stream",
     "text": [
      "Epoch 15: train=4.98319, val=4.05739, took 534.65 s\n"
     ]
    },
    {
     "data": {
      "application/vnd.jupyter.widget-view+json": {
       "model_id": "",
       "version_major": 2,
       "version_minor": 0
      },
      "text/plain": [
       "HBox(children=(FloatProgress(value=0.0, description='Training', layout=Layout(flex='2'), max=6667.0, style=Pro…"
      ]
     },
     "metadata": {},
     "output_type": "display_data"
    },
    {
     "name": "stdout",
     "output_type": "stream",
     "text": [
      "Epoch 16: train=4.98093, val=4.24863, took 535.05 s\n"
     ]
    },
    {
     "data": {
      "application/vnd.jupyter.widget-view+json": {
       "model_id": "",
       "version_major": 2,
       "version_minor": 0
      },
      "text/plain": [
       "HBox(children=(FloatProgress(value=0.0, description='Training', layout=Layout(flex='2'), max=6667.0, style=Pro…"
      ]
     },
     "metadata": {},
     "output_type": "display_data"
    },
    {
     "name": "stdout",
     "output_type": "stream",
     "text": [
      "Epoch 17: train=4.95987, val=4.08217, took 535.18 s\n"
     ]
    },
    {
     "data": {
      "application/vnd.jupyter.widget-view+json": {
       "model_id": "",
       "version_major": 2,
       "version_minor": 0
      },
      "text/plain": [
       "HBox(children=(FloatProgress(value=0.0, description='Training', layout=Layout(flex='2'), max=6667.0, style=Pro…"
      ]
     },
     "metadata": {},
     "output_type": "display_data"
    },
    {
     "name": "stdout",
     "output_type": "stream",
     "text": [
      "Epoch 18: train=4.97287, val=4.21331, took 534.84 s\n"
     ]
    },
    {
     "data": {
      "application/vnd.jupyter.widget-view+json": {
       "model_id": "",
       "version_major": 2,
       "version_minor": 0
      },
      "text/plain": [
       "HBox(children=(FloatProgress(value=0.0, description='Training', layout=Layout(flex='2'), max=6667.0, style=Pro…"
      ]
     },
     "metadata": {},
     "output_type": "display_data"
    },
    {
     "name": "stdout",
     "output_type": "stream",
     "text": [
      "Epoch 19: train=4.96125, val=4.06537, took 534.86 s\n"
     ]
    },
    {
     "data": {
      "application/vnd.jupyter.widget-view+json": {
       "model_id": "",
       "version_major": 2,
       "version_minor": 0
      },
      "text/plain": [
       "HBox(children=(FloatProgress(value=0.0, description='Training', layout=Layout(flex='2'), max=6667.0, style=Pro…"
      ]
     },
     "metadata": {},
     "output_type": "display_data"
    },
    {
     "name": "stdout",
     "output_type": "stream",
     "text": [
      "Epoch 20: train=4.95021, val=4.0821, took 536.24 s\n"
     ]
    },
    {
     "data": {
      "application/vnd.jupyter.widget-view+json": {
       "model_id": "",
       "version_major": 2,
       "version_minor": 0
      },
      "text/plain": [
       "HBox(children=(FloatProgress(value=0.0, description='Training', layout=Layout(flex='2'), max=6667.0, style=Pro…"
      ]
     },
     "metadata": {},
     "output_type": "display_data"
    },
    {
     "name": "stdout",
     "output_type": "stream",
     "text": [
      "Epoch 21: train=4.95199, val=4.05607, took 535.51 s\n"
     ]
    },
    {
     "data": {
      "application/vnd.jupyter.widget-view+json": {
       "model_id": "",
       "version_major": 2,
       "version_minor": 0
      },
      "text/plain": [
       "HBox(children=(FloatProgress(value=0.0, description='Training', layout=Layout(flex='2'), max=6667.0, style=Pro…"
      ]
     },
     "metadata": {},
     "output_type": "display_data"
    },
    {
     "name": "stdout",
     "output_type": "stream",
     "text": [
      "Epoch 22: train=4.94344, val=4.02094, took 535.12 s\n"
     ]
    },
    {
     "data": {
      "application/vnd.jupyter.widget-view+json": {
       "model_id": "",
       "version_major": 2,
       "version_minor": 0
      },
      "text/plain": [
       "HBox(children=(FloatProgress(value=0.0, description='Training', layout=Layout(flex='2'), max=6667.0, style=Pro…"
      ]
     },
     "metadata": {},
     "output_type": "display_data"
    },
    {
     "name": "stdout",
     "output_type": "stream",
     "text": [
      "Epoch 23: train=4.94422, val=4.58133, took 535.41 s\n"
     ]
    },
    {
     "data": {
      "application/vnd.jupyter.widget-view+json": {
       "model_id": "",
       "version_major": 2,
       "version_minor": 0
      },
      "text/plain": [
       "HBox(children=(FloatProgress(value=0.0, description='Training', layout=Layout(flex='2'), max=6667.0, style=Pro…"
      ]
     },
     "metadata": {},
     "output_type": "display_data"
    },
    {
     "name": "stdout",
     "output_type": "stream",
     "text": [
      "Epoch 24: train=4.934, val=4.05226, took 535.07 s\n"
     ]
    },
    {
     "data": {
      "application/vnd.jupyter.widget-view+json": {
       "model_id": "",
       "version_major": 2,
       "version_minor": 0
      },
      "text/plain": [
       "HBox(children=(FloatProgress(value=0.0, description='Training', layout=Layout(flex='2'), max=6667.0, style=Pro…"
      ]
     },
     "metadata": {},
     "output_type": "display_data"
    },
    {
     "name": "stdout",
     "output_type": "stream",
     "text": [
      "Epoch 25: train=4.93249, val=3.98796, took 535.16 s\n"
     ]
    },
    {
     "data": {
      "application/vnd.jupyter.widget-view+json": {
       "model_id": "",
       "version_major": 2,
       "version_minor": 0
      },
      "text/plain": [
       "HBox(children=(FloatProgress(value=0.0, description='Training', layout=Layout(flex='2'), max=6667.0, style=Pro…"
      ]
     },
     "metadata": {},
     "output_type": "display_data"
    },
    {
     "name": "stdout",
     "output_type": "stream",
     "text": [
      "Epoch 26: train=4.92898, val=4.19214, took 536.25 s\n"
     ]
    },
    {
     "data": {
      "application/vnd.jupyter.widget-view+json": {
       "model_id": "",
       "version_major": 2,
       "version_minor": 0
      },
      "text/plain": [
       "HBox(children=(FloatProgress(value=0.0, description='Training', layout=Layout(flex='2'), max=6667.0, style=Pro…"
      ]
     },
     "metadata": {},
     "output_type": "display_data"
    },
    {
     "name": "stdout",
     "output_type": "stream",
     "text": [
      "Epoch 27: train=4.92948, val=4.02879, took 535.1 s\n"
     ]
    },
    {
     "data": {
      "application/vnd.jupyter.widget-view+json": {
       "model_id": "",
       "version_major": 2,
       "version_minor": 0
      },
      "text/plain": [
       "HBox(children=(FloatProgress(value=0.0, description='Training', layout=Layout(flex='2'), max=6667.0, style=Pro…"
      ]
     },
     "metadata": {},
     "output_type": "display_data"
    },
    {
     "name": "stdout",
     "output_type": "stream",
     "text": [
      "Epoch 28: train=4.91964, val=3.9894, took 535.08 s\n"
     ]
    },
    {
     "data": {
      "application/vnd.jupyter.widget-view+json": {
       "model_id": "",
       "version_major": 2,
       "version_minor": 0
      },
      "text/plain": [
       "HBox(children=(FloatProgress(value=0.0, description='Training', layout=Layout(flex='2'), max=6667.0, style=Pro…"
      ]
     },
     "metadata": {},
     "output_type": "display_data"
    },
    {
     "name": "stdout",
     "output_type": "stream",
     "text": [
      "Epoch 29: train=4.9102, val=4.0819, took 535.58 s\n"
     ]
    },
    {
     "data": {
      "application/vnd.jupyter.widget-view+json": {
       "model_id": "",
       "version_major": 2,
       "version_minor": 0
      },
      "text/plain": [
       "HBox(children=(FloatProgress(value=0.0, description='Training', layout=Layout(flex='2'), max=6667.0, style=Pro…"
      ]
     },
     "metadata": {},
     "output_type": "display_data"
    },
    {
     "name": "stdout",
     "output_type": "stream",
     "text": [
      "Epoch 30: train=4.91592, val=4.59229, took 534.9 s\n"
     ]
    },
    {
     "data": {
      "application/vnd.jupyter.widget-view+json": {
       "model_id": "",
       "version_major": 2,
       "version_minor": 0
      },
      "text/plain": [
       "HBox(children=(FloatProgress(value=0.0, description='Training', layout=Layout(flex='2'), max=6667.0, style=Pro…"
      ]
     },
     "metadata": {},
     "output_type": "display_data"
    },
    {
     "name": "stdout",
     "output_type": "stream",
     "text": [
      "Epoch 31: train=4.90624, val=4.06114, took 535.12 s\n"
     ]
    },
    {
     "data": {
      "application/vnd.jupyter.widget-view+json": {
       "model_id": "",
       "version_major": 2,
       "version_minor": 0
      },
      "text/plain": [
       "HBox(children=(FloatProgress(value=0.0, description='Training', layout=Layout(flex='2'), max=6667.0, style=Pro…"
      ]
     },
     "metadata": {},
     "output_type": "display_data"
    },
    {
     "name": "stdout",
     "output_type": "stream",
     "text": [
      "Epoch 32: train=4.90106, val=4.20787, took 534.95 s\n"
     ]
    },
    {
     "data": {
      "application/vnd.jupyter.widget-view+json": {
       "model_id": "",
       "version_major": 2,
       "version_minor": 0
      },
      "text/plain": [
       "HBox(children=(FloatProgress(value=0.0, description='Training', layout=Layout(flex='2'), max=6667.0, style=Pro…"
      ]
     },
     "metadata": {},
     "output_type": "display_data"
    },
    {
     "name": "stdout",
     "output_type": "stream",
     "text": [
      "Epoch 33: train=4.90489, val=3.97104, took 535.22 s\n"
     ]
    },
    {
     "data": {
      "application/vnd.jupyter.widget-view+json": {
       "model_id": "",
       "version_major": 2,
       "version_minor": 0
      },
      "text/plain": [
       "HBox(children=(FloatProgress(value=0.0, description='Training', layout=Layout(flex='2'), max=6667.0, style=Pro…"
      ]
     },
     "metadata": {},
     "output_type": "display_data"
    },
    {
     "name": "stdout",
     "output_type": "stream",
     "text": [
      "Epoch 34: train=4.90199, val=3.9701, took 535.67 s\n"
     ]
    },
    {
     "data": {
      "application/vnd.jupyter.widget-view+json": {
       "model_id": "",
       "version_major": 2,
       "version_minor": 0
      },
      "text/plain": [
       "HBox(children=(FloatProgress(value=0.0, description='Training', layout=Layout(flex='2'), max=6667.0, style=Pro…"
      ]
     },
     "metadata": {},
     "output_type": "display_data"
    },
    {
     "name": "stdout",
     "output_type": "stream",
     "text": [
      "Epoch 35: train=4.89096, val=3.9606, took 534.72 s\n"
     ]
    },
    {
     "data": {
      "application/vnd.jupyter.widget-view+json": {
       "model_id": "",
       "version_major": 2,
       "version_minor": 0
      },
      "text/plain": [
       "HBox(children=(FloatProgress(value=0.0, description='Training', layout=Layout(flex='2'), max=6667.0, style=Pro…"
      ]
     },
     "metadata": {},
     "output_type": "display_data"
    },
    {
     "name": "stdout",
     "output_type": "stream",
     "text": [
      "Epoch 36: train=4.89391, val=3.94644, took 535.29 s\n"
     ]
    },
    {
     "data": {
      "application/vnd.jupyter.widget-view+json": {
       "model_id": "",
       "version_major": 2,
       "version_minor": 0
      },
      "text/plain": [
       "HBox(children=(FloatProgress(value=0.0, description='Training', layout=Layout(flex='2'), max=6667.0, style=Pro…"
      ]
     },
     "metadata": {},
     "output_type": "display_data"
    },
    {
     "name": "stdout",
     "output_type": "stream",
     "text": [
      "Epoch 37: train=4.88697, val=4.07417, took 535.05 s\n"
     ]
    },
    {
     "data": {
      "application/vnd.jupyter.widget-view+json": {
       "model_id": "",
       "version_major": 2,
       "version_minor": 0
      },
      "text/plain": [
       "HBox(children=(FloatProgress(value=0.0, description='Training', layout=Layout(flex='2'), max=6667.0, style=Pro…"
      ]
     },
     "metadata": {},
     "output_type": "display_data"
    },
    {
     "name": "stdout",
     "output_type": "stream",
     "text": [
      "Epoch 38: train=4.88876, val=4.12789, took 535.12 s\n"
     ]
    },
    {
     "data": {
      "application/vnd.jupyter.widget-view+json": {
       "model_id": "",
       "version_major": 2,
       "version_minor": 0
      },
      "text/plain": [
       "HBox(children=(FloatProgress(value=0.0, description='Training', layout=Layout(flex='2'), max=6667.0, style=Pro…"
      ]
     },
     "metadata": {},
     "output_type": "display_data"
    },
    {
     "name": "stdout",
     "output_type": "stream",
     "text": [
      "Epoch 39: train=4.88053, val=3.99589, took 535.13 s\n"
     ]
    },
    {
     "data": {
      "application/vnd.jupyter.widget-view+json": {
       "model_id": "",
       "version_major": 2,
       "version_minor": 0
      },
      "text/plain": [
       "HBox(children=(FloatProgress(value=0.0, description='Training', layout=Layout(flex='2'), max=6667.0, style=Pro…"
      ]
     },
     "metadata": {},
     "output_type": "display_data"
    },
    {
     "name": "stdout",
     "output_type": "stream",
     "text": [
      "Epoch 40: train=4.87124, val=4.00836, took 534.92 s\n"
     ]
    },
    {
     "data": {
      "application/vnd.jupyter.widget-view+json": {
       "model_id": "",
       "version_major": 2,
       "version_minor": 0
      },
      "text/plain": [
       "HBox(children=(FloatProgress(value=0.0, description='Training', layout=Layout(flex='2'), max=6667.0, style=Pro…"
      ]
     },
     "metadata": {},
     "output_type": "display_data"
    },
    {
     "name": "stdout",
     "output_type": "stream",
     "text": [
      "Epoch 41: train=4.8684, val=3.95742, took 535.38 s\n"
     ]
    },
    {
     "data": {
      "application/vnd.jupyter.widget-view+json": {
       "model_id": "",
       "version_major": 2,
       "version_minor": 0
      },
      "text/plain": [
       "HBox(children=(FloatProgress(value=0.0, description='Training', layout=Layout(flex='2'), max=6667.0, style=Pro…"
      ]
     },
     "metadata": {},
     "output_type": "display_data"
    },
    {
     "name": "stdout",
     "output_type": "stream",
     "text": [
      "Epoch 42: train=4.86995, val=4.03239, took 535.27 s\n"
     ]
    },
    {
     "data": {
      "application/vnd.jupyter.widget-view+json": {
       "model_id": "",
       "version_major": 2,
       "version_minor": 0
      },
      "text/plain": [
       "HBox(children=(FloatProgress(value=0.0, description='Training', layout=Layout(flex='2'), max=6667.0, style=Pro…"
      ]
     },
     "metadata": {},
     "output_type": "display_data"
    },
    {
     "name": "stdout",
     "output_type": "stream",
     "text": [
      "Epoch 43: train=4.86716, val=3.93884, took 535.33 s\n"
     ]
    },
    {
     "data": {
      "application/vnd.jupyter.widget-view+json": {
       "model_id": "",
       "version_major": 2,
       "version_minor": 0
      },
      "text/plain": [
       "HBox(children=(FloatProgress(value=0.0, description='Training', layout=Layout(flex='2'), max=6667.0, style=Pro…"
      ]
     },
     "metadata": {},
     "output_type": "display_data"
    },
    {
     "name": "stdout",
     "output_type": "stream",
     "text": [
      "Epoch 44: train=4.85285, val=3.97365, took 535.37 s\n"
     ]
    },
    {
     "data": {
      "application/vnd.jupyter.widget-view+json": {
       "model_id": "",
       "version_major": 2,
       "version_minor": 0
      },
      "text/plain": [
       "HBox(children=(FloatProgress(value=0.0, description='Training', layout=Layout(flex='2'), max=6667.0, style=Pro…"
      ]
     },
     "metadata": {},
     "output_type": "display_data"
    },
    {
     "name": "stdout",
     "output_type": "stream",
     "text": [
      "Epoch 45: train=4.85066, val=4.05251, took 535.08 s\n"
     ]
    },
    {
     "data": {
      "application/vnd.jupyter.widget-view+json": {
       "model_id": "",
       "version_major": 2,
       "version_minor": 0
      },
      "text/plain": [
       "HBox(children=(FloatProgress(value=0.0, description='Training', layout=Layout(flex='2'), max=6667.0, style=Pro…"
      ]
     },
     "metadata": {},
     "output_type": "display_data"
    },
    {
     "name": "stdout",
     "output_type": "stream",
     "text": [
      "Epoch 46: train=4.84379, val=3.93025, took 535.52 s\n"
     ]
    },
    {
     "data": {
      "application/vnd.jupyter.widget-view+json": {
       "model_id": "",
       "version_major": 2,
       "version_minor": 0
      },
      "text/plain": [
       "HBox(children=(FloatProgress(value=0.0, description='Training', layout=Layout(flex='2'), max=6667.0, style=Pro…"
      ]
     },
     "metadata": {},
     "output_type": "display_data"
    },
    {
     "name": "stdout",
     "output_type": "stream",
     "text": [
      "Epoch 47: train=4.85031, val=4.27411, took 535.37 s\n"
     ]
    },
    {
     "data": {
      "application/vnd.jupyter.widget-view+json": {
       "model_id": "",
       "version_major": 2,
       "version_minor": 0
      },
      "text/plain": [
       "HBox(children=(FloatProgress(value=0.0, description='Training', layout=Layout(flex='2'), max=6667.0, style=Pro…"
      ]
     },
     "metadata": {},
     "output_type": "display_data"
    },
    {
     "name": "stdout",
     "output_type": "stream",
     "text": [
      "Epoch 48: train=4.84378, val=3.94048, took 535.24 s\n"
     ]
    },
    {
     "data": {
      "application/vnd.jupyter.widget-view+json": {
       "model_id": "",
       "version_major": 2,
       "version_minor": 0
      },
      "text/plain": [
       "HBox(children=(FloatProgress(value=0.0, description='Training', layout=Layout(flex='2'), max=6667.0, style=Pro…"
      ]
     },
     "metadata": {},
     "output_type": "display_data"
    },
    {
     "name": "stdout",
     "output_type": "stream",
     "text": [
      "Epoch 49: train=4.84297, val=4.03347, took 535.01 s\n"
     ]
    },
    {
     "data": {
      "application/vnd.jupyter.widget-view+json": {
       "model_id": "",
       "version_major": 2,
       "version_minor": 0
      },
      "text/plain": [
       "HBox(children=(FloatProgress(value=0.0, description='Training', layout=Layout(flex='2'), max=6667.0, style=Pro…"
      ]
     },
     "metadata": {},
     "output_type": "display_data"
    },
    {
     "name": "stdout",
     "output_type": "stream",
     "text": [
      "Epoch 50: train=4.83824, val=4.01972, took 534.8 s\n"
     ]
    },
    {
     "data": {
      "application/vnd.jupyter.widget-view+json": {
       "model_id": "",
       "version_major": 2,
       "version_minor": 0
      },
      "text/plain": [
       "HBox(children=(FloatProgress(value=0.0, description='Training', layout=Layout(flex='2'), max=6667.0, style=Pro…"
      ]
     },
     "metadata": {},
     "output_type": "display_data"
    },
    {
     "name": "stdout",
     "output_type": "stream",
     "text": [
      "Epoch 51: train=4.83691, val=4.11996, took 534.79 s\n"
     ]
    },
    {
     "data": {
      "application/vnd.jupyter.widget-view+json": {
       "model_id": "",
       "version_major": 2,
       "version_minor": 0
      },
      "text/plain": [
       "HBox(children=(FloatProgress(value=0.0, description='Training', layout=Layout(flex='2'), max=6667.0, style=Pro…"
      ]
     },
     "metadata": {},
     "output_type": "display_data"
    },
    {
     "name": "stdout",
     "output_type": "stream",
     "text": [
      "Epoch 52: train=4.83175, val=3.96809, took 535.12 s\n"
     ]
    },
    {
     "data": {
      "application/vnd.jupyter.widget-view+json": {
       "model_id": "",
       "version_major": 2,
       "version_minor": 0
      },
      "text/plain": [
       "HBox(children=(FloatProgress(value=0.0, description='Training', layout=Layout(flex='2'), max=6667.0, style=Pro…"
      ]
     },
     "metadata": {},
     "output_type": "display_data"
    },
    {
     "name": "stdout",
     "output_type": "stream",
     "text": [
      "Epoch 53: train=4.82298, val=3.91002, took 535.16 s\n"
     ]
    },
    {
     "data": {
      "application/vnd.jupyter.widget-view+json": {
       "model_id": "",
       "version_major": 2,
       "version_minor": 0
      },
      "text/plain": [
       "HBox(children=(FloatProgress(value=0.0, description='Training', layout=Layout(flex='2'), max=6667.0, style=Pro…"
      ]
     },
     "metadata": {},
     "output_type": "display_data"
    },
    {
     "name": "stdout",
     "output_type": "stream",
     "text": [
      "Epoch 54: train=4.822, val=3.89854, took 535.54 s\n"
     ]
    },
    {
     "data": {
      "application/vnd.jupyter.widget-view+json": {
       "model_id": "",
       "version_major": 2,
       "version_minor": 0
      },
      "text/plain": [
       "HBox(children=(FloatProgress(value=0.0, description='Training', layout=Layout(flex='2'), max=6667.0, style=Pro…"
      ]
     },
     "metadata": {},
     "output_type": "display_data"
    },
    {
     "name": "stdout",
     "output_type": "stream",
     "text": [
      "Epoch 55: train=4.82177, val=3.92099, took 535.0 s\n"
     ]
    },
    {
     "data": {
      "application/vnd.jupyter.widget-view+json": {
       "model_id": "",
       "version_major": 2,
       "version_minor": 0
      },
      "text/plain": [
       "HBox(children=(FloatProgress(value=0.0, description='Training', layout=Layout(flex='2'), max=6667.0, style=Pro…"
      ]
     },
     "metadata": {},
     "output_type": "display_data"
    },
    {
     "name": "stdout",
     "output_type": "stream",
     "text": [
      "Epoch 56: train=4.82317, val=3.89735, took 535.74 s\n"
     ]
    },
    {
     "data": {
      "application/vnd.jupyter.widget-view+json": {
       "model_id": "",
       "version_major": 2,
       "version_minor": 0
      },
      "text/plain": [
       "HBox(children=(FloatProgress(value=0.0, description='Training', layout=Layout(flex='2'), max=6667.0, style=Pro…"
      ]
     },
     "metadata": {},
     "output_type": "display_data"
    },
    {
     "name": "stdout",
     "output_type": "stream",
     "text": [
      "Epoch 57: train=4.81428, val=4.02076, took 535.52 s\n"
     ]
    },
    {
     "data": {
      "application/vnd.jupyter.widget-view+json": {
       "model_id": "",
       "version_major": 2,
       "version_minor": 0
      },
      "text/plain": [
       "HBox(children=(FloatProgress(value=0.0, description='Training', layout=Layout(flex='2'), max=6667.0, style=Pro…"
      ]
     },
     "metadata": {},
     "output_type": "display_data"
    },
    {
     "name": "stdout",
     "output_type": "stream",
     "text": [
      "Epoch 58: train=4.81464, val=3.89637, took 535.28 s\n"
     ]
    },
    {
     "data": {
      "application/vnd.jupyter.widget-view+json": {
       "model_id": "",
       "version_major": 2,
       "version_minor": 0
      },
      "text/plain": [
       "HBox(children=(FloatProgress(value=0.0, description='Training', layout=Layout(flex='2'), max=6667.0, style=Pro…"
      ]
     },
     "metadata": {},
     "output_type": "display_data"
    },
    {
     "name": "stdout",
     "output_type": "stream",
     "text": [
      "Epoch 59: train=4.81022, val=3.90136, took 535.47 s\n",
      "\n"
     ]
    }
   ],
   "source": [
    "for result in trainNet(model, optimizer, loss,\n",
    "                        train_loader, val_loader,\n",
    "                        n_epochs, epoch_start=len(results),\n",
    "                        notebook=True):\n",
    "    \n",
    "    results = results.append(pd.Series(result._asdict()), ignore_index=True)\n",
    "    xs = results.index\n",
    "    \n",
    "    # Update the plot above\n",
    "    lines['train'].set_data(results.index,results.cost)\n",
    "    lines['val'].set_data(results.index,results.val)\n",
    "    \n",
    "    #filter first cost epoch (can be really large)\n",
    "    max_cost = max(max(results.cost if len(results.cost)<2 else results.cost[1:]), max(results.val))\n",
    "    min_cost = min(min(results.cost), min(results.val))\n",
    "    \n",
    "    # The plot limits need updating too\n",
    "    \n",
    "    \n",
    "    \n",
    "    ax.set_ylim(min_cost*.9, max_cost*1.1)  \n",
    "    ax.set_xlim(-.5, len(results.cost) - .5)\n",
    "\n",
    "    \n",
    "    # Redraw the figure\n",
    "    fig.canvas.draw()\n",
    "\n",
    "    # Save each model state dictionary\n",
    "    torch.save(model.state_dict(), output / f'{name}_{result.epoch}.pyt')"
   ]
  },
  {
   "cell_type": "markdown",
   "metadata": {},
   "source": [
    "Go ahead and save the final model (even though it was also saved above):"
   ]
  },
  {
   "cell_type": "code",
   "execution_count": 18,
   "metadata": {},
   "outputs": [],
   "source": [
    "torch.save(model.state_dict(), output / f'{name}_final.pyt')"
   ]
  },
  {
   "cell_type": "markdown",
   "metadata": {},
   "source": [
    "Save the output results:"
   ]
  },
  {
   "cell_type": "code",
   "execution_count": 19,
   "metadata": {},
   "outputs": [],
   "source": [
    "results.to_hdf(f'{name}_stats.hdf5', 'results')"
   ]
  },
  {
   "cell_type": "markdown",
   "metadata": {},
   "source": [
    "Save the plot above:"
   ]
  },
  {
   "cell_type": "code",
   "execution_count": 20,
   "metadata": {},
   "outputs": [
    {
     "data": {
      "application/javascript": [
       "/* Put everything inside the global mpl namespace */\n",
       "window.mpl = {};\n",
       "\n",
       "\n",
       "mpl.get_websocket_type = function() {\n",
       "    if (typeof(WebSocket) !== 'undefined') {\n",
       "        return WebSocket;\n",
       "    } else if (typeof(MozWebSocket) !== 'undefined') {\n",
       "        return MozWebSocket;\n",
       "    } else {\n",
       "        alert('Your browser does not have WebSocket support. ' +\n",
       "              'Please try Chrome, Safari or Firefox ≥ 6. ' +\n",
       "              'Firefox 4 and 5 are also supported but you ' +\n",
       "              'have to enable WebSockets in about:config.');\n",
       "    };\n",
       "}\n",
       "\n",
       "mpl.figure = function(figure_id, websocket, ondownload, parent_element) {\n",
       "    this.id = figure_id;\n",
       "\n",
       "    this.ws = websocket;\n",
       "\n",
       "    this.supports_binary = (this.ws.binaryType != undefined);\n",
       "\n",
       "    if (!this.supports_binary) {\n",
       "        var warnings = document.getElementById(\"mpl-warnings\");\n",
       "        if (warnings) {\n",
       "            warnings.style.display = 'block';\n",
       "            warnings.textContent = (\n",
       "                \"This browser does not support binary websocket messages. \" +\n",
       "                    \"Performance may be slow.\");\n",
       "        }\n",
       "    }\n",
       "\n",
       "    this.imageObj = new Image();\n",
       "\n",
       "    this.context = undefined;\n",
       "    this.message = undefined;\n",
       "    this.canvas = undefined;\n",
       "    this.rubberband_canvas = undefined;\n",
       "    this.rubberband_context = undefined;\n",
       "    this.format_dropdown = undefined;\n",
       "\n",
       "    this.image_mode = 'full';\n",
       "\n",
       "    this.root = $('<div/>');\n",
       "    this._root_extra_style(this.root)\n",
       "    this.root.attr('style', 'display: inline-block');\n",
       "\n",
       "    $(parent_element).append(this.root);\n",
       "\n",
       "    this._init_header(this);\n",
       "    this._init_canvas(this);\n",
       "    this._init_toolbar(this);\n",
       "\n",
       "    var fig = this;\n",
       "\n",
       "    this.waiting = false;\n",
       "\n",
       "    this.ws.onopen =  function () {\n",
       "            fig.send_message(\"supports_binary\", {value: fig.supports_binary});\n",
       "            fig.send_message(\"send_image_mode\", {});\n",
       "            if (mpl.ratio != 1) {\n",
       "                fig.send_message(\"set_dpi_ratio\", {'dpi_ratio': mpl.ratio});\n",
       "            }\n",
       "            fig.send_message(\"refresh\", {});\n",
       "        }\n",
       "\n",
       "    this.imageObj.onload = function() {\n",
       "            if (fig.image_mode == 'full') {\n",
       "                // Full images could contain transparency (where diff images\n",
       "                // almost always do), so we need to clear the canvas so that\n",
       "                // there is no ghosting.\n",
       "                fig.context.clearRect(0, 0, fig.canvas.width, fig.canvas.height);\n",
       "            }\n",
       "            fig.context.drawImage(fig.imageObj, 0, 0);\n",
       "        };\n",
       "\n",
       "    this.imageObj.onunload = function() {\n",
       "        fig.ws.close();\n",
       "    }\n",
       "\n",
       "    this.ws.onmessage = this._make_on_message_function(this);\n",
       "\n",
       "    this.ondownload = ondownload;\n",
       "}\n",
       "\n",
       "mpl.figure.prototype._init_header = function() {\n",
       "    var titlebar = $(\n",
       "        '<div class=\"ui-dialog-titlebar ui-widget-header ui-corner-all ' +\n",
       "        'ui-helper-clearfix\"/>');\n",
       "    var titletext = $(\n",
       "        '<div class=\"ui-dialog-title\" style=\"width: 100%; ' +\n",
       "        'text-align: center; padding: 3px;\"/>');\n",
       "    titlebar.append(titletext)\n",
       "    this.root.append(titlebar);\n",
       "    this.header = titletext[0];\n",
       "}\n",
       "\n",
       "\n",
       "\n",
       "mpl.figure.prototype._canvas_extra_style = function(canvas_div) {\n",
       "\n",
       "}\n",
       "\n",
       "\n",
       "mpl.figure.prototype._root_extra_style = function(canvas_div) {\n",
       "\n",
       "}\n",
       "\n",
       "mpl.figure.prototype._init_canvas = function() {\n",
       "    var fig = this;\n",
       "\n",
       "    var canvas_div = $('<div/>');\n",
       "\n",
       "    canvas_div.attr('style', 'position: relative; clear: both; outline: 0');\n",
       "\n",
       "    function canvas_keyboard_event(event) {\n",
       "        return fig.key_event(event, event['data']);\n",
       "    }\n",
       "\n",
       "    canvas_div.keydown('key_press', canvas_keyboard_event);\n",
       "    canvas_div.keyup('key_release', canvas_keyboard_event);\n",
       "    this.canvas_div = canvas_div\n",
       "    this._canvas_extra_style(canvas_div)\n",
       "    this.root.append(canvas_div);\n",
       "\n",
       "    var canvas = $('<canvas/>');\n",
       "    canvas.addClass('mpl-canvas');\n",
       "    canvas.attr('style', \"left: 0; top: 0; z-index: 0; outline: 0\")\n",
       "\n",
       "    this.canvas = canvas[0];\n",
       "    this.context = canvas[0].getContext(\"2d\");\n",
       "\n",
       "    var backingStore = this.context.backingStorePixelRatio ||\n",
       "\tthis.context.webkitBackingStorePixelRatio ||\n",
       "\tthis.context.mozBackingStorePixelRatio ||\n",
       "\tthis.context.msBackingStorePixelRatio ||\n",
       "\tthis.context.oBackingStorePixelRatio ||\n",
       "\tthis.context.backingStorePixelRatio || 1;\n",
       "\n",
       "    mpl.ratio = (window.devicePixelRatio || 1) / backingStore;\n",
       "\n",
       "    var rubberband = $('<canvas/>');\n",
       "    rubberband.attr('style', \"position: absolute; left: 0; top: 0; z-index: 1;\")\n",
       "\n",
       "    var pass_mouse_events = true;\n",
       "\n",
       "    canvas_div.resizable({\n",
       "        start: function(event, ui) {\n",
       "            pass_mouse_events = false;\n",
       "        },\n",
       "        resize: function(event, ui) {\n",
       "            fig.request_resize(ui.size.width, ui.size.height);\n",
       "        },\n",
       "        stop: function(event, ui) {\n",
       "            pass_mouse_events = true;\n",
       "            fig.request_resize(ui.size.width, ui.size.height);\n",
       "        },\n",
       "    });\n",
       "\n",
       "    function mouse_event_fn(event) {\n",
       "        if (pass_mouse_events)\n",
       "            return fig.mouse_event(event, event['data']);\n",
       "    }\n",
       "\n",
       "    rubberband.mousedown('button_press', mouse_event_fn);\n",
       "    rubberband.mouseup('button_release', mouse_event_fn);\n",
       "    // Throttle sequential mouse events to 1 every 20ms.\n",
       "    rubberband.mousemove('motion_notify', mouse_event_fn);\n",
       "\n",
       "    rubberband.mouseenter('figure_enter', mouse_event_fn);\n",
       "    rubberband.mouseleave('figure_leave', mouse_event_fn);\n",
       "\n",
       "    canvas_div.on(\"wheel\", function (event) {\n",
       "        event = event.originalEvent;\n",
       "        event['data'] = 'scroll'\n",
       "        if (event.deltaY < 0) {\n",
       "            event.step = 1;\n",
       "        } else {\n",
       "            event.step = -1;\n",
       "        }\n",
       "        mouse_event_fn(event);\n",
       "    });\n",
       "\n",
       "    canvas_div.append(canvas);\n",
       "    canvas_div.append(rubberband);\n",
       "\n",
       "    this.rubberband = rubberband;\n",
       "    this.rubberband_canvas = rubberband[0];\n",
       "    this.rubberband_context = rubberband[0].getContext(\"2d\");\n",
       "    this.rubberband_context.strokeStyle = \"#000000\";\n",
       "\n",
       "    this._resize_canvas = function(width, height) {\n",
       "        // Keep the size of the canvas, canvas container, and rubber band\n",
       "        // canvas in synch.\n",
       "        canvas_div.css('width', width)\n",
       "        canvas_div.css('height', height)\n",
       "\n",
       "        canvas.attr('width', width * mpl.ratio);\n",
       "        canvas.attr('height', height * mpl.ratio);\n",
       "        canvas.attr('style', 'width: ' + width + 'px; height: ' + height + 'px;');\n",
       "\n",
       "        rubberband.attr('width', width);\n",
       "        rubberband.attr('height', height);\n",
       "    }\n",
       "\n",
       "    // Set the figure to an initial 600x600px, this will subsequently be updated\n",
       "    // upon first draw.\n",
       "    this._resize_canvas(600, 600);\n",
       "\n",
       "    // Disable right mouse context menu.\n",
       "    $(this.rubberband_canvas).bind(\"contextmenu\",function(e){\n",
       "        return false;\n",
       "    });\n",
       "\n",
       "    function set_focus () {\n",
       "        canvas.focus();\n",
       "        canvas_div.focus();\n",
       "    }\n",
       "\n",
       "    window.setTimeout(set_focus, 100);\n",
       "}\n",
       "\n",
       "mpl.figure.prototype._init_toolbar = function() {\n",
       "    var fig = this;\n",
       "\n",
       "    var nav_element = $('<div/>');\n",
       "    nav_element.attr('style', 'width: 100%');\n",
       "    this.root.append(nav_element);\n",
       "\n",
       "    // Define a callback function for later on.\n",
       "    function toolbar_event(event) {\n",
       "        return fig.toolbar_button_onclick(event['data']);\n",
       "    }\n",
       "    function toolbar_mouse_event(event) {\n",
       "        return fig.toolbar_button_onmouseover(event['data']);\n",
       "    }\n",
       "\n",
       "    for(var toolbar_ind in mpl.toolbar_items) {\n",
       "        var name = mpl.toolbar_items[toolbar_ind][0];\n",
       "        var tooltip = mpl.toolbar_items[toolbar_ind][1];\n",
       "        var image = mpl.toolbar_items[toolbar_ind][2];\n",
       "        var method_name = mpl.toolbar_items[toolbar_ind][3];\n",
       "\n",
       "        if (!name) {\n",
       "            // put a spacer in here.\n",
       "            continue;\n",
       "        }\n",
       "        var button = $('<button/>');\n",
       "        button.addClass('ui-button ui-widget ui-state-default ui-corner-all ' +\n",
       "                        'ui-button-icon-only');\n",
       "        button.attr('role', 'button');\n",
       "        button.attr('aria-disabled', 'false');\n",
       "        button.click(method_name, toolbar_event);\n",
       "        button.mouseover(tooltip, toolbar_mouse_event);\n",
       "\n",
       "        var icon_img = $('<span/>');\n",
       "        icon_img.addClass('ui-button-icon-primary ui-icon');\n",
       "        icon_img.addClass(image);\n",
       "        icon_img.addClass('ui-corner-all');\n",
       "\n",
       "        var tooltip_span = $('<span/>');\n",
       "        tooltip_span.addClass('ui-button-text');\n",
       "        tooltip_span.html(tooltip);\n",
       "\n",
       "        button.append(icon_img);\n",
       "        button.append(tooltip_span);\n",
       "\n",
       "        nav_element.append(button);\n",
       "    }\n",
       "\n",
       "    var fmt_picker_span = $('<span/>');\n",
       "\n",
       "    var fmt_picker = $('<select/>');\n",
       "    fmt_picker.addClass('mpl-toolbar-option ui-widget ui-widget-content');\n",
       "    fmt_picker_span.append(fmt_picker);\n",
       "    nav_element.append(fmt_picker_span);\n",
       "    this.format_dropdown = fmt_picker[0];\n",
       "\n",
       "    for (var ind in mpl.extensions) {\n",
       "        var fmt = mpl.extensions[ind];\n",
       "        var option = $(\n",
       "            '<option/>', {selected: fmt === mpl.default_extension}).html(fmt);\n",
       "        fmt_picker.append(option);\n",
       "    }\n",
       "\n",
       "    // Add hover states to the ui-buttons\n",
       "    $( \".ui-button\" ).hover(\n",
       "        function() { $(this).addClass(\"ui-state-hover\");},\n",
       "        function() { $(this).removeClass(\"ui-state-hover\");}\n",
       "    );\n",
       "\n",
       "    var status_bar = $('<span class=\"mpl-message\"/>');\n",
       "    nav_element.append(status_bar);\n",
       "    this.message = status_bar[0];\n",
       "}\n",
       "\n",
       "mpl.figure.prototype.request_resize = function(x_pixels, y_pixels) {\n",
       "    // Request matplotlib to resize the figure. Matplotlib will then trigger a resize in the client,\n",
       "    // which will in turn request a refresh of the image.\n",
       "    this.send_message('resize', {'width': x_pixels, 'height': y_pixels});\n",
       "}\n",
       "\n",
       "mpl.figure.prototype.send_message = function(type, properties) {\n",
       "    properties['type'] = type;\n",
       "    properties['figure_id'] = this.id;\n",
       "    this.ws.send(JSON.stringify(properties));\n",
       "}\n",
       "\n",
       "mpl.figure.prototype.send_draw_message = function() {\n",
       "    if (!this.waiting) {\n",
       "        this.waiting = true;\n",
       "        this.ws.send(JSON.stringify({type: \"draw\", figure_id: this.id}));\n",
       "    }\n",
       "}\n",
       "\n",
       "\n",
       "mpl.figure.prototype.handle_save = function(fig, msg) {\n",
       "    var format_dropdown = fig.format_dropdown;\n",
       "    var format = format_dropdown.options[format_dropdown.selectedIndex].value;\n",
       "    fig.ondownload(fig, format);\n",
       "}\n",
       "\n",
       "\n",
       "mpl.figure.prototype.handle_resize = function(fig, msg) {\n",
       "    var size = msg['size'];\n",
       "    if (size[0] != fig.canvas.width || size[1] != fig.canvas.height) {\n",
       "        fig._resize_canvas(size[0], size[1]);\n",
       "        fig.send_message(\"refresh\", {});\n",
       "    };\n",
       "}\n",
       "\n",
       "mpl.figure.prototype.handle_rubberband = function(fig, msg) {\n",
       "    var x0 = msg['x0'] / mpl.ratio;\n",
       "    var y0 = (fig.canvas.height - msg['y0']) / mpl.ratio;\n",
       "    var x1 = msg['x1'] / mpl.ratio;\n",
       "    var y1 = (fig.canvas.height - msg['y1']) / mpl.ratio;\n",
       "    x0 = Math.floor(x0) + 0.5;\n",
       "    y0 = Math.floor(y0) + 0.5;\n",
       "    x1 = Math.floor(x1) + 0.5;\n",
       "    y1 = Math.floor(y1) + 0.5;\n",
       "    var min_x = Math.min(x0, x1);\n",
       "    var min_y = Math.min(y0, y1);\n",
       "    var width = Math.abs(x1 - x0);\n",
       "    var height = Math.abs(y1 - y0);\n",
       "\n",
       "    fig.rubberband_context.clearRect(\n",
       "        0, 0, fig.canvas.width / mpl.ratio, fig.canvas.height / mpl.ratio);\n",
       "\n",
       "    fig.rubberband_context.strokeRect(min_x, min_y, width, height);\n",
       "}\n",
       "\n",
       "mpl.figure.prototype.handle_figure_label = function(fig, msg) {\n",
       "    // Updates the figure title.\n",
       "    fig.header.textContent = msg['label'];\n",
       "}\n",
       "\n",
       "mpl.figure.prototype.handle_cursor = function(fig, msg) {\n",
       "    var cursor = msg['cursor'];\n",
       "    switch(cursor)\n",
       "    {\n",
       "    case 0:\n",
       "        cursor = 'pointer';\n",
       "        break;\n",
       "    case 1:\n",
       "        cursor = 'default';\n",
       "        break;\n",
       "    case 2:\n",
       "        cursor = 'crosshair';\n",
       "        break;\n",
       "    case 3:\n",
       "        cursor = 'move';\n",
       "        break;\n",
       "    }\n",
       "    fig.rubberband_canvas.style.cursor = cursor;\n",
       "}\n",
       "\n",
       "mpl.figure.prototype.handle_message = function(fig, msg) {\n",
       "    fig.message.textContent = msg['message'];\n",
       "}\n",
       "\n",
       "mpl.figure.prototype.handle_draw = function(fig, msg) {\n",
       "    // Request the server to send over a new figure.\n",
       "    fig.send_draw_message();\n",
       "}\n",
       "\n",
       "mpl.figure.prototype.handle_image_mode = function(fig, msg) {\n",
       "    fig.image_mode = msg['mode'];\n",
       "}\n",
       "\n",
       "mpl.figure.prototype.updated_canvas_event = function() {\n",
       "    // Called whenever the canvas gets updated.\n",
       "    this.send_message(\"ack\", {});\n",
       "}\n",
       "\n",
       "// A function to construct a web socket function for onmessage handling.\n",
       "// Called in the figure constructor.\n",
       "mpl.figure.prototype._make_on_message_function = function(fig) {\n",
       "    return function socket_on_message(evt) {\n",
       "        if (evt.data instanceof Blob) {\n",
       "            /* FIXME: We get \"Resource interpreted as Image but\n",
       "             * transferred with MIME type text/plain:\" errors on\n",
       "             * Chrome.  But how to set the MIME type?  It doesn't seem\n",
       "             * to be part of the websocket stream */\n",
       "            evt.data.type = \"image/png\";\n",
       "\n",
       "            /* Free the memory for the previous frames */\n",
       "            if (fig.imageObj.src) {\n",
       "                (window.URL || window.webkitURL).revokeObjectURL(\n",
       "                    fig.imageObj.src);\n",
       "            }\n",
       "\n",
       "            fig.imageObj.src = (window.URL || window.webkitURL).createObjectURL(\n",
       "                evt.data);\n",
       "            fig.updated_canvas_event();\n",
       "            fig.waiting = false;\n",
       "            return;\n",
       "        }\n",
       "        else if (typeof evt.data === 'string' && evt.data.slice(0, 21) == \"data:image/png;base64\") {\n",
       "            fig.imageObj.src = evt.data;\n",
       "            fig.updated_canvas_event();\n",
       "            fig.waiting = false;\n",
       "            return;\n",
       "        }\n",
       "\n",
       "        var msg = JSON.parse(evt.data);\n",
       "        var msg_type = msg['type'];\n",
       "\n",
       "        // Call the  \"handle_{type}\" callback, which takes\n",
       "        // the figure and JSON message as its only arguments.\n",
       "        try {\n",
       "            var callback = fig[\"handle_\" + msg_type];\n",
       "        } catch (e) {\n",
       "            console.log(\"No handler for the '\" + msg_type + \"' message type: \", msg);\n",
       "            return;\n",
       "        }\n",
       "\n",
       "        if (callback) {\n",
       "            try {\n",
       "                // console.log(\"Handling '\" + msg_type + \"' message: \", msg);\n",
       "                callback(fig, msg);\n",
       "            } catch (e) {\n",
       "                console.log(\"Exception inside the 'handler_\" + msg_type + \"' callback:\", e, e.stack, msg);\n",
       "            }\n",
       "        }\n",
       "    };\n",
       "}\n",
       "\n",
       "// from http://stackoverflow.com/questions/1114465/getting-mouse-location-in-canvas\n",
       "mpl.findpos = function(e) {\n",
       "    //this section is from http://www.quirksmode.org/js/events_properties.html\n",
       "    var targ;\n",
       "    if (!e)\n",
       "        e = window.event;\n",
       "    if (e.target)\n",
       "        targ = e.target;\n",
       "    else if (e.srcElement)\n",
       "        targ = e.srcElement;\n",
       "    if (targ.nodeType == 3) // defeat Safari bug\n",
       "        targ = targ.parentNode;\n",
       "\n",
       "    // jQuery normalizes the pageX and pageY\n",
       "    // pageX,Y are the mouse positions relative to the document\n",
       "    // offset() returns the position of the element relative to the document\n",
       "    var x = e.pageX - $(targ).offset().left;\n",
       "    var y = e.pageY - $(targ).offset().top;\n",
       "\n",
       "    return {\"x\": x, \"y\": y};\n",
       "};\n",
       "\n",
       "/*\n",
       " * return a copy of an object with only non-object keys\n",
       " * we need this to avoid circular references\n",
       " * http://stackoverflow.com/a/24161582/3208463\n",
       " */\n",
       "function simpleKeys (original) {\n",
       "  return Object.keys(original).reduce(function (obj, key) {\n",
       "    if (typeof original[key] !== 'object')\n",
       "        obj[key] = original[key]\n",
       "    return obj;\n",
       "  }, {});\n",
       "}\n",
       "\n",
       "mpl.figure.prototype.mouse_event = function(event, name) {\n",
       "    var canvas_pos = mpl.findpos(event)\n",
       "\n",
       "    if (name === 'button_press')\n",
       "    {\n",
       "        this.canvas.focus();\n",
       "        this.canvas_div.focus();\n",
       "    }\n",
       "\n",
       "    var x = canvas_pos.x * mpl.ratio;\n",
       "    var y = canvas_pos.y * mpl.ratio;\n",
       "\n",
       "    this.send_message(name, {x: x, y: y, button: event.button,\n",
       "                             step: event.step,\n",
       "                             guiEvent: simpleKeys(event)});\n",
       "\n",
       "    /* This prevents the web browser from automatically changing to\n",
       "     * the text insertion cursor when the button is pressed.  We want\n",
       "     * to control all of the cursor setting manually through the\n",
       "     * 'cursor' event from matplotlib */\n",
       "    event.preventDefault();\n",
       "    return false;\n",
       "}\n",
       "\n",
       "mpl.figure.prototype._key_event_extra = function(event, name) {\n",
       "    // Handle any extra behaviour associated with a key event\n",
       "}\n",
       "\n",
       "mpl.figure.prototype.key_event = function(event, name) {\n",
       "\n",
       "    // Prevent repeat events\n",
       "    if (name == 'key_press')\n",
       "    {\n",
       "        if (event.which === this._key)\n",
       "            return;\n",
       "        else\n",
       "            this._key = event.which;\n",
       "    }\n",
       "    if (name == 'key_release')\n",
       "        this._key = null;\n",
       "\n",
       "    var value = '';\n",
       "    if (event.ctrlKey && event.which != 17)\n",
       "        value += \"ctrl+\";\n",
       "    if (event.altKey && event.which != 18)\n",
       "        value += \"alt+\";\n",
       "    if (event.shiftKey && event.which != 16)\n",
       "        value += \"shift+\";\n",
       "\n",
       "    value += 'k';\n",
       "    value += event.which.toString();\n",
       "\n",
       "    this._key_event_extra(event, name);\n",
       "\n",
       "    this.send_message(name, {key: value,\n",
       "                             guiEvent: simpleKeys(event)});\n",
       "    return false;\n",
       "}\n",
       "\n",
       "mpl.figure.prototype.toolbar_button_onclick = function(name) {\n",
       "    if (name == 'download') {\n",
       "        this.handle_save(this, null);\n",
       "    } else {\n",
       "        this.send_message(\"toolbar_button\", {name: name});\n",
       "    }\n",
       "};\n",
       "\n",
       "mpl.figure.prototype.toolbar_button_onmouseover = function(tooltip) {\n",
       "    this.message.textContent = tooltip;\n",
       "};\n",
       "mpl.toolbar_items = [[\"Home\", \"Reset original view\", \"fa fa-home icon-home\", \"home\"], [\"Back\", \"Back to previous view\", \"fa fa-arrow-left icon-arrow-left\", \"back\"], [\"Forward\", \"Forward to next view\", \"fa fa-arrow-right icon-arrow-right\", \"forward\"], [\"\", \"\", \"\", \"\"], [\"Pan\", \"Pan axes with left mouse, zoom with right\", \"fa fa-arrows icon-move\", \"pan\"], [\"Zoom\", \"Zoom to rectangle\", \"fa fa-square-o icon-check-empty\", \"zoom\"], [\"\", \"\", \"\", \"\"], [\"Download\", \"Download plot\", \"fa fa-floppy-o icon-save\", \"download\"]];\n",
       "\n",
       "mpl.extensions = [\"eps\", \"jpeg\", \"pdf\", \"png\", \"ps\", \"raw\", \"svg\", \"tif\"];\n",
       "\n",
       "mpl.default_extension = \"png\";var comm_websocket_adapter = function(comm) {\n",
       "    // Create a \"websocket\"-like object which calls the given IPython comm\n",
       "    // object with the appropriate methods. Currently this is a non binary\n",
       "    // socket, so there is still some room for performance tuning.\n",
       "    var ws = {};\n",
       "\n",
       "    ws.close = function() {\n",
       "        comm.close()\n",
       "    };\n",
       "    ws.send = function(m) {\n",
       "        //console.log('sending', m);\n",
       "        comm.send(m);\n",
       "    };\n",
       "    // Register the callback with on_msg.\n",
       "    comm.on_msg(function(msg) {\n",
       "        //console.log('receiving', msg['content']['data'], msg);\n",
       "        // Pass the mpl event to the overridden (by mpl) onmessage function.\n",
       "        ws.onmessage(msg['content']['data'])\n",
       "    });\n",
       "    return ws;\n",
       "}\n",
       "\n",
       "mpl.mpl_figure_comm = function(comm, msg) {\n",
       "    // This is the function which gets called when the mpl process\n",
       "    // starts-up an IPython Comm through the \"matplotlib\" channel.\n",
       "\n",
       "    var id = msg.content.data.id;\n",
       "    // Get hold of the div created by the display call when the Comm\n",
       "    // socket was opened in Python.\n",
       "    var element = $(\"#\" + id);\n",
       "    var ws_proxy = comm_websocket_adapter(comm)\n",
       "\n",
       "    function ondownload(figure, format) {\n",
       "        window.open(figure.imageObj.src);\n",
       "    }\n",
       "\n",
       "    var fig = new mpl.figure(id, ws_proxy,\n",
       "                           ondownload,\n",
       "                           element.get(0));\n",
       "\n",
       "    // Call onopen now - mpl needs it, as it is assuming we've passed it a real\n",
       "    // web socket which is closed, not our websocket->open comm proxy.\n",
       "    ws_proxy.onopen();\n",
       "\n",
       "    fig.parent_element = element.get(0);\n",
       "    fig.cell_info = mpl.find_output_cell(\"<div id='\" + id + \"'></div>\");\n",
       "    if (!fig.cell_info) {\n",
       "        console.error(\"Failed to find cell for figure\", id, fig);\n",
       "        return;\n",
       "    }\n",
       "\n",
       "    var output_index = fig.cell_info[2]\n",
       "    var cell = fig.cell_info[0];\n",
       "\n",
       "};\n",
       "\n",
       "mpl.figure.prototype.handle_close = function(fig, msg) {\n",
       "    var width = fig.canvas.width/mpl.ratio\n",
       "    fig.root.unbind('remove')\n",
       "\n",
       "    // Update the output cell to use the data from the current canvas.\n",
       "    fig.push_to_output();\n",
       "    var dataURL = fig.canvas.toDataURL();\n",
       "    // Re-enable the keyboard manager in IPython - without this line, in FF,\n",
       "    // the notebook keyboard shortcuts fail.\n",
       "    IPython.keyboard_manager.enable()\n",
       "    $(fig.parent_element).html('<img src=\"' + dataURL + '\" width=\"' + width + '\">');\n",
       "    fig.close_ws(fig, msg);\n",
       "}\n",
       "\n",
       "mpl.figure.prototype.close_ws = function(fig, msg){\n",
       "    fig.send_message('closing', msg);\n",
       "    // fig.ws.close()\n",
       "}\n",
       "\n",
       "mpl.figure.prototype.push_to_output = function(remove_interactive) {\n",
       "    // Turn the data on the canvas into data in the output cell.\n",
       "    var width = this.canvas.width/mpl.ratio\n",
       "    var dataURL = this.canvas.toDataURL();\n",
       "    this.cell_info[1]['text/html'] = '<img src=\"' + dataURL + '\" width=\"' + width + '\">';\n",
       "}\n",
       "\n",
       "mpl.figure.prototype.updated_canvas_event = function() {\n",
       "    // Tell IPython that the notebook contents must change.\n",
       "    IPython.notebook.set_dirty(true);\n",
       "    this.send_message(\"ack\", {});\n",
       "    var fig = this;\n",
       "    // Wait a second, then push the new image to the DOM so\n",
       "    // that it is saved nicely (might be nice to debounce this).\n",
       "    setTimeout(function () { fig.push_to_output() }, 1000);\n",
       "}\n",
       "\n",
       "mpl.figure.prototype._init_toolbar = function() {\n",
       "    var fig = this;\n",
       "\n",
       "    var nav_element = $('<div/>');\n",
       "    nav_element.attr('style', 'width: 100%');\n",
       "    this.root.append(nav_element);\n",
       "\n",
       "    // Define a callback function for later on.\n",
       "    function toolbar_event(event) {\n",
       "        return fig.toolbar_button_onclick(event['data']);\n",
       "    }\n",
       "    function toolbar_mouse_event(event) {\n",
       "        return fig.toolbar_button_onmouseover(event['data']);\n",
       "    }\n",
       "\n",
       "    for(var toolbar_ind in mpl.toolbar_items){\n",
       "        var name = mpl.toolbar_items[toolbar_ind][0];\n",
       "        var tooltip = mpl.toolbar_items[toolbar_ind][1];\n",
       "        var image = mpl.toolbar_items[toolbar_ind][2];\n",
       "        var method_name = mpl.toolbar_items[toolbar_ind][3];\n",
       "\n",
       "        if (!name) { continue; };\n",
       "\n",
       "        var button = $('<button class=\"btn btn-default\" href=\"#\" title=\"' + name + '\"><i class=\"fa ' + image + ' fa-lg\"></i></button>');\n",
       "        button.click(method_name, toolbar_event);\n",
       "        button.mouseover(tooltip, toolbar_mouse_event);\n",
       "        nav_element.append(button);\n",
       "    }\n",
       "\n",
       "    // Add the status bar.\n",
       "    var status_bar = $('<span class=\"mpl-message\" style=\"text-align:right; float: right;\"/>');\n",
       "    nav_element.append(status_bar);\n",
       "    this.message = status_bar[0];\n",
       "\n",
       "    // Add the close button to the window.\n",
       "    var buttongrp = $('<div class=\"btn-group inline pull-right\"></div>');\n",
       "    var button = $('<button class=\"btn btn-mini btn-primary\" href=\"#\" title=\"Stop Interaction\"><i class=\"fa fa-power-off icon-remove icon-large\"></i></button>');\n",
       "    button.click(function (evt) { fig.handle_close(fig, {}); } );\n",
       "    button.mouseover('Stop Interaction', toolbar_mouse_event);\n",
       "    buttongrp.append(button);\n",
       "    var titlebar = this.root.find($('.ui-dialog-titlebar'));\n",
       "    titlebar.prepend(buttongrp);\n",
       "}\n",
       "\n",
       "mpl.figure.prototype._root_extra_style = function(el){\n",
       "    var fig = this\n",
       "    el.on(\"remove\", function(){\n",
       "\tfig.close_ws(fig, {});\n",
       "    });\n",
       "}\n",
       "\n",
       "mpl.figure.prototype._canvas_extra_style = function(el){\n",
       "    // this is important to make the div 'focusable\n",
       "    el.attr('tabindex', 0)\n",
       "    // reach out to IPython and tell the keyboard manager to turn it's self\n",
       "    // off when our div gets focus\n",
       "\n",
       "    // location in version 3\n",
       "    if (IPython.notebook.keyboard_manager) {\n",
       "        IPython.notebook.keyboard_manager.register_events(el);\n",
       "    }\n",
       "    else {\n",
       "        // location in version 2\n",
       "        IPython.keyboard_manager.register_events(el);\n",
       "    }\n",
       "\n",
       "}\n",
       "\n",
       "mpl.figure.prototype._key_event_extra = function(event, name) {\n",
       "    var manager = IPython.notebook.keyboard_manager;\n",
       "    if (!manager)\n",
       "        manager = IPython.keyboard_manager;\n",
       "\n",
       "    // Check for shift+enter\n",
       "    if (event.shiftKey && event.which == 13) {\n",
       "        this.canvas_div.blur();\n",
       "        // select the cell after this one\n",
       "        var index = IPython.notebook.find_cell_index(this.cell_info[0]);\n",
       "        IPython.notebook.select(index + 1);\n",
       "    }\n",
       "}\n",
       "\n",
       "mpl.figure.prototype.handle_save = function(fig, msg) {\n",
       "    fig.ondownload(fig, null);\n",
       "}\n",
       "\n",
       "\n",
       "mpl.find_output_cell = function(html_output) {\n",
       "    // Return the cell and output element which can be found *uniquely* in the notebook.\n",
       "    // Note - this is a bit hacky, but it is done because the \"notebook_saving.Notebook\"\n",
       "    // IPython event is triggered only after the cells have been serialised, which for\n",
       "    // our purposes (turning an active figure into a static one), is too late.\n",
       "    var cells = IPython.notebook.get_cells();\n",
       "    var ncells = cells.length;\n",
       "    for (var i=0; i<ncells; i++) {\n",
       "        var cell = cells[i];\n",
       "        if (cell.cell_type === 'code'){\n",
       "            for (var j=0; j<cell.output_area.outputs.length; j++) {\n",
       "                var data = cell.output_area.outputs[j];\n",
       "                if (data.data) {\n",
       "                    // IPython >= 3 moved mimebundle to data attribute of output\n",
       "                    data = data.data;\n",
       "                }\n",
       "                if (data['text/html'] == html_output) {\n",
       "                    return [cell, data, j];\n",
       "                }\n",
       "            }\n",
       "        }\n",
       "    }\n",
       "}\n",
       "\n",
       "// Register the function which deals with the matplotlib target/channel.\n",
       "// The kernel may be null if the page has been refreshed.\n",
       "if (IPython.notebook.kernel != null) {\n",
       "    IPython.notebook.kernel.comm_manager.register_target('matplotlib', mpl.mpl_figure_comm);\n",
       "}\n"
      ],
      "text/plain": [
       "<IPython.core.display.Javascript object>"
      ]
     },
     "metadata": {},
     "output_type": "display_data"
    },
    {
     "data": {
      "text/html": [
       "<img src=\"data:image/png;base64,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\" width=\"1000\">"
      ],
      "text/plain": [
       "<IPython.core.display.HTML object>"
      ]
     },
     "metadata": {},
     "output_type": "display_data"
    }
   ],
   "source": [
    "dual_train_plots(results.index,\n",
    "                 results.cost, results.val,\n",
    "                 results.cost, results.val)\n",
    "plt.tight_layout()\n",
    "plt.savefig(str(output / f'{name}_stats_a.png'))"
   ]
  },
  {
   "cell_type": "code",
   "execution_count": 22,
   "metadata": {},
   "outputs": [],
   "source": [
    "##quit()"
   ]
  },
  {
   "cell_type": "code",
   "execution_count": null,
   "metadata": {},
   "outputs": [],
   "source": []
  },
  {
   "cell_type": "code",
   "execution_count": null,
   "metadata": {},
   "outputs": [],
   "source": []
  }
 ],
 "metadata": {
  "kernelspec": {
   "display_name": "june2020-gpu",
   "language": "python",
   "name": "june2020-gpu"
  },
  "language_info": {
   "codemirror_mode": {
    "name": "ipython",
    "version": 3
   },
   "file_extension": ".py",
   "mimetype": "text/x-python",
   "name": "python",
   "nbconvert_exporter": "python",
   "pygments_lexer": "ipython3",
   "version": "3.7.6"
  }
 },
 "nbformat": 4,
 "nbformat_minor": 2
}
