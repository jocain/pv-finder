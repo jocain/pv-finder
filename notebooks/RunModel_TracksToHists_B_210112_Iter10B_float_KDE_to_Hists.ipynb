{
 "cells": [
  {
   "cell_type": "code",
   "execution_count": 1,
   "metadata": {},
   "outputs": [],
   "source": [
    "##%matplotlib widget\n",
    "## with %matplotlib notebook: seems to require ipympl as part of environment, either\n",
    "## part of the conda environment or \"pip install ipympl\"\n",
    "## otherwise, does not show ANY plots in notebook, plt.savefig() works\n",
    "%matplotlib notebook  \n",
    "##%matplotlib inline    ## --plt.savefig()  works, but re-sizing does NOT\n"
   ]
  },
  {
   "cell_type": "markdown",
   "metadata": {},
   "source": [
    "This notebook is a first attempt to read in track information and use it to predict the the full target histrograms.\n",
    "\n",
    "It will read in the TracksToDKE__Ellipsoids_DDPlus model to predict the KDE, and then feed it into a SimpleCNN model to predict the target histograms.  Initially, it will use previously trained weights.\n"
   ]
  },
  {
   "cell_type": "markdown",
   "metadata": {},
   "source": [
    "Check the current GPU usage. Please try to be nice!"
   ]
  },
  {
   "cell_type": "code",
   "execution_count": 2,
   "metadata": {},
   "outputs": [
    {
     "name": "stdout",
     "output_type": "stream",
     "text": [
      "Tue Jan 12 08:07:46 2021       \r\n",
      "+-----------------------------------------------------------------------------+\r\n",
      "| NVIDIA-SMI 450.36.06    Driver Version: 450.36.06    CUDA Version: 11.0     |\r\n",
      "|-------------------------------+----------------------+----------------------+\r\n",
      "| GPU  Name        Persistence-M| Bus-Id        Disp.A | Volatile Uncorr. ECC |\r\n",
      "| Fan  Temp  Perf  Pwr:Usage/Cap|         Memory-Usage | GPU-Util  Compute M. |\r\n",
      "|                               |                      |               MIG M. |\r\n",
      "|===============================+======================+======================|\r\n",
      "|   0  GeForce RTX 208...  On   | 00000000:18:00.0 Off |                  N/A |\r\n",
      "| 52%   84C    P2   227W / 250W |  10778MiB / 11019MiB |     96%      Default |\r\n",
      "|                               |                      |                  N/A |\r\n",
      "+-------------------------------+----------------------+----------------------+\r\n",
      "|   1  GeForce RTX 208...  On   | 00000000:3B:00.0 Off |                  N/A |\r\n",
      "| 29%   47C    P8    39W / 250W |     61MiB / 11019MiB |      0%      Default |\r\n",
      "|                               |                      |                  N/A |\r\n",
      "+-------------------------------+----------------------+----------------------+\r\n",
      "                                                                               \r\n",
      "+-----------------------------------------------------------------------------+\r\n",
      "| Processes:                                                                  |\r\n",
      "|  GPU   GI   CI        PID   Type   Process name                  GPU Memory |\r\n",
      "|        ID   ID                                                   Usage      |\r\n",
      "|=============================================================================|\r\n",
      "|    0   N/A  N/A     10361      C   ...s/june2020-gpu/bin/python     4215MiB |\r\n",
      "|    0   N/A  N/A    244396      C   ...s/june2020-gpu/bin/python     6559MiB |\r\n",
      "|    1   N/A  N/A      3736      G   /usr/bin/X                         33MiB |\r\n",
      "|    1   N/A  N/A      3790      G   /usr/bin/gnome-shell               25MiB |\r\n",
      "+-----------------------------------------------------------------------------+\r\n"
     ]
    }
   ],
   "source": [
    "!nvidia-smi"
   ]
  },
  {
   "cell_type": "markdown",
   "metadata": {},
   "source": [
    "> **WARNING**: The card numbers here are *not* the same as in CUDA. You have been warned."
   ]
  },
  {
   "cell_type": "markdown",
   "metadata": {},
   "source": [
    "## Imports"
   ]
  },
  {
   "cell_type": "code",
   "execution_count": 3,
   "metadata": {},
   "outputs": [],
   "source": [
    "import matplotlib.pyplot as plt\n",
    "import numpy as np\n",
    "import time\n",
    "import torch\n",
    "import pandas as pd\n",
    "\n",
    "# Python 3 standard library\n",
    "from pathlib import Path\n",
    "\n",
    "from model.efficiency import pv_locations, efficiency\n",
    "\n",
    "##from torchsummary import summary"
   ]
  },
  {
   "cell_type": "markdown",
   "metadata": {},
   "source": [
    "### Set up local parameters"
   ]
  },
  {
   "cell_type": "code",
   "execution_count": 4,
   "metadata": {},
   "outputs": [],
   "source": [
    "n_epochs = 50\n",
    "\n",
    "# Name is the output file name\n",
    "\n",
    "\n",
    "##  200719  mds\n",
    "##folder = '20December_Tracks_to_KDE_TestTrainedModel'\n",
    "##folder = '22December_testing_DDplus_loss_Bb_iter2_floatAll_100epochs_3em6'\n",
    "## 50 epochs using 4 of Will's files with batch_size = 48 should take\n",
    "##  just over 8 hours\n",
    "folder = '11Jan2021_TracksToHists_B_Ite10B_50epochs_lr_3em5_b48_2p5_kde2hists_float_all_4x_will'\n",
    "name = folder\n",
    "\n",
    "# Make an output folder named \"name\" (change if you want)\n",
    "\n",
    "## Special instructions for those working on goofy at UC\n",
    "## Please be very careful to make sure that your folder\n",
    "## does not live in a subdirectory of your home directory\n",
    "## this disk has very little capacity. Instead, use \n",
    "## a subdirectory in /share/lazy with a symbolic link to\n",
    "## it in this (the notebooks) subdirectory\n",
    "folder = 'ML/' + folder\n",
    "output = Path(folder)\n",
    "\n",
    "\n",
    "# Size of batches\n",
    "## reduce batch size from 64 to 32 when floating all the parameters\n",
    "##  it *appears* that storing the gradients requires extra memory\n",
    "##  batch_size = 32 --> 6623MiB / 11019 MiB on sleepy RTX2081 Ti\n",
    "batch_size = 48\n",
    "# How fast to learn\n",
    "## learning rate was 1e-7 for all layers in TracksToHists_A\n",
    "## here we want to learn only weights in the finalFilter layer\n",
    "## of TracksToHists_B, so try a high learning rate, at least initially\n",
    "## 1e-3 did well for the first 10 epochs; let's increase it for the next 40\n",
    "## reduce to 1e-3 for iteration with KDE_to_Hists weights floated\n",
    "##  cost decreased monotonically in previous run, so increase lr to 2e-3\n",
    "##  tried running with lr = 2e-3 and the validation cost function \n",
    "##  bounced around.  Want to try using a lower learning rate and\n",
    "##  a larger training sample\n",
    "##  Iter5B --  float all, leave learning rate = 5e-4\n",
    "##  Iter6C, with lr = 1e-5 rather than 1e-6, seems to be learning more quickly,\n",
    "##  so increase the learning rate to 1e-5 for Iter7B\n",
    "##  training sample xost decreased almost monotonically for Iter8B, so increase to 3e-5 for Iter9B\n",
    "##  (recalling that a higher learning rate introduced many fluctuations around a decreasing trend line\n",
    "##    in a past experiment, but also produced a greater decrease altogether)\n",
    "learning_rate = 3e-5"
   ]
  },
  {
   "cell_type": "markdown",
   "metadata": {},
   "source": [
    "Make the output directory if it does not exist:"
   ]
  },
  {
   "cell_type": "code",
   "execution_count": 5,
   "metadata": {},
   "outputs": [],
   "source": [
    "output.mkdir(exist_ok=True)"
   ]
  },
  {
   "cell_type": "markdown",
   "metadata": {},
   "source": [
    "## Get the helper functions\n",
    "\n",
    "Add the directory with the model\n",
    "definitions to the path so we can import from it:\n",
    "\n",
    "> When you type `import X`,\n",
    "Python searches `sys.path` for a python\n",
    "file named `X.py` to import. So we need to add the model directory to the path."
   ]
  },
  {
   "cell_type": "code",
   "execution_count": 6,
   "metadata": {
    "scrolled": true
   },
   "outputs": [],
   "source": [
    "# From model/collectdata.py\n",
    "##from model.collectdata_kde_Ellipsoids import collect_t2kde_data\n",
    "from model.collectdata_t2hists import collect_t2hists_data\n",
    "from model.collectdata_mdsA  import collect_truth\n",
    "\n",
    "# From model/loss.py\n",
    "##from loss import Loss\n",
    "##from model.kde_loss_D import Loss\n",
    "## from model.kde_loss_B import Loss  ## Tracks_to_KDE loss, not for target hists\n",
    "\n",
    "##  \"standard\" ratios loss for hists training\n",
    "from model.alt_loss_A import Loss  ## loss used to train RunModel_Demo_28November2020-SimpleCNNLayer_Ca-Restart_5\n",
    "\n",
    "\n",
    "##from model.models_kde import TracksToKDE_Ellipsoids_DirtyDozen as Model\n",
    "from model.models_kde import TracksToKDE_Ellipsoids_DDplus as t2kde_model\n",
    "##from model.models_mds_G import SimpleCNN5Layer_Ca as kde2hists_model\n",
    "from model.models_mds_28Dec20 import SimpleCNN5Layer_Ca as kde2hists_model  ## copy of models_mds_01June20 for debugging\n",
    "from model.models_t2hists import TracksToHists_B as t2hists_model\n",
    "\n",
    "\n",
    "##from model.training_kde import trainNet, select_gpu, Results\n",
    "## training_t2hists_A.py increases \"difference\" for accepting found\n",
    "## peaks as matched from 5 bins to 7.5 bins (compmared to original training.py)\n",
    "from model.training_t2hists_A import trainNet, select_gpu, Results\n",
    "from model.plots import dual_train_plots, replace_in_ax"
   ]
  },
  {
   "cell_type": "code",
   "execution_count": 7,
   "metadata": {},
   "outputs": [],
   "source": [
    "# This gets built up during the run - do not rerun this cell\n",
    "results = pd.DataFrame([], columns=Results._fields)"
   ]
  },
  {
   "cell_type": "markdown",
   "metadata": {},
   "source": [
    "Set up Torch device configuration. All tensors and model parameters need to know where to be put.\n",
    "This takes a BUS ID number: The BUS ID is the same as the listing at the top of this script."
   ]
  },
  {
   "cell_type": "code",
   "execution_count": 8,
   "metadata": {},
   "outputs": [
    {
     "name": "stdout",
     "output_type": "stream",
     "text": [
      "1 available GPUs (initially using device 0):\n",
      "  0 GeForce RTX 2080 Ti\n"
     ]
    }
   ],
   "source": [
    "device = select_gpu(1)\n",
    "##device = \"cpu\""
   ]
  },
  {
   "cell_type": "markdown",
   "metadata": {},
   "source": [
    "## Loading data\n",
    "\n",
    "Load the dataset, split into parts, then move to device (see `collectdata.py` in the `../model` directory)"
   ]
  },
  {
   "cell_type": "code",
   "execution_count": 9,
   "metadata": {
    "scrolled": false
   },
   "outputs": [
    {
     "name": "stdout",
     "output_type": "stream",
     "text": [
      "Loading data...\n",
      "pocaMx.shape =  (80000,)\n",
      "nEvts =  80000\n",
      "len(pocaMx[0]) =  199\n",
      "len(pocaMx[1]) =  25\n",
      "len(pocaMx[2]) =  369\n",
      "len(pocaMx[3]) =  143\n",
      "len(pocaMx[4]) =  160\n",
      "have entered six_ellipsoid_parameters\n",
      "  \n",
      " \n",
      "  nEvts =  80000\n",
      " iEvt, nTrks =  0 199\n",
      " iEvt, nTrks =  1 25\n",
      " iEvt, nTrks =  2 369\n",
      " iEvt, nTrks =  3 143\n",
      " iEvt, nTrks =  4 160\n",
      " iEvt, nTrks =  5 260\n",
      " iEvt, nTrks =  6 237\n",
      " iEvt, nTrks =  7 327\n",
      " iEvt, nTrks =  8 178\n",
      " iEvt, nTrks =  9 106\n",
      "len(X) =  80000\n",
      "len(Xlist) =  1\n",
      "Loaded /share/lazy/will/data/June30_2020_80k_1.h5 in 151.6 s\n",
      "pocaMx.shape =  (80000,)\n",
      "nEvts =  80000\n",
      "len(pocaMx[0]) =  222\n",
      "len(pocaMx[1]) =  133\n",
      "len(pocaMx[2]) =  259\n",
      "len(pocaMx[3]) =  114\n",
      "len(pocaMx[4]) =  143\n",
      "have entered six_ellipsoid_parameters\n",
      "  \n",
      " \n",
      "  nEvts =  80000\n",
      " iEvt, nTrks =  0 222\n",
      " iEvt, nTrks =  1 133\n",
      " iEvt, nTrks =  2 259\n",
      " iEvt, nTrks =  3 114\n",
      " iEvt, nTrks =  4 143\n",
      " iEvt, nTrks =  5 136\n",
      " iEvt, nTrks =  6 397\n",
      " iEvt, nTrks =  7 370\n",
      " iEvt, nTrks =  8 97\n",
      " iEvt, nTrks =  9 67\n",
      "len(X) =  80000\n",
      "len(Xlist) =  2\n",
      "Loaded /share/lazy/will/data/June30_2020_80k_2.h5 in 154.4 s\n",
      "pocaMx.shape =  (80000,)\n",
      "nEvts =  80000\n",
      "len(pocaMx[0]) =  196\n",
      "len(pocaMx[1]) =  35\n",
      "len(pocaMx[2]) =  265\n",
      "len(pocaMx[3]) =  128\n",
      "len(pocaMx[4]) =  124\n",
      "have entered six_ellipsoid_parameters\n",
      "  \n",
      " \n",
      "  nEvts =  80000\n",
      " iEvt, nTrks =  0 196\n",
      " iEvt, nTrks =  1 35\n",
      " iEvt, nTrks =  2 265\n",
      " iEvt, nTrks =  3 128\n",
      " iEvt, nTrks =  4 124\n",
      " iEvt, nTrks =  5 122\n",
      " iEvt, nTrks =  6 300\n",
      " iEvt, nTrks =  7 179\n",
      " iEvt, nTrks =  8 243\n",
      " iEvt, nTrks =  9 112\n",
      "len(X) =  80000\n",
      "len(Xlist) =  3\n",
      "Loaded /share/lazy/will/data/June30_2020_80k_3.h5 in 156.7 s\n",
      "pocaMx.shape =  (80000,)\n",
      "nEvts =  80000\n",
      "len(pocaMx[0]) =  204\n",
      "len(pocaMx[1]) =  33\n",
      "len(pocaMx[2]) =  206\n",
      "len(pocaMx[3]) =  150\n",
      "len(pocaMx[4]) =  96\n",
      "have entered six_ellipsoid_parameters\n",
      "  \n",
      " \n",
      "  nEvts =  80000\n",
      " iEvt, nTrks =  0 204\n",
      " iEvt, nTrks =  1 33\n",
      " iEvt, nTrks =  2 206\n",
      " iEvt, nTrks =  3 150\n",
      " iEvt, nTrks =  4 96\n",
      " iEvt, nTrks =  5 10\n",
      " iEvt, nTrks =  6 174\n",
      " iEvt, nTrks =  7 320\n",
      " iEvt, nTrks =  8 164\n",
      " iEvt, nTrks =  9 119\n",
      "len(X) =  80000\n",
      "len(Xlist) =  4\n",
      "Loaded /share/lazy/will/data/June30_2020_80k_4.h5 in 156.3 s\n",
      "outer loop X.shape =  (320000, 9, 600)\n",
      "Constructing 320000 event dataset took 1.895 s\n",
      "x_t.shape =  torch.Size([320000, 9, 600])\n",
      "x_t.shape[0] =  320000\n",
      "x_t.shape[1] =  9\n",
      "x_t.shape =  torch.Size([320000, 9, 600])\n",
      "Loading data...\n",
      "pocaMx.shape =  (20000,)\n",
      "nEvts =  20000\n",
      "len(pocaMx[0]) =  211\n",
      "len(pocaMx[1]) =  21\n",
      "len(pocaMx[2]) =  20\n",
      "len(pocaMx[3]) =  198\n",
      "len(pocaMx[4]) =  233\n",
      "have entered six_ellipsoid_parameters\n",
      "  \n",
      " \n",
      "  nEvts =  20000\n",
      " iEvt, nTrks =  0 211\n",
      " iEvt, nTrks =  1 21\n",
      " iEvt, nTrks =  2 20\n",
      " iEvt, nTrks =  3 198\n",
      " iEvt, nTrks =  4 233\n",
      " iEvt, nTrks =  5 85\n",
      " iEvt, nTrks =  6 223\n",
      " iEvt, nTrks =  7 425\n",
      " iEvt, nTrks =  8 252\n",
      " iEvt, nTrks =  9 169\n",
      "len(X) =  20000\n",
      "len(Xlist) =  1\n",
      "Loaded dataAA/20K_POCA_kernel_evts_200926.h5 in 36.09 s\n",
      "outer loop X.shape =  (20000, 9, 600)\n",
      "Constructing 20000 event dataset took 2.24 s\n",
      "x_t.shape =  torch.Size([20000, 9, 600])\n",
      "x_t.shape[0] =  20000\n",
      "x_t.shape[1] =  9\n",
      "x_t.shape =  torch.Size([20000, 9, 600])\n",
      "Loaded dataAA/20K_POCA_kernel_evts_200926.h5 in 0.0141 s\n",
      "PV.n.shape =     (20000,)\n",
      "PV.n[0].shape =  6\n",
      "PV.x[0] =        -0.06039733 0.034324445 0.032115813 0.0021888595 -0.035334907 -0.013019809\n",
      "PV.y[0] =        -0.09381338 -0.013181885 -0.030898828 -0.08940365 -0.0058297813 0.062288247\n",
      "PV.z[0] =        97.82085 61.021088 -0.15807877 134.26784 -29.881668 79.19783\n",
      "PV.n[0] =        24 26 10 7 24 19\n",
      "PV.cat[0] =      1 1 1 1 1 1\n",
      "Loaded dataAA/20K_POCA_kernel_evts_200926.h5 in 0.009959 s\n",
      "SV.n.shape =     (20000,)\n",
      "SV.n[0].shape =  2\n",
      "SV.x[0] =        -0.014751727 0.03923173\n",
      "SV.y[0] =        0.050640453 0.08648109\n",
      "SV.z[0] =        78.924194 79.170876\n",
      "SV.n[0] =        2 0\n",
      "SV.cat[0] =      1 -1\n"
     ]
    }
   ],
   "source": [
    "## 210109 let's use some of Will's toy MC for training rather than the 20K sample I've been using\n",
    "\n",
    "##train_loader = collect_t2hists_data('dataAA/20K_POCA_kernel_evts_200926.h5',\n",
    "train_loader = collect_t2hists_data('/share/lazy/will/data/June30_2020_80k_1.h5', \n",
    "                                    '/share/lazy/will/data/June30_2020_80k_2.h5',\n",
    "                                    '/share/lazy/will/data/June30_2020_80k_3.h5',\n",
    "                                    '/share/lazy/will/data/June30_2020_80k_4.h5',\n",
    "                             batch_size=batch_size,\n",
    "## if we are using a larger dataset (240K events, with the datasets above, and 11 GB  of GPU memory),\n",
    "## not the dataset will overflow the GPU memory; device=device will allow the data to move back\n",
    "## and forth between the CPU and GPU memory. While this allows use of a larger dataset, it slows\n",
    "## down performance by about 10%.  So comment out when not needed.\n",
    "##                           device=device,\n",
    "##                             slice = slice(0,18000)\n",
    "                           )\n",
    "\n",
    "\n",
    "\n",
    "                            \n",
    "# Validation dataset. You can slice to reduce the size.\n",
    "## mds no separate validation set yet,\n",
    "\n",
    "## 210109 and use everything in this 20K file for validation\n",
    "val_loader = collect_t2hists_data('dataAA/20K_POCA_kernel_evts_200926.h5',\n",
    "                            batch_size=batch_size,\n",
    "                            device=device,\n",
    "##                           slice = slice(18000,None)\n",
    "                           )\n",
    "\n",
    "PV = collect_truth('dataAA/20K_POCA_kernel_evts_200926.h5', pvs=True)\n",
    "print('PV.n.shape =    ',  PV.n.shape)\n",
    "print('PV.n[0].shape = ', *PV.n[0].shape)\n",
    "print('PV.x[0] =       ', *PV.x[0])\n",
    "print('PV.y[0] =       ', *PV.y[0])\n",
    "print('PV.z[0] =       ', *PV.z[0])\n",
    "print('PV.n[0] =       ', *PV.n[0])\n",
    "print('PV.cat[0] =     ', *PV.cat[0])\n",
    "\n",
    "SV = collect_truth('dataAA/20K_POCA_kernel_evts_200926.h5', pvs=False)\n",
    "print('SV.n.shape =    ', SV.n.shape)\n",
    "print('SV.n[0].shape = ', *SV.n[0].shape)\n",
    "print('SV.x[0] =       ', *SV.x[0])\n",
    "print('SV.y[0] =       ', *SV.y[0])\n",
    "print('SV.z[0] =       ', *SV.z[0])\n",
    "print('SV.n[0] =       ', *SV.n[0])\n",
    "print('SV.cat[0] =     ', *SV.cat[0])\n"
   ]
  },
  {
   "cell_type": "markdown",
   "metadata": {},
   "source": [
    "# Preparing the model"
   ]
  },
  {
   "cell_type": "markdown",
   "metadata": {},
   "source": [
    "Prepare a model, use multiple GPUs if they are VISIBLE, and move the model to the device."
   ]
  },
  {
   "cell_type": "code",
   "execution_count": 10,
   "metadata": {
    "scrolled": false
   },
   "outputs": [
    {
     "name": "stdout",
     "output_type": "stream",
     "text": [
      "ct, child =  0    Linear(in_features=9, out_features=50, bias=True)\n",
      "ct, child =  1    Linear(in_features=50, out_features=50, bias=True)\n",
      "ct, child =  2    Linear(in_features=50, out_features=50, bias=True)\n",
      "ct, child =  3    Linear(in_features=50, out_features=50, bias=True)\n",
      "ct, child =  4    Linear(in_features=50, out_features=50, bias=True)\n",
      "ct, child =  5    Linear(in_features=50, out_features=50, bias=True)\n",
      "ct, child =  6    Linear(in_features=50, out_features=50, bias=True)\n",
      "ct, child =  7    Linear(in_features=50, out_features=50, bias=True)\n",
      "ct, child =  8    Linear(in_features=50, out_features=50, bias=True)\n",
      "ct, child =  9    Linear(in_features=50, out_features=50, bias=True)\n",
      "ct, child =  10    Linear(in_features=50, out_features=50, bias=True)\n",
      "ct, child =  11    Linear(in_features=50, out_features=16000, bias=True)\n",
      "ct, child =  12    Conv1d(4, 25, kernel_size=(25,), stride=(1,), padding=(12,))\n",
      "ct, child =  13    Conv1d(25, 1, kernel_size=(5,), stride=(1,), padding=(2,))\n",
      "ct, child =  14    Linear(in_features=4000, out_features=4000, bias=True)\n",
      "ct, child =  15    Dropout(p=0.15, inplace=False)\n",
      "ct, child =  16    Dropout(p=0.15, inplace=False)\n",
      "ct, child =  17    Conv1d(1, 20, kernel_size=(25,), stride=(1,), padding=(12,))\n",
      "ct, child =  18    Conv1d(20, 10, kernel_size=(15,), stride=(1,), padding=(7,))\n",
      "ct, child =  19    Conv1d(10, 10, kernel_size=(15,), stride=(1,), padding=(7,))\n",
      "ct, child =  20    Conv1d(10, 10, kernel_size=(15,), stride=(1,), padding=(7,))\n",
      "ct, child =  21    Conv1d(10, 1, kernel_size=(5,), stride=(1,), padding=(2,))\n",
      "ct, child =  22    Dropout(p=0.15, inplace=False)\n",
      "ct, child =  23    Dropout(p=0.15, inplace=False)\n",
      "ct, child =  24    Dropout(p=0.15, inplace=False)\n",
      "ct, child =  25    Dropout(p=0.15, inplace=False)\n",
      "ct, child =  26    Dropout(p=0.35, inplace=False)\n",
      "ct, child =  27    Linear(in_features=4000, out_features=4000, bias=True)\n",
      "ct, child =  28    Conv1d(1, 1, kernel_size=(91,), stride=(1,), padding=(45,))\n"
     ]
    }
   ],
   "source": [
    "nOut1 = 50\n",
    "nOut2 = 50\n",
    "nOut3 = 50\n",
    "nOut4 = 50\n",
    "nOut5 = 50\n",
    "nOut6 = 50\n",
    "nOut7 = 50\n",
    "nOut8 = 50\n",
    "nOut9 = 50\n",
    "nOut10 = 50\n",
    "nOut11 = 50\n",
    "latentChannels = 4\n",
    "model_t2kde = t2kde_model(nOut1,nOut2,nOut3,nOut4,nOut5,nOut6,nOut7,nOut8,nOut9,nOut10,nOut11,latentChannels)\n",
    "model_kde2hists = kde2hists_model()\n",
    "model_t2hists = t2hists_model(nOut1,nOut2,nOut3,nOut4,nOut5,nOut6,nOut7,nOut8,nOut9,nOut10,nOut11,latentChannels)\n",
    "\n",
    "##summary(model, input_size=(4, 4000))\n",
    "##print(model.parameters)\n",
    "\n",
    "## add the following code to allow the user to freeze the some of the weights corresponding \n",
    "## to those taken from an earlier model trained with the original target histograms\n",
    "## presumably -- this leaves either the perturbative filter \"fixed\" and lets the \n",
    "## learning focus on the non-perturbative features, so get started faster, or vice versa\n",
    "\n",
    "## 210110 For Iter0, freeze all weights other than those asociated with\n",
    "## the finalFilter added in moving from TracksToHists_A to TracksToHists_B\n",
    "\n",
    "## for \"float_KDE_to_Hists\" loop over ct<17\n",
    "## for float_all loope over ct < 0\n",
    "ct = 0\n",
    "for child in model_t2hists.children():\n",
    "  print('ct, child = ',ct, \"  \", child)\n",
    "  if (ct < 0) :\n",
    "    print(\"     About to set param.requires_grad=False for ct = \", ct, \"params\")\n",
    "    for param in child.parameters():\n",
    "        param.requires_grad = False \n",
    "  ct += 1\n",
    "\n",
    "loss = Loss(epsilon=1e-5,coefficient=2.5)\n",
    "optimizer = torch.optim.Adam(model_t2hists.parameters(), lr=learning_rate)"
   ]
  },
  {
   "cell_type": "markdown",
   "metadata": {},
   "source": [
    "Let's move the model's weight matricies to the GPU:"
   ]
  },
  {
   "cell_type": "code",
   "execution_count": 11,
   "metadata": {
    "scrolled": false
   },
   "outputs": [
    {
     "data": {
      "text/plain": [
       "<All keys matched successfully>"
      ]
     },
     "execution_count": 11,
     "metadata": {},
     "output_type": "execute_result"
    }
   ],
   "source": [
    "## want to look at all three dictionaries to start:\n",
    "##  t2kde\n",
    "##  kde2hists\n",
    "##  t2hists\n",
    "## the plan is to (initially) copy weights from separate dictionaries into th t2hists dictionary\n",
    "\n",
    "##   ML -> /share/lazy/sokoloff/ML\n",
    "'''\n",
    "model_t2kde_dict = model_t2kde.state_dict()\n",
    "## mds 190725 for debugging\n",
    "print(\"for model_t2kde_dict\")\n",
    "index = 0\n",
    "for k,v in model_t2kde_dict.items():\n",
    "    print(\"index, k =  \",index,\"  \",k)\n",
    "    index = index+1\n",
    "#\n",
    "model_kde2hists_dict = model_kde2hists.state_dict()\n",
    "## mds 190725 for debugging\n",
    "print(\"for model_hists_2kde_dict\")\n",
    "index = 0\n",
    "for k,v in model_kde2hists_dict.items():\n",
    "    print(\"index, k =  \",index,\"  \",k)\n",
    "    index = index+1\n",
    "#\n",
    "model_t2hists_dict = model_t2hists.state_dict()\n",
    "## mds 190725 for debugging\n",
    "print(\"for model_hists_2kde_dict\")\n",
    "index = 0\n",
    "for k,v in model_t2hists_dict.items():\n",
    "    print(\"index, k =  \",index,\"  \",k)\n",
    "    index = index+1\n",
    "#\n",
    "\n",
    "##  build the \"updated_dict\" to become the t2hists_dictionary from the\n",
    "##  t2kde and kde2hist dictionaries\n",
    "update_dict = model_t2hists_dict\n",
    "##print(\"updated_dict = \",updated_dict)\n",
    "## when starting \"ab initio\", reduce biases as the bias gets summed for each track\n",
    "## contributing to the predicted KDE\n",
    "'''\n",
    "\n",
    "\n",
    "'''\n",
    "updated_dict[\"layer1.bias\"] = 0.005*model_dict[\"layer1.bias\"]\n",
    "updated_dict[\"layer2.bias\"] = 0.005*model_dict[\"layer2.bias\"]\n",
    "updated_dict[\"layer3.bias\"] = 0.005*model_dict[\"layer3.bias\"]\n",
    "updated_dict[\"layer4.bias\"] = 0.005*model_dict[\"layer4.bias\"]\n",
    "updated_dict[\"layer5.bias\"] = 0.005*model_dict[\"layer5.bias\"]\n",
    "updated_dict[\"layer6.bias\"] = 0.005*model_dict[\"layer6.bias\"]\n",
    "updated_dict[\"layer7.bias\"] = 0.005*model_dict[\"layer7.bias\"]\n",
    "updated_dict[\"layer8.bias\"] = 0.005*model_dict[\"layer8.bias\"]\n",
    "updated_dict[\"layer9.bias\"] = 0.005*model_dict[\"layer9.bias\"]\n",
    "updated_dict[\"layer10.bias\"] = 0.005*model_dict[\"layer10.bias\"]\n",
    "updated_dict[\"layer11.bias\"] = 0.005*model_dict[\"layer11.bias\"]\n",
    "'''\n",
    "\n",
    "'''\n",
    "##model_t2hists.load_state_dict(updated_dict,strict=False)\n",
    "\n",
    "##model__t2hists_dict = model_t2hists.state_dict()\n",
    "\n",
    "## let's get the tracks-to-kde model here\n",
    "t2kde_folder = '25December__DDplus_loss_Ba_iter5_floatAll_800epochs_5em6'  ## really iter6, really Dec. 27\n",
    "t2kde_folder = '25December__DDplus_loss_Ba_iter7_floatAll_800epochs_4em6'\n",
    "t2kde_name = t2kde_folder\n",
    "suffix = 'final'\n",
    "t2kde_dict_name = 'ML/' + t2kde_folder + '/' + t2kde_name + '_'+ suffix + '.pyt'\n",
    "print('t2kde_dict_name = ',t2kde_dict_name)\n",
    "pretrained_t2kde_dict = torch.load(t2kde_dict_name)\n",
    "\n",
    "print(\" \\n\",\"  for t2kde_pretrained_dict\")\n",
    "index = 0\n",
    "for k,v in pretrained_t2kde_dict.items():\n",
    "    print(\"index, k =  \",index,\"  \",k)\n",
    "    index = index+1\n",
    "    \n",
    "    \n",
    "## let's get the hists-to-kde model here   \n",
    "kde2hists_folder = '02June2020_CNN5Layer_Ca_another200epochs_K'\n",
    "kde2hists_name = kde2hists_folder\n",
    "suffix = 'final'\n",
    "kde2hists_dict_name = 'ML/' + kde2hists_folder + '/' + kde2hists_name + '_'+ suffix + '.pyt'\n",
    "## mds dec28 print('kde2hists_dict_name = ',kde2hists_dict_name)\n",
    "pretrained_kde2hists_dict = torch.load(kde2hists_dict_name)\n",
    "\n",
    "print(\" \\n\",\"  for kde2hists_pretrained_dict\")\n",
    "index = 0\n",
    "for k,v in pretrained_kde2hists_dict.items():\n",
    "    print(\"index, k =  \",index,\"  \",k)\n",
    "    index = index+1\n",
    " \n",
    "\n",
    "\n",
    "##print(\"model_dict instantiated\")\n",
    "# 1. filter out unnecessary keys\n",
    "pretrained_dict = {k: v for k, v in pretrained_t2kde_dict.items() if k in model_t2hists_dict}\n",
    "## mds dec28 print(\"pretrained_dict iterated\")\n",
    "# 2. overwrite entries in the existing state dict\n",
    "model_t2hists_dict.update(pretrained_dict) \n",
    "\n",
    "update_dict[\"hist_conv1.weight\"] = pretrained_kde2hists_dict[\"conv1.weight\"]\n",
    "update_dict[\"hist_conv1.bias\"]   = pretrained_kde2hists_dict[\"conv1.bias\"]\n",
    "update_dict[\"hist_conv2.weight\"] = pretrained_kde2hists_dict[\"conv2.weight\"]\n",
    "update_dict[\"hist_conv2.bias\"]   = pretrained_kde2hists_dict[\"conv2.bias\"]\n",
    "update_dict[\"hist_conv3.weight\"] = pretrained_kde2hists_dict[\"conv3.weight\"]\n",
    "update_dict[\"hist_conv3.bias\"]   = pretrained_kde2hists_dict[\"conv3.bias\"]\n",
    "update_dict[\"hist_conv4.weight\"] = pretrained_kde2hists_dict[\"conv4.weight\"]\n",
    "update_dict[\"hist_conv4.bias\"]   = pretrained_kde2hists_dict[\"conv4.bias\"]\n",
    "update_dict[\"hist_conv5.weight\"] = pretrained_kde2hists_dict[\"conv5.weight\"]\n",
    "update_dict[\"hist_conv5.bias\"]   = pretrained_kde2hists_dict[\"conv5.bias\"]\n",
    "update_dict[\"hist_fc1.weight\"]   = pretrained_kde2hists_dict[\"fc1.weight\"]\n",
    "update_dict[\"hist_fc1.bias\"]     = pretrained_kde2hists_dict[\"fc1.bias\"]\n",
    "\n",
    "##model_t2hists.update(update_dict,strict=False)\n",
    "model_t2hists.load_state_dict(update_dict,strict=False)\n",
    "model_t2hists_dict = model_t2hists.state_dict()\n",
    "'''\n",
    "\n",
    "##\n",
    "#   when starting from a model with a fully connected last layer rather than a convolutional layer\n",
    "# 3. load the new state dict\n",
    "#   need to use strict=False as the two models state model attributes do not agree exactly\n",
    "#   see https://pytorch.org/docs/master/_modules/torch/nn/modules/module.html#Module.load_state_dict\n",
    "\n",
    "t2hists_folder ='11Jan2021_TracksToHists_B_Ite9B_50epochs_lr_3em5_b48_2p5_kde2hists_float_all_4x_will'\n",
    "t2hists_name = t2hists_folder\n",
    "suffix = 'final'\n",
    "t2hists_dict_name = 'ML/' + t2hists_folder + '/' +t2hists_name + '_'+ suffix + '.pyt'\n",
    "## mds dec28 print('kde2hists_dict_name = ',kde2hists_dict_name)\n",
    "pretrained_t2hists_dict = torch.load(t2hists_dict_name) \n",
    "\n",
    "model_t2hists.load_state_dict(pretrained_t2hists_dict,strict=False)\n",
    "\n",
    "##  print('model_t2hists_dict =    ', model_t2hists_dict)\n"
   ]
  },
  {
   "cell_type": "code",
   "execution_count": 12,
   "metadata": {},
   "outputs": [],
   "source": [
    "##print('validation.dataset.tensors = ',validation.dataset.tensors)\n",
    "fig_size = plt.rcParams[\"figure.figsize\"]\n",
    "fig_size[0] = 10\n",
    "fig_size[1] = 4\n",
    "plt.rcParams[\"figure.figsize\"] = fig_size"
   ]
  },
  {
   "cell_type": "code",
   "execution_count": 13,
   "metadata": {
    "scrolled": true
   },
   "outputs": [],
   "source": [
    "model = model_t2hists.to(device)"
   ]
  },
  {
   "cell_type": "code",
   "execution_count": 14,
   "metadata": {},
   "outputs": [
    {
     "data": {
      "application/javascript": [
       "/* Put everything inside the global mpl namespace */\n",
       "window.mpl = {};\n",
       "\n",
       "\n",
       "mpl.get_websocket_type = function() {\n",
       "    if (typeof(WebSocket) !== 'undefined') {\n",
       "        return WebSocket;\n",
       "    } else if (typeof(MozWebSocket) !== 'undefined') {\n",
       "        return MozWebSocket;\n",
       "    } else {\n",
       "        alert('Your browser does not have WebSocket support. ' +\n",
       "              'Please try Chrome, Safari or Firefox ≥ 6. ' +\n",
       "              'Firefox 4 and 5 are also supported but you ' +\n",
       "              'have to enable WebSockets in about:config.');\n",
       "    };\n",
       "}\n",
       "\n",
       "mpl.figure = function(figure_id, websocket, ondownload, parent_element) {\n",
       "    this.id = figure_id;\n",
       "\n",
       "    this.ws = websocket;\n",
       "\n",
       "    this.supports_binary = (this.ws.binaryType != undefined);\n",
       "\n",
       "    if (!this.supports_binary) {\n",
       "        var warnings = document.getElementById(\"mpl-warnings\");\n",
       "        if (warnings) {\n",
       "            warnings.style.display = 'block';\n",
       "            warnings.textContent = (\n",
       "                \"This browser does not support binary websocket messages. \" +\n",
       "                    \"Performance may be slow.\");\n",
       "        }\n",
       "    }\n",
       "\n",
       "    this.imageObj = new Image();\n",
       "\n",
       "    this.context = undefined;\n",
       "    this.message = undefined;\n",
       "    this.canvas = undefined;\n",
       "    this.rubberband_canvas = undefined;\n",
       "    this.rubberband_context = undefined;\n",
       "    this.format_dropdown = undefined;\n",
       "\n",
       "    this.image_mode = 'full';\n",
       "\n",
       "    this.root = $('<div/>');\n",
       "    this._root_extra_style(this.root)\n",
       "    this.root.attr('style', 'display: inline-block');\n",
       "\n",
       "    $(parent_element).append(this.root);\n",
       "\n",
       "    this._init_header(this);\n",
       "    this._init_canvas(this);\n",
       "    this._init_toolbar(this);\n",
       "\n",
       "    var fig = this;\n",
       "\n",
       "    this.waiting = false;\n",
       "\n",
       "    this.ws.onopen =  function () {\n",
       "            fig.send_message(\"supports_binary\", {value: fig.supports_binary});\n",
       "            fig.send_message(\"send_image_mode\", {});\n",
       "            if (mpl.ratio != 1) {\n",
       "                fig.send_message(\"set_dpi_ratio\", {'dpi_ratio': mpl.ratio});\n",
       "            }\n",
       "            fig.send_message(\"refresh\", {});\n",
       "        }\n",
       "\n",
       "    this.imageObj.onload = function() {\n",
       "            if (fig.image_mode == 'full') {\n",
       "                // Full images could contain transparency (where diff images\n",
       "                // almost always do), so we need to clear the canvas so that\n",
       "                // there is no ghosting.\n",
       "                fig.context.clearRect(0, 0, fig.canvas.width, fig.canvas.height);\n",
       "            }\n",
       "            fig.context.drawImage(fig.imageObj, 0, 0);\n",
       "        };\n",
       "\n",
       "    this.imageObj.onunload = function() {\n",
       "        fig.ws.close();\n",
       "    }\n",
       "\n",
       "    this.ws.onmessage = this._make_on_message_function(this);\n",
       "\n",
       "    this.ondownload = ondownload;\n",
       "}\n",
       "\n",
       "mpl.figure.prototype._init_header = function() {\n",
       "    var titlebar = $(\n",
       "        '<div class=\"ui-dialog-titlebar ui-widget-header ui-corner-all ' +\n",
       "        'ui-helper-clearfix\"/>');\n",
       "    var titletext = $(\n",
       "        '<div class=\"ui-dialog-title\" style=\"width: 100%; ' +\n",
       "        'text-align: center; padding: 3px;\"/>');\n",
       "    titlebar.append(titletext)\n",
       "    this.root.append(titlebar);\n",
       "    this.header = titletext[0];\n",
       "}\n",
       "\n",
       "\n",
       "\n",
       "mpl.figure.prototype._canvas_extra_style = function(canvas_div) {\n",
       "\n",
       "}\n",
       "\n",
       "\n",
       "mpl.figure.prototype._root_extra_style = function(canvas_div) {\n",
       "\n",
       "}\n",
       "\n",
       "mpl.figure.prototype._init_canvas = function() {\n",
       "    var fig = this;\n",
       "\n",
       "    var canvas_div = $('<div/>');\n",
       "\n",
       "    canvas_div.attr('style', 'position: relative; clear: both; outline: 0');\n",
       "\n",
       "    function canvas_keyboard_event(event) {\n",
       "        return fig.key_event(event, event['data']);\n",
       "    }\n",
       "\n",
       "    canvas_div.keydown('key_press', canvas_keyboard_event);\n",
       "    canvas_div.keyup('key_release', canvas_keyboard_event);\n",
       "    this.canvas_div = canvas_div\n",
       "    this._canvas_extra_style(canvas_div)\n",
       "    this.root.append(canvas_div);\n",
       "\n",
       "    var canvas = $('<canvas/>');\n",
       "    canvas.addClass('mpl-canvas');\n",
       "    canvas.attr('style', \"left: 0; top: 0; z-index: 0; outline: 0\")\n",
       "\n",
       "    this.canvas = canvas[0];\n",
       "    this.context = canvas[0].getContext(\"2d\");\n",
       "\n",
       "    var backingStore = this.context.backingStorePixelRatio ||\n",
       "\tthis.context.webkitBackingStorePixelRatio ||\n",
       "\tthis.context.mozBackingStorePixelRatio ||\n",
       "\tthis.context.msBackingStorePixelRatio ||\n",
       "\tthis.context.oBackingStorePixelRatio ||\n",
       "\tthis.context.backingStorePixelRatio || 1;\n",
       "\n",
       "    mpl.ratio = (window.devicePixelRatio || 1) / backingStore;\n",
       "\n",
       "    var rubberband = $('<canvas/>');\n",
       "    rubberband.attr('style', \"position: absolute; left: 0; top: 0; z-index: 1;\")\n",
       "\n",
       "    var pass_mouse_events = true;\n",
       "\n",
       "    canvas_div.resizable({\n",
       "        start: function(event, ui) {\n",
       "            pass_mouse_events = false;\n",
       "        },\n",
       "        resize: function(event, ui) {\n",
       "            fig.request_resize(ui.size.width, ui.size.height);\n",
       "        },\n",
       "        stop: function(event, ui) {\n",
       "            pass_mouse_events = true;\n",
       "            fig.request_resize(ui.size.width, ui.size.height);\n",
       "        },\n",
       "    });\n",
       "\n",
       "    function mouse_event_fn(event) {\n",
       "        if (pass_mouse_events)\n",
       "            return fig.mouse_event(event, event['data']);\n",
       "    }\n",
       "\n",
       "    rubberband.mousedown('button_press', mouse_event_fn);\n",
       "    rubberband.mouseup('button_release', mouse_event_fn);\n",
       "    // Throttle sequential mouse events to 1 every 20ms.\n",
       "    rubberband.mousemove('motion_notify', mouse_event_fn);\n",
       "\n",
       "    rubberband.mouseenter('figure_enter', mouse_event_fn);\n",
       "    rubberband.mouseleave('figure_leave', mouse_event_fn);\n",
       "\n",
       "    canvas_div.on(\"wheel\", function (event) {\n",
       "        event = event.originalEvent;\n",
       "        event['data'] = 'scroll'\n",
       "        if (event.deltaY < 0) {\n",
       "            event.step = 1;\n",
       "        } else {\n",
       "            event.step = -1;\n",
       "        }\n",
       "        mouse_event_fn(event);\n",
       "    });\n",
       "\n",
       "    canvas_div.append(canvas);\n",
       "    canvas_div.append(rubberband);\n",
       "\n",
       "    this.rubberband = rubberband;\n",
       "    this.rubberband_canvas = rubberband[0];\n",
       "    this.rubberband_context = rubberband[0].getContext(\"2d\");\n",
       "    this.rubberband_context.strokeStyle = \"#000000\";\n",
       "\n",
       "    this._resize_canvas = function(width, height) {\n",
       "        // Keep the size of the canvas, canvas container, and rubber band\n",
       "        // canvas in synch.\n",
       "        canvas_div.css('width', width)\n",
       "        canvas_div.css('height', height)\n",
       "\n",
       "        canvas.attr('width', width * mpl.ratio);\n",
       "        canvas.attr('height', height * mpl.ratio);\n",
       "        canvas.attr('style', 'width: ' + width + 'px; height: ' + height + 'px;');\n",
       "\n",
       "        rubberband.attr('width', width);\n",
       "        rubberband.attr('height', height);\n",
       "    }\n",
       "\n",
       "    // Set the figure to an initial 600x600px, this will subsequently be updated\n",
       "    // upon first draw.\n",
       "    this._resize_canvas(600, 600);\n",
       "\n",
       "    // Disable right mouse context menu.\n",
       "    $(this.rubberband_canvas).bind(\"contextmenu\",function(e){\n",
       "        return false;\n",
       "    });\n",
       "\n",
       "    function set_focus () {\n",
       "        canvas.focus();\n",
       "        canvas_div.focus();\n",
       "    }\n",
       "\n",
       "    window.setTimeout(set_focus, 100);\n",
       "}\n",
       "\n",
       "mpl.figure.prototype._init_toolbar = function() {\n",
       "    var fig = this;\n",
       "\n",
       "    var nav_element = $('<div/>');\n",
       "    nav_element.attr('style', 'width: 100%');\n",
       "    this.root.append(nav_element);\n",
       "\n",
       "    // Define a callback function for later on.\n",
       "    function toolbar_event(event) {\n",
       "        return fig.toolbar_button_onclick(event['data']);\n",
       "    }\n",
       "    function toolbar_mouse_event(event) {\n",
       "        return fig.toolbar_button_onmouseover(event['data']);\n",
       "    }\n",
       "\n",
       "    for(var toolbar_ind in mpl.toolbar_items) {\n",
       "        var name = mpl.toolbar_items[toolbar_ind][0];\n",
       "        var tooltip = mpl.toolbar_items[toolbar_ind][1];\n",
       "        var image = mpl.toolbar_items[toolbar_ind][2];\n",
       "        var method_name = mpl.toolbar_items[toolbar_ind][3];\n",
       "\n",
       "        if (!name) {\n",
       "            // put a spacer in here.\n",
       "            continue;\n",
       "        }\n",
       "        var button = $('<button/>');\n",
       "        button.addClass('ui-button ui-widget ui-state-default ui-corner-all ' +\n",
       "                        'ui-button-icon-only');\n",
       "        button.attr('role', 'button');\n",
       "        button.attr('aria-disabled', 'false');\n",
       "        button.click(method_name, toolbar_event);\n",
       "        button.mouseover(tooltip, toolbar_mouse_event);\n",
       "\n",
       "        var icon_img = $('<span/>');\n",
       "        icon_img.addClass('ui-button-icon-primary ui-icon');\n",
       "        icon_img.addClass(image);\n",
       "        icon_img.addClass('ui-corner-all');\n",
       "\n",
       "        var tooltip_span = $('<span/>');\n",
       "        tooltip_span.addClass('ui-button-text');\n",
       "        tooltip_span.html(tooltip);\n",
       "\n",
       "        button.append(icon_img);\n",
       "        button.append(tooltip_span);\n",
       "\n",
       "        nav_element.append(button);\n",
       "    }\n",
       "\n",
       "    var fmt_picker_span = $('<span/>');\n",
       "\n",
       "    var fmt_picker = $('<select/>');\n",
       "    fmt_picker.addClass('mpl-toolbar-option ui-widget ui-widget-content');\n",
       "    fmt_picker_span.append(fmt_picker);\n",
       "    nav_element.append(fmt_picker_span);\n",
       "    this.format_dropdown = fmt_picker[0];\n",
       "\n",
       "    for (var ind in mpl.extensions) {\n",
       "        var fmt = mpl.extensions[ind];\n",
       "        var option = $(\n",
       "            '<option/>', {selected: fmt === mpl.default_extension}).html(fmt);\n",
       "        fmt_picker.append(option);\n",
       "    }\n",
       "\n",
       "    // Add hover states to the ui-buttons\n",
       "    $( \".ui-button\" ).hover(\n",
       "        function() { $(this).addClass(\"ui-state-hover\");},\n",
       "        function() { $(this).removeClass(\"ui-state-hover\");}\n",
       "    );\n",
       "\n",
       "    var status_bar = $('<span class=\"mpl-message\"/>');\n",
       "    nav_element.append(status_bar);\n",
       "    this.message = status_bar[0];\n",
       "}\n",
       "\n",
       "mpl.figure.prototype.request_resize = function(x_pixels, y_pixels) {\n",
       "    // Request matplotlib to resize the figure. Matplotlib will then trigger a resize in the client,\n",
       "    // which will in turn request a refresh of the image.\n",
       "    this.send_message('resize', {'width': x_pixels, 'height': y_pixels});\n",
       "}\n",
       "\n",
       "mpl.figure.prototype.send_message = function(type, properties) {\n",
       "    properties['type'] = type;\n",
       "    properties['figure_id'] = this.id;\n",
       "    this.ws.send(JSON.stringify(properties));\n",
       "}\n",
       "\n",
       "mpl.figure.prototype.send_draw_message = function() {\n",
       "    if (!this.waiting) {\n",
       "        this.waiting = true;\n",
       "        this.ws.send(JSON.stringify({type: \"draw\", figure_id: this.id}));\n",
       "    }\n",
       "}\n",
       "\n",
       "\n",
       "mpl.figure.prototype.handle_save = function(fig, msg) {\n",
       "    var format_dropdown = fig.format_dropdown;\n",
       "    var format = format_dropdown.options[format_dropdown.selectedIndex].value;\n",
       "    fig.ondownload(fig, format);\n",
       "}\n",
       "\n",
       "\n",
       "mpl.figure.prototype.handle_resize = function(fig, msg) {\n",
       "    var size = msg['size'];\n",
       "    if (size[0] != fig.canvas.width || size[1] != fig.canvas.height) {\n",
       "        fig._resize_canvas(size[0], size[1]);\n",
       "        fig.send_message(\"refresh\", {});\n",
       "    };\n",
       "}\n",
       "\n",
       "mpl.figure.prototype.handle_rubberband = function(fig, msg) {\n",
       "    var x0 = msg['x0'] / mpl.ratio;\n",
       "    var y0 = (fig.canvas.height - msg['y0']) / mpl.ratio;\n",
       "    var x1 = msg['x1'] / mpl.ratio;\n",
       "    var y1 = (fig.canvas.height - msg['y1']) / mpl.ratio;\n",
       "    x0 = Math.floor(x0) + 0.5;\n",
       "    y0 = Math.floor(y0) + 0.5;\n",
       "    x1 = Math.floor(x1) + 0.5;\n",
       "    y1 = Math.floor(y1) + 0.5;\n",
       "    var min_x = Math.min(x0, x1);\n",
       "    var min_y = Math.min(y0, y1);\n",
       "    var width = Math.abs(x1 - x0);\n",
       "    var height = Math.abs(y1 - y0);\n",
       "\n",
       "    fig.rubberband_context.clearRect(\n",
       "        0, 0, fig.canvas.width / mpl.ratio, fig.canvas.height / mpl.ratio);\n",
       "\n",
       "    fig.rubberband_context.strokeRect(min_x, min_y, width, height);\n",
       "}\n",
       "\n",
       "mpl.figure.prototype.handle_figure_label = function(fig, msg) {\n",
       "    // Updates the figure title.\n",
       "    fig.header.textContent = msg['label'];\n",
       "}\n",
       "\n",
       "mpl.figure.prototype.handle_cursor = function(fig, msg) {\n",
       "    var cursor = msg['cursor'];\n",
       "    switch(cursor)\n",
       "    {\n",
       "    case 0:\n",
       "        cursor = 'pointer';\n",
       "        break;\n",
       "    case 1:\n",
       "        cursor = 'default';\n",
       "        break;\n",
       "    case 2:\n",
       "        cursor = 'crosshair';\n",
       "        break;\n",
       "    case 3:\n",
       "        cursor = 'move';\n",
       "        break;\n",
       "    }\n",
       "    fig.rubberband_canvas.style.cursor = cursor;\n",
       "}\n",
       "\n",
       "mpl.figure.prototype.handle_message = function(fig, msg) {\n",
       "    fig.message.textContent = msg['message'];\n",
       "}\n",
       "\n",
       "mpl.figure.prototype.handle_draw = function(fig, msg) {\n",
       "    // Request the server to send over a new figure.\n",
       "    fig.send_draw_message();\n",
       "}\n",
       "\n",
       "mpl.figure.prototype.handle_image_mode = function(fig, msg) {\n",
       "    fig.image_mode = msg['mode'];\n",
       "}\n",
       "\n",
       "mpl.figure.prototype.updated_canvas_event = function() {\n",
       "    // Called whenever the canvas gets updated.\n",
       "    this.send_message(\"ack\", {});\n",
       "}\n",
       "\n",
       "// A function to construct a web socket function for onmessage handling.\n",
       "// Called in the figure constructor.\n",
       "mpl.figure.prototype._make_on_message_function = function(fig) {\n",
       "    return function socket_on_message(evt) {\n",
       "        if (evt.data instanceof Blob) {\n",
       "            /* FIXME: We get \"Resource interpreted as Image but\n",
       "             * transferred with MIME type text/plain:\" errors on\n",
       "             * Chrome.  But how to set the MIME type?  It doesn't seem\n",
       "             * to be part of the websocket stream */\n",
       "            evt.data.type = \"image/png\";\n",
       "\n",
       "            /* Free the memory for the previous frames */\n",
       "            if (fig.imageObj.src) {\n",
       "                (window.URL || window.webkitURL).revokeObjectURL(\n",
       "                    fig.imageObj.src);\n",
       "            }\n",
       "\n",
       "            fig.imageObj.src = (window.URL || window.webkitURL).createObjectURL(\n",
       "                evt.data);\n",
       "            fig.updated_canvas_event();\n",
       "            fig.waiting = false;\n",
       "            return;\n",
       "        }\n",
       "        else if (typeof evt.data === 'string' && evt.data.slice(0, 21) == \"data:image/png;base64\") {\n",
       "            fig.imageObj.src = evt.data;\n",
       "            fig.updated_canvas_event();\n",
       "            fig.waiting = false;\n",
       "            return;\n",
       "        }\n",
       "\n",
       "        var msg = JSON.parse(evt.data);\n",
       "        var msg_type = msg['type'];\n",
       "\n",
       "        // Call the  \"handle_{type}\" callback, which takes\n",
       "        // the figure and JSON message as its only arguments.\n",
       "        try {\n",
       "            var callback = fig[\"handle_\" + msg_type];\n",
       "        } catch (e) {\n",
       "            console.log(\"No handler for the '\" + msg_type + \"' message type: \", msg);\n",
       "            return;\n",
       "        }\n",
       "\n",
       "        if (callback) {\n",
       "            try {\n",
       "                // console.log(\"Handling '\" + msg_type + \"' message: \", msg);\n",
       "                callback(fig, msg);\n",
       "            } catch (e) {\n",
       "                console.log(\"Exception inside the 'handler_\" + msg_type + \"' callback:\", e, e.stack, msg);\n",
       "            }\n",
       "        }\n",
       "    };\n",
       "}\n",
       "\n",
       "// from http://stackoverflow.com/questions/1114465/getting-mouse-location-in-canvas\n",
       "mpl.findpos = function(e) {\n",
       "    //this section is from http://www.quirksmode.org/js/events_properties.html\n",
       "    var targ;\n",
       "    if (!e)\n",
       "        e = window.event;\n",
       "    if (e.target)\n",
       "        targ = e.target;\n",
       "    else if (e.srcElement)\n",
       "        targ = e.srcElement;\n",
       "    if (targ.nodeType == 3) // defeat Safari bug\n",
       "        targ = targ.parentNode;\n",
       "\n",
       "    // jQuery normalizes the pageX and pageY\n",
       "    // pageX,Y are the mouse positions relative to the document\n",
       "    // offset() returns the position of the element relative to the document\n",
       "    var x = e.pageX - $(targ).offset().left;\n",
       "    var y = e.pageY - $(targ).offset().top;\n",
       "\n",
       "    return {\"x\": x, \"y\": y};\n",
       "};\n",
       "\n",
       "/*\n",
       " * return a copy of an object with only non-object keys\n",
       " * we need this to avoid circular references\n",
       " * http://stackoverflow.com/a/24161582/3208463\n",
       " */\n",
       "function simpleKeys (original) {\n",
       "  return Object.keys(original).reduce(function (obj, key) {\n",
       "    if (typeof original[key] !== 'object')\n",
       "        obj[key] = original[key]\n",
       "    return obj;\n",
       "  }, {});\n",
       "}\n",
       "\n",
       "mpl.figure.prototype.mouse_event = function(event, name) {\n",
       "    var canvas_pos = mpl.findpos(event)\n",
       "\n",
       "    if (name === 'button_press')\n",
       "    {\n",
       "        this.canvas.focus();\n",
       "        this.canvas_div.focus();\n",
       "    }\n",
       "\n",
       "    var x = canvas_pos.x * mpl.ratio;\n",
       "    var y = canvas_pos.y * mpl.ratio;\n",
       "\n",
       "    this.send_message(name, {x: x, y: y, button: event.button,\n",
       "                             step: event.step,\n",
       "                             guiEvent: simpleKeys(event)});\n",
       "\n",
       "    /* This prevents the web browser from automatically changing to\n",
       "     * the text insertion cursor when the button is pressed.  We want\n",
       "     * to control all of the cursor setting manually through the\n",
       "     * 'cursor' event from matplotlib */\n",
       "    event.preventDefault();\n",
       "    return false;\n",
       "}\n",
       "\n",
       "mpl.figure.prototype._key_event_extra = function(event, name) {\n",
       "    // Handle any extra behaviour associated with a key event\n",
       "}\n",
       "\n",
       "mpl.figure.prototype.key_event = function(event, name) {\n",
       "\n",
       "    // Prevent repeat events\n",
       "    if (name == 'key_press')\n",
       "    {\n",
       "        if (event.which === this._key)\n",
       "            return;\n",
       "        else\n",
       "            this._key = event.which;\n",
       "    }\n",
       "    if (name == 'key_release')\n",
       "        this._key = null;\n",
       "\n",
       "    var value = '';\n",
       "    if (event.ctrlKey && event.which != 17)\n",
       "        value += \"ctrl+\";\n",
       "    if (event.altKey && event.which != 18)\n",
       "        value += \"alt+\";\n",
       "    if (event.shiftKey && event.which != 16)\n",
       "        value += \"shift+\";\n",
       "\n",
       "    value += 'k';\n",
       "    value += event.which.toString();\n",
       "\n",
       "    this._key_event_extra(event, name);\n",
       "\n",
       "    this.send_message(name, {key: value,\n",
       "                             guiEvent: simpleKeys(event)});\n",
       "    return false;\n",
       "}\n",
       "\n",
       "mpl.figure.prototype.toolbar_button_onclick = function(name) {\n",
       "    if (name == 'download') {\n",
       "        this.handle_save(this, null);\n",
       "    } else {\n",
       "        this.send_message(\"toolbar_button\", {name: name});\n",
       "    }\n",
       "};\n",
       "\n",
       "mpl.figure.prototype.toolbar_button_onmouseover = function(tooltip) {\n",
       "    this.message.textContent = tooltip;\n",
       "};\n",
       "mpl.toolbar_items = [[\"Home\", \"Reset original view\", \"fa fa-home icon-home\", \"home\"], [\"Back\", \"Back to previous view\", \"fa fa-arrow-left icon-arrow-left\", \"back\"], [\"Forward\", \"Forward to next view\", \"fa fa-arrow-right icon-arrow-right\", \"forward\"], [\"\", \"\", \"\", \"\"], [\"Pan\", \"Pan axes with left mouse, zoom with right\", \"fa fa-arrows icon-move\", \"pan\"], [\"Zoom\", \"Zoom to rectangle\", \"fa fa-square-o icon-check-empty\", \"zoom\"], [\"\", \"\", \"\", \"\"], [\"Download\", \"Download plot\", \"fa fa-floppy-o icon-save\", \"download\"]];\n",
       "\n",
       "mpl.extensions = [\"eps\", \"jpeg\", \"pdf\", \"png\", \"ps\", \"raw\", \"svg\", \"tif\"];\n",
       "\n",
       "mpl.default_extension = \"png\";var comm_websocket_adapter = function(comm) {\n",
       "    // Create a \"websocket\"-like object which calls the given IPython comm\n",
       "    // object with the appropriate methods. Currently this is a non binary\n",
       "    // socket, so there is still some room for performance tuning.\n",
       "    var ws = {};\n",
       "\n",
       "    ws.close = function() {\n",
       "        comm.close()\n",
       "    };\n",
       "    ws.send = function(m) {\n",
       "        //console.log('sending', m);\n",
       "        comm.send(m);\n",
       "    };\n",
       "    // Register the callback with on_msg.\n",
       "    comm.on_msg(function(msg) {\n",
       "        //console.log('receiving', msg['content']['data'], msg);\n",
       "        // Pass the mpl event to the overridden (by mpl) onmessage function.\n",
       "        ws.onmessage(msg['content']['data'])\n",
       "    });\n",
       "    return ws;\n",
       "}\n",
       "\n",
       "mpl.mpl_figure_comm = function(comm, msg) {\n",
       "    // This is the function which gets called when the mpl process\n",
       "    // starts-up an IPython Comm through the \"matplotlib\" channel.\n",
       "\n",
       "    var id = msg.content.data.id;\n",
       "    // Get hold of the div created by the display call when the Comm\n",
       "    // socket was opened in Python.\n",
       "    var element = $(\"#\" + id);\n",
       "    var ws_proxy = comm_websocket_adapter(comm)\n",
       "\n",
       "    function ondownload(figure, format) {\n",
       "        window.open(figure.imageObj.src);\n",
       "    }\n",
       "\n",
       "    var fig = new mpl.figure(id, ws_proxy,\n",
       "                           ondownload,\n",
       "                           element.get(0));\n",
       "\n",
       "    // Call onopen now - mpl needs it, as it is assuming we've passed it a real\n",
       "    // web socket which is closed, not our websocket->open comm proxy.\n",
       "    ws_proxy.onopen();\n",
       "\n",
       "    fig.parent_element = element.get(0);\n",
       "    fig.cell_info = mpl.find_output_cell(\"<div id='\" + id + \"'></div>\");\n",
       "    if (!fig.cell_info) {\n",
       "        console.error(\"Failed to find cell for figure\", id, fig);\n",
       "        return;\n",
       "    }\n",
       "\n",
       "    var output_index = fig.cell_info[2]\n",
       "    var cell = fig.cell_info[0];\n",
       "\n",
       "};\n",
       "\n",
       "mpl.figure.prototype.handle_close = function(fig, msg) {\n",
       "    var width = fig.canvas.width/mpl.ratio\n",
       "    fig.root.unbind('remove')\n",
       "\n",
       "    // Update the output cell to use the data from the current canvas.\n",
       "    fig.push_to_output();\n",
       "    var dataURL = fig.canvas.toDataURL();\n",
       "    // Re-enable the keyboard manager in IPython - without this line, in FF,\n",
       "    // the notebook keyboard shortcuts fail.\n",
       "    IPython.keyboard_manager.enable()\n",
       "    $(fig.parent_element).html('<img src=\"' + dataURL + '\" width=\"' + width + '\">');\n",
       "    fig.close_ws(fig, msg);\n",
       "}\n",
       "\n",
       "mpl.figure.prototype.close_ws = function(fig, msg){\n",
       "    fig.send_message('closing', msg);\n",
       "    // fig.ws.close()\n",
       "}\n",
       "\n",
       "mpl.figure.prototype.push_to_output = function(remove_interactive) {\n",
       "    // Turn the data on the canvas into data in the output cell.\n",
       "    var width = this.canvas.width/mpl.ratio\n",
       "    var dataURL = this.canvas.toDataURL();\n",
       "    this.cell_info[1]['text/html'] = '<img src=\"' + dataURL + '\" width=\"' + width + '\">';\n",
       "}\n",
       "\n",
       "mpl.figure.prototype.updated_canvas_event = function() {\n",
       "    // Tell IPython that the notebook contents must change.\n",
       "    IPython.notebook.set_dirty(true);\n",
       "    this.send_message(\"ack\", {});\n",
       "    var fig = this;\n",
       "    // Wait a second, then push the new image to the DOM so\n",
       "    // that it is saved nicely (might be nice to debounce this).\n",
       "    setTimeout(function () { fig.push_to_output() }, 1000);\n",
       "}\n",
       "\n",
       "mpl.figure.prototype._init_toolbar = function() {\n",
       "    var fig = this;\n",
       "\n",
       "    var nav_element = $('<div/>');\n",
       "    nav_element.attr('style', 'width: 100%');\n",
       "    this.root.append(nav_element);\n",
       "\n",
       "    // Define a callback function for later on.\n",
       "    function toolbar_event(event) {\n",
       "        return fig.toolbar_button_onclick(event['data']);\n",
       "    }\n",
       "    function toolbar_mouse_event(event) {\n",
       "        return fig.toolbar_button_onmouseover(event['data']);\n",
       "    }\n",
       "\n",
       "    for(var toolbar_ind in mpl.toolbar_items){\n",
       "        var name = mpl.toolbar_items[toolbar_ind][0];\n",
       "        var tooltip = mpl.toolbar_items[toolbar_ind][1];\n",
       "        var image = mpl.toolbar_items[toolbar_ind][2];\n",
       "        var method_name = mpl.toolbar_items[toolbar_ind][3];\n",
       "\n",
       "        if (!name) { continue; };\n",
       "\n",
       "        var button = $('<button class=\"btn btn-default\" href=\"#\" title=\"' + name + '\"><i class=\"fa ' + image + ' fa-lg\"></i></button>');\n",
       "        button.click(method_name, toolbar_event);\n",
       "        button.mouseover(tooltip, toolbar_mouse_event);\n",
       "        nav_element.append(button);\n",
       "    }\n",
       "\n",
       "    // Add the status bar.\n",
       "    var status_bar = $('<span class=\"mpl-message\" style=\"text-align:right; float: right;\"/>');\n",
       "    nav_element.append(status_bar);\n",
       "    this.message = status_bar[0];\n",
       "\n",
       "    // Add the close button to the window.\n",
       "    var buttongrp = $('<div class=\"btn-group inline pull-right\"></div>');\n",
       "    var button = $('<button class=\"btn btn-mini btn-primary\" href=\"#\" title=\"Stop Interaction\"><i class=\"fa fa-power-off icon-remove icon-large\"></i></button>');\n",
       "    button.click(function (evt) { fig.handle_close(fig, {}); } );\n",
       "    button.mouseover('Stop Interaction', toolbar_mouse_event);\n",
       "    buttongrp.append(button);\n",
       "    var titlebar = this.root.find($('.ui-dialog-titlebar'));\n",
       "    titlebar.prepend(buttongrp);\n",
       "}\n",
       "\n",
       "mpl.figure.prototype._root_extra_style = function(el){\n",
       "    var fig = this\n",
       "    el.on(\"remove\", function(){\n",
       "\tfig.close_ws(fig, {});\n",
       "    });\n",
       "}\n",
       "\n",
       "mpl.figure.prototype._canvas_extra_style = function(el){\n",
       "    // this is important to make the div 'focusable\n",
       "    el.attr('tabindex', 0)\n",
       "    // reach out to IPython and tell the keyboard manager to turn it's self\n",
       "    // off when our div gets focus\n",
       "\n",
       "    // location in version 3\n",
       "    if (IPython.notebook.keyboard_manager) {\n",
       "        IPython.notebook.keyboard_manager.register_events(el);\n",
       "    }\n",
       "    else {\n",
       "        // location in version 2\n",
       "        IPython.keyboard_manager.register_events(el);\n",
       "    }\n",
       "\n",
       "}\n",
       "\n",
       "mpl.figure.prototype._key_event_extra = function(event, name) {\n",
       "    var manager = IPython.notebook.keyboard_manager;\n",
       "    if (!manager)\n",
       "        manager = IPython.keyboard_manager;\n",
       "\n",
       "    // Check for shift+enter\n",
       "    if (event.shiftKey && event.which == 13) {\n",
       "        this.canvas_div.blur();\n",
       "        // select the cell after this one\n",
       "        var index = IPython.notebook.find_cell_index(this.cell_info[0]);\n",
       "        IPython.notebook.select(index + 1);\n",
       "    }\n",
       "}\n",
       "\n",
       "mpl.figure.prototype.handle_save = function(fig, msg) {\n",
       "    fig.ondownload(fig, null);\n",
       "}\n",
       "\n",
       "\n",
       "mpl.find_output_cell = function(html_output) {\n",
       "    // Return the cell and output element which can be found *uniquely* in the notebook.\n",
       "    // Note - this is a bit hacky, but it is done because the \"notebook_saving.Notebook\"\n",
       "    // IPython event is triggered only after the cells have been serialised, which for\n",
       "    // our purposes (turning an active figure into a static one), is too late.\n",
       "    var cells = IPython.notebook.get_cells();\n",
       "    var ncells = cells.length;\n",
       "    for (var i=0; i<ncells; i++) {\n",
       "        var cell = cells[i];\n",
       "        if (cell.cell_type === 'code'){\n",
       "            for (var j=0; j<cell.output_area.outputs.length; j++) {\n",
       "                var data = cell.output_area.outputs[j];\n",
       "                if (data.data) {\n",
       "                    // IPython >= 3 moved mimebundle to data attribute of output\n",
       "                    data = data.data;\n",
       "                }\n",
       "                if (data['text/html'] == html_output) {\n",
       "                    return [cell, data, j];\n",
       "                }\n",
       "            }\n",
       "        }\n",
       "    }\n",
       "}\n",
       "\n",
       "// Register the function which deals with the matplotlib target/channel.\n",
       "// The kernel may be null if the page has been refreshed.\n",
       "if (IPython.notebook.kernel != null) {\n",
       "    IPython.notebook.kernel.comm_manager.register_target('matplotlib', mpl.mpl_figure_comm);\n",
       "}\n"
      ],
      "text/plain": [
       "<IPython.core.display.Javascript object>"
      ]
     },
     "metadata": {},
     "output_type": "display_data"
    },
    {
     "data": {
      "text/html": [
       "<img src=\"data:image/png;base64,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\" width=\"1000\">"
      ],
      "text/plain": [
       "<IPython.core.display.HTML object>"
      ]
     },
     "metadata": {},
     "output_type": "display_data"
    }
   ],
   "source": [
    "ax, tax, lax, lines = dual_train_plots()\n",
    "fig = ax.figure\n",
    "plt.tight_layout()"
   ]
  },
  {
   "cell_type": "code",
   "execution_count": 15,
   "metadata": {
    "scrolled": false
   },
   "outputs": [
    {
     "name": "stdout",
     "output_type": "stream",
     "text": [
      "Number of batches: train = 6667, val = 417\n"
     ]
    },
    {
     "data": {
      "application/vnd.jupyter.widget-view+json": {
       "model_id": "c1b5b752d3084a31888a3db4eb9ea992",
       "version_major": 2,
       "version_minor": 0
      },
      "text/plain": [
       "HBox(children=(FloatProgress(value=0.0, description='Epochs', layout=Layout(flex='2'), max=50.0, style=Progres…"
      ]
     },
     "metadata": {},
     "output_type": "display_data"
    },
    {
     "data": {
      "application/vnd.jupyter.widget-view+json": {
       "model_id": "",
       "version_major": 2,
       "version_minor": 0
      },
      "text/plain": [
       "HBox(children=(FloatProgress(value=0.0, description='Training', layout=Layout(flex='2'), max=6667.0, style=Pro…"
      ]
     },
     "metadata": {},
     "output_type": "display_data"
    },
    {
     "name": "stdout",
     "output_type": "stream",
     "text": [
      "Epoch 0: train=11.0096, val=10.6442, took 619.11 s\n",
      "  Validation Found 47562 of 108024, added 5451 (eff 44.03%) (0.273 FP/event)\n"
     ]
    },
    {
     "data": {
      "application/vnd.jupyter.widget-view+json": {
       "model_id": "",
       "version_major": 2,
       "version_minor": 0
      },
      "text/plain": [
       "HBox(children=(FloatProgress(value=0.0, description='Training', layout=Layout(flex='2'), max=6667.0, style=Pro…"
      ]
     },
     "metadata": {},
     "output_type": "display_data"
    },
    {
     "name": "stdout",
     "output_type": "stream",
     "text": [
      "Epoch 1: train=10.9812, val=10.5085, took 622.33 s\n",
      "  Validation Found 47936 of 108024, added 5658 (eff 44.38%) (0.283 FP/event)\n"
     ]
    },
    {
     "data": {
      "application/vnd.jupyter.widget-view+json": {
       "model_id": "",
       "version_major": 2,
       "version_minor": 0
      },
      "text/plain": [
       "HBox(children=(FloatProgress(value=0.0, description='Training', layout=Layout(flex='2'), max=6667.0, style=Pro…"
      ]
     },
     "metadata": {},
     "output_type": "display_data"
    },
    {
     "name": "stdout",
     "output_type": "stream",
     "text": [
      "Epoch 2: train=10.975, val=10.4634, took 606.58 s\n",
      "  Validation Found 48224 of 108024, added 5657 (eff 44.64%) (0.283 FP/event)\n"
     ]
    },
    {
     "data": {
      "application/vnd.jupyter.widget-view+json": {
       "model_id": "",
       "version_major": 2,
       "version_minor": 0
      },
      "text/plain": [
       "HBox(children=(FloatProgress(value=0.0, description='Training', layout=Layout(flex='2'), max=6667.0, style=Pro…"
      ]
     },
     "metadata": {},
     "output_type": "display_data"
    },
    {
     "name": "stdout",
     "output_type": "stream",
     "text": [
      "Epoch 3: train=10.9627, val=10.8182, took 604.3 s\n",
      "  Validation Found 48111 of 108024, added 5626 (eff 44.54%) (0.281 FP/event)\n"
     ]
    },
    {
     "data": {
      "application/vnd.jupyter.widget-view+json": {
       "model_id": "",
       "version_major": 2,
       "version_minor": 0
      },
      "text/plain": [
       "HBox(children=(FloatProgress(value=0.0, description='Training', layout=Layout(flex='2'), max=6667.0, style=Pro…"
      ]
     },
     "metadata": {},
     "output_type": "display_data"
    },
    {
     "name": "stdout",
     "output_type": "stream",
     "text": [
      "Epoch 4: train=10.9321, val=10.5129, took 604.72 s\n",
      "  Validation Found 49168 of 108024, added 5878 (eff 45.52%) (0.294 FP/event)\n"
     ]
    },
    {
     "data": {
      "application/vnd.jupyter.widget-view+json": {
       "model_id": "",
       "version_major": 2,
       "version_minor": 0
      },
      "text/plain": [
       "HBox(children=(FloatProgress(value=0.0, description='Training', layout=Layout(flex='2'), max=6667.0, style=Pro…"
      ]
     },
     "metadata": {},
     "output_type": "display_data"
    },
    {
     "name": "stdout",
     "output_type": "stream",
     "text": [
      "Epoch 5: train=10.9143, val=10.4429, took 604.8 s\n",
      "  Validation Found 47966 of 108024, added 5428 (eff 44.40%) (0.271 FP/event)\n"
     ]
    },
    {
     "data": {
      "application/vnd.jupyter.widget-view+json": {
       "model_id": "",
       "version_major": 2,
       "version_minor": 0
      },
      "text/plain": [
       "HBox(children=(FloatProgress(value=0.0, description='Training', layout=Layout(flex='2'), max=6667.0, style=Pro…"
      ]
     },
     "metadata": {},
     "output_type": "display_data"
    },
    {
     "name": "stdout",
     "output_type": "stream",
     "text": [
      "Epoch 6: train=10.8974, val=10.5067, took 603.43 s\n",
      "  Validation Found 48522 of 108024, added 5723 (eff 44.92%) (0.286 FP/event)\n"
     ]
    },
    {
     "data": {
      "application/vnd.jupyter.widget-view+json": {
       "model_id": "",
       "version_major": 2,
       "version_minor": 0
      },
      "text/plain": [
       "HBox(children=(FloatProgress(value=0.0, description='Training', layout=Layout(flex='2'), max=6667.0, style=Pro…"
      ]
     },
     "metadata": {},
     "output_type": "display_data"
    },
    {
     "name": "stdout",
     "output_type": "stream",
     "text": [
      "Epoch 7: train=10.883, val=10.4472, took 602.27 s\n",
      "  Validation Found 48389 of 108024, added 5536 (eff 44.79%) (0.277 FP/event)\n"
     ]
    },
    {
     "data": {
      "application/vnd.jupyter.widget-view+json": {
       "model_id": "",
       "version_major": 2,
       "version_minor": 0
      },
      "text/plain": [
       "HBox(children=(FloatProgress(value=0.0, description='Training', layout=Layout(flex='2'), max=6667.0, style=Pro…"
      ]
     },
     "metadata": {},
     "output_type": "display_data"
    },
    {
     "name": "stdout",
     "output_type": "stream",
     "text": [
      "Epoch 8: train=10.8637, val=10.4367, took 604.45 s\n",
      "  Validation Found 48732 of 108024, added 5647 (eff 45.11%) (0.282 FP/event)\n"
     ]
    },
    {
     "data": {
      "application/vnd.jupyter.widget-view+json": {
       "model_id": "",
       "version_major": 2,
       "version_minor": 0
      },
      "text/plain": [
       "HBox(children=(FloatProgress(value=0.0, description='Training', layout=Layout(flex='2'), max=6667.0, style=Pro…"
      ]
     },
     "metadata": {},
     "output_type": "display_data"
    },
    {
     "name": "stdout",
     "output_type": "stream",
     "text": [
      "Epoch 9: train=10.8471, val=10.6621, took 611.17 s\n",
      "  Validation Found 49337 of 108024, added 5791 (eff 45.67%) (0.29 FP/event)\n"
     ]
    },
    {
     "data": {
      "application/vnd.jupyter.widget-view+json": {
       "model_id": "",
       "version_major": 2,
       "version_minor": 0
      },
      "text/plain": [
       "HBox(children=(FloatProgress(value=0.0, description='Training', layout=Layout(flex='2'), max=6667.0, style=Pro…"
      ]
     },
     "metadata": {},
     "output_type": "display_data"
    },
    {
     "name": "stdout",
     "output_type": "stream",
     "text": [
      "Epoch 10: train=10.828, val=10.4236, took 611.48 s\n",
      "  Validation Found 49938 of 108024, added 5938 (eff 46.23%) (0.297 FP/event)\n"
     ]
    },
    {
     "data": {
      "application/vnd.jupyter.widget-view+json": {
       "model_id": "",
       "version_major": 2,
       "version_minor": 0
      },
      "text/plain": [
       "HBox(children=(FloatProgress(value=0.0, description='Training', layout=Layout(flex='2'), max=6667.0, style=Pro…"
      ]
     },
     "metadata": {},
     "output_type": "display_data"
    },
    {
     "name": "stdout",
     "output_type": "stream",
     "text": [
      "Epoch 11: train=10.8199, val=10.3871, took 603.75 s\n",
      "  Validation Found 49118 of 108024, added 5704 (eff 45.47%) (0.285 FP/event)\n"
     ]
    },
    {
     "data": {
      "application/vnd.jupyter.widget-view+json": {
       "model_id": "",
       "version_major": 2,
       "version_minor": 0
      },
      "text/plain": [
       "HBox(children=(FloatProgress(value=0.0, description='Training', layout=Layout(flex='2'), max=6667.0, style=Pro…"
      ]
     },
     "metadata": {},
     "output_type": "display_data"
    },
    {
     "name": "stdout",
     "output_type": "stream",
     "text": [
      "Epoch 12: train=10.8021, val=10.3414, took 603.4 s\n",
      "  Validation Found 50216 of 108024, added 6034 (eff 46.49%) (0.302 FP/event)\n"
     ]
    },
    {
     "data": {
      "application/vnd.jupyter.widget-view+json": {
       "model_id": "",
       "version_major": 2,
       "version_minor": 0
      },
      "text/plain": [
       "HBox(children=(FloatProgress(value=0.0, description='Training', layout=Layout(flex='2'), max=6667.0, style=Pro…"
      ]
     },
     "metadata": {},
     "output_type": "display_data"
    },
    {
     "name": "stdout",
     "output_type": "stream",
     "text": [
      "Epoch 13: train=10.7846, val=10.6351, took 604.64 s\n",
      "  Validation Found 48924 of 108024, added 5634 (eff 45.29%) (0.282 FP/event)\n"
     ]
    },
    {
     "data": {
      "application/vnd.jupyter.widget-view+json": {
       "model_id": "",
       "version_major": 2,
       "version_minor": 0
      },
      "text/plain": [
       "HBox(children=(FloatProgress(value=0.0, description='Training', layout=Layout(flex='2'), max=6667.0, style=Pro…"
      ]
     },
     "metadata": {},
     "output_type": "display_data"
    },
    {
     "name": "stdout",
     "output_type": "stream",
     "text": [
      "Epoch 14: train=10.7814, val=10.4027, took 603.44 s\n",
      "  Validation Found 49486 of 108024, added 5787 (eff 45.81%) (0.289 FP/event)\n"
     ]
    },
    {
     "data": {
      "application/vnd.jupyter.widget-view+json": {
       "model_id": "",
       "version_major": 2,
       "version_minor": 0
      },
      "text/plain": [
       "HBox(children=(FloatProgress(value=0.0, description='Training', layout=Layout(flex='2'), max=6667.0, style=Pro…"
      ]
     },
     "metadata": {},
     "output_type": "display_data"
    },
    {
     "name": "stdout",
     "output_type": "stream",
     "text": [
      "Epoch 15: train=10.7616, val=10.2922, took 590.46 s\n",
      "  Validation Found 50369 of 108024, added 6011 (eff 46.63%) (0.301 FP/event)\n"
     ]
    },
    {
     "data": {
      "application/vnd.jupyter.widget-view+json": {
       "model_id": "",
       "version_major": 2,
       "version_minor": 0
      },
      "text/plain": [
       "HBox(children=(FloatProgress(value=0.0, description='Training', layout=Layout(flex='2'), max=6667.0, style=Pro…"
      ]
     },
     "metadata": {},
     "output_type": "display_data"
    },
    {
     "name": "stdout",
     "output_type": "stream",
     "text": [
      "Epoch 16: train=10.7516, val=10.3746, took 588.37 s\n",
      "  Validation Found 50540 of 108024, added 6095 (eff 46.79%) (0.305 FP/event)\n"
     ]
    },
    {
     "data": {
      "application/vnd.jupyter.widget-view+json": {
       "model_id": "",
       "version_major": 2,
       "version_minor": 0
      },
      "text/plain": [
       "HBox(children=(FloatProgress(value=0.0, description='Training', layout=Layout(flex='2'), max=6667.0, style=Pro…"
      ]
     },
     "metadata": {},
     "output_type": "display_data"
    },
    {
     "name": "stdout",
     "output_type": "stream",
     "text": [
      "Epoch 17: train=10.7276, val=10.2697, took 589.39 s\n",
      "  Validation Found 50183 of 108024, added 5992 (eff 46.46%) (0.3 FP/event)\n"
     ]
    },
    {
     "data": {
      "application/vnd.jupyter.widget-view+json": {
       "model_id": "",
       "version_major": 2,
       "version_minor": 0
      },
      "text/plain": [
       "HBox(children=(FloatProgress(value=0.0, description='Training', layout=Layout(flex='2'), max=6667.0, style=Pro…"
      ]
     },
     "metadata": {},
     "output_type": "display_data"
    },
    {
     "name": "stdout",
     "output_type": "stream",
     "text": [
      "Epoch 18: train=10.716, val=10.3299, took 588.67 s\n",
      "  Validation Found 49653 of 108024, added 5698 (eff 45.96%) (0.285 FP/event)\n"
     ]
    },
    {
     "data": {
      "application/vnd.jupyter.widget-view+json": {
       "model_id": "",
       "version_major": 2,
       "version_minor": 0
      },
      "text/plain": [
       "HBox(children=(FloatProgress(value=0.0, description='Training', layout=Layout(flex='2'), max=6667.0, style=Pro…"
      ]
     },
     "metadata": {},
     "output_type": "display_data"
    },
    {
     "name": "stdout",
     "output_type": "stream",
     "text": [
      "Epoch 19: train=10.7096, val=10.2503, took 588.54 s\n",
      "  Validation Found 49851 of 108024, added 5726 (eff 46.15%) (0.286 FP/event)\n"
     ]
    },
    {
     "data": {
      "application/vnd.jupyter.widget-view+json": {
       "model_id": "",
       "version_major": 2,
       "version_minor": 0
      },
      "text/plain": [
       "HBox(children=(FloatProgress(value=0.0, description='Training', layout=Layout(flex='2'), max=6667.0, style=Pro…"
      ]
     },
     "metadata": {},
     "output_type": "display_data"
    },
    {
     "name": "stdout",
     "output_type": "stream",
     "text": [
      "Epoch 20: train=10.6937, val=10.2329, took 589.41 s\n",
      "  Validation Found 50469 of 108024, added 6010 (eff 46.72%) (0.3 FP/event)\n"
     ]
    },
    {
     "data": {
      "application/vnd.jupyter.widget-view+json": {
       "model_id": "",
       "version_major": 2,
       "version_minor": 0
      },
      "text/plain": [
       "HBox(children=(FloatProgress(value=0.0, description='Training', layout=Layout(flex='2'), max=6667.0, style=Pro…"
      ]
     },
     "metadata": {},
     "output_type": "display_data"
    },
    {
     "name": "stdout",
     "output_type": "stream",
     "text": [
      "Epoch 21: train=10.6796, val=10.627, took 588.8 s\n",
      "  Validation Found 50615 of 108024, added 6171 (eff 46.86%) (0.309 FP/event)\n"
     ]
    },
    {
     "data": {
      "application/vnd.jupyter.widget-view+json": {
       "model_id": "",
       "version_major": 2,
       "version_minor": 0
      },
      "text/plain": [
       "HBox(children=(FloatProgress(value=0.0, description='Training', layout=Layout(flex='2'), max=6667.0, style=Pro…"
      ]
     },
     "metadata": {},
     "output_type": "display_data"
    },
    {
     "name": "stdout",
     "output_type": "stream",
     "text": [
      "Epoch 22: train=10.6673, val=10.6213, took 589.3 s\n",
      "  Validation Found 50246 of 108024, added 5881 (eff 46.51%) (0.294 FP/event)\n"
     ]
    },
    {
     "data": {
      "application/vnd.jupyter.widget-view+json": {
       "model_id": "",
       "version_major": 2,
       "version_minor": 0
      },
      "text/plain": [
       "HBox(children=(FloatProgress(value=0.0, description='Training', layout=Layout(flex='2'), max=6667.0, style=Pro…"
      ]
     },
     "metadata": {},
     "output_type": "display_data"
    },
    {
     "name": "stdout",
     "output_type": "stream",
     "text": [
      "Epoch 23: train=10.6509, val=10.4354, took 589.33 s\n",
      "  Validation Found 50750 of 108024, added 6002 (eff 46.98%) (0.3 FP/event)\n"
     ]
    },
    {
     "data": {
      "application/vnd.jupyter.widget-view+json": {
       "model_id": "",
       "version_major": 2,
       "version_minor": 0
      },
      "text/plain": [
       "HBox(children=(FloatProgress(value=0.0, description='Training', layout=Layout(flex='2'), max=6667.0, style=Pro…"
      ]
     },
     "metadata": {},
     "output_type": "display_data"
    },
    {
     "name": "stdout",
     "output_type": "stream",
     "text": [
      "Epoch 24: train=10.6403, val=10.2408, took 588.58 s\n",
      "  Validation Found 50921 of 108024, added 6091 (eff 47.14%) (0.305 FP/event)\n"
     ]
    },
    {
     "data": {
      "application/vnd.jupyter.widget-view+json": {
       "model_id": "",
       "version_major": 2,
       "version_minor": 0
      },
      "text/plain": [
       "HBox(children=(FloatProgress(value=0.0, description='Training', layout=Layout(flex='2'), max=6667.0, style=Pro…"
      ]
     },
     "metadata": {},
     "output_type": "display_data"
    },
    {
     "name": "stdout",
     "output_type": "stream",
     "text": [
      "Epoch 25: train=10.6236, val=10.1705, took 588.9 s\n",
      "  Validation Found 50968 of 108024, added 6115 (eff 47.18%) (0.306 FP/event)\n"
     ]
    },
    {
     "data": {
      "application/vnd.jupyter.widget-view+json": {
       "model_id": "",
       "version_major": 2,
       "version_minor": 0
      },
      "text/plain": [
       "HBox(children=(FloatProgress(value=0.0, description='Training', layout=Layout(flex='2'), max=6667.0, style=Pro…"
      ]
     },
     "metadata": {},
     "output_type": "display_data"
    },
    {
     "name": "stdout",
     "output_type": "stream",
     "text": [
      "Epoch 26: train=10.6118, val=10.2709, took 589.17 s\n",
      "  Validation Found 51706 of 108024, added 6271 (eff 47.87%) (0.314 FP/event)\n"
     ]
    },
    {
     "data": {
      "application/vnd.jupyter.widget-view+json": {
       "model_id": "",
       "version_major": 2,
       "version_minor": 0
      },
      "text/plain": [
       "HBox(children=(FloatProgress(value=0.0, description='Training', layout=Layout(flex='2'), max=6667.0, style=Pro…"
      ]
     },
     "metadata": {},
     "output_type": "display_data"
    },
    {
     "name": "stdout",
     "output_type": "stream",
     "text": [
      "Epoch 27: train=10.6081, val=10.2191, took 589.07 s\n",
      "  Validation Found 51019 of 108024, added 6183 (eff 47.23%) (0.309 FP/event)\n"
     ]
    },
    {
     "data": {
      "application/vnd.jupyter.widget-view+json": {
       "model_id": "",
       "version_major": 2,
       "version_minor": 0
      },
      "text/plain": [
       "HBox(children=(FloatProgress(value=0.0, description='Training', layout=Layout(flex='2'), max=6667.0, style=Pro…"
      ]
     },
     "metadata": {},
     "output_type": "display_data"
    },
    {
     "name": "stdout",
     "output_type": "stream",
     "text": [
      "Epoch 28: train=10.5927, val=10.1989, took 588.91 s\n",
      "  Validation Found 51399 of 108024, added 6219 (eff 47.58%) (0.311 FP/event)\n"
     ]
    },
    {
     "data": {
      "application/vnd.jupyter.widget-view+json": {
       "model_id": "",
       "version_major": 2,
       "version_minor": 0
      },
      "text/plain": [
       "HBox(children=(FloatProgress(value=0.0, description='Training', layout=Layout(flex='2'), max=6667.0, style=Pro…"
      ]
     },
     "metadata": {},
     "output_type": "display_data"
    },
    {
     "name": "stdout",
     "output_type": "stream",
     "text": [
      "Epoch 29: train=10.5801, val=10.2108, took 589.35 s\n",
      "  Validation Found 51919 of 108024, added 6257 (eff 48.06%) (0.313 FP/event)\n"
     ]
    },
    {
     "data": {
      "application/vnd.jupyter.widget-view+json": {
       "model_id": "",
       "version_major": 2,
       "version_minor": 0
      },
      "text/plain": [
       "HBox(children=(FloatProgress(value=0.0, description='Training', layout=Layout(flex='2'), max=6667.0, style=Pro…"
      ]
     },
     "metadata": {},
     "output_type": "display_data"
    },
    {
     "name": "stdout",
     "output_type": "stream",
     "text": [
      "Epoch 30: train=10.5647, val=10.1965, took 588.74 s\n",
      "  Validation Found 52168 of 108024, added 6366 (eff 48.29%) (0.318 FP/event)\n"
     ]
    },
    {
     "data": {
      "application/vnd.jupyter.widget-view+json": {
       "model_id": "",
       "version_major": 2,
       "version_minor": 0
      },
      "text/plain": [
       "HBox(children=(FloatProgress(value=0.0, description='Training', layout=Layout(flex='2'), max=6667.0, style=Pro…"
      ]
     },
     "metadata": {},
     "output_type": "display_data"
    },
    {
     "name": "stdout",
     "output_type": "stream",
     "text": [
      "Epoch 31: train=10.5539, val=10.1628, took 588.82 s\n",
      "  Validation Found 52728 of 108024, added 6657 (eff 48.81%) (0.333 FP/event)\n"
     ]
    },
    {
     "data": {
      "application/vnd.jupyter.widget-view+json": {
       "model_id": "",
       "version_major": 2,
       "version_minor": 0
      },
      "text/plain": [
       "HBox(children=(FloatProgress(value=0.0, description='Training', layout=Layout(flex='2'), max=6667.0, style=Pro…"
      ]
     },
     "metadata": {},
     "output_type": "display_data"
    },
    {
     "name": "stdout",
     "output_type": "stream",
     "text": [
      "Epoch 32: train=10.5498, val=10.1913, took 589.33 s\n",
      "  Validation Found 52317 of 108024, added 6481 (eff 48.43%) (0.324 FP/event)\n"
     ]
    },
    {
     "data": {
      "application/vnd.jupyter.widget-view+json": {
       "model_id": "",
       "version_major": 2,
       "version_minor": 0
      },
      "text/plain": [
       "HBox(children=(FloatProgress(value=0.0, description='Training', layout=Layout(flex='2'), max=6667.0, style=Pro…"
      ]
     },
     "metadata": {},
     "output_type": "display_data"
    },
    {
     "name": "stdout",
     "output_type": "stream",
     "text": [
      "Epoch 33: train=10.5381, val=10.3856, took 588.99 s\n",
      "  Validation Found 51631 of 108024, added 6334 (eff 47.80%) (0.317 FP/event)\n"
     ]
    },
    {
     "data": {
      "application/vnd.jupyter.widget-view+json": {
       "model_id": "",
       "version_major": 2,
       "version_minor": 0
      },
      "text/plain": [
       "HBox(children=(FloatProgress(value=0.0, description='Training', layout=Layout(flex='2'), max=6667.0, style=Pro…"
      ]
     },
     "metadata": {},
     "output_type": "display_data"
    },
    {
     "name": "stdout",
     "output_type": "stream",
     "text": [
      "Epoch 34: train=10.5256, val=10.7328, took 589.2 s\n",
      "  Validation Found 52090 of 108024, added 6525 (eff 48.22%) (0.326 FP/event)\n"
     ]
    },
    {
     "data": {
      "application/vnd.jupyter.widget-view+json": {
       "model_id": "",
       "version_major": 2,
       "version_minor": 0
      },
      "text/plain": [
       "HBox(children=(FloatProgress(value=0.0, description='Training', layout=Layout(flex='2'), max=6667.0, style=Pro…"
      ]
     },
     "metadata": {},
     "output_type": "display_data"
    },
    {
     "name": "stdout",
     "output_type": "stream",
     "text": [
      "Epoch 35: train=10.5181, val=10.1153, took 589.12 s\n",
      "  Validation Found 52438 of 108024, added 6487 (eff 48.54%) (0.324 FP/event)\n"
     ]
    },
    {
     "data": {
      "application/vnd.jupyter.widget-view+json": {
       "model_id": "",
       "version_major": 2,
       "version_minor": 0
      },
      "text/plain": [
       "HBox(children=(FloatProgress(value=0.0, description='Training', layout=Layout(flex='2'), max=6667.0, style=Pro…"
      ]
     },
     "metadata": {},
     "output_type": "display_data"
    },
    {
     "name": "stdout",
     "output_type": "stream",
     "text": [
      "Epoch 36: train=10.5115, val=10.1164, took 588.75 s\n",
      "  Validation Found 52521 of 108024, added 6329 (eff 48.62%) (0.316 FP/event)\n"
     ]
    },
    {
     "data": {
      "application/vnd.jupyter.widget-view+json": {
       "model_id": "",
       "version_major": 2,
       "version_minor": 0
      },
      "text/plain": [
       "HBox(children=(FloatProgress(value=0.0, description='Training', layout=Layout(flex='2'), max=6667.0, style=Pro…"
      ]
     },
     "metadata": {},
     "output_type": "display_data"
    },
    {
     "name": "stdout",
     "output_type": "stream",
     "text": [
      "Epoch 37: train=10.5026, val=10.0656, took 589.11 s\n",
      "  Validation Found 51706 of 108024, added 6089 (eff 47.87%) (0.304 FP/event)\n"
     ]
    },
    {
     "data": {
      "application/vnd.jupyter.widget-view+json": {
       "model_id": "",
       "version_major": 2,
       "version_minor": 0
      },
      "text/plain": [
       "HBox(children=(FloatProgress(value=0.0, description='Training', layout=Layout(flex='2'), max=6667.0, style=Pro…"
      ]
     },
     "metadata": {},
     "output_type": "display_data"
    },
    {
     "name": "stdout",
     "output_type": "stream",
     "text": [
      "Epoch 38: train=10.4822, val=10.1033, took 589.22 s\n",
      "  Validation Found 52664 of 108024, added 6542 (eff 48.75%) (0.327 FP/event)\n"
     ]
    },
    {
     "data": {
      "application/vnd.jupyter.widget-view+json": {
       "model_id": "",
       "version_major": 2,
       "version_minor": 0
      },
      "text/plain": [
       "HBox(children=(FloatProgress(value=0.0, description='Training', layout=Layout(flex='2'), max=6667.0, style=Pro…"
      ]
     },
     "metadata": {},
     "output_type": "display_data"
    },
    {
     "name": "stdout",
     "output_type": "stream",
     "text": [
      "Epoch 39: train=10.4904, val=10.1001, took 588.96 s\n",
      "  Validation Found 52534 of 108024, added 6404 (eff 48.63%) (0.32 FP/event)\n"
     ]
    },
    {
     "data": {
      "application/vnd.jupyter.widget-view+json": {
       "model_id": "",
       "version_major": 2,
       "version_minor": 0
      },
      "text/plain": [
       "HBox(children=(FloatProgress(value=0.0, description='Training', layout=Layout(flex='2'), max=6667.0, style=Pro…"
      ]
     },
     "metadata": {},
     "output_type": "display_data"
    },
    {
     "name": "stdout",
     "output_type": "stream",
     "text": [
      "Epoch 40: train=10.4833, val=10.3875, took 589.22 s\n",
      "  Validation Found 53157 of 108024, added 6958 (eff 49.21%) (0.348 FP/event)\n"
     ]
    },
    {
     "data": {
      "application/vnd.jupyter.widget-view+json": {
       "model_id": "",
       "version_major": 2,
       "version_minor": 0
      },
      "text/plain": [
       "HBox(children=(FloatProgress(value=0.0, description='Training', layout=Layout(flex='2'), max=6667.0, style=Pro…"
      ]
     },
     "metadata": {},
     "output_type": "display_data"
    },
    {
     "name": "stdout",
     "output_type": "stream",
     "text": [
      "Epoch 41: train=10.475, val=10.1941, took 589.4 s\n",
      "  Validation Found 52626 of 108024, added 6469 (eff 48.72%) (0.323 FP/event)\n"
     ]
    },
    {
     "data": {
      "application/vnd.jupyter.widget-view+json": {
       "model_id": "",
       "version_major": 2,
       "version_minor": 0
      },
      "text/plain": [
       "HBox(children=(FloatProgress(value=0.0, description='Training', layout=Layout(flex='2'), max=6667.0, style=Pro…"
      ]
     },
     "metadata": {},
     "output_type": "display_data"
    },
    {
     "name": "stdout",
     "output_type": "stream",
     "text": [
      "Epoch 42: train=10.4635, val=10.1434, took 589.15 s\n",
      "  Validation Found 52928 of 108024, added 6615 (eff 49.00%) (0.331 FP/event)\n"
     ]
    },
    {
     "data": {
      "application/vnd.jupyter.widget-view+json": {
       "model_id": "",
       "version_major": 2,
       "version_minor": 0
      },
      "text/plain": [
       "HBox(children=(FloatProgress(value=0.0, description='Training', layout=Layout(flex='2'), max=6667.0, style=Pro…"
      ]
     },
     "metadata": {},
     "output_type": "display_data"
    },
    {
     "name": "stdout",
     "output_type": "stream",
     "text": [
      "Epoch 43: train=10.4606, val=10.1524, took 589.69 s\n",
      "  Validation Found 52468 of 108024, added 6444 (eff 48.57%) (0.322 FP/event)\n"
     ]
    },
    {
     "data": {
      "application/vnd.jupyter.widget-view+json": {
       "model_id": "",
       "version_major": 2,
       "version_minor": 0
      },
      "text/plain": [
       "HBox(children=(FloatProgress(value=0.0, description='Training', layout=Layout(flex='2'), max=6667.0, style=Pro…"
      ]
     },
     "metadata": {},
     "output_type": "display_data"
    },
    {
     "name": "stdout",
     "output_type": "stream",
     "text": [
      "Epoch 44: train=10.4497, val=10.1698, took 589.26 s\n",
      "  Validation Found 53141 of 108024, added 6624 (eff 49.19%) (0.331 FP/event)\n"
     ]
    },
    {
     "data": {
      "application/vnd.jupyter.widget-view+json": {
       "model_id": "",
       "version_major": 2,
       "version_minor": 0
      },
      "text/plain": [
       "HBox(children=(FloatProgress(value=0.0, description='Training', layout=Layout(flex='2'), max=6667.0, style=Pro…"
      ]
     },
     "metadata": {},
     "output_type": "display_data"
    },
    {
     "name": "stdout",
     "output_type": "stream",
     "text": [
      "Epoch 45: train=10.4387, val=10.0348, took 591.63 s\n",
      "  Validation Found 52015 of 108024, added 6091 (eff 48.15%) (0.305 FP/event)\n"
     ]
    },
    {
     "data": {
      "application/vnd.jupyter.widget-view+json": {
       "model_id": "",
       "version_major": 2,
       "version_minor": 0
      },
      "text/plain": [
       "HBox(children=(FloatProgress(value=0.0, description='Training', layout=Layout(flex='2'), max=6667.0, style=Pro…"
      ]
     },
     "metadata": {},
     "output_type": "display_data"
    },
    {
     "name": "stdout",
     "output_type": "stream",
     "text": [
      "Epoch 46: train=10.4332, val=10.2896, took 590.66 s\n",
      "  Validation Found 52374 of 108024, added 6330 (eff 48.48%) (0.316 FP/event)\n"
     ]
    },
    {
     "data": {
      "application/vnd.jupyter.widget-view+json": {
       "model_id": "",
       "version_major": 2,
       "version_minor": 0
      },
      "text/plain": [
       "HBox(children=(FloatProgress(value=0.0, description='Training', layout=Layout(flex='2'), max=6667.0, style=Pro…"
      ]
     },
     "metadata": {},
     "output_type": "display_data"
    },
    {
     "name": "stdout",
     "output_type": "stream",
     "text": [
      "Epoch 47: train=10.4268, val=10.1005, took 592.0 s\n",
      "  Validation Found 52079 of 108024, added 6173 (eff 48.21%) (0.309 FP/event)\n"
     ]
    },
    {
     "data": {
      "application/vnd.jupyter.widget-view+json": {
       "model_id": "",
       "version_major": 2,
       "version_minor": 0
      },
      "text/plain": [
       "HBox(children=(FloatProgress(value=0.0, description='Training', layout=Layout(flex='2'), max=6667.0, style=Pro…"
      ]
     },
     "metadata": {},
     "output_type": "display_data"
    },
    {
     "name": "stdout",
     "output_type": "stream",
     "text": [
      "Epoch 48: train=10.4216, val=10.1412, took 590.44 s\n",
      "  Validation Found 53340 of 108024, added 6551 (eff 49.38%) (0.328 FP/event)\n"
     ]
    },
    {
     "data": {
      "application/vnd.jupyter.widget-view+json": {
       "model_id": "",
       "version_major": 2,
       "version_minor": 0
      },
      "text/plain": [
       "HBox(children=(FloatProgress(value=0.0, description='Training', layout=Layout(flex='2'), max=6667.0, style=Pro…"
      ]
     },
     "metadata": {},
     "output_type": "display_data"
    },
    {
     "name": "stdout",
     "output_type": "stream",
     "text": [
      "Epoch 49: train=10.4096, val=10.5336, took 589.06 s\n",
      "  Validation Found 52942 of 108024, added 6827 (eff 49.01%) (0.341 FP/event)\n",
      "\n"
     ]
    }
   ],
   "source": [
    "for result in trainNet(model, optimizer, loss,\n",
    "                        train_loader, val_loader,\n",
    "                        n_epochs, epoch_start=len(results),\n",
    "                        notebook=True):\n",
    "    \n",
    "    results = results.append(pd.Series(result._asdict()), ignore_index=True)\n",
    "    \n",
    "    xs = results.index\n",
    "##    print(\"xs = \",xs)\n",
    "    \n",
    "    # Update the plot above\n",
    "##    print(\"results.index = \",results.index,\"  results.cost\", results.cost)\n",
    "##    print(\"results.index = \",results.index,\"  results.val\", results.val)\n",
    "    lines['train'].set_data(results.index,results.cost)\n",
    "    lines['val'].set_data(results.index,results.val)\n",
    "    \n",
    "    #filter first cost epoch (can be really large)\n",
    "    max_cost = max(max(results.cost if len(results.cost)<2 else results.cost[1:]), max(results.val))\n",
    "    min_cost = min(min(results.cost), min(results.val))\n",
    "    \n",
    "    # The plot limits need updating too\n",
    "    \n",
    "    \n",
    "    \n",
    "    ax.set_ylim(min_cost*.9, max_cost*1.1)  \n",
    "    ax.set_xlim(-.5, len(results.cost) - .5)\n",
    "    \n",
    "    replace_in_ax(lax, lines['eff'], xs, results['eff_val'].apply(lambda x: x.eff_rate))\n",
    "    replace_in_ax(tax, lines['fp'], xs, results['eff_val'].apply(lambda x: x.fp_rate))\n",
    "    \n",
    "    # Redraw the figure\n",
    "    fig.canvas.draw()\n",
    "\n",
    "    # Save each model state dictionary\n",
    "    torch.save(model.state_dict(), output / f'{name}_{result.epoch}.pyt')"
   ]
  },
  {
   "cell_type": "code",
   "execution_count": 16,
   "metadata": {},
   "outputs": [],
   "source": [
    "torch.save(model.state_dict(), output / f'{name}_final.pyt')"
   ]
  },
  {
   "cell_type": "code",
   "execution_count": 17,
   "metadata": {},
   "outputs": [
    {
     "name": "stderr",
     "output_type": "stream",
     "text": [
      "/apps/miniconda3/envs/june2020-gpu/lib/python3.7/site-packages/pandas/core/generic.py:2505: PerformanceWarning: \n",
      "your performance may suffer as PyTables will pickle object types that it cannot\n",
      "map directly to c-types [inferred_type->mixed-integer,key->block1_values] [items->Index(['epoch', 'eff_val'], dtype='object')]\n",
      "\n",
      "  encoding=encoding,\n"
     ]
    }
   ],
   "source": [
    "results.to_hdf(f'{name}_stats.hdf5', 'results')"
   ]
  },
  {
   "cell_type": "code",
   "execution_count": 18,
   "metadata": {},
   "outputs": [
    {
     "data": {
      "application/javascript": [
       "/* Put everything inside the global mpl namespace */\n",
       "window.mpl = {};\n",
       "\n",
       "\n",
       "mpl.get_websocket_type = function() {\n",
       "    if (typeof(WebSocket) !== 'undefined') {\n",
       "        return WebSocket;\n",
       "    } else if (typeof(MozWebSocket) !== 'undefined') {\n",
       "        return MozWebSocket;\n",
       "    } else {\n",
       "        alert('Your browser does not have WebSocket support. ' +\n",
       "              'Please try Chrome, Safari or Firefox ≥ 6. ' +\n",
       "              'Firefox 4 and 5 are also supported but you ' +\n",
       "              'have to enable WebSockets in about:config.');\n",
       "    };\n",
       "}\n",
       "\n",
       "mpl.figure = function(figure_id, websocket, ondownload, parent_element) {\n",
       "    this.id = figure_id;\n",
       "\n",
       "    this.ws = websocket;\n",
       "\n",
       "    this.supports_binary = (this.ws.binaryType != undefined);\n",
       "\n",
       "    if (!this.supports_binary) {\n",
       "        var warnings = document.getElementById(\"mpl-warnings\");\n",
       "        if (warnings) {\n",
       "            warnings.style.display = 'block';\n",
       "            warnings.textContent = (\n",
       "                \"This browser does not support binary websocket messages. \" +\n",
       "                    \"Performance may be slow.\");\n",
       "        }\n",
       "    }\n",
       "\n",
       "    this.imageObj = new Image();\n",
       "\n",
       "    this.context = undefined;\n",
       "    this.message = undefined;\n",
       "    this.canvas = undefined;\n",
       "    this.rubberband_canvas = undefined;\n",
       "    this.rubberband_context = undefined;\n",
       "    this.format_dropdown = undefined;\n",
       "\n",
       "    this.image_mode = 'full';\n",
       "\n",
       "    this.root = $('<div/>');\n",
       "    this._root_extra_style(this.root)\n",
       "    this.root.attr('style', 'display: inline-block');\n",
       "\n",
       "    $(parent_element).append(this.root);\n",
       "\n",
       "    this._init_header(this);\n",
       "    this._init_canvas(this);\n",
       "    this._init_toolbar(this);\n",
       "\n",
       "    var fig = this;\n",
       "\n",
       "    this.waiting = false;\n",
       "\n",
       "    this.ws.onopen =  function () {\n",
       "            fig.send_message(\"supports_binary\", {value: fig.supports_binary});\n",
       "            fig.send_message(\"send_image_mode\", {});\n",
       "            if (mpl.ratio != 1) {\n",
       "                fig.send_message(\"set_dpi_ratio\", {'dpi_ratio': mpl.ratio});\n",
       "            }\n",
       "            fig.send_message(\"refresh\", {});\n",
       "        }\n",
       "\n",
       "    this.imageObj.onload = function() {\n",
       "            if (fig.image_mode == 'full') {\n",
       "                // Full images could contain transparency (where diff images\n",
       "                // almost always do), so we need to clear the canvas so that\n",
       "                // there is no ghosting.\n",
       "                fig.context.clearRect(0, 0, fig.canvas.width, fig.canvas.height);\n",
       "            }\n",
       "            fig.context.drawImage(fig.imageObj, 0, 0);\n",
       "        };\n",
       "\n",
       "    this.imageObj.onunload = function() {\n",
       "        fig.ws.close();\n",
       "    }\n",
       "\n",
       "    this.ws.onmessage = this._make_on_message_function(this);\n",
       "\n",
       "    this.ondownload = ondownload;\n",
       "}\n",
       "\n",
       "mpl.figure.prototype._init_header = function() {\n",
       "    var titlebar = $(\n",
       "        '<div class=\"ui-dialog-titlebar ui-widget-header ui-corner-all ' +\n",
       "        'ui-helper-clearfix\"/>');\n",
       "    var titletext = $(\n",
       "        '<div class=\"ui-dialog-title\" style=\"width: 100%; ' +\n",
       "        'text-align: center; padding: 3px;\"/>');\n",
       "    titlebar.append(titletext)\n",
       "    this.root.append(titlebar);\n",
       "    this.header = titletext[0];\n",
       "}\n",
       "\n",
       "\n",
       "\n",
       "mpl.figure.prototype._canvas_extra_style = function(canvas_div) {\n",
       "\n",
       "}\n",
       "\n",
       "\n",
       "mpl.figure.prototype._root_extra_style = function(canvas_div) {\n",
       "\n",
       "}\n",
       "\n",
       "mpl.figure.prototype._init_canvas = function() {\n",
       "    var fig = this;\n",
       "\n",
       "    var canvas_div = $('<div/>');\n",
       "\n",
       "    canvas_div.attr('style', 'position: relative; clear: both; outline: 0');\n",
       "\n",
       "    function canvas_keyboard_event(event) {\n",
       "        return fig.key_event(event, event['data']);\n",
       "    }\n",
       "\n",
       "    canvas_div.keydown('key_press', canvas_keyboard_event);\n",
       "    canvas_div.keyup('key_release', canvas_keyboard_event);\n",
       "    this.canvas_div = canvas_div\n",
       "    this._canvas_extra_style(canvas_div)\n",
       "    this.root.append(canvas_div);\n",
       "\n",
       "    var canvas = $('<canvas/>');\n",
       "    canvas.addClass('mpl-canvas');\n",
       "    canvas.attr('style', \"left: 0; top: 0; z-index: 0; outline: 0\")\n",
       "\n",
       "    this.canvas = canvas[0];\n",
       "    this.context = canvas[0].getContext(\"2d\");\n",
       "\n",
       "    var backingStore = this.context.backingStorePixelRatio ||\n",
       "\tthis.context.webkitBackingStorePixelRatio ||\n",
       "\tthis.context.mozBackingStorePixelRatio ||\n",
       "\tthis.context.msBackingStorePixelRatio ||\n",
       "\tthis.context.oBackingStorePixelRatio ||\n",
       "\tthis.context.backingStorePixelRatio || 1;\n",
       "\n",
       "    mpl.ratio = (window.devicePixelRatio || 1) / backingStore;\n",
       "\n",
       "    var rubberband = $('<canvas/>');\n",
       "    rubberband.attr('style', \"position: absolute; left: 0; top: 0; z-index: 1;\")\n",
       "\n",
       "    var pass_mouse_events = true;\n",
       "\n",
       "    canvas_div.resizable({\n",
       "        start: function(event, ui) {\n",
       "            pass_mouse_events = false;\n",
       "        },\n",
       "        resize: function(event, ui) {\n",
       "            fig.request_resize(ui.size.width, ui.size.height);\n",
       "        },\n",
       "        stop: function(event, ui) {\n",
       "            pass_mouse_events = true;\n",
       "            fig.request_resize(ui.size.width, ui.size.height);\n",
       "        },\n",
       "    });\n",
       "\n",
       "    function mouse_event_fn(event) {\n",
       "        if (pass_mouse_events)\n",
       "            return fig.mouse_event(event, event['data']);\n",
       "    }\n",
       "\n",
       "    rubberband.mousedown('button_press', mouse_event_fn);\n",
       "    rubberband.mouseup('button_release', mouse_event_fn);\n",
       "    // Throttle sequential mouse events to 1 every 20ms.\n",
       "    rubberband.mousemove('motion_notify', mouse_event_fn);\n",
       "\n",
       "    rubberband.mouseenter('figure_enter', mouse_event_fn);\n",
       "    rubberband.mouseleave('figure_leave', mouse_event_fn);\n",
       "\n",
       "    canvas_div.on(\"wheel\", function (event) {\n",
       "        event = event.originalEvent;\n",
       "        event['data'] = 'scroll'\n",
       "        if (event.deltaY < 0) {\n",
       "            event.step = 1;\n",
       "        } else {\n",
       "            event.step = -1;\n",
       "        }\n",
       "        mouse_event_fn(event);\n",
       "    });\n",
       "\n",
       "    canvas_div.append(canvas);\n",
       "    canvas_div.append(rubberband);\n",
       "\n",
       "    this.rubberband = rubberband;\n",
       "    this.rubberband_canvas = rubberband[0];\n",
       "    this.rubberband_context = rubberband[0].getContext(\"2d\");\n",
       "    this.rubberband_context.strokeStyle = \"#000000\";\n",
       "\n",
       "    this._resize_canvas = function(width, height) {\n",
       "        // Keep the size of the canvas, canvas container, and rubber band\n",
       "        // canvas in synch.\n",
       "        canvas_div.css('width', width)\n",
       "        canvas_div.css('height', height)\n",
       "\n",
       "        canvas.attr('width', width * mpl.ratio);\n",
       "        canvas.attr('height', height * mpl.ratio);\n",
       "        canvas.attr('style', 'width: ' + width + 'px; height: ' + height + 'px;');\n",
       "\n",
       "        rubberband.attr('width', width);\n",
       "        rubberband.attr('height', height);\n",
       "    }\n",
       "\n",
       "    // Set the figure to an initial 600x600px, this will subsequently be updated\n",
       "    // upon first draw.\n",
       "    this._resize_canvas(600, 600);\n",
       "\n",
       "    // Disable right mouse context menu.\n",
       "    $(this.rubberband_canvas).bind(\"contextmenu\",function(e){\n",
       "        return false;\n",
       "    });\n",
       "\n",
       "    function set_focus () {\n",
       "        canvas.focus();\n",
       "        canvas_div.focus();\n",
       "    }\n",
       "\n",
       "    window.setTimeout(set_focus, 100);\n",
       "}\n",
       "\n",
       "mpl.figure.prototype._init_toolbar = function() {\n",
       "    var fig = this;\n",
       "\n",
       "    var nav_element = $('<div/>');\n",
       "    nav_element.attr('style', 'width: 100%');\n",
       "    this.root.append(nav_element);\n",
       "\n",
       "    // Define a callback function for later on.\n",
       "    function toolbar_event(event) {\n",
       "        return fig.toolbar_button_onclick(event['data']);\n",
       "    }\n",
       "    function toolbar_mouse_event(event) {\n",
       "        return fig.toolbar_button_onmouseover(event['data']);\n",
       "    }\n",
       "\n",
       "    for(var toolbar_ind in mpl.toolbar_items) {\n",
       "        var name = mpl.toolbar_items[toolbar_ind][0];\n",
       "        var tooltip = mpl.toolbar_items[toolbar_ind][1];\n",
       "        var image = mpl.toolbar_items[toolbar_ind][2];\n",
       "        var method_name = mpl.toolbar_items[toolbar_ind][3];\n",
       "\n",
       "        if (!name) {\n",
       "            // put a spacer in here.\n",
       "            continue;\n",
       "        }\n",
       "        var button = $('<button/>');\n",
       "        button.addClass('ui-button ui-widget ui-state-default ui-corner-all ' +\n",
       "                        'ui-button-icon-only');\n",
       "        button.attr('role', 'button');\n",
       "        button.attr('aria-disabled', 'false');\n",
       "        button.click(method_name, toolbar_event);\n",
       "        button.mouseover(tooltip, toolbar_mouse_event);\n",
       "\n",
       "        var icon_img = $('<span/>');\n",
       "        icon_img.addClass('ui-button-icon-primary ui-icon');\n",
       "        icon_img.addClass(image);\n",
       "        icon_img.addClass('ui-corner-all');\n",
       "\n",
       "        var tooltip_span = $('<span/>');\n",
       "        tooltip_span.addClass('ui-button-text');\n",
       "        tooltip_span.html(tooltip);\n",
       "\n",
       "        button.append(icon_img);\n",
       "        button.append(tooltip_span);\n",
       "\n",
       "        nav_element.append(button);\n",
       "    }\n",
       "\n",
       "    var fmt_picker_span = $('<span/>');\n",
       "\n",
       "    var fmt_picker = $('<select/>');\n",
       "    fmt_picker.addClass('mpl-toolbar-option ui-widget ui-widget-content');\n",
       "    fmt_picker_span.append(fmt_picker);\n",
       "    nav_element.append(fmt_picker_span);\n",
       "    this.format_dropdown = fmt_picker[0];\n",
       "\n",
       "    for (var ind in mpl.extensions) {\n",
       "        var fmt = mpl.extensions[ind];\n",
       "        var option = $(\n",
       "            '<option/>', {selected: fmt === mpl.default_extension}).html(fmt);\n",
       "        fmt_picker.append(option);\n",
       "    }\n",
       "\n",
       "    // Add hover states to the ui-buttons\n",
       "    $( \".ui-button\" ).hover(\n",
       "        function() { $(this).addClass(\"ui-state-hover\");},\n",
       "        function() { $(this).removeClass(\"ui-state-hover\");}\n",
       "    );\n",
       "\n",
       "    var status_bar = $('<span class=\"mpl-message\"/>');\n",
       "    nav_element.append(status_bar);\n",
       "    this.message = status_bar[0];\n",
       "}\n",
       "\n",
       "mpl.figure.prototype.request_resize = function(x_pixels, y_pixels) {\n",
       "    // Request matplotlib to resize the figure. Matplotlib will then trigger a resize in the client,\n",
       "    // which will in turn request a refresh of the image.\n",
       "    this.send_message('resize', {'width': x_pixels, 'height': y_pixels});\n",
       "}\n",
       "\n",
       "mpl.figure.prototype.send_message = function(type, properties) {\n",
       "    properties['type'] = type;\n",
       "    properties['figure_id'] = this.id;\n",
       "    this.ws.send(JSON.stringify(properties));\n",
       "}\n",
       "\n",
       "mpl.figure.prototype.send_draw_message = function() {\n",
       "    if (!this.waiting) {\n",
       "        this.waiting = true;\n",
       "        this.ws.send(JSON.stringify({type: \"draw\", figure_id: this.id}));\n",
       "    }\n",
       "}\n",
       "\n",
       "\n",
       "mpl.figure.prototype.handle_save = function(fig, msg) {\n",
       "    var format_dropdown = fig.format_dropdown;\n",
       "    var format = format_dropdown.options[format_dropdown.selectedIndex].value;\n",
       "    fig.ondownload(fig, format);\n",
       "}\n",
       "\n",
       "\n",
       "mpl.figure.prototype.handle_resize = function(fig, msg) {\n",
       "    var size = msg['size'];\n",
       "    if (size[0] != fig.canvas.width || size[1] != fig.canvas.height) {\n",
       "        fig._resize_canvas(size[0], size[1]);\n",
       "        fig.send_message(\"refresh\", {});\n",
       "    };\n",
       "}\n",
       "\n",
       "mpl.figure.prototype.handle_rubberband = function(fig, msg) {\n",
       "    var x0 = msg['x0'] / mpl.ratio;\n",
       "    var y0 = (fig.canvas.height - msg['y0']) / mpl.ratio;\n",
       "    var x1 = msg['x1'] / mpl.ratio;\n",
       "    var y1 = (fig.canvas.height - msg['y1']) / mpl.ratio;\n",
       "    x0 = Math.floor(x0) + 0.5;\n",
       "    y0 = Math.floor(y0) + 0.5;\n",
       "    x1 = Math.floor(x1) + 0.5;\n",
       "    y1 = Math.floor(y1) + 0.5;\n",
       "    var min_x = Math.min(x0, x1);\n",
       "    var min_y = Math.min(y0, y1);\n",
       "    var width = Math.abs(x1 - x0);\n",
       "    var height = Math.abs(y1 - y0);\n",
       "\n",
       "    fig.rubberband_context.clearRect(\n",
       "        0, 0, fig.canvas.width / mpl.ratio, fig.canvas.height / mpl.ratio);\n",
       "\n",
       "    fig.rubberband_context.strokeRect(min_x, min_y, width, height);\n",
       "}\n",
       "\n",
       "mpl.figure.prototype.handle_figure_label = function(fig, msg) {\n",
       "    // Updates the figure title.\n",
       "    fig.header.textContent = msg['label'];\n",
       "}\n",
       "\n",
       "mpl.figure.prototype.handle_cursor = function(fig, msg) {\n",
       "    var cursor = msg['cursor'];\n",
       "    switch(cursor)\n",
       "    {\n",
       "    case 0:\n",
       "        cursor = 'pointer';\n",
       "        break;\n",
       "    case 1:\n",
       "        cursor = 'default';\n",
       "        break;\n",
       "    case 2:\n",
       "        cursor = 'crosshair';\n",
       "        break;\n",
       "    case 3:\n",
       "        cursor = 'move';\n",
       "        break;\n",
       "    }\n",
       "    fig.rubberband_canvas.style.cursor = cursor;\n",
       "}\n",
       "\n",
       "mpl.figure.prototype.handle_message = function(fig, msg) {\n",
       "    fig.message.textContent = msg['message'];\n",
       "}\n",
       "\n",
       "mpl.figure.prototype.handle_draw = function(fig, msg) {\n",
       "    // Request the server to send over a new figure.\n",
       "    fig.send_draw_message();\n",
       "}\n",
       "\n",
       "mpl.figure.prototype.handle_image_mode = function(fig, msg) {\n",
       "    fig.image_mode = msg['mode'];\n",
       "}\n",
       "\n",
       "mpl.figure.prototype.updated_canvas_event = function() {\n",
       "    // Called whenever the canvas gets updated.\n",
       "    this.send_message(\"ack\", {});\n",
       "}\n",
       "\n",
       "// A function to construct a web socket function for onmessage handling.\n",
       "// Called in the figure constructor.\n",
       "mpl.figure.prototype._make_on_message_function = function(fig) {\n",
       "    return function socket_on_message(evt) {\n",
       "        if (evt.data instanceof Blob) {\n",
       "            /* FIXME: We get \"Resource interpreted as Image but\n",
       "             * transferred with MIME type text/plain:\" errors on\n",
       "             * Chrome.  But how to set the MIME type?  It doesn't seem\n",
       "             * to be part of the websocket stream */\n",
       "            evt.data.type = \"image/png\";\n",
       "\n",
       "            /* Free the memory for the previous frames */\n",
       "            if (fig.imageObj.src) {\n",
       "                (window.URL || window.webkitURL).revokeObjectURL(\n",
       "                    fig.imageObj.src);\n",
       "            }\n",
       "\n",
       "            fig.imageObj.src = (window.URL || window.webkitURL).createObjectURL(\n",
       "                evt.data);\n",
       "            fig.updated_canvas_event();\n",
       "            fig.waiting = false;\n",
       "            return;\n",
       "        }\n",
       "        else if (typeof evt.data === 'string' && evt.data.slice(0, 21) == \"data:image/png;base64\") {\n",
       "            fig.imageObj.src = evt.data;\n",
       "            fig.updated_canvas_event();\n",
       "            fig.waiting = false;\n",
       "            return;\n",
       "        }\n",
       "\n",
       "        var msg = JSON.parse(evt.data);\n",
       "        var msg_type = msg['type'];\n",
       "\n",
       "        // Call the  \"handle_{type}\" callback, which takes\n",
       "        // the figure and JSON message as its only arguments.\n",
       "        try {\n",
       "            var callback = fig[\"handle_\" + msg_type];\n",
       "        } catch (e) {\n",
       "            console.log(\"No handler for the '\" + msg_type + \"' message type: \", msg);\n",
       "            return;\n",
       "        }\n",
       "\n",
       "        if (callback) {\n",
       "            try {\n",
       "                // console.log(\"Handling '\" + msg_type + \"' message: \", msg);\n",
       "                callback(fig, msg);\n",
       "            } catch (e) {\n",
       "                console.log(\"Exception inside the 'handler_\" + msg_type + \"' callback:\", e, e.stack, msg);\n",
       "            }\n",
       "        }\n",
       "    };\n",
       "}\n",
       "\n",
       "// from http://stackoverflow.com/questions/1114465/getting-mouse-location-in-canvas\n",
       "mpl.findpos = function(e) {\n",
       "    //this section is from http://www.quirksmode.org/js/events_properties.html\n",
       "    var targ;\n",
       "    if (!e)\n",
       "        e = window.event;\n",
       "    if (e.target)\n",
       "        targ = e.target;\n",
       "    else if (e.srcElement)\n",
       "        targ = e.srcElement;\n",
       "    if (targ.nodeType == 3) // defeat Safari bug\n",
       "        targ = targ.parentNode;\n",
       "\n",
       "    // jQuery normalizes the pageX and pageY\n",
       "    // pageX,Y are the mouse positions relative to the document\n",
       "    // offset() returns the position of the element relative to the document\n",
       "    var x = e.pageX - $(targ).offset().left;\n",
       "    var y = e.pageY - $(targ).offset().top;\n",
       "\n",
       "    return {\"x\": x, \"y\": y};\n",
       "};\n",
       "\n",
       "/*\n",
       " * return a copy of an object with only non-object keys\n",
       " * we need this to avoid circular references\n",
       " * http://stackoverflow.com/a/24161582/3208463\n",
       " */\n",
       "function simpleKeys (original) {\n",
       "  return Object.keys(original).reduce(function (obj, key) {\n",
       "    if (typeof original[key] !== 'object')\n",
       "        obj[key] = original[key]\n",
       "    return obj;\n",
       "  }, {});\n",
       "}\n",
       "\n",
       "mpl.figure.prototype.mouse_event = function(event, name) {\n",
       "    var canvas_pos = mpl.findpos(event)\n",
       "\n",
       "    if (name === 'button_press')\n",
       "    {\n",
       "        this.canvas.focus();\n",
       "        this.canvas_div.focus();\n",
       "    }\n",
       "\n",
       "    var x = canvas_pos.x * mpl.ratio;\n",
       "    var y = canvas_pos.y * mpl.ratio;\n",
       "\n",
       "    this.send_message(name, {x: x, y: y, button: event.button,\n",
       "                             step: event.step,\n",
       "                             guiEvent: simpleKeys(event)});\n",
       "\n",
       "    /* This prevents the web browser from automatically changing to\n",
       "     * the text insertion cursor when the button is pressed.  We want\n",
       "     * to control all of the cursor setting manually through the\n",
       "     * 'cursor' event from matplotlib */\n",
       "    event.preventDefault();\n",
       "    return false;\n",
       "}\n",
       "\n",
       "mpl.figure.prototype._key_event_extra = function(event, name) {\n",
       "    // Handle any extra behaviour associated with a key event\n",
       "}\n",
       "\n",
       "mpl.figure.prototype.key_event = function(event, name) {\n",
       "\n",
       "    // Prevent repeat events\n",
       "    if (name == 'key_press')\n",
       "    {\n",
       "        if (event.which === this._key)\n",
       "            return;\n",
       "        else\n",
       "            this._key = event.which;\n",
       "    }\n",
       "    if (name == 'key_release')\n",
       "        this._key = null;\n",
       "\n",
       "    var value = '';\n",
       "    if (event.ctrlKey && event.which != 17)\n",
       "        value += \"ctrl+\";\n",
       "    if (event.altKey && event.which != 18)\n",
       "        value += \"alt+\";\n",
       "    if (event.shiftKey && event.which != 16)\n",
       "        value += \"shift+\";\n",
       "\n",
       "    value += 'k';\n",
       "    value += event.which.toString();\n",
       "\n",
       "    this._key_event_extra(event, name);\n",
       "\n",
       "    this.send_message(name, {key: value,\n",
       "                             guiEvent: simpleKeys(event)});\n",
       "    return false;\n",
       "}\n",
       "\n",
       "mpl.figure.prototype.toolbar_button_onclick = function(name) {\n",
       "    if (name == 'download') {\n",
       "        this.handle_save(this, null);\n",
       "    } else {\n",
       "        this.send_message(\"toolbar_button\", {name: name});\n",
       "    }\n",
       "};\n",
       "\n",
       "mpl.figure.prototype.toolbar_button_onmouseover = function(tooltip) {\n",
       "    this.message.textContent = tooltip;\n",
       "};\n",
       "mpl.toolbar_items = [[\"Home\", \"Reset original view\", \"fa fa-home icon-home\", \"home\"], [\"Back\", \"Back to previous view\", \"fa fa-arrow-left icon-arrow-left\", \"back\"], [\"Forward\", \"Forward to next view\", \"fa fa-arrow-right icon-arrow-right\", \"forward\"], [\"\", \"\", \"\", \"\"], [\"Pan\", \"Pan axes with left mouse, zoom with right\", \"fa fa-arrows icon-move\", \"pan\"], [\"Zoom\", \"Zoom to rectangle\", \"fa fa-square-o icon-check-empty\", \"zoom\"], [\"\", \"\", \"\", \"\"], [\"Download\", \"Download plot\", \"fa fa-floppy-o icon-save\", \"download\"]];\n",
       "\n",
       "mpl.extensions = [\"eps\", \"jpeg\", \"pdf\", \"png\", \"ps\", \"raw\", \"svg\", \"tif\"];\n",
       "\n",
       "mpl.default_extension = \"png\";var comm_websocket_adapter = function(comm) {\n",
       "    // Create a \"websocket\"-like object which calls the given IPython comm\n",
       "    // object with the appropriate methods. Currently this is a non binary\n",
       "    // socket, so there is still some room for performance tuning.\n",
       "    var ws = {};\n",
       "\n",
       "    ws.close = function() {\n",
       "        comm.close()\n",
       "    };\n",
       "    ws.send = function(m) {\n",
       "        //console.log('sending', m);\n",
       "        comm.send(m);\n",
       "    };\n",
       "    // Register the callback with on_msg.\n",
       "    comm.on_msg(function(msg) {\n",
       "        //console.log('receiving', msg['content']['data'], msg);\n",
       "        // Pass the mpl event to the overridden (by mpl) onmessage function.\n",
       "        ws.onmessage(msg['content']['data'])\n",
       "    });\n",
       "    return ws;\n",
       "}\n",
       "\n",
       "mpl.mpl_figure_comm = function(comm, msg) {\n",
       "    // This is the function which gets called when the mpl process\n",
       "    // starts-up an IPython Comm through the \"matplotlib\" channel.\n",
       "\n",
       "    var id = msg.content.data.id;\n",
       "    // Get hold of the div created by the display call when the Comm\n",
       "    // socket was opened in Python.\n",
       "    var element = $(\"#\" + id);\n",
       "    var ws_proxy = comm_websocket_adapter(comm)\n",
       "\n",
       "    function ondownload(figure, format) {\n",
       "        window.open(figure.imageObj.src);\n",
       "    }\n",
       "\n",
       "    var fig = new mpl.figure(id, ws_proxy,\n",
       "                           ondownload,\n",
       "                           element.get(0));\n",
       "\n",
       "    // Call onopen now - mpl needs it, as it is assuming we've passed it a real\n",
       "    // web socket which is closed, not our websocket->open comm proxy.\n",
       "    ws_proxy.onopen();\n",
       "\n",
       "    fig.parent_element = element.get(0);\n",
       "    fig.cell_info = mpl.find_output_cell(\"<div id='\" + id + \"'></div>\");\n",
       "    if (!fig.cell_info) {\n",
       "        console.error(\"Failed to find cell for figure\", id, fig);\n",
       "        return;\n",
       "    }\n",
       "\n",
       "    var output_index = fig.cell_info[2]\n",
       "    var cell = fig.cell_info[0];\n",
       "\n",
       "};\n",
       "\n",
       "mpl.figure.prototype.handle_close = function(fig, msg) {\n",
       "    var width = fig.canvas.width/mpl.ratio\n",
       "    fig.root.unbind('remove')\n",
       "\n",
       "    // Update the output cell to use the data from the current canvas.\n",
       "    fig.push_to_output();\n",
       "    var dataURL = fig.canvas.toDataURL();\n",
       "    // Re-enable the keyboard manager in IPython - without this line, in FF,\n",
       "    // the notebook keyboard shortcuts fail.\n",
       "    IPython.keyboard_manager.enable()\n",
       "    $(fig.parent_element).html('<img src=\"' + dataURL + '\" width=\"' + width + '\">');\n",
       "    fig.close_ws(fig, msg);\n",
       "}\n",
       "\n",
       "mpl.figure.prototype.close_ws = function(fig, msg){\n",
       "    fig.send_message('closing', msg);\n",
       "    // fig.ws.close()\n",
       "}\n",
       "\n",
       "mpl.figure.prototype.push_to_output = function(remove_interactive) {\n",
       "    // Turn the data on the canvas into data in the output cell.\n",
       "    var width = this.canvas.width/mpl.ratio\n",
       "    var dataURL = this.canvas.toDataURL();\n",
       "    this.cell_info[1]['text/html'] = '<img src=\"' + dataURL + '\" width=\"' + width + '\">';\n",
       "}\n",
       "\n",
       "mpl.figure.prototype.updated_canvas_event = function() {\n",
       "    // Tell IPython that the notebook contents must change.\n",
       "    IPython.notebook.set_dirty(true);\n",
       "    this.send_message(\"ack\", {});\n",
       "    var fig = this;\n",
       "    // Wait a second, then push the new image to the DOM so\n",
       "    // that it is saved nicely (might be nice to debounce this).\n",
       "    setTimeout(function () { fig.push_to_output() }, 1000);\n",
       "}\n",
       "\n",
       "mpl.figure.prototype._init_toolbar = function() {\n",
       "    var fig = this;\n",
       "\n",
       "    var nav_element = $('<div/>');\n",
       "    nav_element.attr('style', 'width: 100%');\n",
       "    this.root.append(nav_element);\n",
       "\n",
       "    // Define a callback function for later on.\n",
       "    function toolbar_event(event) {\n",
       "        return fig.toolbar_button_onclick(event['data']);\n",
       "    }\n",
       "    function toolbar_mouse_event(event) {\n",
       "        return fig.toolbar_button_onmouseover(event['data']);\n",
       "    }\n",
       "\n",
       "    for(var toolbar_ind in mpl.toolbar_items){\n",
       "        var name = mpl.toolbar_items[toolbar_ind][0];\n",
       "        var tooltip = mpl.toolbar_items[toolbar_ind][1];\n",
       "        var image = mpl.toolbar_items[toolbar_ind][2];\n",
       "        var method_name = mpl.toolbar_items[toolbar_ind][3];\n",
       "\n",
       "        if (!name) { continue; };\n",
       "\n",
       "        var button = $('<button class=\"btn btn-default\" href=\"#\" title=\"' + name + '\"><i class=\"fa ' + image + ' fa-lg\"></i></button>');\n",
       "        button.click(method_name, toolbar_event);\n",
       "        button.mouseover(tooltip, toolbar_mouse_event);\n",
       "        nav_element.append(button);\n",
       "    }\n",
       "\n",
       "    // Add the status bar.\n",
       "    var status_bar = $('<span class=\"mpl-message\" style=\"text-align:right; float: right;\"/>');\n",
       "    nav_element.append(status_bar);\n",
       "    this.message = status_bar[0];\n",
       "\n",
       "    // Add the close button to the window.\n",
       "    var buttongrp = $('<div class=\"btn-group inline pull-right\"></div>');\n",
       "    var button = $('<button class=\"btn btn-mini btn-primary\" href=\"#\" title=\"Stop Interaction\"><i class=\"fa fa-power-off icon-remove icon-large\"></i></button>');\n",
       "    button.click(function (evt) { fig.handle_close(fig, {}); } );\n",
       "    button.mouseover('Stop Interaction', toolbar_mouse_event);\n",
       "    buttongrp.append(button);\n",
       "    var titlebar = this.root.find($('.ui-dialog-titlebar'));\n",
       "    titlebar.prepend(buttongrp);\n",
       "}\n",
       "\n",
       "mpl.figure.prototype._root_extra_style = function(el){\n",
       "    var fig = this\n",
       "    el.on(\"remove\", function(){\n",
       "\tfig.close_ws(fig, {});\n",
       "    });\n",
       "}\n",
       "\n",
       "mpl.figure.prototype._canvas_extra_style = function(el){\n",
       "    // this is important to make the div 'focusable\n",
       "    el.attr('tabindex', 0)\n",
       "    // reach out to IPython and tell the keyboard manager to turn it's self\n",
       "    // off when our div gets focus\n",
       "\n",
       "    // location in version 3\n",
       "    if (IPython.notebook.keyboard_manager) {\n",
       "        IPython.notebook.keyboard_manager.register_events(el);\n",
       "    }\n",
       "    else {\n",
       "        // location in version 2\n",
       "        IPython.keyboard_manager.register_events(el);\n",
       "    }\n",
       "\n",
       "}\n",
       "\n",
       "mpl.figure.prototype._key_event_extra = function(event, name) {\n",
       "    var manager = IPython.notebook.keyboard_manager;\n",
       "    if (!manager)\n",
       "        manager = IPython.keyboard_manager;\n",
       "\n",
       "    // Check for shift+enter\n",
       "    if (event.shiftKey && event.which == 13) {\n",
       "        this.canvas_div.blur();\n",
       "        // select the cell after this one\n",
       "        var index = IPython.notebook.find_cell_index(this.cell_info[0]);\n",
       "        IPython.notebook.select(index + 1);\n",
       "    }\n",
       "}\n",
       "\n",
       "mpl.figure.prototype.handle_save = function(fig, msg) {\n",
       "    fig.ondownload(fig, null);\n",
       "}\n",
       "\n",
       "\n",
       "mpl.find_output_cell = function(html_output) {\n",
       "    // Return the cell and output element which can be found *uniquely* in the notebook.\n",
       "    // Note - this is a bit hacky, but it is done because the \"notebook_saving.Notebook\"\n",
       "    // IPython event is triggered only after the cells have been serialised, which for\n",
       "    // our purposes (turning an active figure into a static one), is too late.\n",
       "    var cells = IPython.notebook.get_cells();\n",
       "    var ncells = cells.length;\n",
       "    for (var i=0; i<ncells; i++) {\n",
       "        var cell = cells[i];\n",
       "        if (cell.cell_type === 'code'){\n",
       "            for (var j=0; j<cell.output_area.outputs.length; j++) {\n",
       "                var data = cell.output_area.outputs[j];\n",
       "                if (data.data) {\n",
       "                    // IPython >= 3 moved mimebundle to data attribute of output\n",
       "                    data = data.data;\n",
       "                }\n",
       "                if (data['text/html'] == html_output) {\n",
       "                    return [cell, data, j];\n",
       "                }\n",
       "            }\n",
       "        }\n",
       "    }\n",
       "}\n",
       "\n",
       "// Register the function which deals with the matplotlib target/channel.\n",
       "// The kernel may be null if the page has been refreshed.\n",
       "if (IPython.notebook.kernel != null) {\n",
       "    IPython.notebook.kernel.comm_manager.register_target('matplotlib', mpl.mpl_figure_comm);\n",
       "}\n"
      ],
      "text/plain": [
       "<IPython.core.display.Javascript object>"
      ]
     },
     "metadata": {},
     "output_type": "display_data"
    },
    {
     "data": {
      "text/html": [
       "<img src=\"data:image/png;base64,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\" width=\"1000\">"
      ],
      "text/plain": [
       "<IPython.core.display.HTML object>"
      ]
     },
     "metadata": {},
     "output_type": "display_data"
    }
   ],
   "source": [
    "dual_train_plots(results.index,\n",
    "                 results.cost, results.val, \n",
    "                 results['eff_val'].apply(lambda x: x.eff_rate),\n",
    "                 results['eff_val'].apply(lambda x: x.fp_rate))\n",
    "plt.tight_layout()\n",
    "plt.savefig(str(output / f'{name}_stats_a.png'))"
   ]
  },
  {
   "cell_type": "markdown",
   "metadata": {},
   "source": [
    "Go ahead and save the final model (even though it was also saved above):"
   ]
  },
  {
   "cell_type": "markdown",
   "metadata": {},
   "source": [
    "Save the output results:"
   ]
  },
  {
   "cell_type": "code",
   "execution_count": 1,
   "metadata": {},
   "outputs": [],
   "source": [
    "##torch.cuda.empty_cache()\"\n",
    "##quit()\n",
    "\n"
   ]
  },
  {
   "cell_type": "code",
   "execution_count": null,
   "metadata": {},
   "outputs": [],
   "source": []
  }
 ],
 "metadata": {
  "kernelspec": {
   "display_name": "june2020-gpu",
   "language": "python",
   "name": "june2020-gpu"
  },
  "language_info": {
   "codemirror_mode": {
    "name": "ipython",
    "version": 3
   },
   "file_extension": ".py",
   "mimetype": "text/x-python",
   "name": "python",
   "nbconvert_exporter": "python",
   "pygments_lexer": "ipython3",
   "version": "3.7.6"
  }
 },
 "nbformat": 4,
 "nbformat_minor": 2
}
