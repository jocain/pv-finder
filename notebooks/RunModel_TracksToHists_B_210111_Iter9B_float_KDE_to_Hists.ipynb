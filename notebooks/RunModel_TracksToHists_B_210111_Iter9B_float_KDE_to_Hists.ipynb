{
 "cells": [
  {
   "cell_type": "code",
   "execution_count": 1,
   "metadata": {},
   "outputs": [],
   "source": [
    "##%matplotlib widget\n",
    "## with %matplotlib notebook: seems to require ipympl as part of environment, either\n",
    "## part of the conda environment or \"pip install ipympl\"\n",
    "## otherwise, does not show ANY plots in notebook, plt.savefig() works\n",
    "%matplotlib notebook  \n",
    "##%matplotlib inline    ## --plt.savefig()  works, but re-sizing does NOT\n"
   ]
  },
  {
   "cell_type": "markdown",
   "metadata": {},
   "source": [
    "This notebook is a first attempt to read in track information and use it to predict the the full target histrograms.\n",
    "\n",
    "It will read in the TracksToDKE__Ellipsoids_DDPlus model to predict the KDE, and then feed it into a SimpleCNN model to predict the target histograms.  Initially, it will use previously trained weights.\n"
   ]
  },
  {
   "cell_type": "markdown",
   "metadata": {},
   "source": [
    "Check the current GPU usage. Please try to be nice!"
   ]
  },
  {
   "cell_type": "code",
   "execution_count": 2,
   "metadata": {},
   "outputs": [
    {
     "name": "stdout",
     "output_type": "stream",
     "text": [
      "Mon Jan 11 22:49:56 2021       \r\n",
      "+-----------------------------------------------------------------------------+\r\n",
      "| NVIDIA-SMI 450.36.06    Driver Version: 450.36.06    CUDA Version: 11.0     |\r\n",
      "|-------------------------------+----------------------+----------------------+\r\n",
      "| GPU  Name        Persistence-M| Bus-Id        Disp.A | Volatile Uncorr. ECC |\r\n",
      "| Fan  Temp  Perf  Pwr:Usage/Cap|         Memory-Usage | GPU-Util  Compute M. |\r\n",
      "|                               |                      |               MIG M. |\r\n",
      "|===============================+======================+======================|\r\n",
      "|   0  GeForce RTX 208...  On   | 00000000:18:00.0 Off |                  N/A |\r\n",
      "| 29%   35C    P8    38W / 250W |   4219MiB / 11019MiB |      0%      Default |\r\n",
      "|                               |                      |                  N/A |\r\n",
      "+-------------------------------+----------------------+----------------------+\r\n",
      "|   1  GeForce RTX 208...  On   | 00000000:3B:00.0 Off |                  N/A |\r\n",
      "| 29%   35C    P8    39W / 250W |     61MiB / 11019MiB |      0%      Default |\r\n",
      "|                               |                      |                  N/A |\r\n",
      "+-------------------------------+----------------------+----------------------+\r\n",
      "                                                                               \r\n",
      "+-----------------------------------------------------------------------------+\r\n",
      "| Processes:                                                                  |\r\n",
      "|  GPU   GI   CI        PID   Type   Process name                  GPU Memory |\r\n",
      "|        ID   ID                                                   Usage      |\r\n",
      "|=============================================================================|\r\n",
      "|    0   N/A  N/A     10361      C   ...s/june2020-gpu/bin/python     4215MiB |\r\n",
      "|    1   N/A  N/A      3736      G   /usr/bin/X                         33MiB |\r\n",
      "|    1   N/A  N/A      3790      G   /usr/bin/gnome-shell               25MiB |\r\n",
      "+-----------------------------------------------------------------------------+\r\n"
     ]
    }
   ],
   "source": [
    "!nvidia-smi"
   ]
  },
  {
   "cell_type": "markdown",
   "metadata": {},
   "source": [
    "> **WARNING**: The card numbers here are *not* the same as in CUDA. You have been warned."
   ]
  },
  {
   "cell_type": "markdown",
   "metadata": {},
   "source": [
    "## Imports"
   ]
  },
  {
   "cell_type": "code",
   "execution_count": 3,
   "metadata": {},
   "outputs": [],
   "source": [
    "import matplotlib.pyplot as plt\n",
    "import numpy as np\n",
    "import time\n",
    "import torch\n",
    "import pandas as pd\n",
    "\n",
    "# Python 3 standard library\n",
    "from pathlib import Path\n",
    "\n",
    "from model.efficiency import pv_locations, efficiency\n",
    "\n",
    "##from torchsummary import summary"
   ]
  },
  {
   "cell_type": "markdown",
   "metadata": {},
   "source": [
    "### Set up local parameters"
   ]
  },
  {
   "cell_type": "code",
   "execution_count": 4,
   "metadata": {},
   "outputs": [],
   "source": [
    "n_epochs = 50\n",
    "\n",
    "# Name is the output file name\n",
    "\n",
    "\n",
    "##  200719  mds\n",
    "##folder = '20December_Tracks_to_KDE_TestTrainedModel'\n",
    "##folder = '22December_testing_DDplus_loss_Bb_iter2_floatAll_100epochs_3em6'\n",
    "## 50 epochs using 4 of Will's files with batch_size = 48 should take\n",
    "##  just over 8 hours\n",
    "folder = '11Jan2021_TracksToHists_B_Ite9B_50epochs_lr_3em5_b48_2p5_kde2hists_float_all_4x_will'\n",
    "name = folder\n",
    "\n",
    "# Make an output folder named \"name\" (change if you want)\n",
    "\n",
    "## Special instructions for those working on goofy at UC\n",
    "## Please be very careful to make sure that your folder\n",
    "## does not live in a subdirectory of your home directory\n",
    "## this disk has very little capacity. Instead, use \n",
    "## a subdirectory in /share/lazy with a symbolic link to\n",
    "## it in this (the notebooks) subdirectory\n",
    "folder = 'ML/' + folder\n",
    "output = Path(folder)\n",
    "\n",
    "\n",
    "# Size of batches\n",
    "## reduce batch size from 64 to 32 when floating all the parameters\n",
    "##  it *appears* that storing the gradients requires extra memory\n",
    "##  batch_size = 32 --> 6623MiB / 11019 MiB on sleepy RTX2081 Ti\n",
    "batch_size = 48\n",
    "# How fast to learn\n",
    "## learning rate was 1e-7 for all layers in TracksToHists_A\n",
    "## here we want to learn only weights in the finalFilter layer\n",
    "## of TracksToHists_B, so try a high learning rate, at least initially\n",
    "## 1e-3 did well for the first 10 epochs; let's increase it for the next 40\n",
    "## reduce to 1e-3 for iteration with KDE_to_Hists weights floated\n",
    "##  cost decreased monotonically in previous run, so increase lr to 2e-3\n",
    "##  tried running with lr = 2e-3 and the validation cost function \n",
    "##  bounced around.  Want to try using a lower learning rate and\n",
    "##  a larger training sample\n",
    "##  Iter5B --  float all, leave learning rate = 5e-4\n",
    "##  Iter6C, with lr = 1e-5 rather than 1e-6, seems to be learning more quickly,\n",
    "##  so increase the learning rate to 1e-5 for Iter7B\n",
    "##  training sample xost decreased almost monotonically for Iter8B, so increase to 3e-5 for Iter9B\n",
    "##  (recalling that a higher learning rate introduced many fluctuations around a decreasing trend line\n",
    "##    in a past experiment, but also produced a greater decrease altogether)\n",
    "learning_rate = 3e-5"
   ]
  },
  {
   "cell_type": "markdown",
   "metadata": {},
   "source": [
    "Make the output directory if it does not exist:"
   ]
  },
  {
   "cell_type": "code",
   "execution_count": 5,
   "metadata": {},
   "outputs": [],
   "source": [
    "output.mkdir(exist_ok=True)"
   ]
  },
  {
   "cell_type": "markdown",
   "metadata": {},
   "source": [
    "## Get the helper functions\n",
    "\n",
    "Add the directory with the model\n",
    "definitions to the path so we can import from it:\n",
    "\n",
    "> When you type `import X`,\n",
    "Python searches `sys.path` for a python\n",
    "file named `X.py` to import. So we need to add the model directory to the path."
   ]
  },
  {
   "cell_type": "code",
   "execution_count": 6,
   "metadata": {
    "scrolled": true
   },
   "outputs": [],
   "source": [
    "# From model/collectdata.py\n",
    "##from model.collectdata_kde_Ellipsoids import collect_t2kde_data\n",
    "from model.collectdata_t2hists import collect_t2hists_data\n",
    "from model.collectdata_mdsA  import collect_truth\n",
    "\n",
    "# From model/loss.py\n",
    "##from loss import Loss\n",
    "##from model.kde_loss_D import Loss\n",
    "## from model.kde_loss_B import Loss  ## Tracks_to_KDE loss, not for target hists\n",
    "\n",
    "##  \"standard\" ratios loss for hists training\n",
    "from model.alt_loss_A import Loss  ## loss used to train RunModel_Demo_28November2020-SimpleCNNLayer_Ca-Restart_5\n",
    "\n",
    "\n",
    "##from model.models_kde import TracksToKDE_Ellipsoids_DirtyDozen as Model\n",
    "from model.models_kde import TracksToKDE_Ellipsoids_DDplus as t2kde_model\n",
    "##from model.models_mds_G import SimpleCNN5Layer_Ca as kde2hists_model\n",
    "from model.models_mds_28Dec20 import SimpleCNN5Layer_Ca as kde2hists_model  ## copy of models_mds_01June20 for debugging\n",
    "from model.models_t2hists import TracksToHists_B as t2hists_model\n",
    "\n",
    "\n",
    "##from model.training_kde import trainNet, select_gpu, Results\n",
    "## training_t2hists_A.py increases \"difference\" for accepting found\n",
    "## peaks as matched from 5 bins to 7.5 bins (compmared to original training.py)\n",
    "from model.training_t2hists_A import trainNet, select_gpu, Results\n",
    "from model.plots import dual_train_plots, replace_in_ax"
   ]
  },
  {
   "cell_type": "code",
   "execution_count": 7,
   "metadata": {},
   "outputs": [],
   "source": [
    "# This gets built up during the run - do not rerun this cell\n",
    "results = pd.DataFrame([], columns=Results._fields)"
   ]
  },
  {
   "cell_type": "markdown",
   "metadata": {},
   "source": [
    "Set up Torch device configuration. All tensors and model parameters need to know where to be put.\n",
    "This takes a BUS ID number: The BUS ID is the same as the listing at the top of this script."
   ]
  },
  {
   "cell_type": "code",
   "execution_count": 8,
   "metadata": {},
   "outputs": [
    {
     "name": "stdout",
     "output_type": "stream",
     "text": [
      "1 available GPUs (initially using device 0):\n",
      "  0 GeForce RTX 2080 Ti\n"
     ]
    }
   ],
   "source": [
    "device = select_gpu(1)\n",
    "##device = \"cpu\""
   ]
  },
  {
   "cell_type": "markdown",
   "metadata": {},
   "source": [
    "## Loading data\n",
    "\n",
    "Load the dataset, split into parts, then move to device (see `collectdata.py` in the `../model` directory)"
   ]
  },
  {
   "cell_type": "code",
   "execution_count": 9,
   "metadata": {
    "scrolled": false
   },
   "outputs": [
    {
     "name": "stdout",
     "output_type": "stream",
     "text": [
      "Loading data...\n",
      "pocaMx.shape =  (80000,)\n",
      "nEvts =  80000\n",
      "len(pocaMx[0]) =  199\n",
      "len(pocaMx[1]) =  25\n",
      "len(pocaMx[2]) =  369\n",
      "len(pocaMx[3]) =  143\n",
      "len(pocaMx[4]) =  160\n",
      "have entered six_ellipsoid_parameters\n",
      "  \n",
      " \n",
      "  nEvts =  80000\n",
      " iEvt, nTrks =  0 199\n",
      " iEvt, nTrks =  1 25\n",
      " iEvt, nTrks =  2 369\n",
      " iEvt, nTrks =  3 143\n",
      " iEvt, nTrks =  4 160\n",
      " iEvt, nTrks =  5 260\n",
      " iEvt, nTrks =  6 237\n",
      " iEvt, nTrks =  7 327\n",
      " iEvt, nTrks =  8 178\n",
      " iEvt, nTrks =  9 106\n",
      "len(X) =  80000\n",
      "len(Xlist) =  1\n",
      "Loaded /share/lazy/will/data/June30_2020_80k_1.h5 in 109.9 s\n",
      "pocaMx.shape =  (80000,)\n",
      "nEvts =  80000\n",
      "len(pocaMx[0]) =  222\n",
      "len(pocaMx[1]) =  133\n",
      "len(pocaMx[2]) =  259\n",
      "len(pocaMx[3]) =  114\n",
      "len(pocaMx[4]) =  143\n",
      "have entered six_ellipsoid_parameters\n",
      "  \n",
      " \n",
      "  nEvts =  80000\n",
      " iEvt, nTrks =  0 222\n",
      " iEvt, nTrks =  1 133\n",
      " iEvt, nTrks =  2 259\n",
      " iEvt, nTrks =  3 114\n",
      " iEvt, nTrks =  4 143\n",
      " iEvt, nTrks =  5 136\n",
      " iEvt, nTrks =  6 397\n",
      " iEvt, nTrks =  7 370\n",
      " iEvt, nTrks =  8 97\n",
      " iEvt, nTrks =  9 67\n",
      "len(X) =  80000\n",
      "len(Xlist) =  2\n",
      "Loaded /share/lazy/will/data/June30_2020_80k_2.h5 in 110.6 s\n",
      "pocaMx.shape =  (80000,)\n",
      "nEvts =  80000\n",
      "len(pocaMx[0]) =  196\n",
      "len(pocaMx[1]) =  35\n",
      "len(pocaMx[2]) =  265\n",
      "len(pocaMx[3]) =  128\n",
      "len(pocaMx[4]) =  124\n",
      "have entered six_ellipsoid_parameters\n",
      "  \n",
      " \n",
      "  nEvts =  80000\n",
      " iEvt, nTrks =  0 196\n",
      " iEvt, nTrks =  1 35\n",
      " iEvt, nTrks =  2 265\n",
      " iEvt, nTrks =  3 128\n",
      " iEvt, nTrks =  4 124\n",
      " iEvt, nTrks =  5 122\n",
      " iEvt, nTrks =  6 300\n",
      " iEvt, nTrks =  7 179\n",
      " iEvt, nTrks =  8 243\n",
      " iEvt, nTrks =  9 112\n",
      "len(X) =  80000\n",
      "len(Xlist) =  3\n",
      "Loaded /share/lazy/will/data/June30_2020_80k_3.h5 in 111.1 s\n",
      "pocaMx.shape =  (80000,)\n",
      "nEvts =  80000\n",
      "len(pocaMx[0]) =  204\n",
      "len(pocaMx[1]) =  33\n",
      "len(pocaMx[2]) =  206\n",
      "len(pocaMx[3]) =  150\n",
      "len(pocaMx[4]) =  96\n",
      "have entered six_ellipsoid_parameters\n",
      "  \n",
      " \n",
      "  nEvts =  80000\n",
      " iEvt, nTrks =  0 204\n",
      " iEvt, nTrks =  1 33\n",
      " iEvt, nTrks =  2 206\n",
      " iEvt, nTrks =  3 150\n",
      " iEvt, nTrks =  4 96\n",
      " iEvt, nTrks =  5 10\n",
      " iEvt, nTrks =  6 174\n",
      " iEvt, nTrks =  7 320\n",
      " iEvt, nTrks =  8 164\n",
      " iEvt, nTrks =  9 119\n",
      "len(X) =  80000\n",
      "len(Xlist) =  4\n",
      "Loaded /share/lazy/will/data/June30_2020_80k_4.h5 in 111.1 s\n",
      "outer loop X.shape =  (320000, 9, 600)\n",
      "Constructing 320000 event dataset took 1.539 s\n",
      "x_t.shape =  torch.Size([320000, 9, 600])\n",
      "x_t.shape[0] =  320000\n",
      "x_t.shape[1] =  9\n",
      "x_t.shape =  torch.Size([320000, 9, 600])\n",
      "Loading data...\n",
      "pocaMx.shape =  (20000,)\n",
      "nEvts =  20000\n",
      "len(pocaMx[0]) =  211\n",
      "len(pocaMx[1]) =  21\n",
      "len(pocaMx[2]) =  20\n",
      "len(pocaMx[3]) =  198\n",
      "len(pocaMx[4]) =  233\n",
      "have entered six_ellipsoid_parameters\n",
      "  \n",
      " \n",
      "  nEvts =  20000\n",
      " iEvt, nTrks =  0 211\n",
      " iEvt, nTrks =  1 21\n",
      " iEvt, nTrks =  2 20\n",
      " iEvt, nTrks =  3 198\n",
      " iEvt, nTrks =  4 233\n",
      " iEvt, nTrks =  5 85\n",
      " iEvt, nTrks =  6 223\n",
      " iEvt, nTrks =  7 425\n",
      " iEvt, nTrks =  8 252\n",
      " iEvt, nTrks =  9 169\n",
      "len(X) =  20000\n",
      "len(Xlist) =  1\n",
      "Loaded dataAA/20K_POCA_kernel_evts_200926.h5 in 26.19 s\n",
      "outer loop X.shape =  (20000, 9, 600)\n",
      "Constructing 20000 event dataset took 1.983 s\n",
      "x_t.shape =  torch.Size([20000, 9, 600])\n",
      "x_t.shape[0] =  20000\n",
      "x_t.shape[1] =  9\n",
      "x_t.shape =  torch.Size([20000, 9, 600])\n",
      "Loaded dataAA/20K_POCA_kernel_evts_200926.h5 in 0.01205 s\n",
      "PV.n.shape =     (20000,)\n",
      "PV.n[0].shape =  6\n",
      "PV.x[0] =        -0.06039733 0.034324445 0.032115813 0.0021888595 -0.035334907 -0.013019809\n",
      "PV.y[0] =        -0.09381338 -0.013181885 -0.030898828 -0.08940365 -0.0058297813 0.062288247\n",
      "PV.z[0] =        97.82085 61.021088 -0.15807877 134.26784 -29.881668 79.19783\n",
      "PV.n[0] =        24 26 10 7 24 19\n",
      "PV.cat[0] =      1 1 1 1 1 1\n",
      "Loaded dataAA/20K_POCA_kernel_evts_200926.h5 in 0.01121 s\n",
      "SV.n.shape =     (20000,)\n",
      "SV.n[0].shape =  2\n",
      "SV.x[0] =        -0.014751727 0.03923173\n",
      "SV.y[0] =        0.050640453 0.08648109\n",
      "SV.z[0] =        78.924194 79.170876\n",
      "SV.n[0] =        2 0\n",
      "SV.cat[0] =      1 -1\n"
     ]
    }
   ],
   "source": [
    "## 210109 let's use some of Will's toy MC for training rather than the 20K sample I've been using\n",
    "\n",
    "##train_loader = collect_t2hists_data('dataAA/20K_POCA_kernel_evts_200926.h5',\n",
    "train_loader = collect_t2hists_data('/share/lazy/will/data/June30_2020_80k_1.h5', \n",
    "                                    '/share/lazy/will/data/June30_2020_80k_2.h5',\n",
    "                                    '/share/lazy/will/data/June30_2020_80k_3.h5',\n",
    "                                    '/share/lazy/will/data/June30_2020_80k_4.h5',\n",
    "                             batch_size=batch_size,\n",
    "## if we are using a larger dataset (240K events, with the datasets above, and 11 GB  of GPU memory),\n",
    "## not the dataset will overflow the GPU memory; device=device will allow the data to move back\n",
    "## and forth between the CPU and GPU memory. While this allows use of a larger dataset, it slows\n",
    "## down performance by about 10%.  So comment out when not needed.\n",
    "##                           device=device,\n",
    "##                             slice = slice(0,18000)\n",
    "                           )\n",
    "\n",
    "\n",
    "\n",
    "                            \n",
    "# Validation dataset. You can slice to reduce the size.\n",
    "## mds no separate validation set yet,\n",
    "\n",
    "## 210109 and use everything in this 20K file for validation\n",
    "val_loader = collect_t2hists_data('dataAA/20K_POCA_kernel_evts_200926.h5',\n",
    "                            batch_size=batch_size,\n",
    "                            device=device,\n",
    "##                           slice = slice(18000,None)\n",
    "                           )\n",
    "\n",
    "PV = collect_truth('dataAA/20K_POCA_kernel_evts_200926.h5', pvs=True)\n",
    "print('PV.n.shape =    ',  PV.n.shape)\n",
    "print('PV.n[0].shape = ', *PV.n[0].shape)\n",
    "print('PV.x[0] =       ', *PV.x[0])\n",
    "print('PV.y[0] =       ', *PV.y[0])\n",
    "print('PV.z[0] =       ', *PV.z[0])\n",
    "print('PV.n[0] =       ', *PV.n[0])\n",
    "print('PV.cat[0] =     ', *PV.cat[0])\n",
    "\n",
    "SV = collect_truth('dataAA/20K_POCA_kernel_evts_200926.h5', pvs=False)\n",
    "print('SV.n.shape =    ', SV.n.shape)\n",
    "print('SV.n[0].shape = ', *SV.n[0].shape)\n",
    "print('SV.x[0] =       ', *SV.x[0])\n",
    "print('SV.y[0] =       ', *SV.y[0])\n",
    "print('SV.z[0] =       ', *SV.z[0])\n",
    "print('SV.n[0] =       ', *SV.n[0])\n",
    "print('SV.cat[0] =     ', *SV.cat[0])\n"
   ]
  },
  {
   "cell_type": "markdown",
   "metadata": {},
   "source": [
    "# Preparing the model"
   ]
  },
  {
   "cell_type": "markdown",
   "metadata": {},
   "source": [
    "Prepare a model, use multiple GPUs if they are VISIBLE, and move the model to the device."
   ]
  },
  {
   "cell_type": "code",
   "execution_count": 10,
   "metadata": {
    "scrolled": false
   },
   "outputs": [
    {
     "name": "stdout",
     "output_type": "stream",
     "text": [
      "ct, child =  0    Linear(in_features=9, out_features=50, bias=True)\n",
      "ct, child =  1    Linear(in_features=50, out_features=50, bias=True)\n",
      "ct, child =  2    Linear(in_features=50, out_features=50, bias=True)\n",
      "ct, child =  3    Linear(in_features=50, out_features=50, bias=True)\n",
      "ct, child =  4    Linear(in_features=50, out_features=50, bias=True)\n",
      "ct, child =  5    Linear(in_features=50, out_features=50, bias=True)\n",
      "ct, child =  6    Linear(in_features=50, out_features=50, bias=True)\n",
      "ct, child =  7    Linear(in_features=50, out_features=50, bias=True)\n",
      "ct, child =  8    Linear(in_features=50, out_features=50, bias=True)\n",
      "ct, child =  9    Linear(in_features=50, out_features=50, bias=True)\n",
      "ct, child =  10    Linear(in_features=50, out_features=50, bias=True)\n",
      "ct, child =  11    Linear(in_features=50, out_features=16000, bias=True)\n",
      "ct, child =  12    Conv1d(4, 25, kernel_size=(25,), stride=(1,), padding=(12,))\n",
      "ct, child =  13    Conv1d(25, 1, kernel_size=(5,), stride=(1,), padding=(2,))\n",
      "ct, child =  14    Linear(in_features=4000, out_features=4000, bias=True)\n",
      "ct, child =  15    Dropout(p=0.15, inplace=False)\n",
      "ct, child =  16    Dropout(p=0.15, inplace=False)\n",
      "ct, child =  17    Conv1d(1, 20, kernel_size=(25,), stride=(1,), padding=(12,))\n",
      "ct, child =  18    Conv1d(20, 10, kernel_size=(15,), stride=(1,), padding=(7,))\n",
      "ct, child =  19    Conv1d(10, 10, kernel_size=(15,), stride=(1,), padding=(7,))\n",
      "ct, child =  20    Conv1d(10, 10, kernel_size=(15,), stride=(1,), padding=(7,))\n",
      "ct, child =  21    Conv1d(10, 1, kernel_size=(5,), stride=(1,), padding=(2,))\n",
      "ct, child =  22    Dropout(p=0.15, inplace=False)\n",
      "ct, child =  23    Dropout(p=0.15, inplace=False)\n",
      "ct, child =  24    Dropout(p=0.15, inplace=False)\n",
      "ct, child =  25    Dropout(p=0.15, inplace=False)\n",
      "ct, child =  26    Dropout(p=0.35, inplace=False)\n",
      "ct, child =  27    Linear(in_features=4000, out_features=4000, bias=True)\n",
      "ct, child =  28    Conv1d(1, 1, kernel_size=(91,), stride=(1,), padding=(45,))\n"
     ]
    }
   ],
   "source": [
    "nOut1 = 50\n",
    "nOut2 = 50\n",
    "nOut3 = 50\n",
    "nOut4 = 50\n",
    "nOut5 = 50\n",
    "nOut6 = 50\n",
    "nOut7 = 50\n",
    "nOut8 = 50\n",
    "nOut9 = 50\n",
    "nOut10 = 50\n",
    "nOut11 = 50\n",
    "latentChannels = 4\n",
    "model_t2kde = t2kde_model(nOut1,nOut2,nOut3,nOut4,nOut5,nOut6,nOut7,nOut8,nOut9,nOut10,nOut11,latentChannels)\n",
    "model_kde2hists = kde2hists_model()\n",
    "model_t2hists = t2hists_model(nOut1,nOut2,nOut3,nOut4,nOut5,nOut6,nOut7,nOut8,nOut9,nOut10,nOut11,latentChannels)\n",
    "\n",
    "##summary(model, input_size=(4, 4000))\n",
    "##print(model.parameters)\n",
    "\n",
    "## add the following code to allow the user to freeze the some of the weights corresponding \n",
    "## to those taken from an earlier model trained with the original target histograms\n",
    "## presumably -- this leaves either the perturbative filter \"fixed\" and lets the \n",
    "## learning focus on the non-perturbative features, so get started faster, or vice versa\n",
    "\n",
    "## 210110 For Iter0, freeze all weights other than those asociated with\n",
    "## the finalFilter added in moving from TracksToHists_A to TracksToHists_B\n",
    "\n",
    "## for \"float_KDE_to_Hists\" loop over ct<17\n",
    "## for float_all loope over ct < 0\n",
    "ct = 0\n",
    "for child in model_t2hists.children():\n",
    "  print('ct, child = ',ct, \"  \", child)\n",
    "  if (ct < 0) :\n",
    "    print(\"     About to set param.requires_grad=False for ct = \", ct, \"params\")\n",
    "    for param in child.parameters():\n",
    "        param.requires_grad = False \n",
    "  ct += 1\n",
    "\n",
    "loss = Loss(epsilon=1e-5,coefficient=2.5)\n",
    "optimizer = torch.optim.Adam(model_t2hists.parameters(), lr=learning_rate)"
   ]
  },
  {
   "cell_type": "markdown",
   "metadata": {},
   "source": [
    "Let's move the model's weight matricies to the GPU:"
   ]
  },
  {
   "cell_type": "code",
   "execution_count": 11,
   "metadata": {
    "scrolled": false
   },
   "outputs": [
    {
     "data": {
      "text/plain": [
       "<All keys matched successfully>"
      ]
     },
     "execution_count": 11,
     "metadata": {},
     "output_type": "execute_result"
    }
   ],
   "source": [
    "## want to look at all three dictionaries to start:\n",
    "##  t2kde\n",
    "##  kde2hists\n",
    "##  t2hists\n",
    "## the plan is to (initially) copy weights from separate dictionaries into th t2hists dictionary\n",
    "\n",
    "##   ML -> /share/lazy/sokoloff/ML\n",
    "'''\n",
    "model_t2kde_dict = model_t2kde.state_dict()\n",
    "## mds 190725 for debugging\n",
    "print(\"for model_t2kde_dict\")\n",
    "index = 0\n",
    "for k,v in model_t2kde_dict.items():\n",
    "    print(\"index, k =  \",index,\"  \",k)\n",
    "    index = index+1\n",
    "#\n",
    "model_kde2hists_dict = model_kde2hists.state_dict()\n",
    "## mds 190725 for debugging\n",
    "print(\"for model_hists_2kde_dict\")\n",
    "index = 0\n",
    "for k,v in model_kde2hists_dict.items():\n",
    "    print(\"index, k =  \",index,\"  \",k)\n",
    "    index = index+1\n",
    "#\n",
    "model_t2hists_dict = model_t2hists.state_dict()\n",
    "## mds 190725 for debugging\n",
    "print(\"for model_hists_2kde_dict\")\n",
    "index = 0\n",
    "for k,v in model_t2hists_dict.items():\n",
    "    print(\"index, k =  \",index,\"  \",k)\n",
    "    index = index+1\n",
    "#\n",
    "\n",
    "##  build the \"updated_dict\" to become the t2hists_dictionary from the\n",
    "##  t2kde and kde2hist dictionaries\n",
    "update_dict = model_t2hists_dict\n",
    "##print(\"updated_dict = \",updated_dict)\n",
    "## when starting \"ab initio\", reduce biases as the bias gets summed for each track\n",
    "## contributing to the predicted KDE\n",
    "'''\n",
    "\n",
    "\n",
    "'''\n",
    "updated_dict[\"layer1.bias\"] = 0.005*model_dict[\"layer1.bias\"]\n",
    "updated_dict[\"layer2.bias\"] = 0.005*model_dict[\"layer2.bias\"]\n",
    "updated_dict[\"layer3.bias\"] = 0.005*model_dict[\"layer3.bias\"]\n",
    "updated_dict[\"layer4.bias\"] = 0.005*model_dict[\"layer4.bias\"]\n",
    "updated_dict[\"layer5.bias\"] = 0.005*model_dict[\"layer5.bias\"]\n",
    "updated_dict[\"layer6.bias\"] = 0.005*model_dict[\"layer6.bias\"]\n",
    "updated_dict[\"layer7.bias\"] = 0.005*model_dict[\"layer7.bias\"]\n",
    "updated_dict[\"layer8.bias\"] = 0.005*model_dict[\"layer8.bias\"]\n",
    "updated_dict[\"layer9.bias\"] = 0.005*model_dict[\"layer9.bias\"]\n",
    "updated_dict[\"layer10.bias\"] = 0.005*model_dict[\"layer10.bias\"]\n",
    "updated_dict[\"layer11.bias\"] = 0.005*model_dict[\"layer11.bias\"]\n",
    "'''\n",
    "\n",
    "'''\n",
    "##model_t2hists.load_state_dict(updated_dict,strict=False)\n",
    "\n",
    "##model__t2hists_dict = model_t2hists.state_dict()\n",
    "\n",
    "## let's get the tracks-to-kde model here\n",
    "t2kde_folder = '25December__DDplus_loss_Ba_iter5_floatAll_800epochs_5em6'  ## really iter6, really Dec. 27\n",
    "t2kde_folder = '25December__DDplus_loss_Ba_iter7_floatAll_800epochs_4em6'\n",
    "t2kde_name = t2kde_folder\n",
    "suffix = 'final'\n",
    "t2kde_dict_name = 'ML/' + t2kde_folder + '/' + t2kde_name + '_'+ suffix + '.pyt'\n",
    "print('t2kde_dict_name = ',t2kde_dict_name)\n",
    "pretrained_t2kde_dict = torch.load(t2kde_dict_name)\n",
    "\n",
    "print(\" \\n\",\"  for t2kde_pretrained_dict\")\n",
    "index = 0\n",
    "for k,v in pretrained_t2kde_dict.items():\n",
    "    print(\"index, k =  \",index,\"  \",k)\n",
    "    index = index+1\n",
    "    \n",
    "    \n",
    "## let's get the hists-to-kde model here   \n",
    "kde2hists_folder = '02June2020_CNN5Layer_Ca_another200epochs_K'\n",
    "kde2hists_name = kde2hists_folder\n",
    "suffix = 'final'\n",
    "kde2hists_dict_name = 'ML/' + kde2hists_folder + '/' + kde2hists_name + '_'+ suffix + '.pyt'\n",
    "## mds dec28 print('kde2hists_dict_name = ',kde2hists_dict_name)\n",
    "pretrained_kde2hists_dict = torch.load(kde2hists_dict_name)\n",
    "\n",
    "print(\" \\n\",\"  for kde2hists_pretrained_dict\")\n",
    "index = 0\n",
    "for k,v in pretrained_kde2hists_dict.items():\n",
    "    print(\"index, k =  \",index,\"  \",k)\n",
    "    index = index+1\n",
    " \n",
    "\n",
    "\n",
    "##print(\"model_dict instantiated\")\n",
    "# 1. filter out unnecessary keys\n",
    "pretrained_dict = {k: v for k, v in pretrained_t2kde_dict.items() if k in model_t2hists_dict}\n",
    "## mds dec28 print(\"pretrained_dict iterated\")\n",
    "# 2. overwrite entries in the existing state dict\n",
    "model_t2hists_dict.update(pretrained_dict) \n",
    "\n",
    "update_dict[\"hist_conv1.weight\"] = pretrained_kde2hists_dict[\"conv1.weight\"]\n",
    "update_dict[\"hist_conv1.bias\"]   = pretrained_kde2hists_dict[\"conv1.bias\"]\n",
    "update_dict[\"hist_conv2.weight\"] = pretrained_kde2hists_dict[\"conv2.weight\"]\n",
    "update_dict[\"hist_conv2.bias\"]   = pretrained_kde2hists_dict[\"conv2.bias\"]\n",
    "update_dict[\"hist_conv3.weight\"] = pretrained_kde2hists_dict[\"conv3.weight\"]\n",
    "update_dict[\"hist_conv3.bias\"]   = pretrained_kde2hists_dict[\"conv3.bias\"]\n",
    "update_dict[\"hist_conv4.weight\"] = pretrained_kde2hists_dict[\"conv4.weight\"]\n",
    "update_dict[\"hist_conv4.bias\"]   = pretrained_kde2hists_dict[\"conv4.bias\"]\n",
    "update_dict[\"hist_conv5.weight\"] = pretrained_kde2hists_dict[\"conv5.weight\"]\n",
    "update_dict[\"hist_conv5.bias\"]   = pretrained_kde2hists_dict[\"conv5.bias\"]\n",
    "update_dict[\"hist_fc1.weight\"]   = pretrained_kde2hists_dict[\"fc1.weight\"]\n",
    "update_dict[\"hist_fc1.bias\"]     = pretrained_kde2hists_dict[\"fc1.bias\"]\n",
    "\n",
    "##model_t2hists.update(update_dict,strict=False)\n",
    "model_t2hists.load_state_dict(update_dict,strict=False)\n",
    "model_t2hists_dict = model_t2hists.state_dict()\n",
    "'''\n",
    "\n",
    "##\n",
    "#   when starting from a model with a fully connected last layer rather than a convolutional layer\n",
    "# 3. load the new state dict\n",
    "#   need to use strict=False as the two models state model attributes do not agree exactly\n",
    "#   see https://pytorch.org/docs/master/_modules/torch/nn/modules/module.html#Module.load_state_dict\n",
    "\n",
    "t2hists_folder = '11Jan2021_TracksToHists_B_Iter8B_50epochs_lr_1em5_b48_2p5_kde2hists_float_all_4x_will'\n",
    "t2hists_name = t2hists_folder\n",
    "suffix = 'final'\n",
    "t2hists_dict_name = 'ML/' + t2hists_folder + '/' +t2hists_name + '_'+ suffix + '.pyt'\n",
    "## mds dec28 print('kde2hists_dict_name = ',kde2hists_dict_name)\n",
    "pretrained_t2hists_dict = torch.load(t2hists_dict_name) \n",
    "\n",
    "model_t2hists.load_state_dict(pretrained_t2hists_dict,strict=False)\n",
    "\n",
    "##  print('model_t2hists_dict =    ', model_t2hists_dict)\n"
   ]
  },
  {
   "cell_type": "code",
   "execution_count": 12,
   "metadata": {},
   "outputs": [],
   "source": [
    "##print('validation.dataset.tensors = ',validation.dataset.tensors)\n",
    "fig_size = plt.rcParams[\"figure.figsize\"]\n",
    "fig_size[0] = 10\n",
    "fig_size[1] = 4\n",
    "plt.rcParams[\"figure.figsize\"] = fig_size"
   ]
  },
  {
   "cell_type": "code",
   "execution_count": 13,
   "metadata": {
    "scrolled": true
   },
   "outputs": [],
   "source": [
    "model = model_t2hists.to(device)"
   ]
  },
  {
   "cell_type": "code",
   "execution_count": 14,
   "metadata": {},
   "outputs": [
    {
     "data": {
      "application/javascript": [
       "/* Put everything inside the global mpl namespace */\n",
       "window.mpl = {};\n",
       "\n",
       "\n",
       "mpl.get_websocket_type = function() {\n",
       "    if (typeof(WebSocket) !== 'undefined') {\n",
       "        return WebSocket;\n",
       "    } else if (typeof(MozWebSocket) !== 'undefined') {\n",
       "        return MozWebSocket;\n",
       "    } else {\n",
       "        alert('Your browser does not have WebSocket support. ' +\n",
       "              'Please try Chrome, Safari or Firefox ≥ 6. ' +\n",
       "              'Firefox 4 and 5 are also supported but you ' +\n",
       "              'have to enable WebSockets in about:config.');\n",
       "    };\n",
       "}\n",
       "\n",
       "mpl.figure = function(figure_id, websocket, ondownload, parent_element) {\n",
       "    this.id = figure_id;\n",
       "\n",
       "    this.ws = websocket;\n",
       "\n",
       "    this.supports_binary = (this.ws.binaryType != undefined);\n",
       "\n",
       "    if (!this.supports_binary) {\n",
       "        var warnings = document.getElementById(\"mpl-warnings\");\n",
       "        if (warnings) {\n",
       "            warnings.style.display = 'block';\n",
       "            warnings.textContent = (\n",
       "                \"This browser does not support binary websocket messages. \" +\n",
       "                    \"Performance may be slow.\");\n",
       "        }\n",
       "    }\n",
       "\n",
       "    this.imageObj = new Image();\n",
       "\n",
       "    this.context = undefined;\n",
       "    this.message = undefined;\n",
       "    this.canvas = undefined;\n",
       "    this.rubberband_canvas = undefined;\n",
       "    this.rubberband_context = undefined;\n",
       "    this.format_dropdown = undefined;\n",
       "\n",
       "    this.image_mode = 'full';\n",
       "\n",
       "    this.root = $('<div/>');\n",
       "    this._root_extra_style(this.root)\n",
       "    this.root.attr('style', 'display: inline-block');\n",
       "\n",
       "    $(parent_element).append(this.root);\n",
       "\n",
       "    this._init_header(this);\n",
       "    this._init_canvas(this);\n",
       "    this._init_toolbar(this);\n",
       "\n",
       "    var fig = this;\n",
       "\n",
       "    this.waiting = false;\n",
       "\n",
       "    this.ws.onopen =  function () {\n",
       "            fig.send_message(\"supports_binary\", {value: fig.supports_binary});\n",
       "            fig.send_message(\"send_image_mode\", {});\n",
       "            if (mpl.ratio != 1) {\n",
       "                fig.send_message(\"set_dpi_ratio\", {'dpi_ratio': mpl.ratio});\n",
       "            }\n",
       "            fig.send_message(\"refresh\", {});\n",
       "        }\n",
       "\n",
       "    this.imageObj.onload = function() {\n",
       "            if (fig.image_mode == 'full') {\n",
       "                // Full images could contain transparency (where diff images\n",
       "                // almost always do), so we need to clear the canvas so that\n",
       "                // there is no ghosting.\n",
       "                fig.context.clearRect(0, 0, fig.canvas.width, fig.canvas.height);\n",
       "            }\n",
       "            fig.context.drawImage(fig.imageObj, 0, 0);\n",
       "        };\n",
       "\n",
       "    this.imageObj.onunload = function() {\n",
       "        fig.ws.close();\n",
       "    }\n",
       "\n",
       "    this.ws.onmessage = this._make_on_message_function(this);\n",
       "\n",
       "    this.ondownload = ondownload;\n",
       "}\n",
       "\n",
       "mpl.figure.prototype._init_header = function() {\n",
       "    var titlebar = $(\n",
       "        '<div class=\"ui-dialog-titlebar ui-widget-header ui-corner-all ' +\n",
       "        'ui-helper-clearfix\"/>');\n",
       "    var titletext = $(\n",
       "        '<div class=\"ui-dialog-title\" style=\"width: 100%; ' +\n",
       "        'text-align: center; padding: 3px;\"/>');\n",
       "    titlebar.append(titletext)\n",
       "    this.root.append(titlebar);\n",
       "    this.header = titletext[0];\n",
       "}\n",
       "\n",
       "\n",
       "\n",
       "mpl.figure.prototype._canvas_extra_style = function(canvas_div) {\n",
       "\n",
       "}\n",
       "\n",
       "\n",
       "mpl.figure.prototype._root_extra_style = function(canvas_div) {\n",
       "\n",
       "}\n",
       "\n",
       "mpl.figure.prototype._init_canvas = function() {\n",
       "    var fig = this;\n",
       "\n",
       "    var canvas_div = $('<div/>');\n",
       "\n",
       "    canvas_div.attr('style', 'position: relative; clear: both; outline: 0');\n",
       "\n",
       "    function canvas_keyboard_event(event) {\n",
       "        return fig.key_event(event, event['data']);\n",
       "    }\n",
       "\n",
       "    canvas_div.keydown('key_press', canvas_keyboard_event);\n",
       "    canvas_div.keyup('key_release', canvas_keyboard_event);\n",
       "    this.canvas_div = canvas_div\n",
       "    this._canvas_extra_style(canvas_div)\n",
       "    this.root.append(canvas_div);\n",
       "\n",
       "    var canvas = $('<canvas/>');\n",
       "    canvas.addClass('mpl-canvas');\n",
       "    canvas.attr('style', \"left: 0; top: 0; z-index: 0; outline: 0\")\n",
       "\n",
       "    this.canvas = canvas[0];\n",
       "    this.context = canvas[0].getContext(\"2d\");\n",
       "\n",
       "    var backingStore = this.context.backingStorePixelRatio ||\n",
       "\tthis.context.webkitBackingStorePixelRatio ||\n",
       "\tthis.context.mozBackingStorePixelRatio ||\n",
       "\tthis.context.msBackingStorePixelRatio ||\n",
       "\tthis.context.oBackingStorePixelRatio ||\n",
       "\tthis.context.backingStorePixelRatio || 1;\n",
       "\n",
       "    mpl.ratio = (window.devicePixelRatio || 1) / backingStore;\n",
       "\n",
       "    var rubberband = $('<canvas/>');\n",
       "    rubberband.attr('style', \"position: absolute; left: 0; top: 0; z-index: 1;\")\n",
       "\n",
       "    var pass_mouse_events = true;\n",
       "\n",
       "    canvas_div.resizable({\n",
       "        start: function(event, ui) {\n",
       "            pass_mouse_events = false;\n",
       "        },\n",
       "        resize: function(event, ui) {\n",
       "            fig.request_resize(ui.size.width, ui.size.height);\n",
       "        },\n",
       "        stop: function(event, ui) {\n",
       "            pass_mouse_events = true;\n",
       "            fig.request_resize(ui.size.width, ui.size.height);\n",
       "        },\n",
       "    });\n",
       "\n",
       "    function mouse_event_fn(event) {\n",
       "        if (pass_mouse_events)\n",
       "            return fig.mouse_event(event, event['data']);\n",
       "    }\n",
       "\n",
       "    rubberband.mousedown('button_press', mouse_event_fn);\n",
       "    rubberband.mouseup('button_release', mouse_event_fn);\n",
       "    // Throttle sequential mouse events to 1 every 20ms.\n",
       "    rubberband.mousemove('motion_notify', mouse_event_fn);\n",
       "\n",
       "    rubberband.mouseenter('figure_enter', mouse_event_fn);\n",
       "    rubberband.mouseleave('figure_leave', mouse_event_fn);\n",
       "\n",
       "    canvas_div.on(\"wheel\", function (event) {\n",
       "        event = event.originalEvent;\n",
       "        event['data'] = 'scroll'\n",
       "        if (event.deltaY < 0) {\n",
       "            event.step = 1;\n",
       "        } else {\n",
       "            event.step = -1;\n",
       "        }\n",
       "        mouse_event_fn(event);\n",
       "    });\n",
       "\n",
       "    canvas_div.append(canvas);\n",
       "    canvas_div.append(rubberband);\n",
       "\n",
       "    this.rubberband = rubberband;\n",
       "    this.rubberband_canvas = rubberband[0];\n",
       "    this.rubberband_context = rubberband[0].getContext(\"2d\");\n",
       "    this.rubberband_context.strokeStyle = \"#000000\";\n",
       "\n",
       "    this._resize_canvas = function(width, height) {\n",
       "        // Keep the size of the canvas, canvas container, and rubber band\n",
       "        // canvas in synch.\n",
       "        canvas_div.css('width', width)\n",
       "        canvas_div.css('height', height)\n",
       "\n",
       "        canvas.attr('width', width * mpl.ratio);\n",
       "        canvas.attr('height', height * mpl.ratio);\n",
       "        canvas.attr('style', 'width: ' + width + 'px; height: ' + height + 'px;');\n",
       "\n",
       "        rubberband.attr('width', width);\n",
       "        rubberband.attr('height', height);\n",
       "    }\n",
       "\n",
       "    // Set the figure to an initial 600x600px, this will subsequently be updated\n",
       "    // upon first draw.\n",
       "    this._resize_canvas(600, 600);\n",
       "\n",
       "    // Disable right mouse context menu.\n",
       "    $(this.rubberband_canvas).bind(\"contextmenu\",function(e){\n",
       "        return false;\n",
       "    });\n",
       "\n",
       "    function set_focus () {\n",
       "        canvas.focus();\n",
       "        canvas_div.focus();\n",
       "    }\n",
       "\n",
       "    window.setTimeout(set_focus, 100);\n",
       "}\n",
       "\n",
       "mpl.figure.prototype._init_toolbar = function() {\n",
       "    var fig = this;\n",
       "\n",
       "    var nav_element = $('<div/>');\n",
       "    nav_element.attr('style', 'width: 100%');\n",
       "    this.root.append(nav_element);\n",
       "\n",
       "    // Define a callback function for later on.\n",
       "    function toolbar_event(event) {\n",
       "        return fig.toolbar_button_onclick(event['data']);\n",
       "    }\n",
       "    function toolbar_mouse_event(event) {\n",
       "        return fig.toolbar_button_onmouseover(event['data']);\n",
       "    }\n",
       "\n",
       "    for(var toolbar_ind in mpl.toolbar_items) {\n",
       "        var name = mpl.toolbar_items[toolbar_ind][0];\n",
       "        var tooltip = mpl.toolbar_items[toolbar_ind][1];\n",
       "        var image = mpl.toolbar_items[toolbar_ind][2];\n",
       "        var method_name = mpl.toolbar_items[toolbar_ind][3];\n",
       "\n",
       "        if (!name) {\n",
       "            // put a spacer in here.\n",
       "            continue;\n",
       "        }\n",
       "        var button = $('<button/>');\n",
       "        button.addClass('ui-button ui-widget ui-state-default ui-corner-all ' +\n",
       "                        'ui-button-icon-only');\n",
       "        button.attr('role', 'button');\n",
       "        button.attr('aria-disabled', 'false');\n",
       "        button.click(method_name, toolbar_event);\n",
       "        button.mouseover(tooltip, toolbar_mouse_event);\n",
       "\n",
       "        var icon_img = $('<span/>');\n",
       "        icon_img.addClass('ui-button-icon-primary ui-icon');\n",
       "        icon_img.addClass(image);\n",
       "        icon_img.addClass('ui-corner-all');\n",
       "\n",
       "        var tooltip_span = $('<span/>');\n",
       "        tooltip_span.addClass('ui-button-text');\n",
       "        tooltip_span.html(tooltip);\n",
       "\n",
       "        button.append(icon_img);\n",
       "        button.append(tooltip_span);\n",
       "\n",
       "        nav_element.append(button);\n",
       "    }\n",
       "\n",
       "    var fmt_picker_span = $('<span/>');\n",
       "\n",
       "    var fmt_picker = $('<select/>');\n",
       "    fmt_picker.addClass('mpl-toolbar-option ui-widget ui-widget-content');\n",
       "    fmt_picker_span.append(fmt_picker);\n",
       "    nav_element.append(fmt_picker_span);\n",
       "    this.format_dropdown = fmt_picker[0];\n",
       "\n",
       "    for (var ind in mpl.extensions) {\n",
       "        var fmt = mpl.extensions[ind];\n",
       "        var option = $(\n",
       "            '<option/>', {selected: fmt === mpl.default_extension}).html(fmt);\n",
       "        fmt_picker.append(option);\n",
       "    }\n",
       "\n",
       "    // Add hover states to the ui-buttons\n",
       "    $( \".ui-button\" ).hover(\n",
       "        function() { $(this).addClass(\"ui-state-hover\");},\n",
       "        function() { $(this).removeClass(\"ui-state-hover\");}\n",
       "    );\n",
       "\n",
       "    var status_bar = $('<span class=\"mpl-message\"/>');\n",
       "    nav_element.append(status_bar);\n",
       "    this.message = status_bar[0];\n",
       "}\n",
       "\n",
       "mpl.figure.prototype.request_resize = function(x_pixels, y_pixels) {\n",
       "    // Request matplotlib to resize the figure. Matplotlib will then trigger a resize in the client,\n",
       "    // which will in turn request a refresh of the image.\n",
       "    this.send_message('resize', {'width': x_pixels, 'height': y_pixels});\n",
       "}\n",
       "\n",
       "mpl.figure.prototype.send_message = function(type, properties) {\n",
       "    properties['type'] = type;\n",
       "    properties['figure_id'] = this.id;\n",
       "    this.ws.send(JSON.stringify(properties));\n",
       "}\n",
       "\n",
       "mpl.figure.prototype.send_draw_message = function() {\n",
       "    if (!this.waiting) {\n",
       "        this.waiting = true;\n",
       "        this.ws.send(JSON.stringify({type: \"draw\", figure_id: this.id}));\n",
       "    }\n",
       "}\n",
       "\n",
       "\n",
       "mpl.figure.prototype.handle_save = function(fig, msg) {\n",
       "    var format_dropdown = fig.format_dropdown;\n",
       "    var format = format_dropdown.options[format_dropdown.selectedIndex].value;\n",
       "    fig.ondownload(fig, format);\n",
       "}\n",
       "\n",
       "\n",
       "mpl.figure.prototype.handle_resize = function(fig, msg) {\n",
       "    var size = msg['size'];\n",
       "    if (size[0] != fig.canvas.width || size[1] != fig.canvas.height) {\n",
       "        fig._resize_canvas(size[0], size[1]);\n",
       "        fig.send_message(\"refresh\", {});\n",
       "    };\n",
       "}\n",
       "\n",
       "mpl.figure.prototype.handle_rubberband = function(fig, msg) {\n",
       "    var x0 = msg['x0'] / mpl.ratio;\n",
       "    var y0 = (fig.canvas.height - msg['y0']) / mpl.ratio;\n",
       "    var x1 = msg['x1'] / mpl.ratio;\n",
       "    var y1 = (fig.canvas.height - msg['y1']) / mpl.ratio;\n",
       "    x0 = Math.floor(x0) + 0.5;\n",
       "    y0 = Math.floor(y0) + 0.5;\n",
       "    x1 = Math.floor(x1) + 0.5;\n",
       "    y1 = Math.floor(y1) + 0.5;\n",
       "    var min_x = Math.min(x0, x1);\n",
       "    var min_y = Math.min(y0, y1);\n",
       "    var width = Math.abs(x1 - x0);\n",
       "    var height = Math.abs(y1 - y0);\n",
       "\n",
       "    fig.rubberband_context.clearRect(\n",
       "        0, 0, fig.canvas.width / mpl.ratio, fig.canvas.height / mpl.ratio);\n",
       "\n",
       "    fig.rubberband_context.strokeRect(min_x, min_y, width, height);\n",
       "}\n",
       "\n",
       "mpl.figure.prototype.handle_figure_label = function(fig, msg) {\n",
       "    // Updates the figure title.\n",
       "    fig.header.textContent = msg['label'];\n",
       "}\n",
       "\n",
       "mpl.figure.prototype.handle_cursor = function(fig, msg) {\n",
       "    var cursor = msg['cursor'];\n",
       "    switch(cursor)\n",
       "    {\n",
       "    case 0:\n",
       "        cursor = 'pointer';\n",
       "        break;\n",
       "    case 1:\n",
       "        cursor = 'default';\n",
       "        break;\n",
       "    case 2:\n",
       "        cursor = 'crosshair';\n",
       "        break;\n",
       "    case 3:\n",
       "        cursor = 'move';\n",
       "        break;\n",
       "    }\n",
       "    fig.rubberband_canvas.style.cursor = cursor;\n",
       "}\n",
       "\n",
       "mpl.figure.prototype.handle_message = function(fig, msg) {\n",
       "    fig.message.textContent = msg['message'];\n",
       "}\n",
       "\n",
       "mpl.figure.prototype.handle_draw = function(fig, msg) {\n",
       "    // Request the server to send over a new figure.\n",
       "    fig.send_draw_message();\n",
       "}\n",
       "\n",
       "mpl.figure.prototype.handle_image_mode = function(fig, msg) {\n",
       "    fig.image_mode = msg['mode'];\n",
       "}\n",
       "\n",
       "mpl.figure.prototype.updated_canvas_event = function() {\n",
       "    // Called whenever the canvas gets updated.\n",
       "    this.send_message(\"ack\", {});\n",
       "}\n",
       "\n",
       "// A function to construct a web socket function for onmessage handling.\n",
       "// Called in the figure constructor.\n",
       "mpl.figure.prototype._make_on_message_function = function(fig) {\n",
       "    return function socket_on_message(evt) {\n",
       "        if (evt.data instanceof Blob) {\n",
       "            /* FIXME: We get \"Resource interpreted as Image but\n",
       "             * transferred with MIME type text/plain:\" errors on\n",
       "             * Chrome.  But how to set the MIME type?  It doesn't seem\n",
       "             * to be part of the websocket stream */\n",
       "            evt.data.type = \"image/png\";\n",
       "\n",
       "            /* Free the memory for the previous frames */\n",
       "            if (fig.imageObj.src) {\n",
       "                (window.URL || window.webkitURL).revokeObjectURL(\n",
       "                    fig.imageObj.src);\n",
       "            }\n",
       "\n",
       "            fig.imageObj.src = (window.URL || window.webkitURL).createObjectURL(\n",
       "                evt.data);\n",
       "            fig.updated_canvas_event();\n",
       "            fig.waiting = false;\n",
       "            return;\n",
       "        }\n",
       "        else if (typeof evt.data === 'string' && evt.data.slice(0, 21) == \"data:image/png;base64\") {\n",
       "            fig.imageObj.src = evt.data;\n",
       "            fig.updated_canvas_event();\n",
       "            fig.waiting = false;\n",
       "            return;\n",
       "        }\n",
       "\n",
       "        var msg = JSON.parse(evt.data);\n",
       "        var msg_type = msg['type'];\n",
       "\n",
       "        // Call the  \"handle_{type}\" callback, which takes\n",
       "        // the figure and JSON message as its only arguments.\n",
       "        try {\n",
       "            var callback = fig[\"handle_\" + msg_type];\n",
       "        } catch (e) {\n",
       "            console.log(\"No handler for the '\" + msg_type + \"' message type: \", msg);\n",
       "            return;\n",
       "        }\n",
       "\n",
       "        if (callback) {\n",
       "            try {\n",
       "                // console.log(\"Handling '\" + msg_type + \"' message: \", msg);\n",
       "                callback(fig, msg);\n",
       "            } catch (e) {\n",
       "                console.log(\"Exception inside the 'handler_\" + msg_type + \"' callback:\", e, e.stack, msg);\n",
       "            }\n",
       "        }\n",
       "    };\n",
       "}\n",
       "\n",
       "// from http://stackoverflow.com/questions/1114465/getting-mouse-location-in-canvas\n",
       "mpl.findpos = function(e) {\n",
       "    //this section is from http://www.quirksmode.org/js/events_properties.html\n",
       "    var targ;\n",
       "    if (!e)\n",
       "        e = window.event;\n",
       "    if (e.target)\n",
       "        targ = e.target;\n",
       "    else if (e.srcElement)\n",
       "        targ = e.srcElement;\n",
       "    if (targ.nodeType == 3) // defeat Safari bug\n",
       "        targ = targ.parentNode;\n",
       "\n",
       "    // jQuery normalizes the pageX and pageY\n",
       "    // pageX,Y are the mouse positions relative to the document\n",
       "    // offset() returns the position of the element relative to the document\n",
       "    var x = e.pageX - $(targ).offset().left;\n",
       "    var y = e.pageY - $(targ).offset().top;\n",
       "\n",
       "    return {\"x\": x, \"y\": y};\n",
       "};\n",
       "\n",
       "/*\n",
       " * return a copy of an object with only non-object keys\n",
       " * we need this to avoid circular references\n",
       " * http://stackoverflow.com/a/24161582/3208463\n",
       " */\n",
       "function simpleKeys (original) {\n",
       "  return Object.keys(original).reduce(function (obj, key) {\n",
       "    if (typeof original[key] !== 'object')\n",
       "        obj[key] = original[key]\n",
       "    return obj;\n",
       "  }, {});\n",
       "}\n",
       "\n",
       "mpl.figure.prototype.mouse_event = function(event, name) {\n",
       "    var canvas_pos = mpl.findpos(event)\n",
       "\n",
       "    if (name === 'button_press')\n",
       "    {\n",
       "        this.canvas.focus();\n",
       "        this.canvas_div.focus();\n",
       "    }\n",
       "\n",
       "    var x = canvas_pos.x * mpl.ratio;\n",
       "    var y = canvas_pos.y * mpl.ratio;\n",
       "\n",
       "    this.send_message(name, {x: x, y: y, button: event.button,\n",
       "                             step: event.step,\n",
       "                             guiEvent: simpleKeys(event)});\n",
       "\n",
       "    /* This prevents the web browser from automatically changing to\n",
       "     * the text insertion cursor when the button is pressed.  We want\n",
       "     * to control all of the cursor setting manually through the\n",
       "     * 'cursor' event from matplotlib */\n",
       "    event.preventDefault();\n",
       "    return false;\n",
       "}\n",
       "\n",
       "mpl.figure.prototype._key_event_extra = function(event, name) {\n",
       "    // Handle any extra behaviour associated with a key event\n",
       "}\n",
       "\n",
       "mpl.figure.prototype.key_event = function(event, name) {\n",
       "\n",
       "    // Prevent repeat events\n",
       "    if (name == 'key_press')\n",
       "    {\n",
       "        if (event.which === this._key)\n",
       "            return;\n",
       "        else\n",
       "            this._key = event.which;\n",
       "    }\n",
       "    if (name == 'key_release')\n",
       "        this._key = null;\n",
       "\n",
       "    var value = '';\n",
       "    if (event.ctrlKey && event.which != 17)\n",
       "        value += \"ctrl+\";\n",
       "    if (event.altKey && event.which != 18)\n",
       "        value += \"alt+\";\n",
       "    if (event.shiftKey && event.which != 16)\n",
       "        value += \"shift+\";\n",
       "\n",
       "    value += 'k';\n",
       "    value += event.which.toString();\n",
       "\n",
       "    this._key_event_extra(event, name);\n",
       "\n",
       "    this.send_message(name, {key: value,\n",
       "                             guiEvent: simpleKeys(event)});\n",
       "    return false;\n",
       "}\n",
       "\n",
       "mpl.figure.prototype.toolbar_button_onclick = function(name) {\n",
       "    if (name == 'download') {\n",
       "        this.handle_save(this, null);\n",
       "    } else {\n",
       "        this.send_message(\"toolbar_button\", {name: name});\n",
       "    }\n",
       "};\n",
       "\n",
       "mpl.figure.prototype.toolbar_button_onmouseover = function(tooltip) {\n",
       "    this.message.textContent = tooltip;\n",
       "};\n",
       "mpl.toolbar_items = [[\"Home\", \"Reset original view\", \"fa fa-home icon-home\", \"home\"], [\"Back\", \"Back to previous view\", \"fa fa-arrow-left icon-arrow-left\", \"back\"], [\"Forward\", \"Forward to next view\", \"fa fa-arrow-right icon-arrow-right\", \"forward\"], [\"\", \"\", \"\", \"\"], [\"Pan\", \"Pan axes with left mouse, zoom with right\", \"fa fa-arrows icon-move\", \"pan\"], [\"Zoom\", \"Zoom to rectangle\", \"fa fa-square-o icon-check-empty\", \"zoom\"], [\"\", \"\", \"\", \"\"], [\"Download\", \"Download plot\", \"fa fa-floppy-o icon-save\", \"download\"]];\n",
       "\n",
       "mpl.extensions = [\"eps\", \"jpeg\", \"pdf\", \"png\", \"ps\", \"raw\", \"svg\", \"tif\"];\n",
       "\n",
       "mpl.default_extension = \"png\";var comm_websocket_adapter = function(comm) {\n",
       "    // Create a \"websocket\"-like object which calls the given IPython comm\n",
       "    // object with the appropriate methods. Currently this is a non binary\n",
       "    // socket, so there is still some room for performance tuning.\n",
       "    var ws = {};\n",
       "\n",
       "    ws.close = function() {\n",
       "        comm.close()\n",
       "    };\n",
       "    ws.send = function(m) {\n",
       "        //console.log('sending', m);\n",
       "        comm.send(m);\n",
       "    };\n",
       "    // Register the callback with on_msg.\n",
       "    comm.on_msg(function(msg) {\n",
       "        //console.log('receiving', msg['content']['data'], msg);\n",
       "        // Pass the mpl event to the overridden (by mpl) onmessage function.\n",
       "        ws.onmessage(msg['content']['data'])\n",
       "    });\n",
       "    return ws;\n",
       "}\n",
       "\n",
       "mpl.mpl_figure_comm = function(comm, msg) {\n",
       "    // This is the function which gets called when the mpl process\n",
       "    // starts-up an IPython Comm through the \"matplotlib\" channel.\n",
       "\n",
       "    var id = msg.content.data.id;\n",
       "    // Get hold of the div created by the display call when the Comm\n",
       "    // socket was opened in Python.\n",
       "    var element = $(\"#\" + id);\n",
       "    var ws_proxy = comm_websocket_adapter(comm)\n",
       "\n",
       "    function ondownload(figure, format) {\n",
       "        window.open(figure.imageObj.src);\n",
       "    }\n",
       "\n",
       "    var fig = new mpl.figure(id, ws_proxy,\n",
       "                           ondownload,\n",
       "                           element.get(0));\n",
       "\n",
       "    // Call onopen now - mpl needs it, as it is assuming we've passed it a real\n",
       "    // web socket which is closed, not our websocket->open comm proxy.\n",
       "    ws_proxy.onopen();\n",
       "\n",
       "    fig.parent_element = element.get(0);\n",
       "    fig.cell_info = mpl.find_output_cell(\"<div id='\" + id + \"'></div>\");\n",
       "    if (!fig.cell_info) {\n",
       "        console.error(\"Failed to find cell for figure\", id, fig);\n",
       "        return;\n",
       "    }\n",
       "\n",
       "    var output_index = fig.cell_info[2]\n",
       "    var cell = fig.cell_info[0];\n",
       "\n",
       "};\n",
       "\n",
       "mpl.figure.prototype.handle_close = function(fig, msg) {\n",
       "    var width = fig.canvas.width/mpl.ratio\n",
       "    fig.root.unbind('remove')\n",
       "\n",
       "    // Update the output cell to use the data from the current canvas.\n",
       "    fig.push_to_output();\n",
       "    var dataURL = fig.canvas.toDataURL();\n",
       "    // Re-enable the keyboard manager in IPython - without this line, in FF,\n",
       "    // the notebook keyboard shortcuts fail.\n",
       "    IPython.keyboard_manager.enable()\n",
       "    $(fig.parent_element).html('<img src=\"' + dataURL + '\" width=\"' + width + '\">');\n",
       "    fig.close_ws(fig, msg);\n",
       "}\n",
       "\n",
       "mpl.figure.prototype.close_ws = function(fig, msg){\n",
       "    fig.send_message('closing', msg);\n",
       "    // fig.ws.close()\n",
       "}\n",
       "\n",
       "mpl.figure.prototype.push_to_output = function(remove_interactive) {\n",
       "    // Turn the data on the canvas into data in the output cell.\n",
       "    var width = this.canvas.width/mpl.ratio\n",
       "    var dataURL = this.canvas.toDataURL();\n",
       "    this.cell_info[1]['text/html'] = '<img src=\"' + dataURL + '\" width=\"' + width + '\">';\n",
       "}\n",
       "\n",
       "mpl.figure.prototype.updated_canvas_event = function() {\n",
       "    // Tell IPython that the notebook contents must change.\n",
       "    IPython.notebook.set_dirty(true);\n",
       "    this.send_message(\"ack\", {});\n",
       "    var fig = this;\n",
       "    // Wait a second, then push the new image to the DOM so\n",
       "    // that it is saved nicely (might be nice to debounce this).\n",
       "    setTimeout(function () { fig.push_to_output() }, 1000);\n",
       "}\n",
       "\n",
       "mpl.figure.prototype._init_toolbar = function() {\n",
       "    var fig = this;\n",
       "\n",
       "    var nav_element = $('<div/>');\n",
       "    nav_element.attr('style', 'width: 100%');\n",
       "    this.root.append(nav_element);\n",
       "\n",
       "    // Define a callback function for later on.\n",
       "    function toolbar_event(event) {\n",
       "        return fig.toolbar_button_onclick(event['data']);\n",
       "    }\n",
       "    function toolbar_mouse_event(event) {\n",
       "        return fig.toolbar_button_onmouseover(event['data']);\n",
       "    }\n",
       "\n",
       "    for(var toolbar_ind in mpl.toolbar_items){\n",
       "        var name = mpl.toolbar_items[toolbar_ind][0];\n",
       "        var tooltip = mpl.toolbar_items[toolbar_ind][1];\n",
       "        var image = mpl.toolbar_items[toolbar_ind][2];\n",
       "        var method_name = mpl.toolbar_items[toolbar_ind][3];\n",
       "\n",
       "        if (!name) { continue; };\n",
       "\n",
       "        var button = $('<button class=\"btn btn-default\" href=\"#\" title=\"' + name + '\"><i class=\"fa ' + image + ' fa-lg\"></i></button>');\n",
       "        button.click(method_name, toolbar_event);\n",
       "        button.mouseover(tooltip, toolbar_mouse_event);\n",
       "        nav_element.append(button);\n",
       "    }\n",
       "\n",
       "    // Add the status bar.\n",
       "    var status_bar = $('<span class=\"mpl-message\" style=\"text-align:right; float: right;\"/>');\n",
       "    nav_element.append(status_bar);\n",
       "    this.message = status_bar[0];\n",
       "\n",
       "    // Add the close button to the window.\n",
       "    var buttongrp = $('<div class=\"btn-group inline pull-right\"></div>');\n",
       "    var button = $('<button class=\"btn btn-mini btn-primary\" href=\"#\" title=\"Stop Interaction\"><i class=\"fa fa-power-off icon-remove icon-large\"></i></button>');\n",
       "    button.click(function (evt) { fig.handle_close(fig, {}); } );\n",
       "    button.mouseover('Stop Interaction', toolbar_mouse_event);\n",
       "    buttongrp.append(button);\n",
       "    var titlebar = this.root.find($('.ui-dialog-titlebar'));\n",
       "    titlebar.prepend(buttongrp);\n",
       "}\n",
       "\n",
       "mpl.figure.prototype._root_extra_style = function(el){\n",
       "    var fig = this\n",
       "    el.on(\"remove\", function(){\n",
       "\tfig.close_ws(fig, {});\n",
       "    });\n",
       "}\n",
       "\n",
       "mpl.figure.prototype._canvas_extra_style = function(el){\n",
       "    // this is important to make the div 'focusable\n",
       "    el.attr('tabindex', 0)\n",
       "    // reach out to IPython and tell the keyboard manager to turn it's self\n",
       "    // off when our div gets focus\n",
       "\n",
       "    // location in version 3\n",
       "    if (IPython.notebook.keyboard_manager) {\n",
       "        IPython.notebook.keyboard_manager.register_events(el);\n",
       "    }\n",
       "    else {\n",
       "        // location in version 2\n",
       "        IPython.keyboard_manager.register_events(el);\n",
       "    }\n",
       "\n",
       "}\n",
       "\n",
       "mpl.figure.prototype._key_event_extra = function(event, name) {\n",
       "    var manager = IPython.notebook.keyboard_manager;\n",
       "    if (!manager)\n",
       "        manager = IPython.keyboard_manager;\n",
       "\n",
       "    // Check for shift+enter\n",
       "    if (event.shiftKey && event.which == 13) {\n",
       "        this.canvas_div.blur();\n",
       "        // select the cell after this one\n",
       "        var index = IPython.notebook.find_cell_index(this.cell_info[0]);\n",
       "        IPython.notebook.select(index + 1);\n",
       "    }\n",
       "}\n",
       "\n",
       "mpl.figure.prototype.handle_save = function(fig, msg) {\n",
       "    fig.ondownload(fig, null);\n",
       "}\n",
       "\n",
       "\n",
       "mpl.find_output_cell = function(html_output) {\n",
       "    // Return the cell and output element which can be found *uniquely* in the notebook.\n",
       "    // Note - this is a bit hacky, but it is done because the \"notebook_saving.Notebook\"\n",
       "    // IPython event is triggered only after the cells have been serialised, which for\n",
       "    // our purposes (turning an active figure into a static one), is too late.\n",
       "    var cells = IPython.notebook.get_cells();\n",
       "    var ncells = cells.length;\n",
       "    for (var i=0; i<ncells; i++) {\n",
       "        var cell = cells[i];\n",
       "        if (cell.cell_type === 'code'){\n",
       "            for (var j=0; j<cell.output_area.outputs.length; j++) {\n",
       "                var data = cell.output_area.outputs[j];\n",
       "                if (data.data) {\n",
       "                    // IPython >= 3 moved mimebundle to data attribute of output\n",
       "                    data = data.data;\n",
       "                }\n",
       "                if (data['text/html'] == html_output) {\n",
       "                    return [cell, data, j];\n",
       "                }\n",
       "            }\n",
       "        }\n",
       "    }\n",
       "}\n",
       "\n",
       "// Register the function which deals with the matplotlib target/channel.\n",
       "// The kernel may be null if the page has been refreshed.\n",
       "if (IPython.notebook.kernel != null) {\n",
       "    IPython.notebook.kernel.comm_manager.register_target('matplotlib', mpl.mpl_figure_comm);\n",
       "}\n"
      ],
      "text/plain": [
       "<IPython.core.display.Javascript object>"
      ]
     },
     "metadata": {},
     "output_type": "display_data"
    },
    {
     "data": {
      "text/html": [
       "<img src=\"data:image/png;base64,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\" width=\"1000\">"
      ],
      "text/plain": [
       "<IPython.core.display.HTML object>"
      ]
     },
     "metadata": {},
     "output_type": "display_data"
    }
   ],
   "source": [
    "ax, tax, lax, lines = dual_train_plots()\n",
    "fig = ax.figure\n",
    "plt.tight_layout()"
   ]
  },
  {
   "cell_type": "code",
   "execution_count": 15,
   "metadata": {
    "scrolled": false
   },
   "outputs": [
    {
     "name": "stdout",
     "output_type": "stream",
     "text": [
      "Number of batches: train = 6667, val = 417\n"
     ]
    },
    {
     "data": {
      "application/vnd.jupyter.widget-view+json": {
       "model_id": "b488ec58cbc64aa58278be9fa3860842",
       "version_major": 2,
       "version_minor": 0
      },
      "text/plain": [
       "HBox(children=(FloatProgress(value=0.0, description='Epochs', layout=Layout(flex='2'), max=50.0, style=Progres…"
      ]
     },
     "metadata": {},
     "output_type": "display_data"
    },
    {
     "data": {
      "application/vnd.jupyter.widget-view+json": {
       "model_id": "",
       "version_major": 2,
       "version_minor": 0
      },
      "text/plain": [
       "HBox(children=(FloatProgress(value=0.0, description='Training', layout=Layout(flex='2'), max=6667.0, style=Pro…"
      ]
     },
     "metadata": {},
     "output_type": "display_data"
    },
    {
     "name": "stdout",
     "output_type": "stream",
     "text": [
      "Epoch 0: train=15.9939, val=15.9669, took 626.34 s\n",
      "  Validation Found 0 of 108024, added 0 (eff 0.00%) (0.0 FP/event)\n"
     ]
    },
    {
     "data": {
      "application/vnd.jupyter.widget-view+json": {
       "model_id": "",
       "version_major": 2,
       "version_minor": 0
      },
      "text/plain": [
       "HBox(children=(FloatProgress(value=0.0, description='Training', layout=Layout(flex='2'), max=6667.0, style=Pro…"
      ]
     },
     "metadata": {},
     "output_type": "display_data"
    },
    {
     "name": "stdout",
     "output_type": "stream",
     "text": [
      "Epoch 1: train=15.9724, val=15.9669, took 589.31 s\n",
      "  Validation Found 0 of 108024, added 0 (eff 0.00%) (0.0 FP/event)\n"
     ]
    },
    {
     "data": {
      "application/vnd.jupyter.widget-view+json": {
       "model_id": "",
       "version_major": 2,
       "version_minor": 0
      },
      "text/plain": [
       "HBox(children=(FloatProgress(value=0.0, description='Training', layout=Layout(flex='2'), max=6667.0, style=Pro…"
      ]
     },
     "metadata": {},
     "output_type": "display_data"
    },
    {
     "name": "stdout",
     "output_type": "stream",
     "text": [
      "Epoch 2: train=15.9454, val=15.8971, took 589.74 s\n",
      "  Validation Found 0 of 108024, added 0 (eff 0.00%) (0.0 FP/event)\n"
     ]
    },
    {
     "data": {
      "application/vnd.jupyter.widget-view+json": {
       "model_id": "",
       "version_major": 2,
       "version_minor": 0
      },
      "text/plain": [
       "HBox(children=(FloatProgress(value=0.0, description='Training', layout=Layout(flex='2'), max=6667.0, style=Pro…"
      ]
     },
     "metadata": {},
     "output_type": "display_data"
    },
    {
     "name": "stdout",
     "output_type": "stream",
     "text": [
      "Epoch 3: train=15.7174, val=15.5859, took 590.42 s\n",
      "  Validation Found 2122 of 108024, added 1617 (eff 1.96%) (0.0808 FP/event)\n"
     ]
    },
    {
     "data": {
      "application/vnd.jupyter.widget-view+json": {
       "model_id": "",
       "version_major": 2,
       "version_minor": 0
      },
      "text/plain": [
       "HBox(children=(FloatProgress(value=0.0, description='Training', layout=Layout(flex='2'), max=6667.0, style=Pro…"
      ]
     },
     "metadata": {},
     "output_type": "display_data"
    },
    {
     "name": "stdout",
     "output_type": "stream",
     "text": [
      "Epoch 4: train=15.219, val=15.2982, took 591.35 s\n",
      "  Validation Found 5239 of 108024, added 3089 (eff 4.85%) (0.154 FP/event)\n"
     ]
    },
    {
     "data": {
      "application/vnd.jupyter.widget-view+json": {
       "model_id": "",
       "version_major": 2,
       "version_minor": 0
      },
      "text/plain": [
       "HBox(children=(FloatProgress(value=0.0, description='Training', layout=Layout(flex='2'), max=6667.0, style=Pro…"
      ]
     },
     "metadata": {},
     "output_type": "display_data"
    },
    {
     "name": "stdout",
     "output_type": "stream",
     "text": [
      "Epoch 5: train=14.8045, val=14.1333, took 595.18 s\n",
      "  Validation Found 12702 of 108024, added 1019 (eff 11.76%) (0.0509 FP/event)\n"
     ]
    },
    {
     "data": {
      "application/vnd.jupyter.widget-view+json": {
       "model_id": "",
       "version_major": 2,
       "version_minor": 0
      },
      "text/plain": [
       "HBox(children=(FloatProgress(value=0.0, description='Training', layout=Layout(flex='2'), max=6667.0, style=Pro…"
      ]
     },
     "metadata": {},
     "output_type": "display_data"
    },
    {
     "name": "stdout",
     "output_type": "stream",
     "text": [
      "Epoch 6: train=14.4309, val=13.7301, took 605.63 s\n",
      "  Validation Found 17026 of 108024, added 1437 (eff 15.76%) (0.0718 FP/event)\n"
     ]
    },
    {
     "data": {
      "application/vnd.jupyter.widget-view+json": {
       "model_id": "",
       "version_major": 2,
       "version_minor": 0
      },
      "text/plain": [
       "HBox(children=(FloatProgress(value=0.0, description='Training', layout=Layout(flex='2'), max=6667.0, style=Pro…"
      ]
     },
     "metadata": {},
     "output_type": "display_data"
    },
    {
     "name": "stdout",
     "output_type": "stream",
     "text": [
      "Epoch 7: train=14.116, val=13.3962, took 605.97 s\n",
      "  Validation Found 20286 of 108024, added 1664 (eff 18.78%) (0.0832 FP/event)\n"
     ]
    },
    {
     "data": {
      "application/vnd.jupyter.widget-view+json": {
       "model_id": "",
       "version_major": 2,
       "version_minor": 0
      },
      "text/plain": [
       "HBox(children=(FloatProgress(value=0.0, description='Training', layout=Layout(flex='2'), max=6667.0, style=Pro…"
      ]
     },
     "metadata": {},
     "output_type": "display_data"
    },
    {
     "name": "stdout",
     "output_type": "stream",
     "text": [
      "Epoch 8: train=13.8311, val=13.386, took 606.15 s\n",
      "  Validation Found 24213 of 108024, added 2591 (eff 22.41%) (0.13 FP/event)\n"
     ]
    },
    {
     "data": {
      "application/vnd.jupyter.widget-view+json": {
       "model_id": "",
       "version_major": 2,
       "version_minor": 0
      },
      "text/plain": [
       "HBox(children=(FloatProgress(value=0.0, description='Training', layout=Layout(flex='2'), max=6667.0, style=Pro…"
      ]
     },
     "metadata": {},
     "output_type": "display_data"
    },
    {
     "name": "stdout",
     "output_type": "stream",
     "text": [
      "Epoch 9: train=13.5793, val=12.8444, took 602.77 s\n",
      "  Validation Found 25824 of 108024, added 2082 (eff 23.91%) (0.104 FP/event)\n"
     ]
    },
    {
     "data": {
      "application/vnd.jupyter.widget-view+json": {
       "model_id": "",
       "version_major": 2,
       "version_minor": 0
      },
      "text/plain": [
       "HBox(children=(FloatProgress(value=0.0, description='Training', layout=Layout(flex='2'), max=6667.0, style=Pro…"
      ]
     },
     "metadata": {},
     "output_type": "display_data"
    },
    {
     "name": "stdout",
     "output_type": "stream",
     "text": [
      "Epoch 10: train=13.4013, val=12.6765, took 603.15 s\n",
      "  Validation Found 29011 of 108024, added 2462 (eff 26.86%) (0.123 FP/event)\n"
     ]
    },
    {
     "data": {
      "application/vnd.jupyter.widget-view+json": {
       "model_id": "",
       "version_major": 2,
       "version_minor": 0
      },
      "text/plain": [
       "HBox(children=(FloatProgress(value=0.0, description='Training', layout=Layout(flex='2'), max=6667.0, style=Pro…"
      ]
     },
     "metadata": {},
     "output_type": "display_data"
    },
    {
     "name": "stdout",
     "output_type": "stream",
     "text": [
      "Epoch 11: train=13.1794, val=12.5132, took 605.69 s\n",
      "  Validation Found 29550 of 108024, added 2443 (eff 27.36%) (0.122 FP/event)\n"
     ]
    },
    {
     "data": {
      "application/vnd.jupyter.widget-view+json": {
       "model_id": "",
       "version_major": 2,
       "version_minor": 0
      },
      "text/plain": [
       "HBox(children=(FloatProgress(value=0.0, description='Training', layout=Layout(flex='2'), max=6667.0, style=Pro…"
      ]
     },
     "metadata": {},
     "output_type": "display_data"
    },
    {
     "name": "stdout",
     "output_type": "stream",
     "text": [
      "Epoch 12: train=12.9965, val=12.6556, took 611.89 s\n",
      "  Validation Found 32079 of 108024, added 3190 (eff 29.70%) (0.159 FP/event)\n"
     ]
    },
    {
     "data": {
      "application/vnd.jupyter.widget-view+json": {
       "model_id": "",
       "version_major": 2,
       "version_minor": 0
      },
      "text/plain": [
       "HBox(children=(FloatProgress(value=0.0, description='Training', layout=Layout(flex='2'), max=6667.0, style=Pro…"
      ]
     },
     "metadata": {},
     "output_type": "display_data"
    },
    {
     "name": "stdout",
     "output_type": "stream",
     "text": [
      "Epoch 13: train=12.8526, val=12.181, took 613.84 s\n",
      "  Validation Found 33683 of 108024, added 3043 (eff 31.18%) (0.152 FP/event)\n"
     ]
    },
    {
     "data": {
      "application/vnd.jupyter.widget-view+json": {
       "model_id": "",
       "version_major": 2,
       "version_minor": 0
      },
      "text/plain": [
       "HBox(children=(FloatProgress(value=0.0, description='Training', layout=Layout(flex='2'), max=6667.0, style=Pro…"
      ]
     },
     "metadata": {},
     "output_type": "display_data"
    },
    {
     "name": "stdout",
     "output_type": "stream",
     "text": [
      "Epoch 14: train=12.7115, val=12.0276, took 604.93 s\n",
      "  Validation Found 34049 of 108024, added 3005 (eff 31.52%) (0.15 FP/event)\n"
     ]
    },
    {
     "data": {
      "application/vnd.jupyter.widget-view+json": {
       "model_id": "",
       "version_major": 2,
       "version_minor": 0
      },
      "text/plain": [
       "HBox(children=(FloatProgress(value=0.0, description='Training', layout=Layout(flex='2'), max=6667.0, style=Pro…"
      ]
     },
     "metadata": {},
     "output_type": "display_data"
    },
    {
     "name": "stdout",
     "output_type": "stream",
     "text": [
      "Epoch 15: train=12.5865, val=12.1362, took 611.23 s\n",
      "  Validation Found 34987 of 108024, added 3282 (eff 32.39%) (0.164 FP/event)\n"
     ]
    },
    {
     "data": {
      "application/vnd.jupyter.widget-view+json": {
       "model_id": "",
       "version_major": 2,
       "version_minor": 0
      },
      "text/plain": [
       "HBox(children=(FloatProgress(value=0.0, description='Training', layout=Layout(flex='2'), max=6667.0, style=Pro…"
      ]
     },
     "metadata": {},
     "output_type": "display_data"
    },
    {
     "name": "stdout",
     "output_type": "stream",
     "text": [
      "Epoch 16: train=12.4741, val=11.8104, took 606.95 s\n",
      "  Validation Found 36310 of 108024, added 3268 (eff 33.61%) (0.163 FP/event)\n"
     ]
    },
    {
     "data": {
      "application/vnd.jupyter.widget-view+json": {
       "model_id": "",
       "version_major": 2,
       "version_minor": 0
      },
      "text/plain": [
       "HBox(children=(FloatProgress(value=0.0, description='Training', layout=Layout(flex='2'), max=6667.0, style=Pro…"
      ]
     },
     "metadata": {},
     "output_type": "display_data"
    },
    {
     "name": "stdout",
     "output_type": "stream",
     "text": [
      "Epoch 17: train=12.3809, val=11.7764, took 606.67 s\n",
      "  Validation Found 35478 of 108024, added 3186 (eff 32.84%) (0.159 FP/event)\n"
     ]
    },
    {
     "data": {
      "application/vnd.jupyter.widget-view+json": {
       "model_id": "",
       "version_major": 2,
       "version_minor": 0
      },
      "text/plain": [
       "HBox(children=(FloatProgress(value=0.0, description='Training', layout=Layout(flex='2'), max=6667.0, style=Pro…"
      ]
     },
     "metadata": {},
     "output_type": "display_data"
    },
    {
     "name": "stdout",
     "output_type": "stream",
     "text": [
      "Epoch 18: train=12.2885, val=11.6528, took 606.95 s\n",
      "  Validation Found 37444 of 108024, added 3508 (eff 34.66%) (0.175 FP/event)\n"
     ]
    },
    {
     "data": {
      "application/vnd.jupyter.widget-view+json": {
       "model_id": "",
       "version_major": 2,
       "version_minor": 0
      },
      "text/plain": [
       "HBox(children=(FloatProgress(value=0.0, description='Training', layout=Layout(flex='2'), max=6667.0, style=Pro…"
      ]
     },
     "metadata": {},
     "output_type": "display_data"
    },
    {
     "name": "stdout",
     "output_type": "stream",
     "text": [
      "Epoch 19: train=12.1918, val=12.0122, took 603.5 s\n",
      "  Validation Found 38098 of 108024, added 4059 (eff 35.27%) (0.203 FP/event)\n"
     ]
    },
    {
     "data": {
      "application/vnd.jupyter.widget-view+json": {
       "model_id": "",
       "version_major": 2,
       "version_minor": 0
      },
      "text/plain": [
       "HBox(children=(FloatProgress(value=0.0, description='Training', layout=Layout(flex='2'), max=6667.0, style=Pro…"
      ]
     },
     "metadata": {},
     "output_type": "display_data"
    },
    {
     "name": "stdout",
     "output_type": "stream",
     "text": [
      "Epoch 20: train=12.1216, val=11.4816, took 611.04 s\n",
      "  Validation Found 39064 of 108024, added 3811 (eff 36.16%) (0.191 FP/event)\n"
     ]
    },
    {
     "data": {
      "application/vnd.jupyter.widget-view+json": {
       "model_id": "",
       "version_major": 2,
       "version_minor": 0
      },
      "text/plain": [
       "HBox(children=(FloatProgress(value=0.0, description='Training', layout=Layout(flex='2'), max=6667.0, style=Pro…"
      ]
     },
     "metadata": {},
     "output_type": "display_data"
    },
    {
     "name": "stdout",
     "output_type": "stream",
     "text": [
      "Epoch 21: train=12.0483, val=11.701, took 659.19 s\n",
      "  Validation Found 38662 of 108024, added 3833 (eff 35.79%) (0.192 FP/event)\n"
     ]
    },
    {
     "data": {
      "application/vnd.jupyter.widget-view+json": {
       "model_id": "",
       "version_major": 2,
       "version_minor": 0
      },
      "text/plain": [
       "HBox(children=(FloatProgress(value=0.0, description='Training', layout=Layout(flex='2'), max=6667.0, style=Pro…"
      ]
     },
     "metadata": {},
     "output_type": "display_data"
    },
    {
     "name": "stdout",
     "output_type": "stream",
     "text": [
      "Epoch 22: train=11.9821, val=11.4231, took 606.51 s\n",
      "  Validation Found 40021 of 108024, added 4014 (eff 37.05%) (0.201 FP/event)\n"
     ]
    },
    {
     "data": {
      "application/vnd.jupyter.widget-view+json": {
       "model_id": "",
       "version_major": 2,
       "version_minor": 0
      },
      "text/plain": [
       "HBox(children=(FloatProgress(value=0.0, description='Training', layout=Layout(flex='2'), max=6667.0, style=Pro…"
      ]
     },
     "metadata": {},
     "output_type": "display_data"
    },
    {
     "name": "stdout",
     "output_type": "stream",
     "text": [
      "Epoch 23: train=11.9188, val=11.4255, took 605.87 s\n",
      "  Validation Found 40978 of 108024, added 4219 (eff 37.93%) (0.211 FP/event)\n"
     ]
    },
    {
     "data": {
      "application/vnd.jupyter.widget-view+json": {
       "model_id": "",
       "version_major": 2,
       "version_minor": 0
      },
      "text/plain": [
       "HBox(children=(FloatProgress(value=0.0, description='Training', layout=Layout(flex='2'), max=6667.0, style=Pro…"
      ]
     },
     "metadata": {},
     "output_type": "display_data"
    },
    {
     "name": "stdout",
     "output_type": "stream",
     "text": [
      "Epoch 24: train=11.8611, val=11.3955, took 606.0 s\n",
      "  Validation Found 41196 of 108024, added 4366 (eff 38.14%) (0.218 FP/event)\n"
     ]
    },
    {
     "data": {
      "application/vnd.jupyter.widget-view+json": {
       "model_id": "",
       "version_major": 2,
       "version_minor": 0
      },
      "text/plain": [
       "HBox(children=(FloatProgress(value=0.0, description='Training', layout=Layout(flex='2'), max=6667.0, style=Pro…"
      ]
     },
     "metadata": {},
     "output_type": "display_data"
    },
    {
     "name": "stdout",
     "output_type": "stream",
     "text": [
      "Epoch 25: train=11.7996, val=11.2206, took 605.02 s\n",
      "  Validation Found 40818 of 108024, added 4166 (eff 37.79%) (0.208 FP/event)\n"
     ]
    },
    {
     "data": {
      "application/vnd.jupyter.widget-view+json": {
       "model_id": "",
       "version_major": 2,
       "version_minor": 0
      },
      "text/plain": [
       "HBox(children=(FloatProgress(value=0.0, description='Training', layout=Layout(flex='2'), max=6667.0, style=Pro…"
      ]
     },
     "metadata": {},
     "output_type": "display_data"
    },
    {
     "name": "stdout",
     "output_type": "stream",
     "text": [
      "Epoch 26: train=11.74, val=11.325, took 610.17 s\n",
      "  Validation Found 42108 of 108024, added 4446 (eff 38.98%) (0.222 FP/event)\n"
     ]
    },
    {
     "data": {
      "application/vnd.jupyter.widget-view+json": {
       "model_id": "",
       "version_major": 2,
       "version_minor": 0
      },
      "text/plain": [
       "HBox(children=(FloatProgress(value=0.0, description='Training', layout=Layout(flex='2'), max=6667.0, style=Pro…"
      ]
     },
     "metadata": {},
     "output_type": "display_data"
    },
    {
     "name": "stdout",
     "output_type": "stream",
     "text": [
      "Epoch 27: train=11.698, val=11.5927, took 610.73 s\n",
      "  Validation Found 42488 of 108024, added 4712 (eff 39.33%) (0.236 FP/event)\n"
     ]
    },
    {
     "data": {
      "application/vnd.jupyter.widget-view+json": {
       "model_id": "",
       "version_major": 2,
       "version_minor": 0
      },
      "text/plain": [
       "HBox(children=(FloatProgress(value=0.0, description='Training', layout=Layout(flex='2'), max=6667.0, style=Pro…"
      ]
     },
     "metadata": {},
     "output_type": "display_data"
    },
    {
     "name": "stdout",
     "output_type": "stream",
     "text": [
      "Epoch 28: train=11.6587, val=11.1096, took 603.84 s\n",
      "  Validation Found 42638 of 108024, added 4487 (eff 39.47%) (0.224 FP/event)\n"
     ]
    },
    {
     "data": {
      "application/vnd.jupyter.widget-view+json": {
       "model_id": "",
       "version_major": 2,
       "version_minor": 0
      },
      "text/plain": [
       "HBox(children=(FloatProgress(value=0.0, description='Training', layout=Layout(flex='2'), max=6667.0, style=Pro…"
      ]
     },
     "metadata": {},
     "output_type": "display_data"
    },
    {
     "name": "stdout",
     "output_type": "stream",
     "text": [
      "Epoch 29: train=11.6124, val=11.324, took 603.22 s\n",
      "  Validation Found 42441 of 108024, added 4677 (eff 39.29%) (0.234 FP/event)\n"
     ]
    },
    {
     "data": {
      "application/vnd.jupyter.widget-view+json": {
       "model_id": "",
       "version_major": 2,
       "version_minor": 0
      },
      "text/plain": [
       "HBox(children=(FloatProgress(value=0.0, description='Training', layout=Layout(flex='2'), max=6667.0, style=Pro…"
      ]
     },
     "metadata": {},
     "output_type": "display_data"
    },
    {
     "name": "stdout",
     "output_type": "stream",
     "text": [
      "Epoch 30: train=11.5655, val=11.0717, took 604.81 s\n",
      "  Validation Found 44238 of 108024, added 4926 (eff 40.95%) (0.246 FP/event)\n"
     ]
    },
    {
     "data": {
      "application/vnd.jupyter.widget-view+json": {
       "model_id": "",
       "version_major": 2,
       "version_minor": 0
      },
      "text/plain": [
       "HBox(children=(FloatProgress(value=0.0, description='Training', layout=Layout(flex='2'), max=6667.0, style=Pro…"
      ]
     },
     "metadata": {},
     "output_type": "display_data"
    },
    {
     "name": "stdout",
     "output_type": "stream",
     "text": [
      "Epoch 31: train=11.5329, val=11.1333, took 605.92 s\n",
      "  Validation Found 44626 of 108024, added 5040 (eff 41.31%) (0.252 FP/event)\n"
     ]
    },
    {
     "data": {
      "application/vnd.jupyter.widget-view+json": {
       "model_id": "",
       "version_major": 2,
       "version_minor": 0
      },
      "text/plain": [
       "HBox(children=(FloatProgress(value=0.0, description='Training', layout=Layout(flex='2'), max=6667.0, style=Pro…"
      ]
     },
     "metadata": {},
     "output_type": "display_data"
    },
    {
     "name": "stdout",
     "output_type": "stream",
     "text": [
      "Epoch 32: train=11.4889, val=11.0344, took 606.0 s\n",
      "  Validation Found 43692 of 108024, added 4690 (eff 40.45%) (0.234 FP/event)\n"
     ]
    },
    {
     "data": {
      "application/vnd.jupyter.widget-view+json": {
       "model_id": "",
       "version_major": 2,
       "version_minor": 0
      },
      "text/plain": [
       "HBox(children=(FloatProgress(value=0.0, description='Training', layout=Layout(flex='2'), max=6667.0, style=Pro…"
      ]
     },
     "metadata": {},
     "output_type": "display_data"
    },
    {
     "name": "stdout",
     "output_type": "stream",
     "text": [
      "Epoch 33: train=11.4468, val=10.9784, took 603.42 s\n",
      "  Validation Found 44489 of 108024, added 4903 (eff 41.18%) (0.245 FP/event)\n"
     ]
    },
    {
     "data": {
      "application/vnd.jupyter.widget-view+json": {
       "model_id": "",
       "version_major": 2,
       "version_minor": 0
      },
      "text/plain": [
       "HBox(children=(FloatProgress(value=0.0, description='Training', layout=Layout(flex='2'), max=6667.0, style=Pro…"
      ]
     },
     "metadata": {},
     "output_type": "display_data"
    },
    {
     "name": "stdout",
     "output_type": "stream",
     "text": [
      "Epoch 34: train=11.415, val=10.9857, took 605.21 s\n",
      "  Validation Found 45209 of 108024, added 5102 (eff 41.85%) (0.255 FP/event)\n"
     ]
    },
    {
     "data": {
      "application/vnd.jupyter.widget-view+json": {
       "model_id": "",
       "version_major": 2,
       "version_minor": 0
      },
      "text/plain": [
       "HBox(children=(FloatProgress(value=0.0, description='Training', layout=Layout(flex='2'), max=6667.0, style=Pro…"
      ]
     },
     "metadata": {},
     "output_type": "display_data"
    },
    {
     "name": "stdout",
     "output_type": "stream",
     "text": [
      "Epoch 35: train=11.3789, val=10.8782, took 602.94 s\n",
      "  Validation Found 45010 of 108024, added 5042 (eff 41.67%) (0.252 FP/event)\n"
     ]
    },
    {
     "data": {
      "application/vnd.jupyter.widget-view+json": {
       "model_id": "",
       "version_major": 2,
       "version_minor": 0
      },
      "text/plain": [
       "HBox(children=(FloatProgress(value=0.0, description='Training', layout=Layout(flex='2'), max=6667.0, style=Pro…"
      ]
     },
     "metadata": {},
     "output_type": "display_data"
    },
    {
     "name": "stdout",
     "output_type": "stream",
     "text": [
      "Epoch 36: train=11.3553, val=10.8413, took 604.77 s\n",
      "  Validation Found 45053 of 108024, added 5033 (eff 41.71%) (0.252 FP/event)\n"
     ]
    },
    {
     "data": {
      "application/vnd.jupyter.widget-view+json": {
       "model_id": "",
       "version_major": 2,
       "version_minor": 0
      },
      "text/plain": [
       "HBox(children=(FloatProgress(value=0.0, description='Training', layout=Layout(flex='2'), max=6667.0, style=Pro…"
      ]
     },
     "metadata": {},
     "output_type": "display_data"
    },
    {
     "name": "stdout",
     "output_type": "stream",
     "text": [
      "Epoch 37: train=11.3203, val=10.9105, took 606.4 s\n",
      "  Validation Found 45526 of 108024, added 5142 (eff 42.14%) (0.257 FP/event)\n"
     ]
    },
    {
     "data": {
      "application/vnd.jupyter.widget-view+json": {
       "model_id": "",
       "version_major": 2,
       "version_minor": 0
      },
      "text/plain": [
       "HBox(children=(FloatProgress(value=0.0, description='Training', layout=Layout(flex='2'), max=6667.0, style=Pro…"
      ]
     },
     "metadata": {},
     "output_type": "display_data"
    },
    {
     "name": "stdout",
     "output_type": "stream",
     "text": [
      "Epoch 38: train=11.2915, val=10.9645, took 606.93 s\n",
      "  Validation Found 46239 of 108024, added 5402 (eff 42.80%) (0.27 FP/event)\n"
     ]
    },
    {
     "data": {
      "application/vnd.jupyter.widget-view+json": {
       "model_id": "",
       "version_major": 2,
       "version_minor": 0
      },
      "text/plain": [
       "HBox(children=(FloatProgress(value=0.0, description='Training', layout=Layout(flex='2'), max=6667.0, style=Pro…"
      ]
     },
     "metadata": {},
     "output_type": "display_data"
    },
    {
     "name": "stdout",
     "output_type": "stream",
     "text": [
      "Epoch 39: train=11.2616, val=10.8503, took 605.59 s\n",
      "  Validation Found 46846 of 108024, added 5504 (eff 43.37%) (0.275 FP/event)\n"
     ]
    },
    {
     "data": {
      "application/vnd.jupyter.widget-view+json": {
       "model_id": "",
       "version_major": 2,
       "version_minor": 0
      },
      "text/plain": [
       "HBox(children=(FloatProgress(value=0.0, description='Training', layout=Layout(flex='2'), max=6667.0, style=Pro…"
      ]
     },
     "metadata": {},
     "output_type": "display_data"
    },
    {
     "name": "stdout",
     "output_type": "stream",
     "text": [
      "Epoch 40: train=11.2397, val=10.8582, took 607.15 s\n",
      "  Validation Found 46091 of 108024, added 5269 (eff 42.67%) (0.263 FP/event)\n"
     ]
    },
    {
     "data": {
      "application/vnd.jupyter.widget-view+json": {
       "model_id": "",
       "version_major": 2,
       "version_minor": 0
      },
      "text/plain": [
       "HBox(children=(FloatProgress(value=0.0, description='Training', layout=Layout(flex='2'), max=6667.0, style=Pro…"
      ]
     },
     "metadata": {},
     "output_type": "display_data"
    },
    {
     "name": "stdout",
     "output_type": "stream",
     "text": [
      "Epoch 41: train=11.2104, val=10.7413, took 606.28 s\n",
      "  Validation Found 46180 of 108024, added 5278 (eff 42.75%) (0.264 FP/event)\n"
     ]
    },
    {
     "data": {
      "application/vnd.jupyter.widget-view+json": {
       "model_id": "",
       "version_major": 2,
       "version_minor": 0
      },
      "text/plain": [
       "HBox(children=(FloatProgress(value=0.0, description='Training', layout=Layout(flex='2'), max=6667.0, style=Pro…"
      ]
     },
     "metadata": {},
     "output_type": "display_data"
    },
    {
     "name": "stdout",
     "output_type": "stream",
     "text": [
      "Epoch 42: train=11.1939, val=11.3128, took 605.43 s\n",
      "  Validation Found 46602 of 108024, added 5457 (eff 43.14%) (0.273 FP/event)\n"
     ]
    },
    {
     "data": {
      "application/vnd.jupyter.widget-view+json": {
       "model_id": "",
       "version_major": 2,
       "version_minor": 0
      },
      "text/plain": [
       "HBox(children=(FloatProgress(value=0.0, description='Training', layout=Layout(flex='2'), max=6667.0, style=Pro…"
      ]
     },
     "metadata": {},
     "output_type": "display_data"
    },
    {
     "name": "stdout",
     "output_type": "stream",
     "text": [
      "Epoch 43: train=11.1617, val=11.0371, took 603.28 s\n",
      "  Validation Found 46286 of 108024, added 5289 (eff 42.85%) (0.264 FP/event)\n"
     ]
    },
    {
     "data": {
      "application/vnd.jupyter.widget-view+json": {
       "model_id": "",
       "version_major": 2,
       "version_minor": 0
      },
      "text/plain": [
       "HBox(children=(FloatProgress(value=0.0, description='Training', layout=Layout(flex='2'), max=6667.0, style=Pro…"
      ]
     },
     "metadata": {},
     "output_type": "display_data"
    },
    {
     "name": "stdout",
     "output_type": "stream",
     "text": [
      "Epoch 44: train=11.1345, val=10.6988, took 606.68 s\n",
      "  Validation Found 46909 of 108024, added 5294 (eff 43.42%) (0.265 FP/event)\n"
     ]
    },
    {
     "data": {
      "application/vnd.jupyter.widget-view+json": {
       "model_id": "",
       "version_major": 2,
       "version_minor": 0
      },
      "text/plain": [
       "HBox(children=(FloatProgress(value=0.0, description='Training', layout=Layout(flex='2'), max=6667.0, style=Pro…"
      ]
     },
     "metadata": {},
     "output_type": "display_data"
    },
    {
     "name": "stdout",
     "output_type": "stream",
     "text": [
      "Epoch 45: train=11.1113, val=10.5958, took 607.01 s\n",
      "  Validation Found 47054 of 108024, added 5290 (eff 43.56%) (0.264 FP/event)\n"
     ]
    },
    {
     "data": {
      "application/vnd.jupyter.widget-view+json": {
       "model_id": "",
       "version_major": 2,
       "version_minor": 0
      },
      "text/plain": [
       "HBox(children=(FloatProgress(value=0.0, description='Training', layout=Layout(flex='2'), max=6667.0, style=Pro…"
      ]
     },
     "metadata": {},
     "output_type": "display_data"
    },
    {
     "name": "stdout",
     "output_type": "stream",
     "text": [
      "Epoch 46: train=11.1029, val=10.591, took 606.75 s\n",
      "  Validation Found 46721 of 108024, added 5311 (eff 43.25%) (0.266 FP/event)\n"
     ]
    },
    {
     "data": {
      "application/vnd.jupyter.widget-view+json": {
       "model_id": "",
       "version_major": 2,
       "version_minor": 0
      },
      "text/plain": [
       "HBox(children=(FloatProgress(value=0.0, description='Training', layout=Layout(flex='2'), max=6667.0, style=Pro…"
      ]
     },
     "metadata": {},
     "output_type": "display_data"
    },
    {
     "name": "stdout",
     "output_type": "stream",
     "text": [
      "Epoch 47: train=11.0669, val=10.677, took 604.6 s\n",
      "  Validation Found 47978 of 108024, added 5745 (eff 44.41%) (0.287 FP/event)\n"
     ]
    },
    {
     "data": {
      "application/vnd.jupyter.widget-view+json": {
       "model_id": "",
       "version_major": 2,
       "version_minor": 0
      },
      "text/plain": [
       "HBox(children=(FloatProgress(value=0.0, description='Training', layout=Layout(flex='2'), max=6667.0, style=Pro…"
      ]
     },
     "metadata": {},
     "output_type": "display_data"
    },
    {
     "name": "stdout",
     "output_type": "stream",
     "text": [
      "Epoch 48: train=11.0498, val=10.6094, took 603.18 s\n",
      "  Validation Found 48220 of 108024, added 5751 (eff 44.64%) (0.288 FP/event)\n"
     ]
    },
    {
     "data": {
      "application/vnd.jupyter.widget-view+json": {
       "model_id": "",
       "version_major": 2,
       "version_minor": 0
      },
      "text/plain": [
       "HBox(children=(FloatProgress(value=0.0, description='Training', layout=Layout(flex='2'), max=6667.0, style=Pro…"
      ]
     },
     "metadata": {},
     "output_type": "display_data"
    },
    {
     "name": "stdout",
     "output_type": "stream",
     "text": [
      "Epoch 49: train=11.034, val=10.5211, took 602.4 s\n",
      "  Validation Found 48165 of 108024, added 5641 (eff 44.59%) (0.282 FP/event)\n",
      "\n"
     ]
    }
   ],
   "source": [
    "for result in trainNet(model, optimizer, loss,\n",
    "                        train_loader, val_loader,\n",
    "                        n_epochs, epoch_start=len(results),\n",
    "                        notebook=True):\n",
    "    \n",
    "    results = results.append(pd.Series(result._asdict()), ignore_index=True)\n",
    "    \n",
    "    xs = results.index\n",
    "##    print(\"xs = \",xs)\n",
    "    \n",
    "    # Update the plot above\n",
    "##    print(\"results.index = \",results.index,\"  results.cost\", results.cost)\n",
    "##    print(\"results.index = \",results.index,\"  results.val\", results.val)\n",
    "    lines['train'].set_data(results.index,results.cost)\n",
    "    lines['val'].set_data(results.index,results.val)\n",
    "    \n",
    "    #filter first cost epoch (can be really large)\n",
    "    max_cost = max(max(results.cost if len(results.cost)<2 else results.cost[1:]), max(results.val))\n",
    "    min_cost = min(min(results.cost), min(results.val))\n",
    "    \n",
    "    # The plot limits need updating too\n",
    "    \n",
    "    \n",
    "    \n",
    "    ax.set_ylim(min_cost*.9, max_cost*1.1)  \n",
    "    ax.set_xlim(-.5, len(results.cost) - .5)\n",
    "    \n",
    "    replace_in_ax(lax, lines['eff'], xs, results['eff_val'].apply(lambda x: x.eff_rate))\n",
    "    replace_in_ax(tax, lines['fp'], xs, results['eff_val'].apply(lambda x: x.fp_rate))\n",
    "    \n",
    "    # Redraw the figure\n",
    "    fig.canvas.draw()\n",
    "\n",
    "    # Save each model state dictionary\n",
    "    torch.save(model.state_dict(), output / f'{name}_{result.epoch}.pyt')"
   ]
  },
  {
   "cell_type": "code",
   "execution_count": 16,
   "metadata": {},
   "outputs": [],
   "source": [
    "torch.save(model.state_dict(), output / f'{name}_final.pyt')"
   ]
  },
  {
   "cell_type": "code",
   "execution_count": 17,
   "metadata": {},
   "outputs": [
    {
     "name": "stderr",
     "output_type": "stream",
     "text": [
      "/apps/miniconda3/envs/june2020-gpu/lib/python3.7/site-packages/pandas/core/generic.py:2505: PerformanceWarning: \n",
      "your performance may suffer as PyTables will pickle object types that it cannot\n",
      "map directly to c-types [inferred_type->mixed-integer,key->block1_values] [items->Index(['epoch', 'eff_val'], dtype='object')]\n",
      "\n",
      "  encoding=encoding,\n"
     ]
    }
   ],
   "source": [
    "results.to_hdf(f'{name}_stats.hdf5', 'results')"
   ]
  },
  {
   "cell_type": "code",
   "execution_count": 18,
   "metadata": {},
   "outputs": [
    {
     "data": {
      "application/javascript": [
       "/* Put everything inside the global mpl namespace */\n",
       "window.mpl = {};\n",
       "\n",
       "\n",
       "mpl.get_websocket_type = function() {\n",
       "    if (typeof(WebSocket) !== 'undefined') {\n",
       "        return WebSocket;\n",
       "    } else if (typeof(MozWebSocket) !== 'undefined') {\n",
       "        return MozWebSocket;\n",
       "    } else {\n",
       "        alert('Your browser does not have WebSocket support. ' +\n",
       "              'Please try Chrome, Safari or Firefox ≥ 6. ' +\n",
       "              'Firefox 4 and 5 are also supported but you ' +\n",
       "              'have to enable WebSockets in about:config.');\n",
       "    };\n",
       "}\n",
       "\n",
       "mpl.figure = function(figure_id, websocket, ondownload, parent_element) {\n",
       "    this.id = figure_id;\n",
       "\n",
       "    this.ws = websocket;\n",
       "\n",
       "    this.supports_binary = (this.ws.binaryType != undefined);\n",
       "\n",
       "    if (!this.supports_binary) {\n",
       "        var warnings = document.getElementById(\"mpl-warnings\");\n",
       "        if (warnings) {\n",
       "            warnings.style.display = 'block';\n",
       "            warnings.textContent = (\n",
       "                \"This browser does not support binary websocket messages. \" +\n",
       "                    \"Performance may be slow.\");\n",
       "        }\n",
       "    }\n",
       "\n",
       "    this.imageObj = new Image();\n",
       "\n",
       "    this.context = undefined;\n",
       "    this.message = undefined;\n",
       "    this.canvas = undefined;\n",
       "    this.rubberband_canvas = undefined;\n",
       "    this.rubberband_context = undefined;\n",
       "    this.format_dropdown = undefined;\n",
       "\n",
       "    this.image_mode = 'full';\n",
       "\n",
       "    this.root = $('<div/>');\n",
       "    this._root_extra_style(this.root)\n",
       "    this.root.attr('style', 'display: inline-block');\n",
       "\n",
       "    $(parent_element).append(this.root);\n",
       "\n",
       "    this._init_header(this);\n",
       "    this._init_canvas(this);\n",
       "    this._init_toolbar(this);\n",
       "\n",
       "    var fig = this;\n",
       "\n",
       "    this.waiting = false;\n",
       "\n",
       "    this.ws.onopen =  function () {\n",
       "            fig.send_message(\"supports_binary\", {value: fig.supports_binary});\n",
       "            fig.send_message(\"send_image_mode\", {});\n",
       "            if (mpl.ratio != 1) {\n",
       "                fig.send_message(\"set_dpi_ratio\", {'dpi_ratio': mpl.ratio});\n",
       "            }\n",
       "            fig.send_message(\"refresh\", {});\n",
       "        }\n",
       "\n",
       "    this.imageObj.onload = function() {\n",
       "            if (fig.image_mode == 'full') {\n",
       "                // Full images could contain transparency (where diff images\n",
       "                // almost always do), so we need to clear the canvas so that\n",
       "                // there is no ghosting.\n",
       "                fig.context.clearRect(0, 0, fig.canvas.width, fig.canvas.height);\n",
       "            }\n",
       "            fig.context.drawImage(fig.imageObj, 0, 0);\n",
       "        };\n",
       "\n",
       "    this.imageObj.onunload = function() {\n",
       "        fig.ws.close();\n",
       "    }\n",
       "\n",
       "    this.ws.onmessage = this._make_on_message_function(this);\n",
       "\n",
       "    this.ondownload = ondownload;\n",
       "}\n",
       "\n",
       "mpl.figure.prototype._init_header = function() {\n",
       "    var titlebar = $(\n",
       "        '<div class=\"ui-dialog-titlebar ui-widget-header ui-corner-all ' +\n",
       "        'ui-helper-clearfix\"/>');\n",
       "    var titletext = $(\n",
       "        '<div class=\"ui-dialog-title\" style=\"width: 100%; ' +\n",
       "        'text-align: center; padding: 3px;\"/>');\n",
       "    titlebar.append(titletext)\n",
       "    this.root.append(titlebar);\n",
       "    this.header = titletext[0];\n",
       "}\n",
       "\n",
       "\n",
       "\n",
       "mpl.figure.prototype._canvas_extra_style = function(canvas_div) {\n",
       "\n",
       "}\n",
       "\n",
       "\n",
       "mpl.figure.prototype._root_extra_style = function(canvas_div) {\n",
       "\n",
       "}\n",
       "\n",
       "mpl.figure.prototype._init_canvas = function() {\n",
       "    var fig = this;\n",
       "\n",
       "    var canvas_div = $('<div/>');\n",
       "\n",
       "    canvas_div.attr('style', 'position: relative; clear: both; outline: 0');\n",
       "\n",
       "    function canvas_keyboard_event(event) {\n",
       "        return fig.key_event(event, event['data']);\n",
       "    }\n",
       "\n",
       "    canvas_div.keydown('key_press', canvas_keyboard_event);\n",
       "    canvas_div.keyup('key_release', canvas_keyboard_event);\n",
       "    this.canvas_div = canvas_div\n",
       "    this._canvas_extra_style(canvas_div)\n",
       "    this.root.append(canvas_div);\n",
       "\n",
       "    var canvas = $('<canvas/>');\n",
       "    canvas.addClass('mpl-canvas');\n",
       "    canvas.attr('style', \"left: 0; top: 0; z-index: 0; outline: 0\")\n",
       "\n",
       "    this.canvas = canvas[0];\n",
       "    this.context = canvas[0].getContext(\"2d\");\n",
       "\n",
       "    var backingStore = this.context.backingStorePixelRatio ||\n",
       "\tthis.context.webkitBackingStorePixelRatio ||\n",
       "\tthis.context.mozBackingStorePixelRatio ||\n",
       "\tthis.context.msBackingStorePixelRatio ||\n",
       "\tthis.context.oBackingStorePixelRatio ||\n",
       "\tthis.context.backingStorePixelRatio || 1;\n",
       "\n",
       "    mpl.ratio = (window.devicePixelRatio || 1) / backingStore;\n",
       "\n",
       "    var rubberband = $('<canvas/>');\n",
       "    rubberband.attr('style', \"position: absolute; left: 0; top: 0; z-index: 1;\")\n",
       "\n",
       "    var pass_mouse_events = true;\n",
       "\n",
       "    canvas_div.resizable({\n",
       "        start: function(event, ui) {\n",
       "            pass_mouse_events = false;\n",
       "        },\n",
       "        resize: function(event, ui) {\n",
       "            fig.request_resize(ui.size.width, ui.size.height);\n",
       "        },\n",
       "        stop: function(event, ui) {\n",
       "            pass_mouse_events = true;\n",
       "            fig.request_resize(ui.size.width, ui.size.height);\n",
       "        },\n",
       "    });\n",
       "\n",
       "    function mouse_event_fn(event) {\n",
       "        if (pass_mouse_events)\n",
       "            return fig.mouse_event(event, event['data']);\n",
       "    }\n",
       "\n",
       "    rubberband.mousedown('button_press', mouse_event_fn);\n",
       "    rubberband.mouseup('button_release', mouse_event_fn);\n",
       "    // Throttle sequential mouse events to 1 every 20ms.\n",
       "    rubberband.mousemove('motion_notify', mouse_event_fn);\n",
       "\n",
       "    rubberband.mouseenter('figure_enter', mouse_event_fn);\n",
       "    rubberband.mouseleave('figure_leave', mouse_event_fn);\n",
       "\n",
       "    canvas_div.on(\"wheel\", function (event) {\n",
       "        event = event.originalEvent;\n",
       "        event['data'] = 'scroll'\n",
       "        if (event.deltaY < 0) {\n",
       "            event.step = 1;\n",
       "        } else {\n",
       "            event.step = -1;\n",
       "        }\n",
       "        mouse_event_fn(event);\n",
       "    });\n",
       "\n",
       "    canvas_div.append(canvas);\n",
       "    canvas_div.append(rubberband);\n",
       "\n",
       "    this.rubberband = rubberband;\n",
       "    this.rubberband_canvas = rubberband[0];\n",
       "    this.rubberband_context = rubberband[0].getContext(\"2d\");\n",
       "    this.rubberband_context.strokeStyle = \"#000000\";\n",
       "\n",
       "    this._resize_canvas = function(width, height) {\n",
       "        // Keep the size of the canvas, canvas container, and rubber band\n",
       "        // canvas in synch.\n",
       "        canvas_div.css('width', width)\n",
       "        canvas_div.css('height', height)\n",
       "\n",
       "        canvas.attr('width', width * mpl.ratio);\n",
       "        canvas.attr('height', height * mpl.ratio);\n",
       "        canvas.attr('style', 'width: ' + width + 'px; height: ' + height + 'px;');\n",
       "\n",
       "        rubberband.attr('width', width);\n",
       "        rubberband.attr('height', height);\n",
       "    }\n",
       "\n",
       "    // Set the figure to an initial 600x600px, this will subsequently be updated\n",
       "    // upon first draw.\n",
       "    this._resize_canvas(600, 600);\n",
       "\n",
       "    // Disable right mouse context menu.\n",
       "    $(this.rubberband_canvas).bind(\"contextmenu\",function(e){\n",
       "        return false;\n",
       "    });\n",
       "\n",
       "    function set_focus () {\n",
       "        canvas.focus();\n",
       "        canvas_div.focus();\n",
       "    }\n",
       "\n",
       "    window.setTimeout(set_focus, 100);\n",
       "}\n",
       "\n",
       "mpl.figure.prototype._init_toolbar = function() {\n",
       "    var fig = this;\n",
       "\n",
       "    var nav_element = $('<div/>');\n",
       "    nav_element.attr('style', 'width: 100%');\n",
       "    this.root.append(nav_element);\n",
       "\n",
       "    // Define a callback function for later on.\n",
       "    function toolbar_event(event) {\n",
       "        return fig.toolbar_button_onclick(event['data']);\n",
       "    }\n",
       "    function toolbar_mouse_event(event) {\n",
       "        return fig.toolbar_button_onmouseover(event['data']);\n",
       "    }\n",
       "\n",
       "    for(var toolbar_ind in mpl.toolbar_items) {\n",
       "        var name = mpl.toolbar_items[toolbar_ind][0];\n",
       "        var tooltip = mpl.toolbar_items[toolbar_ind][1];\n",
       "        var image = mpl.toolbar_items[toolbar_ind][2];\n",
       "        var method_name = mpl.toolbar_items[toolbar_ind][3];\n",
       "\n",
       "        if (!name) {\n",
       "            // put a spacer in here.\n",
       "            continue;\n",
       "        }\n",
       "        var button = $('<button/>');\n",
       "        button.addClass('ui-button ui-widget ui-state-default ui-corner-all ' +\n",
       "                        'ui-button-icon-only');\n",
       "        button.attr('role', 'button');\n",
       "        button.attr('aria-disabled', 'false');\n",
       "        button.click(method_name, toolbar_event);\n",
       "        button.mouseover(tooltip, toolbar_mouse_event);\n",
       "\n",
       "        var icon_img = $('<span/>');\n",
       "        icon_img.addClass('ui-button-icon-primary ui-icon');\n",
       "        icon_img.addClass(image);\n",
       "        icon_img.addClass('ui-corner-all');\n",
       "\n",
       "        var tooltip_span = $('<span/>');\n",
       "        tooltip_span.addClass('ui-button-text');\n",
       "        tooltip_span.html(tooltip);\n",
       "\n",
       "        button.append(icon_img);\n",
       "        button.append(tooltip_span);\n",
       "\n",
       "        nav_element.append(button);\n",
       "    }\n",
       "\n",
       "    var fmt_picker_span = $('<span/>');\n",
       "\n",
       "    var fmt_picker = $('<select/>');\n",
       "    fmt_picker.addClass('mpl-toolbar-option ui-widget ui-widget-content');\n",
       "    fmt_picker_span.append(fmt_picker);\n",
       "    nav_element.append(fmt_picker_span);\n",
       "    this.format_dropdown = fmt_picker[0];\n",
       "\n",
       "    for (var ind in mpl.extensions) {\n",
       "        var fmt = mpl.extensions[ind];\n",
       "        var option = $(\n",
       "            '<option/>', {selected: fmt === mpl.default_extension}).html(fmt);\n",
       "        fmt_picker.append(option);\n",
       "    }\n",
       "\n",
       "    // Add hover states to the ui-buttons\n",
       "    $( \".ui-button\" ).hover(\n",
       "        function() { $(this).addClass(\"ui-state-hover\");},\n",
       "        function() { $(this).removeClass(\"ui-state-hover\");}\n",
       "    );\n",
       "\n",
       "    var status_bar = $('<span class=\"mpl-message\"/>');\n",
       "    nav_element.append(status_bar);\n",
       "    this.message = status_bar[0];\n",
       "}\n",
       "\n",
       "mpl.figure.prototype.request_resize = function(x_pixels, y_pixels) {\n",
       "    // Request matplotlib to resize the figure. Matplotlib will then trigger a resize in the client,\n",
       "    // which will in turn request a refresh of the image.\n",
       "    this.send_message('resize', {'width': x_pixels, 'height': y_pixels});\n",
       "}\n",
       "\n",
       "mpl.figure.prototype.send_message = function(type, properties) {\n",
       "    properties['type'] = type;\n",
       "    properties['figure_id'] = this.id;\n",
       "    this.ws.send(JSON.stringify(properties));\n",
       "}\n",
       "\n",
       "mpl.figure.prototype.send_draw_message = function() {\n",
       "    if (!this.waiting) {\n",
       "        this.waiting = true;\n",
       "        this.ws.send(JSON.stringify({type: \"draw\", figure_id: this.id}));\n",
       "    }\n",
       "}\n",
       "\n",
       "\n",
       "mpl.figure.prototype.handle_save = function(fig, msg) {\n",
       "    var format_dropdown = fig.format_dropdown;\n",
       "    var format = format_dropdown.options[format_dropdown.selectedIndex].value;\n",
       "    fig.ondownload(fig, format);\n",
       "}\n",
       "\n",
       "\n",
       "mpl.figure.prototype.handle_resize = function(fig, msg) {\n",
       "    var size = msg['size'];\n",
       "    if (size[0] != fig.canvas.width || size[1] != fig.canvas.height) {\n",
       "        fig._resize_canvas(size[0], size[1]);\n",
       "        fig.send_message(\"refresh\", {});\n",
       "    };\n",
       "}\n",
       "\n",
       "mpl.figure.prototype.handle_rubberband = function(fig, msg) {\n",
       "    var x0 = msg['x0'] / mpl.ratio;\n",
       "    var y0 = (fig.canvas.height - msg['y0']) / mpl.ratio;\n",
       "    var x1 = msg['x1'] / mpl.ratio;\n",
       "    var y1 = (fig.canvas.height - msg['y1']) / mpl.ratio;\n",
       "    x0 = Math.floor(x0) + 0.5;\n",
       "    y0 = Math.floor(y0) + 0.5;\n",
       "    x1 = Math.floor(x1) + 0.5;\n",
       "    y1 = Math.floor(y1) + 0.5;\n",
       "    var min_x = Math.min(x0, x1);\n",
       "    var min_y = Math.min(y0, y1);\n",
       "    var width = Math.abs(x1 - x0);\n",
       "    var height = Math.abs(y1 - y0);\n",
       "\n",
       "    fig.rubberband_context.clearRect(\n",
       "        0, 0, fig.canvas.width / mpl.ratio, fig.canvas.height / mpl.ratio);\n",
       "\n",
       "    fig.rubberband_context.strokeRect(min_x, min_y, width, height);\n",
       "}\n",
       "\n",
       "mpl.figure.prototype.handle_figure_label = function(fig, msg) {\n",
       "    // Updates the figure title.\n",
       "    fig.header.textContent = msg['label'];\n",
       "}\n",
       "\n",
       "mpl.figure.prototype.handle_cursor = function(fig, msg) {\n",
       "    var cursor = msg['cursor'];\n",
       "    switch(cursor)\n",
       "    {\n",
       "    case 0:\n",
       "        cursor = 'pointer';\n",
       "        break;\n",
       "    case 1:\n",
       "        cursor = 'default';\n",
       "        break;\n",
       "    case 2:\n",
       "        cursor = 'crosshair';\n",
       "        break;\n",
       "    case 3:\n",
       "        cursor = 'move';\n",
       "        break;\n",
       "    }\n",
       "    fig.rubberband_canvas.style.cursor = cursor;\n",
       "}\n",
       "\n",
       "mpl.figure.prototype.handle_message = function(fig, msg) {\n",
       "    fig.message.textContent = msg['message'];\n",
       "}\n",
       "\n",
       "mpl.figure.prototype.handle_draw = function(fig, msg) {\n",
       "    // Request the server to send over a new figure.\n",
       "    fig.send_draw_message();\n",
       "}\n",
       "\n",
       "mpl.figure.prototype.handle_image_mode = function(fig, msg) {\n",
       "    fig.image_mode = msg['mode'];\n",
       "}\n",
       "\n",
       "mpl.figure.prototype.updated_canvas_event = function() {\n",
       "    // Called whenever the canvas gets updated.\n",
       "    this.send_message(\"ack\", {});\n",
       "}\n",
       "\n",
       "// A function to construct a web socket function for onmessage handling.\n",
       "// Called in the figure constructor.\n",
       "mpl.figure.prototype._make_on_message_function = function(fig) {\n",
       "    return function socket_on_message(evt) {\n",
       "        if (evt.data instanceof Blob) {\n",
       "            /* FIXME: We get \"Resource interpreted as Image but\n",
       "             * transferred with MIME type text/plain:\" errors on\n",
       "             * Chrome.  But how to set the MIME type?  It doesn't seem\n",
       "             * to be part of the websocket stream */\n",
       "            evt.data.type = \"image/png\";\n",
       "\n",
       "            /* Free the memory for the previous frames */\n",
       "            if (fig.imageObj.src) {\n",
       "                (window.URL || window.webkitURL).revokeObjectURL(\n",
       "                    fig.imageObj.src);\n",
       "            }\n",
       "\n",
       "            fig.imageObj.src = (window.URL || window.webkitURL).createObjectURL(\n",
       "                evt.data);\n",
       "            fig.updated_canvas_event();\n",
       "            fig.waiting = false;\n",
       "            return;\n",
       "        }\n",
       "        else if (typeof evt.data === 'string' && evt.data.slice(0, 21) == \"data:image/png;base64\") {\n",
       "            fig.imageObj.src = evt.data;\n",
       "            fig.updated_canvas_event();\n",
       "            fig.waiting = false;\n",
       "            return;\n",
       "        }\n",
       "\n",
       "        var msg = JSON.parse(evt.data);\n",
       "        var msg_type = msg['type'];\n",
       "\n",
       "        // Call the  \"handle_{type}\" callback, which takes\n",
       "        // the figure and JSON message as its only arguments.\n",
       "        try {\n",
       "            var callback = fig[\"handle_\" + msg_type];\n",
       "        } catch (e) {\n",
       "            console.log(\"No handler for the '\" + msg_type + \"' message type: \", msg);\n",
       "            return;\n",
       "        }\n",
       "\n",
       "        if (callback) {\n",
       "            try {\n",
       "                // console.log(\"Handling '\" + msg_type + \"' message: \", msg);\n",
       "                callback(fig, msg);\n",
       "            } catch (e) {\n",
       "                console.log(\"Exception inside the 'handler_\" + msg_type + \"' callback:\", e, e.stack, msg);\n",
       "            }\n",
       "        }\n",
       "    };\n",
       "}\n",
       "\n",
       "// from http://stackoverflow.com/questions/1114465/getting-mouse-location-in-canvas\n",
       "mpl.findpos = function(e) {\n",
       "    //this section is from http://www.quirksmode.org/js/events_properties.html\n",
       "    var targ;\n",
       "    if (!e)\n",
       "        e = window.event;\n",
       "    if (e.target)\n",
       "        targ = e.target;\n",
       "    else if (e.srcElement)\n",
       "        targ = e.srcElement;\n",
       "    if (targ.nodeType == 3) // defeat Safari bug\n",
       "        targ = targ.parentNode;\n",
       "\n",
       "    // jQuery normalizes the pageX and pageY\n",
       "    // pageX,Y are the mouse positions relative to the document\n",
       "    // offset() returns the position of the element relative to the document\n",
       "    var x = e.pageX - $(targ).offset().left;\n",
       "    var y = e.pageY - $(targ).offset().top;\n",
       "\n",
       "    return {\"x\": x, \"y\": y};\n",
       "};\n",
       "\n",
       "/*\n",
       " * return a copy of an object with only non-object keys\n",
       " * we need this to avoid circular references\n",
       " * http://stackoverflow.com/a/24161582/3208463\n",
       " */\n",
       "function simpleKeys (original) {\n",
       "  return Object.keys(original).reduce(function (obj, key) {\n",
       "    if (typeof original[key] !== 'object')\n",
       "        obj[key] = original[key]\n",
       "    return obj;\n",
       "  }, {});\n",
       "}\n",
       "\n",
       "mpl.figure.prototype.mouse_event = function(event, name) {\n",
       "    var canvas_pos = mpl.findpos(event)\n",
       "\n",
       "    if (name === 'button_press')\n",
       "    {\n",
       "        this.canvas.focus();\n",
       "        this.canvas_div.focus();\n",
       "    }\n",
       "\n",
       "    var x = canvas_pos.x * mpl.ratio;\n",
       "    var y = canvas_pos.y * mpl.ratio;\n",
       "\n",
       "    this.send_message(name, {x: x, y: y, button: event.button,\n",
       "                             step: event.step,\n",
       "                             guiEvent: simpleKeys(event)});\n",
       "\n",
       "    /* This prevents the web browser from automatically changing to\n",
       "     * the text insertion cursor when the button is pressed.  We want\n",
       "     * to control all of the cursor setting manually through the\n",
       "     * 'cursor' event from matplotlib */\n",
       "    event.preventDefault();\n",
       "    return false;\n",
       "}\n",
       "\n",
       "mpl.figure.prototype._key_event_extra = function(event, name) {\n",
       "    // Handle any extra behaviour associated with a key event\n",
       "}\n",
       "\n",
       "mpl.figure.prototype.key_event = function(event, name) {\n",
       "\n",
       "    // Prevent repeat events\n",
       "    if (name == 'key_press')\n",
       "    {\n",
       "        if (event.which === this._key)\n",
       "            return;\n",
       "        else\n",
       "            this._key = event.which;\n",
       "    }\n",
       "    if (name == 'key_release')\n",
       "        this._key = null;\n",
       "\n",
       "    var value = '';\n",
       "    if (event.ctrlKey && event.which != 17)\n",
       "        value += \"ctrl+\";\n",
       "    if (event.altKey && event.which != 18)\n",
       "        value += \"alt+\";\n",
       "    if (event.shiftKey && event.which != 16)\n",
       "        value += \"shift+\";\n",
       "\n",
       "    value += 'k';\n",
       "    value += event.which.toString();\n",
       "\n",
       "    this._key_event_extra(event, name);\n",
       "\n",
       "    this.send_message(name, {key: value,\n",
       "                             guiEvent: simpleKeys(event)});\n",
       "    return false;\n",
       "}\n",
       "\n",
       "mpl.figure.prototype.toolbar_button_onclick = function(name) {\n",
       "    if (name == 'download') {\n",
       "        this.handle_save(this, null);\n",
       "    } else {\n",
       "        this.send_message(\"toolbar_button\", {name: name});\n",
       "    }\n",
       "};\n",
       "\n",
       "mpl.figure.prototype.toolbar_button_onmouseover = function(tooltip) {\n",
       "    this.message.textContent = tooltip;\n",
       "};\n",
       "mpl.toolbar_items = [[\"Home\", \"Reset original view\", \"fa fa-home icon-home\", \"home\"], [\"Back\", \"Back to previous view\", \"fa fa-arrow-left icon-arrow-left\", \"back\"], [\"Forward\", \"Forward to next view\", \"fa fa-arrow-right icon-arrow-right\", \"forward\"], [\"\", \"\", \"\", \"\"], [\"Pan\", \"Pan axes with left mouse, zoom with right\", \"fa fa-arrows icon-move\", \"pan\"], [\"Zoom\", \"Zoom to rectangle\", \"fa fa-square-o icon-check-empty\", \"zoom\"], [\"\", \"\", \"\", \"\"], [\"Download\", \"Download plot\", \"fa fa-floppy-o icon-save\", \"download\"]];\n",
       "\n",
       "mpl.extensions = [\"eps\", \"jpeg\", \"pdf\", \"png\", \"ps\", \"raw\", \"svg\", \"tif\"];\n",
       "\n",
       "mpl.default_extension = \"png\";var comm_websocket_adapter = function(comm) {\n",
       "    // Create a \"websocket\"-like object which calls the given IPython comm\n",
       "    // object with the appropriate methods. Currently this is a non binary\n",
       "    // socket, so there is still some room for performance tuning.\n",
       "    var ws = {};\n",
       "\n",
       "    ws.close = function() {\n",
       "        comm.close()\n",
       "    };\n",
       "    ws.send = function(m) {\n",
       "        //console.log('sending', m);\n",
       "        comm.send(m);\n",
       "    };\n",
       "    // Register the callback with on_msg.\n",
       "    comm.on_msg(function(msg) {\n",
       "        //console.log('receiving', msg['content']['data'], msg);\n",
       "        // Pass the mpl event to the overridden (by mpl) onmessage function.\n",
       "        ws.onmessage(msg['content']['data'])\n",
       "    });\n",
       "    return ws;\n",
       "}\n",
       "\n",
       "mpl.mpl_figure_comm = function(comm, msg) {\n",
       "    // This is the function which gets called when the mpl process\n",
       "    // starts-up an IPython Comm through the \"matplotlib\" channel.\n",
       "\n",
       "    var id = msg.content.data.id;\n",
       "    // Get hold of the div created by the display call when the Comm\n",
       "    // socket was opened in Python.\n",
       "    var element = $(\"#\" + id);\n",
       "    var ws_proxy = comm_websocket_adapter(comm)\n",
       "\n",
       "    function ondownload(figure, format) {\n",
       "        window.open(figure.imageObj.src);\n",
       "    }\n",
       "\n",
       "    var fig = new mpl.figure(id, ws_proxy,\n",
       "                           ondownload,\n",
       "                           element.get(0));\n",
       "\n",
       "    // Call onopen now - mpl needs it, as it is assuming we've passed it a real\n",
       "    // web socket which is closed, not our websocket->open comm proxy.\n",
       "    ws_proxy.onopen();\n",
       "\n",
       "    fig.parent_element = element.get(0);\n",
       "    fig.cell_info = mpl.find_output_cell(\"<div id='\" + id + \"'></div>\");\n",
       "    if (!fig.cell_info) {\n",
       "        console.error(\"Failed to find cell for figure\", id, fig);\n",
       "        return;\n",
       "    }\n",
       "\n",
       "    var output_index = fig.cell_info[2]\n",
       "    var cell = fig.cell_info[0];\n",
       "\n",
       "};\n",
       "\n",
       "mpl.figure.prototype.handle_close = function(fig, msg) {\n",
       "    var width = fig.canvas.width/mpl.ratio\n",
       "    fig.root.unbind('remove')\n",
       "\n",
       "    // Update the output cell to use the data from the current canvas.\n",
       "    fig.push_to_output();\n",
       "    var dataURL = fig.canvas.toDataURL();\n",
       "    // Re-enable the keyboard manager in IPython - without this line, in FF,\n",
       "    // the notebook keyboard shortcuts fail.\n",
       "    IPython.keyboard_manager.enable()\n",
       "    $(fig.parent_element).html('<img src=\"' + dataURL + '\" width=\"' + width + '\">');\n",
       "    fig.close_ws(fig, msg);\n",
       "}\n",
       "\n",
       "mpl.figure.prototype.close_ws = function(fig, msg){\n",
       "    fig.send_message('closing', msg);\n",
       "    // fig.ws.close()\n",
       "}\n",
       "\n",
       "mpl.figure.prototype.push_to_output = function(remove_interactive) {\n",
       "    // Turn the data on the canvas into data in the output cell.\n",
       "    var width = this.canvas.width/mpl.ratio\n",
       "    var dataURL = this.canvas.toDataURL();\n",
       "    this.cell_info[1]['text/html'] = '<img src=\"' + dataURL + '\" width=\"' + width + '\">';\n",
       "}\n",
       "\n",
       "mpl.figure.prototype.updated_canvas_event = function() {\n",
       "    // Tell IPython that the notebook contents must change.\n",
       "    IPython.notebook.set_dirty(true);\n",
       "    this.send_message(\"ack\", {});\n",
       "    var fig = this;\n",
       "    // Wait a second, then push the new image to the DOM so\n",
       "    // that it is saved nicely (might be nice to debounce this).\n",
       "    setTimeout(function () { fig.push_to_output() }, 1000);\n",
       "}\n",
       "\n",
       "mpl.figure.prototype._init_toolbar = function() {\n",
       "    var fig = this;\n",
       "\n",
       "    var nav_element = $('<div/>');\n",
       "    nav_element.attr('style', 'width: 100%');\n",
       "    this.root.append(nav_element);\n",
       "\n",
       "    // Define a callback function for later on.\n",
       "    function toolbar_event(event) {\n",
       "        return fig.toolbar_button_onclick(event['data']);\n",
       "    }\n",
       "    function toolbar_mouse_event(event) {\n",
       "        return fig.toolbar_button_onmouseover(event['data']);\n",
       "    }\n",
       "\n",
       "    for(var toolbar_ind in mpl.toolbar_items){\n",
       "        var name = mpl.toolbar_items[toolbar_ind][0];\n",
       "        var tooltip = mpl.toolbar_items[toolbar_ind][1];\n",
       "        var image = mpl.toolbar_items[toolbar_ind][2];\n",
       "        var method_name = mpl.toolbar_items[toolbar_ind][3];\n",
       "\n",
       "        if (!name) { continue; };\n",
       "\n",
       "        var button = $('<button class=\"btn btn-default\" href=\"#\" title=\"' + name + '\"><i class=\"fa ' + image + ' fa-lg\"></i></button>');\n",
       "        button.click(method_name, toolbar_event);\n",
       "        button.mouseover(tooltip, toolbar_mouse_event);\n",
       "        nav_element.append(button);\n",
       "    }\n",
       "\n",
       "    // Add the status bar.\n",
       "    var status_bar = $('<span class=\"mpl-message\" style=\"text-align:right; float: right;\"/>');\n",
       "    nav_element.append(status_bar);\n",
       "    this.message = status_bar[0];\n",
       "\n",
       "    // Add the close button to the window.\n",
       "    var buttongrp = $('<div class=\"btn-group inline pull-right\"></div>');\n",
       "    var button = $('<button class=\"btn btn-mini btn-primary\" href=\"#\" title=\"Stop Interaction\"><i class=\"fa fa-power-off icon-remove icon-large\"></i></button>');\n",
       "    button.click(function (evt) { fig.handle_close(fig, {}); } );\n",
       "    button.mouseover('Stop Interaction', toolbar_mouse_event);\n",
       "    buttongrp.append(button);\n",
       "    var titlebar = this.root.find($('.ui-dialog-titlebar'));\n",
       "    titlebar.prepend(buttongrp);\n",
       "}\n",
       "\n",
       "mpl.figure.prototype._root_extra_style = function(el){\n",
       "    var fig = this\n",
       "    el.on(\"remove\", function(){\n",
       "\tfig.close_ws(fig, {});\n",
       "    });\n",
       "}\n",
       "\n",
       "mpl.figure.prototype._canvas_extra_style = function(el){\n",
       "    // this is important to make the div 'focusable\n",
       "    el.attr('tabindex', 0)\n",
       "    // reach out to IPython and tell the keyboard manager to turn it's self\n",
       "    // off when our div gets focus\n",
       "\n",
       "    // location in version 3\n",
       "    if (IPython.notebook.keyboard_manager) {\n",
       "        IPython.notebook.keyboard_manager.register_events(el);\n",
       "    }\n",
       "    else {\n",
       "        // location in version 2\n",
       "        IPython.keyboard_manager.register_events(el);\n",
       "    }\n",
       "\n",
       "}\n",
       "\n",
       "mpl.figure.prototype._key_event_extra = function(event, name) {\n",
       "    var manager = IPython.notebook.keyboard_manager;\n",
       "    if (!manager)\n",
       "        manager = IPython.keyboard_manager;\n",
       "\n",
       "    // Check for shift+enter\n",
       "    if (event.shiftKey && event.which == 13) {\n",
       "        this.canvas_div.blur();\n",
       "        // select the cell after this one\n",
       "        var index = IPython.notebook.find_cell_index(this.cell_info[0]);\n",
       "        IPython.notebook.select(index + 1);\n",
       "    }\n",
       "}\n",
       "\n",
       "mpl.figure.prototype.handle_save = function(fig, msg) {\n",
       "    fig.ondownload(fig, null);\n",
       "}\n",
       "\n",
       "\n",
       "mpl.find_output_cell = function(html_output) {\n",
       "    // Return the cell and output element which can be found *uniquely* in the notebook.\n",
       "    // Note - this is a bit hacky, but it is done because the \"notebook_saving.Notebook\"\n",
       "    // IPython event is triggered only after the cells have been serialised, which for\n",
       "    // our purposes (turning an active figure into a static one), is too late.\n",
       "    var cells = IPython.notebook.get_cells();\n",
       "    var ncells = cells.length;\n",
       "    for (var i=0; i<ncells; i++) {\n",
       "        var cell = cells[i];\n",
       "        if (cell.cell_type === 'code'){\n",
       "            for (var j=0; j<cell.output_area.outputs.length; j++) {\n",
       "                var data = cell.output_area.outputs[j];\n",
       "                if (data.data) {\n",
       "                    // IPython >= 3 moved mimebundle to data attribute of output\n",
       "                    data = data.data;\n",
       "                }\n",
       "                if (data['text/html'] == html_output) {\n",
       "                    return [cell, data, j];\n",
       "                }\n",
       "            }\n",
       "        }\n",
       "    }\n",
       "}\n",
       "\n",
       "// Register the function which deals with the matplotlib target/channel.\n",
       "// The kernel may be null if the page has been refreshed.\n",
       "if (IPython.notebook.kernel != null) {\n",
       "    IPython.notebook.kernel.comm_manager.register_target('matplotlib', mpl.mpl_figure_comm);\n",
       "}\n"
      ],
      "text/plain": [
       "<IPython.core.display.Javascript object>"
      ]
     },
     "metadata": {},
     "output_type": "display_data"
    },
    {
     "data": {
      "text/html": [
       "<img src=\"data:image/png;base64,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\" width=\"1000\">"
      ],
      "text/plain": [
       "<IPython.core.display.HTML object>"
      ]
     },
     "metadata": {},
     "output_type": "display_data"
    }
   ],
   "source": [
    "dual_train_plots(results.index,\n",
    "                 results.cost, results.val, \n",
    "                 results['eff_val'].apply(lambda x: x.eff_rate),\n",
    "                 results['eff_val'].apply(lambda x: x.fp_rate))\n",
    "plt.tight_layout()\n",
    "plt.savefig(str(output / f'{name}_stats_a.png'))"
   ]
  },
  {
   "cell_type": "markdown",
   "metadata": {},
   "source": [
    "Go ahead and save the final model (even though it was also saved above):"
   ]
  },
  {
   "cell_type": "markdown",
   "metadata": {},
   "source": [
    "Save the output results:"
   ]
  },
  {
   "cell_type": "code",
   "execution_count": 1,
   "metadata": {},
   "outputs": [],
   "source": [
    "##torch.cuda.empty_cache()\"\n",
    "##quit()\n",
    "\n"
   ]
  },
  {
   "cell_type": "code",
   "execution_count": null,
   "metadata": {},
   "outputs": [],
   "source": []
  }
 ],
 "metadata": {
  "kernelspec": {
   "display_name": "june2020-gpu",
   "language": "python",
   "name": "june2020-gpu"
  },
  "language_info": {
   "codemirror_mode": {
    "name": "ipython",
    "version": 3
   },
   "file_extension": ".py",
   "mimetype": "text/x-python",
   "name": "python",
   "nbconvert_exporter": "python",
   "pygments_lexer": "ipython3",
   "version": "3.7.6"
  }
 },
 "nbformat": 4,
 "nbformat_minor": 2
}
